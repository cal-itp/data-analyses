{
 "cells": [
  {
   "cell_type": "markdown",
   "id": "a1c88af3-6643-4915-afbe-c4abca271143",
   "metadata": {},
   "source": [
    "# Grab transit routes near the State Highway Network (SHN)\n",
    "\n",
    "* Find transit routes within 1 mile of the SHN.\n",
    "* Visualize from operator or highway point of view to see % parallel or intersecting\n",
    "\n",
    "Data Sources: \n",
    "* [SHN on Geoportal](https://opendata.arcgis.com/datasets/77f2d7ba94e040a78bfbe36feb6279da_0.geojson) > processed in `create_parallel_corridors.py` > exported to GCS > saved in catalog.\n",
    "* Transit routes: all transit routes, those in `gtfs_schedule.shapes` and those not, but found in `stops`. Use `traffic_ops/export_shapefiles.py` created `routes_assembled.parquet` in GCS > saved in catalog."
   ]
  },
  {
   "cell_type": "code",
   "execution_count": 1,
   "id": "8ca5f440-f961-4d22-b288-44a6eae5ea69",
   "metadata": {},
   "outputs": [
    {
     "name": "stderr",
     "output_type": "stream",
     "text": [
      "/opt/conda/lib/python3.9/site-packages/geopandas/_compat.py:111: UserWarning: The Shapely GEOS version (3.9.1-CAPI-1.14.2) is incompatible with the GEOS version PyGEOS was compiled with (3.10.1-CAPI-1.16.0). Conversions between both will be slow.\n",
      "  warnings.warn(\n"
     ]
    }
   ],
   "source": [
    "import branca\n",
    "import geopandas as gpd\n",
    "import intake\n",
    "import ipywidgets as widgets\n",
    "\n",
    "import pandas as pd\n",
    "\n",
    "from ipywidgets import *\n",
    "from IPython.display import Markdown\n",
    "from IPython.core.display import display\n",
    "\n",
    "import create_parallel_corridors\n",
    "import setup_corridors_stats\n",
    "from shared_utils import map_utils, geography_utils\n",
    "from shared_utils import calitp_color_palette as cp\n",
    "\n",
    "\n",
    "catalog = intake.open_catalog(\"*.yml\")\n",
    "\n",
    "IMG_PATH = create_parallel_corridors.IMG_PATH\n",
    "DATA_PATH = create_parallel_corridors.DATA_PATH"
   ]
  },
  {
   "cell_type": "markdown",
   "id": "dba854c8-a791-4dde-9e9f-a2cd01be3f7e",
   "metadata": {},
   "source": [
    "## Read in processed data \n",
    "\n",
    "The overlay/intersection between transit routes and highways:\n",
    "* % of transit route that intersection represents\n",
    "* % of highway that intersection represents\n",
    "\n",
    "If it passes a certain threshold for transit route (> 0.5?) **and** certain threshold for highway (> 0.1?), then count that transit route as parallel. Otherwise, intersecting.\n",
    "\n",
    "Play with thresholds and see what makes sense, visualize with interactive maps.\n",
    "\n",
    "Look at LA Metro, San Jose specifically to see if it is behaving as expected."
   ]
  },
  {
   "cell_type": "code",
   "execution_count": 2,
   "id": "bc41c7d9-36e9-41d1-9223-754db473e677",
   "metadata": {},
   "outputs": [
    {
     "data": {
      "text/plain": [
       "'\\ncreate_parallel_corridors.make_analysis_data(hwy_buffer_feet=\\n                       geography_utils.FEET_PER_MI, \\n                       pct_route_threshold = 0.3,\\n                       pct_highway_threshold = 0.1,\\n                       DATA_PATH = create_parallel_corridors.DATA_PATH\\n                      )\\n\\n\\n# For map, need highway to be 250 ft buffer\\n#highways = create_parallel_corridors.process_highways(buffer_feet=250)\\n#highways.to_parquet(f\"{DATA_PATH}highways.parquet\")\\n'"
      ]
     },
     "execution_count": 2,
     "metadata": {},
     "output_type": "execute_result"
    }
   ],
   "source": [
    "'''\n",
    "create_parallel_corridors.make_analysis_data(hwy_buffer_feet=\n",
    "                       geography_utils.FEET_PER_MI, \n",
    "                       pct_route_threshold = 0.3,\n",
    "                       pct_highway_threshold = 0.1,\n",
    "                       DATA_PATH = create_parallel_corridors.DATA_PATH\n",
    "                      )\n",
    "\n",
    "\n",
    "# For map, need highway to be 250 ft buffer\n",
    "#highways = create_parallel_corridors.process_highways(buffer_feet=250)\n",
    "#highways.to_parquet(f\"{DATA_PATH}highways.parquet\")\n",
    "'''"
   ]
  },
  {
   "cell_type": "markdown",
   "id": "187ba1d0-35ed-418e-b767-43506b3a2b3c",
   "metadata": {},
   "source": [
    "# Interactive Stats\n",
    "\n",
    "Be able to do dropdown to check how many routes are parallel or intersecting by highway or operator."
   ]
  },
  {
   "cell_type": "code",
   "execution_count": 3,
   "id": "70969d59-3b04-419d-800b-faf74527866d",
   "metadata": {},
   "outputs": [],
   "source": [
    "gdf = gpd.read_parquet(f\"{DATA_PATH}parallel_or_intersecting.parquet\")\n",
    "highways= gpd.read_parquet(f\"{DATA_PATH}highways.parquet\")"
   ]
  },
  {
   "cell_type": "markdown",
   "id": "a39eb61a-d191-4f63-b4cd-696785bcbfd1",
   "metadata": {},
   "source": [
    "## Aggregate to highway or operator\n",
    "\n",
    "Display these stats along with interactive map.\n",
    "\n",
    "Ref: [aggregation-examples.ipynb](./aggregation-examples.ipynb) for how to get to right unit of analysis.\n",
    "\n",
    "### Viability\n",
    "* for a route, it's only viable if the end to end trip is no more than 2x car trip time\n",
    "* can have all the parallel routes, but even smaller subset is viable"
   ]
  },
  {
   "cell_type": "code",
   "execution_count": 4,
   "id": "02960fd7-878a-4c31-b3ce-3a3aedc2d65e",
   "metadata": {},
   "outputs": [],
   "source": [
    "def display_operator_stats(df, select_col = \"itp_id\", operator_name = 182):\n",
    "    # Subset for the operator\n",
    "    operator_df = df[df[select_col]==operator_name]\n",
    "    operator_stats = (setup_corridors_stats.aggregate(operator_df, by=\"operator\")\n",
    "                      .sort_values(\"pct_parallel\", ascending=False)\n",
    "                      .reset_index(drop=True)\n",
    "                     )\n",
    "    \n",
    "    # Grab the highways that it intersects with\n",
    "    hwy_df = df[(df.Route.isin(operator_df.Route) & \n",
    "                 (df.County.isin(operator_df.County))\n",
    "                )]\n",
    "    hwy_stats = (setup_corridors_stats.aggregate(hwy_df, by=\"highway\")\n",
    "                 .sort_values(\"pct_parallel\", ascending=False)\n",
    "                 .reset_index(drop=True)\n",
    "                )\n",
    "\n",
    "    display(Markdown(f\"### Summary Stats for ITP ID: {operator_name}\"))\n",
    "    display(operator_stats)\n",
    "    \n",
    "    display(Markdown(f\"### Summary Stats for Highways that ITP ID {operator_name} Intersects\"))\n",
    "    display(hwy_stats)\n",
    "    \n",
    "   \n",
    "    make_transit_map(operator_df, hwy_df)"
   ]
  },
  {
   "cell_type": "code",
   "execution_count": 5,
   "id": "0c2b14ff-c599-4797-a0a1-4af5832f8607",
   "metadata": {},
   "outputs": [],
   "source": [
    "def make_transit_map(operator_df, hwy_df):\n",
    "    ## Add a map to show the operator's routes and highways from C1\n",
    "    \n",
    "    def data_to_plot(df):\n",
    "        keep_cols = [\"itp_id\", \"route_id\", \n",
    "                     \"Route\", \"County\", \"District\", \"RouteType\",\n",
    "                     \"pct_route\", \"pct_highway\", \"parallel\",\n",
    "                     \"geometry\"\n",
    "                    ]\n",
    "        df = df[keep_cols].reset_index(drop=True)\n",
    "        df = df.assign(\n",
    "            geometry = df.geometry.buffer(200).simplify(tolerance=100),\n",
    "        )\n",
    "\n",
    "        # Use simplify to make gdf smaller\n",
    "        # folium map is creating too large of an HTML file to check in\n",
    "\n",
    "        return df\n",
    "\n",
    "    to_map = data_to_plot(operator_df)\n",
    "    \n",
    "    # Set various components for map\n",
    "    hwys_popup_dict = {\n",
    "        \"Route\": \"Highway Route\",\n",
    "        \"RouteType\": \"Route Type\",\n",
    "        \"County\": \"County\"   \n",
    "    }\n",
    "\n",
    "    transit_popup_dict = {\n",
    "        \"itp_id\": \"Operator ITP ID\",\n",
    "        \"route_id\": \"Route ID\",\n",
    "        \"pct_route\": \"% overlapping route\",\n",
    "        \"pct_highway\": \"% overlapping highway\",\n",
    "    }\n",
    "\n",
    "    hwys_color = branca.colormap.StepColormap(\n",
    "        colors=[\"black\", \"gray\"],\n",
    "    )\n",
    "\n",
    "    colorscale = branca.colormap.StepColormap(\n",
    "        colors=[\n",
    "            cp.CALITP_CATEGORY_BRIGHT_COLORS[0], #blue\n",
    "            cp.CALITP_CATEGORY_BRIGHT_COLORS[1] # orange\n",
    "        ],\n",
    "    )\n",
    "    \n",
    "    # Instead of using county centroid, calculate centroid from transit_df\n",
    "    # Otherwise, it's too zoomed out from where transit routes are\n",
    "    transit_centroid = (to_map\n",
    "                        .to_crs(geography_utils.WGS84).geometry.centroid\n",
    "                        .iloc[0]\n",
    "                       )\n",
    "\n",
    "    LAYERS_DICT = {\n",
    "        \"Highways\": {\"df\": hwy_df,\n",
    "            \"plot_col\": \"Route\",\n",
    "            \"popup_dict\": hwys_popup_dict, \n",
    "            \"tooltip_dict\": hwys_popup_dict,\n",
    "            \"colorscale\": hwys_color,\n",
    "        },\n",
    "        \"Transit Routes\": {\"df\": to_map,\n",
    "            \"plot_col\": \"parallel\",\n",
    "            \"popup_dict\": transit_popup_dict, \n",
    "            \"tooltip_dict\": transit_popup_dict,\n",
    "            \"colorscale\": colorscale,\n",
    "        },\n",
    "    }\n",
    "    \n",
    "    LEGEND_URL = (\n",
    "        \"https://raw.githubusercontent.com/cal-itp/data-analyses/\"\n",
    "        \"main/bus_service_increase/\"\n",
    "        \"img/legend_intersecting_parallel.png\"\n",
    "    )\n",
    "    \n",
    "    LEGEND_DICT = {\n",
    "        \"legend_url\": LEGEND_URL,\n",
    "        \"legend_bottom\": 85,\n",
    "        \"legend_left\": 5,\n",
    "    }\n",
    "     \n",
    "    \n",
    "    fig = map_utils.make_folium_multiple_layers_map(\n",
    "        LAYERS_DICT,\n",
    "        fig_width = 700, fig_height = 700, \n",
    "        zoom=11, \n",
    "        centroid = [round(transit_centroid.y,2), \n",
    "                    round(transit_centroid.x, 2)], \n",
    "        title=f\"Parallel vs Intersecting Lines for {to_map.itp_id.iloc[0]}\",\n",
    "        legend_dict = LEGEND_DICT\n",
    "    )\n",
    "    \n",
    "    display(fig)\n",
    "    #fig.save(f\"{IMG_PATH}parallel_{operator_name}.html\")\n",
    "    #print(f\"{operator_name} map saved\")"
   ]
  },
  {
   "cell_type": "code",
   "execution_count": 6,
   "id": "e76d42f1-fae4-439f-8c30-59a6d2db5cd9",
   "metadata": {},
   "outputs": [],
   "source": [
    "def display_highway_stats(df, select_col = \"Route\", hwy_name = 5):\n",
    "    # Subset for highways\n",
    "    hwy_df = df[df[select_col]==hwy_name]\n",
    "    hwy_stats = (setup_corridors_stats.aggregate(hwy_df, by=\"highway\")\n",
    "                 .sort_values(\"pct_parallel\", ascending=False)\n",
    "                 .reset_index(drop=True)\n",
    "                )    \n",
    "    \n",
    "    # Grab the operators that hwys intersect with\n",
    "    operator_df = df[(df.itp_id.isin(hwy_df.itp_id))]\n",
    "    operator_stats = (setup_corridors_stats.aggregate(operator_df, by=\"operator\")\n",
    "                      .sort_values(\"pct_parallel\", ascending=False)\n",
    "                      .reset_index(drop=True)\n",
    "                     )\n",
    "    \n",
    "    display(Markdown(f\"### Summary Stats for Highway Route: {hwy_name}\"))\n",
    "    display(hwy_stats)\n",
    "\n",
    "    display(Markdown(f\"### Summary Stats for Operators Route {hwy_name} Intersects\"))\n",
    "    display(operator_stats)\n",
    "    "
   ]
  },
  {
   "cell_type": "code",
   "execution_count": 7,
   "id": "a42227e8-7b32-40ea-af07-20410a7ace3d",
   "metadata": {},
   "outputs": [],
   "source": [
    "## Think about how to wrap above interactive widget into a function\n",
    "# Be able to select agency, county, district, etc\n",
    "def interactive_widget(df, select_col):\n",
    "    \n",
    "    dropdown = widgets.Dropdown(\n",
    "        description=f\"{select_col.title()}\",\n",
    "        options=df[select_col].sort_values().unique().tolist(),\n",
    "    )\n",
    "    output = widgets.Output()\n",
    "\n",
    "    display(dropdown)\n",
    "    display(output)\n",
    "\n",
    "    def on_selection(*args):\n",
    "        output.clear_output()\n",
    "        with output:\n",
    "            if select_col==\"Route\":\n",
    "                display_highway_stats(df, select_col, dropdown.value)\n",
    "            elif select_col==\"itp_id\":\n",
    "                display_operator_stats(df, select_col, dropdown.value)\n",
    "\n",
    "    dropdown.observe(on_selection, names=\"value\")\n",
    "    on_selection()"
   ]
  },
  {
   "cell_type": "code",
   "execution_count": 8,
   "id": "b342df49-19fd-42c9-9ad8-06b2f6208fa8",
   "metadata": {},
   "outputs": [
    {
     "data": {
      "application/vnd.jupyter.widget-view+json": {
       "model_id": "4927c9f983dd4e2aa24691a022a73783",
       "version_major": 2,
       "version_minor": 0
      },
      "text/plain": [
       "Dropdown(description='Itp_Id', options=(4, 6, 10, 11, 13, 14, 15, 16, 17, 18, 21, 23, 29, 30, 33, 34, 35, 36, …"
      ]
     },
     "metadata": {},
     "output_type": "display_data"
    },
    {
     "data": {
      "application/vnd.jupyter.widget-view+json": {
       "model_id": "8d36d5ef613b474e9a0a5411a53a5801",
       "version_major": 2,
       "version_minor": 0
      },
      "text/plain": [
       "Output()"
      ]
     },
     "metadata": {},
     "output_type": "display_data"
    }
   ],
   "source": [
    "interactive_widget(gdf, \"itp_id\")"
   ]
  },
  {
   "cell_type": "code",
   "execution_count": 9,
   "id": "7c649cc8-7737-440f-b197-6596bd0d7663",
   "metadata": {},
   "outputs": [
    {
     "data": {
      "application/vnd.jupyter.widget-view+json": {
       "model_id": "906001cb90e743aba8d045730b61da28",
       "version_major": 2,
       "version_minor": 0
      },
      "text/plain": [
       "Dropdown(description='Route', options=(1, 2, 3, 4, 5, 6, 7, 8, 9, 10, 11, 12, 13, 14, 15, 16, 17, 18, 20, 22, …"
      ]
     },
     "metadata": {},
     "output_type": "display_data"
    },
    {
     "data": {
      "application/vnd.jupyter.widget-view+json": {
       "model_id": "6a54654e00bc400cb51ab2b218c2caa4",
       "version_major": 2,
       "version_minor": 0
      },
      "text/plain": [
       "Output()"
      ]
     },
     "metadata": {},
     "output_type": "display_data"
    }
   ],
   "source": [
    "interactive_widget(gdf, \"Route\")"
   ]
  },
  {
   "cell_type": "code",
   "execution_count": null,
   "id": "7bc92c41-8274-4886-bd95-5655692902ec",
   "metadata": {},
   "outputs": [],
   "source": []
  }
 ],
 "metadata": {
  "kernelspec": {
   "display_name": "Python 3 (ipykernel)",
   "language": "python",
   "name": "python3"
  },
  "language_info": {
   "codemirror_mode": {
    "name": "ipython",
    "version": 3
   },
   "file_extension": ".py",
   "mimetype": "text/x-python",
   "name": "python",
   "nbconvert_exporter": "python",
   "pygments_lexer": "ipython3",
   "version": "3.9.7"
  }
 },
 "nbformat": 4,
 "nbformat_minor": 5
}
