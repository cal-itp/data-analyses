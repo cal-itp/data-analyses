{
 "cells": [
  {
   "cell_type": "markdown",
   "id": "a1c88af3-6643-4915-afbe-c4abca271143",
   "metadata": {},
   "source": [
    "# Grab transit routes near the State Highway Network (SHN)\n",
    "\n",
    "Find transit routes within 1 mile of the SHN.\n",
    "\n",
    "Data Sources: \n",
    "* [SHN on Geoportal](https://opendata.arcgis.com/datasets/77f2d7ba94e040a78bfbe36feb6279da_0.geojson) > processed in `highway_transit_utils.py` > exported to GCS > saved in catalog.\n",
    "* Transit routes: all transit routes, those in `gtfs_schedule.shapes` and those not, but found in `stops`. Use `traffic_ops/export_shapefiles.py` created `routes_assembled.parquet` in GCS > saved in catalog."
   ]
  },
  {
   "cell_type": "code",
   "execution_count": 1,
   "id": "8ca5f440-f961-4d22-b288-44a6eae5ea69",
   "metadata": {},
   "outputs": [
    {
     "name": "stderr",
     "output_type": "stream",
     "text": [
      "/opt/conda/lib/python3.9/site-packages/geopandas/_compat.py:111: UserWarning: The Shapely GEOS version (3.9.1-CAPI-1.14.2) is incompatible with the GEOS version PyGEOS was compiled with (3.10.1-CAPI-1.16.0). Conversions between both will be slow.\n",
      "  warnings.warn(\n"
     ]
    }
   ],
   "source": [
    "import geopandas as gpd\n",
    "import intake\n",
    "import pandas as pd\n",
    "\n",
    "import highway_transit_utils\n",
    "from shared_utils import geography_utils\n",
    "\n",
    "catalog = intake.open_catalog(\"*.yml\")\n",
    "\n",
    "IMG_PATH = \"./img/\"\n",
    "DATA_PATH = \"./data/\""
   ]
  },
  {
   "cell_type": "code",
   "execution_count": null,
   "id": "39acda3a-4fe2-4c44-9856-e0a5f006e99c",
   "metadata": {},
   "outputs": [],
   "source": [
    "#overlay, highways, transit_routes = highway_transit_utils.overlay_transit_to_highways()\n",
    "\n",
    "#highways.to_parquet(f\"{DATA_PATH}highways.parquet\")\n",
    "#transit_routes.to_parquet(f\"{DATA_PATH}transit_routes.parquet\")\n",
    "#overlay.to_parquet(f\"{DATA_PATH}overlay.parquet\")"
   ]
  },
  {
   "cell_type": "code",
   "execution_count": null,
   "id": "e27676ab-578e-4d02-8820-ce1fae59186f",
   "metadata": {},
   "outputs": [],
   "source": [
    "gdf = gpd.read_parquet(f\"{DATA_PATH}overlay.parquet\")\n",
    "transit_routes = gpd.read_parquet(f\"{DATA_PATH}transit_routes.parquet\")\n",
    "highways.to_parquet(f\"{DATA_PATH}highways.parquet\")\n",
    "\n",
    "gdf = gdf.assign(\n",
    "    overlap_length = gdf.geometry.length,\n",
    "    pct = gdf.geometry.length / gdf.route_length,\n",
    ")\n",
    "\n",
    "gdf.pct.describe()"
   ]
  },
  {
   "cell_type": "code",
   "execution_count": null,
   "id": "061bcfdc-bab8-43bb-a76f-581c91baeb5a",
   "metadata": {},
   "outputs": [],
   "source": [
    "check_id = [182]\n",
    "#check_shape = [\"100713_DEC21\"]\n",
    "check_highway = [10]\n",
    "\n",
    "def subset_data(df, itp_id, route_id):\n",
    "    subset_df = df[(df.itp_id.isin(itp_id) &\n",
    "                   #(df.shape_id.isin(shape_id) & \n",
    "                   (df.Route.isin(route_id)))].reset_index(drop=True)\n",
    "    \n",
    "    return subset_df\n",
    "\n",
    "subset = subset_data(gdf, check_id, check_highway)"
   ]
  },
  {
   "cell_type": "code",
   "execution_count": null,
   "id": "2854e48f-d1ac-4493-9629-3855cb4359d3",
   "metadata": {},
   "outputs": [],
   "source": [
    "MAP_ME = [182, # LA Metro \n",
    "          294, # San Jose's Valley Transportation Authority\n",
    "          279, # BART\n",
    "          282, # SF Muni\n",
    "          278, # SD Metropolitan Transit System\n",
    "         ]\n",
    "for i in MAP_ME:\n",
    "    subset_df = transit_intersection2[transit_intersection2.itp_id==i]\n",
    "    print(f\"# routes originally for {i}: {transit_routes[transit_routes.itp_id==i].route_id.nunique()}\")\n",
    "    print(f\"# routes for {i}: {subset_df.route_id.nunique()}\")\n",
    "    display(subset_df.plot())"
   ]
  },
  {
   "cell_type": "code",
   "execution_count": null,
   "id": "c255c862-d896-40e9-a75d-4a81c3e6641f",
   "metadata": {},
   "outputs": [],
   "source": []
  }
 ],
 "metadata": {
  "kernelspec": {
   "display_name": "Python 3 (ipykernel)",
   "language": "python",
   "name": "python3"
  },
  "language_info": {
   "codemirror_mode": {
    "name": "ipython",
    "version": 3
   },
   "file_extension": ".py",
   "mimetype": "text/x-python",
   "name": "python",
   "nbconvert_exporter": "python",
   "pygments_lexer": "ipython3",
   "version": "3.9.7"
  }
 },
 "nbformat": 4,
 "nbformat_minor": 5
}
