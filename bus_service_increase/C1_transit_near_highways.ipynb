{
 "cells": [
  {
   "cell_type": "markdown",
   "id": "5e8b6838-7629-468c-9ef6-34f1950f72ef",
   "metadata": {},
   "source": [
    "# Parallel / Intersecting Bus Routes to the SHN"
   ]
  },
  {
   "cell_type": "code",
   "execution_count": 1,
   "id": "a54b19ae-65be-4677-92a2-7d07fd2ff0ee",
   "metadata": {},
   "outputs": [
    {
     "name": "stderr",
     "output_type": "stream",
     "text": [
      "/opt/conda/lib/python3.9/site-packages/geopandas/_compat.py:111: UserWarning: The Shapely GEOS version (3.10.2-CAPI-1.16.0) is incompatible with the GEOS version PyGEOS was compiled with (3.10.1-CAPI-1.16.0). Conversions between both will be slow.\n",
      "  warnings.warn(\n",
      "E0423 01:24:41.457946249    1172 fork_posix.cc:70]           Fork support is only compatible with the epoll1 and poll polling strategies\n",
      "E0423 01:24:44.967384650    1172 fork_posix.cc:70]           Fork support is only compatible with the epoll1 and poll polling strategies\n"
     ]
    }
   ],
   "source": [
    "import branca\n",
    "import geopandas as gpd\n",
    "import intake\n",
    "import ipywidgets as widgets\n",
    "import pandas as pd\n",
    "\n",
    "from IPython.display import Markdown, HTML\n",
    "\n",
    "import setup_corridors_stats\n",
    "from create_parallel_corridors import IMG_PATH, DATA_PATH\n",
    "from shared_utils import map_utils, geography_utils\n",
    "from shared_utils import calitp_color_palette as cp\n",
    "\n",
    "catalog = intake.open_catalog(\"./*.yml\")"
   ]
  },
  {
   "cell_type": "code",
   "execution_count": 2,
   "id": "9a07d267-b6fc-45e0-ab21-6b80e60d0663",
   "metadata": {},
   "outputs": [],
   "source": [
    "# Rename columns to better display\n",
    "rename_dict = {\n",
    "    \"itp_id\": \"ITP ID\",\n",
    "    \"pct_parallel\": \"% parallel\",\n",
    "    \"unique_route_id\": \"# Unique Bus Routes\",\n",
    "    \"num_parallel\": \"# Parallel Bus Routes\",\n",
    "}"
   ]
  },
  {
   "cell_type": "code",
   "execution_count": 3,
   "id": "02960fd7-878a-4c31-b3ce-3a3aedc2d65e",
   "metadata": {},
   "outputs": [],
   "source": [
    "def display_operator_stats(operator_stats, select_col = \"itp_id\", operator_name = 182):\n",
    "    operator_stats = operator_stats[operator_stats[select_col]==operator_name]\n",
    "    # Style table\n",
    "    operator_table = (operator_stats.sort_values(\"pct_parallel\", ascending=False)\n",
    "                      .rename(columns = rename_dict)\n",
    "                      .style.format({'% parallel': '{:,.1%}'})\n",
    "                      .hide(axis=\"index\")\n",
    "                      .to_html()\n",
    "    )    \n",
    "    \n",
    "    display(HTML(f\"<h2> Summary Stats for ITP ID: {operator_name}</h2>\"))\n",
    "    display(HTML(operator_table))"
   ]
  },
  {
   "cell_type": "code",
   "execution_count": 4,
   "id": "0c2b14ff-c599-4797-a0a1-4af5832f8607",
   "metadata": {},
   "outputs": [],
   "source": [
    "def make_transit_map(operator_df, hwy_df):    \n",
    "    def data_to_plot(df):\n",
    "        keep_cols = [\"itp_id\", \"route_id\", \n",
    "                     \"Route\", \"County\", \"District\", \"RouteType\",\n",
    "                     \"pct_route\", \"pct_highway\", \"parallel\",\n",
    "                     \"geometry\"\n",
    "                    ]\n",
    "        df = df[keep_cols].reset_index(drop=True)\n",
    "        df = df.assign(\n",
    "            geometry = df.geometry.buffer(200).simplify(tolerance=100),\n",
    "        )\n",
    "\n",
    "        # Use simplify to make gdf smaller\n",
    "        # folium map is creating too large of an HTML file to check in\n",
    "\n",
    "        return df\n",
    "\n",
    "    to_map = data_to_plot(operator_df)\n",
    "    \n",
    "    # Set various components for map\n",
    "    hwys_popup_dict = {\n",
    "        \"Route\": \"Highway Route\",\n",
    "        \"RouteType\": \"Route Type\",\n",
    "        \"County\": \"County\"   \n",
    "    }\n",
    "\n",
    "    transit_popup_dict = {\n",
    "        \"itp_id\": \"Operator ITP ID\",\n",
    "        \"route_id\": \"Route ID\",\n",
    "        \"pct_route\": \"% overlapping route\",\n",
    "        \"pct_highway\": \"% overlapping highway\",\n",
    "    }\n",
    "\n",
    "    hwys_color = branca.colormap.StepColormap(\n",
    "        colors=[\"black\", \"gray\"],\n",
    "    )\n",
    "\n",
    "    colorscale = branca.colormap.StepColormap(\n",
    "        colors=[\n",
    "            cp.CALITP_CATEGORY_BRIGHT_COLORS[0], #blue\n",
    "            cp.CALITP_CATEGORY_BRIGHT_COLORS[1] # orange\n",
    "        ],\n",
    "    )\n",
    "    \n",
    "    # Instead of using county centroid, calculate centroid from transit_df\n",
    "    # Otherwise, it's too zoomed out from where transit routes are\n",
    "    transit_centroid = (to_map\n",
    "                        .to_crs(geography_utils.WGS84).geometry.centroid\n",
    "                        .iloc[0]\n",
    "                       )\n",
    "\n",
    "    LAYERS_DICT = {\n",
    "        \"Highways\": {\"df\": hwy_df,\n",
    "            \"plot_col\": \"Route\",\n",
    "            \"popup_dict\": hwys_popup_dict, \n",
    "            \"tooltip_dict\": hwys_popup_dict,\n",
    "            \"colorscale\": hwys_color,\n",
    "        },\n",
    "        \"Transit Routes\": {\"df\": to_map,\n",
    "            \"plot_col\": \"parallel\",\n",
    "            \"popup_dict\": transit_popup_dict, \n",
    "            \"tooltip_dict\": transit_popup_dict,\n",
    "            \"colorscale\": colorscale,\n",
    "        },\n",
    "    }\n",
    "    \n",
    "    LEGEND_URL = (\n",
    "        \"https://github.com/cal-itp/data-analyses/raw/\"\n",
    "        \"main/bus_service_increase/\"\n",
    "        \"img/legend_intersecting_parallel.png\"\n",
    "    )\n",
    "    \n",
    "    LEGEND_DICT = {\n",
    "        \"legend_url\": LEGEND_URL,\n",
    "        \"legend_bottom\": 85,\n",
    "        \"legend_left\": 5,\n",
    "    }\n",
    "     \n",
    "    \n",
    "    fig = map_utils.make_folium_multiple_layers_map(\n",
    "        LAYERS_DICT,\n",
    "        fig_width = 700, fig_height = 700, \n",
    "        zoom=11, \n",
    "        centroid = [round(transit_centroid.y,2), \n",
    "                    round(transit_centroid.x, 2)], \n",
    "        title=f\"Parallel vs Intersecting Lines for {to_map.itp_id.iloc[0]}\",\n",
    "        legend_dict = LEGEND_DICT\n",
    "    )\n",
    "    \n",
    "    display(fig)\n",
    "    #fig.save(f\"{IMG_PATH}parallel_{operator_name}.html\")\n",
    "    #print(f\"{operator_name} map saved\")"
   ]
  },
  {
   "cell_type": "code",
   "execution_count": 5,
   "id": "6f0fe913-7263-4e32-980d-7a77b1f6a559",
   "metadata": {},
   "outputs": [],
   "source": [
    "def display_highway_stats(hwy_stats, select_col = \"Route\", hwy_name = 5):\n",
    "    # Subset for highways\n",
    "    hwy_stats = hwy_stats[hwy_stats[select_col]==hwy_name]\n",
    "    hwy_table = (hwy_stats.sort_values(\"pct_parallel\", ascending=False)\n",
    "                 .rename(columns = rename_dict)\n",
    "                 .reset_index(drop=True)\n",
    "                 .style.format({'% parallel': '{:,.1%}'})\n",
    "                 .hide(axis=\"index\")\n",
    "                 .to_html()\n",
    "                )    \n",
    "    \n",
    "    display(HTML(f\"<h2>Summary Stats for Highway Route: {hwy_name} </h2>\"))\n",
    "    display(HTML(hwy_table))\n",
    "    "
   ]
  },
  {
   "cell_type": "code",
   "execution_count": 6,
   "id": "a42227e8-7b32-40ea-af07-20410a7ace3d",
   "metadata": {},
   "outputs": [],
   "source": [
    "# Generalize selection column in ipywidget dropdown\n",
    "# Be able to select operator or highway route, etc\n",
    "def interactive_widget(select_col):\n",
    "    gdf = catalog.parallel_or_intersecting_routes.read()\n",
    "    operator_stats, hwy_stats, hwy_df = setup_corridors_stats.aggregated_transit_hwy_stats()    \n",
    "    \n",
    "    dropdown_labels = {\n",
    "        \"itp_id\": \"ITP ID\",\n",
    "        \"Route\": \"Hwy Route\",\n",
    "    }\n",
    "    \n",
    "    dropdown = widgets.Dropdown(\n",
    "        description=f\"{dropdown_labels[select_col]}\",\n",
    "        options=gdf[select_col].astype(int).sort_values().unique().tolist(),\n",
    "    )\n",
    "    output = widgets.Output()\n",
    "\n",
    "    display(dropdown)\n",
    "    display(output)\n",
    "\n",
    "    def on_selection(*args):\n",
    "        output.clear_output()\n",
    "        with output:\n",
    "            if select_col==\"Route\":\n",
    "                display_highway_stats(hwy_stats, select_col, dropdown.value)\n",
    "            elif select_col==\"itp_id\":\n",
    "                # Grab the full df and subset to specific\n",
    "                # Break out the map-making function so the relevant highways can be extracted\n",
    "                operator_df = gdf[gdf[select_col] == dropdown.value]\n",
    "                \n",
    "                display_operator_stats(operator_stats, select_col, dropdown.value)\n",
    "                make_transit_map(operator_df, hwy_df)\n",
    "\n",
    "    dropdown.observe(on_selection, names=\"value\")\n",
    "    on_selection()"
   ]
  },
  {
   "cell_type": "code",
   "execution_count": 7,
   "id": "b342df49-19fd-42c9-9ad8-06b2f6208fa8",
   "metadata": {},
   "outputs": [
    {
     "data": {
      "text/html": [
       "<h3>Parallel Corridor Stats by Operator </h3>"
      ],
      "text/plain": [
       "<IPython.core.display.HTML object>"
      ]
     },
     "metadata": {},
     "output_type": "display_data"
    },
    {
     "data": {
      "application/vnd.jupyter.widget-view+json": {
       "model_id": "0b89d388c161403e8cde88a2bce1698e",
       "version_major": 2,
       "version_minor": 0
      },
      "text/plain": [
       "Dropdown(description='ITP ID', options=(4, 6, 10, 11, 13, 14, 15, 16, 17, 18, 21, 23, 24, 29, 30, 33, 34, 35, …"
      ]
     },
     "metadata": {},
     "output_type": "display_data"
    },
    {
     "data": {
      "application/vnd.jupyter.widget-view+json": {
       "model_id": "44f0edfc711d48eebe12534b6661d02c",
       "version_major": 2,
       "version_minor": 0
      },
      "text/plain": [
       "Output()"
      ]
     },
     "metadata": {},
     "output_type": "display_data"
    }
   ],
   "source": [
    "display(HTML(\"<h3>Parallel Corridor Stats by Operator </h3>\"))\n",
    "interactive_widget(\"itp_id\")"
   ]
  },
  {
   "cell_type": "code",
   "execution_count": 8,
   "id": "7c649cc8-7737-440f-b197-6596bd0d7663",
   "metadata": {},
   "outputs": [
    {
     "data": {
      "text/html": [
       "<h3>Parallel Corridor Stats by Highway Route</h3>"
      ],
      "text/plain": [
       "<IPython.core.display.HTML object>"
      ]
     },
     "metadata": {},
     "output_type": "display_data"
    },
    {
     "ename": "IntCastingNaNError",
     "evalue": "Cannot convert non-finite values (NA or inf) to integer",
     "output_type": "error",
     "traceback": [
      "\u001b[0;31m---------------------------------------------------------------------------\u001b[0m",
      "\u001b[0;31mIntCastingNaNError\u001b[0m                        Traceback (most recent call last)",
      "Input \u001b[0;32mIn [8]\u001b[0m, in \u001b[0;36m<cell line: 2>\u001b[0;34m()\u001b[0m\n\u001b[1;32m      1\u001b[0m display(HTML(\u001b[38;5;124m\"\u001b[39m\u001b[38;5;124m<h3>Parallel Corridor Stats by Highway Route</h3>\u001b[39m\u001b[38;5;124m\"\u001b[39m))\n\u001b[0;32m----> 2\u001b[0m \u001b[43minteractive_widget\u001b[49m\u001b[43m(\u001b[49m\u001b[38;5;124;43m\"\u001b[39;49m\u001b[38;5;124;43mRoute\u001b[39;49m\u001b[38;5;124;43m\"\u001b[39;49m\u001b[43m)\u001b[49m\n",
      "Input \u001b[0;32mIn [6]\u001b[0m, in \u001b[0;36minteractive_widget\u001b[0;34m(select_col)\u001b[0m\n\u001b[1;32m      5\u001b[0m operator_stats, hwy_stats, hwy_df \u001b[38;5;241m=\u001b[39m setup_corridors_stats\u001b[38;5;241m.\u001b[39maggregated_transit_hwy_stats()    \n\u001b[1;32m      7\u001b[0m dropdown_labels \u001b[38;5;241m=\u001b[39m {\n\u001b[1;32m      8\u001b[0m     \u001b[38;5;124m\"\u001b[39m\u001b[38;5;124mitp_id\u001b[39m\u001b[38;5;124m\"\u001b[39m: \u001b[38;5;124m\"\u001b[39m\u001b[38;5;124mITP ID\u001b[39m\u001b[38;5;124m\"\u001b[39m,\n\u001b[1;32m      9\u001b[0m     \u001b[38;5;124m\"\u001b[39m\u001b[38;5;124mRoute\u001b[39m\u001b[38;5;124m\"\u001b[39m: \u001b[38;5;124m\"\u001b[39m\u001b[38;5;124mHwy Route\u001b[39m\u001b[38;5;124m\"\u001b[39m,\n\u001b[1;32m     10\u001b[0m }\n\u001b[1;32m     12\u001b[0m dropdown \u001b[38;5;241m=\u001b[39m widgets\u001b[38;5;241m.\u001b[39mDropdown(\n\u001b[1;32m     13\u001b[0m     description\u001b[38;5;241m=\u001b[39m\u001b[38;5;124mf\u001b[39m\u001b[38;5;124m\"\u001b[39m\u001b[38;5;132;01m{\u001b[39;00mdropdown_labels[select_col]\u001b[38;5;132;01m}\u001b[39;00m\u001b[38;5;124m\"\u001b[39m,\n\u001b[0;32m---> 14\u001b[0m     options\u001b[38;5;241m=\u001b[39m\u001b[43mgdf\u001b[49m\u001b[43m[\u001b[49m\u001b[43mselect_col\u001b[49m\u001b[43m]\u001b[49m\u001b[38;5;241;43m.\u001b[39;49m\u001b[43mastype\u001b[49m\u001b[43m(\u001b[49m\u001b[38;5;28;43mint\u001b[39;49m\u001b[43m)\u001b[49m\u001b[38;5;241m.\u001b[39msort_values()\u001b[38;5;241m.\u001b[39munique()\u001b[38;5;241m.\u001b[39mtolist(),\n\u001b[1;32m     15\u001b[0m )\n\u001b[1;32m     16\u001b[0m output \u001b[38;5;241m=\u001b[39m widgets\u001b[38;5;241m.\u001b[39mOutput()\n\u001b[1;32m     18\u001b[0m display(dropdown)\n",
      "File \u001b[0;32m/opt/conda/lib/python3.9/site-packages/pandas/core/generic.py:5912\u001b[0m, in \u001b[0;36mNDFrame.astype\u001b[0;34m(self, dtype, copy, errors)\u001b[0m\n\u001b[1;32m   5905\u001b[0m     results \u001b[38;5;241m=\u001b[39m [\n\u001b[1;32m   5906\u001b[0m         \u001b[38;5;28mself\u001b[39m\u001b[38;5;241m.\u001b[39miloc[:, i]\u001b[38;5;241m.\u001b[39mastype(dtype, copy\u001b[38;5;241m=\u001b[39mcopy)\n\u001b[1;32m   5907\u001b[0m         \u001b[38;5;28;01mfor\u001b[39;00m i \u001b[38;5;129;01min\u001b[39;00m \u001b[38;5;28mrange\u001b[39m(\u001b[38;5;28mlen\u001b[39m(\u001b[38;5;28mself\u001b[39m\u001b[38;5;241m.\u001b[39mcolumns))\n\u001b[1;32m   5908\u001b[0m     ]\n\u001b[1;32m   5910\u001b[0m \u001b[38;5;28;01melse\u001b[39;00m:\n\u001b[1;32m   5911\u001b[0m     \u001b[38;5;66;03m# else, only a single dtype is given\u001b[39;00m\n\u001b[0;32m-> 5912\u001b[0m     new_data \u001b[38;5;241m=\u001b[39m \u001b[38;5;28;43mself\u001b[39;49m\u001b[38;5;241;43m.\u001b[39;49m\u001b[43m_mgr\u001b[49m\u001b[38;5;241;43m.\u001b[39;49m\u001b[43mastype\u001b[49m\u001b[43m(\u001b[49m\u001b[43mdtype\u001b[49m\u001b[38;5;241;43m=\u001b[39;49m\u001b[43mdtype\u001b[49m\u001b[43m,\u001b[49m\u001b[43m \u001b[49m\u001b[43mcopy\u001b[49m\u001b[38;5;241;43m=\u001b[39;49m\u001b[43mcopy\u001b[49m\u001b[43m,\u001b[49m\u001b[43m \u001b[49m\u001b[43merrors\u001b[49m\u001b[38;5;241;43m=\u001b[39;49m\u001b[43merrors\u001b[49m\u001b[43m)\u001b[49m\n\u001b[1;32m   5913\u001b[0m     \u001b[38;5;28;01mreturn\u001b[39;00m \u001b[38;5;28mself\u001b[39m\u001b[38;5;241m.\u001b[39m_constructor(new_data)\u001b[38;5;241m.\u001b[39m__finalize__(\u001b[38;5;28mself\u001b[39m, method\u001b[38;5;241m=\u001b[39m\u001b[38;5;124m\"\u001b[39m\u001b[38;5;124mastype\u001b[39m\u001b[38;5;124m\"\u001b[39m)\n\u001b[1;32m   5915\u001b[0m \u001b[38;5;66;03m# GH 33113: handle empty frame or series\u001b[39;00m\n",
      "File \u001b[0;32m/opt/conda/lib/python3.9/site-packages/pandas/core/internals/managers.py:419\u001b[0m, in \u001b[0;36mBaseBlockManager.astype\u001b[0;34m(self, dtype, copy, errors)\u001b[0m\n\u001b[1;32m    418\u001b[0m \u001b[38;5;28;01mdef\u001b[39;00m \u001b[38;5;21mastype\u001b[39m(\u001b[38;5;28mself\u001b[39m: T, dtype, copy: \u001b[38;5;28mbool\u001b[39m \u001b[38;5;241m=\u001b[39m \u001b[38;5;28;01mFalse\u001b[39;00m, errors: \u001b[38;5;28mstr\u001b[39m \u001b[38;5;241m=\u001b[39m \u001b[38;5;124m\"\u001b[39m\u001b[38;5;124mraise\u001b[39m\u001b[38;5;124m\"\u001b[39m) \u001b[38;5;241m-\u001b[39m\u001b[38;5;241m>\u001b[39m T:\n\u001b[0;32m--> 419\u001b[0m     \u001b[38;5;28;01mreturn\u001b[39;00m \u001b[38;5;28;43mself\u001b[39;49m\u001b[38;5;241;43m.\u001b[39;49m\u001b[43mapply\u001b[49m\u001b[43m(\u001b[49m\u001b[38;5;124;43m\"\u001b[39;49m\u001b[38;5;124;43mastype\u001b[39;49m\u001b[38;5;124;43m\"\u001b[39;49m\u001b[43m,\u001b[49m\u001b[43m \u001b[49m\u001b[43mdtype\u001b[49m\u001b[38;5;241;43m=\u001b[39;49m\u001b[43mdtype\u001b[49m\u001b[43m,\u001b[49m\u001b[43m \u001b[49m\u001b[43mcopy\u001b[49m\u001b[38;5;241;43m=\u001b[39;49m\u001b[43mcopy\u001b[49m\u001b[43m,\u001b[49m\u001b[43m \u001b[49m\u001b[43merrors\u001b[49m\u001b[38;5;241;43m=\u001b[39;49m\u001b[43merrors\u001b[49m\u001b[43m)\u001b[49m\n",
      "File \u001b[0;32m/opt/conda/lib/python3.9/site-packages/pandas/core/internals/managers.py:304\u001b[0m, in \u001b[0;36mBaseBlockManager.apply\u001b[0;34m(self, f, align_keys, ignore_failures, **kwargs)\u001b[0m\n\u001b[1;32m    302\u001b[0m         applied \u001b[38;5;241m=\u001b[39m b\u001b[38;5;241m.\u001b[39mapply(f, \u001b[38;5;241m*\u001b[39m\u001b[38;5;241m*\u001b[39mkwargs)\n\u001b[1;32m    303\u001b[0m     \u001b[38;5;28;01melse\u001b[39;00m:\n\u001b[0;32m--> 304\u001b[0m         applied \u001b[38;5;241m=\u001b[39m \u001b[38;5;28;43mgetattr\u001b[39;49m\u001b[43m(\u001b[49m\u001b[43mb\u001b[49m\u001b[43m,\u001b[49m\u001b[43m \u001b[49m\u001b[43mf\u001b[49m\u001b[43m)\u001b[49m\u001b[43m(\u001b[49m\u001b[38;5;241;43m*\u001b[39;49m\u001b[38;5;241;43m*\u001b[39;49m\u001b[43mkwargs\u001b[49m\u001b[43m)\u001b[49m\n\u001b[1;32m    305\u001b[0m \u001b[38;5;28;01mexcept\u001b[39;00m (\u001b[38;5;167;01mTypeError\u001b[39;00m, \u001b[38;5;167;01mNotImplementedError\u001b[39;00m):\n\u001b[1;32m    306\u001b[0m     \u001b[38;5;28;01mif\u001b[39;00m \u001b[38;5;129;01mnot\u001b[39;00m ignore_failures:\n",
      "File \u001b[0;32m/opt/conda/lib/python3.9/site-packages/pandas/core/internals/blocks.py:580\u001b[0m, in \u001b[0;36mBlock.astype\u001b[0;34m(self, dtype, copy, errors)\u001b[0m\n\u001b[1;32m    562\u001b[0m \u001b[38;5;124;03m\"\"\"\u001b[39;00m\n\u001b[1;32m    563\u001b[0m \u001b[38;5;124;03mCoerce to the new dtype.\u001b[39;00m\n\u001b[1;32m    564\u001b[0m \n\u001b[0;32m   (...)\u001b[0m\n\u001b[1;32m    576\u001b[0m \u001b[38;5;124;03mBlock\u001b[39;00m\n\u001b[1;32m    577\u001b[0m \u001b[38;5;124;03m\"\"\"\u001b[39;00m\n\u001b[1;32m    578\u001b[0m values \u001b[38;5;241m=\u001b[39m \u001b[38;5;28mself\u001b[39m\u001b[38;5;241m.\u001b[39mvalues\n\u001b[0;32m--> 580\u001b[0m new_values \u001b[38;5;241m=\u001b[39m \u001b[43mastype_array_safe\u001b[49m\u001b[43m(\u001b[49m\u001b[43mvalues\u001b[49m\u001b[43m,\u001b[49m\u001b[43m \u001b[49m\u001b[43mdtype\u001b[49m\u001b[43m,\u001b[49m\u001b[43m \u001b[49m\u001b[43mcopy\u001b[49m\u001b[38;5;241;43m=\u001b[39;49m\u001b[43mcopy\u001b[49m\u001b[43m,\u001b[49m\u001b[43m \u001b[49m\u001b[43merrors\u001b[49m\u001b[38;5;241;43m=\u001b[39;49m\u001b[43merrors\u001b[49m\u001b[43m)\u001b[49m\n\u001b[1;32m    582\u001b[0m new_values \u001b[38;5;241m=\u001b[39m maybe_coerce_values(new_values)\n\u001b[1;32m    583\u001b[0m newb \u001b[38;5;241m=\u001b[39m \u001b[38;5;28mself\u001b[39m\u001b[38;5;241m.\u001b[39mmake_block(new_values)\n",
      "File \u001b[0;32m/opt/conda/lib/python3.9/site-packages/pandas/core/dtypes/cast.py:1292\u001b[0m, in \u001b[0;36mastype_array_safe\u001b[0;34m(values, dtype, copy, errors)\u001b[0m\n\u001b[1;32m   1289\u001b[0m     dtype \u001b[38;5;241m=\u001b[39m dtype\u001b[38;5;241m.\u001b[39mnumpy_dtype\n\u001b[1;32m   1291\u001b[0m \u001b[38;5;28;01mtry\u001b[39;00m:\n\u001b[0;32m-> 1292\u001b[0m     new_values \u001b[38;5;241m=\u001b[39m \u001b[43mastype_array\u001b[49m\u001b[43m(\u001b[49m\u001b[43mvalues\u001b[49m\u001b[43m,\u001b[49m\u001b[43m \u001b[49m\u001b[43mdtype\u001b[49m\u001b[43m,\u001b[49m\u001b[43m \u001b[49m\u001b[43mcopy\u001b[49m\u001b[38;5;241;43m=\u001b[39;49m\u001b[43mcopy\u001b[49m\u001b[43m)\u001b[49m\n\u001b[1;32m   1293\u001b[0m \u001b[38;5;28;01mexcept\u001b[39;00m (\u001b[38;5;167;01mValueError\u001b[39;00m, \u001b[38;5;167;01mTypeError\u001b[39;00m):\n\u001b[1;32m   1294\u001b[0m     \u001b[38;5;66;03m# e.g. astype_nansafe can fail on object-dtype of strings\u001b[39;00m\n\u001b[1;32m   1295\u001b[0m     \u001b[38;5;66;03m#  trying to convert to float\u001b[39;00m\n\u001b[1;32m   1296\u001b[0m     \u001b[38;5;28;01mif\u001b[39;00m errors \u001b[38;5;241m==\u001b[39m \u001b[38;5;124m\"\u001b[39m\u001b[38;5;124mignore\u001b[39m\u001b[38;5;124m\"\u001b[39m:\n",
      "File \u001b[0;32m/opt/conda/lib/python3.9/site-packages/pandas/core/dtypes/cast.py:1237\u001b[0m, in \u001b[0;36mastype_array\u001b[0;34m(values, dtype, copy)\u001b[0m\n\u001b[1;32m   1234\u001b[0m     values \u001b[38;5;241m=\u001b[39m values\u001b[38;5;241m.\u001b[39mastype(dtype, copy\u001b[38;5;241m=\u001b[39mcopy)\n\u001b[1;32m   1236\u001b[0m \u001b[38;5;28;01melse\u001b[39;00m:\n\u001b[0;32m-> 1237\u001b[0m     values \u001b[38;5;241m=\u001b[39m \u001b[43mastype_nansafe\u001b[49m\u001b[43m(\u001b[49m\u001b[43mvalues\u001b[49m\u001b[43m,\u001b[49m\u001b[43m \u001b[49m\u001b[43mdtype\u001b[49m\u001b[43m,\u001b[49m\u001b[43m \u001b[49m\u001b[43mcopy\u001b[49m\u001b[38;5;241;43m=\u001b[39;49m\u001b[43mcopy\u001b[49m\u001b[43m)\u001b[49m\n\u001b[1;32m   1239\u001b[0m \u001b[38;5;66;03m# in pandas we don't store numpy str dtypes, so convert to object\u001b[39;00m\n\u001b[1;32m   1240\u001b[0m \u001b[38;5;28;01mif\u001b[39;00m \u001b[38;5;28misinstance\u001b[39m(dtype, np\u001b[38;5;241m.\u001b[39mdtype) \u001b[38;5;129;01mand\u001b[39;00m \u001b[38;5;28missubclass\u001b[39m(values\u001b[38;5;241m.\u001b[39mdtype\u001b[38;5;241m.\u001b[39mtype, \u001b[38;5;28mstr\u001b[39m):\n",
      "File \u001b[0;32m/opt/conda/lib/python3.9/site-packages/pandas/core/dtypes/cast.py:1148\u001b[0m, in \u001b[0;36mastype_nansafe\u001b[0;34m(arr, dtype, copy, skipna)\u001b[0m\n\u001b[1;32m   1145\u001b[0m     \u001b[38;5;28;01mraise\u001b[39;00m \u001b[38;5;167;01mTypeError\u001b[39;00m(\u001b[38;5;124mf\u001b[39m\u001b[38;5;124m\"\u001b[39m\u001b[38;5;124mcannot astype a timedelta from [\u001b[39m\u001b[38;5;132;01m{\u001b[39;00marr\u001b[38;5;241m.\u001b[39mdtype\u001b[38;5;132;01m}\u001b[39;00m\u001b[38;5;124m] to [\u001b[39m\u001b[38;5;132;01m{\u001b[39;00mdtype\u001b[38;5;132;01m}\u001b[39;00m\u001b[38;5;124m]\u001b[39m\u001b[38;5;124m\"\u001b[39m)\n\u001b[1;32m   1147\u001b[0m \u001b[38;5;28;01melif\u001b[39;00m np\u001b[38;5;241m.\u001b[39missubdtype(arr\u001b[38;5;241m.\u001b[39mdtype, np\u001b[38;5;241m.\u001b[39mfloating) \u001b[38;5;129;01mand\u001b[39;00m np\u001b[38;5;241m.\u001b[39missubdtype(dtype, np\u001b[38;5;241m.\u001b[39minteger):\n\u001b[0;32m-> 1148\u001b[0m     \u001b[38;5;28;01mreturn\u001b[39;00m \u001b[43mastype_float_to_int_nansafe\u001b[49m\u001b[43m(\u001b[49m\u001b[43marr\u001b[49m\u001b[43m,\u001b[49m\u001b[43m \u001b[49m\u001b[43mdtype\u001b[49m\u001b[43m,\u001b[49m\u001b[43m \u001b[49m\u001b[43mcopy\u001b[49m\u001b[43m)\u001b[49m\n\u001b[1;32m   1150\u001b[0m \u001b[38;5;28;01melif\u001b[39;00m is_object_dtype(arr\u001b[38;5;241m.\u001b[39mdtype):\n\u001b[1;32m   1151\u001b[0m \n\u001b[1;32m   1152\u001b[0m     \u001b[38;5;66;03m# work around NumPy brokenness, #1987\u001b[39;00m\n\u001b[1;32m   1153\u001b[0m     \u001b[38;5;28;01mif\u001b[39;00m np\u001b[38;5;241m.\u001b[39missubdtype(dtype\u001b[38;5;241m.\u001b[39mtype, np\u001b[38;5;241m.\u001b[39minteger):\n",
      "File \u001b[0;32m/opt/conda/lib/python3.9/site-packages/pandas/core/dtypes/cast.py:1193\u001b[0m, in \u001b[0;36mastype_float_to_int_nansafe\u001b[0;34m(values, dtype, copy)\u001b[0m\n\u001b[1;32m   1189\u001b[0m \u001b[38;5;124;03m\"\"\"\u001b[39;00m\n\u001b[1;32m   1190\u001b[0m \u001b[38;5;124;03mastype with a check preventing converting NaN to an meaningless integer value.\u001b[39;00m\n\u001b[1;32m   1191\u001b[0m \u001b[38;5;124;03m\"\"\"\u001b[39;00m\n\u001b[1;32m   1192\u001b[0m \u001b[38;5;28;01mif\u001b[39;00m \u001b[38;5;129;01mnot\u001b[39;00m np\u001b[38;5;241m.\u001b[39misfinite(values)\u001b[38;5;241m.\u001b[39mall():\n\u001b[0;32m-> 1193\u001b[0m     \u001b[38;5;28;01mraise\u001b[39;00m IntCastingNaNError(\n\u001b[1;32m   1194\u001b[0m         \u001b[38;5;124m\"\u001b[39m\u001b[38;5;124mCannot convert non-finite values (NA or inf) to integer\u001b[39m\u001b[38;5;124m\"\u001b[39m\n\u001b[1;32m   1195\u001b[0m     )\n\u001b[1;32m   1196\u001b[0m \u001b[38;5;28;01mreturn\u001b[39;00m values\u001b[38;5;241m.\u001b[39mastype(dtype, copy\u001b[38;5;241m=\u001b[39mcopy)\n",
      "\u001b[0;31mIntCastingNaNError\u001b[0m: Cannot convert non-finite values (NA or inf) to integer"
     ]
    }
   ],
   "source": [
    "display(HTML(\"<h3>Parallel Corridor Stats by Highway Route</h3>\"))\n",
    "interactive_widget(\"Route\")"
   ]
  },
  {
   "cell_type": "code",
   "execution_count": null,
   "id": "9e939c4a-eca0-4429-b36a-2d7a02c9a1c5",
   "metadata": {},
   "outputs": [],
   "source": []
  }
 ],
 "metadata": {
  "kernelspec": {
   "display_name": "Python 3 (ipykernel)",
   "language": "python",
   "name": "python3"
  },
  "language_info": {
   "codemirror_mode": {
    "name": "ipython",
    "version": 3
   },
   "file_extension": ".py",
   "mimetype": "text/x-python",
   "name": "python",
   "nbconvert_exporter": "python",
   "pygments_lexer": "ipython3",
   "version": "3.9.10"
  }
 },
 "nbformat": 4,
 "nbformat_minor": 5
}
