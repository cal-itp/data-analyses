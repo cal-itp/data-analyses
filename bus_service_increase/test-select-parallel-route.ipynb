{
 "cells": [
  {
   "cell_type": "markdown",
   "id": "2ad91875-a780-443a-a367-6410ee504463",
   "metadata": {},
   "source": [
    "# Use existing warehouse queries?\n",
    "\n",
    "* Grab trips for selected date.\n",
    "* Let's test with a parquet already stored in GCS for `bus-service-increase` exercise.\n",
    "* Filter down to 1 trip for `route_id`...pick for relatively free-flowing traffic"
   ]
  },
  {
   "cell_type": "code",
   "execution_count": 1,
   "id": "77e6937b-3105-446a-897d-6f4356d2b972",
   "metadata": {},
   "outputs": [
    {
     "name": "stderr",
     "output_type": "stream",
     "text": [
      "/opt/conda/lib/python3.9/site-packages/geopandas/_compat.py:111: UserWarning: The Shapely GEOS version (3.10.2-CAPI-1.16.0) is incompatible with the GEOS version PyGEOS was compiled with (3.10.1-CAPI-1.16.0). Conversions between both will be slow.\n",
      "  warnings.warn(\n",
      "E0321 17:04:44.615438058    1205 fork_posix.cc:70]           Fork support is only compatible with the epoll1 and poll polling strategies\n",
      "E0321 17:04:48.446742575    1205 fork_posix.cc:70]           Fork support is only compatible with the epoll1 and poll polling strategies\n"
     ]
    }
   ],
   "source": [
    "import datetime as dt\n",
    "import geopandas as gpd\n",
    "import os\n",
    "import pandas as pd\n",
    "\n",
    "os.environ[\"CALITP_BQ_MAX_BYTES\"] = str(130_000_000_000)\n",
    "\n",
    "from calitp.tables import tbl\n",
    "from calitp import query_sql\n",
    "from siuba import *\n",
    "\n",
    "import utils\n",
    "import shared_utils\n",
    "\n",
    "DATA_PATH = f\"{utils.GCS_FILE_PATH}2022_Jan/\""
   ]
  },
  {
   "cell_type": "code",
   "execution_count": 2,
   "id": "a8e2ff3b-0487-4dcb-8f50-9863c37a0785",
   "metadata": {},
   "outputs": [],
   "source": [
    "trips = pd.read_parquet(f\"{DATA_PATH}trips_joined_thurs.parquet\")"
   ]
  },
  {
   "cell_type": "code",
   "execution_count": 38,
   "id": "9cb7bec2-6eea-4053-a012-ab0e481e35b3",
   "metadata": {},
   "outputs": [
    {
     "data": {
      "text/plain": [
       "Index(['calitp_itp_id', 'date', 'trip_key', 'trip_id', 'is_in_service',\n",
       "       'day_name', 'stop_sequence', 'stop_id', 'departure_time', 'shape_id',\n",
       "       'route_id'],\n",
       "      dtype='object')"
      ]
     },
     "execution_count": 38,
     "metadata": {},
     "output_type": "execute_result"
    }
   ],
   "source": [
    "trips.columns"
   ]
  },
  {
   "cell_type": "code",
   "execution_count": 3,
   "id": "660d0de4-8f20-43f3-b6e8-e21ba1bca24c",
   "metadata": {},
   "outputs": [],
   "source": [
    "SELECTED_DATE = '2022-1-6'\n",
    "#SELECTED_DATE = warehouse_queries.dates['thurs']"
   ]
  },
  {
   "cell_type": "code",
   "execution_count": 4,
   "id": "5b7fe3ff-af14-490e-9585-ae8a38011926",
   "metadata": {},
   "outputs": [],
   "source": [
    "def grab_service_hours(df, SELECTED_DATE):\n",
    "    daily_trip_info = (\n",
    "        tbl.views.gtfs_schedule_fact_daily_trips()\n",
    "        >> filter(_.service_date == SELECTED_DATE)\n",
    "        >> select(_.calitp_itp_id, \n",
    "               _.trip_key, _.service_hours, \n",
    "               _.trip_first_departure_ts, _.trip_last_arrival_ts\n",
    "              ) \n",
    "        >> collect()\n",
    "    )\n",
    "    \n",
    "    df2 = pd.merge(df, \n",
    "                   daily_trip_info,\n",
    "                   on = [\"calitp_itp_id\", \"trip_key\"],\n",
    "                   how = \"inner\",\n",
    "                   # m:1 because trips has stop_level data by trips\n",
    "                   # 1 is on the right beause service_hours is trip-level\n",
    "                   validate = \"m:1\"\n",
    "                  )\n",
    "    \n",
    "    return df2\n",
    "\n",
    "    \n",
    "def grab_stop_geom(df):\n",
    "    stop_info = (tbl.views.gtfs_schedule_dim_stops()\n",
    "                 >> select(_.calitp_itp_id,\n",
    "                       _.stop_id, _.stop_lon, _.stop_lat,\n",
    "                      )\n",
    "             >> distinct()\n",
    "             >> collect()\n",
    "    )\n",
    "    \n",
    "    df2 = pd.merge(\n",
    "        df,\n",
    "        (stop_info.sort_values([\"calitp_itp_id\", \"stop_id\", \"stop_lon\"])\n",
    "         .drop_duplicates(subset=[\"calitp_itp_id\", \"stop_id\"])\n",
    "        ),\n",
    "        on = [\"calitp_itp_id\", \"stop_id\"],\n",
    "        how = \"inner\", \n",
    "        validate = \"m:1\"\n",
    "    )\n",
    "    \n",
    "    return df2"
   ]
  },
  {
   "cell_type": "code",
   "execution_count": 5,
   "id": "46e27f10-df4f-42ae-ad1d-82fcb7dd9d90",
   "metadata": {},
   "outputs": [],
   "source": [
    "def subset_to_parallel_routes(df):\n",
    "    #parallel_routes = shared_utils.utils.download_geoparquet(utils.GCS_FILE_PATH, \n",
    "    #                                         \"parallel_or_intersecting\")\n",
    "    parallel_routes = gpd.read_parquet(\"./data/parallel_or_intersecting.parquet\")\n",
    "    \n",
    "    keep_cols = [\"calitp_itp_id\", \"shape_id\", \"route_id\", \"geometry\"]\n",
    "\n",
    "    parallel_routes2 = (parallel_routes[parallel_routes.parallel==1]\n",
    "           .reset_index(drop=True)\n",
    "           .rename(columns = {\"itp_id\": \"calitp_itp_id\"})\n",
    "           [keep_cols]\n",
    "           .drop_duplicates()\n",
    "           .reset_index(drop=True)\n",
    "          )\n",
    "    \n",
    "    # Put parallel routes on the left because it has line geometry already\n",
    "    gdf = pd.merge(\n",
    "        parallel_routes2,\n",
    "        df,\n",
    "        on = [\"calitp_itp_id\", \"shape_id\", \"route_id\"],\n",
    "        how = \"inner\",\n",
    "        validate = \"1:m\",\n",
    "    )\n",
    "    \n",
    "    return gdf"
   ]
  },
  {
   "cell_type": "code",
   "execution_count": 6,
   "id": "c597327b-97ad-44ed-8f33-e9c18b4f0dc9",
   "metadata": {},
   "outputs": [
    {
     "name": "stderr",
     "output_type": "stream",
     "text": [
      "/opt/conda/lib/python3.9/site-packages/siuba/sql/utils.py:52: SAWarning: Dialect bigquery:bigquery will not make use of SQL compilation caching as it does not set the 'supports_statement_cache' attribute to ``True``.  This can have significant performance implications including some performance degradations in comparison to prior SQLAlchemy versions.  Dialect maintainers should seek to set this attribute to True after appropriate development and testing for SQLAlchemy 1.4 caching support.   Alternatively, this attribute may be set to False which will disable this warning. (Background on this error at: https://sqlalche.me/e/14/cprf)\n"
     ]
    }
   ],
   "source": [
    "trips2 = grab_service_hours(trips, SELECTED_DATE)\n",
    "trips3 = grab_stop_geom(trips2)"
   ]
  },
  {
   "cell_type": "markdown",
   "id": "875980e6-48f0-4f36-bdb0-c78061d33cff",
   "metadata": {},
   "source": [
    "Decide if stop's point geometry should be used or route's line geometry.\n",
    "\n",
    "If going with every 3rd or 5th bus stop, it's easier to take point geometry and have the car travel from point to point. The line geometry contains much more points in between stops and is not exactly the bus stop, but on the road.\n",
    "\n",
    "For this calculation, distance traveled, speed, etc, it probably won't matter too much."
   ]
  },
  {
   "cell_type": "code",
   "execution_count": 7,
   "id": "c1b317a2-2b6d-4997-b211-b648eadb92bd",
   "metadata": {},
   "outputs": [],
   "source": [
    "trips4 = trips3[trips3.calitp_itp_id==182].reset_index(drop=True)"
   ]
  },
  {
   "cell_type": "code",
   "execution_count": 8,
   "id": "5ddcbe4e-b5c4-42a9-bcbb-ca52f24e6d54",
   "metadata": {},
   "outputs": [],
   "source": [
    "trips5 = subset_to_parallel_routes(trips4)"
   ]
  },
  {
   "cell_type": "code",
   "execution_count": 25,
   "id": "1c6e6228-8d1e-4245-897b-c0394af905fc",
   "metadata": {},
   "outputs": [],
   "source": [
    "def select_one_trip(df):\n",
    "    drop_cols = [\"stop_sequence\", \"stop_id\", \"departure_time\", \n",
    "                 \"trip_first_departure_ts\", \"trip_last_arrival_ts\", \n",
    "                 \"stop_lon\", \"stop_lat\"]\n",
    "    \n",
    "\n",
    "    df = df.assign(\n",
    "        departure_hr = pd.to_datetime(df.trip_first_departure_ts, unit='s').dt.hour                                        \n",
    "    ).drop(columns = drop_cols).drop_duplicates().reset_index(drop=True)\n",
    "    \n",
    "    # Not sure why across trip_ids, \n",
    "    # for the same route_id, there are differing max_stop_sequence\n",
    "    # Use longest route (max stop sequence)?\n",
    "    # Use median or mean service hours or miles traveled?\n",
    "    group_cols = [\"calitp_itp_id\", \"route_id\"]\n",
    "    \n",
    "    \n",
    "    # Should there be a check that there are mid-day trips for that route_id?\n",
    "    # Select trip by departure_hr\n",
    "    hour_order = [\n",
    "        12, 11, 13, 10, 14, # ideally we want mid-day\n",
    "        15, 7, 20, 6, 21, # but, can move into earlier PM or early AM\n",
    "        0, 1, 2, 3, 4, 5, 22, 23, # owl service\n",
    "        8, 9, # AM peak \n",
    "        16, 17, 18, 19, # PM peak\n",
    "    ]\n",
    "    for i in range(0, 24):\n",
    "        if i == 0:\n",
    "            df['selection_rank'] = df.apply(\n",
    "                lambda x: hour_order[i] if x.departure_hr == i \n",
    "                else 0, axis=1) \n",
    "        else:\n",
    "            df['selection_rank'] = df.apply(\n",
    "                lambda x: hour_order[i] if x.departure_hr == i \n",
    "                else x.selection_rank, axis=1) \n",
    "    \n",
    "    # Select a trip that is somewhere in 20th-25th percentile (lower means faster!)\n",
    "    for i in [20, 25]:\n",
    "        quantile = (df.groupby(group_cols)[\"service_hours\"]\n",
    "                    .quantile(i/100., ).reset_index()\n",
    "                    .rename(columns = {\"service_hours\": f\"p{i}\"})\n",
    "                   )\n",
    "    \n",
    "        df = pd.merge(df, quantile, \n",
    "                      on = group_cols,\n",
    "                      how = \"inner\",\n",
    "                      validate = \"m:1\"\n",
    "                )\n",
    "    \n",
    "    # If there's still no faster trip identified, if service_hours doesn't fall\n",
    "    # within that range, then select the one closest\n",
    "    df[\"difference\"] = df.service_hours - df.p20\n",
    "    df[\"min_diff\"] = df.groupby(group_cols)[\"difference\"].transform(\"min\")\n",
    "\n",
    "    df = df.assign(\n",
    "        faster_trip = df.apply(lambda x: \n",
    "                               1 if (\n",
    "                               ((x.service_hours <= x.p25) and (x.service_hours >= x.p20)) \n",
    "                                   or (x.difference == x.min_diff))\n",
    "                               else 0, axis=1),\n",
    "    )\n",
    "    \n",
    "    \n",
    "    # Now select the first trip\n",
    "    df2 = (df[df.faster_trip==1].sort_values(group_cols + [\"service_hours\"])\n",
    "           .drop_duplicates(subset=group_cols)\n",
    "           .drop(columns = [\"faster_trip\", \"difference\", \"min_diff\", \"p20\", \"p25\"])\n",
    "          )\n",
    "    \n",
    "    return df"
   ]
  },
  {
   "cell_type": "code",
   "execution_count": 26,
   "id": "5a6d151b-04bb-44e8-a6ee-b4823efa2bd8",
   "metadata": {},
   "outputs": [],
   "source": [
    "trips6 = select_one_trip(trips5)"
   ]
  },
  {
   "cell_type": "markdown",
   "id": "0a4cf0e8-9cfb-4cee-8314-e65bfbb4c0cb",
   "metadata": {},
   "source": [
    "Faster trips are happening in early AM or late night (owl service).\n",
    "\n",
    "* If the 20th-25th percentile service hours trips are selected, they hit mostly owl service periods. \n",
    "* If we sort by departure hour, vast majority will be mid-day, and where mid-day trip cannot be found, we end up with very few in owl service periods."
   ]
  },
  {
   "cell_type": "code",
   "execution_count": 37,
   "id": "5e912974-bfd8-4592-94d9-d08d6b313702",
   "metadata": {},
   "outputs": [
    {
     "name": "stdout",
     "output_type": "stream",
     "text": [
      "# rows: 72\n",
      "# trips: 72\n"
     ]
    }
   ],
   "source": [
    "import altair as alt\n",
    "\n",
    "group_cols = [\"calitp_itp_id\", \"route_id\"]\n",
    "plot_me = (trips6[trips6.faster_trip==1]\n",
    "           .sort_values(group_cols + [\"difference\"])\n",
    "           .drop_duplicates(subset=group_cols)\n",
    "           .drop(columns = \"date\")\n",
    "           .reset_index(drop=True)\n",
    "          )\n",
    "\n",
    "print(f\"# rows: {len(plot_me)}\")\n",
    "print(f\"# trips: {plot_me.route_id.nunique()}\")\n",
    "\n",
    "hist1 = (alt.Chart(plot_me)\n",
    " .mark_bar()\n",
    " .encode(\n",
    "     x=alt.X(\"departure_hr:Q\", bin=alt.Bin(step=1)),\n",
    "     y=\"count()\",\n",
    " )\n",
    ")\n",
    "\n",
    "#hist1"
   ]
  },
  {
   "cell_type": "code",
   "execution_count": 36,
   "id": "575615b8-e98f-428a-bef0-878c0b86e193",
   "metadata": {},
   "outputs": [
    {
     "name": "stdout",
     "output_type": "stream",
     "text": [
      "# rows: 72\n",
      "# trips: 72\n"
     ]
    }
   ],
   "source": [
    "trips7=trips6.assign(\n",
    "    min_rank = trips6.groupby([\"calitp_itp_id\", \"route_id\"])[\"selection_rank\"].transform(\"min\")\n",
    ")\n",
    "\n",
    "plot_me = (trips7[trips7.selection_rank==trips7.min_rank]\n",
    "           .sort_values(group_cols + [\"difference\"])\n",
    "           .drop_duplicates(subset=group_cols)\n",
    "           .drop(columns = \"date\")\n",
    "           .reset_index(drop=True)\n",
    "          )\n",
    "\n",
    "print(f\"# rows: {len(plot_me)}\")\n",
    "print(f\"# trips: {plot_me.route_id.nunique()}\")\n",
    "\n",
    "hist2 = (alt.Chart(plot_me)\n",
    " .mark_bar()\n",
    " .encode(\n",
    "     x=alt.X(\"departure_hr:Q\", bin=alt.Bin(step=1)),\n",
    "     y=\"count()\",\n",
    " )\n",
    ")\n",
    "\n",
    "#hist2"
   ]
  },
  {
   "cell_type": "code",
   "execution_count": 13,
   "id": "5f665e4d-d431-4e34-9882-73c867dbea8b",
   "metadata": {},
   "outputs": [
    {
     "data": {
      "text/plain": [
       "0    158\n",
       "1      5\n",
       "Name: faster_trip, dtype: int64"
      ]
     },
     "execution_count": 13,
     "metadata": {},
     "output_type": "execute_result"
    }
   ],
   "source": [
    "# Usually, the mid-day trips are not the faster ones\n",
    "trips6[trips6.selection_rank==0].faster_trip.value_counts()"
   ]
  },
  {
   "cell_type": "code",
   "execution_count": 14,
   "id": "9e3bac26-41a2-452b-a9a6-cdeb2c4b451b",
   "metadata": {},
   "outputs": [
    {
     "data": {
      "text/plain": [
       "count    412.000000\n",
       "mean       1.040008\n",
       "std        0.366129\n",
       "min        0.233333\n",
       "25%        0.800000\n",
       "50%        1.000000\n",
       "75%        1.250000\n",
       "max        2.050000\n",
       "Name: service_hours, dtype: float64"
      ]
     },
     "execution_count": 14,
     "metadata": {},
     "output_type": "execute_result"
    }
   ],
   "source": [
    "trips6[trips6.faster_trip==1].service_hours.describe()"
   ]
  },
  {
   "cell_type": "code",
   "execution_count": 15,
   "id": "a728a781-9969-4028-926b-84d96b75ec86",
   "metadata": {},
   "outputs": [
    {
     "data": {
      "text/plain": [
       "count    2309.000000\n",
       "mean        1.375285\n",
       "std         0.393532\n",
       "min         0.350000\n",
       "25%         1.083333\n",
       "50%         1.333333\n",
       "75%         1.616667\n",
       "max         2.383333\n",
       "Name: service_hours, dtype: float64"
      ]
     },
     "execution_count": 15,
     "metadata": {},
     "output_type": "execute_result"
    }
   ],
   "source": [
    "trips6[trips6.faster_trip==0].service_hours.describe()"
   ]
  }
 ],
 "metadata": {
  "kernelspec": {
   "display_name": "Python 3 (ipykernel)",
   "language": "python",
   "name": "python3"
  },
  "language_info": {
   "codemirror_mode": {
    "name": "ipython",
    "version": 3
   },
   "file_extension": ".py",
   "mimetype": "text/x-python",
   "name": "python",
   "nbconvert_exporter": "python",
   "pygments_lexer": "ipython3",
   "version": "3.9.10"
  }
 },
 "nbformat": 4,
 "nbformat_minor": 5
}
