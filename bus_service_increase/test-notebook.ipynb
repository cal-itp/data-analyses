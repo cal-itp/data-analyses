{
 "cells": [
  {
   "cell_type": "code",
   "execution_count": 1,
   "id": "58d1835b-770d-41c0-a91f-c1c2572623b0",
   "metadata": {},
   "outputs": [
    {
     "name": "stderr",
     "output_type": "stream",
     "text": [
      "/opt/conda/lib/python3.10/site-packages/geopandas/_compat.py:112: UserWarning: The Shapely GEOS version (3.10.3-CAPI-1.16.1) is incompatible with the GEOS version PyGEOS was compiled with (3.10.1-CAPI-1.16.0). Conversions between both will be slow.\n",
      "  warnings.warn(\n"
     ]
    }
   ],
   "source": [
    "import os\n",
    "os.environ[\"CALITP_BQ_MAX_BYTES\"] = str(130_000_000_000)\n",
    "\n",
    "from shared_utils import gtfs_utils\n",
    "\n",
    "analysis_date = \"2022-06-01\"\n",
    "analysis_operator = 148"
   ]
  },
  {
   "cell_type": "code",
   "execution_count": 3,
   "id": "674dc8b5-087e-4bc9-b395-1857b6c7e3a6",
   "metadata": {},
   "outputs": [],
   "source": [
    "gdf = (gtfs_utils.get_route_shapes(selected_date = analysis_date,\n",
    "                                   itp_id_list = [analysis_operator]))\n"
   ]
  },
  {
   "cell_type": "code",
   "execution_count": 4,
   "id": "d9041e8a-aa9d-4df5-b506-cbc5227b2147",
   "metadata": {},
   "outputs": [
    {
     "data": {
      "text/html": [
       "<div>\n",
       "<style scoped>\n",
       "    .dataframe tbody tr th:only-of-type {\n",
       "        vertical-align: middle;\n",
       "    }\n",
       "\n",
       "    .dataframe tbody tr th {\n",
       "        vertical-align: top;\n",
       "    }\n",
       "\n",
       "    .dataframe thead th {\n",
       "        text-align: right;\n",
       "    }\n",
       "</style>\n",
       "<table border=\"1\" class=\"dataframe\">\n",
       "  <thead>\n",
       "    <tr style=\"text-align: right;\">\n",
       "      <th></th>\n",
       "      <th>calitp_itp_id</th>\n",
       "      <th>calitp_url_number</th>\n",
       "      <th>shape_id</th>\n",
       "      <th>geometry</th>\n",
       "    </tr>\n",
       "  </thead>\n",
       "  <tbody>\n",
       "    <tr>\n",
       "      <th>0</th>\n",
       "      <td>148</td>\n",
       "      <td>0</td>\n",
       "      <td>12</td>\n",
       "      <td>LINESTRING (-119.65269 36.32565, -119.65288 36...</td>\n",
       "    </tr>\n",
       "    <tr>\n",
       "      <th>1</th>\n",
       "      <td>148</td>\n",
       "      <td>0</td>\n",
       "      <td>27</td>\n",
       "      <td>LINESTRING (-119.65269 36.32565, -119.65288 36...</td>\n",
       "    </tr>\n",
       "    <tr>\n",
       "      <th>2</th>\n",
       "      <td>148</td>\n",
       "      <td>0</td>\n",
       "      <td>26</td>\n",
       "      <td>LINESTRING (-119.65269 36.32565, -119.65288 36...</td>\n",
       "    </tr>\n",
       "    <tr>\n",
       "      <th>3</th>\n",
       "      <td>148</td>\n",
       "      <td>0</td>\n",
       "      <td>3</td>\n",
       "      <td>LINESTRING (-119.65269 36.32565, -119.65288 36...</td>\n",
       "    </tr>\n",
       "    <tr>\n",
       "      <th>4</th>\n",
       "      <td>148</td>\n",
       "      <td>0</td>\n",
       "      <td>41</td>\n",
       "      <td>LINESTRING (-119.65269 36.32655, -119.65241 36...</td>\n",
       "    </tr>\n",
       "  </tbody>\n",
       "</table>\n",
       "</div>"
      ],
      "text/plain": [
       "   calitp_itp_id  calitp_url_number shape_id  \\\n",
       "0            148                  0       12   \n",
       "1            148                  0       27   \n",
       "2            148                  0       26   \n",
       "3            148                  0        3   \n",
       "4            148                  0       41   \n",
       "\n",
       "                                            geometry  \n",
       "0  LINESTRING (-119.65269 36.32565, -119.65288 36...  \n",
       "1  LINESTRING (-119.65269 36.32565, -119.65288 36...  \n",
       "2  LINESTRING (-119.65269 36.32565, -119.65288 36...  \n",
       "3  LINESTRING (-119.65269 36.32565, -119.65288 36...  \n",
       "4  LINESTRING (-119.65269 36.32655, -119.65241 36...  "
      ]
     },
     "execution_count": 4,
     "metadata": {},
     "output_type": "execute_result"
    }
   ],
   "source": [
    "gdf.head()"
   ]
  },
  {
   "cell_type": "code",
   "execution_count": null,
   "id": "11775a76-5cd7-4015-93a2-5e7aa7b4ba89",
   "metadata": {},
   "outputs": [],
   "source": []
  }
 ],
 "metadata": {
  "kernelspec": {
   "display_name": "Python 3 (ipykernel)",
   "language": "python",
   "name": "python3"
  },
  "language_info": {
   "codemirror_mode": {
    "name": "ipython",
    "version": 3
   },
   "file_extension": ".py",
   "mimetype": "text/x-python",
   "name": "python",
   "nbconvert_exporter": "python",
   "pygments_lexer": "ipython3",
   "version": "3.10.5"
  }
 },
 "nbformat": 4,
 "nbformat_minor": 5
}
