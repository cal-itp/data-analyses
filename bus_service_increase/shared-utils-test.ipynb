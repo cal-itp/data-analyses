{
 "cells": [
  {
   "cell_type": "markdown",
   "id": "a3d5a5dd-5cfc-448c-a5c2-633d5b46703f",
   "metadata": {},
   "source": [
    "In the terminal: `cd ..` to be in the `_shared_utils` sub-folder, run `python setup.py install`, then `cd` back into your task sub-folder (e.g., `bus_service_increase`)"
   ]
  },
  {
   "cell_type": "code",
   "execution_count": 1,
   "id": "9851dfda-6282-4621-b76f-57e3dc2ba8cd",
   "metadata": {},
   "outputs": [],
   "source": [
    "import branca\n",
    "import geopandas as gpd\n",
    "import pandas as pd\n",
    "\n",
    "import shared_utils"
   ]
  },
  {
   "cell_type": "code",
   "execution_count": 2,
   "id": "47328ea6-ca8b-4be2-bc27-392f2ce0a295",
   "metadata": {},
   "outputs": [
    {
     "data": {
      "text/plain": [
       "'EPSG:3310'"
      ]
     },
     "execution_count": 2,
     "metadata": {},
     "output_type": "execute_result"
    }
   ],
   "source": [
    "shared_utils.geography_utils.CA_NAD83Albers"
   ]
  },
  {
   "cell_type": "code",
   "execution_count": 3,
   "id": "3eafbed3-7438-4edc-ab4a-5dc467929338",
   "metadata": {},
   "outputs": [
    {
     "data": {
      "text/plain": [
       "\u001b[0;31mSignature:\u001b[0m \u001b[0mshared_utils\u001b[0m\u001b[0;34m.\u001b[0m\u001b[0mutils\u001b[0m\u001b[0;34m.\u001b[0m\u001b[0mgeoparquet_gcs_export\u001b[0m\u001b[0;34m(\u001b[0m\u001b[0mgdf\u001b[0m\u001b[0;34m,\u001b[0m \u001b[0mGCS_FILE_PATH\u001b[0m\u001b[0;34m,\u001b[0m \u001b[0mname\u001b[0m\u001b[0;34m)\u001b[0m\u001b[0;34m\u001b[0m\u001b[0;34m\u001b[0m\u001b[0m\n",
       "\u001b[0;31mDocstring:\u001b[0m\n",
       "Save geodataframe as parquet locally, \n",
       "then move to GCS bucket and delete local file.\n",
       "\n",
       "gdf: geopandas.GeoDataFrame\n",
       "GCS_FILE_PATH: str. Ex: gs://calitp-analytics-data/data-analyses/my-folder/\n",
       "name: str. Filename.\n",
       "\u001b[0;31mFile:\u001b[0m      ~/data-analyses/_shared_utils/shared_utils/utils.py\n",
       "\u001b[0;31mType:\u001b[0m      function\n"
      ]
     },
     "metadata": {},
     "output_type": "display_data"
    }
   ],
   "source": [
    "shared_utils.utils.geoparquet_gcs_export?"
   ]
  },
  {
   "cell_type": "code",
   "execution_count": null,
   "id": "bef6b24c-28b0-4c94-94f8-cf63a8bf58ae",
   "metadata": {},
   "outputs": [],
   "source": [
    "sample_data = {\n",
    "    'District' : [1, 2, 3, 1],\n",
    "    'Population' : [3_000, 2_000, 1_500, 3_000],\n",
    "    'id' : ['A', 'B', 'C', 'D']\n",
    "}\n",
    "\n",
    "df = pd.DataFrame(sample_data)\n",
    "df"
   ]
  },
  {
   "cell_type": "code",
   "execution_count": null,
   "id": "fd25816b-d848-4824-8ba3-ffbdac1f10c9",
   "metadata": {},
   "outputs": [],
   "source": [
    "group_cols = [\"District\"]\n",
    "sum_cols = []\n",
    "mean_cols = [\"Population\"]\n",
    "count_cols = []\n",
    "nunique_cols = [\"id\"]\n",
    "\n",
    "shared_utils.geography_utils.aggregate_by_geography(df, group_cols=group_cols,\n",
    "                                                    sum_cols = sum_cols,\n",
    "                                                    mean_cols = mean_cols,\n",
    "                                                    count_cols = count_cols,\n",
    "                                                    nunique_cols = nunique_cols)"
   ]
  },
  {
   "cell_type": "code",
   "execution_count": null,
   "id": "287a3330-fe67-449b-8b46-defeedbdc4a0",
   "metadata": {},
   "outputs": [],
   "source": [
    "gdf = gpd.read_parquet((\n",
    "    \"gs://calitp-analytics-data/data-analyses/bus_service_increase/\"\n",
    "    \"bus_stop_times_by_tract.parquet\"\n",
    "))\n",
    "gdf = gdf[gdf.County==\"Los Angeles\"]\n",
    "\n",
    "gdf.head()"
   ]
  },
  {
   "cell_type": "code",
   "execution_count": null,
   "id": "10177eba-1ceb-43be-9c1e-588143ce2101",
   "metadata": {},
   "outputs": [],
   "source": [
    "popup_dict = {\n",
    "    \"Tract\": \"Census Tract\",\n",
    "    \"ZIP\": \"Zip Code\",\n",
    "    \"Population\": \"Pop\"\n",
    "}\n",
    "\n",
    "colorscale = branca.colormap.StepColormap(\n",
    "                colors=[\"gray\", \"green\", \"navy\"], \n",
    "                index=[2_000, 4_000, 8_000],\n",
    "                vmin=0, vmax=15_000,\n",
    ")\n",
    "\n",
    "m = shared_utils.map_utils.make_folium_choropleth_map(gdf,\n",
    "                                                  plot_col = \"Population\",\n",
    "                                                  popup_dict = popup_dict,\n",
    "                                                  tooltip_dict = popup_dict,\n",
    "                                                  colorscale = colorscale,\n",
    "                                                  fig_width = 500, fig_height = 800,\n",
    "                                                  zoom = 9,\n",
    "                                                  centroid = shared_utils.map_utils.REGION_CENTROIDS[\"Los Angeles\"][0],\n",
    "                                                  title=\"Population in LA\"\n",
    ")\n",
    "\n",
    "#m"
   ]
  },
  {
   "cell_type": "code",
   "execution_count": null,
   "id": "a557ed5c-be0a-4b16-a1f6-37d5bd90f85b",
   "metadata": {},
   "outputs": [],
   "source": []
  }
 ],
 "metadata": {
  "kernelspec": {
   "display_name": "Python 3 (ipykernel)",
   "language": "python",
   "name": "python3"
  },
  "language_info": {
   "codemirror_mode": {
    "name": "ipython",
    "version": 3
   },
   "file_extension": ".py",
   "mimetype": "text/x-python",
   "name": "python",
   "nbconvert_exporter": "python",
   "pygments_lexer": "ipython3",
   "version": "3.9.7"
  }
 },
 "nbformat": 4,
 "nbformat_minor": 5
}
