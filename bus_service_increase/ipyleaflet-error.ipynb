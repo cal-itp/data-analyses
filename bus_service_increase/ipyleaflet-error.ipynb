{
 "cells": [
  {
   "cell_type": "markdown",
   "id": "e96666b7-55c2-4fb9-8de4-c9f3dd6868f9",
   "metadata": {},
   "source": [
    "# ipyleaflet display error\n",
    "\n",
    "Do a simple example to show ipyleaflet map not displaying in notebook"
   ]
  },
  {
   "cell_type": "code",
   "execution_count": 1,
   "id": "8591a486-ed1a-43df-aa9c-2e516912022f",
   "metadata": {},
   "outputs": [],
   "source": [
    "import branca\n",
    "import geopandas as gpd\n",
    "import intake\n",
    "import ipyleaflet\n",
    "import json\n",
    "import pandas as pd\n",
    "\n",
    "catalog = intake.open_catalog(\"./catalog.yml\")\n",
    "\n",
    "df = catalog.bus_stop_times_by_tract.read()"
   ]
  },
  {
   "cell_type": "code",
   "execution_count": 2,
   "id": "65d663a2-a843-4dd3-9b1c-8812fd1254b4",
   "metadata": {},
   "outputs": [],
   "source": [
    "df = df[(df.County==\"Los Angeles\") & (df.num_arrivals.notna())].reset_index(drop=True)\n",
    "\n",
    "geo_data = json.loads(df.set_index(\"Tract\").to_json())\n",
    "\n",
    "# Take what we want to map and turn it into a dictionary\n",
    "# Can only include the key-value pair, the value you want to map, nothing more.\n",
    "gdf = dict(zip(df['Tract'].tolist(), df[\"num_arrivals\"].tolist()))"
   ]
  },
  {
   "cell_type": "code",
   "execution_count": 3,
   "id": "96ef84d6-89b0-4036-96da-80f44bdc12a4",
   "metadata": {},
   "outputs": [
    {
     "data": {
      "application/vnd.jupyter.widget-view+json": {
       "model_id": "33e5bf867d7046a191764d052d9dcd12",
       "version_major": 2,
       "version_minor": 0
      },
      "text/plain": [
       "Map(center=[34.0, -118.18], controls=(ZoomControl(options=['position', 'zoom_in_text', 'zoom_in_title', 'zoom_…"
      ]
     },
     "metadata": {},
     "output_type": "display_data"
    }
   ],
   "source": [
    "m = ipyleaflet.Map(center = [34.00, -118.18], zoom = 11,\n",
    "                  basemap = ipyleaflet.basemaps.CartoDB.Positron)\n",
    "\n",
    "layer = ipyleaflet.Choropleth(\n",
    "    geo_data = geo_data,\n",
    "    choro_data = gdf, \n",
    "    colormap = branca.colormap.LinearColormap(\n",
    "    colors=[\"gray\", \"green\", \"blue\", \"red\"], \n",
    "    index=[1, 10, 20, 50], vmin=0, vmax=100),\n",
    "    border_color = '#999999',\n",
    "    style = {'fillOpacity': 0.6, 'weight': 0.5, 'color': '#999999', 'opacity': 0.8},\n",
    ")\n",
    "\n",
    "m.add_layer(layer)\n",
    "\n",
    "display(m)"
   ]
  },
  {
   "cell_type": "code",
   "execution_count": null,
   "id": "2d7e9f81-9bce-4cdf-a109-4052d785c486",
   "metadata": {},
   "outputs": [],
   "source": []
  }
 ],
 "metadata": {
  "kernelspec": {
   "display_name": "Python 3 (ipykernel)",
   "language": "python",
   "name": "python3"
  },
  "language_info": {
   "codemirror_mode": {
    "name": "ipython",
    "version": 3
   },
   "file_extension": ".py",
   "mimetype": "text/x-python",
   "name": "python",
   "nbconvert_exporter": "python",
   "pygments_lexer": "ipython3",
   "version": "3.9.7"
  }
 },
 "nbformat": 4,
 "nbformat_minor": 5
}
