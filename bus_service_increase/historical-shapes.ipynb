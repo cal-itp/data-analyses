{
 "cells": [
  {
   "cell_type": "markdown",
   "id": "ded0a09e-73d3-4314-83a3-189d25da0560",
   "metadata": {},
   "source": [
    "# Historical shapes\n",
    "Existence of the `gtfs_schedule_type2.shapes` table. Check out if this gives us what we need?\n",
    "\n",
    "[GH issue](https://github.com/cal-itp/data-infra/issues/1210)"
   ]
  },
  {
   "cell_type": "code",
   "execution_count": 1,
   "id": "d8ec8379-1cd4-403a-849a-16d71661a1fb",
   "metadata": {},
   "outputs": [
    {
     "name": "stderr",
     "output_type": "stream",
     "text": [
      "/opt/conda/lib/python3.9/site-packages/geopandas/_compat.py:111: UserWarning: The Shapely GEOS version (3.10.2-CAPI-1.16.0) is incompatible with the GEOS version PyGEOS was compiled with (3.10.1-CAPI-1.16.0). Conversions between both will be slow.\n",
      "  warnings.warn(\n"
     ]
    }
   ],
   "source": [
    "import datetime as dt\n",
    "import geopandas as gpd\n",
    "import os\n",
    "import pandas as pd\n",
    "\n",
    "os.environ[\"CALITP_BQ_MAX_BYTES\"] = str(100_000_000_000)\n",
    "\n",
    "from calitp.tables import tbl\n",
    "from calitp import query_sql\n",
    "from siuba import *"
   ]
  },
  {
   "cell_type": "code",
   "execution_count": null,
   "id": "c3365411-47b9-4ca7-af45-ba2220380a09",
   "metadata": {},
   "outputs": [],
   "source": [
    "SELECTED_DATE = dt.date(2021, 10, 22)\n",
    "\n",
    "# Is this the correct query to use though?\n",
    "# Perhaps this isn't service date?\n",
    "shapes = (tbl.gtfs_schedule_type2.shapes()\n",
    " >> filter(_.calitp_itp_id==182)\n",
    " >> filter(_.calitp_extracted_at <= SELECTED_DATE, \n",
    "           _.calitp_deleted_at >= SELECTED_DATE)\n",
    ")"
   ]
  },
  {
   "cell_type": "code",
   "execution_count": null,
   "id": "a1b1376d-e258-42e4-b7d0-ec1b8e1af5ad",
   "metadata": {},
   "outputs": [],
   "source": [
    "# May need to add in fact_daily_trips\n",
    "# Does query below need to have a trip_key or stop_key?\n",
    "trip_cols = [\"calitp_itp_id\", \"route_id\", \"shape_id\"]\n",
    "\n",
    "dim_trips = (tbl.views.gtfs_schedule_dim_trips()\n",
    "             >> select(*trip_cols, _.trip_key)\n",
    "             >> distinct()\n",
    "            )\n",
    "\n",
    "trips = (tbl.views.gtfs_schedule_fact_daily_trips()\n",
    "         >> filter(_.service_date == SELECTED_DATE, \n",
    "                   _.is_in_service==True)\n",
    "         >> filter(_.calitp_itp_id==182)\n",
    "         >> select(_.trip_key, _.service_date)\n",
    "         >> inner_join(_, dim_trips, on = \"trip_key\")\n",
    "         >> select(*trip_cols)\n",
    "         >> distinct()\n",
    "         >> collect()\n",
    "        )"
   ]
  },
  {
   "cell_type": "code",
   "execution_count": null,
   "id": "7b7c3583-e381-49b0-a94f-04dd2ba14401",
   "metadata": {},
   "outputs": [],
   "source": [
    "shapes2 = (shapes \n",
    "           >> select(_.calitp_itp_id, _.shape_id)\n",
    "           >> distinct()\n",
    "           >> collect()\n",
    "          )"
   ]
  },
  {
   "cell_type": "code",
   "execution_count": null,
   "id": "8644ec23-ae70-4f31-a8a8-368484cfdf0c",
   "metadata": {},
   "outputs": [],
   "source": [
    "m1 = pd.merge(\n",
    "    shapes2,\n",
    "    trips,\n",
    "    on = [\"calitp_itp_id\", \"shape_id\"],\n",
    "    how = \"outer\",\n",
    "    validate = \"1:1\",\n",
    "    indicator=True\n",
    ")"
   ]
  },
  {
   "cell_type": "code",
   "execution_count": null,
   "id": "305ad840-856a-4090-a423-687a842ebc25",
   "metadata": {},
   "outputs": [],
   "source": [
    "m1._merge.value_counts()"
   ]
  },
  {
   "cell_type": "code",
   "execution_count": null,
   "id": "f3bf8845-0cb0-40e9-8c81-e0d49ef0735b",
   "metadata": {},
   "outputs": [],
   "source": [
    "dim_stop_times = (\n",
    "    tbl.views.gtfs_schedule_dim_stop_times()\n",
    "    >> filter(_.calitp_itp_id==182)\n",
    "    >> select(_.calitp_itp_id, _.calitp_url_number,\n",
    "             _.trip_id, _.stop_id, _.stop_sequence)\n",
    "    >> distinct()\n",
    "    >> collect()\n",
    ")"
   ]
  },
  {
   "cell_type": "code",
   "execution_count": null,
   "id": "ad7cadd7-3ce4-4eae-b46a-6c7b579d2b9a",
   "metadata": {},
   "outputs": [],
   "source": [
    "dim_stops = (\n",
    "    tbl.views.gtfs_schedule_dim_stops() \n",
    "    >> filter(_.calitp_itp_id==182)\n",
    "    >> select(_.calitp_itp_id, _.calitp_url_number, \n",
    "              _.stop_id, _.stop_lon, _.stop_lat)\n",
    "    >> distinct()\n",
    "    >> collect()\n",
    ")\n",
    "             "
   ]
  },
  {
   "cell_type": "code",
   "execution_count": null,
   "id": "10434031-b8ad-4bc9-a1f1-584c7adb24e8",
   "metadata": {},
   "outputs": [],
   "source": [
    "dim_stop_times.head(2)"
   ]
  },
  {
   "cell_type": "code",
   "execution_count": null,
   "id": "eacfa6ed-59fe-4b20-8183-e4b03f17365f",
   "metadata": {},
   "outputs": [],
   "source": [
    "m2 = pd.merge(\n",
    "    # this is at trip-level\n",
    "    dim_stop_times,\n",
    "    # Some stop_ids have different lat/lon...slightly different\n",
    "    (dim_stops\n",
    "     .sort_values([\"calitp_itp_id\", \"calitp_url_number\", \n",
    "                   \"stop_id\", \"stop_lon\"])\n",
    "     .drop_duplicates(subset=[\"calitp_itp_id\", \"calitp_url_number\", \"stop_id\"])\n",
    "    ),\n",
    "    on = [\"calitp_itp_id\", \"calitp_url_number\", \"stop_id\"],\n",
    "    how = \"outer\",\n",
    "    # m:1 because dim_stop_times is trip_level, so stop_id shows up multiple times\n",
    "    # But, force stop lat/lon to be unique, so it can be m:1 merge\n",
    "    validate = \"m:1\",\n",
    "    indicator=True\n",
    ")"
   ]
  },
  {
   "cell_type": "code",
   "execution_count": null,
   "id": "1b3dddef-f6db-4122-93f3-9e54b5ea075d",
   "metadata": {},
   "outputs": [],
   "source": [
    "m2._merge.value_counts()"
   ]
  },
  {
   "cell_type": "code",
   "execution_count": null,
   "id": "8d07ad0c-72cb-4e2e-bf3b-08a9edc4d0b7",
   "metadata": {},
   "outputs": [],
   "source": [
    "stop_info_on_day = (\n",
    "    # Trips table has shape_id\n",
    "    tbl.views.gtfs_schedule_dim_trips()\n",
    "    >> select(_.calitp_itp_id, _.calitp_url_number, _.shape_id, \n",
    "              _.trip_id)\n",
    "    >> distinct()\n",
    "    # Attach historical shape_id\n",
    "    >> inner_join(_, shapes, \n",
    "                  [\"calitp_itp_id\", \"calitp_url_number\", \"shape_id\"])\n",
    "    # dim_stop_times has the stop_id and stop_sequence\n",
    "    >> inner_join(_, \n",
    "                  (tbl.views.gtfs_schedule_dim_stop_times()\n",
    "                   >> select(_.calitp_itp_id, _.calitp_url_number, \n",
    "                             _.trip_id, _.stop_id, _.stop_sequence\n",
    "                            )\n",
    "                  ), on = [\"calitp_itp_id\", \"calitp_url_number\", \"trip_id\"]\n",
    "                 )\n",
    "    # dim_stops has the stop_id and lat/lon\n",
    "    >> inner_join(_,\n",
    "                  (tbl.views.gtfs_schedule_dim_stops() \n",
    "                   >> select(_.calitp_itp_id, _.calitp_url_number, \n",
    "                             _.stop_id, _.stop_lon, _.stop_lat)\n",
    "                  ), on = [\"calitp_itp_id\", \"calitp_url_number\", \"stop_id\"]\n",
    "     )\n",
    ")"
   ]
  },
  {
   "cell_type": "code",
   "execution_count": null,
   "id": "1a140503-2126-4d13-b26d-3454dc264734",
   "metadata": {},
   "outputs": [],
   "source": [
    "stop_info_on_day\n"
   ]
  },
  {
   "cell_type": "code",
   "execution_count": 10,
   "id": "3c43d294-7e2a-40bc-981a-ce9ead81ddd5",
   "metadata": {},
   "outputs": [],
   "source": [
    "from calitp.tables import tbl\n",
    "from calitp import query_sql\n",
    "from siuba import *\n",
    "\n",
    "import datetime as dt\n",
    "\n",
    "\n",
    "table = query_sql(\n",
    "    '''\n",
    "    with lat_long as (\n",
    "        SELECT \n",
    "            calitp_itp_id,\n",
    "            calitp_url_number,\n",
    "            calitp_extracted_at,\n",
    "            shape_id,\n",
    "            shape_pt_sequence,\n",
    "            calitp_deleted_at,\n",
    "\n",
    "        ST_GEOGPOINT(CAST(shape_pt_lon AS FLOAT64), CAST(shape_pt_lat AS FLOAT64)) as pt_geom\n",
    "        FROM `cal-itp-data-infra.gtfs_schedule_type2.shapes`\n",
    "        WHERE\n",
    "            calitp_itp_id = 182 AND calitp_extracted_at <= '2021-10-22'\n",
    "            AND calitp_deleted_at > '2021-10-22'\n",
    "        #LIMIT 100\n",
    "    )\n",
    "\n",
    "    SELECT \n",
    "        calitp_itp_id,\n",
    "        calitp_url_number,\n",
    "        shape_id,\n",
    "        calitp_extracted_at,\n",
    "        calitp_deleted_at,\n",
    "        ST_MAKELINE(ARRAY_AGG(pt_geom ORDER BY shape_pt_sequence)) as line_geom\n",
    "    FROM lat_long\n",
    "    GROUP BY \n",
    "        calitp_itp_id,\n",
    "        calitp_url_number,\n",
    "        calitp_extracted_at,\n",
    "        calitp_deleted_at,\n",
    "        shape_id\n",
    "    '''\n",
    ")"
   ]
  },
  {
   "cell_type": "code",
   "execution_count": 12,
   "id": "5f3db070-040d-4dc3-ba31-42c5b693dd2b",
   "metadata": {},
   "outputs": [
    {
     "data": {
      "text/plain": [
       "737"
      ]
     },
     "execution_count": 12,
     "metadata": {},
     "output_type": "execute_result"
    }
   ],
   "source": [
    "len(table)"
   ]
  },
  {
   "cell_type": "code",
   "execution_count": 28,
   "id": "596cf466-57f1-4483-9286-053d00b80bda",
   "metadata": {},
   "outputs": [
    {
     "data": {
      "text/plain": [
       "pandas.core.frame.DataFrame"
      ]
     },
     "execution_count": 28,
     "metadata": {},
     "output_type": "execute_result"
    }
   ],
   "source": [
    "type(table)"
   ]
  },
  {
   "cell_type": "code",
   "execution_count": 29,
   "id": "7c85e248-35e5-42b4-8725-8ea745f91e03",
   "metadata": {},
   "outputs": [
    {
     "data": {
      "text/html": [
       "<div>\n",
       "<style scoped>\n",
       "    .dataframe tbody tr th:only-of-type {\n",
       "        vertical-align: middle;\n",
       "    }\n",
       "\n",
       "    .dataframe tbody tr th {\n",
       "        vertical-align: top;\n",
       "    }\n",
       "\n",
       "    .dataframe thead th {\n",
       "        text-align: right;\n",
       "    }\n",
       "</style>\n",
       "<table border=\"1\" class=\"dataframe\">\n",
       "  <thead>\n",
       "    <tr style=\"text-align: right;\">\n",
       "      <th></th>\n",
       "      <th>calitp_itp_id</th>\n",
       "      <th>calitp_url_number</th>\n",
       "      <th>shape_id</th>\n",
       "      <th>calitp_extracted_at</th>\n",
       "      <th>calitp_deleted_at</th>\n",
       "      <th>line_geom</th>\n",
       "    </tr>\n",
       "  </thead>\n",
       "  <tbody>\n",
       "    <tr>\n",
       "      <th>0</th>\n",
       "      <td>182</td>\n",
       "      <td>0</td>\n",
       "      <td>3440046_SEPT21</td>\n",
       "      <td>2021-09-11</td>\n",
       "      <td>2021-12-18</td>\n",
       "      <td>LINESTRING(-118.3938392132 33.7485916172, -118...</td>\n",
       "    </tr>\n",
       "    <tr>\n",
       "      <th>1</th>\n",
       "      <td>182</td>\n",
       "      <td>0</td>\n",
       "      <td>600163_SEPT21</td>\n",
       "      <td>2021-09-11</td>\n",
       "      <td>2021-12-18</td>\n",
       "      <td>LINESTRING(-118.2506765752 34.0457890895, -118...</td>\n",
       "    </tr>\n",
       "    <tr>\n",
       "      <th>2</th>\n",
       "      <td>182</td>\n",
       "      <td>0</td>\n",
       "      <td>1060039_SEPT21</td>\n",
       "      <td>2021-09-11</td>\n",
       "      <td>2021-12-18</td>\n",
       "      <td>LINESTRING(-118.1708846075 34.0608701608, -118...</td>\n",
       "    </tr>\n",
       "    <tr>\n",
       "      <th>3</th>\n",
       "      <td>182</td>\n",
       "      <td>0</td>\n",
       "      <td>2330163_SEPT21</td>\n",
       "      <td>2021-09-11</td>\n",
       "      <td>2021-12-18</td>\n",
       "      <td>MULTILINESTRING((-118.4662137534 34.1529898627...</td>\n",
       "    </tr>\n",
       "    <tr>\n",
       "      <th>4</th>\n",
       "      <td>182</td>\n",
       "      <td>0</td>\n",
       "      <td>7610069_SEPT21</td>\n",
       "      <td>2021-09-11</td>\n",
       "      <td>2021-12-18</td>\n",
       "      <td>LINESTRING(-118.4686209771 34.0737097818, -118...</td>\n",
       "    </tr>\n",
       "    <tr>\n",
       "      <th>...</th>\n",
       "      <td>...</td>\n",
       "      <td>...</td>\n",
       "      <td>...</td>\n",
       "      <td>...</td>\n",
       "      <td>...</td>\n",
       "      <td>...</td>\n",
       "    </tr>\n",
       "    <tr>\n",
       "      <th>732</th>\n",
       "      <td>182</td>\n",
       "      <td>0</td>\n",
       "      <td>1640064_SEPT21</td>\n",
       "      <td>2021-09-11</td>\n",
       "      <td>2021-12-18</td>\n",
       "      <td>LINESTRING(-118.5445848907 34.1866093989, -118...</td>\n",
       "    </tr>\n",
       "    <tr>\n",
       "      <th>733</th>\n",
       "      <td>182</td>\n",
       "      <td>0</td>\n",
       "      <td>780440_SEPT21</td>\n",
       "      <td>2021-09-11</td>\n",
       "      <td>2021-12-18</td>\n",
       "      <td>LINESTRING(-118.1840029609 34.0860782363, -118...</td>\n",
       "    </tr>\n",
       "    <tr>\n",
       "      <th>734</th>\n",
       "      <td>182</td>\n",
       "      <td>0</td>\n",
       "      <td>21103_SEPT21</td>\n",
       "      <td>2021-09-11</td>\n",
       "      <td>2021-12-18</td>\n",
       "      <td>LINESTRING(-118.302979346 34.0981244752, -118....</td>\n",
       "    </tr>\n",
       "    <tr>\n",
       "      <th>735</th>\n",
       "      <td>182</td>\n",
       "      <td>0</td>\n",
       "      <td>2600263_SEPT21</td>\n",
       "      <td>2021-09-11</td>\n",
       "      <td>2021-12-18</td>\n",
       "      <td>LINESTRING(-118.1505729473 34.1575287701, -118...</td>\n",
       "    </tr>\n",
       "    <tr>\n",
       "      <th>736</th>\n",
       "      <td>182</td>\n",
       "      <td>0</td>\n",
       "      <td>1820013_SEPT21</td>\n",
       "      <td>2021-09-11</td>\n",
       "      <td>2021-12-18</td>\n",
       "      <td>LINESTRING(-118.2322269669 34.1184294112, -118...</td>\n",
       "    </tr>\n",
       "  </tbody>\n",
       "</table>\n",
       "<p>737 rows × 6 columns</p>\n",
       "</div>"
      ],
      "text/plain": [
       "     calitp_itp_id  calitp_url_number        shape_id calitp_extracted_at  \\\n",
       "0              182                  0  3440046_SEPT21          2021-09-11   \n",
       "1              182                  0   600163_SEPT21          2021-09-11   \n",
       "2              182                  0  1060039_SEPT21          2021-09-11   \n",
       "3              182                  0  2330163_SEPT21          2021-09-11   \n",
       "4              182                  0  7610069_SEPT21          2021-09-11   \n",
       "..             ...                ...             ...                 ...   \n",
       "732            182                  0  1640064_SEPT21          2021-09-11   \n",
       "733            182                  0   780440_SEPT21          2021-09-11   \n",
       "734            182                  0    21103_SEPT21          2021-09-11   \n",
       "735            182                  0  2600263_SEPT21          2021-09-11   \n",
       "736            182                  0  1820013_SEPT21          2021-09-11   \n",
       "\n",
       "    calitp_deleted_at                                          line_geom  \n",
       "0          2021-12-18  LINESTRING(-118.3938392132 33.7485916172, -118...  \n",
       "1          2021-12-18  LINESTRING(-118.2506765752 34.0457890895, -118...  \n",
       "2          2021-12-18  LINESTRING(-118.1708846075 34.0608701608, -118...  \n",
       "3          2021-12-18  MULTILINESTRING((-118.4662137534 34.1529898627...  \n",
       "4          2021-12-18  LINESTRING(-118.4686209771 34.0737097818, -118...  \n",
       "..                ...                                                ...  \n",
       "732        2021-12-18  LINESTRING(-118.5445848907 34.1866093989, -118...  \n",
       "733        2021-12-18  LINESTRING(-118.1840029609 34.0860782363, -118...  \n",
       "734        2021-12-18  LINESTRING(-118.302979346 34.0981244752, -118....  \n",
       "735        2021-12-18  LINESTRING(-118.1505729473 34.1575287701, -118...  \n",
       "736        2021-12-18  LINESTRING(-118.2322269669 34.1184294112, -118...  \n",
       "\n",
       "[737 rows x 6 columns]"
      ]
     },
     "execution_count": 29,
     "metadata": {},
     "output_type": "execute_result"
    }
   ],
   "source": [
    "table"
   ]
  },
  {
   "cell_type": "code",
   "execution_count": 49,
   "id": "e6b74a62-d7ee-49a2-bc9d-950a8cad216e",
   "metadata": {},
   "outputs": [
    {
     "name": "stderr",
     "output_type": "stream",
     "text": [
      "/tmp/ipykernel_971/1209514510.py:3: FutureWarning: Assigning CRS to a GeoDataFrame without a geometry column is now deprecated and will not be supported in the future.\n",
      "  t1 = gpd.GeoDataFrame(table, crs=\"EPSG:4326\")\n"
     ]
    }
   ],
   "source": [
    "table = table.rename(columns = {\"line_geom\": \"geometry\"})\n",
    "\n",
    "t1 = gpd.GeoDataFrame(table, crs=\"EPSG:4326\")\n",
    "\n",
    "t2 = t1[t1.shape_id.str.contains('720')]"
   ]
  },
  {
   "cell_type": "code",
   "execution_count": 56,
   "id": "d6745b16-8dcd-456e-a553-46fbd05aa138",
   "metadata": {},
   "outputs": [
    {
     "ename": "TypeError",
     "evalue": "One of the arguments is of incorrect type. Please provide only Geometry objects.",
     "output_type": "error",
     "traceback": [
      "\u001b[0;31m---------------------------------------------------------------------------\u001b[0m",
      "\u001b[0;31mTypeError\u001b[0m                                 Traceback (most recent call last)",
      "Input \u001b[0;32mIn [56]\u001b[0m, in \u001b[0;36m<cell line: 1>\u001b[0;34m()\u001b[0m\n\u001b[0;32m----> 1\u001b[0m \u001b[43mt2\u001b[49m\u001b[38;5;241;43m.\u001b[39;49m\u001b[43mplot\u001b[49m\u001b[43m(\u001b[49m\u001b[43m)\u001b[49m\n",
      "File \u001b[0;32m/opt/conda/lib/python3.9/site-packages/geopandas/plotting.py:950\u001b[0m, in \u001b[0;36mGeoplotAccessor.__call__\u001b[0;34m(self, *args, **kwargs)\u001b[0m\n\u001b[1;32m    948\u001b[0m kind \u001b[38;5;241m=\u001b[39m kwargs\u001b[38;5;241m.\u001b[39mpop(\u001b[38;5;124m\"\u001b[39m\u001b[38;5;124mkind\u001b[39m\u001b[38;5;124m\"\u001b[39m, \u001b[38;5;124m\"\u001b[39m\u001b[38;5;124mgeo\u001b[39m\u001b[38;5;124m\"\u001b[39m)\n\u001b[1;32m    949\u001b[0m \u001b[38;5;28;01mif\u001b[39;00m kind \u001b[38;5;241m==\u001b[39m \u001b[38;5;124m\"\u001b[39m\u001b[38;5;124mgeo\u001b[39m\u001b[38;5;124m\"\u001b[39m:\n\u001b[0;32m--> 950\u001b[0m     \u001b[38;5;28;01mreturn\u001b[39;00m \u001b[43mplot_dataframe\u001b[49m\u001b[43m(\u001b[49m\u001b[43mdata\u001b[49m\u001b[43m,\u001b[49m\u001b[43m \u001b[49m\u001b[38;5;241;43m*\u001b[39;49m\u001b[43margs\u001b[49m\u001b[43m,\u001b[49m\u001b[43m \u001b[49m\u001b[38;5;241;43m*\u001b[39;49m\u001b[38;5;241;43m*\u001b[39;49m\u001b[43mkwargs\u001b[49m\u001b[43m)\u001b[49m\n\u001b[1;32m    951\u001b[0m \u001b[38;5;28;01mif\u001b[39;00m kind \u001b[38;5;129;01min\u001b[39;00m \u001b[38;5;28mself\u001b[39m\u001b[38;5;241m.\u001b[39m_pandas_kinds:\n\u001b[1;32m    952\u001b[0m     \u001b[38;5;66;03m# Access pandas plots\u001b[39;00m\n\u001b[1;32m    953\u001b[0m     \u001b[38;5;28;01mreturn\u001b[39;00m PlotAccessor(data)(kind\u001b[38;5;241m=\u001b[39mkind, \u001b[38;5;241m*\u001b[39m\u001b[38;5;241m*\u001b[39mkwargs)\n",
      "File \u001b[0;32m/opt/conda/lib/python3.9/site-packages/geopandas/plotting.py:665\u001b[0m, in \u001b[0;36mplot_dataframe\u001b[0;34m(df, column, cmap, color, ax, cax, categorical, legend, scheme, k, vmin, vmax, markersize, figsize, legend_kwds, categories, classification_kwds, missing_kwds, aspect, **style_kwds)\u001b[0m\n\u001b[1;32m    663\u001b[0m \u001b[38;5;28;01mif\u001b[39;00m aspect \u001b[38;5;241m==\u001b[39m \u001b[38;5;124m\"\u001b[39m\u001b[38;5;124mauto\u001b[39m\u001b[38;5;124m\"\u001b[39m:\n\u001b[1;32m    664\u001b[0m     \u001b[38;5;28;01mif\u001b[39;00m df\u001b[38;5;241m.\u001b[39mcrs \u001b[38;5;129;01mand\u001b[39;00m df\u001b[38;5;241m.\u001b[39mcrs\u001b[38;5;241m.\u001b[39mis_geographic:\n\u001b[0;32m--> 665\u001b[0m         bounds \u001b[38;5;241m=\u001b[39m \u001b[43mdf\u001b[49m\u001b[38;5;241;43m.\u001b[39;49m\u001b[43mtotal_bounds\u001b[49m\n\u001b[1;32m    666\u001b[0m         y_coord \u001b[38;5;241m=\u001b[39m np\u001b[38;5;241m.\u001b[39mmean([bounds[\u001b[38;5;241m1\u001b[39m], bounds[\u001b[38;5;241m3\u001b[39m]])\n\u001b[1;32m    667\u001b[0m         ax\u001b[38;5;241m.\u001b[39mset_aspect(\u001b[38;5;241m1\u001b[39m \u001b[38;5;241m/\u001b[39m np\u001b[38;5;241m.\u001b[39mcos(y_coord \u001b[38;5;241m*\u001b[39m np\u001b[38;5;241m.\u001b[39mpi \u001b[38;5;241m/\u001b[39m \u001b[38;5;241m180\u001b[39m))\n",
      "File \u001b[0;32m/opt/conda/lib/python3.9/site-packages/geopandas/base.py:2584\u001b[0m, in \u001b[0;36mGeoPandasBase.total_bounds\u001b[0;34m(self)\u001b[0m\n\u001b[1;32m   2567\u001b[0m \u001b[38;5;129m@property\u001b[39m\n\u001b[1;32m   2568\u001b[0m \u001b[38;5;28;01mdef\u001b[39;00m \u001b[38;5;21mtotal_bounds\u001b[39m(\u001b[38;5;28mself\u001b[39m):\n\u001b[1;32m   2569\u001b[0m     \u001b[38;5;124;03m\"\"\"Returns a tuple containing ``minx``, ``miny``, ``maxx``, ``maxy``\u001b[39;00m\n\u001b[1;32m   2570\u001b[0m \u001b[38;5;124;03m    values for the bounds of the series as a whole.\u001b[39;00m\n\u001b[1;32m   2571\u001b[0m \n\u001b[0;32m   (...)\u001b[0m\n\u001b[1;32m   2582\u001b[0m \u001b[38;5;124;03m    array([ 0., -1.,  3.,  2.])\u001b[39;00m\n\u001b[1;32m   2583\u001b[0m \u001b[38;5;124;03m    \"\"\"\u001b[39;00m\n\u001b[0;32m-> 2584\u001b[0m     \u001b[38;5;28;01mreturn\u001b[39;00m \u001b[43mGeometryArray\u001b[49m\u001b[43m(\u001b[49m\u001b[38;5;28;43mself\u001b[39;49m\u001b[38;5;241;43m.\u001b[39;49m\u001b[43mgeometry\u001b[49m\u001b[38;5;241;43m.\u001b[39;49m\u001b[43mvalues\u001b[49m\u001b[43m)\u001b[49m\u001b[38;5;241;43m.\u001b[39;49m\u001b[43mtotal_bounds\u001b[49m\n",
      "File \u001b[0;32m/opt/conda/lib/python3.9/site-packages/geopandas/array.py:915\u001b[0m, in \u001b[0;36mGeometryArray.total_bounds\u001b[0;34m(self)\u001b[0m\n\u001b[1;32m    911\u001b[0m \u001b[38;5;28;01mif\u001b[39;00m \u001b[38;5;28mlen\u001b[39m(\u001b[38;5;28mself\u001b[39m) \u001b[38;5;241m==\u001b[39m \u001b[38;5;241m0\u001b[39m:\n\u001b[1;32m    912\u001b[0m     \u001b[38;5;66;03m# numpy 'min' cannot handle empty arrays\u001b[39;00m\n\u001b[1;32m    913\u001b[0m     \u001b[38;5;66;03m# TODO with numpy >= 1.15, the 'initial' argument can be used\u001b[39;00m\n\u001b[1;32m    914\u001b[0m     \u001b[38;5;28;01mreturn\u001b[39;00m np\u001b[38;5;241m.\u001b[39marray([np\u001b[38;5;241m.\u001b[39mnan, np\u001b[38;5;241m.\u001b[39mnan, np\u001b[38;5;241m.\u001b[39mnan, np\u001b[38;5;241m.\u001b[39mnan])\n\u001b[0;32m--> 915\u001b[0m b \u001b[38;5;241m=\u001b[39m \u001b[38;5;28;43mself\u001b[39;49m\u001b[38;5;241;43m.\u001b[39;49m\u001b[43mbounds\u001b[49m\n\u001b[1;32m    916\u001b[0m \u001b[38;5;28;01mreturn\u001b[39;00m np\u001b[38;5;241m.\u001b[39marray(\n\u001b[1;32m    917\u001b[0m     (\n\u001b[1;32m    918\u001b[0m         np\u001b[38;5;241m.\u001b[39mnanmin(b[:, \u001b[38;5;241m0\u001b[39m]),  \u001b[38;5;66;03m# minx\u001b[39;00m\n\u001b[0;32m   (...)\u001b[0m\n\u001b[1;32m    922\u001b[0m     )\n\u001b[1;32m    923\u001b[0m )\n",
      "File \u001b[0;32m/opt/conda/lib/python3.9/site-packages/geopandas/array.py:907\u001b[0m, in \u001b[0;36mGeometryArray.bounds\u001b[0;34m(self)\u001b[0m\n\u001b[1;32m    905\u001b[0m \u001b[38;5;129m@property\u001b[39m\n\u001b[1;32m    906\u001b[0m \u001b[38;5;28;01mdef\u001b[39;00m \u001b[38;5;21mbounds\u001b[39m(\u001b[38;5;28mself\u001b[39m):\n\u001b[0;32m--> 907\u001b[0m     \u001b[38;5;28;01mreturn\u001b[39;00m \u001b[43mvectorized\u001b[49m\u001b[38;5;241;43m.\u001b[39;49m\u001b[43mbounds\u001b[49m\u001b[43m(\u001b[49m\u001b[38;5;28;43mself\u001b[39;49m\u001b[38;5;241;43m.\u001b[39;49m\u001b[43mdata\u001b[49m\u001b[43m)\u001b[49m\n",
      "File \u001b[0;32m/opt/conda/lib/python3.9/site-packages/geopandas/_vectorized.py:930\u001b[0m, in \u001b[0;36mbounds\u001b[0;34m(data)\u001b[0m\n\u001b[1;32m    928\u001b[0m \u001b[38;5;28;01mdef\u001b[39;00m \u001b[38;5;21mbounds\u001b[39m(data):\n\u001b[1;32m    929\u001b[0m     \u001b[38;5;28;01mif\u001b[39;00m compat\u001b[38;5;241m.\u001b[39mUSE_PYGEOS:\n\u001b[0;32m--> 930\u001b[0m         \u001b[38;5;28;01mreturn\u001b[39;00m \u001b[43mpygeos\u001b[49m\u001b[38;5;241;43m.\u001b[39;49m\u001b[43mbounds\u001b[49m\u001b[43m(\u001b[49m\u001b[43mdata\u001b[49m\u001b[43m)\u001b[49m\n\u001b[1;32m    931\u001b[0m     \u001b[38;5;66;03m# ensure that for empty arrays, the result has the correct shape\u001b[39;00m\n\u001b[1;32m    932\u001b[0m     \u001b[38;5;28;01mif\u001b[39;00m \u001b[38;5;28mlen\u001b[39m(data) \u001b[38;5;241m==\u001b[39m \u001b[38;5;241m0\u001b[39m:\n",
      "File \u001b[0;32m/opt/conda/lib/python3.9/site-packages/pygeos/decorators.py:80\u001b[0m, in \u001b[0;36mmultithreading_enabled.<locals>.wrapped\u001b[0;34m(*args, **kwargs)\u001b[0m\n\u001b[1;32m     78\u001b[0m     \u001b[38;5;28;01mfor\u001b[39;00m arr \u001b[38;5;129;01min\u001b[39;00m array_args:\n\u001b[1;32m     79\u001b[0m         arr\u001b[38;5;241m.\u001b[39mflags\u001b[38;5;241m.\u001b[39mwriteable \u001b[38;5;241m=\u001b[39m \u001b[38;5;28;01mFalse\u001b[39;00m\n\u001b[0;32m---> 80\u001b[0m     \u001b[38;5;28;01mreturn\u001b[39;00m \u001b[43mfunc\u001b[49m\u001b[43m(\u001b[49m\u001b[38;5;241;43m*\u001b[39;49m\u001b[43margs\u001b[49m\u001b[43m,\u001b[49m\u001b[43m \u001b[49m\u001b[38;5;241;43m*\u001b[39;49m\u001b[38;5;241;43m*\u001b[39;49m\u001b[43mkwargs\u001b[49m\u001b[43m)\u001b[49m\n\u001b[1;32m     81\u001b[0m \u001b[38;5;28;01mfinally\u001b[39;00m:\n\u001b[1;32m     82\u001b[0m     \u001b[38;5;28;01mfor\u001b[39;00m arr, old_flag \u001b[38;5;129;01min\u001b[39;00m \u001b[38;5;28mzip\u001b[39m(array_args, old_flags):\n",
      "File \u001b[0;32m/opt/conda/lib/python3.9/site-packages/pygeos/measurement.py:103\u001b[0m, in \u001b[0;36mbounds\u001b[0;34m(geometry, **kwargs)\u001b[0m\n\u001b[1;32m    101\u001b[0m geometry_arr \u001b[38;5;241m=\u001b[39m np\u001b[38;5;241m.\u001b[39masarray(geometry, dtype\u001b[38;5;241m=\u001b[39mnp\u001b[38;5;241m.\u001b[39mobject_)\n\u001b[1;32m    102\u001b[0m out \u001b[38;5;241m=\u001b[39m np\u001b[38;5;241m.\u001b[39mempty(geometry_arr\u001b[38;5;241m.\u001b[39mshape \u001b[38;5;241m+\u001b[39m (\u001b[38;5;241m4\u001b[39m,), dtype\u001b[38;5;241m=\u001b[39m\u001b[38;5;124m\"\u001b[39m\u001b[38;5;124mfloat64\u001b[39m\u001b[38;5;124m\"\u001b[39m)\n\u001b[0;32m--> 103\u001b[0m \u001b[38;5;28;01mreturn\u001b[39;00m \u001b[43mlib\u001b[49m\u001b[38;5;241;43m.\u001b[39;49m\u001b[43mbounds\u001b[49m\u001b[43m(\u001b[49m\u001b[43mgeometry_arr\u001b[49m\u001b[43m,\u001b[49m\u001b[43m \u001b[49m\u001b[43mout\u001b[49m\u001b[38;5;241;43m=\u001b[39;49m\u001b[43mout\u001b[49m\u001b[43m,\u001b[49m\u001b[43m \u001b[49m\u001b[38;5;241;43m*\u001b[39;49m\u001b[38;5;241;43m*\u001b[39;49m\u001b[43mkwargs\u001b[49m\u001b[43m)\u001b[49m\n",
      "\u001b[0;31mTypeError\u001b[0m: One of the arguments is of incorrect type. Please provide only Geometry objects."
     ]
    },
    {
     "data": {
      "image/png": "[encoded data removed]",
      "text/plain": [
       "<Figure size 432x288 with 1 Axes>"
      ]
     },
     "metadata": {
      "needs_background": "light"
     },
     "output_type": "display_data"
    }
   ],
   "source": [
    "t2.plot()"
   ]
  },
  {
   "cell_type": "code",
   "execution_count": 53,
   "id": "235938f6-33cc-414c-b1e6-973421251fd9",
   "metadata": {},
   "outputs": [],
   "source": [
    "from shared_utils import geography_utils\n",
    "\n",
    "metro = geography_utils.make_routes_shapefile(ITP_ID_LIST = [182])"
   ]
  },
  {
   "cell_type": "code",
   "execution_count": null,
   "id": "df2b2f32-8274-472e-8677-a575e6e24c0a",
   "metadata": {},
   "outputs": [],
   "source": [
    "metro2 = metro[metro.shape_id.str.contains('720')]"
   ]
  },
  {
   "cell_type": "code",
   "execution_count": null,
   "id": "d46e3c45-ef93-4278-bf98-789ad250c510",
   "metadata": {},
   "outputs": [],
   "source": [
    "metro2.plot()"
   ]
  },
  {
   "cell_type": "code",
   "execution_count": null,
   "id": "8cb9dcba-78fc-493d-93f1-16de11390117",
   "metadata": {},
   "outputs": [],
   "source": []
  }
 ],
 "metadata": {
  "kernelspec": {
   "display_name": "Python 3 (ipykernel)",
   "language": "python",
   "name": "python3"
  },
  "language_info": {
   "codemirror_mode": {
    "name": "ipython",
    "version": 3
   },
   "file_extension": ".py",
   "mimetype": "text/x-python",
   "name": "python",
   "nbconvert_exporter": "python",
   "pygments_lexer": "ipython3",
   "version": "3.9.10"
  }
 },
 "nbformat": 4,
 "nbformat_minor": 5
}
