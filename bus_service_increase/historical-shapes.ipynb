{
 "cells": [
  {
   "cell_type": "markdown",
   "id": "ded0a09e-73d3-4314-83a3-189d25da0560",
   "metadata": {},
   "source": [
    "# Historical shapes\n",
    "Existence of the `gtfs_schedule_type2.shapes` table. Check out if this gives us what we need?\n",
    "\n",
    "[GH issue](https://github.com/cal-itp/data-infra/issues/1210)"
   ]
  },
  {
   "cell_type": "code",
   "execution_count": 1,
   "id": "d8ec8379-1cd4-403a-849a-16d71661a1fb",
   "metadata": {},
   "outputs": [
    {
     "name": "stderr",
     "output_type": "stream",
     "text": [
      "/opt/conda/lib/python3.9/site-packages/geopandas/_compat.py:111: UserWarning: The Shapely GEOS version (3.10.2-CAPI-1.16.0) is incompatible with the GEOS version PyGEOS was compiled with (3.10.1-CAPI-1.16.0). Conversions between both will be slow.\n",
      "  warnings.warn(\n"
     ]
    }
   ],
   "source": [
    "import datetime as dt\n",
    "import geopandas as gpd\n",
    "import os\n",
    "import pandas as pd\n",
    "\n",
    "os.environ[\"CALITP_BQ_MAX_BYTES\"] = str(100_000_000_000)\n",
    "\n",
    "from calitp.tables import tbl\n",
    "from calitp import query_sql\n",
    "from siuba import *"
   ]
  },
  {
   "cell_type": "code",
   "execution_count": 2,
   "id": "c3365411-47b9-4ca7-af45-ba2220380a09",
   "metadata": {},
   "outputs": [
    {
     "name": "stderr",
     "output_type": "stream",
     "text": [
      "/opt/conda/lib/python3.9/site-packages/siuba/sql/utils.py:52: SAWarning: Dialect bigquery:bigquery will not make use of SQL compilation caching as it does not set the 'supports_statement_cache' attribute to ``True``.  This can have significant performance implications including some performance degradations in comparison to prior SQLAlchemy versions.  Dialect maintainers should seek to set this attribute to True after appropriate development and testing for SQLAlchemy 1.4 caching support.   Alternatively, this attribute may be set to False which will disable this warning. (Background on this error at: https://sqlalche.me/e/14/cprf)\n",
      "  return self.connectable.execute(*args, **kwargs)\n"
     ]
    }
   ],
   "source": [
    "SELECTED_DATE = dt.date(2021, 10, 22)\n",
    "\n",
    "# Is this the correct query to use though?\n",
    "# Perhaps this isn't service date?\n",
    "shapes = (tbl.gtfs_schedule_type2.shapes()\n",
    " >> filter(_.calitp_itp_id==182)\n",
    " >> filter(_.calitp_extracted_at <= SELECTED_DATE, \n",
    "           _.calitp_deleted_at >= SELECTED_DATE)\n",
    "          >> collect()\n",
    ")"
   ]
  },
  {
   "cell_type": "code",
   "execution_count": 3,
   "id": "c70479f3-d9c6-48da-93bf-33533d8e8eda",
   "metadata": {},
   "outputs": [],
   "source": [
    "one_route = shapes[shapes.shape_id.str.contains(\"7201243_SEPT21\")]"
   ]
  },
  {
   "cell_type": "code",
   "execution_count": null,
   "id": "ca6c6831-f646-41a1-b001-b2890e6b472f",
   "metadata": {},
   "outputs": [],
   "source": [
    "#one_route = one_route.assign(\n",
    "#    route_id = one_route.shape_id\n",
    "#)"
   ]
  },
  {
   "cell_type": "code",
   "execution_count": 4,
   "id": "f0f266d9-d63f-410a-89fa-cdf1e1bf5027",
   "metadata": {},
   "outputs": [
    {
     "name": "stderr",
     "output_type": "stream",
     "text": [
      "E0318 16:49:23.013128939    1114 fork_posix.cc:70]           Fork support is only compatible with the epoll1 and poll polling strategies\n",
      "E0318 16:49:25.036819579    1114 fork_posix.cc:70]           Fork support is only compatible with the epoll1 and poll polling strategies\n"
     ]
    }
   ],
   "source": [
    "from shared_utils import geography_utils\n",
    "\n",
    "one_route2 = geography_utils.make_routes_shapefile(ITP_ID_LIST=[182], \n",
    "                                      CRS=\"EPSG:4326\", alternate_df=one_route)"
   ]
  },
  {
   "cell_type": "code",
   "execution_count": 5,
   "id": "d8f0e1fc-1388-4270-95df-752a2d54d4c4",
   "metadata": {},
   "outputs": [
    {
     "data": {
      "text/plain": [
       "<AxesSubplot:>"
      ]
     },
     "execution_count": 5,
     "metadata": {},
     "output_type": "execute_result"
    },
    {
     "data": {
      "image/png": "[encoded data removed]",
      "text/plain": [
       "<Figure size 432x288 with 1 Axes>"
      ]
     },
     "metadata": {
      "needs_background": "light"
     },
     "output_type": "display_data"
    }
   ],
   "source": [
    "one_route2.plot()"
   ]
  },
  {
   "cell_type": "code",
   "execution_count": 7,
   "id": "42872715-658d-4a0a-a464-2f4cca37b159",
   "metadata": {},
   "outputs": [
    {
     "data": {
      "text/html": [
       "<div>\n",
       "<style scoped>\n",
       "    .dataframe tbody tr th:only-of-type {\n",
       "        vertical-align: middle;\n",
       "    }\n",
       "\n",
       "    .dataframe tbody tr th {\n",
       "        vertical-align: top;\n",
       "    }\n",
       "\n",
       "    .dataframe thead th {\n",
       "        text-align: right;\n",
       "    }\n",
       "</style>\n",
       "<table border=\"1\" class=\"dataframe\">\n",
       "  <thead>\n",
       "    <tr style=\"text-align: right;\">\n",
       "      <th></th>\n",
       "      <th>calitp_itp_id</th>\n",
       "      <th>calitp_url_number</th>\n",
       "      <th>shape_id</th>\n",
       "      <th>geometry</th>\n",
       "    </tr>\n",
       "  </thead>\n",
       "  <tbody>\n",
       "    <tr>\n",
       "      <th>0</th>\n",
       "      <td>182</td>\n",
       "      <td>0</td>\n",
       "      <td>7201243_SEPT21</td>\n",
       "      <td>LINESTRING (-118.23994 34.03921, -118.23981 34...</td>\n",
       "    </tr>\n",
       "  </tbody>\n",
       "</table>\n",
       "</div>"
      ],
      "text/plain": [
       "   calitp_itp_id  calitp_url_number        shape_id  \\\n",
       "0            182                  0  7201243_SEPT21   \n",
       "\n",
       "                                            geometry  \n",
       "0  LINESTRING (-118.23994 34.03921, -118.23981 34...  "
      ]
     },
     "execution_count": 7,
     "metadata": {},
     "output_type": "execute_result"
    }
   ],
   "source": [
    "one_route2"
   ]
  },
  {
   "cell_type": "code",
   "execution_count": null,
   "id": "10a1f4d7-6924-40e7-a96f-bc6d8a1515d1",
   "metadata": {},
   "outputs": [],
   "source": []
  },
  {
   "cell_type": "code",
   "execution_count": null,
   "id": "ba3c0451-8c3f-4c1d-bca8-f55522c1937e",
   "metadata": {},
   "outputs": [],
   "source": []
  },
  {
   "cell_type": "code",
   "execution_count": null,
   "id": "a1b1376d-e258-42e4-b7d0-ec1b8e1af5ad",
   "metadata": {},
   "outputs": [],
   "source": [
    "# May need to add in fact_daily_trips\n",
    "# Does query below need to have a trip_key or stop_key?\n",
    "trip_cols = [\"calitp_itp_id\", \"route_id\", \"shape_id\"]\n",
    "\n",
    "dim_trips = (tbl.views.gtfs_schedule_dim_trips()\n",
    "             >> select(*trip_cols, _.trip_key)\n",
    "             >> distinct()\n",
    "            )\n",
    "\n",
    "trips = (tbl.views.gtfs_schedule_fact_daily_trips()\n",
    "         >> filter(_.service_date == SELECTED_DATE, \n",
    "                   _.is_in_service==True)\n",
    "         >> filter(_.calitp_itp_id==182)\n",
    "         >> select(_.trip_key, _.service_date)\n",
    "         >> inner_join(_, dim_trips, on = \"trip_key\")\n",
    "         >> select(*trip_cols)\n",
    "         >> distinct()\n",
    "         >> collect()\n",
    "        )"
   ]
  },
  {
   "cell_type": "code",
   "execution_count": null,
   "id": "7b7c3583-e381-49b0-a94f-04dd2ba14401",
   "metadata": {},
   "outputs": [],
   "source": [
    "shapes2 = (shapes \n",
    "           >> select(_.calitp_itp_id, _.shape_id)\n",
    "           >> distinct()\n",
    "           >> collect()\n",
    "          )"
   ]
  },
  {
   "cell_type": "code",
   "execution_count": null,
   "id": "8644ec23-ae70-4f31-a8a8-368484cfdf0c",
   "metadata": {},
   "outputs": [],
   "source": [
    "m1 = pd.merge(\n",
    "    shapes2,\n",
    "    trips,\n",
    "    on = [\"calitp_itp_id\", \"shape_id\"],\n",
    "    how = \"outer\",\n",
    "    validate = \"1:1\",\n",
    "    indicator=True\n",
    ")"
   ]
  },
  {
   "cell_type": "code",
   "execution_count": null,
   "id": "305ad840-856a-4090-a423-687a842ebc25",
   "metadata": {},
   "outputs": [],
   "source": [
    "m1._merge.value_counts()"
   ]
  },
  {
   "cell_type": "code",
   "execution_count": null,
   "id": "f3bf8845-0cb0-40e9-8c81-e0d49ef0735b",
   "metadata": {},
   "outputs": [],
   "source": [
    "dim_stop_times = (\n",
    "    tbl.views.gtfs_schedule_dim_stop_times()\n",
    "    >> filter(_.calitp_itp_id==182)\n",
    "    >> select(_.calitp_itp_id, _.calitp_url_number,\n",
    "             _.trip_id, _.stop_id, _.stop_sequence)\n",
    "    >> distinct()\n",
    "    >> collect()\n",
    ")"
   ]
  },
  {
   "cell_type": "code",
   "execution_count": null,
   "id": "ad7cadd7-3ce4-4eae-b46a-6c7b579d2b9a",
   "metadata": {},
   "outputs": [],
   "source": [
    "dim_stops = (\n",
    "    tbl.views.gtfs_schedule_dim_stops() \n",
    "    >> filter(_.calitp_itp_id==182)\n",
    "    >> select(_.calitp_itp_id, _.calitp_url_number, \n",
    "              _.stop_id, _.stop_lon, _.stop_lat)\n",
    "    >> distinct()\n",
    "    >> collect()\n",
    ")\n",
    "             "
   ]
  },
  {
   "cell_type": "code",
   "execution_count": null,
   "id": "10434031-b8ad-4bc9-a1f1-584c7adb24e8",
   "metadata": {},
   "outputs": [],
   "source": [
    "dim_stop_times.head(2)"
   ]
  },
  {
   "cell_type": "code",
   "execution_count": null,
   "id": "eacfa6ed-59fe-4b20-8183-e4b03f17365f",
   "metadata": {},
   "outputs": [],
   "source": [
    "m2 = pd.merge(\n",
    "    # this is at trip-level\n",
    "    dim_stop_times,\n",
    "    # Some stop_ids have different lat/lon...slightly different\n",
    "    (dim_stops\n",
    "     .sort_values([\"calitp_itp_id\", \"calitp_url_number\", \n",
    "                   \"stop_id\", \"stop_lon\"])\n",
    "     .drop_duplicates(subset=[\"calitp_itp_id\", \"calitp_url_number\", \"stop_id\"])\n",
    "    ),\n",
    "    on = [\"calitp_itp_id\", \"calitp_url_number\", \"stop_id\"],\n",
    "    how = \"outer\",\n",
    "    # m:1 because dim_stop_times is trip_level, so stop_id shows up multiple times\n",
    "    # But, force stop lat/lon to be unique, so it can be m:1 merge\n",
    "    validate = \"m:1\",\n",
    "    indicator=True\n",
    ")"
   ]
  },
  {
   "cell_type": "code",
   "execution_count": null,
   "id": "1b3dddef-f6db-4122-93f3-9e54b5ea075d",
   "metadata": {},
   "outputs": [],
   "source": [
    "m2._merge.value_counts()"
   ]
  },
  {
   "cell_type": "code",
   "execution_count": null,
   "id": "8d07ad0c-72cb-4e2e-bf3b-08a9edc4d0b7",
   "metadata": {},
   "outputs": [],
   "source": [
    "stop_info_on_day = (\n",
    "    # Trips table has shape_id\n",
    "    tbl.views.gtfs_schedule_dim_trips()\n",
    "    >> select(_.calitp_itp_id, _.calitp_url_number, _.shape_id, \n",
    "              _.trip_id)\n",
    "    >> distinct()\n",
    "    # Attach historical shape_id\n",
    "    >> inner_join(_, shapes, \n",
    "                  [\"calitp_itp_id\", \"calitp_url_number\", \"shape_id\"])\n",
    "    # dim_stop_times has the stop_id and stop_sequence\n",
    "    >> inner_join(_, \n",
    "                  (tbl.views.gtfs_schedule_dim_stop_times()\n",
    "                   >> select(_.calitp_itp_id, _.calitp_url_number, \n",
    "                             _.trip_id, _.stop_id, _.stop_sequence\n",
    "                            )\n",
    "                  ), on = [\"calitp_itp_id\", \"calitp_url_number\", \"trip_id\"]\n",
    "                 )\n",
    "    # dim_stops has the stop_id and lat/lon\n",
    "    >> inner_join(_,\n",
    "                  (tbl.views.gtfs_schedule_dim_stops() \n",
    "                   >> select(_.calitp_itp_id, _.calitp_url_number, \n",
    "                             _.stop_id, _.stop_lon, _.stop_lat)\n",
    "                  ), on = [\"calitp_itp_id\", \"calitp_url_number\", \"stop_id\"]\n",
    "     )\n",
    ")"
   ]
  },
  {
   "cell_type": "code",
   "execution_count": null,
   "id": "1a140503-2126-4d13-b26d-3454dc264734",
   "metadata": {},
   "outputs": [],
   "source": [
    "stop_info_on_day\n"
   ]
  },
  {
   "cell_type": "code",
   "execution_count": null,
   "id": "3c43d294-7e2a-40bc-981a-ce9ead81ddd5",
   "metadata": {},
   "outputs": [],
   "source": [
    "from calitp.tables import tbl\n",
    "from calitp import query_sql\n",
    "from siuba import *\n",
    "\n",
    "import datetime as dt\n",
    "\n",
    "\n",
    "table = query_sql(\n",
    "    '''\n",
    "    with lat_long as (\n",
    "        SELECT \n",
    "            calitp_itp_id,\n",
    "            calitp_url_number,\n",
    "            calitp_extracted_at,\n",
    "            shape_id,\n",
    "            shape_pt_sequence,\n",
    "            calitp_deleted_at,\n",
    "\n",
    "        ST_GEOGPOINT(CAST(shape_pt_lon AS FLOAT64), CAST(shape_pt_lat AS FLOAT64)) as pt_geom\n",
    "        FROM `cal-itp-data-infra.gtfs_schedule_type2.shapes`\n",
    "        WHERE\n",
    "            calitp_itp_id = 182 AND calitp_extracted_at <= '2021-10-22'\n",
    "            AND calitp_deleted_at > '2021-10-22'\n",
    "        #LIMIT 100\n",
    "    )\n",
    "\n",
    "    SELECT \n",
    "        calitp_itp_id,\n",
    "        calitp_url_number,\n",
    "        shape_id,\n",
    "        calitp_extracted_at,\n",
    "        calitp_deleted_at,\n",
    "        ST_MAKELINE(ARRAY_AGG(pt_geom ORDER BY shape_pt_sequence)) as line_geom\n",
    "    FROM lat_long\n",
    "    GROUP BY \n",
    "        calitp_itp_id,\n",
    "        calitp_url_number,\n",
    "        calitp_extracted_at,\n",
    "        calitp_deleted_at,\n",
    "        shape_id\n",
    "    '''\n",
    ")"
   ]
  },
  {
   "cell_type": "code",
   "execution_count": null,
   "id": "5f3db070-040d-4dc3-ba31-42c5b693dd2b",
   "metadata": {},
   "outputs": [],
   "source": [
    "len(table)"
   ]
  },
  {
   "cell_type": "code",
   "execution_count": null,
   "id": "596cf466-57f1-4483-9286-053d00b80bda",
   "metadata": {},
   "outputs": [],
   "source": [
    "type(table)"
   ]
  },
  {
   "cell_type": "code",
   "execution_count": null,
   "id": "7c85e248-35e5-42b4-8725-8ea745f91e03",
   "metadata": {},
   "outputs": [],
   "source": [
    "table"
   ]
  },
  {
   "cell_type": "code",
   "execution_count": null,
   "id": "e6b74a62-d7ee-49a2-bc9d-950a8cad216e",
   "metadata": {},
   "outputs": [],
   "source": [
    "table = table.rename(columns = {\"line_geom\": \"geometry\"})\n",
    "\n",
    "t1 = gpd.GeoDataFrame(table, crs=\"EPSG:4326\")\n",
    "\n",
    "t2 = t1[t1.shape_id.str.contains('720')]"
   ]
  },
  {
   "cell_type": "code",
   "execution_count": null,
   "id": "d6745b16-8dcd-456e-a553-46fbd05aa138",
   "metadata": {},
   "outputs": [],
   "source": [
    "t2.plot()"
   ]
  },
  {
   "cell_type": "code",
   "execution_count": null,
   "id": "235938f6-33cc-414c-b1e6-973421251fd9",
   "metadata": {},
   "outputs": [],
   "source": [
    "from shared_utils import geography_utils\n",
    "\n",
    "metro = geography_utils.make_routes_shapefile(ITP_ID_LIST = [182])"
   ]
  },
  {
   "cell_type": "code",
   "execution_count": null,
   "id": "df2b2f32-8274-472e-8677-a575e6e24c0a",
   "metadata": {},
   "outputs": [],
   "source": [
    "metro2 = metro[metro.shape_id.str.contains('720')]"
   ]
  },
  {
   "cell_type": "code",
   "execution_count": null,
   "id": "d46e3c45-ef93-4278-bf98-789ad250c510",
   "metadata": {},
   "outputs": [],
   "source": [
    "metro2.plot()"
   ]
  },
  {
   "cell_type": "code",
   "execution_count": null,
   "id": "8cb9dcba-78fc-493d-93f1-16de11390117",
   "metadata": {},
   "outputs": [],
   "source": []
  }
 ],
 "metadata": {
  "kernelspec": {
   "display_name": "Python 3 (ipykernel)",
   "language": "python",
   "name": "python3"
  },
  "language_info": {
   "codemirror_mode": {
    "name": "ipython",
    "version": 3
   },
   "file_extension": ".py",
   "mimetype": "text/x-python",
   "name": "python",
   "nbconvert_exporter": "python",
   "pygments_lexer": "ipython3",
   "version": "3.9.10"
  }
 },
 "nbformat": 4,
 "nbformat_minor": 5
}
