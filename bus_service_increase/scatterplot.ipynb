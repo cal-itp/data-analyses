{
 "cells": [
  {
   "cell_type": "markdown",
   "id": "61e6ce47-9f3b-42ba-b152-47a24a28ef98",
   "metadata": {},
   "source": [
    "# Highway Corridors in {state}\n",
    "\n",
    "Where are the opportunities for better transit service on highways? Seattle has a lot of highways with transit that are more express service style, which complement the local transit service. \n",
    "\n",
    "What highways would benefit from more complementary bus express service? If Caltrans were to launch its express bus line on the highways, where would you put it?\n",
    "\n",
    "Draw quadrant? See which highway corridors have a lot of parallel routes per mile, but few competitive routes per mile? % parallel routes vs % competitive routes? Both are normalized metrics."
   ]
  },
  {
   "cell_type": "code",
   "execution_count": 1,
   "id": "71ff77e6-c4f3-4abc-9d52-590a8fa364b7",
   "metadata": {},
   "outputs": [
    {
     "name": "stderr",
     "output_type": "stream",
     "text": [
      "/opt/conda/lib/python3.9/site-packages/geopandas/_compat.py:111: UserWarning: The Shapely GEOS version (3.10.2-CAPI-1.16.0) is incompatible with the GEOS version PyGEOS was compiled with (3.10.1-CAPI-1.16.0). Conversions between both will be slow.\n",
      "  warnings.warn(\n"
     ]
    }
   ],
   "source": [
    "import altair as alt\n",
    "import branca\n",
    "import geopandas as gpd\n",
    "import intake\n",
    "import pandas as pd\n",
    "\n",
    "from IPython.display import Markdown, HTML\n",
    "\n",
    "import setup_corridors_stats\n",
    "from create_parallel_corridors import IMG_PATH, DATA_PATH\n",
    "from shared_utils import geography_utils, map_utils, styleguide\n",
    "from shared_utils import calitp_color_palette as cp\n",
    "\n",
    "alt.themes.register(\"calitp_theme\", styleguide.calitp_theme)\n",
    "\n",
    "catalog = intake.open_catalog(\"./*.yml\")"
   ]
  },
  {
   "cell_type": "code",
   "execution_count": 2,
   "id": "9149576c-858e-4285-8e5c-6e0190e4357d",
   "metadata": {},
   "outputs": [],
   "source": [
    "def process_hwy_stats(df):\n",
    "    # parallel routes / competitive routes per mile\n",
    "    # or percents?\n",
    "    # right now, highway_length is in feet\n",
    "    df = df.assign(\n",
    "        parallel_per_mi = (df.num_parallel.divide(df.highway_length) * \n",
    "                           geography_utils.FEET_PER_MI),\n",
    "        competitive_per_mi = (df.num_competitive.divide(df.highway_length) * \n",
    "                              geography_utils.FEET_PER_MI),\n",
    "    )\n",
    "    \n",
    "    # Add in highways geometry\n",
    "    highways = catalog.highways_cleaned.read()\n",
    "\n",
    "    gdf = pd.merge(\n",
    "        highways.assign(geometry=highways.geometry.buffer(200)).drop(\n",
    "            columns = [\"NB\", \"SB\", \"EB\", \"WB\"]),\n",
    "        df,\n",
    "        on = [\"Route\", \"County\", \"District\"],\n",
    "        how = \"inner\",\n",
    "        validate = \"m:1\"\n",
    "    ).rename(columns = {\n",
    "        \"highway_length_x\": \"highway_length_routetype\",\n",
    "        \"highway_length_y\": \"highway_length_route\",\n",
    "    })\n",
    "    \n",
    "    return gdf"
   ]
  },
  {
   "cell_type": "code",
   "execution_count": 3,
   "id": "f923781c-6e50-45a5-aadf-6936a6c60a42",
   "metadata": {},
   "outputs": [],
   "source": [
    "operator_stats, hwy_stats = setup_corridors_stats.aggregated_transit_hwy_stats()\n",
    "gdf = process_hwy_stats(hwy_stats)"
   ]
  },
  {
   "cell_type": "code",
   "execution_count": 4,
   "id": "6101f86d-79ea-4b2f-9a27-d21f9e44c2be",
   "metadata": {},
   "outputs": [],
   "source": [
    "def labeling(word):\n",
    "    rename_dict = {\n",
    "        \"pct_parallel\": \"% parallel routes\",\n",
    "        \"pct_competitive\": \"% competitive routes\"\n",
    "    }\n",
    "    \n",
    "    if word in rename_dict.keys():\n",
    "        word = rename_dict[word]\n",
    "    else:\n",
    "        word = word.replace('_', ' ').title()\n",
    "        \n",
    "    return word\n",
    "\n",
    "def make_scatterplot(df, x_col, y_col):\n",
    "    \n",
    "    if \"pct\" in x_col:\n",
    "        x_p50 = 0.5\n",
    "        y_p50 = 0.5\n",
    "    else:\n",
    "        x_p50 = 0.1\n",
    "        y_p50 = 0.1\n",
    "    \n",
    "    chart = (alt.Chart(df)\n",
    "             .mark_circle(size=30, opacity=0.6)\n",
    "             .encode(\n",
    "                 x=alt.X(f\"{x_col}:Q\", title=labeling(x_col)),\n",
    "                 y=alt.Y(f\"{y_col}:Q\", title=labeling(y_col)),\n",
    "                 color=alt.Color(\"District:N\"),\n",
    "                 tooltip=[\"Route\", \"County\", \"District\",\n",
    "                          \"num_parallel\", \"pct_parallel\", \"parallel_per_mi\",\n",
    "                          \"num_competitive\", \"pct_competitive\", \"competitive_per_mi\",\n",
    "                 ]\n",
    "             ).interactive()\n",
    "             .properties(title = f\"{labeling(x_col)} vs {labeling(y_col)}\")\n",
    "    )\n",
    "    \n",
    "    horiz_line = (alt.Chart(df.assign(y_p50=y_p50))\n",
    "                  .mark_rule(strokeDash=[2,3])\n",
    "                  .encode(\n",
    "                      y=\"y_p50:Q\",\n",
    "                      color=alt.value(\"black\")\n",
    "                  )\n",
    "    )\n",
    "    \n",
    "    vertical_line = (alt.Chart(df.assign(x_p50=x_p50))\n",
    "                     .mark_rule(strokeDash=[2,3])\n",
    "                     .encode(\n",
    "                         x=\"x_p50:Q\",\n",
    "                         color=alt.value(\"black\")\n",
    "                     )\n",
    "    )\n",
    "    \n",
    "    combined = chart + horiz_line + vertical_line\n",
    "    display(combined)"
   ]
  },
  {
   "cell_type": "code",
   "execution_count": null,
   "id": "2ade5ed1-f39e-43b9-afba-071a8690713d",
   "metadata": {},
   "outputs": [],
   "source": [
    "make_scatterplot(gdf[gdf.pct_parallel > 0], \"pct_parallel\", \"pct_competitive\")"
   ]
  },
  {
   "cell_type": "code",
   "execution_count": null,
   "id": "f207e858-477c-4c04-bf0d-4f071a7ce9af",
   "metadata": {},
   "outputs": [],
   "source": [
    "make_scatterplot(gdf[gdf.pct_parallel > 0], \"parallel_per_mi\", \"competitive_per_mi\")"
   ]
  },
  {
   "cell_type": "code",
   "execution_count": null,
   "id": "b717e4a2-c895-4c3d-98df-1304de770ba2",
   "metadata": {},
   "outputs": [],
   "source": []
  }
 ],
 "metadata": {
  "kernelspec": {
   "display_name": "Python 3 (ipykernel)",
   "language": "python",
   "name": "python3"
  },
  "language_info": {
   "codemirror_mode": {
    "name": "ipython",
    "version": 3
   },
   "file_extension": ".py",
   "mimetype": "text/x-python",
   "name": "python",
   "nbconvert_exporter": "python",
   "pygments_lexer": "ipython3",
   "version": "3.9.12"
  }
 },
 "nbformat": 4,
 "nbformat_minor": 5
}
