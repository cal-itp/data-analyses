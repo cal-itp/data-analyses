{
 "cells": [
  {
   "cell_type": "markdown",
   "id": "5b869fa2-903a-4d22-a3e4-e24b00b43278",
   "metadata": {},
   "source": [
    "# Sanity Check"
   ]
  },
  {
   "cell_type": "code",
   "execution_count": 1,
   "id": "4153eb8d-4744-49c9-8c1b-f9261563c42a",
   "metadata": {},
   "outputs": [
    {
     "name": "stderr",
     "output_type": "stream",
     "text": [
      "/opt/conda/lib/python3.9/site-packages/geopandas/_compat.py:111: UserWarning: The Shapely GEOS version (3.9.1-CAPI-1.14.2) is incompatible with the GEOS version PyGEOS was compiled with (3.10.1-CAPI-1.16.0). Conversions between both will be slow.\n",
      "  warnings.warn(\n"
     ]
    }
   ],
   "source": [
    "import datetime as dt\n",
    "import geopandas as gpd\n",
    "import numpy as np\n",
    "import pandas as pd\n",
    "\n",
    "import utils\n",
    "import shared_utils\n",
    "\n",
    "from calitp.tables import tbl\n",
    "from siuba import *"
   ]
  },
  {
   "cell_type": "markdown",
   "id": "8d327f16-bb2a-4ec9-9531-e4ee9fac1140",
   "metadata": {},
   "source": [
    "## shapes_initial\n",
    "\n",
    "Still big differences in `shapes_initial` observations. Dig into sources of differences, since now the df is expanded to include 0's even where there is no service."
   ]
  },
  {
   "cell_type": "code",
   "execution_count": 2,
   "id": "af6dc930-3d68-4126-a4af-11d793285137",
   "metadata": {},
   "outputs": [],
   "source": [
    "DATA_PATH = \"./data/test/\"\n",
    "\n",
    "def check_shapes_initial(DATA_PATH):\n",
    "    df = gpd.read_parquet(f\"{DATA_PATH}shapes_initial.parquet\")\n",
    "    # Check unique shape_ids \n",
    "    df2 = df.groupby([\"calitp_itp_id\"]).agg({\"shape_id\": \"nunique\"}).reset_index()\n",
    "    return df2"
   ]
  },
  {
   "cell_type": "code",
   "execution_count": 3,
   "id": "5dfd8a2c-c1ce-4729-b14c-8d1102e33661",
   "metadata": {},
   "outputs": [],
   "source": [
    "m1 = pd.merge(check_shapes_initial(utils.GCS_FILE_PATH), \n",
    "              check_shapes_initial(DATA_PATH), \n",
    "              on = \"calitp_itp_id\",\n",
    "              how = \"outer\",\n",
    "              validate = \"1:1\",\n",
    "              indicator=True\n",
    "             )"
   ]
  },
  {
   "cell_type": "code",
   "execution_count": 4,
   "id": "97013d29-e1cc-47f2-b2dd-24e80625528c",
   "metadata": {},
   "outputs": [
    {
     "data": {
      "text/plain": [
       "both          129\n",
       "right_only     18\n",
       "left_only      13\n",
       "Name: _merge, dtype: int64"
      ]
     },
     "execution_count": 4,
     "metadata": {},
     "output_type": "execute_result"
    }
   ],
   "source": [
    "m1._merge.value_counts()"
   ]
  },
  {
   "cell_type": "markdown",
   "id": "c1a0377d-980a-4a30-8e65-29915ddc7707",
   "metadata": {},
   "source": [
    "Fron 59 operators that are in my `shapes_initial` but not Eric's, down to 18 not in Eric's, and Eric's has 13 not in mine."
   ]
  },
  {
   "cell_type": "code",
   "execution_count": 5,
   "id": "a082bd77-8889-417a-bdc0-cb1c06ef8df4",
   "metadata": {},
   "outputs": [
    {
     "data": {
      "text/plain": [
       "array([  6,  48,  56,  61, 106, 110, 127, 170, 183, 194, 208, 238, 278,\n",
       "       280, 290, 295, 346, 350])"
      ]
     },
     "execution_count": 5,
     "metadata": {},
     "output_type": "execute_result"
    }
   ],
   "source": [
    "m1[m1._merge==\"right_only\"].calitp_itp_id.unique()"
   ]
  },
  {
   "cell_type": "code",
   "execution_count": 6,
   "id": "168a296b-8568-47e9-9a4c-d33215e2923f",
   "metadata": {},
   "outputs": [
    {
     "data": {
      "text/plain": [
       "array([ 35,  36,  37, 137, 142, 154, 167, 192, 235, 265, 294, 339, 361])"
      ]
     },
     "execution_count": 6,
     "metadata": {},
     "output_type": "execute_result"
    }
   ],
   "source": [
    "m1[m1._merge==\"left_only\"].calitp_itp_id.unique()"
   ]
  },
  {
   "cell_type": "code",
   "execution_count": 7,
   "id": "166748f1-c1ff-4dba-9623-c10f75c35378",
   "metadata": {},
   "outputs": [],
   "source": [
    "in_both = m1[m1._merge==\"both\"]\n",
    "\n",
    "in_both = in_both.assign(\n",
    "    category = in_both.apply(lambda x: \"equal\" if \n",
    "                             x.shape_id_x == x.shape_id_y \n",
    "                            else \"less\" if x.shape_id_x < x.shape_id_y \n",
    "                            else \"more\" , axis=1)\n",
    ")"
   ]
  },
  {
   "cell_type": "code",
   "execution_count": 8,
   "id": "989b3a93-60a1-47b8-a5da-a4a9f29c0cfa",
   "metadata": {},
   "outputs": [
    {
     "name": "stdout",
     "output_type": "stream",
     "text": [
      "# shape_ids in Eric's for `both`: 6280.0\n",
      "# shape_ids in Tiff's for `both`: 6263.0\n"
     ]
    }
   ],
   "source": [
    "print(f\"# shape_ids in Eric's for `both`: {in_both.shape_id_x.sum()}\")\n",
    "print(f\"# shape_ids in Tiff's for `both`: {in_both.shape_id_y.sum()}\")\n",
    "\n",
    "# These numbers are much closer, and this is reasonable"
   ]
  },
  {
   "cell_type": "code",
   "execution_count": 9,
   "id": "536996e1-0329-4e02-aedc-c878947b0afd",
   "metadata": {},
   "outputs": [
    {
     "name": "stdout",
     "output_type": "stream",
     "text": [
      "# shape_ids in Tiff's for `right_only`: 2055.0\n"
     ]
    }
   ],
   "source": [
    "print(f\"# shape_ids in Tiff's for `right_only`: {m1[m1._merge=='right_only'].shape_id_y.sum()}\")"
   ]
  },
  {
   "cell_type": "code",
   "execution_count": 10,
   "id": "7726f38d-f940-4b25-a7dc-d244e83961d5",
   "metadata": {},
   "outputs": [
    {
     "name": "stdout",
     "output_type": "stream",
     "text": [
      "# shape_ids in Eric's for `left_only`: 936.0\n"
     ]
    }
   ],
   "source": [
    "print(f\"# shape_ids in Eric's for `left_only`: {m1[m1._merge=='left_only'].shape_id_x.sum()}\")"
   ]
  },
  {
   "cell_type": "markdown",
   "id": "c5aebc94-d5c5-45c1-bda9-29511422b0fe",
   "metadata": {},
   "source": [
    "For the operators that are in common to both, the unique `shape_ids` are in the same reasonable ballpark. They will differ because `shapes.txt` only shows the most recent, so cannot extract the exact same shapes now as when Eric initially ran this.\n",
    "\n",
    "Ideally, have a `dim_shapes` table to grab the `shape_id` for the actual date of service.\n",
    "\n",
    "So, the 59 operators that show up in my df are contributing the other 7k observations, and that explains the difference. But, looking at that list of ITP_IDs, some of these are not in the current `agencies.yml`, so will have to remove them. Hopefully, only a handful of agencies are left.\n",
    "\n",
    "After rerunning:\n",
    "* Operators that are in my df, not in Eric's: Alhambra Community Transit, B-Line, Capitol Corridor, County Connection\n",
    "* Operators in Eric's df, not in mine: La Campana, Bell Gardens, Bellflower Bus, Huntington Park Express"
   ]
  },
  {
   "cell_type": "code",
   "execution_count": 11,
   "id": "ccd83434-8150-4de9-974e-e97d55ad0571",
   "metadata": {},
   "outputs": [
    {
     "data": {
      "text/plain": [
       "array([  6,  48,  56,  61, 106, 110, 127, 170, 183, 194, 208, 238, 278,\n",
       "       280, 290, 295, 346, 350])"
      ]
     },
     "execution_count": 11,
     "metadata": {},
     "output_type": "execute_result"
    }
   ],
   "source": [
    "m1[m1._merge==\"right_only\"].calitp_itp_id.unique()"
   ]
  },
  {
   "cell_type": "code",
   "execution_count": 12,
   "id": "aa38dc7a-2d6a-4262-9c62-b474b5850002",
   "metadata": {},
   "outputs": [
    {
     "data": {
      "text/plain": [
       "array([ 35,  36,  37, 137, 142, 154, 167, 192, 235, 265, 294, 339, 361])"
      ]
     },
     "execution_count": 12,
     "metadata": {},
     "output_type": "execute_result"
    }
   ],
   "source": [
    "m1[m1._merge==\"left_only\"].calitp_itp_id.unique()"
   ]
  },
  {
   "cell_type": "markdown",
   "id": "23f0f320-dc6d-4b9a-9d54-0b0eca87a2ef",
   "metadata": {},
   "source": [
    "Refering to `traffic_ops/prep_data` to see how to get the latest_itp_ids from `views.gtfs_schedule_dim_feeds`...if this is put together with `views.gtfs_schedule_fact_daily_feed_files`, which allows you to grab the `feed_key` for a certain date.\n",
    "\n",
    "But, should `calitp_id_is_in_latest == True` be used from `views.gtfs_schedule_dim_feeds`? Latest is the latest version of `agencies.yml`, but not necessarily for the Oct date of analysis.\n",
    "\n",
    "Somehow, the list of operators needs to be pared down? But not sure if the all 59 operators should be dropped? If those operators weren't in Eric's, they wouldn't have made it through the inner join to get the line geometry. But, it's possible that right now, they're in mine, but not all should be, and after the dataset gets expanded to hold 0's for no service, it expands the dataset much larger than it should be?\n"
   ]
  },
  {
   "cell_type": "markdown",
   "id": "ab360419-f25b-4c0c-b4d0-9ce81d14b95e",
   "metadata": {},
   "source": [
    "This shows that 54 out of the 59 are operators that don't appear in `shape_frequency`, and once we get rid of these, the operators list should be much more similar. Only 5 obs different."
   ]
  },
  {
   "cell_type": "code",
   "execution_count": 13,
   "id": "938195d4-2a69-440e-a4c0-07ac849f35d6",
   "metadata": {},
   "outputs": [
    {
     "data": {
      "text/html": [
       "<div>\n",
       "<style scoped>\n",
       "    .dataframe tbody tr th:only-of-type {\n",
       "        vertical-align: middle;\n",
       "    }\n",
       "\n",
       "    .dataframe tbody tr th {\n",
       "        vertical-align: top;\n",
       "    }\n",
       "\n",
       "    .dataframe thead th {\n",
       "        text-align: right;\n",
       "    }\n",
       "</style>\n",
       "<table border=\"1\" class=\"dataframe\">\n",
       "  <thead>\n",
       "    <tr style=\"text-align: right;\">\n",
       "      <th></th>\n",
       "      <th>calitp_itp_id</th>\n",
       "      <th>status</th>\n",
       "    </tr>\n",
       "  </thead>\n",
       "  <tbody>\n",
       "    <tr>\n",
       "      <th>0</th>\n",
       "      <td>35</td>\n",
       "      <td>eric</td>\n",
       "    </tr>\n",
       "    <tr>\n",
       "      <th>1</th>\n",
       "      <td>36</td>\n",
       "      <td>eric</td>\n",
       "    </tr>\n",
       "  </tbody>\n",
       "</table>\n",
       "</div>"
      ],
      "text/plain": [
       "   calitp_itp_id status\n",
       "0             35   eric\n",
       "1             36   eric"
      ]
     },
     "execution_count": 13,
     "metadata": {},
     "output_type": "execute_result"
    }
   ],
   "source": [
    "eric = m1[m1._merge==\"left_only\"][[\"calitp_itp_id\"]].assign(status=\"eric\")\n",
    "tiff = m1[m1._merge==\"right_only\"][[\"calitp_itp_id\"]].assign(status=\"tiff\")\n",
    "\n",
    "debug = pd.concat([eric, tiff], ignore_index=True, axis=0)\n",
    "\n",
    "debug.head(2)"
   ]
  },
  {
   "cell_type": "code",
   "execution_count": 14,
   "id": "14dec188-d892-48a2-95ea-f2be32176b1b",
   "metadata": {},
   "outputs": [
    {
     "name": "stderr",
     "output_type": "stream",
     "text": [
      "/opt/conda/lib/python3.9/site-packages/siuba/sql/utils.py:52: SAWarning: Dialect bigquery:bigquery will not make use of SQL compilation caching as it does not set the 'supports_statement_cache' attribute to ``True``.  This can have significant performance implications including some performance degradations in comparison to prior SQLAlchemy versions.  Dialect maintainers should seek to set this attribute to True after appropriate development and testing for SQLAlchemy 1.4 caching support.   Alternatively, this attribute may be set to False which will disable this warning. (Background on this error at: https://sqlalche.me/e/14/cprf)\n"
     ]
    },
    {
     "data": {
      "text/html": [
       "<div>\n",
       "<style scoped>\n",
       "    .dataframe tbody tr th:only-of-type {\n",
       "        vertical-align: middle;\n",
       "    }\n",
       "\n",
       "    .dataframe tbody tr th {\n",
       "        vertical-align: top;\n",
       "    }\n",
       "\n",
       "    .dataframe thead th {\n",
       "        text-align: right;\n",
       "    }\n",
       "</style>\n",
       "<table border=\"1\" class=\"dataframe\">\n",
       "  <thead>\n",
       "    <tr style=\"text-align: right;\">\n",
       "      <th></th>\n",
       "      <th>calitp_itp_id</th>\n",
       "      <th>calitp_id_in_latest</th>\n",
       "    </tr>\n",
       "  </thead>\n",
       "  <tbody>\n",
       "    <tr>\n",
       "      <th>0</th>\n",
       "      <td>1</td>\n",
       "      <td>False</td>\n",
       "    </tr>\n",
       "    <tr>\n",
       "      <th>1</th>\n",
       "      <td>2</td>\n",
       "      <td>False</td>\n",
       "    </tr>\n",
       "  </tbody>\n",
       "</table>\n",
       "</div>"
      ],
      "text/plain": [
       "   calitp_itp_id  calitp_id_in_latest\n",
       "0              1                False\n",
       "1              2                False"
      ]
     },
     "execution_count": 14,
     "metadata": {},
     "output_type": "execute_result"
    }
   ],
   "source": [
    "latest_itp_id = (tbl.views.gtfs_schedule_dim_feeds()\n",
    "                 #>> filter(_.calitp_id_in_latest==True)\n",
    "                 >> select(_.calitp_itp_id, _.calitp_id_in_latest)\n",
    "                 >> distinct()\n",
    "                 >> collect()\n",
    "                )\n",
    "\n",
    "latest_itp_id.head(2)"
   ]
  },
  {
   "cell_type": "code",
   "execution_count": 15,
   "id": "7ab635e9-82ee-4417-835e-a7755073c900",
   "metadata": {},
   "outputs": [
    {
     "data": {
      "text/plain": [
       "left_only     176\n",
       "both           32\n",
       "right_only      0\n",
       "Name: _merge, dtype: int64"
      ]
     },
     "execution_count": 15,
     "metadata": {},
     "output_type": "execute_result"
    }
   ],
   "source": [
    "m2 = pd.merge(latest_itp_id, \n",
    "              debug, \n",
    "              on = \"calitp_itp_id\",\n",
    "              how = \"outer\",\n",
    "              validate = \"m:1\",\n",
    "              indicator=True)\n",
    "\n",
    "m2._merge.value_counts()"
   ]
  },
  {
   "cell_type": "code",
   "execution_count": 16,
   "id": "58c02635-0ca4-42bc-9991-906f5c48da28",
   "metadata": {},
   "outputs": [
    {
     "data": {
      "text/html": [
       "<div>\n",
       "<style scoped>\n",
       "    .dataframe tbody tr th:only-of-type {\n",
       "        vertical-align: middle;\n",
       "    }\n",
       "\n",
       "    .dataframe tbody tr th {\n",
       "        vertical-align: top;\n",
       "    }\n",
       "\n",
       "    .dataframe thead th {\n",
       "        text-align: right;\n",
       "    }\n",
       "</style>\n",
       "<table border=\"1\" class=\"dataframe\">\n",
       "  <thead>\n",
       "    <tr style=\"text-align: right;\">\n",
       "      <th></th>\n",
       "      <th>calitp_itp_id</th>\n",
       "      <th>calitp_id_in_latest</th>\n",
       "      <th>status</th>\n",
       "      <th>_merge</th>\n",
       "    </tr>\n",
       "  </thead>\n",
       "  <tbody>\n",
       "    <tr>\n",
       "      <th>50</th>\n",
       "      <td>6</td>\n",
       "      <td>False</td>\n",
       "      <td>tiff</td>\n",
       "      <td>both</td>\n",
       "    </tr>\n",
       "    <tr>\n",
       "      <th>51</th>\n",
       "      <td>6</td>\n",
       "      <td>True</td>\n",
       "      <td>tiff</td>\n",
       "      <td>both</td>\n",
       "    </tr>\n",
       "    <tr>\n",
       "      <th>110</th>\n",
       "      <td>35</td>\n",
       "      <td>True</td>\n",
       "      <td>eric</td>\n",
       "      <td>both</td>\n",
       "    </tr>\n",
       "    <tr>\n",
       "      <th>111</th>\n",
       "      <td>36</td>\n",
       "      <td>True</td>\n",
       "      <td>eric</td>\n",
       "      <td>both</td>\n",
       "    </tr>\n",
       "    <tr>\n",
       "      <th>112</th>\n",
       "      <td>37</td>\n",
       "      <td>True</td>\n",
       "      <td>eric</td>\n",
       "      <td>both</td>\n",
       "    </tr>\n",
       "    <tr>\n",
       "      <th>5</th>\n",
       "      <td>48</td>\n",
       "      <td>True</td>\n",
       "      <td>tiff</td>\n",
       "      <td>both</td>\n",
       "    </tr>\n",
       "    <tr>\n",
       "      <th>6</th>\n",
       "      <td>56</td>\n",
       "      <td>True</td>\n",
       "      <td>tiff</td>\n",
       "      <td>both</td>\n",
       "    </tr>\n",
       "    <tr>\n",
       "      <th>7</th>\n",
       "      <td>61</td>\n",
       "      <td>True</td>\n",
       "      <td>tiff</td>\n",
       "      <td>both</td>\n",
       "    </tr>\n",
       "    <tr>\n",
       "      <th>54</th>\n",
       "      <td>106</td>\n",
       "      <td>True</td>\n",
       "      <td>tiff</td>\n",
       "      <td>both</td>\n",
       "    </tr>\n",
       "    <tr>\n",
       "      <th>55</th>\n",
       "      <td>110</td>\n",
       "      <td>True</td>\n",
       "      <td>tiff</td>\n",
       "      <td>both</td>\n",
       "    </tr>\n",
       "    <tr>\n",
       "      <th>14</th>\n",
       "      <td>127</td>\n",
       "      <td>True</td>\n",
       "      <td>tiff</td>\n",
       "      <td>both</td>\n",
       "    </tr>\n",
       "    <tr>\n",
       "      <th>141</th>\n",
       "      <td>137</td>\n",
       "      <td>True</td>\n",
       "      <td>eric</td>\n",
       "      <td>both</td>\n",
       "    </tr>\n",
       "    <tr>\n",
       "      <th>15</th>\n",
       "      <td>142</td>\n",
       "      <td>True</td>\n",
       "      <td>eric</td>\n",
       "      <td>both</td>\n",
       "    </tr>\n",
       "    <tr>\n",
       "      <th>143</th>\n",
       "      <td>154</td>\n",
       "      <td>True</td>\n",
       "      <td>eric</td>\n",
       "      <td>both</td>\n",
       "    </tr>\n",
       "    <tr>\n",
       "      <th>17</th>\n",
       "      <td>167</td>\n",
       "      <td>True</td>\n",
       "      <td>eric</td>\n",
       "      <td>both</td>\n",
       "    </tr>\n",
       "    <tr>\n",
       "      <th>90</th>\n",
       "      <td>170</td>\n",
       "      <td>True</td>\n",
       "      <td>tiff</td>\n",
       "      <td>both</td>\n",
       "    </tr>\n",
       "    <tr>\n",
       "      <th>19</th>\n",
       "      <td>183</td>\n",
       "      <td>True</td>\n",
       "      <td>tiff</td>\n",
       "      <td>both</td>\n",
       "    </tr>\n",
       "    <tr>\n",
       "      <th>20</th>\n",
       "      <td>192</td>\n",
       "      <td>True</td>\n",
       "      <td>eric</td>\n",
       "      <td>both</td>\n",
       "    </tr>\n",
       "    <tr>\n",
       "      <th>47</th>\n",
       "      <td>194</td>\n",
       "      <td>True</td>\n",
       "      <td>tiff</td>\n",
       "      <td>both</td>\n",
       "    </tr>\n",
       "    <tr>\n",
       "      <th>41</th>\n",
       "      <td>208</td>\n",
       "      <td>True</td>\n",
       "      <td>tiff</td>\n",
       "      <td>both</td>\n",
       "    </tr>\n",
       "    <tr>\n",
       "      <th>24</th>\n",
       "      <td>235</td>\n",
       "      <td>True</td>\n",
       "      <td>eric</td>\n",
       "      <td>both</td>\n",
       "    </tr>\n",
       "    <tr>\n",
       "      <th>170</th>\n",
       "      <td>238</td>\n",
       "      <td>True</td>\n",
       "      <td>tiff</td>\n",
       "      <td>both</td>\n",
       "    </tr>\n",
       "    <tr>\n",
       "      <th>177</th>\n",
       "      <td>265</td>\n",
       "      <td>True</td>\n",
       "      <td>eric</td>\n",
       "      <td>both</td>\n",
       "    </tr>\n",
       "    <tr>\n",
       "      <th>42</th>\n",
       "      <td>278</td>\n",
       "      <td>True</td>\n",
       "      <td>tiff</td>\n",
       "      <td>both</td>\n",
       "    </tr>\n",
       "    <tr>\n",
       "      <th>61</th>\n",
       "      <td>280</td>\n",
       "      <td>True</td>\n",
       "      <td>tiff</td>\n",
       "      <td>both</td>\n",
       "    </tr>\n",
       "    <tr>\n",
       "      <th>30</th>\n",
       "      <td>290</td>\n",
       "      <td>True</td>\n",
       "      <td>tiff</td>\n",
       "      <td>both</td>\n",
       "    </tr>\n",
       "    <tr>\n",
       "      <th>63</th>\n",
       "      <td>294</td>\n",
       "      <td>True</td>\n",
       "      <td>eric</td>\n",
       "      <td>both</td>\n",
       "    </tr>\n",
       "    <tr>\n",
       "      <th>31</th>\n",
       "      <td>295</td>\n",
       "      <td>True</td>\n",
       "      <td>tiff</td>\n",
       "      <td>both</td>\n",
       "    </tr>\n",
       "    <tr>\n",
       "      <th>94</th>\n",
       "      <td>339</td>\n",
       "      <td>True</td>\n",
       "      <td>eric</td>\n",
       "      <td>both</td>\n",
       "    </tr>\n",
       "    <tr>\n",
       "      <th>190</th>\n",
       "      <td>346</td>\n",
       "      <td>True</td>\n",
       "      <td>tiff</td>\n",
       "      <td>both</td>\n",
       "    </tr>\n",
       "    <tr>\n",
       "      <th>69</th>\n",
       "      <td>350</td>\n",
       "      <td>True</td>\n",
       "      <td>tiff</td>\n",
       "      <td>both</td>\n",
       "    </tr>\n",
       "    <tr>\n",
       "      <th>86</th>\n",
       "      <td>361</td>\n",
       "      <td>True</td>\n",
       "      <td>eric</td>\n",
       "      <td>both</td>\n",
       "    </tr>\n",
       "  </tbody>\n",
       "</table>\n",
       "</div>"
      ],
      "text/plain": [
       "     calitp_itp_id  calitp_id_in_latest status _merge\n",
       "50               6                False   tiff   both\n",
       "51               6                 True   tiff   both\n",
       "110             35                 True   eric   both\n",
       "111             36                 True   eric   both\n",
       "112             37                 True   eric   both\n",
       "5               48                 True   tiff   both\n",
       "6               56                 True   tiff   both\n",
       "7               61                 True   tiff   both\n",
       "54             106                 True   tiff   both\n",
       "55             110                 True   tiff   both\n",
       "14             127                 True   tiff   both\n",
       "141            137                 True   eric   both\n",
       "15             142                 True   eric   both\n",
       "143            154                 True   eric   both\n",
       "17             167                 True   eric   both\n",
       "90             170                 True   tiff   both\n",
       "19             183                 True   tiff   both\n",
       "20             192                 True   eric   both\n",
       "47             194                 True   tiff   both\n",
       "41             208                 True   tiff   both\n",
       "24             235                 True   eric   both\n",
       "170            238                 True   tiff   both\n",
       "177            265                 True   eric   both\n",
       "42             278                 True   tiff   both\n",
       "61             280                 True   tiff   both\n",
       "30             290                 True   tiff   both\n",
       "63             294                 True   eric   both\n",
       "31             295                 True   tiff   both\n",
       "94             339                 True   eric   both\n",
       "190            346                 True   tiff   both\n",
       "69             350                 True   tiff   both\n",
       "86             361                 True   eric   both"
      ]
     },
     "execution_count": 16,
     "metadata": {},
     "output_type": "execute_result"
    }
   ],
   "source": [
    "# Only Alhambra (id=6) had 2 different statuses\n",
    "# It's possible that other differences arose because of coercing datetime,\n",
    "# dropping when there were NaT or mean runtimes couldn't be calculated\n",
    "m2[m2._merge==\"both\"].sort_values([\"calitp_itp_id\", \"calitp_id_in_latest\"])"
   ]
  },
  {
   "cell_type": "code",
   "execution_count": 17,
   "id": "206d9822-d2b4-4177-8754-1f5b250a93d3",
   "metadata": {},
   "outputs": [
    {
     "data": {
      "text/plain": [
       "tiff    19\n",
       "eric    13\n",
       "Name: status, dtype: int64"
      ]
     },
     "execution_count": 17,
     "metadata": {},
     "output_type": "execute_result"
    }
   ],
   "source": [
    "m2[m2._merge==\"both\"].status.value_counts()"
   ]
  },
  {
   "cell_type": "markdown",
   "id": "4698c986-8939-4aab-b659-efb806481426",
   "metadata": {},
   "source": [
    "## Use old `shape_id`"
   ]
  },
  {
   "cell_type": "code",
   "execution_count": 18,
   "id": "e4ee1217-5b54-44fc-9cd0-fc3e927a66c3",
   "metadata": {},
   "outputs": [],
   "source": [
    "def compare_service_tract_type(DATA_PATH):\n",
    "\n",
    "    service = pd.read_parquet(f\"{DATA_PATH}shape_frequency_funding.parquet\")\n",
    "    processed_shapes = gpd.read_parquet(f'{DATA_PATH}shapes_processed.parquet')\n",
    "\n",
    "    service_tract_type = pd.merge(\n",
    "        (service \n",
    "         >> select(_.calitp_itp_id, _.shape_id, \n",
    "                   _.day_name, _.departure_hour, \n",
    "                   _.trips_per_hour, _.mean_runtime_min)\n",
    "        ),\n",
    "        (processed_shapes\n",
    "         >> select(_.calitp_itp_id, _.shape_id, _.tract_type)\n",
    "        ),\n",
    "        on = ['calitp_itp_id', 'shape_id'],\n",
    "        how = \"inner\",\n",
    "        validate = \"m:1\",\n",
    "    )\n",
    "    \n",
    "    m1 = (service_tract_type.groupby([\"calitp_itp_id\", \n",
    "                                      \"day_name\", \"tract_type\"])\n",
    "          .agg({\"shape_id\": \"nunique\",\n",
    "              \"mean_runtime_min\": \"mean\",\n",
    "                \"trips_per_hour\": \"mean\",\n",
    "               }).reset_index()\n",
    "         )\n",
    "    \n",
    "    return m1\n"
   ]
  },
  {
   "cell_type": "code",
   "execution_count": 19,
   "id": "b17cde24-c075-49e7-aeb8-22aa0001e3cb",
   "metadata": {},
   "outputs": [],
   "source": [
    "eric = compare_service_tract_type(f\"{utils.GCS_FILE_PATH}\")\n",
    "tiff = compare_service_tract_type(f\"{DATA_PATH}\")"
   ]
  },
  {
   "cell_type": "code",
   "execution_count": 20,
   "id": "5601388f-7a2d-40b4-892f-e6e761c0f191",
   "metadata": {},
   "outputs": [],
   "source": [
    "m1 = pd.merge(eric, \n",
    "         tiff, \n",
    "         on = [\"calitp_itp_id\", \"day_name\", \"tract_type\"],\n",
    "         how = \"outer\",\n",
    "         validate = \"1:1\",\n",
    "         indicator=True\n",
    "        )"
   ]
  },
  {
   "cell_type": "code",
   "execution_count": 21,
   "id": "3f7dfa2e-2451-44df-a573-3f2f555c5830",
   "metadata": {},
   "outputs": [
    {
     "data": {
      "text/plain": [
       "255"
      ]
     },
     "execution_count": 21,
     "metadata": {},
     "output_type": "execute_result"
    }
   ],
   "source": [
    "both = m1[m1._merge==\"both\"]\n",
    "len(both[both.shape_id_x != both.shape_id_y])"
   ]
  },
  {
   "cell_type": "code",
   "execution_count": 22,
   "id": "c2c5a242-4f3a-435f-8823-bb81e3fad6c9",
   "metadata": {},
   "outputs": [
    {
     "data": {
      "text/plain": [
       "array([ 35,  36,  37,  75,  93, 137, 142, 154, 167, 182, 192, 232, 235,\n",
       "       264, 265, 282, 284, 294, 300, 301, 308, 310, 327, 339, 361, 368,\n",
       "       381])"
      ]
     },
     "execution_count": 22,
     "metadata": {},
     "output_type": "execute_result"
    }
   ],
   "source": [
    "m1[m1._merge==\"left_only\"].calitp_itp_id.unique()"
   ]
  },
  {
   "cell_type": "code",
   "execution_count": 23,
   "id": "339353ff-6c0f-4c31-b731-dfa9c3056ab6",
   "metadata": {},
   "outputs": [
    {
     "data": {
      "text/plain": [
       "array([  6,  56, 106, 110, 127, 170, 183, 194, 208, 238, 247, 278, 280,\n",
       "       290, 295, 346, 350])"
      ]
     },
     "execution_count": 23,
     "metadata": {},
     "output_type": "execute_result"
    }
   ],
   "source": [
    "m1[m1._merge==\"right_only\"].calitp_itp_id.unique()"
   ]
  },
  {
   "cell_type": "markdown",
   "id": "a3c61ec7-34b2-4b45-841d-9c83ded47337",
   "metadata": {},
   "source": [
    "## Create correct data with right `shape_id`"
   ]
  },
  {
   "cell_type": "code",
   "execution_count": 24,
   "id": "e47a707d-aee7-4c9e-af48-e2e101a00111",
   "metadata": {},
   "outputs": [],
   "source": [
    "# Keep original shapes_initial and shapes_processed\n",
    "# Take correct shape_frequency_funding edits\n",
    "# Put it with original shapes_processed\n",
    "# Rerun to get to the increase_by_operator parquet\n",
    "\n",
    "def merge_routes_with_tract_type(SERVICE_PATH, SHAPES_PATH):\n",
    "    \n",
    "    service = pd.read_parquet(f\"{SERVICE_PATH}shape_frequency_funding.parquet\")\n",
    "    processed_shapes = gpd.read_parquet(f'{SHAPES_PATH}shapes_processed.parquet')\n",
    "    \n",
    "    service_tract_type = pd.merge(\n",
    "        (service \n",
    "         >> select(_.calitp_itp_id, _.shape_id, \n",
    "                   _.day_name, _.departure_hour, \n",
    "                   _.trips_per_hour, _.mean_runtime_min)\n",
    "        ),\n",
    "        (processed_shapes\n",
    "         >> select(_.calitp_itp_id, _.shape_id, _.tract_type)\n",
    "        ),\n",
    "        on = ['calitp_itp_id', 'shape_id'],\n",
    "        how = \"inner\",\n",
    "        validate = \"m:1\",\n",
    "    )\n",
    "    \n",
    "    # Filter and keep 5am-9pm hours\n",
    "    service_tract_type = (service_tract_type \n",
    "                          >> filter(_.departure_hour > 4, _.departure_hour < 21) \n",
    "                          ## filter for performance\n",
    "                         )\n",
    "    \n",
    "    service_tract_type = service_tract_type.assign(\n",
    "        min_runtime_min = (service_tract_type.groupby([\"calitp_itp_id\", \"shape_id\"])\n",
    "                       [\"mean_runtime_min\"].transform(\"min\")\n",
    "                      )\n",
    "    )\n",
    "    \n",
    "    service_tract_type = (service_tract_type\n",
    "                      .dropna(subset=[\"tract_type\", \"min_runtime_min\"])\n",
    "                      .reset_index(drop=True)\n",
    "                     )\n",
    "    \n",
    "    \n",
    "    ## runtime for analysis is the mean runtime for a shape/day/hour for existing service,\n",
    "    # or the min runtime for new service\n",
    "    service_tract_type = service_tract_type.assign(\n",
    "        runtime = service_tract_type[\n",
    "            [\"mean_runtime_min\", \"min_runtime_min\"]].max(axis=1).astype(int)\n",
    "    )\n",
    "    \n",
    "    return service_tract_type"
   ]
  },
  {
   "cell_type": "code",
   "execution_count": 25,
   "id": "6cec8f0a-2e94-47ff-8db5-31ec962ac20c",
   "metadata": {},
   "outputs": [],
   "source": [
    "service_tract_type = merge_routes_with_tract_type(DATA_PATH, utils.GCS_FILE_PATH)"
   ]
  },
  {
   "cell_type": "code",
   "execution_count": 26,
   "id": "d2d6dca0-99ab-4088-9559-53492ead22aa",
   "metadata": {},
   "outputs": [],
   "source": [
    "import setup_service_increase\n",
    "\n",
    "service_combined = setup_service_increase.calculate_additional_trips_service_hours(\n",
    "    service_tract_type)\n",
    "\n",
    "service_combined.to_parquet(f\"{DATA_PATH}service_increase_new.parquet\")"
   ]
  },
  {
   "cell_type": "code",
   "execution_count": 27,
   "id": "4bd1c8ab-b78f-4f4d-9b36-674453097b13",
   "metadata": {},
   "outputs": [],
   "source": [
    "def calculate_operator_capex(service_increase_df, ntd_joined):\n",
    "    # Bring in service df\n",
    "    by_operator = (service_increase_df.groupby(['calitp_itp_id', 'tract_type'])\n",
    "                   [['addl_service_hrs_annual']].sum()\n",
    "                  )\n",
    "    \n",
    "    ## https://ww2.arb.ca.gov/resources/documents/transit-fleet-cost-model\n",
    "    BUS_COST = 776_941\n",
    "    BUS_SERVICE_LIFE = 14 # use this assumption\n",
    "    \n",
    "    MEDIAN_VRH_PER_BUS = ntd_joined['vrh_per_bus'].median()\n",
    "    \n",
    "    by_operator['additional_buses'] = by_operator.addl_service_hrs_annual / MEDIAN_VRH_PER_BUS\n",
    "    by_operator['bus_capex'] = by_operator.additional_buses * BUS_COST\n",
    "    by_operator['bus_capex_annualized'] = by_operator['bus_capex'] / BUS_SERVICE_LIFE\n",
    "\n",
    "    return by_operator"
   ]
  },
  {
   "cell_type": "code",
   "execution_count": 28,
   "id": "4f8343d6-3dcb-4bbc-a4b1-ac1242570f3d",
   "metadata": {},
   "outputs": [],
   "source": [
    "ntd_joined = pd.read_parquet(f\"{utils.GCS_FILE_PATH}vehicles_ntd_joined.parquet\")\n",
    "\n",
    "hours_by_operator = calculate_operator_capex(service_combined, ntd_joined)\n",
    "hours_by_operator.to_parquet(f'{DATA_PATH}increase_by_operator.parquet')"
   ]
  },
  {
   "cell_type": "code",
   "execution_count": 29,
   "id": "f909b94f-7a4f-4f87-a56a-0e4884cc3fb8",
   "metadata": {},
   "outputs": [],
   "source": [
    "for file in [\"service_increase_new\", \"increase_by_operator\"]:\n",
    "    df = pd.read_parquet(f\"{DATA_PATH}{file}.parquet\")\n",
    "    \n",
    "    if file==\"service_increase_new\":\n",
    "        new_file = \"service_increase\"\n",
    "    else:\n",
    "        new_file = file\n",
    "        \n",
    "    df.to_parquet(f\"{utils.GCS_FILE_PATH}test/{new_file}.parquet\")"
   ]
  },
  {
   "cell_type": "code",
   "execution_count": 30,
   "id": "a213b19e-e2e3-4034-86bc-68a6316fba6c",
   "metadata": {},
   "outputs": [
    {
     "data": {
      "text/html": [
       "<div>\n",
       "<style scoped>\n",
       "    .dataframe tbody tr th:only-of-type {\n",
       "        vertical-align: middle;\n",
       "    }\n",
       "\n",
       "    .dataframe tbody tr th {\n",
       "        vertical-align: top;\n",
       "    }\n",
       "\n",
       "    .dataframe thead th {\n",
       "        text-align: right;\n",
       "    }\n",
       "</style>\n",
       "<table border=\"1\" class=\"dataframe\">\n",
       "  <thead>\n",
       "    <tr style=\"text-align: right;\">\n",
       "      <th></th>\n",
       "      <th>addl_service_hrs_annual</th>\n",
       "      <th>additional_buses</th>\n",
       "      <th>bus_capex</th>\n",
       "      <th>bus_capex_annualized</th>\n",
       "    </tr>\n",
       "    <tr>\n",
       "      <th>tract_type</th>\n",
       "      <th></th>\n",
       "      <th></th>\n",
       "      <th></th>\n",
       "      <th></th>\n",
       "    </tr>\n",
       "  </thead>\n",
       "  <tbody>\n",
       "    <tr>\n",
       "      <th>rural</th>\n",
       "      <td>5.652156e+06</td>\n",
       "      <td>2308.704910</td>\n",
       "      <td>1.793728e+09</td>\n",
       "      <td>1.281234e+08</td>\n",
       "    </tr>\n",
       "    <tr>\n",
       "      <th>suburban</th>\n",
       "      <td>1.744042e+06</td>\n",
       "      <td>712.379080</td>\n",
       "      <td>5.534765e+08</td>\n",
       "      <td>3.953404e+07</td>\n",
       "    </tr>\n",
       "    <tr>\n",
       "      <th>urban</th>\n",
       "      <td>4.196783e+07</td>\n",
       "      <td>17142.365627</td>\n",
       "      <td>1.331861e+10</td>\n",
       "      <td>9.513290e+08</td>\n",
       "    </tr>\n",
       "  </tbody>\n",
       "</table>\n",
       "</div>"
      ],
      "text/plain": [
       "            addl_service_hrs_annual  additional_buses     bus_capex  \\\n",
       "tract_type                                                            \n",
       "rural                  5.652156e+06       2308.704910  1.793728e+09   \n",
       "suburban               1.744042e+06        712.379080  5.534765e+08   \n",
       "urban                  4.196783e+07      17142.365627  1.331861e+10   \n",
       "\n",
       "            bus_capex_annualized  \n",
       "tract_type                        \n",
       "rural               1.281234e+08  \n",
       "suburban            3.953404e+07  \n",
       "urban               9.513290e+08  "
      ]
     },
     "execution_count": 30,
     "metadata": {},
     "output_type": "execute_result"
    }
   ],
   "source": [
    "hours_by_operator.groupby('tract_type').sum()"
   ]
  },
  {
   "cell_type": "code",
   "execution_count": 31,
   "id": "c395cbc6-aa60-44cf-9fec-22442771c174",
   "metadata": {},
   "outputs": [
    {
     "data": {
      "text/plain": [
       "addl_service_hrs_annual    4.936403e+07\n",
       "additional_buses           2.016345e+04\n",
       "bus_capex                  1.566581e+10\n",
       "bus_capex_annualized       1.118986e+09\n",
       "dtype: float64"
      ]
     },
     "execution_count": 31,
     "metadata": {},
     "output_type": "execute_result"
    }
   ],
   "source": [
    "hours_by_operator.sum()"
   ]
  },
  {
   "cell_type": "code",
   "execution_count": 32,
   "id": "4acaae1f-81bb-4961-9fb8-fc65d2244aa0",
   "metadata": {},
   "outputs": [
    {
     "data": {
      "text/html": [
       "<div>\n",
       "<style scoped>\n",
       "    .dataframe tbody tr th:only-of-type {\n",
       "        vertical-align: middle;\n",
       "    }\n",
       "\n",
       "    .dataframe tbody tr th {\n",
       "        vertical-align: top;\n",
       "    }\n",
       "\n",
       "    .dataframe thead th {\n",
       "        text-align: right;\n",
       "    }\n",
       "</style>\n",
       "<table border=\"1\" class=\"dataframe\">\n",
       "  <thead>\n",
       "    <tr style=\"text-align: right;\">\n",
       "      <th></th>\n",
       "      <th>addl_service_hrs_annual</th>\n",
       "      <th>additional_buses</th>\n",
       "      <th>bus_capex</th>\n",
       "      <th>bus_capex_annualized</th>\n",
       "    </tr>\n",
       "    <tr>\n",
       "      <th>tract_type</th>\n",
       "      <th></th>\n",
       "      <th></th>\n",
       "      <th></th>\n",
       "      <th></th>\n",
       "    </tr>\n",
       "  </thead>\n",
       "  <tbody>\n",
       "    <tr>\n",
       "      <th>urban</th>\n",
       "      <td>501460.266667</td>\n",
       "      <td>204.828686</td>\n",
       "      <td>1.591398e+08</td>\n",
       "      <td>1.136713e+07</td>\n",
       "    </tr>\n",
       "  </tbody>\n",
       "</table>\n",
       "</div>"
      ],
      "text/plain": [
       "            addl_service_hrs_annual  additional_buses     bus_capex  \\\n",
       "tract_type                                                            \n",
       "urban                 501460.266667        204.828686  1.591398e+08   \n",
       "\n",
       "            bus_capex_annualized  \n",
       "tract_type                        \n",
       "urban               1.136713e+07  "
      ]
     },
     "execution_count": 32,
     "metadata": {},
     "output_type": "execute_result"
    }
   ],
   "source": [
    "ix = pd.IndexSlice\n",
    "hours_by_operator.loc[ix[279,:]]"
   ]
  },
  {
   "cell_type": "markdown",
   "id": "1e622427-0e44-4df6-bbc4-5a72b03e9ad7",
   "metadata": {},
   "source": [
    "## Compare hours_by_operator"
   ]
  },
  {
   "cell_type": "code",
   "execution_count": 33,
   "id": "5c5632bc-52bc-46f2-8d55-cc919fbf70a5",
   "metadata": {},
   "outputs": [],
   "source": [
    "eric = pd.read_parquet(f\"{utils.GCS_FILE_PATH}increase_by_operator.parquet\")\n",
    "tiff = pd.read_parquet(f\"{utils.GCS_FILE_PATH}test/increase_by_operator.parquet\")"
   ]
  },
  {
   "cell_type": "code",
   "execution_count": 34,
   "id": "45276cb3-9e2b-4327-b4c5-38f6e9caae18",
   "metadata": {},
   "outputs": [],
   "source": [
    "cols = list(eric.columns)"
   ]
  },
  {
   "cell_type": "code",
   "execution_count": 35,
   "id": "1bcfd571-8c9b-4a2a-9396-84696ef38e3e",
   "metadata": {},
   "outputs": [],
   "source": [
    "eric = eric.add_prefix('e_')\n",
    "tiff = tiff.add_prefix('t_')"
   ]
  },
  {
   "cell_type": "code",
   "execution_count": 36,
   "id": "6a12d323-4ddb-4348-ac06-382ea5fe7c76",
   "metadata": {},
   "outputs": [
    {
     "data": {
      "text/plain": [
       "both          230\n",
       "left_only      27\n",
       "right_only      1\n",
       "Name: _merge, dtype: int64"
      ]
     },
     "execution_count": 36,
     "metadata": {},
     "output_type": "execute_result"
    }
   ],
   "source": [
    "m2 = pd.merge(eric, tiff, left_index=True, right_index=True, \n",
    "         how = \"outer\", validate = \"1:1\", indicator=True)\n",
    "m2._merge.value_counts()"
   ]
  },
  {
   "cell_type": "code",
   "execution_count": 37,
   "id": "f2ee3a94-2b7b-49c4-9f41-eefa821a92e3",
   "metadata": {},
   "outputs": [],
   "source": [
    "for c in cols:\n",
    "    eric_col = f\"e_{c}\"\n",
    "    tiff_col = f\"t_{c}\"\n",
    "    new_name = f\"diff_{c}\"\n",
    "    m2 = m2.assign(\n",
    "        new_col = m2[eric_col] - m2[tiff_col]\n",
    "    ).rename(columns = {\"new_col\": new_name})"
   ]
  },
  {
   "cell_type": "code",
   "execution_count": 38,
   "id": "cf5cfbae-26d0-4bee-b899-c20e2b5f32c7",
   "metadata": {},
   "outputs": [
    {
     "name": "stdout",
     "output_type": "stream",
     "text": [
      "***************addl_service_hrs_annual*******************\n",
      "Overall\n",
      "# obs: 258\n",
      "# obs with differences: 106\n",
      "2270729.9333333317\n",
      "Both Only\n",
      "# obs: 230\n",
      "# obs with differences: 78\n",
      "2270729.9333333317\n",
      "***************additional_buses*******************\n",
      "Overall\n",
      "# obs: 258\n",
      "# obs with differences: 106\n",
      "927.5124243462368\n",
      "Both Only\n",
      "# obs: 230\n",
      "# obs with differences: 78\n",
      "927.5124243462368\n",
      "***************bus_capex*******************\n",
      "Overall\n",
      "# obs: 258\n",
      "# obs with differences: 106\n",
      "720622430.4839896\n",
      "Both Only\n",
      "# obs: 230\n",
      "# obs with differences: 78\n",
      "720622430.4839896\n",
      "***************bus_capex_annualized*******************\n",
      "Overall\n",
      "# obs: 258\n",
      "# obs with differences: 106\n",
      "51473030.74885637\n",
      "Both Only\n",
      "# obs: 230\n",
      "# obs with differences: 78\n",
      "51473030.748856366\n"
     ]
    }
   ],
   "source": [
    "for c in cols:\n",
    "    print(f\"***************{c}*******************\")\n",
    "    difference_col = f\"diff_{c}\"\n",
    "    print(\"Overall\")\n",
    "    print(f\"# obs: {len(m2)}\")\n",
    "    print(f\"# obs with differences: {len(m2[m2[difference_col] != 0])}\")\n",
    "    print(m2[difference_col].sum())\n",
    "    \n",
    "    print(\"Both Only\")\n",
    "    both = m2[m2._merge=='both']\n",
    "    print(f\"# obs: {len(both)}\")\n",
    "    print(f\"# obs with differences: {len(both[both[difference_col] != 0])}\")\n",
    "    print(both[difference_col].sum())"
   ]
  },
  {
   "cell_type": "code",
   "execution_count": null,
   "id": "d98e8f86-a119-4e31-9e79-32d2e894ce19",
   "metadata": {},
   "outputs": [],
   "source": []
  }
 ],
 "metadata": {
  "kernelspec": {
   "display_name": "Python 3 (ipykernel)",
   "language": "python",
   "name": "python3"
  },
  "language_info": {
   "codemirror_mode": {
    "name": "ipython",
    "version": 3
   },
   "file_extension": ".py",
   "mimetype": "text/x-python",
   "name": "python",
   "nbconvert_exporter": "python",
   "pygments_lexer": "ipython3",
   "version": "3.9.7"
  }
 },
 "nbformat": 4,
 "nbformat_minor": 5
}
