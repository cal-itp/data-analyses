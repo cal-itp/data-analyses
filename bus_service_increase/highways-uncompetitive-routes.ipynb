{
 "cells": [
  {
   "cell_type": "markdown",
   "id": "c9f8e859-3ef4-4716-845a-9c6176ca3700",
   "metadata": {
    "papermill": {
     "duration": 0.010487,
     "end_time": "2022-09-23T18:55:25.992801",
     "exception": false,
     "start_time": "2022-09-23T18:55:25.982314",
     "status": "completed"
    },
    "tags": []
   },
   "source": [
    "# Highways with Uncompetitive Transit\n",
    "\n",
    "These highway corridors have uncompetitive bus transit service. \n",
    "\n",
    "Highway corridors are categorized into: \n",
    "* transit deserts with no transit\n",
    "* both competitive and uncompetitive transit present\n",
    "* only uncompetitive transit present\n",
    "\n",
    "## Criteria\n",
    "* 10-mile corridors \n",
    "* No competitive transit routes (within 2x car travel) are found within 2 miles of the highway."
   ]
  },
  {
   "cell_type": "code",
   "execution_count": null,
   "id": "7b0944d0-759a-4fd3-b05a-548ce16471a4",
   "metadata": {
    "papermill": {
     "duration": 9.170813,
     "end_time": "2022-09-23T18:55:35.170392",
     "exception": false,
     "start_time": "2022-09-23T18:55:25.999579",
     "status": "completed"
    },
    "tags": []
   },
   "outputs": [],
   "source": [
    "%%capture\n",
    "import warnings\n",
    "warnings.filterwarnings('ignore')\n",
    "\n",
    "import geopandas as gpd\n",
    "import intake\n",
    "import pandas as pd\n",
    "\n",
    "from IPython.display import Markdown, HTML\n",
    "\n",
    "from calitp_data_analysis import calitp_color_palette as cp\n",
    "\n",
    "catalog = intake.open_catalog(\"./*.yml\")"
   ]
  },
  {
   "cell_type": "code",
   "execution_count": null,
   "id": "3756a27d-91b5-422e-8b20-346206593a55",
   "metadata": {},
   "outputs": [],
   "source": [
    "gdf = catalog.highway_uncompetitive_transit.read()"
   ]
  },
  {
   "cell_type": "code",
   "execution_count": null,
   "id": "6b986ec9-7aea-4b54-a9e2-f18c430c7163",
   "metadata": {
    "papermill": {
     "duration": 0.019702,
     "end_time": "2022-09-23T18:56:46.902821",
     "exception": false,
     "start_time": "2022-09-23T18:56:46.883119",
     "status": "completed"
    },
    "tags": []
   },
   "outputs": [],
   "source": [
    "def make_district_map(gdf: gpd.GeoDataFrame, district: int): \n",
    "    gdf2 = (gdf[gdf.District==district]\n",
    "            .drop(columns = [\"hwy_segment_id\", \"segment_sequence\"])\n",
    "            .rename(columns = {\"competitive_category\": \"Category\"})\n",
    "           )\n",
    "    \n",
    "    # Switch color ordering \n",
    "    colors = [\n",
    "        cp.CALITP_CATEGORY_BRIGHT_COLORS[3], # green\n",
    "        cp.CALITP_CATEGORY_BRIGHT_COLORS[2], # yellow\n",
    "        cp.CALITP_CATEGORY_BRIGHT_COLORS[1], # orange\n",
    "    ]\n",
    "            \n",
    "    m = gdf2.explore(\"Category\", \n",
    "                     categorical = True, tiles = \"CartoDB Positron\", \n",
    "                     cmap = colors\n",
    "                    )\n",
    "    \n",
    "    display(m)"
   ]
  },
  {
   "cell_type": "markdown",
   "id": "612debde-ff9d-443f-ae99-491eb8755109",
   "metadata": {},
   "source": [
    "## District Maps"
   ]
  },
  {
   "cell_type": "code",
   "execution_count": null,
   "id": "ae63d391-235c-4266-a38b-7ab2abd9e37b",
   "metadata": {
    "papermill": {
     "duration": 6.888043,
     "end_time": "2022-09-23T18:56:53.798305",
     "exception": false,
     "start_time": "2022-09-23T18:56:46.910262",
     "status": "completed"
    },
    "tags": []
   },
   "outputs": [],
   "source": [
    "districts = gdf.District.unique().tolist()\n",
    "\n",
    "for i in sorted(districts):\n",
    "    display(HTML(f\"<h3> District {i} </h3>\"))\n",
    "\n",
    "    make_district_map(gdf, i)"
   ]
  },
  {
   "cell_type": "markdown",
   "id": "ca9df781-d324-452c-8deb-364515f8fbaa",
   "metadata": {
    "papermill": {
     "duration": 0.584231,
     "end_time": "2022-09-23T18:56:55.015881",
     "exception": false,
     "start_time": "2022-09-23T18:56:54.431650",
     "status": "completed"
    },
    "tags": []
   },
   "source": [
    "<a id=\"top\"></a>       "
   ]
  },
  {
   "cell_type": "code",
   "execution_count": null,
   "id": "8a003eb8-9de0-4ef3-bf9e-87f460648f55",
   "metadata": {
    "papermill": {
     "duration": 0.52834,
     "end_time": "2022-09-23T18:56:56.107829",
     "exception": false,
     "start_time": "2022-09-23T18:56:55.579489",
     "status": "completed"
    },
    "tags": []
   },
   "outputs": [],
   "source": []
  }
 ],
 "metadata": {
  "kernelspec": {
   "display_name": "Python 3 (ipykernel)",
   "language": "python",
   "name": "python3"
  },
  "language_info": {
   "codemirror_mode": {
    "name": "ipython",
    "version": 3
   },
   "file_extension": ".py",
   "mimetype": "text/x-python",
   "name": "python",
   "nbconvert_exporter": "python",
   "pygments_lexer": "ipython3",
   "version": "3.9.13"
  },
  "papermill": {
   "default_parameters": {},
   "duration": 94.212118,
   "end_time": "2022-09-23T18:56:58.750807",
   "environment_variables": {},
   "exception": null,
   "input_path": "highways-uncompetitive-routes.ipynb",
   "output_path": "highways-uncompetitive-routes.ipynb",
   "parameters": {},
   "start_time": "2022-09-23T18:55:24.538689",
   "version": "2.3.4"
  }
 },
 "nbformat": 4,
 "nbformat_minor": 5
}
