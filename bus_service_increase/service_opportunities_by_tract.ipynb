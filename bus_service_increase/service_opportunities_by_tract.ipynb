{
 "cells": [
  {
   "cell_type": "markdown",
   "id": "87322b21-a9ea-4d26-9e7b-9c2d1aae5dbe",
   "metadata": {},
   "source": [
    "# Bus Service Opportunities by Census Tract\n",
    "\n",
    "### Count the # of times a bus arrives at bus stop daily, aggregated to tract\n",
    "\n",
    "* `gtfs_schedule_dim_stop_times`: how long each trip takes\n",
    "* `gtfs_schedule_fact_daily_trips`: filter to date\n",
    "* `gtfs_schedule_dim_stops`: lat/lon\n",
    "\n",
    "Merging stop lat/lon with stop times can show how many times a bus passes through a given stop throughout the day.\n",
    "\n",
    "* [Calculate freq from GTFS](https://groups.google.com/g/transit-developers/c/wQ4IAj59za0)"
   ]
  },
  {
   "cell_type": "code",
   "execution_count": null,
   "id": "a96cc367-a5e1-4ca2-8e43-e2d6b16251b1",
   "metadata": {},
   "outputs": [],
   "source": [
    "import geopandas as gpd\n",
    "import pandas as pd\n",
    "import os\n",
    "\n",
    "import utils\n",
    "import tract_utils\n",
    "import prep_data\n",
    "\n",
    "os.environ[\"CALITP_BQ_MAX_BYTES\"] = str(100_000_000_000)\n",
    "pd.set_option(\"display.max_rows\", 20)\n",
    "\n",
    "from calitp.tables import tbl\n",
    "from calitp import query_sql\n",
    "from siuba import *\n",
    "\n",
    "# To export to GCS\n",
    "from calitp.storage import get_fs\n",
    "fs = get_fs()\n",
    "\n",
    "SELECTED_DATE = \"2021-10-07\""
   ]
  },
  {
   "cell_type": "code",
   "execution_count": null,
   "id": "0434a981-5dff-4bb6-a68e-580f3605f667",
   "metadata": {},
   "outputs": [],
   "source": [
    "'''\n",
    "tbl_stop_times = (\n",
    "    tbl.views.gtfs_schedule_dim_stop_times()\n",
    "    >> filter(_.calitp_extracted_at <= SELECTED_DATE, \n",
    "              _.calitp_deleted_at > SELECTED_DATE, \n",
    "             )\n",
    ")\n",
    "'''"
   ]
  },
  {
   "cell_type": "code",
   "execution_count": null,
   "id": "6bf1875e-194b-42ad-aa4c-518c8ca10e42",
   "metadata": {},
   "outputs": [],
   "source": [
    "'''\n",
    "daily_stop_times = (\n",
    "    tbl.views.gtfs_schedule_fact_daily_trips()\n",
    " >> filter(_.service_date == SELECTED_DATE, \n",
    "          _.is_in_service == True)\n",
    " >> left_join(_, tbl_stop_times,\n",
    "              # also added url number to the join keys ----\n",
    "             [\"calitp_itp_id\", \"calitp_url_number\", \"trip_id\"])\n",
    " >> select(_.itp_id==_.calitp_itp_id, _.calitp_url_number,\n",
    "           _.trip_key, _.trip_id, \n",
    "           _.service_date,\n",
    "           _.stop_id, _.stop_sequence, _.arrival_time)\n",
    " >> filter(_.arrival_time >= \"05:00:00\", \n",
    "          _.arrival_time <= \"20:00:00\")\n",
    " >> group_by(_.itp_id, _.calitp_url_number, \n",
    "             _.trip_id, _.trip_key,\n",
    "             _.service_date, \n",
    "             _.stop_id, _.stop_sequence)\n",
    " >> count(_.arrival_time)\n",
    " >> collect()\n",
    ")\n",
    "\n",
    "daily_stop_times.to_parquet(\"./daily_stop_times.parquet\")\n",
    "'''"
   ]
  },
  {
   "cell_type": "code",
   "execution_count": null,
   "id": "c1a12c87-9c24-44ec-a1c2-e48a8f2c757c",
   "metadata": {},
   "outputs": [],
   "source": [
    "daily_stop_times = pd.read_parquet(\"./daily_stop_times.parquet\")"
   ]
  },
  {
   "cell_type": "code",
   "execution_count": null,
   "id": "4db97eaa-b8de-4c35-8a40-81882ebe81b9",
   "metadata": {},
   "outputs": [],
   "source": [
    "daily_stop_times = utils.include_exclude_multiple_feeds(\n",
    "    daily_stop_times, id_col = \"itp_id\",\n",
    "    include_ids = [182], exclude_ids = [200])"
   ]
  },
  {
   "cell_type": "code",
   "execution_count": null,
   "id": "b4123e73-a362-4d79-b66a-13da9f84a18a",
   "metadata": {},
   "outputs": [],
   "source": [
    "aggregated_stops_per_day = (daily_stop_times\n",
    "                            .groupby([\"itp_id\", \"stop_id\"])\n",
    "                            .agg({\"arrival_time\": \"count\"})\n",
    "                            .reset_index()\n",
    "                            .rename(columns = {\"arrival_time\": \"num_arrivals\"})\n",
    "                           )"
   ]
  },
  {
   "cell_type": "code",
   "execution_count": null,
   "id": "feabf7a5-2b14-41bf-ba0d-5c27a9d83038",
   "metadata": {},
   "outputs": [],
   "source": [
    "aggregated_stops_with_geom = (\n",
    "    tbl.views.gtfs_schedule_dim_stops()\n",
    "    >> select(_.itp_id == _.calitp_itp_id, _.stop_id, \n",
    "             _.stop_lat, _.stop_lon, _.stop_name)\n",
    "    >> arrange(_.itp_id, _.stop_id, \n",
    "               _.stop_lat, _.stop_lon)\n",
    "    >> collect()\n",
    "    >> inner_join(_, aggregated_stops_per_day, \n",
    "              [\"itp_id\", \"stop_id\"])\n",
    "    >> collect()\n",
    ")\n",
    "\n",
    "#aggregated_stops_with_geom.to_parquet(\"./aggregated_stops_with_geom.parquet\")"
   ]
  },
  {
   "cell_type": "code",
   "execution_count": null,
   "id": "d4864db2-11a8-4db8-8a19-aea93079ff9c",
   "metadata": {},
   "outputs": [],
   "source": [
    "def add_stop_geometry_merge_census_tracts(df, census_tract_df):\n",
    "    # If there are the same stops with multiple lat/lon values\n",
    "    # Drop duplicates\n",
    "    df2 = (df.sort_values([\"itp_id\", \"stop_id\", \n",
    "                           \"stop_lon\", \"stop_lat\"])\n",
    "           .drop_duplicates(subset = [\"itp_id\", \"stop_id\"])\n",
    "           .reset_index(drop=True)\n",
    "          )\n",
    "    print(f\"# obs in joined df: {len(df)}\")\n",
    "    print(f\"# obs in joined df, no dups: {len(df2)}\")\n",
    "    \n",
    "    # Add stop geometry column\n",
    "    df3 = gpd.GeoDataFrame(df2, \n",
    "                           geometry=gpd.points_from_xy(df2.stop_lon, \n",
    "                                                       df2.stop_lat), \n",
    "                           crs = utils.WGS84\n",
    "                          ).drop(columns = [\"stop_lon\", \"stop_lat\"])\n",
    "    \n",
    "    # Join stops (points) to census tracts (polygons)\n",
    "    gdf = gpd.sjoin(df3.to_crs(utils.WGS84), \n",
    "                    census_tract_df.to_crs(utils.WGS84),\n",
    "                    # Use inner, or else left join will result in some NaN tracts\n",
    "                    how = \"inner\",\n",
    "                    predicate = \"intersects\"\n",
    "                   ).drop(columns = \"index_right\")\n",
    "    \n",
    "    return gdf"
   ]
  },
  {
   "cell_type": "code",
   "execution_count": null,
   "id": "f7801538-6485-48eb-a8e3-ddb039640f55",
   "metadata": {},
   "outputs": [],
   "source": [
    "census_tracts = prep_data.generate_calenviroscreen_lehd_data(prep_data.datasets)\n",
    "\n",
    "gdf = add_stop_geometry_merge_census_tracts(\n",
    "    aggregated_stops_with_geom, census_tracts)"
   ]
  },
  {
   "cell_type": "code",
   "execution_count": null,
   "id": "299b0f74-afdf-4fa2-a9aa-92b7c683c223",
   "metadata": {},
   "outputs": [],
   "source": [
    "tract_group_cols = [\"Tract\"]\n",
    "sum_cols = [\"num_arrivals\"]\n",
    "count_cols = [\"stop_id\"]\n",
    "nunique_cols = [\"itp_id\"]\n",
    "\n",
    "gdf2 = tract_utils.aggregate_by_tract(gdf, tract_group_cols, \n",
    "                                          sum_cols = sum_cols, \n",
    "                                          count_cols = count_cols, \n",
    "                                          nunique_cols = nunique_cols)\n",
    "\n",
    "final_df = tract_utils.attach_tract_geometry(gdf2, census_tracts, \n",
    "                                              merge_col = [\"Tract\"], join=\"left\")"
   ]
  },
  {
   "cell_type": "code",
   "execution_count": null,
   "id": "2e822626-ce6b-4c44-bde5-0f36f3566e63",
   "metadata": {},
   "outputs": [],
   "source": [
    "# Export to GCS (but save locally first)\n",
    "FILE_NAME = \"bus_stop_times_by_tract.parquet\"\n",
    "final_df.to_parquet(f\"./{FILE_NAME}\")\n",
    "\n",
    "fs.put(f\"./{FILE_NAME}\", f\"{utils.GCS_FILE_PATH}{FILE_NAME}\")\n",
    "\n",
    "final_df.head()"
   ]
  },
  {
   "cell_type": "code",
   "execution_count": null,
   "id": "cbdd0b83-6c91-49ce-a9c0-a5563e05a98e",
   "metadata": {},
   "outputs": [],
   "source": []
  }
 ],
 "metadata": {
  "kernelspec": {
   "display_name": "Python 3 (ipykernel)",
   "language": "python",
   "name": "python3"
  },
  "language_info": {
   "codemirror_mode": {
    "name": "ipython",
    "version": 3
   },
   "file_extension": ".py",
   "mimetype": "text/x-python",
   "name": "python",
   "nbconvert_exporter": "python",
   "pygments_lexer": "ipython3",
   "version": "3.9.7"
  }
 },
 "nbformat": 4,
 "nbformat_minor": 5
}
