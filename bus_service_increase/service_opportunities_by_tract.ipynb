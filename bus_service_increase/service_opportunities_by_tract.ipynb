{
 "cells": [
  {
   "cell_type": "markdown",
   "id": "87322b21-a9ea-4d26-9e7b-9c2d1aae5dbe",
   "metadata": {},
   "source": [
    "# Bus Service Opportunities by Census Tract\n",
    "\n",
    "### Count the # of times a bus arrives at bus stop daily, aggregated to tract\n",
    "\n",
    "* `gtfs_schedule_dim_stop_times`: how long each trip takes\n",
    "* `gtfs_schedule_fact_daily_trips`: filter to date\n",
    "* `gtfs_schedule_dim_stops`: lat/lon\n",
    "\n",
    "Merging stop lat/lon with stop times can show how many times a bus passes through a given stop throughout the day.\n",
    "\n",
    "* [Calculate freq from GTFS](https://groups.google.com/g/transit-developers/c/wQ4IAj59za0)"
   ]
  },
  {
   "cell_type": "code",
   "execution_count": 1,
   "id": "a96cc367-a5e1-4ca2-8e43-e2d6b16251b1",
   "metadata": {},
   "outputs": [],
   "source": [
    "import geopandas as gpd\n",
    "import pandas as pd\n",
    "import os\n",
    "\n",
    "import utils\n",
    "import prep_data\n",
    "\n",
    "os.environ[\"CALITP_BQ_MAX_BYTES\"] = str(100_000_000_000)\n",
    "pd.set_option(\"display.max_rows\", 20)\n",
    "\n",
    "from calitp.tables import tbl\n",
    "from calitp import query_sql\n",
    "from siuba import *\n",
    "\n",
    "SELECTED_DATE = \"2021-10-07\""
   ]
  },
  {
   "cell_type": "code",
   "execution_count": null,
   "id": "0434a981-5dff-4bb6-a68e-580f3605f667",
   "metadata": {},
   "outputs": [],
   "source": [
    "'''\n",
    "tbl_stop_times = (\n",
    "    tbl.views.gtfs_schedule_dim_stop_times()\n",
    "    >> filter(_.calitp_extracted_at <= SELECTED_DATE, \n",
    "              _.calitp_deleted_at > SELECTED_DATE, \n",
    "             )\n",
    ")\n",
    "'''"
   ]
  },
  {
   "cell_type": "code",
   "execution_count": null,
   "id": "6bf1875e-194b-42ad-aa4c-518c8ca10e42",
   "metadata": {},
   "outputs": [],
   "source": [
    "'''\n",
    "daily_stop_times = (\n",
    "    tbl.views.gtfs_schedule_fact_daily_trips()\n",
    " >> filter(_.service_date == SELECTED_DATE, \n",
    "          _.is_in_service == True)\n",
    " >> left_join(_, tbl_stop_times,\n",
    "              # also added url number to the join keys ----\n",
    "             [\"calitp_itp_id\", \"calitp_url_number\", \"trip_id\"])\n",
    " >> select(_.itp_id==_.calitp_itp_id, _.calitp_url_number,\n",
    "           _.trip_key, _.trip_id, \n",
    "           _.service_date,\n",
    "           _.stop_id, _.stop_sequence, _.arrival_time)\n",
    " >> filter(_.arrival_time >= \"05:00:00\", \n",
    "          _.arrival_time <= \"20:00:00\")\n",
    " >> group_by(_.itp_id, _.calitp_url_number, \n",
    "             _.trip_id, _.trip_key,\n",
    "             _.service_date, \n",
    "             _.stop_id, _.stop_sequence)\n",
    " >> count(_.arrival_time)\n",
    " >> collect()\n",
    ")\n",
    "\n",
    "daily_stop_times.to_parquet(\"./daily_stop_times.parquet\")\n",
    "'''"
   ]
  },
  {
   "cell_type": "code",
   "execution_count": 2,
   "id": "c1a12c87-9c24-44ec-a1c2-e48a8f2c757c",
   "metadata": {},
   "outputs": [],
   "source": [
    "daily_stop_times = pd.read_parquet(\"./daily_stop_times.parquet\")"
   ]
  },
  {
   "cell_type": "code",
   "execution_count": 3,
   "id": "4db97eaa-b8de-4c35-8a40-81882ebe81b9",
   "metadata": {},
   "outputs": [
    {
     "name": "stdout",
     "output_type": "stream",
     "text": [
      "# obs in original df: 3772291\n",
      "# obs in new df: 2951851\n",
      "These operators have multiple calitp_url_number values: [106, 110, 167, 182, 280, 290, 310, 350]\n"
     ]
    }
   ],
   "source": [
    "daily_stop_times = utils.include_exclude_multiple_feeds(\n",
    "    daily_stop_times, id_col = \"itp_id\",\n",
    "    include_ids = [182], exclude_ids = [200])"
   ]
  },
  {
   "cell_type": "code",
   "execution_count": 4,
   "id": "b4123e73-a362-4d79-b66a-13da9f84a18a",
   "metadata": {},
   "outputs": [],
   "source": [
    "aggregated_stops_per_day = (daily_stop_times\n",
    "                            .groupby([\"itp_id\", \"stop_id\"])\n",
    "                            .agg({\"arrival_time\": \"count\"})\n",
    "                            .reset_index()\n",
    "                            .rename(columns = {\"arrival_time\": \"num_arrivals\"})\n",
    "                           )"
   ]
  },
  {
   "cell_type": "code",
   "execution_count": 5,
   "id": "feabf7a5-2b14-41bf-ba0d-5c27a9d83038",
   "metadata": {},
   "outputs": [],
   "source": [
    "aggregated_stops_with_geom = (\n",
    "    tbl.views.gtfs_schedule_dim_stops()\n",
    "    >> select(_.itp_id == _.calitp_itp_id, _.stop_id, \n",
    "             _.stop_lat, _.stop_lon, _.stop_name)\n",
    "    >> arrange(_.itp_id, _.stop_id, \n",
    "               _.stop_lat, _.stop_lon)\n",
    "    >> collect()\n",
    "    >> inner_join(_, aggregated_stops_per_day, \n",
    "              [\"itp_id\", \"stop_id\"])\n",
    "    >> collect()\n",
    ")"
   ]
  },
  {
   "cell_type": "code",
   "execution_count": 6,
   "id": "d4864db2-11a8-4db8-8a19-aea93079ff9c",
   "metadata": {},
   "outputs": [],
   "source": [
    "def add_stop_geometry_merge_census_tracts(df, census_tract_df):\n",
    "    # If there are the same stops with multiple lat/lon values\n",
    "    # Drop duplicates\n",
    "    df2 = (df.sort_values([\"itp_id\", \"stop_id\", \n",
    "                           \"stop_lon\", \"stop_lat\"])\n",
    "           .drop_duplicates(subset = [\"itp_id\", \"stop_id\"])\n",
    "           .reset_index(drop=True)\n",
    "          )\n",
    "    print(f\"# obs in joined df: {len(df)}\")\n",
    "    print(f\"# obs in joined df, no dups: {len(df2)}\")\n",
    "    \n",
    "    # Add stop geometry column\n",
    "    df3 = gpd.GeoDataFrame(df2, \n",
    "                           geometry=gpd.points_from_xy(df2.stop_lon, \n",
    "                                                       df2.stop_lat), \n",
    "                           crs = utils.WGS84\n",
    "                          ).drop(columns = [\"stop_lon\", \"stop_lat\"])\n",
    "    \n",
    "    # Join stops (points) to census tracts (polygons)\n",
    "    gdf = gpd.sjoin(df3.to_crs(utils.WGS84), \n",
    "                    census_tract_df.to_crs(utils.WGS84),\n",
    "                    # Use inner, or else left join will result in some NaN tracts\n",
    "                    how = \"inner\",\n",
    "                    predicate = \"intersects\"\n",
    "                   ).drop(columns = \"index_right\")\n",
    "    \n",
    "    # Merge in tract geometry\n",
    "    gdf2 = pd.merge(census_tract_df[[\"Tract\", \"geometry\"]].to_crs(utils.WGS84),\n",
    "                    gdf.drop(columns = \"geometry\"),\n",
    "                    on = \"Tract\",\n",
    "                    how = \"inner\",\n",
    "                    validate = \"1:m\"\n",
    "    )\n",
    "    \n",
    "    return gdf2"
   ]
  },
  {
   "cell_type": "code",
   "execution_count": 7,
   "id": "f7801538-6485-48eb-a8e3-ddb039640f55",
   "metadata": {},
   "outputs": [
    {
     "name": "stdout",
     "output_type": "stream",
     "text": [
      "# obs in joined df: 196187\n",
      "# obs in joined df, no dups: 84567\n"
     ]
    }
   ],
   "source": [
    "census_tracts = prep_data.generate_calenviroscreen_lehd_data(prep_data.datasets)\n",
    "\n",
    "gdf = add_stop_geometry_merge_census_tracts(\n",
    "    aggregated_stops_with_geom, census_tracts)"
   ]
  },
  {
   "cell_type": "code",
   "execution_count": 8,
   "id": "299b0f74-afdf-4fa2-a9aa-92b7c683c223",
   "metadata": {},
   "outputs": [],
   "source": [
    "tract_group_cols = [\"Tract\", \"equity_group\", \n",
    "                    \"pollution_group\", \"popchar_group\", \n",
    "                    \"pop_sq_mi\", \"jobs_sq_mi\",\n",
    "                   ]\n",
    "sum_cols = [\"num_arrivals\"]\n",
    "count_cols = [\"itp_id\", \"stop_id\"]\n",
    "\n",
    "final_df = utils.aggregate_by_tract(gdf, tract_group_cols, \n",
    "                   sum_cols = sum_cols, count_cols = count_cols)"
   ]
  },
  {
   "cell_type": "code",
   "execution_count": 9,
   "id": "3b123c06-9bcc-42f1-aa1a-d82a640bb1ef",
   "metadata": {},
   "outputs": [
    {
     "name": "stderr",
     "output_type": "stream",
     "text": [
      "/tmp/ipykernel_66/628785731.py:1: UserWarning: this is an initial implementation of Parquet/Feather file support and associated metadata.  This is tracking version 0.1.0 of the metadata specification at https://github.com/geopandas/geo-arrow-spec\n",
      "\n",
      "This metadata specification does not yet make stability promises.  We do not yet recommend using this in a production setting unless you are able to rewrite your Parquet/Feather files.\n",
      "\n",
      "To further ignore this warning, you can do: \n",
      "import warnings; warnings.filterwarnings('ignore', message='.*initial implementation of Parquet.*')\n",
      "  final_df.to_parquet(\"./bus_stop_times_by_tract.parquet\")\n"
     ]
    },
    {
     "data": {
      "text/html": [
       "<div>\n",
       "<style scoped>\n",
       "    .dataframe tbody tr th:only-of-type {\n",
       "        vertical-align: middle;\n",
       "    }\n",
       "\n",
       "    .dataframe tbody tr th {\n",
       "        vertical-align: top;\n",
       "    }\n",
       "\n",
       "    .dataframe thead th {\n",
       "        text-align: right;\n",
       "    }\n",
       "</style>\n",
       "<table border=\"1\" class=\"dataframe\">\n",
       "  <thead>\n",
       "    <tr style=\"text-align: right;\">\n",
       "      <th></th>\n",
       "      <th>Tract</th>\n",
       "      <th>geometry</th>\n",
       "      <th>equity_group</th>\n",
       "      <th>pollution_group</th>\n",
       "      <th>popchar_group</th>\n",
       "      <th>pop_sq_mi</th>\n",
       "      <th>jobs_sq_mi</th>\n",
       "      <th>num_arrivals</th>\n",
       "      <th>itp_id</th>\n",
       "      <th>stop_id</th>\n",
       "    </tr>\n",
       "  </thead>\n",
       "  <tbody>\n",
       "    <tr>\n",
       "      <th>0</th>\n",
       "      <td>06001400100</td>\n",
       "      <td>POLYGON ((-122.24408 37.88322, -122.24198 37.8...</td>\n",
       "      <td>0</td>\n",
       "      <td>0</td>\n",
       "      <td>0</td>\n",
       "      <td>1174.735658</td>\n",
       "      <td>0.300000</td>\n",
       "      <td>155.0</td>\n",
       "      <td>9.0</td>\n",
       "      <td>9.0</td>\n",
       "    </tr>\n",
       "    <tr>\n",
       "      <th>1</th>\n",
       "      <td>06001400200</td>\n",
       "      <td>POLYGON ((-122.24191 37.85181, -122.24202 37.8...</td>\n",
       "      <td>0</td>\n",
       "      <td>0</td>\n",
       "      <td>0</td>\n",
       "      <td>8729.842746</td>\n",
       "      <td>0.676134</td>\n",
       "      <td>698.0</td>\n",
       "      <td>14.0</td>\n",
       "      <td>14.0</td>\n",
       "    </tr>\n",
       "    <tr>\n",
       "      <th>2</th>\n",
       "      <td>06001400300</td>\n",
       "      <td>POLYGON ((-122.24590 37.84500, -122.25241 37.8...</td>\n",
       "      <td>0</td>\n",
       "      <td>1</td>\n",
       "      <td>0</td>\n",
       "      <td>11819.185813</td>\n",
       "      <td>0.391606</td>\n",
       "      <td>1516.0</td>\n",
       "      <td>27.0</td>\n",
       "      <td>27.0</td>\n",
       "    </tr>\n",
       "    <tr>\n",
       "      <th>3</th>\n",
       "      <td>06001400400</td>\n",
       "      <td>POLYGON ((-122.25295 37.85117, -122.25305 37.8...</td>\n",
       "      <td>0</td>\n",
       "      <td>0</td>\n",
       "      <td>0</td>\n",
       "      <td>14755.587549</td>\n",
       "      <td>0.245321</td>\n",
       "      <td>397.0</td>\n",
       "      <td>13.0</td>\n",
       "      <td>13.0</td>\n",
       "    </tr>\n",
       "    <tr>\n",
       "      <th>4</th>\n",
       "      <td>06001400500</td>\n",
       "      <td>POLYGON ((-122.26023 37.85274, -122.26130 37.8...</td>\n",
       "      <td>0</td>\n",
       "      <td>0</td>\n",
       "      <td>0</td>\n",
       "      <td>18166.435207</td>\n",
       "      <td>0.087779</td>\n",
       "      <td>441.0</td>\n",
       "      <td>13.0</td>\n",
       "      <td>13.0</td>\n",
       "    </tr>\n",
       "  </tbody>\n",
       "</table>\n",
       "</div>"
      ],
      "text/plain": [
       "         Tract                                           geometry  \\\n",
       "0  06001400100  POLYGON ((-122.24408 37.88322, -122.24198 37.8...   \n",
       "1  06001400200  POLYGON ((-122.24191 37.85181, -122.24202 37.8...   \n",
       "2  06001400300  POLYGON ((-122.24590 37.84500, -122.25241 37.8...   \n",
       "3  06001400400  POLYGON ((-122.25295 37.85117, -122.25305 37.8...   \n",
       "4  06001400500  POLYGON ((-122.26023 37.85274, -122.26130 37.8...   \n",
       "\n",
       "   equity_group  pollution_group  popchar_group     pop_sq_mi  jobs_sq_mi  \\\n",
       "0             0                0              0   1174.735658    0.300000   \n",
       "1             0                0              0   8729.842746    0.676134   \n",
       "2             0                1              0  11819.185813    0.391606   \n",
       "3             0                0              0  14755.587549    0.245321   \n",
       "4             0                0              0  18166.435207    0.087779   \n",
       "\n",
       "   num_arrivals  itp_id  stop_id  \n",
       "0         155.0     9.0      9.0  \n",
       "1         698.0    14.0     14.0  \n",
       "2        1516.0    27.0     27.0  \n",
       "3         397.0    13.0     13.0  \n",
       "4         441.0    13.0     13.0  "
      ]
     },
     "execution_count": 9,
     "metadata": {},
     "output_type": "execute_result"
    }
   ],
   "source": [
    "final_df.to_parquet(\"./bus_stop_times_by_tract.parquet\")\n",
    "final_df.head()"
   ]
  },
  {
   "cell_type": "code",
   "execution_count": null,
   "id": "271c9f08-5e54-45e5-ad26-e4a8eaf98d26",
   "metadata": {},
   "outputs": [],
   "source": []
  }
 ],
 "metadata": {
  "kernelspec": {
   "display_name": "Python 3 (ipykernel)",
   "language": "python",
   "name": "python3"
  },
  "language_info": {
   "codemirror_mode": {
    "name": "ipython",
    "version": 3
   },
   "file_extension": ".py",
   "mimetype": "text/x-python",
   "name": "python",
   "nbconvert_exporter": "python",
   "pygments_lexer": "ipython3",
   "version": "3.9.6"
  }
 },
 "nbformat": 4,
 "nbformat_minor": 5
}
