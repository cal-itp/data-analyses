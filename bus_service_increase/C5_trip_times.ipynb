{
 "cells": [
  {
   "cell_type": "markdown",
   "id": "3b7ff62b-45d8-42aa-8920-269d094d70eb",
   "metadata": {},
   "source": [
    "# Estimate car vs bus travel time\n",
    "\n",
    "* Pull out parallel routes. Run `setup_parallel_trips_with_stops.py`\n",
    "* Make car travel down same route as the bus. Use `googlemaps`, and set the departure hour to be the same time as bus route's.\n",
    "    * `osmx` snaps to nodes, but even for every 5th bus stop, it's snapping to same node.\n",
    "    * `osrm` wasn't able to be installed in Hub"
   ]
  },
  {
   "cell_type": "code",
   "execution_count": null,
   "id": "d873fe16-ee0f-4ef4-ab30-2b352dc06f53",
   "metadata": {},
   "outputs": [],
   "source": [
    "#!pip install -r requirements.txt"
   ]
  },
  {
   "cell_type": "code",
   "execution_count": 1,
   "id": "93a66400-c9f1-41f1-999b-3e9d6bb849bc",
   "metadata": {},
   "outputs": [
    {
     "name": "stderr",
     "output_type": "stream",
     "text": [
      "/opt/conda/lib/python3.9/site-packages/geopandas/_compat.py:111: UserWarning: The Shapely GEOS version (3.10.2-CAPI-1.16.0) is incompatible with the GEOS version PyGEOS was compiled with (3.10.1-CAPI-1.16.0). Conversions between both will be slow.\n",
      "  warnings.warn(\n"
     ]
    }
   ],
   "source": [
    "#https://stackoverflow.com/questions/55162077/how-to-get-the-driving-distance-between-two-geographical-coordinates-using-pytho\n",
    "import dotenv\n",
    "import geopandas as gpd\n",
    "import googlemaps\n",
    "import intake\n",
    "import os\n",
    "import pandas as pd\n",
    "\n",
    "from datetime import datetime, timedelta\n",
    "from siuba import *\n",
    "\n",
    "dotenv.load_dotenv(\"_env\")\n",
    "\n",
    "catalog = intake.open_catalog(\"./*.yml\")\n",
    "\n",
    "GOOGLE_API_KEY = os.environ[\"GOOGLE_API_KEY\"]"
   ]
  },
  {
   "cell_type": "code",
   "execution_count": 2,
   "id": "44a1015b-81e1-4972-88de-2eaab70717c6",
   "metadata": {},
   "outputs": [],
   "source": [
    "def grab_latlon_make_tuple(df, point_geom_col):\n",
    "    # Change this from shapely point to floats\n",
    "    df = df.assign(\n",
    "        longitude = df[point_geom_col].x,\n",
    "        latitude = df[point_geom_col].y,\n",
    "    )\n",
    "    \n",
    "    # Make tuples instead of just floats\n",
    "    df2 = (df.assign(\n",
    "            new = df.apply(lambda x: (x.latitude, x.longitude), axis=1)        \n",
    "        ).rename(columns = {\"new\": f\"{point_geom_col}_tuple\"})\n",
    "          .drop(columns = [\"latitude\", \"longitude\"])\n",
    "    )\n",
    "    \n",
    "    return df2"
   ]
  },
  {
   "cell_type": "code",
   "execution_count": 3,
   "id": "c5f79e0f-1b65-4610-96d8-aa6f12ebb70f",
   "metadata": {},
   "outputs": [],
   "source": [
    "def data_wrangling(df):\n",
    "    # Move this step into script later? \n",
    "    # Or just leave in this notebook, wrangle it into what goes into googlemaps\n",
    "    \n",
    "    df = df.assign(\n",
    "        # Just grab time because googlemaps doesn't want past date \n",
    "        departure_date = pd.to_datetime(df.departure_time, errors=\"coerce\").dt.date,\n",
    "        departure_time2 = pd.to_datetime\n",
    "    )\n",
    "    \n",
    "    \n",
    "    df2 = (grab_latlon_make_tuple(df, \"geometry\")\n",
    "           .drop(columns = \"geometry\")\n",
    "           .rename(columns = {\"geometry_tuple\": \"geometry\"})\n",
    "          )\n",
    "    \n",
    "    return df2"
   ]
  },
  {
   "cell_type": "code",
   "execution_count": 86,
   "id": "bfaa94a1-a722-490e-903e-9ee0a14e92b6",
   "metadata": {},
   "outputs": [],
   "source": [
    "df = catalog.parallel_trips_with_stops.read()\n"
   ]
  },
  {
   "cell_type": "code",
   "execution_count": 80,
   "id": "4edde8b1-a1d9-4444-a495-e6045d5f6a17",
   "metadata": {},
   "outputs": [],
   "source": [
    "df = df.head()"
   ]
  },
  {
   "cell_type": "code",
   "execution_count": 81,
   "id": "79a06ba9-05d1-497e-8103-1d4c9e31af66",
   "metadata": {},
   "outputs": [],
   "source": [
    "import warehouse_queries\n",
    "SELECTED_DATE = warehouse_queries.dates[\"thurs\"]\n",
    "\n",
    "\n",
    "from datetime import date\n",
    "\n",
    "year = int(SELECTED_DATE.split('-')[0])\n",
    "month = int(SELECTED_DATE.split('-')[1])\n",
    "day = int(SELECTED_DATE.split('-')[2])"
   ]
  },
  {
   "cell_type": "code",
   "execution_count": 98,
   "id": "2a368e12-00e4-4892-bae3-a619a044524a",
   "metadata": {},
   "outputs": [
    {
     "ename": "ValueError",
     "evalue": "Cannot mask with non-boolean array containing NA / NaN values",
     "output_type": "error",
     "traceback": [
      "\u001b[0;31m---------------------------------------------------------------------------\u001b[0m",
      "\u001b[0;31mValueError\u001b[0m                                Traceback (most recent call last)",
      "Input \u001b[0;32mIn [98]\u001b[0m, in \u001b[0;36m<cell line: 1>\u001b[0;34m()\u001b[0m\n\u001b[0;32m----> 1\u001b[0m \u001b[43mdf\u001b[49m\u001b[43m[\u001b[49m\u001b[43mdf\u001b[49m\u001b[38;5;241;43m.\u001b[39;49m\u001b[43mdeparture_time\u001b[49m\u001b[38;5;241;43m.\u001b[39;49m\u001b[43mstr\u001b[49m\u001b[38;5;241;43m.\u001b[39;49m\u001b[43mcontains\u001b[49m\u001b[43m(\u001b[49m\u001b[38;5;124;43m\"\u001b[39;49m\u001b[38;5;124;43m24:\u001b[39;49m\u001b[38;5;124;43m\"\u001b[39;49m\u001b[43m)\u001b[49m\u001b[43m]\u001b[49m\n",
      "File \u001b[0;32m/opt/conda/lib/python3.9/site-packages/geopandas/geodataframe.py:1327\u001b[0m, in \u001b[0;36mGeoDataFrame.__getitem__\u001b[0;34m(self, key)\u001b[0m\n\u001b[1;32m   1321\u001b[0m \u001b[38;5;28;01mdef\u001b[39;00m \u001b[38;5;21m__getitem__\u001b[39m(\u001b[38;5;28mself\u001b[39m, key):\n\u001b[1;32m   1322\u001b[0m     \u001b[38;5;124;03m\"\"\"\u001b[39;00m\n\u001b[1;32m   1323\u001b[0m \u001b[38;5;124;03m    If the result is a column containing only 'geometry', return a\u001b[39;00m\n\u001b[1;32m   1324\u001b[0m \u001b[38;5;124;03m    GeoSeries. If it's a DataFrame with a 'geometry' column, return a\u001b[39;00m\n\u001b[1;32m   1325\u001b[0m \u001b[38;5;124;03m    GeoDataFrame.\u001b[39;00m\n\u001b[1;32m   1326\u001b[0m \u001b[38;5;124;03m    \"\"\"\u001b[39;00m\n\u001b[0;32m-> 1327\u001b[0m     result \u001b[38;5;241m=\u001b[39m \u001b[38;5;28;43msuper\u001b[39;49m\u001b[43m(\u001b[49m\u001b[43m)\u001b[49m\u001b[38;5;241;43m.\u001b[39;49m\u001b[38;5;21;43m__getitem__\u001b[39;49m\u001b[43m(\u001b[49m\u001b[43mkey\u001b[49m\u001b[43m)\u001b[49m\n\u001b[1;32m   1328\u001b[0m     geo_col \u001b[38;5;241m=\u001b[39m \u001b[38;5;28mself\u001b[39m\u001b[38;5;241m.\u001b[39m_geometry_column_name\n\u001b[1;32m   1329\u001b[0m     \u001b[38;5;28;01mif\u001b[39;00m \u001b[38;5;28misinstance\u001b[39m(result, Series) \u001b[38;5;129;01mand\u001b[39;00m \u001b[38;5;28misinstance\u001b[39m(result\u001b[38;5;241m.\u001b[39mdtype, GeometryDtype):\n",
      "File \u001b[0;32m/opt/conda/lib/python3.9/site-packages/pandas/core/frame.py:3495\u001b[0m, in \u001b[0;36mDataFrame.__getitem__\u001b[0;34m(self, key)\u001b[0m\n\u001b[1;32m   3492\u001b[0m     \u001b[38;5;28;01mreturn\u001b[39;00m \u001b[38;5;28mself\u001b[39m\u001b[38;5;241m.\u001b[39mwhere(key)\n\u001b[1;32m   3494\u001b[0m \u001b[38;5;66;03m# Do we have a (boolean) 1d indexer?\u001b[39;00m\n\u001b[0;32m-> 3495\u001b[0m \u001b[38;5;28;01mif\u001b[39;00m \u001b[43mcom\u001b[49m\u001b[38;5;241;43m.\u001b[39;49m\u001b[43mis_bool_indexer\u001b[49m\u001b[43m(\u001b[49m\u001b[43mkey\u001b[49m\u001b[43m)\u001b[49m:\n\u001b[1;32m   3496\u001b[0m     \u001b[38;5;28;01mreturn\u001b[39;00m \u001b[38;5;28mself\u001b[39m\u001b[38;5;241m.\u001b[39m_getitem_bool_array(key)\n\u001b[1;32m   3498\u001b[0m \u001b[38;5;66;03m# We are left with two options: a single key, and a collection of keys,\u001b[39;00m\n\u001b[1;32m   3499\u001b[0m \u001b[38;5;66;03m# We interpret tuples as collections only for non-MultiIndex\u001b[39;00m\n",
      "File \u001b[0;32m/opt/conda/lib/python3.9/site-packages/pandas/core/common.py:144\u001b[0m, in \u001b[0;36mis_bool_indexer\u001b[0;34m(key)\u001b[0m\n\u001b[1;32m    140\u001b[0m     na_msg \u001b[38;5;241m=\u001b[39m \u001b[38;5;124m\"\u001b[39m\u001b[38;5;124mCannot mask with non-boolean array containing NA / NaN values\u001b[39m\u001b[38;5;124m\"\u001b[39m\n\u001b[1;32m    141\u001b[0m     \u001b[38;5;28;01mif\u001b[39;00m lib\u001b[38;5;241m.\u001b[39minfer_dtype(key) \u001b[38;5;241m==\u001b[39m \u001b[38;5;124m\"\u001b[39m\u001b[38;5;124mboolean\u001b[39m\u001b[38;5;124m\"\u001b[39m \u001b[38;5;129;01mand\u001b[39;00m isna(key)\u001b[38;5;241m.\u001b[39many():\n\u001b[1;32m    142\u001b[0m         \u001b[38;5;66;03m# Don't raise on e.g. [\"A\", \"B\", np.nan], see\u001b[39;00m\n\u001b[1;32m    143\u001b[0m         \u001b[38;5;66;03m#  test_loc_getitem_list_of_labels_categoricalindex_with_na\u001b[39;00m\n\u001b[0;32m--> 144\u001b[0m         \u001b[38;5;28;01mraise\u001b[39;00m \u001b[38;5;167;01mValueError\u001b[39;00m(na_msg)\n\u001b[1;32m    145\u001b[0m     \u001b[38;5;28;01mreturn\u001b[39;00m \u001b[38;5;28;01mFalse\u001b[39;00m\n\u001b[1;32m    146\u001b[0m \u001b[38;5;28;01mreturn\u001b[39;00m \u001b[38;5;28;01mTrue\u001b[39;00m\n",
      "\u001b[0;31mValueError\u001b[0m: Cannot mask with non-boolean array containing NA / NaN values"
     ]
    }
   ],
   "source": [
    "df[df.departure_time.str.contains(\"24:\")]"
   ]
  },
  {
   "cell_type": "code",
   "execution_count": 97,
   "id": "788b2ee0-1a04-4d3b-af42-b57108ce2830",
   "metadata": {},
   "outputs": [
    {
     "ename": "ValueError",
     "evalue": "time data '24:00:33' does not match format '%H:%M:%S'",
     "output_type": "error",
     "traceback": [
      "\u001b[0;31m---------------------------------------------------------------------------\u001b[0m",
      "\u001b[0;31mValueError\u001b[0m                                Traceback (most recent call last)",
      "Input \u001b[0;32mIn [97]\u001b[0m, in \u001b[0;36m<cell line: 1>\u001b[0;34m()\u001b[0m\n\u001b[1;32m      1\u001b[0m df \u001b[38;5;241m=\u001b[39m df\u001b[38;5;241m.\u001b[39massign(\n\u001b[0;32m----> 2\u001b[0m     departure_time \u001b[38;5;241m=\u001b[39m \u001b[43mdf\u001b[49m\u001b[38;5;241;43m.\u001b[39;49m\u001b[43mapply\u001b[49m\u001b[43m(\u001b[49m\u001b[38;5;28;43;01mlambda\u001b[39;49;00m\u001b[43m \u001b[49m\u001b[43mx\u001b[49m\u001b[43m:\u001b[49m\u001b[43m \u001b[49m\n\u001b[1;32m      3\u001b[0m \u001b[43m                              \u001b[49m\u001b[43mdatetime\u001b[49m\u001b[38;5;241;43m.\u001b[39;49m\u001b[43mstrptime\u001b[49m\u001b[43m(\u001b[49m\u001b[43mx\u001b[49m\u001b[38;5;241;43m.\u001b[39;49m\u001b[43mdeparture_time\u001b[49m\u001b[43m,\u001b[49m\u001b[43m \u001b[49m\u001b[38;5;124;43m\"\u001b[39;49m\u001b[38;5;124;43m%\u001b[39;49m\u001b[38;5;124;43mH:\u001b[39;49m\u001b[38;5;124;43m%\u001b[39;49m\u001b[38;5;124;43mM:\u001b[39;49m\u001b[38;5;124;43m%\u001b[39;49m\u001b[38;5;124;43mS\u001b[39;49m\u001b[38;5;124;43m\"\u001b[39;49m\u001b[43m)\u001b[49m\u001b[38;5;241;43m.\u001b[39;49m\u001b[43mtime\u001b[49m\u001b[43m(\u001b[49m\u001b[43m)\u001b[49m\u001b[43m,\u001b[49m\u001b[43m \u001b[49m\n\u001b[1;32m      4\u001b[0m \u001b[43m                              \u001b[49m\u001b[43maxis\u001b[49m\u001b[38;5;241;43m=\u001b[39;49m\u001b[38;5;241;43m1\u001b[39;49m\u001b[43m)\u001b[49m\n\u001b[1;32m      5\u001b[0m )\n",
      "File \u001b[0;32m/opt/conda/lib/python3.9/site-packages/geopandas/geodataframe.py:1390\u001b[0m, in \u001b[0;36mGeoDataFrame.apply\u001b[0;34m(self, func, axis, raw, result_type, args, **kwargs)\u001b[0m\n\u001b[1;32m   1388\u001b[0m \u001b[38;5;129m@doc\u001b[39m(pd\u001b[38;5;241m.\u001b[39mDataFrame)\n\u001b[1;32m   1389\u001b[0m \u001b[38;5;28;01mdef\u001b[39;00m \u001b[38;5;21mapply\u001b[39m(\u001b[38;5;28mself\u001b[39m, func, axis\u001b[38;5;241m=\u001b[39m\u001b[38;5;241m0\u001b[39m, raw\u001b[38;5;241m=\u001b[39m\u001b[38;5;28;01mFalse\u001b[39;00m, result_type\u001b[38;5;241m=\u001b[39m\u001b[38;5;28;01mNone\u001b[39;00m, args\u001b[38;5;241m=\u001b[39m(), \u001b[38;5;241m*\u001b[39m\u001b[38;5;241m*\u001b[39mkwargs):\n\u001b[0;32m-> 1390\u001b[0m     result \u001b[38;5;241m=\u001b[39m \u001b[38;5;28;43msuper\u001b[39;49m\u001b[43m(\u001b[49m\u001b[43m)\u001b[49m\u001b[38;5;241;43m.\u001b[39;49m\u001b[43mapply\u001b[49m\u001b[43m(\u001b[49m\n\u001b[1;32m   1391\u001b[0m \u001b[43m        \u001b[49m\u001b[43mfunc\u001b[49m\u001b[43m,\u001b[49m\u001b[43m \u001b[49m\u001b[43maxis\u001b[49m\u001b[38;5;241;43m=\u001b[39;49m\u001b[43maxis\u001b[49m\u001b[43m,\u001b[49m\u001b[43m \u001b[49m\u001b[43mraw\u001b[49m\u001b[38;5;241;43m=\u001b[39;49m\u001b[43mraw\u001b[49m\u001b[43m,\u001b[49m\u001b[43m \u001b[49m\u001b[43mresult_type\u001b[49m\u001b[38;5;241;43m=\u001b[39;49m\u001b[43mresult_type\u001b[49m\u001b[43m,\u001b[49m\u001b[43m \u001b[49m\u001b[43margs\u001b[49m\u001b[38;5;241;43m=\u001b[39;49m\u001b[43margs\u001b[49m\u001b[43m,\u001b[49m\u001b[43m \u001b[49m\u001b[38;5;241;43m*\u001b[39;49m\u001b[38;5;241;43m*\u001b[39;49m\u001b[43mkwargs\u001b[49m\n\u001b[1;32m   1392\u001b[0m \u001b[43m    \u001b[49m\u001b[43m)\u001b[49m\n\u001b[1;32m   1393\u001b[0m     \u001b[38;5;28;01mif\u001b[39;00m (\n\u001b[1;32m   1394\u001b[0m         \u001b[38;5;28misinstance\u001b[39m(result, GeoDataFrame)\n\u001b[1;32m   1395\u001b[0m         \u001b[38;5;129;01mand\u001b[39;00m \u001b[38;5;28mself\u001b[39m\u001b[38;5;241m.\u001b[39m_geometry_column_name \u001b[38;5;129;01min\u001b[39;00m result\u001b[38;5;241m.\u001b[39mcolumns\n\u001b[1;32m   1396\u001b[0m         \u001b[38;5;129;01mand\u001b[39;00m \u001b[38;5;28misinstance\u001b[39m(result[\u001b[38;5;28mself\u001b[39m\u001b[38;5;241m.\u001b[39m_geometry_column_name]\u001b[38;5;241m.\u001b[39mdtype, GeometryDtype)\n\u001b[1;32m   1397\u001b[0m     ):\n\u001b[1;32m   1398\u001b[0m         \u001b[38;5;66;03m# apply calls _constructor which resets geom col name to geometry\u001b[39;00m\n\u001b[1;32m   1399\u001b[0m         result\u001b[38;5;241m.\u001b[39m_geometry_column_name \u001b[38;5;241m=\u001b[39m \u001b[38;5;28mself\u001b[39m\u001b[38;5;241m.\u001b[39m_geometry_column_name\n",
      "File \u001b[0;32m/opt/conda/lib/python3.9/site-packages/pandas/core/frame.py:8833\u001b[0m, in \u001b[0;36mDataFrame.apply\u001b[0;34m(self, func, axis, raw, result_type, args, **kwargs)\u001b[0m\n\u001b[1;32m   8822\u001b[0m \u001b[38;5;28;01mfrom\u001b[39;00m \u001b[38;5;21;01mpandas\u001b[39;00m\u001b[38;5;21;01m.\u001b[39;00m\u001b[38;5;21;01mcore\u001b[39;00m\u001b[38;5;21;01m.\u001b[39;00m\u001b[38;5;21;01mapply\u001b[39;00m \u001b[38;5;28;01mimport\u001b[39;00m frame_apply\n\u001b[1;32m   8824\u001b[0m op \u001b[38;5;241m=\u001b[39m frame_apply(\n\u001b[1;32m   8825\u001b[0m     \u001b[38;5;28mself\u001b[39m,\n\u001b[1;32m   8826\u001b[0m     func\u001b[38;5;241m=\u001b[39mfunc,\n\u001b[0;32m   (...)\u001b[0m\n\u001b[1;32m   8831\u001b[0m     kwargs\u001b[38;5;241m=\u001b[39mkwargs,\n\u001b[1;32m   8832\u001b[0m )\n\u001b[0;32m-> 8833\u001b[0m \u001b[38;5;28;01mreturn\u001b[39;00m \u001b[43mop\u001b[49m\u001b[38;5;241;43m.\u001b[39;49m\u001b[43mapply\u001b[49m\u001b[43m(\u001b[49m\u001b[43m)\u001b[49m\u001b[38;5;241m.\u001b[39m__finalize__(\u001b[38;5;28mself\u001b[39m, method\u001b[38;5;241m=\u001b[39m\u001b[38;5;124m\"\u001b[39m\u001b[38;5;124mapply\u001b[39m\u001b[38;5;124m\"\u001b[39m)\n",
      "File \u001b[0;32m/opt/conda/lib/python3.9/site-packages/pandas/core/apply.py:727\u001b[0m, in \u001b[0;36mFrameApply.apply\u001b[0;34m(self)\u001b[0m\n\u001b[1;32m    724\u001b[0m \u001b[38;5;28;01melif\u001b[39;00m \u001b[38;5;28mself\u001b[39m\u001b[38;5;241m.\u001b[39mraw:\n\u001b[1;32m    725\u001b[0m     \u001b[38;5;28;01mreturn\u001b[39;00m \u001b[38;5;28mself\u001b[39m\u001b[38;5;241m.\u001b[39mapply_raw()\n\u001b[0;32m--> 727\u001b[0m \u001b[38;5;28;01mreturn\u001b[39;00m \u001b[38;5;28;43mself\u001b[39;49m\u001b[38;5;241;43m.\u001b[39;49m\u001b[43mapply_standard\u001b[49m\u001b[43m(\u001b[49m\u001b[43m)\u001b[49m\n",
      "File \u001b[0;32m/opt/conda/lib/python3.9/site-packages/pandas/core/apply.py:851\u001b[0m, in \u001b[0;36mFrameApply.apply_standard\u001b[0;34m(self)\u001b[0m\n\u001b[1;32m    850\u001b[0m \u001b[38;5;28;01mdef\u001b[39;00m \u001b[38;5;21mapply_standard\u001b[39m(\u001b[38;5;28mself\u001b[39m):\n\u001b[0;32m--> 851\u001b[0m     results, res_index \u001b[38;5;241m=\u001b[39m \u001b[38;5;28;43mself\u001b[39;49m\u001b[38;5;241;43m.\u001b[39;49m\u001b[43mapply_series_generator\u001b[49m\u001b[43m(\u001b[49m\u001b[43m)\u001b[49m\n\u001b[1;32m    853\u001b[0m     \u001b[38;5;66;03m# wrap results\u001b[39;00m\n\u001b[1;32m    854\u001b[0m     \u001b[38;5;28;01mreturn\u001b[39;00m \u001b[38;5;28mself\u001b[39m\u001b[38;5;241m.\u001b[39mwrap_results(results, res_index)\n",
      "File \u001b[0;32m/opt/conda/lib/python3.9/site-packages/pandas/core/apply.py:867\u001b[0m, in \u001b[0;36mFrameApply.apply_series_generator\u001b[0;34m(self)\u001b[0m\n\u001b[1;32m    864\u001b[0m \u001b[38;5;28;01mwith\u001b[39;00m option_context(\u001b[38;5;124m\"\u001b[39m\u001b[38;5;124mmode.chained_assignment\u001b[39m\u001b[38;5;124m\"\u001b[39m, \u001b[38;5;28;01mNone\u001b[39;00m):\n\u001b[1;32m    865\u001b[0m     \u001b[38;5;28;01mfor\u001b[39;00m i, v \u001b[38;5;129;01min\u001b[39;00m \u001b[38;5;28menumerate\u001b[39m(series_gen):\n\u001b[1;32m    866\u001b[0m         \u001b[38;5;66;03m# ignore SettingWithCopy here in case the user mutates\u001b[39;00m\n\u001b[0;32m--> 867\u001b[0m         results[i] \u001b[38;5;241m=\u001b[39m \u001b[38;5;28;43mself\u001b[39;49m\u001b[38;5;241;43m.\u001b[39;49m\u001b[43mf\u001b[49m\u001b[43m(\u001b[49m\u001b[43mv\u001b[49m\u001b[43m)\u001b[49m\n\u001b[1;32m    868\u001b[0m         \u001b[38;5;28;01mif\u001b[39;00m \u001b[38;5;28misinstance\u001b[39m(results[i], ABCSeries):\n\u001b[1;32m    869\u001b[0m             \u001b[38;5;66;03m# If we have a view on v, we need to make a copy because\u001b[39;00m\n\u001b[1;32m    870\u001b[0m             \u001b[38;5;66;03m#  series_generator will swap out the underlying data\u001b[39;00m\n\u001b[1;32m    871\u001b[0m             results[i] \u001b[38;5;241m=\u001b[39m results[i]\u001b[38;5;241m.\u001b[39mcopy(deep\u001b[38;5;241m=\u001b[39m\u001b[38;5;28;01mFalse\u001b[39;00m)\n",
      "Input \u001b[0;32mIn [97]\u001b[0m, in \u001b[0;36m<lambda>\u001b[0;34m(x)\u001b[0m\n\u001b[1;32m      1\u001b[0m df \u001b[38;5;241m=\u001b[39m df\u001b[38;5;241m.\u001b[39massign(\n\u001b[1;32m      2\u001b[0m     departure_time \u001b[38;5;241m=\u001b[39m df\u001b[38;5;241m.\u001b[39mapply(\u001b[38;5;28;01mlambda\u001b[39;00m x: \n\u001b[0;32m----> 3\u001b[0m                               \u001b[43mdatetime\u001b[49m\u001b[38;5;241;43m.\u001b[39;49m\u001b[43mstrptime\u001b[49m\u001b[43m(\u001b[49m\u001b[43mx\u001b[49m\u001b[38;5;241;43m.\u001b[39;49m\u001b[43mdeparture_time\u001b[49m\u001b[43m,\u001b[49m\u001b[43m \u001b[49m\u001b[38;5;124;43m\"\u001b[39;49m\u001b[38;5;124;43m%\u001b[39;49m\u001b[38;5;124;43mH:\u001b[39;49m\u001b[38;5;124;43m%\u001b[39;49m\u001b[38;5;124;43mM:\u001b[39;49m\u001b[38;5;124;43m%\u001b[39;49m\u001b[38;5;124;43mS\u001b[39;49m\u001b[38;5;124;43m\"\u001b[39;49m\u001b[43m)\u001b[49m\u001b[38;5;241m.\u001b[39mtime(), \n\u001b[1;32m      4\u001b[0m                               axis\u001b[38;5;241m=\u001b[39m\u001b[38;5;241m1\u001b[39m)\n\u001b[1;32m      5\u001b[0m )\n",
      "File \u001b[0;32m/opt/conda/lib/python3.9/_strptime.py:568\u001b[0m, in \u001b[0;36m_strptime_datetime\u001b[0;34m(cls, data_string, format)\u001b[0m\n\u001b[1;32m    565\u001b[0m \u001b[38;5;28;01mdef\u001b[39;00m \u001b[38;5;21m_strptime_datetime\u001b[39m(\u001b[38;5;28mcls\u001b[39m, data_string, \u001b[38;5;28mformat\u001b[39m\u001b[38;5;241m=\u001b[39m\u001b[38;5;124m\"\u001b[39m\u001b[38;5;132;01m%a\u001b[39;00m\u001b[38;5;124m \u001b[39m\u001b[38;5;124m%\u001b[39m\u001b[38;5;124mb \u001b[39m\u001b[38;5;132;01m%d\u001b[39;00m\u001b[38;5;124m \u001b[39m\u001b[38;5;124m%\u001b[39m\u001b[38;5;124mH:\u001b[39m\u001b[38;5;124m%\u001b[39m\u001b[38;5;124mM:\u001b[39m\u001b[38;5;124m%\u001b[39m\u001b[38;5;124mS \u001b[39m\u001b[38;5;124m%\u001b[39m\u001b[38;5;124mY\u001b[39m\u001b[38;5;124m\"\u001b[39m):\n\u001b[1;32m    566\u001b[0m     \u001b[38;5;124;03m\"\"\"Return a class cls instance based on the input string and the\u001b[39;00m\n\u001b[1;32m    567\u001b[0m \u001b[38;5;124;03m    format string.\"\"\"\u001b[39;00m\n\u001b[0;32m--> 568\u001b[0m     tt, fraction, gmtoff_fraction \u001b[38;5;241m=\u001b[39m \u001b[43m_strptime\u001b[49m\u001b[43m(\u001b[49m\u001b[43mdata_string\u001b[49m\u001b[43m,\u001b[49m\u001b[43m \u001b[49m\u001b[38;5;28;43mformat\u001b[39;49m\u001b[43m)\u001b[49m\n\u001b[1;32m    569\u001b[0m     tzname, gmtoff \u001b[38;5;241m=\u001b[39m tt[\u001b[38;5;241m-\u001b[39m\u001b[38;5;241m2\u001b[39m:]\n\u001b[1;32m    570\u001b[0m     args \u001b[38;5;241m=\u001b[39m tt[:\u001b[38;5;241m6\u001b[39m] \u001b[38;5;241m+\u001b[39m (fraction,)\n",
      "File \u001b[0;32m/opt/conda/lib/python3.9/_strptime.py:349\u001b[0m, in \u001b[0;36m_strptime\u001b[0;34m(data_string, format)\u001b[0m\n\u001b[1;32m    347\u001b[0m found \u001b[38;5;241m=\u001b[39m format_regex\u001b[38;5;241m.\u001b[39mmatch(data_string)\n\u001b[1;32m    348\u001b[0m \u001b[38;5;28;01mif\u001b[39;00m \u001b[38;5;129;01mnot\u001b[39;00m found:\n\u001b[0;32m--> 349\u001b[0m     \u001b[38;5;28;01mraise\u001b[39;00m \u001b[38;5;167;01mValueError\u001b[39;00m(\u001b[38;5;124m\"\u001b[39m\u001b[38;5;124mtime data \u001b[39m\u001b[38;5;132;01m%r\u001b[39;00m\u001b[38;5;124m does not match format \u001b[39m\u001b[38;5;132;01m%r\u001b[39;00m\u001b[38;5;124m\"\u001b[39m \u001b[38;5;241m%\u001b[39m\n\u001b[1;32m    350\u001b[0m                      (data_string, \u001b[38;5;28mformat\u001b[39m))\n\u001b[1;32m    351\u001b[0m \u001b[38;5;28;01mif\u001b[39;00m \u001b[38;5;28mlen\u001b[39m(data_string) \u001b[38;5;241m!=\u001b[39m found\u001b[38;5;241m.\u001b[39mend():\n\u001b[1;32m    352\u001b[0m     \u001b[38;5;28;01mraise\u001b[39;00m \u001b[38;5;167;01mValueError\u001b[39;00m(\u001b[38;5;124m\"\u001b[39m\u001b[38;5;124munconverted data remains: \u001b[39m\u001b[38;5;132;01m%s\u001b[39;00m\u001b[38;5;124m\"\u001b[39m \u001b[38;5;241m%\u001b[39m\n\u001b[1;32m    353\u001b[0m                       data_string[found\u001b[38;5;241m.\u001b[39mend():])\n",
      "\u001b[0;31mValueError\u001b[0m: time data '24:00:33' does not match format '%H:%M:%S'"
     ]
    }
   ],
   "source": [
    "df = df.assign(\n",
    "    departure_time = df.apply(lambda x: \n",
    "                              datetime.strptime(x.departure_time, \"%H:%M:%S\").time(), \n",
    "                              axis=1)\n",
    ")"
   ]
  },
  {
   "cell_type": "code",
   "execution_count": 78,
   "id": "772a5865-386d-472a-a302-234a01a791a5",
   "metadata": {},
   "outputs": [
    {
     "data": {
      "text/html": [
       "<div>\n",
       "<style scoped>\n",
       "    .dataframe tbody tr th:only-of-type {\n",
       "        vertical-align: middle;\n",
       "    }\n",
       "\n",
       "    .dataframe tbody tr th {\n",
       "        vertical-align: top;\n",
       "    }\n",
       "\n",
       "    .dataframe thead th {\n",
       "        text-align: right;\n",
       "    }\n",
       "</style>\n",
       "<table border=\"1\" class=\"dataframe\">\n",
       "  <thead>\n",
       "    <tr style=\"text-align: right;\">\n",
       "      <th></th>\n",
       "      <th>calitp_itp_id</th>\n",
       "      <th>date</th>\n",
       "      <th>trip_key</th>\n",
       "      <th>trip_id</th>\n",
       "      <th>is_in_service</th>\n",
       "      <th>day_name</th>\n",
       "      <th>stop_sequence</th>\n",
       "      <th>stop_id</th>\n",
       "      <th>departure_time</th>\n",
       "      <th>shape_id</th>\n",
       "      <th>route_id</th>\n",
       "      <th>service_hours</th>\n",
       "      <th>geometry</th>\n",
       "    </tr>\n",
       "  </thead>\n",
       "  <tbody>\n",
       "    <tr>\n",
       "      <th>0</th>\n",
       "      <td>4</td>\n",
       "      <td>2022-01-06</td>\n",
       "      <td>-7505741281882708052</td>\n",
       "      <td>13277020</td>\n",
       "      <td>True</td>\n",
       "      <td>Thursday</td>\n",
       "      <td>1</td>\n",
       "      <td>4370</td>\n",
       "      <td>NaT</td>\n",
       "      <td>shp-10-10</td>\n",
       "      <td>10</td>\n",
       "      <td>0.45</td>\n",
       "      <td>POINT (-122.16020 37.72127)</td>\n",
       "    </tr>\n",
       "    <tr>\n",
       "      <th>1</th>\n",
       "      <td>4</td>\n",
       "      <td>2022-01-06</td>\n",
       "      <td>-7505741281882708052</td>\n",
       "      <td>13277020</td>\n",
       "      <td>True</td>\n",
       "      <td>Thursday</td>\n",
       "      <td>2</td>\n",
       "      <td>4318</td>\n",
       "      <td>NaT</td>\n",
       "      <td>shp-10-10</td>\n",
       "      <td>10</td>\n",
       "      <td>0.45</td>\n",
       "      <td>POINT (-122.15635 37.72287)</td>\n",
       "    </tr>\n",
       "    <tr>\n",
       "      <th>2</th>\n",
       "      <td>4</td>\n",
       "      <td>2022-01-06</td>\n",
       "      <td>-7505741281882708052</td>\n",
       "      <td>13277020</td>\n",
       "      <td>True</td>\n",
       "      <td>Thursday</td>\n",
       "      <td>3</td>\n",
       "      <td>4316</td>\n",
       "      <td>NaT</td>\n",
       "      <td>shp-10-10</td>\n",
       "      <td>10</td>\n",
       "      <td>0.45</td>\n",
       "      <td>POINT (-122.15755 37.72473)</td>\n",
       "    </tr>\n",
       "    <tr>\n",
       "      <th>3</th>\n",
       "      <td>4</td>\n",
       "      <td>2022-01-06</td>\n",
       "      <td>-7505741281882708052</td>\n",
       "      <td>13277020</td>\n",
       "      <td>True</td>\n",
       "      <td>Thursday</td>\n",
       "      <td>4</td>\n",
       "      <td>4281</td>\n",
       "      <td>NaT</td>\n",
       "      <td>shp-10-10</td>\n",
       "      <td>10</td>\n",
       "      <td>0.45</td>\n",
       "      <td>POINT (-122.15637 37.72521)</td>\n",
       "    </tr>\n",
       "    <tr>\n",
       "      <th>4</th>\n",
       "      <td>4</td>\n",
       "      <td>2022-01-06</td>\n",
       "      <td>-7505741281882708052</td>\n",
       "      <td>13277020</td>\n",
       "      <td>True</td>\n",
       "      <td>Thursday</td>\n",
       "      <td>5</td>\n",
       "      <td>4446</td>\n",
       "      <td>NaT</td>\n",
       "      <td>shp-10-10</td>\n",
       "      <td>10</td>\n",
       "      <td>0.45</td>\n",
       "      <td>POINT (-122.15411 37.72361)</td>\n",
       "    </tr>\n",
       "  </tbody>\n",
       "</table>\n",
       "</div>"
      ],
      "text/plain": [
       "   calitp_itp_id        date             trip_key   trip_id  is_in_service  \\\n",
       "0              4  2022-01-06 -7505741281882708052  13277020           True   \n",
       "1              4  2022-01-06 -7505741281882708052  13277020           True   \n",
       "2              4  2022-01-06 -7505741281882708052  13277020           True   \n",
       "3              4  2022-01-06 -7505741281882708052  13277020           True   \n",
       "4              4  2022-01-06 -7505741281882708052  13277020           True   \n",
       "\n",
       "   day_name  stop_sequence stop_id departure_time   shape_id route_id  \\\n",
       "0  Thursday              1    4370            NaT  shp-10-10       10   \n",
       "1  Thursday              2    4318            NaT  shp-10-10       10   \n",
       "2  Thursday              3    4316            NaT  shp-10-10       10   \n",
       "3  Thursday              4    4281            NaT  shp-10-10       10   \n",
       "4  Thursday              5    4446            NaT  shp-10-10       10   \n",
       "\n",
       "   service_hours                     geometry  \n",
       "0           0.45  POINT (-122.16020 37.72127)  \n",
       "1           0.45  POINT (-122.15635 37.72287)  \n",
       "2           0.45  POINT (-122.15755 37.72473)  \n",
       "3           0.45  POINT (-122.15637 37.72521)  \n",
       "4           0.45  POINT (-122.15411 37.72361)  "
      ]
     },
     "execution_count": 78,
     "metadata": {},
     "output_type": "execute_result"
    }
   ],
   "source": [
    "df"
   ]
  },
  {
   "cell_type": "code",
   "execution_count": 76,
   "id": "0d33c98f-e854-4fa9-8987-dde677e769a5",
   "metadata": {},
   "outputs": [
    {
     "ename": "AttributeError",
     "evalue": "'Series' object has no attribute 'departure_time'",
     "output_type": "error",
     "traceback": [
      "\u001b[0;31m---------------------------------------------------------------------------\u001b[0m",
      "\u001b[0;31mAttributeError\u001b[0m                            Traceback (most recent call last)",
      "Input \u001b[0;32mIn [76]\u001b[0m, in \u001b[0;36m<cell line: 1>\u001b[0;34m()\u001b[0m\n\u001b[1;32m      1\u001b[0m df\u001b[38;5;241m.\u001b[39massign(\n\u001b[0;32m----> 2\u001b[0m     trip_datetime \u001b[38;5;241m=\u001b[39m \u001b[43mdf\u001b[49m\u001b[38;5;241;43m.\u001b[39;49m\u001b[43mapply\u001b[49m\u001b[43m(\u001b[49m\u001b[38;5;28;43;01mlambda\u001b[39;49;00m\u001b[43m \u001b[49m\u001b[43mx\u001b[49m\u001b[43m:\u001b[49m\u001b[43m \u001b[49m\n\u001b[1;32m      3\u001b[0m \u001b[43m                             \u001b[49m\u001b[43mdatetime\u001b[49m\u001b[38;5;241;43m.\u001b[39;49m\u001b[43mcombine\u001b[49m\u001b[43m(\u001b[49m\u001b[43mdate\u001b[49m\u001b[43m(\u001b[49m\u001b[43myear\u001b[49m\u001b[43m,\u001b[49m\u001b[43m \u001b[49m\u001b[43mmonth\u001b[49m\u001b[43m,\u001b[49m\u001b[43m \u001b[49m\u001b[43mday\u001b[49m\u001b[43m)\u001b[49m\u001b[43m,\u001b[49m\u001b[43m \u001b[49m\u001b[43mx\u001b[49m\u001b[38;5;241;43m.\u001b[39;49m\u001b[43mdeparture_time\u001b[49m\u001b[43m)\u001b[49m\n\u001b[1;32m      4\u001b[0m \u001b[43m                            \u001b[49m\u001b[43m)\u001b[49m, axis\u001b[38;5;241m=\u001b[39m\u001b[38;5;241m1\u001b[39m)\n",
      "File \u001b[0;32m/opt/conda/lib/python3.9/site-packages/geopandas/geodataframe.py:1390\u001b[0m, in \u001b[0;36mGeoDataFrame.apply\u001b[0;34m(self, func, axis, raw, result_type, args, **kwargs)\u001b[0m\n\u001b[1;32m   1388\u001b[0m \u001b[38;5;129m@doc\u001b[39m(pd\u001b[38;5;241m.\u001b[39mDataFrame)\n\u001b[1;32m   1389\u001b[0m \u001b[38;5;28;01mdef\u001b[39;00m \u001b[38;5;21mapply\u001b[39m(\u001b[38;5;28mself\u001b[39m, func, axis\u001b[38;5;241m=\u001b[39m\u001b[38;5;241m0\u001b[39m, raw\u001b[38;5;241m=\u001b[39m\u001b[38;5;28;01mFalse\u001b[39;00m, result_type\u001b[38;5;241m=\u001b[39m\u001b[38;5;28;01mNone\u001b[39;00m, args\u001b[38;5;241m=\u001b[39m(), \u001b[38;5;241m*\u001b[39m\u001b[38;5;241m*\u001b[39mkwargs):\n\u001b[0;32m-> 1390\u001b[0m     result \u001b[38;5;241m=\u001b[39m \u001b[38;5;28;43msuper\u001b[39;49m\u001b[43m(\u001b[49m\u001b[43m)\u001b[49m\u001b[38;5;241;43m.\u001b[39;49m\u001b[43mapply\u001b[49m\u001b[43m(\u001b[49m\n\u001b[1;32m   1391\u001b[0m \u001b[43m        \u001b[49m\u001b[43mfunc\u001b[49m\u001b[43m,\u001b[49m\u001b[43m \u001b[49m\u001b[43maxis\u001b[49m\u001b[38;5;241;43m=\u001b[39;49m\u001b[43maxis\u001b[49m\u001b[43m,\u001b[49m\u001b[43m \u001b[49m\u001b[43mraw\u001b[49m\u001b[38;5;241;43m=\u001b[39;49m\u001b[43mraw\u001b[49m\u001b[43m,\u001b[49m\u001b[43m \u001b[49m\u001b[43mresult_type\u001b[49m\u001b[38;5;241;43m=\u001b[39;49m\u001b[43mresult_type\u001b[49m\u001b[43m,\u001b[49m\u001b[43m \u001b[49m\u001b[43margs\u001b[49m\u001b[38;5;241;43m=\u001b[39;49m\u001b[43margs\u001b[49m\u001b[43m,\u001b[49m\u001b[43m \u001b[49m\u001b[38;5;241;43m*\u001b[39;49m\u001b[38;5;241;43m*\u001b[39;49m\u001b[43mkwargs\u001b[49m\n\u001b[1;32m   1392\u001b[0m \u001b[43m    \u001b[49m\u001b[43m)\u001b[49m\n\u001b[1;32m   1393\u001b[0m     \u001b[38;5;28;01mif\u001b[39;00m (\n\u001b[1;32m   1394\u001b[0m         \u001b[38;5;28misinstance\u001b[39m(result, GeoDataFrame)\n\u001b[1;32m   1395\u001b[0m         \u001b[38;5;129;01mand\u001b[39;00m \u001b[38;5;28mself\u001b[39m\u001b[38;5;241m.\u001b[39m_geometry_column_name \u001b[38;5;129;01min\u001b[39;00m result\u001b[38;5;241m.\u001b[39mcolumns\n\u001b[1;32m   1396\u001b[0m         \u001b[38;5;129;01mand\u001b[39;00m \u001b[38;5;28misinstance\u001b[39m(result[\u001b[38;5;28mself\u001b[39m\u001b[38;5;241m.\u001b[39m_geometry_column_name]\u001b[38;5;241m.\u001b[39mdtype, GeometryDtype)\n\u001b[1;32m   1397\u001b[0m     ):\n\u001b[1;32m   1398\u001b[0m         \u001b[38;5;66;03m# apply calls _constructor which resets geom col name to geometry\u001b[39;00m\n\u001b[1;32m   1399\u001b[0m         result\u001b[38;5;241m.\u001b[39m_geometry_column_name \u001b[38;5;241m=\u001b[39m \u001b[38;5;28mself\u001b[39m\u001b[38;5;241m.\u001b[39m_geometry_column_name\n",
      "File \u001b[0;32m/opt/conda/lib/python3.9/site-packages/pandas/core/frame.py:8833\u001b[0m, in \u001b[0;36mDataFrame.apply\u001b[0;34m(self, func, axis, raw, result_type, args, **kwargs)\u001b[0m\n\u001b[1;32m   8822\u001b[0m \u001b[38;5;28;01mfrom\u001b[39;00m \u001b[38;5;21;01mpandas\u001b[39;00m\u001b[38;5;21;01m.\u001b[39;00m\u001b[38;5;21;01mcore\u001b[39;00m\u001b[38;5;21;01m.\u001b[39;00m\u001b[38;5;21;01mapply\u001b[39;00m \u001b[38;5;28;01mimport\u001b[39;00m frame_apply\n\u001b[1;32m   8824\u001b[0m op \u001b[38;5;241m=\u001b[39m frame_apply(\n\u001b[1;32m   8825\u001b[0m     \u001b[38;5;28mself\u001b[39m,\n\u001b[1;32m   8826\u001b[0m     func\u001b[38;5;241m=\u001b[39mfunc,\n\u001b[0;32m   (...)\u001b[0m\n\u001b[1;32m   8831\u001b[0m     kwargs\u001b[38;5;241m=\u001b[39mkwargs,\n\u001b[1;32m   8832\u001b[0m )\n\u001b[0;32m-> 8833\u001b[0m \u001b[38;5;28;01mreturn\u001b[39;00m \u001b[43mop\u001b[49m\u001b[38;5;241;43m.\u001b[39;49m\u001b[43mapply\u001b[49m\u001b[43m(\u001b[49m\u001b[43m)\u001b[49m\u001b[38;5;241m.\u001b[39m__finalize__(\u001b[38;5;28mself\u001b[39m, method\u001b[38;5;241m=\u001b[39m\u001b[38;5;124m\"\u001b[39m\u001b[38;5;124mapply\u001b[39m\u001b[38;5;124m\"\u001b[39m)\n",
      "File \u001b[0;32m/opt/conda/lib/python3.9/site-packages/pandas/core/apply.py:727\u001b[0m, in \u001b[0;36mFrameApply.apply\u001b[0;34m(self)\u001b[0m\n\u001b[1;32m    724\u001b[0m \u001b[38;5;28;01melif\u001b[39;00m \u001b[38;5;28mself\u001b[39m\u001b[38;5;241m.\u001b[39mraw:\n\u001b[1;32m    725\u001b[0m     \u001b[38;5;28;01mreturn\u001b[39;00m \u001b[38;5;28mself\u001b[39m\u001b[38;5;241m.\u001b[39mapply_raw()\n\u001b[0;32m--> 727\u001b[0m \u001b[38;5;28;01mreturn\u001b[39;00m \u001b[38;5;28;43mself\u001b[39;49m\u001b[38;5;241;43m.\u001b[39;49m\u001b[43mapply_standard\u001b[49m\u001b[43m(\u001b[49m\u001b[43m)\u001b[49m\n",
      "File \u001b[0;32m/opt/conda/lib/python3.9/site-packages/pandas/core/apply.py:851\u001b[0m, in \u001b[0;36mFrameApply.apply_standard\u001b[0;34m(self)\u001b[0m\n\u001b[1;32m    850\u001b[0m \u001b[38;5;28;01mdef\u001b[39;00m \u001b[38;5;21mapply_standard\u001b[39m(\u001b[38;5;28mself\u001b[39m):\n\u001b[0;32m--> 851\u001b[0m     results, res_index \u001b[38;5;241m=\u001b[39m \u001b[38;5;28;43mself\u001b[39;49m\u001b[38;5;241;43m.\u001b[39;49m\u001b[43mapply_series_generator\u001b[49m\u001b[43m(\u001b[49m\u001b[43m)\u001b[49m\n\u001b[1;32m    853\u001b[0m     \u001b[38;5;66;03m# wrap results\u001b[39;00m\n\u001b[1;32m    854\u001b[0m     \u001b[38;5;28;01mreturn\u001b[39;00m \u001b[38;5;28mself\u001b[39m\u001b[38;5;241m.\u001b[39mwrap_results(results, res_index)\n",
      "File \u001b[0;32m/opt/conda/lib/python3.9/site-packages/pandas/core/apply.py:867\u001b[0m, in \u001b[0;36mFrameApply.apply_series_generator\u001b[0;34m(self)\u001b[0m\n\u001b[1;32m    864\u001b[0m \u001b[38;5;28;01mwith\u001b[39;00m option_context(\u001b[38;5;124m\"\u001b[39m\u001b[38;5;124mmode.chained_assignment\u001b[39m\u001b[38;5;124m\"\u001b[39m, \u001b[38;5;28;01mNone\u001b[39;00m):\n\u001b[1;32m    865\u001b[0m     \u001b[38;5;28;01mfor\u001b[39;00m i, v \u001b[38;5;129;01min\u001b[39;00m \u001b[38;5;28menumerate\u001b[39m(series_gen):\n\u001b[1;32m    866\u001b[0m         \u001b[38;5;66;03m# ignore SettingWithCopy here in case the user mutates\u001b[39;00m\n\u001b[0;32m--> 867\u001b[0m         results[i] \u001b[38;5;241m=\u001b[39m \u001b[38;5;28;43mself\u001b[39;49m\u001b[38;5;241;43m.\u001b[39;49m\u001b[43mf\u001b[49m\u001b[43m(\u001b[49m\u001b[43mv\u001b[49m\u001b[43m)\u001b[49m\n\u001b[1;32m    868\u001b[0m         \u001b[38;5;28;01mif\u001b[39;00m \u001b[38;5;28misinstance\u001b[39m(results[i], ABCSeries):\n\u001b[1;32m    869\u001b[0m             \u001b[38;5;66;03m# If we have a view on v, we need to make a copy because\u001b[39;00m\n\u001b[1;32m    870\u001b[0m             \u001b[38;5;66;03m#  series_generator will swap out the underlying data\u001b[39;00m\n\u001b[1;32m    871\u001b[0m             results[i] \u001b[38;5;241m=\u001b[39m results[i]\u001b[38;5;241m.\u001b[39mcopy(deep\u001b[38;5;241m=\u001b[39m\u001b[38;5;28;01mFalse\u001b[39;00m)\n",
      "Input \u001b[0;32mIn [76]\u001b[0m, in \u001b[0;36m<lambda>\u001b[0;34m(x)\u001b[0m\n\u001b[1;32m      1\u001b[0m df\u001b[38;5;241m.\u001b[39massign(\n\u001b[1;32m      2\u001b[0m     trip_datetime \u001b[38;5;241m=\u001b[39m df\u001b[38;5;241m.\u001b[39mapply(\u001b[38;5;28;01mlambda\u001b[39;00m x: \n\u001b[0;32m----> 3\u001b[0m                              datetime\u001b[38;5;241m.\u001b[39mcombine(date(year, month, day), \u001b[43mx\u001b[49m\u001b[38;5;241;43m.\u001b[39;49m\u001b[43mdeparture_time\u001b[49m)\n\u001b[1;32m      4\u001b[0m                             ), axis\u001b[38;5;241m=\u001b[39m\u001b[38;5;241m1\u001b[39m)\n",
      "File \u001b[0;32m/opt/conda/lib/python3.9/site-packages/pandas/core/generic.py:5583\u001b[0m, in \u001b[0;36mNDFrame.__getattr__\u001b[0;34m(self, name)\u001b[0m\n\u001b[1;32m   5576\u001b[0m \u001b[38;5;28;01mif\u001b[39;00m (\n\u001b[1;32m   5577\u001b[0m     name \u001b[38;5;129;01mnot\u001b[39;00m \u001b[38;5;129;01min\u001b[39;00m \u001b[38;5;28mself\u001b[39m\u001b[38;5;241m.\u001b[39m_internal_names_set\n\u001b[1;32m   5578\u001b[0m     \u001b[38;5;129;01mand\u001b[39;00m name \u001b[38;5;129;01mnot\u001b[39;00m \u001b[38;5;129;01min\u001b[39;00m \u001b[38;5;28mself\u001b[39m\u001b[38;5;241m.\u001b[39m_metadata\n\u001b[1;32m   5579\u001b[0m     \u001b[38;5;129;01mand\u001b[39;00m name \u001b[38;5;129;01mnot\u001b[39;00m \u001b[38;5;129;01min\u001b[39;00m \u001b[38;5;28mself\u001b[39m\u001b[38;5;241m.\u001b[39m_accessors\n\u001b[1;32m   5580\u001b[0m     \u001b[38;5;129;01mand\u001b[39;00m \u001b[38;5;28mself\u001b[39m\u001b[38;5;241m.\u001b[39m_info_axis\u001b[38;5;241m.\u001b[39m_can_hold_identifiers_and_holds_name(name)\n\u001b[1;32m   5581\u001b[0m ):\n\u001b[1;32m   5582\u001b[0m     \u001b[38;5;28;01mreturn\u001b[39;00m \u001b[38;5;28mself\u001b[39m[name]\n\u001b[0;32m-> 5583\u001b[0m \u001b[38;5;28;01mreturn\u001b[39;00m \u001b[38;5;28;43mobject\u001b[39;49m\u001b[38;5;241;43m.\u001b[39;49m\u001b[38;5;21;43m__getattribute__\u001b[39;49m\u001b[43m(\u001b[49m\u001b[38;5;28;43mself\u001b[39;49m\u001b[43m,\u001b[49m\u001b[43m \u001b[49m\u001b[43mname\u001b[49m\u001b[43m)\u001b[49m\n",
      "\u001b[0;31mAttributeError\u001b[0m: 'Series' object has no attribute 'departure_time'"
     ]
    }
   ],
   "source": [
    "df.assign(\n",
    "    trip_datetime = df.apply(lambda x: \n",
    "                             datetime.combine(date(year, month, day), x.departure_time)\n",
    "                            ), axis=1)\n"
   ]
  },
  {
   "cell_type": "code",
   "execution_count": 60,
   "id": "364c6e1a-a2ce-4c7b-ab1e-0b3229d9a7fb",
   "metadata": {},
   "outputs": [
    {
     "data": {
      "text/plain": [
       "datetime.datetime(2022, 1, 6, 6, 41)"
      ]
     },
     "execution_count": 60,
     "metadata": {},
     "output_type": "execute_result"
    }
   ],
   "source": [
    "datetime.combine(date(year, month, day), df.trip_departure[0])"
   ]
  },
  {
   "cell_type": "code",
   "execution_count": 39,
   "id": "db9ffed1-50cb-454a-84ec-95f4078252d1",
   "metadata": {},
   "outputs": [
    {
     "ename": "TypeError",
     "evalue": "descriptor 'strftime' for 'datetime.date' objects doesn't apply to a 'str' object",
     "output_type": "error",
     "traceback": [
      "\u001b[0;31m---------------------------------------------------------------------------\u001b[0m",
      "\u001b[0;31mTypeError\u001b[0m                                 Traceback (most recent call last)",
      "Input \u001b[0;32mIn [39]\u001b[0m, in \u001b[0;36m<cell line: 1>\u001b[0;34m()\u001b[0m\n\u001b[0;32m----> 1\u001b[0m \u001b[43mdate\u001b[49m\u001b[38;5;241;43m.\u001b[39;49m\u001b[43mstrftime\u001b[49m\u001b[43m(\u001b[49m\u001b[43mSELECTED_DATE\u001b[49m\u001b[43m,\u001b[49m\u001b[43m \u001b[49m\u001b[38;5;28;43mformat\u001b[39;49m\u001b[38;5;241;43m=\u001b[39;49m\u001b[38;5;124;43m\"\u001b[39;49m\u001b[38;5;124;43m%\u001b[39;49m\u001b[38;5;124;43mY \u001b[39;49m\u001b[38;5;124;43m%\u001b[39;49m\u001b[38;5;124;43mb \u001b[39;49m\u001b[38;5;132;43;01m%d\u001b[39;49;00m\u001b[38;5;124;43m\"\u001b[39;49m\u001b[43m)\u001b[49m\n",
      "\u001b[0;31mTypeError\u001b[0m: descriptor 'strftime' for 'datetime.date' objects doesn't apply to a 'str' object"
     ]
    }
   ],
   "source": [
    "date.strftime(SELECTED_DATE, format=\"%Y %b %d\")"
   ]
  },
  {
   "cell_type": "code",
   "execution_count": 37,
   "id": "f64605c6-9f5a-46f2-b4fd-2ec600506a7d",
   "metadata": {},
   "outputs": [],
   "source": [
    "from datetime import date"
   ]
  },
  {
   "cell_type": "code",
   "execution_count": 4,
   "id": "5c6b7d37-e81f-4cf9-a52f-5ad750194ba9",
   "metadata": {},
   "outputs": [],
   "source": [
    "df = catalog.parallel_trips_with_stops.read()\n",
    "\n",
    "df = data_wrangling(df)"
   ]
  },
  {
   "cell_type": "markdown",
   "id": "9cd070fd-a574-4aaf-b09d-887c33295cfe",
   "metadata": {},
   "source": [
    "every 3rd \n",
    "\n",
    "* origin = 1\n",
    "* destination >= 77 & destination <= 79\n",
    "* divisible by 3, remainder 1\n",
    "* 4, 7, 10, 13, 16, \n",
    "* 19, 22, 25, 28, 31\n",
    "* 34, 37, 40, 43, 46,\n",
    "* 49, 52, 55, 58, 61,\n",
    "* 64, 67, 70, 73, 76,\n",
    "\n",
    "every 4th\n",
    "* origin = 1\n",
    "* destination >= 79 & destination <= 105\n",
    "* divisible by 4, remainder 1\n",
    "* 5, 9, 13, 17, 21,\n",
    "* 25, 29, 33, 37, 41, \n",
    "* 45, 49, 53, 57, 61\n",
    "* 65, 69, 73, 77, 81,\n",
    "* 85, 89, 93, 97, 101\n",
    "\n",
    "every 5th\n",
    "* origin = 1\n",
    "* destination >= 126 & destination <= 131\n",
    "* divisible by 5, remainder 1\n",
    "* 6, 11, 16, 21, 26,\n",
    "* 31, 36, 41, 46, 51,\n",
    "* 56, 61, 66, 71, 76,\n",
    "* 81, 86, 91, 96, 101,\n",
    "* 106, 111, 116, 121, 126"
   ]
  },
  {
   "cell_type": "code",
   "execution_count": 5,
   "id": "9969fea4-a915-477e-b888-ad4aeaaaf46b",
   "metadata": {},
   "outputs": [],
   "source": [
    "# (x - first_waypoint_rank) / divisible_by) + 1 = 25\n",
    "# 25 waypoints in the middle, then allow origin and destination to bookend it\n",
    "# origin = stop1\n",
    "# destination is >= last_waypoint_rank & <= last_waypoint_rank + divisible_by\n",
    "# can allow destination to be last_waypoint_rank\n",
    "\n",
    "def last_waypoint_rank(divisible_by):\n",
    "    first = 1\n",
    "    first_waypoint = first + divisible_by\n",
    "    # (x- first_waypoint) / divisible_by) + 1 = 25\n",
    "    # Solve for x\n",
    "    x = (divisible_by * 24) + first_waypoint\n",
    "    return x, x+divisible_by"
   ]
  },
  {
   "cell_type": "code",
   "execution_count": 6,
   "id": "f2a1dacc-a8a2-4e3f-a6bf-47384fa29b6b",
   "metadata": {},
   "outputs": [],
   "source": [
    "trip_group = [\"calitp_itp_id\", \"route_id\", \"trip_id\", \"shape_id\"]\n",
    "\n",
    "def subset_stops(df):\n",
    "    # https://stackoverflow.com/questions/25055712/pandas-every-nth-row\n",
    "    # df = df.iloc[::3]\n",
    "    df[\"stop_rank\"] = df.groupby(trip_group).cumcount() + 1\n",
    "    df[\"max_stop\"] = df.groupby(trip_group)[\"stop_rank\"].transform(\"max\")\n",
    "    \n",
    "    # every 3rd for shorter routes\n",
    "    # every 4th, 5th for longer ones...stay under 25 waypoints\n",
    "    every_third, dest3_max = last_waypoint_rank(divisible_by=3)\n",
    "    every_fourth, dest4_max = last_waypoint_rank(divisible_by=4)\n",
    "    every_fifth, dest5_max = last_waypoint_rank(divisible_by=5)\n",
    "    # Do we want to go beyond every 5th? Maybe need to investigate \n",
    "    \n",
    "    def tag_waypoints(row):\n",
    "        flag = 0\n",
    "        if row.max_stop <= dest3_max:\n",
    "            # Want remainder of 1, because if we are keeping stop 1, then 3rd stop is stop 4.\n",
    "            if row.stop_rank % 3 == 1:\n",
    "                flag=1\n",
    "        elif (row.max_stop > dest3_max) and (row.max_stop <= dest4_max):\n",
    "            if row.stop_rank % 4 == 1:\n",
    "                flag = 1\n",
    "        elif (row.max_stop > dest4_max) and (row.max_stop <= dest5_max):\n",
    "            if row.stop_rank % 5 == 1:\n",
    "                flag = 1\n",
    "        return flag\n",
    "\n",
    "    df[\"is_waypoint\"] = df.apply(tag_waypoints, axis=1)\n",
    "    df[\"is_od\"] = df.apply(lambda x: \n",
    "                           1 if ((x.stop_rank==1) or (x.stop_rank==x.max_stop))\n",
    "                           else 0, axis=1)\n",
    "                           \n",
    "    # Can have up to 25 waypoints to not be charged\n",
    "    # we also have origin and destination\n",
    "    subset = (df[(df.is_waypoint==1) | \n",
    "                (df.is_od==1) \n",
    "               ].drop(columns = [\"stop_rank\", \"max_stop\"])\n",
    "              .reset_index(drop=True)\n",
    "             )\n",
    "    \n",
    "    return subset"
   ]
  },
  {
   "cell_type": "code",
   "execution_count": 7,
   "id": "38ba0511-d8ed-464f-907f-f16bd2f86671",
   "metadata": {},
   "outputs": [],
   "source": [
    "subset = subset_stops(df)"
   ]
  },
  {
   "cell_type": "code",
   "execution_count": 8,
   "id": "4502f221-6d43-400c-98ca-d4712d9a0316",
   "metadata": {},
   "outputs": [],
   "source": [
    "# Selecting 2 trips\n",
    "keep_trips = [\n",
    "    -7505741281882708052,\n",
    "    -8806955513757008482 \n",
    "]\n",
    "\n",
    "subset = subset[subset.trip_key.isin(keep_trips)].reset_index(drop=True)"
   ]
  },
  {
   "cell_type": "code",
   "execution_count": null,
   "id": "63e58a89-5017-486a-b233-725e0bebf9bf",
   "metadata": {},
   "outputs": [],
   "source": [
    "# if there are any keys that don't have duration_in_traffic, throw an error and it's not getting what we expect\n"
   ]
  },
  {
   "cell_type": "code",
   "execution_count": null,
   "id": "e61f39ea-7fff-4daf-9683-59dc13c84314",
   "metadata": {},
   "outputs": [],
   "source": [
    "# if it feels too slow, parallelize this in some way\n",
    "# async io it!\n",
    "# functools cache?\n",
    "# write a function, take beginning, end, waypoints, departure time, and have that\n",
    "# function reference the map's call"
   ]
  },
  {
   "cell_type": "code",
   "execution_count": 13,
   "id": "4e8f868f-7c47-487e-91a3-ace44e76fd5c",
   "metadata": {},
   "outputs": [],
   "source": [
    "def select_origin_destination(df):\n",
    "    df = df[df.is_od==1].reset_index(drop=True)\n",
    "    \n",
    "    # Wrangle it so there are columns with previous point and current point in the same row\n",
    "    df = df.assign(\n",
    "        previous = (df.sort_values(trip_group + [\"stop_sequence\"])\n",
    "                        .groupby(trip_group)[\"geometry\"]\n",
    "                        .apply(lambda x: x.shift(1))\n",
    "                       ),\n",
    "    )\n",
    "    \n",
    "    # Only keep the observation that has start_geom (drop the first obs for each trip grouping)\n",
    "    df2 = (df[df.previous.notna()]\n",
    "           [trip_group + [\"departure_time\", \"geometry\", \"previous\"]]\n",
    "           .reset_index(drop=True)\n",
    "           .rename(columns = {\"geometry\": \"destination\", \n",
    "                              \"previous\": \"origin\"})\n",
    "          )\n",
    "    \n",
    "    return df2"
   ]
  },
  {
   "cell_type": "code",
   "execution_count": 14,
   "id": "9e5b00a3-0ce5-404a-a56a-a2b57e6d5ec0",
   "metadata": {},
   "outputs": [
    {
     "data": {
      "text/html": [
       "<div>\n",
       "<style scoped>\n",
       "    .dataframe tbody tr th:only-of-type {\n",
       "        vertical-align: middle;\n",
       "    }\n",
       "\n",
       "    .dataframe tbody tr th {\n",
       "        vertical-align: top;\n",
       "    }\n",
       "\n",
       "    .dataframe thead th {\n",
       "        text-align: right;\n",
       "    }\n",
       "</style>\n",
       "<table border=\"1\" class=\"dataframe\">\n",
       "  <thead>\n",
       "    <tr style=\"text-align: right;\">\n",
       "      <th></th>\n",
       "      <th>calitp_itp_id</th>\n",
       "      <th>route_id</th>\n",
       "      <th>trip_id</th>\n",
       "      <th>shape_id</th>\n",
       "      <th>departure_time</th>\n",
       "      <th>destination</th>\n",
       "      <th>origin</th>\n",
       "    </tr>\n",
       "  </thead>\n",
       "  <tbody>\n",
       "    <tr>\n",
       "      <th>0</th>\n",
       "      <td>4</td>\n",
       "      <td>10</td>\n",
       "      <td>13277020</td>\n",
       "      <td>shp-10-10</td>\n",
       "      <td>07:08:00</td>\n",
       "      <td>(37.670239, -122.08718)</td>\n",
       "      <td>(37.721266, -122.160201)</td>\n",
       "    </tr>\n",
       "    <tr>\n",
       "      <th>1</th>\n",
       "      <td>182</td>\n",
       "      <td>910-13153</td>\n",
       "      <td>10910002100513-DEC21</td>\n",
       "      <td>9100210_DEC21</td>\n",
       "      <td>06:02:00</td>\n",
       "      <td>(33.869338, -118.287306)</td>\n",
       "      <td>(34.072191, -118.045132)</td>\n",
       "    </tr>\n",
       "  </tbody>\n",
       "</table>\n",
       "</div>"
      ],
      "text/plain": [
       "   calitp_itp_id   route_id               trip_id       shape_id  \\\n",
       "0              4         10              13277020      shp-10-10   \n",
       "1            182  910-13153  10910002100513-DEC21  9100210_DEC21   \n",
       "\n",
       "  departure_time               destination                    origin  \n",
       "0       07:08:00   (37.670239, -122.08718)  (37.721266, -122.160201)  \n",
       "1       06:02:00  (33.869338, -118.287306)  (34.072191, -118.045132)  "
      ]
     },
     "execution_count": 14,
     "metadata": {},
     "output_type": "execute_result"
    }
   ],
   "source": [
    "od = select_origin_destination(subset)\n",
    "od"
   ]
  },
  {
   "cell_type": "code",
   "execution_count": 15,
   "id": "f4457c26-91d0-4562-8081-1c93729a3d85",
   "metadata": {},
   "outputs": [],
   "source": [
    "# Try googlemaps.directions(), which allows for waypoints put in as an array\n",
    "def assemble_waypoints(df):\n",
    "    df = df[(df.is_waypoint==1) & (df.is_od==0)].reset_index(drop=True)\n",
    "    \n",
    "    # Take all the stops in between origin/destination, put tuples into a list\n",
    "    #https://stackoverflow.com/questions/22219004/how-to-group-dataframe-rows-into-list-in-pandas-groupby\n",
    "    waypoint_df = (\n",
    "        df.sort_values(trip_group + [\"stop_sequence\"])\n",
    "        .groupby(trip_group)\n",
    "        .agg({\"geometry\": lambda x: list(x)})\n",
    "        .reset_index()\n",
    "        .rename(columns = {\"geometry\": \"waypoints\"})\n",
    "    )\n",
    "    \n",
    "    return waypoint_df"
   ]
  },
  {
   "cell_type": "code",
   "execution_count": 16,
   "id": "2d427fe2-4a43-4fb8-8b2d-743f12bb8bd1",
   "metadata": {},
   "outputs": [
    {
     "data": {
      "text/html": [
       "<div>\n",
       "<style scoped>\n",
       "    .dataframe tbody tr th:only-of-type {\n",
       "        vertical-align: middle;\n",
       "    }\n",
       "\n",
       "    .dataframe tbody tr th {\n",
       "        vertical-align: top;\n",
       "    }\n",
       "\n",
       "    .dataframe thead th {\n",
       "        text-align: right;\n",
       "    }\n",
       "</style>\n",
       "<table border=\"1\" class=\"dataframe\">\n",
       "  <thead>\n",
       "    <tr style=\"text-align: right;\">\n",
       "      <th></th>\n",
       "      <th>calitp_itp_id</th>\n",
       "      <th>route_id</th>\n",
       "      <th>trip_id</th>\n",
       "      <th>shape_id</th>\n",
       "      <th>waypoints</th>\n",
       "    </tr>\n",
       "  </thead>\n",
       "  <tbody>\n",
       "    <tr>\n",
       "      <th>0</th>\n",
       "      <td>4</td>\n",
       "      <td>10</td>\n",
       "      <td>13277020</td>\n",
       "      <td>shp-10-10</td>\n",
       "      <td>[(37.72521, -122.156367), (37.720677, -122.150...</td>\n",
       "    </tr>\n",
       "    <tr>\n",
       "      <th>1</th>\n",
       "      <td>182</td>\n",
       "      <td>910-13153</td>\n",
       "      <td>10910002100513-DEC21</td>\n",
       "      <td>9100210_DEC21</td>\n",
       "      <td>[(34.053943, -118.232454), (34.054622, -118.24...</td>\n",
       "    </tr>\n",
       "  </tbody>\n",
       "</table>\n",
       "</div>"
      ],
      "text/plain": [
       "   calitp_itp_id   route_id               trip_id       shape_id  \\\n",
       "0              4         10              13277020      shp-10-10   \n",
       "1            182  910-13153  10910002100513-DEC21  9100210_DEC21   \n",
       "\n",
       "                                           waypoints  \n",
       "0  [(37.72521, -122.156367), (37.720677, -122.150...  \n",
       "1  [(34.053943, -118.232454), (34.054622, -118.24...  "
      ]
     },
     "execution_count": 16,
     "metadata": {},
     "output_type": "execute_result"
    }
   ],
   "source": [
    "waypoints_by_trip = assemble_waypoints(subset)\n",
    "waypoints_by_trip"
   ]
  },
  {
   "cell_type": "code",
   "execution_count": 17,
   "id": "9e79a45b-9719-435f-9268-1acba2f36f69",
   "metadata": {},
   "outputs": [
    {
     "data": {
      "text/html": [
       "<div>\n",
       "<style scoped>\n",
       "    .dataframe tbody tr th:only-of-type {\n",
       "        vertical-align: middle;\n",
       "    }\n",
       "\n",
       "    .dataframe tbody tr th {\n",
       "        vertical-align: top;\n",
       "    }\n",
       "\n",
       "    .dataframe thead th {\n",
       "        text-align: right;\n",
       "    }\n",
       "</style>\n",
       "<table border=\"1\" class=\"dataframe\">\n",
       "  <thead>\n",
       "    <tr style=\"text-align: right;\">\n",
       "      <th></th>\n",
       "      <th>calitp_itp_id</th>\n",
       "      <th>route_id</th>\n",
       "      <th>trip_id</th>\n",
       "      <th>shape_id</th>\n",
       "      <th>departure_time</th>\n",
       "      <th>destination</th>\n",
       "      <th>origin</th>\n",
       "      <th>waypoints</th>\n",
       "    </tr>\n",
       "  </thead>\n",
       "  <tbody>\n",
       "    <tr>\n",
       "      <th>0</th>\n",
       "      <td>4</td>\n",
       "      <td>10</td>\n",
       "      <td>13277020</td>\n",
       "      <td>shp-10-10</td>\n",
       "      <td>07:08:00</td>\n",
       "      <td>(37.670239, -122.08718)</td>\n",
       "      <td>(37.721266, -122.160201)</td>\n",
       "      <td>[(37.72521, -122.156367), (37.720677, -122.150...</td>\n",
       "    </tr>\n",
       "    <tr>\n",
       "      <th>1</th>\n",
       "      <td>182</td>\n",
       "      <td>910-13153</td>\n",
       "      <td>10910002100513-DEC21</td>\n",
       "      <td>9100210_DEC21</td>\n",
       "      <td>06:02:00</td>\n",
       "      <td>(33.869338, -118.287306)</td>\n",
       "      <td>(34.072191, -118.045132)</td>\n",
       "      <td>[(34.053943, -118.232454), (34.054622, -118.24...</td>\n",
       "    </tr>\n",
       "  </tbody>\n",
       "</table>\n",
       "</div>"
      ],
      "text/plain": [
       "   calitp_itp_id   route_id               trip_id       shape_id  \\\n",
       "0              4         10              13277020      shp-10-10   \n",
       "1            182  910-13153  10910002100513-DEC21  9100210_DEC21   \n",
       "\n",
       "  departure_time               destination                    origin  \\\n",
       "0       07:08:00   (37.670239, -122.08718)  (37.721266, -122.160201)   \n",
       "1       06:02:00  (33.869338, -118.287306)  (34.072191, -118.045132)   \n",
       "\n",
       "                                           waypoints  \n",
       "0  [(37.72521, -122.156367), (37.720677, -122.150...  \n",
       "1  [(34.053943, -118.232454), (34.054622, -118.24...  "
      ]
     },
     "execution_count": 17,
     "metadata": {},
     "output_type": "execute_result"
    }
   ],
   "source": [
    "final = pd.merge(od, waypoints_by_trip, \n",
    "                 on = trip_group, how = \"inner\", validate = \"1:1\"\n",
    "                )\n",
    "\n",
    "final.head()"
   ]
  },
  {
   "cell_type": "code",
   "execution_count": null,
   "id": "20c7f00f-3d08-4d70-9dd4-fce162c4d781",
   "metadata": {},
   "outputs": [],
   "source": [
    "#https://www.geeksforgeeks.org/python-calculate-distance-duration-two-places-using-google-distance-matrix-api/"
   ]
  },
  {
   "cell_type": "code",
   "execution_count": null,
   "id": "c4d3c969-5458-48ae-be9c-193d1c700184",
   "metadata": {},
   "outputs": [],
   "source": [
    "gmaps = googlemaps.Client(key=GOOGLE_API_KEY)"
   ]
  },
  {
   "cell_type": "code",
   "execution_count": null,
   "id": "2d924d68-f894-41ae-9da7-b364d7ba747e",
   "metadata": {},
   "outputs": [],
   "source": [
    "one_year_later = (datetime.now() + timedelta(weeks=52))"
   ]
  },
  {
   "cell_type": "code",
   "execution_count": 20,
   "id": "cf6be997-0f5a-450f-88c6-6ba9c5d7ab90",
   "metadata": {},
   "outputs": [
    {
     "data": {
      "text/html": [
       "<div>\n",
       "<style scoped>\n",
       "    .dataframe tbody tr th:only-of-type {\n",
       "        vertical-align: middle;\n",
       "    }\n",
       "\n",
       "    .dataframe tbody tr th {\n",
       "        vertical-align: top;\n",
       "    }\n",
       "\n",
       "    .dataframe thead th {\n",
       "        text-align: right;\n",
       "    }\n",
       "</style>\n",
       "<table border=\"1\" class=\"dataframe\">\n",
       "  <thead>\n",
       "    <tr style=\"text-align: right;\">\n",
       "      <th></th>\n",
       "      <th>calitp_itp_id</th>\n",
       "      <th>route_id</th>\n",
       "      <th>trip_id</th>\n",
       "      <th>shape_id</th>\n",
       "      <th>departure_time</th>\n",
       "      <th>destination</th>\n",
       "      <th>origin</th>\n",
       "      <th>waypoints</th>\n",
       "    </tr>\n",
       "  </thead>\n",
       "  <tbody>\n",
       "    <tr>\n",
       "      <th>0</th>\n",
       "      <td>4</td>\n",
       "      <td>10</td>\n",
       "      <td>13277020</td>\n",
       "      <td>shp-10-10</td>\n",
       "      <td>07:08:00</td>\n",
       "      <td>(37.670239, -122.08718)</td>\n",
       "      <td>(37.721266, -122.160201)</td>\n",
       "      <td>[(37.72521, -122.156367), (37.720677, -122.150...</td>\n",
       "    </tr>\n",
       "    <tr>\n",
       "      <th>1</th>\n",
       "      <td>182</td>\n",
       "      <td>910-13153</td>\n",
       "      <td>10910002100513-DEC21</td>\n",
       "      <td>9100210_DEC21</td>\n",
       "      <td>06:02:00</td>\n",
       "      <td>(33.869338, -118.287306)</td>\n",
       "      <td>(34.072191, -118.045132)</td>\n",
       "      <td>[(34.053943, -118.232454), (34.054622, -118.24...</td>\n",
       "    </tr>\n",
       "  </tbody>\n",
       "</table>\n",
       "</div>"
      ],
      "text/plain": [
       "   calitp_itp_id   route_id               trip_id       shape_id  \\\n",
       "0              4         10              13277020      shp-10-10   \n",
       "1            182  910-13153  10910002100513-DEC21  9100210_DEC21   \n",
       "\n",
       "  departure_time               destination                    origin  \\\n",
       "0       07:08:00   (37.670239, -122.08718)  (37.721266, -122.160201)   \n",
       "1       06:02:00  (33.869338, -118.287306)  (34.072191, -118.045132)   \n",
       "\n",
       "                                           waypoints  \n",
       "0  [(37.72521, -122.156367), (37.720677, -122.150...  \n",
       "1  [(34.053943, -118.232454), (34.054622, -118.24...  "
      ]
     },
     "execution_count": 20,
     "metadata": {},
     "output_type": "execute_result"
    }
   ],
   "source": [
    "final"
   ]
  },
  {
   "cell_type": "code",
   "execution_count": 18,
   "id": "ca1d918c-7a5b-4c86-85e3-f6f5bb220301",
   "metadata": {},
   "outputs": [
    {
     "data": {
      "text/plain": [
       "\u001b[0;31mInit signature:\u001b[0m \u001b[0mtimedelta\u001b[0m\u001b[0;34m(\u001b[0m\u001b[0mself\u001b[0m\u001b[0;34m,\u001b[0m \u001b[0;34m/\u001b[0m\u001b[0;34m,\u001b[0m \u001b[0;34m*\u001b[0m\u001b[0margs\u001b[0m\u001b[0;34m,\u001b[0m \u001b[0;34m**\u001b[0m\u001b[0mkwargs\u001b[0m\u001b[0;34m)\u001b[0m\u001b[0;34m\u001b[0m\u001b[0;34m\u001b[0m\u001b[0m\n",
       "\u001b[0;31mDocstring:\u001b[0m     \n",
       "Difference between two datetime values.\n",
       "\n",
       "timedelta(days=0, seconds=0, microseconds=0, milliseconds=0, minutes=0, hours=0, weeks=0)\n",
       "\n",
       "All arguments are optional and default to 0.\n",
       "Arguments may be integers or floats, and may be positive or negative.\n",
       "\u001b[0;31mFile:\u001b[0m           /opt/conda/lib/python3.9/datetime.py\n",
       "\u001b[0;31mType:\u001b[0m           type\n",
       "\u001b[0;31mSubclasses:\u001b[0m     _Timedelta\n"
      ]
     },
     "metadata": {},
     "output_type": "display_data"
    }
   ],
   "source": [
    "timedelta?"
   ]
  },
  {
   "cell_type": "code",
   "execution_count": null,
   "id": "7becba26-0cb5-4247-a9e5-18e676a9fe47",
   "metadata": {},
   "outputs": [],
   "source": [
    "# maxsize=None, cache "
   ]
  },
  {
   "cell_type": "code",
   "execution_count": null,
   "id": "48e26721-6e14-499e-9051-c7cb6ea2f36e",
   "metadata": {},
   "outputs": [],
   "source": [
    "origin = final.origin.tolist()\n",
    "dest = final.destination.tolist()\n",
    "#departures = final.departure_time.tolist()\n",
    "departures = [one_hr_from_now]\n",
    "waypts = final.waypoints.tolist()\n",
    "\n",
    "print(f\"type of origin input: {type(origin)}\")\n",
    "print(f\"type of first row: {type(origin[0])}\")\n",
    "\n",
    "for i, tup in enumerate(zip(origin, dest)):\n",
    "    if i == 0:\n",
    "        print(i, tup)\n",
    "        print(tup[0])\n",
    "        print(departures[i])\n",
    "        print(waypts[i])\n",
    "        print(type(waypts[i]))"
   ]
  },
  {
   "cell_type": "code",
   "execution_count": null,
   "id": "7b8b68ba-273c-4e5d-a266-0db23f9879f2",
   "metadata": {},
   "outputs": [],
   "source": [
    "# Just do 1 query\n",
    "beginning = (37.721266, -122.160201)\n",
    "ending = (37.670239, -122.08718)\n",
    "departure1 = departures[0]\n",
    "waypts1 = waypts[0]"
   ]
  },
  {
   "cell_type": "code",
   "execution_count": null,
   "id": "1f218203-c3d3-4cf6-afb4-0f4849c93999",
   "metadata": {},
   "outputs": [],
   "source": [
    "# save as dictionary, save as pickle. request/response, save as pickle to be \"cache\""
   ]
  },
  {
   "cell_type": "code",
   "execution_count": null,
   "id": "39a23ed3-719b-4270-bc80-172389da76be",
   "metadata": {},
   "outputs": [],
   "source": [
    "gmaps.directions(beginning, ending, \n",
    "                 mode='driving', \n",
    "                 #departure_time=departure1, \n",
    "                 #waypoints=waypts1\n",
    "                )"
   ]
  },
  {
   "cell_type": "code",
   "execution_count": null,
   "id": "0662f35a-9476-477f-a7a5-0cac857b5fe1",
   "metadata": {},
   "outputs": [],
   "source": [
    "test_result = gmaps.directions(beginning, ending, \n",
    "                 mode='driving', \n",
    "                 #departure_time=departure1, \n",
    "                 #waypoints=waypts1\n",
    "                )"
   ]
  },
  {
   "cell_type": "code",
   "execution_count": null,
   "id": "42fcb1fb-006c-483a-ace9-5a4a285ce141",
   "metadata": {},
   "outputs": [],
   "source": [
    "my_dict = test_result[0]"
   ]
  },
  {
   "cell_type": "code",
   "execution_count": null,
   "id": "1091c9f2-e062-4935-b893-11585149567c",
   "metadata": {},
   "outputs": [],
   "source": [
    "for key in my_dict.keys():\n",
    "    print(key)"
   ]
  },
  {
   "cell_type": "code",
   "execution_count": null,
   "id": "97f5d738-addd-49ec-a202-c5d24563569f",
   "metadata": {},
   "outputs": [],
   "source": [
    "my_dict[\"summary\"]"
   ]
  },
  {
   "cell_type": "code",
   "execution_count": null,
   "id": "935d777f-8e79-4a54-a88f-fce8bd5cd896",
   "metadata": {},
   "outputs": [],
   "source": [
    "my_dict[\"legs\"]"
   ]
  },
  {
   "cell_type": "code",
   "execution_count": null,
   "id": "564118f0-2097-41bc-8e24-a86b773e15f1",
   "metadata": {},
   "outputs": [],
   "source": [
    "journey = my_dict[\"legs\"][0]"
   ]
  },
  {
   "cell_type": "code",
   "execution_count": null,
   "id": "03692aa2-162e-4b62-8977-01b231f75851",
   "metadata": {},
   "outputs": [],
   "source": [
    "for key, value in journey.items():\n",
    "    print(key)\n",
    "    print(value)"
   ]
  },
  {
   "cell_type": "code",
   "execution_count": null,
   "id": "15c753cf-fa32-4e09-b386-703b553768d0",
   "metadata": {},
   "outputs": [],
   "source": [
    "# add 7 days in the future\n",
    "# test a week, 6 weeks from now, google maps probs does day of week/time of day, not seasonal\n",
    "# timedelta as number of weeks (integer), add 1, adjust that forward\n",
    "# <25 waypoints, <10 waypoints, or else pay extra, \n",
    "# if you have more than 25, you have to break it into 2 requests"
   ]
  },
  {
   "cell_type": "code",
   "execution_count": null,
   "id": "c9f5489a-2bcd-4238-ad56-edb3fb268275",
   "metadata": {},
   "outputs": [],
   "source": [
    "gmaps.directions(beginning, ending, \n",
    "                 mode='driving', \n",
    "                 departure_time=departure1, \n",
    "                 #waypoints=waypts1\n",
    "                )"
   ]
  },
  {
   "cell_type": "code",
   "execution_count": null,
   "id": "0e15b8c3-2546-47f6-82cc-327b9a65c65c",
   "metadata": {},
   "outputs": [],
   "source": [
    "via = gmaps.directions(beginning, ending, \n",
    "                 mode='driving', \n",
    "                 departure_time=datetime.now() + timedelta(hours=4), \n",
    "                 waypoints=[f\"via:{lat},{lon}\" for lat, lon in waypts1]\n",
    "                #waypoints=waypts1\n",
    "                )\n",
    "waypoints = gmaps.directions(beginning, ending, \n",
    "                 mode='driving', \n",
    "                 departure_time=datetime.now() + timedelta(hours=4), \n",
    "                 #waypoints=[f\"via:{lat},{lon}\" for lat, lon in waypts1]\n",
    "                waypoints=waypts1\n",
    "                )\n",
    "# Try using via, not using stopovers, which will return duration_in_traffic\n"
   ]
  },
  {
   "cell_type": "code",
   "execution_count": null,
   "id": "3e47c148-c6ce-45e6-a490-66e999ee0468",
   "metadata": {},
   "outputs": [],
   "source": [
    "via[0].keys(), waypoints[0].keys()"
   ]
  },
  {
   "cell_type": "code",
   "execution_count": null,
   "id": "ec09eabc-87b5-4d41-8b6b-4be866e1bd63",
   "metadata": {},
   "outputs": [],
   "source": [
    "via[0][\"legs\"][0][\"duration_in_traffic\"], via[0][\"legs\"][0][\"duration\"],sum(leg[\"duration\"][\"value\"] for leg in waypoints[0][\"legs\"])\n",
    "\n"
   ]
  },
  {
   "cell_type": "code",
   "execution_count": null,
   "id": "61dfb427-01d9-41f3-a0b3-1a956d728dd8",
   "metadata": {},
   "outputs": [],
   "source": [
    "waypoints[0][\"legs\"][0]"
   ]
  },
  {
   "cell_type": "code",
   "execution_count": null,
   "id": "0bcd915f-09eb-48af-b779-65d6a62c1e19",
   "metadata": {},
   "outputs": [],
   "source": [
    "set(type(leg[\"duration\"]) for leg in waypoints[0][\"legs\"])\n"
   ]
  },
  {
   "cell_type": "code",
   "execution_count": null,
   "id": "89e78b4c-c2f4-431d-85c9-09ef81bba268",
   "metadata": {},
   "outputs": [],
   "source": [
    "sum(leg[\"duration\"] for leg in waypoints[0][\"legs\"])\n"
   ]
  },
  {
   "cell_type": "code",
   "execution_count": null,
   "id": "188a60b7-52d4-4d6c-9f59-abb65f6cd42e",
   "metadata": {},
   "outputs": [],
   "source": [
    "via[0][\"legs\"][0].keys(), waypoints[0][\"legs\"][0].keys()"
   ]
  },
  {
   "cell_type": "code",
   "execution_count": null,
   "id": "0078a24b-89c0-44c0-8877-8584b090e483",
   "metadata": {},
   "outputs": [],
   "source": [
    "via2[0][\"legs\"][0]"
   ]
  },
  {
   "cell_type": "code",
   "execution_count": null,
   "id": "324f3475-ce49-491e-ad25-fd1f2fb39340",
   "metadata": {},
   "outputs": [],
   "source": [
    "departure1"
   ]
  },
  {
   "cell_type": "code",
   "execution_count": null,
   "id": "0c649bb3-6d6d-4d5d-9a48-5f06b1062841",
   "metadata": {},
   "outputs": [],
   "source": [
    "tomorrow = datetime.now() + timedelta(days=1)"
   ]
  },
  {
   "cell_type": "code",
   "execution_count": null,
   "id": "2fbba617-ff0d-4b52-a261-a462e2736dd1",
   "metadata": {},
   "outputs": [],
   "source": [
    "with_waypoints = gmaps.directions(beginning, ending, \n",
    "                 mode='driving', \n",
    "                 departure_time=departure1, \n",
    "                 waypoints=waypts1\n",
    "                )"
   ]
  },
  {
   "cell_type": "code",
   "execution_count": null,
   "id": "afbb2c21-26a8-4f0b-84fa-7ed52dcb4013",
   "metadata": {},
   "outputs": [],
   "source": [
    "with_waypoints = gmaps.directions(beginning, ending, \n",
    "                 mode='driving', \n",
    "                 departure_time=tomorrow, \n",
    "                 #waypoints=waypts1\n",
    "                )"
   ]
  },
  {
   "cell_type": "code",
   "execution_count": null,
   "id": "20466a8d-1f62-4bc3-83b1-b6058a291be8",
   "metadata": {},
   "outputs": [],
   "source": [
    "gmaps.directions(beginning, ending, \n",
    "                 mode='driving', \n",
    "                 departure_time=datetime.now() + timedelta(hours=-1), \n",
    "                 #waypoints=waypts1\n",
    "                )"
   ]
  },
  {
   "cell_type": "code",
   "execution_count": null,
   "id": "94c39752-7052-4952-b093-56ecf4438e3f",
   "metadata": {},
   "outputs": [],
   "source": [
    "w1 = with_waypoints[0]"
   ]
  },
  {
   "cell_type": "code",
   "execution_count": null,
   "id": "82572399-12b3-4c43-9db1-0c3043233688",
   "metadata": {},
   "outputs": [],
   "source": [
    "#https://stackoverflow.com/questions/15380712/how-to-decode-polylines-from-google-maps-direction-api-in-php\n",
    "def decode_polyline(polyline_str):\n",
    "    index, lat, lng = 0, 0, 0\n",
    "    coordinates = []\n",
    "    changes = {'latitude': 0, 'longitude': 0}\n",
    "\n",
    "    # Coordinates have variable length when encoded, so just keep\n",
    "    # track of whether we've hit the end of the string. In each\n",
    "    # while loop iteration, a single coordinate is decoded.\n",
    "    while index < len(polyline_str):\n",
    "        # Gather lat/lon changes, store them in a dictionary to apply them later\n",
    "        for unit in ['latitude', 'longitude']: \n",
    "            shift, result = 0, 0\n",
    "\n",
    "            while True:\n",
    "                byte = ord(polyline_str[index]) - 63\n",
    "                index+=1\n",
    "                result |= (byte & 0x1f) << shift\n",
    "                shift += 5\n",
    "                if not byte >= 0x20:\n",
    "                    break\n",
    "\n",
    "            if (result & 1):\n",
    "                changes[unit] = ~(result >> 1)\n",
    "            else:\n",
    "                changes[unit] = (result >> 1)\n",
    "\n",
    "        lat += changes['latitude']\n",
    "        lng += changes['longitude']\n",
    "\n",
    "        coordinates.append((lat / 100000.0, lng / 100000.0))\n",
    "\n",
    "    return coordinates"
   ]
  },
  {
   "cell_type": "code",
   "execution_count": null,
   "id": "294eb9eb-a490-4269-8de9-be8c4fc3aea7",
   "metadata": {},
   "outputs": [],
   "source": [
    "w1"
   ]
  },
  {
   "cell_type": "code",
   "execution_count": null,
   "id": "d152c00c-d2ef-45d7-a16f-380b155d432e",
   "metadata": {},
   "outputs": [],
   "source": [
    "step_by_step = w1['legs'][0]['steps']"
   ]
  },
  {
   "cell_type": "code",
   "execution_count": null,
   "id": "558d175c-89b4-4790-abd2-b11865811663",
   "metadata": {},
   "outputs": [],
   "source": [
    "step_by_step"
   ]
  },
  {
   "cell_type": "code",
   "execution_count": null,
   "id": "ea287668-6f43-42bf-9c56-21c0204a09e7",
   "metadata": {},
   "outputs": [],
   "source": [
    "polyline = w1[\"overview_polyline\"]"
   ]
  },
  {
   "cell_type": "code",
   "execution_count": null,
   "id": "83ea685c-d9c6-4446-914a-993abe188bf8",
   "metadata": {},
   "outputs": [],
   "source": [
    "polyline"
   ]
  },
  {
   "cell_type": "code",
   "execution_count": null,
   "id": "2af9d1b3-fe4a-4929-8120-0b9033266cc5",
   "metadata": {},
   "outputs": [],
   "source": [
    "#https://github.com/geodav-tech/decode-google-maps-polyline\n",
    "polyline_decoded = decode_polyline(polyline[\"points\"])"
   ]
  },
  {
   "cell_type": "code",
   "execution_count": null,
   "id": "f979fffc-dd6a-49b4-8ddf-c2251500a762",
   "metadata": {},
   "outputs": [],
   "source": [
    "polyline_gdf = (pd.DataFrame(polyline_decoded, )\n",
    "                .rename(columns = {0: \"longitude\", 1: \"latitude\"})\n",
    "               )\n",
    "\n",
    "polyline_gdf = gpd.GeoDataFrame(polyline_gdf, \n",
    "                                geometry=gpd.points_from_xy(polyline_gdf.longitude, \n",
    "                                                           polyline_gdf.latitude), \n",
    "                                crs=\"EPSG:4326\")"
   ]
  },
  {
   "cell_type": "code",
   "execution_count": null,
   "id": "4965f42b-d100-4446-ac15-743899f9f775",
   "metadata": {},
   "outputs": [],
   "source": [
    "polyline_gdf.columns"
   ]
  },
  {
   "cell_type": "code",
   "execution_count": null,
   "id": "7a64bf70-5caa-4aee-a5e3-5a7bfc6e74ef",
   "metadata": {},
   "outputs": [],
   "source": [
    "import shapely\n",
    "\n",
    "polyline_gdf['group'] = 1\n",
    "\n",
    "polyline_gdf2 = polyline_gdf.groupby(\"group\")[\"geometry\"].apply(\n",
    "    lambda x: shapely.geometry.LineString(x.tolist())).reset_index()\n"
   ]
  },
  {
   "cell_type": "code",
   "execution_count": null,
   "id": "023562a8-0a7f-4d82-8756-8a62b516dc35",
   "metadata": {},
   "outputs": [],
   "source": [
    "polyline_gdf2.plot()"
   ]
  },
  {
   "cell_type": "markdown",
   "id": "5cb750bc-aaee-4ba9-9df1-e1266f002e08",
   "metadata": {},
   "source": [
    "### Using distance_matrix - works, but API key now restricted to `directions`\n",
    "\n",
    "* https://traveltime.com/blog/google-distance-matrix-api-traveltime-search-api - there's 25 requests limit for `distance_matrix`"
   ]
  },
  {
   "cell_type": "code",
   "execution_count": null,
   "id": "8c349463-2e47-4b8e-8f71-77dc87e57c7b",
   "metadata": {},
   "outputs": [],
   "source": [
    "#https://www.linkedin.com/pulse/calculating-distances-using-python-google-maps-r%C3%A9gis-nisengwe?articleId=6625061973447053312\n",
    "'''\n",
    "actual_duration = []\n",
    "\n",
    "for i, od_tup in enumerate(zip(origin, dest)):\n",
    "    result = gmaps.distance_matrix(od_tup[0], od_tup[1], mode='driving', departure_time=departures[i])[\"rows\"][0][\"elements\"][0][\"duration\"][\"value\"]  \n",
    "   \n",
    "    result = result/3600\n",
    "    actual_duration.append(result)\n",
    "    \n",
    "final[\"duration (Hours)\"] = actual_duration\n",
    "final\n",
    "#final.to_parquet(\"test_od.parquet\")\n",
    "'''"
   ]
  },
  {
   "cell_type": "code",
   "execution_count": null,
   "id": "98840010-a4f0-4a8c-b127-ed6f4b7c034d",
   "metadata": {},
   "outputs": [],
   "source": [
    "#https://faun.pub/using-google-maps-distance-matrix-api-to-create-a-distance-table-93419c409d4f"
   ]
  },
  {
   "cell_type": "markdown",
   "id": "fe8a1b04-30ac-47ba-98ec-ca4d4bc6567a",
   "metadata": {},
   "source": [
    "### Estimate how many requests"
   ]
  },
  {
   "cell_type": "code",
   "execution_count": null,
   "id": "b2b570ec-f027-4457-842a-725d1e71fed3",
   "metadata": {},
   "outputs": [],
   "source": [
    "unique_routes = df[[\"calitp_itp_id\", \"route_id\"]].drop_duplicates()\n",
    "num_routes = len(unique_routes)\n",
    "\n",
    "print(f\"# unique routes: {num_routes}\")\n",
    "\n",
    "print(f\"1st pass + 25% of stops in subset: {num_routes + 0.25*len(subset)}\")\n",
    "print(f\"1st pass + 50% of stops in subset: {num_routes + 0.5*len(subset)}\")\n",
    "print(f\"1st pass + 75% of stops in subset: {num_routes + 0.75*len(subset)}\")\n",
    "print(f\"Upper bound: do not get rid of any routes, take every 3rd stop: {len(subset)}\")"
   ]
  },
  {
   "cell_type": "code",
   "execution_count": null,
   "id": "b6d19180-154f-4953-92f4-188efedd8506",
   "metadata": {},
   "outputs": [],
   "source": [
    "full_df = catalog.parallel_trips_with_stops.read()"
   ]
  },
  {
   "cell_type": "code",
   "execution_count": null,
   "id": "2c4869b1-88cb-429c-8216-7aede72c6648",
   "metadata": {},
   "outputs": [],
   "source": [
    "unique_routes = full_df[[\"calitp_itp_id\", \"route_id\"]].drop_duplicates()\n",
    "len(unique_routes)"
   ]
  },
  {
   "cell_type": "code",
   "execution_count": null,
   "id": "61d17591-d8ad-4a44-a7ee-a88169b75371",
   "metadata": {},
   "outputs": [],
   "source": [
    "full_df[[\"calitp_itp_id\", \"route_id\"]].value_counts()"
   ]
  },
  {
   "cell_type": "code",
   "execution_count": null,
   "id": "833c6a1a-95f6-42aa-b84b-0520e63b6f91",
   "metadata": {},
   "outputs": [],
   "source": [
    "ful"
   ]
  },
  {
   "cell_type": "code",
   "execution_count": null,
   "id": "1e7c86c1-8fd3-4471-b846-1f87287ee78f",
   "metadata": {},
   "outputs": [],
   "source": [
    "keep_trips = [-7505741281882708052]\n",
    "df[df.trip_key.isin(keep_trips)]"
   ]
  },
  {
   "cell_type": "code",
   "execution_count": null,
   "id": "4c780867-1d46-47ae-869c-0339dac79d81",
   "metadata": {},
   "outputs": [],
   "source": [
    "subset[subset.trip_key.isin(keep_trips)]"
   ]
  },
  {
   "cell_type": "markdown",
   "id": "cf2b0b46-b119-4881-b7de-28a81f3d5218",
   "metadata": {},
   "source": [
    "Don't like how `osmx` is returning the same nodes for bus stops, even at every 5th bus stop.\n",
    "\n",
    "`osrm` doesn't install bc of some `GDAL` dependencies.\n",
    "\n",
    "Can Google API be used? But need to check terms and conditions if we can make requests to calculate travel time or even grab speed limits through the\n",
    "[Python package](https://github.com/googlemaps/google-maps-services-python)\n",
    "\n",
    "At minimum, can calculate distance between stops, sum it up, and for cars, set an assumption of 30 mph or 45 mph. If we can't use Google API to grab speed limit, then we will hard code it."
   ]
  },
  {
   "cell_type": "code",
   "execution_count": null,
   "id": "90412697-9dac-41ba-941f-1697c504a22c",
   "metadata": {},
   "outputs": [],
   "source": [
    "def calculate_distance_traveled(df):\n",
    "    group_cols = [\"calitp_itp_id\", \"route_id\"]\n",
    "    sort_cols = group_cols + [\"stop_sequence\"]\n",
    "    \n",
    "    df = df.to_crs(shared_utils.geography_utils.CA_StatePlane)\n",
    "    \n",
    "    # Distance traveled\n",
    "    df = df.assign(\n",
    "        # Previous geometry\n",
    "        start = (df.sort_values(sort_cols)\n",
    "                 .groupby(group_cols)[\"geometry\"]\n",
    "                 .apply(lambda x: x.shift(1))),\n",
    "        end = (df.sort_values(sort_cols)\n",
    "               .groupby(group_cols)[\"geometry\"]\n",
    "               .apply(lambda x: x.shift(0))\n",
    "              )\n",
    "    )\n",
    "    \n",
    "    df = df.assign(\n",
    "        feet_traveled = df.end.distance(df.start) \n",
    "    ).drop(columns = [\"start\", \"end\"])\n",
    "        \n",
    "    return df\n",
    "            "
   ]
  },
  {
   "cell_type": "code",
   "execution_count": null,
   "id": "1fa93159-af80-4879-9985-a8bd50caa794",
   "metadata": {},
   "outputs": [],
   "source": [
    "df = calculate_distance_traveled(parallel)"
   ]
  },
  {
   "cell_type": "code",
   "execution_count": null,
   "id": "e4337310-e00a-41b2-a7f4-4d66c2b29aa0",
   "metadata": {},
   "outputs": [],
   "source": [
    "def calculate_time_traveled(df):\n",
    "    # Use a set of assumptions\n",
    "    \n",
    "    AVG_SPEED = 40\n",
    "    \n",
    "    df = df.assign(\n",
    "        max_stop = (df.groupby([\"itp_id\", \"route_id\", \"trip_id\"])\n",
    "                    [\"stop_sequence\"].transform(\"max\"))\n",
    "    )\n",
    "    \n",
    "    df2 = shared_utils.geography_utils.aggregate_by_geography(\n",
    "        df,\n",
    "        group_cols = [\"itp_id\", \"route_id\", \"trip_id\", \n",
    "                     \"trip_first_departure_ts\", \"trip_last_arrival_ts\"],\n",
    "        sum_cols = [\"feet_traveled\"], \n",
    "        mean_cols = [\"service_hours\", \"max_stop\"]\n",
    "    )\n",
    "    \n",
    "    df2 = df2.assign(\n",
    "        miles_traveled = df2.feet_traveled.divide(\n",
    "            shared_utils.geography_utils.FEET_PER_MI)\n",
    "    \n",
    "    )\n",
    "    \n",
    "    # speed = distance / time\n",
    "    # time = distance / speed\n",
    "    df2 = df2.assign(\n",
    "        car_trip_time_hr = df2.miles_traveled.divide(AVG_SPEED),\n",
    "    ).drop(columns = \"feet_traveled\")\n",
    "        \n",
    "    return df2"
   ]
  },
  {
   "cell_type": "code",
   "execution_count": null,
   "id": "0f722a9d-7029-4bd1-9eef-05d5fc36abce",
   "metadata": {},
   "outputs": [],
   "source": [
    "df2 = calculate_time_traveled(df)"
   ]
  },
  {
   "cell_type": "code",
   "execution_count": null,
   "id": "976c6b43-9ab4-4e9e-8f97-10d1e90749ba",
   "metadata": {},
   "outputs": [],
   "source": []
  }
 ],
 "metadata": {
  "kernelspec": {
   "display_name": "Python 3 (ipykernel)",
   "language": "python",
   "name": "python3"
  },
  "language_info": {
   "codemirror_mode": {
    "name": "ipython",
    "version": 3
   },
   "file_extension": ".py",
   "mimetype": "text/x-python",
   "name": "python",
   "nbconvert_exporter": "python",
   "pygments_lexer": "ipython3",
   "version": "3.9.10"
  }
 },
 "nbformat": 4,
 "nbformat_minor": 5
}
