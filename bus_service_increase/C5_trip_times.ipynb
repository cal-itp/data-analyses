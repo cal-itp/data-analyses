{
 "cells": [
  {
   "cell_type": "markdown",
   "id": "3b7ff62b-45d8-42aa-8920-269d094d70eb",
   "metadata": {},
   "source": [
    "# Estimate car vs bus travel time\n",
    "\n",
    "* Pull out parallel routes. Run `setup_parallel_trips_with_stops.py`\n",
    "* Make car travel down same route as the bus.\n",
    "* `osmx` snaps to nodes, but even for every 5th bus stop, it's snapping to same node.\n",
    "* `osrm` wasn't able to be installed in Hub\n",
    "* `valhalla`? Kuan Butt's blog?\n",
    "\n",
    "#### Quick and Dirty Approach\n",
    "* Based on distance traveled, estimate car travel time with some assumptions (35, 40 mph?)\n",
    "* For now, estimate car travel with lower mph assumption, so that some viable routes can be pulled. Don't want bus to look worse than it is (mid-day, free-flowing), and compare it to car travel (which is probably estimated during free-flowing too)\n",
    "\n",
    "Later, swap out car travel time estimation with other approaches. Maybe use Google API to do requests."
   ]
  },
  {
   "cell_type": "code",
   "execution_count": 1,
   "id": "93a66400-c9f1-41f1-999b-3e9d6bb849bc",
   "metadata": {},
   "outputs": [
    {
     "name": "stderr",
     "output_type": "stream",
     "text": [
      "/opt/conda/lib/python3.9/site-packages/geopandas/_compat.py:111: UserWarning: The Shapely GEOS version (3.10.2-CAPI-1.16.0) is incompatible with the GEOS version PyGEOS was compiled with (3.10.1-CAPI-1.16.0). Conversions between both will be slow.\n",
      "  warnings.warn(\n",
      "/opt/conda/lib/python3.9/importlib/__init__.py:127: UserWarning: Obsolete pybigquery is installed, which is likely to\n",
      "interfere with sqlalchemy_bigquery.\n",
      "pybigquery should be uninstalled.\n",
      "  return _bootstrap._gcd_import(name[level:], package, level)\n",
      "E0406 19:58:09.668407515    1547 fork_posix.cc:70]           Fork support is only compatible with the epoll1 and poll polling strategies\n",
      "E0406 19:58:12.069451363    1547 fork_posix.cc:70]           Fork support is only compatible with the epoll1 and poll polling strategies\n"
     ]
    }
   ],
   "source": [
    "#https://stackoverflow.com/questions/55162077/how-to-get-the-driving-distance-between-two-geographical-coordinates-using-pytho\n",
    "import geopandas as gpd\n",
    "import pandas as pd\n",
    "\n",
    "from siuba import *\n",
    "\n",
    "from shared_utils import geography_utils"
   ]
  },
  {
   "cell_type": "code",
   "execution_count": 2,
   "id": "c73dbd25-8ca4-4d28-86e9-65707b90e004",
   "metadata": {},
   "outputs": [],
   "source": [
    "df = gpd.read_parquet(\"./data/parallel_trips_with_stops.parquet\")"
   ]
  },
  {
   "cell_type": "code",
   "execution_count": 3,
   "id": "b57cf0ad-b0a8-490c-9868-589f8081074a",
   "metadata": {},
   "outputs": [],
   "source": [
    "# https://stackoverflow.com/questions/25055712/pandas-every-nth-row\n",
    "# Maybe not use every bus stop, since bus stops are spaced fairly closely\n",
    "# Maybe every other, every 3rd? want to mimic the bus route, do not want\n",
    "# to stray too far\n",
    "\n",
    "# df = df.iloc[::3]\n",
    "group_cols = [\"calitp_itp_id\", \"route_id\", \"trip_id\"]\n",
    "df[\"stop_rank\"] = df.groupby(group_cols).cumcount() + 1"
   ]
  },
  {
   "cell_type": "code",
   "execution_count": 4,
   "id": "eb6c0de3-aed6-4a24-8367-64312d9a6c60",
   "metadata": {},
   "outputs": [],
   "source": [
    "subset = df[df.stop_rank % 3 == 0]"
   ]
  },
  {
   "cell_type": "code",
   "execution_count": 5,
   "id": "b2b570ec-f027-4457-842a-725d1e71fed3",
   "metadata": {},
   "outputs": [
    {
     "name": "stdout",
     "output_type": "stream",
     "text": [
      "# unique routes: 2242\n",
      "1st pass + 25% of stops in subset: 7230.75\n",
      "1st pass + 50% of stops in subset: 12219.5\n",
      "1st pass + 75% of stops in subset: 17208.25\n",
      "Upper bound: do not get rid of any routes, take every 3rd stop: 19955\n"
     ]
    }
   ],
   "source": [
    "unique_routes = df[[\"calitp_itp_id\", \"route_id\"]].drop_duplicates()\n",
    "num_routes = len(unique_routes)\n",
    "\n",
    "print(f\"# unique routes: {num_routes}\")\n",
    "\n",
    "print(f\"1st pass + 25% of stops in subset: {num_routes + 0.25*len(subset)}\")\n",
    "print(f\"1st pass + 50% of stops in subset: {num_routes + 0.5*len(subset)}\")\n",
    "print(f\"1st pass + 75% of stops in subset: {num_routes + 0.75*len(subset)}\")\n",
    "print(f\"Upper bound: do not get rid of any routes, take every 3rd stop: {len(subset)}\")"
   ]
  },
  {
   "cell_type": "code",
   "execution_count": null,
   "id": "b6d19180-154f-4953-92f4-188efedd8506",
   "metadata": {},
   "outputs": [],
   "source": []
  },
  {
   "cell_type": "code",
   "execution_count": null,
   "id": "1e7c86c1-8fd3-4471-b846-1f87287ee78f",
   "metadata": {},
   "outputs": [],
   "source": [
    "keep_trips = [-7505741281882708052]\n",
    "df[df.trip_key.isin(keep_trips)]"
   ]
  },
  {
   "cell_type": "code",
   "execution_count": null,
   "id": "4c780867-1d46-47ae-869c-0339dac79d81",
   "metadata": {},
   "outputs": [],
   "source": [
    "subset[subset.trip_key.isin(keep_trips)]"
   ]
  },
  {
   "cell_type": "markdown",
   "id": "cf2b0b46-b119-4881-b7de-28a81f3d5218",
   "metadata": {},
   "source": [
    "Don't like how `osmx` is returning the same nodes for bus stops, even at every 5th bus stop.\n",
    "\n",
    "`osrm` doesn't install bc of some `GDAL` dependencies.\n",
    "\n",
    "Can Google API be used? But need to check terms and conditions if we can make requests to calculate travel time or even grab speed limits through the\n",
    "[Python package](https://github.com/googlemaps/google-maps-services-python)\n",
    "\n",
    "At minimum, can calculate distance between stops, sum it up, and for cars, set an assumption of 30 mph or 45 mph. If we can't use Google API to grab speed limit, then we will hard code it."
   ]
  },
  {
   "cell_type": "code",
   "execution_count": null,
   "id": "90412697-9dac-41ba-941f-1697c504a22c",
   "metadata": {},
   "outputs": [],
   "source": [
    "def calculate_distance_traveled(df):\n",
    "    group_cols = [\"calitp_itp_id\", \"route_id\"]\n",
    "    sort_cols = group_cols + [\"stop_sequence\"]\n",
    "    \n",
    "    df = df.to_crs(shared_utils.geography_utils.CA_StatePlane)\n",
    "    \n",
    "    # Distance traveled\n",
    "    df = df.assign(\n",
    "        # Previous geometry\n",
    "        start = (df.sort_values(sort_cols)\n",
    "                 .groupby(group_cols)[\"geometry\"]\n",
    "                 .apply(lambda x: x.shift(1))),\n",
    "        end = (df.sort_values(sort_cols)\n",
    "               .groupby(group_cols)[\"geometry\"]\n",
    "               .apply(lambda x: x.shift(0))\n",
    "              )\n",
    "    )\n",
    "    \n",
    "    df = df.assign(\n",
    "        feet_traveled = df.end.distance(df.start) \n",
    "    ).drop(columns = [\"start\", \"end\"])\n",
    "        \n",
    "    return df\n",
    "            "
   ]
  },
  {
   "cell_type": "code",
   "execution_count": null,
   "id": "1fa93159-af80-4879-9985-a8bd50caa794",
   "metadata": {},
   "outputs": [],
   "source": [
    "df = calculate_distance_traveled(parallel)"
   ]
  },
  {
   "cell_type": "code",
   "execution_count": null,
   "id": "e4337310-e00a-41b2-a7f4-4d66c2b29aa0",
   "metadata": {},
   "outputs": [],
   "source": [
    "def calculate_time_traveled(df):\n",
    "    # Use a set of assumptions\n",
    "    \n",
    "    AVG_SPEED = 40\n",
    "    \n",
    "    df = df.assign(\n",
    "        max_stop = (df.groupby([\"itp_id\", \"route_id\", \"trip_id\"])\n",
    "                    [\"stop_sequence\"].transform(\"max\"))\n",
    "    )\n",
    "    \n",
    "    df2 = shared_utils.geography_utils.aggregate_by_geography(\n",
    "        df,\n",
    "        group_cols = [\"itp_id\", \"route_id\", \"trip_id\", \n",
    "                     \"trip_first_departure_ts\", \"trip_last_arrival_ts\"],\n",
    "        sum_cols = [\"feet_traveled\"], \n",
    "        mean_cols = [\"service_hours\", \"max_stop\"]\n",
    "    )\n",
    "    \n",
    "    df2 = df2.assign(\n",
    "        miles_traveled = df2.feet_traveled.divide(\n",
    "            shared_utils.geography_utils.FEET_PER_MI)\n",
    "    \n",
    "    )\n",
    "    \n",
    "    # speed = distance / time\n",
    "    # time = distance / speed\n",
    "    df2 = df2.assign(\n",
    "        car_trip_time_hr = df2.miles_traveled.divide(AVG_SPEED),\n",
    "    ).drop(columns = \"feet_traveled\")\n",
    "        \n",
    "    return df2"
   ]
  },
  {
   "cell_type": "code",
   "execution_count": null,
   "id": "0f722a9d-7029-4bd1-9eef-05d5fc36abce",
   "metadata": {},
   "outputs": [],
   "source": [
    "df2 = calculate_time_traveled(df)"
   ]
  },
  {
   "cell_type": "code",
   "execution_count": null,
   "id": "976c6b43-9ab4-4e9e-8f97-10d1e90749ba",
   "metadata": {},
   "outputs": [],
   "source": []
  }
 ],
 "metadata": {
  "kernelspec": {
   "display_name": "Python 3 (ipykernel)",
   "language": "python",
   "name": "python3"
  },
  "language_info": {
   "codemirror_mode": {
    "name": "ipython",
    "version": 3
   },
   "file_extension": ".py",
   "mimetype": "text/x-python",
   "name": "python",
   "nbconvert_exporter": "python",
   "pygments_lexer": "ipython3",
   "version": "3.9.10"
  }
 },
 "nbformat": 4,
 "nbformat_minor": 5
}
