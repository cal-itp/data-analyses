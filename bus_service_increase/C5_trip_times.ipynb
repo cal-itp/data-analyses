{
 "cells": [
  {
   "cell_type": "markdown",
   "id": "3b7ff62b-45d8-42aa-8920-269d094d70eb",
   "metadata": {},
   "source": [
    "# Estimate car vs bus travel time\n",
    "\n",
    "* Pull out parallel routes. Run `setup_parallel_trips_with_stops.py`\n",
    "* Make car travel down same route as the bus. Use `googlemaps`, and set the departure hour to be the same time as bus route's.\n",
    "    * `osmx` snaps to nodes, but even for every 5th bus stop, it's snapping to same node.\n",
    "    * `osrm` wasn't able to be installed in Hub"
   ]
  },
  {
   "cell_type": "code",
   "execution_count": null,
   "id": "d873fe16-ee0f-4ef4-ab30-2b352dc06f53",
   "metadata": {},
   "outputs": [],
   "source": [
    "#!pip install -r requirements.txt"
   ]
  },
  {
   "cell_type": "code",
   "execution_count": 1,
   "id": "93a66400-c9f1-41f1-999b-3e9d6bb849bc",
   "metadata": {},
   "outputs": [
    {
     "name": "stderr",
     "output_type": "stream",
     "text": [
      "/opt/conda/lib/python3.9/site-packages/geopandas/_compat.py:111: UserWarning: The Shapely GEOS version (3.10.2-CAPI-1.16.0) is incompatible with the GEOS version PyGEOS was compiled with (3.10.1-CAPI-1.16.0). Conversions between both will be slow.\n",
      "  warnings.warn(\n"
     ]
    }
   ],
   "source": [
    "#https://stackoverflow.com/questions/55162077/how-to-get-the-driving-distance-between-two-geographical-coordinates-using-pytho\n",
    "import dotenv\n",
    "import geopandas as gpd\n",
    "import googlemaps\n",
    "import intake\n",
    "import os\n",
    "import pandas as pd\n",
    "\n",
    "from datetime import datetime, timedelta, date\n",
    "from siuba import *\n",
    "\n",
    "dotenv.load_dotenv(\"_env\")\n",
    "\n",
    "catalog = intake.open_catalog(\"./*.yml\")\n",
    "\n",
    "GOOGLE_API_KEY = os.environ[\"GOOGLE_API_KEY\"]"
   ]
  },
  {
   "cell_type": "code",
   "execution_count": 2,
   "id": "44a1015b-81e1-4972-88de-2eaab70717c6",
   "metadata": {},
   "outputs": [],
   "source": [
    "def grab_latlon_make_tuple(df, point_geom_col):\n",
    "    # Change this from shapely point to floats\n",
    "    df = df.assign(\n",
    "        longitude = df[point_geom_col].x,\n",
    "        latitude = df[point_geom_col].y,\n",
    "    )\n",
    "    \n",
    "    # Make tuples instead of just floats\n",
    "    df2 = (df.assign(\n",
    "            new = df.apply(lambda x: (x.latitude, x.longitude), axis=1)        \n",
    "        ).rename(columns = {\"new\": f\"{point_geom_col}_tuple\"})\n",
    "          .drop(columns = [\"latitude\", \"longitude\"])\n",
    "    )\n",
    "    \n",
    "    return df2"
   ]
  },
  {
   "cell_type": "code",
   "execution_count": 3,
   "id": "c5f79e0f-1b65-4610-96d8-aa6f12ebb70f",
   "metadata": {},
   "outputs": [],
   "source": [
    "def data_wrangling(df):\n",
    "    # Move this step into script later? \n",
    "    # Or just leave in this notebook, wrangle it into what goes into googlemaps\n",
    "    df[\"first_departure\"] = pd.to_datetime(df.trip_first_departure_ts, unit='s').dt.time\n",
    "\n",
    "    def assemble_trip_departure_datetime(x):\n",
    "        if (x.departure_time != None) and int(x.departure_time.split(':')[0]) < 23:\n",
    "            return  str(x.date) + \" \" + str(x.departure_time)\n",
    "        else: \n",
    "            return str(x.date) + \" \" + str(x.first_departure)\n",
    "\n",
    "\n",
    "    df[\"trip_departure\"] = df.apply(lambda x: assemble_trip_departure_datetime(x), axis=1)\n",
    "    df[\"trip_departure\"] = pd.to_datetime(df.trip_departure, errors=\"coerce\")\n",
    "    \n",
    "    df2 = (grab_latlon_make_tuple(df, \"geometry\")\n",
    "           .drop(columns = [\"geometry\", \"date\", \"is_in_service\",\n",
    "                            \"departure_time\", \"trip_first_departure_ts\", \n",
    "                            \"first_departure\"])\n",
    "           .rename(columns = {\"geometry_tuple\": \"geometry\"})\n",
    "          )\n",
    "    \n",
    "    return df2"
   ]
  },
  {
   "cell_type": "code",
   "execution_count": 4,
   "id": "5c6b7d37-e81f-4cf9-a52f-5ad750194ba9",
   "metadata": {},
   "outputs": [],
   "source": [
    "df = catalog.parallel_trips_with_stops.read()\n",
    "\n",
    "df = data_wrangling(df)"
   ]
  },
  {
   "cell_type": "markdown",
   "id": "9cd070fd-a574-4aaf-b09d-887c33295cfe",
   "metadata": {},
   "source": [
    "every 3rd \n",
    "\n",
    "* origin = 1\n",
    "* destination >= 77 & destination <= 79\n",
    "* divisible by 3, remainder 1\n",
    "* 4, 7, 10, 13, 16, \n",
    "* 19, 22, 25, 28, 31\n",
    "* 34, 37, 40, 43, 46,\n",
    "* 49, 52, 55, 58, 61,\n",
    "* 64, 67, 70, 73, 76,\n",
    "\n",
    "every 4th\n",
    "* origin = 1\n",
    "* destination >= 79 & destination <= 105\n",
    "* divisible by 4, remainder 1\n",
    "* 5, 9, 13, 17, 21,\n",
    "* 25, 29, 33, 37, 41, \n",
    "* 45, 49, 53, 57, 61\n",
    "* 65, 69, 73, 77, 81,\n",
    "* 85, 89, 93, 97, 101\n",
    "\n",
    "every 5th\n",
    "* origin = 1\n",
    "* destination >= 126 & destination <= 131\n",
    "* divisible by 5, remainder 1\n",
    "* 6, 11, 16, 21, 26,\n",
    "* 31, 36, 41, 46, 51,\n",
    "* 56, 61, 66, 71, 76,\n",
    "* 81, 86, 91, 96, 101,\n",
    "* 106, 111, 116, 121, 126"
   ]
  },
  {
   "cell_type": "code",
   "execution_count": 5,
   "id": "9969fea4-a915-477e-b888-ad4aeaaaf46b",
   "metadata": {},
   "outputs": [],
   "source": [
    "# If you have more than 25 waypoints, you have to break it into 2 requests\n",
    "# (x - first_waypoint_rank) / divisible_by) + 1 = 25\n",
    "# 25 waypoints in the middle, then allow origin and destination to bookend it\n",
    "# origin = stop1\n",
    "# destination is >= last_waypoint_rank & <= last_waypoint_rank + divisible_by\n",
    "# can allow destination to be last_waypoint_rank\n",
    "\n",
    "def last_waypoint_and_destination_rank(divisible_by):\n",
    "    first = 1\n",
    "    first_waypoint = first + divisible_by\n",
    "    # (x- first_waypoint) / divisible_by) + 1 = 25\n",
    "    # Solve for x\n",
    "    x = (divisible_by * 24) + first_waypoint\n",
    "    return x, x+divisible_by"
   ]
  },
  {
   "cell_type": "code",
   "execution_count": 6,
   "id": "f2a1dacc-a8a2-4e3f-a6bf-47384fa29b6b",
   "metadata": {},
   "outputs": [],
   "source": [
    "trip_group = [\"calitp_itp_id\", \"route_id\", \"trip_id\", \"shape_id\"]\n",
    "\n",
    "def subset_stops(df):\n",
    "    # https://stackoverflow.com/questions/25055712/pandas-every-nth-row\n",
    "    # df = df.iloc[::3]\n",
    "    df[\"stop_rank\"] = df.groupby(trip_group).cumcount() + 1\n",
    "    df[\"max_stop\"] = df.groupby(trip_group)[\"stop_rank\"].transform(\"max\")\n",
    "    \n",
    "    # every 3rd for shorter routes\n",
    "    # every 4th, 5th for longer ones...stay under 25 waypoints\n",
    "    every_third, dest3_max = last_waypoint_and_destination_rank(divisible_by=3)\n",
    "    every_fourth, dest4_max = last_waypoint_and_destination_rank(divisible_by=4)\n",
    "    every_fifth, dest5_max = last_waypoint_and_destination_rank(divisible_by=5)\n",
    "    # Do we want to go beyond every 5th? Maybe need to investigate \n",
    "    \n",
    "    def tag_waypoints(row):\n",
    "        flag = 0\n",
    "        if row.max_stop <= dest3_max:\n",
    "            # Want remainder of 1, because if we are keeping stop 1, then 3rd stop is stop 4.\n",
    "            if row.stop_rank % 3 == 1:\n",
    "                flag=1\n",
    "        elif (row.max_stop > dest3_max) and (row.max_stop <= dest4_max):\n",
    "            if row.stop_rank % 4 == 1:\n",
    "                flag = 1\n",
    "        elif (row.max_stop > dest4_max) and (row.max_stop <= dest5_max):\n",
    "            if row.stop_rank % 5 == 1:\n",
    "                flag = 1\n",
    "        return flag\n",
    "\n",
    "    df[\"is_waypoint\"] = df.apply(tag_waypoints, axis=1)\n",
    "    df[\"is_od\"] = df.apply(lambda x: \n",
    "                           1 if ((x.stop_rank==1) or (x.stop_rank==x.max_stop))\n",
    "                           else 0, axis=1)\n",
    "                           \n",
    "    # Can have up to 25 waypoints to not be charged\n",
    "    # we also have origin and destination\n",
    "    subset = (df[(df.is_waypoint==1) | \n",
    "                (df.is_od==1) \n",
    "               ].drop(columns = [\"stop_rank\", \"max_stop\"])\n",
    "              .reset_index(drop=True)\n",
    "             )\n",
    "    \n",
    "    return subset"
   ]
  },
  {
   "cell_type": "code",
   "execution_count": 7,
   "id": "38ba0511-d8ed-464f-907f-f16bd2f86671",
   "metadata": {},
   "outputs": [],
   "source": [
    "subset = subset_stops(df)"
   ]
  },
  {
   "cell_type": "code",
   "execution_count": 8,
   "id": "4502f221-6d43-400c-98ca-d4712d9a0316",
   "metadata": {},
   "outputs": [],
   "source": [
    "# Selecting 2 trips\n",
    "keep_trips = [\n",
    "    -7505741281882708052,\n",
    "    -8806955513757008482 \n",
    "]\n",
    "\n",
    "subset = subset[subset.trip_key.isin(keep_trips)].reset_index(drop=True)"
   ]
  },
  {
   "cell_type": "code",
   "execution_count": 9,
   "id": "4e8f868f-7c47-487e-91a3-ace44e76fd5c",
   "metadata": {},
   "outputs": [],
   "source": [
    "def select_origin_destination(df):\n",
    "    df = df[df.is_od==1].reset_index(drop=True)\n",
    "    \n",
    "    # Wrangle it so there are columns with previous point and current point in the same row\n",
    "    df = df.assign(\n",
    "        previous = (df.sort_values(trip_group + [\"stop_sequence\"])\n",
    "                        .groupby(trip_group)[\"geometry\"]\n",
    "                        .apply(lambda x: x.shift(1))\n",
    "                       ),\n",
    "    )\n",
    "    \n",
    "    # Only keep the observation that has start_geom (drop the first obs for each trip grouping)\n",
    "    df2 = (df[df.previous.notna()]\n",
    "           [trip_group + [\"day_name\", \"trip_departure\", \"geometry\", \"previous\"]]\n",
    "           .assign(\n",
    "               # test a week, 6 weeks from now, google maps probs does day of week/time of day, not seasonal\n",
    "               departure_in_one_year = df.apply(lambda x: \n",
    "                                                x.trip_departure + timedelta(weeks=52), \n",
    "                                                axis=1)\n",
    "           )\n",
    "           .reset_index(drop=True)\n",
    "           .rename(columns = {\"geometry\": \"destination\", \n",
    "                              \"previous\": \"origin\"})\n",
    "          )\n",
    "    \n",
    "    return df2"
   ]
  },
  {
   "cell_type": "code",
   "execution_count": 10,
   "id": "f4457c26-91d0-4562-8081-1c93729a3d85",
   "metadata": {},
   "outputs": [],
   "source": [
    "def assemble_waypoints(df):\n",
    "    df = df[(df.is_waypoint==1) & (df.is_od==0)].reset_index(drop=True)\n",
    "    \n",
    "    # Take all the stops in between origin/destination, put tuples into a list\n",
    "    #https://stackoverflow.com/questions/22219004/how-to-group-dataframe-rows-into-list-in-pandas-groupby\n",
    "    waypoint_df = (\n",
    "        df.sort_values(trip_group + [\"stop_sequence\"])\n",
    "        .groupby(trip_group)\n",
    "        .agg({\"geometry\": lambda x: list(x)})\n",
    "        .reset_index()\n",
    "        .rename(columns = {\"geometry\": \"waypoints\"})\n",
    "    )\n",
    "    \n",
    "    return waypoint_df"
   ]
  },
  {
   "cell_type": "code",
   "execution_count": 11,
   "id": "2d427fe2-4a43-4fb8-8b2d-743f12bb8bd1",
   "metadata": {},
   "outputs": [],
   "source": [
    "od = select_origin_destination(subset)\n",
    "waypoints_by_trip = assemble_waypoints(subset)"
   ]
  },
  {
   "cell_type": "code",
   "execution_count": 12,
   "id": "9e79a45b-9719-435f-9268-1acba2f36f69",
   "metadata": {},
   "outputs": [
    {
     "data": {
      "text/html": [
       "<div>\n",
       "<style scoped>\n",
       "    .dataframe tbody tr th:only-of-type {\n",
       "        vertical-align: middle;\n",
       "    }\n",
       "\n",
       "    .dataframe tbody tr th {\n",
       "        vertical-align: top;\n",
       "    }\n",
       "\n",
       "    .dataframe thead th {\n",
       "        text-align: right;\n",
       "    }\n",
       "</style>\n",
       "<table border=\"1\" class=\"dataframe\">\n",
       "  <thead>\n",
       "    <tr style=\"text-align: right;\">\n",
       "      <th></th>\n",
       "      <th>calitp_itp_id</th>\n",
       "      <th>route_id</th>\n",
       "      <th>trip_id</th>\n",
       "      <th>shape_id</th>\n",
       "      <th>day_name</th>\n",
       "      <th>trip_departure</th>\n",
       "      <th>destination</th>\n",
       "      <th>origin</th>\n",
       "      <th>departure_in_one_year</th>\n",
       "      <th>waypoints</th>\n",
       "    </tr>\n",
       "  </thead>\n",
       "  <tbody>\n",
       "    <tr>\n",
       "      <th>0</th>\n",
       "      <td>4</td>\n",
       "      <td>10</td>\n",
       "      <td>13277020</td>\n",
       "      <td>shp-10-10</td>\n",
       "      <td>Thursday</td>\n",
       "      <td>2022-01-06 07:08:00</td>\n",
       "      <td>(37.670239, -122.08718)</td>\n",
       "      <td>(37.721266, -122.160201)</td>\n",
       "      <td>2023-01-05 07:08:00</td>\n",
       "      <td>[(37.72521, -122.156367), (37.720677, -122.150...</td>\n",
       "    </tr>\n",
       "    <tr>\n",
       "      <th>1</th>\n",
       "      <td>182</td>\n",
       "      <td>910-13153</td>\n",
       "      <td>10910002100513-DEC21</td>\n",
       "      <td>9100210_DEC21</td>\n",
       "      <td>Thursday</td>\n",
       "      <td>2022-01-06 06:02:00</td>\n",
       "      <td>(33.869338, -118.287306)</td>\n",
       "      <td>(34.072191, -118.045132)</td>\n",
       "      <td>2023-01-05 06:02:00</td>\n",
       "      <td>[(34.053943, -118.232454), (34.054622, -118.24...</td>\n",
       "    </tr>\n",
       "  </tbody>\n",
       "</table>\n",
       "</div>"
      ],
      "text/plain": [
       "   calitp_itp_id   route_id               trip_id       shape_id  day_name  \\\n",
       "0              4         10              13277020      shp-10-10  Thursday   \n",
       "1            182  910-13153  10910002100513-DEC21  9100210_DEC21  Thursday   \n",
       "\n",
       "       trip_departure               destination                    origin  \\\n",
       "0 2022-01-06 07:08:00   (37.670239, -122.08718)  (37.721266, -122.160201)   \n",
       "1 2022-01-06 06:02:00  (33.869338, -118.287306)  (34.072191, -118.045132)   \n",
       "\n",
       "  departure_in_one_year                                          waypoints  \n",
       "0   2023-01-05 07:08:00  [(37.72521, -122.156367), (37.720677, -122.150...  \n",
       "1   2023-01-05 06:02:00  [(34.053943, -118.232454), (34.054622, -118.24...  "
      ]
     },
     "execution_count": 12,
     "metadata": {},
     "output_type": "execute_result"
    }
   ],
   "source": [
    "final = pd.merge(od, waypoints_by_trip, \n",
    "                 on = trip_group, how = \"inner\", validate = \"1:1\"\n",
    "                )\n",
    "\n",
    "final.head()"
   ]
  },
  {
   "cell_type": "markdown",
   "id": "2177edd3-0fb5-4c28-855f-87bfe25925aa",
   "metadata": {},
   "source": [
    "#### Caching\n",
    "* If the Google API feels too slow, parallelize in some way, async io\n",
    "* `functools` caching: write a function, take beginning, end, waypoints, departure time, and have that function reference the map's call\n",
    "* `maxsize=None`, cache \n",
    "* since request output is dictionary, can save as pickle. request/response, save as pickle to be \"cache\"\n",
    "\n",
    "#### Google Requests\n",
    "* if there are any keys that don't have `duration_in_traffic`, throw an error and it's not getting what we expect"
   ]
  },
  {
   "cell_type": "code",
   "execution_count": 13,
   "id": "c4d3c969-5458-48ae-be9c-193d1c700184",
   "metadata": {},
   "outputs": [],
   "source": [
    "gmaps = googlemaps.Client(key=GOOGLE_API_KEY)"
   ]
  },
  {
   "cell_type": "code",
   "execution_count": 14,
   "id": "48e26721-6e14-499e-9051-c7cb6ea2f36e",
   "metadata": {},
   "outputs": [
    {
     "name": "stdout",
     "output_type": "stream",
     "text": [
      "type of origin input: <class 'list'>\n",
      "type of first row: <class 'tuple'>\n",
      "0 ((37.721266, -122.160201), (37.670239, -122.08718))\n",
      "(37.721266, -122.160201)\n",
      "2023-01-05 07:08:00\n",
      "[(37.72521, -122.156367), (37.720677, -122.15017), (37.715484, -122.143261), (37.71062, -122.136455), (37.703598, -122.126401), (37.698392, -122.12475), (37.699597, -122.120677), (37.694546, -122.113442), (37.688329, -122.104643), (37.681775, -122.096093), (37.674909, -122.087448)]\n",
      "<class 'list'>\n"
     ]
    }
   ],
   "source": [
    "origin = final.origin.tolist()\n",
    "dest = final.destination.tolist()\n",
    "departures = final.departure_in_one_year.tolist()\n",
    "waypts = final.waypoints.tolist()\n",
    "\n",
    "print(f\"type of origin input: {type(origin)}\")\n",
    "print(f\"type of first row: {type(origin[0])}\")\n",
    "\n",
    "for i, tup in enumerate(zip(origin, dest)):\n",
    "    if i == 0:\n",
    "        print(i, tup)\n",
    "        print(tup[0])\n",
    "        print(departures[i])\n",
    "        print(waypts[i])\n",
    "        print(type(waypts[i]))"
   ]
  },
  {
   "cell_type": "markdown",
   "id": "2f423d38-d205-44fb-a1ce-c9688add9c00",
   "metadata": {},
   "source": [
    "### Test 1 query"
   ]
  },
  {
   "cell_type": "code",
   "execution_count": 17,
   "id": "7b8b68ba-273c-4e5d-a266-0db23f9879f2",
   "metadata": {},
   "outputs": [],
   "source": [
    "# Just do 1 query\n",
    "beginning = (37.721266, -122.160201)\n",
    "ending = (37.670239, -122.08718)\n",
    "departures1 = departures[0]\n",
    "waypts1 = waypts[0]"
   ]
  },
  {
   "cell_type": "markdown",
   "id": "54cab646-c82d-4dd2-84d3-970909635532",
   "metadata": {},
   "source": [
    "#### Compare waypoints (stop overs) with via travel time results\n",
    "\n",
    "* Waypoints, when defined, are using stop overs\n",
    "* If you use `via:` to define it, you will return `duration_in_traffic`, which is probably the more accurate result, since the car and the bus are both sitting in the same traffic\n",
    "* Able to submit `via:` with lat/lon points, don't just have to use place names."
   ]
  },
  {
   "cell_type": "code",
   "execution_count": 19,
   "id": "c9f5489a-2bcd-4238-ad56-edb3fb268275",
   "metadata": {},
   "outputs": [],
   "source": [
    "waypoints = gmaps.directions(beginning, ending, \n",
    "                 mode='driving', \n",
    "                 departure_time=departure1, \n",
    "                 waypoints=waypts1\n",
    "                )\n",
    "\n",
    "via = gmaps.directions(beginning, ending, \n",
    "                 mode='driving', \n",
    "                 departure_time=datetime.now() + timedelta(hours=4), \n",
    "                 waypoints=[f\"via:{lat},{lon}\" for lat, lon in waypts1]\n",
    "                )"
   ]
  },
  {
   "cell_type": "code",
   "execution_count": 23,
   "id": "b03e1122-221e-409d-b40b-929e9821b806",
   "metadata": {},
   "outputs": [],
   "source": [
    "# https://stackoverflow.com/questions/25052980/use-pickle-to-save-dictionary-in-python\n",
    "import pickle\n",
    "\n",
    "def pickle_request(my_list, name):\n",
    "    # result comes back as a list, but add [0] and it's a dict\n",
    "    my_dict = my_list[0]\n",
    "    pickle.dump(my_dict, open(f\"{name}.p\", \"wb\"))\n",
    "            \n",
    "    # To read in pickle\n",
    "    # dct_read = pickle.load(open(\"save.p\", \"rb\"))"
   ]
  },
  {
   "cell_type": "code",
   "execution_count": 24,
   "id": "2cda45d6-2213-44d4-a332-9953d5e47a88",
   "metadata": {},
   "outputs": [],
   "source": [
    "pickle_request(waypoints, \"waypoints_testquery\")\n",
    "pickle_request(via, \"via_testquery\")"
   ]
  },
  {
   "cell_type": "code",
   "execution_count": 25,
   "id": "3e47c148-c6ce-45e6-a490-66e999ee0468",
   "metadata": {},
   "outputs": [
    {
     "data": {
      "text/plain": [
       "(dict_keys(['bounds', 'copyrights', 'legs', 'overview_polyline', 'summary', 'warnings', 'waypoint_order']),\n",
       " dict_keys(['bounds', 'copyrights', 'legs', 'overview_polyline', 'summary', 'warnings', 'waypoint_order']))"
      ]
     },
     "execution_count": 25,
     "metadata": {},
     "output_type": "execute_result"
    }
   ],
   "source": [
    "# Same keys, but storing different info in legs\n",
    "via[0].keys(), waypoints[0].keys()"
   ]
  },
  {
   "cell_type": "code",
   "execution_count": 27,
   "id": "ec09eabc-87b5-4d41-8b6b-4be866e1bd63",
   "metadata": {},
   "outputs": [
    {
     "name": "stdout",
     "output_type": "stream",
     "text": [
      "via duration_in_traffic: {'text': '33 mins', 'value': 1953}\n",
      "via sum(duration): {'text': '30 mins', 'value': 1821}\n",
      "waypoints sum(duration) across legs: 1818\n"
     ]
    }
   ],
   "source": [
    "via_traffic = via[0][\"legs\"][0][\"duration_in_traffic\"]\n",
    "via_duration = via[0][\"legs\"][0][\"duration\"]\n",
    "waypoints_duration = sum(leg[\"duration\"][\"value\"] for leg in waypoints[0][\"legs\"])\n",
    "\n",
    "print(f\"via duration_in_traffic: {via_traffic}\")\n",
    "print(f\"via sum(duration): {via_duration}\") \n",
    "print(f\"waypoints sum(duration) across legs: {waypoints_duration}\")"
   ]
  },
  {
   "cell_type": "code",
   "execution_count": 28,
   "id": "61dfb427-01d9-41f3-a0b3-1a956d728dd8",
   "metadata": {},
   "outputs": [
    {
     "data": {
      "text/plain": [
       "{'distance': {'text': '0.6 mi', 'value': 896},\n",
       " 'duration': {'text': '3 mins', 'value': 197},\n",
       " 'end_address': 'E 14th St:W Estudillo Av, San Leandro, CA 94577, USA',\n",
       " 'end_location': {'lat': 37.7253055, 'lng': -122.1562549},\n",
       " 'start_address': 'San Leandro BART, San Leandro, CA 94577, USA',\n",
       " 'start_location': {'lat': 37.7211383, 'lng': -122.1605215},\n",
       " 'steps': [{'distance': {'text': '0.2 mi', 'value': 302},\n",
       "   'duration': {'text': '1 min', 'value': 83},\n",
       "   'end_location': {'lat': 37.7235451, 'lng': -122.1620907},\n",
       "   'html_instructions': 'Head <b>northwest</b> toward <b>Davis St</b>',\n",
       "   'polyline': {'points': 'clfeFfnrhVMHgAp@IHGBOBKDiBdAu@d@A@GBsAt@_@R_Ah@'},\n",
       "   'start_location': {'lat': 37.7211383, 'lng': -122.1605215},\n",
       "   'travel_mode': 'DRIVING'},\n",
       "  {'distance': {'text': '0.3 mi', 'value': 526},\n",
       "   'duration': {'text': '2 mins', 'value': 100},\n",
       "   'end_location': {'lat': 37.7257391, 'lng': -122.1567988},\n",
       "   'html_instructions': 'Turn <b>right</b> onto <b>Davis St</b>',\n",
       "   'maneuver': 'turn-right',\n",
       "   'polyline': {'points': 'e{feF`xrhVGQOg@Qg@M_@Ma@{@kC[aAm@oBUy@GSEOGSQi@Uq@u@aCw@kCEQa@qA'},\n",
       "   'start_location': {'lat': 37.7235451, 'lng': -122.1620907},\n",
       "   'travel_mode': 'DRIVING'},\n",
       "  {'distance': {'text': '223 ft', 'value': 68},\n",
       "   'duration': {'text': '1 min', 'value': 14},\n",
       "   'end_location': {'lat': 37.7253055, 'lng': -122.1562549},\n",
       "   'html_instructions': 'Turn <b>right</b> onto <b>E 14th St</b><div style=\"font-size:0.9em\">Destination will be on the right</div>',\n",
       "   'maneuver': 'turn-right',\n",
       "   'polyline': {'points': '{hgeF~vqhVj@q@^k@HO'},\n",
       "   'start_location': {'lat': 37.7257391, 'lng': -122.1567988},\n",
       "   'travel_mode': 'DRIVING'}],\n",
       " 'traffic_speed_entry': [],\n",
       " 'via_waypoint': []}"
      ]
     },
     "execution_count": 28,
     "metadata": {},
     "output_type": "execute_result"
    }
   ],
   "source": [
    "waypoints[0][\"legs\"][0]"
   ]
  },
  {
   "cell_type": "code",
   "execution_count": 31,
   "id": "188a60b7-52d4-4d6c-9f59-abb65f6cd42e",
   "metadata": {},
   "outputs": [
    {
     "data": {
      "text/plain": [
       "(dict_keys(['distance', 'duration', 'duration_in_traffic', 'end_address', 'end_location', 'start_address', 'start_location', 'steps', 'traffic_speed_entry', 'via_waypoint']),\n",
       " dict_keys(['distance', 'duration', 'end_address', 'end_location', 'start_address', 'start_location', 'steps', 'traffic_speed_entry', 'via_waypoint']))"
      ]
     },
     "execution_count": 31,
     "metadata": {},
     "output_type": "execute_result"
    }
   ],
   "source": [
    "via[0][\"legs\"][0].keys(), waypoints[0][\"legs\"][0].keys()"
   ]
  },
  {
   "cell_type": "code",
   "execution_count": 33,
   "id": "94c39752-7052-4952-b093-56ecf4438e3f",
   "metadata": {},
   "outputs": [],
   "source": [
    "w1 = waypoints[0]"
   ]
  },
  {
   "cell_type": "code",
   "execution_count": 34,
   "id": "82572399-12b3-4c43-9db1-0c3043233688",
   "metadata": {},
   "outputs": [],
   "source": [
    "#https://stackoverflow.com/questions/15380712/how-to-decode-polylines-from-google-maps-direction-api-in-php\n",
    "def decode_polyline(polyline_str):\n",
    "    index, lat, lng = 0, 0, 0\n",
    "    coordinates = []\n",
    "    changes = {'latitude': 0, 'longitude': 0}\n",
    "\n",
    "    # Coordinates have variable length when encoded, so just keep\n",
    "    # track of whether we've hit the end of the string. In each\n",
    "    # while loop iteration, a single coordinate is decoded.\n",
    "    while index < len(polyline_str):\n",
    "        # Gather lat/lon changes, store them in a dictionary to apply them later\n",
    "        for unit in ['latitude', 'longitude']: \n",
    "            shift, result = 0, 0\n",
    "\n",
    "            while True:\n",
    "                byte = ord(polyline_str[index]) - 63\n",
    "                index+=1\n",
    "                result |= (byte & 0x1f) << shift\n",
    "                shift += 5\n",
    "                if not byte >= 0x20:\n",
    "                    break\n",
    "\n",
    "            if (result & 1):\n",
    "                changes[unit] = ~(result >> 1)\n",
    "            else:\n",
    "                changes[unit] = (result >> 1)\n",
    "\n",
    "        lat += changes['latitude']\n",
    "        lng += changes['longitude']\n",
    "\n",
    "        coordinates.append((lat / 100000.0, lng / 100000.0))\n",
    "\n",
    "    return coordinates"
   ]
  },
  {
   "cell_type": "code",
   "execution_count": 35,
   "id": "2af9d1b3-fe4a-4929-8120-0b9033266cc5",
   "metadata": {},
   "outputs": [],
   "source": [
    "polyline = w1[\"overview_polyline\"]\n",
    "\n",
    "#https://github.com/geodav-tech/decode-google-maps-polyline\n",
    "polyline_decoded = decode_polyline(polyline[\"points\"])"
   ]
  },
  {
   "cell_type": "code",
   "execution_count": 36,
   "id": "f979fffc-dd6a-49b4-8ddf-c2251500a762",
   "metadata": {},
   "outputs": [],
   "source": [
    "polyline_gdf = (pd.DataFrame(polyline_decoded, )\n",
    "                .rename(columns = {0: \"longitude\", 1: \"latitude\"})\n",
    "               )\n",
    "\n",
    "polyline_gdf = gpd.GeoDataFrame(polyline_gdf, \n",
    "                                geometry=gpd.points_from_xy(polyline_gdf.longitude, \n",
    "                                                           polyline_gdf.latitude), \n",
    "                                crs=\"EPSG:4326\")"
   ]
  },
  {
   "cell_type": "code",
   "execution_count": 37,
   "id": "7a64bf70-5caa-4aee-a5e3-5a7bfc6e74ef",
   "metadata": {},
   "outputs": [],
   "source": [
    "import shapely\n",
    "\n",
    "polyline_gdf['group'] = 1\n",
    "\n",
    "polyline_gdf2 = polyline_gdf.groupby(\"group\")[\"geometry\"].apply(\n",
    "    lambda x: shapely.geometry.LineString(x.tolist())).reset_index()\n"
   ]
  },
  {
   "cell_type": "code",
   "execution_count": 38,
   "id": "023562a8-0a7f-4d82-8756-8a62b516dc35",
   "metadata": {},
   "outputs": [
    {
     "data": {
      "text/plain": [
       "<AxesSubplot:>"
      ]
     },
     "execution_count": 38,
     "metadata": {},
     "output_type": "execute_result"
    },
    {
     "data": {
      "image/png": "[encoded data removed]",
      "text/plain": [
       "<Figure size 432x288 with 1 Axes>"
      ]
     },
     "metadata": {
      "needs_background": "light"
     },
     "output_type": "display_data"
    }
   ],
   "source": [
    "polyline_gdf2.plot()"
   ]
  }
 ],
 "metadata": {
  "kernelspec": {
   "display_name": "Python 3 (ipykernel)",
   "language": "python",
   "name": "python3"
  },
  "language_info": {
   "codemirror_mode": {
    "name": "ipython",
    "version": 3
   },
   "file_extension": ".py",
   "mimetype": "text/x-python",
   "name": "python",
   "nbconvert_exporter": "python",
   "pygments_lexer": "ipython3",
   "version": "3.9.10"
  }
 },
 "nbformat": 4,
 "nbformat_minor": 5
}
