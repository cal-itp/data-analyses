{
 "cells": [
  {
   "cell_type": "markdown",
   "id": "3b7ff62b-45d8-42aa-8920-269d094d70eb",
   "metadata": {},
   "source": [
    "# Estimate car vs bus travel time\n",
    "\n",
    "* Pull out parallel routes. Run `setup_parallel_trips_with_stops.py`\n",
    "* Make car travel down same route as the bus. Use `googlemaps`, and set the departure hour to be the same time as bus route's.\n",
    "    * `osmx` snaps to nodes, but even for every 5th bus stop, it's snapping to same node.\n",
    "    * `osrm` wasn't able to be installed in Hub"
   ]
  },
  {
   "cell_type": "code",
   "execution_count": null,
   "id": "d873fe16-ee0f-4ef4-ab30-2b352dc06f53",
   "metadata": {},
   "outputs": [],
   "source": [
    "#!pip install -r requirements.txt"
   ]
  },
  {
   "cell_type": "code",
   "execution_count": 1,
   "id": "93a66400-c9f1-41f1-999b-3e9d6bb849bc",
   "metadata": {},
   "outputs": [
    {
     "name": "stderr",
     "output_type": "stream",
     "text": [
      "/opt/conda/lib/python3.9/site-packages/geopandas/_compat.py:111: UserWarning: The Shapely GEOS version (3.10.2-CAPI-1.16.0) is incompatible with the GEOS version PyGEOS was compiled with (3.10.1-CAPI-1.16.0). Conversions between both will be slow.\n",
      "  warnings.warn(\n"
     ]
    }
   ],
   "source": [
    "#https://stackoverflow.com/questions/55162077/how-to-get-the-driving-distance-between-two-geographical-coordinates-using-pytho\n",
    "import dotenv\n",
    "import geopandas as gpd\n",
    "import googlemaps\n",
    "import intake\n",
    "import os\n",
    "import pandas as pd\n",
    "\n",
    "from datetime import datetime, timedelta\n",
    "from siuba import *\n",
    "\n",
    "dotenv.load_dotenv(\"_env\")\n",
    "\n",
    "catalog = intake.open_catalog(\"./*.yml\")\n",
    "\n",
    "GOOGLE_API_KEY = os.environ[\"GOOGLE_API_KEY\"]"
   ]
  },
  {
   "cell_type": "code",
   "execution_count": 2,
   "id": "44a1015b-81e1-4972-88de-2eaab70717c6",
   "metadata": {},
   "outputs": [],
   "source": [
    "def grab_latlon_make_tuple(df, point_geom_col):\n",
    "    # Change this from shapely point to floats\n",
    "    df = df.assign(\n",
    "        longitude = df[point_geom_col].x,\n",
    "        latitude = df[point_geom_col].y,\n",
    "    )\n",
    "    \n",
    "    # Make tuples instead of just floats\n",
    "    df2 = (df.assign(\n",
    "            new = df.apply(lambda x: (x.latitude, x.longitude), axis=1)        \n",
    "        ).rename(columns = {\"new\": f\"{point_geom_col}_tuple\"})\n",
    "          .drop(columns = [\"latitude\", \"longitude\"])\n",
    "    )\n",
    "    \n",
    "    return df2"
   ]
  },
  {
   "cell_type": "code",
   "execution_count": 3,
   "id": "c5f79e0f-1b65-4610-96d8-aa6f12ebb70f",
   "metadata": {},
   "outputs": [],
   "source": [
    "def data_wrangling(df):\n",
    "    # Move this step into script later? \n",
    "    # Or just leave in this notebook, wrangle it into what goes into googlemaps\n",
    "    df = df.assign(\n",
    "        # Just grab time because googlemaps doesn't want past date \n",
    "        departure_time = pd.to_datetime(df.departure_time, errors=\"coerce\").dt.time,\n",
    "    )\n",
    "    \n",
    "    df2 = (grab_latlon_make_tuple(df, \"geometry\")\n",
    "           .drop(columns = \"geometry\")\n",
    "           .rename(columns = {\"geometry_tuple\": \"geometry\"})\n",
    "          )\n",
    "    \n",
    "    return df2"
   ]
  },
  {
   "cell_type": "code",
   "execution_count": 4,
   "id": "4502f221-6d43-400c-98ca-d4712d9a0316",
   "metadata": {},
   "outputs": [],
   "source": [
    "df = catalog.parallel_trips_with_stops.read()\n",
    "\n",
    "df = data_wrangling(df)\n",
    "\n",
    "# Selecting 2 trips\n",
    "keep_trips = [\n",
    "    -7505741281882708052,\n",
    "    -8806955513757008482 \n",
    "]\n",
    "\n",
    "df = df[df.trip_key.isin(keep_trips)].reset_index(drop=True)"
   ]
  },
  {
   "cell_type": "code",
   "execution_count": 128,
   "id": "addf8c48-5ef7-49c9-aa37-c91ab1dad1d0",
   "metadata": {},
   "outputs": [],
   "source": [
    "full_df[\"stop_rank\"] = full_df.groupby(trip_group).cumcount() + 1"
   ]
  },
  {
   "cell_type": "code",
   "execution_count": 130,
   "id": "9d042034-283b-4080-a567-55f5a0f47629",
   "metadata": {},
   "outputs": [
    {
     "data": {
      "text/plain": [
       "89.0"
      ]
     },
     "execution_count": 130,
     "metadata": {},
     "output_type": "execute_result"
    }
   ],
   "source": [
    "# every 3rd for shorter routes\n",
    "# every 4th, 5th for longer ones...stay under 25 waypoints\n",
    "full_df.stop_rank.max()/2"
   ]
  },
  {
   "cell_type": "code",
   "execution_count": null,
   "id": "63e58a89-5017-486a-b233-725e0bebf9bf",
   "metadata": {},
   "outputs": [],
   "source": [
    "# if there are any keys that don't have duration_in_traffic, throw an error and it's not getting what we expect\n"
   ]
  },
  {
   "cell_type": "code",
   "execution_count": 131,
   "id": "e61f39ea-7fff-4daf-9683-59dc13c84314",
   "metadata": {},
   "outputs": [],
   "source": [
    "# if it feels too slow, parallelize this in some way\n",
    "# async io it!\n",
    "# functools cache?\n",
    "# write a function, take beginning, end, waypoints, departure time, and have that\n",
    "# function reference the map's call"
   ]
  },
  {
   "cell_type": "code",
   "execution_count": 5,
   "id": "f2a1dacc-a8a2-4e3f-a6bf-47384fa29b6b",
   "metadata": {},
   "outputs": [],
   "source": [
    "trip_group = [\"calitp_itp_id\", \"route_id\", \"trip_id\", \"shape_id\"]\n",
    "\n",
    "def subset_stops(df, n):\n",
    "    # https://stackoverflow.com/questions/25055712/pandas-every-nth-row\n",
    "    # Maybe not use every bus stop, since bus stops are spaced fairly closely\n",
    "    # Maybe every other, every 3rd? want to mimic the bus route, do not want\n",
    "    # to stray too far\n",
    "\n",
    "    # df = df.iloc[::3]\n",
    "    df[\"stop_rank\"] = df.groupby(trip_group).cumcount() + 1\n",
    "    \n",
    "    subset = df[df.stop_rank % n == 0]\n",
    "    \n",
    "    return subset"
   ]
  },
  {
   "cell_type": "code",
   "execution_count": 6,
   "id": "856b2274-8a62-46c8-94a8-c7ee3724d630",
   "metadata": {},
   "outputs": [],
   "source": [
    "# For now, take every 3rd stop, stop 3, 6, 9..\n",
    "# Then, append 1st and last stops on to be origin/destination.\n",
    "# Potentially increase this to every 5th?\n",
    "subset = subset_stops(df, 3)"
   ]
  },
  {
   "cell_type": "code",
   "execution_count": 7,
   "id": "4e8f868f-7c47-487e-91a3-ace44e76fd5c",
   "metadata": {},
   "outputs": [],
   "source": [
    "def select_origin_destination(df):\n",
    "    df = df.assign(\n",
    "        origin = (df.sort_values(trip_group + [\"stop_sequence\"])\n",
    "                  .groupby(trip_group)[\"stop_sequence\"]\n",
    "                  .transform(\"min\")\n",
    "                 ),\n",
    "        destination = (df.sort_values(trip_group + [\"stop_sequence\"])\n",
    "                       .groupby(trip_group)[\"stop_sequence\"]\n",
    "                       .transform(\"max\")\n",
    "                      )\n",
    "    )\n",
    "    \n",
    "    df2 = (df[(df.stop_sequence == df.origin) | \n",
    "             (df.stop_sequence == df.destination)]\n",
    "           .reset_index(drop=True)\n",
    "          )\n",
    "    \n",
    "    \n",
    "    # Wrangle it so there are columns with previous point and current point in the same row\n",
    "    df2 = df2.assign(\n",
    "        previous = (df2.sort_values(trip_group + [\"stop_sequence\"])\n",
    "                        .groupby(trip_group)[\"geometry\"]\n",
    "                        .apply(lambda x: x.shift(1))\n",
    "                       ),\n",
    "    )\n",
    "    \n",
    "    # Only keep the observation that has start_geom (drop the first obs for each trip grouping)\n",
    "    df3 = (df2[df2.previous.notna()]\n",
    "           [trip_group + [\"departure_time\", \"geometry\", \"previous\"]]\n",
    "           .reset_index(drop=True)\n",
    "           .rename(columns = {\"geometry\": \"destination\", \n",
    "                              \"previous\": \"origin\"})\n",
    "          )\n",
    "    \n",
    "    return df3"
   ]
  },
  {
   "cell_type": "code",
   "execution_count": 8,
   "id": "9e5b00a3-0ce5-404a-a56a-a2b57e6d5ec0",
   "metadata": {},
   "outputs": [
    {
     "data": {
      "text/html": [
       "<div>\n",
       "<style scoped>\n",
       "    .dataframe tbody tr th:only-of-type {\n",
       "        vertical-align: middle;\n",
       "    }\n",
       "\n",
       "    .dataframe tbody tr th {\n",
       "        vertical-align: top;\n",
       "    }\n",
       "\n",
       "    .dataframe thead th {\n",
       "        text-align: right;\n",
       "    }\n",
       "</style>\n",
       "<table border=\"1\" class=\"dataframe\">\n",
       "  <thead>\n",
       "    <tr style=\"text-align: right;\">\n",
       "      <th></th>\n",
       "      <th>calitp_itp_id</th>\n",
       "      <th>route_id</th>\n",
       "      <th>trip_id</th>\n",
       "      <th>shape_id</th>\n",
       "      <th>departure_time</th>\n",
       "      <th>destination</th>\n",
       "      <th>origin</th>\n",
       "    </tr>\n",
       "  </thead>\n",
       "  <tbody>\n",
       "    <tr>\n",
       "      <th>0</th>\n",
       "      <td>4</td>\n",
       "      <td>10</td>\n",
       "      <td>13277020</td>\n",
       "      <td>shp-10-10</td>\n",
       "      <td>07:08:00</td>\n",
       "      <td>(37.670239, -122.08718)</td>\n",
       "      <td>(37.721266, -122.160201)</td>\n",
       "    </tr>\n",
       "    <tr>\n",
       "      <th>1</th>\n",
       "      <td>182</td>\n",
       "      <td>910-13153</td>\n",
       "      <td>10910002100513-DEC21</td>\n",
       "      <td>9100210_DEC21</td>\n",
       "      <td>06:02:00</td>\n",
       "      <td>(33.869338, -118.287306)</td>\n",
       "      <td>(34.072191, -118.045132)</td>\n",
       "    </tr>\n",
       "  </tbody>\n",
       "</table>\n",
       "</div>"
      ],
      "text/plain": [
       "   calitp_itp_id   route_id               trip_id       shape_id  \\\n",
       "0              4         10              13277020      shp-10-10   \n",
       "1            182  910-13153  10910002100513-DEC21  9100210_DEC21   \n",
       "\n",
       "  departure_time               destination                    origin  \n",
       "0       07:08:00   (37.670239, -122.08718)  (37.721266, -122.160201)  \n",
       "1       06:02:00  (33.869338, -118.287306)  (34.072191, -118.045132)  "
      ]
     },
     "execution_count": 8,
     "metadata": {},
     "output_type": "execute_result"
    }
   ],
   "source": [
    "od = select_origin_destination(df)\n",
    "od"
   ]
  },
  {
   "cell_type": "code",
   "execution_count": 9,
   "id": "f4457c26-91d0-4562-8081-1c93729a3d85",
   "metadata": {},
   "outputs": [],
   "source": [
    "# Try googlemaps.directions(), which allows for waypoints put in as an array\n",
    "def assemble_waypoints(df):\n",
    "    # Take all the stops in between origin/destination, put tuples into a list\n",
    "    #https://stackoverflow.com/questions/22219004/how-to-group-dataframe-rows-into-list-in-pandas-groupby\n",
    "    waypoint_df = (\n",
    "        df.sort_values(trip_group + [\"stop_sequence\"])\n",
    "        .groupby(trip_group)\n",
    "        .agg({\"geometry\": lambda x: list(x)})\n",
    "        .reset_index()\n",
    "        .rename(columns = {\"geometry\": \"waypoints\"})\n",
    "    )\n",
    "    \n",
    "    return waypoint_df"
   ]
  },
  {
   "cell_type": "code",
   "execution_count": 10,
   "id": "2d427fe2-4a43-4fb8-8b2d-743f12bb8bd1",
   "metadata": {},
   "outputs": [
    {
     "data": {
      "text/html": [
       "<div>\n",
       "<style scoped>\n",
       "    .dataframe tbody tr th:only-of-type {\n",
       "        vertical-align: middle;\n",
       "    }\n",
       "\n",
       "    .dataframe tbody tr th {\n",
       "        vertical-align: top;\n",
       "    }\n",
       "\n",
       "    .dataframe thead th {\n",
       "        text-align: right;\n",
       "    }\n",
       "</style>\n",
       "<table border=\"1\" class=\"dataframe\">\n",
       "  <thead>\n",
       "    <tr style=\"text-align: right;\">\n",
       "      <th></th>\n",
       "      <th>calitp_itp_id</th>\n",
       "      <th>route_id</th>\n",
       "      <th>trip_id</th>\n",
       "      <th>shape_id</th>\n",
       "      <th>waypoints</th>\n",
       "    </tr>\n",
       "  </thead>\n",
       "  <tbody>\n",
       "    <tr>\n",
       "      <th>0</th>\n",
       "      <td>4</td>\n",
       "      <td>10</td>\n",
       "      <td>13277020</td>\n",
       "      <td>shp-10-10</td>\n",
       "      <td>[(37.724727, -122.157549), (37.722488, -122.15...</td>\n",
       "    </tr>\n",
       "    <tr>\n",
       "      <th>1</th>\n",
       "      <td>182</td>\n",
       "      <td>910-13153</td>\n",
       "      <td>10910002100513-DEC21</td>\n",
       "      <td>9100210_DEC21</td>\n",
       "      <td>[(34.055644, -118.21099), (34.054253, -118.243...</td>\n",
       "    </tr>\n",
       "  </tbody>\n",
       "</table>\n",
       "</div>"
      ],
      "text/plain": [
       "   calitp_itp_id   route_id               trip_id       shape_id  \\\n",
       "0              4         10              13277020      shp-10-10   \n",
       "1            182  910-13153  10910002100513-DEC21  9100210_DEC21   \n",
       "\n",
       "                                           waypoints  \n",
       "0  [(37.724727, -122.157549), (37.722488, -122.15...  \n",
       "1  [(34.055644, -118.21099), (34.054253, -118.243...  "
      ]
     },
     "execution_count": 10,
     "metadata": {},
     "output_type": "execute_result"
    }
   ],
   "source": [
    "waypoints_by_trip = assemble_waypoints(subset)\n",
    "waypoints_by_trip"
   ]
  },
  {
   "cell_type": "code",
   "execution_count": 11,
   "id": "9e79a45b-9719-435f-9268-1acba2f36f69",
   "metadata": {},
   "outputs": [
    {
     "data": {
      "text/html": [
       "<div>\n",
       "<style scoped>\n",
       "    .dataframe tbody tr th:only-of-type {\n",
       "        vertical-align: middle;\n",
       "    }\n",
       "\n",
       "    .dataframe tbody tr th {\n",
       "        vertical-align: top;\n",
       "    }\n",
       "\n",
       "    .dataframe thead th {\n",
       "        text-align: right;\n",
       "    }\n",
       "</style>\n",
       "<table border=\"1\" class=\"dataframe\">\n",
       "  <thead>\n",
       "    <tr style=\"text-align: right;\">\n",
       "      <th></th>\n",
       "      <th>calitp_itp_id</th>\n",
       "      <th>route_id</th>\n",
       "      <th>trip_id</th>\n",
       "      <th>shape_id</th>\n",
       "      <th>departure_time</th>\n",
       "      <th>destination</th>\n",
       "      <th>origin</th>\n",
       "      <th>waypoints</th>\n",
       "    </tr>\n",
       "  </thead>\n",
       "  <tbody>\n",
       "    <tr>\n",
       "      <th>0</th>\n",
       "      <td>4</td>\n",
       "      <td>10</td>\n",
       "      <td>13277020</td>\n",
       "      <td>shp-10-10</td>\n",
       "      <td>07:08:00</td>\n",
       "      <td>(37.670239, -122.08718)</td>\n",
       "      <td>(37.721266, -122.160201)</td>\n",
       "      <td>[(37.724727, -122.157549), (37.722488, -122.15...</td>\n",
       "    </tr>\n",
       "    <tr>\n",
       "      <th>1</th>\n",
       "      <td>182</td>\n",
       "      <td>910-13153</td>\n",
       "      <td>10910002100513-DEC21</td>\n",
       "      <td>9100210_DEC21</td>\n",
       "      <td>06:02:00</td>\n",
       "      <td>(33.869338, -118.287306)</td>\n",
       "      <td>(34.072191, -118.045132)</td>\n",
       "      <td>[(34.055644, -118.21099), (34.054253, -118.243...</td>\n",
       "    </tr>\n",
       "  </tbody>\n",
       "</table>\n",
       "</div>"
      ],
      "text/plain": [
       "   calitp_itp_id   route_id               trip_id       shape_id  \\\n",
       "0              4         10              13277020      shp-10-10   \n",
       "1            182  910-13153  10910002100513-DEC21  9100210_DEC21   \n",
       "\n",
       "  departure_time               destination                    origin  \\\n",
       "0       07:08:00   (37.670239, -122.08718)  (37.721266, -122.160201)   \n",
       "1       06:02:00  (33.869338, -118.287306)  (34.072191, -118.045132)   \n",
       "\n",
       "                                           waypoints  \n",
       "0  [(37.724727, -122.157549), (37.722488, -122.15...  \n",
       "1  [(34.055644, -118.21099), (34.054253, -118.243...  "
      ]
     },
     "execution_count": 11,
     "metadata": {},
     "output_type": "execute_result"
    }
   ],
   "source": [
    "final = pd.merge(od, waypoints_by_trip, \n",
    "                 on = trip_group, how = \"inner\", validate = \"1:1\"\n",
    "                )\n",
    "\n",
    "final.head()"
   ]
  },
  {
   "cell_type": "code",
   "execution_count": null,
   "id": "20c7f00f-3d08-4d70-9dd4-fce162c4d781",
   "metadata": {},
   "outputs": [],
   "source": [
    "#https://www.geeksforgeeks.org/python-calculate-distance-duration-two-places-using-google-distance-matrix-api/"
   ]
  },
  {
   "cell_type": "code",
   "execution_count": 12,
   "id": "c4d3c969-5458-48ae-be9c-193d1c700184",
   "metadata": {},
   "outputs": [],
   "source": [
    "gmaps = googlemaps.Client(key=GOOGLE_API_KEY)"
   ]
  },
  {
   "cell_type": "code",
   "execution_count": 13,
   "id": "2d924d68-f894-41ae-9da7-b364d7ba747e",
   "metadata": {},
   "outputs": [],
   "source": [
    "one_hr_from_now = (datetime.now() + timedelta(hours=1)).time()"
   ]
  },
  {
   "cell_type": "code",
   "execution_count": null,
   "id": "7becba26-0cb5-4247-a9e5-18e676a9fe47",
   "metadata": {},
   "outputs": [],
   "source": [
    "# maxsize=None, cache "
   ]
  },
  {
   "cell_type": "code",
   "execution_count": 14,
   "id": "48e26721-6e14-499e-9051-c7cb6ea2f36e",
   "metadata": {},
   "outputs": [
    {
     "name": "stdout",
     "output_type": "stream",
     "text": [
      "type of origin input: <class 'list'>\n",
      "type of first row: <class 'tuple'>\n",
      "0 ((37.721266, -122.160201), (37.670239, -122.08718))\n",
      "(37.721266, -122.160201)\n",
      "17:27:19.803644\n",
      "[(37.724727, -122.157549), (37.722488, -122.152545), (37.717496, -122.145962), (37.71253, -122.139188), (37.705447, -122.12906), (37.699342, -122.121197), (37.698266, -122.124512), (37.695795, -122.11529), (37.690661, -122.107995), (37.683028, -122.097653), (37.67769, -122.090881), (37.670239, -122.08718)]\n",
      "<class 'list'>\n"
     ]
    }
   ],
   "source": [
    "origin = final.origin.tolist()\n",
    "dest = final.destination.tolist()\n",
    "#departures = final.departure_time.tolist()\n",
    "departures = [one_hr_from_now]\n",
    "waypts = final.waypoints.tolist()\n",
    "\n",
    "print(f\"type of origin input: {type(origin)}\")\n",
    "print(f\"type of first row: {type(origin[0])}\")\n",
    "\n",
    "for i, tup in enumerate(zip(origin, dest)):\n",
    "    if i == 0:\n",
    "        print(i, tup)\n",
    "        print(tup[0])\n",
    "        print(departures[i])\n",
    "        print(waypts[i])\n",
    "        print(type(waypts[i]))"
   ]
  },
  {
   "cell_type": "code",
   "execution_count": 15,
   "id": "7b8b68ba-273c-4e5d-a266-0db23f9879f2",
   "metadata": {},
   "outputs": [],
   "source": [
    "# Just do 1 query\n",
    "beginning = (37.721266, -122.160201)\n",
    "ending = (37.670239, -122.08718)\n",
    "departure1 = departures[0]\n",
    "waypts1 = waypts[0]"
   ]
  },
  {
   "cell_type": "code",
   "execution_count": null,
   "id": "1f218203-c3d3-4cf6-afb4-0f4849c93999",
   "metadata": {},
   "outputs": [],
   "source": [
    "# save as dictionary, save as pickle. request/response, save as pickle to be \"cache\""
   ]
  },
  {
   "cell_type": "code",
   "execution_count": 30,
   "id": "39a23ed3-719b-4270-bc80-172389da76be",
   "metadata": {},
   "outputs": [
    {
     "data": {
      "text/plain": [
       "[{'bounds': {'northeast': {'lat': 37.7211383, 'lng': -122.0873249},\n",
       "   'southwest': {'lat': 37.6662295, 'lng': -122.1682915}},\n",
       "  'copyrights': 'Map data ©2022',\n",
       "  'legs': [{'distance': {'text': '7.3 mi', 'value': 11705},\n",
       "    'duration': {'text': '15 mins', 'value': 928},\n",
       "    'end_address': 'Hayward BART, Hayward, CA 94541, USA',\n",
       "    'end_location': {'lat': 37.6702603, 'lng': -122.0873249},\n",
       "    'start_address': 'San Leandro BART, San Leandro, CA 94577, USA',\n",
       "    'start_location': {'lat': 37.7211383, 'lng': -122.1605215},\n",
       "    'steps': [{'distance': {'text': '489 ft', 'value': 149},\n",
       "      'duration': {'text': '1 min', 'value': 37},\n",
       "      'end_location': {'lat': 37.71998800000001, 'lng': -122.1596647},\n",
       "      'html_instructions': 'Head <b>southeast</b> toward <b>Parrott St</b>',\n",
       "      'polyline': {'points': 'clfeFfnrhVNI~@q@NKj@a@|@o@ZQ'},\n",
       "      'start_location': {'lat': 37.7211383, 'lng': -122.1605215},\n",
       "      'travel_mode': 'DRIVING'},\n",
       "     {'distance': {'text': '203 ft', 'value': 62},\n",
       "      'duration': {'text': '1 min', 'value': 19},\n",
       "      'end_location': {'lat': 37.7202455, 'lng': -122.1590436},\n",
       "      'html_instructions': 'Turn <b>left</b> onto <b>Parrott St</b>',\n",
       "      'maneuver': 'turn-left',\n",
       "      'polyline': {'points': '}dfeFzhrhVQi@a@qA'},\n",
       "      'start_location': {'lat': 37.71998800000001, 'lng': -122.1596647},\n",
       "      'travel_mode': 'DRIVING'},\n",
       "     {'distance': {'text': '0.4 mi', 'value': 644},\n",
       "      'duration': {'text': '1 min', 'value': 74},\n",
       "      'end_location': {'lat': 37.716029, 'lng': -122.1541937},\n",
       "      'html_instructions': 'Turn <b>right</b> at the 1st cross street onto <b>San Leandro Blvd</b>',\n",
       "      'maneuver': 'turn-right',\n",
       "      'polyline': {'points': 'qffeF~drhVT[^Uz@c@dA]ZUh@Yr@g@l@o@dAgB\\\\k@^m@HOb@q@n@eAp@iAT]l@cAfAeB`@s@h@}@'},\n",
       "      'start_location': {'lat': 37.7202455, 'lng': -122.1590436},\n",
       "      'travel_mode': 'DRIVING'},\n",
       "     {'distance': {'text': '0.9 mi', 'value': 1434},\n",
       "      'duration': {'text': '3 mins', 'value': 188},\n",
       "      'end_location': {'lat': 37.7099494, 'lng': -122.1682915},\n",
       "      'html_instructions': 'Turn <b>right</b> onto <b>Marina Blvd</b>',\n",
       "      'maneuver': 'turn-right',\n",
       "      'polyline': {'points': 'eleeFtfqhVJ?DAD@D?JDBBD@B@@?LCL`@Rj@LZd@|A\\\\dA\\\\hAXz@Ph@Pl@Nf@T|@DHr@`CjAzDNb@h@dBj@fBNd@JXRl@Rj@`@jACP?@@@Z~@rAbEn@zBh@dBL`@HXRl@J\\\\?@t@nCHTH\\\\t@fDFXNf@BJHX@BHTDL@BNd@@BZv@l@dBXx@'},\n",
       "      'start_location': {'lat': 37.716029, 'lng': -122.1541937},\n",
       "      'travel_mode': 'DRIVING'},\n",
       "     {'distance': {'text': '1.7 mi', 'value': 2728},\n",
       "      'duration': {'text': '2 mins', 'value': 121},\n",
       "      'end_location': {'lat': 37.6950599, 'lng': -122.1444662},\n",
       "      'html_instructions': 'Turn <b>left</b> to merge onto <b>I-880 S</b> toward <b>San jose</b>',\n",
       "      'maneuver': 'ramp-left',\n",
       "      'polyline': {'points': 'efdeFx~shV\\\\Sd@[JKFGDIDGBIDK?AFQ@K@K@S?M?SAYAUAUCSGg@Gi@AGEa@?QAM@K@U@KBMFWPe@LWFMj@gABO@E?CAWXc@t@oAjCeEpAwBt@oA\\\\i@JOTa@~AgCTa@bBoCP[rAwBnAsBtA{Bn@eAdAeBr@kAPYDGPYDGp@iAR[h@{@\\\\k@lB}CxBqDfAeB\\\\k@Tc@@?vCyEpBeDbAaBBEf@{@R[Zk@LQv@oA^o@jCiE^o@~@}AnAuBn@cAn@cANY~@{AT_@tBgD'},\n",
       "      'start_location': {'lat': 37.7099494, 'lng': -122.1682915},\n",
       "      'travel_mode': 'DRIVING'},\n",
       "     {'distance': {'text': '2.7 mi', 'value': 4275},\n",
       "      'duration': {'text': '3 mins', 'value': 159},\n",
       "      'end_location': {'lat': 37.6688315, 'lng': -122.1093219},\n",
       "      'html_instructions': 'Keep <b>left</b> to stay on <b>I-880 S</b>',\n",
       "      'maneuver': 'keep-left',\n",
       "      'polyline': {'points': 'ciaeF|iohVlAqBPYR]l@aAt@kAdCeErBeDp@iA\\\\i@l@cAf@y@DINWBENULU@?Vc@HOFKBEBCNWBEXe@NUHMT_@BEb@s@j@{@l@aAT_@PYZi@NUR[r@kAn@gAhCcEjAkBn@cA^m@HOb@s@x@sALQ^o@BIVa@z@uAJQzBsDNSj@}@TQd@w@h@_A`@q@`@s@FKPWDIJQf@w@NW|@{Al@_Ad@u@LUXe@t@mA|@{Af@s@BEDIDGBEDGFKJQPYR]hEcH@AVc@Va@FKp@iA`C{DVa@FI|CeFtA{BlAsBVc@@?DINWDKDG^s@bBaDd@{@Xg@LUR[`@u@JOBGFKV_@^m@NSHMFIDGRYd@o@@AnAiBt@cANW@?HMLQT]Xe@f@y@l@cANUTa@Va@b@s@R[^i@NUPWZc@Za@b@i@Z_@PQTW^_@LOJIVUd@c@f@c@|@s@^Y^Yb@Wj@_@\\\\QTOd@Sf@YfCsAVOl@['},\n",
       "      'start_location': {'lat': 37.6950599, 'lng': -122.1444662},\n",
       "      'travel_mode': 'DRIVING'},\n",
       "     {'distance': {'text': '0.2 mi', 'value': 301},\n",
       "      'duration': {'text': '1 min', 'value': 38},\n",
       "      'end_location': {'lat': 37.6663238, 'lng': -122.1081237},\n",
       "      'html_instructions': 'Take exit <b>29</b> toward <b>Downtown</b>',\n",
       "      'maneuver': 'ramp-right',\n",
       "      'polyline': {'points': 'ee|dFfnhhVPDF?HAx@]XMn@UXKHEbA_@lAk@RIh@SJKr@YXO'},\n",
       "      'start_location': {'lat': 37.6688315, 'lng': -122.1093219},\n",
       "      'travel_mode': 'DRIVING'},\n",
       "     {'distance': {'text': '1.1 mi', 'value': 1741},\n",
       "      'duration': {'text': '3 mins', 'value': 205},\n",
       "      'end_location': {'lat': 37.670914, 'lng': -122.0899045},\n",
       "      'html_instructions': 'Turn <b>left</b> onto <b>W A St</b><div style=\"font-size:0.9em\">Pass by Best Western Plus Inn Of Hayward (on the right)</div>',\n",
       "      'maneuver': 'turn-left',\n",
       "      'polyline': {'points': 'ou{dFvfhhVPGCiA?SAM?SAWAm@CmBCyAA_AA{BCoBAm@AWAYAM?U?cB?WD_ABm@BaABg@?Y?S?Q?[AWA]AQAc@AE?AA]Ca@AMC]AKE_@?CGe@?AESCUEUGUIa@Kc@Qs@Me@CEGQEOO[O_@g@aA_@w@Uc@i@kAM_@Wy@W{@s@{Bg@aBg@cBwAuE[cA[gAEMo@uBq@}BIUa@oAEOmAeDOe@_@kA'},\n",
       "      'start_location': {'lat': 37.6663238, 'lng': -122.1081237},\n",
       "      'travel_mode': 'DRIVING'},\n",
       "     {'distance': {'text': '364 ft', 'value': 111},\n",
       "      'duration': {'text': '1 min', 'value': 19},\n",
       "      'end_location': {'lat': 37.6700305, 'lng': -122.0893122},\n",
       "      'html_instructions': 'Turn <b>right</b> onto <b>Grand St</b>',\n",
       "      'maneuver': 'turn-right',\n",
       "      'polyline': {'points': 'er|dFztdhVr@a@HEpBmA'},\n",
       "      'start_location': {'lat': 37.670914, 'lng': -122.0899045},\n",
       "      'travel_mode': 'DRIVING'},\n",
       "     {'distance': {'text': '0.1 mi', 'value': 159},\n",
       "      'duration': {'text': '1 min', 'value': 32},\n",
       "      'end_location': {'lat': 37.6706701, 'lng': -122.0876976},\n",
       "      'html_instructions': 'Turn <b>left</b> onto <b>B St</b>',\n",
       "      'maneuver': 'turn-left',\n",
       "      'polyline': {'points': 'ul|dFdqdhVa@uAK[Yy@GQCKIWCMG_@Uq@'},\n",
       "      'start_location': {'lat': 37.6700305, 'lng': -122.0893122},\n",
       "      'travel_mode': 'DRIVING'},\n",
       "     {'distance': {'text': '331 ft', 'value': 101},\n",
       "      'duration': {'text': '1 min', 'value': 36},\n",
       "      'end_location': {'lat': 37.6702603, 'lng': -122.0873249},\n",
       "      'html_instructions': 'Turn <b>right</b><div style=\"font-size:0.9em\">Destination will be on the right</div>',\n",
       "      'maneuver': 'turn-right',\n",
       "      'polyline': {'points': 'up|dFbgdhV\\\\KDNDN@?@@DB@?@??A@?n@kAWU?A'},\n",
       "      'start_location': {'lat': 37.6706701, 'lng': -122.0876976},\n",
       "      'travel_mode': 'DRIVING'}],\n",
       "    'traffic_speed_entry': [],\n",
       "    'via_waypoint': []}],\n",
       "  'overview_polyline': {'points': 'clfeFfnrhVjCiB|@o@ZQQi@a@qAT[zAy@dA]ZUh@Yr@g@l@o@dAgB|@yAnCqElD{Fh@}@J?J?ZJD@LCL`@`@fAbAbDzA|E~ApFpDlLbAxC`@jACP@BnBbGxA`Fv@fChAdE|@`ERr@Z`An@dBfA~CbAo@^e@Pi@Dy@EyAUmBGaAH{@X}@Te@j@gABO@IAWXc@`EuGpDaGzN_VvS_]pXed@l\\\\si@nF_JfOiVpHwLbBsCjCgEj@}@TQnAwBbAeBj@_AfHkL|@{Af@s@HOVa@tHaMlPkXlEgItBsDxCkEfEeGdFmI|A{BlB}BnAqA|@y@dBwA~@s@nAw@`CoA~CcBl@[PDPArAk@vCgA`Bu@h@SJKlAi@PGCiAAa@Ak@KuHIqHCg@?yBLgEBgBEcBKyBKmAQqAc@qBk@qBmAmCu@{Aw@kBkCsIwDeMqBwGg@_B}AkE_@kAr@a@zBsAoA}DYqAUq@\\\\KJ^HDBAp@kAWW'},\n",
       "  'summary': 'I-880 S',\n",
       "  'warnings': [],\n",
       "  'waypoint_order': []}]"
      ]
     },
     "execution_count": 30,
     "metadata": {},
     "output_type": "execute_result"
    }
   ],
   "source": [
    "gmaps.directions(beginning, ending, \n",
    "                 mode='driving', \n",
    "                 #departure_time=departure1, \n",
    "                 #waypoints=waypts1\n",
    "                )"
   ]
  },
  {
   "cell_type": "code",
   "execution_count": 31,
   "id": "0662f35a-9476-477f-a7a5-0cac857b5fe1",
   "metadata": {},
   "outputs": [],
   "source": [
    "test_result = gmaps.directions(beginning, ending, \n",
    "                 mode='driving', \n",
    "                 #departure_time=departure1, \n",
    "                 #waypoints=waypts1\n",
    "                )"
   ]
  },
  {
   "cell_type": "code",
   "execution_count": 38,
   "id": "42fcb1fb-006c-483a-ace9-5a4a285ce141",
   "metadata": {},
   "outputs": [],
   "source": [
    "my_dict = test_result[0]"
   ]
  },
  {
   "cell_type": "code",
   "execution_count": 40,
   "id": "1091c9f2-e062-4935-b893-11585149567c",
   "metadata": {},
   "outputs": [
    {
     "name": "stdout",
     "output_type": "stream",
     "text": [
      "bounds\n",
      "copyrights\n",
      "legs\n",
      "overview_polyline\n",
      "summary\n",
      "warnings\n",
      "waypoint_order\n"
     ]
    }
   ],
   "source": [
    "for key in my_dict.keys():\n",
    "    print(key)"
   ]
  },
  {
   "cell_type": "code",
   "execution_count": 46,
   "id": "97f5d738-addd-49ec-a202-c5d24563569f",
   "metadata": {},
   "outputs": [
    {
     "data": {
      "text/plain": [
       "'I-880 S'"
      ]
     },
     "execution_count": 46,
     "metadata": {},
     "output_type": "execute_result"
    }
   ],
   "source": [
    "my_dict[\"summary\"]"
   ]
  },
  {
   "cell_type": "code",
   "execution_count": 42,
   "id": "935d777f-8e79-4a54-a88f-fce8bd5cd896",
   "metadata": {},
   "outputs": [
    {
     "data": {
      "text/plain": [
       "[{'distance': {'text': '7.3 mi', 'value': 11705},\n",
       "  'duration': {'text': '15 mins', 'value': 928},\n",
       "  'end_address': 'Hayward BART, Hayward, CA 94541, USA',\n",
       "  'end_location': {'lat': 37.6702603, 'lng': -122.0873249},\n",
       "  'start_address': 'San Leandro BART, San Leandro, CA 94577, USA',\n",
       "  'start_location': {'lat': 37.7211383, 'lng': -122.1605215},\n",
       "  'steps': [{'distance': {'text': '489 ft', 'value': 149},\n",
       "    'duration': {'text': '1 min', 'value': 37},\n",
       "    'end_location': {'lat': 37.71998800000001, 'lng': -122.1596647},\n",
       "    'html_instructions': 'Head <b>southeast</b> toward <b>Parrott St</b>',\n",
       "    'polyline': {'points': 'clfeFfnrhVNI~@q@NKj@a@|@o@ZQ'},\n",
       "    'start_location': {'lat': 37.7211383, 'lng': -122.1605215},\n",
       "    'travel_mode': 'DRIVING'},\n",
       "   {'distance': {'text': '203 ft', 'value': 62},\n",
       "    'duration': {'text': '1 min', 'value': 19},\n",
       "    'end_location': {'lat': 37.7202455, 'lng': -122.1590436},\n",
       "    'html_instructions': 'Turn <b>left</b> onto <b>Parrott St</b>',\n",
       "    'maneuver': 'turn-left',\n",
       "    'polyline': {'points': '}dfeFzhrhVQi@a@qA'},\n",
       "    'start_location': {'lat': 37.71998800000001, 'lng': -122.1596647},\n",
       "    'travel_mode': 'DRIVING'},\n",
       "   {'distance': {'text': '0.4 mi', 'value': 644},\n",
       "    'duration': {'text': '1 min', 'value': 74},\n",
       "    'end_location': {'lat': 37.716029, 'lng': -122.1541937},\n",
       "    'html_instructions': 'Turn <b>right</b> at the 1st cross street onto <b>San Leandro Blvd</b>',\n",
       "    'maneuver': 'turn-right',\n",
       "    'polyline': {'points': 'qffeF~drhVT[^Uz@c@dA]ZUh@Yr@g@l@o@dAgB\\\\k@^m@HOb@q@n@eAp@iAT]l@cAfAeB`@s@h@}@'},\n",
       "    'start_location': {'lat': 37.7202455, 'lng': -122.1590436},\n",
       "    'travel_mode': 'DRIVING'},\n",
       "   {'distance': {'text': '0.9 mi', 'value': 1434},\n",
       "    'duration': {'text': '3 mins', 'value': 188},\n",
       "    'end_location': {'lat': 37.7099494, 'lng': -122.1682915},\n",
       "    'html_instructions': 'Turn <b>right</b> onto <b>Marina Blvd</b>',\n",
       "    'maneuver': 'turn-right',\n",
       "    'polyline': {'points': 'eleeFtfqhVJ?DAD@D?JDBBD@B@@?LCL`@Rj@LZd@|A\\\\dA\\\\hAXz@Ph@Pl@Nf@T|@DHr@`CjAzDNb@h@dBj@fBNd@JXRl@Rj@`@jACP?@@@Z~@rAbEn@zBh@dBL`@HXRl@J\\\\?@t@nCHTH\\\\t@fDFXNf@BJHX@BHTDL@BNd@@BZv@l@dBXx@'},\n",
       "    'start_location': {'lat': 37.716029, 'lng': -122.1541937},\n",
       "    'travel_mode': 'DRIVING'},\n",
       "   {'distance': {'text': '1.7 mi', 'value': 2728},\n",
       "    'duration': {'text': '2 mins', 'value': 121},\n",
       "    'end_location': {'lat': 37.6950599, 'lng': -122.1444662},\n",
       "    'html_instructions': 'Turn <b>left</b> to merge onto <b>I-880 S</b> toward <b>San jose</b>',\n",
       "    'maneuver': 'ramp-left',\n",
       "    'polyline': {'points': 'efdeFx~shV\\\\Sd@[JKFGDIDGBIDK?AFQ@K@K@S?M?SAYAUAUCSGg@Gi@AGEa@?QAM@K@U@KBMFWPe@LWFMj@gABO@E?CAWXc@t@oAjCeEpAwBt@oA\\\\i@JOTa@~AgCTa@bBoCP[rAwBnAsBtA{Bn@eAdAeBr@kAPYDGPYDGp@iAR[h@{@\\\\k@lB}CxBqDfAeB\\\\k@Tc@@?vCyEpBeDbAaBBEf@{@R[Zk@LQv@oA^o@jCiE^o@~@}AnAuBn@cAn@cANY~@{AT_@tBgD'},\n",
       "    'start_location': {'lat': 37.7099494, 'lng': -122.1682915},\n",
       "    'travel_mode': 'DRIVING'},\n",
       "   {'distance': {'text': '2.7 mi', 'value': 4275},\n",
       "    'duration': {'text': '3 mins', 'value': 159},\n",
       "    'end_location': {'lat': 37.6688315, 'lng': -122.1093219},\n",
       "    'html_instructions': 'Keep <b>left</b> to stay on <b>I-880 S</b>',\n",
       "    'maneuver': 'keep-left',\n",
       "    'polyline': {'points': 'ciaeF|iohVlAqBPYR]l@aAt@kAdCeErBeDp@iA\\\\i@l@cAf@y@DINWBENULU@?Vc@HOFKBEBCNWBEXe@NUHMT_@BEb@s@j@{@l@aAT_@PYZi@NUR[r@kAn@gAhCcEjAkBn@cA^m@HOb@s@x@sALQ^o@BIVa@z@uAJQzBsDNSj@}@TQd@w@h@_A`@q@`@s@FKPWDIJQf@w@NW|@{Al@_Ad@u@LUXe@t@mA|@{Af@s@BEDIDGBEDGFKJQPYR]hEcH@AVc@Va@FKp@iA`C{DVa@FI|CeFtA{BlAsBVc@@?DINWDKDG^s@bBaDd@{@Xg@LUR[`@u@JOBGFKV_@^m@NSHMFIDGRYd@o@@AnAiBt@cANW@?HMLQT]Xe@f@y@l@cANUTa@Va@b@s@R[^i@NUPWZc@Za@b@i@Z_@PQTW^_@LOJIVUd@c@f@c@|@s@^Y^Yb@Wj@_@\\\\QTOd@Sf@YfCsAVOl@['},\n",
       "    'start_location': {'lat': 37.6950599, 'lng': -122.1444662},\n",
       "    'travel_mode': 'DRIVING'},\n",
       "   {'distance': {'text': '0.2 mi', 'value': 301},\n",
       "    'duration': {'text': '1 min', 'value': 38},\n",
       "    'end_location': {'lat': 37.6663238, 'lng': -122.1081237},\n",
       "    'html_instructions': 'Take exit <b>29</b> toward <b>Downtown</b>',\n",
       "    'maneuver': 'ramp-right',\n",
       "    'polyline': {'points': 'ee|dFfnhhVPDF?HAx@]XMn@UXKHEbA_@lAk@RIh@SJKr@YXO'},\n",
       "    'start_location': {'lat': 37.6688315, 'lng': -122.1093219},\n",
       "    'travel_mode': 'DRIVING'},\n",
       "   {'distance': {'text': '1.1 mi', 'value': 1741},\n",
       "    'duration': {'text': '3 mins', 'value': 205},\n",
       "    'end_location': {'lat': 37.670914, 'lng': -122.0899045},\n",
       "    'html_instructions': 'Turn <b>left</b> onto <b>W A St</b><div style=\"font-size:0.9em\">Pass by Best Western Plus Inn Of Hayward (on the right)</div>',\n",
       "    'maneuver': 'turn-left',\n",
       "    'polyline': {'points': 'ou{dFvfhhVPGCiA?SAM?SAWAm@CmBCyAA_AA{BCoBAm@AWAYAM?U?cB?WD_ABm@BaABg@?Y?S?Q?[AWA]AQAc@AE?AA]Ca@AMC]AKE_@?CGe@?AESCUEUGUIa@Kc@Qs@Me@CEGQEOO[O_@g@aA_@w@Uc@i@kAM_@Wy@W{@s@{Bg@aBg@cBwAuE[cA[gAEMo@uBq@}BIUa@oAEOmAeDOe@_@kA'},\n",
       "    'start_location': {'lat': 37.6663238, 'lng': -122.1081237},\n",
       "    'travel_mode': 'DRIVING'},\n",
       "   {'distance': {'text': '364 ft', 'value': 111},\n",
       "    'duration': {'text': '1 min', 'value': 19},\n",
       "    'end_location': {'lat': 37.6700305, 'lng': -122.0893122},\n",
       "    'html_instructions': 'Turn <b>right</b> onto <b>Grand St</b>',\n",
       "    'maneuver': 'turn-right',\n",
       "    'polyline': {'points': 'er|dFztdhVr@a@HEpBmA'},\n",
       "    'start_location': {'lat': 37.670914, 'lng': -122.0899045},\n",
       "    'travel_mode': 'DRIVING'},\n",
       "   {'distance': {'text': '0.1 mi', 'value': 159},\n",
       "    'duration': {'text': '1 min', 'value': 32},\n",
       "    'end_location': {'lat': 37.6706701, 'lng': -122.0876976},\n",
       "    'html_instructions': 'Turn <b>left</b> onto <b>B St</b>',\n",
       "    'maneuver': 'turn-left',\n",
       "    'polyline': {'points': 'ul|dFdqdhVa@uAK[Yy@GQCKIWCMG_@Uq@'},\n",
       "    'start_location': {'lat': 37.6700305, 'lng': -122.0893122},\n",
       "    'travel_mode': 'DRIVING'},\n",
       "   {'distance': {'text': '331 ft', 'value': 101},\n",
       "    'duration': {'text': '1 min', 'value': 36},\n",
       "    'end_location': {'lat': 37.6702603, 'lng': -122.0873249},\n",
       "    'html_instructions': 'Turn <b>right</b><div style=\"font-size:0.9em\">Destination will be on the right</div>',\n",
       "    'maneuver': 'turn-right',\n",
       "    'polyline': {'points': 'up|dFbgdhV\\\\KDNDN@?@@DB@?@??A@?n@kAWU?A'},\n",
       "    'start_location': {'lat': 37.6706701, 'lng': -122.0876976},\n",
       "    'travel_mode': 'DRIVING'}],\n",
       "  'traffic_speed_entry': [],\n",
       "  'via_waypoint': []}]"
      ]
     },
     "execution_count": 42,
     "metadata": {},
     "output_type": "execute_result"
    }
   ],
   "source": [
    "my_dict[\"legs\"]"
   ]
  },
  {
   "cell_type": "code",
   "execution_count": 54,
   "id": "564118f0-2097-41bc-8e24-a86b773e15f1",
   "metadata": {},
   "outputs": [],
   "source": [
    "journey = my_dict[\"legs\"][0]"
   ]
  },
  {
   "cell_type": "code",
   "execution_count": 59,
   "id": "03692aa2-162e-4b62-8977-01b231f75851",
   "metadata": {},
   "outputs": [
    {
     "name": "stdout",
     "output_type": "stream",
     "text": [
      "distance\n",
      "{'text': '7.3 mi', 'value': 11705}\n",
      "duration\n",
      "{'text': '15 mins', 'value': 928}\n",
      "end_address\n",
      "Hayward BART, Hayward, CA 94541, USA\n",
      "end_location\n",
      "{'lat': 37.6702603, 'lng': -122.0873249}\n",
      "start_address\n",
      "San Leandro BART, San Leandro, CA 94577, USA\n",
      "start_location\n",
      "{'lat': 37.7211383, 'lng': -122.1605215}\n",
      "steps\n",
      "[{'distance': {'text': '489 ft', 'value': 149}, 'duration': {'text': '1 min', 'value': 37}, 'end_location': {'lat': 37.71998800000001, 'lng': -122.1596647}, 'html_instructions': 'Head <b>southeast</b> toward <b>Parrott St</b>', 'polyline': {'points': 'clfeFfnrhVNI~@q@NKj@a@|@o@ZQ'}, 'start_location': {'lat': 37.7211383, 'lng': -122.1605215}, 'travel_mode': 'DRIVING'}, {'distance': {'text': '203 ft', 'value': 62}, 'duration': {'text': '1 min', 'value': 19}, 'end_location': {'lat': 37.7202455, 'lng': -122.1590436}, 'html_instructions': 'Turn <b>left</b> onto <b>Parrott St</b>', 'maneuver': 'turn-left', 'polyline': {'points': '}dfeFzhrhVQi@a@qA'}, 'start_location': {'lat': 37.71998800000001, 'lng': -122.1596647}, 'travel_mode': 'DRIVING'}, {'distance': {'text': '0.4 mi', 'value': 644}, 'duration': {'text': '1 min', 'value': 74}, 'end_location': {'lat': 37.716029, 'lng': -122.1541937}, 'html_instructions': 'Turn <b>right</b> at the 1st cross street onto <b>San Leandro Blvd</b>', 'maneuver': 'turn-right', 'polyline': {'points': 'qffeF~drhVT[^Uz@c@dA]ZUh@Yr@g@l@o@dAgB\\\\k@^m@HOb@q@n@eAp@iAT]l@cAfAeB`@s@h@}@'}, 'start_location': {'lat': 37.7202455, 'lng': -122.1590436}, 'travel_mode': 'DRIVING'}, {'distance': {'text': '0.9 mi', 'value': 1434}, 'duration': {'text': '3 mins', 'value': 188}, 'end_location': {'lat': 37.7099494, 'lng': -122.1682915}, 'html_instructions': 'Turn <b>right</b> onto <b>Marina Blvd</b>', 'maneuver': 'turn-right', 'polyline': {'points': 'eleeFtfqhVJ?DAD@D?JDBBD@B@@?LCL`@Rj@LZd@|A\\\\dA\\\\hAXz@Ph@Pl@Nf@T|@DHr@`CjAzDNb@h@dBj@fBNd@JXRl@Rj@`@jACP?@@@Z~@rAbEn@zBh@dBL`@HXRl@J\\\\?@t@nCHTH\\\\t@fDFXNf@BJHX@BHTDL@BNd@@BZv@l@dBXx@'}, 'start_location': {'lat': 37.716029, 'lng': -122.1541937}, 'travel_mode': 'DRIVING'}, {'distance': {'text': '1.7 mi', 'value': 2728}, 'duration': {'text': '2 mins', 'value': 121}, 'end_location': {'lat': 37.6950599, 'lng': -122.1444662}, 'html_instructions': 'Turn <b>left</b> to merge onto <b>I-880 S</b> toward <b>San jose</b>', 'maneuver': 'ramp-left', 'polyline': {'points': 'efdeFx~shV\\\\Sd@[JKFGDIDGBIDK?AFQ@K@K@S?M?SAYAUAUCSGg@Gi@AGEa@?QAM@K@U@KBMFWPe@LWFMj@gABO@E?CAWXc@t@oAjCeEpAwBt@oA\\\\i@JOTa@~AgCTa@bBoCP[rAwBnAsBtA{Bn@eAdAeBr@kAPYDGPYDGp@iAR[h@{@\\\\k@lB}CxBqDfAeB\\\\k@Tc@@?vCyEpBeDbAaBBEf@{@R[Zk@LQv@oA^o@jCiE^o@~@}AnAuBn@cAn@cANY~@{AT_@tBgD'}, 'start_location': {'lat': 37.7099494, 'lng': -122.1682915}, 'travel_mode': 'DRIVING'}, {'distance': {'text': '2.7 mi', 'value': 4275}, 'duration': {'text': '3 mins', 'value': 159}, 'end_location': {'lat': 37.6688315, 'lng': -122.1093219}, 'html_instructions': 'Keep <b>left</b> to stay on <b>I-880 S</b>', 'maneuver': 'keep-left', 'polyline': {'points': 'ciaeF|iohVlAqBPYR]l@aAt@kAdCeErBeDp@iA\\\\i@l@cAf@y@DINWBENULU@?Vc@HOFKBEBCNWBEXe@NUHMT_@BEb@s@j@{@l@aAT_@PYZi@NUR[r@kAn@gAhCcEjAkBn@cA^m@HOb@s@x@sALQ^o@BIVa@z@uAJQzBsDNSj@}@TQd@w@h@_A`@q@`@s@FKPWDIJQf@w@NW|@{Al@_Ad@u@LUXe@t@mA|@{Af@s@BEDIDGBEDGFKJQPYR]hEcH@AVc@Va@FKp@iA`C{DVa@FI|CeFtA{BlAsBVc@@?DINWDKDG^s@bBaDd@{@Xg@LUR[`@u@JOBGFKV_@^m@NSHMFIDGRYd@o@@AnAiBt@cANW@?HMLQT]Xe@f@y@l@cANUTa@Va@b@s@R[^i@NUPWZc@Za@b@i@Z_@PQTW^_@LOJIVUd@c@f@c@|@s@^Y^Yb@Wj@_@\\\\QTOd@Sf@YfCsAVOl@['}, 'start_location': {'lat': 37.6950599, 'lng': -122.1444662}, 'travel_mode': 'DRIVING'}, {'distance': {'text': '0.2 mi', 'value': 301}, 'duration': {'text': '1 min', 'value': 38}, 'end_location': {'lat': 37.6663238, 'lng': -122.1081237}, 'html_instructions': 'Take exit <b>29</b> toward <b>Downtown</b>', 'maneuver': 'ramp-right', 'polyline': {'points': 'ee|dFfnhhVPDF?HAx@]XMn@UXKHEbA_@lAk@RIh@SJKr@YXO'}, 'start_location': {'lat': 37.6688315, 'lng': -122.1093219}, 'travel_mode': 'DRIVING'}, {'distance': {'text': '1.1 mi', 'value': 1741}, 'duration': {'text': '3 mins', 'value': 205}, 'end_location': {'lat': 37.670914, 'lng': -122.0899045}, 'html_instructions': 'Turn <b>left</b> onto <b>W A St</b><div style=\"font-size:0.9em\">Pass by Best Western Plus Inn Of Hayward (on the right)</div>', 'maneuver': 'turn-left', 'polyline': {'points': 'ou{dFvfhhVPGCiA?SAM?SAWAm@CmBCyAA_AA{BCoBAm@AWAYAM?U?cB?WD_ABm@BaABg@?Y?S?Q?[AWA]AQAc@AE?AA]Ca@AMC]AKE_@?CGe@?AESCUEUGUIa@Kc@Qs@Me@CEGQEOO[O_@g@aA_@w@Uc@i@kAM_@Wy@W{@s@{Bg@aBg@cBwAuE[cA[gAEMo@uBq@}BIUa@oAEOmAeDOe@_@kA'}, 'start_location': {'lat': 37.6663238, 'lng': -122.1081237}, 'travel_mode': 'DRIVING'}, {'distance': {'text': '364 ft', 'value': 111}, 'duration': {'text': '1 min', 'value': 19}, 'end_location': {'lat': 37.6700305, 'lng': -122.0893122}, 'html_instructions': 'Turn <b>right</b> onto <b>Grand St</b>', 'maneuver': 'turn-right', 'polyline': {'points': 'er|dFztdhVr@a@HEpBmA'}, 'start_location': {'lat': 37.670914, 'lng': -122.0899045}, 'travel_mode': 'DRIVING'}, {'distance': {'text': '0.1 mi', 'value': 159}, 'duration': {'text': '1 min', 'value': 32}, 'end_location': {'lat': 37.6706701, 'lng': -122.0876976}, 'html_instructions': 'Turn <b>left</b> onto <b>B St</b>', 'maneuver': 'turn-left', 'polyline': {'points': 'ul|dFdqdhVa@uAK[Yy@GQCKIWCMG_@Uq@'}, 'start_location': {'lat': 37.6700305, 'lng': -122.0893122}, 'travel_mode': 'DRIVING'}, {'distance': {'text': '331 ft', 'value': 101}, 'duration': {'text': '1 min', 'value': 36}, 'end_location': {'lat': 37.6702603, 'lng': -122.0873249}, 'html_instructions': 'Turn <b>right</b><div style=\"font-size:0.9em\">Destination will be on the right</div>', 'maneuver': 'turn-right', 'polyline': {'points': 'up|dFbgdhV\\\\KDNDN@?@@DB@?@??A@?n@kAWU?A'}, 'start_location': {'lat': 37.6706701, 'lng': -122.0876976}, 'travel_mode': 'DRIVING'}]\n",
      "traffic_speed_entry\n",
      "[]\n",
      "via_waypoint\n",
      "[]\n"
     ]
    }
   ],
   "source": [
    "for key, value in journey.items():\n",
    "    print(key)\n",
    "    print(value)"
   ]
  },
  {
   "cell_type": "code",
   "execution_count": 67,
   "id": "15c753cf-fa32-4e09-b386-703b553768d0",
   "metadata": {},
   "outputs": [
    {
     "data": {
      "text/plain": [
       "datetime.time(17, 27, 19, 803644)"
      ]
     },
     "execution_count": 67,
     "metadata": {},
     "output_type": "execute_result"
    }
   ],
   "source": [
    "# add 7 days in the future\n",
    "# test a week, 6 weeks from now, google maps probs does day of week/time of day, not seasonal\n",
    "# timedelta as number of weeks (integer), add 1, adjust that forward\n",
    "# <25 waypoints, <10 waypoints, or else pay extra, \n",
    "# if you have more than 25, you have to break it into 2 requests"
   ]
  },
  {
   "cell_type": "code",
   "execution_count": 16,
   "id": "c9f5489a-2bcd-4238-ad56-edb3fb268275",
   "metadata": {},
   "outputs": [
    {
     "ename": "HTTPError",
     "evalue": "HTTP Error: 400",
     "output_type": "error",
     "traceback": [
      "\u001b[0;31m---------------------------------------------------------------------------\u001b[0m",
      "\u001b[0;31mHTTPError\u001b[0m                                 Traceback (most recent call last)",
      "Input \u001b[0;32mIn [16]\u001b[0m, in \u001b[0;36m<cell line: 1>\u001b[0;34m()\u001b[0m\n\u001b[0;32m----> 1\u001b[0m \u001b[43mgmaps\u001b[49m\u001b[38;5;241;43m.\u001b[39;49m\u001b[43mdirections\u001b[49m\u001b[43m(\u001b[49m\u001b[43mbeginning\u001b[49m\u001b[43m,\u001b[49m\u001b[43m \u001b[49m\u001b[43mending\u001b[49m\u001b[43m,\u001b[49m\u001b[43m \u001b[49m\n\u001b[1;32m      2\u001b[0m \u001b[43m                 \u001b[49m\u001b[43mmode\u001b[49m\u001b[38;5;241;43m=\u001b[39;49m\u001b[38;5;124;43m'\u001b[39;49m\u001b[38;5;124;43mdriving\u001b[39;49m\u001b[38;5;124;43m'\u001b[39;49m\u001b[43m,\u001b[49m\u001b[43m \u001b[49m\n\u001b[1;32m      3\u001b[0m \u001b[43m                 \u001b[49m\u001b[43mdeparture_time\u001b[49m\u001b[38;5;241;43m=\u001b[39;49m\u001b[43mdeparture1\u001b[49m\u001b[43m,\u001b[49m\u001b[43m \u001b[49m\n\u001b[1;32m      4\u001b[0m \u001b[43m                 \u001b[49m\u001b[38;5;66;43;03m#waypoints=waypts1\u001b[39;49;00m\n\u001b[1;32m      5\u001b[0m \u001b[43m                \u001b[49m\u001b[43m)\u001b[49m\n",
      "File \u001b[0;32m/opt/conda/lib/python3.9/site-packages/googlemaps/client.py:420\u001b[0m, in \u001b[0;36mmake_api_method.<locals>.wrapper\u001b[0;34m(*args, **kwargs)\u001b[0m\n\u001b[1;32m    417\u001b[0m \u001b[38;5;129m@functools\u001b[39m\u001b[38;5;241m.\u001b[39mwraps(func)\n\u001b[1;32m    418\u001b[0m \u001b[38;5;28;01mdef\u001b[39;00m \u001b[38;5;21mwrapper\u001b[39m(\u001b[38;5;241m*\u001b[39margs, \u001b[38;5;241m*\u001b[39m\u001b[38;5;241m*\u001b[39mkwargs):\n\u001b[1;32m    419\u001b[0m     args[\u001b[38;5;241m0\u001b[39m]\u001b[38;5;241m.\u001b[39m_extra_params \u001b[38;5;241m=\u001b[39m kwargs\u001b[38;5;241m.\u001b[39mpop(\u001b[38;5;124m\"\u001b[39m\u001b[38;5;124mextra_params\u001b[39m\u001b[38;5;124m\"\u001b[39m, \u001b[38;5;28;01mNone\u001b[39;00m)\n\u001b[0;32m--> 420\u001b[0m     result \u001b[38;5;241m=\u001b[39m \u001b[43mfunc\u001b[49m\u001b[43m(\u001b[49m\u001b[38;5;241;43m*\u001b[39;49m\u001b[43margs\u001b[49m\u001b[43m,\u001b[49m\u001b[43m \u001b[49m\u001b[38;5;241;43m*\u001b[39;49m\u001b[38;5;241;43m*\u001b[39;49m\u001b[43mkwargs\u001b[49m\u001b[43m)\u001b[49m\n\u001b[1;32m    421\u001b[0m     \u001b[38;5;28;01mtry\u001b[39;00m:\n\u001b[1;32m    422\u001b[0m         \u001b[38;5;28;01mdel\u001b[39;00m args[\u001b[38;5;241m0\u001b[39m]\u001b[38;5;241m.\u001b[39m_extra_params\n",
      "File \u001b[0;32m/opt/conda/lib/python3.9/site-packages/googlemaps/directions.py:153\u001b[0m, in \u001b[0;36mdirections\u001b[0;34m(client, origin, destination, mode, waypoints, alternatives, avoid, language, units, region, departure_time, arrival_time, optimize_waypoints, transit_mode, transit_routing_preference, traffic_model)\u001b[0m\n\u001b[1;32m    150\u001b[0m \u001b[38;5;28;01mif\u001b[39;00m traffic_model:\n\u001b[1;32m    151\u001b[0m     params[\u001b[38;5;124m\"\u001b[39m\u001b[38;5;124mtraffic_model\u001b[39m\u001b[38;5;124m\"\u001b[39m] \u001b[38;5;241m=\u001b[39m traffic_model\n\u001b[0;32m--> 153\u001b[0m \u001b[38;5;28;01mreturn\u001b[39;00m \u001b[43mclient\u001b[49m\u001b[38;5;241;43m.\u001b[39;49m\u001b[43m_request\u001b[49m\u001b[43m(\u001b[49m\u001b[38;5;124;43m\"\u001b[39;49m\u001b[38;5;124;43m/maps/api/directions/json\u001b[39;49m\u001b[38;5;124;43m\"\u001b[39;49m\u001b[43m,\u001b[49m\u001b[43m \u001b[49m\u001b[43mparams\u001b[49m\u001b[43m)\u001b[49m\u001b[38;5;241m.\u001b[39mget(\u001b[38;5;124m\"\u001b[39m\u001b[38;5;124mroutes\u001b[39m\u001b[38;5;124m\"\u001b[39m, [])\n",
      "File \u001b[0;32m/opt/conda/lib/python3.9/site-packages/googlemaps/client.py:315\u001b[0m, in \u001b[0;36mClient._request\u001b[0;34m(self, url, params, first_request_time, retry_counter, base_url, accepts_clientid, extract_body, requests_kwargs, post_json)\u001b[0m\n\u001b[1;32m    313\u001b[0m     result \u001b[38;5;241m=\u001b[39m extract_body(response)\n\u001b[1;32m    314\u001b[0m \u001b[38;5;28;01melse\u001b[39;00m:\n\u001b[0;32m--> 315\u001b[0m     result \u001b[38;5;241m=\u001b[39m \u001b[38;5;28;43mself\u001b[39;49m\u001b[38;5;241;43m.\u001b[39;49m\u001b[43m_get_body\u001b[49m\u001b[43m(\u001b[49m\u001b[43mresponse\u001b[49m\u001b[43m)\u001b[49m\n\u001b[1;32m    316\u001b[0m \u001b[38;5;28mself\u001b[39m\u001b[38;5;241m.\u001b[39msent_times\u001b[38;5;241m.\u001b[39mappend(time\u001b[38;5;241m.\u001b[39mtime())\n\u001b[1;32m    317\u001b[0m \u001b[38;5;28;01mreturn\u001b[39;00m result\n",
      "File \u001b[0;32m/opt/conda/lib/python3.9/site-packages/googlemaps/client.py:332\u001b[0m, in \u001b[0;36mClient._get_body\u001b[0;34m(self, response)\u001b[0m\n\u001b[1;32m    330\u001b[0m \u001b[38;5;28;01mdef\u001b[39;00m \u001b[38;5;21m_get_body\u001b[39m(\u001b[38;5;28mself\u001b[39m, response):\n\u001b[1;32m    331\u001b[0m     \u001b[38;5;28;01mif\u001b[39;00m response\u001b[38;5;241m.\u001b[39mstatus_code \u001b[38;5;241m!=\u001b[39m \u001b[38;5;241m200\u001b[39m:\n\u001b[0;32m--> 332\u001b[0m         \u001b[38;5;28;01mraise\u001b[39;00m googlemaps\u001b[38;5;241m.\u001b[39mexceptions\u001b[38;5;241m.\u001b[39mHTTPError(response\u001b[38;5;241m.\u001b[39mstatus_code)\n\u001b[1;32m    334\u001b[0m     body \u001b[38;5;241m=\u001b[39m response\u001b[38;5;241m.\u001b[39mjson()\n\u001b[1;32m    336\u001b[0m     api_status \u001b[38;5;241m=\u001b[39m body[\u001b[38;5;124m\"\u001b[39m\u001b[38;5;124mstatus\u001b[39m\u001b[38;5;124m\"\u001b[39m]\n",
      "\u001b[0;31mHTTPError\u001b[0m: HTTP Error: 400"
     ]
    }
   ],
   "source": [
    "gmaps.directions(beginning, ending, \n",
    "                 mode='driving', \n",
    "                 departure_time=departure1, \n",
    "                 #waypoints=waypts1\n",
    "                )"
   ]
  },
  {
   "cell_type": "code",
   "execution_count": 112,
   "id": "0e15b8c3-2546-47f6-82cc-327b9a65c65c",
   "metadata": {},
   "outputs": [],
   "source": [
    "via = gmaps.directions(beginning, ending, \n",
    "                 mode='driving', \n",
    "                 departure_time=datetime.now() + timedelta(hours=4), \n",
    "                 waypoints=[f\"via:{lat},{lon}\" for lat, lon in waypts1]\n",
    "                #waypoints=waypts1\n",
    "                )\n",
    "waypoints = gmaps.directions(beginning, ending, \n",
    "                 mode='driving', \n",
    "                 departure_time=datetime.now() + timedelta(hours=4), \n",
    "                 #waypoints=[f\"via:{lat},{lon}\" for lat, lon in waypts1]\n",
    "                waypoints=waypts1\n",
    "                )\n",
    "# Try using via, not using stopovers, which will return duration_in_traffic\n"
   ]
  },
  {
   "cell_type": "code",
   "execution_count": 113,
   "id": "3e47c148-c6ce-45e6-a490-66e999ee0468",
   "metadata": {},
   "outputs": [
    {
     "data": {
      "text/plain": [
       "(dict_keys(['bounds', 'copyrights', 'legs', 'overview_polyline', 'summary', 'warnings', 'waypoint_order']),\n",
       " dict_keys(['bounds', 'copyrights', 'legs', 'overview_polyline', 'summary', 'warnings', 'waypoint_order']))"
      ]
     },
     "execution_count": 113,
     "metadata": {},
     "output_type": "execute_result"
    }
   ],
   "source": [
    "via[0].keys(), waypoints[0].keys()"
   ]
  },
  {
   "cell_type": "code",
   "execution_count": 114,
   "id": "ec09eabc-87b5-4d41-8b6b-4be866e1bd63",
   "metadata": {},
   "outputs": [
    {
     "data": {
      "text/plain": [
       "({'text': '30 mins', 'value': 1794}, {'text': '28 mins', 'value': 1673}, 1671)"
      ]
     },
     "execution_count": 114,
     "metadata": {},
     "output_type": "execute_result"
    }
   ],
   "source": [
    "via[0][\"legs\"][0][\"duration_in_traffic\"], via[0][\"legs\"][0][\"duration\"],sum(leg[\"duration\"][\"value\"] for leg in waypoints[0][\"legs\"])\n",
    "\n"
   ]
  },
  {
   "cell_type": "code",
   "execution_count": 104,
   "id": "61dfb427-01d9-41f3-a0b3-1a956d728dd8",
   "metadata": {},
   "outputs": [
    {
     "data": {
      "text/plain": [
       "{'distance': {'text': '0.6 mi', 'value': 929},\n",
       " 'duration': {'text': '3 mins', 'value': 177},\n",
       " 'end_address': 'Hays St & W Estudillo Av, San Leandro, CA 94577, USA',\n",
       " 'end_location': {'lat': 37.7246916, 'lng': -122.1576365},\n",
       " 'start_address': 'San Leandro BART, San Leandro, CA 94577, USA',\n",
       " 'start_location': {'lat': 37.7211383, 'lng': -122.1605215},\n",
       " 'steps': [{'distance': {'text': '489 ft', 'value': 149},\n",
       "   'duration': {'text': '1 min', 'value': 37},\n",
       "   'end_location': {'lat': 37.71998800000001, 'lng': -122.1596647},\n",
       "   'html_instructions': 'Head <b>southeast</b> toward <b>Parrott St</b>',\n",
       "   'polyline': {'points': 'clfeFfnrhVNI~@q@NKj@a@|@o@ZQ'},\n",
       "   'start_location': {'lat': 37.7211383, 'lng': -122.1605215},\n",
       "   'travel_mode': 'DRIVING'},\n",
       "  {'distance': {'text': '0.2 mi', 'value': 399},\n",
       "   'duration': {'text': '1 min', 'value': 73},\n",
       "   'end_location': {'lat': 37.7216452, 'lng': -122.1556473},\n",
       "   'html_instructions': 'Turn <b>left</b> onto <b>Parrott St</b>',\n",
       "   'maneuver': 'turn-left',\n",
       "   'polyline': {'points': '}dfeFzhrhVQi@a@qAG[Qi@eAgD{A}EsAgEGQ'},\n",
       "   'start_location': {'lat': 37.71998800000001, 'lng': -122.1596647},\n",
       "   'travel_mode': 'DRIVING'},\n",
       "  {'distance': {'text': '0.2 mi', 'value': 381},\n",
       "   'duration': {'text': '1 min', 'value': 67},\n",
       "   'end_location': {'lat': 37.7246916, 'lng': -122.1576365},\n",
       "   'html_instructions': 'Turn <b>left</b> onto <b>Hays St</b><div style=\"font-size:0.9em\">Destination will be on the right</div>',\n",
       "   'maneuver': 'turn-left',\n",
       "   'polyline': {'points': 'iofeFxoqhV_@RwCbBy@d@yBnA_@RaCtAQJEBQJg@X'},\n",
       "   'start_location': {'lat': 37.7216452, 'lng': -122.1556473},\n",
       "   'travel_mode': 'DRIVING'}],\n",
       " 'traffic_speed_entry': [],\n",
       " 'via_waypoint': []}"
      ]
     },
     "execution_count": 104,
     "metadata": {},
     "output_type": "execute_result"
    }
   ],
   "source": [
    "waypoints[0][\"legs\"][0]"
   ]
  },
  {
   "cell_type": "code",
   "execution_count": 102,
   "id": "0bcd915f-09eb-48af-b779-65d6a62c1e19",
   "metadata": {},
   "outputs": [
    {
     "data": {
      "text/plain": [
       "{dict}"
      ]
     },
     "execution_count": 102,
     "metadata": {},
     "output_type": "execute_result"
    }
   ],
   "source": [
    "set(type(leg[\"duration\"]) for leg in waypoints[0][\"legs\"])\n"
   ]
  },
  {
   "cell_type": "code",
   "execution_count": 96,
   "id": "89e78b4c-c2f4-431d-85c9-09ef81bba268",
   "metadata": {},
   "outputs": [
    {
     "ename": "TypeError",
     "evalue": "string indices must be integers",
     "output_type": "error",
     "traceback": [
      "\u001b[0;31m---------------------------------------------------------------------------\u001b[0m",
      "\u001b[0;31mTypeError\u001b[0m                                 Traceback (most recent call last)",
      "Input \u001b[0;32mIn [96]\u001b[0m, in \u001b[0;36m<cell line: 1>\u001b[0;34m()\u001b[0m\n\u001b[0;32m----> 1\u001b[0m \u001b[38;5;28;43msum\u001b[39;49m\u001b[43m(\u001b[49m\u001b[43mleg\u001b[49m\u001b[43m[\u001b[49m\u001b[38;5;124;43m\"\u001b[39;49m\u001b[38;5;124;43mduration\u001b[39;49m\u001b[38;5;124;43m\"\u001b[39;49m\u001b[43m]\u001b[49m\u001b[43m \u001b[49m\u001b[38;5;28;43;01mfor\u001b[39;49;00m\u001b[43m \u001b[49m\u001b[43mleg\u001b[49m\u001b[43m \u001b[49m\u001b[38;5;129;43;01min\u001b[39;49;00m\u001b[43m \u001b[49m\u001b[43mwaypoints\u001b[49m\u001b[43m[\u001b[49m\u001b[38;5;241;43m0\u001b[39;49m\u001b[43m]\u001b[49m\u001b[43m)\u001b[49m\n",
      "Input \u001b[0;32mIn [96]\u001b[0m, in \u001b[0;36m<genexpr>\u001b[0;34m(.0)\u001b[0m\n\u001b[0;32m----> 1\u001b[0m \u001b[38;5;28msum\u001b[39m(\u001b[43mleg\u001b[49m\u001b[43m[\u001b[49m\u001b[38;5;124;43m\"\u001b[39;49m\u001b[38;5;124;43mduration\u001b[39;49m\u001b[38;5;124;43m\"\u001b[39;49m\u001b[43m]\u001b[49m \u001b[38;5;28;01mfor\u001b[39;00m leg \u001b[38;5;129;01min\u001b[39;00m waypoints[\u001b[38;5;241m0\u001b[39m])\n",
      "\u001b[0;31mTypeError\u001b[0m: string indices must be integers"
     ]
    }
   ],
   "source": [
    "sum(leg[\"duration\"] for leg in waypoints[0][\"legs\"])\n"
   ]
  },
  {
   "cell_type": "code",
   "execution_count": 92,
   "id": "188a60b7-52d4-4d6c-9f59-abb65f6cd42e",
   "metadata": {},
   "outputs": [
    {
     "data": {
      "text/plain": [
       "(dict_keys(['distance', 'duration', 'duration_in_traffic', 'end_address', 'end_location', 'start_address', 'start_location', 'steps', 'traffic_speed_entry', 'via_waypoint']),\n",
       " dict_keys(['distance', 'duration', 'end_address', 'end_location', 'start_address', 'start_location', 'steps', 'traffic_speed_entry', 'via_waypoint']))"
      ]
     },
     "execution_count": 92,
     "metadata": {},
     "output_type": "execute_result"
    }
   ],
   "source": [
    "via[0][\"legs\"][0].keys(), waypoints[0][\"legs\"][0].keys()"
   ]
  },
  {
   "cell_type": "code",
   "execution_count": 86,
   "id": "0078a24b-89c0-44c0-8877-8584b090e483",
   "metadata": {},
   "outputs": [
    {
     "data": {
      "text/plain": [
       "{'distance': {'text': '0.6 mi', 'value': 929},\n",
       " 'duration': {'text': '3 mins', 'value': 177},\n",
       " 'end_address': 'Hays St & W Estudillo Av, San Leandro, CA 94577, USA',\n",
       " 'end_location': {'lat': 37.7246916, 'lng': -122.1576365},\n",
       " 'start_address': 'San Leandro BART, San Leandro, CA 94577, USA',\n",
       " 'start_location': {'lat': 37.7211383, 'lng': -122.1605215},\n",
       " 'steps': [{'distance': {'text': '489 ft', 'value': 149},\n",
       "   'duration': {'text': '1 min', 'value': 37},\n",
       "   'end_location': {'lat': 37.71998800000001, 'lng': -122.1596647},\n",
       "   'html_instructions': 'Head <b>southeast</b> toward <b>Parrott St</b>',\n",
       "   'polyline': {'points': 'clfeFfnrhVNI~@q@NKj@a@|@o@ZQ'},\n",
       "   'start_location': {'lat': 37.7211383, 'lng': -122.1605215},\n",
       "   'travel_mode': 'DRIVING'},\n",
       "  {'distance': {'text': '0.2 mi', 'value': 399},\n",
       "   'duration': {'text': '1 min', 'value': 73},\n",
       "   'end_location': {'lat': 37.7216452, 'lng': -122.1556473},\n",
       "   'html_instructions': 'Turn <b>left</b> onto <b>Parrott St</b>',\n",
       "   'maneuver': 'turn-left',\n",
       "   'polyline': {'points': '}dfeFzhrhVQi@a@qAG[Qi@eAgD{A}EsAgEGQ'},\n",
       "   'start_location': {'lat': 37.71998800000001, 'lng': -122.1596647},\n",
       "   'travel_mode': 'DRIVING'},\n",
       "  {'distance': {'text': '0.2 mi', 'value': 381},\n",
       "   'duration': {'text': '1 min', 'value': 67},\n",
       "   'end_location': {'lat': 37.7246916, 'lng': -122.1576365},\n",
       "   'html_instructions': 'Turn <b>left</b> onto <b>Hays St</b><div style=\"font-size:0.9em\">Destination will be on the right</div>',\n",
       "   'maneuver': 'turn-left',\n",
       "   'polyline': {'points': 'iofeFxoqhV_@RwCbBy@d@yBnA_@RaCtAQJEBQJg@X'},\n",
       "   'start_location': {'lat': 37.7216452, 'lng': -122.1556473},\n",
       "   'travel_mode': 'DRIVING'}],\n",
       " 'traffic_speed_entry': [],\n",
       " 'via_waypoint': []}"
      ]
     },
     "execution_count": 86,
     "metadata": {},
     "output_type": "execute_result"
    }
   ],
   "source": [
    "via2[0][\"legs\"][0]"
   ]
  },
  {
   "cell_type": "code",
   "execution_count": 60,
   "id": "324f3475-ce49-491e-ad25-fd1f2fb39340",
   "metadata": {},
   "outputs": [
    {
     "data": {
      "text/plain": [
       "datetime.time(17, 27, 19, 803644)"
      ]
     },
     "execution_count": 60,
     "metadata": {},
     "output_type": "execute_result"
    }
   ],
   "source": [
    "departure1"
   ]
  },
  {
   "cell_type": "code",
   "execution_count": 61,
   "id": "0c649bb3-6d6d-4d5d-9a48-5f06b1062841",
   "metadata": {},
   "outputs": [],
   "source": [
    "tomorrow = datetime.now() + timedelta(days=1)"
   ]
  },
  {
   "cell_type": "code",
   "execution_count": null,
   "id": "2fbba617-ff0d-4b52-a261-a462e2736dd1",
   "metadata": {},
   "outputs": [],
   "source": [
    "with_waypoints = gmaps.directions(beginning, ending, \n",
    "                 mode='driving', \n",
    "                 departure_time=departure1, \n",
    "                 waypoints=waypts1\n",
    "                )"
   ]
  },
  {
   "cell_type": "code",
   "execution_count": 18,
   "id": "afbb2c21-26a8-4f0b-84fa-7ed52dcb4013",
   "metadata": {},
   "outputs": [],
   "source": [
    "with_waypoints = gmaps.directions(beginning, ending, \n",
    "                 mode='driving', \n",
    "                 departure_time=tomorrow, \n",
    "                 #waypoints=waypts1\n",
    "                )"
   ]
  },
  {
   "cell_type": "code",
   "execution_count": 66,
   "id": "20466a8d-1f62-4bc3-83b1-b6058a291be8",
   "metadata": {},
   "outputs": [
    {
     "ename": "ApiError",
     "evalue": "INVALID_REQUEST (departure_time is in the past. Traffic information is only available for future and current times.)",
     "output_type": "error",
     "traceback": [
      "\u001b[0;31m---------------------------------------------------------------------------\u001b[0m",
      "\u001b[0;31mApiError\u001b[0m                                  Traceback (most recent call last)",
      "Input \u001b[0;32mIn [66]\u001b[0m, in \u001b[0;36m<cell line: 1>\u001b[0;34m()\u001b[0m\n\u001b[0;32m----> 1\u001b[0m \u001b[43mgmaps\u001b[49m\u001b[38;5;241;43m.\u001b[39;49m\u001b[43mdirections\u001b[49m\u001b[43m(\u001b[49m\u001b[43mbeginning\u001b[49m\u001b[43m,\u001b[49m\u001b[43m \u001b[49m\u001b[43mending\u001b[49m\u001b[43m,\u001b[49m\u001b[43m \u001b[49m\n\u001b[1;32m      2\u001b[0m \u001b[43m                 \u001b[49m\u001b[43mmode\u001b[49m\u001b[38;5;241;43m=\u001b[39;49m\u001b[38;5;124;43m'\u001b[39;49m\u001b[38;5;124;43mdriving\u001b[39;49m\u001b[38;5;124;43m'\u001b[39;49m\u001b[43m,\u001b[49m\u001b[43m \u001b[49m\n\u001b[1;32m      3\u001b[0m \u001b[43m                 \u001b[49m\u001b[43mdeparture_time\u001b[49m\u001b[38;5;241;43m=\u001b[39;49m\u001b[43mdatetime\u001b[49m\u001b[38;5;241;43m.\u001b[39;49m\u001b[43mnow\u001b[49m\u001b[43m(\u001b[49m\u001b[43m)\u001b[49m\u001b[43m \u001b[49m\u001b[38;5;241;43m+\u001b[39;49m\u001b[43m \u001b[49m\u001b[43mtimedelta\u001b[49m\u001b[43m(\u001b[49m\u001b[43mhours\u001b[49m\u001b[38;5;241;43m=\u001b[39;49m\u001b[38;5;241;43m-\u001b[39;49m\u001b[38;5;241;43m1\u001b[39;49m\u001b[43m)\u001b[49m\u001b[43m,\u001b[49m\u001b[43m \u001b[49m\n\u001b[1;32m      4\u001b[0m \u001b[43m                 \u001b[49m\u001b[38;5;66;43;03m#waypoints=waypts1\u001b[39;49;00m\n\u001b[1;32m      5\u001b[0m \u001b[43m                \u001b[49m\u001b[43m)\u001b[49m\n",
      "File \u001b[0;32m/opt/conda/lib/python3.9/site-packages/googlemaps/client.py:420\u001b[0m, in \u001b[0;36mmake_api_method.<locals>.wrapper\u001b[0;34m(*args, **kwargs)\u001b[0m\n\u001b[1;32m    417\u001b[0m \u001b[38;5;129m@functools\u001b[39m\u001b[38;5;241m.\u001b[39mwraps(func)\n\u001b[1;32m    418\u001b[0m \u001b[38;5;28;01mdef\u001b[39;00m \u001b[38;5;21mwrapper\u001b[39m(\u001b[38;5;241m*\u001b[39margs, \u001b[38;5;241m*\u001b[39m\u001b[38;5;241m*\u001b[39mkwargs):\n\u001b[1;32m    419\u001b[0m     args[\u001b[38;5;241m0\u001b[39m]\u001b[38;5;241m.\u001b[39m_extra_params \u001b[38;5;241m=\u001b[39m kwargs\u001b[38;5;241m.\u001b[39mpop(\u001b[38;5;124m\"\u001b[39m\u001b[38;5;124mextra_params\u001b[39m\u001b[38;5;124m\"\u001b[39m, \u001b[38;5;28;01mNone\u001b[39;00m)\n\u001b[0;32m--> 420\u001b[0m     result \u001b[38;5;241m=\u001b[39m \u001b[43mfunc\u001b[49m\u001b[43m(\u001b[49m\u001b[38;5;241;43m*\u001b[39;49m\u001b[43margs\u001b[49m\u001b[43m,\u001b[49m\u001b[43m \u001b[49m\u001b[38;5;241;43m*\u001b[39;49m\u001b[38;5;241;43m*\u001b[39;49m\u001b[43mkwargs\u001b[49m\u001b[43m)\u001b[49m\n\u001b[1;32m    421\u001b[0m     \u001b[38;5;28;01mtry\u001b[39;00m:\n\u001b[1;32m    422\u001b[0m         \u001b[38;5;28;01mdel\u001b[39;00m args[\u001b[38;5;241m0\u001b[39m]\u001b[38;5;241m.\u001b[39m_extra_params\n",
      "File \u001b[0;32m/opt/conda/lib/python3.9/site-packages/googlemaps/directions.py:153\u001b[0m, in \u001b[0;36mdirections\u001b[0;34m(client, origin, destination, mode, waypoints, alternatives, avoid, language, units, region, departure_time, arrival_time, optimize_waypoints, transit_mode, transit_routing_preference, traffic_model)\u001b[0m\n\u001b[1;32m    150\u001b[0m \u001b[38;5;28;01mif\u001b[39;00m traffic_model:\n\u001b[1;32m    151\u001b[0m     params[\u001b[38;5;124m\"\u001b[39m\u001b[38;5;124mtraffic_model\u001b[39m\u001b[38;5;124m\"\u001b[39m] \u001b[38;5;241m=\u001b[39m traffic_model\n\u001b[0;32m--> 153\u001b[0m \u001b[38;5;28;01mreturn\u001b[39;00m \u001b[43mclient\u001b[49m\u001b[38;5;241;43m.\u001b[39;49m\u001b[43m_request\u001b[49m\u001b[43m(\u001b[49m\u001b[38;5;124;43m\"\u001b[39;49m\u001b[38;5;124;43m/maps/api/directions/json\u001b[39;49m\u001b[38;5;124;43m\"\u001b[39;49m\u001b[43m,\u001b[49m\u001b[43m \u001b[49m\u001b[43mparams\u001b[49m\u001b[43m)\u001b[49m\u001b[38;5;241m.\u001b[39mget(\u001b[38;5;124m\"\u001b[39m\u001b[38;5;124mroutes\u001b[39m\u001b[38;5;124m\"\u001b[39m, [])\n",
      "File \u001b[0;32m/opt/conda/lib/python3.9/site-packages/googlemaps/client.py:315\u001b[0m, in \u001b[0;36mClient._request\u001b[0;34m(self, url, params, first_request_time, retry_counter, base_url, accepts_clientid, extract_body, requests_kwargs, post_json)\u001b[0m\n\u001b[1;32m    313\u001b[0m     result \u001b[38;5;241m=\u001b[39m extract_body(response)\n\u001b[1;32m    314\u001b[0m \u001b[38;5;28;01melse\u001b[39;00m:\n\u001b[0;32m--> 315\u001b[0m     result \u001b[38;5;241m=\u001b[39m \u001b[38;5;28;43mself\u001b[39;49m\u001b[38;5;241;43m.\u001b[39;49m\u001b[43m_get_body\u001b[49m\u001b[43m(\u001b[49m\u001b[43mresponse\u001b[49m\u001b[43m)\u001b[49m\n\u001b[1;32m    316\u001b[0m \u001b[38;5;28mself\u001b[39m\u001b[38;5;241m.\u001b[39msent_times\u001b[38;5;241m.\u001b[39mappend(time\u001b[38;5;241m.\u001b[39mtime())\n\u001b[1;32m    317\u001b[0m \u001b[38;5;28;01mreturn\u001b[39;00m result\n",
      "File \u001b[0;32m/opt/conda/lib/python3.9/site-packages/googlemaps/client.py:344\u001b[0m, in \u001b[0;36mClient._get_body\u001b[0;34m(self, response)\u001b[0m\n\u001b[1;32m    340\u001b[0m \u001b[38;5;28;01mif\u001b[39;00m api_status \u001b[38;5;241m==\u001b[39m \u001b[38;5;124m\"\u001b[39m\u001b[38;5;124mOVER_QUERY_LIMIT\u001b[39m\u001b[38;5;124m\"\u001b[39m:\n\u001b[1;32m    341\u001b[0m     \u001b[38;5;28;01mraise\u001b[39;00m googlemaps\u001b[38;5;241m.\u001b[39mexceptions\u001b[38;5;241m.\u001b[39m_OverQueryLimit(\n\u001b[1;32m    342\u001b[0m         api_status, body\u001b[38;5;241m.\u001b[39mget(\u001b[38;5;124m\"\u001b[39m\u001b[38;5;124merror_message\u001b[39m\u001b[38;5;124m\"\u001b[39m))\n\u001b[0;32m--> 344\u001b[0m \u001b[38;5;28;01mraise\u001b[39;00m googlemaps\u001b[38;5;241m.\u001b[39mexceptions\u001b[38;5;241m.\u001b[39mApiError(api_status,\n\u001b[1;32m    345\u001b[0m                                      body\u001b[38;5;241m.\u001b[39mget(\u001b[38;5;124m\"\u001b[39m\u001b[38;5;124merror_message\u001b[39m\u001b[38;5;124m\"\u001b[39m))\n",
      "\u001b[0;31mApiError\u001b[0m: INVALID_REQUEST (departure_time is in the past. Traffic information is only available for future and current times.)"
     ]
    }
   ],
   "source": [
    "gmaps.directions(beginning, ending, \n",
    "                 mode='driving', \n",
    "                 departure_time=datetime.now() + timedelta(hours=-1), \n",
    "                 #waypoints=waypts1\n",
    "                )"
   ]
  },
  {
   "cell_type": "code",
   "execution_count": 19,
   "id": "94c39752-7052-4952-b093-56ecf4438e3f",
   "metadata": {},
   "outputs": [],
   "source": [
    "w1 = with_waypoints[0]"
   ]
  },
  {
   "cell_type": "code",
   "execution_count": 24,
   "id": "82572399-12b3-4c43-9db1-0c3043233688",
   "metadata": {},
   "outputs": [],
   "source": [
    "#https://stackoverflow.com/questions/15380712/how-to-decode-polylines-from-google-maps-direction-api-in-php\n",
    "def decode_polyline(polyline_str):\n",
    "    index, lat, lng = 0, 0, 0\n",
    "    coordinates = []\n",
    "    changes = {'latitude': 0, 'longitude': 0}\n",
    "\n",
    "    # Coordinates have variable length when encoded, so just keep\n",
    "    # track of whether we've hit the end of the string. In each\n",
    "    # while loop iteration, a single coordinate is decoded.\n",
    "    while index < len(polyline_str):\n",
    "        # Gather lat/lon changes, store them in a dictionary to apply them later\n",
    "        for unit in ['latitude', 'longitude']: \n",
    "            shift, result = 0, 0\n",
    "\n",
    "            while True:\n",
    "                byte = ord(polyline_str[index]) - 63\n",
    "                index+=1\n",
    "                result |= (byte & 0x1f) << shift\n",
    "                shift += 5\n",
    "                if not byte >= 0x20:\n",
    "                    break\n",
    "\n",
    "            if (result & 1):\n",
    "                changes[unit] = ~(result >> 1)\n",
    "            else:\n",
    "                changes[unit] = (result >> 1)\n",
    "\n",
    "        lat += changes['latitude']\n",
    "        lng += changes['longitude']\n",
    "\n",
    "        coordinates.append((lat / 100000.0, lng / 100000.0))\n",
    "\n",
    "    return coordinates"
   ]
  },
  {
   "cell_type": "code",
   "execution_count": 36,
   "id": "294eb9eb-a490-4269-8de9-be8c4fc3aea7",
   "metadata": {},
   "outputs": [
    {
     "data": {
      "text/plain": [
       "{'bounds': {'northeast': {'lat': 37.7257391, 'lng': -122.0873034},\n",
       "  'southwest': {'lat': 37.670141, 'lng': -122.1605215}},\n",
       " 'copyrights': 'Map data ©2022',\n",
       " 'legs': [{'distance': {'text': '0.6 mi', 'value': 929},\n",
       "   'duration': {'text': '3 mins', 'value': 177},\n",
       "   'end_address': 'Hays St & W Estudillo Av, San Leandro, CA 94577, USA',\n",
       "   'end_location': {'lat': 37.7246916, 'lng': -122.1576365},\n",
       "   'start_address': 'San Leandro BART, San Leandro, CA 94577, USA',\n",
       "   'start_location': {'lat': 37.7211383, 'lng': -122.1605215},\n",
       "   'steps': [{'distance': {'text': '489 ft', 'value': 149},\n",
       "     'duration': {'text': '1 min', 'value': 37},\n",
       "     'end_location': {'lat': 37.71998800000001, 'lng': -122.1596647},\n",
       "     'html_instructions': 'Head <b>southeast</b> toward <b>Parrott St</b>',\n",
       "     'polyline': {'points': 'clfeFfnrhVNI~@q@NKj@a@|@o@ZQ'},\n",
       "     'start_location': {'lat': 37.7211383, 'lng': -122.1605215},\n",
       "     'travel_mode': 'DRIVING'},\n",
       "    {'distance': {'text': '0.2 mi', 'value': 399},\n",
       "     'duration': {'text': '1 min', 'value': 73},\n",
       "     'end_location': {'lat': 37.7216452, 'lng': -122.1556473},\n",
       "     'html_instructions': 'Turn <b>left</b> onto <b>Parrott St</b>',\n",
       "     'maneuver': 'turn-left',\n",
       "     'polyline': {'points': '}dfeFzhrhVQi@a@qAG[Qi@eAgD{A}EsAgEGQ'},\n",
       "     'start_location': {'lat': 37.71998800000001, 'lng': -122.1596647},\n",
       "     'travel_mode': 'DRIVING'},\n",
       "    {'distance': {'text': '0.2 mi', 'value': 381},\n",
       "     'duration': {'text': '1 min', 'value': 67},\n",
       "     'end_location': {'lat': 37.7246916, 'lng': -122.1576365},\n",
       "     'html_instructions': 'Turn <b>left</b> onto <b>Hays St</b><div style=\"font-size:0.9em\">Destination will be on the right</div>',\n",
       "     'maneuver': 'turn-left',\n",
       "     'polyline': {'points': 'iofeFxoqhV_@RwCbBy@d@yBnA_@RaCtAQJEBQJg@X'},\n",
       "     'start_location': {'lat': 37.7216452, 'lng': -122.1556473},\n",
       "     'travel_mode': 'DRIVING'}],\n",
       "   'traffic_speed_entry': [],\n",
       "   'via_waypoint': []},\n",
       "  {'distance': {'text': '0.4 mi', 'value': 710},\n",
       "   'duration': {'text': '3 mins', 'value': 151},\n",
       "   'end_address': 'E 14th St & Parrott St, San Leandro, CA 94577, USA',\n",
       "   'end_location': {'lat': 37.7225457, 'lng': -122.1524746},\n",
       "   'start_address': 'Hays St & W Estudillo Av, San Leandro, CA 94577, USA',\n",
       "   'start_location': {'lat': 37.7246916, 'lng': -122.1576365},\n",
       "   'steps': [{'distance': {'text': '233 ft', 'value': 71},\n",
       "     'duration': {'text': '1 min', 'value': 23},\n",
       "     'end_location': {'lat': 37.7252588, 'lng': -122.158},\n",
       "     'html_instructions': 'Head <b>northwest</b> on <b>Hays St</b> toward <b>Davis St</b>',\n",
       "     'polyline': {'points': 'ibgeFf|qhVSJYPcAh@'},\n",
       "     'start_location': {'lat': 37.7246916, 'lng': -122.1576365},\n",
       "     'travel_mode': 'DRIVING'},\n",
       "    {'distance': {'text': '387 ft', 'value': 118},\n",
       "     'duration': {'text': '1 min', 'value': 29},\n",
       "     'end_location': {'lat': 37.7257391, 'lng': -122.1567988},\n",
       "     'html_instructions': 'Turn <b>right</b> onto <b>Davis St</b>',\n",
       "     'maneuver': 'turn-right',\n",
       "     'polyline': {'points': '{egeFn~qhVw@kCEQa@qA'},\n",
       "     'start_location': {'lat': 37.7252588, 'lng': -122.158},\n",
       "     'travel_mode': 'DRIVING'},\n",
       "    {'distance': {'text': '0.3 mi', 'value': 521},\n",
       "     'duration': {'text': '2 mins', 'value': 99},\n",
       "     'end_location': {'lat': 37.7225457, 'lng': -122.1524746},\n",
       "     'html_instructions': 'Turn <b>right</b> onto <b>E 14th St</b><div style=\"font-size:0.9em\">Pass by Wells Fargo Bank (on the left)</div><div style=\"font-size:0.9em\">Destination will be on the right</div>',\n",
       "     'maneuver': 'turn-right',\n",
       "     'polyline': {'points': '{hgeF~vqhVj@q@^k@dA_BV]T]FKBCRYV_@DGd@u@h@y@NY~@uAT]|@qAJOXe@LUl@aAh@w@'},\n",
       "     'start_location': {'lat': 37.7257391, 'lng': -122.1567988},\n",
       "     'travel_mode': 'DRIVING'}],\n",
       "   'traffic_speed_entry': [],\n",
       "   'via_waypoint': []},\n",
       "  {'distance': {'text': '0.5 mi', 'value': 802},\n",
       "   'duration': {'text': '2 mins', 'value': 94},\n",
       "   'end_address': 'E 14th St:Cornwall Way, San Leandro, CA 94577, USA',\n",
       "   'end_location': {'lat': 37.7175838, 'lng': -122.1458581},\n",
       "   'start_address': 'E 14th St & Parrott St, San Leandro, CA 94577, USA',\n",
       "   'start_location': {'lat': 37.7225457, 'lng': -122.1524746},\n",
       "   'steps': [{'distance': {'text': '0.5 mi', 'value': 802},\n",
       "     'duration': {'text': '2 mins', 'value': 94},\n",
       "     'end_location': {'lat': 37.7175838, 'lng': -122.1458581},\n",
       "     'html_instructions': 'Head <b>southeast</b> on <b>E 14th St</b> toward <b>Maud Ave</b><div style=\"font-size:0.9em\">Destination will be on the right</div>',\n",
       "     'polyline': {'points': '}tfeF|{phV^g@v@iAb@m@nByCNQl@y@tAsBXc@rByCj@y@bA{A`@k@jAgBDGBEv@iA@CDE|@sAXc@@?^i@d@u@JM'},\n",
       "     'start_location': {'lat': 37.7225457, 'lng': -122.1524746},\n",
       "     'travel_mode': 'DRIVING'}],\n",
       "   'traffic_speed_entry': [],\n",
       "   'via_waypoint': []},\n",
       "  {'distance': {'text': '0.5 mi', 'value': 816},\n",
       "   'duration': {'text': '2 mins', 'value': 110},\n",
       "   'end_address': 'E 14th St:141st Av, San Leandro, CA 94578, USA',\n",
       "   'end_location': {'lat': 37.7125791, 'lng': -122.13913},\n",
       "   'start_address': 'E 14th St:Cornwall Way, San Leandro, CA 94577, USA',\n",
       "   'start_location': {'lat': 37.7175838, 'lng': -122.1458581},\n",
       "   'steps': [{'distance': {'text': '0.5 mi', 'value': 816},\n",
       "     'duration': {'text': '2 mins', 'value': 110},\n",
       "     'end_location': {'lat': 37.7125791, 'lng': -122.13913},\n",
       "     'html_instructions': 'Head <b>southeast</b> on <b>E 14th St</b><div style=\"font-size:0.9em\">Pass by O\\'Reilly Auto Parts (on the left)</div><div style=\"font-size:0.9em\">Destination will be on the right</div>',\n",
       "     'polyline': {'points': '{ueeFrrohVHOFIPWRYBEVa@JMDIFGNULQrBwCnAoBf@u@Xe@JMT]PWVc@V_@NCRWp@gAV_@p@aAr@kAv@iAd@y@@E@EHY`AuAPIBCDEl@_Ad@s@'},\n",
       "     'start_location': {'lat': 37.7175838, 'lng': -122.1458581},\n",
       "     'travel_mode': 'DRIVING'}],\n",
       "   'traffic_speed_entry': [],\n",
       "   'via_waypoint': []},\n",
       "  {'distance': {'text': '0.7 mi', 'value': 1193},\n",
       "   'duration': {'text': '2 mins', 'value': 146},\n",
       "   'end_address': 'East 14th St. at 150th Ave, San Leandro, CA 94578, USA',\n",
       "   'end_location': {'lat': 37.7054958, 'lng': -122.1290035},\n",
       "   'start_address': 'E 14th St:141st Av, San Leandro, CA 94578, USA',\n",
       "   'start_location': {'lat': 37.7125791, 'lng': -122.13913},\n",
       "   'steps': [{'distance': {'text': '0.7 mi', 'value': 1193},\n",
       "     'duration': {'text': '2 mins', 'value': 146},\n",
       "     'end_location': {'lat': 37.7054958, 'lng': -122.1290035},\n",
       "     'html_instructions': 'Head <b>southeast</b> on <b>E 14th St</b> toward <b>141st Ave</b><div style=\"font-size:0.9em\">Destination will be on the right</div>',\n",
       "     'polyline': {'points': 'svdeFphnhVV_@JQr@iAnAsBNWHMLQ|@wAh@{@^o@@UbAaBXe@~CcF`A_B~@{A\\\\i@Va@\\\\i@Xe@FKb@s@PW@CBGtAsBLUb@s@HMLUp@gAh@y@Zi@RYPYP[\\\\OxAgCr@iA'},\n",
       "     'start_location': {'lat': 37.7125791, 'lng': -122.13913},\n",
       "     'travel_mode': 'DRIVING'}],\n",
       "   'traffic_speed_entry': [],\n",
       "   'via_waypoint': []},\n",
       "  {'distance': {'text': '0.6 mi', 'value': 1010},\n",
       "   'duration': {'text': '2 mins', 'value': 145},\n",
       "   'end_address': '159th Av:E 14th St, Ashland, CA 94578, USA',\n",
       "   'end_location': {'lat': 37.6993409, 'lng': -122.1211273},\n",
       "   'start_address': 'East 14th St. at 150th Ave, San Leandro, CA 94578, USA',\n",
       "   'start_location': {'lat': 37.7054958, 'lng': -122.1290035},\n",
       "   'steps': [{'distance': {'text': '0.2 mi', 'value': 350},\n",
       "     'duration': {'text': '1 min', 'value': 54},\n",
       "     'end_location': {'lat': 37.7034307, 'lng': -122.1260585},\n",
       "     'html_instructions': 'Head <b>southeast</b> on <b>E 14th St</b> toward <b>Grace St</b>',\n",
       "     'polyline': {'points': 'kjceFfilhVRY@Cf@o@P_@BUN_@x@oAp@gANUVa@NWJQJA@?@ADCh@{@DGbAaB'},\n",
       "     'start_location': {'lat': 37.7054958, 'lng': -122.1290035},\n",
       "     'travel_mode': 'DRIVING'},\n",
       "    {'distance': {'text': '0.2 mi', 'value': 262},\n",
       "     'duration': {'text': '1 min', 'value': 36},\n",
       "     'end_location': {'lat': 37.7018688, 'lng': -122.1238355},\n",
       "     'html_instructions': 'Continue straight to stay on <b>E 14th St</b>',\n",
       "     'maneuver': 'straight',\n",
       "     'polyline': {'points': 'm}beFzvkhVP]JOnAoBfAcBp@eAZg@r@kA'},\n",
       "     'start_location': {'lat': 37.7034307, 'lng': -122.1260585},\n",
       "     'travel_mode': 'DRIVING'},\n",
       "    {'distance': {'text': '0.2 mi', 'value': 335},\n",
       "     'duration': {'text': '1 min', 'value': 39},\n",
       "     'end_location': {'lat': 37.6998781, 'lng': -122.1209722},\n",
       "     'html_instructions': 'Continue straight to stay on <b>E 14th St</b>',\n",
       "     'maneuver': 'straight',\n",
       "     'polyline': {'points': 'usbeF~hkhVJOr@mAjCgEDItA{B^m@dAcB'},\n",
       "     'start_location': {'lat': 37.7018688, 'lng': -122.1238355},\n",
       "     'travel_mode': 'DRIVING'},\n",
       "    {'distance': {'text': '207 ft', 'value': 63},\n",
       "     'duration': {'text': '1 min', 'value': 16},\n",
       "     'end_location': {'lat': 37.6993409, 'lng': -122.1211273},\n",
       "     'html_instructions': 'Turn <b>right</b> onto <b>159th Ave</b><div style=\"font-size:0.9em\">Destination will be on the right</div>',\n",
       "     'maneuver': 'turn-right',\n",
       "     'polyline': {'points': 'ggbeF`wjhVVRHDD?XBL?Z@'},\n",
       "     'start_location': {'lat': 37.6998781, 'lng': -122.1209722},\n",
       "     'travel_mode': 'DRIVING'}],\n",
       "   'traffic_speed_entry': [],\n",
       "   'via_waypoint': []},\n",
       "  {'distance': {'text': '0.5 mi', 'value': 801},\n",
       "   'duration': {'text': '3 mins', 'value': 151},\n",
       "   'end_address': 'Coelho Dr & Mooney Av, Ashland, CA 94580, USA',\n",
       "   'end_location': {'lat': 37.6983147, 'lng': -122.124529},\n",
       "   'start_address': '159th Av:E 14th St, Ashland, CA 94578, USA',\n",
       "   'start_location': {'lat': 37.6993409, 'lng': -122.1211273},\n",
       "   'steps': [{'distance': {'text': '259 ft', 'value': 79},\n",
       "     'duration': {'text': '1 min', 'value': 13},\n",
       "     'end_location': {'lat': 37.6986301, 'lng': -122.1211447},\n",
       "     'html_instructions': 'Head <b>south</b> on <b>159th Ave</b> toward <b>Coelho Dr</b>',\n",
       "     'polyline': {'points': '{cbeF`xjhVT?n@@fA?'},\n",
       "     'start_location': {'lat': 37.6993409, 'lng': -122.1211273},\n",
       "     'travel_mode': 'DRIVING'},\n",
       "    {'distance': {'text': '0.2 mi', 'value': 287},\n",
       "     'duration': {'text': '1 min', 'value': 39},\n",
       "     'end_location': {'lat': 37.6984278, 'lng': -122.1243606},\n",
       "     'html_instructions': 'Turn <b>right</b> onto <b>Coelho Dr</b>',\n",
       "     'maneuver': 'turn-right',\n",
       "     'polyline': {'points': 'm_beFbxjhV?p@?R?P?ZBFChCAvB?TAHBPBNBT^lD'},\n",
       "     'start_location': {'lat': 37.6986301, 'lng': -122.1211447},\n",
       "     'travel_mode': 'DRIVING'},\n",
       "    {'distance': {'text': '0.1 mi', 'value': 162},\n",
       "     'duration': {'text': '1 min', 'value': 22},\n",
       "     'end_location': {'lat': 37.6981671, 'lng': -122.1261513},\n",
       "     'html_instructions': 'Continue onto <b>Thornally Dr</b>',\n",
       "     'polyline': {'points': 'e~aeFflkhVN~@X~AFVBR?^AxB'},\n",
       "     'start_location': {'lat': 37.6984278, 'lng': -122.1243606},\n",
       "     'travel_mode': 'DRIVING'},\n",
       "    {'distance': {'text': '210 ft', 'value': 64},\n",
       "     'duration': {'text': '1 min', 'value': 19},\n",
       "     'end_location': {'lat': 37.6975908, 'lng': -122.1261454},\n",
       "     'html_instructions': 'Turn <b>left</b> toward <b>Coelho Dr</b>',\n",
       "     'maneuver': 'turn-left',\n",
       "     'polyline': {'points': 'q|aeFlwkhVrB?'},\n",
       "     'start_location': {'lat': 37.6981671, 'lng': -122.1261513},\n",
       "     'travel_mode': 'DRIVING'},\n",
       "    {'distance': {'text': '364 ft', 'value': 111},\n",
       "     'duration': {'text': '1 min', 'value': 35},\n",
       "     'end_location': {'lat': 37.6975897, 'lng': -122.1248838},\n",
       "     'html_instructions': 'Turn <b>left</b> toward <b>Coelho Dr</b>',\n",
       "     'maneuver': 'turn-left',\n",
       "     'polyline': {'points': '}xaeFlwkhV?a@?iB?iA?U?Q'},\n",
       "     'start_location': {'lat': 37.6975908, 'lng': -122.1261454},\n",
       "     'travel_mode': 'DRIVING'},\n",
       "    {'distance': {'text': '322 ft', 'value': 98},\n",
       "     'duration': {'text': '1 min', 'value': 23},\n",
       "     'end_location': {'lat': 37.6983147, 'lng': -122.124529},\n",
       "     'html_instructions': 'Turn <b>left</b> onto <b>Coelho Dr</b><div style=\"font-size:0.9em\">Destination will be on the right</div>',\n",
       "     'maneuver': 'turn-left',\n",
       "     'polyline': {'points': '}xaeFnokhV{ABYMGGEIEM?AEQ?G'},\n",
       "     'start_location': {'lat': 37.6975897, 'lng': -122.1248838},\n",
       "     'travel_mode': 'DRIVING'}],\n",
       "   'traffic_speed_entry': [],\n",
       "   'via_waypoint': []},\n",
       "  {'distance': {'text': '0.7 mi', 'value': 1134},\n",
       "   'duration': {'text': '2 mins', 'value': 145},\n",
       "   'end_address': 'E 14th St:163rd Av, Ashland, CA 94580, USA',\n",
       "   'end_location': {'lat': 37.6958801, 'lng': -122.1151925},\n",
       "   'start_address': 'Coelho Dr & Mooney Av, Ashland, CA 94580, USA',\n",
       "   'start_location': {'lat': 37.6983147, 'lng': -122.124529},\n",
       "   'steps': [{'distance': {'text': '49 ft', 'value': 15},\n",
       "     'duration': {'text': '1 min', 'value': 3},\n",
       "     'end_location': {'lat': 37.6983508, 'lng': -122.1243637},\n",
       "     'html_instructions': 'Head <b>east</b> toward <b>Mooney Ave</b>',\n",
       "     'polyline': {'points': 'm}aeFhmkhVGa@'},\n",
       "     'start_location': {'lat': 37.6983147, 'lng': -122.124529},\n",
       "     'travel_mode': 'DRIVING'},\n",
       "    {'distance': {'text': '0.2 mi', 'value': 289},\n",
       "     'duration': {'text': '1 min', 'value': 36},\n",
       "     'end_location': {'lat': 37.6985209, 'lng': -122.1211477},\n",
       "     'html_instructions': 'Continue onto <b>Coelho Dr</b>',\n",
       "     'polyline': {'points': 'u}aeFflkhVc@}CCQCUGa@EG?U@wBBiCBE?Q@IBM@OBU?G@['},\n",
       "     'start_location': {'lat': 37.6983508, 'lng': -122.1243637},\n",
       "     'travel_mode': 'DRIVING'},\n",
       "    {'distance': {'text': '0.1 mi', 'value': 154},\n",
       "     'duration': {'text': '1 min', 'value': 32},\n",
       "     'end_location': {'lat': 37.6998781, 'lng': -122.1209722},\n",
       "     'html_instructions': 'Turn <b>left</b> onto <b>159th Ave</b>',\n",
       "     'maneuver': 'turn-left',\n",
       "     'polyline': {'points': 'w~aeFdxjhVUAgA?o@Aq@AM?YCE?IEWS'},\n",
       "     'start_location': {'lat': 37.6985209, 'lng': -122.1211477},\n",
       "     'travel_mode': 'DRIVING'},\n",
       "    {'distance': {'text': '0.4 mi', 'value': 676},\n",
       "     'duration': {'text': '1 min', 'value': 74},\n",
       "     'end_location': {'lat': 37.6958801, 'lng': -122.1151925},\n",
       "     'html_instructions': 'Turn <b>right</b> onto <b>E 14th St</b><div style=\"font-size:0.9em\">Destination will be on the right</div>',\n",
       "     'maneuver': 'turn-right',\n",
       "     'polyline': {'points': 'ggbeF`wjhVhAgBj@}@pBcD~@{AjAkBfAeBtAyBdAcBRm@fAeBR[FKp@eA\\\\k@'},\n",
       "     'start_location': {'lat': 37.6998781, 'lng': -122.1209722},\n",
       "     'travel_mode': 'DRIVING'}],\n",
       "   'traffic_speed_entry': [],\n",
       "   'via_waypoint': []},\n",
       "  {'distance': {'text': '0.5 mi', 'value': 860},\n",
       "   'duration': {'text': '2 mins', 'value': 120},\n",
       "   'end_address': 'E 14th St:170th Av, San Leandro, CA 94578, USA',\n",
       "   'end_location': {'lat': 37.6907061, 'lng': -122.107945},\n",
       "   'start_address': 'E 14th St:163rd Av, Ashland, CA 94580, USA',\n",
       "   'start_location': {'lat': 37.6958801, 'lng': -122.1151925},\n",
       "   'steps': [{'distance': {'text': '0.5 mi', 'value': 860},\n",
       "     'duration': {'text': '2 mins', 'value': 120},\n",
       "     'end_location': {'lat': 37.6907061, 'lng': -122.107945},\n",
       "     'html_instructions': 'Head <b>southeast</b> on <b>E 14th St</b><div style=\"font-size:0.9em\">Destination will be on the right</div>',\n",
       "     'polyline': {'points': 'gnaeF|rihVNU\\\\i@h@{@l@aAh@}@JO\\\\k@v@kAbA_Bv@qAl@aATKh@y@JQx@sALSXa@bBmCp@aAvA_Cp@cA~B{D'},\n",
       "     'start_location': {'lat': 37.6958801, 'lng': -122.1151925},\n",
       "     'travel_mode': 'DRIVING'}],\n",
       "   'traffic_speed_entry': [],\n",
       "   'via_waypoint': []},\n",
       "  {'distance': {'text': '0.8 mi', 'value': 1245},\n",
       "   'duration': {'text': '2 mins', 'value': 143},\n",
       "   'end_address': 'Mission Blvd & Cherry Way, Cherryland, CA 94541, USA',\n",
       "   'end_location': {'lat': 37.6830735, 'lng': -122.0975945},\n",
       "   'start_address': 'E 14th St:170th Av, San Leandro, CA 94578, USA',\n",
       "   'start_location': {'lat': 37.6907061, 'lng': -122.107945},\n",
       "   'steps': [{'distance': {'text': '0.1 mi', 'value': 214},\n",
       "     'duration': {'text': '1 min', 'value': 25},\n",
       "     'end_location': {'lat': 37.6894327, 'lng': -122.1061182},\n",
       "     'html_instructions': 'Head <b>southeast</b> on <b>E 14th St</b> toward <b>170th Ave</b>',\n",
       "     'polyline': {'points': '}m`eFrehhVJMn@eAJOdBuCpAqB'},\n",
       "     'start_location': {'lat': 37.6907061, 'lng': -122.107945},\n",
       "     'travel_mode': 'DRIVING'},\n",
       "    {'distance': {'text': '0.6 mi', 'value': 1031},\n",
       "     'duration': {'text': '2 mins', 'value': 118},\n",
       "     'end_location': {'lat': 37.6830735, 'lng': -122.0975945},\n",
       "     'html_instructions': 'Continue onto <b>Mission Blvd</b><div style=\"font-size:0.9em\">Destination will be on the right</div>',\n",
       "     'polyline': {'points': '}e`eFfzghVhCcEp@iAXc@T_@R]`@o@rBeDx@qAx@sAbCwDVa@Va@`@g@NS~BaDV[NSfAyA`@k@FId@k@^g@NSPUz@gAj@w@\\\\e@'},\n",
       "     'start_location': {'lat': 37.6894327, 'lng': -122.1061182},\n",
       "     'travel_mode': 'DRIVING'}],\n",
       "   'traffic_speed_entry': [],\n",
       "   'via_waypoint': []},\n",
       "  {'distance': {'text': '0.5 mi', 'value': 842},\n",
       "   'duration': {'text': '2 mins', 'value': 94},\n",
       "   'end_address': 'Mission Blvd & Sunset Blvd, Hayward, CA 94541, USA',\n",
       "   'end_location': {'lat': 37.6777531, 'lng': -122.0907986},\n",
       "   'start_address': 'Mission Blvd & Cherry Way, Cherryland, CA 94541, USA',\n",
       "   'start_location': {'lat': 37.6830735, 'lng': -122.0975945},\n",
       "   'steps': [{'distance': {'text': '0.5 mi', 'value': 842},\n",
       "     'duration': {'text': '2 mins', 'value': 94},\n",
       "     'end_location': {'lat': 37.6777531, 'lng': -122.0907986},\n",
       "     'html_instructions': 'Head <b>southeast</b> on <b>Mission Blvd</b> toward <b>Cherry Way</b><div style=\"font-size:0.9em\">Destination will be on the right</div>',\n",
       "     'polyline': {'points': 'e~~dF|dfhVLOt@eAdB}Bd@o@~@mAv@cAbAoAp@aArAiBRY\\\\]jA_Bj@w@HMJMl@cAXg@d@{@L[j@w@f@o@RYRS~@sA\\\\a@'},\n",
       "     'start_location': {'lat': 37.6830735, 'lng': -122.0975945},\n",
       "     'travel_mode': 'DRIVING'}],\n",
       "   'traffic_speed_entry': [],\n",
       "   'via_waypoint': []},\n",
       "  {'distance': {'text': '0.7 mi', 'value': 1156},\n",
       "   'duration': {'text': '3 mins', 'value': 195},\n",
       "   'end_address': 'Hayward BART, Hayward, CA 94541, USA',\n",
       "   'end_location': {'lat': 37.6702603, 'lng': -122.0873249},\n",
       "   'start_address': 'Mission Blvd & Sunset Blvd, Hayward, CA 94541, USA',\n",
       "   'start_location': {'lat': 37.6777531, 'lng': -122.0907986},\n",
       "   'steps': [{'distance': {'text': '0.3 mi', 'value': 440},\n",
       "     'duration': {'text': '1 min', 'value': 37},\n",
       "     'end_location': {'lat': 37.6749255, 'lng': -122.0873034},\n",
       "     'html_instructions': 'Head <b>southeast</b> on <b>Mission Blvd</b> toward <b>Simon St</b>',\n",
       "     'polyline': {'points': '}|}dFnzdhV`@k@`BwBvAmBb@k@JOrCuDbCaDNU'},\n",
       "     'start_location': {'lat': 37.6777531, 'lng': -122.0907986},\n",
       "     'travel_mode': 'DRIVING'},\n",
       "    {'distance': {'text': '0.1 mi', 'value': 208},\n",
       "     'duration': {'text': '1 min', 'value': 44},\n",
       "     'end_location': {'lat': 37.6738016, 'lng': -122.0891629},\n",
       "     'html_instructions': 'Turn <b>right</b> onto <b>Grace St</b>',\n",
       "     'maneuver': 'turn-right',\n",
       "     'polyline': {'points': 'ik}dFrddhV|@lAb@l@RTJNHPDHDLPf@J\\\\j@`B'},\n",
       "     'start_location': {'lat': 37.6749255, 'lng': -122.0873034},\n",
       "     'travel_mode': 'DRIVING'},\n",
       "    {'distance': {'text': '0.2 mi', 'value': 355},\n",
       "     'duration': {'text': '1 min', 'value': 64},\n",
       "     'end_location': {'lat': 37.6709536, 'lng': -122.0873348},\n",
       "     'html_instructions': 'Turn <b>left</b> onto <b>Montgomery Ave</b>',\n",
       "     'maneuver': 'turn-left',\n",
       "     'polyline': {'points': 'gd}dFfpdhV|EoCvBmAz@e@~@i@h@W|@g@'},\n",
       "     'start_location': {'lat': 37.6738016, 'lng': -122.0891629},\n",
       "     'travel_mode': 'DRIVING'},\n",
       "    {'distance': {'text': '171 ft', 'value': 52},\n",
       "     'duration': {'text': '1 min', 'value': 9},\n",
       "     'end_location': {'lat': 37.6706701, 'lng': -122.0876976},\n",
       "     'html_instructions': 'Turn <b>right</b> onto <b>B St</b>',\n",
       "     'maneuver': 'turn-right',\n",
       "     'polyline': {'points': 'mr|dFxddhVVCHVLb@FP'},\n",
       "     'start_location': {'lat': 37.6709536, 'lng': -122.0873348},\n",
       "     'travel_mode': 'DRIVING'},\n",
       "    {'distance': {'text': '331 ft', 'value': 101},\n",
       "     'duration': {'text': '1 min', 'value': 41},\n",
       "     'end_location': {'lat': 37.6702603, 'lng': -122.0873249},\n",
       "     'html_instructions': 'Turn <b>left</b><div style=\"font-size:0.9em\">Destination will be on the right</div>',\n",
       "     'maneuver': 'turn-left',\n",
       "     'polyline': {'points': 'up|dFbgdhV\\\\KDNDN@?@@DB@?@??A@?n@kAWU?A'},\n",
       "     'start_location': {'lat': 37.6706701, 'lng': -122.0876976},\n",
       "     'travel_mode': 'DRIVING'}],\n",
       "   'traffic_speed_entry': [],\n",
       "   'via_waypoint': []},\n",
       "  {'distance': {'text': '1 ft', 'value': 0},\n",
       "   'duration': {'text': '1 min', 'value': 0},\n",
       "   'end_address': 'Hayward BART, Hayward, CA 94541, USA',\n",
       "   'end_location': {'lat': 37.6702603, 'lng': -122.0873249},\n",
       "   'start_address': 'Hayward BART, Hayward, CA 94541, USA',\n",
       "   'start_location': {'lat': 37.6702603, 'lng': -122.0873249},\n",
       "   'steps': [{'distance': {'text': '1 ft', 'value': 0},\n",
       "     'duration': {'text': '1 min', 'value': 0},\n",
       "     'end_location': {'lat': 37.6702603, 'lng': -122.0873249},\n",
       "     'html_instructions': 'Head',\n",
       "     'polyline': {'points': 'cn|dFvddhV'},\n",
       "     'start_location': {'lat': 37.6702603, 'lng': -122.0873249},\n",
       "     'travel_mode': 'DRIVING'}],\n",
       "   'traffic_speed_entry': [],\n",
       "   'via_waypoint': []}],\n",
       " 'overview_polyline': {'points': 'clfeFfnrhVjCiB|@o@ZQQi@i@mBwAqEoDeLGQ_@RqEhCyCbBkDpByC`B}@}Ca@qAj@q@dBkCl@{@v@iAdBqC~CuE~BuDjFyHlDcFdG{IlFaIjCyDfEgGtFsINCRWhAgBdBmC|AcCBKHY`AuATMr@eA|BoDvBkDfBsC^o@@U|AgC`FcIrCqEvA}BhBuClB_DjBwCP[\\\\OlCqET]f@o@P_@BUN_@jBwCbAaBLAFEdCcEtEiHvKmQdAcBVRNDf@Bp@@vB@?dA?l@BFChCAlC@ZFd@n@lF`@vBBr@AxBrB??kC?_B?Q{ABa@UKWM}@s@gFEG?UDaGBWDWFiA_EEg@COEWShAgB|CaFhHgLdAcBRm@zAaCfBsC~CeFdDgFdBsCTKh@y@dAeBf@u@~GsKzPuXpMuS`B_CnFkHxFsHhLkOdCkDRY\\\\]vBwCT[fAkBr@wAzBuC|NyRrCwD`BzB^d@NZnAtDpMmHfB_AVCHVTt@\\\\KDNFNFDB?@An@kAWU?A'},\n",
       " 'summary': 'Parrott St and Hays St',\n",
       " 'warnings': [],\n",
       " 'waypoint_order': [0, 1, 2, 3, 4, 5, 6, 7, 8, 9, 10, 11]}"
      ]
     },
     "execution_count": 36,
     "metadata": {},
     "output_type": "execute_result"
    }
   ],
   "source": [
    "w1"
   ]
  },
  {
   "cell_type": "code",
   "execution_count": 30,
   "id": "d152c00c-d2ef-45d7-a16f-380b155d432e",
   "metadata": {},
   "outputs": [],
   "source": [
    "step_by_step = w1['legs'][0]['steps']"
   ]
  },
  {
   "cell_type": "code",
   "execution_count": 32,
   "id": "558d175c-89b4-4790-abd2-b11865811663",
   "metadata": {},
   "outputs": [
    {
     "data": {
      "text/plain": [
       "[{'distance': {'text': '489 ft', 'value': 149},\n",
       "  'duration': {'text': '1 min', 'value': 37},\n",
       "  'end_location': {'lat': 37.71998800000001, 'lng': -122.1596647},\n",
       "  'html_instructions': 'Head <b>southeast</b> toward <b>Parrott St</b>',\n",
       "  'polyline': {'points': 'clfeFfnrhVNI~@q@NKj@a@|@o@ZQ'},\n",
       "  'start_location': {'lat': 37.7211383, 'lng': -122.1605215},\n",
       "  'travel_mode': 'DRIVING'},\n",
       " {'distance': {'text': '0.2 mi', 'value': 399},\n",
       "  'duration': {'text': '1 min', 'value': 73},\n",
       "  'end_location': {'lat': 37.7216452, 'lng': -122.1556473},\n",
       "  'html_instructions': 'Turn <b>left</b> onto <b>Parrott St</b>',\n",
       "  'maneuver': 'turn-left',\n",
       "  'polyline': {'points': '}dfeFzhrhVQi@a@qAG[Qi@eAgD{A}EsAgEGQ'},\n",
       "  'start_location': {'lat': 37.71998800000001, 'lng': -122.1596647},\n",
       "  'travel_mode': 'DRIVING'},\n",
       " {'distance': {'text': '0.2 mi', 'value': 381},\n",
       "  'duration': {'text': '1 min', 'value': 67},\n",
       "  'end_location': {'lat': 37.7246916, 'lng': -122.1576365},\n",
       "  'html_instructions': 'Turn <b>left</b> onto <b>Hays St</b><div style=\"font-size:0.9em\">Destination will be on the right</div>',\n",
       "  'maneuver': 'turn-left',\n",
       "  'polyline': {'points': 'iofeFxoqhV_@RwCbBy@d@yBnA_@RaCtAQJEBQJg@X'},\n",
       "  'start_location': {'lat': 37.7216452, 'lng': -122.1556473},\n",
       "  'travel_mode': 'DRIVING'}]"
      ]
     },
     "execution_count": 32,
     "metadata": {},
     "output_type": "execute_result"
    }
   ],
   "source": [
    "step_by_step"
   ]
  },
  {
   "cell_type": "code",
   "execution_count": 33,
   "id": "ea287668-6f43-42bf-9c56-21c0204a09e7",
   "metadata": {},
   "outputs": [],
   "source": [
    "polyline = w1[\"overview_polyline\"]"
   ]
  },
  {
   "cell_type": "code",
   "execution_count": 37,
   "id": "83ea685c-d9c6-4446-914a-993abe188bf8",
   "metadata": {},
   "outputs": [
    {
     "data": {
      "text/plain": [
       "{'points': 'clfeFfnrhVjCiB|@o@ZQQi@i@mBwAqEoDeLGQ_@RqEhCyCbBkDpByC`B}@}Ca@qAj@q@dBkCl@{@v@iAdBqC~CuE~BuDjFyHlDcFdG{IlFaIjCyDfEgGtFsINCRWhAgBdBmC|AcCBKHY`AuATMr@eA|BoDvBkDfBsC^o@@U|AgC`FcIrCqEvA}BhBuClB_DjBwCP[\\\\OlCqET]f@o@P_@BUN_@jBwCbAaBLAFEdCcEtEiHvKmQdAcBVRNDf@Bp@@vB@?dA?l@BFChCAlC@ZFd@n@lF`@vBBr@AxBrB??kC?_B?Q{ABa@UKWM}@s@gFEG?UDaGBWDWFiA_EEg@COEWShAgB|CaFhHgLdAcBRm@zAaCfBsC~CeFdDgFdBsCTKh@y@dAeBf@u@~GsKzPuXpMuS`B_CnFkHxFsHhLkOdCkDRY\\\\]vBwCT[fAkBr@wAzBuC|NyRrCwD`BzB^d@NZnAtDpMmHfB_AVCHVTt@\\\\KDNFNFDB?@An@kAWU?A'}"
      ]
     },
     "execution_count": 37,
     "metadata": {},
     "output_type": "execute_result"
    }
   ],
   "source": [
    "polyline"
   ]
  },
  {
   "cell_type": "code",
   "execution_count": 38,
   "id": "2af9d1b3-fe4a-4929-8120-0b9033266cc5",
   "metadata": {},
   "outputs": [],
   "source": [
    "#https://github.com/geodav-tech/decode-google-maps-polyline\n",
    "polyline_decoded = decode_polyline(polyline[\"points\"])"
   ]
  },
  {
   "cell_type": "code",
   "execution_count": 48,
   "id": "f979fffc-dd6a-49b4-8ddf-c2251500a762",
   "metadata": {},
   "outputs": [],
   "source": [
    "polyline_gdf = (pd.DataFrame(polyline_decoded, )\n",
    "                .rename(columns = {0: \"longitude\", 1: \"latitude\"})\n",
    "               )\n",
    "\n",
    "polyline_gdf = gpd.GeoDataFrame(polyline_gdf, \n",
    "                                geometry=gpd.points_from_xy(polyline_gdf.longitude, \n",
    "                                                           polyline_gdf.latitude), \n",
    "                                crs=\"EPSG:4326\")"
   ]
  },
  {
   "cell_type": "code",
   "execution_count": 54,
   "id": "4965f42b-d100-4446-ac15-743899f9f775",
   "metadata": {},
   "outputs": [
    {
     "data": {
      "text/plain": [
       "Index(['longitude', 'latitude', 'geometry'], dtype='object')"
      ]
     },
     "execution_count": 54,
     "metadata": {},
     "output_type": "execute_result"
    }
   ],
   "source": [
    "polyline_gdf.columns"
   ]
  },
  {
   "cell_type": "code",
   "execution_count": 57,
   "id": "7a64bf70-5caa-4aee-a5e3-5a7bfc6e74ef",
   "metadata": {},
   "outputs": [],
   "source": [
    "import shapely\n",
    "\n",
    "polyline_gdf['group'] = 1\n",
    "\n",
    "polyline_gdf2 = polyline_gdf.groupby(\"group\")[\"geometry\"].apply(\n",
    "    lambda x: shapely.geometry.LineString(x.tolist())).reset_index()\n"
   ]
  },
  {
   "cell_type": "code",
   "execution_count": 59,
   "id": "023562a8-0a7f-4d82-8756-8a62b516dc35",
   "metadata": {},
   "outputs": [
    {
     "data": {
      "text/plain": [
       "<AxesSubplot:>"
      ]
     },
     "execution_count": 59,
     "metadata": {},
     "output_type": "execute_result"
    },
    {
     "data": {
      "image/png": "[encoded data removed]",
      "text/plain": [
       "<Figure size 432x288 with 1 Axes>"
      ]
     },
     "metadata": {
      "needs_background": "light"
     },
     "output_type": "display_data"
    }
   ],
   "source": [
    "polyline_gdf2.plot()"
   ]
  },
  {
   "cell_type": "markdown",
   "id": "5cb750bc-aaee-4ba9-9df1-e1266f002e08",
   "metadata": {},
   "source": [
    "### Using distance_matrix - works, but API key now restricted to `directions`\n",
    "\n",
    "* https://traveltime.com/blog/google-distance-matrix-api-traveltime-search-api - there's 25 requests limit for `distance_matrix`"
   ]
  },
  {
   "cell_type": "code",
   "execution_count": null,
   "id": "8c349463-2e47-4b8e-8f71-77dc87e57c7b",
   "metadata": {},
   "outputs": [],
   "source": [
    "#https://www.linkedin.com/pulse/calculating-distances-using-python-google-maps-r%C3%A9gis-nisengwe?articleId=6625061973447053312\n",
    "'''\n",
    "actual_duration = []\n",
    "\n",
    "for i, od_tup in enumerate(zip(origin, dest)):\n",
    "    result = gmaps.distance_matrix(od_tup[0], od_tup[1], mode='driving', departure_time=departures[i])[\"rows\"][0][\"elements\"][0][\"duration\"][\"value\"]  \n",
    "   \n",
    "    result = result/3600\n",
    "    actual_duration.append(result)\n",
    "    \n",
    "final[\"duration (Hours)\"] = actual_duration\n",
    "final\n",
    "#final.to_parquet(\"test_od.parquet\")\n",
    "'''"
   ]
  },
  {
   "cell_type": "code",
   "execution_count": null,
   "id": "98840010-a4f0-4a8c-b127-ed6f4b7c034d",
   "metadata": {},
   "outputs": [],
   "source": [
    "#https://faun.pub/using-google-maps-distance-matrix-api-to-create-a-distance-table-93419c409d4f"
   ]
  },
  {
   "cell_type": "markdown",
   "id": "fe8a1b04-30ac-47ba-98ec-ca4d4bc6567a",
   "metadata": {},
   "source": [
    "### Estimate how many requests"
   ]
  },
  {
   "cell_type": "code",
   "execution_count": 115,
   "id": "b2b570ec-f027-4457-842a-725d1e71fed3",
   "metadata": {},
   "outputs": [
    {
     "name": "stdout",
     "output_type": "stream",
     "text": [
      "# unique routes: 2\n",
      "1st pass + 25% of stops in subset: 6.75\n",
      "1st pass + 50% of stops in subset: 11.5\n",
      "1st pass + 75% of stops in subset: 16.25\n",
      "Upper bound: do not get rid of any routes, take every 3rd stop: 19\n"
     ]
    }
   ],
   "source": [
    "unique_routes = df[[\"calitp_itp_id\", \"route_id\"]].drop_duplicates()\n",
    "num_routes = len(unique_routes)\n",
    "\n",
    "print(f\"# unique routes: {num_routes}\")\n",
    "\n",
    "print(f\"1st pass + 25% of stops in subset: {num_routes + 0.25*len(subset)}\")\n",
    "print(f\"1st pass + 50% of stops in subset: {num_routes + 0.5*len(subset)}\")\n",
    "print(f\"1st pass + 75% of stops in subset: {num_routes + 0.75*len(subset)}\")\n",
    "print(f\"Upper bound: do not get rid of any routes, take every 3rd stop: {len(subset)}\")"
   ]
  },
  {
   "cell_type": "code",
   "execution_count": 116,
   "id": "b6d19180-154f-4953-92f4-188efedd8506",
   "metadata": {},
   "outputs": [],
   "source": [
    "full_df = catalog.parallel_trips_with_stops.read()"
   ]
  },
  {
   "cell_type": "code",
   "execution_count": 118,
   "id": "2c4869b1-88cb-429c-8216-7aede72c6648",
   "metadata": {},
   "outputs": [
    {
     "data": {
      "text/plain": [
       "2242"
      ]
     },
     "execution_count": 118,
     "metadata": {},
     "output_type": "execute_result"
    }
   ],
   "source": [
    "unique_routes = full_df[[\"calitp_itp_id\", \"route_id\"]].drop_duplicates()\n",
    "len(unique_routes)"
   ]
  },
  {
   "cell_type": "code",
   "execution_count": 123,
   "id": "61d17591-d8ad-4a44-a7ee-a88169b75371",
   "metadata": {},
   "outputs": [
    {
     "data": {
      "text/plain": [
       "calitp_itp_id  route_id  \n",
       "294            22            178\n",
       "               27            176\n",
       "282            17305         172\n",
       "314            1029          160\n",
       "               1036          150\n",
       "                            ... \n",
       "200            BA:Beige-S      2\n",
       "               ST:82           2\n",
       "               ST:4            2\n",
       "482            31              1\n",
       "324            8               1\n",
       "Length: 2242, dtype: int64"
      ]
     },
     "execution_count": 123,
     "metadata": {},
     "output_type": "execute_result"
    }
   ],
   "source": [
    "full_df[[\"calitp_itp_id\", \"route_id\"]].value_counts()"
   ]
  },
  {
   "cell_type": "code",
   "execution_count": 127,
   "id": "833c6a1a-95f6-42aa-b84b-0520e63b6f91",
   "metadata": {},
   "outputs": [
    {
     "data": {
      "text/plain": [
       "7860"
      ]
     },
     "execution_count": 127,
     "metadata": {},
     "output_type": "execute_result"
    }
   ],
   "source": [
    "ful"
   ]
  },
  {
   "cell_type": "code",
   "execution_count": null,
   "id": "1e7c86c1-8fd3-4471-b846-1f87287ee78f",
   "metadata": {},
   "outputs": [],
   "source": [
    "keep_trips = [-7505741281882708052]\n",
    "df[df.trip_key.isin(keep_trips)]"
   ]
  },
  {
   "cell_type": "code",
   "execution_count": null,
   "id": "4c780867-1d46-47ae-869c-0339dac79d81",
   "metadata": {},
   "outputs": [],
   "source": [
    "subset[subset.trip_key.isin(keep_trips)]"
   ]
  },
  {
   "cell_type": "markdown",
   "id": "cf2b0b46-b119-4881-b7de-28a81f3d5218",
   "metadata": {},
   "source": [
    "Don't like how `osmx` is returning the same nodes for bus stops, even at every 5th bus stop.\n",
    "\n",
    "`osrm` doesn't install bc of some `GDAL` dependencies.\n",
    "\n",
    "Can Google API be used? But need to check terms and conditions if we can make requests to calculate travel time or even grab speed limits through the\n",
    "[Python package](https://github.com/googlemaps/google-maps-services-python)\n",
    "\n",
    "At minimum, can calculate distance between stops, sum it up, and for cars, set an assumption of 30 mph or 45 mph. If we can't use Google API to grab speed limit, then we will hard code it."
   ]
  },
  {
   "cell_type": "code",
   "execution_count": null,
   "id": "90412697-9dac-41ba-941f-1697c504a22c",
   "metadata": {},
   "outputs": [],
   "source": [
    "def calculate_distance_traveled(df):\n",
    "    group_cols = [\"calitp_itp_id\", \"route_id\"]\n",
    "    sort_cols = group_cols + [\"stop_sequence\"]\n",
    "    \n",
    "    df = df.to_crs(shared_utils.geography_utils.CA_StatePlane)\n",
    "    \n",
    "    # Distance traveled\n",
    "    df = df.assign(\n",
    "        # Previous geometry\n",
    "        start = (df.sort_values(sort_cols)\n",
    "                 .groupby(group_cols)[\"geometry\"]\n",
    "                 .apply(lambda x: x.shift(1))),\n",
    "        end = (df.sort_values(sort_cols)\n",
    "               .groupby(group_cols)[\"geometry\"]\n",
    "               .apply(lambda x: x.shift(0))\n",
    "              )\n",
    "    )\n",
    "    \n",
    "    df = df.assign(\n",
    "        feet_traveled = df.end.distance(df.start) \n",
    "    ).drop(columns = [\"start\", \"end\"])\n",
    "        \n",
    "    return df\n",
    "            "
   ]
  },
  {
   "cell_type": "code",
   "execution_count": null,
   "id": "1fa93159-af80-4879-9985-a8bd50caa794",
   "metadata": {},
   "outputs": [],
   "source": [
    "df = calculate_distance_traveled(parallel)"
   ]
  },
  {
   "cell_type": "code",
   "execution_count": null,
   "id": "e4337310-e00a-41b2-a7f4-4d66c2b29aa0",
   "metadata": {},
   "outputs": [],
   "source": [
    "def calculate_time_traveled(df):\n",
    "    # Use a set of assumptions\n",
    "    \n",
    "    AVG_SPEED = 40\n",
    "    \n",
    "    df = df.assign(\n",
    "        max_stop = (df.groupby([\"itp_id\", \"route_id\", \"trip_id\"])\n",
    "                    [\"stop_sequence\"].transform(\"max\"))\n",
    "    )\n",
    "    \n",
    "    df2 = shared_utils.geography_utils.aggregate_by_geography(\n",
    "        df,\n",
    "        group_cols = [\"itp_id\", \"route_id\", \"trip_id\", \n",
    "                     \"trip_first_departure_ts\", \"trip_last_arrival_ts\"],\n",
    "        sum_cols = [\"feet_traveled\"], \n",
    "        mean_cols = [\"service_hours\", \"max_stop\"]\n",
    "    )\n",
    "    \n",
    "    df2 = df2.assign(\n",
    "        miles_traveled = df2.feet_traveled.divide(\n",
    "            shared_utils.geography_utils.FEET_PER_MI)\n",
    "    \n",
    "    )\n",
    "    \n",
    "    # speed = distance / time\n",
    "    # time = distance / speed\n",
    "    df2 = df2.assign(\n",
    "        car_trip_time_hr = df2.miles_traveled.divide(AVG_SPEED),\n",
    "    ).drop(columns = \"feet_traveled\")\n",
    "        \n",
    "    return df2"
   ]
  },
  {
   "cell_type": "code",
   "execution_count": null,
   "id": "0f722a9d-7029-4bd1-9eef-05d5fc36abce",
   "metadata": {},
   "outputs": [],
   "source": [
    "df2 = calculate_time_traveled(df)"
   ]
  },
  {
   "cell_type": "code",
   "execution_count": null,
   "id": "976c6b43-9ab4-4e9e-8f97-10d1e90749ba",
   "metadata": {},
   "outputs": [],
   "source": []
  }
 ],
 "metadata": {
  "kernelspec": {
   "display_name": "Python 3 (ipykernel)",
   "language": "python",
   "name": "python3"
  },
  "language_info": {
   "codemirror_mode": {
    "name": "ipython",
    "version": 3
   },
   "file_extension": ".py",
   "mimetype": "text/x-python",
   "name": "python",
   "nbconvert_exporter": "python",
   "pygments_lexer": "ipython3",
   "version": "3.9.10"
  }
 },
 "nbformat": 4,
 "nbformat_minor": 5
}
