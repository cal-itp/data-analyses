{
 "cells": [
  {
   "cell_type": "markdown",
   "id": "3b7ff62b-45d8-42aa-8920-269d094d70eb",
   "metadata": {},
   "source": [
    "# Estimate car vs bus travel time\n",
    "\n",
    "* Pull out parallel routes. Run `setup_parallel_trips_with_stops.py`\n",
    "* Make car travel down same route as the bus.\n",
    "* `osmx` snaps to nodes, but even for every 5th bus stop, it's snapping to same node.\n",
    "* `osrm` wasn't able to be installed in Hub\n",
    "* `valhalla`? Kuan Butt's blog?\n",
    "\n",
    "#### Quick and Dirty Approach\n",
    "* Based on distance traveled, estimate car travel time with some assumptions (35, 40 mph?)\n",
    "* For now, estimate car travel with lower mph assumption, so that some viable routes can be pulled. Don't want bus to look worse than it is (mid-day, free-flowing), and compare it to car travel (which is probably estimated during free-flowing too)\n",
    "\n",
    "Later, swap out car travel time estimation with other approaches. Maybe use Google API to do requests."
   ]
  },
  {
   "cell_type": "code",
   "execution_count": 1,
   "id": "93a66400-c9f1-41f1-999b-3e9d6bb849bc",
   "metadata": {},
   "outputs": [
    {
     "name": "stderr",
     "output_type": "stream",
     "text": [
      "/opt/conda/lib/python3.9/site-packages/geopandas/_compat.py:111: UserWarning: The Shapely GEOS version (3.10.2-CAPI-1.16.0) is incompatible with the GEOS version PyGEOS was compiled with (3.10.1-CAPI-1.16.0). Conversions between both will be slow.\n",
      "  warnings.warn(\n",
      "/opt/conda/lib/python3.9/importlib/__init__.py:127: UserWarning: Obsolete pybigquery is installed, which is likely to\n",
      "interfere with sqlalchemy_bigquery.\n",
      "pybigquery should be uninstalled.\n",
      "  return _bootstrap._gcd_import(name[level:], package, level)\n",
      "E0406 23:35:10.078006158    2246 fork_posix.cc:70]           Fork support is only compatible with the epoll1 and poll polling strategies\n",
      "E0406 23:35:12.416892764    2246 fork_posix.cc:70]           Fork support is only compatible with the epoll1 and poll polling strategies\n"
     ]
    },
    {
     "data": {
      "text/plain": [
       "True"
      ]
     },
     "execution_count": 1,
     "metadata": {},
     "output_type": "execute_result"
    }
   ],
   "source": [
    "#https://stackoverflow.com/questions/55162077/how-to-get-the-driving-distance-between-two-geographical-coordinates-using-pytho\n",
    "import dotenv\n",
    "import geopandas as gpd\n",
    "import os\n",
    "import pandas as pd\n",
    "\n",
    "from siuba import *\n",
    "\n",
    "from shared_utils import geography_utils\n",
    "\n",
    "dotenv.load_dotenv(\"_env\")"
   ]
  },
  {
   "cell_type": "code",
   "execution_count": 2,
   "id": "8659f63d-bf49-4331-b4b2-d449d73d52a1",
   "metadata": {},
   "outputs": [],
   "source": [
    "GOOGLE_API_KEY = os.environ[\"GOOGLE_API_KEY\"]"
   ]
  },
  {
   "cell_type": "code",
   "execution_count": 3,
   "id": "c73dbd25-8ca4-4d28-86e9-65707b90e004",
   "metadata": {},
   "outputs": [],
   "source": [
    "df = gpd.read_parquet(\"./data/parallel_trips_with_stops.parquet\")"
   ]
  },
  {
   "cell_type": "code",
   "execution_count": 4,
   "id": "f2a1dacc-a8a2-4e3f-a6bf-47384fa29b6b",
   "metadata": {},
   "outputs": [],
   "source": [
    "trip_group = [\"calitp_itp_id\", \"route_id\", \"trip_id\", \"shape_id\"]\n",
    "\n",
    "def subset_stops(df, n):\n",
    "    # https://stackoverflow.com/questions/25055712/pandas-every-nth-row\n",
    "    # Maybe not use every bus stop, since bus stops are spaced fairly closely\n",
    "    # Maybe every other, every 3rd? want to mimic the bus route, do not want\n",
    "    # to stray too far\n",
    "\n",
    "    # df = df.iloc[::3]\n",
    "    df[\"stop_rank\"] = df.groupby(trip_group).cumcount() + 1\n",
    "    \n",
    "    subset = df[df.stop_rank % n == 0]\n",
    "    \n",
    "    return subset\n",
    "    "
   ]
  },
  {
   "cell_type": "code",
   "execution_count": 5,
   "id": "b57cf0ad-b0a8-490c-9868-589f8081074a",
   "metadata": {},
   "outputs": [],
   "source": [
    "# Selecting 2 trips\n",
    "keep_trips = [\n",
    "    -7505741281882708052,\n",
    "    -8806955513757008482 \n",
    "]\n",
    "\n",
    "df = df[df.trip_key.isin(keep_trips)].reset_index(drop=True)\n",
    "subset = subset_stops(df, 3)"
   ]
  },
  {
   "cell_type": "code",
   "execution_count": 6,
   "id": "4e8f868f-7c47-487e-91a3-ace44e76fd5c",
   "metadata": {},
   "outputs": [],
   "source": [
    "def select_origin_destination(df):\n",
    "    df = df.assign(\n",
    "        origin = (df.sort_values(trip_group + [\"stop_sequence\"])\n",
    "                  .groupby(trip_group)[\"stop_sequence\"]\n",
    "                  .transform(\"min\")\n",
    "                 ),\n",
    "        destination = (df.sort_values(trip_group + [\"stop_sequence\"])\n",
    "                       .groupby(trip_group)[\"stop_sequence\"]\n",
    "                       .transform(\"max\")\n",
    "                      )\n",
    "    )\n",
    "    \n",
    "    df2 = (df[(df.stop_sequence == df.origin) | \n",
    "             (df.stop_sequence == df.destination)]\n",
    "           .reset_index(drop=True)\n",
    "           .drop(columns = [\"origin\", \"destination\"])\n",
    "          )\n",
    "    \n",
    "    df2 = df2.assign(\n",
    "        longitude = df2.geometry.x,\n",
    "        latitude = df2.geometry.y,\n",
    "    ).drop(columns = \"geometry\")\n",
    "    \n",
    "    return df2"
   ]
  },
  {
   "cell_type": "code",
   "execution_count": 22,
   "id": "9e79a45b-9719-435f-9268-1acba2f36f69",
   "metadata": {},
   "outputs": [],
   "source": [
    "# Wrangle it so there are columns with previous point and current point in the same row\n",
    "def add_previous_location(df):\n",
    "    df = df.assign(\n",
    "        prev_longitude = (df.sort_values(trip_group + [\"stop_sequence\"])\n",
    "                        .groupby(trip_group)[\"longitude\"]\n",
    "                        .apply(lambda x: x.shift(1))\n",
    "                       ),\n",
    "        prev_latitude = (df.sort_values(trip_group + [\"stop_sequence\"])\n",
    "                         .groupby(trip_group)[\"latitude\"]\n",
    "                         .apply(lambda x: x.shift(1))\n",
    "        )\n",
    "    )\n",
    "    \n",
    "    # Only keep the observation that has start_geom (drop the first obs for each trip grouping)\n",
    "    df2 = df[df.prev_longitude.notna()].reset_index(drop=True)\n",
    "    \n",
    "    # Make tupes instead of just floats\n",
    "    df3 = df2.assign(\n",
    "        start = df2.apply(lambda x: (x.prev_latitude, x.prev_longitude), axis=1),\n",
    "        end = df2.apply(lambda x: (x.latitude, x.longitude), axis=1)        \n",
    "        #start = df2.apply(lambda x: (x.prev_longitude, x.prev_latitude), axis=1),\n",
    "        #end = df2.apply(lambda x: (x.longitude, x.latitude), axis=1)\n",
    "\n",
    "    ).drop(columns = [\"latitude\", \"longitude\", \"prev_latitude\", \"prev_longitude\"])\n",
    "    \n",
    "    return df3"
   ]
  },
  {
   "cell_type": "code",
   "execution_count": 23,
   "id": "e1aa21b6-1231-4acf-8e68-23d1ac2a9e7a",
   "metadata": {},
   "outputs": [
    {
     "data": {
      "text/html": [
       "<div>\n",
       "<style scoped>\n",
       "    .dataframe tbody tr th:only-of-type {\n",
       "        vertical-align: middle;\n",
       "    }\n",
       "\n",
       "    .dataframe tbody tr th {\n",
       "        vertical-align: top;\n",
       "    }\n",
       "\n",
       "    .dataframe thead th {\n",
       "        text-align: right;\n",
       "    }\n",
       "</style>\n",
       "<table border=\"1\" class=\"dataframe\">\n",
       "  <thead>\n",
       "    <tr style=\"text-align: right;\">\n",
       "      <th></th>\n",
       "      <th>calitp_itp_id</th>\n",
       "      <th>date</th>\n",
       "      <th>trip_key</th>\n",
       "      <th>trip_id</th>\n",
       "      <th>is_in_service</th>\n",
       "      <th>day_name</th>\n",
       "      <th>stop_sequence</th>\n",
       "      <th>stop_id</th>\n",
       "      <th>departure_time</th>\n",
       "      <th>shape_id</th>\n",
       "      <th>route_id</th>\n",
       "      <th>service_hours</th>\n",
       "      <th>stop_rank</th>\n",
       "      <th>longitude</th>\n",
       "      <th>latitude</th>\n",
       "    </tr>\n",
       "  </thead>\n",
       "  <tbody>\n",
       "    <tr>\n",
       "      <th>0</th>\n",
       "      <td>4</td>\n",
       "      <td>2022-01-06</td>\n",
       "      <td>-7505741281882708052</td>\n",
       "      <td>13277020</td>\n",
       "      <td>True</td>\n",
       "      <td>Thursday</td>\n",
       "      <td>1</td>\n",
       "      <td>4370</td>\n",
       "      <td>06:41:00</td>\n",
       "      <td>shp-10-10</td>\n",
       "      <td>10</td>\n",
       "      <td>0.450000</td>\n",
       "      <td>1</td>\n",
       "      <td>-122.160201</td>\n",
       "      <td>37.721266</td>\n",
       "    </tr>\n",
       "    <tr>\n",
       "      <th>1</th>\n",
       "      <td>4</td>\n",
       "      <td>2022-01-06</td>\n",
       "      <td>-7505741281882708052</td>\n",
       "      <td>13277020</td>\n",
       "      <td>True</td>\n",
       "      <td>Thursday</td>\n",
       "      <td>36</td>\n",
       "      <td>1582</td>\n",
       "      <td>07:08:00</td>\n",
       "      <td>shp-10-10</td>\n",
       "      <td>10</td>\n",
       "      <td>0.450000</td>\n",
       "      <td>36</td>\n",
       "      <td>-122.087180</td>\n",
       "      <td>37.670239</td>\n",
       "    </tr>\n",
       "    <tr>\n",
       "      <th>2</th>\n",
       "      <td>182</td>\n",
       "      <td>2022-01-06</td>\n",
       "      <td>-8806955513757008482</td>\n",
       "      <td>10910002100513-DEC21</td>\n",
       "      <td>True</td>\n",
       "      <td>Thursday</td>\n",
       "      <td>1</td>\n",
       "      <td>30019</td>\n",
       "      <td>05:13:00</td>\n",
       "      <td>9100210_DEC21</td>\n",
       "      <td>910-13153</td>\n",
       "      <td>0.816667</td>\n",
       "      <td>1</td>\n",
       "      <td>-118.045132</td>\n",
       "      <td>34.072191</td>\n",
       "    </tr>\n",
       "    <tr>\n",
       "      <th>3</th>\n",
       "      <td>182</td>\n",
       "      <td>2022-01-06</td>\n",
       "      <td>-8806955513757008482</td>\n",
       "      <td>10910002100513-DEC21</td>\n",
       "      <td>True</td>\n",
       "      <td>Thursday</td>\n",
       "      <td>21</td>\n",
       "      <td>30005</td>\n",
       "      <td>06:02:00</td>\n",
       "      <td>9100210_DEC21</td>\n",
       "      <td>910-13153</td>\n",
       "      <td>0.816667</td>\n",
       "      <td>21</td>\n",
       "      <td>-118.287306</td>\n",
       "      <td>33.869338</td>\n",
       "    </tr>\n",
       "  </tbody>\n",
       "</table>\n",
       "</div>"
      ],
      "text/plain": [
       "   calitp_itp_id        date             trip_key               trip_id  \\\n",
       "0              4  2022-01-06 -7505741281882708052              13277020   \n",
       "1              4  2022-01-06 -7505741281882708052              13277020   \n",
       "2            182  2022-01-06 -8806955513757008482  10910002100513-DEC21   \n",
       "3            182  2022-01-06 -8806955513757008482  10910002100513-DEC21   \n",
       "\n",
       "   is_in_service  day_name  stop_sequence stop_id departure_time  \\\n",
       "0           True  Thursday              1    4370       06:41:00   \n",
       "1           True  Thursday             36    1582       07:08:00   \n",
       "2           True  Thursday              1   30019       05:13:00   \n",
       "3           True  Thursday             21   30005       06:02:00   \n",
       "\n",
       "        shape_id   route_id  service_hours  stop_rank   longitude   latitude  \n",
       "0      shp-10-10         10       0.450000          1 -122.160201  37.721266  \n",
       "1      shp-10-10         10       0.450000         36 -122.087180  37.670239  \n",
       "2  9100210_DEC21  910-13153       0.816667          1 -118.045132  34.072191  \n",
       "3  9100210_DEC21  910-13153       0.816667         21 -118.287306  33.869338  "
      ]
     },
     "execution_count": 23,
     "metadata": {},
     "output_type": "execute_result"
    }
   ],
   "source": [
    "od = select_origin_destination(df)\n",
    "od"
   ]
  },
  {
   "cell_type": "code",
   "execution_count": 24,
   "id": "4a1d4ba7-e447-4515-b344-a545d5492f69",
   "metadata": {},
   "outputs": [
    {
     "data": {
      "text/html": [
       "<div>\n",
       "<style scoped>\n",
       "    .dataframe tbody tr th:only-of-type {\n",
       "        vertical-align: middle;\n",
       "    }\n",
       "\n",
       "    .dataframe tbody tr th {\n",
       "        vertical-align: top;\n",
       "    }\n",
       "\n",
       "    .dataframe thead th {\n",
       "        text-align: right;\n",
       "    }\n",
       "</style>\n",
       "<table border=\"1\" class=\"dataframe\">\n",
       "  <thead>\n",
       "    <tr style=\"text-align: right;\">\n",
       "      <th></th>\n",
       "      <th>calitp_itp_id</th>\n",
       "      <th>date</th>\n",
       "      <th>trip_key</th>\n",
       "      <th>trip_id</th>\n",
       "      <th>is_in_service</th>\n",
       "      <th>day_name</th>\n",
       "      <th>stop_sequence</th>\n",
       "      <th>stop_id</th>\n",
       "      <th>departure_time</th>\n",
       "      <th>shape_id</th>\n",
       "      <th>route_id</th>\n",
       "      <th>service_hours</th>\n",
       "      <th>stop_rank</th>\n",
       "      <th>start</th>\n",
       "      <th>end</th>\n",
       "    </tr>\n",
       "  </thead>\n",
       "  <tbody>\n",
       "    <tr>\n",
       "      <th>0</th>\n",
       "      <td>4</td>\n",
       "      <td>2022-01-06</td>\n",
       "      <td>-7505741281882708052</td>\n",
       "      <td>13277020</td>\n",
       "      <td>True</td>\n",
       "      <td>Thursday</td>\n",
       "      <td>36</td>\n",
       "      <td>1582</td>\n",
       "      <td>07:08:00</td>\n",
       "      <td>shp-10-10</td>\n",
       "      <td>10</td>\n",
       "      <td>0.450000</td>\n",
       "      <td>36</td>\n",
       "      <td>(37.721266, -122.160201)</td>\n",
       "      <td>(37.670239, -122.08718)</td>\n",
       "    </tr>\n",
       "    <tr>\n",
       "      <th>1</th>\n",
       "      <td>182</td>\n",
       "      <td>2022-01-06</td>\n",
       "      <td>-8806955513757008482</td>\n",
       "      <td>10910002100513-DEC21</td>\n",
       "      <td>True</td>\n",
       "      <td>Thursday</td>\n",
       "      <td>21</td>\n",
       "      <td>30005</td>\n",
       "      <td>06:02:00</td>\n",
       "      <td>9100210_DEC21</td>\n",
       "      <td>910-13153</td>\n",
       "      <td>0.816667</td>\n",
       "      <td>21</td>\n",
       "      <td>(34.072191, -118.045132)</td>\n",
       "      <td>(33.869338, -118.287306)</td>\n",
       "    </tr>\n",
       "  </tbody>\n",
       "</table>\n",
       "</div>"
      ],
      "text/plain": [
       "   calitp_itp_id        date             trip_key               trip_id  \\\n",
       "0              4  2022-01-06 -7505741281882708052              13277020   \n",
       "1            182  2022-01-06 -8806955513757008482  10910002100513-DEC21   \n",
       "\n",
       "   is_in_service  day_name  stop_sequence stop_id departure_time  \\\n",
       "0           True  Thursday             36    1582       07:08:00   \n",
       "1           True  Thursday             21   30005       06:02:00   \n",
       "\n",
       "        shape_id   route_id  service_hours  stop_rank  \\\n",
       "0      shp-10-10         10       0.450000         36   \n",
       "1  9100210_DEC21  910-13153       0.816667         21   \n",
       "\n",
       "                      start                       end  \n",
       "0  (37.721266, -122.160201)   (37.670239, -122.08718)  \n",
       "1  (34.072191, -118.045132)  (33.869338, -118.287306)  "
      ]
     },
     "execution_count": 24,
     "metadata": {},
     "output_type": "execute_result"
    }
   ],
   "source": [
    "od2 = add_previous_location(od)\n",
    "od2"
   ]
  },
  {
   "cell_type": "code",
   "execution_count": 25,
   "id": "20c7f00f-3d08-4d70-9dd4-fce162c4d781",
   "metadata": {},
   "outputs": [],
   "source": [
    "#https://www.geeksforgeeks.org/python-calculate-distance-duration-two-places-using-google-distance-matrix-api/"
   ]
  },
  {
   "cell_type": "code",
   "execution_count": null,
   "id": "a09ecfcf-3ebe-4b73-8d19-5e79bd185eee",
   "metadata": {},
   "outputs": [],
   "source": [
    "!pip install googlemaps"
   ]
  },
  {
   "cell_type": "code",
   "execution_count": 10,
   "id": "255163e8-82d4-4af5-8ea4-b0ba09470fb9",
   "metadata": {},
   "outputs": [],
   "source": [
    "import googlemaps"
   ]
  },
  {
   "cell_type": "code",
   "execution_count": 11,
   "id": "c4d3c969-5458-48ae-be9c-193d1c700184",
   "metadata": {},
   "outputs": [],
   "source": [
    "gmaps = googlemaps.Client(key=GOOGLE_API_KEY)"
   ]
  },
  {
   "cell_type": "code",
   "execution_count": 26,
   "id": "48e26721-6e14-499e-9051-c7cb6ea2f36e",
   "metadata": {},
   "outputs": [],
   "source": [
    "origin = od2.start.tolist()\n",
    "dest = od2.end.tolist()"
   ]
  },
  {
   "cell_type": "code",
   "execution_count": 27,
   "id": "8a96097d-a416-409e-b283-352c8d7b2296",
   "metadata": {},
   "outputs": [
    {
     "name": "stdout",
     "output_type": "stream",
     "text": [
      "<class 'list'>\n",
      "<class 'tuple'>\n"
     ]
    }
   ],
   "source": [
    "print(type(origin))\n",
    "print(type(origin[0]))"
   ]
  },
  {
   "cell_type": "code",
   "execution_count": 28,
   "id": "5f5e9123-9513-402e-a4ef-761376d160be",
   "metadata": {},
   "outputs": [
    {
     "name": "stdout",
     "output_type": "stream",
     "text": [
      "(37.721266, -122.160201) (37.670239, -122.08718)\n",
      "(34.072191, -118.045132) (33.869338, -118.287306)\n"
     ]
    }
   ],
   "source": [
    "for o, d in zip(origin, dest):\n",
    "    print(o, d)"
   ]
  },
  {
   "cell_type": "code",
   "execution_count": 31,
   "id": "8c349463-2e47-4b8e-8f71-77dc87e57c7b",
   "metadata": {},
   "outputs": [
    {
     "data": {
      "text/html": [
       "<div>\n",
       "<style scoped>\n",
       "    .dataframe tbody tr th:only-of-type {\n",
       "        vertical-align: middle;\n",
       "    }\n",
       "\n",
       "    .dataframe tbody tr th {\n",
       "        vertical-align: top;\n",
       "    }\n",
       "\n",
       "    .dataframe thead th {\n",
       "        text-align: right;\n",
       "    }\n",
       "</style>\n",
       "<table border=\"1\" class=\"dataframe\">\n",
       "  <thead>\n",
       "    <tr style=\"text-align: right;\">\n",
       "      <th></th>\n",
       "      <th>calitp_itp_id</th>\n",
       "      <th>date</th>\n",
       "      <th>trip_key</th>\n",
       "      <th>trip_id</th>\n",
       "      <th>is_in_service</th>\n",
       "      <th>day_name</th>\n",
       "      <th>stop_sequence</th>\n",
       "      <th>stop_id</th>\n",
       "      <th>departure_time</th>\n",
       "      <th>shape_id</th>\n",
       "      <th>route_id</th>\n",
       "      <th>service_hours</th>\n",
       "      <th>stop_rank</th>\n",
       "      <th>start</th>\n",
       "      <th>end</th>\n",
       "      <th>duration (Hours)</th>\n",
       "    </tr>\n",
       "  </thead>\n",
       "  <tbody>\n",
       "    <tr>\n",
       "      <th>0</th>\n",
       "      <td>4</td>\n",
       "      <td>2022-01-06</td>\n",
       "      <td>-7505741281882708052</td>\n",
       "      <td>13277020</td>\n",
       "      <td>True</td>\n",
       "      <td>Thursday</td>\n",
       "      <td>36</td>\n",
       "      <td>1582</td>\n",
       "      <td>07:08:00</td>\n",
       "      <td>shp-10-10</td>\n",
       "      <td>10</td>\n",
       "      <td>0.450000</td>\n",
       "      <td>36</td>\n",
       "      <td>(37.721266, -122.160201)</td>\n",
       "      <td>(37.670239, -122.08718)</td>\n",
       "      <td>0.256944</td>\n",
       "    </tr>\n",
       "    <tr>\n",
       "      <th>1</th>\n",
       "      <td>182</td>\n",
       "      <td>2022-01-06</td>\n",
       "      <td>-8806955513757008482</td>\n",
       "      <td>10910002100513-DEC21</td>\n",
       "      <td>True</td>\n",
       "      <td>Thursday</td>\n",
       "      <td>21</td>\n",
       "      <td>30005</td>\n",
       "      <td>06:02:00</td>\n",
       "      <td>9100210_DEC21</td>\n",
       "      <td>910-13153</td>\n",
       "      <td>0.816667</td>\n",
       "      <td>21</td>\n",
       "      <td>(34.072191, -118.045132)</td>\n",
       "      <td>(33.869338, -118.287306)</td>\n",
       "      <td>0.556389</td>\n",
       "    </tr>\n",
       "  </tbody>\n",
       "</table>\n",
       "</div>"
      ],
      "text/plain": [
       "   calitp_itp_id        date             trip_key               trip_id  \\\n",
       "0              4  2022-01-06 -7505741281882708052              13277020   \n",
       "1            182  2022-01-06 -8806955513757008482  10910002100513-DEC21   \n",
       "\n",
       "   is_in_service  day_name  stop_sequence stop_id departure_time  \\\n",
       "0           True  Thursday             36    1582       07:08:00   \n",
       "1           True  Thursday             21   30005       06:02:00   \n",
       "\n",
       "        shape_id   route_id  service_hours  stop_rank  \\\n",
       "0      shp-10-10         10       0.450000         36   \n",
       "1  9100210_DEC21  910-13153       0.816667         21   \n",
       "\n",
       "                      start                       end  duration (Hours)  \n",
       "0  (37.721266, -122.160201)   (37.670239, -122.08718)          0.256944  \n",
       "1  (34.072191, -118.045132)  (33.869338, -118.287306)          0.556389  "
      ]
     },
     "execution_count": 31,
     "metadata": {},
     "output_type": "execute_result"
    }
   ],
   "source": [
    "#https://www.linkedin.com/pulse/calculating-distances-using-python-google-maps-r%C3%A9gis-nisengwe?articleId=6625061973447053312\n",
    "\n",
    "actual_duration = []\n",
    "\n",
    "for o, d in zip(origin, dest):\n",
    "    #result = gmaps.distance_matrix(o, d, mode='driving')[\"rows\"][0][\"elements\"][0][\"duration\"][\"value\"]  \n",
    "   \n",
    "    result = result/3600\n",
    "    actual_duration.append(result)\n",
    "    \n",
    "od2[\"duration (Hours)\"] = actual_duration\n",
    "od2\n"
   ]
  },
  {
   "cell_type": "code",
   "execution_count": 32,
   "id": "47dcf816-4134-4892-87d6-623daaeca70c",
   "metadata": {},
   "outputs": [],
   "source": [
    "od2.to_parquet(\"test_od.parquet\")"
   ]
  },
  {
   "cell_type": "code",
   "execution_count": null,
   "id": "98840010-a4f0-4a8c-b127-ed6f4b7c034d",
   "metadata": {},
   "outputs": [],
   "source": [
    "#https://faun.pub/using-google-maps-distance-matrix-api-to-create-a-distance-table-93419c409d4f"
   ]
  },
  {
   "cell_type": "code",
   "execution_count": null,
   "id": "b2b570ec-f027-4457-842a-725d1e71fed3",
   "metadata": {},
   "outputs": [],
   "source": [
    "unique_routes = df[[\"calitp_itp_id\", \"route_id\"]].drop_duplicates()\n",
    "num_routes = len(unique_routes)\n",
    "\n",
    "print(f\"# unique routes: {num_routes}\")\n",
    "\n",
    "print(f\"1st pass + 25% of stops in subset: {num_routes + 0.25*len(subset)}\")\n",
    "print(f\"1st pass + 50% of stops in subset: {num_routes + 0.5*len(subset)}\")\n",
    "print(f\"1st pass + 75% of stops in subset: {num_routes + 0.75*len(subset)}\")\n",
    "print(f\"Upper bound: do not get rid of any routes, take every 3rd stop: {len(subset)}\")"
   ]
  },
  {
   "cell_type": "code",
   "execution_count": null,
   "id": "b6d19180-154f-4953-92f4-188efedd8506",
   "metadata": {},
   "outputs": [],
   "source": []
  },
  {
   "cell_type": "code",
   "execution_count": null,
   "id": "1e7c86c1-8fd3-4471-b846-1f87287ee78f",
   "metadata": {},
   "outputs": [],
   "source": [
    "keep_trips = [-7505741281882708052]\n",
    "df[df.trip_key.isin(keep_trips)]"
   ]
  },
  {
   "cell_type": "code",
   "execution_count": null,
   "id": "4c780867-1d46-47ae-869c-0339dac79d81",
   "metadata": {},
   "outputs": [],
   "source": [
    "subset[subset.trip_key.isin(keep_trips)]"
   ]
  },
  {
   "cell_type": "markdown",
   "id": "cf2b0b46-b119-4881-b7de-28a81f3d5218",
   "metadata": {},
   "source": [
    "Don't like how `osmx` is returning the same nodes for bus stops, even at every 5th bus stop.\n",
    "\n",
    "`osrm` doesn't install bc of some `GDAL` dependencies.\n",
    "\n",
    "Can Google API be used? But need to check terms and conditions if we can make requests to calculate travel time or even grab speed limits through the\n",
    "[Python package](https://github.com/googlemaps/google-maps-services-python)\n",
    "\n",
    "At minimum, can calculate distance between stops, sum it up, and for cars, set an assumption of 30 mph or 45 mph. If we can't use Google API to grab speed limit, then we will hard code it."
   ]
  },
  {
   "cell_type": "code",
   "execution_count": null,
   "id": "90412697-9dac-41ba-941f-1697c504a22c",
   "metadata": {},
   "outputs": [],
   "source": [
    "def calculate_distance_traveled(df):\n",
    "    group_cols = [\"calitp_itp_id\", \"route_id\"]\n",
    "    sort_cols = group_cols + [\"stop_sequence\"]\n",
    "    \n",
    "    df = df.to_crs(shared_utils.geography_utils.CA_StatePlane)\n",
    "    \n",
    "    # Distance traveled\n",
    "    df = df.assign(\n",
    "        # Previous geometry\n",
    "        start = (df.sort_values(sort_cols)\n",
    "                 .groupby(group_cols)[\"geometry\"]\n",
    "                 .apply(lambda x: x.shift(1))),\n",
    "        end = (df.sort_values(sort_cols)\n",
    "               .groupby(group_cols)[\"geometry\"]\n",
    "               .apply(lambda x: x.shift(0))\n",
    "              )\n",
    "    )\n",
    "    \n",
    "    df = df.assign(\n",
    "        feet_traveled = df.end.distance(df.start) \n",
    "    ).drop(columns = [\"start\", \"end\"])\n",
    "        \n",
    "    return df\n",
    "            "
   ]
  },
  {
   "cell_type": "code",
   "execution_count": null,
   "id": "1fa93159-af80-4879-9985-a8bd50caa794",
   "metadata": {},
   "outputs": [],
   "source": [
    "df = calculate_distance_traveled(parallel)"
   ]
  },
  {
   "cell_type": "code",
   "execution_count": null,
   "id": "e4337310-e00a-41b2-a7f4-4d66c2b29aa0",
   "metadata": {},
   "outputs": [],
   "source": [
    "def calculate_time_traveled(df):\n",
    "    # Use a set of assumptions\n",
    "    \n",
    "    AVG_SPEED = 40\n",
    "    \n",
    "    df = df.assign(\n",
    "        max_stop = (df.groupby([\"itp_id\", \"route_id\", \"trip_id\"])\n",
    "                    [\"stop_sequence\"].transform(\"max\"))\n",
    "    )\n",
    "    \n",
    "    df2 = shared_utils.geography_utils.aggregate_by_geography(\n",
    "        df,\n",
    "        group_cols = [\"itp_id\", \"route_id\", \"trip_id\", \n",
    "                     \"trip_first_departure_ts\", \"trip_last_arrival_ts\"],\n",
    "        sum_cols = [\"feet_traveled\"], \n",
    "        mean_cols = [\"service_hours\", \"max_stop\"]\n",
    "    )\n",
    "    \n",
    "    df2 = df2.assign(\n",
    "        miles_traveled = df2.feet_traveled.divide(\n",
    "            shared_utils.geography_utils.FEET_PER_MI)\n",
    "    \n",
    "    )\n",
    "    \n",
    "    # speed = distance / time\n",
    "    # time = distance / speed\n",
    "    df2 = df2.assign(\n",
    "        car_trip_time_hr = df2.miles_traveled.divide(AVG_SPEED),\n",
    "    ).drop(columns = \"feet_traveled\")\n",
    "        \n",
    "    return df2"
   ]
  },
  {
   "cell_type": "code",
   "execution_count": null,
   "id": "0f722a9d-7029-4bd1-9eef-05d5fc36abce",
   "metadata": {},
   "outputs": [],
   "source": [
    "df2 = calculate_time_traveled(df)"
   ]
  },
  {
   "cell_type": "code",
   "execution_count": null,
   "id": "976c6b43-9ab4-4e9e-8f97-10d1e90749ba",
   "metadata": {},
   "outputs": [],
   "source": []
  }
 ],
 "metadata": {
  "kernelspec": {
   "display_name": "Python 3 (ipykernel)",
   "language": "python",
   "name": "python3"
  },
  "language_info": {
   "codemirror_mode": {
    "name": "ipython",
    "version": 3
   },
   "file_extension": ".py",
   "mimetype": "text/x-python",
   "name": "python",
   "nbconvert_exporter": "python",
   "pygments_lexer": "ipython3",
   "version": "3.9.10"
  }
 },
 "nbformat": 4,
 "nbformat_minor": 5
}
