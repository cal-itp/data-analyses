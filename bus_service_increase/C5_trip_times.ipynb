{
 "cells": [
  {
   "cell_type": "markdown",
   "id": "3b7ff62b-45d8-42aa-8920-269d094d70eb",
   "metadata": {},
   "source": [
    "# Estimate car vs bus travel time\n",
    "\n",
    "* Pull out parallel routes. Run `setup_parallel_trips_with_stops.py`\n",
    "* Make car travel down same route as the bus. Use `googlemaps`, and set the departure hour to be the same time as bus route's.\n",
    "    * `osmx` snaps to nodes, but even for every 5th bus stop, it's snapping to same node.\n",
    "    * `osrm` wasn't able to be installed in Hub"
   ]
  },
  {
   "cell_type": "code",
   "execution_count": null,
   "id": "d873fe16-ee0f-4ef4-ab30-2b352dc06f53",
   "metadata": {},
   "outputs": [],
   "source": [
    "#!pip install -r requirements.txt"
   ]
  },
  {
   "cell_type": "code",
   "execution_count": 1,
   "id": "93a66400-c9f1-41f1-999b-3e9d6bb849bc",
   "metadata": {},
   "outputs": [
    {
     "name": "stderr",
     "output_type": "stream",
     "text": [
      "/opt/conda/lib/python3.9/site-packages/geopandas/_compat.py:111: UserWarning: The Shapely GEOS version (3.10.2-CAPI-1.16.0) is incompatible with the GEOS version PyGEOS was compiled with (3.10.1-CAPI-1.16.0). Conversions between both will be slow.\n",
      "  warnings.warn(\n"
     ]
    }
   ],
   "source": [
    "#https://stackoverflow.com/questions/55162077/how-to-get-the-driving-distance-between-two-geographical-coordinates-using-pytho\n",
    "import dotenv\n",
    "import geopandas as gpd\n",
    "import googlemaps\n",
    "import intake\n",
    "import os\n",
    "import pandas as pd\n",
    "\n",
    "from datetime import datetime\n",
    "from siuba import *\n",
    "\n",
    "dotenv.load_dotenv(\"_env\")\n",
    "\n",
    "catalog = intake.open_catalog(\"./*.yml\")\n",
    "\n",
    "GOOGLE_API_KEY = os.environ[\"GOOGLE_API_KEY\"]"
   ]
  },
  {
   "cell_type": "code",
   "execution_count": 2,
   "id": "44a1015b-81e1-4972-88de-2eaab70717c6",
   "metadata": {},
   "outputs": [],
   "source": [
    "def grab_latlon_make_tuple(df, point_geom_col):\n",
    "    # Change this from shapely point to floats\n",
    "    df = df.assign(\n",
    "        longitude = df[point_geom_col].x,\n",
    "        latitude = df[point_geom_col].y,\n",
    "    )\n",
    "    \n",
    "    # Make tuples instead of just floats\n",
    "    df2 = (df.assign(\n",
    "            new = df.apply(lambda x: (x.latitude, x.longitude), axis=1)        \n",
    "        ).rename(columns = {\"new\": f\"{point_geom_col}_tuple\"})\n",
    "          .drop(columns = [\"latitude\", \"longitude\"])\n",
    "    )\n",
    "    \n",
    "    return df2"
   ]
  },
  {
   "cell_type": "code",
   "execution_count": 3,
   "id": "c5f79e0f-1b65-4610-96d8-aa6f12ebb70f",
   "metadata": {},
   "outputs": [],
   "source": [
    "def data_wrangling(df):\n",
    "    # Move this step into script later? \n",
    "    # Or just leave in this notebook, wrangle it into what goes into googlemaps\n",
    "    df = df.assign(\n",
    "        # Just grab time because googlemaps doesn't want past date \n",
    "        departure_time = pd.to_datetime(df.departure_time, errors=\"coerce\").dt.time,\n",
    "    )\n",
    "    \n",
    "    df2 = (grab_latlon_make_tuple(df, \"geometry\")\n",
    "           .drop(columns = \"geometry\")\n",
    "           .rename(columns = {\"geometry_tuple\": \"geometry\"})\n",
    "          )\n",
    "    \n",
    "    return df2"
   ]
  },
  {
   "cell_type": "code",
   "execution_count": 4,
   "id": "4502f221-6d43-400c-98ca-d4712d9a0316",
   "metadata": {},
   "outputs": [],
   "source": [
    "df = catalog.parallel_trips_with_stops.read()\n",
    "\n",
    "df = data_wrangling(df)\n",
    "\n",
    "# Selecting 2 trips\n",
    "keep_trips = [\n",
    "    -7505741281882708052,\n",
    "    -8806955513757008482 \n",
    "]\n",
    "\n",
    "df = df[df.trip_key.isin(keep_trips)].reset_index(drop=True)"
   ]
  },
  {
   "cell_type": "code",
   "execution_count": 5,
   "id": "f2a1dacc-a8a2-4e3f-a6bf-47384fa29b6b",
   "metadata": {},
   "outputs": [],
   "source": [
    "trip_group = [\"calitp_itp_id\", \"route_id\", \"trip_id\", \"shape_id\"]\n",
    "\n",
    "def subset_stops(df, n):\n",
    "    # https://stackoverflow.com/questions/25055712/pandas-every-nth-row\n",
    "    # Maybe not use every bus stop, since bus stops are spaced fairly closely\n",
    "    # Maybe every other, every 3rd? want to mimic the bus route, do not want\n",
    "    # to stray too far\n",
    "\n",
    "    # df = df.iloc[::3]\n",
    "    df[\"stop_rank\"] = df.groupby(trip_group).cumcount() + 1\n",
    "    \n",
    "    subset = df[df.stop_rank % n == 0]\n",
    "    \n",
    "    return subset"
   ]
  },
  {
   "cell_type": "code",
   "execution_count": 6,
   "id": "856b2274-8a62-46c8-94a8-c7ee3724d630",
   "metadata": {},
   "outputs": [],
   "source": [
    "# For now, take every 3rd stop, stop 3, 6, 9..\n",
    "# Then, append 1st and last stops on to be origin/destination.\n",
    "# Potentially increase this to every 5th?\n",
    "subset = subset_stops(df, 3)"
   ]
  },
  {
   "cell_type": "code",
   "execution_count": 7,
   "id": "4e8f868f-7c47-487e-91a3-ace44e76fd5c",
   "metadata": {},
   "outputs": [],
   "source": [
    "def select_origin_destination(df):\n",
    "    df = df.assign(\n",
    "        origin = (df.sort_values(trip_group + [\"stop_sequence\"])\n",
    "                  .groupby(trip_group)[\"stop_sequence\"]\n",
    "                  .transform(\"min\")\n",
    "                 ),\n",
    "        destination = (df.sort_values(trip_group + [\"stop_sequence\"])\n",
    "                       .groupby(trip_group)[\"stop_sequence\"]\n",
    "                       .transform(\"max\")\n",
    "                      )\n",
    "    )\n",
    "    \n",
    "    df2 = (df[(df.stop_sequence == df.origin) | \n",
    "             (df.stop_sequence == df.destination)]\n",
    "           .reset_index(drop=True)\n",
    "          )\n",
    "    \n",
    "    \n",
    "    # Wrangle it so there are columns with previous point and current point in the same row\n",
    "    df2 = df2.assign(\n",
    "        previous = (df2.sort_values(trip_group + [\"stop_sequence\"])\n",
    "                        .groupby(trip_group)[\"geometry\"]\n",
    "                        .apply(lambda x: x.shift(1))\n",
    "                       ),\n",
    "    )\n",
    "    \n",
    "    # Only keep the observation that has start_geom (drop the first obs for each trip grouping)\n",
    "    df3 = (df2[df2.previous.notna()]\n",
    "           [trip_group + [\"departure_time\", \"geometry\", \"previous\"]]\n",
    "           .reset_index(drop=True)\n",
    "           .rename(columns = {\"geometry\": \"destination\", \n",
    "                              \"previous\": \"origin\"})\n",
    "          )\n",
    "    \n",
    "    return df3"
   ]
  },
  {
   "cell_type": "code",
   "execution_count": 8,
   "id": "9e5b00a3-0ce5-404a-a56a-a2b57e6d5ec0",
   "metadata": {},
   "outputs": [
    {
     "data": {
      "text/html": [
       "<div>\n",
       "<style scoped>\n",
       "    .dataframe tbody tr th:only-of-type {\n",
       "        vertical-align: middle;\n",
       "    }\n",
       "\n",
       "    .dataframe tbody tr th {\n",
       "        vertical-align: top;\n",
       "    }\n",
       "\n",
       "    .dataframe thead th {\n",
       "        text-align: right;\n",
       "    }\n",
       "</style>\n",
       "<table border=\"1\" class=\"dataframe\">\n",
       "  <thead>\n",
       "    <tr style=\"text-align: right;\">\n",
       "      <th></th>\n",
       "      <th>calitp_itp_id</th>\n",
       "      <th>route_id</th>\n",
       "      <th>trip_id</th>\n",
       "      <th>shape_id</th>\n",
       "      <th>departure_time</th>\n",
       "      <th>destination</th>\n",
       "      <th>origin</th>\n",
       "    </tr>\n",
       "  </thead>\n",
       "  <tbody>\n",
       "    <tr>\n",
       "      <th>0</th>\n",
       "      <td>4</td>\n",
       "      <td>10</td>\n",
       "      <td>13277020</td>\n",
       "      <td>shp-10-10</td>\n",
       "      <td>07:08:00</td>\n",
       "      <td>(37.670239, -122.08718)</td>\n",
       "      <td>(37.721266, -122.160201)</td>\n",
       "    </tr>\n",
       "    <tr>\n",
       "      <th>1</th>\n",
       "      <td>182</td>\n",
       "      <td>910-13153</td>\n",
       "      <td>10910002100513-DEC21</td>\n",
       "      <td>9100210_DEC21</td>\n",
       "      <td>06:02:00</td>\n",
       "      <td>(33.869338, -118.287306)</td>\n",
       "      <td>(34.072191, -118.045132)</td>\n",
       "    </tr>\n",
       "  </tbody>\n",
       "</table>\n",
       "</div>"
      ],
      "text/plain": [
       "   calitp_itp_id   route_id               trip_id       shape_id  \\\n",
       "0              4         10              13277020      shp-10-10   \n",
       "1            182  910-13153  10910002100513-DEC21  9100210_DEC21   \n",
       "\n",
       "  departure_time               destination                    origin  \n",
       "0       07:08:00   (37.670239, -122.08718)  (37.721266, -122.160201)  \n",
       "1       06:02:00  (33.869338, -118.287306)  (34.072191, -118.045132)  "
      ]
     },
     "execution_count": 8,
     "metadata": {},
     "output_type": "execute_result"
    }
   ],
   "source": [
    "od = select_origin_destination(df)\n",
    "od"
   ]
  },
  {
   "cell_type": "code",
   "execution_count": 9,
   "id": "f4457c26-91d0-4562-8081-1c93729a3d85",
   "metadata": {},
   "outputs": [],
   "source": [
    "# Try googlemaps.directions(), which allows for waypoints put in as an array\n",
    "def assemble_waypoints(df):\n",
    "    # Take all the stops in between origin/destination, put tuples into a list\n",
    "    #https://stackoverflow.com/questions/22219004/how-to-group-dataframe-rows-into-list-in-pandas-groupby\n",
    "    waypoint_df = (\n",
    "        df.sort_values(trip_group + [\"stop_sequence\"])\n",
    "        .groupby(trip_group)\n",
    "        .agg({\"geometry\": lambda x: list(x)})\n",
    "        .reset_index()\n",
    "        .rename(columns = {\"geometry\": \"waypoints\"})\n",
    "    )\n",
    "    \n",
    "    return waypoint_df"
   ]
  },
  {
   "cell_type": "code",
   "execution_count": 10,
   "id": "2d427fe2-4a43-4fb8-8b2d-743f12bb8bd1",
   "metadata": {},
   "outputs": [
    {
     "data": {
      "text/html": [
       "<div>\n",
       "<style scoped>\n",
       "    .dataframe tbody tr th:only-of-type {\n",
       "        vertical-align: middle;\n",
       "    }\n",
       "\n",
       "    .dataframe tbody tr th {\n",
       "        vertical-align: top;\n",
       "    }\n",
       "\n",
       "    .dataframe thead th {\n",
       "        text-align: right;\n",
       "    }\n",
       "</style>\n",
       "<table border=\"1\" class=\"dataframe\">\n",
       "  <thead>\n",
       "    <tr style=\"text-align: right;\">\n",
       "      <th></th>\n",
       "      <th>calitp_itp_id</th>\n",
       "      <th>route_id</th>\n",
       "      <th>trip_id</th>\n",
       "      <th>shape_id</th>\n",
       "      <th>waypoints</th>\n",
       "    </tr>\n",
       "  </thead>\n",
       "  <tbody>\n",
       "    <tr>\n",
       "      <th>0</th>\n",
       "      <td>4</td>\n",
       "      <td>10</td>\n",
       "      <td>13277020</td>\n",
       "      <td>shp-10-10</td>\n",
       "      <td>[(37.724727, -122.157549), (37.722488, -122.15...</td>\n",
       "    </tr>\n",
       "    <tr>\n",
       "      <th>1</th>\n",
       "      <td>182</td>\n",
       "      <td>910-13153</td>\n",
       "      <td>10910002100513-DEC21</td>\n",
       "      <td>9100210_DEC21</td>\n",
       "      <td>[(34.055644, -118.21099), (34.054253, -118.243...</td>\n",
       "    </tr>\n",
       "  </tbody>\n",
       "</table>\n",
       "</div>"
      ],
      "text/plain": [
       "   calitp_itp_id   route_id               trip_id       shape_id  \\\n",
       "0              4         10              13277020      shp-10-10   \n",
       "1            182  910-13153  10910002100513-DEC21  9100210_DEC21   \n",
       "\n",
       "                                           waypoints  \n",
       "0  [(37.724727, -122.157549), (37.722488, -122.15...  \n",
       "1  [(34.055644, -118.21099), (34.054253, -118.243...  "
      ]
     },
     "execution_count": 10,
     "metadata": {},
     "output_type": "execute_result"
    }
   ],
   "source": [
    "waypoints_by_trip = assemble_waypoints(subset)\n",
    "waypoints_by_trip"
   ]
  },
  {
   "cell_type": "code",
   "execution_count": 11,
   "id": "9e79a45b-9719-435f-9268-1acba2f36f69",
   "metadata": {},
   "outputs": [
    {
     "data": {
      "text/html": [
       "<div>\n",
       "<style scoped>\n",
       "    .dataframe tbody tr th:only-of-type {\n",
       "        vertical-align: middle;\n",
       "    }\n",
       "\n",
       "    .dataframe tbody tr th {\n",
       "        vertical-align: top;\n",
       "    }\n",
       "\n",
       "    .dataframe thead th {\n",
       "        text-align: right;\n",
       "    }\n",
       "</style>\n",
       "<table border=\"1\" class=\"dataframe\">\n",
       "  <thead>\n",
       "    <tr style=\"text-align: right;\">\n",
       "      <th></th>\n",
       "      <th>calitp_itp_id</th>\n",
       "      <th>route_id</th>\n",
       "      <th>trip_id</th>\n",
       "      <th>shape_id</th>\n",
       "      <th>departure_time</th>\n",
       "      <th>destination</th>\n",
       "      <th>origin</th>\n",
       "      <th>waypoints</th>\n",
       "    </tr>\n",
       "  </thead>\n",
       "  <tbody>\n",
       "    <tr>\n",
       "      <th>0</th>\n",
       "      <td>4</td>\n",
       "      <td>10</td>\n",
       "      <td>13277020</td>\n",
       "      <td>shp-10-10</td>\n",
       "      <td>07:08:00</td>\n",
       "      <td>(37.670239, -122.08718)</td>\n",
       "      <td>(37.721266, -122.160201)</td>\n",
       "      <td>[(37.724727, -122.157549), (37.722488, -122.15...</td>\n",
       "    </tr>\n",
       "    <tr>\n",
       "      <th>1</th>\n",
       "      <td>182</td>\n",
       "      <td>910-13153</td>\n",
       "      <td>10910002100513-DEC21</td>\n",
       "      <td>9100210_DEC21</td>\n",
       "      <td>06:02:00</td>\n",
       "      <td>(33.869338, -118.287306)</td>\n",
       "      <td>(34.072191, -118.045132)</td>\n",
       "      <td>[(34.055644, -118.21099), (34.054253, -118.243...</td>\n",
       "    </tr>\n",
       "  </tbody>\n",
       "</table>\n",
       "</div>"
      ],
      "text/plain": [
       "   calitp_itp_id   route_id               trip_id       shape_id  \\\n",
       "0              4         10              13277020      shp-10-10   \n",
       "1            182  910-13153  10910002100513-DEC21  9100210_DEC21   \n",
       "\n",
       "  departure_time               destination                    origin  \\\n",
       "0       07:08:00   (37.670239, -122.08718)  (37.721266, -122.160201)   \n",
       "1       06:02:00  (33.869338, -118.287306)  (34.072191, -118.045132)   \n",
       "\n",
       "                                           waypoints  \n",
       "0  [(37.724727, -122.157549), (37.722488, -122.15...  \n",
       "1  [(34.055644, -118.21099), (34.054253, -118.243...  "
      ]
     },
     "execution_count": 11,
     "metadata": {},
     "output_type": "execute_result"
    }
   ],
   "source": [
    "final = pd.merge(od, waypoints_by_trip, \n",
    "                 on = trip_group, how = \"inner\", validate = \"1:1\"\n",
    "                )\n",
    "\n",
    "final.head()"
   ]
  },
  {
   "cell_type": "code",
   "execution_count": null,
   "id": "20c7f00f-3d08-4d70-9dd4-fce162c4d781",
   "metadata": {},
   "outputs": [],
   "source": [
    "#https://www.geeksforgeeks.org/python-calculate-distance-duration-two-places-using-google-distance-matrix-api/"
   ]
  },
  {
   "cell_type": "code",
   "execution_count": 12,
   "id": "c4d3c969-5458-48ae-be9c-193d1c700184",
   "metadata": {},
   "outputs": [],
   "source": [
    "gmaps = googlemaps.Client(key=GOOGLE_API_KEY)"
   ]
  },
  {
   "cell_type": "code",
   "execution_count": 13,
   "id": "48e26721-6e14-499e-9051-c7cb6ea2f36e",
   "metadata": {},
   "outputs": [
    {
     "name": "stdout",
     "output_type": "stream",
     "text": [
      "type of origin input: <class 'list'>\n",
      "type of first row: <class 'tuple'>\n",
      "0 ((37.721266, -122.160201), (37.670239, -122.08718))\n",
      "(37.721266, -122.160201)\n",
      "07:08:00\n",
      "[(37.724727, -122.157549), (37.722488, -122.152545), (37.717496, -122.145962), (37.71253, -122.139188), (37.705447, -122.12906), (37.699342, -122.121197), (37.698266, -122.124512), (37.695795, -122.11529), (37.690661, -122.107995), (37.683028, -122.097653), (37.67769, -122.090881), (37.670239, -122.08718)]\n",
      "<class 'list'>\n"
     ]
    }
   ],
   "source": [
    "origin = final.origin.tolist()\n",
    "dest = final.destination.tolist()\n",
    "departures = final.departure_time.tolist()\n",
    "waypts = final.waypoints.tolist()\n",
    "\n",
    "print(f\"type of origin input: {type(origin)}\")\n",
    "print(f\"type of first row: {type(origin[0])}\")\n",
    "\n",
    "for i, tup in enumerate(zip(origin, dest)):\n",
    "    if i == 0:\n",
    "        print(i, tup)\n",
    "        print(tup[0])\n",
    "        print(departures[i])\n",
    "        print(waypts[i])\n",
    "        print(type(waypts[i]))"
   ]
  },
  {
   "cell_type": "code",
   "execution_count": 14,
   "id": "7b8b68ba-273c-4e5d-a266-0db23f9879f2",
   "metadata": {},
   "outputs": [],
   "source": [
    "# Just do 1 query\n",
    "beginning = (37.721266, -122.160201)\n",
    "ending = (37.670239, -122.08718)\n",
    "departure1 = departures[0]\n",
    "waypts1 = waypts[0]"
   ]
  },
  {
   "cell_type": "code",
   "execution_count": 15,
   "id": "39a23ed3-719b-4270-bc80-172389da76be",
   "metadata": {},
   "outputs": [
    {
     "ename": "HTTPError",
     "evalue": "HTTP Error: 400",
     "output_type": "error",
     "traceback": [
      "\u001b[0;31m---------------------------------------------------------------------------\u001b[0m",
      "\u001b[0;31mHTTPError\u001b[0m                                 Traceback (most recent call last)",
      "Input \u001b[0;32mIn [15]\u001b[0m, in \u001b[0;36m<cell line: 1>\u001b[0;34m()\u001b[0m\n\u001b[0;32m----> 1\u001b[0m \u001b[43mgmaps\u001b[49m\u001b[38;5;241;43m.\u001b[39;49m\u001b[43mdirections\u001b[49m\u001b[43m(\u001b[49m\u001b[43mbeginning\u001b[49m\u001b[43m,\u001b[49m\u001b[43m \u001b[49m\u001b[43mending\u001b[49m\u001b[43m,\u001b[49m\u001b[43m \u001b[49m\u001b[43mmode\u001b[49m\u001b[38;5;241;43m=\u001b[39;49m\u001b[38;5;124;43m'\u001b[39;49m\u001b[38;5;124;43mdriving\u001b[39;49m\u001b[38;5;124;43m'\u001b[39;49m\u001b[43m,\u001b[49m\u001b[43m \u001b[49m\u001b[43mdeparture_time\u001b[49m\u001b[38;5;241;43m=\u001b[39;49m\u001b[43mdeparture1\u001b[49m\u001b[43m,\u001b[49m\u001b[43m \u001b[49m\u001b[43mwaypoints\u001b[49m\u001b[38;5;241;43m=\u001b[39;49m\u001b[43mwaypts1\u001b[49m\u001b[43m)\u001b[49m\n",
      "File \u001b[0;32m/opt/conda/lib/python3.9/site-packages/googlemaps/client.py:420\u001b[0m, in \u001b[0;36mmake_api_method.<locals>.wrapper\u001b[0;34m(*args, **kwargs)\u001b[0m\n\u001b[1;32m    417\u001b[0m \u001b[38;5;129m@functools\u001b[39m\u001b[38;5;241m.\u001b[39mwraps(func)\n\u001b[1;32m    418\u001b[0m \u001b[38;5;28;01mdef\u001b[39;00m \u001b[38;5;21mwrapper\u001b[39m(\u001b[38;5;241m*\u001b[39margs, \u001b[38;5;241m*\u001b[39m\u001b[38;5;241m*\u001b[39mkwargs):\n\u001b[1;32m    419\u001b[0m     args[\u001b[38;5;241m0\u001b[39m]\u001b[38;5;241m.\u001b[39m_extra_params \u001b[38;5;241m=\u001b[39m kwargs\u001b[38;5;241m.\u001b[39mpop(\u001b[38;5;124m\"\u001b[39m\u001b[38;5;124mextra_params\u001b[39m\u001b[38;5;124m\"\u001b[39m, \u001b[38;5;28;01mNone\u001b[39;00m)\n\u001b[0;32m--> 420\u001b[0m     result \u001b[38;5;241m=\u001b[39m \u001b[43mfunc\u001b[49m\u001b[43m(\u001b[49m\u001b[38;5;241;43m*\u001b[39;49m\u001b[43margs\u001b[49m\u001b[43m,\u001b[49m\u001b[43m \u001b[49m\u001b[38;5;241;43m*\u001b[39;49m\u001b[38;5;241;43m*\u001b[39;49m\u001b[43mkwargs\u001b[49m\u001b[43m)\u001b[49m\n\u001b[1;32m    421\u001b[0m     \u001b[38;5;28;01mtry\u001b[39;00m:\n\u001b[1;32m    422\u001b[0m         \u001b[38;5;28;01mdel\u001b[39;00m args[\u001b[38;5;241m0\u001b[39m]\u001b[38;5;241m.\u001b[39m_extra_params\n",
      "File \u001b[0;32m/opt/conda/lib/python3.9/site-packages/googlemaps/directions.py:153\u001b[0m, in \u001b[0;36mdirections\u001b[0;34m(client, origin, destination, mode, waypoints, alternatives, avoid, language, units, region, departure_time, arrival_time, optimize_waypoints, transit_mode, transit_routing_preference, traffic_model)\u001b[0m\n\u001b[1;32m    150\u001b[0m \u001b[38;5;28;01mif\u001b[39;00m traffic_model:\n\u001b[1;32m    151\u001b[0m     params[\u001b[38;5;124m\"\u001b[39m\u001b[38;5;124mtraffic_model\u001b[39m\u001b[38;5;124m\"\u001b[39m] \u001b[38;5;241m=\u001b[39m traffic_model\n\u001b[0;32m--> 153\u001b[0m \u001b[38;5;28;01mreturn\u001b[39;00m \u001b[43mclient\u001b[49m\u001b[38;5;241;43m.\u001b[39;49m\u001b[43m_request\u001b[49m\u001b[43m(\u001b[49m\u001b[38;5;124;43m\"\u001b[39;49m\u001b[38;5;124;43m/maps/api/directions/json\u001b[39;49m\u001b[38;5;124;43m\"\u001b[39;49m\u001b[43m,\u001b[49m\u001b[43m \u001b[49m\u001b[43mparams\u001b[49m\u001b[43m)\u001b[49m\u001b[38;5;241m.\u001b[39mget(\u001b[38;5;124m\"\u001b[39m\u001b[38;5;124mroutes\u001b[39m\u001b[38;5;124m\"\u001b[39m, [])\n",
      "File \u001b[0;32m/opt/conda/lib/python3.9/site-packages/googlemaps/client.py:315\u001b[0m, in \u001b[0;36mClient._request\u001b[0;34m(self, url, params, first_request_time, retry_counter, base_url, accepts_clientid, extract_body, requests_kwargs, post_json)\u001b[0m\n\u001b[1;32m    313\u001b[0m     result \u001b[38;5;241m=\u001b[39m extract_body(response)\n\u001b[1;32m    314\u001b[0m \u001b[38;5;28;01melse\u001b[39;00m:\n\u001b[0;32m--> 315\u001b[0m     result \u001b[38;5;241m=\u001b[39m \u001b[38;5;28;43mself\u001b[39;49m\u001b[38;5;241;43m.\u001b[39;49m\u001b[43m_get_body\u001b[49m\u001b[43m(\u001b[49m\u001b[43mresponse\u001b[49m\u001b[43m)\u001b[49m\n\u001b[1;32m    316\u001b[0m \u001b[38;5;28mself\u001b[39m\u001b[38;5;241m.\u001b[39msent_times\u001b[38;5;241m.\u001b[39mappend(time\u001b[38;5;241m.\u001b[39mtime())\n\u001b[1;32m    317\u001b[0m \u001b[38;5;28;01mreturn\u001b[39;00m result\n",
      "File \u001b[0;32m/opt/conda/lib/python3.9/site-packages/googlemaps/client.py:332\u001b[0m, in \u001b[0;36mClient._get_body\u001b[0;34m(self, response)\u001b[0m\n\u001b[1;32m    330\u001b[0m \u001b[38;5;28;01mdef\u001b[39;00m \u001b[38;5;21m_get_body\u001b[39m(\u001b[38;5;28mself\u001b[39m, response):\n\u001b[1;32m    331\u001b[0m     \u001b[38;5;28;01mif\u001b[39;00m response\u001b[38;5;241m.\u001b[39mstatus_code \u001b[38;5;241m!=\u001b[39m \u001b[38;5;241m200\u001b[39m:\n\u001b[0;32m--> 332\u001b[0m         \u001b[38;5;28;01mraise\u001b[39;00m googlemaps\u001b[38;5;241m.\u001b[39mexceptions\u001b[38;5;241m.\u001b[39mHTTPError(response\u001b[38;5;241m.\u001b[39mstatus_code)\n\u001b[1;32m    334\u001b[0m     body \u001b[38;5;241m=\u001b[39m response\u001b[38;5;241m.\u001b[39mjson()\n\u001b[1;32m    336\u001b[0m     api_status \u001b[38;5;241m=\u001b[39m body[\u001b[38;5;124m\"\u001b[39m\u001b[38;5;124mstatus\u001b[39m\u001b[38;5;124m\"\u001b[39m]\n",
      "\u001b[0;31mHTTPError\u001b[0m: HTTP Error: 400"
     ]
    }
   ],
   "source": [
    "gmaps.directions(beginning, ending, mode='driving', \n",
    "                 departure_time=departure1, waypoints=waypts1)"
   ]
  },
  {
   "cell_type": "code",
   "execution_count": null,
   "id": "935d777f-8e79-4a54-a88f-fce8bd5cd896",
   "metadata": {},
   "outputs": [],
   "source": []
  },
  {
   "cell_type": "code",
   "execution_count": null,
   "id": "03692aa2-162e-4b62-8977-01b231f75851",
   "metadata": {},
   "outputs": [],
   "source": []
  },
  {
   "cell_type": "markdown",
   "id": "5cb750bc-aaee-4ba9-9df1-e1266f002e08",
   "metadata": {},
   "source": [
    "### Using distance_matrix - works, but API key now restricted to `directions`\n",
    "\n",
    "* https://traveltime.com/blog/google-distance-matrix-api-traveltime-search-api - there's 25 requests limit for `distance_matrix`"
   ]
  },
  {
   "cell_type": "code",
   "execution_count": null,
   "id": "8c349463-2e47-4b8e-8f71-77dc87e57c7b",
   "metadata": {},
   "outputs": [],
   "source": [
    "#https://www.linkedin.com/pulse/calculating-distances-using-python-google-maps-r%C3%A9gis-nisengwe?articleId=6625061973447053312\n",
    "'''\n",
    "actual_duration = []\n",
    "\n",
    "for i, od_tup in enumerate(zip(origin, dest)):\n",
    "    result = gmaps.distance_matrix(od_tup[0], od_tup[1], mode='driving', departure_time=departures[i])[\"rows\"][0][\"elements\"][0][\"duration\"][\"value\"]  \n",
    "   \n",
    "    result = result/3600\n",
    "    actual_duration.append(result)\n",
    "    \n",
    "final[\"duration (Hours)\"] = actual_duration\n",
    "final\n",
    "#final.to_parquet(\"test_od.parquet\")\n",
    "'''"
   ]
  },
  {
   "cell_type": "code",
   "execution_count": null,
   "id": "98840010-a4f0-4a8c-b127-ed6f4b7c034d",
   "metadata": {},
   "outputs": [],
   "source": [
    "#https://faun.pub/using-google-maps-distance-matrix-api-to-create-a-distance-table-93419c409d4f"
   ]
  },
  {
   "cell_type": "markdown",
   "id": "fe8a1b04-30ac-47ba-98ec-ca4d4bc6567a",
   "metadata": {},
   "source": [
    "### Estimate how many requests"
   ]
  },
  {
   "cell_type": "code",
   "execution_count": null,
   "id": "b2b570ec-f027-4457-842a-725d1e71fed3",
   "metadata": {},
   "outputs": [],
   "source": [
    "unique_routes = df[[\"calitp_itp_id\", \"route_id\"]].drop_duplicates()\n",
    "num_routes = len(unique_routes)\n",
    "\n",
    "print(f\"# unique routes: {num_routes}\")\n",
    "\n",
    "print(f\"1st pass + 25% of stops in subset: {num_routes + 0.25*len(subset)}\")\n",
    "print(f\"1st pass + 50% of stops in subset: {num_routes + 0.5*len(subset)}\")\n",
    "print(f\"1st pass + 75% of stops in subset: {num_routes + 0.75*len(subset)}\")\n",
    "print(f\"Upper bound: do not get rid of any routes, take every 3rd stop: {len(subset)}\")"
   ]
  },
  {
   "cell_type": "code",
   "execution_count": null,
   "id": "b6d19180-154f-4953-92f4-188efedd8506",
   "metadata": {},
   "outputs": [],
   "source": []
  },
  {
   "cell_type": "code",
   "execution_count": null,
   "id": "1e7c86c1-8fd3-4471-b846-1f87287ee78f",
   "metadata": {},
   "outputs": [],
   "source": [
    "keep_trips = [-7505741281882708052]\n",
    "df[df.trip_key.isin(keep_trips)]"
   ]
  },
  {
   "cell_type": "code",
   "execution_count": null,
   "id": "4c780867-1d46-47ae-869c-0339dac79d81",
   "metadata": {},
   "outputs": [],
   "source": [
    "subset[subset.trip_key.isin(keep_trips)]"
   ]
  },
  {
   "cell_type": "markdown",
   "id": "cf2b0b46-b119-4881-b7de-28a81f3d5218",
   "metadata": {},
   "source": [
    "Don't like how `osmx` is returning the same nodes for bus stops, even at every 5th bus stop.\n",
    "\n",
    "`osrm` doesn't install bc of some `GDAL` dependencies.\n",
    "\n",
    "Can Google API be used? But need to check terms and conditions if we can make requests to calculate travel time or even grab speed limits through the\n",
    "[Python package](https://github.com/googlemaps/google-maps-services-python)\n",
    "\n",
    "At minimum, can calculate distance between stops, sum it up, and for cars, set an assumption of 30 mph or 45 mph. If we can't use Google API to grab speed limit, then we will hard code it."
   ]
  },
  {
   "cell_type": "code",
   "execution_count": null,
   "id": "90412697-9dac-41ba-941f-1697c504a22c",
   "metadata": {},
   "outputs": [],
   "source": [
    "def calculate_distance_traveled(df):\n",
    "    group_cols = [\"calitp_itp_id\", \"route_id\"]\n",
    "    sort_cols = group_cols + [\"stop_sequence\"]\n",
    "    \n",
    "    df = df.to_crs(shared_utils.geography_utils.CA_StatePlane)\n",
    "    \n",
    "    # Distance traveled\n",
    "    df = df.assign(\n",
    "        # Previous geometry\n",
    "        start = (df.sort_values(sort_cols)\n",
    "                 .groupby(group_cols)[\"geometry\"]\n",
    "                 .apply(lambda x: x.shift(1))),\n",
    "        end = (df.sort_values(sort_cols)\n",
    "               .groupby(group_cols)[\"geometry\"]\n",
    "               .apply(lambda x: x.shift(0))\n",
    "              )\n",
    "    )\n",
    "    \n",
    "    df = df.assign(\n",
    "        feet_traveled = df.end.distance(df.start) \n",
    "    ).drop(columns = [\"start\", \"end\"])\n",
    "        \n",
    "    return df\n",
    "            "
   ]
  },
  {
   "cell_type": "code",
   "execution_count": null,
   "id": "1fa93159-af80-4879-9985-a8bd50caa794",
   "metadata": {},
   "outputs": [],
   "source": [
    "df = calculate_distance_traveled(parallel)"
   ]
  },
  {
   "cell_type": "code",
   "execution_count": null,
   "id": "e4337310-e00a-41b2-a7f4-4d66c2b29aa0",
   "metadata": {},
   "outputs": [],
   "source": [
    "def calculate_time_traveled(df):\n",
    "    # Use a set of assumptions\n",
    "    \n",
    "    AVG_SPEED = 40\n",
    "    \n",
    "    df = df.assign(\n",
    "        max_stop = (df.groupby([\"itp_id\", \"route_id\", \"trip_id\"])\n",
    "                    [\"stop_sequence\"].transform(\"max\"))\n",
    "    )\n",
    "    \n",
    "    df2 = shared_utils.geography_utils.aggregate_by_geography(\n",
    "        df,\n",
    "        group_cols = [\"itp_id\", \"route_id\", \"trip_id\", \n",
    "                     \"trip_first_departure_ts\", \"trip_last_arrival_ts\"],\n",
    "        sum_cols = [\"feet_traveled\"], \n",
    "        mean_cols = [\"service_hours\", \"max_stop\"]\n",
    "    )\n",
    "    \n",
    "    df2 = df2.assign(\n",
    "        miles_traveled = df2.feet_traveled.divide(\n",
    "            shared_utils.geography_utils.FEET_PER_MI)\n",
    "    \n",
    "    )\n",
    "    \n",
    "    # speed = distance / time\n",
    "    # time = distance / speed\n",
    "    df2 = df2.assign(\n",
    "        car_trip_time_hr = df2.miles_traveled.divide(AVG_SPEED),\n",
    "    ).drop(columns = \"feet_traveled\")\n",
    "        \n",
    "    return df2"
   ]
  },
  {
   "cell_type": "code",
   "execution_count": null,
   "id": "0f722a9d-7029-4bd1-9eef-05d5fc36abce",
   "metadata": {},
   "outputs": [],
   "source": [
    "df2 = calculate_time_traveled(df)"
   ]
  },
  {
   "cell_type": "code",
   "execution_count": null,
   "id": "976c6b43-9ab4-4e9e-8f97-10d1e90749ba",
   "metadata": {},
   "outputs": [],
   "source": []
  }
 ],
 "metadata": {
  "kernelspec": {
   "display_name": "Python 3 (ipykernel)",
   "language": "python",
   "name": "python3"
  },
  "language_info": {
   "codemirror_mode": {
    "name": "ipython",
    "version": 3
   },
   "file_extension": ".py",
   "mimetype": "text/x-python",
   "name": "python",
   "nbconvert_exporter": "python",
   "pygments_lexer": "ipython3",
   "version": "3.9.10"
  }
 },
 "nbformat": 4,
 "nbformat_minor": 5
}
