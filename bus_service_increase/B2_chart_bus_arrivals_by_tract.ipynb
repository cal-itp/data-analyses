{
 "cells": [
  {
   "cell_type": "markdown",
   "id": "31e7d93d-fced-420b-9572-e5db216c6ca1",
   "metadata": {},
   "source": [
    "# Charts for bus service opportunities by tract and CalEnviroScreen / Density Scores\n",
    "\n",
    "* Density and CalEnviroScreen both grouped as low/med/high\n",
    "* Provide some charts to accompany maps\n",
    "* Heatmaps to show distribution?\n",
    "* Scatterplot of pop density vs service density"
   ]
  },
  {
   "cell_type": "code",
   "execution_count": 1,
   "id": "76964bd1-a03b-4637-b125-cc32f29fccdf",
   "metadata": {},
   "outputs": [
    {
     "name": "stderr",
     "output_type": "stream",
     "text": [
      "/opt/conda/lib/python3.9/site-packages/geopandas/_compat.py:111: UserWarning: The Shapely GEOS version (3.10.2-CAPI-1.16.0) is incompatible with the GEOS version PyGEOS was compiled with (3.10.1-CAPI-1.16.0). Conversions between both will be slow.\n",
      "  warnings.warn(\n"
     ]
    }
   ],
   "source": [
    "import pandas as pd\n",
    "\n",
    "import make_tract_viz"
   ]
  },
  {
   "cell_type": "code",
   "execution_count": 2,
   "id": "995594b1-ed0e-4d65-ad98-bbea6fe201a7",
   "metadata": {},
   "outputs": [
    {
     "name": "stderr",
     "output_type": "stream",
     "text": [
      "/opt/conda/lib/python3.9/site-packages/numpy/lib/function_base.py:4009: RuntimeWarning: invalid value encountered in subtract\n"
     ]
    }
   ],
   "source": [
    "CHART_IMG_PATH = \"img/\"\n",
    "\n",
    "df = make_tract_viz.import_processed_data()\n",
    "#make_tract_viz.create_charts(df, CHART_IMG_PATH)\n",
    "#make_tract_viz.create_maps(df, CHART_IMG_PATH)"
   ]
  },
  {
   "cell_type": "code",
   "execution_count": 3,
   "id": "9fe7609e-b3c8-41ac-ad26-228b7e8f4d70",
   "metadata": {},
   "outputs": [],
   "source": [
    "TOTAL_CA_TRACTS = len(df)"
   ]
  },
  {
   "cell_type": "markdown",
   "id": "cf564fb3-2c60-4db3-a916-718022d2ce16",
   "metadata": {},
   "source": [
    "![](./img/arrivals_per_1k_popjobdensity.png)\n",
    "![](./img/arrivals_per_1k_equity.png)\n",
    "![](./img/arrivals_per_1k_bar.png)"
   ]
  },
  {
   "cell_type": "markdown",
   "id": "66e74ab0-4760-4a93-875b-a11132b269e8",
   "metadata": {},
   "source": [
    "## Opportunity Tracts\n",
    "\n",
    "Tracts in the lower right quandrant, but pick out the most extreme cases.\n",
    "\n",
    "Tracts with > 75th ptile for pop/job density & < 25th ptile for service density.\n",
    "\n",
    "Especially the medium-need tracts, these would be the ones dragging down the average for the middle yellow bar."
   ]
  },
  {
   "cell_type": "code",
   "execution_count": 4,
   "id": "615410d7-f118-47a9-9ad8-669cd5c8cde3",
   "metadata": {},
   "outputs": [
    {
     "name": "stdout",
     "output_type": "stream",
     "text": [
      "# opportunity tracts: 167\n",
      "% opportunity tracts of total: 2.1%\n"
     ]
    }
   ],
   "source": [
    "# Grab the ones with density above 75th percentile\n",
    "# and in the lower 25th percentile for service density\n",
    "p75 = df.popjobs_sq_mi.quantile(0.75)\n",
    "p25 = df.arrivals_per_1k_pj.quantile(0.25)\n",
    "\n",
    "df = df.assign(\n",
    "    flag_me = df.apply(lambda x: (x.popjobs_sq_mi > p75) and \n",
    "                       (x.arrivals_per_1k_pj < p25), axis=1)\n",
    ")\n",
    "\n",
    "pct_oppor_tracts = round(len(df[df.flag_me==1])/TOTAL_CA_TRACTS, 3)\n",
    "print(f\"# opportunity tracts: {len(df[df.flag_me==1])}\")\n",
    "print(f\"% opportunity tracts of total: {pct_oppor_tracts*100}%\")"
   ]
  },
  {
   "cell_type": "markdown",
   "id": "c5b70b49-b80d-42b2-8788-600163782d62",
   "metadata": {},
   "source": [
    "### List these cities where opportunity tracts fall"
   ]
  },
  {
   "cell_type": "code",
   "execution_count": 5,
   "id": "8f4dbf2f-b29a-4500-8e30-faca4ee4a134",
   "metadata": {},
   "outputs": [
    {
     "data": {
      "text/html": [
       "<div>\n",
       "<style scoped>\n",
       "    .dataframe tbody tr th:only-of-type {\n",
       "        vertical-align: middle;\n",
       "    }\n",
       "\n",
       "    .dataframe tbody tr th {\n",
       "        vertical-align: top;\n",
       "    }\n",
       "\n",
       "    .dataframe thead th {\n",
       "        text-align: right;\n",
       "    }\n",
       "</style>\n",
       "<table border=\"1\" class=\"dataframe\">\n",
       "  <thead>\n",
       "    <tr style=\"text-align: right;\">\n",
       "      <th></th>\n",
       "      <th>County</th>\n",
       "      <th>City</th>\n",
       "      <th>ZIP</th>\n",
       "    </tr>\n",
       "  </thead>\n",
       "  <tbody>\n",
       "    <tr>\n",
       "      <th>69</th>\n",
       "      <td>Santa Clara</td>\n",
       "      <td>San Jose</td>\n",
       "      <td>95112</td>\n",
       "    </tr>\n",
       "    <tr>\n",
       "      <th>89</th>\n",
       "      <td>Santa Clara</td>\n",
       "      <td>Campbell</td>\n",
       "      <td>95008</td>\n",
       "    </tr>\n",
       "    <tr>\n",
       "      <th>98</th>\n",
       "      <td>Santa Clara</td>\n",
       "      <td>Unincorporated Santa Clara County area</td>\n",
       "      <td>95111</td>\n",
       "    </tr>\n",
       "    <tr>\n",
       "      <th>118</th>\n",
       "      <td>Santa Clara</td>\n",
       "      <td>Alum Rock</td>\n",
       "      <td>95127</td>\n",
       "    </tr>\n",
       "    <tr>\n",
       "      <th>124</th>\n",
       "      <td>Santa Clara</td>\n",
       "      <td>Milpitas</td>\n",
       "      <td>95035</td>\n",
       "    </tr>\n",
       "    <tr>\n",
       "      <th>125</th>\n",
       "      <td>Santa Clara</td>\n",
       "      <td>Sunnyvale</td>\n",
       "      <td>94089</td>\n",
       "    </tr>\n",
       "    <tr>\n",
       "      <th>128</th>\n",
       "      <td>Santa Clara</td>\n",
       "      <td>Santa Clara</td>\n",
       "      <td>95054</td>\n",
       "    </tr>\n",
       "    <tr>\n",
       "      <th>143</th>\n",
       "      <td>Santa Clara</td>\n",
       "      <td>Cupertino</td>\n",
       "      <td>95014</td>\n",
       "    </tr>\n",
       "    <tr>\n",
       "      <th>151</th>\n",
       "      <td>Santa Clara</td>\n",
       "      <td>Mountain View</td>\n",
       "      <td>94041</td>\n",
       "    </tr>\n",
       "    <tr>\n",
       "      <th>156</th>\n",
       "      <td>Santa Clara</td>\n",
       "      <td>Palo Alto</td>\n",
       "      <td>94306</td>\n",
       "    </tr>\n",
       "  </tbody>\n",
       "</table>\n",
       "</div>"
      ],
      "text/plain": [
       "          County                                    City    ZIP\n",
       "69   Santa Clara                                San Jose  95112\n",
       "89   Santa Clara                                Campbell  95008\n",
       "98   Santa Clara  Unincorporated Santa Clara County area  95111\n",
       "118  Santa Clara                               Alum Rock  95127\n",
       "124  Santa Clara                                Milpitas  95035\n",
       "125  Santa Clara                               Sunnyvale  94089\n",
       "128  Santa Clara                             Santa Clara  95054\n",
       "143  Santa Clara                               Cupertino  95014\n",
       "151  Santa Clara                           Mountain View  94041\n",
       "156  Santa Clara                               Palo Alto  94306"
      ]
     },
     "metadata": {},
     "output_type": "display_data"
    },
    {
     "name": "stdout",
     "output_type": "stream",
     "text": [
      "['San Jose' 'Campbell' 'Unincorporated Santa Clara County area'\n",
      " 'Alum Rock' 'Milpitas' 'Sunnyvale' 'Santa Clara' 'Cupertino'\n",
      " 'Mountain View' 'Palo Alto']\n"
     ]
    },
    {
     "data": {
      "text/html": [
       "<div>\n",
       "<style scoped>\n",
       "    .dataframe tbody tr th:only-of-type {\n",
       "        vertical-align: middle;\n",
       "    }\n",
       "\n",
       "    .dataframe tbody tr th {\n",
       "        vertical-align: top;\n",
       "    }\n",
       "\n",
       "    .dataframe thead th {\n",
       "        text-align: right;\n",
       "    }\n",
       "</style>\n",
       "<table border=\"1\" class=\"dataframe\">\n",
       "  <thead>\n",
       "    <tr style=\"text-align: right;\">\n",
       "      <th></th>\n",
       "      <th>County</th>\n",
       "      <th>City</th>\n",
       "      <th>ZIP</th>\n",
       "    </tr>\n",
       "  </thead>\n",
       "  <tbody>\n",
       "    <tr>\n",
       "      <th>5</th>\n",
       "      <td>Los Angeles</td>\n",
       "      <td>Los Angeles</td>\n",
       "      <td>91352</td>\n",
       "    </tr>\n",
       "    <tr>\n",
       "      <th>11</th>\n",
       "      <td>Los Angeles</td>\n",
       "      <td>Glendale</td>\n",
       "      <td>91207</td>\n",
       "    </tr>\n",
       "    <tr>\n",
       "      <th>12</th>\n",
       "      <td>Los Angeles</td>\n",
       "      <td>Burbank</td>\n",
       "      <td>91501</td>\n",
       "    </tr>\n",
       "    <tr>\n",
       "      <th>14</th>\n",
       "      <td>Los Angeles</td>\n",
       "      <td>El Monte</td>\n",
       "      <td>91732</td>\n",
       "    </tr>\n",
       "    <tr>\n",
       "      <th>15</th>\n",
       "      <td>Los Angeles</td>\n",
       "      <td>Rosemead</td>\n",
       "      <td>91770</td>\n",
       "    </tr>\n",
       "    <tr>\n",
       "      <th>16</th>\n",
       "      <td>Los Angeles</td>\n",
       "      <td>Whittier</td>\n",
       "      <td>90601</td>\n",
       "    </tr>\n",
       "    <tr>\n",
       "      <th>18</th>\n",
       "      <td>Los Angeles</td>\n",
       "      <td>La Mirada</td>\n",
       "      <td>90638</td>\n",
       "    </tr>\n",
       "    <tr>\n",
       "      <th>19</th>\n",
       "      <td>Los Angeles</td>\n",
       "      <td>Montebello</td>\n",
       "      <td>90640</td>\n",
       "    </tr>\n",
       "    <tr>\n",
       "      <th>23</th>\n",
       "      <td>Los Angeles</td>\n",
       "      <td>Maywood</td>\n",
       "      <td>90270</td>\n",
       "    </tr>\n",
       "    <tr>\n",
       "      <th>24</th>\n",
       "      <td>Los Angeles</td>\n",
       "      <td>Huntington Park</td>\n",
       "      <td>90255</td>\n",
       "    </tr>\n",
       "    <tr>\n",
       "      <th>28</th>\n",
       "      <td>Los Angeles</td>\n",
       "      <td>Cudahy</td>\n",
       "      <td>90201</td>\n",
       "    </tr>\n",
       "    <tr>\n",
       "      <th>29</th>\n",
       "      <td>Los Angeles</td>\n",
       "      <td>South Gate</td>\n",
       "      <td>90280</td>\n",
       "    </tr>\n",
       "    <tr>\n",
       "      <th>30</th>\n",
       "      <td>Los Angeles</td>\n",
       "      <td>Bellflower</td>\n",
       "      <td>90706</td>\n",
       "    </tr>\n",
       "    <tr>\n",
       "      <th>31</th>\n",
       "      <td>Los Angeles</td>\n",
       "      <td>Culver City</td>\n",
       "      <td>90232</td>\n",
       "    </tr>\n",
       "  </tbody>\n",
       "</table>\n",
       "</div>"
      ],
      "text/plain": [
       "         County             City    ZIP\n",
       "5   Los Angeles      Los Angeles  91352\n",
       "11  Los Angeles         Glendale  91207\n",
       "12  Los Angeles          Burbank  91501\n",
       "14  Los Angeles         El Monte  91732\n",
       "15  Los Angeles         Rosemead  91770\n",
       "16  Los Angeles         Whittier  90601\n",
       "18  Los Angeles        La Mirada  90638\n",
       "19  Los Angeles       Montebello  90640\n",
       "23  Los Angeles          Maywood  90270\n",
       "24  Los Angeles  Huntington Park  90255\n",
       "28  Los Angeles           Cudahy  90201\n",
       "29  Los Angeles       South Gate  90280\n",
       "30  Los Angeles       Bellflower  90706\n",
       "31  Los Angeles      Culver City  90232"
      ]
     },
     "metadata": {},
     "output_type": "display_data"
    },
    {
     "name": "stdout",
     "output_type": "stream",
     "text": [
      "['Los Angeles' 'Glendale' 'Burbank' 'El Monte' 'Rosemead' 'Whittier'\n",
      " 'La Mirada' 'Montebello' 'Maywood' 'Huntington Park' 'Cudahy'\n",
      " 'South Gate' 'Bellflower' 'Culver City']\n"
     ]
    },
    {
     "data": {
      "text/html": [
       "<div>\n",
       "<style scoped>\n",
       "    .dataframe tbody tr th:only-of-type {\n",
       "        vertical-align: middle;\n",
       "    }\n",
       "\n",
       "    .dataframe tbody tr th {\n",
       "        vertical-align: top;\n",
       "    }\n",
       "\n",
       "    .dataframe thead th {\n",
       "        text-align: right;\n",
       "    }\n",
       "</style>\n",
       "<table border=\"1\" class=\"dataframe\">\n",
       "  <thead>\n",
       "    <tr style=\"text-align: right;\">\n",
       "      <th></th>\n",
       "      <th>County</th>\n",
       "      <th>City</th>\n",
       "      <th>ZIP</th>\n",
       "    </tr>\n",
       "  </thead>\n",
       "  <tbody>\n",
       "    <tr>\n",
       "      <th>38</th>\n",
       "      <td>Sacramento</td>\n",
       "      <td>Sacramento</td>\n",
       "      <td>95816</td>\n",
       "    </tr>\n",
       "    <tr>\n",
       "      <th>51</th>\n",
       "      <td>Sacramento</td>\n",
       "      <td>Arden-Arcade</td>\n",
       "      <td>95825</td>\n",
       "    </tr>\n",
       "    <tr>\n",
       "      <th>56</th>\n",
       "      <td>Sacramento</td>\n",
       "      <td>Foothill Farms</td>\n",
       "      <td>95842</td>\n",
       "    </tr>\n",
       "    <tr>\n",
       "      <th>58</th>\n",
       "      <td>Sacramento</td>\n",
       "      <td>Folsom</td>\n",
       "      <td>95630</td>\n",
       "    </tr>\n",
       "    <tr>\n",
       "      <th>59</th>\n",
       "      <td>Sacramento</td>\n",
       "      <td>Rancho Cordova</td>\n",
       "      <td>95670</td>\n",
       "    </tr>\n",
       "    <tr>\n",
       "      <th>60</th>\n",
       "      <td>Sacramento</td>\n",
       "      <td>Rosemont</td>\n",
       "      <td>95826</td>\n",
       "    </tr>\n",
       "  </tbody>\n",
       "</table>\n",
       "</div>"
      ],
      "text/plain": [
       "        County            City    ZIP\n",
       "38  Sacramento      Sacramento  95816\n",
       "51  Sacramento    Arden-Arcade  95825\n",
       "56  Sacramento  Foothill Farms  95842\n",
       "58  Sacramento          Folsom  95630\n",
       "59  Sacramento  Rancho Cordova  95670\n",
       "60  Sacramento        Rosemont  95826"
      ]
     },
     "metadata": {},
     "output_type": "display_data"
    },
    {
     "name": "stdout",
     "output_type": "stream",
     "text": [
      "['Sacramento' 'Arden-Arcade' 'Foothill Farms' 'Folsom' 'Rancho Cordova'\n",
      " 'Rosemont']\n"
     ]
    }
   ],
   "source": [
    "display_cols = [\n",
    "    \"County\", \"City\", \"ZIP\"\n",
    "]\n",
    "\n",
    "for county in [\"Santa Clara\", \"Los Angeles\", \"Sacramento\"]: \n",
    "    df2 = df[df.flag_me==1].reset_index(drop=True)\n",
    "    df3 = df2.drop_duplicates(subset=[\"County\", \"City\"])\n",
    "    display(df3[df3.County==county][display_cols])\n",
    "    print(df3[df3.County==county].City.unique())"
   ]
  },
  {
   "cell_type": "code",
   "execution_count": null,
   "id": "abe01430-89e0-48d2-8e1e-748ee3a1b089",
   "metadata": {},
   "outputs": [],
   "source": []
  }
 ],
 "metadata": {
  "kernelspec": {
   "display_name": "Python 3 (ipykernel)",
   "language": "python",
   "name": "python3"
  },
  "language_info": {
   "codemirror_mode": {
    "name": "ipython",
    "version": 3
   },
   "file_extension": ".py",
   "mimetype": "text/x-python",
   "name": "python",
   "nbconvert_exporter": "python",
   "pygments_lexer": "ipython3",
   "version": "3.9.12"
  }
 },
 "nbformat": 4,
 "nbformat_minor": 5
}
