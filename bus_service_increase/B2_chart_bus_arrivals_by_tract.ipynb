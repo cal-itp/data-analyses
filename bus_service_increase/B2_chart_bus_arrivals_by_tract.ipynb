{
 "cells": [
  {
   "cell_type": "markdown",
   "id": "31e7d93d-fced-420b-9572-e5db216c6ca1",
   "metadata": {},
   "source": [
    "# Charts for bus service opportunities by tract and CalEnviroScreen / Density Scores\n",
    "\n",
    "* Density and CalEnviroScreen both grouped as low/med/high\n",
    "* Provide some charts to accompany maps\n",
    "* Heatmaps to show distribution?\n",
    "* Scatterplot of pop density vs service density"
   ]
  },
  {
   "cell_type": "code",
   "execution_count": 1,
   "id": "76964bd1-a03b-4637-b125-cc32f29fccdf",
   "metadata": {},
   "outputs": [
    {
     "name": "stderr",
     "output_type": "stream",
     "text": [
      "/opt/conda/lib/python3.9/site-packages/geopandas/_compat.py:111: UserWarning: The Shapely GEOS version (3.9.1-CAPI-1.14.2) is incompatible with the GEOS version PyGEOS was compiled with (3.10.1-CAPI-1.16.0). Conversions between both will be slow.\n",
      "  warnings.warn(\n"
     ]
    }
   ],
   "source": [
    "import pandas as pd\n",
    "\n",
    "import make_tract_viz"
   ]
  },
  {
   "cell_type": "code",
   "execution_count": 2,
   "id": "995594b1-ed0e-4d65-ad98-bbea6fe201a7",
   "metadata": {},
   "outputs": [],
   "source": [
    "make_tract_viz.create_all_viz(CHART_IMG_PATH = \"./test_img/\")"
   ]
  },
  {
   "cell_type": "code",
   "execution_count": null,
   "id": "714ed9e2-8467-4e7d-bf79-ca5108d63720",
   "metadata": {},
   "outputs": [],
   "source": []
  },
  {
   "cell_type": "code",
   "execution_count": null,
   "id": "9fe7609e-b3c8-41ac-ad26-228b7e8f4d70",
   "metadata": {},
   "outputs": [],
   "source": [
    "df = make_tract_viz.import_processed_data()\n",
    "TOTAL_CA_TRACTS = len(df)"
   ]
  },
  {
   "cell_type": "markdown",
   "id": "66e74ab0-4760-4a93-875b-a11132b269e8",
   "metadata": {},
   "source": [
    "## Opportunity Tracts\n",
    "\n",
    "Tracts in the lower right quandrant, but pick out the most extreme cases.\n",
    "\n",
    "Tracts with > 75th ptile for pop/job density & < 25th ptile for service density.\n",
    "\n",
    "Especially the medium-need tracts, these would be the ones dragging down the average for the middle yellow bar."
   ]
  },
  {
   "cell_type": "code",
   "execution_count": null,
   "id": "615410d7-f118-47a9-9ad8-669cd5c8cde3",
   "metadata": {},
   "outputs": [],
   "source": [
    "# Grab the ones with density above 75th percentile\n",
    "# and in the lower 25th percentile for service density\n",
    "p75 = df.popjobs_sq_mi.quantile(0.75)\n",
    "p25 = df.arrivals_per_1k_pj.quantile(0.25)\n",
    "\n",
    "df = df.assign(\n",
    "    flag_me = df.apply(lambda x: (x.popjobs_sq_mi > p75) and \n",
    "                       (x.arrivals_per_1k_pj < p25), axis=1)\n",
    ")\n",
    "\n",
    "pct_oppor_tracts = round(len(df[df.flag_me==1])/TOTAL_CA_TRACTS, 3)\n",
    "print(f\"# opportunity tracts: {len(df[df.flag_me==1])}\")\n",
    "print(f\"% opportunity tracts of total: {pct_oppor_tracts*100}%\")"
   ]
  },
  {
   "cell_type": "markdown",
   "id": "c5b70b49-b80d-42b2-8788-600163782d62",
   "metadata": {},
   "source": [
    "### List these cities where opportunity tracts fall"
   ]
  },
  {
   "cell_type": "code",
   "execution_count": null,
   "id": "8f4dbf2f-b29a-4500-8e30-faca4ee4a134",
   "metadata": {},
   "outputs": [],
   "source": [
    "display_cols = [\n",
    "    \"County\", \"City\", \"ZIP\"\n",
    "]\n",
    "\n",
    "for county in [\"Santa Clara\", \"Los Angeles\", \"Sacramento\"]: \n",
    "    df2 = df[df.flag_me==1].reset_index(drop=True)\n",
    "    df3 = df2.drop_duplicates(subset=[\"County\", \"City\"])\n",
    "    display(df3[df3.County==county][display_cols])\n",
    "    print(df3[df3.County==county].City.unique())"
   ]
  }
 ],
 "metadata": {
  "kernelspec": {
   "display_name": "Python 3 (ipykernel)",
   "language": "python",
   "name": "python3"
  },
  "language_info": {
   "codemirror_mode": {
    "name": "ipython",
    "version": 3
   },
   "file_extension": ".py",
   "mimetype": "text/x-python",
   "name": "python",
   "nbconvert_exporter": "python",
   "pygments_lexer": "ipython3",
   "version": "3.9.7"
  }
 },
 "nbformat": 4,
 "nbformat_minor": 5
}
