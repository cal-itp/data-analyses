{
 "cells": [
  {
   "cell_type": "markdown",
   "id": "31e7d93d-fced-420b-9572-e5db216c6ca1",
   "metadata": {},
   "source": [
    "# Charts for bus service opportunities by tract and CalEnviroScreen / Density Scores\n",
    "\n",
    "* Density and CalEnviroScreen both grouped as low/med/high\n",
    "* Provide some charts to accompany maps\n",
    "* Heatmaps to show distribution?\n",
    "* Scatterplot of pop density vs service density"
   ]
  },
  {
   "cell_type": "code",
   "execution_count": null,
   "id": "76964bd1-a03b-4637-b125-cc32f29fccdf",
   "metadata": {},
   "outputs": [],
   "source": [
    "import intake\n",
    "import pandas as pd\n",
    "\n",
    "from shared_utils import portfolio_utils\n",
    "import setup_tract_charts\n",
    "\n",
    "catalog = intake.open_catalog(\"*.yml\")"
   ]
  },
  {
   "cell_type": "code",
   "execution_count": null,
   "id": "97c4bb25-88e2-4220-93b1-1c9c531d5b47",
   "metadata": {},
   "outputs": [],
   "source": [
    "def import_processed_data()-> pd.DataFrame:\n",
    "    \"\"\"\n",
    "    Import processed bus stop times data by census tract.\n",
    "    \n",
    "    Clean up columns, dtypes, labeling for making visualizations.\n",
    "    \"\"\"\n",
    "    df = catalog.bus_stop_times_by_tract.read()\n",
    "    \n",
    "    fill_with_zero = [\n",
    "        \"total_arrivals\", \"n_stops\", \"n_operators\",\n",
    "        \"num_jobs\", \"Population\",\n",
    "        \"num_pop_jobs\"\n",
    "    ]\n",
    "    \n",
    "    df[fill_with_zero] = df[fill_with_zero].fillna(0).astype(int)\n",
    "    \n",
    "    df = df.assign(\n",
    "        popjobdensity_group = pd.qcut(df.popjobs_sq_mi, q=3, labels=False) + 1,\n",
    "        arrivals_per_1k_pj = (df.total_arrivals / df.num_pop_jobs) * 1_000,\n",
    "    )\n",
    "\n",
    "    df = df.assign(\n",
    "        arrivals_group_pj = (pd.qcut(df.arrivals_per_1k_pj, q=3, labels=False) + 1).astype(\"Int64\"),\n",
    "    )\n",
    "    \n",
    "    # Map getting too big, use simplify to decrease size\n",
    "    df = df.assign(\n",
    "        geometry = df.geometry.simplify(tolerance=0.005)\n",
    "    )\n",
    "    \n",
    "    # Address small numbers issue\n",
    "    df = df[df.Population > 10].reset_index(drop=True)\n",
    "    \n",
    "    return df\n",
    "\n",
    "\n",
    "def aggregate_generate_stats(\n",
    "    df: pd.DataFrame, \n",
    "    group_cols: list\n",
    ") -> pd.DataFrame:\n",
    "    # After subset\n",
    "    t1 = portfolio_utils.aggregate_by_geography(\n",
    "        df, \n",
    "        group_cols = group_cols, \n",
    "        sum_cols = [\"n_stops\", \"n_operators\", \"Population\", \n",
    "                    \"num_jobs\", \"num_pop_jobs\", \"total_arrivals\"], \n",
    "        count_cols = [\"Tract\"], \n",
    "    ).astype(\"int\").sort_values(group_cols)\n",
    "    \n",
    "    DENOM = 1_000\n",
    "    t1 = t1.assign(\n",
    "        arrivals_per_1k_pj = (t1.total_arrivals / t1.num_pop_jobs) * DENOM,\n",
    "        stops_per_1k_pj = (t1.n_stops / t1.num_pop_jobs) * DENOM,\n",
    "    )  \n",
    "    \n",
    "    round_me = [i for i in t1.columns if (\"sq_mi\" in i)\n",
    "                or (\"per_1k\" in i) or (\"ptile\" in i)]\n",
    "    \n",
    "    t1[round_me] = t1[round_me].round(2)\n",
    "    \n",
    "    return t1"
   ]
  },
  {
   "cell_type": "code",
   "execution_count": null,
   "id": "85b4562b-f940-4d5d-bd3c-fa92db13112e",
   "metadata": {},
   "outputs": [],
   "source": [
    "df = import_processed_data()"
   ]
  },
  {
   "cell_type": "code",
   "execution_count": null,
   "id": "54f9ee8e-8563-4c1b-9a42-44457e468989",
   "metadata": {},
   "outputs": [],
   "source": [
    "## Create 3 sets of aggregated datasets to use for charts\n",
    "# (1) By popjobdensity - equity\n",
    "by_density_equity = aggregate_generate_stats(\n",
    "    df, \n",
    "    group_cols = [\"popjobdensity_group\", \"equity_group\"])\n",
    "\n",
    "by_density_equity = by_density_equity.assign(\n",
    "    popjobdensity_group = by_density_equity.popjobdensity_group.map(\n",
    "        setup_tract_charts.LEGEND_LABELS)\n",
    ")"
   ]
  },
  {
   "cell_type": "code",
   "execution_count": null,
   "id": "7eb20c93-584c-435d-b091-0400ddcdbba6",
   "metadata": {},
   "outputs": [],
   "source": [
    "setup_tract_charts.grouped_bar_chart(\n",
    "    by_density_equity, \n",
    "    x_col=\"popjobdensity_group\", \n",
    "    y_col=\"arrivals_per_1k_pj\", \n",
    "    color_col=\"popjobdensity_group\",\n",
    "    grouped_col=\"equity_group\",\n",
    "    y_max=by_density_equity.arrivals_per_1k_pj.max() + 10, \n",
    "    chart_title=\"Arrivals per 1k by Pop / Job Density\", \n",
    ")"
   ]
  },
  {
   "cell_type": "markdown",
   "id": "66e74ab0-4760-4a93-875b-a11132b269e8",
   "metadata": {},
   "source": [
    "## Opportunity Tracts\n",
    "\n",
    "Tracts in the lower right quandrant, but pick out the most extreme cases.\n",
    "\n",
    "Tracts with > 75th ptile for pop/job density & < 25th ptile for service density.\n",
    "\n",
    "Especially the medium-need tracts, these would be the ones dragging down the average for the middle yellow bar."
   ]
  },
  {
   "cell_type": "code",
   "execution_count": null,
   "id": "abe01430-89e0-48d2-8e1e-748ee3a1b089",
   "metadata": {},
   "outputs": [],
   "source": [
    "# Grab the ones with density above 75th percentile\n",
    "# and in the lower 25th percentile for service density\n",
    "p75 = df.popjobs_sq_mi.quantile(0.75)\n",
    "p25 = df.arrivals_per_1k_pj.quantile(0.25)\n",
    "\n",
    "df = df.assign(\n",
    "    is_oppor_tract = df.apply(lambda x: (x.popjobs_sq_mi > p75) and \n",
    "                       (x.arrivals_per_1k_pj < p25), axis=1)\n",
    ")"
   ]
  },
  {
   "cell_type": "code",
   "execution_count": null,
   "id": "69d53618-3bd4-48d9-859b-bff9e4dbac36",
   "metadata": {},
   "outputs": [],
   "source": [
    "df[df.is_oppor_tract==True].explore(\n",
    "    \"is_oppor_tract\",\n",
    "    tiles = \"CartoDB Positron\",\n",
    "    categorical = True\n",
    ")"
   ]
  },
  {
   "cell_type": "code",
   "execution_count": null,
   "id": "b90ac542-e86f-4c04-9d42-77a70ca294fd",
   "metadata": {},
   "outputs": [],
   "source": []
  }
 ],
 "metadata": {
  "kernelspec": {
   "display_name": "Python 3 (ipykernel)",
   "language": "python",
   "name": "python3"
  },
  "language_info": {
   "codemirror_mode": {
    "name": "ipython",
    "version": 3
   },
   "file_extension": ".py",
   "mimetype": "text/x-python",
   "name": "python",
   "nbconvert_exporter": "python",
   "pygments_lexer": "ipython3",
   "version": "3.9.13"
  }
 },
 "nbformat": 4,
 "nbformat_minor": 5
}
