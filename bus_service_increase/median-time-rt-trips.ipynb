{
 "cells": [
  {
   "cell_type": "markdown",
   "id": "025cd613-92f6-4b04-b615-387b7a074740",
   "metadata": {},
   "source": [
    "# RT trips\n",
    "\n",
    "* Is this the median timestamp...akin to the midpoint between start of trip and end of trip?\n",
    "* Is this the median within `route_id`? `shape_id`?\n",
    "* How to use `median_time` correctly?"
   ]
  },
  {
   "cell_type": "code",
   "execution_count": 1,
   "id": "afb0eef8-3d87-4181-a567-ab4bb70114c6",
   "metadata": {},
   "outputs": [
    {
     "name": "stderr",
     "output_type": "stream",
     "text": [
      "/opt/conda/lib/python3.10/site-packages/geopandas/_compat.py:112: UserWarning: The Shapely GEOS version (3.10.3-CAPI-1.16.1) is incompatible with the GEOS version PyGEOS was compiled with (3.10.1-CAPI-1.16.0). Conversions between both will be slow.\n",
      "  warnings.warn(\n"
     ]
    }
   ],
   "source": [
    "import pandas as pd\n",
    "\n",
    "from shared_utils import rt_dates, rt_utils\n",
    "\n",
    "ANALYSIS_DATE = rt_dates.DATES[\"may2022\"]"
   ]
  },
  {
   "cell_type": "code",
   "execution_count": 2,
   "id": "bec62568-36a2-4f14-b070-b4925f19a770",
   "metadata": {},
   "outputs": [],
   "source": [
    "df = pd.read_parquet(\n",
    "    f\"{rt_utils.GCS_FILE_PATH}rt_trips/all_operators_{ANALYSIS_DATE}.parquet\")"
   ]
  },
  {
   "cell_type": "code",
   "execution_count": 3,
   "id": "e281b2f9-9457-4e63-96d3-e495b3a0a6d8",
   "metadata": {},
   "outputs": [
    {
     "data": {
      "text/plain": [
       "Index(['calitp_itp_id', 'calitp_url_number', 'service_date', 'trip_key',\n",
       "       'trip_id', 'route_id', 'direction_id', 'shape_id',\n",
       "       'calitp_extracted_at', 'calitp_deleted_at', 'route_short_name',\n",
       "       'route_long_name', 'route_desc', 'median_time', 'direction',\n",
       "       'mean_speed_mph', 'calitp_agency_name', 'route_type'],\n",
       "      dtype='object')"
      ]
     },
     "execution_count": 3,
     "metadata": {},
     "output_type": "execute_result"
    }
   ],
   "source": [
    "df.columns"
   ]
  },
  {
   "cell_type": "code",
   "execution_count": 4,
   "id": "f7eebc30-fd26-4c6f-ae09-f5f9f0f6eb0d",
   "metadata": {},
   "outputs": [
    {
     "data": {
      "text/html": [
       "<div>\n",
       "<style scoped>\n",
       "    .dataframe tbody tr th:only-of-type {\n",
       "        vertical-align: middle;\n",
       "    }\n",
       "\n",
       "    .dataframe tbody tr th {\n",
       "        vertical-align: top;\n",
       "    }\n",
       "\n",
       "    .dataframe thead th {\n",
       "        text-align: right;\n",
       "    }\n",
       "</style>\n",
       "<table border=\"1\" class=\"dataframe\">\n",
       "  <thead>\n",
       "    <tr style=\"text-align: right;\">\n",
       "      <th></th>\n",
       "      <th>calitp_itp_id</th>\n",
       "      <th>route_id</th>\n",
       "      <th>route_type</th>\n",
       "      <th>shape_id</th>\n",
       "      <th>mean_speed_mph</th>\n",
       "      <th>median_time</th>\n",
       "    </tr>\n",
       "  </thead>\n",
       "  <tbody>\n",
       "    <tr>\n",
       "      <th>15929</th>\n",
       "      <td>182</td>\n",
       "      <td>720-13159</td>\n",
       "      <td>3</td>\n",
       "      <td>7201271_FEB22</td>\n",
       "      <td>12.985500</td>\n",
       "      <td>08:06:00</td>\n",
       "    </tr>\n",
       "    <tr>\n",
       "      <th>15930</th>\n",
       "      <td>182</td>\n",
       "      <td>720-13159</td>\n",
       "      <td>3</td>\n",
       "      <td>7201271_FEB22</td>\n",
       "      <td>13.088682</td>\n",
       "      <td>08:06:21</td>\n",
       "    </tr>\n",
       "    <tr>\n",
       "      <th>15931</th>\n",
       "      <td>182</td>\n",
       "      <td>720-13159</td>\n",
       "      <td>3</td>\n",
       "      <td>7201271_FEB22</td>\n",
       "      <td>9.673005</td>\n",
       "      <td>08:15:24</td>\n",
       "    </tr>\n",
       "    <tr>\n",
       "      <th>15932</th>\n",
       "      <td>182</td>\n",
       "      <td>720-13159</td>\n",
       "      <td>3</td>\n",
       "      <td>7201271_FEB22</td>\n",
       "      <td>13.078203</td>\n",
       "      <td>08:15:17</td>\n",
       "    </tr>\n",
       "    <tr>\n",
       "      <th>15933</th>\n",
       "      <td>182</td>\n",
       "      <td>720-13159</td>\n",
       "      <td>3</td>\n",
       "      <td>7201271_FEB22</td>\n",
       "      <td>12.563070</td>\n",
       "      <td>08:28:39</td>\n",
       "    </tr>\n",
       "    <tr>\n",
       "      <th>...</th>\n",
       "      <td>...</td>\n",
       "      <td>...</td>\n",
       "      <td>...</td>\n",
       "      <td>...</td>\n",
       "      <td>...</td>\n",
       "      <td>...</td>\n",
       "    </tr>\n",
       "    <tr>\n",
       "      <th>16192</th>\n",
       "      <td>182</td>\n",
       "      <td>720-13159</td>\n",
       "      <td>3</td>\n",
       "      <td>7201277_FEB22</td>\n",
       "      <td>8.537985</td>\n",
       "      <td>19:44:29</td>\n",
       "    </tr>\n",
       "    <tr>\n",
       "      <th>16193</th>\n",
       "      <td>182</td>\n",
       "      <td>720-13159</td>\n",
       "      <td>3</td>\n",
       "      <td>7201278_FEB22</td>\n",
       "      <td>11.732180</td>\n",
       "      <td>08:27:05</td>\n",
       "    </tr>\n",
       "    <tr>\n",
       "      <th>16194</th>\n",
       "      <td>182</td>\n",
       "      <td>720-13159</td>\n",
       "      <td>3</td>\n",
       "      <td>7201278_FEB22</td>\n",
       "      <td>8.411687</td>\n",
       "      <td>12:34:19</td>\n",
       "    </tr>\n",
       "    <tr>\n",
       "      <th>16195</th>\n",
       "      <td>182</td>\n",
       "      <td>720-13159</td>\n",
       "      <td>3</td>\n",
       "      <td>7201278_FEB22</td>\n",
       "      <td>9.172232</td>\n",
       "      <td>15:07:58</td>\n",
       "    </tr>\n",
       "    <tr>\n",
       "      <th>16196</th>\n",
       "      <td>182</td>\n",
       "      <td>720-13159</td>\n",
       "      <td>3</td>\n",
       "      <td>7201278_FEB22</td>\n",
       "      <td>9.093761</td>\n",
       "      <td>15:37:41</td>\n",
       "    </tr>\n",
       "  </tbody>\n",
       "</table>\n",
       "<p>268 rows × 6 columns</p>\n",
       "</div>"
      ],
      "text/plain": [
       "       calitp_itp_id   route_id route_type       shape_id  mean_speed_mph  \\\n",
       "15929            182  720-13159          3  7201271_FEB22       12.985500   \n",
       "15930            182  720-13159          3  7201271_FEB22       13.088682   \n",
       "15931            182  720-13159          3  7201271_FEB22        9.673005   \n",
       "15932            182  720-13159          3  7201271_FEB22       13.078203   \n",
       "15933            182  720-13159          3  7201271_FEB22       12.563070   \n",
       "...              ...        ...        ...            ...             ...   \n",
       "16192            182  720-13159          3  7201277_FEB22        8.537985   \n",
       "16193            182  720-13159          3  7201278_FEB22       11.732180   \n",
       "16194            182  720-13159          3  7201278_FEB22        8.411687   \n",
       "16195            182  720-13159          3  7201278_FEB22        9.172232   \n",
       "16196            182  720-13159          3  7201278_FEB22        9.093761   \n",
       "\n",
       "      median_time  \n",
       "15929    08:06:00  \n",
       "15930    08:06:21  \n",
       "15931    08:15:24  \n",
       "15932    08:15:17  \n",
       "15933    08:28:39  \n",
       "...           ...  \n",
       "16192    19:44:29  \n",
       "16193    08:27:05  \n",
       "16194    12:34:19  \n",
       "16195    15:07:58  \n",
       "16196    15:37:41  \n",
       "\n",
       "[268 rows x 6 columns]"
      ]
     },
     "execution_count": 4,
     "metadata": {},
     "output_type": "execute_result"
    }
   ],
   "source": [
    "itp_id = 182\n",
    "route = \"720\"\n",
    "\n",
    "keep_cols = [\"calitp_itp_id\", \"route_id\", \"route_type\", \"shape_id\",\n",
    "             \"mean_speed_mph\", \"median_time\"]\n",
    "\n",
    "df[(df.calitp_itp_id==itp_id) & \n",
    "   (df.route_id.str.contains(route))][keep_cols]"
   ]
  },
  {
   "cell_type": "code",
   "execution_count": null,
   "id": "e6d7c84a-c346-4997-a68c-c112623b5051",
   "metadata": {},
   "outputs": [],
   "source": []
  }
 ],
 "metadata": {
  "kernelspec": {
   "display_name": "Python 3 (ipykernel)",
   "language": "python",
   "name": "python3"
  },
  "language_info": {
   "codemirror_mode": {
    "name": "ipython",
    "version": 3
   },
   "file_extension": ".py",
   "mimetype": "text/x-python",
   "name": "python",
   "nbconvert_exporter": "python",
   "pygments_lexer": "ipython3",
   "version": "3.10.5"
  }
 },
 "nbformat": 4,
 "nbformat_minor": 5
}
