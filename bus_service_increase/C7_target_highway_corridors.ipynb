{
 "cells": [
  {
   "cell_type": "markdown",
   "id": "c9f8e859-3ef4-4716-845a-9c6176ca3700",
   "metadata": {},
   "source": [
    "# Highway Corridors \n",
    "\n",
    "Where are the opportunities for better transit service on highways? Seattle has a lot of highways with transit that are more express service style, which complement the local transit service. \n",
    "\n",
    "What highways would benefit from more complementary bus express service? If Caltrans were to launch its express bus line on the highways, where would you put it?\n",
    "\n",
    "Draw quadrant? See which highway corridors have a lot of parallel routes per mile, but few competitive routes per mile? % parallel routes vs % competitive routes? Both are normalized metrics."
   ]
  },
  {
   "cell_type": "code",
   "execution_count": null,
   "id": "7b0944d0-759a-4fd3-b05a-548ce16471a4",
   "metadata": {},
   "outputs": [],
   "source": [
    "import altair as alt\n",
    "import branca\n",
    "import geopandas as gpd\n",
    "import intake\n",
    "import pandas as pd\n",
    "\n",
    "from IPython.display import Markdown, HTML\n",
    "\n",
    "import setup_corridors_stats\n",
    "from create_parallel_corridors import IMG_PATH, DATA_PATH\n",
    "from shared_utils import geography_utils, map_utils, styleguide\n",
    "from shared_utils import calitp_color_palette as cp\n",
    "\n",
    "alt.themes.register(\"calitp_theme\", styleguide.calitp_theme)\n",
    "\n",
    "catalog = intake.open_catalog(\"./*.yml\")"
   ]
  },
  {
   "cell_type": "code",
   "execution_count": null,
   "id": "3449561d-5080-4378-96cb-438c66a0112a",
   "metadata": {},
   "outputs": [],
   "source": [
    "operator_stats, hwy_stats = setup_corridors_stats.aggregated_transit_hwy_stats()\n",
    "gdf = setup_corridors_stats.process_hwy_stats(hwy_stats)"
   ]
  },
  {
   "cell_type": "code",
   "execution_count": null,
   "id": "eeb1011e-cc14-4064-aecb-ed91ef8533b2",
   "metadata": {},
   "outputs": [],
   "source": [
    "def labeling(word):\n",
    "    rename_dict = {\n",
    "        \"pct_parallel\": \"% parallel routes\",\n",
    "        \"pct_competitive\": \"% competitive routes\"\n",
    "    }\n",
    "    \n",
    "    if word in rename_dict.keys():\n",
    "        word = rename_dict[word]\n",
    "    else:\n",
    "        word = word.replace('_', ' ').title()\n",
    "        \n",
    "    return word\n",
    "\n",
    "def make_scatterplot(df, x_col, y_col):\n",
    "    \n",
    "    if \"pct\" in x_col:\n",
    "        x_p50 = 0.5\n",
    "        y_p50 = 0.5\n",
    "    else:\n",
    "        x_p50 = 0.1\n",
    "        y_p50 = 0.1\n",
    "    \n",
    "    chart = (alt.Chart(df)\n",
    "             .mark_circle(size=30, opacity=0.6)\n",
    "             .encode(\n",
    "                 x=alt.X(f\"{x_col}:Q\", title=labeling(x_col)),\n",
    "                 y=alt.Y(f\"{y_col}:Q\", title=labeling(y_col)),\n",
    "                 color=alt.Color(\"District:N\"),\n",
    "                 tooltip=[\"Route\", \"County\", \"District\",\n",
    "                          \"num_parallel\", \"pct_parallel\", \"parallel_per_mi\",\n",
    "                          \"num_competitive\", \"pct_competitive\", \"competitive_per_mi\",\n",
    "                 ]\n",
    "             ).interactive()\n",
    "             .properties(title = f\"{labeling(x_col)} vs {labeling(y_col)}\")\n",
    "    )\n",
    "    \n",
    "    horiz_line = (alt.Chart(df.assign(y_p50=y_p50))\n",
    "                  .mark_rule(strokeDash=[2,3])\n",
    "                  .encode(\n",
    "                      y=\"y_p50:Q\",\n",
    "                      color=alt.value(\"black\")\n",
    "                  )\n",
    "    )\n",
    "    \n",
    "    vertical_line = (alt.Chart(df.assign(x_p50=x_p50))\n",
    "                     .mark_rule(strokeDash=[2,3])\n",
    "                     .encode(\n",
    "                         x=\"x_p50:Q\",\n",
    "                         color=alt.value(\"black\")\n",
    "                     )\n",
    "    )\n",
    "    \n",
    "    combined = chart + horiz_line + vertical_line\n",
    "    return combined"
   ]
  },
  {
   "cell_type": "code",
   "execution_count": null,
   "id": "c3acee17-3275-4ddf-aba6-3bfeb24e6e60",
   "metadata": {},
   "outputs": [],
   "source": [
    "make_scatterplot(gdf[gdf.pct_parallel > 0], \"pct_parallel\", \"pct_competitive\")"
   ]
  },
  {
   "cell_type": "code",
   "execution_count": null,
   "id": "9af8e290-8de0-4d63-9dd6-15c427e61c83",
   "metadata": {},
   "outputs": [],
   "source": [
    "make_scatterplot(gdf[gdf.pct_parallel > 0], \"parallel_per_mi\", \"competitive_per_mi\")"
   ]
  }
 ],
 "metadata": {
  "kernelspec": {
   "display_name": "Python 3 (ipykernel)",
   "language": "python",
   "name": "python3"
  },
  "language_info": {
   "codemirror_mode": {
    "name": "ipython",
    "version": 3
   },
   "file_extension": ".py",
   "mimetype": "text/x-python",
   "name": "python",
   "nbconvert_exporter": "python",
   "pygments_lexer": "ipython3",
   "version": "3.9.12"
  }
 },
 "nbformat": 4,
 "nbformat_minor": 5
}
