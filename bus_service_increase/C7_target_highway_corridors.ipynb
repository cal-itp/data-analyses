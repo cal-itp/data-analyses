{
 "cells": [
  {
   "cell_type": "markdown",
   "id": "c9f8e859-3ef4-4716-845a-9c6176ca3700",
   "metadata": {},
   "source": [
    "# Highway Corridors \n",
    "\n",
    "Where are the opportunities for better transit service on highways? Seattle has a lot of highways with transit that are more express service style, which complement the local transit service. \n",
    "\n",
    "What highways would benefit from more complementary bus express service? If Caltrans were to launch its express bus line on the highways, where would you put it?\n",
    "\n",
    "Draw quadrant? See which highway corridors have a lot of parallel routes per mile, but few competitive routes per mile? % parallel routes vs % competitive routes? Both are normalized metrics."
   ]
  },
  {
   "cell_type": "code",
   "execution_count": null,
   "id": "7b0944d0-759a-4fd3-b05a-548ce16471a4",
   "metadata": {},
   "outputs": [],
   "source": [
    "import altair as alt\n",
    "import branca\n",
    "import geopandas as gpd\n",
    "import intake\n",
    "import pandas as pd\n",
    "\n",
    "from IPython.display import Markdown, HTML\n",
    "\n",
    "import setup_corridors_stats\n",
    "from create_parallel_corridors import IMG_PATH, DATA_PATH\n",
    "from shared_utils import geography_utils, map_utils, styleguide\n",
    "from shared_utils import calitp_color_palette as cp\n",
    "\n",
    "alt.themes.register(\"calitp_theme\", styleguide.calitp_theme)\n",
    "\n",
    "catalog = intake.open_catalog(\"./*.yml\")"
   ]
  },
  {
   "cell_type": "code",
   "execution_count": null,
   "id": "5a6eac17-3dc0-4f1f-ad5f-8509dcbd2acd",
   "metadata": {},
   "outputs": [],
   "source": [
    "def process_hwy_stats(df):\n",
    "    # parallel routes / competitive routes per mile\n",
    "    # or percents?\n",
    "    # right now, highway_length is in feet\n",
    "    df = df.assign(\n",
    "        parallel_per_mi = (df.num_parallel.divide(df.highway_length) * \n",
    "                           geography_utils.FEET_PER_MI),\n",
    "        competitive_per_mi = (df.num_competitive.divide(df.highway_length) * \n",
    "                              geography_utils.FEET_PER_MI),\n",
    "    )\n",
    "    \n",
    "    # Add in highways geometry\n",
    "    highways = catalog.highways_cleaned.read()\n",
    "\n",
    "    gdf = pd.merge(\n",
    "        highways.assign(geometry=highways.geometry.buffer(200)).drop(\n",
    "            columns = [\"NB\", \"SB\", \"EB\", \"WB\"]),\n",
    "        df,\n",
    "        on = [\"Route\", \"County\", \"District\"],\n",
    "        how = \"inner\",\n",
    "        validate = \"m:1\"\n",
    "    ).rename(columns = {\n",
    "        \"highway_length_x\": \"highway_length_routetype\",\n",
    "        \"highway_length_y\": \"highway_length_route\",\n",
    "    })\n",
    "    \n",
    "    return gdf"
   ]
  },
  {
   "cell_type": "code",
   "execution_count": null,
   "id": "3449561d-5080-4378-96cb-438c66a0112a",
   "metadata": {},
   "outputs": [],
   "source": [
    "operator_stats, hwy_stats = setup_corridors_stats.aggregated_transit_hwy_stats()\n",
    "gdf = process_hwy_stats(hwy_stats)"
   ]
  },
  {
   "cell_type": "code",
   "execution_count": null,
   "id": "eeb1011e-cc14-4064-aecb-ed91ef8533b2",
   "metadata": {},
   "outputs": [],
   "source": [
    "def labeling(word):\n",
    "    rename_dict = {\n",
    "        \"pct_parallel\": \"% parallel routes\",\n",
    "        \"pct_competitive\": \"% competitive routes\"\n",
    "    }\n",
    "    \n",
    "    if word in rename_dict.keys():\n",
    "        word = rename_dict[word]\n",
    "    else:\n",
    "        word = word.replace('_', ' ').title()\n",
    "        \n",
    "    return word\n",
    "\n",
    "def make_scatterplot(df, x_col, y_col):\n",
    "    \n",
    "    if \"pct\" in x_col:\n",
    "        x_p50 = 0.5\n",
    "        y_p50 = 0.5\n",
    "    else:\n",
    "        x_p50 = 0.1\n",
    "        y_p50 = 0.1\n",
    "    \n",
    "    chart = (alt.Chart(df)\n",
    "             .mark_circle(size=30, opacity=0.6)\n",
    "             .encode(\n",
    "                 x=alt.X(f\"{x_col}:Q\", title=labeling(x_col)),\n",
    "                 y=alt.Y(f\"{y_col}:Q\", title=labeling(y_col)),\n",
    "                 color=alt.Color(\"District:N\"),\n",
    "                 tooltip=[\"Route\", \"County\", \"District\",\n",
    "                          \"num_parallel\", \"pct_parallel\", \"parallel_per_mi\",\n",
    "                          \"num_competitive\", \"pct_competitive\", \"competitive_per_mi\",\n",
    "                 ]\n",
    "             ).interactive()\n",
    "             .properties(title = f\"{labeling(x_col)} vs {labeling(y_col)}\")\n",
    "    )\n",
    "    \n",
    "    horiz_line = (alt.Chart(df.assign(y_p50=y_p50))\n",
    "                  .mark_rule(strokeDash=[2,3])\n",
    "                  .encode(\n",
    "                      y=\"y_p50:Q\",\n",
    "                      color=alt.value(\"black\")\n",
    "                  )\n",
    "    )\n",
    "    \n",
    "    vertical_line = (alt.Chart(df.assign(x_p50=x_p50))\n",
    "                     .mark_rule(strokeDash=[2,3])\n",
    "                     .encode(\n",
    "                         x=\"x_p50:Q\",\n",
    "                         color=alt.value(\"black\")\n",
    "                     )\n",
    "    )\n",
    "    \n",
    "    combined = chart + horiz_line + vertical_line\n",
    "    return combined"
   ]
  },
  {
   "cell_type": "code",
   "execution_count": null,
   "id": "c3acee17-3275-4ddf-aba6-3bfeb24e6e60",
   "metadata": {},
   "outputs": [],
   "source": [
    "make_scatterplot(gdf[gdf.pct_parallel > 0], \"pct_parallel\", \"pct_competitive\")"
   ]
  },
  {
   "cell_type": "code",
   "execution_count": null,
   "id": "9af8e290-8de0-4d63-9dd6-15c427e61c83",
   "metadata": {},
   "outputs": [],
   "source": [
    "make_scatterplot(gdf[gdf.pct_parallel > 0], \"parallel_per_mi\", \"competitive_per_mi\")"
   ]
  },
  {
   "cell_type": "markdown",
   "id": "336847c1-81ae-42e2-a925-e953fcde26df",
   "metadata": {},
   "source": [
    "## Highhways with Zero Parallel Routes\n",
    "\n",
    "These indicate a dearth of bus transit service.\n",
    "\n",
    "Sort in descending order where there are more bus routes, just that these aren't parallel bus routes, and then sort in decreasing length of highway corridor.\n",
    "\n",
    "Show top 20 and make district maps."
   ]
  },
  {
   "cell_type": "code",
   "execution_count": null,
   "id": "a53b5c79-d831-4b32-b52b-f066c1fa4f10",
   "metadata": {},
   "outputs": [],
   "source": [
    "top20_zero_parallel = (gdf[gdf.pct_parallel==0]\n",
    "                       .sort_values([\"count_route_id\", \"highway_length_routetype\"], \n",
    "                                    ascending = [False, False]).head(20)\n",
    "                      )"
   ]
  },
  {
   "cell_type": "code",
   "execution_count": null,
   "id": "549fc2b5-9a9f-48bd-9028-196000c5a113",
   "metadata": {},
   "outputs": [],
   "source": [
    "FIG_HEIGHT = 900\n",
    "FIG_WIDTH = 700\n",
    "\n",
    "PLOT_COL = \"count_route_id\"\n",
    "POPUP_DICT = {\n",
    "    \"Route\": \"Hwy Route\",\n",
    "    \"County\": \"County\",\n",
    "    \"District\": \"District\",\n",
    "    \"RouteType\": \"Route Type\",\n",
    "    \"count_route_id\": \"# transit routes\",\n",
    "}"
   ]
  },
  {
   "cell_type": "code",
   "execution_count": null,
   "id": "10afae02-1e4d-4c5c-9bd8-686be623aa54",
   "metadata": {},
   "outputs": [],
   "source": [
    "def make_district_map(gdf, district, chart_title):\n",
    "    display(Markdown(f\"### District {district}\"))\n",
    "    \n",
    "    # Display table first\n",
    "    subset = gdf[gdf.District==district].to_crs(geography_utils.WGS84)\n",
    "    \n",
    "    display_cols = [\n",
    "        \"Route\", \"County\", \"District\", \"RouteType\", \n",
    "        \"count_route_id\"\n",
    "    ]\n",
    "    display(subset.sort_values([\"count_route_id\", \"highway_length_routetype\"], \n",
    "                ascending=[False, False]).reset_index()[\n",
    "        display_cols].rename(columns = POPUP_DICT))\n",
    "    \n",
    "    district_centroid = (subset\n",
    "                    .geometry.centroid\n",
    "                    .iloc[0]\n",
    "                   )\n",
    "    \n",
    "    COLORSCALE = branca.colormap.step.Accent_08.scale(\n",
    "        vmin = subset.count_route_id.min(),\n",
    "        vmax=subset.count_route_id.max(),\n",
    "    )\n",
    "    \n",
    "    m = map_utils.make_folium_choropleth_map(\n",
    "        subset,\n",
    "        plot_col = PLOT_COL,\n",
    "        popup_dict = POPUP_DICT,\n",
    "        tooltip_dict = POPUP_DICT,\n",
    "        colorscale = COLORSCALE,\n",
    "        fig_width = FIG_WIDTH,\n",
    "        fig_height = FIG_HEIGHT,\n",
    "        zoom = 10,\n",
    "        centroid = [round(district_centroid.y,2), \n",
    "                    round(district_centroid.x, 2)],\n",
    "        title=chart_title,\n",
    "        legend_name=\"Legend\",\n",
    "    )\n",
    "\n",
    "    return m\n"
   ]
  },
  {
   "cell_type": "code",
   "execution_count": null,
   "id": "356667a2-fd01-4c2e-9989-747ffaa7d8d8",
   "metadata": {},
   "outputs": [],
   "source": [
    "district_list = sorted(list(top20_zero_parallel.District.unique()))\n",
    "for i in district_list:\n",
    "    chart_title = f\"District {i}: Highway Corridors with No Parallel Transit Routes\"\n",
    "    m = make_district_map(top20_zero_parallel, i, chart_title)\n",
    "    display(m)"
   ]
  },
  {
   "cell_type": "markdown",
   "id": "71e9f6a8-de49-46e3-a357-a4a78adf6966",
   "metadata": {},
   "source": [
    "## Show low competitive routes\n",
    "\n",
    "This is another case for Caltrans Express Bus, maybe not necessarily from Caltrans, but a case for operators who have parallel routes to perhaps make some of those more competitive with car\n",
    "\n",
    "Also include high parallel routes? Bottom right of quandrant or just bottom of chart"
   ]
  },
  {
   "cell_type": "code",
   "execution_count": null,
   "id": "c89ceed7-52f5-4d2d-a026-caf54eea027d",
   "metadata": {},
   "outputs": [],
   "source": [
    "with_parallel = gdf[gdf.pct_parallel > 0]\n",
    "\n",
    "#parallel_p75 = with_parallel.pct_parallel.quantile(0.75)\n",
    "competitive_p25 = with_parallel.pct_competitive.quantile(0.25)"
   ]
  },
  {
   "cell_type": "code",
   "execution_count": null,
   "id": "c431e452-87c3-4b42-bce7-e5f164f57bd3",
   "metadata": {},
   "outputs": [],
   "source": [
    "with_parallel2 = with_parallel[\n",
    "    #(with_parallel.pct_parallel > parallel_p75) & \n",
    "    (with_parallel.pct_competitive < competitive_p25)\n",
    "]"
   ]
  },
  {
   "cell_type": "code",
   "execution_count": null,
   "id": "d65122e0-5835-48bc-8bd4-fd26d685b2b7",
   "metadata": {},
   "outputs": [],
   "source": [
    "district_list = sorted(list(with_parallel2.District.unique()))\n",
    "for i in district_list: \n",
    "    chart_title = f\"District {i}: Highway Corridors with Few Competitive Transit Routes\"\n",
    "    m = make_district_map(with_parallel2, i, chart_title)\n",
    "    display(m)"
   ]
  }
 ],
 "metadata": {
  "kernelspec": {
   "display_name": "Python 3 (ipykernel)",
   "language": "python",
   "name": "python3"
  },
  "language_info": {
   "codemirror_mode": {
    "name": "ipython",
    "version": 3
   },
   "file_extension": ".py",
   "mimetype": "text/x-python",
   "name": "python",
   "nbconvert_exporter": "python",
   "pygments_lexer": "ipython3",
   "version": "3.9.10"
  }
 },
 "nbformat": 4,
 "nbformat_minor": 5
}
