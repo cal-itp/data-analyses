{
 "cells": [
  {
   "cell_type": "markdown",
   "id": "77cc360f-dd72-44cf-921b-1271ec8e3017",
   "metadata": {},
   "source": [
    "# Trips with no results in Google Directions API query\n",
    "\n",
    "Check a couple of these to see why?\n",
    "\n",
    "For LA Metro's 910 (Silver), which runs in ExpressLanes, Google Maps may not understand that as a viable path. Some other waypoints may want to be assembled in a certain order, but I'm explicitly not allowing that in the query."
   ]
  },
  {
   "cell_type": "code",
   "execution_count": 1,
   "id": "9ddd60e2-6708-41e7-96f4-c09003c8a717",
   "metadata": {},
   "outputs": [
    {
     "name": "stderr",
     "output_type": "stream",
     "text": [
      "/opt/conda/lib/python3.9/site-packages/geopandas/_compat.py:111: UserWarning: The Shapely GEOS version (3.10.2-CAPI-1.16.0) is incompatible with the GEOS version PyGEOS was compiled with (3.10.1-CAPI-1.16.0). Conversions between both will be slow.\n",
      "  warnings.warn(\n"
     ]
    }
   ],
   "source": [
    "import geopandas as gpd\n",
    "import glob\n",
    "import intake\n",
    "import os\n",
    "import pandas as pd\n",
    "\n",
    "from bus_service_utils import utils\n",
    "\n",
    "DATA_PATH = \"./gmaps_cache/\"\n",
    "catalog = intake.open_catalog(\"./*.yml\")"
   ]
  },
  {
   "cell_type": "code",
   "execution_count": 2,
   "id": "0235bbf2-518a-43d1-bb42-f1282b3571a1",
   "metadata": {},
   "outputs": [
    {
     "data": {
      "text/html": [
       "<div>\n",
       "<style scoped>\n",
       "    .dataframe tbody tr th:only-of-type {\n",
       "        vertical-align: middle;\n",
       "    }\n",
       "\n",
       "    .dataframe tbody tr th {\n",
       "        vertical-align: top;\n",
       "    }\n",
       "\n",
       "    .dataframe thead th {\n",
       "        text-align: right;\n",
       "    }\n",
       "</style>\n",
       "<table border=\"1\" class=\"dataframe\">\n",
       "  <thead>\n",
       "    <tr style=\"text-align: right;\">\n",
       "      <th></th>\n",
       "      <th>calitp_itp_id</th>\n",
       "      <th>shape_id</th>\n",
       "      <th>geometry</th>\n",
       "      <th>route_id</th>\n",
       "      <th>trip_id</th>\n",
       "      <th>service_hours</th>\n",
       "      <th>day_name</th>\n",
       "      <th>trip_departure</th>\n",
       "      <th>destination</th>\n",
       "      <th>origin</th>\n",
       "      <th>departure_in_one_year</th>\n",
       "      <th>waypoints</th>\n",
       "      <th>identifier</th>\n",
       "      <th>duration_in_sec</th>\n",
       "      <th>car_duration_hours</th>\n",
       "      <th>competitive</th>\n",
       "    </tr>\n",
       "  </thead>\n",
       "  <tbody>\n",
       "    <tr>\n",
       "      <th>0</th>\n",
       "      <td>4</td>\n",
       "      <td>shp-10-10</td>\n",
       "      <td>POLYGON ((-122.15978 37.72170, -122.15716 37.7...</td>\n",
       "      <td>10</td>\n",
       "      <td>13277020</td>\n",
       "      <td>0.45</td>\n",
       "      <td>Thursday</td>\n",
       "      <td>2022-01-06 07:08:00</td>\n",
       "      <td>[37.670239, -122.08718]</td>\n",
       "      <td>[37.721266, -122.160201]</td>\n",
       "      <td>2023-01-05 07:08:00</td>\n",
       "      <td>[[37.72521, -122.156367], [37.720677, -122.150...</td>\n",
       "      <td>4__10__13277020__shp-10-10</td>\n",
       "      <td>1261.0</td>\n",
       "      <td>0.35</td>\n",
       "      <td>1</td>\n",
       "    </tr>\n",
       "    <tr>\n",
       "      <th>1</th>\n",
       "      <td>4</td>\n",
       "      <td>shp-12-14</td>\n",
       "      <td>POLYGON ((-122.29889 37.87935, -122.30117 37.8...</td>\n",
       "      <td>12</td>\n",
       "      <td>2883020</td>\n",
       "      <td>0.85</td>\n",
       "      <td>Thursday</td>\n",
       "      <td>2022-01-06 22:58:00</td>\n",
       "      <td>[37.879358, -122.301843]</td>\n",
       "      <td>[37.79442, -122.271546]</td>\n",
       "      <td>2023-01-05 22:58:00</td>\n",
       "      <td>[[37.796581, -122.275884], [37.805037, -122.27...</td>\n",
       "      <td>4__12__2883020__shp-12-14</td>\n",
       "      <td>3228.0</td>\n",
       "      <td>0.90</td>\n",
       "      <td>1</td>\n",
       "    </tr>\n",
       "  </tbody>\n",
       "</table>\n",
       "</div>"
      ],
      "text/plain": [
       "   calitp_itp_id   shape_id  \\\n",
       "0              4  shp-10-10   \n",
       "1              4  shp-12-14   \n",
       "\n",
       "                                            geometry route_id   trip_id  \\\n",
       "0  POLYGON ((-122.15978 37.72170, -122.15716 37.7...       10  13277020   \n",
       "1  POLYGON ((-122.29889 37.87935, -122.30117 37.8...       12   2883020   \n",
       "\n",
       "   service_hours  day_name      trip_departure               destination  \\\n",
       "0           0.45  Thursday 2022-01-06 07:08:00   [37.670239, -122.08718]   \n",
       "1           0.85  Thursday 2022-01-06 22:58:00  [37.879358, -122.301843]   \n",
       "\n",
       "                     origin departure_in_one_year  \\\n",
       "0  [37.721266, -122.160201]   2023-01-05 07:08:00   \n",
       "1   [37.79442, -122.271546]   2023-01-05 22:58:00   \n",
       "\n",
       "                                           waypoints  \\\n",
       "0  [[37.72521, -122.156367], [37.720677, -122.150...   \n",
       "1  [[37.796581, -122.275884], [37.805037, -122.27...   \n",
       "\n",
       "                   identifier  duration_in_sec  car_duration_hours  \\\n",
       "0  4__10__13277020__shp-10-10           1261.0                0.35   \n",
       "1   4__12__2883020__shp-12-14           3228.0                0.90   \n",
       "\n",
       "   competitive  \n",
       "0            1  \n",
       "1            1  "
      ]
     },
     "execution_count": 2,
     "metadata": {},
     "output_type": "execute_result"
    }
   ],
   "source": [
    "df = catalog.gmaps_results.read()\n",
    "df.head(2)"
   ]
  },
  {
   "cell_type": "code",
   "execution_count": 3,
   "id": "c116961e-2212-431d-8b4e-4e492dd2a967",
   "metadata": {},
   "outputs": [
    {
     "name": "stdout",
     "output_type": "stream",
     "text": [
      "# rows: 1619\n",
      "# rows with results: 1603\n",
      "# rows with no results: 16\n"
     ]
    }
   ],
   "source": [
    "# Check if there are any identifiers already cached\n",
    "# Drop those from our df\n",
    "FILES = [f for f in glob.glob(f\"{DATA_PATH}*.json\")]\n",
    "filenames = []\n",
    "for f in FILES:\n",
    "    file = f.strip(f'{DATA_PATH}').strip('.json')\n",
    "    filenames.append(file)\n",
    "\n",
    "print(f\"# rows: {len(df)}\")\n",
    "print(f\"# rows with results: {len(df[df.duration_in_sec.notna()])}\")\n",
    "print(f\"# rows with no results: {len(df[df.duration_in_sec.isna()])}\")"
   ]
  },
  {
   "cell_type": "markdown",
   "id": "03e719ba-23ab-4a72-b1ab-8e89316c2708",
   "metadata": {},
   "source": [
    "## Competitive Routes"
   ]
  },
  {
   "cell_type": "code",
   "execution_count": 4,
   "id": "483e7c3a-ea7a-4c61-a13e-060bdd7c05f8",
   "metadata": {},
   "outputs": [
    {
     "data": {
      "text/plain": [
       "1    1476\n",
       "0     143\n",
       "Name: competitive, dtype: int64"
      ]
     },
     "execution_count": 4,
     "metadata": {},
     "output_type": "execute_result"
    }
   ],
   "source": [
    "df.competitive.value_counts()"
   ]
  },
  {
   "cell_type": "markdown",
   "id": "2825cc7e-b216-4de4-b769-82049953a464",
   "metadata": {},
   "source": [
    "## Trips with no results from Google"
   ]
  },
  {
   "cell_type": "code",
   "execution_count": null,
   "id": "dd494279-0ff2-44d3-b822-0d20528d990a",
   "metadata": {},
   "outputs": [],
   "source": [
    "import dotenv\n",
    "import googlemaps\n",
    "import os\n",
    "\n",
    "dotenv.load_dotenv(\"_env\")\n",
    "\n",
    "GOOGLE_API_KEY = os.environ[\"GOOGLE_API_KEY\"]\n",
    "\n",
    "gmaps = googlemaps.Client(key=GOOGLE_API_KEY)"
   ]
  },
  {
   "cell_type": "code",
   "execution_count": null,
   "id": "27407ab2-793f-4f12-b399-d4394df14cad",
   "metadata": {},
   "outputs": [],
   "source": [
    "no_results = catalog.gmaps_results.read()\n",
    "no_results = no_results[no_results.duration_in_sec.isna()]"
   ]
  },
  {
   "cell_type": "code",
   "execution_count": null,
   "id": "ad064666-7a5e-46db-9f2c-a1090bd45200",
   "metadata": {},
   "outputs": [],
   "source": [
    "for i, (o, d) in enumerate(zip(origin, destination)):\n",
    "    try:\n",
    "        result = gmaps.directions(\n",
    "            o, d, \n",
    "            mode='driving', \n",
    "            departure_time=departures[i], \n",
    "            waypoints=[f\"via:{lat},{lon}\" for lat, lon in waypoints[i]]\n",
    "        )\n",
    "\n",
    "        utils.save_request_json(\n",
    "            result, identifiers[i], \n",
    "            # Using different paths than utils.DATA_PATH, utils.GCS_FILE_PATH\n",
    "            DATA_PATH = DATA_PATH,\n",
    "            GCS_FILE_PATH = GCS_FILE_PATH\n",
    "        )\n",
    "    except:\n",
    "        print(f\"No result: {identifiers[i]}\")"
   ]
  },
  {
   "cell_type": "code",
   "execution_count": null,
   "id": "397cf22a-f856-4fd5-b0de-f028f9522a0e",
   "metadata": {},
   "outputs": [],
   "source": []
  }
 ],
 "metadata": {
  "kernelspec": {
   "display_name": "Python 3 (ipykernel)",
   "language": "python",
   "name": "python3"
  },
  "language_info": {
   "codemirror_mode": {
    "name": "ipython",
    "version": 3
   },
   "file_extension": ".py",
   "mimetype": "text/x-python",
   "name": "python",
   "nbconvert_exporter": "python",
   "pygments_lexer": "ipython3",
   "version": "3.10.5"
  }
 },
 "nbformat": 4,
 "nbformat_minor": 5
}
