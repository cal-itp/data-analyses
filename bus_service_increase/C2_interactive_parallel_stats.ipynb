{
 "cells": [
  {
   "cell_type": "markdown",
   "id": "a2de3f76-ae4a-4dd4-ba7b-05584dbfd78d",
   "metadata": {},
   "source": [
    "# Interactive Stats\n",
    "\n",
    "Be able to do dropdown to check how many routes are parallel or intersecting by highway or operator."
   ]
  },
  {
   "cell_type": "code",
   "execution_count": null,
   "id": "cc7bada7-fcd8-40f0-a893-7500778eed75",
   "metadata": {},
   "outputs": [],
   "source": [
    "import geopandas as gpd\n",
    "import intake\n",
    "import pandas as pd\n",
    "\n",
    "from shared_utils import geography_utils\n",
    "from shared_utils import calitp_color_palette as cp\n",
    "\n",
    "catalog = intake.open_catalog(\"*.yml\")\n",
    "\n",
    "IMG_PATH = \"./img/\"\n",
    "DATA_PATH = \"./data/\""
   ]
  },
  {
   "cell_type": "code",
   "execution_count": null,
   "id": "d2bca0cd-1696-48ae-b739-ada60e90b2fa",
   "metadata": {},
   "outputs": [],
   "source": [
    "gdf = gpd.read_parquet(f\"{DATA_PATH}parallel_or_intersecting.parquet\")"
   ]
  },
  {
   "cell_type": "markdown",
   "id": "5c108f72-667b-483d-922a-4c396e7916fa",
   "metadata": {},
   "source": [
    "## Aggregate to highway or operator\n",
    "\n",
    "Display these stats along with interactive map.\n",
    "\n",
    "Ref: [aggregation-examples.ipynb](./aggregation-examples.ipynb) for how to get to right unit of analysis.\n",
    "\n",
    "### Viability\n",
    "* for a route, it's only viable if the end to end trip is no more than 2x car trip time\n",
    "* can have all the parallel routes, but even smaller subset is viable"
   ]
  },
  {
   "cell_type": "code",
   "execution_count": null,
   "id": "abd3a643-a1d1-498d-8a12-e5ae9c4a46d3",
   "metadata": {},
   "outputs": [],
   "source": [
    "operator_group_cols = [\"itp_id\", \"County\"]\n",
    "\n",
    "# obs is itp_id-county-route_id\n",
    "# for the itp_id-county (operators can operate across county boundaries)\n",
    "operator_stats = (geography_utils.aggregate_by_geography(\n",
    "    gdf, \n",
    "    operator_group_cols,\n",
    "    sum_cols = [\"parallel\"],\n",
    "    nunique_cols = [\"route_id\"]\n",
    "    )\n",
    ")"
   ]
  },
  {
   "cell_type": "code",
   "execution_count": null,
   "id": "6d22d802-03f4-4493-93ed-470dc45af4f0",
   "metadata": {},
   "outputs": [],
   "source": [
    "hwy_group_cols = [\"Route\", \"County\", \"District\", \"NB\", \"SB\", \"EB\", \"WB\"]\n",
    "\n",
    "# First, aggregate once to get rid of edge cases where RouteType differs\n",
    "# 110 in LA County is both Interstate and State Highway\n",
    "# Make sure other highway characteristics are correctly grabbed (max or sum)\n",
    "gdf2 = (gdf.groupby([\"Route\", \"County\", \"District\",\n",
    "                     \"route_id\", \"total_routes\"])\n",
    "        .agg({\n",
    "            \"NB\": \"max\",\n",
    "            \"SB\": \"max\", \n",
    "            \"EB\": \"max\",\n",
    "            \"WB\": \"max\",\n",
    "            \"route_length\": \"sum\",\n",
    "            \"pct_route\": \"sum\",\n",
    "            \"pct_highway\": \"sum\",\n",
    "            \"highway_length\": \"sum\",\n",
    "            \"parallel\": \"max\",\n",
    "        }).reset_index()\n",
    ")\n",
    "\n",
    "# Now we took sum for pct_highway, values can be > 1, set it back to 1 max again.\n",
    "gdf2 = gdf2.assign(\n",
    "    pct_highway = gdf2.apply(lambda x: 1 if x.pct_highway > 1 \n",
    "                             else x.pct_highway, axis=1)\n",
    ")\n",
    "\n"
   ]
  },
  {
   "cell_type": "code",
   "execution_count": null,
   "id": "9f5bbb52-5b63-4d52-a42c-39d6c5319eee",
   "metadata": {},
   "outputs": [],
   "source": [
    "hwy_stats = (geography_utils.aggregate_by_geography(\n",
    "        gdf2,\n",
    "        group_cols = hwy_group_cols,\n",
    "        sum_cols = [\"parallel\"],\n",
    "        nunique_cols = [\"route_id\"]\n",
    "    )\n",
    ")\n",
    "    \n",
    "hwy_stats[hwy_stats.Route==110]"
   ]
  },
  {
   "cell_type": "code",
   "execution_count": null,
   "id": "08c0534b-8d52-4fa9-b8c9-b148cad7152d",
   "metadata": {},
   "outputs": [],
   "source": [
    "def aggregate(df, aggregate_by=\"operator\"):\n",
    "    if aggregate_by==\"operator\":\n",
    "        group_cols = [\"itp_id\", \"County\"]\n",
    "    elif aggregate_by==\"highway\":\n",
    "        group_cols = [\"Route\", \"County\", \"District\", \n",
    "                      \"NB\", \"SB\", \"EB\", \"WB\"]\n",
    "    \n",
    "    df2 = (geography_utils.aggregate_by_geography(\n",
    "        df,\n",
    "        group_cols = group_cols,\n",
    "        sum_cols = [\"parallel\"],\n",
    "        nunique_cols = [\"route_id\"]\n",
    "    )\n",
    ")"
   ]
  },
  {
   "cell_type": "code",
   "execution_count": null,
   "id": "cf93ce33-2033-4d4f-a235-b81396beb547",
   "metadata": {},
   "outputs": [],
   "source": [
    "import ipywidgets as widgets\n",
    "from ipywidgets import *\n",
    "from IPython.display import Markdown\n",
    "from IPython.core.display import display"
   ]
  },
  {
   "cell_type": "code",
   "execution_count": null,
   "id": "48d189d9-52e7-4772-a294-e535ee700942",
   "metadata": {},
   "outputs": [],
   "source": [
    "def summary_stats(df, select_col, place):\n"
   ]
  },
  {
   "cell_type": "code",
   "execution_count": null,
   "id": "3423884d-81df-4b8c-bfef-6b13f5e1fc33",
   "metadata": {},
   "outputs": [],
   "source": [
    "## Think about how to wrap above interactive widget into a function\n",
    "# Be able to select agency, county, district, etc\n",
    "def interactive_widget(df, select_col):\n",
    "\n",
    "    dropdown = widgets.Dropdown(\n",
    "        description=f\"{select_col.title()}\",\n",
    "        options=df[select_col].sort_values().unique().tolist(),\n",
    "    )\n",
    "    output = widgets.Output()\n",
    "\n",
    "    display(dropdown)\n",
    "    display(output)\n",
    "\n",
    "    def on_selection(*args):\n",
    "        output.clear_output()\n",
    "        with output:\n",
    "            summarize_and_plot(df, select_col, dropdown.value)\n",
    "\n",
    "    dropdown.observe(on_selection, names=\"value\")\n",
    "    on_selection()"
   ]
  }
 ],
 "metadata": {
  "kernelspec": {
   "display_name": "Python 3 (ipykernel)",
   "language": "python",
   "name": "python3"
  },
  "language_info": {
   "codemirror_mode": {
    "name": "ipython",
    "version": 3
   },
   "file_extension": ".py",
   "mimetype": "text/x-python",
   "name": "python",
   "nbconvert_exporter": "python",
   "pygments_lexer": "ipython3",
   "version": "3.9.7"
  }
 },
 "nbformat": 4,
 "nbformat_minor": 5
}
