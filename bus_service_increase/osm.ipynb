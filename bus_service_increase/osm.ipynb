{
 "cells": [
  {
   "cell_type": "code",
   "execution_count": 1,
   "id": "57eae697-c979-409f-8761-9ad6cae92dda",
   "metadata": {},
   "outputs": [
    {
     "name": "stdout",
     "output_type": "stream",
     "text": [
      "Collecting osmium\n",
      "  Using cached osmium-3.2.0-cp39-cp39-manylinux_2_12_x86_64.manylinux2010_x86_64.whl (1.2 MB)\n",
      "Collecting pyrosm\n",
      "  Using cached pyrosm-0.6.1-cp39-cp39-linux_x86_64.whl\n",
      "Requirement already satisfied: requests in /opt/conda/lib/python3.9/site-packages (from osmium) (2.27.1)\n",
      "Requirement already satisfied: pygeos in /opt/conda/lib/python3.9/site-packages (from pyrosm) (0.12.0)\n",
      "Requirement already satisfied: setuptools>=18.0 in /opt/conda/lib/python3.9/site-packages (from pyrosm) (59.8.0)\n",
      "Collecting pyrobuf\n",
      "  Using cached pyrobuf-0.9.3-cp39-cp39-linux_x86_64.whl\n",
      "Collecting cykhash\n",
      "  Using cached cykhash-2.0.0-cp39-cp39-linux_x86_64.whl\n",
      "Collecting python-rapidjson\n",
      "  Using cached python_rapidjson-1.6-cp39-cp39-manylinux_2_17_x86_64.manylinux2014_x86_64.whl (1.6 MB)\n",
      "Requirement already satisfied: geopandas>=0.8.0 in /opt/conda/lib/python3.9/site-packages (from pyrosm) (0.10.2)\n",
      "Requirement already satisfied: shapely>=1.6 in /opt/conda/lib/python3.9/site-packages (from geopandas>=0.8.0->pyrosm) (1.8.1.post1)\n",
      "Requirement already satisfied: pyproj>=2.2.0 in /opt/conda/lib/python3.9/site-packages (from geopandas>=0.8.0->pyrosm) (3.3.0)\n",
      "Requirement already satisfied: pandas>=0.25.0 in /opt/conda/lib/python3.9/site-packages (from geopandas>=0.8.0->pyrosm) (1.4.1)\n",
      "Requirement already satisfied: fiona>=1.8 in /opt/conda/lib/python3.9/site-packages (from geopandas>=0.8.0->pyrosm) (1.8.21)\n",
      "Requirement already satisfied: numpy>=1.13 in /opt/conda/lib/python3.9/site-packages (from pygeos->pyrosm) (1.21.5)\n",
      "Requirement already satisfied: cython>=0.23 in /opt/conda/lib/python3.9/site-packages (from pyrobuf->pyrosm) (0.29.28)\n",
      "Requirement already satisfied: jinja2>=2.8 in /opt/conda/lib/python3.9/site-packages (from pyrobuf->pyrosm) (3.0.3)\n",
      "Requirement already satisfied: certifi>=2017.4.17 in /opt/conda/lib/python3.9/site-packages (from requests->osmium) (2021.10.8)\n",
      "Requirement already satisfied: charset-normalizer~=2.0.0 in /opt/conda/lib/python3.9/site-packages (from requests->osmium) (2.0.12)\n",
      "Requirement already satisfied: urllib3<1.27,>=1.21.1 in /opt/conda/lib/python3.9/site-packages (from requests->osmium) (1.26.8)\n",
      "Requirement already satisfied: idna<4,>=2.5 in /opt/conda/lib/python3.9/site-packages (from requests->osmium) (3.3)\n",
      "Requirement already satisfied: click>=4.0 in /opt/conda/lib/python3.9/site-packages (from fiona>=1.8->geopandas>=0.8.0->pyrosm) (8.0.4)\n",
      "Requirement already satisfied: attrs>=17 in /opt/conda/lib/python3.9/site-packages (from fiona>=1.8->geopandas>=0.8.0->pyrosm) (21.4.0)\n",
      "Requirement already satisfied: munch in /opt/conda/lib/python3.9/site-packages (from fiona>=1.8->geopandas>=0.8.0->pyrosm) (2.5.0)\n",
      "Requirement already satisfied: cligj>=0.5 in /opt/conda/lib/python3.9/site-packages (from fiona>=1.8->geopandas>=0.8.0->pyrosm) (0.7.2)\n",
      "Requirement already satisfied: six>=1.7 in /opt/conda/lib/python3.9/site-packages (from fiona>=1.8->geopandas>=0.8.0->pyrosm) (1.16.0)\n",
      "Requirement already satisfied: click-plugins>=1.0 in /opt/conda/lib/python3.9/site-packages (from fiona>=1.8->geopandas>=0.8.0->pyrosm) (1.1.1)\n",
      "Requirement already satisfied: MarkupSafe>=2.0 in /opt/conda/lib/python3.9/site-packages (from jinja2>=2.8->pyrobuf->pyrosm) (2.1.0)\n",
      "Requirement already satisfied: python-dateutil>=2.8.1 in /opt/conda/lib/python3.9/site-packages (from pandas>=0.25.0->geopandas>=0.8.0->pyrosm) (2.8.2)\n",
      "Requirement already satisfied: pytz>=2020.1 in /opt/conda/lib/python3.9/site-packages (from pandas>=0.25.0->geopandas>=0.8.0->pyrosm) (2021.3)\n",
      "Installing collected packages: cykhash, python-rapidjson, pyrobuf, osmium, pyrosm\n",
      "Successfully installed cykhash-2.0.0 osmium-3.2.0 pyrobuf-0.9.3 pyrosm-0.6.1 python-rapidjson-1.6\n"
     ]
    }
   ],
   "source": [
    "!pip install osmium pyrosm"
   ]
  },
  {
   "cell_type": "code",
   "execution_count": 3,
   "id": "9a010ee3-05fa-423f-9ef5-2d11ec183ef4",
   "metadata": {},
   "outputs": [],
   "source": [
    "#https://pyrosm.readthedocs.io/en/latest/installation.html"
   ]
  },
  {
   "cell_type": "code",
   "execution_count": 4,
   "id": "97746ec5-1db3-4942-9c6a-ce11d4b9900c",
   "metadata": {},
   "outputs": [
    {
     "name": "stderr",
     "output_type": "stream",
     "text": [
      "/opt/conda/lib/python3.9/site-packages/geopandas/_compat.py:111: UserWarning: The Shapely GEOS version (3.10.2-CAPI-1.16.0) is incompatible with the GEOS version PyGEOS was compiled with (3.10.1-CAPI-1.16.0). Conversions between both will be slow.\n",
      "  warnings.warn(\n"
     ]
    },
    {
     "data": {
      "text/plain": [
       "dict_keys(['africa', 'antarctica', 'asia', 'australia_oceania', 'central_america', 'europe', 'north_america', 'south_america', 'cities', 'subregions'])"
      ]
     },
     "execution_count": 4,
     "metadata": {},
     "output_type": "execute_result"
    }
   ],
   "source": [
    "from pyrosm.data import sources\n",
    "\n",
    "# Print available source categories\n",
    "sources.available.keys()"
   ]
  },
  {
   "cell_type": "code",
   "execution_count": 2,
   "id": "3a5d3501-cab3-4686-aee5-249f9e7a487c",
   "metadata": {},
   "outputs": [
    {
     "name": "stderr",
     "output_type": "stream",
     "text": [
      "/opt/conda/lib/python3.9/site-packages/geopandas/_compat.py:111: UserWarning: The Shapely GEOS version (3.10.2-CAPI-1.16.0) is incompatible with the GEOS version PyGEOS was compiled with (3.10.1-CAPI-1.16.0). Conversions between both will be slow.\n",
      "  warnings.warn(\n"
     ]
    },
    {
     "name": "stdout",
     "output_type": "stream",
     "text": [
      "Downloaded Protobuf data 'kenya-latest.osm.pbf' (173.61 MB) to:\n",
      "'/tmp/pyrosm/kenya-latest.osm.pbf'\n"
     ]
    }
   ],
   "source": [
    "from pyrosm import get_data, OSM\n",
    "\n",
    "# Pyrosm comes with a couple of test datasets \n",
    "# that can be used straight away without\n",
    "# downloading anything\n",
    "fp = get_data(\"kenya\")\n",
    "\n",
    "# Initialize the OSM parser object\n",
    "osm = OSM(fp)\n",
    "\n",
    "# Read all drivable roads\n",
    "# =======================\n",
    "#drive_net = osm.get_network(network_type=\"driving\")\n",
    "#drive_net.plot()"
   ]
  },
  {
   "cell_type": "code",
   "execution_count": null,
   "id": "d0aaa82e-d2a1-4e93-a421-450d284fa08d",
   "metadata": {},
   "outputs": [],
   "source": [
    "print(sources.subregions.usa.available)"
   ]
  },
  {
   "cell_type": "code",
   "execution_count": null,
   "id": "12728739-0cc1-42cf-9620-589d09a839a5",
   "metadata": {},
   "outputs": [],
   "source": [
    "from pyrosm import OSM\n",
    "osm_path ='../california-latest.osm.pbf' # downloaded from geofabrik\n",
    "osm = OSM(osm_path)"
   ]
  },
  {
   "cell_type": "code",
   "execution_count": null,
   "id": "0cbe0eb1-53e7-4603-ba49-3d66434a275a",
   "metadata": {},
   "outputs": [],
   "source": [
    "drive_net = osm.get_network(network_type=\"driving\")\n",
    "drive_net.plot()"
   ]
  },
  {
   "cell_type": "code",
   "execution_count": null,
   "id": "70ffc0cc-6227-4127-a61b-181c7dbe837e",
   "metadata": {},
   "outputs": [],
   "source": []
  },
  {
   "cell_type": "code",
   "execution_count": 3,
   "id": "11524306-c988-402c-8f7d-5c746c07682b",
   "metadata": {},
   "outputs": [],
   "source": [
    "import osmium as osm\n",
    "import pandas as pd"
   ]
  },
  {
   "cell_type": "code",
   "execution_count": 4,
   "id": "b01865ef-bc89-4780-b86c-2274b341bba8",
   "metadata": {},
   "outputs": [],
   "source": [
    "#https://stackoverflow.com/questions/45771809/how-to-extract-and-visualize-data-from-osm-file-in-python\n",
    "#http://andrewgaidus.com/Convert_OSM_Data/\n",
    "#https://github.com/agaidus/Converting_OSM_Data/blob/master/Convert_OSM_Data.ipynb\n",
    "class OSMHandler(osm.SimpleHandler):\n",
    "    def __init__(self):\n",
    "        osm.SimpleHandler.__init__(self)\n",
    "        self.osm_data = []\n",
    "\n",
    "    def tag_inventory(self, elem, elem_type):\n",
    "        for tag in elem.tags:\n",
    "            self.osm_data.append([elem_type, \n",
    "                                   elem.id, \n",
    "                                   elem.version,\n",
    "                                   elem.visible,\n",
    "                                   pd.Timestamp(elem.timestamp),\n",
    "                                   elem.uid,\n",
    "                                   elem.user,\n",
    "                                   elem.changeset,\n",
    "                                   len(elem.tags),\n",
    "                                   tag.k, \n",
    "                                   tag.v])\n",
    "\n",
    "    def node(self, n):\n",
    "        self.tag_inventory(n, \"node\")\n",
    "\n",
    "    def way(self, w):\n",
    "        self.tag_inventory(w, \"way\")\n",
    "\n",
    "    def relation(self, r):\n",
    "        self.tag_inventory(r, \"relation\")"
   ]
  },
  {
   "cell_type": "code",
   "execution_count": 5,
   "id": "1b77377b-70cd-40a8-9250-4a09e4c15bfa",
   "metadata": {},
   "outputs": [],
   "source": [
    "osmhandler = OSMHandler()\n",
    "\n",
    "#FILE = \"../california-latest.osm.pbf\"\n",
    "#FILE = \"/tmp/pyrosm/socal-latest.osm.pbf\"\n",
    "FILE = \"/tmp/pyrosm/kenya-latest.osm.pbf\"\n",
    "\n",
    "# scan the input file and fills the handler list accordingly\n",
    "osmhandler.apply_file(FILE)"
   ]
  },
  {
   "cell_type": "code",
   "execution_count": 8,
   "id": "39daae1e-42de-44b9-a1e4-771c6db4a4ce",
   "metadata": {},
   "outputs": [
    {
     "name": "stdout",
     "output_type": "stream",
     "text": [
      "Number of nodes: <bound method OSMHandler.node of <__main__.OSMHandler object at 0x7f7188a45f40>>\n",
      "Number of way: <bound method OSMHandler.way of <__main__.OSMHandler object at 0x7f7188a45f40>>\n",
      "Number of relations: <bound method OSMHandler.relation of <__main__.OSMHandler object at 0x7f7188a45f40>>\n"
     ]
    }
   ],
   "source": [
    "#https://techoverflow.net/2021/04/25/minimal-example-how-to-read-osm-pbf-file-using-python-osmium/\n",
    "print(f'Number of nodes: {osmhandler.node_count}')\n",
    "print(f'Number of way: {osmhandler.way_count}')\n",
    "print(f'Number of relations: {osmhandler.relation_count}')"
   ]
  },
  {
   "cell_type": "code",
   "execution_count": 12,
   "id": "54a9d5aa-6f51-4754-8988-77ded0869e72",
   "metadata": {},
   "outputs": [],
   "source": [
    "# transform the list into a pandas DataFrame\n",
    "data_colnames = ['type', 'id', 'version', 'visible', 'ts', 'uid',\n",
    "                 'user', 'chgset', 'ntags', 'tagkey', 'tagvalue']\n",
    "df_osm = pd.DataFrame(osmhandler.osm_data, columns=data_colnames)\n",
    "#df_osm = tag_genome.sort_values(by=['type', 'id', 'ts'])"
   ]
  },
  {
   "cell_type": "code",
   "execution_count": 13,
   "id": "6576e330-838b-4348-a04a-3156c156bf45",
   "metadata": {},
   "outputs": [
    {
     "data": {
      "text/html": [
       "<div>\n",
       "<style scoped>\n",
       "    .dataframe tbody tr th:only-of-type {\n",
       "        vertical-align: middle;\n",
       "    }\n",
       "\n",
       "    .dataframe tbody tr th {\n",
       "        vertical-align: top;\n",
       "    }\n",
       "\n",
       "    .dataframe thead th {\n",
       "        text-align: right;\n",
       "    }\n",
       "</style>\n",
       "<table border=\"1\" class=\"dataframe\">\n",
       "  <thead>\n",
       "    <tr style=\"text-align: right;\">\n",
       "      <th></th>\n",
       "      <th>type</th>\n",
       "      <th>id</th>\n",
       "      <th>version</th>\n",
       "      <th>visible</th>\n",
       "      <th>ts</th>\n",
       "      <th>uid</th>\n",
       "      <th>user</th>\n",
       "      <th>chgset</th>\n",
       "      <th>ntags</th>\n",
       "      <th>tagkey</th>\n",
       "      <th>tagvalue</th>\n",
       "    </tr>\n",
       "  </thead>\n",
       "  <tbody>\n",
       "    <tr>\n",
       "      <th>0</th>\n",
       "      <td>node</td>\n",
       "      <td>25579897</td>\n",
       "      <td>1</td>\n",
       "      <td>True</td>\n",
       "      <td>2007-01-31 21:15:11+00:00</td>\n",
       "      <td>0</td>\n",
       "      <td></td>\n",
       "      <td>0</td>\n",
       "      <td>1</td>\n",
       "      <td>created_by</td>\n",
       "      <td>JOSM</td>\n",
       "    </tr>\n",
       "    <tr>\n",
       "      <th>1</th>\n",
       "      <td>node</td>\n",
       "      <td>25579912</td>\n",
       "      <td>1</td>\n",
       "      <td>True</td>\n",
       "      <td>2007-01-31 21:15:17+00:00</td>\n",
       "      <td>0</td>\n",
       "      <td></td>\n",
       "      <td>0</td>\n",
       "      <td>1</td>\n",
       "      <td>created_by</td>\n",
       "      <td>JOSM</td>\n",
       "    </tr>\n",
       "    <tr>\n",
       "      <th>2</th>\n",
       "      <td>node</td>\n",
       "      <td>25579913</td>\n",
       "      <td>1</td>\n",
       "      <td>True</td>\n",
       "      <td>2007-01-31 21:15:17+00:00</td>\n",
       "      <td>0</td>\n",
       "      <td></td>\n",
       "      <td>0</td>\n",
       "      <td>1</td>\n",
       "      <td>created_by</td>\n",
       "      <td>JOSM</td>\n",
       "    </tr>\n",
       "    <tr>\n",
       "      <th>3</th>\n",
       "      <td>node</td>\n",
       "      <td>25579921</td>\n",
       "      <td>1</td>\n",
       "      <td>True</td>\n",
       "      <td>2007-01-31 21:15:18+00:00</td>\n",
       "      <td>0</td>\n",
       "      <td></td>\n",
       "      <td>0</td>\n",
       "      <td>1</td>\n",
       "      <td>created_by</td>\n",
       "      <td>JOSM</td>\n",
       "    </tr>\n",
       "    <tr>\n",
       "      <th>4</th>\n",
       "      <td>node</td>\n",
       "      <td>27565105</td>\n",
       "      <td>34</td>\n",
       "      <td>True</td>\n",
       "      <td>2022-02-28 10:20:48+00:00</td>\n",
       "      <td>0</td>\n",
       "      <td></td>\n",
       "      <td>0</td>\n",
       "      <td>89</td>\n",
       "      <td>admin_level</td>\n",
       "      <td>2</td>\n",
       "    </tr>\n",
       "  </tbody>\n",
       "</table>\n",
       "</div>"
      ],
      "text/plain": [
       "   type        id  version  visible                        ts  uid user  \\\n",
       "0  node  25579897        1     True 2007-01-31 21:15:11+00:00    0        \n",
       "1  node  25579912        1     True 2007-01-31 21:15:17+00:00    0        \n",
       "2  node  25579913        1     True 2007-01-31 21:15:17+00:00    0        \n",
       "3  node  25579921        1     True 2007-01-31 21:15:18+00:00    0        \n",
       "4  node  27565105       34     True 2022-02-28 10:20:48+00:00    0        \n",
       "\n",
       "   chgset  ntags       tagkey tagvalue  \n",
       "0       0      1   created_by     JOSM  \n",
       "1       0      1   created_by     JOSM  \n",
       "2       0      1   created_by     JOSM  \n",
       "3       0      1   created_by     JOSM  \n",
       "4       0     89  admin_level        2  "
      ]
     },
     "execution_count": 13,
     "metadata": {},
     "output_type": "execute_result"
    }
   ],
   "source": [
    "df_osm.head()"
   ]
  },
  {
   "cell_type": "code",
   "execution_count": 14,
   "id": "97d054d5-9ab6-42d6-a2c6-2cea93591302",
   "metadata": {},
   "outputs": [
    {
     "data": {
      "text/plain": [
       "4927341"
      ]
     },
     "execution_count": 14,
     "metadata": {},
     "output_type": "execute_result"
    }
   ],
   "source": [
    "len(df_osm)"
   ]
  },
  {
   "cell_type": "code",
   "execution_count": null,
   "id": "99ea0d7a-9eea-46dd-9f07-da542557ba99",
   "metadata": {},
   "outputs": [],
   "source": [
    "# In terminal:\n",
    "# wget -c http://download.geofabrik.de/north-america/us/california-latest.osm.pbf\n",
    "\n",
    "# Tutorial: https://www.linuxbabe.com/linux-server/openstreetmap-tile-server-ubuntu-16-04"
   ]
  },
  {
   "cell_type": "code",
   "execution_count": null,
   "id": "000c33d5-6951-4cc5-bd39-d005391b5755",
   "metadata": {},
   "outputs": [],
   "source": [
    "# https://stackoverflow.com/questions/45771809/how-to-extract-and-visualize-data-from-osm-file-in-python\n"
   ]
  }
 ],
 "metadata": {
  "kernelspec": {
   "display_name": "Python 3 (ipykernel)",
   "language": "python",
   "name": "python3"
  },
  "language_info": {
   "codemirror_mode": {
    "name": "ipython",
    "version": 3
   },
   "file_extension": ".py",
   "mimetype": "text/x-python",
   "name": "python",
   "nbconvert_exporter": "python",
   "pygments_lexer": "ipython3",
   "version": "3.9.10"
  }
 },
 "nbformat": 4,
 "nbformat_minor": 5
}
