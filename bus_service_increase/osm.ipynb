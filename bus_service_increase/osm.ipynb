{
 "cells": [
  {
   "cell_type": "markdown",
   "id": "85687f4f-8036-40ca-8964-020a347aa327",
   "metadata": {},
   "source": [
    "# Check if Open Street Map has good CA coverage\n",
    "\n",
    "Would be nice to use `maxspeed` parameter.\n",
    "\n",
    "Let's see where the waypoints and nodes are?"
   ]
  },
  {
   "cell_type": "code",
   "execution_count": 3,
   "id": "62b3d3f1-7d82-4eb9-9baf-b8682b8d0c3d",
   "metadata": {},
   "outputs": [],
   "source": [
    "#!pip install osmium pyrosm ogr"
   ]
  },
  {
   "cell_type": "code",
   "execution_count": null,
   "id": "9a010ee3-05fa-423f-9ef5-2d11ec183ef4",
   "metadata": {},
   "outputs": [],
   "source": [
    "#https://pyrosm.readthedocs.io/en/latest/installation.html"
   ]
  },
  {
   "cell_type": "code",
   "execution_count": 4,
   "id": "97746ec5-1db3-4942-9c6a-ce11d4b9900c",
   "metadata": {},
   "outputs": [
    {
     "name": "stderr",
     "output_type": "stream",
     "text": [
      "/opt/conda/lib/python3.9/site-packages/geopandas/_compat.py:111: UserWarning: The Shapely GEOS version (3.10.2-CAPI-1.16.0) is incompatible with the GEOS version PyGEOS was compiled with (3.10.1-CAPI-1.16.0). Conversions between both will be slow.\n",
      "  warnings.warn(\n"
     ]
    },
    {
     "data": {
      "text/plain": [
       "dict_keys(['africa', 'antarctica', 'asia', 'australia_oceania', 'central_america', 'europe', 'north_america', 'south_america', 'cities', 'subregions'])"
      ]
     },
     "execution_count": 4,
     "metadata": {},
     "output_type": "execute_result"
    }
   ],
   "source": [
    "from pyrosm.data import sources\n",
    "\n",
    "# Print available source categories\n",
    "sources.available.keys()"
   ]
  },
  {
   "cell_type": "code",
   "execution_count": 6,
   "id": "3a5d3501-cab3-4686-aee5-249f9e7a487c",
   "metadata": {},
   "outputs": [
    {
     "name": "stdout",
     "output_type": "stream",
     "text": [
      "Downloaded Protobuf data 'Seattle.osm.pbf' (36.29 MB) to:\n",
      "'/tmp/pyrosm/Seattle.osm.pbf'\n"
     ]
    }
   ],
   "source": [
    "from pyrosm import get_data, OSM\n",
    "\n",
    "# Pyrosm comes with a couple of test datasets \n",
    "# that can be used straight away without\n",
    "# downloading anything\n",
    "fp = get_data(\"seattle\")\n",
    "\n",
    "# Initialize the OSM parser object\n",
    "osm = OSM(fp)\n",
    "\n",
    "# Read all drivable roads\n",
    "# =======================\n",
    "#drive_net = osm.get_network(network_type=\"driving\")\n",
    "#drive_net.plot()"
   ]
  },
  {
   "cell_type": "code",
   "execution_count": 11,
   "id": "d0aaa82e-d2a1-4e93-a421-450d284fa08d",
   "metadata": {},
   "outputs": [
    {
     "name": "stdout",
     "output_type": "stream",
     "text": [
      "['alabama', 'alaska', 'arizona', 'arkansas', 'colorado', 'connecticut', 'delaware', 'district_of_columbia', 'florida', 'georgia', 'hawaii', 'idaho', 'illinois', 'indiana', 'iowa', 'kansas', 'kentucky', 'louisiana', 'maine', 'maryland', 'massachusetts', 'michigan', 'minnesota', 'mississippi', 'missouri', 'montana', 'nebraska', 'nevada', 'new_hampshire', 'new_jersey', 'new_mexico', 'new_york', 'north_carolina', 'north_dakota', 'northern_california', 'ohio', 'oklahoma', 'oregon', 'pennsylvania', 'puerto_rico', 'rhode_island', 'south_carolina', 'south_dakota', 'southern_california', 'tennessee', 'texas', 'utah', 'vermont', 'virginia', 'washington', 'west_virginia', 'wisconsin', 'wyoming']\n"
     ]
    }
   ],
   "source": [
    "print(sources.subregions.usa.available)"
   ]
  },
  {
   "cell_type": "code",
   "execution_count": null,
   "id": "12728739-0cc1-42cf-9620-589d09a839a5",
   "metadata": {},
   "outputs": [],
   "source": [
    "from pyrosm import OSM\n",
    "osm_path ='../california-latest.osm.pbf' # downloaded from geofabrik\n",
    "osm = OSM(osm_path)"
   ]
  },
  {
   "cell_type": "code",
   "execution_count": null,
   "id": "0cbe0eb1-53e7-4603-ba49-3d66434a275a",
   "metadata": {},
   "outputs": [],
   "source": [
    "drive_net = osm.get_network(network_type=\"driving\")\n",
    "drive_net.plot()"
   ]
  },
  {
   "cell_type": "code",
   "execution_count": 12,
   "id": "11524306-c988-402c-8f7d-5c746c07682b",
   "metadata": {},
   "outputs": [],
   "source": [
    "import osmium as osm\n",
    "import pandas as pd"
   ]
  },
  {
   "cell_type": "code",
   "execution_count": 13,
   "id": "b01865ef-bc89-4780-b86c-2274b341bba8",
   "metadata": {},
   "outputs": [],
   "source": [
    "#https://stackoverflow.com/questions/45771809/how-to-extract-and-visualize-data-from-osm-file-in-python\n",
    "#http://andrewgaidus.com/Convert_OSM_Data/\n",
    "#https://github.com/agaidus/Converting_OSM_Data/blob/master/Convert_OSM_Data.ipynb\n",
    "class OSMHandler(osm.SimpleHandler):\n",
    "    def __init__(self):\n",
    "        osm.SimpleHandler.__init__(self)\n",
    "        self.osm_data = []\n",
    "\n",
    "    def tag_inventory(self, elem, elem_type):\n",
    "        for tag in elem.tags:\n",
    "            self.osm_data.append([elem_type, \n",
    "                                   elem.id, \n",
    "                                   elem.version,\n",
    "                                   elem.visible,\n",
    "                                   pd.Timestamp(elem.timestamp),\n",
    "                                   elem.uid,\n",
    "                                   elem.user,\n",
    "                                   elem.changeset,\n",
    "                                   len(elem.tags),\n",
    "                                   tag.k, \n",
    "                                   tag.v])\n",
    "\n",
    "    def node(self, n):\n",
    "        self.tag_inventory(n, \"node\")\n",
    "\n",
    "    def way(self, w):\n",
    "        self.tag_inventory(w, \"way\")\n",
    "\n",
    "    def relation(self, r):\n",
    "        self.tag_inventory(r, \"relation\")"
   ]
  },
  {
   "cell_type": "code",
   "execution_count": 14,
   "id": "1b77377b-70cd-40a8-9250-4a09e4c15bfa",
   "metadata": {},
   "outputs": [],
   "source": [
    "osmhandler = OSMHandler()\n",
    "\n",
    "#FILE = \"../california-latest.osm.pbf\"\n",
    "#FILE = \"/tmp/pyrosm/socal-latest.osm.pbf\"\n",
    "FILE = \"/tmp/pyrosm/Seattle.osm.pbf\"\n",
    "\n",
    "# scan the input file and fills the handler list accordingly\n",
    "osmhandler.apply_file(FILE)"
   ]
  },
  {
   "cell_type": "code",
   "execution_count": 15,
   "id": "39daae1e-42de-44b9-a1e4-771c6db4a4ce",
   "metadata": {},
   "outputs": [
    {
     "ename": "AttributeError",
     "evalue": "'OSMHandler' object has no attribute 'node_count'",
     "output_type": "error",
     "traceback": [
      "\u001b[0;31m---------------------------------------------------------------------------\u001b[0m",
      "\u001b[0;31mAttributeError\u001b[0m                            Traceback (most recent call last)",
      "Input \u001b[0;32mIn [15]\u001b[0m, in \u001b[0;36m<cell line: 2>\u001b[0;34m()\u001b[0m\n\u001b[1;32m      1\u001b[0m \u001b[38;5;66;03m#https://techoverflow.net/2021/04/25/minimal-example-how-to-read-osm-pbf-file-using-python-osmium/\u001b[39;00m\n\u001b[0;32m----> 2\u001b[0m \u001b[38;5;28mprint\u001b[39m(\u001b[38;5;124mf\u001b[39m\u001b[38;5;124m'\u001b[39m\u001b[38;5;124mNumber of nodes: \u001b[39m\u001b[38;5;132;01m{\u001b[39;00mosmhandler\u001b[38;5;241m.\u001b[39mnode_count\u001b[38;5;132;01m}\u001b[39;00m\u001b[38;5;124m'\u001b[39m)\n\u001b[1;32m      3\u001b[0m \u001b[38;5;28mprint\u001b[39m(\u001b[38;5;124mf\u001b[39m\u001b[38;5;124m'\u001b[39m\u001b[38;5;124mNumber of way: \u001b[39m\u001b[38;5;132;01m{\u001b[39;00mosmhandler\u001b[38;5;241m.\u001b[39mway_count\u001b[38;5;132;01m}\u001b[39;00m\u001b[38;5;124m'\u001b[39m)\n\u001b[1;32m      4\u001b[0m \u001b[38;5;28mprint\u001b[39m(\u001b[38;5;124mf\u001b[39m\u001b[38;5;124m'\u001b[39m\u001b[38;5;124mNumber of relations: \u001b[39m\u001b[38;5;132;01m{\u001b[39;00mosmhandler\u001b[38;5;241m.\u001b[39mrelation_count\u001b[38;5;132;01m}\u001b[39;00m\u001b[38;5;124m'\u001b[39m)\n",
      "\u001b[0;31mAttributeError\u001b[0m: 'OSMHandler' object has no attribute 'node_count'"
     ]
    }
   ],
   "source": [
    "#https://techoverflow.net/2021/04/25/minimal-example-how-to-read-osm-pbf-file-using-python-osmium/\n",
    "print(f'Number of nodes: {osmhandler.node_count}')\n",
    "print(f'Number of way: {osmhandler.way_count}')\n",
    "print(f'Number of relations: {osmhandler.relation_count}')"
   ]
  },
  {
   "cell_type": "code",
   "execution_count": 44,
   "id": "36559397-5305-4073-8ff2-3246694f5d4c",
   "metadata": {},
   "outputs": [
    {
     "ename": "NameError",
     "evalue": "name 'w' is not defined",
     "output_type": "error",
     "traceback": [
      "\u001b[0;31m---------------------------------------------------------------------------\u001b[0m",
      "\u001b[0;31mNameError\u001b[0m                                 Traceback (most recent call last)",
      "Input \u001b[0;32mIn [44]\u001b[0m, in \u001b[0;36m<cell line: 13>\u001b[0;34m()\u001b[0m\n\u001b[1;32m      9\u001b[0m h\u001b[38;5;241m.\u001b[39mapply_file(FILE)\n\u001b[1;32m     10\u001b[0m \u001b[38;5;66;03m#for row in h.way(w): \u001b[39;00m\n\u001b[1;32m     11\u001b[0m \u001b[38;5;66;03m#    print(row) \u001b[39;00m\n\u001b[0;32m---> 13\u001b[0m \u001b[38;5;28;01mfor\u001b[39;00m i \u001b[38;5;129;01min\u001b[39;00m h\u001b[38;5;241m.\u001b[39mway(\u001b[43mw\u001b[49m):\n\u001b[1;32m     14\u001b[0m     \u001b[38;5;28mprint\u001b[39m(i)\n",
      "\u001b[0;31mNameError\u001b[0m: name 'w' is not defined"
     ]
    }
   ],
   "source": [
    "class StreamHandler(osm.SimpleHandler):\n",
    "    def __init__(self):\n",
    "        osm.SimpleHandler.__init__(self)\n",
    "        self.edge_and_nodes = [] \n",
    "    def way(self, w): \n",
    "        yield {'edge_id': w.id, \n",
    "               'nodes': [w.nodes[i].ref for i in range(len(w.nodes))]}\n",
    "h = StreamHandler()\n",
    "h.apply_file(FILE)\n",
    "#for row in h.way(w): \n",
    "#    print(row) \n",
    "\n",
    "for i in h.way(w):\n",
    "    print(i)"
   ]
  },
  {
   "cell_type": "code",
   "execution_count": null,
   "id": "54a9d5aa-6f51-4754-8988-77ded0869e72",
   "metadata": {},
   "outputs": [],
   "source": [
    "# transform the list into a pandas DataFrame\n",
    "data_colnames = ['type', 'id', 'version', 'visible', 'ts', 'uid',\n",
    "                 'user', 'chgset', 'ntags', 'tagkey', 'tagvalue']\n",
    "df_osm = pd.DataFrame(osmhandler.osm_data, columns=data_colnames)\n",
    "#df_osm = tag_genome.sort_values(by=['type', 'id', 'ts'])"
   ]
  },
  {
   "cell_type": "code",
   "execution_count": null,
   "id": "6576e330-838b-4348-a04a-3156c156bf45",
   "metadata": {},
   "outputs": [],
   "source": [
    "df_osm.head()"
   ]
  },
  {
   "cell_type": "code",
   "execution_count": null,
   "id": "97d054d5-9ab6-42d6-a2c6-2cea93591302",
   "metadata": {},
   "outputs": [],
   "source": [
    "len(df_osm)"
   ]
  },
  {
   "cell_type": "code",
   "execution_count": null,
   "id": "99ea0d7a-9eea-46dd-9f07-da542557ba99",
   "metadata": {},
   "outputs": [],
   "source": [
    "# In terminal:\n",
    "# wget -c http://download.geofabrik.de/north-america/us/california-latest.osm.pbf\n",
    "\n",
    "# Tutorial: https://www.linuxbabe.com/linux-server/openstreetmap-tile-server-ubuntu-16-04"
   ]
  },
  {
   "cell_type": "code",
   "execution_count": null,
   "id": "000c33d5-6951-4cc5-bd39-d005391b5755",
   "metadata": {},
   "outputs": [],
   "source": [
    "# https://stackoverflow.com/questions/45771809/how-to-extract-and-visualize-data-from-osm-file-in-python\n"
   ]
  }
 ],
 "metadata": {
  "kernelspec": {
   "display_name": "Python 3 (ipykernel)",
   "language": "python",
   "name": "python3"
  },
  "language_info": {
   "codemirror_mode": {
    "name": "ipython",
    "version": 3
   },
   "file_extension": ".py",
   "mimetype": "text/x-python",
   "name": "python",
   "nbconvert_exporter": "python",
   "pygments_lexer": "ipython3",
   "version": "3.9.10"
  }
 },
 "nbformat": 4,
 "nbformat_minor": 5
}
