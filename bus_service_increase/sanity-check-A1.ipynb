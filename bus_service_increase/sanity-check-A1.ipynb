{
 "cells": [
  {
   "cell_type": "markdown",
   "id": "7291598f-8aae-4457-bc39-aa47948392b4",
   "metadata": {},
   "source": [
    "# Double check A1 functions \n",
    "\n",
    "Dataset produced at end of A1 goes into A2.\n",
    "\n",
    "The values won't exactly line up, since dates are slightly different, and the cleaning is different.\n",
    "\n",
    "But, going into A2, will the tract categorization work as intended?"
   ]
  },
  {
   "cell_type": "code",
   "execution_count": 1,
   "id": "bd023d1c-c77f-47e6-b58d-92666ff7335e",
   "metadata": {},
   "outputs": [
    {
     "name": "stderr",
     "output_type": "stream",
     "text": [
      "/opt/conda/lib/python3.9/site-packages/geopandas/_compat.py:111: UserWarning: The Shapely GEOS version (3.9.1-CAPI-1.14.2) is incompatible with the GEOS version PyGEOS was compiled with (3.10.1-CAPI-1.16.0). Conversions between both will be slow.\n",
      "  warnings.warn(\n"
     ]
    }
   ],
   "source": [
    "import datetime as dt\n",
    "import geopandas as gpd\n",
    "import intake\n",
    "import numpy as np\n",
    "import pandas as pd\n",
    "\n",
    "from calitp.tables import tbl\n",
    "from siuba import *\n",
    "\n",
    "import test_create_calenviroscreen_lehd_data\n",
    "#import shared_utils\n",
    "import utils\n",
    "\n",
    "catalog = intake.open_catalog(\"./catalog.yml\")"
   ]
  },
  {
   "cell_type": "markdown",
   "id": "dbd33a08-809e-42cd-abd2-dee1895a3b7f",
   "metadata": {},
   "source": [
    "## Compare `shapes_processed`\n",
    "\n",
    "Move to use the `geography_utils` to create transit routes, but `shapes.txt` always reflects the most recent. \n",
    "\n",
    "What should have been a simple swap isn't, and even rerunning the A2 notebook will result in a different dataset."
   ]
  },
  {
   "cell_type": "code",
   "execution_count": null,
   "id": "ca5e562d-c4a1-4977-8219-656c6214da6b",
   "metadata": {},
   "outputs": [],
   "source": [
    "def merge_and_filter(DATA_PATH):\n",
    "    shapes = gpd.read_parquet(f\"{DATA_PATH}shapes_processed.parquet\")\n",
    "    service = pd.read_parquet(f\"{DATA_PATH}shape_frequency_funding.parquet\")\n",
    "    \n",
    "    \n",
    "    # Merge service data with shapes\n",
    "    tracts_categorized = shapes >> select(_.calitp_itp_id, _.shape_id, _.tract_type)\n",
    "\n",
    "    print(f\"# obs in service: {len(service)}\")\n",
    "    print(f\"# obs in tracts_categorized: {len(tracts_categorized)}\")\n",
    "    \n",
    "    # We lose a bunch of observations here \n",
    "    gdf = pd.merge(service, \n",
    "                tracts_categorized, \n",
    "                on = ['calitp_itp_id', 'shape_id'],\n",
    "                how = 'outer', \n",
    "                validate = \"m:1\",\n",
    "                indicator=True\n",
    "               )\n",
    "    print(\"Merge results\")\n",
    "    print(gdf._merge.value_counts())\n",
    "          \n",
    "    keep_ids = [182]\n",
    "    \n",
    "    service2 = service[service.calitp_itp_id.isin(keep_ids)]\n",
    "    tracts_categorized2 = tracts_categorized[tracts_categorized.calitp_itp_id.isin(keep_ids)]\n",
    "    gdf2 = gdf[gdf.calitp_itp_id.isin(keep_ids)]\n",
    "    \n",
    "    print(keep_ids)\n",
    "    print(f\"# obs in service2: {len(service2)}\")\n",
    "    print(f\"unique shape_id in service2: {service2.shape_id.nunique()}\")\n",
    "    \n",
    "    print(f\"# obs in tracts_categorized: {len(tracts_categorized2)}\")\n",
    "    print(f\"unique shape_id in tracts_categorized2: {tracts_categorized2.shape_id.nunique()}\")\n",
    "\n",
    "    print(f\"# obs in gdf2: {len(gdf2)}\")\n",
    "    print(f\"unique shape_id in gdf2: {gdf2.shape_id.nunique()}\")\n"
   ]
  },
  {
   "cell_type": "code",
   "execution_count": null,
   "id": "35dbf00a-6e8a-4e9f-8732-6864e989e76f",
   "metadata": {},
   "outputs": [],
   "source": [
    "merge_and_filter(f\"{utils.GCS_FILE_PATH}\")"
   ]
  },
  {
   "cell_type": "code",
   "execution_count": null,
   "id": "dc818ef6-759e-431e-9b32-40992d4483c3",
   "metadata": {},
   "outputs": [],
   "source": [
    "merge_and_filter(\"./data/test/\")"
   ]
  },
  {
   "cell_type": "markdown",
   "id": "abbf384e-8903-41ff-a68e-963214a8565d",
   "metadata": {},
   "source": [
    "## Compare `shapes_initial`\n",
    "\n",
    "Observations differ by too much.\n",
    "\n",
    "Back up another step and go back to `shapes_initial`. `shapes_initial` is produced after stringing together bus stop sequence into route, which will now be replaced with a `geography_utils` function."
   ]
  },
  {
   "cell_type": "code",
   "execution_count": null,
   "id": "0916c489-bc02-4fe0-8e0b-e0ed507261e0",
   "metadata": {},
   "outputs": [],
   "source": [
    "DATA_PATH = \"./data/test/\"\n",
    "shapes_initial = gpd.read_parquet(f'{utils.GCS_FILE_PATH}shapes_initial.parquet')\n",
    "my_shapes_initial = gpd.read_parquet(f'{DATA_PATH}shapes_initial.parquet')"
   ]
  },
  {
   "cell_type": "code",
   "execution_count": null,
   "id": "17ada280-b016-4eeb-a7f1-e26c49152118",
   "metadata": {},
   "outputs": [],
   "source": [
    "len(shapes_initial)"
   ]
  },
  {
   "cell_type": "code",
   "execution_count": null,
   "id": "c9d0370b-4d88-4d5d-ab64-26637c216cfb",
   "metadata": {},
   "outputs": [],
   "source": [
    "shapes_initial.head(2)"
   ]
  },
  {
   "cell_type": "code",
   "execution_count": null,
   "id": "54aed920-ebdf-4fb2-ba55-f198012087dc",
   "metadata": {},
   "outputs": [],
   "source": [
    "len(my_shapes_initial)"
   ]
  },
  {
   "cell_type": "code",
   "execution_count": null,
   "id": "0f8cca0f-f3c6-43e3-a43d-faebaffdf12a",
   "metadata": {},
   "outputs": [],
   "source": [
    "my_shapes_initial.head(2)"
   ]
  },
  {
   "cell_type": "code",
   "execution_count": null,
   "id": "53088b23-8724-4deb-8f53-85aa34ac5541",
   "metadata": {},
   "outputs": [],
   "source": [
    "# Compare a subset\n",
    "eric_metro = shapes_initial[shapes_initial.calitp_itp_id==182]\n",
    "tiff_metro = my_shapes_initial[my_shapes_initial.calitp_itp_id==182]"
   ]
  },
  {
   "cell_type": "code",
   "execution_count": null,
   "id": "9b56c023-be67-481a-8928-b0ea468a80d3",
   "metadata": {},
   "outputs": [],
   "source": [
    "len(eric_metro)"
   ]
  },
  {
   "cell_type": "code",
   "execution_count": null,
   "id": "3658a27a-da5a-4473-9860-92b705092a50",
   "metadata": {},
   "outputs": [],
   "source": [
    "len(tiff_metro)"
   ]
  },
  {
   "cell_type": "code",
   "execution_count": null,
   "id": "8c44e116-b5f3-4268-abe2-3abb97ed8d71",
   "metadata": {},
   "outputs": [],
   "source": [
    "m1 = pd.merge(\n",
    "    eric_metro,\n",
    "    tiff_metro,\n",
    "    on = [\"calitp_itp_id\", \"shape_id\"],\n",
    "    how = \"outer\",\n",
    "    validate = \"1:1\",\n",
    "    indicator=True\n",
    ")\n",
    "\n",
    "m1._merge.value_counts()"
   ]
  },
  {
   "cell_type": "code",
   "execution_count": null,
   "id": "9fd96b66-eb93-46f4-958a-77761920fa6e",
   "metadata": {},
   "outputs": [],
   "source": [
    "eric_metro.head()"
   ]
  },
  {
   "cell_type": "markdown",
   "id": "d8cfbe7b-b6c4-4398-9531-5b07a3a7a2cb",
   "metadata": {},
   "source": [
    "Does `shape_id` change when we grab different dates? Well, we are grabbing the same date, but the `shapes.txt` file has changed, and since they've done a change, the `shape_id` has changed. But, still grabbing around 700s obs, which is good. \n",
    "\n",
    "Ideally, the `shape_id` value and geometry need to reflect the date of service that was grabbed (here, dates are in Oct)."
   ]
  },
  {
   "cell_type": "code",
   "execution_count": null,
   "id": "bf947b8b-13e4-4ddc-aa57-65165a4a7dce",
   "metadata": {},
   "outputs": [],
   "source": [
    "display(eric_metro.head())\n",
    "display(tiff_metro.head())"
   ]
  },
  {
   "cell_type": "code",
   "execution_count": null,
   "id": "7ed811bd-0826-4cb2-8367-5464b03123cb",
   "metadata": {},
   "outputs": [],
   "source": [
    "tiff_metro = tiff_metro.assign(\n",
    "    length = tiff_metro.geometry.to_crs(\"EPSG:3310\").length\n",
    ")\n",
    "\n",
    "tiff_metro[tiff_metro.shape_id.str.contains(\"910\")]"
   ]
  },
  {
   "cell_type": "markdown",
   "id": "667b9a29-656e-4c37-86ad-99017906c230",
   "metadata": {},
   "source": [
    "## Compare `shape_frequency_funding`\n",
    "\n",
    "Go back another step and see if the number of `shape_ids` and `route_ids` being grabbed are the same.\n",
    "\n",
    "They're not...and seems like there's different numbers.\n",
    "\n",
    "There shouldn't be, because calculating the mean runtimes and trips per hour shouldn't be massively dropping observations, except for edge cases of NaT. But, the number of routes operating for a Thursday for an operator and the number of trips it's making should be the same, because we aggregated up to that level (while adjusting the mean runtimes to get the correct average)"
   ]
  },
  {
   "cell_type": "code",
   "execution_count": 13,
   "id": "db1005e3-95bf-4fb5-86db-051f4ea0e41f",
   "metadata": {},
   "outputs": [],
   "source": [
    "DATA_PATH = \"./data/test/\""
   ]
  },
  {
   "cell_type": "code",
   "execution_count": 25,
   "id": "9add6797-a899-4a1e-b6b7-5dc960add1b3",
   "metadata": {},
   "outputs": [],
   "source": [
    "def compare_shape_frequency_funding(DATA_PATH):\n",
    "    df = pd.read_parquet(f\"{DATA_PATH}shape_frequency_funding.parquet\")\n",
    "    print(f\"# obs: {len(df)}\")\n",
    "    \n",
    "    group_cols = [\"calitp_itp_id\", \"day_name\"]\n",
    "    df2 = df.groupby(group_cols).agg({\"shape_id\": \"nunique\"}).reset_index()\n",
    "    print(f\"# unique id-shape_id-day-name: {len(df2)}\")\n",
    "    \n",
    "    group_cols = [\"calitp_itp_id\", \"day_name\"]\n",
    "    df3 = df.groupby(group_cols).agg({\"route_id\": \"nunique\"}).reset_index()\n",
    "    print(f\"# unique id-route-id-day-name: {len(df2)}\")\n",
    "\n",
    "    check_ids = [182, 4, 279]\n",
    "    print(f\"check specific ids: {check_ids}\")\n",
    "    print(\"Unique shape_id-day_name\")\n",
    "    \n",
    "    display(df2[df2.calitp_itp_id.isin(check_ids)])\n",
    "    print(\"Unique route_id-day_name\")\n",
    "    display(df3[df3.calitp_itp_id.isin(check_ids)])\n",
    "    \n",
    "    return df2, df3"
   ]
  },
  {
   "cell_type": "code",
   "execution_count": 26,
   "id": "2395830d-410b-4cc9-9a9b-304ef23b41aa",
   "metadata": {},
   "outputs": [
    {
     "name": "stdout",
     "output_type": "stream",
     "text": [
      "# obs: 423216\n",
      "# unique id-shape_id-day-name: 441\n",
      "# unique id-route-id-day-name: 441\n",
      "check specific ids: [182, 4, 279]\n",
      "Unique shape_id-day_name\n"
     ]
    },
    {
     "data": {
      "text/html": [
       "<div>\n",
       "<style scoped>\n",
       "    .dataframe tbody tr th:only-of-type {\n",
       "        vertical-align: middle;\n",
       "    }\n",
       "\n",
       "    .dataframe tbody tr th {\n",
       "        vertical-align: top;\n",
       "    }\n",
       "\n",
       "    .dataframe thead th {\n",
       "        text-align: right;\n",
       "    }\n",
       "</style>\n",
       "<table border=\"1\" class=\"dataframe\">\n",
       "  <thead>\n",
       "    <tr style=\"text-align: right;\">\n",
       "      <th></th>\n",
       "      <th>calitp_itp_id</th>\n",
       "      <th>day_name</th>\n",
       "      <th>shape_id</th>\n",
       "    </tr>\n",
       "  </thead>\n",
       "  <tbody>\n",
       "    <tr>\n",
       "      <th>0</th>\n",
       "      <td>4</td>\n",
       "      <td>Saturday</td>\n",
       "      <td>330</td>\n",
       "    </tr>\n",
       "    <tr>\n",
       "      <th>1</th>\n",
       "      <td>4</td>\n",
       "      <td>Sunday</td>\n",
       "      <td>330</td>\n",
       "    </tr>\n",
       "    <tr>\n",
       "      <th>2</th>\n",
       "      <td>4</td>\n",
       "      <td>Thursday</td>\n",
       "      <td>330</td>\n",
       "    </tr>\n",
       "    <tr>\n",
       "      <th>207</th>\n",
       "      <td>182</td>\n",
       "      <td>Saturday</td>\n",
       "      <td>734</td>\n",
       "    </tr>\n",
       "    <tr>\n",
       "      <th>208</th>\n",
       "      <td>182</td>\n",
       "      <td>Sunday</td>\n",
       "      <td>734</td>\n",
       "    </tr>\n",
       "    <tr>\n",
       "      <th>209</th>\n",
       "      <td>182</td>\n",
       "      <td>Thursday</td>\n",
       "      <td>734</td>\n",
       "    </tr>\n",
       "    <tr>\n",
       "      <th>327</th>\n",
       "      <td>279</td>\n",
       "      <td>Saturday</td>\n",
       "      <td>28</td>\n",
       "    </tr>\n",
       "    <tr>\n",
       "      <th>328</th>\n",
       "      <td>279</td>\n",
       "      <td>Sunday</td>\n",
       "      <td>28</td>\n",
       "    </tr>\n",
       "    <tr>\n",
       "      <th>329</th>\n",
       "      <td>279</td>\n",
       "      <td>Thursday</td>\n",
       "      <td>28</td>\n",
       "    </tr>\n",
       "  </tbody>\n",
       "</table>\n",
       "</div>"
      ],
      "text/plain": [
       "     calitp_itp_id  day_name  shape_id\n",
       "0                4  Saturday       330\n",
       "1                4    Sunday       330\n",
       "2                4  Thursday       330\n",
       "207            182  Saturday       734\n",
       "208            182    Sunday       734\n",
       "209            182  Thursday       734\n",
       "327            279  Saturday        28\n",
       "328            279    Sunday        28\n",
       "329            279  Thursday        28"
      ]
     },
     "metadata": {},
     "output_type": "display_data"
    },
    {
     "name": "stdout",
     "output_type": "stream",
     "text": [
      "Unique route_id-day_name\n"
     ]
    },
    {
     "data": {
      "text/html": [
       "<div>\n",
       "<style scoped>\n",
       "    .dataframe tbody tr th:only-of-type {\n",
       "        vertical-align: middle;\n",
       "    }\n",
       "\n",
       "    .dataframe tbody tr th {\n",
       "        vertical-align: top;\n",
       "    }\n",
       "\n",
       "    .dataframe thead th {\n",
       "        text-align: right;\n",
       "    }\n",
       "</style>\n",
       "<table border=\"1\" class=\"dataframe\">\n",
       "  <thead>\n",
       "    <tr style=\"text-align: right;\">\n",
       "      <th></th>\n",
       "      <th>calitp_itp_id</th>\n",
       "      <th>day_name</th>\n",
       "      <th>route_id</th>\n",
       "    </tr>\n",
       "  </thead>\n",
       "  <tbody>\n",
       "    <tr>\n",
       "      <th>0</th>\n",
       "      <td>4</td>\n",
       "      <td>Saturday</td>\n",
       "      <td>128</td>\n",
       "    </tr>\n",
       "    <tr>\n",
       "      <th>1</th>\n",
       "      <td>4</td>\n",
       "      <td>Sunday</td>\n",
       "      <td>128</td>\n",
       "    </tr>\n",
       "    <tr>\n",
       "      <th>2</th>\n",
       "      <td>4</td>\n",
       "      <td>Thursday</td>\n",
       "      <td>128</td>\n",
       "    </tr>\n",
       "    <tr>\n",
       "      <th>207</th>\n",
       "      <td>182</td>\n",
       "      <td>Saturday</td>\n",
       "      <td>118</td>\n",
       "    </tr>\n",
       "    <tr>\n",
       "      <th>208</th>\n",
       "      <td>182</td>\n",
       "      <td>Sunday</td>\n",
       "      <td>118</td>\n",
       "    </tr>\n",
       "    <tr>\n",
       "      <th>209</th>\n",
       "      <td>182</td>\n",
       "      <td>Thursday</td>\n",
       "      <td>118</td>\n",
       "    </tr>\n",
       "    <tr>\n",
       "      <th>327</th>\n",
       "      <td>279</td>\n",
       "      <td>Saturday</td>\n",
       "      <td>10</td>\n",
       "    </tr>\n",
       "    <tr>\n",
       "      <th>328</th>\n",
       "      <td>279</td>\n",
       "      <td>Sunday</td>\n",
       "      <td>10</td>\n",
       "    </tr>\n",
       "    <tr>\n",
       "      <th>329</th>\n",
       "      <td>279</td>\n",
       "      <td>Thursday</td>\n",
       "      <td>10</td>\n",
       "    </tr>\n",
       "  </tbody>\n",
       "</table>\n",
       "</div>"
      ],
      "text/plain": [
       "     calitp_itp_id  day_name  route_id\n",
       "0                4  Saturday       128\n",
       "1                4    Sunday       128\n",
       "2                4  Thursday       128\n",
       "207            182  Saturday       118\n",
       "208            182    Sunday       118\n",
       "209            182  Thursday       118\n",
       "327            279  Saturday        10\n",
       "328            279    Sunday        10\n",
       "329            279  Thursday        10"
      ]
     },
     "metadata": {},
     "output_type": "display_data"
    }
   ],
   "source": [
    "shape1, route1 = compare_shape_frequency_funding(f\"{utils.GCS_FILE_PATH}\")"
   ]
  },
  {
   "cell_type": "code",
   "execution_count": 27,
   "id": "1fd3350e-6920-461f-bdda-d48ec682c03d",
   "metadata": {},
   "outputs": [
    {
     "name": "stdout",
     "output_type": "stream",
     "text": [
      "# obs: 95933\n",
      "# unique id-shape_id-day-name: 363\n",
      "# unique id-route-id-day-name: 363\n",
      "check specific ids: [182, 4, 279]\n",
      "Unique shape_id-day_name\n"
     ]
    },
    {
     "data": {
      "text/html": [
       "<div>\n",
       "<style scoped>\n",
       "    .dataframe tbody tr th:only-of-type {\n",
       "        vertical-align: middle;\n",
       "    }\n",
       "\n",
       "    .dataframe tbody tr th {\n",
       "        vertical-align: top;\n",
       "    }\n",
       "\n",
       "    .dataframe thead th {\n",
       "        text-align: right;\n",
       "    }\n",
       "</style>\n",
       "<table border=\"1\" class=\"dataframe\">\n",
       "  <thead>\n",
       "    <tr style=\"text-align: right;\">\n",
       "      <th></th>\n",
       "      <th>calitp_itp_id</th>\n",
       "      <th>day_name</th>\n",
       "      <th>shape_id</th>\n",
       "    </tr>\n",
       "  </thead>\n",
       "  <tbody>\n",
       "    <tr>\n",
       "      <th>0</th>\n",
       "      <td>4</td>\n",
       "      <td>Saturday</td>\n",
       "      <td>150</td>\n",
       "    </tr>\n",
       "    <tr>\n",
       "      <th>1</th>\n",
       "      <td>4</td>\n",
       "      <td>Sunday</td>\n",
       "      <td>150</td>\n",
       "    </tr>\n",
       "    <tr>\n",
       "      <th>2</th>\n",
       "      <td>4</td>\n",
       "      <td>Thursday</td>\n",
       "      <td>323</td>\n",
       "    </tr>\n",
       "    <tr>\n",
       "      <th>171</th>\n",
       "      <td>182</td>\n",
       "      <td>Saturday</td>\n",
       "      <td>590</td>\n",
       "    </tr>\n",
       "    <tr>\n",
       "      <th>172</th>\n",
       "      <td>182</td>\n",
       "      <td>Sunday</td>\n",
       "      <td>590</td>\n",
       "    </tr>\n",
       "    <tr>\n",
       "      <th>173</th>\n",
       "      <td>182</td>\n",
       "      <td>Thursday</td>\n",
       "      <td>683</td>\n",
       "    </tr>\n",
       "    <tr>\n",
       "      <th>258</th>\n",
       "      <td>279</td>\n",
       "      <td>Saturday</td>\n",
       "      <td>21</td>\n",
       "    </tr>\n",
       "    <tr>\n",
       "      <th>259</th>\n",
       "      <td>279</td>\n",
       "      <td>Sunday</td>\n",
       "      <td>13</td>\n",
       "    </tr>\n",
       "    <tr>\n",
       "      <th>260</th>\n",
       "      <td>279</td>\n",
       "      <td>Thursday</td>\n",
       "      <td>24</td>\n",
       "    </tr>\n",
       "  </tbody>\n",
       "</table>\n",
       "</div>"
      ],
      "text/plain": [
       "     calitp_itp_id  day_name  shape_id\n",
       "0                4  Saturday       150\n",
       "1                4    Sunday       150\n",
       "2                4  Thursday       323\n",
       "171            182  Saturday       590\n",
       "172            182    Sunday       590\n",
       "173            182  Thursday       683\n",
       "258            279  Saturday        21\n",
       "259            279    Sunday        13\n",
       "260            279  Thursday        24"
      ]
     },
     "metadata": {},
     "output_type": "display_data"
    },
    {
     "name": "stdout",
     "output_type": "stream",
     "text": [
      "Unique route_id-day_name\n"
     ]
    },
    {
     "data": {
      "text/html": [
       "<div>\n",
       "<style scoped>\n",
       "    .dataframe tbody tr th:only-of-type {\n",
       "        vertical-align: middle;\n",
       "    }\n",
       "\n",
       "    .dataframe tbody tr th {\n",
       "        vertical-align: top;\n",
       "    }\n",
       "\n",
       "    .dataframe thead th {\n",
       "        text-align: right;\n",
       "    }\n",
       "</style>\n",
       "<table border=\"1\" class=\"dataframe\">\n",
       "  <thead>\n",
       "    <tr style=\"text-align: right;\">\n",
       "      <th></th>\n",
       "      <th>calitp_itp_id</th>\n",
       "      <th>day_name</th>\n",
       "      <th>route_id</th>\n",
       "    </tr>\n",
       "  </thead>\n",
       "  <tbody>\n",
       "    <tr>\n",
       "      <th>0</th>\n",
       "      <td>4</td>\n",
       "      <td>Saturday</td>\n",
       "      <td>59</td>\n",
       "    </tr>\n",
       "    <tr>\n",
       "      <th>1</th>\n",
       "      <td>4</td>\n",
       "      <td>Sunday</td>\n",
       "      <td>59</td>\n",
       "    </tr>\n",
       "    <tr>\n",
       "      <th>2</th>\n",
       "      <td>4</td>\n",
       "      <td>Thursday</td>\n",
       "      <td>128</td>\n",
       "    </tr>\n",
       "    <tr>\n",
       "      <th>171</th>\n",
       "      <td>182</td>\n",
       "      <td>Saturday</td>\n",
       "      <td>113</td>\n",
       "    </tr>\n",
       "    <tr>\n",
       "      <th>172</th>\n",
       "      <td>182</td>\n",
       "      <td>Sunday</td>\n",
       "      <td>111</td>\n",
       "    </tr>\n",
       "    <tr>\n",
       "      <th>173</th>\n",
       "      <td>182</td>\n",
       "      <td>Thursday</td>\n",
       "      <td>112</td>\n",
       "    </tr>\n",
       "    <tr>\n",
       "      <th>258</th>\n",
       "      <td>279</td>\n",
       "      <td>Saturday</td>\n",
       "      <td>10</td>\n",
       "    </tr>\n",
       "    <tr>\n",
       "      <th>259</th>\n",
       "      <td>279</td>\n",
       "      <td>Sunday</td>\n",
       "      <td>6</td>\n",
       "    </tr>\n",
       "    <tr>\n",
       "      <th>260</th>\n",
       "      <td>279</td>\n",
       "      <td>Thursday</td>\n",
       "      <td>10</td>\n",
       "    </tr>\n",
       "  </tbody>\n",
       "</table>\n",
       "</div>"
      ],
      "text/plain": [
       "     calitp_itp_id  day_name  route_id\n",
       "0                4  Saturday        59\n",
       "1                4    Sunday        59\n",
       "2                4  Thursday       128\n",
       "171            182  Saturday       113\n",
       "172            182    Sunday       111\n",
       "173            182  Thursday       112\n",
       "258            279  Saturday        10\n",
       "259            279    Sunday         6\n",
       "260            279  Thursday        10"
      ]
     },
     "metadata": {},
     "output_type": "display_data"
    }
   ],
   "source": [
    "shape2, route2 = compare_shape_frequency_funding(\"./data/test/\")"
   ]
  },
  {
   "cell_type": "code",
   "execution_count": 32,
   "id": "251f64af-4b8e-45ad-be58-b4a5d2c833cb",
   "metadata": {},
   "outputs": [
    {
     "data": {
      "text/plain": [
       "both          329\n",
       "left_only     112\n",
       "right_only     34\n",
       "Name: _merge, dtype: int64"
      ]
     },
     "execution_count": 32,
     "metadata": {},
     "output_type": "execute_result"
    }
   ],
   "source": [
    "shape_m1 = pd.merge(shape1, \n",
    "                    shape2,\n",
    "                    on = [\"calitp_itp_id\", \"day_name\"],\n",
    "                    how = \"outer\",\n",
    "                    validate = \"1:1\",\n",
    "                    indicator=True\n",
    "                   )\n",
    "\n",
    "shape_m1._merge.value_counts()"
   ]
  },
  {
   "cell_type": "code",
   "execution_count": 43,
   "id": "193b0e4c-e9b9-4e76-8653-27120de89c39",
   "metadata": {},
   "outputs": [
    {
     "data": {
      "text/plain": [
       "array([ 10,  11,  18,  21,  23,  34,  35,  36,  37,  42,  45,  49,  50,\n",
       "        71,  77,  79,  81,  82,  83,  91,  93,  95,  98, 108, 121, 135,\n",
       "       137, 142, 148, 154, 159, 162, 167, 168, 169, 187, 188, 192, 199,\n",
       "       201, 204, 210, 213, 217, 220, 221, 235, 238, 239, 243, 251, 257,\n",
       "       259, 261, 263, 264, 265, 294, 308, 315, 329, 334, 337, 339, 356,\n",
       "       361, 366, 376, 386, 473])"
      ]
     },
     "execution_count": 43,
     "metadata": {},
     "output_type": "execute_result"
    }
   ],
   "source": [
    "shape_m1[shape_m1._merge==\"left_only\"].calitp_itp_id.unique()"
   ]
  },
  {
   "cell_type": "code",
   "execution_count": 44,
   "id": "ae011ed4-273d-4e0f-a0c9-bc7cea09cec0",
   "metadata": {},
   "outputs": [
    {
     "data": {
      "text/plain": [
       "array([ 48,  61, 106, 110, 127, 170, 208, 278, 280, 290, 346, 350])"
      ]
     },
     "execution_count": 44,
     "metadata": {},
     "output_type": "execute_result"
    }
   ],
   "source": [
    "shape_m1[shape_m1._merge==\"right_only\"].calitp_itp_id.unique()"
   ]
  },
  {
   "cell_type": "code",
   "execution_count": 53,
   "id": "76e62130-383b-4959-8658-928df9b93392",
   "metadata": {},
   "outputs": [
    {
     "ename": "AssertionError",
     "evalue": "",
     "output_type": "error",
     "traceback": [
      "\u001b[0;31m---------------------------------------------------------------------------\u001b[0m",
      "\u001b[0;31mAssertionError\u001b[0m                            Traceback (most recent call last)",
      "\u001b[0;32m/tmp/ipykernel_862/2380393965.py\u001b[0m in \u001b[0;36m<module>\u001b[0;34m\u001b[0m\n\u001b[0;32m----> 1\u001b[0;31m \u001b[0;32massert\u001b[0m \u001b[0;34m(\u001b[0m\u001b[0mshape_m1\u001b[0m\u001b[0;34m.\u001b[0m\u001b[0mshape_id_x\u001b[0m \u001b[0;34m<=\u001b[0m \u001b[0mshape_m1\u001b[0m\u001b[0;34m.\u001b[0m\u001b[0mshape_id_y\u001b[0m\u001b[0;34m)\u001b[0m\u001b[0;34m.\u001b[0m\u001b[0mall\u001b[0m\u001b[0;34m(\u001b[0m\u001b[0;34m)\u001b[0m\u001b[0;34m\u001b[0m\u001b[0;34m\u001b[0m\u001b[0m\n\u001b[0m",
      "\u001b[0;31mAssertionError\u001b[0m: "
     ]
    }
   ],
   "source": [
    "assert (shape_m1.shape_id_x <= shape_m1.shape_id_y).all()"
   ]
  },
  {
   "cell_type": "code",
   "execution_count": 34,
   "id": "5db0cf3f-84e2-4588-9b7a-d1abfa964e97",
   "metadata": {},
   "outputs": [
    {
     "data": {
      "text/plain": [
       "both          329\n",
       "left_only     112\n",
       "right_only     34\n",
       "Name: _merge, dtype: int64"
      ]
     },
     "execution_count": 34,
     "metadata": {},
     "output_type": "execute_result"
    }
   ],
   "source": [
    "route_m1 = pd.merge(route1, \n",
    "                    route2,\n",
    "                    on = [\"calitp_itp_id\", \"day_name\"],\n",
    "                    how = \"outer\",\n",
    "                    validate = \"1:1\",\n",
    "                    indicator=True\n",
    "                   )\n",
    "\n",
    "route_m1._merge.value_counts()"
   ]
  },
  {
   "cell_type": "code",
   "execution_count": 46,
   "id": "12deeab0-b2af-42b7-bcab-1e61cbfe27a8",
   "metadata": {},
   "outputs": [
    {
     "data": {
      "text/plain": [
       "array([ 10,  11,  18,  21,  23,  34,  35,  36,  37,  42,  45,  49,  50,\n",
       "        71,  77,  79,  81,  82,  83,  91,  93,  95,  98, 108, 121, 135,\n",
       "       137, 142, 148, 154, 159, 162, 167, 168, 169, 187, 188, 192, 199,\n",
       "       201, 204, 210, 213, 217, 220, 221, 235, 238, 239, 243, 251, 257,\n",
       "       259, 261, 263, 264, 265, 294, 308, 315, 329, 334, 337, 339, 356,\n",
       "       361, 366, 376, 386, 473])"
      ]
     },
     "execution_count": 46,
     "metadata": {},
     "output_type": "execute_result"
    }
   ],
   "source": [
    "route_m1[route_m1._merge==\"left_only\"].calitp_itp_id.unique()"
   ]
  },
  {
   "cell_type": "code",
   "execution_count": 45,
   "id": "422b2dde-d964-4546-8d02-053f0c26d513",
   "metadata": {},
   "outputs": [
    {
     "data": {
      "text/plain": [
       "array([ 48,  61, 106, 110, 127, 170, 208, 278, 280, 290, 346, 350])"
      ]
     },
     "execution_count": 45,
     "metadata": {},
     "output_type": "execute_result"
    }
   ],
   "source": [
    "route_m1[route_m1._merge==\"right_only\"].calitp_itp_id.unique()"
   ]
  },
  {
   "cell_type": "code",
   "execution_count": 58,
   "id": "ac382741-537d-4f7b-a93a-294c9ff4e361",
   "metadata": {},
   "outputs": [
    {
     "data": {
      "text/html": [
       "<div>\n",
       "<style scoped>\n",
       "    .dataframe tbody tr th:only-of-type {\n",
       "        vertical-align: middle;\n",
       "    }\n",
       "\n",
       "    .dataframe tbody tr th {\n",
       "        vertical-align: top;\n",
       "    }\n",
       "\n",
       "    .dataframe thead th {\n",
       "        text-align: right;\n",
       "    }\n",
       "</style>\n",
       "<table border=\"1\" class=\"dataframe\">\n",
       "  <thead>\n",
       "    <tr style=\"text-align: right;\">\n",
       "      <th></th>\n",
       "      <th>calitp_itp_id</th>\n",
       "      <th>day_name</th>\n",
       "      <th>route_id_x</th>\n",
       "      <th>route_id_y</th>\n",
       "      <th>_merge</th>\n",
       "    </tr>\n",
       "  </thead>\n",
       "  <tbody>\n",
       "    <tr>\n",
       "      <th>0</th>\n",
       "      <td>4</td>\n",
       "      <td>Saturday</td>\n",
       "      <td>128.0</td>\n",
       "      <td>59.0</td>\n",
       "      <td>both</td>\n",
       "    </tr>\n",
       "    <tr>\n",
       "      <th>1</th>\n",
       "      <td>4</td>\n",
       "      <td>Sunday</td>\n",
       "      <td>128.0</td>\n",
       "      <td>59.0</td>\n",
       "      <td>both</td>\n",
       "    </tr>\n",
       "    <tr>\n",
       "      <th>2</th>\n",
       "      <td>4</td>\n",
       "      <td>Thursday</td>\n",
       "      <td>128.0</td>\n",
       "      <td>128.0</td>\n",
       "      <td>both</td>\n",
       "    </tr>\n",
       "    <tr>\n",
       "      <th>3</th>\n",
       "      <td>10</td>\n",
       "      <td>Saturday</td>\n",
       "      <td>1.0</td>\n",
       "      <td>NaN</td>\n",
       "      <td>left_only</td>\n",
       "    </tr>\n",
       "    <tr>\n",
       "      <th>4</th>\n",
       "      <td>10</td>\n",
       "      <td>Sunday</td>\n",
       "      <td>1.0</td>\n",
       "      <td>NaN</td>\n",
       "      <td>left_only</td>\n",
       "    </tr>\n",
       "    <tr>\n",
       "      <th>...</th>\n",
       "      <td>...</td>\n",
       "      <td>...</td>\n",
       "      <td>...</td>\n",
       "      <td>...</td>\n",
       "      <td>...</td>\n",
       "    </tr>\n",
       "    <tr>\n",
       "      <th>470</th>\n",
       "      <td>346</td>\n",
       "      <td>Sunday</td>\n",
       "      <td>NaN</td>\n",
       "      <td>4.0</td>\n",
       "      <td>right_only</td>\n",
       "    </tr>\n",
       "    <tr>\n",
       "      <th>471</th>\n",
       "      <td>346</td>\n",
       "      <td>Thursday</td>\n",
       "      <td>NaN</td>\n",
       "      <td>8.0</td>\n",
       "      <td>right_only</td>\n",
       "    </tr>\n",
       "    <tr>\n",
       "      <th>472</th>\n",
       "      <td>350</td>\n",
       "      <td>Saturday</td>\n",
       "      <td>NaN</td>\n",
       "      <td>5.0</td>\n",
       "      <td>right_only</td>\n",
       "    </tr>\n",
       "    <tr>\n",
       "      <th>473</th>\n",
       "      <td>350</td>\n",
       "      <td>Sunday</td>\n",
       "      <td>NaN</td>\n",
       "      <td>5.0</td>\n",
       "      <td>right_only</td>\n",
       "    </tr>\n",
       "    <tr>\n",
       "      <th>474</th>\n",
       "      <td>350</td>\n",
       "      <td>Thursday</td>\n",
       "      <td>NaN</td>\n",
       "      <td>5.0</td>\n",
       "      <td>right_only</td>\n",
       "    </tr>\n",
       "  </tbody>\n",
       "</table>\n",
       "<p>475 rows × 5 columns</p>\n",
       "</div>"
      ],
      "text/plain": [
       "     calitp_itp_id  day_name  route_id_x  route_id_y      _merge\n",
       "0                4  Saturday       128.0        59.0        both\n",
       "1                4    Sunday       128.0        59.0        both\n",
       "2                4  Thursday       128.0       128.0        both\n",
       "3               10  Saturday         1.0         NaN   left_only\n",
       "4               10    Sunday         1.0         NaN   left_only\n",
       "..             ...       ...         ...         ...         ...\n",
       "470            346    Sunday         NaN         4.0  right_only\n",
       "471            346  Thursday         NaN         8.0  right_only\n",
       "472            350  Saturday         NaN         5.0  right_only\n",
       "473            350    Sunday         NaN         5.0  right_only\n",
       "474            350  Thursday         NaN         5.0  right_only\n",
       "\n",
       "[475 rows x 5 columns]"
      ]
     },
     "execution_count": 58,
     "metadata": {},
     "output_type": "execute_result"
    }
   ],
   "source": [
    "route_m1"
   ]
  },
  {
   "cell_type": "code",
   "execution_count": 57,
   "id": "e31511b2-75c5-4976-8812-768dad8b861e",
   "metadata": {},
   "outputs": [
    {
     "ename": "AssertionError",
     "evalue": "",
     "output_type": "error",
     "traceback": [
      "\u001b[0;31m---------------------------------------------------------------------------\u001b[0m",
      "\u001b[0;31mAssertionError\u001b[0m                            Traceback (most recent call last)",
      "\u001b[0;32m/tmp/ipykernel_862/2496560468.py\u001b[0m in \u001b[0;36m<module>\u001b[0;34m\u001b[0m\n\u001b[0;32m----> 1\u001b[0;31m \u001b[0;32massert\u001b[0m \u001b[0;34m(\u001b[0m\u001b[0mroute_m1\u001b[0m\u001b[0;34m.\u001b[0m\u001b[0mroute_id_x\u001b[0m \u001b[0;34m<=\u001b[0m \u001b[0mroute_m1\u001b[0m\u001b[0;34m.\u001b[0m\u001b[0mroute_id_y\u001b[0m\u001b[0;34m)\u001b[0m\u001b[0;34m.\u001b[0m\u001b[0mall\u001b[0m\u001b[0;34m(\u001b[0m\u001b[0;34m)\u001b[0m\u001b[0;34m\u001b[0m\u001b[0;34m\u001b[0m\u001b[0m\n\u001b[0m",
      "\u001b[0;31mAssertionError\u001b[0m: "
     ]
    }
   ],
   "source": [
    "assert (route_m1.route_id_x <= route_m1.route_id_y).all()"
   ]
  },
  {
   "cell_type": "code",
   "execution_count": null,
   "id": "3cfd4084-19ca-49bb-bfca-f4d517ee7651",
   "metadata": {},
   "outputs": [],
   "source": []
  }
 ],
 "metadata": {
  "kernelspec": {
   "display_name": "Python 3 (ipykernel)",
   "language": "python",
   "name": "python3"
  },
  "language_info": {
   "codemirror_mode": {
    "name": "ipython",
    "version": 3
   },
   "file_extension": ".py",
   "mimetype": "text/x-python",
   "name": "python",
   "nbconvert_exporter": "python",
   "pygments_lexer": "ipython3",
   "version": "3.9.7"
  }
 },
 "nbformat": 4,
 "nbformat_minor": 5
}
