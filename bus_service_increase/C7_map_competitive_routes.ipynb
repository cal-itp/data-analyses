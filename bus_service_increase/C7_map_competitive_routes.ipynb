{
 "cells": [
  {
   "cell_type": "markdown",
   "id": "c9f8e859-3ef4-4716-845a-9c6176ca3700",
   "metadata": {},
   "source": [
    "# Map the competitive routes"
   ]
  },
  {
   "cell_type": "code",
   "execution_count": null,
   "id": "7b0944d0-759a-4fd3-b05a-548ce16471a4",
   "metadata": {},
   "outputs": [],
   "source": [
    "import branca\n",
    "import geopandas as gpd\n",
    "import intake\n",
    "import os\n",
    "import numpy as np\n",
    "import pandas as pd\n",
    "\n",
    "import utils\n",
    "from shared_utils import map_utils, geography_utils\n",
    "from shared_utils import calitp_color_palette as cp\n",
    "\n",
    "catalog = intake.open_catalog(\"./*.yml\")"
   ]
  },
  {
   "cell_type": "code",
   "execution_count": null,
   "id": "16336d68-0cbe-46af-9f45-4f44d6526875",
   "metadata": {},
   "outputs": [],
   "source": [
    "gdf = catalog.gmaps_results.read()\n",
    "\n",
    "# Need a numeric identifier, or branca.colormap will error\n",
    "gdf = gdf.assign(\n",
    "    # Try to sort/group slightly differently or else colors for same operator appear too similar\n",
    "    identifier2 = gdf.apply(lambda x: np.random.randint(0, 1619), axis=1),\n",
    ")"
   ]
  },
  {
   "cell_type": "code",
   "execution_count": null,
   "id": "0a8d47b0-2725-483f-83ca-370c315d1454",
   "metadata": {},
   "outputs": [],
   "source": [
    "FIG_HEIGHT = 900\n",
    "FIG_WIDTH = 700\n",
    "\n",
    "'''\n",
    "color_palette = (cp.CALITP_CATEGORY_BRIGHT_COLORS + cp.CALITP_CATEGORY_BOLD_COLORS + \n",
    "                 cp.CALITP_DIVERGING_COLORS +  cp.CALITP_SEQUENTIAL_COLORS\n",
    "                )\n",
    "\n",
    "random.seed(1234)\n",
    "random.shuffle(color_palette)\n",
    "'''\n",
    "COLORSCALE = branca.colormap.step.Accent_08.scale(\n",
    "    vmin = gdf.identifier2.min(),\n",
    "    vmax=gdf.identifier2.max(),\n",
    ")\n",
    "#(colors = color_palette)\n",
    "\n",
    "# Choose a quantitative column to plot, \n",
    "# otherwise using categorical/discrete colors will throw error\n",
    "# TypeError: '<=' not supported between instances of 'str' and 'float'\n",
    "\n",
    "PLOT_COL = \"identifier2\"\n",
    "POPUP_DICT = {\n",
    "    \"calitp_itp_id\": \"ITP ID\",\n",
    "    \"route_id\": \"Route ID\",\n",
    "    \"trip_id\": \"Trip ID for 20th percentile travel time\",\n",
    "    \"service_hours\": \"Bus Travel Time (hrs)\",\n",
    "    \"car_duration_hours\": \"Car Travel Time (hrs)\",\n",
    "    \"shape_id\": \"shape_id\",\n",
    "}"
   ]
  },
  {
   "cell_type": "code",
   "execution_count": null,
   "id": "3311664c-4c85-4760-aa47-d0e5f11b8733",
   "metadata": {},
   "outputs": [],
   "source": [
    "m = map_utils.make_folium_choropleth_map(\n",
    "    # Drop datetime, arrays cols because it's not JSON serializable\n",
    "    gdf[gdf.competitive==1].drop(columns = \n",
    "                                 [\"trip_departure\", \"departure_in_one_year\", \n",
    "                                  \"origin\", \"destination\", \"waypoints\"]),\n",
    "    plot_col = PLOT_COL,\n",
    "    popup_dict = POPUP_DICT,\n",
    "    tooltip_dict = POPUP_DICT,\n",
    "    colorscale = COLORSCALE,\n",
    "    fig_width = FIG_WIDTH,\n",
    "    fig_height = FIG_HEIGHT,\n",
    "    zoom=map_utils.REGION_CENTROIDS[\"CA\"][\"zoom\"]+1,\n",
    "    centroid=map_utils.REGION_CENTROIDS[\"CA\"][\"centroid\"],\n",
    "    title=\"Competitive Transit Routes\",\n",
    "    legend_name=\"Legend\",\n",
    ")\n",
    "\n",
    "m.save(f\"{utils.IMG_PATH}competitive_routes.html\")"
   ]
  },
  {
   "cell_type": "code",
   "execution_count": null,
   "id": "41a20477-93ca-4c33-a844-3d86a8bdb7a8",
   "metadata": {},
   "outputs": [],
   "source": [
    "#m"
   ]
  }
 ],
 "metadata": {
  "kernelspec": {
   "display_name": "Python 3 (ipykernel)",
   "language": "python",
   "name": "python3"
  },
  "language_info": {
   "codemirror_mode": {
    "name": "ipython",
    "version": 3
   },
   "file_extension": ".py",
   "mimetype": "text/x-python",
   "name": "python",
   "nbconvert_exporter": "python",
   "pygments_lexer": "ipython3",
   "version": "3.9.10"
  }
 },
 "nbformat": 4,
 "nbformat_minor": 5
}
