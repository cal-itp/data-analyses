{
 "cells": [
  {
   "cell_type": "markdown",
   "id": "3a1f12f2-44c9-481f-a8ee-3afc08c25271",
   "metadata": {},
   "source": [
    "# Try osmnx"
   ]
  },
  {
   "cell_type": "code",
   "execution_count": null,
   "id": "b3df3b7f-4890-4f67-8be4-deaea2243fea",
   "metadata": {},
   "outputs": [],
   "source": [
    "import networkx as nx\n",
    "import osmnx as ox\n",
    "import pandas as pd"
   ]
  },
  {
   "cell_type": "code",
   "execution_count": null,
   "id": "71b79770-9eb9-4271-8888-7093941d4734",
   "metadata": {},
   "outputs": [],
   "source": [
    "G = ox.graph_from_place(\"Piedmont, California, USA\", network_type=\"drive\")\n",
    "fig, ax = ox.plot_graph(G)"
   ]
  },
  {
   "cell_type": "code",
   "execution_count": null,
   "id": "bd390c10-348e-45ba-b0b8-b7e787cc0ef4",
   "metadata": {},
   "outputs": [],
   "source": [
    "def nearest_node(row):\n",
    "    node = ox.get_nearest_node(G, (row.geometry.y, row.geometry.x))\n",
    "    return node"
   ]
  },
  {
   "cell_type": "code",
   "execution_count": null,
   "id": "62d2e0b2-50e5-4e20-a958-9610f39fbc84",
   "metadata": {},
   "outputs": [],
   "source": [
    "df[\"node\"] = df.apply(lambda x: nearest_node(x), axis=1) "
   ]
  },
  {
   "cell_type": "code",
   "execution_count": null,
   "id": "955bb624-aae5-408f-85ef-116d94782411",
   "metadata": {},
   "outputs": [],
   "source": [
    "gdf_nodes, gdf_edges = ox.graph_to_gdfs(G)\n",
    "gdf_nodes.head()"
   ]
  },
  {
   "cell_type": "code",
   "execution_count": null,
   "id": "1d4ea2d1-328e-4486-881e-a7666ca34af6",
   "metadata": {},
   "outputs": [],
   "source": [
    "# get the nearest network node to each point\n",
    "orig_node = ox.get_nearest_node(G, (37.828903, -122.245846))\n",
    "dest_node = ox.get_nearest_node(G, (37.812303, -122.215006))\n",
    "\n",
    "# how long is our route in meters?\n",
    "#nx.shortest_path_length(G, orig_node, dest_node, weight='length')"
   ]
  },
  {
   "cell_type": "code",
   "execution_count": null,
   "id": "68c5a0fc-53b1-4b7f-990c-a61b65e725bc",
   "metadata": {},
   "outputs": [],
   "source": [
    "G = ox.add_edge_speeds(G)\n",
    "G = ox.add_edge_travel_times(G)\n",
    "#(G, orig, dest, weight=\"travel_time\")\n"
   ]
  },
  {
   "cell_type": "code",
   "execution_count": null,
   "id": "09e6be41-3dc8-4d91-8b57-e78c355c2b61",
   "metadata": {},
   "outputs": [],
   "source": [
    "#https://github.com/gboeing/osmnx-examples/blob/main/notebooks/02-routing-speed-time.ipynb\n",
    "hwy_speeds = {\n",
    "    \"residential\": 35, #21 mph\n",
    "    \"secondary\": 50, #31 mph\n",
    "    \"tertiary\": 60, #37 mph\n",
    "}\n",
    "# What should speeds be set to for buses?\n",
    "# For now, hard-code, but probably can get some max speeds from Eric's RT\n",
    "# to ground-truth actual max speeds for buses\n",
    "G = ox.add_edge_speeds(G, hwy_speeds)\n",
    "G = ox.add_edge_travel_times(G)"
   ]
  },
  {
   "cell_type": "code",
   "execution_count": null,
   "id": "6f884950-b00b-4252-b63f-1bffb544e89a",
   "metadata": {},
   "outputs": [],
   "source": [
    "edges = ox.graph_to_gdfs(G, nodes=False)\n",
    "edges[\"highway\"] = edges[\"highway\"].astype(str)\n",
    "edges.groupby(\"highway\")[[\"length\", \"speed_kph\", \"travel_time\"]].mean().round(1)"
   ]
  }
 ],
 "metadata": {
  "kernelspec": {
   "display_name": "Python 3 (ipykernel)",
   "language": "python",
   "name": "python3"
  },
  "language_info": {
   "codemirror_mode": {
    "name": "ipython",
    "version": 3
   },
   "file_extension": ".py",
   "mimetype": "text/x-python",
   "name": "python",
   "nbconvert_exporter": "python",
   "pygments_lexer": "ipython3",
   "version": "3.9.10"
  }
 },
 "nbformat": 4,
 "nbformat_minor": 5
}
