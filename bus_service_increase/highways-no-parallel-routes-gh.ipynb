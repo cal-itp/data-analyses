{
 "cells": [
  {
   "cell_type": "markdown",
   "id": "c9f8e859-3ef4-4716-845a-9c6176ca3700",
   "metadata": {
    "papermill": {
     "duration": 0.008223,
     "end_time": "2022-05-16T14:46:42.585735",
     "exception": false,
     "start_time": "2022-05-16T14:46:42.577512",
     "status": "completed"
    },
    "tags": []
   },
   "source": [
    "# Highways with No Parallel Transit Routes to SHN \n",
    "\n",
    "These highway corridors have a dearth of bus transit service. These highway corridors may have the presence of transit routes, but none of the routes fit the definition of **[parallel](https://analysis.calitp.org/parallel_corridors/README.html)**. \n",
    "\n",
    "Highway corridors with zero parallel transit routes are sorted in descending order by number of bus routes and length of highway corridor.\n",
    "\n",
    "The top 25 are selected and plotted by district. Not every district would have highway corridors. These corridors represent opportunities for investment in **creating parallel routes** where none currently exist, though there are transit routes nearby."
   ]
  },
  {
   "cell_type": "code",
   "execution_count": null,
   "id": "7b0944d0-759a-4fd3-b05a-548ce16471a4",
   "metadata": {
    "papermill": {
     "duration": 6.726985,
     "end_time": "2022-05-16T14:46:49.340632",
     "exception": false,
     "start_time": "2022-05-16T14:46:42.613647",
     "status": "completed"
    },
    "tags": []
   },
   "outputs": [],
   "source": [
    "%%capture\n",
    "import warnings\n",
    "warnings.filterwarnings('ignore')\n",
    "\n",
    "import geopandas as gpd\n",
    "import intake\n",
    "import pandas as pd\n",
    "\n",
    "from IPython.display import Markdown, HTML\n",
    "\n",
    "import setup_corridors_stats\n",
    "import parallel_corridors_utils\n",
    "from shared_utils import geography_utils \n",
    "\n",
    "catalog = intake.open_catalog(\"./*.yml\")"
   ]
  },
  {
   "cell_type": "code",
   "execution_count": null,
   "id": "3449561d-5080-4378-96cb-438c66a0112a",
   "metadata": {
    "papermill": {
     "duration": 18.271436,
     "end_time": "2022-05-16T14:47:07.620932",
     "exception": false,
     "start_time": "2022-05-16T14:46:49.349496",
     "status": "completed"
    },
    "tags": []
   },
   "outputs": [],
   "source": [
    "operator_stats, hwy_stats = setup_corridors_stats.aggregated_transit_hwy_stats()\n",
    "gdf = setup_corridors_stats.process_hwy_stats(hwy_stats).to_crs(geography_utils.WGS84)"
   ]
  },
  {
   "cell_type": "code",
   "execution_count": null,
   "id": "a8b25e40-3363-4930-8c9e-b461def3d391",
   "metadata": {},
   "outputs": [],
   "source": [
    "zero_parallel = (gdf[gdf.pct_parallel==0]\n",
    "                 .sort_values([\"count_route_id\", \"highway_length_routetype\"], \n",
    "                              ascending = [False, False])\n",
    "                )\n",
    "\n",
    "def unique_districts(df, x):\n",
    "    return df.head(x).District.nunique()"
   ]
  },
  {
   "cell_type": "code",
   "execution_count": null,
   "id": "1ba1a285-68e3-4e56-8899-d74b4d4ad566",
   "metadata": {},
   "outputs": [],
   "source": [
    "TOP_CUTOFF = 25\n",
    "zero_parallel2 = (zero_parallel\n",
    "                 .head(TOP_CUTOFF)\n",
    "                ).reset_index(drop=True)\n",
    "\n",
    "display(\n",
    "    Markdown(\n",
    "        \"Note: \"\n",
    "        f\"The top {TOP_CUTOFF} are chosen because provided the most district coverage \"\n",
    "        \"without recommending far too many highway corridors per district.\"\n",
    "        f\"<br>Top 20: {unique_districts(zero_parallel, 20)} districts\"\n",
    "        f\"<br>Top 25: {unique_districts(zero_parallel, 25)} districts\"\n",
    "        f\"<br>Top 30: {unique_districts(zero_parallel, 30)} districts\"\n",
    "        f\"<br>Top 35: {unique_districts(zero_parallel, 35)} districts\"\n",
    "    )\n",
    ")"
   ]
  },
  {
   "cell_type": "markdown",
   "id": "ca9df781-d324-452c-8deb-364515f8fbaa",
   "metadata": {
    "papermill": {
     "duration": 0.012355,
     "end_time": "2022-05-16T14:47:07.707386",
     "exception": false,
     "start_time": "2022-05-16T14:47:07.695031",
     "status": "completed"
    },
    "tags": []
   },
   "source": [
    "<a id=\"top\"></a>       "
   ]
  },
  {
   "cell_type": "markdown",
   "id": "5be0283b-4658-4e09-8b21-a401ceba6545",
   "metadata": {
    "papermill": {
     "duration": 0.011505,
     "end_time": "2022-05-16T14:47:07.730372",
     "exception": false,
     "start_time": "2022-05-16T14:47:07.718867",
     "status": "completed"
    },
    "tags": []
   },
   "source": [
    "#### [District Maps](#district-maps)\n",
    "* [District 1](#district-1)\n",
    "* [District 2](#district-2)\n",
    "* [District 3](#district-3)\n",
    "* [District 4](#district-4)\n",
    "* [District 5](#district-5)\n",
    "* [District 6](#district-6)\n",
    "* [District 7](#district-7)\n",
    "* [District 8](#district-8)\n",
    "* [District 9](#district-9)\n",
    "* [District 10](#district-10)\n",
    "* [District 11](#district-11)\n",
    "* [District 12](#district-12)"
   ]
  },
  {
   "cell_type": "code",
   "execution_count": null,
   "id": "c3f1a81a-764b-4332-9ebe-9f59cd6c7dbf",
   "metadata": {
    "papermill": {
     "duration": 0.023575,
     "end_time": "2022-05-16T14:47:07.774855",
     "exception": false,
     "start_time": "2022-05-16T14:47:07.751280",
     "status": "completed"
    },
    "tags": []
   },
   "outputs": [],
   "source": [
    "plot_df = zero_parallel2.copy()\n",
    "districts = sorted(list(gdf.District.unique()))\n",
    "\n",
    "def sentence_no_corridors(district):\n",
    "    sentence = (\n",
    "        f\"District {district} does not contain any of the \"\n",
    "        f\"top {TOP_CUTOFF} highway corridors with no \"\n",
    "        \"parallel bus routes to the SHN.\"\n",
    "    )\n",
    "    return sentence\n",
    "\n",
    "def district_output(gdf, district):\n",
    "    district_df = gdf[gdf.District==district]\n",
    "    if len(district_df) > 0:\n",
    "        # Show a table of stats for entire district\n",
    "        # Not working in utils, is working in notebook\n",
    "        table = parallel_corridors_utils.district_stats(district_df, district)\n",
    "        display(HTML(table.to_html()))\n",
    "        \n",
    "        parallel_corridors_utils.show_district_analysis(district_df, district)\n",
    "    else:\n",
    "        print(sentence_no_corridors(district))"
   ]
  },
  {
   "cell_type": "markdown",
   "id": "75912297-fd37-4788-b1d6-d5a6766314cb",
   "metadata": {
    "papermill": {
     "duration": 0.006984,
     "end_time": "2022-05-16T14:47:07.788825",
     "exception": false,
     "start_time": "2022-05-16T14:47:07.781841",
     "status": "completed"
    },
    "tags": []
   },
   "source": [
    "## District Maps"
   ]
  },
  {
   "cell_type": "code",
   "execution_count": null,
   "id": "f7d5d002-85a1-4f75-a095-acdbc942faef",
   "metadata": {
    "papermill": {
     "duration": 5.398282,
     "end_time": "2022-05-16T14:47:13.194492",
     "exception": false,
     "start_time": "2022-05-16T14:47:07.796210",
     "status": "completed"
    },
    "tags": []
   },
   "outputs": [],
   "source": [
    "for i in districts:\n",
    "    # Set the HTML id_anchor\n",
    "    id_anchor = f\"district-{i}\"\n",
    "    display(HTML(f\"<a id={id_anchor}></a>\"))\n",
    "    display(Markdown(f\"### District {i}\"))\n",
    "    \n",
    "    district_output(plot_df, i)\n",
    "    \n",
    "    display(HTML(\n",
    "        \"<br>\"\n",
    "        \"<a href=#top>Return to top</a><br>\"\n",
    "    ))"
   ]
  },
  {
   "cell_type": "code",
   "execution_count": null,
   "id": "8a003eb8-9de0-4ef3-bf9e-87f460648f55",
   "metadata": {},
   "outputs": [],
   "source": []
  }
 ],
 "metadata": {
  "kernelspec": {
   "display_name": "Python 3 (ipykernel)",
   "language": "python",
   "name": "python3"
  },
  "language_info": {
   "codemirror_mode": {
    "name": "ipython",
    "version": 3
   },
   "file_extension": ".py",
   "mimetype": "text/x-python",
   "name": "python",
   "nbconvert_exporter": "python",
   "pygments_lexer": "ipython3",
   "version": "3.9.12"
  },
  "papermill": {
   "default_parameters": {},
   "duration": 33.766969,
   "end_time": "2022-05-16T14:47:15.022890",
   "environment_variables": {},
   "exception": null,
   "input_path": "ca-highways-no-parallel-routes2.ipynb",
   "output_path": "./ca-highways-no-parallel-routes2.ipynb",
   "parameters": {},
   "start_time": "2022-05-16T14:46:41.255921",
   "version": "2.3.4"
  }
 },
 "nbformat": 4,
 "nbformat_minor": 5
}
