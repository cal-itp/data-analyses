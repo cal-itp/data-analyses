{
 "cells": [
  {
   "cell_type": "code",
   "execution_count": 1,
   "id": "72cdda4e-57a8-47dd-a0b6-1d45bb863c41",
   "metadata": {},
   "outputs": [
    {
     "name": "stderr",
     "output_type": "stream",
     "text": [
      "/opt/conda/lib/python3.9/site-packages/geopandas/_compat.py:111: UserWarning: The Shapely GEOS version (3.9.1-CAPI-1.14.2) is incompatible with the GEOS version PyGEOS was compiled with (3.10.1-CAPI-1.16.0). Conversions between both will be slow.\n",
      "  warnings.warn(\n"
     ]
    }
   ],
   "source": [
    "import geopandas as gpd\n",
    "import matplotlib.pyplot as plt\n",
    "import pandas as pd\n",
    "\n",
    "import create_parallel_corridors\n",
    "from shared_utils import geography_utils\n",
    "\n",
    "DATA_PATH = create_parallel_corridors.DATA_PATH"
   ]
  },
  {
   "cell_type": "code",
   "execution_count": 6,
   "id": "c8a1612e-ff3d-4388-9e83-73b905cb2dc8",
   "metadata": {},
   "outputs": [],
   "source": [
    "# See how transit_routes.parquet was created\n",
    "routes_assembled = gpd.read_parquet(\"../traffic_ops/data/routes_assembled.parquet\")\n",
    "\n",
    "transit_routes = create_parallel_corridors.process_transit_routes(routes_assembled)"
   ]
  },
  {
   "cell_type": "code",
   "execution_count": null,
   "id": "bd579bb3-3a8c-4180-866b-9e7d8c3d570f",
   "metadata": {},
   "outputs": [],
   "source": [
    "'''\n",
    "transit_routes = gpd.read_parquet(f\"{DATA_PATH}transit_routes.parquet\")\n",
    "\n",
    "len(transit_routes)\n",
    "transit_routes.head(2)\n",
    "\n",
    "\n",
    "routes_assembled = gpd.read_parquet(\"../traffic_ops/data/routes_assembled.parquet\")\n",
    "len(routes_assembled)\n",
    "routes_assembled.head(2)\n",
    "'''"
   ]
  },
  {
   "cell_type": "code",
   "execution_count": 7,
   "id": "0735a1d1-14fe-4b52-89ef-0ec1f81924d3",
   "metadata": {},
   "outputs": [],
   "source": [
    "gdf = gpd.read_parquet(f\"{DATA_PATH}parallel_or_intersecting.parquet\")\n",
    "highways= gpd.read_parquet(f\"{DATA_PATH}highways.parquet\")"
   ]
  },
  {
   "cell_type": "code",
   "execution_count": 8,
   "id": "a0321cc9-8aeb-413a-ac8a-c0e5411d9fcf",
   "metadata": {},
   "outputs": [],
   "source": [
    "gdf = gdf[gdf.itp_id==182].reset_index(drop=True)\n",
    "transit_routes = transit_routes[transit_routes.itp_id==182].reset_index(drop=True)"
   ]
  },
  {
   "cell_type": "code",
   "execution_count": 9,
   "id": "f88d7e73-5d5e-4548-9430-653f56fa33f5",
   "metadata": {},
   "outputs": [],
   "source": [
    "# Take a look at these routes that seem to get truncated with City of LA boundary\n",
    "\n",
    "keep_routes = [\"806\", \"40\", \"105\", \"108\", \"110\", \"111\"]\n",
    "\n",
    "for i in keep_routes:\n",
    "    transit_routes['keep'] = transit_routes.route_id.apply(lambda x: \n",
    "                                                           1 if any(i in x for i in keep_routes) \n",
    "                                                           else 0)\n",
    "    gdf['keep'] = gdf.route_id.apply(lambda x: \n",
    "                                     1 if any(i in x for i in keep_routes)\n",
    "                                     else 0\n",
    "                                    )"
   ]
  },
  {
   "cell_type": "code",
   "execution_count": 10,
   "id": "848fda87-97be-416f-a840-f331e92ff508",
   "metadata": {},
   "outputs": [],
   "source": [
    "gdf = gdf[gdf.keep==1].reset_index(drop=True)\n",
    "transit_routes = transit_routes[transit_routes.keep==1].reset_index(drop=True)"
   ]
  },
  {
   "cell_type": "markdown",
   "id": "f54d8ff9-6b8e-4267-9a5c-433735c11803",
   "metadata": {},
   "source": [
    "## Original Transit Routes"
   ]
  },
  {
   "cell_type": "code",
   "execution_count": 11,
   "id": "4c5db96e-2cb1-4cb0-8a88-c02ab22749c6",
   "metadata": {},
   "outputs": [
    {
     "data": {
      "image/png": "[encoded data removed]",
      "text/plain": [
       "<Figure size 864x576 with 1 Axes>"
      ]
     },
     "metadata": {},
     "output_type": "display_data"
    }
   ],
   "source": [
    "fig, ax = plt.subplots(figsize  = (12, 8))\n",
    "transit_routes.plot(column=\"route_id\", ax = ax)\n",
    "ax.set_axis_off()\n",
    "display(fig)\n",
    "plt.close()"
   ]
  },
  {
   "cell_type": "code",
   "execution_count": 12,
   "id": "7395dacc-a241-4afa-bfb9-a2ac5954acec",
   "metadata": {},
   "outputs": [
    {
     "data": {
      "text/plain": [
       "7"
      ]
     },
     "execution_count": 12,
     "metadata": {},
     "output_type": "execute_result"
    }
   ],
   "source": [
    "transit_routes.route_id.nunique()"
   ]
  },
  {
   "cell_type": "markdown",
   "id": "7568b762-6ad0-4fe9-a6b4-9d05ef9a88c1",
   "metadata": {},
   "source": [
    "## Processed Transit Routes\n",
    "\n",
    "Something is happening during the processing where the original geometry is getting lost. It looks like it's getting truncated with City of LA boundaries.\n",
    "\n",
    "Debug: maybe in the `gpd.overlay`, the highway `geometry` or highway `dissolve` by `RouteType` is affecting transit route geometry."
   ]
  },
  {
   "cell_type": "code",
   "execution_count": null,
   "id": "ee22c596-b749-459e-ac72-31d744ca82bf",
   "metadata": {},
   "outputs": [],
   "source": [
    "fig, ax = plt.subplots(figsize  = (12, 8))\n",
    "gdf.plot(column=\"route_id\", ax = ax)\n",
    "ax.set_axis_off()\n",
    "display(fig)\n",
    "plt.close()"
   ]
  },
  {
   "cell_type": "code",
   "execution_count": null,
   "id": "85fae5f5-0eec-4290-ac80-6458e2703c38",
   "metadata": {},
   "outputs": [],
   "source": [
    "gdf2 = gpd.overlay(transit_routes, highways, how = \"intersection\")  \n",
    "\n",
    "gdf2 = gdf2.assign(\n",
    "        pct_route = (gdf2.geometry.length / gdf2.route_length).round(3),\n",
    "        pct_highway = (gdf2.geometry.length / gdf2.highway_length).round(3),\n",
    "    )\n",
    "\n",
    "\n",
    "gdf2 = gdf2.assign(\n",
    "    pct_highway = gdf2.apply(lambda x: 1 if x.pct_highway > 1 \n",
    "                            else x.pct_highway, axis=1),\n",
    ")\n",
    "    "
   ]
  },
  {
   "cell_type": "code",
   "execution_count": null,
   "id": "8054da91-bfa0-40cf-a447-41f50013e1ce",
   "metadata": {},
   "outputs": [],
   "source": [
    "fig, ax = plt.subplots(figsize  = (12, 8))\n",
    "gdf2.plot(column=\"route_id\", ax = ax)\n",
    "ax.set_axis_off()\n",
    "display(fig)\n",
    "plt.close()"
   ]
  },
  {
   "cell_type": "markdown",
   "id": "c527efbf-8cba-4f7e-a755-9c9e571ea984",
   "metadata": {},
   "source": [
    "Interestingly, `create_parallel_corridors` doesn't indicate where the `overlay` geometry is reverted back to the original.\n",
    "\n",
    "But, the map doesn't show `overlay` geometry either, which is super tiny, it shows a larger aggregation. Where did this come from?"
   ]
  },
  {
   "cell_type": "markdown",
   "id": "25a5e847-38c5-45f1-ab61-c4f165ab96d9",
   "metadata": {},
   "source": [
    "Reconstruct file from `transit_routes` to `gdf` again, do the `gpd.overlay`, do a merge to bring back the correct geometry, and add those changes to `create_parallel_corridors`."
   ]
  },
  {
   "cell_type": "code",
   "execution_count": null,
   "id": "0ff07318-b8d6-4a92-a6df-00fc09244f8b",
   "metadata": {},
   "outputs": [],
   "source": [
    "gdf3 = pd.merge(transit_routes[[\"itp_id\", \"shape_id\", \"geometry\"]],\n",
    "        gdf2.drop(columns = \"geometry\"),\n",
    "         on = [\"itp_id\", \"shape_id\"],\n",
    "         how = \"outer\",\n",
    "        # Allow 1:m merge because the same transit route can overlap with various highways\n",
    "         validate = \"1:m\",\n",
    ")"
   ]
  },
  {
   "cell_type": "code",
   "execution_count": null,
   "id": "ef3b87c4-7ab6-4c37-b20b-495482879a64",
   "metadata": {},
   "outputs": [],
   "source": [
    "fig, ax = plt.subplots(figsize  = (12, 8))\n",
    "gdf3.plot(column=\"route_id\", ax = ax)\n",
    "ax.set_axis_off()\n",
    "display(fig)\n",
    "plt.close()"
   ]
  },
  {
   "cell_type": "markdown",
   "id": "48732da1-f697-4329-bd93-a4bb2e6cb327",
   "metadata": {},
   "source": [
    "## Try to create new files again"
   ]
  },
  {
   "cell_type": "code",
   "execution_count": null,
   "id": "ee763be0-38e2-42c8-90a4-94d7f127ae77",
   "metadata": {},
   "outputs": [],
   "source": [
    "from shared_utils import geography_utils\n",
    "\n",
    "routes_assembled = gpd.read_parquet(\"../traffic_ops/data/routes_assembled.parquet\")"
   ]
  },
  {
   "cell_type": "code",
   "execution_count": null,
   "id": "3a2f11e5-ecb5-4eac-ad51-1aa216e7f743",
   "metadata": {},
   "outputs": [],
   "source": [
    "create_parallel_corridors.make_analysis_data(\n",
    "    hwy_buffer_feet= geography_utils.FEET_PER_MI, \n",
    "    alternate_df = routes_assembled,\n",
    "    pct_route_threshold = 0.3,\n",
    "    pct_highway_threshold = 0.1,\n",
    "    DATA_PATH = create_parallel_corridors.DATA_PATH, \n",
    "    FILE_NAME = \"parallel_or_intersecting2\"\n",
    ")"
   ]
  },
  {
   "cell_type": "code",
   "execution_count": 2,
   "id": "a01a2eeb-c40a-4577-b1b3-d0a9e9c7e7b6",
   "metadata": {},
   "outputs": [],
   "source": [
    "fixed = gpd.read_parquet(f\"{DATA_PATH}parallel_or_intersecting2.parquet\")"
   ]
  },
  {
   "cell_type": "code",
   "execution_count": 3,
   "id": "f48bf763-d878-4228-9663-b43b1f75137b",
   "metadata": {},
   "outputs": [],
   "source": [
    "fixed = fixed[fixed.itp_id==182]\n",
    "\n",
    "keep_routes = [\"806\", \"40\", \"105\", \"108\", \"110\", \"111\"]\n",
    "\n",
    "fixed['keep'] = fixed.route_id.apply(lambda x: \n",
    "                                 1 if any(i in x for i in keep_routes)\n",
    "                                 else 0\n",
    "                                )\n",
    "\n",
    "fixed = fixed[fixed.keep==1].reset_index(drop=True)"
   ]
  },
  {
   "cell_type": "code",
   "execution_count": 4,
   "id": "ce616f46-2eb8-46e8-9b3c-3f464efb71d6",
   "metadata": {},
   "outputs": [
    {
     "data": {
      "image/png": "[encoded data removed]",
      "text/plain": [
       "<Figure size 864x576 with 1 Axes>"
      ]
     },
     "metadata": {},
     "output_type": "display_data"
    }
   ],
   "source": [
    "fig, ax = plt.subplots(figsize  = (12, 8))\n",
    "fixed.plot(column=\"route_id\", ax = ax)\n",
    "ax.set_axis_off()\n",
    "display(fig)\n",
    "plt.close()"
   ]
  },
  {
   "cell_type": "code",
   "execution_count": 5,
   "id": "5de0380d-2397-4a07-9895-cc8f162db40e",
   "metadata": {},
   "outputs": [
    {
     "data": {
      "text/plain": [
       "7"
      ]
     },
     "execution_count": 5,
     "metadata": {},
     "output_type": "execute_result"
    }
   ],
   "source": [
    "fixed.route_id.nunique()"
   ]
  },
  {
   "cell_type": "code",
   "execution_count": null,
   "id": "9d09f90a-acb9-4f2a-b2b2-95f4cd0c2284",
   "metadata": {},
   "outputs": [],
   "source": []
  }
 ],
 "metadata": {
  "kernelspec": {
   "display_name": "Python 3 (ipykernel)",
   "language": "python",
   "name": "python3"
  },
  "language_info": {
   "codemirror_mode": {
    "name": "ipython",
    "version": 3
   },
   "file_extension": ".py",
   "mimetype": "text/x-python",
   "name": "python",
   "nbconvert_exporter": "python",
   "pygments_lexer": "ipython3",
   "version": "3.9.7"
  }
 },
 "nbformat": 4,
 "nbformat_minor": 5
}
