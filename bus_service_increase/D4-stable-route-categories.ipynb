{
 "cells": [
  {
   "cell_type": "markdown",
   "id": "037b6307-b03d-4630-9e99-00c94fcae40d",
   "metadata": {},
   "source": [
    "# Are route categories stable quarter to quarter?\n",
    "\n",
    "If a `route_id` is `parallel` in one quarter, would it change to `on_shn` in another? It should be pretty stable, since how often would a bus route drastically deviate from its original route? \n",
    "\n",
    "Freeways don't change quarter to quarter.\n",
    "\n",
    "Why are there large shifts in what's considered parallel vs not from Q1 2022 to Q2 2022?"
   ]
  },
  {
   "cell_type": "code",
   "execution_count": 1,
   "id": "519e516a-f08e-44c4-9315-2f1848991ba8",
   "metadata": {},
   "outputs": [
    {
     "name": "stderr",
     "output_type": "stream",
     "text": [
      "/opt/conda/lib/python3.10/site-packages/geopandas/_compat.py:111: UserWarning: The Shapely GEOS version (3.10.2-CAPI-1.16.0) is incompatible with the GEOS version PyGEOS was compiled with (3.10.1-CAPI-1.16.0). Conversions between both will be slow.\n",
      "  warnings.warn(\n"
     ]
    }
   ],
   "source": [
    "import pandas as pd\n",
    "\n",
    "import pmac_utils\n",
    "from shared_utils import rt_dates"
   ]
  },
  {
   "cell_type": "code",
   "execution_count": 2,
   "id": "4f723d37-9ee1-4184-9b8e-e641debb5de4",
   "metadata": {},
   "outputs": [],
   "source": [
    "dfs = {}\n",
    "for key, date in rt_dates.PMAC.items():\n",
    "    df = pmac_utils.flag_parallel_intersecting_routes(date)\n",
    "    dfs[key] = df"
   ]
  },
  {
   "cell_type": "code",
   "execution_count": 3,
   "id": "212768d2-44d6-4751-9d6b-3308e95b8f9d",
   "metadata": {},
   "outputs": [],
   "source": [
    "keep_cols = [\n",
    "    \"itp_id\", \"category\", \"route_id\", \n",
    "    \"District\", \"_merge\"\n",
    "]\n",
    "\n",
    "df1 = dfs[\"Q1_2022\"][keep_cols]\n",
    "df2 = dfs[\"Q2_2022\"][keep_cols]"
   ]
  },
  {
   "cell_type": "code",
   "execution_count": 4,
   "id": "12a837d8-6849-44c7-9f05-733d78809349",
   "metadata": {},
   "outputs": [],
   "source": [
    "m1 = pd.merge(\n",
    "    df1, \n",
    "    df2,\n",
    "    on = [\"itp_id\", \"route_id\", \"District\"],\n",
    "    how = \"outer\",\n",
    "    validate = \"1:1\",\n",
    "    indicator=\"compare_categories\"\n",
    ")"
   ]
  },
  {
   "cell_type": "code",
   "execution_count": 5,
   "id": "1af5f380-1eb4-4fa4-b3f9-607648128893",
   "metadata": {},
   "outputs": [
    {
     "data": {
      "text/plain": [
       "4431"
      ]
     },
     "execution_count": 5,
     "metadata": {},
     "output_type": "execute_result"
    }
   ],
   "source": [
    "len(m1)"
   ]
  },
  {
   "cell_type": "code",
   "execution_count": 6,
   "id": "5482a309-8825-4e14-928c-29bb594d9d60",
   "metadata": {},
   "outputs": [
    {
     "data": {
      "text/plain": [
       "right_only    1639\n",
       "left_only     1450\n",
       "both          1342\n",
       "Name: compare_categories, dtype: int64"
      ]
     },
     "execution_count": 6,
     "metadata": {},
     "output_type": "execute_result"
    }
   ],
   "source": [
    "m1.compare_categories.value_counts()"
   ]
  },
  {
   "cell_type": "code",
   "execution_count": 7,
   "id": "38ac3363-1082-4b84-966a-adf2d9643def",
   "metadata": {},
   "outputs": [],
   "source": [
    "m2 = pd.merge(\n",
    "    df1, \n",
    "    df2,\n",
    "    on = [\"itp_id\", \"route_id\"],\n",
    "    how = \"outer\",\n",
    "    validate = \"1:1\",\n",
    "    indicator=\"compare_categories\"\n",
    ")"
   ]
  },
  {
   "cell_type": "code",
   "execution_count": 8,
   "id": "9bd3b062-354d-4c2c-9638-ad75fa2cd0e0",
   "metadata": {},
   "outputs": [
    {
     "data": {
      "text/plain": [
       "both          2421\n",
       "right_only     560\n",
       "left_only      371\n",
       "Name: compare_categories, dtype: int64"
      ]
     },
     "execution_count": 8,
     "metadata": {},
     "output_type": "execute_result"
    }
   ],
   "source": [
    "m2.compare_categories.value_counts()"
   ]
  },
  {
   "cell_type": "markdown",
   "id": "18e2d4ce-2ade-4218-b548-cc73ccacc3d1",
   "metadata": {},
   "source": [
    "Appears that adding `District` as a merge variable is what's throwing a lot of stuff off. It depends on what is kept for the `route_id-hwy` overlap, since `District` comes from the hwy segment. Let's just find the `District` as the last step in `pmac_utils`."
   ]
  },
  {
   "cell_type": "code",
   "execution_count": 13,
   "id": "5fc6f45f-5e68-4e31-8e3c-d97ac090fedd",
   "metadata": {},
   "outputs": [],
   "source": [
    "from D1_pmac_routes import TRAFFIC_OPS_GCS\n",
    "from utils import GCS_FILE_PATH\n",
    "import geopandas as gpd\n",
    "\n",
    "date_str = \"2022-02-08\""
   ]
  },
  {
   "cell_type": "code",
   "execution_count": 15,
   "id": "02a76dec-d4c1-497a-8bc0-9abd608a9456",
   "metadata": {},
   "outputs": [],
   "source": [
    "trips_with_hrs = pd.read_parquet(\n",
    "    f\"{GCS_FILE_PATH}trips_with_hrs_{date_str}.parquet\")\n",
    "\n",
    "routelines = gpd.read_parquet(\n",
    "        f\"{TRAFFIC_OPS_GCS}routelines_{date_str}.parquet\")"
   ]
  },
  {
   "cell_type": "code",
   "execution_count": 19,
   "id": "2d1484ba-68ed-496b-8039-0ec0e658e33e",
   "metadata": {},
   "outputs": [],
   "source": [
    "routes = pd.merge(\n",
    "    routelines.drop_duplicates(subset=[\"calitp_itp_id\", \"shape_id\"])[[\"calitp_itp_id\", \"shape_id\", \"geometry\"]],\n",
    "    trips_with_hrs[[\"calitp_itp_id\", \"shape_id\", \"route_id\"]],\n",
    "    on = [\"calitp_itp_id\", \"shape_id\"],\n",
    "    how = \"outer\",\n",
    "    validate = \"1:m\",\n",
    "    indicator=True\n",
    ")"
   ]
  },
  {
   "cell_type": "code",
   "execution_count": 20,
   "id": "5f4c8b4a-73e8-4b5d-b39d-509314a5d657",
   "metadata": {},
   "outputs": [
    {
     "data": {
      "text/plain": [
       "both          8070\n",
       "right_only     354\n",
       "left_only       16\n",
       "Name: _merge, dtype: int64"
      ]
     },
     "execution_count": 20,
     "metadata": {},
     "output_type": "execute_result"
    }
   ],
   "source": [
    "routes._merge.value_counts()"
   ]
  },
  {
   "cell_type": "code",
   "execution_count": 24,
   "id": "9b0122da-0534-40b7-9aa5-505749afc8b7",
   "metadata": {},
   "outputs": [
    {
     "data": {
      "text/html": [
       "<div>\n",
       "<style scoped>\n",
       "    .dataframe tbody tr th:only-of-type {\n",
       "        vertical-align: middle;\n",
       "    }\n",
       "\n",
       "    .dataframe tbody tr th {\n",
       "        vertical-align: top;\n",
       "    }\n",
       "\n",
       "    .dataframe thead th {\n",
       "        text-align: right;\n",
       "    }\n",
       "</style>\n",
       "<table border=\"1\" class=\"dataframe\">\n",
       "  <thead>\n",
       "    <tr style=\"text-align: right;\">\n",
       "      <th></th>\n",
       "      <th>calitp_itp_id</th>\n",
       "      <th>shape_id</th>\n",
       "      <th>geometry</th>\n",
       "      <th>route_id</th>\n",
       "      <th>_merge</th>\n",
       "    </tr>\n",
       "  </thead>\n",
       "  <tbody>\n",
       "    <tr>\n",
       "      <th>8095</th>\n",
       "      <td>323</td>\n",
       "      <td>None</td>\n",
       "      <td>None</td>\n",
       "      <td>Inland Emp.-Orange Co. Line</td>\n",
       "      <td>right_only</td>\n",
       "    </tr>\n",
       "    <tr>\n",
       "      <th>8096</th>\n",
       "      <td>323</td>\n",
       "      <td>None</td>\n",
       "      <td>None</td>\n",
       "      <td>91 Line</td>\n",
       "      <td>right_only</td>\n",
       "    </tr>\n",
       "    <tr>\n",
       "      <th>8097</th>\n",
       "      <td>323</td>\n",
       "      <td>None</td>\n",
       "      <td>None</td>\n",
       "      <td>San Bernardino Line</td>\n",
       "      <td>right_only</td>\n",
       "    </tr>\n",
       "    <tr>\n",
       "      <th>8098</th>\n",
       "      <td>323</td>\n",
       "      <td>None</td>\n",
       "      <td>None</td>\n",
       "      <td>Orange County Line</td>\n",
       "      <td>right_only</td>\n",
       "    </tr>\n",
       "    <tr>\n",
       "      <th>8099</th>\n",
       "      <td>323</td>\n",
       "      <td>None</td>\n",
       "      <td>None</td>\n",
       "      <td>Antelope Valley Line</td>\n",
       "      <td>right_only</td>\n",
       "    </tr>\n",
       "    <tr>\n",
       "      <th>8100</th>\n",
       "      <td>323</td>\n",
       "      <td>None</td>\n",
       "      <td>None</td>\n",
       "      <td>Riverside Line</td>\n",
       "      <td>right_only</td>\n",
       "    </tr>\n",
       "    <tr>\n",
       "      <th>8101</th>\n",
       "      <td>323</td>\n",
       "      <td>None</td>\n",
       "      <td>None</td>\n",
       "      <td>LAX FlyAway Bus</td>\n",
       "      <td>right_only</td>\n",
       "    </tr>\n",
       "    <tr>\n",
       "      <th>8102</th>\n",
       "      <td>323</td>\n",
       "      <td>None</td>\n",
       "      <td>None</td>\n",
       "      <td>Ventura County Line</td>\n",
       "      <td>right_only</td>\n",
       "    </tr>\n",
       "  </tbody>\n",
       "</table>\n",
       "</div>"
      ],
      "text/plain": [
       "      calitp_itp_id shape_id geometry                     route_id      _merge\n",
       "8095            323     None     None  Inland Emp.-Orange Co. Line  right_only\n",
       "8096            323     None     None                      91 Line  right_only\n",
       "8097            323     None     None          San Bernardino Line  right_only\n",
       "8098            323     None     None           Orange County Line  right_only\n",
       "8099            323     None     None         Antelope Valley Line  right_only\n",
       "8100            323     None     None               Riverside Line  right_only\n",
       "8101            323     None     None              LAX FlyAway Bus  right_only\n",
       "8102            323     None     None          Ventura County Line  right_only"
      ]
     },
     "execution_count": 24,
     "metadata": {},
     "output_type": "execute_result"
    }
   ],
   "source": [
    "routes[(routes._merge=='right_only') & (routes.calitp_itp_id==323)]"
   ]
  },
  {
   "cell_type": "code",
   "execution_count": 25,
   "id": "af2cab80-8684-4a17-b265-4810ab5da433",
   "metadata": {},
   "outputs": [
    {
     "data": {
      "text/html": [
       "<div>\n",
       "<style scoped>\n",
       "    .dataframe tbody tr th:only-of-type {\n",
       "        vertical-align: middle;\n",
       "    }\n",
       "\n",
       "    .dataframe tbody tr th {\n",
       "        vertical-align: top;\n",
       "    }\n",
       "\n",
       "    .dataframe thead th {\n",
       "        text-align: right;\n",
       "    }\n",
       "</style>\n",
       "<table border=\"1\" class=\"dataframe\">\n",
       "  <thead>\n",
       "    <tr style=\"text-align: right;\">\n",
       "      <th></th>\n",
       "      <th>calitp_itp_id</th>\n",
       "      <th>shape_id</th>\n",
       "      <th>geometry</th>\n",
       "      <th>route_id</th>\n",
       "      <th>_merge</th>\n",
       "    </tr>\n",
       "  </thead>\n",
       "  <tbody>\n",
       "    <tr>\n",
       "      <th>7132</th>\n",
       "      <td>323</td>\n",
       "      <td>OCout</td>\n",
       "      <td>LINESTRING (162954.612 -438637.892, 163173.290...</td>\n",
       "      <td>NaN</td>\n",
       "      <td>left_only</td>\n",
       "    </tr>\n",
       "    <tr>\n",
       "      <th>7133</th>\n",
       "      <td>323</td>\n",
       "      <td>91in</td>\n",
       "      <td>LINESTRING (258892.478 -468536.137, 258638.176...</td>\n",
       "      <td>NaN</td>\n",
       "      <td>left_only</td>\n",
       "    </tr>\n",
       "    <tr>\n",
       "      <th>7134</th>\n",
       "      <td>323</td>\n",
       "      <td>AVout</td>\n",
       "      <td>LINESTRING (162954.612 -438637.892, 163173.290...</td>\n",
       "      <td>NaN</td>\n",
       "      <td>left_only</td>\n",
       "    </tr>\n",
       "    <tr>\n",
       "      <th>7135</th>\n",
       "      <td>323</td>\n",
       "      <td>IEOCout</td>\n",
       "      <td>LINESTRING (248145.884 -431048.582, 247615.383...</td>\n",
       "      <td>NaN</td>\n",
       "      <td>left_only</td>\n",
       "    </tr>\n",
       "    <tr>\n",
       "      <th>7136</th>\n",
       "      <td>323</td>\n",
       "      <td>SBin</td>\n",
       "      <td>LINESTRING (249601.968 -431680.896, 248960.682...</td>\n",
       "      <td>NaN</td>\n",
       "      <td>left_only</td>\n",
       "    </tr>\n",
       "    <tr>\n",
       "      <th>7137</th>\n",
       "      <td>323</td>\n",
       "      <td>SBout</td>\n",
       "      <td>LINESTRING (162954.612 -438637.892, 163151.478...</td>\n",
       "      <td>NaN</td>\n",
       "      <td>left_only</td>\n",
       "    </tr>\n",
       "    <tr>\n",
       "      <th>7138</th>\n",
       "      <td>323</td>\n",
       "      <td>AVin</td>\n",
       "      <td>LINESTRING (170662.592 -367194.989, 172889.895...</td>\n",
       "      <td>NaN</td>\n",
       "      <td>left_only</td>\n",
       "    </tr>\n",
       "    <tr>\n",
       "      <th>7139</th>\n",
       "      <td>323</td>\n",
       "      <td>91out</td>\n",
       "      <td>LINESTRING (163047.441 -438436.345, 163073.740...</td>\n",
       "      <td>NaN</td>\n",
       "      <td>left_only</td>\n",
       "    </tr>\n",
       "    <tr>\n",
       "      <th>7140</th>\n",
       "      <td>323</td>\n",
       "      <td>OCin</td>\n",
       "      <td>LINESTRING (244904.298 -532848.371, 243730.522...</td>\n",
       "      <td>NaN</td>\n",
       "      <td>left_only</td>\n",
       "    </tr>\n",
       "    <tr>\n",
       "      <th>7141</th>\n",
       "      <td>323</td>\n",
       "      <td>VTout</td>\n",
       "      <td>LINESTRING (73572.297 -417982.936, 73546.502 -...</td>\n",
       "      <td>NaN</td>\n",
       "      <td>left_only</td>\n",
       "    </tr>\n",
       "    <tr>\n",
       "      <th>7142</th>\n",
       "      <td>323</td>\n",
       "      <td>RIVERout</td>\n",
       "      <td>LINESTRING (162954.612 -438637.892, 163010.719...</td>\n",
       "      <td>NaN</td>\n",
       "      <td>left_only</td>\n",
       "    </tr>\n",
       "    <tr>\n",
       "      <th>7143</th>\n",
       "      <td>323</td>\n",
       "      <td>IEOCin</td>\n",
       "      <td>LINESTRING (244904.298 -532848.371, 243730.522...</td>\n",
       "      <td>NaN</td>\n",
       "      <td>left_only</td>\n",
       "    </tr>\n",
       "    <tr>\n",
       "      <th>7144</th>\n",
       "      <td>323</td>\n",
       "      <td>VTin</td>\n",
       "      <td>LINESTRING (73572.297 -417982.936, 73546.502 -...</td>\n",
       "      <td>NaN</td>\n",
       "      <td>left_only</td>\n",
       "    </tr>\n",
       "    <tr>\n",
       "      <th>7145</th>\n",
       "      <td>323</td>\n",
       "      <td>LAXin</td>\n",
       "      <td>LINESTRING (163002.328 -438626.796, 147480.396...</td>\n",
       "      <td>NaN</td>\n",
       "      <td>left_only</td>\n",
       "    </tr>\n",
       "    <tr>\n",
       "      <th>7146</th>\n",
       "      <td>323</td>\n",
       "      <td>LAXout</td>\n",
       "      <td>LINESTRING (147480.396 -451269.608, 163002.328...</td>\n",
       "      <td>NaN</td>\n",
       "      <td>left_only</td>\n",
       "    </tr>\n",
       "    <tr>\n",
       "      <th>7147</th>\n",
       "      <td>323</td>\n",
       "      <td>RIVERin</td>\n",
       "      <td>LINESTRING (243019.334 -445533.224, 242520.213...</td>\n",
       "      <td>NaN</td>\n",
       "      <td>left_only</td>\n",
       "    </tr>\n",
       "  </tbody>\n",
       "</table>\n",
       "</div>"
      ],
      "text/plain": [
       "      calitp_itp_id  shape_id  \\\n",
       "7132            323     OCout   \n",
       "7133            323      91in   \n",
       "7134            323     AVout   \n",
       "7135            323   IEOCout   \n",
       "7136            323      SBin   \n",
       "7137            323     SBout   \n",
       "7138            323      AVin   \n",
       "7139            323     91out   \n",
       "7140            323      OCin   \n",
       "7141            323     VTout   \n",
       "7142            323  RIVERout   \n",
       "7143            323    IEOCin   \n",
       "7144            323      VTin   \n",
       "7145            323     LAXin   \n",
       "7146            323    LAXout   \n",
       "7147            323   RIVERin   \n",
       "\n",
       "                                               geometry route_id     _merge  \n",
       "7132  LINESTRING (162954.612 -438637.892, 163173.290...      NaN  left_only  \n",
       "7133  LINESTRING (258892.478 -468536.137, 258638.176...      NaN  left_only  \n",
       "7134  LINESTRING (162954.612 -438637.892, 163173.290...      NaN  left_only  \n",
       "7135  LINESTRING (248145.884 -431048.582, 247615.383...      NaN  left_only  \n",
       "7136  LINESTRING (249601.968 -431680.896, 248960.682...      NaN  left_only  \n",
       "7137  LINESTRING (162954.612 -438637.892, 163151.478...      NaN  left_only  \n",
       "7138  LINESTRING (170662.592 -367194.989, 172889.895...      NaN  left_only  \n",
       "7139  LINESTRING (163047.441 -438436.345, 163073.740...      NaN  left_only  \n",
       "7140  LINESTRING (244904.298 -532848.371, 243730.522...      NaN  left_only  \n",
       "7141  LINESTRING (73572.297 -417982.936, 73546.502 -...      NaN  left_only  \n",
       "7142  LINESTRING (162954.612 -438637.892, 163010.719...      NaN  left_only  \n",
       "7143  LINESTRING (244904.298 -532848.371, 243730.522...      NaN  left_only  \n",
       "7144  LINESTRING (73572.297 -417982.936, 73546.502 -...      NaN  left_only  \n",
       "7145  LINESTRING (163002.328 -438626.796, 147480.396...      NaN  left_only  \n",
       "7146  LINESTRING (147480.396 -451269.608, 163002.328...      NaN  left_only  \n",
       "7147  LINESTRING (243019.334 -445533.224, 242520.213...      NaN  left_only  "
      ]
     },
     "execution_count": 25,
     "metadata": {},
     "output_type": "execute_result"
    }
   ],
   "source": [
    "routes[routes._merge=='left_only']"
   ]
  },
  {
   "cell_type": "code",
   "execution_count": null,
   "id": "d422aa97-4df8-4910-a388-035b31ed2d7c",
   "metadata": {},
   "outputs": [],
   "source": []
  }
 ],
 "metadata": {
  "kernelspec": {
   "display_name": "Python 3 (ipykernel)",
   "language": "python",
   "name": "python3"
  },
  "language_info": {
   "codemirror_mode": {
    "name": "ipython",
    "version": 3
   },
   "file_extension": ".py",
   "mimetype": "text/x-python",
   "name": "python",
   "nbconvert_exporter": "python",
   "pygments_lexer": "ipython3",
   "version": "3.10.4"
  }
 },
 "nbformat": 4,
 "nbformat_minor": 5
}
