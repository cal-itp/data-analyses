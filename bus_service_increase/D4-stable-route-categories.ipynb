{
 "cells": [
  {
   "cell_type": "markdown",
   "id": "037b6307-b03d-4630-9e99-00c94fcae40d",
   "metadata": {},
   "source": [
    "# Are route categories stable quarter to quarter?\n",
    "\n",
    "If a `route_id` is `parallel` in one quarter, would it change to `on_shn` in another? It should be pretty stable, since how often would a bus route drastically deviate from its original route? \n",
    "\n",
    "Freeways don't change quarter to quarter.\n",
    "\n",
    "Why are there large shifts in what's considered parallel vs not from Q1 2022 to Q2 2022?"
   ]
  },
  {
   "cell_type": "code",
   "execution_count": 1,
   "id": "519e516a-f08e-44c4-9315-2f1848991ba8",
   "metadata": {},
   "outputs": [
    {
     "name": "stderr",
     "output_type": "stream",
     "text": [
      "/opt/conda/lib/python3.10/site-packages/geopandas/_compat.py:112: UserWarning: The Shapely GEOS version (3.10.3-CAPI-1.16.1) is incompatible with the GEOS version PyGEOS was compiled with (3.10.1-CAPI-1.16.0). Conversions between both will be slow.\n",
      "  warnings.warn(\n"
     ]
    }
   ],
   "source": [
    "import pandas as pd\n",
    "\n",
    "import pmac_utils\n",
    "from shared_utils import rt_dates"
   ]
  },
  {
   "cell_type": "code",
   "execution_count": 2,
   "id": "4f723d37-9ee1-4184-9b8e-e641debb5de4",
   "metadata": {},
   "outputs": [],
   "source": [
    "dfs = {}\n",
    "for key, date in rt_dates.PMAC.items():\n",
    "    df = pmac_utils.flag_parallel_intersecting_routes(date)\n",
    "    dfs[key] = df"
   ]
  },
  {
   "cell_type": "code",
   "execution_count": 3,
   "id": "212768d2-44d6-4751-9d6b-3308e95b8f9d",
   "metadata": {},
   "outputs": [],
   "source": [
    "keep_cols = [\n",
    "    \"itp_id\", \"category\", \"route_id\", \n",
    "    \"_merge\", \"District\"\n",
    "]\n",
    "\n",
    "df1 = dfs[\"Q1_2022\"][keep_cols]\n",
    "df2 = dfs[\"Q2_2022\"][keep_cols]"
   ]
  },
  {
   "cell_type": "code",
   "execution_count": 4,
   "id": "bbbea287-3737-4eae-8c78-ebb388e5c382",
   "metadata": {},
   "outputs": [],
   "source": [
    "def compare_col(df1, df2, col):\n",
    "    print(df1[col].value_counts())\n",
    "    print(df2[col].value_counts())\n",
    "    print(df1[col].value_counts(normalize=True))\n",
    "    print(df2[col].value_counts(normalize=True))"
   ]
  },
  {
   "cell_type": "code",
   "execution_count": 5,
   "id": "6b0c0c1b-f1f4-4bdd-aa09-a4afd03525ca",
   "metadata": {},
   "outputs": [
    {
     "name": "stdout",
     "output_type": "stream",
     "text": [
      "parallel    1977\n",
      "other        738\n",
      "on_shn        59\n",
      "Name: category, dtype: int64\n",
      "parallel    1997\n",
      "other        918\n",
      "on_shn        66\n",
      "Name: category, dtype: int64\n",
      "parallel    0.712689\n",
      "other       0.266042\n",
      "on_shn      0.021269\n",
      "Name: category, dtype: float64\n",
      "parallel    0.669909\n",
      "other       0.307950\n",
      "on_shn      0.022140\n",
      "Name: category, dtype: float64\n"
     ]
    }
   ],
   "source": [
    "compare_col(df1, df2, \"category\")"
   ]
  },
  {
   "cell_type": "code",
   "execution_count": 6,
   "id": "4a36a890-7cf0-4333-836c-f8660118cd46",
   "metadata": {},
   "outputs": [
    {
     "name": "stdout",
     "output_type": "stream",
     "text": [
      "4.0     842\n",
      "7.0     661\n",
      "3.0     200\n",
      "8.0     151\n",
      "11.0    145\n",
      "5.0     128\n",
      "12.0    115\n",
      "6.0     114\n",
      "10.0     87\n",
      "1.0      72\n",
      "2.0      52\n",
      "9.0      25\n",
      "Name: District, dtype: int64\n",
      "4.0     767\n",
      "7.0     700\n",
      "3.0     204\n",
      "8.0     161\n",
      "11.0    146\n",
      "10.0    129\n",
      "5.0     123\n",
      "6.0     118\n",
      "12.0    118\n",
      "1.0      75\n",
      "2.0      61\n",
      "9.0      22\n",
      "Name: District, dtype: int64\n",
      "4.0     0.324846\n",
      "7.0     0.255015\n",
      "3.0     0.077160\n",
      "8.0     0.058256\n",
      "11.0    0.055941\n",
      "5.0     0.049383\n",
      "12.0    0.044367\n",
      "6.0     0.043981\n",
      "10.0    0.033565\n",
      "1.0     0.027778\n",
      "2.0     0.020062\n",
      "9.0     0.009645\n",
      "Name: District, dtype: float64\n",
      "4.0     0.292302\n",
      "7.0     0.266768\n",
      "3.0     0.077744\n",
      "8.0     0.061357\n",
      "11.0    0.055640\n",
      "10.0    0.049162\n",
      "5.0     0.046875\n",
      "6.0     0.044970\n",
      "12.0    0.044970\n",
      "1.0     0.028582\n",
      "2.0     0.023247\n",
      "9.0     0.008384\n",
      "Name: District, dtype: float64\n"
     ]
    }
   ],
   "source": [
    "compare_col(df1, df2, \"District\")"
   ]
  },
  {
   "cell_type": "code",
   "execution_count": 7,
   "id": "12a837d8-6849-44c7-9f05-733d78809349",
   "metadata": {},
   "outputs": [],
   "source": [
    "m1 = pd.merge(\n",
    "    df1, \n",
    "    df2,\n",
    "    on = [\"itp_id\", \"route_id\"],\n",
    "    how = \"outer\",\n",
    "    validate = \"1:1\",\n",
    "    indicator=\"compare_categories\"\n",
    ")"
   ]
  },
  {
   "cell_type": "code",
   "execution_count": 8,
   "id": "5482a309-8825-4e14-928c-29bb594d9d60",
   "metadata": {},
   "outputs": [
    {
     "data": {
      "text/plain": [
       "both          2404\n",
       "right_only     577\n",
       "left_only      370\n",
       "Name: compare_categories, dtype: int64"
      ]
     },
     "execution_count": 8,
     "metadata": {},
     "output_type": "execute_result"
    }
   ],
   "source": [
    "m1.compare_categories.value_counts()"
   ]
  },
  {
   "cell_type": "code",
   "execution_count": 9,
   "id": "2ec0413a-3ec0-49bb-aaf6-96866554480e",
   "metadata": {},
   "outputs": [],
   "source": [
    "in_both = m1[(m1.compare_categories==\"both\")]"
   ]
  },
  {
   "cell_type": "code",
   "execution_count": 10,
   "id": "38359bf6-37d3-4aa1-90f4-ae43720061a2",
   "metadata": {},
   "outputs": [
    {
     "data": {
      "text/plain": [
       "(2404, 9)"
      ]
     },
     "execution_count": 10,
     "metadata": {},
     "output_type": "execute_result"
    }
   ],
   "source": [
    "in_both.shape"
   ]
  },
  {
   "cell_type": "code",
   "execution_count": 11,
   "id": "80cc287d-89dc-4563-80f9-a2fc029036ed",
   "metadata": {},
   "outputs": [
    {
     "data": {
      "text/plain": [
       "(194, 9)"
      ]
     },
     "execution_count": 11,
     "metadata": {},
     "output_type": "execute_result"
    }
   ],
   "source": [
    "in_both[(in_both.category_x != in_both.category_y)].shape"
   ]
  },
  {
   "cell_type": "code",
   "execution_count": null,
   "id": "7f6628ea-5f21-46c2-9a57-81d3d7a4041e",
   "metadata": {},
   "outputs": [],
   "source": []
  }
 ],
 "metadata": {
  "kernelspec": {
   "display_name": "Python 3 (ipykernel)",
   "language": "python",
   "name": "python3"
  },
  "language_info": {
   "codemirror_mode": {
    "name": "ipython",
    "version": 3
   },
   "file_extension": ".py",
   "mimetype": "text/x-python",
   "name": "python",
   "nbconvert_exporter": "python",
   "pygments_lexer": "ipython3",
   "version": "3.10.5"
  }
 },
 "nbformat": 4,
 "nbformat_minor": 5
}
