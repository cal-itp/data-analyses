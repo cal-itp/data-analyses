{
 "cells": [
  {
   "cell_type": "markdown",
   "id": "8815d9eb-65f8-4d67-98fa-7d818f8cd725",
   "metadata": {},
   "source": [
    "# Investigate missing RT speed info\n",
    "\n",
    "* Use `rt_vs_schedule` table for 5/4/22 to see what % of scheduled trips had corresponding RT info"
   ]
  },
  {
   "cell_type": "code",
   "execution_count": 1,
   "id": "cb2bf9d6-5ae2-4959-87aa-05192db53952",
   "metadata": {},
   "outputs": [
    {
     "name": "stderr",
     "output_type": "stream",
     "text": [
      "/opt/conda/lib/python3.10/site-packages/geopandas/_compat.py:112: UserWarning: The Shapely GEOS version (3.10.3-CAPI-1.16.1) is incompatible with the GEOS version PyGEOS was compiled with (3.10.1-CAPI-1.16.0). Conversions between both will be slow.\n"
     ]
    }
   ],
   "source": [
    "import os\n",
    "os.environ[\"CALITP_BQ_MAX_BYTES\"] = str(200_000_000_000)\n",
    "\n",
    "import intake\n",
    "import pandas as pd\n",
    "\n",
    "from calitp.magics import query_sql\n",
    "from E0_bus_oppor_vars import GCS_FILE_PATH, ANALYSIS_DATE\n",
    "\n",
    "catalog = intake.open_catalog(\"*.yml\")"
   ]
  },
  {
   "cell_type": "code",
   "execution_count": 2,
   "id": "2d7e9d7a-2c7b-448e-b51d-33e0e2f4f5eb",
   "metadata": {},
   "outputs": [
    {
     "data": {
      "text/plain": [
       "'\\nquery = \"\"\"\\nSELECT *\\nFROM `cal-itp-data-infra-staging.natalie_views.gtfs_rt_vs_schedule_trips_may4_sample`\\n\\n\"\"\"\\n\\nrt_vs_sched = query_sql(query)\\n\\nrt_vs_sched.to_parquet(\\n    f\"{GCS_FILE_PATH}rt_vs_schedule_{ANALYSIS_DATE}.parquet\")\\n'"
      ]
     },
     "execution_count": 2,
     "metadata": {},
     "output_type": "execute_result"
    }
   ],
   "source": [
    "'''\n",
    "query = \"\"\"\n",
    "SELECT *\n",
    "FROM `cal-itp-data-infra-staging.natalie_views.gtfs_rt_vs_schedule_trips_may4_sample`\n",
    "\n",
    "\"\"\"\n",
    "\n",
    "rt_vs_sched = query_sql(query)\n",
    "\n",
    "rt_vs_sched.to_parquet(\n",
    "    f\"{GCS_FILE_PATH}rt_vs_schedule_{ANALYSIS_DATE}.parquet\")\n",
    "'''"
   ]
  },
  {
   "cell_type": "code",
   "execution_count": 3,
   "id": "c51607a1-a7af-4646-8905-293c207f4c39",
   "metadata": {},
   "outputs": [],
   "source": [
    "bus_routes = catalog.bus_routes_aggregated_stats.read()"
   ]
  },
  {
   "cell_type": "code",
   "execution_count": 4,
   "id": "de559cd9-8e62-4925-bffe-d69e433c17ed",
   "metadata": {},
   "outputs": [],
   "source": [
    "keep_cols = [\n",
    "    \"calitp_itp_id\", \"route_id\", \n",
    "     \"trips_all_day\",\n",
    "     \"num_competitive\",\n",
    "     \"mean_speed_mph\"\n",
    "]\n",
    "\n",
    "route_table = bus_routes[keep_cols].drop_duplicates()"
   ]
  },
  {
   "cell_type": "code",
   "execution_count": 5,
   "id": "870550b3-d75e-46bc-b79b-2115d85a4538",
   "metadata": {},
   "outputs": [
    {
     "data": {
      "text/plain": [
       "(465, 2)"
      ]
     },
     "execution_count": 5,
     "metadata": {},
     "output_type": "execute_result"
    }
   ],
   "source": [
    "route_table[[\"calitp_itp_id\", \"route_id\"]].drop_duplicates().shape"
   ]
  },
  {
   "cell_type": "code",
   "execution_count": 6,
   "id": "61f8074b-2cf9-476d-9160-940bb16a8ffc",
   "metadata": {},
   "outputs": [
    {
     "data": {
      "text/html": [
       "<div>\n",
       "<style scoped>\n",
       "    .dataframe tbody tr th:only-of-type {\n",
       "        vertical-align: middle;\n",
       "    }\n",
       "\n",
       "    .dataframe tbody tr th {\n",
       "        vertical-align: top;\n",
       "    }\n",
       "\n",
       "    .dataframe thead th {\n",
       "        text-align: right;\n",
       "    }\n",
       "</style>\n",
       "<table border=\"1\" class=\"dataframe\">\n",
       "  <thead>\n",
       "    <tr style=\"text-align: right;\">\n",
       "      <th></th>\n",
       "      <th>calitp_itp_id</th>\n",
       "      <th>route_id</th>\n",
       "      <th>trips_all_day</th>\n",
       "      <th>num_competitive</th>\n",
       "      <th>mean_speed_mph</th>\n",
       "    </tr>\n",
       "  </thead>\n",
       "  <tbody>\n",
       "  </tbody>\n",
       "</table>\n",
       "</div>"
      ],
      "text/plain": [
       "Empty DataFrame\n",
       "Columns: [calitp_itp_id, route_id, trips_all_day, num_competitive, mean_speed_mph]\n",
       "Index: []"
      ]
     },
     "execution_count": 6,
     "metadata": {},
     "output_type": "execute_result"
    }
   ],
   "source": [
    "route_table[route_table.num_competitive.isna()]"
   ]
  },
  {
   "cell_type": "code",
   "execution_count": 7,
   "id": "9fac9fbc-f3b9-410e-8572-cb5f0a898c9a",
   "metadata": {},
   "outputs": [
    {
     "data": {
      "text/plain": [
       "(355, 5)"
      ]
     },
     "execution_count": 7,
     "metadata": {},
     "output_type": "execute_result"
    }
   ],
   "source": [
    "route_table[route_table.mean_speed_mph.isna()].shape"
   ]
  },
  {
   "cell_type": "code",
   "execution_count": 8,
   "id": "e8cbaf20-178e-4262-a8de-ccdba7a58186",
   "metadata": {},
   "outputs": [],
   "source": [
    "missing_speeds = route_table[route_table.mean_speed_mph.isna()]"
   ]
  },
  {
   "cell_type": "code",
   "execution_count": 9,
   "id": "e369b944-8005-44af-bf11-99636bcd36c1",
   "metadata": {},
   "outputs": [],
   "source": [
    "rt_vs_sched = pd.read_parquet(\n",
    "    f\"{GCS_FILE_PATH}rt_vs_schedule_{ANALYSIS_DATE}.parquet\")"
   ]
  },
  {
   "cell_type": "code",
   "execution_count": 10,
   "id": "e1a9d727-bc6b-4921-bbba-95e52a96e95b",
   "metadata": {},
   "outputs": [],
   "source": [
    "route_cols = [\"calitp_itp_id\", \"route_id\"]\n",
    "\n",
    "df = pd.merge(\n",
    "    missing_speeds,\n",
    "    rt_vs_sched.drop_duplicates(subset=route_cols),\n",
    "    on = route_cols,\n",
    "    how = \"inner\",\n",
    "    validate = \"1:1\"\n",
    ")"
   ]
  },
  {
   "cell_type": "code",
   "execution_count": 11,
   "id": "665e8d85-d357-4df1-b9d8-a01245d8bdf8",
   "metadata": {},
   "outputs": [
    {
     "data": {
      "text/plain": [
       "(65, 14)"
      ]
     },
     "execution_count": 11,
     "metadata": {},
     "output_type": "execute_result"
    }
   ],
   "source": [
    "df[df.pct_w_vp >= 0.5].shape"
   ]
  },
  {
   "cell_type": "code",
   "execution_count": 12,
   "id": "774e7b30-b64e-47fc-baa9-351ef5c0f290",
   "metadata": {},
   "outputs": [
    {
     "data": {
      "text/plain": [
       "(355, 14)"
      ]
     },
     "execution_count": 12,
     "metadata": {},
     "output_type": "execute_result"
    }
   ],
   "source": [
    "df.shape"
   ]
  },
  {
   "cell_type": "code",
   "execution_count": 13,
   "id": "671358d1-ff5a-4433-9c5f-8a381ed5dcbe",
   "metadata": {},
   "outputs": [
    {
     "data": {
      "text/plain": [
       "(286, 14)"
      ]
     },
     "execution_count": 13,
     "metadata": {},
     "output_type": "execute_result"
    }
   ],
   "source": [
    "df[df.pct_w_vp == 0].shape"
   ]
  },
  {
   "cell_type": "code",
   "execution_count": null,
   "id": "3c576ced-0022-49f0-9324-9410f5a3f290",
   "metadata": {},
   "outputs": [],
   "source": []
  }
 ],
 "metadata": {
  "kernelspec": {
   "display_name": "Python 3 (ipykernel)",
   "language": "python",
   "name": "python3"
  },
  "language_info": {
   "codemirror_mode": {
    "name": "ipython",
    "version": 3
   },
   "file_extension": ".py",
   "mimetype": "text/x-python",
   "name": "python",
   "nbconvert_exporter": "python",
   "pygments_lexer": "ipython3",
   "version": "3.10.5"
  }
 },
 "nbformat": 4,
 "nbformat_minor": 5
}
