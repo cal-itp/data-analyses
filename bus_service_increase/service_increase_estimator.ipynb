{
 "cells": [
  {
   "cell_type": "code",
   "execution_count": null,
   "id": "d56354f5-08a9-4f07-b608-787856359179",
   "metadata": {},
   "outputs": [],
   "source": []
  },
  {
   "cell_type": "markdown",
   "id": "ad2eef7c-9a78-4af3-b9d7-a56753257518",
   "metadata": {},
   "source": [
    "### Plan\n",
    "\n",
    "* start from all shapes for a single operator\n",
    "* for each shape, assess for each hour of day x weekday/sat/sun (with day of week/time of day cols):\n",
    "    * (can loop over weekday/sat/sun here at trip+stop_times join)\n",
    "    * existing frequency at midpoint stop\n",
    "    * current total runtime\n",
    "* preserve route_id in main table\n",
    "* (seperately) calculate operator/routes/shapes in each Census tract\n",
    "* can then join tracts to service info; characterize route service target geographically\n",
    "    * generate additional frequencies/service hours/service miles for service target\n",
    "* (optional) generate hypothetical trips table\n",
    "* (optional) assign service hours/miles to tracts (not sure why we'd need this yet)"
   ]
  },
  {
   "cell_type": "code",
   "execution_count": null,
   "id": "4b8e66bd-31de-4df9-bb46-b2f2dbed9edb",
   "metadata": {},
   "outputs": [],
   "source": []
  }
 ],
 "metadata": {
  "kernelspec": {
   "display_name": "Python 3 (ipykernel)",
   "language": "python",
   "name": "python3"
  },
  "language_info": {
   "codemirror_mode": {
    "name": "ipython",
    "version": 3
   },
   "file_extension": ".py",
   "mimetype": "text/x-python",
   "name": "python",
   "nbconvert_exporter": "python",
   "pygments_lexer": "ipython3",
   "version": "3.9.7"
  }
 },
 "nbformat": 4,
 "nbformat_minor": 5
}
