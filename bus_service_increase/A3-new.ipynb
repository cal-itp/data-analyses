{
 "cells": [
  {
   "cell_type": "code",
   "execution_count": 1,
   "id": "bd023d1c-c77f-47e6-b58d-92666ff7335e",
   "metadata": {},
   "outputs": [
    {
     "name": "stderr",
     "output_type": "stream",
     "text": [
      "/opt/conda/lib/python3.9/site-packages/geopandas/_compat.py:111: UserWarning: The Shapely GEOS version (3.9.1-CAPI-1.14.2) is incompatible with the GEOS version PyGEOS was compiled with (3.10.1-CAPI-1.16.0). Conversions between both will be slow.\n",
      "  warnings.warn(\n"
     ]
    }
   ],
   "source": [
    "import geopandas as gpd\n",
    "import os\n",
    "import numpy as np\n",
    "import pandas as pd\n",
    "\n",
    "from calitp.tables import tbl\n",
    "from siuba import *\n",
    "\n",
    "import utils\n",
    "import shared_utils\n",
    "\n",
    "ix = pd.IndexSlice"
   ]
  },
  {
   "cell_type": "code",
   "execution_count": 2,
   "id": "4e5e3e74-a240-4446-a67c-5c19c1985dc9",
   "metadata": {},
   "outputs": [],
   "source": [
    "DATA_PATH = \"./data/test/\""
   ]
  },
  {
   "cell_type": "code",
   "execution_count": 3,
   "id": "6d1999c8-f8d3-4319-9293-aad3f4136923",
   "metadata": {},
   "outputs": [
    {
     "data": {
      "text/plain": [
       "both          271872\n",
       "left_only     148536\n",
       "right_only      4542\n",
       "Name: _merge, dtype: int64"
      ]
     },
     "execution_count": 3,
     "metadata": {},
     "output_type": "execute_result"
    }
   ],
   "source": [
    "service = pd.read_parquet(f\"{DATA_PATH}shape_frequency_funding.parquet\")\n",
    "processed_shapes = gpd.read_parquet(f'{DATA_PATH}shapes_processed.parquet')\n",
    "\n",
    "m1 = pd.merge((service \n",
    "          >> select(_.calitp_itp_id, _.shape_id, \n",
    "                    _.day_name, _.departure_hour, \n",
    "                    _.trips_per_hour, _.mean_runtime_min)\n",
    "         ),\n",
    "         (processed_shapes\n",
    "          >> select(_.calitp_itp_id, _.shape_id, _.tract_type)\n",
    "         ),\n",
    "         on = ['calitp_itp_id', 'shape_id'],\n",
    "         how = \"outer\",\n",
    "         validate = \"m:1\",\n",
    "         indicator=True\n",
    ")\n",
    "\n",
    "m1._merge.value_counts()"
   ]
  },
  {
   "cell_type": "markdown",
   "id": "2f71cd06-312c-4d05-86b7-a21c01c2d347",
   "metadata": {},
   "source": [
    "Is this merge result expected? \n",
    "\n",
    "* right only means it has tract_type, but no route info \n",
    "* left only means it has route info, but no tract type\n",
    "* either way, we want to have full info across route info and tract type to be included in this analysis"
   ]
  },
  {
   "cell_type": "markdown",
   "id": "1215c3cd-c658-462e-9caf-851bcb9fa473",
   "metadata": {},
   "source": [
    "### Calculate Required Increase"
   ]
  },
  {
   "cell_type": "code",
   "execution_count": 4,
   "id": "771d2d87-49de-499a-8306-bded2e03f241",
   "metadata": {},
   "outputs": [],
   "source": [
    "service_combined = pd.read_parquet(f\"{DATA_PATH}service_increase.parquet\")"
   ]
  },
  {
   "cell_type": "code",
   "execution_count": 5,
   "id": "dce25ba4-10bc-44b9-ae6e-9db200758942",
   "metadata": {},
   "outputs": [
    {
     "data": {
      "text/html": [
       "<div>\n",
       "<style scoped>\n",
       "    .dataframe tbody tr th:only-of-type {\n",
       "        vertical-align: middle;\n",
       "    }\n",
       "\n",
       "    .dataframe tbody tr th {\n",
       "        vertical-align: top;\n",
       "    }\n",
       "\n",
       "    .dataframe thead th {\n",
       "        text-align: right;\n",
       "    }\n",
       "</style>\n",
       "<table border=\"1\" class=\"dataframe\">\n",
       "  <thead>\n",
       "    <tr style=\"text-align: right;\">\n",
       "      <th></th>\n",
       "      <th></th>\n",
       "      <th>addl_service_hrs_annual</th>\n",
       "    </tr>\n",
       "    <tr>\n",
       "      <th>calitp_itp_id</th>\n",
       "      <th>tract_type</th>\n",
       "      <th></th>\n",
       "    </tr>\n",
       "  </thead>\n",
       "  <tbody>\n",
       "    <tr>\n",
       "      <th rowspan=\"3\" valign=\"top\">4</th>\n",
       "      <th>rural</th>\n",
       "      <td>0.000000e+00</td>\n",
       "    </tr>\n",
       "    <tr>\n",
       "      <th>suburban</th>\n",
       "      <td>5.747733e+04</td>\n",
       "    </tr>\n",
       "    <tr>\n",
       "      <th>urban</th>\n",
       "      <td>2.397386e+06</td>\n",
       "    </tr>\n",
       "    <tr>\n",
       "      <th>6</th>\n",
       "      <th>urban</th>\n",
       "      <td>1.619020e+04</td>\n",
       "    </tr>\n",
       "    <tr>\n",
       "      <th>10</th>\n",
       "      <th>rural</th>\n",
       "      <td>2.219360e+04</td>\n",
       "    </tr>\n",
       "  </tbody>\n",
       "</table>\n",
       "</div>"
      ],
      "text/plain": [
       "                          addl_service_hrs_annual\n",
       "calitp_itp_id tract_type                         \n",
       "4             rural                  0.000000e+00\n",
       "              suburban               5.747733e+04\n",
       "              urban                  2.397386e+06\n",
       "6             urban                  1.619020e+04\n",
       "10            rural                  2.219360e+04"
      ]
     },
     "execution_count": 5,
     "metadata": {},
     "output_type": "execute_result"
    }
   ],
   "source": [
    "hours_by_operator = (service_combined.groupby(['calitp_itp_id', 'tract_type'])\n",
    "                     [['addl_service_hrs_annual']].sum()\n",
    "                    )\n",
    "\n",
    "hours_by_operator.head()"
   ]
  },
  {
   "cell_type": "markdown",
   "id": "ca0b2976-d6a9-41f7-bec7-ebc1a93e6859",
   "metadata": {},
   "source": [
    "### Bus Capital Expenditures"
   ]
  },
  {
   "cell_type": "markdown",
   "id": "d7f8afaf-1d6e-4bc8-965a-0f2c956bda96",
   "metadata": {},
   "source": [
    "### Methodology notes\n",
    "\n",
    "* filtered to buses\n",
    "* all 2019 NTD data\n",
    "* using 12 year useful life\n",
    "* bus cost:\n",
    "    * based on CARB Innovative Clean Transit cost model for a 40', 550kWh electric bus in 2022\n",
    "    * Inclusive of charger and maintenance infrastructure upgrades, but not potential land aquisition costs for expanded facilities."
   ]
  },
  {
   "cell_type": "code",
   "execution_count": 6,
   "id": "561a930a-50ef-400b-8968-6902a931985d",
   "metadata": {},
   "outputs": [],
   "source": [
    "hours_by_operator = pd.read_parquet(f\"{DATA_PATH}increase_by_operator.parquet\")"
   ]
  },
  {
   "cell_type": "code",
   "execution_count": 7,
   "id": "319f4d94-66af-4cc6-b47b-b925c44c5764",
   "metadata": {},
   "outputs": [
    {
     "data": {
      "text/html": [
       "<div>\n",
       "<style scoped>\n",
       "    .dataframe tbody tr th:only-of-type {\n",
       "        vertical-align: middle;\n",
       "    }\n",
       "\n",
       "    .dataframe tbody tr th {\n",
       "        vertical-align: top;\n",
       "    }\n",
       "\n",
       "    .dataframe thead th {\n",
       "        text-align: right;\n",
       "    }\n",
       "</style>\n",
       "<table border=\"1\" class=\"dataframe\">\n",
       "  <thead>\n",
       "    <tr style=\"text-align: right;\">\n",
       "      <th></th>\n",
       "      <th></th>\n",
       "      <th>addl_service_hrs_annual</th>\n",
       "      <th>additional_buses</th>\n",
       "      <th>bus_capex</th>\n",
       "      <th>bus_capex_annualized</th>\n",
       "    </tr>\n",
       "    <tr>\n",
       "      <th>calitp_itp_id</th>\n",
       "      <th>tract_type</th>\n",
       "      <th></th>\n",
       "      <th></th>\n",
       "      <th></th>\n",
       "      <th></th>\n",
       "    </tr>\n",
       "  </thead>\n",
       "  <tbody>\n",
       "    <tr>\n",
       "      <th rowspan=\"3\" valign=\"top\">4</th>\n",
       "      <th>rural</th>\n",
       "      <td>0.000000e+00</td>\n",
       "      <td>0.000000</td>\n",
       "      <td>0.000000e+00</td>\n",
       "      <td>0.000000e+00</td>\n",
       "    </tr>\n",
       "    <tr>\n",
       "      <th>suburban</th>\n",
       "      <td>5.747733e+04</td>\n",
       "      <td>23.477447</td>\n",
       "      <td>1.824059e+07</td>\n",
       "      <td>1.302899e+06</td>\n",
       "    </tr>\n",
       "    <tr>\n",
       "      <th>urban</th>\n",
       "      <td>2.397386e+06</td>\n",
       "      <td>979.247059</td>\n",
       "      <td>7.608172e+08</td>\n",
       "      <td>5.434408e+07</td>\n",
       "    </tr>\n",
       "    <tr>\n",
       "      <th>6</th>\n",
       "      <th>urban</th>\n",
       "      <td>1.619020e+04</td>\n",
       "      <td>6.613121</td>\n",
       "      <td>5.138005e+06</td>\n",
       "      <td>3.670003e+05</td>\n",
       "    </tr>\n",
       "    <tr>\n",
       "      <th>10</th>\n",
       "      <th>rural</th>\n",
       "      <td>2.219360e+04</td>\n",
       "      <td>9.065296</td>\n",
       "      <td>7.043200e+06</td>\n",
       "      <td>5.030857e+05</td>\n",
       "    </tr>\n",
       "  </tbody>\n",
       "</table>\n",
       "</div>"
      ],
      "text/plain": [
       "                          addl_service_hrs_annual  additional_buses  \\\n",
       "calitp_itp_id tract_type                                              \n",
       "4             rural                  0.000000e+00          0.000000   \n",
       "              suburban               5.747733e+04         23.477447   \n",
       "              urban                  2.397386e+06        979.247059   \n",
       "6             urban                  1.619020e+04          6.613121   \n",
       "10            rural                  2.219360e+04          9.065296   \n",
       "\n",
       "                             bus_capex  bus_capex_annualized  \n",
       "calitp_itp_id tract_type                                      \n",
       "4             rural       0.000000e+00          0.000000e+00  \n",
       "              suburban    1.824059e+07          1.302899e+06  \n",
       "              urban       7.608172e+08          5.434408e+07  \n",
       "6             urban       5.138005e+06          3.670003e+05  \n",
       "10            rural       7.043200e+06          5.030857e+05  "
      ]
     },
     "execution_count": 7,
     "metadata": {},
     "output_type": "execute_result"
    }
   ],
   "source": [
    "hours_by_operator.head()"
   ]
  },
  {
   "cell_type": "code",
   "execution_count": 8,
   "id": "4e2764b7-faa0-4903-a761-38642d5c325c",
   "metadata": {},
   "outputs": [
    {
     "data": {
      "text/html": [
       "<div>\n",
       "<style scoped>\n",
       "    .dataframe tbody tr th:only-of-type {\n",
       "        vertical-align: middle;\n",
       "    }\n",
       "\n",
       "    .dataframe tbody tr th {\n",
       "        vertical-align: top;\n",
       "    }\n",
       "\n",
       "    .dataframe thead th {\n",
       "        text-align: right;\n",
       "    }\n",
       "</style>\n",
       "<table border=\"1\" class=\"dataframe\">\n",
       "  <thead>\n",
       "    <tr style=\"text-align: right;\">\n",
       "      <th></th>\n",
       "      <th>addl_service_hrs_annual</th>\n",
       "      <th>additional_buses</th>\n",
       "      <th>bus_capex</th>\n",
       "      <th>bus_capex_annualized</th>\n",
       "    </tr>\n",
       "    <tr>\n",
       "      <th>tract_type</th>\n",
       "      <th></th>\n",
       "      <th></th>\n",
       "      <th></th>\n",
       "      <th></th>\n",
       "    </tr>\n",
       "  </thead>\n",
       "  <tbody>\n",
       "    <tr>\n",
       "      <th>urban</th>\n",
       "      <td>501460.266667</td>\n",
       "      <td>204.828686</td>\n",
       "      <td>1.591398e+08</td>\n",
       "      <td>1.136713e+07</td>\n",
       "    </tr>\n",
       "  </tbody>\n",
       "</table>\n",
       "</div>"
      ],
      "text/plain": [
       "            addl_service_hrs_annual  additional_buses     bus_capex  \\\n",
       "tract_type                                                            \n",
       "urban                 501460.266667        204.828686  1.591398e+08   \n",
       "\n",
       "            bus_capex_annualized  \n",
       "tract_type                        \n",
       "urban               1.136713e+07  "
      ]
     },
     "execution_count": 8,
     "metadata": {},
     "output_type": "execute_result"
    }
   ],
   "source": [
    "hours_by_operator.loc[ix[279,:]]"
   ]
  },
  {
   "cell_type": "markdown",
   "id": "12f3dbb7-c0c9-4ce2-b995-fe0a2eaf0953",
   "metadata": {},
   "source": [
    "### Sandbox"
   ]
  },
  {
   "cell_type": "code",
   "execution_count": 9,
   "id": "f4c0d1b6-24dd-41dd-a7c4-fd39ec391411",
   "metadata": {},
   "outputs": [],
   "source": [
    "# tbl.transitstacks.provider_info() >> select(_.calitp_itp_id == _.itp_id, _.ntd_id) >> collect() >> inner_join(_, ntd_joined, on='ntd_id')"
   ]
  }
 ],
 "metadata": {
  "kernelspec": {
   "display_name": "Python 3 (ipykernel)",
   "language": "python",
   "name": "python3"
  },
  "language_info": {
   "codemirror_mode": {
    "name": "ipython",
    "version": 3
   },
   "file_extension": ".py",
   "mimetype": "text/x-python",
   "name": "python",
   "nbconvert_exporter": "python",
   "pygments_lexer": "ipython3",
   "version": "3.9.7"
  }
 },
 "nbformat": 4,
 "nbformat_minor": 5
}
