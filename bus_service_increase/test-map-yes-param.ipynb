{
 "cells": [
  {
   "cell_type": "markdown",
   "id": "787b12d4-092f-4ec2-afba-337ffc734277",
   "metadata": {},
   "source": [
    "# Single Map, some other parameter\n",
    "\n",
    "* Use papermill to inject district parameter\n",
    "* Within notebook, have it look up some column within the district and inject that column info into header"
   ]
  },
  {
   "cell_type": "code",
   "execution_count": 1,
   "id": "7244cc73-d0de-4916-9990-c590ea61df6c",
   "metadata": {},
   "outputs": [
    {
     "name": "stderr",
     "output_type": "stream",
     "text": [
      "/opt/conda/lib/python3.9/site-packages/geopandas/_compat.py:111: UserWarning: The Shapely GEOS version (3.10.2-CAPI-1.16.0) is incompatible with the GEOS version PyGEOS was compiled with (3.10.1-CAPI-1.16.0). Conversions between both will be slow.\n",
      "  warnings.warn(\n",
      "E0428 20:21:19.566850027    3511 fork_posix.cc:70]           Fork support is only compatible with the epoll1 and poll polling strategies\n",
      "E0428 20:21:21.971944194    3511 fork_posix.cc:70]           Fork support is only compatible with the epoll1 and poll polling strategies\n"
     ]
    }
   ],
   "source": [
    "import branca\n",
    "import geopandas as gpd\n",
    "import pandas as pd\n",
    "\n",
    "# Alternatively, can import relevant ones\n",
    "from shared_utils import map_utils"
   ]
  },
  {
   "cell_type": "code",
   "execution_count": null,
   "id": "0876efd7-2cf5-4cea-8816-68f43a74d032",
   "metadata": {
    "tags": [
     "parameters"
    ]
   },
   "outputs": [],
   "source": [
    "## parameters cell\n",
    "district = 7"
   ]
  },
  {
   "cell_type": "code",
   "execution_count": null,
   "id": "1c439f9f-e8ae-4584-a9ea-75959b184991",
   "metadata": {},
   "outputs": [],
   "source": [
    "GEOSPATIAL_DATA = (\"https://caltrans-gis.dot.ca.gov/arcgis/rest/services/\"\n",
    "       \"CHboundary/District_Tiger_Lines/FeatureServer/0/query?\"\n",
    "       \"where=1%3D1&objectIds=&time=&geometry=&geometryType=esriGeometryEnvelope&\"\n",
    "       \"inSR=&spatialRel=esriSpatialRelIntersects&distance=&units=esriSRUnit_Foot&\"\n",
    "       \"relationParam=&outFields=DISTRICT%2C+Region&returnGeometry=true&\"\n",
    "       \"maxAllowableOffset=&geometryPrecision=&outSR=&havingClause=&gdbVersion=&\"\n",
    "       \"historicMoment=&returnDistinctValues=false&returnIdsOnly=false&\"\n",
    "       \"returnCountOnly=false&returnExtentOnly=false&orderByFields=&\"\n",
    "       \"groupByFieldsForStatistics=&outStatistics=&returnZ=false&returnM=false&\"\n",
    "       \"multipatchOption=xyFootprint&resultOffset=&resultRecordCount=&\"\n",
    "       \"returnTrueCurves=false&returnExceededLimitFeatures=false&quantizationParameters=&\"\n",
    "       \"returnCentroid=false&sqlFormat=none&resultType=&featureEncoding=esriDefault&\"\n",
    "       \"datumTransformation=&f=geojson\"\n",
    "      )\n",
    "\n",
    "gdf = gpd.read_file(GEOSPATIAL_DATA)\n",
    "\n",
    "# Create a y-col to map (that's not just District number)\n",
    "gdf = gdf.assign(\n",
    "    some_y_col = gdf.index+10\n",
    ")\n",
    "\n",
    "gdf = gdf[gdf.DISTRICT==district]"
   ]
  },
  {
   "cell_type": "code",
   "execution_count": null,
   "id": "51827f55-fc55-41af-8049-3bb7c0663e75",
   "metadata": {},
   "outputs": [],
   "source": [
    "%%capture_parameters\n",
    "some_metric = gdf.some_y_col.unique().tolist()\n",
    "district, some_metric"
   ]
  },
  {
   "cell_type": "markdown",
   "id": "3c004cc8-e3f9-473f-b420-acf90cb2f131",
   "metadata": {},
   "source": [
    "# District {district} ------ grabbed metric: {some_metric}"
   ]
  },
  {
   "cell_type": "code",
   "execution_count": null,
   "id": "03008814-11e9-4b1a-8bb0-3612489ee898",
   "metadata": {},
   "outputs": [],
   "source": [
    "popup_dict = {\n",
    "    \"DISTRICT\": \"Caltrans District\",\n",
    "    \"Region\": \"Caltrans Region\",\n",
    "    \"some_y_col\": \"Something Measured\"\n",
    "}\n",
    "\n",
    "colorscale = (branca.colormap.step.Accent_07\n",
    "              .scale(vmin=gdf.DISTRICT.min(), \n",
    "                     vmax=gdf.DISTRICT.max())\n",
    "             )\n",
    "\n",
    "m = map_utils.make_folium_choropleth_map(\n",
    "    gdf,\n",
    "    plot_col = \"DISTRICT\",\n",
    "    popup_dict = popup_dict,\n",
    "    tooltip_dict = popup_dict,\n",
    "    colorscale = colorscale,\n",
    "    fig_width = 500, fig_height = 800,\n",
    "    zoom = map_utils.REGION_CENTROIDS[\"CA\"][\"zoom\"],\n",
    "    centroid = map_utils.REGION_CENTROIDS[\"CA\"][\"centroid\"],\n",
    "    title=f\"District {district} Map\"\n",
    ")\n",
    "\n",
    "m"
   ]
  }
 ],
 "metadata": {
  "kernelspec": {
   "display_name": "Python 3 (ipykernel)",
   "language": "python",
   "name": "python3"
  },
  "language_info": {
   "codemirror_mode": {
    "name": "ipython",
    "version": 3
   },
   "file_extension": ".py",
   "mimetype": "text/x-python",
   "name": "python",
   "nbconvert_exporter": "python",
   "pygments_lexer": "ipython3",
   "version": "3.9.10"
  }
 },
 "nbformat": 4,
 "nbformat_minor": 5
}
