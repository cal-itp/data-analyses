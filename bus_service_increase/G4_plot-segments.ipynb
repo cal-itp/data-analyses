{
 "cells": [
  {
   "cell_type": "markdown",
   "id": "b7100acd-128a-4083-9e40-a33dee118238",
   "metadata": {},
   "source": [
    "# Plot routes on SHN\n",
    "\n",
    "See what highway corridors show up.\n",
    "\n",
    "Can span multiple operators. These corridors, if improved, would benefit all operators."
   ]
  },
  {
   "cell_type": "code",
   "execution_count": null,
   "id": "4142b039-4dad-444c-aed2-3e43ee4a88c5",
   "metadata": {},
   "outputs": [],
   "source": [
    "#import branca\n",
    "import intake\n",
    "import geopandas as gpd\n",
    "import pandas as pd\n",
    "\n",
    "#import create_calenviroscreen_lehd_data\n",
    "from shared_utils import geography_utils #, map_utils \n",
    "\n",
    "catalog = intake.open_catalog(\"*.yml\")"
   ]
  },
  {
   "cell_type": "code",
   "execution_count": null,
   "id": "51d19063-62e0-47a8-a431-7e322b626d7c",
   "metadata": {},
   "outputs": [],
   "source": [
    "gdf = catalog.highway_segment_stats.read()\n",
    "\n",
    "gdf = gdf.assign(\n",
    "    geometry = gdf.geometry.to_crs(\n",
    "        geography_utils.CA_StatePlane).buffer(300).to_crs(geography_utils.WGS84)\n",
    ")"
   ]
  },
  {
   "cell_type": "code",
   "execution_count": null,
   "id": "920ad16f-1e95-40b6-b879-90524a21e832",
   "metadata": {},
   "outputs": [],
   "source": [
    "def plot_highway_corridor(gdf, hwy_route, plot_col):\n",
    "\n",
    "    plot_df = gdf[gdf.Route==hwy_route]\n",
    "    \n",
    "    #plot_df = create_calenviroscreen_lehd_data.define_equity_groups(\n",
    "    #    plot_df, percentile_col = [plot_col], num_groups=4)\n",
    "    \n",
    "    \n",
    "    m = plot_df.explore(plot_col, cmap = \"cividis\", \n",
    "                        tiles = \"CartoDB positron\")\n",
    "    \n",
    "    display(m)"
   ]
  },
  {
   "cell_type": "code",
   "execution_count": null,
   "id": "abf0ca2b-c907-492c-a210-755465ae9a8c",
   "metadata": {},
   "outputs": [],
   "source": [
    "for stat in [\"trips_all_day\", \"stop_arrivals_peak\", \"stops_all_day\"]:\n",
    "    print(f\"{stat.replace('_', ' ').title()}\")\n",
    "    plot_highway_corridor(gdf[gdf.District.isin([7, 12])], \n",
    "                          hwy_route=1, plot_col=stat)"
   ]
  },
  {
   "cell_type": "code",
   "execution_count": null,
   "id": "2ab773f5-7374-4215-96f5-399b4f70f73c",
   "metadata": {},
   "outputs": [],
   "source": [
    "for stat in [\"trips_all_day\", \"stop_arrivals_peak\", \"stops_all_day\"]:\n",
    "    print(f\"{stat.replace('_', ' ').title()}\")\n",
    "    plot_highway_corridor(gdf[gdf.District.isin([4])], \n",
    "                          hwy_route=101, plot_col=stat)"
   ]
  },
  {
   "cell_type": "code",
   "execution_count": null,
   "id": "e43c46be-ec90-4a27-b720-1a6369b3621b",
   "metadata": {},
   "outputs": [],
   "source": []
  }
 ],
 "metadata": {
  "kernelspec": {
   "display_name": "Python 3 (ipykernel)",
   "language": "python",
   "name": "python3"
  },
  "language_info": {
   "codemirror_mode": {
    "name": "ipython",
    "version": 3
   },
   "file_extension": ".py",
   "mimetype": "text/x-python",
   "name": "python",
   "nbconvert_exporter": "python",
   "pygments_lexer": "ipython3",
   "version": "3.10.5"
  }
 },
 "nbformat": 4,
 "nbformat_minor": 5
}
