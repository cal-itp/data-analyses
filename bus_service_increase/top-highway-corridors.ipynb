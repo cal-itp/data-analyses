{
 "cells": [
  {
   "cell_type": "markdown",
   "id": "2cee6a33-3fe6-49a9-a774-70f0e32e6a79",
   "metadata": {},
   "source": [
    "# Highway corridors\n",
    "\n",
    "See which highway corridors have a lot of parallel routes per mile, but few competitive routes per mile.\n",
    "\n",
    "Draw quadrant?"
   ]
  },
  {
   "cell_type": "code",
   "execution_count": null,
   "id": "9ef5dbd1-8438-4217-bdd2-fc8c53bc979f",
   "metadata": {},
   "outputs": [],
   "source": [
    "import altair as alt\n",
    "import branca\n",
    "import geopandas as gpd\n",
    "import intake\n",
    "import pandas as pd\n",
    "\n",
    "from IPython.display import Markdown, HTML\n",
    "\n",
    "import setup_corridors_stats\n",
    "from create_parallel_corridors import IMG_PATH, DATA_PATH\n",
    "from shared_utils import geography_utils, map_utils, styleguide\n",
    "from shared_utils import calitp_color_palette as cp\n",
    "\n",
    "alt.themes.register(\"calitp_theme\", styleguide.calitp_theme)\n",
    "\n",
    "catalog = intake.open_catalog(\"./*.yml\")"
   ]
  },
  {
   "cell_type": "code",
   "execution_count": null,
   "id": "a86c76fd-c3fd-49eb-a37c-eaf8d81d33ec",
   "metadata": {},
   "outputs": [],
   "source": [
    "operator_stats, hwy_stats = setup_corridors_stats.aggregated_transit_hwy_stats()"
   ]
  },
  {
   "cell_type": "code",
   "execution_count": null,
   "id": "3abeea73-057f-4f26-8827-53a6e7f60a33",
   "metadata": {},
   "outputs": [],
   "source": [
    "def process_hwy_stats(df):\n",
    "    # parallel routes / competitive routes per mile\n",
    "    # or percents?\n",
    "    # right now, highway_length is in feet\n",
    "    df = df.assign(\n",
    "        parallel_per_mi = (df.num_parallel.divide(df.highway_length) * \n",
    "                           geography_utils.FEET_PER_MI),\n",
    "        competitive_per_mi = (df.num_competitive.divide(df.highway_length) * \n",
    "                              geography_utils.FEET_PER_MI),\n",
    "    )\n",
    "    \n",
    "    # Add in highways geometry\n",
    "    highways = catalog.highways_cleaned.read()\n",
    "\n",
    "    gdf = pd.merge(\n",
    "        highways.assign(geometry=highways.geometry.buffer(200)).drop(\n",
    "            columns = [\"NB\", \"SB\", \"EB\", \"WB\"]),\n",
    "        df,\n",
    "        on = [\"Route\", \"County\", \"District\"],\n",
    "        how = \"inner\",\n",
    "        validate = \"m:1\"\n",
    "    ).rename(columns = {\n",
    "        \"highway_length_x\": \"highway_length_routetype\",\n",
    "        \"highway_length_y\": \"highway_length_route\",\n",
    "    })\n",
    "    \n",
    "    return gdf"
   ]
  },
  {
   "cell_type": "code",
   "execution_count": null,
   "id": "9e304c94-3b58-4381-9afa-47bf8e21ee41",
   "metadata": {},
   "outputs": [],
   "source": [
    "gdf = process_hwy_stats(hwy_stats)"
   ]
  },
  {
   "cell_type": "code",
   "execution_count": null,
   "id": "4c0dc045-7d66-449f-b966-07a4c374ffdb",
   "metadata": {},
   "outputs": [],
   "source": [
    "def labeling(word):\n",
    "    rename_dict = {\n",
    "        \"pct_parallel\": \"% parallel routes\",\n",
    "        \"pct_competitive\": \"% competitive routes\"\n",
    "    }\n",
    "    \n",
    "    if word in rename_dict.keys():\n",
    "        word = rename_dict[word]\n",
    "    else:\n",
    "        word = word.replace('_', ' ').title()\n",
    "        \n",
    "    return word\n",
    "\n",
    "def make_scatterplot(df, x_col, y_col):\n",
    "    \n",
    "    if \"pct\" in x_col:\n",
    "        x_p50 = 0.5\n",
    "        y_p50 = 0.5\n",
    "    else:\n",
    "        x_p50 = 0.1\n",
    "        y_p50 = 0.1\n",
    "    \n",
    "    chart = (alt.Chart(df)\n",
    "             .mark_point(size=50)\n",
    "             .encode(\n",
    "                 x=alt.X(f\"{x_col}:Q\", title=labeling(x_col)),\n",
    "                 y=alt.Y(f\"{y_col}:Q\", title=labeling(y_col)),\n",
    "                 color=alt.Color(\"District:N\"),\n",
    "                 tooltip=[\"Route\", \"County\", \"District\",\n",
    "                          \"num_parallel\", \"pct_parallel\", \"parallel_per_mi\",\n",
    "                          \"num_competitive\", \"pct_competitive\", \"competitive_per_mi\",\n",
    "                 ]\n",
    "             ).interactive()\n",
    "             .properties(title = f\"{labeling(x_col)} vs {labeling(y_col)}\")\n",
    "    )\n",
    "    \n",
    "    horiz_line = (alt.Chart(df.assign(y_p50=y_p50))\n",
    "                  .mark_rule(strokeDash=[2,3])\n",
    "                  .encode(\n",
    "                      y=\"y_p50:Q\",\n",
    "                      color=alt.value(\"black\")\n",
    "                  )\n",
    "    )\n",
    "    \n",
    "    vertical_line = (alt.Chart(df.assign(x_p50=x_p50))\n",
    "                     .mark_rule(strokeDash=[2,3])\n",
    "                     .encode(\n",
    "                         x=\"x_p50:Q\",\n",
    "                         color=alt.value(\"black\")\n",
    "                     )\n",
    "    )\n",
    "    \n",
    "    combined = chart + horiz_line + vertical_line\n",
    "    return combined"
   ]
  },
  {
   "cell_type": "code",
   "execution_count": null,
   "id": "34d6b791-1e3d-440a-bbb7-b2c2dacc7228",
   "metadata": {},
   "outputs": [],
   "source": [
    "make_scatterplot(gdf[gdf.pct_parallel > 0], \"pct_parallel\", \"pct_competitive\")"
   ]
  },
  {
   "cell_type": "code",
   "execution_count": null,
   "id": "ec864dda-d1a7-4939-a390-1335e832f2b8",
   "metadata": {},
   "outputs": [],
   "source": [
    "make_scatterplot(gdf[gdf.pct_parallel > 0], \"parallel_per_mi\", \"competitive_per_mi\")"
   ]
  },
  {
   "cell_type": "markdown",
   "id": "9f1ab4d2-de05-4ce3-9881-36e84b8912ef",
   "metadata": {},
   "source": [
    "## Show zero parallel routes\n",
    "\n",
    "Where there are zero parallel routes, this could be a case for running a Caltrans Express Bus."
   ]
  },
  {
   "cell_type": "code",
   "execution_count": null,
   "id": "7c4110f2-5cc7-49b3-92f7-4c601da8094c",
   "metadata": {},
   "outputs": [],
   "source": [
    "top20_zero_parallel = (gdf[gdf.pct_parallel==0]\n",
    "                       .sort_values([\"count_route_id\", \"highway_length_routetype\"], \n",
    "                                    ascending = [False, False]).head(20)\n",
    "                      )"
   ]
  },
  {
   "cell_type": "code",
   "execution_count": null,
   "id": "8e2a82d1-fcf4-42a6-89c0-046b7047c6bf",
   "metadata": {},
   "outputs": [],
   "source": [
    "FIG_HEIGHT = 900\n",
    "FIG_WIDTH = 700\n",
    "\n",
    "PLOT_COL = \"count_route_id\"\n",
    "POPUP_DICT = {\n",
    "    \"Route\": \"Hwy Route\",\n",
    "    \"County\": \"County\",\n",
    "    \"District\": \"District\",\n",
    "    \"RouteType\": \"Route Type\",\n",
    "    \"count_route_id\": \"# transit routes\",\n",
    "}"
   ]
  },
  {
   "cell_type": "code",
   "execution_count": null,
   "id": "cd0b59a9-3162-4130-a126-d2aba5f56ddd",
   "metadata": {},
   "outputs": [],
   "source": [
    "def make_district_map(gdf, district, chart_title):\n",
    "    display(Markdown(f\"### District {district}\"))\n",
    "    \n",
    "    # Display table first\n",
    "    subset = gdf[gdf.District==district].to_crs(geography_utils.WGS84)\n",
    "    \n",
    "    display_cols = [\n",
    "        \"Route\", \"County\", \"District\", \"RouteType\", \n",
    "        \"count_route_id\"\n",
    "    ]\n",
    "    display(subset.sort_values([\"count_route_id\", \"highway_length_routetype\"], \n",
    "                ascending=[False, False]).reset_index()[\n",
    "        display_cols].rename(columns = POPUP_DICT))\n",
    "    \n",
    "    district_centroid = (subset\n",
    "                    .geometry.centroid\n",
    "                    .iloc[0]\n",
    "                   )\n",
    "    \n",
    "    COLORSCALE = branca.colormap.step.Accent_08.scale(\n",
    "        vmin = subset.count_route_id.min(),\n",
    "        vmax=subset.count_route_id.max(),\n",
    "    )\n",
    "    \n",
    "    m = map_utils.make_folium_choropleth_map(\n",
    "        subset,\n",
    "        plot_col = PLOT_COL,\n",
    "        popup_dict = POPUP_DICT,\n",
    "        tooltip_dict = POPUP_DICT,\n",
    "        colorscale = COLORSCALE,\n",
    "        fig_width = FIG_WIDTH,\n",
    "        fig_height = FIG_HEIGHT,\n",
    "        zoom = 10,\n",
    "        centroid = [round(district_centroid.y,2), \n",
    "                    round(district_centroid.x, 2)],\n",
    "        title=chart_title,\n",
    "        legend_name=\"Legend\",\n",
    "    )\n",
    "\n",
    "    return m\n"
   ]
  },
  {
   "cell_type": "code",
   "execution_count": null,
   "id": "69c1591b-e628-4ae3-8000-09b62fbe77c1",
   "metadata": {},
   "outputs": [],
   "source": [
    "district_list = sorted(list(top20_zero_parallel.District.unique()))\n",
    "for i in district_list:\n",
    "    chart_title = f\"District {i}: Highway Corridors with No Parallel Transit Routes\"\n",
    "    m = make_district_map(top20_zero_parallel, i, chart_title)\n",
    "    display(m)"
   ]
  },
  {
   "cell_type": "markdown",
   "id": "6f1d3ea5-74ae-4854-9dbc-32c3fe6bf473",
   "metadata": {},
   "source": [
    "## Show low competitive routes\n",
    "\n",
    "This is another case for Caltrans Express Bus, maybe not necessarily from Caltrans, but a case for operators who have parallel routes to perhaps make some of those more competitive with car\n",
    "\n",
    "Also include high parallel routes? Bottom right of quandrant or just bottom of chart"
   ]
  },
  {
   "cell_type": "code",
   "execution_count": null,
   "id": "53e6ddc0-56ec-4646-a596-ec5046742656",
   "metadata": {},
   "outputs": [],
   "source": [
    "with_parallel = gdf[gdf.pct_parallel > 0]\n",
    "\n",
    "#parallel_p75 = with_parallel.pct_parallel.quantile(0.75)\n",
    "competitive_p25 = with_parallel.pct_competitive.quantile(0.25)"
   ]
  },
  {
   "cell_type": "code",
   "execution_count": null,
   "id": "28f2fa63-d52e-495d-88ae-fb6112071025",
   "metadata": {},
   "outputs": [],
   "source": [
    "with_parallel2 = with_parallel[\n",
    "    #(with_parallel.pct_parallel > parallel_p75) & \n",
    "    (with_parallel.pct_competitive < competitive_p25)\n",
    "]"
   ]
  },
  {
   "cell_type": "code",
   "execution_count": null,
   "id": "b8326ae2-edbc-4f5e-975e-ef84e0974373",
   "metadata": {},
   "outputs": [],
   "source": [
    "district_list = sorted(list(with_parallel2.District.unique()))\n",
    "for i in district_list: \n",
    "    chart_title = f\"District {i}: Highway Corridors with Few Competitive Transit Routes\"\n",
    "    m = make_district_map(with_parallel2, i, chart_title)\n",
    "    display(m)"
   ]
  },
  {
   "cell_type": "code",
   "execution_count": null,
   "id": "92cc96cb-5798-4930-91f6-55747c1c31b7",
   "metadata": {},
   "outputs": [],
   "source": []
  }
 ],
 "metadata": {
  "kernelspec": {
   "display_name": "Python 3 (ipykernel)",
   "language": "python",
   "name": "python3"
  },
  "language_info": {
   "codemirror_mode": {
    "name": "ipython",
    "version": 3
   },
   "file_extension": ".py",
   "mimetype": "text/x-python",
   "name": "python",
   "nbconvert_exporter": "python",
   "pygments_lexer": "ipython3",
   "version": "3.9.10"
  }
 },
 "nbformat": 4,
 "nbformat_minor": 5
}
