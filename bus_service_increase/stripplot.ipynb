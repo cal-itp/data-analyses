{
 "cells": [
  {
   "cell_type": "code",
   "execution_count": null,
   "id": "95d00857-6a20-4529-a519-2cc7182928a9",
   "metadata": {},
   "outputs": [],
   "source": [
    "%%capture\n",
    "import warnings\n",
    "warnings.filterwarnings('ignore')\n",
    "\n",
    "import altair as alt\n",
    "import calitp.magics\n",
    "import geopandas as gpd\n",
    "import intake\n",
    "import pandas as pd\n",
    "\n",
    "from IPython.display import display, Markdown, HTML\n",
    "\n",
    "import parallel_corridors_utils\n",
    "from shared_utils import styleguide\n",
    "\n",
    "catalog = intake.open_catalog(\"./*.yml\")\n",
    "alt.renderers.enable(\"html\")"
   ]
  },
  {
   "cell_type": "code",
   "execution_count": null,
   "id": "8af2a0c1-f3da-408d-9bea-11d9fbf8695d",
   "metadata": {
    "tags": [
     "parameters"
    ]
   },
   "outputs": [],
   "source": [
    "# parameters cell\n",
    "itp_id = 182"
   ]
  },
  {
   "cell_type": "code",
   "execution_count": null,
   "id": "33ac4b06-f647-4dce-a625-8f2c1b37cc60",
   "metadata": {},
   "outputs": [],
   "source": [
    "%%capture_parameters\n",
    "itp_id"
   ]
  },
  {
   "cell_type": "markdown",
   "id": "21321fce-c5a6-4b60-b935-2f0d656e03ee",
   "metadata": {},
   "source": [
    "# Markdown title {itp_id}"
   ]
  },
  {
   "cell_type": "code",
   "execution_count": null,
   "id": "a08c408b-8664-4ab7-9750-9e07a245ecdd",
   "metadata": {},
   "outputs": [],
   "source": [
    "display(HTML(f\"<h1>HTML title {itp_id}</h1>\"))"
   ]
  },
  {
   "cell_type": "code",
   "execution_count": null,
   "id": "9582aaf4-79ff-412a-b248-8d8d693ebd4f",
   "metadata": {},
   "outputs": [],
   "source": [
    "df = catalog.competitive_route_variability.read()\n",
    "\n",
    "df = (df[(df.calitp_itp_id == itp_id) & \n",
    "         (df.route_group.notna())]\n",
    "      .reset_index(drop=True)\n",
    "     )\n",
    "\n",
    "\n",
    "if itp_id == 182:\n",
    "    df = df.assign(\n",
    "        route_id = df.route_id.str.replace('-13153', '').astype(int)\n",
    "    )"
   ]
  },
  {
   "cell_type": "code",
   "execution_count": null,
   "id": "2cb4d8d5-4760-40e4-85b1-cb833d8bb648",
   "metadata": {},
   "outputs": [],
   "source": [
    "# Grab parameters for narrative text - clean up formatting here\n",
    "\n",
    "# Set up df for charting (cut-off at some threshold to show most competitive routes)\n",
    "PCT_COMPETITIVE_THRESHOLD = 0.75\n",
    "plot_me = (df[df.pct_trips_competitive > PCT_COMPETITIVE_THRESHOLD]\n",
    "           .drop(columns = \"geometry\")\n",
    "          )\n",
    "    \n",
    "operator_name = df.name.iloc[0]\n",
    "district = df.caltrans_district.iloc[0]\n",
    "formatted_date = pd.to_datetime(parallel_corridors_utils.SELECTED_DATE).strftime('%m-%d-%Y')\n",
    "\n",
    "\n",
    "stats = parallel_corridors_utils.operator_parallel_competitive_stats(\n",
    "    itp_id, PCT_COMPETITIVE_THRESHOLD)\n",
    "\n",
    "pct_parallel = round(stats['parallel_routes'] / stats['num_routes'] * 100,1 )\n",
    "pct_competitive =  round(stats['competitive_routes'] / stats['num_routes'] * 100,1 )"
   ]
  },
  {
   "cell_type": "code",
   "execution_count": null,
   "id": "0416509d-dc62-4165-b62e-64f8b26e8b8e",
   "metadata": {},
   "outputs": [],
   "source": [
    "display(\n",
    "    Markdown(\n",
    "        f\"**Bus routes in service**: {stats['num_routes']} \"\n",
    "        \"<br>**Parallel routes** to State Highway Network (SHN): \"\n",
    "        f\"{stats['parallel_routes']} routes ({pct_parallel}%)\"\n",
    "        f\"<br>**Competitive routes** against car travel: {stats['competitive_routes']} routes ({pct_competitive}%)\"\n",
    "        \"<br>\"\n",
    "        \"Notes: <br>*Parallel routes* are routes where at least 30% of the route falls \"\n",
    "        \" within 1 mile of the SHN \"\n",
    "        \"and cover at least 10% of the highway's length.\"\n",
    "        \"<br>\"\n",
    "        \"<br>*Competitive routes* are routes where at least \"\n",
    "        f\"{int(PCT_COMPETITIVE_THRESHOLD*100)}% of the trips on that route take \"\n",
    "        \"no more than 2x the car would. The fastest trip for the bus route is \"\n",
    "        \"selected to estimate against the car traveling along the same path \"\n",
    "        \"at the same departure hour on the same day. A ratio of bus travel time \"\n",
    "        \"to car travel time is taken for all other trips using that car travel time, \"\n",
    "        \"and a percentage of all trips that fall within the no-more-than-twice-the-car-travel threshold is calculated for the route.\"\n",
    "    )\n",
    ")"
   ]
  },
  {
   "cell_type": "code",
   "execution_count": null,
   "id": "d4614f54-e492-4852-a7dc-b2e8d66785da",
   "metadata": {},
   "outputs": [],
   "source": [
    "y_col1 = \"bus_multiplier\"\n",
    "Y_MIN1, Y_MAX1 = parallel_corridors_utils.set_yaxis_range(plot_me, y_col1)\n",
    "\n",
    "y_col2 = \"bus_difference\"\n",
    "Y_MIN2, Y_MAX2 = parallel_corridors_utils.set_yaxis_range(plot_me, y_col2)"
   ]
  },
  {
   "cell_type": "code",
   "execution_count": null,
   "id": "9534b3bb-29eb-4f3f-b5d7-92c7e864002e",
   "metadata": {},
   "outputs": [],
   "source": [
    "def combine_stripplots(df):\n",
    "    multiplier_chart = parallel_corridors_utils.make_stripplot(\n",
    "        df, y_col1, Y_MIN = Y_MIN1, Y_MAX = Y_MAX1\n",
    "    )\n",
    "    \n",
    "    difference_chart = parallel_corridors_utils.make_stripplot(\n",
    "        df, y_col2, Y_MIN = Y_MIN2, Y_MAX = Y_MAX2\n",
    "    )\n",
    "    \n",
    "    return multiplier_chart, difference_chart"
   ]
  },
  {
   "cell_type": "code",
   "execution_count": null,
   "id": "97a60d10-9361-4125-b6b5-da6d420cec9b",
   "metadata": {},
   "outputs": [],
   "source": [
    "s1, s2 = combine_stripplots(plot_me[plot_me.route_group==\"short\"])"
   ]
  },
  {
   "cell_type": "code",
   "execution_count": null,
   "id": "5b2de243-1ec5-4745-a257-eb2dc5f8543d",
   "metadata": {},
   "outputs": [],
   "source": [
    "display(HTML(\"<h2>Short Routes</h2>\"))"
   ]
  },
  {
   "cell_type": "code",
   "execution_count": null,
   "id": "42dd25ab-5f9d-4865-b37c-ef18c47bac9c",
   "metadata": {},
   "outputs": [],
   "source": [
    "s1"
   ]
  },
  {
   "cell_type": "code",
   "execution_count": null,
   "id": "7dc36db6-eb6f-424e-ac33-44100baa338e",
   "metadata": {},
   "outputs": [],
   "source": [
    "s2"
   ]
  }
 ],
 "metadata": {
  "kernelspec": {
   "display_name": "Python 3 (ipykernel)",
   "language": "python",
   "name": "python3"
  },
  "language_info": {
   "codemirror_mode": {
    "name": "ipython",
    "version": 3
   },
   "file_extension": ".py",
   "mimetype": "text/x-python",
   "name": "python",
   "nbconvert_exporter": "python",
   "pygments_lexer": "ipython3",
   "version": "3.9.10"
  }
 },
 "nbformat": 4,
 "nbformat_minor": 5
}
