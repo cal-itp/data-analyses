{
 "cells": [
  {
   "cell_type": "markdown",
   "id": "5ff7c064-c9cd-47ec-bbd3-e5f14f8e869c",
   "metadata": {},
   "source": [
    "## Transit Route Recs \n",
    "\n",
    "Plot the transit route's line geom. "
   ]
  },
  {
   "cell_type": "code",
   "execution_count": 1,
   "id": "e8d5db15-c641-4a1e-8446-21f6f1104ea0",
   "metadata": {},
   "outputs": [
    {
     "name": "stderr",
     "output_type": "stream",
     "text": [
      "/opt/conda/lib/python3.10/site-packages/geopandas/_compat.py:112: UserWarning: The Shapely GEOS version (3.10.3-CAPI-1.16.1) is incompatible with the GEOS version PyGEOS was compiled with (3.10.1-CAPI-1.16.0). Conversions between both will be slow.\n",
      "  warnings.warn(\n"
     ]
    }
   ],
   "source": [
    "import geopandas as gpd\n",
    "import intake\n",
    "import pandas as pd\n",
    "\n",
    "from IPython.display import Markdown\n",
    "\n",
    "#from bus_service_utils import calenviroscreen_lehd_utils\n",
    "from shared_utils import calitp_color_palette as cp\n",
    "from shared_utils import geography_utils\n",
    "\n",
    "catalog = intake.open_catalog(\"./*.yml\")"
   ]
  },
  {
   "cell_type": "code",
   "execution_count": 6,
   "id": "372e50db-12a0-45c8-9f16-18900e6083a0",
   "metadata": {},
   "outputs": [],
   "source": [
    "gdf = catalog.bus_routes_aggregated_stats.read().to_crs(geography_utils.WGS84)"
   ]
  },
  {
   "cell_type": "code",
   "execution_count": null,
   "id": "506093a3-4b23-45b3-b46a-97e4fd936799",
   "metadata": {},
   "outputs": [],
   "source": []
  },
  {
   "cell_type": "code",
   "execution_count": null,
   "id": "e22a1d1d-ba18-46b5-a08d-98872d562b8e",
   "metadata": {},
   "outputs": [],
   "source": []
  },
  {
   "cell_type": "code",
   "execution_count": null,
   "id": "382a0ffa-db7d-46ea-bc05-ffee097988dc",
   "metadata": {},
   "outputs": [],
   "source": [
    "def make_map(gdf: gpd.GeoDataFrame, district: str,\n",
    "             plot_col: str) -> gpd.GeoDataFrame: \n",
    "\n",
    "    display(gdf)\n",
    "    \n",
    "    if \"speed\" in plot_col: \n",
    "        c = True\n",
    "    else:\n",
    "        c = False\n",
    "    \n",
    "    m = gdf.drop(columns = \"service_date\").explore(\n",
    "        plot_col, categorical=c,\n",
    "        cmap = cp.CALITP_CATEGORY_BOLD_COLORS,\n",
    "        tiles = \"Carto DB Positron\"\n",
    "    )\n",
    "    \n",
    "    display(Markdown(f\"### District {district} Routes \"))\n",
    "    display(m)\n",
    "\n",
    "\n",
    "def identify_high_trip_low_speeds_by_district(df: gpd.GeoDataFrame, \n",
    "                                              district: str, trips_col: str, \n",
    "                                              speed_col: str) -> gpd.GeoDataFrame:\n",
    "    subset = df[df.caltrans_district == district].reset_index(drop=True)\n",
    "    \n",
    "    print(f\"# routes: {len(subset)}\")\n",
    "    \n",
    "    stats_cols = [\"trips_peak\", \"trips_all_day\", \n",
    "                  \"mean_speed_mph\", \"pct_trips_competitive\"]\n",
    "    \n",
    "    subset2 = subset[(subset.mean_speed_mph.notna()) & \n",
    "                     (subset[trips_col].notna()) & \n",
    "                     (subset.geometry.notna())\n",
    "                    ].reset_index(drop=True)\n",
    "    \n",
    "    if len(subset2) > 0:\n",
    "        print(f\"# routes with full info:{len(subset2)}\")\n",
    "        print(f\"# routes with missing info: {len(subset) - len(subset2)}\")\n",
    "        \n",
    "        subset3 = calenviroscreen_lehd_utils.define_equity_groups(\n",
    "            subset2, percentile_col = stats_cols , num_groups = 4)\n",
    "        \n",
    "        # Plot trips that are top 50%, speeds are bottom 50%\n",
    "        can_be_plotted = subset3[(subset3[f\"{trips_col}_group\"] >= 3) & \n",
    "                                 (subset3[f\"{speed_col}_group\"] <= 2)\n",
    "                                ]\n",
    "        if len(can_be_plotted) > 0:\n",
    "            make_map(can_be_plotted, district, trips_col, speed_col)\n",
    "\n",
    "            return subset3\n",
    "        else:\n",
    "            print(f\"No observations with combination: top 50% of {trips_col}, bottom 50% of {speed_col}\")\n",
    "    else:\n",
    "        print(\"No observations after missing info dropped\")"
   ]
  },
  {
   "cell_type": "code",
   "execution_count": null,
   "id": "5f251cd7-8224-418a-8927-2ff2bc0b86e8",
   "metadata": {},
   "outputs": [],
   "source": [
    "districts = gdf[gdf.caltrans_district.notna()].caltrans_district.unique().tolist()\n",
    "\n",
    "for d in sorted(districts):\n",
    "    display(Markdown(f\"## District {d}\"))\n",
    "    \n",
    "    district = identify_high_trip_low_speeds_by_district(\n",
    "        gdf, d, \n",
    "        trips_col = \"trips_all_day\", speed_col = \"mean_speed_mph\")"
   ]
  },
  {
   "cell_type": "code",
   "execution_count": null,
   "id": "277c980a-697f-478f-9e4e-b4b561599966",
   "metadata": {},
   "outputs": [],
   "source": []
  },
  {
   "cell_type": "code",
   "execution_count": null,
   "id": "fb02e965-ac6e-4d29-b620-20d0fdee6088",
   "metadata": {},
   "outputs": [],
   "source": []
  }
 ],
 "metadata": {
  "kernelspec": {
   "display_name": "Python 3 (ipykernel)",
   "language": "python",
   "name": "python3"
  },
  "language_info": {
   "codemirror_mode": {
    "name": "ipython",
    "version": 3
   },
   "file_extension": ".py",
   "mimetype": "text/x-python",
   "name": "python",
   "nbconvert_exporter": "python",
   "pygments_lexer": "ipython3",
   "version": "3.10.5"
  }
 },
 "nbformat": 4,
 "nbformat_minor": 5
}
