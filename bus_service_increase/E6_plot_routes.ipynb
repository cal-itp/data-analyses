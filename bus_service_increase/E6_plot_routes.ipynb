{
 "cells": [
  {
   "cell_type": "markdown",
   "id": "5ff7c064-c9cd-47ec-bbd3-e5f14f8e869c",
   "metadata": {},
   "source": [
    "## Plot Transit Routes with Low Speeds / High Trips \n",
    "\n",
    "Plot the transit route's line geom. Not highway segments. See what shows up."
   ]
  },
  {
   "cell_type": "code",
   "execution_count": null,
   "id": "e8d5db15-c641-4a1e-8446-21f6f1104ea0",
   "metadata": {},
   "outputs": [],
   "source": [
    "import geopandas as gpd\n",
    "import intake\n",
    "import pandas as pd\n",
    "\n",
    "from IPython.display import Markdown\n",
    "\n",
    "from bus_service_utils import (calenviroscreen_lehd_utils, \n",
    "                               create_parallel_corridors)\n",
    "from shared_utils import calitp_color_palette as cp\n",
    "from shared_utils import geography_utils\n",
    "\n",
    "catalog = intake.open_catalog(\"./*.yml\")"
   ]
  },
  {
   "cell_type": "code",
   "execution_count": null,
   "id": "6c1f37c9-8b98-4f9e-8455-d46d48047ca4",
   "metadata": {},
   "outputs": [],
   "source": [
    "def prep_data_for_viz():\n",
    "    gdf = catalog.bus_routes_aggregated_stats.read()\n",
    "    \n",
    "    # Fix types, rounding\n",
    "    drop_cols = [\"route_length\", \"bus_difference_mean\", \n",
    "                 \"bus_multiplier_mean\", \"bus_difference_spread\"]\n",
    "    \n",
    "    gdf = gdf.assign(\n",
    "        route_length_mi = round(gdf.route_length / geography_utils.FEET_PER_MI, 2),\n",
    "        mean_speed_mph = gdf.mean_speed_mph.round(1),\n",
    "        pct_trips_competitive = gdf.pct_trips_competitive.round(2)\n",
    "    ).drop(columns = drop_cols).to_crs(geography_utils.WGS84)\n",
    "    \n",
    "    integrify_me = [\"num_competitive\", \"trips_all_day\", \"trips_peak\"]\n",
    "    gdf[integrify_me] = gdf[integrify_me].astype(\"Int64\")\n",
    "    \n",
    "    # Missing values present, drop now\n",
    "    gdf = gdf[gdf.caltrans_district.notna()].reset_index(drop=True)\n",
    "    \n",
    "    return gdf\n",
    "\n",
    "gdf = prep_data_for_viz()"
   ]
  },
  {
   "cell_type": "code",
   "execution_count": null,
   "id": "382a0ffa-db7d-46ea-bc05-ffee097988dc",
   "metadata": {},
   "outputs": [],
   "source": [
    "def make_map(gdf: gpd.GeoDataFrame, district: str,\n",
    "             trips_col: str, speed_col: str) -> gpd.GeoDataFrame: \n",
    "    \n",
    "    \n",
    "    table_title = (f\"Routes in top 50% of {trips_col.replace('_', ' ')} and \"\n",
    "                   f\"bottom 50% of {speed_col.replace('_', ' ')}\"\n",
    "                  )\n",
    "    \n",
    "    display(Markdown(f\"#### {table_title}\"))\n",
    "    display(gdf)\n",
    "    \n",
    "    m = gdf.drop(columns = \"service_date\").explore(\n",
    "        \"route_id\", categorical=True,\n",
    "        cmap = cp.CALITP_CATEGORY_BOLD_COLORS,\n",
    "        tiles = \"Carto DB Positron\"\n",
    "    )\n",
    "    \n",
    "    display(Markdown(f\"### District {district} Routes with Low Speeds / High Trips\"))\n",
    "    display(m)\n",
    "\n",
    "\n",
    "def identify_high_trip_low_speeds_by_district(df: gpd.GeoDataFrame, \n",
    "                                              district: str, trips_col: str, \n",
    "                                              speed_col: str) -> gpd.GeoDataFrame:\n",
    "    subset = df[df.caltrans_district == district].reset_index(drop=True)\n",
    "    \n",
    "    print(f\"# routes: {len(subset)}\")\n",
    "    \n",
    "    stats_cols = [\"trips_peak\", \"trips_all_day\", \n",
    "                  \"mean_speed_mph\", \"pct_trips_competitive\"]\n",
    "    \n",
    "    subset2 = subset[(subset.mean_speed_mph.notna()) & \n",
    "                     (subset[trips_col].notna()) & \n",
    "                     (subset.geometry.notna())\n",
    "                    ].reset_index(drop=True)\n",
    "    \n",
    "    if len(subset2) > 0:\n",
    "        print(f\"# routes with full info:{len(subset2)}\")\n",
    "        print(f\"# routes with missing info: {len(subset) - len(subset2)}\")\n",
    "        \n",
    "        subset3 = calenviroscreen_lehd_utils.define_equity_groups(\n",
    "            subset2, percentile_col = stats_cols , num_groups = 4)\n",
    "        \n",
    "        # Plot trips that are top 50%, speeds are bottom 50%\n",
    "        can_be_plotted = subset3[(subset3[f\"{trips_col}_group\"] >= 3) & \n",
    "                                 (subset3[f\"{speed_col}_group\"] <= 2)\n",
    "                                ]\n",
    "        if len(can_be_plotted) > 0:\n",
    "            make_map(can_be_plotted, district, trips_col, speed_col)\n",
    "\n",
    "            return subset3\n",
    "        else:\n",
    "            print(f\"No observations with combination: top 50% of {trips_col}, bottom 50% of {speed_col}\")\n",
    "    else:\n",
    "        print(\"No observations after missing info dropped\")"
   ]
  },
  {
   "cell_type": "code",
   "execution_count": null,
   "id": "5f251cd7-8224-418a-8927-2ff2bc0b86e8",
   "metadata": {},
   "outputs": [],
   "source": [
    "districts = gdf[gdf.caltrans_district.notna()].caltrans_district.unique().tolist()\n",
    "\n",
    "for d in sorted(districts):\n",
    "    display(Markdown(f\"## District {d}\"))\n",
    "    \n",
    "    district = identify_high_trip_low_speeds_by_district(\n",
    "        gdf, d, \n",
    "        trips_col = \"trips_all_day\", speed_col = \"mean_speed_mph\")"
   ]
  },
  {
   "cell_type": "code",
   "execution_count": null,
   "id": "277c980a-697f-478f-9e4e-b4b561599966",
   "metadata": {},
   "outputs": [],
   "source": []
  },
  {
   "cell_type": "code",
   "execution_count": null,
   "id": "fb02e965-ac6e-4d29-b620-20d0fdee6088",
   "metadata": {},
   "outputs": [],
   "source": []
  }
 ],
 "metadata": {
  "kernelspec": {
   "display_name": "Python 3 (ipykernel)",
   "language": "python",
   "name": "python3"
  },
  "language_info": {
   "codemirror_mode": {
    "name": "ipython",
    "version": 3
   },
   "file_extension": ".py",
   "mimetype": "text/x-python",
   "name": "python",
   "nbconvert_exporter": "python",
   "pygments_lexer": "ipython3",
   "version": "3.10.5"
  }
 },
 "nbformat": 4,
 "nbformat_minor": 5
}
