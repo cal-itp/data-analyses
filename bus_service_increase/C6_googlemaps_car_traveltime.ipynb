{
 "cells": [
  {
   "cell_type": "markdown",
   "id": "77cc360f-dd72-44cf-921b-1271ec8e3017",
   "metadata": {},
   "source": [
    "# Compare car `duration_in_traffic` with bus `service_hours`\n",
    "\n",
    "* Move Google Directions API requests to `make_gmaps_requests`\n",
    "* Try to cache results and only revisit the trips where no request was given (skipped), to see if there's something else to fix in how waypoints were constructed"
   ]
  },
  {
   "cell_type": "code",
   "execution_count": null,
   "id": "9ddd60e2-6708-41e7-96f4-c09003c8a717",
   "metadata": {},
   "outputs": [],
   "source": [
    "import glob\n",
    "import os\n",
    "import pandas as pd\n",
    "\n",
    "import utils\n",
    "\n",
    "DATA_PATH = \"./gmaps_cache/\"\n",
    "GCS_FILE_PATH = f\"{utils.GCS_FILE_PATH}gmaps_cache/\""
   ]
  },
  {
   "cell_type": "code",
   "execution_count": null,
   "id": "0235bbf2-518a-43d1-bb42-f1282b3571a1",
   "metadata": {},
   "outputs": [],
   "source": [
    "df = pd.read_parquet(f\"{utils.GCS_FILE_PATH}gmaps_df.parquet\")"
   ]
  },
  {
   "cell_type": "code",
   "execution_count": null,
   "id": "230864cb-5dd7-4f27-ad4c-02bb4415076d",
   "metadata": {},
   "outputs": [],
   "source": [
    "result_ids = list(df.identifier)\n",
    "\n",
    "successful_ids = []\n",
    "durations = []\n",
    "\n",
    "for i in result_ids:\n",
    "    try:\n",
    "        json_dict = utils.open_request_json(i, DATA_PATH = DATA_PATH, \n",
    "                                GCS_FILE_PATH = GCS_FILE_PATH\n",
    "                               )\n",
    "        duration_in_sec = json_dict[\"legs\"][0][\"duration_in_traffic\"][\"value\"]\n",
    "        durations.append(duration_in_sec)\n",
    "        successful_ids.append(i)\n",
    "    except:\n",
    "        print(f\"Not found: {i}\")"
   ]
  },
  {
   "cell_type": "code",
   "execution_count": null,
   "id": "5666b614-df8a-4b10-a9a8-7268fd96c4b0",
   "metadata": {},
   "outputs": [],
   "source": [
    "# Double check lengths match\n",
    "print(f\"# results_ids: {len(successful_ids)}\")\n",
    "print(f\"# durations: {len(durations)}\")\n",
    "\n",
    "if len(successful_ids) == len(durations):\n",
    "    results_df = pd.DataFrame(\n",
    "        {'identifier': successful_ids,\n",
    "         'duration_in_sec': durations,\n",
    "        })\n",
    "    "
   ]
  },
  {
   "cell_type": "code",
   "execution_count": null,
   "id": "dabff4b0-7907-48f4-b208-1f0a8723c552",
   "metadata": {},
   "outputs": [],
   "source": [
    "final = pd.merge(df, \n",
    "                 results_df, \n",
    "                 on = \"identifier\",\n",
    "                 how = \"left\", \n",
    "                 validate = \"1:1\"\n",
    "                )\n",
    "\n",
    "def compare_travel_time_by_mode(df):\n",
    "    df = df.assign(\n",
    "        car_duration_hrs = df.duration_in_sec.divide(60 * 60)\n",
    "    )\n",
    "    \n",
    "    df = df.assign(\n",
    "        competitive = df.apply(lambda x: \n",
    "                               1 if x.service_hours <= (x.car_duration_hrs * 2)\n",
    "                               else 0,  axis=1)\n",
    "    )\n",
    "    return df\n",
    "\n",
    "final2 = compare_travel_time_by_mode(final)\n",
    "\n",
    "final2.to_parquet(\"./results.parquet\")"
   ]
  },
  {
   "cell_type": "code",
   "execution_count": null,
   "id": "c116961e-2212-431d-8b4e-4e492dd2a967",
   "metadata": {},
   "outputs": [],
   "source": [
    "# Check if there are any identifiers already cached\n",
    "# Drop those from our df\n",
    "FILES = [f for f in glob.glob(f\"{DATA_PATH}*.json\")]\n",
    "filenames = []\n",
    "for f in FILES:\n",
    "    file = f.strip(f'{DATA_PATH}').strip('.json')\n",
    "    filenames.append(file)\n",
    "\n",
    "print(f\"# rows: {len(df)}\")\n",
    "print(f\"# rows with results: {len(final[final.duration_in_sec.notna()])}\")\n",
    "print(f\"# rows with no results: {len(final[final.duration_in_sec.isna()])}\")"
   ]
  },
  {
   "cell_type": "markdown",
   "id": "03e719ba-23ab-4a72-b1ab-8e89316c2708",
   "metadata": {},
   "source": [
    "## Competitive Routes"
   ]
  },
  {
   "cell_type": "code",
   "execution_count": null,
   "id": "483e7c3a-ea7a-4c61-a13e-060bdd7c05f8",
   "metadata": {},
   "outputs": [],
   "source": [
    "results = pd.read_parquet(\"./results.parquet\")\n",
    "results.competitive.value_counts()"
   ]
  },
  {
   "cell_type": "markdown",
   "id": "2825cc7e-b216-4de4-b769-82049953a464",
   "metadata": {},
   "source": [
    "## Trips with no results from Google"
   ]
  },
  {
   "cell_type": "code",
   "execution_count": null,
   "id": "dd494279-0ff2-44d3-b822-0d20528d990a",
   "metadata": {},
   "outputs": [],
   "source": [
    "import dotenv\n",
    "import googlemaps\n",
    "import os\n",
    "\n",
    "dotenv.load_dotenv(\"_env\")\n",
    "\n",
    "GOOGLE_API_KEY = os.environ[\"GOOGLE_API_KEY\"]\n",
    "\n",
    "gmaps = googlemaps.Client(key=GOOGLE_API_KEY)"
   ]
  },
  {
   "cell_type": "code",
   "execution_count": null,
   "id": "27407ab2-793f-4f12-b399-d4394df14cad",
   "metadata": {},
   "outputs": [],
   "source": [
    "no_results = pd.read_parquet(\"./results.parquet\")\n",
    "no_results = no_results[no_results.duration_in_sec.isna()]"
   ]
  },
  {
   "cell_type": "code",
   "execution_count": null,
   "id": "ad064666-7a5e-46db-9f2c-a1090bd45200",
   "metadata": {},
   "outputs": [],
   "source": [
    "for i, (o, d) in enumerate(zip(origin, destination)):\n",
    "    try:\n",
    "        result = gmaps.directions(\n",
    "            o, d, \n",
    "            mode='driving', \n",
    "            departure_time=departures[i], \n",
    "            waypoints=[f\"via:{lat},{lon}\" for lat, lon in waypoints[i]]\n",
    "        )\n",
    "\n",
    "        utils.save_request_json(\n",
    "            result, identifiers[i], \n",
    "            # Using different paths than utils.DATA_PATH, utils.GCS_FILE_PATH\n",
    "            DATA_PATH = DATA_PATH,\n",
    "            GCS_FILE_PATH = GCS_FILE_PATH\n",
    "        )\n",
    "    except:\n",
    "        print(f\"No result: {identifiers[i]}\")"
   ]
  },
  {
   "cell_type": "code",
   "execution_count": null,
   "id": "397cf22a-f856-4fd5-b0de-f028f9522a0e",
   "metadata": {},
   "outputs": [],
   "source": []
  }
 ],
 "metadata": {
  "kernelspec": {
   "display_name": "Python 3 (ipykernel)",
   "language": "python",
   "name": "python3"
  },
  "language_info": {
   "codemirror_mode": {
    "name": "ipython",
    "version": 3
   },
   "file_extension": ".py",
   "mimetype": "text/x-python",
   "name": "python",
   "nbconvert_exporter": "python",
   "pygments_lexer": "ipython3",
   "version": "3.9.10"
  }
 },
 "nbformat": 4,
 "nbformat_minor": 5
}
