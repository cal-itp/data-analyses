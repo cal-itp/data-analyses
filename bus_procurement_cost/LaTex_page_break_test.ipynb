{
 "cells": [
  {
   "cell_type": "markdown",
   "id": "80e85ec4-5ed4-4909-a64e-a00786775d98",
   "metadata": {},
   "source": [
    "# Section 1 - Start of page 1\n",
    "\n",
    "This is the first section. using LaTex tag to set page break\n",
    "\n",
    "\\newpage\n",
    "\n",
    "# Section 2 - Start of page 2\n",
    "\n",
    "This is the second section.\n"
   ]
  },
  {
   "cell_type": "code",
   "execution_count": null,
   "id": "02a1f8e8-3a2c-411d-88ee-103a9a39a919",
   "metadata": {},
   "outputs": [],
   "source": []
  }
 ],
 "metadata": {
  "kernelspec": {
   "display_name": "Python 3 (ipykernel)",
   "language": "python",
   "name": "python3"
  },
  "language_info": {
   "codemirror_mode": {
    "name": "ipython",
    "version": 3
   },
   "file_extension": ".py",
   "mimetype": "text/x-python",
   "name": "python",
   "nbconvert_exporter": "python",
   "pygments_lexer": "ipython3",
   "version": "3.9.13"
  }
 },
 "nbformat": 4,
 "nbformat_minor": 5
}
