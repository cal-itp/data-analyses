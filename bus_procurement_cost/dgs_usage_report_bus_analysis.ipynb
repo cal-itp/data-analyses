{
 "cells": [
  {
   "cell_type": "code",
   "execution_count": 1,
   "id": "d4cd3d09-86ee-439c-bb3d-081b369f48bd",
   "metadata": {
    "tags": []
   },
   "outputs": [],
   "source": [
    "import matplotlib.pyplot as plt\n",
    "from matplotlib.ticker import ScalarFormatter\n",
    "import numpy as np\n",
    "import pandas as pd\n",
    "import seaborn as sns\n",
    "import shared_utils\n",
    "from scipy.stats import zscore\n",
    "\n",
    "# set_option to increase max rows displayed to 200, to see entire df in 1 go/\n",
    "pd.set_option(\"display.max_rows\", 200)\n",
    "\n",
    "# function to display df info\n",
    "def df_peek(df):\n",
    "    display(type(df), df.shape, df.dtypes)"
   ]
  },
  {
   "cell_type": "markdown",
   "id": "a56fb4a4-2d26-4623-89d4-d4d73e6dc9c0",
   "metadata": {},
   "source": [
    "## Read in Raw Data\n",
    "17C and 17B via excels"
   ]
  },
  {
   "cell_type": "code",
   "execution_count": 2,
   "id": "d8eee2f3-e730-4dd6-b4ba-a106fb727b7e",
   "metadata": {},
   "outputs": [],
   "source": [
    "# Params to read in dgs data\n",
    "url_17c = 'gs://calitp-analytics-data/data-analyses/bus_procurement_cost/17c compiled-Proterra Compiled Contract Usage Report .xlsx'\n",
    "url_17b = 'gs://calitp-analytics-data/data-analyses/bus_procurement_cost/17b compiled.xlsx'\n",
    "\n",
    "sheet_17c = 'Proterra '\n",
    "sheet_17b = 'Usage Report Template'\n",
    "\n",
    "def read_excel(url, sheet):\n",
    "    df = pd.read_excel(url, sheet_name=sheet)\n",
    "    \n",
    "    return df\n",
    "\n",
    "dgs_17c = read_excel(url_17c, sheet_17c)\n",
    "dgs_17b = read_excel(url_17b, sheet_17b)\n",
    "\n",
    "#add new column to identify source\n",
    "dgs_17c['source'] = '17c'\n",
    "dgs_17b['source'] = '17b'"
   ]
  },
  {
   "cell_type": "markdown",
   "id": "6c03e147-68df-4c9e-b150-da4ef7f35652",
   "metadata": {},
   "source": [
    "## Merge data frames"
   ]
  },
  {
   "cell_type": "code",
   "execution_count": 3,
   "id": "f657e2e7-b43f-46aa-870c-8c3ab0bc8404",
   "metadata": {},
   "outputs": [],
   "source": [
    "merge_col=['Supplier Contract Usage ID',\n",
    "          'Ordering Agency Name',\n",
    "          'State (S) or Local (L) agency',\n",
    "          'Purchasing Authority Number                    (for State departments)',\n",
    "          'Agency Billing Code',\n",
    "          'Purchase Order Number',\n",
    "          'Purchase Order Date',\n",
    "          'Delivery Date',\n",
    "          'Contract Line Item Number (CLIN)                (RFP ID)',\n",
    "          'UNSPSC Code\\n(Version 10)',\n",
    "          'Manufacturer Part Number (OEM #)',\n",
    "          'Manufacturer (OEM)',\n",
    "          'Item Description',\n",
    "          'Unit of Measure',\n",
    "          'Quantity in \\nUnit of Measure\\n',\n",
    "          'Quantity',\n",
    "          'List Price/MSRP',\n",
    "          'Index Date / Catalog Version',\n",
    "          'Contract Unit Price',\n",
    "          'Extended Contract Price Paid',\n",
    "          'source']\n",
    "\n",
    "dgs_17bc = pd.merge(dgs_17b, dgs_17c, how='outer', on= merge_col).fillna(0)"
   ]
  },
  {
   "cell_type": "code",
   "execution_count": 4,
   "id": "348cea08-168c-4c60-a300-38d0383d742b",
   "metadata": {},
   "outputs": [],
   "source": [
    "# check work\n",
    "# number of rows is correct (107 rows)\n",
    "# will need to work on merge columns\n",
    "\n",
    "#df_peek(dgs_17bc)\n"
   ]
  },
  {
   "cell_type": "markdown",
   "id": "7bab257b-5715-4dfb-9b08-dddb19c05d23",
   "metadata": {},
   "source": [
    "## Data Cleaning and QC"
   ]
  },
  {
   "cell_type": "code",
   "execution_count": 5,
   "id": "30d97c40-8b3e-4d7a-955e-8ae4301c8602",
   "metadata": {},
   "outputs": [],
   "source": [
    "#snake case columns\n",
    "def snake_case(df):\n",
    "    df.columns = df.columns.str.lower().str.replace(' ', '_').str.strip()\n",
    "    \n",
    "snake_case(dgs_17bc)"
   ]
  },
  {
   "cell_type": "code",
   "execution_count": 6,
   "id": "cab936ca-7af3-483c-b51e-e0c60381bf06",
   "metadata": {},
   "outputs": [
    {
     "data": {
      "text/plain": [
       "Index(['supplier_contract_usage_id', 'ordering_agency_name',\n",
       "       'state_(s)_or_local_(l)_agency',\n",
       "       'purchasing_authority_number____________________(for_state_departments)',\n",
       "       'agency_billing_code', 'purchase_order_number', 'purchase_order_date',\n",
       "       'delivery_date',\n",
       "       'contract_line_item_number_(clin)________________(rfp_id)',\n",
       "       'unspsc_code\\n(version_10)', 'manufacturer_part_number_(oem_#)',\n",
       "       'manufacturer_(oem)', 'sku_#_/_item_#_x', 'item_description',\n",
       "       'unit_of_measure', 'quantity_in_\\nunit_of_measure', 'epp_(y/n)_x',\n",
       "       'quantity', 'list_price/msrp', 'index_date_/_catalog_version',\n",
       "       'contract_unit_price', 'contract_discount_x',\n",
       "       'extended_contract_price_paid', 'total_with_options_per_unit',\n",
       "       'grand_total', 'source', 'sku_#_/_item_#_y', 'epp_(y/n)_y',\n",
       "       'contract_discount_y', 'core/_noncore', 'group_id/_segment_id'],\n",
       "      dtype='object')"
      ]
     },
     "execution_count": 6,
     "metadata": {},
     "output_type": "execute_result"
    }
   ],
   "source": [
    "# check work\n",
    "dgs_17bc.columns"
   ]
  },
  {
   "cell_type": "code",
   "execution_count": 7,
   "id": "cb5aba84-349f-4ae0-9d22-2d4024b1e41f",
   "metadata": {},
   "outputs": [],
   "source": [
    "# check financial columns to be `int64`\n",
    "money =['contract_unit_price',\n",
    "       'extended_contract_price_paid',\n",
    "       'total_with_options_per_unit',\n",
    "       'grand_total']\n",
    "\n",
    "# loop that takes money list to convert to int64 dtype\n",
    "for column in money:\n",
    "    dgs_17bc[column] = dgs_17bc[column].astype('int64')"
   ]
  },
  {
   "cell_type": "code",
   "execution_count": 8,
   "id": "6510c988-5ad2-4f80-8bcb-ab3b8a4973a7",
   "metadata": {},
   "outputs": [
    {
     "data": {
      "text/plain": [
       "contract_unit_price             int64\n",
       "extended_contract_price_paid    int64\n",
       "total_with_options_per_unit     int64\n",
       "grand_total                     int64\n",
       "dtype: object"
      ]
     },
     "execution_count": 8,
     "metadata": {},
     "output_type": "execute_result"
    }
   ],
   "source": [
    "# check work. GTG\n",
    "# the columns are int64 dtype\n",
    "dgs_17bc[money].dtypes\n"
   ]
  },
  {
   "cell_type": "code",
   "execution_count": 9,
   "id": "7e8378dd-f0bb-42b0-8582-a99be893dc0c",
   "metadata": {},
   "outputs": [],
   "source": [
    "# drop unnessary columns?\n",
    "drops =['supplier_contract_usage_id',\n",
    "       'state_(s)_or_local_(l)_agency',\n",
    "       'purchasing_authority_number____________________(for_state_departments)',\n",
    "       'agency_billing_code',\n",
    "       'unspsc_code\\n(version_10)',\n",
    "       'unit_of_measure',\n",
    "       'epp_(y/n)_x',\n",
    "       'epp_(y/n)_y',\n",
    "       'list_price/msrp',\n",
    "       'index_date_/_catalog_version',\n",
    "       'core/_noncore',\n",
    "       'group_id/_segment_id']\n",
    "\n",
    "dgs_17bc.drop(columns=drops, inplace=True)"
   ]
  },
  {
   "cell_type": "code",
   "execution_count": 10,
   "id": "c44ed940-16d3-4782-9833-b6f772be16fe",
   "metadata": {},
   "outputs": [
    {
     "data": {
      "text/plain": [
       "pandas.core.frame.DataFrame"
      ]
     },
     "metadata": {},
     "output_type": "display_data"
    },
    {
     "data": {
      "text/plain": [
       "(107, 19)"
      ]
     },
     "metadata": {},
     "output_type": "display_data"
    },
    {
     "data": {
      "text/plain": [
       "ordering_agency_name                                         object\n",
       "purchase_order_number                                        object\n",
       "purchase_order_date                                          object\n",
       "delivery_date                                                object\n",
       "contract_line_item_number_(clin)________________(rfp_id)    float64\n",
       "manufacturer_part_number_(oem_#)                             object\n",
       "manufacturer_(oem)                                           object\n",
       "sku_#_/_item_#_x                                             object\n",
       "item_description                                             object\n",
       "quantity_in_\\nunit_of_measure                                 int64\n",
       "quantity                                                      int64\n",
       "contract_unit_price                                           int64\n",
       "contract_discount_x                                          object\n",
       "extended_contract_price_paid                                  int64\n",
       "total_with_options_per_unit                                   int64\n",
       "grand_total                                                   int64\n",
       "source                                                       object\n",
       "sku_#_/_item_#_y                                            float64\n",
       "contract_discount_y                                         float64\n",
       "dtype: object"
      ]
     },
     "metadata": {},
     "output_type": "display_data"
    }
   ],
   "source": [
    "# check work. GTG\n",
    "# initial merge had like 30 columns\n",
    "\n",
    "df_peek(dgs_17bc)"
   ]
  },
  {
   "cell_type": "code",
   "execution_count": 11,
   "id": "b106dfff-eb1c-46ab-8805-ab362da92366",
   "metadata": {},
   "outputs": [],
   "source": [
    "# new column for total cost\n",
    "# 17b >> `grand total` = total_with_options * quanity\n",
    "# 17c >> `extended contract price paid` = contract unit price * quanity\n",
    "\n",
    "# what im trying to do: create a new column called \"total_cost\". for each row, if `totals_with_options_per_unit` is >=0, then multiply `totals_with_options_per_unit` by `quanity'\n",
    "# if 0, then multiple `contract_unit_price` by `quanity`.\n",
    "\n",
    "# df['total_cost'] = df['quanity'] * df['total_with_options'] or df['contract unit price']???\n",
    "\n",
    "def calculate_total_cost(row):\n",
    "    if row['total_with_options_per_unit'] > 0:\n",
    "        return row['total_with_options_per_unit'] * row['quantity']\n",
    "    else:\n",
    "        return row['contract_unit_price'] * row['quantity']\n"
   ]
  },
  {
   "cell_type": "code",
   "execution_count": 12,
   "id": "a5356705-c2bb-4945-95b5-03f709219287",
   "metadata": {},
   "outputs": [],
   "source": [
    "# new colum for total cost\n",
    "\n",
    "dgs_17bc['total_cost'] = dgs_17bc.apply(calculate_total_cost, axis=1)"
   ]
  },
  {
   "cell_type": "code",
   "execution_count": 13,
   "id": "5ab1ba22-5200-44d7-b40f-400aa8efcf76",
   "metadata": {},
   "outputs": [
    {
     "data": {
      "text/plain": [
       "(107, 7)"
      ]
     },
     "execution_count": 13,
     "metadata": {},
     "output_type": "execute_result"
    }
   ],
   "source": [
    "# comparing totals columns to new `total_cost` column to see if logic works\n",
    "# 17b = Grand total\n",
    "# 17c = Extended Contract Price Paid\n",
    "keep_col=['ordering_agency_name',\n",
    "         'purchase_order_number',\n",
    "          'item_description',\n",
    "          'source',\n",
    "          'grand_total',\n",
    "          'extended_contract_price_paid',\n",
    "         'total_cost']\n",
    "\n",
    "col_compare = dgs_17bc[keep_col]\n",
    "col_compare.shape"
   ]
  },
  {
   "cell_type": "code",
   "execution_count": 14,
   "id": "270f75b6-4ba8-4e1a-9030-831844db696d",
   "metadata": {},
   "outputs": [
    {
     "data": {
      "text/plain": [
       "array(['Extended warranty for Propulsion System and Battery', 'Manuals',\n",
       "       'Extended warranty for Propulsion System, Battery and Air Compressor',\n",
       "       'Manuals, Diagnostic equipment and tooling',\n",
       "       'Extended warranty for Battery and Air Compressor',\n",
       "       'Manuals and Training',\n",
       "       'Training, Manuals, Diagnostic equipment and tooling',\n",
       "       'Extended warranty for Propulsion System, Battery, HVAC, APC and Camera system',\n",
       "       'Extended warranty for Air Compressor',\n",
       "       'Diagnostic equipment and tooling', 'Other - Tools'], dtype=object)"
      ]
     },
     "execution_count": 14,
     "metadata": {},
     "output_type": "execute_result"
    }
   ],
   "source": [
    "# check work. GTG\n",
    "# found some zero values, but manuals and warranty items that didnt have a cost initially.\n",
    "# should be good to go.\n",
    "\n",
    "dgs_17bc[dgs_17bc['total_cost'] ==0].item_description.unique()"
   ]
  },
  {
   "cell_type": "code",
   "execution_count": 15,
   "id": "df7343dc-e164-40e3-a512-32edd09d53d4",
   "metadata": {},
   "outputs": [],
   "source": [
    "# new column for prop_type\n",
    "\n",
    "prop_list = ['Battery Electric Bus',\n",
    "            'battery electric bus',\n",
    "            'Fuel Cell Electric Bus',\n",
    "            'fuel cell electric bus',\n",
    "            'Hydrogen Electic Bus',\n",
    "            'hydrogen electric bus',\n",
    "            'battery electric',\n",
    "            ]\n",
    "\n",
    "# function to match keywords to list\n",
    "def prop_type_finder(description):\n",
    "    for keyword in prop_list:\n",
    "        if keyword in description:\n",
    "            return keyword\n",
    "    return \"not specified\"\n",
    "\n",
    "# add new col `prop_type`, fill it with values based on project_description using prop_type_finder function\n",
    "dgs_17bc[\"prop_type\"] = dgs_17bc[\"item_description\"].apply(prop_type_finder)"
   ]
  },
  {
   "cell_type": "code",
   "execution_count": 16,
   "id": "8252f3af-5257-485e-b512-3fcf4ea6dd89",
   "metadata": {},
   "outputs": [
    {
     "data": {
      "text/plain": [
       "not specified             70\n",
       "Battery Electric Bus      20\n",
       "battery electric bus       8\n",
       "Hydrogen Electic Bus       4\n",
       "battery electric           3\n",
       "Fuel Cell Electric Bus     1\n",
       "hydrogen electric bus      1\n",
       "Name: prop_type, dtype: int64"
      ]
     },
     "metadata": {},
     "output_type": "display_data"
    },
    {
     "data": {
      "text/plain": [
       "Options - Configurables                                                          13\n",
       "Additional 220 kWH battery pack                                                  13\n",
       "Other - Tools                                                                     8\n",
       "Options - Charging Equipment                                                      5\n",
       "Extended warranty for Propulsion System and Battery                               3\n",
       "Options - Configurables (DuoPower)                                                3\n",
       "Other - Spare Parts                                                               3\n",
       "Other - Training, manuals and Tools                                               3\n",
       "Options - Configurables (non taxable)                                             2\n",
       "Extended Warranty                                                                 2\n",
       "Options - Warranty                                                                2\n",
       "Other - Warranty                                                                  2\n",
       "Manuals                                                                           1\n",
       "Other - Training, manuals                                                         1\n",
       "Diagnostic equipment and tooling                                                  1\n",
       "Extended warranty for Air Compressor                                              1\n",
       "Extended warranty for Propulsion System, Battery, HVAC, APC and Camera system     1\n",
       "Training, Manuals, Diagnostic equipment and tooling                               1\n",
       "Manuals and Training                                                              1\n",
       "Extended warranty for Battery and Air Compressor                                  1\n",
       "Manuals, Diagnostic equipment and tooling                                         1\n",
       "Extended warranty for Propulsion System, Battery and Air Compressor               1\n",
       "Options - Configurables (ProDrive)                                                1\n",
       "Name: item_description, dtype: int64"
      ]
     },
     "metadata": {},
     "output_type": "display_data"
    }
   ],
   "source": [
    "# check work. GTG\n",
    "# all good. no more mention of buses in value counts. \n",
    "display(dgs_17bc.prop_type.value_counts(),\n",
    "        dgs_17bc[dgs_17bc['prop_type']=='not specified'].item_description.value_counts()\n",
    "       )"
   ]
  },
  {
   "cell_type": "code",
   "execution_count": 17,
   "id": "6048c764-8cc0-4e57-9f35-93626eb5167d",
   "metadata": {},
   "outputs": [],
   "source": [
    "# new column for bus size type\n",
    "\n",
    "size_list =['35 Foot',\n",
    "           '40 Foot',\n",
    "           '60 foot',\n",
    "           '40 foot',\n",
    "           '35 foot',\n",
    "           ]\n",
    "\n",
    "def bus_size_finder(description):\n",
    "    for keyword in size_list:\n",
    "        if keyword in description:\n",
    "            return keyword\n",
    "    return \"not specified\"\n",
    "\n",
    "dgs_17bc[\"bus_size_type\"] = dgs_17bc[\"item_description\"].apply(bus_size_finder)"
   ]
  },
  {
   "cell_type": "code",
   "execution_count": 18,
   "id": "590c9515-acd3-476a-b5a1-9c2584cabb77",
   "metadata": {},
   "outputs": [
    {
     "data": {
      "text/plain": [
       "(107, 22)"
      ]
     },
     "metadata": {},
     "output_type": "display_data"
    },
    {
     "data": {
      "text/plain": [
       "not specified    70\n",
       "40 Foot          16\n",
       "35 Foot           9\n",
       "40 foot           8\n",
       "35 foot           3\n",
       "60 foot           1\n",
       "Name: bus_size_type, dtype: int64"
      ]
     },
     "metadata": {},
     "output_type": "display_data"
    },
    {
     "data": {
      "text/plain": [
       "Options - Configurables                                                          13\n",
       "Additional 220 kWH battery pack                                                  13\n",
       "Other - Tools                                                                     8\n",
       "Options - Charging Equipment                                                      5\n",
       "Extended warranty for Propulsion System and Battery                               3\n",
       "Options - Configurables (DuoPower)                                                3\n",
       "Other - Spare Parts                                                               3\n",
       "Other - Training, manuals and Tools                                               3\n",
       "Options - Configurables (non taxable)                                             2\n",
       "Extended Warranty                                                                 2\n",
       "Options - Warranty                                                                2\n",
       "Other - Warranty                                                                  2\n",
       "Manuals                                                                           1\n",
       "Other - Training, manuals                                                         1\n",
       "Diagnostic equipment and tooling                                                  1\n",
       "Extended warranty for Air Compressor                                              1\n",
       "Extended warranty for Propulsion System, Battery, HVAC, APC and Camera system     1\n",
       "Training, Manuals, Diagnostic equipment and tooling                               1\n",
       "Manuals and Training                                                              1\n",
       "Extended warranty for Battery and Air Compressor                                  1\n",
       "Manuals, Diagnostic equipment and tooling                                         1\n",
       "Extended warranty for Propulsion System, Battery and Air Compressor               1\n",
       "Options - Configurables (ProDrive)                                                1\n",
       "Name: item_description, dtype: int64"
      ]
     },
     "metadata": {},
     "output_type": "display_data"
    }
   ],
   "source": [
    "# check work. GTG\n",
    "# good to go, included more str in list, checked value counts and no more mentions of bus.\n",
    "display(dgs_17bc.shape,\n",
    "        dgs_17bc.bus_size_type.value_counts(),\n",
    "        #value counts `item_descrip` column, filtered by 'bus_size_type' == not specified'\n",
    "        dgs_17bc[dgs_17bc['bus_size_type'] =='not specified'].item_description.value_counts()\n",
    "       )\n"
   ]
  },
  {
   "cell_type": "markdown",
   "id": "b2ed8168-1b24-444f-9f53-ba6a6d911ed9",
   "metadata": {
    "tags": []
   },
   "source": [
    "## Aggregate by Agency\n",
    "need a df that:\n",
    "1. each row is an agency\n",
    "2. total quantity of buses only (not manuals, equipment, part, warranty)\n",
    "3. aggregates total cost for the agency (bus, manals, etc)\n",
    "4. keep the prop_type of the bus (should be no 'not specified')\n",
    "5. keep the bus_size_type for the bus (no 'not specified')"
   ]
  },
  {
   "cell_type": "code",
   "execution_count": 75,
   "id": "62793376-d7c4-4d59-8249-56c0b18a123a",
   "metadata": {},
   "outputs": [
    {
     "data": {
      "text/plain": [
       "(30, 6)"
      ]
     },
     "execution_count": 75,
     "metadata": {},
     "output_type": "execute_result"
    }
   ],
   "source": [
    "# agency bus count\n",
    "# filtered df by item desc containing 'bus' or 'Bus'\n",
    "agg_agency_bus_count = dgs_17bc[(dgs_17bc['item_description'].str.contains('bus')) | (dgs_17bc['item_description'].str.contains('Bus'))]\n",
    "\n",
    "agg_agency_bus_count = agg_agency_bus_count[['ordering_agency_name',\n",
    "                                            'item_description',\n",
    "                                            'quantity',\n",
    "                                            'source',\n",
    "                                            'total_cost',\n",
    "                                            'prop_type',\n",
    "                                            'bus_size_type']]\n",
    "\n",
    "#i think this is it.. the numbers are matching up\n",
    "agg_agency_bus_count = agg_agency_bus_count.groupby('ordering_agency_name').agg({\n",
    "    'quantity':'sum',\n",
    "    'total_cost':'sum',\n",
    "    'prop_type':'max',\n",
    "    'bus_size_type':'max',\n",
    "    'source':'max',\n",
    "}).reset_index()\n",
    "\n",
    "\n",
    "# looks good. manualy double checked agsint pivot tables in excel. GOOD TO GO!\n",
    "agg_agency_bus_count.shape\n",
    "       "
   ]
  },
  {
   "cell_type": "markdown",
   "id": "8b842838-6faa-45d1-b4e1-4b757a4a3045",
   "metadata": {},
   "source": [
    "## Export Cleaned data\n",
    "save out as parquet"
   ]
  },
  {
   "cell_type": "code",
   "execution_count": 76,
   "id": "4a8c202e-d6bd-463c-bcb6-7a4fe704d0da",
   "metadata": {},
   "outputs": [],
   "source": [
    "agg_agency_bus_count.to_parquet('gs://calitp-analytics-data/data-analyses/bus_procurement_cost/dgs_agg_clean.parquet')"
   ]
  },
  {
   "cell_type": "markdown",
   "id": "85153b50-0f1f-433b-b320-5d6d70a8bc71",
   "metadata": {},
   "source": [
    "## Test to read in parquet"
   ]
  },
  {
   "cell_type": "code",
   "execution_count": 77,
   "id": "9456bbc8-506b-4331-ae17-ab648ce959b6",
   "metadata": {},
   "outputs": [
    {
     "data": {
      "text/html": [
       "<div>\n",
       "<style scoped>\n",
       "    .dataframe tbody tr th:only-of-type {\n",
       "        vertical-align: middle;\n",
       "    }\n",
       "\n",
       "    .dataframe tbody tr th {\n",
       "        vertical-align: top;\n",
       "    }\n",
       "\n",
       "    .dataframe thead th {\n",
       "        text-align: right;\n",
       "    }\n",
       "</style>\n",
       "<table border=\"1\" class=\"dataframe\">\n",
       "  <thead>\n",
       "    <tr style=\"text-align: right;\">\n",
       "      <th></th>\n",
       "      <th>ordering_agency_name</th>\n",
       "      <th>quantity</th>\n",
       "      <th>total_cost</th>\n",
       "      <th>prop_type</th>\n",
       "      <th>bus_size_type</th>\n",
       "      <th>source</th>\n",
       "    </tr>\n",
       "  </thead>\n",
       "  <tbody>\n",
       "    <tr>\n",
       "      <th>0</th>\n",
       "      <td>Alameda County Transit Authority</td>\n",
       "      <td>20</td>\n",
       "      <td>22846640</td>\n",
       "      <td>hydrogen electric bus</td>\n",
       "      <td>40 foot</td>\n",
       "      <td>17b</td>\n",
       "    </tr>\n",
       "    <tr>\n",
       "      <th>1</th>\n",
       "      <td>CITY OF PORTERVILLE (PORTERVILLE, CA)</td>\n",
       "      <td>3</td>\n",
       "      <td>2781891</td>\n",
       "      <td>battery electric bus</td>\n",
       "      <td>35 foot</td>\n",
       "      <td>17b</td>\n",
       "    </tr>\n",
       "    <tr>\n",
       "      <th>2</th>\n",
       "      <td>CULVER CITY TRANSPORTATION DEPARTMENT (CULVER ...</td>\n",
       "      <td>4</td>\n",
       "      <td>3623536</td>\n",
       "      <td>Battery Electric Bus</td>\n",
       "      <td>40 Foot</td>\n",
       "      <td>17b</td>\n",
       "    </tr>\n",
       "  </tbody>\n",
       "</table>\n",
       "</div>"
      ],
      "text/plain": [
       "                                ordering_agency_name  quantity  total_cost  \\\n",
       "0                   Alameda County Transit Authority        20    22846640   \n",
       "1              CITY OF PORTERVILLE (PORTERVILLE, CA)         3     2781891   \n",
       "2  CULVER CITY TRANSPORTATION DEPARTMENT (CULVER ...         4     3623536   \n",
       "\n",
       "               prop_type bus_size_type source  \n",
       "0  hydrogen electric bus       40 foot    17b  \n",
       "1   battery electric bus       35 foot    17b  \n",
       "2   Battery Electric Bus       40 Foot    17b  "
      ]
     },
     "execution_count": 77,
     "metadata": {},
     "output_type": "execute_result"
    }
   ],
   "source": [
    "url= 'gs://calitp-analytics-data/data-analyses/bus_procurement_cost/dgs_agg_clean.parquet'\n",
    "test = pd.read_parquet(url)\n",
    "\n",
    "test.head(3)"
   ]
  },
  {
   "cell_type": "code",
   "execution_count": null,
   "id": "e84efd8f-474f-4bf1-89cf-c7a91ba3eab0",
   "metadata": {},
   "outputs": [],
   "source": []
  }
 ],
 "metadata": {
  "kernelspec": {
   "display_name": "Python 3 (ipykernel)",
   "language": "python",
   "name": "python3"
  },
  "language_info": {
   "codemirror_mode": {
    "name": "ipython",
    "version": 3
   },
   "file_extension": ".py",
   "mimetype": "text/x-python",
   "name": "python",
   "nbconvert_exporter": "python",
   "pygments_lexer": "ipython3",
   "version": "3.9.13"
  }
 },
 "nbformat": 4,
 "nbformat_minor": 5
}
