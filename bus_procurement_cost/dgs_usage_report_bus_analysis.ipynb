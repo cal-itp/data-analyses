{
 "cells": [
  {
   "cell_type": "code",
   "execution_count": 1,
   "id": "d4cd3d09-86ee-439c-bb3d-081b369f48bd",
   "metadata": {
    "tags": []
   },
   "outputs": [],
   "source": [
    "import matplotlib.pyplot as plt\n",
    "from matplotlib.ticker import ScalarFormatter\n",
    "import numpy as np\n",
    "import pandas as pd\n",
    "import seaborn as sns\n",
    "import shared_utils\n",
    "from scipy.stats import zscore\n",
    "\n",
    "# set_option to increase max rows displayed to 200, to see entire df in 1 go/\n",
    "pd.set_option(\"display.max_rows\", 200)\n",
    "\n",
    "# function to display df info\n",
    "def df_peek(df):\n",
    "    display(type(df), df.shape, df.dtypes)"
   ]
  },
  {
   "cell_type": "markdown",
   "id": "a56fb4a4-2d26-4623-89d4-d4d73e6dc9c0",
   "metadata": {},
   "source": [
    "## Read in Raw Data\n",
    "17C and 17B via excels"
   ]
  },
  {
   "cell_type": "code",
   "execution_count": 2,
   "id": "d8eee2f3-e730-4dd6-b4ba-a106fb727b7e",
   "metadata": {},
   "outputs": [],
   "source": [
    "# Params to read in dgs data\n",
    "url_17c = 'gs://calitp-analytics-data/data-analyses/bus_procurement_cost/17c compiled-Proterra Compiled Contract Usage Report .xlsx'\n",
    "url_17b = 'gs://calitp-analytics-data/data-analyses/bus_procurement_cost/17b compiled.xlsx'\n",
    "\n",
    "sheet_17c = 'Proterra '\n",
    "sheet_17b = 'Usage Report Template'\n",
    "\n",
    "def read_excel(url, sheet):\n",
    "    df = pd.read_excel(url, sheet_name=sheet)\n",
    "    \n",
    "    return df\n",
    "\n",
    "dgs_17c = read_excel(url_17c, sheet_17c)\n",
    "dgs_17b = read_excel(url_17b, sheet_17b)\n",
    "\n",
    "#add new column to identify source\n",
    "dgs_17c['source'] = '17c'\n",
    "dgs_17b['source'] = '17b'"
   ]
  },
  {
   "cell_type": "markdown",
   "id": "6c03e147-68df-4c9e-b150-da4ef7f35652",
   "metadata": {},
   "source": [
    "## Merge data frames"
   ]
  },
  {
   "cell_type": "code",
   "execution_count": 3,
   "id": "f657e2e7-b43f-46aa-870c-8c3ab0bc8404",
   "metadata": {},
   "outputs": [],
   "source": [
    "merge_col=['Supplier Contract Usage ID',\n",
    "          'Ordering Agency Name',\n",
    "          'State (S) or Local (L) agency',\n",
    "          'Purchasing Authority Number                    (for State departments)',\n",
    "          'Agency Billing Code',\n",
    "          'Purchase Order Number',\n",
    "          'Purchase Order Date',\n",
    "          'Delivery Date',\n",
    "          'Contract Line Item Number (CLIN)                (RFP ID)',\n",
    "          'UNSPSC Code\\n(Version 10)',\n",
    "          'Manufacturer Part Number (OEM #)',\n",
    "          'Manufacturer (OEM)',\n",
    "          'Item Description',\n",
    "          'Unit of Measure',\n",
    "          'Quantity in \\nUnit of Measure\\n',\n",
    "          'Quantity',\n",
    "          'List Price/MSRP',\n",
    "          'Index Date / Catalog Version',\n",
    "          'Contract Unit Price',\n",
    "          'Extended Contract Price Paid',\n",
    "          'source']\n",
    "\n",
    "dgs_17bc = pd.merge(dgs_17b, dgs_17c, how='outer', on= merge_col).fillna(0)"
   ]
  },
  {
   "cell_type": "code",
   "execution_count": 4,
   "id": "348cea08-168c-4c60-a300-38d0383d742b",
   "metadata": {},
   "outputs": [
    {
     "data": {
      "text/plain": [
       "pandas.core.frame.DataFrame"
      ]
     },
     "metadata": {},
     "output_type": "display_data"
    },
    {
     "data": {
      "text/plain": [
       "(107, 31)"
      ]
     },
     "metadata": {},
     "output_type": "display_data"
    },
    {
     "data": {
      "text/plain": [
       "Supplier Contract Usage ID                                                  int64\n",
       "Ordering Agency Name                                                       object\n",
       "State (S) or Local (L) agency                                              object\n",
       "Purchasing Authority Number                    (for State departments)    float64\n",
       "Agency Billing Code                                                       float64\n",
       "Purchase Order Number                                                      object\n",
       "Purchase Order Date                                                        object\n",
       "Delivery Date                                                              object\n",
       "Contract Line Item Number (CLIN)                (RFP ID)                  float64\n",
       "UNSPSC Code\\n(Version 10)                                                 float64\n",
       "Manufacturer Part Number (OEM #)                                           object\n",
       "Manufacturer (OEM)                                                         object\n",
       "SKU # / Item #_x                                                           object\n",
       "Item Description                                                           object\n",
       "Unit of Measure                                                            object\n",
       "Quantity in \\nUnit of Measure\\n                                             int64\n",
       "EPP (Y/N)_x                                                               float64\n",
       "Quantity                                                                    int64\n",
       "List Price/MSRP                                                           float64\n",
       "Index Date / Catalog Version                                              float64\n",
       "Contract Unit Price                                                       float64\n",
       "Contract Discount_x                                                        object\n",
       "Extended Contract Price Paid                                              float64\n",
       "Total with options per unit                                               float64\n",
       "Grand Total                                                               float64\n",
       "source                                                                     object\n",
       "SKU # / Item #_y                                                          float64\n",
       "EPP (Y/N)_y                                                                object\n",
       "Contract Discount_y                                                       float64\n",
       "Core/ NonCore                                                              object\n",
       "Group ID/ Segment ID                                                      float64\n",
       "dtype: object"
      ]
     },
     "metadata": {},
     "output_type": "display_data"
    }
   ],
   "source": [
    "# check work\n",
    "# number of rows is correct (107 rows)\n",
    "# will need to work on merge columns\n",
    "\n",
    "#df_peek(dgs_17bc)\n"
   ]
  },
  {
   "cell_type": "markdown",
   "id": "7bab257b-5715-4dfb-9b08-dddb19c05d23",
   "metadata": {},
   "source": [
    "## Data Cleaning and QC"
   ]
  },
  {
   "cell_type": "code",
   "execution_count": 5,
   "id": "30d97c40-8b3e-4d7a-955e-8ae4301c8602",
   "metadata": {},
   "outputs": [],
   "source": [
    "#snake case columns\n",
    "def snake_case(df):\n",
    "    df.columns = df.columns.str.lower().str.replace(' ', '_').str.strip()\n",
    "    \n",
    "snake_case(dgs_17bc)"
   ]
  },
  {
   "cell_type": "code",
   "execution_count": 6,
   "id": "cab936ca-7af3-483c-b51e-e0c60381bf06",
   "metadata": {},
   "outputs": [
    {
     "data": {
      "text/plain": [
       "Index(['supplier_contract_usage_id', 'ordering_agency_name',\n",
       "       'state_(s)_or_local_(l)_agency',\n",
       "       'purchasing_authority_number____________________(for_state_departments)',\n",
       "       'agency_billing_code', 'purchase_order_number', 'purchase_order_date',\n",
       "       'delivery_date',\n",
       "       'contract_line_item_number_(clin)________________(rfp_id)',\n",
       "       'unspsc_code\\n(version_10)', 'manufacturer_part_number_(oem_#)',\n",
       "       'manufacturer_(oem)', 'sku_#_/_item_#_x', 'item_description',\n",
       "       'unit_of_measure', 'quantity_in_\\nunit_of_measure', 'epp_(y/n)_x',\n",
       "       'quantity', 'list_price/msrp', 'index_date_/_catalog_version',\n",
       "       'contract_unit_price', 'contract_discount_x',\n",
       "       'extended_contract_price_paid', 'total_with_options_per_unit',\n",
       "       'grand_total', 'source', 'sku_#_/_item_#_y', 'epp_(y/n)_y',\n",
       "       'contract_discount_y', 'core/_noncore', 'group_id/_segment_id'],\n",
       "      dtype='object')"
      ]
     },
     "execution_count": 6,
     "metadata": {},
     "output_type": "execute_result"
    }
   ],
   "source": [
    "# check work\n",
    "dgs_17bc.columns"
   ]
  },
  {
   "cell_type": "code",
   "execution_count": 7,
   "id": "cb5aba84-349f-4ae0-9d22-2d4024b1e41f",
   "metadata": {},
   "outputs": [],
   "source": [
    "# check financial columns to be `int64`\n",
    "money =['contract_unit_price',\n",
    "       'extended_contract_price_paid',\n",
    "       'total_with_options_per_unit',\n",
    "       'grand_total']\n",
    "\n",
    "# loop that takes money list to convert to int64 dtype\n",
    "for column in money:\n",
    "    dgs_17bc[column] = dgs_17bc[column].astype('int64')"
   ]
  },
  {
   "cell_type": "code",
   "execution_count": 58,
   "id": "6510c988-5ad2-4f80-8bcb-ab3b8a4973a7",
   "metadata": {},
   "outputs": [
    {
     "data": {
      "text/plain": [
       "contract_unit_price             int64\n",
       "extended_contract_price_paid    int64\n",
       "total_with_options_per_unit     int64\n",
       "grand_total                     int64\n",
       "dtype: object"
      ]
     },
     "execution_count": 58,
     "metadata": {},
     "output_type": "execute_result"
    }
   ],
   "source": [
    "# check work. GTG\n",
    "# the columns are int64 dtype\n",
    "dgs_17bc[money].dtypes\n"
   ]
  },
  {
   "cell_type": "code",
   "execution_count": 9,
   "id": "7e8378dd-f0bb-42b0-8582-a99be893dc0c",
   "metadata": {},
   "outputs": [],
   "source": [
    "# drop unnessary columns?\n",
    "drops =['supplier_contract_usage_id',\n",
    "       'state_(s)_or_local_(l)_agency',\n",
    "       'purchasing_authority_number____________________(for_state_departments)',\n",
    "       'agency_billing_code',\n",
    "       'unspsc_code\\n(version_10)',\n",
    "       'unit_of_measure',\n",
    "       'epp_(y/n)_x',\n",
    "       'epp_(y/n)_y',\n",
    "       'list_price/msrp',\n",
    "       'index_date_/_catalog_version',\n",
    "       'core/_noncore',\n",
    "       'group_id/_segment_id']\n",
    "\n",
    "dgs_17bc.drop(columns=drops, inplace=True)"
   ]
  },
  {
   "cell_type": "code",
   "execution_count": 10,
   "id": "c44ed940-16d3-4782-9833-b6f772be16fe",
   "metadata": {},
   "outputs": [
    {
     "data": {
      "text/plain": [
       "pandas.core.frame.DataFrame"
      ]
     },
     "metadata": {},
     "output_type": "display_data"
    },
    {
     "data": {
      "text/plain": [
       "(107, 19)"
      ]
     },
     "metadata": {},
     "output_type": "display_data"
    },
    {
     "data": {
      "text/plain": [
       "ordering_agency_name                                         object\n",
       "purchase_order_number                                        object\n",
       "purchase_order_date                                          object\n",
       "delivery_date                                                object\n",
       "contract_line_item_number_(clin)________________(rfp_id)    float64\n",
       "manufacturer_part_number_(oem_#)                             object\n",
       "manufacturer_(oem)                                           object\n",
       "sku_#_/_item_#_x                                             object\n",
       "item_description                                             object\n",
       "quantity_in_\\nunit_of_measure                                 int64\n",
       "quantity                                                      int64\n",
       "contract_unit_price                                           int64\n",
       "contract_discount_x                                          object\n",
       "extended_contract_price_paid                                  int64\n",
       "total_with_options_per_unit                                   int64\n",
       "grand_total                                                   int64\n",
       "source                                                       object\n",
       "sku_#_/_item_#_y                                            float64\n",
       "contract_discount_y                                         float64\n",
       "dtype: object"
      ]
     },
     "metadata": {},
     "output_type": "display_data"
    }
   ],
   "source": [
    "# check work. GTG\n",
    "# initial merge had like 30 columns\n",
    "\n",
    "df_peek(dgs_17bc)"
   ]
  },
  {
   "cell_type": "code",
   "execution_count": 11,
   "id": "b106dfff-eb1c-46ab-8805-ab362da92366",
   "metadata": {},
   "outputs": [],
   "source": [
    "# new column for total cost\n",
    "# 17b >> `grand total` = total_with_options * quanity\n",
    "# 17c >> `extended contract price paid` = contract unit price * quanity\n",
    "\n",
    "# what im trying to do: create a new column called \"total_cost\". for each row, if `totals_with_options_per_unit` is >=0, then multiply `totals_with_options_per_unit` by `quanity'\n",
    "# if 0, then multiple `contract_unit_price` by `quanity`.\n",
    "\n",
    "# df['total_cost'] = df['quanity'] * df['total_with_options'] or df['contract unit price']???\n",
    "\n",
    "def calculate_total_cost(row):\n",
    "    if row['total_with_options_per_unit'] > 0:\n",
    "        return row['total_with_options_per_unit'] * row['quantity']\n",
    "    else:\n",
    "        return row['contract_unit_price'] * row['quantity']\n"
   ]
  },
  {
   "cell_type": "code",
   "execution_count": 12,
   "id": "a5356705-c2bb-4945-95b5-03f709219287",
   "metadata": {},
   "outputs": [],
   "source": [
    "# new colum for total cost\n",
    "\n",
    "dgs_17bc['total_cost'] = dgs_17bc.apply(calculate_total_cost, axis=1)"
   ]
  },
  {
   "cell_type": "code",
   "execution_count": 13,
   "id": "5ab1ba22-5200-44d7-b40f-400aa8efcf76",
   "metadata": {},
   "outputs": [
    {
     "data": {
      "text/plain": [
       "(107, 7)"
      ]
     },
     "execution_count": 13,
     "metadata": {},
     "output_type": "execute_result"
    }
   ],
   "source": [
    "# comparing totals columns to new `total_cost` column to see if logic works\n",
    "# 17b = Grand total\n",
    "# 17c = Extended Contract Price Paid\n",
    "keep_col=['ordering_agency_name',\n",
    "         'purchase_order_number',\n",
    "          'item_description',\n",
    "          'source',\n",
    "          'grand_total',\n",
    "          'extended_contract_price_paid',\n",
    "         'total_cost']\n",
    "\n",
    "col_compare = dgs_17bc[keep_col]\n",
    "col_compare.shape"
   ]
  },
  {
   "cell_type": "code",
   "execution_count": 59,
   "id": "270f75b6-4ba8-4e1a-9030-831844db696d",
   "metadata": {},
   "outputs": [
    {
     "data": {
      "text/plain": [
       "array(['Extended warranty for Propulsion System and Battery', 'Manuals',\n",
       "       'Extended warranty for Propulsion System, Battery and Air Compressor',\n",
       "       'Manuals, Diagnostic equipment and tooling',\n",
       "       'Extended warranty for Battery and Air Compressor',\n",
       "       'Manuals and Training',\n",
       "       'Training, Manuals, Diagnostic equipment and tooling',\n",
       "       'Extended warranty for Propulsion System, Battery, HVAC, APC and Camera system',\n",
       "       'Extended warranty for Air Compressor',\n",
       "       'Diagnostic equipment and tooling', 'Other - Tools'], dtype=object)"
      ]
     },
     "execution_count": 59,
     "metadata": {},
     "output_type": "execute_result"
    }
   ],
   "source": [
    "# check work. GTG\n",
    "# found some zero values, but manuals and warranty items that didnt have a cost initially.\n",
    "# should be good to go.\n",
    "\n",
    "dgs_17bc[dgs_17bc['total_cost'] ==0].item_description.unique()"
   ]
  },
  {
   "cell_type": "code",
   "execution_count": 16,
   "id": "df7343dc-e164-40e3-a512-32edd09d53d4",
   "metadata": {},
   "outputs": [],
   "source": [
    "# new column for prop_type\n",
    "\n",
    "prop_list = ['Battery Electric Bus',\n",
    "            'battery electric bus',\n",
    "            'Fuel Cell Electric Bus',\n",
    "            'fuel cell electric bus',\n",
    "            'Hydrogen Electic Bus',\n",
    "            'hydrogen electric bus',\n",
    "            'battery electric',\n",
    "            ]\n",
    "\n",
    "# function to match keywords to list\n",
    "def prop_type_finder(description):\n",
    "    for keyword in prop_list:\n",
    "        if keyword in description:\n",
    "            return keyword\n",
    "    return \"not specified\"\n",
    "\n",
    "# add new col `prop_type`, fill it with values based on project_description using prop_type_finder function\n",
    "dgs_17bc[\"prop_type\"] = dgs_17bc[\"item_description\"].apply(prop_type_finder)"
   ]
  },
  {
   "cell_type": "code",
   "execution_count": 17,
   "id": "8252f3af-5257-485e-b512-3fcf4ea6dd89",
   "metadata": {},
   "outputs": [
    {
     "data": {
      "text/plain": [
       "not specified             70\n",
       "Battery Electric Bus      20\n",
       "battery electric bus       8\n",
       "Hydrogen Electic Bus       4\n",
       "battery electric           3\n",
       "Fuel Cell Electric Bus     1\n",
       "hydrogen electric bus      1\n",
       "Name: prop_type, dtype: int64"
      ]
     },
     "metadata": {},
     "output_type": "display_data"
    },
    {
     "data": {
      "text/plain": [
       "Options - Configurables                                                          13\n",
       "Additional 220 kWH battery pack                                                  13\n",
       "Other - Tools                                                                     8\n",
       "Options - Charging Equipment                                                      5\n",
       "Extended warranty for Propulsion System and Battery                               3\n",
       "Options - Configurables (DuoPower)                                                3\n",
       "Other - Spare Parts                                                               3\n",
       "Other - Training, manuals and Tools                                               3\n",
       "Options - Configurables (non taxable)                                             2\n",
       "Extended Warranty                                                                 2\n",
       "Options - Warranty                                                                2\n",
       "Other - Warranty                                                                  2\n",
       "Manuals                                                                           1\n",
       "Other - Training, manuals                                                         1\n",
       "Diagnostic equipment and tooling                                                  1\n",
       "Extended warranty for Air Compressor                                              1\n",
       "Extended warranty for Propulsion System, Battery, HVAC, APC and Camera system     1\n",
       "Training, Manuals, Diagnostic equipment and tooling                               1\n",
       "Manuals and Training                                                              1\n",
       "Extended warranty for Battery and Air Compressor                                  1\n",
       "Manuals, Diagnostic equipment and tooling                                         1\n",
       "Extended warranty for Propulsion System, Battery and Air Compressor               1\n",
       "Options - Configurables (ProDrive)                                                1\n",
       "Name: item_description, dtype: int64"
      ]
     },
     "metadata": {},
     "output_type": "display_data"
    }
   ],
   "source": [
    "# check work. GTG\n",
    "# all good. no more mention of buses in value counts. \n",
    "display(dgs_17bc.prop_type.value_counts(),\n",
    "        dgs_17bc[dgs_17bc['prop_type']=='not specified'].item_description.value_counts()\n",
    "       )"
   ]
  },
  {
   "cell_type": "code",
   "execution_count": 18,
   "id": "6048c764-8cc0-4e57-9f35-93626eb5167d",
   "metadata": {},
   "outputs": [],
   "source": [
    "# new column for bus size type\n",
    "\n",
    "size_list =['35 Foot',\n",
    "           '40 Foot',\n",
    "           '60 foot',\n",
    "           '40 foot',\n",
    "           '35 foot',\n",
    "           ]\n",
    "\n",
    "def bus_size_finder(description):\n",
    "    for keyword in size_list:\n",
    "        if keyword in description:\n",
    "            return keyword\n",
    "    return \"not specified\"\n",
    "\n",
    "dgs_17bc[\"bus_size_type\"] = dgs_17bc[\"item_description\"].apply(bus_size_finder)"
   ]
  },
  {
   "cell_type": "code",
   "execution_count": 19,
   "id": "590c9515-acd3-476a-b5a1-9c2584cabb77",
   "metadata": {},
   "outputs": [
    {
     "data": {
      "text/plain": [
       "(107, 22)"
      ]
     },
     "metadata": {},
     "output_type": "display_data"
    },
    {
     "data": {
      "text/plain": [
       "not specified    70\n",
       "40 Foot          16\n",
       "35 Foot           9\n",
       "40 foot           8\n",
       "35 foot           3\n",
       "60 foot           1\n",
       "Name: bus_size_type, dtype: int64"
      ]
     },
     "metadata": {},
     "output_type": "display_data"
    },
    {
     "data": {
      "text/plain": [
       "Options - Configurables                                                          13\n",
       "Additional 220 kWH battery pack                                                  13\n",
       "Other - Tools                                                                     8\n",
       "Options - Charging Equipment                                                      5\n",
       "Extended warranty for Propulsion System and Battery                               3\n",
       "Options - Configurables (DuoPower)                                                3\n",
       "Other - Spare Parts                                                               3\n",
       "Other - Training, manuals and Tools                                               3\n",
       "Options - Configurables (non taxable)                                             2\n",
       "Extended Warranty                                                                 2\n",
       "Options - Warranty                                                                2\n",
       "Other - Warranty                                                                  2\n",
       "Manuals                                                                           1\n",
       "Other - Training, manuals                                                         1\n",
       "Diagnostic equipment and tooling                                                  1\n",
       "Extended warranty for Air Compressor                                              1\n",
       "Extended warranty for Propulsion System, Battery, HVAC, APC and Camera system     1\n",
       "Training, Manuals, Diagnostic equipment and tooling                               1\n",
       "Manuals and Training                                                              1\n",
       "Extended warranty for Battery and Air Compressor                                  1\n",
       "Manuals, Diagnostic equipment and tooling                                         1\n",
       "Extended warranty for Propulsion System, Battery and Air Compressor               1\n",
       "Options - Configurables (ProDrive)                                                1\n",
       "Name: item_description, dtype: int64"
      ]
     },
     "metadata": {},
     "output_type": "display_data"
    }
   ],
   "source": [
    "# check work. GTG\n",
    "# good to go, included more str in list, checked value counts and no more mentions of bus.\n",
    "display(dgs_17bc.shape,\n",
    "        dgs_17bc.bus_size_type.value_counts(),\n",
    "        #value counts `item_descrip` column, filtered by 'bus_size_type' == not specified'\n",
    "        dgs_17bc[dgs_17bc['bus_size_type'] =='not specified'].item_description.value_counts()\n",
    "       )\n",
    "\n"
   ]
  },
  {
   "cell_type": "markdown",
   "id": "b2ed8168-1b24-444f-9f53-ba6a6d911ed9",
   "metadata": {
    "tags": []
   },
   "source": [
    "## Aggregate by Agency name number?\n",
    "PPNO isnt stable, UCSD has a different PPNO for each line item (bus, manuals, other) but are still part of the same purchase\n",
    "\n",
    "1. get df of prop_type, by PPNO for 17c, by item_des includes 'bus'\n",
    "2. df of PPNO and prop_type"
   ]
  },
  {
   "cell_type": "code",
   "execution_count": 62,
   "id": "b0b700d6-098d-4c26-972e-eea86a1033d6",
   "metadata": {},
   "outputs": [
    {
     "data": {
      "text/plain": [
       "['ordering_agency_name',\n",
       " 'purchase_order_number',\n",
       " 'purchase_order_date',\n",
       " 'delivery_date',\n",
       " 'contract_line_item_number_(clin)________________(rfp_id)',\n",
       " 'manufacturer_part_number_(oem_#)',\n",
       " 'manufacturer_(oem)',\n",
       " 'sku_#_/_item_#_x',\n",
       " 'item_description',\n",
       " 'quantity_in_\\nunit_of_measure',\n",
       " 'quantity',\n",
       " 'contract_unit_price',\n",
       " 'contract_discount_x',\n",
       " 'extended_contract_price_paid',\n",
       " 'total_with_options_per_unit',\n",
       " 'grand_total',\n",
       " 'source',\n",
       " 'sku_#_/_item_#_y',\n",
       " 'contract_discount_y',\n",
       " 'total_cost',\n",
       " 'prop_type',\n",
       " 'bus_size_type']"
      ]
     },
     "execution_count": 62,
     "metadata": {},
     "output_type": "execute_result"
    }
   ],
   "source": [
    "list(dgs_17bc.columns)"
   ]
  },
  {
   "cell_type": "code",
   "execution_count": null,
   "id": "2f74a559-e812-41d7-84b9-f3bbcd43a8e5",
   "metadata": {},
   "outputs": [],
   "source": []
  },
  {
   "cell_type": "code",
   "execution_count": 87,
   "id": "a02d82d2-6ae1-462c-801a-ae59b1bdf70c",
   "metadata": {},
   "outputs": [
    {
     "data": {
      "text/html": [
       "<div>\n",
       "<style scoped>\n",
       "    .dataframe tbody tr th:only-of-type {\n",
       "        vertical-align: middle;\n",
       "    }\n",
       "\n",
       "    .dataframe tbody tr th {\n",
       "        vertical-align: top;\n",
       "    }\n",
       "\n",
       "    .dataframe thead th {\n",
       "        text-align: right;\n",
       "    }\n",
       "</style>\n",
       "<table border=\"1\" class=\"dataframe\">\n",
       "  <thead>\n",
       "    <tr style=\"text-align: right;\">\n",
       "      <th></th>\n",
       "      <th>ordering_agency_name</th>\n",
       "      <th>purchase_order_number</th>\n",
       "      <th>purchase_order_date</th>\n",
       "      <th>delivery_date</th>\n",
       "      <th>contract_line_item_number_(clin)________________(rfp_id)</th>\n",
       "      <th>manufacturer_part_number_(oem_#)</th>\n",
       "      <th>manufacturer_(oem)</th>\n",
       "      <th>sku_#_/_item_#_x</th>\n",
       "      <th>item_description</th>\n",
       "      <th>quantity_in_\\nunit_of_measure</th>\n",
       "      <th>...</th>\n",
       "      <th>contract_discount_x</th>\n",
       "      <th>extended_contract_price_paid</th>\n",
       "      <th>total_with_options_per_unit</th>\n",
       "      <th>grand_total</th>\n",
       "      <th>source</th>\n",
       "      <th>sku_#_/_item_#_y</th>\n",
       "      <th>contract_discount_y</th>\n",
       "      <th>total_cost</th>\n",
       "      <th>prop_type</th>\n",
       "      <th>bus_size_type</th>\n",
       "    </tr>\n",
       "  </thead>\n",
       "  <tbody>\n",
       "  </tbody>\n",
       "</table>\n",
       "<p>0 rows × 22 columns</p>\n",
       "</div>"
      ],
      "text/plain": [
       "Empty DataFrame\n",
       "Columns: [ordering_agency_name, purchase_order_number, purchase_order_date, delivery_date, contract_line_item_number_(clin)________________(rfp_id), manufacturer_part_number_(oem_#), manufacturer_(oem), sku_#_/_item_#_x, item_description, quantity_in_\n",
       "unit_of_measure, quantity, contract_unit_price, contract_discount_x, extended_contract_price_paid, total_with_options_per_unit, grand_total, source, sku_#_/_item_#_y, contract_discount_y, total_cost, prop_type, bus_size_type]\n",
       "Index: []\n",
       "\n",
       "[0 rows x 22 columns]"
      ]
     },
     "execution_count": 87,
     "metadata": {},
     "output_type": "execute_result"
    }
   ],
   "source": [
    "prop_type_ppno = dgs_17bc[(dgs_17bc['source']=='17c') & (dgs_17bc['item_description'].str.contains('bus'))]\n",
    "\n",
    "prop_type_ppno"
   ]
  },
  {
   "cell_type": "code",
   "execution_count": 94,
   "id": "62793376-d7c4-4d59-8249-56c0b18a123a",
   "metadata": {},
   "outputs": [
    {
     "data": {
      "text/plain": [
       "(32, 3)"
      ]
     },
     "metadata": {},
     "output_type": "display_data"
    },
    {
     "data": {
      "text/html": [
       "<div>\n",
       "<style scoped>\n",
       "    .dataframe tbody tr th:only-of-type {\n",
       "        vertical-align: middle;\n",
       "    }\n",
       "\n",
       "    .dataframe tbody tr th {\n",
       "        vertical-align: top;\n",
       "    }\n",
       "\n",
       "    .dataframe thead th {\n",
       "        text-align: right;\n",
       "    }\n",
       "</style>\n",
       "<table border=\"1\" class=\"dataframe\">\n",
       "  <thead>\n",
       "    <tr style=\"text-align: right;\">\n",
       "      <th></th>\n",
       "      <th>ordering_agency_name</th>\n",
       "      <th>quantity</th>\n",
       "      <th>total_cost</th>\n",
       "    </tr>\n",
       "  </thead>\n",
       "  <tbody>\n",
       "    <tr>\n",
       "      <th>0</th>\n",
       "      <td>Alameda County Transit Authority</td>\n",
       "      <td>40</td>\n",
       "      <td>22846640</td>\n",
       "    </tr>\n",
       "    <tr>\n",
       "      <th>1</th>\n",
       "      <td>CITY OF PORTERVILLE (PORTERVILLE, CA)</td>\n",
       "      <td>3</td>\n",
       "      <td>2781891</td>\n",
       "    </tr>\n",
       "    <tr>\n",
       "      <th>2</th>\n",
       "      <td>CULVER CITY TRANSPORTATION DEPARTMENT (CULVER ...</td>\n",
       "      <td>12</td>\n",
       "      <td>3623536</td>\n",
       "    </tr>\n",
       "    <tr>\n",
       "      <th>3</th>\n",
       "      <td>City of Roseville</td>\n",
       "      <td>32</td>\n",
       "      <td>9651507</td>\n",
       "    </tr>\n",
       "    <tr>\n",
       "      <th>4</th>\n",
       "      <td>City of San Luis Obispo</td>\n",
       "      <td>5</td>\n",
       "      <td>859270</td>\n",
       "    </tr>\n",
       "  </tbody>\n",
       "</table>\n",
       "</div>"
      ],
      "text/plain": [
       "                                ordering_agency_name  quantity  total_cost\n",
       "0                   Alameda County Transit Authority        40    22846640\n",
       "1              CITY OF PORTERVILLE (PORTERVILLE, CA)         3     2781891\n",
       "2  CULVER CITY TRANSPORTATION DEPARTMENT (CULVER ...        12     3623536\n",
       "3                                  City of Roseville        32     9651507\n",
       "4                            City of San Luis Obispo         5      859270"
      ]
     },
     "metadata": {},
     "output_type": "display_data"
    }
   ],
   "source": [
    "# df of just aggregated ppno\n",
    "\n",
    "ppno = dgs_17bc.groupby('ordering_agency_name').agg({\n",
    "    'quantity':'sum',\n",
    "    'total_cost':'sum'\n",
    "}).reset_index()\n",
    "\n",
    "# total cost looks good. \n",
    "display(ppno.shape,\n",
    "        ppno.head()\n",
    "       )"
   ]
  },
  {
   "cell_type": "code",
   "execution_count": 99,
   "id": "a47ec031-934c-4c0e-bd55-b34877271691",
   "metadata": {},
   "outputs": [
    {
     "data": {
      "text/plain": [
       "(37, 22)"
      ]
     },
     "metadata": {},
     "output_type": "display_data"
    },
    {
     "data": {
      "text/plain": [
       "32"
      ]
     },
     "metadata": {},
     "output_type": "display_data"
    },
    {
     "data": {
      "text/html": [
       "<div>\n",
       "<style scoped>\n",
       "    .dataframe tbody tr th:only-of-type {\n",
       "        vertical-align: middle;\n",
       "    }\n",
       "\n",
       "    .dataframe tbody tr th {\n",
       "        vertical-align: top;\n",
       "    }\n",
       "\n",
       "    .dataframe thead th {\n",
       "        text-align: right;\n",
       "    }\n",
       "</style>\n",
       "<table border=\"1\" class=\"dataframe\">\n",
       "  <thead>\n",
       "    <tr style=\"text-align: right;\">\n",
       "      <th></th>\n",
       "      <th>ordering_agency_name</th>\n",
       "      <th>purchase_order_number</th>\n",
       "      <th>purchase_order_date</th>\n",
       "      <th>delivery_date</th>\n",
       "      <th>contract_line_item_number_(clin)________________(rfp_id)</th>\n",
       "      <th>manufacturer_part_number_(oem_#)</th>\n",
       "      <th>manufacturer_(oem)</th>\n",
       "      <th>sku_#_/_item_#_x</th>\n",
       "      <th>item_description</th>\n",
       "      <th>quantity_in_\\nunit_of_measure</th>\n",
       "      <th>...</th>\n",
       "      <th>contract_discount_x</th>\n",
       "      <th>extended_contract_price_paid</th>\n",
       "      <th>total_with_options_per_unit</th>\n",
       "      <th>grand_total</th>\n",
       "      <th>source</th>\n",
       "      <th>sku_#_/_item_#_y</th>\n",
       "      <th>contract_discount_y</th>\n",
       "      <th>total_cost</th>\n",
       "      <th>prop_type</th>\n",
       "      <th>bus_size_type</th>\n",
       "    </tr>\n",
       "  </thead>\n",
       "  <tbody>\n",
       "    <tr>\n",
       "      <th>0</th>\n",
       "      <td>SUNLINE TRANSIT AGENCY (THOUSAND PALMS)</td>\n",
       "      <td>11819</td>\n",
       "      <td>2020-07-21 00:00:00</td>\n",
       "      <td>ALL 5 HAVE BEEN DELIVERED</td>\n",
       "      <td>10.2</td>\n",
       "      <td>XHE40</td>\n",
       "      <td>New Flyer of America Inc</td>\n",
       "      <td>SR-2559</td>\n",
       "      <td>40 Foot Low Floor Fuel Cell Electric Bus</td>\n",
       "      <td>1</td>\n",
       "      <td>...</td>\n",
       "      <td>Volume Discount Applied</td>\n",
       "      <td>5059893</td>\n",
       "      <td>1151031</td>\n",
       "      <td>5755155</td>\n",
       "      <td>17b</td>\n",
       "      <td>0.0</td>\n",
       "      <td>0.0</td>\n",
       "      <td>5755155</td>\n",
       "      <td>Fuel Cell Electric Bus</td>\n",
       "      <td>40 Foot</td>\n",
       "    </tr>\n",
       "    <tr>\n",
       "      <th>3</th>\n",
       "      <td>Lane Transit (Oregon)</td>\n",
       "      <td>2020-061</td>\n",
       "      <td>0</td>\n",
       "      <td>ALL 11 HAVE BEEN DELIVERED</td>\n",
       "      <td>3.3</td>\n",
       "      <td>XE40</td>\n",
       "      <td>New Flyer of America Inc</td>\n",
       "      <td>SR-2506</td>\n",
       "      <td>40 Foot Low Floor Battery Electric Bus</td>\n",
       "      <td>1</td>\n",
       "      <td>...</td>\n",
       "      <td>0</td>\n",
       "      <td>9738237</td>\n",
       "      <td>901966</td>\n",
       "      <td>9921636</td>\n",
       "      <td>17b</td>\n",
       "      <td>0.0</td>\n",
       "      <td>0.0</td>\n",
       "      <td>9921626</td>\n",
       "      <td>Battery Electric Bus</td>\n",
       "      <td>40 Foot</td>\n",
       "    </tr>\n",
       "    <tr>\n",
       "      <th>6</th>\n",
       "      <td>VICTOR VALLEY TRANSIT AUTHORITY (VVTA)</td>\n",
       "      <td>1416</td>\n",
       "      <td>2020-07-17 00:00:00</td>\n",
       "      <td>ALL 5 HAVE BEEN DELIVERED</td>\n",
       "      <td>3.2</td>\n",
       "      <td>XE40</td>\n",
       "      <td>New Flyer of America Inc</td>\n",
       "      <td>SR-2554</td>\n",
       "      <td>40 Foot Low Floor Battery Electric Bus</td>\n",
       "      <td>1</td>\n",
       "      <td>...</td>\n",
       "      <td>Volume Discount Applied</td>\n",
       "      <td>3703843</td>\n",
       "      <td>901632</td>\n",
       "      <td>4508162</td>\n",
       "      <td>17b</td>\n",
       "      <td>0.0</td>\n",
       "      <td>0.0</td>\n",
       "      <td>4508160</td>\n",
       "      <td>Battery Electric Bus</td>\n",
       "      <td>40 Foot</td>\n",
       "    </tr>\n",
       "    <tr>\n",
       "      <th>8</th>\n",
       "      <td>CULVER CITY TRANSPORTATION DEPARTMENT (CULVER ...</td>\n",
       "      <td>22100367 - 00</td>\n",
       "      <td>2020-08-19 00:00:00</td>\n",
       "      <td>ALL 4 HAVE BEEN DELIVERED</td>\n",
       "      <td>3.1</td>\n",
       "      <td>XE40</td>\n",
       "      <td>New Flyer of America Inc</td>\n",
       "      <td>SR-2564</td>\n",
       "      <td>40 Foot Low Floor Battery Electric Bus</td>\n",
       "      <td>1</td>\n",
       "      <td>...</td>\n",
       "      <td>Volumn Discount Not Applicable</td>\n",
       "      <td>2967072</td>\n",
       "      <td>905884</td>\n",
       "      <td>3623536</td>\n",
       "      <td>17b</td>\n",
       "      <td>0.0</td>\n",
       "      <td>0.0</td>\n",
       "      <td>3623536</td>\n",
       "      <td>Battery Electric Bus</td>\n",
       "      <td>40 Foot</td>\n",
       "    </tr>\n",
       "    <tr>\n",
       "      <th>11</th>\n",
       "      <td>ORANGE COUNTY TRANSPORTATION AUTHORITY (ORANGE...</td>\n",
       "      <td>CO2165</td>\n",
       "      <td>2020-12-01 00:00:00</td>\n",
       "      <td>ALL 10 HAVE BEEN DELIVERED</td>\n",
       "      <td>3.3</td>\n",
       "      <td>XE40</td>\n",
       "      <td>New Flyer of America Inc</td>\n",
       "      <td>SR-2588</td>\n",
       "      <td>40 Foot Low Floor Battery Electric Bus</td>\n",
       "      <td>1</td>\n",
       "      <td>...</td>\n",
       "      <td>Volume Discount Applied</td>\n",
       "      <td>7387686</td>\n",
       "      <td>931952</td>\n",
       "      <td>9319524</td>\n",
       "      <td>17b</td>\n",
       "      <td>0.0</td>\n",
       "      <td>0.0</td>\n",
       "      <td>9319520</td>\n",
       "      <td>Battery Electric Bus</td>\n",
       "      <td>40 Foot</td>\n",
       "    </tr>\n",
       "  </tbody>\n",
       "</table>\n",
       "<p>5 rows × 22 columns</p>\n",
       "</div>"
      ],
      "text/plain": [
       "                                 ordering_agency_name purchase_order_number  \\\n",
       "0             SUNLINE TRANSIT AGENCY (THOUSAND PALMS)                 11819   \n",
       "3                               Lane Transit (Oregon)              2020-061   \n",
       "6              VICTOR VALLEY TRANSIT AUTHORITY (VVTA)                  1416   \n",
       "8   CULVER CITY TRANSPORTATION DEPARTMENT (CULVER ...         22100367 - 00   \n",
       "11  ORANGE COUNTY TRANSPORTATION AUTHORITY (ORANGE...                CO2165   \n",
       "\n",
       "    purchase_order_date               delivery_date  \\\n",
       "0   2020-07-21 00:00:00   ALL 5 HAVE BEEN DELIVERED   \n",
       "3                     0  ALL 11 HAVE BEEN DELIVERED   \n",
       "6   2020-07-17 00:00:00   ALL 5 HAVE BEEN DELIVERED   \n",
       "8   2020-08-19 00:00:00   ALL 4 HAVE BEEN DELIVERED   \n",
       "11  2020-12-01 00:00:00  ALL 10 HAVE BEEN DELIVERED   \n",
       "\n",
       "    contract_line_item_number_(clin)________________(rfp_id)  \\\n",
       "0                                                10.2          \n",
       "3                                                 3.3          \n",
       "6                                                 3.2          \n",
       "8                                                 3.1          \n",
       "11                                                3.3          \n",
       "\n",
       "   manufacturer_part_number_(oem_#)        manufacturer_(oem)  \\\n",
       "0                             XHE40  New Flyer of America Inc   \n",
       "3                              XE40  New Flyer of America Inc   \n",
       "6                              XE40  New Flyer of America Inc   \n",
       "8                              XE40  New Flyer of America Inc   \n",
       "11                             XE40  New Flyer of America Inc   \n",
       "\n",
       "   sku_#_/_item_#_x                          item_description  \\\n",
       "0           SR-2559  40 Foot Low Floor Fuel Cell Electric Bus   \n",
       "3           SR-2506    40 Foot Low Floor Battery Electric Bus   \n",
       "6           SR-2554    40 Foot Low Floor Battery Electric Bus   \n",
       "8           SR-2564    40 Foot Low Floor Battery Electric Bus   \n",
       "11          SR-2588    40 Foot Low Floor Battery Electric Bus   \n",
       "\n",
       "    quantity_in_\\nunit_of_measure  ...             contract_discount_x  \\\n",
       "0                               1  ...         Volume Discount Applied   \n",
       "3                               1  ...                               0   \n",
       "6                               1  ...         Volume Discount Applied   \n",
       "8                               1  ...  Volumn Discount Not Applicable   \n",
       "11                              1  ...         Volume Discount Applied   \n",
       "\n",
       "    extended_contract_price_paid total_with_options_per_unit  grand_total  \\\n",
       "0                        5059893                     1151031      5755155   \n",
       "3                        9738237                      901966      9921636   \n",
       "6                        3703843                      901632      4508162   \n",
       "8                        2967072                      905884      3623536   \n",
       "11                       7387686                      931952      9319524   \n",
       "\n",
       "    source  sku_#_/_item_#_y contract_discount_y  total_cost  \\\n",
       "0      17b               0.0                 0.0     5755155   \n",
       "3      17b               0.0                 0.0     9921626   \n",
       "6      17b               0.0                 0.0     4508160   \n",
       "8      17b               0.0                 0.0     3623536   \n",
       "11     17b               0.0                 0.0     9319520   \n",
       "\n",
       "                 prop_type  bus_size_type  \n",
       "0   Fuel Cell Electric Bus        40 Foot  \n",
       "3     Battery Electric Bus        40 Foot  \n",
       "6     Battery Electric Bus        40 Foot  \n",
       "8     Battery Electric Bus        40 Foot  \n",
       "11    Battery Electric Bus        40 Foot  \n",
       "\n",
       "[5 rows x 22 columns]"
      ]
     },
     "metadata": {},
     "output_type": "display_data"
    }
   ],
   "source": [
    "# df of prop_type without `not_specified` per ppno\n",
    "\n",
    "just_prop = dgs_17bc[dgs_17bc['prop_type'] != 'not specified']\n",
    "\n",
    "#32 unique agency names in `just_prop`, but 32 unique agency in `ppno`.\n",
    "display(just_prop.shape, just_prop.ordering_agency_name.nunique(), just_prop.head())\n"
   ]
  },
  {
   "cell_type": "code",
   "execution_count": null,
   "id": "017321d3-38cf-48b9-946e-cb0dc0670434",
   "metadata": {
    "tags": []
   },
   "outputs": [],
   "source": [
    "# !!!!DEPRECATED!!!!\n",
    "\n",
    "# to consolidate all the individual line items up to bus row?\n",
    "# observe what will happen to item_desc col. hope it consolidates upwards to only show the bus row?\n",
    "\n",
    "groupby1= dgs_17bc.groupby('ordering_agency_name').agg({\n",
    "    'purchase_order_number':'count',\n",
    "'total_cost': 'sum',\n",
    "'prop_type':'min'}).reset_index()\n",
    "\n",
    "groupby2=dgs_17bc.groupby('ordering_agency_name').agg({\n",
    "    'purchase_order_number':'count',\n",
    "'total_cost': 'sum',\n",
    "'prop_type':'max'}).reset_index()\n",
    "\n",
    "display(groupby1.head(),\n",
    "        groupby2.head(),\n",
    "        groupby1.prop_type.value_counts(),\n",
    "        groupby2.prop_type.value_counts()\n",
    "       )"
   ]
  },
  {
   "cell_type": "code",
   "execution_count": null,
   "id": "bb80036c-e2d4-4a28-b88a-76f376b4439b",
   "metadata": {
    "tags": []
   },
   "outputs": [],
   "source": [
    "# !!!!DEPRECATED!!!!\n",
    "\n",
    "# comparing the prop types of the aggregated df and dgs_17bc\n",
    "\n",
    "display(\n",
    "    groupby1.prop_type.value_counts(),\n",
    "    dgs_17bc.prop_type.value_counts()\n",
    ")\n"
   ]
  },
  {
   "cell_type": "code",
   "execution_count": null,
   "id": "ead31b8a-0792-4678-ba43-90ab15affb88",
   "metadata": {
    "tags": []
   },
   "outputs": [],
   "source": [
    "# !!!!DEPRECATED!!!!\n",
    "\n",
    "# maybe compare the count of agency names from the 2 instead?\n",
    "# when looking at unique agency names, both have 32. values match everything. \n",
    "groupby1.ordering_agency_name.sort_values().unique() == dgs_17bc.ordering_agency_name.sort_values().unique()\n"
   ]
  },
  {
   "cell_type": "markdown",
   "id": "8b842838-6faa-45d1-b4e1-4b757a4a3045",
   "metadata": {},
   "source": [
    "## Export Cleaned data\n",
    "save out as parquet"
   ]
  },
  {
   "cell_type": "markdown",
   "id": "85153b50-0f1f-433b-b320-5d6d70a8bc71",
   "metadata": {},
   "source": [
    "Initial Summary Stats"
   ]
  }
 ],
 "metadata": {
  "kernelspec": {
   "display_name": "Python 3 (ipykernel)",
   "language": "python",
   "name": "python3"
  },
  "language_info": {
   "codemirror_mode": {
    "name": "ipython",
    "version": 3
   },
   "file_extension": ".py",
   "mimetype": "text/x-python",
   "name": "python",
   "nbconvert_exporter": "python",
   "pygments_lexer": "ipython3",
   "version": "3.9.13"
  }
 },
 "nbformat": 4,
 "nbformat_minor": 5
}
