{
 "cells": [
  {
   "cell_type": "code",
   "execution_count": null,
   "id": "d4cd3d09-86ee-439c-bb3d-081b369f48bd",
   "metadata": {
    "tags": []
   },
   "outputs": [],
   "source": [
    "import matplotlib.pyplot as plt\n",
    "from matplotlib.ticker import ScalarFormatter\n",
    "import numpy as np\n",
    "import pandas as pd\n",
    "import seaborn as sns\n",
    "import shared_utils\n",
    "from scipy.stats import zscore\n",
    "\n",
    "# set_option to increase max rows displayed to 200, to see entire df in 1 go/\n",
    "pd.set_option(\"display.max_rows\", 200)\n",
    "\n",
    "# function to display df info\n",
    "def df_peek(df):\n",
    "    display(type(df), df.shape, df.dtypes)"
   ]
  },
  {
   "cell_type": "markdown",
   "id": "a56fb4a4-2d26-4623-89d4-d4d73e6dc9c0",
   "metadata": {},
   "source": [
    "## Read in Raw Data\n",
    "17C and 17B via excels"
   ]
  },
  {
   "cell_type": "code",
   "execution_count": null,
   "id": "d8eee2f3-e730-4dd6-b4ba-a106fb727b7e",
   "metadata": {},
   "outputs": [],
   "source": [
    "# Params to read in dgs data\n",
    "url_17c = 'gs://calitp-analytics-data/data-analyses/bus_procurement_cost/17c compiled-Proterra Compiled Contract Usage Report .xlsx'\n",
    "url_17b = 'gs://calitp-analytics-data/data-analyses/bus_procurement_cost/17b compiled.xlsx'\n",
    "\n",
    "sheet_17c = 'Proterra '\n",
    "sheet_17b = 'Usage Report Template'\n",
    "\n",
    "def read_excel(url, sheet):\n",
    "    df = pd.read_excel(url, sheet_name=sheet)\n",
    "    \n",
    "    return df\n",
    "\n",
    "dgs_17c = read_excel(url_17c, sheet_17c)\n",
    "dgs_17b = read_excel(url_17b, sheet_17b)\n",
    "\n",
    "#add new column to identify source\n",
    "dgs_17c['source'] = '17c'\n",
    "dgs_17b['source'] = '17b'"
   ]
  },
  {
   "cell_type": "markdown",
   "id": "6c03e147-68df-4c9e-b150-da4ef7f35652",
   "metadata": {},
   "source": [
    "## Merge data frames"
   ]
  },
  {
   "cell_type": "code",
   "execution_count": null,
   "id": "f657e2e7-b43f-46aa-870c-8c3ab0bc8404",
   "metadata": {},
   "outputs": [],
   "source": [
    "merge_col=['Supplier Contract Usage ID',\n",
    "          'Ordering Agency Name',\n",
    "          'State (S) or Local (L) agency',\n",
    "          'Purchasing Authority Number                    (for State departments)',\n",
    "          'Agency Billing Code',\n",
    "          'Purchase Order Number',\n",
    "          'Purchase Order Date',\n",
    "          'Delivery Date',\n",
    "          'Contract Line Item Number (CLIN)                (RFP ID)',\n",
    "          'UNSPSC Code\\n(Version 10)',\n",
    "          'Manufacturer Part Number (OEM #)',\n",
    "          'Manufacturer (OEM)',\n",
    "          'Item Description',\n",
    "          'Unit of Measure',\n",
    "          'Quantity in \\nUnit of Measure\\n',\n",
    "          'Quantity',\n",
    "          'List Price/MSRP',\n",
    "          'Index Date / Catalog Version',\n",
    "          'Contract Unit Price',\n",
    "          'Extended Contract Price Paid',\n",
    "          'source']\n",
    "\n",
    "dgs_17bc = pd.merge(dgs_17b, dgs_17c, how='outer', on= merge_col).fillna(0)"
   ]
  },
  {
   "cell_type": "code",
   "execution_count": null,
   "id": "348cea08-168c-4c60-a300-38d0383d742b",
   "metadata": {},
   "outputs": [],
   "source": [
    "# check work\n",
    "# number of rows is correct (107 rows)\n",
    "# will need to work on merge columns\n",
    "\n",
    "df_peek(dgs_17bc)\n"
   ]
  },
  {
   "cell_type": "markdown",
   "id": "7bab257b-5715-4dfb-9b08-dddb19c05d23",
   "metadata": {},
   "source": [
    "## Data Cleaning and QC"
   ]
  },
  {
   "cell_type": "code",
   "execution_count": null,
   "id": "30d97c40-8b3e-4d7a-955e-8ae4301c8602",
   "metadata": {},
   "outputs": [],
   "source": [
    "#snake case columns\n",
    "def snake_case(df):\n",
    "    df.columns = df.columns.str.lower().str.replace(' ', '_').str.strip()\n",
    "    \n",
    "snake_case(dgs_17bc)"
   ]
  },
  {
   "cell_type": "code",
   "execution_count": null,
   "id": "cab936ca-7af3-483c-b51e-e0c60381bf06",
   "metadata": {},
   "outputs": [],
   "source": [
    "# check work\n",
    "dgs_17bc.columns"
   ]
  },
  {
   "cell_type": "code",
   "execution_count": null,
   "id": "cb5aba84-349f-4ae0-9d22-2d4024b1e41f",
   "metadata": {},
   "outputs": [],
   "source": [
    "# check financial columns to be `int64\n",
    "money =['contract_unit_price',\n",
    "       'extended_contract_price_paid',\n",
    "       'total_with_options_per_unit',\n",
    "       'grand_total']\n",
    "\n",
    "# loop that takes money list to convert to intt64 dtype\n",
    "for column in money:\n",
    "    dgs_17bc[column] = dgs_17bc[column].astype('int64')"
   ]
  },
  {
   "cell_type": "code",
   "execution_count": null,
   "id": "6510c988-5ad2-4f80-8bcb-ab3b8a4973a7",
   "metadata": {},
   "outputs": [],
   "source": [
    "# check work \n",
    "# the columns are not int64 dtype\n",
    "dgs_17bc.dtypes\n"
   ]
  },
  {
   "cell_type": "code",
   "execution_count": null,
   "id": "7e8378dd-f0bb-42b0-8582-a99be893dc0c",
   "metadata": {},
   "outputs": [],
   "source": [
    "# drop unnessary columns?\n",
    "drops =['supplier_contract_usage_id',\n",
    "       'state_(s)_or_local_(l)_agency',\n",
    "       'purchasing_authority_number____________________(for_state_departments)',\n",
    "       'agency_billing_code',\n",
    "       'unspsc_code\\n(version_10)',\n",
    "       'unit_of_measure',\n",
    "       'epp_(y/n)_x',\n",
    "       'epp_(y/n)_y',\n",
    "       'list_price/msrp',\n",
    "       'index_date_/_catalog_version',\n",
    "       'core/_noncore',\n",
    "       'group_id/_segment_id']\n",
    "\n",
    "dgs_17bc.drop(columns=drops, inplace=True)"
   ]
  },
  {
   "cell_type": "code",
   "execution_count": null,
   "id": "c44ed940-16d3-4782-9833-b6f772be16fe",
   "metadata": {},
   "outputs": [],
   "source": [
    "# check work\n",
    "# initial merge had like 30 columns\n",
    "\n",
    "df_peek(dgs_17bc)"
   ]
  },
  {
   "cell_type": "code",
   "execution_count": null,
   "id": "b106dfff-eb1c-46ab-8805-ab362da92366",
   "metadata": {},
   "outputs": [],
   "source": [
    "# new column for total cost\n",
    "# 17b >> `grand total` = total_with_options * quanity\n",
    "# 17c >> `extended contract price paid` = contract unit price * quanity\n",
    "\n",
    "# what im trying to do: create a new column called \"total_cost\". for each row, if `totals_with_options_per_unit` is >=0, then multiply `totals_with_options_per_unit` by `quanity'\n",
    "# if 0, then multiple `contract_unit_price` by `quanity`.\n",
    "\n",
    "# df['total_cost'] = df['quanity'] * df['total_with_options'] or df['contract unit price']???\n",
    "\n",
    "def calculate_total_cost(row):\n",
    "    if row['total_with_options_per_unit'] > 0:\n",
    "        return row['total_with_options_per_unit'] * row['quantity']\n",
    "    else:\n",
    "        return row['contract_unit_price'] * row['quantity']\n"
   ]
  },
  {
   "cell_type": "code",
   "execution_count": null,
   "id": "a5356705-c2bb-4945-95b5-03f709219287",
   "metadata": {},
   "outputs": [],
   "source": [
    "test['total_cost'] = test.apply(calculate_total_cost, axis=1)"
   ]
  },
  {
   "cell_type": "code",
   "execution_count": null,
   "id": "270f75b6-4ba8-4e1a-9030-831844db696d",
   "metadata": {},
   "outputs": [],
   "source": [
    "# check work\n",
    "# found some zero values, but manuals and warranty items that didnt have a cost initially.\n",
    "# should be good to go.\n",
    "\n",
    "test[test['total_cost'] ==0]"
   ]
  },
  {
   "cell_type": "code",
   "execution_count": null,
   "id": "df7343dc-e164-40e3-a512-32edd09d53d4",
   "metadata": {},
   "outputs": [],
   "source": [
    "# new column for prop_type"
   ]
  },
  {
   "cell_type": "code",
   "execution_count": null,
   "id": "6048c764-8cc0-4e57-9f35-93626eb5167d",
   "metadata": {},
   "outputs": [],
   "source": [
    "# new column for bus size type\n"
   ]
  },
  {
   "cell_type": "code",
   "execution_count": null,
   "id": "017321d3-38cf-48b9-946e-cb0dc0670434",
   "metadata": {},
   "outputs": [],
   "source": [
    "# aggregate by PPNO number?\n",
    "# to consolidate all the individual line items up to bus row?\n"
   ]
  },
  {
   "cell_type": "markdown",
   "id": "8b842838-6faa-45d1-b4e1-4b757a4a3045",
   "metadata": {},
   "source": [
    "## Export Cleaned data\n",
    "save out as parquet"
   ]
  },
  {
   "cell_type": "markdown",
   "id": "85153b50-0f1f-433b-b320-5d6d70a8bc71",
   "metadata": {},
   "source": [
    "Initial Summary Stats"
   ]
  }
 ],
 "metadata": {
  "kernelspec": {
   "display_name": "Python 3 (ipykernel)",
   "language": "python",
   "name": "python3"
  },
  "language_info": {
   "codemirror_mode": {
    "name": "ipython",
    "version": 3
   },
   "file_extension": ".py",
   "mimetype": "text/x-python",
   "name": "python",
   "nbconvert_exporter": "python",
   "pygments_lexer": "ipython3",
   "version": "3.9.13"
  }
 },
 "nbformat": 4,
 "nbformat_minor": 5
}
