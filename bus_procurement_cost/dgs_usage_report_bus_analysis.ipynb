{
 "cells": [
  {
   "cell_type": "code",
   "execution_count": 8,
   "id": "d4cd3d09-86ee-439c-bb3d-081b369f48bd",
   "metadata": {
    "tags": []
   },
   "outputs": [],
   "source": [
    "import matplotlib.pyplot as plt\n",
    "from matplotlib.ticker import ScalarFormatter\n",
    "import numpy as np\n",
    "import pandas as pd\n",
    "import seaborn as sns\n",
    "import shared_utils\n",
    "from scipy.stats import zscore\n",
    "\n",
    "# set_option to increase max rows displayed to 200, to see entire df in 1 go/\n",
    "pd.set_option(\"display.max_rows\", 200)\n",
    "\n",
    "# function to display df info\n",
    "def df_peek(df):\n",
    "    display(type(df), df.shape, df.dtypes)"
   ]
  },
  {
   "cell_type": "markdown",
   "id": "a56fb4a4-2d26-4623-89d4-d4d73e6dc9c0",
   "metadata": {},
   "source": [
    "Read in Raw Data\n",
    "17C and 17B via excels"
   ]
  },
  {
   "cell_type": "code",
   "execution_count": 7,
   "id": "d8eee2f3-e730-4dd6-b4ba-a106fb727b7e",
   "metadata": {},
   "outputs": [],
   "source": [
    "# Params to read in dgs data\n",
    "url_17c = 'gs://calitp-analytics-data/data-analyses/bus_procurement_cost/17c compiled-Proterra Compiled Contract Usage Report .xlsx'\n",
    "url_17b = 'gs://calitp-analytics-data/data-analyses/bus_procurement_cost/17b compiled.xlsx'\n",
    "\n",
    "sheet_17c = 'Proterra '\n",
    "sheet_17b = 'Usage Report Template'\n",
    "\n",
    "def read_excel(url, sheet):\n",
    "    df = pd.read_excel(url, sheet_name=sheet)\n",
    "    \n",
    "    return df\n",
    "\n",
    "dgs_17c = read_excel(url_17c, sheet_17c)\n",
    "dgs_17b = read_excel(url_17b, sheet_17b)"
   ]
  },
  {
   "cell_type": "code",
   "execution_count": null,
   "id": "267e7941-2548-4ea7-950b-e82db376a033",
   "metadata": {},
   "outputs": [],
   "source": [
    "merge data frames"
   ]
  },
  {
   "cell_type": "code",
   "execution_count": 15,
   "id": "8c1c5e4d-1bb5-405f-8d01-c832fa4f6cd7",
   "metadata": {},
   "outputs": [
    {
     "data": {
      "text/plain": [
       "(74, 25)"
      ]
     },
     "metadata": {},
     "output_type": "display_data"
    },
    {
     "data": {
      "text/plain": [
       "(33, 25)"
      ]
     },
     "metadata": {},
     "output_type": "display_data"
    }
   ],
   "source": [
    "display(dgs_17c.shape, dgs_17b.shape)"
   ]
  },
  {
   "cell_type": "code",
   "execution_count": 13,
   "id": "f657e2e7-b43f-46aa-870c-8c3ab0bc8404",
   "metadata": {},
   "outputs": [],
   "source": [
    "merge = pd.merge(dgs_17b, dgs_17c, how='outer',on='Purchase Order Number')"
   ]
  },
  {
   "cell_type": "code",
   "execution_count": 14,
   "id": "348cea08-168c-4c60-a300-38d0383d742b",
   "metadata": {},
   "outputs": [
    {
     "data": {
      "text/plain": [
       "pandas.core.frame.DataFrame"
      ]
     },
     "metadata": {},
     "output_type": "display_data"
    },
    {
     "data": {
      "text/plain": [
       "(107, 49)"
      ]
     },
     "metadata": {},
     "output_type": "display_data"
    },
    {
     "data": {
      "text/plain": [
       "Supplier Contract Usage ID_x                                                       float64\n",
       "Ordering Agency Name_x                                                              object\n",
       "State (S) or Local (L) agency_x                                                     object\n",
       "Purchasing Authority Number                    (for State departments)_x           float64\n",
       "Agency Billing Code_x                                                              float64\n",
       "Purchase Order Number                                                               object\n",
       "Purchase Order Date_x                                                       datetime64[ns]\n",
       "Delivery Date_x                                                                     object\n",
       "Contract Line Item Number (CLIN)                (RFP ID)_x                         float64\n",
       "UNSPSC Code\\n(Version 10)_x                                                        float64\n",
       "Manufacturer Part Number (OEM #)_x                                                  object\n",
       "Manufacturer (OEM)_x                                                                object\n",
       "SKU # / Item #_x                                                                    object\n",
       "Item Description_x                                                                  object\n",
       "Unit of Measure_x                                                                   object\n",
       "Quantity in \\nUnit of Measure\\n_x                                                  float64\n",
       "EPP (Y/N)_x                                                                        float64\n",
       "Quantity_x                                                                         float64\n",
       "List Price/MSRP_x                                                                  float64\n",
       "Index Date / Catalog Version_x                                                     float64\n",
       "Contract Unit Price_x                                                              float64\n",
       "Contract Discount_x                                                                 object\n",
       "Extended Contract Price Paid_x                                                     float64\n",
       "Total with options per unit                                                        float64\n",
       "Grand Total                                                                        float64\n",
       "Supplier Contract Usage ID_y                                                       float64\n",
       "Ordering Agency Name_y                                                              object\n",
       "State (S) or Local (L) agency_y                                                     object\n",
       "Purchasing Authority Number                    (for State departments)_y           float64\n",
       "Agency Billing Code_y                                                              float64\n",
       "Purchase Order Date_y                                                       datetime64[ns]\n",
       "Delivery Date_y                                                                     object\n",
       "Contract Line Item Number (CLIN)                (RFP ID)_y                         float64\n",
       "UNSPSC Code\\n(Version 10)_y                                                        float64\n",
       "Manufacturer Part Number (OEM #)_y                                                  object\n",
       "Manufacturer (OEM)_y                                                                object\n",
       "SKU # / Item #_y                                                                   float64\n",
       "Item Description_y                                                                  object\n",
       "Unit of Measure_y                                                                   object\n",
       "Quantity in \\nUnit of Measure\\n_y                                                  float64\n",
       "EPP (Y/N)_y                                                                         object\n",
       "Quantity_y                                                                         float64\n",
       "List Price/MSRP_y                                                                  float64\n",
       "Index Date / Catalog Version_y                                                     float64\n",
       "Contract Unit Price_y                                                              float64\n",
       "Contract Discount_y                                                                float64\n",
       "Extended Contract Price Paid_y                                                     float64\n",
       "Core/ NonCore                                                                       object\n",
       "Group ID/ Segment ID                                                               float64\n",
       "dtype: object"
      ]
     },
     "metadata": {},
     "output_type": "display_data"
    }
   ],
   "source": [
    "# check work\n",
    "# number of rows is correct\n",
    "# will need to work on merge columns\n",
    "\n",
    "df_peek(merge)"
   ]
  },
  {
   "cell_type": "markdown",
   "id": "7bab257b-5715-4dfb-9b08-dddb19c05d23",
   "metadata": {},
   "source": [
    "Data Cleaning and QC"
   ]
  },
  {
   "cell_type": "markdown",
   "id": "8b842838-6faa-45d1-b4e1-4b757a4a3045",
   "metadata": {},
   "source": [
    "Export Cleaned data\n",
    "save out as parquet"
   ]
  },
  {
   "cell_type": "markdown",
   "id": "85153b50-0f1f-433b-b320-5d6d70a8bc71",
   "metadata": {},
   "source": [
    "Initial Summary Stats"
   ]
  }
 ],
 "metadata": {
  "kernelspec": {
   "display_name": "Python 3 (ipykernel)",
   "language": "python",
   "name": "python3"
  },
  "language_info": {
   "codemirror_mode": {
    "name": "ipython",
    "version": 3
   },
   "file_extension": ".py",
   "mimetype": "text/x-python",
   "name": "python",
   "nbconvert_exporter": "python",
   "pygments_lexer": "ipython3",
   "version": "3.9.13"
  }
 },
 "nbformat": 4,
 "nbformat_minor": 5
}
