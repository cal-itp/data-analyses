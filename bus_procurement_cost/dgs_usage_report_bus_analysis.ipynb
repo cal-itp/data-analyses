{
 "cells": [
  {
   "cell_type": "markdown",
   "id": "1ce87cb9-ee60-4770-833c-ba8758b5a275",
   "metadata": {},
   "source": [
    "Intro"
   ]
  },
  {
   "cell_type": "markdown",
   "id": "a56fb4a4-2d26-4623-89d4-d4d73e6dc9c0",
   "metadata": {},
   "source": [
    "Read in Raw Data"
   ]
  },
  {
   "cell_type": "markdown",
   "id": "7bab257b-5715-4dfb-9b08-dddb19c05d23",
   "metadata": {},
   "source": [
    "Data Cleaning and QC"
   ]
  },
  {
   "cell_type": "markdown",
   "id": "8b842838-6faa-45d1-b4e1-4b757a4a3045",
   "metadata": {},
   "source": [
    "Export Cleaned data"
   ]
  },
  {
   "cell_type": "markdown",
   "id": "85153b50-0f1f-433b-b320-5d6d70a8bc71",
   "metadata": {},
   "source": [
    "Initial Summary Stats"
   ]
  }
 ],
 "metadata": {
  "kernelspec": {
   "display_name": "Python 3 (ipykernel)",
   "language": "python",
   "name": "python3"
  },
  "language_info": {
   "codemirror_mode": {
    "name": "ipython",
    "version": 3
   },
   "file_extension": ".py",
   "mimetype": "text/x-python",
   "name": "python",
   "nbconvert_exporter": "python",
   "pygments_lexer": "ipython3",
   "version": "3.9.13"
  }
 },
 "nbformat": 4,
 "nbformat_minor": 5
}
