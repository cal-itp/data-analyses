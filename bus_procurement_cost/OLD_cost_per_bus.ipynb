{
 "cells": [
  {
   "cell_type": "code",
   "execution_count": 1,
   "id": "411091ad-2d69-485a-9b08-c009d5566940",
   "metadata": {},
   "outputs": [],
   "source": [
    "import pandas as pd\n",
    "from fta_data_cleaner import gcs_path\n",
    "from cost_per_bus_utils import *"
   ]
  },
  {
   "cell_type": "code",
   "execution_count": 2,
   "id": "81da1fc0-17e9-4623-a7cf-d163f6ca1eee",
   "metadata": {},
   "outputs": [],
   "source": [
    "pd.set_option('display.max_rows', None)\n",
    "pd.set_option('display.max_columns', None)\n",
    "pd.set_option('display.max_colwidth', None)"
   ]
  },
  {
   "cell_type": "code",
   "execution_count": 3,
   "id": "4548178c-1d1b-4128-8cc8-42a3837892ea",
   "metadata": {},
   "outputs": [],
   "source": [
    "all_bus = pd.read_parquet(\n",
    "    \"gs://calitp-analytics-data/data-analyses/bus_procurement_cost/cpb_analysis_data_merge.parquet\"\n",
    ")"
   ]
  },
  {
   "cell_type": "code",
   "execution_count": 4,
   "id": "b9aded29-aa16-4bcb-8b1e-4a6c95ca952c",
   "metadata": {},
   "outputs": [
    {
     "data": {
      "text/plain": [
       "89"
      ]
     },
     "execution_count": 4,
     "metadata": {},
     "output_type": "execute_result"
    }
   ],
   "source": [
    "len(all_bus)"
   ]
  },
  {
   "cell_type": "code",
   "execution_count": null,
   "id": "287c09d4-0df4-4be0-880b-94bb863b2122",
   "metadata": {},
   "outputs": [],
   "source": [
    "all_bus[\"source\"].value_counts()"
   ]
  },
  {
   "cell_type": "code",
   "execution_count": null,
   "id": "b800c7b2-d467-4291-adbb-940a8240ad47",
   "metadata": {},
   "outputs": [],
   "source": [
    "# need initial dataset numbers?\n",
    "# ## projects from FTA, ## projects from TICP, ## projects from dgs\n",
    "# of which, only ## were bus only projects \n",
    "\n",
    "all_fta = \"fta_all_projects_clean.parquet\"\n",
    "all_tircp = \"clean_tircp_project.parquet\"\n",
    "all_dgs = \"dgs_agg_clean.parquet\"\n",
    "\n",
    "#data going into notebook\n",
    "fta_bus_data = \"fta_bus_cost_clean.parquet\"\n",
    "tircp_bus_data = \"clean_tircp_project_bus_only.parquet\"\n",
    "dgs_bus_data = \"dgs_agg_w_options_clean.parquet\" #cost of bus + options.\n",
    "\n",
    "fta1 = pd.read_parquet(f\"{gcs_path}{all_fta}\")\n",
    "tircp1 = pd.read_parquet(f\"{gcs_path}{all_tircp}\")\n",
    "dgs1 = pd.read_parquet(f\"{gcs_path}{all_dgs}\")\n",
    "\n",
    "fta2 = pd.read_parquet(f\"{gcs_path}{fta_bus_data}\")\n",
    "tircp2 = pd.read_parquet(f\"{gcs_path}{tircp_bus_data}\")\n",
    "dgs2 = pd.read_parquet(f\"{gcs_path}{dgs_bus_data}\")"
   ]
  },
  {
   "cell_type": "code",
   "execution_count": null,
   "id": "703a1753-a828-438b-92c3-2c945dadf785",
   "metadata": {},
   "outputs": [],
   "source": [
    "display(\n",
    "    len(fta1),\n",
    "    len(fta2),\n",
    ")"
   ]
  },
  {
   "cell_type": "code",
   "execution_count": null,
   "id": "83e34c14-1e08-4aa4-8d72-2c3c454516d2",
   "metadata": {},
   "outputs": [],
   "source": [
    "display(\n",
    "    len(tircp1),\n",
    "    len(tircp2)\n",
    ")"
   ]
  },
  {
   "cell_type": "code",
   "execution_count": null,
   "id": "80dac111-63c3-462e-851a-b0d424ba1019",
   "metadata": {},
   "outputs": [],
   "source": [
    "len(fta1)+len(tircp1)+len(dgs1)"
   ]
  },
  {
   "cell_type": "code",
   "execution_count": null,
   "id": "a974fda7-b6ab-4806-a4ef-3077bfcc1beb",
   "metadata": {},
   "outputs": [],
   "source": [
    "display(\n",
    "    len(dgs1),\n",
    "    len(dgs2)\n",
    ")"
   ]
  },
  {
   "cell_type": "code",
   "execution_count": null,
   "id": "1ec995ef-9ea4-47c4-8191-4c52c6d7b946",
   "metadata": {},
   "outputs": [],
   "source": [
    "display(\n",
    "    dgs1[\"source\"].value_counts(),\n",
    "    dgs2[\"source\"].value_counts()\n",
    ")"
   ]
  },
  {
   "cell_type": "code",
   "execution_count": null,
   "id": "3a4f560b-4fdf-4fae-b7fe-e20e019082cf",
   "metadata": {},
   "outputs": [],
   "source": [
    "display(\n",
    "    dgs1[dgs1[\"source\"] == \"17c\"].sort_values(by = \"ordering_agency_name\"),\n",
    "    dgs2[dgs2[\"source\"] == \"17c\"].sort_values(by = \"ordering_agency_name\")\n",
    ")\n",
    "# dgs2 had duplicate agencies \n",
    "# overall, use dgs1 (dgs_agg_clean.parquet) to get count of dgs projects"
   ]
  },
  {
   "cell_type": "code",
   "execution_count": null,
   "id": "c23d567a-e71f-48c0-b5e7-005cc18819f1",
   "metadata": {},
   "outputs": [],
   "source": [
    "#so final count of total projects is \n",
    "# fta all projects, tircp all projects, dgs agg clean\n",
    "\n",
    "\n",
    "all_fta = pd.read_parquet(\"gs://calitp-analytics-data/data-analyses/bus_procurement_cost/fta_all_projects_clean.parquet\")\n",
    "all_tircp = pd.read_parquet(\"gs://calitp-analytics-data/data-analyses/bus_procurement_cost/clean_tircp_project.parquet\")\n",
    "all_dgs = pd.read_parquet(\"gs://calitp-analytics-data/data-analyses/bus_procurement_cost/dgs_agg_clean.parquet\")\n",
    "\n",
    "count_all_fta = len(pd.read_parquet(\"gs://calitp-analytics-data/data-analyses/bus_procurement_cost/fta_all_projects_clean.parquet\"))\n",
    "count_all_tircp = len(pd.read_parquet(\"gs://calitp-analytics-data/data-analyses/bus_procurement_cost/clean_tircp_project.parquet\"))\n",
    "count_all_dgs = len(pd.read_parquet(\"gs://calitp-analytics-data/data-analyses/bus_procurement_cost/dgs_agg_clean.parquet\"))\n",
    "\n",
    "count_all_projects = count_all_fta+count_all_tircp+count_all_dgs"
   ]
  },
  {
   "cell_type": "code",
   "execution_count": null,
   "id": "718a5c84-1c78-40a5-9651-24034fa22fd0",
   "metadata": {},
   "outputs": [],
   "source": [
    "count_of_all_projects"
   ]
  },
  {
   "cell_type": "code",
   "execution_count": 10,
   "id": "f846fe68-f87b-4eda-b098-f5d07b21215a",
   "metadata": {},
   "outputs": [],
   "source": [
    "def all_project_counter(fta_file: str, tircp_file:str, dgs_file: str) -> int:\n",
    "    \"\"\"\n",
    "    function to count all the projects from fta, tircp and dgs files.\n",
    "    use to find the total number of projects and the total number of bus only projects\n",
    "    \"\"\"\n",
    "    gcs_path = \"gs://calitp-analytics-data/data-analyses/bus_procurement_cost/\"\n",
    "\n",
    "    \n",
    "    all_fta = len(pd.read_parquet(f\"{gcs_path}{fta_file}\"))\n",
    "    all_tircp = len(pd.read_parquet(f\"{gcs_path}{tircp_file}\"))\n",
    "    all_dgs = len(pd.read_parquet(f\"{gcs_path}{dgs_file}\"))\n",
    "    \n",
    "    count_all_projects = all_fta+all_tircp+all_dgs\n",
    "    \n",
    "    return count_all_projects"
   ]
  },
  {
   "cell_type": "code",
   "execution_count": 20,
   "id": "32adf818-b4ed-40b4-ac52-298e97c1842e",
   "metadata": {},
   "outputs": [],
   "source": [
    "all_project_count = all_project_counter(\n",
    "    fta_file = \"fta_all_projects_clean.parquet\",\n",
    "    tircp_file = \"clean_tircp_project.parquet\",\n",
    "    dgs_file = \"dgs_agg_clean.parquet\"\n",
    ")\n",
    "\n",
    "bus_only_project_count = all_project_counter(\n",
    "    fta_file = \"fta_bus_cost_clean.parquet\",\n",
    "    tircp_file = \"clean_tircp_project_bus_only.parquet\",\n",
    "    dgs_file = \"dgs_agg_clean.parquet\"\n",
    ")"
   ]
  },
  {
   "cell_type": "code",
   "execution_count": 21,
   "id": "9f8aedf5-c69e-4be7-ad4d-bfa796c3d5f6",
   "metadata": {},
   "outputs": [
    {
     "data": {
      "text/plain": [
       "289"
      ]
     },
     "metadata": {},
     "output_type": "display_data"
    },
    {
     "data": {
      "text/plain": [
       "87"
      ]
     },
     "metadata": {},
     "output_type": "display_data"
    }
   ],
   "source": [
    "display(all_project_count,\n",
    "        bus_only_project_count\n",
    "       )"
   ]
  },
  {
   "cell_type": "code",
   "execution_count": null,
   "id": "7a2b20d7-4e9a-413e-9c73-077027f89465",
   "metadata": {},
   "outputs": [],
   "source": [
    "all_fta = \"fta_all_projects_clean.parquet\"\n",
    "all_tircp = \"clean_tircp_project.parquet\"\n",
    "all_dgs = \"dgs_agg_clean.parquet\""
   ]
  },
  {
   "cell_type": "code",
   "execution_count": 18,
   "id": "c39e1bb0-306f-4a21-8d17-e3775a804be7",
   "metadata": {},
   "outputs": [],
   "source": [
    "\n",
    "bus_only_count_fta = len(pd.read_parquet(\"gs://calitp-analytics-data/data-analyses/bus_procurement_cost/fta_bus_cost_clean.parquet\"))\n",
    "bus_only_count_tircp = len(pd.read_parquet(\"gs://calitp-analytics-data/data-analyses/bus_procurement_cost/clean_tircp_project_bus_only.parquet\"))\n",
    "bus_only_count_dgs = len(pd.read_parquet(\"gs://calitp-analytics-data/data-analyses/bus_procurement_cost/dgs_agg_clean.parquet\"))"
   ]
  },
  {
   "cell_type": "code",
   "execution_count": 19,
   "id": "6b1aa66f-da1a-4155-b2d7-b4424d1bc7c7",
   "metadata": {},
   "outputs": [
    {
     "data": {
      "text/plain": [
       "43"
      ]
     },
     "metadata": {},
     "output_type": "display_data"
    },
    {
     "data": {
      "text/plain": [
       "9"
      ]
     },
     "metadata": {},
     "output_type": "display_data"
    },
    {
     "data": {
      "text/plain": [
       "35"
      ]
     },
     "metadata": {},
     "output_type": "display_data"
    }
   ],
   "source": [
    "display(\n",
    "    bus_only_fta,\n",
    "    bus_only_tircp,\n",
    "    bus_only_dgs\n",
    ")"
   ]
  },
  {
   "cell_type": "markdown",
   "id": "32068f95-df74-40e4-a4af-dc7719f22fc7",
   "metadata": {},
   "source": [
    "## FIX NUMBER OF BUSES"
   ]
  },
  {
   "cell_type": "code",
   "execution_count": null,
   "id": "02065103-933e-4ab5-a43a-2954213ebdc1",
   "metadata": {},
   "outputs": [],
   "source": []
  }
 ],
 "metadata": {
  "kernelspec": {
   "display_name": "Python 3 (ipykernel)",
   "language": "python",
   "name": "python3"
  },
  "language_info": {
   "codemirror_mode": {
    "name": "ipython",
    "version": 3
   },
   "file_extension": ".py",
   "mimetype": "text/x-python",
   "name": "python",
   "nbconvert_exporter": "python",
   "pygments_lexer": "ipython3",
   "version": "3.9.13"
  }
 },
 "nbformat": 4,
 "nbformat_minor": 5
}
