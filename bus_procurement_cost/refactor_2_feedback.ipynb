{
 "cells": [
  {
   "cell_type": "markdown",
   "id": "d93ac1ca-e781-416f-98c3-e5086d5a0cb0",
   "metadata": {},
   "source": [
    "## 5/14/2024\n",
    "This analysis is low priority. Merging for now. Will pick up again if need arises."
   ]
  },
  {
   "cell_type": "code",
   "execution_count": 1,
   "id": "e470aae0-1f00-4e01-bde9-9844bd57a448",
   "metadata": {},
   "outputs": [],
   "source": [
    "import geopandas as gpd\n",
    "import pandas as pd\n",
    "from _bus_cost_utils import GCS_PATH\n",
    "from calitp_data_analysis.sql import to_snakecase\n",
    "from IPython.display import HTML, Markdown, display\n",
    "\n",
    "pd.set_option(\"display.max_columns\", None)\n",
    "pd.set_option(\"display.max_rows\", None)\n",
    "pd.set_option(\"display.max_colwidth\", None)"
   ]
  },
  {
   "cell_type": "code",
   "execution_count": 2,
   "id": "b3bb6073-0544-4c91-81a2-1f651cafabae",
   "metadata": {},
   "outputs": [],
   "source": [
    "all_data = pd.read_parquet(\n",
    "    f\"{GCS_PATH}cleaned_no_outliers_cpb_analysis_data_merge.parquet\"\n",
    ")"
   ]
  },
  {
   "cell_type": "code",
   "execution_count": 3,
   "id": "2cc94f0f-485a-4e05-bfa2-c5136e4e8c2a",
   "metadata": {},
   "outputs": [],
   "source": [
    "# raw FTA\n",
    "fy24 = \"https://services.arcgis.com/xOi1kZaI0eWDREZv/ArcGIS/rest/services/FY2024_Bus_Awards_/FeatureServer/0/query?where=1%3D1&objectIds=&time=&geometry=&geometryType=esriGeometryPolygon&inSR=&spatialRel=esriSpatialRelIntersects&resultType=none&distance=0.0&units=esriSRUnit_Meter&relationParam=&returnGeodetic=false&outFields=*&returnGeometry=true&featureEncoding=esriDefault&multipatchOption=xyFootprint&maxAllowableOffset=&geometryPrecision=&outSR=&defaultSR=&datumTransformation=&applyVCSProjection=false&returnIdsOnly=false&returnUniqueIdsOnly=false&returnCountOnly=false&returnExtentOnly=false&returnQueryGeometry=false&returnDistinctValues=false&cacheHint=false&orderByFields=&groupByFieldsForStatistics=&outStatistics=&having=&resultOffset=&resultRecordCount=&returnZ=false&returnM=false&returnTrueCurves=false&returnExceededLimitFeatures=true&quantizationParameters=&sqlFormat=none&f=pgeojson&token=\"\n",
    "fy23 = \"https://services.arcgis.com/xOi1kZaI0eWDREZv/ArcGIS/rest/services/2023_06_12_Awards/FeatureServer/0/query?where=1%3D1&objectIds=&time=&geometry=&geometryType=esriGeometryEnvelope&inSR=&spatialRel=esriSpatialRelIntersects&resultType=none&distance=0.0&units=esriSRUnit_Meter&relationParam=&returnGeodetic=false&outFields=*&returnGeometry=true&featureEncoding=esriDefault&multipatchOption=xyFootprint&maxAllowableOffset=&geometryPrecision=&outSR=&defaultSR=&datumTransformation=&applyVCSProjection=false&returnIdsOnly=false&returnUniqueIdsOnly=false&returnCountOnly=false&returnExtentOnly=false&returnQueryGeometry=false&returnDistinctValues=false&cacheHint=false&orderByFields=&groupByFieldsForStatistics=&outStatistics=&having=&resultOffset=&resultRecordCount=&returnZ=false&returnM=false&returnTrueCurves=false&returnExceededLimitFeatures=true&quantizationParameters=&sqlFormat=none&f=pgeojson&token=\"\n",
    "\n",
    "fta_fy_24 = gpd.read_file(fy24)\n",
    "fta_fy_23 = gpd.read_file(fy23)"
   ]
  },
  {
   "cell_type": "code",
   "execution_count": 4,
   "id": "274347a1-a3b8-424d-ad9e-1e260171a2ff",
   "metadata": {},
   "outputs": [
    {
     "name": "stderr",
     "output_type": "stream",
     "text": [
      "/opt/conda/lib/python3.9/site-packages/openpyxl/worksheet/_reader.py:312: UserWarning: Data Validation extension is not supported and will be removed\n",
      "  warn(msg)\n"
     ]
    }
   ],
   "source": [
    "# raw TIRCP\n",
    "tircp_file_name = \"raw_TIRCP Tracking Sheets 2_1-10-2024.xlsx\"\n",
    "tircp_name = \"Project Tracking\"\n",
    "\n",
    "# read in data\n",
    "tircp_data = pd.read_excel(f\"{GCS_PATH}{tircp_file_name}\", sheet_name=tircp_name)"
   ]
  },
  {
   "cell_type": "code",
   "execution_count": 5,
   "id": "5dcc5523-4078-45fc-982d-029a49dcdce6",
   "metadata": {},
   "outputs": [],
   "source": [
    "# raw DGS\n",
    "# params\n",
    "file_17c = \"raw_17c compiled-Proterra Compiled Contract Usage Report .xlsx\"\n",
    "file_17b = \"raw_17b compiled.xlsx\"\n",
    "sheet_17c = \"Proterra \"\n",
    "sheet_17b = \"Usage Report Template\"\n",
    "\n",
    "# read in data\n",
    "dgs_17c = pd.read_excel(f\"{GCS_PATH}{file_17c}\", sheet_name=sheet_17c)\n",
    "dgs_17b = pd.read_excel(f\"{GCS_PATH}{file_17b}\", sheet_name=sheet_17b)\n",
    "\n",
    "# add new column to identify source\n",
    "dgs_17c[\"source\"] = \"17c\"\n",
    "dgs_17b[\"source\"] = \"17b\""
   ]
  },
  {
   "cell_type": "code",
   "execution_count": 6,
   "id": "85ac6469-4da4-4516-817d-a568f0499a45",
   "metadata": {},
   "outputs": [],
   "source": [
    "raw_data_dict = {\n",
    "    \"dgs2\": dgs_17c,\n",
    "    \"dgs1\": dgs_17b,\n",
    "    \"tircp\": tircp_data,\n",
    "    \"fta24\": fta_fy_24,\n",
    "    \"fta23\": fta_fy_23,\n",
    "}\n",
    "\n",
    "raw_data_list = [\n",
    "    dgs_17c,\n",
    "    dgs_17b,\n",
    "    tircp_data,\n",
    "    fta_fy_24,\n",
    "    fta_fy_23,\n",
    "]"
   ]
  },
  {
   "cell_type": "code",
   "execution_count": 7,
   "id": "0d0b77d1-2897-47af-aba3-e9d33b71e9ed",
   "metadata": {},
   "outputs": [
    {
     "data": {
      "text/plain": [
       "'dgs2'"
      ]
     },
     "metadata": {},
     "output_type": "display_data"
    },
    {
     "data": {
      "text/plain": [
       "['Supplier Contract Usage ID',\n",
       " 'Ordering Agency Name',\n",
       " 'State (S) or Local (L) agency',\n",
       " 'Purchasing Authority Number                    (for State departments)',\n",
       " 'Agency Billing Code',\n",
       " 'Purchase Order Number',\n",
       " 'Purchase Order Date',\n",
       " 'Delivery Date',\n",
       " 'Contract Line Item Number (CLIN)                (RFP ID)',\n",
       " 'UNSPSC Code\\n(Version 10)',\n",
       " 'Manufacturer Part Number (OEM #)',\n",
       " 'Manufacturer (OEM)',\n",
       " 'SKU # / Item #',\n",
       " 'Item Description',\n",
       " 'Unit of Measure',\n",
       " 'Quantity in \\nUnit of Measure\\n',\n",
       " 'EPP (Y/N)',\n",
       " 'Quantity',\n",
       " 'List Price/MSRP',\n",
       " 'Index Date / Catalog Version',\n",
       " 'Contract Unit Price',\n",
       " 'Contract Discount',\n",
       " 'Extended Contract Price Paid',\n",
       " 'Core/ NonCore',\n",
       " 'Group ID/ Segment ID',\n",
       " 'source']"
      ]
     },
     "metadata": {},
     "output_type": "display_data"
    },
    {
     "data": {
      "text/plain": [
       "'dgs1'"
      ]
     },
     "metadata": {},
     "output_type": "display_data"
    },
    {
     "data": {
      "text/plain": [
       "['Supplier Contract Usage ID',\n",
       " 'Ordering Agency Name',\n",
       " 'State (S) or Local (L) agency',\n",
       " 'Purchasing Authority Number                    (for State departments)',\n",
       " 'Agency Billing Code',\n",
       " 'Purchase Order Number',\n",
       " 'Purchase Order Date',\n",
       " 'Delivery Date',\n",
       " 'Contract Line Item Number (CLIN)                (RFP ID)',\n",
       " 'UNSPSC Code\\n(Version 10)',\n",
       " 'Manufacturer Part Number (OEM #)',\n",
       " 'Manufacturer (OEM)',\n",
       " 'SKU # / Item #',\n",
       " 'Item Description',\n",
       " 'Unit of Measure',\n",
       " 'Quantity in \\nUnit of Measure\\n',\n",
       " 'EPP (Y/N)',\n",
       " 'Quantity',\n",
       " 'List Price/MSRP',\n",
       " 'Index Date / Catalog Version',\n",
       " 'Contract Unit Price',\n",
       " 'Contract Discount',\n",
       " 'Extended Contract Price Paid',\n",
       " 'Total with options per unit',\n",
       " 'Grand Total',\n",
       " 'source']"
      ]
     },
     "metadata": {},
     "output_type": "display_data"
    },
    {
     "data": {
      "text/plain": [
       "'tircp'"
      ]
     },
     "metadata": {},
     "output_type": "display_data"
    },
    {
     "data": {
      "text/plain": [
       "['Award Year',\n",
       " 'Project #',\n",
       " 'Grant Recipient',\n",
       " 'Project Title',\n",
       " 'PPNO',\n",
       " 'District',\n",
       " 'County',\n",
       " 'Project Description',\n",
       " 'bus_count',\n",
       " 'Master Agreement Number',\n",
       " 'Master Agreement Expiration Date',\n",
       " 'Project Manager',\n",
       " 'Regional Coordinator',\n",
       " 'Technical Assistance-CALITP (Y/N)',\n",
       " 'Technical Assistance-Fleet (Y/N)',\n",
       " 'Technical Assistance-Network Integration (Y/N)',\n",
       " 'Technical Assistance-Priority Population (Y/N)',\n",
       " 'Total Project Cost',\n",
       " 'TIRCP Award Amount ($)',\n",
       " 'Allocated Amount',\n",
       " 'Unallocated Amount',\n",
       " 'Percentage Allocated',\n",
       " 'Expended Amount',\n",
       " 'Other Funds Involved',\n",
       " 'Award Cycle',\n",
       " 'Is SB1?',\n",
       " 'Is GGRF?',\n",
       " 'Is IIJA?',\n",
       " 'ON SHS?',\n",
       " 'CalITP',\n",
       " 'Estimated TIRCP GHG Reductions',\n",
       " 'Estemated Project Completion',\n",
       " 'Estimated TIRCP GHG Reductions2',\n",
       " 'Increased Ridership',\n",
       " 'Service Integration',\n",
       " 'Improve Safety',\n",
       " 'Project Readiness',\n",
       " 'Funding Leverage',\n",
       " 'Multi-Agency Coordination/Integration',\n",
       " 'AB 1550 Community Benefits',\n",
       " 'Housing Co-Benefits',\n",
       " 'Local Agency Address',\n",
       " 'Local Agency City',\n",
       " 'Local Agency Zip',\n",
       " 'Local Agency Contact',\n",
       " 'Local Agency Email',\n",
       " 'Local Agency Phone Number',\n",
       " 'Comments/Additional Contacts',\n",
       " 'S California']"
      ]
     },
     "metadata": {},
     "output_type": "display_data"
    },
    {
     "data": {
      "text/plain": [
       "'fta24'"
      ]
     },
     "metadata": {},
     "output_type": "display_data"
    },
    {
     "data": {
      "text/plain": [
       "['Application_Number_',\n",
       " 'Agency_Name',\n",
       " 'Low_No_BBF',\n",
       " 'Project_Description',\n",
       " 'Number_of_Buses_',\n",
       " 'Funding_Amount',\n",
       " 'Project_Title',\n",
       " 'Project_Type',\n",
       " 'Display_Type',\n",
       " 'Overall_Propulsion_Type',\n",
       " 'Specific_Propulsion_Type',\n",
       " 'Areas_Served',\n",
       " 'Congressional_Districts',\n",
       " 'Address_Line_1',\n",
       " 'City',\n",
       " 'State',\n",
       " 'Additional_Zip',\n",
       " 'Zip_Code',\n",
       " 'X',\n",
       " 'Y',\n",
       " 'FID2',\n",
       " 'geometry']"
      ]
     },
     "metadata": {},
     "output_type": "display_data"
    },
    {
     "data": {
      "text/plain": [
       "'fta23'"
      ]
     },
     "metadata": {},
     "output_type": "display_data"
    },
    {
     "data": {
      "text/plain": [
       "['Application_Number',\n",
       " 'FTA_Region',\n",
       " 'Project_Sponsor',\n",
       " 'Project_Title',\n",
       " 'Project_Description',\n",
       " 'Original_Statement_of_Work',\n",
       " 'Funding',\n",
       " 'Number_of_Buses',\n",
       " 'Traditional_Buses',\n",
       " 'Low_Emission_Buses',\n",
       " 'Zero_Emission_Buses',\n",
       " 'Project_Type',\n",
       " 'Display_Type',\n",
       " 'Areas_Served',\n",
       " 'Congressional_Districts',\n",
       " 'Propulsion_Type',\n",
       " 'Address1',\n",
       " 'Address2',\n",
       " 'City',\n",
       " 'State',\n",
       " 'Zip',\n",
       " 'X',\n",
       " 'Y',\n",
       " 'ObjectId',\n",
       " 'geometry']"
      ]
     },
     "metadata": {},
     "output_type": "display_data"
    }
   ],
   "source": [
    "for name, df in raw_data_dict.items():\n",
    "    display(name, list(df.columns))"
   ]
  },
  {
   "cell_type": "markdown",
   "id": "ea3e2a27-2e79-483b-8435-357ed5ac5090",
   "metadata": {},
   "source": [
    "## RE: feedback from REBEL\n",
    "see `refactor_notes_2.md` for specifics"
   ]
  },
  {
   "cell_type": "markdown",
   "id": "429e5c4d-15ce-45f2-9409-ff1648aeb95a",
   "metadata": {},
   "source": [
    "# Specific points to tackle"
   ]
  },
  {
   "cell_type": "markdown",
   "id": "d745d926-2305-43d9-beb1-670617beb270",
   "metadata": {
    "tags": []
   },
   "source": [
    "## \"We would likely recommend explicitly separating vehicles out by size/type in all analysis to increase accuracy (and provide important data points for agencies for whom the smaller transit vehicles are crucial).\"\n",
    "- explore the bus size values again, can i get more granular?\n",
    "- where am i getting the bus size/type from? usually the `project description` column or similar"
   ]
  },
  {
   "cell_type": "code",
   "execution_count": null,
   "id": "5754232b-1bc6-4bca-9f16-1a05e2e012fc",
   "metadata": {},
   "outputs": [],
   "source": [
    "# fta\n",
    "display(\n",
    "    list(fta_fy_24.columns),  # Project_Description, Project_Title\n",
    "    list(fta_fy_23.columns),  # Project_Description, Project_Title\n",
    ")"
   ]
  },
  {
   "cell_type": "code",
   "execution_count": 31,
   "id": "2c0c06db-df5f-4daa-9afe-ba1ae5e6632c",
   "metadata": {},
   "outputs": [],
   "source": [
    "vehicle_type = [\n",
    "    \"Articulated bus\",\n",
    "    \"Automated guideway vehicle\",\n",
    "    \"Automobile\",\n",
    "    \"Over-the-road bus\",\n",
    "    \"Bus\",\n",
    "    \"Cable car\",\n",
    "    \"Cutaway\",\n",
    "    \"Double decker bus\",\n",
    "    \"Ferryboat\",\n",
    "    \"Heavy Rail passenger car\",\n",
    "    \"Inclined plane vehicle\",\n",
    "    \"Light Rail vehicle\",\n",
    "    \"Minivan\",\n",
    "    \"Commuter Rail locomotive\",\n",
    "    \"Commuter Rail passenger coach\",\n",
    "    \"Commuter Rail, self-propelled passenger car\",\n",
    "    \"School bus\",\n",
    "    \"Sports utility vehicle (SUV)\",\n",
    "    \"Trolleybus\",\n",
    "    \"Aerial tramway vehicle\",\n",
    "    \"Van\",\n",
    "    \"Vintage trolley/Streetcar\",\n",
    "]\n",
    "\n",
    "test_pattern = \"|\".join(vehicle_type)"
   ]
  },
  {
   "cell_type": "code",
   "execution_count": null,
   "id": "9fa5f4a0-b59f-47a7-a077-bf55eba14056",
   "metadata": {},
   "outputs": [],
   "source": [
    "fta_fy_24[[\"Project_Description\"]][fta_fy_24[\"Project_Description\"].str.contains(\"bus\")]\n",
    "\n",
    "# The FTA data does not have specific bus type data (cut away, 30ft, 40ft, etc). \n",
    "# Mainly just says if buses were purchase or not. Does not go into detail what type or kind of bus was purchased"
   ]
  },
  {
   "cell_type": "code",
   "execution_count": 45,
   "id": "4f27a8d2-5ccb-43c0-8075-8b16b0586dd1",
   "metadata": {},
   "outputs": [
    {
     "data": {
      "text/plain": [
       "Index(['Award Year', 'Project #', 'Grant Recipient', 'Project Title', 'PPNO',\n",
       "       'District', 'County', 'Project Description', 'bus_count',\n",
       "       'Master Agreement Number', 'Master Agreement Expiration Date',\n",
       "       'Project Manager', 'Regional Coordinator',\n",
       "       'Technical Assistance-CALITP (Y/N)', 'Technical Assistance-Fleet (Y/N)',\n",
       "       'Technical Assistance-Network Integration (Y/N)',\n",
       "       'Technical Assistance-Priority Population (Y/N)', 'Total Project Cost',\n",
       "       'TIRCP Award Amount ($)', 'Allocated Amount', 'Unallocated Amount',\n",
       "       'Percentage Allocated', 'Expended Amount', 'Other Funds Involved',\n",
       "       'Award Cycle', 'Is SB1?', 'Is GGRF?', 'Is IIJA?', 'ON SHS?', 'CalITP',\n",
       "       'Estimated TIRCP GHG Reductions', 'Estemated Project Completion',\n",
       "       'Estimated TIRCP GHG Reductions2', 'Increased Ridership',\n",
       "       'Service Integration', 'Improve Safety', 'Project Readiness',\n",
       "       'Funding Leverage', 'Multi-Agency Coordination/Integration',\n",
       "       'AB 1550 Community Benefits', 'Housing Co-Benefits',\n",
       "       'Local Agency Address', 'Local Agency City', 'Local Agency Zip',\n",
       "       'Local Agency Contact', 'Local Agency Email',\n",
       "       'Local Agency Phone Number', 'Comments/Additional Contacts',\n",
       "       'S California'],\n",
       "      dtype='object')"
      ]
     },
     "execution_count": 45,
     "metadata": {},
     "output_type": "execute_result"
    }
   ],
   "source": [
    "# tircp\n",
    "tircp_data.columns"
   ]
  },
  {
   "cell_type": "code",
   "execution_count": 68,
   "id": "fcccee21-17ae-4988-bf8d-0d1cbd2b009a",
   "metadata": {},
   "outputs": [
    {
     "data": {
      "text/plain": [
       "True     89\n",
       "False    35\n",
       "Name: bus_count, dtype: int64"
      ]
     },
     "execution_count": 68,
     "metadata": {},
     "output_type": "execute_result"
    }
   ],
   "source": [
    "tircp_data[\"bus_count\"].isna().value_counts()"
   ]
  },
  {
   "cell_type": "code",
   "execution_count": null,
   "id": "d3cdfef4-bf81-4d31-91cd-c88ccc8c8ba7",
   "metadata": {},
   "outputs": [],
   "source": [
    "tircp_data[[\"Project Description\",\"bus_count\"]][tircp_data[\"bus_count\"]>0]\n",
    "\n",
    "# there are some size/type data in tircp, but not much."
   ]
  },
  {
   "cell_type": "code",
   "execution_count": 76,
   "id": "76d0d5dd-dc45-4d8d-99e2-a1b039cebefb",
   "metadata": {},
   "outputs": [
    {
     "data": {
      "text/plain": [
       "Index(['Supplier Contract Usage ID', 'Ordering Agency Name',\n",
       "       'State (S) or Local (L) agency',\n",
       "       'Purchasing Authority Number                    (for State departments)',\n",
       "       'Agency Billing Code', 'Purchase Order Number', 'Purchase Order Date',\n",
       "       'Delivery Date',\n",
       "       'Contract Line Item Number (CLIN)                (RFP ID)',\n",
       "       'UNSPSC Code\\n(Version 10)', 'Manufacturer Part Number (OEM #)',\n",
       "       'Manufacturer (OEM)', 'SKU # / Item #', 'Item Description',\n",
       "       'Unit of Measure', 'Quantity in \\nUnit of Measure\\n', 'EPP (Y/N)',\n",
       "       'Quantity', 'List Price/MSRP', 'Index Date / Catalog Version',\n",
       "       'Contract Unit Price', 'Contract Discount',\n",
       "       'Extended Contract Price Paid', 'Core/ NonCore', 'Group ID/ Segment ID',\n",
       "       'source'],\n",
       "      dtype='object')"
      ]
     },
     "metadata": {},
     "output_type": "display_data"
    },
    {
     "data": {
      "text/plain": [
       "['Supplier Contract Usage ID',\n",
       " 'Ordering Agency Name',\n",
       " 'State (S) or Local (L) agency',\n",
       " 'Purchasing Authority Number                    (for State departments)',\n",
       " 'Agency Billing Code',\n",
       " 'Purchase Order Number',\n",
       " 'Purchase Order Date',\n",
       " 'Delivery Date',\n",
       " 'Contract Line Item Number (CLIN)                (RFP ID)',\n",
       " 'UNSPSC Code\\n(Version 10)',\n",
       " 'Manufacturer Part Number (OEM #)',\n",
       " 'Manufacturer (OEM)',\n",
       " 'SKU # / Item #',\n",
       " 'Item Description',\n",
       " 'Unit of Measure',\n",
       " 'Quantity in \\nUnit of Measure\\n',\n",
       " 'EPP (Y/N)',\n",
       " 'Quantity',\n",
       " 'List Price/MSRP',\n",
       " 'Index Date / Catalog Version',\n",
       " 'Contract Unit Price',\n",
       " 'Contract Discount',\n",
       " 'Extended Contract Price Paid',\n",
       " 'Total with options per unit',\n",
       " 'Grand Total',\n",
       " 'source']"
      ]
     },
     "metadata": {},
     "output_type": "display_data"
    }
   ],
   "source": [
    "# dgs\n",
    "display(dgs_17c.columns,\n",
    "list(dgs_17b.columns))"
   ]
  },
  {
   "cell_type": "code",
   "execution_count": 75,
   "id": "2f2cb4b2-4a30-4bb2-85c4-98e0c6cee7de",
   "metadata": {},
   "outputs": [
    {
     "data": {
      "text/plain": [
       "Proterra, Inc.    29\n",
       "Name: Manufacturer (OEM), dtype: int64"
      ]
     },
     "metadata": {},
     "output_type": "display_data"
    },
    {
     "data": {
      "text/plain": [
       "New Flyer of America Inc    33\n",
       "Name: Manufacturer (OEM), dtype: int64"
      ]
     },
     "metadata": {},
     "output_type": "display_data"
    }
   ],
   "source": [
    "# dgs\n",
    "display(dgs_17c[\"Manufacturer (OEM)\"].value_counts(),\n",
    "dgs_17b[\"Manufacturer (OEM)\"].value_counts()\n",
    ")"
   ]
  },
  {
   "cell_type": "code",
   "execution_count": 77,
   "id": "41f61934-1259-4e4a-9cf4-64d980c70b94",
   "metadata": {},
   "outputs": [
    {
     "data": {
      "text/plain": [
       "Additional 220 kWH battery pack           13\n",
       "Options - Configurables                   13\n",
       "35 Foot Low Floor Battery Electric Bus     9\n",
       "Other - Tools                              8\n",
       "40 Foot Low Floor Battery Electric Bus     7\n",
       "Options - Charging Equipment               5\n",
       "Options - Configurables (DuoPower)         3\n",
       "Other - Training, manuals and Tools        3\n",
       "Other - Spare Parts                        3\n",
       "Options - Warranty                         2\n",
       "Extended Warranty                          2\n",
       "Options - Configurables (non taxable)      2\n",
       "Other - Warranty                           2\n",
       "Options - Configurables (ProDrive)         1\n",
       "Other - Training, manuals                  1\n",
       "Name: Item Description, dtype: int64"
      ]
     },
     "metadata": {},
     "output_type": "display_data"
    },
    {
     "data": {
      "text/plain": [
       "40 foot battery electric bus                                                     5\n",
       "40 Foot Low Floor Battery Electric Bus                                           4\n",
       "40 Foot Low Floor Hydrogen Electic Bus                                           4\n",
       "35 foot battery electric bus                                                     3\n",
       "Extended warranty for Propulsion System and Battery                              3\n",
       "40 foot battery electric                                                         2\n",
       "Extended warranty for Propulsion System, Battery, HVAC, APC and Camera system    1\n",
       "60 foot battery electric Bus                                                     1\n",
       "Diagnostic equipment and tooling                                                 1\n",
       "Extended warranty for Air Compressor                                             1\n",
       "40 Foot Low Floor Fuel Cell Electric Bus                                         1\n",
       "Training, Manuals, Diagnostic equipment and tooling                              1\n",
       "Manuals and Training                                                             1\n",
       "Extended warranty for Battery and Air Compressor                                 1\n",
       "Manuals, Diagnostic equipment and tooling                                        1\n",
       "Extended warranty for Propulsion System, Battery and Air Compressor              1\n",
       "Manuals                                                                          1\n",
       "40 foot hydrogen electric bus                                                    1\n",
       "Name: Item Description, dtype: int64"
      ]
     },
     "metadata": {},
     "output_type": "display_data"
    }
   ],
   "source": [
    "display(dgs_17c[\"Item Description\"].value_counts(),\n",
    "dgs_17b[\"Item Description\"].value_counts()\n",
    ")\n",
    "\n",
    "# DGS does have some bus size/type data, \n",
    "# BUT the source is a report of all the Proterra and New Flyer buses"
   ]
  },
  {
   "cell_type": "markdown",
   "id": "eb80bc9c-9935-404e-920d-0ca3eb9f9c55",
   "metadata": {},
   "source": [
    "## \"Providing time series data to be able to see >progression in prices over time\"\n",
    "- explore the data sources for any date/time fields\n",
    "- when were the buses ordered and/or received.\n",
    "- the TIRCP/DGS may have this data, FTA will not"
   ]
  },
  {
   "cell_type": "code",
   "execution_count": 78,
   "id": "968fb4ab-0bee-4e42-bcb4-0bec1da61ee2",
   "metadata": {},
   "outputs": [
    {
     "data": {
      "text/html": [
       "<div>\n",
       "<style scoped>\n",
       "    .dataframe tbody tr th:only-of-type {\n",
       "        vertical-align: middle;\n",
       "    }\n",
       "\n",
       "    .dataframe tbody tr th {\n",
       "        vertical-align: top;\n",
       "    }\n",
       "\n",
       "    .dataframe thead th {\n",
       "        text-align: right;\n",
       "    }\n",
       "</style>\n",
       "<table border=\"1\" class=\"dataframe\">\n",
       "  <thead>\n",
       "    <tr style=\"text-align: right;\">\n",
       "      <th></th>\n",
       "      <th>Award Year</th>\n",
       "      <th>Project #</th>\n",
       "      <th>Grant Recipient</th>\n",
       "      <th>Project Title</th>\n",
       "      <th>PPNO</th>\n",
       "      <th>District</th>\n",
       "      <th>County</th>\n",
       "      <th>Project Description</th>\n",
       "      <th>bus_count</th>\n",
       "      <th>Master Agreement Number</th>\n",
       "      <th>Master Agreement Expiration Date</th>\n",
       "      <th>Project Manager</th>\n",
       "      <th>Regional Coordinator</th>\n",
       "      <th>Technical Assistance-CALITP (Y/N)</th>\n",
       "      <th>Technical Assistance-Fleet (Y/N)</th>\n",
       "      <th>Technical Assistance-Network Integration (Y/N)</th>\n",
       "      <th>Technical Assistance-Priority Population (Y/N)</th>\n",
       "      <th>Total Project Cost</th>\n",
       "      <th>TIRCP Award Amount ($)</th>\n",
       "      <th>Allocated Amount</th>\n",
       "      <th>Unallocated Amount</th>\n",
       "      <th>Percentage Allocated</th>\n",
       "      <th>Expended Amount</th>\n",
       "      <th>Other Funds Involved</th>\n",
       "      <th>Award Cycle</th>\n",
       "      <th>Is SB1?</th>\n",
       "      <th>Is GGRF?</th>\n",
       "      <th>Is IIJA?</th>\n",
       "      <th>ON SHS?</th>\n",
       "      <th>CalITP</th>\n",
       "      <th>Estimated TIRCP GHG Reductions</th>\n",
       "      <th>Estemated Project Completion</th>\n",
       "      <th>Estimated TIRCP GHG Reductions2</th>\n",
       "      <th>Increased Ridership</th>\n",
       "      <th>Service Integration</th>\n",
       "      <th>Improve Safety</th>\n",
       "      <th>Project Readiness</th>\n",
       "      <th>Funding Leverage</th>\n",
       "      <th>Multi-Agency Coordination/Integration</th>\n",
       "      <th>AB 1550 Community Benefits</th>\n",
       "      <th>Housing Co-Benefits</th>\n",
       "      <th>Local Agency Address</th>\n",
       "      <th>Local Agency City</th>\n",
       "      <th>Local Agency Zip</th>\n",
       "      <th>Local Agency Contact</th>\n",
       "      <th>Local Agency Email</th>\n",
       "      <th>Local Agency Phone Number</th>\n",
       "      <th>Comments/Additional Contacts</th>\n",
       "      <th>S California</th>\n",
       "    </tr>\n",
       "  </thead>\n",
       "  <tbody>\n",
       "    <tr>\n",
       "      <th>22</th>\n",
       "      <td>2016</td>\n",
       "      <td>9</td>\n",
       "      <td>Peninsula Corridor Joint Powers Board (PCJPB)</td>\n",
       "      <td>Peninsula Corridor Electrification Project</td>\n",
       "      <td>CP022</td>\n",
       "      <td>4</td>\n",
       "      <td>VAR</td>\n",
       "      <td>Electrification of approximately 51 miles of existing Caltrain Corridor and procurement of 96 EMUs.</td>\n",
       "      <td>NaN</td>\n",
       "      <td>64PCJPBMA01</td>\n",
       "      <td>2026-06-30 00:00:00</td>\n",
       "      <td>Jason Finley</td>\n",
       "      <td>Shannon Simonds</td>\n",
       "      <td>No</td>\n",
       "      <td>No</td>\n",
       "      <td>No</td>\n",
       "      <td>No</td>\n",
       "      <td>1980400000</td>\n",
       "      <td>387000000</td>\n",
       "      <td>386750000</td>\n",
       "      <td>250000</td>\n",
       "      <td>0.999354</td>\n",
       "      <td>1.773165e+07</td>\n",
       "      <td>Yes</td>\n",
       "      <td>2</td>\n",
       "      <td>N</td>\n",
       "      <td>Y</td>\n",
       "      <td>N</td>\n",
       "      <td>NaN</td>\n",
       "      <td>NaN</td>\n",
       "      <td>734,000 MTCO2</td>\n",
       "      <td>NaN</td>\n",
       "      <td>High</td>\n",
       "      <td>High</td>\n",
       "      <td>High</td>\n",
       "      <td>High</td>\n",
       "      <td>Medium</td>\n",
       "      <td>High</td>\n",
       "      <td>Medium-High</td>\n",
       "      <td>Medium</td>\n",
       "      <td>NaN</td>\n",
       "      <td>1250 San Carlos Ave\\nSan Carlos, 94070</td>\n",
       "      <td>San Carlos</td>\n",
       "      <td>94070</td>\n",
       "      <td>Peter Skinner, Manager of Grants and Fund Programming</td>\n",
       "      <td>skinnerp@samtrans.com</td>\n",
       "      <td>(650) 622-7818</td>\n",
       "      <td>NaN</td>\n",
       "      <td>No</td>\n",
       "    </tr>\n",
       "    <tr>\n",
       "      <th>54</th>\n",
       "      <td>2018</td>\n",
       "      <td>27</td>\n",
       "      <td>Southern California Regional Rail Authority</td>\n",
       "      <td>Southern California Optimized Rail Expansion (SCORE)</td>\n",
       "      <td>CP033</td>\n",
       "      <td>7</td>\n",
       "      <td>VAR</td>\n",
       "      <td>Delivers more frequent, more reliable rail services throughout Southern California, with station reconfiguration with run-though tracks for Metrolink and Pacific Surfliner trains at Los Angeles Union Station to improve train movement through the station, and 30-min services on multiple Metrolink corridors in the LA Basin. Includes significant investments to improve the frequency and performance of rail services to Moorpark, Santa Clarita, San Bernardino, Riverside, and Orange County. Part of a high-performance long-range vision.</td>\n",
       "      <td>NaN</td>\n",
       "      <td>64SCRRAMA A02</td>\n",
       "      <td>2031-08-02 00:00:00</td>\n",
       "      <td>Noey Rios</td>\n",
       "      <td>Anthony Serna</td>\n",
       "      <td>No</td>\n",
       "      <td>No</td>\n",
       "      <td>Yes</td>\n",
       "      <td>No</td>\n",
       "      <td>2049700000</td>\n",
       "      <td>875708000</td>\n",
       "      <td>407632000</td>\n",
       "      <td>468076000</td>\n",
       "      <td>0.465488</td>\n",
       "      <td>1.170575e+08</td>\n",
       "      <td>NaN</td>\n",
       "      <td>3</td>\n",
       "      <td>Y</td>\n",
       "      <td>Y</td>\n",
       "      <td>N</td>\n",
       "      <td>NaN</td>\n",
       "      <td>NaN</td>\n",
       "      <td>5,714,000 MTCO2e</td>\n",
       "      <td>NaN</td>\n",
       "      <td>High</td>\n",
       "      <td>High</td>\n",
       "      <td>High</td>\n",
       "      <td>High</td>\n",
       "      <td>Medium</td>\n",
       "      <td>Medium-High</td>\n",
       "      <td>High</td>\n",
       "      <td>Medium-High</td>\n",
       "      <td>NaN</td>\n",
       "      <td>900 Wilshire Blvd, Ste 1500\\nLos Angeles, CA  90017</td>\n",
       "      <td>Los Angeles</td>\n",
       "      <td>90017</td>\n",
       "      <td>Tom Schamber, Interim Director, Grants</td>\n",
       "      <td>SchamberT@scrra.net</td>\n",
       "      <td>(213) 494-7289</td>\n",
       "      <td>NaN</td>\n",
       "      <td>Yes</td>\n",
       "    </tr>\n",
       "  </tbody>\n",
       "</table>\n",
       "</div>"
      ],
      "text/plain": [
       "    Award Year  Project #                                Grant Recipient  \\\n",
       "22        2016          9  Peninsula Corridor Joint Powers Board (PCJPB)   \n",
       "54        2018         27    Southern California Regional Rail Authority   \n",
       "\n",
       "                                           Project Title   PPNO District  \\\n",
       "22            Peninsula Corridor Electrification Project  CP022        4   \n",
       "54  Southern California Optimized Rail Expansion (SCORE)  CP033        7   \n",
       "\n",
       "   County  \\\n",
       "22    VAR   \n",
       "54    VAR   \n",
       "\n",
       "                                                                                                                                                                                                                                                                                                                                                                                                                                                                                                                                       Project Description  \\\n",
       "22                                                                                                                                                                                                                                                                                                                                                                                                                                                     Electrification of approximately 51 miles of existing Caltrain Corridor and procurement of 96 EMUs.   \n",
       "54  Delivers more frequent, more reliable rail services throughout Southern California, with station reconfiguration with run-though tracks for Metrolink and Pacific Surfliner trains at Los Angeles Union Station to improve train movement through the station, and 30-min services on multiple Metrolink corridors in the LA Basin. Includes significant investments to improve the frequency and performance of rail services to Moorpark, Santa Clarita, San Bernardino, Riverside, and Orange County. Part of a high-performance long-range vision.   \n",
       "\n",
       "    bus_count Master Agreement Number Master Agreement Expiration Date  \\\n",
       "22        NaN             64PCJPBMA01              2026-06-30 00:00:00   \n",
       "54        NaN           64SCRRAMA A02              2031-08-02 00:00:00   \n",
       "\n",
       "   Project Manager Regional Coordinator Technical Assistance-CALITP (Y/N)  \\\n",
       "22    Jason Finley      Shannon Simonds                                No   \n",
       "54       Noey Rios        Anthony Serna                                No   \n",
       "\n",
       "   Technical Assistance-Fleet (Y/N)  \\\n",
       "22                               No   \n",
       "54                               No   \n",
       "\n",
       "   Technical Assistance-Network Integration (Y/N)  \\\n",
       "22                                             No   \n",
       "54                                            Yes   \n",
       "\n",
       "   Technical Assistance-Priority Population (Y/N)  Total Project Cost  \\\n",
       "22                                             No          1980400000   \n",
       "54                                             No          2049700000   \n",
       "\n",
       "    TIRCP Award Amount ($)  Allocated Amount  Unallocated Amount  \\\n",
       "22               387000000         386750000              250000   \n",
       "54               875708000         407632000           468076000   \n",
       "\n",
       "    Percentage Allocated  Expended Amount Other Funds Involved Award Cycle  \\\n",
       "22              0.999354     1.773165e+07                  Yes           2   \n",
       "54              0.465488     1.170575e+08                  NaN           3   \n",
       "\n",
       "   Is SB1? Is GGRF? Is IIJA?  ON SHS?  CalITP Estimated TIRCP GHG Reductions  \\\n",
       "22       N        Y        N      NaN     NaN                  734,000 MTCO2   \n",
       "54       Y        Y        N      NaN     NaN               5,714,000 MTCO2e   \n",
       "\n",
       "   Estemated Project Completion Estimated TIRCP GHG Reductions2  \\\n",
       "22                          NaN                            High   \n",
       "54                          NaN                            High   \n",
       "\n",
       "   Increased Ridership Service Integration Improve Safety Project Readiness  \\\n",
       "22                High                High           High            Medium   \n",
       "54                High                High           High            Medium   \n",
       "\n",
       "   Funding Leverage Multi-Agency Coordination/Integration  \\\n",
       "22             High                           Medium-High   \n",
       "54      Medium-High                                  High   \n",
       "\n",
       "   AB 1550 Community Benefits Housing Co-Benefits  \\\n",
       "22                     Medium                 NaN   \n",
       "54                Medium-High                 NaN   \n",
       "\n",
       "                                   Local Agency Address Local Agency City  \\\n",
       "22               1250 San Carlos Ave\\nSan Carlos, 94070        San Carlos   \n",
       "54  900 Wilshire Blvd, Ste 1500\\nLos Angeles, CA  90017       Los Angeles   \n",
       "\n",
       "   Local Agency Zip                                   Local Agency Contact  \\\n",
       "22            94070  Peter Skinner, Manager of Grants and Fund Programming   \n",
       "54            90017                 Tom Schamber, Interim Director, Grants   \n",
       "\n",
       "       Local Agency Email Local Agency Phone Number  \\\n",
       "22  skinnerp@samtrans.com            (650) 622-7818   \n",
       "54    SchamberT@scrra.net         (213) 494-7289      \n",
       "\n",
       "   Comments/Additional Contacts S California  \n",
       "22                          NaN           No  \n",
       "54                          NaN          Yes  "
      ]
     },
     "execution_count": 78,
     "metadata": {},
     "output_type": "execute_result"
    }
   ],
   "source": [
    "# tircp\n",
    "tircp_data.sample(2)\n",
    "\n",
    "#can get award year, "
   ]
  },
  {
   "cell_type": "code",
   "execution_count": 81,
   "id": "ba71266a-1154-4933-89a5-2fe183584131",
   "metadata": {},
   "outputs": [
    {
     "data": {
      "text/html": [
       "<div>\n",
       "<style scoped>\n",
       "    .dataframe tbody tr th:only-of-type {\n",
       "        vertical-align: middle;\n",
       "    }\n",
       "\n",
       "    .dataframe tbody tr th {\n",
       "        vertical-align: top;\n",
       "    }\n",
       "\n",
       "    .dataframe thead th {\n",
       "        text-align: right;\n",
       "    }\n",
       "</style>\n",
       "<table border=\"1\" class=\"dataframe\">\n",
       "  <thead>\n",
       "    <tr style=\"text-align: right;\">\n",
       "      <th></th>\n",
       "      <th>Supplier Contract Usage ID</th>\n",
       "      <th>Ordering Agency Name</th>\n",
       "      <th>State (S) or Local (L) agency</th>\n",
       "      <th>Purchasing Authority Number                    (for State departments)</th>\n",
       "      <th>Agency Billing Code</th>\n",
       "      <th>Purchase Order Number</th>\n",
       "      <th>Purchase Order Date</th>\n",
       "      <th>Delivery Date</th>\n",
       "      <th>Contract Line Item Number (CLIN)                (RFP ID)</th>\n",
       "      <th>UNSPSC Code\\n(Version 10)</th>\n",
       "      <th>Manufacturer Part Number (OEM #)</th>\n",
       "      <th>Manufacturer (OEM)</th>\n",
       "      <th>SKU # / Item #</th>\n",
       "      <th>Item Description</th>\n",
       "      <th>Unit of Measure</th>\n",
       "      <th>Quantity in \\nUnit of Measure\\n</th>\n",
       "      <th>EPP (Y/N)</th>\n",
       "      <th>Quantity</th>\n",
       "      <th>List Price/MSRP</th>\n",
       "      <th>Index Date / Catalog Version</th>\n",
       "      <th>Contract Unit Price</th>\n",
       "      <th>Contract Discount</th>\n",
       "      <th>Extended Contract Price Paid</th>\n",
       "      <th>Core/ NonCore</th>\n",
       "      <th>Group ID/ Segment ID</th>\n",
       "      <th>source</th>\n",
       "    </tr>\n",
       "  </thead>\n",
       "  <tbody>\n",
       "    <tr>\n",
       "      <th>56</th>\n",
       "      <td>102865447</td>\n",
       "      <td>Napa Valley Transportation Authority</td>\n",
       "      <td>L</td>\n",
       "      <td>NaN</td>\n",
       "      <td>NaN</td>\n",
       "      <td>21-2002</td>\n",
       "      <td>2021-08-26</td>\n",
       "      <td>Q2 2022</td>\n",
       "      <td>NaN</td>\n",
       "      <td>NaN</td>\n",
       "      <td>NaN</td>\n",
       "      <td>NaN</td>\n",
       "      <td>NaN</td>\n",
       "      <td>Options - Charging Equipment</td>\n",
       "      <td>Ea</td>\n",
       "      <td>1</td>\n",
       "      <td>Y</td>\n",
       "      <td>1</td>\n",
       "      <td>NaN</td>\n",
       "      <td>NaN</td>\n",
       "      <td>141700.0</td>\n",
       "      <td>NaN</td>\n",
       "      <td>141700.0</td>\n",
       "      <td>Core</td>\n",
       "      <td>2</td>\n",
       "      <td>17c</td>\n",
       "    </tr>\n",
       "  </tbody>\n",
       "</table>\n",
       "</div>"
      ],
      "text/plain": [
       "    Supplier Contract Usage ID                  Ordering Agency Name  \\\n",
       "56                   102865447  Napa Valley Transportation Authority   \n",
       "\n",
       "   State (S) or Local (L) agency  \\\n",
       "56                             L   \n",
       "\n",
       "    Purchasing Authority Number                    (for State departments)  \\\n",
       "56                                                                     NaN   \n",
       "\n",
       "    Agency Billing Code Purchase Order Number Purchase Order Date  \\\n",
       "56                  NaN               21-2002          2021-08-26   \n",
       "\n",
       "   Delivery Date  Contract Line Item Number (CLIN)                (RFP ID)  \\\n",
       "56       Q2 2022                                                       NaN   \n",
       "\n",
       "    UNSPSC Code\\n(Version 10) Manufacturer Part Number (OEM #)  \\\n",
       "56                        NaN                              NaN   \n",
       "\n",
       "   Manufacturer (OEM)  SKU # / Item #              Item Description  \\\n",
       "56                NaN             NaN  Options - Charging Equipment   \n",
       "\n",
       "   Unit of Measure  Quantity in \\nUnit of Measure\\n EPP (Y/N)  Quantity  \\\n",
       "56              Ea                                1         Y         1   \n",
       "\n",
       "    List Price/MSRP  Index Date / Catalog Version  Contract Unit Price  \\\n",
       "56              NaN                           NaN             141700.0   \n",
       "\n",
       "    Contract Discount  Extended Contract Price Paid Core/ NonCore  \\\n",
       "56                NaN                      141700.0          Core   \n",
       "\n",
       "    Group ID/ Segment ID source  \n",
       "56                     2    17c  "
      ]
     },
     "execution_count": 81,
     "metadata": {},
     "output_type": "execute_result"
    }
   ],
   "source": [
    "# dgs\n",
    "dgs_17c.sample(1)\n",
    "\n",
    "# can use purchase order date,\n"
   ]
  },
  {
   "cell_type": "code",
   "execution_count": 82,
   "id": "83422a07-b2ba-43b7-ae99-6df1b162016e",
   "metadata": {},
   "outputs": [
    {
     "data": {
      "text/html": [
       "<div>\n",
       "<style scoped>\n",
       "    .dataframe tbody tr th:only-of-type {\n",
       "        vertical-align: middle;\n",
       "    }\n",
       "\n",
       "    .dataframe tbody tr th {\n",
       "        vertical-align: top;\n",
       "    }\n",
       "\n",
       "    .dataframe thead th {\n",
       "        text-align: right;\n",
       "    }\n",
       "</style>\n",
       "<table border=\"1\" class=\"dataframe\">\n",
       "  <thead>\n",
       "    <tr style=\"text-align: right;\">\n",
       "      <th></th>\n",
       "      <th>Supplier Contract Usage ID</th>\n",
       "      <th>Ordering Agency Name</th>\n",
       "      <th>State (S) or Local (L) agency</th>\n",
       "      <th>Purchasing Authority Number                    (for State departments)</th>\n",
       "      <th>Agency Billing Code</th>\n",
       "      <th>Purchase Order Number</th>\n",
       "      <th>Purchase Order Date</th>\n",
       "      <th>Delivery Date</th>\n",
       "      <th>Contract Line Item Number (CLIN)                (RFP ID)</th>\n",
       "      <th>UNSPSC Code\\n(Version 10)</th>\n",
       "      <th>Manufacturer Part Number (OEM #)</th>\n",
       "      <th>Manufacturer (OEM)</th>\n",
       "      <th>SKU # / Item #</th>\n",
       "      <th>Item Description</th>\n",
       "      <th>Unit of Measure</th>\n",
       "      <th>Quantity in \\nUnit of Measure\\n</th>\n",
       "      <th>EPP (Y/N)</th>\n",
       "      <th>Quantity</th>\n",
       "      <th>List Price/MSRP</th>\n",
       "      <th>Index Date / Catalog Version</th>\n",
       "      <th>Contract Unit Price</th>\n",
       "      <th>Contract Discount</th>\n",
       "      <th>Extended Contract Price Paid</th>\n",
       "      <th>Total with options per unit</th>\n",
       "      <th>Grand Total</th>\n",
       "      <th>source</th>\n",
       "    </tr>\n",
       "  </thead>\n",
       "  <tbody>\n",
       "    <tr>\n",
       "      <th>20</th>\n",
       "      <td>154186</td>\n",
       "      <td>San Diego Metro</td>\n",
       "      <td>L</td>\n",
       "      <td>NaN</td>\n",
       "      <td>NaN</td>\n",
       "      <td>4500040166</td>\n",
       "      <td>2021-06-24</td>\n",
       "      <td>July-23</td>\n",
       "      <td>9.3</td>\n",
       "      <td>NaN</td>\n",
       "      <td>XE60</td>\n",
       "      <td>New Flyer of America Inc</td>\n",
       "      <td>SR-2664</td>\n",
       "      <td>60 foot battery electric Bus</td>\n",
       "      <td>EA</td>\n",
       "      <td>1</td>\n",
       "      <td>NaN</td>\n",
       "      <td>12</td>\n",
       "      <td>NaN</td>\n",
       "      <td>NaN</td>\n",
       "      <td>1218483.94</td>\n",
       "      <td>Volume Discount Applied</td>\n",
       "      <td>14621807.28</td>\n",
       "      <td>1563298.63</td>\n",
       "      <td>18759583.56</td>\n",
       "      <td>17b</td>\n",
       "    </tr>\n",
       "  </tbody>\n",
       "</table>\n",
       "</div>"
      ],
      "text/plain": [
       "    Supplier Contract Usage ID Ordering Agency Name  \\\n",
       "20                      154186      San Diego Metro   \n",
       "\n",
       "   State (S) or Local (L) agency  \\\n",
       "20                             L   \n",
       "\n",
       "    Purchasing Authority Number                    (for State departments)  \\\n",
       "20                                                                     NaN   \n",
       "\n",
       "    Agency Billing Code Purchase Order Number Purchase Order Date  \\\n",
       "20                  NaN            4500040166          2021-06-24   \n",
       "\n",
       "   Delivery Date  Contract Line Item Number (CLIN)                (RFP ID)  \\\n",
       "20       July-23                                                       9.3   \n",
       "\n",
       "    UNSPSC Code\\n(Version 10) Manufacturer Part Number (OEM #)  \\\n",
       "20                        NaN                             XE60   \n",
       "\n",
       "          Manufacturer (OEM) SKU # / Item #              Item Description  \\\n",
       "20  New Flyer of America Inc        SR-2664  60 foot battery electric Bus   \n",
       "\n",
       "   Unit of Measure  Quantity in \\nUnit of Measure\\n  EPP (Y/N)  Quantity  \\\n",
       "20              EA                                1        NaN        12   \n",
       "\n",
       "    List Price/MSRP  Index Date / Catalog Version  Contract Unit Price  \\\n",
       "20              NaN                           NaN           1218483.94   \n",
       "\n",
       "          Contract Discount  Extended Contract Price Paid  \\\n",
       "20  Volume Discount Applied                   14621807.28   \n",
       "\n",
       "    Total with options per unit  Grand Total source  \n",
       "20                   1563298.63  18759583.56    17b  "
      ]
     },
     "execution_count": 82,
     "metadata": {},
     "output_type": "execute_result"
    }
   ],
   "source": [
    "dgs_17b.sample(1)"
   ]
  },
  {
   "cell_type": "markdown",
   "id": "55b459f1-d08a-457e-9792-b31345767e35",
   "metadata": {},
   "source": [
    "## \"Data by manufacture\"\n",
    "- check the TIRCP and DGS data for this"
   ]
  },
  {
   "cell_type": "code",
   "execution_count": 12,
   "id": "fa1c14cc-49f1-448c-a565-806613917303",
   "metadata": {},
   "outputs": [],
   "source": [
    "# tircp\n",
    "\n",
    "tircp_data,"
   ]
  },
  {
   "cell_type": "code",
   "execution_count": 13,
   "id": "a8f7a16e-43d1-48e3-8834-477243484f7a",
   "metadata": {},
   "outputs": [],
   "source": [
    "# dgs\n",
    "dgs_17c,\n",
    "dgs_17b,"
   ]
  },
  {
   "cell_type": "markdown",
   "id": "8b355c16-118d-4686-b1da-4372e9fbf096",
   "metadata": {},
   "source": [
    "## \"Data by purchasing vehicle/contract\"\n",
    "- make this more clear i TIRCP and DGS data"
   ]
  },
  {
   "cell_type": "code",
   "execution_count": null,
   "id": "ee9f5024-15d1-42c0-a742-750a5d28d3eb",
   "metadata": {},
   "outputs": [],
   "source": [
    "dgs_17c,\n",
    "            dgs_17b,\n",
    "            tircp_data,\n",
    "            fta_fy_24,\n",
    "            fta_fy_23"
   ]
  }
 ],
 "metadata": {
  "kernelspec": {
   "display_name": "Python 3 (ipykernel)",
   "language": "python",
   "name": "python3"
  },
  "language_info": {
   "codemirror_mode": {
    "name": "ipython",
    "version": 3
   },
   "file_extension": ".py",
   "mimetype": "text/x-python",
   "name": "python",
   "nbconvert_exporter": "python",
   "pygments_lexer": "ipython3",
   "version": "3.11.10"
  },
  "toc-autonumbering": false,
  "toc-showcode": false,
  "toc-showmarkdowntxt": false
 },
 "nbformat": 4,
 "nbformat_minor": 5
}
