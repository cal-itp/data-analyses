{
 "cells": [
  {
   "cell_type": "markdown",
   "id": "46b3c4b1-8668-49b7-a330-9bd1f092f7b9",
   "metadata": {},
   "source": [
    "## FY23 FTA Bus and Low- and No-Emission Grant Awards Analysis\n",
    "\n",
    "<b>GH issue:</b> \n",
    "* Research Request - Bus Procurement Costs & Awards #897\n",
    "\n",
    "<b>Data source(s):</b> \n",
    "1. https://www.transit.dot.gov/funding/grants/fy23-fta-bus-and-low-and-no-emission-grant-awards\n",
    "2. https://storymaps.arcgis.com/stories/022abf31cedd438b808ec2b827b6faff\n",
    "\n",
    "<b>Definitions:</b>  \n",
    "* <u>Grants for Buses and Bus Facilities Program:</u>\n",
    "    * 49 U.S.C. 5339(b)) makes federal resources available to states and direct recipients to replace, rehabilitate and purchase buses and related equipment and to construct bus-related facilities, including technological changes or innovations to modify low or no emission vehicles or facilities. Funding is provided through formula allocations and competitive grants. \n",
    "<br><br>\n",
    "* <u>Low or No Emission Vehicle Program:</u>\n",
    "    * 5339(c) provides funding to state and local governmental authorities for the purchase or lease of zero-emission and low-emission transit buses as well as acquisition, construction, and leasing of required supporting facilities.\n"
   ]
  },
  {
   "cell_type": "code",
   "execution_count": 1,
   "id": "1ad111b5-3933-45c4-aa3c-f12ea701e882",
   "metadata": {},
   "outputs": [],
   "source": [
    "import pandas as pd\n",
    "\n",
    "#set_option to increase max rows displayed to 200, to see entire df in 1 go/\n",
    "pd.set_option(\"display.max_rows\", 200)"
   ]
  },
  {
   "cell_type": "markdown",
   "id": "467fc38e-6313-44c7-9797-456ecd752e57",
   "metadata": {
    "tags": []
   },
   "source": [
    "## Reading in raw data from gcs"
   ]
  },
  {
   "cell_type": "code",
   "execution_count": 2,
   "id": "a42530b9-806e-498b-8f82-9f123ddb087c",
   "metadata": {},
   "outputs": [],
   "source": [
    "df = pd.read_excel(\n",
    "    \"gs://calitp-analytics-data/data-analyses/bus_procurement_cost/fta_press_release_data2.xlsx\"\n",
    ")"
   ]
  },
  {
   "cell_type": "code",
   "execution_count": null,
   "id": "cd154e9d-297b-41c1-a940-af3f177e196b",
   "metadata": {},
   "outputs": [],
   "source": [
    "# data is able to be read in\n",
    "display(df.shape, type(df), df.head(5))"
   ]
  },
  {
   "cell_type": "markdown",
   "id": "7f37c5d6-664c-48fd-9c32-cf7dcd3318ae",
   "metadata": {
    "jp-MarkdownHeadingCollapsed": true,
    "tags": []
   },
   "source": [
    "## Data Cleaning\n",
    "1. snake-case column name\n",
    "2. currency format funcding column (with $ and , )\n",
    "3. seperate text from # of bus col (split at '(')\n",
    "    a. trim spaces in new col\n",
    "    b. get rid of () characters in new col\n",
    "4. trim spaces in other columns?"
   ]
  },
  {
   "cell_type": "code",
   "execution_count": null,
   "id": "493cfd5f-1e5a-4e35-8fc0-a64c3365c1be",
   "metadata": {},
   "outputs": [],
   "source": [
    "df.columns"
   ]
  },
  {
   "cell_type": "code",
   "execution_count": 3,
   "id": "797069c2-1937-4b11-bc6f-f1e5eb39534a",
   "metadata": {},
   "outputs": [
    {
     "data": {
      "text/plain": [
       "Index(['state', 'project_sponsor', 'project_title', 'description', 'funding',\n",
       "       '#_of_buses', 'project_type', 'propulsion_type', 'area_served',\n",
       "       'congressional_districts', 'fta_region', 'bus/low-no_program'],\n",
       "      dtype='object')"
      ]
     },
     "execution_count": 3,
     "metadata": {},
     "output_type": "execute_result"
    }
   ],
   "source": [
    "# snake case columns names via list\n",
    "new_col = [\n",
    "    \"state\",\n",
    "    \"project_sponsor\",\n",
    "    \"project_title\",\n",
    "    \"description\",\n",
    "    \"funding\",\n",
    "    \"#_of_buses\",\n",
    "    \"project_type\",\n",
    "    \"propulsion_type\",\n",
    "    \"area_served\",\n",
    "    \"congressional_districts\",\n",
    "    \"fta_region\",\n",
    "    \"bus/low-no_program\",\n",
    "]\n",
    "\n",
    "df.columns = new_col\n",
    "df.columns"
   ]
  },
  {
   "cell_type": "code",
   "execution_count": 4,
   "id": "03193a06-1851-4c51-bd45-5576ff66993c",
   "metadata": {},
   "outputs": [
    {
     "data": {
      "text/plain": [
       "dtype('int64')"
      ]
     },
     "metadata": {},
     "output_type": "display_data"
    },
    {
     "data": {
      "text/plain": [
       "5000000      3\n",
       "6000000      2\n",
       "3400000      2\n",
       "104000000    1\n",
       "4313552      1\n",
       "3133129      1\n",
       "3187200      1\n",
       "3199038      1\n",
       "3248500      1\n",
       "3303600      1\n",
       "3326067      1\n",
       "3609800      1\n",
       "3645000      1\n",
       "3937500      1\n",
       "4094652      1\n",
       "4278772      1\n",
       "4500000      1\n",
       "4492904      1\n",
       "2860250      1\n",
       "4690010      1\n",
       "4738886      1\n",
       "5001700      1\n",
       "5750351      1\n",
       "5883200      1\n",
       "5945553      1\n",
       "6197180      1\n",
       "6341306      1\n",
       "6407460      1\n",
       "6424808      1\n",
       "6455325      1\n",
       "2932500      1\n",
       "2819460      1\n",
       "103000000    1\n",
       "1080000      1\n",
       "233760       1\n",
       "280800       1\n",
       "300000       1\n",
       "320000       1\n",
       "514002       1\n",
       "653184       1\n",
       "723171       1\n",
       "753118       1\n",
       "776714       1\n",
       "945178       1\n",
       "1006750      1\n",
       "1010372      1\n",
       "1055365      1\n",
       "1145951      1\n",
       "2359072      1\n",
       "1162000      1\n",
       "1200000      1\n",
       "1276628      1\n",
       "1280000      1\n",
       "1456970      1\n",
       "1506618      1\n",
       "1672000      1\n",
       "1760000      1\n",
       "2063160      1\n",
       "2160000      1\n",
       "2162886      1\n",
       "2207758      1\n",
       "2212747      1\n",
       "6586104      1\n",
       "6635394      1\n",
       "6859296      1\n",
       "28947368     1\n",
       "19040336     1\n",
       "20000000     1\n",
       "20370793     1\n",
       "20381950     1\n",
       "21490560     1\n",
       "22286745     1\n",
       "22469312     1\n",
       "23280546     1\n",
       "23984700     1\n",
       "25000000     1\n",
       "25513684     1\n",
       "25906730     1\n",
       "26437120     1\n",
       "29330243     1\n",
       "7305526      1\n",
       "29331665     1\n",
       "30128378     1\n",
       "30890413     1\n",
       "31535000     1\n",
       "33552634     1\n",
       "37808113     1\n",
       "37962840     1\n",
       "39142124     1\n",
       "39863156     1\n",
       "40402548     1\n",
       "47000000     1\n",
       "71439261     1\n",
       "80000000     1\n",
       "18262255     1\n",
       "17853710     1\n",
       "17532900     1\n",
       "17055353     1\n",
       "7393183      1\n",
       "7440000      1\n",
       "7443765      1\n",
       "7526400      1\n",
       "7598425      1\n",
       "7852320      1\n",
       "8122850      1\n",
       "8740728      1\n",
       "8784606      1\n",
       "9644865      1\n",
       "9650646      1\n",
       "9806428      1\n",
       "9899120      1\n",
       "10000000     1\n",
       "10388000     1\n",
       "10694736     1\n",
       "10700000     1\n",
       "11560000     1\n",
       "11570906     1\n",
       "12299377     1\n",
       "12458500     1\n",
       "12600000     1\n",
       "13295699     1\n",
       "13880910     1\n",
       "15423904     1\n",
       "16166822     1\n",
       "16358000     1\n",
       "181250       1\n",
       "Name: funding, dtype: int64"
      ]
     },
     "metadata": {},
     "output_type": "display_data"
    }
   ],
   "source": [
    "# checking data type of funding col\n",
    "# checking to see if any values are not numbers\n",
    "display(df[\"funding\"].dtype, df.funding.value_counts())"
   ]
  },
  {
   "cell_type": "code",
   "execution_count": null,
   "id": "e3e6b92c-7e80-4db9-b676-b92c53402946",
   "metadata": {},
   "outputs": [],
   "source": [
    "# DO NOT USE THOUSAND SEPERATOR\n",
    "# test of adding thousand comma seperators to funding column\n",
    "# df[\"funding\"] = df[\"funding\"].apply(\"{:,}\".format)"
   ]
  },
  {
   "cell_type": "code",
   "execution_count": null,
   "id": "9ef368b9-1667-4866-8fa3-f0704d22a0aa",
   "metadata": {},
   "outputs": [],
   "source": [
    "# thousand comma showing as intended.\n",
    "# df.funding.value_counts().head()"
   ]
  },
  {
   "cell_type": "code",
   "execution_count": 5,
   "id": "1fb94754-e795-4e78-8a91-2732566a1792",
   "metadata": {},
   "outputs": [],
   "source": [
    "# test of removing the spaces first in # of bus colum, THEN split by (\n",
    "df[\"#_of_buses\"] = df[\"#_of_buses\"].str.replace(\" \", \"\")"
   ]
  },
  {
   "cell_type": "code",
   "execution_count": 6,
   "id": "1e682fca-2f4b-4459-a46e-fccce29f2650",
   "metadata": {},
   "outputs": [],
   "source": [
    "df[[\"bus_count\", \"bus_desc\"]] = df[\"#_of_buses\"].str.split(pat=\"(\", n=1, expand=True)"
   ]
  },
  {
   "cell_type": "code",
   "execution_count": 7,
   "id": "156b81ec-4807-4226-97cf-cd36dc39dfd4",
   "metadata": {},
   "outputs": [
    {
     "data": {
      "text/plain": [
       "Index(['state', 'project_sponsor', 'project_title', 'description', 'funding',\n",
       "       '#_of_buses', 'project_type', 'propulsion_type', 'area_served',\n",
       "       'congressional_districts', 'fta_region', 'bus/low-no_program',\n",
       "       'bus_count', 'bus_desc'],\n",
       "      dtype='object')"
      ]
     },
     "execution_count": 7,
     "metadata": {},
     "output_type": "execute_result"
    }
   ],
   "source": [
    "# retained the initial col. and added new columns to the end.\n",
    "df.columns"
   ]
  },
  {
   "cell_type": "code",
   "execution_count": 8,
   "id": "fd20bd24-6df2-4b7d-ad92-2b52fe2c6a41",
   "metadata": {},
   "outputs": [
    {
     "data": {
      "text/plain": [
       "4                          9\n",
       "7                          6\n",
       "20                         6\n",
       "6                          6\n",
       "5                          4\n",
       "3                          3\n",
       "2                          3\n",
       "16                         3\n",
       "9                          3\n",
       "11                         3\n",
       "25                         3\n",
       "10                         3\n",
       "1                          2\n",
       "15                         2\n",
       "56estimated-cutawayvans    1\n",
       "14                         1\n",
       "8                          1\n",
       "50                         1\n",
       "100                        1\n",
       "37                         1\n",
       "12batteryelectric          1\n",
       "90                         1\n",
       "39                         1\n",
       "17                         1\n",
       "13                         1\n",
       "23                         1\n",
       "30                         1\n",
       "35                         1\n",
       "40                         1\n",
       "12                         1\n",
       "Name: bus_count, dtype: int64"
      ]
     },
     "execution_count": 8,
     "metadata": {},
     "output_type": "execute_result"
    }
   ],
   "source": [
    "# examining the new bus count col.\n",
    "# see there are 2 values that are inconsistent.\n",
    "df.bus_count.value_counts()"
   ]
  },
  {
   "cell_type": "code",
   "execution_count": 9,
   "id": "3d3c02c1-6582-4034-b0df-596235ac35fd",
   "metadata": {},
   "outputs": [],
   "source": [
    "# function to find the row index of a specific value and column in a dataframe\n",
    "def find_loc(data, col, val):\n",
    "    x = data.loc[data[col] == val].index[0]\n",
    "    return x"
   ]
  },
  {
   "cell_type": "code",
   "execution_count": 10,
   "id": "261cac0b-6427-4420-bbb2-41121574b09e",
   "metadata": {},
   "outputs": [],
   "source": [
    "loc1 = find_loc(df, \"bus_count\", \"56estimated-cutawayvans\")\n",
    "loc2 = find_loc(df, \"bus_count\", \"12batteryelectric\")"
   ]
  },
  {
   "cell_type": "code",
   "execution_count": 11,
   "id": "887f3bce-9b0e-45a1-93ae-920a3584f466",
   "metadata": {},
   "outputs": [
    {
     "data": {
      "text/plain": [
       "58"
      ]
     },
     "metadata": {},
     "output_type": "display_data"
    },
    {
     "data": {
      "text/plain": [
       "32"
      ]
     },
     "metadata": {},
     "output_type": "display_data"
    }
   ],
   "source": [
    "display(loc1, loc2)"
   ]
  },
  {
   "cell_type": "code",
   "execution_count": 12,
   "id": "46065069-4d01-4f54-a132-a671d50ac9b9",
   "metadata": {},
   "outputs": [],
   "source": [
    "# editing the values of the bus count col at specific location\n",
    "#syntax, look at ## index, look at XX column\n",
    "df.loc[58, \"bus_count\"] = 56\n",
    "df.loc[32, \"bus_count\"] = 12"
   ]
  },
  {
   "cell_type": "code",
   "execution_count": 13,
   "id": "8fe33276-6264-4c6e-80ec-530f315e79ce",
   "metadata": {},
   "outputs": [],
   "source": [
    "# updating values again for bus_desc. same location\n",
    "df.loc[58, \"bus_desc\"] = \"estimated-cutaway vans (PM- award will not fund 68 buses)\"\n",
    "df.loc[32, \"bus_desc\"] = \"battery electric\""
   ]
  },
  {
   "cell_type": "code",
   "execution_count": 14,
   "id": "28fc0972-03ae-4c56-a207-906732deb4ab",
   "metadata": {},
   "outputs": [
    {
     "data": {
      "text/plain": [
       "state                                                                     MN\n",
       "project_sponsor                                                Metro Transit\n",
       "project_title              Investments Toward an Electric Future: Metro T...\n",
       "description                Metro Transit will receive funding to buy batt...\n",
       "funding                                                             17532900\n",
       "#_of_buses                                                 12batteryelectric\n",
       "project_type                                      Bus / Chargers / Equipment\n",
       "propulsion_type                                                         zero\n",
       "area_served                                                      Large Urban\n",
       "congressional_districts           MN-002 ; MN-003 ; MN-004 ; MN-005 ; MN-006\n",
       "fta_region                                                                 5\n",
       "bus/low-no_program                                                    Low-No\n",
       "bus_count                                                                 12\n",
       "bus_desc                                                    battery electric\n",
       "Name: 32, dtype: object"
      ]
     },
     "metadata": {},
     "output_type": "display_data"
    },
    {
     "data": {
      "text/plain": [
       "state                                                                     TX\n",
       "project_sponsor            Texas Department of Transportation on behalf o...\n",
       "project_title              FY23 Rural Transit Asset Replacement & Moderni...\n",
       "description                The Texas Department of Transportation will re...\n",
       "funding                                                              7443765\n",
       "#_of_buses                 56estimated-cutawayvans(PM-awardwillnotfund68b...\n",
       "project_type                                                 bus / facilitiy\n",
       "propulsion_type                                                          low\n",
       "area_served                                                            Rural\n",
       "congressional_districts    TX-001 ; TX-002 ; TX-004 ; TX-005 ; TX-006 ; T...\n",
       "fta_region                                                                 6\n",
       "bus/low-no_program                                                    Low-No\n",
       "bus_count                                                                 56\n",
       "bus_desc                   estimated-cutaway vans (PM- award will not fun...\n",
       "Name: 58, dtype: object"
      ]
     },
     "metadata": {},
     "output_type": "display_data"
    }
   ],
   "source": [
    "# values updated as inteneded for bus count and bus desc\n",
    "display(df.loc[32], df.loc[58])"
   ]
  },
  {
   "cell_type": "code",
   "execution_count": 15,
   "id": "5773714f-1df8-403d-9074-9936a47522a3",
   "metadata": {},
   "outputs": [
    {
     "data": {
      "text/plain": [
       "4      9\n",
       "7      6\n",
       "20     6\n",
       "6      6\n",
       "5      4\n",
       "3      3\n",
       "2      3\n",
       "16     3\n",
       "9      3\n",
       "11     3\n",
       "25     3\n",
       "10     3\n",
       "1      2\n",
       "15     2\n",
       "56     1\n",
       "14     1\n",
       "8      1\n",
       "50     1\n",
       "100    1\n",
       "37     1\n",
       "12     1\n",
       "90     1\n",
       "39     1\n",
       "17     1\n",
       "13     1\n",
       "23     1\n",
       "30     1\n",
       "35     1\n",
       "40     1\n",
       "12     1\n",
       "Name: bus_count, dtype: int64"
      ]
     },
     "execution_count": 15,
     "metadata": {},
     "output_type": "execute_result"
    }
   ],
   "source": [
    "# confirming via value counts that all values are valid now.\n",
    "df.bus_count.value_counts()"
   ]
  },
  {
   "cell_type": "code",
   "execution_count": 16,
   "id": "29471dc3-047f-4222-8760-3215b70a8167",
   "metadata": {},
   "outputs": [
    {
     "data": {
      "text/plain": [
       "BEBs)                                                        13\n",
       "CNG)                                                          6\n",
       "hybrid)                                                       5\n",
       "cng)                                                          4\n",
       "Electric)                                                     4\n",
       "hybridelectric)                                               4\n",
       "dieselelectrichybrids)                                        2\n",
       "propanebuses)                                                 2\n",
       "electric)                                                     2\n",
       "propane)                                                      2\n",
       "BEB)                                                          2\n",
       "CNGfueled)                                                    1\n",
       "zeroemissionelectric)                                         1\n",
       "hybridelectrics)                                              1\n",
       "beb)                                                          1\n",
       "dieselandgas)                                                 1\n",
       "diesel-electrichybrids)                                       1\n",
       "estimated-cutaway vans (PM- award will not fund 68 buses)     1\n",
       "diesel-electric)                                              1\n",
       "1:CNGbus;2cutawayCNGbuses)                                    1\n",
       "zeroemission)                                                 1\n",
       "hybridelectricbuses)                                          1\n",
       "zeroemissionbuses)                                            1\n",
       "4fuelcell/3CNG)                                               1\n",
       "2BEBsand4HydrogenFuelCellBuses)                               1\n",
       "hydrogenfuelcell)                                             1\n",
       "estimated-CNGbuses)                                           1\n",
       "BEBsparatransitbuses)                                         1\n",
       "lowemissionCNG)                                               1\n",
       "battery electric                                              1\n",
       "FuelCell)                                                     1\n",
       "FuelCellElectric)                                             1\n",
       "FCEB)                                                         1\n",
       "Electric)\\n16(Hybrid)                                         1\n",
       "cngbuses)                                                     1\n",
       "zero-emission)                                                1\n",
       "propanedpoweredvehicles)                                      1\n",
       "Name: bus_desc, dtype: int64"
      ]
     },
     "execution_count": 16,
     "metadata": {},
     "output_type": "execute_result"
    }
   ],
   "source": [
    "df.bus_desc.value_counts()"
   ]
  },
  {
   "cell_type": "code",
   "execution_count": 17,
   "id": "09750ef1-1eba-4561-b5ad-b05f2a3b5875",
   "metadata": {},
   "outputs": [
    {
     "name": "stderr",
     "output_type": "stream",
     "text": [
      "/tmp/ipykernel_314/731474463.py:5: FutureWarning: The default value of regex will change from True to False in a future version. In addition, single character regular expressions will *not* be treated as literal strings when regex=True.\n",
      "  df[\"bus_desc\"] = df[\"bus_desc\"].str.replace(\")\", \"\")\n"
     ]
    }
   ],
   "source": [
    "# clearning the bus desc col.\n",
    "# removing the )\n",
    "# creating a dictionary to add spaces back to the values\n",
    "\n",
    "df[\"bus_desc\"] = df[\"bus_desc\"].str.replace(\")\", \"\")"
   ]
  },
  {
   "cell_type": "code",
   "execution_count": 18,
   "id": "03f52229-29ad-4551-aa70-a9d53124d61e",
   "metadata": {},
   "outputs": [],
   "source": [
    "# stripping the values in the bus desc col\n",
    "df[\"bus_desc\"] = df[\"bus_desc\"].str.strip()"
   ]
  },
  {
   "cell_type": "code",
   "execution_count": 19,
   "id": "9202f2a1-f309-4b86-8602-6989fe4c577a",
   "metadata": {},
   "outputs": [
    {
     "data": {
      "text/plain": [
       "array(['beb', 'estimated-CNGbuses', nan, 'zero-emission', 'cngbuses',\n",
       "       'BEBs', 'Electric\\n16(Hybrid', 'FCEB', 'Electric',\n",
       "       'FuelCellElectric', 'CNG', 'FuelCell', 'hybrid', 'BEB',\n",
       "       'battery electric', 'lowemissionCNG', 'cng',\n",
       "       'BEBsparatransitbuses', 'hybridelectric', 'zeroemissionbuses',\n",
       "       'dieselelectrichybrids', 'hydrogenfuelcell',\n",
       "       '2BEBsand4HydrogenFuelCellBuses', '4fuelcell/3CNG',\n",
       "       'estimated-cutaway vans (PM- award will not fund 68 buses',\n",
       "       'hybridelectricbuses', 'CNGfueled', 'zeroemissionelectric',\n",
       "       'hybridelectrics', 'dieselandgas', 'diesel-electrichybrids',\n",
       "       'propane', 'electric', 'diesel-electric', 'propanebuses',\n",
       "       '1:CNGbus;2cutawayCNGbuses', 'zeroemission',\n",
       "       'propanedpoweredvehicles'], dtype=object)"
      ]
     },
     "execution_count": 19,
     "metadata": {},
     "output_type": "execute_result"
    }
   ],
   "source": [
    "df.bus_desc.unique()"
   ]
  },
  {
   "cell_type": "code",
   "execution_count": 20,
   "id": "bba62d67-35ab-4334-898b-f7581b40c574",
   "metadata": {},
   "outputs": [],
   "source": [
    "new_dict = {\n",
    "    \"beb\": \"BEB\",\n",
    "    \"estimated-CNGbuses\": \"estimated-CNG buses\",\n",
    "    \"cngbuses\": \"CNG buses\",\n",
    "    \"BEBs\": \"BEB\",\n",
    "    \"Electric\\n16(Hybrid\": \"15 electic, 16 hybrid\",\n",
    "    \"FuelCellElectric\": \"fuel cell electric\",\n",
    "    \"FuelCell\": \"fuel cell\",\n",
    "    \"lowemissionCNG\": \"low emission CNG\",\n",
    "    \"cng\": \"CNG\",\n",
    "    \"BEBsparatransitbuses\": \"BEBs paratransit buses\",\n",
    "    \"hybridelectric\": \"hybrid electric\",\n",
    "    \"zeroemissionbuses\": \"zero emission buses\",\n",
    "    \"dieselelectrichybrids\": \"diesel electric hybrids\",\n",
    "    \"hydrogenfuelcell\": \"hydrogen fuel cell\",\n",
    "    \"2BEBsand4HydrogenFuelCellBuses\": \"2 BEBs and 4 hydrogen fuel cell buses\",\n",
    "    \"4fuelcell/3CNG\": \"4 fuel cell / 3 CNG\",\n",
    "    \"hybridelectricbuses\": \"hybrid electric buses\",\n",
    "    \"CNGfueled\": \"CNG fueled\",\n",
    "    \"zeroemissionelectric\": \"zero emission electric\",\n",
    "    \"hybridelectrics\": \"hybrid electrics\",\n",
    "    \"dieselandgas\": \"diesel and gas\",\n",
    "    \"diesel-electrichybrids\": \"diesel-electric hybrids\",\n",
    "    \"propanebuses\": \"propane buses\",\n",
    "    \"1:CNGbus;2cutawayCNGbuses\": \"1:CNGbus ;2 cutaway CNG buses\",\n",
    "    \"zeroemission\": \"zero emission\",\n",
    "    \"propanedpoweredvehicles\": \"propaned powered vehicles\"\n",
    "}"
   ]
  },
  {
   "cell_type": "code",
   "execution_count": 21,
   "id": "c883651a-7959-40ec-8bfe-2935f7f8e312",
   "metadata": {},
   "outputs": [],
   "source": [
    "#using new dictionary to replace values in the bus desc col\n",
    "df.replace({'bus_desc': new_dict}, inplace=True)"
   ]
  },
  {
   "cell_type": "code",
   "execution_count": 22,
   "id": "3bf65796-704b-4309-853e-08c9d1159bee",
   "metadata": {},
   "outputs": [
    {
     "data": {
      "text/plain": [
       "['BEB',\n",
       " 'estimated-CNG buses',\n",
       " nan,\n",
       " 'zero-emission',\n",
       " 'CNG buses',\n",
       " '15 electic, 16 hybrid',\n",
       " 'FCEB',\n",
       " 'Electric',\n",
       " 'fuel cell electric',\n",
       " 'CNG',\n",
       " 'fuel cell',\n",
       " 'hybrid',\n",
       " 'battery electric',\n",
       " 'low emission CNG',\n",
       " 'BEBs paratransit buses',\n",
       " 'hybrid electric',\n",
       " 'zero emission buses',\n",
       " 'diesel electric hybrids',\n",
       " 'hydrogen fuel cell',\n",
       " '2 BEBs and 4 hydrogen fuel cell buses',\n",
       " '4 fuel cell / 3 CNG',\n",
       " 'estimated-cutaway vans (PM- award will not fund 68 buses',\n",
       " 'hybrid electric buses',\n",
       " 'CNG fueled',\n",
       " 'zero emission electric',\n",
       " 'hybrid electrics',\n",
       " 'diesel and gas',\n",
       " 'diesel-electric hybrids',\n",
       " 'propane',\n",
       " 'electric',\n",
       " 'diesel-electric',\n",
       " 'propane buses',\n",
       " '1:CNGbus ;2 cutaway CNG buses',\n",
       " 'zero emission',\n",
       " 'propaned powered vehicles']"
      ]
     },
     "execution_count": 22,
     "metadata": {},
     "output_type": "execute_result"
    }
   ],
   "source": [
    "#confirming the bus desc values were replaced as indeded.\n",
    "list(df.bus_desc.unique())"
   ]
  },
  {
   "cell_type": "code",
   "execution_count": 23,
   "id": "db44d923-532e-4515-9513-d16a5740d67a",
   "metadata": {},
   "outputs": [
    {
     "data": {
      "text/plain": [
       "state                                                                     NC\n",
       "project_sponsor            City of Charlotte - Charlotte Area Transit System\n",
       "project_title              Charlotte Area Transit System's Sustainable Fl...\n",
       "description                The city of Charlotte will receive funding to ...\n",
       "funding                                                             30890413\n",
       "#_of_buses                                          15(Electric)\\n16(Hybrid)\n",
       "project_type                                      Bus / Chargers / Equipment\n",
       "propulsion_type                                                   Zero / Low\n",
       "area_served                                                      Large Urban\n",
       "congressional_districts           NC-008 ; NC-012 ; NC-013 ; NC-014 ; SC-005\n",
       "fta_region                                                                 4\n",
       "bus/low-no_program                                                       Bus\n",
       "bus_count                                                                 15\n",
       "bus_desc                                               15 electic, 16 hybrid\n",
       "Name: 12, dtype: object"
      ]
     },
     "execution_count": 23,
     "metadata": {},
     "output_type": "execute_result"
    }
   ],
   "source": [
    "#bus count for row 12 needs to be adjusted\n",
    "df.loc[12]"
   ]
  },
  {
   "cell_type": "code",
   "execution_count": 24,
   "id": "7a4d910e-af55-46b0-a92c-aa52e1a892e8",
   "metadata": {},
   "outputs": [],
   "source": [
    "df.loc[12, \"bus_count\"] = 31"
   ]
  },
  {
   "cell_type": "code",
   "execution_count": 25,
   "id": "edfd4b23-e384-47a1-bb7b-461fd04c2d32",
   "metadata": {},
   "outputs": [
    {
     "data": {
      "text/plain": [
       "state                                                                     NC\n",
       "project_sponsor            City of Charlotte - Charlotte Area Transit System\n",
       "project_title              Charlotte Area Transit System's Sustainable Fl...\n",
       "description                The city of Charlotte will receive funding to ...\n",
       "funding                                                             30890413\n",
       "#_of_buses                                          15(Electric)\\n16(Hybrid)\n",
       "project_type                                      Bus / Chargers / Equipment\n",
       "propulsion_type                                                   Zero / Low\n",
       "area_served                                                      Large Urban\n",
       "congressional_districts           NC-008 ; NC-012 ; NC-013 ; NC-014 ; SC-005\n",
       "fta_region                                                                 4\n",
       "bus/low-no_program                                                       Bus\n",
       "bus_count                                                                 31\n",
       "bus_desc                                               15 electic, 16 hybrid\n",
       "Name: 12, dtype: object"
      ]
     },
     "execution_count": 25,
     "metadata": {},
     "output_type": "execute_result"
    }
   ],
   "source": [
    "#confirming the change\n",
    "df.loc[12]"
   ]
  },
  {
   "cell_type": "code",
   "execution_count": 26,
   "id": "ac9622ba-51e2-4e95-8922-0320c4be3481",
   "metadata": {},
   "outputs": [],
   "source": [
    "#dropping initial # of buses col\n",
    "df = df.drop('#_of_buses', axis=1)"
   ]
  },
  {
   "cell_type": "code",
   "execution_count": 27,
   "id": "3a22bd00-4bb4-435d-9cc4-f3d5842b459e",
   "metadata": {},
   "outputs": [
    {
     "data": {
      "text/plain": [
       "Index(['state', 'project_sponsor', 'project_title', 'description', 'funding',\n",
       "       'project_type', 'propulsion_type', 'area_served',\n",
       "       'congressional_districts', 'fta_region', 'bus/low-no_program',\n",
       "       'bus_count', 'bus_desc'],\n",
       "      dtype='object')"
      ]
     },
     "execution_count": 27,
     "metadata": {},
     "output_type": "execute_result"
    }
   ],
   "source": [
    "#confirming column was dropped.\n",
    "df.columns"
   ]
  },
  {
   "cell_type": "markdown",
   "id": "9a83f537-ccff-44c2-8b41-82b2c88b9ccd",
   "metadata": {
    "tags": []
   },
   "source": [
    "## Exporting cleaned data to GCS"
   ]
  },
  {
   "cell_type": "code",
   "execution_count": 28,
   "id": "609a3659-8bf2-4412-aabc-d6ea956c3bbe",
   "metadata": {},
   "outputs": [],
   "source": [
    "#saving to GCS as csv\n",
    "df.to_csv('gs://calitp-analytics-data/data-analyses/bus_procurement_cost/fta_bus_cost_clean.csv')"
   ]
  },
  {
   "cell_type": "markdown",
   "id": "8a04ee87-fba7-46df-ac67-44956fa82c7c",
   "metadata": {
    "jp-MarkdownHeadingCollapsed": true,
    "tags": []
   },
   "source": [
    "## Reading in cleaned data from GCS"
   ]
  },
  {
   "cell_type": "code",
   "execution_count": 29,
   "id": "0886453f-e9d5-46d8-9987-3365137137b2",
   "metadata": {},
   "outputs": [],
   "source": [
    "df = pd.read_csv('gs://calitp-analytics-data/data-analyses/bus_procurement_cost/fta_bus_cost_clean.csv')"
   ]
  },
  {
   "cell_type": "code",
   "execution_count": 30,
   "id": "8a4e9841-79f5-41e1-9c53-3def3d802bd9",
   "metadata": {},
   "outputs": [
    {
     "data": {
      "text/plain": [
       "(130, 14)"
      ]
     },
     "metadata": {},
     "output_type": "display_data"
    },
    {
     "data": {
      "text/plain": [
       "pandas.core.frame.DataFrame"
      ]
     },
     "metadata": {},
     "output_type": "display_data"
    },
    {
     "data": {
      "text/html": [
       "<div>\n",
       "<style scoped>\n",
       "    .dataframe tbody tr th:only-of-type {\n",
       "        vertical-align: middle;\n",
       "    }\n",
       "\n",
       "    .dataframe tbody tr th {\n",
       "        vertical-align: top;\n",
       "    }\n",
       "\n",
       "    .dataframe thead th {\n",
       "        text-align: right;\n",
       "    }\n",
       "</style>\n",
       "<table border=\"1\" class=\"dataframe\">\n",
       "  <thead>\n",
       "    <tr style=\"text-align: right;\">\n",
       "      <th></th>\n",
       "      <th>Unnamed: 0</th>\n",
       "      <th>state</th>\n",
       "      <th>project_sponsor</th>\n",
       "      <th>project_title</th>\n",
       "      <th>description</th>\n",
       "      <th>funding</th>\n",
       "      <th>project_type</th>\n",
       "      <th>propulsion_type</th>\n",
       "      <th>area_served</th>\n",
       "      <th>congressional_districts</th>\n",
       "      <th>fta_region</th>\n",
       "      <th>bus/low-no_program</th>\n",
       "      <th>bus_count</th>\n",
       "      <th>bus_desc</th>\n",
       "    </tr>\n",
       "  </thead>\n",
       "  <tbody>\n",
       "    <tr>\n",
       "      <th>0</th>\n",
       "      <td>0</td>\n",
       "      <td>DC</td>\n",
       "      <td>Washington Metropolitan Area Transit Authority...</td>\n",
       "      <td>Battery-Electric Metrobus Procurement and Elec...</td>\n",
       "      <td>WMATA will receive funding to convert its Cind...</td>\n",
       "      <td>104000000</td>\n",
       "      <td>bus/chargers</td>\n",
       "      <td>zero</td>\n",
       "      <td>Large Urban</td>\n",
       "      <td>DC-001 ; MD-004 ; MD-008 ; VA-008 ; VA-011</td>\n",
       "      <td>3</td>\n",
       "      <td>Low-No</td>\n",
       "      <td>100.0</td>\n",
       "      <td>BEB</td>\n",
       "    </tr>\n",
       "    <tr>\n",
       "      <th>1</th>\n",
       "      <td>1</td>\n",
       "      <td>TX</td>\n",
       "      <td>Dallas Area Rapid Transit (DART)</td>\n",
       "      <td>DART CNG Bus Fleet Modernization Project</td>\n",
       "      <td>Dallas Area Rapid Transit will receive funding...</td>\n",
       "      <td>103000000</td>\n",
       "      <td>bus</td>\n",
       "      <td>low</td>\n",
       "      <td>Large Urban</td>\n",
       "      <td>TX-003 ; TX-004 ; TX-005 ; TX-006 ; TX-024 ; T...</td>\n",
       "      <td>6</td>\n",
       "      <td>Low-No</td>\n",
       "      <td>90.0</td>\n",
       "      <td>estimated-CNG buses</td>\n",
       "    </tr>\n",
       "    <tr>\n",
       "      <th>2</th>\n",
       "      <td>2</td>\n",
       "      <td>PA</td>\n",
       "      <td>Southeastern Pennsylvania Transportation Autho...</td>\n",
       "      <td>SEPTA Zero-Emission Bus Transition Facility Sa...</td>\n",
       "      <td>The Southeastern Pennsylvania Transportation A...</td>\n",
       "      <td>80000000</td>\n",
       "      <td>facility</td>\n",
       "      <td>zero</td>\n",
       "      <td>Large Urban</td>\n",
       "      <td>PA-002 ; PA-003 ; PA-004 ; PA-005</td>\n",
       "      <td>3</td>\n",
       "      <td>Low-No</td>\n",
       "      <td>NaN</td>\n",
       "      <td>NaN</td>\n",
       "    </tr>\n",
       "    <tr>\n",
       "      <th>3</th>\n",
       "      <td>3</td>\n",
       "      <td>LA</td>\n",
       "      <td>New Orleans Regional Transit Authority</td>\n",
       "      <td>Accelerating Zero-Emissions Mobility for a Res...</td>\n",
       "      <td>The New Orleans Regional Transit Authority wil...</td>\n",
       "      <td>71439261</td>\n",
       "      <td>Bus / Chargers / Equipment</td>\n",
       "      <td>zero</td>\n",
       "      <td>Large Urban</td>\n",
       "      <td>LA-002 ; LA-001</td>\n",
       "      <td>6</td>\n",
       "      <td>Low-No</td>\n",
       "      <td>20.0</td>\n",
       "      <td>zero-emission</td>\n",
       "    </tr>\n",
       "    <tr>\n",
       "      <th>4</th>\n",
       "      <td>4</td>\n",
       "      <td>NJ</td>\n",
       "      <td>New Jersey Transit Corporation</td>\n",
       "      <td>Hilton Bus Garage Modernization</td>\n",
       "      <td>New Jersey Transit will receive funding to mod...</td>\n",
       "      <td>47000000</td>\n",
       "      <td>facility/chargers</td>\n",
       "      <td>zero</td>\n",
       "      <td>Large Urban</td>\n",
       "      <td>nj-011</td>\n",
       "      <td>2</td>\n",
       "      <td>Bus</td>\n",
       "      <td>NaN</td>\n",
       "      <td>NaN</td>\n",
       "    </tr>\n",
       "  </tbody>\n",
       "</table>\n",
       "</div>"
      ],
      "text/plain": [
       "   Unnamed: 0 state                                    project_sponsor  \\\n",
       "0           0    DC  Washington Metropolitan Area Transit Authority...   \n",
       "1           1    TX                   Dallas Area Rapid Transit (DART)   \n",
       "2           2    PA  Southeastern Pennsylvania Transportation Autho...   \n",
       "3           3    LA             New Orleans Regional Transit Authority   \n",
       "4           4    NJ                     New Jersey Transit Corporation   \n",
       "\n",
       "                                       project_title  \\\n",
       "0  Battery-Electric Metrobus Procurement and Elec...   \n",
       "1           DART CNG Bus Fleet Modernization Project   \n",
       "2  SEPTA Zero-Emission Bus Transition Facility Sa...   \n",
       "3  Accelerating Zero-Emissions Mobility for a Res...   \n",
       "4                    Hilton Bus Garage Modernization   \n",
       "\n",
       "                                         description    funding  \\\n",
       "0  WMATA will receive funding to convert its Cind...  104000000   \n",
       "1  Dallas Area Rapid Transit will receive funding...  103000000   \n",
       "2  The Southeastern Pennsylvania Transportation A...   80000000   \n",
       "3  The New Orleans Regional Transit Authority wil...   71439261   \n",
       "4  New Jersey Transit will receive funding to mod...   47000000   \n",
       "\n",
       "                 project_type propulsion_type  area_served  \\\n",
       "0                bus/chargers            zero  Large Urban   \n",
       "1                         bus             low  Large Urban   \n",
       "2                    facility            zero  Large Urban   \n",
       "3  Bus / Chargers / Equipment            zero  Large Urban   \n",
       "4           facility/chargers            zero  Large Urban   \n",
       "\n",
       "                             congressional_districts  fta_region  \\\n",
       "0         DC-001 ; MD-004 ; MD-008 ; VA-008 ; VA-011           3   \n",
       "1  TX-003 ; TX-004 ; TX-005 ; TX-006 ; TX-024 ; T...           6   \n",
       "2                  PA-002 ; PA-003 ; PA-004 ; PA-005           3   \n",
       "3                                    LA-002 ; LA-001           6   \n",
       "4                                             nj-011           2   \n",
       "\n",
       "  bus/low-no_program  bus_count             bus_desc  \n",
       "0             Low-No      100.0                  BEB  \n",
       "1             Low-No       90.0  estimated-CNG buses  \n",
       "2             Low-No        NaN                  NaN  \n",
       "3             Low-No       20.0        zero-emission  \n",
       "4                Bus        NaN                  NaN  "
      ]
     },
     "metadata": {},
     "output_type": "display_data"
    },
    {
     "data": {
      "text/plain": [
       "Index(['Unnamed: 0', 'state', 'project_sponsor', 'project_title',\n",
       "       'description', 'funding', 'project_type', 'propulsion_type',\n",
       "       'area_served', 'congressional_districts', 'fta_region',\n",
       "       'bus/low-no_program', 'bus_count', 'bus_desc'],\n",
       "      dtype='object')"
      ]
     },
     "metadata": {},
     "output_type": "display_data"
    }
   ],
   "source": [
    "#confirming cleaned data shows as expected.\n",
    "display(df.shape,\n",
    "        type(df),\n",
    "    df.head(),\n",
    "    df.columns\n",
    "       )"
   ]
  },
  {
   "cell_type": "code",
   "execution_count": 31,
   "id": "7a2c32a7-4cd0-4755-8a04-2db5638cdcbb",
   "metadata": {},
   "outputs": [],
   "source": [
    "#drop unnessary columns\n",
    "bus_cost = df.drop(['Unnamed: 0', 'congressional_districts'], axis=1)"
   ]
  },
  {
   "cell_type": "code",
   "execution_count": 32,
   "id": "58a92ab0-8f13-4462-989a-e1c9105ff414",
   "metadata": {},
   "outputs": [
    {
     "data": {
      "text/plain": [
       "(130, 12)"
      ]
     },
     "metadata": {},
     "output_type": "display_data"
    },
    {
     "data": {
      "text/plain": [
       "Index(['state', 'project_sponsor', 'project_title', 'description', 'funding',\n",
       "       'project_type', 'propulsion_type', 'area_served', 'fta_region',\n",
       "       'bus/low-no_program', 'bus_count', 'bus_desc'],\n",
       "      dtype='object')"
      ]
     },
     "metadata": {},
     "output_type": "display_data"
    }
   ],
   "source": [
    "#confirming columns dropped as intended.\n",
    "#less columns(14 to 12)\n",
    "display(bus_cost.shape,\n",
    "        bus_cost.columns)"
   ]
  },
  {
   "cell_type": "markdown",
   "id": "299d75c2-2f1a-4a7d-a1ee-87271a1f9e4b",
   "metadata": {
    "tags": []
   },
   "source": [
    "## Start to analyze `bus_cost` df"
   ]
  },
  {
   "cell_type": "code",
   "execution_count": 33,
   "id": "8480480e-957b-4cab-ad9c-ce5fb50966c0",
   "metadata": {},
   "outputs": [
    {
     "data": {
      "text/plain": [
       "bus                                      26\n",
       "facility                                 15\n",
       "Bus                                      14\n",
       "Bus / Chargers                           11\n",
       "Bus / Facility / Chargers                 9\n",
       "Facility                                  8\n",
       "Bus / Facility                            6\n",
       "Bus / Chargers / Equipment                5\n",
       "Bus / Equipment                           4\n",
       "bus / chargers                            4\n",
       "Bus / Facility / Equipment                2\n",
       "bus/chargers                              2\n",
       "facilities                                2\n",
       "bus / facility                            2\n",
       "facility/chargers                         2\n",
       "bus/facility                              2\n",
       "facility/equipment                        1\n",
       "chargers                                  1\n",
       "Bus / Other                               1\n",
       "Chargers / Equipment                      1\n",
       "bus / facilitiy                           1\n",
       "bus /equipment                            1\n",
       "bus/equipment                             1\n",
       "Bus / Facility / Chargers / Equipment     1\n",
       "bus /facility                             1\n",
       "Facility / Chargers / Equipment           1\n",
       "\\tBus / Facility                          1\n",
       "Bus / Facility / Other                    1\n",
       "Bus / Chargers / Other                    1\n",
       "Chargers                                  1\n",
       "Facility / Chargers                       1\n",
       "Bus / Facility / Equipment / Other        1\n",
       "Name: project_type, dtype: int64"
      ]
     },
     "execution_count": 33,
     "metadata": {},
     "output_type": "execute_result"
    }
   ],
   "source": [
    "#what values are in project_type col?\n",
    "bus_cost.project_type.value_counts()\n",
    "\n",
    "#big mix of str. especially variations of bus/..."
   ]
  },
  {
   "cell_type": "code",
   "execution_count": 36,
   "id": "9a20e0bb-42cd-4cd0-8efa-70c936ab82d9",
   "metadata": {},
   "outputs": [
    {
     "data": {
      "text/plain": [
       "Index(['state', 'project_sponsor', 'project_title', 'description', 'funding',\n",
       "       'project_type', 'propulsion_type', 'area_served', 'fta_region',\n",
       "       'bus/low-no_program', 'bus_count', 'bus_desc'],\n",
       "      dtype='object')"
      ]
     },
     "execution_count": 36,
     "metadata": {},
     "output_type": "execute_result"
    }
   ],
   "source": [
    "bus_cost.columns"
   ]
  },
  {
   "cell_type": "code",
   "execution_count": 34,
   "id": "23e2e5d5-4ee4-41a0-8068-eac26f84d705",
   "metadata": {},
   "outputs": [
    {
     "data": {
      "text/plain": [
       "project_type\n",
       "bus                                      246625604\n",
       "Bus / Facility / Chargers                193377901\n",
       "facility                                 180356442\n",
       "Bus / Chargers / Equipment               162489938\n",
       "Bus / Chargers                           157391009\n",
       "Bus                                      119339829\n",
       "bus/chargers                             106207758\n",
       "Facility                                  78301690\n",
       "Bus / Facility                            77261121\n",
       "facility/chargers                         48672000\n",
       "bus / facility                            41055732\n",
       "Facility / Chargers                       31535000\n",
       "Chargers                                  30128378\n",
       "bus / chargers                            30084852\n",
       "Bus / Equipment                           29008217\n",
       "Bus / Facility / Equipment                24261170\n",
       "Bus / Chargers / Other                    23984700\n",
       "facilities                                16388000\n",
       "Bus / Facility / Chargers / Equipment     16166822\n",
       "bus/facility                              16093657\n",
       "Bus / Facility / Other                    11570906\n",
       "\\tBus / Facility                           8740728\n",
       "Facility / Chargers / Equipment            8122850\n",
       "bus /facility                              7598425\n",
       "bus / facilitiy                            7443765\n",
       "bus/equipment                              6341306\n",
       "chargers                                   3645000\n",
       "facility/equipment                         3326067\n",
       "Chargers / Equipment                       2162886\n",
       "Bus / Other                                 945178\n",
       "bus /equipment                              723171\n",
       "Bus / Facility / Equipment / Other          514002\n",
       "Name: funding, dtype: int64"
      ]
     },
     "execution_count": 34,
     "metadata": {},
     "output_type": "execute_result"
    }
   ],
   "source": [
    "# want to see how total funding for each of these values \n",
    "bus_cost.groupby('project_type')['funding'].sum().sort_values(ascending=False)"
   ]
  },
  {
   "cell_type": "code",
   "execution_count": 35,
   "id": "887b6431-e7f6-4eea-9140-4c43cfa11873",
   "metadata": {},
   "outputs": [
    {
     "data": {
      "text/plain": [
       "1689864104"
      ]
     },
     "execution_count": 35,
     "metadata": {},
     "output_type": "execute_result"
    }
   ],
   "source": []
  },
  {
   "cell_type": "code",
   "execution_count": null,
   "id": "8e9c5588-e253-4f2a-9c90-ee5c313454c8",
   "metadata": {},
   "outputs": [],
   "source": []
  }
 ],
 "metadata": {
  "kernelspec": {
   "display_name": "Python 3 (ipykernel)",
   "language": "python",
   "name": "python3"
  },
  "language_info": {
   "codemirror_mode": {
    "name": "ipython",
    "version": 3
   },
   "file_extension": ".py",
   "mimetype": "text/x-python",
   "name": "python",
   "nbconvert_exporter": "python",
   "pygments_lexer": "ipython3",
   "version": "3.9.13"
  }
 },
 "nbformat": 4,
 "nbformat_minor": 5
}
