{
 "cells": [
  {
   "cell_type": "markdown",
   "id": "46b3c4b1-8668-49b7-a330-9bd1f092f7b9",
   "metadata": {
    "tags": []
   },
   "source": [
    "## FY23 FTA Bus and Low- and No-Emission Grant Awards Analysis\n",
    "\n",
    "<b>GH issue:</b> \n",
    "* Research Request - Bus Procurement Costs & Awards #897\n",
    "\n",
    "<b>Data source(s):</b> \n",
    "1. https://www.transit.dot.gov/funding/grants/fy23-fta-bus-and-low-and-no-emission-grant-awards\n",
    "2. https://storymaps.arcgis.com/stories/022abf31cedd438b808ec2b827b6faff\n",
    "\n",
    "<b>Definitions:</b>  \n",
    "* <u>Grants for Buses and Bus Facilities Program:</u>\n",
    "    * 49 U.S.C. 5339(b)) makes federal resources available to states and direct recipients to replace, rehabilitate and purchase buses and related equipment and to construct bus-related facilities, including technological changes or innovations to modify low or no emission vehicles or facilities. Funding is provided through formula allocations and competitive grants. \n",
    "<br><br>\n",
    "* <u>Low or No Emission Vehicle Program:</u>\n",
    "    * 5339(c) provides funding to state and local governmental authorities for the purchase or lease of zero-emission and low-emission transit buses as well as acquisition, construction, and leasing of required supporting facilities.\n"
   ]
  },
  {
   "cell_type": "code",
   "execution_count": 1,
   "id": "1ad111b5-3933-45c4-aa3c-f12ea701e882",
   "metadata": {
    "tags": []
   },
   "outputs": [],
   "source": [
    "import numpy as np\n",
    "import pandas as pd\n",
    "import shared_utils\n",
    "\n",
    "# set_option to increase max rows displayed to 200, to see entire df in 1 go/\n",
    "pd.set_option(\"display.max_rows\", 300)"
   ]
  },
  {
   "cell_type": "markdown",
   "id": "467fc38e-6313-44c7-9797-456ecd752e57",
   "metadata": {
    "tags": []
   },
   "source": [
    "## Reading in raw data from gcs"
   ]
  },
  {
   "cell_type": "code",
   "execution_count": 2,
   "id": "a42530b9-806e-498b-8f82-9f123ddb087c",
   "metadata": {},
   "outputs": [],
   "source": [
    "gcs_path = \"gs://calitp-analytics-data/data-analyses/bus_procurement_cost/\"\n",
    "file = \"data-analyses_bus_procurement_cost_fta_press_release_data_csv.csv\"\n",
    "\n",
    "fta = pd.read_csv(gcs_path+file)"
   ]
  },
  {
   "cell_type": "markdown",
   "id": "7f37c5d6-664c-48fd-9c32-cf7dcd3318ae",
   "metadata": {
    "tags": []
   },
   "source": [
    "## Data Cleaning\n",
    "1. snake-case column names\n",
    "2. remove currency formatting from funding column (with $ and , )\n",
    "3. seperate text from # of bus col (split at '(')\n",
    "    a. trim spaces in new col\n",
    "    b. get rid of () characters in new col\n",
    "4. trim spaces in other columns\n",
    "5. exnamine column values and replace/update as needed\n",
    "6. create new columns for bus size type and prop type\n"
   ]
  },
  {
   "cell_type": "markdown",
   "id": "cb70936a-8d54-4ae5-b9cc-ef64ea04c8b5",
   "metadata": {
    "tags": []
   },
   "source": [
    "### Dataframe cleaning"
   ]
  },
  {
   "cell_type": "code",
   "execution_count": 14,
   "id": "7efb6ebf-474a-4c58-8052-a7427e881649",
   "metadata": {},
   "outputs": [],
   "source": [
    "def snake_case(df):\n",
    "    '''\n",
    "    snake case dataframe columns and stip of extra spaces\n",
    "    '''\n",
    "    df.columns = df.columns.str.lower().str.replace(\" \", \"_\").str.strip()\n",
    "\n",
    "\n",
    "def fund_cleaner(df, column):\n",
    "    '''\n",
    "    function to clean the funding column and make column int64\n",
    "    '''\n",
    "    df[column] = df[column].str.replace(\"$\", \"\").str.replace(\",\", \"\").str.strip().astype('int64')\n",
    "\n",
    "    \n",
    "\n",
    "def value_replacer(df, col1, col1_val, col2, col2_new_val):\n",
    "    '''\n",
    "    function that replaces the value at a speicific row on a specific column.\n",
    "    in this case, filters the df by a speific col/val, then replaces the value at new col/val\n",
    "    '''\n",
    "    df.loc[df[col1] == col1_val , col2] = col2_new_val\n",
    "    "
   ]
  },
  {
   "cell_type": "code",
   "execution_count": 4,
   "id": "f55008ae-1de5-4cd3-89f2-87cd4eac17cd",
   "metadata": {},
   "outputs": [],
   "source": [
    "# snake case function to Df\n",
    "snake_case(fta)"
   ]
  },
  {
   "cell_type": "markdown",
   "id": "d012306e-86ff-4351-86b3-c3a8dc3145fd",
   "metadata": {
    "tags": []
   },
   "source": [
    "### Column Cleaning"
   ]
  },
  {
   "cell_type": "markdown",
   "id": "6fb7a5e0-6649-468b-9f0e-4b36281e0db0",
   "metadata": {
    "tags": []
   },
   "source": [
    "#### propulsion_type rename to propulstion category"
   ]
  },
  {
   "cell_type": "code",
   "execution_count": 5,
   "id": "9e22e6fa-857d-44c3-beec-0f83f71a6b1c",
   "metadata": {},
   "outputs": [],
   "source": [
    "# rename col to propulsion category\n",
    "fta = fta.rename(columns={\"propulsion_type\": \"propulsion_category\"})\n",
    "\n",
    "# make values in prop_cat col lower case and remove spaces\n",
    "fta[\"propulsion_category\"] = fta[\"propulsion_category\"].str.lower()\n",
    "fta[\"propulsion_category\"] = fta[\"propulsion_category\"].str.replace(\" \", \"\")"
   ]
  },
  {
   "cell_type": "markdown",
   "id": "354cb76f-f71f-4a30-8c85-aece5ac3f0d3",
   "metadata": {
    "tags": []
   },
   "source": [
    "#### funding"
   ]
  },
  {
   "cell_type": "code",
   "execution_count": 7,
   "id": "ff8721be-5cbd-430f-b947-4110c397de23",
   "metadata": {},
   "outputs": [
    {
     "name": "stderr",
     "output_type": "stream",
     "text": [
      "/tmp/ipykernel_355/576995869.py:9: FutureWarning: The default value of regex will change from True to False in a future version. In addition, single character regular expressions will *not* be treated as literal strings when regex=True.\n",
      "  df[column] = df[column].str.replace(\"$\", \"\")\n"
     ]
    }
   ],
   "source": [
    "fund_cleaner(fta, \"funding\")"
   ]
  },
  {
   "cell_type": "markdown",
   "id": "7077380f-1f92-4108-bac1-77db8f79568d",
   "metadata": {
    "tags": []
   },
   "source": [
    "#### split `approx_#_of_buses` to `bus_count` and `prop_type`"
   ]
  },
  {
   "cell_type": "code",
   "execution_count": 9,
   "id": "1fb94754-e795-4e78-8a91-2732566a1792",
   "metadata": {},
   "outputs": [],
   "source": [
    "# test of removing the spaces first in # of bus colum values, THEN split by (\n",
    "fta[\"approx_#_of_buses\"] = fta[\"approx_#_of_buses\"].str.replace(\" \", \"\")\n",
    "\n",
    "# spliting the # of buses column into 2, using the ( char as the delimiter\n",
    "# also fills `none` values with `needs manual check`\n",
    "fta[[\"bus_count\", \"prop_type\"]] = fta[\"approx_#_of_buses\"].str.split(\n",
    "    pat=\"(\", n=1, expand=True\n",
    ")\n",
    "fta[[\"bus_count\", \"prop_type\"]] = fta[[\"bus_count\", \"prop_type\"]].fillna(\n",
    "    \"needs manual check\"\n",
    ")"
   ]
  },
  {
   "cell_type": "markdown",
   "id": "7a6e2c90-9da1-4cfb-8032-397baa74579a",
   "metadata": {
    "tags": []
   },
   "source": [
    "#### bus_count"
   ]
  },
  {
   "cell_type": "code",
   "execution_count": 17,
   "id": "c979c629-1a2f-4804-9f16-cdd27092f964",
   "metadata": {},
   "outputs": [],
   "source": [
    "# running function on rows that need specific value changes\n",
    "value_replacer(fta,'bus_count','56estimated-cutawayvans', 'bus_count', 56)\n",
    "value_replacer(fta,'bus_count','12batteryelectric','bus_count', 12)\n",
    "value_replacer(fta,'prop_type','PM-awardwillnotfund68buses)', 'prop_type', 'estimated-cutaway vans (PM- award will not fund 68 buses)')\n",
    "value_replacer(fta,'project_sponsor','City of Charlotte - Charlotte Area Transit System','bus_count',31)"
   ]
  },
  {
   "cell_type": "markdown",
   "id": "58fd7f90-2935-4e58-92c6-4253758ad3c1",
   "metadata": {
    "tags": []
   },
   "source": [
    "#### project_type"
   ]
  },
  {
   "cell_type": "code",
   "execution_count": 21,
   "id": "ca77c135-1168-489e-802e-402c614bbb77",
   "metadata": {},
   "outputs": [],
   "source": [
    "# using str.lower() on project type\n",
    "fta[\"project_type\"] = fta[\"project_type\"].str.lower().str.replace(\" \", \"\")\n",
    "# using str.lower() on project type\n",
    "# fta[\"project_type\"] = fta[\"project_type\"]"
   ]
  },
  {
   "cell_type": "code",
   "execution_count": 22,
   "id": "2014394c-33d9-44e9-b162-ab21988d9e8d",
   "metadata": {},
   "outputs": [],
   "source": [
    "# some values still need to get adjusted. will use a short dictionary to fix\n",
    "new_type = {\n",
    "    \"\\tbus/facility\": \"bus/facility\",\n",
    "    \"bus/facilitiy\": \"bus/facility\",\n",
    "    \"facilities\": \"facility\",\n",
    "}\n",
    "# using replace() with the dictionary to replace keys in project type col\n",
    "fta.replace({\"project_type\": new_type}, inplace=True)"
   ]
  },
  {
   "cell_type": "markdown",
   "id": "dd2125a9-1117-4baa-b704-1aad30249e6d",
   "metadata": {
    "tags": []
   },
   "source": [
    "#### `prop_type`"
   ]
  },
  {
   "cell_type": "code",
   "execution_count": 29,
   "id": "09750ef1-1eba-4561-b5ad-b05f2a3b5875",
   "metadata": {},
   "outputs": [
    {
     "name": "stderr",
     "output_type": "stream",
     "text": [
      "/tmp/ipykernel_355/4065559258.py:3: FutureWarning: The default value of regex will change from True to False in a future version. In addition, single character regular expressions will *not* be treated as literal strings when regex=True.\n",
      "  fta[\"prop_type\"] = fta[\"prop_type\"].str.replace(\")\", \"\").str.strip()\n"
     ]
    }
   ],
   "source": [
    "# clearning the bus desc/prop_type col.\n",
    "# removing the )\n",
    "fta[\"prop_type\"] = fta[\"prop_type\"].str.replace(\")\", \"\").str.strip()"
   ]
  },
  {
   "cell_type": "code",
   "execution_count": 31,
   "id": "bba62d67-35ab-4334-898b-f7581b40c574",
   "metadata": {},
   "outputs": [],
   "source": [
    "# creating a dictionary to add spaces back to the values\n",
    "spaces = {\n",
    "    \"beb\": \"BEB\",\n",
    "    \"estimated-CNGbuses\": \"estimated-CNG buses\",\n",
    "    \"cngbuses\": \"CNG buses\",\n",
    "    \"BEBs\": \"BEB\",\n",
    "    \"Electric\\n16(Hybrid\": \"15 electic, 16 hybrid\",\n",
    "    \"FuelCellElectric\": \"fuel cell electric\",\n",
    "    \"FuelCell\": \"fuel cell\",\n",
    "    \"lowemissionCNG\": \"low emission CNG\",\n",
    "    \"cng\": \"CNG\",\n",
    "    \"BEBsparatransitbuses\": \"BEBs paratransit buses\",\n",
    "    \"hybridelectric\": \"hybrid electric\",\n",
    "    \"zeroemissionbuses\": \"zero emission buses\",\n",
    "    \"dieselelectrichybrids\": \"diesel electric hybrids\",\n",
    "    \"hydrogenfuelcell\": \"hydrogen fuel cell\",\n",
    "    \"2BEBsand4HydrogenFuelCellBuses\": \"2 BEBs and 4 hydrogen fuel cell buses\",\n",
    "    \"4fuelcell/3CNG\": \"4 fuel cell / 3 CNG\",\n",
    "    \"hybridelectricbuses\": \"hybrid electric buses\",\n",
    "    \"CNGfueled\": \"CNG fueled\",\n",
    "    \"zeroemissionelectric\": \"zero emission electric\",\n",
    "    \"hybridelectrics\": \"hybrid electrics\",\n",
    "    \"dieselandgas\": \"diesel and gas\",\n",
    "    \"diesel-electrichybrids\": \"diesel-electric hybrids\",\n",
    "    \"propanebuses\": \"propane buses\",\n",
    "    \"1:CNGbus;2cutawayCNGbuses\": \"1:CNGbus ;2 cutaway CNG buses\",\n",
    "    \"zeroemission\": \"zero emission\",\n",
    "    \"propanedpoweredvehicles\": \"propaned powered vehicles\",\n",
    "}\n",
    "\n",
    "# using new dictionary to replace values in the bus desc col\n",
    "fta.replace({\"prop_type\": spaces}, inplace=True)"
   ]
  },
  {
   "cell_type": "code",
   "execution_count": 37,
   "id": "9bd26f13-146d-43cc-9a23-23032ac2b173",
   "metadata": {},
   "outputs": [],
   "source": [
    "# dict to validate prop_type values\n",
    "prop_type_dict = {\n",
    "    \"15 electic, 16 hybrid\": \"mix (zero and low emission buses)\",\n",
    "    \"1:CNGbus ;2 cutaway CNG buses\": \"mix (zero and low emission buses)\",\n",
    "    \"2 BEBs and 4 hydrogen fuel cell buses\": \"mix (BEB and FCEB)\",\n",
    "    \"4 fuel cell / 3 CNG\": \"mix (zero and low emission buses)\",\n",
    "    \"BEBs paratransit buses\": \"BEB\",\n",
    "    \"CNG buses\": \"CNG\",\n",
    "    \"CNG fueled\": \"CNG\",\n",
    "    \"Electric\": \"electric (not specified)\",\n",
    "    \"battery electric\": \"BEB\",\n",
    "    \"diesel and gas\": \"mix (low emission)\",\n",
    "    \"diesel electric hybrids\": \"low emission (hybrid)\",\n",
    "    \"diesel-electric\": \"low emission (hybrid)\",\n",
    "    \"diesel-electric hybrids\": \"low emission (hybrid)\",\n",
    "    \"electric\": \"electric (not specified)\",\n",
    "    \"estimated-CNG buses\": \"CNG\",\n",
    "    \"estimated-cutaway vans (PM- award will not fund 68 buses\": \"mix (zero and low emission buses)\",\n",
    "    \"fuel cell\": \"FCEB\",\n",
    "    \"fuel cell electric\": \"FCEB\",\n",
    "    \"hybrid\": \"low emission (hybrid)\",\n",
    "    \"hybrid electric\": \"low emission (hybrid)\",\n",
    "    \"hybrid electric buses\": \"low emission (hybrid)\",\n",
    "    \"hybrid electrics\": \"low emission (hybrid)\",\n",
    "    \"hydrogen fuel cell\": \"FCEB\",\n",
    "    \"low emission CNG\": \"CNG\",\n",
    "    \"propane\": \"low emission (propane)\",\n",
    "    \"propane buses\": \"low emission (propane)\",\n",
    "    \"propaned powered vehicles\": \"low emission (propane)\",\n",
    "    \"zero emission\": \"zero-emission bus (not specified)\",\n",
    "    \"zero emission buses\": \"zero-emission bus (not specified)\",\n",
    "    \"zero emission electric\": \"zero-emission bus (not specified)\",\n",
    "    \"zero-emission\": \"zero-emission bus (not specified)\",\n",
    "}\n",
    "\n",
    "# repalcing values in prop type with prop type dictionary\n",
    "fta.replace({\"prop_type\": prop_type_dict}, inplace=True)"
   ]
  },
  {
   "cell_type": "markdown",
   "id": "dc3aacbb-0dcb-4bb0-9ea7-6c2fe1d75b49",
   "metadata": {},
   "source": [
    "### fix `prop_type == needs manual check`\n",
    "\n",
    "- subset a df of only prop type == needs manual check\n",
    "- create list of keywords to check prop type\n",
    "- create function to replace `needs manualc check` values with list values\n",
    "- then... do something with both dataframes? \n",
    "    * remove rows with `needs manual check`\n",
    "    * then append subset df to initial df?\n"
   ]
  },
  {
   "cell_type": "code",
   "execution_count": 40,
   "id": "580e9c87-9aae-4221-bc29-251e4e1469be",
   "metadata": {},
   "outputs": [],
   "source": [
    "# subdf of just `needs manual check` prop_types\n",
    "manual_check = fta[fta[\"prop_type\"] == \"needs manual check\"]"
   ]
  },
  {
   "cell_type": "code",
   "execution_count": 43,
   "id": "9ea7203e-c44f-4b02-a6da-31e7dea885c9",
   "metadata": {},
   "outputs": [],
   "source": [
    "# function to match keywords to list\n",
    "def prop_type_finder(description):\n",
    "    for keyword in manual_checker_list:\n",
    "        if keyword in description:\n",
    "            return keyword\n",
    "    return \"no bus procurement\""
   ]
  },
  {
   "cell_type": "code",
   "execution_count": 42,
   "id": "3e66c103-bec0-4925-9a71-b446f6931c33",
   "metadata": {},
   "outputs": [],
   "source": [
    "manual_checker_list = [\n",
    "    \"propane-powered\",\n",
    "    \"hybrid diesel-electric buses\",\n",
    "    \"propane fueled buses\",\n",
    "    \"cutaway vehicles\",\n",
    "    \"diesel-electric hybrid\",\n",
    "    \"low or no emission buses\",\n",
    "    \"electric buses\",\n",
    "    \"hybrid-electric vehicles\",\n",
    "    \"electric commuter\",\n",
    "    \"Electric Buses\",\n",
    "    \"battery electric\",\n",
    "    \"Batery Electric\",\n",
    "    \"battery-electric\",\n",
    "    \"fuel-cell\",\n",
    "    \"fuel cell\",\n",
    "    \"Fuel Cell\",\n",
    "    \"zero emission\",\n",
    "    \"Zero Emission\",\n",
    "    \"zero-emission electric buses\",\n",
    "    \"zero-emission buses\",\n",
    "    \"zero‐emission\",\n",
    "    \"zero-emission\",\n",
    "    \"zeroemission\",\n",
    "    \"CNG\",\n",
    "    \"cng\",\n",
    "    \"County Mass Transit District will receive funding to buy buses\",\n",
    "    \"Colorado will receive funding to buy vans to replace older ones\",\n",
    "    \"ethanol-fueled buses\",\n",
    "    \"will receive funding to buy vans to replace\",\n",
    "    \"funding to replace the oldest buses\",\n",
    "    \"to buy buses and charging equipment\",\n",
    "    \"counties by buying buses\",\n",
    "    \"receive funding to buy cutaway paratransit buses\",\n",
    "    \"new replacement vehicles\",\n",
    "]\n",
    "\n",
    "# creates a new column called 'prop_type' by applying function to description column. \n",
    "# the function will check the values against the description col against the list, then return the keyword the row matched too\n",
    "manual_check[\"prop_type\"] = manual_check[\"description\"].apply(prop_type_finder)"
   ]
  },
  {
   "cell_type": "markdown",
   "id": "eb4126ed-30a6-4d36-9aa4-4edcdd3d3606",
   "metadata": {},
   "source": [
    "### use dictionary to change manual_check prop_type values to match validated values"
   ]
  },
  {
   "cell_type": "code",
   "execution_count": 46,
   "id": "347a856d-84d4-420e-b9ca-5a57c784a9ec",
   "metadata": {},
   "outputs": [],
   "source": [
    "manual_check_dict= {'zero emission': 'zero-emission bus (not specified)',\n",
    " 'electric buses':'electric (not specified)',\n",
    " 'zero-emission': 'zero-emission bus (not specified)',\n",
    " 'low or no emission buses' : 'mix (zero and low emission buses)',\n",
    " 'zero-emission buses': 'zero-emission bus (not specified)',\n",
    " 'new replacement vehicles':'not specified',\n",
    " 'receive funding to buy cutaway paratransit buses': 'not specified',\n",
    " 'counties by buying buses': 'not specified',\n",
    " 'battery-electric' : 'BEB',\n",
    " 'to buy buses and charging equipment':'not specified',\n",
    " 'propane-powered': 'low emission (propane)',\n",
    " 'funding to replace the oldest buses':'not specified',\n",
    " 'diesel-electric hybrid': 'low emission (hybrid)',\n",
    " 'hybrid diesel-electric buses': 'low emission (hybrid)',\n",
    " 'cutaway vehicles':'not specified',\n",
    " 'propane fueled buses': 'low emission (propane)',\n",
    " 'County Mass Transit District will receive funding to buy buses':'not specified',\n",
    " 'ethanol-fueled buses': 'low emission (ethanol)',\n",
    " 'will receive funding to buy vans to replace': 'not specified',\n",
    " 'Colorado will receive funding to buy vans to replace older ones': 'not specified',\n",
    " 'hybrid-electric vehicles': 'low emission (hybrid)'\n",
    "}\n",
    "\n",
    "# replace prop_type values using manual_check_dict\n",
    "manual_check.replace({\"prop_type\": manual_check_dict}, inplace=True)"
   ]
  },
  {
   "cell_type": "markdown",
   "id": "d0ab5f47-a5b9-42a4-8c8d-c7c7be793ad8",
   "metadata": {},
   "source": [
    "### deleting rows from iniail df that have prop_type == 'needs manual check'"
   ]
  },
  {
   "cell_type": "code",
   "execution_count": 49,
   "id": "cf13bebf-ae89-477b-9ee7-f9a5d8d922e9",
   "metadata": {},
   "outputs": [],
   "source": [
    "# filters df for rows that do not equal `needs manual check`\n",
    "# expect rows to drop from 130 to 72?\n",
    "fta = fta[fta['prop_type'] != 'needs manual check']"
   ]
  },
  {
   "cell_type": "code",
   "execution_count": 52,
   "id": "11fdb527-0c74-4c4b-a9dd-54679e8cb744",
   "metadata": {},
   "outputs": [
    {
     "name": "stderr",
     "output_type": "stream",
     "text": [
      "/tmp/ipykernel_355/3394426208.py:2: FutureWarning: The frame.append method is deprecated and will be removed from pandas in a future version. Use pandas.concat instead.\n",
      "  fta = fta.append(manual_check, ignore_index=True)\n"
     ]
    }
   ],
   "source": [
    "### appending rows from manual_check to initial df\n",
    "fta = fta.append(manual_check, ignore_index=True)"
   ]
  },
  {
   "cell_type": "markdown",
   "id": "8a498a0b-4552-4c38-90cd-6e1c4045d40d",
   "metadata": {
    "tags": []
   },
   "source": [
    "### Need new column for `bus size type` via list and function\n",
    "cutaway, 40ft etc"
   ]
  },
  {
   "cell_type": "code",
   "execution_count": null,
   "id": "d24e6642-358c-4f2a-8139-7fd941faf5e1",
   "metadata": {},
   "outputs": [],
   "source": [
    "list(df.columns)"
   ]
  },
  {
   "cell_type": "code",
   "execution_count": 55,
   "id": "6053159a-62b1-4866-a13e-47fabf4576b4",
   "metadata": {},
   "outputs": [],
   "source": [
    "bus_size = [\n",
    "    \"standard\",\n",
    "    \"40 foot\",\n",
    "    \"40-foot\",\n",
    "    \"40ft\",\n",
    "    \"articulated\",\n",
    "    \"cutaway\",\n",
    "]"
   ]
  },
  {
   "cell_type": "code",
   "execution_count": 56,
   "id": "3500afae-6358-435f-9d25-1854b9f16634",
   "metadata": {},
   "outputs": [],
   "source": [
    "# Function to match keywords\n",
    "def find_bus_size_type(description):\n",
    "    for keyword in bus_size:\n",
    "        if keyword in description.lower():\n",
    "            return keyword\n",
    "    return \"not specified\""
   ]
  },
  {
   "cell_type": "code",
   "execution_count": 58,
   "id": "b7a0ae00-3a85-4e95-ae94-7ffeb55c3a8d",
   "metadata": {},
   "outputs": [],
   "source": [
    "# new column called bus size type based on description column\n",
    "fta[\"bus_size_type\"] = fta[\"description\"].apply(find_bus_size_type)"
   ]
  },
  {
   "cell_type": "markdown",
   "id": "9a83f537-ccff-44c2-8b41-82b2c88b9ccd",
   "metadata": {
    "tags": []
   },
   "source": [
    "## Exporting cleaned data to GCS"
   ]
  },
  {
   "cell_type": "code",
   "execution_count": null,
   "id": "e0c6c4a2-4749-4f6b-ad14-d452f1e201b8",
   "metadata": {},
   "outputs": [],
   "source": [
    "# check work\n",
    "display(df.head(3), df.bus_size_type.unique(), df.shape)"
   ]
  },
  {
   "cell_type": "code",
   "execution_count": 60,
   "id": "609a3659-8bf2-4412-aabc-d6ea956c3bbe",
   "metadata": {},
   "outputs": [],
   "source": [
    "# saving to GCS as csv\n",
    "\n",
    "clean_file = 'fta_bus_cost_clean.csv'\n",
    "\n",
    "fta.to_csv(gcs_path+clean_file)"
   ]
  },
  {
   "cell_type": "markdown",
   "id": "8a04ee87-fba7-46df-ac67-44956fa82c7c",
   "metadata": {
    "tags": []
   },
   "source": [
    "## Reading in cleaned data from GCS"
   ]
  },
  {
   "cell_type": "code",
   "execution_count": null,
   "id": "0886453f-e9d5-46d8-9987-3365137137b2",
   "metadata": {},
   "outputs": [],
   "source": [
    "bus_cost = pd.read_csv(\n",
    "    \"gs://calitp-analytics-data/data-analyses/bus_procurement_cost/fta_bus_cost_clean.csv\"\n",
    ")"
   ]
  },
  {
   "cell_type": "code",
   "execution_count": null,
   "id": "8a4e9841-79f5-41e1-9c53-3def3d802bd9",
   "metadata": {},
   "outputs": [],
   "source": [
    "# confirming cleaned data shows as expected.\n",
    "display(bus_cost.shape, type(bus_cost), bus_cost.columns)"
   ]
  },
  {
   "cell_type": "code",
   "execution_count": null,
   "id": "f95f7ae2-2ddf-40b7-aa76-af00e83854d1",
   "metadata": {},
   "outputs": [],
   "source": [
    "bus_cost[\"prop_type\"].sort_values(ascending=True).unique()"
   ]
  },
  {
   "cell_type": "markdown",
   "id": "1ede25fd-850a-4be6-bac0-a1bffa05b776",
   "metadata": {
    "jp-MarkdownHeadingCollapsed": true,
    "tags": []
   },
   "source": [
    "## DEPRECATED - Data Analysis\n",
    "actual data analysis and summary stats exist in the `cost_per_bus_analysis.ipynb` notebook"
   ]
  },
  {
   "cell_type": "markdown",
   "id": "42ca0dfd-2ea1-4194-b431-0e4853d21879",
   "metadata": {
    "tags": []
   },
   "source": [
    "### Cost per Bus, per Transit Agency dataframe"
   ]
  },
  {
   "cell_type": "code",
   "execution_count": null,
   "id": "26485b67-dc48-4102-a835-96460649d8ff",
   "metadata": {},
   "outputs": [],
   "source": [
    "only_bus = bus_cost[bus_cost[\"bus_count\"] > 0]\n",
    "only_bus.head()"
   ]
  },
  {
   "cell_type": "code",
   "execution_count": null,
   "id": "a8f05625-7da1-4aea-ac71-c177d02ca008",
   "metadata": {},
   "outputs": [],
   "source": [
    "cost_per_bus = (\n",
    "    only_bus.groupby(\"project_sponsor\")\n",
    "    .agg({\"funding\": \"sum\", \"bus_count\": \"sum\"})\n",
    "    .reset_index()\n",
    ")"
   ]
  },
  {
   "cell_type": "code",
   "execution_count": null,
   "id": "c3ab90a5-5e7f-4ab6-8ecc-a7598e185f5b",
   "metadata": {},
   "outputs": [],
   "source": [
    "cost_per_bus[\"cost_per_bus\"] = (\n",
    "    cost_per_bus[\"funding\"] / cost_per_bus[\"bus_count\"]\n",
    ").astype(\"int64\")"
   ]
  },
  {
   "cell_type": "code",
   "execution_count": null,
   "id": "ce71b957-ea77-40c8-95de-d6f160462f58",
   "metadata": {},
   "outputs": [],
   "source": [
    "cost_per_bus.dtypes"
   ]
  },
  {
   "cell_type": "code",
   "execution_count": null,
   "id": "b6f9ca72-4977-4536-9e6b-828af63c23b1",
   "metadata": {},
   "outputs": [],
   "source": [
    "cost_per_bus"
   ]
  },
  {
   "cell_type": "code",
   "execution_count": null,
   "id": "f02f391a-920c-458a-95e0-fd7875e6a653",
   "metadata": {},
   "outputs": [],
   "source": [
    "## export cost_per_bus df to gcs\n",
    "cost_per_bus.to_csv(\n",
    "    \"gs://calitp-analytics-data/data-analyses/bus_procurement_cost/fta_cost_per_bus.csv\"\n",
    ")"
   ]
  },
  {
   "cell_type": "markdown",
   "id": "79e18bf0-3dff-4263-9b47-8f2e4ee3d2e8",
   "metadata": {
    "tags": []
   },
   "source": [
    "### Cost per bus, stats analysis"
   ]
  },
  {
   "cell_type": "code",
   "execution_count": null,
   "id": "2ec98703-78f8-4c1c-b5c3-5a4834b1b44f",
   "metadata": {},
   "outputs": [],
   "source": [
    "# read in fta cost per bus csv\n",
    "cost_per_bus = pd.read_csv(\n",
    "    \"gs://calitp-analytics-data/data-analyses/bus_procurement_cost/fta_cost_per_bus.csv\"\n",
    ")"
   ]
  },
  {
   "cell_type": "code",
   "execution_count": null,
   "id": "6aebe6c0-eeb6-4da3-88ce-79f1fe7f5f6f",
   "metadata": {},
   "outputs": [],
   "source": [
    "display(cost_per_bus.shape, cost_per_bus.head())"
   ]
  },
  {
   "cell_type": "markdown",
   "id": "299d75c2-2f1a-4a7d-a1ee-87271a1f9e4b",
   "metadata": {
    "tags": []
   },
   "source": [
    "### Initial Summary Stats"
   ]
  },
  {
   "cell_type": "markdown",
   "id": "c4f9c488-8306-4eb3-bac0-40c75ac1dfed",
   "metadata": {
    "tags": []
   },
   "source": [
    "### Summary Stats"
   ]
  },
  {
   "cell_type": "code",
   "execution_count": null,
   "id": "76e7e2f6-47c8-4423-a9b3-2f02ee06fb9f",
   "metadata": {},
   "outputs": [],
   "source": [
    "# top level alanysis\n",
    "\n",
    "bus_cost.agg({\"project_title\": \"count\", \"funding\": \"sum\", \"bus_count\": \"sum\"})"
   ]
  },
  {
   "cell_type": "code",
   "execution_count": null,
   "id": "a1c0bdc5-9b63-40bd-94b7-2aa04b9bc70a",
   "metadata": {},
   "outputs": [],
   "source": [
    "# start of agg. by project_type\n",
    "\n",
    "bus_cost.groupby(\"project_type\").agg(\n",
    "    {\"project_type\": \"count\", \"funding\": \"sum\", \"bus_count\": \"sum\"}\n",
    ")"
   ]
  },
  {
   "cell_type": "code",
   "execution_count": null,
   "id": "f036cf52-fcc7-4f43-b11a-79a75515efc3",
   "metadata": {},
   "outputs": [],
   "source": [
    "# agg by program\n",
    "\n",
    "bus_cost.groupby(\"bus/low-no_program\").agg(\n",
    "    {\"project_type\": \"count\", \"funding\": \"sum\", \"bus_count\": \"sum\"}\n",
    ")"
   ]
  },
  {
   "cell_type": "code",
   "execution_count": null,
   "id": "228da8c2-9b22-4d1c-9259-4417e9374309",
   "metadata": {},
   "outputs": [],
   "source": [
    "# agg by state, by funding\n",
    "bus_cost.groupby(\"state\").agg(\n",
    "    {\"project_type\": \"count\", \"funding\": \"sum\", \"bus_count\": \"sum\"}\n",
    ").sort_values(by=\"funding\", ascending=False)"
   ]
  },
  {
   "cell_type": "markdown",
   "id": "e85e540e-0396-49b0-9f2e-64e5236e63e8",
   "metadata": {
    "tags": []
   },
   "source": [
    "### Projects with bus purchases"
   ]
  },
  {
   "cell_type": "code",
   "execution_count": null,
   "id": "8bad1e5d-9d05-49ef-ab21-81b98d80ef75",
   "metadata": {},
   "outputs": [],
   "source": [
    "# df of only projects with a bus count\n",
    "only_bus = bus_cost[bus_cost[\"bus_count\"] > 0]"
   ]
  },
  {
   "cell_type": "code",
   "execution_count": null,
   "id": "6c5013e3-ed56-4ea6-b191-af9a8e797b4b",
   "metadata": {},
   "outputs": [],
   "source": [
    "display(only_bus.shape, only_bus.columns)"
   ]
  },
  {
   "cell_type": "code",
   "execution_count": null,
   "id": "e93b7fe9-49e8-475d-aa89-c085f6792978",
   "metadata": {},
   "outputs": [],
   "source": [
    "# agg by propulsion type\n",
    "only_bus[\"propulsion_type\"].value_counts()"
   ]
  },
  {
   "cell_type": "code",
   "execution_count": null,
   "id": "dc7cc8c9-f81a-43c1-bb62-e8e2467358ce",
   "metadata": {},
   "outputs": [],
   "source": [
    "only_bus.project_type.value_counts()"
   ]
  },
  {
   "cell_type": "code",
   "execution_count": null,
   "id": "d86ee60d-e3e8-4dea-880f-731f6ac64376",
   "metadata": {},
   "outputs": [],
   "source": [
    "# of the rows with bus_count >1, what are the project types?\n",
    "bus_agg = only_bus.groupby(\"project_type\").agg(\n",
    "    {\"project_type\": \"count\", \"funding\": \"sum\", \"bus_count\": \"sum\"}\n",
    ")"
   ]
  },
  {
   "cell_type": "code",
   "execution_count": null,
   "id": "f7afb2df-374e-4ee2-b99c-6959d2111a37",
   "metadata": {},
   "outputs": [],
   "source": [
    "# new column that calculates `cost per bus`\n",
    "bus_agg[\"cost_per_bus\"] = (bus_agg[\"funding\"] / bus_agg[\"bus_count\"]).astype(\"int64\")"
   ]
  },
  {
   "cell_type": "code",
   "execution_count": null,
   "id": "f8b1c63c-9763-4d24-9613-433aefd8e4bf",
   "metadata": {},
   "outputs": [],
   "source": [
    "bus_agg"
   ]
  },
  {
   "cell_type": "markdown",
   "id": "211cb7b6-8fb1-4d52-890a-7106afb981a0",
   "metadata": {
    "tags": []
   },
   "source": [
    "### Projects with no buses"
   ]
  },
  {
   "cell_type": "code",
   "execution_count": null,
   "id": "e018dd24-4c96-4d1b-ad48-d67d706d165b",
   "metadata": {},
   "outputs": [],
   "source": [
    "no_bus = bus_cost[bus_cost[\"bus_count\"] < 1]"
   ]
  },
  {
   "cell_type": "code",
   "execution_count": null,
   "id": "c9ce24e3-5366-4cb5-9f92-4d24b50493e4",
   "metadata": {},
   "outputs": [],
   "source": [
    "no_bus[\"project_type\"].value_counts()"
   ]
  },
  {
   "cell_type": "markdown",
   "id": "ac02fbbb-2a88-486f-8001-fd8156c50bfb",
   "metadata": {
    "tags": []
   },
   "source": [
    "### Overall Summary"
   ]
  },
  {
   "cell_type": "code",
   "execution_count": null,
   "id": "6ad1b9f5-a5c7-4fee-abb2-cb74dee4ab40",
   "metadata": {
    "tags": []
   },
   "outputs": [],
   "source": [
    "project_count = bus_cost.project_title.count()\n",
    "fund_sum = bus_cost.funding.sum()\n",
    "bus_count_sum = bus_cost.bus_count.sum()\n",
    "overall_cost_per_bus = (fund_sum) / (bus_count_sum)\n",
    "bus_program_count = bus_cost[\"bus/low-no_program\"].value_counts()\n",
    "\n",
    "projects_with_bus = only_bus.project_title.count()\n",
    "projects_with_bus_funds = only_bus.funding.sum()\n",
    "cost_per_bus = (only_bus.funding.sum()) / (bus_count_sum)"
   ]
  },
  {
   "cell_type": "code",
   "execution_count": null,
   "id": "7e932b1e-f5e5-4215-91b5-4c922e78062a",
   "metadata": {
    "tags": []
   },
   "outputs": [],
   "source": [
    "summary = f\"\"\"\n",
    "Top Level observation:\n",
    "- {project_count} projects awarded\n",
    "- ${fund_sum:,.2f} dollars awarded\n",
    "- {bus_count_sum} buses to be purchased\n",
    "- ${overall_cost_per_bus:,.2f} overall cost per bus\n",
    "\n",
    "Projects have some mix of buses, facilities and equipment. Making it difficult to disaggregate actual bus cost.\n",
    "\n",
    "Of the {project_count} projects awarded, {projects_with_bus} projects inlcuded buses. The remainder were facilities, chargers and equipment\n",
    "\n",
    "Projects with buses purchases:\n",
    "- {projects_with_bus} projects\n",
    "- ${projects_with_bus_funds:,.2f} awarded to purchases buses\n",
    "- ${cost_per_bus:,.2f} cost per bus\n",
    "\"\"\""
   ]
  },
  {
   "cell_type": "code",
   "execution_count": null,
   "id": "dfb95588-9083-4298-8822-460c2dad9941",
   "metadata": {
    "tags": []
   },
   "outputs": [],
   "source": [
    "print(summary)"
   ]
  },
  {
   "cell_type": "code",
   "execution_count": null,
   "id": "2429adb2-fdfe-4a0f-a7c5-8ed2035f6fad",
   "metadata": {},
   "outputs": [],
   "source": [
    "# Assuming your DataFrame is named df\n",
    "cost_per_bus_values = cost_per_bus[\"cost_per_bus\"]\n",
    "\n",
    "# Calculate mean and standard deviation\n",
    "mean_value = cost_per_bus_values.mean()\n",
    "std_deviation = cost_per_bus_values.std()\n",
    "\n",
    "# Plot histogram\n",
    "plt.hist(cost_per_bus_values, bins=30, color=\"skyblue\", edgecolor=\"black\", alpha=0.7)\n",
    "\n",
    "# Add vertical lines for mean and standard deviation\n",
    "plt.axvline(mean_value, color=\"red\", linestyle=\"dashed\", linewidth=2, label=\"Mean\")\n",
    "plt.axvline(\n",
    "    mean_value + std_deviation,\n",
    "    color=\"green\",\n",
    "    linestyle=\"dashed\",\n",
    "    linewidth=2,\n",
    "    label=\"Mean + 1 Std Dev\",\n",
    ")\n",
    "plt.axvline(\n",
    "    mean_value - std_deviation,\n",
    "    color=\"green\",\n",
    "    linestyle=\"dashed\",\n",
    "    linewidth=2,\n",
    "    label=\"Mean - 1 Std Dev\",\n",
    ")\n",
    "\n",
    "# Set labels and title\n",
    "plt.xlabel(\"cost_per_bus\")\n",
    "plt.ylabel(\"Frequency\")\n",
    "plt.title(\"Histogram of cost_per_bus with Mean and Std Dev Lines\")\n",
    "plt.legend()\n",
    "\n",
    "# Show the plot\n",
    "plt.show()"
   ]
  },
  {
   "cell_type": "code",
   "execution_count": null,
   "id": "c3b5a48f-804e-4525-98fc-39d3fa845f6f",
   "metadata": {},
   "outputs": [],
   "source": [
    "import matplotlib.pyplot as plt\n",
    "import matplotlib.ticker as mticker\n",
    "import pandas as pd\n",
    "\n",
    "# Assuming your DataFrame is named df\n",
    "cost_per_bus_values = cost_per_bus[\"cost_per_bus\"]\n",
    "\n",
    "# Calculate mean and standard deviation\n",
    "mean_value = cost_per_bus_values.mean()\n",
    "std_deviation = cost_per_bus_values.std()\n",
    "\n",
    "# Plot histogram\n",
    "plt.hist(cost_per_bus_values, bins=20, color=\"skyblue\", edgecolor=\"black\", alpha=0.7)\n",
    "\n",
    "# Add vertical lines for mean and standard deviation\n",
    "plt.axvline(mean_value, color=\"red\", linestyle=\"dashed\", linewidth=2, label=\"Mean\")\n",
    "plt.axvline(\n",
    "    mean_value + std_deviation,\n",
    "    color=\"green\",\n",
    "    linestyle=\"dashed\",\n",
    "    linewidth=2,\n",
    "    label=\"Mean + 1 Std Dev\",\n",
    ")\n",
    "plt.axvline(\n",
    "    mean_value - std_deviation,\n",
    "    color=\"green\",\n",
    "    linestyle=\"dashed\",\n",
    "    linewidth=2,\n",
    "    label=\"Mean - 1 Std Dev\",\n",
    ")\n",
    "\n",
    "# Set labels and title\n",
    "plt.xlabel(\"Cost per Bus (USD)\")\n",
    "plt.ylabel(\"Frequency\")\n",
    "plt.title(\"Histogram of Cost per Bus with Mean and Std Dev Lines\")\n",
    "plt.legend()\n",
    "\n",
    "# Format x-axis ticks as USD\n",
    "plt.gca().xaxis.set_major_formatter(mticker.StrMethodFormatter(\"${x:,.0f}\"))\n",
    "\n",
    "# Show the plot\n",
    "plt.show()"
   ]
  }
 ],
 "metadata": {
  "kernelspec": {
   "display_name": "Python 3 (ipykernel)",
   "language": "python",
   "name": "python3"
  },
  "language_info": {
   "codemirror_mode": {
    "name": "ipython",
    "version": 3
   },
   "file_extension": ".py",
   "mimetype": "text/x-python",
   "name": "python",
   "nbconvert_exporter": "python",
   "pygments_lexer": "ipython3",
   "version": "3.9.13"
  }
 },
 "nbformat": 4,
 "nbformat_minor": 5
}
