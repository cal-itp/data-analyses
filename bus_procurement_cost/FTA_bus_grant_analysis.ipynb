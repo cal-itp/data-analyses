{
 "cells": [
  {
   "cell_type": "markdown",
   "id": "46b3c4b1-8668-49b7-a330-9bd1f092f7b9",
   "metadata": {
    "tags": []
   },
   "source": [
    "## FY23 FTA Bus and Low- and No-Emission Grant Awards Analysis\n",
    "\n",
    "<b>GH issue:</b> \n",
    "* Research Request - Bus Procurement Costs & Awards #897\n",
    "\n",
    "<b>Data source(s):</b> \n",
    "1. https://www.transit.dot.gov/funding/grants/fy23-fta-bus-and-low-and-no-emission-grant-awards\n",
    "2. https://storymaps.arcgis.com/stories/022abf31cedd438b808ec2b827b6faff\n",
    "\n",
    "<b>Definitions:</b>  \n",
    "* <u>Grants for Buses and Bus Facilities Program:</u>\n",
    "    * 49 U.S.C. 5339(b)) makes federal resources available to states and direct recipients to replace, rehabilitate and purchase buses and related equipment and to construct bus-related facilities, including technological changes or innovations to modify low or no emission vehicles or facilities. Funding is provided through formula allocations and competitive grants. \n",
    "<br><br>\n",
    "* <u>Low or No Emission Vehicle Program:</u>\n",
    "    * 5339(c) provides funding to state and local governmental authorities for the purchase or lease of zero-emission and low-emission transit buses as well as acquisition, construction, and leasing of required supporting facilities.\n"
   ]
  },
  {
   "cell_type": "code",
   "execution_count": 61,
   "id": "1ad111b5-3933-45c4-aa3c-f12ea701e882",
   "metadata": {
    "tags": []
   },
   "outputs": [
    {
     "ename": "ModuleNotFoundError",
     "evalue": "No module named 'shared_utils'",
     "output_type": "error",
     "traceback": [
      "\u001b[0;31m---------------------------------------------------------------------------\u001b[0m",
      "\u001b[0;31mModuleNotFoundError\u001b[0m                       Traceback (most recent call last)",
      "Cell \u001b[0;32mIn[61], line 2\u001b[0m\n\u001b[1;32m      1\u001b[0m \u001b[38;5;28;01mimport\u001b[39;00m \u001b[38;5;21;01mpandas\u001b[39;00m \u001b[38;5;28;01mas\u001b[39;00m \u001b[38;5;21;01mpd\u001b[39;00m\n\u001b[0;32m----> 2\u001b[0m \u001b[38;5;28;01mimport\u001b[39;00m \u001b[38;5;21;01mshared_utils\u001b[39;00m\n\u001b[1;32m      3\u001b[0m \u001b[38;5;28;01mimport\u001b[39;00m \u001b[38;5;21;01mmatplotlib\u001b[39;00m\u001b[38;5;21;01m.\u001b[39;00m\u001b[38;5;21;01mpyplot\u001b[39;00m \u001b[38;5;28;01mas\u001b[39;00m \u001b[38;5;21;01mplt\u001b[39;00m\n\u001b[1;32m      4\u001b[0m \u001b[38;5;28;01mimport\u001b[39;00m \u001b[38;5;21;01mnumpy\u001b[39;00m \u001b[38;5;28;01mas\u001b[39;00m \u001b[38;5;21;01mnp\u001b[39;00m\n",
      "\u001b[0;31mModuleNotFoundError\u001b[0m: No module named 'shared_utils'"
     ]
    }
   ],
   "source": [
    "import pandas as pd\n",
    "#import shared_utils\n",
    "import matplotlib.pyplot as plt\n",
    "import numpy as np\n",
    "from scipy.stats import norm\n",
    "from scipy import stats\n",
    "#set_option to increase max rows displayed to 200, to see entire df in 1 go/\n",
    "pd.set_option(\"display.max_rows\", 200)\n"
   ]
  },
  {
   "cell_type": "markdown",
   "id": "467fc38e-6313-44c7-9797-456ecd752e57",
   "metadata": {
    "tags": []
   },
   "source": [
    "## Reading in raw data from gcs"
   ]
  },
  {
   "cell_type": "code",
   "execution_count": 13,
   "id": "a42530b9-806e-498b-8f82-9f123ddb087c",
   "metadata": {},
   "outputs": [],
   "source": [
    "df = pd.read_csv(\n",
    "    \"gs://calitp-analytics-data/data-analyses/bus_procurement_cost/data-analyses_bus_procurement_cost_fta_press_release_data_csv.csv\"\n",
    ")"
   ]
  },
  {
   "cell_type": "markdown",
   "id": "7f37c5d6-664c-48fd-9c32-cf7dcd3318ae",
   "metadata": {
    "tags": []
   },
   "source": [
    "## Data Cleaning\n",
    "1. snake-case column name\n",
    "2. currency format funcding column (with $ and , )\n",
    "3. seperate text from # of bus col (split at '(')\n",
    "    a. trim spaces in new col\n",
    "    b. get rid of () characters in new col\n",
    "4. trim spaces in other columns?"
   ]
  },
  {
   "cell_type": "code",
   "execution_count": 14,
   "id": "797069c2-1937-4b11-bc6f-f1e5eb39534a",
   "metadata": {},
   "outputs": [
    {
     "data": {
      "text/plain": [
       "Index(['state', 'project_sponsor', 'project_title', 'description', 'funding',\n",
       "       '#_of_buses', 'project_type', 'propulsion_type', 'area_served',\n",
       "       'congressional_districts', 'fta_region', 'bus/low-no_program'],\n",
       "      dtype='object')"
      ]
     },
     "execution_count": 14,
     "metadata": {},
     "output_type": "execute_result"
    }
   ],
   "source": [
    "# snake case columns names via list\n",
    "new_col = [\n",
    "    \"state\",\n",
    "    \"project_sponsor\",\n",
    "    \"project_title\",\n",
    "    \"description\",\n",
    "    \"funding\",\n",
    "    \"#_of_buses\",\n",
    "    \"project_type\",\n",
    "    \"propulsion_type\",\n",
    "    \"area_served\",\n",
    "    \"congressional_districts\",\n",
    "    \"fta_region\",\n",
    "    \"bus/low-no_program\",\n",
    "]\n",
    "\n",
    "df.columns = new_col\n",
    "df.columns"
   ]
  },
  {
   "cell_type": "code",
   "execution_count": 15,
   "id": "03193a06-1851-4c51-bd45-5576ff66993c",
   "metadata": {},
   "outputs": [
    {
     "data": {
      "text/plain": [
       "dtype('O')"
      ]
     },
     "metadata": {},
     "output_type": "display_data"
    },
    {
     "data": {
      "text/plain": [
       "$5,000,000       3\n",
       "$6,000,000       2\n",
       "$3,400,000       2\n",
       "$104,000,000     1\n",
       "$4,313,552       1\n",
       "                ..\n",
       "$13,880,910      1\n",
       "$15,423,904      1\n",
       "$16,166,822      1\n",
       "$16,358,000      1\n",
       "$181,250         1\n",
       "Name: funding, Length: 126, dtype: int64"
      ]
     },
     "metadata": {},
     "output_type": "display_data"
    }
   ],
   "source": [
    "# checking data type of funding col\n",
    "# checking to see if any values are not numbers\n",
    "# will need to clean up this col\n",
    "display(df[\"funding\"].dtype,\n",
    "        df.funding.value_counts()\n",
    "       )"
   ]
  },
  {
   "cell_type": "code",
   "execution_count": 16,
   "id": "7efb6ebf-474a-4c58-8052-a7427e881649",
   "metadata": {},
   "outputs": [
    {
     "name": "stderr",
     "output_type": "stream",
     "text": [
      "/tmp/ipykernel_175/2798189375.py:2: FutureWarning: The default value of regex will change from True to False in a future version. In addition, single character regular expressions will *not* be treated as literal strings when regex=True.\n",
      "  df['funding']=df['funding'].str.replace('$','')\n"
     ]
    }
   ],
   "source": [
    "#clean up funding column. removing $ and , and making column as int64\n",
    "df['funding']=df['funding'].str.replace('$','')\n",
    "df['funding']=df['funding'].str.replace(',','')\n",
    "df['funding'] = df['funding'].astype('int64')"
   ]
  },
  {
   "cell_type": "code",
   "execution_count": 17,
   "id": "2316c492-d1c5-43fd-abb8-d9a0c510f49e",
   "metadata": {},
   "outputs": [
    {
     "data": {
      "text/plain": [
       "dtype('int64')"
      ]
     },
     "metadata": {},
     "output_type": "display_data"
    },
    {
     "data": {
      "text/html": [
       "<div>\n",
       "<style scoped>\n",
       "    .dataframe tbody tr th:only-of-type {\n",
       "        vertical-align: middle;\n",
       "    }\n",
       "\n",
       "    .dataframe tbody tr th {\n",
       "        vertical-align: top;\n",
       "    }\n",
       "\n",
       "    .dataframe thead th {\n",
       "        text-align: right;\n",
       "    }\n",
       "</style>\n",
       "<table border=\"1\" class=\"dataframe\">\n",
       "  <thead>\n",
       "    <tr style=\"text-align: right;\">\n",
       "      <th></th>\n",
       "      <th>state</th>\n",
       "      <th>project_sponsor</th>\n",
       "      <th>project_title</th>\n",
       "      <th>description</th>\n",
       "      <th>funding</th>\n",
       "      <th>#_of_buses</th>\n",
       "      <th>project_type</th>\n",
       "      <th>propulsion_type</th>\n",
       "      <th>area_served</th>\n",
       "      <th>congressional_districts</th>\n",
       "      <th>fta_region</th>\n",
       "      <th>bus/low-no_program</th>\n",
       "    </tr>\n",
       "  </thead>\n",
       "  <tbody>\n",
       "    <tr>\n",
       "      <th>0</th>\n",
       "      <td>DC</td>\n",
       "      <td>Washington Metropolitan Area Transit Authority...</td>\n",
       "      <td>Battery-Electric Metrobus Procurement and Elec...</td>\n",
       "      <td>WMATA will receive funding to convert its Cind...</td>\n",
       "      <td>104000000</td>\n",
       "      <td>100(beb)</td>\n",
       "      <td>bus/chargers</td>\n",
       "      <td>zero</td>\n",
       "      <td>Large Urban</td>\n",
       "      <td>DC-001 ; MD-004 ; MD-008 ; VA-008 ; VA-011</td>\n",
       "      <td>3</td>\n",
       "      <td>Low-No</td>\n",
       "    </tr>\n",
       "    <tr>\n",
       "      <th>1</th>\n",
       "      <td>TX</td>\n",
       "      <td>Dallas Area Rapid Transit (DART)</td>\n",
       "      <td>DART CNG Bus Fleet Modernization Project</td>\n",
       "      <td>Dallas Area Rapid Transit will receive funding...</td>\n",
       "      <td>103000000</td>\n",
       "      <td>90 (estimated-CNG buses)</td>\n",
       "      <td>bus</td>\n",
       "      <td>low</td>\n",
       "      <td>Large Urban</td>\n",
       "      <td>TX-003 ; TX-004 ; TX-005 ; TX-006 ; TX-024 ; T...</td>\n",
       "      <td>6</td>\n",
       "      <td>Low-No</td>\n",
       "    </tr>\n",
       "    <tr>\n",
       "      <th>2</th>\n",
       "      <td>PA</td>\n",
       "      <td>Southeastern Pennsylvania Transportation Autho...</td>\n",
       "      <td>SEPTA Zero-Emission Bus Transition Facility Sa...</td>\n",
       "      <td>The Southeastern Pennsylvania Transportation A...</td>\n",
       "      <td>80000000</td>\n",
       "      <td>0</td>\n",
       "      <td>facility</td>\n",
       "      <td>zero</td>\n",
       "      <td>Large Urban</td>\n",
       "      <td>PA-002 ; PA-003 ; PA-004 ; PA-005</td>\n",
       "      <td>3</td>\n",
       "      <td>Low-No</td>\n",
       "    </tr>\n",
       "    <tr>\n",
       "      <th>3</th>\n",
       "      <td>LA</td>\n",
       "      <td>New Orleans Regional Transit Authority</td>\n",
       "      <td>Accelerating Zero-Emissions Mobility for a Res...</td>\n",
       "      <td>The New Orleans Regional Transit Authority wil...</td>\n",
       "      <td>71439261</td>\n",
       "      <td>20 (zero-emission)</td>\n",
       "      <td>Bus / Chargers / Equipment</td>\n",
       "      <td>zero</td>\n",
       "      <td>Large Urban</td>\n",
       "      <td>LA-002 ; LA-001</td>\n",
       "      <td>6</td>\n",
       "      <td>Low-No</td>\n",
       "    </tr>\n",
       "    <tr>\n",
       "      <th>4</th>\n",
       "      <td>NJ</td>\n",
       "      <td>New Jersey Transit Corporation</td>\n",
       "      <td>Hilton Bus Garage Modernization</td>\n",
       "      <td>New Jersey Transit will receive funding to mod...</td>\n",
       "      <td>47000000</td>\n",
       "      <td>0</td>\n",
       "      <td>facility/chargers</td>\n",
       "      <td>zero</td>\n",
       "      <td>Large Urban</td>\n",
       "      <td>nj-011</td>\n",
       "      <td>2</td>\n",
       "      <td>Bus</td>\n",
       "    </tr>\n",
       "  </tbody>\n",
       "</table>\n",
       "</div>"
      ],
      "text/plain": [
       "  state                                    project_sponsor  \\\n",
       "0    DC  Washington Metropolitan Area Transit Authority...   \n",
       "1    TX                   Dallas Area Rapid Transit (DART)   \n",
       "2    PA  Southeastern Pennsylvania Transportation Autho...   \n",
       "3    LA             New Orleans Regional Transit Authority   \n",
       "4    NJ                     New Jersey Transit Corporation   \n",
       "\n",
       "                                       project_title  \\\n",
       "0  Battery-Electric Metrobus Procurement and Elec...   \n",
       "1           DART CNG Bus Fleet Modernization Project   \n",
       "2  SEPTA Zero-Emission Bus Transition Facility Sa...   \n",
       "3  Accelerating Zero-Emissions Mobility for a Res...   \n",
       "4                    Hilton Bus Garage Modernization   \n",
       "\n",
       "                                         description    funding  \\\n",
       "0  WMATA will receive funding to convert its Cind...  104000000   \n",
       "1  Dallas Area Rapid Transit will receive funding...  103000000   \n",
       "2  The Southeastern Pennsylvania Transportation A...   80000000   \n",
       "3  The New Orleans Regional Transit Authority wil...   71439261   \n",
       "4  New Jersey Transit will receive funding to mod...   47000000   \n",
       "\n",
       "                 #_of_buses                project_type propulsion_type  \\\n",
       "0                  100(beb)                bus/chargers            zero   \n",
       "1  90 (estimated-CNG buses)                         bus             low   \n",
       "2                         0                    facility            zero   \n",
       "3        20 (zero-emission)  Bus / Chargers / Equipment            zero   \n",
       "4                         0           facility/chargers            zero   \n",
       "\n",
       "   area_served                            congressional_districts  fta_region  \\\n",
       "0  Large Urban         DC-001 ; MD-004 ; MD-008 ; VA-008 ; VA-011           3   \n",
       "1  Large Urban  TX-003 ; TX-004 ; TX-005 ; TX-006 ; TX-024 ; T...           6   \n",
       "2  Large Urban                  PA-002 ; PA-003 ; PA-004 ; PA-005           3   \n",
       "3  Large Urban                                    LA-002 ; LA-001           6   \n",
       "4  Large Urban                                             nj-011           2   \n",
       "\n",
       "  bus/low-no_program  \n",
       "0             Low-No  \n",
       "1             Low-No  \n",
       "2             Low-No  \n",
       "3             Low-No  \n",
       "4                Bus  "
      ]
     },
     "metadata": {},
     "output_type": "display_data"
    }
   ],
   "source": [
    "#checking to see if str.replace worked.\n",
    "display(df[\"funding\"].dtype,\n",
    "        df.head()\n",
    "       )"
   ]
  },
  {
   "cell_type": "code",
   "execution_count": 18,
   "id": "1fb94754-e795-4e78-8a91-2732566a1792",
   "metadata": {},
   "outputs": [],
   "source": [
    "# test of removing the spaces first in # of bus colum, THEN split by (\n",
    "df[\"#_of_buses\"] = df[\"#_of_buses\"].str.replace(\" \", \"\")"
   ]
  },
  {
   "cell_type": "code",
   "execution_count": 19,
   "id": "f1203ac6-0247-47f8-9f96-0cac2129556d",
   "metadata": {},
   "outputs": [
    {
     "data": {
      "text/plain": [
       "0                     34\n",
       "7(Electric)            3\n",
       "2                      3\n",
       "4(BEBs)                3\n",
       "20(BEBs)               3\n",
       "                      ..\n",
       "37(cng)                1\n",
       "160                    1\n",
       "31                     1\n",
       "25(lowemissionCNG)     1\n",
       "3                      1\n",
       "Name: #_of_buses, Length: 81, dtype: int64"
      ]
     },
     "execution_count": 19,
     "metadata": {},
     "output_type": "execute_result"
    }
   ],
   "source": [
    "#spaces removed, and zeros are kept\n",
    "df['#_of_buses'].value_counts()"
   ]
  },
  {
   "cell_type": "code",
   "execution_count": 20,
   "id": "1e682fca-2f4b-4459-a46e-fccce29f2650",
   "metadata": {},
   "outputs": [],
   "source": [
    "#spliting the # of buses column into 2, using the ( char as the delimiter\n",
    "df[[\"bus_count\", \"bus_desc\"]] = df[\"#_of_buses\"].str.split(pat=\"(\", n=1, expand=True)"
   ]
  },
  {
   "cell_type": "code",
   "execution_count": 21,
   "id": "156b81ec-4807-4226-97cf-cd36dc39dfd4",
   "metadata": {},
   "outputs": [
    {
     "data": {
      "text/plain": [
       "Index(['state', 'project_sponsor', 'project_title', 'description', 'funding',\n",
       "       '#_of_buses', 'project_type', 'propulsion_type', 'area_served',\n",
       "       'congressional_districts', 'fta_region', 'bus/low-no_program',\n",
       "       'bus_count', 'bus_desc'],\n",
       "      dtype='object')"
      ]
     },
     "execution_count": 21,
     "metadata": {},
     "output_type": "execute_result"
    }
   ],
   "source": [
    "#checking col. retained the initial col. and added new columns to the end.\n",
    "df.columns"
   ]
  },
  {
   "cell_type": "code",
   "execution_count": 22,
   "id": "fd20bd24-6df2-4b7d-ad92-2b52fe2c6a41",
   "metadata": {},
   "outputs": [
    {
     "data": {
      "text/plain": [
       "0                          34\n",
       "4                          10\n",
       "7                           8\n",
       "6                           8\n",
       "20                          6\n",
       "2                           6\n",
       "5                           6\n",
       "9                           5\n",
       "11                          4\n",
       "3                           4\n",
       "16                          3\n",
       "15                          3\n",
       "10                          3\n",
       "25                          3\n",
       "8                           2\n",
       "39                          2\n",
       "1                           2\n",
       "13                          2\n",
       "56estimated-cutawayvans     1\n",
       "134                         1\n",
       "42                          1\n",
       "50                          1\n",
       "14                          1\n",
       "100                         1\n",
       "37                          1\n",
       "160                         1\n",
       "31                          1\n",
       "12batteryelectric           1\n",
       "90                          1\n",
       "18                          1\n",
       "17                          1\n",
       "23                          1\n",
       "69                          1\n",
       "30                          1\n",
       "35                          1\n",
       "40                          1\n",
       "12                          1\n",
       "Name: bus_count, dtype: int64"
      ]
     },
     "execution_count": 22,
     "metadata": {},
     "output_type": "execute_result"
    }
   ],
   "source": [
    "# examining the new bus count col.\n",
    "#zero values remained the same\n",
    "# see there are 2 values that are inconsistent.\n",
    "df.bus_count.value_counts()"
   ]
  },
  {
   "cell_type": "code",
   "execution_count": 23,
   "id": "3d3c02c1-6582-4034-b0df-596235ac35fd",
   "metadata": {},
   "outputs": [],
   "source": [
    "# function to find the row index of a specific value and column in a dataframe\n",
    "def find_loc(data, col, val):\n",
    "    x = data.loc[data[col] == val].index[0]\n",
    "    return x"
   ]
  },
  {
   "cell_type": "code",
   "execution_count": 24,
   "id": "261cac0b-6427-4420-bbb2-41121574b09e",
   "metadata": {},
   "outputs": [],
   "source": [
    "loc1 = find_loc(df, \"bus_count\", \"56estimated-cutawayvans\")\n",
    "loc2 = find_loc(df, \"bus_count\", \"12batteryelectric\")"
   ]
  },
  {
   "cell_type": "code",
   "execution_count": 25,
   "id": "887f3bce-9b0e-45a1-93ae-920a3584f466",
   "metadata": {},
   "outputs": [
    {
     "data": {
      "text/plain": [
       "58"
      ]
     },
     "metadata": {},
     "output_type": "display_data"
    },
    {
     "data": {
      "text/plain": [
       "32"
      ]
     },
     "metadata": {},
     "output_type": "display_data"
    }
   ],
   "source": [
    "display(loc1, loc2)"
   ]
  },
  {
   "cell_type": "code",
   "execution_count": 26,
   "id": "46065069-4d01-4f54-a132-a671d50ac9b9",
   "metadata": {},
   "outputs": [],
   "source": [
    "# editing the values of the bus count col at specific location\n",
    "#syntax, look at ## index, look at XX column\n",
    "df.loc[58, \"bus_count\"] = 56\n",
    "df.loc[32, \"bus_count\"] = 12"
   ]
  },
  {
   "cell_type": "code",
   "execution_count": 27,
   "id": "8fe33276-6264-4c6e-80ec-530f315e79ce",
   "metadata": {},
   "outputs": [],
   "source": [
    "# updating values again for bus_desc. same location\n",
    "df.loc[58, \"bus_desc\"] = \"estimated-cutaway vans (PM- award will not fund 68 buses)\"\n",
    "df.loc[32, \"bus_desc\"] = \"battery electric\""
   ]
  },
  {
   "cell_type": "code",
   "execution_count": 28,
   "id": "28fc0972-03ae-4c56-a207-906732deb4ab",
   "metadata": {},
   "outputs": [
    {
     "data": {
      "text/plain": [
       "state                                                                     MN\n",
       "project_sponsor                                                Metro Transit\n",
       "project_title              Investments Toward an Electric Future: Metro T...\n",
       "description                Metro Transit will receive funding to buy batt...\n",
       "funding                                                             17532900\n",
       "#_of_buses                                                 12batteryelectric\n",
       "project_type                                      Bus / Chargers / Equipment\n",
       "propulsion_type                                                         zero\n",
       "area_served                                                      Large Urban\n",
       "congressional_districts           MN-002 ; MN-003 ; MN-004 ; MN-005 ; MN-006\n",
       "fta_region                                                                 5\n",
       "bus/low-no_program                                                    Low-No\n",
       "bus_count                                                                 12\n",
       "bus_desc                                                    battery electric\n",
       "Name: 32, dtype: object"
      ]
     },
     "metadata": {},
     "output_type": "display_data"
    },
    {
     "data": {
      "text/plain": [
       "state                                                                     TX\n",
       "project_sponsor            Texas Department of Transportation on behalf o...\n",
       "project_title              FY23 Rural Transit Asset Replacement & Moderni...\n",
       "description                The Texas Department of Transportation will re...\n",
       "funding                                                              7443765\n",
       "#_of_buses                 56estimated-cutawayvans(PM-awardwillnotfund68b...\n",
       "project_type                                                 bus / facilitiy\n",
       "propulsion_type                                                          low\n",
       "area_served                                                            Rural\n",
       "congressional_districts    TX-001 ; TX-002 ; TX-004 ; TX-005 ; TX-006 ; T...\n",
       "fta_region                                                                 6\n",
       "bus/low-no_program                                                    Low-No\n",
       "bus_count                                                                 56\n",
       "bus_desc                   estimated-cutaway vans (PM- award will not fun...\n",
       "Name: 58, dtype: object"
      ]
     },
     "metadata": {},
     "output_type": "display_data"
    }
   ],
   "source": [
    "# values updated as inteneded for bus count and bus desc\n",
    "display(df.loc[32], df.loc[58])"
   ]
  },
  {
   "cell_type": "code",
   "execution_count": 29,
   "id": "5773714f-1df8-403d-9074-9936a47522a3",
   "metadata": {},
   "outputs": [
    {
     "data": {
      "text/plain": [
       "0      34\n",
       "4      10\n",
       "7       8\n",
       "6       8\n",
       "20      6\n",
       "2       6\n",
       "5       6\n",
       "9       5\n",
       "11      4\n",
       "3       4\n",
       "16      3\n",
       "15      3\n",
       "10      3\n",
       "25      3\n",
       "8       2\n",
       "39      2\n",
       "1       2\n",
       "13      2\n",
       "56      1\n",
       "134     1\n",
       "42      1\n",
       "50      1\n",
       "14      1\n",
       "100     1\n",
       "37      1\n",
       "160     1\n",
       "31      1\n",
       "12      1\n",
       "90      1\n",
       "18      1\n",
       "17      1\n",
       "23      1\n",
       "69      1\n",
       "30      1\n",
       "35      1\n",
       "40      1\n",
       "12      1\n",
       "Name: bus_count, dtype: int64"
      ]
     },
     "execution_count": 29,
     "metadata": {},
     "output_type": "execute_result"
    }
   ],
   "source": [
    "# confirming via value counts that all values are valid now.\n",
    "df.bus_count.value_counts()"
   ]
  },
  {
   "cell_type": "code",
   "execution_count": 30,
   "id": "09750ef1-1eba-4561-b5ad-b05f2a3b5875",
   "metadata": {},
   "outputs": [
    {
     "name": "stderr",
     "output_type": "stream",
     "text": [
      "/tmp/ipykernel_175/2239180410.py:3: FutureWarning: The default value of regex will change from True to False in a future version. In addition, single character regular expressions will *not* be treated as literal strings when regex=True.\n",
      "  df[\"bus_desc\"] = df[\"bus_desc\"].str.replace(\")\", \"\")\n"
     ]
    }
   ],
   "source": [
    "# clearning the bus desc col.\n",
    "# removing the )\n",
    "df[\"bus_desc\"] = df[\"bus_desc\"].str.replace(\")\", \"\")"
   ]
  },
  {
   "cell_type": "code",
   "execution_count": 31,
   "id": "e298fe1d-ab31-4cae-aa18-309d349b4b78",
   "metadata": {},
   "outputs": [
    {
     "data": {
      "text/plain": [
       "array(['beb', 'estimated-CNGbuses', None, 'zero-emission', 'cngbuses',\n",
       "       'BEBs', 'Electric\\n16(Hybrid', 'FCEB', 'Electric',\n",
       "       'FuelCellElectric', 'CNG', 'FuelCell', 'hybrid', 'BEB',\n",
       "       'battery electric', 'lowemissionCNG', 'cng',\n",
       "       'BEBsparatransitbuses', 'hybridelectric', 'zeroemissionbuses',\n",
       "       'dieselelectrichybrids', 'hydrogenfuelcell',\n",
       "       '2BEBsand4HydrogenFuelCellBuses', '4fuelcell/3CNG',\n",
       "       'estimated-cutaway vans (PM- award will not fund 68 buses',\n",
       "       'hybridelectricbuses', 'CNGfueled', 'zeroemissionelectric',\n",
       "       'hybridelectrics', 'dieselandgas', 'diesel-electrichybrids',\n",
       "       'propane', 'electric', 'diesel-electric', 'propanebuses',\n",
       "       '1:CNGbus;2cutawayCNGbuses', 'zeroemission',\n",
       "       'propanedpoweredvehicles'], dtype=object)"
      ]
     },
     "execution_count": 31,
     "metadata": {},
     "output_type": "execute_result"
    }
   ],
   "source": [
    "df[\"bus_desc\"].unique()"
   ]
  },
  {
   "cell_type": "code",
   "execution_count": 32,
   "id": "03f52229-29ad-4551-aa70-a9d53124d61e",
   "metadata": {},
   "outputs": [],
   "source": [
    "# stripping the values in the bus desc col\n",
    "df[\"bus_desc\"] = df[\"bus_desc\"].str.strip()"
   ]
  },
  {
   "cell_type": "code",
   "execution_count": 33,
   "id": "9202f2a1-f309-4b86-8602-6989fe4c577a",
   "metadata": {},
   "outputs": [
    {
     "data": {
      "text/plain": [
       "array(['beb', 'estimated-CNGbuses', None, 'zero-emission', 'cngbuses',\n",
       "       'BEBs', 'Electric\\n16(Hybrid', 'FCEB', 'Electric',\n",
       "       'FuelCellElectric', 'CNG', 'FuelCell', 'hybrid', 'BEB',\n",
       "       'battery electric', 'lowemissionCNG', 'cng',\n",
       "       'BEBsparatransitbuses', 'hybridelectric', 'zeroemissionbuses',\n",
       "       'dieselelectrichybrids', 'hydrogenfuelcell',\n",
       "       '2BEBsand4HydrogenFuelCellBuses', '4fuelcell/3CNG',\n",
       "       'estimated-cutaway vans (PM- award will not fund 68 buses',\n",
       "       'hybridelectricbuses', 'CNGfueled', 'zeroemissionelectric',\n",
       "       'hybridelectrics', 'dieselandgas', 'diesel-electrichybrids',\n",
       "       'propane', 'electric', 'diesel-electric', 'propanebuses',\n",
       "       '1:CNGbus;2cutawayCNGbuses', 'zeroemission',\n",
       "       'propanedpoweredvehicles'], dtype=object)"
      ]
     },
     "execution_count": 33,
     "metadata": {},
     "output_type": "execute_result"
    }
   ],
   "source": [
    "df.bus_desc.unique()"
   ]
  },
  {
   "cell_type": "code",
   "execution_count": 34,
   "id": "bba62d67-35ab-4334-898b-f7581b40c574",
   "metadata": {},
   "outputs": [],
   "source": [
    "# creating a dictionary to add spaces back to the values\n",
    "new_dict = {\n",
    "    \"beb\": \"BEB\",\n",
    "    \"estimated-CNGbuses\": \"estimated-CNG buses\",\n",
    "    \"cngbuses\": \"CNG buses\",\n",
    "    \"BEBs\": \"BEB\",\n",
    "    \"Electric\\n16(Hybrid\": \"15 electic, 16 hybrid\",\n",
    "    \"FuelCellElectric\": \"fuel cell electric\",\n",
    "    \"FuelCell\": \"fuel cell\",\n",
    "    \"lowemissionCNG\": \"low emission CNG\",\n",
    "    \"cng\": \"CNG\",\n",
    "    \"BEBsparatransitbuses\": \"BEBs paratransit buses\",\n",
    "    \"hybridelectric\": \"hybrid electric\",\n",
    "    \"zeroemissionbuses\": \"zero emission buses\",\n",
    "    \"dieselelectrichybrids\": \"diesel electric hybrids\",\n",
    "    \"hydrogenfuelcell\": \"hydrogen fuel cell\",\n",
    "    \"2BEBsand4HydrogenFuelCellBuses\": \"2 BEBs and 4 hydrogen fuel cell buses\",\n",
    "    \"4fuelcell/3CNG\": \"4 fuel cell / 3 CNG\",\n",
    "    \"hybridelectricbuses\": \"hybrid electric buses\",\n",
    "    \"CNGfueled\": \"CNG fueled\",\n",
    "    \"zeroemissionelectric\": \"zero emission electric\",\n",
    "    \"hybridelectrics\": \"hybrid electrics\",\n",
    "    \"dieselandgas\": \"diesel and gas\",\n",
    "    \"diesel-electrichybrids\": \"diesel-electric hybrids\",\n",
    "    \"propanebuses\": \"propane buses\",\n",
    "    \"1:CNGbus;2cutawayCNGbuses\": \"1:CNGbus ;2 cutaway CNG buses\",\n",
    "    \"zeroemission\": \"zero emission\",\n",
    "    \"propanedpoweredvehicles\": \"propaned powered vehicles\"\n",
    "}"
   ]
  },
  {
   "cell_type": "code",
   "execution_count": 35,
   "id": "c883651a-7959-40ec-8bfe-2935f7f8e312",
   "metadata": {},
   "outputs": [],
   "source": [
    "#using new dictionary to replace values in the bus desc col\n",
    "df.replace({'bus_desc': new_dict}, inplace=True)"
   ]
  },
  {
   "cell_type": "code",
   "execution_count": 36,
   "id": "3bf65796-704b-4309-853e-08c9d1159bee",
   "metadata": {},
   "outputs": [
    {
     "data": {
      "text/plain": [
       "['BEB',\n",
       " 'estimated-CNG buses',\n",
       " None,\n",
       " 'zero-emission',\n",
       " 'CNG buses',\n",
       " '15 electic, 16 hybrid',\n",
       " 'FCEB',\n",
       " 'Electric',\n",
       " 'fuel cell electric',\n",
       " 'CNG',\n",
       " 'fuel cell',\n",
       " 'hybrid',\n",
       " 'battery electric',\n",
       " 'low emission CNG',\n",
       " 'BEBs paratransit buses',\n",
       " 'hybrid electric',\n",
       " 'zero emission buses',\n",
       " 'diesel electric hybrids',\n",
       " 'hydrogen fuel cell',\n",
       " '2 BEBs and 4 hydrogen fuel cell buses',\n",
       " '4 fuel cell / 3 CNG',\n",
       " 'estimated-cutaway vans (PM- award will not fund 68 buses',\n",
       " 'hybrid electric buses',\n",
       " 'CNG fueled',\n",
       " 'zero emission electric',\n",
       " 'hybrid electrics',\n",
       " 'diesel and gas',\n",
       " 'diesel-electric hybrids',\n",
       " 'propane',\n",
       " 'electric',\n",
       " 'diesel-electric',\n",
       " 'propane buses',\n",
       " '1:CNGbus ;2 cutaway CNG buses',\n",
       " 'zero emission',\n",
       " 'propaned powered vehicles']"
      ]
     },
     "execution_count": 36,
     "metadata": {},
     "output_type": "execute_result"
    }
   ],
   "source": [
    "#confirming the bus desc values were replaced as indeded.\n",
    "list(df.bus_desc.unique())"
   ]
  },
  {
   "cell_type": "code",
   "execution_count": 37,
   "id": "7a4d910e-af55-46b0-a92c-aa52e1a892e8",
   "metadata": {},
   "outputs": [],
   "source": [
    "#bus count for row 12 needs to be adjusted to 31 instead of 15\n",
    "df.loc[12, \"bus_count\"] = 31"
   ]
  },
  {
   "cell_type": "code",
   "execution_count": 38,
   "id": "edfd4b23-e384-47a1-bb7b-461fd04c2d32",
   "metadata": {},
   "outputs": [
    {
     "data": {
      "text/plain": [
       "state                                                                     NC\n",
       "project_sponsor            City of Charlotte - Charlotte Area Transit System\n",
       "project_title              Charlotte Area Transit System's Sustainable Fl...\n",
       "description                The city of Charlotte will receive funding to ...\n",
       "funding                                                             30890413\n",
       "#_of_buses                                          15(Electric)\\n16(Hybrid)\n",
       "project_type                                      Bus / Chargers / Equipment\n",
       "propulsion_type                                                   Zero / Low\n",
       "area_served                                                      Large Urban\n",
       "congressional_districts           NC-008 ; NC-012 ; NC-013 ; NC-014 ; SC-005\n",
       "fta_region                                                                 4\n",
       "bus/low-no_program                                                       Bus\n",
       "bus_count                                                                 31\n",
       "bus_desc                                               15 electic, 16 hybrid\n",
       "Name: 12, dtype: object"
      ]
     },
     "execution_count": 38,
     "metadata": {},
     "output_type": "execute_result"
    }
   ],
   "source": [
    "#confirming the change\n",
    "df.loc[12]"
   ]
  },
  {
   "cell_type": "code",
   "execution_count": 39,
   "id": "ca77c135-1168-489e-802e-402c614bbb77",
   "metadata": {},
   "outputs": [],
   "source": [
    "#using str.lower() on project type \n",
    "df['project_type'] = df['project_type'].str.lower()"
   ]
  },
  {
   "cell_type": "code",
   "execution_count": 40,
   "id": "3d9e2fe8-1f28-4d14-8a6d-f286a4641b2d",
   "metadata": {},
   "outputs": [],
   "source": [
    "#using str.lower() on project type \n",
    "df['project_type'] = df['project_type'].str.replace(' ','')"
   ]
  },
  {
   "cell_type": "code",
   "execution_count": 41,
   "id": "cd50c69d-5fad-4a9b-b88a-87d0191778fe",
   "metadata": {},
   "outputs": [
    {
     "data": {
      "text/plain": [
       "['\\tbus/facility',\n",
       " 'bus',\n",
       " 'bus/chargers',\n",
       " 'bus/chargers/equipment',\n",
       " 'bus/chargers/other',\n",
       " 'bus/equipment',\n",
       " 'bus/facilitiy',\n",
       " 'bus/facility',\n",
       " 'bus/facility/chargers',\n",
       " 'bus/facility/chargers/equipment',\n",
       " 'bus/facility/equipment',\n",
       " 'bus/facility/equipment/other',\n",
       " 'bus/facility/other',\n",
       " 'bus/other',\n",
       " 'chargers',\n",
       " 'chargers/equipment',\n",
       " 'facilities',\n",
       " 'facility',\n",
       " 'facility/chargers',\n",
       " 'facility/chargers/equipment',\n",
       " 'facility/equipment']"
      ]
     },
     "execution_count": 41,
     "metadata": {},
     "output_type": "execute_result"
    }
   ],
   "source": [
    "#confirming lower and replace worked as intended\n",
    "list(df['project_type'].sort_values(ascending=True).unique())"
   ]
  },
  {
   "cell_type": "code",
   "execution_count": 42,
   "id": "2014394c-33d9-44e9-b162-ab21988d9e8d",
   "metadata": {},
   "outputs": [],
   "source": [
    "#some values still need to get adjusted. will use a short dictionary to fix\n",
    "new_type={'\\tbus/facility':'bus/facility',\n",
    "          'bus/facilitiy':'bus/facility',\n",
    "          'facilities':'facility',\n",
    "}"
   ]
  },
  {
   "cell_type": "code",
   "execution_count": 43,
   "id": "a6b0eeb6-cb94-4bb8-82ac-ba3c3763a3aa",
   "metadata": {},
   "outputs": [],
   "source": [
    "#using replace() with the dictionary to replace keys in project type col\n",
    "#syntax df.replace({'bus_desc': new_dict}, inplace=True)\n",
    "df.replace({'project_type': new_type}, inplace=True)"
   ]
  },
  {
   "cell_type": "code",
   "execution_count": 44,
   "id": "7bb2161f-c0c6-43c8-a2b5-4643eea6f2a6",
   "metadata": {},
   "outputs": [
    {
     "data": {
      "text/plain": [
       "['bus',\n",
       " 'bus/chargers',\n",
       " 'bus/chargers/equipment',\n",
       " 'bus/chargers/other',\n",
       " 'bus/equipment',\n",
       " 'bus/facility',\n",
       " 'bus/facility/chargers',\n",
       " 'bus/facility/chargers/equipment',\n",
       " 'bus/facility/equipment',\n",
       " 'bus/facility/equipment/other',\n",
       " 'bus/facility/other',\n",
       " 'bus/other',\n",
       " 'chargers',\n",
       " 'chargers/equipment',\n",
       " 'facility',\n",
       " 'facility/chargers',\n",
       " 'facility/chargers/equipment',\n",
       " 'facility/equipment']"
      ]
     },
     "execution_count": 44,
     "metadata": {},
     "output_type": "execute_result"
    }
   ],
   "source": [
    "#double checking to ensure dictionary reaplce works.\n",
    "list(df['project_type'].sort_values(ascending=True).unique())"
   ]
  },
  {
   "cell_type": "code",
   "execution_count": 49,
   "id": "8fbe2161-8eb1-4179-9af1-e566e909314b",
   "metadata": {},
   "outputs": [
    {
     "data": {
      "text/plain": [
       "['15 electic, 16 hybrid',\n",
       " '1:CNGbus ;2 cutaway CNG buses',\n",
       " '2 BEBs and 4 hydrogen fuel cell buses',\n",
       " '4 fuel cell / 3 CNG',\n",
       " 'BEB',\n",
       " 'BEBs paratransit buses',\n",
       " 'CNG',\n",
       " 'CNG buses',\n",
       " 'CNG fueled',\n",
       " 'Electric',\n",
       " 'FCEB',\n",
       " 'battery electric',\n",
       " 'diesel and gas',\n",
       " 'diesel electric hybrids',\n",
       " 'diesel-electric',\n",
       " 'diesel-electric hybrids',\n",
       " 'electric',\n",
       " 'estimated-CNG buses',\n",
       " 'estimated-cutaway vans (PM- award will not fund 68 buses',\n",
       " 'fuel cell',\n",
       " 'fuel cell electric',\n",
       " 'hybrid',\n",
       " 'hybrid electric',\n",
       " 'hybrid electric buses',\n",
       " 'hybrid electrics',\n",
       " 'hydrogen fuel cell',\n",
       " 'low emission CNG',\n",
       " 'propane',\n",
       " 'propane buses',\n",
       " 'propaned powered vehicles',\n",
       " 'zero emission',\n",
       " 'zero emission buses',\n",
       " 'zero emission electric',\n",
       " 'zero-emission',\n",
       " None]"
      ]
     },
     "execution_count": 49,
     "metadata": {},
     "output_type": "execute_result"
    }
   ],
   "source": [
    "## Cleaning up the bus_desc col\n",
    "list(df.bus_desc.sort_values().unique())"
   ]
  },
  {
   "cell_type": "code",
   "execution_count": 50,
   "id": "180f7556-f7a1-423a-9988-36230793befc",
   "metadata": {},
   "outputs": [],
   "source": [
    "bus_dict ={\n",
    " 'BEBs paratransit buses':'BEB',\n",
    " 'CNG buses':'CNG',\n",
    " 'CNG fueled':'CNG',\n",
    " 'Electric': 'electrc (not specified)',\n",
    " 'battery electric':'BEB',\n",
    " 'diesel electric hybrids':'diesel-electric hybrids',\n",
    " 'diesel-electric':'diesel-electric hybrids',\n",
    " 'electric': 'electrc (not specified)',\n",
    " 'estimated-CNG buses':'CNG',\n",
    " 'fuel cell':'FCEB',\n",
    " 'fuel cell electric':'FCEB',\n",
    " 'hybrid': 'hybrid electric',\n",
    " 'hybrid electric buses': 'hybrid electric',\n",
    " 'hybrid electrics': 'hybrid electric',\n",
    " 'low emission CNG': 'CNG',\n",
    " 'propane buses': 'propane',\n",
    " 'propaned powered vehicles': 'propane',\n",
    " 'zero emission':'zero-emission bus (not specified)',\n",
    " 'zero emission buses':'zero-emission bus (not specified)',\n",
    " 'zero emission electric':'zero-emission bus (not specified)',\n",
    " 'zero-emission':'zero-emission bus (not specified)',\n",
    " }"
   ]
  },
  {
   "cell_type": "code",
   "execution_count": 51,
   "id": "90e68ec0-2da5-4d7d-8804-c6e7f2fb97a6",
   "metadata": {},
   "outputs": [],
   "source": [
    "#repalcing values in bus_desc with bus_dict dictionary\n",
    "df.replace({'bus_desc':bus_dict}, inplace=True)"
   ]
  },
  {
   "cell_type": "code",
   "execution_count": 53,
   "id": "23e0ccf3-c762-4be8-9db3-494317d229cf",
   "metadata": {},
   "outputs": [
    {
     "data": {
      "text/plain": [
       "['BEB',\n",
       " 'CNG',\n",
       " None,\n",
       " 'zero-emission bus (not specified)',\n",
       " '15 electic, 16 hybrid',\n",
       " 'FCEB',\n",
       " 'electrc (not specified)',\n",
       " 'hybrid electric',\n",
       " 'diesel-electric hybrids',\n",
       " 'hydrogen fuel cell',\n",
       " '2 BEBs and 4 hydrogen fuel cell buses',\n",
       " '4 fuel cell / 3 CNG',\n",
       " 'estimated-cutaway vans (PM- award will not fund 68 buses',\n",
       " 'diesel and gas',\n",
       " 'propane',\n",
       " '1:CNGbus ;2 cutaway CNG buses']"
      ]
     },
     "execution_count": 53,
     "metadata": {},
     "output_type": "execute_result"
    }
   ],
   "source": [
    "#list of unique bus desc values reduced.\n",
    "list(df.bus_desc.unique())"
   ]
  },
  {
   "cell_type": "code",
   "execution_count": 55,
   "id": "0ab57cb2-32eb-457d-983e-650c3323d881",
   "metadata": {},
   "outputs": [],
   "source": [
    "#rename bus_desc col to propulsion_type\n",
    "df = df.rename(columns={'bus_desc':'propulsion_type'})"
   ]
  },
  {
   "cell_type": "code",
   "execution_count": 58,
   "id": "6fd15f8c-8ae3-47b3-97b8-bdd6f9ee7290",
   "metadata": {},
   "outputs": [
    {
     "data": {
      "text/plain": [
       "Index(['state', 'project_sponsor', 'project_title', 'description', 'funding',\n",
       "       '#_of_buses', 'project_type', 'propulsion_type', 'area_served',\n",
       "       'congressional_districts', 'fta_region', 'bus/low-no_program',\n",
       "       'bus_count', 'propulsion_type'],\n",
       "      dtype='object')"
      ]
     },
     "execution_count": 58,
     "metadata": {},
     "output_type": "execute_result"
    }
   ],
   "source": [
    "#confirm column was renamed\n",
    "df.columns"
   ]
  },
  {
   "cell_type": "code",
   "execution_count": 62,
   "id": "48643fdd-8746-429e-b2b1-f3e01445e6ed",
   "metadata": {},
   "outputs": [
    {
     "data": {
      "text/plain": [
       "0      WMATA will receive funding to convert its Cind...\n",
       "1      Dallas Area Rapid Transit will receive funding...\n",
       "2      The Southeastern Pennsylvania Transportation A...\n",
       "3      The New Orleans Regional Transit Authority wil...\n",
       "4      New Jersey Transit will receive funding to mod...\n",
       "                             ...                        \n",
       "125    The South Dakota Department of Transportation ...\n",
       "126    Comanche Nation Transit will receive funds to ...\n",
       "127    The North Carolina Department of Transportatio...\n",
       "128    The Colorado Department of Transportation (CDO...\n",
       "129    The Oregon Department of Transportation on beh...\n",
       "Name: description, Length: 130, dtype: object"
      ]
     },
     "execution_count": 62,
     "metadata": {},
     "output_type": "execute_result"
    }
   ],
   "source": [
    "df.description"
   ]
  },
  {
   "cell_type": "markdown",
   "id": "9a83f537-ccff-44c2-8b41-82b2c88b9ccd",
   "metadata": {
    "tags": []
   },
   "source": [
    "## Exporting cleaned data to GCS"
   ]
  },
  {
   "cell_type": "code",
   "execution_count": 59,
   "id": "609a3659-8bf2-4412-aabc-d6ea956c3bbe",
   "metadata": {},
   "outputs": [],
   "source": [
    "#saving to GCS as csv\n",
    "df.to_csv('gs://calitp-analytics-data/data-analyses/bus_procurement_cost/fta_bus_cost_clean.csv')"
   ]
  },
  {
   "cell_type": "markdown",
   "id": "8a04ee87-fba7-46df-ac67-44956fa82c7c",
   "metadata": {
    "tags": []
   },
   "source": [
    "## Reading in cleaned data from GCS"
   ]
  },
  {
   "cell_type": "code",
   "execution_count": 3,
   "id": "0886453f-e9d5-46d8-9987-3365137137b2",
   "metadata": {},
   "outputs": [],
   "source": [
    "bus_cost = pd.read_csv('gs://calitp-analytics-data/data-analyses/bus_procurement_cost/fta_bus_cost_clean.csv')"
   ]
  },
  {
   "cell_type": "code",
   "execution_count": 4,
   "id": "8a4e9841-79f5-41e1-9c53-3def3d802bd9",
   "metadata": {},
   "outputs": [
    {
     "data": {
      "text/plain": [
       "(130, 15)"
      ]
     },
     "metadata": {},
     "output_type": "display_data"
    },
    {
     "data": {
      "text/plain": [
       "pandas.core.frame.DataFrame"
      ]
     },
     "metadata": {},
     "output_type": "display_data"
    },
    {
     "data": {
      "text/plain": [
       "Index(['Unnamed: 0', 'state', 'project_sponsor', 'project_title',\n",
       "       'description', 'funding', '#_of_buses', 'project_type',\n",
       "       'propulsion_type', 'area_served', 'congressional_districts',\n",
       "       'fta_region', 'bus/low-no_program', 'bus_count', 'bus_desc'],\n",
       "      dtype='object')"
      ]
     },
     "metadata": {},
     "output_type": "display_data"
    }
   ],
   "source": [
    "#confirming cleaned data shows as expected.\n",
    "display(bus_cost.shape,\n",
    "        type(bus_cost),\n",
    "    bus_cost.columns\n",
    "       )"
   ]
  },
  {
   "cell_type": "code",
   "execution_count": 5,
   "id": "7a2c32a7-4cd0-4755-8a04-2db5638cdcbb",
   "metadata": {},
   "outputs": [],
   "source": [
    "#drop unnessary columns\n",
    "bus_cost = bus_cost.drop(['Unnamed: 0', 'congressional_districts'], axis=1)"
   ]
  },
  {
   "cell_type": "code",
   "execution_count": 6,
   "id": "58a92ab0-8f13-4462-989a-e1c9105ff414",
   "metadata": {},
   "outputs": [
    {
     "data": {
      "text/plain": [
       "(130, 13)"
      ]
     },
     "metadata": {},
     "output_type": "display_data"
    },
    {
     "data": {
      "text/plain": [
       "Index(['state', 'project_sponsor', 'project_title', 'description', 'funding',\n",
       "       '#_of_buses', 'project_type', 'propulsion_type', 'area_served',\n",
       "       'fta_region', 'bus/low-no_program', 'bus_count', 'bus_desc'],\n",
       "      dtype='object')"
      ]
     },
     "metadata": {},
     "output_type": "display_data"
    }
   ],
   "source": [
    "#confirming columns dropped as intended.\n",
    "#less columns(14 to 12)\n",
    "display(bus_cost.shape,\n",
    "        bus_cost.columns)"
   ]
  },
  {
   "cell_type": "markdown",
   "id": "42ca0dfd-2ea1-4194-b431-0e4853d21879",
   "metadata": {
    "tags": []
   },
   "source": [
    "## Cost per Bus, per Transit Agency dataframe"
   ]
  },
  {
   "cell_type": "code",
   "execution_count": 8,
   "id": "26485b67-dc48-4102-a835-96460649d8ff",
   "metadata": {},
   "outputs": [
    {
     "data": {
      "text/html": [
       "<div>\n",
       "<style scoped>\n",
       "    .dataframe tbody tr th:only-of-type {\n",
       "        vertical-align: middle;\n",
       "    }\n",
       "\n",
       "    .dataframe tbody tr th {\n",
       "        vertical-align: top;\n",
       "    }\n",
       "\n",
       "    .dataframe thead th {\n",
       "        text-align: right;\n",
       "    }\n",
       "</style>\n",
       "<table border=\"1\" class=\"dataframe\">\n",
       "  <thead>\n",
       "    <tr style=\"text-align: right;\">\n",
       "      <th></th>\n",
       "      <th>state</th>\n",
       "      <th>project_sponsor</th>\n",
       "      <th>project_title</th>\n",
       "      <th>description</th>\n",
       "      <th>funding</th>\n",
       "      <th>#_of_buses</th>\n",
       "      <th>project_type</th>\n",
       "      <th>propulsion_type</th>\n",
       "      <th>area_served</th>\n",
       "      <th>fta_region</th>\n",
       "      <th>bus/low-no_program</th>\n",
       "      <th>bus_count</th>\n",
       "      <th>bus_desc</th>\n",
       "    </tr>\n",
       "  </thead>\n",
       "  <tbody>\n",
       "    <tr>\n",
       "      <th>0</th>\n",
       "      <td>DC</td>\n",
       "      <td>Washington Metropolitan Area Transit Authority...</td>\n",
       "      <td>Battery-Electric Metrobus Procurement and Elec...</td>\n",
       "      <td>WMATA will receive funding to convert its Cind...</td>\n",
       "      <td>104000000</td>\n",
       "      <td>100(beb)</td>\n",
       "      <td>bus/chargers</td>\n",
       "      <td>zero</td>\n",
       "      <td>Large Urban</td>\n",
       "      <td>3</td>\n",
       "      <td>Low-No</td>\n",
       "      <td>100</td>\n",
       "      <td>BEB</td>\n",
       "    </tr>\n",
       "    <tr>\n",
       "      <th>1</th>\n",
       "      <td>TX</td>\n",
       "      <td>Dallas Area Rapid Transit (DART)</td>\n",
       "      <td>DART CNG Bus Fleet Modernization Project</td>\n",
       "      <td>Dallas Area Rapid Transit will receive funding...</td>\n",
       "      <td>103000000</td>\n",
       "      <td>90(estimated-CNGbuses)</td>\n",
       "      <td>bus</td>\n",
       "      <td>low</td>\n",
       "      <td>Large Urban</td>\n",
       "      <td>6</td>\n",
       "      <td>Low-No</td>\n",
       "      <td>90</td>\n",
       "      <td>estimated-CNG buses</td>\n",
       "    </tr>\n",
       "    <tr>\n",
       "      <th>3</th>\n",
       "      <td>LA</td>\n",
       "      <td>New Orleans Regional Transit Authority</td>\n",
       "      <td>Accelerating Zero-Emissions Mobility for a Res...</td>\n",
       "      <td>The New Orleans Regional Transit Authority wil...</td>\n",
       "      <td>71439261</td>\n",
       "      <td>20(zero-emission)</td>\n",
       "      <td>bus/chargers/equipment</td>\n",
       "      <td>zero</td>\n",
       "      <td>Large Urban</td>\n",
       "      <td>6</td>\n",
       "      <td>Low-No</td>\n",
       "      <td>20</td>\n",
       "      <td>zero-emission</td>\n",
       "    </tr>\n",
       "    <tr>\n",
       "      <th>5</th>\n",
       "      <td>TX</td>\n",
       "      <td>Metropolitan Transit Authority of Harris Count...</td>\n",
       "      <td>FY 2023 Renewable Natural Gas Path to Zero Emi...</td>\n",
       "      <td>The Metropolitan Transit Authority of Harris C...</td>\n",
       "      <td>40402548</td>\n",
       "      <td>40(cngbuses)</td>\n",
       "      <td>bus/facility</td>\n",
       "      <td>Low</td>\n",
       "      <td>Large Urban</td>\n",
       "      <td>6</td>\n",
       "      <td>Low-No</td>\n",
       "      <td>40</td>\n",
       "      <td>CNG buses</td>\n",
       "    </tr>\n",
       "    <tr>\n",
       "      <th>6</th>\n",
       "      <td>MD</td>\n",
       "      <td>University of Maryland, College Park</td>\n",
       "      <td>35 Battery Electric Transit Buses, Infrastruct...</td>\n",
       "      <td>The University of Maryland, College Park will ...</td>\n",
       "      <td>39863156</td>\n",
       "      <td>35(BEBs)</td>\n",
       "      <td>bus/chargers</td>\n",
       "      <td>zero</td>\n",
       "      <td>Large Urban</td>\n",
       "      <td>3</td>\n",
       "      <td>Low-No</td>\n",
       "      <td>35</td>\n",
       "      <td>BEB</td>\n",
       "    </tr>\n",
       "  </tbody>\n",
       "</table>\n",
       "</div>"
      ],
      "text/plain": [
       "  state                                    project_sponsor  \\\n",
       "0    DC  Washington Metropolitan Area Transit Authority...   \n",
       "1    TX                   Dallas Area Rapid Transit (DART)   \n",
       "3    LA             New Orleans Regional Transit Authority   \n",
       "5    TX  Metropolitan Transit Authority of Harris Count...   \n",
       "6    MD               University of Maryland, College Park   \n",
       "\n",
       "                                       project_title  \\\n",
       "0  Battery-Electric Metrobus Procurement and Elec...   \n",
       "1           DART CNG Bus Fleet Modernization Project   \n",
       "3  Accelerating Zero-Emissions Mobility for a Res...   \n",
       "5  FY 2023 Renewable Natural Gas Path to Zero Emi...   \n",
       "6  35 Battery Electric Transit Buses, Infrastruct...   \n",
       "\n",
       "                                         description    funding  \\\n",
       "0  WMATA will receive funding to convert its Cind...  104000000   \n",
       "1  Dallas Area Rapid Transit will receive funding...  103000000   \n",
       "3  The New Orleans Regional Transit Authority wil...   71439261   \n",
       "5  The Metropolitan Transit Authority of Harris C...   40402548   \n",
       "6  The University of Maryland, College Park will ...   39863156   \n",
       "\n",
       "               #_of_buses            project_type propulsion_type  \\\n",
       "0                100(beb)            bus/chargers            zero   \n",
       "1  90(estimated-CNGbuses)                     bus             low   \n",
       "3       20(zero-emission)  bus/chargers/equipment            zero   \n",
       "5            40(cngbuses)            bus/facility             Low   \n",
       "6                35(BEBs)            bus/chargers            zero   \n",
       "\n",
       "   area_served  fta_region bus/low-no_program  bus_count             bus_desc  \n",
       "0  Large Urban           3             Low-No        100                  BEB  \n",
       "1  Large Urban           6             Low-No         90  estimated-CNG buses  \n",
       "3  Large Urban           6             Low-No         20        zero-emission  \n",
       "5  Large Urban           6             Low-No         40            CNG buses  \n",
       "6  Large Urban           3             Low-No         35                  BEB  "
      ]
     },
     "execution_count": 8,
     "metadata": {},
     "output_type": "execute_result"
    }
   ],
   "source": [
    "only_bus=bus_cost[bus_cost['bus_count']>0]\n",
    "only_bus.head()"
   ]
  },
  {
   "cell_type": "code",
   "execution_count": 9,
   "id": "a8f05625-7da1-4aea-ac71-c177d02ca008",
   "metadata": {},
   "outputs": [],
   "source": [
    "cost_per_bus = only_bus.groupby('project_sponsor').agg({\n",
    "    'funding':'sum',\n",
    "    'bus_count':'sum'\n",
    "}).reset_index()"
   ]
  },
  {
   "cell_type": "code",
   "execution_count": 10,
   "id": "c3ab90a5-5e7f-4ab6-8ecc-a7598e185f5b",
   "metadata": {},
   "outputs": [],
   "source": [
    "cost_per_bus['cost_per_bus'] = (cost_per_bus['funding']/cost_per_bus['bus_count']).astype('int64')"
   ]
  },
  {
   "cell_type": "code",
   "execution_count": 11,
   "id": "ce71b957-ea77-40c8-95de-d6f160462f58",
   "metadata": {},
   "outputs": [
    {
     "data": {
      "text/plain": [
       "project_sponsor    object\n",
       "funding             int64\n",
       "bus_count           int64\n",
       "cost_per_bus        int64\n",
       "dtype: object"
      ]
     },
     "execution_count": 11,
     "metadata": {},
     "output_type": "execute_result"
    }
   ],
   "source": [
    "cost_per_bus.dtypes"
   ]
  },
  {
   "cell_type": "code",
   "execution_count": 12,
   "id": "b6f9ca72-4977-4536-9e6b-828af63c23b1",
   "metadata": {},
   "outputs": [
    {
     "data": {
      "text/html": [
       "<div>\n",
       "<style scoped>\n",
       "    .dataframe tbody tr th:only-of-type {\n",
       "        vertical-align: middle;\n",
       "    }\n",
       "\n",
       "    .dataframe tbody tr th {\n",
       "        vertical-align: top;\n",
       "    }\n",
       "\n",
       "    .dataframe thead th {\n",
       "        text-align: right;\n",
       "    }\n",
       "</style>\n",
       "<table border=\"1\" class=\"dataframe\">\n",
       "  <thead>\n",
       "    <tr style=\"text-align: right;\">\n",
       "      <th></th>\n",
       "      <th>project_sponsor</th>\n",
       "      <th>funding</th>\n",
       "      <th>bus_count</th>\n",
       "      <th>cost_per_bus</th>\n",
       "    </tr>\n",
       "  </thead>\n",
       "  <tbody>\n",
       "    <tr>\n",
       "      <th>0</th>\n",
       "      <td>AUTORIDAD METROPOLITANA DE AUTOBUSES (PRMBA)</td>\n",
       "      <td>10000000</td>\n",
       "      <td>8</td>\n",
       "      <td>1250000</td>\n",
       "    </tr>\n",
       "    <tr>\n",
       "      <th>1</th>\n",
       "      <td>Alameda-Contra Costa Transit District</td>\n",
       "      <td>25513684</td>\n",
       "      <td>25</td>\n",
       "      <td>1020547</td>\n",
       "    </tr>\n",
       "    <tr>\n",
       "      <th>2</th>\n",
       "      <td>Berkshire Regional Transit Authority</td>\n",
       "      <td>2212747</td>\n",
       "      <td>2</td>\n",
       "      <td>1106373</td>\n",
       "    </tr>\n",
       "    <tr>\n",
       "      <th>3</th>\n",
       "      <td>Brazos Transit District</td>\n",
       "      <td>9650646</td>\n",
       "      <td>11</td>\n",
       "      <td>877331</td>\n",
       "    </tr>\n",
       "    <tr>\n",
       "      <th>4</th>\n",
       "      <td>Cape Fear Public Transportation Authority</td>\n",
       "      <td>2860250</td>\n",
       "      <td>5</td>\n",
       "      <td>572050</td>\n",
       "    </tr>\n",
       "    <tr>\n",
       "      <th>...</th>\n",
       "      <td>...</td>\n",
       "      <td>...</td>\n",
       "      <td>...</td>\n",
       "      <td>...</td>\n",
       "    </tr>\n",
       "    <tr>\n",
       "      <th>90</th>\n",
       "      <td>Washington Metropolitan Area Transit Authority...</td>\n",
       "      <td>104000000</td>\n",
       "      <td>100</td>\n",
       "      <td>1040000</td>\n",
       "    </tr>\n",
       "    <tr>\n",
       "      <th>91</th>\n",
       "      <td>Washington State Department of Transportation ...</td>\n",
       "      <td>3303600</td>\n",
       "      <td>9</td>\n",
       "      <td>367066</td>\n",
       "    </tr>\n",
       "    <tr>\n",
       "      <th>92</th>\n",
       "      <td>Whatcom Transportation Authority (WTA)</td>\n",
       "      <td>9644865</td>\n",
       "      <td>11</td>\n",
       "      <td>876805</td>\n",
       "    </tr>\n",
       "    <tr>\n",
       "      <th>93</th>\n",
       "      <td>White Earth Reservation Business Committee</td>\n",
       "      <td>723171</td>\n",
       "      <td>4</td>\n",
       "      <td>180792</td>\n",
       "    </tr>\n",
       "    <tr>\n",
       "      <th>94</th>\n",
       "      <td>Wyoming Department of Transportation on behalf...</td>\n",
       "      <td>945178</td>\n",
       "      <td>4</td>\n",
       "      <td>236294</td>\n",
       "    </tr>\n",
       "  </tbody>\n",
       "</table>\n",
       "<p>95 rows × 4 columns</p>\n",
       "</div>"
      ],
      "text/plain": [
       "                                      project_sponsor    funding  bus_count  \\\n",
       "0        AUTORIDAD METROPOLITANA DE AUTOBUSES (PRMBA)   10000000          8   \n",
       "1               Alameda-Contra Costa Transit District   25513684         25   \n",
       "2                Berkshire Regional Transit Authority    2212747          2   \n",
       "3                             Brazos Transit District    9650646         11   \n",
       "4           Cape Fear Public Transportation Authority    2860250          5   \n",
       "..                                                ...        ...        ...   \n",
       "90  Washington Metropolitan Area Transit Authority...  104000000        100   \n",
       "91  Washington State Department of Transportation ...    3303600          9   \n",
       "92             Whatcom Transportation Authority (WTA)    9644865         11   \n",
       "93         White Earth Reservation Business Committee     723171          4   \n",
       "94  Wyoming Department of Transportation on behalf...     945178          4   \n",
       "\n",
       "    cost_per_bus  \n",
       "0        1250000  \n",
       "1        1020547  \n",
       "2        1106373  \n",
       "3         877331  \n",
       "4         572050  \n",
       "..           ...  \n",
       "90       1040000  \n",
       "91        367066  \n",
       "92        876805  \n",
       "93        180792  \n",
       "94        236294  \n",
       "\n",
       "[95 rows x 4 columns]"
      ]
     },
     "execution_count": 12,
     "metadata": {},
     "output_type": "execute_result"
    }
   ],
   "source": [
    "cost_per_bus"
   ]
  },
  {
   "cell_type": "code",
   "execution_count": null,
   "id": "f02f391a-920c-458a-95e0-fd7875e6a653",
   "metadata": {},
   "outputs": [],
   "source": [
    "## export cost_per_bus df to gcs\n",
    "cost_per_bus.to_csv('gs://calitp-analytics-data/data-analyses/bus_procurement_cost/fta_cost_per_bus.csv')"
   ]
  },
  {
   "cell_type": "markdown",
   "id": "79e18bf0-3dff-4263-9b47-8f2e4ee3d2e8",
   "metadata": {
    "tags": []
   },
   "source": [
    "## Cost per bus, stats analysis"
   ]
  },
  {
   "cell_type": "code",
   "execution_count": null,
   "id": "2ec98703-78f8-4c1c-b5c3-5a4834b1b44f",
   "metadata": {},
   "outputs": [],
   "source": [
    "#read in fta cost per bus csv\n",
    "cost_per_bus = pd.read_csv('gs://calitp-analytics-data/data-analyses/bus_procurement_cost/fta_cost_per_bus.csv')"
   ]
  },
  {
   "cell_type": "code",
   "execution_count": null,
   "id": "6aebe6c0-eeb6-4da3-88ce-79f1fe7f5f6f",
   "metadata": {},
   "outputs": [],
   "source": [
    "display(cost_per_bus.shape,\n",
    "        cost_per_bus.head()\n",
    "       )"
   ]
  },
  {
   "cell_type": "markdown",
   "id": "299d75c2-2f1a-4a7d-a1ee-87271a1f9e4b",
   "metadata": {
    "tags": []
   },
   "source": [
    "## Initial Summary Stats"
   ]
  },
  {
   "cell_type": "markdown",
   "id": "c4f9c488-8306-4eb3-bac0-40c75ac1dfed",
   "metadata": {
    "jp-MarkdownHeadingCollapsed": true,
    "tags": []
   },
   "source": [
    "### Summary Stats"
   ]
  },
  {
   "cell_type": "code",
   "execution_count": null,
   "id": "76e7e2f6-47c8-4423-a9b3-2f02ee06fb9f",
   "metadata": {},
   "outputs": [],
   "source": [
    "#top level alanysis\n",
    "\n",
    "bus_cost.agg({'project_title':'count',\n",
    "              'funding':'sum',\n",
    "              'bus_count':'sum'}\n",
    "              )"
   ]
  },
  {
   "cell_type": "code",
   "execution_count": null,
   "id": "a1c0bdc5-9b63-40bd-94b7-2aa04b9bc70a",
   "metadata": {},
   "outputs": [],
   "source": [
    "#start of agg. by project_type\n",
    "\n",
    "bus_cost.groupby('project_type').agg({\n",
    "    'project_type': 'count',\n",
    "    'funding': 'sum',\n",
    "    'bus_count':'sum'\n",
    "})"
   ]
  },
  {
   "cell_type": "code",
   "execution_count": null,
   "id": "f036cf52-fcc7-4f43-b11a-79a75515efc3",
   "metadata": {},
   "outputs": [],
   "source": [
    "#agg by program\n",
    "\n",
    "bus_cost.groupby('bus/low-no_program').agg({\n",
    "    'project_type': 'count',\n",
    "    'funding': 'sum',\n",
    "    'bus_count':'sum'\n",
    "})"
   ]
  },
  {
   "cell_type": "code",
   "execution_count": null,
   "id": "228da8c2-9b22-4d1c-9259-4417e9374309",
   "metadata": {},
   "outputs": [],
   "source": [
    "#agg by state, by funding\n",
    "bus_cost.groupby('state').agg({\n",
    "    'project_type': 'count',\n",
    "    'funding': 'sum',\n",
    "    'bus_count':'sum'\n",
    "}).sort_values(by='funding', ascending=False)"
   ]
  },
  {
   "cell_type": "markdown",
   "id": "e85e540e-0396-49b0-9f2e-64e5236e63e8",
   "metadata": {
    "tags": []
   },
   "source": [
    "### Projects with bus purchases"
   ]
  },
  {
   "cell_type": "code",
   "execution_count": null,
   "id": "8bad1e5d-9d05-49ef-ab21-81b98d80ef75",
   "metadata": {},
   "outputs": [],
   "source": [
    "#df of only projects with a bus count\n",
    "only_bus=bus_cost[bus_cost['bus_count']>0]"
   ]
  },
  {
   "cell_type": "code",
   "execution_count": null,
   "id": "6c5013e3-ed56-4ea6-b191-af9a8e797b4b",
   "metadata": {},
   "outputs": [],
   "source": [
    "display(only_bus.shape,\n",
    "        only_bus.columns)"
   ]
  },
  {
   "cell_type": "code",
   "execution_count": null,
   "id": "e93b7fe9-49e8-475d-aa89-c085f6792978",
   "metadata": {},
   "outputs": [],
   "source": [
    "#agg by propulsion type\n",
    "only_bus['propulsion_type'].value_counts()"
   ]
  },
  {
   "cell_type": "code",
   "execution_count": null,
   "id": "dc7cc8c9-f81a-43c1-bb62-e8e2467358ce",
   "metadata": {},
   "outputs": [],
   "source": [
    "only_bus.project_type.value_counts()"
   ]
  },
  {
   "cell_type": "code",
   "execution_count": null,
   "id": "d86ee60d-e3e8-4dea-880f-731f6ac64376",
   "metadata": {},
   "outputs": [],
   "source": [
    "#of the rows with bus_count >1, what are the project types?\n",
    "bus_agg = only_bus.groupby('project_type').agg({\n",
    "    'project_type': 'count',\n",
    "    'funding': 'sum',\n",
    "    'bus_count':'sum'\n",
    "})"
   ]
  },
  {
   "cell_type": "code",
   "execution_count": null,
   "id": "f7afb2df-374e-4ee2-b99c-6959d2111a37",
   "metadata": {},
   "outputs": [],
   "source": [
    "#new column that calculates `cost per bus`\n",
    "bus_agg['cost_per_bus']=(bus_agg['funding']/bus_agg['bus_count']).astype('int64')"
   ]
  },
  {
   "cell_type": "code",
   "execution_count": null,
   "id": "f8b1c63c-9763-4d24-9613-433aefd8e4bf",
   "metadata": {},
   "outputs": [],
   "source": [
    "bus_agg"
   ]
  },
  {
   "cell_type": "markdown",
   "id": "211cb7b6-8fb1-4d52-890a-7106afb981a0",
   "metadata": {
    "jp-MarkdownHeadingCollapsed": true,
    "tags": []
   },
   "source": [
    "### Projects with no buses"
   ]
  },
  {
   "cell_type": "code",
   "execution_count": null,
   "id": "e018dd24-4c96-4d1b-ad48-d67d706d165b",
   "metadata": {},
   "outputs": [],
   "source": [
    "no_bus=bus_cost[bus_cost['bus_count']<1]"
   ]
  },
  {
   "cell_type": "code",
   "execution_count": null,
   "id": "c9ce24e3-5366-4cb5-9f92-4d24b50493e4",
   "metadata": {},
   "outputs": [],
   "source": [
    "no_bus['project_type'].value_counts()"
   ]
  },
  {
   "cell_type": "markdown",
   "id": "ac02fbbb-2a88-486f-8001-fd8156c50bfb",
   "metadata": {
    "tags": []
   },
   "source": [
    "## Overall Summary"
   ]
  },
  {
   "cell_type": "code",
   "execution_count": null,
   "id": "6ad1b9f5-a5c7-4fee-abb2-cb74dee4ab40",
   "metadata": {
    "tags": []
   },
   "outputs": [],
   "source": [
    "project_count=bus_cost.project_title.count()\n",
    "fund_sum=bus_cost.funding.sum()\n",
    "bus_count_sum=bus_cost.bus_count.sum()\n",
    "overall_cost_per_bus = (fund_sum)/(bus_count_sum)\n",
    "bus_program_count=bus_cost['bus/low-no_program'].value_counts()\n",
    "\n",
    "projects_with_bus=only_bus.project_title.count()\n",
    "projects_with_bus_funds=only_bus.funding.sum()\n",
    "cost_per_bus = (only_bus.funding.sum())/(bus_count_sum)"
   ]
  },
  {
   "cell_type": "code",
   "execution_count": null,
   "id": "7e932b1e-f5e5-4215-91b5-4c922e78062a",
   "metadata": {
    "tags": []
   },
   "outputs": [],
   "source": [
    "summary = f'''\n",
    "Top Level observation:\n",
    "- {project_count} projects awarded\n",
    "- ${fund_sum:,.2f} dollars awarded\n",
    "- {bus_count_sum} buses to be purchased\n",
    "- ${overall_cost_per_bus:,.2f} overall cost per bus\n",
    "\n",
    "Projects have some mix of buses, facilities and equipment. Making it difficult to disaggregate actual bus cost.\n",
    "\n",
    "Of the {project_count} projects awarded, {projects_with_bus} projects inlcuded buses. The remainder were facilities, chargers and equipment\n",
    "\n",
    "Projects with buses purchases:\n",
    "- {projects_with_bus} projects\n",
    "- ${projects_with_bus_funds:,.2f} awarded to purchases buses\n",
    "- ${cost_per_bus:,.2f} cost per bus\n",
    "'''"
   ]
  },
  {
   "cell_type": "code",
   "execution_count": null,
   "id": "dfb95588-9083-4298-8822-460c2dad9941",
   "metadata": {
    "tags": []
   },
   "outputs": [],
   "source": [
    "print(summary)"
   ]
  },
  {
   "cell_type": "code",
   "execution_count": null,
   "id": "2429adb2-fdfe-4a0f-a7c5-8ed2035f6fad",
   "metadata": {},
   "outputs": [],
   "source": [
    "# Assuming your DataFrame is named df\n",
    "cost_per_bus_values = cost_per_bus['cost_per_bus']\n",
    "\n",
    "# Calculate mean and standard deviation\n",
    "mean_value = cost_per_bus_values.mean()\n",
    "std_deviation = cost_per_bus_values.std()\n",
    "\n",
    "# Plot histogram\n",
    "plt.hist(cost_per_bus_values, bins=30, color='skyblue', edgecolor='black', alpha=0.7)\n",
    "\n",
    "# Add vertical lines for mean and standard deviation\n",
    "plt.axvline(mean_value, color='red', linestyle='dashed', linewidth=2, label='Mean')\n",
    "plt.axvline(mean_value + std_deviation, color='green', linestyle='dashed', linewidth=2, label='Mean + 1 Std Dev')\n",
    "plt.axvline(mean_value - std_deviation, color='green', linestyle='dashed', linewidth=2, label='Mean - 1 Std Dev')\n",
    "\n",
    "# Set labels and title\n",
    "plt.xlabel('cost_per_bus')\n",
    "plt.ylabel('Frequency')\n",
    "plt.title('Histogram of cost_per_bus with Mean and Std Dev Lines')\n",
    "plt.legend()\n",
    "\n",
    "# Show the plot\n",
    "plt.show()"
   ]
  },
  {
   "cell_type": "code",
   "execution_count": null,
   "id": "c3b5a48f-804e-4525-98fc-39d3fa845f6f",
   "metadata": {},
   "outputs": [],
   "source": [
    "import pandas as pd\n",
    "import matplotlib.pyplot as plt\n",
    "import matplotlib.ticker as mticker\n",
    "\n",
    "# Assuming your DataFrame is named df\n",
    "cost_per_bus_values = cost_per_bus['cost_per_bus']\n",
    "\n",
    "# Calculate mean and standard deviation\n",
    "mean_value = cost_per_bus_values.mean()\n",
    "std_deviation = cost_per_bus_values.std()\n",
    "\n",
    "# Plot histogram\n",
    "plt.hist(cost_per_bus_values, bins=20, color='skyblue', edgecolor='black', alpha=0.7)\n",
    "\n",
    "# Add vertical lines for mean and standard deviation\n",
    "plt.axvline(mean_value, color='red', linestyle='dashed', linewidth=2, label='Mean')\n",
    "plt.axvline(mean_value + std_deviation, color='green', linestyle='dashed', linewidth=2, label='Mean + 1 Std Dev')\n",
    "plt.axvline(mean_value - std_deviation, color='green', linestyle='dashed', linewidth=2, label='Mean - 1 Std Dev')\n",
    "\n",
    "# Set labels and title\n",
    "plt.xlabel('Cost per Bus (USD)')\n",
    "plt.ylabel('Frequency')\n",
    "plt.title('Histogram of Cost per Bus with Mean and Std Dev Lines')\n",
    "plt.legend()\n",
    "\n",
    "# Format x-axis ticks as USD\n",
    "plt.gca().xaxis.set_major_formatter(mticker.StrMethodFormatter('${x:,.0f}'))\n",
    "\n",
    "# Show the plot\n",
    "plt.show()\n"
   ]
  }
 ],
 "metadata": {
  "kernelspec": {
   "display_name": "Python 3 (ipykernel)",
   "language": "python",
   "name": "python3"
  },
  "language_info": {
   "codemirror_mode": {
    "name": "ipython",
    "version": 3
   },
   "file_extension": ".py",
   "mimetype": "text/x-python",
   "name": "python",
   "nbconvert_exporter": "python",
   "pygments_lexer": "ipython3",
   "version": "3.9.13"
  }
 },
 "nbformat": 4,
 "nbformat_minor": 5
}
