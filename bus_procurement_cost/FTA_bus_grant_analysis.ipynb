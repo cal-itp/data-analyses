{
 "cells": [
  {
   "cell_type": "markdown",
   "id": "46b3c4b1-8668-49b7-a330-9bd1f092f7b9",
   "metadata": {
    "tags": []
   },
   "source": [
    "## FY23 FTA Bus and Low- and No-Emission Grant Awards Analysis\n",
    "\n",
    "<b>GH issue:</b> \n",
    "* Research Request - Bus Procurement Costs & Awards #897\n",
    "\n",
    "<b>Data source(s):</b> \n",
    "1. https://www.transit.dot.gov/funding/grants/fy23-fta-bus-and-low-and-no-emission-grant-awards\n",
    "2. https://storymaps.arcgis.com/stories/022abf31cedd438b808ec2b827b6faff\n",
    "\n",
    "<b>Definitions:</b>  \n",
    "* <u>Grants for Buses and Bus Facilities Program:</u>\n",
    "    * 49 U.S.C. 5339(b)) makes federal resources available to states and direct recipients to replace, rehabilitate and purchase buses and related equipment and to construct bus-related facilities, including technological changes or innovations to modify low or no emission vehicles or facilities. Funding is provided through formula allocations and competitive grants. \n",
    "<br><br>\n",
    "* <u>Low or No Emission Vehicle Program:</u>\n",
    "    * 5339(c) provides funding to state and local governmental authorities for the purchase or lease of zero-emission and low-emission transit buses as well as acquisition, construction, and leasing of required supporting facilities.\n"
   ]
  },
  {
   "cell_type": "code",
   "execution_count": 1,
   "id": "1ad111b5-3933-45c4-aa3c-f12ea701e882",
   "metadata": {
    "tags": []
   },
   "outputs": [],
   "source": [
    "import pandas as pd\n",
    "import shared_utils\n",
    "import matplotlib as plt\n",
    "#set_option to increase max rows displayed to 200, to see entire df in 1 go/\n",
    "pd.set_option(\"display.max_rows\", 200)\n"
   ]
  },
  {
   "cell_type": "markdown",
   "id": "467fc38e-6313-44c7-9797-456ecd752e57",
   "metadata": {
    "tags": []
   },
   "source": [
    "## Reading in raw data from gcs"
   ]
  },
  {
   "cell_type": "code",
   "execution_count": null,
   "id": "a42530b9-806e-498b-8f82-9f123ddb087c",
   "metadata": {},
   "outputs": [],
   "source": [
    "df = pd.read_csv(\n",
    "    \"gs://calitp-analytics-data/data-analyses/bus_procurement_cost/data-analyses_bus_procurement_cost_fta_press_release_data_csv.csv\"\n",
    ")"
   ]
  },
  {
   "cell_type": "markdown",
   "id": "7f37c5d6-664c-48fd-9c32-cf7dcd3318ae",
   "metadata": {
    "jp-MarkdownHeadingCollapsed": true,
    "tags": []
   },
   "source": [
    "## Data Cleaning\n",
    "1. snake-case column name\n",
    "2. currency format funcding column (with $ and , )\n",
    "3. seperate text from # of bus col (split at '(')\n",
    "    a. trim spaces in new col\n",
    "    b. get rid of () characters in new col\n",
    "4. trim spaces in other columns?"
   ]
  },
  {
   "cell_type": "code",
   "execution_count": null,
   "id": "797069c2-1937-4b11-bc6f-f1e5eb39534a",
   "metadata": {},
   "outputs": [],
   "source": [
    "# snake case columns names via list\n",
    "new_col = [\n",
    "    \"state\",\n",
    "    \"project_sponsor\",\n",
    "    \"project_title\",\n",
    "    \"description\",\n",
    "    \"funding\",\n",
    "    \"#_of_buses\",\n",
    "    \"project_type\",\n",
    "    \"propulsion_type\",\n",
    "    \"area_served\",\n",
    "    \"congressional_districts\",\n",
    "    \"fta_region\",\n",
    "    \"bus/low-no_program\",\n",
    "]\n",
    "\n",
    "df.columns = new_col\n",
    "df.columns"
   ]
  },
  {
   "cell_type": "code",
   "execution_count": null,
   "id": "03193a06-1851-4c51-bd45-5576ff66993c",
   "metadata": {},
   "outputs": [],
   "source": [
    "# checking data type of funding col\n",
    "# checking to see if any values are not numbers\n",
    "# will need to clean up this col\n",
    "display(df[\"funding\"].dtype,\n",
    "        df.funding.value_counts()\n",
    "       )"
   ]
  },
  {
   "cell_type": "code",
   "execution_count": null,
   "id": "7efb6ebf-474a-4c58-8052-a7427e881649",
   "metadata": {},
   "outputs": [],
   "source": [
    "#clean up funding column. removing $ and , and making column as int64\n",
    "df['funding']=df['funding'].str.replace('$','')\n",
    "df['funding']=df['funding'].str.replace(',','')\n",
    "df['funding'] = df['funding'].astype('int64')"
   ]
  },
  {
   "cell_type": "code",
   "execution_count": null,
   "id": "2316c492-d1c5-43fd-abb8-d9a0c510f49e",
   "metadata": {},
   "outputs": [],
   "source": [
    "#checking to see if str.replace worked.\n",
    "display(df[\"funding\"].dtype,\n",
    "        df.head()\n",
    "       )"
   ]
  },
  {
   "cell_type": "code",
   "execution_count": null,
   "id": "1fb94754-e795-4e78-8a91-2732566a1792",
   "metadata": {},
   "outputs": [],
   "source": [
    "# test of removing the spaces first in # of bus colum, THEN split by (\n",
    "df[\"#_of_buses\"] = df[\"#_of_buses\"].str.replace(\" \", \"\")"
   ]
  },
  {
   "cell_type": "code",
   "execution_count": null,
   "id": "f1203ac6-0247-47f8-9f96-0cac2129556d",
   "metadata": {},
   "outputs": [],
   "source": [
    "#spaces removed, and zeros are kept\n",
    "df['#_of_buses'].value_counts()"
   ]
  },
  {
   "cell_type": "code",
   "execution_count": null,
   "id": "1e682fca-2f4b-4459-a46e-fccce29f2650",
   "metadata": {},
   "outputs": [],
   "source": [
    "#spliting the # of buses column into 2, using the ( char as the delimiter\n",
    "df[[\"bus_count\", \"bus_desc\"]] = df[\"#_of_buses\"].str.split(pat=\"(\", n=1, expand=True)"
   ]
  },
  {
   "cell_type": "code",
   "execution_count": null,
   "id": "156b81ec-4807-4226-97cf-cd36dc39dfd4",
   "metadata": {},
   "outputs": [],
   "source": [
    "#checking col. retained the initial col. and added new columns to the end.\n",
    "df.columns"
   ]
  },
  {
   "cell_type": "code",
   "execution_count": null,
   "id": "fd20bd24-6df2-4b7d-ad92-2b52fe2c6a41",
   "metadata": {},
   "outputs": [],
   "source": [
    "# examining the new bus count col.\n",
    "#zero values remained the same\n",
    "# see there are 2 values that are inconsistent.\n",
    "df.bus_count.value_counts()"
   ]
  },
  {
   "cell_type": "code",
   "execution_count": null,
   "id": "3d3c02c1-6582-4034-b0df-596235ac35fd",
   "metadata": {},
   "outputs": [],
   "source": [
    "# function to find the row index of a specific value and column in a dataframe\n",
    "def find_loc(data, col, val):\n",
    "    x = data.loc[data[col] == val].index[0]\n",
    "    return x"
   ]
  },
  {
   "cell_type": "code",
   "execution_count": null,
   "id": "261cac0b-6427-4420-bbb2-41121574b09e",
   "metadata": {},
   "outputs": [],
   "source": [
    "loc1 = find_loc(df, \"bus_count\", \"56estimated-cutawayvans\")\n",
    "loc2 = find_loc(df, \"bus_count\", \"12batteryelectric\")"
   ]
  },
  {
   "cell_type": "code",
   "execution_count": null,
   "id": "887f3bce-9b0e-45a1-93ae-920a3584f466",
   "metadata": {},
   "outputs": [],
   "source": [
    "display(loc1, loc2)"
   ]
  },
  {
   "cell_type": "code",
   "execution_count": null,
   "id": "46065069-4d01-4f54-a132-a671d50ac9b9",
   "metadata": {},
   "outputs": [],
   "source": [
    "# editing the values of the bus count col at specific location\n",
    "#syntax, look at ## index, look at XX column\n",
    "df.loc[58, \"bus_count\"] = 56\n",
    "df.loc[32, \"bus_count\"] = 12"
   ]
  },
  {
   "cell_type": "code",
   "execution_count": null,
   "id": "8fe33276-6264-4c6e-80ec-530f315e79ce",
   "metadata": {},
   "outputs": [],
   "source": [
    "# updating values again for bus_desc. same location\n",
    "df.loc[58, \"bus_desc\"] = \"estimated-cutaway vans (PM- award will not fund 68 buses)\"\n",
    "df.loc[32, \"bus_desc\"] = \"battery electric\""
   ]
  },
  {
   "cell_type": "code",
   "execution_count": null,
   "id": "28fc0972-03ae-4c56-a207-906732deb4ab",
   "metadata": {},
   "outputs": [],
   "source": [
    "# values updated as inteneded for bus count and bus desc\n",
    "display(df.loc[32], df.loc[58])"
   ]
  },
  {
   "cell_type": "code",
   "execution_count": null,
   "id": "5773714f-1df8-403d-9074-9936a47522a3",
   "metadata": {},
   "outputs": [],
   "source": [
    "# confirming via value counts that all values are valid now.\n",
    "df.bus_count.value_counts()"
   ]
  },
  {
   "cell_type": "code",
   "execution_count": null,
   "id": "09750ef1-1eba-4561-b5ad-b05f2a3b5875",
   "metadata": {},
   "outputs": [],
   "source": [
    "# clearning the bus desc col.\n",
    "# removing the )\n",
    "df[\"bus_desc\"] = df[\"bus_desc\"].str.replace(\")\", \"\")"
   ]
  },
  {
   "cell_type": "code",
   "execution_count": null,
   "id": "e298fe1d-ab31-4cae-aa18-309d349b4b78",
   "metadata": {},
   "outputs": [],
   "source": [
    "df[\"bus_desc\"].unique()"
   ]
  },
  {
   "cell_type": "code",
   "execution_count": null,
   "id": "03f52229-29ad-4551-aa70-a9d53124d61e",
   "metadata": {},
   "outputs": [],
   "source": [
    "# stripping the values in the bus desc col\n",
    "df[\"bus_desc\"] = df[\"bus_desc\"].str.strip()"
   ]
  },
  {
   "cell_type": "code",
   "execution_count": null,
   "id": "9202f2a1-f309-4b86-8602-6989fe4c577a",
   "metadata": {},
   "outputs": [],
   "source": [
    "df.bus_desc.unique()"
   ]
  },
  {
   "cell_type": "code",
   "execution_count": null,
   "id": "bba62d67-35ab-4334-898b-f7581b40c574",
   "metadata": {},
   "outputs": [],
   "source": [
    "# creating a dictionary to add spaces back to the values\n",
    "new_dict = {\n",
    "    \"beb\": \"BEB\",\n",
    "    \"estimated-CNGbuses\": \"estimated-CNG buses\",\n",
    "    \"cngbuses\": \"CNG buses\",\n",
    "    \"BEBs\": \"BEB\",\n",
    "    \"Electric\\n16(Hybrid\": \"15 electic, 16 hybrid\",\n",
    "    \"FuelCellElectric\": \"fuel cell electric\",\n",
    "    \"FuelCell\": \"fuel cell\",\n",
    "    \"lowemissionCNG\": \"low emission CNG\",\n",
    "    \"cng\": \"CNG\",\n",
    "    \"BEBsparatransitbuses\": \"BEBs paratransit buses\",\n",
    "    \"hybridelectric\": \"hybrid electric\",\n",
    "    \"zeroemissionbuses\": \"zero emission buses\",\n",
    "    \"dieselelectrichybrids\": \"diesel electric hybrids\",\n",
    "    \"hydrogenfuelcell\": \"hydrogen fuel cell\",\n",
    "    \"2BEBsand4HydrogenFuelCellBuses\": \"2 BEBs and 4 hydrogen fuel cell buses\",\n",
    "    \"4fuelcell/3CNG\": \"4 fuel cell / 3 CNG\",\n",
    "    \"hybridelectricbuses\": \"hybrid electric buses\",\n",
    "    \"CNGfueled\": \"CNG fueled\",\n",
    "    \"zeroemissionelectric\": \"zero emission electric\",\n",
    "    \"hybridelectrics\": \"hybrid electrics\",\n",
    "    \"dieselandgas\": \"diesel and gas\",\n",
    "    \"diesel-electrichybrids\": \"diesel-electric hybrids\",\n",
    "    \"propanebuses\": \"propane buses\",\n",
    "    \"1:CNGbus;2cutawayCNGbuses\": \"1:CNGbus ;2 cutaway CNG buses\",\n",
    "    \"zeroemission\": \"zero emission\",\n",
    "    \"propanedpoweredvehicles\": \"propaned powered vehicles\"\n",
    "}"
   ]
  },
  {
   "cell_type": "code",
   "execution_count": null,
   "id": "c883651a-7959-40ec-8bfe-2935f7f8e312",
   "metadata": {},
   "outputs": [],
   "source": [
    "#using new dictionary to replace values in the bus desc col\n",
    "df.replace({'bus_desc': new_dict}, inplace=True)"
   ]
  },
  {
   "cell_type": "code",
   "execution_count": null,
   "id": "3bf65796-704b-4309-853e-08c9d1159bee",
   "metadata": {},
   "outputs": [],
   "source": [
    "#confirming the bus desc values were replaced as indeded.\n",
    "list(df.bus_desc.unique())"
   ]
  },
  {
   "cell_type": "code",
   "execution_count": null,
   "id": "7a4d910e-af55-46b0-a92c-aa52e1a892e8",
   "metadata": {},
   "outputs": [],
   "source": [
    "#bus count for row 12 needs to be adjusted to 31 instead of 15\n",
    "df.loc[12, \"bus_count\"] = 31"
   ]
  },
  {
   "cell_type": "code",
   "execution_count": null,
   "id": "edfd4b23-e384-47a1-bb7b-461fd04c2d32",
   "metadata": {},
   "outputs": [],
   "source": [
    "#confirming the change\n",
    "df.loc[12]"
   ]
  },
  {
   "cell_type": "code",
   "execution_count": null,
   "id": "ca77c135-1168-489e-802e-402c614bbb77",
   "metadata": {},
   "outputs": [],
   "source": [
    "#using str.lower() on project type \n",
    "df['project_type'] = df['project_type'].str.lower()"
   ]
  },
  {
   "cell_type": "code",
   "execution_count": null,
   "id": "3d9e2fe8-1f28-4d14-8a6d-f286a4641b2d",
   "metadata": {},
   "outputs": [],
   "source": [
    "#using str.lower() on project type \n",
    "df['project_type'] = df['project_type'].str.replace(' ','')"
   ]
  },
  {
   "cell_type": "code",
   "execution_count": null,
   "id": "cd50c69d-5fad-4a9b-b88a-87d0191778fe",
   "metadata": {},
   "outputs": [],
   "source": [
    "#confirming lower and replace worked as intended\n",
    "list(df['project_type'].sort_values(ascending=True).unique())"
   ]
  },
  {
   "cell_type": "code",
   "execution_count": null,
   "id": "2014394c-33d9-44e9-b162-ab21988d9e8d",
   "metadata": {},
   "outputs": [],
   "source": [
    "#some values still need to get adjusted. will use a short dictionary to fix\n",
    "new_type={'\\tbus/facility':'bus/facility',\n",
    "          'bus/facilitiy':'bus/facility',\n",
    "          'facilities':'facility',\n",
    "}"
   ]
  },
  {
   "cell_type": "code",
   "execution_count": null,
   "id": "a6b0eeb6-cb94-4bb8-82ac-ba3c3763a3aa",
   "metadata": {},
   "outputs": [],
   "source": [
    "#using replace() with the dictionary to replace keys in project type col\n",
    "#syntax df.replace({'bus_desc': new_dict}, inplace=True)\n",
    "df.replace({'project_type': new_type}, inplace=True)"
   ]
  },
  {
   "cell_type": "code",
   "execution_count": null,
   "id": "7bb2161f-c0c6-43c8-a2b5-4643eea6f2a6",
   "metadata": {},
   "outputs": [],
   "source": [
    "#double checking to ensure dictionary reaplce works.\n",
    "list(df['project_type'].sort_values(ascending=True).unique())"
   ]
  },
  {
   "cell_type": "markdown",
   "id": "9a83f537-ccff-44c2-8b41-82b2c88b9ccd",
   "metadata": {
    "jp-MarkdownHeadingCollapsed": true,
    "tags": []
   },
   "source": [
    "## Exporting cleaned data to GCS"
   ]
  },
  {
   "cell_type": "code",
   "execution_count": null,
   "id": "609a3659-8bf2-4412-aabc-d6ea956c3bbe",
   "metadata": {},
   "outputs": [],
   "source": [
    "#saving to GCS as csv\n",
    "df.to_csv('gs://calitp-analytics-data/data-analyses/bus_procurement_cost/fta_bus_cost_clean.csv')"
   ]
  },
  {
   "cell_type": "markdown",
   "id": "8a04ee87-fba7-46df-ac67-44956fa82c7c",
   "metadata": {
    "tags": []
   },
   "source": [
    "## Reading in cleaned data from GCS"
   ]
  },
  {
   "cell_type": "code",
   "execution_count": 2,
   "id": "0886453f-e9d5-46d8-9987-3365137137b2",
   "metadata": {},
   "outputs": [],
   "source": [
    "bus_cost = pd.read_csv('gs://calitp-analytics-data/data-analyses/bus_procurement_cost/fta_bus_cost_clean.csv')"
   ]
  },
  {
   "cell_type": "code",
   "execution_count": null,
   "id": "8a4e9841-79f5-41e1-9c53-3def3d802bd9",
   "metadata": {},
   "outputs": [],
   "source": [
    "#confirming cleaned data shows as expected.\n",
    "display(bus_cost.shape,\n",
    "        type(bus_cost),\n",
    "    bus_cost.columns\n",
    "       )"
   ]
  },
  {
   "cell_type": "code",
   "execution_count": 3,
   "id": "7a2c32a7-4cd0-4755-8a04-2db5638cdcbb",
   "metadata": {},
   "outputs": [],
   "source": [
    "#drop unnessary columns\n",
    "bus_cost = bus_cost.drop(['Unnamed: 0', 'congressional_districts'], axis=1)"
   ]
  },
  {
   "cell_type": "code",
   "execution_count": 4,
   "id": "58a92ab0-8f13-4462-989a-e1c9105ff414",
   "metadata": {},
   "outputs": [
    {
     "data": {
      "text/plain": [
       "(130, 13)"
      ]
     },
     "metadata": {},
     "output_type": "display_data"
    },
    {
     "data": {
      "text/plain": [
       "Index(['state', 'project_sponsor', 'project_title', 'description', 'funding',\n",
       "       '#_of_buses', 'project_type', 'propulsion_type', 'area_served',\n",
       "       'fta_region', 'bus/low-no_program', 'bus_count', 'bus_desc'],\n",
       "      dtype='object')"
      ]
     },
     "metadata": {},
     "output_type": "display_data"
    }
   ],
   "source": [
    "#confirming columns dropped as intended.\n",
    "#less columns(14 to 12)\n",
    "display(bus_cost.shape,\n",
    "        bus_cost.columns)"
   ]
  },
  {
   "cell_type": "markdown",
   "id": "299d75c2-2f1a-4a7d-a1ee-87271a1f9e4b",
   "metadata": {
    "tags": []
   },
   "source": [
    "## Initial Data Analysis"
   ]
  },
  {
   "cell_type": "markdown",
   "id": "c4f9c488-8306-4eb3-bac0-40c75ac1dfed",
   "metadata": {
    "tags": []
   },
   "source": [
    "### Summary Stats"
   ]
  },
  {
   "cell_type": "code",
   "execution_count": 5,
   "id": "76e7e2f6-47c8-4423-a9b3-2f02ee06fb9f",
   "metadata": {},
   "outputs": [
    {
     "data": {
      "text/plain": [
       "project_title           130\n",
       "funding          1689864104\n",
       "bus_count              1713\n",
       "dtype: int64"
      ]
     },
     "execution_count": 5,
     "metadata": {},
     "output_type": "execute_result"
    }
   ],
   "source": [
    "#top level alanysis\n",
    "\n",
    "bus_cost.agg({'project_title':'count',\n",
    "              'funding':'sum',\n",
    "              'bus_count':'sum'}\n",
    "              )"
   ]
  },
  {
   "cell_type": "code",
   "execution_count": 7,
   "id": "a1c0bdc5-9b63-40bd-94b7-2aa04b9bc70a",
   "metadata": {},
   "outputs": [
    {
     "data": {
      "text/html": [
       "<div>\n",
       "<style scoped>\n",
       "    .dataframe tbody tr th:only-of-type {\n",
       "        vertical-align: middle;\n",
       "    }\n",
       "\n",
       "    .dataframe tbody tr th {\n",
       "        vertical-align: top;\n",
       "    }\n",
       "\n",
       "    .dataframe thead th {\n",
       "        text-align: right;\n",
       "    }\n",
       "</style>\n",
       "<table border=\"1\" class=\"dataframe\">\n",
       "  <thead>\n",
       "    <tr style=\"text-align: right;\">\n",
       "      <th></th>\n",
       "      <th>project_type</th>\n",
       "      <th>funding</th>\n",
       "      <th>bus_count</th>\n",
       "    </tr>\n",
       "    <tr>\n",
       "      <th>project_type</th>\n",
       "      <th></th>\n",
       "      <th></th>\n",
       "      <th></th>\n",
       "    </tr>\n",
       "  </thead>\n",
       "  <tbody>\n",
       "    <tr>\n",
       "      <th>bus</th>\n",
       "      <td>40</td>\n",
       "      <td>365965433</td>\n",
       "      <td>790</td>\n",
       "    </tr>\n",
       "    <tr>\n",
       "      <th>bus/chargers</th>\n",
       "      <td>17</td>\n",
       "      <td>293683619</td>\n",
       "      <td>301</td>\n",
       "    </tr>\n",
       "    <tr>\n",
       "      <th>bus/chargers/equipment</th>\n",
       "      <td>5</td>\n",
       "      <td>162489938</td>\n",
       "      <td>152</td>\n",
       "    </tr>\n",
       "    <tr>\n",
       "      <th>bus/chargers/other</th>\n",
       "      <td>1</td>\n",
       "      <td>23984700</td>\n",
       "      <td>13</td>\n",
       "    </tr>\n",
       "    <tr>\n",
       "      <th>bus/equipment</th>\n",
       "      <td>6</td>\n",
       "      <td>36072694</td>\n",
       "      <td>50</td>\n",
       "    </tr>\n",
       "    <tr>\n",
       "      <th>bus/facility</th>\n",
       "      <td>13</td>\n",
       "      <td>158193428</td>\n",
       "      <td>210</td>\n",
       "    </tr>\n",
       "    <tr>\n",
       "      <th>bus/facility/chargers</th>\n",
       "      <td>9</td>\n",
       "      <td>193377901</td>\n",
       "      <td>98</td>\n",
       "    </tr>\n",
       "    <tr>\n",
       "      <th>bus/facility/chargers/equipment</th>\n",
       "      <td>1</td>\n",
       "      <td>16166822</td>\n",
       "      <td>31</td>\n",
       "    </tr>\n",
       "    <tr>\n",
       "      <th>bus/facility/equipment</th>\n",
       "      <td>2</td>\n",
       "      <td>24261170</td>\n",
       "      <td>20</td>\n",
       "    </tr>\n",
       "    <tr>\n",
       "      <th>bus/facility/equipment/other</th>\n",
       "      <td>1</td>\n",
       "      <td>514002</td>\n",
       "      <td>2</td>\n",
       "    </tr>\n",
       "    <tr>\n",
       "      <th>bus/facility/other</th>\n",
       "      <td>1</td>\n",
       "      <td>11570906</td>\n",
       "      <td>42</td>\n",
       "    </tr>\n",
       "    <tr>\n",
       "      <th>bus/other</th>\n",
       "      <td>1</td>\n",
       "      <td>945178</td>\n",
       "      <td>4</td>\n",
       "    </tr>\n",
       "    <tr>\n",
       "      <th>chargers</th>\n",
       "      <td>2</td>\n",
       "      <td>33773378</td>\n",
       "      <td>0</td>\n",
       "    </tr>\n",
       "    <tr>\n",
       "      <th>chargers/equipment</th>\n",
       "      <td>1</td>\n",
       "      <td>2162886</td>\n",
       "      <td>0</td>\n",
       "    </tr>\n",
       "    <tr>\n",
       "      <th>facility</th>\n",
       "      <td>25</td>\n",
       "      <td>275046132</td>\n",
       "      <td>0</td>\n",
       "    </tr>\n",
       "    <tr>\n",
       "      <th>facility/chargers</th>\n",
       "      <td>3</td>\n",
       "      <td>80207000</td>\n",
       "      <td>0</td>\n",
       "    </tr>\n",
       "    <tr>\n",
       "      <th>facility/chargers/equipment</th>\n",
       "      <td>1</td>\n",
       "      <td>8122850</td>\n",
       "      <td>0</td>\n",
       "    </tr>\n",
       "    <tr>\n",
       "      <th>facility/equipment</th>\n",
       "      <td>1</td>\n",
       "      <td>3326067</td>\n",
       "      <td>0</td>\n",
       "    </tr>\n",
       "  </tbody>\n",
       "</table>\n",
       "</div>"
      ],
      "text/plain": [
       "                                 project_type    funding  bus_count\n",
       "project_type                                                       \n",
       "bus                                        40  365965433        790\n",
       "bus/chargers                               17  293683619        301\n",
       "bus/chargers/equipment                      5  162489938        152\n",
       "bus/chargers/other                          1   23984700         13\n",
       "bus/equipment                               6   36072694         50\n",
       "bus/facility                               13  158193428        210\n",
       "bus/facility/chargers                       9  193377901         98\n",
       "bus/facility/chargers/equipment             1   16166822         31\n",
       "bus/facility/equipment                      2   24261170         20\n",
       "bus/facility/equipment/other                1     514002          2\n",
       "bus/facility/other                          1   11570906         42\n",
       "bus/other                                   1     945178          4\n",
       "chargers                                    2   33773378          0\n",
       "chargers/equipment                          1    2162886          0\n",
       "facility                                   25  275046132          0\n",
       "facility/chargers                           3   80207000          0\n",
       "facility/chargers/equipment                 1    8122850          0\n",
       "facility/equipment                          1    3326067          0"
      ]
     },
     "execution_count": 7,
     "metadata": {},
     "output_type": "execute_result"
    }
   ],
   "source": [
    "#start of agg. by project_type\n",
    "\n",
    "bus_cost.groupby('project_type').agg({\n",
    "    'project_type': 'count',\n",
    "    'funding': 'sum',\n",
    "    'bus_count':'sum'\n",
    "})"
   ]
  },
  {
   "cell_type": "code",
   "execution_count": 9,
   "id": "f036cf52-fcc7-4f43-b11a-79a75515efc3",
   "metadata": {},
   "outputs": [
    {
     "data": {
      "text/html": [
       "<div>\n",
       "<style scoped>\n",
       "    .dataframe tbody tr th:only-of-type {\n",
       "        vertical-align: middle;\n",
       "    }\n",
       "\n",
       "    .dataframe tbody tr th {\n",
       "        vertical-align: top;\n",
       "    }\n",
       "\n",
       "    .dataframe thead th {\n",
       "        text-align: right;\n",
       "    }\n",
       "</style>\n",
       "<table border=\"1\" class=\"dataframe\">\n",
       "  <thead>\n",
       "    <tr style=\"text-align: right;\">\n",
       "      <th></th>\n",
       "      <th>project_type</th>\n",
       "      <th>funding</th>\n",
       "      <th>bus_count</th>\n",
       "    </tr>\n",
       "    <tr>\n",
       "      <th>bus/low-no_program</th>\n",
       "      <th></th>\n",
       "      <th></th>\n",
       "      <th></th>\n",
       "    </tr>\n",
       "  </thead>\n",
       "  <tbody>\n",
       "    <tr>\n",
       "      <th>Bus</th>\n",
       "      <td>47</td>\n",
       "      <td>472922707</td>\n",
       "      <td>519</td>\n",
       "    </tr>\n",
       "    <tr>\n",
       "      <th>Low-No</th>\n",
       "      <td>83</td>\n",
       "      <td>1216941397</td>\n",
       "      <td>1194</td>\n",
       "    </tr>\n",
       "  </tbody>\n",
       "</table>\n",
       "</div>"
      ],
      "text/plain": [
       "                    project_type     funding  bus_count\n",
       "bus/low-no_program                                     \n",
       "Bus                           47   472922707        519\n",
       "Low-No                        83  1216941397       1194"
      ]
     },
     "execution_count": 9,
     "metadata": {},
     "output_type": "execute_result"
    }
   ],
   "source": [
    "#agg by program\n",
    "\n",
    "bus_cost.groupby('bus/low-no_program').agg({\n",
    "    'project_type': 'count',\n",
    "    'funding': 'sum',\n",
    "    'bus_count':'sum'\n",
    "})"
   ]
  },
  {
   "cell_type": "code",
   "execution_count": 10,
   "id": "228da8c2-9b22-4d1c-9259-4417e9374309",
   "metadata": {},
   "outputs": [
    {
     "data": {
      "text/html": [
       "<div>\n",
       "<style scoped>\n",
       "    .dataframe tbody tr th:only-of-type {\n",
       "        vertical-align: middle;\n",
       "    }\n",
       "\n",
       "    .dataframe tbody tr th {\n",
       "        vertical-align: top;\n",
       "    }\n",
       "\n",
       "    .dataframe thead th {\n",
       "        text-align: right;\n",
       "    }\n",
       "</style>\n",
       "<table border=\"1\" class=\"dataframe\">\n",
       "  <thead>\n",
       "    <tr style=\"text-align: right;\">\n",
       "      <th></th>\n",
       "      <th>project_type</th>\n",
       "      <th>funding</th>\n",
       "      <th>bus_count</th>\n",
       "    </tr>\n",
       "    <tr>\n",
       "      <th>state</th>\n",
       "      <th></th>\n",
       "      <th></th>\n",
       "      <th></th>\n",
       "    </tr>\n",
       "  </thead>\n",
       "  <tbody>\n",
       "    <tr>\n",
       "      <th>TX</th>\n",
       "      <td>10</td>\n",
       "      <td>183877334</td>\n",
       "      <td>235</td>\n",
       "    </tr>\n",
       "    <tr>\n",
       "      <th>CA</th>\n",
       "      <td>14</td>\n",
       "      <td>181406277</td>\n",
       "      <td>124</td>\n",
       "    </tr>\n",
       "    <tr>\n",
       "      <th>DC</th>\n",
       "      <td>1</td>\n",
       "      <td>104000000</td>\n",
       "      <td>100</td>\n",
       "    </tr>\n",
       "    <tr>\n",
       "      <th>OH</th>\n",
       "      <td>5</td>\n",
       "      <td>85752662</td>\n",
       "      <td>85</td>\n",
       "    </tr>\n",
       "    <tr>\n",
       "      <th>PA</th>\n",
       "      <td>1</td>\n",
       "      <td>80000000</td>\n",
       "      <td>0</td>\n",
       "    </tr>\n",
       "    <tr>\n",
       "      <th>LA</th>\n",
       "      <td>1</td>\n",
       "      <td>71439261</td>\n",
       "      <td>20</td>\n",
       "    </tr>\n",
       "    <tr>\n",
       "      <th>VA</th>\n",
       "      <td>4</td>\n",
       "      <td>67555620</td>\n",
       "      <td>89</td>\n",
       "    </tr>\n",
       "    <tr>\n",
       "      <th>WA</th>\n",
       "      <td>5</td>\n",
       "      <td>59027499</td>\n",
       "      <td>50</td>\n",
       "    </tr>\n",
       "    <tr>\n",
       "      <th>AZ</th>\n",
       "      <td>3</td>\n",
       "      <td>51144259</td>\n",
       "      <td>59</td>\n",
       "    </tr>\n",
       "    <tr>\n",
       "      <th>SC</th>\n",
       "      <td>3</td>\n",
       "      <td>47671940</td>\n",
       "      <td>171</td>\n",
       "    </tr>\n",
       "    <tr>\n",
       "      <th>NJ</th>\n",
       "      <td>1</td>\n",
       "      <td>47000000</td>\n",
       "      <td>0</td>\n",
       "    </tr>\n",
       "    <tr>\n",
       "      <th>NC</th>\n",
       "      <td>8</td>\n",
       "      <td>44597288</td>\n",
       "      <td>38</td>\n",
       "    </tr>\n",
       "    <tr>\n",
       "      <th>IA</th>\n",
       "      <td>3</td>\n",
       "      <td>43493328</td>\n",
       "      <td>19</td>\n",
       "    </tr>\n",
       "    <tr>\n",
       "      <th>NY</th>\n",
       "      <td>3</td>\n",
       "      <td>40830568</td>\n",
       "      <td>20</td>\n",
       "    </tr>\n",
       "    <tr>\n",
       "      <th>MD</th>\n",
       "      <td>1</td>\n",
       "      <td>39863156</td>\n",
       "      <td>35</td>\n",
       "    </tr>\n",
       "    <tr>\n",
       "      <th>MT</th>\n",
       "      <td>1</td>\n",
       "      <td>39142124</td>\n",
       "      <td>0</td>\n",
       "    </tr>\n",
       "    <tr>\n",
       "      <th>WI</th>\n",
       "      <td>2</td>\n",
       "      <td>38616024</td>\n",
       "      <td>17</td>\n",
       "    </tr>\n",
       "    <tr>\n",
       "      <th>IL</th>\n",
       "      <td>5</td>\n",
       "      <td>36709423</td>\n",
       "      <td>200</td>\n",
       "    </tr>\n",
       "    <tr>\n",
       "      <th>FL</th>\n",
       "      <td>2</td>\n",
       "      <td>36537615</td>\n",
       "      <td>39</td>\n",
       "    </tr>\n",
       "    <tr>\n",
       "      <th>MA</th>\n",
       "      <td>4</td>\n",
       "      <td>31326779</td>\n",
       "      <td>32</td>\n",
       "    </tr>\n",
       "    <tr>\n",
       "      <th>IN</th>\n",
       "      <td>3</td>\n",
       "      <td>27918761</td>\n",
       "      <td>27</td>\n",
       "    </tr>\n",
       "    <tr>\n",
       "      <th>MN</th>\n",
       "      <td>4</td>\n",
       "      <td>27153041</td>\n",
       "      <td>23</td>\n",
       "    </tr>\n",
       "    <tr>\n",
       "      <th>CT</th>\n",
       "      <td>1</td>\n",
       "      <td>26437120</td>\n",
       "      <td>20</td>\n",
       "    </tr>\n",
       "    <tr>\n",
       "      <th>NM</th>\n",
       "      <td>3</td>\n",
       "      <td>26270968</td>\n",
       "      <td>23</td>\n",
       "    </tr>\n",
       "    <tr>\n",
       "      <th>UT</th>\n",
       "      <td>2</td>\n",
       "      <td>24448536</td>\n",
       "      <td>25</td>\n",
       "    </tr>\n",
       "    <tr>\n",
       "      <th>VT</th>\n",
       "      <td>1</td>\n",
       "      <td>22469312</td>\n",
       "      <td>17</td>\n",
       "    </tr>\n",
       "    <tr>\n",
       "      <th>GA</th>\n",
       "      <td>1</td>\n",
       "      <td>22286745</td>\n",
       "      <td>18</td>\n",
       "    </tr>\n",
       "    <tr>\n",
       "      <th>HI</th>\n",
       "      <td>1</td>\n",
       "      <td>20000000</td>\n",
       "      <td>7</td>\n",
       "    </tr>\n",
       "    <tr>\n",
       "      <th>OK</th>\n",
       "      <td>5</td>\n",
       "      <td>17762946</td>\n",
       "      <td>24</td>\n",
       "    </tr>\n",
       "    <tr>\n",
       "      <th>MI</th>\n",
       "      <td>3</td>\n",
       "      <td>17411182</td>\n",
       "      <td>13</td>\n",
       "    </tr>\n",
       "    <tr>\n",
       "      <th>OR</th>\n",
       "      <td>4</td>\n",
       "      <td>17129662</td>\n",
       "      <td>22</td>\n",
       "    </tr>\n",
       "    <tr>\n",
       "      <th>NV</th>\n",
       "      <td>2</td>\n",
       "      <td>12184606</td>\n",
       "      <td>10</td>\n",
       "    </tr>\n",
       "    <tr>\n",
       "      <th>KY</th>\n",
       "      <td>1</td>\n",
       "      <td>11570906</td>\n",
       "      <td>42</td>\n",
       "    </tr>\n",
       "    <tr>\n",
       "      <th>MO</th>\n",
       "      <td>1</td>\n",
       "      <td>10388000</td>\n",
       "      <td>0</td>\n",
       "    </tr>\n",
       "    <tr>\n",
       "      <th>PR</th>\n",
       "      <td>1</td>\n",
       "      <td>10000000</td>\n",
       "      <td>8</td>\n",
       "    </tr>\n",
       "    <tr>\n",
       "      <th>DE</th>\n",
       "      <td>1</td>\n",
       "      <td>8740728</td>\n",
       "      <td>6</td>\n",
       "    </tr>\n",
       "    <tr>\n",
       "      <th>TN</th>\n",
       "      <td>2</td>\n",
       "      <td>8645000</td>\n",
       "      <td>0</td>\n",
       "    </tr>\n",
       "    <tr>\n",
       "      <th>MS</th>\n",
       "      <td>2</td>\n",
       "      <td>8215325</td>\n",
       "      <td>16</td>\n",
       "    </tr>\n",
       "    <tr>\n",
       "      <th>AL</th>\n",
       "      <td>1</td>\n",
       "      <td>8122850</td>\n",
       "      <td>0</td>\n",
       "    </tr>\n",
       "    <tr>\n",
       "      <th>CO</th>\n",
       "      <td>6</td>\n",
       "      <td>8000485</td>\n",
       "      <td>16</td>\n",
       "    </tr>\n",
       "    <tr>\n",
       "      <th>ME</th>\n",
       "      <td>1</td>\n",
       "      <td>7852320</td>\n",
       "      <td>0</td>\n",
       "    </tr>\n",
       "    <tr>\n",
       "      <th>KS</th>\n",
       "      <td>1</td>\n",
       "      <td>7305526</td>\n",
       "      <td>11</td>\n",
       "    </tr>\n",
       "    <tr>\n",
       "      <th>RI</th>\n",
       "      <td>1</td>\n",
       "      <td>5000000</td>\n",
       "      <td>25</td>\n",
       "    </tr>\n",
       "    <tr>\n",
       "      <th>SD</th>\n",
       "      <td>3</td>\n",
       "      <td>2603378</td>\n",
       "      <td>18</td>\n",
       "    </tr>\n",
       "    <tr>\n",
       "      <th>AR</th>\n",
       "      <td>1</td>\n",
       "      <td>1010372</td>\n",
       "      <td>5</td>\n",
       "    </tr>\n",
       "    <tr>\n",
       "      <th>WY</th>\n",
       "      <td>1</td>\n",
       "      <td>945178</td>\n",
       "      <td>4</td>\n",
       "    </tr>\n",
       "  </tbody>\n",
       "</table>\n",
       "</div>"
      ],
      "text/plain": [
       "       project_type    funding  bus_count\n",
       "state                                    \n",
       "TX               10  183877334        235\n",
       "CA               14  181406277        124\n",
       "DC                1  104000000        100\n",
       "OH                5   85752662         85\n",
       "PA                1   80000000          0\n",
       "LA                1   71439261         20\n",
       "VA                4   67555620         89\n",
       "WA                5   59027499         50\n",
       "AZ                3   51144259         59\n",
       "SC                3   47671940        171\n",
       "NJ                1   47000000          0\n",
       "NC                8   44597288         38\n",
       "IA                3   43493328         19\n",
       "NY                3   40830568         20\n",
       "MD                1   39863156         35\n",
       "MT                1   39142124          0\n",
       "WI                2   38616024         17\n",
       "IL                5   36709423        200\n",
       "FL                2   36537615         39\n",
       "MA                4   31326779         32\n",
       "IN                3   27918761         27\n",
       "MN                4   27153041         23\n",
       "CT                1   26437120         20\n",
       "NM                3   26270968         23\n",
       "UT                2   24448536         25\n",
       "VT                1   22469312         17\n",
       "GA                1   22286745         18\n",
       "HI                1   20000000          7\n",
       "OK                5   17762946         24\n",
       "MI                3   17411182         13\n",
       "OR                4   17129662         22\n",
       "NV                2   12184606         10\n",
       "KY                1   11570906         42\n",
       "MO                1   10388000          0\n",
       "PR                1   10000000          8\n",
       "DE                1    8740728          6\n",
       "TN                2    8645000          0\n",
       "MS                2    8215325         16\n",
       "AL                1    8122850          0\n",
       "CO                6    8000485         16\n",
       "ME                1    7852320          0\n",
       "KS                1    7305526         11\n",
       "RI                1    5000000         25\n",
       "SD                3    2603378         18\n",
       "AR                1    1010372          5\n",
       "WY                1     945178          4"
      ]
     },
     "execution_count": 10,
     "metadata": {},
     "output_type": "execute_result"
    }
   ],
   "source": [
    "#agg by state, by funding\n",
    "bus_cost.groupby('state').agg({\n",
    "    'project_type': 'count',\n",
    "    'funding': 'sum',\n",
    "    'bus_count':'sum'\n",
    "}).sort_values(by='funding', ascending=False)"
   ]
  },
  {
   "cell_type": "markdown",
   "id": "e85e540e-0396-49b0-9f2e-64e5236e63e8",
   "metadata": {
    "tags": []
   },
   "source": [
    "### Projects with bus purchases"
   ]
  },
  {
   "cell_type": "code",
   "execution_count": 11,
   "id": "8bad1e5d-9d05-49ef-ab21-81b98d80ef75",
   "metadata": {},
   "outputs": [],
   "source": [
    "#df of only projects with a bus count\n",
    "only_bus=bus_cost[bus_cost['bus_count']>0]"
   ]
  },
  {
   "cell_type": "code",
   "execution_count": 12,
   "id": "6c5013e3-ed56-4ea6-b191-af9a8e797b4b",
   "metadata": {},
   "outputs": [
    {
     "data": {
      "text/plain": [
       "(96, 13)"
      ]
     },
     "metadata": {},
     "output_type": "display_data"
    },
    {
     "data": {
      "text/plain": [
       "Index(['state', 'project_sponsor', 'project_title', 'description', 'funding',\n",
       "       '#_of_buses', 'project_type', 'propulsion_type', 'area_served',\n",
       "       'fta_region', 'bus/low-no_program', 'bus_count', 'bus_desc'],\n",
       "      dtype='object')"
      ]
     },
     "metadata": {},
     "output_type": "display_data"
    }
   ],
   "source": [
    "display(only_bus.shape,\n",
    "        only_bus.columns)"
   ]
  },
  {
   "cell_type": "code",
   "execution_count": 35,
   "id": "e93b7fe9-49e8-475d-aa89-c085f6792978",
   "metadata": {},
   "outputs": [
    {
     "data": {
      "text/plain": [
       "zero               26\n",
       "low                22\n",
       "Low                19\n",
       "Zero               16\n",
       "Traditional         9\n",
       "Zero / Low          1\n",
       "combined            1\n",
       "zero / low          1\n",
       "low/traditional     1\n",
       "Name: propulsion_type, dtype: int64"
      ]
     },
     "execution_count": 35,
     "metadata": {},
     "output_type": "execute_result"
    }
   ],
   "source": [
    "#agg by propulsion type\n",
    "only_bus['propulsion_type'].value_counts()"
   ]
  },
  {
   "cell_type": "code",
   "execution_count": 34,
   "id": "dc7cc8c9-f81a-43c1-bb62-e8e2467358ce",
   "metadata": {},
   "outputs": [
    {
     "data": {
      "text/plain": [
       "bus                                40\n",
       "bus/chargers                       17\n",
       "bus/facility                       13\n",
       "bus/facility/chargers               8\n",
       "bus/equipment                       6\n",
       "bus/chargers/equipment              5\n",
       "bus/facility/equipment              2\n",
       "bus/chargers/other                  1\n",
       "bus/facility/chargers/equipment     1\n",
       "bus/facility/other                  1\n",
       "bus/other                           1\n",
       "bus/facility/equipment/other        1\n",
       "Name: project_type, dtype: int64"
      ]
     },
     "execution_count": 34,
     "metadata": {},
     "output_type": "execute_result"
    }
   ],
   "source": [
    "only_bus.project_type.value_counts()"
   ]
  },
  {
   "cell_type": "code",
   "execution_count": 17,
   "id": "d86ee60d-e3e8-4dea-880f-731f6ac64376",
   "metadata": {},
   "outputs": [],
   "source": [
    "#of the rows with bus_count >1, what are the project types?\n",
    "bus_agg = only_bus.groupby('project_type').agg({\n",
    "    'project_type': 'count',\n",
    "    'funding': 'sum',\n",
    "    'bus_count':'sum'\n",
    "})"
   ]
  },
  {
   "cell_type": "code",
   "execution_count": 18,
   "id": "f7afb2df-374e-4ee2-b99c-6959d2111a37",
   "metadata": {},
   "outputs": [],
   "source": [
    "#new column that calculates `cost per bus`\n",
    "bus_agg['cost_per_bus']=(bus_agg['funding']/bus_agg['bus_count']).astype('int64')"
   ]
  },
  {
   "cell_type": "code",
   "execution_count": 19,
   "id": "f8b1c63c-9763-4d24-9613-433aefd8e4bf",
   "metadata": {},
   "outputs": [
    {
     "data": {
      "text/html": [
       "<div>\n",
       "<style scoped>\n",
       "    .dataframe tbody tr th:only-of-type {\n",
       "        vertical-align: middle;\n",
       "    }\n",
       "\n",
       "    .dataframe tbody tr th {\n",
       "        vertical-align: top;\n",
       "    }\n",
       "\n",
       "    .dataframe thead th {\n",
       "        text-align: right;\n",
       "    }\n",
       "</style>\n",
       "<table border=\"1\" class=\"dataframe\">\n",
       "  <thead>\n",
       "    <tr style=\"text-align: right;\">\n",
       "      <th></th>\n",
       "      <th>project_type</th>\n",
       "      <th>funding</th>\n",
       "      <th>bus_count</th>\n",
       "      <th>cost_per_bus</th>\n",
       "    </tr>\n",
       "    <tr>\n",
       "      <th>project_type</th>\n",
       "      <th></th>\n",
       "      <th></th>\n",
       "      <th></th>\n",
       "      <th></th>\n",
       "    </tr>\n",
       "  </thead>\n",
       "  <tbody>\n",
       "    <tr>\n",
       "      <th>bus</th>\n",
       "      <td>40</td>\n",
       "      <td>365965433</td>\n",
       "      <td>790</td>\n",
       "      <td>463247</td>\n",
       "    </tr>\n",
       "    <tr>\n",
       "      <th>bus/chargers</th>\n",
       "      <td>17</td>\n",
       "      <td>293683619</td>\n",
       "      <td>301</td>\n",
       "      <td>975693</td>\n",
       "    </tr>\n",
       "    <tr>\n",
       "      <th>bus/chargers/equipment</th>\n",
       "      <td>5</td>\n",
       "      <td>162489938</td>\n",
       "      <td>152</td>\n",
       "      <td>1069012</td>\n",
       "    </tr>\n",
       "    <tr>\n",
       "      <th>bus/chargers/other</th>\n",
       "      <td>1</td>\n",
       "      <td>23984700</td>\n",
       "      <td>13</td>\n",
       "      <td>1844976</td>\n",
       "    </tr>\n",
       "    <tr>\n",
       "      <th>bus/equipment</th>\n",
       "      <td>6</td>\n",
       "      <td>36072694</td>\n",
       "      <td>50</td>\n",
       "      <td>721453</td>\n",
       "    </tr>\n",
       "    <tr>\n",
       "      <th>bus/facility</th>\n",
       "      <td>13</td>\n",
       "      <td>158193428</td>\n",
       "      <td>210</td>\n",
       "      <td>753302</td>\n",
       "    </tr>\n",
       "    <tr>\n",
       "      <th>bus/facility/chargers</th>\n",
       "      <td>8</td>\n",
       "      <td>168377901</td>\n",
       "      <td>98</td>\n",
       "      <td>1718141</td>\n",
       "    </tr>\n",
       "    <tr>\n",
       "      <th>bus/facility/chargers/equipment</th>\n",
       "      <td>1</td>\n",
       "      <td>16166822</td>\n",
       "      <td>31</td>\n",
       "      <td>521510</td>\n",
       "    </tr>\n",
       "    <tr>\n",
       "      <th>bus/facility/equipment</th>\n",
       "      <td>2</td>\n",
       "      <td>24261170</td>\n",
       "      <td>20</td>\n",
       "      <td>1213058</td>\n",
       "    </tr>\n",
       "    <tr>\n",
       "      <th>bus/facility/equipment/other</th>\n",
       "      <td>1</td>\n",
       "      <td>514002</td>\n",
       "      <td>2</td>\n",
       "      <td>257001</td>\n",
       "    </tr>\n",
       "    <tr>\n",
       "      <th>bus/facility/other</th>\n",
       "      <td>1</td>\n",
       "      <td>11570906</td>\n",
       "      <td>42</td>\n",
       "      <td>275497</td>\n",
       "    </tr>\n",
       "    <tr>\n",
       "      <th>bus/other</th>\n",
       "      <td>1</td>\n",
       "      <td>945178</td>\n",
       "      <td>4</td>\n",
       "      <td>236294</td>\n",
       "    </tr>\n",
       "  </tbody>\n",
       "</table>\n",
       "</div>"
      ],
      "text/plain": [
       "                                 project_type    funding  bus_count  \\\n",
       "project_type                                                          \n",
       "bus                                        40  365965433        790   \n",
       "bus/chargers                               17  293683619        301   \n",
       "bus/chargers/equipment                      5  162489938        152   \n",
       "bus/chargers/other                          1   23984700         13   \n",
       "bus/equipment                               6   36072694         50   \n",
       "bus/facility                               13  158193428        210   \n",
       "bus/facility/chargers                       8  168377901         98   \n",
       "bus/facility/chargers/equipment             1   16166822         31   \n",
       "bus/facility/equipment                      2   24261170         20   \n",
       "bus/facility/equipment/other                1     514002          2   \n",
       "bus/facility/other                          1   11570906         42   \n",
       "bus/other                                   1     945178          4   \n",
       "\n",
       "                                 cost_per_bus  \n",
       "project_type                                   \n",
       "bus                                    463247  \n",
       "bus/chargers                           975693  \n",
       "bus/chargers/equipment                1069012  \n",
       "bus/chargers/other                    1844976  \n",
       "bus/equipment                          721453  \n",
       "bus/facility                           753302  \n",
       "bus/facility/chargers                 1718141  \n",
       "bus/facility/chargers/equipment        521510  \n",
       "bus/facility/equipment                1213058  \n",
       "bus/facility/equipment/other           257001  \n",
       "bus/facility/other                     275497  \n",
       "bus/other                              236294  "
      ]
     },
     "execution_count": 19,
     "metadata": {},
     "output_type": "execute_result"
    }
   ],
   "source": [
    "bus_agg"
   ]
  },
  {
   "cell_type": "markdown",
   "id": "211cb7b6-8fb1-4d52-890a-7106afb981a0",
   "metadata": {
    "tags": []
   },
   "source": [
    "### Projects with no buses"
   ]
  },
  {
   "cell_type": "code",
   "execution_count": 20,
   "id": "e018dd24-4c96-4d1b-ad48-d67d706d165b",
   "metadata": {},
   "outputs": [],
   "source": [
    "no_bus=bus_cost[bus_cost['bus_count']<1]"
   ]
  },
  {
   "cell_type": "code",
   "execution_count": 22,
   "id": "c9ce24e3-5366-4cb5-9f92-4d24b50493e4",
   "metadata": {},
   "outputs": [
    {
     "data": {
      "text/plain": [
       "facility                       25\n",
       "facility/chargers               3\n",
       "chargers                        2\n",
       "bus/facility/chargers           1\n",
       "facility/chargers/equipment     1\n",
       "facility/equipment              1\n",
       "chargers/equipment              1\n",
       "Name: project_type, dtype: int64"
      ]
     },
     "execution_count": 22,
     "metadata": {},
     "output_type": "execute_result"
    }
   ],
   "source": [
    "no_bus['project_type'].value_counts()"
   ]
  },
  {
   "cell_type": "markdown",
   "id": "ac02fbbb-2a88-486f-8001-fd8156c50bfb",
   "metadata": {
    "tags": []
   },
   "source": [
    "## Overall Summary"
   ]
  },
  {
   "cell_type": "code",
   "execution_count": 26,
   "id": "6ad1b9f5-a5c7-4fee-abb2-cb74dee4ab40",
   "metadata": {
    "jupyter": {
     "source_hidden": true
    },
    "tags": []
   },
   "outputs": [],
   "source": [
    "project_count=bus_cost.project_title.count()\n",
    "fund_sum=bus_cost.funding.sum()\n",
    "bus_count_sum=bus_cost.bus_count.sum()\n",
    "overall_cost_per_bus = (fund_sum)/(bus_count_sum)\n",
    "bus_program_count=bus_cost['bus/low-no_program'].value_counts()\n",
    "\n",
    "projects_with_bus=only_bus.project_title.count()\n",
    "projects_with_bus_funds=only_bus.funding.sum()\n",
    "cost_per_bus = (only_bus.funding.sum())/(bus_count_sum)"
   ]
  },
  {
   "cell_type": "code",
   "execution_count": 32,
   "id": "7e932b1e-f5e5-4215-91b5-4c922e78062a",
   "metadata": {
    "jupyter": {
     "source_hidden": true
    },
    "tags": []
   },
   "outputs": [],
   "source": [
    "summary = f'''\n",
    "Top Level observation:\n",
    "- {project_count} projects awarded\n",
    "- ${fund_sum:,.2f} dollars awarded\n",
    "- {bus_count_sum} buses to be purchased\n",
    "- ${overall_cost_per_bus:,.2f} overall cost per bus\n",
    "\n",
    "Projects have some mix of buses, facilities and equipment. Making it difficult to disaggregate actual bus cost.\n",
    "\n",
    "Of the {project_count} projects awarded, {projects_with_bus} projects inlcuded buses. The remainder were facilities, chargers and equipment\n",
    "\n",
    "Projects with buses purchases:\n",
    "- {projects_with_bus} projects\n",
    "- ${projects_with_bus_funds:,.2f} awarded to purchases buses\n",
    "- ${cost_per_bus:,.2f} cost per bus\n",
    "'''"
   ]
  },
  {
   "cell_type": "code",
   "execution_count": 33,
   "id": "dfb95588-9083-4298-8822-460c2dad9941",
   "metadata": {
    "tags": []
   },
   "outputs": [
    {
     "name": "stdout",
     "output_type": "stream",
     "text": [
      "\n",
      "Top Level observation:\n",
      "- 130 projects awarded\n",
      "- $1,689,864,104.00 dollars awarded\n",
      "- 1713 buses to be purchased\n",
      "- $986,493.93 overall cost per bus\n",
      "\n",
      "Projects have some mix of buses, facilities and equipment. Making it difficult to disaggregate actual bus cost.\n",
      "\n",
      "Of the 130 projects awarded, 96 projects inlcuded buses. The remainder were facilities, chargers and equipment\n",
      "\n",
      "Projects with buses purchases:\n",
      "- 96 projects\n",
      "- $1,262,225,791.00 awarded to purchases buses\n",
      "- $736,851.02 cost per bus\n",
      "\n"
     ]
    }
   ],
   "source": [
    "print(summary)"
   ]
  },
  {
   "cell_type": "code",
   "execution_count": null,
   "id": "67d184c3-c6b4-4c0b-b4fb-8c1032eb0820",
   "metadata": {},
   "outputs": [],
   "source": []
  }
 ],
 "metadata": {
  "kernelspec": {
   "display_name": "Python 3 (ipykernel)",
   "language": "python",
   "name": "python3"
  },
  "language_info": {
   "codemirror_mode": {
    "name": "ipython",
    "version": 3
   },
   "file_extension": ".py",
   "mimetype": "text/x-python",
   "name": "python",
   "nbconvert_exporter": "python",
   "pygments_lexer": "ipython3",
   "version": "3.9.13"
  }
 },
 "nbformat": 4,
 "nbformat_minor": 5
}
