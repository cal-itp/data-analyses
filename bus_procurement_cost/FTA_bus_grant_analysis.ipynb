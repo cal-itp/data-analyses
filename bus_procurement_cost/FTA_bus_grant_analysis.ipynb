{
 "cells": [
  {
   "cell_type": "markdown",
   "id": "46b3c4b1-8668-49b7-a330-9bd1f092f7b9",
   "metadata": {
    "tags": []
   },
   "source": [
    "## FY23 FTA Bus and Low- and No-Emission Grant Awards Analysis\n",
    "\n",
    "<b>GH issue:</b> \n",
    "* Research Request - Bus Procurement Costs & Awards #897\n",
    "\n",
    "<b>Data source(s):</b> \n",
    "1. https://www.transit.dot.gov/funding/grants/fy23-fta-bus-and-low-and-no-emission-grant-awards\n",
    "2. https://storymaps.arcgis.com/stories/022abf31cedd438b808ec2b827b6faff\n",
    "\n",
    "<b>Definitions:</b>  \n",
    "* <u>Grants for Buses and Bus Facilities Program:</u>\n",
    "    * 49 U.S.C. 5339(b)) makes federal resources available to states and direct recipients to replace, rehabilitate and purchase buses and related equipment and to construct bus-related facilities, including technological changes or innovations to modify low or no emission vehicles or facilities. Funding is provided through formula allocations and competitive grants. \n",
    "<br><br>\n",
    "* <u>Low or No Emission Vehicle Program:</u>\n",
    "    * 5339(c) provides funding to state and local governmental authorities for the purchase or lease of zero-emission and low-emission transit buses as well as acquisition, construction, and leasing of required supporting facilities.\n"
   ]
  },
  {
   "cell_type": "code",
   "execution_count": 1,
   "id": "1ad111b5-3933-45c4-aa3c-f12ea701e882",
   "metadata": {
    "tags": []
   },
   "outputs": [],
   "source": [
    "# import shared_utils\n",
    "import matplotlib.pyplot as plt\n",
    "import numpy as np\n",
    "import pandas as pd\n",
    "from scipy import stats\n",
    "from scipy.stats import norm\n",
    "\n",
    "# set_option to increase max rows displayed to 200, to see entire df in 1 go/\n",
    "pd.set_option(\"display.max_rows\", 300)"
   ]
  },
  {
   "cell_type": "markdown",
   "id": "467fc38e-6313-44c7-9797-456ecd752e57",
   "metadata": {
    "tags": []
   },
   "source": [
    "## Reading in raw data from gcs"
   ]
  },
  {
   "cell_type": "code",
   "execution_count": 2,
   "id": "a42530b9-806e-498b-8f82-9f123ddb087c",
   "metadata": {},
   "outputs": [],
   "source": [
    "df = pd.read_csv(\n",
    "    \"gs://calitp-analytics-data/data-analyses/bus_procurement_cost/data-analyses_bus_procurement_cost_fta_press_release_data_csv.csv\"\n",
    ")"
   ]
  },
  {
   "cell_type": "markdown",
   "id": "7f37c5d6-664c-48fd-9c32-cf7dcd3318ae",
   "metadata": {
    "tags": []
   },
   "source": [
    "## Data Cleaning\n",
    "1. snake-case column names\n",
    "2. remove currency formatting from funding column (with $ and , )\n",
    "3. seperate text from # of bus col (split at '(')\n",
    "    a. trim spaces in new col\n",
    "    b. get rid of () characters in new col\n",
    "4. trim spaces in other columns\n",
    "5. exnamine column values and replace/update as needed\n",
    "6. create new columns for bus size type and prop type\n"
   ]
  },
  {
   "cell_type": "code",
   "execution_count": 3,
   "id": "7efb6ebf-474a-4c58-8052-a7427e881649",
   "metadata": {},
   "outputs": [],
   "source": [
    "# fucntions to clean up dataframe and df columns\n",
    "def snake_case(df):\n",
    "    df.columns=df.columns.str.lower()\n",
    "    df.columns=df.columns.str.replace(\" \", \"_\")\n",
    "    df.columns=df.columns.str.strip()\n",
    "\n",
    "def fund_cleaner(df,column):\n",
    "    df[column]= df[column].str.replace(\"$\", \"\")\n",
    "    df[column]= df[column].str.replace(\",\", \"\")\n",
    "    df[column]= df[column].str.strip()\n",
    "\n"
   ]
  },
  {
   "cell_type": "markdown",
   "id": "cb70936a-8d54-4ae5-b9cc-ef64ea04c8b5",
   "metadata": {
    "jp-MarkdownHeadingCollapsed": true,
    "tags": []
   },
   "source": [
    "### Dataframe cleaning"
   ]
  },
  {
   "cell_type": "code",
   "execution_count": 4,
   "id": "f55008ae-1de5-4cd3-89f2-87cd4eac17cd",
   "metadata": {},
   "outputs": [],
   "source": [
    "#snake case function to Df\n",
    "snake_case(df)"
   ]
  },
  {
   "cell_type": "markdown",
   "id": "d012306e-86ff-4351-86b3-c3a8dc3145fd",
   "metadata": {
    "tags": []
   },
   "source": [
    "### Column Cleaning"
   ]
  },
  {
   "cell_type": "markdown",
   "id": "6fb7a5e0-6649-468b-9f0e-4b36281e0db0",
   "metadata": {
    "jp-MarkdownHeadingCollapsed": true,
    "tags": []
   },
   "source": [
    "#### propulsion_type"
   ]
  },
  {
   "cell_type": "code",
   "execution_count": 5,
   "id": "9e22e6fa-857d-44c3-beec-0f83f71a6b1c",
   "metadata": {},
   "outputs": [],
   "source": [
    "#rename col to propulsion category\n",
    "df=df.rename(columns={'propulsion_type':'propulsion_category'})"
   ]
  },
  {
   "cell_type": "code",
   "execution_count": 6,
   "id": "6d7d9992-fc2c-473f-bad3-f5dbbb68731f",
   "metadata": {},
   "outputs": [],
   "source": [
    "# make values in prop_cat col lower case and remove spaces\n",
    "df[\"propulsion_category\"] = df[\"propulsion_category\"].str.lower()\n",
    "df[\"propulsion_category\"] = df[\"propulsion_category\"].str.replace(\" \", \"\")"
   ]
  },
  {
   "cell_type": "code",
   "execution_count": 7,
   "id": "b78f4274-9b4e-464b-8b59-00882853b6ea",
   "metadata": {},
   "outputs": [
    {
     "data": {
      "text/html": [
       "<div>\n",
       "<style scoped>\n",
       "    .dataframe tbody tr th:only-of-type {\n",
       "        vertical-align: middle;\n",
       "    }\n",
       "\n",
       "    .dataframe tbody tr th {\n",
       "        vertical-align: top;\n",
       "    }\n",
       "\n",
       "    .dataframe thead th {\n",
       "        text-align: right;\n",
       "    }\n",
       "</style>\n",
       "<table border=\"1\" class=\"dataframe\">\n",
       "  <thead>\n",
       "    <tr style=\"text-align: right;\">\n",
       "      <th></th>\n",
       "      <th>state</th>\n",
       "      <th>project_sponsor</th>\n",
       "      <th>project_title</th>\n",
       "      <th>description</th>\n",
       "      <th>funding</th>\n",
       "      <th>approx_#_of_buses</th>\n",
       "      <th>project_type</th>\n",
       "      <th>propulsion_category</th>\n",
       "      <th>area_served</th>\n",
       "      <th>congressional_districts</th>\n",
       "      <th>fta_region</th>\n",
       "      <th>bus/low-no_program</th>\n",
       "    </tr>\n",
       "  </thead>\n",
       "  <tbody>\n",
       "    <tr>\n",
       "      <th>0</th>\n",
       "      <td>DC</td>\n",
       "      <td>Washington Metropolitan Area Transit Authority...</td>\n",
       "      <td>Battery-Electric Metrobus Procurement and Elec...</td>\n",
       "      <td>WMATA will receive funding to convert its Cind...</td>\n",
       "      <td>$104,000,000</td>\n",
       "      <td>100(beb)</td>\n",
       "      <td>bus/chargers</td>\n",
       "      <td>zero</td>\n",
       "      <td>Large Urban</td>\n",
       "      <td>DC-001 ; MD-004 ; MD-008 ; VA-008 ; VA-011</td>\n",
       "      <td>3</td>\n",
       "      <td>Low-No</td>\n",
       "    </tr>\n",
       "    <tr>\n",
       "      <th>1</th>\n",
       "      <td>TX</td>\n",
       "      <td>Dallas Area Rapid Transit (DART)</td>\n",
       "      <td>DART CNG Bus Fleet Modernization Project</td>\n",
       "      <td>Dallas Area Rapid Transit will receive funding...</td>\n",
       "      <td>$103,000,000</td>\n",
       "      <td>90 (estimated-CNG buses)</td>\n",
       "      <td>bus</td>\n",
       "      <td>low</td>\n",
       "      <td>Large Urban</td>\n",
       "      <td>TX-003 ; TX-004 ; TX-005 ; TX-006 ; TX-024 ; T...</td>\n",
       "      <td>6</td>\n",
       "      <td>Low-No</td>\n",
       "    </tr>\n",
       "    <tr>\n",
       "      <th>2</th>\n",
       "      <td>PA</td>\n",
       "      <td>Southeastern Pennsylvania Transportation Autho...</td>\n",
       "      <td>SEPTA Zero-Emission Bus Transition Facility Sa...</td>\n",
       "      <td>The Southeastern Pennsylvania Transportation A...</td>\n",
       "      <td>$80,000,000</td>\n",
       "      <td>0</td>\n",
       "      <td>facility</td>\n",
       "      <td>zero</td>\n",
       "      <td>Large Urban</td>\n",
       "      <td>PA-002 ; PA-003 ; PA-004 ; PA-005</td>\n",
       "      <td>3</td>\n",
       "      <td>Low-No</td>\n",
       "    </tr>\n",
       "  </tbody>\n",
       "</table>\n",
       "</div>"
      ],
      "text/plain": [
       "  state                                    project_sponsor  \\\n",
       "0    DC  Washington Metropolitan Area Transit Authority...   \n",
       "1    TX                   Dallas Area Rapid Transit (DART)   \n",
       "2    PA  Southeastern Pennsylvania Transportation Autho...   \n",
       "\n",
       "                                       project_title  \\\n",
       "0  Battery-Electric Metrobus Procurement and Elec...   \n",
       "1           DART CNG Bus Fleet Modernization Project   \n",
       "2  SEPTA Zero-Emission Bus Transition Facility Sa...   \n",
       "\n",
       "                                         description        funding  \\\n",
       "0  WMATA will receive funding to convert its Cind...  $104,000,000    \n",
       "1  Dallas Area Rapid Transit will receive funding...  $103,000,000    \n",
       "2  The Southeastern Pennsylvania Transportation A...   $80,000,000    \n",
       "\n",
       "          approx_#_of_buses  project_type propulsion_category  area_served  \\\n",
       "0                  100(beb)  bus/chargers                zero  Large Urban   \n",
       "1  90 (estimated-CNG buses)           bus                 low  Large Urban   \n",
       "2                         0      facility                zero  Large Urban   \n",
       "\n",
       "                             congressional_districts  fta_region  \\\n",
       "0         DC-001 ; MD-004 ; MD-008 ; VA-008 ; VA-011           3   \n",
       "1  TX-003 ; TX-004 ; TX-005 ; TX-006 ; TX-024 ; T...           6   \n",
       "2                  PA-002 ; PA-003 ; PA-004 ; PA-005           3   \n",
       "\n",
       "  bus/low-no_program  \n",
       "0             Low-No  \n",
       "1             Low-No  \n",
       "2             Low-No  "
      ]
     },
     "execution_count": 7,
     "metadata": {},
     "output_type": "execute_result"
    }
   ],
   "source": [
    "df.head(3)"
   ]
  },
  {
   "cell_type": "markdown",
   "id": "354cb76f-f71f-4a30-8c85-aece5ac3f0d3",
   "metadata": {
    "jp-MarkdownHeadingCollapsed": true,
    "tags": []
   },
   "source": [
    "#### funding"
   ]
  },
  {
   "cell_type": "code",
   "execution_count": 8,
   "id": "ff8721be-5cbd-430f-b947-4110c397de23",
   "metadata": {},
   "outputs": [
    {
     "name": "stderr",
     "output_type": "stream",
     "text": [
      "/tmp/ipykernel_642/4154908731.py:8: FutureWarning: The default value of regex will change from True to False in a future version. In addition, single character regular expressions will *not* be treated as literal strings when regex=True.\n",
      "  df[column]= df[column].str.replace(\"$\", \"\")\n"
     ]
    }
   ],
   "source": [
    "fund_cleaner(df,'funding')"
   ]
  },
  {
   "cell_type": "code",
   "execution_count": 9,
   "id": "a40fd940-153f-4d64-96fb-568d130beb34",
   "metadata": {},
   "outputs": [],
   "source": [
    "df[\"funding\"] = df[\"funding\"].astype(\"int64\")"
   ]
  },
  {
   "cell_type": "code",
   "execution_count": 10,
   "id": "7dba2d0a-b475-4f2a-a483-2a24a777a46d",
   "metadata": {},
   "outputs": [
    {
     "data": {
      "text/plain": [
       "Index(['state', 'project_sponsor', 'project_title', 'description', 'funding',\n",
       "       'approx_#_of_buses', 'project_type', 'propulsion_category',\n",
       "       'area_served', 'congressional_districts', 'fta_region',\n",
       "       'bus/low-no_program'],\n",
       "      dtype='object')"
      ]
     },
     "execution_count": 10,
     "metadata": {},
     "output_type": "execute_result"
    }
   ],
   "source": [
    "df.columns"
   ]
  },
  {
   "cell_type": "markdown",
   "id": "7077380f-1f92-4108-bac1-77db8f79568d",
   "metadata": {
    "jp-MarkdownHeadingCollapsed": true,
    "tags": []
   },
   "source": [
    "#### approx_#_of_buses to bus_count and prop_type"
   ]
  },
  {
   "cell_type": "code",
   "execution_count": 11,
   "id": "1fb94754-e795-4e78-8a91-2732566a1792",
   "metadata": {},
   "outputs": [],
   "source": [
    "# test of removing the spaces first in # of bus colum, THEN split by (\n",
    "df[\"approx_#_of_buses\"] = df[\"approx_#_of_buses\"].str.replace(\" \", \"\")"
   ]
  },
  {
   "cell_type": "code",
   "execution_count": 12,
   "id": "1e682fca-2f4b-4459-a46e-fccce29f2650",
   "metadata": {},
   "outputs": [],
   "source": [
    "# spliting the # of buses column into 2, using the ( char as the delimiter\n",
    "df[[\"bus_count\", \"prop_type\"]] = df[\"approx_#_of_buses\"].str.split(pat=\"(\", n=1, expand=True)"
   ]
  },
  {
   "cell_type": "code",
   "execution_count": 13,
   "id": "24a5d881-bb06-4e3e-9cbf-94e0d2aae11d",
   "metadata": {},
   "outputs": [
    {
     "data": {
      "text/html": [
       "<div>\n",
       "<style scoped>\n",
       "    .dataframe tbody tr th:only-of-type {\n",
       "        vertical-align: middle;\n",
       "    }\n",
       "\n",
       "    .dataframe tbody tr th {\n",
       "        vertical-align: top;\n",
       "    }\n",
       "\n",
       "    .dataframe thead th {\n",
       "        text-align: right;\n",
       "    }\n",
       "</style>\n",
       "<table border=\"1\" class=\"dataframe\">\n",
       "  <thead>\n",
       "    <tr style=\"text-align: right;\">\n",
       "      <th></th>\n",
       "      <th>state</th>\n",
       "      <th>project_sponsor</th>\n",
       "      <th>project_title</th>\n",
       "      <th>description</th>\n",
       "      <th>funding</th>\n",
       "      <th>approx_#_of_buses</th>\n",
       "      <th>project_type</th>\n",
       "      <th>propulsion_category</th>\n",
       "      <th>area_served</th>\n",
       "      <th>congressional_districts</th>\n",
       "      <th>fta_region</th>\n",
       "      <th>bus/low-no_program</th>\n",
       "      <th>bus_count</th>\n",
       "      <th>prop_type</th>\n",
       "    </tr>\n",
       "  </thead>\n",
       "  <tbody>\n",
       "    <tr>\n",
       "      <th>0</th>\n",
       "      <td>DC</td>\n",
       "      <td>Washington Metropolitan Area Transit Authority...</td>\n",
       "      <td>Battery-Electric Metrobus Procurement and Elec...</td>\n",
       "      <td>WMATA will receive funding to convert its Cind...</td>\n",
       "      <td>104000000</td>\n",
       "      <td>100(beb)</td>\n",
       "      <td>bus/chargers</td>\n",
       "      <td>zero</td>\n",
       "      <td>Large Urban</td>\n",
       "      <td>DC-001 ; MD-004 ; MD-008 ; VA-008 ; VA-011</td>\n",
       "      <td>3</td>\n",
       "      <td>Low-No</td>\n",
       "      <td>100</td>\n",
       "      <td>beb)</td>\n",
       "    </tr>\n",
       "    <tr>\n",
       "      <th>1</th>\n",
       "      <td>TX</td>\n",
       "      <td>Dallas Area Rapid Transit (DART)</td>\n",
       "      <td>DART CNG Bus Fleet Modernization Project</td>\n",
       "      <td>Dallas Area Rapid Transit will receive funding...</td>\n",
       "      <td>103000000</td>\n",
       "      <td>90(estimated-CNGbuses)</td>\n",
       "      <td>bus</td>\n",
       "      <td>low</td>\n",
       "      <td>Large Urban</td>\n",
       "      <td>TX-003 ; TX-004 ; TX-005 ; TX-006 ; TX-024 ; T...</td>\n",
       "      <td>6</td>\n",
       "      <td>Low-No</td>\n",
       "      <td>90</td>\n",
       "      <td>estimated-CNGbuses)</td>\n",
       "    </tr>\n",
       "    <tr>\n",
       "      <th>2</th>\n",
       "      <td>PA</td>\n",
       "      <td>Southeastern Pennsylvania Transportation Autho...</td>\n",
       "      <td>SEPTA Zero-Emission Bus Transition Facility Sa...</td>\n",
       "      <td>The Southeastern Pennsylvania Transportation A...</td>\n",
       "      <td>80000000</td>\n",
       "      <td>0</td>\n",
       "      <td>facility</td>\n",
       "      <td>zero</td>\n",
       "      <td>Large Urban</td>\n",
       "      <td>PA-002 ; PA-003 ; PA-004 ; PA-005</td>\n",
       "      <td>3</td>\n",
       "      <td>Low-No</td>\n",
       "      <td>0</td>\n",
       "      <td>None</td>\n",
       "    </tr>\n",
       "  </tbody>\n",
       "</table>\n",
       "</div>"
      ],
      "text/plain": [
       "  state                                    project_sponsor  \\\n",
       "0    DC  Washington Metropolitan Area Transit Authority...   \n",
       "1    TX                   Dallas Area Rapid Transit (DART)   \n",
       "2    PA  Southeastern Pennsylvania Transportation Autho...   \n",
       "\n",
       "                                       project_title  \\\n",
       "0  Battery-Electric Metrobus Procurement and Elec...   \n",
       "1           DART CNG Bus Fleet Modernization Project   \n",
       "2  SEPTA Zero-Emission Bus Transition Facility Sa...   \n",
       "\n",
       "                                         description    funding  \\\n",
       "0  WMATA will receive funding to convert its Cind...  104000000   \n",
       "1  Dallas Area Rapid Transit will receive funding...  103000000   \n",
       "2  The Southeastern Pennsylvania Transportation A...   80000000   \n",
       "\n",
       "        approx_#_of_buses  project_type propulsion_category  area_served  \\\n",
       "0                100(beb)  bus/chargers                zero  Large Urban   \n",
       "1  90(estimated-CNGbuses)           bus                 low  Large Urban   \n",
       "2                       0      facility                zero  Large Urban   \n",
       "\n",
       "                             congressional_districts  fta_region  \\\n",
       "0         DC-001 ; MD-004 ; MD-008 ; VA-008 ; VA-011           3   \n",
       "1  TX-003 ; TX-004 ; TX-005 ; TX-006 ; TX-024 ; T...           6   \n",
       "2                  PA-002 ; PA-003 ; PA-004 ; PA-005           3   \n",
       "\n",
       "  bus/low-no_program bus_count            prop_type  \n",
       "0             Low-No       100                 beb)  \n",
       "1             Low-No        90  estimated-CNGbuses)  \n",
       "2             Low-No         0                 None  "
      ]
     },
     "execution_count": 13,
     "metadata": {},
     "output_type": "execute_result"
    }
   ],
   "source": [
    "df.head(3)"
   ]
  },
  {
   "cell_type": "markdown",
   "id": "7a6e2c90-9da1-4cfb-8032-397baa74579a",
   "metadata": {
    "jp-MarkdownHeadingCollapsed": true,
    "tags": []
   },
   "source": [
    "#### bus_count"
   ]
  },
  {
   "cell_type": "code",
   "execution_count": 14,
   "id": "3d3c02c1-6582-4034-b0df-596235ac35fd",
   "metadata": {},
   "outputs": [],
   "source": [
    "# function to find the row index of a specific value and column in a dataframe\n",
    "def find_loc(data, col, val):\n",
    "    x = data.loc[data[col] == val].index[0]\n",
    "    return x"
   ]
  },
  {
   "cell_type": "code",
   "execution_count": 15,
   "id": "261cac0b-6427-4420-bbb2-41121574b09e",
   "metadata": {},
   "outputs": [],
   "source": [
    "loc1 = find_loc(df, \"bus_count\", \"56estimated-cutawayvans\")\n",
    "loc2 = find_loc(df, \"bus_count\", \"12batteryelectric\")"
   ]
  },
  {
   "cell_type": "code",
   "execution_count": 16,
   "id": "887f3bce-9b0e-45a1-93ae-920a3584f466",
   "metadata": {},
   "outputs": [
    {
     "data": {
      "text/plain": [
       "58"
      ]
     },
     "metadata": {},
     "output_type": "display_data"
    },
    {
     "data": {
      "text/plain": [
       "32"
      ]
     },
     "metadata": {},
     "output_type": "display_data"
    }
   ],
   "source": [
    "display(loc1, loc2)"
   ]
  },
  {
   "cell_type": "code",
   "execution_count": 17,
   "id": "46065069-4d01-4f54-a132-a671d50ac9b9",
   "metadata": {},
   "outputs": [],
   "source": [
    "# editing the values of the bus count col at specific location\n",
    "# syntax, look at ## index, look at XX column\n",
    "df.loc[58, \"bus_count\"] = 56\n",
    "df.loc[32, \"bus_count\"] = 12"
   ]
  },
  {
   "cell_type": "code",
   "execution_count": 18,
   "id": "8fe33276-6264-4c6e-80ec-530f315e79ce",
   "metadata": {},
   "outputs": [],
   "source": [
    "# updating values again for bus_desc. same location\n",
    "df.loc[58, \"prop_type\"] = \"estimated-cutaway vans (PM- award will not fund 68 buses)\"\n",
    "df.loc[32, \"prop_type\"] = \"battery electric\""
   ]
  },
  {
   "cell_type": "code",
   "execution_count": 19,
   "id": "7a4d910e-af55-46b0-a92c-aa52e1a892e8",
   "metadata": {},
   "outputs": [],
   "source": [
    "# bus count for row 12 needs to be adjusted to 31 instead of 15\n",
    "df.loc[12, \"bus_count\"] = 31"
   ]
  },
  {
   "cell_type": "code",
   "execution_count": 20,
   "id": "edfd4b23-e384-47a1-bb7b-461fd04c2d32",
   "metadata": {},
   "outputs": [
    {
     "data": {
      "text/plain": [
       "state                                                                     NC\n",
       "project_sponsor            City of Charlotte - Charlotte Area Transit System\n",
       "project_title              Charlotte Area Transit System's Sustainable Fl...\n",
       "description                The city of Charlotte will receive funding to ...\n",
       "funding                                                             30890413\n",
       "approx_#_of_buses                                   15(Electric)\\n16(Hybrid)\n",
       "project_type                                      Bus / Chargers / Equipment\n",
       "propulsion_category                                                 zero/low\n",
       "area_served                                                      Large Urban\n",
       "congressional_districts           NC-008 ; NC-012 ; NC-013 ; NC-014 ; SC-005\n",
       "fta_region                                                                 4\n",
       "bus/low-no_program                                                       Bus\n",
       "bus_count                                                                 31\n",
       "prop_type                                              Electric)\\n16(Hybrid)\n",
       "Name: 12, dtype: object"
      ]
     },
     "execution_count": 20,
     "metadata": {},
     "output_type": "execute_result"
    }
   ],
   "source": [
    "# confirming the change\n",
    "df.loc[12]"
   ]
  },
  {
   "cell_type": "markdown",
   "id": "58fd7f90-2935-4e58-92c6-4253758ad3c1",
   "metadata": {
    "jp-MarkdownHeadingCollapsed": true,
    "tags": []
   },
   "source": [
    "#### project_type"
   ]
  },
  {
   "cell_type": "code",
   "execution_count": 21,
   "id": "ca77c135-1168-489e-802e-402c614bbb77",
   "metadata": {},
   "outputs": [],
   "source": [
    "# using str.lower() on project type\n",
    "df[\"project_type\"] = df[\"project_type\"].str.lower()\n",
    "# using str.lower() on project type\n",
    "df[\"project_type\"] = df[\"project_type\"].str.replace(\" \", \"\")"
   ]
  },
  {
   "cell_type": "code",
   "execution_count": 22,
   "id": "2014394c-33d9-44e9-b162-ab21988d9e8d",
   "metadata": {},
   "outputs": [],
   "source": [
    "# some values still need to get adjusted. will use a short dictionary to fix\n",
    "new_type = {\n",
    "    \"\\tbus/facility\": \"bus/facility\",\n",
    "    \"bus/facilitiy\": \"bus/facility\",\n",
    "    \"facilities\": \"facility\",\n",
    "}"
   ]
  },
  {
   "cell_type": "code",
   "execution_count": 23,
   "id": "a6b0eeb6-cb94-4bb8-82ac-ba3c3763a3aa",
   "metadata": {},
   "outputs": [],
   "source": [
    "# using replace() with the dictionary to replace keys in project type col\n",
    "# syntax df.replace({'bus_desc': new_dict}, inplace=True)\n",
    "df.replace({\"project_type\": new_type}, inplace=True)"
   ]
  },
  {
   "cell_type": "code",
   "execution_count": 24,
   "id": "52eb4fce-7c4d-4253-893c-73c59c2ecff5",
   "metadata": {},
   "outputs": [
    {
     "data": {
      "text/plain": [
       "array(['bus/chargers', 'bus', 'facility', 'bus/chargers/equipment',\n",
       "       'facility/chargers', 'bus/facility', 'bus/facility/chargers',\n",
       "       'chargers', 'bus/chargers/other', 'bus/facility/equipment',\n",
       "       'bus/equipment', 'bus/facility/chargers/equipment',\n",
       "       'bus/facility/other', 'facility/chargers/equipment',\n",
       "       'facility/equipment', 'chargers/equipment', 'bus/other',\n",
       "       'bus/facility/equipment/other'], dtype=object)"
      ]
     },
     "execution_count": 24,
     "metadata": {},
     "output_type": "execute_result"
    }
   ],
   "source": [
    "df.project_type.unique()"
   ]
  },
  {
   "cell_type": "markdown",
   "id": "dd2125a9-1117-4baa-b704-1aad30249e6d",
   "metadata": {
    "jp-MarkdownHeadingCollapsed": true,
    "tags": []
   },
   "source": [
    "#### `prop_type`"
   ]
  },
  {
   "cell_type": "code",
   "execution_count": 25,
   "id": "09750ef1-1eba-4561-b5ad-b05f2a3b5875",
   "metadata": {},
   "outputs": [
    {
     "name": "stderr",
     "output_type": "stream",
     "text": [
      "/tmp/ipykernel_642/2225036280.py:3: FutureWarning: The default value of regex will change from True to False in a future version. In addition, single character regular expressions will *not* be treated as literal strings when regex=True.\n",
      "  df[\"prop_type\"] = df[\"prop_type\"].str.replace(\")\", \"\")\n"
     ]
    }
   ],
   "source": [
    "# clearning the bus desc/prop_type col.\n",
    "# removing the )\n",
    "df[\"prop_type\"] = df[\"prop_type\"].str.replace(\")\", \"\")"
   ]
  },
  {
   "cell_type": "code",
   "execution_count": 26,
   "id": "e298fe1d-ab31-4cae-aa18-309d349b4b78",
   "metadata": {},
   "outputs": [
    {
     "data": {
      "text/plain": [
       "array(['beb', 'estimated-CNGbuses', None, 'zero-emission', 'cngbuses',\n",
       "       'BEBs', 'Electric\\n16(Hybrid', 'FCEB', 'Electric',\n",
       "       'FuelCellElectric', 'CNG', 'FuelCell', 'hybrid', 'BEB',\n",
       "       'battery electric', 'lowemissionCNG', 'cng',\n",
       "       'BEBsparatransitbuses', 'hybridelectric', 'zeroemissionbuses',\n",
       "       'dieselelectrichybrids', 'hydrogenfuelcell',\n",
       "       '2BEBsand4HydrogenFuelCellBuses', '4fuelcell/3CNG',\n",
       "       'estimated-cutaway vans (PM- award will not fund 68 buses',\n",
       "       'hybridelectricbuses', 'CNGfueled', 'zeroemissionelectric',\n",
       "       'hybridelectrics', 'dieselandgas', 'diesel-electrichybrids',\n",
       "       'propane', 'electric', 'diesel-electric', 'propanebuses',\n",
       "       '1:CNGbus;2cutawayCNGbuses', 'zeroemission',\n",
       "       'propanedpoweredvehicles'], dtype=object)"
      ]
     },
     "execution_count": 26,
     "metadata": {},
     "output_type": "execute_result"
    }
   ],
   "source": [
    "df[\"prop_type\"].unique()"
   ]
  },
  {
   "cell_type": "code",
   "execution_count": 27,
   "id": "03f52229-29ad-4551-aa70-a9d53124d61e",
   "metadata": {},
   "outputs": [],
   "source": [
    "# stripping the values in the bus desc col\n",
    "df[\"prop_type\"] = df[\"prop_type\"].str.strip()"
   ]
  },
  {
   "cell_type": "code",
   "execution_count": 28,
   "id": "bba62d67-35ab-4334-898b-f7581b40c574",
   "metadata": {},
   "outputs": [],
   "source": [
    "# creating a dictionary to add spaces back to the values\n",
    "new_dict = {\n",
    "    \"beb\": \"BEB\",\n",
    "    \"estimated-CNGbuses\": \"estimated-CNG buses\",\n",
    "    \"cngbuses\": \"CNG buses\",\n",
    "    \"BEBs\": \"BEB\",\n",
    "    \"Electric\\n16(Hybrid\": \"15 electic, 16 hybrid\",\n",
    "    \"FuelCellElectric\": \"fuel cell electric\",\n",
    "    \"FuelCell\": \"fuel cell\",\n",
    "    \"lowemissionCNG\": \"low emission CNG\",\n",
    "    \"cng\": \"CNG\",\n",
    "    \"BEBsparatransitbuses\": \"BEBs paratransit buses\",\n",
    "    \"hybridelectric\": \"hybrid electric\",\n",
    "    \"zeroemissionbuses\": \"zero emission buses\",\n",
    "    \"dieselelectrichybrids\": \"diesel electric hybrids\",\n",
    "    \"hydrogenfuelcell\": \"hydrogen fuel cell\",\n",
    "    \"2BEBsand4HydrogenFuelCellBuses\": \"2 BEBs and 4 hydrogen fuel cell buses\",\n",
    "    \"4fuelcell/3CNG\": \"4 fuel cell / 3 CNG\",\n",
    "    \"hybridelectricbuses\": \"hybrid electric buses\",\n",
    "    \"CNGfueled\": \"CNG fueled\",\n",
    "    \"zeroemissionelectric\": \"zero emission electric\",\n",
    "    \"hybridelectrics\": \"hybrid electrics\",\n",
    "    \"dieselandgas\": \"diesel and gas\",\n",
    "    \"diesel-electrichybrids\": \"diesel-electric hybrids\",\n",
    "    \"propanebuses\": \"propane buses\",\n",
    "    \"1:CNGbus;2cutawayCNGbuses\": \"1:CNGbus ;2 cutaway CNG buses\",\n",
    "    \"zeroemission\": \"zero emission\",\n",
    "    \"propanedpoweredvehicles\": \"propaned powered vehicles\",\n",
    "}"
   ]
  },
  {
   "cell_type": "code",
   "execution_count": 29,
   "id": "c883651a-7959-40ec-8bfe-2935f7f8e312",
   "metadata": {},
   "outputs": [],
   "source": [
    "# using new dictionary to replace values in the bus desc col\n",
    "df.replace({\"prop_type\": new_dict}, inplace=True)"
   ]
  },
  {
   "cell_type": "code",
   "execution_count": 30,
   "id": "180f7556-f7a1-423a-9988-36230793befc",
   "metadata": {},
   "outputs": [],
   "source": [
    "bus_dict = {\n",
    "    \"BEBs paratransit buses\": \"BEB\",\n",
    "    \"CNG buses\": \"CNG\",\n",
    "    \"CNG fueled\": \"CNG\",\n",
    "    \"Electric\": \"electrc (not specified)\",\n",
    "    \"battery electric\": \"BEB\",\n",
    "    \"diesel electric hybrids\": \"diesel-electric hybrids\",\n",
    "    \"diesel-electric\": \"diesel-electric hybrids\",\n",
    "    \"electric\": \"electrc (not specified)\",\n",
    "    \"estimated-CNG buses\": \"CNG\",\n",
    "    \"fuel cell\": \"FCEB\",\n",
    "    \"fuel cell electric\": \"FCEB\",\n",
    "    \"hybrid\": \"hybrid electric\",\n",
    "    \"hybrid electric buses\": \"hybrid electric\",\n",
    "    \"hybrid electrics\": \"hybrid electric\",\n",
    "    \"low emission CNG\": \"CNG\",\n",
    "    \"propane buses\": \"propane\",\n",
    "    \"propaned powered vehicles\": \"propane\",\n",
    "    \"zero emission\": \"zero-emission bus (not specified)\",\n",
    "    \"zero emission buses\": \"zero-emission bus (not specified)\",\n",
    "    \"zero emission electric\": \"zero-emission bus (not specified)\",\n",
    "    \"zero-emission\": \"zero-emission bus (not specified)\",\n",
    "}"
   ]
  },
  {
   "cell_type": "code",
   "execution_count": 31,
   "id": "90e68ec0-2da5-4d7d-8804-c6e7f2fb97a6",
   "metadata": {},
   "outputs": [],
   "source": [
    "# repalcing values in bus_desc with bus_dict dictionary\n",
    "df.replace({\"prop_type\": bus_dict}, inplace=True)"
   ]
  },
  {
   "cell_type": "code",
   "execution_count": 32,
   "id": "4af08b06-7b8a-4411-9243-4bdf0b6ff87a",
   "metadata": {},
   "outputs": [
    {
     "data": {
      "text/plain": [
       "['BEB',\n",
       " 'CNG',\n",
       " None,\n",
       " 'zero-emission bus (not specified)',\n",
       " '15 electic, 16 hybrid',\n",
       " 'FCEB',\n",
       " 'electrc (not specified)',\n",
       " 'hybrid electric',\n",
       " 'diesel-electric hybrids',\n",
       " 'hydrogen fuel cell',\n",
       " '2 BEBs and 4 hydrogen fuel cell buses',\n",
       " '4 fuel cell / 3 CNG',\n",
       " 'estimated-cutaway vans (PM- award will not fund 68 buses',\n",
       " 'diesel and gas',\n",
       " 'propane',\n",
       " '1:CNGbus ;2 cutaway CNG buses']"
      ]
     },
     "execution_count": 32,
     "metadata": {},
     "output_type": "execute_result"
    }
   ],
   "source": [
    "#check work\n",
    "list(df.prop_type.unique())"
   ]
  },
  {
   "cell_type": "code",
   "execution_count": 33,
   "id": "a960b77f-9914-462e-a00d-a35961557cc8",
   "metadata": {},
   "outputs": [
    {
     "data": {
      "text/html": [
       "<div>\n",
       "<style scoped>\n",
       "    .dataframe tbody tr th:only-of-type {\n",
       "        vertical-align: middle;\n",
       "    }\n",
       "\n",
       "    .dataframe tbody tr th {\n",
       "        vertical-align: top;\n",
       "    }\n",
       "\n",
       "    .dataframe thead th {\n",
       "        text-align: right;\n",
       "    }\n",
       "</style>\n",
       "<table border=\"1\" class=\"dataframe\">\n",
       "  <thead>\n",
       "    <tr style=\"text-align: right;\">\n",
       "      <th></th>\n",
       "      <th>state</th>\n",
       "      <th>project_sponsor</th>\n",
       "      <th>project_title</th>\n",
       "      <th>description</th>\n",
       "      <th>funding</th>\n",
       "      <th>approx_#_of_buses</th>\n",
       "      <th>project_type</th>\n",
       "      <th>propulsion_category</th>\n",
       "      <th>area_served</th>\n",
       "      <th>congressional_districts</th>\n",
       "      <th>fta_region</th>\n",
       "      <th>bus/low-no_program</th>\n",
       "      <th>bus_count</th>\n",
       "      <th>prop_type</th>\n",
       "    </tr>\n",
       "  </thead>\n",
       "  <tbody>\n",
       "    <tr>\n",
       "      <th>0</th>\n",
       "      <td>DC</td>\n",
       "      <td>Washington Metropolitan Area Transit Authority...</td>\n",
       "      <td>Battery-Electric Metrobus Procurement and Elec...</td>\n",
       "      <td>WMATA will receive funding to convert its Cind...</td>\n",
       "      <td>104000000</td>\n",
       "      <td>100(beb)</td>\n",
       "      <td>bus/chargers</td>\n",
       "      <td>zero</td>\n",
       "      <td>Large Urban</td>\n",
       "      <td>DC-001 ; MD-004 ; MD-008 ; VA-008 ; VA-011</td>\n",
       "      <td>3</td>\n",
       "      <td>Low-No</td>\n",
       "      <td>100</td>\n",
       "      <td>BEB</td>\n",
       "    </tr>\n",
       "    <tr>\n",
       "      <th>1</th>\n",
       "      <td>TX</td>\n",
       "      <td>Dallas Area Rapid Transit (DART)</td>\n",
       "      <td>DART CNG Bus Fleet Modernization Project</td>\n",
       "      <td>Dallas Area Rapid Transit will receive funding...</td>\n",
       "      <td>103000000</td>\n",
       "      <td>90(estimated-CNGbuses)</td>\n",
       "      <td>bus</td>\n",
       "      <td>low</td>\n",
       "      <td>Large Urban</td>\n",
       "      <td>TX-003 ; TX-004 ; TX-005 ; TX-006 ; TX-024 ; T...</td>\n",
       "      <td>6</td>\n",
       "      <td>Low-No</td>\n",
       "      <td>90</td>\n",
       "      <td>CNG</td>\n",
       "    </tr>\n",
       "    <tr>\n",
       "      <th>2</th>\n",
       "      <td>PA</td>\n",
       "      <td>Southeastern Pennsylvania Transportation Autho...</td>\n",
       "      <td>SEPTA Zero-Emission Bus Transition Facility Sa...</td>\n",
       "      <td>The Southeastern Pennsylvania Transportation A...</td>\n",
       "      <td>80000000</td>\n",
       "      <td>0</td>\n",
       "      <td>facility</td>\n",
       "      <td>zero</td>\n",
       "      <td>Large Urban</td>\n",
       "      <td>PA-002 ; PA-003 ; PA-004 ; PA-005</td>\n",
       "      <td>3</td>\n",
       "      <td>Low-No</td>\n",
       "      <td>0</td>\n",
       "      <td>None</td>\n",
       "    </tr>\n",
       "    <tr>\n",
       "      <th>3</th>\n",
       "      <td>LA</td>\n",
       "      <td>New Orleans Regional Transit Authority</td>\n",
       "      <td>Accelerating Zero-Emissions Mobility for a Res...</td>\n",
       "      <td>The New Orleans Regional Transit Authority wil...</td>\n",
       "      <td>71439261</td>\n",
       "      <td>20(zero-emission)</td>\n",
       "      <td>bus/chargers/equipment</td>\n",
       "      <td>zero</td>\n",
       "      <td>Large Urban</td>\n",
       "      <td>LA-002 ; LA-001</td>\n",
       "      <td>6</td>\n",
       "      <td>Low-No</td>\n",
       "      <td>20</td>\n",
       "      <td>zero-emission bus (not specified)</td>\n",
       "    </tr>\n",
       "    <tr>\n",
       "      <th>4</th>\n",
       "      <td>NJ</td>\n",
       "      <td>New Jersey Transit Corporation</td>\n",
       "      <td>Hilton Bus Garage Modernization</td>\n",
       "      <td>New Jersey Transit will receive funding to mod...</td>\n",
       "      <td>47000000</td>\n",
       "      <td>0</td>\n",
       "      <td>facility/chargers</td>\n",
       "      <td>zero</td>\n",
       "      <td>Large Urban</td>\n",
       "      <td>nj-011</td>\n",
       "      <td>2</td>\n",
       "      <td>Bus</td>\n",
       "      <td>0</td>\n",
       "      <td>None</td>\n",
       "    </tr>\n",
       "  </tbody>\n",
       "</table>\n",
       "</div>"
      ],
      "text/plain": [
       "  state                                    project_sponsor  \\\n",
       "0    DC  Washington Metropolitan Area Transit Authority...   \n",
       "1    TX                   Dallas Area Rapid Transit (DART)   \n",
       "2    PA  Southeastern Pennsylvania Transportation Autho...   \n",
       "3    LA             New Orleans Regional Transit Authority   \n",
       "4    NJ                     New Jersey Transit Corporation   \n",
       "\n",
       "                                       project_title  \\\n",
       "0  Battery-Electric Metrobus Procurement and Elec...   \n",
       "1           DART CNG Bus Fleet Modernization Project   \n",
       "2  SEPTA Zero-Emission Bus Transition Facility Sa...   \n",
       "3  Accelerating Zero-Emissions Mobility for a Res...   \n",
       "4                    Hilton Bus Garage Modernization   \n",
       "\n",
       "                                         description    funding  \\\n",
       "0  WMATA will receive funding to convert its Cind...  104000000   \n",
       "1  Dallas Area Rapid Transit will receive funding...  103000000   \n",
       "2  The Southeastern Pennsylvania Transportation A...   80000000   \n",
       "3  The New Orleans Regional Transit Authority wil...   71439261   \n",
       "4  New Jersey Transit will receive funding to mod...   47000000   \n",
       "\n",
       "        approx_#_of_buses            project_type propulsion_category  \\\n",
       "0                100(beb)            bus/chargers                zero   \n",
       "1  90(estimated-CNGbuses)                     bus                 low   \n",
       "2                       0                facility                zero   \n",
       "3       20(zero-emission)  bus/chargers/equipment                zero   \n",
       "4                       0       facility/chargers                zero   \n",
       "\n",
       "   area_served                            congressional_districts  fta_region  \\\n",
       "0  Large Urban         DC-001 ; MD-004 ; MD-008 ; VA-008 ; VA-011           3   \n",
       "1  Large Urban  TX-003 ; TX-004 ; TX-005 ; TX-006 ; TX-024 ; T...           6   \n",
       "2  Large Urban                  PA-002 ; PA-003 ; PA-004 ; PA-005           3   \n",
       "3  Large Urban                                    LA-002 ; LA-001           6   \n",
       "4  Large Urban                                             nj-011           2   \n",
       "\n",
       "  bus/low-no_program bus_count                          prop_type  \n",
       "0             Low-No       100                                BEB  \n",
       "1             Low-No        90                                CNG  \n",
       "2             Low-No         0                               None  \n",
       "3             Low-No        20  zero-emission bus (not specified)  \n",
       "4                Bus         0                               None  "
      ]
     },
     "execution_count": 33,
     "metadata": {},
     "output_type": "execute_result"
    }
   ],
   "source": [
    "df.head()"
   ]
  },
  {
   "cell_type": "markdown",
   "id": "8a498a0b-4552-4c38-90cd-6e1c4045d40d",
   "metadata": {
    "tags": []
   },
   "source": [
    "### Need new column for `bus size type` via list and function\n",
    "cutaway, 40ft etc"
   ]
  },
  {
   "cell_type": "code",
   "execution_count": 36,
   "id": "d24e6642-358c-4f2a-8139-7fd941faf5e1",
   "metadata": {},
   "outputs": [
    {
     "data": {
      "text/plain": [
       "['state',\n",
       " 'project_sponsor',\n",
       " 'project_title',\n",
       " 'description',\n",
       " 'funding',\n",
       " 'approx_#_of_buses',\n",
       " 'project_type',\n",
       " 'propulsion_category',\n",
       " 'area_served',\n",
       " 'congressional_districts',\n",
       " 'fta_region',\n",
       " 'bus/low-no_program',\n",
       " 'bus_count',\n",
       " 'prop_type']"
      ]
     },
     "execution_count": 36,
     "metadata": {},
     "output_type": "execute_result"
    }
   ],
   "source": [
    "list(df.columns)"
   ]
  },
  {
   "cell_type": "code",
   "execution_count": 37,
   "id": "6053159a-62b1-4866-a13e-47fabf4576b4",
   "metadata": {},
   "outputs": [],
   "source": [
    "bus_size = [\n",
    "    \"standard\",\n",
    "    \"40 foot\",\n",
    "    \"40-foot\",\n",
    "    \"40ft\",\n",
    "    \"articulated\",\n",
    "    \"cutaway\",\n",
    "]"
   ]
  },
  {
   "cell_type": "code",
   "execution_count": 38,
   "id": "3500afae-6358-435f-9d25-1854b9f16634",
   "metadata": {},
   "outputs": [],
   "source": [
    "# Function to match keywords\n",
    "def find_bus_size_type(description):\n",
    "    for keyword in bus_size:\n",
    "        if keyword in description.lower():\n",
    "            return keyword\n",
    "    return \"not specified\""
   ]
  },
  {
   "cell_type": "code",
   "execution_count": 39,
   "id": "b7a0ae00-3a85-4e95-ae94-7ffeb55c3a8d",
   "metadata": {},
   "outputs": [],
   "source": [
    "# new column called bus size type based on description column\n",
    "df[\"bus_size_type\"] = df[\"description\"].apply(find_bus_size_type)"
   ]
  },
  {
   "cell_type": "code",
   "execution_count": 47,
   "id": "e0c6c4a2-4749-4f6b-ad14-d452f1e201b8",
   "metadata": {},
   "outputs": [
    {
     "data": {
      "text/html": [
       "<div>\n",
       "<style scoped>\n",
       "    .dataframe tbody tr th:only-of-type {\n",
       "        vertical-align: middle;\n",
       "    }\n",
       "\n",
       "    .dataframe tbody tr th {\n",
       "        vertical-align: top;\n",
       "    }\n",
       "\n",
       "    .dataframe thead th {\n",
       "        text-align: right;\n",
       "    }\n",
       "</style>\n",
       "<table border=\"1\" class=\"dataframe\">\n",
       "  <thead>\n",
       "    <tr style=\"text-align: right;\">\n",
       "      <th></th>\n",
       "      <th>state</th>\n",
       "      <th>project_sponsor</th>\n",
       "      <th>project_title</th>\n",
       "      <th>description</th>\n",
       "      <th>funding</th>\n",
       "      <th>approx_#_of_buses</th>\n",
       "      <th>project_type</th>\n",
       "      <th>propulsion_category</th>\n",
       "      <th>area_served</th>\n",
       "      <th>congressional_districts</th>\n",
       "      <th>fta_region</th>\n",
       "      <th>bus/low-no_program</th>\n",
       "      <th>bus_count</th>\n",
       "      <th>prop_type</th>\n",
       "      <th>bus_size_type</th>\n",
       "    </tr>\n",
       "  </thead>\n",
       "  <tbody>\n",
       "    <tr>\n",
       "      <th>0</th>\n",
       "      <td>DC</td>\n",
       "      <td>Washington Metropolitan Area Transit Authority...</td>\n",
       "      <td>Battery-Electric Metrobus Procurement and Elec...</td>\n",
       "      <td>WMATA will receive funding to convert its Cind...</td>\n",
       "      <td>104000000</td>\n",
       "      <td>100(beb)</td>\n",
       "      <td>bus/chargers</td>\n",
       "      <td>zero</td>\n",
       "      <td>Large Urban</td>\n",
       "      <td>DC-001 ; MD-004 ; MD-008 ; VA-008 ; VA-011</td>\n",
       "      <td>3</td>\n",
       "      <td>Low-No</td>\n",
       "      <td>100</td>\n",
       "      <td>BEB</td>\n",
       "      <td>not specified</td>\n",
       "    </tr>\n",
       "    <tr>\n",
       "      <th>1</th>\n",
       "      <td>TX</td>\n",
       "      <td>Dallas Area Rapid Transit (DART)</td>\n",
       "      <td>DART CNG Bus Fleet Modernization Project</td>\n",
       "      <td>Dallas Area Rapid Transit will receive funding...</td>\n",
       "      <td>103000000</td>\n",
       "      <td>90(estimated-CNGbuses)</td>\n",
       "      <td>bus</td>\n",
       "      <td>low</td>\n",
       "      <td>Large Urban</td>\n",
       "      <td>TX-003 ; TX-004 ; TX-005 ; TX-006 ; TX-024 ; T...</td>\n",
       "      <td>6</td>\n",
       "      <td>Low-No</td>\n",
       "      <td>90</td>\n",
       "      <td>CNG</td>\n",
       "      <td>not specified</td>\n",
       "    </tr>\n",
       "    <tr>\n",
       "      <th>2</th>\n",
       "      <td>PA</td>\n",
       "      <td>Southeastern Pennsylvania Transportation Autho...</td>\n",
       "      <td>SEPTA Zero-Emission Bus Transition Facility Sa...</td>\n",
       "      <td>The Southeastern Pennsylvania Transportation A...</td>\n",
       "      <td>80000000</td>\n",
       "      <td>0</td>\n",
       "      <td>facility</td>\n",
       "      <td>zero</td>\n",
       "      <td>Large Urban</td>\n",
       "      <td>PA-002 ; PA-003 ; PA-004 ; PA-005</td>\n",
       "      <td>3</td>\n",
       "      <td>Low-No</td>\n",
       "      <td>0</td>\n",
       "      <td>None</td>\n",
       "      <td>not specified</td>\n",
       "    </tr>\n",
       "  </tbody>\n",
       "</table>\n",
       "</div>"
      ],
      "text/plain": [
       "  state                                    project_sponsor  \\\n",
       "0    DC  Washington Metropolitan Area Transit Authority...   \n",
       "1    TX                   Dallas Area Rapid Transit (DART)   \n",
       "2    PA  Southeastern Pennsylvania Transportation Autho...   \n",
       "\n",
       "                                       project_title  \\\n",
       "0  Battery-Electric Metrobus Procurement and Elec...   \n",
       "1           DART CNG Bus Fleet Modernization Project   \n",
       "2  SEPTA Zero-Emission Bus Transition Facility Sa...   \n",
       "\n",
       "                                         description    funding  \\\n",
       "0  WMATA will receive funding to convert its Cind...  104000000   \n",
       "1  Dallas Area Rapid Transit will receive funding...  103000000   \n",
       "2  The Southeastern Pennsylvania Transportation A...   80000000   \n",
       "\n",
       "        approx_#_of_buses  project_type propulsion_category  area_served  \\\n",
       "0                100(beb)  bus/chargers                zero  Large Urban   \n",
       "1  90(estimated-CNGbuses)           bus                 low  Large Urban   \n",
       "2                       0      facility                zero  Large Urban   \n",
       "\n",
       "                             congressional_districts  fta_region  \\\n",
       "0         DC-001 ; MD-004 ; MD-008 ; VA-008 ; VA-011           3   \n",
       "1  TX-003 ; TX-004 ; TX-005 ; TX-006 ; TX-024 ; T...           6   \n",
       "2                  PA-002 ; PA-003 ; PA-004 ; PA-005           3   \n",
       "\n",
       "  bus/low-no_program bus_count prop_type  bus_size_type  \n",
       "0             Low-No       100       BEB  not specified  \n",
       "1             Low-No        90       CNG  not specified  \n",
       "2             Low-No         0      None  not specified  "
      ]
     },
     "metadata": {},
     "output_type": "display_data"
    },
    {
     "data": {
      "text/plain": [
       "array(['not specified', 'cutaway'], dtype=object)"
      ]
     },
     "metadata": {},
     "output_type": "display_data"
    },
    {
     "data": {
      "text/plain": [
       "(130, 15)"
      ]
     },
     "metadata": {},
     "output_type": "display_data"
    }
   ],
   "source": [
    "#check work\n",
    "display(\n",
    "    df.head(3),\n",
    "    df.bus_size_type.unique(),\n",
    "    df.shape\n",
    ")"
   ]
  },
  {
   "cell_type": "markdown",
   "id": "9a83f537-ccff-44c2-8b41-82b2c88b9ccd",
   "metadata": {
    "tags": []
   },
   "source": [
    "## Exporting cleaned data to GCS"
   ]
  },
  {
   "cell_type": "code",
   "execution_count": 43,
   "id": "609a3659-8bf2-4412-aabc-d6ea956c3bbe",
   "metadata": {},
   "outputs": [],
   "source": [
    "# saving to GCS as csv\n",
    "df.to_csv(\n",
    "    \"gs://calitp-analytics-data/data-analyses/bus_procurement_cost/fta_bus_cost_clean.csv\"\n",
    ")"
   ]
  },
  {
   "cell_type": "markdown",
   "id": "8a04ee87-fba7-46df-ac67-44956fa82c7c",
   "metadata": {
    "tags": []
   },
   "source": [
    "## Reading in cleaned data from GCS"
   ]
  },
  {
   "cell_type": "code",
   "execution_count": 44,
   "id": "0886453f-e9d5-46d8-9987-3365137137b2",
   "metadata": {},
   "outputs": [],
   "source": [
    "bus_cost = pd.read_csv(\n",
    "    \"gs://calitp-analytics-data/data-analyses/bus_procurement_cost/fta_bus_cost_clean.csv\"\n",
    ")"
   ]
  },
  {
   "cell_type": "code",
   "execution_count": 48,
   "id": "7a2c32a7-4cd0-4755-8a04-2db5638cdcbb",
   "metadata": {},
   "outputs": [],
   "source": [
    "# drop unnessary columns\n",
    "bus_cost = bus_cost.drop([\"Unnamed: 0\", \"congressional_districts\"], axis=1)"
   ]
  },
  {
   "cell_type": "code",
   "execution_count": 45,
   "id": "8a4e9841-79f5-41e1-9c53-3def3d802bd9",
   "metadata": {},
   "outputs": [
    {
     "data": {
      "text/plain": [
       "(130, 16)"
      ]
     },
     "metadata": {},
     "output_type": "display_data"
    },
    {
     "data": {
      "text/plain": [
       "pandas.core.frame.DataFrame"
      ]
     },
     "metadata": {},
     "output_type": "display_data"
    },
    {
     "data": {
      "text/plain": [
       "Index(['Unnamed: 0', 'state', 'project_sponsor', 'project_title',\n",
       "       'description', 'funding', 'approx_#_of_buses', 'project_type',\n",
       "       'propulsion_category', 'area_served', 'congressional_districts',\n",
       "       'fta_region', 'bus/low-no_program', 'bus_count', 'prop_type',\n",
       "       'bus_size_type'],\n",
       "      dtype='object')"
      ]
     },
     "metadata": {},
     "output_type": "display_data"
    }
   ],
   "source": [
    "# confirming cleaned data shows as expected.\n",
    "display(bus_cost.shape, type(bus_cost), bus_cost.columns)"
   ]
  },
  {
   "cell_type": "code",
   "execution_count": 51,
   "id": "f95f7ae2-2ddf-40b7-aa76-af00e83854d1",
   "metadata": {},
   "outputs": [
    {
     "data": {
      "text/plain": [
       "array(['AUTORIDAD METROPOLITANA DE AUTOBUSES (PRMBA)',\n",
       "       'Alabama Agricultural and Mechanical University',\n",
       "       'Alameda-Contra Costa Transit District',\n",
       "       'Berkshire Regional Transit Authority', 'Brazos Transit District',\n",
       "       'Cape Fear Public Transportation Authority',\n",
       "       'Central Oklahoma Transportation and Parking Authority (COTPA), dba EMBARK',\n",
       "       'Champaign-Urbana Mass Transit District',\n",
       "       'Charleston Area Regional Transportation Authority',\n",
       "       'City Of Tallahassee', 'City of Albuquerque', 'City of Alexandria',\n",
       "       'City of Anaheim', 'City of Bangor, Community Connector',\n",
       "       'City of Beaumont', 'City of Beloit', 'City of Brownsville',\n",
       "       'City of Charlotte - Charlotte Area Transit System',\n",
       "       'City of Colorado Springs dba Mountain Metropolitan Transit',\n",
       "       'City of Dubuque', 'City of Hattiesburg', 'City of High Point',\n",
       "       'City of Iowa City', 'City of Jonesboro, Arkansas',\n",
       "       'City of Knoxville', 'City of Madison', 'City of Norman, Oklahoma',\n",
       "       'City of Norwalk - Norwalk Transit System', 'City of Ocala',\n",
       "       'City of Rochester, Minnesota', 'City of Santa Rosa',\n",
       "       'City of Tucson, Sun Tran',\n",
       "       'Coast Transit Authority dba MS Coast Transportation Authority',\n",
       "       'Comanche Nation', 'Conroe Connection Transit',\n",
       "       'Dallas Area Rapid Transit (DART)',\n",
       "       'Delaware Transit Corporation (DTC)',\n",
       "       'Fort Wayne Public Transportation Corporation (Citilink)',\n",
       "       'Georgia State University', 'Golden Empire Transit',\n",
       "       'Greater Dayton Regional Transit Authority',\n",
       "       'Greater Lafayette Public Transportation Corporation dba GLPTC',\n",
       "       'Greenville Transit Authority d.b.a. Greenlink',\n",
       "       'Honolulu Department of Transportation Services',\n",
       "       'Illinois Department of Transportation on behalf of 24 subrecipients',\n",
       "       'Illinois Department of Transportation on behalf of 33 subrecipients',\n",
       "       'Indianapolis Public Transportation Corporation (IndyGo)',\n",
       "       'Interurban Transit Partnership',\n",
       "       'Iowa Department of Transportation (Iowa DOT) on behalf of MTA, RBT, HIRTA, SWITA, and Coralville',\n",
       "       'Kansas City Area Transportation Authority',\n",
       "       'Kentucky Transportation Cabinet on behalf of 10 rural transit agencies',\n",
       "       'King County Metro Transit', 'Loudoun County',\n",
       "       'Lowell Regional Transit Authority',\n",
       "       'METRO Regional Transit Authority',\n",
       "       'Madison County Mass Transit District',\n",
       "       'Marin County Transit District', 'Mesa County', 'Metro Transit',\n",
       "       'Metropolitan Transit Authority of Harris County (METRO)',\n",
       "       'Michigan Department of Transportation on behalf of 4 rural transit agencies',\n",
       "       \"Michigan Department of Transportation on behalf of Interurban Transit Authority\\xa0and People's Express\",\n",
       "       'Minnesota Department of Transportation on behalf of 2 rural transit agencies',\n",
       "       'Missoula Urban Transportation District',\n",
       "       'Nashville Metropolitan Transit Authority',\n",
       "       'New Jersey Transit Corporation',\n",
       "       'New Mexico Department of Transportation on behalf of North Central Regional Transit District',\n",
       "       'New Orleans Regional Transit Authority',\n",
       "       'New York City Department of Transportation',\n",
       "       'Niagara Frontier Transportation Authority',\n",
       "       'North Carolina Department of Transportation on behalf of AppalCART',\n",
       "       'North Carolina Department of Transportation on behalf of Columbus County Transportation',\n",
       "       'North Carolina Department of Transportation on behalf of ICPTA',\n",
       "       'North County Transit District (NCTD)',\n",
       "       'Northern Arizona Intergovernmental Public Transportation Authority',\n",
       "       'Ohio Department of Transportation (ODOT) on behalf of 10 subrecipients',\n",
       "       'Oklahoma Department of Transportation on behalf of OSU Public Transit',\n",
       "       'Oregon Department of Transportation on behalf of Central Oregon Intergovernmental Council',\n",
       "       'Oregon Department of Transportation on behalf of Hood River County Transportation District',\n",
       "       'Port Arthur Transit/City of Port Arthur',\n",
       "       'Regional Public Transportation Authority (Valley Metro)',\n",
       "       'Regional Transportation Commission of Washoe County',\n",
       "       'Research Triangle Regional Public Transportation Authority',\n",
       "       'Rhode Island Public Transit Authority',\n",
       "       'Rockford Mass Transit District',\n",
       "       'Rogue Valley Transportation District',\n",
       "       'Salem Area Mass Transit District',\n",
       "       'San Antonio Metropolitan Transit Authority',\n",
       "       'San Francisco Municipal Transportation Agency',\n",
       "       'Santa Cruz Metropolitan Transit District',\n",
       "       'Seminole Nation of Oklahoma', 'Seneca Nation of Indians',\n",
       "       'Skagit Transit System', 'Solano County Transit',\n",
       "       'South Carolina Department of Transportation on behalf of 25 rural transit providers',\n",
       "       'South Dakota Department of Transportation on behalf of ARL and CTWSI',\n",
       "       'South Dakota Department of Transportation on behalf of Brookings Area Transit Authority',\n",
       "       'South Dakota Department of Transportation on behalf of RCPT, PHT, and PT',\n",
       "       'Southeastern Pennsylvania Transportation Authority',\n",
       "       'Southeastern Regional Transit Authority',\n",
       "       'Southwest Ohio Regional Transit Authority',\n",
       "       'State of California on behalf of Fresno County Rural Transit Agency',\n",
       "       'State of California on behalf of Glenn County Transportation Commission',\n",
       "       'State of California on behalf of Kern Regional Transit',\n",
       "       'State of Connecticut Department of Transportation',\n",
       "       'Tahoe Transportation District',\n",
       "       'Texas Department of Transportation on behalf of 29 rural transportation districts',\n",
       "       'The Brockton Area Transit Authority',\n",
       "       'The City of Waco (dba Waco Transit System, Inc)',\n",
       "       'The Colorado Department of Transportation (CDOT) on behalf of ECO Transit',\n",
       "       'The Colorado Department of Transportation (CDOT) on behalf of Mountain Express Transit',\n",
       "       'The Colorado Department of Transportation (CDOT) on behalf of San Miguel Authority for Regional Transportation',\n",
       "       'The Colorado Department of Transportation (CDOT) on behalf of the Town of Winter Park',\n",
       "       'Topeka Metropolitan Transit Authority', 'Town of Chapel Hill',\n",
       "       'Transportation District Commission of Hampton Roads',\n",
       "       'University of Maryland, College Park',\n",
       "       'Utah Department of Transportation on behalf of Park City Transit',\n",
       "       'Utah Transit Authority',\n",
       "       'Vermont Agency of Transportation (VTrans)',\n",
       "       'Virginia Department of Rail and Public Transportation (DRPT)',\n",
       "       'Washington Metropolitan Area Transit Authority (WMATA)',\n",
       "       'Washington State Department of Transportation on behalf of 2 rural transit agencies',\n",
       "       'Washington State Department of Transportation\\xa0on behalf of Island Transit',\n",
       "       'Western Reserve Transit Authority',\n",
       "       'Whatcom Transportation Authority (WTA)',\n",
       "       'White Earth Reservation Business Committee',\n",
       "       'Wyoming Department of Transportation on behalf of Teton Village'],\n",
       "      dtype=object)"
      ]
     },
     "execution_count": 51,
     "metadata": {},
     "output_type": "execute_result"
    }
   ],
   "source": [
    "bus_cost['project_sponsor'].sort_values(ascending=True).unique()"
   ]
  },
  {
   "cell_type": "markdown",
   "id": "1ede25fd-850a-4be6-bac0-a1bffa05b776",
   "metadata": {
    "jp-MarkdownHeadingCollapsed": true,
    "tags": []
   },
   "source": [
    "## DEPRECATED - Data Analysis\n",
    "actual data analysis and summary stats exist in the `cost_per_bus_analysis.ipynb` notebook"
   ]
  },
  {
   "cell_type": "markdown",
   "id": "42ca0dfd-2ea1-4194-b431-0e4853d21879",
   "metadata": {
    "jp-MarkdownHeadingCollapsed": true,
    "tags": []
   },
   "source": [
    "### Cost per Bus, per Transit Agency dataframe"
   ]
  },
  {
   "cell_type": "code",
   "execution_count": null,
   "id": "26485b67-dc48-4102-a835-96460649d8ff",
   "metadata": {},
   "outputs": [],
   "source": [
    "only_bus = bus_cost[bus_cost[\"bus_count\"] > 0]\n",
    "only_bus.head()"
   ]
  },
  {
   "cell_type": "code",
   "execution_count": null,
   "id": "a8f05625-7da1-4aea-ac71-c177d02ca008",
   "metadata": {},
   "outputs": [],
   "source": [
    "cost_per_bus = (\n",
    "    only_bus.groupby(\"project_sponsor\")\n",
    "    .agg({\"funding\": \"sum\", \"bus_count\": \"sum\"})\n",
    "    .reset_index()\n",
    ")"
   ]
  },
  {
   "cell_type": "code",
   "execution_count": null,
   "id": "c3ab90a5-5e7f-4ab6-8ecc-a7598e185f5b",
   "metadata": {},
   "outputs": [],
   "source": [
    "cost_per_bus[\"cost_per_bus\"] = (\n",
    "    cost_per_bus[\"funding\"] / cost_per_bus[\"bus_count\"]\n",
    ").astype(\"int64\")"
   ]
  },
  {
   "cell_type": "code",
   "execution_count": null,
   "id": "ce71b957-ea77-40c8-95de-d6f160462f58",
   "metadata": {},
   "outputs": [],
   "source": [
    "cost_per_bus.dtypes"
   ]
  },
  {
   "cell_type": "code",
   "execution_count": null,
   "id": "b6f9ca72-4977-4536-9e6b-828af63c23b1",
   "metadata": {},
   "outputs": [],
   "source": [
    "cost_per_bus"
   ]
  },
  {
   "cell_type": "code",
   "execution_count": null,
   "id": "f02f391a-920c-458a-95e0-fd7875e6a653",
   "metadata": {},
   "outputs": [],
   "source": [
    "## export cost_per_bus df to gcs\n",
    "cost_per_bus.to_csv(\n",
    "    \"gs://calitp-analytics-data/data-analyses/bus_procurement_cost/fta_cost_per_bus.csv\"\n",
    ")"
   ]
  },
  {
   "cell_type": "markdown",
   "id": "79e18bf0-3dff-4263-9b47-8f2e4ee3d2e8",
   "metadata": {
    "tags": []
   },
   "source": [
    "### Cost per bus, stats analysis"
   ]
  },
  {
   "cell_type": "code",
   "execution_count": null,
   "id": "2ec98703-78f8-4c1c-b5c3-5a4834b1b44f",
   "metadata": {},
   "outputs": [],
   "source": [
    "# read in fta cost per bus csv\n",
    "cost_per_bus = pd.read_csv(\n",
    "    \"gs://calitp-analytics-data/data-analyses/bus_procurement_cost/fta_cost_per_bus.csv\"\n",
    ")"
   ]
  },
  {
   "cell_type": "code",
   "execution_count": null,
   "id": "6aebe6c0-eeb6-4da3-88ce-79f1fe7f5f6f",
   "metadata": {},
   "outputs": [],
   "source": [
    "display(cost_per_bus.shape, cost_per_bus.head())"
   ]
  },
  {
   "cell_type": "markdown",
   "id": "299d75c2-2f1a-4a7d-a1ee-87271a1f9e4b",
   "metadata": {
    "tags": []
   },
   "source": [
    "### Initial Summary Stats"
   ]
  },
  {
   "cell_type": "markdown",
   "id": "c4f9c488-8306-4eb3-bac0-40c75ac1dfed",
   "metadata": {
    "tags": []
   },
   "source": [
    "### Summary Stats"
   ]
  },
  {
   "cell_type": "code",
   "execution_count": null,
   "id": "76e7e2f6-47c8-4423-a9b3-2f02ee06fb9f",
   "metadata": {},
   "outputs": [],
   "source": [
    "# top level alanysis\n",
    "\n",
    "bus_cost.agg({\"project_title\": \"count\", \"funding\": \"sum\", \"bus_count\": \"sum\"})"
   ]
  },
  {
   "cell_type": "code",
   "execution_count": null,
   "id": "a1c0bdc5-9b63-40bd-94b7-2aa04b9bc70a",
   "metadata": {},
   "outputs": [],
   "source": [
    "# start of agg. by project_type\n",
    "\n",
    "bus_cost.groupby(\"project_type\").agg(\n",
    "    {\"project_type\": \"count\", \"funding\": \"sum\", \"bus_count\": \"sum\"}\n",
    ")"
   ]
  },
  {
   "cell_type": "code",
   "execution_count": null,
   "id": "f036cf52-fcc7-4f43-b11a-79a75515efc3",
   "metadata": {},
   "outputs": [],
   "source": [
    "# agg by program\n",
    "\n",
    "bus_cost.groupby(\"bus/low-no_program\").agg(\n",
    "    {\"project_type\": \"count\", \"funding\": \"sum\", \"bus_count\": \"sum\"}\n",
    ")"
   ]
  },
  {
   "cell_type": "code",
   "execution_count": null,
   "id": "228da8c2-9b22-4d1c-9259-4417e9374309",
   "metadata": {},
   "outputs": [],
   "source": [
    "# agg by state, by funding\n",
    "bus_cost.groupby(\"state\").agg(\n",
    "    {\"project_type\": \"count\", \"funding\": \"sum\", \"bus_count\": \"sum\"}\n",
    ").sort_values(by=\"funding\", ascending=False)"
   ]
  },
  {
   "cell_type": "markdown",
   "id": "e85e540e-0396-49b0-9f2e-64e5236e63e8",
   "metadata": {
    "tags": []
   },
   "source": [
    "### Projects with bus purchases"
   ]
  },
  {
   "cell_type": "code",
   "execution_count": null,
   "id": "8bad1e5d-9d05-49ef-ab21-81b98d80ef75",
   "metadata": {},
   "outputs": [],
   "source": [
    "# df of only projects with a bus count\n",
    "only_bus = bus_cost[bus_cost[\"bus_count\"] > 0]"
   ]
  },
  {
   "cell_type": "code",
   "execution_count": null,
   "id": "6c5013e3-ed56-4ea6-b191-af9a8e797b4b",
   "metadata": {},
   "outputs": [],
   "source": [
    "display(only_bus.shape, only_bus.columns)"
   ]
  },
  {
   "cell_type": "code",
   "execution_count": null,
   "id": "e93b7fe9-49e8-475d-aa89-c085f6792978",
   "metadata": {},
   "outputs": [],
   "source": [
    "# agg by propulsion type\n",
    "only_bus[\"propulsion_type\"].value_counts()"
   ]
  },
  {
   "cell_type": "code",
   "execution_count": null,
   "id": "dc7cc8c9-f81a-43c1-bb62-e8e2467358ce",
   "metadata": {},
   "outputs": [],
   "source": [
    "only_bus.project_type.value_counts()"
   ]
  },
  {
   "cell_type": "code",
   "execution_count": null,
   "id": "d86ee60d-e3e8-4dea-880f-731f6ac64376",
   "metadata": {},
   "outputs": [],
   "source": [
    "# of the rows with bus_count >1, what are the project types?\n",
    "bus_agg = only_bus.groupby(\"project_type\").agg(\n",
    "    {\"project_type\": \"count\", \"funding\": \"sum\", \"bus_count\": \"sum\"}\n",
    ")"
   ]
  },
  {
   "cell_type": "code",
   "execution_count": null,
   "id": "f7afb2df-374e-4ee2-b99c-6959d2111a37",
   "metadata": {},
   "outputs": [],
   "source": [
    "# new column that calculates `cost per bus`\n",
    "bus_agg[\"cost_per_bus\"] = (bus_agg[\"funding\"] / bus_agg[\"bus_count\"]).astype(\"int64\")"
   ]
  },
  {
   "cell_type": "code",
   "execution_count": null,
   "id": "f8b1c63c-9763-4d24-9613-433aefd8e4bf",
   "metadata": {},
   "outputs": [],
   "source": [
    "bus_agg"
   ]
  },
  {
   "cell_type": "markdown",
   "id": "211cb7b6-8fb1-4d52-890a-7106afb981a0",
   "metadata": {
    "tags": []
   },
   "source": [
    "### Projects with no buses"
   ]
  },
  {
   "cell_type": "code",
   "execution_count": null,
   "id": "e018dd24-4c96-4d1b-ad48-d67d706d165b",
   "metadata": {},
   "outputs": [],
   "source": [
    "no_bus = bus_cost[bus_cost[\"bus_count\"] < 1]"
   ]
  },
  {
   "cell_type": "code",
   "execution_count": null,
   "id": "c9ce24e3-5366-4cb5-9f92-4d24b50493e4",
   "metadata": {},
   "outputs": [],
   "source": [
    "no_bus[\"project_type\"].value_counts()"
   ]
  },
  {
   "cell_type": "markdown",
   "id": "ac02fbbb-2a88-486f-8001-fd8156c50bfb",
   "metadata": {
    "tags": []
   },
   "source": [
    "### Overall Summary"
   ]
  },
  {
   "cell_type": "code",
   "execution_count": null,
   "id": "6ad1b9f5-a5c7-4fee-abb2-cb74dee4ab40",
   "metadata": {
    "tags": []
   },
   "outputs": [],
   "source": [
    "project_count = bus_cost.project_title.count()\n",
    "fund_sum = bus_cost.funding.sum()\n",
    "bus_count_sum = bus_cost.bus_count.sum()\n",
    "overall_cost_per_bus = (fund_sum) / (bus_count_sum)\n",
    "bus_program_count = bus_cost[\"bus/low-no_program\"].value_counts()\n",
    "\n",
    "projects_with_bus = only_bus.project_title.count()\n",
    "projects_with_bus_funds = only_bus.funding.sum()\n",
    "cost_per_bus = (only_bus.funding.sum()) / (bus_count_sum)"
   ]
  },
  {
   "cell_type": "code",
   "execution_count": null,
   "id": "7e932b1e-f5e5-4215-91b5-4c922e78062a",
   "metadata": {
    "tags": []
   },
   "outputs": [],
   "source": [
    "summary = f\"\"\"\n",
    "Top Level observation:\n",
    "- {project_count} projects awarded\n",
    "- ${fund_sum:,.2f} dollars awarded\n",
    "- {bus_count_sum} buses to be purchased\n",
    "- ${overall_cost_per_bus:,.2f} overall cost per bus\n",
    "\n",
    "Projects have some mix of buses, facilities and equipment. Making it difficult to disaggregate actual bus cost.\n",
    "\n",
    "Of the {project_count} projects awarded, {projects_with_bus} projects inlcuded buses. The remainder were facilities, chargers and equipment\n",
    "\n",
    "Projects with buses purchases:\n",
    "- {projects_with_bus} projects\n",
    "- ${projects_with_bus_funds:,.2f} awarded to purchases buses\n",
    "- ${cost_per_bus:,.2f} cost per bus\n",
    "\"\"\""
   ]
  },
  {
   "cell_type": "code",
   "execution_count": null,
   "id": "dfb95588-9083-4298-8822-460c2dad9941",
   "metadata": {
    "tags": []
   },
   "outputs": [],
   "source": [
    "print(summary)"
   ]
  },
  {
   "cell_type": "code",
   "execution_count": null,
   "id": "2429adb2-fdfe-4a0f-a7c5-8ed2035f6fad",
   "metadata": {},
   "outputs": [],
   "source": [
    "# Assuming your DataFrame is named df\n",
    "cost_per_bus_values = cost_per_bus[\"cost_per_bus\"]\n",
    "\n",
    "# Calculate mean and standard deviation\n",
    "mean_value = cost_per_bus_values.mean()\n",
    "std_deviation = cost_per_bus_values.std()\n",
    "\n",
    "# Plot histogram\n",
    "plt.hist(cost_per_bus_values, bins=30, color=\"skyblue\", edgecolor=\"black\", alpha=0.7)\n",
    "\n",
    "# Add vertical lines for mean and standard deviation\n",
    "plt.axvline(mean_value, color=\"red\", linestyle=\"dashed\", linewidth=2, label=\"Mean\")\n",
    "plt.axvline(\n",
    "    mean_value + std_deviation,\n",
    "    color=\"green\",\n",
    "    linestyle=\"dashed\",\n",
    "    linewidth=2,\n",
    "    label=\"Mean + 1 Std Dev\",\n",
    ")\n",
    "plt.axvline(\n",
    "    mean_value - std_deviation,\n",
    "    color=\"green\",\n",
    "    linestyle=\"dashed\",\n",
    "    linewidth=2,\n",
    "    label=\"Mean - 1 Std Dev\",\n",
    ")\n",
    "\n",
    "# Set labels and title\n",
    "plt.xlabel(\"cost_per_bus\")\n",
    "plt.ylabel(\"Frequency\")\n",
    "plt.title(\"Histogram of cost_per_bus with Mean and Std Dev Lines\")\n",
    "plt.legend()\n",
    "\n",
    "# Show the plot\n",
    "plt.show()"
   ]
  },
  {
   "cell_type": "code",
   "execution_count": null,
   "id": "c3b5a48f-804e-4525-98fc-39d3fa845f6f",
   "metadata": {},
   "outputs": [],
   "source": [
    "import matplotlib.pyplot as plt\n",
    "import matplotlib.ticker as mticker\n",
    "import pandas as pd\n",
    "\n",
    "# Assuming your DataFrame is named df\n",
    "cost_per_bus_values = cost_per_bus[\"cost_per_bus\"]\n",
    "\n",
    "# Calculate mean and standard deviation\n",
    "mean_value = cost_per_bus_values.mean()\n",
    "std_deviation = cost_per_bus_values.std()\n",
    "\n",
    "# Plot histogram\n",
    "plt.hist(cost_per_bus_values, bins=20, color=\"skyblue\", edgecolor=\"black\", alpha=0.7)\n",
    "\n",
    "# Add vertical lines for mean and standard deviation\n",
    "plt.axvline(mean_value, color=\"red\", linestyle=\"dashed\", linewidth=2, label=\"Mean\")\n",
    "plt.axvline(\n",
    "    mean_value + std_deviation,\n",
    "    color=\"green\",\n",
    "    linestyle=\"dashed\",\n",
    "    linewidth=2,\n",
    "    label=\"Mean + 1 Std Dev\",\n",
    ")\n",
    "plt.axvline(\n",
    "    mean_value - std_deviation,\n",
    "    color=\"green\",\n",
    "    linestyle=\"dashed\",\n",
    "    linewidth=2,\n",
    "    label=\"Mean - 1 Std Dev\",\n",
    ")\n",
    "\n",
    "# Set labels and title\n",
    "plt.xlabel(\"Cost per Bus (USD)\")\n",
    "plt.ylabel(\"Frequency\")\n",
    "plt.title(\"Histogram of Cost per Bus with Mean and Std Dev Lines\")\n",
    "plt.legend()\n",
    "\n",
    "# Format x-axis ticks as USD\n",
    "plt.gca().xaxis.set_major_formatter(mticker.StrMethodFormatter(\"${x:,.0f}\"))\n",
    "\n",
    "# Show the plot\n",
    "plt.show()"
   ]
  }
 ],
 "metadata": {
  "kernelspec": {
   "display_name": "Python 3 (ipykernel)",
   "language": "python",
   "name": "python3"
  },
  "language_info": {
   "codemirror_mode": {
    "name": "ipython",
    "version": 3
   },
   "file_extension": ".py",
   "mimetype": "text/x-python",
   "name": "python",
   "nbconvert_exporter": "python",
   "pygments_lexer": "ipython3",
   "version": "3.9.13"
  }
 },
 "nbformat": 4,
 "nbformat_minor": 5
}
