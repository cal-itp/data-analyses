{
 "cells": [
  {
   "cell_type": "markdown",
   "id": "46b3c4b1-8668-49b7-a330-9bd1f092f7b9",
   "metadata": {},
   "source": [
    "## FY23 FTA Bus and Low- and No-Emission Grant Awards Analysis\n",
    "\n",
    "<b>GH issue:</b> \n",
    "* Research Request - Bus Procurement Costs & Awards #897\n",
    "\n",
    "<b>Data source(s):</b> \n",
    "1. https://www.transit.dot.gov/funding/grants/fy23-fta-bus-and-low-and-no-emission-grant-awards\n",
    "2. https://storymaps.arcgis.com/stories/022abf31cedd438b808ec2b827b6faff\n",
    "\n",
    "<b>Definitions:</b>  \n",
    "* <u>Grants for Buses and Bus Facilities Program:</u>\n",
    "    * 49 U.S.C. 5339(b)) makes federal resources available to states and direct recipients to replace, rehabilitate and purchase buses and related equipment and to construct bus-related facilities, including technological changes or innovations to modify low or no emission vehicles or facilities. Funding is provided through formula allocations and competitive grants. \n",
    "<br><br>\n",
    "* <u>Low or No Emission Vehicle Program:</u>\n",
    "    * 5339(c) provides funding to state and local governmental authorities for the purchase or lease of zero-emission and low-emission transit buses as well as acquisition, construction, and leasing of required supporting facilities.\n"
   ]
  },
  {
   "cell_type": "code",
   "execution_count": 1,
   "id": "1ad111b5-3933-45c4-aa3c-f12ea701e882",
   "metadata": {},
   "outputs": [],
   "source": [
    "import pandas as pd"
   ]
  },
  {
   "cell_type": "code",
   "execution_count": 5,
   "id": "a42530b9-806e-498b-8f82-9f123ddb087c",
   "metadata": {},
   "outputs": [],
   "source": [
    "df = pd.read_excel('gs://calitp-analytics-data/data-analyses/bus_procurement_cost/fta_press_release_data2.xlsx')"
   ]
  },
  {
   "cell_type": "code",
   "execution_count": 12,
   "id": "cd154e9d-297b-41c1-a940-af3f177e196b",
   "metadata": {},
   "outputs": [
    {
     "data": {
      "text/plain": [
       "(130, 12)"
      ]
     },
     "metadata": {},
     "output_type": "display_data"
    },
    {
     "data": {
      "text/plain": [
       "pandas.core.frame.DataFrame"
      ]
     },
     "metadata": {},
     "output_type": "display_data"
    },
    {
     "data": {
      "text/html": [
       "<div>\n",
       "<style scoped>\n",
       "    .dataframe tbody tr th:only-of-type {\n",
       "        vertical-align: middle;\n",
       "    }\n",
       "\n",
       "    .dataframe tbody tr th {\n",
       "        vertical-align: top;\n",
       "    }\n",
       "\n",
       "    .dataframe thead th {\n",
       "        text-align: right;\n",
       "    }\n",
       "</style>\n",
       "<table border=\"1\" class=\"dataframe\">\n",
       "  <thead>\n",
       "    <tr style=\"text-align: right;\">\n",
       "      <th></th>\n",
       "      <th>State</th>\n",
       "      <th>Project Sponsor</th>\n",
       "      <th>Project Title</th>\n",
       "      <th>Description</th>\n",
       "      <th>Funding</th>\n",
       "      <th>approx # of buses</th>\n",
       "      <th>project type</th>\n",
       "      <th>propulsion type</th>\n",
       "      <th>area served</th>\n",
       "      <th>congressional districts</th>\n",
       "      <th>FTA Region</th>\n",
       "      <th>Bus/Low-No program</th>\n",
       "    </tr>\n",
       "  </thead>\n",
       "  <tbody>\n",
       "    <tr>\n",
       "      <th>0</th>\n",
       "      <td>DC</td>\n",
       "      <td>Washington Metropolitan Area Transit Authority...</td>\n",
       "      <td>Battery-Electric Metrobus Procurement and Elec...</td>\n",
       "      <td>WMATA will receive funding to convert its Cind...</td>\n",
       "      <td>104000000</td>\n",
       "      <td>100(beb)</td>\n",
       "      <td>bus/chargers</td>\n",
       "      <td>zero</td>\n",
       "      <td>Large Urban</td>\n",
       "      <td>DC-001 ; MD-004 ; MD-008 ; VA-008 ; VA-011</td>\n",
       "      <td>3</td>\n",
       "      <td>Low-No</td>\n",
       "    </tr>\n",
       "    <tr>\n",
       "      <th>1</th>\n",
       "      <td>TX</td>\n",
       "      <td>Dallas Area Rapid Transit (DART)</td>\n",
       "      <td>DART CNG Bus Fleet Modernization Project</td>\n",
       "      <td>Dallas Area Rapid Transit will receive funding...</td>\n",
       "      <td>103000000</td>\n",
       "      <td>90 (estimated-CNG buses)</td>\n",
       "      <td>bus</td>\n",
       "      <td>low</td>\n",
       "      <td>Large Urban</td>\n",
       "      <td>TX-003 ; TX-004 ; TX-005 ; TX-006 ; TX-024 ; T...</td>\n",
       "      <td>6</td>\n",
       "      <td>Low-No</td>\n",
       "    </tr>\n",
       "    <tr>\n",
       "      <th>2</th>\n",
       "      <td>PA</td>\n",
       "      <td>Southeastern Pennsylvania Transportation Autho...</td>\n",
       "      <td>SEPTA Zero-Emission Bus Transition Facility Sa...</td>\n",
       "      <td>The Southeastern Pennsylvania Transportation A...</td>\n",
       "      <td>80000000</td>\n",
       "      <td>0</td>\n",
       "      <td>facility</td>\n",
       "      <td>zero</td>\n",
       "      <td>Large Urban</td>\n",
       "      <td>PA-002 ; PA-003 ; PA-004 ; PA-005</td>\n",
       "      <td>3</td>\n",
       "      <td>Low-No</td>\n",
       "    </tr>\n",
       "    <tr>\n",
       "      <th>3</th>\n",
       "      <td>LA</td>\n",
       "      <td>New Orleans Regional Transit Authority</td>\n",
       "      <td>Accelerating Zero-Emissions Mobility for a Res...</td>\n",
       "      <td>The New Orleans Regional Transit Authority wil...</td>\n",
       "      <td>71439261</td>\n",
       "      <td>20 (zero-emission)</td>\n",
       "      <td>Bus / Chargers / Equipment</td>\n",
       "      <td>zero</td>\n",
       "      <td>Large Urban</td>\n",
       "      <td>LA-002 ; LA-001</td>\n",
       "      <td>6</td>\n",
       "      <td>Low-No</td>\n",
       "    </tr>\n",
       "    <tr>\n",
       "      <th>4</th>\n",
       "      <td>NJ</td>\n",
       "      <td>New Jersey Transit Corporation</td>\n",
       "      <td>Hilton Bus Garage Modernization</td>\n",
       "      <td>New Jersey Transit will receive funding to mod...</td>\n",
       "      <td>47000000</td>\n",
       "      <td>0</td>\n",
       "      <td>facility/chargers</td>\n",
       "      <td>zero</td>\n",
       "      <td>Large Urban</td>\n",
       "      <td>nj-011</td>\n",
       "      <td>2</td>\n",
       "      <td>Bus</td>\n",
       "    </tr>\n",
       "  </tbody>\n",
       "</table>\n",
       "</div>"
      ],
      "text/plain": [
       "  State                                    Project Sponsor  \\\n",
       "0    DC  Washington Metropolitan Area Transit Authority...   \n",
       "1    TX                   Dallas Area Rapid Transit (DART)   \n",
       "2    PA  Southeastern Pennsylvania Transportation Autho...   \n",
       "3    LA             New Orleans Regional Transit Authority   \n",
       "4    NJ                     New Jersey Transit Corporation   \n",
       "\n",
       "                                       Project Title  \\\n",
       "0  Battery-Electric Metrobus Procurement and Elec...   \n",
       "1           DART CNG Bus Fleet Modernization Project   \n",
       "2  SEPTA Zero-Emission Bus Transition Facility Sa...   \n",
       "3  Accelerating Zero-Emissions Mobility for a Res...   \n",
       "4                    Hilton Bus Garage Modernization   \n",
       "\n",
       "                                         Description    Funding  \\\n",
       "0  WMATA will receive funding to convert its Cind...  104000000   \n",
       "1  Dallas Area Rapid Transit will receive funding...  103000000   \n",
       "2  The Southeastern Pennsylvania Transportation A...   80000000   \n",
       "3  The New Orleans Regional Transit Authority wil...   71439261   \n",
       "4  New Jersey Transit will receive funding to mod...   47000000   \n",
       "\n",
       "          approx # of buses                project type propulsion type  \\\n",
       "0                  100(beb)                bus/chargers            zero   \n",
       "1  90 (estimated-CNG buses)                         bus             low   \n",
       "2                         0                    facility            zero   \n",
       "3        20 (zero-emission)  Bus / Chargers / Equipment            zero   \n",
       "4                         0           facility/chargers            zero   \n",
       "\n",
       "   area served                            congressional districts  FTA Region  \\\n",
       "0  Large Urban         DC-001 ; MD-004 ; MD-008 ; VA-008 ; VA-011           3   \n",
       "1  Large Urban  TX-003 ; TX-004 ; TX-005 ; TX-006 ; TX-024 ; T...           6   \n",
       "2  Large Urban                  PA-002 ; PA-003 ; PA-004 ; PA-005           3   \n",
       "3  Large Urban                                    LA-002 ; LA-001           6   \n",
       "4  Large Urban                                             nj-011           2   \n",
       "\n",
       "  Bus/Low-No program  \n",
       "0             Low-No  \n",
       "1             Low-No  \n",
       "2             Low-No  \n",
       "3             Low-No  \n",
       "4                Bus  "
      ]
     },
     "metadata": {},
     "output_type": "display_data"
    }
   ],
   "source": [
    "# data is able to be read in\n",
    "display(df.shape,\n",
    "      type(df),\n",
    "      df.head(5)\n",
    "       )"
   ]
  },
  {
   "cell_type": "markdown",
   "id": "7f37c5d6-664c-48fd-9c32-cf7dcd3318ae",
   "metadata": {},
   "source": [
    "## Data Cleaning\n",
    "1. snake-case column name\n",
    "2. currency format funcding column (with $ and , )\n",
    "3. seperate text from # of bus col (split at '(')\n",
    "    a. trim spaces in new col\n",
    "    b. get rid of () characters in new col\n",
    "4. trim spaces in other columns?"
   ]
  },
  {
   "cell_type": "code",
   "execution_count": null,
   "id": "493cfd5f-1e5a-4e35-8fc0-a64c3365c1be",
   "metadata": {},
   "outputs": [],
   "source": []
  }
 ],
 "metadata": {
  "kernelspec": {
   "display_name": "Python 3 (ipykernel)",
   "language": "python",
   "name": "python3"
  },
  "language_info": {
   "codemirror_mode": {
    "name": "ipython",
    "version": 3
   },
   "file_extension": ".py",
   "mimetype": "text/x-python",
   "name": "python",
   "nbconvert_exporter": "python",
   "pygments_lexer": "ipython3",
   "version": "3.9.13"
  }
 },
 "nbformat": 4,
 "nbformat_minor": 5
}
