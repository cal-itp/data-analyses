{
 "cells": [
  {
   "cell_type": "markdown",
   "id": "46b3c4b1-8668-49b7-a330-9bd1f092f7b9",
   "metadata": {},
   "source": [
    "## FY23 FTA Bus and Low- and No-Emission Grant Awards Analysis\n",
    "\n",
    "<b>GH issue:</b> \n",
    "* Research Request - Bus Procurement Costs & Awards #897\n",
    "\n",
    "<b>Data source(s):</b> \n",
    "1. https://www.transit.dot.gov/funding/grants/fy23-fta-bus-and-low-and-no-emission-grant-awards\n",
    "2. https://storymaps.arcgis.com/stories/022abf31cedd438b808ec2b827b6faff\n",
    "\n",
    "<b>Definitions:</b>  \n",
    "* <u>Grants for Buses and Bus Facilities Program:</u>\n",
    "    * 49 U.S.C. 5339(b)) makes federal resources available to states and direct recipients to replace, rehabilitate and purchase buses and related equipment and to construct bus-related facilities, including technological changes or innovations to modify low or no emission vehicles or facilities. Funding is provided through formula allocations and competitive grants. \n",
    "<br><br>\n",
    "* <u>Low or No Emission Vehicle Program:</u>\n",
    "    * 5339(c) provides funding to state and local governmental authorities for the purchase or lease of zero-emission and low-emission transit buses as well as acquisition, construction, and leasing of required supporting facilities.\n"
   ]
  },
  {
   "cell_type": "code",
   "execution_count": 1,
   "id": "1ad111b5-3933-45c4-aa3c-f12ea701e882",
   "metadata": {},
   "outputs": [],
   "source": [
    "import pandas as pd\n",
    "pd.set_option('display.max_rows', 200)"
   ]
  },
  {
   "cell_type": "code",
   "execution_count": 2,
   "id": "a42530b9-806e-498b-8f82-9f123ddb087c",
   "metadata": {},
   "outputs": [],
   "source": [
    "df = pd.read_excel('gs://calitp-analytics-data/data-analyses/bus_procurement_cost/fta_press_release_data2.xlsx')"
   ]
  },
  {
   "cell_type": "code",
   "execution_count": 3,
   "id": "cd154e9d-297b-41c1-a940-af3f177e196b",
   "metadata": {},
   "outputs": [
    {
     "data": {
      "text/plain": [
       "(130, 12)"
      ]
     },
     "metadata": {},
     "output_type": "display_data"
    },
    {
     "data": {
      "text/plain": [
       "pandas.core.frame.DataFrame"
      ]
     },
     "metadata": {},
     "output_type": "display_data"
    },
    {
     "data": {
      "text/html": [
       "<div>\n",
       "<style scoped>\n",
       "    .dataframe tbody tr th:only-of-type {\n",
       "        vertical-align: middle;\n",
       "    }\n",
       "\n",
       "    .dataframe tbody tr th {\n",
       "        vertical-align: top;\n",
       "    }\n",
       "\n",
       "    .dataframe thead th {\n",
       "        text-align: right;\n",
       "    }\n",
       "</style>\n",
       "<table border=\"1\" class=\"dataframe\">\n",
       "  <thead>\n",
       "    <tr style=\"text-align: right;\">\n",
       "      <th></th>\n",
       "      <th>State</th>\n",
       "      <th>Project Sponsor</th>\n",
       "      <th>Project Title</th>\n",
       "      <th>Description</th>\n",
       "      <th>Funding</th>\n",
       "      <th>approx # of buses</th>\n",
       "      <th>project type</th>\n",
       "      <th>propulsion type</th>\n",
       "      <th>area served</th>\n",
       "      <th>congressional districts</th>\n",
       "      <th>FTA Region</th>\n",
       "      <th>Bus/Low-No program</th>\n",
       "    </tr>\n",
       "  </thead>\n",
       "  <tbody>\n",
       "    <tr>\n",
       "      <th>0</th>\n",
       "      <td>DC</td>\n",
       "      <td>Washington Metropolitan Area Transit Authority...</td>\n",
       "      <td>Battery-Electric Metrobus Procurement and Elec...</td>\n",
       "      <td>WMATA will receive funding to convert its Cind...</td>\n",
       "      <td>104000000</td>\n",
       "      <td>100(beb)</td>\n",
       "      <td>bus/chargers</td>\n",
       "      <td>zero</td>\n",
       "      <td>Large Urban</td>\n",
       "      <td>DC-001 ; MD-004 ; MD-008 ; VA-008 ; VA-011</td>\n",
       "      <td>3</td>\n",
       "      <td>Low-No</td>\n",
       "    </tr>\n",
       "    <tr>\n",
       "      <th>1</th>\n",
       "      <td>TX</td>\n",
       "      <td>Dallas Area Rapid Transit (DART)</td>\n",
       "      <td>DART CNG Bus Fleet Modernization Project</td>\n",
       "      <td>Dallas Area Rapid Transit will receive funding...</td>\n",
       "      <td>103000000</td>\n",
       "      <td>90 (estimated-CNG buses)</td>\n",
       "      <td>bus</td>\n",
       "      <td>low</td>\n",
       "      <td>Large Urban</td>\n",
       "      <td>TX-003 ; TX-004 ; TX-005 ; TX-006 ; TX-024 ; T...</td>\n",
       "      <td>6</td>\n",
       "      <td>Low-No</td>\n",
       "    </tr>\n",
       "    <tr>\n",
       "      <th>2</th>\n",
       "      <td>PA</td>\n",
       "      <td>Southeastern Pennsylvania Transportation Autho...</td>\n",
       "      <td>SEPTA Zero-Emission Bus Transition Facility Sa...</td>\n",
       "      <td>The Southeastern Pennsylvania Transportation A...</td>\n",
       "      <td>80000000</td>\n",
       "      <td>0</td>\n",
       "      <td>facility</td>\n",
       "      <td>zero</td>\n",
       "      <td>Large Urban</td>\n",
       "      <td>PA-002 ; PA-003 ; PA-004 ; PA-005</td>\n",
       "      <td>3</td>\n",
       "      <td>Low-No</td>\n",
       "    </tr>\n",
       "    <tr>\n",
       "      <th>3</th>\n",
       "      <td>LA</td>\n",
       "      <td>New Orleans Regional Transit Authority</td>\n",
       "      <td>Accelerating Zero-Emissions Mobility for a Res...</td>\n",
       "      <td>The New Orleans Regional Transit Authority wil...</td>\n",
       "      <td>71439261</td>\n",
       "      <td>20 (zero-emission)</td>\n",
       "      <td>Bus / Chargers / Equipment</td>\n",
       "      <td>zero</td>\n",
       "      <td>Large Urban</td>\n",
       "      <td>LA-002 ; LA-001</td>\n",
       "      <td>6</td>\n",
       "      <td>Low-No</td>\n",
       "    </tr>\n",
       "    <tr>\n",
       "      <th>4</th>\n",
       "      <td>NJ</td>\n",
       "      <td>New Jersey Transit Corporation</td>\n",
       "      <td>Hilton Bus Garage Modernization</td>\n",
       "      <td>New Jersey Transit will receive funding to mod...</td>\n",
       "      <td>47000000</td>\n",
       "      <td>0</td>\n",
       "      <td>facility/chargers</td>\n",
       "      <td>zero</td>\n",
       "      <td>Large Urban</td>\n",
       "      <td>nj-011</td>\n",
       "      <td>2</td>\n",
       "      <td>Bus</td>\n",
       "    </tr>\n",
       "  </tbody>\n",
       "</table>\n",
       "</div>"
      ],
      "text/plain": [
       "  State                                    Project Sponsor  \\\n",
       "0    DC  Washington Metropolitan Area Transit Authority...   \n",
       "1    TX                   Dallas Area Rapid Transit (DART)   \n",
       "2    PA  Southeastern Pennsylvania Transportation Autho...   \n",
       "3    LA             New Orleans Regional Transit Authority   \n",
       "4    NJ                     New Jersey Transit Corporation   \n",
       "\n",
       "                                       Project Title  \\\n",
       "0  Battery-Electric Metrobus Procurement and Elec...   \n",
       "1           DART CNG Bus Fleet Modernization Project   \n",
       "2  SEPTA Zero-Emission Bus Transition Facility Sa...   \n",
       "3  Accelerating Zero-Emissions Mobility for a Res...   \n",
       "4                    Hilton Bus Garage Modernization   \n",
       "\n",
       "                                         Description    Funding  \\\n",
       "0  WMATA will receive funding to convert its Cind...  104000000   \n",
       "1  Dallas Area Rapid Transit will receive funding...  103000000   \n",
       "2  The Southeastern Pennsylvania Transportation A...   80000000   \n",
       "3  The New Orleans Regional Transit Authority wil...   71439261   \n",
       "4  New Jersey Transit will receive funding to mod...   47000000   \n",
       "\n",
       "          approx # of buses                project type propulsion type  \\\n",
       "0                  100(beb)                bus/chargers            zero   \n",
       "1  90 (estimated-CNG buses)                         bus             low   \n",
       "2                         0                    facility            zero   \n",
       "3        20 (zero-emission)  Bus / Chargers / Equipment            zero   \n",
       "4                         0           facility/chargers            zero   \n",
       "\n",
       "   area served                            congressional districts  FTA Region  \\\n",
       "0  Large Urban         DC-001 ; MD-004 ; MD-008 ; VA-008 ; VA-011           3   \n",
       "1  Large Urban  TX-003 ; TX-004 ; TX-005 ; TX-006 ; TX-024 ; T...           6   \n",
       "2  Large Urban                  PA-002 ; PA-003 ; PA-004 ; PA-005           3   \n",
       "3  Large Urban                                    LA-002 ; LA-001           6   \n",
       "4  Large Urban                                             nj-011           2   \n",
       "\n",
       "  Bus/Low-No program  \n",
       "0             Low-No  \n",
       "1             Low-No  \n",
       "2             Low-No  \n",
       "3             Low-No  \n",
       "4                Bus  "
      ]
     },
     "metadata": {},
     "output_type": "display_data"
    }
   ],
   "source": [
    "# data is able to be read in\n",
    "display(df.shape,\n",
    "      type(df),\n",
    "      df.head(5)\n",
    "       )"
   ]
  },
  {
   "cell_type": "markdown",
   "id": "7f37c5d6-664c-48fd-9c32-cf7dcd3318ae",
   "metadata": {},
   "source": [
    "## Data Cleaning\n",
    "1. snake-case column name\n",
    "2. currency format funcding column (with $ and , )\n",
    "3. seperate text from # of bus col (split at '(')\n",
    "    a. trim spaces in new col\n",
    "    b. get rid of () characters in new col\n",
    "4. trim spaces in other columns?"
   ]
  },
  {
   "cell_type": "code",
   "execution_count": 4,
   "id": "493cfd5f-1e5a-4e35-8fc0-a64c3365c1be",
   "metadata": {},
   "outputs": [
    {
     "data": {
      "text/plain": [
       "Index(['State', 'Project Sponsor', 'Project Title', 'Description', 'Funding',\n",
       "       'approx # of buses', 'project type', 'propulsion type', 'area served',\n",
       "       'congressional districts', 'FTA Region', 'Bus/Low-No program'],\n",
       "      dtype='object')"
      ]
     },
     "execution_count": 4,
     "metadata": {},
     "output_type": "execute_result"
    }
   ],
   "source": [
    "df.columns"
   ]
  },
  {
   "cell_type": "code",
   "execution_count": 5,
   "id": "797069c2-1937-4b11-bc6f-f1e5eb39534a",
   "metadata": {},
   "outputs": [
    {
     "data": {
      "text/plain": [
       "Index(['state', 'project_sponsor', 'project_title', 'description', 'funding',\n",
       "       '#_of_buses', 'project_type', 'propulsion_type', 'area_served',\n",
       "       'congressional_districts', 'fta_region', 'bus/low-no_program'],\n",
       "      dtype='object')"
      ]
     },
     "execution_count": 5,
     "metadata": {},
     "output_type": "execute_result"
    }
   ],
   "source": [
    "#snake case columns names via list\n",
    "new_col=['state',\n",
    "         'project_sponsor',\n",
    "         'project_title',\n",
    "         'description',\n",
    "         'funding',\n",
    "         '#_of_buses',\n",
    "         'project_type',\n",
    "         'propulsion_type',\n",
    "         'area_served',\n",
    "         'congressional_districts',\n",
    "         'fta_region',\n",
    "         'bus/low-no_program'\n",
    "]\n",
    "\n",
    "df.columns = new_col\n",
    "df.columns"
   ]
  },
  {
   "cell_type": "code",
   "execution_count": 6,
   "id": "03193a06-1851-4c51-bd45-5576ff66993c",
   "metadata": {},
   "outputs": [
    {
     "data": {
      "text/plain": [
       "dtype('int64')"
      ]
     },
     "metadata": {},
     "output_type": "display_data"
    },
    {
     "data": {
      "text/plain": [
       "5000000      3\n",
       "6000000      2\n",
       "3400000      2\n",
       "104000000    1\n",
       "4313552      1\n",
       "3133129      1\n",
       "3187200      1\n",
       "3199038      1\n",
       "3248500      1\n",
       "3303600      1\n",
       "3326067      1\n",
       "3609800      1\n",
       "3645000      1\n",
       "3937500      1\n",
       "4094652      1\n",
       "4278772      1\n",
       "4500000      1\n",
       "4492904      1\n",
       "2860250      1\n",
       "4690010      1\n",
       "4738886      1\n",
       "5001700      1\n",
       "5750351      1\n",
       "5883200      1\n",
       "5945553      1\n",
       "6197180      1\n",
       "6341306      1\n",
       "6407460      1\n",
       "6424808      1\n",
       "6455325      1\n",
       "2932500      1\n",
       "2819460      1\n",
       "103000000    1\n",
       "1080000      1\n",
       "233760       1\n",
       "280800       1\n",
       "300000       1\n",
       "320000       1\n",
       "514002       1\n",
       "653184       1\n",
       "723171       1\n",
       "753118       1\n",
       "776714       1\n",
       "945178       1\n",
       "1006750      1\n",
       "1010372      1\n",
       "1055365      1\n",
       "1145951      1\n",
       "2359072      1\n",
       "1162000      1\n",
       "1200000      1\n",
       "1276628      1\n",
       "1280000      1\n",
       "1456970      1\n",
       "1506618      1\n",
       "1672000      1\n",
       "1760000      1\n",
       "2063160      1\n",
       "2160000      1\n",
       "2162886      1\n",
       "2207758      1\n",
       "2212747      1\n",
       "6586104      1\n",
       "6635394      1\n",
       "6859296      1\n",
       "28947368     1\n",
       "19040336     1\n",
       "20000000     1\n",
       "20370793     1\n",
       "20381950     1\n",
       "21490560     1\n",
       "22286745     1\n",
       "22469312     1\n",
       "23280546     1\n",
       "23984700     1\n",
       "25000000     1\n",
       "25513684     1\n",
       "25906730     1\n",
       "26437120     1\n",
       "29330243     1\n",
       "7305526      1\n",
       "29331665     1\n",
       "30128378     1\n",
       "30890413     1\n",
       "31535000     1\n",
       "33552634     1\n",
       "37808113     1\n",
       "37962840     1\n",
       "39142124     1\n",
       "39863156     1\n",
       "40402548     1\n",
       "47000000     1\n",
       "71439261     1\n",
       "80000000     1\n",
       "18262255     1\n",
       "17853710     1\n",
       "17532900     1\n",
       "17055353     1\n",
       "7393183      1\n",
       "7440000      1\n",
       "7443765      1\n",
       "7526400      1\n",
       "7598425      1\n",
       "7852320      1\n",
       "8122850      1\n",
       "8740728      1\n",
       "8784606      1\n",
       "9644865      1\n",
       "9650646      1\n",
       "9806428      1\n",
       "9899120      1\n",
       "10000000     1\n",
       "10388000     1\n",
       "10694736     1\n",
       "10700000     1\n",
       "11560000     1\n",
       "11570906     1\n",
       "12299377     1\n",
       "12458500     1\n",
       "12600000     1\n",
       "13295699     1\n",
       "13880910     1\n",
       "15423904     1\n",
       "16166822     1\n",
       "16358000     1\n",
       "181250       1\n",
       "Name: funding, dtype: int64"
      ]
     },
     "metadata": {},
     "output_type": "display_data"
    }
   ],
   "source": [
    "#checking data type of funding col\n",
    "#checking to see if any values are not numbers\n",
    "display(df['funding'].dtype,\n",
    "        df.funding.value_counts()\n",
    "       )"
   ]
  },
  {
   "cell_type": "code",
   "execution_count": 7,
   "id": "e3e6b92c-7e80-4db9-b676-b92c53402946",
   "metadata": {},
   "outputs": [],
   "source": [
    "#test of adding thousand comma seperators to funding column\n",
    "df['funding'] = df['funding'].apply('{:,}'.format)"
   ]
  },
  {
   "cell_type": "code",
   "execution_count": 8,
   "id": "9ef368b9-1667-4866-8fa3-f0704d22a0aa",
   "metadata": {},
   "outputs": [
    {
     "data": {
      "text/plain": [
       "5,000,000      3\n",
       "6,000,000      2\n",
       "3,400,000      2\n",
       "104,000,000    1\n",
       "4,313,552      1\n",
       "Name: funding, dtype: int64"
      ]
     },
     "execution_count": 8,
     "metadata": {},
     "output_type": "execute_result"
    }
   ],
   "source": [
    "#thousand comma showing as intended.\n",
    "df.funding.value_counts().head()"
   ]
  },
  {
   "cell_type": "code",
   "execution_count": 9,
   "id": "1fb94754-e795-4e78-8a91-2732566a1792",
   "metadata": {},
   "outputs": [],
   "source": [
    "#test of removing the spaces first in # of bus colum, THEN split by (\n",
    "df['#_of_buses'] = df['#_of_buses'].str.replace(' ','')"
   ]
  },
  {
   "cell_type": "code",
   "execution_count": 10,
   "id": "1e682fca-2f4b-4459-a46e-fccce29f2650",
   "metadata": {},
   "outputs": [],
   "source": [
    "df[['bus_count','bus_desc']] = df['#_of_buses'].str.split(pat='(',n=1, expand=True)"
   ]
  },
  {
   "cell_type": "code",
   "execution_count": 11,
   "id": "156b81ec-4807-4226-97cf-cd36dc39dfd4",
   "metadata": {},
   "outputs": [
    {
     "data": {
      "text/html": [
       "<div>\n",
       "<style scoped>\n",
       "    .dataframe tbody tr th:only-of-type {\n",
       "        vertical-align: middle;\n",
       "    }\n",
       "\n",
       "    .dataframe tbody tr th {\n",
       "        vertical-align: top;\n",
       "    }\n",
       "\n",
       "    .dataframe thead th {\n",
       "        text-align: right;\n",
       "    }\n",
       "</style>\n",
       "<table border=\"1\" class=\"dataframe\">\n",
       "  <thead>\n",
       "    <tr style=\"text-align: right;\">\n",
       "      <th></th>\n",
       "      <th>state</th>\n",
       "      <th>project_sponsor</th>\n",
       "      <th>project_title</th>\n",
       "      <th>description</th>\n",
       "      <th>funding</th>\n",
       "      <th>#_of_buses</th>\n",
       "      <th>project_type</th>\n",
       "      <th>propulsion_type</th>\n",
       "      <th>area_served</th>\n",
       "      <th>congressional_districts</th>\n",
       "      <th>fta_region</th>\n",
       "      <th>bus/low-no_program</th>\n",
       "      <th>bus_count</th>\n",
       "      <th>bus_desc</th>\n",
       "    </tr>\n",
       "  </thead>\n",
       "  <tbody>\n",
       "    <tr>\n",
       "      <th>0</th>\n",
       "      <td>DC</td>\n",
       "      <td>Washington Metropolitan Area Transit Authority...</td>\n",
       "      <td>Battery-Electric Metrobus Procurement and Elec...</td>\n",
       "      <td>WMATA will receive funding to convert its Cind...</td>\n",
       "      <td>104,000,000</td>\n",
       "      <td>100(beb)</td>\n",
       "      <td>bus/chargers</td>\n",
       "      <td>zero</td>\n",
       "      <td>Large Urban</td>\n",
       "      <td>DC-001 ; MD-004 ; MD-008 ; VA-008 ; VA-011</td>\n",
       "      <td>3</td>\n",
       "      <td>Low-No</td>\n",
       "      <td>100</td>\n",
       "      <td>beb)</td>\n",
       "    </tr>\n",
       "    <tr>\n",
       "      <th>1</th>\n",
       "      <td>TX</td>\n",
       "      <td>Dallas Area Rapid Transit (DART)</td>\n",
       "      <td>DART CNG Bus Fleet Modernization Project</td>\n",
       "      <td>Dallas Area Rapid Transit will receive funding...</td>\n",
       "      <td>103,000,000</td>\n",
       "      <td>90(estimated-CNGbuses)</td>\n",
       "      <td>bus</td>\n",
       "      <td>low</td>\n",
       "      <td>Large Urban</td>\n",
       "      <td>TX-003 ; TX-004 ; TX-005 ; TX-006 ; TX-024 ; T...</td>\n",
       "      <td>6</td>\n",
       "      <td>Low-No</td>\n",
       "      <td>90</td>\n",
       "      <td>estimated-CNGbuses)</td>\n",
       "    </tr>\n",
       "    <tr>\n",
       "      <th>2</th>\n",
       "      <td>PA</td>\n",
       "      <td>Southeastern Pennsylvania Transportation Autho...</td>\n",
       "      <td>SEPTA Zero-Emission Bus Transition Facility Sa...</td>\n",
       "      <td>The Southeastern Pennsylvania Transportation A...</td>\n",
       "      <td>80,000,000</td>\n",
       "      <td>NaN</td>\n",
       "      <td>facility</td>\n",
       "      <td>zero</td>\n",
       "      <td>Large Urban</td>\n",
       "      <td>PA-002 ; PA-003 ; PA-004 ; PA-005</td>\n",
       "      <td>3</td>\n",
       "      <td>Low-No</td>\n",
       "      <td>NaN</td>\n",
       "      <td>NaN</td>\n",
       "    </tr>\n",
       "    <tr>\n",
       "      <th>3</th>\n",
       "      <td>LA</td>\n",
       "      <td>New Orleans Regional Transit Authority</td>\n",
       "      <td>Accelerating Zero-Emissions Mobility for a Res...</td>\n",
       "      <td>The New Orleans Regional Transit Authority wil...</td>\n",
       "      <td>71,439,261</td>\n",
       "      <td>20(zero-emission)</td>\n",
       "      <td>Bus / Chargers / Equipment</td>\n",
       "      <td>zero</td>\n",
       "      <td>Large Urban</td>\n",
       "      <td>LA-002 ; LA-001</td>\n",
       "      <td>6</td>\n",
       "      <td>Low-No</td>\n",
       "      <td>20</td>\n",
       "      <td>zero-emission)</td>\n",
       "    </tr>\n",
       "    <tr>\n",
       "      <th>4</th>\n",
       "      <td>NJ</td>\n",
       "      <td>New Jersey Transit Corporation</td>\n",
       "      <td>Hilton Bus Garage Modernization</td>\n",
       "      <td>New Jersey Transit will receive funding to mod...</td>\n",
       "      <td>47,000,000</td>\n",
       "      <td>NaN</td>\n",
       "      <td>facility/chargers</td>\n",
       "      <td>zero</td>\n",
       "      <td>Large Urban</td>\n",
       "      <td>nj-011</td>\n",
       "      <td>2</td>\n",
       "      <td>Bus</td>\n",
       "      <td>NaN</td>\n",
       "      <td>NaN</td>\n",
       "    </tr>\n",
       "  </tbody>\n",
       "</table>\n",
       "</div>"
      ],
      "text/plain": [
       "  state                                    project_sponsor  \\\n",
       "0    DC  Washington Metropolitan Area Transit Authority...   \n",
       "1    TX                   Dallas Area Rapid Transit (DART)   \n",
       "2    PA  Southeastern Pennsylvania Transportation Autho...   \n",
       "3    LA             New Orleans Regional Transit Authority   \n",
       "4    NJ                     New Jersey Transit Corporation   \n",
       "\n",
       "                                       project_title  \\\n",
       "0  Battery-Electric Metrobus Procurement and Elec...   \n",
       "1           DART CNG Bus Fleet Modernization Project   \n",
       "2  SEPTA Zero-Emission Bus Transition Facility Sa...   \n",
       "3  Accelerating Zero-Emissions Mobility for a Res...   \n",
       "4                    Hilton Bus Garage Modernization   \n",
       "\n",
       "                                         description      funding  \\\n",
       "0  WMATA will receive funding to convert its Cind...  104,000,000   \n",
       "1  Dallas Area Rapid Transit will receive funding...  103,000,000   \n",
       "2  The Southeastern Pennsylvania Transportation A...   80,000,000   \n",
       "3  The New Orleans Regional Transit Authority wil...   71,439,261   \n",
       "4  New Jersey Transit will receive funding to mod...   47,000,000   \n",
       "\n",
       "               #_of_buses                project_type propulsion_type  \\\n",
       "0                100(beb)                bus/chargers            zero   \n",
       "1  90(estimated-CNGbuses)                         bus             low   \n",
       "2                     NaN                    facility            zero   \n",
       "3       20(zero-emission)  Bus / Chargers / Equipment            zero   \n",
       "4                     NaN           facility/chargers            zero   \n",
       "\n",
       "   area_served                            congressional_districts  fta_region  \\\n",
       "0  Large Urban         DC-001 ; MD-004 ; MD-008 ; VA-008 ; VA-011           3   \n",
       "1  Large Urban  TX-003 ; TX-004 ; TX-005 ; TX-006 ; TX-024 ; T...           6   \n",
       "2  Large Urban                  PA-002 ; PA-003 ; PA-004 ; PA-005           3   \n",
       "3  Large Urban                                    LA-002 ; LA-001           6   \n",
       "4  Large Urban                                             nj-011           2   \n",
       "\n",
       "  bus/low-no_program bus_count             bus_desc  \n",
       "0             Low-No       100                 beb)  \n",
       "1             Low-No        90  estimated-CNGbuses)  \n",
       "2             Low-No       NaN                  NaN  \n",
       "3             Low-No        20       zero-emission)  \n",
       "4                Bus       NaN                  NaN  "
      ]
     },
     "execution_count": 11,
     "metadata": {},
     "output_type": "execute_result"
    }
   ],
   "source": [
    "#retained the initial col. and added new columns to the end.\n",
    "df.head()"
   ]
  },
  {
   "cell_type": "code",
   "execution_count": 12,
   "id": "fd20bd24-6df2-4b7d-ad92-2b52fe2c6a41",
   "metadata": {},
   "outputs": [
    {
     "data": {
      "text/plain": [
       "4                          9\n",
       "7                          6\n",
       "20                         6\n",
       "6                          6\n",
       "5                          4\n",
       "3                          3\n",
       "2                          3\n",
       "16                         3\n",
       "9                          3\n",
       "11                         3\n",
       "25                         3\n",
       "10                         3\n",
       "1                          2\n",
       "15                         2\n",
       "56estimated-cutawayvans    1\n",
       "14                         1\n",
       "8                          1\n",
       "50                         1\n",
       "100                        1\n",
       "37                         1\n",
       "12batteryelectric          1\n",
       "90                         1\n",
       "39                         1\n",
       "17                         1\n",
       "13                         1\n",
       "23                         1\n",
       "30                         1\n",
       "35                         1\n",
       "40                         1\n",
       "12                         1\n",
       "Name: bus_count, dtype: int64"
      ]
     },
     "execution_count": 12,
     "metadata": {},
     "output_type": "execute_result"
    }
   ],
   "source": [
    "#examining the new bus count col. \n",
    "#see there are 2 values that are inconsistent.\n",
    "df.bus_count.value_counts()"
   ]
  },
  {
   "cell_type": "code",
   "execution_count": 13,
   "id": "3d3c02c1-6582-4034-b0df-596235ac35fd",
   "metadata": {},
   "outputs": [],
   "source": [
    "#function to find the row index of a specific value and column in a dataframe\n",
    "def find_loc(data,col,val):\n",
    "    x = data.loc[data[col] == val].index[0]\n",
    "    return x"
   ]
  },
  {
   "cell_type": "code",
   "execution_count": 14,
   "id": "261cac0b-6427-4420-bbb2-41121574b09e",
   "metadata": {},
   "outputs": [],
   "source": [
    "loc1 = find_loc(df,'bus_count','56estimated-cutawayvans')\n",
    "loc2 = find_loc(df,'bus_count','12batteryelectric')"
   ]
  },
  {
   "cell_type": "code",
   "execution_count": 15,
   "id": "887f3bce-9b0e-45a1-93ae-920a3584f466",
   "metadata": {},
   "outputs": [
    {
     "data": {
      "text/plain": [
       "58"
      ]
     },
     "metadata": {},
     "output_type": "display_data"
    },
    {
     "data": {
      "text/plain": [
       "32"
      ]
     },
     "metadata": {},
     "output_type": "display_data"
    }
   ],
   "source": [
    "display(loc1,\n",
    "        loc2\n",
    ")"
   ]
  },
  {
   "cell_type": "code",
   "execution_count": null,
   "id": "46065069-4d01-4f54-a132-a671d50ac9b9",
   "metadata": {},
   "outputs": [],
   "source": [
    "#editing the values of the bus count col at specific location\n"
   ]
  }
 ],
 "metadata": {
  "kernelspec": {
   "display_name": "Python 3 (ipykernel)",
   "language": "python",
   "name": "python3"
  },
  "language_info": {
   "codemirror_mode": {
    "name": "ipython",
    "version": 3
   },
   "file_extension": ".py",
   "mimetype": "text/x-python",
   "name": "python",
   "nbconvert_exporter": "python",
   "pygments_lexer": "ipython3",
   "version": "3.9.13"
  }
 },
 "nbformat": 4,
 "nbformat_minor": 5
}
