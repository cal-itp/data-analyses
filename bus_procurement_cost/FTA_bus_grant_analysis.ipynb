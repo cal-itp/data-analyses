{
 "cells": [
  {
   "cell_type": "markdown",
   "id": "46b3c4b1-8668-49b7-a330-9bd1f092f7b9",
   "metadata": {},
   "source": [
    "## FY23 FTA Bus and Low- and No-Emission Grant Awards Analysis\n",
    "\n",
    "<b>GH issue:</b> \n",
    "* Research Request - Bus Procurement Costs & Awards #897\n",
    "\n",
    "<b>Data source(s):</b> \n",
    "1. https://www.transit.dot.gov/funding/grants/fy23-fta-bus-and-low-and-no-emission-grant-awards\n",
    "2. https://storymaps.arcgis.com/stories/022abf31cedd438b808ec2b827b6faff\n",
    "\n",
    "<b>Definitions:</b>  \n",
    "* <u>Grants for Buses and Bus Facilities Program:</u>\n",
    "    * 49 U.S.C. 5339(b)) makes federal resources available to states and direct recipients to replace, rehabilitate and purchase buses and related equipment and to construct bus-related facilities, including technological changes or innovations to modify low or no emission vehicles or facilities. Funding is provided through formula allocations and competitive grants. \n",
    "<br><br>\n",
    "* <u>Low or No Emission Vehicle Program:</u>\n",
    "    * 5339(c) provides funding to state and local governmental authorities for the purchase or lease of zero-emission and low-emission transit buses as well as acquisition, construction, and leasing of required supporting facilities.\n"
   ]
  },
  {
   "cell_type": "code",
   "execution_count": 2,
   "id": "1ad111b5-3933-45c4-aa3c-f12ea701e882",
   "metadata": {},
   "outputs": [],
   "source": [
    "import pandas as pd\n",
    "import shared_utils\n",
    "\n",
    "#set_option to increase max rows displayed to 200, to see entire df in 1 go/\n",
    "pd.set_option(\"display.max_rows\", 200)\n"
   ]
  },
  {
   "cell_type": "markdown",
   "id": "467fc38e-6313-44c7-9797-456ecd752e57",
   "metadata": {
    "tags": []
   },
   "source": [
    "## Reading in raw data from gcs"
   ]
  },
  {
   "cell_type": "code",
   "execution_count": 3,
   "id": "a42530b9-806e-498b-8f82-9f123ddb087c",
   "metadata": {},
   "outputs": [],
   "source": [
    "df = pd.read_csv(\n",
    "    \"gs://calitp-analytics-data/data-analyses/bus_procurement_cost/data-analyses_bus_procurement_cost_fta_press_release_data_csv.csv\"\n",
    ")"
   ]
  },
  {
   "cell_type": "markdown",
   "id": "7f37c5d6-664c-48fd-9c32-cf7dcd3318ae",
   "metadata": {
    "jp-MarkdownHeadingCollapsed": true,
    "tags": []
   },
   "source": [
    "## Data Cleaning\n",
    "1. snake-case column name\n",
    "2. currency format funcding column (with $ and , )\n",
    "3. seperate text from # of bus col (split at '(')\n",
    "    a. trim spaces in new col\n",
    "    b. get rid of () characters in new col\n",
    "4. trim spaces in other columns?"
   ]
  },
  {
   "cell_type": "code",
   "execution_count": 7,
   "id": "797069c2-1937-4b11-bc6f-f1e5eb39534a",
   "metadata": {},
   "outputs": [
    {
     "data": {
      "text/plain": [
       "Index(['state', 'project_sponsor', 'project_title', 'description', 'funding',\n",
       "       '#_of_buses', 'project_type', 'propulsion_type', 'area_served',\n",
       "       'congressional_districts', 'fta_region', 'bus/low-no_program'],\n",
       "      dtype='object')"
      ]
     },
     "execution_count": 7,
     "metadata": {},
     "output_type": "execute_result"
    }
   ],
   "source": [
    "# snake case columns names via list\n",
    "new_col = [\n",
    "    \"state\",\n",
    "    \"project_sponsor\",\n",
    "    \"project_title\",\n",
    "    \"description\",\n",
    "    \"funding\",\n",
    "    \"#_of_buses\",\n",
    "    \"project_type\",\n",
    "    \"propulsion_type\",\n",
    "    \"area_served\",\n",
    "    \"congressional_districts\",\n",
    "    \"fta_region\",\n",
    "    \"bus/low-no_program\",\n",
    "]\n",
    "\n",
    "df.columns = new_col\n",
    "df.columns"
   ]
  },
  {
   "cell_type": "code",
   "execution_count": 8,
   "id": "03193a06-1851-4c51-bd45-5576ff66993c",
   "metadata": {},
   "outputs": [
    {
     "data": {
      "text/plain": [
       "dtype('O')"
      ]
     },
     "metadata": {},
     "output_type": "display_data"
    },
    {
     "data": {
      "text/plain": [
       "$5,000,000       3\n",
       "$6,000,000       2\n",
       "$3,400,000       2\n",
       "$104,000,000     1\n",
       "$4,313,552       1\n",
       "$3,133,129       1\n",
       "$3,187,200       1\n",
       "$3,199,038       1\n",
       "$3,248,500       1\n",
       "$3,303,600       1\n",
       "$3,326,067       1\n",
       "$3,609,800       1\n",
       "$3,645,000       1\n",
       "$3,937,500       1\n",
       "$4,094,652       1\n",
       "$4,278,772       1\n",
       "$4,500,000       1\n",
       "$4,492,904       1\n",
       "$2,860,250       1\n",
       "$4,690,010       1\n",
       "$4,738,886       1\n",
       "$5,001,700       1\n",
       "$5,750,351       1\n",
       "$5,883,200       1\n",
       "$5,945,553       1\n",
       "$6,197,180       1\n",
       "$6,341,306       1\n",
       "$6,407,460       1\n",
       "$6,424,808       1\n",
       "$6,455,325       1\n",
       "$2,932,500       1\n",
       "$2,819,460       1\n",
       "$103,000,000     1\n",
       "$1,080,000       1\n",
       "$233,760         1\n",
       "$280,800         1\n",
       "$300,000         1\n",
       "$320,000         1\n",
       "$514,002         1\n",
       "$653,184         1\n",
       "$723,171         1\n",
       "$753,118         1\n",
       "$776,714         1\n",
       "$945,178         1\n",
       "$1,006,750       1\n",
       "$1,010,372       1\n",
       "$1,055,365       1\n",
       "$1,145,951       1\n",
       "$2,359,072       1\n",
       "$1,162,000       1\n",
       "$1,200,000       1\n",
       "$1,276,628       1\n",
       "$1,280,000       1\n",
       "$1,456,970       1\n",
       "$1,506,618       1\n",
       "$1,672,000       1\n",
       "$1,760,000       1\n",
       "$2,063,160       1\n",
       "$2,160,000       1\n",
       "$2,162,886       1\n",
       "$2,207,758       1\n",
       "$2,212,747       1\n",
       "$6,586,104       1\n",
       "$6,635,394       1\n",
       "$6,859,296       1\n",
       "$28,947,368      1\n",
       "$19,040,336      1\n",
       "$20,000,000      1\n",
       "$20,370,793      1\n",
       "$20,381,950      1\n",
       "$21,490,560      1\n",
       "$22,286,745      1\n",
       "$22,469,312      1\n",
       "$23,280,546      1\n",
       "$23,984,700      1\n",
       "$25,000,000      1\n",
       "$25,513,684      1\n",
       "$25,906,730      1\n",
       "$26,437,120      1\n",
       "$29,330,243      1\n",
       "$7,305,526       1\n",
       "$29,331,665      1\n",
       "$30,128,378      1\n",
       "$30,890,413      1\n",
       "$31,535,000      1\n",
       "$33,552,634      1\n",
       "$37,808,113      1\n",
       "$37,962,840      1\n",
       "$39,142,124      1\n",
       "$39,863,156      1\n",
       "$40,402,548      1\n",
       "$47,000,000      1\n",
       "$71,439,261      1\n",
       "$80,000,000      1\n",
       "$18,262,255      1\n",
       "$17,853,710      1\n",
       "$17,532,900      1\n",
       "$17,055,353      1\n",
       "$7,393,183       1\n",
       "$7,440,000       1\n",
       "$7,443,765       1\n",
       "$7,526,400       1\n",
       "$7,598,425       1\n",
       "$7,852,320       1\n",
       "$8,122,850       1\n",
       "$8,740,728       1\n",
       "$8,784,606       1\n",
       "$9,644,865       1\n",
       "$9,650,646       1\n",
       "$9,806,428       1\n",
       "$9,899,120       1\n",
       "$10,000,000      1\n",
       "$10,388,000      1\n",
       "$10,694,736      1\n",
       "$10,700,000      1\n",
       "$11,560,000      1\n",
       "$11,570,906      1\n",
       "$12,299,377      1\n",
       "$12,458,500      1\n",
       "$12,600,000      1\n",
       "$13,295,699      1\n",
       "$13,880,910      1\n",
       "$15,423,904      1\n",
       "$16,166,822      1\n",
       "$16,358,000      1\n",
       "$181,250         1\n",
       "Name: funding, dtype: int64"
      ]
     },
     "metadata": {},
     "output_type": "display_data"
    }
   ],
   "source": [
    "# checking data type of funding col\n",
    "# checking to see if any values are not numbers\n",
    "# will need to clean up this col\n",
    "display(df[\"funding\"].dtype,\n",
    "        df.funding.value_counts()\n",
    "       )"
   ]
  },
  {
   "cell_type": "code",
   "execution_count": 18,
   "id": "7efb6ebf-474a-4c58-8052-a7427e881649",
   "metadata": {},
   "outputs": [
    {
     "name": "stderr",
     "output_type": "stream",
     "text": [
      "/tmp/ipykernel_417/2798189375.py:2: FutureWarning: The default value of regex will change from True to False in a future version. In addition, single character regular expressions will *not* be treated as literal strings when regex=True.\n",
      "  df['funding']=df['funding'].str.replace('$','')\n"
     ]
    }
   ],
   "source": [
    "#clean up funding column. removing $ and , and making column as int64\n",
    "df['funding']=df['funding'].str.replace('$','')\n",
    "df['funding']=df['funding'].str.replace(',','')\n",
    "df['funding'] = df['funding'].astype('int64')"
   ]
  },
  {
   "cell_type": "code",
   "execution_count": 19,
   "id": "2316c492-d1c5-43fd-abb8-d9a0c510f49e",
   "metadata": {},
   "outputs": [
    {
     "data": {
      "text/plain": [
       "dtype('int64')"
      ]
     },
     "metadata": {},
     "output_type": "display_data"
    },
    {
     "data": {
      "text/html": [
       "<div>\n",
       "<style scoped>\n",
       "    .dataframe tbody tr th:only-of-type {\n",
       "        vertical-align: middle;\n",
       "    }\n",
       "\n",
       "    .dataframe tbody tr th {\n",
       "        vertical-align: top;\n",
       "    }\n",
       "\n",
       "    .dataframe thead th {\n",
       "        text-align: right;\n",
       "    }\n",
       "</style>\n",
       "<table border=\"1\" class=\"dataframe\">\n",
       "  <thead>\n",
       "    <tr style=\"text-align: right;\">\n",
       "      <th></th>\n",
       "      <th>state</th>\n",
       "      <th>project_sponsor</th>\n",
       "      <th>project_title</th>\n",
       "      <th>description</th>\n",
       "      <th>funding</th>\n",
       "      <th>#_of_buses</th>\n",
       "      <th>project_type</th>\n",
       "      <th>propulsion_type</th>\n",
       "      <th>area_served</th>\n",
       "      <th>congressional_districts</th>\n",
       "      <th>fta_region</th>\n",
       "      <th>bus/low-no_program</th>\n",
       "    </tr>\n",
       "  </thead>\n",
       "  <tbody>\n",
       "    <tr>\n",
       "      <th>0</th>\n",
       "      <td>DC</td>\n",
       "      <td>Washington Metropolitan Area Transit Authority...</td>\n",
       "      <td>Battery-Electric Metrobus Procurement and Elec...</td>\n",
       "      <td>WMATA will receive funding to convert its Cind...</td>\n",
       "      <td>104000000</td>\n",
       "      <td>100(beb)</td>\n",
       "      <td>bus/chargers</td>\n",
       "      <td>zero</td>\n",
       "      <td>Large Urban</td>\n",
       "      <td>DC-001 ; MD-004 ; MD-008 ; VA-008 ; VA-011</td>\n",
       "      <td>3</td>\n",
       "      <td>Low-No</td>\n",
       "    </tr>\n",
       "    <tr>\n",
       "      <th>1</th>\n",
       "      <td>TX</td>\n",
       "      <td>Dallas Area Rapid Transit (DART)</td>\n",
       "      <td>DART CNG Bus Fleet Modernization Project</td>\n",
       "      <td>Dallas Area Rapid Transit will receive funding...</td>\n",
       "      <td>103000000</td>\n",
       "      <td>90 (estimated-CNG buses)</td>\n",
       "      <td>bus</td>\n",
       "      <td>low</td>\n",
       "      <td>Large Urban</td>\n",
       "      <td>TX-003 ; TX-004 ; TX-005 ; TX-006 ; TX-024 ; T...</td>\n",
       "      <td>6</td>\n",
       "      <td>Low-No</td>\n",
       "    </tr>\n",
       "    <tr>\n",
       "      <th>2</th>\n",
       "      <td>PA</td>\n",
       "      <td>Southeastern Pennsylvania Transportation Autho...</td>\n",
       "      <td>SEPTA Zero-Emission Bus Transition Facility Sa...</td>\n",
       "      <td>The Southeastern Pennsylvania Transportation A...</td>\n",
       "      <td>80000000</td>\n",
       "      <td>0</td>\n",
       "      <td>facility</td>\n",
       "      <td>zero</td>\n",
       "      <td>Large Urban</td>\n",
       "      <td>PA-002 ; PA-003 ; PA-004 ; PA-005</td>\n",
       "      <td>3</td>\n",
       "      <td>Low-No</td>\n",
       "    </tr>\n",
       "    <tr>\n",
       "      <th>3</th>\n",
       "      <td>LA</td>\n",
       "      <td>New Orleans Regional Transit Authority</td>\n",
       "      <td>Accelerating Zero-Emissions Mobility for a Res...</td>\n",
       "      <td>The New Orleans Regional Transit Authority wil...</td>\n",
       "      <td>71439261</td>\n",
       "      <td>20 (zero-emission)</td>\n",
       "      <td>Bus / Chargers / Equipment</td>\n",
       "      <td>zero</td>\n",
       "      <td>Large Urban</td>\n",
       "      <td>LA-002 ; LA-001</td>\n",
       "      <td>6</td>\n",
       "      <td>Low-No</td>\n",
       "    </tr>\n",
       "    <tr>\n",
       "      <th>4</th>\n",
       "      <td>NJ</td>\n",
       "      <td>New Jersey Transit Corporation</td>\n",
       "      <td>Hilton Bus Garage Modernization</td>\n",
       "      <td>New Jersey Transit will receive funding to mod...</td>\n",
       "      <td>47000000</td>\n",
       "      <td>0</td>\n",
       "      <td>facility/chargers</td>\n",
       "      <td>zero</td>\n",
       "      <td>Large Urban</td>\n",
       "      <td>nj-011</td>\n",
       "      <td>2</td>\n",
       "      <td>Bus</td>\n",
       "    </tr>\n",
       "  </tbody>\n",
       "</table>\n",
       "</div>"
      ],
      "text/plain": [
       "  state                                    project_sponsor  \\\n",
       "0    DC  Washington Metropolitan Area Transit Authority...   \n",
       "1    TX                   Dallas Area Rapid Transit (DART)   \n",
       "2    PA  Southeastern Pennsylvania Transportation Autho...   \n",
       "3    LA             New Orleans Regional Transit Authority   \n",
       "4    NJ                     New Jersey Transit Corporation   \n",
       "\n",
       "                                       project_title  \\\n",
       "0  Battery-Electric Metrobus Procurement and Elec...   \n",
       "1           DART CNG Bus Fleet Modernization Project   \n",
       "2  SEPTA Zero-Emission Bus Transition Facility Sa...   \n",
       "3  Accelerating Zero-Emissions Mobility for a Res...   \n",
       "4                    Hilton Bus Garage Modernization   \n",
       "\n",
       "                                         description    funding  \\\n",
       "0  WMATA will receive funding to convert its Cind...  104000000   \n",
       "1  Dallas Area Rapid Transit will receive funding...  103000000   \n",
       "2  The Southeastern Pennsylvania Transportation A...   80000000   \n",
       "3  The New Orleans Regional Transit Authority wil...   71439261   \n",
       "4  New Jersey Transit will receive funding to mod...   47000000   \n",
       "\n",
       "                 #_of_buses                project_type propulsion_type  \\\n",
       "0                  100(beb)                bus/chargers            zero   \n",
       "1  90 (estimated-CNG buses)                         bus             low   \n",
       "2                         0                    facility            zero   \n",
       "3        20 (zero-emission)  Bus / Chargers / Equipment            zero   \n",
       "4                         0           facility/chargers            zero   \n",
       "\n",
       "   area_served                            congressional_districts  fta_region  \\\n",
       "0  Large Urban         DC-001 ; MD-004 ; MD-008 ; VA-008 ; VA-011           3   \n",
       "1  Large Urban  TX-003 ; TX-004 ; TX-005 ; TX-006 ; TX-024 ; T...           6   \n",
       "2  Large Urban                  PA-002 ; PA-003 ; PA-004 ; PA-005           3   \n",
       "3  Large Urban                                    LA-002 ; LA-001           6   \n",
       "4  Large Urban                                             nj-011           2   \n",
       "\n",
       "  bus/low-no_program  \n",
       "0             Low-No  \n",
       "1             Low-No  \n",
       "2             Low-No  \n",
       "3             Low-No  \n",
       "4                Bus  "
      ]
     },
     "metadata": {},
     "output_type": "display_data"
    }
   ],
   "source": [
    "#checking to see if str.replace worked.\n",
    "display(df[\"funding\"].dtype,\n",
    "        df.head()\n",
    "       )"
   ]
  },
  {
   "cell_type": "code",
   "execution_count": 20,
   "id": "1fb94754-e795-4e78-8a91-2732566a1792",
   "metadata": {},
   "outputs": [],
   "source": [
    "# test of removing the spaces first in # of bus colum, THEN split by (\n",
    "df[\"#_of_buses\"] = df[\"#_of_buses\"].str.replace(\" \", \"\")"
   ]
  },
  {
   "cell_type": "code",
   "execution_count": 22,
   "id": "f1203ac6-0247-47f8-9f96-0cac2129556d",
   "metadata": {},
   "outputs": [
    {
     "data": {
      "text/plain": [
       "0                                                      34\n",
       "7(Electric)                                             3\n",
       "2                                                       3\n",
       "4(BEBs)                                                 3\n",
       "20(BEBs)                                                3\n",
       "2(electric)                                             2\n",
       "9                                                       2\n",
       "16(hybridelectric)                                      2\n",
       "5(CNG)                                                  2\n",
       "4(cng)                                                  2\n",
       "6                                                       2\n",
       "7                                                       2\n",
       "5                                                       2\n",
       "10(CNG)                                                 1\n",
       "4(zeroemissionelectric)                                 1\n",
       "11(CNGfueled)                                           1\n",
       "4(hybridelectric)                                       1\n",
       "25(hybridelectrics)                                     1\n",
       "6(dieselelectrichybrids)                                1\n",
       "39                                                      1\n",
       "9(CNG)                                                  1\n",
       "4(hybrid)                                               1\n",
       "10(BEBs)                                                1\n",
       "4                                                       1\n",
       "100(beb)                                                1\n",
       "15                                                      1\n",
       "9(dieselandgas)                                         1\n",
       "3(1:CNGbus;2cutawayCNGbuses)                            1\n",
       "1(hybrid)                                               1\n",
       "4(propane)                                              1\n",
       "3(propanedpoweredvehicles)                              1\n",
       "6(CNG)                                                  1\n",
       "5(hybrid)                                               1\n",
       "1(zeroemission)                                         1\n",
       "9(propanebuses)                                         1\n",
       "6(diesel-electrichybrids)                               1\n",
       "7(propanebuses)                                         1\n",
       "3(diesel-electric)                                      1\n",
       "2(hybrid)                                               1\n",
       "5(cng)                                                  1\n",
       "7(hybridelectric)                                       1\n",
       "15(propane)                                             1\n",
       "10(hybridelectricbuses)                                 1\n",
       "7(4fuelcell/3CNG)                                       1\n",
       "11(Electric)                                            1\n",
       "20(BEB)                                                 1\n",
       "8                                                       1\n",
       "12(FuelCell)                                            1\n",
       "39(CNG)                                                 1\n",
       "18                                                      1\n",
       "17(BEBs)                                                1\n",
       "13(BEBs)                                                1\n",
       "25(FuelCellElectric)                                    1\n",
       "23(FCEB)                                                1\n",
       "69                                                      1\n",
       "15(Electric)\\n16(Hybrid)                                1\n",
       "30(BEBs)                                                1\n",
       "16(BEBs)                                                1\n",
       "35(BEBs)                                                1\n",
       "40(cngbuses)                                            1\n",
       "20(zero-emission)                                       1\n",
       "20(hybrid)                                              1\n",
       "13                                                      1\n",
       "56estimated-cutawayvans(PM-awardwillnotfund68buses)     1\n",
       "12batteryelectric                                       1\n",
       "90(estimated-CNGbuses)                                  1\n",
       "6(2BEBsand4HydrogenFuelCellBuses)                       1\n",
       "6(hydrogenfuelcell)                                     1\n",
       "11(dieselelectrichybrids)                               1\n",
       "11                                                      1\n",
       "6(BEBs)                                                 1\n",
       "8(zeroemissionbuses)                                    1\n",
       "42                                                      1\n",
       "50(BEBsparatransitbuses)                                1\n",
       "14(BEB)                                                 1\n",
       "134                                                     1\n",
       "37(cng)                                                 1\n",
       "160                                                     1\n",
       "31                                                      1\n",
       "25(lowemissionCNG)                                      1\n",
       "3                                                       1\n",
       "Name: #_of_buses, dtype: int64"
      ]
     },
     "execution_count": 22,
     "metadata": {},
     "output_type": "execute_result"
    }
   ],
   "source": [
    "#spaces removed, and zeros are kept\n",
    "df['#_of_buses'].value_counts()"
   ]
  },
  {
   "cell_type": "code",
   "execution_count": 23,
   "id": "1e682fca-2f4b-4459-a46e-fccce29f2650",
   "metadata": {},
   "outputs": [],
   "source": [
    "#spliting the # of buses column into 2, using the ( char as the delimiter\n",
    "df[[\"bus_count\", \"bus_desc\"]] = df[\"#_of_buses\"].str.split(pat=\"(\", n=1, expand=True)"
   ]
  },
  {
   "cell_type": "code",
   "execution_count": 24,
   "id": "156b81ec-4807-4226-97cf-cd36dc39dfd4",
   "metadata": {},
   "outputs": [
    {
     "data": {
      "text/plain": [
       "Index(['state', 'project_sponsor', 'project_title', 'description', 'funding',\n",
       "       '#_of_buses', 'project_type', 'propulsion_type', 'area_served',\n",
       "       'congressional_districts', 'fta_region', 'bus/low-no_program',\n",
       "       'bus_count', 'bus_desc'],\n",
       "      dtype='object')"
      ]
     },
     "execution_count": 24,
     "metadata": {},
     "output_type": "execute_result"
    }
   ],
   "source": [
    "#checking col. retained the initial col. and added new columns to the end.\n",
    "df.columns"
   ]
  },
  {
   "cell_type": "code",
   "execution_count": 25,
   "id": "fd20bd24-6df2-4b7d-ad92-2b52fe2c6a41",
   "metadata": {},
   "outputs": [
    {
     "data": {
      "text/plain": [
       "0                          34\n",
       "4                          10\n",
       "7                           8\n",
       "6                           8\n",
       "20                          6\n",
       "2                           6\n",
       "5                           6\n",
       "9                           5\n",
       "11                          4\n",
       "3                           4\n",
       "16                          3\n",
       "15                          3\n",
       "10                          3\n",
       "25                          3\n",
       "8                           2\n",
       "39                          2\n",
       "1                           2\n",
       "13                          2\n",
       "56estimated-cutawayvans     1\n",
       "134                         1\n",
       "42                          1\n",
       "50                          1\n",
       "14                          1\n",
       "100                         1\n",
       "37                          1\n",
       "160                         1\n",
       "31                          1\n",
       "12batteryelectric           1\n",
       "90                          1\n",
       "18                          1\n",
       "17                          1\n",
       "23                          1\n",
       "69                          1\n",
       "30                          1\n",
       "35                          1\n",
       "40                          1\n",
       "12                          1\n",
       "Name: bus_count, dtype: int64"
      ]
     },
     "execution_count": 25,
     "metadata": {},
     "output_type": "execute_result"
    }
   ],
   "source": [
    "# examining the new bus count col.\n",
    "#zero values remained the same\n",
    "# see there are 2 values that are inconsistent.\n",
    "df.bus_count.value_counts()"
   ]
  },
  {
   "cell_type": "code",
   "execution_count": 26,
   "id": "3d3c02c1-6582-4034-b0df-596235ac35fd",
   "metadata": {},
   "outputs": [],
   "source": [
    "# function to find the row index of a specific value and column in a dataframe\n",
    "def find_loc(data, col, val):\n",
    "    x = data.loc[data[col] == val].index[0]\n",
    "    return x"
   ]
  },
  {
   "cell_type": "code",
   "execution_count": 27,
   "id": "261cac0b-6427-4420-bbb2-41121574b09e",
   "metadata": {},
   "outputs": [],
   "source": [
    "loc1 = find_loc(df, \"bus_count\", \"56estimated-cutawayvans\")\n",
    "loc2 = find_loc(df, \"bus_count\", \"12batteryelectric\")"
   ]
  },
  {
   "cell_type": "code",
   "execution_count": 28,
   "id": "887f3bce-9b0e-45a1-93ae-920a3584f466",
   "metadata": {},
   "outputs": [
    {
     "data": {
      "text/plain": [
       "58"
      ]
     },
     "metadata": {},
     "output_type": "display_data"
    },
    {
     "data": {
      "text/plain": [
       "32"
      ]
     },
     "metadata": {},
     "output_type": "display_data"
    }
   ],
   "source": [
    "display(loc1, loc2)"
   ]
  },
  {
   "cell_type": "code",
   "execution_count": 29,
   "id": "46065069-4d01-4f54-a132-a671d50ac9b9",
   "metadata": {},
   "outputs": [],
   "source": [
    "# editing the values of the bus count col at specific location\n",
    "#syntax, look at ## index, look at XX column\n",
    "df.loc[58, \"bus_count\"] = 56\n",
    "df.loc[32, \"bus_count\"] = 12"
   ]
  },
  {
   "cell_type": "code",
   "execution_count": 30,
   "id": "8fe33276-6264-4c6e-80ec-530f315e79ce",
   "metadata": {},
   "outputs": [],
   "source": [
    "# updating values again for bus_desc. same location\n",
    "df.loc[58, \"bus_desc\"] = \"estimated-cutaway vans (PM- award will not fund 68 buses)\"\n",
    "df.loc[32, \"bus_desc\"] = \"battery electric\""
   ]
  },
  {
   "cell_type": "code",
   "execution_count": 31,
   "id": "28fc0972-03ae-4c56-a207-906732deb4ab",
   "metadata": {},
   "outputs": [
    {
     "data": {
      "text/plain": [
       "state                                                                     MN\n",
       "project_sponsor                                                Metro Transit\n",
       "project_title              Investments Toward an Electric Future: Metro T...\n",
       "description                Metro Transit will receive funding to buy batt...\n",
       "funding                                                             17532900\n",
       "#_of_buses                                                 12batteryelectric\n",
       "project_type                                      Bus / Chargers / Equipment\n",
       "propulsion_type                                                         zero\n",
       "area_served                                                      Large Urban\n",
       "congressional_districts           MN-002 ; MN-003 ; MN-004 ; MN-005 ; MN-006\n",
       "fta_region                                                                 5\n",
       "bus/low-no_program                                                    Low-No\n",
       "bus_count                                                                 12\n",
       "bus_desc                                                    battery electric\n",
       "Name: 32, dtype: object"
      ]
     },
     "metadata": {},
     "output_type": "display_data"
    },
    {
     "data": {
      "text/plain": [
       "state                                                                     TX\n",
       "project_sponsor            Texas Department of Transportation on behalf o...\n",
       "project_title              FY23 Rural Transit Asset Replacement & Moderni...\n",
       "description                The Texas Department of Transportation will re...\n",
       "funding                                                              7443765\n",
       "#_of_buses                 56estimated-cutawayvans(PM-awardwillnotfund68b...\n",
       "project_type                                                 bus / facilitiy\n",
       "propulsion_type                                                          low\n",
       "area_served                                                            Rural\n",
       "congressional_districts    TX-001 ; TX-002 ; TX-004 ; TX-005 ; TX-006 ; T...\n",
       "fta_region                                                                 6\n",
       "bus/low-no_program                                                    Low-No\n",
       "bus_count                                                                 56\n",
       "bus_desc                   estimated-cutaway vans (PM- award will not fun...\n",
       "Name: 58, dtype: object"
      ]
     },
     "metadata": {},
     "output_type": "display_data"
    }
   ],
   "source": [
    "# values updated as inteneded for bus count and bus desc\n",
    "display(df.loc[32], df.loc[58])"
   ]
  },
  {
   "cell_type": "code",
   "execution_count": 32,
   "id": "5773714f-1df8-403d-9074-9936a47522a3",
   "metadata": {},
   "outputs": [
    {
     "data": {
      "text/plain": [
       "0      34\n",
       "4      10\n",
       "7       8\n",
       "6       8\n",
       "20      6\n",
       "2       6\n",
       "5       6\n",
       "9       5\n",
       "11      4\n",
       "3       4\n",
       "16      3\n",
       "15      3\n",
       "10      3\n",
       "25      3\n",
       "8       2\n",
       "39      2\n",
       "1       2\n",
       "13      2\n",
       "56      1\n",
       "134     1\n",
       "42      1\n",
       "50      1\n",
       "14      1\n",
       "100     1\n",
       "37      1\n",
       "160     1\n",
       "31      1\n",
       "12      1\n",
       "90      1\n",
       "18      1\n",
       "17      1\n",
       "23      1\n",
       "69      1\n",
       "30      1\n",
       "35      1\n",
       "40      1\n",
       "12      1\n",
       "Name: bus_count, dtype: int64"
      ]
     },
     "execution_count": 32,
     "metadata": {},
     "output_type": "execute_result"
    }
   ],
   "source": [
    "# confirming via value counts that all values are valid now.\n",
    "df.bus_count.value_counts()"
   ]
  },
  {
   "cell_type": "code",
   "execution_count": 33,
   "id": "09750ef1-1eba-4561-b5ad-b05f2a3b5875",
   "metadata": {},
   "outputs": [
    {
     "name": "stderr",
     "output_type": "stream",
     "text": [
      "/tmp/ipykernel_417/2239180410.py:3: FutureWarning: The default value of regex will change from True to False in a future version. In addition, single character regular expressions will *not* be treated as literal strings when regex=True.\n",
      "  df[\"bus_desc\"] = df[\"bus_desc\"].str.replace(\")\", \"\")\n"
     ]
    }
   ],
   "source": [
    "# clearning the bus desc col.\n",
    "# removing the )\n",
    "df[\"bus_desc\"] = df[\"bus_desc\"].str.replace(\")\", \"\")"
   ]
  },
  {
   "cell_type": "code",
   "execution_count": 37,
   "id": "e298fe1d-ab31-4cae-aa18-309d349b4b78",
   "metadata": {},
   "outputs": [
    {
     "data": {
      "text/plain": [
       "array(['beb', 'estimated-CNGbuses', None, 'zero-emission', 'cngbuses',\n",
       "       'BEBs', 'Electric\\n16(Hybrid', 'FCEB', 'Electric',\n",
       "       'FuelCellElectric', 'CNG', 'FuelCell', 'hybrid', 'BEB',\n",
       "       'battery electric', 'lowemissionCNG', 'cng',\n",
       "       'BEBsparatransitbuses', 'hybridelectric', 'zeroemissionbuses',\n",
       "       'dieselelectrichybrids', 'hydrogenfuelcell',\n",
       "       '2BEBsand4HydrogenFuelCellBuses', '4fuelcell/3CNG',\n",
       "       'estimated-cutaway vans (PM- award will not fund 68 buses',\n",
       "       'hybridelectricbuses', 'CNGfueled', 'zeroemissionelectric',\n",
       "       'hybridelectrics', 'dieselandgas', 'diesel-electrichybrids',\n",
       "       'propane', 'electric', 'diesel-electric', 'propanebuses',\n",
       "       '1:CNGbus;2cutawayCNGbuses', 'zeroemission',\n",
       "       'propanedpoweredvehicles'], dtype=object)"
      ]
     },
     "execution_count": 37,
     "metadata": {},
     "output_type": "execute_result"
    }
   ],
   "source": [
    "df[\"bus_desc\"].unique()"
   ]
  },
  {
   "cell_type": "code",
   "execution_count": 35,
   "id": "03f52229-29ad-4551-aa70-a9d53124d61e",
   "metadata": {},
   "outputs": [],
   "source": [
    "# stripping the values in the bus desc col\n",
    "df[\"bus_desc\"] = df[\"bus_desc\"].str.strip()"
   ]
  },
  {
   "cell_type": "code",
   "execution_count": 36,
   "id": "9202f2a1-f309-4b86-8602-6989fe4c577a",
   "metadata": {},
   "outputs": [
    {
     "data": {
      "text/plain": [
       "array(['beb', 'estimated-CNGbuses', None, 'zero-emission', 'cngbuses',\n",
       "       'BEBs', 'Electric\\n16(Hybrid', 'FCEB', 'Electric',\n",
       "       'FuelCellElectric', 'CNG', 'FuelCell', 'hybrid', 'BEB',\n",
       "       'battery electric', 'lowemissionCNG', 'cng',\n",
       "       'BEBsparatransitbuses', 'hybridelectric', 'zeroemissionbuses',\n",
       "       'dieselelectrichybrids', 'hydrogenfuelcell',\n",
       "       '2BEBsand4HydrogenFuelCellBuses', '4fuelcell/3CNG',\n",
       "       'estimated-cutaway vans (PM- award will not fund 68 buses',\n",
       "       'hybridelectricbuses', 'CNGfueled', 'zeroemissionelectric',\n",
       "       'hybridelectrics', 'dieselandgas', 'diesel-electrichybrids',\n",
       "       'propane', 'electric', 'diesel-electric', 'propanebuses',\n",
       "       '1:CNGbus;2cutawayCNGbuses', 'zeroemission',\n",
       "       'propanedpoweredvehicles'], dtype=object)"
      ]
     },
     "execution_count": 36,
     "metadata": {},
     "output_type": "execute_result"
    }
   ],
   "source": [
    "df.bus_desc.unique()"
   ]
  },
  {
   "cell_type": "code",
   "execution_count": 38,
   "id": "bba62d67-35ab-4334-898b-f7581b40c574",
   "metadata": {},
   "outputs": [],
   "source": [
    "# creating a dictionary to add spaces back to the values\n",
    "new_dict = {\n",
    "    \"beb\": \"BEB\",\n",
    "    \"estimated-CNGbuses\": \"estimated-CNG buses\",\n",
    "    \"cngbuses\": \"CNG buses\",\n",
    "    \"BEBs\": \"BEB\",\n",
    "    \"Electric\\n16(Hybrid\": \"15 electic, 16 hybrid\",\n",
    "    \"FuelCellElectric\": \"fuel cell electric\",\n",
    "    \"FuelCell\": \"fuel cell\",\n",
    "    \"lowemissionCNG\": \"low emission CNG\",\n",
    "    \"cng\": \"CNG\",\n",
    "    \"BEBsparatransitbuses\": \"BEBs paratransit buses\",\n",
    "    \"hybridelectric\": \"hybrid electric\",\n",
    "    \"zeroemissionbuses\": \"zero emission buses\",\n",
    "    \"dieselelectrichybrids\": \"diesel electric hybrids\",\n",
    "    \"hydrogenfuelcell\": \"hydrogen fuel cell\",\n",
    "    \"2BEBsand4HydrogenFuelCellBuses\": \"2 BEBs and 4 hydrogen fuel cell buses\",\n",
    "    \"4fuelcell/3CNG\": \"4 fuel cell / 3 CNG\",\n",
    "    \"hybridelectricbuses\": \"hybrid electric buses\",\n",
    "    \"CNGfueled\": \"CNG fueled\",\n",
    "    \"zeroemissionelectric\": \"zero emission electric\",\n",
    "    \"hybridelectrics\": \"hybrid electrics\",\n",
    "    \"dieselandgas\": \"diesel and gas\",\n",
    "    \"diesel-electrichybrids\": \"diesel-electric hybrids\",\n",
    "    \"propanebuses\": \"propane buses\",\n",
    "    \"1:CNGbus;2cutawayCNGbuses\": \"1:CNGbus ;2 cutaway CNG buses\",\n",
    "    \"zeroemission\": \"zero emission\",\n",
    "    \"propanedpoweredvehicles\": \"propaned powered vehicles\"\n",
    "}"
   ]
  },
  {
   "cell_type": "code",
   "execution_count": 39,
   "id": "c883651a-7959-40ec-8bfe-2935f7f8e312",
   "metadata": {},
   "outputs": [],
   "source": [
    "#using new dictionary to replace values in the bus desc col\n",
    "df.replace({'bus_desc': new_dict}, inplace=True)"
   ]
  },
  {
   "cell_type": "code",
   "execution_count": 40,
   "id": "3bf65796-704b-4309-853e-08c9d1159bee",
   "metadata": {},
   "outputs": [
    {
     "data": {
      "text/plain": [
       "['BEB',\n",
       " 'estimated-CNG buses',\n",
       " None,\n",
       " 'zero-emission',\n",
       " 'CNG buses',\n",
       " '15 electic, 16 hybrid',\n",
       " 'FCEB',\n",
       " 'Electric',\n",
       " 'fuel cell electric',\n",
       " 'CNG',\n",
       " 'fuel cell',\n",
       " 'hybrid',\n",
       " 'battery electric',\n",
       " 'low emission CNG',\n",
       " 'BEBs paratransit buses',\n",
       " 'hybrid electric',\n",
       " 'zero emission buses',\n",
       " 'diesel electric hybrids',\n",
       " 'hydrogen fuel cell',\n",
       " '2 BEBs and 4 hydrogen fuel cell buses',\n",
       " '4 fuel cell / 3 CNG',\n",
       " 'estimated-cutaway vans (PM- award will not fund 68 buses',\n",
       " 'hybrid electric buses',\n",
       " 'CNG fueled',\n",
       " 'zero emission electric',\n",
       " 'hybrid electrics',\n",
       " 'diesel and gas',\n",
       " 'diesel-electric hybrids',\n",
       " 'propane',\n",
       " 'electric',\n",
       " 'diesel-electric',\n",
       " 'propane buses',\n",
       " '1:CNGbus ;2 cutaway CNG buses',\n",
       " 'zero emission',\n",
       " 'propaned powered vehicles']"
      ]
     },
     "execution_count": 40,
     "metadata": {},
     "output_type": "execute_result"
    }
   ],
   "source": [
    "#confirming the bus desc values were replaced as indeded.\n",
    "list(df.bus_desc.unique())"
   ]
  },
  {
   "cell_type": "code",
   "execution_count": 41,
   "id": "7a4d910e-af55-46b0-a92c-aa52e1a892e8",
   "metadata": {},
   "outputs": [],
   "source": [
    "#bus count for row 12 needs to be adjusted to 31 instead of 15\n",
    "df.loc[12, \"bus_count\"] = 31"
   ]
  },
  {
   "cell_type": "code",
   "execution_count": 42,
   "id": "edfd4b23-e384-47a1-bb7b-461fd04c2d32",
   "metadata": {},
   "outputs": [
    {
     "data": {
      "text/plain": [
       "state                                                                     NC\n",
       "project_sponsor            City of Charlotte - Charlotte Area Transit System\n",
       "project_title              Charlotte Area Transit System's Sustainable Fl...\n",
       "description                The city of Charlotte will receive funding to ...\n",
       "funding                                                             30890413\n",
       "#_of_buses                                          15(Electric)\\n16(Hybrid)\n",
       "project_type                                      Bus / Chargers / Equipment\n",
       "propulsion_type                                                   Zero / Low\n",
       "area_served                                                      Large Urban\n",
       "congressional_districts           NC-008 ; NC-012 ; NC-013 ; NC-014 ; SC-005\n",
       "fta_region                                                                 4\n",
       "bus/low-no_program                                                       Bus\n",
       "bus_count                                                                 31\n",
       "bus_desc                                               15 electic, 16 hybrid\n",
       "Name: 12, dtype: object"
      ]
     },
     "execution_count": 42,
     "metadata": {},
     "output_type": "execute_result"
    }
   ],
   "source": [
    "#confirming the change\n",
    "df.loc[12]"
   ]
  },
  {
   "cell_type": "code",
   "execution_count": 43,
   "id": "ca77c135-1168-489e-802e-402c614bbb77",
   "metadata": {},
   "outputs": [],
   "source": [
    "#using str.lower() on project type \n",
    "df['project_type'] = df['project_type'].str.lower()"
   ]
  },
  {
   "cell_type": "code",
   "execution_count": 44,
   "id": "3d9e2fe8-1f28-4d14-8a6d-f286a4641b2d",
   "metadata": {},
   "outputs": [],
   "source": [
    "#using str.lower() on project type \n",
    "df['project_type'] = df['project_type'].str.replace(' ','')"
   ]
  },
  {
   "cell_type": "code",
   "execution_count": 45,
   "id": "cd50c69d-5fad-4a9b-b88a-87d0191778fe",
   "metadata": {},
   "outputs": [
    {
     "data": {
      "text/plain": [
       "['\\tbus/facility',\n",
       " 'bus',\n",
       " 'bus/chargers',\n",
       " 'bus/chargers/equipment',\n",
       " 'bus/chargers/other',\n",
       " 'bus/equipment',\n",
       " 'bus/facilitiy',\n",
       " 'bus/facility',\n",
       " 'bus/facility/chargers',\n",
       " 'bus/facility/chargers/equipment',\n",
       " 'bus/facility/equipment',\n",
       " 'bus/facility/equipment/other',\n",
       " 'bus/facility/other',\n",
       " 'bus/other',\n",
       " 'chargers',\n",
       " 'chargers/equipment',\n",
       " 'facilities',\n",
       " 'facility',\n",
       " 'facility/chargers',\n",
       " 'facility/chargers/equipment',\n",
       " 'facility/equipment']"
      ]
     },
     "execution_count": 45,
     "metadata": {},
     "output_type": "execute_result"
    }
   ],
   "source": [
    "#confirming lower and replace worked as intended\n",
    "list(df['project_type'].sort_values(ascending=True).unique())"
   ]
  },
  {
   "cell_type": "code",
   "execution_count": 46,
   "id": "2014394c-33d9-44e9-b162-ab21988d9e8d",
   "metadata": {},
   "outputs": [],
   "source": [
    "#some values still need to get adjusted. will use a short dictionary to fix\n",
    "new_type={'\\tbus/facility':'bus/facility',\n",
    "          'bus/facilitiy':'bus/facility',\n",
    "          'facilities':'facility',\n",
    "}"
   ]
  },
  {
   "cell_type": "code",
   "execution_count": 47,
   "id": "a6b0eeb6-cb94-4bb8-82ac-ba3c3763a3aa",
   "metadata": {},
   "outputs": [],
   "source": [
    "#using replace() with the dictionary to replace keys in project type col\n",
    "#syntax df.replace({'bus_desc': new_dict}, inplace=True)\n",
    "df.replace({'project_type': new_type}, inplace=True)"
   ]
  },
  {
   "cell_type": "code",
   "execution_count": 48,
   "id": "7bb2161f-c0c6-43c8-a2b5-4643eea6f2a6",
   "metadata": {},
   "outputs": [
    {
     "data": {
      "text/plain": [
       "['bus',\n",
       " 'bus/chargers',\n",
       " 'bus/chargers/equipment',\n",
       " 'bus/chargers/other',\n",
       " 'bus/equipment',\n",
       " 'bus/facility',\n",
       " 'bus/facility/chargers',\n",
       " 'bus/facility/chargers/equipment',\n",
       " 'bus/facility/equipment',\n",
       " 'bus/facility/equipment/other',\n",
       " 'bus/facility/other',\n",
       " 'bus/other',\n",
       " 'chargers',\n",
       " 'chargers/equipment',\n",
       " 'facility',\n",
       " 'facility/chargers',\n",
       " 'facility/chargers/equipment',\n",
       " 'facility/equipment']"
      ]
     },
     "execution_count": 48,
     "metadata": {},
     "output_type": "execute_result"
    }
   ],
   "source": [
    "#double checking to ensure dictionary reaplce works.\n",
    "list(df['project_type'].sort_values(ascending=True).unique())"
   ]
  },
  {
   "cell_type": "markdown",
   "id": "9a83f537-ccff-44c2-8b41-82b2c88b9ccd",
   "metadata": {
    "jp-MarkdownHeadingCollapsed": true,
    "tags": []
   },
   "source": [
    "## Exporting cleaned data to GCS"
   ]
  },
  {
   "cell_type": "code",
   "execution_count": 49,
   "id": "609a3659-8bf2-4412-aabc-d6ea956c3bbe",
   "metadata": {},
   "outputs": [],
   "source": [
    "#saving to GCS as csv\n",
    "df.to_csv('gs://calitp-analytics-data/data-analyses/bus_procurement_cost/fta_bus_cost_clean.csv')"
   ]
  },
  {
   "cell_type": "markdown",
   "id": "8a04ee87-fba7-46df-ac67-44956fa82c7c",
   "metadata": {
    "tags": []
   },
   "source": [
    "## Reading in cleaned data from GCS"
   ]
  },
  {
   "cell_type": "code",
   "execution_count": 50,
   "id": "0886453f-e9d5-46d8-9987-3365137137b2",
   "metadata": {},
   "outputs": [],
   "source": [
    "bus_cost = pd.read_csv('gs://calitp-analytics-data/data-analyses/bus_procurement_cost/fta_bus_cost_clean.csv')"
   ]
  },
  {
   "cell_type": "code",
   "execution_count": 51,
   "id": "8a4e9841-79f5-41e1-9c53-3def3d802bd9",
   "metadata": {},
   "outputs": [
    {
     "data": {
      "text/plain": [
       "(130, 15)"
      ]
     },
     "metadata": {},
     "output_type": "display_data"
    },
    {
     "data": {
      "text/plain": [
       "pandas.core.frame.DataFrame"
      ]
     },
     "metadata": {},
     "output_type": "display_data"
    },
    {
     "data": {
      "text/plain": [
       "Index(['Unnamed: 0', 'state', 'project_sponsor', 'project_title',\n",
       "       'description', 'funding', '#_of_buses', 'project_type',\n",
       "       'propulsion_type', 'area_served', 'congressional_districts',\n",
       "       'fta_region', 'bus/low-no_program', 'bus_count', 'bus_desc'],\n",
       "      dtype='object')"
      ]
     },
     "metadata": {},
     "output_type": "display_data"
    }
   ],
   "source": [
    "#confirming cleaned data shows as expected.\n",
    "display(bus_cost.shape,\n",
    "        type(bus_cost),\n",
    "    bus_cost.columns\n",
    "       )"
   ]
  },
  {
   "cell_type": "code",
   "execution_count": 52,
   "id": "7a2c32a7-4cd0-4755-8a04-2db5638cdcbb",
   "metadata": {},
   "outputs": [],
   "source": [
    "#drop unnessary columns\n",
    "bus_cost = bus_cost.drop(['Unnamed: 0', 'congressional_districts'], axis=1)"
   ]
  },
  {
   "cell_type": "code",
   "execution_count": 53,
   "id": "58a92ab0-8f13-4462-989a-e1c9105ff414",
   "metadata": {},
   "outputs": [
    {
     "data": {
      "text/plain": [
       "(130, 13)"
      ]
     },
     "metadata": {},
     "output_type": "display_data"
    },
    {
     "data": {
      "text/plain": [
       "Index(['state', 'project_sponsor', 'project_title', 'description', 'funding',\n",
       "       '#_of_buses', 'project_type', 'propulsion_type', 'area_served',\n",
       "       'fta_region', 'bus/low-no_program', 'bus_count', 'bus_desc'],\n",
       "      dtype='object')"
      ]
     },
     "metadata": {},
     "output_type": "display_data"
    }
   ],
   "source": [
    "#confirming columns dropped as intended.\n",
    "#less columns(14 to 12)\n",
    "display(bus_cost.shape,\n",
    "        bus_cost.columns)"
   ]
  },
  {
   "cell_type": "markdown",
   "id": "299d75c2-2f1a-4a7d-a1ee-87271a1f9e4b",
   "metadata": {
    "tags": []
   },
   "source": [
    "## Start to analyze `bus_cost` df"
   ]
  },
  {
   "cell_type": "markdown",
   "id": "c4f9c488-8306-4eb3-bac0-40c75ac1dfed",
   "metadata": {
    "jp-MarkdownHeadingCollapsed": true,
    "tags": []
   },
   "source": [
    "### Top level analysis"
   ]
  },
  {
   "cell_type": "code",
   "execution_count": 81,
   "id": "76e7e2f6-47c8-4423-a9b3-2f02ee06fb9f",
   "metadata": {},
   "outputs": [
    {
     "data": {
      "text/plain": [
       "project_title           130\n",
       "funding          1689864104\n",
       "bus_count              1713\n",
       "dtype: int64"
      ]
     },
     "execution_count": 81,
     "metadata": {},
     "output_type": "execute_result"
    }
   ],
   "source": [
    "#top level alanysis\n",
    "\n",
    "bus_cost.agg({'project_title':'count',\n",
    "              'funding':'sum',\n",
    "              'bus_count':'sum'}\n",
    "              )"
   ]
  },
  {
   "cell_type": "code",
   "execution_count": 54,
   "id": "a1c0bdc5-9b63-40bd-94b7-2aa04b9bc70a",
   "metadata": {},
   "outputs": [
    {
     "data": {
      "text/html": [
       "<div>\n",
       "<style scoped>\n",
       "    .dataframe tbody tr th:only-of-type {\n",
       "        vertical-align: middle;\n",
       "    }\n",
       "\n",
       "    .dataframe tbody tr th {\n",
       "        vertical-align: top;\n",
       "    }\n",
       "\n",
       "    .dataframe thead th {\n",
       "        text-align: right;\n",
       "    }\n",
       "</style>\n",
       "<table border=\"1\" class=\"dataframe\">\n",
       "  <thead>\n",
       "    <tr style=\"text-align: right;\">\n",
       "      <th></th>\n",
       "      <th>project_type</th>\n",
       "      <th>funding</th>\n",
       "      <th>bus_count</th>\n",
       "    </tr>\n",
       "    <tr>\n",
       "      <th>project_type</th>\n",
       "      <th></th>\n",
       "      <th></th>\n",
       "      <th></th>\n",
       "    </tr>\n",
       "  </thead>\n",
       "  <tbody>\n",
       "    <tr>\n",
       "      <th>bus</th>\n",
       "      <td>40</td>\n",
       "      <td>365965433</td>\n",
       "      <td>790</td>\n",
       "    </tr>\n",
       "    <tr>\n",
       "      <th>bus/chargers</th>\n",
       "      <td>17</td>\n",
       "      <td>293683619</td>\n",
       "      <td>301</td>\n",
       "    </tr>\n",
       "    <tr>\n",
       "      <th>bus/chargers/equipment</th>\n",
       "      <td>5</td>\n",
       "      <td>162489938</td>\n",
       "      <td>152</td>\n",
       "    </tr>\n",
       "    <tr>\n",
       "      <th>bus/chargers/other</th>\n",
       "      <td>1</td>\n",
       "      <td>23984700</td>\n",
       "      <td>13</td>\n",
       "    </tr>\n",
       "    <tr>\n",
       "      <th>bus/equipment</th>\n",
       "      <td>6</td>\n",
       "      <td>36072694</td>\n",
       "      <td>50</td>\n",
       "    </tr>\n",
       "    <tr>\n",
       "      <th>bus/facility</th>\n",
       "      <td>13</td>\n",
       "      <td>158193428</td>\n",
       "      <td>210</td>\n",
       "    </tr>\n",
       "    <tr>\n",
       "      <th>bus/facility/chargers</th>\n",
       "      <td>9</td>\n",
       "      <td>193377901</td>\n",
       "      <td>98</td>\n",
       "    </tr>\n",
       "    <tr>\n",
       "      <th>bus/facility/chargers/equipment</th>\n",
       "      <td>1</td>\n",
       "      <td>16166822</td>\n",
       "      <td>31</td>\n",
       "    </tr>\n",
       "    <tr>\n",
       "      <th>bus/facility/equipment</th>\n",
       "      <td>2</td>\n",
       "      <td>24261170</td>\n",
       "      <td>20</td>\n",
       "    </tr>\n",
       "    <tr>\n",
       "      <th>bus/facility/equipment/other</th>\n",
       "      <td>1</td>\n",
       "      <td>514002</td>\n",
       "      <td>2</td>\n",
       "    </tr>\n",
       "    <tr>\n",
       "      <th>bus/facility/other</th>\n",
       "      <td>1</td>\n",
       "      <td>11570906</td>\n",
       "      <td>42</td>\n",
       "    </tr>\n",
       "    <tr>\n",
       "      <th>bus/other</th>\n",
       "      <td>1</td>\n",
       "      <td>945178</td>\n",
       "      <td>4</td>\n",
       "    </tr>\n",
       "    <tr>\n",
       "      <th>chargers</th>\n",
       "      <td>2</td>\n",
       "      <td>33773378</td>\n",
       "      <td>0</td>\n",
       "    </tr>\n",
       "    <tr>\n",
       "      <th>chargers/equipment</th>\n",
       "      <td>1</td>\n",
       "      <td>2162886</td>\n",
       "      <td>0</td>\n",
       "    </tr>\n",
       "    <tr>\n",
       "      <th>facility</th>\n",
       "      <td>25</td>\n",
       "      <td>275046132</td>\n",
       "      <td>0</td>\n",
       "    </tr>\n",
       "    <tr>\n",
       "      <th>facility/chargers</th>\n",
       "      <td>3</td>\n",
       "      <td>80207000</td>\n",
       "      <td>0</td>\n",
       "    </tr>\n",
       "    <tr>\n",
       "      <th>facility/chargers/equipment</th>\n",
       "      <td>1</td>\n",
       "      <td>8122850</td>\n",
       "      <td>0</td>\n",
       "    </tr>\n",
       "    <tr>\n",
       "      <th>facility/equipment</th>\n",
       "      <td>1</td>\n",
       "      <td>3326067</td>\n",
       "      <td>0</td>\n",
       "    </tr>\n",
       "  </tbody>\n",
       "</table>\n",
       "</div>"
      ],
      "text/plain": [
       "                                 project_type    funding  bus_count\n",
       "project_type                                                       \n",
       "bus                                        40  365965433        790\n",
       "bus/chargers                               17  293683619        301\n",
       "bus/chargers/equipment                      5  162489938        152\n",
       "bus/chargers/other                          1   23984700         13\n",
       "bus/equipment                               6   36072694         50\n",
       "bus/facility                               13  158193428        210\n",
       "bus/facility/chargers                       9  193377901         98\n",
       "bus/facility/chargers/equipment             1   16166822         31\n",
       "bus/facility/equipment                      2   24261170         20\n",
       "bus/facility/equipment/other                1     514002          2\n",
       "bus/facility/other                          1   11570906         42\n",
       "bus/other                                   1     945178          4\n",
       "chargers                                    2   33773378          0\n",
       "chargers/equipment                          1    2162886          0\n",
       "facility                                   25  275046132          0\n",
       "facility/chargers                           3   80207000          0\n",
       "facility/chargers/equipment                 1    8122850          0\n",
       "facility/equipment                          1    3326067          0"
      ]
     },
     "execution_count": 54,
     "metadata": {},
     "output_type": "execute_result"
    }
   ],
   "source": [
    "#start of agg. by project_type\n",
    "\n",
    "bus_cost.groupby('project_type').agg({\n",
    "    'project_type': 'count',\n",
    "    'funding': 'sum',\n",
    "    'bus_count':'sum'\n",
    "})"
   ]
  },
  {
   "cell_type": "code",
   "execution_count": 126,
   "id": "32e23d0b-3ccb-4cf9-80d2-ea10e8bf3d8a",
   "metadata": {
    "tags": []
   },
   "outputs": [
    {
     "data": {
      "text/html": [
       "<div>\n",
       "<style scoped>\n",
       "    .dataframe tbody tr th:only-of-type {\n",
       "        vertical-align: middle;\n",
       "    }\n",
       "\n",
       "    .dataframe tbody tr th {\n",
       "        vertical-align: top;\n",
       "    }\n",
       "\n",
       "    .dataframe thead th {\n",
       "        text-align: right;\n",
       "    }\n",
       "</style>\n",
       "<table border=\"1\" class=\"dataframe\">\n",
       "  <thead>\n",
       "    <tr style=\"text-align: right;\">\n",
       "      <th></th>\n",
       "      <th>project_type</th>\n",
       "      <th>funding</th>\n",
       "      <th>bus_count</th>\n",
       "    </tr>\n",
       "    <tr>\n",
       "      <th>fta_region</th>\n",
       "      <th></th>\n",
       "      <th></th>\n",
       "      <th></th>\n",
       "    </tr>\n",
       "  </thead>\n",
       "  <tbody>\n",
       "    <tr>\n",
       "      <th>1</th>\n",
       "      <td>8</td>\n",
       "      <td>93085531</td>\n",
       "      <td>94</td>\n",
       "    </tr>\n",
       "    <tr>\n",
       "      <th>2</th>\n",
       "      <td>4</td>\n",
       "      <td>87830568</td>\n",
       "      <td>20</td>\n",
       "    </tr>\n",
       "    <tr>\n",
       "      <th>3</th>\n",
       "      <td>9</td>\n",
       "      <td>310159504</td>\n",
       "      <td>238</td>\n",
       "    </tr>\n",
       "    <tr>\n",
       "      <th>4</th>\n",
       "      <td>20</td>\n",
       "      <td>187647669</td>\n",
       "      <td>324</td>\n",
       "    </tr>\n",
       "    <tr>\n",
       "      <th>5</th>\n",
       "      <td>22</td>\n",
       "      <td>233561093</td>\n",
       "      <td>365</td>\n",
       "    </tr>\n",
       "    <tr>\n",
       "      <th>6</th>\n",
       "      <td>20</td>\n",
       "      <td>300360881</td>\n",
       "      <td>307</td>\n",
       "    </tr>\n",
       "    <tr>\n",
       "      <th>7</th>\n",
       "      <td>5</td>\n",
       "      <td>61186854</td>\n",
       "      <td>30</td>\n",
       "    </tr>\n",
       "    <tr>\n",
       "      <th>8</th>\n",
       "      <td>13</td>\n",
       "      <td>75139701</td>\n",
       "      <td>63</td>\n",
       "    </tr>\n",
       "    <tr>\n",
       "      <th>9</th>\n",
       "      <td>20</td>\n",
       "      <td>264735142</td>\n",
       "      <td>200</td>\n",
       "    </tr>\n",
       "    <tr>\n",
       "      <th>10</th>\n",
       "      <td>9</td>\n",
       "      <td>76157161</td>\n",
       "      <td>72</td>\n",
       "    </tr>\n",
       "  </tbody>\n",
       "</table>\n",
       "</div>"
      ],
      "text/plain": [
       "            project_type    funding  bus_count\n",
       "fta_region                                    \n",
       "1                      8   93085531         94\n",
       "2                      4   87830568         20\n",
       "3                      9  310159504        238\n",
       "4                     20  187647669        324\n",
       "5                     22  233561093        365\n",
       "6                     20  300360881        307\n",
       "7                      5   61186854         30\n",
       "8                     13   75139701         63\n",
       "9                     20  264735142        200\n",
       "10                     9   76157161         72"
      ]
     },
     "execution_count": 126,
     "metadata": {},
     "output_type": "execute_result"
    }
   ],
   "source": [
    "#agg by fta region\n",
    "\n",
    "bus_cost.groupby('fta_region').agg({\n",
    "    'project_type': 'count',\n",
    "    'funding': 'sum',\n",
    "    'bus_count':'sum'\n",
    "})"
   ]
  },
  {
   "cell_type": "code",
   "execution_count": 127,
   "id": "f036cf52-fcc7-4f43-b11a-79a75515efc3",
   "metadata": {},
   "outputs": [
    {
     "data": {
      "text/html": [
       "<div>\n",
       "<style scoped>\n",
       "    .dataframe tbody tr th:only-of-type {\n",
       "        vertical-align: middle;\n",
       "    }\n",
       "\n",
       "    .dataframe tbody tr th {\n",
       "        vertical-align: top;\n",
       "    }\n",
       "\n",
       "    .dataframe thead th {\n",
       "        text-align: right;\n",
       "    }\n",
       "</style>\n",
       "<table border=\"1\" class=\"dataframe\">\n",
       "  <thead>\n",
       "    <tr style=\"text-align: right;\">\n",
       "      <th></th>\n",
       "      <th>project_type</th>\n",
       "      <th>funding</th>\n",
       "      <th>bus_count</th>\n",
       "    </tr>\n",
       "    <tr>\n",
       "      <th>bus/low-no_program</th>\n",
       "      <th></th>\n",
       "      <th></th>\n",
       "      <th></th>\n",
       "    </tr>\n",
       "  </thead>\n",
       "  <tbody>\n",
       "    <tr>\n",
       "      <th>Bus</th>\n",
       "      <td>47</td>\n",
       "      <td>472922707</td>\n",
       "      <td>519</td>\n",
       "    </tr>\n",
       "    <tr>\n",
       "      <th>Low-No</th>\n",
       "      <td>83</td>\n",
       "      <td>1216941397</td>\n",
       "      <td>1194</td>\n",
       "    </tr>\n",
       "  </tbody>\n",
       "</table>\n",
       "</div>"
      ],
      "text/plain": [
       "                    project_type     funding  bus_count\n",
       "bus/low-no_program                                     \n",
       "Bus                           47   472922707        519\n",
       "Low-No                        83  1216941397       1194"
      ]
     },
     "execution_count": 127,
     "metadata": {},
     "output_type": "execute_result"
    }
   ],
   "source": [
    "#agg by program\n",
    "\n",
    "bus_cost.groupby('bus/low-no_program').agg({\n",
    "    'project_type': 'count',\n",
    "    'funding': 'sum',\n",
    "    'bus_count':'sum'\n",
    "})"
   ]
  },
  {
   "cell_type": "code",
   "execution_count": 131,
   "id": "228da8c2-9b22-4d1c-9259-4417e9374309",
   "metadata": {},
   "outputs": [
    {
     "data": {
      "text/html": [
       "<div>\n",
       "<style scoped>\n",
       "    .dataframe tbody tr th:only-of-type {\n",
       "        vertical-align: middle;\n",
       "    }\n",
       "\n",
       "    .dataframe tbody tr th {\n",
       "        vertical-align: top;\n",
       "    }\n",
       "\n",
       "    .dataframe thead th {\n",
       "        text-align: right;\n",
       "    }\n",
       "</style>\n",
       "<table border=\"1\" class=\"dataframe\">\n",
       "  <thead>\n",
       "    <tr style=\"text-align: right;\">\n",
       "      <th></th>\n",
       "      <th>project_type</th>\n",
       "      <th>funding</th>\n",
       "      <th>bus_count</th>\n",
       "    </tr>\n",
       "    <tr>\n",
       "      <th>state</th>\n",
       "      <th></th>\n",
       "      <th></th>\n",
       "      <th></th>\n",
       "    </tr>\n",
       "  </thead>\n",
       "  <tbody>\n",
       "    <tr>\n",
       "      <th>TX</th>\n",
       "      <td>10</td>\n",
       "      <td>183877334</td>\n",
       "      <td>235</td>\n",
       "    </tr>\n",
       "    <tr>\n",
       "      <th>CA</th>\n",
       "      <td>14</td>\n",
       "      <td>181406277</td>\n",
       "      <td>124</td>\n",
       "    </tr>\n",
       "    <tr>\n",
       "      <th>DC</th>\n",
       "      <td>1</td>\n",
       "      <td>104000000</td>\n",
       "      <td>100</td>\n",
       "    </tr>\n",
       "    <tr>\n",
       "      <th>OH</th>\n",
       "      <td>5</td>\n",
       "      <td>85752662</td>\n",
       "      <td>85</td>\n",
       "    </tr>\n",
       "    <tr>\n",
       "      <th>PA</th>\n",
       "      <td>1</td>\n",
       "      <td>80000000</td>\n",
       "      <td>0</td>\n",
       "    </tr>\n",
       "    <tr>\n",
       "      <th>LA</th>\n",
       "      <td>1</td>\n",
       "      <td>71439261</td>\n",
       "      <td>20</td>\n",
       "    </tr>\n",
       "    <tr>\n",
       "      <th>VA</th>\n",
       "      <td>4</td>\n",
       "      <td>67555620</td>\n",
       "      <td>89</td>\n",
       "    </tr>\n",
       "    <tr>\n",
       "      <th>WA</th>\n",
       "      <td>5</td>\n",
       "      <td>59027499</td>\n",
       "      <td>50</td>\n",
       "    </tr>\n",
       "    <tr>\n",
       "      <th>AZ</th>\n",
       "      <td>3</td>\n",
       "      <td>51144259</td>\n",
       "      <td>59</td>\n",
       "    </tr>\n",
       "    <tr>\n",
       "      <th>SC</th>\n",
       "      <td>3</td>\n",
       "      <td>47671940</td>\n",
       "      <td>171</td>\n",
       "    </tr>\n",
       "    <tr>\n",
       "      <th>NJ</th>\n",
       "      <td>1</td>\n",
       "      <td>47000000</td>\n",
       "      <td>0</td>\n",
       "    </tr>\n",
       "    <tr>\n",
       "      <th>NC</th>\n",
       "      <td>8</td>\n",
       "      <td>44597288</td>\n",
       "      <td>38</td>\n",
       "    </tr>\n",
       "    <tr>\n",
       "      <th>IA</th>\n",
       "      <td>3</td>\n",
       "      <td>43493328</td>\n",
       "      <td>19</td>\n",
       "    </tr>\n",
       "    <tr>\n",
       "      <th>NY</th>\n",
       "      <td>3</td>\n",
       "      <td>40830568</td>\n",
       "      <td>20</td>\n",
       "    </tr>\n",
       "    <tr>\n",
       "      <th>MD</th>\n",
       "      <td>1</td>\n",
       "      <td>39863156</td>\n",
       "      <td>35</td>\n",
       "    </tr>\n",
       "    <tr>\n",
       "      <th>MT</th>\n",
       "      <td>1</td>\n",
       "      <td>39142124</td>\n",
       "      <td>0</td>\n",
       "    </tr>\n",
       "    <tr>\n",
       "      <th>WI</th>\n",
       "      <td>2</td>\n",
       "      <td>38616024</td>\n",
       "      <td>17</td>\n",
       "    </tr>\n",
       "    <tr>\n",
       "      <th>IL</th>\n",
       "      <td>5</td>\n",
       "      <td>36709423</td>\n",
       "      <td>200</td>\n",
       "    </tr>\n",
       "    <tr>\n",
       "      <th>FL</th>\n",
       "      <td>2</td>\n",
       "      <td>36537615</td>\n",
       "      <td>39</td>\n",
       "    </tr>\n",
       "    <tr>\n",
       "      <th>MA</th>\n",
       "      <td>4</td>\n",
       "      <td>31326779</td>\n",
       "      <td>32</td>\n",
       "    </tr>\n",
       "    <tr>\n",
       "      <th>IN</th>\n",
       "      <td>3</td>\n",
       "      <td>27918761</td>\n",
       "      <td>27</td>\n",
       "    </tr>\n",
       "    <tr>\n",
       "      <th>MN</th>\n",
       "      <td>4</td>\n",
       "      <td>27153041</td>\n",
       "      <td>23</td>\n",
       "    </tr>\n",
       "    <tr>\n",
       "      <th>CT</th>\n",
       "      <td>1</td>\n",
       "      <td>26437120</td>\n",
       "      <td>20</td>\n",
       "    </tr>\n",
       "    <tr>\n",
       "      <th>NM</th>\n",
       "      <td>3</td>\n",
       "      <td>26270968</td>\n",
       "      <td>23</td>\n",
       "    </tr>\n",
       "    <tr>\n",
       "      <th>UT</th>\n",
       "      <td>2</td>\n",
       "      <td>24448536</td>\n",
       "      <td>25</td>\n",
       "    </tr>\n",
       "    <tr>\n",
       "      <th>VT</th>\n",
       "      <td>1</td>\n",
       "      <td>22469312</td>\n",
       "      <td>17</td>\n",
       "    </tr>\n",
       "    <tr>\n",
       "      <th>GA</th>\n",
       "      <td>1</td>\n",
       "      <td>22286745</td>\n",
       "      <td>18</td>\n",
       "    </tr>\n",
       "    <tr>\n",
       "      <th>HI</th>\n",
       "      <td>1</td>\n",
       "      <td>20000000</td>\n",
       "      <td>7</td>\n",
       "    </tr>\n",
       "    <tr>\n",
       "      <th>OK</th>\n",
       "      <td>5</td>\n",
       "      <td>17762946</td>\n",
       "      <td>24</td>\n",
       "    </tr>\n",
       "    <tr>\n",
       "      <th>MI</th>\n",
       "      <td>3</td>\n",
       "      <td>17411182</td>\n",
       "      <td>13</td>\n",
       "    </tr>\n",
       "    <tr>\n",
       "      <th>OR</th>\n",
       "      <td>4</td>\n",
       "      <td>17129662</td>\n",
       "      <td>22</td>\n",
       "    </tr>\n",
       "    <tr>\n",
       "      <th>NV</th>\n",
       "      <td>2</td>\n",
       "      <td>12184606</td>\n",
       "      <td>10</td>\n",
       "    </tr>\n",
       "    <tr>\n",
       "      <th>KY</th>\n",
       "      <td>1</td>\n",
       "      <td>11570906</td>\n",
       "      <td>42</td>\n",
       "    </tr>\n",
       "    <tr>\n",
       "      <th>MO</th>\n",
       "      <td>1</td>\n",
       "      <td>10388000</td>\n",
       "      <td>0</td>\n",
       "    </tr>\n",
       "    <tr>\n",
       "      <th>PR</th>\n",
       "      <td>1</td>\n",
       "      <td>10000000</td>\n",
       "      <td>8</td>\n",
       "    </tr>\n",
       "    <tr>\n",
       "      <th>DE</th>\n",
       "      <td>1</td>\n",
       "      <td>8740728</td>\n",
       "      <td>6</td>\n",
       "    </tr>\n",
       "    <tr>\n",
       "      <th>TN</th>\n",
       "      <td>2</td>\n",
       "      <td>8645000</td>\n",
       "      <td>0</td>\n",
       "    </tr>\n",
       "    <tr>\n",
       "      <th>MS</th>\n",
       "      <td>2</td>\n",
       "      <td>8215325</td>\n",
       "      <td>16</td>\n",
       "    </tr>\n",
       "    <tr>\n",
       "      <th>AL</th>\n",
       "      <td>1</td>\n",
       "      <td>8122850</td>\n",
       "      <td>0</td>\n",
       "    </tr>\n",
       "    <tr>\n",
       "      <th>CO</th>\n",
       "      <td>6</td>\n",
       "      <td>8000485</td>\n",
       "      <td>16</td>\n",
       "    </tr>\n",
       "    <tr>\n",
       "      <th>ME</th>\n",
       "      <td>1</td>\n",
       "      <td>7852320</td>\n",
       "      <td>0</td>\n",
       "    </tr>\n",
       "    <tr>\n",
       "      <th>KS</th>\n",
       "      <td>1</td>\n",
       "      <td>7305526</td>\n",
       "      <td>11</td>\n",
       "    </tr>\n",
       "    <tr>\n",
       "      <th>RI</th>\n",
       "      <td>1</td>\n",
       "      <td>5000000</td>\n",
       "      <td>25</td>\n",
       "    </tr>\n",
       "    <tr>\n",
       "      <th>SD</th>\n",
       "      <td>3</td>\n",
       "      <td>2603378</td>\n",
       "      <td>18</td>\n",
       "    </tr>\n",
       "    <tr>\n",
       "      <th>AR</th>\n",
       "      <td>1</td>\n",
       "      <td>1010372</td>\n",
       "      <td>5</td>\n",
       "    </tr>\n",
       "    <tr>\n",
       "      <th>WY</th>\n",
       "      <td>1</td>\n",
       "      <td>945178</td>\n",
       "      <td>4</td>\n",
       "    </tr>\n",
       "  </tbody>\n",
       "</table>\n",
       "</div>"
      ],
      "text/plain": [
       "       project_type    funding  bus_count\n",
       "state                                    \n",
       "TX               10  183877334        235\n",
       "CA               14  181406277        124\n",
       "DC                1  104000000        100\n",
       "OH                5   85752662         85\n",
       "PA                1   80000000          0\n",
       "LA                1   71439261         20\n",
       "VA                4   67555620         89\n",
       "WA                5   59027499         50\n",
       "AZ                3   51144259         59\n",
       "SC                3   47671940        171\n",
       "NJ                1   47000000          0\n",
       "NC                8   44597288         38\n",
       "IA                3   43493328         19\n",
       "NY                3   40830568         20\n",
       "MD                1   39863156         35\n",
       "MT                1   39142124          0\n",
       "WI                2   38616024         17\n",
       "IL                5   36709423        200\n",
       "FL                2   36537615         39\n",
       "MA                4   31326779         32\n",
       "IN                3   27918761         27\n",
       "MN                4   27153041         23\n",
       "CT                1   26437120         20\n",
       "NM                3   26270968         23\n",
       "UT                2   24448536         25\n",
       "VT                1   22469312         17\n",
       "GA                1   22286745         18\n",
       "HI                1   20000000          7\n",
       "OK                5   17762946         24\n",
       "MI                3   17411182         13\n",
       "OR                4   17129662         22\n",
       "NV                2   12184606         10\n",
       "KY                1   11570906         42\n",
       "MO                1   10388000          0\n",
       "PR                1   10000000          8\n",
       "DE                1    8740728          6\n",
       "TN                2    8645000          0\n",
       "MS                2    8215325         16\n",
       "AL                1    8122850          0\n",
       "CO                6    8000485         16\n",
       "ME                1    7852320          0\n",
       "KS                1    7305526         11\n",
       "RI                1    5000000         25\n",
       "SD                3    2603378         18\n",
       "AR                1    1010372          5\n",
       "WY                1     945178          4"
      ]
     },
     "execution_count": 131,
     "metadata": {},
     "output_type": "execute_result"
    }
   ],
   "source": [
    "#agg by state, by funding\n",
    "bus_cost.groupby('state').agg({\n",
    "    'project_type': 'count',\n",
    "    'funding': 'sum',\n",
    "    'bus_count':'sum'\n",
    "}).sort_values(by='funding', ascending=False)"
   ]
  },
  {
   "cell_type": "markdown",
   "id": "e85e540e-0396-49b0-9f2e-64e5236e63e8",
   "metadata": {
    "jp-MarkdownHeadingCollapsed": true,
    "tags": []
   },
   "source": [
    "### Projects with bus purchases"
   ]
  },
  {
   "cell_type": "code",
   "execution_count": 55,
   "id": "8bad1e5d-9d05-49ef-ab21-81b98d80ef75",
   "metadata": {},
   "outputs": [],
   "source": [
    "#df of only projects with a bus count\n",
    "only_bus=bus_cost[bus_cost['bus_count']>0]"
   ]
  },
  {
   "cell_type": "code",
   "execution_count": 56,
   "id": "6c5013e3-ed56-4ea6-b191-af9a8e797b4b",
   "metadata": {},
   "outputs": [
    {
     "data": {
      "text/plain": [
       "(96, 13)"
      ]
     },
     "metadata": {},
     "output_type": "display_data"
    },
    {
     "data": {
      "text/plain": [
       "Index(['state', 'project_sponsor', 'project_title', 'description', 'funding',\n",
       "       '#_of_buses', 'project_type', 'propulsion_type', 'area_served',\n",
       "       'fta_region', 'bus/low-no_program', 'bus_count', 'bus_desc'],\n",
       "      dtype='object')"
      ]
     },
     "metadata": {},
     "output_type": "display_data"
    }
   ],
   "source": [
    "display(only_bus.shape,\n",
    "        only_bus.columns)"
   ]
  },
  {
   "cell_type": "code",
   "execution_count": null,
   "id": "e93b7fe9-49e8-475d-aa89-c085f6792978",
   "metadata": {},
   "outputs": [],
   "source": [
    "#agg by propulsion type"
   ]
  },
  {
   "cell_type": "code",
   "execution_count": 57,
   "id": "dc7cc8c9-f81a-43c1-bb62-e8e2467358ce",
   "metadata": {},
   "outputs": [
    {
     "data": {
      "text/plain": [
       "bus                                40\n",
       "bus/chargers                       17\n",
       "bus/facility                       13\n",
       "bus/facility/chargers               8\n",
       "bus/equipment                       6\n",
       "bus/chargers/equipment              5\n",
       "bus/facility/equipment              2\n",
       "bus/chargers/other                  1\n",
       "bus/facility/chargers/equipment     1\n",
       "bus/facility/other                  1\n",
       "bus/other                           1\n",
       "bus/facility/equipment/other        1\n",
       "Name: project_type, dtype: int64"
      ]
     },
     "execution_count": 57,
     "metadata": {},
     "output_type": "execute_result"
    }
   ],
   "source": [
    "only_bus.project_type.value_counts()"
   ]
  },
  {
   "cell_type": "code",
   "execution_count": 67,
   "id": "d86ee60d-e3e8-4dea-880f-731f6ac64376",
   "metadata": {},
   "outputs": [],
   "source": [
    "#of the rows with bus_count >1, what are the project types?\n",
    "bus_agg = only_bus.groupby('project_type').agg({\n",
    "    'project_type': 'count',\n",
    "    'funding': 'sum',\n",
    "    'bus_count':'sum'\n",
    "})"
   ]
  },
  {
   "cell_type": "code",
   "execution_count": 124,
   "id": "f7afb2df-374e-4ee2-b99c-6959d2111a37",
   "metadata": {},
   "outputs": [],
   "source": [
    "#new column that calculates `cost per bus`\n",
    "bus_agg['cost_per_bus']=(bus_agg['funding']/bus_agg['bus_count']).astype('int64')"
   ]
  },
  {
   "cell_type": "code",
   "execution_count": 125,
   "id": "f8b1c63c-9763-4d24-9613-433aefd8e4bf",
   "metadata": {},
   "outputs": [
    {
     "data": {
      "text/html": [
       "<div>\n",
       "<style scoped>\n",
       "    .dataframe tbody tr th:only-of-type {\n",
       "        vertical-align: middle;\n",
       "    }\n",
       "\n",
       "    .dataframe tbody tr th {\n",
       "        vertical-align: top;\n",
       "    }\n",
       "\n",
       "    .dataframe thead th {\n",
       "        text-align: right;\n",
       "    }\n",
       "</style>\n",
       "<table border=\"1\" class=\"dataframe\">\n",
       "  <thead>\n",
       "    <tr style=\"text-align: right;\">\n",
       "      <th></th>\n",
       "      <th>project_type</th>\n",
       "      <th>funding</th>\n",
       "      <th>bus_count</th>\n",
       "      <th>funds/bus</th>\n",
       "      <th>cost_per_bus</th>\n",
       "    </tr>\n",
       "    <tr>\n",
       "      <th>project_type</th>\n",
       "      <th></th>\n",
       "      <th></th>\n",
       "      <th></th>\n",
       "      <th></th>\n",
       "      <th></th>\n",
       "    </tr>\n",
       "  </thead>\n",
       "  <tbody>\n",
       "    <tr>\n",
       "      <th>bus</th>\n",
       "      <td>40</td>\n",
       "      <td>365965433</td>\n",
       "      <td>790</td>\n",
       "      <td>463247</td>\n",
       "      <td>463247</td>\n",
       "    </tr>\n",
       "    <tr>\n",
       "      <th>bus/chargers</th>\n",
       "      <td>17</td>\n",
       "      <td>293683619</td>\n",
       "      <td>301</td>\n",
       "      <td>975693</td>\n",
       "      <td>975693</td>\n",
       "    </tr>\n",
       "    <tr>\n",
       "      <th>bus/chargers/equipment</th>\n",
       "      <td>5</td>\n",
       "      <td>162489938</td>\n",
       "      <td>152</td>\n",
       "      <td>1069012</td>\n",
       "      <td>1069012</td>\n",
       "    </tr>\n",
       "    <tr>\n",
       "      <th>bus/chargers/other</th>\n",
       "      <td>1</td>\n",
       "      <td>23984700</td>\n",
       "      <td>13</td>\n",
       "      <td>1844976</td>\n",
       "      <td>1844976</td>\n",
       "    </tr>\n",
       "    <tr>\n",
       "      <th>bus/equipment</th>\n",
       "      <td>6</td>\n",
       "      <td>36072694</td>\n",
       "      <td>50</td>\n",
       "      <td>721453</td>\n",
       "      <td>721453</td>\n",
       "    </tr>\n",
       "    <tr>\n",
       "      <th>bus/facility</th>\n",
       "      <td>13</td>\n",
       "      <td>158193428</td>\n",
       "      <td>210</td>\n",
       "      <td>753302</td>\n",
       "      <td>753302</td>\n",
       "    </tr>\n",
       "    <tr>\n",
       "      <th>bus/facility/chargers</th>\n",
       "      <td>8</td>\n",
       "      <td>168377901</td>\n",
       "      <td>98</td>\n",
       "      <td>1718141</td>\n",
       "      <td>1718141</td>\n",
       "    </tr>\n",
       "    <tr>\n",
       "      <th>bus/facility/chargers/equipment</th>\n",
       "      <td>1</td>\n",
       "      <td>16166822</td>\n",
       "      <td>31</td>\n",
       "      <td>521510</td>\n",
       "      <td>521510</td>\n",
       "    </tr>\n",
       "    <tr>\n",
       "      <th>bus/facility/equipment</th>\n",
       "      <td>2</td>\n",
       "      <td>24261170</td>\n",
       "      <td>20</td>\n",
       "      <td>1213058</td>\n",
       "      <td>1213058</td>\n",
       "    </tr>\n",
       "    <tr>\n",
       "      <th>bus/facility/equipment/other</th>\n",
       "      <td>1</td>\n",
       "      <td>514002</td>\n",
       "      <td>2</td>\n",
       "      <td>257001</td>\n",
       "      <td>257001</td>\n",
       "    </tr>\n",
       "    <tr>\n",
       "      <th>bus/facility/other</th>\n",
       "      <td>1</td>\n",
       "      <td>11570906</td>\n",
       "      <td>42</td>\n",
       "      <td>275497</td>\n",
       "      <td>275497</td>\n",
       "    </tr>\n",
       "    <tr>\n",
       "      <th>bus/other</th>\n",
       "      <td>1</td>\n",
       "      <td>945178</td>\n",
       "      <td>4</td>\n",
       "      <td>236294</td>\n",
       "      <td>236294</td>\n",
       "    </tr>\n",
       "  </tbody>\n",
       "</table>\n",
       "</div>"
      ],
      "text/plain": [
       "                                 project_type    funding  bus_count  \\\n",
       "project_type                                                          \n",
       "bus                                        40  365965433        790   \n",
       "bus/chargers                               17  293683619        301   \n",
       "bus/chargers/equipment                      5  162489938        152   \n",
       "bus/chargers/other                          1   23984700         13   \n",
       "bus/equipment                               6   36072694         50   \n",
       "bus/facility                               13  158193428        210   \n",
       "bus/facility/chargers                       8  168377901         98   \n",
       "bus/facility/chargers/equipment             1   16166822         31   \n",
       "bus/facility/equipment                      2   24261170         20   \n",
       "bus/facility/equipment/other                1     514002          2   \n",
       "bus/facility/other                          1   11570906         42   \n",
       "bus/other                                   1     945178          4   \n",
       "\n",
       "                                 funds/bus  cost_per_bus  \n",
       "project_type                                              \n",
       "bus                                 463247        463247  \n",
       "bus/chargers                        975693        975693  \n",
       "bus/chargers/equipment             1069012       1069012  \n",
       "bus/chargers/other                 1844976       1844976  \n",
       "bus/equipment                       721453        721453  \n",
       "bus/facility                        753302        753302  \n",
       "bus/facility/chargers              1718141       1718141  \n",
       "bus/facility/chargers/equipment     521510        521510  \n",
       "bus/facility/equipment             1213058       1213058  \n",
       "bus/facility/equipment/other        257001        257001  \n",
       "bus/facility/other                  275497        275497  \n",
       "bus/other                           236294        236294  "
      ]
     },
     "execution_count": 125,
     "metadata": {},
     "output_type": "execute_result"
    }
   ],
   "source": [
    "bus_agg"
   ]
  },
  {
   "cell_type": "markdown",
   "id": "211cb7b6-8fb1-4d52-890a-7106afb981a0",
   "metadata": {},
   "source": [
    "### Projects with no buses"
   ]
  },
  {
   "cell_type": "code",
   "execution_count": 132,
   "id": "e018dd24-4c96-4d1b-ad48-d67d706d165b",
   "metadata": {},
   "outputs": [],
   "source": [
    "no_bus=bus_cost[bus_cost['bus_count']<1]"
   ]
  },
  {
   "cell_type": "code",
   "execution_count": 133,
   "id": "c9ce24e3-5366-4cb5-9f92-4d24b50493e4",
   "metadata": {},
   "outputs": [
    {
     "data": {
      "text/plain": [
       "facility                       25\n",
       "facility/chargers               3\n",
       "chargers                        2\n",
       "bus/facility/chargers           1\n",
       "facility/chargers/equipment     1\n",
       "facility/equipment              1\n",
       "chargers/equipment              1\n",
       "Name: project_type, dtype: int64"
      ]
     },
     "execution_count": 133,
     "metadata": {},
     "output_type": "execute_result"
    }
   ],
   "source": [
    "no_bus['project_type'].value_counts()"
   ]
  },
  {
   "cell_type": "markdown",
   "id": "ac02fbbb-2a88-486f-8001-fd8156c50bfb",
   "metadata": {},
   "source": [
    "## Summary"
   ]
  },
  {
   "cell_type": "code",
   "execution_count": 117,
   "id": "6ad1b9f5-a5c7-4fee-abb2-cb74dee4ab40",
   "metadata": {
    "tags": []
   },
   "outputs": [],
   "source": [
    "project_count=bus_cost.project_title.count()\n",
    "fund_sum=bus_cost.funding.sum()\n",
    "bus_count_sum=bus_cost.bus_count.sum()\n",
    "bus_program_count=bus_cost['bus/low-no_program'].value_counts()\n",
    "\n",
    "projects_with_bus=only_bus.project_title.count()\n",
    "projects_with_bus_funds=only_bus.funding.sum()\n",
    "cost_per_bus = (only_bus.funding.sum())/(bus_count_sum)"
   ]
  },
  {
   "cell_type": "code",
   "execution_count": 122,
   "id": "7e932b1e-f5e5-4215-91b5-4c922e78062a",
   "metadata": {
    "tags": []
   },
   "outputs": [],
   "source": [
    "summary = f'''\n",
    "Top Level observation:\n",
    "- {project_count} projects awarded\n",
    "- ${fund_sum:,.2f} dollars awarded\n",
    "- {bus_count_sum} buses to be purchased\n",
    "\n",
    "Projects have some mix of buses, facilities and equipment. Making it difficult to disaggregate actual bus cost.\n",
    "\n",
    "Of the {project_count} projects awarded, {projects_with_bus} projects inlcuded buses. The remainder were facilities, chargers and equipment\n",
    "\n",
    "Projects with buses purchases:\n",
    "- {projects_with_bus} projects\n",
    "- ${projects_with_bus_funds:,.2f} awarded to purchases buses\n",
    "- ${cost_per_bus:,.2f} cost per bus\n",
    "'''"
   ]
  },
  {
   "cell_type": "code",
   "execution_count": 123,
   "id": "dfb95588-9083-4298-8822-460c2dad9941",
   "metadata": {
    "tags": []
   },
   "outputs": [
    {
     "name": "stdout",
     "output_type": "stream",
     "text": [
      "\n",
      "Top Level observation:\n",
      "- 130 projects awarded\n",
      "- $1,689,864,104.00 dollars awarded\n",
      "- 1713 buses to be purchased\n",
      "\n",
      "Projects have some mix of buses, facilities and equipment. Making it difficult to disaggregate actual bus cost.\n",
      "\n",
      "Of the 130 projects awarded, 96 projects inlcuded buses. The remainder were facilities, chargers and equipment\n",
      "\n",
      "Projects with buses purchases:\n",
      "- 96 projects\n",
      "- $1,262,225,791.00 awarded to purchases buses\n",
      "- $736,851.02 cost per bus\n",
      "\n"
     ]
    }
   ],
   "source": [
    "print(summary)"
   ]
  },
  {
   "cell_type": "code",
   "execution_count": null,
   "id": "67d184c3-c6b4-4c0b-b4fb-8c1032eb0820",
   "metadata": {},
   "outputs": [],
   "source": []
  }
 ],
 "metadata": {
  "kernelspec": {
   "display_name": "Python 3 (ipykernel)",
   "language": "python",
   "name": "python3"
  },
  "language_info": {
   "codemirror_mode": {
    "name": "ipython",
    "version": 3
   },
   "file_extension": ".py",
   "mimetype": "text/x-python",
   "name": "python",
   "nbconvert_exporter": "python",
   "pygments_lexer": "ipython3",
   "version": "3.9.13"
  }
 },
 "nbformat": 4,
 "nbformat_minor": 5
}
