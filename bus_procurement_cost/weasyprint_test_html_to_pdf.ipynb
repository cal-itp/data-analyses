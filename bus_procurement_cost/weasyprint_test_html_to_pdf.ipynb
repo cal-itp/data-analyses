{
 "cells": [
  {
   "cell_type": "markdown",
   "id": "564292de-89a7-4f07-8db4-aa799310c0a0",
   "metadata": {},
   "source": [
    "# Testing Weasyprint for Bus Cost Analysis\n",
    "\n",
    "## CLI method\n",
    "\n",
    "1. install `pip install WeasyPrint`\n",
    "2. command to convert nb to html `jupyter nbconvert --to html --no-input --no-prompt cost_per_bus_analysis.ipynb`\n",
    "3. command to convert analysis html to pdf `weasyprint cost_per_bus_analysis.html cost_per_bus_analysis_weasyprint.pdf`\n",
    "\n",
    "## Notebook Cell method\n",
    "\n",
    "1. still need to run these in CLI first: `pip install WeasyPrint`. `jupyter nbconvert --to html --no-input --no-prompt cost_per_bus_analysis.ipynb`\n",
    "\n",
    "2. use `HTML(html_file).write_pdf(pdf_file)` cell below\n",
    "\n",
    "## Notes\n",
    "WeasyPrint takes the analysis HTML file then converts to PDF.\n",
    "So any cool formatting should be done in HTML/CSS first, then converted to PDF.\n",
    "\n",
    "1. `jupyter nbconvert --to html --no-input --no-prompt cost_per_bus_analysis.ipynb` to convert analysis.ipynb to HTML\n",
    "    * This method preserves the intended format of the NB\n",
    "<br>\n",
    "<br>\n",
    "2. `HTML(html_file).write_pdf(pdf_file)` (below) to convert the analysis.HTML to PDF\n",
    "    * still preserves the format\n",
    "    * however, theres a blank page at the front, and some weird page breaks\n",
    "    * **need to solve how to control the page breaks, maybe add breaks for sections?**\n",
    "\n",
    "3. either method leaves a blank page in the front of the pdf\n",
    "    \n",
    "## Questions\n",
    "\n",
    "1. how to control page breaks?\n",
    "\n",
    "\n"
   ]
  },
  {
   "cell_type": "code",
   "execution_count": 5,
   "id": "bea85c0b-202e-402e-814d-4f43dbe7e963",
   "metadata": {},
   "outputs": [],
   "source": [
    "from weasyprint import HTML\n",
    "\n",
    "html_file = 'cost_per_bus_analysis.html'\n",
    "pdf_file = 'cost_per_bus_analysis_weasyprint.pdf'\n",
    "\n",
    "HTML(html_file).write_pdf(pdf_file)\n"
   ]
  },
  {
   "cell_type": "code",
   "execution_count": null,
   "id": "cd5aa916-c701-4237-be2a-21760a8d5573",
   "metadata": {},
   "outputs": [],
   "source": []
  },
  {
   "cell_type": "code",
   "execution_count": null,
   "id": "b4a38e9a-ec06-4d3a-afeb-d04938a9c077",
   "metadata": {},
   "outputs": [],
   "source": []
  }
 ],
 "metadata": {
  "kernelspec": {
   "display_name": "Python 3 (ipykernel)",
   "language": "python",
   "name": "python3"
  },
  "language_info": {
   "codemirror_mode": {
    "name": "ipython",
    "version": 3
   },
   "file_extension": ".py",
   "mimetype": "text/x-python",
   "name": "python",
   "nbconvert_exporter": "python",
   "pygments_lexer": "ipython3",
   "version": "3.9.13"
  }
 },
 "nbformat": 4,
 "nbformat_minor": 5
}
