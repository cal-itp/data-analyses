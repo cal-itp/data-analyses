{
 "cells": [
  {
   "cell_type": "code",
   "execution_count": null,
   "id": "7ac2f43f-a58d-4aa3-9de3-ad11c996331f",
   "metadata": {},
   "outputs": [],
   "source": [
    "#pip install WeasyPrint\n"
   ]
  },
  {
   "cell_type": "code",
   "execution_count": 2,
   "id": "bea85c0b-202e-402e-814d-4f43dbe7e963",
   "metadata": {},
   "outputs": [],
   "source": [
    "from weasyprint import HTML\n",
    "\n",
    "html_file = 'cost_per_bus_analysis.html'\n",
    "pdf_file = 'test_pdf.pdf'\n",
    "\n",
    "HTML(html_file).write_pdf(pdf_file)\n"
   ]
  },
  {
   "cell_type": "code",
   "execution_count": null,
   "id": "cd5aa916-c701-4237-be2a-21760a8d5573",
   "metadata": {},
   "outputs": [],
   "source": []
  }
 ],
 "metadata": {
  "kernelspec": {
   "display_name": "Python 3 (ipykernel)",
   "language": "python",
   "name": "python3"
  },
  "language_info": {
   "codemirror_mode": {
    "name": "ipython",
    "version": 3
   },
   "file_extension": ".py",
   "mimetype": "text/x-python",
   "name": "python",
   "nbconvert_exporter": "python",
   "pygments_lexer": "ipython3",
   "version": "3.9.13"
  }
 },
 "nbformat": 4,
 "nbformat_minor": 5
}
