{
 "cells": [
  {
   "cell_type": "markdown",
   "id": "564292de-89a7-4f07-8db4-aa799310c0a0",
   "metadata": {},
   "source": [
    "# Testing Weasyprint for Bus Cost Analysis\n",
    "\n",
    "## Run in CLI\n",
    "\n",
    "install\n",
    "`pip install WeasyPrint`\n",
    "\n",
    "command to convert analysis html to pdf\n",
    "`weasyprint cost_per_bus_analysis.html weasyprint_test_pdf.pdf`\n",
    "\n",
    "## Notes\n",
    "WeasyPrint takes the analysis HTML file then converts to PDF.\n",
    "So any cool formatting should be done in HTML/CSS first, then converted to PDF.\n",
    "\n",
    "1. use `jupyter nbconvert --to html --no-input --no-prompt cost_per_bus_analysis.ipynb` to convert analysis.ipynb to HTML\n",
    "    * This method preserves the intended format of the NB\n",
    "<br>\n",
    "<br>\n",
    "2. use `HTML(html_file).write_pdf(pdf_file)` (below) to convert the analysis.HTML to PDF\n",
    "    * still preserves the format\n",
    "    * however, theres a blank page at the front, and some weird page breaks\n",
    "    * **need to solve how to control the page breaks, maybe add breaks for sections?**\n",
    "    \n",
    "## Questions\n",
    "\n",
    "1. how to control page breaks?\n",
    "\n",
    "\n"
   ]
  },
  {
   "cell_type": "code",
   "execution_count": 6,
   "id": "bea85c0b-202e-402e-814d-4f43dbe7e963",
   "metadata": {},
   "outputs": [],
   "source": [
    "from weasyprint import HTML\n",
    "\n",
    "html_file = 'cost_per_bus_analysis.html'\n",
    "pdf_file = 'weasyprint_test_pdf.pdf'\n",
    "\n",
    "HTML(html_file).write_pdf(pdf_file)\n"
   ]
  },
  {
   "cell_type": "code",
   "execution_count": null,
   "id": "cd5aa916-c701-4237-be2a-21760a8d5573",
   "metadata": {},
   "outputs": [],
   "source": []
  },
  {
   "cell_type": "code",
   "execution_count": null,
   "id": "b4a38e9a-ec06-4d3a-afeb-d04938a9c077",
   "metadata": {},
   "outputs": [],
   "source": []
  }
 ],
 "metadata": {
  "kernelspec": {
   "display_name": "Python 3 (ipykernel)",
   "language": "python",
   "name": "python3"
  },
  "language_info": {
   "codemirror_mode": {
    "name": "ipython",
    "version": 3
   },
   "file_extension": ".py",
   "mimetype": "text/x-python",
   "name": "python",
   "nbconvert_exporter": "python",
   "pygments_lexer": "ipython3",
   "version": "3.9.13"
  }
 },
 "nbformat": 4,
 "nbformat_minor": 5
}
