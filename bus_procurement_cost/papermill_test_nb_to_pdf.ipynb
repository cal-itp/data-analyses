{
 "cells": [
  {
   "cell_type": "markdown",
   "id": "7faaab24-75cf-4388-858e-e71d176d8d8f",
   "metadata": {},
   "source": [
    "# Publishing Reports via Papermill\n",
    "see [calitp docs](https://docs.calitp.org/data-infra/publishing/sections/2_static_files.html#publishing-reports)"
   ]
  },
  {
   "cell_type": "code",
   "execution_count": 5,
   "id": "e194e34e-2f69-4719-9c30-b12dd10d7c10",
   "metadata": {},
   "outputs": [
    {
     "data": {
      "application/vnd.jupyter.widget-view+json": {
       "model_id": "f0eb9e5088964ebc8415177a7754caa2",
       "version_major": 2,
       "version_minor": 0
      },
      "text/plain": [
       "Executing:   0%|          | 0/32 [00:00<?, ?cell/s]"
      ]
     },
     "metadata": {},
     "output_type": "display_data"
    },
    {
     "name": "stderr",
     "output_type": "stream",
     "text": [
      "[NbConvertApp] Converting notebook papermill_test_pdf.ipynb to webpdf\n",
      "Traceback (most recent call last):\n",
      "  File \"/opt/conda/lib/python3.9/site-packages/nbconvert/exporters/webpdf.py\", line 69, in _check_launch_reqs\n",
      "    from pyppeteer import launch\n",
      "ModuleNotFoundError: No module named 'pyppeteer'\n",
      "\n",
      "The above exception was the direct cause of the following exception:\n",
      "\n",
      "Traceback (most recent call last):\n",
      "  File \"/opt/conda/bin/jupyter-nbconvert\", line 8, in <module>\n",
      "    sys.exit(main())\n",
      "  File \"/opt/conda/lib/python3.9/site-packages/jupyter_core/application.py\", line 285, in launch_instance\n",
      "    return super().launch_instance(argv=argv, **kwargs)\n",
      "  File \"/opt/conda/lib/python3.9/site-packages/traitlets/config/application.py\", line 1043, in launch_instance\n",
      "    app.start()\n",
      "  File \"/opt/conda/lib/python3.9/site-packages/nbconvert/nbconvertapp.py\", line 423, in start\n",
      "    self.convert_notebooks()\n",
      "  File \"/opt/conda/lib/python3.9/site-packages/nbconvert/nbconvertapp.py\", line 597, in convert_notebooks\n",
      "    self.convert_single_notebook(notebook_filename)\n",
      "  File \"/opt/conda/lib/python3.9/site-packages/nbconvert/nbconvertapp.py\", line 560, in convert_single_notebook\n",
      "    output, resources = self.export_single_notebook(\n",
      "  File \"/opt/conda/lib/python3.9/site-packages/nbconvert/nbconvertapp.py\", line 488, in export_single_notebook\n",
      "    output, resources = self.exporter.from_filename(\n",
      "  File \"/opt/conda/lib/python3.9/site-packages/nbconvert/exporters/exporter.py\", line 189, in from_filename\n",
      "    return self.from_file(f, resources=resources, **kw)\n",
      "  File \"/opt/conda/lib/python3.9/site-packages/nbconvert/exporters/exporter.py\", line 206, in from_file\n",
      "    return self.from_notebook_node(\n",
      "  File \"/opt/conda/lib/python3.9/site-packages/nbconvert/exporters/webpdf.py\", line 148, in from_notebook_node\n",
      "    self._check_launch_reqs()\n",
      "  File \"/opt/conda/lib/python3.9/site-packages/nbconvert/exporters/webpdf.py\", line 72, in _check_launch_reqs\n",
      "    raise RuntimeError(\n",
      "RuntimeError: Pyppeteer is not installed to support Web PDF conversion. Please install `nbconvert[webpdf]` to enable.\n"
     ]
    },
    {
     "data": {
      "text/plain": [
       "CompletedProcess(args=['jupyter', 'nbconvert', '--to', 'webpdf', '--no-input', '--no-prompt', 'papermill_test_pdf.ipynb'], returncode=1)"
      ]
     },
     "execution_count": 5,
     "metadata": {},
     "output_type": "execute_result"
    }
   ],
   "source": [
    "import papermill as pm\n",
    "import subprocess\n",
    "\n",
    "OUTPUT_FILENAME = \"papermill_test_pdf\"\n",
    "\n",
    "pm.execute_notebook(\n",
    "    # notebook to execute\n",
    "    'cost_per_bus_analysis.ipynb',\n",
    "    # if needed, rename the notebook as something different\n",
    "    # this will be the filename that is used when converting to HTML or PDF\n",
    "    f'{OUTPUT_FILENAME}.ipynb',\n",
    ")\n",
    "\n",
    "\n",
    "# shell out, run NB Convert\n",
    "OUTPUT_FORMAT = 'webpdf'\n",
    "subprocess.run([\n",
    "    \"jupyter\",\n",
    "    \"nbconvert\",\n",
    "    \"--to\",\n",
    "    OUTPUT_FORMAT,\n",
    "    \"--no-input\",\n",
    "    \"--no-prompt\",\n",
    "    f\"{OUTPUT_FILENAME}.ipynb\",\n",
    "])"
   ]
  },
  {
   "cell_type": "markdown",
   "id": "46d806a4-69d2-46d3-a5da-eb9c0247f614",
   "metadata": {},
   "source": [
    "## Results\n",
    "\n",
    "1. when using `OUTPUT_FORMAT = 'PDFviaHTML'` >>> get error `Unknown exporter \"PDFviaHTML\", did you mean one of: asciidoc, custom, html, latex, markdown, notebook, pdf, python, rst, script, slides, webpdf?`\n",
    "\n",
    "2. when using `OUTPUT_FORMAT = 'pdf` >>> get same output as exporting to pdf (times new roman font)\n",
    "\n",
    "3. when using `OUTPUT_FORMAT = webpdf` >>> get error `RuntimeError: Pyppeteer is not installed to support Web PDF conversion. Please install `nbconvert[webpdf]` to enable.`"
   ]
  },
  {
   "cell_type": "code",
   "execution_count": null,
   "id": "74703915-733c-4310-a9af-208349918b61",
   "metadata": {},
   "outputs": [],
   "source": []
  }
 ],
 "metadata": {
  "kernelspec": {
   "display_name": "Python 3 (ipykernel)",
   "language": "python",
   "name": "python3"
  },
  "language_info": {
   "codemirror_mode": {
    "name": "ipython",
    "version": 3
   },
   "file_extension": ".py",
   "mimetype": "text/x-python",
   "name": "python",
   "nbconvert_exporter": "python",
   "pygments_lexer": "ipython3",
   "version": "3.9.13"
  }
 },
 "nbformat": 4,
 "nbformat_minor": 5
}
