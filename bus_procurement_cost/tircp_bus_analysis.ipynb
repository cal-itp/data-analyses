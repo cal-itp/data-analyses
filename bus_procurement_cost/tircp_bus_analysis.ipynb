{
 "cells": [
  {
   "cell_type": "markdown",
   "id": "e767add0-6871-46de-b480-d77ae7d62819",
   "metadata": {},
   "source": [
    "## Intro"
   ]
  },
  {
   "cell_type": "code",
   "execution_count": 1,
   "id": "7e2bb160-f2fa-49a0-9cbf-b0796599f1d1",
   "metadata": {},
   "outputs": [],
   "source": [
    "import pandas as pd\n",
    "import shared_utils\n",
    "import matplotlib as plt\n",
    "#set_option to increase max rows displayed to 200, to see entire df in 1 go/\n",
    "pd.set_option(\"display.max_rows\", 200)"
   ]
  },
  {
   "cell_type": "code",
   "execution_count": 10,
   "id": "abb78b08-248e-4b5a-bd79-4d4f967b928f",
   "metadata": {},
   "outputs": [
    {
     "ename": "ImportError",
     "evalue": "attempted relative import with no known parent package",
     "output_type": "error",
     "traceback": [
      "\u001b[0;31m---------------------------------------------------------------------------\u001b[0m",
      "\u001b[0;31mImportError\u001b[0m                               Traceback (most recent call last)",
      "Cell \u001b[0;32mIn[10], line 3\u001b[0m\n\u001b[1;32m      1\u001b[0m \u001b[38;5;66;03m#find out how to import cleaning scrip from other TIRCP notebook\u001b[39;00m\n\u001b[0;32m----> 3\u001b[0m \u001b[38;5;28;01mfrom\u001b[39;00m \u001b[38;5;21;01m.\u001b[39;00m\u001b[38;5;21;01m.\u001b[39;00m\u001b[38;5;21;01mtircp\u001b[39;00m \u001b[38;5;28;01mimport\u001b[39;00m A1_data_prep\n",
      "\u001b[0;31mImportError\u001b[0m: attempted relative import with no known parent package"
     ]
    }
   ],
   "source": [
    "#find out how to import cleaning scrip from other TIRCP notebook\n",
    "\n",
    "from ..tircp import A1_data_prep"
   ]
  },
  {
   "cell_type": "markdown",
   "id": "52794293-2f66-47a7-b580-6170fc72ca94",
   "metadata": {},
   "source": [
    "## Read in Raw data"
   ]
  },
  {
   "cell_type": "code",
   "execution_count": 2,
   "id": "70250817-0eee-4ab0-95b4-b43050b46f8c",
   "metadata": {},
   "outputs": [],
   "source": [
    "url='gs://calitp-analytics-data/data-analyses/bus_procurement_cost/TIRCP Tracking Sheets 2_1-10-2024.xlsx'\n",
    "sheet_name='Agreement Allocations'\n"
   ]
  },
  {
   "cell_type": "code",
   "execution_count": 3,
   "id": "f80fccec-2313-4a82-9529-5943ba26e401",
   "metadata": {},
   "outputs": [],
   "source": [
    "df = pd.read_excel(url,sheet_name)"
   ]
  },
  {
   "cell_type": "code",
   "execution_count": 4,
   "id": "88c7aa03-fb76-45f9-8e41-e78b1e3e91be",
   "metadata": {},
   "outputs": [
    {
     "data": {
      "text/plain": [
       "(726, 55)"
      ]
     },
     "metadata": {},
     "output_type": "display_data"
    },
    {
     "data": {
      "text/plain": [
       "pandas.core.frame.DataFrame"
      ]
     },
     "metadata": {},
     "output_type": "display_data"
    },
    {
     "data": {
      "text/plain": [
       "Index(['Award Year', 'Project #', 'Grant Recipient', 'Implementing Agency',\n",
       "       'PPNO', 'Project ID', 'EA', 'Components', '#of buses', 'Phase',\n",
       "       'Allocation Amount', 'Expended Amount', 'SB1 Funding',\n",
       "       'SB1 Budget Year', 'GGRF Funding', 'GGRF Budget Year', 'GF Funding',\n",
       "       'GF Budget Year', 'CTC Financial Resolution',\n",
       "       'CTC Allocation Amendment', 'CTC Waiver', 'CalSTA Waiver',\n",
       "       'Allocation Date', 'Phase Completion Date (SAR)', 'PSA #',\n",
       "       'CT Document #', '3rd Party Award Date', 'LED', 'Termination Date',\n",
       "       'Final Invoice Date', 'Date Branch Chief Receives PSA',\n",
       "       'Date Regional Coordinator Receives PSA', 'Date OC Receives PSA',\n",
       "       'Date OPM Receives PSA', 'Date Legal Receives PSA',\n",
       "       'Date Returned to PM', 'Date PSA Sent to Local Agency',\n",
       "       'Date PSA Approved by Local Agency', 'Date Signed by DRMT',\n",
       "       'PSA Expiry Date', 'LONP', 'Prior Fiscal Years to 2020',\n",
       "       'Fiscal Year 2020-2021', 'Fiscal Year 2021-2022',\n",
       "       'Fiscal Year 2022-2023', 'Fiscal Year 2023-2024',\n",
       "       'Fiscal Year 2024-2025', 'Fiscal Year 2025-2026',\n",
       "       'Fiscal Year 2026-2027', 'Fiscal Year 2027-2028',\n",
       "       'Fiscal Year 2028-2029', 'Fiscal Year 2029-2030', 'Allocation Comments',\n",
       "       'GGRF/SB1 Percentage Split', 'PSA Comments'],\n",
       "      dtype='object')"
      ]
     },
     "metadata": {},
     "output_type": "display_data"
    }
   ],
   "source": [
    "display(\n",
    "    df.shape,\n",
    "    type(df),\n",
    "    df.columns\n",
    ")"
   ]
  },
  {
   "cell_type": "markdown",
   "id": "79002d63-c2a1-4218-81a2-31e6a10d981e",
   "metadata": {},
   "source": [
    "## Data Cleaning and QC"
   ]
  },
  {
   "cell_type": "code",
   "execution_count": 10,
   "id": "78289f7c-54f3-48af-8881-101f50853694",
   "metadata": {},
   "outputs": [],
   "source": [
    "#reducing initialdf to first 11 columns.\n",
    "tircp =df.iloc[:, :12]"
   ]
  },
  {
   "cell_type": "code",
   "execution_count": 19,
   "id": "f2e30eb4-6adf-48b8-827b-548d806b101a",
   "metadata": {},
   "outputs": [
    {
     "data": {
      "text/plain": [
       "(726, 12)"
      ]
     },
     "metadata": {},
     "output_type": "display_data"
    },
    {
     "data": {
      "text/plain": [
       "['Award Year',\n",
       " 'Project #',\n",
       " 'Grant Recipient',\n",
       " 'Implementing Agency',\n",
       " 'PPNO',\n",
       " 'Project ID',\n",
       " 'EA',\n",
       " 'Components',\n",
       " '#of buses',\n",
       " 'Phase',\n",
       " 'Allocation Amount',\n",
       " 'Expended Amount']"
      ]
     },
     "metadata": {},
     "output_type": "display_data"
    }
   ],
   "source": [
    "display(\n",
    "    tircp.shape,\n",
    "    list(tircp.columns))"
   ]
  },
  {
   "cell_type": "code",
   "execution_count": 20,
   "id": "6526421b-36f3-4326-bfce-4679ffcf2b52",
   "metadata": {},
   "outputs": [],
   "source": [
    "#dictionary for column name update\n",
    "ew_col=[\n",
    "    'award_year',\n",
    "    'project_#',\n",
    "    'grant_recipient',\n",
    "    'implementing_agency',\n",
    "    'ppno',\n",
    "    'project_id',\n",
    "    'ea',\n",
    "    'components',\n",
    "    '#_of_buses',\n",
    "    'phase',\n",
    "    'allocation_amount',\n",
    "    'expended_amount']"
   ]
  },
  {
   "cell_type": "code",
   "execution_count": 21,
   "id": "c973346f-9232-4d21-8145-6fbe331094de",
   "metadata": {},
   "outputs": [
    {
     "data": {
      "text/plain": [
       "Index(['award_year', 'project_#', 'grant_recipient', 'implementing_agency',\n",
       "       'ppno', 'project_id', 'ea', 'components', '#_of_buses', 'phase',\n",
       "       'allocation_amount', 'expended_amount'],\n",
       "      dtype='object')"
      ]
     },
     "execution_count": 21,
     "metadata": {},
     "output_type": "execute_result"
    }
   ],
   "source": [
    "tircp.columns = new_col\n",
    "tircp.columns"
   ]
  },
  {
   "cell_type": "code",
   "execution_count": 27,
   "id": "a316f32f-31fb-479f-bc4e-af1a621ebf70",
   "metadata": {},
   "outputs": [
    {
     "data": {
      "text/plain": [
       "award_year             float64\n",
       "project_#              float64\n",
       "grant_recipient         object\n",
       "implementing_agency     object\n",
       "ppno                    object\n",
       "project_id             float64\n",
       "ea                      object\n",
       "components              object\n",
       "#_of_buses             float64\n",
       "phase                   object\n",
       "allocation_amount        int64\n",
       "expended_amount         object\n",
       "dtype: object"
      ]
     },
     "execution_count": 27,
     "metadata": {},
     "output_type": "execute_result"
    }
   ],
   "source": [
    "#data type checking\n",
    "tircp.dtypes\n",
    "#everything looks good. can drop expanded_amount"
   ]
  },
  {
   "cell_type": "code",
   "execution_count": 29,
   "id": "14061d68-8a66-42de-baad-c45e0b4664f5",
   "metadata": {},
   "outputs": [],
   "source": [
    "tircp = tircp.drop('expended_amount', axis=1)"
   ]
  },
  {
   "cell_type": "code",
   "execution_count": 30,
   "id": "984095a6-d066-457a-919a-9970a0ece80d",
   "metadata": {},
   "outputs": [
    {
     "data": {
      "text/html": [
       "<div>\n",
       "<style scoped>\n",
       "    .dataframe tbody tr th:only-of-type {\n",
       "        vertical-align: middle;\n",
       "    }\n",
       "\n",
       "    .dataframe tbody tr th {\n",
       "        vertical-align: top;\n",
       "    }\n",
       "\n",
       "    .dataframe thead th {\n",
       "        text-align: right;\n",
       "    }\n",
       "</style>\n",
       "<table border=\"1\" class=\"dataframe\">\n",
       "  <thead>\n",
       "    <tr style=\"text-align: right;\">\n",
       "      <th></th>\n",
       "      <th>award_year</th>\n",
       "      <th>project_#</th>\n",
       "      <th>grant_recipient</th>\n",
       "      <th>implementing_agency</th>\n",
       "      <th>ppno</th>\n",
       "      <th>project_id</th>\n",
       "      <th>ea</th>\n",
       "      <th>components</th>\n",
       "      <th>#_of_buses</th>\n",
       "      <th>phase</th>\n",
       "      <th>allocation_amount</th>\n",
       "    </tr>\n",
       "  </thead>\n",
       "  <tbody>\n",
       "    <tr>\n",
       "      <th>0</th>\n",
       "      <td>2018.0</td>\n",
       "      <td>28.0</td>\n",
       "      <td>Transportation Agency for Monterey County</td>\n",
       "      <td>Transportation Agency for Monterey County</td>\n",
       "      <td>1155</td>\n",
       "      <td>NaN</td>\n",
       "      <td>NaN</td>\n",
       "      <td>New Passenger Rail Service to Salinas</td>\n",
       "      <td>NaN</td>\n",
       "      <td>CONST</td>\n",
       "      <td>0</td>\n",
       "    </tr>\n",
       "    <tr>\n",
       "      <th>1</th>\n",
       "      <td>2018.0</td>\n",
       "      <td>28.0</td>\n",
       "      <td>Transportation Agency for Monterey County</td>\n",
       "      <td>Transportation Agency for Monterey County</td>\n",
       "      <td>1155</td>\n",
       "      <td>NaN</td>\n",
       "      <td>NaN</td>\n",
       "      <td>Positive Train Control</td>\n",
       "      <td>NaN</td>\n",
       "      <td>CONST</td>\n",
       "      <td>0</td>\n",
       "    </tr>\n",
       "    <tr>\n",
       "      <th>2</th>\n",
       "      <td>2016.0</td>\n",
       "      <td>11.0</td>\n",
       "      <td>San Bernardino County Transportation Authority...</td>\n",
       "      <td>San Bernardino County Transportation Authority...</td>\n",
       "      <td>1230</td>\n",
       "      <td>19000086.0</td>\n",
       "      <td>R391GD</td>\n",
       "      <td>Construct New Rail System Linking San Bernardi...</td>\n",
       "      <td>NaN</td>\n",
       "      <td>CONST</td>\n",
       "      <td>9204000</td>\n",
       "    </tr>\n",
       "    <tr>\n",
       "      <th>3</th>\n",
       "      <td>2020.0</td>\n",
       "      <td>10.0</td>\n",
       "      <td>San Bernardino County Transportation Authority...</td>\n",
       "      <td>San Bernardino County Transportation Authority</td>\n",
       "      <td>1232</td>\n",
       "      <td>23000073.0</td>\n",
       "      <td>T458GA</td>\n",
       "      <td>Acquisition of Zero-Emission Buses</td>\n",
       "      <td>NaN</td>\n",
       "      <td>CONST</td>\n",
       "      <td>15000000</td>\n",
       "    </tr>\n",
       "    <tr>\n",
       "      <th>4</th>\n",
       "      <td>2018.0</td>\n",
       "      <td>19.0</td>\n",
       "      <td>San Joaquin Joint Powers Authority and San Joa...</td>\n",
       "      <td>San Joaquin Regional Rail Commission</td>\n",
       "      <td>10-9883</td>\n",
       "      <td>NaN</td>\n",
       "      <td>NaN</td>\n",
       "      <td>Stockton Diamond</td>\n",
       "      <td>NaN</td>\n",
       "      <td>CONST</td>\n",
       "      <td>0</td>\n",
       "    </tr>\n",
       "  </tbody>\n",
       "</table>\n",
       "</div>"
      ],
      "text/plain": [
       "   award_year  project_#                                    grant_recipient  \\\n",
       "0      2018.0       28.0          Transportation Agency for Monterey County   \n",
       "1      2018.0       28.0          Transportation Agency for Monterey County   \n",
       "2      2016.0       11.0  San Bernardino County Transportation Authority...   \n",
       "3      2020.0       10.0  San Bernardino County Transportation Authority...   \n",
       "4      2018.0       19.0  San Joaquin Joint Powers Authority and San Joa...   \n",
       "\n",
       "                                 implementing_agency      ppno  project_id  \\\n",
       "0          Transportation Agency for Monterey County      1155         NaN   \n",
       "1          Transportation Agency for Monterey County      1155         NaN   \n",
       "2  San Bernardino County Transportation Authority...      1230  19000086.0   \n",
       "3    San Bernardino County Transportation Authority       1232  23000073.0   \n",
       "4               San Joaquin Regional Rail Commission   10-9883         NaN   \n",
       "\n",
       "       ea                                         components  #_of_buses  \\\n",
       "0     NaN              New Passenger Rail Service to Salinas         NaN   \n",
       "1     NaN                             Positive Train Control         NaN   \n",
       "2  R391GD  Construct New Rail System Linking San Bernardi...         NaN   \n",
       "3  T458GA                 Acquisition of Zero-Emission Buses         NaN   \n",
       "4     NaN                                   Stockton Diamond         NaN   \n",
       "\n",
       "   phase  allocation_amount  \n",
       "0  CONST                  0  \n",
       "1  CONST                  0  \n",
       "2  CONST            9204000  \n",
       "3  CONST           15000000  \n",
       "4  CONST                  0  "
      ]
     },
     "execution_count": 30,
     "metadata": {},
     "output_type": "execute_result"
    }
   ],
   "source": [
    "tircp.head()"
   ]
  },
  {
   "cell_type": "code",
   "execution_count": 31,
   "id": "4ad96350-0b11-4733-aa04-d1053681b24b",
   "metadata": {},
   "outputs": [
    {
     "data": {
      "text/plain": [
       "#_of_buses    527.0\n",
       "dtype: float64"
      ]
     },
     "execution_count": 31,
     "metadata": {},
     "output_type": "execute_result"
    }
   ],
   "source": [
    "# fill NaN with zero?\n",
    "# see if you can sum the bus column\n",
    "tircp.agg({'#_of_buses':'sum'})\n",
    "# nope this is correct"
   ]
  },
  {
   "cell_type": "markdown",
   "id": "3a197b7b-29a6-46b8-adf5-e31b60c694e0",
   "metadata": {
    "tags": []
   },
   "source": [
    "## Export Cleaned data"
   ]
  },
  {
   "cell_type": "code",
   "execution_count": 32,
   "id": "5150ed0b-2fcd-4825-b12c-1fdb6bef7e64",
   "metadata": {},
   "outputs": [],
   "source": [
    "tircp.to_csv('gs://calitp-analytics-data/data-analyses/bus_procurement_cost/tircp_allocations_bus_only_clean.csv')"
   ]
  },
  {
   "cell_type": "markdown",
   "id": "17549ca7-4ac2-4067-95ae-79e5547500f3",
   "metadata": {},
   "source": [
    "## Read in Cleaned data from GCS"
   ]
  },
  {
   "cell_type": "markdown",
   "id": "eab85396-0dfd-43ef-b938-310745c9d518",
   "metadata": {},
   "source": [
    "## Initial Summary Stats"
   ]
  },
  {
   "cell_type": "code",
   "execution_count": null,
   "id": "9f430abb-1be2-4c50-af08-bfc06c2488dd",
   "metadata": {},
   "outputs": [],
   "source": [
    "import re\n",
    "\n",
    "input_string = \"Renovation and expansion of the Monterey maintenance and operations facility, Reduced Deadheads for 30 buses, increased transit service connecting East Salinas and the Salinas Intermodal Station. procure 114 new buses\"\n",
    "\n",
    "# Extract all numbers from the string\n",
    "numbers = re.findall(r'\\d+', input_string)\n",
    "\n",
    "print(\"Extracted Numbers:\", numbers)\n"
   ]
  }
 ],
 "metadata": {
  "kernelspec": {
   "display_name": "Python 3 (ipykernel)",
   "language": "python",
   "name": "python3"
  },
  "language_info": {
   "codemirror_mode": {
    "name": "ipython",
    "version": 3
   },
   "file_extension": ".py",
   "mimetype": "text/x-python",
   "name": "python",
   "nbconvert_exporter": "python",
   "pygments_lexer": "ipython3",
   "version": "3.9.13"
  }
 },
 "nbformat": 4,
 "nbformat_minor": 5
}
