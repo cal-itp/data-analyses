{
 "cells": [
  {
   "cell_type": "markdown",
   "id": "e767add0-6871-46de-b480-d77ae7d62819",
   "metadata": {},
   "source": [
    "Intro"
   ]
  },
  {
   "cell_type": "markdown",
   "id": "52794293-2f66-47a7-b580-6170fc72ca94",
   "metadata": {},
   "source": [
    "Read in Raw data"
   ]
  },
  {
   "cell_type": "markdown",
   "id": "79002d63-c2a1-4218-81a2-31e6a10d981e",
   "metadata": {},
   "source": [
    "Data Cleaning and QC"
   ]
  },
  {
   "cell_type": "code",
   "execution_count": null,
   "id": "c50b3495-9cd7-4294-ad24-73c17927d99d",
   "metadata": {},
   "outputs": [],
   "source": [
    "Initial Summary Stats"
   ]
  },
  {
   "cell_type": "code",
   "execution_count": null,
   "id": "9f430abb-1be2-4c50-af08-bfc06c2488dd",
   "metadata": {},
   "outputs": [],
   "source": [
    "import re\n",
    "\n",
    "input_string = \"Renovation and expansion of the Monterey maintenance and operations facility, Reduced Deadheads for 30 buses, increased transit service connecting East Salinas and the Salinas Intermodal Station. procure 114 new buses\"\n",
    "\n",
    "# Extract all numbers from the string\n",
    "numbers = re.findall(r'\\d+', input_string)\n",
    "\n",
    "print(\"Extracted Numbers:\", numbers)\n"
   ]
  }
 ],
 "metadata": {
  "kernelspec": {
   "display_name": "Python 3 (ipykernel)",
   "language": "python",
   "name": "python3"
  },
  "language_info": {
   "codemirror_mode": {
    "name": "ipython",
    "version": 3
   },
   "file_extension": ".py",
   "mimetype": "text/x-python",
   "name": "python",
   "nbconvert_exporter": "python",
   "pygments_lexer": "ipython3",
   "version": "3.9.13"
  }
 },
 "nbformat": 4,
 "nbformat_minor": 5
}
