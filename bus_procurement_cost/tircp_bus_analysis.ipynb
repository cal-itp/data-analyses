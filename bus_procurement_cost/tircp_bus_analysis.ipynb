{
 "cells": [
  {
   "cell_type": "code",
   "execution_count": 1,
   "id": "7e2bb160-f2fa-49a0-9cbf-b0796599f1d1",
   "metadata": {},
   "outputs": [],
   "source": [
    "import matplotlib.pyplot as plt\n",
    "import pandas as pd\n",
    "import shared_utils\n",
    "\n",
    "# set_option to increase max rows displayed to 200, to see entire df in 1 go/\n",
    "pd.set_option(\"display.max_rows\", 200)\n",
    "pd.set_option('display.max_colwidth', None)"
   ]
  },
  {
   "cell_type": "markdown",
   "id": "9f3cd0cb-98d8-43a4-be8d-b7b41f80dd75",
   "metadata": {
    "tags": []
   },
   "source": [
    "## AGREEMENT ALLOCATIONS SHEET DATA"
   ]
  },
  {
   "cell_type": "markdown",
   "id": "52794293-2f66-47a7-b580-6170fc72ca94",
   "metadata": {
    "jp-MarkdownHeadingCollapsed": true,
    "tags": []
   },
   "source": [
    "### Agreement Allocations - Read in Raw data"
   ]
  },
  {
   "cell_type": "code",
   "execution_count": null,
   "id": "70250817-0eee-4ab0-95b4-b43050b46f8c",
   "metadata": {},
   "outputs": [],
   "source": [
    "url = \"gs://calitp-analytics-data/data-analyses/bus_procurement_cost/TIRCP Tracking Sheets 2_1-10-2024.xlsx\"\n",
    "sheet_name = \"Agreement Allocations\""
   ]
  },
  {
   "cell_type": "code",
   "execution_count": null,
   "id": "f80fccec-2313-4a82-9529-5943ba26e401",
   "metadata": {},
   "outputs": [],
   "source": [
    "tircp = pd.read_excel(url, sheet_name)"
   ]
  },
  {
   "cell_type": "markdown",
   "id": "79002d63-c2a1-4218-81a2-31e6a10d981e",
   "metadata": {
    "jp-MarkdownHeadingCollapsed": true,
    "tags": []
   },
   "source": [
    "### Agreement Allocations -Data Cleaning and QC"
   ]
  },
  {
   "cell_type": "code",
   "execution_count": null,
   "id": "78289f7c-54f3-48af-8881-101f50853694",
   "metadata": {},
   "outputs": [],
   "source": [
    "# reducing initialdf to first 11 columns.\n",
    "tircp = tircp.iloc[:, :12]"
   ]
  },
  {
   "cell_type": "code",
   "execution_count": null,
   "id": "6526421b-36f3-4326-bfce-4679ffcf2b52",
   "metadata": {},
   "outputs": [],
   "source": [
    "# dictionary for column name update\n",
    "new_col = [\n",
    "    \"award_year\",\n",
    "    \"project_#\",\n",
    "    \"grant_recipient\",\n",
    "    \"implementing_agency\",\n",
    "    \"ppno\",\n",
    "    \"project_id\",\n",
    "    \"ea\",\n",
    "    \"components\",\n",
    "    \"#_of_buses\",\n",
    "    \"phase\",\n",
    "    \"allocation_amount\",\n",
    "    \"expended_amount\",\n",
    "]"
   ]
  },
  {
   "cell_type": "code",
   "execution_count": null,
   "id": "c973346f-9232-4d21-8145-6fbe331094de",
   "metadata": {},
   "outputs": [],
   "source": [
    "tircp.columns = new_col\n",
    "tircp.columns"
   ]
  },
  {
   "cell_type": "code",
   "execution_count": null,
   "id": "14061d68-8a66-42de-baad-c45e0b4664f5",
   "metadata": {},
   "outputs": [],
   "source": [
    "tircp = tircp.drop(\"expended_amount\", axis=1)"
   ]
  },
  {
   "cell_type": "code",
   "execution_count": null,
   "id": "4ad96350-0b11-4733-aa04-d1053681b24b",
   "metadata": {},
   "outputs": [],
   "source": [
    "# fill NaN with zero?\n",
    "# see if you can sum the bus column\n",
    "tircp.agg({\"#_of_buses\": \"sum\"})\n",
    "# nope this is correct"
   ]
  },
  {
   "cell_type": "code",
   "execution_count": null,
   "id": "f2e30eb4-6adf-48b8-827b-548d806b101a",
   "metadata": {},
   "outputs": [],
   "source": [
    "display(tircp.shape, list(tircp.columns), tircp.head())"
   ]
  },
  {
   "cell_type": "code",
   "execution_count": null,
   "id": "9eb613a5-7d1f-489c-8d9f-1226f25a61bf",
   "metadata": {},
   "outputs": [],
   "source": [
    "tircp.grant_recipient.nunique()"
   ]
  },
  {
   "cell_type": "code",
   "execution_count": null,
   "id": "33b665bf-20a0-416f-8b6b-fe835670560d",
   "metadata": {},
   "outputs": [],
   "source": [
    "# use strip to help combine names\n",
    "tircp[\"grant_recipient\"] = tircp[\"grant_recipient\"].str.strip()\n",
    "\n",
    "tircp.grant_recipient.nunique()"
   ]
  },
  {
   "cell_type": "code",
   "execution_count": null,
   "id": "ad999ca5-3dda-4bed-a161-7835b7317e3b",
   "metadata": {},
   "outputs": [],
   "source": [
    "# see list of unique names\n",
    "# may be able to consolidate a few\n",
    "tircp.grant_recipient.sort_values().unique()"
   ]
  },
  {
   "cell_type": "code",
   "execution_count": null,
   "id": "57c1b6ab-64ec-4af4-958f-3fd69a9fcf94",
   "metadata": {},
   "outputs": [],
   "source": [
    "new_dict = {\n",
    "    \"Antelope Valley Transit Authority\": \"Antelope Valley Transit Authority (AVTA)\",\n",
    "    \"Bay Area Rapid Transit District\": \"Bay Area Rapid Transit (BART)\",\n",
    "    \"Capitol Corridor Joint Powers Authority\": \"Capitol Corridor Joint Powers Authority (CCJPA)\",\n",
    "    \"Los Angeles County Metropolitan Transportation (LA Metro)\": \"Los Angeles County Metropolitan Transportation Authority (LA Metro)\",\n",
    "    \"Los Angeles County Metropolitan Transportation Authority\": \"Los Angeles County Metropolitan Transportation Authority (LA Metro)\",\n",
    "    \"Sacramento Regional Transit (SacRT)\": \"Sacramento Regional Transit District (SacRT)\",\n",
    "    \"Sacramento Regional Transit District\": \"Sacramento Regional Transit District (SacRT)\",\n",
    "    \"San Diego Metropolitan Transit System (SDMTS)\": \"San Diego Metropolitan Transit System (MTS)\",\n",
    "    \"San Francisco Bay Area Water Emergency Transportation Authority\": \"San Francisco Bay Area Water Emergency Transportation Authority (WETA)\",\n",
    "    \"San Francisco Municipal Transportation Agency\": \"San Francisco Municipal Transportation Authority (SFMTA)\",\n",
    "    \"Santa Barbara County Association of Governments\\n(SBCAG)\": \"Santa Barbara County Association of Governments (SBCAG)\",\n",
    "    \"Santa Clara Valley Transportation Authority\": \"Santa Clara Valley Transportation Authority (VTA)\",\n",
    "    \"Transportation Agency for Monterey County\": \"Transportation Agency for Monterey County (TAMC)\",\n",
    "}"
   ]
  },
  {
   "cell_type": "code",
   "execution_count": null,
   "id": "bf769e25-97fe-41eb-9ff5-c1bbda4200ad",
   "metadata": {},
   "outputs": [],
   "source": [
    "# replace the values in grant_recipient using dict\n",
    "# df.replace({'bus_desc': new_dict}, inplace=True)\n",
    "tircp = tircp.replace({\"grant_recipient\": new_dict})"
   ]
  },
  {
   "cell_type": "code",
   "execution_count": null,
   "id": "97e5ec8e-464a-451f-add3-5965a38d2e3a",
   "metadata": {},
   "outputs": [],
   "source": [
    "# see that some rows were consolidated\n",
    "display(tircp.grant_recipient.nunique())"
   ]
  },
  {
   "cell_type": "markdown",
   "id": "3a197b7b-29a6-46b8-adf5-e31b60c694e0",
   "metadata": {
    "jp-MarkdownHeadingCollapsed": true,
    "tags": []
   },
   "source": [
    "### Agreement Allocations-Export Cleaned data"
   ]
  },
  {
   "cell_type": "code",
   "execution_count": null,
   "id": "5150ed0b-2fcd-4825-b12c-1fdb6bef7e64",
   "metadata": {},
   "outputs": [],
   "source": [
    "tircp.to_csv(\n",
    "    \"gs://calitp-analytics-data/data-analyses/bus_procurement_cost/tircp_allocations_clean.csv\"\n",
    ")"
   ]
  },
  {
   "cell_type": "markdown",
   "id": "17549ca7-4ac2-4067-95ae-79e5547500f3",
   "metadata": {
    "jp-MarkdownHeadingCollapsed": true,
    "tags": []
   },
   "source": [
    "### Agreement Allocations-Read in Cleaned data from GCS"
   ]
  },
  {
   "cell_type": "code",
   "execution_count": null,
   "id": "7e27a6f9-c57f-4e13-ae94-6d13b2ef87ba",
   "metadata": {},
   "outputs": [],
   "source": [
    "tircp = pd.read_csv(\n",
    "    \"gs://calitp-analytics-data/data-analyses/bus_procurement_cost/tircp_allocations_clean.csv\"\n",
    ")"
   ]
  },
  {
   "cell_type": "code",
   "execution_count": null,
   "id": "6b29bc28-2f4e-4d6f-8ffc-2df929f7e27f",
   "metadata": {},
   "outputs": [],
   "source": [
    "display(tircp.shape, tircp.columns, tircp.head())"
   ]
  },
  {
   "cell_type": "markdown",
   "id": "eab85396-0dfd-43ef-b938-310745c9d518",
   "metadata": {
    "tags": []
   },
   "source": [
    "### Agreement Allocations-Cost per Bus, per agency"
   ]
  },
  {
   "cell_type": "code",
   "execution_count": null,
   "id": "024b16e0-45c3-4497-b9b9-6470b3981479",
   "metadata": {},
   "outputs": [],
   "source": [
    "# filer to project with bus count values\n",
    "# caveat: some rows in \"component\" column state some variation of \"purchased buses\", but did not specify the amount of buses.\n",
    "# only rows stating the specificy number of buses purchased are included\n",
    "only_bus = tircp[tircp[\"#_of_buses\"] > 0]"
   ]
  },
  {
   "cell_type": "code",
   "execution_count": null,
   "id": "02fab0b3-0c75-4220-8129-3402fb9b3007",
   "metadata": {},
   "outputs": [],
   "source": [
    "display(only_bus.shape)"
   ]
  },
  {
   "cell_type": "code",
   "execution_count": null,
   "id": "ca5e0397-b297-4236-a9c6-43d61d1021aa",
   "metadata": {},
   "outputs": [],
   "source": [
    "# aggregate # of buses and allocation by transit agency\n",
    "bus_cost = (\n",
    "    only_bus.groupby(\"grant_recipient\")\n",
    "    .agg({\"#_of_buses\": \"sum\", \"allocation_amount\": \"sum\"})\n",
    "    .reset_index()\n",
    ")"
   ]
  },
  {
   "cell_type": "code",
   "execution_count": null,
   "id": "ddd7f056-4e8e-43be-9391-6b6c0574fc58",
   "metadata": {},
   "outputs": [],
   "source": [
    "bus_cost"
   ]
  },
  {
   "cell_type": "code",
   "execution_count": null,
   "id": "a699f202-6fdc-4261-8ed5-d0fc328aa7a1",
   "metadata": {},
   "outputs": [],
   "source": [
    "bus_cost[\"cost_per_bus\"] = (\n",
    "    (bus_cost[\"allocation_amount\"]) / (bus_cost[\"#_of_buses\"])\n",
    ").astype(\"int64\")"
   ]
  },
  {
   "cell_type": "code",
   "execution_count": null,
   "id": "29bff029-a90d-4815-aa21-7405051d3063",
   "metadata": {},
   "outputs": [],
   "source": [
    "display(bus_cost.dtypes, bus_cost)"
   ]
  },
  {
   "cell_type": "code",
   "execution_count": null,
   "id": "d988e8f0-f655-4477-a1e0-a56f61df9e8b",
   "metadata": {},
   "outputs": [],
   "source": [
    "# exporting cost per bus\n",
    "bus_cost.to_csv(\n",
    "    \"gs://calitp-analytics-data/data-analyses/bus_procurement_cost/tircp_allocation_cost_per_bus.csv\"\n",
    ")"
   ]
  },
  {
   "cell_type": "markdown",
   "id": "1c2e30d8-2d49-4dcb-9c75-1a8b264bb011",
   "metadata": {
    "jp-MarkdownHeadingCollapsed": true,
    "tags": []
   },
   "source": [
    "### Agreement Allocations - Stat analysis"
   ]
  },
  {
   "cell_type": "code",
   "execution_count": null,
   "id": "02b1eb6a-559d-41a4-aa7f-982399dfe7f5",
   "metadata": {},
   "outputs": [],
   "source": []
  },
  {
   "cell_type": "code",
   "execution_count": null,
   "id": "4bda679f-ea66-4651-a389-80da221864d3",
   "metadata": {},
   "outputs": [],
   "source": [
    "bus_cost"
   ]
  },
  {
   "cell_type": "code",
   "execution_count": null,
   "id": "3f7b6bd6-f0e1-476b-ac36-b695f88536d6",
   "metadata": {},
   "outputs": [],
   "source": [
    "plt.figure(\n",
    "plt.hist(bus_cost['cost_per_bus'],density=True)\n",
    "plt.show()"
   ]
  },
  {
   "cell_type": "markdown",
   "id": "1de41d29-4183-41a3-b6af-58e1d676f788",
   "metadata": {
    "tags": []
   },
   "source": [
    "## PROJECT TRACKING SHEET DATA"
   ]
  },
  {
   "cell_type": "markdown",
   "id": "b29ced72-1fd8-40aa-95c0-178a4db4a36b",
   "metadata": {
    "tags": []
   },
   "source": [
    "### project tracking -  read raw data\n"
   ]
  },
  {
   "cell_type": "code",
   "execution_count": null,
   "id": "af4ead17-a1fc-4f42-9fbf-227ae511b930",
   "metadata": {},
   "outputs": [],
   "source": [
    "gcs_path = 'gs://calitp-analytics-data/data-analyses/bus_procurement_cost/'\n",
    "file_name = 'TIRCP Tracking Sheets 2_1-10-2024.xlsx'\n",
    "sheet_name = 'Project Tracking'\n",
    "\n",
    "def get_data(path, file, sheet):\n",
    "    df = pd.read_excel(path+file, sheet_name=sheet)\n",
    "    \n",
    "    return df\n",
    "\n",
    "project = get_data(gcs_path, file_name, sheet_name)"
   ]
  },
  {
   "cell_type": "code",
   "execution_count": null,
   "id": "767d535b-84ce-4884-8145-390c7d38b879",
   "metadata": {},
   "outputs": [],
   "source": [
    "display(\n",
    "    project.shape,\n",
    "    project.columns,\n",
    "    project.dtypes,\n",
    ")"
   ]
  },
  {
   "cell_type": "markdown",
   "id": "2e9e142b-92aa-47c5-b97a-d83852dbc4a5",
   "metadata": {
    "tags": []
   },
   "source": [
    "## Project Tracking- data cleaning"
   ]
  },
  {
   "cell_type": "markdown",
   "id": "88b2f5ce-af56-4e9c-b854-9c31e0c6a853",
   "metadata": {
    "tags": []
   },
   "source": [
    "### data frame cleaning"
   ]
  },
  {
   "cell_type": "code",
   "execution_count": null,
   "id": "e6b9047c-eda3-4631-9a1c-3338abf6c281",
   "metadata": {},
   "outputs": [],
   "source": [
    "# only keep first couple of columns\n",
    "# tircp = tircp.iloc[:, :12]\n",
    "project = project.iloc[:, :20]"
   ]
  },
  {
   "cell_type": "code",
   "execution_count": null,
   "id": "75c5cbb1-4f8c-4c7b-838b-1c0f139b8a0a",
   "metadata": {},
   "outputs": [],
   "source": [
    "list(project.columns)"
   ]
  },
  {
   "cell_type": "code",
   "execution_count": null,
   "id": "6692bddd-e46d-415f-abeb-287578f15b74",
   "metadata": {},
   "outputs": [],
   "source": [
    "# drop specific columns\n",
    "drop_col = [\n",
    "    \"Master Agreement Expiration Date\",\n",
    "    \"Project Manager\",\n",
    "    \"Regional Coordinator\",\n",
    "    \"Technical Assistance-CALITP (Y/N)\",\n",
    "    \"Technical Assistance-Fleet (Y/N)\",\n",
    "    \"Technical Assistance-Network Integration (Y/N)\",\n",
    "    \"Technical Assistance-Priority Population (Y/N)\",\n",
    "]"
   ]
  },
  {
   "cell_type": "code",
   "execution_count": null,
   "id": "d2e692da-16fc-4f97-946f-a1e6fb3414e8",
   "metadata": {},
   "outputs": [],
   "source": [
    "project.drop(columns=drop_col, inplace=True)"
   ]
  },
  {
   "cell_type": "code",
   "execution_count": null,
   "id": "e7b312e7-3676-415b-bc3c-8bf2d95694ee",
   "metadata": {},
   "outputs": [],
   "source": [
    "len(project.columns)"
   ]
  },
  {
   "cell_type": "code",
   "execution_count": null,
   "id": "3a39fe55-6664-49ce-979e-e158ae27f795",
   "metadata": {},
   "outputs": [],
   "source": [
    "# replace space with _ & lower everything\n",
    "project.columns = project.columns.str.replace(\" \", \"_\")\n",
    "project.columns = project.columns.str.lower()"
   ]
  },
  {
   "cell_type": "code",
   "execution_count": null,
   "id": "4937d3c4-f5df-4a42-84ea-161ec61e637b",
   "metadata": {},
   "outputs": [],
   "source": [
    "# check work\n",
    "project.columns"
   ]
  },
  {
   "cell_type": "markdown",
   "id": "4372f730-9137-4e33-a45e-6563abdf4085",
   "metadata": {
    "tags": []
   },
   "source": [
    "### check columns\n",
    "check values of all columns to see if:\n",
    "-any duplicates values\n",
    "-invalid int/str values\n"
   ]
  },
  {
   "cell_type": "code",
   "execution_count": null,
   "id": "83152dd0-e2a4-4892-9019-ceb28ce00f5f",
   "metadata": {},
   "outputs": [],
   "source": [
    "project.columns"
   ]
  },
  {
   "cell_type": "code",
   "execution_count": null,
   "id": "b5f5a0d4-8616-44cf-82ab-08dcc0bc58c7",
   "metadata": {},
   "outputs": [],
   "source": [
    "# function to check column information\n",
    "def col_checker(col):\n",
    "    display(\n",
    "        f\"Displaying column: {col}\",\n",
    "        len(project[col]),\n",
    "        list(project[col].sort_values(ascending=True).unique()),\n",
    "    )"
   ]
  },
  {
   "cell_type": "code",
   "execution_count": null,
   "id": "24b1a759-280a-4a2b-9900-327cdf073c59",
   "metadata": {},
   "outputs": [],
   "source": [
    "# col is OK, all numbers\n",
    "col_checker(\"tircp_award_amount_($)\")"
   ]
  },
  {
   "cell_type": "code",
   "execution_count": null,
   "id": "f912f6d4-4b1e-4868-9fe9-4e4c85124e9a",
   "metadata": {},
   "outputs": [],
   "source": [
    "# col is good, everything is a number\n",
    "col_checker(\"total_project_cost\")"
   ]
  },
  {
   "cell_type": "code",
   "execution_count": null,
   "id": "a584257f-455a-4939-9897-085e1c7f95f1",
   "metadata": {},
   "outputs": [],
   "source": [
    "# col is OK\n",
    "col_checker(\"master_agreement_number\")"
   ]
  },
  {
   "cell_type": "code",
   "execution_count": null,
   "id": "3d39123d-1e8b-458e-8b18-8113666de00f",
   "metadata": {},
   "outputs": [],
   "source": [
    "# col is OK\n",
    "col_checker(\"bus_count\")"
   ]
  },
  {
   "cell_type": "code",
   "execution_count": null,
   "id": "022bba0f-73c7-4ae2-9986-ae234dd5517b",
   "metadata": {},
   "outputs": [],
   "source": [
    "# column is OK\n",
    "col_checker(\"project_description\")"
   ]
  },
  {
   "cell_type": "code",
   "execution_count": null,
   "id": "d77f19e7-87cb-4ae0-acd0-829addb935b6",
   "metadata": {},
   "outputs": [],
   "source": [
    "project[project[\"district\"] == \"VAR\"]"
   ]
  },
  {
   "cell_type": "code",
   "execution_count": null,
   "id": "b1526686-6a92-4567-92df-0cf27c25ff01",
   "metadata": {},
   "outputs": [],
   "source": [
    "# Project title OK,\n",
    "col_checker(\"project_title\")"
   ]
  },
  {
   "cell_type": "code",
   "execution_count": null,
   "id": "9dc1361f-6d1e-4067-8cf3-738f4fe9ad85",
   "metadata": {},
   "outputs": [],
   "source": [
    "# award year OK\n",
    "col_checker(\"award_year\")"
   ]
  },
  {
   "cell_type": "code",
   "execution_count": null,
   "id": "e50bb102-bdab-45f2-af8e-ccca23f25247",
   "metadata": {},
   "outputs": [],
   "source": [
    "# project num OK\n",
    "col_checker(\"project_#\")"
   ]
  },
  {
   "cell_type": "markdown",
   "id": "92513e2d-8c76-4150-b4d0-f2034f3ce85c",
   "metadata": {},
   "source": [
    "---"
   ]
  },
  {
   "cell_type": "code",
   "execution_count": null,
   "id": "94f27bed-11ce-480d-bcf5-5c2ed07b03a8",
   "metadata": {},
   "outputs": [],
   "source": [
    "# DROP COL\n",
    "# Col is OK\n",
    "col_checker(\"allocated_amount\")"
   ]
  },
  {
   "cell_type": "code",
   "execution_count": null,
   "id": "55860953-f885-4e1d-ae02-f4d8d6be46bf",
   "metadata": {},
   "outputs": [],
   "source": [
    "# NEEDS CLEANING grant_recipient need to clean\n",
    "col_checker(\"grant_recipient\")"
   ]
  },
  {
   "cell_type": "code",
   "execution_count": null,
   "id": "c74990d4-bda0-4615-9494-832f7b44f3f3",
   "metadata": {},
   "outputs": [],
   "source": [
    "# may need to clean, there are rows that say '3, 4'\n",
    "col_checker(\"county\")"
   ]
  },
  {
   "cell_type": "code",
   "execution_count": null,
   "id": "00cc4687-19d7-4af3-81f9-37e66cd6cb33",
   "metadata": {},
   "outputs": [],
   "source": [
    "# Move to cleaning, check what is 'VAR'. various?\n",
    "# may be ok just check to make sure\n",
    "project.district.unique()"
   ]
  },
  {
   "cell_type": "code",
   "execution_count": null,
   "id": "e71ef09e-c7e5-4cdb-8e48-1be0ad1fa087",
   "metadata": {},
   "outputs": [],
   "source": [
    "# couldnt run col_checker, guessing because some PPNO numbers are inconsistent\n",
    "# may need to clean, there is a ppno of CP052/CP053\n",
    "project.ppno.unique()"
   ]
  },
  {
   "cell_type": "markdown",
   "id": "3f4e1191-979e-4a31-bce3-296fabc586dc",
   "metadata": {
    "tags": []
   },
   "source": [
    "### dropping allocated amount column"
   ]
  },
  {
   "cell_type": "code",
   "execution_count": null,
   "id": "209b153b-f42f-4a57-97c1-087e403fec55",
   "metadata": {},
   "outputs": [],
   "source": [
    "# dropping allocated amount column\n",
    "project.drop(columns=[\"allocated_amount\"], inplace=True)"
   ]
  },
  {
   "cell_type": "code",
   "execution_count": null,
   "id": "16a7479b-707a-4621-906c-022598a64179",
   "metadata": {},
   "outputs": [],
   "source": [
    "# checking work\n",
    "project.columns"
   ]
  },
  {
   "cell_type": "markdown",
   "id": "7e8652ea-a95f-4009-b592-1414da775c61",
   "metadata": {
    "tags": []
   },
   "source": [
    "### Clean `grant_recipient` column"
   ]
  },
  {
   "cell_type": "code",
   "execution_count": null,
   "id": "77b1e0be-20ee-454e-8e8b-a6c0e0951d44",
   "metadata": {},
   "outputs": [],
   "source": [
    "list(project.grant_recipient.sort_values(ascending=True).unique())"
   ]
  },
  {
   "cell_type": "code",
   "execution_count": null,
   "id": "e98893df-a0f5-4fbd-af6a-8fb58602a556",
   "metadata": {},
   "outputs": [],
   "source": [
    "agency_dict = {\n",
    "    \"Antelope Valley Transit Authority \": \"Antelope Valley Transit Authority (AVTA)\",\n",
    "    \"Humboldt Transit Authority\": \"Humboldt Transit Authority (HTA)\",\n",
    "    \"Orange County Transportation Authority\": \"Orange County Transportation Authority (OCTA)\",\n",
    "    \"Capitol Corridor Joint Powers Authority\": \"Capitol Corridor Joint Powers Authority (CCJPA)\",\n",
    "    \"Los Angeles County Metropolitan Transportation Authority\": \"Los Angeles County Metropolitan Transportation Authority (LA Metro)\",\n",
    "    \"Monterey-Salinas Transit\": \"Monterey-Salinas Transit District (MST)\",\n",
    "    \"Sacramento Regional Transit (SacRT)\": \"Sacramento Regional Transit District (SacRT)\",\n",
    "    \"Sacramento Regional Transit District\": \"Sacramento Regional Transit District (SacRT)\",\n",
    "    \"Sacramento Regional Transit District (SacRT) \": \"Sacramento Regional Transit District (SacRT)\",\n",
    "    \"San Diego Association of Governments\": \"San Diego Association of Governments (SANDAG)\",\n",
    "    \"Santa Clara Valley Transportation Authority (SCVTA)\": \"Santa Clara Valley Transportation Authority (VTA)\",\n",
    "    \"Southern California  Regional Rail Authority (SCRRA)\": \"Southern California Regional Rail Authority (SCRRA - Metrolink)\",\n",
    "    \"Southern California Regional Rail Authority\": \"Southern California Regional Rail Authority (SCRRA - Metrolink)\",\n",
    "}"
   ]
  },
  {
   "cell_type": "code",
   "execution_count": null,
   "id": "41eedd51-e052-4462-bf8f-e14bea1df7cc",
   "metadata": {},
   "outputs": [],
   "source": [
    "# df.replace({'bus_desc': new_dict}, inplace=True)\n",
    "project.replace({\"grant_recipient\": agency_dict}, inplace=True)"
   ]
  },
  {
   "cell_type": "code",
   "execution_count": null,
   "id": "195fb532-8154-4ca1-ae6a-81b16d6f031e",
   "metadata": {},
   "outputs": [],
   "source": [
    "# check work. looks good\n",
    "list(project[\"grant_recipient\"].sort_values().unique())"
   ]
  },
  {
   "cell_type": "code",
   "execution_count": null,
   "id": "4acd9422-7cc0-4082-a87a-628187d1736f",
   "metadata": {},
   "outputs": [],
   "source": []
  },
  {
   "cell_type": "markdown",
   "id": "15660296-1348-4463-a962-ac22234c2f7e",
   "metadata": {
    "tags": []
   },
   "source": [
    "### Cleaning `county` column"
   ]
  },
  {
   "cell_type": "code",
   "execution_count": null,
   "id": "13635af7-3952-42f4-a272-c7a462ea1358",
   "metadata": {},
   "outputs": [],
   "source": [
    "col_checker(\"county\")"
   ]
  },
  {
   "cell_type": "code",
   "execution_count": null,
   "id": "4e3f6614-dc19-4011-a878-fcc0e8570b41",
   "metadata": {},
   "outputs": [],
   "source": [
    "#checking specific row with '3,4' as county\n",
    "project[project[\"county\"] == \"3, 4\"]"
   ]
  },
  {
   "cell_type": "code",
   "execution_count": null,
   "id": "1de28ea8-d063-4797-8111-2cf073e71e71",
   "metadata": {},
   "outputs": [],
   "source": [
    "# change county value from '3, 4' to 'VAR' like the other rows.\n",
    "project.at[3, \"county\"] = \"VAR\""
   ]
  },
  {
   "cell_type": "code",
   "execution_count": null,
   "id": "23170f02-1d66-4bb3-917c-9ca2ceaba627",
   "metadata": {},
   "outputs": [],
   "source": [
    "# check work\n",
    "project.iloc[3]"
   ]
  },
  {
   "cell_type": "markdown",
   "id": "52ae834d-72a2-4c51-8b78-a533a807d497",
   "metadata": {
    "tags": []
   },
   "source": [
    "### Cleaning `district`column\n",
    "This is good as is, no cleaning requried. All rows with VAR district has VAR in county as well."
   ]
  },
  {
   "cell_type": "code",
   "execution_count": null,
   "id": "39b424d0-7d59-4d7b-88f2-ffc5b80ae9c8",
   "metadata": {},
   "outputs": [],
   "source": [
    "#GTG\n",
    "project.district.unique()"
   ]
  },
  {
   "cell_type": "code",
   "execution_count": null,
   "id": "3ad49c6e-c13a-4460-b214-8ddac6e24f29",
   "metadata": {},
   "outputs": [],
   "source": [
    "#GTG \n",
    "project[project[\"district\"] == \"VAR\"]"
   ]
  },
  {
   "cell_type": "markdown",
   "id": "b7be5cfa-b593-4c26-849a-2d9c2f777f34",
   "metadata": {
    "tags": []
   },
   "source": [
    "### Clean `ppno` column\n",
    "This should all be fine as is, no cleaning needed"
   ]
  },
  {
   "cell_type": "code",
   "execution_count": null,
   "id": "3611650f-aa4d-4cf8-8153-4c809c0e7240",
   "metadata": {},
   "outputs": [],
   "source": [
    "list(project.ppno.unique())"
   ]
  },
  {
   "cell_type": "code",
   "execution_count": null,
   "id": "8c92f80b-5898-4ff7-b184-cdb804ff564a",
   "metadata": {},
   "outputs": [],
   "source": [
    "#GTG \n",
    "project[project[\"ppno\"] == \"CP052/CP053\"]"
   ]
  },
  {
   "cell_type": "markdown",
   "id": "7f8dd43f-ebef-4a75-aa2f-63b1faf6f514",
   "metadata": {
    "tags": []
   },
   "source": [
    "### Skim the project description column?\n",
    "double check to ensure bus count is accurate to what the description says?\n",
    "\n",
    "Saw that some rows mention procuring both zero and non-zero emission buses (count total buses in `bus count` and `VAR` in prop type and bus size?\n"
   ]
  },
  {
   "cell_type": "code",
   "execution_count": null,
   "id": "163a339e-7564-455e-9477-b9df0914ef0c",
   "metadata": {},
   "outputs": [],
   "source": [
    "project[\n",
    "    project[\"project_title\"]\n",
    "    == \"ATN FAST (Family of Advanced Solutions for Transit): Revolutionizing Transit for a Global Audience\"\n",
    "]"
   ]
  },
  {
   "cell_type": "code",
   "execution_count": null,
   "id": "d6c9992f-8a4f-403d-8bc8-f45b55575402",
   "metadata": {},
   "outputs": [],
   "source": [
    "# iloc check\n",
    "project.iloc[73]"
   ]
  },
  {
   "cell_type": "code",
   "execution_count": null,
   "id": "1527b7df-c3ca-4041-91bb-a44998da584e",
   "metadata": {},
   "outputs": [],
   "source": [
    "# code to update value at specific index and column\n",
    "project.loc[project['ppno'] == 'CP106', 'bus_count'] = 42\n"
   ]
  },
  {
   "cell_type": "code",
   "execution_count": null,
   "id": "74702a2f-0b82-47ae-81ae-f7c021394ef0",
   "metadata": {},
   "outputs": [],
   "source": [
    "# check work\n",
    "project.iloc[73]"
   ]
  },
  {
   "cell_type": "markdown",
   "id": "1c6f0650-9ef5-46cd-a2b7-63265c793780",
   "metadata": {},
   "source": [
    "---"
   ]
  },
  {
   "cell_type": "markdown",
   "id": "5140da93-1ee3-4bd8-8cd4-01745947ff48",
   "metadata": {},
   "source": [
    "## Export cleaned Project df "
   ]
  },
  {
   "cell_type": "code",
   "execution_count": null,
   "id": "55872945-c6fa-4a98-b674-91f91d39d08f",
   "metadata": {},
   "outputs": [],
   "source": [
    "# exproject cleaned project df\n",
    "project.to_csv(\n",
    "    \"gs://calitp-analytics-data/data-analyses/bus_procurement_cost/tircp_project_clean.csv\"\n",
    ")"
   ]
  },
  {
   "cell_type": "markdown",
   "id": "a931b907-8431-4290-96dc-2e1b40b6e64f",
   "metadata": {
    "tags": []
   },
   "source": [
    "## Read in cleaned project data"
   ]
  },
  {
   "cell_type": "code",
   "execution_count": null,
   "id": "9b12c971-94d5-4ef8-93d3-2994df1826d3",
   "metadata": {},
   "outputs": [],
   "source": [
    "project = pd.read_csv(\n",
    "    \"gs://calitp-analytics-data/data-analyses/bus_procurement_cost/tircp_project_clean.csv\"\n",
    ")"
   ]
  },
  {
   "cell_type": "code",
   "execution_count": null,
   "id": "d5c9f3d1-9437-48a3-a37f-0d74860a1499",
   "metadata": {},
   "outputs": [],
   "source": [
    "# ensure df is able to read in\n",
    "display(project.shape, project.columns)"
   ]
  },
  {
   "cell_type": "markdown",
   "id": "51f95400-1198-46a6-a41a-fef99b3a2ffa",
   "metadata": {
    "tags": []
   },
   "source": [
    "### filter df for project descriptions that contain bus"
   ]
  },
  {
   "cell_type": "code",
   "execution_count": null,
   "id": "fc9ee142-13b2-4fc2-86af-d712ab5df6c4",
   "metadata": {},
   "outputs": [],
   "source": [
    "bus_only = project[project[\"bus_count\"] > 0]"
   ]
  },
  {
   "cell_type": "code",
   "execution_count": null,
   "id": "c65b773e-dd41-4c95-8e6b-2132e5d7e978",
   "metadata": {},
   "outputs": [],
   "source": [
    "# this looks correct\n",
    "display(project.shape, bus_only.shape)"
   ]
  },
  {
   "cell_type": "markdown",
   "id": "fdd09938-88b1-4fcd-8159-1637a57ee0f4",
   "metadata": {
    "tags": []
   },
   "source": [
    "## New column for propulsion type - `prop_type`\n",
    "Use on `bus_only` df"
   ]
  },
  {
   "cell_type": "code",
   "execution_count": null,
   "id": "630e1662-9a32-4a2c-8174-1a0dc59ad42e",
   "metadata": {},
   "outputs": [],
   "source": [
    "prop_type = [\n",
    "    \"electric buses\",\n",
    "    \"electric commuter\",\n",
    "    \"Electric Buses\",\n",
    "    \"battery electric\",\n",
    "    \"Batery Electric\",\n",
    "    \"battery-electric\",\n",
    "    \"fuel-cell\",\n",
    "    \"fuel cell\",\n",
    "    \"Fuel Cell\",\n",
    "    \"zero emission\",\n",
    "    \"Zero Emission\",\n",
    "    \"zero-emission electric buses\",\n",
    "    \"zero-emission buses\",\n",
    "    \"zero‐emission\",\n",
    "    \"zero-emission\",\n",
    "    \"zeroemission\",\n",
    "    \"CNG\",\n",
    "    \"cng\",\n",
    "]"
   ]
  },
  {
   "cell_type": "code",
   "execution_count": null,
   "id": "9cb544f0-81e3-4644-a4f8-5b83009e3e18",
   "metadata": {},
   "outputs": [],
   "source": [
    "type(prop_type)"
   ]
  },
  {
   "cell_type": "code",
   "execution_count": null,
   "id": "fa958cba-0e59-464b-959f-c4c18b61f8cc",
   "metadata": {},
   "outputs": [],
   "source": [
    "# function to match keywords to list\n",
    "def prop_type_finder(description):\n",
    "    for keyword in prop_type:\n",
    "        if keyword in description:\n",
    "            return keyword\n",
    "    return \"not specified\""
   ]
  },
  {
   "cell_type": "code",
   "execution_count": null,
   "id": "6c9f56c8-ee70-426c-ba62-2294b2b13fa7",
   "metadata": {},
   "outputs": [],
   "source": [
    "# add new col `prop_type`, fill it with values based on project_description using prop_type_finder function\n",
    "bus_only[\"prop_type\"] = bus_only[\"project_description\"].apply(prop_type_finder)"
   ]
  },
  {
   "cell_type": "code",
   "execution_count": null,
   "id": "c35ceca0-1049-4c1f-b24c-569c45f97f5e",
   "metadata": {},
   "outputs": [],
   "source": [
    "# check work\n",
    "display(\n",
    "    bus_only.columns,\n",
    "    bus_only[\"prop_type\"].value_counts(),\n",
    ")"
   ]
  },
  {
   "cell_type": "code",
   "execution_count": null,
   "id": "251b72b3-7ab4-4028-8cad-1f39b4e334c0",
   "metadata": {},
   "outputs": [],
   "source": [
    "# exploring the not specified rows\n",
    "bus_only[bus_only[\"prop_type\"] == \"not specified\"]\n",
    "# coach-style buses, this row does not specify if buses are zero or non-zero emission bus. GOOD TO GO"
   ]
  },
  {
   "cell_type": "code",
   "execution_count": null,
   "id": "bd6eda27-aa67-4a3c-b863-531fbb667da3",
   "metadata": {},
   "outputs": [],
   "source": [
    "# what is in CNG rows?\n",
    "bus_only[bus_only[\"prop_type\"] == \"CNG\"]\n",
    "# was 4 rows, then adjusted prop list to have cng at the bottom. now showing 1 row thats actually CNG"
   ]
  },
  {
   "cell_type": "code",
   "execution_count": null,
   "id": "8f056155-1a0f-4d7f-85af-ee6d96069eab",
   "metadata": {},
   "outputs": [],
   "source": [
    "# consolidate values\n",
    "list(bus_only[\"prop_type\"].sort_values(ascending=True).unique())"
   ]
  },
  {
   "cell_type": "code",
   "execution_count": null,
   "id": "8964ac4d-d7c8-457c-98b0-577d6e5e30ef",
   "metadata": {},
   "outputs": [],
   "source": [
    "prop_dict = {\n",
    "    \"battery electric\": \"BEB\",\n",
    "    \"battery-electric\": \"BEB\",\n",
    "    \"electric buses\": \"electric (not specified)\",\n",
    "    \"electric commuter\": \"electric (not specified)\",\n",
    "    \"fuel cell\": \"FCEB\",\n",
    "    \"fuel-cell\": \"FCEB\",\n",
    "    \"zero-emission buses\": \"zero-emission bus (not specified)\",\n",
    "    \"zero emission\": \"zero-emission bus (not specified)\",\n",
    "    \"zero-emission\": \"zero-emission bus (not specified)\",\n",
    "    \"zero‐emission\": \"zero-emission bus (not specified)\",\n",
    "}"
   ]
  },
  {
   "cell_type": "code",
   "execution_count": null,
   "id": "1204ed35-8e16-4a14-9c41-8c22b24a1503",
   "metadata": {},
   "outputs": [],
   "source": [
    "# replacing prop_type values with dictionary\n",
    "bus_only.replace({\"prop_type\": prop_dict}, inplace=True)"
   ]
  },
  {
   "cell_type": "code",
   "execution_count": null,
   "id": "d2da1c1b-c91b-42e5-b3ff-583f3fd60676",
   "metadata": {},
   "outputs": [],
   "source": [
    "# check work\n",
    "display(bus_only.prop_type.value_counts(), bus_only.head())\n",
    "\n",
    "# looks good"
   ]
  },
  {
   "cell_type": "markdown",
   "id": "392dd768-88e4-42bb-a26f-ab95e225b271",
   "metadata": {
    "tags": []
   },
   "source": [
    "## New column for bus size type - `bus_size_type`\n"
   ]
  },
  {
   "cell_type": "code",
   "execution_count": null,
   "id": "278079a5-9ebb-4ac2-9363-ecfc0b6a818f",
   "metadata": {},
   "outputs": [],
   "source": [
    "bus_size = [\n",
    "    \"standard\",\n",
    "    \"30-foot\",\n",
    "    \"40 foot\",\n",
    "    \"40-foot\",\n",
    "    \"45-foot\",\n",
    "    \"45 foot\",\n",
    "    \"40ft\",\n",
    "    \"60-foot\",\n",
    "    \"articulated\",\n",
    "    \"cutaway\",\n",
    "    \"coach-style\",\n",
    "    \"over-the-road\",\n",
    "    \"feeder bus\",\n",
    "]"
   ]
  },
  {
   "cell_type": "code",
   "execution_count": null,
   "id": "9988791c-8ec6-45c4-b7b6-4fa8ccbfe823",
   "metadata": {},
   "outputs": [],
   "source": [
    "type(bus_size)"
   ]
  },
  {
   "cell_type": "code",
   "execution_count": null,
   "id": "71b25adf-440a-4f52-9d18-f908f57d5aab",
   "metadata": {},
   "outputs": [],
   "source": [
    "# re writing prop type funct for bus size\n",
    "def bus_size_finder(description):\n",
    "    for keyword in bus_size:\n",
    "        if keyword in description:\n",
    "            return keyword\n",
    "    return \"not specified\""
   ]
  },
  {
   "cell_type": "code",
   "execution_count": null,
   "id": "45ab8fdc-e752-4584-8bb8-af4426861a71",
   "metadata": {},
   "outputs": [],
   "source": [
    "# creating new column, filling the column using the function applied to project_desctiotion\n",
    "bus_only[\"bus_size_type\"] = bus_only[\"project_description\"].apply(bus_size_finder)"
   ]
  },
  {
   "cell_type": "code",
   "execution_count": null,
   "id": "c0ce4822-7356-4e52-94cb-04269eb82db9",
   "metadata": {},
   "outputs": [],
   "source": [
    "# checking work\n",
    "display(bus_only.columns, bus_only.bus_size_type.value_counts())"
   ]
  },
  {
   "cell_type": "code",
   "execution_count": null,
   "id": "a17a1dfa-d70a-4076-b9c1-618a43398262",
   "metadata": {},
   "outputs": [],
   "source": [
    "list(bus_only['bus_size_type'].sort_values().unique())"
   ]
  },
  {
   "cell_type": "code",
   "execution_count": null,
   "id": "ad0bda67-e3b2-4bdf-9bfb-0afa7b19bc0d",
   "metadata": {},
   "outputs": [],
   "source": [
    "# expected that not a lot of rows specify a size type.\n",
    "# will still take a random peek into some\n",
    "\n",
    "bus_only[bus_only[\"bus_size_type\"] == \"not specified\"].sample(5)"
   ]
  },
  {
   "cell_type": "code",
   "execution_count": null,
   "id": "ab06f71f-3f64-4b12-8164-fe3524c97d64",
   "metadata": {},
   "outputs": [],
   "source": [
    "# consolidate\n",
    "size_dict={'40 foot': 'conventional (40-ft like)' ,\n",
    " '40-foot': 'conventional (40-ft like)',\n",
    " '45-foot': 'conventional (40-ft like)',\n",
    " 'coach-style':'over-the-road',\n",
    " 'feeder bus': 'conventional (40-ft like)',\n",
    " }"
   ]
  },
  {
   "cell_type": "code",
   "execution_count": null,
   "id": "be465cfd-fb25-4862-a709-c3dd675a8fbf",
   "metadata": {},
   "outputs": [],
   "source": [
    "type(size_dict)"
   ]
  },
  {
   "cell_type": "code",
   "execution_count": null,
   "id": "d66297eb-2ced-4148-9722-167797349280",
   "metadata": {},
   "outputs": [],
   "source": [
    "# .replace() with size_dict to replace values in bus size col\n",
    "bus_only.replace({\"bus_size_type\": size_dict}, inplace=True)"
   ]
  },
  {
   "cell_type": "code",
   "execution_count": null,
   "id": "055fbee5-b73b-4779-801b-1c0d23e081af",
   "metadata": {},
   "outputs": [],
   "source": [
    "# check work\n",
    "bus_only.bus_size_type.value_counts()"
   ]
  },
  {
   "cell_type": "markdown",
   "id": "1b95f567-13fc-4184-8b09-f512f702f3f0",
   "metadata": {
    "tags": []
   },
   "source": [
    "## export project- bus only df"
   ]
  },
  {
   "cell_type": "code",
   "execution_count": null,
   "id": "cecea030-b37a-4170-9997-656e8bd0c080",
   "metadata": {},
   "outputs": [],
   "source": [
    "bus_only.to_parquet(\n",
    "    \"gs://calitp-analytics-data/data-analyses/bus_procurement_cost/tircp_project_bus_only.parquet\"\n",
    ")"
   ]
  },
  {
   "cell_type": "markdown",
   "id": "1ea926da-8d76-481c-a5fb-ef39606f45ca",
   "metadata": {
    "tags": []
   },
   "source": [
    "## Read in project bus only data\n"
   ]
  },
  {
   "cell_type": "code",
   "execution_count": null,
   "id": "9a4a5d1e-567f-485d-b62d-de23be3e3b8d",
   "metadata": {},
   "outputs": [],
   "source": [
    "test = pd.read_parquet('gs://calitp-analytics-data/data-analyses/bus_procurement_cost/test_tircp.parquet')"
   ]
  },
  {
   "cell_type": "code",
   "execution_count": 2,
   "id": "abaf10b2-0dc3-432d-845a-8dacb2af806f",
   "metadata": {},
   "outputs": [],
   "source": [
    "bus_checker = pd.read_parquet(\n",
    "    \"gs://calitp-analytics-data/data-analyses/bus_procurement_cost/tircp_project_bus_only.parquet\"\n",
    ")"
   ]
  },
  {
   "cell_type": "code",
   "execution_count": null,
   "id": "ab4b7cf3-183e-4ea1-baca-e3f5d0bd9dd6",
   "metadata": {},
   "outputs": [],
   "source": [
    "bus_checker"
   ]
  },
  {
   "cell_type": "code",
   "execution_count": 32,
   "id": "bead208d-e57f-4c09-8cf9-4273bc3dce95",
   "metadata": {},
   "outputs": [],
   "source": [
    "def project_type_checker(description: str) -> str:\n",
    "    \"\"\"\n",
    "    function to match keywords to project description col to identy projects that only have bus procurement.\n",
    "    used to identify projects into diffferent categories: bus only, bus + others, no bus procurement.\n",
    "    use with .assign() to get a new col.\n",
    "    \"\"\"\n",
    "    bus_list =[\n",
    "        \"bus\"\n",
    "    ]\n",
    "    \n",
    "    exclude_list =[\n",
    "        \"facility\",\n",
    "        #\"station\",\n",
    "        \"installation\",\n",
    "        \"construct\",\n",
    "        \"infrastructure\",\n",
    "        \"signal priority\",\n",
    "        \"improvements\",\n",
    "        #\"associated infrastructure\" may need to look at what is associated infrastructure is for ZEB \n",
    "        \n",
    "    ]\n",
    "    proj_description = description.lower().strip()\n",
    "\n",
    "    if any(word in proj_description for word in bus_list) and not any(\n",
    "        word in proj_description for word in exclude_list\n",
    "    ):\n",
    "        return \"bus only\"\n",
    "    \n",
    "    elif any(word in proj_description for word in exclude_list) and not any(\n",
    "        word in proj_description for word in bus_list\n",
    "    ):\n",
    "        return \"non-bus components\"\n",
    "    \n",
    "    else:\n",
    "        return \"includes bus and non-bus components\""
   ]
  },
  {
   "cell_type": "code",
   "execution_count": 33,
   "id": "9000c886-c46c-436d-a0b5-ec55bd2a4cd2",
   "metadata": {},
   "outputs": [],
   "source": [
    "bus_checker = bus_checker.assign(\n",
    "    project_type = bus_checker['project_description'].apply(project_type_checker)\n",
    ")\n"
   ]
  },
  {
   "cell_type": "code",
   "execution_count": 34,
   "id": "bcdeb08c-50bf-4a63-b2c8-086cdfa96ffe",
   "metadata": {},
   "outputs": [
    {
     "data": {
      "text/plain": [
       "includes bus and non-bus components    24\n",
       "bus only                               11\n",
       "Name: project_type, dtype: int64"
      ]
     },
     "execution_count": 34,
     "metadata": {},
     "output_type": "execute_result"
    }
   ],
   "source": [
    "bus_checker[\"project_type\"].value_counts()"
   ]
  },
  {
   "cell_type": "code",
   "execution_count": 35,
   "id": "fb93fbc9-ab8d-4239-a55e-3ec2b3000541",
   "metadata": {},
   "outputs": [],
   "source": [
    "# just_bus rows are all good. \n",
    "just_bus = bus_checker[bus_checker['project_type'] == \"bus only\"]\n",
    "\n",
    "# bus_non_bus rows are all good\n",
    "bus_non_bus = bus_checker[bus_checker['project_type'] == \"includes bus and non-bus components\"]"
   ]
  },
  {
   "cell_type": "code",
   "execution_count": 36,
   "id": "b88e65bc-86d2-419e-93d6-e3f066173b2b",
   "metadata": {},
   "outputs": [
    {
     "data": {
      "text/html": [
       "<div>\n",
       "<style scoped>\n",
       "    .dataframe tbody tr th:only-of-type {\n",
       "        vertical-align: middle;\n",
       "    }\n",
       "\n",
       "    .dataframe tbody tr th {\n",
       "        vertical-align: top;\n",
       "    }\n",
       "\n",
       "    .dataframe thead th {\n",
       "        text-align: right;\n",
       "    }\n",
       "</style>\n",
       "<table border=\"1\" class=\"dataframe\">\n",
       "  <thead>\n",
       "    <tr style=\"text-align: right;\">\n",
       "      <th></th>\n",
       "      <th>award_year</th>\n",
       "      <th>project_#</th>\n",
       "      <th>grant_recipient</th>\n",
       "      <th>project_title</th>\n",
       "      <th>ppno</th>\n",
       "      <th>district</th>\n",
       "      <th>county</th>\n",
       "      <th>project_description</th>\n",
       "      <th>bus_count</th>\n",
       "      <th>master_agreement_number</th>\n",
       "      <th>total_project_cost</th>\n",
       "      <th>tircp_award_amount_($)</th>\n",
       "      <th>prop_type</th>\n",
       "      <th>bus_size_type</th>\n",
       "      <th>project_type</th>\n",
       "    </tr>\n",
       "  </thead>\n",
       "  <tbody>\n",
       "    <tr>\n",
       "      <th>0</th>\n",
       "      <td>2015</td>\n",
       "      <td>1</td>\n",
       "      <td>Antelope Valley Transit Authority (AVTA)</td>\n",
       "      <td>Regional Transit Interconnectivity &amp; Environmental Sustability</td>\n",
       "      <td>CP005</td>\n",
       "      <td>7</td>\n",
       "      <td>LA</td>\n",
       "      <td>Purchase 13 60-foot articulated BRT buses and 16 45-foot electric commuter buses</td>\n",
       "      <td>13.0</td>\n",
       "      <td>64AVTA2015MA</td>\n",
       "      <td>39478000</td>\n",
       "      <td>24403000</td>\n",
       "      <td>electric (not specified)</td>\n",
       "      <td>conventional (40-ft like)</td>\n",
       "      <td>bus only</td>\n",
       "    </tr>\n",
       "    <tr>\n",
       "      <th>5</th>\n",
       "      <td>2015</td>\n",
       "      <td>6</td>\n",
       "      <td>Orange County Transportation Authority (OCTA)</td>\n",
       "      <td>Bravo! Route 560 Rapid Buses</td>\n",
       "      <td>CP004</td>\n",
       "      <td>12</td>\n",
       "      <td>ORA</td>\n",
       "      <td>Purchase five 40-foot CNG buses for BRT Route linking SARTC to Metrolink/Amtrak</td>\n",
       "      <td>40.0</td>\n",
       "      <td>64OCTAMA</td>\n",
       "      <td>2900000</td>\n",
       "      <td>2320000</td>\n",
       "      <td>CNG</td>\n",
       "      <td>conventional (40-ft like)</td>\n",
       "      <td>bus only</td>\n",
       "    </tr>\n",
       "    <tr>\n",
       "      <th>16</th>\n",
       "      <td>2016</td>\n",
       "      <td>3</td>\n",
       "      <td>Foothill Transit</td>\n",
       "      <td>Transforming California: Bus Electrification, Service Expansion and Rail Integration</td>\n",
       "      <td>CP076</td>\n",
       "      <td>7</td>\n",
       "      <td>LA</td>\n",
       "      <td>Purchase 20 zero-emission buses to extend Route 486 to the Pamona Metrolink station and increase frequencies</td>\n",
       "      <td>20.0</td>\n",
       "      <td>64FOOTHILLMA</td>\n",
       "      <td>16580000</td>\n",
       "      <td>5000000</td>\n",
       "      <td>zero-emission bus (not specified)</td>\n",
       "      <td>not specified</td>\n",
       "      <td>bus only</td>\n",
       "    </tr>\n",
       "    <tr>\n",
       "      <th>34</th>\n",
       "      <td>2018</td>\n",
       "      <td>7</td>\n",
       "      <td>City of Los Angeles (LA DOT)</td>\n",
       "      <td>Los Angeles City: Leading the Transformation to Zero-Emission Electric Bus Transit Service</td>\n",
       "      <td>CP029</td>\n",
       "      <td>7</td>\n",
       "      <td>LA</td>\n",
       "      <td>Acquire 112 zero-emission buses to replace existing propane vehicles and add new vehicles, in order to increase frequency of all existing DASH routes to 15-minute service and add 4 new routes, serving communities throughout the City of Los Angeles as recommended in the comprehensive Transit Service Analysis.</td>\n",
       "      <td>112.0</td>\n",
       "      <td>64LADOTMA</td>\n",
       "      <td>102790000</td>\n",
       "      <td>36104000</td>\n",
       "      <td>zero-emission bus (not specified)</td>\n",
       "      <td>not specified</td>\n",
       "      <td>bus only</td>\n",
       "    </tr>\n",
       "    <tr>\n",
       "      <th>51</th>\n",
       "      <td>2018</td>\n",
       "      <td>24</td>\n",
       "      <td>Shasta Regional Transportation Agency (SRTA)</td>\n",
       "      <td>North State Intercity Bus System</td>\n",
       "      <td>CP045</td>\n",
       "      <td>2</td>\n",
       "      <td>VAR</td>\n",
       "      <td>Purchase 7 new coach-style buses to support a new intercity service that connects Redding to Sacramento. Purchase 7 new coach-style buses to support a new intercity service that connects Redding to Sacramento Shata Regional Transportation Agency Bus System to Sacramento International Airport</td>\n",
       "      <td>14.0</td>\n",
       "      <td>64SRTAMA</td>\n",
       "      <td>9516000</td>\n",
       "      <td>8641000</td>\n",
       "      <td>not specified</td>\n",
       "      <td>over-the-road</td>\n",
       "      <td>bus only</td>\n",
       "    </tr>\n",
       "    <tr>\n",
       "      <th>68</th>\n",
       "      <td>2020</td>\n",
       "      <td>13</td>\n",
       "      <td>Santa Monica Big Blue Bus</td>\n",
       "      <td>For People, Place and Planet: Connecting Inglewood to Regional Opportunities</td>\n",
       "      <td>CP071</td>\n",
       "      <td>7</td>\n",
       "      <td>LA</td>\n",
       "      <td>Purchase 7 zero emission buses to enhance and extend Route 14 from Playa Vista to Inglewood, bringing new transit opportunities to disadvantaged communities, while also integrating light rail and bus services.</td>\n",
       "      <td>7.0</td>\n",
       "      <td>64SANMONICAMA</td>\n",
       "      <td>6743000</td>\n",
       "      <td>1105000</td>\n",
       "      <td>zero-emission bus (not specified)</td>\n",
       "      <td>not specified</td>\n",
       "      <td>bus only</td>\n",
       "    </tr>\n",
       "    <tr>\n",
       "      <th>70</th>\n",
       "      <td>2020</td>\n",
       "      <td>15</td>\n",
       "      <td>Torrance Transit Department</td>\n",
       "      <td>Torrance Transit Bus Service Enhancement Program</td>\n",
       "      <td>CP073</td>\n",
       "      <td>7</td>\n",
       "      <td>LA</td>\n",
       "      <td>Purchase 7 electric buses to expand services on Line 4X (between Torrance and Downton LA), on an extended line 10 (serving the Metro Green Line Crenshaw station and the Inglewood Stadium and Entertainment District, an extended line 9 (newly serving the Kaiser Permanente South Bay Medical Center), and the acquisition of the western portion of LA Metro’s Route 130 between the Blue Line Artesia Station and the South Bay Galleria Mall.</td>\n",
       "      <td>7.0</td>\n",
       "      <td>64TTDMA</td>\n",
       "      <td>7200000</td>\n",
       "      <td>6000000</td>\n",
       "      <td>electric (not specified)</td>\n",
       "      <td>not specified</td>\n",
       "      <td>bus only</td>\n",
       "    </tr>\n",
       "    <tr>\n",
       "      <th>71</th>\n",
       "      <td>2020</td>\n",
       "      <td>16</td>\n",
       "      <td>Transit Joint Powers Authority of Merced County</td>\n",
       "      <td>Improving Air Quality &amp; Economic Growth with Electric Buses in Merced County, the Gateway to Yosemite</td>\n",
       "      <td>CP074</td>\n",
       "      <td>10</td>\n",
       "      <td>MER</td>\n",
       "      <td>Purchases 3 zero-emission electric buses to increase fleet size and extend bus service levels on 2 fixed routes in Merced county. The proposed project allows for an expansion of service frequency on one existing inter-community route connecting rural communities to the city of Merced. The route currently operates on limited frequency and is not enough to keep up with existing demand. The project also expands local service on one local route to provide better bus service to a developed residential area currently with limited access to service.</td>\n",
       "      <td>3.0</td>\n",
       "      <td>64TJPAMCMA</td>\n",
       "      <td>3696513</td>\n",
       "      <td>3112000</td>\n",
       "      <td>electric (not specified)</td>\n",
       "      <td>not specified</td>\n",
       "      <td>bus only</td>\n",
       "    </tr>\n",
       "    <tr>\n",
       "      <th>81</th>\n",
       "      <td>2022</td>\n",
       "      <td>9</td>\n",
       "      <td>City of Wasco</td>\n",
       "      <td>City of Wasco Improving Air Quality and Economic Growth with Bus Electrification</td>\n",
       "      <td>CP090</td>\n",
       "      <td>6</td>\n",
       "      <td>KER</td>\n",
       "      <td>Purchase of 3 zero-emission buses that will support Wasco's local Dia-a-Ride shuttle services to expand service to affordable housing projects and expand overall service availability by 50%.</td>\n",
       "      <td>3.0</td>\n",
       "      <td>Pending</td>\n",
       "      <td>1543000</td>\n",
       "      <td>1000000</td>\n",
       "      <td>zero-emission bus (not specified)</td>\n",
       "      <td>not specified</td>\n",
       "      <td>bus only</td>\n",
       "    </tr>\n",
       "    <tr>\n",
       "      <th>95</th>\n",
       "      <td>2022</td>\n",
       "      <td>23</td>\n",
       "      <td>Tulare County Regional Transit Agency (TCRTA)</td>\n",
       "      <td>Tulare Cross-Valley Corridor \\n(CVC) ZEB Project</td>\n",
       "      <td>CP093</td>\n",
       "      <td>6</td>\n",
       "      <td>TUL</td>\n",
       "      <td>Supports the phased development of an east-west Cross Valley Corridor by purchasing 14 zero-emission feeder buses in multiple cities in and along the corridor (as well as 16 micro-transit vehicles to be operated in selected cities) that will provide comprehensive access to the future rail system for all these communities and will connect to the California High Speed Rail system.</td>\n",
       "      <td>14.0</td>\n",
       "      <td>Pending</td>\n",
       "      <td>53702693</td>\n",
       "      <td>33769000</td>\n",
       "      <td>zero-emission bus (not specified)</td>\n",
       "      <td>conventional (40-ft like)</td>\n",
       "      <td>bus only</td>\n",
       "    </tr>\n",
       "    <tr>\n",
       "      <th>103</th>\n",
       "      <td>2023</td>\n",
       "      <td>8</td>\n",
       "      <td>Culver City</td>\n",
       "      <td>CityBus Local Mobility Expansion Project</td>\n",
       "      <td>CP114</td>\n",
       "      <td>7</td>\n",
       "      <td>LA</td>\n",
       "      <td>The Project implements a new transit service using electric minibuses to serve underserved communities and includes purchasing 5 zero‐emission buses. Also establishes an all‐day and late‐night micro‐transit service in the Downtown area of Culver City and includes procuring 5 vehicles to operate the service</td>\n",
       "      <td>5.0</td>\n",
       "      <td>None</td>\n",
       "      <td>3547000</td>\n",
       "      <td>3247000</td>\n",
       "      <td>zero-emission bus (not specified)</td>\n",
       "      <td>not specified</td>\n",
       "      <td>bus only</td>\n",
       "    </tr>\n",
       "  </tbody>\n",
       "</table>\n",
       "</div>"
      ],
      "text/plain": [
       "     award_year  project_#                                  grant_recipient  \\\n",
       "0          2015          1         Antelope Valley Transit Authority (AVTA)   \n",
       "5          2015          6    Orange County Transportation Authority (OCTA)   \n",
       "16         2016          3                                 Foothill Transit   \n",
       "34         2018          7                     City of Los Angeles (LA DOT)   \n",
       "51         2018         24     Shasta Regional Transportation Agency (SRTA)   \n",
       "68         2020         13                        Santa Monica Big Blue Bus   \n",
       "70         2020         15                      Torrance Transit Department   \n",
       "71         2020         16  Transit Joint Powers Authority of Merced County   \n",
       "81         2022          9                                    City of Wasco   \n",
       "95         2022         23    Tulare County Regional Transit Agency (TCRTA)   \n",
       "103        2023          8                                      Culver City   \n",
       "\n",
       "                                                                                             project_title  \\\n",
       "0                                           Regional Transit Interconnectivity & Environmental Sustability   \n",
       "5                                                                             Bravo! Route 560 Rapid Buses   \n",
       "16                    Transforming California: Bus Electrification, Service Expansion and Rail Integration   \n",
       "34              Los Angeles City: Leading the Transformation to Zero-Emission Electric Bus Transit Service   \n",
       "51                                                                        North State Intercity Bus System   \n",
       "68                            For People, Place and Planet: Connecting Inglewood to Regional Opportunities   \n",
       "70                                                        Torrance Transit Bus Service Enhancement Program   \n",
       "71   Improving Air Quality & Economic Growth with Electric Buses in Merced County, the Gateway to Yosemite   \n",
       "81                        City of Wasco Improving Air Quality and Economic Growth with Bus Electrification   \n",
       "95                                                        Tulare Cross-Valley Corridor \\n(CVC) ZEB Project   \n",
       "103                                                               CityBus Local Mobility Expansion Project   \n",
       "\n",
       "      ppno  district county  \\\n",
       "0    CP005         7     LA   \n",
       "5    CP004        12    ORA   \n",
       "16   CP076         7     LA   \n",
       "34   CP029         7     LA   \n",
       "51   CP045         2    VAR   \n",
       "68   CP071         7     LA   \n",
       "70   CP073         7     LA   \n",
       "71   CP074        10    MER   \n",
       "81   CP090         6    KER   \n",
       "95   CP093         6    TUL   \n",
       "103  CP114         7     LA   \n",
       "\n",
       "                                                                                                                                                                                                                                                                                                                                                                                                                                                                                                                                                      project_description  \\\n",
       "0                                                                                                                                                                                                                                                                                                                                                                                                                                                                                        Purchase 13 60-foot articulated BRT buses and 16 45-foot electric commuter buses   \n",
       "5                                                                                                                                                                                                                                                                                                                                                                                                                                                                                         Purchase five 40-foot CNG buses for BRT Route linking SARTC to Metrolink/Amtrak   \n",
       "16                                                                                                                                                                                                                                                                                                                                                                                                                                                           Purchase 20 zero-emission buses to extend Route 486 to the Pamona Metrolink station and increase frequencies   \n",
       "34                                                                                                                                                                                                                                                  Acquire 112 zero-emission buses to replace existing propane vehicles and add new vehicles, in order to increase frequency of all existing DASH routes to 15-minute service and add 4 new routes, serving communities throughout the City of Los Angeles as recommended in the comprehensive Transit Service Analysis.   \n",
       "51                                                                                                                                                                                                                                                                   Purchase 7 new coach-style buses to support a new intercity service that connects Redding to Sacramento. Purchase 7 new coach-style buses to support a new intercity service that connects Redding to Sacramento Shata Regional Transportation Agency Bus System to Sacramento International Airport   \n",
       "68                                                                                                                                                                                                                                                                                                                                                      Purchase 7 zero emission buses to enhance and extend Route 14 from Playa Vista to Inglewood, bringing new transit opportunities to disadvantaged communities, while also integrating light rail and bus services.   \n",
       "70                                                                                                                    Purchase 7 electric buses to expand services on Line 4X (between Torrance and Downton LA), on an extended line 10 (serving the Metro Green Line Crenshaw station and the Inglewood Stadium and Entertainment District, an extended line 9 (newly serving the Kaiser Permanente South Bay Medical Center), and the acquisition of the western portion of LA Metro’s Route 130 between the Blue Line Artesia Station and the South Bay Galleria Mall.   \n",
       "71   Purchases 3 zero-emission electric buses to increase fleet size and extend bus service levels on 2 fixed routes in Merced county. The proposed project allows for an expansion of service frequency on one existing inter-community route connecting rural communities to the city of Merced. The route currently operates on limited frequency and is not enough to keep up with existing demand. The project also expands local service on one local route to provide better bus service to a developed residential area currently with limited access to service.   \n",
       "81                                                                                                                                                                                                                                                                                                                                                                         Purchase of 3 zero-emission buses that will support Wasco's local Dia-a-Ride shuttle services to expand service to affordable housing projects and expand overall service availability by 50%.   \n",
       "95                                                                                                                                                                          Supports the phased development of an east-west Cross Valley Corridor by purchasing 14 zero-emission feeder buses in multiple cities in and along the corridor (as well as 16 micro-transit vehicles to be operated in selected cities) that will provide comprehensive access to the future rail system for all these communities and will connect to the California High Speed Rail system.   \n",
       "103                                                                                                                                                                                                                                                   The Project implements a new transit service using electric minibuses to serve underserved communities and includes purchasing 5 zero‐emission buses. Also establishes an all‐day and late‐night micro‐transit service in the Downtown area of Culver City and includes procuring 5 vehicles to operate the service   \n",
       "\n",
       "     bus_count master_agreement_number  total_project_cost  \\\n",
       "0         13.0            64AVTA2015MA            39478000   \n",
       "5         40.0                64OCTAMA             2900000   \n",
       "16        20.0            64FOOTHILLMA            16580000   \n",
       "34       112.0               64LADOTMA           102790000   \n",
       "51        14.0                64SRTAMA             9516000   \n",
       "68         7.0           64SANMONICAMA             6743000   \n",
       "70         7.0                 64TTDMA             7200000   \n",
       "71         3.0              64TJPAMCMA             3696513   \n",
       "81         3.0                 Pending             1543000   \n",
       "95        14.0                 Pending            53702693   \n",
       "103        5.0                    None             3547000   \n",
       "\n",
       "     tircp_award_amount_($)                          prop_type  \\\n",
       "0                  24403000           electric (not specified)   \n",
       "5                   2320000                                CNG   \n",
       "16                  5000000  zero-emission bus (not specified)   \n",
       "34                 36104000  zero-emission bus (not specified)   \n",
       "51                  8641000                      not specified   \n",
       "68                  1105000  zero-emission bus (not specified)   \n",
       "70                  6000000           electric (not specified)   \n",
       "71                  3112000           electric (not specified)   \n",
       "81                  1000000  zero-emission bus (not specified)   \n",
       "95                 33769000  zero-emission bus (not specified)   \n",
       "103                 3247000  zero-emission bus (not specified)   \n",
       "\n",
       "                 bus_size_type project_type  \n",
       "0    conventional (40-ft like)     bus only  \n",
       "5    conventional (40-ft like)     bus only  \n",
       "16               not specified     bus only  \n",
       "34               not specified     bus only  \n",
       "51               over-the-road     bus only  \n",
       "68               not specified     bus only  \n",
       "70               not specified     bus only  \n",
       "71               not specified     bus only  \n",
       "81               not specified     bus only  \n",
       "95   conventional (40-ft like)     bus only  \n",
       "103              not specified     bus only  "
      ]
     },
     "execution_count": 36,
     "metadata": {},
     "output_type": "execute_result"
    }
   ],
   "source": [
    "just_bus"
   ]
  },
  {
   "cell_type": "markdown",
   "id": "c0aa374e-985b-46b3-a7ab-f3bc66e36204",
   "metadata": {
    "jp-MarkdownHeadingCollapsed": true,
    "tags": []
   },
   "source": [
    "## DEPRECATED - Data Analysis\n",
    "see `cost_per_bus_analysis` notebook"
   ]
  },
  {
   "cell_type": "markdown",
   "id": "02cce57d-f82c-4f85-be53-814538b6b6c3",
   "metadata": {
    "tags": []
   },
   "source": [
    "### Consolidate up grant recipient name"
   ]
  },
  {
   "cell_type": "markdown",
   "id": "a5d0e920-cfd9-465f-89eb-81214b27070a",
   "metadata": {
    "jp-MarkdownHeadingCollapsed": true,
    "tags": []
   },
   "source": [
    "### aggregate up"
   ]
  },
  {
   "cell_type": "code",
   "execution_count": null,
   "id": "a0a396f0-c9ad-48bd-9767-45b5a8b53d25",
   "metadata": {},
   "outputs": [],
   "source": [
    "# aggregate # of buses and allocation by transit agency\n",
    "# bus_cost = only_bus.groupby('grant_recipient').agg({\n",
    "#    '#_of_buses':\"sum\",\n",
    "#    'allocation_amount':'sum'\n",
    "# }).reset_index()\n",
    "\n",
    "bus_cost = (\n",
    "    bus_only.groupby(\"grant_recipient\")\n",
    "    .agg({\"bus_count\": \"sum\", \"tircp_award_amount_($)\": \"sum\"})\n",
    "    .reset_index()\n",
    ")"
   ]
  },
  {
   "cell_type": "code",
   "execution_count": null,
   "id": "c5c8dfa3-310f-47bd-8d95-2eed37feec73",
   "metadata": {},
   "outputs": [],
   "source": [
    "# confirm aggregation worked\n",
    "bus_cost"
   ]
  },
  {
   "cell_type": "markdown",
   "id": "0f074183-9110-41fc-820b-4483fe9b076b",
   "metadata": {
    "tags": []
   },
   "source": [
    "### create new cost per bus column"
   ]
  },
  {
   "cell_type": "code",
   "execution_count": null,
   "id": "391fdd1a-585b-43e4-b70b-18c7f54a8263",
   "metadata": {},
   "outputs": [],
   "source": [
    "bus_cost[\"cost_per_bus\"] = (\n",
    "    bus_cost[\"tircp_award_amount_($)\"] / bus_cost[\"bus_count\"]\n",
    ").astype(\"int64\")"
   ]
  },
  {
   "cell_type": "code",
   "execution_count": null,
   "id": "3219820e-0d80-4c1b-92c5-f098f09a22a9",
   "metadata": {},
   "outputs": [],
   "source": [
    "# confirm new column was created and values were populated\n",
    "bus_cost.sort_values(\"cost_per_bus\")"
   ]
  },
  {
   "cell_type": "markdown",
   "id": "7c2df629-863e-476f-8f1c-934535a1feb0",
   "metadata": {},
   "source": [
    "### Export cost per bus via project tracking sheet to gcs"
   ]
  },
  {
   "cell_type": "code",
   "execution_count": null,
   "id": "b7ad9fe7-a705-4138-8f3d-138f6d0146f6",
   "metadata": {},
   "outputs": [],
   "source": [
    "bus_cost.to_csv(\n",
    "    \"gs://calitp-analytics-data/data-analyses/bus_procurement_cost/tircp_project_cost_per_bus.csv\"\n",
    ")"
   ]
  },
  {
   "cell_type": "code",
   "execution_count": null,
   "id": "b6946ba9-55e8-4e53-9da9-56310e9c3661",
   "metadata": {},
   "outputs": [],
   "source": []
  }
 ],
 "metadata": {
  "kernelspec": {
   "display_name": "Python 3 (ipykernel)",
   "language": "python",
   "name": "python3"
  },
  "language_info": {
   "codemirror_mode": {
    "name": "ipython",
    "version": 3
   },
   "file_extension": ".py",
   "mimetype": "text/x-python",
   "name": "python",
   "nbconvert_exporter": "python",
   "pygments_lexer": "ipython3",
   "version": "3.9.13"
  }
 },
 "nbformat": 4,
 "nbformat_minor": 5
}
