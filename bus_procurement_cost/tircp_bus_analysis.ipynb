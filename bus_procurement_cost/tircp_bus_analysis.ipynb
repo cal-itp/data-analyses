{
 "cells": [
  {
   "cell_type": "code",
   "execution_count": 3,
   "id": "7e2bb160-f2fa-49a0-9cbf-b0796599f1d1",
   "metadata": {},
   "outputs": [],
   "source": [
    "import matplotlib.pyplot as plt\n",
    "import pandas as pd\n",
    "import shared_utils\n",
    "\n",
    "# set_option to increase max rows displayed to 200, to see entire df in 1 go/\n",
    "pd.set_option(\"display.max_rows\", 200)"
   ]
  },
  {
   "cell_type": "markdown",
   "id": "9f3cd0cb-98d8-43a4-be8d-b7b41f80dd75",
   "metadata": {
    "jp-MarkdownHeadingCollapsed": true,
    "tags": []
   },
   "source": [
    "## AGREEMENT ALLOCATIONS SHEET DATA"
   ]
  },
  {
   "cell_type": "markdown",
   "id": "52794293-2f66-47a7-b580-6170fc72ca94",
   "metadata": {
    "jp-MarkdownHeadingCollapsed": true,
    "tags": []
   },
   "source": [
    "### Agreement Allocations - Read in Raw data"
   ]
  },
  {
   "cell_type": "code",
   "execution_count": null,
   "id": "70250817-0eee-4ab0-95b4-b43050b46f8c",
   "metadata": {},
   "outputs": [],
   "source": [
    "url = \"gs://calitp-analytics-data/data-analyses/bus_procurement_cost/TIRCP Tracking Sheets 2_1-10-2024.xlsx\"\n",
    "sheet_name = \"Agreement Allocations\""
   ]
  },
  {
   "cell_type": "code",
   "execution_count": null,
   "id": "f80fccec-2313-4a82-9529-5943ba26e401",
   "metadata": {},
   "outputs": [],
   "source": [
    "tircp = pd.read_excel(url, sheet_name)"
   ]
  },
  {
   "cell_type": "markdown",
   "id": "79002d63-c2a1-4218-81a2-31e6a10d981e",
   "metadata": {
    "jp-MarkdownHeadingCollapsed": true,
    "tags": []
   },
   "source": [
    "### Agreement Allocations -Data Cleaning and QC"
   ]
  },
  {
   "cell_type": "code",
   "execution_count": null,
   "id": "78289f7c-54f3-48af-8881-101f50853694",
   "metadata": {},
   "outputs": [],
   "source": [
    "# reducing initialdf to first 11 columns.\n",
    "tircp = tircp.iloc[:, :12]"
   ]
  },
  {
   "cell_type": "code",
   "execution_count": null,
   "id": "6526421b-36f3-4326-bfce-4679ffcf2b52",
   "metadata": {},
   "outputs": [],
   "source": [
    "# dictionary for column name update\n",
    "new_col = [\n",
    "    \"award_year\",\n",
    "    \"project_#\",\n",
    "    \"grant_recipient\",\n",
    "    \"implementing_agency\",\n",
    "    \"ppno\",\n",
    "    \"project_id\",\n",
    "    \"ea\",\n",
    "    \"components\",\n",
    "    \"#_of_buses\",\n",
    "    \"phase\",\n",
    "    \"allocation_amount\",\n",
    "    \"expended_amount\",\n",
    "]"
   ]
  },
  {
   "cell_type": "code",
   "execution_count": null,
   "id": "c973346f-9232-4d21-8145-6fbe331094de",
   "metadata": {},
   "outputs": [],
   "source": [
    "tircp.columns = new_col\n",
    "tircp.columns"
   ]
  },
  {
   "cell_type": "code",
   "execution_count": null,
   "id": "14061d68-8a66-42de-baad-c45e0b4664f5",
   "metadata": {},
   "outputs": [],
   "source": [
    "tircp = tircp.drop(\"expended_amount\", axis=1)"
   ]
  },
  {
   "cell_type": "code",
   "execution_count": null,
   "id": "4ad96350-0b11-4733-aa04-d1053681b24b",
   "metadata": {},
   "outputs": [],
   "source": [
    "# fill NaN with zero?\n",
    "# see if you can sum the bus column\n",
    "tircp.agg({\"#_of_buses\": \"sum\"})\n",
    "# nope this is correct"
   ]
  },
  {
   "cell_type": "code",
   "execution_count": null,
   "id": "f2e30eb4-6adf-48b8-827b-548d806b101a",
   "metadata": {},
   "outputs": [],
   "source": [
    "display(tircp.shape, list(tircp.columns), tircp.head())"
   ]
  },
  {
   "cell_type": "code",
   "execution_count": null,
   "id": "9eb613a5-7d1f-489c-8d9f-1226f25a61bf",
   "metadata": {},
   "outputs": [],
   "source": [
    "tircp.grant_recipient.nunique()"
   ]
  },
  {
   "cell_type": "code",
   "execution_count": null,
   "id": "33b665bf-20a0-416f-8b6b-fe835670560d",
   "metadata": {},
   "outputs": [],
   "source": [
    "# use strip to help combine names\n",
    "tircp[\"grant_recipient\"] = tircp[\"grant_recipient\"].str.strip()\n",
    "\n",
    "tircp.grant_recipient.nunique()"
   ]
  },
  {
   "cell_type": "code",
   "execution_count": null,
   "id": "ad999ca5-3dda-4bed-a161-7835b7317e3b",
   "metadata": {},
   "outputs": [],
   "source": [
    "# see list of unique names\n",
    "# may be able to consolidate a few\n",
    "tircp.grant_recipient.sort_values().unique()"
   ]
  },
  {
   "cell_type": "code",
   "execution_count": null,
   "id": "57c1b6ab-64ec-4af4-958f-3fd69a9fcf94",
   "metadata": {},
   "outputs": [],
   "source": [
    "new_dict = {\n",
    "    \"Antelope Valley Transit Authority\": \"Antelope Valley Transit Authority (AVTA)\",\n",
    "    \"Bay Area Rapid Transit District\": \"Bay Area Rapid Transit (BART)\",\n",
    "    \"Capitol Corridor Joint Powers Authority\": \"Capitol Corridor Joint Powers Authority (CCJPA)\",\n",
    "    \"Los Angeles County Metropolitan Transportation (LA Metro)\": \"Los Angeles County Metropolitan Transportation Authority (LA Metro)\",\n",
    "    \"Los Angeles County Metropolitan Transportation Authority\": \"Los Angeles County Metropolitan Transportation Authority (LA Metro)\",\n",
    "    \"Sacramento Regional Transit (SacRT)\": \"Sacramento Regional Transit District (SacRT)\",\n",
    "    \"Sacramento Regional Transit District\": \"Sacramento Regional Transit District (SacRT)\",\n",
    "    \"San Diego Metropolitan Transit System (SDMTS)\": \"San Diego Metropolitan Transit System (MTS)\",\n",
    "    \"San Francisco Bay Area Water Emergency Transportation Authority\": \"San Francisco Bay Area Water Emergency Transportation Authority (WETA)\",\n",
    "    \"San Francisco Municipal Transportation Agency\": \"San Francisco Municipal Transportation Authority (SFMTA)\",\n",
    "    \"Santa Barbara County Association of Governments\\n(SBCAG)\": \"Santa Barbara County Association of Governments (SBCAG)\",\n",
    "    \"Santa Clara Valley Transportation Authority\": \"Santa Clara Valley Transportation Authority (VTA)\",\n",
    "    \"Transportation Agency for Monterey County\": \"Transportation Agency for Monterey County (TAMC)\",\n",
    "}"
   ]
  },
  {
   "cell_type": "code",
   "execution_count": null,
   "id": "bf769e25-97fe-41eb-9ff5-c1bbda4200ad",
   "metadata": {},
   "outputs": [],
   "source": [
    "# replace the values in grant_recipient using dict\n",
    "# df.replace({'bus_desc': new_dict}, inplace=True)\n",
    "tircp = tircp.replace({\"grant_recipient\": new_dict})"
   ]
  },
  {
   "cell_type": "code",
   "execution_count": null,
   "id": "97e5ec8e-464a-451f-add3-5965a38d2e3a",
   "metadata": {},
   "outputs": [],
   "source": [
    "#see that some rows were consolidated\n",
    "display(tircp.grant_recipient.nunique())"
   ]
  },
  {
   "cell_type": "markdown",
   "id": "3a197b7b-29a6-46b8-adf5-e31b60c694e0",
   "metadata": {
    "jp-MarkdownHeadingCollapsed": true,
    "tags": []
   },
   "source": [
    "### Agreement Allocations-Export Cleaned data"
   ]
  },
  {
   "cell_type": "code",
   "execution_count": null,
   "id": "5150ed0b-2fcd-4825-b12c-1fdb6bef7e64",
   "metadata": {},
   "outputs": [],
   "source": [
    "tircp.to_csv(\n",
    "    \"gs://calitp-analytics-data/data-analyses/bus_procurement_cost/tircp_allocations_clean.csv\"\n",
    ")"
   ]
  },
  {
   "cell_type": "markdown",
   "id": "17549ca7-4ac2-4067-95ae-79e5547500f3",
   "metadata": {
    "jp-MarkdownHeadingCollapsed": true,
    "tags": []
   },
   "source": [
    "### Agreement Allocations-Read in Cleaned data from GCS"
   ]
  },
  {
   "cell_type": "code",
   "execution_count": null,
   "id": "7e27a6f9-c57f-4e13-ae94-6d13b2ef87ba",
   "metadata": {},
   "outputs": [],
   "source": [
    "tircp = pd.read_csv(\n",
    "    \"gs://calitp-analytics-data/data-analyses/bus_procurement_cost/tircp_allocations_clean.csv\"\n",
    ")"
   ]
  },
  {
   "cell_type": "code",
   "execution_count": null,
   "id": "6b29bc28-2f4e-4d6f-8ffc-2df929f7e27f",
   "metadata": {},
   "outputs": [],
   "source": [
    "display(tircp.shape, tircp.columns, tircp.head())"
   ]
  },
  {
   "cell_type": "markdown",
   "id": "eab85396-0dfd-43ef-b938-310745c9d518",
   "metadata": {
    "jp-MarkdownHeadingCollapsed": true,
    "tags": []
   },
   "source": [
    "### Agreement Allocations-Cost per Bus, per agency"
   ]
  },
  {
   "cell_type": "code",
   "execution_count": null,
   "id": "024b16e0-45c3-4497-b9b9-6470b3981479",
   "metadata": {},
   "outputs": [],
   "source": [
    "# filer to project with bus count values\n",
    "# caveat: some rows in \"component\" column state some variation of \"purchased buses\", but did not specify the amount of buses. \n",
    "# only rows stating the specificy number of buses purchased are included\n",
    "only_bus = tircp[tircp['#_of_buses']>0]\n"
   ]
  },
  {
   "cell_type": "code",
   "execution_count": null,
   "id": "02fab0b3-0c75-4220-8129-3402fb9b3007",
   "metadata": {},
   "outputs": [],
   "source": [
    "display(only_bus.shape)"
   ]
  },
  {
   "cell_type": "code",
   "execution_count": null,
   "id": "ca5e0397-b297-4236-a9c6-43d61d1021aa",
   "metadata": {},
   "outputs": [],
   "source": [
    "#aggregate # of buses and allocation by transit agency\n",
    "bus_cost = only_bus.groupby('grant_recipient').agg({\n",
    "    '#_of_buses':\"sum\",\n",
    "    'allocation_amount':'sum'\n",
    "}).reset_index()"
   ]
  },
  {
   "cell_type": "code",
   "execution_count": null,
   "id": "ddd7f056-4e8e-43be-9391-6b6c0574fc58",
   "metadata": {},
   "outputs": [],
   "source": [
    "bus_cost"
   ]
  },
  {
   "cell_type": "code",
   "execution_count": null,
   "id": "a699f202-6fdc-4261-8ed5-d0fc328aa7a1",
   "metadata": {},
   "outputs": [],
   "source": [
    "bus_cost['cost_per_bus']= ((bus_cost['allocation_amount'])/(bus_cost['#_of_buses'])).astype('int64')"
   ]
  },
  {
   "cell_type": "code",
   "execution_count": null,
   "id": "29bff029-a90d-4815-aa21-7405051d3063",
   "metadata": {},
   "outputs": [],
   "source": [
    "display(bus_cost.dtypes,bus_cost)"
   ]
  },
  {
   "cell_type": "code",
   "execution_count": null,
   "id": "d988e8f0-f655-4477-a1e0-a56f61df9e8b",
   "metadata": {},
   "outputs": [],
   "source": [
    "#exporting cost per bus\n",
    "bus_cost.to_csv(\"gs://calitp-analytics-data/data-analyses/bus_procurement_cost/tircp_allocation_cost_per_bus.csv\")"
   ]
  },
  {
   "cell_type": "markdown",
   "id": "1c2e30d8-2d49-4dcb-9c75-1a8b264bb011",
   "metadata": {
    "jp-MarkdownHeadingCollapsed": true,
    "tags": []
   },
   "source": [
    "### Agreement Allocations - Stat analysis"
   ]
  },
  {
   "cell_type": "code",
   "execution_count": null,
   "id": "02b1eb6a-559d-41a4-aa7f-982399dfe7f5",
   "metadata": {},
   "outputs": [],
   "source": []
  },
  {
   "cell_type": "code",
   "execution_count": null,
   "id": "4bda679f-ea66-4651-a389-80da221864d3",
   "metadata": {},
   "outputs": [],
   "source": [
    "bus_cost"
   ]
  },
  {
   "cell_type": "code",
   "execution_count": null,
   "id": "3f7b6bd6-f0e1-476b-ac36-b695f88536d6",
   "metadata": {},
   "outputs": [],
   "source": [
    "plt.figure(\n",
    "plt.hist(bus_cost['cost_per_bus'],density=True)\n",
    "plt.show()"
   ]
  },
  {
   "cell_type": "markdown",
   "id": "1de41d29-4183-41a3-b6af-58e1d676f788",
   "metadata": {},
   "source": [
    "## PROJECT TRACKING SHEET DATA"
   ]
  },
  {
   "cell_type": "markdown",
   "id": "b29ced72-1fd8-40aa-95c0-178a4db4a36b",
   "metadata": {
    "tags": []
   },
   "source": [
    "### project tracking -  read raw data\n"
   ]
  },
  {
   "cell_type": "code",
   "execution_count": 4,
   "id": "c476bd51-b8a5-4545-9789-0307e85c6161",
   "metadata": {},
   "outputs": [],
   "source": [
    "url = \"gs://calitp-analytics-data/data-analyses/bus_procurement_cost/TIRCP Tracking Sheets 2_1-10-2024.xlsx\"\n",
    "sheet_name = \"Project Tracking\""
   ]
  },
  {
   "cell_type": "code",
   "execution_count": 5,
   "id": "e054774e-f091-47cd-9dcd-fed2268094c9",
   "metadata": {},
   "outputs": [
    {
     "name": "stderr",
     "output_type": "stream",
     "text": [
      "/opt/conda/lib/python3.9/site-packages/openpyxl/worksheet/_reader.py:312: UserWarning: Data Validation extension is not supported and will be removed\n",
      "  warn(msg)\n"
     ]
    }
   ],
   "source": [
    "project = pd.read_excel(url, sheet_name)"
   ]
  },
  {
   "cell_type": "code",
   "execution_count": 6,
   "id": "767d535b-84ce-4884-8145-390c7d38b879",
   "metadata": {},
   "outputs": [
    {
     "data": {
      "text/plain": [
       "(124, 49)"
      ]
     },
     "metadata": {},
     "output_type": "display_data"
    },
    {
     "data": {
      "text/plain": [
       "Index(['Award Year', 'Project #', 'Grant Recipient', 'Project Title', 'PPNO',\n",
       "       'District', 'County', 'Project Description', 'bus_count',\n",
       "       'Master Agreement Number', 'Master Agreement Expiration Date',\n",
       "       'Project Manager', 'Regional Coordinator',\n",
       "       'Technical Assistance-CALITP (Y/N)', 'Technical Assistance-Fleet (Y/N)',\n",
       "       'Technical Assistance-Network Integration (Y/N)',\n",
       "       'Technical Assistance-Priority Population (Y/N)', 'Total Project Cost',\n",
       "       'TIRCP Award Amount ($)', 'Allocated Amount', 'Unallocated Amount',\n",
       "       'Percentage Allocated', 'Expended Amount', 'Other Funds Involved',\n",
       "       'Award Cycle', 'Is SB1?', 'Is GGRF?', 'Is IIJA?', 'ON SHS?', 'CalITP',\n",
       "       'Estimated TIRCP GHG Reductions', 'Estemated Project Completion',\n",
       "       'Estimated TIRCP GHG Reductions2', 'Increased Ridership',\n",
       "       'Service Integration', 'Improve Safety', 'Project Readiness',\n",
       "       'Funding Leverage', 'Multi-Agency Coordination/Integration',\n",
       "       'AB 1550 Community Benefits', 'Housing Co-Benefits',\n",
       "       'Local Agency Address', 'Local Agency City', 'Local Agency Zip',\n",
       "       'Local Agency Contact', 'Local Agency Email',\n",
       "       'Local Agency Phone Number', 'Comments/Additional Contacts',\n",
       "       'S California'],\n",
       "      dtype='object')"
      ]
     },
     "metadata": {},
     "output_type": "display_data"
    },
    {
     "data": {
      "text/plain": [
       "Award Year                                          int64\n",
       "Project #                                           int64\n",
       "Grant Recipient                                    object\n",
       "Project Title                                      object\n",
       "PPNO                                               object\n",
       "District                                           object\n",
       "County                                             object\n",
       "Project Description                                object\n",
       "bus_count                                         float64\n",
       "Master Agreement Number                            object\n",
       "Master Agreement Expiration Date                   object\n",
       "Project Manager                                    object\n",
       "Regional Coordinator                               object\n",
       "Technical Assistance-CALITP (Y/N)                  object\n",
       "Technical Assistance-Fleet (Y/N)                   object\n",
       "Technical Assistance-Network Integration (Y/N)     object\n",
       "Technical Assistance-Priority Population (Y/N)     object\n",
       "Total Project Cost                                  int64\n",
       "TIRCP Award Amount ($)                              int64\n",
       "Allocated Amount                                    int64\n",
       "Unallocated Amount                                  int64\n",
       "Percentage Allocated                              float64\n",
       "Expended Amount                                   float64\n",
       "Other Funds Involved                               object\n",
       "Award Cycle                                        object\n",
       "Is SB1?                                            object\n",
       "Is GGRF?                                           object\n",
       "Is IIJA?                                           object\n",
       "ON SHS?                                           float64\n",
       "CalITP                                            float64\n",
       "Estimated TIRCP GHG Reductions                     object\n",
       "Estemated Project Completion                       object\n",
       "Estimated TIRCP GHG Reductions2                    object\n",
       "Increased Ridership                                object\n",
       "Service Integration                                object\n",
       "Improve Safety                                     object\n",
       "Project Readiness                                  object\n",
       "Funding Leverage                                   object\n",
       "Multi-Agency Coordination/Integration              object\n",
       "AB 1550 Community Benefits                         object\n",
       "Housing Co-Benefits                                object\n",
       "Local Agency Address                               object\n",
       "Local Agency City                                  object\n",
       "Local Agency Zip                                   object\n",
       "Local Agency Contact                               object\n",
       "Local Agency Email                                 object\n",
       "Local Agency Phone Number                          object\n",
       "Comments/Additional Contacts                       object\n",
       "S California                                       object\n",
       "dtype: object"
      ]
     },
     "metadata": {},
     "output_type": "display_data"
    }
   ],
   "source": [
    "display(\n",
    "    project.shape,\n",
    "    project.columns,\n",
    "    project.dtypes,\n",
    ")"
   ]
  },
  {
   "cell_type": "markdown",
   "id": "2e9e142b-92aa-47c5-b97a-d83852dbc4a5",
   "metadata": {
    "tags": []
   },
   "source": [
    "## Project Tracking- data cleaning"
   ]
  },
  {
   "cell_type": "markdown",
   "id": "88b2f5ce-af56-4e9c-b854-9c31e0c6a853",
   "metadata": {
    "jp-MarkdownHeadingCollapsed": true,
    "tags": []
   },
   "source": [
    "### data frame cleaning"
   ]
  },
  {
   "cell_type": "code",
   "execution_count": 7,
   "id": "e6b9047c-eda3-4631-9a1c-3338abf6c281",
   "metadata": {},
   "outputs": [],
   "source": [
    "#only keep first couple of columns\n",
    "#tircp = tircp.iloc[:, :12]\n",
    "project = project.iloc[:, :20]"
   ]
  },
  {
   "cell_type": "code",
   "execution_count": 8,
   "id": "75c5cbb1-4f8c-4c7b-838b-1c0f139b8a0a",
   "metadata": {},
   "outputs": [
    {
     "data": {
      "text/plain": [
       "['Award Year',\n",
       " 'Project #',\n",
       " 'Grant Recipient',\n",
       " 'Project Title',\n",
       " 'PPNO',\n",
       " 'District',\n",
       " 'County',\n",
       " 'Project Description',\n",
       " 'bus_count',\n",
       " 'Master Agreement Number',\n",
       " 'Master Agreement Expiration Date',\n",
       " 'Project Manager',\n",
       " 'Regional Coordinator',\n",
       " 'Technical Assistance-CALITP (Y/N)',\n",
       " 'Technical Assistance-Fleet (Y/N)',\n",
       " 'Technical Assistance-Network Integration (Y/N)',\n",
       " 'Technical Assistance-Priority Population (Y/N)',\n",
       " 'Total Project Cost',\n",
       " 'TIRCP Award Amount ($)',\n",
       " 'Allocated Amount']"
      ]
     },
     "execution_count": 8,
     "metadata": {},
     "output_type": "execute_result"
    }
   ],
   "source": [
    "list(project.columns)"
   ]
  },
  {
   "cell_type": "code",
   "execution_count": 9,
   "id": "6692bddd-e46d-415f-abeb-287578f15b74",
   "metadata": {},
   "outputs": [],
   "source": [
    "#drop specific columns\n",
    "drop_col=[\n",
    " 'Master Agreement Expiration Date',\n",
    " 'Project Manager',\n",
    " 'Regional Coordinator',\n",
    " 'Technical Assistance-CALITP (Y/N)',\n",
    " 'Technical Assistance-Fleet (Y/N)',\n",
    " 'Technical Assistance-Network Integration (Y/N)',\n",
    " 'Technical Assistance-Priority Population (Y/N)',]"
   ]
  },
  {
   "cell_type": "code",
   "execution_count": 10,
   "id": "d2e692da-16fc-4f97-946f-a1e6fb3414e8",
   "metadata": {},
   "outputs": [],
   "source": [
    "project.drop(columns=drop_col, inplace=True)"
   ]
  },
  {
   "cell_type": "code",
   "execution_count": 12,
   "id": "e7b312e7-3676-415b-bc3c-8bf2d95694ee",
   "metadata": {},
   "outputs": [
    {
     "data": {
      "text/plain": [
       "13"
      ]
     },
     "execution_count": 12,
     "metadata": {},
     "output_type": "execute_result"
    }
   ],
   "source": [
    "len(project.columns)"
   ]
  },
  {
   "cell_type": "code",
   "execution_count": 13,
   "id": "3a39fe55-6664-49ce-979e-e158ae27f795",
   "metadata": {},
   "outputs": [],
   "source": [
    "#replace space with _ & lower everything\n",
    "project.columns =project.columns.str.replace(' ','_')\n",
    "project.columns=project.columns.str.lower()"
   ]
  },
  {
   "cell_type": "code",
   "execution_count": 14,
   "id": "4937d3c4-f5df-4a42-84ea-161ec61e637b",
   "metadata": {},
   "outputs": [
    {
     "data": {
      "text/plain": [
       "Index(['award_year', 'project_#', 'grant_recipient', 'project_title', 'ppno',\n",
       "       'district', 'county', 'project_description', 'bus_count',\n",
       "       'master_agreement_number', 'total_project_cost',\n",
       "       'tircp_award_amount_($)', 'allocated_amount'],\n",
       "      dtype='object')"
      ]
     },
     "execution_count": 14,
     "metadata": {},
     "output_type": "execute_result"
    }
   ],
   "source": [
    "#check work\n",
    "project.columns"
   ]
  },
  {
   "cell_type": "markdown",
   "id": "4372f730-9137-4e33-a45e-6563abdf4085",
   "metadata": {},
   "source": [
    "### check columns\n",
    "check values of all columns to see if:\n",
    "-any duplicates values\n",
    "-invalid int/str values\n"
   ]
  },
  {
   "cell_type": "code",
   "execution_count": 16,
   "id": "83152dd0-e2a4-4892-9019-ceb28ce00f5f",
   "metadata": {},
   "outputs": [
    {
     "data": {
      "text/plain": [
       "Index(['award_year', 'project_#', 'grant_recipient', 'project_title', 'ppno',\n",
       "       'district', 'county', 'project_description', 'bus_count',\n",
       "       'master_agreement_number', 'total_project_cost',\n",
       "       'tircp_award_amount_($)', 'allocated_amount'],\n",
       "      dtype='object')"
      ]
     },
     "execution_count": 16,
     "metadata": {},
     "output_type": "execute_result"
    }
   ],
   "source": [
    "project.columns"
   ]
  },
  {
   "cell_type": "code",
   "execution_count": 49,
   "id": "b5f5a0d4-8616-44cf-82ab-08dcc0bc58c7",
   "metadata": {},
   "outputs": [],
   "source": [
    "#function to check column information\n",
    "\n",
    "def col_checker(col):\n",
    "    display(f'Displaying column: {col}',\n",
    "        len(project[col]),\n",
    "        list(project[col].sort_values(ascending=True).unique())\n",
    "           )"
   ]
  },
  {
   "cell_type": "code",
   "execution_count": null,
   "id": "94f27bed-11ce-480d-bcf5-5c2ed07b03a8",
   "metadata": {},
   "outputs": [],
   "source": [
    "#Col is OK, but will drop\n",
    "col_checker('allocated_amount')"
   ]
  },
  {
   "cell_type": "code",
   "execution_count": null,
   "id": "24b1a759-280a-4a2b-9900-327cdf073c59",
   "metadata": {},
   "outputs": [],
   "source": [
    "#col is OK, all numbers\n",
    "col_checker('tircp_award_amount_($)')"
   ]
  },
  {
   "cell_type": "code",
   "execution_count": null,
   "id": "f912f6d4-4b1e-4868-9fe9-4e4c85124e9a",
   "metadata": {},
   "outputs": [],
   "source": [
    "#col is good, everything is a number\n",
    "col_checker('total_project_cost')"
   ]
  },
  {
   "cell_type": "code",
   "execution_count": null,
   "id": "a584257f-455a-4939-9897-085e1c7f95f1",
   "metadata": {},
   "outputs": [],
   "source": [
    "#col is OK\n",
    "col_checker('master_agreement_number')"
   ]
  },
  {
   "cell_type": "code",
   "execution_count": null,
   "id": "3d39123d-1e8b-458e-8b18-8113666de00f",
   "metadata": {},
   "outputs": [],
   "source": [
    "#col is OK\n",
    "col_checker('bus_count')"
   ]
  },
  {
   "cell_type": "code",
   "execution_count": null,
   "id": "022bba0f-73c7-4ae2-9986-ae234dd5517b",
   "metadata": {},
   "outputs": [],
   "source": [
    "# column is OK\n",
    "col_checker('project_description')"
   ]
  },
  {
   "cell_type": "code",
   "execution_count": null,
   "id": "c74990d4-bda0-4615-9494-832f7b44f3f3",
   "metadata": {},
   "outputs": [],
   "source": [
    "#may need to clean, there are rows that say '3, 4' \n",
    "col_checker('county')"
   ]
  },
  {
   "cell_type": "code",
   "execution_count": null,
   "id": "00cc4687-19d7-4af3-81f9-37e66cd6cb33",
   "metadata": {},
   "outputs": [],
   "source": [
    "#Move to cleaning, check what is 'VAR'. various?\n",
    "#may be ok just check to make sure\n",
    "project.district.unique()"
   ]
  },
  {
   "cell_type": "code",
   "execution_count": null,
   "id": "d77f19e7-87cb-4ae0-acd0-829addb935b6",
   "metadata": {},
   "outputs": [],
   "source": [
    "project[project['district']=='VAR']"
   ]
  },
  {
   "cell_type": "code",
   "execution_count": null,
   "id": "e71ef09e-c7e5-4cdb-8e48-1be0ad1fa087",
   "metadata": {},
   "outputs": [],
   "source": [
    "#couldnt run col_checker, guessing because some PPNO numbers are inconsistent\n",
    "#may need to clean, there is a ppno of CP052/CP053\n",
    "project.ppno.unique()"
   ]
  },
  {
   "cell_type": "code",
   "execution_count": null,
   "id": "b1526686-6a92-4567-92df-0cf27c25ff01",
   "metadata": {},
   "outputs": [],
   "source": [
    "#Project title OK, \n",
    "col_checker('project_title')"
   ]
  },
  {
   "cell_type": "code",
   "execution_count": null,
   "id": "55860953-f885-4e1d-ae02-f4d8d6be46bf",
   "metadata": {},
   "outputs": [],
   "source": [
    "# grant_recipient need to clean\n",
    "col_checker('grant_recipient')"
   ]
  },
  {
   "cell_type": "code",
   "execution_count": null,
   "id": "9dc1361f-6d1e-4067-8cf3-738f4fe9ad85",
   "metadata": {},
   "outputs": [],
   "source": [
    "#award year OK\n",
    "col_checker('award_year')"
   ]
  },
  {
   "cell_type": "code",
   "execution_count": null,
   "id": "e50bb102-bdab-45f2-af8e-ccca23f25247",
   "metadata": {},
   "outputs": [],
   "source": [
    "#project num OK\n",
    "col_checker('project_#')"
   ]
  },
  {
   "cell_type": "markdown",
   "id": "3f4e1191-979e-4a31-bce3-296fabc586dc",
   "metadata": {},
   "source": [
    "### Cleaning "
   ]
  },
  {
   "cell_type": "markdown",
   "id": "51f95400-1198-46a6-a41a-fef99b3a2ffa",
   "metadata": {
    "jp-MarkdownHeadingCollapsed": true,
    "tags": []
   },
   "source": [
    "### filter df for project descriptions that contain bus"
   ]
  },
  {
   "cell_type": "code",
   "execution_count": null,
   "id": "fc9ee142-13b2-4fc2-86af-d712ab5df6c4",
   "metadata": {},
   "outputs": [],
   "source": [
    "bus_only = project[project['bus_count']>0]"
   ]
  },
  {
   "cell_type": "code",
   "execution_count": null,
   "id": "c65b773e-dd41-4c95-8e6b-2132e5d7e978",
   "metadata": {},
   "outputs": [],
   "source": [
    "#this looks correct\n",
    "display(project.shape,\n",
    "        bus_only.shape)"
   ]
  },
  {
   "cell_type": "markdown",
   "id": "1b95f567-13fc-4184-8b09-f512f702f3f0",
   "metadata": {
    "jp-MarkdownHeadingCollapsed": true,
    "tags": []
   },
   "source": [
    "### export project- bus only df"
   ]
  },
  {
   "cell_type": "code",
   "execution_count": null,
   "id": "cecea030-b37a-4170-9997-656e8bd0c080",
   "metadata": {},
   "outputs": [],
   "source": [
    "bus_only.to_csv('gs://calitp-analytics-data/data-analyses/bus_procurement_cost/tircp_project_bus_only.csv')"
   ]
  },
  {
   "cell_type": "markdown",
   "id": "1ea926da-8d76-481c-a5fb-ef39606f45ca",
   "metadata": {
    "tags": []
   },
   "source": [
    "### Read in project bus only data\n"
   ]
  },
  {
   "cell_type": "code",
   "execution_count": 2,
   "id": "abaf10b2-0dc3-432d-845a-8dacb2af806f",
   "metadata": {},
   "outputs": [],
   "source": [
    "bus_only= pd.read_csv('gs://calitp-analytics-data/data-analyses/bus_procurement_cost/tircp_project_bus_only.csv')"
   ]
  },
  {
   "cell_type": "code",
   "execution_count": null,
   "id": "ab4b7cf3-183e-4ea1-baca-e3f5d0bd9dd6",
   "metadata": {},
   "outputs": [],
   "source": [
    "display(bus_only.shape,\n",
    "        bus_only.columns,\n",
    "        bus_only.head())"
   ]
  },
  {
   "cell_type": "code",
   "execution_count": null,
   "id": "aab862f1-7aa2-47ea-a5bc-52483b097c1e",
   "metadata": {},
   "outputs": [],
   "source": [
    "#inspect columns values.\n",
    "list(bus_only['grant_recipient'].sort_values().unique())\n",
    "#everything looks good"
   ]
  },
  {
   "cell_type": "markdown",
   "id": "02cce57d-f82c-4f85-be53-814538b6b6c3",
   "metadata": {
    "tags": []
   },
   "source": [
    "### Consolidate up grant recipient name"
   ]
  },
  {
   "cell_type": "code",
   "execution_count": 3,
   "id": "e98893df-a0f5-4fbd-af6a-8fb58602a556",
   "metadata": {},
   "outputs": [],
   "source": [
    "new_dict ={\n",
    " 'Antelope Valley Transit Authority ':'Antelope Valley Transit Authority (AVTA)',\n",
    " 'Humboldt Transit Authority':'Humboldt Transit Authority (HTA)',\n",
    " 'Orange County Transportation Authority':'Orange County Transportation Authority (OCTA)',\n",
    "}"
   ]
  },
  {
   "cell_type": "code",
   "execution_count": 4,
   "id": "41eedd51-e052-4462-bf8f-e14bea1df7cc",
   "metadata": {},
   "outputs": [],
   "source": [
    "#df.replace({'bus_desc': new_dict}, inplace=True)\n",
    "bus_only.replace({'grant_recipient': new_dict}, inplace=True)"
   ]
  },
  {
   "cell_type": "code",
   "execution_count": null,
   "id": "195fb532-8154-4ca1-ae6a-81b16d6f031e",
   "metadata": {},
   "outputs": [],
   "source": [
    "list(bus_only['grant_recipient'].sort_values().unique())"
   ]
  },
  {
   "cell_type": "markdown",
   "id": "a5d0e920-cfd9-465f-89eb-81214b27070a",
   "metadata": {
    "tags": []
   },
   "source": [
    "### aggregate up"
   ]
  },
  {
   "cell_type": "code",
   "execution_count": 5,
   "id": "a0a396f0-c9ad-48bd-9767-45b5a8b53d25",
   "metadata": {},
   "outputs": [],
   "source": [
    "#aggregate # of buses and allocation by transit agency\n",
    "#bus_cost = only_bus.groupby('grant_recipient').agg({\n",
    "#    '#_of_buses':\"sum\",\n",
    "#    'allocation_amount':'sum'\n",
    "#}).reset_index()\n",
    "\n",
    "bus_cost = bus_only.groupby('grant_recipient').agg({\n",
    "    'bus_count':'sum',\n",
    "    'tircp_award_amount_($)': 'sum'\n",
    "}).reset_index()"
   ]
  },
  {
   "cell_type": "code",
   "execution_count": null,
   "id": "c5c8dfa3-310f-47bd-8d95-2eed37feec73",
   "metadata": {},
   "outputs": [],
   "source": [
    "#confirm aggregation worked\n",
    "bus_cost"
   ]
  },
  {
   "cell_type": "markdown",
   "id": "0f074183-9110-41fc-820b-4483fe9b076b",
   "metadata": {
    "tags": []
   },
   "source": [
    "## create new cost per bus column"
   ]
  },
  {
   "cell_type": "code",
   "execution_count": 6,
   "id": "391fdd1a-585b-43e4-b70b-18c7f54a8263",
   "metadata": {},
   "outputs": [],
   "source": [
    "bus_cost['cost_per_bus']= (bus_cost['tircp_award_amount_($)']/bus_cost['bus_count']).astype('int64')"
   ]
  },
  {
   "cell_type": "code",
   "execution_count": 7,
   "id": "3219820e-0d80-4c1b-92c5-f098f09a22a9",
   "metadata": {},
   "outputs": [
    {
     "data": {
      "text/html": [
       "<div>\n",
       "<style scoped>\n",
       "    .dataframe tbody tr th:only-of-type {\n",
       "        vertical-align: middle;\n",
       "    }\n",
       "\n",
       "    .dataframe tbody tr th {\n",
       "        vertical-align: top;\n",
       "    }\n",
       "\n",
       "    .dataframe thead th {\n",
       "        text-align: right;\n",
       "    }\n",
       "</style>\n",
       "<table border=\"1\" class=\"dataframe\">\n",
       "  <thead>\n",
       "    <tr style=\"text-align: right;\">\n",
       "      <th></th>\n",
       "      <th>grant_recipient</th>\n",
       "      <th>bus_count</th>\n",
       "      <th>tircp_award_amount_($)</th>\n",
       "      <th>cost_per_bus</th>\n",
       "    </tr>\n",
       "  </thead>\n",
       "  <tbody>\n",
       "    <tr>\n",
       "      <th>22</th>\n",
       "      <td>Santa Monica Big Blue Bus</td>\n",
       "      <td>7.0</td>\n",
       "      <td>1105000</td>\n",
       "      <td>157857</td>\n",
       "    </tr>\n",
       "    <tr>\n",
       "      <th>7</th>\n",
       "      <td>City of Santa Monica</td>\n",
       "      <td>113.0</td>\n",
       "      <td>26027000</td>\n",
       "      <td>230327</td>\n",
       "    </tr>\n",
       "    <tr>\n",
       "      <th>12</th>\n",
       "      <td>Foothill Transit</td>\n",
       "      <td>20.0</td>\n",
       "      <td>5000000</td>\n",
       "      <td>250000</td>\n",
       "    </tr>\n",
       "    <tr>\n",
       "      <th>5</th>\n",
       "      <td>City of Los Angeles (LA DOT)</td>\n",
       "      <td>112.0</td>\n",
       "      <td>36104000</td>\n",
       "      <td>322357</td>\n",
       "    </tr>\n",
       "    <tr>\n",
       "      <th>10</th>\n",
       "      <td>City of Wasco</td>\n",
       "      <td>3.0</td>\n",
       "      <td>1000000</td>\n",
       "      <td>333333</td>\n",
       "    </tr>\n",
       "    <tr>\n",
       "      <th>6</th>\n",
       "      <td>City of Pasadena</td>\n",
       "      <td>40.0</td>\n",
       "      <td>14424000</td>\n",
       "      <td>360600</td>\n",
       "    </tr>\n",
       "    <tr>\n",
       "      <th>19</th>\n",
       "      <td>San Joaquin Regional Transit District (SJRTD)</td>\n",
       "      <td>12.0</td>\n",
       "      <td>6841000</td>\n",
       "      <td>570083</td>\n",
       "    </tr>\n",
       "    <tr>\n",
       "      <th>18</th>\n",
       "      <td>Orange County Transportation Authority (OCTA)</td>\n",
       "      <td>73.0</td>\n",
       "      <td>41727000</td>\n",
       "      <td>571602</td>\n",
       "    </tr>\n",
       "    <tr>\n",
       "      <th>23</th>\n",
       "      <td>Shasta Regional Transportation Agency (SRTA)</td>\n",
       "      <td>14.0</td>\n",
       "      <td>8641000</td>\n",
       "      <td>617214</td>\n",
       "    </tr>\n",
       "    <tr>\n",
       "      <th>11</th>\n",
       "      <td>Culver City</td>\n",
       "      <td>5.0</td>\n",
       "      <td>3247000</td>\n",
       "      <td>649400</td>\n",
       "    </tr>\n",
       "    <tr>\n",
       "      <th>17</th>\n",
       "      <td>Los Angeles County Metropolitan Transportation...</td>\n",
       "      <td>261.0</td>\n",
       "      <td>177500000</td>\n",
       "      <td>680076</td>\n",
       "    </tr>\n",
       "    <tr>\n",
       "      <th>0</th>\n",
       "      <td>Anaheim Transportation Network (ATN)</td>\n",
       "      <td>65.0</td>\n",
       "      <td>51395000</td>\n",
       "      <td>790692</td>\n",
       "    </tr>\n",
       "    <tr>\n",
       "      <th>25</th>\n",
       "      <td>Sonoma County Transportation Authority (SCTA)</td>\n",
       "      <td>30.0</td>\n",
       "      <td>24825000</td>\n",
       "      <td>827500</td>\n",
       "    </tr>\n",
       "    <tr>\n",
       "      <th>24</th>\n",
       "      <td>Solano Transportation Authority (STA)</td>\n",
       "      <td>13.0</td>\n",
       "      <td>10788000</td>\n",
       "      <td>829846</td>\n",
       "    </tr>\n",
       "    <tr>\n",
       "      <th>26</th>\n",
       "      <td>Torrance Transit Department</td>\n",
       "      <td>7.0</td>\n",
       "      <td>6000000</td>\n",
       "      <td>857142</td>\n",
       "    </tr>\n",
       "    <tr>\n",
       "      <th>29</th>\n",
       "      <td>Yuba-Sutter Transit</td>\n",
       "      <td>16.0</td>\n",
       "      <td>13725000</td>\n",
       "      <td>857812</td>\n",
       "    </tr>\n",
       "    <tr>\n",
       "      <th>1</th>\n",
       "      <td>Antelope Valley Transit Authority (AVTA)</td>\n",
       "      <td>36.0</td>\n",
       "      <td>35735000</td>\n",
       "      <td>992638</td>\n",
       "    </tr>\n",
       "    <tr>\n",
       "      <th>27</th>\n",
       "      <td>Transit Joint Powers Authority of Merced County</td>\n",
       "      <td>3.0</td>\n",
       "      <td>3112000</td>\n",
       "      <td>1037333</td>\n",
       "    </tr>\n",
       "    <tr>\n",
       "      <th>8</th>\n",
       "      <td>City of Simi Valley</td>\n",
       "      <td>6.0</td>\n",
       "      <td>7053000</td>\n",
       "      <td>1175500</td>\n",
       "    </tr>\n",
       "    <tr>\n",
       "      <th>4</th>\n",
       "      <td>City of Glendale and Arroyo Verdugo Communities</td>\n",
       "      <td>27.0</td>\n",
       "      <td>34648000</td>\n",
       "      <td>1283259</td>\n",
       "    </tr>\n",
       "    <tr>\n",
       "      <th>16</th>\n",
       "      <td>Long Beach Transit (LBT)</td>\n",
       "      <td>5.0</td>\n",
       "      <td>6451000</td>\n",
       "      <td>1290200</td>\n",
       "    </tr>\n",
       "    <tr>\n",
       "      <th>3</th>\n",
       "      <td>City of Fresno</td>\n",
       "      <td>6.0</td>\n",
       "      <td>7798000</td>\n",
       "      <td>1299666</td>\n",
       "    </tr>\n",
       "    <tr>\n",
       "      <th>21</th>\n",
       "      <td>Santa Cruz Metropolitan Transit District (Metro)</td>\n",
       "      <td>24.0</td>\n",
       "      <td>38589000</td>\n",
       "      <td>1607875</td>\n",
       "    </tr>\n",
       "    <tr>\n",
       "      <th>20</th>\n",
       "      <td>Santa Barbara Metropolitan Transit District (S...</td>\n",
       "      <td>8.0</td>\n",
       "      <td>14480000</td>\n",
       "      <td>1810000</td>\n",
       "    </tr>\n",
       "    <tr>\n",
       "      <th>2</th>\n",
       "      <td>Antelope Valley Transit Authority (AVTA) &amp; Lon...</td>\n",
       "      <td>7.0</td>\n",
       "      <td>13156000</td>\n",
       "      <td>1879428</td>\n",
       "    </tr>\n",
       "    <tr>\n",
       "      <th>14</th>\n",
       "      <td>Humboldt Transit Authority (HTA) with Yurok Tr...</td>\n",
       "      <td>4.0</td>\n",
       "      <td>8612000</td>\n",
       "      <td>2153000</td>\n",
       "    </tr>\n",
       "    <tr>\n",
       "      <th>28</th>\n",
       "      <td>Tulare County Regional Transit Agency (TCRTA)</td>\n",
       "      <td>14.0</td>\n",
       "      <td>33769000</td>\n",
       "      <td>2412071</td>\n",
       "    </tr>\n",
       "    <tr>\n",
       "      <th>15</th>\n",
       "      <td>Lake Transit Authority (LTA)</td>\n",
       "      <td>4.0</td>\n",
       "      <td>12994000</td>\n",
       "      <td>3248500</td>\n",
       "    </tr>\n",
       "    <tr>\n",
       "      <th>13</th>\n",
       "      <td>Humboldt Transit Authority (HTA)</td>\n",
       "      <td>11.0</td>\n",
       "      <td>38743000</td>\n",
       "      <td>3522090</td>\n",
       "    </tr>\n",
       "    <tr>\n",
       "      <th>9</th>\n",
       "      <td>City of Torrance</td>\n",
       "      <td>10.0</td>\n",
       "      <td>96000000</td>\n",
       "      <td>9600000</td>\n",
       "    </tr>\n",
       "  </tbody>\n",
       "</table>\n",
       "</div>"
      ],
      "text/plain": [
       "                                      grant_recipient  bus_count  \\\n",
       "22                          Santa Monica Big Blue Bus        7.0   \n",
       "7                                City of Santa Monica      113.0   \n",
       "12                                   Foothill Transit       20.0   \n",
       "5                        City of Los Angeles (LA DOT)      112.0   \n",
       "10                                      City of Wasco        3.0   \n",
       "6                                    City of Pasadena       40.0   \n",
       "19      San Joaquin Regional Transit District (SJRTD)       12.0   \n",
       "18      Orange County Transportation Authority (OCTA)       73.0   \n",
       "23       Shasta Regional Transportation Agency (SRTA)       14.0   \n",
       "11                                        Culver City        5.0   \n",
       "17  Los Angeles County Metropolitan Transportation...      261.0   \n",
       "0                Anaheim Transportation Network (ATN)       65.0   \n",
       "25      Sonoma County Transportation Authority (SCTA)       30.0   \n",
       "24              Solano Transportation Authority (STA)       13.0   \n",
       "26                        Torrance Transit Department        7.0   \n",
       "29                                Yuba-Sutter Transit       16.0   \n",
       "1            Antelope Valley Transit Authority (AVTA)       36.0   \n",
       "27    Transit Joint Powers Authority of Merced County        3.0   \n",
       "8                                 City of Simi Valley        6.0   \n",
       "4     City of Glendale and Arroyo Verdugo Communities       27.0   \n",
       "16                           Long Beach Transit (LBT)        5.0   \n",
       "3                                      City of Fresno        6.0   \n",
       "21   Santa Cruz Metropolitan Transit District (Metro)       24.0   \n",
       "20  Santa Barbara Metropolitan Transit District (S...        8.0   \n",
       "2   Antelope Valley Transit Authority (AVTA) & Lon...        7.0   \n",
       "14  Humboldt Transit Authority (HTA) with Yurok Tr...        4.0   \n",
       "28      Tulare County Regional Transit Agency (TCRTA)       14.0   \n",
       "15                       Lake Transit Authority (LTA)        4.0   \n",
       "13                   Humboldt Transit Authority (HTA)       11.0   \n",
       "9                                    City of Torrance       10.0   \n",
       "\n",
       "    tircp_award_amount_($)  cost_per_bus  \n",
       "22                 1105000        157857  \n",
       "7                 26027000        230327  \n",
       "12                 5000000        250000  \n",
       "5                 36104000        322357  \n",
       "10                 1000000        333333  \n",
       "6                 14424000        360600  \n",
       "19                 6841000        570083  \n",
       "18                41727000        571602  \n",
       "23                 8641000        617214  \n",
       "11                 3247000        649400  \n",
       "17               177500000        680076  \n",
       "0                 51395000        790692  \n",
       "25                24825000        827500  \n",
       "24                10788000        829846  \n",
       "26                 6000000        857142  \n",
       "29                13725000        857812  \n",
       "1                 35735000        992638  \n",
       "27                 3112000       1037333  \n",
       "8                  7053000       1175500  \n",
       "4                 34648000       1283259  \n",
       "16                 6451000       1290200  \n",
       "3                  7798000       1299666  \n",
       "21                38589000       1607875  \n",
       "20                14480000       1810000  \n",
       "2                 13156000       1879428  \n",
       "14                 8612000       2153000  \n",
       "28                33769000       2412071  \n",
       "15                12994000       3248500  \n",
       "13                38743000       3522090  \n",
       "9                 96000000       9600000  "
      ]
     },
     "execution_count": 7,
     "metadata": {},
     "output_type": "execute_result"
    }
   ],
   "source": [
    "#confirm new column was created and values were populated\n",
    "bus_cost.sort_values('cost_per_bus')"
   ]
  },
  {
   "cell_type": "markdown",
   "id": "7c2df629-863e-476f-8f1c-934535a1feb0",
   "metadata": {},
   "source": [
    "## Export cost per bus via project tracking sheet to gcs"
   ]
  },
  {
   "cell_type": "code",
   "execution_count": 8,
   "id": "b7ad9fe7-a705-4138-8f3d-138f6d0146f6",
   "metadata": {},
   "outputs": [],
   "source": [
    "bus_cost.to_csv('gs://calitp-analytics-data/data-analyses/bus_procurement_cost/tircp_project_cost_per_bus.csv')"
   ]
  },
  {
   "cell_type": "code",
   "execution_count": null,
   "id": "b6946ba9-55e8-4e53-9da9-56310e9c3661",
   "metadata": {},
   "outputs": [],
   "source": []
  }
 ],
 "metadata": {
  "kernelspec": {
   "display_name": "Python 3 (ipykernel)",
   "language": "python",
   "name": "python3"
  },
  "language_info": {
   "codemirror_mode": {
    "name": "ipython",
    "version": 3
   },
   "file_extension": ".py",
   "mimetype": "text/x-python",
   "name": "python",
   "nbconvert_exporter": "python",
   "pygments_lexer": "ipython3",
   "version": "3.9.13"
  }
 },
 "nbformat": 4,
 "nbformat_minor": 5
}
