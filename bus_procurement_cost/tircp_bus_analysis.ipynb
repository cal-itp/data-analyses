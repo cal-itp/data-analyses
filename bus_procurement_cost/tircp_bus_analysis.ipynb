{
 "cells": [
  {
   "cell_type": "markdown",
   "id": "e767add0-6871-46de-b480-d77ae7d62819",
   "metadata": {},
   "source": [
    "Intro"
   ]
  },
  {
   "cell_type": "code",
   "execution_count": 1,
   "id": "7e2bb160-f2fa-49a0-9cbf-b0796599f1d1",
   "metadata": {},
   "outputs": [],
   "source": [
    "import pandas as pd\n",
    "import shared_utils\n",
    "import matplotlib as plt\n",
    "#set_option to increase max rows displayed to 200, to see entire df in 1 go/\n",
    "pd.set_option(\"display.max_rows\", 200)"
   ]
  },
  {
   "cell_type": "code",
   "execution_count": 10,
   "id": "abb78b08-248e-4b5a-bd79-4d4f967b928f",
   "metadata": {},
   "outputs": [
    {
     "ename": "ImportError",
     "evalue": "attempted relative import with no known parent package",
     "output_type": "error",
     "traceback": [
      "\u001b[0;31m---------------------------------------------------------------------------\u001b[0m",
      "\u001b[0;31mImportError\u001b[0m                               Traceback (most recent call last)",
      "Cell \u001b[0;32mIn[10], line 3\u001b[0m\n\u001b[1;32m      1\u001b[0m \u001b[38;5;66;03m#find out how to import cleaning scrip from other TIRCP notebook\u001b[39;00m\n\u001b[0;32m----> 3\u001b[0m \u001b[38;5;28;01mfrom\u001b[39;00m \u001b[38;5;21;01m.\u001b[39;00m\u001b[38;5;21;01m.\u001b[39;00m\u001b[38;5;21;01mtircp\u001b[39;00m \u001b[38;5;28;01mimport\u001b[39;00m A1_data_prep\n",
      "\u001b[0;31mImportError\u001b[0m: attempted relative import with no known parent package"
     ]
    }
   ],
   "source": [
    "#find out how to import cleaning scrip from other TIRCP notebook\n",
    "\n",
    "from ..tircp import A1_data_prep"
   ]
  },
  {
   "cell_type": "markdown",
   "id": "52794293-2f66-47a7-b580-6170fc72ca94",
   "metadata": {},
   "source": [
    "Read in Raw data"
   ]
  },
  {
   "cell_type": "code",
   "execution_count": 2,
   "id": "70250817-0eee-4ab0-95b4-b43050b46f8c",
   "metadata": {},
   "outputs": [],
   "source": [
    "url='gs://calitp-analytics-data/data-analyses/bus_procurement_cost/TIRCP Tracking Sheets 2_1-10-2024.xlsx'\n",
    "sheet_name='Agreement Allocations'\n"
   ]
  },
  {
   "cell_type": "code",
   "execution_count": 3,
   "id": "f80fccec-2313-4a82-9529-5943ba26e401",
   "metadata": {},
   "outputs": [],
   "source": [
    "df = pd.read_excel(url,sheet_name)"
   ]
  },
  {
   "cell_type": "code",
   "execution_count": 4,
   "id": "88c7aa03-fb76-45f9-8e41-e78b1e3e91be",
   "metadata": {},
   "outputs": [
    {
     "data": {
      "text/plain": [
       "(726, 55)"
      ]
     },
     "metadata": {},
     "output_type": "display_data"
    },
    {
     "data": {
      "text/plain": [
       "pandas.core.frame.DataFrame"
      ]
     },
     "metadata": {},
     "output_type": "display_data"
    },
    {
     "data": {
      "text/plain": [
       "Index(['Award Year', 'Project #', 'Grant Recipient', 'Implementing Agency',\n",
       "       'PPNO', 'Project ID', 'EA', 'Components', '#of buses', 'Phase',\n",
       "       'Allocation Amount', 'Expended Amount', 'SB1 Funding',\n",
       "       'SB1 Budget Year', 'GGRF Funding', 'GGRF Budget Year', 'GF Funding',\n",
       "       'GF Budget Year', 'CTC Financial Resolution',\n",
       "       'CTC Allocation Amendment', 'CTC Waiver', 'CalSTA Waiver',\n",
       "       'Allocation Date', 'Phase Completion Date (SAR)', 'PSA #',\n",
       "       'CT Document #', '3rd Party Award Date', 'LED', 'Termination Date',\n",
       "       'Final Invoice Date', 'Date Branch Chief Receives PSA',\n",
       "       'Date Regional Coordinator Receives PSA', 'Date OC Receives PSA',\n",
       "       'Date OPM Receives PSA', 'Date Legal Receives PSA',\n",
       "       'Date Returned to PM', 'Date PSA Sent to Local Agency',\n",
       "       'Date PSA Approved by Local Agency', 'Date Signed by DRMT',\n",
       "       'PSA Expiry Date', 'LONP', 'Prior Fiscal Years to 2020',\n",
       "       'Fiscal Year 2020-2021', 'Fiscal Year 2021-2022',\n",
       "       'Fiscal Year 2022-2023', 'Fiscal Year 2023-2024',\n",
       "       'Fiscal Year 2024-2025', 'Fiscal Year 2025-2026',\n",
       "       'Fiscal Year 2026-2027', 'Fiscal Year 2027-2028',\n",
       "       'Fiscal Year 2028-2029', 'Fiscal Year 2029-2030', 'Allocation Comments',\n",
       "       'GGRF/SB1 Percentage Split', 'PSA Comments'],\n",
       "      dtype='object')"
      ]
     },
     "metadata": {},
     "output_type": "display_data"
    }
   ],
   "source": [
    "display(\n",
    "    df.shape,\n",
    "    type(df),\n",
    "    df.columns\n",
    ")"
   ]
  },
  {
   "cell_type": "markdown",
   "id": "79002d63-c2a1-4218-81a2-31e6a10d981e",
   "metadata": {},
   "source": [
    "Data Cleaning and QC"
   ]
  },
  {
   "cell_type": "code",
   "execution_count": null,
   "id": "6348f583-a403-4376-a12d-e0deb8f8a048",
   "metadata": {},
   "outputs": [],
   "source": [
    "Export Cleaned data"
   ]
  },
  {
   "cell_type": "markdown",
   "id": "eab85396-0dfd-43ef-b938-310745c9d518",
   "metadata": {},
   "source": [
    "Initial Summary Stats"
   ]
  },
  {
   "cell_type": "code",
   "execution_count": null,
   "id": "9f430abb-1be2-4c50-af08-bfc06c2488dd",
   "metadata": {},
   "outputs": [],
   "source": [
    "import re\n",
    "\n",
    "input_string = \"Renovation and expansion of the Monterey maintenance and operations facility, Reduced Deadheads for 30 buses, increased transit service connecting East Salinas and the Salinas Intermodal Station. procure 114 new buses\"\n",
    "\n",
    "# Extract all numbers from the string\n",
    "numbers = re.findall(r'\\d+', input_string)\n",
    "\n",
    "print(\"Extracted Numbers:\", numbers)\n"
   ]
  }
 ],
 "metadata": {
  "kernelspec": {
   "display_name": "Python 3 (ipykernel)",
   "language": "python",
   "name": "python3"
  },
  "language_info": {
   "codemirror_mode": {
    "name": "ipython",
    "version": 3
   },
   "file_extension": ".py",
   "mimetype": "text/x-python",
   "name": "python",
   "nbconvert_exporter": "python",
   "pygments_lexer": "ipython3",
   "version": "3.9.13"
  }
 },
 "nbformat": 4,
 "nbformat_minor": 5
}
