{
 "cells": [
  {
   "cell_type": "markdown",
   "id": "e767add0-6871-46de-b480-d77ae7d62819",
   "metadata": {},
   "source": [
    "## Intro"
   ]
  },
  {
   "cell_type": "code",
   "execution_count": 1,
   "id": "7e2bb160-f2fa-49a0-9cbf-b0796599f1d1",
   "metadata": {},
   "outputs": [],
   "source": [
    "import matplotlib as plt\n",
    "import pandas as pd\n",
    "import shared_utils\n",
    "\n",
    "# set_option to increase max rows displayed to 200, to see entire df in 1 go/\n",
    "pd.set_option(\"display.max_rows\", 200)"
   ]
  },
  {
   "cell_type": "markdown",
   "id": "52794293-2f66-47a7-b580-6170fc72ca94",
   "metadata": {
    "tags": []
   },
   "source": [
    "## Read in Raw data"
   ]
  },
  {
   "cell_type": "code",
   "execution_count": 2,
   "id": "70250817-0eee-4ab0-95b4-b43050b46f8c",
   "metadata": {},
   "outputs": [],
   "source": [
    "url = \"gs://calitp-analytics-data/data-analyses/bus_procurement_cost/TIRCP Tracking Sheets 2_1-10-2024.xlsx\"\n",
    "sheet_name = \"Agreement Allocations\""
   ]
  },
  {
   "cell_type": "code",
   "execution_count": 17,
   "id": "f80fccec-2313-4a82-9529-5943ba26e401",
   "metadata": {},
   "outputs": [],
   "source": [
    "tircp = pd.read_excel(url, sheet_name)"
   ]
  },
  {
   "cell_type": "markdown",
   "id": "79002d63-c2a1-4218-81a2-31e6a10d981e",
   "metadata": {
    "tags": []
   },
   "source": [
    "## Data Cleaning and QC"
   ]
  },
  {
   "cell_type": "code",
   "execution_count": 18,
   "id": "78289f7c-54f3-48af-8881-101f50853694",
   "metadata": {},
   "outputs": [],
   "source": [
    "# reducing initialdf to first 11 columns.\n",
    "tircp = tircp.iloc[:, :12]"
   ]
  },
  {
   "cell_type": "code",
   "execution_count": 19,
   "id": "6526421b-36f3-4326-bfce-4679ffcf2b52",
   "metadata": {},
   "outputs": [],
   "source": [
    "# dictionary for column name update\n",
    "new_col = [\n",
    "    \"award_year\",\n",
    "    \"project_#\",\n",
    "    \"grant_recipient\",\n",
    "    \"implementing_agency\",\n",
    "    \"ppno\",\n",
    "    \"project_id\",\n",
    "    \"ea\",\n",
    "    \"components\",\n",
    "    \"#_of_buses\",\n",
    "    \"phase\",\n",
    "    \"allocation_amount\",\n",
    "    \"expended_amount\",\n",
    "]"
   ]
  },
  {
   "cell_type": "code",
   "execution_count": 20,
   "id": "c973346f-9232-4d21-8145-6fbe331094de",
   "metadata": {},
   "outputs": [
    {
     "data": {
      "text/plain": [
       "Index(['award_year', 'project_#', 'grant_recipient', 'implementing_agency',\n",
       "       'ppno', 'project_id', 'ea', 'components', '#_of_buses', 'phase',\n",
       "       'allocation_amount', 'expended_amount'],\n",
       "      dtype='object')"
      ]
     },
     "execution_count": 20,
     "metadata": {},
     "output_type": "execute_result"
    }
   ],
   "source": [
    "tircp.columns = new_col\n",
    "tircp.columns"
   ]
  },
  {
   "cell_type": "code",
   "execution_count": 21,
   "id": "14061d68-8a66-42de-baad-c45e0b4664f5",
   "metadata": {},
   "outputs": [],
   "source": [
    "tircp = tircp.drop(\"expended_amount\", axis=1)"
   ]
  },
  {
   "cell_type": "code",
   "execution_count": 22,
   "id": "4ad96350-0b11-4733-aa04-d1053681b24b",
   "metadata": {},
   "outputs": [
    {
     "data": {
      "text/plain": [
       "#_of_buses    527.0\n",
       "dtype: float64"
      ]
     },
     "execution_count": 22,
     "metadata": {},
     "output_type": "execute_result"
    }
   ],
   "source": [
    "# fill NaN with zero?\n",
    "# see if you can sum the bus column\n",
    "tircp.agg({\"#_of_buses\": \"sum\"})\n",
    "# nope this is correct"
   ]
  },
  {
   "cell_type": "code",
   "execution_count": 23,
   "id": "f2e30eb4-6adf-48b8-827b-548d806b101a",
   "metadata": {},
   "outputs": [
    {
     "data": {
      "text/plain": [
       "(726, 11)"
      ]
     },
     "metadata": {},
     "output_type": "display_data"
    },
    {
     "data": {
      "text/plain": [
       "['award_year',\n",
       " 'project_#',\n",
       " 'grant_recipient',\n",
       " 'implementing_agency',\n",
       " 'ppno',\n",
       " 'project_id',\n",
       " 'ea',\n",
       " 'components',\n",
       " '#_of_buses',\n",
       " 'phase',\n",
       " 'allocation_amount']"
      ]
     },
     "metadata": {},
     "output_type": "display_data"
    },
    {
     "data": {
      "text/html": [
       "<div>\n",
       "<style scoped>\n",
       "    .dataframe tbody tr th:only-of-type {\n",
       "        vertical-align: middle;\n",
       "    }\n",
       "\n",
       "    .dataframe tbody tr th {\n",
       "        vertical-align: top;\n",
       "    }\n",
       "\n",
       "    .dataframe thead th {\n",
       "        text-align: right;\n",
       "    }\n",
       "</style>\n",
       "<table border=\"1\" class=\"dataframe\">\n",
       "  <thead>\n",
       "    <tr style=\"text-align: right;\">\n",
       "      <th></th>\n",
       "      <th>award_year</th>\n",
       "      <th>project_#</th>\n",
       "      <th>grant_recipient</th>\n",
       "      <th>implementing_agency</th>\n",
       "      <th>ppno</th>\n",
       "      <th>project_id</th>\n",
       "      <th>ea</th>\n",
       "      <th>components</th>\n",
       "      <th>#_of_buses</th>\n",
       "      <th>phase</th>\n",
       "      <th>allocation_amount</th>\n",
       "    </tr>\n",
       "  </thead>\n",
       "  <tbody>\n",
       "    <tr>\n",
       "      <th>0</th>\n",
       "      <td>2018.0</td>\n",
       "      <td>28.0</td>\n",
       "      <td>Transportation Agency for Monterey County</td>\n",
       "      <td>Transportation Agency for Monterey County</td>\n",
       "      <td>1155</td>\n",
       "      <td>NaN</td>\n",
       "      <td>NaN</td>\n",
       "      <td>New Passenger Rail Service to Salinas</td>\n",
       "      <td>NaN</td>\n",
       "      <td>CONST</td>\n",
       "      <td>0</td>\n",
       "    </tr>\n",
       "    <tr>\n",
       "      <th>1</th>\n",
       "      <td>2018.0</td>\n",
       "      <td>28.0</td>\n",
       "      <td>Transportation Agency for Monterey County</td>\n",
       "      <td>Transportation Agency for Monterey County</td>\n",
       "      <td>1155</td>\n",
       "      <td>NaN</td>\n",
       "      <td>NaN</td>\n",
       "      <td>Positive Train Control</td>\n",
       "      <td>NaN</td>\n",
       "      <td>CONST</td>\n",
       "      <td>0</td>\n",
       "    </tr>\n",
       "    <tr>\n",
       "      <th>2</th>\n",
       "      <td>2016.0</td>\n",
       "      <td>11.0</td>\n",
       "      <td>San Bernardino County Transportation Authority...</td>\n",
       "      <td>San Bernardino County Transportation Authority...</td>\n",
       "      <td>1230</td>\n",
       "      <td>19000086.0</td>\n",
       "      <td>R391GD</td>\n",
       "      <td>Construct New Rail System Linking San Bernardi...</td>\n",
       "      <td>NaN</td>\n",
       "      <td>CONST</td>\n",
       "      <td>9204000</td>\n",
       "    </tr>\n",
       "    <tr>\n",
       "      <th>3</th>\n",
       "      <td>2020.0</td>\n",
       "      <td>10.0</td>\n",
       "      <td>San Bernardino County Transportation Authority...</td>\n",
       "      <td>San Bernardino County Transportation Authority</td>\n",
       "      <td>1232</td>\n",
       "      <td>23000073.0</td>\n",
       "      <td>T458GA</td>\n",
       "      <td>Acquisition of Zero-Emission Buses</td>\n",
       "      <td>NaN</td>\n",
       "      <td>CONST</td>\n",
       "      <td>15000000</td>\n",
       "    </tr>\n",
       "    <tr>\n",
       "      <th>4</th>\n",
       "      <td>2018.0</td>\n",
       "      <td>19.0</td>\n",
       "      <td>San Joaquin Joint Powers Authority and San Joa...</td>\n",
       "      <td>San Joaquin Regional Rail Commission</td>\n",
       "      <td>10-9883</td>\n",
       "      <td>NaN</td>\n",
       "      <td>NaN</td>\n",
       "      <td>Stockton Diamond</td>\n",
       "      <td>NaN</td>\n",
       "      <td>CONST</td>\n",
       "      <td>0</td>\n",
       "    </tr>\n",
       "  </tbody>\n",
       "</table>\n",
       "</div>"
      ],
      "text/plain": [
       "   award_year  project_#                                    grant_recipient  \\\n",
       "0      2018.0       28.0          Transportation Agency for Monterey County   \n",
       "1      2018.0       28.0          Transportation Agency for Monterey County   \n",
       "2      2016.0       11.0  San Bernardino County Transportation Authority...   \n",
       "3      2020.0       10.0  San Bernardino County Transportation Authority...   \n",
       "4      2018.0       19.0  San Joaquin Joint Powers Authority and San Joa...   \n",
       "\n",
       "                                 implementing_agency      ppno  project_id  \\\n",
       "0          Transportation Agency for Monterey County      1155         NaN   \n",
       "1          Transportation Agency for Monterey County      1155         NaN   \n",
       "2  San Bernardino County Transportation Authority...      1230  19000086.0   \n",
       "3    San Bernardino County Transportation Authority       1232  23000073.0   \n",
       "4               San Joaquin Regional Rail Commission   10-9883         NaN   \n",
       "\n",
       "       ea                                         components  #_of_buses  \\\n",
       "0     NaN              New Passenger Rail Service to Salinas         NaN   \n",
       "1     NaN                             Positive Train Control         NaN   \n",
       "2  R391GD  Construct New Rail System Linking San Bernardi...         NaN   \n",
       "3  T458GA                 Acquisition of Zero-Emission Buses         NaN   \n",
       "4     NaN                                   Stockton Diamond         NaN   \n",
       "\n",
       "   phase  allocation_amount  \n",
       "0  CONST                  0  \n",
       "1  CONST                  0  \n",
       "2  CONST            9204000  \n",
       "3  CONST           15000000  \n",
       "4  CONST                  0  "
      ]
     },
     "metadata": {},
     "output_type": "display_data"
    }
   ],
   "source": [
    "display(tircp.shape, list(tircp.columns), tircp.head())"
   ]
  },
  {
   "cell_type": "code",
   "execution_count": 26,
   "id": "9eb613a5-7d1f-489c-8d9f-1226f25a61bf",
   "metadata": {},
   "outputs": [
    {
     "data": {
      "text/plain": [
       "96"
      ]
     },
     "execution_count": 26,
     "metadata": {},
     "output_type": "execute_result"
    }
   ],
   "source": [
    "tircp.grant_recipient.nunique()"
   ]
  },
  {
   "cell_type": "code",
   "execution_count": 27,
   "id": "33b665bf-20a0-416f-8b6b-fe835670560d",
   "metadata": {},
   "outputs": [
    {
     "data": {
      "text/plain": [
       "90"
      ]
     },
     "execution_count": 27,
     "metadata": {},
     "output_type": "execute_result"
    }
   ],
   "source": [
    "# use strip to help combine names\n",
    "tircp[\"grant_recipient\"] = tircp[\"grant_recipient\"].str.strip()\n",
    "\n",
    "tircp.grant_recipient.nunique()"
   ]
  },
  {
   "cell_type": "code",
   "execution_count": 36,
   "id": "ad999ca5-3dda-4bed-a161-7835b7317e3b",
   "metadata": {},
   "outputs": [
    {
     "data": {
      "text/plain": [
       "array(['.', 'Alameda Contra Costa Transit District',\n",
       "       'Anaheim Transportation Network (ATN)',\n",
       "       'Antelope Valley Air Quality Management District',\n",
       "       'Antelope Valley Transit Authority',\n",
       "       'Antelope Valley Transit Authority & Long Beach Transit',\n",
       "       'Antelope Valley Transit Authority (AVTA)',\n",
       "       'Bay Area Rapid Transit (BART)', 'Bay Area Rapid Transit District',\n",
       "       'Capitol Corridor Joint Powers Authority',\n",
       "       'Capitol Corridor Joint Powers Authority (CCJPA)',\n",
       "       'Capitol Corridor Joint Powers Authority (CCJPA)  with City of Sacramento, Sacramento Area Council of Governments (SACOG), and Sacramento Regional Transit District (SacRT)',\n",
       "       'Capitol Corridor Joint Powers Authority (CCJPA) with City of Sacramento, City of Hercules, and Santa Cruz Metropolitan Transit District',\n",
       "       'City of Cupertino', 'City of Fresno',\n",
       "       'City of Glendale and Arroyo Verdugo Communities',\n",
       "       'City of Inglewood', 'City of Los Angeles', 'City of Oakland',\n",
       "       'City of Pasadena', 'City of Richmond', 'City of Santa Monica',\n",
       "       'City of Simi Valley', 'City of Torrence', 'City of Wasco',\n",
       "       'Contra Costa Transportation Authority (CCTA)', 'Culver City',\n",
       "       'Foothill Transit', 'Fresno County Rural Transit Agency (FCRTA)',\n",
       "       'High Desert Corridor Joint Powers Agency (HDC JPA)',\n",
       "       'Humboldt Transit Authority (HTA)',\n",
       "       'Humboldt Transit Authority (HTA) with Yurok Tribe and Redwood Coast Transit Authority',\n",
       "       'Lake Transit Authority',\n",
       "       'Livermore Amador Valley Transit Authority', 'Long Beach Transit',\n",
       "       'Los Angeles County Metropolitan Transportation (LA Metro)',\n",
       "       'Los Angeles County Metropolitan Transportation Authority',\n",
       "       'Los Angeles County Metropolitan Transportation Authority (LA Metro)',\n",
       "       'Los Angeles County Metropolitan Transportation Authority and Southern California Regional Rail Authority',\n",
       "       'Los Angeles-San Diego-San Luis Obispo Rail Corridor Agency (LOSSAN)',\n",
       "       'Monterey-Salinas Transit',\n",
       "       'Monterey-Salinas Transit District (MST) and Transportation Agency for Monterey County (TAMC)',\n",
       "       'North County Transit District and San Diego Association of Governments',\n",
       "       'Orange County Transportation Authority (OCTA)',\n",
       "       'Orange County Transportation Authority (OCTA) with Los Angeles – San Diego – San Luis Obispo Rail Corridor (LOSSAN)',\n",
       "       'Peninsula Corridor Joint Powers Board',\n",
       "       'Riverside County Transportation Commission (RCTC) with Southern California Regional Rail Authority (SCRRA)',\n",
       "       'SBCAG', 'Sacramento Regional Transit (SacRT)',\n",
       "       'Sacramento Regional Transit District',\n",
       "       'Sacramento Regional Transit District (SacRT)',\n",
       "       'San Bernardino County Transportation Authority (SBCTA)',\n",
       "       'San Bernardino County Transportation Authority and Omnitrans',\n",
       "       'San Diego Association of Governments (SANDAG)',\n",
       "       'San Diego Metropolitan Transit System (MTS)',\n",
       "       'San Diego Metropolitan Transit System (SDMTS)',\n",
       "       'San Francisco Bay Area Water Emergency Transportation Authority',\n",
       "       'San Francisco Bay Area Water Emergency Transportation Authority (WETA)',\n",
       "       'San Francisco Municipal Transportation Agency',\n",
       "       'San Francisco Municipal Transportation Authority (SFMTA)',\n",
       "       'San Joaquin Joint Powers Authority and San Joaquin Regional Rail Commission',\n",
       "       'San Joaquin Regional Rail Commission',\n",
       "       'San Joaquin Regional Rail Commission (SJRRC) & San Joaquin Joint Powers Authority (SJJPA)',\n",
       "       'San Joaquin Regional Transit District',\n",
       "       'San Mateo County Transit District',\n",
       "       'Santa Barbara County Association of Governments\\n(SBCAG)',\n",
       "       'Santa Barbara County Association of Governments (SBCAG)',\n",
       "       'Santa Barbara Metropolitan Transit District (SBMTD)',\n",
       "       'Santa Clara Valley Transportation Authority',\n",
       "       'Santa Clara Valley Transportation Authority (VTA)',\n",
       "       'Santa Cruz County Regional Transportation Commission (RTC)',\n",
       "       'Santa Cruz Metropolitan Transit District (Metro)',\n",
       "       'Santa Monica Big Blue Bus',\n",
       "       'Shasta Regional Transportation Agency (SRTA)',\n",
       "       'Solano Transportation Authority',\n",
       "       'Sonoma County Transportation Authority (SCTA)',\n",
       "       'Sonoma-Marin Area Rail Transit District',\n",
       "       'Southern California Regional Rail Authority',\n",
       "       'Southern California Regional Rail Authority (Metrolink)',\n",
       "       'Southern California Regional Rail Authority (SCRRA -\\nMetrolink)',\n",
       "       'Southern California Regional Rail Authority (SCRRA)',\n",
       "       'Torrance Transit Department', 'Town of Truckee',\n",
       "       'Transbay Joint Powers Authority (TJPA)',\n",
       "       'Transit Joint Powers Authority for Merced County',\n",
       "       'Transportation Agency for Monterey County',\n",
       "       'Transportation Agency for Monterey County (TAMC)',\n",
       "       'Tri-Valley – San Joaquin Valley Regional Rail Authority',\n",
       "       'Tulare County Regional Transit Agency (TCRTA)',\n",
       "       'Yuba-Sutter Transit', nan], dtype=object)"
      ]
     },
     "execution_count": 36,
     "metadata": {},
     "output_type": "execute_result"
    }
   ],
   "source": [
    "# see list of unique names\n",
    "# may be able to consolidate a few\n",
    "tircp.grant_recipient.sort_values().unique()"
   ]
  },
  {
   "cell_type": "code",
   "execution_count": 37,
   "id": "57c1b6ab-64ec-4af4-958f-3fd69a9fcf94",
   "metadata": {},
   "outputs": [],
   "source": [
    "new_dict = {\n",
    "    \"Antelope Valley Transit Authority\": \"Antelope Valley Transit Authority (AVTA)\",\n",
    "    \"Bay Area Rapid Transit District\": \"Bay Area Rapid Transit (BART)\",\n",
    "    \"Capitol Corridor Joint Powers Authority\": \"Capitol Corridor Joint Powers Authority (CCJPA)\",\n",
    "    \"Los Angeles County Metropolitan Transportation (LA Metro)\": \"Los Angeles County Metropolitan Transportation Authority (LA Metro)\",\n",
    "    \"Los Angeles County Metropolitan Transportation Authority\": \"Los Angeles County Metropolitan Transportation Authority (LA Metro)\",\n",
    "    \"Sacramento Regional Transit (SacRT)\": \"Sacramento Regional Transit District (SacRT)\",\n",
    "    \"Sacramento Regional Transit District\": \"Sacramento Regional Transit District (SacRT)\",\n",
    "    \"San Diego Metropolitan Transit System (SDMTS)\": \"San Diego Metropolitan Transit System (MTS)\",\n",
    "    \"San Francisco Bay Area Water Emergency Transportation Authority\": \"San Francisco Bay Area Water Emergency Transportation Authority (WETA)\",\n",
    "    \"San Francisco Municipal Transportation Agency\": \"San Francisco Municipal Transportation Authority (SFMTA)\",\n",
    "    \"Santa Barbara County Association of Governments\\n(SBCAG)\": \"Santa Barbara County Association of Governments (SBCAG)\",\n",
    "    \"Santa Clara Valley Transportation Authority\": \"Santa Clara Valley Transportation Authority (VTA)\",\n",
    "    \"Transportation Agency for Monterey County\": \"Transportation Agency for Monterey County (TAMC)\",\n",
    "}"
   ]
  },
  {
   "cell_type": "code",
   "execution_count": 46,
   "id": "bf769e25-97fe-41eb-9ff5-c1bbda4200ad",
   "metadata": {},
   "outputs": [],
   "source": [
    "# replace the values in grant_recipient using dict\n",
    "# df.replace({'bus_desc': new_dict}, inplace=True)\n",
    "tircp = tircp.replace({\"grant_recipient\": new_dict})"
   ]
  },
  {
   "cell_type": "code",
   "execution_count": 51,
   "id": "97e5ec8e-464a-451f-add3-5965a38d2e3a",
   "metadata": {},
   "outputs": [
    {
     "data": {
      "text/plain": [
       "77"
      ]
     },
     "metadata": {},
     "output_type": "display_data"
    }
   ],
   "source": [
    "#see that some rows were consolidated\n",
    "display(tircp.grant_recipient.nunique())"
   ]
  },
  {
   "cell_type": "markdown",
   "id": "3a197b7b-29a6-46b8-adf5-e31b60c694e0",
   "metadata": {
    "tags": []
   },
   "source": [
    "## Export Cleaned data"
   ]
  },
  {
   "cell_type": "code",
   "execution_count": 52,
   "id": "5150ed0b-2fcd-4825-b12c-1fdb6bef7e64",
   "metadata": {},
   "outputs": [],
   "source": [
    "tircp.to_csv(\n",
    "    \"gs://calitp-analytics-data/data-analyses/bus_procurement_cost/tircp_allocations_clean.csv\"\n",
    ")"
   ]
  },
  {
   "cell_type": "markdown",
   "id": "17549ca7-4ac2-4067-95ae-79e5547500f3",
   "metadata": {},
   "source": [
    "## Read in Cleaned data from GCS"
   ]
  },
  {
   "cell_type": "code",
   "execution_count": 53,
   "id": "7e27a6f9-c57f-4e13-ae94-6d13b2ef87ba",
   "metadata": {},
   "outputs": [],
   "source": [
    "tircp = pd.read_csv(\n",
    "    \"gs://calitp-analytics-data/data-analyses/bus_procurement_cost/tircp_allocations_clean.csv\"\n",
    ")"
   ]
  },
  {
   "cell_type": "code",
   "execution_count": 54,
   "id": "6b29bc28-2f4e-4d6f-8ffc-2df929f7e27f",
   "metadata": {},
   "outputs": [
    {
     "data": {
      "text/plain": [
       "(726, 12)"
      ]
     },
     "metadata": {},
     "output_type": "display_data"
    },
    {
     "data": {
      "text/plain": [
       "Index(['Unnamed: 0', 'award_year', 'project_#', 'grant_recipient',\n",
       "       'implementing_agency', 'ppno', 'project_id', 'ea', 'components',\n",
       "       '#_of_buses', 'phase', 'allocation_amount'],\n",
       "      dtype='object')"
      ]
     },
     "metadata": {},
     "output_type": "display_data"
    },
    {
     "data": {
      "text/html": [
       "<div>\n",
       "<style scoped>\n",
       "    .dataframe tbody tr th:only-of-type {\n",
       "        vertical-align: middle;\n",
       "    }\n",
       "\n",
       "    .dataframe tbody tr th {\n",
       "        vertical-align: top;\n",
       "    }\n",
       "\n",
       "    .dataframe thead th {\n",
       "        text-align: right;\n",
       "    }\n",
       "</style>\n",
       "<table border=\"1\" class=\"dataframe\">\n",
       "  <thead>\n",
       "    <tr style=\"text-align: right;\">\n",
       "      <th></th>\n",
       "      <th>Unnamed: 0</th>\n",
       "      <th>award_year</th>\n",
       "      <th>project_#</th>\n",
       "      <th>grant_recipient</th>\n",
       "      <th>implementing_agency</th>\n",
       "      <th>ppno</th>\n",
       "      <th>project_id</th>\n",
       "      <th>ea</th>\n",
       "      <th>components</th>\n",
       "      <th>#_of_buses</th>\n",
       "      <th>phase</th>\n",
       "      <th>allocation_amount</th>\n",
       "    </tr>\n",
       "  </thead>\n",
       "  <tbody>\n",
       "    <tr>\n",
       "      <th>0</th>\n",
       "      <td>0</td>\n",
       "      <td>2018.0</td>\n",
       "      <td>28.0</td>\n",
       "      <td>Transportation Agency for Monterey County (TAMC)</td>\n",
       "      <td>Transportation Agency for Monterey County</td>\n",
       "      <td>1155</td>\n",
       "      <td>NaN</td>\n",
       "      <td>NaN</td>\n",
       "      <td>New Passenger Rail Service to Salinas</td>\n",
       "      <td>NaN</td>\n",
       "      <td>CONST</td>\n",
       "      <td>0</td>\n",
       "    </tr>\n",
       "    <tr>\n",
       "      <th>1</th>\n",
       "      <td>1</td>\n",
       "      <td>2018.0</td>\n",
       "      <td>28.0</td>\n",
       "      <td>Transportation Agency for Monterey County (TAMC)</td>\n",
       "      <td>Transportation Agency for Monterey County</td>\n",
       "      <td>1155</td>\n",
       "      <td>NaN</td>\n",
       "      <td>NaN</td>\n",
       "      <td>Positive Train Control</td>\n",
       "      <td>NaN</td>\n",
       "      <td>CONST</td>\n",
       "      <td>0</td>\n",
       "    </tr>\n",
       "    <tr>\n",
       "      <th>2</th>\n",
       "      <td>2</td>\n",
       "      <td>2016.0</td>\n",
       "      <td>11.0</td>\n",
       "      <td>San Bernardino County Transportation Authority...</td>\n",
       "      <td>San Bernardino County Transportation Authority...</td>\n",
       "      <td>1230</td>\n",
       "      <td>19000086.0</td>\n",
       "      <td>R391GD</td>\n",
       "      <td>Construct New Rail System Linking San Bernardi...</td>\n",
       "      <td>NaN</td>\n",
       "      <td>CONST</td>\n",
       "      <td>9204000</td>\n",
       "    </tr>\n",
       "    <tr>\n",
       "      <th>3</th>\n",
       "      <td>3</td>\n",
       "      <td>2020.0</td>\n",
       "      <td>10.0</td>\n",
       "      <td>San Bernardino County Transportation Authority...</td>\n",
       "      <td>San Bernardino County Transportation Authority</td>\n",
       "      <td>1232</td>\n",
       "      <td>23000073.0</td>\n",
       "      <td>T458GA</td>\n",
       "      <td>Acquisition of Zero-Emission Buses</td>\n",
       "      <td>NaN</td>\n",
       "      <td>CONST</td>\n",
       "      <td>15000000</td>\n",
       "    </tr>\n",
       "    <tr>\n",
       "      <th>4</th>\n",
       "      <td>4</td>\n",
       "      <td>2018.0</td>\n",
       "      <td>19.0</td>\n",
       "      <td>San Joaquin Joint Powers Authority and San Joa...</td>\n",
       "      <td>San Joaquin Regional Rail Commission</td>\n",
       "      <td>10-9883</td>\n",
       "      <td>NaN</td>\n",
       "      <td>NaN</td>\n",
       "      <td>Stockton Diamond</td>\n",
       "      <td>NaN</td>\n",
       "      <td>CONST</td>\n",
       "      <td>0</td>\n",
       "    </tr>\n",
       "  </tbody>\n",
       "</table>\n",
       "</div>"
      ],
      "text/plain": [
       "   Unnamed: 0  award_year  project_#  \\\n",
       "0           0      2018.0       28.0   \n",
       "1           1      2018.0       28.0   \n",
       "2           2      2016.0       11.0   \n",
       "3           3      2020.0       10.0   \n",
       "4           4      2018.0       19.0   \n",
       "\n",
       "                                     grant_recipient  \\\n",
       "0   Transportation Agency for Monterey County (TAMC)   \n",
       "1   Transportation Agency for Monterey County (TAMC)   \n",
       "2  San Bernardino County Transportation Authority...   \n",
       "3  San Bernardino County Transportation Authority...   \n",
       "4  San Joaquin Joint Powers Authority and San Joa...   \n",
       "\n",
       "                                 implementing_agency      ppno  project_id  \\\n",
       "0          Transportation Agency for Monterey County      1155         NaN   \n",
       "1          Transportation Agency for Monterey County      1155         NaN   \n",
       "2  San Bernardino County Transportation Authority...      1230  19000086.0   \n",
       "3    San Bernardino County Transportation Authority       1232  23000073.0   \n",
       "4               San Joaquin Regional Rail Commission   10-9883         NaN   \n",
       "\n",
       "       ea                                         components  #_of_buses  \\\n",
       "0     NaN              New Passenger Rail Service to Salinas         NaN   \n",
       "1     NaN                             Positive Train Control         NaN   \n",
       "2  R391GD  Construct New Rail System Linking San Bernardi...         NaN   \n",
       "3  T458GA                 Acquisition of Zero-Emission Buses         NaN   \n",
       "4     NaN                                   Stockton Diamond         NaN   \n",
       "\n",
       "   phase  allocation_amount  \n",
       "0  CONST                  0  \n",
       "1  CONST                  0  \n",
       "2  CONST            9204000  \n",
       "3  CONST           15000000  \n",
       "4  CONST                  0  "
      ]
     },
     "metadata": {},
     "output_type": "display_data"
    }
   ],
   "source": [
    "display(tircp.shape, tircp.columns, tircp.head())"
   ]
  },
  {
   "cell_type": "markdown",
   "id": "eab85396-0dfd-43ef-b938-310745c9d518",
   "metadata": {},
   "source": [
    "## Cost per Bus, per agency"
   ]
  },
  {
   "cell_type": "code",
   "execution_count": 55,
   "id": "024b16e0-45c3-4497-b9b9-6470b3981479",
   "metadata": {},
   "outputs": [],
   "source": [
    "# filer to project with bus count values\n",
    "# caveat: some rows in \"component\" column state some variation of \"purchased buses\", but did not specify the amount of buses. \n",
    "# only rows stating the specificy number of buses purchased are included\n",
    "only_bus = tircp[tircp['#_of_buses']>0]\n"
   ]
  },
  {
   "cell_type": "code",
   "execution_count": 57,
   "id": "02fab0b3-0c75-4220-8129-3402fb9b3007",
   "metadata": {},
   "outputs": [
    {
     "data": {
      "text/plain": [
       "(46, 12)"
      ]
     },
     "metadata": {},
     "output_type": "display_data"
    }
   ],
   "source": [
    "display(only_bus.shape)"
   ]
  },
  {
   "cell_type": "code",
   "execution_count": 60,
   "id": "ca5e0397-b297-4236-a9c6-43d61d1021aa",
   "metadata": {},
   "outputs": [],
   "source": [
    "#aggregate # of buses and allocation by transit agency\n",
    "bus_cost = only_bus.groupby('grant_recipient').agg({\n",
    "    '#_of_buses':\"sum\",\n",
    "    'allocation_amount':'sum'\n",
    "}).reset_index()"
   ]
  },
  {
   "cell_type": "code",
   "execution_count": 61,
   "id": "ddd7f056-4e8e-43be-9391-6b6c0574fc58",
   "metadata": {},
   "outputs": [
    {
     "data": {
      "text/html": [
       "<div>\n",
       "<style scoped>\n",
       "    .dataframe tbody tr th:only-of-type {\n",
       "        vertical-align: middle;\n",
       "    }\n",
       "\n",
       "    .dataframe tbody tr th {\n",
       "        vertical-align: top;\n",
       "    }\n",
       "\n",
       "    .dataframe thead th {\n",
       "        text-align: right;\n",
       "    }\n",
       "</style>\n",
       "<table border=\"1\" class=\"dataframe\">\n",
       "  <thead>\n",
       "    <tr style=\"text-align: right;\">\n",
       "      <th></th>\n",
       "      <th>grant_recipient</th>\n",
       "      <th>#_of_buses</th>\n",
       "      <th>allocation_amount</th>\n",
       "    </tr>\n",
       "  </thead>\n",
       "  <tbody>\n",
       "    <tr>\n",
       "      <th>0</th>\n",
       "      <td>Anaheim Transportation Network (ATN)</td>\n",
       "      <td>42.0</td>\n",
       "      <td>13776000</td>\n",
       "    </tr>\n",
       "    <tr>\n",
       "      <th>1</th>\n",
       "      <td>Antelope Valley Air Quality Management District</td>\n",
       "      <td>19.0</td>\n",
       "      <td>8930000</td>\n",
       "    </tr>\n",
       "    <tr>\n",
       "      <th>2</th>\n",
       "      <td>Antelope Valley Transit Authority &amp; Long Beach...</td>\n",
       "      <td>12.0</td>\n",
       "      <td>11706000</td>\n",
       "    </tr>\n",
       "    <tr>\n",
       "      <th>3</th>\n",
       "      <td>Antelope Valley Transit Authority (AVTA)</td>\n",
       "      <td>29.0</td>\n",
       "      <td>30378000</td>\n",
       "    </tr>\n",
       "    <tr>\n",
       "      <th>4</th>\n",
       "      <td>City of Glendale and Arroyo Verdugo Communities</td>\n",
       "      <td>22.0</td>\n",
       "      <td>0</td>\n",
       "    </tr>\n",
       "    <tr>\n",
       "      <th>5</th>\n",
       "      <td>City of Pasadena</td>\n",
       "      <td>20.0</td>\n",
       "      <td>0</td>\n",
       "    </tr>\n",
       "    <tr>\n",
       "      <th>6</th>\n",
       "      <td>City of Santa Monica</td>\n",
       "      <td>15.0</td>\n",
       "      <td>3050000</td>\n",
       "    </tr>\n",
       "    <tr>\n",
       "      <th>7</th>\n",
       "      <td>City of Simi Valley</td>\n",
       "      <td>6.0</td>\n",
       "      <td>4800000</td>\n",
       "    </tr>\n",
       "    <tr>\n",
       "      <th>8</th>\n",
       "      <td>City of Torrence</td>\n",
       "      <td>10.0</td>\n",
       "      <td>0</td>\n",
       "    </tr>\n",
       "    <tr>\n",
       "      <th>9</th>\n",
       "      <td>City of Wasco</td>\n",
       "      <td>6.0</td>\n",
       "      <td>650000</td>\n",
       "    </tr>\n",
       "    <tr>\n",
       "      <th>10</th>\n",
       "      <td>Foothill Transit</td>\n",
       "      <td>20.0</td>\n",
       "      <td>5000000</td>\n",
       "    </tr>\n",
       "    <tr>\n",
       "      <th>11</th>\n",
       "      <td>Humboldt Transit Authority (HTA)</td>\n",
       "      <td>10.0</td>\n",
       "      <td>0</td>\n",
       "    </tr>\n",
       "    <tr>\n",
       "      <th>12</th>\n",
       "      <td>Lake Transit Authority</td>\n",
       "      <td>4.0</td>\n",
       "      <td>0</td>\n",
       "    </tr>\n",
       "    <tr>\n",
       "      <th>13</th>\n",
       "      <td>Los Angeles County Metropolitan Transportation...</td>\n",
       "      <td>161.0</td>\n",
       "      <td>0</td>\n",
       "    </tr>\n",
       "    <tr>\n",
       "      <th>14</th>\n",
       "      <td>Orange County Transportation Authority (OCTA)</td>\n",
       "      <td>5.0</td>\n",
       "      <td>2320000</td>\n",
       "    </tr>\n",
       "    <tr>\n",
       "      <th>15</th>\n",
       "      <td>San Diego Metropolitan Transit System (MTS)</td>\n",
       "      <td>22.0</td>\n",
       "      <td>13382000</td>\n",
       "    </tr>\n",
       "    <tr>\n",
       "      <th>16</th>\n",
       "      <td>San Francisco Municipal Transportation Authori...</td>\n",
       "      <td>8.0</td>\n",
       "      <td>41181000</td>\n",
       "    </tr>\n",
       "    <tr>\n",
       "      <th>17</th>\n",
       "      <td>San Joaquin Regional Transit District</td>\n",
       "      <td>12.0</td>\n",
       "      <td>6841000</td>\n",
       "    </tr>\n",
       "    <tr>\n",
       "      <th>18</th>\n",
       "      <td>Santa Barbara Metropolitan Transit District (S...</td>\n",
       "      <td>11.0</td>\n",
       "      <td>8346000</td>\n",
       "    </tr>\n",
       "    <tr>\n",
       "      <th>19</th>\n",
       "      <td>Santa Cruz Metropolitan Transit District (Metro)</td>\n",
       "      <td>22.0</td>\n",
       "      <td>13178000</td>\n",
       "    </tr>\n",
       "    <tr>\n",
       "      <th>20</th>\n",
       "      <td>Santa Monica Big Blue Bus</td>\n",
       "      <td>7.0</td>\n",
       "      <td>1105000</td>\n",
       "    </tr>\n",
       "    <tr>\n",
       "      <th>21</th>\n",
       "      <td>Sonoma County Transportation Authority (SCTA)</td>\n",
       "      <td>14.0</td>\n",
       "      <td>2389000</td>\n",
       "    </tr>\n",
       "    <tr>\n",
       "      <th>22</th>\n",
       "      <td>Southern California Regional Rail Authority (M...</td>\n",
       "      <td>9.0</td>\n",
       "      <td>41181000</td>\n",
       "    </tr>\n",
       "    <tr>\n",
       "      <th>23</th>\n",
       "      <td>Torrance Transit Department</td>\n",
       "      <td>7.0</td>\n",
       "      <td>6000000</td>\n",
       "    </tr>\n",
       "    <tr>\n",
       "      <th>24</th>\n",
       "      <td>Transit Joint Powers Authority for Merced County</td>\n",
       "      <td>3.0</td>\n",
       "      <td>3112000</td>\n",
       "    </tr>\n",
       "    <tr>\n",
       "      <th>25</th>\n",
       "      <td>Tulare County Regional Transit Agency (TCRTA)</td>\n",
       "      <td>30.0</td>\n",
       "      <td>0</td>\n",
       "    </tr>\n",
       "    <tr>\n",
       "      <th>26</th>\n",
       "      <td>Yuba-Sutter Transit</td>\n",
       "      <td>1.0</td>\n",
       "      <td>0</td>\n",
       "    </tr>\n",
       "  </tbody>\n",
       "</table>\n",
       "</div>"
      ],
      "text/plain": [
       "                                      grant_recipient  #_of_buses  \\\n",
       "0                Anaheim Transportation Network (ATN)        42.0   \n",
       "1     Antelope Valley Air Quality Management District        19.0   \n",
       "2   Antelope Valley Transit Authority & Long Beach...        12.0   \n",
       "3            Antelope Valley Transit Authority (AVTA)        29.0   \n",
       "4     City of Glendale and Arroyo Verdugo Communities        22.0   \n",
       "5                                    City of Pasadena        20.0   \n",
       "6                                City of Santa Monica        15.0   \n",
       "7                                 City of Simi Valley         6.0   \n",
       "8                                    City of Torrence        10.0   \n",
       "9                                       City of Wasco         6.0   \n",
       "10                                   Foothill Transit        20.0   \n",
       "11                   Humboldt Transit Authority (HTA)        10.0   \n",
       "12                             Lake Transit Authority         4.0   \n",
       "13  Los Angeles County Metropolitan Transportation...       161.0   \n",
       "14      Orange County Transportation Authority (OCTA)         5.0   \n",
       "15        San Diego Metropolitan Transit System (MTS)        22.0   \n",
       "16  San Francisco Municipal Transportation Authori...         8.0   \n",
       "17              San Joaquin Regional Transit District        12.0   \n",
       "18  Santa Barbara Metropolitan Transit District (S...        11.0   \n",
       "19   Santa Cruz Metropolitan Transit District (Metro)        22.0   \n",
       "20                          Santa Monica Big Blue Bus         7.0   \n",
       "21      Sonoma County Transportation Authority (SCTA)        14.0   \n",
       "22  Southern California Regional Rail Authority (M...         9.0   \n",
       "23                        Torrance Transit Department         7.0   \n",
       "24   Transit Joint Powers Authority for Merced County         3.0   \n",
       "25      Tulare County Regional Transit Agency (TCRTA)        30.0   \n",
       "26                                Yuba-Sutter Transit         1.0   \n",
       "\n",
       "    allocation_amount  \n",
       "0            13776000  \n",
       "1             8930000  \n",
       "2            11706000  \n",
       "3            30378000  \n",
       "4                   0  \n",
       "5                   0  \n",
       "6             3050000  \n",
       "7             4800000  \n",
       "8                   0  \n",
       "9              650000  \n",
       "10            5000000  \n",
       "11                  0  \n",
       "12                  0  \n",
       "13                  0  \n",
       "14            2320000  \n",
       "15           13382000  \n",
       "16           41181000  \n",
       "17            6841000  \n",
       "18            8346000  \n",
       "19           13178000  \n",
       "20            1105000  \n",
       "21            2389000  \n",
       "22           41181000  \n",
       "23            6000000  \n",
       "24            3112000  \n",
       "25                  0  \n",
       "26                  0  "
      ]
     },
     "execution_count": 61,
     "metadata": {},
     "output_type": "execute_result"
    }
   ],
   "source": [
    "bus_cost"
   ]
  },
  {
   "cell_type": "code",
   "execution_count": 67,
   "id": "a699f202-6fdc-4261-8ed5-d0fc328aa7a1",
   "metadata": {},
   "outputs": [],
   "source": [
    "bus_cost['cost_per_bus']= ((bus_cost['allocation_amount'])/(bus_cost['#_of_buses'])).astype('int64')"
   ]
  },
  {
   "cell_type": "code",
   "execution_count": 70,
   "id": "29bff029-a90d-4815-aa21-7405051d3063",
   "metadata": {},
   "outputs": [
    {
     "data": {
      "text/plain": [
       "grant_recipient       object\n",
       "#_of_buses           float64\n",
       "allocation_amount      int64\n",
       "cost_per_bus           int64\n",
       "dtype: object"
      ]
     },
     "metadata": {},
     "output_type": "display_data"
    },
    {
     "data": {
      "text/html": [
       "<div>\n",
       "<style scoped>\n",
       "    .dataframe tbody tr th:only-of-type {\n",
       "        vertical-align: middle;\n",
       "    }\n",
       "\n",
       "    .dataframe tbody tr th {\n",
       "        vertical-align: top;\n",
       "    }\n",
       "\n",
       "    .dataframe thead th {\n",
       "        text-align: right;\n",
       "    }\n",
       "</style>\n",
       "<table border=\"1\" class=\"dataframe\">\n",
       "  <thead>\n",
       "    <tr style=\"text-align: right;\">\n",
       "      <th></th>\n",
       "      <th>grant_recipient</th>\n",
       "      <th>#_of_buses</th>\n",
       "      <th>allocation_amount</th>\n",
       "      <th>cost_per_bus</th>\n",
       "    </tr>\n",
       "  </thead>\n",
       "  <tbody>\n",
       "    <tr>\n",
       "      <th>0</th>\n",
       "      <td>Anaheim Transportation Network (ATN)</td>\n",
       "      <td>42.0</td>\n",
       "      <td>13776000</td>\n",
       "      <td>328000</td>\n",
       "    </tr>\n",
       "    <tr>\n",
       "      <th>1</th>\n",
       "      <td>Antelope Valley Air Quality Management District</td>\n",
       "      <td>19.0</td>\n",
       "      <td>8930000</td>\n",
       "      <td>470000</td>\n",
       "    </tr>\n",
       "    <tr>\n",
       "      <th>2</th>\n",
       "      <td>Antelope Valley Transit Authority &amp; Long Beach...</td>\n",
       "      <td>12.0</td>\n",
       "      <td>11706000</td>\n",
       "      <td>975500</td>\n",
       "    </tr>\n",
       "    <tr>\n",
       "      <th>3</th>\n",
       "      <td>Antelope Valley Transit Authority (AVTA)</td>\n",
       "      <td>29.0</td>\n",
       "      <td>30378000</td>\n",
       "      <td>1047517</td>\n",
       "    </tr>\n",
       "    <tr>\n",
       "      <th>4</th>\n",
       "      <td>City of Glendale and Arroyo Verdugo Communities</td>\n",
       "      <td>22.0</td>\n",
       "      <td>0</td>\n",
       "      <td>0</td>\n",
       "    </tr>\n",
       "  </tbody>\n",
       "</table>\n",
       "</div>"
      ],
      "text/plain": [
       "                                     grant_recipient  #_of_buses  \\\n",
       "0               Anaheim Transportation Network (ATN)        42.0   \n",
       "1    Antelope Valley Air Quality Management District        19.0   \n",
       "2  Antelope Valley Transit Authority & Long Beach...        12.0   \n",
       "3           Antelope Valley Transit Authority (AVTA)        29.0   \n",
       "4    City of Glendale and Arroyo Verdugo Communities        22.0   \n",
       "\n",
       "   allocation_amount  cost_per_bus  \n",
       "0           13776000        328000  \n",
       "1            8930000        470000  \n",
       "2           11706000        975500  \n",
       "3           30378000       1047517  \n",
       "4                  0             0  "
      ]
     },
     "metadata": {},
     "output_type": "display_data"
    }
   ],
   "source": [
    "display(bus_cost.dtypes,bus_cost.head())"
   ]
  },
  {
   "cell_type": "code",
   "execution_count": 72,
   "id": "d988e8f0-f655-4477-a1e0-a56f61df9e8b",
   "metadata": {},
   "outputs": [],
   "source": [
    "#exporting cost per bus\n",
    "bus_cost.to_csv(\"gs://calitp-analytics-data/data-analyses/bus_procurement_cost/tircp_cost_per_bus.csv\")"
   ]
  },
  {
   "cell_type": "code",
   "execution_count": null,
   "id": "9f430abb-1be2-4c50-af08-bfc06c2488dd",
   "metadata": {},
   "outputs": [],
   "source": [
    "# import re\n",
    "\n",
    "# input_string = \"Renovation and expansion of the Monterey maintenance and operations facility, Reduced Deadheads for 30 buses, increased transit service connecting East Salinas and the Salinas Intermodal Station. procure 114 new buses\"\n",
    "\n",
    "# Extract all numbers from the string\n",
    "# numbers = re.findall(r'\\d+', input_string)\n",
    "\n",
    "# print(\"Extracted Numbers:\", numbers)"
   ]
  }
 ],
 "metadata": {
  "kernelspec": {
   "display_name": "Python 3 (ipykernel)",
   "language": "python",
   "name": "python3"
  },
  "language_info": {
   "codemirror_mode": {
    "name": "ipython",
    "version": 3
   },
   "file_extension": ".py",
   "mimetype": "text/x-python",
   "name": "python",
   "nbconvert_exporter": "python",
   "pygments_lexer": "ipython3",
   "version": "3.9.13"
  }
 },
 "nbformat": 4,
 "nbformat_minor": 5
}
