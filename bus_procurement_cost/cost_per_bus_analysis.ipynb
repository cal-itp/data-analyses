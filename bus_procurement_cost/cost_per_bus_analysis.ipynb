{
 "cells": [
  {
   "cell_type": "code",
   "execution_count": 1,
   "id": "8b95db91-abf1-4357-884f-e11d73777da5",
   "metadata": {},
   "outputs": [],
   "source": [
    "import matplotlib.pyplot as plt\n",
    "import pandas as pd\n",
    "import shared_utils\n",
    "from scipy.stats import zscore\n",
    "import seaborn as sns\n",
    "import numpy as np\n",
    "\n",
    "# set_option to increase max rows displayed to 200, to see entire df in 1 go/\n",
    "pd.set_option(\"display.max_rows\", 200)"
   ]
  },
  {
   "cell_type": "markdown",
   "id": "3a641eca-bca2-4a80-944a-f4c120e07de9",
   "metadata": {
    "tags": []
   },
   "source": [
    "## Read in cost per bus data"
   ]
  },
  {
   "cell_type": "code",
   "execution_count": 2,
   "id": "f6531b72-ddb6-4738-96e3-5938ff2398f4",
   "metadata": {},
   "outputs": [],
   "source": [
    "# FTA Grant Award Press Release Data\n",
    "fta = pd.read_csv('gs://calitp-analytics-data/data-analyses/bus_procurement_cost/fta_bus_cost_clean.csv')"
   ]
  },
  {
   "cell_type": "code",
   "execution_count": 3,
   "id": "6c6e562c-1c69-4128-ad16-415f742889c2",
   "metadata": {},
   "outputs": [],
   "source": [
    "# TIRCP Project Tracking Data \n",
    "tircp = pd.read_csv('gs://calitp-analytics-data/data-analyses/bus_procurement_cost/tircp_project_bus_only.csv')"
   ]
  },
  {
   "cell_type": "markdown",
   "id": "3e019b4d-2445-4d7c-a2a9-0cb2c5953a44",
   "metadata": {},
   "source": [
    "## Game Plan\n",
    "- bring in both data sets (FTA Press Release and TIRCP bus data\n",
    "- FTA data, make sure it only has rows with bus count > 0\n",
    "- Test to consolidate up the transit agencies in both data sets (expect to run into trouble with prop type and bus size values)\n",
    "- Create shorten data frames for each. include the following columns:\n",
    "    1. agency name (project_sponsor & grant_recipient)\n",
    "    2. project title? (project_title)\n",
    "    3. project award amount (funding and tircp_award_amount($))\n",
    "    4. bus count (bus_count)\n",
    "    5. propulsion type (prop_type)\n",
    "    6. bus size type (bus_size_type)\n",
    "- may need to clean up the prop type and bus size type if there are any similar categories\n"
   ]
  },
  {
   "cell_type": "markdown",
   "id": "6950af52-f9eb-440b-9801-0396b650d502",
   "metadata": {
    "tags": []
   },
   "source": [
    "## Dataset cleaning"
   ]
  },
  {
   "cell_type": "code",
   "execution_count": 14,
   "id": "409544f4-f924-4ce1-a9ae-a11c24ef8ffb",
   "metadata": {},
   "outputs": [
    {
     "data": {
      "text/plain": [
       "(Index(['state', 'project_sponsor', 'project_title', 'description', 'funding',\n",
       "        'approx_#_of_buses', 'project_type', 'propulsion_category',\n",
       "        'area_served', 'congressional_districts', 'fta_region',\n",
       "        'bus/low-no_program', 'bus_count', 'prop_type', 'bus_size_type'],\n",
       "       dtype='object'),\n",
       " Index(['Unnamed: 0.2', 'Unnamed: 0.1', 'award_year', 'project_#',\n",
       "        'grant_recipient', 'project_title', 'ppno', 'district', 'county',\n",
       "        'project_description', 'bus_count', 'master_agreement_number',\n",
       "        'total_project_cost', 'tircp_award_amount_($)', 'prop_type',\n",
       "        'bus_size_type'],\n",
       "       dtype='object'))"
      ]
     },
     "execution_count": 14,
     "metadata": {},
     "output_type": "execute_result"
    }
   ],
   "source": [
    "fta.columns,  tircp.columns"
   ]
  },
  {
   "cell_type": "code",
   "execution_count": 7,
   "id": "5f69347f-5e7b-487c-bff1-31a9fc31dd22",
   "metadata": {},
   "outputs": [
    {
     "data": {
      "text/plain": [
       "(130, 15)"
      ]
     },
     "metadata": {},
     "output_type": "display_data"
    },
    {
     "data": {
      "text/plain": [
       "Index(['state', 'project_sponsor', 'project_title', 'description', 'funding',\n",
       "       'approx_#_of_buses', 'project_type', 'propulsion_category',\n",
       "       'area_served', 'congressional_districts', 'fta_region',\n",
       "       'bus/low-no_program', 'bus_count', 'prop_type', 'bus_size_type'],\n",
       "      dtype='object')"
      ]
     },
     "metadata": {},
     "output_type": "display_data"
    },
    {
     "data": {
      "text/plain": [
       "state                      object\n",
       "project_sponsor            object\n",
       "project_title              object\n",
       "description                object\n",
       "funding                     int64\n",
       "approx_#_of_buses          object\n",
       "project_type               object\n",
       "propulsion_category        object\n",
       "area_served                object\n",
       "congressional_districts    object\n",
       "fta_region                  int64\n",
       "bus/low-no_program         object\n",
       "bus_count                   int64\n",
       "prop_type                  object\n",
       "bus_size_type              object\n",
       "dtype: object"
      ]
     },
     "metadata": {},
     "output_type": "display_data"
    },
    {
     "data": {
      "text/html": [
       "<div>\n",
       "<style scoped>\n",
       "    .dataframe tbody tr th:only-of-type {\n",
       "        vertical-align: middle;\n",
       "    }\n",
       "\n",
       "    .dataframe tbody tr th {\n",
       "        vertical-align: top;\n",
       "    }\n",
       "\n",
       "    .dataframe thead th {\n",
       "        text-align: right;\n",
       "    }\n",
       "</style>\n",
       "<table border=\"1\" class=\"dataframe\">\n",
       "  <thead>\n",
       "    <tr style=\"text-align: right;\">\n",
       "      <th></th>\n",
       "      <th>state</th>\n",
       "      <th>project_sponsor</th>\n",
       "      <th>project_title</th>\n",
       "      <th>description</th>\n",
       "      <th>funding</th>\n",
       "      <th>approx_#_of_buses</th>\n",
       "      <th>project_type</th>\n",
       "      <th>propulsion_category</th>\n",
       "      <th>area_served</th>\n",
       "      <th>congressional_districts</th>\n",
       "      <th>fta_region</th>\n",
       "      <th>bus/low-no_program</th>\n",
       "      <th>bus_count</th>\n",
       "      <th>prop_type</th>\n",
       "      <th>bus_size_type</th>\n",
       "    </tr>\n",
       "  </thead>\n",
       "  <tbody>\n",
       "    <tr>\n",
       "      <th>0</th>\n",
       "      <td>DC</td>\n",
       "      <td>Washington Metropolitan Area Transit Authority...</td>\n",
       "      <td>Battery-Electric Metrobus Procurement and Elec...</td>\n",
       "      <td>WMATA will receive funding to convert its Cind...</td>\n",
       "      <td>104000000</td>\n",
       "      <td>100(beb)</td>\n",
       "      <td>bus/chargers</td>\n",
       "      <td>zero</td>\n",
       "      <td>Large Urban</td>\n",
       "      <td>DC-001 ; MD-004 ; MD-008 ; VA-008 ; VA-011</td>\n",
       "      <td>3</td>\n",
       "      <td>Low-No</td>\n",
       "      <td>100</td>\n",
       "      <td>BEB</td>\n",
       "      <td>not specified</td>\n",
       "    </tr>\n",
       "    <tr>\n",
       "      <th>1</th>\n",
       "      <td>TX</td>\n",
       "      <td>Dallas Area Rapid Transit (DART)</td>\n",
       "      <td>DART CNG Bus Fleet Modernization Project</td>\n",
       "      <td>Dallas Area Rapid Transit will receive funding...</td>\n",
       "      <td>103000000</td>\n",
       "      <td>90(estimated-CNGbuses)</td>\n",
       "      <td>bus</td>\n",
       "      <td>low</td>\n",
       "      <td>Large Urban</td>\n",
       "      <td>TX-003 ; TX-004 ; TX-005 ; TX-006 ; TX-024 ; T...</td>\n",
       "      <td>6</td>\n",
       "      <td>Low-No</td>\n",
       "      <td>90</td>\n",
       "      <td>CNG</td>\n",
       "      <td>not specified</td>\n",
       "    </tr>\n",
       "    <tr>\n",
       "      <th>2</th>\n",
       "      <td>PA</td>\n",
       "      <td>Southeastern Pennsylvania Transportation Autho...</td>\n",
       "      <td>SEPTA Zero-Emission Bus Transition Facility Sa...</td>\n",
       "      <td>The Southeastern Pennsylvania Transportation A...</td>\n",
       "      <td>80000000</td>\n",
       "      <td>0</td>\n",
       "      <td>facility</td>\n",
       "      <td>zero</td>\n",
       "      <td>Large Urban</td>\n",
       "      <td>PA-002 ; PA-003 ; PA-004 ; PA-005</td>\n",
       "      <td>3</td>\n",
       "      <td>Low-No</td>\n",
       "      <td>0</td>\n",
       "      <td>NaN</td>\n",
       "      <td>not specified</td>\n",
       "    </tr>\n",
       "    <tr>\n",
       "      <th>3</th>\n",
       "      <td>LA</td>\n",
       "      <td>New Orleans Regional Transit Authority</td>\n",
       "      <td>Accelerating Zero-Emissions Mobility for a Res...</td>\n",
       "      <td>The New Orleans Regional Transit Authority wil...</td>\n",
       "      <td>71439261</td>\n",
       "      <td>20(zero-emission)</td>\n",
       "      <td>bus/chargers/equipment</td>\n",
       "      <td>zero</td>\n",
       "      <td>Large Urban</td>\n",
       "      <td>LA-002 ; LA-001</td>\n",
       "      <td>6</td>\n",
       "      <td>Low-No</td>\n",
       "      <td>20</td>\n",
       "      <td>zero-emission bus (not specified)</td>\n",
       "      <td>not specified</td>\n",
       "    </tr>\n",
       "    <tr>\n",
       "      <th>4</th>\n",
       "      <td>NJ</td>\n",
       "      <td>New Jersey Transit Corporation</td>\n",
       "      <td>Hilton Bus Garage Modernization</td>\n",
       "      <td>New Jersey Transit will receive funding to mod...</td>\n",
       "      <td>47000000</td>\n",
       "      <td>0</td>\n",
       "      <td>facility/chargers</td>\n",
       "      <td>zero</td>\n",
       "      <td>Large Urban</td>\n",
       "      <td>nj-011</td>\n",
       "      <td>2</td>\n",
       "      <td>Bus</td>\n",
       "      <td>0</td>\n",
       "      <td>NaN</td>\n",
       "      <td>not specified</td>\n",
       "    </tr>\n",
       "  </tbody>\n",
       "</table>\n",
       "</div>"
      ],
      "text/plain": [
       "  state                                    project_sponsor  \\\n",
       "0    DC  Washington Metropolitan Area Transit Authority...   \n",
       "1    TX                   Dallas Area Rapid Transit (DART)   \n",
       "2    PA  Southeastern Pennsylvania Transportation Autho...   \n",
       "3    LA             New Orleans Regional Transit Authority   \n",
       "4    NJ                     New Jersey Transit Corporation   \n",
       "\n",
       "                                       project_title  \\\n",
       "0  Battery-Electric Metrobus Procurement and Elec...   \n",
       "1           DART CNG Bus Fleet Modernization Project   \n",
       "2  SEPTA Zero-Emission Bus Transition Facility Sa...   \n",
       "3  Accelerating Zero-Emissions Mobility for a Res...   \n",
       "4                    Hilton Bus Garage Modernization   \n",
       "\n",
       "                                         description    funding  \\\n",
       "0  WMATA will receive funding to convert its Cind...  104000000   \n",
       "1  Dallas Area Rapid Transit will receive funding...  103000000   \n",
       "2  The Southeastern Pennsylvania Transportation A...   80000000   \n",
       "3  The New Orleans Regional Transit Authority wil...   71439261   \n",
       "4  New Jersey Transit will receive funding to mod...   47000000   \n",
       "\n",
       "        approx_#_of_buses            project_type propulsion_category  \\\n",
       "0                100(beb)            bus/chargers                zero   \n",
       "1  90(estimated-CNGbuses)                     bus                 low   \n",
       "2                       0                facility                zero   \n",
       "3       20(zero-emission)  bus/chargers/equipment                zero   \n",
       "4                       0       facility/chargers                zero   \n",
       "\n",
       "   area_served                            congressional_districts  fta_region  \\\n",
       "0  Large Urban         DC-001 ; MD-004 ; MD-008 ; VA-008 ; VA-011           3   \n",
       "1  Large Urban  TX-003 ; TX-004 ; TX-005 ; TX-006 ; TX-024 ; T...           6   \n",
       "2  Large Urban                  PA-002 ; PA-003 ; PA-004 ; PA-005           3   \n",
       "3  Large Urban                                    LA-002 ; LA-001           6   \n",
       "4  Large Urban                                             nj-011           2   \n",
       "\n",
       "  bus/low-no_program  bus_count                          prop_type  \\\n",
       "0             Low-No        100                                BEB   \n",
       "1             Low-No         90                                CNG   \n",
       "2             Low-No          0                                NaN   \n",
       "3             Low-No         20  zero-emission bus (not specified)   \n",
       "4                Bus          0                                NaN   \n",
       "\n",
       "   bus_size_type  \n",
       "0  not specified  \n",
       "1  not specified  \n",
       "2  not specified  \n",
       "3  not specified  \n",
       "4  not specified  "
      ]
     },
     "metadata": {},
     "output_type": "display_data"
    },
    {
     "data": {
      "text/plain": [
       "(37, 16)"
      ]
     },
     "metadata": {},
     "output_type": "display_data"
    },
    {
     "data": {
      "text/plain": [
       "Index(['Unnamed: 0.2', 'Unnamed: 0.1', 'award_year', 'project_#',\n",
       "       'grant_recipient', 'project_title', 'ppno', 'district', 'county',\n",
       "       'project_description', 'bus_count', 'master_agreement_number',\n",
       "       'total_project_cost', 'tircp_award_amount_($)', 'prop_type',\n",
       "       'bus_size_type'],\n",
       "      dtype='object')"
      ]
     },
     "metadata": {},
     "output_type": "display_data"
    },
    {
     "data": {
      "text/plain": [
       "Unnamed: 0.2                 int64\n",
       "Unnamed: 0.1                 int64\n",
       "award_year                   int64\n",
       "project_#                    int64\n",
       "grant_recipient             object\n",
       "project_title               object\n",
       "ppno                        object\n",
       "district                     int64\n",
       "county                      object\n",
       "project_description         object\n",
       "bus_count                  float64\n",
       "master_agreement_number     object\n",
       "total_project_cost           int64\n",
       "tircp_award_amount_($)       int64\n",
       "prop_type                   object\n",
       "bus_size_type               object\n",
       "dtype: object"
      ]
     },
     "metadata": {},
     "output_type": "display_data"
    },
    {
     "data": {
      "text/html": [
       "<div>\n",
       "<style scoped>\n",
       "    .dataframe tbody tr th:only-of-type {\n",
       "        vertical-align: middle;\n",
       "    }\n",
       "\n",
       "    .dataframe tbody tr th {\n",
       "        vertical-align: top;\n",
       "    }\n",
       "\n",
       "    .dataframe thead th {\n",
       "        text-align: right;\n",
       "    }\n",
       "</style>\n",
       "<table border=\"1\" class=\"dataframe\">\n",
       "  <thead>\n",
       "    <tr style=\"text-align: right;\">\n",
       "      <th></th>\n",
       "      <th>Unnamed: 0.2</th>\n",
       "      <th>Unnamed: 0.1</th>\n",
       "      <th>award_year</th>\n",
       "      <th>project_#</th>\n",
       "      <th>grant_recipient</th>\n",
       "      <th>project_title</th>\n",
       "      <th>ppno</th>\n",
       "      <th>district</th>\n",
       "      <th>county</th>\n",
       "      <th>project_description</th>\n",
       "      <th>bus_count</th>\n",
       "      <th>master_agreement_number</th>\n",
       "      <th>total_project_cost</th>\n",
       "      <th>tircp_award_amount_($)</th>\n",
       "      <th>prop_type</th>\n",
       "      <th>bus_size_type</th>\n",
       "    </tr>\n",
       "  </thead>\n",
       "  <tbody>\n",
       "    <tr>\n",
       "      <th>0</th>\n",
       "      <td>0</td>\n",
       "      <td>0</td>\n",
       "      <td>2015</td>\n",
       "      <td>1</td>\n",
       "      <td>Antelope Valley Transit Authority (AVTA)</td>\n",
       "      <td>Regional Transit Interconnectivity &amp; Environme...</td>\n",
       "      <td>CP005</td>\n",
       "      <td>7</td>\n",
       "      <td>LA</td>\n",
       "      <td>Purchase 13 60-foot articulated BRT buses and ...</td>\n",
       "      <td>29.0</td>\n",
       "      <td>64AVTA2015MA</td>\n",
       "      <td>39478000</td>\n",
       "      <td>24403000</td>\n",
       "      <td>electric (not specified)</td>\n",
       "      <td>conventional (40-ft like)</td>\n",
       "    </tr>\n",
       "    <tr>\n",
       "      <th>1</th>\n",
       "      <td>5</td>\n",
       "      <td>5</td>\n",
       "      <td>2015</td>\n",
       "      <td>6</td>\n",
       "      <td>Orange County Transportation Authority (OCTA)</td>\n",
       "      <td>Bravo! Route 560 Rapid Buses</td>\n",
       "      <td>CP004</td>\n",
       "      <td>12</td>\n",
       "      <td>ORA</td>\n",
       "      <td>Purchase five 40-foot CNG buses for BRT Route ...</td>\n",
       "      <td>40.0</td>\n",
       "      <td>64OCTAMA</td>\n",
       "      <td>2900000</td>\n",
       "      <td>2320000</td>\n",
       "      <td>CNG</td>\n",
       "      <td>conventional (40-ft like)</td>\n",
       "    </tr>\n",
       "    <tr>\n",
       "      <th>2</th>\n",
       "      <td>11</td>\n",
       "      <td>11</td>\n",
       "      <td>2015</td>\n",
       "      <td>12</td>\n",
       "      <td>San Joaquin Regional Transit District (SJRTD)</td>\n",
       "      <td>BRT Expansion: MLK Corridor and Crosstown Mine...</td>\n",
       "      <td>CP011</td>\n",
       "      <td>10</td>\n",
       "      <td>SJ</td>\n",
       "      <td>Bus rapid transit infrastructure along the MLK...</td>\n",
       "      <td>12.0</td>\n",
       "      <td>64SJRRCMA A1</td>\n",
       "      <td>19118776</td>\n",
       "      <td>6841000</td>\n",
       "      <td>zero-emission bus (not specified)</td>\n",
       "      <td>not specified</td>\n",
       "    </tr>\n",
       "    <tr>\n",
       "      <th>3</th>\n",
       "      <td>16</td>\n",
       "      <td>16</td>\n",
       "      <td>2016</td>\n",
       "      <td>3</td>\n",
       "      <td>Foothill Transit</td>\n",
       "      <td>Transforming California: Bus Electrification, ...</td>\n",
       "      <td>CP076</td>\n",
       "      <td>7</td>\n",
       "      <td>LA</td>\n",
       "      <td>Purchase 20 zero-emission buses to extend Rout...</td>\n",
       "      <td>20.0</td>\n",
       "      <td>64FOOTHILLMA</td>\n",
       "      <td>16580000</td>\n",
       "      <td>5000000</td>\n",
       "      <td>zero-emission bus (not specified)</td>\n",
       "      <td>not specified</td>\n",
       "    </tr>\n",
       "    <tr>\n",
       "      <th>4</th>\n",
       "      <td>29</td>\n",
       "      <td>29</td>\n",
       "      <td>2018</td>\n",
       "      <td>2</td>\n",
       "      <td>Anaheim Transportation Network (ATN)</td>\n",
       "      <td>#Electrify Anaheim: Changing the Transit Parad...</td>\n",
       "      <td>CP027</td>\n",
       "      <td>12</td>\n",
       "      <td>ORA</td>\n",
       "      <td>Deploys 40 zero-emission electric buses to dou...</td>\n",
       "      <td>40.0</td>\n",
       "      <td>64ATNMA A1</td>\n",
       "      <td>45201000</td>\n",
       "      <td>28617000</td>\n",
       "      <td>electric (not specified)</td>\n",
       "      <td>not specified</td>\n",
       "    </tr>\n",
       "  </tbody>\n",
       "</table>\n",
       "</div>"
      ],
      "text/plain": [
       "   Unnamed: 0.2  Unnamed: 0.1  award_year  project_#  \\\n",
       "0             0             0        2015          1   \n",
       "1             5             5        2015          6   \n",
       "2            11            11        2015         12   \n",
       "3            16            16        2016          3   \n",
       "4            29            29        2018          2   \n",
       "\n",
       "                                 grant_recipient  \\\n",
       "0       Antelope Valley Transit Authority (AVTA)   \n",
       "1  Orange County Transportation Authority (OCTA)   \n",
       "2  San Joaquin Regional Transit District (SJRTD)   \n",
       "3                               Foothill Transit   \n",
       "4           Anaheim Transportation Network (ATN)   \n",
       "\n",
       "                                       project_title   ppno  district county  \\\n",
       "0  Regional Transit Interconnectivity & Environme...  CP005         7     LA   \n",
       "1                       Bravo! Route 560 Rapid Buses  CP004        12    ORA   \n",
       "2  BRT Expansion: MLK Corridor and Crosstown Mine...  CP011        10    SJ    \n",
       "3  Transforming California: Bus Electrification, ...  CP076         7     LA   \n",
       "4  #Electrify Anaheim: Changing the Transit Parad...  CP027        12    ORA   \n",
       "\n",
       "                                 project_description  bus_count  \\\n",
       "0  Purchase 13 60-foot articulated BRT buses and ...       29.0   \n",
       "1  Purchase five 40-foot CNG buses for BRT Route ...       40.0   \n",
       "2  Bus rapid transit infrastructure along the MLK...       12.0   \n",
       "3  Purchase 20 zero-emission buses to extend Rout...       20.0   \n",
       "4  Deploys 40 zero-emission electric buses to dou...       40.0   \n",
       "\n",
       "  master_agreement_number  total_project_cost  tircp_award_amount_($)  \\\n",
       "0            64AVTA2015MA            39478000                24403000   \n",
       "1                64OCTAMA             2900000                 2320000   \n",
       "2            64SJRRCMA A1            19118776                 6841000   \n",
       "3            64FOOTHILLMA            16580000                 5000000   \n",
       "4              64ATNMA A1            45201000                28617000   \n",
       "\n",
       "                           prop_type              bus_size_type  \n",
       "0           electric (not specified)  conventional (40-ft like)  \n",
       "1                                CNG  conventional (40-ft like)  \n",
       "2  zero-emission bus (not specified)              not specified  \n",
       "3  zero-emission bus (not specified)              not specified  \n",
       "4           electric (not specified)              not specified  "
      ]
     },
     "metadata": {},
     "output_type": "display_data"
    }
   ],
   "source": [
    "# peaking into each dataset\n",
    "data=[fta, tircp]\n",
    "\n",
    "for x in data:\n",
    "    display(x.shape,\n",
    "           x.columns,\n",
    "           x.dtypes,\n",
    "           x.head())"
   ]
  },
  {
   "cell_type": "code",
   "execution_count": 6,
   "id": "b86bce5a-8065-4848-8eef-5450c106fed2",
   "metadata": {},
   "outputs": [],
   "source": [
    "#look to drop column from each df\n",
    "data=[fta, tircp]\n",
    "\n",
    "for x in data:\n",
    "    x.drop('Unnamed: 0', axis=1, inplace=True)"
   ]
  },
  {
   "cell_type": "code",
   "execution_count": null,
   "id": "9e9e0945-5f9f-4a07-b9b4-7364a848d7bc",
   "metadata": {},
   "outputs": [],
   "source": [
    "display(fta.columns,\n",
    "tircp.columns)"
   ]
  },
  {
   "cell_type": "markdown",
   "id": "db7c3d45-d0b6-469a-b299-ccfb4efdbce1",
   "metadata": {},
   "source": [
    "### reorder columns"
   ]
  },
  {
   "cell_type": "code",
   "execution_count": null,
   "id": "f55f8473-9af6-4c2d-8d8f-0698cde0c265",
   "metadata": {},
   "outputs": [],
   "source": [
    "new_order =['grant_recipient',\n",
    "              'tircp_award_amount_($)',\n",
    "              'bus_count',\n",
    "              'cost_per_bus']\n",
    "tircp = tircp[new_order]"
   ]
  },
  {
   "cell_type": "markdown",
   "id": "cdfd4d75-59d3-482c-97bd-349a11abf105",
   "metadata": {},
   "source": [
    "### rename columns to match eachother"
   ]
  },
  {
   "cell_type": "code",
   "execution_count": null,
   "id": "95c0112f-78cb-4cb5-aa09-d75b124cdbec",
   "metadata": {},
   "outputs": [],
   "source": [
    "new_col =['project_sponsor', 'funding', 'bus_count', 'cost_per_bus']\n",
    "\n",
    "tircp.columns=new_col"
   ]
  },
  {
   "cell_type": "code",
   "execution_count": null,
   "id": "dfaf1766-5a70-4ec2-a54b-0e16f9fca8bc",
   "metadata": {},
   "outputs": [],
   "source": [
    "display(list(fta.columns),\n",
    "list(tircp.columns))"
   ]
  },
  {
   "cell_type": "code",
   "execution_count": null,
   "id": "7f801d4d-ac40-4c19-9c61-540a922b8805",
   "metadata": {},
   "outputs": [],
   "source": [
    "# add new col to identify source\n",
    "fta['source']='fta'\n",
    "tircp['source']='tircp_project_tracking'"
   ]
  },
  {
   "cell_type": "code",
   "execution_count": null,
   "id": "1e71a2b7-ccfd-4e3f-a810-fa0227d899d2",
   "metadata": {},
   "outputs": [],
   "source": [
    "display(fta.head(),tircp.head())"
   ]
  },
  {
   "cell_type": "markdown",
   "id": "b8ca8d50-5041-4459-a764-ccc12ced2037",
   "metadata": {},
   "source": [
    "### Concat both dataframes"
   ]
  },
  {
   "cell_type": "code",
   "execution_count": null,
   "id": "5c7bfad5-9048-4712-b663-c4795b071737",
   "metadata": {},
   "outputs": [],
   "source": [
    "concat = pd.concat([fta,tircp], axis=0).reset_index()"
   ]
  },
  {
   "cell_type": "code",
   "execution_count": null,
   "id": "7d5dd236-bdb4-4213-997a-b2c9a4b8c0b6",
   "metadata": {},
   "outputs": [],
   "source": [
    "concat = concat.drop('index', axis=1)"
   ]
  },
  {
   "cell_type": "code",
   "execution_count": null,
   "id": "9c63d955-ccff-4316-aa42-1aa66af7beed",
   "metadata": {},
   "outputs": [],
   "source": [
    "concat"
   ]
  },
  {
   "cell_type": "code",
   "execution_count": null,
   "id": "4ea75308-6784-4aba-ae2d-b8ceb05ad189",
   "metadata": {},
   "outputs": [],
   "source": [
    "list(concat.project_sponsor.sort_values().unique())"
   ]
  },
  {
   "cell_type": "markdown",
   "id": "14f00383-8c11-4656-a019-a5b58cc4d076",
   "metadata": {
    "jp-MarkdownHeadingCollapsed": true,
    "tags": []
   },
   "source": [
    "## Export concat data"
   ]
  },
  {
   "cell_type": "code",
   "execution_count": null,
   "id": "173aa1c6-fc73-4476-b3d0-e3bab1c48e4b",
   "metadata": {},
   "outputs": [],
   "source": [
    "concat.to_csv('gs://calitp-analytics-data/data-analyses/bus_procurement_cost/fta_tircp_concat.csv')"
   ]
  },
  {
   "cell_type": "markdown",
   "id": "e7582392-0b4b-4c95-a2a6-b0939cf63862",
   "metadata": {
    "jp-MarkdownHeadingCollapsed": true,
    "tags": []
   },
   "source": [
    "## Read in concat data (TIRCP and FTA data)"
   ]
  },
  {
   "cell_type": "code",
   "execution_count": null,
   "id": "5b474b47-7617-4eaa-b8fb-c86709c77368",
   "metadata": {},
   "outputs": [],
   "source": [
    "concat = pd.read_csv('gs://calitp-analytics-data/data-analyses/bus_procurement_cost/fta_tircp_concat.csv')"
   ]
  },
  {
   "cell_type": "code",
   "execution_count": null,
   "id": "89faef72-2c03-46e5-b908-9b6bd86b1210",
   "metadata": {},
   "outputs": [],
   "source": [
    "display(concat.shape,\n",
    "        concat.dtypes,\n",
    "        concat.head(),\n",
    "       )\n",
    "        "
   ]
  },
  {
   "cell_type": "code",
   "execution_count": null,
   "id": "71a64926-2ea5-4bbf-aae9-d243c3830ada",
   "metadata": {},
   "outputs": [],
   "source": [
    "# add new column for z-score\n",
    "concat['zscore_' + 'cost_per_bus'] = zscore(concat['cost_per_bus'])"
   ]
  },
  {
   "cell_type": "code",
   "execution_count": null,
   "id": "5111734e-6f0e-4d99-a585-94f80341ca11",
   "metadata": {},
   "outputs": [],
   "source": [
    "concat.shape"
   ]
  },
  {
   "cell_type": "code",
   "execution_count": null,
   "id": "b074a5a1-8479-4366-9dff-5533263b45c1",
   "metadata": {},
   "outputs": [],
   "source": [
    "# remove outliers\n",
    "#filter df for zscores =>-3<=3\n",
    "filtered = concat[(concat['zscore_cost_per_bus'] >= -3) & (concat['zscore_cost_per_bus'] <=3)]"
   ]
  },
  {
   "cell_type": "code",
   "execution_count": null,
   "id": "8e2309e9-c6f0-4718-a5a9-17991345d243",
   "metadata": {},
   "outputs": [],
   "source": [
    "# 2 rows were dropped\n",
    "filtered.shape"
   ]
  },
  {
   "cell_type": "code",
   "execution_count": null,
   "id": "8aa8cda1-1caf-45a0-ad06-0bda5d81aefa",
   "metadata": {},
   "outputs": [],
   "source": [
    "filtered.zscore_cost_per_bus.max()"
   ]
  },
  {
   "cell_type": "code",
   "execution_count": null,
   "id": "5d7b379c-a7d6-43d9-9290-4b7b6fe07ef5",
   "metadata": {},
   "outputs": [],
   "source": [
    "filtered.sort_values(by='cost_per_bus', ascending=False).head()"
   ]
  },
  {
   "cell_type": "markdown",
   "id": "eaf73856-2e5b-48be-9107-a8ca97b22f1f",
   "metadata": {
    "jp-MarkdownHeadingCollapsed": true,
    "tags": []
   },
   "source": [
    "## Stats Analysis"
   ]
  },
  {
   "cell_type": "code",
   "execution_count": null,
   "id": "49d3cd64-fc0c-4749-a378-30730bbd8fc7",
   "metadata": {},
   "outputs": [],
   "source": [
    "mean = np.mean(filtered['cost_per_bus'])\n",
    "std_dev = np.std(filtered['cost_per_bus'])\n",
    "\n",
    "#zscore\n",
    "mean2 = np.mean(filtered['zscore_cost_per_bus'])\n",
    "std_dev2 = np.std(filtered['zscore_cost_per_bus'])\n"
   ]
  },
  {
   "cell_type": "code",
   "execution_count": null,
   "id": "e42ba34a-2712-438b-a708-1bc149ec9295",
   "metadata": {},
   "outputs": [],
   "source": [
    "mean2 + (std_dev2*3)"
   ]
  },
  {
   "cell_type": "markdown",
   "id": "88f21124-6b2e-4e3c-b5f2-4d7bfca8b1f5",
   "metadata": {
    "jp-MarkdownHeadingCollapsed": true,
    "tags": []
   },
   "source": [
    "## Summary"
   ]
  },
  {
   "cell_type": "code",
   "execution_count": null,
   "id": "0bd93bab-5b41-43dc-a122-9ef284d18298",
   "metadata": {
    "jupyter": {
     "source_hidden": true
    },
    "tags": []
   },
   "outputs": [],
   "source": [
    "concat.head()"
   ]
  },
  {
   "cell_type": "code",
   "execution_count": null,
   "id": "fd7906a3-7bf1-4bed-afa3-1a69f21c155f",
   "metadata": {
    "jupyter": {
     "source_hidden": true
    },
    "tags": []
   },
   "outputs": [],
   "source": [
    "concat.sort_values(by='cost_per_bus',ascending=True).head()"
   ]
  },
  {
   "cell_type": "code",
   "execution_count": null,
   "id": "1cb3ff5d-fa12-4e28-982d-96a0143a2b0f",
   "metadata": {
    "jupyter": {
     "source_hidden": true
    },
    "tags": []
   },
   "outputs": [],
   "source": [
    "# Variables\n",
    "total_unique_projects = len(concat)\n",
    "total_bus_count = sum(concat.bus_count)\n",
    "total_funding = sum(concat.funding)\n",
    "min_bus_cost = concat.cost_per_bus.min()\n",
    "max_bus_cost = concat.cost_per_bus.max()\n",
    "max_bus_count = concat.bus_count.max()\n",
    "\n",
    "mean = np.mean(filtered['cost_per_bus'])\n",
    "std_dev = np.std(filtered['cost_per_bus'])\n",
    "\n",
    "agency_with_most_bus = concat.loc[concat['bus_count'].idxmax(), 'project_sponsor']\n",
    "#how many buses do they have? already answered\n",
    "agency_with_highest_funds = concat.loc[concat['funding'].idxmax(), 'project_sponsor']\n",
    "#what is the highest amount? already answered\n",
    "agency_max_cpb = concat.loc[concat['cost_per_bus'].idxmax(), 'project_sponsor']\n",
    "agency_min_cpb = concat.loc[concat['cost_per_bus'].idxmin(), 'project_sponsor']"
   ]
  },
  {
   "cell_type": "code",
   "execution_count": null,
   "id": "17f4e102-c684-4892-8fa0-0f21e5249ef1",
   "metadata": {
    "jupyter": {
     "source_hidden": true
    },
    "tags": []
   },
   "outputs": [],
   "source": [
    "summary = f'''\n",
    "As of today, data was scraped from mutltiple sources:\n",
    "    1. FTA Bus and Low- and No-Emission Grant Awards press release (federaly funded, nationwide data)\n",
    "    2. TIRCP project data (state-funded, California only)\n",
    "    \n",
    "Data from DGS usage reports, Georgia and Washington contracts to be analyzed next.\n",
    "\n",
    "Note, some projects included additional compoments besides bus purchases (chargers, transit facilities, parts, training) which may cause project costs to increase dramaticly, whereas other projects specified only bus purcahses, and some did not include and bus purchases at all.\n",
    "\n",
    "Datasets was filtered to only include data that specificed the number of buses to purchase. The compiled data was aggregated by agencies and a 'cost per_bus' metric was calculated by dividing the total funding the agency received by the total number of buses they specify.\n",
    "\n",
    "In total:\n",
    "    - {total_unique_projects} projects with bus purchases were analyzed.\n",
    "    - ${total_funding:,.2f} was awarded to agencies for projects including bus purchases.\n",
    "    - {total_bus_count} total buses are to be purchased.\n",
    "    - The highest cost per bus for an agency was ${max_bus_cost:,.2f}, belonging too {agency_max_cpb} \n",
    "    - The lowest cost per bus for an agency was ${min_bus_cost:,.2f}, belonging too {agency_min_cpb}\n",
    "    \n",
    "\n",
    "The agency with the most buses specified was {agency_with_most_bus} with {max_bus_count} buses.\n",
    "\n",
    "After removing outliers, the following was discovered:\n",
    "    - the mean cost per bus is ${mean:,.2f}.\n",
    "    - the standard deviation is ${std_dev:,.2f}. \n",
    "\n",
    "Below are charts that summarize the data.\n",
    "'''"
   ]
  },
  {
   "cell_type": "code",
   "execution_count": null,
   "id": "808369c9-b70f-4185-9dc1-0bda833f2815",
   "metadata": {},
   "outputs": [],
   "source": [
    "concat.head()"
   ]
  },
  {
   "cell_type": "code",
   "execution_count": null,
   "id": "619d8c20-0383-470b-b3a5-11ea9f2b5ef7",
   "metadata": {},
   "outputs": [],
   "source": [
    "print(summary)"
   ]
  },
  {
   "cell_type": "code",
   "execution_count": null,
   "id": "82d2d419-0913-436a-9570-f17bd895fe23",
   "metadata": {
    "jupyter": {
     "source_hidden": true
    },
    "tags": []
   },
   "outputs": [],
   "source": [
    "#bar chart of highest cost per bus\n",
    "concat.sort_values(by='cost_per_bus', ascending=False).head(10).plot(x='project_sponsor', y='cost_per_bus', kind='bar', color='skyblue')\n",
    "plt.title('Top 10 Agencies with highest Cost per bus')\n",
    "plt.xlabel('Transit Agnecies')\n",
    "plt.ylabel('$ (million)')\n",
    "plt.show()"
   ]
  },
  {
   "cell_type": "code",
   "execution_count": null,
   "id": "bb59c791-174c-4faa-a439-2571158589d6",
   "metadata": {
    "jupyter": {
     "source_hidden": true
    },
    "tags": []
   },
   "outputs": [],
   "source": [
    "#bar chart of highest bus count\n",
    "concat.sort_values(by='bus_count', ascending=False).head(10).plot(x='project_sponsor', y='bus_count', kind='bar', color='skyblue')\n",
    "plt.title('Top 10 Agencies with most bus count')\n",
    "plt.xlabel('Transit Agnecies')\n",
    "plt.ylabel('# of buses')\n",
    "plt.show()"
   ]
  },
  {
   "cell_type": "code",
   "execution_count": null,
   "id": "50720d96-faa4-49f6-b940-a5a497325d0d",
   "metadata": {
    "jupyter": {
     "source_hidden": true
    },
    "tags": []
   },
   "outputs": [],
   "source": [
    "# distribution curve of cost per bus. no outliers\n",
    "sns.histplot(filtered['cost_per_bus'], kde=True, color='skyblue', bins=20)\n",
    "plt.axvline(mean, color='red', linestyle='dashed', linewidth=2, label=f'Mean: ${mean:,.2f}')\n",
    "plt.axvline(mean + std_dev, color='green', linestyle='dashed', linewidth=2, label=f'Standard Deviation: ${std_dev:,.2f}')\n",
    "plt.axvline(mean - std_dev, color='green', linestyle='dashed', linewidth=2)\n",
    "plt.axvline(mean + std_dev*2, color='green', linestyle='dashed', linewidth=2)\n",
    "plt.axvline(mean + std_dev*3, color='green', linestyle='dashed', linewidth=2)\n",
    "\n",
    "plt.title('Cost Per Bus Distribution with Mean and Standard Deviation')\n",
    "plt.xlabel('cost per bus ($ million(s))')\n",
    "plt.ylabel('Frequency')\n",
    "plt.legend()\n",
    "plt.show()"
   ]
  },
  {
   "cell_type": "code",
   "execution_count": null,
   "id": "fe7a6649-64d0-4838-8c31-0facd96a5462",
   "metadata": {
    "jupyter": {
     "source_hidden": true
    },
    "tags": []
   },
   "outputs": [],
   "source": [
    "#distribution curve of zscore\n",
    "sns.histplot(filtered['zscore_cost_per_bus'], kde=True, color='skyblue', bins=20)\n",
    "#plt.axvline(mean2, color='red', linestyle='dashed', linewidth=2, label=f'Mean: {mean2:.2f}')\n",
    "#plt.axvline(mean2 + std_dev2, color='green', linestyle='dashed', linewidth=2, label=f'Standard Deviation: {std_dev2:,.2f}')\n",
    "#plt.axvline(mean2 - std_dev2, color='green', linestyle='dashed', linewidth=2)\n",
    "#plt.axvline(mean2 + (std_dev2*2), color='green', linestyle='dashed', linewidth=2)\n",
    "#plt.axvline(mean2 + (std_dev2*3), color='green', linestyle='dashed', linewidth=2)\n",
    "#plt.axvline(mean2 - (std_dev2*2), color='green', linestyle='dashed', linewidth=2)\n",
    "#plt.axvline(mean2 - (std_dev2*3), color='green', linestyle='dashed', linewidth=2)\n",
    "\n",
    "plt.title('Cost Per Bus Z-Score Distribution')\n",
    "plt.xlabel('zscore cost per bus')\n",
    "plt.ylabel('Frequency')\n",
    "plt.show()"
   ]
  },
  {
   "cell_type": "code",
   "execution_count": null,
   "id": "7776e9cc-e750-4b8e-8352-a43bd448e7b4",
   "metadata": {},
   "outputs": [],
   "source": []
  }
 ],
 "metadata": {
  "kernelspec": {
   "display_name": "Python 3 (ipykernel)",
   "language": "python",
   "name": "python3"
  },
  "language_info": {
   "codemirror_mode": {
    "name": "ipython",
    "version": 3
   },
   "file_extension": ".py",
   "mimetype": "text/x-python",
   "name": "python",
   "nbconvert_exporter": "python",
   "pygments_lexer": "ipython3",
   "version": "3.9.13"
  }
 },
 "nbformat": 4,
 "nbformat_minor": 5
}
