{
 "cells": [
  {
   "cell_type": "code",
   "execution_count": 1,
   "id": "8b95db91-abf1-4357-884f-e11d73777da5",
   "metadata": {},
   "outputs": [],
   "source": [
    "import matplotlib.pyplot as plt\n",
    "import pandas as pd\n",
    "import shared_utils\n",
    "from scipy.stats import zscore\n",
    "import seaborn as sns\n",
    "import numpy as np\n",
    "\n",
    "# set_option to increase max rows displayed to 200, to see entire df in 1 go/\n",
    "pd.set_option(\"display.max_rows\", 200)"
   ]
  },
  {
   "cell_type": "markdown",
   "id": "3a641eca-bca2-4a80-944a-f4c120e07de9",
   "metadata": {
    "jp-MarkdownHeadingCollapsed": true,
    "tags": []
   },
   "source": [
    "## Read in cost per bus data"
   ]
  },
  {
   "cell_type": "code",
   "execution_count": null,
   "id": "f6531b72-ddb6-4738-96e3-5938ff2398f4",
   "metadata": {},
   "outputs": [],
   "source": [
    "# cleaned FTA Grant Award Press Release Data for buses only\n",
    "fta = pd.read_csv('gs://calitp-analytics-data/data-analyses/bus_procurement_cost/fta_bus_cost_clean.csv')"
   ]
  },
  {
   "cell_type": "code",
   "execution_count": null,
   "id": "6c6e562c-1c69-4128-ad16-415f742889c2",
   "metadata": {},
   "outputs": [],
   "source": [
    "# cleaned TIRCP Project Tracking Data project tracking sheet\n",
    "tircp = pd.read_csv('gs://calitp-analytics-data/data-analyses/bus_procurement_cost/tircp_project_bus_only.csv')"
   ]
  },
  {
   "cell_type": "markdown",
   "id": "3e019b4d-2445-4d7c-a2a9-0cb2c5953a44",
   "metadata": {},
   "source": [
    "## Game Plan\n",
    "- bring in both data sets (FTA Press Release and TIRCP bus data\n",
    "- FTA data, make sure it only has rows with bus count > 0\n",
    "- may need to clean up the prop type and bus size type if there are any similar categories (completed at FTA notebook)\n",
    "- Create shorten data frames for each. include the following columns:\n",
    "    1. agency name (project_sponsor & grant_recipient)\n",
    "    2. project title? (project_title)\n",
    "    3. project award amount (funding and tircp_award_amount($))\n",
    "    4. bus count (bus_count)\n",
    "    5. propulsion type (prop_type)\n",
    "    6. bus size type (bus_size_type)\n",
    "<br>\n",
    "<br>\n",
    "- concat the short dataframes\n",
    "- start aggregation. sum/count bus count, funding and project #\n",
    "    * agg by agency name\n",
    "    * agg by prop type\n",
    "    * agg by bus size type\n",
    "\n",
    "- new column for Z-score of `cost_per_bus`\n",
    "- "
   ]
  },
  {
   "cell_type": "code",
   "execution_count": 39,
   "id": "85f4a371-32d5-4497-9aaf-dd2361b913e0",
   "metadata": {},
   "outputs": [],
   "source": [
    "# function to display df info\n",
    "def df_peek(df):\n",
    "    display(type(df),\n",
    "            df.shape,\n",
    "            df.dtypes,\n",
    "            df.sample(2)\n",
    "       )"
   ]
  },
  {
   "cell_type": "markdown",
   "id": "82def04b-551f-4480-a18e-3e121308bbf5",
   "metadata": {
    "jp-MarkdownHeadingCollapsed": true,
    "tags": []
   },
   "source": [
    "## Read in FTA and TIRCP Data"
   ]
  },
  {
   "cell_type": "code",
   "execution_count": null,
   "id": "5f69347f-5e7b-487c-bff1-31a9fc31dd22",
   "metadata": {},
   "outputs": [],
   "source": [
    "# peaking into each dataset\n",
    "data=[fta, tircp]\n",
    "\n",
    "for x in data:\n",
    "    display(x.shape,\n",
    "           x.columns,\n",
    "           x.head(),\n",
    "           x.dtypes)"
   ]
  },
  {
   "cell_type": "markdown",
   "id": "6950af52-f9eb-440b-9801-0396b650d502",
   "metadata": {
    "tags": []
   },
   "source": [
    "## Dataset cleaning"
   ]
  },
  {
   "cell_type": "markdown",
   "id": "d2588e43-41b8-4886-a298-416cf4a4c83d",
   "metadata": {
    "jp-MarkdownHeadingCollapsed": true,
    "tags": []
   },
   "source": [
    "### drop some columns"
   ]
  },
  {
   "cell_type": "code",
   "execution_count": null,
   "id": "b86bce5a-8065-4848-8eef-5450c106fed2",
   "metadata": {},
   "outputs": [],
   "source": [
    "# examine columns\n",
    "display(fta.columns,\n",
    "tircp.columns)"
   ]
  },
  {
   "cell_type": "code",
   "execution_count": null,
   "id": "9e9e0945-5f9f-4a07-b9b4-7364a848d7bc",
   "metadata": {},
   "outputs": [],
   "source": [
    "fta = fta.drop(columns=['Unnamed: 0','area_served', 'congressional_districts', 'fta_region', 'bus/low-no_program'])"
   ]
  },
  {
   "cell_type": "code",
   "execution_count": null,
   "id": "40ce35ff-38bf-4001-b25f-37878eab700c",
   "metadata": {},
   "outputs": [],
   "source": [
    "tircp = tircp.drop(columns=['Unnamed: 0.2', 'Unnamed: 0.1', 'Unnamed: 0', 'award_year','district', 'county','total_project_cost',])"
   ]
  },
  {
   "cell_type": "code",
   "execution_count": null,
   "id": "17a26be1-15ba-40a0-9d09-0218d79443f4",
   "metadata": {},
   "outputs": [],
   "source": [
    "display(fta.columns,\n",
    "tircp.columns)"
   ]
  },
  {
   "cell_type": "markdown",
   "id": "6b1e029f-5da7-417a-bc7f-94690bfdc25b",
   "metadata": {
    "jp-MarkdownHeadingCollapsed": true,
    "tags": []
   },
   "source": [
    "### drop zero bus counts from FTA"
   ]
  },
  {
   "cell_type": "code",
   "execution_count": null,
   "id": "4553c5aa-95be-488e-b870-ddc3f36fa321",
   "metadata": {},
   "outputs": [],
   "source": [
    "fta = fta[fta['bus_count'] >0]"
   ]
  },
  {
   "cell_type": "code",
   "execution_count": null,
   "id": "0ad42087-d70b-46f0-8fb0-6c452b7a708b",
   "metadata": {},
   "outputs": [],
   "source": [
    "#no more '0' values\n",
    "fta.bus_count.unique()"
   ]
  },
  {
   "cell_type": "markdown",
   "id": "dbc87cae-a0b5-41e7-822b-11b370bdb5ce",
   "metadata": {
    "jp-MarkdownHeadingCollapsed": true,
    "tags": []
   },
   "source": [
    "## Shorten data frames"
   ]
  },
  {
   "cell_type": "markdown",
   "id": "b21e89f6-efcc-48a3-8224-1c9c3926ef68",
   "metadata": {},
   "source": [
    "FTA & TIRCP columns names respecitvely\n",
    "\n",
    "    1. agency name (project_sponsor & grant_recipient)\n",
    "    2. project title? (project_title)\n",
    "    3. project award amount (funding and tircp_award_amount($))\n",
    "    4. bus count (bus_count)\n",
    "    5. propulsion type (prop_type)\n",
    "    6. bus size type (bus_size_type)"
   ]
  },
  {
   "cell_type": "code",
   "execution_count": null,
   "id": "8f61675b-f445-4306-9ce6-27169d6b6909",
   "metadata": {},
   "outputs": [],
   "source": [
    "fta_short = fta[['project_sponsor','project_title', 'funding', 'bus_count', 'prop_type', 'bus_size_type']]"
   ]
  },
  {
   "cell_type": "code",
   "execution_count": null,
   "id": "ffd9239b-45c3-4fcf-890e-773f3a38935d",
   "metadata": {},
   "outputs": [],
   "source": [
    "len(fta_short) == len(fta)"
   ]
  },
  {
   "cell_type": "code",
   "execution_count": null,
   "id": "b60eb1cb-b535-44f0-8bc5-341928012c59",
   "metadata": {},
   "outputs": [],
   "source": [
    "tircp_short = tircp[['grant_recipient', 'project_title', 'tircp_award_amount_($)', 'bus_count', 'prop_type', 'bus_size_type']]"
   ]
  },
  {
   "cell_type": "code",
   "execution_count": null,
   "id": "af4bacbe-92c5-4dc2-93bf-6afe888bfacd",
   "metadata": {},
   "outputs": [],
   "source": [
    "len(tircp_short) == len(tircp)"
   ]
  },
  {
   "cell_type": "markdown",
   "id": "cdfd4d75-59d3-482c-97bd-349a11abf105",
   "metadata": {
    "jp-MarkdownHeadingCollapsed": true,
    "tags": []
   },
   "source": [
    "## rename columns to match eachother"
   ]
  },
  {
   "cell_type": "code",
   "execution_count": null,
   "id": "95c0112f-78cb-4cb5-aa09-d75b124cdbec",
   "metadata": {},
   "outputs": [],
   "source": [
    "#list of new column names. to be applied in same order as short df\n",
    "new_col =['agency_name', 'project_title', 'project_award_amount', 'bus_count', 'prop_type', 'bus_size_type']\n"
   ]
  },
  {
   "cell_type": "code",
   "execution_count": null,
   "id": "90da70ce-0bca-4140-83ed-da95d9c63157",
   "metadata": {},
   "outputs": [],
   "source": [
    "fta_short.columns=new_col\n",
    "tircp_short.columns=new_col"
   ]
  },
  {
   "cell_type": "code",
   "execution_count": null,
   "id": "dfaf1766-5a70-4ec2-a54b-0e16f9fca8bc",
   "metadata": {},
   "outputs": [],
   "source": [
    "fta_short.columns == tircp_short.columns"
   ]
  },
  {
   "cell_type": "code",
   "execution_count": null,
   "id": "7f801d4d-ac40-4c19-9c61-540a922b8805",
   "metadata": {},
   "outputs": [],
   "source": [
    "# add new col to identify source\n",
    "fta_short['source']='fta_press_release'\n",
    "tircp_short['source']='tircp_project_tracking'"
   ]
  },
  {
   "cell_type": "code",
   "execution_count": null,
   "id": "1e71a2b7-ccfd-4e3f-a810-fa0227d899d2",
   "metadata": {},
   "outputs": [],
   "source": [
    "display(fta_short.head(),tircp_short.head())"
   ]
  },
  {
   "cell_type": "markdown",
   "id": "b8ca8d50-5041-4459-a764-ccc12ced2037",
   "metadata": {
    "jp-MarkdownHeadingCollapsed": true,
    "tags": []
   },
   "source": [
    "## Concat both dataframes"
   ]
  },
  {
   "cell_type": "code",
   "execution_count": null,
   "id": "5c7bfad5-9048-4712-b663-c4795b071737",
   "metadata": {},
   "outputs": [],
   "source": [
    "concat = pd.concat([fta_short,tircp_short], axis=0).reset_index()"
   ]
  },
  {
   "cell_type": "code",
   "execution_count": null,
   "id": "d6142fce-639e-4082-b83c-6fec6e6a53cf",
   "metadata": {},
   "outputs": [],
   "source": [
    "display(len(fta_short),\n",
    "        len(tircp_short),\n",
    "       len(fta_short)+len(tircp_short) == len(concat)\n",
    "       )"
   ]
  },
  {
   "cell_type": "code",
   "execution_count": null,
   "id": "9c63d955-ccff-4316-aa42-1aa66af7beed",
   "metadata": {},
   "outputs": [],
   "source": [
    "concat.sample(3)"
   ]
  },
  {
   "cell_type": "code",
   "execution_count": null,
   "id": "7d5dd236-bdb4-4213-997a-b2c9a4b8c0b6",
   "metadata": {},
   "outputs": [],
   "source": [
    "concat = concat.drop('index', axis=1)"
   ]
  },
  {
   "cell_type": "code",
   "execution_count": null,
   "id": "4ea75308-6784-4aba-ae2d-b8ceb05ad189",
   "metadata": {},
   "outputs": [],
   "source": [
    "#concat looks good\n",
    "list(concat.prop_type.sort_values().unique())"
   ]
  },
  {
   "cell_type": "markdown",
   "id": "14f00383-8c11-4656-a019-a5b58cc4d076",
   "metadata": {
    "tags": []
   },
   "source": [
    "## Export concat data"
   ]
  },
  {
   "cell_type": "code",
   "execution_count": null,
   "id": "173aa1c6-fc73-4476-b3d0-e3bab1c48e4b",
   "metadata": {},
   "outputs": [],
   "source": [
    "concat.to_csv('gs://calitp-analytics-data/data-analyses/bus_procurement_cost/fta_tircp_concat.csv')"
   ]
  },
  {
   "cell_type": "markdown",
   "id": "e7582392-0b4b-4c95-a2a6-b0939cf63862",
   "metadata": {
    "tags": []
   },
   "source": [
    "### Read in concat data (TIRCP and FTA data)"
   ]
  },
  {
   "cell_type": "code",
   "execution_count": 2,
   "id": "5b474b47-7617-4eaa-b8fb-c86709c77368",
   "metadata": {},
   "outputs": [],
   "source": [
    "all_bus = pd.read_csv('gs://calitp-analytics-data/data-analyses/bus_procurement_cost/fta_tircp_concat.csv')"
   ]
  },
  {
   "cell_type": "code",
   "execution_count": 3,
   "id": "89faef72-2c03-46e5-b908-9b6bd86b1210",
   "metadata": {},
   "outputs": [
    {
     "data": {
      "text/plain": [
       "(133, 8)"
      ]
     },
     "metadata": {},
     "output_type": "display_data"
    },
    {
     "data": {
      "text/plain": [
       "Unnamed: 0                int64\n",
       "agency_name              object\n",
       "project_title            object\n",
       "project_award_amount      int64\n",
       "bus_count               float64\n",
       "prop_type                object\n",
       "bus_size_type            object\n",
       "source                   object\n",
       "dtype: object"
      ]
     },
     "metadata": {},
     "output_type": "display_data"
    },
    {
     "data": {
      "text/plain": [
       "Index(['Unnamed: 0', 'agency_name', 'project_title', 'project_award_amount',\n",
       "       'bus_count', 'prop_type', 'bus_size_type', 'source'],\n",
       "      dtype='object')"
      ]
     },
     "metadata": {},
     "output_type": "display_data"
    },
    {
     "data": {
      "text/plain": [
       "array([100.,  90.,  20.,  40.,  35.,  16.,  30.,  31.,  69.,  23.,   7.,\n",
       "        25.,  13.,   4.,  17.,  18.,  39.,  12.,   8., 160.,  37., 134.,\n",
       "        14.,  50.,  42.,   6.,  11.,  56.,  10.,   5.,   9.,  15.,   2.,\n",
       "         3.,   1.,  29., 112.,  27., 261., 103.,  33.,  24.])"
      ]
     },
     "metadata": {},
     "output_type": "display_data"
    }
   ],
   "source": [
    "display(all_bus.shape,\n",
    "        all_bus.dtypes,\n",
    "        all_bus.columns,\n",
    "        all_bus.bus_count.unique(),\n",
    "       )"
   ]
  },
  {
   "cell_type": "markdown",
   "id": "3e07cd2c-9bc7-4bcc-8e4f-e7d58ebcc1fc",
   "metadata": {
    "tags": []
   },
   "source": [
    "## create cost_per_bus_column\n",
    "on all_bus df"
   ]
  },
  {
   "cell_type": "code",
   "execution_count": 4,
   "id": "b35f7018-64f7-4a5b-ab50-10d871115c83",
   "metadata": {},
   "outputs": [],
   "source": [
    "all_bus['cost_per_bus'] =((all_bus['project_award_amount']/all_bus['bus_count']).astype('int64'))"
   ]
  },
  {
   "cell_type": "code",
   "execution_count": 5,
   "id": "07acb5fc-5611-40d6-bfa5-90b814bd5588",
   "metadata": {},
   "outputs": [
    {
     "data": {
      "text/plain": [
       "(133, 9)"
      ]
     },
     "metadata": {},
     "output_type": "display_data"
    },
    {
     "data": {
      "text/html": [
       "<div>\n",
       "<style scoped>\n",
       "    .dataframe tbody tr th:only-of-type {\n",
       "        vertical-align: middle;\n",
       "    }\n",
       "\n",
       "    .dataframe tbody tr th {\n",
       "        vertical-align: top;\n",
       "    }\n",
       "\n",
       "    .dataframe thead th {\n",
       "        text-align: right;\n",
       "    }\n",
       "</style>\n",
       "<table border=\"1\" class=\"dataframe\">\n",
       "  <thead>\n",
       "    <tr style=\"text-align: right;\">\n",
       "      <th></th>\n",
       "      <th>Unnamed: 0</th>\n",
       "      <th>agency_name</th>\n",
       "      <th>project_title</th>\n",
       "      <th>project_award_amount</th>\n",
       "      <th>bus_count</th>\n",
       "      <th>prop_type</th>\n",
       "      <th>bus_size_type</th>\n",
       "      <th>source</th>\n",
       "      <th>cost_per_bus</th>\n",
       "    </tr>\n",
       "  </thead>\n",
       "  <tbody>\n",
       "    <tr>\n",
       "      <th>0</th>\n",
       "      <td>0</td>\n",
       "      <td>Washington Metropolitan Area Transit Authority...</td>\n",
       "      <td>Battery-Electric Metrobus Procurement and Elec...</td>\n",
       "      <td>104000000</td>\n",
       "      <td>100.0</td>\n",
       "      <td>BEB</td>\n",
       "      <td>not specified</td>\n",
       "      <td>fta_press_release</td>\n",
       "      <td>1040000</td>\n",
       "    </tr>\n",
       "    <tr>\n",
       "      <th>1</th>\n",
       "      <td>1</td>\n",
       "      <td>Dallas Area Rapid Transit (DART)</td>\n",
       "      <td>DART CNG Bus Fleet Modernization Project</td>\n",
       "      <td>103000000</td>\n",
       "      <td>90.0</td>\n",
       "      <td>CNG</td>\n",
       "      <td>not specified</td>\n",
       "      <td>fta_press_release</td>\n",
       "      <td>1144444</td>\n",
       "    </tr>\n",
       "    <tr>\n",
       "      <th>2</th>\n",
       "      <td>2</td>\n",
       "      <td>New Orleans Regional Transit Authority</td>\n",
       "      <td>Accelerating Zero-Emissions Mobility for a Res...</td>\n",
       "      <td>71439261</td>\n",
       "      <td>20.0</td>\n",
       "      <td>zero-emission bus (not specified)</td>\n",
       "      <td>not specified</td>\n",
       "      <td>fta_press_release</td>\n",
       "      <td>3571963</td>\n",
       "    </tr>\n",
       "    <tr>\n",
       "      <th>3</th>\n",
       "      <td>3</td>\n",
       "      <td>Metropolitan Transit Authority of Harris Count...</td>\n",
       "      <td>FY 2023 Renewable Natural Gas Path to Zero Emi...</td>\n",
       "      <td>40402548</td>\n",
       "      <td>40.0</td>\n",
       "      <td>CNG</td>\n",
       "      <td>not specified</td>\n",
       "      <td>fta_press_release</td>\n",
       "      <td>1010063</td>\n",
       "    </tr>\n",
       "    <tr>\n",
       "      <th>4</th>\n",
       "      <td>4</td>\n",
       "      <td>University of Maryland, College Park</td>\n",
       "      <td>35 Battery Electric Transit Buses, Infrastruct...</td>\n",
       "      <td>39863156</td>\n",
       "      <td>35.0</td>\n",
       "      <td>BEB</td>\n",
       "      <td>not specified</td>\n",
       "      <td>fta_press_release</td>\n",
       "      <td>1138947</td>\n",
       "    </tr>\n",
       "  </tbody>\n",
       "</table>\n",
       "</div>"
      ],
      "text/plain": [
       "   Unnamed: 0                                        agency_name  \\\n",
       "0           0  Washington Metropolitan Area Transit Authority...   \n",
       "1           1                   Dallas Area Rapid Transit (DART)   \n",
       "2           2             New Orleans Regional Transit Authority   \n",
       "3           3  Metropolitan Transit Authority of Harris Count...   \n",
       "4           4               University of Maryland, College Park   \n",
       "\n",
       "                                       project_title  project_award_amount  \\\n",
       "0  Battery-Electric Metrobus Procurement and Elec...             104000000   \n",
       "1           DART CNG Bus Fleet Modernization Project             103000000   \n",
       "2  Accelerating Zero-Emissions Mobility for a Res...              71439261   \n",
       "3  FY 2023 Renewable Natural Gas Path to Zero Emi...              40402548   \n",
       "4  35 Battery Electric Transit Buses, Infrastruct...              39863156   \n",
       "\n",
       "   bus_count                          prop_type  bus_size_type  \\\n",
       "0      100.0                                BEB  not specified   \n",
       "1       90.0                                CNG  not specified   \n",
       "2       20.0  zero-emission bus (not specified)  not specified   \n",
       "3       40.0                                CNG  not specified   \n",
       "4       35.0                                BEB  not specified   \n",
       "\n",
       "              source  cost_per_bus  \n",
       "0  fta_press_release       1040000  \n",
       "1  fta_press_release       1144444  \n",
       "2  fta_press_release       3571963  \n",
       "3  fta_press_release       1010063  \n",
       "4  fta_press_release       1138947  "
      ]
     },
     "metadata": {},
     "output_type": "display_data"
    }
   ],
   "source": [
    "display(all_bus.shape,\n",
    "        all_bus.head()\n",
    "       )"
   ]
  },
  {
   "cell_type": "markdown",
   "id": "6ddefcb9-7c31-4a69-bef8-ae80455a2a39",
   "metadata": {
    "tags": []
   },
   "source": [
    "## Aggregate\n",
    "To get total funding and bus count\n",
    "- per agency\n",
    "- per propulsion type\n",
    "- per bus size type"
   ]
  },
  {
   "cell_type": "code",
   "execution_count": 19,
   "id": "9eea9c65-dd39-46a2-ba0f-a276e2fc913f",
   "metadata": {},
   "outputs": [],
   "source": [
    "## function to agg by X col by project title, award and bus count\n",
    "\n",
    "def bus_aggregate(column):\n",
    "    df_agg = all_bus.groupby(column).agg(\n",
    "        total_project_count=('project_title', 'count'),\n",
    "        total_funds=('project_award_amount', 'sum'),\n",
    "        total_bus_count=('bus_count', 'sum')\n",
    "    ).reset_index()\n",
    "    return df_agg"
   ]
  },
  {
   "cell_type": "code",
   "execution_count": 37,
   "id": "f68d9a34-2d60-4366-9f3d-7ead081b8149",
   "metadata": {},
   "outputs": [],
   "source": [
    "agency_agg = bus_aggregate('agency_name')\n",
    "prop_agg = bus_aggregate('prop_type')\n",
    "size_agg = bus_aggregate('bus_size_type')"
   ]
  },
  {
   "cell_type": "code",
   "execution_count": 38,
   "id": "fa04c528-b46a-49a7-98b3-a1857ddc6a9c",
   "metadata": {},
   "outputs": [
    {
     "data": {
      "text/plain": [
       "pandas.core.frame.DataFrame"
      ]
     },
     "metadata": {},
     "output_type": "display_data"
    },
    {
     "data": {
      "text/plain": [
       "(4, 4)"
      ]
     },
     "metadata": {},
     "output_type": "display_data"
    },
    {
     "data": {
      "text/plain": [
       "bus_size_type           object\n",
       "total_project_count      int64\n",
       "total_funds              int64\n",
       "total_bus_count        float64\n",
       "dtype: object"
      ]
     },
     "metadata": {},
     "output_type": "display_data"
    },
    {
     "data": {
      "text/html": [
       "<div>\n",
       "<style scoped>\n",
       "    .dataframe tbody tr th:only-of-type {\n",
       "        vertical-align: middle;\n",
       "    }\n",
       "\n",
       "    .dataframe tbody tr th {\n",
       "        vertical-align: top;\n",
       "    }\n",
       "\n",
       "    .dataframe thead th {\n",
       "        text-align: right;\n",
       "    }\n",
       "</style>\n",
       "<table border=\"1\" class=\"dataframe\">\n",
       "  <thead>\n",
       "    <tr style=\"text-align: right;\">\n",
       "      <th></th>\n",
       "      <th>bus_size_type</th>\n",
       "      <th>total_project_count</th>\n",
       "      <th>total_funds</th>\n",
       "      <th>total_bus_count</th>\n",
       "    </tr>\n",
       "  </thead>\n",
       "  <tbody>\n",
       "    <tr>\n",
       "      <th>0</th>\n",
       "      <td>conventional (40-ft like)</td>\n",
       "      <td>4</td>\n",
       "      <td>63542000</td>\n",
       "      <td>93.0</td>\n",
       "    </tr>\n",
       "    <tr>\n",
       "      <th>1</th>\n",
       "      <td>cutaway</td>\n",
       "      <td>4</td>\n",
       "      <td>32861322</td>\n",
       "      <td>183.0</td>\n",
       "    </tr>\n",
       "  </tbody>\n",
       "</table>\n",
       "</div>"
      ],
      "text/plain": [
       "               bus_size_type  total_project_count  total_funds  \\\n",
       "0  conventional (40-ft like)                    4     63542000   \n",
       "1                    cutaway                    4     32861322   \n",
       "\n",
       "   total_bus_count  \n",
       "0             93.0  \n",
       "1            183.0  "
      ]
     },
     "metadata": {},
     "output_type": "display_data"
    }
   ],
   "source": [
    "df_peek(size_agg)"
   ]
  },
  {
   "cell_type": "markdown",
   "id": "d645f949-ddb4-4b58-ab0a-0889a5ad6f56",
   "metadata": {},
   "source": [
    "## test "
   ]
  },
  {
   "cell_type": "code",
   "execution_count": null,
   "id": "71a64926-2ea5-4bbf-aae9-d243c3830ada",
   "metadata": {},
   "outputs": [],
   "source": [
    "# add new column for z-score\n",
    "concat['zscore_' + 'cost_per_bus'] = zscore(concat['cost_per_bus'])"
   ]
  },
  {
   "cell_type": "code",
   "execution_count": null,
   "id": "5111734e-6f0e-4d99-a585-94f80341ca11",
   "metadata": {},
   "outputs": [],
   "source": [
    "concat.shape"
   ]
  },
  {
   "cell_type": "code",
   "execution_count": null,
   "id": "b074a5a1-8479-4366-9dff-5533263b45c1",
   "metadata": {},
   "outputs": [],
   "source": [
    "# remove outliers\n",
    "#filter df for zscores =>-3<=3\n",
    "filtered = concat[(concat['zscore_cost_per_bus'] >= -3) & (concat['zscore_cost_per_bus'] <=3)]"
   ]
  },
  {
   "cell_type": "code",
   "execution_count": null,
   "id": "8e2309e9-c6f0-4718-a5a9-17991345d243",
   "metadata": {},
   "outputs": [],
   "source": [
    "# 2 rows were dropped\n",
    "filtered.shape"
   ]
  },
  {
   "cell_type": "code",
   "execution_count": null,
   "id": "8aa8cda1-1caf-45a0-ad06-0bda5d81aefa",
   "metadata": {},
   "outputs": [],
   "source": [
    "filtered.zscore_cost_per_bus.max()"
   ]
  },
  {
   "cell_type": "code",
   "execution_count": null,
   "id": "5d7b379c-a7d6-43d9-9290-4b7b6fe07ef5",
   "metadata": {},
   "outputs": [],
   "source": [
    "filtered.sort_values(by='cost_per_bus', ascending=False).head()"
   ]
  },
  {
   "cell_type": "markdown",
   "id": "eaf73856-2e5b-48be-9107-a8ca97b22f1f",
   "metadata": {
    "tags": []
   },
   "source": [
    "## Stats Analysis"
   ]
  },
  {
   "cell_type": "code",
   "execution_count": null,
   "id": "49d3cd64-fc0c-4749-a378-30730bbd8fc7",
   "metadata": {},
   "outputs": [],
   "source": [
    "mean = np.mean(filtered['cost_per_bus'])\n",
    "std_dev = np.std(filtered['cost_per_bus'])\n",
    "\n",
    "#zscore\n",
    "mean2 = np.mean(filtered['zscore_cost_per_bus'])\n",
    "std_dev2 = np.std(filtered['zscore_cost_per_bus'])\n"
   ]
  },
  {
   "cell_type": "code",
   "execution_count": null,
   "id": "e42ba34a-2712-438b-a708-1bc149ec9295",
   "metadata": {},
   "outputs": [],
   "source": [
    "mean2 + (std_dev2*3)"
   ]
  },
  {
   "cell_type": "markdown",
   "id": "88f21124-6b2e-4e3c-b5f2-4d7bfca8b1f5",
   "metadata": {
    "jp-MarkdownHeadingCollapsed": true,
    "tags": []
   },
   "source": [
    "## Summary"
   ]
  },
  {
   "cell_type": "code",
   "execution_count": null,
   "id": "0bd93bab-5b41-43dc-a122-9ef284d18298",
   "metadata": {
    "jupyter": {
     "source_hidden": true
    },
    "tags": []
   },
   "outputs": [],
   "source": [
    "concat.head()"
   ]
  },
  {
   "cell_type": "code",
   "execution_count": null,
   "id": "fd7906a3-7bf1-4bed-afa3-1a69f21c155f",
   "metadata": {
    "jupyter": {
     "source_hidden": true
    },
    "tags": []
   },
   "outputs": [],
   "source": [
    "concat.sort_values(by='cost_per_bus',ascending=True).head()"
   ]
  },
  {
   "cell_type": "code",
   "execution_count": null,
   "id": "1cb3ff5d-fa12-4e28-982d-96a0143a2b0f",
   "metadata": {
    "jupyter": {
     "source_hidden": true
    },
    "tags": []
   },
   "outputs": [],
   "source": [
    "# Variables\n",
    "total_unique_projects = len(concat)\n",
    "total_bus_count = sum(concat.bus_count)\n",
    "total_funding = sum(concat.funding)\n",
    "min_bus_cost = concat.cost_per_bus.min()\n",
    "max_bus_cost = concat.cost_per_bus.max()\n",
    "max_bus_count = concat.bus_count.max()\n",
    "\n",
    "mean = np.mean(filtered['cost_per_bus'])\n",
    "std_dev = np.std(filtered['cost_per_bus'])\n",
    "\n",
    "agency_with_most_bus = concat.loc[concat['bus_count'].idxmax(), 'project_sponsor']\n",
    "#how many buses do they have? already answered\n",
    "agency_with_highest_funds = concat.loc[concat['funding'].idxmax(), 'project_sponsor']\n",
    "#what is the highest amount? already answered\n",
    "agency_max_cpb = concat.loc[concat['cost_per_bus'].idxmax(), 'project_sponsor']\n",
    "agency_min_cpb = concat.loc[concat['cost_per_bus'].idxmin(), 'project_sponsor']"
   ]
  },
  {
   "cell_type": "code",
   "execution_count": null,
   "id": "17f4e102-c684-4892-8fa0-0f21e5249ef1",
   "metadata": {
    "jupyter": {
     "source_hidden": true
    },
    "tags": []
   },
   "outputs": [],
   "source": [
    "summary = f'''\n",
    "As of today, data was scraped from mutltiple sources:\n",
    "    1. FTA Bus and Low- and No-Emission Grant Awards press release (federaly funded, nationwide data)\n",
    "    2. TIRCP project data (state-funded, California only)\n",
    "    \n",
    "Data from DGS usage reports, Georgia and Washington contracts to be analyzed next.\n",
    "\n",
    "Note, some projects included additional compoments besides bus purchases (chargers, transit facilities, parts, training) which may cause project costs to increase dramaticly, whereas other projects specified only bus purcahses, and some did not include and bus purchases at all.\n",
    "\n",
    "Datasets was filtered to only include data that specificed the number of buses to purchase. The compiled data was aggregated by agencies and a 'cost per_bus' metric was calculated by dividing the total funding the agency received by the total number of buses they specify.\n",
    "\n",
    "In total:\n",
    "    - {total_unique_projects} projects with bus purchases were analyzed.\n",
    "    - ${total_funding:,.2f} was awarded to agencies for projects including bus purchases.\n",
    "    - {total_bus_count} total buses are to be purchased.\n",
    "    - The highest cost per bus for an agency was ${max_bus_cost:,.2f}, belonging too {agency_max_cpb} \n",
    "    - The lowest cost per bus for an agency was ${min_bus_cost:,.2f}, belonging too {agency_min_cpb}\n",
    "    \n",
    "\n",
    "The agency with the most buses specified was {agency_with_most_bus} with {max_bus_count} buses.\n",
    "\n",
    "After removing outliers, the following was discovered:\n",
    "    - the mean cost per bus is ${mean:,.2f}.\n",
    "    - the standard deviation is ${std_dev:,.2f}. \n",
    "\n",
    "Below are charts that summarize the data.\n",
    "'''"
   ]
  },
  {
   "cell_type": "code",
   "execution_count": null,
   "id": "808369c9-b70f-4185-9dc1-0bda833f2815",
   "metadata": {},
   "outputs": [],
   "source": [
    "concat.head()"
   ]
  },
  {
   "cell_type": "code",
   "execution_count": null,
   "id": "619d8c20-0383-470b-b3a5-11ea9f2b5ef7",
   "metadata": {},
   "outputs": [],
   "source": [
    "print(summary)"
   ]
  },
  {
   "cell_type": "code",
   "execution_count": null,
   "id": "82d2d419-0913-436a-9570-f17bd895fe23",
   "metadata": {
    "jupyter": {
     "source_hidden": true
    },
    "tags": []
   },
   "outputs": [],
   "source": [
    "#bar chart of highest cost per bus\n",
    "concat.sort_values(by='cost_per_bus', ascending=False).head(10).plot(x='project_sponsor', y='cost_per_bus', kind='bar', color='skyblue')\n",
    "plt.title('Top 10 Agencies with highest Cost per bus')\n",
    "plt.xlabel('Transit Agnecies')\n",
    "plt.ylabel('$ (million)')\n",
    "plt.show()"
   ]
  },
  {
   "cell_type": "code",
   "execution_count": null,
   "id": "bb59c791-174c-4faa-a439-2571158589d6",
   "metadata": {
    "jupyter": {
     "source_hidden": true
    },
    "tags": []
   },
   "outputs": [],
   "source": [
    "#bar chart of highest bus count\n",
    "concat.sort_values(by='bus_count', ascending=False).head(10).plot(x='project_sponsor', y='bus_count', kind='bar', color='skyblue')\n",
    "plt.title('Top 10 Agencies with most bus count')\n",
    "plt.xlabel('Transit Agnecies')\n",
    "plt.ylabel('# of buses')\n",
    "plt.show()"
   ]
  },
  {
   "cell_type": "code",
   "execution_count": null,
   "id": "50720d96-faa4-49f6-b940-a5a497325d0d",
   "metadata": {
    "jupyter": {
     "source_hidden": true
    },
    "tags": []
   },
   "outputs": [],
   "source": [
    "# distribution curve of cost per bus. no outliers\n",
    "sns.histplot(filtered['cost_per_bus'], kde=True, color='skyblue', bins=20)\n",
    "plt.axvline(mean, color='red', linestyle='dashed', linewidth=2, label=f'Mean: ${mean:,.2f}')\n",
    "plt.axvline(mean + std_dev, color='green', linestyle='dashed', linewidth=2, label=f'Standard Deviation: ${std_dev:,.2f}')\n",
    "plt.axvline(mean - std_dev, color='green', linestyle='dashed', linewidth=2)\n",
    "plt.axvline(mean + std_dev*2, color='green', linestyle='dashed', linewidth=2)\n",
    "plt.axvline(mean + std_dev*3, color='green', linestyle='dashed', linewidth=2)\n",
    "\n",
    "plt.title('Cost Per Bus Distribution with Mean and Standard Deviation')\n",
    "plt.xlabel('cost per bus ($ million(s))')\n",
    "plt.ylabel('Frequency')\n",
    "plt.legend()\n",
    "plt.show()"
   ]
  },
  {
   "cell_type": "code",
   "execution_count": null,
   "id": "fe7a6649-64d0-4838-8c31-0facd96a5462",
   "metadata": {
    "jupyter": {
     "source_hidden": true
    },
    "tags": []
   },
   "outputs": [],
   "source": [
    "#distribution curve of zscore\n",
    "sns.histplot(filtered['zscore_cost_per_bus'], kde=True, color='skyblue', bins=20)\n",
    "#plt.axvline(mean2, color='red', linestyle='dashed', linewidth=2, label=f'Mean: {mean2:.2f}')\n",
    "#plt.axvline(mean2 + std_dev2, color='green', linestyle='dashed', linewidth=2, label=f'Standard Deviation: {std_dev2:,.2f}')\n",
    "#plt.axvline(mean2 - std_dev2, color='green', linestyle='dashed', linewidth=2)\n",
    "#plt.axvline(mean2 + (std_dev2*2), color='green', linestyle='dashed', linewidth=2)\n",
    "#plt.axvline(mean2 + (std_dev2*3), color='green', linestyle='dashed', linewidth=2)\n",
    "#plt.axvline(mean2 - (std_dev2*2), color='green', linestyle='dashed', linewidth=2)\n",
    "#plt.axvline(mean2 - (std_dev2*3), color='green', linestyle='dashed', linewidth=2)\n",
    "\n",
    "plt.title('Cost Per Bus Z-Score Distribution')\n",
    "plt.xlabel('zscore cost per bus')\n",
    "plt.ylabel('Frequency')\n",
    "plt.show()"
   ]
  },
  {
   "cell_type": "code",
   "execution_count": null,
   "id": "7776e9cc-e750-4b8e-8352-a43bd448e7b4",
   "metadata": {},
   "outputs": [],
   "source": []
  }
 ],
 "metadata": {
  "kernelspec": {
   "display_name": "Python 3 (ipykernel)",
   "language": "python",
   "name": "python3"
  },
  "language_info": {
   "codemirror_mode": {
    "name": "ipython",
    "version": 3
   },
   "file_extension": ".py",
   "mimetype": "text/x-python",
   "name": "python",
   "nbconvert_exporter": "python",
   "pygments_lexer": "ipython3",
   "version": "3.9.13"
  }
 },
 "nbformat": 4,
 "nbformat_minor": 5
}
