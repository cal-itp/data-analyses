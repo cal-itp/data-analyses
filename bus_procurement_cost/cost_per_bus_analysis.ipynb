{
 "cells": [
  {
   "cell_type": "code",
   "execution_count": 1,
   "id": "8b95db91-abf1-4357-884f-e11d73777da5",
   "metadata": {},
   "outputs": [],
   "source": [
    "import matplotlib.pyplot as plt\n",
    "import numpy as np\n",
    "import pandas as pd\n",
    "import seaborn as sns\n",
    "import shared_utils\n",
    "from scipy.stats import zscore\n",
    "\n",
    "# set_option to increase max rows displayed to 200, to see entire df in 1 go/\n",
    "pd.set_option(\"display.max_rows\", 200)"
   ]
  },
  {
   "cell_type": "markdown",
   "id": "3a641eca-bca2-4a80-944a-f4c120e07de9",
   "metadata": {
    "jp-MarkdownHeadingCollapsed": true,
    "tags": []
   },
   "source": [
    "## Read in cost per bus data"
   ]
  },
  {
   "cell_type": "code",
   "execution_count": 2,
   "id": "f6531b72-ddb6-4738-96e3-5938ff2398f4",
   "metadata": {},
   "outputs": [],
   "source": [
    "# cleaned FTA Grant Award Press Release Data for buses only\n",
    "fta = pd.read_csv(\n",
    "    \"gs://calitp-analytics-data/data-analyses/bus_procurement_cost/fta_bus_cost_clean.csv\"\n",
    ")"
   ]
  },
  {
   "cell_type": "code",
   "execution_count": 3,
   "id": "6c6e562c-1c69-4128-ad16-415f742889c2",
   "metadata": {},
   "outputs": [],
   "source": [
    "# cleaned TIRCP Project Tracking Data project tracking sheet\n",
    "tircp = pd.read_csv(\n",
    "    \"gs://calitp-analytics-data/data-analyses/bus_procurement_cost/tircp_project_bus_only.csv\"\n",
    ")"
   ]
  },
  {
   "cell_type": "markdown",
   "id": "3e019b4d-2445-4d7c-a2a9-0cb2c5953a44",
   "metadata": {},
   "source": [
    "## Game Plan\n",
    "- <s>bring in both data sets (FTA Press Release and TIRCP bus data\n",
    "- <s>FTA data, make sure it only has rows with bus count > 0\n",
    "- may need to clean up the prop type and bus size type if there are any similar categories (completed at FTA notebook)\n",
    "- <s>Create shorten data frames for each. include the following columns:\n",
    "    1. agency name (project_sponsor & grant_recipient)\n",
    "    2. project title? (project_title)\n",
    "    3. project award amount (funding and tircp_award_amount($))\n",
    "    4. bus count (bus_count)\n",
    "    5. propulsion type (prop_type)\n",
    "    6. bus size type (bus_size_type)\n",
    "<br>\n",
    "<br>\n",
    "- <s>concat the short dataframes\n",
    "- <s>start aggregation. sum/count bus count, funding and project #\n",
    "    * agg by agency name\n",
    "    * agg by prop type\n",
    "    * agg by bus size type\n",
    "\n",
    "- <s>new column for Z-score of `cost_per_bus`\n",
    "- rerun stats sumamry\n",
    "- use functions to make charts"
   ]
  },
  {
   "cell_type": "code",
   "execution_count": 4,
   "id": "85f4a371-32d5-4497-9aaf-dd2361b913e0",
   "metadata": {},
   "outputs": [],
   "source": [
    "# function to display df info\n",
    "def df_peek(df):\n",
    "    display(type(df), df.shape, df.dtypes, df.sample(2))"
   ]
  },
  {
   "cell_type": "markdown",
   "id": "82def04b-551f-4480-a18e-3e121308bbf5",
   "metadata": {
    "jp-MarkdownHeadingCollapsed": true,
    "tags": []
   },
   "source": [
    "## Read in FTA and TIRCP Data"
   ]
  },
  {
   "cell_type": "code",
   "execution_count": 5,
   "id": "5f69347f-5e7b-487c-bff1-31a9fc31dd22",
   "metadata": {},
   "outputs": [
    {
     "data": {
      "text/plain": [
       "(130, 16)"
      ]
     },
     "metadata": {},
     "output_type": "display_data"
    },
    {
     "data": {
      "text/plain": [
       "Index(['Unnamed: 0', 'state', 'project_sponsor', 'project_title',\n",
       "       'description', 'funding', 'approx_#_of_buses', 'project_type',\n",
       "       'propulsion_category', 'area_served', 'congressional_districts',\n",
       "       'fta_region', 'bus/low-no_program', 'bus_count', 'prop_type',\n",
       "       'bus_size_type'],\n",
       "      dtype='object')"
      ]
     },
     "metadata": {},
     "output_type": "display_data"
    },
    {
     "data": {
      "text/html": [
       "<div>\n",
       "<style scoped>\n",
       "    .dataframe tbody tr th:only-of-type {\n",
       "        vertical-align: middle;\n",
       "    }\n",
       "\n",
       "    .dataframe tbody tr th {\n",
       "        vertical-align: top;\n",
       "    }\n",
       "\n",
       "    .dataframe thead th {\n",
       "        text-align: right;\n",
       "    }\n",
       "</style>\n",
       "<table border=\"1\" class=\"dataframe\">\n",
       "  <thead>\n",
       "    <tr style=\"text-align: right;\">\n",
       "      <th></th>\n",
       "      <th>Unnamed: 0</th>\n",
       "      <th>state</th>\n",
       "      <th>project_sponsor</th>\n",
       "      <th>project_title</th>\n",
       "      <th>description</th>\n",
       "      <th>funding</th>\n",
       "      <th>approx_#_of_buses</th>\n",
       "      <th>project_type</th>\n",
       "      <th>propulsion_category</th>\n",
       "      <th>area_served</th>\n",
       "      <th>congressional_districts</th>\n",
       "      <th>fta_region</th>\n",
       "      <th>bus/low-no_program</th>\n",
       "      <th>bus_count</th>\n",
       "      <th>prop_type</th>\n",
       "      <th>bus_size_type</th>\n",
       "    </tr>\n",
       "  </thead>\n",
       "  <tbody>\n",
       "    <tr>\n",
       "      <th>0</th>\n",
       "      <td>0</td>\n",
       "      <td>DC</td>\n",
       "      <td>Washington Metropolitan Area Transit Authority...</td>\n",
       "      <td>Battery-Electric Metrobus Procurement and Elec...</td>\n",
       "      <td>WMATA will receive funding to convert its Cind...</td>\n",
       "      <td>104000000</td>\n",
       "      <td>100(beb)</td>\n",
       "      <td>bus/chargers</td>\n",
       "      <td>zero</td>\n",
       "      <td>Large Urban</td>\n",
       "      <td>DC-001 ; MD-004 ; MD-008 ; VA-008 ; VA-011</td>\n",
       "      <td>3</td>\n",
       "      <td>Low-No</td>\n",
       "      <td>100</td>\n",
       "      <td>BEB</td>\n",
       "      <td>not specified</td>\n",
       "    </tr>\n",
       "    <tr>\n",
       "      <th>1</th>\n",
       "      <td>1</td>\n",
       "      <td>TX</td>\n",
       "      <td>Dallas Area Rapid Transit (DART)</td>\n",
       "      <td>DART CNG Bus Fleet Modernization Project</td>\n",
       "      <td>Dallas Area Rapid Transit will receive funding...</td>\n",
       "      <td>103000000</td>\n",
       "      <td>90(estimated-CNGbuses)</td>\n",
       "      <td>bus</td>\n",
       "      <td>low</td>\n",
       "      <td>Large Urban</td>\n",
       "      <td>TX-003 ; TX-004 ; TX-005 ; TX-006 ; TX-024 ; T...</td>\n",
       "      <td>6</td>\n",
       "      <td>Low-No</td>\n",
       "      <td>90</td>\n",
       "      <td>CNG</td>\n",
       "      <td>not specified</td>\n",
       "    </tr>\n",
       "    <tr>\n",
       "      <th>2</th>\n",
       "      <td>2</td>\n",
       "      <td>LA</td>\n",
       "      <td>New Orleans Regional Transit Authority</td>\n",
       "      <td>Accelerating Zero-Emissions Mobility for a Res...</td>\n",
       "      <td>The New Orleans Regional Transit Authority wil...</td>\n",
       "      <td>71439261</td>\n",
       "      <td>20(zero-emission)</td>\n",
       "      <td>bus/chargers/equipment</td>\n",
       "      <td>zero</td>\n",
       "      <td>Large Urban</td>\n",
       "      <td>LA-002 ; LA-001</td>\n",
       "      <td>6</td>\n",
       "      <td>Low-No</td>\n",
       "      <td>20</td>\n",
       "      <td>zero-emission bus (not specified)</td>\n",
       "      <td>not specified</td>\n",
       "    </tr>\n",
       "    <tr>\n",
       "      <th>3</th>\n",
       "      <td>3</td>\n",
       "      <td>TX</td>\n",
       "      <td>Metropolitan Transit Authority of Harris Count...</td>\n",
       "      <td>FY 2023 Renewable Natural Gas Path to Zero Emi...</td>\n",
       "      <td>The Metropolitan Transit Authority of Harris C...</td>\n",
       "      <td>40402548</td>\n",
       "      <td>40(cngbuses)</td>\n",
       "      <td>bus/facility</td>\n",
       "      <td>low</td>\n",
       "      <td>Large Urban</td>\n",
       "      <td>TX-002 ; TX-007 ; TX-009 ; TX-018 ; TX-029</td>\n",
       "      <td>6</td>\n",
       "      <td>Low-No</td>\n",
       "      <td>40</td>\n",
       "      <td>CNG</td>\n",
       "      <td>not specified</td>\n",
       "    </tr>\n",
       "    <tr>\n",
       "      <th>4</th>\n",
       "      <td>4</td>\n",
       "      <td>MD</td>\n",
       "      <td>University of Maryland, College Park</td>\n",
       "      <td>35 Battery Electric Transit Buses, Infrastruct...</td>\n",
       "      <td>The University of Maryland, College Park will ...</td>\n",
       "      <td>39863156</td>\n",
       "      <td>35(BEBs)</td>\n",
       "      <td>bus/chargers</td>\n",
       "      <td>zero</td>\n",
       "      <td>Large Urban</td>\n",
       "      <td>MD-004 ; MD-003 ; MD-008</td>\n",
       "      <td>3</td>\n",
       "      <td>Low-No</td>\n",
       "      <td>35</td>\n",
       "      <td>BEB</td>\n",
       "      <td>not specified</td>\n",
       "    </tr>\n",
       "  </tbody>\n",
       "</table>\n",
       "</div>"
      ],
      "text/plain": [
       "   Unnamed: 0 state                                    project_sponsor  \\\n",
       "0           0    DC  Washington Metropolitan Area Transit Authority...   \n",
       "1           1    TX                   Dallas Area Rapid Transit (DART)   \n",
       "2           2    LA             New Orleans Regional Transit Authority   \n",
       "3           3    TX  Metropolitan Transit Authority of Harris Count...   \n",
       "4           4    MD               University of Maryland, College Park   \n",
       "\n",
       "                                       project_title  \\\n",
       "0  Battery-Electric Metrobus Procurement and Elec...   \n",
       "1           DART CNG Bus Fleet Modernization Project   \n",
       "2  Accelerating Zero-Emissions Mobility for a Res...   \n",
       "3  FY 2023 Renewable Natural Gas Path to Zero Emi...   \n",
       "4  35 Battery Electric Transit Buses, Infrastruct...   \n",
       "\n",
       "                                         description    funding  \\\n",
       "0  WMATA will receive funding to convert its Cind...  104000000   \n",
       "1  Dallas Area Rapid Transit will receive funding...  103000000   \n",
       "2  The New Orleans Regional Transit Authority wil...   71439261   \n",
       "3  The Metropolitan Transit Authority of Harris C...   40402548   \n",
       "4  The University of Maryland, College Park will ...   39863156   \n",
       "\n",
       "        approx_#_of_buses            project_type propulsion_category  \\\n",
       "0                100(beb)            bus/chargers                zero   \n",
       "1  90(estimated-CNGbuses)                     bus                 low   \n",
       "2       20(zero-emission)  bus/chargers/equipment                zero   \n",
       "3            40(cngbuses)            bus/facility                 low   \n",
       "4                35(BEBs)            bus/chargers                zero   \n",
       "\n",
       "   area_served                            congressional_districts  fta_region  \\\n",
       "0  Large Urban         DC-001 ; MD-004 ; MD-008 ; VA-008 ; VA-011           3   \n",
       "1  Large Urban  TX-003 ; TX-004 ; TX-005 ; TX-006 ; TX-024 ; T...           6   \n",
       "2  Large Urban                                    LA-002 ; LA-001           6   \n",
       "3  Large Urban         TX-002 ; TX-007 ; TX-009 ; TX-018 ; TX-029           6   \n",
       "4  Large Urban                           MD-004 ; MD-003 ; MD-008           3   \n",
       "\n",
       "  bus/low-no_program  bus_count                          prop_type  \\\n",
       "0             Low-No        100                                BEB   \n",
       "1             Low-No         90                                CNG   \n",
       "2             Low-No         20  zero-emission bus (not specified)   \n",
       "3             Low-No         40                                CNG   \n",
       "4             Low-No         35                                BEB   \n",
       "\n",
       "   bus_size_type  \n",
       "0  not specified  \n",
       "1  not specified  \n",
       "2  not specified  \n",
       "3  not specified  \n",
       "4  not specified  "
      ]
     },
     "metadata": {},
     "output_type": "display_data"
    },
    {
     "data": {
      "text/plain": [
       "Unnamed: 0                  int64\n",
       "state                      object\n",
       "project_sponsor            object\n",
       "project_title              object\n",
       "description                object\n",
       "funding                     int64\n",
       "approx_#_of_buses          object\n",
       "project_type               object\n",
       "propulsion_category        object\n",
       "area_served                object\n",
       "congressional_districts    object\n",
       "fta_region                  int64\n",
       "bus/low-no_program         object\n",
       "bus_count                   int64\n",
       "prop_type                  object\n",
       "bus_size_type              object\n",
       "dtype: object"
      ]
     },
     "metadata": {},
     "output_type": "display_data"
    },
    {
     "data": {
      "text/plain": [
       "(37, 17)"
      ]
     },
     "metadata": {},
     "output_type": "display_data"
    },
    {
     "data": {
      "text/plain": [
       "Index(['Unnamed: 0.2', 'Unnamed: 0.1', 'Unnamed: 0', 'award_year', 'project_#',\n",
       "       'grant_recipient', 'project_title', 'ppno', 'district', 'county',\n",
       "       'project_description', 'bus_count', 'master_agreement_number',\n",
       "       'total_project_cost', 'tircp_award_amount_($)', 'prop_type',\n",
       "       'bus_size_type'],\n",
       "      dtype='object')"
      ]
     },
     "metadata": {},
     "output_type": "display_data"
    },
    {
     "data": {
      "text/html": [
       "<div>\n",
       "<style scoped>\n",
       "    .dataframe tbody tr th:only-of-type {\n",
       "        vertical-align: middle;\n",
       "    }\n",
       "\n",
       "    .dataframe tbody tr th {\n",
       "        vertical-align: top;\n",
       "    }\n",
       "\n",
       "    .dataframe thead th {\n",
       "        text-align: right;\n",
       "    }\n",
       "</style>\n",
       "<table border=\"1\" class=\"dataframe\">\n",
       "  <thead>\n",
       "    <tr style=\"text-align: right;\">\n",
       "      <th></th>\n",
       "      <th>Unnamed: 0.2</th>\n",
       "      <th>Unnamed: 0.1</th>\n",
       "      <th>Unnamed: 0</th>\n",
       "      <th>award_year</th>\n",
       "      <th>project_#</th>\n",
       "      <th>grant_recipient</th>\n",
       "      <th>project_title</th>\n",
       "      <th>ppno</th>\n",
       "      <th>district</th>\n",
       "      <th>county</th>\n",
       "      <th>project_description</th>\n",
       "      <th>bus_count</th>\n",
       "      <th>master_agreement_number</th>\n",
       "      <th>total_project_cost</th>\n",
       "      <th>tircp_award_amount_($)</th>\n",
       "      <th>prop_type</th>\n",
       "      <th>bus_size_type</th>\n",
       "    </tr>\n",
       "  </thead>\n",
       "  <tbody>\n",
       "    <tr>\n",
       "      <th>0</th>\n",
       "      <td>0</td>\n",
       "      <td>0</td>\n",
       "      <td>0</td>\n",
       "      <td>2015</td>\n",
       "      <td>1</td>\n",
       "      <td>Antelope Valley Transit Authority (AVTA)</td>\n",
       "      <td>Regional Transit Interconnectivity &amp; Environme...</td>\n",
       "      <td>CP005</td>\n",
       "      <td>7</td>\n",
       "      <td>LA</td>\n",
       "      <td>Purchase 13 60-foot articulated BRT buses and ...</td>\n",
       "      <td>29.0</td>\n",
       "      <td>64AVTA2015MA</td>\n",
       "      <td>39478000</td>\n",
       "      <td>24403000</td>\n",
       "      <td>electric (not specified)</td>\n",
       "      <td>conventional (40-ft like)</td>\n",
       "    </tr>\n",
       "    <tr>\n",
       "      <th>1</th>\n",
       "      <td>5</td>\n",
       "      <td>5</td>\n",
       "      <td>5</td>\n",
       "      <td>2015</td>\n",
       "      <td>6</td>\n",
       "      <td>Orange County Transportation Authority (OCTA)</td>\n",
       "      <td>Bravo! Route 560 Rapid Buses</td>\n",
       "      <td>CP004</td>\n",
       "      <td>12</td>\n",
       "      <td>ORA</td>\n",
       "      <td>Purchase five 40-foot CNG buses for BRT Route ...</td>\n",
       "      <td>40.0</td>\n",
       "      <td>64OCTAMA</td>\n",
       "      <td>2900000</td>\n",
       "      <td>2320000</td>\n",
       "      <td>CNG</td>\n",
       "      <td>conventional (40-ft like)</td>\n",
       "    </tr>\n",
       "    <tr>\n",
       "      <th>2</th>\n",
       "      <td>11</td>\n",
       "      <td>11</td>\n",
       "      <td>11</td>\n",
       "      <td>2015</td>\n",
       "      <td>12</td>\n",
       "      <td>San Joaquin Regional Transit District (SJRTD)</td>\n",
       "      <td>BRT Expansion: MLK Corridor and Crosstown Mine...</td>\n",
       "      <td>CP011</td>\n",
       "      <td>10</td>\n",
       "      <td>SJ</td>\n",
       "      <td>Bus rapid transit infrastructure along the MLK...</td>\n",
       "      <td>12.0</td>\n",
       "      <td>64SJRRCMA A1</td>\n",
       "      <td>19118776</td>\n",
       "      <td>6841000</td>\n",
       "      <td>zero-emission bus (not specified)</td>\n",
       "      <td>not specified</td>\n",
       "    </tr>\n",
       "    <tr>\n",
       "      <th>3</th>\n",
       "      <td>16</td>\n",
       "      <td>16</td>\n",
       "      <td>16</td>\n",
       "      <td>2016</td>\n",
       "      <td>3</td>\n",
       "      <td>Foothill Transit</td>\n",
       "      <td>Transforming California: Bus Electrification, ...</td>\n",
       "      <td>CP076</td>\n",
       "      <td>7</td>\n",
       "      <td>LA</td>\n",
       "      <td>Purchase 20 zero-emission buses to extend Rout...</td>\n",
       "      <td>20.0</td>\n",
       "      <td>64FOOTHILLMA</td>\n",
       "      <td>16580000</td>\n",
       "      <td>5000000</td>\n",
       "      <td>zero-emission bus (not specified)</td>\n",
       "      <td>not specified</td>\n",
       "    </tr>\n",
       "    <tr>\n",
       "      <th>4</th>\n",
       "      <td>29</td>\n",
       "      <td>29</td>\n",
       "      <td>29</td>\n",
       "      <td>2018</td>\n",
       "      <td>2</td>\n",
       "      <td>Anaheim Transportation Network (ATN)</td>\n",
       "      <td>#Electrify Anaheim: Changing the Transit Parad...</td>\n",
       "      <td>CP027</td>\n",
       "      <td>12</td>\n",
       "      <td>ORA</td>\n",
       "      <td>Deploys 40 zero-emission electric buses to dou...</td>\n",
       "      <td>40.0</td>\n",
       "      <td>64ATNMA A1</td>\n",
       "      <td>45201000</td>\n",
       "      <td>28617000</td>\n",
       "      <td>electric (not specified)</td>\n",
       "      <td>not specified</td>\n",
       "    </tr>\n",
       "  </tbody>\n",
       "</table>\n",
       "</div>"
      ],
      "text/plain": [
       "   Unnamed: 0.2  Unnamed: 0.1  Unnamed: 0  award_year  project_#  \\\n",
       "0             0             0           0        2015          1   \n",
       "1             5             5           5        2015          6   \n",
       "2            11            11          11        2015         12   \n",
       "3            16            16          16        2016          3   \n",
       "4            29            29          29        2018          2   \n",
       "\n",
       "                                 grant_recipient  \\\n",
       "0       Antelope Valley Transit Authority (AVTA)   \n",
       "1  Orange County Transportation Authority (OCTA)   \n",
       "2  San Joaquin Regional Transit District (SJRTD)   \n",
       "3                               Foothill Transit   \n",
       "4           Anaheim Transportation Network (ATN)   \n",
       "\n",
       "                                       project_title   ppno  district county  \\\n",
       "0  Regional Transit Interconnectivity & Environme...  CP005         7     LA   \n",
       "1                       Bravo! Route 560 Rapid Buses  CP004        12    ORA   \n",
       "2  BRT Expansion: MLK Corridor and Crosstown Mine...  CP011        10    SJ    \n",
       "3  Transforming California: Bus Electrification, ...  CP076         7     LA   \n",
       "4  #Electrify Anaheim: Changing the Transit Parad...  CP027        12    ORA   \n",
       "\n",
       "                                 project_description  bus_count  \\\n",
       "0  Purchase 13 60-foot articulated BRT buses and ...       29.0   \n",
       "1  Purchase five 40-foot CNG buses for BRT Route ...       40.0   \n",
       "2  Bus rapid transit infrastructure along the MLK...       12.0   \n",
       "3  Purchase 20 zero-emission buses to extend Rout...       20.0   \n",
       "4  Deploys 40 zero-emission electric buses to dou...       40.0   \n",
       "\n",
       "  master_agreement_number  total_project_cost  tircp_award_amount_($)  \\\n",
       "0            64AVTA2015MA            39478000                24403000   \n",
       "1                64OCTAMA             2900000                 2320000   \n",
       "2            64SJRRCMA A1            19118776                 6841000   \n",
       "3            64FOOTHILLMA            16580000                 5000000   \n",
       "4              64ATNMA A1            45201000                28617000   \n",
       "\n",
       "                           prop_type              bus_size_type  \n",
       "0           electric (not specified)  conventional (40-ft like)  \n",
       "1                                CNG  conventional (40-ft like)  \n",
       "2  zero-emission bus (not specified)              not specified  \n",
       "3  zero-emission bus (not specified)              not specified  \n",
       "4           electric (not specified)              not specified  "
      ]
     },
     "metadata": {},
     "output_type": "display_data"
    },
    {
     "data": {
      "text/plain": [
       "Unnamed: 0.2                 int64\n",
       "Unnamed: 0.1                 int64\n",
       "Unnamed: 0                   int64\n",
       "award_year                   int64\n",
       "project_#                    int64\n",
       "grant_recipient             object\n",
       "project_title               object\n",
       "ppno                        object\n",
       "district                     int64\n",
       "county                      object\n",
       "project_description         object\n",
       "bus_count                  float64\n",
       "master_agreement_number     object\n",
       "total_project_cost           int64\n",
       "tircp_award_amount_($)       int64\n",
       "prop_type                   object\n",
       "bus_size_type               object\n",
       "dtype: object"
      ]
     },
     "metadata": {},
     "output_type": "display_data"
    }
   ],
   "source": [
    "# peaking into each dataset\n",
    "data = [fta, tircp]\n",
    "\n",
    "for x in data:\n",
    "    display(x.shape, x.columns, x.head(), x.dtypes)"
   ]
  },
  {
   "cell_type": "markdown",
   "id": "6950af52-f9eb-440b-9801-0396b650d502",
   "metadata": {
    "tags": []
   },
   "source": [
    "## Dataset cleaning"
   ]
  },
  {
   "cell_type": "markdown",
   "id": "d2588e43-41b8-4886-a298-416cf4a4c83d",
   "metadata": {
    "jp-MarkdownHeadingCollapsed": true,
    "tags": []
   },
   "source": [
    "### drop some columns"
   ]
  },
  {
   "cell_type": "code",
   "execution_count": 6,
   "id": "b86bce5a-8065-4848-8eef-5450c106fed2",
   "metadata": {},
   "outputs": [
    {
     "data": {
      "text/plain": [
       "Index(['Unnamed: 0', 'state', 'project_sponsor', 'project_title',\n",
       "       'description', 'funding', 'approx_#_of_buses', 'project_type',\n",
       "       'propulsion_category', 'area_served', 'congressional_districts',\n",
       "       'fta_region', 'bus/low-no_program', 'bus_count', 'prop_type',\n",
       "       'bus_size_type'],\n",
       "      dtype='object')"
      ]
     },
     "metadata": {},
     "output_type": "display_data"
    },
    {
     "data": {
      "text/plain": [
       "Index(['Unnamed: 0.2', 'Unnamed: 0.1', 'Unnamed: 0', 'award_year', 'project_#',\n",
       "       'grant_recipient', 'project_title', 'ppno', 'district', 'county',\n",
       "       'project_description', 'bus_count', 'master_agreement_number',\n",
       "       'total_project_cost', 'tircp_award_amount_($)', 'prop_type',\n",
       "       'bus_size_type'],\n",
       "      dtype='object')"
      ]
     },
     "metadata": {},
     "output_type": "display_data"
    }
   ],
   "source": [
    "# examine columns\n",
    "display(fta.columns, tircp.columns)"
   ]
  },
  {
   "cell_type": "code",
   "execution_count": 7,
   "id": "9e9e0945-5f9f-4a07-b9b4-7364a848d7bc",
   "metadata": {},
   "outputs": [],
   "source": [
    "fta = fta.drop(\n",
    "    columns=[\n",
    "        \"Unnamed: 0\",\n",
    "        \"area_served\",\n",
    "        \"congressional_districts\",\n",
    "        \"fta_region\",\n",
    "        \"bus/low-no_program\",\n",
    "    ]\n",
    ")"
   ]
  },
  {
   "cell_type": "code",
   "execution_count": 8,
   "id": "40ce35ff-38bf-4001-b25f-37878eab700c",
   "metadata": {},
   "outputs": [],
   "source": [
    "tircp = tircp.drop(\n",
    "    columns=[\n",
    "        \"Unnamed: 0.2\",\n",
    "        \"Unnamed: 0.1\",\n",
    "        \"Unnamed: 0\",\n",
    "        \"award_year\",\n",
    "        \"district\",\n",
    "        \"county\",\n",
    "        \"total_project_cost\",\n",
    "    ]\n",
    ")"
   ]
  },
  {
   "cell_type": "code",
   "execution_count": 9,
   "id": "17a26be1-15ba-40a0-9d09-0218d79443f4",
   "metadata": {},
   "outputs": [
    {
     "data": {
      "text/plain": [
       "Index(['state', 'project_sponsor', 'project_title', 'description', 'funding',\n",
       "       'approx_#_of_buses', 'project_type', 'propulsion_category', 'bus_count',\n",
       "       'prop_type', 'bus_size_type'],\n",
       "      dtype='object')"
      ]
     },
     "metadata": {},
     "output_type": "display_data"
    },
    {
     "data": {
      "text/plain": [
       "Index(['project_#', 'grant_recipient', 'project_title', 'ppno',\n",
       "       'project_description', 'bus_count', 'master_agreement_number',\n",
       "       'tircp_award_amount_($)', 'prop_type', 'bus_size_type'],\n",
       "      dtype='object')"
      ]
     },
     "metadata": {},
     "output_type": "display_data"
    }
   ],
   "source": [
    "display(fta.columns, tircp.columns)"
   ]
  },
  {
   "cell_type": "markdown",
   "id": "6b1e029f-5da7-417a-bc7f-94690bfdc25b",
   "metadata": {
    "jp-MarkdownHeadingCollapsed": true,
    "tags": []
   },
   "source": [
    "### drop zero bus counts from FTA"
   ]
  },
  {
   "cell_type": "code",
   "execution_count": 10,
   "id": "4553c5aa-95be-488e-b870-ddc3f36fa321",
   "metadata": {},
   "outputs": [],
   "source": [
    "fta = fta[fta[\"bus_count\"] > 0]"
   ]
  },
  {
   "cell_type": "code",
   "execution_count": 11,
   "id": "0ad42087-d70b-46f0-8fb0-6c452b7a708b",
   "metadata": {},
   "outputs": [
    {
     "data": {
      "text/plain": [
       "array([100,  90,  20,  40,  35,  16,  30,  31,  23,   7,  25,  13,   4,\n",
       "        17,  39,  12,  37,  14,  50,   8,   6,  11,  56,  10,   9,   5,\n",
       "        15,   2,   3,   1,  69,  18, 160, 134,  42])"
      ]
     },
     "execution_count": 11,
     "metadata": {},
     "output_type": "execute_result"
    }
   ],
   "source": [
    "# no more '0' values\n",
    "fta.bus_count.unique()"
   ]
  },
  {
   "cell_type": "markdown",
   "id": "dbc87cae-a0b5-41e7-822b-11b370bdb5ce",
   "metadata": {
    "jp-MarkdownHeadingCollapsed": true,
    "tags": []
   },
   "source": [
    "## Shorten data frames"
   ]
  },
  {
   "cell_type": "markdown",
   "id": "b21e89f6-efcc-48a3-8224-1c9c3926ef68",
   "metadata": {},
   "source": [
    "FTA & TIRCP columns names respecitvely\n",
    "\n",
    "    1. agency name (project_sponsor & grant_recipient)\n",
    "    2. project title? (project_title)\n",
    "    3. project award amount (funding and tircp_award_amount($))\n",
    "    4. bus count (bus_count)\n",
    "    5. propulsion type (prop_type)\n",
    "    6. bus size type (bus_size_type)"
   ]
  },
  {
   "cell_type": "code",
   "execution_count": 12,
   "id": "8f61675b-f445-4306-9ce6-27169d6b6909",
   "metadata": {},
   "outputs": [],
   "source": [
    "fta_short = fta[\n",
    "    [\n",
    "        \"project_sponsor\",\n",
    "        \"project_title\",\n",
    "        \"funding\",\n",
    "        \"bus_count\",\n",
    "        \"prop_type\",\n",
    "        \"bus_size_type\",\n",
    "    ]\n",
    "]"
   ]
  },
  {
   "cell_type": "code",
   "execution_count": 13,
   "id": "ffd9239b-45c3-4fcf-890e-773f3a38935d",
   "metadata": {},
   "outputs": [
    {
     "data": {
      "text/plain": [
       "True"
      ]
     },
     "execution_count": 13,
     "metadata": {},
     "output_type": "execute_result"
    }
   ],
   "source": [
    "len(fta_short) == len(fta)"
   ]
  },
  {
   "cell_type": "code",
   "execution_count": 14,
   "id": "b60eb1cb-b535-44f0-8bc5-341928012c59",
   "metadata": {},
   "outputs": [],
   "source": [
    "tircp_short = tircp[\n",
    "    [\n",
    "        \"grant_recipient\",\n",
    "        \"project_title\",\n",
    "        \"tircp_award_amount_($)\",\n",
    "        \"bus_count\",\n",
    "        \"prop_type\",\n",
    "        \"bus_size_type\",\n",
    "    ]\n",
    "]"
   ]
  },
  {
   "cell_type": "code",
   "execution_count": 15,
   "id": "af4bacbe-92c5-4dc2-93bf-6afe888bfacd",
   "metadata": {},
   "outputs": [
    {
     "data": {
      "text/plain": [
       "True"
      ]
     },
     "execution_count": 15,
     "metadata": {},
     "output_type": "execute_result"
    }
   ],
   "source": [
    "len(tircp_short) == len(tircp)"
   ]
  },
  {
   "cell_type": "markdown",
   "id": "cdfd4d75-59d3-482c-97bd-349a11abf105",
   "metadata": {
    "jp-MarkdownHeadingCollapsed": true,
    "tags": []
   },
   "source": [
    "## rename columns to match eachother"
   ]
  },
  {
   "cell_type": "code",
   "execution_count": 16,
   "id": "95c0112f-78cb-4cb5-aa09-d75b124cdbec",
   "metadata": {},
   "outputs": [],
   "source": [
    "# list of new column names. to be applied in same order as short df\n",
    "new_col = [\n",
    "    \"agency_name\",\n",
    "    \"project_title\",\n",
    "    \"project_award_amount\",\n",
    "    \"bus_count\",\n",
    "    \"prop_type\",\n",
    "    \"bus_size_type\",\n",
    "]"
   ]
  },
  {
   "cell_type": "code",
   "execution_count": 17,
   "id": "90da70ce-0bca-4140-83ed-da95d9c63157",
   "metadata": {},
   "outputs": [],
   "source": [
    "fta_short.columns = new_col\n",
    "tircp_short.columns = new_col"
   ]
  },
  {
   "cell_type": "code",
   "execution_count": 18,
   "id": "dfaf1766-5a70-4ec2-a54b-0e16f9fca8bc",
   "metadata": {},
   "outputs": [
    {
     "data": {
      "text/plain": [
       "array([ True,  True,  True,  True,  True,  True])"
      ]
     },
     "execution_count": 18,
     "metadata": {},
     "output_type": "execute_result"
    }
   ],
   "source": [
    "fta_short.columns == tircp_short.columns"
   ]
  },
  {
   "cell_type": "code",
   "execution_count": 19,
   "id": "7f801d4d-ac40-4c19-9c61-540a922b8805",
   "metadata": {},
   "outputs": [
    {
     "name": "stderr",
     "output_type": "stream",
     "text": [
      "/tmp/ipykernel_934/1979422963.py:2: SettingWithCopyWarning: \n",
      "A value is trying to be set on a copy of a slice from a DataFrame.\n",
      "Try using .loc[row_indexer,col_indexer] = value instead\n",
      "\n",
      "See the caveats in the documentation: https://pandas.pydata.org/pandas-docs/stable/user_guide/indexing.html#returning-a-view-versus-a-copy\n",
      "  fta_short[\"source\"] = \"fta_press_release\"\n",
      "/tmp/ipykernel_934/1979422963.py:3: SettingWithCopyWarning: \n",
      "A value is trying to be set on a copy of a slice from a DataFrame.\n",
      "Try using .loc[row_indexer,col_indexer] = value instead\n",
      "\n",
      "See the caveats in the documentation: https://pandas.pydata.org/pandas-docs/stable/user_guide/indexing.html#returning-a-view-versus-a-copy\n",
      "  tircp_short[\"source\"] = \"tircp_project_tracking\"\n"
     ]
    }
   ],
   "source": [
    "# add new col to identify source\n",
    "fta_short[\"source\"] = \"fta_press_release\"\n",
    "tircp_short[\"source\"] = \"tircp_project_tracking\""
   ]
  },
  {
   "cell_type": "code",
   "execution_count": 20,
   "id": "1e71a2b7-ccfd-4e3f-a810-fa0227d899d2",
   "metadata": {},
   "outputs": [
    {
     "data": {
      "text/html": [
       "<div>\n",
       "<style scoped>\n",
       "    .dataframe tbody tr th:only-of-type {\n",
       "        vertical-align: middle;\n",
       "    }\n",
       "\n",
       "    .dataframe tbody tr th {\n",
       "        vertical-align: top;\n",
       "    }\n",
       "\n",
       "    .dataframe thead th {\n",
       "        text-align: right;\n",
       "    }\n",
       "</style>\n",
       "<table border=\"1\" class=\"dataframe\">\n",
       "  <thead>\n",
       "    <tr style=\"text-align: right;\">\n",
       "      <th></th>\n",
       "      <th>agency_name</th>\n",
       "      <th>project_title</th>\n",
       "      <th>project_award_amount</th>\n",
       "      <th>bus_count</th>\n",
       "      <th>prop_type</th>\n",
       "      <th>bus_size_type</th>\n",
       "      <th>source</th>\n",
       "    </tr>\n",
       "  </thead>\n",
       "  <tbody>\n",
       "    <tr>\n",
       "      <th>0</th>\n",
       "      <td>Washington Metropolitan Area Transit Authority...</td>\n",
       "      <td>Battery-Electric Metrobus Procurement and Elec...</td>\n",
       "      <td>104000000</td>\n",
       "      <td>100</td>\n",
       "      <td>BEB</td>\n",
       "      <td>not specified</td>\n",
       "      <td>fta_press_release</td>\n",
       "    </tr>\n",
       "    <tr>\n",
       "      <th>1</th>\n",
       "      <td>Dallas Area Rapid Transit (DART)</td>\n",
       "      <td>DART CNG Bus Fleet Modernization Project</td>\n",
       "      <td>103000000</td>\n",
       "      <td>90</td>\n",
       "      <td>CNG</td>\n",
       "      <td>not specified</td>\n",
       "      <td>fta_press_release</td>\n",
       "    </tr>\n",
       "    <tr>\n",
       "      <th>2</th>\n",
       "      <td>New Orleans Regional Transit Authority</td>\n",
       "      <td>Accelerating Zero-Emissions Mobility for a Res...</td>\n",
       "      <td>71439261</td>\n",
       "      <td>20</td>\n",
       "      <td>zero-emission bus (not specified)</td>\n",
       "      <td>not specified</td>\n",
       "      <td>fta_press_release</td>\n",
       "    </tr>\n",
       "    <tr>\n",
       "      <th>3</th>\n",
       "      <td>Metropolitan Transit Authority of Harris Count...</td>\n",
       "      <td>FY 2023 Renewable Natural Gas Path to Zero Emi...</td>\n",
       "      <td>40402548</td>\n",
       "      <td>40</td>\n",
       "      <td>CNG</td>\n",
       "      <td>not specified</td>\n",
       "      <td>fta_press_release</td>\n",
       "    </tr>\n",
       "    <tr>\n",
       "      <th>4</th>\n",
       "      <td>University of Maryland, College Park</td>\n",
       "      <td>35 Battery Electric Transit Buses, Infrastruct...</td>\n",
       "      <td>39863156</td>\n",
       "      <td>35</td>\n",
       "      <td>BEB</td>\n",
       "      <td>not specified</td>\n",
       "      <td>fta_press_release</td>\n",
       "    </tr>\n",
       "  </tbody>\n",
       "</table>\n",
       "</div>"
      ],
      "text/plain": [
       "                                         agency_name  \\\n",
       "0  Washington Metropolitan Area Transit Authority...   \n",
       "1                   Dallas Area Rapid Transit (DART)   \n",
       "2             New Orleans Regional Transit Authority   \n",
       "3  Metropolitan Transit Authority of Harris Count...   \n",
       "4               University of Maryland, College Park   \n",
       "\n",
       "                                       project_title  project_award_amount  \\\n",
       "0  Battery-Electric Metrobus Procurement and Elec...             104000000   \n",
       "1           DART CNG Bus Fleet Modernization Project             103000000   \n",
       "2  Accelerating Zero-Emissions Mobility for a Res...              71439261   \n",
       "3  FY 2023 Renewable Natural Gas Path to Zero Emi...              40402548   \n",
       "4  35 Battery Electric Transit Buses, Infrastruct...              39863156   \n",
       "\n",
       "   bus_count                          prop_type  bus_size_type  \\\n",
       "0        100                                BEB  not specified   \n",
       "1         90                                CNG  not specified   \n",
       "2         20  zero-emission bus (not specified)  not specified   \n",
       "3         40                                CNG  not specified   \n",
       "4         35                                BEB  not specified   \n",
       "\n",
       "              source  \n",
       "0  fta_press_release  \n",
       "1  fta_press_release  \n",
       "2  fta_press_release  \n",
       "3  fta_press_release  \n",
       "4  fta_press_release  "
      ]
     },
     "metadata": {},
     "output_type": "display_data"
    },
    {
     "data": {
      "text/html": [
       "<div>\n",
       "<style scoped>\n",
       "    .dataframe tbody tr th:only-of-type {\n",
       "        vertical-align: middle;\n",
       "    }\n",
       "\n",
       "    .dataframe tbody tr th {\n",
       "        vertical-align: top;\n",
       "    }\n",
       "\n",
       "    .dataframe thead th {\n",
       "        text-align: right;\n",
       "    }\n",
       "</style>\n",
       "<table border=\"1\" class=\"dataframe\">\n",
       "  <thead>\n",
       "    <tr style=\"text-align: right;\">\n",
       "      <th></th>\n",
       "      <th>agency_name</th>\n",
       "      <th>project_title</th>\n",
       "      <th>project_award_amount</th>\n",
       "      <th>bus_count</th>\n",
       "      <th>prop_type</th>\n",
       "      <th>bus_size_type</th>\n",
       "      <th>source</th>\n",
       "    </tr>\n",
       "  </thead>\n",
       "  <tbody>\n",
       "    <tr>\n",
       "      <th>0</th>\n",
       "      <td>Antelope Valley Transit Authority (AVTA)</td>\n",
       "      <td>Regional Transit Interconnectivity &amp; Environme...</td>\n",
       "      <td>24403000</td>\n",
       "      <td>29.0</td>\n",
       "      <td>electric (not specified)</td>\n",
       "      <td>conventional (40-ft like)</td>\n",
       "      <td>tircp_project_tracking</td>\n",
       "    </tr>\n",
       "    <tr>\n",
       "      <th>1</th>\n",
       "      <td>Orange County Transportation Authority (OCTA)</td>\n",
       "      <td>Bravo! Route 560 Rapid Buses</td>\n",
       "      <td>2320000</td>\n",
       "      <td>40.0</td>\n",
       "      <td>CNG</td>\n",
       "      <td>conventional (40-ft like)</td>\n",
       "      <td>tircp_project_tracking</td>\n",
       "    </tr>\n",
       "    <tr>\n",
       "      <th>2</th>\n",
       "      <td>San Joaquin Regional Transit District (SJRTD)</td>\n",
       "      <td>BRT Expansion: MLK Corridor and Crosstown Mine...</td>\n",
       "      <td>6841000</td>\n",
       "      <td>12.0</td>\n",
       "      <td>zero-emission bus (not specified)</td>\n",
       "      <td>not specified</td>\n",
       "      <td>tircp_project_tracking</td>\n",
       "    </tr>\n",
       "    <tr>\n",
       "      <th>3</th>\n",
       "      <td>Foothill Transit</td>\n",
       "      <td>Transforming California: Bus Electrification, ...</td>\n",
       "      <td>5000000</td>\n",
       "      <td>20.0</td>\n",
       "      <td>zero-emission bus (not specified)</td>\n",
       "      <td>not specified</td>\n",
       "      <td>tircp_project_tracking</td>\n",
       "    </tr>\n",
       "    <tr>\n",
       "      <th>4</th>\n",
       "      <td>Anaheim Transportation Network (ATN)</td>\n",
       "      <td>#Electrify Anaheim: Changing the Transit Parad...</td>\n",
       "      <td>28617000</td>\n",
       "      <td>40.0</td>\n",
       "      <td>electric (not specified)</td>\n",
       "      <td>not specified</td>\n",
       "      <td>tircp_project_tracking</td>\n",
       "    </tr>\n",
       "  </tbody>\n",
       "</table>\n",
       "</div>"
      ],
      "text/plain": [
       "                                     agency_name  \\\n",
       "0       Antelope Valley Transit Authority (AVTA)   \n",
       "1  Orange County Transportation Authority (OCTA)   \n",
       "2  San Joaquin Regional Transit District (SJRTD)   \n",
       "3                               Foothill Transit   \n",
       "4           Anaheim Transportation Network (ATN)   \n",
       "\n",
       "                                       project_title  project_award_amount  \\\n",
       "0  Regional Transit Interconnectivity & Environme...              24403000   \n",
       "1                       Bravo! Route 560 Rapid Buses               2320000   \n",
       "2  BRT Expansion: MLK Corridor and Crosstown Mine...               6841000   \n",
       "3  Transforming California: Bus Electrification, ...               5000000   \n",
       "4  #Electrify Anaheim: Changing the Transit Parad...              28617000   \n",
       "\n",
       "   bus_count                          prop_type              bus_size_type  \\\n",
       "0       29.0           electric (not specified)  conventional (40-ft like)   \n",
       "1       40.0                                CNG  conventional (40-ft like)   \n",
       "2       12.0  zero-emission bus (not specified)              not specified   \n",
       "3       20.0  zero-emission bus (not specified)              not specified   \n",
       "4       40.0           electric (not specified)              not specified   \n",
       "\n",
       "                   source  \n",
       "0  tircp_project_tracking  \n",
       "1  tircp_project_tracking  \n",
       "2  tircp_project_tracking  \n",
       "3  tircp_project_tracking  \n",
       "4  tircp_project_tracking  "
      ]
     },
     "metadata": {},
     "output_type": "display_data"
    }
   ],
   "source": [
    "display(fta_short.head(), tircp_short.head())"
   ]
  },
  {
   "cell_type": "markdown",
   "id": "b8ca8d50-5041-4459-a764-ccc12ced2037",
   "metadata": {
    "jp-MarkdownHeadingCollapsed": true,
    "tags": []
   },
   "source": [
    "## Concat both dataframes"
   ]
  },
  {
   "cell_type": "code",
   "execution_count": 21,
   "id": "5c7bfad5-9048-4712-b663-c4795b071737",
   "metadata": {},
   "outputs": [],
   "source": [
    "concat = pd.concat([fta_short, tircp_short], axis=0).reset_index()"
   ]
  },
  {
   "cell_type": "code",
   "execution_count": 22,
   "id": "d6142fce-639e-4082-b83c-6fec6e6a53cf",
   "metadata": {},
   "outputs": [
    {
     "data": {
      "text/plain": [
       "96"
      ]
     },
     "metadata": {},
     "output_type": "display_data"
    },
    {
     "data": {
      "text/plain": [
       "37"
      ]
     },
     "metadata": {},
     "output_type": "display_data"
    },
    {
     "data": {
      "text/plain": [
       "True"
      ]
     },
     "metadata": {},
     "output_type": "display_data"
    }
   ],
   "source": [
    "# checking work\n",
    "# check len of both data frames and concat, see if they equal eachother\n",
    "display(\n",
    "    len(fta_short), len(tircp_short), len(fta_short) + len(tircp_short) == len(concat)\n",
    ")"
   ]
  },
  {
   "cell_type": "code",
   "execution_count": 23,
   "id": "9c63d955-ccff-4316-aa42-1aa66af7beed",
   "metadata": {},
   "outputs": [
    {
     "data": {
      "text/html": [
       "<div>\n",
       "<style scoped>\n",
       "    .dataframe tbody tr th:only-of-type {\n",
       "        vertical-align: middle;\n",
       "    }\n",
       "\n",
       "    .dataframe tbody tr th {\n",
       "        vertical-align: top;\n",
       "    }\n",
       "\n",
       "    .dataframe thead th {\n",
       "        text-align: right;\n",
       "    }\n",
       "</style>\n",
       "<table border=\"1\" class=\"dataframe\">\n",
       "  <thead>\n",
       "    <tr style=\"text-align: right;\">\n",
       "      <th></th>\n",
       "      <th>index</th>\n",
       "      <th>agency_name</th>\n",
       "      <th>project_title</th>\n",
       "      <th>project_award_amount</th>\n",
       "      <th>bus_count</th>\n",
       "      <th>prop_type</th>\n",
       "      <th>bus_size_type</th>\n",
       "      <th>source</th>\n",
       "    </tr>\n",
       "  </thead>\n",
       "  <tbody>\n",
       "    <tr>\n",
       "      <th>39</th>\n",
       "      <td>39</td>\n",
       "      <td>Champaign-Urbana Mass Transit District</td>\n",
       "      <td>MTD 40-Foot Hybrid Replacement Buses</td>\n",
       "      <td>6635394</td>\n",
       "      <td>10.0</td>\n",
       "      <td>low emission (hybrid)</td>\n",
       "      <td>not specified</td>\n",
       "      <td>fta_press_release</td>\n",
       "    </tr>\n",
       "    <tr>\n",
       "      <th>3</th>\n",
       "      <td>3</td>\n",
       "      <td>Metropolitan Transit Authority of Harris Count...</td>\n",
       "      <td>FY 2023 Renewable Natural Gas Path to Zero Emi...</td>\n",
       "      <td>40402548</td>\n",
       "      <td>40.0</td>\n",
       "      <td>CNG</td>\n",
       "      <td>not specified</td>\n",
       "      <td>fta_press_release</td>\n",
       "    </tr>\n",
       "    <tr>\n",
       "      <th>129</th>\n",
       "      <td>33</td>\n",
       "      <td>Humboldt Transit Authority (HTA) with Yurok Tr...</td>\n",
       "      <td>Expanding Transit Service and Growing Zero-Emi...</td>\n",
       "      <td>8612000</td>\n",
       "      <td>4.0</td>\n",
       "      <td>FCEB</td>\n",
       "      <td>not specified</td>\n",
       "      <td>tircp_project_tracking</td>\n",
       "    </tr>\n",
       "  </tbody>\n",
       "</table>\n",
       "</div>"
      ],
      "text/plain": [
       "     index                                        agency_name  \\\n",
       "39      39             Champaign-Urbana Mass Transit District   \n",
       "3        3  Metropolitan Transit Authority of Harris Count...   \n",
       "129     33  Humboldt Transit Authority (HTA) with Yurok Tr...   \n",
       "\n",
       "                                         project_title  project_award_amount  \\\n",
       "39                MTD 40-Foot Hybrid Replacement Buses               6635394   \n",
       "3    FY 2023 Renewable Natural Gas Path to Zero Emi...              40402548   \n",
       "129  Expanding Transit Service and Growing Zero-Emi...               8612000   \n",
       "\n",
       "     bus_count              prop_type  bus_size_type                  source  \n",
       "39        10.0  low emission (hybrid)  not specified       fta_press_release  \n",
       "3         40.0                    CNG  not specified       fta_press_release  \n",
       "129        4.0                   FCEB  not specified  tircp_project_tracking  "
      ]
     },
     "execution_count": 23,
     "metadata": {},
     "output_type": "execute_result"
    }
   ],
   "source": [
    "concat.sample(3)"
   ]
  },
  {
   "cell_type": "code",
   "execution_count": 24,
   "id": "7d5dd236-bdb4-4213-997a-b2c9a4b8c0b6",
   "metadata": {},
   "outputs": [],
   "source": [
    "concat = concat.drop(\"index\", axis=1)"
   ]
  },
  {
   "cell_type": "code",
   "execution_count": 25,
   "id": "4ea75308-6784-4aba-ae2d-b8ceb05ad189",
   "metadata": {},
   "outputs": [
    {
     "data": {
      "text/plain": [
       "['BEB',\n",
       " 'CNG',\n",
       " 'FCEB',\n",
       " 'electric (not specified)',\n",
       " 'low emission (ethanol)',\n",
       " 'low emission (hybrid)',\n",
       " 'low emission (propane)',\n",
       " 'mix (BEB and FCEB)',\n",
       " 'mix (low emission)',\n",
       " 'mix (zero and low emission buses)',\n",
       " 'not specified',\n",
       " 'zero-emission bus (not specified)']"
      ]
     },
     "execution_count": 25,
     "metadata": {},
     "output_type": "execute_result"
    }
   ],
   "source": [
    "# concat looks good\n",
    "# prop_types still look good \n",
    "list(concat.prop_type.sort_values().unique())"
   ]
  },
  {
   "cell_type": "markdown",
   "id": "14f00383-8c11-4656-a019-a5b58cc4d076",
   "metadata": {
    "tags": []
   },
   "source": [
    "## Export concat data"
   ]
  },
  {
   "cell_type": "code",
   "execution_count": 26,
   "id": "173aa1c6-fc73-4476-b3d0-e3bab1c48e4b",
   "metadata": {},
   "outputs": [],
   "source": [
    "concat.to_csv(\n",
    "    \"gs://calitp-analytics-data/data-analyses/bus_procurement_cost/fta_tircp_concat.csv\"\n",
    ")"
   ]
  },
  {
   "cell_type": "markdown",
   "id": "e7582392-0b4b-4c95-a2a6-b0939cf63862",
   "metadata": {
    "tags": []
   },
   "source": [
    "## Read in concat data (TIRCP and FTA data)"
   ]
  },
  {
   "cell_type": "code",
   "execution_count": 27,
   "id": "5b474b47-7617-4eaa-b8fb-c86709c77368",
   "metadata": {},
   "outputs": [],
   "source": [
    "all_bus = pd.read_csv(\n",
    "    \"gs://calitp-analytics-data/data-analyses/bus_procurement_cost/fta_tircp_concat.csv\"\n",
    ")"
   ]
  },
  {
   "cell_type": "markdown",
   "id": "3e07cd2c-9bc7-4bcc-8e4f-e7d58ebcc1fc",
   "metadata": {
    "tags": []
   },
   "source": [
    "## create cost_per_bus_column\n",
    "on all_bus df"
   ]
  },
  {
   "cell_type": "code",
   "execution_count": 28,
   "id": "b35f7018-64f7-4a5b-ab50-10d871115c83",
   "metadata": {},
   "outputs": [],
   "source": [
    "all_bus[\"cost_per_bus\"] = (\n",
    "    all_bus[\"project_award_amount\"] / all_bus[\"bus_count\"]\n",
    ").astype(\"int64\")"
   ]
  },
  {
   "cell_type": "code",
   "execution_count": 29,
   "id": "07acb5fc-5611-40d6-bfa5-90b814bd5588",
   "metadata": {},
   "outputs": [
    {
     "data": {
      "text/plain": [
       "pandas.core.frame.DataFrame"
      ]
     },
     "metadata": {},
     "output_type": "display_data"
    },
    {
     "data": {
      "text/plain": [
       "(133, 9)"
      ]
     },
     "metadata": {},
     "output_type": "display_data"
    },
    {
     "data": {
      "text/plain": [
       "Unnamed: 0                int64\n",
       "agency_name              object\n",
       "project_title            object\n",
       "project_award_amount      int64\n",
       "bus_count               float64\n",
       "prop_type                object\n",
       "bus_size_type            object\n",
       "source                   object\n",
       "cost_per_bus              int64\n",
       "dtype: object"
      ]
     },
     "metadata": {},
     "output_type": "display_data"
    },
    {
     "data": {
      "text/html": [
       "<div>\n",
       "<style scoped>\n",
       "    .dataframe tbody tr th:only-of-type {\n",
       "        vertical-align: middle;\n",
       "    }\n",
       "\n",
       "    .dataframe tbody tr th {\n",
       "        vertical-align: top;\n",
       "    }\n",
       "\n",
       "    .dataframe thead th {\n",
       "        text-align: right;\n",
       "    }\n",
       "</style>\n",
       "<table border=\"1\" class=\"dataframe\">\n",
       "  <thead>\n",
       "    <tr style=\"text-align: right;\">\n",
       "      <th></th>\n",
       "      <th>Unnamed: 0</th>\n",
       "      <th>agency_name</th>\n",
       "      <th>project_title</th>\n",
       "      <th>project_award_amount</th>\n",
       "      <th>bus_count</th>\n",
       "      <th>prop_type</th>\n",
       "      <th>bus_size_type</th>\n",
       "      <th>source</th>\n",
       "      <th>cost_per_bus</th>\n",
       "    </tr>\n",
       "  </thead>\n",
       "  <tbody>\n",
       "    <tr>\n",
       "      <th>26</th>\n",
       "      <td>26</td>\n",
       "      <td>Illinois Department of Transportation on behal...</td>\n",
       "      <td>Illinois Department of Transportation Statewid...</td>\n",
       "      <td>12299377</td>\n",
       "      <td>50.0</td>\n",
       "      <td>BEB</td>\n",
       "      <td>not specified</td>\n",
       "      <td>fta_press_release</td>\n",
       "      <td>245987</td>\n",
       "    </tr>\n",
       "    <tr>\n",
       "      <th>127</th>\n",
       "      <td>127</td>\n",
       "      <td>City of Simi Valley</td>\n",
       "      <td>Simi Valley Regional Transit Center and Pathwa...</td>\n",
       "      <td>7053000</td>\n",
       "      <td>6.0</td>\n",
       "      <td>zero-emission bus (not specified)</td>\n",
       "      <td>not specified</td>\n",
       "      <td>tircp_project_tracking</td>\n",
       "      <td>1175500</td>\n",
       "    </tr>\n",
       "  </tbody>\n",
       "</table>\n",
       "</div>"
      ],
      "text/plain": [
       "     Unnamed: 0                                        agency_name  \\\n",
       "26           26  Illinois Department of Transportation on behal...   \n",
       "127         127                                City of Simi Valley   \n",
       "\n",
       "                                         project_title  project_award_amount  \\\n",
       "26   Illinois Department of Transportation Statewid...              12299377   \n",
       "127  Simi Valley Regional Transit Center and Pathwa...               7053000   \n",
       "\n",
       "     bus_count                          prop_type  bus_size_type  \\\n",
       "26        50.0                                BEB  not specified   \n",
       "127        6.0  zero-emission bus (not specified)  not specified   \n",
       "\n",
       "                     source  cost_per_bus  \n",
       "26        fta_press_release        245987  \n",
       "127  tircp_project_tracking       1175500  "
      ]
     },
     "metadata": {},
     "output_type": "display_data"
    }
   ],
   "source": [
    "df_peek(all_bus)"
   ]
  },
  {
   "cell_type": "markdown",
   "id": "6ddefcb9-7c31-4a69-bef8-ae80455a2a39",
   "metadata": {
    "tags": []
   },
   "source": [
    "## Aggregate\n",
    "To get total funding and bus count\n",
    "- per agency\n",
    "- per propulsion type\n",
    "- per bus size type"
   ]
  },
  {
   "cell_type": "code",
   "execution_count": 30,
   "id": "9eea9c65-dd39-46a2-ba0f-a276e2fc913f",
   "metadata": {},
   "outputs": [],
   "source": [
    "## function to agg by X col by project title, award, bus count and cost_per_bus\n",
    "def bus_aggregate(column):\n",
    "    df_agg = (\n",
    "        all_bus.groupby(column)\n",
    "        .agg(\n",
    "            total_project_count=(\"project_title\", \"count\"),\n",
    "            total_funds=(\"project_award_amount\", \"sum\"),\n",
    "            total_bus_count=(\"bus_count\", \"sum\"),\n",
    "            total_cpb=('cost_per_bus', 'sum'),\n",
    "            \n",
    "        )\n",
    "        .reset_index()\n",
    "    )\n",
    "    return df_agg"
   ]
  },
  {
   "cell_type": "code",
   "execution_count": 31,
   "id": "f68d9a34-2d60-4366-9f3d-7ead081b8149",
   "metadata": {},
   "outputs": [],
   "source": [
    "agency_agg = bus_aggregate(\"agency_name\")\n",
    "prop_agg = bus_aggregate(\"prop_type\")\n",
    "size_agg = bus_aggregate(\"bus_size_type\")"
   ]
  },
  {
   "cell_type": "code",
   "execution_count": 32,
   "id": "fa04c528-b46a-49a7-98b3-a1857ddc6a9c",
   "metadata": {},
   "outputs": [
    {
     "data": {
      "text/plain": [
       "pandas.core.frame.DataFrame"
      ]
     },
     "metadata": {},
     "output_type": "display_data"
    },
    {
     "data": {
      "text/plain": [
       "(127, 5)"
      ]
     },
     "metadata": {},
     "output_type": "display_data"
    },
    {
     "data": {
      "text/plain": [
       "agency_name             object\n",
       "total_project_count      int64\n",
       "total_funds              int64\n",
       "total_bus_count        float64\n",
       "total_cpb                int64\n",
       "dtype: object"
      ]
     },
     "metadata": {},
     "output_type": "display_data"
    },
    {
     "data": {
      "text/html": [
       "<div>\n",
       "<style scoped>\n",
       "    .dataframe tbody tr th:only-of-type {\n",
       "        vertical-align: middle;\n",
       "    }\n",
       "\n",
       "    .dataframe tbody tr th {\n",
       "        vertical-align: top;\n",
       "    }\n",
       "\n",
       "    .dataframe thead th {\n",
       "        text-align: right;\n",
       "    }\n",
       "</style>\n",
       "<table border=\"1\" class=\"dataframe\">\n",
       "  <thead>\n",
       "    <tr style=\"text-align: right;\">\n",
       "      <th></th>\n",
       "      <th>agency_name</th>\n",
       "      <th>total_project_count</th>\n",
       "      <th>total_funds</th>\n",
       "      <th>total_bus_count</th>\n",
       "      <th>total_cpb</th>\n",
       "    </tr>\n",
       "  </thead>\n",
       "  <tbody>\n",
       "    <tr>\n",
       "      <th>103</th>\n",
       "      <td>State of California on behalf of Glenn County ...</td>\n",
       "      <td>1</td>\n",
       "      <td>3400000</td>\n",
       "      <td>4.0</td>\n",
       "      <td>850000</td>\n",
       "    </tr>\n",
       "    <tr>\n",
       "      <th>47</th>\n",
       "      <td>Greater Lafayette Public Transportation Corpor...</td>\n",
       "      <td>1</td>\n",
       "      <td>7598425</td>\n",
       "      <td>7.0</td>\n",
       "      <td>1085489</td>\n",
       "    </tr>\n",
       "  </tbody>\n",
       "</table>\n",
       "</div>"
      ],
      "text/plain": [
       "                                           agency_name  total_project_count  \\\n",
       "103  State of California on behalf of Glenn County ...                    1   \n",
       "47   Greater Lafayette Public Transportation Corpor...                    1   \n",
       "\n",
       "     total_funds  total_bus_count  total_cpb  \n",
       "103      3400000              4.0     850000  \n",
       "47       7598425              7.0    1085489  "
      ]
     },
     "metadata": {},
     "output_type": "display_data"
    },
    {
     "data": {
      "text/plain": [
       "None"
      ]
     },
     "metadata": {},
     "output_type": "display_data"
    },
    {
     "data": {
      "text/plain": [
       "pandas.core.frame.DataFrame"
      ]
     },
     "metadata": {},
     "output_type": "display_data"
    },
    {
     "data": {
      "text/plain": [
       "(12, 5)"
      ]
     },
     "metadata": {},
     "output_type": "display_data"
    },
    {
     "data": {
      "text/plain": [
       "prop_type               object\n",
       "total_project_count      int64\n",
       "total_funds              int64\n",
       "total_bus_count        float64\n",
       "total_cpb                int64\n",
       "dtype: object"
      ]
     },
     "metadata": {},
     "output_type": "display_data"
    },
    {
     "data": {
      "text/html": [
       "<div>\n",
       "<style scoped>\n",
       "    .dataframe tbody tr th:only-of-type {\n",
       "        vertical-align: middle;\n",
       "    }\n",
       "\n",
       "    .dataframe tbody tr th {\n",
       "        vertical-align: top;\n",
       "    }\n",
       "\n",
       "    .dataframe thead th {\n",
       "        text-align: right;\n",
       "    }\n",
       "</style>\n",
       "<table border=\"1\" class=\"dataframe\">\n",
       "  <thead>\n",
       "    <tr style=\"text-align: right;\">\n",
       "      <th></th>\n",
       "      <th>prop_type</th>\n",
       "      <th>total_project_count</th>\n",
       "      <th>total_funds</th>\n",
       "      <th>total_bus_count</th>\n",
       "      <th>total_cpb</th>\n",
       "    </tr>\n",
       "  </thead>\n",
       "  <tbody>\n",
       "    <tr>\n",
       "      <th>9</th>\n",
       "      <td>mix (zero and low emission buses)</td>\n",
       "      <td>5</td>\n",
       "      <td>76426268</td>\n",
       "      <td>166.0</td>\n",
       "      <td>3027306</td>\n",
       "    </tr>\n",
       "    <tr>\n",
       "      <th>8</th>\n",
       "      <td>mix (low emission)</td>\n",
       "      <td>1</td>\n",
       "      <td>3303600</td>\n",
       "      <td>9.0</td>\n",
       "      <td>367066</td>\n",
       "    </tr>\n",
       "  </tbody>\n",
       "</table>\n",
       "</div>"
      ],
      "text/plain": [
       "                           prop_type  total_project_count  total_funds  \\\n",
       "9  mix (zero and low emission buses)                    5     76426268   \n",
       "8                 mix (low emission)                    1      3303600   \n",
       "\n",
       "   total_bus_count  total_cpb  \n",
       "9            166.0    3027306  \n",
       "8              9.0     367066  "
      ]
     },
     "metadata": {},
     "output_type": "display_data"
    },
    {
     "data": {
      "text/plain": [
       "None"
      ]
     },
     "metadata": {},
     "output_type": "display_data"
    },
    {
     "data": {
      "text/plain": [
       "pandas.core.frame.DataFrame"
      ]
     },
     "metadata": {},
     "output_type": "display_data"
    },
    {
     "data": {
      "text/plain": [
       "(4, 5)"
      ]
     },
     "metadata": {},
     "output_type": "display_data"
    },
    {
     "data": {
      "text/plain": [
       "bus_size_type           object\n",
       "total_project_count      int64\n",
       "total_funds              int64\n",
       "total_bus_count        float64\n",
       "total_cpb                int64\n",
       "dtype: object"
      ]
     },
     "metadata": {},
     "output_type": "display_data"
    },
    {
     "data": {
      "text/html": [
       "<div>\n",
       "<style scoped>\n",
       "    .dataframe tbody tr th:only-of-type {\n",
       "        vertical-align: middle;\n",
       "    }\n",
       "\n",
       "    .dataframe tbody tr th {\n",
       "        vertical-align: top;\n",
       "    }\n",
       "\n",
       "    .dataframe thead th {\n",
       "        text-align: right;\n",
       "    }\n",
       "</style>\n",
       "<table border=\"1\" class=\"dataframe\">\n",
       "  <thead>\n",
       "    <tr style=\"text-align: right;\">\n",
       "      <th></th>\n",
       "      <th>bus_size_type</th>\n",
       "      <th>total_project_count</th>\n",
       "      <th>total_funds</th>\n",
       "      <th>total_bus_count</th>\n",
       "      <th>total_cpb</th>\n",
       "    </tr>\n",
       "  </thead>\n",
       "  <tbody>\n",
       "    <tr>\n",
       "      <th>0</th>\n",
       "      <td>conventional (40-ft like)</td>\n",
       "      <td>4</td>\n",
       "      <td>63542000</td>\n",
       "      <td>93.0</td>\n",
       "      <td>3616553</td>\n",
       "    </tr>\n",
       "    <tr>\n",
       "      <th>2</th>\n",
       "      <td>not specified</td>\n",
       "      <td>122</td>\n",
       "      <td>1944679469</td>\n",
       "      <td>2418.0</td>\n",
       "      <td>128891395</td>\n",
       "    </tr>\n",
       "  </tbody>\n",
       "</table>\n",
       "</div>"
      ],
      "text/plain": [
       "               bus_size_type  total_project_count  total_funds  \\\n",
       "0  conventional (40-ft like)                    4     63542000   \n",
       "2              not specified                  122   1944679469   \n",
       "\n",
       "   total_bus_count  total_cpb  \n",
       "0             93.0    3616553  \n",
       "2           2418.0  128891395  "
      ]
     },
     "metadata": {},
     "output_type": "display_data"
    },
    {
     "data": {
      "text/plain": [
       "None"
      ]
     },
     "metadata": {},
     "output_type": "display_data"
    }
   ],
   "source": [
    "# list and loop to look at all agg dfs at the same time\n",
    "agg_list = [agency_agg, prop_agg, size_agg]\n",
    "\n",
    "for x in agg_list:\n",
    "    display(df_peek(x))"
   ]
  },
  {
   "cell_type": "markdown",
   "id": "eaf73856-2e5b-48be-9107-a8ca97b22f1f",
   "metadata": {
    "tags": []
   },
   "source": [
    "## Summary Stats"
   ]
  },
  {
   "cell_type": "markdown",
   "id": "d645f949-ddb4-4b58-ab0a-0889a5ad6f56",
   "metadata": {
    "tags": []
   },
   "source": [
    "### Z-score for cost_per_bus "
   ]
  },
  {
   "cell_type": "code",
   "execution_count": 33,
   "id": "71a64926-2ea5-4bbf-aae9-d243c3830ada",
   "metadata": {},
   "outputs": [],
   "source": [
    "# add new column for z-score\n",
    "all_bus[\"zscore_cost_per_bus\"] = zscore(all_bus[\"cost_per_bus\"])"
   ]
  },
  {
   "cell_type": "code",
   "execution_count": 34,
   "id": "5111734e-6f0e-4d99-a585-94f80341ca11",
   "metadata": {},
   "outputs": [
    {
     "data": {
      "text/plain": [
       "pandas.core.frame.DataFrame"
      ]
     },
     "metadata": {},
     "output_type": "display_data"
    },
    {
     "data": {
      "text/plain": [
       "(133, 10)"
      ]
     },
     "metadata": {},
     "output_type": "display_data"
    },
    {
     "data": {
      "text/plain": [
       "Unnamed: 0                int64\n",
       "agency_name              object\n",
       "project_title            object\n",
       "project_award_amount      int64\n",
       "bus_count               float64\n",
       "prop_type                object\n",
       "bus_size_type            object\n",
       "source                   object\n",
       "cost_per_bus              int64\n",
       "zscore_cost_per_bus     float64\n",
       "dtype: object"
      ]
     },
     "metadata": {},
     "output_type": "display_data"
    },
    {
     "data": {
      "text/html": [
       "<div>\n",
       "<style scoped>\n",
       "    .dataframe tbody tr th:only-of-type {\n",
       "        vertical-align: middle;\n",
       "    }\n",
       "\n",
       "    .dataframe tbody tr th {\n",
       "        vertical-align: top;\n",
       "    }\n",
       "\n",
       "    .dataframe thead th {\n",
       "        text-align: right;\n",
       "    }\n",
       "</style>\n",
       "<table border=\"1\" class=\"dataframe\">\n",
       "  <thead>\n",
       "    <tr style=\"text-align: right;\">\n",
       "      <th></th>\n",
       "      <th>Unnamed: 0</th>\n",
       "      <th>agency_name</th>\n",
       "      <th>project_title</th>\n",
       "      <th>project_award_amount</th>\n",
       "      <th>bus_count</th>\n",
       "      <th>prop_type</th>\n",
       "      <th>bus_size_type</th>\n",
       "      <th>source</th>\n",
       "      <th>cost_per_bus</th>\n",
       "      <th>zscore_cost_per_bus</th>\n",
       "    </tr>\n",
       "  </thead>\n",
       "  <tbody>\n",
       "    <tr>\n",
       "      <th>4</th>\n",
       "      <td>4</td>\n",
       "      <td>University of Maryland, College Park</td>\n",
       "      <td>35 Battery Electric Transit Buses, Infrastruct...</td>\n",
       "      <td>39863156</td>\n",
       "      <td>35.0</td>\n",
       "      <td>BEB</td>\n",
       "      <td>not specified</td>\n",
       "      <td>fta_press_release</td>\n",
       "      <td>1138947</td>\n",
       "      <td>0.093313</td>\n",
       "    </tr>\n",
       "    <tr>\n",
       "      <th>95</th>\n",
       "      <td>95</td>\n",
       "      <td>Oregon Department of Transportation on behalf ...</td>\n",
       "      <td>CET's Low Emission Vanpools and Support Vehicles</td>\n",
       "      <td>181250</td>\n",
       "      <td>5.0</td>\n",
       "      <td>low emission (hybrid)</td>\n",
       "      <td>not specified</td>\n",
       "      <td>fta_press_release</td>\n",
       "      <td>36250</td>\n",
       "      <td>-0.887972</td>\n",
       "    </tr>\n",
       "  </tbody>\n",
       "</table>\n",
       "</div>"
      ],
      "text/plain": [
       "    Unnamed: 0                                        agency_name  \\\n",
       "4            4               University of Maryland, College Park   \n",
       "95          95  Oregon Department of Transportation on behalf ...   \n",
       "\n",
       "                                        project_title  project_award_amount  \\\n",
       "4   35 Battery Electric Transit Buses, Infrastruct...              39863156   \n",
       "95   CET's Low Emission Vanpools and Support Vehicles                181250   \n",
       "\n",
       "    bus_count              prop_type  bus_size_type             source  \\\n",
       "4        35.0                    BEB  not specified  fta_press_release   \n",
       "95        5.0  low emission (hybrid)  not specified  fta_press_release   \n",
       "\n",
       "    cost_per_bus  zscore_cost_per_bus  \n",
       "4        1138947             0.093313  \n",
       "95         36250            -0.887972  "
      ]
     },
     "metadata": {},
     "output_type": "display_data"
    }
   ],
   "source": [
    "df_peek(all_bus)"
   ]
  },
  {
   "cell_type": "code",
   "execution_count": 35,
   "id": "b074a5a1-8479-4366-9dff-5533263b45c1",
   "metadata": {},
   "outputs": [],
   "source": [
    "# remove outliers\n",
    "# filter df for zscores between -3 and 3\n",
    "zscore_bus = all_bus[\n",
    "    (all_bus[\"zscore_cost_per_bus\"] >= -3) & (all_bus[\"zscore_cost_per_bus\"] <= 3)\n",
    "]"
   ]
  },
  {
   "cell_type": "code",
   "execution_count": 36,
   "id": "8e2309e9-c6f0-4718-a5a9-17991345d243",
   "metadata": {},
   "outputs": [
    {
     "data": {
      "text/plain": [
       "131"
      ]
     },
     "metadata": {},
     "output_type": "display_data"
    },
    {
     "data": {
      "text/plain": [
       "2.3732393072982587"
      ]
     },
     "metadata": {},
     "output_type": "display_data"
    },
    {
     "data": {
      "text/plain": [
       "-0.8879722054734137"
      ]
     },
     "metadata": {},
     "output_type": "display_data"
    }
   ],
   "source": [
    "# check work\n",
    "\n",
    "# 2 rows were dropped\n",
    "# max and min are withing -3 to 3\n",
    "display(\n",
    "    len(zscore_bus),\n",
    "    zscore_bus.zscore_cost_per_bus.max(),\n",
    "    zscore_bus.zscore_cost_per_bus.min(),\n",
    ")"
   ]
  },
  {
   "cell_type": "code",
   "execution_count": 37,
   "id": "8afb8e45-27dc-4535-9ea0-7182ba7e66bf",
   "metadata": {},
   "outputs": [],
   "source": [
    "cpb_mean = zscore_bus.cost_per_bus.mean()\n",
    "cpb_std = zscore_bus.cost_per_bus.std()"
   ]
  },
  {
   "cell_type": "markdown",
   "id": "16110f34-43bc-4fc6-b905-eb1bb65fa3d7",
   "metadata": {},
   "source": [
    "## Chart functions "
   ]
  },
  {
   "cell_type": "code",
   "execution_count": 38,
   "id": "842a0d19-f772-464d-acda-8b8a884bc860",
   "metadata": {
    "tags": []
   },
   "outputs": [],
   "source": [
    "# distribution curve of cost per bus. no outliers\n",
    "def dist_curve(df, mean, std):\n",
    "    sns.histplot(df[\"cost_per_bus\"], kde=True, color=\"skyblue\", bins=20)\n",
    "    plt.axvline(\n",
    "        mean, color=\"red\", linestyle=\"dashed\", linewidth=2, label=f\"Mean: ${mean:,.2f}\"\n",
    "    )\n",
    "\n",
    "\n",
    "    plt.axvline(\n",
    "    mean + std,\n",
    "    color=\"green\",\n",
    "    linestyle=\"dashed\",\n",
    "    linewidth=2,\n",
    "    label=f\"Standard Deviation: ${std:,.2f}\",\n",
    ")\n",
    "    plt.axvline(mean - std, color=\"green\", linestyle=\"dashed\", linewidth=2)\n",
    "    plt.axvline(mean + std * 2, color=\"green\", linestyle=\"dashed\", linewidth=2)\n",
    "    plt.axvline(mean + std * 3, color=\"green\", linestyle=\"dashed\", linewidth=2)\n",
    "\n",
    "    plt.title(\"Cost Per Bus Distribution with Mean and Standard Deviation\")\n",
    "    plt.xlabel(\"cost per bus ($ million(s))\")\n",
    "    plt.ylabel(\"Frequency\")\n",
    "    plt.legend()\n",
    "    plt.show()\n",
    "\n",
    "    return"
   ]
  },
  {
   "cell_type": "code",
   "execution_count": 39,
   "id": "a0a54bec-cbe4-4a8b-81d5-79ff68d8de09",
   "metadata": {},
   "outputs": [],
   "source": [
    "# chart function\n",
    "def make_chart(y_col, title, data=zscore_bus,  x_col=\"agency_name\"):\n",
    "    data.sort_values(by=y_col, ascending=False).head(10).plot(\n",
    "        x=x_col, y=y_col, kind=\"bar\", color=\"skyblue\"\n",
    "    )\n",
    "    plt.title(title)\n",
    "    plt.xlabel(x_col)\n",
    "    plt.ylabel(y_col)\n",
    "    \n",
    "    plt.ticklabel_format(style='plain', axis='y')\n",
    "    plt.show()"
   ]
  },
  {
   "cell_type": "markdown",
   "id": "88f21124-6b2e-4e3c-b5f2-4d7bfca8b1f5",
   "metadata": {
    "tags": []
   },
   "source": [
    "## Summary"
   ]
  },
  {
   "cell_type": "code",
   "execution_count": 40,
   "id": "17f4e102-c684-4892-8fa0-0f21e5249ef1",
   "metadata": {
    "tags": []
   },
   "outputs": [],
   "source": [
    "# Variables\n",
    "total_unique_projects = len(all_bus)\n",
    "total_bus_count = sum(all_bus.bus_count)\n",
    "total_funding = sum(all_bus.project_award_amount)\n",
    "min_bus_cost = all_bus.cost_per_bus.min()\n",
    "max_bus_cost = all_bus.cost_per_bus.max()\n",
    "max_bus_count = all_bus.bus_count.max()\n",
    "\n",
    "\n",
    "cpb_mean = zscore_bus.cost_per_bus.mean()\n",
    "cpb_std = zscore_bus.cost_per_bus.std()\n",
    "\n",
    "# agency\n",
    "agency_with_most_bus = all_bus.loc[all_bus[\"bus_count\"].idxmax(), \"agency_name\"]\n",
    "\n",
    "# propulsion type\n",
    "prop_type_name_max_freq = all_bus['prop_type'].value_counts().idxmax()\n",
    "prop_type_max = all_bus['prop_type'].value_counts().max()\n",
    "\n",
    "prop_type_name_min_freq = all_bus['prop_type'].value_counts().idxmin()\n",
    "prop_type_min = all_bus['prop_type'].value_counts().min()\n",
    "\n",
    "# how many buses do they have? already answered\n",
    "agency_with_highest_funds = all_bus.loc[\n",
    "    all_bus[\"project_award_amount\"].idxmax(), \"agency_name\"\n",
    "]\n",
    "# what is the highest amount? already answered\n",
    "agency_max_cpb = all_bus.loc[all_bus[\"cost_per_bus\"].idxmax(), \"agency_name\"]\n",
    "agency_min_cpb = all_bus.loc[all_bus[\"cost_per_bus\"].idxmin(), \"agency_name\"]\n",
    "prop_type_max_cpb = all_bus.loc[all_bus[\"cost_per_bus\"].idxmax(), \"prop_type\"]\n",
    "prop_type_min_cpb = all_bus.loc[all_bus[\"cost_per_bus\"].idxmin(), \"prop_type\"]\n",
    "\n",
    "summary = f\"\"\"\n",
    "As of today, data was scraped from mutltiple sources:\n",
    "    1. FTA Bus and Low- and No-Emission Grant Awards press release (federaly funded, nationwide data)\n",
    "    2. TIRCP project data (state-funded, California only)\n",
    "    \n",
    "Data from DGS usage reports, Georgia and Washington contracts to be analyzed next.\n",
    "\n",
    "Note, some projects included additional compoments besides bus purchases (chargers, transit facilities, parts, training) which may cause project costs to increase dramaticly, whereas other projects specified only bus purcahses, and some did not include and bus purchases at all.\n",
    "Additionally, some projects do not accurately or specifically describe the propulsion or bus size type. \n",
    "\n",
    "Datasets was filtered to only include data that specificed the number of buses to purchase. The compiled data was aggregated by agencies and a 'cost per_bus' metric was calculated by dividing the total funding the agency received by the total number of buses they specify.\n",
    "\n",
    "In total:\n",
    "    - {total_unique_projects} projects with bus purchases were analyzed.\n",
    "    - ${total_funding:,.2f} was awarded to agencies for projects including bus purchases.\n",
    "    - {total_bus_count} total buses are to be purchased.\n",
    "    - The highest cost per bus for an agency was ${max_bus_cost:,.2f} for a {prop_type_max_cpb}, belonging too {agency_max_cpb}. \n",
    "    - The lowest cost per bus for an agency was ${min_bus_cost:,.2f} for a {prop_type_min_cpb}, belonging too {agency_min_cpb}.\n",
    "\n",
    "The agency with the most buses specified was {agency_with_most_bus} with {max_bus_count} buses.\n",
    "\n",
    "Regarding propulsion types:\n",
    " Propulsion type values varied wildly amongst the datasets. Values were validated and grouped as best as poissible based on project description or other discrete mentions of propulsion type.\n",
    " The following is a summary of propulsion type metrics.\n",
    "     - The most common propulsion type that was procureded was \"{prop_type_name_max_freq}\".\n",
    "     \n",
    " \n",
    "\n",
    "After removing outliers, the following was discovered:\n",
    "    - the mean cost per bus is ${cpb_mean:,.2f}.\n",
    "    - the standard deviation is ${cpb_std:,.2f}. \n",
    "\n",
    "Below are charts that summarize the data.\n",
    "\"\"\"\n",
    "\n"
   ]
  },
  {
   "cell_type": "code",
   "execution_count": null,
   "id": "619d8c20-0383-470b-b3a5-11ea9f2b5ef7",
   "metadata": {},
   "outputs": [],
   "source": [
    "print(summary)\n",
    "\n",
    "\n",
    "# Higest awarded funds by agency\n",
    "make_chart(\"project_award_amount\", \"Highest Awarded Funds by Transit Agency\")\n",
    "\n",
    "# highest cost per bus by agency\n",
    "make_chart(\"cost_per_bus\", \"Highest cost per bus by Transit Agency\")\n",
    "\n",
    "# Highest bus count\n",
    "make_chart(\"bus_count\", \"Highest Bus Count by Agency\")\n",
    "\n",
    "# COST PER BUS BY PROP TYPE\n",
    "# using prop_agg df and 'total_funds'\n",
    "make_chart(\"total_funds\", \"award amount by propulsion type\", x_col=\"prop_type\", data=prop_agg)\n"
   ]
  },
  {
   "cell_type": "markdown",
   "id": "25667a76-87eb-442e-8675-6c31bafb685b",
   "metadata": {},
   "source": [
    "## Charts\n",
    "By Agency\n",
    "- most awarded dollars\n",
    "- most bus count\n",
    "- highest cpb\n",
    "- Most frequent prop_type procured\n",
    "\n",
    "By prop_type\n",
    "- most awarded dollars\n",
    "- most bus count\n",
    "- highest cpb\n",
    "- Most frequent prop_type\n",
    "\n",
    "Pivot?\n",
    "- cpb by prop_type?\n",
    "- \n",
    "\n",
    "Stats Curves\n",
    "- distribution of cpb\n",
    "- \n"
   ]
  },
  {
   "cell_type": "code",
   "execution_count": 52,
   "id": "ee31a028-6365-4188-b8c2-a4193ea54a7c",
   "metadata": {},
   "outputs": [
    {
     "data": {
      "text/plain": [
       "pandas.core.frame.DataFrame"
      ]
     },
     "metadata": {},
     "output_type": "display_data"
    },
    {
     "data": {
      "text/plain": [
       "(133, 10)"
      ]
     },
     "metadata": {},
     "output_type": "display_data"
    },
    {
     "data": {
      "text/plain": [
       "Unnamed: 0                int64\n",
       "agency_name              object\n",
       "project_title            object\n",
       "project_award_amount      int64\n",
       "bus_count               float64\n",
       "prop_type                object\n",
       "bus_size_type            object\n",
       "source                   object\n",
       "cost_per_bus              int64\n",
       "zscore_cost_per_bus     float64\n",
       "dtype: object"
      ]
     },
     "metadata": {},
     "output_type": "display_data"
    },
    {
     "data": {
      "text/html": [
       "<div>\n",
       "<style scoped>\n",
       "    .dataframe tbody tr th:only-of-type {\n",
       "        vertical-align: middle;\n",
       "    }\n",
       "\n",
       "    .dataframe tbody tr th {\n",
       "        vertical-align: top;\n",
       "    }\n",
       "\n",
       "    .dataframe thead th {\n",
       "        text-align: right;\n",
       "    }\n",
       "</style>\n",
       "<table border=\"1\" class=\"dataframe\">\n",
       "  <thead>\n",
       "    <tr style=\"text-align: right;\">\n",
       "      <th></th>\n",
       "      <th>Unnamed: 0</th>\n",
       "      <th>agency_name</th>\n",
       "      <th>project_title</th>\n",
       "      <th>project_award_amount</th>\n",
       "      <th>bus_count</th>\n",
       "      <th>prop_type</th>\n",
       "      <th>bus_size_type</th>\n",
       "      <th>source</th>\n",
       "      <th>cost_per_bus</th>\n",
       "      <th>zscore_cost_per_bus</th>\n",
       "    </tr>\n",
       "  </thead>\n",
       "  <tbody>\n",
       "    <tr>\n",
       "      <th>31</th>\n",
       "      <td>31</td>\n",
       "      <td>Southwest Ohio Regional Transit Authority</td>\n",
       "      <td>SORTA Hybrid Transition Bus Replacement Project</td>\n",
       "      <td>9806428</td>\n",
       "      <td>16.0</td>\n",
       "      <td>low emission (hybrid)</td>\n",
       "      <td>not specified</td>\n",
       "      <td>fta_press_release</td>\n",
       "      <td>612901</td>\n",
       "      <td>-0.374813</td>\n",
       "    </tr>\n",
       "    <tr>\n",
       "      <th>35</th>\n",
       "      <td>35</td>\n",
       "      <td>Greater Lafayette Public Transportation Corpor...</td>\n",
       "      <td>Hydrogen Fuel Cell Buses and Fueling Station: ...</td>\n",
       "      <td>7598425</td>\n",
       "      <td>7.0</td>\n",
       "      <td>mix (zero and low emission buses)</td>\n",
       "      <td>not specified</td>\n",
       "      <td>fta_press_release</td>\n",
       "      <td>1085489</td>\n",
       "      <td>0.045741</td>\n",
       "    </tr>\n",
       "  </tbody>\n",
       "</table>\n",
       "</div>"
      ],
      "text/plain": [
       "    Unnamed: 0                                        agency_name  \\\n",
       "31          31          Southwest Ohio Regional Transit Authority   \n",
       "35          35  Greater Lafayette Public Transportation Corpor...   \n",
       "\n",
       "                                        project_title  project_award_amount  \\\n",
       "31    SORTA Hybrid Transition Bus Replacement Project               9806428   \n",
       "35  Hydrogen Fuel Cell Buses and Fueling Station: ...               7598425   \n",
       "\n",
       "    bus_count                          prop_type  bus_size_type  \\\n",
       "31       16.0              low emission (hybrid)  not specified   \n",
       "35        7.0  mix (zero and low emission buses)  not specified   \n",
       "\n",
       "               source  cost_per_bus  zscore_cost_per_bus  \n",
       "31  fta_press_release        612901            -0.374813  \n",
       "35  fta_press_release       1085489             0.045741  "
      ]
     },
     "metadata": {},
     "output_type": "display_data"
    }
   ],
   "source": [
    "df_peek(all_bus)"
   ]
  },
  {
   "cell_type": "markdown",
   "id": "9c5268b3-1edd-4f53-9ce9-0877c2f7fc55",
   "metadata": {},
   "source": [
    "### By Agency"
   ]
  },
  {
   "cell_type": "code",
   "execution_count": null,
   "id": "cec20a56-e1c3-414d-9583-fa4159e5045e",
   "metadata": {},
   "outputs": [],
   "source": [
    "# most awarded dollars by agency\n",
    "make_chart(\"project_award_amount\", \"Most funds awarded by Transit Agency\")"
   ]
  },
  {
   "cell_type": "code",
   "execution_count": null,
   "id": "d374e1c3-0df6-4acd-ab04-dfe8f013ea85",
   "metadata": {},
   "outputs": [],
   "source": [
    "# Highest bus count by agency\n",
    "make_chart(\"bus_count\", \"Most buses procured by Transit Agency\")"
   ]
  },
  {
   "cell_type": "code",
   "execution_count": null,
   "id": "e21f18c5-577c-444c-ada9-c959b57c37bc",
   "metadata": {},
   "outputs": [],
   "source": [
    "# highest cost per bus by agency\n",
    "make_chart(\"cost_per_bus\", \"Highest overall cost per bus (cps) by Transit Agency\")"
   ]
  },
  {
   "cell_type": "code",
   "execution_count": 77,
   "id": "9b7240f3-0f8f-4dc2-989e-acda88642021",
   "metadata": {},
   "outputs": [
    {
     "data": {
      "image/png": "[encoded data removed]",
      "text/plain": [
       "<Figure size 640x480 with 1 Axes>"
      ]
     },
     "metadata": {},
     "output_type": "display_data"
    }
   ],
   "source": [
    "# most frequent prop_type by agency\n",
    "prop_type_freq = all_bus.prop_type.value_counts().reset_index()\n",
    "prop_type_freq.columns = ['prop_type', 'freq']\n",
    "make_chart('freq', 'Most frequent propulsion type mentioned', x_col ='prop_type', data =prop_type_freq)"
   ]
  },
  {
   "cell_type": "markdown",
   "id": "5e8f410c-63b1-4f75-b07d-d0191b2fad13",
   "metadata": {},
   "source": [
    "### By `prop_type`"
   ]
  },
  {
   "cell_type": "code",
   "execution_count": null,
   "id": "f440450e-1ce3-45bf-8f1c-7e774a43cbe6",
   "metadata": {},
   "outputs": [],
   "source": [
    "# COST PER BUS BY PROP TYPE\n",
    "# using prop_agg df and 'total_funds'\n",
    "make_chart(\"total_funds\", \"award amount by propulsion type\", x_col=\"prop_type\", data=prop_agg)"
   ]
  },
  {
   "cell_type": "code",
   "execution_count": null,
   "id": "30f8a34b-0514-43e7-9f1c-06591308e9b3",
   "metadata": {},
   "outputs": [],
   "source": [
    "# COST PER BUS BY PROP TYPE\n",
    "make_chart(\"total_cpb\", \"cost per bus by propulsion type\", x_col=\"prop_type\", data=prop_agg)"
   ]
  },
  {
   "cell_type": "code",
   "execution_count": null,
   "id": "a6d5eb26-7594-4ff4-b636-6fa6227937ec",
   "metadata": {},
   "outputs": [],
   "source": [
    "# COST PER BUS BY PROP TYPE\n",
    "make_chart(\"total_bus_count\", \"cost per bus by propulsion type\", x_col=\"prop_type\", data=prop_agg )"
   ]
  },
  {
   "cell_type": "markdown",
   "id": "158497f3-969c-46f1-a6a1-1e4d20d8b9cc",
   "metadata": {
    "jp-MarkdownHeadingCollapsed": true,
    "tags": []
   },
   "source": [
    "### Stat Curves"
   ]
  },
  {
   "cell_type": "code",
   "execution_count": null,
   "id": "63cb0a1d-dd80-49c1-93c7-da285acd523a",
   "metadata": {},
   "outputs": [],
   "source": [
    "dist_curve(zscore_bus, cpb_mean, cpb_std)"
   ]
  },
  {
   "cell_type": "code",
   "execution_count": null,
   "id": "fe7a6649-64d0-4838-8c31-0facd96a5462",
   "metadata": {
    "tags": []
   },
   "outputs": [],
   "source": [
    "# distribution curve of zscore\n",
    "sns.histplot(zscore_bus[\"zscore_cost_per_bus\"], kde=True, color=\"skyblue\", bins=20)\n",
    "plt.title(\"Cost Per Bus Z-Score Distribution\")\n",
    "plt.xlabel(\"zscore cost per bus\")\n",
    "plt.ylabel(\"Frequency\")\n",
    "plt.show()"
   ]
  },
  {
   "cell_type": "code",
   "execution_count": null,
   "id": "497abae7-a778-4cc4-8f79-120674c7559b",
   "metadata": {},
   "outputs": [],
   "source": []
  }
 ],
 "metadata": {
  "kernelspec": {
   "display_name": "Python 3 (ipykernel)",
   "language": "python",
   "name": "python3"
  },
  "language_info": {
   "codemirror_mode": {
    "name": "ipython",
    "version": 3
   },
   "file_extension": ".py",
   "mimetype": "text/x-python",
   "name": "python",
   "nbconvert_exporter": "python",
   "pygments_lexer": "ipython3",
   "version": "3.9.13"
  }
 },
 "nbformat": 4,
 "nbformat_minor": 5
}
