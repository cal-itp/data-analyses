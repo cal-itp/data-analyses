{
 "cells": [
  {
   "cell_type": "code",
   "execution_count": 1,
   "id": "8b95db91-abf1-4357-884f-e11d73777da5",
   "metadata": {},
   "outputs": [],
   "source": [
    "import matplotlib.pyplot as plt\n",
    "import numpy as np\n",
    "import pandas as pd\n",
    "import seaborn as sns\n",
    "import shared_utils\n",
    "from matplotlib.ticker import ScalarFormatter\n",
    "from scipy.stats import zscore\n",
    "\n",
    "# set_option to increase max rows displayed to 200, to see entire df in 1 go/\n",
    "pd.set_option(\"display.max_rows\", 200)\n",
    "\n",
    "# DELETE LATER\n",
    "# function to display df info\n",
    "def df_peek(df):\n",
    "    display(type(df), df.shape, df.dtypes, df.sample(2))"
   ]
  },
  {
   "cell_type": "markdown",
   "id": "e7582392-0b4b-4c95-a2a6-b0939cf63862",
   "metadata": {
    "tags": []
   },
   "source": [
    "## Read in merged fta/tircp/dgs data from cleaner script"
   ]
  },
  {
   "cell_type": "code",
   "execution_count": 44,
   "id": "5b474b47-7617-4eaa-b8fb-c86709c77368",
   "metadata": {},
   "outputs": [],
   "source": [
    "all_bus = pd.read_parquet(\n",
    "    \"gs://calitp-analytics-data/data-analyses/bus_procurement_cost/cpb_analysis_data_merge.parquet\"\n",
    ")"
   ]
  },
  {
   "cell_type": "code",
   "execution_count": 48,
   "id": "b889f46c-3830-4455-b7a7-420fae97daa0",
   "metadata": {},
   "outputs": [
    {
     "data": {
      "text/plain": [
       "pandas.core.frame.DataFrame"
      ]
     },
     "metadata": {},
     "output_type": "display_data"
    },
    {
     "data": {
      "text/plain": [
       "(195, 7)"
      ]
     },
     "metadata": {},
     "output_type": "display_data"
    },
    {
     "data": {
      "text/plain": [
       "agency_name              object\n",
       "project_title            object\n",
       "project_award_amount      int64\n",
       "bus_count               float64\n",
       "prop_type                object\n",
       "bus_size_type            object\n",
       "source                   object\n",
       "dtype: object"
      ]
     },
     "metadata": {},
     "output_type": "display_data"
    },
    {
     "data": {
      "text/html": [
       "<div>\n",
       "<style scoped>\n",
       "    .dataframe tbody tr th:only-of-type {\n",
       "        vertical-align: middle;\n",
       "    }\n",
       "\n",
       "    .dataframe tbody tr th {\n",
       "        vertical-align: top;\n",
       "    }\n",
       "\n",
       "    .dataframe thead th {\n",
       "        text-align: right;\n",
       "    }\n",
       "</style>\n",
       "<table border=\"1\" class=\"dataframe\">\n",
       "  <thead>\n",
       "    <tr style=\"text-align: right;\">\n",
       "      <th></th>\n",
       "      <th>agency_name</th>\n",
       "      <th>project_title</th>\n",
       "      <th>project_award_amount</th>\n",
       "      <th>bus_count</th>\n",
       "      <th>prop_type</th>\n",
       "      <th>bus_size_type</th>\n",
       "      <th>source</th>\n",
       "    </tr>\n",
       "  </thead>\n",
       "  <tbody>\n",
       "    <tr>\n",
       "      <th>145</th>\n",
       "      <td>Torrance Transit Department</td>\n",
       "      <td>Torrance Transit Bus Service Enhancement Program</td>\n",
       "      <td>6000000</td>\n",
       "      <td>7.0</td>\n",
       "      <td>electric (not specified)</td>\n",
       "      <td>not specified</td>\n",
       "      <td>tircp_project_tracking</td>\n",
       "    </tr>\n",
       "    <tr>\n",
       "      <th>27</th>\n",
       "      <td>The Brockton Area Transit Authority</td>\n",
       "      <td>Brockton Area Transit Replacement Battery Elec...</td>\n",
       "      <td>10694736</td>\n",
       "      <td>7.0</td>\n",
       "      <td>electric (not specified)</td>\n",
       "      <td>not specified</td>\n",
       "      <td>fta_press_release</td>\n",
       "    </tr>\n",
       "  </tbody>\n",
       "</table>\n",
       "</div>"
      ],
      "text/plain": [
       "                             agency_name  \\\n",
       "145          Torrance Transit Department   \n",
       "27   The Brockton Area Transit Authority   \n",
       "\n",
       "                                         project_title  project_award_amount  \\\n",
       "145   Torrance Transit Bus Service Enhancement Program               6000000   \n",
       "27   Brockton Area Transit Replacement Battery Elec...              10694736   \n",
       "\n",
       "     bus_count                 prop_type  bus_size_type  \\\n",
       "145        7.0  electric (not specified)  not specified   \n",
       "27         7.0  electric (not specified)  not specified   \n",
       "\n",
       "                     source  \n",
       "145  tircp_project_tracking  \n",
       "27        fta_press_release  "
      ]
     },
     "metadata": {},
     "output_type": "display_data"
    }
   ],
   "source": [
    "df_peek(all_bus)"
   ]
  },
  {
   "cell_type": "markdown",
   "id": "3e07cd2c-9bc7-4bcc-8e4f-e7d58ebcc1fc",
   "metadata": {
    "tags": []
   },
   "source": [
    "## create cost_per_bus_column\n",
    "on all_bus df"
   ]
  },
  {
   "cell_type": "code",
   "execution_count": null,
   "id": "b35f7018-64f7-4a5b-ab50-10d871115c83",
   "metadata": {},
   "outputs": [],
   "source": [
    "all_bus[\"cost_per_bus\"] = (\n",
    "    all_bus[\"project_award_amount\"] / all_bus[\"bus_count\"]\n",
    ").astype(\"int64\")"
   ]
  },
  {
   "cell_type": "markdown",
   "id": "6ddefcb9-7c31-4a69-bef8-ae80455a2a39",
   "metadata": {
    "tags": []
   },
   "source": [
    "## Aggregate\n",
    "To get total funding and bus count\n",
    "- per agency\n",
    "- per propulsion type\n",
    "- per bus size type"
   ]
  },
  {
   "cell_type": "code",
   "execution_count": null,
   "id": "42799ff0-efd0-4c75-b9a2-76085b304ab1",
   "metadata": {},
   "outputs": [],
   "source": [
    "# test to edit total cpb to be a calculated col (outside of the .aggfuc())\n",
    "\n",
    "\n",
    "def bus_aggregate(column, df=all_bus):\n",
    "    df_agg = (\n",
    "        df.groupby(column)\n",
    "        .agg(\n",
    "            total_project_count=(\"project_title\", \"count\"),\n",
    "            total_funds=(\"project_award_amount\", \"sum\"),\n",
    "            total_bus_count=(\"bus_count\", \"sum\"),\n",
    "        )\n",
    "        .reset_index()\n",
    "    )\n",
    "    df_agg[\"cpb\"] = (df_agg[\"total_funds\"] / df_agg[\"total_bus_count\"]).astype(\"int64\")\n",
    "    return df_agg\n",
    "\n",
    "\n",
    "# create dfs that group by agency, prop type and size type\n",
    "agency_agg = bus_aggregate(\"agency_name\")\n",
    "prop_agg = bus_aggregate(\"prop_type\")\n",
    "size_agg = bus_aggregate(\"bus_size_type\")"
   ]
  },
  {
   "cell_type": "code",
   "execution_count": null,
   "id": "71a64926-2ea5-4bbf-aae9-d243c3830ada",
   "metadata": {},
   "outputs": [],
   "source": [
    "# add new column for z-score\n",
    "all_bus[\"zscore_cost_per_bus\"] = zscore(all_bus[\"cost_per_bus\"])\n",
    "\n",
    "# remove outliers\n",
    "# filter df for zscores between -3 and 3\n",
    "zscore_bus = all_bus[\n",
    "    (all_bus[\"zscore_cost_per_bus\"] >= -3) & (all_bus[\"zscore_cost_per_bus\"] <= 3)\n",
    "]"
   ]
  },
  {
   "cell_type": "markdown",
   "id": "f037fe94-f43c-4941-ada5-f329ee0283a7",
   "metadata": {},
   "source": [
    "## Zeb Only DF"
   ]
  },
  {
   "cell_type": "code",
   "execution_count": null,
   "id": "c7dd1562-dae6-4350-9c90-6e447861d74a",
   "metadata": {},
   "outputs": [],
   "source": [
    "# Zeb only df and Count of ZEB\n",
    "zeb_only = all_bus[\n",
    "    all_bus[\"prop_type\"].isin(\n",
    "        [\n",
    "            \"BEB\",\n",
    "            \"zero-emission bus (not specified)\",\n",
    "            \"FCEB\",\n",
    "            \"electric (not specified)\",\n",
    "            \"mix (BEB and FCEB)\",\n",
    "        ]\n",
    "    )\n",
    "]\n",
    "\n",
    "# zeb agg\n",
    "zeb_agg = bus_aggregate(\"prop_type\", df=zeb_only)\n",
    "\n",
    "\n",
    "# zeb-only, no outliers\n",
    "zeb_only_no_outliers = zeb_only[\n",
    "    (zeb_only[\"zscore_cost_per_bus\"] >= -3) & (zeb_only[\"zscore_cost_per_bus\"] <= 3)\n",
    "]"
   ]
  },
  {
   "cell_type": "markdown",
   "id": "6a98af3a-a0b2-429e-b52a-eccecd26d4a9",
   "metadata": {},
   "source": [
    "## Non-ZEB only DF"
   ]
  },
  {
   "cell_type": "code",
   "execution_count": null,
   "id": "c3fff186-3e3d-42ac-a06d-d9b9a07d4a37",
   "metadata": {},
   "outputs": [],
   "source": [
    "# non-zeb df and Count of non-ZEB\n",
    "non_zeb_only = all_bus[\n",
    "    ~all_bus[\"prop_type\"].isin(\n",
    "        [\n",
    "            \"BEB\",\n",
    "            \"zero-emission bus (not specified)\",\n",
    "            \"FCEB\",\n",
    "            \"electric (not specified)\",\n",
    "            \"mix (BEB and FCEB)\",\n",
    "            \"not specified\",\n",
    "        ]\n",
    "    )\n",
    "]\n",
    "\n",
    "non_zeb_agg = bus_aggregate(\"prop_type\", df=non_zeb_only)"
   ]
  },
  {
   "cell_type": "markdown",
   "id": "d645f949-ddb4-4b58-ab0a-0889a5ad6f56",
   "metadata": {
    "tags": []
   },
   "source": [
    "### Z-score for cost_per_bus "
   ]
  },
  {
   "cell_type": "markdown",
   "id": "16110f34-43bc-4fc6-b905-eb1bb65fa3d7",
   "metadata": {},
   "source": [
    "## Chart functions "
   ]
  },
  {
   "cell_type": "code",
   "execution_count": null,
   "id": "842a0d19-f772-464d-acda-8b8a884bc860",
   "metadata": {
    "tags": []
   },
   "outputs": [],
   "source": [
    "# distribution curve of cost per bus. no outliers\n",
    "\n",
    "\n",
    "def dist_curve(\n",
    "    df,\n",
    "    mean,\n",
    "    std,\n",
    "    title=\"Cost Per Bus Distribution\",\n",
    "    xlabel='\"cost per bus, $ million(s)\"',\n",
    "):\n",
    "    sns.histplot(df[\"cost_per_bus\"], kde=True, color=\"skyblue\", bins=20)\n",
    "    plt.axvline(\n",
    "        mean, color=\"red\", linestyle=\"dashed\", linewidth=2, label=f\"Mean: ${mean:,.2f}\"\n",
    "    )\n",
    "\n",
    "    plt.axvline(\n",
    "        mean + std,\n",
    "        color=\"green\",\n",
    "        linestyle=\"dashed\",\n",
    "        linewidth=2,\n",
    "        label=f\"Standard Deviation: ${std:,.2f}\",\n",
    "    )\n",
    "    plt.axvline(mean - std, color=\"green\", linestyle=\"dashed\", linewidth=2)\n",
    "    plt.axvline(mean + std * 2, color=\"green\", linestyle=\"dashed\", linewidth=2)\n",
    "    plt.axvline(mean + std * 3, color=\"green\", linestyle=\"dashed\", linewidth=2)\n",
    "\n",
    "    plt.title(title + \" with Mean and Standard Deviation\")\n",
    "    plt.xlabel(xlabel)\n",
    "    plt.ylabel(\"Frequency\")\n",
    "\n",
    "    # Turn off scientific notation on x-axis?\n",
    "    plt.gca().xaxis.set_major_formatter(ScalarFormatter(useMathText=False))\n",
    "\n",
    "    plt.legend()\n",
    "    plt.show()\n",
    "\n",
    "    return"
   ]
  },
  {
   "cell_type": "code",
   "execution_count": null,
   "id": "a0a54bec-cbe4-4a8b-81d5-79ff68d8de09",
   "metadata": {},
   "outputs": [],
   "source": [
    "# chart function\n",
    "\n",
    "\n",
    "def make_chart(y_col, title, data=zscore_bus, x_col=\"agency_name\"):\n",
    "    data.sort_values(by=y_col, ascending=False).head(10).plot(\n",
    "        x=x_col, y=y_col, kind=\"bar\", color=\"skyblue\"\n",
    "    )\n",
    "    plt.title(title)\n",
    "    plt.xlabel(x_col)\n",
    "    plt.ylabel(y_col)\n",
    "\n",
    "    plt.ticklabel_format(style=\"plain\", axis=\"y\")\n",
    "    plt.show()"
   ]
  },
  {
   "cell_type": "markdown",
   "id": "88f21124-6b2e-4e3c-b5f2-4d7bfca8b1f5",
   "metadata": {
    "tags": []
   },
   "source": [
    "## Summary"
   ]
  },
  {
   "cell_type": "code",
   "execution_count": null,
   "id": "17f4e102-c684-4892-8fa0-0f21e5249ef1",
   "metadata": {
    "tags": []
   },
   "outputs": [],
   "source": [
    "# Variables\n",
    "total_unique_projects = len(all_bus)\n",
    "total_bus_count = sum(all_bus.bus_count)\n",
    "total_funding = sum(all_bus.project_award_amount)\n",
    "min_bus_cost = all_bus.cost_per_bus.min()\n",
    "max_bus_cost = all_bus.cost_per_bus.max()\n",
    "max_bus_count = all_bus.bus_count.max()\n",
    "\n",
    "\n",
    "cpb_mean = zscore_bus.cost_per_bus.mean()\n",
    "cpb_std = zscore_bus.cost_per_bus.std()\n",
    "\n",
    "# agency with highest bus count\n",
    "agency_with_most_bus = all_bus.loc[all_bus[\"bus_count\"].idxmax(), \"agency_name\"]\n",
    "\n",
    "# propulsion type max count and name\n",
    "prop_type_name_max_freq = all_bus[\"prop_type\"].value_counts().idxmax()\n",
    "prop_type_max = all_bus[\"prop_type\"].value_counts().max()\n",
    "\n",
    "# prop type min count and anme\n",
    "prop_type_name_min_freq = all_bus[\"prop_type\"].value_counts().idxmin()\n",
    "prop_type_min = all_bus[\"prop_type\"].value_counts().min()\n",
    "\n",
    "# how many buses do they have? already answered\n",
    "agency_with_highest_funds = all_bus.loc[\n",
    "    all_bus[\"project_award_amount\"].idxmax(), \"agency_name\"\n",
    "]\n",
    "\n",
    "# what is the highest amount? already answered\n",
    "agency_max_cpb = all_bus.loc[all_bus[\"cost_per_bus\"].idxmax(), \"agency_name\"]\n",
    "agency_min_cpb = all_bus.loc[all_bus[\"cost_per_bus\"].idxmin(), \"agency_name\"]\n",
    "prop_type_max_cpb = all_bus.loc[all_bus[\"cost_per_bus\"].idxmax(), \"prop_type\"]\n",
    "prop_type_min_cpb = all_bus.loc[all_bus[\"cost_per_bus\"].idxmin(), \"prop_type\"]\n",
    "\n",
    "\n",
    "zeb_count = len(zeb_only.prop_type)\n",
    "\n",
    "\n",
    "non_zeb_count = len(non_zeb_only.prop_type)\n",
    "\n",
    "# zeb only, no outliers cpb curve\n",
    "zeb_only_mean = zeb_only_no_outliers.cost_per_bus.mean()\n",
    "zeb_only_std = zeb_only_no_outliers.cost_per_bus.std()\n",
    "\n",
    "# non-zeb cpb mean and std dev\n",
    "non_zeb_only_mean = non_zeb_only.cost_per_bus.mean()\n",
    "non_zeb_only_std = non_zeb_only.cost_per_bus.std()\n",
    "\n",
    "# start summary narative\n",
    "summary = f\"\"\"\n",
    "\n",
    "This analysis examines the 'cost' of buses as it relates to grant award dollars. Specifically, transit agencies who were awarded grants to fund projects that include procuring buses and/or other transit related equipment, and how much variance there was in procuring buses. \n",
    "\n",
    "As of today, data was scraped from these sources:\n",
    "    1. FTA Bus and Low- and No-Emission Grant Awards press release (federally funded, nationwide data)\n",
    "    2. TIRCP project data (state-funded, California only)\n",
    "\n",
    "Analyzing the dataset uncovered several nuances. Some projects included additional components besides bus purchases (chargers, transit facilities, parts, training), whereas other projects only purchased bus, and some did not include any bus purchases at all. The variety in these projects may contribute to high variances in “cost per bus”.\n",
    "Additionally, some projects do not accurately or describe the propulsion or bus size type. There are numerous instances where transit agencies reported procuring “zero-emission buses” (ZEBs) but does not specify if the buses are battery electric, fuel-cell, etc. Or transit agencies state conflicting information such as procuring “hybrid electric ZEBs”. In all cases, the dataset was examined for inconsistencies and data was validated to complete the analysis.\n",
    "Datasets was filtered to only include data that specified the number of buses to purchase. The compiled data was aggregated by agencies and a 'cost per bus' metric was calculated by dividing the total funding received by the total number of buses they procured.\n",
    "Initial finding uncovered some outliers where a transit agency’s cost per bus figure exceeded 3 standard deviations away from the mean. Deeper investigations conclude that these projects also include major infrastructure replacements.\n",
    "\n",
    "Overall:\n",
    "    - {total_unique_projects} projects with bus purchases were analyzed.\n",
    "    - ${total_funding:,.2f} was awarded to agencies for projects including bus purchases.\n",
    "    - {total_bus_count} total buses are to be purchased.\n",
    "    - The highest awarded dollars per bus for an agency was ${max_bus_cost:,.2f} for a {prop_type_max_cpb}, belonging too {agency_max_cpb}. \n",
    "    - The lowest awarded dollars per bus for an agency was ${min_bus_cost:,.2f} for a {prop_type_min_cpb}, belonging too {agency_min_cpb}.\n",
    "\n",
    "The agency with the most buses procured was {agency_with_most_bus} with {max_bus_count} buses.\n",
    "\n",
    "\n",
    "Propulsion type values varied wildly amongst the datasets. Data was validated and grouped as best as possible based on project description or other indications of specific propulsion type.\n",
    "The following is a summary of propulsion type metrics.\n",
    "     - The most common propulsion type that was proceeded was \"{prop_type_name_max_freq}\".\n",
    "     - The number of zero-emission buses procured (electric, battery-electric and fuel-cell electric) is {zeb_count}.\n",
    "     - the number of non-zero emission buses procured (CNG, hybrids, other alternate fuels) is {non_zeb_count}.\n",
    "     \n",
    "The following was discovered after removing outliers, :\n",
    "    - overall the average awarded dollars per bus is ${cpb_mean:,.2f}, with a standard deviation of  ${cpb_std:,.2f}. \n",
    "    - the average awarded dollars per ZEB is ${zeb_only_mean:,.2f}, with a standard deviation of ${zeb_only_std:,.2f}.\n",
    "    - the average awarded dollars per non-ZEB ${non_zeb_only_mean:,.2f}, with a standard deviation of ${non_zeb_only_std:,.2f}.\n",
    "\n",
    "\n",
    "Below are key charts that summarize the findings.\n",
    "\n",
    "\"\"\""
   ]
  },
  {
   "cell_type": "code",
   "execution_count": null,
   "id": "619d8c20-0383-470b-b3a5-11ea9f2b5ef7",
   "metadata": {},
   "outputs": [],
   "source": [
    "print(summary)\n",
    "\n",
    "\n",
    "# CHARTS\n",
    "# ZEB only, cpb distribution\n",
    "print(\n",
    "    \"\"\"\n",
    "ZEB only cost/bus Distribution Chart. \n",
    "The majority of the distribution is within +/-1 standard deviation of the mean, however the standard deviation is quite wide at ~$800,000.\"\"\"\n",
    ")\n",
    "dist_curve(\n",
    "    zeb_only_no_outliers,\n",
    "    zeb_only_mean,\n",
    "    zeb_only_std,\n",
    "    title=\"ZEB only cost/bus Distribution\",\n",
    ")\n",
    "\n",
    "# non_zeb distribution\n",
    "print(\n",
    "    \"\"\"\n",
    "non-ZEB only cost/bus Distribution. This distrubtion is is much more spread out and with a smaller standard deviation.\"\"\"\n",
    ")\n",
    "dist_curve(\n",
    "    non_zeb_only,\n",
    "    non_zeb_only_mean,\n",
    "    non_zeb_only_std,\n",
    "    title=\"non-ZEB only cost/bus Distribution\",\n",
    ")\n",
    "\n",
    "# Higest awarded funds by agency\n",
    "print(\n",
    "    \"\"\"\n",
    "Most funds Awarded by Transit Agency. LA Metro was awarded almost double the next agency.\"\"\"\n",
    ")\n",
    "make_chart(\"project_award_amount\", \"Most funds Awarded by Transit Agency\")\n",
    "\n",
    "# Highest bus count\n",
    "print(\n",
    "    \"\"\"\n",
    "Highest Bus Count by Agency. LA Metro plans to procure the most buses.\"\"\"\n",
    ")\n",
    "make_chart(\"bus_count\", \"Highest Bus Count by Agency\")\n",
    "\n",
    "# COST PER BUS BY PROP TYPE\n",
    "print(\n",
    "    \"\"\"\n",
    "Cost per bus by propulsion type. the total cost per bus for ZEB categories do fall within a similar range of eachother.\"\"\"\n",
    ")\n",
    "make_chart(\"cpb\", \"Cost per bus by propulsion type\", x_col=\"prop_type\", data=prop_agg)\n",
    "\n",
    "# bus count BY PROP TYPE\n",
    "print(\n",
    "    \"\"\"\n",
    "Bus count by propulsion type. The most common bus type procured were zero-emissions related.\"\"\"\n",
    ")\n",
    "make_chart(\n",
    "    \"total_bus_count\", \"Bus count by propulsion type\", x_col=\"prop_type\", data=prop_agg\n",
    ")\n",
    "\n",
    "print(\n",
    "    \"\"\"\n",
    "Based on the findings so far, there is data to  supports that bus procurement cost vary widely amongst transit agencies all over the country. \n",
    "More so with non-ZEB buses than ZEB buses. Upon reading deeper into the data, it appears transit agencies are still in the early stages of adopting ZEB and capital improvement (building improvement, initial charging infrastructure installation) are needed at this time. \n",
    "Cost per bus is suspected to normalize once infrastructure changes are no longer included in projects, and bus only purchases remain. \"\"\"\n",
    ")"
   ]
  },
  {
   "cell_type": "markdown",
   "id": "0b778bc2-da11-4989-997e-32941c91e8a2",
   "metadata": {
    "tags": []
   },
   "source": [
    "---\n",
    "# Deprecated"
   ]
  },
  {
   "cell_type": "markdown",
   "id": "3e019b4d-2445-4d7c-a2a9-0cb2c5953a44",
   "metadata": {
    "jp-MarkdownHeadingCollapsed": true,
    "tags": []
   },
   "source": [
    "## Game Plan\n",
    "- <s>bring in both data sets (FTA Press Release and TIRCP bus data\n",
    "- <s>FTA data, make sure it only has rows with bus count > 0\n",
    "- may need to clean up the prop type and bus size type if there are any similar categories (completed at FTA notebook)\n",
    "- <s>Create shorten data frames for each. include the following columns:\n",
    "    1. agency name (project_sponsor & grant_recipient)\n",
    "    2. project title? (project_title)\n",
    "    3. project award amount (funding and tircp_award_amount($))\n",
    "    4. bus count (bus_count)\n",
    "    5. propulsion type (prop_type)\n",
    "    6. bus size type (bus_size_type)\n",
    "<br>\n",
    "<br>\n",
    "- <s>concat the short dataframes\n",
    "- <s>start aggregation. sum/count bus count, funding and project #\n",
    "    * agg by agency name\n",
    "    * agg by prop type\n",
    "    * agg by bus size type\n",
    "\n",
    "- <s>new column for Z-score of `cost_per_bus`\n",
    "- rerun stats sumamry\n",
    "- use functions to make charts"
   ]
  },
  {
   "cell_type": "markdown",
   "id": "25667a76-87eb-442e-8675-6c31bafb685b",
   "metadata": {
    "tags": []
   },
   "source": [
    "## Charts\n",
    "By Agency\n",
    "- most awarded dollars\n",
    "- most bus count\n",
    "- highest cpb\n",
    "- Most frequent prop_type procured\n",
    "\n",
    "By prop_type\n",
    "- most awarded dollars\n",
    "- most bus count\n",
    "- highest cpb\n",
    "- Most frequent prop_type\n",
    "\n",
    "Just zero emission\n",
    "(electric, beb, fceb, mix(beb and fceb))\n",
    "- most awarded dollars\n",
    "- most bus count\n",
    "- highest cpb\n",
    "\n",
    "Stats Curves\n",
    "- distribution of cpb\n",
    "- \n"
   ]
  },
  {
   "cell_type": "markdown",
   "id": "9c5268b3-1edd-4f53-9ce9-0877c2f7fc55",
   "metadata": {
    "jp-MarkdownHeadingCollapsed": true,
    "tags": []
   },
   "source": [
    "### Charts by Agency"
   ]
  },
  {
   "cell_type": "code",
   "execution_count": null,
   "id": "cec20a56-e1c3-414d-9583-fa4159e5045e",
   "metadata": {},
   "outputs": [],
   "source": [
    "# most awarded dollars by agency\n",
    "make_chart(\"project_award_amount\", \"Most funds awarded by Transit Agency\")"
   ]
  },
  {
   "cell_type": "code",
   "execution_count": null,
   "id": "d374e1c3-0df6-4acd-ab04-dfe8f013ea85",
   "metadata": {},
   "outputs": [],
   "source": [
    "# Highest bus count by agency\n",
    "make_chart(\"bus_count\", \"Most buses procured by Transit Agency\")"
   ]
  },
  {
   "cell_type": "code",
   "execution_count": null,
   "id": "e21f18c5-577c-444c-ada9-c959b57c37bc",
   "metadata": {},
   "outputs": [],
   "source": [
    "# highest cost per bus by agency\n",
    "make_chart(\"cost_per_bus\", \"Highest overall cost per bus (cps) by Transit Agency\")"
   ]
  },
  {
   "cell_type": "code",
   "execution_count": null,
   "id": "9b7240f3-0f8f-4dc2-989e-acda88642021",
   "metadata": {},
   "outputs": [],
   "source": [
    "# most frequent prop_type by agency\n",
    "prop_type_freq = all_bus.prop_type.value_counts().reset_index()\n",
    "prop_type_freq.columns = [\"prop_type\", \"freq\"]\n",
    "make_chart(\n",
    "    \"freq\",\n",
    "    \"Most frequent propulsion type mentioned\",\n",
    "    x_col=\"prop_type\",\n",
    "    data=prop_type_freq,\n",
    ")"
   ]
  },
  {
   "cell_type": "markdown",
   "id": "5e8f410c-63b1-4f75-b07d-d0191b2fad13",
   "metadata": {
    "jp-MarkdownHeadingCollapsed": true,
    "tags": []
   },
   "source": [
    "### Charts By `prop_type`"
   ]
  },
  {
   "cell_type": "code",
   "execution_count": null,
   "id": "f440450e-1ce3-45bf-8f1c-7e774a43cbe6",
   "metadata": {},
   "outputs": [],
   "source": [
    "# COST PER BUS BY PROP TYPE\n",
    "# using prop_agg df and 'total_funds'\n",
    "make_chart(\n",
    "    \"total_funds\", \"award amount by propulsion type\", x_col=\"prop_type\", data=prop_agg\n",
    ")"
   ]
  },
  {
   "cell_type": "code",
   "execution_count": null,
   "id": "30f8a34b-0514-43e7-9f1c-06591308e9b3",
   "metadata": {},
   "outputs": [],
   "source": [
    "# COST PER BUS BY PROP TYPE\n",
    "make_chart(\"cpb\", \"cost per bus by propulsion type\", x_col=\"prop_type\", data=prop_agg)"
   ]
  },
  {
   "cell_type": "code",
   "execution_count": null,
   "id": "a6d5eb26-7594-4ff4-b636-6fa6227937ec",
   "metadata": {},
   "outputs": [],
   "source": [
    "# bus count BY PROP TYPE\n",
    "make_chart(\n",
    "    \"total_bus_count\",\n",
    "    \"cost per bus by propulsion type\",\n",
    "    x_col=\"prop_type\",\n",
    "    data=prop_agg,\n",
    ")"
   ]
  },
  {
   "cell_type": "code",
   "execution_count": null,
   "id": "9844dea6-7389-42bb-bc96-2b38d77022d7",
   "metadata": {},
   "outputs": [],
   "source": [
    "# what is the average cps for each prop_type?\n",
    "prop_agg"
   ]
  },
  {
   "cell_type": "markdown",
   "id": "90b4d145-1f76-443c-870f-d339f1804580",
   "metadata": {
    "tags": []
   },
   "source": [
    "### ZEB Only chart\n",
    "`zeb_only`"
   ]
  },
  {
   "cell_type": "code",
   "execution_count": null,
   "id": "c16fd769-767f-4162-b109-a257956e26a0",
   "metadata": {},
   "outputs": [],
   "source": [
    "make_chart(\n",
    "    \"total_funds\",\n",
    "    \"award amount for ZEBs, by propulsion type\",\n",
    "    x_col=\"prop_type\",\n",
    "    data=zeb_agg,\n",
    ")\n",
    "make_chart(\n",
    "    \"total_cpb\", \"ZEB cost per bus by propulsion type\", x_col=\"prop_type\", data=zeb_agg\n",
    ")\n",
    "make_chart(\n",
    "    \"total_bus_count\",\n",
    "    \"ZEB bus count by propulsion type\",\n",
    "    x_col=\"prop_type\",\n",
    "    data=zeb_agg,\n",
    ")"
   ]
  },
  {
   "cell_type": "markdown",
   "id": "f2548b68-d5db-43ff-9cfd-adbfa466605f",
   "metadata": {
    "tags": []
   },
   "source": [
    "### Non ZEB df\n",
    "`non_zeb_only`"
   ]
  },
  {
   "cell_type": "code",
   "execution_count": null,
   "id": "fa334662-ac2e-48d1-a3d2-739602c1bc06",
   "metadata": {},
   "outputs": [],
   "source": [
    "make_chart(\n",
    "    \"total_funds\",\n",
    "    \"award amount for non-ZEB by propulsion type\",\n",
    "    x_col=\"prop_type\",\n",
    "    data=non_zeb_agg,\n",
    ")\n",
    "make_chart(\n",
    "    \"total_cpb\",\n",
    "    \"non-ZEB cost per bus by propulsion type\",\n",
    "    x_col=\"prop_type\",\n",
    "    data=non_zeb_agg,\n",
    ")\n",
    "make_chart(\n",
    "    \"total_bus_count\",\n",
    "    \"non-ZEB bus count by propulsion type\",\n",
    "    x_col=\"prop_type\",\n",
    "    data=non_zeb_agg,\n",
    ")"
   ]
  },
  {
   "cell_type": "markdown",
   "id": "158497f3-969c-46f1-a6a1-1e4d20d8b9cc",
   "metadata": {
    "tags": []
   },
   "source": [
    "### Stat Dist Curves"
   ]
  },
  {
   "cell_type": "code",
   "execution_count": null,
   "id": "63cb0a1d-dd80-49c1-93c7-da285acd523a",
   "metadata": {},
   "outputs": [],
   "source": [
    "# overall cpb\n",
    "dist_curve(zscore_bus, cpb_mean, cpb_std)"
   ]
  },
  {
   "cell_type": "code",
   "execution_count": null,
   "id": "fc409669-40ee-4220-9987-3bd9e0d0a855",
   "metadata": {},
   "outputs": [],
   "source": [
    "# zeb-only, no outliers\n",
    "zeb_only_no_outliers = zeb_only[\n",
    "    (zeb_only[\"zscore_cost_per_bus\"] >= -3) & (zeb_only[\"zscore_cost_per_bus\"] <= 3)\n",
    "]\n",
    "\n",
    "# zeb only, no outliers cpb curve\n",
    "zeb_only_mean = zeb_only_no_outliers.cost_per_bus.mean()\n",
    "zeb_only_std = zeb_only_no_outliers.cost_per_bus.std()\n",
    "\n",
    "# non-zeb cpb mean and std dev\n",
    "non_zeb_only_mean = non_zeb_only.cost_per_bus.mean()\n",
    "non_zeb_only_std = non_zeb_only.cost_per_bus.std()\n",
    "\n",
    "dist_curve(\n",
    "    zeb_only_no_outliers,\n",
    "    zeb_only_mean,\n",
    "    zeb_only_std,\n",
    "    title=\"ZEB only cost/bus Distribution\",\n",
    ")"
   ]
  },
  {
   "cell_type": "code",
   "execution_count": null,
   "id": "17992a3e-5e05-4fdd-b6ec-8db921dfbab8",
   "metadata": {},
   "outputs": [],
   "source": [
    "# non-zeb cpb curve\n",
    "non_zeb_only_mean = non_zeb_only.cost_per_bus.mean()\n",
    "non_zeb_only_std = non_zeb_only.cost_per_bus.std()\n",
    "\n",
    "dist_curve(\n",
    "    non_zeb_only,\n",
    "    non_zeb_only_mean,\n",
    "    non_zeb_only_std,\n",
    "    title=\"non-ZEB only cost/bus Distribution\",\n",
    ")"
   ]
  },
  {
   "cell_type": "code",
   "execution_count": null,
   "id": "fe7a6649-64d0-4838-8c31-0facd96a5462",
   "metadata": {
    "tags": []
   },
   "outputs": [],
   "source": [
    "# distribution curve of zscore\n",
    "sns.histplot(zscore_bus[\"zscore_cost_per_bus\"], kde=True, color=\"skyblue\", bins=20)\n",
    "plt.title(\"Cost Per Bus Z-Score Distribution\")\n",
    "plt.xlabel(\"zscore cost per bus\")\n",
    "plt.ylabel(\"Frequency\")\n",
    "plt.show()"
   ]
  }
 ],
 "metadata": {
  "kernelspec": {
   "display_name": "Python 3 (ipykernel)",
   "language": "python",
   "name": "python3"
  },
  "language_info": {
   "codemirror_mode": {
    "name": "ipython",
    "version": 3
   },
   "file_extension": ".py",
   "mimetype": "text/x-python",
   "name": "python",
   "nbconvert_exporter": "python",
   "pygments_lexer": "ipython3",
   "version": "3.9.13"
  }
 },
 "nbformat": 4,
 "nbformat_minor": 5
}
