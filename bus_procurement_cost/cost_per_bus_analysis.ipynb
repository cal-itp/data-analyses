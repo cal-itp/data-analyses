{
 "cells": [
  {
   "cell_type": "code",
   "execution_count": 1,
   "id": "8b95db91-abf1-4357-884f-e11d73777da5",
   "metadata": {},
   "outputs": [],
   "source": [
    "import matplotlib.pyplot as plt\n",
    "import numpy as np\n",
    "import pandas as pd\n",
    "import seaborn as sns\n",
    "import shared_utils\n",
    "from scipy.stats import zscore\n",
    "\n",
    "# set_option to increase max rows displayed to 200, to see entire df in 1 go/\n",
    "pd.set_option(\"display.max_rows\", 200)"
   ]
  },
  {
   "cell_type": "markdown",
   "id": "3a641eca-bca2-4a80-944a-f4c120e07de9",
   "metadata": {
    "jp-MarkdownHeadingCollapsed": true,
    "tags": []
   },
   "source": [
    "## Read in cost per bus data"
   ]
  },
  {
   "cell_type": "code",
   "execution_count": null,
   "id": "f6531b72-ddb6-4738-96e3-5938ff2398f4",
   "metadata": {},
   "outputs": [],
   "source": [
    "# cleaned FTA Grant Award Press Release Data for buses only\n",
    "fta = pd.read_csv(\n",
    "    \"gs://calitp-analytics-data/data-analyses/bus_procurement_cost/fta_bus_cost_clean.csv\"\n",
    ")"
   ]
  },
  {
   "cell_type": "code",
   "execution_count": null,
   "id": "6c6e562c-1c69-4128-ad16-415f742889c2",
   "metadata": {},
   "outputs": [],
   "source": [
    "# cleaned TIRCP Project Tracking Data project tracking sheet\n",
    "tircp = pd.read_csv(\n",
    "    \"gs://calitp-analytics-data/data-analyses/bus_procurement_cost/tircp_project_bus_only.csv\"\n",
    ")"
   ]
  },
  {
   "cell_type": "markdown",
   "id": "3e019b4d-2445-4d7c-a2a9-0cb2c5953a44",
   "metadata": {},
   "source": [
    "## Game Plan\n",
    "- <s>bring in both data sets (FTA Press Release and TIRCP bus data\n",
    "- <s>FTA data, make sure it only has rows with bus count > 0\n",
    "- may need to clean up the prop type and bus size type if there are any similar categories (completed at FTA notebook)\n",
    "- <s>Create shorten data frames for each. include the following columns:\n",
    "    1. agency name (project_sponsor & grant_recipient)\n",
    "    2. project title? (project_title)\n",
    "    3. project award amount (funding and tircp_award_amount($))\n",
    "    4. bus count (bus_count)\n",
    "    5. propulsion type (prop_type)\n",
    "    6. bus size type (bus_size_type)\n",
    "<br>\n",
    "<br>\n",
    "- <s>concat the short dataframes\n",
    "- <s>start aggregation. sum/count bus count, funding and project #\n",
    "    * agg by agency name\n",
    "    * agg by prop type\n",
    "    * agg by bus size type\n",
    "\n",
    "- <s>new column for Z-score of `cost_per_bus`\n",
    "- rerun stats sumamry\n",
    "- use functions to make charts"
   ]
  },
  {
   "cell_type": "code",
   "execution_count": 39,
   "id": "85f4a371-32d5-4497-9aaf-dd2361b913e0",
   "metadata": {},
   "outputs": [],
   "source": [
    "# function to display df info\n",
    "def df_peek(df):\n",
    "    display(type(df), df.shape, df.dtypes, df.sample(2))"
   ]
  },
  {
   "cell_type": "markdown",
   "id": "82def04b-551f-4480-a18e-3e121308bbf5",
   "metadata": {
    "jp-MarkdownHeadingCollapsed": true,
    "tags": []
   },
   "source": [
    "## Read in FTA and TIRCP Data"
   ]
  },
  {
   "cell_type": "code",
   "execution_count": null,
   "id": "5f69347f-5e7b-487c-bff1-31a9fc31dd22",
   "metadata": {},
   "outputs": [],
   "source": [
    "# peaking into each dataset\n",
    "data = [fta, tircp]\n",
    "\n",
    "for x in data:\n",
    "    display(x.shape, x.columns, x.head(), x.dtypes)"
   ]
  },
  {
   "cell_type": "markdown",
   "id": "6950af52-f9eb-440b-9801-0396b650d502",
   "metadata": {
    "tags": []
   },
   "source": [
    "## Dataset cleaning"
   ]
  },
  {
   "cell_type": "markdown",
   "id": "d2588e43-41b8-4886-a298-416cf4a4c83d",
   "metadata": {
    "jp-MarkdownHeadingCollapsed": true,
    "tags": []
   },
   "source": [
    "### drop some columns"
   ]
  },
  {
   "cell_type": "code",
   "execution_count": null,
   "id": "b86bce5a-8065-4848-8eef-5450c106fed2",
   "metadata": {},
   "outputs": [],
   "source": [
    "# examine columns\n",
    "display(fta.columns, tircp.columns)"
   ]
  },
  {
   "cell_type": "code",
   "execution_count": null,
   "id": "9e9e0945-5f9f-4a07-b9b4-7364a848d7bc",
   "metadata": {},
   "outputs": [],
   "source": [
    "fta = fta.drop(\n",
    "    columns=[\n",
    "        \"Unnamed: 0\",\n",
    "        \"area_served\",\n",
    "        \"congressional_districts\",\n",
    "        \"fta_region\",\n",
    "        \"bus/low-no_program\",\n",
    "    ]\n",
    ")"
   ]
  },
  {
   "cell_type": "code",
   "execution_count": null,
   "id": "40ce35ff-38bf-4001-b25f-37878eab700c",
   "metadata": {},
   "outputs": [],
   "source": [
    "tircp = tircp.drop(\n",
    "    columns=[\n",
    "        \"Unnamed: 0.2\",\n",
    "        \"Unnamed: 0.1\",\n",
    "        \"Unnamed: 0\",\n",
    "        \"award_year\",\n",
    "        \"district\",\n",
    "        \"county\",\n",
    "        \"total_project_cost\",\n",
    "    ]\n",
    ")"
   ]
  },
  {
   "cell_type": "code",
   "execution_count": null,
   "id": "17a26be1-15ba-40a0-9d09-0218d79443f4",
   "metadata": {},
   "outputs": [],
   "source": [
    "display(fta.columns, tircp.columns)"
   ]
  },
  {
   "cell_type": "markdown",
   "id": "6b1e029f-5da7-417a-bc7f-94690bfdc25b",
   "metadata": {
    "jp-MarkdownHeadingCollapsed": true,
    "tags": []
   },
   "source": [
    "### drop zero bus counts from FTA"
   ]
  },
  {
   "cell_type": "code",
   "execution_count": null,
   "id": "4553c5aa-95be-488e-b870-ddc3f36fa321",
   "metadata": {},
   "outputs": [],
   "source": [
    "fta = fta[fta[\"bus_count\"] > 0]"
   ]
  },
  {
   "cell_type": "code",
   "execution_count": null,
   "id": "0ad42087-d70b-46f0-8fb0-6c452b7a708b",
   "metadata": {},
   "outputs": [],
   "source": [
    "# no more '0' values\n",
    "fta.bus_count.unique()"
   ]
  },
  {
   "cell_type": "markdown",
   "id": "dbc87cae-a0b5-41e7-822b-11b370bdb5ce",
   "metadata": {
    "jp-MarkdownHeadingCollapsed": true,
    "tags": []
   },
   "source": [
    "## Shorten data frames"
   ]
  },
  {
   "cell_type": "markdown",
   "id": "b21e89f6-efcc-48a3-8224-1c9c3926ef68",
   "metadata": {},
   "source": [
    "FTA & TIRCP columns names respecitvely\n",
    "\n",
    "    1. agency name (project_sponsor & grant_recipient)\n",
    "    2. project title? (project_title)\n",
    "    3. project award amount (funding and tircp_award_amount($))\n",
    "    4. bus count (bus_count)\n",
    "    5. propulsion type (prop_type)\n",
    "    6. bus size type (bus_size_type)"
   ]
  },
  {
   "cell_type": "code",
   "execution_count": null,
   "id": "8f61675b-f445-4306-9ce6-27169d6b6909",
   "metadata": {},
   "outputs": [],
   "source": [
    "fta_short = fta[\n",
    "    [\n",
    "        \"project_sponsor\",\n",
    "        \"project_title\",\n",
    "        \"funding\",\n",
    "        \"bus_count\",\n",
    "        \"prop_type\",\n",
    "        \"bus_size_type\",\n",
    "    ]\n",
    "]"
   ]
  },
  {
   "cell_type": "code",
   "execution_count": null,
   "id": "ffd9239b-45c3-4fcf-890e-773f3a38935d",
   "metadata": {},
   "outputs": [],
   "source": [
    "len(fta_short) == len(fta)"
   ]
  },
  {
   "cell_type": "code",
   "execution_count": null,
   "id": "b60eb1cb-b535-44f0-8bc5-341928012c59",
   "metadata": {},
   "outputs": [],
   "source": [
    "tircp_short = tircp[\n",
    "    [\n",
    "        \"grant_recipient\",\n",
    "        \"project_title\",\n",
    "        \"tircp_award_amount_($)\",\n",
    "        \"bus_count\",\n",
    "        \"prop_type\",\n",
    "        \"bus_size_type\",\n",
    "    ]\n",
    "]"
   ]
  },
  {
   "cell_type": "code",
   "execution_count": null,
   "id": "af4bacbe-92c5-4dc2-93bf-6afe888bfacd",
   "metadata": {},
   "outputs": [],
   "source": [
    "len(tircp_short) == len(tircp)"
   ]
  },
  {
   "cell_type": "markdown",
   "id": "cdfd4d75-59d3-482c-97bd-349a11abf105",
   "metadata": {
    "jp-MarkdownHeadingCollapsed": true,
    "tags": []
   },
   "source": [
    "## rename columns to match eachother"
   ]
  },
  {
   "cell_type": "code",
   "execution_count": null,
   "id": "95c0112f-78cb-4cb5-aa09-d75b124cdbec",
   "metadata": {},
   "outputs": [],
   "source": [
    "# list of new column names. to be applied in same order as short df\n",
    "new_col = [\n",
    "    \"agency_name\",\n",
    "    \"project_title\",\n",
    "    \"project_award_amount\",\n",
    "    \"bus_count\",\n",
    "    \"prop_type\",\n",
    "    \"bus_size_type\",\n",
    "]"
   ]
  },
  {
   "cell_type": "code",
   "execution_count": null,
   "id": "90da70ce-0bca-4140-83ed-da95d9c63157",
   "metadata": {},
   "outputs": [],
   "source": [
    "fta_short.columns = new_col\n",
    "tircp_short.columns = new_col"
   ]
  },
  {
   "cell_type": "code",
   "execution_count": null,
   "id": "dfaf1766-5a70-4ec2-a54b-0e16f9fca8bc",
   "metadata": {},
   "outputs": [],
   "source": [
    "fta_short.columns == tircp_short.columns"
   ]
  },
  {
   "cell_type": "code",
   "execution_count": null,
   "id": "7f801d4d-ac40-4c19-9c61-540a922b8805",
   "metadata": {},
   "outputs": [],
   "source": [
    "# add new col to identify source\n",
    "fta_short[\"source\"] = \"fta_press_release\"\n",
    "tircp_short[\"source\"] = \"tircp_project_tracking\""
   ]
  },
  {
   "cell_type": "code",
   "execution_count": null,
   "id": "1e71a2b7-ccfd-4e3f-a810-fa0227d899d2",
   "metadata": {},
   "outputs": [],
   "source": [
    "display(fta_short.head(), tircp_short.head())"
   ]
  },
  {
   "cell_type": "markdown",
   "id": "b8ca8d50-5041-4459-a764-ccc12ced2037",
   "metadata": {
    "jp-MarkdownHeadingCollapsed": true,
    "tags": []
   },
   "source": [
    "## Concat both dataframes"
   ]
  },
  {
   "cell_type": "code",
   "execution_count": null,
   "id": "5c7bfad5-9048-4712-b663-c4795b071737",
   "metadata": {},
   "outputs": [],
   "source": [
    "concat = pd.concat([fta_short, tircp_short], axis=0).reset_index()"
   ]
  },
  {
   "cell_type": "code",
   "execution_count": null,
   "id": "d6142fce-639e-4082-b83c-6fec6e6a53cf",
   "metadata": {},
   "outputs": [],
   "source": [
    "display(\n",
    "    len(fta_short), len(tircp_short), len(fta_short) + len(tircp_short) == len(concat)\n",
    ")"
   ]
  },
  {
   "cell_type": "code",
   "execution_count": null,
   "id": "9c63d955-ccff-4316-aa42-1aa66af7beed",
   "metadata": {},
   "outputs": [],
   "source": [
    "concat.sample(3)"
   ]
  },
  {
   "cell_type": "code",
   "execution_count": null,
   "id": "7d5dd236-bdb4-4213-997a-b2c9a4b8c0b6",
   "metadata": {},
   "outputs": [],
   "source": [
    "concat = concat.drop(\"index\", axis=1)"
   ]
  },
  {
   "cell_type": "code",
   "execution_count": null,
   "id": "4ea75308-6784-4aba-ae2d-b8ceb05ad189",
   "metadata": {},
   "outputs": [],
   "source": [
    "# concat looks good\n",
    "list(concat.prop_type.sort_values().unique())"
   ]
  },
  {
   "cell_type": "markdown",
   "id": "14f00383-8c11-4656-a019-a5b58cc4d076",
   "metadata": {
    "tags": []
   },
   "source": [
    "## Export concat data"
   ]
  },
  {
   "cell_type": "code",
   "execution_count": null,
   "id": "173aa1c6-fc73-4476-b3d0-e3bab1c48e4b",
   "metadata": {},
   "outputs": [],
   "source": [
    "concat.to_csv(\n",
    "    \"gs://calitp-analytics-data/data-analyses/bus_procurement_cost/fta_tircp_concat.csv\"\n",
    ")"
   ]
  },
  {
   "cell_type": "markdown",
   "id": "e7582392-0b4b-4c95-a2a6-b0939cf63862",
   "metadata": {
    "tags": []
   },
   "source": [
    "### Read in concat data (TIRCP and FTA data)"
   ]
  },
  {
   "cell_type": "code",
   "execution_count": 2,
   "id": "5b474b47-7617-4eaa-b8fb-c86709c77368",
   "metadata": {},
   "outputs": [],
   "source": [
    "all_bus = pd.read_csv(\n",
    "    \"gs://calitp-analytics-data/data-analyses/bus_procurement_cost/fta_tircp_concat.csv\"\n",
    ")"
   ]
  },
  {
   "cell_type": "code",
   "execution_count": 40,
   "id": "89faef72-2c03-46e5-b908-9b6bd86b1210",
   "metadata": {},
   "outputs": [
    {
     "data": {
      "text/plain": [
       "pandas.core.frame.DataFrame"
      ]
     },
     "metadata": {},
     "output_type": "display_data"
    },
    {
     "data": {
      "text/plain": [
       "(133, 9)"
      ]
     },
     "metadata": {},
     "output_type": "display_data"
    },
    {
     "data": {
      "text/plain": [
       "Unnamed: 0                int64\n",
       "agency_name              object\n",
       "project_title            object\n",
       "project_award_amount      int64\n",
       "bus_count               float64\n",
       "prop_type                object\n",
       "bus_size_type            object\n",
       "source                   object\n",
       "cost_per_bus              int64\n",
       "dtype: object"
      ]
     },
     "metadata": {},
     "output_type": "display_data"
    },
    {
     "data": {
      "text/html": [
       "<div>\n",
       "<style scoped>\n",
       "    .dataframe tbody tr th:only-of-type {\n",
       "        vertical-align: middle;\n",
       "    }\n",
       "\n",
       "    .dataframe tbody tr th {\n",
       "        vertical-align: top;\n",
       "    }\n",
       "\n",
       "    .dataframe thead th {\n",
       "        text-align: right;\n",
       "    }\n",
       "</style>\n",
       "<table border=\"1\" class=\"dataframe\">\n",
       "  <thead>\n",
       "    <tr style=\"text-align: right;\">\n",
       "      <th></th>\n",
       "      <th>Unnamed: 0</th>\n",
       "      <th>agency_name</th>\n",
       "      <th>project_title</th>\n",
       "      <th>project_award_amount</th>\n",
       "      <th>bus_count</th>\n",
       "      <th>prop_type</th>\n",
       "      <th>bus_size_type</th>\n",
       "      <th>source</th>\n",
       "      <th>cost_per_bus</th>\n",
       "    </tr>\n",
       "  </thead>\n",
       "  <tbody>\n",
       "    <tr>\n",
       "      <th>6</th>\n",
       "      <td>6</td>\n",
       "      <td>King County Metro Transit</td>\n",
       "      <td>Zero Emissions Battery Electric Bus Fleet Conv...</td>\n",
       "      <td>33552634</td>\n",
       "      <td>30.0</td>\n",
       "      <td>BEB</td>\n",
       "      <td>not specified</td>\n",
       "      <td>fta_press_release</td>\n",
       "      <td>1118421</td>\n",
       "    </tr>\n",
       "    <tr>\n",
       "      <th>69</th>\n",
       "      <td>69</td>\n",
       "      <td>City of Colorado Springs dba Mountain Metropol...</td>\n",
       "      <td>Mountain Metropolitan Transit Diesel Replaceme...</td>\n",
       "      <td>3199038</td>\n",
       "      <td>6.0</td>\n",
       "      <td>low emission (hybrid)</td>\n",
       "      <td>not specified</td>\n",
       "      <td>fta_press_release</td>\n",
       "      <td>533173</td>\n",
       "    </tr>\n",
       "  </tbody>\n",
       "</table>\n",
       "</div>"
      ],
      "text/plain": [
       "    Unnamed: 0                                        agency_name  \\\n",
       "6            6                          King County Metro Transit   \n",
       "69          69  City of Colorado Springs dba Mountain Metropol...   \n",
       "\n",
       "                                        project_title  project_award_amount  \\\n",
       "6   Zero Emissions Battery Electric Bus Fleet Conv...              33552634   \n",
       "69  Mountain Metropolitan Transit Diesel Replaceme...               3199038   \n",
       "\n",
       "    bus_count              prop_type  bus_size_type             source  \\\n",
       "6        30.0                    BEB  not specified  fta_press_release   \n",
       "69        6.0  low emission (hybrid)  not specified  fta_press_release   \n",
       "\n",
       "    cost_per_bus  \n",
       "6        1118421  \n",
       "69        533173  "
      ]
     },
     "metadata": {},
     "output_type": "display_data"
    }
   ],
   "source": [
    "df_peek(all_bus)"
   ]
  },
  {
   "cell_type": "markdown",
   "id": "3e07cd2c-9bc7-4bcc-8e4f-e7d58ebcc1fc",
   "metadata": {
    "tags": []
   },
   "source": [
    "## create cost_per_bus_column\n",
    "on all_bus df"
   ]
  },
  {
   "cell_type": "code",
   "execution_count": 4,
   "id": "b35f7018-64f7-4a5b-ab50-10d871115c83",
   "metadata": {},
   "outputs": [],
   "source": [
    "all_bus[\"cost_per_bus\"] = (\n",
    "    all_bus[\"project_award_amount\"] / all_bus[\"bus_count\"]\n",
    ").astype(\"int64\")"
   ]
  },
  {
   "cell_type": "code",
   "execution_count": 41,
   "id": "07acb5fc-5611-40d6-bfa5-90b814bd5588",
   "metadata": {},
   "outputs": [
    {
     "data": {
      "text/plain": [
       "pandas.core.frame.DataFrame"
      ]
     },
     "metadata": {},
     "output_type": "display_data"
    },
    {
     "data": {
      "text/plain": [
       "(133, 9)"
      ]
     },
     "metadata": {},
     "output_type": "display_data"
    },
    {
     "data": {
      "text/plain": [
       "Unnamed: 0                int64\n",
       "agency_name              object\n",
       "project_title            object\n",
       "project_award_amount      int64\n",
       "bus_count               float64\n",
       "prop_type                object\n",
       "bus_size_type            object\n",
       "source                   object\n",
       "cost_per_bus              int64\n",
       "dtype: object"
      ]
     },
     "metadata": {},
     "output_type": "display_data"
    },
    {
     "data": {
      "text/html": [
       "<div>\n",
       "<style scoped>\n",
       "    .dataframe tbody tr th:only-of-type {\n",
       "        vertical-align: middle;\n",
       "    }\n",
       "\n",
       "    .dataframe tbody tr th {\n",
       "        vertical-align: top;\n",
       "    }\n",
       "\n",
       "    .dataframe thead th {\n",
       "        text-align: right;\n",
       "    }\n",
       "</style>\n",
       "<table border=\"1\" class=\"dataframe\">\n",
       "  <thead>\n",
       "    <tr style=\"text-align: right;\">\n",
       "      <th></th>\n",
       "      <th>Unnamed: 0</th>\n",
       "      <th>agency_name</th>\n",
       "      <th>project_title</th>\n",
       "      <th>project_award_amount</th>\n",
       "      <th>bus_count</th>\n",
       "      <th>prop_type</th>\n",
       "      <th>bus_size_type</th>\n",
       "      <th>source</th>\n",
       "      <th>cost_per_bus</th>\n",
       "    </tr>\n",
       "  </thead>\n",
       "  <tbody>\n",
       "    <tr>\n",
       "      <th>2</th>\n",
       "      <td>2</td>\n",
       "      <td>New Orleans Regional Transit Authority</td>\n",
       "      <td>Accelerating Zero-Emissions Mobility for a Res...</td>\n",
       "      <td>71439261</td>\n",
       "      <td>20.0</td>\n",
       "      <td>zero-emission bus (not specified)</td>\n",
       "      <td>not specified</td>\n",
       "      <td>fta_press_release</td>\n",
       "      <td>3571963</td>\n",
       "    </tr>\n",
       "    <tr>\n",
       "      <th>63</th>\n",
       "      <td>63</td>\n",
       "      <td>Rogue Valley Transportation District</td>\n",
       "      <td>RVTD Renewable Resiliency Buses</td>\n",
       "      <td>3937500</td>\n",
       "      <td>6.0</td>\n",
       "      <td>NaN</td>\n",
       "      <td>not specified</td>\n",
       "      <td>fta_press_release</td>\n",
       "      <td>656250</td>\n",
       "    </tr>\n",
       "  </tbody>\n",
       "</table>\n",
       "</div>"
      ],
      "text/plain": [
       "    Unnamed: 0                             agency_name  \\\n",
       "2            2  New Orleans Regional Transit Authority   \n",
       "63          63    Rogue Valley Transportation District   \n",
       "\n",
       "                                        project_title  project_award_amount  \\\n",
       "2   Accelerating Zero-Emissions Mobility for a Res...              71439261   \n",
       "63                    RVTD Renewable Resiliency Buses               3937500   \n",
       "\n",
       "    bus_count                          prop_type  bus_size_type  \\\n",
       "2        20.0  zero-emission bus (not specified)  not specified   \n",
       "63        6.0                                NaN  not specified   \n",
       "\n",
       "               source  cost_per_bus  \n",
       "2   fta_press_release       3571963  \n",
       "63  fta_press_release        656250  "
      ]
     },
     "metadata": {},
     "output_type": "display_data"
    }
   ],
   "source": [
    "df_peek(all_bus)"
   ]
  },
  {
   "cell_type": "markdown",
   "id": "6ddefcb9-7c31-4a69-bef8-ae80455a2a39",
   "metadata": {
    "tags": []
   },
   "source": [
    "## Aggregate\n",
    "To get total funding and bus count\n",
    "- per agency\n",
    "- per propulsion type\n",
    "- per bus size type"
   ]
  },
  {
   "cell_type": "code",
   "execution_count": 19,
   "id": "9eea9c65-dd39-46a2-ba0f-a276e2fc913f",
   "metadata": {},
   "outputs": [],
   "source": [
    "## function to agg by X col by project title, award and bus count\n",
    "\n",
    "\n",
    "def bus_aggregate(column):\n",
    "    df_agg = (\n",
    "        all_bus.groupby(column)\n",
    "        .agg(\n",
    "            total_project_count=(\"project_title\", \"count\"),\n",
    "            total_funds=(\"project_award_amount\", \"sum\"),\n",
    "            total_bus_count=(\"bus_count\", \"sum\"),\n",
    "        )\n",
    "        .reset_index()\n",
    "    )\n",
    "    return df_agg"
   ]
  },
  {
   "cell_type": "code",
   "execution_count": 37,
   "id": "f68d9a34-2d60-4366-9f3d-7ead081b8149",
   "metadata": {},
   "outputs": [],
   "source": [
    "agency_agg = bus_aggregate(\"agency_name\")\n",
    "prop_agg = bus_aggregate(\"prop_type\")\n",
    "size_agg = bus_aggregate(\"bus_size_type\")"
   ]
  },
  {
   "cell_type": "code",
   "execution_count": 38,
   "id": "fa04c528-b46a-49a7-98b3-a1857ddc6a9c",
   "metadata": {},
   "outputs": [
    {
     "data": {
      "text/plain": [
       "pandas.core.frame.DataFrame"
      ]
     },
     "metadata": {},
     "output_type": "display_data"
    },
    {
     "data": {
      "text/plain": [
       "(4, 4)"
      ]
     },
     "metadata": {},
     "output_type": "display_data"
    },
    {
     "data": {
      "text/plain": [
       "bus_size_type           object\n",
       "total_project_count      int64\n",
       "total_funds              int64\n",
       "total_bus_count        float64\n",
       "dtype: object"
      ]
     },
     "metadata": {},
     "output_type": "display_data"
    },
    {
     "data": {
      "text/html": [
       "<div>\n",
       "<style scoped>\n",
       "    .dataframe tbody tr th:only-of-type {\n",
       "        vertical-align: middle;\n",
       "    }\n",
       "\n",
       "    .dataframe tbody tr th {\n",
       "        vertical-align: top;\n",
       "    }\n",
       "\n",
       "    .dataframe thead th {\n",
       "        text-align: right;\n",
       "    }\n",
       "</style>\n",
       "<table border=\"1\" class=\"dataframe\">\n",
       "  <thead>\n",
       "    <tr style=\"text-align: right;\">\n",
       "      <th></th>\n",
       "      <th>bus_size_type</th>\n",
       "      <th>total_project_count</th>\n",
       "      <th>total_funds</th>\n",
       "      <th>total_bus_count</th>\n",
       "    </tr>\n",
       "  </thead>\n",
       "  <tbody>\n",
       "    <tr>\n",
       "      <th>0</th>\n",
       "      <td>conventional (40-ft like)</td>\n",
       "      <td>4</td>\n",
       "      <td>63542000</td>\n",
       "      <td>93.0</td>\n",
       "    </tr>\n",
       "    <tr>\n",
       "      <th>1</th>\n",
       "      <td>cutaway</td>\n",
       "      <td>4</td>\n",
       "      <td>32861322</td>\n",
       "      <td>183.0</td>\n",
       "    </tr>\n",
       "  </tbody>\n",
       "</table>\n",
       "</div>"
      ],
      "text/plain": [
       "               bus_size_type  total_project_count  total_funds  \\\n",
       "0  conventional (40-ft like)                    4     63542000   \n",
       "1                    cutaway                    4     32861322   \n",
       "\n",
       "   total_bus_count  \n",
       "0             93.0  \n",
       "1            183.0  "
      ]
     },
     "metadata": {},
     "output_type": "display_data"
    }
   ],
   "source": [
    "df_peek(size_agg)"
   ]
  },
  {
   "cell_type": "markdown",
   "id": "d645f949-ddb4-4b58-ab0a-0889a5ad6f56",
   "metadata": {},
   "source": [
    "## Z-score for cost_per_bus "
   ]
  },
  {
   "cell_type": "code",
   "execution_count": 43,
   "id": "71a64926-2ea5-4bbf-aae9-d243c3830ada",
   "metadata": {},
   "outputs": [],
   "source": [
    "# add new column for z-score\n",
    "all_bus[\"zscore_cost_per_bus\"] = zscore(all_bus[\"cost_per_bus\"])"
   ]
  },
  {
   "cell_type": "code",
   "execution_count": 44,
   "id": "5111734e-6f0e-4d99-a585-94f80341ca11",
   "metadata": {},
   "outputs": [
    {
     "data": {
      "text/plain": [
       "pandas.core.frame.DataFrame"
      ]
     },
     "metadata": {},
     "output_type": "display_data"
    },
    {
     "data": {
      "text/plain": [
       "(133, 10)"
      ]
     },
     "metadata": {},
     "output_type": "display_data"
    },
    {
     "data": {
      "text/plain": [
       "Unnamed: 0                int64\n",
       "agency_name              object\n",
       "project_title            object\n",
       "project_award_amount      int64\n",
       "bus_count               float64\n",
       "prop_type                object\n",
       "bus_size_type            object\n",
       "source                   object\n",
       "cost_per_bus              int64\n",
       "zscore_cost_per_bus     float64\n",
       "dtype: object"
      ]
     },
     "metadata": {},
     "output_type": "display_data"
    },
    {
     "data": {
      "text/html": [
       "<div>\n",
       "<style scoped>\n",
       "    .dataframe tbody tr th:only-of-type {\n",
       "        vertical-align: middle;\n",
       "    }\n",
       "\n",
       "    .dataframe tbody tr th {\n",
       "        vertical-align: top;\n",
       "    }\n",
       "\n",
       "    .dataframe thead th {\n",
       "        text-align: right;\n",
       "    }\n",
       "</style>\n",
       "<table border=\"1\" class=\"dataframe\">\n",
       "  <thead>\n",
       "    <tr style=\"text-align: right;\">\n",
       "      <th></th>\n",
       "      <th>Unnamed: 0</th>\n",
       "      <th>agency_name</th>\n",
       "      <th>project_title</th>\n",
       "      <th>project_award_amount</th>\n",
       "      <th>bus_count</th>\n",
       "      <th>prop_type</th>\n",
       "      <th>bus_size_type</th>\n",
       "      <th>source</th>\n",
       "      <th>cost_per_bus</th>\n",
       "      <th>zscore_cost_per_bus</th>\n",
       "    </tr>\n",
       "  </thead>\n",
       "  <tbody>\n",
       "    <tr>\n",
       "      <th>9</th>\n",
       "      <td>9</td>\n",
       "      <td>North County Transit District (NCTD)</td>\n",
       "      <td>Accelerate Clean Transit (ACT)</td>\n",
       "      <td>29330243</td>\n",
       "      <td>23.0</td>\n",
       "      <td>FCEB</td>\n",
       "      <td>not specified</td>\n",
       "      <td>fta_press_release</td>\n",
       "      <td>1275227</td>\n",
       "      <td>0.214588</td>\n",
       "    </tr>\n",
       "    <tr>\n",
       "      <th>18</th>\n",
       "      <td>18</td>\n",
       "      <td>City of Tucson, Sun Tran</td>\n",
       "      <td>A Clean Ride by 2025</td>\n",
       "      <td>21490560</td>\n",
       "      <td>39.0</td>\n",
       "      <td>CNG</td>\n",
       "      <td>not specified</td>\n",
       "      <td>fta_press_release</td>\n",
       "      <td>551040</td>\n",
       "      <td>-0.429863</td>\n",
       "    </tr>\n",
       "  </tbody>\n",
       "</table>\n",
       "</div>"
      ],
      "text/plain": [
       "    Unnamed: 0                           agency_name  \\\n",
       "9            9  North County Transit District (NCTD)   \n",
       "18          18              City of Tucson, Sun Tran   \n",
       "\n",
       "                     project_title  project_award_amount  bus_count prop_type  \\\n",
       "9   Accelerate Clean Transit (ACT)              29330243       23.0      FCEB   \n",
       "18            A Clean Ride by 2025              21490560       39.0       CNG   \n",
       "\n",
       "    bus_size_type             source  cost_per_bus  zscore_cost_per_bus  \n",
       "9   not specified  fta_press_release       1275227             0.214588  \n",
       "18  not specified  fta_press_release        551040            -0.429863  "
      ]
     },
     "metadata": {},
     "output_type": "display_data"
    }
   ],
   "source": [
    "df_peek(all_bus)"
   ]
  },
  {
   "cell_type": "code",
   "execution_count": 47,
   "id": "b074a5a1-8479-4366-9dff-5533263b45c1",
   "metadata": {},
   "outputs": [],
   "source": [
    "# remove outliers\n",
    "# filter df for zscores between -3 and 3\n",
    "filtered = all_bus[\n",
    "    (all_bus[\"zscore_cost_per_bus\"] >= -3) & (all_bus[\"zscore_cost_per_bus\"] <= 3)\n",
    "]"
   ]
  },
  {
   "cell_type": "code",
   "execution_count": 48,
   "id": "8e2309e9-c6f0-4718-a5a9-17991345d243",
   "metadata": {},
   "outputs": [
    {
     "data": {
      "text/plain": [
       "pandas.core.frame.DataFrame"
      ]
     },
     "metadata": {},
     "output_type": "display_data"
    },
    {
     "data": {
      "text/plain": [
       "(131, 10)"
      ]
     },
     "metadata": {},
     "output_type": "display_data"
    },
    {
     "data": {
      "text/plain": [
       "Unnamed: 0                int64\n",
       "agency_name              object\n",
       "project_title            object\n",
       "project_award_amount      int64\n",
       "bus_count               float64\n",
       "prop_type                object\n",
       "bus_size_type            object\n",
       "source                   object\n",
       "cost_per_bus              int64\n",
       "zscore_cost_per_bus     float64\n",
       "dtype: object"
      ]
     },
     "metadata": {},
     "output_type": "display_data"
    },
    {
     "data": {
      "text/html": [
       "<div>\n",
       "<style scoped>\n",
       "    .dataframe tbody tr th:only-of-type {\n",
       "        vertical-align: middle;\n",
       "    }\n",
       "\n",
       "    .dataframe tbody tr th {\n",
       "        vertical-align: top;\n",
       "    }\n",
       "\n",
       "    .dataframe thead th {\n",
       "        text-align: right;\n",
       "    }\n",
       "</style>\n",
       "<table border=\"1\" class=\"dataframe\">\n",
       "  <thead>\n",
       "    <tr style=\"text-align: right;\">\n",
       "      <th></th>\n",
       "      <th>Unnamed: 0</th>\n",
       "      <th>agency_name</th>\n",
       "      <th>project_title</th>\n",
       "      <th>project_award_amount</th>\n",
       "      <th>bus_count</th>\n",
       "      <th>prop_type</th>\n",
       "      <th>bus_size_type</th>\n",
       "      <th>source</th>\n",
       "      <th>cost_per_bus</th>\n",
       "      <th>zscore_cost_per_bus</th>\n",
       "    </tr>\n",
       "  </thead>\n",
       "  <tbody>\n",
       "    <tr>\n",
       "      <th>78</th>\n",
       "      <td>78</td>\n",
       "      <td>New Mexico Department of Transportation on beh...</td>\n",
       "      <td>Procurement of Three Replacement Diesel-Electr...</td>\n",
       "      <td>2063160</td>\n",
       "      <td>3.0</td>\n",
       "      <td>low emission (hybrid)</td>\n",
       "      <td>not specified</td>\n",
       "      <td>fta_press_release</td>\n",
       "      <td>687720</td>\n",
       "      <td>-0.308232</td>\n",
       "    </tr>\n",
       "    <tr>\n",
       "      <th>81</th>\n",
       "      <td>81</td>\n",
       "      <td>South Dakota Department of Transportation on b...</td>\n",
       "      <td>Low-emission bus alternative fuel project to i...</td>\n",
       "      <td>1276628</td>\n",
       "      <td>9.0</td>\n",
       "      <td>low emission (propane)</td>\n",
       "      <td>not specified</td>\n",
       "      <td>fta_press_release</td>\n",
       "      <td>141847</td>\n",
       "      <td>-0.794002</td>\n",
       "    </tr>\n",
       "  </tbody>\n",
       "</table>\n",
       "</div>"
      ],
      "text/plain": [
       "    Unnamed: 0                                        agency_name  \\\n",
       "78          78  New Mexico Department of Transportation on beh...   \n",
       "81          81  South Dakota Department of Transportation on b...   \n",
       "\n",
       "                                        project_title  project_award_amount  \\\n",
       "78  Procurement of Three Replacement Diesel-Electr...               2063160   \n",
       "81  Low-emission bus alternative fuel project to i...               1276628   \n",
       "\n",
       "    bus_count               prop_type  bus_size_type             source  \\\n",
       "78        3.0   low emission (hybrid)  not specified  fta_press_release   \n",
       "81        9.0  low emission (propane)  not specified  fta_press_release   \n",
       "\n",
       "    cost_per_bus  zscore_cost_per_bus  \n",
       "78        687720            -0.308232  \n",
       "81        141847            -0.794002  "
      ]
     },
     "metadata": {},
     "output_type": "display_data"
    }
   ],
   "source": [
    "# 2 rows were dropped\n",
    "df_peek(filtered)"
   ]
  },
  {
   "cell_type": "code",
   "execution_count": 49,
   "id": "8aa8cda1-1caf-45a0-ad06-0bda5d81aefa",
   "metadata": {},
   "outputs": [
    {
     "data": {
      "text/plain": [
       "2.3732393072982587"
      ]
     },
     "execution_count": 49,
     "metadata": {},
     "output_type": "execute_result"
    }
   ],
   "source": [
    "filtered.zscore_cost_per_bus.max()"
   ]
  },
  {
   "cell_type": "code",
   "execution_count": 51,
   "id": "5d7b379c-a7d6-43d9-9290-4b7b6fe07ef5",
   "metadata": {},
   "outputs": [
    {
     "data": {
      "text/html": [
       "<div>\n",
       "<style scoped>\n",
       "    .dataframe tbody tr th:only-of-type {\n",
       "        vertical-align: middle;\n",
       "    }\n",
       "\n",
       "    .dataframe tbody tr th {\n",
       "        vertical-align: top;\n",
       "    }\n",
       "\n",
       "    .dataframe thead th {\n",
       "        text-align: right;\n",
       "    }\n",
       "</style>\n",
       "<table border=\"1\" class=\"dataframe\">\n",
       "  <thead>\n",
       "    <tr style=\"text-align: right;\">\n",
       "      <th></th>\n",
       "      <th>Unnamed: 0</th>\n",
       "      <th>agency_name</th>\n",
       "      <th>project_title</th>\n",
       "      <th>project_award_amount</th>\n",
       "      <th>bus_count</th>\n",
       "      <th>prop_type</th>\n",
       "      <th>bus_size_type</th>\n",
       "      <th>source</th>\n",
       "      <th>cost_per_bus</th>\n",
       "      <th>zscore_cost_per_bus</th>\n",
       "    </tr>\n",
       "  </thead>\n",
       "  <tbody>\n",
       "    <tr>\n",
       "      <th>12</th>\n",
       "      <td>12</td>\n",
       "      <td>Charleston Area Regional Transportation Authority</td>\n",
       "      <td>CARTA Shipwatch Square Transit and Workforce C...</td>\n",
       "      <td>25906730</td>\n",
       "      <td>7.0</td>\n",
       "      <td>electric (not specified)</td>\n",
       "      <td>not specified</td>\n",
       "      <td>fta_press_release</td>\n",
       "      <td>3700961</td>\n",
       "      <td>2.373239</td>\n",
       "    </tr>\n",
       "    <tr>\n",
       "      <th>2</th>\n",
       "      <td>2</td>\n",
       "      <td>New Orleans Regional Transit Authority</td>\n",
       "      <td>Accelerating Zero-Emissions Mobility for a Res...</td>\n",
       "      <td>71439261</td>\n",
       "      <td>20.0</td>\n",
       "      <td>zero-emission bus (not specified)</td>\n",
       "      <td>not specified</td>\n",
       "      <td>fta_press_release</td>\n",
       "      <td>3571963</td>\n",
       "      <td>2.258445</td>\n",
       "    </tr>\n",
       "    <tr>\n",
       "      <th>120</th>\n",
       "      <td>120</td>\n",
       "      <td>Humboldt Transit Authority (HTA)</td>\n",
       "      <td>Expanding Transit Services and Introducing Zer...</td>\n",
       "      <td>38743000</td>\n",
       "      <td>11.0</td>\n",
       "      <td>electric (not specified)</td>\n",
       "      <td>not specified</td>\n",
       "      <td>tircp_project_tracking</td>\n",
       "      <td>3522090</td>\n",
       "      <td>2.214063</td>\n",
       "    </tr>\n",
       "    <tr>\n",
       "      <th>109</th>\n",
       "      <td>109</td>\n",
       "      <td>Lake Transit Authority (LTA)</td>\n",
       "      <td>North State Intercity Bus System</td>\n",
       "      <td>12994000</td>\n",
       "      <td>4.0</td>\n",
       "      <td>FCEB</td>\n",
       "      <td>not specified</td>\n",
       "      <td>tircp_project_tracking</td>\n",
       "      <td>3248500</td>\n",
       "      <td>1.970596</td>\n",
       "    </tr>\n",
       "    <tr>\n",
       "      <th>21</th>\n",
       "      <td>21</td>\n",
       "      <td>Honolulu Department of Transportation Services</td>\n",
       "      <td>Honolulu Zero Emission Bus Deployment Project</td>\n",
       "      <td>20000000</td>\n",
       "      <td>7.0</td>\n",
       "      <td>electric (not specified)</td>\n",
       "      <td>not specified</td>\n",
       "      <td>fta_press_release</td>\n",
       "      <td>2857142</td>\n",
       "      <td>1.622328</td>\n",
       "    </tr>\n",
       "  </tbody>\n",
       "</table>\n",
       "</div>"
      ],
      "text/plain": [
       "     Unnamed: 0                                        agency_name  \\\n",
       "12           12  Charleston Area Regional Transportation Authority   \n",
       "2             2             New Orleans Regional Transit Authority   \n",
       "120         120                   Humboldt Transit Authority (HTA)   \n",
       "109         109                       Lake Transit Authority (LTA)   \n",
       "21           21     Honolulu Department of Transportation Services   \n",
       "\n",
       "                                         project_title  project_award_amount  \\\n",
       "12   CARTA Shipwatch Square Transit and Workforce C...              25906730   \n",
       "2    Accelerating Zero-Emissions Mobility for a Res...              71439261   \n",
       "120  Expanding Transit Services and Introducing Zer...              38743000   \n",
       "109                   North State Intercity Bus System              12994000   \n",
       "21       Honolulu Zero Emission Bus Deployment Project              20000000   \n",
       "\n",
       "     bus_count                          prop_type  bus_size_type  \\\n",
       "12         7.0           electric (not specified)  not specified   \n",
       "2         20.0  zero-emission bus (not specified)  not specified   \n",
       "120       11.0           electric (not specified)  not specified   \n",
       "109        4.0                               FCEB  not specified   \n",
       "21         7.0           electric (not specified)  not specified   \n",
       "\n",
       "                     source  cost_per_bus  zscore_cost_per_bus  \n",
       "12        fta_press_release       3700961             2.373239  \n",
       "2         fta_press_release       3571963             2.258445  \n",
       "120  tircp_project_tracking       3522090             2.214063  \n",
       "109  tircp_project_tracking       3248500             1.970596  \n",
       "21        fta_press_release       2857142             1.622328  "
      ]
     },
     "execution_count": 51,
     "metadata": {},
     "output_type": "execute_result"
    }
   ],
   "source": [
    "filtered.sort_values(by=\"zscore_cost_per_bus\", ascending=False).head()"
   ]
  },
  {
   "cell_type": "markdown",
   "id": "eaf73856-2e5b-48be-9107-a8ca97b22f1f",
   "metadata": {
    "tags": []
   },
   "source": [
    "## Stats Analysis"
   ]
  },
  {
   "cell_type": "code",
   "execution_count": 56,
   "id": "8afb8e45-27dc-4535-9ea0-7182ba7e66bf",
   "metadata": {},
   "outputs": [],
   "source": [
    "cpb_mean = filtered.cost_per_bus.mean()\n",
    "cpb_std = filtered.cost_per_bus.std()"
   ]
  },
  {
   "cell_type": "code",
   "execution_count": 57,
   "id": "05613c40-1c43-4012-b361-0a6d1682fc63",
   "metadata": {},
   "outputs": [
    {
     "data": {
      "text/plain": [
       "(932164.8702290077, 735398.2780645975)"
      ]
     },
     "execution_count": 57,
     "metadata": {},
     "output_type": "execute_result"
    }
   ],
   "source": [
    "cpb_mean, cpb_std"
   ]
  },
  {
   "cell_type": "markdown",
   "id": "88f21124-6b2e-4e3c-b5f2-4d7bfca8b1f5",
   "metadata": {
    "tags": []
   },
   "source": [
    "## Summary"
   ]
  },
  {
   "cell_type": "code",
   "execution_count": null,
   "id": "1426b90a-d19c-47d6-9aa0-ee2098264328",
   "metadata": {
    "jupyter": {
     "source_hidden": true
    },
    "tags": []
   },
   "outputs": [],
   "source": [
    "all_bus.columns"
   ]
  },
  {
   "cell_type": "code",
   "execution_count": 66,
   "id": "1cb3ff5d-fa12-4e28-982d-96a0143a2b0f",
   "metadata": {
    "jupyter": {
     "source_hidden": true
    },
    "tags": []
   },
   "outputs": [],
   "source": [
    "# Variables\n",
    "total_unique_projects = len(all_bus)\n",
    "total_bus_count = sum(all_bus.bus_count)\n",
    "total_funding = sum(all_bus.project_award_amount)\n",
    "min_bus_cost = all_bus.cost_per_bus.min()\n",
    "max_bus_cost = all_bus.cost_per_bus.max()\n",
    "max_bus_count = all_bus.bus_count.max()\n",
    "\n",
    "cpb_mean = filtered.cost_per_bus.mean()\n",
    "cpb_std = filtered.cost_per_bus.std()\n",
    "\n",
    "agency_with_most_bus = all_bus.loc[all_bus[\"bus_count\"].idxmax(), \"agency_name\"]\n",
    "# how many buses do they have? already answered\n",
    "agency_with_highest_funds = all_bus.loc[\n",
    "    all_bus[\"project_award_amount\"].idxmax(), \"agency_name\"\n",
    "]\n",
    "# what is the highest amount? already answered\n",
    "agency_max_cpb = all_bus.loc[all_bus[\"cost_per_bus\"].idxmax(), \"agency_name\"]\n",
    "agency_min_cpb = all_bus.loc[all_bus[\"cost_per_bus\"].idxmin(), \"agency_name\"]"
   ]
  },
  {
   "cell_type": "code",
   "execution_count": 67,
   "id": "17f4e102-c684-4892-8fa0-0f21e5249ef1",
   "metadata": {
    "jupyter": {
     "source_hidden": true
    },
    "tags": []
   },
   "outputs": [],
   "source": [
    "summary = f\"\"\"\n",
    "As of today, data was scraped from mutltiple sources:\n",
    "    1. FTA Bus and Low- and No-Emission Grant Awards press release (federaly funded, nationwide data)\n",
    "    2. TIRCP project data (state-funded, California only)\n",
    "    \n",
    "Data from DGS usage reports, Georgia and Washington contracts to be analyzed next.\n",
    "\n",
    "Note, some projects included additional compoments besides bus purchases (chargers, transit facilities, parts, training) which may cause project costs to increase dramaticly, whereas other projects specified only bus purcahses, and some did not include and bus purchases at all.\n",
    "\n",
    "Datasets was filtered to only include data that specificed the number of buses to purchase. The compiled data was aggregated by agencies and a 'cost per_bus' metric was calculated by dividing the total funding the agency received by the total number of buses they specify.\n",
    "\n",
    "In total:\n",
    "    - {total_unique_projects} projects with bus purchases were analyzed.\n",
    "    - ${total_funding:,.2f} was awarded to agencies for projects including bus purchases.\n",
    "    - {total_bus_count} total buses are to be purchased.\n",
    "    - The highest cost per bus for an agency was ${max_bus_cost:,.2f}, belonging too {agency_max_cpb} \n",
    "    - The lowest cost per bus for an agency was ${min_bus_cost:,.2f}, belonging too {agency_min_cpb}\n",
    "    \n",
    "\n",
    "The agency with the most buses specified was {agency_with_most_bus} with {max_bus_count} buses.\n",
    "\n",
    "After removing outliers, the following was discovered:\n",
    "    - the mean cost per bus is ${mean:,.2f}.\n",
    "    - the standard deviation is ${std_dev:,.2f}. \n",
    "\n",
    "Below are charts that summarize the data.\n",
    "\"\"\""
   ]
  },
  {
   "cell_type": "code",
   "execution_count": 68,
   "id": "619d8c20-0383-470b-b3a5-11ea9f2b5ef7",
   "metadata": {},
   "outputs": [
    {
     "name": "stdout",
     "output_type": "stream",
     "text": [
      "\n",
      "As of today, data was scraped from mutltiple sources:\n",
      "    1. FTA Bus and Low- and No-Emission Grant Awards press release (federaly funded, nationwide data)\n",
      "    2. TIRCP project data (state-funded, California only)\n",
      "    \n",
      "Data from DGS usage reports, Georgia and Washington contracts to be analyzed next.\n",
      "\n",
      "Note, some projects included additional compoments besides bus purchases (chargers, transit facilities, parts, training) which may cause project costs to increase dramaticly, whereas other projects specified only bus purcahses, and some did not include and bus purchases at all.\n",
      "\n",
      "Datasets was filtered to only include data that specificed the number of buses to purchase. The compiled data was aggregated by agencies and a 'cost per_bus' metric was calculated by dividing the total funding the agency received by the total number of buses they specify.\n",
      "\n",
      "In total:\n",
      "    - 133 projects with bus purchases were analyzed.\n",
      "    - $2,065,774,791.00 was awarded to agencies for projects including bus purchases.\n",
      "    - 2718.0 total buses are to be purchased.\n",
      "    - The highest cost per bus for an agency was $9,600,000.00, belonging too City of Torrance \n",
      "    - The lowest cost per bus for an agency was $36,250.00, belonging too Oregon Department of Transportation on behalf of Central Oregon Intergovernmental Council\n",
      "    \n",
      "\n",
      "The agency with the most buses specified was Los Angeles County Metropolitan Transportation Authority (LA Metro) with 261.0 buses.\n",
      "\n",
      "After removing outliers, the following was discovered:\n",
      "    - the mean cost per bus is $932,164.87.\n",
      "    - the standard deviation is $732,586.04. \n",
      "\n",
      "Below are charts that summarize the data.\n",
      "\n"
     ]
    }
   ],
   "source": [
    "print(summary)"
   ]
  },
  {
   "cell_type": "code",
   "execution_count": 78,
   "id": "a0a54bec-cbe4-4a8b-81d5-79ff68d8de09",
   "metadata": {},
   "outputs": [],
   "source": [
    "# chart function\n",
    "def make_chart(y_col, title):\n",
    "    filtered.sort_values(by=\"cost_per_bus\", ascending=False).head(10).plot(\n",
    "        x=\"agency_name\", y=y_col, kind=\"bar\", color=\"skyblue\"\n",
    "    )\n",
    "    plt.title(title)\n",
    "    plt.xlabel(\"Transit Agnecies\")\n",
    "    plt.ylabel(\"$ (million)\")\n",
    "    plt.show()"
   ]
  },
  {
   "cell_type": "code",
   "execution_count": 79,
   "id": "e21f18c5-577c-444c-ada9-c959b57c37bc",
   "metadata": {},
   "outputs": [
    {
     "data": {
      "image/png": "[encoded data removed]",
      "text/plain": [
       "<Figure size 640x480 with 1 Axes>"
      ]
     },
     "metadata": {},
     "output_type": "display_data"
    }
   ],
   "source": [
    "# highest cost per bus by agency\n",
    "make_chart('cost_per_bus','Highest cost per bus by Transit Agency')"
   ]
  },
  {
   "cell_type": "code",
   "execution_count": 77,
   "id": "d374e1c3-0df6-4acd-ab04-dfe8f013ea85",
   "metadata": {},
   "outputs": [
    {
     "data": {
      "image/png": "[encoded data removed]",
      "text/plain": [
       "<Figure size 640x480 with 1 Axes>"
      ]
     },
     "metadata": {},
     "output_type": "display_data"
    }
   ],
   "source": [
    "make_chart('bus_count', 'Highest Bus Count by Agency')\n",
    "\n",
    "# NEED TO ADJUST FUNCTION FOR VARIABLE X Y LABELS"
   ]
  },
  {
   "cell_type": "code",
   "execution_count": null,
   "id": "f440450e-1ce3-45bf-8f1c-7e774a43cbe6",
   "metadata": {},
   "outputs": [],
   "source": [
    "# COST PER BUS BY PROP TYPE\n"
   ]
  },
  {
   "cell_type": "code",
   "execution_count": null,
   "id": "bb59c791-174c-4faa-a439-2571158589d6",
   "metadata": {
    "tags": []
   },
   "outputs": [],
   "source": [
    "# bar chart of highest bus count\n",
    "concat.sort_values(by=\"bus_count\", ascending=False).head(10).plot(\n",
    "    x=\"project_sponsor\", y=\"bus_count\", kind=\"bar\", color=\"skyblue\"\n",
    ")\n",
    "plt.title(\"Top 10 Agencies with most bus count\")\n",
    "plt.xlabel(\"Transit Agnecies\")\n",
    "plt.ylabel(\"# of buses\")\n",
    "plt.show()"
   ]
  },
  {
   "cell_type": "code",
   "execution_count": 80,
   "id": "50720d96-faa4-49f6-b940-a5a497325d0d",
   "metadata": {
    "tags": []
   },
   "outputs": [
    {
     "data": {
      "image/png": "[encoded data removed]",
      "text/plain": [
       "<Figure size 640x480 with 1 Axes>"
      ]
     },
     "metadata": {},
     "output_type": "display_data"
    }
   ],
   "source": [
    "# distribution curve of cost per bus. no outliers\n",
    "sns.histplot(filtered[\"cost_per_bus\"], kde=True, color=\"skyblue\", bins=20)\n",
    "plt.axvline(\n",
    "    mean, color=\"red\", linestyle=\"dashed\", linewidth=2, label=f\"Mean: ${mean:,.2f}\"\n",
    ")\n",
    "plt.axvline(\n",
    "    mean + std_dev,\n",
    "    color=\"green\",\n",
    "    linestyle=\"dashed\",\n",
    "    linewidth=2,\n",
    "    label=f\"Standard Deviation: ${std_dev:,.2f}\",\n",
    ")\n",
    "plt.axvline(mean - std_dev, color=\"green\", linestyle=\"dashed\", linewidth=2)\n",
    "plt.axvline(mean + std_dev * 2, color=\"green\", linestyle=\"dashed\", linewidth=2)\n",
    "plt.axvline(mean + std_dev * 3, color=\"green\", linestyle=\"dashed\", linewidth=2)\n",
    "\n",
    "plt.title(\"Cost Per Bus Distribution with Mean and Standard Deviation\")\n",
    "plt.xlabel(\"cost per bus ($ million(s))\")\n",
    "plt.ylabel(\"Frequency\")\n",
    "plt.legend()\n",
    "plt.show()"
   ]
  },
  {
   "cell_type": "code",
   "execution_count": 81,
   "id": "fe7a6649-64d0-4838-8c31-0facd96a5462",
   "metadata": {
    "tags": []
   },
   "outputs": [
    {
     "data": {
      "image/png": "[encoded data removed]",
      "text/plain": [
       "<Figure size 640x480 with 1 Axes>"
      ]
     },
     "metadata": {},
     "output_type": "display_data"
    }
   ],
   "source": [
    "# distribution curve of zscore\n",
    "sns.histplot(filtered[\"zscore_cost_per_bus\"], kde=True, color=\"skyblue\", bins=20)\n",
    "# plt.axvline(mean2, color='red', linestyle='dashed', linewidth=2, label=f'Mean: {mean2:.2f}')\n",
    "# plt.axvline(mean2 + std_dev2, color='green', linestyle='dashed', linewidth=2, label=f'Standard Deviation: {std_dev2:,.2f}')\n",
    "# plt.axvline(mean2 - std_dev2, color='green', linestyle='dashed', linewidth=2)\n",
    "# plt.axvline(mean2 + (std_dev2*2), color='green', linestyle='dashed', linewidth=2)\n",
    "# plt.axvline(mean2 + (std_dev2*3), color='green', linestyle='dashed', linewidth=2)\n",
    "# plt.axvline(mean2 - (std_dev2*2), color='green', linestyle='dashed', linewidth=2)\n",
    "# plt.axvline(mean2 - (std_dev2*3), color='green', linestyle='dashed', linewidth=2)\n",
    "\n",
    "plt.title(\"Cost Per Bus Z-Score Distribution\")\n",
    "plt.xlabel(\"zscore cost per bus\")\n",
    "plt.ylabel(\"Frequency\")\n",
    "plt.show()"
   ]
  },
  {
   "cell_type": "code",
   "execution_count": null,
   "id": "7776e9cc-e750-4b8e-8352-a43bd448e7b4",
   "metadata": {},
   "outputs": [],
   "source": []
  }
 ],
 "metadata": {
  "kernelspec": {
   "display_name": "Python 3 (ipykernel)",
   "language": "python",
   "name": "python3"
  },
  "language_info": {
   "codemirror_mode": {
    "name": "ipython",
    "version": 3
   },
   "file_extension": ".py",
   "mimetype": "text/x-python",
   "name": "python",
   "nbconvert_exporter": "python",
   "pygments_lexer": "ipython3",
   "version": "3.9.13"
  }
 },
 "nbformat": 4,
 "nbformat_minor": 5
}
