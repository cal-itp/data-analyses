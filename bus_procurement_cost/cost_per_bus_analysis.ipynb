{
 "cells": [
  {
   "cell_type": "code",
   "execution_count": 1,
   "id": "da041e43-e8e2-4d4b-a498-10a7c0afe43f",
   "metadata": {
    "tags": []
   },
   "outputs": [],
   "source": [
    "import matplotlib.pyplot as plt\n",
    "import numpy as np\n",
    "import pandas as pd\n",
    "import seaborn as sns\n",
    "import shared_utils\n",
    "from bus_cost_utils import *\n",
    "from cost_per_bus_nb_scripts import *\n",
    "from IPython.display import Markdown, display\n",
    "from matplotlib.ticker import ScalarFormatter\n",
    "from scipy.stats import zscore\n",
    "from IPython.display import Markdown, display"
   ]
  },
  {
   "cell_type": "code",
   "execution_count": 2,
   "id": "d53376d9-d4b4-48b7-9916-5b9f633fbaf0",
   "metadata": {},
   "outputs": [],
   "source": [
    "merged_data = pd.read_parquet(f'{GCS_PATH}cleaned_no_outliers_cpb_analysis_data_merge.parquet')"
   ]
  },
  {
   "cell_type": "code",
   "execution_count": 3,
   "id": "a45f2d3d-a600-4fe6-80cf-6b887036faab",
   "metadata": {},
   "outputs": [],
   "source": [
    "# for subsetting ZEB and nonZEB\n",
    "zeb_list =[\n",
    "    \"BEB\",\n",
    "    \"FCEB\",\n",
    "    \"electric (not specified)\",\n",
    "    \"zero-emission bus (not specified)\",\n",
    "]\n",
    "\n",
    "non_zeb_list =[\n",
    "    \"CNG\",\n",
    "    \"ethanol\",\n",
    "    \"low emission (hybrid)\",\n",
    "    \"low emission (propane)\",\n",
    "    \"mix (zero and low emission)\",\n",
    "]"
   ]
  },
  {
   "cell_type": "code",
   "execution_count": 4,
   "id": "8ac40482-ba3e-4fde-8c05-806e3725de44",
   "metadata": {},
   "outputs": [],
   "source": [
    "# means and standard deviations\n",
    "# for graphs\n",
    "cpb_mean = merged_data[\"cost_per_bus\"].mean()\n",
    "cpb_std = merged_data[\"cost_per_bus\"].std()\n",
    "\n",
    "#testing weighted average calculation for sub-set non-zeb and zeb\n",
    "zeb_cpb_wt_avg = (merged_data[merged_data[\"prop_type\"].isin(zeb_list)][\"total_cost\"].sum() / merged_data[merged_data[\"prop_type\"].isin(zeb_list)][\"bus_count\"].sum())\n",
    "non_zeb_cpb_wt_avg = (merged_data[merged_data[\"prop_type\"].isin(non_zeb_list)][\"total_cost\"].sum() / merged_data[merged_data[\"prop_type\"].isin(non_zeb_list)][\"bus_count\"].sum())"
   ]
  },
  {
   "cell_type": "code",
   "execution_count": 5,
   "id": "d450fd60-cced-453b-b20b-62cdade0d7a6",
   "metadata": {},
   "outputs": [],
   "source": [
    "def new_cpb_aggregate(df: pd.DataFrame, column=\"transit_agency\") -> pd.DataFrame:\n",
    "    \"\"\"\n",
    "    function to aggregate compiled data by different categories:\n",
    "        \"transit agency\", \n",
    "        \"propulsion type\", \n",
    "        \"bus_size_type\",\n",
    "        \"new_project_type\"\n",
    "    aggregate on columns:\n",
    "        \"project_title\"\n",
    "        \"ppno\"\n",
    "        \"total_cost\"\n",
    "        \"bus_count\"\n",
    "        \n",
    "    Then, cost per bus is calculated AFTER the aggregation.\n",
    "    \"\"\"\n",
    "    df_agg = (\n",
    "        df.groupby(column)\n",
    "        .agg(\n",
    "            total_project_count=(\"project_title\", \"count\"),\n",
    "            total_project_count_ppno=(\"ppno\", \"count\"),\n",
    "            total_agg_cost=(\"total_cost\", \"sum\"),\n",
    "            total_bus_count=(\"bus_count\", \"sum\"),\n",
    "            #new_prop_type=(\"prop_type\",\"max\")\n",
    "        )\n",
    "        .reset_index()\n",
    "    )\n",
    "    df_agg[\"new_cost_per_bus\"] = (df_agg[\"total_agg_cost\"] / df_agg[\"total_bus_count\"]).astype(\"int64\")\n",
    "    \n",
    "    #calculate zscore\n",
    "    df_agg[\"new_zscore_cost_per_bus\"] = zscore(df_agg[\"new_cost_per_bus\"])\n",
    "    \n",
    "    #flag outliers\n",
    "    df_agg[\"new_is_cpb_outlier?\"] = df_agg[\"new_zscore_cost_per_bus\"].apply(outlier_flag)\n",
    "    \n",
    "    return df_agg"
   ]
  },
  {
   "cell_type": "code",
   "execution_count": 6,
   "id": "9a6a7ecf-5180-4691-84fe-23aa68cdae93",
   "metadata": {},
   "outputs": [],
   "source": [
    "def make_chart(y_col: str, title: str, data: pd.DataFrame, x_col: str):\n",
    "    \"\"\"\n",
    "    function to create chart. sorts values by y_col ascending.\"\"\"\n",
    "    \n",
    "    data.sort_values(by=y_col, ascending=False).head(10).plot(\n",
    "        x=x_col, y=y_col, kind=\"bar\", color=\"skyblue\"\n",
    "    )\n",
    "    plt.title(title)\n",
    "    plt.xlabel(x_col)\n",
    "    plt.ylabel(y_col)\n",
    "\n",
    "    plt.ticklabel_format(style=\"plain\", axis=\"y\")\n",
    "    plt.show()"
   ]
  },
  {
   "cell_type": "code",
   "execution_count": 7,
   "id": "44d21201-223f-4e6c-b238-b72fba984544",
   "metadata": {},
   "outputs": [],
   "source": [
    "def dist_curve(\n",
    "    df: pd.DataFrame,\n",
    "    mean: str,\n",
    "    std: str,\n",
    "    title: str,\n",
    "    xlabel: str,\n",
    "):\n",
    "    \"\"\"\n",
    "    function to make distribution curve. uses the \"cpb\" column of the df.\n",
    "    \"\"\"\n",
    "    sns.histplot(df[\"cost_per_bus\"], kde=True, color=\"skyblue\", bins=20)\n",
    "    # mean line\n",
    "    plt.axvline(\n",
    "        mean, color=\"red\", linestyle=\"dashed\", linewidth=2, label=f\"Mean: ${mean:,.2f}\"\n",
    "    )\n",
    "    # mean+1std\n",
    "    plt.axvline(\n",
    "        mean + std,\n",
    "        color=\"green\",\n",
    "        linestyle=\"dashed\",\n",
    "        linewidth=2,\n",
    "        label=f\"Standard Deviation: ${std:,.2f}\",\n",
    "    )\n",
    "    plt.axvline(mean - std, color=\"green\", linestyle=\"dashed\", linewidth=2)\n",
    "    plt.axvline(mean + (std * 2), color=\"green\", linestyle=\"dashed\", linewidth=2)\n",
    "    plt.axvline(mean + (std * 3), color=\"green\", linestyle=\"dashed\", linewidth=2)\n",
    "\n",
    "    plt.title(title + \" with Mean and Standard Deviation\")\n",
    "    plt.xlabel(xlabel)\n",
    "    plt.ylabel(\"Frequency\")\n",
    "\n",
    "    # Turn off scientific notation on x-axis?\n",
    "    plt.gca().xaxis.set_major_formatter(ScalarFormatter(useMathText=False))\n",
    "\n",
    "    plt.legend()\n",
    "    plt.show()\n",
    "\n",
    "    return"
   ]
  },
  {
   "cell_type": "code",
   "execution_count": 8,
   "id": "067a14a5-5c77-4914-82a8-c5eeb170cb08",
   "metadata": {},
   "outputs": [],
   "source": [
    "# aggregating by big categories\n",
    "agg_agency = new_cpb_aggregate(merged_data)\n",
    "agg_prop = new_cpb_aggregate(merged_data, column=\"prop_type\")\n",
    "agg_bus_size = new_cpb_aggregate(merged_data, column=\"bus_size_type\")\n",
    "agg_source = new_cpb_aggregate(merged_data, column=\"source\")"
   ]
  },
  {
   "cell_type": "code",
   "execution_count": 9,
   "id": "49a97d01-b17e-475c-b351-67426f3741d9",
   "metadata": {},
   "outputs": [],
   "source": [
    "# subsetting ZEB and nonZEB data\n",
    "zeb_projects = merged_data[merged_data[\"prop_type\"].isin(zeb_list)]\n",
    "\n",
    "non_zeb_projects = merged_data[merged_data[\"prop_type\"].isin(non_zeb_list)]"
   ]
  },
  {
   "cell_type": "code",
   "execution_count": 11,
   "id": "4faaa4ad-b16c-4e6b-87c7-d12f7e7db3c6",
   "metadata": {},
   "outputs": [],
   "source": [
    "#pivot table to get totals for each prop type\n",
    "\n",
    "pivot_prop_type = pd.pivot_table(\n",
    "    merged_data,\n",
    "    values = [\"bus_count\", \"total_cost\"],\n",
    "    index = \"prop_type\",\n",
    "    aggfunc = \"sum\",\n",
    "    margins = True,\n",
    "    margins_name = \"Grand Total\"\n",
    ").reset_index()\n",
    "pivot_prop_type[\"cost_per_bus\"] = (pivot_prop_type[\"total_cost\"] / pivot_prop_type[\"bus_count\"]).astype(\"int64\")"
   ]
  },
  {
   "cell_type": "code",
   "execution_count": 12,
   "id": "b8535e97-e7bf-4d7e-b718-24c5758b0ccd",
   "metadata": {},
   "outputs": [],
   "source": [
    "#pivot for ZEB data\n",
    "\n",
    "pivot_zeb_prop = pd.pivot_table(\n",
    "    #filted incoming DF for zeb prop types\n",
    "    zeb_projects,\n",
    "    values = [\"bus_count\", \"total_cost\"],\n",
    "    index = \"prop_type\",\n",
    "    aggfunc = \"sum\",\n",
    "    margins = True,\n",
    "    margins_name = \"Grand Total\"\n",
    ").reset_index()              \n",
    "\n",
    "pivot_zeb_prop[\"cost_per_bus\"] = (pivot_zeb_prop[\"total_cost\"] / pivot_zeb_prop[\"bus_count\"]).astype(\"int64\")"
   ]
  },
  {
   "cell_type": "code",
   "execution_count": 13,
   "id": "829e38c9-3f9b-4e82-92a8-c86f81051580",
   "metadata": {},
   "outputs": [],
   "source": [
    "#pivot for non-ZEB data\n",
    "\n",
    "pivot_non_zeb_prop = pd.pivot_table(\n",
    "    #filted incoming DF for non-zeb prop types\n",
    "    non_zeb_projects,\n",
    "    values = [\"bus_count\", \"total_cost\"],\n",
    "    index = \"prop_type\",\n",
    "    aggfunc = \"sum\",\n",
    "    margins = True,\n",
    "    margins_name = \"Grand Total\"\n",
    ").reset_index()\n",
    "\n",
    "pivot_non_zeb_prop[\"cost_per_bus\"] = (pivot_non_zeb_prop[\"total_cost\"] / pivot_non_zeb_prop[\"bus_count\"]).astype(\"int64\")"
   ]
  },
  {
   "cell_type": "code",
   "execution_count": 14,
   "id": "0a2163e3-dac1-4e64-a551-3dc961e44714",
   "metadata": {},
   "outputs": [],
   "source": [
    "# pivot for bus sizes\n",
    "\n",
    "pivot_size = pd.pivot_table(\n",
    "    merged_data,\n",
    "    values = [\"bus_count\", \"total_cost\"],\n",
    "    index = \"bus_size_type\",\n",
    "    aggfunc = \"sum\",\n",
    "    margins = True,\n",
    "    margins_name = \"Grand Total\"\n",
    ").reset_index()\n",
    "\n",
    "pivot_size[\"cost_per_bus\"] = (pivot_size[\"total_cost\"] / pivot_size[\"bus_count\"]).astype(\"int64\")"
   ]
  },
  {
   "cell_type": "code",
   "execution_count": 15,
   "id": "074acb8d-de54-43a0-b243-a070ecfbe1ce",
   "metadata": {},
   "outputs": [],
   "source": [
    "#pivot for data soruces\n",
    "pivot_source = pd.pivot_table(\n",
    "    merged_data,\n",
    "    values = [\"bus_count\", \"total_cost\"],\n",
    "    index = \"source\",\n",
    "    aggfunc = \"sum\",\n",
    "    margins = True,\n",
    "    margins_name = \"Grand Total\"\n",
    ").reset_index()\n",
    "\n",
    "pivot_source[\"cost_per_bus\"] = (pivot_source[\"total_cost\"] / pivot_source[\"bus_count\"]).astype(\"int64\")"
   ]
  },
  {
   "cell_type": "code",
   "execution_count": null,
   "id": "d8356953-e32d-47ab-b67c-fa016cad9c50",
   "metadata": {},
   "outputs": [],
   "source": [
    "# new summary\n",
    "\n",
    "new_summary = f\"\"\"\n",
    "\n",
    "# Bus Procurement Cost Analysis\n",
    "\n",
    "## Summary\n",
    "This analysis examines the cost of buses for transit agencies across the county. Specifically, to observe the variation of bus cost for propulsion type and bus sizes.\n",
    "\n",
    "Data was compiled from three data sources:\n",
    "1. FTA Bus and Low- and No-Emission Grant Awards press release (federally funded, nationwide data)\n",
    "2. TIRCP project data (state-funded, California only)\n",
    "3. DGS usage report for all procurements from California agencies purchasing from New Flyer and Portera Inc.. \n",
    "\n",
    "The initial dataset contained close to 300 projects, but was paired down due to projects including components other than buses. Examples include: projects that constructed new facilities, trainings or other non-bus related items like trains and sea farries were excluded.\n",
    "The resulting dataset only contained projects that were solely used to procure buses. \n",
    "\n",
    "{len(merged_data)} projects were determined to contain solely bus purchases. \n",
    "These projects were aggregated against propulsion type and bus size type, and categorized by ZEB and non-ZEB.\n",
    "\n",
    "\n",
    "Breakdown of each data souce:\n",
    "{pivot_source.to_markdown(index=False)}\n",
    "\n",
    "\n",
    "**ZEB buses include:**\n",
    "- zero-emission (not specified) \n",
    "- electric (not specified)\n",
    "- battery electric \n",
    "- fuel cell electric\n",
    "\n",
    "**Non-ZEB buses include:**\n",
    "- CNG \n",
    "- ethanol \n",
    "- ow emission (hybrid, propane) \n",
    "- diesel \n",
    "- gas\n",
    "\n",
    "Below are charts and tables that summarize the findings.\n",
    "\n",
    "\"\"\"\n",
    "display(Markdown(new_summary))"
   ]
  },
  {
   "cell_type": "code",
   "execution_count": 16,
   "id": "676cbd9a-db4b-4e86-b60b-900f14513468",
   "metadata": {},
   "outputs": [
    {
     "data": {
      "text/markdown": [
       "**ZEB Summary**"
      ],
      "text/plain": [
       "<IPython.core.display.Markdown object>"
      ]
     },
     "metadata": {},
     "output_type": "display_data"
    },
    {
     "data": {
      "text/html": [
       "<div>\n",
       "<style scoped>\n",
       "    .dataframe tbody tr th:only-of-type {\n",
       "        vertical-align: middle;\n",
       "    }\n",
       "\n",
       "    .dataframe tbody tr th {\n",
       "        vertical-align: top;\n",
       "    }\n",
       "\n",
       "    .dataframe thead th {\n",
       "        text-align: right;\n",
       "    }\n",
       "</style>\n",
       "<table border=\"1\" class=\"dataframe\">\n",
       "  <thead>\n",
       "    <tr style=\"text-align: right;\">\n",
       "      <th></th>\n",
       "      <th>prop_type</th>\n",
       "      <th>bus_count</th>\n",
       "      <th>total_cost</th>\n",
       "      <th>cost_per_bus</th>\n",
       "    </tr>\n",
       "  </thead>\n",
       "  <tbody>\n",
       "    <tr>\n",
       "      <th>0</th>\n",
       "      <td>BEB</td>\n",
       "      <td>163.0</td>\n",
       "      <td>167232489</td>\n",
       "      <td>1025966</td>\n",
       "    </tr>\n",
       "    <tr>\n",
       "      <th>1</th>\n",
       "      <td>FCEB</td>\n",
       "      <td>102.0</td>\n",
       "      <td>120951335</td>\n",
       "      <td>1185797</td>\n",
       "    </tr>\n",
       "    <tr>\n",
       "      <th>2</th>\n",
       "      <td>electric (not specified)</td>\n",
       "      <td>44.0</td>\n",
       "      <td>56678000</td>\n",
       "      <td>1288136</td>\n",
       "    </tr>\n",
       "    <tr>\n",
       "      <th>3</th>\n",
       "      <td>zero-emission bus (not specified)</td>\n",
       "      <td>143.0</td>\n",
       "      <td>128156513</td>\n",
       "      <td>896199</td>\n",
       "    </tr>\n",
       "    <tr>\n",
       "      <th>4</th>\n",
       "      <td>Grand Total</td>\n",
       "      <td>452.0</td>\n",
       "      <td>473018337</td>\n",
       "      <td>1046500</td>\n",
       "    </tr>\n",
       "  </tbody>\n",
       "</table>\n",
       "</div>"
      ],
      "text/plain": [
       "                           prop_type  bus_count  total_cost  cost_per_bus\n",
       "0                                BEB      163.0   167232489       1025966\n",
       "1                               FCEB      102.0   120951335       1185797\n",
       "2           electric (not specified)       44.0    56678000       1288136\n",
       "3  zero-emission bus (not specified)      143.0   128156513        896199\n",
       "4                        Grand Total      452.0   473018337       1046500"
      ]
     },
     "metadata": {},
     "output_type": "display_data"
    },
    {
     "data": {
      "text/markdown": [
       "**Non-ZEB Summary**"
      ],
      "text/plain": [
       "<IPython.core.display.Markdown object>"
      ]
     },
     "metadata": {},
     "output_type": "display_data"
    },
    {
     "data": {
      "text/html": [
       "<div>\n",
       "<style scoped>\n",
       "    .dataframe tbody tr th:only-of-type {\n",
       "        vertical-align: middle;\n",
       "    }\n",
       "\n",
       "    .dataframe tbody tr th {\n",
       "        vertical-align: top;\n",
       "    }\n",
       "\n",
       "    .dataframe thead th {\n",
       "        text-align: right;\n",
       "    }\n",
       "</style>\n",
       "<table border=\"1\" class=\"dataframe\">\n",
       "  <thead>\n",
       "    <tr style=\"text-align: right;\">\n",
       "      <th></th>\n",
       "      <th>prop_type</th>\n",
       "      <th>bus_count</th>\n",
       "      <th>total_cost</th>\n",
       "      <th>cost_per_bus</th>\n",
       "    </tr>\n",
       "  </thead>\n",
       "  <tbody>\n",
       "    <tr>\n",
       "      <th>0</th>\n",
       "      <td>CNG</td>\n",
       "      <td>252.0</td>\n",
       "      <td>176039140</td>\n",
       "      <td>698568</td>\n",
       "    </tr>\n",
       "    <tr>\n",
       "      <th>1</th>\n",
       "      <td>ethanol</td>\n",
       "      <td>9.0</td>\n",
       "      <td>1006750</td>\n",
       "      <td>111861</td>\n",
       "    </tr>\n",
       "    <tr>\n",
       "      <th>2</th>\n",
       "      <td>low emission (hybrid)</td>\n",
       "      <td>145.0</td>\n",
       "      <td>91824361</td>\n",
       "      <td>633271</td>\n",
       "    </tr>\n",
       "    <tr>\n",
       "      <th>3</th>\n",
       "      <td>low emission (propane)</td>\n",
       "      <td>44.0</td>\n",
       "      <td>8403969</td>\n",
       "      <td>190999</td>\n",
       "    </tr>\n",
       "    <tr>\n",
       "      <th>4</th>\n",
       "      <td>mix (zero and low emission)</td>\n",
       "      <td>125.0</td>\n",
       "      <td>36775430</td>\n",
       "      <td>294203</td>\n",
       "    </tr>\n",
       "    <tr>\n",
       "      <th>5</th>\n",
       "      <td>Grand Total</td>\n",
       "      <td>575.0</td>\n",
       "      <td>314049650</td>\n",
       "      <td>546173</td>\n",
       "    </tr>\n",
       "  </tbody>\n",
       "</table>\n",
       "</div>"
      ],
      "text/plain": [
       "                     prop_type  bus_count  total_cost  cost_per_bus\n",
       "0                          CNG      252.0   176039140        698568\n",
       "1                      ethanol        9.0     1006750        111861\n",
       "2        low emission (hybrid)      145.0    91824361        633271\n",
       "3       low emission (propane)       44.0     8403969        190999\n",
       "4  mix (zero and low emission)      125.0    36775430        294203\n",
       "5                  Grand Total      575.0   314049650        546173"
      ]
     },
     "metadata": {},
     "output_type": "display_data"
    },
    {
     "data": {
      "text/markdown": [
       "The remaining buses did not specify a propulsion type"
      ],
      "text/plain": [
       "<IPython.core.display.Markdown object>"
      ]
     },
     "metadata": {},
     "output_type": "display_data"
    }
   ],
   "source": [
    "#summary stuff\n",
    "display(\n",
    "    Markdown(\"**ZEB Summary**\"),\n",
    "    pivot_zeb_prop,\n",
    "    \n",
    "    Markdown(\"**Non-ZEB Summary**\"),\n",
    "    pivot_non_zeb_prop,\n",
    "    \n",
    "    Markdown(\"The remaining buses did not specify a propulsion type\")\n",
    ")"
   ]
  },
  {
   "cell_type": "code",
   "execution_count": 17,
   "id": "0158cda6-4cab-416a-bfe0-a6896d6da997",
   "metadata": {},
   "outputs": [
    {
     "data": {
      "text/markdown": [
       "**Max new_cost_per_bus**"
      ],
      "text/plain": [
       "<IPython.core.display.Markdown object>"
      ]
     },
     "metadata": {},
     "output_type": "display_data"
    },
    {
     "data": {
      "text/html": [
       "<div>\n",
       "<style scoped>\n",
       "    .dataframe tbody tr th:only-of-type {\n",
       "        vertical-align: middle;\n",
       "    }\n",
       "\n",
       "    .dataframe tbody tr th {\n",
       "        vertical-align: top;\n",
       "    }\n",
       "\n",
       "    .dataframe thead th {\n",
       "        text-align: right;\n",
       "    }\n",
       "</style>\n",
       "<table border=\"1\" class=\"dataframe\">\n",
       "  <thead>\n",
       "    <tr style=\"text-align: right;\">\n",
       "      <th></th>\n",
       "      <th>transit_agency</th>\n",
       "      <th>total_agg_cost</th>\n",
       "      <th>total_bus_count</th>\n",
       "      <th>new_cost_per_bus</th>\n",
       "    </tr>\n",
       "  </thead>\n",
       "  <tbody>\n",
       "    <tr>\n",
       "      <th>71</th>\n",
       "      <td>Transit Joint Powers Authority for Merced County</td>\n",
       "      <td>3223324</td>\n",
       "      <td>2.0</td>\n",
       "      <td>1611662</td>\n",
       "    </tr>\n",
       "  </tbody>\n",
       "</table>\n",
       "</div>"
      ],
      "text/plain": [
       "                                      transit_agency  total_agg_cost  \\\n",
       "71  Transit Joint Powers Authority for Merced County         3223324   \n",
       "\n",
       "    total_bus_count  new_cost_per_bus  \n",
       "71              2.0           1611662  "
      ]
     },
     "metadata": {},
     "output_type": "display_data"
    },
    {
     "data": {
      "text/markdown": [
       "**Min new_cost_per_bus**"
      ],
      "text/plain": [
       "<IPython.core.display.Markdown object>"
      ]
     },
     "metadata": {},
     "output_type": "display_data"
    },
    {
     "data": {
      "text/html": [
       "<div>\n",
       "<style scoped>\n",
       "    .dataframe tbody tr th:only-of-type {\n",
       "        vertical-align: middle;\n",
       "    }\n",
       "\n",
       "    .dataframe tbody tr th {\n",
       "        vertical-align: top;\n",
       "    }\n",
       "\n",
       "    .dataframe thead th {\n",
       "        text-align: right;\n",
       "    }\n",
       "</style>\n",
       "<table border=\"1\" class=\"dataframe\">\n",
       "  <thead>\n",
       "    <tr style=\"text-align: right;\">\n",
       "      <th></th>\n",
       "      <th>transit_agency</th>\n",
       "      <th>total_agg_cost</th>\n",
       "      <th>total_bus_count</th>\n",
       "      <th>new_cost_per_bus</th>\n",
       "    </tr>\n",
       "  </thead>\n",
       "  <tbody>\n",
       "    <tr>\n",
       "      <th>45</th>\n",
       "      <td>Oregon Department of Transportation on behalf ...</td>\n",
       "      <td>181250</td>\n",
       "      <td>5.0</td>\n",
       "      <td>36250</td>\n",
       "    </tr>\n",
       "  </tbody>\n",
       "</table>\n",
       "</div>"
      ],
      "text/plain": [
       "                                       transit_agency  total_agg_cost  \\\n",
       "45  Oregon Department of Transportation on behalf ...          181250   \n",
       "\n",
       "    total_bus_count  new_cost_per_bus  \n",
       "45              5.0             36250  "
      ]
     },
     "metadata": {},
     "output_type": "display_data"
    },
    {
     "data": {
      "text/markdown": [
       "**Max total_bus_count**"
      ],
      "text/plain": [
       "<IPython.core.display.Markdown object>"
      ]
     },
     "metadata": {},
     "output_type": "display_data"
    },
    {
     "data": {
      "text/html": [
       "<div>\n",
       "<style scoped>\n",
       "    .dataframe tbody tr th:only-of-type {\n",
       "        vertical-align: middle;\n",
       "    }\n",
       "\n",
       "    .dataframe tbody tr th {\n",
       "        vertical-align: top;\n",
       "    }\n",
       "\n",
       "    .dataframe thead th {\n",
       "        text-align: right;\n",
       "    }\n",
       "</style>\n",
       "<table border=\"1\" class=\"dataframe\">\n",
       "  <thead>\n",
       "    <tr style=\"text-align: right;\">\n",
       "      <th></th>\n",
       "      <th>transit_agency</th>\n",
       "      <th>total_agg_cost</th>\n",
       "      <th>total_bus_count</th>\n",
       "      <th>new_cost_per_bus</th>\n",
       "    </tr>\n",
       "  </thead>\n",
       "  <tbody>\n",
       "    <tr>\n",
       "      <th>61</th>\n",
       "      <td>South Carolina Department of Transportation on...</td>\n",
       "      <td>15423904</td>\n",
       "      <td>160.0</td>\n",
       "      <td>96399</td>\n",
       "    </tr>\n",
       "  </tbody>\n",
       "</table>\n",
       "</div>"
      ],
      "text/plain": [
       "                                       transit_agency  total_agg_cost  \\\n",
       "61  South Carolina Department of Transportation on...        15423904   \n",
       "\n",
       "    total_bus_count  new_cost_per_bus  \n",
       "61            160.0             96399  "
      ]
     },
     "metadata": {},
     "output_type": "display_data"
    },
    {
     "data": {
      "text/markdown": [
       "**Min total_bus_count**"
      ],
      "text/plain": [
       "<IPython.core.display.Markdown object>"
      ]
     },
     "metadata": {},
     "output_type": "display_data"
    },
    {
     "data": {
      "text/html": [
       "<div>\n",
       "<style scoped>\n",
       "    .dataframe tbody tr th:only-of-type {\n",
       "        vertical-align: middle;\n",
       "    }\n",
       "\n",
       "    .dataframe tbody tr th {\n",
       "        vertical-align: top;\n",
       "    }\n",
       "\n",
       "    .dataframe thead th {\n",
       "        text-align: right;\n",
       "    }\n",
       "</style>\n",
       "<table border=\"1\" class=\"dataframe\">\n",
       "  <thead>\n",
       "    <tr style=\"text-align: right;\">\n",
       "      <th></th>\n",
       "      <th>transit_agency</th>\n",
       "      <th>total_agg_cost</th>\n",
       "      <th>total_bus_count</th>\n",
       "      <th>new_cost_per_bus</th>\n",
       "    </tr>\n",
       "  </thead>\n",
       "  <tbody>\n",
       "    <tr>\n",
       "      <th>9</th>\n",
       "      <td>City of Beloit</td>\n",
       "      <td>653184</td>\n",
       "      <td>1.0</td>\n",
       "      <td>653184</td>\n",
       "    </tr>\n",
       "    <tr>\n",
       "      <th>16</th>\n",
       "      <td>City of San Luis Obispo</td>\n",
       "      <td>859270</td>\n",
       "      <td>1.0</td>\n",
       "      <td>859270</td>\n",
       "    </tr>\n",
       "    <tr>\n",
       "      <th>49</th>\n",
       "      <td>SLO TRANSIT (SAN LUIS OBISPO, CA)</td>\n",
       "      <td>847214</td>\n",
       "      <td>1.0</td>\n",
       "      <td>847214</td>\n",
       "    </tr>\n",
       "  </tbody>\n",
       "</table>\n",
       "</div>"
      ],
      "text/plain": [
       "                       transit_agency  total_agg_cost  total_bus_count  \\\n",
       "9                      City of Beloit          653184              1.0   \n",
       "16            City of San Luis Obispo          859270              1.0   \n",
       "49  SLO TRANSIT (SAN LUIS OBISPO, CA)          847214              1.0   \n",
       "\n",
       "    new_cost_per_bus  \n",
       "9             653184  \n",
       "16            859270  \n",
       "49            847214  "
      ]
     },
     "metadata": {},
     "output_type": "display_data"
    },
    {
     "data": {
      "text/markdown": [
       "**Max total_agg_cost**"
      ],
      "text/plain": [
       "<IPython.core.display.Markdown object>"
      ]
     },
     "metadata": {},
     "output_type": "display_data"
    },
    {
     "data": {
      "text/html": [
       "<div>\n",
       "<style scoped>\n",
       "    .dataframe tbody tr th:only-of-type {\n",
       "        vertical-align: middle;\n",
       "    }\n",
       "\n",
       "    .dataframe tbody tr th {\n",
       "        vertical-align: top;\n",
       "    }\n",
       "\n",
       "    .dataframe thead th {\n",
       "        text-align: right;\n",
       "    }\n",
       "</style>\n",
       "<table border=\"1\" class=\"dataframe\">\n",
       "  <thead>\n",
       "    <tr style=\"text-align: right;\">\n",
       "      <th></th>\n",
       "      <th>transit_agency</th>\n",
       "      <th>total_agg_cost</th>\n",
       "      <th>total_bus_count</th>\n",
       "      <th>new_cost_per_bus</th>\n",
       "    </tr>\n",
       "  </thead>\n",
       "  <tbody>\n",
       "    <tr>\n",
       "      <th>24</th>\n",
       "      <td>Dallas Area Rapid Transit (DART)</td>\n",
       "      <td>103000000</td>\n",
       "      <td>90.0</td>\n",
       "      <td>1144444</td>\n",
       "    </tr>\n",
       "  </tbody>\n",
       "</table>\n",
       "</div>"
      ],
      "text/plain": [
       "                      transit_agency  total_agg_cost  total_bus_count  \\\n",
       "24  Dallas Area Rapid Transit (DART)       103000000             90.0   \n",
       "\n",
       "    new_cost_per_bus  \n",
       "24           1144444  "
      ]
     },
     "metadata": {},
     "output_type": "display_data"
    },
    {
     "data": {
      "text/markdown": [
       "**Min total_agg_cost**"
      ],
      "text/plain": [
       "<IPython.core.display.Markdown object>"
      ]
     },
     "metadata": {},
     "output_type": "display_data"
    },
    {
     "data": {
      "text/html": [
       "<div>\n",
       "<style scoped>\n",
       "    .dataframe tbody tr th:only-of-type {\n",
       "        vertical-align: middle;\n",
       "    }\n",
       "\n",
       "    .dataframe tbody tr th {\n",
       "        vertical-align: top;\n",
       "    }\n",
       "\n",
       "    .dataframe thead th {\n",
       "        text-align: right;\n",
       "    }\n",
       "</style>\n",
       "<table border=\"1\" class=\"dataframe\">\n",
       "  <thead>\n",
       "    <tr style=\"text-align: right;\">\n",
       "      <th></th>\n",
       "      <th>transit_agency</th>\n",
       "      <th>total_agg_cost</th>\n",
       "      <th>total_bus_count</th>\n",
       "      <th>new_cost_per_bus</th>\n",
       "    </tr>\n",
       "  </thead>\n",
       "  <tbody>\n",
       "    <tr>\n",
       "      <th>45</th>\n",
       "      <td>Oregon Department of Transportation on behalf ...</td>\n",
       "      <td>181250</td>\n",
       "      <td>5.0</td>\n",
       "      <td>36250</td>\n",
       "    </tr>\n",
       "  </tbody>\n",
       "</table>\n",
       "</div>"
      ],
      "text/plain": [
       "                                       transit_agency  total_agg_cost  \\\n",
       "45  Oregon Department of Transportation on behalf ...          181250   \n",
       "\n",
       "    total_bus_count  new_cost_per_bus  \n",
       "45              5.0             36250  "
      ]
     },
     "metadata": {},
     "output_type": "display_data"
    }
   ],
   "source": [
    "#min max values for all projects\n",
    "bus_min_max_summary(data=agg_agency,col1=\"new_cost_per_bus\")\n",
    "bus_min_max_summary(data=agg_agency,col1=\"total_bus_count\")\n",
    "bus_min_max_summary(data=agg_agency,col1=\"total_agg_cost\")\n"
   ]
  },
  {
   "cell_type": "code",
   "execution_count": 18,
   "id": "80dd3d1c-86f8-4c68-bdd1-8249e6494f2c",
   "metadata": {},
   "outputs": [
    {
     "data": {
      "text/markdown": [
       "**Which Agneices had the highest and lowest cost per bus?**"
      ],
      "text/plain": [
       "<IPython.core.display.Markdown object>"
      ]
     },
     "metadata": {},
     "output_type": "display_data"
    },
    {
     "data": {
      "text/markdown": [
       "**Max cost_per_bus**"
      ],
      "text/plain": [
       "<IPython.core.display.Markdown object>"
      ]
     },
     "metadata": {},
     "output_type": "display_data"
    },
    {
     "data": {
      "text/html": [
       "<div>\n",
       "<style scoped>\n",
       "    .dataframe tbody tr th:only-of-type {\n",
       "        vertical-align: middle;\n",
       "    }\n",
       "\n",
       "    .dataframe tbody tr th {\n",
       "        vertical-align: top;\n",
       "    }\n",
       "\n",
       "    .dataframe thead th {\n",
       "        text-align: right;\n",
       "    }\n",
       "</style>\n",
       "<table border=\"1\" class=\"dataframe\">\n",
       "  <thead>\n",
       "    <tr style=\"text-align: right;\">\n",
       "      <th></th>\n",
       "      <th>transit_agency</th>\n",
       "      <th>prop_type</th>\n",
       "      <th>total_cost</th>\n",
       "      <th>bus_count</th>\n",
       "      <th>cost_per_bus</th>\n",
       "    </tr>\n",
       "  </thead>\n",
       "  <tbody>\n",
       "    <tr>\n",
       "      <th>76</th>\n",
       "      <td>University of California - San Diego</td>\n",
       "      <td>BEB</td>\n",
       "      <td>4134000</td>\n",
       "      <td>2.0</td>\n",
       "      <td>2067000</td>\n",
       "    </tr>\n",
       "  </tbody>\n",
       "</table>\n",
       "</div>"
      ],
      "text/plain": [
       "                          transit_agency prop_type  total_cost  bus_count  \\\n",
       "76  University of California - San Diego       BEB     4134000        2.0   \n",
       "\n",
       "    cost_per_bus  \n",
       "76       2067000  "
      ]
     },
     "metadata": {},
     "output_type": "display_data"
    },
    {
     "data": {
      "text/markdown": [
       "**Min cost_per_bus**"
      ],
      "text/plain": [
       "<IPython.core.display.Markdown object>"
      ]
     },
     "metadata": {},
     "output_type": "display_data"
    },
    {
     "data": {
      "text/html": [
       "<div>\n",
       "<style scoped>\n",
       "    .dataframe tbody tr th:only-of-type {\n",
       "        vertical-align: middle;\n",
       "    }\n",
       "\n",
       "    .dataframe tbody tr th {\n",
       "        vertical-align: top;\n",
       "    }\n",
       "\n",
       "    .dataframe thead th {\n",
       "        text-align: right;\n",
       "    }\n",
       "</style>\n",
       "<table border=\"1\" class=\"dataframe\">\n",
       "  <thead>\n",
       "    <tr style=\"text-align: right;\">\n",
       "      <th></th>\n",
       "      <th>transit_agency</th>\n",
       "      <th>prop_type</th>\n",
       "      <th>total_cost</th>\n",
       "      <th>bus_count</th>\n",
       "      <th>cost_per_bus</th>\n",
       "    </tr>\n",
       "  </thead>\n",
       "  <tbody>\n",
       "    <tr>\n",
       "      <th>45</th>\n",
       "      <td>City of Wasco</td>\n",
       "      <td>zero-emission bus (not specified)</td>\n",
       "      <td>1543000</td>\n",
       "      <td>3.0</td>\n",
       "      <td>514333</td>\n",
       "    </tr>\n",
       "  </tbody>\n",
       "</table>\n",
       "</div>"
      ],
      "text/plain": [
       "   transit_agency                          prop_type  total_cost  bus_count  \\\n",
       "45  City of Wasco  zero-emission bus (not specified)     1543000        3.0   \n",
       "\n",
       "    cost_per_bus  \n",
       "45        514333  "
      ]
     },
     "metadata": {},
     "output_type": "display_data"
    }
   ],
   "source": [
    "## min max values of just ZEB projects\n",
    "new_cols =[\n",
    "    \"transit_agency\",\n",
    "    \"prop_type\",\n",
    "    \"total_cost\",\n",
    "    \"bus_count\",\n",
    "    \"cost_per_bus\"]\n",
    "\n",
    "display(Markdown(\"**Which Agneices had the highest and lowest cost per bus?**\")),\n",
    "bus_min_max_summary(data=zeb_projects, col1=\"cost_per_bus\", col_list=new_cols)"
   ]
  },
  {
   "cell_type": "code",
   "execution_count": 19,
   "id": "75919ab8-7f14-49f2-bb4a-9765fdddc35c",
   "metadata": {},
   "outputs": [
    {
     "data": {
      "text/markdown": [
       "**Which agency procured the most and least amount of ZEBs?**"
      ],
      "text/plain": [
       "<IPython.core.display.Markdown object>"
      ]
     },
     "metadata": {},
     "output_type": "display_data"
    },
    {
     "data": {
      "text/markdown": [
       "**Max bus_count**"
      ],
      "text/plain": [
       "<IPython.core.display.Markdown object>"
      ]
     },
     "metadata": {},
     "output_type": "display_data"
    },
    {
     "data": {
      "text/html": [
       "<div>\n",
       "<style scoped>\n",
       "    .dataframe tbody tr th:only-of-type {\n",
       "        vertical-align: middle;\n",
       "    }\n",
       "\n",
       "    .dataframe tbody tr th {\n",
       "        vertical-align: top;\n",
       "    }\n",
       "\n",
       "    .dataframe thead th {\n",
       "        text-align: right;\n",
       "    }\n",
       "</style>\n",
       "<table border=\"1\" class=\"dataframe\">\n",
       "  <thead>\n",
       "    <tr style=\"text-align: right;\">\n",
       "      <th></th>\n",
       "      <th>transit_agency</th>\n",
       "      <th>prop_type</th>\n",
       "      <th>total_cost</th>\n",
       "      <th>bus_count</th>\n",
       "      <th>cost_per_bus</th>\n",
       "    </tr>\n",
       "  </thead>\n",
       "  <tbody>\n",
       "    <tr>\n",
       "      <th>44</th>\n",
       "      <td>City of Los Angeles (LA DOT)</td>\n",
       "      <td>zero-emission bus (not specified)</td>\n",
       "      <td>102790000</td>\n",
       "      <td>112.0</td>\n",
       "      <td>917767</td>\n",
       "    </tr>\n",
       "  </tbody>\n",
       "</table>\n",
       "</div>"
      ],
      "text/plain": [
       "                  transit_agency                          prop_type  \\\n",
       "44  City of Los Angeles (LA DOT)  zero-emission bus (not specified)   \n",
       "\n",
       "    total_cost  bus_count  cost_per_bus  \n",
       "44   102790000      112.0        917767  "
      ]
     },
     "metadata": {},
     "output_type": "display_data"
    },
    {
     "data": {
      "text/markdown": [
       "**Min bus_count**"
      ],
      "text/plain": [
       "<IPython.core.display.Markdown object>"
      ]
     },
     "metadata": {},
     "output_type": "display_data"
    },
    {
     "data": {
      "text/html": [
       "<div>\n",
       "<style scoped>\n",
       "    .dataframe tbody tr th:only-of-type {\n",
       "        vertical-align: middle;\n",
       "    }\n",
       "\n",
       "    .dataframe tbody tr th {\n",
       "        vertical-align: top;\n",
       "    }\n",
       "\n",
       "    .dataframe thead th {\n",
       "        text-align: right;\n",
       "    }\n",
       "</style>\n",
       "<table border=\"1\" class=\"dataframe\">\n",
       "  <thead>\n",
       "    <tr style=\"text-align: right;\">\n",
       "      <th></th>\n",
       "      <th>transit_agency</th>\n",
       "      <th>prop_type</th>\n",
       "      <th>total_cost</th>\n",
       "      <th>bus_count</th>\n",
       "      <th>cost_per_bus</th>\n",
       "    </tr>\n",
       "  </thead>\n",
       "  <tbody>\n",
       "    <tr>\n",
       "      <th>70</th>\n",
       "      <td>SLO TRANSIT (SAN LUIS OBISPO, CA)</td>\n",
       "      <td>BEB</td>\n",
       "      <td>847214</td>\n",
       "      <td>1.0</td>\n",
       "      <td>847214</td>\n",
       "    </tr>\n",
       "    <tr>\n",
       "      <th>82</th>\n",
       "      <td>City of San Luis Obispo</td>\n",
       "      <td>BEB</td>\n",
       "      <td>859270</td>\n",
       "      <td>1.0</td>\n",
       "      <td>859270</td>\n",
       "    </tr>\n",
       "  </tbody>\n",
       "</table>\n",
       "</div>"
      ],
      "text/plain": [
       "                       transit_agency prop_type  total_cost  bus_count  \\\n",
       "70  SLO TRANSIT (SAN LUIS OBISPO, CA)       BEB      847214        1.0   \n",
       "82            City of San Luis Obispo       BEB      859270        1.0   \n",
       "\n",
       "    cost_per_bus  \n",
       "70        847214  \n",
       "82        859270  "
      ]
     },
     "metadata": {},
     "output_type": "display_data"
    }
   ],
   "source": [
    "display(Markdown(\n",
    "    \"**Which agency procured the most and least amount of ZEBs?**\"\n",
    "))\n",
    "bus_min_max_summary(data=zeb_projects, col1=\"bus_count\", col_list=new_cols)\n"
   ]
  },
  {
   "cell_type": "code",
   "execution_count": 20,
   "id": "c4f1b88e-f46c-4f69-888d-e116d2ce2ace",
   "metadata": {},
   "outputs": [
    {
     "data": {
      "text/markdown": [
       "**Which Agency had the most and least total ZEB cost?**"
      ],
      "text/plain": [
       "<IPython.core.display.Markdown object>"
      ]
     },
     "metadata": {},
     "output_type": "display_data"
    },
    {
     "data": {
      "text/markdown": [
       "**Max total_cost**"
      ],
      "text/plain": [
       "<IPython.core.display.Markdown object>"
      ]
     },
     "metadata": {},
     "output_type": "display_data"
    },
    {
     "data": {
      "text/html": [
       "<div>\n",
       "<style scoped>\n",
       "    .dataframe tbody tr th:only-of-type {\n",
       "        vertical-align: middle;\n",
       "    }\n",
       "\n",
       "    .dataframe tbody tr th {\n",
       "        vertical-align: top;\n",
       "    }\n",
       "\n",
       "    .dataframe thead th {\n",
       "        text-align: right;\n",
       "    }\n",
       "</style>\n",
       "<table border=\"1\" class=\"dataframe\">\n",
       "  <thead>\n",
       "    <tr style=\"text-align: right;\">\n",
       "      <th></th>\n",
       "      <th>transit_agency</th>\n",
       "      <th>prop_type</th>\n",
       "      <th>total_cost</th>\n",
       "      <th>bus_count</th>\n",
       "      <th>cost_per_bus</th>\n",
       "    </tr>\n",
       "  </thead>\n",
       "  <tbody>\n",
       "    <tr>\n",
       "      <th>44</th>\n",
       "      <td>City of Los Angeles (LA DOT)</td>\n",
       "      <td>zero-emission bus (not specified)</td>\n",
       "      <td>102790000</td>\n",
       "      <td>112.0</td>\n",
       "      <td>917767</td>\n",
       "    </tr>\n",
       "  </tbody>\n",
       "</table>\n",
       "</div>"
      ],
      "text/plain": [
       "                  transit_agency                          prop_type  \\\n",
       "44  City of Los Angeles (LA DOT)  zero-emission bus (not specified)   \n",
       "\n",
       "    total_cost  bus_count  cost_per_bus  \n",
       "44   102790000      112.0        917767  "
      ]
     },
     "metadata": {},
     "output_type": "display_data"
    },
    {
     "data": {
      "text/markdown": [
       "**Min total_cost**"
      ],
      "text/plain": [
       "<IPython.core.display.Markdown object>"
      ]
     },
     "metadata": {},
     "output_type": "display_data"
    },
    {
     "data": {
      "text/html": [
       "<div>\n",
       "<style scoped>\n",
       "    .dataframe tbody tr th:only-of-type {\n",
       "        vertical-align: middle;\n",
       "    }\n",
       "\n",
       "    .dataframe tbody tr th {\n",
       "        vertical-align: top;\n",
       "    }\n",
       "\n",
       "    .dataframe thead th {\n",
       "        text-align: right;\n",
       "    }\n",
       "</style>\n",
       "<table border=\"1\" class=\"dataframe\">\n",
       "  <thead>\n",
       "    <tr style=\"text-align: right;\">\n",
       "      <th></th>\n",
       "      <th>transit_agency</th>\n",
       "      <th>prop_type</th>\n",
       "      <th>total_cost</th>\n",
       "      <th>bus_count</th>\n",
       "      <th>cost_per_bus</th>\n",
       "    </tr>\n",
       "  </thead>\n",
       "  <tbody>\n",
       "    <tr>\n",
       "      <th>70</th>\n",
       "      <td>SLO TRANSIT (SAN LUIS OBISPO, CA)</td>\n",
       "      <td>BEB</td>\n",
       "      <td>847214</td>\n",
       "      <td>1.0</td>\n",
       "      <td>847214</td>\n",
       "    </tr>\n",
       "  </tbody>\n",
       "</table>\n",
       "</div>"
      ],
      "text/plain": [
       "                       transit_agency prop_type  total_cost  bus_count  \\\n",
       "70  SLO TRANSIT (SAN LUIS OBISPO, CA)       BEB      847214        1.0   \n",
       "\n",
       "    cost_per_bus  \n",
       "70        847214  "
      ]
     },
     "metadata": {},
     "output_type": "display_data"
    }
   ],
   "source": [
    "display(Markdown(\n",
    "    \"**Which Agency had the most and least total ZEB cost?**\"\n",
    "))\n",
    "bus_min_max_summary(data=zeb_projects, col1=\"total_cost\", col_list=new_cols)"
   ]
  },
  {
   "cell_type": "code",
   "execution_count": null,
   "id": "1f39733f-448e-4d3e-9981-feff4a13dbda",
   "metadata": {},
   "outputs": [],
   "source": [
    "# Charts"
   ]
  },
  {
   "cell_type": "code",
   "execution_count": null,
   "id": "d58bf288-bfaa-4373-b72b-3f9d7859775f",
   "metadata": {},
   "outputs": [],
   "source": [
    "# charts "
   ]
  },
  {
   "cell_type": "code",
   "execution_count": null,
   "id": "63f90c48-e28d-4d88-8b90-891a3e3e3681",
   "metadata": {},
   "outputs": [],
   "source": [
    "conclusion = f\"\"\"\n",
    "**Conclusion**\n",
    "\n",
    "Based on these findings, The average cost of a ZEB, throughout the US, is ~$1,000,000, roughly twice the price of a conventional, non-ZEB.\n",
    "The variance in cost depends mainly on the options the Trasnit\n",
    "Agencies chooses. Highly optioned/customized buses contribute to high cost.\n",
    "Unfortunately, analyzing the cost of configuable options is outside the scope of data provided. \n",
    "\"\"\"\n",
    "display(\n",
    "    Markdown(conclusion)\n",
    ")"
   ]
  },
  {
   "cell_type": "markdown",
   "id": "8025c84b-428f-4c40-b4d3-c969af58ce63",
   "metadata": {},
   "source": [
    "-------"
   ]
  },
  {
   "cell_type": "code",
   "execution_count": null,
   "id": "c51fe7dd-22e2-4686-b1a5-57b2f5ad8602",
   "metadata": {},
   "outputs": [],
   "source": [
    "Markdown(summary)"
   ]
  },
  {
   "cell_type": "code",
   "execution_count": null,
   "id": "4e553e15-dc1d-47d3-9818-7dec893c5294",
   "metadata": {
    "tags": []
   },
   "outputs": [],
   "source": [
    "# all bus distribution\n",
    "display(Markdown(all_bus_desc))\n",
    "\n",
    "dist_curve(\n",
    "    df=no_outliers,\n",
    "    mean=cpb_mean,\n",
    "    std=cpb_std,\n",
    "    title=\"all buses, cost per bus distribution\",\n",
    "    xlabel=\"cost per bus, $ million(s)\",\n",
    ")"
   ]
  },
  {
   "cell_type": "code",
   "execution_count": null,
   "id": "dda584ca-76fa-4e88-9b1c-f70cc438dce6",
   "metadata": {
    "tags": []
   },
   "outputs": [],
   "source": [
    "# ZEB dist curve\n",
    "display(Markdown(zeb_desc))\n",
    "\n",
    "dist_curve(\n",
    "    df=zeb_no_outliers,\n",
    "    mean=zeb_only_mean,\n",
    "    std=zeb_only_std,\n",
    "    title=\"ZEB only cost/bus Distribution\",\n",
    "    xlabel=\"cost per bus, $ million(s)\",\n",
    ")"
   ]
  },
  {
   "cell_type": "code",
   "execution_count": null,
   "id": "679d8261-85d6-4d68-9905-e4b048ebc61a",
   "metadata": {
    "tags": []
   },
   "outputs": [],
   "source": [
    "# non_zeb distribution\n",
    "display(Markdown(non_zeb_desc))\n",
    "\n",
    "dist_curve(\n",
    "    non_zeb_no_outliers,\n",
    "    non_zeb_only_mean,\n",
    "    non_zeb_only_std,\n",
    "    title=\"non-ZEB only cost/bus Distribution\",\n",
    "    xlabel='\"cost per bus, $ million(s)\"',\n",
    ")"
   ]
  },
  {
   "cell_type": "code",
   "execution_count": null,
   "id": "31c592b0-e37e-4da4-8726-36b0a1d3e6f5",
   "metadata": {
    "tags": []
   },
   "outputs": [],
   "source": [
    "# COST PER BUS BY PROP TYPE\n",
    "display(Markdown(cpb_prop_type_desc))\n",
    "make_chart(\"cpb\", \"Cost per bus by propulsion type\", x_col=\"prop_type\", data=prop_agg)"
   ]
  },
  {
   "cell_type": "code",
   "execution_count": null,
   "id": "7462b55c-29ef-4909-a7dd-27e1c84157d0",
   "metadata": {
    "tags": []
   },
   "outputs": [],
   "source": [
    "# bus count BY PROP TYPE\n",
    "display(Markdown(bus_count_prop_type_desc))\n",
    "make_chart(\n",
    "    \"total_bus_count\", \n",
    "    \"Bus count by propulsion type\",\n",
    "    x_col=\"prop_type\",\n",
    "    data=prop_agg\n",
    ")"
   ]
  },
  {
   "cell_type": "code",
   "execution_count": null,
   "id": "4f092539-c4c6-4579-aa02-fbee65414ec3",
   "metadata": {
    "tags": []
   },
   "outputs": [],
   "source": [
    "display(Markdown(conclusion))"
   ]
  },
  {
   "cell_type": "code",
   "execution_count": null,
   "id": "c6ce4e1b-c1a2-40d1-84c1-0a20a4400eb3",
   "metadata": {},
   "outputs": [],
   "source": []
  }
 ],
 "metadata": {
  "kernelspec": {
   "display_name": "Python 3 (ipykernel)",
   "language": "python",
   "name": "python3"
  },
  "language_info": {
   "codemirror_mode": {
    "name": "ipython",
    "version": 3
   },
   "file_extension": ".py",
   "mimetype": "text/x-python",
   "name": "python",
   "nbconvert_exporter": "python",
   "pygments_lexer": "ipython3",
   "version": "3.9.13"
  }
 },
 "nbformat": 4,
 "nbformat_minor": 5
}
