{
 "cells": [
  {
   "cell_type": "code",
   "execution_count": 1,
   "id": "da041e43-e8e2-4d4b-a498-10a7c0afe43f",
   "metadata": {
    "tags": []
   },
   "outputs": [],
   "source": [
    "import matplotlib.pyplot as plt\n",
    "import numpy as np\n",
    "import pandas as pd\n",
    "import seaborn as sns\n",
    "import shared_utils\n",
    "from bus_cost_utils import *\n",
    "from cost_per_bus_nb_scripts import *\n",
    "from IPython.display import Markdown, display\n",
    "from matplotlib.ticker import ScalarFormatter\n",
    "from scipy.stats import zscore\n",
    "from IPython.display import Markdown, display"
   ]
  },
  {
   "cell_type": "code",
   "execution_count": 2,
   "id": "d53376d9-d4b4-48b7-9916-5b9f633fbaf0",
   "metadata": {},
   "outputs": [],
   "source": [
    "merged_data = pd.read_parquet(f'{GCS_PATH}cleaned_no_outliers_cpb_analysis_data_merge.parquet')"
   ]
  },
  {
   "cell_type": "code",
   "execution_count": 3,
   "id": "a45f2d3d-a600-4fe6-80cf-6b887036faab",
   "metadata": {},
   "outputs": [],
   "source": [
    "# for subsetting ZEB and nonZEB\n",
    "zeb_list =[\n",
    "    \"BEB\",\n",
    "    \"FCEB\",\n",
    "    \"electric (not specified)\",\n",
    "    \"zero-emission bus (not specified)\",\n",
    "]\n",
    "\n",
    "non_zeb_list =[\n",
    "    \"CNG\",\n",
    "    \"ethanol\",\n",
    "    \"low emission (hybrid)\",\n",
    "    \"low emission (propane)\",\n",
    "    \"mix (zero and low emission)\",\n",
    "]"
   ]
  },
  {
   "cell_type": "code",
   "execution_count": 4,
   "id": "8ac40482-ba3e-4fde-8c05-806e3725de44",
   "metadata": {},
   "outputs": [],
   "source": [
    "# means and standard deviations\n",
    "# for graphs\n",
    "cpb_mean = merged_data[\"cost_per_bus\"].mean()\n",
    "cpb_std = merged_data[\"cost_per_bus\"].std()\n",
    "\n",
    "#testing weighted average calculation for sub-set non-zeb and zeb\n",
    "zeb_cpb_wt_avg = (merged_data[merged_data[\"prop_type\"].isin(zeb_list)][\"total_cost\"].sum() / merged_data[merged_data[\"prop_type\"].isin(zeb_list)][\"bus_count\"].sum())\n",
    "non_zeb_cpb_wt_avg = (merged_data[merged_data[\"prop_type\"].isin(non_zeb_list)][\"total_cost\"].sum() / merged_data[merged_data[\"prop_type\"].isin(non_zeb_list)][\"bus_count\"].sum())"
   ]
  },
  {
   "cell_type": "code",
   "execution_count": 5,
   "id": "d450fd60-cced-453b-b20b-62cdade0d7a6",
   "metadata": {},
   "outputs": [],
   "source": [
    "def new_cpb_aggregate(df: pd.DataFrame, column=\"transit_agency\") -> pd.DataFrame:\n",
    "    \"\"\"\n",
    "    function to aggregate compiled data by different categories:\n",
    "        \"transit agency\", \n",
    "        \"propulsion type\", \n",
    "        \"bus_size_type\",\n",
    "        \"new_project_type\"\n",
    "    aggregate on columns:\n",
    "        \"project_title\"\n",
    "        \"ppno\"\n",
    "        \"total_cost\"\n",
    "        \"bus_count\"\n",
    "        \n",
    "    Then, cost per bus is calculated AFTER the aggregation.\n",
    "    \"\"\"\n",
    "    df_agg = (\n",
    "        df.groupby(column)\n",
    "        .agg(\n",
    "            total_project_count=(\"project_title\", \"count\"),\n",
    "            total_project_count_ppno=(\"ppno\", \"count\"),\n",
    "            total_agg_cost=(\"total_cost\", \"sum\"),\n",
    "            total_bus_count=(\"bus_count\", \"sum\"),\n",
    "            #new_prop_type=(\"prop_type\",\"max\")\n",
    "        )\n",
    "        .reset_index()\n",
    "    )\n",
    "    df_agg[\"new_cost_per_bus\"] = (df_agg[\"total_agg_cost\"] / df_agg[\"total_bus_count\"]).astype(\"int64\")\n",
    "    \n",
    "    #calculate zscore\n",
    "    df_agg[\"new_zscore_cost_per_bus\"] = zscore(df_agg[\"new_cost_per_bus\"])\n",
    "    \n",
    "    #flag outliers\n",
    "    df_agg[\"new_is_cpb_outlier?\"] = df_agg[\"new_zscore_cost_per_bus\"].apply(outlier_flag)\n",
    "    \n",
    "    return df_agg"
   ]
  },
  {
   "cell_type": "code",
   "execution_count": 81,
   "id": "2a2dc407-20cc-45de-84b1-bb5991dad8ac",
   "metadata": {},
   "outputs": [],
   "source": [
    "def bus_min_max_summary(data:pd.DataFrame, col1:str, col_list=[\"transit_agency\",\n",
    "                                                     \"total_agg_cost\",\n",
    "                                                     \"total_bus_count\",\n",
    "                                                     \"new_cost_per_bus\"]):\n",
    "    \"\"\"\n",
    "    function to display min/max of specific column in aggregated bus df.\n",
    "    \n",
    "    \"\"\"\n",
    "\n",
    "    return display(Markdown(f\"**Max {col1}**\"),\n",
    "    data[data[col1] == data[col1].max()][col_list],\n",
    "    Markdown(f\"**Min {col1}**\"),\n",
    "    data[data[col1] == data[col1].min()][col_list])\n",
    "                  "
   ]
  },
  {
   "cell_type": "code",
   "execution_count": 6,
   "id": "9a6a7ecf-5180-4691-84fe-23aa68cdae93",
   "metadata": {},
   "outputs": [],
   "source": [
    "def make_chart(y_col: str, title: str, data: pd.DataFrame, x_col: str):\n",
    "    \"\"\"\n",
    "    function to create chart. sorts values by y_col ascending.\"\"\"\n",
    "    \n",
    "    data.sort_values(by=y_col, ascending=False).head(10).plot(\n",
    "        x=x_col, y=y_col, kind=\"bar\", color=\"skyblue\"\n",
    "    )\n",
    "    plt.title(title)\n",
    "    plt.xlabel(x_col)\n",
    "    plt.ylabel(y_col)\n",
    "\n",
    "    plt.ticklabel_format(style=\"plain\", axis=\"y\")\n",
    "    plt.show()"
   ]
  },
  {
   "cell_type": "code",
   "execution_count": 7,
   "id": "44d21201-223f-4e6c-b238-b72fba984544",
   "metadata": {},
   "outputs": [],
   "source": [
    "def dist_curve(\n",
    "    df: pd.DataFrame,\n",
    "    mean: str,\n",
    "    std: str,\n",
    "    title: str,\n",
    "    xlabel: str,\n",
    "):\n",
    "    \"\"\"\n",
    "    function to make distribution curve. uses the \"cpb\" column of the df.\n",
    "    \"\"\"\n",
    "    sns.histplot(df[\"cost_per_bus\"], kde=True, color=\"skyblue\", bins=20)\n",
    "    # mean line\n",
    "    plt.axvline(\n",
    "        mean, color=\"red\", linestyle=\"dashed\", linewidth=2, label=f\"Mean: ${mean:,.2f}\"\n",
    "    )\n",
    "    # mean+1std\n",
    "    plt.axvline(\n",
    "        mean + std,\n",
    "        color=\"green\",\n",
    "        linestyle=\"dashed\",\n",
    "        linewidth=2,\n",
    "        label=f\"Standard Deviation: ${std:,.2f}\",\n",
    "    )\n",
    "    plt.axvline(mean - std, color=\"green\", linestyle=\"dashed\", linewidth=2)\n",
    "    plt.axvline(mean + (std * 2), color=\"green\", linestyle=\"dashed\", linewidth=2)\n",
    "    plt.axvline(mean + (std * 3), color=\"green\", linestyle=\"dashed\", linewidth=2)\n",
    "\n",
    "    plt.title(title + \" with Mean and Standard Deviation\")\n",
    "    plt.xlabel(xlabel)\n",
    "    plt.ylabel(\"Frequency\")\n",
    "\n",
    "    # Turn off scientific notation on x-axis?\n",
    "    plt.gca().xaxis.set_major_formatter(ScalarFormatter(useMathText=False))\n",
    "\n",
    "    plt.legend()\n",
    "    plt.show()\n",
    "\n",
    "    return"
   ]
  },
  {
   "cell_type": "code",
   "execution_count": 8,
   "id": "067a14a5-5c77-4914-82a8-c5eeb170cb08",
   "metadata": {},
   "outputs": [],
   "source": [
    "# aggregating by big categories\n",
    "agg_agency = new_cpb_aggregate(merged_data)\n",
    "agg_prop = new_cpb_aggregate(merged_data, column=\"prop_type\")\n",
    "agg_bus_size = new_cpb_aggregate(merged_data, column=\"bus_size_type\")\n",
    "agg_source = new_cpb_aggregate(merged_data, column=\"source\")"
   ]
  },
  {
   "cell_type": "code",
   "execution_count": 9,
   "id": "49a97d01-b17e-475c-b351-67426f3741d9",
   "metadata": {},
   "outputs": [],
   "source": [
    "# subsetting ZEB and nonZEB data\n",
    "zeb_projects = merged_data[merged_data[\"prop_type\"].isin(zeb_list)]\n",
    "\n",
    "non_zeb_projects = merged_data[merged_data[\"prop_type\"].isin(non_zeb_list)]"
   ]
  },
  {
   "cell_type": "code",
   "execution_count": 10,
   "id": "4faaa4ad-b16c-4e6b-87c7-d12f7e7db3c6",
   "metadata": {},
   "outputs": [],
   "source": [
    "#pivot table to get totals for each prop type\n",
    "\n",
    "pivot_prop_type = pd.pivot_table(\n",
    "    merged_data,\n",
    "    values = [\"bus_count\", \"total_cost\"],\n",
    "    index = \"prop_type\",\n",
    "    aggfunc = \"sum\",\n",
    "    margins = True,\n",
    "    margins_name = \"Grand Total\"\n",
    ").reset_index()\n",
    "pivot_prop_type[\"cost_per_bus\"] = (pivot_prop_type[\"total_cost\"] / pivot_prop_type[\"bus_count\"]).astype(\"int64\")"
   ]
  },
  {
   "cell_type": "code",
   "execution_count": 11,
   "id": "b8535e97-e7bf-4d7e-b718-24c5758b0ccd",
   "metadata": {},
   "outputs": [],
   "source": [
    "#pivot for ZEB data\n",
    "\n",
    "pivot_zeb_prop = pd.pivot_table(\n",
    "    #filted incoming DF for zeb prop types\n",
    "    zeb_projects,\n",
    "    values = [\"bus_count\", \"total_cost\"],\n",
    "    index = \"prop_type\",\n",
    "    aggfunc = \"sum\",\n",
    "    margins = True,\n",
    "    margins_name = \"Grand Total\"\n",
    ").reset_index()              \n",
    "\n",
    "pivot_zeb_prop[\"cost_per_bus\"] = (pivot_zeb_prop[\"total_cost\"] / pivot_zeb_prop[\"bus_count\"]).astype(\"int64\")"
   ]
  },
  {
   "cell_type": "code",
   "execution_count": 12,
   "id": "829e38c9-3f9b-4e82-92a8-c86f81051580",
   "metadata": {},
   "outputs": [],
   "source": [
    "#pivot for non-ZEB data\n",
    "\n",
    "pivot_non_zeb_prop = pd.pivot_table(\n",
    "    #filted incoming DF for non-zeb prop types\n",
    "    non_zeb_projects,\n",
    "    values = [\"bus_count\", \"total_cost\"],\n",
    "    index = \"prop_type\",\n",
    "    aggfunc = \"sum\",\n",
    "    margins = True,\n",
    "    margins_name = \"Grand Total\"\n",
    ").reset_index()\n",
    "\n",
    "pivot_non_zeb_prop[\"cost_per_bus\"] = (pivot_non_zeb_prop[\"total_cost\"] / pivot_non_zeb_prop[\"bus_count\"]).astype(\"int64\")"
   ]
  },
  {
   "cell_type": "code",
   "execution_count": 108,
   "id": "0a2163e3-dac1-4e64-a551-3dc961e44714",
   "metadata": {},
   "outputs": [],
   "source": [
    "# pivot for bus sizes\n",
    "\n",
    "pivot_size = pd.pivot_table(\n",
    "    merged_data,\n",
    "    values = [\"bus_count\", \"total_cost\"],\n",
    "    # multi-index pivot\n",
    "    index = [\"prop_type\",\"bus_size_type\"],\n",
    "    aggfunc = \"sum\",\n",
    "    margins = True,\n",
    "    margins_name = \"Grand Total\"\n",
    ")\n",
    "\n",
    "pivot_size[\"cost_per_bus\"] = (pivot_size[\"total_cost\"] / pivot_size[\"bus_count\"]).astype(\"int64\")"
   ]
  },
  {
   "cell_type": "code",
   "execution_count": 109,
   "id": "81e253c5-37f1-4a5e-9666-8ff2a6442635",
   "metadata": {},
   "outputs": [
    {
     "data": {
      "text/html": [
       "<div>\n",
       "<style scoped>\n",
       "    .dataframe tbody tr th:only-of-type {\n",
       "        vertical-align: middle;\n",
       "    }\n",
       "\n",
       "    .dataframe tbody tr th {\n",
       "        vertical-align: top;\n",
       "    }\n",
       "\n",
       "    .dataframe thead th {\n",
       "        text-align: right;\n",
       "    }\n",
       "</style>\n",
       "<table border=\"1\" class=\"dataframe\">\n",
       "  <thead>\n",
       "    <tr style=\"text-align: right;\">\n",
       "      <th></th>\n",
       "      <th></th>\n",
       "      <th>bus_count</th>\n",
       "      <th>total_cost</th>\n",
       "      <th>cost_per_bus</th>\n",
       "    </tr>\n",
       "    <tr>\n",
       "      <th>prop_type</th>\n",
       "      <th>bus_size_type</th>\n",
       "      <th></th>\n",
       "      <th></th>\n",
       "      <th></th>\n",
       "    </tr>\n",
       "  </thead>\n",
       "  <tbody>\n",
       "    <tr>\n",
       "      <th rowspan=\"2\" valign=\"top\">BEB</th>\n",
       "      <th>articulated</th>\n",
       "      <td>12.0</td>\n",
       "      <td>18759576</td>\n",
       "      <td>1563298</td>\n",
       "    </tr>\n",
       "    <tr>\n",
       "      <th>standard/conventional (30ft-45ft)</th>\n",
       "      <td>151.0</td>\n",
       "      <td>148472913</td>\n",
       "      <td>983264</td>\n",
       "    </tr>\n",
       "    <tr>\n",
       "      <th rowspan=\"3\" valign=\"top\">CNG</th>\n",
       "      <th>cutaway</th>\n",
       "      <td>3.0</td>\n",
       "      <td>1162000</td>\n",
       "      <td>387333</td>\n",
       "    </tr>\n",
       "    <tr>\n",
       "      <th>not specified</th>\n",
       "      <td>209.0</td>\n",
       "      <td>171977140</td>\n",
       "      <td>822857</td>\n",
       "    </tr>\n",
       "    <tr>\n",
       "      <th>standard/conventional (30ft-45ft)</th>\n",
       "      <td>40.0</td>\n",
       "      <td>2900000</td>\n",
       "      <td>72500</td>\n",
       "    </tr>\n",
       "    <tr>\n",
       "      <th rowspan=\"2\" valign=\"top\">FCEB</th>\n",
       "      <th>not specified</th>\n",
       "      <td>29.0</td>\n",
       "      <td>38070971</td>\n",
       "      <td>1312792</td>\n",
       "    </tr>\n",
       "    <tr>\n",
       "      <th>standard/conventional (30ft-45ft)</th>\n",
       "      <td>73.0</td>\n",
       "      <td>82880364</td>\n",
       "      <td>1135347</td>\n",
       "    </tr>\n",
       "    <tr>\n",
       "      <th rowspan=\"2\" valign=\"top\">electric (not specified)</th>\n",
       "      <th>articulated</th>\n",
       "      <td>29.0</td>\n",
       "      <td>39478000</td>\n",
       "      <td>1361310</td>\n",
       "    </tr>\n",
       "    <tr>\n",
       "      <th>not specified</th>\n",
       "      <td>15.0</td>\n",
       "      <td>17200000</td>\n",
       "      <td>1146666</td>\n",
       "    </tr>\n",
       "    <tr>\n",
       "      <th>ethanol</th>\n",
       "      <th>not specified</th>\n",
       "      <td>9.0</td>\n",
       "      <td>1006750</td>\n",
       "      <td>111861</td>\n",
       "    </tr>\n",
       "    <tr>\n",
       "      <th>low emission (hybrid)</th>\n",
       "      <th>not specified</th>\n",
       "      <td>145.0</td>\n",
       "      <td>91824361</td>\n",
       "      <td>633271</td>\n",
       "    </tr>\n",
       "    <tr>\n",
       "      <th>low emission (propane)</th>\n",
       "      <th>not specified</th>\n",
       "      <td>44.0</td>\n",
       "      <td>8403969</td>\n",
       "      <td>190999</td>\n",
       "    </tr>\n",
       "    <tr>\n",
       "      <th>mix (zero and low emission)</th>\n",
       "      <th>not specified</th>\n",
       "      <td>125.0</td>\n",
       "      <td>36775430</td>\n",
       "      <td>294203</td>\n",
       "    </tr>\n",
       "    <tr>\n",
       "      <th rowspan=\"3\" valign=\"top\">not specified</th>\n",
       "      <th>cutaway</th>\n",
       "      <td>149.0</td>\n",
       "      <td>15532500</td>\n",
       "      <td>104244</td>\n",
       "    </tr>\n",
       "    <tr>\n",
       "      <th>not specified</th>\n",
       "      <td>162.0</td>\n",
       "      <td>16503904</td>\n",
       "      <td>101875</td>\n",
       "    </tr>\n",
       "    <tr>\n",
       "      <th>over-the-road</th>\n",
       "      <td>14.0</td>\n",
       "      <td>9516000</td>\n",
       "      <td>679714</td>\n",
       "    </tr>\n",
       "    <tr>\n",
       "      <th>zero-emission bus (not specified)</th>\n",
       "      <th>not specified</th>\n",
       "      <td>143.0</td>\n",
       "      <td>128156513</td>\n",
       "      <td>896199</td>\n",
       "    </tr>\n",
       "    <tr>\n",
       "      <th>Grand Total</th>\n",
       "      <th></th>\n",
       "      <td>1352.0</td>\n",
       "      <td>828620391</td>\n",
       "      <td>612884</td>\n",
       "    </tr>\n",
       "  </tbody>\n",
       "</table>\n",
       "</div>"
      ],
      "text/plain": [
       "                                                                     bus_count  \\\n",
       "prop_type                         bus_size_type                                  \n",
       "BEB                               articulated                             12.0   \n",
       "                                  standard/conventional (30ft-45ft)      151.0   \n",
       "CNG                               cutaway                                  3.0   \n",
       "                                  not specified                          209.0   \n",
       "                                  standard/conventional (30ft-45ft)       40.0   \n",
       "FCEB                              not specified                           29.0   \n",
       "                                  standard/conventional (30ft-45ft)       73.0   \n",
       "electric (not specified)          articulated                             29.0   \n",
       "                                  not specified                           15.0   \n",
       "ethanol                           not specified                            9.0   \n",
       "low emission (hybrid)             not specified                          145.0   \n",
       "low emission (propane)            not specified                           44.0   \n",
       "mix (zero and low emission)       not specified                          125.0   \n",
       "not specified                     cutaway                                149.0   \n",
       "                                  not specified                          162.0   \n",
       "                                  over-the-road                           14.0   \n",
       "zero-emission bus (not specified) not specified                          143.0   \n",
       "Grand Total                                                             1352.0   \n",
       "\n",
       "                                                                     total_cost  \\\n",
       "prop_type                         bus_size_type                                   \n",
       "BEB                               articulated                          18759576   \n",
       "                                  standard/conventional (30ft-45ft)   148472913   \n",
       "CNG                               cutaway                               1162000   \n",
       "                                  not specified                       171977140   \n",
       "                                  standard/conventional (30ft-45ft)     2900000   \n",
       "FCEB                              not specified                        38070971   \n",
       "                                  standard/conventional (30ft-45ft)    82880364   \n",
       "electric (not specified)          articulated                          39478000   \n",
       "                                  not specified                        17200000   \n",
       "ethanol                           not specified                         1006750   \n",
       "low emission (hybrid)             not specified                        91824361   \n",
       "low emission (propane)            not specified                         8403969   \n",
       "mix (zero and low emission)       not specified                        36775430   \n",
       "not specified                     cutaway                              15532500   \n",
       "                                  not specified                        16503904   \n",
       "                                  over-the-road                         9516000   \n",
       "zero-emission bus (not specified) not specified                       128156513   \n",
       "Grand Total                                                           828620391   \n",
       "\n",
       "                                                                     cost_per_bus  \n",
       "prop_type                         bus_size_type                                    \n",
       "BEB                               articulated                             1563298  \n",
       "                                  standard/conventional (30ft-45ft)        983264  \n",
       "CNG                               cutaway                                  387333  \n",
       "                                  not specified                            822857  \n",
       "                                  standard/conventional (30ft-45ft)         72500  \n",
       "FCEB                              not specified                           1312792  \n",
       "                                  standard/conventional (30ft-45ft)       1135347  \n",
       "electric (not specified)          articulated                             1361310  \n",
       "                                  not specified                           1146666  \n",
       "ethanol                           not specified                            111861  \n",
       "low emission (hybrid)             not specified                            633271  \n",
       "low emission (propane)            not specified                            190999  \n",
       "mix (zero and low emission)       not specified                            294203  \n",
       "not specified                     cutaway                                  104244  \n",
       "                                  not specified                            101875  \n",
       "                                  over-the-road                            679714  \n",
       "zero-emission bus (not specified) not specified                            896199  \n",
       "Grand Total                                                                612884  "
      ]
     },
     "execution_count": 109,
     "metadata": {},
     "output_type": "execute_result"
    }
   ],
   "source": [
    "pivot_size"
   ]
  },
  {
   "cell_type": "code",
   "execution_count": 14,
   "id": "074acb8d-de54-43a0-b243-a070ecfbe1ce",
   "metadata": {},
   "outputs": [],
   "source": [
    "#pivot for data soruces\n",
    "pivot_source = pd.pivot_table(\n",
    "    merged_data,\n",
    "    values = [\"bus_count\", \"total_cost\"],\n",
    "    index = \"source\",\n",
    "    aggfunc = \"sum\",\n",
    "    margins = True,\n",
    "    margins_name = \"Grand Total\"\n",
    ").reset_index()\n",
    "\n",
    "pivot_source[\"cost_per_bus\"] = (pivot_source[\"total_cost\"] / pivot_source[\"bus_count\"]).astype(\"int64\")"
   ]
  },
  {
   "cell_type": "code",
   "execution_count": 90,
   "id": "d8356953-e32d-47ab-b67c-fa016cad9c50",
   "metadata": {},
   "outputs": [
    {
     "data": {
      "text/markdown": [
       "\n",
       "\n",
       "# Bus Procurement Cost Analysis\n",
       "\n",
       "## Summary\n",
       "This analysis examines the cost of buses for transit agencies across the county. Specifically, to observe the variation of bus cost for propulsion type and bus sizes.\n",
       "\n",
       "Data was compiled from three data sources:\n",
       "1. FTA Bus and Low- and No-Emission Grant Awards press release (federally funded, nationwide data)\n",
       "2. TIRCP project data (state-funded, California only)\n",
       "3. DGS usage report for all procurements from California agencies purchasing from New Flyer and Portera Inc.. \n",
       "\n",
       "The initial dataset contained close to 300 projects, but was paired down due to projects including components other than buses. Examples include: projects that constructed new facilities, trainings or other non-bus related items like trains and sea farries were excluded.\n",
       "The resulting dataset only contained projects that were solely used to procure buses. \n",
       "\n",
       "88 projects were determined to contain solely bus purchases. \n",
       "These projects were aggregated against propulsion type and bus size type, and categorized by ZEB and non-ZEB.\n",
       "\n",
       "\n",
       "Breakdown of each data souce:\n",
       "| source      |   bus_count |   total_cost |   cost_per_bus |\n",
       "|:------------|------------:|-------------:|---------------:|\n",
       "| dgs         |         236 |    250112853 |        1059800 |\n",
       "| fta         |         883 |    391257025 |         443099 |\n",
       "| tircp       |         233 |    187250513 |         803650 |\n",
       "| Grand Total |        1352 |    828620391 |         612884 |\n",
       "\n",
       "\n",
       "**ZEB buses include:**\n",
       "- zero-emission (not specified) \n",
       "- electric (not specified)\n",
       "- battery electric \n",
       "- fuel cell electric\n",
       "\n",
       "**Non-ZEB buses include:**\n",
       "- CNG \n",
       "- ethanol \n",
       "- ow emission (hybrid, propane) \n",
       "- diesel \n",
       "- gas\n",
       "\n",
       "Below are charts and tables that summarize the findings.\n",
       "\n"
      ],
      "text/plain": [
       "<IPython.core.display.Markdown object>"
      ]
     },
     "metadata": {},
     "output_type": "display_data"
    }
   ],
   "source": [
    "# new summary\n",
    "\n",
    "new_summary = f\"\"\"\n",
    "\n",
    "# Bus Procurement Cost Analysis\n",
    "\n",
    "## Summary\n",
    "This analysis examines the cost of buses for transit agencies across the county. Specifically, to observe the variation of bus cost for propulsion type and bus sizes.\n",
    "\n",
    "Data was compiled from three data sources:\n",
    "1. FTA Bus and Low- and No-Emission Grant Awards press release (federally funded, nationwide data)\n",
    "2. TIRCP project data (state-funded, California only)\n",
    "3. DGS usage report for all procurements from California agencies purchasing from New Flyer and Portera Inc.. \n",
    "\n",
    "The initial dataset contained close to 300 projects, but was paired down due to projects including components other than buses. Examples include: projects that constructed new facilities, trainings or other non-bus related items like trains and sea farries were excluded.\n",
    "The resulting dataset only contained projects that were solely used to procure buses. \n",
    "\n",
    "{len(merged_data)} projects were determined to contain solely bus purchases. \n",
    "These projects were aggregated against propulsion type and bus size type, and categorized by ZEB and non-ZEB.\n",
    "\n",
    "\n",
    "Breakdown of each data souce:\n",
    "{pivot_source.to_markdown(index=False)}\n",
    "\n",
    "\n",
    "**ZEB buses include:**\n",
    "- zero-emission (not specified) \n",
    "- electric (not specified)\n",
    "- battery electric \n",
    "- fuel cell electric\n",
    "\n",
    "**Non-ZEB buses include:**\n",
    "- CNG \n",
    "- ethanol \n",
    "- ow emission (hybrid, propane) \n",
    "- diesel \n",
    "- gas\n",
    "\n",
    "Below are charts and tables that summarize the findings.\n",
    "\n",
    "\"\"\"\n",
    "display(\n",
    "    Markdown(new_summary)\n",
    ")"
   ]
  },
  {
   "cell_type": "code",
   "execution_count": 91,
   "id": "676cbd9a-db4b-4e86-b60b-900f14513468",
   "metadata": {},
   "outputs": [
    {
     "data": {
      "text/markdown": [
       "**ZEB Cost Summary**"
      ],
      "text/plain": [
       "<IPython.core.display.Markdown object>"
      ]
     },
     "metadata": {},
     "output_type": "display_data"
    },
    {
     "data": {
      "text/html": [
       "<div>\n",
       "<style scoped>\n",
       "    .dataframe tbody tr th:only-of-type {\n",
       "        vertical-align: middle;\n",
       "    }\n",
       "\n",
       "    .dataframe tbody tr th {\n",
       "        vertical-align: top;\n",
       "    }\n",
       "\n",
       "    .dataframe thead th {\n",
       "        text-align: right;\n",
       "    }\n",
       "</style>\n",
       "<table border=\"1\" class=\"dataframe\">\n",
       "  <thead>\n",
       "    <tr style=\"text-align: right;\">\n",
       "      <th></th>\n",
       "      <th>prop_type</th>\n",
       "      <th>bus_count</th>\n",
       "      <th>total_cost</th>\n",
       "      <th>cost_per_bus</th>\n",
       "    </tr>\n",
       "  </thead>\n",
       "  <tbody>\n",
       "    <tr>\n",
       "      <th>0</th>\n",
       "      <td>BEB</td>\n",
       "      <td>163.0</td>\n",
       "      <td>167232489</td>\n",
       "      <td>1025966</td>\n",
       "    </tr>\n",
       "    <tr>\n",
       "      <th>1</th>\n",
       "      <td>FCEB</td>\n",
       "      <td>102.0</td>\n",
       "      <td>120951335</td>\n",
       "      <td>1185797</td>\n",
       "    </tr>\n",
       "    <tr>\n",
       "      <th>2</th>\n",
       "      <td>electric (not specified)</td>\n",
       "      <td>44.0</td>\n",
       "      <td>56678000</td>\n",
       "      <td>1288136</td>\n",
       "    </tr>\n",
       "    <tr>\n",
       "      <th>3</th>\n",
       "      <td>zero-emission bus (not specified)</td>\n",
       "      <td>143.0</td>\n",
       "      <td>128156513</td>\n",
       "      <td>896199</td>\n",
       "    </tr>\n",
       "    <tr>\n",
       "      <th>4</th>\n",
       "      <td>Grand Total</td>\n",
       "      <td>452.0</td>\n",
       "      <td>473018337</td>\n",
       "      <td>1046500</td>\n",
       "    </tr>\n",
       "  </tbody>\n",
       "</table>\n",
       "</div>"
      ],
      "text/plain": [
       "                           prop_type  bus_count  total_cost  cost_per_bus\n",
       "0                                BEB      163.0   167232489       1025966\n",
       "1                               FCEB      102.0   120951335       1185797\n",
       "2           electric (not specified)       44.0    56678000       1288136\n",
       "3  zero-emission bus (not specified)      143.0   128156513        896199\n",
       "4                        Grand Total      452.0   473018337       1046500"
      ]
     },
     "metadata": {},
     "output_type": "display_data"
    },
    {
     "data": {
      "text/markdown": [
       "**Non-ZEB Cost Summary**"
      ],
      "text/plain": [
       "<IPython.core.display.Markdown object>"
      ]
     },
     "metadata": {},
     "output_type": "display_data"
    },
    {
     "data": {
      "text/html": [
       "<div>\n",
       "<style scoped>\n",
       "    .dataframe tbody tr th:only-of-type {\n",
       "        vertical-align: middle;\n",
       "    }\n",
       "\n",
       "    .dataframe tbody tr th {\n",
       "        vertical-align: top;\n",
       "    }\n",
       "\n",
       "    .dataframe thead th {\n",
       "        text-align: right;\n",
       "    }\n",
       "</style>\n",
       "<table border=\"1\" class=\"dataframe\">\n",
       "  <thead>\n",
       "    <tr style=\"text-align: right;\">\n",
       "      <th></th>\n",
       "      <th>prop_type</th>\n",
       "      <th>bus_count</th>\n",
       "      <th>total_cost</th>\n",
       "      <th>cost_per_bus</th>\n",
       "    </tr>\n",
       "  </thead>\n",
       "  <tbody>\n",
       "    <tr>\n",
       "      <th>0</th>\n",
       "      <td>CNG</td>\n",
       "      <td>252.0</td>\n",
       "      <td>176039140</td>\n",
       "      <td>698568</td>\n",
       "    </tr>\n",
       "    <tr>\n",
       "      <th>1</th>\n",
       "      <td>ethanol</td>\n",
       "      <td>9.0</td>\n",
       "      <td>1006750</td>\n",
       "      <td>111861</td>\n",
       "    </tr>\n",
       "    <tr>\n",
       "      <th>2</th>\n",
       "      <td>low emission (hybrid)</td>\n",
       "      <td>145.0</td>\n",
       "      <td>91824361</td>\n",
       "      <td>633271</td>\n",
       "    </tr>\n",
       "    <tr>\n",
       "      <th>3</th>\n",
       "      <td>low emission (propane)</td>\n",
       "      <td>44.0</td>\n",
       "      <td>8403969</td>\n",
       "      <td>190999</td>\n",
       "    </tr>\n",
       "    <tr>\n",
       "      <th>4</th>\n",
       "      <td>mix (zero and low emission)</td>\n",
       "      <td>125.0</td>\n",
       "      <td>36775430</td>\n",
       "      <td>294203</td>\n",
       "    </tr>\n",
       "    <tr>\n",
       "      <th>5</th>\n",
       "      <td>Grand Total</td>\n",
       "      <td>575.0</td>\n",
       "      <td>314049650</td>\n",
       "      <td>546173</td>\n",
       "    </tr>\n",
       "  </tbody>\n",
       "</table>\n",
       "</div>"
      ],
      "text/plain": [
       "                     prop_type  bus_count  total_cost  cost_per_bus\n",
       "0                          CNG      252.0   176039140        698568\n",
       "1                      ethanol        9.0     1006750        111861\n",
       "2        low emission (hybrid)      145.0    91824361        633271\n",
       "3       low emission (propane)       44.0     8403969        190999\n",
       "4  mix (zero and low emission)      125.0    36775430        294203\n",
       "5                  Grand Total      575.0   314049650        546173"
      ]
     },
     "metadata": {},
     "output_type": "display_data"
    },
    {
     "data": {
      "text/markdown": [
       "The remaining buses did not specify a propulsion type"
      ],
      "text/plain": [
       "<IPython.core.display.Markdown object>"
      ]
     },
     "metadata": {},
     "output_type": "display_data"
    }
   ],
   "source": [
    "#summary stuff\n",
    "display(\n",
    "    Markdown(\"**ZEB Cost Summary**\"),\n",
    "    pivot_zeb_prop,\n",
    "    \n",
    "    Markdown(\"**Non-ZEB Cost Summary**\"),\n",
    "    pivot_non_zeb_prop,\n",
    "    \n",
    "    Markdown(\"The remaining buses did not specify a propulsion type\")\n",
    ")"
   ]
  },
  {
   "cell_type": "code",
   "execution_count": 113,
   "id": "d99e56b6-2d69-4bc3-9ac2-169df1d3f6ef",
   "metadata": {},
   "outputs": [],
   "source": [
    "# overall summary\n",
    "# commenting out for now.\n",
    "#display(\n",
    "#    Markdown(\"## Which Agencies has the highest and lowest overall cost per bus?\"))\n",
    "#bus_min_max_summary(data=agg_agency,col1=\"new_cost_per_bus\")"
   ]
  },
  {
   "cell_type": "code",
   "execution_count": 114,
   "id": "74ecf466-3560-46e1-a792-e217231ce1b4",
   "metadata": {},
   "outputs": [],
   "source": [
    "# overall summary\n",
    "# commenting out for now.\n",
    "#display(\n",
    "#    Markdown(\"## Which Agencies has the highest and lowest overall procurement cost?\"))\n",
    "#bus_min_max_summary(data=agg_agency,col1=\"total_agg_cost\")"
   ]
  },
  {
   "cell_type": "code",
   "execution_count": 115,
   "id": "30c42e6d-3ca3-4715-a472-b7501e36f2fe",
   "metadata": {},
   "outputs": [],
   "source": [
    "# overall summary\n",
    "# commenting out for now.\n",
    "#display(\n",
    "#    Markdown(\"## Which Agencies procured the has the most and least overal number of buses?\"))\n",
    "#bus_min_max_summary(data=agg_agency,col1=\"total_bus_count\")"
   ]
  },
  {
   "cell_type": "code",
   "execution_count": 95,
   "id": "80dd3d1c-86f8-4c68-bdd1-8249e6494f2c",
   "metadata": {},
   "outputs": [
    {
     "data": {
      "text/markdown": [
       "## Which Agneices had the highest and lowest ZEB cost per bus?"
      ],
      "text/plain": [
       "<IPython.core.display.Markdown object>"
      ]
     },
     "metadata": {},
     "output_type": "display_data"
    },
    {
     "data": {
      "text/markdown": [
       "**Max cost_per_bus**"
      ],
      "text/plain": [
       "<IPython.core.display.Markdown object>"
      ]
     },
     "metadata": {},
     "output_type": "display_data"
    },
    {
     "data": {
      "text/html": [
       "<div>\n",
       "<style scoped>\n",
       "    .dataframe tbody tr th:only-of-type {\n",
       "        vertical-align: middle;\n",
       "    }\n",
       "\n",
       "    .dataframe tbody tr th {\n",
       "        vertical-align: top;\n",
       "    }\n",
       "\n",
       "    .dataframe thead th {\n",
       "        text-align: right;\n",
       "    }\n",
       "</style>\n",
       "<table border=\"1\" class=\"dataframe\">\n",
       "  <thead>\n",
       "    <tr style=\"text-align: right;\">\n",
       "      <th></th>\n",
       "      <th>transit_agency</th>\n",
       "      <th>prop_type</th>\n",
       "      <th>total_cost</th>\n",
       "      <th>bus_count</th>\n",
       "      <th>cost_per_bus</th>\n",
       "    </tr>\n",
       "  </thead>\n",
       "  <tbody>\n",
       "    <tr>\n",
       "      <th>76</th>\n",
       "      <td>University of California - San Diego</td>\n",
       "      <td>BEB</td>\n",
       "      <td>4134000</td>\n",
       "      <td>2.0</td>\n",
       "      <td>2067000</td>\n",
       "    </tr>\n",
       "  </tbody>\n",
       "</table>\n",
       "</div>"
      ],
      "text/plain": [
       "                          transit_agency prop_type  total_cost  bus_count  \\\n",
       "76  University of California - San Diego       BEB     4134000        2.0   \n",
       "\n",
       "    cost_per_bus  \n",
       "76       2067000  "
      ]
     },
     "metadata": {},
     "output_type": "display_data"
    },
    {
     "data": {
      "text/markdown": [
       "**Min cost_per_bus**"
      ],
      "text/plain": [
       "<IPython.core.display.Markdown object>"
      ]
     },
     "metadata": {},
     "output_type": "display_data"
    },
    {
     "data": {
      "text/html": [
       "<div>\n",
       "<style scoped>\n",
       "    .dataframe tbody tr th:only-of-type {\n",
       "        vertical-align: middle;\n",
       "    }\n",
       "\n",
       "    .dataframe tbody tr th {\n",
       "        vertical-align: top;\n",
       "    }\n",
       "\n",
       "    .dataframe thead th {\n",
       "        text-align: right;\n",
       "    }\n",
       "</style>\n",
       "<table border=\"1\" class=\"dataframe\">\n",
       "  <thead>\n",
       "    <tr style=\"text-align: right;\">\n",
       "      <th></th>\n",
       "      <th>transit_agency</th>\n",
       "      <th>prop_type</th>\n",
       "      <th>total_cost</th>\n",
       "      <th>bus_count</th>\n",
       "      <th>cost_per_bus</th>\n",
       "    </tr>\n",
       "  </thead>\n",
       "  <tbody>\n",
       "    <tr>\n",
       "      <th>45</th>\n",
       "      <td>City of Wasco</td>\n",
       "      <td>zero-emission bus (not specified)</td>\n",
       "      <td>1543000</td>\n",
       "      <td>3.0</td>\n",
       "      <td>514333</td>\n",
       "    </tr>\n",
       "  </tbody>\n",
       "</table>\n",
       "</div>"
      ],
      "text/plain": [
       "   transit_agency                          prop_type  total_cost  bus_count  \\\n",
       "45  City of Wasco  zero-emission bus (not specified)     1543000        3.0   \n",
       "\n",
       "    cost_per_bus  \n",
       "45        514333  "
      ]
     },
     "metadata": {},
     "output_type": "display_data"
    }
   ],
   "source": [
    "## min max values of just ZEB projects\n",
    "new_cols =[\n",
    "    \"transit_agency\",\n",
    "    \"prop_type\",\n",
    "    \"total_cost\",\n",
    "    \"bus_count\",\n",
    "    \"cost_per_bus\"]\n",
    "\n",
    "display(Markdown(\"## Which Agneices had the highest and lowest ZEB cost per bus?\")),\n",
    "bus_min_max_summary(data=zeb_projects, col1=\"cost_per_bus\", col_list=new_cols)"
   ]
  },
  {
   "cell_type": "code",
   "execution_count": 96,
   "id": "75919ab8-7f14-49f2-bb4a-9765fdddc35c",
   "metadata": {},
   "outputs": [
    {
     "data": {
      "text/markdown": [
       "## Which Agencies procured the most and least amount of ZEBs?"
      ],
      "text/plain": [
       "<IPython.core.display.Markdown object>"
      ]
     },
     "metadata": {},
     "output_type": "display_data"
    },
    {
     "data": {
      "text/markdown": [
       "**Max bus_count**"
      ],
      "text/plain": [
       "<IPython.core.display.Markdown object>"
      ]
     },
     "metadata": {},
     "output_type": "display_data"
    },
    {
     "data": {
      "text/html": [
       "<div>\n",
       "<style scoped>\n",
       "    .dataframe tbody tr th:only-of-type {\n",
       "        vertical-align: middle;\n",
       "    }\n",
       "\n",
       "    .dataframe tbody tr th {\n",
       "        vertical-align: top;\n",
       "    }\n",
       "\n",
       "    .dataframe thead th {\n",
       "        text-align: right;\n",
       "    }\n",
       "</style>\n",
       "<table border=\"1\" class=\"dataframe\">\n",
       "  <thead>\n",
       "    <tr style=\"text-align: right;\">\n",
       "      <th></th>\n",
       "      <th>transit_agency</th>\n",
       "      <th>prop_type</th>\n",
       "      <th>total_cost</th>\n",
       "      <th>bus_count</th>\n",
       "      <th>cost_per_bus</th>\n",
       "    </tr>\n",
       "  </thead>\n",
       "  <tbody>\n",
       "    <tr>\n",
       "      <th>44</th>\n",
       "      <td>City of Los Angeles (LA DOT)</td>\n",
       "      <td>zero-emission bus (not specified)</td>\n",
       "      <td>102790000</td>\n",
       "      <td>112.0</td>\n",
       "      <td>917767</td>\n",
       "    </tr>\n",
       "  </tbody>\n",
       "</table>\n",
       "</div>"
      ],
      "text/plain": [
       "                  transit_agency                          prop_type  \\\n",
       "44  City of Los Angeles (LA DOT)  zero-emission bus (not specified)   \n",
       "\n",
       "    total_cost  bus_count  cost_per_bus  \n",
       "44   102790000      112.0        917767  "
      ]
     },
     "metadata": {},
     "output_type": "display_data"
    },
    {
     "data": {
      "text/markdown": [
       "**Min bus_count**"
      ],
      "text/plain": [
       "<IPython.core.display.Markdown object>"
      ]
     },
     "metadata": {},
     "output_type": "display_data"
    },
    {
     "data": {
      "text/html": [
       "<div>\n",
       "<style scoped>\n",
       "    .dataframe tbody tr th:only-of-type {\n",
       "        vertical-align: middle;\n",
       "    }\n",
       "\n",
       "    .dataframe tbody tr th {\n",
       "        vertical-align: top;\n",
       "    }\n",
       "\n",
       "    .dataframe thead th {\n",
       "        text-align: right;\n",
       "    }\n",
       "</style>\n",
       "<table border=\"1\" class=\"dataframe\">\n",
       "  <thead>\n",
       "    <tr style=\"text-align: right;\">\n",
       "      <th></th>\n",
       "      <th>transit_agency</th>\n",
       "      <th>prop_type</th>\n",
       "      <th>total_cost</th>\n",
       "      <th>bus_count</th>\n",
       "      <th>cost_per_bus</th>\n",
       "    </tr>\n",
       "  </thead>\n",
       "  <tbody>\n",
       "    <tr>\n",
       "      <th>70</th>\n",
       "      <td>SLO TRANSIT (SAN LUIS OBISPO, CA)</td>\n",
       "      <td>BEB</td>\n",
       "      <td>847214</td>\n",
       "      <td>1.0</td>\n",
       "      <td>847214</td>\n",
       "    </tr>\n",
       "    <tr>\n",
       "      <th>82</th>\n",
       "      <td>City of San Luis Obispo</td>\n",
       "      <td>BEB</td>\n",
       "      <td>859270</td>\n",
       "      <td>1.0</td>\n",
       "      <td>859270</td>\n",
       "    </tr>\n",
       "  </tbody>\n",
       "</table>\n",
       "</div>"
      ],
      "text/plain": [
       "                       transit_agency prop_type  total_cost  bus_count  \\\n",
       "70  SLO TRANSIT (SAN LUIS OBISPO, CA)       BEB      847214        1.0   \n",
       "82            City of San Luis Obispo       BEB      859270        1.0   \n",
       "\n",
       "    cost_per_bus  \n",
       "70        847214  \n",
       "82        859270  "
      ]
     },
     "metadata": {},
     "output_type": "display_data"
    }
   ],
   "source": [
    "display(Markdown(\n",
    "    \"## Which Agencies procured the most and least amount of ZEBs?\"\n",
    "))\n",
    "bus_min_max_summary(data=zeb_projects, col1=\"bus_count\", col_list=new_cols)\n"
   ]
  },
  {
   "cell_type": "code",
   "execution_count": 97,
   "id": "c4f1b88e-f46c-4f69-888d-e116d2ce2ace",
   "metadata": {},
   "outputs": [
    {
     "data": {
      "text/markdown": [
       "## Which Agencies had the most and least total ZEB cost?"
      ],
      "text/plain": [
       "<IPython.core.display.Markdown object>"
      ]
     },
     "metadata": {},
     "output_type": "display_data"
    },
    {
     "data": {
      "text/markdown": [
       "**Max total_cost**"
      ],
      "text/plain": [
       "<IPython.core.display.Markdown object>"
      ]
     },
     "metadata": {},
     "output_type": "display_data"
    },
    {
     "data": {
      "text/html": [
       "<div>\n",
       "<style scoped>\n",
       "    .dataframe tbody tr th:only-of-type {\n",
       "        vertical-align: middle;\n",
       "    }\n",
       "\n",
       "    .dataframe tbody tr th {\n",
       "        vertical-align: top;\n",
       "    }\n",
       "\n",
       "    .dataframe thead th {\n",
       "        text-align: right;\n",
       "    }\n",
       "</style>\n",
       "<table border=\"1\" class=\"dataframe\">\n",
       "  <thead>\n",
       "    <tr style=\"text-align: right;\">\n",
       "      <th></th>\n",
       "      <th>transit_agency</th>\n",
       "      <th>prop_type</th>\n",
       "      <th>total_cost</th>\n",
       "      <th>bus_count</th>\n",
       "      <th>cost_per_bus</th>\n",
       "    </tr>\n",
       "  </thead>\n",
       "  <tbody>\n",
       "    <tr>\n",
       "      <th>44</th>\n",
       "      <td>City of Los Angeles (LA DOT)</td>\n",
       "      <td>zero-emission bus (not specified)</td>\n",
       "      <td>102790000</td>\n",
       "      <td>112.0</td>\n",
       "      <td>917767</td>\n",
       "    </tr>\n",
       "  </tbody>\n",
       "</table>\n",
       "</div>"
      ],
      "text/plain": [
       "                  transit_agency                          prop_type  \\\n",
       "44  City of Los Angeles (LA DOT)  zero-emission bus (not specified)   \n",
       "\n",
       "    total_cost  bus_count  cost_per_bus  \n",
       "44   102790000      112.0        917767  "
      ]
     },
     "metadata": {},
     "output_type": "display_data"
    },
    {
     "data": {
      "text/markdown": [
       "**Min total_cost**"
      ],
      "text/plain": [
       "<IPython.core.display.Markdown object>"
      ]
     },
     "metadata": {},
     "output_type": "display_data"
    },
    {
     "data": {
      "text/html": [
       "<div>\n",
       "<style scoped>\n",
       "    .dataframe tbody tr th:only-of-type {\n",
       "        vertical-align: middle;\n",
       "    }\n",
       "\n",
       "    .dataframe tbody tr th {\n",
       "        vertical-align: top;\n",
       "    }\n",
       "\n",
       "    .dataframe thead th {\n",
       "        text-align: right;\n",
       "    }\n",
       "</style>\n",
       "<table border=\"1\" class=\"dataframe\">\n",
       "  <thead>\n",
       "    <tr style=\"text-align: right;\">\n",
       "      <th></th>\n",
       "      <th>transit_agency</th>\n",
       "      <th>prop_type</th>\n",
       "      <th>total_cost</th>\n",
       "      <th>bus_count</th>\n",
       "      <th>cost_per_bus</th>\n",
       "    </tr>\n",
       "  </thead>\n",
       "  <tbody>\n",
       "    <tr>\n",
       "      <th>70</th>\n",
       "      <td>SLO TRANSIT (SAN LUIS OBISPO, CA)</td>\n",
       "      <td>BEB</td>\n",
       "      <td>847214</td>\n",
       "      <td>1.0</td>\n",
       "      <td>847214</td>\n",
       "    </tr>\n",
       "  </tbody>\n",
       "</table>\n",
       "</div>"
      ],
      "text/plain": [
       "                       transit_agency prop_type  total_cost  bus_count  \\\n",
       "70  SLO TRANSIT (SAN LUIS OBISPO, CA)       BEB      847214        1.0   \n",
       "\n",
       "    cost_per_bus  \n",
       "70        847214  "
      ]
     },
     "metadata": {},
     "output_type": "display_data"
    }
   ],
   "source": [
    "display(Markdown(\n",
    "    \"## Which Agencies had the most and least total ZEB cost?\"\n",
    "))\n",
    "bus_min_max_summary(data=zeb_projects, col1=\"total_cost\", col_list=new_cols)"
   ]
  },
  {
   "cell_type": "code",
   "execution_count": 92,
   "id": "1f39733f-448e-4d3e-9981-feff4a13dbda",
   "metadata": {},
   "outputs": [],
   "source": [
    "# all buses\n",
    "# dont know if i need this anymore\n",
    "\n",
    "#dist_curve(\n",
    "#    df=merged_data,\n",
    "#    mean=cpb_mean,\n",
    "#    std=cpb_std,\n",
    "#    title=\"all buses, cost per bus distribution\",\n",
    "#    xlabel=\"cost per bus, $ million(s)\",\n",
    "#)"
   ]
  },
  {
   "cell_type": "code",
   "execution_count": 98,
   "id": "adebe10d-167c-480e-abff-313e8d8e91d4",
   "metadata": {},
   "outputs": [
    {
     "data": {
      "image/png": "[encoded data removed]",
      "text/plain": [
       "<Figure size 640x480 with 1 Axes>"
      ]
     },
     "metadata": {},
     "output_type": "display_data"
    }
   ],
   "source": [
    "# ZEB cost per bus \n",
    "dist_curve(\n",
    "    df=zeb_projects,\n",
    "    #using the accounting, weighted average approach to mean (total cost/total number of buses)\n",
    "    mean=zeb_cpb_wt_avg,\n",
    "    # need to investigate if std needs to be weighted as well?\n",
    "    std=zeb_projects[\"cost_per_bus\"].std(),\n",
    "    title=\"ZEB cost per bus distribution\",\n",
    "    xlabel=\"cost per bus, $ million(s)\",\n",
    ")"
   ]
  },
  {
   "cell_type": "code",
   "execution_count": 99,
   "id": "554eeee1-a3b6-47b0-912f-830885eb100b",
   "metadata": {},
   "outputs": [
    {
     "data": {
      "image/png": "[encoded data removed]",
      "text/plain": [
       "<Figure size 640x480 with 1 Axes>"
      ]
     },
     "metadata": {},
     "output_type": "display_data"
    }
   ],
   "source": [
    "# non-zeb cost per bus\n",
    "\n",
    "#dist_curve(\n",
    "#    df=non_zeb_projects,\n",
    "#    mean=non_zeb_cpb_wt_avg,\n",
    "#    std=non_zeb_projects[\"cost_per_bus\"].std(),\n",
    "#    title=\"non-ZEB cost per bus Distribution\",\n",
    "#    xlabel='\"cost per bus, $ million(s)\"',\n",
    "#)"
   ]
  },
  {
   "cell_type": "code",
   "execution_count": 112,
   "id": "8d030948-59ea-4ea5-9db6-5d8639f6f8f5",
   "metadata": {},
   "outputs": [
    {
     "data": {
      "text/markdown": [
       "## What is the breakdown of Propulsion Type and Bus Size Category?"
      ],
      "text/plain": [
       "<IPython.core.display.Markdown object>"
      ]
     },
     "metadata": {},
     "output_type": "display_data"
    },
    {
     "data": {
      "text/html": [
       "<div>\n",
       "<style scoped>\n",
       "    .dataframe tbody tr th:only-of-type {\n",
       "        vertical-align: middle;\n",
       "    }\n",
       "\n",
       "    .dataframe tbody tr th {\n",
       "        vertical-align: top;\n",
       "    }\n",
       "\n",
       "    .dataframe thead th {\n",
       "        text-align: right;\n",
       "    }\n",
       "</style>\n",
       "<table border=\"1\" class=\"dataframe\">\n",
       "  <thead>\n",
       "    <tr style=\"text-align: right;\">\n",
       "      <th></th>\n",
       "      <th></th>\n",
       "      <th>bus_count</th>\n",
       "      <th>total_cost</th>\n",
       "      <th>cost_per_bus</th>\n",
       "    </tr>\n",
       "    <tr>\n",
       "      <th>prop_type</th>\n",
       "      <th>bus_size_type</th>\n",
       "      <th></th>\n",
       "      <th></th>\n",
       "      <th></th>\n",
       "    </tr>\n",
       "  </thead>\n",
       "  <tbody>\n",
       "    <tr>\n",
       "      <th rowspan=\"2\" valign=\"top\">BEB</th>\n",
       "      <th>articulated</th>\n",
       "      <td>12.0</td>\n",
       "      <td>18759576</td>\n",
       "      <td>1563298</td>\n",
       "    </tr>\n",
       "    <tr>\n",
       "      <th>standard/conventional (30ft-45ft)</th>\n",
       "      <td>151.0</td>\n",
       "      <td>148472913</td>\n",
       "      <td>983264</td>\n",
       "    </tr>\n",
       "    <tr>\n",
       "      <th rowspan=\"3\" valign=\"top\">CNG</th>\n",
       "      <th>cutaway</th>\n",
       "      <td>3.0</td>\n",
       "      <td>1162000</td>\n",
       "      <td>387333</td>\n",
       "    </tr>\n",
       "    <tr>\n",
       "      <th>not specified</th>\n",
       "      <td>209.0</td>\n",
       "      <td>171977140</td>\n",
       "      <td>822857</td>\n",
       "    </tr>\n",
       "    <tr>\n",
       "      <th>standard/conventional (30ft-45ft)</th>\n",
       "      <td>40.0</td>\n",
       "      <td>2900000</td>\n",
       "      <td>72500</td>\n",
       "    </tr>\n",
       "    <tr>\n",
       "      <th rowspan=\"2\" valign=\"top\">FCEB</th>\n",
       "      <th>not specified</th>\n",
       "      <td>29.0</td>\n",
       "      <td>38070971</td>\n",
       "      <td>1312792</td>\n",
       "    </tr>\n",
       "    <tr>\n",
       "      <th>standard/conventional (30ft-45ft)</th>\n",
       "      <td>73.0</td>\n",
       "      <td>82880364</td>\n",
       "      <td>1135347</td>\n",
       "    </tr>\n",
       "    <tr>\n",
       "      <th rowspan=\"2\" valign=\"top\">electric (not specified)</th>\n",
       "      <th>articulated</th>\n",
       "      <td>29.0</td>\n",
       "      <td>39478000</td>\n",
       "      <td>1361310</td>\n",
       "    </tr>\n",
       "    <tr>\n",
       "      <th>not specified</th>\n",
       "      <td>15.0</td>\n",
       "      <td>17200000</td>\n",
       "      <td>1146666</td>\n",
       "    </tr>\n",
       "    <tr>\n",
       "      <th>ethanol</th>\n",
       "      <th>not specified</th>\n",
       "      <td>9.0</td>\n",
       "      <td>1006750</td>\n",
       "      <td>111861</td>\n",
       "    </tr>\n",
       "    <tr>\n",
       "      <th>low emission (hybrid)</th>\n",
       "      <th>not specified</th>\n",
       "      <td>145.0</td>\n",
       "      <td>91824361</td>\n",
       "      <td>633271</td>\n",
       "    </tr>\n",
       "    <tr>\n",
       "      <th>low emission (propane)</th>\n",
       "      <th>not specified</th>\n",
       "      <td>44.0</td>\n",
       "      <td>8403969</td>\n",
       "      <td>190999</td>\n",
       "    </tr>\n",
       "    <tr>\n",
       "      <th>mix (zero and low emission)</th>\n",
       "      <th>not specified</th>\n",
       "      <td>125.0</td>\n",
       "      <td>36775430</td>\n",
       "      <td>294203</td>\n",
       "    </tr>\n",
       "    <tr>\n",
       "      <th rowspan=\"3\" valign=\"top\">not specified</th>\n",
       "      <th>cutaway</th>\n",
       "      <td>149.0</td>\n",
       "      <td>15532500</td>\n",
       "      <td>104244</td>\n",
       "    </tr>\n",
       "    <tr>\n",
       "      <th>not specified</th>\n",
       "      <td>162.0</td>\n",
       "      <td>16503904</td>\n",
       "      <td>101875</td>\n",
       "    </tr>\n",
       "    <tr>\n",
       "      <th>over-the-road</th>\n",
       "      <td>14.0</td>\n",
       "      <td>9516000</td>\n",
       "      <td>679714</td>\n",
       "    </tr>\n",
       "    <tr>\n",
       "      <th>zero-emission bus (not specified)</th>\n",
       "      <th>not specified</th>\n",
       "      <td>143.0</td>\n",
       "      <td>128156513</td>\n",
       "      <td>896199</td>\n",
       "    </tr>\n",
       "    <tr>\n",
       "      <th>Grand Total</th>\n",
       "      <th></th>\n",
       "      <td>1352.0</td>\n",
       "      <td>828620391</td>\n",
       "      <td>612884</td>\n",
       "    </tr>\n",
       "  </tbody>\n",
       "</table>\n",
       "</div>"
      ],
      "text/plain": [
       "                                                                     bus_count  \\\n",
       "prop_type                         bus_size_type                                  \n",
       "BEB                               articulated                             12.0   \n",
       "                                  standard/conventional (30ft-45ft)      151.0   \n",
       "CNG                               cutaway                                  3.0   \n",
       "                                  not specified                          209.0   \n",
       "                                  standard/conventional (30ft-45ft)       40.0   \n",
       "FCEB                              not specified                           29.0   \n",
       "                                  standard/conventional (30ft-45ft)       73.0   \n",
       "electric (not specified)          articulated                             29.0   \n",
       "                                  not specified                           15.0   \n",
       "ethanol                           not specified                            9.0   \n",
       "low emission (hybrid)             not specified                          145.0   \n",
       "low emission (propane)            not specified                           44.0   \n",
       "mix (zero and low emission)       not specified                          125.0   \n",
       "not specified                     cutaway                                149.0   \n",
       "                                  not specified                          162.0   \n",
       "                                  over-the-road                           14.0   \n",
       "zero-emission bus (not specified) not specified                          143.0   \n",
       "Grand Total                                                             1352.0   \n",
       "\n",
       "                                                                     total_cost  \\\n",
       "prop_type                         bus_size_type                                   \n",
       "BEB                               articulated                          18759576   \n",
       "                                  standard/conventional (30ft-45ft)   148472913   \n",
       "CNG                               cutaway                               1162000   \n",
       "                                  not specified                       171977140   \n",
       "                                  standard/conventional (30ft-45ft)     2900000   \n",
       "FCEB                              not specified                        38070971   \n",
       "                                  standard/conventional (30ft-45ft)    82880364   \n",
       "electric (not specified)          articulated                          39478000   \n",
       "                                  not specified                        17200000   \n",
       "ethanol                           not specified                         1006750   \n",
       "low emission (hybrid)             not specified                        91824361   \n",
       "low emission (propane)            not specified                         8403969   \n",
       "mix (zero and low emission)       not specified                        36775430   \n",
       "not specified                     cutaway                              15532500   \n",
       "                                  not specified                        16503904   \n",
       "                                  over-the-road                         9516000   \n",
       "zero-emission bus (not specified) not specified                       128156513   \n",
       "Grand Total                                                           828620391   \n",
       "\n",
       "                                                                     cost_per_bus  \n",
       "prop_type                         bus_size_type                                    \n",
       "BEB                               articulated                             1563298  \n",
       "                                  standard/conventional (30ft-45ft)        983264  \n",
       "CNG                               cutaway                                  387333  \n",
       "                                  not specified                            822857  \n",
       "                                  standard/conventional (30ft-45ft)         72500  \n",
       "FCEB                              not specified                           1312792  \n",
       "                                  standard/conventional (30ft-45ft)       1135347  \n",
       "electric (not specified)          articulated                             1361310  \n",
       "                                  not specified                           1146666  \n",
       "ethanol                           not specified                            111861  \n",
       "low emission (hybrid)             not specified                            633271  \n",
       "low emission (propane)            not specified                            190999  \n",
       "mix (zero and low emission)       not specified                            294203  \n",
       "not specified                     cutaway                                  104244  \n",
       "                                  not specified                            101875  \n",
       "                                  over-the-road                            679714  \n",
       "zero-emission bus (not specified) not specified                            896199  \n",
       "Grand Total                                                                612884  "
      ]
     },
     "metadata": {},
     "output_type": "display_data"
    }
   ],
   "source": [
    "display(\n",
    "    Markdown(\"## What is the breakdown of Propulsion Type and Bus Size Category?\"),\n",
    "    pivot_size\n",
    ")"
   ]
  },
  {
   "cell_type": "code",
   "execution_count": 48,
   "id": "5117c222-74a3-424c-9b13-1592a3f14eba",
   "metadata": {},
   "outputs": [
    {
     "data": {
      "image/png": "[encoded data removed]",
      "text/plain": [
       "<Figure size 640x480 with 1 Axes>"
      ]
     },
     "metadata": {},
     "output_type": "display_data"
    },
    {
     "data": {
      "text/plain": [
       "None"
      ]
     },
     "metadata": {},
     "output_type": "display_data"
    },
    {
     "data": {
      "text/html": [
       "<div>\n",
       "<style scoped>\n",
       "    .dataframe tbody tr th:only-of-type {\n",
       "        vertical-align: middle;\n",
       "    }\n",
       "\n",
       "    .dataframe tbody tr th {\n",
       "        vertical-align: top;\n",
       "    }\n",
       "\n",
       "    .dataframe thead th {\n",
       "        text-align: right;\n",
       "    }\n",
       "</style>\n",
       "<table border=\"1\" class=\"dataframe\">\n",
       "  <thead>\n",
       "    <tr style=\"text-align: right;\">\n",
       "      <th></th>\n",
       "      <th>prop_type</th>\n",
       "      <th>new_cost_per_bus</th>\n",
       "    </tr>\n",
       "  </thead>\n",
       "  <tbody>\n",
       "    <tr>\n",
       "      <th>3</th>\n",
       "      <td>electric (not specified)</td>\n",
       "      <td>1288136</td>\n",
       "    </tr>\n",
       "    <tr>\n",
       "      <th>2</th>\n",
       "      <td>FCEB</td>\n",
       "      <td>1185797</td>\n",
       "    </tr>\n",
       "    <tr>\n",
       "      <th>0</th>\n",
       "      <td>BEB</td>\n",
       "      <td>1025966</td>\n",
       "    </tr>\n",
       "    <tr>\n",
       "      <th>9</th>\n",
       "      <td>zero-emission bus (not specified)</td>\n",
       "      <td>896199</td>\n",
       "    </tr>\n",
       "    <tr>\n",
       "      <th>1</th>\n",
       "      <td>CNG</td>\n",
       "      <td>698568</td>\n",
       "    </tr>\n",
       "    <tr>\n",
       "      <th>5</th>\n",
       "      <td>low emission (hybrid)</td>\n",
       "      <td>633271</td>\n",
       "    </tr>\n",
       "    <tr>\n",
       "      <th>7</th>\n",
       "      <td>mix (zero and low emission)</td>\n",
       "      <td>294203</td>\n",
       "    </tr>\n",
       "    <tr>\n",
       "      <th>6</th>\n",
       "      <td>low emission (propane)</td>\n",
       "      <td>190999</td>\n",
       "    </tr>\n",
       "    <tr>\n",
       "      <th>8</th>\n",
       "      <td>not specified</td>\n",
       "      <td>127853</td>\n",
       "    </tr>\n",
       "    <tr>\n",
       "      <th>4</th>\n",
       "      <td>ethanol</td>\n",
       "      <td>111861</td>\n",
       "    </tr>\n",
       "  </tbody>\n",
       "</table>\n",
       "</div>"
      ],
      "text/plain": [
       "                           prop_type  new_cost_per_bus\n",
       "3           electric (not specified)           1288136\n",
       "2                               FCEB           1185797\n",
       "0                                BEB           1025966\n",
       "9  zero-emission bus (not specified)            896199\n",
       "1                                CNG            698568\n",
       "5              low emission (hybrid)            633271\n",
       "7        mix (zero and low emission)            294203\n",
       "6             low emission (propane)            190999\n",
       "8                      not specified            127853\n",
       "4                            ethanol            111861"
      ]
     },
     "metadata": {},
     "output_type": "display_data"
    }
   ],
   "source": [
    "display(\n",
    "# cpb by prop type\n",
    "make_chart(\"new_cost_per_bus\", \"Cost per bus, by propulsion type\", x_col=\"prop_type\", data=agg_prop),\n",
    "\n",
    "# pivot table to\n",
    "agg_prop[[\"prop_type\",\"new_cost_per_bus\"]].sort_values(by=\"new_cost_per_bus\", ascending=False)\n",
    ")"
   ]
  },
  {
   "cell_type": "code",
   "execution_count": 49,
   "id": "65566782-7cc4-4ce0-987e-2d055f60ec57",
   "metadata": {},
   "outputs": [
    {
     "data": {
      "image/png": "[encoded data removed]",
      "text/plain": [
       "<Figure size 640x480 with 1 Axes>"
      ]
     },
     "metadata": {},
     "output_type": "display_data"
    },
    {
     "data": {
      "text/plain": [
       "None"
      ]
     },
     "metadata": {},
     "output_type": "display_data"
    },
    {
     "data": {
      "text/html": [
       "<div>\n",
       "<style scoped>\n",
       "    .dataframe tbody tr th:only-of-type {\n",
       "        vertical-align: middle;\n",
       "    }\n",
       "\n",
       "    .dataframe tbody tr th {\n",
       "        vertical-align: top;\n",
       "    }\n",
       "\n",
       "    .dataframe thead th {\n",
       "        text-align: right;\n",
       "    }\n",
       "</style>\n",
       "<table border=\"1\" class=\"dataframe\">\n",
       "  <thead>\n",
       "    <tr style=\"text-align: right;\">\n",
       "      <th></th>\n",
       "      <th>prop_type</th>\n",
       "      <th>total_bus_count</th>\n",
       "    </tr>\n",
       "  </thead>\n",
       "  <tbody>\n",
       "    <tr>\n",
       "      <th>8</th>\n",
       "      <td>not specified</td>\n",
       "      <td>325.0</td>\n",
       "    </tr>\n",
       "    <tr>\n",
       "      <th>1</th>\n",
       "      <td>CNG</td>\n",
       "      <td>252.0</td>\n",
       "    </tr>\n",
       "    <tr>\n",
       "      <th>0</th>\n",
       "      <td>BEB</td>\n",
       "      <td>163.0</td>\n",
       "    </tr>\n",
       "    <tr>\n",
       "      <th>5</th>\n",
       "      <td>low emission (hybrid)</td>\n",
       "      <td>145.0</td>\n",
       "    </tr>\n",
       "    <tr>\n",
       "      <th>9</th>\n",
       "      <td>zero-emission bus (not specified)</td>\n",
       "      <td>143.0</td>\n",
       "    </tr>\n",
       "    <tr>\n",
       "      <th>7</th>\n",
       "      <td>mix (zero and low emission)</td>\n",
       "      <td>125.0</td>\n",
       "    </tr>\n",
       "    <tr>\n",
       "      <th>2</th>\n",
       "      <td>FCEB</td>\n",
       "      <td>102.0</td>\n",
       "    </tr>\n",
       "    <tr>\n",
       "      <th>3</th>\n",
       "      <td>electric (not specified)</td>\n",
       "      <td>44.0</td>\n",
       "    </tr>\n",
       "    <tr>\n",
       "      <th>6</th>\n",
       "      <td>low emission (propane)</td>\n",
       "      <td>44.0</td>\n",
       "    </tr>\n",
       "    <tr>\n",
       "      <th>4</th>\n",
       "      <td>ethanol</td>\n",
       "      <td>9.0</td>\n",
       "    </tr>\n",
       "  </tbody>\n",
       "</table>\n",
       "</div>"
      ],
      "text/plain": [
       "                           prop_type  total_bus_count\n",
       "8                      not specified            325.0\n",
       "1                                CNG            252.0\n",
       "0                                BEB            163.0\n",
       "5              low emission (hybrid)            145.0\n",
       "9  zero-emission bus (not specified)            143.0\n",
       "7        mix (zero and low emission)            125.0\n",
       "2                               FCEB            102.0\n",
       "3           electric (not specified)             44.0\n",
       "6             low emission (propane)             44.0\n",
       "4                            ethanol              9.0"
      ]
     },
     "metadata": {},
     "output_type": "display_data"
    }
   ],
   "source": [
    "display(\n",
    "# bus count by prop type\n",
    "make_chart(\"total_bus_count\", \"Bus counts, by propulsion type\", x_col=\"prop_type\", data=agg_prop),\n",
    "# pivot table to\n",
    "agg_prop[[\"prop_type\",\"total_bus_count\"]].sort_values(by=\"total_bus_count\", ascending=False)\n",
    ")"
   ]
  },
  {
   "cell_type": "code",
   "execution_count": 52,
   "id": "7b56f81a-cf52-4309-ac8d-01d0389f9d4b",
   "metadata": {},
   "outputs": [
    {
     "data": {
      "image/png": "[encoded data removed]",
      "text/plain": [
       "<Figure size 640x480 with 1 Axes>"
      ]
     },
     "metadata": {},
     "output_type": "display_data"
    },
    {
     "data": {
      "text/plain": [
       "None"
      ]
     },
     "metadata": {},
     "output_type": "display_data"
    },
    {
     "data": {
      "text/html": [
       "<div>\n",
       "<style scoped>\n",
       "    .dataframe tbody tr th:only-of-type {\n",
       "        vertical-align: middle;\n",
       "    }\n",
       "\n",
       "    .dataframe tbody tr th {\n",
       "        vertical-align: top;\n",
       "    }\n",
       "\n",
       "    .dataframe thead th {\n",
       "        text-align: right;\n",
       "    }\n",
       "</style>\n",
       "<table border=\"1\" class=\"dataframe\">\n",
       "  <thead>\n",
       "    <tr style=\"text-align: right;\">\n",
       "      <th></th>\n",
       "      <th>bus_size_type</th>\n",
       "      <th>total_bus_count</th>\n",
       "    </tr>\n",
       "  </thead>\n",
       "  <tbody>\n",
       "    <tr>\n",
       "      <th>0</th>\n",
       "      <td>articulated</td>\n",
       "      <td>41.0</td>\n",
       "    </tr>\n",
       "    <tr>\n",
       "      <th>1</th>\n",
       "      <td>cutaway</td>\n",
       "      <td>152.0</td>\n",
       "    </tr>\n",
       "    <tr>\n",
       "      <th>2</th>\n",
       "      <td>not specified</td>\n",
       "      <td>881.0</td>\n",
       "    </tr>\n",
       "    <tr>\n",
       "      <th>3</th>\n",
       "      <td>over-the-road</td>\n",
       "      <td>14.0</td>\n",
       "    </tr>\n",
       "    <tr>\n",
       "      <th>4</th>\n",
       "      <td>standard/conventional (30ft-45ft)</td>\n",
       "      <td>264.0</td>\n",
       "    </tr>\n",
       "  </tbody>\n",
       "</table>\n",
       "</div>"
      ],
      "text/plain": [
       "                       bus_size_type  total_bus_count\n",
       "0                        articulated             41.0\n",
       "1                            cutaway            152.0\n",
       "2                      not specified            881.0\n",
       "3                      over-the-road             14.0\n",
       "4  standard/conventional (30ft-45ft)            264.0"
      ]
     },
     "metadata": {},
     "output_type": "display_data"
    }
   ],
   "source": [
    "#bus size bar chart\n",
    "display(\n",
    "make_chart(\"total_bus_count\", \"\"\"Bus Size Count.\n",
    "excluding 'not specified' responses.\"\"\", x_col=\"bus_size_type\",data=agg_bus_size[agg_bus_size[\"bus_size_type\"]!=\"not specified\"]),\n",
    "agg_bus_size[[\"bus_size_type\",\"total_bus_count\"]]\n",
    ")\n"
   ]
  },
  {
   "cell_type": "code",
   "execution_count": 23,
   "id": "63f90c48-e28d-4d88-8b90-891a3e3e3681",
   "metadata": {},
   "outputs": [
    {
     "data": {
      "text/markdown": [
       "\n",
       "**Conclusion**\n",
       "\n",
       "Based on these findings, The average cost of a ZEB, throughout the US, is ~$1,000,000, roughly twice the price of a conventional, non-ZEB.\n",
       "The variance in cost depends mainly on the options the Trasnit\n",
       "Agencies chooses. Highly optioned/customized buses contribute to high cost.\n",
       "Unfortunately, analyzing the cost of configuable options is outside the scope of data provided. \n"
      ],
      "text/plain": [
       "<IPython.core.display.Markdown object>"
      ]
     },
     "metadata": {},
     "output_type": "display_data"
    }
   ],
   "source": [
    "conclusion = f\"\"\"\n",
    "**Conclusion**\n",
    "\n",
    "Based on these findings, The average cost of a ZEB, throughout the US, is ~$1,000,000, roughly twice the price of a conventional, non-ZEB.\n",
    "The variance in cost depends mainly on the options the Trasnit\n",
    "Agencies chooses. Highly optioned/customized buses contribute to high cost.\n",
    "Unfortunately, analyzing the cost of configuable options is outside the scope of data provided. \n",
    "\"\"\"\n",
    "display(\n",
    "    Markdown(conclusion)\n",
    ")"
   ]
  },
  {
   "cell_type": "markdown",
   "id": "8025c84b-428f-4c40-b4d3-c969af58ce63",
   "metadata": {
    "jp-MarkdownHeadingCollapsed": true,
    "tags": []
   },
   "source": [
    "-------\n",
    "# Start of old stuff"
   ]
  },
  {
   "cell_type": "code",
   "execution_count": 24,
   "id": "c51fe7dd-22e2-4686-b1a5-57b2f5ad8602",
   "metadata": {},
   "outputs": [
    {
     "data": {
      "text/markdown": [
       "\n",
       "## Summary\n",
       "This analysis examines the cost of buses for transit agencies across the county. Specifically, to observe the variation of bus cost for propulsion type and bus sizes.\n",
       "\n",
       "Data was compiled from three data sources:\n",
       "\n",
       "1. 130 projects from FTA Bus and Low- and No-Emission Grant Awards press release (federally funded, nationwide data)\n",
       "2. 124 projects TIRCP project data (state-funded, California only)\n",
       "3. 35 projects DGS usage report for all procurements from California agencies purchasing from New Flyer and Portera Inc..\n",
       "\n",
       "The compiled dataset includes **289** total transit related projects. However, the initial dataset included projects that encompassed bus procurement and other components such as charging installation and facility construction, as well as non-bus related projects (ferries, trains). The dataset was filtered to exclude projects that were not bus related, indicated 0 buses procured, and projects that contained construction/installation work. **87** projects remained that specified the number of buses to procure and explicitly described procuring buses (bus only projects). \n",
       "\n",
       "Number of bus only contracts from each dataset \n",
       "- FTA: **43**\n",
       "- TIRCP: **9**\n",
       "- DGS: **35**\n",
       "\n",
       "\n",
       "The remaining bus only projects were categorized into different propulsion types and bus sizes, a “cost per bus” value was calculated, and outliers removed.\n",
       "\n",
       "A overall summary is provided below:\n",
       "- Total projects: **298**\n",
       "- Number of projects with mix bus procurement and other components, also non-bus projects: **204** \n",
       "- Number of bus only projects: **87**\n",
       "- Total dollars awarded to bus only projects: **`$831,843,715.00`**\n",
       "- Total number of buses: **1353.0**\n",
       "- Most common propulsion type procured for bus only projects: **BEB** at **30** projects\n",
       "- Number of ZEB buses* procured: **452.0**\n",
       "- Number of non-ZEB buses** procured: **575.0**\n",
       "- Overall average cost per bus (ZEB & non-ZEB) is `$792,635.34` (std `$396,712.61`)\n",
       "- ZEB average cost per bus is `$1,056,659.30` (std `$253,737.82`)\n",
       "- Non-ZEB average cost per bus is `$528,106.49` (std `$315,932.20`) \n",
       "\n",
       "`*`ZEB buses include: zero-emission (not specified), electric (not specified), battery electric, fuel cell electric\n",
       "\n",
       "`**`Non-ZEB buses include: CNG, ethanol, low emission (hybrid, propane), diesel, gas.\n",
       "\n",
       "\n",
       "Below are key charts that visualize more findings:\n",
       "\n",
       "\n"
      ],
      "text/plain": [
       "<IPython.core.display.Markdown object>"
      ]
     },
     "execution_count": 24,
     "metadata": {},
     "output_type": "execute_result"
    }
   ],
   "source": [
    "Markdown(summary)"
   ]
  },
  {
   "cell_type": "code",
   "execution_count": 25,
   "id": "4e553e15-dc1d-47d3-9818-7dec893c5294",
   "metadata": {
    "tags": []
   },
   "outputs": [
    {
     "data": {
      "text/markdown": [
       "\n",
       "## All buses (ZEB and non-ZEB) cost/bus distribution curve.\n",
       "This chart shows the cost per bus distribution of all bus only projects.\n"
      ],
      "text/plain": [
       "<IPython.core.display.Markdown object>"
      ]
     },
     "metadata": {},
     "output_type": "display_data"
    },
    {
     "ename": "KeyError",
     "evalue": "'cost_per_bus'",
     "output_type": "error",
     "traceback": [
      "\u001b[0;31m---------------------------------------------------------------------------\u001b[0m",
      "\u001b[0;31mKeyError\u001b[0m                                  Traceback (most recent call last)",
      "File \u001b[0;32m/opt/conda/lib/python3.9/site-packages/pandas/core/indexes/base.py:3802\u001b[0m, in \u001b[0;36mIndex.get_loc\u001b[0;34m(self, key, method, tolerance)\u001b[0m\n\u001b[1;32m   3801\u001b[0m \u001b[38;5;28;01mtry\u001b[39;00m:\n\u001b[0;32m-> 3802\u001b[0m     \u001b[38;5;28;01mreturn\u001b[39;00m \u001b[38;5;28;43mself\u001b[39;49m\u001b[38;5;241;43m.\u001b[39;49m\u001b[43m_engine\u001b[49m\u001b[38;5;241;43m.\u001b[39;49m\u001b[43mget_loc\u001b[49m\u001b[43m(\u001b[49m\u001b[43mcasted_key\u001b[49m\u001b[43m)\u001b[49m\n\u001b[1;32m   3803\u001b[0m \u001b[38;5;28;01mexcept\u001b[39;00m \u001b[38;5;167;01mKeyError\u001b[39;00m \u001b[38;5;28;01mas\u001b[39;00m err:\n",
      "File \u001b[0;32m/opt/conda/lib/python3.9/site-packages/pandas/_libs/index.pyx:138\u001b[0m, in \u001b[0;36mpandas._libs.index.IndexEngine.get_loc\u001b[0;34m()\u001b[0m\n",
      "File \u001b[0;32m/opt/conda/lib/python3.9/site-packages/pandas/_libs/index.pyx:165\u001b[0m, in \u001b[0;36mpandas._libs.index.IndexEngine.get_loc\u001b[0;34m()\u001b[0m\n",
      "File \u001b[0;32mpandas/_libs/hashtable_class_helper.pxi:5745\u001b[0m, in \u001b[0;36mpandas._libs.hashtable.PyObjectHashTable.get_item\u001b[0;34m()\u001b[0m\n",
      "File \u001b[0;32mpandas/_libs/hashtable_class_helper.pxi:5753\u001b[0m, in \u001b[0;36mpandas._libs.hashtable.PyObjectHashTable.get_item\u001b[0;34m()\u001b[0m\n",
      "\u001b[0;31mKeyError\u001b[0m: 'cost_per_bus'",
      "\nThe above exception was the direct cause of the following exception:\n",
      "\u001b[0;31mKeyError\u001b[0m                                  Traceback (most recent call last)",
      "Cell \u001b[0;32mIn[25], line 4\u001b[0m\n\u001b[1;32m      1\u001b[0m \u001b[38;5;66;03m# all bus distribution\u001b[39;00m\n\u001b[1;32m      2\u001b[0m display(Markdown(all_bus_desc))\n\u001b[0;32m----> 4\u001b[0m \u001b[43mdist_curve\u001b[49m\u001b[43m(\u001b[49m\n\u001b[1;32m      5\u001b[0m \u001b[43m    \u001b[49m\u001b[43mdf\u001b[49m\u001b[38;5;241;43m=\u001b[39;49m\u001b[43mno_outliers\u001b[49m\u001b[43m,\u001b[49m\n\u001b[1;32m      6\u001b[0m \u001b[43m    \u001b[49m\u001b[43mmean\u001b[49m\u001b[38;5;241;43m=\u001b[39;49m\u001b[43mcpb_mean\u001b[49m\u001b[43m,\u001b[49m\n\u001b[1;32m      7\u001b[0m \u001b[43m    \u001b[49m\u001b[43mstd\u001b[49m\u001b[38;5;241;43m=\u001b[39;49m\u001b[43mcpb_std\u001b[49m\u001b[43m,\u001b[49m\n\u001b[1;32m      8\u001b[0m \u001b[43m    \u001b[49m\u001b[43mtitle\u001b[49m\u001b[38;5;241;43m=\u001b[39;49m\u001b[38;5;124;43m\"\u001b[39;49m\u001b[38;5;124;43mall buses, cost per bus distribution\u001b[39;49m\u001b[38;5;124;43m\"\u001b[39;49m\u001b[43m,\u001b[49m\n\u001b[1;32m      9\u001b[0m \u001b[43m    \u001b[49m\u001b[43mxlabel\u001b[49m\u001b[38;5;241;43m=\u001b[39;49m\u001b[38;5;124;43m\"\u001b[39;49m\u001b[38;5;124;43mcost per bus, $ million(s)\u001b[39;49m\u001b[38;5;124;43m\"\u001b[39;49m\u001b[43m,\u001b[49m\n\u001b[1;32m     10\u001b[0m \u001b[43m)\u001b[49m\n",
      "Cell \u001b[0;32mIn[7], line 11\u001b[0m, in \u001b[0;36mdist_curve\u001b[0;34m(df, mean, std, title, xlabel)\u001b[0m\n\u001b[1;32m      1\u001b[0m \u001b[38;5;28;01mdef\u001b[39;00m \u001b[38;5;21mdist_curve\u001b[39m(\n\u001b[1;32m      2\u001b[0m     df: pd\u001b[38;5;241m.\u001b[39mDataFrame,\n\u001b[1;32m      3\u001b[0m     mean: \u001b[38;5;28mstr\u001b[39m,\n\u001b[0;32m   (...)\u001b[0m\n\u001b[1;32m      6\u001b[0m     xlabel: \u001b[38;5;28mstr\u001b[39m,\n\u001b[1;32m      7\u001b[0m ):\n\u001b[1;32m      8\u001b[0m \u001b[38;5;250m    \u001b[39m\u001b[38;5;124;03m\"\"\"\u001b[39;00m\n\u001b[1;32m      9\u001b[0m \u001b[38;5;124;03m    function to make distribution curve. uses the \"cpb\" column of the df.\u001b[39;00m\n\u001b[1;32m     10\u001b[0m \u001b[38;5;124;03m    \"\"\"\u001b[39;00m\n\u001b[0;32m---> 11\u001b[0m     sns\u001b[38;5;241m.\u001b[39mhistplot(\u001b[43mdf\u001b[49m\u001b[43m[\u001b[49m\u001b[38;5;124;43m\"\u001b[39;49m\u001b[38;5;124;43mcost_per_bus\u001b[39;49m\u001b[38;5;124;43m\"\u001b[39;49m\u001b[43m]\u001b[49m, kde\u001b[38;5;241m=\u001b[39m\u001b[38;5;28;01mTrue\u001b[39;00m, color\u001b[38;5;241m=\u001b[39m\u001b[38;5;124m\"\u001b[39m\u001b[38;5;124mskyblue\u001b[39m\u001b[38;5;124m\"\u001b[39m, bins\u001b[38;5;241m=\u001b[39m\u001b[38;5;241m20\u001b[39m)\n\u001b[1;32m     12\u001b[0m     \u001b[38;5;66;03m# mean line\u001b[39;00m\n\u001b[1;32m     13\u001b[0m     plt\u001b[38;5;241m.\u001b[39maxvline(\n\u001b[1;32m     14\u001b[0m         mean, color\u001b[38;5;241m=\u001b[39m\u001b[38;5;124m\"\u001b[39m\u001b[38;5;124mred\u001b[39m\u001b[38;5;124m\"\u001b[39m, linestyle\u001b[38;5;241m=\u001b[39m\u001b[38;5;124m\"\u001b[39m\u001b[38;5;124mdashed\u001b[39m\u001b[38;5;124m\"\u001b[39m, linewidth\u001b[38;5;241m=\u001b[39m\u001b[38;5;241m2\u001b[39m, label\u001b[38;5;241m=\u001b[39m\u001b[38;5;124mf\u001b[39m\u001b[38;5;124m\"\u001b[39m\u001b[38;5;124mMean: $\u001b[39m\u001b[38;5;132;01m{\u001b[39;00mmean\u001b[38;5;132;01m:\u001b[39;00m\u001b[38;5;124m,.2f\u001b[39m\u001b[38;5;132;01m}\u001b[39;00m\u001b[38;5;124m\"\u001b[39m\n\u001b[1;32m     15\u001b[0m     )\n",
      "File \u001b[0;32m/opt/conda/lib/python3.9/site-packages/pandas/core/frame.py:3807\u001b[0m, in \u001b[0;36mDataFrame.__getitem__\u001b[0;34m(self, key)\u001b[0m\n\u001b[1;32m   3805\u001b[0m \u001b[38;5;28;01mif\u001b[39;00m \u001b[38;5;28mself\u001b[39m\u001b[38;5;241m.\u001b[39mcolumns\u001b[38;5;241m.\u001b[39mnlevels \u001b[38;5;241m>\u001b[39m \u001b[38;5;241m1\u001b[39m:\n\u001b[1;32m   3806\u001b[0m     \u001b[38;5;28;01mreturn\u001b[39;00m \u001b[38;5;28mself\u001b[39m\u001b[38;5;241m.\u001b[39m_getitem_multilevel(key)\n\u001b[0;32m-> 3807\u001b[0m indexer \u001b[38;5;241m=\u001b[39m \u001b[38;5;28;43mself\u001b[39;49m\u001b[38;5;241;43m.\u001b[39;49m\u001b[43mcolumns\u001b[49m\u001b[38;5;241;43m.\u001b[39;49m\u001b[43mget_loc\u001b[49m\u001b[43m(\u001b[49m\u001b[43mkey\u001b[49m\u001b[43m)\u001b[49m\n\u001b[1;32m   3808\u001b[0m \u001b[38;5;28;01mif\u001b[39;00m is_integer(indexer):\n\u001b[1;32m   3809\u001b[0m     indexer \u001b[38;5;241m=\u001b[39m [indexer]\n",
      "File \u001b[0;32m/opt/conda/lib/python3.9/site-packages/pandas/core/indexes/base.py:3804\u001b[0m, in \u001b[0;36mIndex.get_loc\u001b[0;34m(self, key, method, tolerance)\u001b[0m\n\u001b[1;32m   3802\u001b[0m     \u001b[38;5;28;01mreturn\u001b[39;00m \u001b[38;5;28mself\u001b[39m\u001b[38;5;241m.\u001b[39m_engine\u001b[38;5;241m.\u001b[39mget_loc(casted_key)\n\u001b[1;32m   3803\u001b[0m \u001b[38;5;28;01mexcept\u001b[39;00m \u001b[38;5;167;01mKeyError\u001b[39;00m \u001b[38;5;28;01mas\u001b[39;00m err:\n\u001b[0;32m-> 3804\u001b[0m     \u001b[38;5;28;01mraise\u001b[39;00m \u001b[38;5;167;01mKeyError\u001b[39;00m(key) \u001b[38;5;28;01mfrom\u001b[39;00m \u001b[38;5;21;01merr\u001b[39;00m\n\u001b[1;32m   3805\u001b[0m \u001b[38;5;28;01mexcept\u001b[39;00m \u001b[38;5;167;01mTypeError\u001b[39;00m:\n\u001b[1;32m   3806\u001b[0m     \u001b[38;5;66;03m# If we have a listlike key, _check_indexing_error will raise\u001b[39;00m\n\u001b[1;32m   3807\u001b[0m     \u001b[38;5;66;03m#  InvalidIndexError. Otherwise we fall through and re-raise\u001b[39;00m\n\u001b[1;32m   3808\u001b[0m     \u001b[38;5;66;03m#  the TypeError.\u001b[39;00m\n\u001b[1;32m   3809\u001b[0m     \u001b[38;5;28mself\u001b[39m\u001b[38;5;241m.\u001b[39m_check_indexing_error(key)\n",
      "\u001b[0;31mKeyError\u001b[0m: 'cost_per_bus'"
     ]
    }
   ],
   "source": [
    "# all bus distribution\n",
    "display(Markdown(all_bus_desc))\n",
    "\n",
    "dist_curve(\n",
    "    df=no_outliers,\n",
    "    mean=cpb_mean,\n",
    "    std=cpb_std,\n",
    "    title=\"all buses, cost per bus distribution\",\n",
    "    xlabel=\"cost per bus, $ million(s)\",\n",
    ")"
   ]
  },
  {
   "cell_type": "code",
   "execution_count": null,
   "id": "dda584ca-76fa-4e88-9b1c-f70cc438dce6",
   "metadata": {
    "tags": []
   },
   "outputs": [],
   "source": [
    "# ZEB dist curve\n",
    "display(Markdown(zeb_desc))\n",
    "\n",
    "dist_curve(\n",
    "    df=zeb_no_outliers,\n",
    "    mean=zeb_only_mean,\n",
    "    std=zeb_only_std,\n",
    "    title=\"ZEB only cost/bus Distribution\",\n",
    "    xlabel=\"cost per bus, $ million(s)\",\n",
    ")"
   ]
  },
  {
   "cell_type": "code",
   "execution_count": null,
   "id": "679d8261-85d6-4d68-9905-e4b048ebc61a",
   "metadata": {
    "tags": []
   },
   "outputs": [],
   "source": [
    "# non_zeb distribution\n",
    "display(Markdown(non_zeb_desc))\n",
    "\n",
    "dist_curve(\n",
    "    non_zeb_no_outliers,\n",
    "    non_zeb_only_mean,\n",
    "    non_zeb_only_std,\n",
    "    title=\"non-ZEB only cost/bus Distribution\",\n",
    "    xlabel='\"cost per bus, $ million(s)\"',\n",
    ")"
   ]
  },
  {
   "cell_type": "code",
   "execution_count": 26,
   "id": "31c592b0-e37e-4da4-8726-36b0a1d3e6f5",
   "metadata": {
    "tags": []
   },
   "outputs": [
    {
     "data": {
      "text/markdown": [
       "\n",
       "## Cost per bus by propulsion type. \n"
      ],
      "text/plain": [
       "<IPython.core.display.Markdown object>"
      ]
     },
     "metadata": {},
     "output_type": "display_data"
    },
    {
     "data": {
      "image/png": "[encoded data removed]",
      "text/plain": [
       "<Figure size 640x480 with 1 Axes>"
      ]
     },
     "metadata": {},
     "output_type": "display_data"
    }
   ],
   "source": [
    "# COST PER BUS BY PROP TYPE\n",
    "display(Markdown(cpb_prop_type_desc))\n",
    "make_chart(\"cpb\", \"Cost per bus by propulsion type\", x_col=\"prop_type\", data=prop_agg)"
   ]
  },
  {
   "cell_type": "code",
   "execution_count": 27,
   "id": "7462b55c-29ef-4909-a7dd-27e1c84157d0",
   "metadata": {
    "tags": []
   },
   "outputs": [
    {
     "data": {
      "text/markdown": [
       "\n",
       "## Bus count by propulsion type. \n"
      ],
      "text/plain": [
       "<IPython.core.display.Markdown object>"
      ]
     },
     "metadata": {},
     "output_type": "display_data"
    },
    {
     "data": {
      "image/png": "[encoded data removed]",
      "text/plain": [
       "<Figure size 640x480 with 1 Axes>"
      ]
     },
     "metadata": {},
     "output_type": "display_data"
    }
   ],
   "source": [
    "# bus count BY PROP TYPE\n",
    "display(Markdown(bus_count_prop_type_desc))\n",
    "make_chart(\n",
    "    \"total_bus_count\", \n",
    "    \"Bus count by propulsion type\",\n",
    "    x_col=\"prop_type\",\n",
    "    data=prop_agg\n",
    ")"
   ]
  },
  {
   "cell_type": "code",
   "execution_count": 28,
   "id": "4f092539-c4c6-4579-aa02-fbee65414ec3",
   "metadata": {
    "tags": []
   },
   "outputs": [
    {
     "data": {
      "text/markdown": [
       "\n",
       "**Conclusion**\n",
       "\n",
       "Based on these findings, The average cost of a ZEB, throughout the US, is ~$1,000,000, roughly twice the price of a conventional, non-ZEB.\n",
       "The variance in cost depends mainly on the options the Trasnit\n",
       "Agencies chooses. Highly optioned/customized buses contribute to high cost.\n",
       "Unfortunately, analyzing the cost of configuable options is outside the scope of data provided. \n"
      ],
      "text/plain": [
       "<IPython.core.display.Markdown object>"
      ]
     },
     "metadata": {},
     "output_type": "display_data"
    }
   ],
   "source": [
    "display(Markdown(conclusion))"
   ]
  },
  {
   "cell_type": "code",
   "execution_count": null,
   "id": "c6ce4e1b-c1a2-40d1-84c1-0a20a4400eb3",
   "metadata": {},
   "outputs": [],
   "source": []
  }
 ],
 "metadata": {
  "kernelspec": {
   "display_name": "Python 3 (ipykernel)",
   "language": "python",
   "name": "python3"
  },
  "language_info": {
   "codemirror_mode": {
    "name": "ipython",
    "version": 3
   },
   "file_extension": ".py",
   "mimetype": "text/x-python",
   "name": "python",
   "nbconvert_exporter": "python",
   "pygments_lexer": "ipython3",
   "version": "3.9.13"
  }
 },
 "nbformat": 4,
 "nbformat_minor": 5
}
