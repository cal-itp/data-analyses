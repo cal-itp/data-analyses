{
 "cells": [
  {
   "cell_type": "markdown",
   "id": "3cb59498-d45b-46be-b59b-b8a6a5cb9b00",
   "metadata": {},
   "source": [
    "# Querying Data from `FTA Bus Award StoryMap`\n",
    "\n",
    "Currently FTA uses ArcGIS storymap to display their bus award data. Is is possible to extract this data using their REST server.\n",
    "Extracting bus award data from a server will be the most reliable way to see the data."
   ]
  },
  {
   "cell_type": "code",
   "execution_count": 1,
   "id": "f051e96d-12c2-4786-a263-ed629cd481d4",
   "metadata": {},
   "outputs": [],
   "source": [
    "import geopandas as gpd\n",
    "import pandas as pd\n",
    "pd.set_option(\"display.max_columns\", None)\n",
    "pd.set_option(\"display.max_rows\", None)\n",
    "pd.set_option('display.max_colwidth', None)"
   ]
  },
  {
   "cell_type": "code",
   "execution_count": 2,
   "id": "a8bf2ee3-c28f-44fe-9426-cbf290de2106",
   "metadata": {},
   "outputs": [],
   "source": [
    "from calitp_data_analysis.sql import to_snakecase\n",
    "import _bus_cost_utils"
   ]
  },
  {
   "cell_type": "markdown",
   "id": "a8b801ee-24f8-4e8c-bb2d-0d4c70862241",
   "metadata": {},
   "source": [
    "# Get geojson from ArcGIS Rest Server \n",
    "\n",
    "https://services.arcgis.com/xOi1kZaI0eWDREZv/ArcGIS/rest/services/FY2024_Bus_Awards_/FeatureServer/0/query\n",
    "https://services.arcgis.com/xOi1kZaI0eWDREZv/ArcGIS/rest/services/2023_06_12_Awards/FeatureServer/0/query\n"
   ]
  },
  {
   "cell_type": "markdown",
   "id": "382a9186-7637-4644-889b-306bba1eff5b",
   "metadata": {},
   "source": [
    "# Steps to Query Rest Server\n",
    "\n",
    "1. Set `Where:` field to `1=1`\n",
    "2. Set `Out Field:` field to `*`\n",
    "3. Set `Format:` to `Geojson`\n",
    "4. Click `Query(GET)`\n",
    "5. Copy paste given URL "
   ]
  },
  {
   "cell_type": "code",
   "execution_count": 3,
   "id": "09bc8b46-8e3c-4793-98d2-88c2aa824b13",
   "metadata": {},
   "outputs": [
    {
     "name": "stdout",
     "output_type": "stream",
     "text": [
      "<class 'geopandas.geodataframe.GeoDataFrame'>\n",
      "RangeIndex: 117 entries, 0 to 116\n",
      "Data columns (total 22 columns):\n",
      " #   Column                    Non-Null Count  Dtype   \n",
      "---  ------                    --------------  -----   \n",
      " 0   application_number_       117 non-null    object  \n",
      " 1   agency_name               117 non-null    object  \n",
      " 2   low_no_bbf                117 non-null    object  \n",
      " 3   project_description       117 non-null    object  \n",
      " 4   number_of_buses_          117 non-null    int64   \n",
      " 5   funding_amount            116 non-null    float64 \n",
      " 6   project_title             117 non-null    object  \n",
      " 7   project_type              117 non-null    object  \n",
      " 8   display_type              117 non-null    object  \n",
      " 9   overall_propulsion_type   117 non-null    object  \n",
      " 10  specific_propulsion_type  117 non-null    object  \n",
      " 11  areas_served              117 non-null    object  \n",
      " 12  congressional_districts   117 non-null    object  \n",
      " 13  address_line_1            117 non-null    object  \n",
      " 14  city                      117 non-null    object  \n",
      " 15  state                     117 non-null    object  \n",
      " 16  additional_zip            117 non-null    int64   \n",
      " 17  zip_code                  117 non-null    int64   \n",
      " 18  x                         117 non-null    float64 \n",
      " 19  y                         117 non-null    float64 \n",
      " 20  fid2                      117 non-null    int64   \n",
      " 21  geometry                  117 non-null    geometry\n",
      "dtypes: float64(3), geometry(1), int64(4), object(14)\n",
      "memory usage: 20.2+ KB\n",
      "<class 'geopandas.geodataframe.GeoDataFrame'>\n",
      "RangeIndex: 130 entries, 0 to 129\n",
      "Data columns (total 25 columns):\n",
      " #   Column                      Non-Null Count  Dtype   \n",
      "---  ------                      --------------  -----   \n",
      " 0   application_number          130 non-null    object  \n",
      " 1   fta_region                  130 non-null    int64   \n",
      " 2   project_sponsor             130 non-null    object  \n",
      " 3   project_title               130 non-null    object  \n",
      " 4   project_description         130 non-null    object  \n",
      " 5   original_statement_of_work  130 non-null    object  \n",
      " 6   funding                     130 non-null    object  \n",
      " 7   number_of_buses             130 non-null    object  \n",
      " 8   traditional_buses           130 non-null    int64   \n",
      " 9   low_emission_buses          130 non-null    int64   \n",
      " 10  zero_emission_buses         130 non-null    int64   \n",
      " 11  project_type                130 non-null    object  \n",
      " 12  display_type                130 non-null    object  \n",
      " 13  areas_served                130 non-null    object  \n",
      " 14  congressional_districts     130 non-null    object  \n",
      " 15  propulsion_type             130 non-null    object  \n",
      " 16  address1                    130 non-null    object  \n",
      " 17  address2                    5 non-null      object  \n",
      " 18  city                        130 non-null    object  \n",
      " 19  state                       130 non-null    object  \n",
      " 20  zip                         130 non-null    int64   \n",
      " 21  x                           130 non-null    float64 \n",
      " 22  y                           130 non-null    float64 \n",
      " 23  objectid                    130 non-null    int64   \n",
      " 24  geometry                    130 non-null    geometry\n",
      "dtypes: float64(2), geometry(1), int64(6), object(16)\n",
      "memory usage: 25.5+ KB\n"
     ]
    },
    {
     "data": {
      "text/plain": [
       "(117, 22)"
      ]
     },
     "metadata": {},
     "output_type": "display_data"
    },
    {
     "data": {
      "text/plain": [
       "geopandas.geodataframe.GeoDataFrame"
      ]
     },
     "metadata": {},
     "output_type": "display_data"
    },
    {
     "data": {
      "text/plain": [
       "None"
      ]
     },
     "metadata": {},
     "output_type": "display_data"
    },
    {
     "data": {
      "text/plain": [
       "(130, 25)"
      ]
     },
     "metadata": {},
     "output_type": "display_data"
    },
    {
     "data": {
      "text/plain": [
       "geopandas.geodataframe.GeoDataFrame"
      ]
     },
     "metadata": {},
     "output_type": "display_data"
    },
    {
     "data": {
      "text/plain": [
       "None"
      ]
     },
     "metadata": {},
     "output_type": "display_data"
    }
   ],
   "source": [
    "fy24 = \"https://services.arcgis.com/xOi1kZaI0eWDREZv/ArcGIS/rest/services/FY2024_Bus_Awards_/FeatureServer/0/query?where=1%3D1&objectIds=&time=&geometry=&geometryType=esriGeometryPolygon&inSR=&spatialRel=esriSpatialRelIntersects&resultType=none&distance=0.0&units=esriSRUnit_Meter&relationParam=&returnGeodetic=false&outFields=*&returnGeometry=true&featureEncoding=esriDefault&multipatchOption=xyFootprint&maxAllowableOffset=&geometryPrecision=&outSR=&defaultSR=&datumTransformation=&applyVCSProjection=false&returnIdsOnly=false&returnUniqueIdsOnly=false&returnCountOnly=false&returnExtentOnly=false&returnQueryGeometry=false&returnDistinctValues=false&cacheHint=false&orderByFields=&groupByFieldsForStatistics=&outStatistics=&having=&resultOffset=&resultRecordCount=&returnZ=false&returnM=false&returnTrueCurves=false&returnExceededLimitFeatures=true&quantizationParameters=&sqlFormat=none&f=pgeojson&token=\"\n",
    "\n",
    "fy23 = \"https://services.arcgis.com/xOi1kZaI0eWDREZv/ArcGIS/rest/services/2023_06_12_Awards/FeatureServer/0/query?where=1%3D1&objectIds=&time=&geometry=&geometryType=esriGeometryEnvelope&inSR=&spatialRel=esriSpatialRelIntersects&resultType=none&distance=0.0&units=esriSRUnit_Meter&relationParam=&returnGeodetic=false&outFields=*&returnGeometry=true&featureEncoding=esriDefault&multipatchOption=xyFootprint&maxAllowableOffset=&geometryPrecision=&outSR=&defaultSR=&datumTransformation=&applyVCSProjection=false&returnIdsOnly=false&returnUniqueIdsOnly=false&returnCountOnly=false&returnExtentOnly=false&returnQueryGeometry=false&returnDistinctValues=false&cacheHint=false&orderByFields=&groupByFieldsForStatistics=&outStatistics=&having=&resultOffset=&resultRecordCount=&returnZ=false&returnM=false&returnTrueCurves=false&returnExceededLimitFeatures=true&quantizationParameters=&sqlFormat=none&f=pgeojson&token=\" \n",
    "\n",
    "\n",
    "fy_24_data = to_snakecase(gpd.read_file(fy24))\n",
    "fy_23_data = to_snakecase(gpd.read_file(fy23))\n",
    "\n",
    "display(\n",
    "    fy_24_data.shape,\n",
    "    type(fy_24_data),\n",
    "    fy_24_data.info(),\n",
    "    fy_23_data.shape,\n",
    "    type(fy_23_data),\n",
    "    fy_23_data.info(),\n",
    ")\n"
   ]
  },
  {
   "cell_type": "markdown",
   "id": "7baa49ed-9999-4747-a26a-e0d300a56214",
   "metadata": {
    "tags": []
   },
   "source": [
    "# Explore FY23 data"
   ]
  },
  {
   "cell_type": "code",
   "execution_count": 4,
   "id": "7485f0a8-816d-42dd-b3cd-e093a6d3c706",
   "metadata": {},
   "outputs": [],
   "source": [
    "fy_23_data = fy_23_data.assign(\n",
    "    specific_propulsion_type = fy_23_data[\"project_description\"].apply(_bus_cost_utils.new_prop_finder)\n",
    ")"
   ]
  },
  {
   "cell_type": "code",
   "execution_count": 5,
   "id": "783ff015-142e-4e07-9b8d-931d7adb21c5",
   "metadata": {},
   "outputs": [
    {
     "data": {
      "text/plain": [
       "Index(['application_number', 'fta_region', 'project_sponsor', 'project_title',\n",
       "       'project_description', 'original_statement_of_work', 'funding',\n",
       "       'number_of_buses', 'traditional_buses', 'low_emission_buses',\n",
       "       'zero_emission_buses', 'project_type', 'display_type', 'areas_served',\n",
       "       'congressional_districts', 'propulsion_type', 'address1', 'address2',\n",
       "       'city', 'state', 'zip', 'x', 'y', 'objectid', 'geometry',\n",
       "       'specific_propulsion_type'],\n",
       "      dtype='object')"
      ]
     },
     "execution_count": 5,
     "metadata": {},
     "output_type": "execute_result"
    }
   ],
   "source": [
    "fy_23_data.columns"
   ]
  },
  {
   "cell_type": "code",
   "execution_count": 6,
   "id": "3da1227d-5451-462a-80a1-c4c4b3ef966e",
   "metadata": {},
   "outputs": [],
   "source": [
    "col_list =[\n",
    "    \"application_number\",\n",
    "    \"project_sponsor\",\n",
    "    \"project_description\",\n",
    "    \"original_statement_of_work\",\n",
    "    \"project_type\",\n",
    "    \"funding\",\n",
    "    \"number_of_buses\",\n",
    "    \"zero_emission_buses\",\n",
    "    \"propulsion_type\",\n",
    "    \"specific_propulsion_type\"\n",
    "]\n",
    "\n",
    "fy_23_zeb_bus = fy_23_data[\n",
    "    (fy_23_data[\"project_type\"] == \"Bus\") &\n",
    "    (fy_23_data[\"propulsion_type\"] == \"Zero\")\n",
    "    #(fy_23_data[\"low_emission_buses\"] == 0) &\n",
    "    #(fy_23_data[\"zero_emission_buses\"] > 0)\n",
    "][col_list]"
   ]
  },
  {
   "cell_type": "code",
   "execution_count": 7,
   "id": "c519b42a-b92f-4676-a9db-054eb1f1685a",
   "metadata": {},
   "outputs": [
    {
     "data": {
      "text/plain": [
       "New Mexico Department of Transportation on behalf of North Central Regional Transit District    2\n",
       "State of California on behalf of Kern Regional Transit                                          2\n",
       "Regional Public Transportation Authority (Valley Metro)                                         1\n",
       "Metropolitan Transit Authority of Harris County (METRO)                                         1\n",
       "State of California on behalf of Glenn County Transportation Commission                         1\n",
       "Name: project_sponsor, dtype: int64"
      ]
     },
     "execution_count": 7,
     "metadata": {},
     "output_type": "execute_result"
    }
   ],
   "source": [
    "fy_23_data[\"project_sponsor\"].value_counts().head()"
   ]
  },
  {
   "cell_type": "code",
   "execution_count": 8,
   "id": "d7b0470f-1cff-4cae-a17c-b472344c4d7d",
   "metadata": {},
   "outputs": [
    {
     "data": {
      "text/plain": [
       "Zero                        54\n",
       "Low                         43\n",
       "Traditional                 17\n",
       "Zero / Traditional           5\n",
       "Zero / Low                   3\n",
       "Low / Traditional            3\n",
       "Other                        2\n",
       "Zero / Low / Traditional     2\n",
       "Combined                     1\n",
       "Name: propulsion_type, dtype: int64"
      ]
     },
     "execution_count": 8,
     "metadata": {},
     "output_type": "execute_result"
    }
   ],
   "source": [
    "fy_23_data[\"propulsion_type\"].value_counts()"
   ]
  },
  {
   "cell_type": "code",
   "execution_count": 9,
   "id": "fd2cbecc-2036-4f2b-b3b2-881f5bffc379",
   "metadata": {
    "tags": []
   },
   "outputs": [
    {
     "data": {
      "text/plain": [
       "(4, 10)"
      ]
     },
     "metadata": {},
     "output_type": "display_data"
    },
    {
     "data": {
      "text/plain": [
       "Index(['application_number', 'project_sponsor', 'project_description',\n",
       "       'original_statement_of_work', 'project_type', 'funding',\n",
       "       'number_of_buses', 'zero_emission_buses', 'propulsion_type',\n",
       "       'specific_propulsion_type'],\n",
       "      dtype='object')"
      ]
     },
     "metadata": {},
     "output_type": "display_data"
    }
   ],
   "source": [
    "display(fy_23_zeb_bus.shape,\n",
    "        fy_23_zeb_bus.columns\n",
    "       )"
   ]
  },
  {
   "cell_type": "code",
   "execution_count": 10,
   "id": "e9467a19-0064-43ca-bab7-6e03db1da12f",
   "metadata": {
    "tags": []
   },
   "outputs": [
    {
     "data": {
      "text/html": [
       "<div>\n",
       "<style scoped>\n",
       "    .dataframe tbody tr th:only-of-type {\n",
       "        vertical-align: middle;\n",
       "    }\n",
       "\n",
       "    .dataframe tbody tr th {\n",
       "        vertical-align: top;\n",
       "    }\n",
       "\n",
       "    .dataframe thead th {\n",
       "        text-align: right;\n",
       "    }\n",
       "</style>\n",
       "<table border=\"1\" class=\"dataframe\">\n",
       "  <thead>\n",
       "    <tr style=\"text-align: right;\">\n",
       "      <th></th>\n",
       "      <th>application_number</th>\n",
       "      <th>project_sponsor</th>\n",
       "      <th>project_description</th>\n",
       "      <th>original_statement_of_work</th>\n",
       "      <th>project_type</th>\n",
       "      <th>funding</th>\n",
       "      <th>number_of_buses</th>\n",
       "      <th>zero_emission_buses</th>\n",
       "      <th>propulsion_type</th>\n",
       "      <th>specific_propulsion_type</th>\n",
       "    </tr>\n",
       "  </thead>\n",
       "  <tbody>\n",
       "    <tr>\n",
       "      <th>49</th>\n",
       "      <td>LOWNO-2023-3705</td>\n",
       "      <td>Comanche Nation</td>\n",
       "      <td>Comanche Nation Transit will receive funds to buy battery-electric vehicles and charging equipment and train workers in the new technology. The no-emission vehicles will help improve air quality and fill transportation gaps for residents of Kiowa Comanche Apache tribal lands.</td>\n",
       "      <td>Comanche Nation Transit is submitting a proposal for the Low-No Emissions Grant. Funding requested is $300,000. The funding will go towards purchasing no emissions vehicles as well as purchasing the infrastructure to support the vehicles. There will also be a workforce development plan to prepare our staff and offer them more opportunity to expand as employees.</td>\n",
       "      <td>Bus</td>\n",
       "      <td>$300,000</td>\n",
       "      <td>2</td>\n",
       "      <td>2</td>\n",
       "      <td>Zero</td>\n",
       "      <td>BEB</td>\n",
       "    </tr>\n",
       "    <tr>\n",
       "      <th>112</th>\n",
       "      <td>LowNo-2023-4146</td>\n",
       "      <td>King County Metro Transit</td>\n",
       "      <td>King County Metro Transit will receive funding to buy battery-electric buses and charging equipment and train workers to maintain the electric fleet. The project will convert 27 bus routes that serve areas with higher numbers of people of low income as well as expand Metro’s apprenticeship program, including promoting transit careers for residents in underserved communities.</td>\n",
       "      <td>Purchase thirty 40-foot battery electric buses (BEBs) to replace thirty 60  hybrid diesel/electric buses that are beyond their FTA defined useful life benchmark.  The buses would support converting 27 routes that operate out of Metros South Base Campus to full zero emissions operations.  These routes serve areas which have a higher proportion of Black , Indigenous, and People of Color, and low-income populations than the rest of the County.  See Attachment 1b.The project also supports Metros Workforce and Pathways Development programs including: 1) Expands Metros 48-month registered apprenticeship programs (four new apprentices).  2) Expands supportive services to help purchase tools and provide dependent care (ten apprentices). 3) Provides inclusive community outreach events to promote career pathways targeting residents in underserved communities. 4) Includes train-the-trainer classes (15) for Metros Battery Electric Bus Training Academy to support advanced workforce training.</td>\n",
       "      <td>Bus</td>\n",
       "      <td>$33,552,634</td>\n",
       "      <td>30 (BEBs)</td>\n",
       "      <td>30</td>\n",
       "      <td>Zero</td>\n",
       "      <td>BEB</td>\n",
       "    </tr>\n",
       "  </tbody>\n",
       "</table>\n",
       "</div>"
      ],
      "text/plain": [
       "    application_number            project_sponsor  \\\n",
       "49     LOWNO-2023-3705            Comanche Nation   \n",
       "112    LowNo-2023-4146  King County Metro Transit   \n",
       "\n",
       "                                                                                                                                                                                                                                                                                                                                                                           project_description  \\\n",
       "49                                                                                                        Comanche Nation Transit will receive funds to buy battery-electric vehicles and charging equipment and train workers in the new technology. The no-emission vehicles will help improve air quality and fill transportation gaps for residents of Kiowa Comanche Apache tribal lands.   \n",
       "112  King County Metro Transit will receive funding to buy battery-electric buses and charging equipment and train workers to maintain the electric fleet. The project will convert 27 bus routes that serve areas with higher numbers of people of low income as well as expand Metro’s apprenticeship program, including promoting transit careers for residents in underserved communities.   \n",
       "\n",
       "                                                                                                                                                                                                                                                                                                                                                                                                                                                                                                                                                                                                                                                                                                                                                                                                                                                                                                                                                                                                            original_statement_of_work  \\\n",
       "49                                                                                                                                                                                                                                                                                                                                                                                                                                                                                                                                                                                                                                                         Comanche Nation Transit is submitting a proposal for the Low-No Emissions Grant. Funding requested is $300,000. The funding will go towards purchasing no emissions vehicles as well as purchasing the infrastructure to support the vehicles. There will also be a workforce development plan to prepare our staff and offer them more opportunity to expand as employees.   \n",
       "112  Purchase thirty 40-foot battery electric buses (BEBs) to replace thirty 60  hybrid diesel/electric buses that are beyond their FTA defined useful life benchmark.  The buses would support converting 27 routes that operate out of Metros South Base Campus to full zero emissions operations.  These routes serve areas which have a higher proportion of Black , Indigenous, and People of Color, and low-income populations than the rest of the County.  See Attachment 1b.The project also supports Metros Workforce and Pathways Development programs including: 1) Expands Metros 48-month registered apprenticeship programs (four new apprentices).  2) Expands supportive services to help purchase tools and provide dependent care (ten apprentices). 3) Provides inclusive community outreach events to promote career pathways targeting residents in underserved communities. 4) Includes train-the-trainer classes (15) for Metros Battery Electric Bus Training Academy to support advanced workforce training.   \n",
       "\n",
       "    project_type      funding number_of_buses  zero_emission_buses  \\\n",
       "49           Bus     $300,000               2                    2   \n",
       "112          Bus  $33,552,634       30 (BEBs)                   30   \n",
       "\n",
       "    propulsion_type specific_propulsion_type  \n",
       "49             Zero                      BEB  \n",
       "112            Zero                      BEB  "
      ]
     },
     "execution_count": 10,
     "metadata": {},
     "output_type": "execute_result"
    }
   ],
   "source": [
    "# looks pretty good. will have to use some of the functions identify specific prop type and if projects include non-bus items\n",
    "fy_23_zeb_bus.head(2)"
   ]
  },
  {
   "cell_type": "markdown",
   "id": "20486aa6-9c36-43e6-9e60-4f98bc581a8d",
   "metadata": {
    "tags": []
   },
   "source": [
    "# Explore FY 24 data"
   ]
  },
  {
   "cell_type": "code",
   "execution_count": 11,
   "id": "46df0906-af3e-4e57-8653-867e3fd52e19",
   "metadata": {},
   "outputs": [
    {
     "data": {
      "text/plain": [
       "['application_number_',\n",
       " 'agency_name',\n",
       " 'low_no_bbf',\n",
       " 'project_description',\n",
       " 'number_of_buses_',\n",
       " 'funding_amount',\n",
       " 'project_title',\n",
       " 'project_type',\n",
       " 'display_type',\n",
       " 'overall_propulsion_type',\n",
       " 'specific_propulsion_type',\n",
       " 'areas_served',\n",
       " 'congressional_districts',\n",
       " 'address_line_1',\n",
       " 'city',\n",
       " 'state',\n",
       " 'additional_zip',\n",
       " 'zip_code',\n",
       " 'x',\n",
       " 'y',\n",
       " 'fid2',\n",
       " 'geometry']"
      ]
     },
     "execution_count": 11,
     "metadata": {},
     "output_type": "execute_result"
    }
   ],
   "source": [
    "list(fy_24_data.columns)"
   ]
  },
  {
   "cell_type": "code",
   "execution_count": 12,
   "id": "3dd31cda-edab-4824-8356-c6127fea9ade",
   "metadata": {},
   "outputs": [
    {
     "data": {
      "text/html": [
       "<div>\n",
       "<style scoped>\n",
       "    .dataframe tbody tr th:only-of-type {\n",
       "        vertical-align: middle;\n",
       "    }\n",
       "\n",
       "    .dataframe tbody tr th {\n",
       "        vertical-align: top;\n",
       "    }\n",
       "\n",
       "    .dataframe thead th {\n",
       "        text-align: right;\n",
       "    }\n",
       "</style>\n",
       "<table border=\"1\" class=\"dataframe\">\n",
       "  <thead>\n",
       "    <tr style=\"text-align: right;\">\n",
       "      <th></th>\n",
       "      <th>application_number_</th>\n",
       "      <th>agency_name</th>\n",
       "      <th>low_no_bbf</th>\n",
       "      <th>project_description</th>\n",
       "      <th>number_of_buses_</th>\n",
       "      <th>funding_amount</th>\n",
       "      <th>project_title</th>\n",
       "      <th>project_type</th>\n",
       "      <th>display_type</th>\n",
       "      <th>overall_propulsion_type</th>\n",
       "      <th>specific_propulsion_type</th>\n",
       "      <th>areas_served</th>\n",
       "      <th>congressional_districts</th>\n",
       "      <th>address_line_1</th>\n",
       "      <th>city</th>\n",
       "      <th>state</th>\n",
       "      <th>additional_zip</th>\n",
       "      <th>zip_code</th>\n",
       "      <th>x</th>\n",
       "      <th>y</th>\n",
       "      <th>fid2</th>\n",
       "      <th>geometry</th>\n",
       "    </tr>\n",
       "  </thead>\n",
       "  <tbody>\n",
       "    <tr>\n",
       "      <th>0</th>\n",
       "      <td>BUSFAC-2024-4750</td>\n",
       "      <td>Alaska Department of Transportation, on behalf of City and Borough of Juneau, Capital Transit</td>\n",
       "      <td>BBF</td>\n",
       "      <td>Alaska Department of Transportation, on behalf of Capital Transit, will receive funding to buy new electric buses, install charging equipment, and initiate a workforce development program. The project will improve service, reliability and air quality throughout the city and borough of Juneau in Alaska’s Southeast panhandle.</td>\n",
       "      <td>6</td>\n",
       "      <td>11855112.0</td>\n",
       "      <td>Mitigating Overcrowding and Enhancing Sustainability in Alaskas Capital City</td>\n",
       "      <td>Vehicle | Facility | Chargers</td>\n",
       "      <td>Zero Bus and Facility</td>\n",
       "      <td>Zero</td>\n",
       "      <td>Battery electric</td>\n",
       "      <td>Rural</td>\n",
       "      <td>AK-001</td>\n",
       "      <td>PO Box 112500</td>\n",
       "      <td>Juneau</td>\n",
       "      <td>AK</td>\n",
       "      <td>2500</td>\n",
       "      <td>99811</td>\n",
       "      <td>-134.41630</td>\n",
       "      <td>58.29971</td>\n",
       "      <td>1</td>\n",
       "      <td>POINT (-134.41631 58.29971)</td>\n",
       "    </tr>\n",
       "    <tr>\n",
       "      <th>1</th>\n",
       "      <td>BUSFAC-2024-5061</td>\n",
       "      <td>City of Montgomery / The M Public Transit System</td>\n",
       "      <td>BBF</td>\n",
       "      <td>The city of Montgomery's The M transit system will receive funding to buy battery electric buses, charging equipment and to initiate a workforce training program. The project will ensure continued service reliability, maintain a state of good repair and, by improving air quality, advance environmental justice in the Montgomery community.</td>\n",
       "      <td>8</td>\n",
       "      <td>16941377.0</td>\n",
       "      <td>City of Montgomery / The M Public Transit System  Electric Bus Program</td>\n",
       "      <td>Vehicle | Chargers</td>\n",
       "      <td>Zero Bus and Facility</td>\n",
       "      <td>Zero</td>\n",
       "      <td>Battery electric</td>\n",
       "      <td>Large Urban</td>\n",
       "      <td>AL-002 | AL-007</td>\n",
       "      <td>103 N. Perry Street</td>\n",
       "      <td>Montgomery</td>\n",
       "      <td>AL</td>\n",
       "      <td>3728</td>\n",
       "      <td>36104</td>\n",
       "      <td>-86.30811</td>\n",
       "      <td>32.37930</td>\n",
       "      <td>2</td>\n",
       "      <td>POINT (-86.30811 32.37930)</td>\n",
       "    </tr>\n",
       "  </tbody>\n",
       "</table>\n",
       "</div>"
      ],
      "text/plain": [
       "  application_number_  \\\n",
       "0    BUSFAC-2024-4750   \n",
       "1    BUSFAC-2024-5061   \n",
       "\n",
       "                                                                                     agency_name  \\\n",
       "0  Alaska Department of Transportation, on behalf of City and Borough of Juneau, Capital Transit   \n",
       "1                                               City of Montgomery / The M Public Transit System   \n",
       "\n",
       "  low_no_bbf  \\\n",
       "0        BBF   \n",
       "1        BBF   \n",
       "\n",
       "                                                                                                                                                                                                                                                                                                                                   project_description  \\\n",
       "0               Alaska Department of Transportation, on behalf of Capital Transit, will receive funding to buy new electric buses, install charging equipment, and initiate a workforce development program. The project will improve service, reliability and air quality throughout the city and borough of Juneau in Alaska’s Southeast panhandle.    \n",
       "1  The city of Montgomery's The M transit system will receive funding to buy battery electric buses, charging equipment and to initiate a workforce training program. The project will ensure continued service reliability, maintain a state of good repair and, by improving air quality, advance environmental justice in the Montgomery community.   \n",
       "\n",
       "   number_of_buses_  funding_amount  \\\n",
       "0                 6      11855112.0   \n",
       "1                 8      16941377.0   \n",
       "\n",
       "                                                                  project_title  \\\n",
       "0  Mitigating Overcrowding and Enhancing Sustainability in Alaskas Capital City   \n",
       "1        City of Montgomery / The M Public Transit System  Electric Bus Program   \n",
       "\n",
       "                    project_type           display_type  \\\n",
       "0  Vehicle | Facility | Chargers  Zero Bus and Facility   \n",
       "1             Vehicle | Chargers  Zero Bus and Facility   \n",
       "\n",
       "  overall_propulsion_type specific_propulsion_type areas_served  \\\n",
       "0                    Zero         Battery electric        Rural   \n",
       "1                    Zero         Battery electric  Large Urban   \n",
       "\n",
       "  congressional_districts       address_line_1        city state  \\\n",
       "0                  AK-001        PO Box 112500      Juneau    AK   \n",
       "1         AL-002 | AL-007  103 N. Perry Street  Montgomery    AL   \n",
       "\n",
       "   additional_zip  zip_code          x         y  fid2  \\\n",
       "0            2500     99811 -134.41630  58.29971     1   \n",
       "1            3728     36104  -86.30811  32.37930     2   \n",
       "\n",
       "                      geometry  \n",
       "0  POINT (-134.41631 58.29971)  \n",
       "1   POINT (-86.30811 32.37930)  "
      ]
     },
     "execution_count": 12,
     "metadata": {},
     "output_type": "execute_result"
    }
   ],
   "source": [
    "fy_24_data.head(2)\n"
   ]
  },
  {
   "cell_type": "code",
   "execution_count": 13,
   "id": "22f24864-ad97-4a83-865f-d8f390746aaa",
   "metadata": {},
   "outputs": [
    {
     "data": {
      "text/plain": [
       "['Battery electric',\n",
       " 'Battery electric ',\n",
       " 'Battery electric | Diesel-electric hybrid',\n",
       " 'Battery electric | Diesel-electric hybrid | Propane',\n",
       " 'Battery electric | Hydrogen fuel cell',\n",
       " 'Battery electric | Propane',\n",
       " 'CNG',\n",
       " 'CNG | Diesel | Diesel-electric hybrid | Gasoline | Other',\n",
       " 'CNG | Diesel-electric hybrid',\n",
       " 'CNG | Gasoline',\n",
       " 'CNG | Hydrogen fuel cell',\n",
       " 'Diesel',\n",
       " 'Diesel | Gasoline',\n",
       " 'Diesel-electric hybrid',\n",
       " 'Diesel-electric hybrid | Hydrogen fuel cell',\n",
       " 'Gasoline',\n",
       " 'Hydrogen fuel cell',\n",
       " 'N/A',\n",
       " 'Propane']"
      ]
     },
     "metadata": {},
     "output_type": "display_data"
    },
    {
     "data": {
      "text/plain": [
       "['Facility',\n",
       " 'Facility ',\n",
       " 'Facility | Chargers',\n",
       " 'Facility | Equipment',\n",
       " 'Vehicle',\n",
       " 'Vehicle ',\n",
       " 'Vehicle | Chargers',\n",
       " 'Vehicle | Chargers | Equipment',\n",
       " 'Vehicle | Equipment',\n",
       " 'Vehicle | Facility',\n",
       " 'Vehicle | Facility ',\n",
       " 'Vehicle | Facility | Chargers',\n",
       " 'Vehicle | Facility | Equipment']"
      ]
     },
     "metadata": {},
     "output_type": "display_data"
    }
   ],
   "source": [
    "display(\n",
    "    list(fy_24_data[\"specific_propulsion_type\"].sort_values().unique()),\n",
    "    list(fy_24_data[\"project_type\"].sort_values().unique())\n",
    ")\n"
   ]
  },
  {
   "cell_type": "code",
   "execution_count": 14,
   "id": "6515b963-f89b-4b6d-8a83-69cdbd9949f9",
   "metadata": {},
   "outputs": [],
   "source": [
    "col_list_24 = [\n",
    "    \"application_number_\",\n",
    "    \"agency_name\",\n",
    "    \"project_description\",\n",
    "    \"project_type\",\n",
    "    \"funding_amount\",\n",
    "    \"number_of_buses_\",\n",
    "    \"overall_propulsion_type\",\n",
    "    \"specific_propulsion_type\"\n",
    "]\n",
    "\n",
    "search_val=[\n",
    "    \"Vehicle \", \n",
    "    \"Vehicle\"\n",
    "]\n",
    "\n",
    "prop_vals = [\n",
    "    \"Battery electric\",\n",
    "    \"Hydrogen fuel cell\",\n",
    "    \"Battery electric | Hydrogen fuel cell\",\n",
    "    \"Battery electric \",\n",
    "]\n",
    "\n",
    "fy_24_zeb_bus = fy_24_data[col_list_24][\n",
    "    (fy_24_data[\"project_type\"].isin(search_val)) & \n",
    "    (fy_24_data[\"specific_propulsion_type\"].isin(prop_vals))\n",
    "]"
   ]
  },
  {
   "cell_type": "markdown",
   "id": "1881520f-b3df-4db5-849f-c5eb1e5c35d2",
   "metadata": {},
   "source": [
    "# Filtered Dataframes\n",
    "Filtered to show only ZEB projects for 23 and 24 only. \n",
    "Project type is just buses, not facilities, equipment or any combinations including buses"
   ]
  },
  {
   "cell_type": "code",
   "execution_count": 15,
   "id": "aaaeb48f-086e-4d71-afab-40735aa69c2c",
   "metadata": {},
   "outputs": [
    {
     "data": {
      "text/html": [
       "<div>\n",
       "<style scoped>\n",
       "    .dataframe tbody tr th:only-of-type {\n",
       "        vertical-align: middle;\n",
       "    }\n",
       "\n",
       "    .dataframe tbody tr th {\n",
       "        vertical-align: top;\n",
       "    }\n",
       "\n",
       "    .dataframe thead th {\n",
       "        text-align: right;\n",
       "    }\n",
       "</style>\n",
       "<table border=\"1\" class=\"dataframe\">\n",
       "  <thead>\n",
       "    <tr style=\"text-align: right;\">\n",
       "      <th></th>\n",
       "      <th>application_number_</th>\n",
       "      <th>agency_name</th>\n",
       "      <th>project_description</th>\n",
       "      <th>project_type</th>\n",
       "      <th>funding_amount</th>\n",
       "      <th>number_of_buses_</th>\n",
       "      <th>overall_propulsion_type</th>\n",
       "      <th>specific_propulsion_type</th>\n",
       "    </tr>\n",
       "  </thead>\n",
       "  <tbody>\n",
       "    <tr>\n",
       "      <th>8</th>\n",
       "      <td>BUSFAC-2024-4738</td>\n",
       "      <td>California Department of Transportation, on behalf of Morongo Basin Transit Authority</td>\n",
       "      <td>The California Department of Transportation, on behalf of the Morongo Basin Transit Authority, will receive funding to buy a battery-electric bus to replace an older vehicle. This project will improve air quality, safety, reliability and state of good repair in the San Bernadino County service area.</td>\n",
       "      <td>Vehicle</td>\n",
       "      <td>131168.0</td>\n",
       "      <td>1</td>\n",
       "      <td>Zero</td>\n",
       "      <td>Battery electric</td>\n",
       "    </tr>\n",
       "    <tr>\n",
       "      <th>9</th>\n",
       "      <td>BUSFAC-2024-4564</td>\n",
       "      <td>Santa Barbara Metropolitan Transit District</td>\n",
       "      <td>The Santa Barbara Metropolitan Transportation District will receive funding to buy battery-electric buses and chargers to replace older diesel buses, which will improve service reliability and reduce air pollution.</td>\n",
       "      <td>Vehicle</td>\n",
       "      <td>2894131.0</td>\n",
       "      <td>2</td>\n",
       "      <td>Zero</td>\n",
       "      <td>Battery electric</td>\n",
       "    </tr>\n",
       "    <tr>\n",
       "      <th>31</th>\n",
       "      <td>LOWNO-2024-4943</td>\n",
       "      <td>Escambia County Board of County Commissioners</td>\n",
       "      <td>Escambia County Area Transit (ECAT) will receive funding to buy battery electric buses and install a charging station, part of ECAT's plan to transition to a fully zero-emission fleet by 2035. The agency will prioritize deployment to areas with a higher percentage of underrepresented populations that rely heavily on transit and have been disproportionately impacted by pollution.</td>\n",
       "      <td>Vehicle</td>\n",
       "      <td>21272962.0</td>\n",
       "      <td>13</td>\n",
       "      <td>Zero</td>\n",
       "      <td>Battery electric</td>\n",
       "    </tr>\n",
       "    <tr>\n",
       "      <th>49</th>\n",
       "      <td>LOWNO-2024-4643</td>\n",
       "      <td>Greater Peoria Mass Transit District</td>\n",
       "      <td>Greater Peoria Mass Transit District will receive funding to buy battery-electric buses to replace diesel-engine vehicles. The project will lower emissions, increase safety and provide more reliable transportation to underserved communities in Peoria and surrounding areas.</td>\n",
       "      <td>Vehicle</td>\n",
       "      <td>14415095.0</td>\n",
       "      <td>10</td>\n",
       "      <td>Zero</td>\n",
       "      <td>Battery electric</td>\n",
       "    </tr>\n",
       "    <tr>\n",
       "      <th>54</th>\n",
       "      <td>BUSFAC-2024-5032</td>\n",
       "      <td>Transit Authority of River City (TARC)</td>\n",
       "      <td>Transit Authority of River City (TARC) will receive funding to buy zero-emission battery-electric buses to replace buses that have exceeded their useful life. TARC will improve its fleet's state of good repair and provide more environmentally friendly transportation for riders to jobs, school, healthcare and more.</td>\n",
       "      <td>Vehicle</td>\n",
       "      <td>3643825.0</td>\n",
       "      <td>3</td>\n",
       "      <td>Zero</td>\n",
       "      <td>Battery electric</td>\n",
       "    </tr>\n",
       "    <tr>\n",
       "      <th>57</th>\n",
       "      <td>LOWNO-2024-4949</td>\n",
       "      <td>Massachusetts Bay Transportation Authority</td>\n",
       "      <td>The Massachusetts Bay Transportation Authority will receive funding to buy new battery electric buses to replace older buses that have exceeded their useful life and additional funds to train workers on the new technology. The zero-emission buses will significantly reduce greenhouse gas emissions and harmful pollutants.</td>\n",
       "      <td>Vehicle</td>\n",
       "      <td>40000000.0</td>\n",
       "      <td>33</td>\n",
       "      <td>Zero</td>\n",
       "      <td>Battery electric</td>\n",
       "    </tr>\n",
       "    <tr>\n",
       "      <th>95</th>\n",
       "      <td>LOWNO-2024-4952</td>\n",
       "      <td>Tri-County Metropolitan Transportation District of Oregon (TriMet)</td>\n",
       "      <td>TriMet will receive funding to buy new hydrogen fuel cell buses to replace older diesel buses that are past their useful life, a new portable fueling station and to initiate facility improvements to accommodate the new hydrogen vehicles. The project will improve service, reliability and provide essential connections to jobs in services in the Portland metro area.</td>\n",
       "      <td>Vehicle</td>\n",
       "      <td>39000000.0</td>\n",
       "      <td>14</td>\n",
       "      <td>Zero</td>\n",
       "      <td>Hydrogen fuel cell</td>\n",
       "    </tr>\n",
       "    <tr>\n",
       "      <th>106</th>\n",
       "      <td>LOWNO-2024-4980</td>\n",
       "      <td>Utah Transit Authority</td>\n",
       "      <td>Utah Transit Authority will receive funding to replace older diesel buses with new battery-electric buses, which will be housed at their Meadowbrook facility. This project will reduce harmful emissions, while serving disadvantaged communities within Salt Lake County.</td>\n",
       "      <td>Vehicle</td>\n",
       "      <td>18112632.0</td>\n",
       "      <td>15</td>\n",
       "      <td>Zero</td>\n",
       "      <td>Battery electric</td>\n",
       "    </tr>\n",
       "    <tr>\n",
       "      <th>114</th>\n",
       "      <td>LOWNO-2024-4946</td>\n",
       "      <td>Chelan Douglas Public Transportation Benefit Area (dba Link Transit)</td>\n",
       "      <td>Link Transit will receive funding to buy battery electric buses, replacing gas-powered buses that have exceeded their useful life. The new buses will be more reliable and easier to maintain, lower fueling costs, reduce air pollution, and improve service throughout North Central Washington.</td>\n",
       "      <td>Vehicle</td>\n",
       "      <td>4462500.0</td>\n",
       "      <td>5</td>\n",
       "      <td>Zero</td>\n",
       "      <td>Battery electric</td>\n",
       "    </tr>\n",
       "  </tbody>\n",
       "</table>\n",
       "</div>"
      ],
      "text/plain": [
       "    application_number_  \\\n",
       "8      BUSFAC-2024-4738   \n",
       "9      BUSFAC-2024-4564   \n",
       "31      LOWNO-2024-4943   \n",
       "49      LOWNO-2024-4643   \n",
       "54     BUSFAC-2024-5032   \n",
       "57      LOWNO-2024-4949   \n",
       "95      LOWNO-2024-4952   \n",
       "106     LOWNO-2024-4980   \n",
       "114     LOWNO-2024-4946   \n",
       "\n",
       "                                                                               agency_name  \\\n",
       "8    California Department of Transportation, on behalf of Morongo Basin Transit Authority   \n",
       "9                                              Santa Barbara Metropolitan Transit District   \n",
       "31                                           Escambia County Board of County Commissioners   \n",
       "49                                                    Greater Peoria Mass Transit District   \n",
       "54                                                  Transit Authority of River City (TARC)   \n",
       "57                                              Massachusetts Bay Transportation Authority   \n",
       "95                      Tri-County Metropolitan Transportation District of Oregon (TriMet)   \n",
       "106                                                                 Utah Transit Authority   \n",
       "114                   Chelan Douglas Public Transportation Benefit Area (dba Link Transit)   \n",
       "\n",
       "                                                                                                                                                                                                                                                                                                                                                                                project_description  \\\n",
       "8                                                                                     The California Department of Transportation, on behalf of the Morongo Basin Transit Authority, will receive funding to buy a battery-electric bus to replace an older vehicle. This project will improve air quality, safety, reliability and state of good repair in the San Bernadino County service area.    \n",
       "9                                                                                                                                                                            The Santa Barbara Metropolitan Transportation District will receive funding to buy battery-electric buses and chargers to replace older diesel buses, which will improve service reliability and reduce air pollution.   \n",
       "31   Escambia County Area Transit (ECAT) will receive funding to buy battery electric buses and install a charging station, part of ECAT's plan to transition to a fully zero-emission fleet by 2035. The agency will prioritize deployment to areas with a higher percentage of underrepresented populations that rely heavily on transit and have been disproportionately impacted by pollution.    \n",
       "49                                                                                                               Greater Peoria Mass Transit District will receive funding to buy battery-electric buses to replace diesel-engine vehicles. The project will lower emissions, increase safety and provide more reliable transportation to underserved communities in Peoria and surrounding areas.    \n",
       "54                                                                     Transit Authority of River City (TARC) will receive funding to buy zero-emission battery-electric buses to replace buses that have exceeded their useful life. TARC will improve its fleet's state of good repair and provide more environmentally friendly transportation for riders to jobs, school, healthcare and more.    \n",
       "57                                                               The Massachusetts Bay Transportation Authority will receive funding to buy new battery electric buses to replace older buses that have exceeded their useful life and additional funds to train workers on the new technology. The zero-emission buses will significantly reduce greenhouse gas emissions and harmful pollutants.    \n",
       "95                    TriMet will receive funding to buy new hydrogen fuel cell buses to replace older diesel buses that are past their useful life, a new portable fueling station and to initiate facility improvements to accommodate the new hydrogen vehicles. The project will improve service, reliability and provide essential connections to jobs in services in the Portland metro area.   \n",
       "106                                                                                                                     Utah Transit Authority will receive funding to replace older diesel buses with new battery-electric buses, which will be housed at their Meadowbrook facility. This project will reduce harmful emissions, while serving disadvantaged communities within Salt Lake County.   \n",
       "114                                                                                              Link Transit will receive funding to buy battery electric buses, replacing gas-powered buses that have exceeded their useful life. The new buses will be more reliable and easier to maintain, lower fueling costs, reduce air pollution, and improve service throughout North Central Washington.   \n",
       "\n",
       "    project_type  funding_amount  number_of_buses_ overall_propulsion_type  \\\n",
       "8       Vehicle         131168.0                 1                    Zero   \n",
       "9       Vehicle        2894131.0                 2                    Zero   \n",
       "31      Vehicle       21272962.0                13                    Zero   \n",
       "49      Vehicle       14415095.0                10                    Zero   \n",
       "54      Vehicle        3643825.0                 3                    Zero   \n",
       "57      Vehicle       40000000.0                33                    Zero   \n",
       "95      Vehicle       39000000.0                14                    Zero   \n",
       "106     Vehicle       18112632.0                15                    Zero   \n",
       "114      Vehicle       4462500.0                 5                    Zero   \n",
       "\n",
       "    specific_propulsion_type  \n",
       "8           Battery electric  \n",
       "9           Battery electric  \n",
       "31          Battery electric  \n",
       "49          Battery electric  \n",
       "54          Battery electric  \n",
       "57          Battery electric  \n",
       "95        Hydrogen fuel cell  \n",
       "106         Battery electric  \n",
       "114         Battery electric  "
      ]
     },
     "execution_count": 15,
     "metadata": {},
     "output_type": "execute_result"
    }
   ],
   "source": [
    "fy_24_zeb_bus"
   ]
  },
  {
   "cell_type": "code",
   "execution_count": 16,
   "id": "8835f741-74bb-4189-8954-4ade8ceb0050",
   "metadata": {},
   "outputs": [
    {
     "data": {
      "text/html": [
       "<div>\n",
       "<style scoped>\n",
       "    .dataframe tbody tr th:only-of-type {\n",
       "        vertical-align: middle;\n",
       "    }\n",
       "\n",
       "    .dataframe tbody tr th {\n",
       "        vertical-align: top;\n",
       "    }\n",
       "\n",
       "    .dataframe thead th {\n",
       "        text-align: right;\n",
       "    }\n",
       "</style>\n",
       "<table border=\"1\" class=\"dataframe\">\n",
       "  <thead>\n",
       "    <tr style=\"text-align: right;\">\n",
       "      <th></th>\n",
       "      <th>application_number</th>\n",
       "      <th>project_sponsor</th>\n",
       "      <th>project_description</th>\n",
       "      <th>original_statement_of_work</th>\n",
       "      <th>project_type</th>\n",
       "      <th>funding</th>\n",
       "      <th>number_of_buses</th>\n",
       "      <th>zero_emission_buses</th>\n",
       "      <th>propulsion_type</th>\n",
       "      <th>specific_propulsion_type</th>\n",
       "    </tr>\n",
       "  </thead>\n",
       "  <tbody>\n",
       "    <tr>\n",
       "      <th>49</th>\n",
       "      <td>LOWNO-2023-3705</td>\n",
       "      <td>Comanche Nation</td>\n",
       "      <td>Comanche Nation Transit will receive funds to buy battery-electric vehicles and charging equipment and train workers in the new technology. The no-emission vehicles will help improve air quality and fill transportation gaps for residents of Kiowa Comanche Apache tribal lands.</td>\n",
       "      <td>Comanche Nation Transit is submitting a proposal for the Low-No Emissions Grant. Funding requested is $300,000. The funding will go towards purchasing no emissions vehicles as well as purchasing the infrastructure to support the vehicles. There will also be a workforce development plan to prepare our staff and offer them more opportunity to expand as employees.</td>\n",
       "      <td>Bus</td>\n",
       "      <td>$300,000</td>\n",
       "      <td>2</td>\n",
       "      <td>2</td>\n",
       "      <td>Zero</td>\n",
       "      <td>BEB</td>\n",
       "    </tr>\n",
       "    <tr>\n",
       "      <th>112</th>\n",
       "      <td>LowNo-2023-4146</td>\n",
       "      <td>King County Metro Transit</td>\n",
       "      <td>King County Metro Transit will receive funding to buy battery-electric buses and charging equipment and train workers to maintain the electric fleet. The project will convert 27 bus routes that serve areas with higher numbers of people of low income as well as expand Metro’s apprenticeship program, including promoting transit careers for residents in underserved communities.</td>\n",
       "      <td>Purchase thirty 40-foot battery electric buses (BEBs) to replace thirty 60  hybrid diesel/electric buses that are beyond their FTA defined useful life benchmark.  The buses would support converting 27 routes that operate out of Metros South Base Campus to full zero emissions operations.  These routes serve areas which have a higher proportion of Black , Indigenous, and People of Color, and low-income populations than the rest of the County.  See Attachment 1b.The project also supports Metros Workforce and Pathways Development programs including: 1) Expands Metros 48-month registered apprenticeship programs (four new apprentices).  2) Expands supportive services to help purchase tools and provide dependent care (ten apprentices). 3) Provides inclusive community outreach events to promote career pathways targeting residents in underserved communities. 4) Includes train-the-trainer classes (15) for Metros Battery Electric Bus Training Academy to support advanced workforce training.</td>\n",
       "      <td>Bus</td>\n",
       "      <td>$33,552,634</td>\n",
       "      <td>30 (BEBs)</td>\n",
       "      <td>30</td>\n",
       "      <td>Zero</td>\n",
       "      <td>BEB</td>\n",
       "    </tr>\n",
       "    <tr>\n",
       "      <th>123</th>\n",
       "      <td>LowNo-2023-4175</td>\n",
       "      <td>AutoRidad Metropolitana De Autobuses (PRMBA)</td>\n",
       "      <td>The Metropolitan Bus Authority will receive funding to buy new battery-electric buses, which they will maintain using a solar power charging station that was previously supported with federal funds. The buses will  operate on high-visibility routes, reduce greenhouse gas emissions, improve reliability and lessen dependence on external energy sources.</td>\n",
       "      <td>PRIME+ proposes to purchase eight no emission buses to eight replace diesel buses and use an FTA FY 2022 awarded dual solar powered charging station to bring sustainable climate friendly transit to Puerto Rico thus effectuating reliable, efficient and clean transportation, as well as, the use of plentiful solar energy. The buses will be assigned to mainline routes showcasing the project to citizens and visitors. PRIME will reduce: fossil fuel consumption, harmful emissions, dependence on foreign energy sources.</td>\n",
       "      <td>Bus</td>\n",
       "      <td>$10,000,000</td>\n",
       "      <td>8 (zero emission buses)</td>\n",
       "      <td>8</td>\n",
       "      <td>Zero</td>\n",
       "      <td>BEB</td>\n",
       "    </tr>\n",
       "    <tr>\n",
       "      <th>128</th>\n",
       "      <td>LowNo-2023-4222</td>\n",
       "      <td>North County Transit District (NCTD)</td>\n",
       "      <td>The North County Transit District will receive funding to buy hydrogen fuel-cell electric buses to replace older buses and to develop a workforce development program in partnership with a local college.  This project will help reduce greenhouse gas emissions and improve air quality, health, and transit operations in northern San Diego County.</td>\n",
       "      <td>The Accelerate Clean Transit (ACT) Project will deploy 23 hydrogen fuel-cell electric buses (FCEB) and create an Advanced Transportation apprenticeship program in partnership with Palomar College. The project will replace 23 end-of-life compressed natural gas (CNG) buses with FCEBs and leverage local investment in workforce development and hydrogen fueling infrastructure to maximize and deploy resources to communities in need. Consistent with the Justice 40 Initiative, funding support from the FTA for this project will benefit Historically Disadvantaged Communities by reducing greenhouse gas emissions, improving air quality, increasing service reliability, and creating a pipeline of good-paying jobs. Through this funding support, a quarter of NCTD's fleet will be zero-emission by late 2024 (as opposed to the scheduled twenty percent), which would result in the modernization of energy consumption and improvement of air quality and transit operations in San Diego County.</td>\n",
       "      <td>Bus</td>\n",
       "      <td>$29,330,243</td>\n",
       "      <td>23 (FCEB)</td>\n",
       "      <td>23</td>\n",
       "      <td>Zero</td>\n",
       "      <td>FCEB</td>\n",
       "    </tr>\n",
       "  </tbody>\n",
       "</table>\n",
       "</div>"
      ],
      "text/plain": [
       "    application_number                               project_sponsor  \\\n",
       "49     LOWNO-2023-3705                               Comanche Nation   \n",
       "112    LowNo-2023-4146                     King County Metro Transit   \n",
       "123    LowNo-2023-4175  AutoRidad Metropolitana De Autobuses (PRMBA)   \n",
       "128    LowNo-2023-4222          North County Transit District (NCTD)   \n",
       "\n",
       "                                                                                                                                                                                                                                                                                                                                                                           project_description  \\\n",
       "49                                                                                                        Comanche Nation Transit will receive funds to buy battery-electric vehicles and charging equipment and train workers in the new technology. The no-emission vehicles will help improve air quality and fill transportation gaps for residents of Kiowa Comanche Apache tribal lands.   \n",
       "112  King County Metro Transit will receive funding to buy battery-electric buses and charging equipment and train workers to maintain the electric fleet. The project will convert 27 bus routes that serve areas with higher numbers of people of low income as well as expand Metro’s apprenticeship program, including promoting transit careers for residents in underserved communities.   \n",
       "123                           The Metropolitan Bus Authority will receive funding to buy new battery-electric buses, which they will maintain using a solar power charging station that was previously supported with federal funds. The buses will  operate on high-visibility routes, reduce greenhouse gas emissions, improve reliability and lessen dependence on external energy sources.   \n",
       "128                                  The North County Transit District will receive funding to buy hydrogen fuel-cell electric buses to replace older buses and to develop a workforce development program in partnership with a local college.  This project will help reduce greenhouse gas emissions and improve air quality, health, and transit operations in northern San Diego County.    \n",
       "\n",
       "                                                                                                                                                                                                                                                                                                                                                                                                                                                                                                                                                                                                                                                                                                                                                                                                                                                                                                                                                                                                            original_statement_of_work  \\\n",
       "49                                                                                                                                                                                                                                                                                                                                                                                                                                                                                                                                                                                                                                                         Comanche Nation Transit is submitting a proposal for the Low-No Emissions Grant. Funding requested is $300,000. The funding will go towards purchasing no emissions vehicles as well as purchasing the infrastructure to support the vehicles. There will also be a workforce development plan to prepare our staff and offer them more opportunity to expand as employees.   \n",
       "112  Purchase thirty 40-foot battery electric buses (BEBs) to replace thirty 60  hybrid diesel/electric buses that are beyond their FTA defined useful life benchmark.  The buses would support converting 27 routes that operate out of Metros South Base Campus to full zero emissions operations.  These routes serve areas which have a higher proportion of Black , Indigenous, and People of Color, and low-income populations than the rest of the County.  See Attachment 1b.The project also supports Metros Workforce and Pathways Development programs including: 1) Expands Metros 48-month registered apprenticeship programs (four new apprentices).  2) Expands supportive services to help purchase tools and provide dependent care (ten apprentices). 3) Provides inclusive community outreach events to promote career pathways targeting residents in underserved communities. 4) Includes train-the-trainer classes (15) for Metros Battery Electric Bus Training Academy to support advanced workforce training.   \n",
       "123                                                                                                                                                                                                                                                                                                                                                                                                                                                                                               PRIME+ proposes to purchase eight no emission buses to eight replace diesel buses and use an FTA FY 2022 awarded dual solar powered charging station to bring sustainable climate friendly transit to Puerto Rico thus effectuating reliable, efficient and clean transportation, as well as, the use of plentiful solar energy. The buses will be assigned to mainline routes showcasing the project to citizens and visitors. PRIME will reduce: fossil fuel consumption, harmful emissions, dependence on foreign energy sources.   \n",
       "128           The Accelerate Clean Transit (ACT) Project will deploy 23 hydrogen fuel-cell electric buses (FCEB) and create an Advanced Transportation apprenticeship program in partnership with Palomar College. The project will replace 23 end-of-life compressed natural gas (CNG) buses with FCEBs and leverage local investment in workforce development and hydrogen fueling infrastructure to maximize and deploy resources to communities in need. Consistent with the Justice 40 Initiative, funding support from the FTA for this project will benefit Historically Disadvantaged Communities by reducing greenhouse gas emissions, improving air quality, increasing service reliability, and creating a pipeline of good-paying jobs. Through this funding support, a quarter of NCTD's fleet will be zero-emission by late 2024 (as opposed to the scheduled twenty percent), which would result in the modernization of energy consumption and improvement of air quality and transit operations in San Diego County.    \n",
       "\n",
       "    project_type      funding          number_of_buses  zero_emission_buses  \\\n",
       "49           Bus     $300,000                        2                    2   \n",
       "112          Bus  $33,552,634                30 (BEBs)                   30   \n",
       "123          Bus  $10,000,000  8 (zero emission buses)                    8   \n",
       "128          Bus  $29,330,243                23 (FCEB)                   23   \n",
       "\n",
       "    propulsion_type specific_propulsion_type  \n",
       "49             Zero                      BEB  \n",
       "112            Zero                      BEB  \n",
       "123            Zero                      BEB  \n",
       "128            Zero                     FCEB  "
      ]
     },
     "execution_count": 16,
     "metadata": {},
     "output_type": "execute_result"
    }
   ],
   "source": [
    "# new specific prop type col isnt catching the prop type correctly from \n",
    "fy_23_zeb_bus"
   ]
  },
  {
   "cell_type": "code",
   "execution_count": null,
   "id": "cf3b3878-1285-4eb9-be1b-8d9ab27a6cbb",
   "metadata": {},
   "outputs": [],
   "source": []
  }
 ],
 "metadata": {
  "kernelspec": {
   "display_name": "Python 3 (ipykernel)",
   "language": "python",
   "name": "python3"
  },
  "language_info": {
   "codemirror_mode": {
    "name": "ipython",
    "version": 3
   },
   "file_extension": ".py",
   "mimetype": "text/x-python",
   "name": "python",
   "nbconvert_exporter": "python",
   "pygments_lexer": "ipython3",
   "version": "3.9.13"
  }
 },
 "nbformat": 4,
 "nbformat_minor": 5
}
