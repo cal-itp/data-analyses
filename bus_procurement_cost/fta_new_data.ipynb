{
 "cells": [
  {
   "cell_type": "markdown",
   "id": "3cb59498-d45b-46be-b59b-b8a6a5cb9b00",
   "metadata": {},
   "source": [
    "# Querying Data from `FTA Bus Award StoryMap`\n",
    "\n",
    "Currently FTA uses ArcGIS storymap to display their bus award data. Is is possible to extract this data using their REST server.\n",
    "Extracting bus award data from a server will be the most reliable way to see the data."
   ]
  },
  {
   "cell_type": "code",
   "execution_count": 1,
   "id": "09bc8b46-8e3c-4793-98d2-88c2aa824b13",
   "metadata": {},
   "outputs": [
    {
     "data": {
      "text/plain": [
       "(117, 22)"
      ]
     },
     "metadata": {},
     "output_type": "display_data"
    },
    {
     "data": {
      "text/plain": [
       "geopandas.geodataframe.GeoDataFrame"
      ]
     },
     "metadata": {},
     "output_type": "display_data"
    },
    {
     "data": {
      "text/plain": [
       "Index(['Application_Number_', 'Agency_Name', 'Low_No_BBF',\n",
       "       'Project_Description', 'Number_of_Buses_', 'Funding_Amount',\n",
       "       'Project_Title', 'Project_Type', 'Display_Type',\n",
       "       'Overall_Propulsion_Type', 'Specific_Propulsion_Type', 'Areas_Served',\n",
       "       'Congressional_Districts', 'Address_Line_1', 'City', 'State',\n",
       "       'Additional_Zip', 'Zip_Code', 'X', 'Y', 'FID2', 'geometry'],\n",
       "      dtype='object')"
      ]
     },
     "metadata": {},
     "output_type": "display_data"
    },
    {
     "data": {
      "text/plain": [
       "(130, 25)"
      ]
     },
     "metadata": {},
     "output_type": "display_data"
    },
    {
     "data": {
      "text/plain": [
       "geopandas.geodataframe.GeoDataFrame"
      ]
     },
     "metadata": {},
     "output_type": "display_data"
    },
    {
     "data": {
      "text/plain": [
       "Index(['Application_Number', 'FTA_Region', 'Project_Sponsor', 'Project_Title',\n",
       "       'Project_Description', 'Original_Statement_of_Work', 'Funding',\n",
       "       'Number_of_Buses', 'Traditional_Buses', 'Low_Emission_Buses',\n",
       "       'Zero_Emission_Buses', 'Project_Type', 'Display_Type', 'Areas_Served',\n",
       "       'Congressional_Districts', 'Propulsion_Type', 'Address1', 'Address2',\n",
       "       'City', 'State', 'Zip', 'X', 'Y', 'ObjectId', 'geometry'],\n",
       "      dtype='object')"
      ]
     },
     "metadata": {},
     "output_type": "display_data"
    }
   ],
   "source": [
    "import geopandas as gpd\n",
    "\n",
    "# got geojson from ArcGIS Rest Server \n",
    "# https://services.arcgis.com/xOi1kZaI0eWDREZv/ArcGIS/rest/services/FY2024_Bus_Awards_/FeatureServer/0/query\n",
    "# https://services.arcgis.com/xOi1kZaI0eWDREZv/ArcGIS/rest/services/2023_06_12_Awards/FeatureServer/0/query\n",
    "\n",
    "fy24 = \"https://services.arcgis.com/xOi1kZaI0eWDREZv/ArcGIS/rest/services/FY2024_Bus_Awards_/FeatureServer/0/query?where=1%3D1&objectIds=&time=&geometry=&geometryType=esriGeometryPolygon&inSR=&spatialRel=esriSpatialRelIntersects&resultType=none&distance=0.0&units=esriSRUnit_Meter&relationParam=&returnGeodetic=false&outFields=*&returnGeometry=true&featureEncoding=esriDefault&multipatchOption=xyFootprint&maxAllowableOffset=&geometryPrecision=&outSR=&defaultSR=&datumTransformation=&applyVCSProjection=false&returnIdsOnly=false&returnUniqueIdsOnly=false&returnCountOnly=false&returnExtentOnly=false&returnQueryGeometry=false&returnDistinctValues=false&cacheHint=false&orderByFields=&groupByFieldsForStatistics=&outStatistics=&having=&resultOffset=&resultRecordCount=&returnZ=false&returnM=false&returnTrueCurves=false&returnExceededLimitFeatures=true&quantizationParameters=&sqlFormat=none&f=pgeojson&token=\"\n",
    "\n",
    "fy23 = \"https://services.arcgis.com/xOi1kZaI0eWDREZv/ArcGIS/rest/services/2023_06_12_Awards/FeatureServer/0/query?where=1%3D1&objectIds=&time=&geometry=&geometryType=esriGeometryEnvelope&inSR=&spatialRel=esriSpatialRelIntersects&resultType=none&distance=0.0&units=esriSRUnit_Meter&relationParam=&returnGeodetic=false&outFields=*&returnGeometry=true&featureEncoding=esriDefault&multipatchOption=xyFootprint&maxAllowableOffset=&geometryPrecision=&outSR=&defaultSR=&datumTransformation=&applyVCSProjection=false&returnIdsOnly=false&returnUniqueIdsOnly=false&returnCountOnly=false&returnExtentOnly=false&returnQueryGeometry=false&returnDistinctValues=false&cacheHint=false&orderByFields=&groupByFieldsForStatistics=&outStatistics=&having=&resultOffset=&resultRecordCount=&returnZ=false&returnM=false&returnTrueCurves=false&returnExceededLimitFeatures=true&quantizationParameters=&sqlFormat=none&f=pgeojson&token=\" \n",
    "\n",
    "\n",
    "fy_24_data = gpd.read_file(fy24)\n",
    "fy_23_data = gpd.read_file(fy23)\n",
    "\n",
    "display(\n",
    "    fy_24_data.shape,\n",
    "    type(fy_24_data),\n",
    "    fy_24_data.columns,\n",
    "    fy_23_data.shape,\n",
    "    type(fy_23_data),\n",
    "    fy_23_data.columns,\n",
    ")\n"
   ]
  },
  {
   "cell_type": "code",
   "execution_count": null,
   "id": "0162d31b-09b9-413f-9452-ecd446b5bf19",
   "metadata": {},
   "outputs": [],
   "source": []
  }
 ],
 "metadata": {
  "kernelspec": {
   "display_name": "Python 3 (ipykernel)",
   "language": "python",
   "name": "python3"
  },
  "language_info": {
   "codemirror_mode": {
    "name": "ipython",
    "version": 3
   },
   "file_extension": ".py",
   "mimetype": "text/x-python",
   "name": "python",
   "nbconvert_exporter": "python",
   "pygments_lexer": "ipython3",
   "version": "3.9.13"
  }
 },
 "nbformat": 4,
 "nbformat_minor": 5
}
