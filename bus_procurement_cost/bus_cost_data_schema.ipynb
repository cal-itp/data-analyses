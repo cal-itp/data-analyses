{
 "cells": [
  {
   "cell_type": "markdown",
   "id": "fc20cf88-e161-4c0d-84bc-6486d4bd0aed",
   "metadata": {},
   "source": [
    "# Bus Cost Data Schema"
   ]
  },
  {
   "cell_type": "code",
   "execution_count": 21,
   "id": "5f199438-0144-443c-9c5b-22197e2fc12c",
   "metadata": {},
   "outputs": [],
   "source": [
    "import pandas as pd\n",
    "from IPython.display import Markdown, display\n",
    "from _bus_cost_utils import GCS_PATH"
   ]
  },
  {
   "cell_type": "markdown",
   "id": "59e4676c-fd95-430f-b055-0539fe9b1e9c",
   "metadata": {},
   "source": [
    "Bus Cost Analysis takes in data from multiple sources, cleans, filters down and joins them together to get an aggregated dataset that show a Trasnit Agency's price per Zero-Emission Bus (ZEB).\n",
    "\n",
    "Data was pulled from 3 sources\n",
    "- FTA FY 23 Bus Award\n",
    "- TIRCP Tracking Sheet\n",
    "- DGS Usage Report\n",
    "\n",
    "The final, compiled output contains data related to bus size, propulsion type, bus count and cost"
   ]
  },
  {
   "cell_type": "markdown",
   "id": "98c93406-7990-477f-9fd5-1c5e0c980875",
   "metadata": {},
   "source": [
    "## FTA FY 23 Bus Award Data"
   ]
  },
  {
   "cell_type": "code",
   "execution_count": 3,
   "id": "3f2b0342-2756-458d-84f0-5876880b0c42",
   "metadata": {},
   "outputs": [],
   "source": [
    "# Final\n",
    "fta = pd.read_parquet(f\"{GCS_PATH}clean_fta_bus_only.parquet\")"
   ]
  },
  {
   "cell_type": "markdown",
   "id": "14f6340b-0496-4d5b-8495-7c962a205ede",
   "metadata": {},
   "source": [
    "## TIRCP Data"
   ]
  },
  {
   "cell_type": "code",
   "execution_count": 5,
   "id": "0c71c607-3ad3-4e3e-b6e4-92ea0e3ca957",
   "metadata": {},
   "outputs": [],
   "source": [
    "# Final\n",
    "tircp = pd.read_parquet(f\"{GCS_PATH}clean_tircp_bus_only.parquet\")"
   ]
  },
  {
   "cell_type": "markdown",
   "id": "069aae7a-204d-4175-b6c7-c3d7ad8d4f0b",
   "metadata": {},
   "source": [
    "## DGS Usage Report"
   ]
  },
  {
   "cell_type": "code",
   "execution_count": 7,
   "id": "4841b83e-a93d-4ad0-84db-4a3aeae627c1",
   "metadata": {},
   "outputs": [],
   "source": [
    "# Final\n",
    "dgs = pd.read_parquet(f\"{GCS_PATH}clean_dgs_bus_only_w_options.parquet\")"
   ]
  },
  {
   "cell_type": "markdown",
   "id": "a61591e6-b647-46dd-8db7-8c6b116d5227",
   "metadata": {},
   "source": [
    "## Final output"
   ]
  },
  {
   "cell_type": "code",
   "execution_count": 8,
   "id": "7c484576-0006-4157-a002-9f6efba46566",
   "metadata": {},
   "outputs": [],
   "source": [
    "final= pd.read_parquet(f'{GCS_PATH}cleaned_no_outliers_cpb_analysis_data_merge.parquet')"
   ]
  },
  {
   "cell_type": "markdown",
   "id": "38fa4726-e754-4df5-bb94-ea96d41d58bf",
   "metadata": {},
   "source": [
    "## Schema"
   ]
  },
  {
   "cell_type": "code",
   "execution_count": 37,
   "id": "330e7fa0-0db2-44c0-bc2e-14ac45e3f370",
   "metadata": {},
   "outputs": [
    {
     "name": "stdout",
     "output_type": "stream",
     "text": [
      "Data Schema: \n",
      "    \n",
      "FTA FY 23 Bus Award:\n",
      "project_sponsor         object\n",
      "project_title           object\n",
      "new_prop_type_finder    object\n",
      "new_bus_size_type       object\n",
      "description             object\n",
      "new_project_type        object\n",
      "funding                  int64\n",
      "bus_count                int64\n",
      "dtype: object\n",
      "    \n",
      "TIRCP Tracking Sheet:\n",
      "grant_recipient         object\n",
      "ppno                    object\n",
      "prop_type               object\n",
      "bus_size_type           object\n",
      "project_description     object\n",
      "new_project_type        object\n",
      "total_project_cost       int64\n",
      "bus_count              float64\n",
      "dtype: object\n",
      "    \n",
      "DGS Usage Report:\n",
      "ordering_agency_name     object\n",
      "purchase_order_number    object\n",
      "quantity                  int64\n",
      "new_prop_type            object\n",
      "new_bus_size             object\n",
      "source                   object\n",
      "total_cost                int64\n",
      "dtype: object\n",
      "    \n",
      "Final Output:\n",
      "transit_agency          object\n",
      "project_title           object\n",
      "prop_type               object\n",
      "bus_size_type           object\n",
      "description             object\n",
      "new_project_type        object\n",
      "total_cost               int64\n",
      "bus_count              float64\n",
      "source                  object\n",
      "ppno                    object\n",
      "project_description     object\n",
      "cost_per_bus             int64\n",
      "zscore_cost_per_bus    float64\n",
      "is_cpb_outlier?           bool\n",
      "dtype: object\n",
      "\n"
     ]
    }
   ],
   "source": [
    "print(\n",
    "f\"\"\"Data Schema: \n",
    "    \n",
    "FTA FY 23 Bus Award:\n",
    "{fta.dtypes}\n",
    "    \n",
    "TIRCP Tracking Sheet:\n",
    "{tircp.dtypes}\n",
    "    \n",
    "DGS Usage Report:\n",
    "{dgs.dtypes}\n",
    "    \n",
    "Final Output:\n",
    "{final.dtypes}\n",
    "\"\"\"\n",
    ")"
   ]
  },
  {
   "cell_type": "code",
   "execution_count": null,
   "id": "58fdf82a-d872-4abe-8b5a-ba3129aa428d",
   "metadata": {},
   "outputs": [],
   "source": []
  }
 ],
 "metadata": {
  "kernelspec": {
   "display_name": "Python 3 (ipykernel)",
   "language": "python",
   "name": "python3"
  },
  "language_info": {
   "codemirror_mode": {
    "name": "ipython",
    "version": 3
   },
   "file_extension": ".py",
   "mimetype": "text/x-python",
   "name": "python",
   "nbconvert_exporter": "python",
   "pygments_lexer": "ipython3",
   "version": "3.9.13"
  }
 },
 "nbformat": 4,
 "nbformat_minor": 5
}
