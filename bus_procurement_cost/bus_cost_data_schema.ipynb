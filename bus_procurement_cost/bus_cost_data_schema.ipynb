{
 "cells": [
  {
   "cell_type": "markdown",
   "id": "fc20cf88-e161-4c0d-84bc-6486d4bd0aed",
   "metadata": {},
   "source": [
    "# Bus Cost Data Schema"
   ]
  },
  {
   "cell_type": "code",
   "execution_count": 21,
   "id": "5f199438-0144-443c-9c5b-22197e2fc12c",
   "metadata": {},
   "outputs": [],
   "source": [
    "import pandas as pd\n",
    "from IPython.display import Markdown, display\n",
    "from _bus_cost_utils import GCS_PATH"
   ]
  },
  {
   "cell_type": "markdown",
   "id": "59e4676c-fd95-430f-b055-0539fe9b1e9c",
   "metadata": {},
   "source": [
    "Bus Cost Analysis takes in data from multiple sources, cleans, filters and merges them together to get an aggregated dataset that show a Trasnit Agency's price per Zero-Emission Bus (ZEB).\n",
    "\n",
    "Data was pulled from 3 sources\n",
    "- FTA FY 23 Bus Award List\n",
    "- TIRCP Tracking Sheet\n",
    "- DGS Usage Report\n",
    "\n",
    "The final, combined output contains data related to bus size, propulsion type, bus count and unit cost"
   ]
  },
  {
   "cell_type": "markdown",
   "id": "98c93406-7990-477f-9fd5-1c5e0c980875",
   "metadata": {},
   "source": [
    "## FTA FY 23 Bus Award Data"
   ]
  },
  {
   "cell_type": "code",
   "execution_count": 62,
   "id": "34213225-fb36-47e7-a923-372180afa8c9",
   "metadata": {},
   "outputs": [],
   "source": [
    "# initial\n",
    "fta_raw = pd.read_csv(f\"{GCS_PATH}raw_data-analyses_bus_procurement_cost_fta_press_release_data_csv.csv\")"
   ]
  },
  {
   "cell_type": "code",
   "execution_count": 67,
   "id": "31c1cd69-5fc4-4672-90d6-63e98d501150",
   "metadata": {},
   "outputs": [
    {
     "data": {
      "text/plain": [
       "['State',\n",
       " 'Project Sponsor',\n",
       " 'Project Title',\n",
       " 'Description',\n",
       " 'Funding',\n",
       " 'approx # of buses',\n",
       " 'project type',\n",
       " 'propulsion type',\n",
       " 'area served',\n",
       " 'congressional districts',\n",
       " 'FTA Region',\n",
       " 'Bus/Low-No program']"
      ]
     },
     "execution_count": 67,
     "metadata": {},
     "output_type": "execute_result"
    }
   ],
   "source": [
    "list(fta_raw.columns)"
   ]
  },
  {
   "cell_type": "code",
   "execution_count": 3,
   "id": "3f2b0342-2756-458d-84f0-5876880b0c42",
   "metadata": {},
   "outputs": [],
   "source": [
    "# Final\n",
    "fta = pd.read_parquet(f\"{GCS_PATH}clean_fta_bus_only.parquet\")"
   ]
  },
  {
   "cell_type": "markdown",
   "id": "14f6340b-0496-4d5b-8495-7c962a205ede",
   "metadata": {},
   "source": [
    "## TIRCP Data"
   ]
  },
  {
   "cell_type": "code",
   "execution_count": 63,
   "id": "e8343fa5-28ae-4030-91c9-aaa7d143a922",
   "metadata": {},
   "outputs": [
    {
     "name": "stderr",
     "output_type": "stream",
     "text": [
      "/opt/conda/lib/python3.9/site-packages/openpyxl/worksheet/_reader.py:312: UserWarning: Data Validation extension is not supported and will be removed\n",
      "  warn(msg)\n"
     ]
    }
   ],
   "source": [
    "#initial\n",
    "file_name = \"raw_TIRCP Tracking Sheets 2_1-10-2024.xlsx\"\n",
    "tircp_name = \"Project Tracking\"\n",
    "\n",
    "# read in data\n",
    "tircp_raw = pd.read_excel(f\"{GCS_PATH}{file_name}\", sheet_name=tircp_name)"
   ]
  },
  {
   "cell_type": "code",
   "execution_count": 68,
   "id": "9ee6515c-66fd-4302-9293-1544548080f0",
   "metadata": {},
   "outputs": [
    {
     "data": {
      "text/plain": [
       "['Award Year',\n",
       " 'Project #',\n",
       " 'Grant Recipient',\n",
       " 'Project Title',\n",
       " 'PPNO',\n",
       " 'District',\n",
       " 'County',\n",
       " 'Project Description',\n",
       " 'bus_count',\n",
       " 'Master Agreement Number',\n",
       " 'Master Agreement Expiration Date',\n",
       " 'Project Manager',\n",
       " 'Regional Coordinator',\n",
       " 'Technical Assistance-CALITP (Y/N)',\n",
       " 'Technical Assistance-Fleet (Y/N)',\n",
       " 'Technical Assistance-Network Integration (Y/N)',\n",
       " 'Technical Assistance-Priority Population (Y/N)',\n",
       " 'Total Project Cost',\n",
       " 'TIRCP Award Amount ($)',\n",
       " 'Allocated Amount',\n",
       " 'Unallocated Amount',\n",
       " 'Percentage Allocated',\n",
       " 'Expended Amount',\n",
       " 'Other Funds Involved',\n",
       " 'Award Cycle',\n",
       " 'Is SB1?',\n",
       " 'Is GGRF?',\n",
       " 'Is IIJA?',\n",
       " 'ON SHS?',\n",
       " 'CalITP',\n",
       " 'Estimated TIRCP GHG Reductions',\n",
       " 'Estemated Project Completion',\n",
       " 'Estimated TIRCP GHG Reductions2',\n",
       " 'Increased Ridership',\n",
       " 'Service Integration',\n",
       " 'Improve Safety',\n",
       " 'Project Readiness',\n",
       " 'Funding Leverage',\n",
       " 'Multi-Agency Coordination/Integration',\n",
       " 'AB 1550 Community Benefits',\n",
       " 'Housing Co-Benefits',\n",
       " 'Local Agency Address',\n",
       " 'Local Agency City',\n",
       " 'Local Agency Zip',\n",
       " 'Local Agency Contact',\n",
       " 'Local Agency Email',\n",
       " 'Local Agency Phone Number',\n",
       " 'Comments/Additional Contacts',\n",
       " 'S California']"
      ]
     },
     "execution_count": 68,
     "metadata": {},
     "output_type": "execute_result"
    }
   ],
   "source": [
    "list(tircp_raw.columns)"
   ]
  },
  {
   "cell_type": "code",
   "execution_count": 5,
   "id": "0c71c607-3ad3-4e3e-b6e4-92ea0e3ca957",
   "metadata": {},
   "outputs": [],
   "source": [
    "# Final\n",
    "tircp = pd.read_parquet(f\"{GCS_PATH}clean_tircp_bus_only.parquet\")"
   ]
  },
  {
   "cell_type": "markdown",
   "id": "069aae7a-204d-4175-b6c7-c3d7ad8d4f0b",
   "metadata": {},
   "source": [
    "## DGS Usage Report"
   ]
  },
  {
   "cell_type": "code",
   "execution_count": 65,
   "id": "e19a36b9-dabb-454c-9d68-3da4cc8f5d9f",
   "metadata": {},
   "outputs": [],
   "source": [
    "# initial\n",
    "\n",
    "file_17c = \"raw_17c compiled-Proterra Compiled Contract Usage Report .xlsx\"\n",
    "file_17b = \"raw_17b compiled.xlsx\"\n",
    "sheet_17c = \"Proterra \"\n",
    "sheet_17b = \"Usage Report Template\"\n",
    "\n",
    "dgs_17c = pd.read_excel(f\"{GCS_PATH}{file_17c}\", sheet_name=sheet_17c)\n",
    "dgs_17b = pd.read_excel(f\"{GCS_PATH}{file_17b}\", sheet_name=sheet_17b)"
   ]
  },
  {
   "cell_type": "code",
   "execution_count": 69,
   "id": "2be367c7-46ae-4fb1-8512-3560a95186f5",
   "metadata": {},
   "outputs": [
    {
     "data": {
      "text/plain": [
       "['Supplier Contract Usage ID',\n",
       " 'Ordering Agency Name',\n",
       " 'State (S) or Local (L) agency',\n",
       " 'Purchasing Authority Number                    (for State departments)',\n",
       " 'Agency Billing Code',\n",
       " 'Purchase Order Number',\n",
       " 'Purchase Order Date',\n",
       " 'Delivery Date',\n",
       " 'Contract Line Item Number (CLIN)                (RFP ID)',\n",
       " 'UNSPSC Code\\n(Version 10)',\n",
       " 'Manufacturer Part Number (OEM #)',\n",
       " 'Manufacturer (OEM)',\n",
       " 'SKU # / Item #',\n",
       " 'Item Description',\n",
       " 'Unit of Measure',\n",
       " 'Quantity in \\nUnit of Measure\\n',\n",
       " 'EPP (Y/N)',\n",
       " 'Quantity',\n",
       " 'List Price/MSRP',\n",
       " 'Index Date / Catalog Version',\n",
       " 'Contract Unit Price',\n",
       " 'Contract Discount',\n",
       " 'Extended Contract Price Paid',\n",
       " 'Core/ NonCore',\n",
       " 'Group ID/ Segment ID']"
      ]
     },
     "execution_count": 69,
     "metadata": {},
     "output_type": "execute_result"
    }
   ],
   "source": [
    "list(dgs_17c.columns)"
   ]
  },
  {
   "cell_type": "code",
   "execution_count": 7,
   "id": "4841b83e-a93d-4ad0-84db-4a3aeae627c1",
   "metadata": {},
   "outputs": [],
   "source": [
    "# Final\n",
    "dgs = pd.read_parquet(f\"{GCS_PATH}clean_dgs_bus_only_w_options.parquet\")"
   ]
  },
  {
   "cell_type": "markdown",
   "id": "a61591e6-b647-46dd-8db7-8c6b116d5227",
   "metadata": {},
   "source": [
    "## Final output"
   ]
  },
  {
   "cell_type": "code",
   "execution_count": 8,
   "id": "7c484576-0006-4157-a002-9f6efba46566",
   "metadata": {},
   "outputs": [],
   "source": [
    "final= pd.read_parquet(f'{GCS_PATH}cleaned_no_outliers_cpb_analysis_data_merge.parquet')"
   ]
  },
  {
   "cell_type": "code",
   "execution_count": 44,
   "id": "0bf1cea9-d77a-44e9-8770-b7a5e4d6d215",
   "metadata": {},
   "outputs": [],
   "source": [
    "column_dict = {\n",
    "        \"quantity\": \"bus_count\",\n",
    "        \"new_bus_size\": \"bus_size_type\",\n",
    "        \"new_bus_size_type\": \"bus_size_type\",        \n",
    "        \"purchase_order_number\": \"ppno\",\n",
    "        \"new_prop_type\": \"prop_type\",\n",
    "        \"new_prop_type_finder\": \"prop_type\",\n",
    "        \"grant_recipient\": \"transit_agency\",\n",
    "        \"ordering_agency_name\": \"transit_agency\",\n",
    "        \"project_sponsor\": \"transit_agency\",    \n",
    "        \"funding\": \"total_cost\",\n",
    "        \"total_project_cost\": \"total_cost\",\n",
    "    }"
   ]
  },
  {
   "cell_type": "markdown",
   "id": "38fa4726-e754-4df5-bb94-ea96d41d58bf",
   "metadata": {},
   "source": [
    "## Schema"
   ]
  },
  {
   "cell_type": "markdown",
   "id": "33a3082b-d5de-49b9-9c06-78c512ec17db",
   "metadata": {},
   "source": [
    "[![](https://mermaid.ink/img/pako:eNqllF1v0zAUhv-K5esMwdoVmrtp09A0QBPbFapkuc5pa5b4GPtYkH78d5y462BJyseSizg-r3POefzGG66wAJ5zcJdaLp2sZobF6-r-nG23JyfbLbu6_nT-geVsxuN9CG7SsLk8OW2WzDr8CoqEt2g8OnZ7MyghTSV0oga-i6iwgmoLYqFNAa5XNA9eeL2GVthRFOCV05Y0mqEUqYjfFmtDkzFbBFNE3fPpJqHCYCgFdulxf_354naYUgp3OUXIhoQDpa0GQ72crME-eLa_4-M8Hvt9CRdCkuVBodDTk2JRohyGdPn-bhhRE-wCQhc3Pg6EXIJRtTCygl5KwamV9I2yXSJMqOa_WibV_i1E3prq4347arRO0GPMPUDpic4eQeq72ydFI3hN-zb__X_5X0O83Ah_ZYAjuP5g82G7piKa9MLGDY8Zu2WsvUIHol80RyyZjnXaucBApX70y45nvAJXSV3E07DdrBmnFVQw441lC-keGts2OhkI72qjeE4uQMYdhuWK5wtZ-vgWbCEJ9qfpYRYKTeg-psO2PXMzbqXh-Yb_4Pnp2_Gr0dloOp5Mz96dTqbjUcZrnr_eZXyNGL_yplV_acdN0t1PgTLRaA?type=png)](https://mermaid.live/edit#pako:eNqllF1v0zAUhv-K5esMwdoVmrtp09A0QBPbFapkuc5pa5b4GPtYkH78d5y462BJyseSizg-r3POefzGG66wAJ5zcJdaLp2sZobF6-r-nG23JyfbLbu6_nT-geVsxuN9CG7SsLk8OW2WzDr8CoqEt2g8OnZ7MyghTSV0oga-i6iwgmoLYqFNAa5XNA9eeL2GVthRFOCV05Y0mqEUqYjfFmtDkzFbBFNE3fPpJqHCYCgFdulxf_354naYUgp3OUXIhoQDpa0GQ72crME-eLa_4-M8Hvt9CRdCkuVBodDTk2JRohyGdPn-bhhRE-wCQhc3Pg6EXIJRtTCygl5KwamV9I2yXSJMqOa_WibV_i1E3prq4347arRO0GPMPUDpic4eQeq72ydFI3hN-zb__X_5X0O83Ah_ZYAjuP5g82G7piKa9MLGDY8Zu2WsvUIHol80RyyZjnXaucBApX70y45nvAJXSV3E07DdrBmnFVQw441lC-keGts2OhkI72qjeE4uQMYdhuWK5wtZ-vgWbCEJ9qfpYRYKTeg-psO2PXMzbqXh-Yb_4Pnp2_Gr0dloOp5Mz96dTqbjUcZrnr_eZXyNGL_yplV_acdN0t1PgTLRaA)"
   ]
  },
  {
   "cell_type": "markdown",
   "id": "9f4101e0-c1c6-440c-b36b-cbedf8643c79",
   "metadata": {},
   "source": [
    "The 3 data sources are cleaned and aggregated by transit agency. Then the data is merged into the final table, the main columns of interest being:\n",
    "- transit_agency\n",
    "- prop_type (propulsion type)\n",
    "- bus_size_type\n",
    "- total_cost\n",
    "- bus_count\n",
    "- cost_per_bus\n",
    "- zscore_cost_per_bus"
   ]
  },
  {
   "cell_type": "code",
   "execution_count": 37,
   "id": "330e7fa0-0db2-44c0-bc2e-14ac45e3f370",
   "metadata": {
    "tags": []
   },
   "outputs": [
    {
     "name": "stdout",
     "output_type": "stream",
     "text": [
      "Data Schema: \n",
      "    \n",
      "FTA FY 23 Bus Award:\n",
      "project_sponsor         object\n",
      "project_title           object\n",
      "new_prop_type_finder    object\n",
      "new_bus_size_type       object\n",
      "description             object\n",
      "new_project_type        object\n",
      "funding                  int64\n",
      "bus_count                int64\n",
      "dtype: object\n",
      "    \n",
      "TIRCP Tracking Sheet:\n",
      "grant_recipient         object\n",
      "ppno                    object\n",
      "prop_type               object\n",
      "bus_size_type           object\n",
      "project_description     object\n",
      "new_project_type        object\n",
      "total_project_cost       int64\n",
      "bus_count              float64\n",
      "dtype: object\n",
      "    \n",
      "DGS Usage Report:\n",
      "ordering_agency_name     object\n",
      "purchase_order_number    object\n",
      "quantity                  int64\n",
      "new_prop_type            object\n",
      "new_bus_size             object\n",
      "source                   object\n",
      "total_cost                int64\n",
      "dtype: object\n",
      "    \n",
      "Final Output:\n",
      "transit_agency          object\n",
      "project_title           object\n",
      "prop_type               object\n",
      "bus_size_type           object\n",
      "description             object\n",
      "new_project_type        object\n",
      "total_cost               int64\n",
      "bus_count              float64\n",
      "source                  object\n",
      "ppno                    object\n",
      "project_description     object\n",
      "cost_per_bus             int64\n",
      "zscore_cost_per_bus    float64\n",
      "is_cpb_outlier?           bool\n",
      "dtype: object\n",
      "\n"
     ]
    }
   ],
   "source": [
    "print(\n",
    "f\"\"\"Data Schema: \n",
    "    \n",
    "FTA FY 23 Bus Award:\n",
    "{fta.dtypes}\n",
    "    \n",
    "TIRCP Tracking Sheet:\n",
    "{tircp.dtypes}\n",
    "    \n",
    "DGS Usage Report:\n",
    "{dgs.dtypes}\n",
    "    \n",
    "Final Output:\n",
    "{final.dtypes}\n",
    "\"\"\"\n",
    ")"
   ]
  }
 ],
 "metadata": {
  "kernelspec": {
   "display_name": "Python 3 (ipykernel)",
   "language": "python",
   "name": "python3"
  },
  "language_info": {
   "codemirror_mode": {
    "name": "ipython",
    "version": 3
   },
   "file_extension": ".py",
   "mimetype": "text/x-python",
   "name": "python",
   "nbconvert_exporter": "python",
   "pygments_lexer": "ipython3",
   "version": "3.9.13"
  }
 },
 "nbformat": 4,
 "nbformat_minor": 5
}
