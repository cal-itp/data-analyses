{
 "cells": [
  {
   "cell_type": "code",
   "execution_count": 1,
   "id": "da041e43-e8e2-4d4b-a498-10a7c0afe43f",
   "metadata": {
    "execution": {
     "iopub.execute_input": "2024-07-10T19:11:25.709772Z",
     "iopub.status.busy": "2024-07-10T19:11:25.709282Z",
     "iopub.status.idle": "2024-07-10T19:11:43.899765Z",
     "shell.execute_reply": "2024-07-10T19:11:43.898066Z"
    },
    "tags": []
   },
   "outputs": [],
   "source": [
    "import matplotlib.pyplot as plt\n",
    "import numpy as np\n",
    "import pandas as pd\n",
    "import seaborn as sns\n",
    "import shared_utils\n",
    "from _bus_cost_utils import GCS_PATH, new_outlier_flag_v2\n",
    "from IPython.display import Markdown, display, HTML\n",
    "from matplotlib.ticker import ScalarFormatter\n",
    "from scipy.stats import zscore\n",
    "from IPython.display import Markdown, display"
   ]
  },
  {
   "cell_type": "code",
   "execution_count": 2,
   "id": "d53376d9-d4b4-48b7-9916-5b9f633fbaf0",
   "metadata": {
    "execution": {
     "iopub.execute_input": "2024-07-10T19:11:43.907206Z",
     "iopub.status.busy": "2024-07-10T19:11:43.905734Z",
     "iopub.status.idle": "2024-07-10T19:11:45.054088Z",
     "shell.execute_reply": "2024-07-10T19:11:45.052775Z"
    }
   },
   "outputs": [],
   "source": [
    "merged_data = pd.read_parquet(f'{GCS_PATH}cleaned_no_outliers_cpb_analysis_data_merge.parquet')"
   ]
  },
  {
   "cell_type": "code",
   "execution_count": 3,
   "id": "a45f2d3d-a600-4fe6-80cf-6b887036faab",
   "metadata": {
    "execution": {
     "iopub.execute_input": "2024-07-10T19:11:45.059835Z",
     "iopub.status.busy": "2024-07-10T19:11:45.059304Z",
     "iopub.status.idle": "2024-07-10T19:11:45.067397Z",
     "shell.execute_reply": "2024-07-10T19:11:45.065878Z"
    }
   },
   "outputs": [],
   "source": [
    "# for subsetting ZEB and nonZEB\n",
    "zeb_list =[\n",
    "    \"BEB\",\n",
    "    \"FCEB\",\n",
    "    \"electric (not specified)\",\n",
    "    \"zero-emission bus (not specified)\",\n",
    "]\n",
    "\n",
    "non_zeb_list =[\n",
    "    \"CNG\",\n",
    "    \"ethanol\",\n",
    "    \"low emission (hybrid)\",\n",
    "    \"low emission (propane)\",\n",
    "    \"mix (zero and low emission)\",\n",
    "]"
   ]
  },
  {
   "cell_type": "code",
   "execution_count": 4,
   "id": "8ac40482-ba3e-4fde-8c05-806e3725de44",
   "metadata": {
    "execution": {
     "iopub.execute_input": "2024-07-10T19:11:45.073200Z",
     "iopub.status.busy": "2024-07-10T19:11:45.072766Z",
     "iopub.status.idle": "2024-07-10T19:11:45.089806Z",
     "shell.execute_reply": "2024-07-10T19:11:45.088360Z"
    }
   },
   "outputs": [],
   "source": [
    "# means and standard deviations\n",
    "# for graphs\n",
    "cpb_mean = merged_data[\"cost_per_bus\"].mean()\n",
    "cpb_std = merged_data[\"cost_per_bus\"].std()\n",
    "\n",
    "#testing weighted average calculation for sub-set non-zeb and zeb\n",
    "zeb_cpb_wt_avg = (merged_data[merged_data[\"prop_type\"].isin(zeb_list)][\"total_cost\"].sum() / merged_data[merged_data[\"prop_type\"].isin(zeb_list)][\"bus_count\"].sum())\n",
    "non_zeb_cpb_wt_avg = (merged_data[merged_data[\"prop_type\"].isin(non_zeb_list)][\"total_cost\"].sum() / merged_data[merged_data[\"prop_type\"].isin(non_zeb_list)][\"bus_count\"].sum())"
   ]
  },
  {
   "cell_type": "code",
   "execution_count": 5,
   "id": "d450fd60-cced-453b-b20b-62cdade0d7a6",
   "metadata": {
    "execution": {
     "iopub.execute_input": "2024-07-10T19:11:45.095077Z",
     "iopub.status.busy": "2024-07-10T19:11:45.094699Z",
     "iopub.status.idle": "2024-07-10T19:11:45.102307Z",
     "shell.execute_reply": "2024-07-10T19:11:45.101100Z"
    }
   },
   "outputs": [],
   "source": [
    "def new_cpb_aggregate(df: pd.DataFrame, column=\"transit_agency\") -> pd.DataFrame:\n",
    "    \"\"\"\n",
    "    function to aggregate compiled data by different categories:\n",
    "        \"transit agency\", \n",
    "        \"propulsion type\", \n",
    "        \"bus_size_type\",\n",
    "        \"new_project_type\"\n",
    "    aggregate on columns:\n",
    "        \"project_title\"\n",
    "        \"ppno\"\n",
    "        \"total_cost\"\n",
    "        \"bus_count\"\n",
    "        \n",
    "    Then, cost per bus is calculated AFTER the aggregation.\n",
    "    \"\"\"\n",
    "    df_agg = (\n",
    "        df.groupby(column)\n",
    "        .agg(\n",
    "            total_project_count=(\"project_title\", \"count\"),\n",
    "            total_project_count_ppno=(\"ppno\", \"count\"),\n",
    "            total_agg_cost=(\"total_cost\", \"sum\"),\n",
    "            total_bus_count=(\"bus_count\", \"sum\"),\n",
    "            #new_prop_type=(\"prop_type\",\"max\")\n",
    "        )\n",
    "        .reset_index()\n",
    "    )\n",
    "    df_agg[\"new_cost_per_bus\"] = (df_agg[\"total_agg_cost\"] / df_agg[\"total_bus_count\"]).astype(\"int64\")\n",
    "    \n",
    "    #calculate zscore\n",
    "    df_agg[\"new_zscore_cost_per_bus\"] = zscore(df_agg[\"new_cost_per_bus\"])\n",
    "    \n",
    "    #flag outliers\n",
    "    df_agg[\"new_is_cpb_outlier?\"] = new_outlier_flag_v2(df_agg,'zscore_cost_per_bus')\n",
    "    \n",
    "    return df_agg"
   ]
  },
  {
   "cell_type": "code",
   "execution_count": 6,
   "id": "2a2dc407-20cc-45de-84b1-bb5991dad8ac",
   "metadata": {
    "execution": {
     "iopub.execute_input": "2024-07-10T19:11:45.106714Z",
     "iopub.status.busy": "2024-07-10T19:11:45.106323Z",
     "iopub.status.idle": "2024-07-10T19:11:45.113149Z",
     "shell.execute_reply": "2024-07-10T19:11:45.112026Z"
    }
   },
   "outputs": [],
   "source": [
    "def bus_min_max_summary(data:pd.DataFrame, col1:str, col_list=[\"transit_agency\",\n",
    "                                                     \"total_agg_cost\",\n",
    "                                                     \"total_bus_count\",\n",
    "                                                     \"new_cost_per_bus\"]):\n",
    "    \"\"\"\n",
    "    function to display min/max of specific column in aggregated bus df.\n",
    "    \n",
    "    \"\"\"\n",
    "\n",
    "    return display(Markdown(f\"**Max {col1}**\"),\n",
    "    data[data[col1] == data[col1].max()][col_list].style.hide(axis=\"index\"),\n",
    "    Markdown(f\"**Min {col1}**\"),\n",
    "    data[data[col1] == data[col1].min()][col_list].style.hide(axis=\"index\"))\n",
    "                  "
   ]
  },
  {
   "cell_type": "code",
   "execution_count": 7,
   "id": "9a6a7ecf-5180-4691-84fe-23aa68cdae93",
   "metadata": {
    "execution": {
     "iopub.execute_input": "2024-07-10T19:11:45.119544Z",
     "iopub.status.busy": "2024-07-10T19:11:45.118140Z",
     "iopub.status.idle": "2024-07-10T19:11:45.127330Z",
     "shell.execute_reply": "2024-07-10T19:11:45.125944Z"
    }
   },
   "outputs": [],
   "source": [
    "def make_chart(y_col: str, title: str, data: pd.DataFrame, x_col: str):\n",
    "    \"\"\"\n",
    "    function to create chart. sorts values by y_col ascending.\"\"\"\n",
    "    \n",
    "\n",
    "    sorted_data = data.sort_values(by=y_col, ascending=False).head(10)\n",
    "    ax = sorted_data.plot(\n",
    "        x=x_col, y=y_col, kind=\"bar\", color=\"skyblue\"\n",
    "    )\n",
    "    \n",
    "    plt.title(title)\n",
    "    plt.xlabel(x_col)\n",
    "    plt.ylabel(y_col)\n",
    "    \n",
    "    for bar in ax.patches:\n",
    "        yval = bar.get_height()\n",
    "        plt.text(\n",
    "            bar.get_x() + bar.get_width() / 2, yval + 0.5, f'{yval:.2f}', \n",
    "            ha='center', va='bottom'\n",
    "        )\n",
    "\n",
    "    plt.ticklabel_format(style=\"plain\", axis=\"y\")\n",
    "    plt.show()"
   ]
  },
  {
   "cell_type": "code",
   "execution_count": 8,
   "id": "44d21201-223f-4e6c-b238-b72fba984544",
   "metadata": {
    "execution": {
     "iopub.execute_input": "2024-07-10T19:11:45.132983Z",
     "iopub.status.busy": "2024-07-10T19:11:45.132279Z",
     "iopub.status.idle": "2024-07-10T19:11:45.144752Z",
     "shell.execute_reply": "2024-07-10T19:11:45.142368Z"
    }
   },
   "outputs": [],
   "source": [
    "def dist_curve(\n",
    "    df: pd.DataFrame,\n",
    "    mean: str,\n",
    "    std: str,\n",
    "    title: str,\n",
    "    xlabel: str,\n",
    "):\n",
    "    \"\"\"\n",
    "    function to make distribution curve. uses the \"cpb\" column of the df.\n",
    "    \"\"\"\n",
    "    sns.histplot(df[\"cost_per_bus\"], kde=True, color=\"skyblue\", bins=20)\n",
    "    # mean line\n",
    "    plt.axvline(\n",
    "        mean, color=\"red\", linestyle=\"dashed\", linewidth=2, label=f\"Mean: ${mean:,.2f}\"\n",
    "    )\n",
    "    # mean+1std\n",
    "    plt.axvline(\n",
    "        mean + std,\n",
    "        color=\"green\",\n",
    "        linestyle=\"dashed\",\n",
    "        linewidth=2,\n",
    "        label=f\"Standard Deviation: ${std:,.2f}\",\n",
    "    )\n",
    "    plt.axvline(mean - std, color=\"green\", linestyle=\"dashed\", linewidth=2)\n",
    "    plt.axvline(mean + (std * 2), color=\"green\", linestyle=\"dashed\", linewidth=2)\n",
    "    plt.axvline(mean + (std * 3), color=\"green\", linestyle=\"dashed\", linewidth=2)\n",
    "\n",
    "    plt.title(title + \" with Mean and Standard Deviation\")\n",
    "    plt.xlabel(xlabel)\n",
    "    plt.ylabel(\"Frequency\")\n",
    "\n",
    "    # Turn off scientific notation on x-axis?\n",
    "    plt.gca().xaxis.set_major_formatter(ScalarFormatter(useMathText=False))\n",
    "\n",
    "    plt.legend()\n",
    "    plt.show()\n",
    "\n",
    "    return"
   ]
  },
  {
   "cell_type": "code",
   "execution_count": 9,
   "id": "067a14a5-5c77-4914-82a8-c5eeb170cb08",
   "metadata": {
    "execution": {
     "iopub.execute_input": "2024-07-10T19:11:45.150826Z",
     "iopub.status.busy": "2024-07-10T19:11:45.150378Z",
     "iopub.status.idle": "2024-07-10T19:11:45.237230Z",
     "shell.execute_reply": "2024-07-10T19:11:45.235345Z"
    }
   },
   "outputs": [],
   "source": [
    "# aggregating by big categories\n",
    "agg_agency = new_cpb_aggregate(merged_data)\n",
    "agg_prop = new_cpb_aggregate(merged_data, column=\"prop_type\")\n",
    "agg_bus_size = new_cpb_aggregate(merged_data, column=\"bus_size_type\")\n",
    "agg_source = new_cpb_aggregate(merged_data, column=\"source\")"
   ]
  },
  {
   "cell_type": "code",
   "execution_count": 10,
   "id": "49a97d01-b17e-475c-b351-67426f3741d9",
   "metadata": {
    "execution": {
     "iopub.execute_input": "2024-07-10T19:11:45.250715Z",
     "iopub.status.busy": "2024-07-10T19:11:45.248879Z",
     "iopub.status.idle": "2024-07-10T19:11:45.265121Z",
     "shell.execute_reply": "2024-07-10T19:11:45.263852Z"
    }
   },
   "outputs": [],
   "source": [
    "# subsetting ZEB and nonZEB data\n",
    "zeb_projects = merged_data[merged_data[\"prop_type\"].isin(zeb_list)]\n",
    "\n",
    "non_zeb_projects = merged_data[merged_data[\"prop_type\"].isin(non_zeb_list)]"
   ]
  },
  {
   "cell_type": "code",
   "execution_count": 11,
   "id": "4faaa4ad-b16c-4e6b-87c7-d12f7e7db3c6",
   "metadata": {
    "execution": {
     "iopub.execute_input": "2024-07-10T19:11:45.273420Z",
     "iopub.status.busy": "2024-07-10T19:11:45.272028Z",
     "iopub.status.idle": "2024-07-10T19:11:45.310160Z",
     "shell.execute_reply": "2024-07-10T19:11:45.308827Z"
    }
   },
   "outputs": [],
   "source": [
    "#pivot table to get totals for each prop type\n",
    "\n",
    "pivot_prop_type = pd.pivot_table(\n",
    "    merged_data,\n",
    "    values = [\"bus_count\", \"total_cost\"],\n",
    "    index = \"prop_type\",\n",
    "    aggfunc = \"sum\",\n",
    "    margins = True,\n",
    "    margins_name = \"Grand Total\"\n",
    ").reset_index()\n",
    "pivot_prop_type[\"cost_per_bus\"] = (pivot_prop_type[\"total_cost\"] / pivot_prop_type[\"bus_count\"]).astype(\"int64\")"
   ]
  },
  {
   "cell_type": "code",
   "execution_count": 12,
   "id": "b8535e97-e7bf-4d7e-b718-24c5758b0ccd",
   "metadata": {
    "execution": {
     "iopub.execute_input": "2024-07-10T19:11:45.319937Z",
     "iopub.status.busy": "2024-07-10T19:11:45.319309Z",
     "iopub.status.idle": "2024-07-10T19:11:45.368977Z",
     "shell.execute_reply": "2024-07-10T19:11:45.367696Z"
    }
   },
   "outputs": [],
   "source": [
    "#pivot for ZEB data\n",
    "\n",
    "pivot_zeb_prop = pd.pivot_table(\n",
    "    #filted incoming DF for zeb prop types\n",
    "    zeb_projects,\n",
    "    values = [\"bus_count\", \"total_cost\"],\n",
    "    index = \"prop_type\",\n",
    "    aggfunc = \"sum\",\n",
    "    margins = True,\n",
    "    margins_name = \"Grand Total\"\n",
    ").reset_index()              \n",
    "\n",
    "pivot_zeb_prop[\"cost_per_bus\"] = (pivot_zeb_prop[\"total_cost\"] / pivot_zeb_prop[\"bus_count\"]).astype(\"int64\")"
   ]
  },
  {
   "cell_type": "code",
   "execution_count": 13,
   "id": "829e38c9-3f9b-4e82-92a8-c86f81051580",
   "metadata": {
    "execution": {
     "iopub.execute_input": "2024-07-10T19:11:45.378807Z",
     "iopub.status.busy": "2024-07-10T19:11:45.376141Z",
     "iopub.status.idle": "2024-07-10T19:11:45.411415Z",
     "shell.execute_reply": "2024-07-10T19:11:45.409892Z"
    }
   },
   "outputs": [],
   "source": [
    "#pivot for non-ZEB data\n",
    "\n",
    "pivot_non_zeb_prop = pd.pivot_table(\n",
    "    #filted incoming DF for non-zeb prop types\n",
    "    non_zeb_projects,\n",
    "    values = [\"bus_count\", \"total_cost\"],\n",
    "    index = \"prop_type\",\n",
    "    aggfunc = \"sum\",\n",
    "    margins = True,\n",
    "    margins_name = \"Grand Total\"\n",
    ").reset_index()\n",
    "\n",
    "pivot_non_zeb_prop[\"cost_per_bus\"] = (pivot_non_zeb_prop[\"total_cost\"] / pivot_non_zeb_prop[\"bus_count\"]).astype(\"int64\")"
   ]
  },
  {
   "cell_type": "code",
   "execution_count": 14,
   "id": "0a2163e3-dac1-4e64-a551-3dc961e44714",
   "metadata": {
    "execution": {
     "iopub.execute_input": "2024-07-10T19:11:45.429237Z",
     "iopub.status.busy": "2024-07-10T19:11:45.428602Z",
     "iopub.status.idle": "2024-07-10T19:11:45.484609Z",
     "shell.execute_reply": "2024-07-10T19:11:45.483258Z"
    }
   },
   "outputs": [],
   "source": [
    "# pivot for bus sizes\n",
    "\n",
    "pivot_size = pd.pivot_table(\n",
    "    merged_data,\n",
    "    values = [\"bus_count\", \"total_cost\"],\n",
    "    # multi-index pivot\n",
    "    index = [\"prop_type\",\"bus_size_type\"],\n",
    "    aggfunc = \"sum\",\n",
    "    margins = True,\n",
    "    margins_name = \"Grand Total\"\n",
    ")\n",
    "\n",
    "pivot_size[\"cost_per_bus\"] = (pivot_size[\"total_cost\"] / pivot_size[\"bus_count\"]).astype(\"int64\")"
   ]
  },
  {
   "cell_type": "code",
   "execution_count": 15,
   "id": "074acb8d-de54-43a0-b243-a070ecfbe1ce",
   "metadata": {
    "execution": {
     "iopub.execute_input": "2024-07-10T19:11:45.493091Z",
     "iopub.status.busy": "2024-07-10T19:11:45.492053Z",
     "iopub.status.idle": "2024-07-10T19:11:45.524453Z",
     "shell.execute_reply": "2024-07-10T19:11:45.523085Z"
    }
   },
   "outputs": [],
   "source": [
    "#pivot for data soruces\n",
    "pivot_source = pd.pivot_table(\n",
    "    merged_data,\n",
    "    values = [\"bus_count\", \"total_cost\"],\n",
    "    index = \"source\",\n",
    "    aggfunc = \"sum\",\n",
    "    margins = True,\n",
    "    margins_name = \"Grand Total\"\n",
    ").reset_index()\n",
    "\n",
    "pivot_source[\"cost_per_bus\"] = (pivot_source[\"total_cost\"] / pivot_source[\"bus_count\"]).astype(\"int64\")"
   ]
  },
  {
   "cell_type": "code",
   "execution_count": 16,
   "id": "d8356953-e32d-47ab-b67c-fa016cad9c50",
   "metadata": {
    "execution": {
     "iopub.execute_input": "2024-07-10T19:11:45.531928Z",
     "iopub.status.busy": "2024-07-10T19:11:45.530865Z",
     "iopub.status.idle": "2024-07-10T19:11:45.538936Z",
     "shell.execute_reply": "2024-07-10T19:11:45.537741Z"
    },
    "tags": []
   },
   "outputs": [],
   "source": [
    "# new summary\n",
    "\n",
    "intro = f\"\"\"\n",
    "\n",
    "# Bus Procurement Cost Analysis\n",
    "\n",
    "## Summary\n",
    "This analysis examines the cost of buses for transit agencies across the county. Specifically, to observe the variation of bus cost for propulsion type with a focus on Zero Emission Buses (ZEB).\n",
    "\n",
    "Data was compiled from three data sources:\n",
    "1. FTA Bus and Low- and No-Emission Grant Awards press release (federally funded, nationwide data)\n",
    "2. TIRCP project data (state-funded, California only data)\n",
    "3. DGS usage report for all procurements from California agencies purchasing from New Flyer and Portera Inc.. \n",
    "\n",
    "The initial dataset included nearly 300 projects. It was reduced to {len(merged_data)} projects after applying criteria to exclude non-bus related work. \n",
    "Projects involving the construction of new facilities, training programs, or the procurement of non-bus items such as trains and ferries were excluded. \n",
    "The final dataset comprised only projects focused on bus procurement. \n",
    "\n",
    "\n",
    "These projects were aggregated against propulsion type and bus size type, and categorized by ZEB and non-ZEB.\n",
    "\n",
    "**ZEB projects are categorized into the following propulsion types:**\n",
    "- zero-emission (not specified) \n",
    "- electric (not specified)\n",
    "- battery electric (BEB)\n",
    "- fuel cell electric (FCEB)\n",
    "\n",
    "**Non-ZEB projects include the following propulsion types:**\n",
    "- compressed natural gas (CNG) \n",
    "- ethanol \n",
    "- low-emission (hybrid, propane) \n",
    "- diesel \n",
    "- gas\n",
    "\n",
    "Below is a breakdown of each data source showing the total buses and cost for each source:\n",
    "\"\"\"\n"
   ]
  },
  {
   "cell_type": "code",
   "execution_count": 17,
   "id": "f64881b9-46f9-4bfe-afd0-511385e21306",
   "metadata": {
    "execution": {
     "iopub.execute_input": "2024-07-10T19:11:45.551288Z",
     "iopub.status.busy": "2024-07-10T19:11:45.550146Z",
     "iopub.status.idle": "2024-07-10T19:11:45.574217Z",
     "shell.execute_reply": "2024-07-10T19:11:45.572128Z"
    },
    "tags": []
   },
   "outputs": [
    {
     "data": {
      "text/markdown": [
       "\n",
       "\n",
       "# Bus Procurement Cost Analysis\n",
       "\n",
       "## Summary\n",
       "This analysis examines the cost of buses for transit agencies across the county. Specifically, to observe the variation of bus cost for propulsion type with a focus on Zero Emission Buses (ZEB).\n",
       "\n",
       "Data was compiled from three data sources:\n",
       "1. FTA Bus and Low- and No-Emission Grant Awards press release (federally funded, nationwide data)\n",
       "2. TIRCP project data (state-funded, California only data)\n",
       "3. DGS usage report for all procurements from California agencies purchasing from New Flyer and Portera Inc.. \n",
       "\n",
       "The initial dataset included nearly 300 projects. It was reduced to 88 projects after applying criteria to exclude non-bus related work. \n",
       "Projects involving the construction of new facilities, training programs, or the procurement of non-bus items such as trains and ferries were excluded. \n",
       "The final dataset comprised only projects focused on bus procurement. \n",
       "\n",
       "\n",
       "These projects were aggregated against propulsion type and bus size type, and categorized by ZEB and non-ZEB.\n",
       "\n",
       "**ZEB projects are categorized into the following propulsion types:**\n",
       "- zero-emission (not specified) \n",
       "- electric (not specified)\n",
       "- battery electric (BEB)\n",
       "- fuel cell electric (FCEB)\n",
       "\n",
       "**Non-ZEB projects include the following propulsion types:**\n",
       "- compressed natural gas (CNG) \n",
       "- ethanol \n",
       "- low-emission (hybrid, propane) \n",
       "- diesel \n",
       "- gas\n",
       "\n",
       "Below is a breakdown of each data source showing the total buses and cost for each source:\n"
      ],
      "text/plain": [
       "<IPython.core.display.Markdown object>"
      ]
     },
     "metadata": {},
     "output_type": "display_data"
    },
    {
     "data": {
      "text/html": [
       "<style type=\"text/css\">\n",
       "</style>\n",
       "<table id=\"T_3816f\">\n",
       "  <thead>\n",
       "    <tr>\n",
       "      <th id=\"T_3816f_level0_col0\" class=\"col_heading level0 col0\" >source</th>\n",
       "      <th id=\"T_3816f_level0_col1\" class=\"col_heading level0 col1\" >bus_count</th>\n",
       "      <th id=\"T_3816f_level0_col2\" class=\"col_heading level0 col2\" >total_cost</th>\n",
       "      <th id=\"T_3816f_level0_col3\" class=\"col_heading level0 col3\" >cost_per_bus</th>\n",
       "    </tr>\n",
       "  </thead>\n",
       "  <tbody>\n",
       "    <tr>\n",
       "      <td id=\"T_3816f_row0_col0\" class=\"data row0 col0\" >dgs</td>\n",
       "      <td id=\"T_3816f_row0_col1\" class=\"data row0 col1\" >236.000000</td>\n",
       "      <td id=\"T_3816f_row0_col2\" class=\"data row0 col2\" >250112853</td>\n",
       "      <td id=\"T_3816f_row0_col3\" class=\"data row0 col3\" >1059800</td>\n",
       "    </tr>\n",
       "    <tr>\n",
       "      <td id=\"T_3816f_row1_col0\" class=\"data row1 col0\" >fta</td>\n",
       "      <td id=\"T_3816f_row1_col1\" class=\"data row1 col1\" >883.000000</td>\n",
       "      <td id=\"T_3816f_row1_col2\" class=\"data row1 col2\" >391257025</td>\n",
       "      <td id=\"T_3816f_row1_col3\" class=\"data row1 col3\" >443099</td>\n",
       "    </tr>\n",
       "    <tr>\n",
       "      <td id=\"T_3816f_row2_col0\" class=\"data row2 col0\" >tircp</td>\n",
       "      <td id=\"T_3816f_row2_col1\" class=\"data row2 col1\" >233.000000</td>\n",
       "      <td id=\"T_3816f_row2_col2\" class=\"data row2 col2\" >187250513</td>\n",
       "      <td id=\"T_3816f_row2_col3\" class=\"data row2 col3\" >803650</td>\n",
       "    </tr>\n",
       "    <tr>\n",
       "      <td id=\"T_3816f_row3_col0\" class=\"data row3 col0\" >Grand Total</td>\n",
       "      <td id=\"T_3816f_row3_col1\" class=\"data row3 col1\" >1352.000000</td>\n",
       "      <td id=\"T_3816f_row3_col2\" class=\"data row3 col2\" >828620391</td>\n",
       "      <td id=\"T_3816f_row3_col3\" class=\"data row3 col3\" >612884</td>\n",
       "    </tr>\n",
       "  </tbody>\n",
       "</table>\n"
      ],
      "text/plain": [
       "<pandas.io.formats.style.Styler at 0x7e9828963370>"
      ]
     },
     "metadata": {},
     "output_type": "display_data"
    },
    {
     "data": {
      "text/markdown": [
       "<br>The following charts and tables display the kinds of variations to bus cost transit agencies have faced."
      ],
      "text/plain": [
       "<IPython.core.display.Markdown object>"
      ]
     },
     "metadata": {},
     "output_type": "display_data"
    }
   ],
   "source": [
    "display(\n",
    "    Markdown(intro),\n",
    "    pivot_source.style.hide(axis=\"index\"),\n",
    "    Markdown(f\"<br>The following charts and tables display the kinds of variations to bus cost transit agencies have faced.\")\n",
    ")"
   ]
  },
  {
   "cell_type": "code",
   "execution_count": 18,
   "id": "63a5179d-2645-4bf0-a8eb-ac88b59928ea",
   "metadata": {
    "execution": {
     "iopub.execute_input": "2024-07-10T19:11:45.584225Z",
     "iopub.status.busy": "2024-07-10T19:11:45.583247Z",
     "iopub.status.idle": "2024-07-10T19:11:45.591269Z",
     "shell.execute_reply": "2024-07-10T19:11:45.589965Z"
    }
   },
   "outputs": [
    {
     "data": {
      "text/markdown": [
       "# Charts and Tables"
      ],
      "text/plain": [
       "<IPython.core.display.Markdown object>"
      ]
     },
     "metadata": {},
     "output_type": "display_data"
    }
   ],
   "source": [
    "display(\n",
    "    Markdown(\"# Charts and Tables\"),\n",
    ")"
   ]
  },
  {
   "cell_type": "markdown",
   "id": "24b3adbe-44fe-4ba6-a874-1ca39ae81f61",
   "metadata": {},
   "source": [
    "<br>"
   ]
  },
  {
   "cell_type": "code",
   "execution_count": 19,
   "id": "676cbd9a-db4b-4e86-b60b-900f14513468",
   "metadata": {
    "execution": {
     "iopub.execute_input": "2024-07-10T19:11:45.600458Z",
     "iopub.status.busy": "2024-07-10T19:11:45.599951Z",
     "iopub.status.idle": "2024-07-10T19:11:45.650148Z",
     "shell.execute_reply": "2024-07-10T19:11:45.649056Z"
    }
   },
   "outputs": [
    {
     "data": {
      "text/markdown": [
       "**Summary of cost by ZEB propulsion types**"
      ],
      "text/plain": [
       "<IPython.core.display.Markdown object>"
      ]
     },
     "metadata": {},
     "output_type": "display_data"
    },
    {
     "data": {
      "text/html": [
       "<style type=\"text/css\">\n",
       "</style>\n",
       "<table id=\"T_03a19\">\n",
       "  <thead>\n",
       "    <tr>\n",
       "      <th id=\"T_03a19_level0_col0\" class=\"col_heading level0 col0\" >prop_type</th>\n",
       "      <th id=\"T_03a19_level0_col1\" class=\"col_heading level0 col1\" >bus_count</th>\n",
       "      <th id=\"T_03a19_level0_col2\" class=\"col_heading level0 col2\" >total_cost</th>\n",
       "      <th id=\"T_03a19_level0_col3\" class=\"col_heading level0 col3\" >cost_per_bus</th>\n",
       "    </tr>\n",
       "  </thead>\n",
       "  <tbody>\n",
       "    <tr>\n",
       "      <td id=\"T_03a19_row0_col0\" class=\"data row0 col0\" >BEB</td>\n",
       "      <td id=\"T_03a19_row0_col1\" class=\"data row0 col1\" >163.000000</td>\n",
       "      <td id=\"T_03a19_row0_col2\" class=\"data row0 col2\" >167232489</td>\n",
       "      <td id=\"T_03a19_row0_col3\" class=\"data row0 col3\" >1025966</td>\n",
       "    </tr>\n",
       "    <tr>\n",
       "      <td id=\"T_03a19_row1_col0\" class=\"data row1 col0\" >FCEB</td>\n",
       "      <td id=\"T_03a19_row1_col1\" class=\"data row1 col1\" >102.000000</td>\n",
       "      <td id=\"T_03a19_row1_col2\" class=\"data row1 col2\" >120951335</td>\n",
       "      <td id=\"T_03a19_row1_col3\" class=\"data row1 col3\" >1185797</td>\n",
       "    </tr>\n",
       "    <tr>\n",
       "      <td id=\"T_03a19_row2_col0\" class=\"data row2 col0\" >electric (not specified)</td>\n",
       "      <td id=\"T_03a19_row2_col1\" class=\"data row2 col1\" >44.000000</td>\n",
       "      <td id=\"T_03a19_row2_col2\" class=\"data row2 col2\" >56678000</td>\n",
       "      <td id=\"T_03a19_row2_col3\" class=\"data row2 col3\" >1288136</td>\n",
       "    </tr>\n",
       "    <tr>\n",
       "      <td id=\"T_03a19_row3_col0\" class=\"data row3 col0\" >zero-emission bus (not specified)</td>\n",
       "      <td id=\"T_03a19_row3_col1\" class=\"data row3 col1\" >143.000000</td>\n",
       "      <td id=\"T_03a19_row3_col2\" class=\"data row3 col2\" >128156513</td>\n",
       "      <td id=\"T_03a19_row3_col3\" class=\"data row3 col3\" >896199</td>\n",
       "    </tr>\n",
       "    <tr>\n",
       "      <td id=\"T_03a19_row4_col0\" class=\"data row4 col0\" >Grand Total</td>\n",
       "      <td id=\"T_03a19_row4_col1\" class=\"data row4 col1\" >452.000000</td>\n",
       "      <td id=\"T_03a19_row4_col2\" class=\"data row4 col2\" >473018337</td>\n",
       "      <td id=\"T_03a19_row4_col3\" class=\"data row4 col3\" >1046500</td>\n",
       "    </tr>\n",
       "  </tbody>\n",
       "</table>\n"
      ],
      "text/plain": [
       "<pandas.io.formats.style.Styler at 0x7e982aa142b0>"
      ]
     },
     "metadata": {},
     "output_type": "display_data"
    },
    {
     "data": {
      "text/markdown": [
       "<br><br>"
      ],
      "text/plain": [
       "<IPython.core.display.Markdown object>"
      ]
     },
     "metadata": {},
     "output_type": "display_data"
    },
    {
     "data": {
      "text/markdown": [
       "**Summary of cost by non-ZEB propulsion types** *"
      ],
      "text/plain": [
       "<IPython.core.display.Markdown object>"
      ]
     },
     "metadata": {},
     "output_type": "display_data"
    },
    {
     "data": {
      "text/html": [
       "<style type=\"text/css\">\n",
       "</style>\n",
       "<table id=\"T_13daa\">\n",
       "  <thead>\n",
       "    <tr>\n",
       "      <th id=\"T_13daa_level0_col0\" class=\"col_heading level0 col0\" >prop_type</th>\n",
       "      <th id=\"T_13daa_level0_col1\" class=\"col_heading level0 col1\" >bus_count</th>\n",
       "      <th id=\"T_13daa_level0_col2\" class=\"col_heading level0 col2\" >total_cost</th>\n",
       "      <th id=\"T_13daa_level0_col3\" class=\"col_heading level0 col3\" >cost_per_bus</th>\n",
       "    </tr>\n",
       "  </thead>\n",
       "  <tbody>\n",
       "    <tr>\n",
       "      <td id=\"T_13daa_row0_col0\" class=\"data row0 col0\" >CNG</td>\n",
       "      <td id=\"T_13daa_row0_col1\" class=\"data row0 col1\" >252.000000</td>\n",
       "      <td id=\"T_13daa_row0_col2\" class=\"data row0 col2\" >176039140</td>\n",
       "      <td id=\"T_13daa_row0_col3\" class=\"data row0 col3\" >698568</td>\n",
       "    </tr>\n",
       "    <tr>\n",
       "      <td id=\"T_13daa_row1_col0\" class=\"data row1 col0\" >ethanol</td>\n",
       "      <td id=\"T_13daa_row1_col1\" class=\"data row1 col1\" >9.000000</td>\n",
       "      <td id=\"T_13daa_row1_col2\" class=\"data row1 col2\" >1006750</td>\n",
       "      <td id=\"T_13daa_row1_col3\" class=\"data row1 col3\" >111861</td>\n",
       "    </tr>\n",
       "    <tr>\n",
       "      <td id=\"T_13daa_row2_col0\" class=\"data row2 col0\" >low emission (hybrid)</td>\n",
       "      <td id=\"T_13daa_row2_col1\" class=\"data row2 col1\" >145.000000</td>\n",
       "      <td id=\"T_13daa_row2_col2\" class=\"data row2 col2\" >91824361</td>\n",
       "      <td id=\"T_13daa_row2_col3\" class=\"data row2 col3\" >633271</td>\n",
       "    </tr>\n",
       "    <tr>\n",
       "      <td id=\"T_13daa_row3_col0\" class=\"data row3 col0\" >low emission (propane)</td>\n",
       "      <td id=\"T_13daa_row3_col1\" class=\"data row3 col1\" >44.000000</td>\n",
       "      <td id=\"T_13daa_row3_col2\" class=\"data row3 col2\" >8403969</td>\n",
       "      <td id=\"T_13daa_row3_col3\" class=\"data row3 col3\" >190999</td>\n",
       "    </tr>\n",
       "    <tr>\n",
       "      <td id=\"T_13daa_row4_col0\" class=\"data row4 col0\" >mix (zero and low emission)</td>\n",
       "      <td id=\"T_13daa_row4_col1\" class=\"data row4 col1\" >125.000000</td>\n",
       "      <td id=\"T_13daa_row4_col2\" class=\"data row4 col2\" >36775430</td>\n",
       "      <td id=\"T_13daa_row4_col3\" class=\"data row4 col3\" >294203</td>\n",
       "    </tr>\n",
       "    <tr>\n",
       "      <td id=\"T_13daa_row5_col0\" class=\"data row5 col0\" >Grand Total</td>\n",
       "      <td id=\"T_13daa_row5_col1\" class=\"data row5 col1\" >575.000000</td>\n",
       "      <td id=\"T_13daa_row5_col2\" class=\"data row5 col2\" >314049650</td>\n",
       "      <td id=\"T_13daa_row5_col3\" class=\"data row5 col3\" >546173</td>\n",
       "    </tr>\n",
       "  </tbody>\n",
       "</table>\n"
      ],
      "text/plain": [
       "<pandas.io.formats.style.Styler at 0x7e9828963040>"
      ]
     },
     "metadata": {},
     "output_type": "display_data"
    },
    {
     "data": {
      "text/markdown": [
       "*The remaining buses did not specify a propulsion type"
      ],
      "text/plain": [
       "<IPython.core.display.Markdown object>"
      ]
     },
     "metadata": {},
     "output_type": "display_data"
    }
   ],
   "source": [
    "#summary stuff\n",
    "display(\n",
    "    Markdown(\"**Summary of cost by ZEB propulsion types**\"),\n",
    "    pivot_zeb_prop.style.hide(axis=\"index\"),\n",
    "    Markdown(f\"<br><br>\"),\n",
    "    Markdown(\"**Summary of cost by non-ZEB propulsion types** *\"),\n",
    "    pivot_non_zeb_prop.style.hide(axis=\"index\"),\n",
    "    \n",
    "    Markdown(\"*The remaining buses did not specify a propulsion type\")\n",
    ")"
   ]
  },
  {
   "cell_type": "code",
   "execution_count": 20,
   "id": "d99e56b6-2d69-4bc3-9ac2-169df1d3f6ef",
   "metadata": {
    "execution": {
     "iopub.execute_input": "2024-07-10T19:11:45.655700Z",
     "iopub.status.busy": "2024-07-10T19:11:45.655292Z",
     "iopub.status.idle": "2024-07-10T19:11:45.660265Z",
     "shell.execute_reply": "2024-07-10T19:11:45.658859Z"
    }
   },
   "outputs": [],
   "source": [
    "# overall summary\n",
    "# commenting out for now.\n",
    "#display(\n",
    "#    Markdown(\"## Which Agencies has the highest and lowest overall cost per bus?\"))\n",
    "#bus_min_max_summary(data=agg_agency,col1=\"new_cost_per_bus\")"
   ]
  },
  {
   "cell_type": "code",
   "execution_count": 21,
   "id": "74ecf466-3560-46e1-a792-e217231ce1b4",
   "metadata": {
    "execution": {
     "iopub.execute_input": "2024-07-10T19:11:45.665319Z",
     "iopub.status.busy": "2024-07-10T19:11:45.664937Z",
     "iopub.status.idle": "2024-07-10T19:11:45.669888Z",
     "shell.execute_reply": "2024-07-10T19:11:45.668736Z"
    }
   },
   "outputs": [],
   "source": [
    "# overall summary\n",
    "# commenting out for now.\n",
    "#display(\n",
    "#    Markdown(\"## Which Agencies has the highest and lowest overall procurement cost?\"))\n",
    "#bus_min_max_summary(data=agg_agency,col1=\"total_agg_cost\")"
   ]
  },
  {
   "cell_type": "code",
   "execution_count": 22,
   "id": "30c42e6d-3ca3-4715-a472-b7501e36f2fe",
   "metadata": {
    "execution": {
     "iopub.execute_input": "2024-07-10T19:11:45.674082Z",
     "iopub.status.busy": "2024-07-10T19:11:45.673717Z",
     "iopub.status.idle": "2024-07-10T19:11:45.678165Z",
     "shell.execute_reply": "2024-07-10T19:11:45.677095Z"
    }
   },
   "outputs": [],
   "source": [
    "# overall summary\n",
    "# commenting out for now.\n",
    "#display(\n",
    "#    Markdown(\"## Which Agencies procured the has the most and least overal number of buses?\"))\n",
    "#bus_min_max_summary(data=agg_agency,col1=\"total_bus_count\")"
   ]
  },
  {
   "cell_type": "markdown",
   "id": "fffe589d-f7a6-4c9e-a171-0f4ae944760f",
   "metadata": {},
   "source": [
    "<br>\n",
    "<br>\n",
    "<br>\n",
    "<br>\n",
    "<br>"
   ]
  },
  {
   "cell_type": "code",
   "execution_count": 23,
   "id": "80dd3d1c-86f8-4c68-bdd1-8249e6494f2c",
   "metadata": {
    "execution": {
     "iopub.execute_input": "2024-07-10T19:11:45.682961Z",
     "iopub.status.busy": "2024-07-10T19:11:45.682096Z",
     "iopub.status.idle": "2024-07-10T19:11:45.709624Z",
     "shell.execute_reply": "2024-07-10T19:11:45.708497Z"
    }
   },
   "outputs": [
    {
     "data": {
      "text/markdown": [
       "## Which agencies had the highest and lowest ZEB cost per bus?"
      ],
      "text/plain": [
       "<IPython.core.display.Markdown object>"
      ]
     },
     "metadata": {},
     "output_type": "display_data"
    },
    {
     "data": {
      "text/markdown": [
       "**Max cost_per_bus**"
      ],
      "text/plain": [
       "<IPython.core.display.Markdown object>"
      ]
     },
     "metadata": {},
     "output_type": "display_data"
    },
    {
     "data": {
      "text/html": [
       "<style type=\"text/css\">\n",
       "</style>\n",
       "<table id=\"T_c0f7d\">\n",
       "  <thead>\n",
       "    <tr>\n",
       "      <th id=\"T_c0f7d_level0_col0\" class=\"col_heading level0 col0\" >transit_agency</th>\n",
       "      <th id=\"T_c0f7d_level0_col1\" class=\"col_heading level0 col1\" >prop_type</th>\n",
       "      <th id=\"T_c0f7d_level0_col2\" class=\"col_heading level0 col2\" >total_cost</th>\n",
       "      <th id=\"T_c0f7d_level0_col3\" class=\"col_heading level0 col3\" >bus_count</th>\n",
       "      <th id=\"T_c0f7d_level0_col4\" class=\"col_heading level0 col4\" >cost_per_bus</th>\n",
       "    </tr>\n",
       "  </thead>\n",
       "  <tbody>\n",
       "    <tr>\n",
       "      <td id=\"T_c0f7d_row0_col0\" class=\"data row0 col0\" >University of California - San Diego</td>\n",
       "      <td id=\"T_c0f7d_row0_col1\" class=\"data row0 col1\" >BEB</td>\n",
       "      <td id=\"T_c0f7d_row0_col2\" class=\"data row0 col2\" >4134000</td>\n",
       "      <td id=\"T_c0f7d_row0_col3\" class=\"data row0 col3\" >2.000000</td>\n",
       "      <td id=\"T_c0f7d_row0_col4\" class=\"data row0 col4\" >2067000</td>\n",
       "    </tr>\n",
       "  </tbody>\n",
       "</table>\n"
      ],
      "text/plain": [
       "<pandas.io.formats.style.Styler at 0x7e982890ca60>"
      ]
     },
     "metadata": {},
     "output_type": "display_data"
    },
    {
     "data": {
      "text/markdown": [
       "**Min cost_per_bus**"
      ],
      "text/plain": [
       "<IPython.core.display.Markdown object>"
      ]
     },
     "metadata": {},
     "output_type": "display_data"
    },
    {
     "data": {
      "text/html": [
       "<style type=\"text/css\">\n",
       "</style>\n",
       "<table id=\"T_d7ce7\">\n",
       "  <thead>\n",
       "    <tr>\n",
       "      <th id=\"T_d7ce7_level0_col0\" class=\"col_heading level0 col0\" >transit_agency</th>\n",
       "      <th id=\"T_d7ce7_level0_col1\" class=\"col_heading level0 col1\" >prop_type</th>\n",
       "      <th id=\"T_d7ce7_level0_col2\" class=\"col_heading level0 col2\" >total_cost</th>\n",
       "      <th id=\"T_d7ce7_level0_col3\" class=\"col_heading level0 col3\" >bus_count</th>\n",
       "      <th id=\"T_d7ce7_level0_col4\" class=\"col_heading level0 col4\" >cost_per_bus</th>\n",
       "    </tr>\n",
       "  </thead>\n",
       "  <tbody>\n",
       "    <tr>\n",
       "      <td id=\"T_d7ce7_row0_col0\" class=\"data row0 col0\" >City of Wasco</td>\n",
       "      <td id=\"T_d7ce7_row0_col1\" class=\"data row0 col1\" >zero-emission bus (not specified)</td>\n",
       "      <td id=\"T_d7ce7_row0_col2\" class=\"data row0 col2\" >1543000</td>\n",
       "      <td id=\"T_d7ce7_row0_col3\" class=\"data row0 col3\" >3.000000</td>\n",
       "      <td id=\"T_d7ce7_row0_col4\" class=\"data row0 col4\" >514333</td>\n",
       "    </tr>\n",
       "  </tbody>\n",
       "</table>\n"
      ],
      "text/plain": [
       "<pandas.io.formats.style.Styler at 0x7e982890cb80>"
      ]
     },
     "metadata": {},
     "output_type": "display_data"
    }
   ],
   "source": [
    "## min max values of just ZEB projects\n",
    "new_cols =[\n",
    "    \"transit_agency\",\n",
    "    \"prop_type\",\n",
    "    \"total_cost\",\n",
    "    \"bus_count\",\n",
    "    \"cost_per_bus\"]\n",
    "#\n",
    "display(\n",
    "    Markdown(\"## Which agencies had the highest and lowest ZEB cost per bus?\"))\n",
    "bus_min_max_summary(data=zeb_projects, col1=\"cost_per_bus\", col_list=new_cols)\n"
   ]
  },
  {
   "cell_type": "markdown",
   "id": "70d682e7-a119-4c37-ae92-fd364fe9d874",
   "metadata": {},
   "source": [
    "<br>"
   ]
  },
  {
   "cell_type": "code",
   "execution_count": 24,
   "id": "76bcdea4-ee68-4a15-9f29-1230f9bd157a",
   "metadata": {
    "execution": {
     "iopub.execute_input": "2024-07-10T19:11:45.714693Z",
     "iopub.status.busy": "2024-07-10T19:11:45.713505Z",
     "iopub.status.idle": "2024-07-10T19:11:45.741802Z",
     "shell.execute_reply": "2024-07-10T19:11:45.740363Z"
    }
   },
   "outputs": [
    {
     "data": {
      "text/markdown": [
       "## Which agencies procured the most and least amount of ZEBs?"
      ],
      "text/plain": [
       "<IPython.core.display.Markdown object>"
      ]
     },
     "metadata": {},
     "output_type": "display_data"
    },
    {
     "data": {
      "text/markdown": [
       "**Max bus_count**"
      ],
      "text/plain": [
       "<IPython.core.display.Markdown object>"
      ]
     },
     "metadata": {},
     "output_type": "display_data"
    },
    {
     "data": {
      "text/html": [
       "<style type=\"text/css\">\n",
       "</style>\n",
       "<table id=\"T_91aa4\">\n",
       "  <thead>\n",
       "    <tr>\n",
       "      <th id=\"T_91aa4_level0_col0\" class=\"col_heading level0 col0\" >transit_agency</th>\n",
       "      <th id=\"T_91aa4_level0_col1\" class=\"col_heading level0 col1\" >prop_type</th>\n",
       "      <th id=\"T_91aa4_level0_col2\" class=\"col_heading level0 col2\" >total_cost</th>\n",
       "      <th id=\"T_91aa4_level0_col3\" class=\"col_heading level0 col3\" >bus_count</th>\n",
       "      <th id=\"T_91aa4_level0_col4\" class=\"col_heading level0 col4\" >cost_per_bus</th>\n",
       "    </tr>\n",
       "  </thead>\n",
       "  <tbody>\n",
       "    <tr>\n",
       "      <td id=\"T_91aa4_row0_col0\" class=\"data row0 col0\" >City of Los Angeles (LA DOT)</td>\n",
       "      <td id=\"T_91aa4_row0_col1\" class=\"data row0 col1\" >zero-emission bus (not specified)</td>\n",
       "      <td id=\"T_91aa4_row0_col2\" class=\"data row0 col2\" >102790000</td>\n",
       "      <td id=\"T_91aa4_row0_col3\" class=\"data row0 col3\" >112.000000</td>\n",
       "      <td id=\"T_91aa4_row0_col4\" class=\"data row0 col4\" >917767</td>\n",
       "    </tr>\n",
       "  </tbody>\n",
       "</table>\n"
      ],
      "text/plain": [
       "<pandas.io.formats.style.Styler at 0x7e9828963640>"
      ]
     },
     "metadata": {},
     "output_type": "display_data"
    },
    {
     "data": {
      "text/markdown": [
       "**Min bus_count**"
      ],
      "text/plain": [
       "<IPython.core.display.Markdown object>"
      ]
     },
     "metadata": {},
     "output_type": "display_data"
    },
    {
     "data": {
      "text/html": [
       "<style type=\"text/css\">\n",
       "</style>\n",
       "<table id=\"T_eaa8c\">\n",
       "  <thead>\n",
       "    <tr>\n",
       "      <th id=\"T_eaa8c_level0_col0\" class=\"col_heading level0 col0\" >transit_agency</th>\n",
       "      <th id=\"T_eaa8c_level0_col1\" class=\"col_heading level0 col1\" >prop_type</th>\n",
       "      <th id=\"T_eaa8c_level0_col2\" class=\"col_heading level0 col2\" >total_cost</th>\n",
       "      <th id=\"T_eaa8c_level0_col3\" class=\"col_heading level0 col3\" >bus_count</th>\n",
       "      <th id=\"T_eaa8c_level0_col4\" class=\"col_heading level0 col4\" >cost_per_bus</th>\n",
       "    </tr>\n",
       "  </thead>\n",
       "  <tbody>\n",
       "    <tr>\n",
       "      <td id=\"T_eaa8c_row0_col0\" class=\"data row0 col0\" >SLO TRANSIT (SAN LUIS OBISPO, CA)</td>\n",
       "      <td id=\"T_eaa8c_row0_col1\" class=\"data row0 col1\" >BEB</td>\n",
       "      <td id=\"T_eaa8c_row0_col2\" class=\"data row0 col2\" >847214</td>\n",
       "      <td id=\"T_eaa8c_row0_col3\" class=\"data row0 col3\" >1.000000</td>\n",
       "      <td id=\"T_eaa8c_row0_col4\" class=\"data row0 col4\" >847214</td>\n",
       "    </tr>\n",
       "    <tr>\n",
       "      <td id=\"T_eaa8c_row1_col0\" class=\"data row1 col0\" >City of San Luis Obispo</td>\n",
       "      <td id=\"T_eaa8c_row1_col1\" class=\"data row1 col1\" >BEB</td>\n",
       "      <td id=\"T_eaa8c_row1_col2\" class=\"data row1 col2\" >859270</td>\n",
       "      <td id=\"T_eaa8c_row1_col3\" class=\"data row1 col3\" >1.000000</td>\n",
       "      <td id=\"T_eaa8c_row1_col4\" class=\"data row1 col4\" >859270</td>\n",
       "    </tr>\n",
       "  </tbody>\n",
       "</table>\n"
      ],
      "text/plain": [
       "<pandas.io.formats.style.Styler at 0x7e982890cac0>"
      ]
     },
     "metadata": {},
     "output_type": "display_data"
    }
   ],
   "source": [
    "#\n",
    "display(Markdown(\n",
    "    \"## Which agencies procured the most and least amount of ZEBs?\"\n",
    "))\n",
    "bus_min_max_summary(data=zeb_projects, col1=\"bus_count\", col_list=new_cols)\n"
   ]
  },
  {
   "cell_type": "markdown",
   "id": "5e6e37d8-7f4a-474e-a86c-94c9a39b554e",
   "metadata": {},
   "source": [
    "<br>"
   ]
  },
  {
   "cell_type": "code",
   "execution_count": 25,
   "id": "2627f195-d87f-4eb9-96ae-ab33419a184a",
   "metadata": {
    "execution": {
     "iopub.execute_input": "2024-07-10T19:11:45.746723Z",
     "iopub.status.busy": "2024-07-10T19:11:45.746311Z",
     "iopub.status.idle": "2024-07-10T19:11:45.775174Z",
     "shell.execute_reply": "2024-07-10T19:11:45.773916Z"
    }
   },
   "outputs": [
    {
     "data": {
      "text/markdown": [
       "## Which agencies had the most and least total ZEB cost?"
      ],
      "text/plain": [
       "<IPython.core.display.Markdown object>"
      ]
     },
     "metadata": {},
     "output_type": "display_data"
    },
    {
     "data": {
      "text/markdown": [
       "**Max total_cost**"
      ],
      "text/plain": [
       "<IPython.core.display.Markdown object>"
      ]
     },
     "metadata": {},
     "output_type": "display_data"
    },
    {
     "data": {
      "text/html": [
       "<style type=\"text/css\">\n",
       "</style>\n",
       "<table id=\"T_f5843\">\n",
       "  <thead>\n",
       "    <tr>\n",
       "      <th id=\"T_f5843_level0_col0\" class=\"col_heading level0 col0\" >transit_agency</th>\n",
       "      <th id=\"T_f5843_level0_col1\" class=\"col_heading level0 col1\" >prop_type</th>\n",
       "      <th id=\"T_f5843_level0_col2\" class=\"col_heading level0 col2\" >total_cost</th>\n",
       "      <th id=\"T_f5843_level0_col3\" class=\"col_heading level0 col3\" >bus_count</th>\n",
       "      <th id=\"T_f5843_level0_col4\" class=\"col_heading level0 col4\" >cost_per_bus</th>\n",
       "    </tr>\n",
       "  </thead>\n",
       "  <tbody>\n",
       "    <tr>\n",
       "      <td id=\"T_f5843_row0_col0\" class=\"data row0 col0\" >City of Los Angeles (LA DOT)</td>\n",
       "      <td id=\"T_f5843_row0_col1\" class=\"data row0 col1\" >zero-emission bus (not specified)</td>\n",
       "      <td id=\"T_f5843_row0_col2\" class=\"data row0 col2\" >102790000</td>\n",
       "      <td id=\"T_f5843_row0_col3\" class=\"data row0 col3\" >112.000000</td>\n",
       "      <td id=\"T_f5843_row0_col4\" class=\"data row0 col4\" >917767</td>\n",
       "    </tr>\n",
       "  </tbody>\n",
       "</table>\n"
      ],
      "text/plain": [
       "<pandas.io.formats.style.Styler at 0x7e9888665d00>"
      ]
     },
     "metadata": {},
     "output_type": "display_data"
    },
    {
     "data": {
      "text/markdown": [
       "**Min total_cost**"
      ],
      "text/plain": [
       "<IPython.core.display.Markdown object>"
      ]
     },
     "metadata": {},
     "output_type": "display_data"
    },
    {
     "data": {
      "text/html": [
       "<style type=\"text/css\">\n",
       "</style>\n",
       "<table id=\"T_39ab6\">\n",
       "  <thead>\n",
       "    <tr>\n",
       "      <th id=\"T_39ab6_level0_col0\" class=\"col_heading level0 col0\" >transit_agency</th>\n",
       "      <th id=\"T_39ab6_level0_col1\" class=\"col_heading level0 col1\" >prop_type</th>\n",
       "      <th id=\"T_39ab6_level0_col2\" class=\"col_heading level0 col2\" >total_cost</th>\n",
       "      <th id=\"T_39ab6_level0_col3\" class=\"col_heading level0 col3\" >bus_count</th>\n",
       "      <th id=\"T_39ab6_level0_col4\" class=\"col_heading level0 col4\" >cost_per_bus</th>\n",
       "    </tr>\n",
       "  </thead>\n",
       "  <tbody>\n",
       "    <tr>\n",
       "      <td id=\"T_39ab6_row0_col0\" class=\"data row0 col0\" >SLO TRANSIT (SAN LUIS OBISPO, CA)</td>\n",
       "      <td id=\"T_39ab6_row0_col1\" class=\"data row0 col1\" >BEB</td>\n",
       "      <td id=\"T_39ab6_row0_col2\" class=\"data row0 col2\" >847214</td>\n",
       "      <td id=\"T_39ab6_row0_col3\" class=\"data row0 col3\" >1.000000</td>\n",
       "      <td id=\"T_39ab6_row0_col4\" class=\"data row0 col4\" >847214</td>\n",
       "    </tr>\n",
       "  </tbody>\n",
       "</table>\n"
      ],
      "text/plain": [
       "<pandas.io.formats.style.Styler at 0x7e98289638b0>"
      ]
     },
     "metadata": {},
     "output_type": "display_data"
    }
   ],
   "source": [
    "#\n",
    "display(Markdown(\n",
    "    \"## Which agencies had the most and least total ZEB cost?\"\n",
    "))\n",
    "bus_min_max_summary(data=zeb_projects, col1=\"total_cost\", col_list=new_cols)"
   ]
  },
  {
   "cell_type": "code",
   "execution_count": 26,
   "id": "75919ab8-7f14-49f2-bb4a-9765fdddc35c",
   "metadata": {
    "execution": {
     "iopub.execute_input": "2024-07-10T19:11:45.780807Z",
     "iopub.status.busy": "2024-07-10T19:11:45.780355Z",
     "iopub.status.idle": "2024-07-10T19:11:45.785660Z",
     "shell.execute_reply": "2024-07-10T19:11:45.784254Z"
    }
   },
   "outputs": [],
   "source": [
    "#display(Markdown(\n",
    "#    \"## Which agencies procured the most and least amount of ZEBs?\"\n",
    "#))\n",
    "#bus_min_max_summary(data=zeb_projects, col1=\"bus_count\", col_list=new_cols)\n"
   ]
  },
  {
   "cell_type": "code",
   "execution_count": 27,
   "id": "c4f1b88e-f46c-4f69-888d-e116d2ce2ace",
   "metadata": {
    "execution": {
     "iopub.execute_input": "2024-07-10T19:11:45.791035Z",
     "iopub.status.busy": "2024-07-10T19:11:45.790653Z",
     "iopub.status.idle": "2024-07-10T19:11:45.795134Z",
     "shell.execute_reply": "2024-07-10T19:11:45.793910Z"
    }
   },
   "outputs": [],
   "source": [
    "#display(Markdown(\n",
    "#    \"## Which agencies had the most and least total ZEB cost?\"\n",
    "#))\n",
    "#bus_min_max_summary(data=zeb_projects, col1=\"total_cost\", col_list=new_cols)"
   ]
  },
  {
   "cell_type": "code",
   "execution_count": 28,
   "id": "1f39733f-448e-4d3e-9981-feff4a13dbda",
   "metadata": {
    "execution": {
     "iopub.execute_input": "2024-07-10T19:11:45.801074Z",
     "iopub.status.busy": "2024-07-10T19:11:45.800693Z",
     "iopub.status.idle": "2024-07-10T19:11:45.806045Z",
     "shell.execute_reply": "2024-07-10T19:11:45.804768Z"
    }
   },
   "outputs": [],
   "source": [
    "# all buses\n",
    "# dont know if i need this anymore\n",
    "\n",
    "#dist_curve(\n",
    "#    df=merged_data,\n",
    "#    mean=cpb_mean,\n",
    "#    std=cpb_std,\n",
    "#    title=\"all buses, cost per bus distribution\",\n",
    "#    xlabel=\"cost per bus, $ million(s)\",\n",
    "#)"
   ]
  },
  {
   "cell_type": "code",
   "execution_count": 29,
   "id": "554eeee1-a3b6-47b0-912f-830885eb100b",
   "metadata": {
    "execution": {
     "iopub.execute_input": "2024-07-10T19:11:45.812979Z",
     "iopub.status.busy": "2024-07-10T19:11:45.812417Z",
     "iopub.status.idle": "2024-07-10T19:11:45.817574Z",
     "shell.execute_reply": "2024-07-10T19:11:45.816377Z"
    }
   },
   "outputs": [],
   "source": [
    "# non-zeb cost per bus\n",
    "\n",
    "#dist_curve(\n",
    "#    df=non_zeb_projects,\n",
    "#    mean=non_zeb_cpb_wt_avg,\n",
    "#    std=non_zeb_projects[\"cost_per_bus\"].std(),\n",
    "#    title=\"non-ZEB cost per bus Distribution\",\n",
    "#    xlabel='\"cost per bus, $ million(s)\"',\n",
    "#)"
   ]
  },
  {
   "cell_type": "markdown",
   "id": "bf2d70d7-6b85-40ba-a8bd-99ed961432f3",
   "metadata": {},
   "source": [
    "<br>\n",
    "<br>"
   ]
  },
  {
   "cell_type": "code",
   "execution_count": 30,
   "id": "5117c222-74a3-424c-9b13-1592a3f14eba",
   "metadata": {
    "execution": {
     "iopub.execute_input": "2024-07-10T19:11:45.822696Z",
     "iopub.status.busy": "2024-07-10T19:11:45.821565Z",
     "iopub.status.idle": "2024-07-10T19:11:46.225605Z",
     "shell.execute_reply": "2024-07-10T19:11:46.224310Z"
    }
   },
   "outputs": [
    {
     "data": {
      "text/markdown": [
       "## What is the distribution of ZEB cost?"
      ],
      "text/plain": [
       "<IPython.core.display.Markdown object>"
      ]
     },
     "metadata": {},
     "output_type": "display_data"
    },
    {
     "data": {
      "image/png": "[encoded data removed]",
      "text/plain": [
       "<Figure size 640x480 with 1 Axes>"
      ]
     },
     "metadata": {},
     "output_type": "display_data"
    }
   ],
   "source": [
    "# ZEB cost per bus \n",
    "display(Markdown(\n",
    "    \"## What is the distribution of ZEB cost?\"\n",
    "))\n",
    "dist_curve(\n",
    "    df=zeb_projects,\n",
    "    #using the accounting, weighted average approach to mean (total cost/total number of buses)\n",
    "    mean=zeb_cpb_wt_avg,\n",
    "    # need to investigate if std needs to be weighted as well?\n",
    "    std=zeb_projects[\"cost_per_bus\"].std(),\n",
    "    title=\"ZEB cost per bus distribution\",\n",
    "    xlabel=\"cost per bus, $ million(s)\",\n",
    ")\n"
   ]
  },
  {
   "cell_type": "code",
   "execution_count": 31,
   "id": "9f1661aa-c456-4fc1-bd19-c199b834ea1d",
   "metadata": {
    "execution": {
     "iopub.execute_input": "2024-07-10T19:11:46.231451Z",
     "iopub.status.busy": "2024-07-10T19:11:46.229764Z",
     "iopub.status.idle": "2024-07-10T19:11:46.241138Z",
     "shell.execute_reply": "2024-07-10T19:11:46.239722Z"
    }
   },
   "outputs": [
    {
     "data": {
      "text/markdown": [
       "This distribution show the ZEB cost floating around `~$1,000,000`, with only a few instances extending past +/- 1 standard deviation. \n",
       "As shown earlier, the lowest cost per ZEB bus was about `~$500,000`. However it should be noted that the propulsion type for this instance did not specify exactly which type of ZEB was procured (BEB, FCEB, or otherwise). \n",
       "The highest cost per ZEB was about `~$2,000,000` for BEB."
      ],
      "text/plain": [
       "<IPython.core.display.Markdown object>"
      ]
     },
     "metadata": {},
     "output_type": "display_data"
    }
   ],
   "source": [
    "dist_narrative = \"\"\"This distribution show the ZEB cost floating around `~$1,000,000`, with only a few instances extending past +/- 1 standard deviation. \n",
    "As shown earlier, the lowest cost per ZEB bus was about `~$500,000`. However it should be noted that the propulsion type for this instance did not specify exactly which type of ZEB was procured (BEB, FCEB, or otherwise). \n",
    "The highest cost per ZEB was about `~$2,000,000` for BEB.\"\"\"\n",
    "\n",
    "display(\n",
    "    Markdown(dist_narrative)\n",
    ")"
   ]
  },
  {
   "cell_type": "markdown",
   "id": "64c608db-0295-4508-a595-7cfe0c79d7f6",
   "metadata": {},
   "source": [
    "<br>\n",
    "<br>\n",
    "<br>\n",
    "<br>\n",
    "<br>\n",
    "<br>\n",
    "<br>\n",
    "<br>\n",
    "<br>\n",
    "<br>\n",
    "<br>\n",
    "<br>\n"
   ]
  },
  {
   "cell_type": "code",
   "execution_count": 32,
   "id": "049997fb-339c-4d2e-9124-26a879536b5d",
   "metadata": {
    "execution": {
     "iopub.execute_input": "2024-07-10T19:11:46.247821Z",
     "iopub.status.busy": "2024-07-10T19:11:46.247303Z",
     "iopub.status.idle": "2024-07-10T19:11:46.868977Z",
     "shell.execute_reply": "2024-07-10T19:11:46.867726Z"
    }
   },
   "outputs": [
    {
     "data": {
      "text/markdown": [
       "## What is the cost per bus compared against all propulsion types?"
      ],
      "text/plain": [
       "<IPython.core.display.Markdown object>"
      ]
     },
     "metadata": {},
     "output_type": "display_data"
    },
    {
     "data": {
      "image/png": "[encoded data removed]",
      "text/plain": [
       "<Figure size 640x480 with 1 Axes>"
      ]
     },
     "metadata": {},
     "output_type": "display_data"
    },
    {
     "data": {
      "text/plain": [
       "None"
      ]
     },
     "metadata": {},
     "output_type": "display_data"
    }
   ],
   "source": [
    "#\n",
    "display(Markdown(\n",
    "    \"## What is the cost per bus compared against all propulsion types?\"\n",
    "))\n",
    "display(\n",
    "# cpb by prop type\n",
    "make_chart(\"new_cost_per_bus\", \"Cost per bus, by propulsion type\", x_col=\"prop_type\", data=agg_prop),\n",
    "\n",
    "# pivot table to\n",
    "#agg_prop[[\"prop_type\",\"new_cost_per_bus\"]].sort_values(by=\"new_cost_per_bus\", ascending=False).style.hide(axis=\"index\")\n",
    ")"
   ]
  },
  {
   "cell_type": "markdown",
   "id": "cbb7bc77-efea-4d10-9a93-3de5a96fa8bb",
   "metadata": {},
   "source": [
    "<br>\n",
    "<br>\n",
    "<br>\n",
    "<br>\n",
    "<br>\n",
    "<br>\n",
    "<br>"
   ]
  },
  {
   "cell_type": "code",
   "execution_count": 33,
   "id": "65566782-7cc4-4ce0-987e-2d055f60ec57",
   "metadata": {
    "execution": {
     "iopub.execute_input": "2024-07-10T19:11:46.873883Z",
     "iopub.status.busy": "2024-07-10T19:11:46.873469Z",
     "iopub.status.idle": "2024-07-10T19:11:47.172158Z",
     "shell.execute_reply": "2024-07-10T19:11:47.170338Z"
    }
   },
   "outputs": [
    {
     "data": {
      "text/markdown": [
       "## What is the total bus counts compared to each propulsion type?"
      ],
      "text/plain": [
       "<IPython.core.display.Markdown object>"
      ]
     },
     "metadata": {},
     "output_type": "display_data"
    },
    {
     "data": {
      "image/png": "[encoded data removed]",
      "text/plain": [
       "<Figure size 640x480 with 1 Axes>"
      ]
     },
     "metadata": {},
     "output_type": "display_data"
    },
    {
     "data": {
      "text/plain": [
       "None"
      ]
     },
     "metadata": {},
     "output_type": "display_data"
    }
   ],
   "source": [
    "display(Markdown(\n",
    "    \"## What is the total bus counts compared to each propulsion type?\"\n",
    "))\n",
    "\n",
    "display(\n",
    "# bus count by prop type\n",
    "make_chart(\"total_bus_count\", \"Bus counts, by propulsion type\", x_col=\"prop_type\", data=agg_prop),\n",
    "# pivot table to\n",
    "#agg_prop[[\"prop_type\",\"total_bus_count\"]].sort_values(by=\"total_bus_count\", ascending=False).style.hide(axis=\"index\")\n",
    ")"
   ]
  },
  {
   "cell_type": "markdown",
   "id": "1bd5789a-da71-4c24-a036-2a2737a1aa02",
   "metadata": {},
   "source": [
    "<br>\n",
    "<br>\n",
    "<br>\n",
    "<br>\n",
    "<br>\n",
    "<br>\n",
    "<br>\n",
    "<br>"
   ]
  },
  {
   "cell_type": "code",
   "execution_count": 34,
   "id": "7b56f81a-cf52-4309-ac8d-01d0389f9d4b",
   "metadata": {
    "execution": {
     "iopub.execute_input": "2024-07-10T19:11:47.177062Z",
     "iopub.status.busy": "2024-07-10T19:11:47.176584Z",
     "iopub.status.idle": "2024-07-10T19:11:47.419078Z",
     "shell.execute_reply": "2024-07-10T19:11:47.417920Z"
    }
   },
   "outputs": [
    {
     "data": {
      "text/markdown": [
       "## What is the total bus counts compared to each bus size category?"
      ],
      "text/plain": [
       "<IPython.core.display.Markdown object>"
      ]
     },
     "metadata": {},
     "output_type": "display_data"
    },
    {
     "data": {
      "image/png": "[encoded data removed]",
      "text/plain": [
       "<Figure size 640x480 with 1 Axes>"
      ]
     },
     "metadata": {},
     "output_type": "display_data"
    },
    {
     "data": {
      "text/plain": [
       "None"
      ]
     },
     "metadata": {},
     "output_type": "display_data"
    }
   ],
   "source": [
    "#bus size bar chart\n",
    "display(Markdown(\n",
    "    \"## What is the total bus counts compared to each bus size category?\"\n",
    "))\n",
    "\n",
    "display(\n",
    "make_chart(\"total_bus_count\", \"\"\"Bus Size Count.\n",
    "excluding 'not specified' responses.\"\"\", x_col=\"bus_size_type\",data=agg_bus_size[agg_bus_size[\"bus_size_type\"]!=\"not specified\"]),\n",
    "#agg_bus_size[[\"bus_size_type\",\"total_bus_count\"]].style.hide(axis=\"index\")\n",
    ")\n"
   ]
  },
  {
   "cell_type": "markdown",
   "id": "dd11b65a-755b-42e9-b2d6-70b98b75cdd7",
   "metadata": {},
   "source": [
    "<br>\n",
    "<br>\n",
    "<br>\n",
    "<br>\n",
    "<br>\n",
    "<br>"
   ]
  },
  {
   "cell_type": "code",
   "execution_count": 35,
   "id": "8d030948-59ea-4ea5-9db6-5d8639f6f8f5",
   "metadata": {
    "execution": {
     "iopub.execute_input": "2024-07-10T19:11:47.423438Z",
     "iopub.status.busy": "2024-07-10T19:11:47.423083Z",
     "iopub.status.idle": "2024-07-10T19:11:47.445099Z",
     "shell.execute_reply": "2024-07-10T19:11:47.443025Z"
    }
   },
   "outputs": [
    {
     "data": {
      "text/markdown": [
       "## What is the breakdown of ZEB Propulsion Type and Bus Size Category?"
      ],
      "text/plain": [
       "<IPython.core.display.Markdown object>"
      ]
     },
     "metadata": {},
     "output_type": "display_data"
    },
    {
     "data": {
      "text/html": [
       "<div>\n",
       "<style scoped>\n",
       "    .dataframe tbody tr th:only-of-type {\n",
       "        vertical-align: middle;\n",
       "    }\n",
       "\n",
       "    .dataframe tbody tr th {\n",
       "        vertical-align: top;\n",
       "    }\n",
       "\n",
       "    .dataframe thead th {\n",
       "        text-align: right;\n",
       "    }\n",
       "</style>\n",
       "<table border=\"1\" class=\"dataframe\">\n",
       "  <thead>\n",
       "    <tr style=\"text-align: right;\">\n",
       "      <th></th>\n",
       "      <th></th>\n",
       "      <th>bus_count</th>\n",
       "      <th>total_cost</th>\n",
       "      <th>cost_per_bus</th>\n",
       "    </tr>\n",
       "    <tr>\n",
       "      <th>prop_type</th>\n",
       "      <th>bus_size_type</th>\n",
       "      <th></th>\n",
       "      <th></th>\n",
       "      <th></th>\n",
       "    </tr>\n",
       "  </thead>\n",
       "  <tbody>\n",
       "    <tr>\n",
       "      <th rowspan=\"2\" valign=\"top\">BEB</th>\n",
       "      <th>articulated</th>\n",
       "      <td>12.0</td>\n",
       "      <td>18759576</td>\n",
       "      <td>1563298</td>\n",
       "    </tr>\n",
       "    <tr>\n",
       "      <th>standard/conventional (30ft-45ft)</th>\n",
       "      <td>151.0</td>\n",
       "      <td>148472913</td>\n",
       "      <td>983264</td>\n",
       "    </tr>\n",
       "    <tr>\n",
       "      <th rowspan=\"2\" valign=\"top\">FCEB</th>\n",
       "      <th>not specified</th>\n",
       "      <td>29.0</td>\n",
       "      <td>38070971</td>\n",
       "      <td>1312792</td>\n",
       "    </tr>\n",
       "    <tr>\n",
       "      <th>standard/conventional (30ft-45ft)</th>\n",
       "      <td>73.0</td>\n",
       "      <td>82880364</td>\n",
       "      <td>1135347</td>\n",
       "    </tr>\n",
       "    <tr>\n",
       "      <th rowspan=\"2\" valign=\"top\">electric (not specified)</th>\n",
       "      <th>articulated</th>\n",
       "      <td>29.0</td>\n",
       "      <td>39478000</td>\n",
       "      <td>1361310</td>\n",
       "    </tr>\n",
       "    <tr>\n",
       "      <th>not specified</th>\n",
       "      <td>15.0</td>\n",
       "      <td>17200000</td>\n",
       "      <td>1146666</td>\n",
       "    </tr>\n",
       "    <tr>\n",
       "      <th>zero-emission bus (not specified)</th>\n",
       "      <th>not specified</th>\n",
       "      <td>143.0</td>\n",
       "      <td>128156513</td>\n",
       "      <td>896199</td>\n",
       "    </tr>\n",
       "  </tbody>\n",
       "</table>\n",
       "</div>"
      ],
      "text/plain": [
       "                                                                     bus_count  \\\n",
       "prop_type                         bus_size_type                                  \n",
       "BEB                               articulated                             12.0   \n",
       "                                  standard/conventional (30ft-45ft)      151.0   \n",
       "FCEB                              not specified                           29.0   \n",
       "                                  standard/conventional (30ft-45ft)       73.0   \n",
       "electric (not specified)          articulated                             29.0   \n",
       "                                  not specified                           15.0   \n",
       "zero-emission bus (not specified) not specified                          143.0   \n",
       "\n",
       "                                                                     total_cost  \\\n",
       "prop_type                         bus_size_type                                   \n",
       "BEB                               articulated                          18759576   \n",
       "                                  standard/conventional (30ft-45ft)   148472913   \n",
       "FCEB                              not specified                        38070971   \n",
       "                                  standard/conventional (30ft-45ft)    82880364   \n",
       "electric (not specified)          articulated                          39478000   \n",
       "                                  not specified                        17200000   \n",
       "zero-emission bus (not specified) not specified                       128156513   \n",
       "\n",
       "                                                                     cost_per_bus  \n",
       "prop_type                         bus_size_type                                    \n",
       "BEB                               articulated                             1563298  \n",
       "                                  standard/conventional (30ft-45ft)        983264  \n",
       "FCEB                              not specified                           1312792  \n",
       "                                  standard/conventional (30ft-45ft)       1135347  \n",
       "electric (not specified)          articulated                             1361310  \n",
       "                                  not specified                           1146666  \n",
       "zero-emission bus (not specified) not specified                            896199  "
      ]
     },
     "metadata": {},
     "output_type": "display_data"
    }
   ],
   "source": [
    "display(\n",
    "    Markdown(\"## What is the breakdown of ZEB Propulsion Type and Bus Size Category?\"),\n",
    "    pivot_size.loc[zeb_list]\n",
    ")"
   ]
  },
  {
   "cell_type": "markdown",
   "id": "02711c64-4830-42bc-b319-e98e4a02164b",
   "metadata": {},
   "source": [
    "<br>\n",
    "<br>"
   ]
  },
  {
   "cell_type": "code",
   "execution_count": 36,
   "id": "63f90c48-e28d-4d88-8b90-891a3e3e3681",
   "metadata": {
    "execution": {
     "iopub.execute_input": "2024-07-10T19:11:47.453146Z",
     "iopub.status.busy": "2024-07-10T19:11:47.452519Z",
     "iopub.status.idle": "2024-07-10T19:11:47.468110Z",
     "shell.execute_reply": "2024-07-10T19:11:47.465983Z"
    }
   },
   "outputs": [
    {
     "data": {
      "text/markdown": [
       "\n",
       "# **Conclusion**\n",
       "\n",
       "Based on these findings, The average cost of a ZEB, throughout the US, is `~$1,000,000`, roughly twice the price of a conventional, non-ZEB.\n",
       "The variance in cost depends mainly on the options the Transit Agencies chooses. Highly optioned/customized buses contribute to high cost.\n",
       "Unfortunately, analyzing the cost of configurable options is outside the scope of data provided. \n",
       " \n"
      ],
      "text/plain": [
       "<IPython.core.display.Markdown object>"
      ]
     },
     "metadata": {},
     "output_type": "display_data"
    }
   ],
   "source": [
    "conclusion = f\"\"\"\n",
    "# **Conclusion**\n",
    "\n",
    "Based on these findings, The average cost of a ZEB, throughout the US, is `~$1,000,000`, roughly twice the price of a conventional, non-ZEB.\n",
    "The variance in cost depends mainly on the options the Transit Agencies chooses. Highly optioned/customized buses contribute to high cost.\n",
    "Unfortunately, analyzing the cost of configurable options is outside the scope of data provided. \n",
    " \n",
    "\"\"\"\n",
    "display(\n",
    "    Markdown(conclusion)\n",
    ")"
   ]
  },
  {
   "cell_type": "code",
   "execution_count": null,
   "id": "a5fef0d6-82c7-4e97-9622-99e7a2c30745",
   "metadata": {},
   "outputs": [],
   "source": []
  }
 ],
 "metadata": {
  "kernelspec": {
   "display_name": "Python 3 (ipykernel)",
   "language": "python",
   "name": "python3"
  },
  "language_info": {
   "codemirror_mode": {
    "name": "ipython",
    "version": 3
   },
   "file_extension": ".py",
   "mimetype": "text/x-python",
   "name": "python",
   "nbconvert_exporter": "python",
   "pygments_lexer": "ipython3",
   "version": "3.9.13"
  },
  "toc-autonumbering": false,
  "toc-showcode": true,
  "toc-showmarkdowntxt": true
 },
 "nbformat": 4,
 "nbformat_minor": 5
}
