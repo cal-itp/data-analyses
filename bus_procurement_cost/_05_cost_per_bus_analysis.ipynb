{
 "cells": [
  {
   "cell_type": "code",
   "execution_count": 1,
   "id": "da041e43-e8e2-4d4b-a498-10a7c0afe43f",
   "metadata": {
    "execution": {
     "iopub.execute_input": "2024-08-21T23:31:11.830384Z",
     "iopub.status.busy": "2024-08-21T23:31:11.826997Z",
     "iopub.status.idle": "2024-08-21T23:31:31.956705Z",
     "shell.execute_reply": "2024-08-21T23:31:31.955024Z"
    },
    "tags": []
   },
   "outputs": [],
   "source": [
    "import matplotlib.pyplot as plt\n",
    "import numpy as np\n",
    "import pandas as pd\n",
    "import seaborn as sns\n",
    "import shared_utils\n",
    "from _bus_cost_utils import GCS_PATH, new_outlier_flag_v2\n",
    "from IPython.display import Markdown, display, HTML\n",
    "from matplotlib.ticker import ScalarFormatter\n",
    "from scipy.stats import zscore\n",
    "from IPython.display import Markdown, display\n",
    "\n",
    "pd.set_option(\"display.max_rows\", 300)\n",
    "pd.set_option('display.max_colwidth', None)"
   ]
  },
  {
   "cell_type": "code",
   "execution_count": 2,
   "id": "d53376d9-d4b4-48b7-9916-5b9f633fbaf0",
   "metadata": {
    "execution": {
     "iopub.execute_input": "2024-08-21T23:31:31.967852Z",
     "iopub.status.busy": "2024-08-21T23:31:31.964332Z",
     "iopub.status.idle": "2024-08-21T23:31:33.009303Z",
     "shell.execute_reply": "2024-08-21T23:31:33.007835Z"
    },
    "tags": []
   },
   "outputs": [],
   "source": [
    "merged_data = pd.read_parquet(f'{GCS_PATH}cleaned_no_outliers_cpb_analysis_data_merge.parquet')"
   ]
  },
  {
   "cell_type": "code",
   "execution_count": 3,
   "id": "a45f2d3d-a600-4fe6-80cf-6b887036faab",
   "metadata": {
    "execution": {
     "iopub.execute_input": "2024-08-21T23:31:33.017391Z",
     "iopub.status.busy": "2024-08-21T23:31:33.015075Z",
     "iopub.status.idle": "2024-08-21T23:31:33.022298Z",
     "shell.execute_reply": "2024-08-21T23:31:33.021376Z"
    },
    "tags": []
   },
   "outputs": [],
   "source": [
    "# for subsetting ZEB and nonZEB\n",
    "zeb_list =[\n",
    "    \"BEB\",\n",
    "    \"FCEB\",\n",
    "    \"electric (not specified)\",\n",
    "    \"zero-emission bus (not specified)\",\n",
    "]\n",
    "\n",
    "non_zeb_list =[\n",
    "    \"CNG\",\n",
    "    \"ethanol\",\n",
    "    \"low emission (hybrid)\",\n",
    "    \"low emission (propane)\",\n",
    "    \"mix (zero and low emission)\",\n",
    "]"
   ]
  },
  {
   "cell_type": "code",
   "execution_count": 4,
   "id": "8ac40482-ba3e-4fde-8c05-806e3725de44",
   "metadata": {
    "execution": {
     "iopub.execute_input": "2024-08-21T23:31:33.027722Z",
     "iopub.status.busy": "2024-08-21T23:31:33.026467Z",
     "iopub.status.idle": "2024-08-21T23:31:33.042137Z",
     "shell.execute_reply": "2024-08-21T23:31:33.040459Z"
    },
    "tags": []
   },
   "outputs": [],
   "source": [
    "# means and standard deviations\n",
    "# for graphs\n",
    "cpb_mean = merged_data[\"cost_per_bus\"].mean()\n",
    "cpb_std = merged_data[\"cost_per_bus\"].std()\n",
    "\n",
    "#testing weighted average calculation for sub-set non-zeb and zeb\n",
    "zeb_cpb_wt_avg = (merged_data[merged_data[\"prop_type\"].isin(zeb_list)][\"total_cost\"].sum() / merged_data[merged_data[\"prop_type\"].isin(zeb_list)][\"bus_count\"].sum())\n",
    "non_zeb_cpb_wt_avg = (merged_data[merged_data[\"prop_type\"].isin(non_zeb_list)][\"total_cost\"].sum() / merged_data[merged_data[\"prop_type\"].isin(non_zeb_list)][\"bus_count\"].sum())"
   ]
  },
  {
   "cell_type": "code",
   "execution_count": 5,
   "id": "a255aa7b-4df8-4083-8cf2-b3f231f1d868",
   "metadata": {
    "execution": {
     "iopub.execute_input": "2024-08-21T23:31:33.048525Z",
     "iopub.status.busy": "2024-08-21T23:31:33.047188Z",
     "iopub.status.idle": "2024-08-21T23:31:33.059673Z",
     "shell.execute_reply": "2024-08-21T23:31:33.058298Z"
    },
    "tags": []
   },
   "outputs": [],
   "source": [
    "def bus_cost_totals(df:pd.DataFrame, col: str) -> pd.DataFrame:\n",
    "    \"\"\"\n",
    "    creates a dataframe that aggregate data, counts the number of porjects per source, calculates cost per bus,\n",
    "    and totals all the columns. \n",
    "    finally, renames the columns for a better appearance.\n",
    "    \"\"\"\n",
    "    #group by, add data\n",
    "    grouped_data = df.groupby(col).agg({\n",
    "    \"source\":\"count\",\n",
    "    \"bus_count\":\"sum\",\n",
    "    \"total_cost\":\"sum\",\n",
    "})\n",
    "    # calculate cpb\n",
    "    grouped_data[\"cost_per_bus\"] = (grouped_data[\"total_cost\"] / grouped_data[\"bus_count\"]).astype(\"int64\") \n",
    "    \n",
    "    #create df of totals\n",
    "    totals = df.agg({\n",
    "        \"source\":\"count\",\n",
    "        \"bus_count\":\"sum\",\n",
    "        \"total_cost\":\"sum\",\n",
    "    }).to_frame().T # .T to transpose\n",
    "    \n",
    "    # calculate cpb of totals\n",
    "    totals[\"cost_per_bus\"] = (totals[\"total_cost\"] / totals[\"bus_count\"]).astype(\"int64\")\n",
    "    \n",
    "    #update index name\n",
    "    totals.index = [\"grand total\"]\n",
    "\n",
    "    final_df = pd.concat([grouped_data, totals]).reset_index()\n",
    "    \n",
    "    rename_col ={\n",
    "    \"source\": \"number_of_projects\",\n",
    "    \"index\": col\n",
    "    }\n",
    "    \n",
    "    final_df.rename(columns=rename_col, inplace=True)\n",
    "    \n",
    "    \n",
    "    return final_df"
   ]
  },
  {
   "cell_type": "code",
   "execution_count": 6,
   "id": "d450fd60-cced-453b-b20b-62cdade0d7a6",
   "metadata": {
    "execution": {
     "iopub.execute_input": "2024-08-21T23:31:33.064369Z",
     "iopub.status.busy": "2024-08-21T23:31:33.063969Z",
     "iopub.status.idle": "2024-08-21T23:31:33.069315Z",
     "shell.execute_reply": "2024-08-21T23:31:33.068078Z"
    },
    "tags": []
   },
   "outputs": [],
   "source": [
    "# deprecating, use `bus_cost_totals` instead.\n",
    "\n",
    "#def new_cpb_aggregate(df: pd.DataFrame, column=\"transit_agency\") -> pd.DataFrame:\n",
    "#    \"\"\"\n",
    "#    function to aggregate compiled data by different categories:\n",
    "#        \"transit agency\", \n",
    "#        \"propulsion type\", \n",
    "#        \"bus_size_type\",\n",
    "#        \"new_project_type\"\n",
    "#    aggregate on columns:\n",
    "#        \"project_title\"\n",
    "#        \"ppno\"\n",
    "#        \"total_cost\"\n",
    "#        \"bus_count\"\n",
    "        \n",
    "#    Then, cost per bus is calculated AFTER the aggregation.\n",
    "#    \"\"\"\n",
    "#    df_agg = (\n",
    "#        df.groupby(column)\n",
    "#        .agg(\n",
    "#            total_project_count=(\"project_title\", \"count\"),\n",
    "#            total_project_count_ppno=(\"ppno\", \"count\"),\n",
    "#            total_agg_cost=(\"total_cost\", \"sum\"),\n",
    "#            total_bus_count=(\"bus_count\", \"sum\"),\n",
    "#            #new_prop_type=(\"prop_type\",\"max\")\n",
    "#        )\n",
    "#        .reset_index()\n",
    "#    )\n",
    "#    df_agg[\"new_cost_per_bus\"] = (df_agg[\"total_agg_cost\"] / df_agg[\"total_bus_count\"]).astype(\"int64\")\n",
    "    \n",
    "#    #calculate zscore\n",
    "#    df_agg[\"new_zscore_cost_per_bus\"] = zscore(df_agg[\"new_cost_per_bus\"])\n",
    "    \n",
    "#    #flag outliers\n",
    "#    df_agg[\"new_is_cpb_outlier?\"] = new_outlier_flag_v2(df_agg,'new_zscore_cost_per_bus')\n",
    "    \n",
    "#    return df_agg"
   ]
  },
  {
   "cell_type": "code",
   "execution_count": 7,
   "id": "2a2dc407-20cc-45de-84b1-bb5991dad8ac",
   "metadata": {
    "execution": {
     "iopub.execute_input": "2024-08-21T23:31:33.074730Z",
     "iopub.status.busy": "2024-08-21T23:31:33.073908Z",
     "iopub.status.idle": "2024-08-21T23:31:33.082008Z",
     "shell.execute_reply": "2024-08-21T23:31:33.080774Z"
    },
    "tags": []
   },
   "outputs": [],
   "source": [
    "def bus_min_max_summary(data:pd.DataFrame, col1:str, col_list=[\"transit_agency\",\n",
    "                                                     \"total_agg_cost\",\n",
    "                                                     \"total_bus_count\",\n",
    "                                                     \"new_cost_per_bus\"]):\n",
    "    \"\"\"\n",
    "    function to display min/max of specific column in aggregated bus df.\n",
    "    \n",
    "    \"\"\"\n",
    "\n",
    "    return display(Markdown(f\"**Max {col1}**\"),\n",
    "    data[data[col1] == data[col1].max()][col_list].style.hide(axis=\"index\"),\n",
    "    Markdown(f\"**Min {col1}**\"),\n",
    "    data[data[col1] == data[col1].min()][col_list].style.hide(axis=\"index\"))\n",
    "                  "
   ]
  },
  {
   "cell_type": "code",
   "execution_count": 8,
   "id": "7cab4eac-78f5-4b50-bd6e-135b6ba24dd1",
   "metadata": {
    "execution": {
     "iopub.execute_input": "2024-08-21T23:31:33.087958Z",
     "iopub.status.busy": "2024-08-21T23:31:33.087159Z",
     "iopub.status.idle": "2024-08-21T23:31:33.094916Z",
     "shell.execute_reply": "2024-08-21T23:31:33.093710Z"
    },
    "tags": []
   },
   "outputs": [],
   "source": [
    "# keeping this hear just in case we need to display min/max another way\n",
    "def bus_min_max_summary_v2(data:pd.DataFrame, \n",
    "                           col1:str, \n",
    "                           col_list=[\"transit_agency\",\n",
    "                                     \"total_agg_cost\",\n",
    "                                     \"total_bus_count\",\n",
    "                                     \"new_cost_per_bus\"]):\n",
    "    \"\"\"\n",
    "    alternate to initial summary function. prints results as a series.\n",
    "    function to display min/max of specific column in aggregated bus df.\n",
    "    \n",
    "    \"\"\"\n",
    "    max_loc = data[col1].idxmax()\n",
    "    min_loc = data[col1].idxmin()\n",
    "    \n",
    "    max_results = data[col_list].loc[max_loc]\n",
    "    min_results = data[col_list].loc[min_loc]\n",
    "    \n",
    "    return display(\n",
    "        Markdown(f\"**Max {col1}**\"),\n",
    "        max_results,\n",
    "        Markdown(f\"**Min {col1}**\"),\n",
    "        min_results     \n",
    "    )"
   ]
  },
  {
   "cell_type": "code",
   "execution_count": 9,
   "id": "9a6a7ecf-5180-4691-84fe-23aa68cdae93",
   "metadata": {
    "execution": {
     "iopub.execute_input": "2024-08-21T23:31:33.101436Z",
     "iopub.status.busy": "2024-08-21T23:31:33.100632Z",
     "iopub.status.idle": "2024-08-21T23:31:33.108609Z",
     "shell.execute_reply": "2024-08-21T23:31:33.107783Z"
    },
    "tags": []
   },
   "outputs": [],
   "source": [
    "def make_chart(y_col: str, title: str, data: pd.DataFrame, x_col: str):\n",
    "    \"\"\"\n",
    "    function to create chart. sorts values by y_col ascending.\"\"\"\n",
    "    \n",
    "\n",
    "    sorted_data = data.sort_values(by=y_col, ascending=False).head(10)\n",
    "    ax = sorted_data.plot(\n",
    "        x=x_col, y=y_col, kind=\"bar\", color=\"skyblue\"\n",
    "    )\n",
    "    \n",
    "    plt.title(title)\n",
    "    plt.xlabel(x_col)\n",
    "    plt.ylabel(y_col)\n",
    "    \n",
    "    for bar in ax.patches:\n",
    "        yval = bar.get_height()\n",
    "        plt.text(\n",
    "            bar.get_x() + bar.get_width() / 2, yval + 0.5, f'{yval:.2f}', \n",
    "            ha='center', va='bottom'\n",
    "        )\n",
    "\n",
    "    plt.ticklabel_format(style=\"plain\", axis=\"y\")\n",
    "    plt.show()"
   ]
  },
  {
   "cell_type": "code",
   "execution_count": 10,
   "id": "44d21201-223f-4e6c-b238-b72fba984544",
   "metadata": {
    "execution": {
     "iopub.execute_input": "2024-08-21T23:31:33.113835Z",
     "iopub.status.busy": "2024-08-21T23:31:33.113119Z",
     "iopub.status.idle": "2024-08-21T23:31:33.125787Z",
     "shell.execute_reply": "2024-08-21T23:31:33.124131Z"
    },
    "tags": []
   },
   "outputs": [],
   "source": [
    "def dist_curve(\n",
    "    df: pd.DataFrame,\n",
    "    mean: str,\n",
    "    std: str,\n",
    "    title: str,\n",
    "    xlabel: str,\n",
    "):\n",
    "    \"\"\"\n",
    "    function to make distribution curve. uses the \"cpb\" column of the df.\n",
    "    \"\"\"\n",
    "    sns.histplot(df[\"cost_per_bus\"], kde=True, color=\"skyblue\", bins=20)\n",
    "    # mean line\n",
    "    plt.axvline(\n",
    "        mean, color=\"red\", linestyle=\"dashed\", linewidth=2, label=f\"Mean: ${mean:,.2f}\"\n",
    "    )\n",
    "    # mean+1std\n",
    "    plt.axvline(\n",
    "        mean + std,\n",
    "        color=\"green\",\n",
    "        linestyle=\"dashed\",\n",
    "        linewidth=2,\n",
    "        label=f\"Standard Deviation: ${std:,.2f}\",\n",
    "    )\n",
    "    plt.axvline(mean - std, color=\"green\", linestyle=\"dashed\", linewidth=2)\n",
    "    plt.axvline(mean + (std * 2), color=\"green\", linestyle=\"dashed\", linewidth=2)\n",
    "    plt.axvline(mean + (std * 3), color=\"green\", linestyle=\"dashed\", linewidth=2)\n",
    "\n",
    "    plt.title(title + \" with Mean and Standard Deviation\")\n",
    "    plt.xlabel(xlabel)\n",
    "    plt.ylabel(\"Frequency\")\n",
    "\n",
    "    # Turn off scientific notation on x-axis?\n",
    "    plt.gca().xaxis.set_major_formatter(ScalarFormatter(useMathText=False))\n",
    "\n",
    "    plt.legend()\n",
    "    plt.show()\n",
    "\n",
    "    return"
   ]
  },
  {
   "cell_type": "code",
   "execution_count": 11,
   "id": "49a97d01-b17e-475c-b351-67426f3741d9",
   "metadata": {
    "execution": {
     "iopub.execute_input": "2024-08-21T23:31:33.133108Z",
     "iopub.status.busy": "2024-08-21T23:31:33.132107Z",
     "iopub.status.idle": "2024-08-21T23:31:33.142158Z",
     "shell.execute_reply": "2024-08-21T23:31:33.141133Z"
    },
    "tags": []
   },
   "outputs": [],
   "source": [
    "# subsetting ZEB and nonZEB data\n",
    "zeb_projects = merged_data[merged_data[\"prop_type\"].isin(zeb_list)]\n",
    "\n",
    "non_zeb_projects = merged_data[merged_data[\"prop_type\"].isin(non_zeb_list)]"
   ]
  },
  {
   "cell_type": "code",
   "execution_count": 12,
   "id": "067a14a5-5c77-4914-82a8-c5eeb170cb08",
   "metadata": {
    "execution": {
     "iopub.execute_input": "2024-08-21T23:31:33.147385Z",
     "iopub.status.busy": "2024-08-21T23:31:33.146970Z",
     "iopub.status.idle": "2024-08-21T23:31:33.237717Z",
     "shell.execute_reply": "2024-08-21T23:31:33.236320Z"
    },
    "tags": []
   },
   "outputs": [],
   "source": [
    "# aggregating by big categories\n",
    "agg_agency = bus_cost_totals(merged_data, \"transit_agency\")\n",
    "agg_prop = bus_cost_totals(merged_data, \"prop_type\")\n",
    "agg_zeb = bus_cost_totals(zeb_projects, \"prop_type\")\n",
    "agg_non_zeb = bus_cost_totals(non_zeb_projects, \"prop_type\")\n",
    "agg_not_spec = bus_cost_totals(merged_data[merged_data[\"prop_type\"] == \"not specified\"], \"prop_type\")\n",
    "agg_bus_size = bus_cost_totals(merged_data, \"bus_size_type\")\n",
    "agg_source = bus_cost_totals(merged_data, \"source\")"
   ]
  },
  {
   "cell_type": "code",
   "execution_count": 13,
   "id": "4faaa4ad-b16c-4e6b-87c7-d12f7e7db3c6",
   "metadata": {
    "execution": {
     "iopub.execute_input": "2024-08-21T23:31:33.247799Z",
     "iopub.status.busy": "2024-08-21T23:31:33.244974Z",
     "iopub.status.idle": "2024-08-21T23:31:33.254602Z",
     "shell.execute_reply": "2024-08-21T23:31:33.253438Z"
    },
    "tags": []
   },
   "outputs": [],
   "source": [
    "#pivot table to get totals for each prop type\n",
    "# deprecating for agg_prop = bus_cost_totals(merged_data, \"prop_type\")\n",
    "\n",
    "#pivot_prop_type = pd.pivot_table(\n",
    "#    merged_data,\n",
    "#    values = [\"bus_count\", \"total_cost\"],\n",
    "#    index = \"prop_type\",\n",
    "#    aggfunc = \"sum\",\n",
    "#    margins = True,\n",
    "#    margins_name = \"Grand Total\"\n",
    "#).reset_index()\n",
    "#pivot_prop_type[\"cost_per_bus\"] = (pivot_prop_type[\"total_cost\"] / pivot_prop_type[\"bus_count\"]).astype(\"int64\")"
   ]
  },
  {
   "cell_type": "code",
   "execution_count": 14,
   "id": "b8535e97-e7bf-4d7e-b718-24c5758b0ccd",
   "metadata": {
    "execution": {
     "iopub.execute_input": "2024-08-21T23:31:33.259332Z",
     "iopub.status.busy": "2024-08-21T23:31:33.258922Z",
     "iopub.status.idle": "2024-08-21T23:31:33.264726Z",
     "shell.execute_reply": "2024-08-21T23:31:33.263412Z"
    },
    "tags": []
   },
   "outputs": [],
   "source": [
    "#pivot for ZEB data\n",
    "# deprecated for agg_zeb\n",
    "#pivot_zeb_prop = pd.pivot_table(\n",
    "    #filted incoming DF for zeb prop types\n",
    "#    zeb_projects,\n",
    "#    values = [\"bus_count\", \"total_cost\"],\n",
    "#    index = \"prop_type\",\n",
    "#    aggfunc = \"sum\",\n",
    "#    margins = True,\n",
    "#    margins_name = \"Grand Total\"\n",
    "#).reset_index()              \n",
    "\n",
    "#pivot_zeb_prop[\"cost_per_bus\"] = (pivot_zeb_prop[\"total_cost\"] / pivot_zeb_prop[\"bus_count\"]).astype(\"int64\")"
   ]
  },
  {
   "cell_type": "code",
   "execution_count": 15,
   "id": "829e38c9-3f9b-4e82-92a8-c86f81051580",
   "metadata": {
    "execution": {
     "iopub.execute_input": "2024-08-21T23:31:33.270307Z",
     "iopub.status.busy": "2024-08-21T23:31:33.269232Z",
     "iopub.status.idle": "2024-08-21T23:31:33.275873Z",
     "shell.execute_reply": "2024-08-21T23:31:33.274567Z"
    },
    "tags": []
   },
   "outputs": [],
   "source": [
    "#pivot for non-ZEB data\n",
    "# deprecated for agg_non_zeb\n",
    "\n",
    "#pivot_non_zeb_prop = pd.pivot_table(\n",
    "    #filted incoming DF for non-zeb prop types\n",
    "#    non_zeb_projects,\n",
    "#    values = [\"bus_count\", \"total_cost\"],\n",
    "#    index = \"prop_type\",\n",
    "#    aggfunc = \"sum\",\n",
    "#    margins = True,\n",
    "#    margins_name = \"Grand Total\"\n",
    "#).reset_index()\n",
    "\n",
    "#pivot_non_zeb_prop[\"cost_per_bus\"] = (pivot_non_zeb_prop[\"total_cost\"] / pivot_non_zeb_prop[\"bus_count\"]).astype(\"int64\")"
   ]
  },
  {
   "cell_type": "code",
   "execution_count": 16,
   "id": "0a2163e3-dac1-4e64-a551-3dc961e44714",
   "metadata": {
    "execution": {
     "iopub.execute_input": "2024-08-21T23:31:33.281291Z",
     "iopub.status.busy": "2024-08-21T23:31:33.280856Z",
     "iopub.status.idle": "2024-08-21T23:31:33.312158Z",
     "shell.execute_reply": "2024-08-21T23:31:33.309426Z"
    },
    "tags": []
   },
   "outputs": [],
   "source": [
    "# pivot for bus sizes\n",
    "\n",
    "pivot_size = pd.pivot_table(\n",
    "    merged_data,\n",
    "    values = [\"bus_count\", \"total_cost\"],\n",
    "    # multi-index pivot\n",
    "    index = [\"prop_type\", \"bus_size_type\"],\n",
    "    aggfunc = \"sum\",\n",
    "    margins = True,\n",
    "    margins_name = \"Grand Total\"\n",
    ")\n",
    "\n",
    "pivot_size[\"cost_per_bus\"] = (pivot_size[\"total_cost\"] / pivot_size[\"bus_count\"]).astype(\"int64\")"
   ]
  },
  {
   "cell_type": "code",
   "execution_count": 17,
   "id": "9194cb5b-6542-4342-866f-9a9684c33d8a",
   "metadata": {
    "execution": {
     "iopub.execute_input": "2024-08-21T23:31:33.318628Z",
     "iopub.status.busy": "2024-08-21T23:31:33.318123Z",
     "iopub.status.idle": "2024-08-21T23:31:33.337405Z",
     "shell.execute_reply": "2024-08-21T23:31:33.335887Z"
    },
    "tags": []
   },
   "outputs": [],
   "source": [
    "agg_source_multi = zeb_projects.groupby(['source',\"prop_type\"]).agg({\n",
    "    \"source\":\"count\",\n",
    "    \"bus_count\":\"sum\",\n",
    "    \"total_cost\":\"sum\",\n",
    "    \n",
    "}).rename(columns={\"source\":\"number_of_projects\"})\n",
    "\n",
    "agg_source_multi[\"cost_per_bus\"] = (agg_source_multi[\"total_cost\"] / agg_source_multi[\"bus_count\"]).astype(\"int64\")"
   ]
  },
  {
   "cell_type": "code",
   "execution_count": 18,
   "id": "074acb8d-de54-43a0-b243-a070ecfbe1ce",
   "metadata": {
    "execution": {
     "iopub.execute_input": "2024-08-21T23:31:33.343201Z",
     "iopub.status.busy": "2024-08-21T23:31:33.342744Z",
     "iopub.status.idle": "2024-08-21T23:31:33.348763Z",
     "shell.execute_reply": "2024-08-21T23:31:33.347439Z"
    },
    "tags": []
   },
   "outputs": [],
   "source": [
    "# deprecated for agg_source\n",
    "# count the number of projects from each source\n",
    "#project_counter = merged_data.source.value_counts().reset_index()\n",
    "#project_counter.columns = [\"source\",\"number_of_projects\"]\n",
    "\n",
    "#pivot for data soruces\n",
    "#pivot_source = pd.pivot_table(\n",
    "#    merged_data,\n",
    "#    values = [\"bus_count\", \"total_cost\"],\n",
    "#    index = \"source\",\n",
    "#    aggfunc = \"sum\",\n",
    "#    margins = True,\n",
    "#    margins_name = \"Grand Total\"\n",
    "#).reset_index()\n",
    "\n",
    "# merge dfs together to get number of projects \n",
    "#pivot_source[\"cost_per_bus\"] = (pivot_source[\"total_cost\"] / pivot_source[\"bus_count\"]).astype(\"int64\")\n",
    "    \n",
    "#pivot_source = pd.merge(pivot_source,project_counter, on=\"source\")"
   ]
  },
  {
   "cell_type": "code",
   "execution_count": 19,
   "id": "92c399e6-bfb5-45a3-a1f2-31217cc2e417",
   "metadata": {
    "execution": {
     "iopub.execute_input": "2024-08-21T23:31:33.354224Z",
     "iopub.status.busy": "2024-08-21T23:31:33.353168Z",
     "iopub.status.idle": "2024-08-21T23:31:33.359636Z",
     "shell.execute_reply": "2024-08-21T23:31:33.358418Z"
    },
    "tags": []
   },
   "outputs": [],
   "source": [
    "avg_bus_count = merged_data[\"bus_count\"].mean().round()\n",
    "avg_project_cost = merged_data[\"total_cost\"].mean().round()"
   ]
  },
  {
   "cell_type": "code",
   "execution_count": 20,
   "id": "d8356953-e32d-47ab-b67c-fa016cad9c50",
   "metadata": {
    "execution": {
     "iopub.execute_input": "2024-08-21T23:31:33.367666Z",
     "iopub.status.busy": "2024-08-21T23:31:33.366879Z",
     "iopub.status.idle": "2024-08-21T23:31:33.375783Z",
     "shell.execute_reply": "2024-08-21T23:31:33.373834Z"
    },
    "tags": []
   },
   "outputs": [],
   "source": [
    "# new summary\n",
    "\n",
    "intro = f\"\"\"\n",
    "\n",
    "# Bus Procurement Cost Analysis\n",
    "\n",
    "## Summary\n",
    "This analysis examines the cost of buses for transit agencies across the county. Specifically, to observe the variation of bus cost for propulsion type with a focus on Zero Emission Buses (ZEB).\n",
    "\n",
    "Data was compiled from three data sources:\n",
    "1. FTA Bus and Low- and No-Emission Grant Awards press release (federally funded, nationwide data)\n",
    "2. TIRCP project data (state-funded, California only data)\n",
    "3. DGS usage report for all procurements from California agencies purchasing from New Flyer and Portera Inc. \n",
    "\n",
    "The initial dataset included nearly 300 projects. It was reduced to {len(merged_data)} projects after applying criteria to exclude non-bus related work. \n",
    "Projects involving the construction of new facilities, training programs, or the procurement of non-bus items such as trains and ferries were excluded. \n",
    "The final dataset comprised only projects focused on bus procurement. The remaining projects, on average, procured {avg_bus_count} buses and cost ${avg_project_cost}.\n",
    "\n",
    "\n",
    "These projects were aggregated against propulsion type and bus size type, and categorized by ZEB and non-ZEB.\n",
    "\n",
    "**ZEB projects are categorized into the following propulsion types:**\n",
    "- zero-emission (not specified) \n",
    "- electric (not specified)\n",
    "- battery electric bus (BEB)\n",
    "- fuel cell electric bus (FCEB)\n",
    "\n",
    "**Non-ZEB projects include the following propulsion types:**\n",
    "- compressed natural gas (CNG) \n",
    "- ethanol \n",
    "- low-emission (hybrid, propane) \n",
    "- diesel \n",
    "- gas\n",
    "\n",
    "These projects were broken down and visualized in the sections below.\n",
    "\"\"\"\n"
   ]
  },
  {
   "cell_type": "code",
   "execution_count": 21,
   "id": "f64881b9-46f9-4bfe-afd0-511385e21306",
   "metadata": {
    "execution": {
     "iopub.execute_input": "2024-08-21T23:31:33.380879Z",
     "iopub.status.busy": "2024-08-21T23:31:33.380452Z",
     "iopub.status.idle": "2024-08-21T23:31:33.388919Z",
     "shell.execute_reply": "2024-08-21T23:31:33.387696Z"
    },
    "tags": []
   },
   "outputs": [
    {
     "data": {
      "text/markdown": [
       "\n",
       "\n",
       "# Bus Procurement Cost Analysis\n",
       "\n",
       "## Summary\n",
       "This analysis examines the cost of buses for transit agencies across the county. Specifically, to observe the variation of bus cost for propulsion type with a focus on Zero Emission Buses (ZEB).\n",
       "\n",
       "Data was compiled from three data sources:\n",
       "1. FTA Bus and Low- and No-Emission Grant Awards press release (federally funded, nationwide data)\n",
       "2. TIRCP project data (state-funded, California only data)\n",
       "3. DGS usage report for all procurements from California agencies purchasing from New Flyer and Portera Inc. \n",
       "\n",
       "The initial dataset included nearly 300 projects. It was reduced to 126 projects after applying criteria to exclude non-bus related work. \n",
       "Projects involving the construction of new facilities, training programs, or the procurement of non-bus items such as trains and ferries were excluded. \n",
       "The final dataset comprised only projects focused on bus procurement. The remaining projects, on average, procured 13.0 buses and cost $9108598.0.\n",
       "\n",
       "\n",
       "These projects were aggregated against propulsion type and bus size type, and categorized by ZEB and non-ZEB.\n",
       "\n",
       "**ZEB projects are categorized into the following propulsion types:**\n",
       "- zero-emission (not specified) \n",
       "- electric (not specified)\n",
       "- battery electric bus (BEB)\n",
       "- fuel cell electric bus (FCEB)\n",
       "\n",
       "**Non-ZEB projects include the following propulsion types:**\n",
       "- compressed natural gas (CNG) \n",
       "- ethanol \n",
       "- low-emission (hybrid, propane) \n",
       "- diesel \n",
       "- gas\n",
       "\n",
       "These projects were broken down and visualized in the sections below.\n"
      ],
      "text/plain": [
       "<IPython.core.display.Markdown object>"
      ]
     },
     "metadata": {},
     "output_type": "display_data"
    }
   ],
   "source": [
    "display(\n",
    "    Markdown(intro),   \n",
    ")"
   ]
  },
  {
   "cell_type": "markdown",
   "id": "355bb604-dc13-4000-9f66-9c333d806177",
   "metadata": {},
   "source": [
    "<br>\n",
    "<br>"
   ]
  },
  {
   "cell_type": "code",
   "execution_count": 22,
   "id": "63a5179d-2645-4bf0-a8eb-ac88b59928ea",
   "metadata": {
    "execution": {
     "iopub.execute_input": "2024-08-21T23:31:33.395985Z",
     "iopub.status.busy": "2024-08-21T23:31:33.395571Z",
     "iopub.status.idle": "2024-08-21T23:31:33.404550Z",
     "shell.execute_reply": "2024-08-21T23:31:33.403421Z"
    },
    "tags": []
   },
   "outputs": [
    {
     "data": {
      "text/markdown": [
       "# Charts and Tables"
      ],
      "text/plain": [
       "<IPython.core.display.Markdown object>"
      ]
     },
     "metadata": {},
     "output_type": "display_data"
    },
    {
     "data": {
      "text/markdown": [
       "The following visuals display the kinds of variations to bus cost that transit agencies face."
      ],
      "text/plain": [
       "<IPython.core.display.Markdown object>"
      ]
     },
     "metadata": {},
     "output_type": "display_data"
    }
   ],
   "source": [
    "display(\n",
    "    Markdown(\"# Charts and Tables\"),\n",
    "    Markdown(f\"The following visuals display the kinds of variations to bus cost that transit agencies face.\"),\n",
    ")"
   ]
  },
  {
   "cell_type": "markdown",
   "id": "7c86d93f-5f64-4a44-9dc6-43edfcb7c626",
   "metadata": {},
   "source": [
    "<br>"
   ]
  },
  {
   "cell_type": "code",
   "execution_count": 23,
   "id": "6cf9da72-aed5-49f4-9251-ad7134f6d40a",
   "metadata": {
    "execution": {
     "iopub.execute_input": "2024-08-21T23:31:33.409868Z",
     "iopub.status.busy": "2024-08-21T23:31:33.408982Z",
     "iopub.status.idle": "2024-08-21T23:31:33.447633Z",
     "shell.execute_reply": "2024-08-21T23:31:33.446253Z"
    },
    "tags": []
   },
   "outputs": [
    {
     "data": {
      "text/markdown": [
       "**Overall summary totals by data soruce**"
      ],
      "text/plain": [
       "<IPython.core.display.Markdown object>"
      ]
     },
     "metadata": {},
     "output_type": "display_data"
    },
    {
     "data": {
      "text/html": [
       "<div>\n",
       "<style scoped>\n",
       "    .dataframe tbody tr th:only-of-type {\n",
       "        vertical-align: middle;\n",
       "    }\n",
       "\n",
       "    .dataframe tbody tr th {\n",
       "        vertical-align: top;\n",
       "    }\n",
       "\n",
       "    .dataframe thead th {\n",
       "        text-align: right;\n",
       "    }\n",
       "</style>\n",
       "<table border=\"1\" class=\"dataframe\">\n",
       "  <thead>\n",
       "    <tr style=\"text-align: right;\">\n",
       "      <th></th>\n",
       "      <th>source</th>\n",
       "      <th>number_of_projects</th>\n",
       "      <th>bus_count</th>\n",
       "      <th>total_cost</th>\n",
       "      <th>cost_per_bus</th>\n",
       "    </tr>\n",
       "  </thead>\n",
       "  <tbody>\n",
       "    <tr>\n",
       "      <th>0</th>\n",
       "      <td>dgs</td>\n",
       "      <td>36.0</td>\n",
       "      <td>236.0</td>\n",
       "      <td>2.501129e+08</td>\n",
       "      <td>1059800</td>\n",
       "    </tr>\n",
       "    <tr>\n",
       "      <th>1</th>\n",
       "      <td>fta</td>\n",
       "      <td>81.0</td>\n",
       "      <td>1195.0</td>\n",
       "      <td>7.103200e+08</td>\n",
       "      <td>594410</td>\n",
       "    </tr>\n",
       "    <tr>\n",
       "      <th>2</th>\n",
       "      <td>tircp</td>\n",
       "      <td>9.0</td>\n",
       "      <td>233.0</td>\n",
       "      <td>1.872505e+08</td>\n",
       "      <td>803650</td>\n",
       "    </tr>\n",
       "    <tr>\n",
       "      <th>3</th>\n",
       "      <td>grand total</td>\n",
       "      <td>126.0</td>\n",
       "      <td>1664.0</td>\n",
       "      <td>1.147683e+09</td>\n",
       "      <td>689713</td>\n",
       "    </tr>\n",
       "  </tbody>\n",
       "</table>\n",
       "</div>"
      ],
      "text/plain": [
       "        source  number_of_projects  bus_count    total_cost  cost_per_bus\n",
       "0          dgs                36.0      236.0  2.501129e+08       1059800\n",
       "1          fta                81.0     1195.0  7.103200e+08        594410\n",
       "2        tircp                 9.0      233.0  1.872505e+08        803650\n",
       "3  grand total               126.0     1664.0  1.147683e+09        689713"
      ]
     },
     "metadata": {},
     "output_type": "display_data"
    },
    {
     "data": {
      "text/markdown": [
       "<br>Broken down further, we can observe the type of ZEB projects by data source."
      ],
      "text/plain": [
       "<IPython.core.display.Markdown object>"
      ]
     },
     "metadata": {},
     "output_type": "display_data"
    },
    {
     "data": {
      "text/html": [
       "<div>\n",
       "<style scoped>\n",
       "    .dataframe tbody tr th:only-of-type {\n",
       "        vertical-align: middle;\n",
       "    }\n",
       "\n",
       "    .dataframe tbody tr th {\n",
       "        vertical-align: top;\n",
       "    }\n",
       "\n",
       "    .dataframe thead th {\n",
       "        text-align: right;\n",
       "    }\n",
       "</style>\n",
       "<table border=\"1\" class=\"dataframe\">\n",
       "  <thead>\n",
       "    <tr style=\"text-align: right;\">\n",
       "      <th></th>\n",
       "      <th></th>\n",
       "      <th>number_of_projects</th>\n",
       "      <th>bus_count</th>\n",
       "      <th>total_cost</th>\n",
       "      <th>cost_per_bus</th>\n",
       "    </tr>\n",
       "    <tr>\n",
       "      <th>source</th>\n",
       "      <th>prop_type</th>\n",
       "      <th></th>\n",
       "      <th></th>\n",
       "      <th></th>\n",
       "      <th></th>\n",
       "    </tr>\n",
       "  </thead>\n",
       "  <tbody>\n",
       "    <tr>\n",
       "      <th rowspan=\"2\" valign=\"top\">dgs</th>\n",
       "      <th>BEB</th>\n",
       "      <td>30</td>\n",
       "      <td>163.0</td>\n",
       "      <td>167232489.0</td>\n",
       "      <td>1025966</td>\n",
       "    </tr>\n",
       "    <tr>\n",
       "      <th>FCEB</th>\n",
       "      <td>6</td>\n",
       "      <td>73.0</td>\n",
       "      <td>82880364.0</td>\n",
       "      <td>1135347</td>\n",
       "    </tr>\n",
       "    <tr>\n",
       "      <th rowspan=\"4\" valign=\"top\">fta</th>\n",
       "      <th>BEB</th>\n",
       "      <td>8</td>\n",
       "      <td>95.0</td>\n",
       "      <td>113363089.0</td>\n",
       "      <td>1193295</td>\n",
       "    </tr>\n",
       "    <tr>\n",
       "      <th>FCEB</th>\n",
       "      <td>1</td>\n",
       "      <td>23.0</td>\n",
       "      <td>29330243.0</td>\n",
       "      <td>1275227</td>\n",
       "    </tr>\n",
       "    <tr>\n",
       "      <th>electric (not specified)</th>\n",
       "      <td>3</td>\n",
       "      <td>27.0</td>\n",
       "      <td>35421858.0</td>\n",
       "      <td>1311920</td>\n",
       "    </tr>\n",
       "    <tr>\n",
       "      <th>zero-emission bus (not specified)</th>\n",
       "      <td>2</td>\n",
       "      <td>39.0</td>\n",
       "      <td>29369656.0</td>\n",
       "      <td>753068</td>\n",
       "    </tr>\n",
       "    <tr>\n",
       "      <th rowspan=\"2\" valign=\"top\">tircp</th>\n",
       "      <th>electric (not specified)</th>\n",
       "      <td>2</td>\n",
       "      <td>36.0</td>\n",
       "      <td>46678000.0</td>\n",
       "      <td>1296611</td>\n",
       "    </tr>\n",
       "    <tr>\n",
       "      <th>zero-emission bus (not specified)</th>\n",
       "      <td>5</td>\n",
       "      <td>143.0</td>\n",
       "      <td>128156513.0</td>\n",
       "      <td>896199</td>\n",
       "    </tr>\n",
       "  </tbody>\n",
       "</table>\n",
       "</div>"
      ],
      "text/plain": [
       "                                          number_of_projects  bus_count  \\\n",
       "source prop_type                                                          \n",
       "dgs    BEB                                                30      163.0   \n",
       "       FCEB                                                6       73.0   \n",
       "fta    BEB                                                 8       95.0   \n",
       "       FCEB                                                1       23.0   \n",
       "       electric (not specified)                            3       27.0   \n",
       "       zero-emission bus (not specified)                   2       39.0   \n",
       "tircp  electric (not specified)                            2       36.0   \n",
       "       zero-emission bus (not specified)                   5      143.0   \n",
       "\n",
       "                                           total_cost  cost_per_bus  \n",
       "source prop_type                                                     \n",
       "dgs    BEB                                167232489.0       1025966  \n",
       "       FCEB                                82880364.0       1135347  \n",
       "fta    BEB                                113363089.0       1193295  \n",
       "       FCEB                                29330243.0       1275227  \n",
       "       electric (not specified)            35421858.0       1311920  \n",
       "       zero-emission bus (not specified)   29369656.0        753068  \n",
       "tircp  electric (not specified)            46678000.0       1296611  \n",
       "       zero-emission bus (not specified)  128156513.0        896199  "
      ]
     },
     "metadata": {},
     "output_type": "display_data"
    }
   ],
   "source": [
    "display(\n",
    "    Markdown(\"**Overall summary totals by data soruce**\"),\n",
    "    agg_source,\n",
    "    Markdown(\"<br>Broken down further, we can observe the type of ZEB projects by data source.\"),\n",
    "    agg_source_multi,\n",
    ")"
   ]
  },
  {
   "cell_type": "markdown",
   "id": "529a7fdb-c5ce-47ad-98ea-5756cfc09016",
   "metadata": {},
   "source": [
    "<br>"
   ]
  },
  {
   "cell_type": "code",
   "execution_count": 24,
   "id": "a088e613-d835-4c01-9a3b-8618b257a35b",
   "metadata": {
    "execution": {
     "iopub.execute_input": "2024-08-21T23:31:33.453621Z",
     "iopub.status.busy": "2024-08-21T23:31:33.452307Z",
     "iopub.status.idle": "2024-08-21T23:31:33.472320Z",
     "shell.execute_reply": "2024-08-21T23:31:33.470757Z"
    },
    "tags": []
   },
   "outputs": [
    {
     "data": {
      "text/markdown": [
       "**Summary of cost by ZEB propulsion types**"
      ],
      "text/plain": [
       "<IPython.core.display.Markdown object>"
      ]
     },
     "metadata": {},
     "output_type": "display_data"
    },
    {
     "data": {
      "text/html": [
       "<style type=\"text/css\">\n",
       "</style>\n",
       "<table id=\"T_ed25a\">\n",
       "  <thead>\n",
       "    <tr>\n",
       "      <th id=\"T_ed25a_level0_col0\" class=\"col_heading level0 col0\" >prop_type</th>\n",
       "      <th id=\"T_ed25a_level0_col1\" class=\"col_heading level0 col1\" >number_of_projects</th>\n",
       "      <th id=\"T_ed25a_level0_col2\" class=\"col_heading level0 col2\" >bus_count</th>\n",
       "      <th id=\"T_ed25a_level0_col3\" class=\"col_heading level0 col3\" >total_cost</th>\n",
       "      <th id=\"T_ed25a_level0_col4\" class=\"col_heading level0 col4\" >cost_per_bus</th>\n",
       "    </tr>\n",
       "  </thead>\n",
       "  <tbody>\n",
       "    <tr>\n",
       "      <td id=\"T_ed25a_row0_col0\" class=\"data row0 col0\" >BEB</td>\n",
       "      <td id=\"T_ed25a_row0_col1\" class=\"data row0 col1\" >38</td>\n",
       "      <td id=\"T_ed25a_row0_col2\" class=\"data row0 col2\" >258</td>\n",
       "      <td id=\"T_ed25a_row0_col3\" class=\"data row0 col3\" >280595578</td>\n",
       "      <td id=\"T_ed25a_row0_col4\" class=\"data row0 col4\" >1087579</td>\n",
       "    </tr>\n",
       "    <tr>\n",
       "      <td id=\"T_ed25a_row1_col0\" class=\"data row1 col0\" >FCEB</td>\n",
       "      <td id=\"T_ed25a_row1_col1\" class=\"data row1 col1\" >7</td>\n",
       "      <td id=\"T_ed25a_row1_col2\" class=\"data row1 col2\" >96</td>\n",
       "      <td id=\"T_ed25a_row1_col3\" class=\"data row1 col3\" >112210607</td>\n",
       "      <td id=\"T_ed25a_row1_col4\" class=\"data row1 col4\" >1168860</td>\n",
       "    </tr>\n",
       "    <tr>\n",
       "      <td id=\"T_ed25a_row2_col0\" class=\"data row2 col0\" >electric (not specified)</td>\n",
       "      <td id=\"T_ed25a_row2_col1\" class=\"data row2 col1\" >5</td>\n",
       "      <td id=\"T_ed25a_row2_col2\" class=\"data row2 col2\" >63</td>\n",
       "      <td id=\"T_ed25a_row2_col3\" class=\"data row2 col3\" >82099858</td>\n",
       "      <td id=\"T_ed25a_row2_col4\" class=\"data row2 col4\" >1303172</td>\n",
       "    </tr>\n",
       "    <tr>\n",
       "      <td id=\"T_ed25a_row3_col0\" class=\"data row3 col0\" >zero-emission bus (not specified)</td>\n",
       "      <td id=\"T_ed25a_row3_col1\" class=\"data row3 col1\" >7</td>\n",
       "      <td id=\"T_ed25a_row3_col2\" class=\"data row3 col2\" >182</td>\n",
       "      <td id=\"T_ed25a_row3_col3\" class=\"data row3 col3\" >157526169</td>\n",
       "      <td id=\"T_ed25a_row3_col4\" class=\"data row3 col4\" >865528</td>\n",
       "    </tr>\n",
       "    <tr>\n",
       "      <td id=\"T_ed25a_row4_col0\" class=\"data row4 col0\" >grand total</td>\n",
       "      <td id=\"T_ed25a_row4_col1\" class=\"data row4 col1\" >57</td>\n",
       "      <td id=\"T_ed25a_row4_col2\" class=\"data row4 col2\" >599</td>\n",
       "      <td id=\"T_ed25a_row4_col3\" class=\"data row4 col3\" >632432212</td>\n",
       "      <td id=\"T_ed25a_row4_col4\" class=\"data row4 col4\" >1055813</td>\n",
       "    </tr>\n",
       "  </tbody>\n",
       "</table>\n"
      ],
      "text/plain": [
       "<pandas.io.formats.style.Styler at 0x7a1490483f70>"
      ]
     },
     "metadata": {},
     "output_type": "display_data"
    }
   ],
   "source": [
    "display(Markdown(\"**Summary of cost by ZEB propulsion types**\"),\n",
    "    agg_zeb.style.format(precision=0).hide(axis='index'))"
   ]
  },
  {
   "cell_type": "markdown",
   "id": "2c55568a-b55d-48e0-8672-4baba7672223",
   "metadata": {},
   "source": [
    "<br>\n",
    "<br>\n",
    "<br>\n",
    "<br>\n",
    "<br>"
   ]
  },
  {
   "cell_type": "code",
   "execution_count": 25,
   "id": "676cbd9a-db4b-4e86-b60b-900f14513468",
   "metadata": {
    "execution": {
     "iopub.execute_input": "2024-08-21T23:31:33.478578Z",
     "iopub.status.busy": "2024-08-21T23:31:33.477831Z",
     "iopub.status.idle": "2024-08-21T23:31:33.517252Z",
     "shell.execute_reply": "2024-08-21T23:31:33.515248Z"
    },
    "tags": []
   },
   "outputs": [
    {
     "data": {
      "text/markdown": [
       "**Summary of cost by non-ZEB propulsion types** *"
      ],
      "text/plain": [
       "<IPython.core.display.Markdown object>"
      ]
     },
     "metadata": {},
     "output_type": "display_data"
    },
    {
     "data": {
      "text/html": [
       "<style type=\"text/css\">\n",
       "</style>\n",
       "<table id=\"T_6b603\">\n",
       "  <thead>\n",
       "    <tr>\n",
       "      <th id=\"T_6b603_level0_col0\" class=\"col_heading level0 col0\" >prop_type</th>\n",
       "      <th id=\"T_6b603_level0_col1\" class=\"col_heading level0 col1\" >number_of_projects</th>\n",
       "      <th id=\"T_6b603_level0_col2\" class=\"col_heading level0 col2\" >bus_count</th>\n",
       "      <th id=\"T_6b603_level0_col3\" class=\"col_heading level0 col3\" >total_cost</th>\n",
       "      <th id=\"T_6b603_level0_col4\" class=\"col_heading level0 col4\" >cost_per_bus</th>\n",
       "    </tr>\n",
       "  </thead>\n",
       "  <tbody>\n",
       "    <tr>\n",
       "      <td id=\"T_6b603_row0_col0\" class=\"data row0 col0\" >CNG</td>\n",
       "      <td id=\"T_6b603_row0_col1\" class=\"data row0 col1\" >17</td>\n",
       "      <td id=\"T_6b603_row0_col2\" class=\"data row0 col2\" >252</td>\n",
       "      <td id=\"T_6b603_row0_col3\" class=\"data row0 col3\" >176637661</td>\n",
       "      <td id=\"T_6b603_row0_col4\" class=\"data row0 col4\" >700943</td>\n",
       "    </tr>\n",
       "    <tr>\n",
       "      <td id=\"T_6b603_row1_col0\" class=\"data row1 col0\" >low emission (hybrid)</td>\n",
       "      <td id=\"T_6b603_row1_col1\" class=\"data row1 col1\" >27</td>\n",
       "      <td id=\"T_6b603_row1_col2\" class=\"data row1 col2\" >326</td>\n",
       "      <td id=\"T_6b603_row1_col3\" class=\"data row1 col3\" >254868983</td>\n",
       "      <td id=\"T_6b603_row1_col4\" class=\"data row1 col4\" >781806</td>\n",
       "    </tr>\n",
       "    <tr>\n",
       "      <td id=\"T_6b603_row2_col0\" class=\"data row2 col0\" >low emission (propane)</td>\n",
       "      <td id=\"T_6b603_row2_col1\" class=\"data row2 col1\" >5</td>\n",
       "      <td id=\"T_6b603_row2_col2\" class=\"data row2 col2\" >53</td>\n",
       "      <td id=\"T_6b603_row2_col3\" class=\"data row2 col3\" >15354392</td>\n",
       "      <td id=\"T_6b603_row2_col4\" class=\"data row2 col4\" >289705</td>\n",
       "    </tr>\n",
       "    <tr>\n",
       "      <td id=\"T_6b603_row3_col0\" class=\"data row3 col0\" >grand total</td>\n",
       "      <td id=\"T_6b603_row3_col1\" class=\"data row3 col1\" >49</td>\n",
       "      <td id=\"T_6b603_row3_col2\" class=\"data row3 col2\" >631</td>\n",
       "      <td id=\"T_6b603_row3_col3\" class=\"data row3 col3\" >446861036</td>\n",
       "      <td id=\"T_6b603_row3_col4\" class=\"data row3 col4\" >708179</td>\n",
       "    </tr>\n",
       "  </tbody>\n",
       "</table>\n"
      ],
      "text/plain": [
       "<pandas.io.formats.style.Styler at 0x7a1490483c40>"
      ]
     },
     "metadata": {},
     "output_type": "display_data"
    },
    {
     "data": {
      "text/markdown": [
       "<br>"
      ],
      "text/plain": [
       "<IPython.core.display.Markdown object>"
      ]
     },
     "metadata": {},
     "output_type": "display_data"
    },
    {
     "data": {
      "text/markdown": [
       "*The remaining buses did not specify a propulsion type"
      ],
      "text/plain": [
       "<IPython.core.display.Markdown object>"
      ]
     },
     "metadata": {},
     "output_type": "display_data"
    },
    {
     "data": {
      "text/html": [
       "<style type=\"text/css\">\n",
       "</style>\n",
       "<table id=\"T_efad4\">\n",
       "  <thead>\n",
       "    <tr>\n",
       "      <th id=\"T_efad4_level0_col0\" class=\"col_heading level0 col0\" >prop_type</th>\n",
       "      <th id=\"T_efad4_level0_col1\" class=\"col_heading level0 col1\" >number_of_projects</th>\n",
       "      <th id=\"T_efad4_level0_col2\" class=\"col_heading level0 col2\" >bus_count</th>\n",
       "      <th id=\"T_efad4_level0_col3\" class=\"col_heading level0 col3\" >total_cost</th>\n",
       "      <th id=\"T_efad4_level0_col4\" class=\"col_heading level0 col4\" >cost_per_bus</th>\n",
       "    </tr>\n",
       "  </thead>\n",
       "  <tbody>\n",
       "    <tr>\n",
       "      <td id=\"T_efad4_row0_col0\" class=\"data row0 col0\" >not specified</td>\n",
       "      <td id=\"T_efad4_row0_col1\" class=\"data row0 col1\" >19</td>\n",
       "      <td id=\"T_efad4_row0_col2\" class=\"data row0 col2\" >395</td>\n",
       "      <td id=\"T_efad4_row0_col3\" class=\"data row0 col3\" >63700147</td>\n",
       "      <td id=\"T_efad4_row0_col4\" class=\"data row0 col4\" >161266</td>\n",
       "    </tr>\n",
       "  </tbody>\n",
       "</table>\n"
      ],
      "text/plain": [
       "<pandas.io.formats.style.Styler at 0x7a149059d280>"
      ]
     },
     "metadata": {},
     "output_type": "display_data"
    }
   ],
   "source": [
    "#summary stuff\n",
    "display(\n",
    "    Markdown(\"**Summary of cost by non-ZEB propulsion types** *\"),\n",
    "    agg_non_zeb.style.format(precision=0).hide(axis='index'),\n",
    "    Markdown(f\"<br>\"),\n",
    "    Markdown(\"*The remaining buses did not specify a propulsion type\"),\n",
    "    agg_not_spec[:1].style.format(precision=0).hide(axis='index')\n",
    ")"
   ]
  },
  {
   "cell_type": "code",
   "execution_count": 26,
   "id": "d99e56b6-2d69-4bc3-9ac2-169df1d3f6ef",
   "metadata": {
    "execution": {
     "iopub.execute_input": "2024-08-21T23:31:33.523891Z",
     "iopub.status.busy": "2024-08-21T23:31:33.523488Z",
     "iopub.status.idle": "2024-08-21T23:31:33.530551Z",
     "shell.execute_reply": "2024-08-21T23:31:33.526872Z"
    },
    "tags": []
   },
   "outputs": [],
   "source": [
    "# overall summary\n",
    "# commenting out for now.\n",
    "#display(\n",
    "#    Markdown(\"## Which Agencies has the highest and lowest overall cost per bus?\"))\n",
    "#bus_min_max_summary(data=agg_agency,col1=\"new_cost_per_bus\")"
   ]
  },
  {
   "cell_type": "code",
   "execution_count": 27,
   "id": "74ecf466-3560-46e1-a792-e217231ce1b4",
   "metadata": {
    "execution": {
     "iopub.execute_input": "2024-08-21T23:31:33.536560Z",
     "iopub.status.busy": "2024-08-21T23:31:33.536110Z",
     "iopub.status.idle": "2024-08-21T23:31:33.543241Z",
     "shell.execute_reply": "2024-08-21T23:31:33.541481Z"
    },
    "tags": []
   },
   "outputs": [],
   "source": [
    "# overall summary\n",
    "# commenting out for now.\n",
    "#display(\n",
    "#    Markdown(\"## Which Agencies has the highest and lowest overall procurement cost?\"))\n",
    "#bus_min_max_summary(data=agg_agency,col1=\"total_agg_cost\")"
   ]
  },
  {
   "cell_type": "code",
   "execution_count": 28,
   "id": "30c42e6d-3ca3-4715-a472-b7501e36f2fe",
   "metadata": {
    "execution": {
     "iopub.execute_input": "2024-08-21T23:31:33.548608Z",
     "iopub.status.busy": "2024-08-21T23:31:33.548158Z",
     "iopub.status.idle": "2024-08-21T23:31:33.556245Z",
     "shell.execute_reply": "2024-08-21T23:31:33.554077Z"
    },
    "tags": []
   },
   "outputs": [],
   "source": [
    "# overall summary\n",
    "# commenting out for now.\n",
    "#display(\n",
    "#    Markdown(\"## Which Agencies procured the has the most and least overal number of buses?\"))\n",
    "#bus_min_max_summary(data=agg_agency,col1=\"total_bus_count\")"
   ]
  },
  {
   "cell_type": "markdown",
   "id": "fffe589d-f7a6-4c9e-a171-0f4ae944760f",
   "metadata": {},
   "source": [
    "<br>"
   ]
  },
  {
   "cell_type": "code",
   "execution_count": 29,
   "id": "80dd3d1c-86f8-4c68-bdd1-8249e6494f2c",
   "metadata": {
    "execution": {
     "iopub.execute_input": "2024-08-21T23:31:33.564092Z",
     "iopub.status.busy": "2024-08-21T23:31:33.562829Z",
     "iopub.status.idle": "2024-08-21T23:31:33.597138Z",
     "shell.execute_reply": "2024-08-21T23:31:33.595935Z"
    },
    "tags": []
   },
   "outputs": [
    {
     "data": {
      "text/markdown": [
       "## Which agencies had the highest and lowest ZEB cost per bus?"
      ],
      "text/plain": [
       "<IPython.core.display.Markdown object>"
      ]
     },
     "metadata": {},
     "output_type": "display_data"
    },
    {
     "data": {
      "text/markdown": [
       "**Max cost_per_bus**"
      ],
      "text/plain": [
       "<IPython.core.display.Markdown object>"
      ]
     },
     "metadata": {},
     "output_type": "display_data"
    },
    {
     "data": {
      "text/html": [
       "<style type=\"text/css\">\n",
       "</style>\n",
       "<table id=\"T_b5c65\">\n",
       "  <thead>\n",
       "    <tr>\n",
       "      <th id=\"T_b5c65_level0_col0\" class=\"col_heading level0 col0\" >transit_agency</th>\n",
       "      <th id=\"T_b5c65_level0_col1\" class=\"col_heading level0 col1\" >prop_type</th>\n",
       "      <th id=\"T_b5c65_level0_col2\" class=\"col_heading level0 col2\" >total_cost</th>\n",
       "      <th id=\"T_b5c65_level0_col3\" class=\"col_heading level0 col3\" >bus_count</th>\n",
       "      <th id=\"T_b5c65_level0_col4\" class=\"col_heading level0 col4\" >cost_per_bus</th>\n",
       "    </tr>\n",
       "  </thead>\n",
       "  <tbody>\n",
       "    <tr>\n",
       "      <td id=\"T_b5c65_row0_col0\" class=\"data row0 col0\" >University of California - San Diego</td>\n",
       "      <td id=\"T_b5c65_row0_col1\" class=\"data row0 col1\" >BEB</td>\n",
       "      <td id=\"T_b5c65_row0_col2\" class=\"data row0 col2\" >4134000.000000</td>\n",
       "      <td id=\"T_b5c65_row0_col3\" class=\"data row0 col3\" >2.000000</td>\n",
       "      <td id=\"T_b5c65_row0_col4\" class=\"data row0 col4\" >2067000</td>\n",
       "    </tr>\n",
       "  </tbody>\n",
       "</table>\n"
      ],
      "text/plain": [
       "<pandas.io.formats.style.Styler at 0x7a149044c4f0>"
      ]
     },
     "metadata": {},
     "output_type": "display_data"
    },
    {
     "data": {
      "text/markdown": [
       "**Min cost_per_bus**"
      ],
      "text/plain": [
       "<IPython.core.display.Markdown object>"
      ]
     },
     "metadata": {},
     "output_type": "display_data"
    },
    {
     "data": {
      "text/html": [
       "<style type=\"text/css\">\n",
       "</style>\n",
       "<table id=\"T_503d3\">\n",
       "  <thead>\n",
       "    <tr>\n",
       "      <th id=\"T_503d3_level0_col0\" class=\"col_heading level0 col0\" >transit_agency</th>\n",
       "      <th id=\"T_503d3_level0_col1\" class=\"col_heading level0 col1\" >prop_type</th>\n",
       "      <th id=\"T_503d3_level0_col2\" class=\"col_heading level0 col2\" >total_cost</th>\n",
       "      <th id=\"T_503d3_level0_col3\" class=\"col_heading level0 col3\" >bus_count</th>\n",
       "      <th id=\"T_503d3_level0_col4\" class=\"col_heading level0 col4\" >cost_per_bus</th>\n",
       "    </tr>\n",
       "  </thead>\n",
       "  <tbody>\n",
       "    <tr>\n",
       "      <td id=\"T_503d3_row0_col0\" class=\"data row0 col0\" >California Department of Transportation, on behalf of Morongo Basin Transit Authority</td>\n",
       "      <td id=\"T_503d3_row0_col1\" class=\"data row0 col1\" >BEB</td>\n",
       "      <td id=\"T_503d3_row0_col2\" class=\"data row0 col2\" >131168.000000</td>\n",
       "      <td id=\"T_503d3_row0_col3\" class=\"data row0 col3\" >1.000000</td>\n",
       "      <td id=\"T_503d3_row0_col4\" class=\"data row0 col4\" >131168</td>\n",
       "    </tr>\n",
       "  </tbody>\n",
       "</table>\n"
      ],
      "text/plain": [
       "<pandas.io.formats.style.Styler at 0x7a14904e99a0>"
      ]
     },
     "metadata": {},
     "output_type": "display_data"
    },
    {
     "data": {
      "text/markdown": [
       "<br>University of San Diego did not any information regarding their project. \n",
       "             Morongo Basin Transit Authority explained their project saying \"The California Department of Transportation, on behalf of the Morongo Basin Transit Authority, will receive funding to buy a battery-electric bus to replace an older vehicle. This project will improve air quality, safety, reliability and state of good repair in the San Bernadino County service area. \". \n",
       "             <br> Neither agencies describe the specifics of their buses which may explain the differences in cost per bus"
      ],
      "text/plain": [
       "<IPython.core.display.Markdown object>"
      ]
     },
     "metadata": {},
     "output_type": "display_data"
    }
   ],
   "source": [
    "## min max values of just ZEB projects\n",
    "new_cols =[\n",
    "    \"transit_agency\",\n",
    "    \"prop_type\",\n",
    "    \"total_cost\",\n",
    "    \"bus_count\",\n",
    "    \"cost_per_bus\"]\n",
    "\n",
    "morongo_desc = zeb_projects.loc[zeb_projects[\"transit_agency\"] == \"California Department of Transportation, on behalf of Morongo Basin Transit Authority\", \"project_description\"].values[0]\n",
    "#\n",
    "display(\n",
    "    Markdown(\"## Which agencies had the highest and lowest ZEB cost per bus?\")),\n",
    "bus_min_max_summary(data=zeb_projects, col1=\"cost_per_bus\", col_list=new_cols),\n",
    "#alternate display\n",
    "#bus_min_max_summary_v2(data=zeb_projects, col1=\"cost_per_bus\", col_list=new_cols)\n",
    "\n",
    "display(\n",
    "    Markdown(f\"\"\"<br>University of San Diego did not any information regarding their project. \n",
    "             Morongo Basin Transit Authority explained their project saying \"{morongo_desc}\". \n",
    "             <br> Neither agencies describe the specifics of their buses which may explain the differences in cost per bus\"\"\")\n",
    ")\n"
   ]
  },
  {
   "cell_type": "markdown",
   "id": "70d682e7-a119-4c37-ae92-fd364fe9d874",
   "metadata": {},
   "source": [
    "<br>\n",
    "<br>\n",
    "<br>\n",
    "<br>"
   ]
  },
  {
   "cell_type": "code",
   "execution_count": 30,
   "id": "76bcdea4-ee68-4a15-9f29-1230f9bd157a",
   "metadata": {
    "execution": {
     "iopub.execute_input": "2024-08-21T23:31:33.602569Z",
     "iopub.status.busy": "2024-08-21T23:31:33.602143Z",
     "iopub.status.idle": "2024-08-21T23:31:33.629974Z",
     "shell.execute_reply": "2024-08-21T23:31:33.628641Z"
    },
    "tags": []
   },
   "outputs": [
    {
     "data": {
      "text/markdown": [
       "## Which agencies procured the most and least amount of ZEBs?"
      ],
      "text/plain": [
       "<IPython.core.display.Markdown object>"
      ]
     },
     "metadata": {},
     "output_type": "display_data"
    },
    {
     "data": {
      "text/markdown": [
       "**Max bus_count**"
      ],
      "text/plain": [
       "<IPython.core.display.Markdown object>"
      ]
     },
     "metadata": {},
     "output_type": "display_data"
    },
    {
     "data": {
      "text/html": [
       "<style type=\"text/css\">\n",
       "</style>\n",
       "<table id=\"T_94e01\">\n",
       "  <thead>\n",
       "    <tr>\n",
       "      <th id=\"T_94e01_level0_col0\" class=\"col_heading level0 col0\" >transit_agency</th>\n",
       "      <th id=\"T_94e01_level0_col1\" class=\"col_heading level0 col1\" >prop_type</th>\n",
       "      <th id=\"T_94e01_level0_col2\" class=\"col_heading level0 col2\" >total_cost</th>\n",
       "      <th id=\"T_94e01_level0_col3\" class=\"col_heading level0 col3\" >bus_count</th>\n",
       "      <th id=\"T_94e01_level0_col4\" class=\"col_heading level0 col4\" >cost_per_bus</th>\n",
       "    </tr>\n",
       "  </thead>\n",
       "  <tbody>\n",
       "    <tr>\n",
       "      <td id=\"T_94e01_row0_col0\" class=\"data row0 col0\" >City of Los Angeles (LA DOT)</td>\n",
       "      <td id=\"T_94e01_row0_col1\" class=\"data row0 col1\" >zero-emission bus (not specified)</td>\n",
       "      <td id=\"T_94e01_row0_col2\" class=\"data row0 col2\" >102790000.000000</td>\n",
       "      <td id=\"T_94e01_row0_col3\" class=\"data row0 col3\" >112.000000</td>\n",
       "      <td id=\"T_94e01_row0_col4\" class=\"data row0 col4\" >917767</td>\n",
       "    </tr>\n",
       "  </tbody>\n",
       "</table>\n"
      ],
      "text/plain": [
       "<pandas.io.formats.style.Styler at 0x7a14905ecfa0>"
      ]
     },
     "metadata": {},
     "output_type": "display_data"
    },
    {
     "data": {
      "text/markdown": [
       "**Min bus_count**"
      ],
      "text/plain": [
       "<IPython.core.display.Markdown object>"
      ]
     },
     "metadata": {},
     "output_type": "display_data"
    },
    {
     "data": {
      "text/html": [
       "<style type=\"text/css\">\n",
       "</style>\n",
       "<table id=\"T_48ad8\">\n",
       "  <thead>\n",
       "    <tr>\n",
       "      <th id=\"T_48ad8_level0_col0\" class=\"col_heading level0 col0\" >transit_agency</th>\n",
       "      <th id=\"T_48ad8_level0_col1\" class=\"col_heading level0 col1\" >prop_type</th>\n",
       "      <th id=\"T_48ad8_level0_col2\" class=\"col_heading level0 col2\" >total_cost</th>\n",
       "      <th id=\"T_48ad8_level0_col3\" class=\"col_heading level0 col3\" >bus_count</th>\n",
       "      <th id=\"T_48ad8_level0_col4\" class=\"col_heading level0 col4\" >cost_per_bus</th>\n",
       "    </tr>\n",
       "  </thead>\n",
       "  <tbody>\n",
       "    <tr>\n",
       "      <td id=\"T_48ad8_row0_col0\" class=\"data row0 col0\" >California Department of Transportation, on behalf of Morongo Basin Transit Authority</td>\n",
       "      <td id=\"T_48ad8_row0_col1\" class=\"data row0 col1\" >BEB</td>\n",
       "      <td id=\"T_48ad8_row0_col2\" class=\"data row0 col2\" >131168.000000</td>\n",
       "      <td id=\"T_48ad8_row0_col3\" class=\"data row0 col3\" >1.000000</td>\n",
       "      <td id=\"T_48ad8_row0_col4\" class=\"data row0 col4\" >131168</td>\n",
       "    </tr>\n",
       "    <tr>\n",
       "      <td id=\"T_48ad8_row1_col0\" class=\"data row1 col0\" >SLO TRANSIT (SAN LUIS OBISPO, CA)</td>\n",
       "      <td id=\"T_48ad8_row1_col1\" class=\"data row1 col1\" >BEB</td>\n",
       "      <td id=\"T_48ad8_row1_col2\" class=\"data row1 col2\" >847214.000000</td>\n",
       "      <td id=\"T_48ad8_row1_col3\" class=\"data row1 col3\" >1.000000</td>\n",
       "      <td id=\"T_48ad8_row1_col4\" class=\"data row1 col4\" >847214</td>\n",
       "    </tr>\n",
       "    <tr>\n",
       "      <td id=\"T_48ad8_row2_col0\" class=\"data row2 col0\" >City of San Luis Obispo</td>\n",
       "      <td id=\"T_48ad8_row2_col1\" class=\"data row2 col1\" >BEB</td>\n",
       "      <td id=\"T_48ad8_row2_col2\" class=\"data row2 col2\" >859270.000000</td>\n",
       "      <td id=\"T_48ad8_row2_col3\" class=\"data row2 col3\" >1.000000</td>\n",
       "      <td id=\"T_48ad8_row2_col4\" class=\"data row2 col4\" >859270</td>\n",
       "    </tr>\n",
       "  </tbody>\n",
       "</table>\n"
      ],
      "text/plain": [
       "<pandas.io.formats.style.Styler at 0x7a149059d1c0>"
      ]
     },
     "metadata": {},
     "output_type": "display_data"
    }
   ],
   "source": [
    "#\n",
    "display(Markdown(\n",
    "    \"## Which agencies procured the most and least amount of ZEBs?\"\n",
    "))\n",
    "bus_min_max_summary(data=zeb_projects, col1=\"bus_count\", col_list=new_cols)\n"
   ]
  },
  {
   "cell_type": "code",
   "execution_count": 31,
   "id": "2627f195-d87f-4eb9-96ae-ab33419a184a",
   "metadata": {
    "execution": {
     "iopub.execute_input": "2024-08-21T23:31:33.640333Z",
     "iopub.status.busy": "2024-08-21T23:31:33.638915Z",
     "iopub.status.idle": "2024-08-21T23:31:33.646788Z",
     "shell.execute_reply": "2024-08-21T23:31:33.645295Z"
    },
    "tags": []
   },
   "outputs": [],
   "source": [
    "# disableing for not, results matches the \"Which agencies procured the most and least amount of ZEBs\" question.\n",
    "# buying more buses = higher total cost \n",
    "#display(Markdown(\n",
    "#    \"## Which agencies had the highest and lowest total ZEB cost?\"\n",
    "#))\n",
    "#bus_min_max_summary(data=zeb_projects, col1=\"total_cost\", col_list=new_cols)\n"
   ]
  },
  {
   "cell_type": "code",
   "execution_count": 32,
   "id": "75919ab8-7f14-49f2-bb4a-9765fdddc35c",
   "metadata": {
    "execution": {
     "iopub.execute_input": "2024-08-21T23:31:33.654369Z",
     "iopub.status.busy": "2024-08-21T23:31:33.653865Z",
     "iopub.status.idle": "2024-08-21T23:31:33.659427Z",
     "shell.execute_reply": "2024-08-21T23:31:33.658081Z"
    },
    "tags": []
   },
   "outputs": [],
   "source": [
    "#display(Markdown(\n",
    "#    \"## Which agencies procured the most and least amount of ZEBs?\"\n",
    "#))\n",
    "#bus_min_max_summary(data=zeb_projects, col1=\"bus_count\", col_list=new_cols)\n"
   ]
  },
  {
   "cell_type": "code",
   "execution_count": 33,
   "id": "c4f1b88e-f46c-4f69-888d-e116d2ce2ace",
   "metadata": {
    "execution": {
     "iopub.execute_input": "2024-08-21T23:31:33.666016Z",
     "iopub.status.busy": "2024-08-21T23:31:33.664395Z",
     "iopub.status.idle": "2024-08-21T23:31:33.672970Z",
     "shell.execute_reply": "2024-08-21T23:31:33.670967Z"
    },
    "tags": []
   },
   "outputs": [],
   "source": [
    "#display(Markdown(\n",
    "#    \"## Which agencies had the most and least total ZEB cost?\"\n",
    "#))\n",
    "#bus_min_max_summary(data=zeb_projects, col1=\"total_cost\", col_list=new_cols)"
   ]
  },
  {
   "cell_type": "code",
   "execution_count": 34,
   "id": "1f39733f-448e-4d3e-9981-feff4a13dbda",
   "metadata": {
    "execution": {
     "iopub.execute_input": "2024-08-21T23:31:33.680697Z",
     "iopub.status.busy": "2024-08-21T23:31:33.679686Z",
     "iopub.status.idle": "2024-08-21T23:31:33.685381Z",
     "shell.execute_reply": "2024-08-21T23:31:33.684374Z"
    },
    "tags": []
   },
   "outputs": [],
   "source": [
    "# all buses\n",
    "# dont know if i need this anymore\n",
    "\n",
    "#dist_curve(\n",
    "#    df=merged_data,\n",
    "#    mean=cpb_mean,\n",
    "#    std=cpb_std,\n",
    "#    title=\"all buses, cost per bus distribution\",\n",
    "#    xlabel=\"cost per bus, $ million(s)\",\n",
    "#)"
   ]
  },
  {
   "cell_type": "code",
   "execution_count": 35,
   "id": "554eeee1-a3b6-47b0-912f-830885eb100b",
   "metadata": {
    "execution": {
     "iopub.execute_input": "2024-08-21T23:31:33.691018Z",
     "iopub.status.busy": "2024-08-21T23:31:33.690252Z",
     "iopub.status.idle": "2024-08-21T23:31:33.695975Z",
     "shell.execute_reply": "2024-08-21T23:31:33.694301Z"
    },
    "tags": []
   },
   "outputs": [],
   "source": [
    "# non-zeb cost per bus\n",
    "\n",
    "#dist_curve(\n",
    "#    df=non_zeb_projects,\n",
    "#    mean=non_zeb_cpb_wt_avg,\n",
    "#    std=non_zeb_projects[\"cost_per_bus\"].std(),\n",
    "#    title=\"non-ZEB cost per bus Distribution\",\n",
    "#    xlabel='\"cost per bus, $ million(s)\"',\n",
    "#)"
   ]
  },
  {
   "cell_type": "code",
   "execution_count": 36,
   "id": "5117c222-74a3-424c-9b13-1592a3f14eba",
   "metadata": {
    "execution": {
     "iopub.execute_input": "2024-08-21T23:31:33.701524Z",
     "iopub.status.busy": "2024-08-21T23:31:33.700790Z",
     "iopub.status.idle": "2024-08-21T23:31:34.544112Z",
     "shell.execute_reply": "2024-08-21T23:31:34.542547Z"
    },
    "tags": []
   },
   "outputs": [
    {
     "data": {
      "text/markdown": [
       "## What is the distribution of ZEB cost?"
      ],
      "text/plain": [
       "<IPython.core.display.Markdown object>"
      ]
     },
     "metadata": {},
     "output_type": "display_data"
    },
    {
     "data": {
      "image/png": "[encoded data removed]",
      "text/plain": [
       "<Figure size 640x480 with 1 Axes>"
      ]
     },
     "metadata": {},
     "output_type": "display_data"
    }
   ],
   "source": [
    "# ZEB cost per bus \n",
    "display(Markdown(\n",
    "    \"## What is the distribution of ZEB cost?\"\n",
    "))\n",
    "dist_curve(\n",
    "    df=zeb_projects,\n",
    "    #using the accounting, weighted average approach to mean (total cost/total number of buses)\n",
    "    mean=zeb_cpb_wt_avg,\n",
    "    # need to investigate if std needs to be weighted as well?\n",
    "    std=zeb_projects[\"cost_per_bus\"].std(),\n",
    "    title=\"ZEB cost per bus distribution\",\n",
    "    xlabel=\"cost per bus, $ million(s)\",\n",
    ")\n"
   ]
  },
  {
   "cell_type": "code",
   "execution_count": 37,
   "id": "9f1661aa-c456-4fc1-bd19-c199b834ea1d",
   "metadata": {
    "execution": {
     "iopub.execute_input": "2024-08-21T23:31:34.555714Z",
     "iopub.status.busy": "2024-08-21T23:31:34.551867Z",
     "iopub.status.idle": "2024-08-21T23:31:34.568499Z",
     "shell.execute_reply": "2024-08-21T23:31:34.567225Z"
    },
    "tags": []
   },
   "outputs": [
    {
     "data": {
      "text/markdown": [
       "This distribution show the ZEB cost floating around `~$1,000,000`, with only a few instances extending past +/- 1 standard deviation. \n",
       "As shown earlier, the lowest cost per ZEB bus was about `~$500,000`. However it should be noted that the propulsion type for this instance did not specify exactly which type of ZEB was procured (BEB, FCEB, or otherwise). \n",
       "The highest cost per ZEB was about `~$2,000,000` for BEB."
      ],
      "text/plain": [
       "<IPython.core.display.Markdown object>"
      ]
     },
     "metadata": {},
     "output_type": "display_data"
    }
   ],
   "source": [
    "dist_narrative = \"\"\"This distribution show the ZEB cost floating around `~$1,000,000`, with only a few instances extending past +/- 1 standard deviation. \n",
    "As shown earlier, the lowest cost per ZEB bus was about `~$500,000`. However it should be noted that the propulsion type for this instance did not specify exactly which type of ZEB was procured (BEB, FCEB, or otherwise). \n",
    "The highest cost per ZEB was about `~$2,000,000` for BEB.\"\"\"\n",
    "\n",
    "display(\n",
    "    Markdown(dist_narrative)\n",
    ")"
   ]
  },
  {
   "cell_type": "code",
   "execution_count": 38,
   "id": "049997fb-339c-4d2e-9124-26a879536b5d",
   "metadata": {
    "execution": {
     "iopub.execute_input": "2024-08-21T23:31:34.576400Z",
     "iopub.status.busy": "2024-08-21T23:31:34.575368Z",
     "iopub.status.idle": "2024-08-21T23:31:34.904587Z",
     "shell.execute_reply": "2024-08-21T23:31:34.903167Z"
    },
    "tags": []
   },
   "outputs": [
    {
     "data": {
      "text/markdown": [
       "## What is the cost per bus compared against all propulsion types?"
      ],
      "text/plain": [
       "<IPython.core.display.Markdown object>"
      ]
     },
     "metadata": {},
     "output_type": "display_data"
    },
    {
     "data": {
      "image/png": "[encoded data removed]",
      "text/plain": [
       "<Figure size 640x480 with 1 Axes>"
      ]
     },
     "metadata": {},
     "output_type": "display_data"
    },
    {
     "data": {
      "text/plain": [
       "None"
      ]
     },
     "metadata": {},
     "output_type": "display_data"
    }
   ],
   "source": [
    "#\n",
    "display(Markdown(\n",
    "    \"## What is the cost per bus compared against all propulsion types?\"\n",
    "))\n",
    "display(\n",
    "# cpb by prop type\n",
    "make_chart(\"cost_per_bus\", \"Cost per bus, by propulsion type\", x_col=\"prop_type\", data=agg_prop[agg_prop[\"prop_type\"] != \"grand total\"]),\n",
    "\n",
    "# pivot table to\n",
    "#agg_prop[[\"prop_type\",\"new_cost_per_bus\"]].sort_values(by=\"new_cost_per_bus\", ascending=False).style.hide(axis=\"index\")\n",
    ")"
   ]
  },
  {
   "cell_type": "markdown",
   "id": "cbb7bc77-efea-4d10-9a93-3de5a96fa8bb",
   "metadata": {},
   "source": [
    "<br>\n",
    "<br>\n",
    "<br>\n",
    "<br>\n",
    "<br>\n",
    "<br>\n",
    "<br>\n",
    "<br>"
   ]
  },
  {
   "cell_type": "code",
   "execution_count": 39,
   "id": "65566782-7cc4-4ce0-987e-2d055f60ec57",
   "metadata": {
    "execution": {
     "iopub.execute_input": "2024-08-21T23:31:34.909995Z",
     "iopub.status.busy": "2024-08-21T23:31:34.909540Z",
     "iopub.status.idle": "2024-08-21T23:31:35.243625Z",
     "shell.execute_reply": "2024-08-21T23:31:35.241304Z"
    },
    "tags": []
   },
   "outputs": [
    {
     "data": {
      "text/markdown": [
       "## What is the total bus counts compared to each propulsion type?"
      ],
      "text/plain": [
       "<IPython.core.display.Markdown object>"
      ]
     },
     "metadata": {},
     "output_type": "display_data"
    },
    {
     "data": {
      "image/png": "[encoded data removed]",
      "text/plain": [
       "<Figure size 640x480 with 1 Axes>"
      ]
     },
     "metadata": {},
     "output_type": "display_data"
    },
    {
     "data": {
      "text/plain": [
       "None"
      ]
     },
     "metadata": {},
     "output_type": "display_data"
    }
   ],
   "source": [
    "display(Markdown(\n",
    "    \"## What is the total bus counts compared to each propulsion type?\"\n",
    "))\n",
    "\n",
    "display(\n",
    "# bus count by prop type\n",
    "make_chart(\"bus_count\", \"Bus counts, by propulsion type\", x_col=\"prop_type\", data=agg_prop[agg_prop[\"prop_type\"] != \"grand total\"]),\n",
    "# pivot table to\n",
    "#agg_prop[[\"prop_type\",\"total_bus_count\"]].sort_values(by=\"total_bus_count\", ascending=False).style.hide(axis=\"index\")\n",
    ")"
   ]
  },
  {
   "cell_type": "markdown",
   "id": "1bd5789a-da71-4c24-a036-2a2737a1aa02",
   "metadata": {},
   "source": [
    "<br>\n",
    "<br>\n",
    "<br>\n",
    "<br>\n",
    "<br>\n",
    "<br>\n",
    "<br>\n",
    "<br>"
   ]
  },
  {
   "cell_type": "code",
   "execution_count": 40,
   "id": "7b56f81a-cf52-4309-ac8d-01d0389f9d4b",
   "metadata": {
    "execution": {
     "iopub.execute_input": "2024-08-21T23:31:35.251843Z",
     "iopub.status.busy": "2024-08-21T23:31:35.250972Z",
     "iopub.status.idle": "2024-08-21T23:31:35.526176Z",
     "shell.execute_reply": "2024-08-21T23:31:35.524525Z"
    },
    "tags": []
   },
   "outputs": [
    {
     "data": {
      "text/markdown": [
       "## What is the total bus counts compared to each bus size category?"
      ],
      "text/plain": [
       "<IPython.core.display.Markdown object>"
      ]
     },
     "metadata": {},
     "output_type": "display_data"
    },
    {
     "data": {
      "image/png": "[encoded data removed]",
      "text/plain": [
       "<Figure size 640x480 with 1 Axes>"
      ]
     },
     "metadata": {},
     "output_type": "display_data"
    },
    {
     "data": {
      "text/markdown": [
       "Unforunately, many of the projects did not specifiy any information indicating a bus size type. However we can breakdown other categories that provide a little more insight to bus sizes."
      ],
      "text/plain": [
       "<IPython.core.display.Markdown object>"
      ]
     },
     "metadata": {},
     "output_type": "display_data"
    }
   ],
   "source": [
    "#bus size bar chart\n",
    "display(\n",
    "    Markdown(\"## What is the total bus counts compared to each bus size category?\")\n",
    ")\n",
    "\n",
    "make_chart(\"bus_count\", \"\"\"Bus Size Count.\"\"\",  \n",
    "           x_col=\"bus_size_type\", \n",
    "           data=agg_bus_size[agg_bus_size[\"bus_size_type\"] != \"grand total\"])\n",
    "#agg_bus_size[[\"bus_size_type\",\"total_bus_count\"]].style.hide(axis=\"index\")\n",
    "\n",
    "display(\n",
    "    Markdown(\"Unforunately, many of the projects did not specifiy any information indicating a bus size type. However we can breakdown other categories that provide a little more insight to bus sizes.\")\n",
    ")\n"
   ]
  },
  {
   "cell_type": "markdown",
   "id": "dd11b65a-755b-42e9-b2d6-70b98b75cdd7",
   "metadata": {},
   "source": [
    "<br>\n",
    "<br>\n",
    "<br>\n",
    "<br>\n",
    "<br>\n",
    "<br>"
   ]
  },
  {
   "cell_type": "code",
   "execution_count": 41,
   "id": "8d030948-59ea-4ea5-9db6-5d8639f6f8f5",
   "metadata": {
    "execution": {
     "iopub.execute_input": "2024-08-21T23:31:35.531882Z",
     "iopub.status.busy": "2024-08-21T23:31:35.530855Z",
     "iopub.status.idle": "2024-08-21T23:31:35.555733Z",
     "shell.execute_reply": "2024-08-21T23:31:35.553768Z"
    },
    "tags": []
   },
   "outputs": [
    {
     "data": {
      "text/markdown": [
       "## What is the breakdown of ZEB Propulsion Type and Bus Size Category?"
      ],
      "text/plain": [
       "<IPython.core.display.Markdown object>"
      ]
     },
     "metadata": {},
     "output_type": "display_data"
    },
    {
     "data": {
      "text/html": [
       "<div>\n",
       "<style scoped>\n",
       "    .dataframe tbody tr th:only-of-type {\n",
       "        vertical-align: middle;\n",
       "    }\n",
       "\n",
       "    .dataframe tbody tr th {\n",
       "        vertical-align: top;\n",
       "    }\n",
       "\n",
       "    .dataframe thead th {\n",
       "        text-align: right;\n",
       "    }\n",
       "</style>\n",
       "<table border=\"1\" class=\"dataframe\">\n",
       "  <thead>\n",
       "    <tr style=\"text-align: right;\">\n",
       "      <th></th>\n",
       "      <th></th>\n",
       "      <th>bus_count</th>\n",
       "      <th>total_cost</th>\n",
       "      <th>cost_per_bus</th>\n",
       "    </tr>\n",
       "    <tr>\n",
       "      <th>prop_type</th>\n",
       "      <th>bus_size_type</th>\n",
       "      <th></th>\n",
       "      <th></th>\n",
       "      <th></th>\n",
       "    </tr>\n",
       "  </thead>\n",
       "  <tbody>\n",
       "    <tr>\n",
       "      <th rowspan=\"3\" valign=\"top\">BEB</th>\n",
       "      <th>articulated</th>\n",
       "      <td>12.0</td>\n",
       "      <td>18759576.0</td>\n",
       "      <td>1563298</td>\n",
       "    </tr>\n",
       "    <tr>\n",
       "      <th>not specified</th>\n",
       "      <td>95.0</td>\n",
       "      <td>113363089.0</td>\n",
       "      <td>1193295</td>\n",
       "    </tr>\n",
       "    <tr>\n",
       "      <th>standard/conventional (30ft-45ft)</th>\n",
       "      <td>151.0</td>\n",
       "      <td>148472913.0</td>\n",
       "      <td>983264</td>\n",
       "    </tr>\n",
       "    <tr>\n",
       "      <th rowspan=\"2\" valign=\"top\">FCEB</th>\n",
       "      <th>not specified</th>\n",
       "      <td>23.0</td>\n",
       "      <td>29330243.0</td>\n",
       "      <td>1275227</td>\n",
       "    </tr>\n",
       "    <tr>\n",
       "      <th>standard/conventional (30ft-45ft)</th>\n",
       "      <td>73.0</td>\n",
       "      <td>82880364.0</td>\n",
       "      <td>1135347</td>\n",
       "    </tr>\n",
       "    <tr>\n",
       "      <th rowspan=\"2\" valign=\"top\">electric (not specified)</th>\n",
       "      <th>articulated</th>\n",
       "      <td>29.0</td>\n",
       "      <td>39478000.0</td>\n",
       "      <td>1361310</td>\n",
       "    </tr>\n",
       "    <tr>\n",
       "      <th>not specified</th>\n",
       "      <td>34.0</td>\n",
       "      <td>42621858.0</td>\n",
       "      <td>1253584</td>\n",
       "    </tr>\n",
       "    <tr>\n",
       "      <th>zero-emission bus (not specified)</th>\n",
       "      <th>not specified</th>\n",
       "      <td>182.0</td>\n",
       "      <td>157526169.0</td>\n",
       "      <td>865528</td>\n",
       "    </tr>\n",
       "  </tbody>\n",
       "</table>\n",
       "</div>"
      ],
      "text/plain": [
       "                                                                     bus_count  \\\n",
       "prop_type                         bus_size_type                                  \n",
       "BEB                               articulated                             12.0   \n",
       "                                  not specified                           95.0   \n",
       "                                  standard/conventional (30ft-45ft)      151.0   \n",
       "FCEB                              not specified                           23.0   \n",
       "                                  standard/conventional (30ft-45ft)       73.0   \n",
       "electric (not specified)          articulated                             29.0   \n",
       "                                  not specified                           34.0   \n",
       "zero-emission bus (not specified) not specified                          182.0   \n",
       "\n",
       "                                                                      total_cost  \\\n",
       "prop_type                         bus_size_type                                    \n",
       "BEB                               articulated                         18759576.0   \n",
       "                                  not specified                      113363089.0   \n",
       "                                  standard/conventional (30ft-45ft)  148472913.0   \n",
       "FCEB                              not specified                       29330243.0   \n",
       "                                  standard/conventional (30ft-45ft)   82880364.0   \n",
       "electric (not specified)          articulated                         39478000.0   \n",
       "                                  not specified                       42621858.0   \n",
       "zero-emission bus (not specified) not specified                      157526169.0   \n",
       "\n",
       "                                                                     cost_per_bus  \n",
       "prop_type                         bus_size_type                                    \n",
       "BEB                               articulated                             1563298  \n",
       "                                  not specified                           1193295  \n",
       "                                  standard/conventional (30ft-45ft)        983264  \n",
       "FCEB                              not specified                           1275227  \n",
       "                                  standard/conventional (30ft-45ft)       1135347  \n",
       "electric (not specified)          articulated                             1361310  \n",
       "                                  not specified                           1253584  \n",
       "zero-emission bus (not specified) not specified                            865528  "
      ]
     },
     "metadata": {},
     "output_type": "display_data"
    },
    {
     "data": {
      "text/markdown": [
       "We can obseve in this table that, when aggregated against propultion type, the standard bus size (30ft-45ft) is the most common size categorty for ZEBs"
      ],
      "text/plain": [
       "<IPython.core.display.Markdown object>"
      ]
     },
     "metadata": {},
     "output_type": "display_data"
    }
   ],
   "source": [
    "display(\n",
    "    Markdown(\"## What is the breakdown of ZEB Propulsion Type and Bus Size Category?\"),\n",
    "    pivot_size.loc[zeb_list],\n",
    "    Markdown(\"We can obseve in this table that, when aggregated against propultion type, the standard bus size (30ft-45ft) is the most common size categorty for ZEBs\")\n",
    ")"
   ]
  },
  {
   "cell_type": "markdown",
   "id": "02711c64-4830-42bc-b319-e98e4a02164b",
   "metadata": {},
   "source": [
    "<br>"
   ]
  },
  {
   "cell_type": "code",
   "execution_count": 42,
   "id": "63f90c48-e28d-4d88-8b90-891a3e3e3681",
   "metadata": {
    "execution": {
     "iopub.execute_input": "2024-08-21T23:31:35.562438Z",
     "iopub.status.busy": "2024-08-21T23:31:35.561334Z",
     "iopub.status.idle": "2024-08-21T23:31:35.570328Z",
     "shell.execute_reply": "2024-08-21T23:31:35.569081Z"
    },
    "tags": []
   },
   "outputs": [
    {
     "data": {
      "text/markdown": [
       "\n",
       "# **Conclusion**\n",
       "\n",
       "Based on these findings, The average cost of a ZEB, throughout the US, is `~$1,000,000`, roughly twice the price of a conventional, non-ZEB. \n",
       "The most commonly procured BEBs and FCEBs are the standard 30ft-45ft category, costing `~$980,000` and `~$110,000` respectively.\n",
       "The variance in cost depends mainly on the options the Transit Agencies chooses. Highly optioned/customized buses contribute to higher cost.\n",
       "Unfortunately, analyzing the cost of configurable options is outside the scope of data provided. \n",
       " \n"
      ],
      "text/plain": [
       "<IPython.core.display.Markdown object>"
      ]
     },
     "metadata": {},
     "output_type": "display_data"
    }
   ],
   "source": [
    "conclusion = f\"\"\"\n",
    "# **Conclusion**\n",
    "\n",
    "Based on these findings, The average cost of a ZEB, throughout the US, is `~$1,000,000`, roughly twice the price of a conventional, non-ZEB. \n",
    "The most commonly procured BEBs and FCEBs are the standard 30ft-45ft category, costing `~$980,000` and `~$110,000` respectively.\n",
    "The variance in cost depends mainly on the options the Transit Agencies chooses. Highly optioned/customized buses contribute to higher cost.\n",
    "Unfortunately, analyzing the cost of configurable options is outside the scope of data provided. \n",
    " \n",
    "\"\"\"\n",
    "display(\n",
    "    Markdown(conclusion)\n",
    ")"
   ]
  },
  {
   "cell_type": "markdown",
   "id": "97bc9a99-2c68-4de9-8d90-97d0e6f8d05e",
   "metadata": {},
   "source": [
    "<br>\n",
    "<br>"
   ]
  },
  {
   "cell_type": "code",
   "execution_count": 43,
   "id": "cc74af5f-fe59-4451-8f36-6fbaefeee104",
   "metadata": {
    "execution": {
     "iopub.execute_input": "2024-08-21T23:31:35.575206Z",
     "iopub.status.busy": "2024-08-21T23:31:35.574831Z",
     "iopub.status.idle": "2024-08-21T23:31:35.579915Z",
     "shell.execute_reply": "2024-08-21T23:31:35.578743Z"
    },
    "tags": []
   },
   "outputs": [],
   "source": [
    "# appendix doesnt print to pdf nicely\n",
    "# disabling for now\n",
    "\n",
    "#display(\n",
    "#    Markdown(f\"\"\"# Appendix\n",
    "#    Dataset\"\"\"),\n",
    "#    merged_data\n",
    "#)"
   ]
  },
  {
   "cell_type": "code",
   "execution_count": null,
   "id": "632b6948-8143-48b8-bf57-18aa09ce4196",
   "metadata": {},
   "outputs": [],
   "source": []
  }
 ],
 "metadata": {
  "kernelspec": {
   "display_name": "Python 3 (ipykernel)",
   "language": "python",
   "name": "python3"
  },
  "language_info": {
   "codemirror_mode": {
    "name": "ipython",
    "version": 3
   },
   "file_extension": ".py",
   "mimetype": "text/x-python",
   "name": "python",
   "nbconvert_exporter": "python",
   "pygments_lexer": "ipython3",
   "version": "3.9.13"
  },
  "toc-autonumbering": false,
  "toc-showcode": false,
  "toc-showmarkdowntxt": true
 },
 "nbformat": 4,
 "nbformat_minor": 5
}
