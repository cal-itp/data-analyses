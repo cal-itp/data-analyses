{
 "cells": [
  {
   "cell_type": "code",
   "execution_count": 134,
   "id": "5a4a3ae6-74e8-4adf-b973-5e45cff93def",
   "metadata": {},
   "outputs": [],
   "source": [
    "import pandas as pd\n",
    "from siuba import *\n",
    "from calitp import *\n",
    "\n",
    "pd.options.display.max_columns = 50\n",
    "pd.options.display.max_rows = 250\n",
    "pd.set_option(\"display.max_colwidth\", None)\n",
    "pd.options.display.float_format = \"{:.2f}\".format"
   ]
  },
  {
   "cell_type": "code",
   "execution_count": 135,
   "id": "4b17343e-a535-4a42-8bc3-8ac89c797e98",
   "metadata": {},
   "outputs": [],
   "source": [
    "organizations = to_snakecase(pd.read_csv('organizations.csv')).astype(str)\n",
    "service_data = to_snakecase(pd.read_csv('gtfs_service_data.csv')).astype(str)"
   ]
  },
  {
   "cell_type": "code",
   "execution_count": 136,
   "id": "4eddb615-f43f-4f69-b31c-d74d36fbf456",
   "metadata": {},
   "outputs": [],
   "source": [
    "service_data = service_data[['services', 'agency_id', 'network_id', 'route_id', 'category']].rename(columns={\"services\": \"mobility_service\"}) >> filter(_.category == 'primary')"
   ]
  },
  {
   "cell_type": "code",
   "execution_count": 137,
   "id": "11afbb2d-de5f-422a-a84f-ddaeee20e876",
   "metadata": {},
   "outputs": [
    {
     "data": {
      "text/html": [
       "<div>\n",
       "<style scoped>\n",
       "    .dataframe tbody tr th:only-of-type {\n",
       "        vertical-align: middle;\n",
       "    }\n",
       "\n",
       "    .dataframe tbody tr th {\n",
       "        vertical-align: top;\n",
       "    }\n",
       "\n",
       "    .dataframe thead th {\n",
       "        text-align: right;\n",
       "    }\n",
       "</style>\n",
       "<table border=\"1\" class=\"dataframe\">\n",
       "  <thead>\n",
       "    <tr style=\"text-align: right;\">\n",
       "      <th></th>\n",
       "      <th>mobility_service</th>\n",
       "      <th>agency_id</th>\n",
       "      <th>network_id</th>\n",
       "      <th>route_id</th>\n",
       "      <th>category</th>\n",
       "    </tr>\n",
       "  </thead>\n",
       "  <tbody>\n",
       "    <tr>\n",
       "      <th>0</th>\n",
       "      <td>nan</td>\n",
       "      <td>nan</td>\n",
       "      <td>nan</td>\n",
       "      <td>nan</td>\n",
       "      <td>primary</td>\n",
       "    </tr>\n",
       "    <tr>\n",
       "      <th>5</th>\n",
       "      <td>AC Transit</td>\n",
       "      <td>AC</td>\n",
       "      <td>nan</td>\n",
       "      <td>*</td>\n",
       "      <td>primary</td>\n",
       "    </tr>\n",
       "    <tr>\n",
       "      <th>6</th>\n",
       "      <td>AC Transit</td>\n",
       "      <td>AC</td>\n",
       "      <td>nan</td>\n",
       "      <td>*</td>\n",
       "      <td>primary</td>\n",
       "    </tr>\n",
       "    <tr>\n",
       "      <th>7</th>\n",
       "      <td>AC Transit</td>\n",
       "      <td>AC</td>\n",
       "      <td>nan</td>\n",
       "      <td>*</td>\n",
       "      <td>primary</td>\n",
       "    </tr>\n",
       "    <tr>\n",
       "      <th>8</th>\n",
       "      <td>AC Transit</td>\n",
       "      <td>AC</td>\n",
       "      <td>nan</td>\n",
       "      <td>*</td>\n",
       "      <td>primary</td>\n",
       "    </tr>\n",
       "    <tr>\n",
       "      <th>...</th>\n",
       "      <td>...</td>\n",
       "      <td>...</td>\n",
       "      <td>...</td>\n",
       "      <td>...</td>\n",
       "      <td>...</td>\n",
       "    </tr>\n",
       "    <tr>\n",
       "      <th>733</th>\n",
       "      <td>Yountville Trolley</td>\n",
       "      <td>VN</td>\n",
       "      <td>nan</td>\n",
       "      <td>VN:Yountville Trolley</td>\n",
       "      <td>primary</td>\n",
       "    </tr>\n",
       "    <tr>\n",
       "      <th>734</th>\n",
       "      <td>Yuba College Sutter Campus Shuttle</td>\n",
       "      <td>nan</td>\n",
       "      <td>shuttle</td>\n",
       "      <td>nan</td>\n",
       "      <td>primary</td>\n",
       "    </tr>\n",
       "    <tr>\n",
       "      <th>735</th>\n",
       "      <td>Yuba-Sutter Rural Transit</td>\n",
       "      <td>nan</td>\n",
       "      <td>rural</td>\n",
       "      <td>nan</td>\n",
       "      <td>primary</td>\n",
       "    </tr>\n",
       "    <tr>\n",
       "      <th>736</th>\n",
       "      <td>Yuba-Sutter Transit</td>\n",
       "      <td>nan</td>\n",
       "      <td>local</td>\n",
       "      <td>nan</td>\n",
       "      <td>primary</td>\n",
       "    </tr>\n",
       "    <tr>\n",
       "      <th>737</th>\n",
       "      <td>Yuma County Area Transit</td>\n",
       "      <td>nan</td>\n",
       "      <td>nan</td>\n",
       "      <td>nan</td>\n",
       "      <td>primary</td>\n",
       "    </tr>\n",
       "  </tbody>\n",
       "</table>\n",
       "<p>634 rows × 5 columns</p>\n",
       "</div>"
      ],
      "text/plain": [
       "                       mobility_service agency_id network_id  \\\n",
       "0                                   nan       nan        nan   \n",
       "5                            AC Transit        AC        nan   \n",
       "6                            AC Transit        AC        nan   \n",
       "7                            AC Transit        AC        nan   \n",
       "8                            AC Transit        AC        nan   \n",
       "..                                  ...       ...        ...   \n",
       "733                  Yountville Trolley        VN        nan   \n",
       "734  Yuba College Sutter Campus Shuttle       nan    shuttle   \n",
       "735           Yuba-Sutter Rural Transit       nan      rural   \n",
       "736                 Yuba-Sutter Transit       nan      local   \n",
       "737            Yuma County Area Transit       nan        nan   \n",
       "\n",
       "                  route_id category  \n",
       "0                      nan  primary  \n",
       "5                        *  primary  \n",
       "6                        *  primary  \n",
       "7                        *  primary  \n",
       "8                        *  primary  \n",
       "..                     ...      ...  \n",
       "733  VN:Yountville Trolley  primary  \n",
       "734                    nan  primary  \n",
       "735                    nan  primary  \n",
       "736                    nan  primary  \n",
       "737                    nan  primary  \n",
       "\n",
       "[634 rows x 5 columns]"
      ]
     },
     "execution_count": 137,
     "metadata": {},
     "output_type": "execute_result"
    }
   ],
   "source": [
    "service_data"
   ]
  },
  {
   "cell_type": "code",
   "execution_count": 138,
   "id": "993a9843-6d3a-4634-b7cf-210f16e21dbe",
   "metadata": {},
   "outputs": [],
   "source": [
    "organizations = organizations[['name', 'mobility_services_managed']].rename(columns={\"name\": \"organization_name\", \"mobility_services_managed\": \"mobility_service\"})"
   ]
  },
  {
   "cell_type": "code",
   "execution_count": 139,
   "id": "3554bf06-ec8d-4ed7-9db7-b127baa18da7",
   "metadata": {},
   "outputs": [],
   "source": [
    "organizations_explode = organizations.assign(mobility_service=organizations['mobility_service'].str.split(',')).explode('mobility_service')"
   ]
  },
  {
   "cell_type": "code",
   "execution_count": 140,
   "id": "c3961760-c024-4cdd-af53-0648bb039446",
   "metadata": {},
   "outputs": [],
   "source": [
    "orgs_and_services = organizations_explode.join(service_data.set_index('mobility_service'), on='mobility_service')"
   ]
  },
  {
   "cell_type": "code",
   "execution_count": 142,
   "id": "3043be38-0c9c-4e08-8df5-ebf7bb4103c7",
   "metadata": {},
   "outputs": [],
   "source": [
    "orgs_and_services.to_csv('orgs_and_services.csv', index=False)"
   ]
  }
 ],
 "metadata": {
  "kernelspec": {
   "display_name": "Python 3 (ipykernel)",
   "language": "python",
   "name": "python3"
  },
  "language_info": {
   "codemirror_mode": {
    "name": "ipython",
    "version": 3
   },
   "file_extension": ".py",
   "mimetype": "text/x-python",
   "name": "python",
   "nbconvert_exporter": "python",
   "pygments_lexer": "ipython3",
   "version": "3.9.10"
  }
 },
 "nbformat": 4,
 "nbformat_minor": 5
}
