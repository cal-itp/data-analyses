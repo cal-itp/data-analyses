{
 "cells": [
  {
   "cell_type": "code",
   "execution_count": 1,
   "source": [
    "from siuba import *\n",
    "from plotnine import *\n",
    "from calitp.tables import tbl\n",
    "from siuba.sql import LazyTbl\n",
    "from siuba.experimental import completer"
   ],
   "outputs": [],
   "metadata": {
    "tags": []
   }
  },
  {
   "cell_type": "markdown",
   "source": [
    "# for all the feeds we consume, how many publish the following fields:"
   ],
   "metadata": {}
  },
  {
   "cell_type": "markdown",
   "source": [
    "# How many feeds publish stops.tts_stop_name?\n"
   ],
   "metadata": {}
  },
  {
   "cell_type": "code",
   "execution_count": 2,
   "source": [
    "tbl_feed_info = (tbl.gtfs_schedule.feed_info())"
   ],
   "outputs": [],
   "metadata": {
    "jupyter": {
     "source_hidden": true
    },
    "tags": []
   }
  },
  {
   "cell_type": "code",
   "execution_count": 3,
   "source": [
    "tbl_stops = (tbl.gtfs_schedule.stops())"
   ],
   "outputs": [],
   "metadata": {
    "jupyter": {
     "source_hidden": true
    },
    "tags": []
   }
  },
  {
   "cell_type": "code",
   "execution_count": 4,
   "source": [
    "tbl_feed_stops = (\n",
    "    tbl_stops\n",
    "    >>left_join (\n",
    "        _,  tbl_feed_info, [\"calitp_itp_id\", \"calitp_url_number\"],\n",
    "    )\n",
    "    >> inner_join(_, tbl.views.gtfs_agency_names(), [\"calitp_itp_id\", \"calitp_url_number\"])\n",
    ")"
   ],
   "outputs": [],
   "metadata": {
    "jupyter": {
     "source_hidden": true
    },
    "tags": []
   }
  },
  {
   "cell_type": "code",
   "execution_count": 5,
   "source": [
    "(tbl_feed_stops\n",
    "  >> group_by(_.calitp_itp_id, _.calitp_url_number, _.agency_name)\n",
    "  >> summarize(n_filled_entries = _.tts_stop_name.notna().astype(int).sum())\n",
    "  >> count(_.n_filled_entries)\n",
    ")"
   ],
   "outputs": [
    {
     "output_type": "execute_result",
     "data": {
      "text/plain": [
       "# Source: lazy query\n",
       "# DB Conn: Engine(bigquery://cal-itp-data-infra/?maximum_bytes_billed=5000000000)\n",
       "# Preview:\n",
       "   n_filled_entries    n\n",
       "0                 0  189\n",
       "# .. may have more rows"
      ],
      "text/html": [
       "<div><pre># Source: lazy query\n",
       "# DB Conn: Engine(bigquery://cal-itp-data-infra/?maximum_bytes_billed=5000000000)\n",
       "# Preview:\n",
       "</pre><div>\n",
       "<style scoped>\n",
       "    .dataframe tbody tr th:only-of-type {\n",
       "        vertical-align: middle;\n",
       "    }\n",
       "\n",
       "    .dataframe tbody tr th {\n",
       "        vertical-align: top;\n",
       "    }\n",
       "\n",
       "    .dataframe thead th {\n",
       "        text-align: right;\n",
       "    }\n",
       "</style>\n",
       "<table border=\"1\" class=\"dataframe\">\n",
       "  <thead>\n",
       "    <tr style=\"text-align: right;\">\n",
       "      <th></th>\n",
       "      <th>n_filled_entries</th>\n",
       "      <th>n</th>\n",
       "    </tr>\n",
       "  </thead>\n",
       "  <tbody>\n",
       "    <tr>\n",
       "      <th>0</th>\n",
       "      <td>0</td>\n",
       "      <td>189</td>\n",
       "    </tr>\n",
       "  </tbody>\n",
       "</table>\n",
       "</div><p># .. may have more rows</p></div>"
      ]
     },
     "metadata": {},
     "execution_count": 5
    }
   ],
   "metadata": {
    "jupyter": {
     "source_hidden": true
    },
    "tags": []
   }
  },
  {
   "cell_type": "markdown",
   "source": [
    "# How many feeds publish stops.tts_stop_name? `none`"
   ],
   "metadata": {}
  },
  {
   "cell_type": "markdown",
   "source": [
    "# How many Stops publish wheelchair_boarding?"
   ],
   "metadata": {}
  },
  {
   "cell_type": "markdown",
   "source": [
    "##For parentless stops:\n",
    "0 or empty - No accessibility information for the stop.\n",
    "1 - Some vehicles at this stop can be boarded by a rider in a wheelchair.\n",
    "2 - Wheelchair boarding is not possible at this stop.\n",
    "\n",
    "For child stops:\n",
    "0 or empty - Stop will inherit its wheelchair_boarding behavior from the parent station, if specified in the parent.\n",
    "1 - There exists some accessible path from outside the station to the specific stop/platform.\n",
    "2 - There exists no accessible path from outside the station to the specific stop/platform.\n",
    "\n",
    "For station entrances/exits:\n",
    "0 or empty - Station entrance will inherit its wheelchair_boarding behavior from the parent station, if specified for the parent.\n",
    "1 - Station entrance is wheelchair accessible.\n",
    "2 - No accessible path from station entrance to stops/platforms.\n"
   ],
   "metadata": {
    "tags": []
   }
  },
  {
   "cell_type": "code",
   "execution_count": 6,
   "source": [
    "wheelchair_boarding = tbl_feed_stops >> select(_.wheelchair_boarding) >> collect()"
   ],
   "outputs": [],
   "metadata": {
    "jupyter": {
     "source_hidden": true
    },
    "tags": []
   }
  },
  {
   "cell_type": "code",
   "execution_count": 7,
   "source": [
    "tbl_wheelchair_boarding = (\n",
    "    tbl_feed_stops \n",
    "        >> count(_.calitp_itp_id, _.calitp_url_number, _.wheelchair_boarding) \n",
    "        >> count(_.wheelchair_boarding)\n",
    ")\n",
    "#n is number of feeds where WC value of 0"
   ],
   "outputs": [],
   "metadata": {
    "jupyter": {
     "source_hidden": true
    },
    "tags": []
   }
  },
  {
   "cell_type": "code",
   "execution_count": 8,
   "source": [
    "tbl_wheelchair_boarding"
   ],
   "outputs": [
    {
     "output_type": "execute_result",
     "data": {
      "text/plain": [
       "# Source: lazy query\n",
       "# DB Conn: Engine(bigquery://cal-itp-data-infra/?maximum_bytes_billed=5000000000)\n",
       "# Preview:\n",
       "  wheelchair_boarding    n\n",
       "0                   0  141\n",
       "1                None   43\n",
       "2                   1   43\n",
       "3                   2    9\n",
       "# .. may have more rows"
      ],
      "text/html": [
       "<div><pre># Source: lazy query\n",
       "# DB Conn: Engine(bigquery://cal-itp-data-infra/?maximum_bytes_billed=5000000000)\n",
       "# Preview:\n",
       "</pre><div>\n",
       "<style scoped>\n",
       "    .dataframe tbody tr th:only-of-type {\n",
       "        vertical-align: middle;\n",
       "    }\n",
       "\n",
       "    .dataframe tbody tr th {\n",
       "        vertical-align: top;\n",
       "    }\n",
       "\n",
       "    .dataframe thead th {\n",
       "        text-align: right;\n",
       "    }\n",
       "</style>\n",
       "<table border=\"1\" class=\"dataframe\">\n",
       "  <thead>\n",
       "    <tr style=\"text-align: right;\">\n",
       "      <th></th>\n",
       "      <th>wheelchair_boarding</th>\n",
       "      <th>n</th>\n",
       "    </tr>\n",
       "  </thead>\n",
       "  <tbody>\n",
       "    <tr>\n",
       "      <th>0</th>\n",
       "      <td>0</td>\n",
       "      <td>141</td>\n",
       "    </tr>\n",
       "    <tr>\n",
       "      <th>1</th>\n",
       "      <td>None</td>\n",
       "      <td>43</td>\n",
       "    </tr>\n",
       "    <tr>\n",
       "      <th>2</th>\n",
       "      <td>1</td>\n",
       "      <td>43</td>\n",
       "    </tr>\n",
       "    <tr>\n",
       "      <th>3</th>\n",
       "      <td>2</td>\n",
       "      <td>9</td>\n",
       "    </tr>\n",
       "  </tbody>\n",
       "</table>\n",
       "</div><p># .. may have more rows</p></div>"
      ]
     },
     "metadata": {},
     "execution_count": 8
    }
   ],
   "metadata": {
    "jupyter": {
     "source_hidden": true
    },
    "tags": []
   }
  },
  {
   "cell_type": "code",
   "execution_count": 9,
   "source": [
    "from siuba.dply.forcats import fct_lump\n",
    "(\n",
    "    tbl_wheelchair_boarding\n",
    "    >> collect()\n",
    "    >> mutate(wheelchair_boarding = fct_lump(_.wheelchair_boarding.fillna(\"<No Info>\"), n = 4, w = _.n))    \n",
    "    >> ggplot(aes(\"wheelchair_boarding\", \"n\"))\n",
    "    + geom_col()\n",
    "    + ggtitle(\"Number of Stops that Publish Wheelchair_boarding \")\n",
    ")\n"
   ],
   "outputs": [
    {
     "output_type": "display_data",
     "data": {
      "text/plain": [
       "<Figure size 640x480 with 1 Axes>"
      ],
      "image/png": "[encoded data removed]"
     },
     "metadata": {}
    },
    {
     "output_type": "execute_result",
     "data": {
      "text/plain": [
       "<ggplot: (8761372581798)>"
      ]
     },
     "metadata": {},
     "execution_count": 9
    }
   ],
   "metadata": {
    "jupyter": {
     "source_hidden": true
    },
    "tags": []
   }
  },
  {
   "cell_type": "markdown",
   "source": [
    "# How many trips publish wheelchair_accessibility?"
   ],
   "metadata": {
    "tags": []
   }
  },
  {
   "cell_type": "code",
   "execution_count": 10,
   "source": [
    "tbl_wheelchair_trips = (\n",
    "    tbl.gtfs_schedule.trips()\n",
    ")"
   ],
   "outputs": [],
   "metadata": {
    "jupyter": {
     "source_hidden": true
    },
    "tags": []
   }
  },
  {
   "cell_type": "code",
   "execution_count": 11,
   "source": [
    "tbl_feed_trips = (\n",
    "    tbl_wheelchair_trips\n",
    "    >> left_join (\n",
    "            _,  tbl_feed_info, [\"calitp_itp_id\", \"calitp_url_number\"],\n",
    "    )\n",
    "    >> inner_join(_, tbl.views.gtfs_agency_names(), [\"calitp_itp_id\", \"calitp_url_number\"])\n",
    ")"
   ],
   "outputs": [],
   "metadata": {
    "jupyter": {
     "source_hidden": true
    },
    "tags": []
   }
  },
  {
   "cell_type": "code",
   "execution_count": 12,
   "source": [
    "feed_trip_counts = (\n",
    "    tbl_feed_trips\n",
    "    >> count(_.calitp_itp_id, _.calitp_url_number, _.agency_name, _.wheelchair_accessible\n",
    "        )\n",
    "    >> count(_.wheelchair_accessible)\n",
    ")"
   ],
   "outputs": [],
   "metadata": {
    "jupyter": {
     "source_hidden": true
    },
    "tags": []
   }
  },
  {
   "cell_type": "code",
   "execution_count": 13,
   "source": [
    "feed_trip_counts"
   ],
   "outputs": [
    {
     "output_type": "execute_result",
     "data": {
      "text/plain": [
       "# Source: lazy query\n",
       "# DB Conn: Engine(bigquery://cal-itp-data-infra/?maximum_bytes_billed=5000000000)\n",
       "# Preview:\n",
       "  wheelchair_accessible    n\n",
       "0                  None  157\n",
       "1                     1   20\n",
       "2                     0   14\n",
       "3                     2    2\n",
       "# .. may have more rows"
      ],
      "text/html": [
       "<div><pre># Source: lazy query\n",
       "# DB Conn: Engine(bigquery://cal-itp-data-infra/?maximum_bytes_billed=5000000000)\n",
       "# Preview:\n",
       "</pre><div>\n",
       "<style scoped>\n",
       "    .dataframe tbody tr th:only-of-type {\n",
       "        vertical-align: middle;\n",
       "    }\n",
       "\n",
       "    .dataframe tbody tr th {\n",
       "        vertical-align: top;\n",
       "    }\n",
       "\n",
       "    .dataframe thead th {\n",
       "        text-align: right;\n",
       "    }\n",
       "</style>\n",
       "<table border=\"1\" class=\"dataframe\">\n",
       "  <thead>\n",
       "    <tr style=\"text-align: right;\">\n",
       "      <th></th>\n",
       "      <th>wheelchair_accessible</th>\n",
       "      <th>n</th>\n",
       "    </tr>\n",
       "  </thead>\n",
       "  <tbody>\n",
       "    <tr>\n",
       "      <th>0</th>\n",
       "      <td>None</td>\n",
       "      <td>157</td>\n",
       "    </tr>\n",
       "    <tr>\n",
       "      <th>1</th>\n",
       "      <td>1</td>\n",
       "      <td>20</td>\n",
       "    </tr>\n",
       "    <tr>\n",
       "      <th>2</th>\n",
       "      <td>0</td>\n",
       "      <td>14</td>\n",
       "    </tr>\n",
       "    <tr>\n",
       "      <th>3</th>\n",
       "      <td>2</td>\n",
       "      <td>2</td>\n",
       "    </tr>\n",
       "  </tbody>\n",
       "</table>\n",
       "</div><p># .. may have more rows</p></div>"
      ]
     },
     "metadata": {},
     "execution_count": 13
    }
   ],
   "metadata": {
    "jupyter": {
     "source_hidden": true
    },
    "tags": []
   }
  },
  {
   "cell_type": "code",
   "execution_count": 14,
   "source": [
    "(\n",
    "    feed_trip_counts\n",
    "    >> collect()\n",
    "    >> mutate(wheelchair_accessible = fct_lump(_.wheelchair_accessible.fillna(\"<No Info>\"), n = 4, w = _.n))    \n",
    "    >> ggplot(aes(\"wheelchair_accessible\", \"n\"))\n",
    "    + geom_col()\n",
    "    + ggtitle(\"Number of Trips that Publish Wheelchair Accessiblity\")\n",
    ")\n"
   ],
   "outputs": [
    {
     "output_type": "display_data",
     "data": {
      "text/plain": [
       "<Figure size 640x480 with 1 Axes>"
      ],
      "image/png": "[encoded data removed]"
     },
     "metadata": {}
    },
    {
     "output_type": "execute_result",
     "data": {
      "text/plain": [
       "<ggplot: (8761351838778)>"
      ]
     },
     "metadata": {},
     "execution_count": 14
    }
   ],
   "metadata": {
    "jupyter": {
     "source_hidden": true
    },
    "tags": []
   }
  },
  {
   "cell_type": "markdown",
   "source": [
    "# Are There trips without wheelchair boarding that have stop wheelchair boarding?"
   ],
   "metadata": {}
  },
  {
   "cell_type": "markdown",
   "source": [
    "# How many feeds publish specific .txt files?"
   ],
   "metadata": {}
  },
  {
   "cell_type": "code",
   "execution_count": 15,
   "source": [
    "tbl_file_updates = (tbl.gtfs_schedule_history.calitp_files_updates())"
   ],
   "outputs": [],
   "metadata": {
    "tags": []
   }
  },
  {
   "cell_type": "code",
   "execution_count": 16,
   "source": [
    "tbl_feed_file_updates = (\n",
    "    tbl_file_updates\n",
    "    >> left_join (\n",
    "            _,  tbl_feed_info, [\"calitp_itp_id\", \"calitp_url_number\"],\n",
    "    )\n",
    "    >> inner_join(_, tbl.views.gtfs_agency_names(), [\"calitp_itp_id\", \"calitp_url_number\"])\n",
    ")"
   ],
   "outputs": [],
   "metadata": {
    "tags": []
   }
  },
  {
   "cell_type": "code",
   "execution_count": 17,
   "source": [
    "feed_file_updates = (\n",
    "    tbl_feed_file_updates\n",
    "    >> count(_.calitp_itp_id, _.calitp_url_number, _.agency_name, _.name\n",
    "        )\n",
    "    >> count(_.name, _.agency_name) \n",
    "    >> collect()\n",
    ")"
   ],
   "outputs": [],
   "metadata": {
    "tags": []
   }
  },
  {
   "cell_type": "markdown",
   "source": [
    "# How many feeds publish fare_leg_rules.txt? (Fares v.2) "
   ],
   "metadata": {}
  },
  {
   "cell_type": "code",
   "execution_count": 18,
   "source": [
    "feed_file_updates >> filter(_.name == \"fare_leg_rules.txt\")"
   ],
   "outputs": [
    {
     "output_type": "execute_result",
     "data": {
      "text/plain": [
       "                    name                                        agency_name  n\n",
       "426   fare_leg_rules.txt                                  Rosemead Explorer  1\n",
       "617   fare_leg_rules.txt                                     Auburn Transit  1\n",
       "687   fare_leg_rules.txt                                     Avalon Transit  1\n",
       "913   fare_leg_rules.txt                                       Bell Gardens  1\n",
       "949   fare_leg_rules.txt                                     Bellflower Bus  1\n",
       "951   fare_leg_rules.txt        Santa Barbara Metropolitan Transit District  1\n",
       "1186  fare_leg_rules.txt                                  Calaveras Transit  1\n",
       "1201  fare_leg_rules.txt                                Simi Valley Transit  1\n",
       "1515  fare_leg_rules.txt  Susanville Indian Rancheria Public Transportat...  1\n",
       "1571  fare_leg_rules.txt                               Tahoe Transportation  1\n",
       "1598  fare_leg_rules.txt                Compton Renaissance Transit Service  1\n",
       "1625  fare_leg_rules.txt                          Tehama Rural Area eXpress  1\n",
       "1729  fare_leg_rules.txt                              Thousand Oaks Transit  1\n",
       "1961  fare_leg_rules.txt                          Delano Area Rapid Transit  1\n",
       "2051  fare_leg_rules.txt                                         DowneyLINK  1\n",
       "2201  fare_leg_rules.txt                   El Monte Transportation Division  1\n",
       "2509  fare_leg_rules.txt                   Glendora Transportation Division  1\n",
       "2646  fare_leg_rules.txt                                    Guadalupe Flyer  1\n",
       "2668  fare_leg_rules.txt         Tahoe Truckee Area Regional Transportation  1\n",
       "2734  fare_leg_rules.txt                            Huntington Park Express  1\n",
       "2880  fare_leg_rules.txt                      Lassen Transit Service Agency  1\n",
       "3233  fare_leg_rules.txt                                Madera Area Express  1\n",
       "3265  fare_leg_rules.txt                           Madera County Connection  1\n",
       "3380  fare_leg_rules.txt                                            MTC 511  1\n",
       "3538  fare_leg_rules.txt                              Moorpark City Transit  1\n",
       "3677  fare_leg_rules.txt                               Needles Area Transit  1"
      ],
      "text/html": [
       "<div>\n",
       "<style scoped>\n",
       "    .dataframe tbody tr th:only-of-type {\n",
       "        vertical-align: middle;\n",
       "    }\n",
       "\n",
       "    .dataframe tbody tr th {\n",
       "        vertical-align: top;\n",
       "    }\n",
       "\n",
       "    .dataframe thead th {\n",
       "        text-align: right;\n",
       "    }\n",
       "</style>\n",
       "<table border=\"1\" class=\"dataframe\">\n",
       "  <thead>\n",
       "    <tr style=\"text-align: right;\">\n",
       "      <th></th>\n",
       "      <th>name</th>\n",
       "      <th>agency_name</th>\n",
       "      <th>n</th>\n",
       "    </tr>\n",
       "  </thead>\n",
       "  <tbody>\n",
       "    <tr>\n",
       "      <th>426</th>\n",
       "      <td>fare_leg_rules.txt</td>\n",
       "      <td>Rosemead Explorer</td>\n",
       "      <td>1</td>\n",
       "    </tr>\n",
       "    <tr>\n",
       "      <th>617</th>\n",
       "      <td>fare_leg_rules.txt</td>\n",
       "      <td>Auburn Transit</td>\n",
       "      <td>1</td>\n",
       "    </tr>\n",
       "    <tr>\n",
       "      <th>687</th>\n",
       "      <td>fare_leg_rules.txt</td>\n",
       "      <td>Avalon Transit</td>\n",
       "      <td>1</td>\n",
       "    </tr>\n",
       "    <tr>\n",
       "      <th>913</th>\n",
       "      <td>fare_leg_rules.txt</td>\n",
       "      <td>Bell Gardens</td>\n",
       "      <td>1</td>\n",
       "    </tr>\n",
       "    <tr>\n",
       "      <th>949</th>\n",
       "      <td>fare_leg_rules.txt</td>\n",
       "      <td>Bellflower Bus</td>\n",
       "      <td>1</td>\n",
       "    </tr>\n",
       "    <tr>\n",
       "      <th>951</th>\n",
       "      <td>fare_leg_rules.txt</td>\n",
       "      <td>Santa Barbara Metropolitan Transit District</td>\n",
       "      <td>1</td>\n",
       "    </tr>\n",
       "    <tr>\n",
       "      <th>1186</th>\n",
       "      <td>fare_leg_rules.txt</td>\n",
       "      <td>Calaveras Transit</td>\n",
       "      <td>1</td>\n",
       "    </tr>\n",
       "    <tr>\n",
       "      <th>1201</th>\n",
       "      <td>fare_leg_rules.txt</td>\n",
       "      <td>Simi Valley Transit</td>\n",
       "      <td>1</td>\n",
       "    </tr>\n",
       "    <tr>\n",
       "      <th>1515</th>\n",
       "      <td>fare_leg_rules.txt</td>\n",
       "      <td>Susanville Indian Rancheria Public Transportat...</td>\n",
       "      <td>1</td>\n",
       "    </tr>\n",
       "    <tr>\n",
       "      <th>1571</th>\n",
       "      <td>fare_leg_rules.txt</td>\n",
       "      <td>Tahoe Transportation</td>\n",
       "      <td>1</td>\n",
       "    </tr>\n",
       "    <tr>\n",
       "      <th>1598</th>\n",
       "      <td>fare_leg_rules.txt</td>\n",
       "      <td>Compton Renaissance Transit Service</td>\n",
       "      <td>1</td>\n",
       "    </tr>\n",
       "    <tr>\n",
       "      <th>1625</th>\n",
       "      <td>fare_leg_rules.txt</td>\n",
       "      <td>Tehama Rural Area eXpress</td>\n",
       "      <td>1</td>\n",
       "    </tr>\n",
       "    <tr>\n",
       "      <th>1729</th>\n",
       "      <td>fare_leg_rules.txt</td>\n",
       "      <td>Thousand Oaks Transit</td>\n",
       "      <td>1</td>\n",
       "    </tr>\n",
       "    <tr>\n",
       "      <th>1961</th>\n",
       "      <td>fare_leg_rules.txt</td>\n",
       "      <td>Delano Area Rapid Transit</td>\n",
       "      <td>1</td>\n",
       "    </tr>\n",
       "    <tr>\n",
       "      <th>2051</th>\n",
       "      <td>fare_leg_rules.txt</td>\n",
       "      <td>DowneyLINK</td>\n",
       "      <td>1</td>\n",
       "    </tr>\n",
       "    <tr>\n",
       "      <th>2201</th>\n",
       "      <td>fare_leg_rules.txt</td>\n",
       "      <td>El Monte Transportation Division</td>\n",
       "      <td>1</td>\n",
       "    </tr>\n",
       "    <tr>\n",
       "      <th>2509</th>\n",
       "      <td>fare_leg_rules.txt</td>\n",
       "      <td>Glendora Transportation Division</td>\n",
       "      <td>1</td>\n",
       "    </tr>\n",
       "    <tr>\n",
       "      <th>2646</th>\n",
       "      <td>fare_leg_rules.txt</td>\n",
       "      <td>Guadalupe Flyer</td>\n",
       "      <td>1</td>\n",
       "    </tr>\n",
       "    <tr>\n",
       "      <th>2668</th>\n",
       "      <td>fare_leg_rules.txt</td>\n",
       "      <td>Tahoe Truckee Area Regional Transportation</td>\n",
       "      <td>1</td>\n",
       "    </tr>\n",
       "    <tr>\n",
       "      <th>2734</th>\n",
       "      <td>fare_leg_rules.txt</td>\n",
       "      <td>Huntington Park Express</td>\n",
       "      <td>1</td>\n",
       "    </tr>\n",
       "    <tr>\n",
       "      <th>2880</th>\n",
       "      <td>fare_leg_rules.txt</td>\n",
       "      <td>Lassen Transit Service Agency</td>\n",
       "      <td>1</td>\n",
       "    </tr>\n",
       "    <tr>\n",
       "      <th>3233</th>\n",
       "      <td>fare_leg_rules.txt</td>\n",
       "      <td>Madera Area Express</td>\n",
       "      <td>1</td>\n",
       "    </tr>\n",
       "    <tr>\n",
       "      <th>3265</th>\n",
       "      <td>fare_leg_rules.txt</td>\n",
       "      <td>Madera County Connection</td>\n",
       "      <td>1</td>\n",
       "    </tr>\n",
       "    <tr>\n",
       "      <th>3380</th>\n",
       "      <td>fare_leg_rules.txt</td>\n",
       "      <td>MTC 511</td>\n",
       "      <td>1</td>\n",
       "    </tr>\n",
       "    <tr>\n",
       "      <th>3538</th>\n",
       "      <td>fare_leg_rules.txt</td>\n",
       "      <td>Moorpark City Transit</td>\n",
       "      <td>1</td>\n",
       "    </tr>\n",
       "    <tr>\n",
       "      <th>3677</th>\n",
       "      <td>fare_leg_rules.txt</td>\n",
       "      <td>Needles Area Transit</td>\n",
       "      <td>1</td>\n",
       "    </tr>\n",
       "  </tbody>\n",
       "</table>\n",
       "</div>"
      ]
     },
     "metadata": {},
     "execution_count": 18
    }
   ],
   "metadata": {
    "tags": []
   }
  },
  {
   "cell_type": "code",
   "execution_count": 19,
   "source": [
    "feed_file_updates >> filter(_.name == \"fare_leg_rules.txt\") >> count(_.name)"
   ],
   "outputs": [
    {
     "output_type": "execute_result",
     "data": {
      "text/plain": [
       "                 name   n\n",
       "0  fare_leg_rules.txt  26"
      ],
      "text/html": [
       "<div>\n",
       "<style scoped>\n",
       "    .dataframe tbody tr th:only-of-type {\n",
       "        vertical-align: middle;\n",
       "    }\n",
       "\n",
       "    .dataframe tbody tr th {\n",
       "        vertical-align: top;\n",
       "    }\n",
       "\n",
       "    .dataframe thead th {\n",
       "        text-align: right;\n",
       "    }\n",
       "</style>\n",
       "<table border=\"1\" class=\"dataframe\">\n",
       "  <thead>\n",
       "    <tr style=\"text-align: right;\">\n",
       "      <th></th>\n",
       "      <th>name</th>\n",
       "      <th>n</th>\n",
       "    </tr>\n",
       "  </thead>\n",
       "  <tbody>\n",
       "    <tr>\n",
       "      <th>0</th>\n",
       "      <td>fare_leg_rules.txt</td>\n",
       "      <td>26</td>\n",
       "    </tr>\n",
       "  </tbody>\n",
       "</table>\n",
       "</div>"
      ]
     },
     "metadata": {},
     "execution_count": 19
    }
   ],
   "metadata": {}
  },
  {
   "cell_type": "markdown",
   "source": [
    "# How many feeds publish fare_leg_rules.txt? `26`"
   ],
   "metadata": {
    "tags": []
   }
  },
  {
   "cell_type": "markdown",
   "source": [
    "# How many feeds publish fare_rules.txt? (Fares v1)"
   ],
   "metadata": {}
  },
  {
   "cell_type": "code",
   "execution_count": 20,
   "source": [
    "feed_file_updates >> filter(_.name == \"fare_rules.txt\")"
   ],
   "outputs": [
    {
     "output_type": "execute_result",
     "data": {
      "text/plain": [
       "                name                   agency_name  n\n",
       "2     fare_rules.txt       San Francisco Bay Ferry  2\n",
       "26    fare_rules.txt                      SamTrans  2\n",
       "38    fare_rules.txt                      SolTrans  2\n",
       "95    fare_rules.txt  Fairfield and Suisun Transit  2\n",
       "120   fare_rules.txt           Porterville Transit  1\n",
       "...              ...                           ... ..\n",
       "3839  fare_rules.txt              Pasadena Transit  1\n",
       "3862  fare_rules.txt                      Caltrain  1\n",
       "3879  fare_rules.txt              Petaluma Transit  1\n",
       "3918  fare_rules.txt         Placer County Transit  1\n",
       "3940  fare_rules.txt        Plumas Transit Systems  1\n",
       "\n",
       "[148 rows x 3 columns]"
      ],
      "text/html": [
       "<div>\n",
       "<style scoped>\n",
       "    .dataframe tbody tr th:only-of-type {\n",
       "        vertical-align: middle;\n",
       "    }\n",
       "\n",
       "    .dataframe tbody tr th {\n",
       "        vertical-align: top;\n",
       "    }\n",
       "\n",
       "    .dataframe thead th {\n",
       "        text-align: right;\n",
       "    }\n",
       "</style>\n",
       "<table border=\"1\" class=\"dataframe\">\n",
       "  <thead>\n",
       "    <tr style=\"text-align: right;\">\n",
       "      <th></th>\n",
       "      <th>name</th>\n",
       "      <th>agency_name</th>\n",
       "      <th>n</th>\n",
       "    </tr>\n",
       "  </thead>\n",
       "  <tbody>\n",
       "    <tr>\n",
       "      <th>2</th>\n",
       "      <td>fare_rules.txt</td>\n",
       "      <td>San Francisco Bay Ferry</td>\n",
       "      <td>2</td>\n",
       "    </tr>\n",
       "    <tr>\n",
       "      <th>26</th>\n",
       "      <td>fare_rules.txt</td>\n",
       "      <td>SamTrans</td>\n",
       "      <td>2</td>\n",
       "    </tr>\n",
       "    <tr>\n",
       "      <th>38</th>\n",
       "      <td>fare_rules.txt</td>\n",
       "      <td>SolTrans</td>\n",
       "      <td>2</td>\n",
       "    </tr>\n",
       "    <tr>\n",
       "      <th>95</th>\n",
       "      <td>fare_rules.txt</td>\n",
       "      <td>Fairfield and Suisun Transit</td>\n",
       "      <td>2</td>\n",
       "    </tr>\n",
       "    <tr>\n",
       "      <th>120</th>\n",
       "      <td>fare_rules.txt</td>\n",
       "      <td>Porterville Transit</td>\n",
       "      <td>1</td>\n",
       "    </tr>\n",
       "    <tr>\n",
       "      <th>...</th>\n",
       "      <td>...</td>\n",
       "      <td>...</td>\n",
       "      <td>...</td>\n",
       "    </tr>\n",
       "    <tr>\n",
       "      <th>3839</th>\n",
       "      <td>fare_rules.txt</td>\n",
       "      <td>Pasadena Transit</td>\n",
       "      <td>1</td>\n",
       "    </tr>\n",
       "    <tr>\n",
       "      <th>3862</th>\n",
       "      <td>fare_rules.txt</td>\n",
       "      <td>Caltrain</td>\n",
       "      <td>1</td>\n",
       "    </tr>\n",
       "    <tr>\n",
       "      <th>3879</th>\n",
       "      <td>fare_rules.txt</td>\n",
       "      <td>Petaluma Transit</td>\n",
       "      <td>1</td>\n",
       "    </tr>\n",
       "    <tr>\n",
       "      <th>3918</th>\n",
       "      <td>fare_rules.txt</td>\n",
       "      <td>Placer County Transit</td>\n",
       "      <td>1</td>\n",
       "    </tr>\n",
       "    <tr>\n",
       "      <th>3940</th>\n",
       "      <td>fare_rules.txt</td>\n",
       "      <td>Plumas Transit Systems</td>\n",
       "      <td>1</td>\n",
       "    </tr>\n",
       "  </tbody>\n",
       "</table>\n",
       "<p>148 rows × 3 columns</p>\n",
       "</div>"
      ]
     },
     "metadata": {},
     "execution_count": 20
    }
   ],
   "metadata": {
    "tags": []
   }
  },
  {
   "cell_type": "markdown",
   "source": [
    "# How many feeds publish fare_rules.txt? `152`"
   ],
   "metadata": {
    "tags": []
   }
  },
  {
   "cell_type": "markdown",
   "source": [
    "# How many feeds publish pathways.txt?"
   ],
   "metadata": {}
  },
  {
   "cell_type": "code",
   "execution_count": 21,
   "source": [
    "feed_file_updates >> filter(_.name == \"pathways.txt\")"
   ],
   "outputs": [
    {
     "output_type": "execute_result",
     "data": {
      "text/plain": [
       "              name agency_name  n\n",
       "3369  pathways.txt     MTC 511  1"
      ],
      "text/html": [
       "<div>\n",
       "<style scoped>\n",
       "    .dataframe tbody tr th:only-of-type {\n",
       "        vertical-align: middle;\n",
       "    }\n",
       "\n",
       "    .dataframe tbody tr th {\n",
       "        vertical-align: top;\n",
       "    }\n",
       "\n",
       "    .dataframe thead th {\n",
       "        text-align: right;\n",
       "    }\n",
       "</style>\n",
       "<table border=\"1\" class=\"dataframe\">\n",
       "  <thead>\n",
       "    <tr style=\"text-align: right;\">\n",
       "      <th></th>\n",
       "      <th>name</th>\n",
       "      <th>agency_name</th>\n",
       "      <th>n</th>\n",
       "    </tr>\n",
       "  </thead>\n",
       "  <tbody>\n",
       "    <tr>\n",
       "      <th>3369</th>\n",
       "      <td>pathways.txt</td>\n",
       "      <td>MTC 511</td>\n",
       "      <td>1</td>\n",
       "    </tr>\n",
       "  </tbody>\n",
       "</table>\n",
       "</div>"
      ]
     },
     "metadata": {},
     "execution_count": 21
    }
   ],
   "metadata": {
    "tags": []
   }
  },
  {
   "cell_type": "markdown",
   "source": [
    "# How many feeds publish levels.txt? `1`"
   ],
   "metadata": {}
  },
  {
   "cell_type": "markdown",
   "source": [
    "# How many feeds publish levels.txt?"
   ],
   "metadata": {}
  },
  {
   "cell_type": "code",
   "execution_count": 22,
   "source": [
    "feed_file_updates >> filter(_.name == \"levels.txt\")"
   ],
   "outputs": [
    {
     "output_type": "execute_result",
     "data": {
      "text/plain": [
       "            name agency_name  n\n",
       "3375  levels.txt     MTC 511  1"
      ],
      "text/html": [
       "<div>\n",
       "<style scoped>\n",
       "    .dataframe tbody tr th:only-of-type {\n",
       "        vertical-align: middle;\n",
       "    }\n",
       "\n",
       "    .dataframe tbody tr th {\n",
       "        vertical-align: top;\n",
       "    }\n",
       "\n",
       "    .dataframe thead th {\n",
       "        text-align: right;\n",
       "    }\n",
       "</style>\n",
       "<table border=\"1\" class=\"dataframe\">\n",
       "  <thead>\n",
       "    <tr style=\"text-align: right;\">\n",
       "      <th></th>\n",
       "      <th>name</th>\n",
       "      <th>agency_name</th>\n",
       "      <th>n</th>\n",
       "    </tr>\n",
       "  </thead>\n",
       "  <tbody>\n",
       "    <tr>\n",
       "      <th>3375</th>\n",
       "      <td>levels.txt</td>\n",
       "      <td>MTC 511</td>\n",
       "      <td>1</td>\n",
       "    </tr>\n",
       "  </tbody>\n",
       "</table>\n",
       "</div>"
      ]
     },
     "metadata": {},
     "execution_count": 22
    }
   ],
   "metadata": {
    "tags": []
   }
  },
  {
   "cell_type": "markdown",
   "source": [
    "# How many feeds publish levels.txt? `1`"
   ],
   "metadata": {}
  },
  {
   "cell_type": "markdown",
   "source": [
    "# What percentage of feeds have atleast 1 or 2 in their stops.wheelchair or trips.accessibility?"
   ],
   "metadata": {}
  },
  {
   "cell_type": "code",
   "execution_count": 23,
   "source": [
    "pk_feed = [\"calitp_itp_id\", \"calitp_url_number\"]\n",
    "\n",
    "tbl_feeds_raw = (\n",
    "    tbl.views.gtfs_agency_names()\n",
    "    >> left_join(_, tbl.gtfs_schedule.feed_info(), pk_feed)\n",
    "    >> select(_.calitp_itp_id, _.calitp_url_number, _.agency_name, _.feed_publisher_name)\n",
    "    >> mutate(feed_publisher_name = _.feed_publisher_name.fillna(\"Missing Publisher Name\"))\n",
    "    # Remove itp id 200 (MTC-511), since they have many feed_info files\n",
    "    >> filter(_.calitp_itp_id != 200)\n",
    ")\n",
    "\n",
    "tbl_feed_metrics_stops = (\n",
    "    tbl.gtfs_schedule.stops()\n",
    "    >> inner_join(_, tbl_feeds_raw, pk_feed)\n",
    "    >> mutate(\n",
    "        wheelchair_boarding=_.wheelchair_boarding.fillna(\"missing\"),\n",
    "        wheelchair_marked=(_.wheelchair_boarding == \"1\")\n",
    "        | (_.wheelchair_boarding == \"2\"),\n",
    "    )\n",
    "    >> group_by(*pk_feed)\n",
    "    >> summarize(prop_stop_wheelchair_marked=_.wheelchair_marked.astype(int).mean())\n",
    "    >> mutate(has_stop_wheelchair_entry = _.prop_stop_wheelchair_marked > 0)\n",
    ")\n",
    "\n",
    "tbl_feed_metrics_trips = (tbl.gtfs_schedule.trips() >> inner_join(_, tbl_feeds_raw, pk_feed)\n",
    "    >> mutate(\n",
    "        wheelchair_accessible=_.wheelchair_accessible.fillna(\"missing\"),\n",
    "        wheelchair_marked=(_.wheelchair_accessible == \"1\")\n",
    "        | (_.wheelchair_accessible == \"2\"),\n",
    "    )\n",
    "    >> group_by(*pk_feed)\n",
    "    >> summarize(prop_trip_wheelchair_marked=_.wheelchair_marked.astype(int).mean())\n",
    "    >> mutate(has_trip_wheelchair_entry = _.prop_trip_wheelchair_marked > 0)\n",
    ")"
   ],
   "outputs": [],
   "metadata": {
    "tags": []
   }
  },
  {
   "cell_type": "code",
   "execution_count": 24,
   "source": [
    "tbl_feed_metrics = (\n",
    "    tbl_feeds_raw\n",
    "    >> inner_join(_, tbl_feed_metrics_stops, pk_feed)\n",
    "    >> inner_join(_, tbl_feed_metrics_trips, pk_feed)\n",
    "    >> collect()\n",
    ")"
   ],
   "outputs": [],
   "metadata": {}
  },
  {
   "cell_type": "code",
   "execution_count": 25,
   "source": [
    "tbl_publisher_counts = (tbl_feed_metrics >> count(_.feed_publisher_name) >> rename(ttl_publisher_feeds = \"n\"))"
   ],
   "outputs": [],
   "metadata": {}
  },
  {
   "cell_type": "markdown",
   "source": [
    "### Counting each combination of no trips or stops wheelchair entries"
   ],
   "metadata": {}
  },
  {
   "cell_type": "code",
   "execution_count": 26,
   "source": [
    "tbl_feed_metrics >> count(_.has_trip_wheelchair_entry, _.has_stop_wheelchair_entry)"
   ],
   "outputs": [
    {
     "output_type": "execute_result",
     "data": {
      "text/plain": [
       "   has_trip_wheelchair_entry  has_stop_wheelchair_entry    n\n",
       "0                      False                      False  138\n",
       "1                      False                       True   30\n",
       "2                       True                      False    7\n",
       "3                       True                       True   13"
      ],
      "text/html": [
       "<div>\n",
       "<style scoped>\n",
       "    .dataframe tbody tr th:only-of-type {\n",
       "        vertical-align: middle;\n",
       "    }\n",
       "\n",
       "    .dataframe tbody tr th {\n",
       "        vertical-align: top;\n",
       "    }\n",
       "\n",
       "    .dataframe thead th {\n",
       "        text-align: right;\n",
       "    }\n",
       "</style>\n",
       "<table border=\"1\" class=\"dataframe\">\n",
       "  <thead>\n",
       "    <tr style=\"text-align: right;\">\n",
       "      <th></th>\n",
       "      <th>has_trip_wheelchair_entry</th>\n",
       "      <th>has_stop_wheelchair_entry</th>\n",
       "      <th>n</th>\n",
       "    </tr>\n",
       "  </thead>\n",
       "  <tbody>\n",
       "    <tr>\n",
       "      <th>0</th>\n",
       "      <td>False</td>\n",
       "      <td>False</td>\n",
       "      <td>138</td>\n",
       "    </tr>\n",
       "    <tr>\n",
       "      <th>1</th>\n",
       "      <td>False</td>\n",
       "      <td>True</td>\n",
       "      <td>30</td>\n",
       "    </tr>\n",
       "    <tr>\n",
       "      <th>2</th>\n",
       "      <td>True</td>\n",
       "      <td>False</td>\n",
       "      <td>7</td>\n",
       "    </tr>\n",
       "    <tr>\n",
       "      <th>3</th>\n",
       "      <td>True</td>\n",
       "      <td>True</td>\n",
       "      <td>13</td>\n",
       "    </tr>\n",
       "  </tbody>\n",
       "</table>\n",
       "</div>"
      ]
     },
     "metadata": {},
     "execution_count": 26
    }
   ],
   "metadata": {}
  },
  {
   "cell_type": "markdown",
   "source": [
    "### Percentage with a trip or stop wheelchair entry"
   ],
   "metadata": {}
  },
  {
   "cell_type": "code",
   "execution_count": 27,
   "source": [
    "(\n",
    "    tbl_feed_metrics\n",
    "    >> count(\n",
    "        has_trip_or_stop_entry=_.has_trip_wheelchair_entry | _.has_stop_wheelchair_entry\n",
    "    )\n",
    "    >> mutate(prop=_.n / _.n.sum())\n",
    ")"
   ],
   "outputs": [
    {
     "output_type": "execute_result",
     "data": {
      "text/plain": [
       "   has_trip_or_stop_entry    n      prop\n",
       "0                   False  138  0.734043\n",
       "1                    True   50  0.265957"
      ],
      "text/html": [
       "<div>\n",
       "<style scoped>\n",
       "    .dataframe tbody tr th:only-of-type {\n",
       "        vertical-align: middle;\n",
       "    }\n",
       "\n",
       "    .dataframe tbody tr th {\n",
       "        vertical-align: top;\n",
       "    }\n",
       "\n",
       "    .dataframe thead th {\n",
       "        text-align: right;\n",
       "    }\n",
       "</style>\n",
       "<table border=\"1\" class=\"dataframe\">\n",
       "  <thead>\n",
       "    <tr style=\"text-align: right;\">\n",
       "      <th></th>\n",
       "      <th>has_trip_or_stop_entry</th>\n",
       "      <th>n</th>\n",
       "      <th>prop</th>\n",
       "    </tr>\n",
       "  </thead>\n",
       "  <tbody>\n",
       "    <tr>\n",
       "      <th>0</th>\n",
       "      <td>False</td>\n",
       "      <td>138</td>\n",
       "      <td>0.734043</td>\n",
       "    </tr>\n",
       "    <tr>\n",
       "      <th>1</th>\n",
       "      <td>True</td>\n",
       "      <td>50</td>\n",
       "      <td>0.265957</td>\n",
       "    </tr>\n",
       "  </tbody>\n",
       "</table>\n",
       "</div>"
      ]
     },
     "metadata": {},
     "execution_count": 27
    }
   ],
   "metadata": {}
  },
  {
   "cell_type": "markdown",
   "source": [
    "## Vendor lists WITHOUT entries\n"
   ],
   "metadata": {}
  },
  {
   "cell_type": "code",
   "execution_count": 28,
   "source": [
    "# There are 32 vendors (although we are counting \"missing\" as a vendor)\n",
    "tbl_publisher_counts >> count()"
   ],
   "outputs": [
    {
     "output_type": "execute_result",
     "data": {
      "text/plain": [
       "    n\n",
       "0  32"
      ],
      "text/html": [
       "<div>\n",
       "<style scoped>\n",
       "    .dataframe tbody tr th:only-of-type {\n",
       "        vertical-align: middle;\n",
       "    }\n",
       "\n",
       "    .dataframe tbody tr th {\n",
       "        vertical-align: top;\n",
       "    }\n",
       "\n",
       "    .dataframe thead th {\n",
       "        text-align: right;\n",
       "    }\n",
       "</style>\n",
       "<table border=\"1\" class=\"dataframe\">\n",
       "  <thead>\n",
       "    <tr style=\"text-align: right;\">\n",
       "      <th></th>\n",
       "      <th>n</th>\n",
       "    </tr>\n",
       "  </thead>\n",
       "  <tbody>\n",
       "    <tr>\n",
       "      <th>0</th>\n",
       "      <td>32</td>\n",
       "    </tr>\n",
       "  </tbody>\n",
       "</table>\n",
       "</div>"
      ]
     },
     "metadata": {},
     "execution_count": 28
    }
   ],
   "metadata": {}
  },
  {
   "cell_type": "markdown",
   "source": [
    "### Vendors with no stop wheelchair entries"
   ],
   "metadata": {}
  },
  {
   "cell_type": "code",
   "execution_count": 29,
   "source": [
    "# count\n",
    "(\n",
    "    tbl_feed_metrics\n",
    "    >> filter(~_.has_stop_wheelchair_entry)\n",
    "    >> count(_.feed_publisher_name, sort=True)\n",
    "    >> rename(n_no_stop_entry = \"n\")\n",
    "    >> left_join(_, tbl_publisher_counts, \"feed_publisher_name\")\n",
    "    >> mutate(prop_no_stop_entry = _.n_no_stop_entry / _.ttl_publisher_feeds)\n",
    ")"
   ],
   "outputs": [
    {
     "output_type": "execute_result",
     "data": {
      "text/plain": [
       "                                  feed_publisher_name  n_no_stop_entry  \\\n",
       "0                            Trillium Solutions, Inc.               84   \n",
       "1                              Missing Publisher Name               25   \n",
       "2                                          511 SF Bay                9   \n",
       "3                                    GMV Syncromatics                5   \n",
       "4   Los Angeles County Metropolitan Transportation...                2   \n",
       "5                                        Big Blue Bus                1   \n",
       "6                                             Optibus                1   \n",
       "7                                            Unitrans                1   \n",
       "8                              Bay Area Rapid Transit                1   \n",
       "9                                  Transnnovation Inc                1   \n",
       "10                             Sunline Transit Agency                1   \n",
       "11        San Joaquin Regional Transit District (RTD)                1   \n",
       "12                        Sacramento Regional Transit                1   \n",
       "13                                  Roseville Transit                1   \n",
       "14                           Riverside Transit Agency                1   \n",
       "15                                      National RTAP                1   \n",
       "16                                       City of Lodi                1   \n",
       "17                               Modesto Area Express                1   \n",
       "18                                         AC TRANSIT                1   \n",
       "19                                   Metrolink Trains                1   \n",
       "20                                 Long Beach Transit                1   \n",
       "21                 Fresno Public Transportation (FAX)                1   \n",
       "22                                               DART                1   \n",
       "23                                     Culver CityBus                1   \n",
       "24                                           Whitney                 1   \n",
       "\n",
       "    ttl_publisher_feeds  prop_no_stop_entry  \n",
       "0                   113            0.743363  \n",
       "1                    27            0.925926  \n",
       "2                    12            0.750000  \n",
       "3                     5            1.000000  \n",
       "4                     2            1.000000  \n",
       "5                     1            1.000000  \n",
       "6                     1            1.000000  \n",
       "7                     1            1.000000  \n",
       "8                     1            1.000000  \n",
       "9                     1            1.000000  \n",
       "10                    1            1.000000  \n",
       "11                    1            1.000000  \n",
       "12                    1            1.000000  \n",
       "13                    1            1.000000  \n",
       "14                    1            1.000000  \n",
       "15                    1            1.000000  \n",
       "16                    1            1.000000  \n",
       "17                    1            1.000000  \n",
       "18                    1            1.000000  \n",
       "19                    1            1.000000  \n",
       "20                    1            1.000000  \n",
       "21                    1            1.000000  \n",
       "22                    1            1.000000  \n",
       "23                    1            1.000000  \n",
       "24                    1            1.000000  "
      ],
      "text/html": [
       "<div>\n",
       "<style scoped>\n",
       "    .dataframe tbody tr th:only-of-type {\n",
       "        vertical-align: middle;\n",
       "    }\n",
       "\n",
       "    .dataframe tbody tr th {\n",
       "        vertical-align: top;\n",
       "    }\n",
       "\n",
       "    .dataframe thead th {\n",
       "        text-align: right;\n",
       "    }\n",
       "</style>\n",
       "<table border=\"1\" class=\"dataframe\">\n",
       "  <thead>\n",
       "    <tr style=\"text-align: right;\">\n",
       "      <th></th>\n",
       "      <th>feed_publisher_name</th>\n",
       "      <th>n_no_stop_entry</th>\n",
       "      <th>ttl_publisher_feeds</th>\n",
       "      <th>prop_no_stop_entry</th>\n",
       "    </tr>\n",
       "  </thead>\n",
       "  <tbody>\n",
       "    <tr>\n",
       "      <th>0</th>\n",
       "      <td>Trillium Solutions, Inc.</td>\n",
       "      <td>84</td>\n",
       "      <td>113</td>\n",
       "      <td>0.743363</td>\n",
       "    </tr>\n",
       "    <tr>\n",
       "      <th>1</th>\n",
       "      <td>Missing Publisher Name</td>\n",
       "      <td>25</td>\n",
       "      <td>27</td>\n",
       "      <td>0.925926</td>\n",
       "    </tr>\n",
       "    <tr>\n",
       "      <th>2</th>\n",
       "      <td>511 SF Bay</td>\n",
       "      <td>9</td>\n",
       "      <td>12</td>\n",
       "      <td>0.750000</td>\n",
       "    </tr>\n",
       "    <tr>\n",
       "      <th>3</th>\n",
       "      <td>GMV Syncromatics</td>\n",
       "      <td>5</td>\n",
       "      <td>5</td>\n",
       "      <td>1.000000</td>\n",
       "    </tr>\n",
       "    <tr>\n",
       "      <th>4</th>\n",
       "      <td>Los Angeles County Metropolitan Transportation...</td>\n",
       "      <td>2</td>\n",
       "      <td>2</td>\n",
       "      <td>1.000000</td>\n",
       "    </tr>\n",
       "    <tr>\n",
       "      <th>5</th>\n",
       "      <td>Big Blue Bus</td>\n",
       "      <td>1</td>\n",
       "      <td>1</td>\n",
       "      <td>1.000000</td>\n",
       "    </tr>\n",
       "    <tr>\n",
       "      <th>6</th>\n",
       "      <td>Optibus</td>\n",
       "      <td>1</td>\n",
       "      <td>1</td>\n",
       "      <td>1.000000</td>\n",
       "    </tr>\n",
       "    <tr>\n",
       "      <th>7</th>\n",
       "      <td>Unitrans</td>\n",
       "      <td>1</td>\n",
       "      <td>1</td>\n",
       "      <td>1.000000</td>\n",
       "    </tr>\n",
       "    <tr>\n",
       "      <th>8</th>\n",
       "      <td>Bay Area Rapid Transit</td>\n",
       "      <td>1</td>\n",
       "      <td>1</td>\n",
       "      <td>1.000000</td>\n",
       "    </tr>\n",
       "    <tr>\n",
       "      <th>9</th>\n",
       "      <td>Transnnovation Inc</td>\n",
       "      <td>1</td>\n",
       "      <td>1</td>\n",
       "      <td>1.000000</td>\n",
       "    </tr>\n",
       "    <tr>\n",
       "      <th>10</th>\n",
       "      <td>Sunline Transit Agency</td>\n",
       "      <td>1</td>\n",
       "      <td>1</td>\n",
       "      <td>1.000000</td>\n",
       "    </tr>\n",
       "    <tr>\n",
       "      <th>11</th>\n",
       "      <td>San Joaquin Regional Transit District (RTD)</td>\n",
       "      <td>1</td>\n",
       "      <td>1</td>\n",
       "      <td>1.000000</td>\n",
       "    </tr>\n",
       "    <tr>\n",
       "      <th>12</th>\n",
       "      <td>Sacramento Regional Transit</td>\n",
       "      <td>1</td>\n",
       "      <td>1</td>\n",
       "      <td>1.000000</td>\n",
       "    </tr>\n",
       "    <tr>\n",
       "      <th>13</th>\n",
       "      <td>Roseville Transit</td>\n",
       "      <td>1</td>\n",
       "      <td>1</td>\n",
       "      <td>1.000000</td>\n",
       "    </tr>\n",
       "    <tr>\n",
       "      <th>14</th>\n",
       "      <td>Riverside Transit Agency</td>\n",
       "      <td>1</td>\n",
       "      <td>1</td>\n",
       "      <td>1.000000</td>\n",
       "    </tr>\n",
       "    <tr>\n",
       "      <th>15</th>\n",
       "      <td>National RTAP</td>\n",
       "      <td>1</td>\n",
       "      <td>1</td>\n",
       "      <td>1.000000</td>\n",
       "    </tr>\n",
       "    <tr>\n",
       "      <th>16</th>\n",
       "      <td>City of Lodi</td>\n",
       "      <td>1</td>\n",
       "      <td>1</td>\n",
       "      <td>1.000000</td>\n",
       "    </tr>\n",
       "    <tr>\n",
       "      <th>17</th>\n",
       "      <td>Modesto Area Express</td>\n",
       "      <td>1</td>\n",
       "      <td>1</td>\n",
       "      <td>1.000000</td>\n",
       "    </tr>\n",
       "    <tr>\n",
       "      <th>18</th>\n",
       "      <td>AC TRANSIT</td>\n",
       "      <td>1</td>\n",
       "      <td>1</td>\n",
       "      <td>1.000000</td>\n",
       "    </tr>\n",
       "    <tr>\n",
       "      <th>19</th>\n",
       "      <td>Metrolink Trains</td>\n",
       "      <td>1</td>\n",
       "      <td>1</td>\n",
       "      <td>1.000000</td>\n",
       "    </tr>\n",
       "    <tr>\n",
       "      <th>20</th>\n",
       "      <td>Long Beach Transit</td>\n",
       "      <td>1</td>\n",
       "      <td>1</td>\n",
       "      <td>1.000000</td>\n",
       "    </tr>\n",
       "    <tr>\n",
       "      <th>21</th>\n",
       "      <td>Fresno Public Transportation (FAX)</td>\n",
       "      <td>1</td>\n",
       "      <td>1</td>\n",
       "      <td>1.000000</td>\n",
       "    </tr>\n",
       "    <tr>\n",
       "      <th>22</th>\n",
       "      <td>DART</td>\n",
       "      <td>1</td>\n",
       "      <td>1</td>\n",
       "      <td>1.000000</td>\n",
       "    </tr>\n",
       "    <tr>\n",
       "      <th>23</th>\n",
       "      <td>Culver CityBus</td>\n",
       "      <td>1</td>\n",
       "      <td>1</td>\n",
       "      <td>1.000000</td>\n",
       "    </tr>\n",
       "    <tr>\n",
       "      <th>24</th>\n",
       "      <td>Whitney</td>\n",
       "      <td>1</td>\n",
       "      <td>1</td>\n",
       "      <td>1.000000</td>\n",
       "    </tr>\n",
       "  </tbody>\n",
       "</table>\n",
       "</div>"
      ]
     },
     "metadata": {},
     "execution_count": 29
    }
   ],
   "metadata": {}
  },
  {
   "cell_type": "markdown",
   "source": [
    "### Vendors with no trip wheelchair entries"
   ],
   "metadata": {}
  },
  {
   "cell_type": "code",
   "execution_count": 30,
   "source": [
    "(\n",
    "    tbl_feed_metrics\n",
    "    >> filter(~_.has_trip_wheelchair_entry)\n",
    "    >> count(_.feed_publisher_name, sort=True)\n",
    "    >> rename(n_no_trip_entry = \"n\")\n",
    "    >> left_join(_, tbl_publisher_counts, \"feed_publisher_name\")\n",
    "    >> mutate(prop_no_trip_entry = _.n_no_trip_entry / _.ttl_publisher_feeds)\n",
    ")"
   ],
   "outputs": [
    {
     "output_type": "execute_result",
     "data": {
      "text/plain": [
       "                                  feed_publisher_name  n_no_trip_entry  \\\n",
       "0                            Trillium Solutions, Inc.              111   \n",
       "1                              Missing Publisher Name               24   \n",
       "2                                          511 SF Bay                9   \n",
       "3                                    GMV Syncromatics                5   \n",
       "4   Los Angeles County Metropolitan Transportation...                2   \n",
       "5                                             Optibus                1   \n",
       "6                                  Transnnovation Inc                1   \n",
       "7         Santa Clara Valley Transportation Authority                1   \n",
       "8         San Joaquin Regional Transit District (RTD)                1   \n",
       "9                         Sacramento Regional Transit                1   \n",
       "10                                  Roseville Transit                1   \n",
       "11                           Riverside Transit Agency                1   \n",
       "12                               Modesto Area Express                1   \n",
       "13                                      National RTAP                1   \n",
       "14                                         AC TRANSIT                1   \n",
       "15                                   Metrolink Trains                1   \n",
       "16                                 Long Beach Transit                1   \n",
       "17                 Fresno Public Transportation (FAX)                1   \n",
       "18                                               DART                1   \n",
       "19                                     Culver CityBus                1   \n",
       "20                                       Big Blue Bus                1   \n",
       "21                                           Unitrans                1   \n",
       "\n",
       "    ttl_publisher_feeds  prop_no_trip_entry  \n",
       "0                   113            0.982301  \n",
       "1                    27            0.888889  \n",
       "2                    12            0.750000  \n",
       "3                     5            1.000000  \n",
       "4                     2            1.000000  \n",
       "5                     1            1.000000  \n",
       "6                     1            1.000000  \n",
       "7                     1            1.000000  \n",
       "8                     1            1.000000  \n",
       "9                     1            1.000000  \n",
       "10                    1            1.000000  \n",
       "11                    1            1.000000  \n",
       "12                    1            1.000000  \n",
       "13                    1            1.000000  \n",
       "14                    1            1.000000  \n",
       "15                    1            1.000000  \n",
       "16                    1            1.000000  \n",
       "17                    1            1.000000  \n",
       "18                    1            1.000000  \n",
       "19                    1            1.000000  \n",
       "20                    1            1.000000  \n",
       "21                    1            1.000000  "
      ],
      "text/html": [
       "<div>\n",
       "<style scoped>\n",
       "    .dataframe tbody tr th:only-of-type {\n",
       "        vertical-align: middle;\n",
       "    }\n",
       "\n",
       "    .dataframe tbody tr th {\n",
       "        vertical-align: top;\n",
       "    }\n",
       "\n",
       "    .dataframe thead th {\n",
       "        text-align: right;\n",
       "    }\n",
       "</style>\n",
       "<table border=\"1\" class=\"dataframe\">\n",
       "  <thead>\n",
       "    <tr style=\"text-align: right;\">\n",
       "      <th></th>\n",
       "      <th>feed_publisher_name</th>\n",
       "      <th>n_no_trip_entry</th>\n",
       "      <th>ttl_publisher_feeds</th>\n",
       "      <th>prop_no_trip_entry</th>\n",
       "    </tr>\n",
       "  </thead>\n",
       "  <tbody>\n",
       "    <tr>\n",
       "      <th>0</th>\n",
       "      <td>Trillium Solutions, Inc.</td>\n",
       "      <td>111</td>\n",
       "      <td>113</td>\n",
       "      <td>0.982301</td>\n",
       "    </tr>\n",
       "    <tr>\n",
       "      <th>1</th>\n",
       "      <td>Missing Publisher Name</td>\n",
       "      <td>24</td>\n",
       "      <td>27</td>\n",
       "      <td>0.888889</td>\n",
       "    </tr>\n",
       "    <tr>\n",
       "      <th>2</th>\n",
       "      <td>511 SF Bay</td>\n",
       "      <td>9</td>\n",
       "      <td>12</td>\n",
       "      <td>0.750000</td>\n",
       "    </tr>\n",
       "    <tr>\n",
       "      <th>3</th>\n",
       "      <td>GMV Syncromatics</td>\n",
       "      <td>5</td>\n",
       "      <td>5</td>\n",
       "      <td>1.000000</td>\n",
       "    </tr>\n",
       "    <tr>\n",
       "      <th>4</th>\n",
       "      <td>Los Angeles County Metropolitan Transportation...</td>\n",
       "      <td>2</td>\n",
       "      <td>2</td>\n",
       "      <td>1.000000</td>\n",
       "    </tr>\n",
       "    <tr>\n",
       "      <th>5</th>\n",
       "      <td>Optibus</td>\n",
       "      <td>1</td>\n",
       "      <td>1</td>\n",
       "      <td>1.000000</td>\n",
       "    </tr>\n",
       "    <tr>\n",
       "      <th>6</th>\n",
       "      <td>Transnnovation Inc</td>\n",
       "      <td>1</td>\n",
       "      <td>1</td>\n",
       "      <td>1.000000</td>\n",
       "    </tr>\n",
       "    <tr>\n",
       "      <th>7</th>\n",
       "      <td>Santa Clara Valley Transportation Authority</td>\n",
       "      <td>1</td>\n",
       "      <td>1</td>\n",
       "      <td>1.000000</td>\n",
       "    </tr>\n",
       "    <tr>\n",
       "      <th>8</th>\n",
       "      <td>San Joaquin Regional Transit District (RTD)</td>\n",
       "      <td>1</td>\n",
       "      <td>1</td>\n",
       "      <td>1.000000</td>\n",
       "    </tr>\n",
       "    <tr>\n",
       "      <th>9</th>\n",
       "      <td>Sacramento Regional Transit</td>\n",
       "      <td>1</td>\n",
       "      <td>1</td>\n",
       "      <td>1.000000</td>\n",
       "    </tr>\n",
       "    <tr>\n",
       "      <th>10</th>\n",
       "      <td>Roseville Transit</td>\n",
       "      <td>1</td>\n",
       "      <td>1</td>\n",
       "      <td>1.000000</td>\n",
       "    </tr>\n",
       "    <tr>\n",
       "      <th>11</th>\n",
       "      <td>Riverside Transit Agency</td>\n",
       "      <td>1</td>\n",
       "      <td>1</td>\n",
       "      <td>1.000000</td>\n",
       "    </tr>\n",
       "    <tr>\n",
       "      <th>12</th>\n",
       "      <td>Modesto Area Express</td>\n",
       "      <td>1</td>\n",
       "      <td>1</td>\n",
       "      <td>1.000000</td>\n",
       "    </tr>\n",
       "    <tr>\n",
       "      <th>13</th>\n",
       "      <td>National RTAP</td>\n",
       "      <td>1</td>\n",
       "      <td>1</td>\n",
       "      <td>1.000000</td>\n",
       "    </tr>\n",
       "    <tr>\n",
       "      <th>14</th>\n",
       "      <td>AC TRANSIT</td>\n",
       "      <td>1</td>\n",
       "      <td>1</td>\n",
       "      <td>1.000000</td>\n",
       "    </tr>\n",
       "    <tr>\n",
       "      <th>15</th>\n",
       "      <td>Metrolink Trains</td>\n",
       "      <td>1</td>\n",
       "      <td>1</td>\n",
       "      <td>1.000000</td>\n",
       "    </tr>\n",
       "    <tr>\n",
       "      <th>16</th>\n",
       "      <td>Long Beach Transit</td>\n",
       "      <td>1</td>\n",
       "      <td>1</td>\n",
       "      <td>1.000000</td>\n",
       "    </tr>\n",
       "    <tr>\n",
       "      <th>17</th>\n",
       "      <td>Fresno Public Transportation (FAX)</td>\n",
       "      <td>1</td>\n",
       "      <td>1</td>\n",
       "      <td>1.000000</td>\n",
       "    </tr>\n",
       "    <tr>\n",
       "      <th>18</th>\n",
       "      <td>DART</td>\n",
       "      <td>1</td>\n",
       "      <td>1</td>\n",
       "      <td>1.000000</td>\n",
       "    </tr>\n",
       "    <tr>\n",
       "      <th>19</th>\n",
       "      <td>Culver CityBus</td>\n",
       "      <td>1</td>\n",
       "      <td>1</td>\n",
       "      <td>1.000000</td>\n",
       "    </tr>\n",
       "    <tr>\n",
       "      <th>20</th>\n",
       "      <td>Big Blue Bus</td>\n",
       "      <td>1</td>\n",
       "      <td>1</td>\n",
       "      <td>1.000000</td>\n",
       "    </tr>\n",
       "    <tr>\n",
       "      <th>21</th>\n",
       "      <td>Unitrans</td>\n",
       "      <td>1</td>\n",
       "      <td>1</td>\n",
       "      <td>1.000000</td>\n",
       "    </tr>\n",
       "  </tbody>\n",
       "</table>\n",
       "</div>"
      ]
     },
     "metadata": {},
     "execution_count": 30
    }
   ],
   "metadata": {}
  },
  {
   "cell_type": "markdown",
   "source": [
    "## Vendor lists WITH entries"
   ],
   "metadata": {}
  },
  {
   "cell_type": "markdown",
   "source": [
    "### Vendors with stop wheelchair entries"
   ],
   "metadata": {}
  },
  {
   "cell_type": "code",
   "execution_count": 31,
   "source": [
    "# count\n",
    "(\n",
    "    tbl_feed_metrics\n",
    "    >> filter(_.has_stop_wheelchair_entry)\n",
    "    >> count(_.feed_publisher_name, sort=True)\n",
    "    >> rename(n_stop_entry = \"n\")\n",
    "    >> left_join(_, tbl_publisher_counts, \"feed_publisher_name\")\n",
    "    >> mutate(prop_stop_entry = _.n_stop_entry / _.ttl_publisher_feeds)\n",
    ")"
   ],
   "outputs": [
    {
     "output_type": "execute_result",
     "data": {
      "text/plain": [
       "                           feed_publisher_name  n_stop_entry  \\\n",
       "0                     Trillium Solutions, Inc.            29   \n",
       "1                                   511 SF Bay             3   \n",
       "2                               Transnnovation             3   \n",
       "3                       Missing Publisher Name             2   \n",
       "4                                          MST             1   \n",
       "5                                          MTS             1   \n",
       "6                                         NCTD             1   \n",
       "7                                        SBMTD             1   \n",
       "8  Santa Clara Valley Transportation Authority             1   \n",
       "9                      TORRANCE TRANSIT SYSTEM             1   \n",
       "\n",
       "   ttl_publisher_feeds  prop_stop_entry  \n",
       "0                  113         0.256637  \n",
       "1                   12         0.250000  \n",
       "2                    3         1.000000  \n",
       "3                   27         0.074074  \n",
       "4                    1         1.000000  \n",
       "5                    1         1.000000  \n",
       "6                    1         1.000000  \n",
       "7                    1         1.000000  \n",
       "8                    1         1.000000  \n",
       "9                    1         1.000000  "
      ],
      "text/html": [
       "<div>\n",
       "<style scoped>\n",
       "    .dataframe tbody tr th:only-of-type {\n",
       "        vertical-align: middle;\n",
       "    }\n",
       "\n",
       "    .dataframe tbody tr th {\n",
       "        vertical-align: top;\n",
       "    }\n",
       "\n",
       "    .dataframe thead th {\n",
       "        text-align: right;\n",
       "    }\n",
       "</style>\n",
       "<table border=\"1\" class=\"dataframe\">\n",
       "  <thead>\n",
       "    <tr style=\"text-align: right;\">\n",
       "      <th></th>\n",
       "      <th>feed_publisher_name</th>\n",
       "      <th>n_stop_entry</th>\n",
       "      <th>ttl_publisher_feeds</th>\n",
       "      <th>prop_stop_entry</th>\n",
       "    </tr>\n",
       "  </thead>\n",
       "  <tbody>\n",
       "    <tr>\n",
       "      <th>0</th>\n",
       "      <td>Trillium Solutions, Inc.</td>\n",
       "      <td>29</td>\n",
       "      <td>113</td>\n",
       "      <td>0.256637</td>\n",
       "    </tr>\n",
       "    <tr>\n",
       "      <th>1</th>\n",
       "      <td>511 SF Bay</td>\n",
       "      <td>3</td>\n",
       "      <td>12</td>\n",
       "      <td>0.250000</td>\n",
       "    </tr>\n",
       "    <tr>\n",
       "      <th>2</th>\n",
       "      <td>Transnnovation</td>\n",
       "      <td>3</td>\n",
       "      <td>3</td>\n",
       "      <td>1.000000</td>\n",
       "    </tr>\n",
       "    <tr>\n",
       "      <th>3</th>\n",
       "      <td>Missing Publisher Name</td>\n",
       "      <td>2</td>\n",
       "      <td>27</td>\n",
       "      <td>0.074074</td>\n",
       "    </tr>\n",
       "    <tr>\n",
       "      <th>4</th>\n",
       "      <td>MST</td>\n",
       "      <td>1</td>\n",
       "      <td>1</td>\n",
       "      <td>1.000000</td>\n",
       "    </tr>\n",
       "    <tr>\n",
       "      <th>5</th>\n",
       "      <td>MTS</td>\n",
       "      <td>1</td>\n",
       "      <td>1</td>\n",
       "      <td>1.000000</td>\n",
       "    </tr>\n",
       "    <tr>\n",
       "      <th>6</th>\n",
       "      <td>NCTD</td>\n",
       "      <td>1</td>\n",
       "      <td>1</td>\n",
       "      <td>1.000000</td>\n",
       "    </tr>\n",
       "    <tr>\n",
       "      <th>7</th>\n",
       "      <td>SBMTD</td>\n",
       "      <td>1</td>\n",
       "      <td>1</td>\n",
       "      <td>1.000000</td>\n",
       "    </tr>\n",
       "    <tr>\n",
       "      <th>8</th>\n",
       "      <td>Santa Clara Valley Transportation Authority</td>\n",
       "      <td>1</td>\n",
       "      <td>1</td>\n",
       "      <td>1.000000</td>\n",
       "    </tr>\n",
       "    <tr>\n",
       "      <th>9</th>\n",
       "      <td>TORRANCE TRANSIT SYSTEM</td>\n",
       "      <td>1</td>\n",
       "      <td>1</td>\n",
       "      <td>1.000000</td>\n",
       "    </tr>\n",
       "  </tbody>\n",
       "</table>\n",
       "</div>"
      ]
     },
     "metadata": {},
     "execution_count": 31
    }
   ],
   "metadata": {}
  },
  {
   "cell_type": "markdown",
   "source": [
    "### Vendors with trip wheelchair entries"
   ],
   "metadata": {}
  },
  {
   "cell_type": "code",
   "execution_count": 33,
   "source": [
    "(\n",
    "    tbl_feed_metrics\n",
    "    >> filter(_.has_trip_wheelchair_entry)\n",
    "    >> count(_.feed_publisher_name, sort=True)\n",
    "    >> rename(n_trip_entry = \"n\")\n",
    "    >> left_join(_, tbl_publisher_counts, \"feed_publisher_name\")\n",
    "    >> mutate(prop_trip_entry = _.n_trip_entry / _.ttl_publisher_feeds)\n",
    ")"
   ],
   "outputs": [
    {
     "output_type": "execute_result",
     "data": {
      "text/plain": [
       "         feed_publisher_name  n_trip_entry  ttl_publisher_feeds  \\\n",
       "0                 511 SF Bay             3                   12   \n",
       "1     Missing Publisher Name             3                   27   \n",
       "2             Transnnovation             3                    3   \n",
       "3   Trillium Solutions, Inc.             2                  113   \n",
       "4     Bay Area Rapid Transit             1                    1   \n",
       "5               City of Lodi             1                    1   \n",
       "6                        MST             1                    1   \n",
       "7                        MTS             1                    1   \n",
       "8                       NCTD             1                    1   \n",
       "9                      SBMTD             1                    1   \n",
       "10    Sunline Transit Agency             1                    1   \n",
       "11   TORRANCE TRANSIT SYSTEM             1                    1   \n",
       "12                  Whitney              1                    1   \n",
       "\n",
       "    prop_trip_entry  \n",
       "0          0.250000  \n",
       "1          0.111111  \n",
       "2          1.000000  \n",
       "3          0.017699  \n",
       "4          1.000000  \n",
       "5          1.000000  \n",
       "6          1.000000  \n",
       "7          1.000000  \n",
       "8          1.000000  \n",
       "9          1.000000  \n",
       "10         1.000000  \n",
       "11         1.000000  \n",
       "12         1.000000  "
      ],
      "text/html": [
       "<div>\n",
       "<style scoped>\n",
       "    .dataframe tbody tr th:only-of-type {\n",
       "        vertical-align: middle;\n",
       "    }\n",
       "\n",
       "    .dataframe tbody tr th {\n",
       "        vertical-align: top;\n",
       "    }\n",
       "\n",
       "    .dataframe thead th {\n",
       "        text-align: right;\n",
       "    }\n",
       "</style>\n",
       "<table border=\"1\" class=\"dataframe\">\n",
       "  <thead>\n",
       "    <tr style=\"text-align: right;\">\n",
       "      <th></th>\n",
       "      <th>feed_publisher_name</th>\n",
       "      <th>n_trip_entry</th>\n",
       "      <th>ttl_publisher_feeds</th>\n",
       "      <th>prop_trip_entry</th>\n",
       "    </tr>\n",
       "  </thead>\n",
       "  <tbody>\n",
       "    <tr>\n",
       "      <th>0</th>\n",
       "      <td>511 SF Bay</td>\n",
       "      <td>3</td>\n",
       "      <td>12</td>\n",
       "      <td>0.250000</td>\n",
       "    </tr>\n",
       "    <tr>\n",
       "      <th>1</th>\n",
       "      <td>Missing Publisher Name</td>\n",
       "      <td>3</td>\n",
       "      <td>27</td>\n",
       "      <td>0.111111</td>\n",
       "    </tr>\n",
       "    <tr>\n",
       "      <th>2</th>\n",
       "      <td>Transnnovation</td>\n",
       "      <td>3</td>\n",
       "      <td>3</td>\n",
       "      <td>1.000000</td>\n",
       "    </tr>\n",
       "    <tr>\n",
       "      <th>3</th>\n",
       "      <td>Trillium Solutions, Inc.</td>\n",
       "      <td>2</td>\n",
       "      <td>113</td>\n",
       "      <td>0.017699</td>\n",
       "    </tr>\n",
       "    <tr>\n",
       "      <th>4</th>\n",
       "      <td>Bay Area Rapid Transit</td>\n",
       "      <td>1</td>\n",
       "      <td>1</td>\n",
       "      <td>1.000000</td>\n",
       "    </tr>\n",
       "    <tr>\n",
       "      <th>5</th>\n",
       "      <td>City of Lodi</td>\n",
       "      <td>1</td>\n",
       "      <td>1</td>\n",
       "      <td>1.000000</td>\n",
       "    </tr>\n",
       "    <tr>\n",
       "      <th>6</th>\n",
       "      <td>MST</td>\n",
       "      <td>1</td>\n",
       "      <td>1</td>\n",
       "      <td>1.000000</td>\n",
       "    </tr>\n",
       "    <tr>\n",
       "      <th>7</th>\n",
       "      <td>MTS</td>\n",
       "      <td>1</td>\n",
       "      <td>1</td>\n",
       "      <td>1.000000</td>\n",
       "    </tr>\n",
       "    <tr>\n",
       "      <th>8</th>\n",
       "      <td>NCTD</td>\n",
       "      <td>1</td>\n",
       "      <td>1</td>\n",
       "      <td>1.000000</td>\n",
       "    </tr>\n",
       "    <tr>\n",
       "      <th>9</th>\n",
       "      <td>SBMTD</td>\n",
       "      <td>1</td>\n",
       "      <td>1</td>\n",
       "      <td>1.000000</td>\n",
       "    </tr>\n",
       "    <tr>\n",
       "      <th>10</th>\n",
       "      <td>Sunline Transit Agency</td>\n",
       "      <td>1</td>\n",
       "      <td>1</td>\n",
       "      <td>1.000000</td>\n",
       "    </tr>\n",
       "    <tr>\n",
       "      <th>11</th>\n",
       "      <td>TORRANCE TRANSIT SYSTEM</td>\n",
       "      <td>1</td>\n",
       "      <td>1</td>\n",
       "      <td>1.000000</td>\n",
       "    </tr>\n",
       "    <tr>\n",
       "      <th>12</th>\n",
       "      <td>Whitney</td>\n",
       "      <td>1</td>\n",
       "      <td>1</td>\n",
       "      <td>1.000000</td>\n",
       "    </tr>\n",
       "  </tbody>\n",
       "</table>\n",
       "</div>"
      ]
     },
     "metadata": {},
     "execution_count": 33
    }
   ],
   "metadata": {}
  },
  {
   "cell_type": "markdown",
   "source": [],
   "metadata": {}
  }
 ],
 "metadata": {
  "kernelspec": {
   "display_name": "Python 3 (ipykernel)",
   "language": "python",
   "name": "python3"
  },
  "language_info": {
   "codemirror_mode": {
    "name": "ipython",
    "version": 3
   },
   "file_extension": ".py",
   "mimetype": "text/x-python",
   "name": "python",
   "nbconvert_exporter": "python",
   "pygments_lexer": "ipython3",
   "version": "3.9.6"
  }
 },
 "nbformat": 4,
 "nbformat_minor": 5
}