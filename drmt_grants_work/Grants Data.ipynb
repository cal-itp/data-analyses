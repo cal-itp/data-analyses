{
 "cells": [
  {
   "cell_type": "markdown",
   "id": "8fa13b1e-0b92-4f67-a5e8-762f135c4db9",
   "metadata": {},
   "source": [
    "# Cleaning up Grants Data\n",
    "----\n",
    "\n",
    "There are three sheets in the TIRCP workbook. However, it seems like the summary reports mostly rely on two: one called project tracking and one called allocation tracking, so I am only loading those in.\n"
   ]
  },
  {
   "cell_type": "code",
   "execution_count": null,
   "id": "dfcd28c5-7dc7-4f3e-8731-b48ebaeb2224",
   "metadata": {},
   "outputs": [],
   "source": [
    "import pandas as pd\n",
    "import math\n",
    "!pip install openpyxl"
   ]
  },
  {
   "cell_type": "code",
   "execution_count": null,
   "id": "b4fddfb7-6d8a-4665-b277-3d44cbc32357",
   "metadata": {},
   "outputs": [],
   "source": [
    "#read in files \n",
    "project = pd.read_excel(open('Raw Project Tracking Sheet.xlsx','rb'), sheet_name='Project Tracking DRAFT')  \n",
    "allocation = pd.read_excel(open('Raw Project Tracking Sheet.xlsx','rb'), sheet_name='Agreement Allocations DRAFT')  \n"
   ]
  },
  {
   "cell_type": "code",
   "execution_count": null,
   "id": "15f101e3-f943-4873-945a-4772c985d8a6",
   "metadata": {},
   "outputs": [],
   "source": [
    "#cleaning up spaces in columns\n",
    "project.columns = project.columns.str.strip().str.replace(' ', '_')\n",
    "allocation.columns = allocation.columns.str.strip().str.replace(' ', '_')"
   ]
  },
  {
   "cell_type": "code",
   "execution_count": null,
   "id": "33c72fa9-8b66-4509-81da-b4a995fa8738",
   "metadata": {
    "scrolled": true,
    "tags": []
   },
   "outputs": [],
   "source": [
    "(project.columns)"
   ]
  },
  {
   "cell_type": "code",
   "execution_count": null,
   "id": "e636376b-ecb0-409d-b832-53682a32377e",
   "metadata": {
    "scrolled": true,
    "tags": []
   },
   "outputs": [],
   "source": [
    "(allocation.columns)"
   ]
  },
  {
   "cell_type": "markdown",
   "id": "eb796e7c-b1dd-4d89-87ac-c000f291f38c",
   "metadata": {},
   "source": [
    "### Note: Third party award date is called CON Contract Award Date in TIRCP SAR Attachment "
   ]
  },
  {
   "cell_type": "code",
   "execution_count": null,
   "id": "92614cfc-248c-4ce2-b61a-3ffeab9966f0",
   "metadata": {},
   "outputs": [],
   "source": [
    "#subsetting for only columns of interest\n",
    "df_project = project[['Award_Year', 'Project_#','Local_Agency','Project_Title','PPNO',\n",
    "                      'Key_Project_Elements','TIRCP_Award_Amount_($)','Allocated_Amount','Expended_Amount']]"
   ]
  },
  {
   "cell_type": "code",
   "execution_count": null,
   "id": "44afcac4-b07b-4503-be0c-a02d8dd1ebb0",
   "metadata": {},
   "outputs": [],
   "source": [
    "#subsetting for only columns of interest\n",
    "df_allocation = allocation[['Award_Year','Award_Recipient', 'Implementing_Agency', 'PPNO','Phase',\n",
    "                            'Allocation_Date','Completion_Date','3rd_Party_Award_Date']]"
   ]
  },
  {
   "cell_type": "code",
   "execution_count": null,
   "id": "ce1ec6d0-17e6-447b-bd67-53e258af96c1",
   "metadata": {},
   "outputs": [],
   "source": [
    "#strip spaces in columns\n",
    "df_project.columns = df_project.columns.map(lambda x: x.strip())\n",
    "df_allocation.columns = df_allocation.columns.map(lambda x: x.strip())"
   ]
  },
  {
   "cell_type": "code",
   "execution_count": null,
   "id": "81153a10-8dac-431e-bcff-53d105b09c7c",
   "metadata": {},
   "outputs": [],
   "source": [
    "#just testing to make sure everything looks okay...\n",
    "df_project.to_csv(\"./test_df_project.csv\")\n",
    "df_allocation.to_csv(\"./test_df_allocation.csv\")"
   ]
  },
  {
   "cell_type": "markdown",
   "id": "44c82d85-8f34-4185-89a1-8d417802b19e",
   "metadata": {
    "tags": []
   },
   "source": [
    "# Cleaning Allocation Sheet "
   ]
  },
  {
   "cell_type": "markdown",
   "id": "8e1b129d-e9b2-43b2-a87d-6233e1a396cd",
   "metadata": {},
   "source": [
    "## Cleaning up PPNO, can only be 5 characters."
   ]
  },
  {
   "cell_type": "code",
   "execution_count": null,
   "id": "678acd92-65da-4b13-a252-4b84129e9be2",
   "metadata": {},
   "outputs": [],
   "source": [
    "#remove the extra characters in PPNO in allocation to match the PPNO in project data frame bc there should only be five characters and numbers in each PPNO value\n",
    "df_allocation = df_allocation.assign(\n",
    "    PPNO_New = df_allocation['PPNO'].str.slice(start=0, stop=5)\n",
    ")"
   ]
  },
  {
   "cell_type": "code",
   "execution_count": null,
   "id": "06c167cc-3504-4e30-9123-7c5d72c520f2",
   "metadata": {},
   "outputs": [],
   "source": [
    "#CSV with PPNO & Award Recipients\n",
    "allocation_ppno = pd.read_csv('Allocation_PPNO_Crosswalk.csv')"
   ]
  },
  {
   "cell_type": "code",
   "execution_count": null,
   "id": "2c625ee1-3459-4b53-8946-781ee2b68556",
   "metadata": {},
   "outputs": [],
   "source": [
    "allocation_ppno "
   ]
  },
  {
   "cell_type": "code",
   "execution_count": null,
   "id": "7888529f-bcaa-4508-a86f-476200fd06fb",
   "metadata": {},
   "outputs": [],
   "source": [
    "#Filtering out for 2021, since that entry is blank\n",
    "df_allocation = df_allocation.query(\"Award_Year != 2021\")"
   ]
  },
  {
   "cell_type": "code",
   "execution_count": null,
   "id": "be528f91-11a4-40e8-bc76-023e841453ad",
   "metadata": {},
   "outputs": [],
   "source": [
    "#Merge in Crosswalk \n",
    "df_allocation = pd.merge(df_allocation, allocation_ppno, on = [\"Award_Year\", \"Award_Recipient\"], how = \"left\")"
   ]
  },
  {
   "cell_type": "code",
   "execution_count": null,
   "id": "43bf427e-c0eb-496c-b709-34e1c3824430",
   "metadata": {},
   "outputs": [],
   "source": [
    "type(df_allocation.iloc[0].PPNO_New2)\n"
   ]
  },
  {
   "cell_type": "code",
   "execution_count": null,
   "id": "033c09ef-48d4-4963-9a72-b08d1bf25b8a",
   "metadata": {},
   "outputs": [],
   "source": [
    "#some values in PPNO and PPNO_New2 are strings, some are floats...so have to convert PPNO New 2 to strings\n",
    "df_allocation.PPNO_New = df_allocation.apply(lambda x: x.PPNO_New if (str(x.PPNO_New2) == 'nan') else x.PPNO_New2, axis=1)"
   ]
  },
  {
   "cell_type": "code",
   "execution_count": null,
   "id": "224eb1b7-05ee-495b-ab1d-2c2fc17a98b7",
   "metadata": {},
   "outputs": [],
   "source": [
    "#drop old column\n",
    "df_allocation = df_allocation.drop(['PPNO'], axis=1)"
   ]
  },
  {
   "cell_type": "code",
   "execution_count": null,
   "id": "8062ee05-e2fc-4128-8464-c9847a81637c",
   "metadata": {
    "tags": []
   },
   "outputs": [],
   "source": [
    "#renaming columns to something neater\n",
    "df_allocation = df_allocation.rename(columns = {'PPNO_New':'PPNO', '3rd_Party_Award_Date':'Third_Party_Award_Date'})"
   ]
  },
  {
   "cell_type": "markdown",
   "id": "7c1523b8-33b4-40e1-92e9-dbb204492235",
   "metadata": {
    "tags": []
   },
   "source": [
    "## Cleaning up completion, allocation, & 3rd Party dates "
   ]
  },
  {
   "cell_type": "code",
   "execution_count": null,
   "id": "7390cefb-53eb-471c-b404-b812ceec10c4",
   "metadata": {
    "scrolled": true,
    "tags": []
   },
   "outputs": [],
   "source": [
    "#cleaning up allocation dates\n",
    "df_allocation.Allocation_Date.unique().tolist()"
   ]
  },
  {
   "cell_type": "code",
   "execution_count": null,
   "id": "fb7770b0-e204-421e-805d-b4a3b8823b83",
   "metadata": {
    "scrolled": true,
    "tags": []
   },
   "outputs": [],
   "source": [
    "#Had to change FY to an actual date \n",
    "df_allocation[\"Allocation_Date\"].replace({\"FY 26/27\": \"2026-12-31\", \"08/12//20\": '2020-08-12 00:00:00', 'FY 21/22': '2021-12-31',\n",
    "                                         'FY 22/23': '2022-12-31','FY 20/21': '2020-12-31', 'FY 23/24': '2023-12-31','FY 24/25': '2024-12-31','FY 25/26': '2025-12-31'}, inplace =True)"
   ]
  },
  {
   "cell_type": "code",
   "execution_count": null,
   "id": "47989375-2bfe-4073-84b5-a695d4af6a8c",
   "metadata": {},
   "outputs": [],
   "source": [
    "#clean up columns in a loop\n",
    "for i in [\"Allocation_Date\", \"Third_Party_Award_Date\", \"Completion_Date\"]:\n",
    "    df_allocation[i] = df_allocation[i].replace('/', '-', regex = True).replace('Complete', '', regex = True).replace('\\n', '', regex=True).replace('Pending','TBD',regex= True).fillna('TBD')"
   ]
  },
  {
   "cell_type": "code",
   "execution_count": null,
   "id": "85a18421-e12b-45ba-b68f-923bb33de102",
   "metadata": {
    "scrolled": true,
    "tags": []
   },
   "outputs": [],
   "source": [
    "df_allocation.Completion_Date.unique().tolist()"
   ]
  },
  {
   "cell_type": "code",
   "execution_count": null,
   "id": "2b415e74-b031-47c4-9eda-de2c62406f9e",
   "metadata": {
    "scrolled": true,
    "tags": []
   },
   "outputs": [],
   "source": [
    "#cleaning up completion dates\n",
    "df_allocation[\"Completion_Date\"].replace({ \n",
    "    'June 24. 2024': '2024-06-01 00:00:00',  \n",
    "    '11/21/2024\\n7/30/2025 (Q4)': '2024-11-21 00:00:00', \n",
    "    'Jun-26': '2026-01-01 00:00:00', \n",
    "     'Jun-29': '2029-06-01 00:00:00',\n",
    "    'Complete\\n11/12/2019': '2019-11-12 00:00:00' , \n",
    "    'Deallocated': '', \n",
    "    'Jun-28': '2028-06-01 00:00:00',  \n",
    "    'Jun-25': '2025-06-01 00:00:00', \n",
    "    'Jun-23':'2023-06-01 00:00:00', \n",
    "    'Jun-27': '2027-06-01 00:00:00',\n",
    "    'Jan-25': '2025-01-01 00:00:00',\n",
    "    '11-21-20247-30-2025 (Q4)':'2025-07-30 00:00:00',\n",
    "    '6-30-202112-31-2021': '2021-12-31 00:00:00',\n",
    "    '6-1-2019': '2019-06-01 00:00:00',\n",
    "    '2-11-2018': '2018-02-11 00:00:00',\n",
    "     '6-30-2020': '2020-06-30 00:00:00',\n",
    "    ' 6-30-2018': '2018-06-30 00:00:00',\n",
    "     '6-29-2020': '2020-06-29 00:00:00',\n",
    "     '11-1-2019': '2019-11-01 00:00:00',\n",
    "     ' 12-10-2018': '2018-12-10 00:00:00',\n",
    "     ' 11-13-2019': '2019-11-13 00:00:00',\n",
    "     '3-30-2020':'2020-03-30 00:00:00',\n",
    "    ' 6-30-2020': '2020-06-30 00:00:00',\n",
    "    '11-12-2019': '2019-11-12 00:00:00',\n",
    "    '1-31-2020': '2020-01-31 00:00:00',\n",
    "    '8-30-2020': '2020-08-30 00:00:00',\n",
    "    '5-16-2020': '2020,05-16 00:00:00',\n",
    "     '5-7-2020': '2020-05-07 00:00:00'}, inplace =True)"
   ]
  },
  {
   "cell_type": "code",
   "execution_count": null,
   "id": "3c9e663d-5047-4780-8264-f6e5c38b99f3",
   "metadata": {},
   "outputs": [],
   "source": [
    "#cleaning up 3rd Party dates\n",
    "df_allocation[\"Third_Party_Award_Date\"].replace({ \n",
    "'Augsut 12, 2021': '2021-08-12 00:00:00',\n",
    "'43435': '2018-12-01 00:00:00',\n",
    "'07-29-2020': '2020-07-29 00:00:00',\n",
    "'43497' : '2019-02-01 00:00:00',\n",
    "'TBD 6-24-2021' : 'TBD',\n",
    "'TBD 6-30-2022' : 'TBD'\n",
    "}, inplace =True)"
   ]
  },
  {
   "cell_type": "code",
   "execution_count": null,
   "id": "871f7bd8-4451-4d82-b00b-96d960785927",
   "metadata": {},
   "outputs": [],
   "source": [
    "df_allocation = df_allocation.assign(\n",
    "    Allocation_Date_New = pd.to_datetime(df_allocation.Allocation_Date, errors=\"coerce\").dt.date,\n",
    "    Third_Party_Award_Date_New = pd.to_datetime(df_allocation.Third_Party_Award_Date, errors=\"coerce\").dt.date,\n",
    "    Completion_Date_New = pd.to_datetime(df_allocation.Completion_Date, errors=\"coerce\").dt.date\n",
    ")"
   ]
  },
  {
   "cell_type": "code",
   "execution_count": null,
   "id": "54185132-ab5b-4d5a-8fbf-b77c51b14a92",
   "metadata": {},
   "outputs": [],
   "source": [
    "df_allocation.dtypes"
   ]
  },
  {
   "cell_type": "code",
   "execution_count": null,
   "id": "47f5e746-7c29-415e-8fe2-cdafcc74ac8a",
   "metadata": {},
   "outputs": [],
   "source": [
    "#checking for nas\n",
    "df_allocation.isna().sum()"
   ]
  },
  {
   "cell_type": "code",
   "execution_count": null,
   "id": "2898bab2-e885-4237-b867-134f9c5d8485",
   "metadata": {},
   "outputs": [],
   "source": [
    "#df_allocation.to_csv(\"./test_df_allocation.csv\") just a line to test "
   ]
  },
  {
   "cell_type": "markdown",
   "id": "af1de5bc-2acd-4e6c-80f4-85449cd9279b",
   "metadata": {},
   "source": [
    "## Final CSV Version"
   ]
  },
  {
   "cell_type": "code",
   "execution_count": null,
   "id": "07c5f978-e479-4a65-a82a-e521ddb1af9f",
   "metadata": {},
   "outputs": [],
   "source": [
    "#drop old columns\n",
    "df_allocation = df_allocation.drop(['PPNO_New2','Allocation_Date','Completion_Date','Third_Party_Award_Date'], axis=1)\n",
    "#rename columns\n",
    "df_allocation = df_allocation.rename(columns = {'Allocation_Date_New':'Allocation_Date', 'Completion_Date_New':'Completion_Date', 'Third_Party_Award_Date_New':'Third_Party_Award_Date'})"
   ]
  },
  {
   "cell_type": "code",
   "execution_count": null,
   "id": "dc92be02-bc5d-470b-8d4c-d398b610b225",
   "metadata": {},
   "outputs": [],
   "source": [
    "df_allocation.to_csv(\"./final_df_allocation.csv\", index= False)"
   ]
  },
  {
   "cell_type": "markdown",
   "id": "9f323787-b691-45cb-b95e-58329f644480",
   "metadata": {},
   "source": [
    "# Cleaning Project Sheet\n",
    "\n"
   ]
  },
  {
   "cell_type": "code",
   "execution_count": null,
   "id": "d133db21-3752-460b-a42f-00cc548bccaf",
   "metadata": {},
   "outputs": [],
   "source": [
    "df_project.columns"
   ]
  },
  {
   "cell_type": "markdown",
   "id": "970b5f71-401e-42dd-a7a5-e3d2cc657382",
   "metadata": {},
   "source": [
    "## Filling NA for TIRCP, Allocated, and Expended Amounts"
   ]
  },
  {
   "cell_type": "code",
   "execution_count": null,
   "id": "687150e8-15f8-4624-978a-f9f3a4a250de",
   "metadata": {},
   "outputs": [],
   "source": [
    "df_project[['TIRCP_Award_Amount_($)', 'Allocated_Amount','Expended_Amount']] = df_project[['TIRCP_Award_Amount_($)', 'Allocated_Amount', 'Expended_Amount']].fillna(value=0)"
   ]
  },
  {
   "cell_type": "markdown",
   "id": "e238629d-6831-42d1-8add-c3e10555ed30",
   "metadata": {
    "tags": []
   },
   "source": [
    "## Cleaning up PPNO Numbers based on Allocation Sheet"
   ]
  },
  {
   "cell_type": "code",
   "execution_count": null,
   "id": "40ce6a99-7803-4afb-b1f1-98c0a055f85a",
   "metadata": {},
   "outputs": [],
   "source": [
    "#slicing PPNO to be 5 characters\n",
    "df_project = df_project.assign(PPNO_New = df_project['PPNO'].str.slice(start=0, stop=5)) "
   ]
  },
  {
   "cell_type": "code",
   "execution_count": null,
   "id": "2346df5d-4202-443f-a8a6-ab1549f76137",
   "metadata": {},
   "outputs": [],
   "source": [
    "#importing Excel crosswalk sheet\n",
    "project_ppno = pd.read_excel(open('Projects_PPNO.xlsx','rb')) "
   ]
  },
  {
   "cell_type": "code",
   "execution_count": null,
   "id": "e36ba00e-ec8a-4aa5-94ac-9dd81723cfbb",
   "metadata": {},
   "outputs": [],
   "source": [
    "#Merge in Crosswalk \n",
    "df_project2 = pd.merge(df_project, project_ppno, on = [\"Award_Year\", \"Local_Agency\"], how = \"left\")"
   ]
  },
  {
   "cell_type": "code",
   "execution_count": null,
   "id": "c8397382-0f28-4c00-b0ad-3e6451794601",
   "metadata": {},
   "outputs": [],
   "source": [
    "#some values in PPNO and PPNO_New2 are strings, some are floats...so have to convert PPNO New 2 to strings\n",
    "df_project2.PPNO_New = df_project2.apply(lambda x: x.PPNO_New if (str(x.PPNO_New2) == 'nan') else x.PPNO_New2, axis=1)"
   ]
  },
  {
   "cell_type": "code",
   "execution_count": null,
   "id": "511ebeb5-7850-4824-8711-1b5e9b16dbff",
   "metadata": {},
   "outputs": [],
   "source": [
    "#making sure PPNO_New is a string \n",
    "df_project2 = df_project2.astype({'PPNO_New': 'str'})"
   ]
  },
  {
   "cell_type": "code",
   "execution_count": null,
   "id": "e15b679e-ad35-439f-bcd0-12aff1592c98",
   "metadata": {
    "scrolled": true,
    "tags": []
   },
   "outputs": [],
   "source": [
    "PPNO_project = set(df_project2.PPNO_New.unique().tolist())\n",
    "PPNO_allocation = set(df_allocation.PPNO.unique().tolist())"
   ]
  },
  {
   "cell_type": "code",
   "execution_count": null,
   "id": "912e587b-f7e3-43bc-a6f0-22cc386884a7",
   "metadata": {
    "scrolled": true,
    "tags": []
   },
   "outputs": [],
   "source": [
    "PPNO_project #looking at list"
   ]
  },
  {
   "cell_type": "code",
   "execution_count": null,
   "id": "077649c8-65f6-4b01-b280-cf89bf8304e2",
   "metadata": {
    "scrolled": true,
    "tags": []
   },
   "outputs": [],
   "source": [
    "PPNO_allocation #looking at list"
   ]
  },
  {
   "cell_type": "code",
   "execution_count": null,
   "id": "d9c6c1a5-afd3-405f-b28e-2e1eda7dd1f0",
   "metadata": {
    "scrolled": true,
    "tags": []
   },
   "outputs": [],
   "source": [
    "PPNO_project - PPNO_allocation #checking for differences"
   ]
  },
  {
   "cell_type": "markdown",
   "id": "65d6571a-aa68-40f4-8189-3d995a813a34",
   "metadata": {},
   "source": [
    "## Cleaning up Award Recipients\n",
    "- Matching up Award Recipient in allocation sheet & Local Agency in projects sheet\n",
    "    - Using Allocation as the \"source of truth\" data set for the agencies who received the awards \n",
    "    - [Stack Overflow Ref](https://stackoverflow.com/questions/61811137/based-on-partial-string-match-fill-one-data-frame-column-from-another-dataframe)\n",
    "    "
   ]
  },
  {
   "cell_type": "code",
   "execution_count": null,
   "id": "23f22677-a6a2-43c7-a571-7a577a748b09",
   "metadata": {},
   "outputs": [],
   "source": [
    "#make sure these are strings\n",
    "df_project2 = df_project2.astype({'Local_Agency': 'str'})\n",
    "df_allocation = df_allocation.astype({'Award_Recipient': 'str'})\n"
   ]
  },
  {
   "cell_type": "code",
   "execution_count": null,
   "id": "c5498f24-92e0-4d26-916d-0791b4afdaa1",
   "metadata": {
    "scrolled": true,
    "tags": []
   },
   "outputs": [],
   "source": [
    "#using allocation as the \"source of truth\" data set for the agencies who received the awards \n",
    "allocation_agencies = df_allocation.Award_Recipient.unique().tolist()\n",
    "allocation_agencies"
   ]
  },
  {
   "cell_type": "code",
   "execution_count": null,
   "id": "9edcce46-872c-4b0c-a645-305fa97d7401",
   "metadata": {},
   "outputs": [],
   "source": [
    "#stack overflow method\n",
    "df_project2['Award_Recipient'] = df_project2['Local_Agency'].apply(lambda x: ''.join([part for part in allocation_agencies if part in x]))"
   ]
  },
  {
   "cell_type": "code",
   "execution_count": null,
   "id": "6e6f9a88-6b40-4ce6-bf8f-0a49bb410ff4",
   "metadata": {},
   "outputs": [],
   "source": [
    "df_project2.head(2)"
   ]
  },
  {
   "cell_type": "code",
   "execution_count": null,
   "id": "439a0929-d828-4505-8652-3b7bb5947f41",
   "metadata": {},
   "outputs": [],
   "source": [
    "# Dictionary to continue correcting Award Recipients based on PPNO values\n",
    "rename_recipients = df_project2[[\"Award_Recipient\", \"PPNO_New\"]].sort_values([\"Award_Recipient\", \"PPNO_New\"]).drop_duplicates(subset=[\"PPNO_New\"])\n"
   ]
  },
  {
   "cell_type": "code",
   "execution_count": null,
   "id": "52c5c2bd-8fe7-45e3-8409-c0b2167a74ae",
   "metadata": {
    "scrolled": true,
    "tags": []
   },
   "outputs": [],
   "source": [
    "rename_recipients = rename_recipients.set_index('PPNO_New').T.to_dict('list')"
   ]
  },
  {
   "cell_type": "code",
   "execution_count": null,
   "id": "0309b381-a1fa-4fba-b604-6f2578eafd8e",
   "metadata": {
    "scrolled": true,
    "tags": []
   },
   "outputs": [],
   "source": [
    "rename_recipients"
   ]
  },
  {
   "cell_type": "code",
   "execution_count": null,
   "id": "8b0a341f-e1bd-4e14-836e-d0b010f701e5",
   "metadata": {},
   "outputs": [],
   "source": [
    "#updating dictionary to address blanks \n",
    "rename_recipients.update({'CP002': 'Southern California Regional Rail Authority (Metrolink)',\n",
    " 'CP006': 'San Francisco Municipal Transportation Agency',\n",
    " 'CP013': 'Monterey-Salinas Transit',\n",
    " 'CP025': 'San Joaquin Regional Rail Commission',\n",
    " 'CP026': 'San Joaquin Regional Rail Commission',\n",
    " 'CP055': 'Bay Area Rapid Transit District',\n",
    " 'CP065': 'Los Angeles County Metropolitan Transportation Authority and Southern California Regional Rail Authority',\n",
    " 'CP071': 'City of Santa Monica',\n",
    " 'CP074': 'Transit Joint Powers Authority for Merced County',\n",
    " 'CP019': 'Antelope Valley Transit Authority & Long Beach Transit',\n",
    " 'CP068': 'San Bernardino County Transportation Authority (SBCTA) & Omnitrans'})"
   ]
  },
  {
   "cell_type": "code",
   "execution_count": null,
   "id": "d5272a96-1b22-46f3-81e0-dddd81b09e85",
   "metadata": {},
   "outputs": [],
   "source": [
    "df_project2 = df_project2.assign(\n",
    "    Award_Recipient = df_project2.PPNO_New.map(rename_recipients))"
   ]
  },
  {
   "cell_type": "code",
   "execution_count": null,
   "id": "8812d811-43f3-410b-975b-567d00ba5927",
   "metadata": {},
   "outputs": [],
   "source": [
    "#creating a dictionary for the values that didn't populate\n",
    "crosswalk = {'Monterey-Salinas Transit': 'Monterey-Salinas Transit',\n",
    "             'San Francisco Municipal  Transportation Agency': 'San Francisco Municipal Transportation Agency',\n",
    "            'Southern California  Regional Rail Authority': 'Southern California Regional Rail Authority',\n",
    "            'San Joaquin Regional Rail Commission / San Joaquin Joint Powers Authority':  'San Joaquin Joint Powers Authority and San Joaquin Regional Rail Commission',\n",
    "            'Bay Area Rapid Transit (BART)': 'Bay Area Rapid Transit District',\n",
    "            'LA County Metropolitan Transportation Authority, So Cal Regional Rail Authority (Metrolink)':  'Los Angeles County Metropolitan Transportation Authority and Southern California Regional Rail Authority',\n",
    "            'Santa Monica Big Blue Bus':  'City of Santa Monica',\n",
    "            'Transit Joint Powers Authority of Merced County':  'Transit Joint Powers Authority for Merced County',\n",
    "             'Los Angeles County Metropolitan Transportation AuthorityLos Angeles County Metropolitan Transportation Authority': 'Los Angeles County Metropolitan Transportation Authority ',\n",
    "             'Antelope Valley Transit AuthorityAntelope Valley Transit Authority': 'Antelope Valley Transit Authority ',\n",
    "             'Sacramento Regional Transit DistrictSacramento Regional Transit District ': 'Sacramento Regional Transit District',\n",
    "             'Capitol Corridor Joint Powers AuthorityCapitol Corridor Joint Powers Authority  ': 'Capitol Corridor Joint Powers Authority',\n",
    "             'San Joaquin Regional\\nRail Commission / San Joaquin Joint Powers Authority': 'San Joaquin Joint Powers Authority and San Joaquin Regional Rail Commission'\n",
    "}"
   ]
  },
  {
   "cell_type": "code",
   "execution_count": null,
   "id": "644d6e57-a475-4134-bea7-909be2dff37d",
   "metadata": {},
   "outputs": [],
   "source": [
    "#populating again with the crosswalk\n",
    "df_project2 = df_project2.replace(crosswalk)"
   ]
  },
  {
   "cell_type": "code",
   "execution_count": null,
   "id": "e75d94d1-c9ac-4260-a028-dc843d1e9efc",
   "metadata": {},
   "outputs": [],
   "source": [
    "#double checking\n",
    "df_project2.sample(5)"
   ]
  },
  {
   "cell_type": "code",
   "execution_count": null,
   "id": "14ff5091-4ff9-4307-90df-63f2a44845cd",
   "metadata": {},
   "outputs": [],
   "source": [
    "#df_project2.to_csv(\"./test_df_project.csv\") just a line to check the data frame "
   ]
  },
  {
   "cell_type": "markdown",
   "id": "6d13eec8-e045-45ea-a35a-f19531298742",
   "metadata": {},
   "source": [
    "## Final Version"
   ]
  },
  {
   "cell_type": "code",
   "execution_count": null,
   "id": "bc25a9c4-cdd6-487c-8408-9d6cd1228d43",
   "metadata": {},
   "outputs": [],
   "source": [
    "#drop old column\n",
    "df_project2 = df_project2.drop(['PPNO','PPNO_New2'], axis=1)"
   ]
  },
  {
   "cell_type": "code",
   "execution_count": null,
   "id": "329d1a15-9916-45c9-9ef0-5e7fce154537",
   "metadata": {},
   "outputs": [],
   "source": [
    "#renaming PPNO \n",
    "df_project2 = df_project2.rename(columns = {'PPNO_New':'PPNO'})"
   ]
  },
  {
   "cell_type": "code",
   "execution_count": null,
   "id": "57a21d5a-21a8-4d92-9029-58b3dfeec7ee",
   "metadata": {},
   "outputs": [],
   "source": [
    "df_project2.to_csv(\"./final_df_project.csv\", index= False)"
   ]
  }
 ],
 "metadata": {
  "kernelspec": {
   "display_name": "Python 3 (ipykernel)",
   "language": "python",
   "name": "python3"
  },
  "language_info": {
   "codemirror_mode": {
    "name": "ipython",
    "version": 3
   },
   "file_extension": ".py",
   "mimetype": "text/x-python",
   "name": "python",
   "nbconvert_exporter": "python",
   "pygments_lexer": "ipython3",
   "version": "3.9.6"
  },
  "toc-autonumbering": false,
  "toc-showmarkdowntxt": false,
  "toc-showtags": false
 },
 "nbformat": 4,
 "nbformat_minor": 5
}
