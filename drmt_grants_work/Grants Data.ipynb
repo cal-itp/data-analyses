{
 "cells": [
  {
   "cell_type": "markdown",
   "id": "8fa13b1e-0b92-4f67-a5e8-762f135c4db9",
   "metadata": {},
   "source": [
    "# Cleaning up Grants Data\n",
    "----\n",
    "\n",
    "There are three sheets in the TIRCP workbook. However, it seems like the summary reports mostly rely on two: one called project tracking and one called allocation tracking, so I am only loading those in.\n"
   ]
  },
  {
   "cell_type": "code",
   "execution_count": 1,
   "id": "dfcd28c5-7dc7-4f3e-8731-b48ebaeb2224",
   "metadata": {},
   "outputs": [
    {
     "name": "stdout",
     "output_type": "stream",
     "text": [
      "Requirement already satisfied: openpyxl in /opt/conda/lib/python3.9/site-packages (3.0.9)\n",
      "Requirement already satisfied: et-xmlfile in /opt/conda/lib/python3.9/site-packages (from openpyxl) (1.1.0)\n"
     ]
    }
   ],
   "source": [
    "import pandas as pd\n",
    "import math\n",
    "!pip install openpyxl"
   ]
  },
  {
   "cell_type": "code",
   "execution_count": 2,
   "id": "b4fddfb7-6d8a-4665-b277-3d44cbc32357",
   "metadata": {},
   "outputs": [],
   "source": [
    "#read in files \n",
    "project = pd.read_excel(open('Raw Project Tracking Sheet.xlsx','rb'), sheet_name='Project Tracking DRAFT')  \n",
    "allocation = pd.read_excel(open('Raw Project Tracking Sheet.xlsx','rb'), sheet_name='Agreement Allocations DRAFT')  \n"
   ]
  },
  {
   "cell_type": "code",
   "execution_count": 3,
   "id": "15f101e3-f943-4873-945a-4772c985d8a6",
   "metadata": {},
   "outputs": [],
   "source": [
    "#cleaning up spaces in columns\n",
    "project.columns = project.columns.str.strip().str.replace(' ', '_')\n",
    "allocation.columns = allocation.columns.str.strip().str.replace(' ', '_')"
   ]
  },
  {
   "cell_type": "code",
   "execution_count": 4,
   "id": "33c72fa9-8b66-4509-81da-b4a995fa8738",
   "metadata": {
    "scrolled": true,
    "tags": []
   },
   "outputs": [
    {
     "data": {
      "text/plain": [
       "Index(['Award_Year', 'Project_#', 'Local_Agency', 'Vendor_ID_#',\n",
       "       'Project_Title', 'PPNO', 'District', 'County', 'Key_Project_Elements',\n",
       "       'Master_Agreement_Number', 'Master_Agreement_Expiration_Date',\n",
       "       'Project_Manager', 'Regional_Coordinator',\n",
       "       'Technical_Assistance-CALTP_(Y/N)', 'Technical_Assistance-Fleet_(Y/N)',\n",
       "       'Technical_Assistance-Network_Integration_(Y/N)',\n",
       "       'Technical_Assistance-Priority_Population_(Y/N)', 'Total_Project_Cost',\n",
       "       'TIRCP_Award_Amount_($)', 'Allocated_Amount', 'Unallocated_Amount',\n",
       "       'Percentge_Allocated', 'Expended_Amount', 'Other_Funds_Involved',\n",
       "       'Award_Cycle', 'Local_Agency_Address', 'Local_Agency_City',\n",
       "       'Local_Agency_Zip', 'Local_Agency_Contact', 'Local_Agency_Email',\n",
       "       'Local_Agency_Phone_Number', 'Comments/Additional_Contacts'],\n",
       "      dtype='object')"
      ]
     },
     "execution_count": 4,
     "metadata": {},
     "output_type": "execute_result"
    }
   ],
   "source": [
    "(project.columns)"
   ]
  },
  {
   "cell_type": "code",
   "execution_count": 5,
   "id": "e636376b-ecb0-409d-b832-53682a32377e",
   "metadata": {
    "scrolled": true,
    "tags": []
   },
   "outputs": [
    {
     "data": {
      "text/plain": [
       "Index(['Award_Year', 'Project_#', 'Award_Recipient', 'Implementing_Agency',\n",
       "       'PPNO', 'Project_ID', 'EA', 'Components', 'Phase', 'Allocation_Amount',\n",
       "       'Expended_Amount', 'SB1_Funding', 'SB1_Budget_Year', 'GGRF_Funding',\n",
       "       'GGRF_Budget_Year', 'CTC_Financial_Resolution',\n",
       "       'CTC_Allocation_Amendment', 'CTC_Waiver', 'CTC_CalSTA_Waiver',\n",
       "       'Allocation_Date', 'Completion_Date', 'PSA_#', 'CT_Document_#',\n",
       "       '3rd_Party_Award_Date', 'LED', 'Date_Branch_Chief_Receives_PSA',\n",
       "       'Date_Regional_Coordinator_Receives_PSA', 'Date_OC_Receives_PSA',\n",
       "       'Date_OPM_Receives_PSA', 'Date_Legal_Receives_PSA',\n",
       "       'Date_Returned_to_PM', 'Date_PSA_Sent_to_Local_Agency',\n",
       "       'Date_PSA_Approved_by_Local_Agency', 'Date_Signed_by_DRMT',\n",
       "       'PSA_Expiry_Date', 'LONP', 'Prior_Fiscal_Years_to_2020',\n",
       "       'Fiscal_Year_2020-2021', 'Fiscal_Year_2021-2022',\n",
       "       'Fiscal_Year_2022-2023', 'Fiscal_Year_2023-2024',\n",
       "       'Fiscal_Year_2024-2025', 'Fiscal_Year_2025-2026',\n",
       "       'Fiscal_Year_2026-2027', 'Fiscal_Year_2027-2028',\n",
       "       'Fiscal_Year_2028-2029', 'Fiscal_Year_2029-2030', 'Allocation_Comments',\n",
       "       'PSA_Comments'],\n",
       "      dtype='object')"
      ]
     },
     "execution_count": 5,
     "metadata": {},
     "output_type": "execute_result"
    }
   ],
   "source": [
    "(allocation.columns)"
   ]
  },
  {
   "cell_type": "markdown",
   "id": "eb796e7c-b1dd-4d89-87ac-c000f291f38c",
   "metadata": {},
   "source": [
    "### Note: Third party award date is called CON Contract Award Date in TIRCP SAR Attachment "
   ]
  },
  {
   "cell_type": "code",
   "execution_count": 6,
   "id": "92614cfc-248c-4ce2-b61a-3ffeab9966f0",
   "metadata": {},
   "outputs": [],
   "source": [
    "#subsetting for only columns of interest\n",
    "df_project = project[['Award_Year', 'Project_#','Local_Agency','Project_Title','PPNO',\n",
    "                      'Key_Project_Elements','TIRCP_Award_Amount_($)','Allocated_Amount','Expended_Amount']]"
   ]
  },
  {
   "cell_type": "code",
   "execution_count": 7,
   "id": "44afcac4-b07b-4503-be0c-a02d8dd1ebb0",
   "metadata": {},
   "outputs": [],
   "source": [
    "df_allocation = allocation[['Award_Year','Award_Recipient', 'Implementing_Agency', 'PPNO','Phase',\n",
    "                            'Allocation_Date','Completion_Date','3rd_Party_Award_Date']]"
   ]
  },
  {
   "cell_type": "code",
   "execution_count": 8,
   "id": "ce1ec6d0-17e6-447b-bd67-53e258af96c1",
   "metadata": {},
   "outputs": [],
   "source": [
    "#strip spaces in columns\n",
    "df_project.columns = df_project.columns.map(lambda x: x.strip())\n",
    "df_allocation.columns = df_allocation.columns.map(lambda x: x.strip())"
   ]
  },
  {
   "cell_type": "code",
   "execution_count": 9,
   "id": "81153a10-8dac-431e-bcff-53d105b09c7c",
   "metadata": {},
   "outputs": [],
   "source": [
    "#just testing to make sure everything looks okay...\n",
    "df_project.to_csv(\"./test_df_project.csv\")\n",
    "df_allocation.to_csv(\"./test_df_allocation.csv\")"
   ]
  },
  {
   "cell_type": "markdown",
   "id": "44c82d85-8f34-4185-89a1-8d417802b19e",
   "metadata": {
    "tags": []
   },
   "source": [
    "# Cleaning Allocation Sheet "
   ]
  },
  {
   "cell_type": "markdown",
   "id": "8e1b129d-e9b2-43b2-a87d-6233e1a396cd",
   "metadata": {},
   "source": [
    "## Cleaning up PPNO, can only be 5 characters."
   ]
  },
  {
   "cell_type": "code",
   "execution_count": 10,
   "id": "678acd92-65da-4b13-a252-4b84129e9be2",
   "metadata": {},
   "outputs": [],
   "source": [
    "#remove the extra characters in PPNO in allocation to match the PPNO in project data frame bc there should only be five characters and numbers in each PPNO value\n",
    "df_allocation = df_allocation.assign(\n",
    "    PPNO_New = df_allocation['PPNO'].str.slice(start=0, stop=5)\n",
    ")"
   ]
  },
  {
   "cell_type": "code",
   "execution_count": 11,
   "id": "06c167cc-3504-4e30-9123-7c5d72c520f2",
   "metadata": {},
   "outputs": [],
   "source": [
    "#CSV with PPNO & Award Recipients\n",
    "allocation_ppno = pd.read_csv('Allocation_PPNO_Crosswalk.csv')"
   ]
  },
  {
   "cell_type": "code",
   "execution_count": 12,
   "id": "2c625ee1-3459-4b53-8946-781ee2b68556",
   "metadata": {},
   "outputs": [
    {
     "data": {
      "text/html": [
       "<div>\n",
       "<style scoped>\n",
       "    .dataframe tbody tr th:only-of-type {\n",
       "        vertical-align: middle;\n",
       "    }\n",
       "\n",
       "    .dataframe tbody tr th {\n",
       "        vertical-align: top;\n",
       "    }\n",
       "\n",
       "    .dataframe thead th {\n",
       "        text-align: right;\n",
       "    }\n",
       "</style>\n",
       "<table border=\"1\" class=\"dataframe\">\n",
       "  <thead>\n",
       "    <tr style=\"text-align: right;\">\n",
       "      <th></th>\n",
       "      <th>Award_Year</th>\n",
       "      <th>PPNO_New2</th>\n",
       "      <th>Award_Recipient</th>\n",
       "    </tr>\n",
       "  </thead>\n",
       "  <tbody>\n",
       "    <tr>\n",
       "      <th>0</th>\n",
       "      <td>2020</td>\n",
       "      <td>CP065</td>\n",
       "      <td>Los Angeles County Metropolitan Transportation...</td>\n",
       "    </tr>\n",
       "    <tr>\n",
       "      <th>1</th>\n",
       "      <td>2020</td>\n",
       "      <td>CP066</td>\n",
       "      <td>Los Angeles-San Diego-San Luis Obispo Rail Cor...</td>\n",
       "    </tr>\n",
       "    <tr>\n",
       "      <th>2</th>\n",
       "      <td>2016</td>\n",
       "      <td>1230</td>\n",
       "      <td>San Bernardino County Transportation Authority...</td>\n",
       "    </tr>\n",
       "    <tr>\n",
       "      <th>3</th>\n",
       "      <td>2018</td>\n",
       "      <td>1155</td>\n",
       "      <td>Transportation Agency for Monterey County</td>\n",
       "    </tr>\n",
       "  </tbody>\n",
       "</table>\n",
       "</div>"
      ],
      "text/plain": [
       "   Award_Year PPNO_New2                                    Award_Recipient\n",
       "0        2020     CP065  Los Angeles County Metropolitan Transportation...\n",
       "1        2020     CP066  Los Angeles-San Diego-San Luis Obispo Rail Cor...\n",
       "2        2016      1230  San Bernardino County Transportation Authority...\n",
       "3        2018      1155          Transportation Agency for Monterey County"
      ]
     },
     "execution_count": 12,
     "metadata": {},
     "output_type": "execute_result"
    }
   ],
   "source": [
    "allocation_ppno "
   ]
  },
  {
   "cell_type": "code",
   "execution_count": 13,
   "id": "7888529f-bcaa-4508-a86f-476200fd06fb",
   "metadata": {},
   "outputs": [],
   "source": [
    "#Filtering out for 2021, since that entry is blank\n",
    "df_allocation = df_allocation.query(\"Award_Year != 2021\")"
   ]
  },
  {
   "cell_type": "code",
   "execution_count": 14,
   "id": "be528f91-11a4-40e8-bc76-023e841453ad",
   "metadata": {},
   "outputs": [],
   "source": [
    "#Merge in Crosswalk \n",
    "df_allocation = pd.merge(df_allocation, allocation_ppno, on = [\"Award_Year\", \"Award_Recipient\"], how = \"left\")"
   ]
  },
  {
   "cell_type": "code",
   "execution_count": 15,
   "id": "43bf427e-c0eb-496c-b709-34e1c3824430",
   "metadata": {},
   "outputs": [
    {
     "data": {
      "text/plain": [
       "float"
      ]
     },
     "execution_count": 15,
     "metadata": {},
     "output_type": "execute_result"
    }
   ],
   "source": [
    "type(df_allocation.iloc[0].PPNO_New2)\n"
   ]
  },
  {
   "cell_type": "code",
   "execution_count": 16,
   "id": "033c09ef-48d4-4963-9a72-b08d1bf25b8a",
   "metadata": {},
   "outputs": [],
   "source": [
    "#some values in PPNO and PPNO_New2 are strings, some are floats...so have to convert PPNO New 2 to strings\n",
    "df_allocation.PPNO_New = df_allocation.apply(lambda x: x.PPNO_New if (str(x.PPNO_New2) == 'nan') else x.PPNO_New2, axis=1)"
   ]
  },
  {
   "cell_type": "code",
   "execution_count": 17,
   "id": "224eb1b7-05ee-495b-ab1d-2c2fc17a98b7",
   "metadata": {},
   "outputs": [],
   "source": [
    "#drop old column\n",
    "df_allocation = df_allocation.drop(['PPNO'], axis=1)"
   ]
  },
  {
   "cell_type": "code",
   "execution_count": 18,
   "id": "8062ee05-e2fc-4128-8464-c9847a81637c",
   "metadata": {
    "tags": []
   },
   "outputs": [],
   "source": [
    "#renaming columns to something neater\n",
    "df_allocation = df_allocation.rename(columns = {'PPNO_New':'PPNO', '3rd_Party_Award_Date':'Third_Party_Award_Date'})"
   ]
  },
  {
   "cell_type": "code",
   "execution_count": 19,
   "id": "2898bab2-e885-4237-b867-134f9c5d8485",
   "metadata": {},
   "outputs": [],
   "source": [
    "df_allocation.to_csv(\"./test_df_allocation.csv\")"
   ]
  },
  {
   "cell_type": "markdown",
   "id": "7c1523b8-33b4-40e1-92e9-dbb204492235",
   "metadata": {
    "tags": []
   },
   "source": [
    "## Cleaning up completion, allocation, & 3rd Party dates "
   ]
  },
  {
   "cell_type": "code",
   "execution_count": 20,
   "id": "7390cefb-53eb-471c-b404-b812ceec10c4",
   "metadata": {
    "scrolled": true,
    "tags": []
   },
   "outputs": [
    {
     "data": {
      "text/plain": [
       "[datetime.datetime(2015, 10, 22, 0, 0),\n",
       " datetime.datetime(2016, 5, 19, 0, 0),\n",
       " datetime.datetime(2016, 6, 30, 0, 0),\n",
       " datetime.datetime(2015, 12, 10, 0, 0),\n",
       " datetime.datetime(2015, 8, 27, 0, 0),\n",
       " datetime.datetime(2016, 1, 21, 0, 0),\n",
       " datetime.datetime(2017, 6, 29, 0, 0),\n",
       " datetime.datetime(2016, 10, 20, 0, 0),\n",
       " datetime.datetime(2017, 8, 17, 0, 0),\n",
       " datetime.datetime(2018, 1, 31, 0, 0),\n",
       " datetime.datetime(2017, 1, 19, 0, 0),\n",
       " datetime.datetime(2016, 3, 17, 0, 0),\n",
       " datetime.datetime(2017, 3, 16, 0, 0),\n",
       " datetime.datetime(2017, 5, 17, 0, 0),\n",
       " datetime.datetime(2018, 8, 16, 0, 0),\n",
       " 'TBD',\n",
       " datetime.datetime(2021, 6, 24, 0, 0),\n",
       " datetime.datetime(2016, 12, 8, 0, 0),\n",
       " datetime.datetime(2020, 6, 25, 0, 0),\n",
       " datetime.datetime(2019, 12, 5, 0, 0),\n",
       " datetime.datetime(2018, 10, 18, 0, 0),\n",
       " datetime.datetime(2021, 1, 28, 0, 0),\n",
       " nan,\n",
       " datetime.datetime(2018, 2, 1, 0, 0),\n",
       " datetime.datetime(2018, 5, 17, 0, 0),\n",
       " 'FY 26/27',\n",
       " datetime.datetime(2017, 5, 18, 0, 0),\n",
       " datetime.datetime(2018, 6, 28, 0, 0),\n",
       " datetime.datetime(2020, 10, 22, 0, 0),\n",
       " datetime.datetime(2018, 12, 6, 0, 0),\n",
       " datetime.datetime(2019, 10, 9, 0, 0),\n",
       " datetime.datetime(2020, 5, 14, 0, 0),\n",
       " datetime.datetime(2021, 5, 14, 0, 0),\n",
       " datetime.datetime(2019, 6, 27, 0, 0),\n",
       " datetime.datetime(2021, 3, 13, 0, 0),\n",
       " datetime.datetime(2020, 1, 30, 0, 0),\n",
       " datetime.datetime(2021, 6, 25, 0, 0),\n",
       " datetime.datetime(2019, 5, 16, 0, 0),\n",
       " datetime.datetime(2020, 12, 3, 0, 0),\n",
       " '08/12//20',\n",
       " datetime.datetime(2020, 8, 12, 0, 0),\n",
       " datetime.datetime(2018, 8, 15, 0, 0),\n",
       " datetime.datetime(2021, 8, 19, 0, 0),\n",
       " datetime.datetime(2019, 3, 14, 0, 0),\n",
       " datetime.datetime(2020, 3, 26, 0, 0),\n",
       " datetime.datetime(2019, 1, 31, 0, 0),\n",
       " datetime.datetime(2021, 3, 25, 0, 0),\n",
       " datetime.datetime(2019, 8, 15, 0, 0),\n",
       " datetime.datetime(2021, 5, 13, 0, 0),\n",
       " 'FY 21/22',\n",
       " datetime.datetime(2020, 8, 13, 0, 0),\n",
       " 'FY 22/23',\n",
       " 'FY 20/21',\n",
       " 'FY 23/24',\n",
       " 'FY 25/26',\n",
       " 'FY 24/25']"
      ]
     },
     "execution_count": 20,
     "metadata": {},
     "output_type": "execute_result"
    }
   ],
   "source": [
    "#cleaning up allocation dates\n",
    "df_allocation.Allocation_Date.unique().tolist()"
   ]
  },
  {
   "cell_type": "code",
   "execution_count": 21,
   "id": "fb7770b0-e204-421e-805d-b4a3b8823b83",
   "metadata": {
    "scrolled": true,
    "tags": []
   },
   "outputs": [],
   "source": [
    "#Had to change FY to an actual date \n",
    "df_allocation[\"Allocation_Date\"].replace({\"FY 26/27\": \"2026-12-31\", \"08/12//20\": '2020-08-12 00:00:00', 'FY 21/22': '2021-12-31',\n",
    "                                         'FY 22/23': '2022-12-31','FY 20/21': '2020-12-31', 'FY 23/24': '2023-12-31','FY 24/25': '2024-12-31','FY 25/26': '2025-12-31'}, inplace =True)"
   ]
  },
  {
   "cell_type": "code",
   "execution_count": 22,
   "id": "47989375-2bfe-4073-84b5-a695d4af6a8c",
   "metadata": {},
   "outputs": [],
   "source": [
    "#clean up columns in a loop\n",
    "for i in [\"Allocation_Date\", \"Third_Party_Award_Date\", \"Completion_Date\"]:\n",
    "    df_allocation[i] = df_allocation[i].replace('/', '-', regex = True).replace('Complete', '', regex = True).replace('\\n', '', regex=True).replace('Pending','TBD',regex= True).fillna('TBD')"
   ]
  },
  {
   "cell_type": "code",
   "execution_count": 23,
   "id": "85a18421-e12b-45ba-b68f-923bb33de102",
   "metadata": {
    "scrolled": true,
    "tags": []
   },
   "outputs": [
    {
     "data": {
      "text/plain": [
       "[datetime.datetime(2022, 3, 30, 0, 0),\n",
       " '6-1-2019',\n",
       " datetime.datetime(2021, 6, 30, 0, 0),\n",
       " datetime.datetime(2018, 9, 30, 0, 0),\n",
       " '2-11-2018',\n",
       " '6-30-2020',\n",
       " datetime.datetime(2020, 9, 30, 0, 0),\n",
       " ' 6-30-2018',\n",
       " '6-29-2020',\n",
       " '11-1-2019',\n",
       " ' 12-10-2018',\n",
       " ' 11-13-2019',\n",
       " '3-30-2020',\n",
       " datetime.datetime(2022, 9, 30, 0, 0),\n",
       " datetime.datetime(2021, 12, 30, 0, 0),\n",
       " datetime.datetime(2021, 9, 30, 0, 0),\n",
       " '5-16-2020',\n",
       " datetime.datetime(2024, 6, 30, 0, 0),\n",
       " 'TBD',\n",
       " 'June 24. 2024',\n",
       " datetime.datetime(2022, 12, 30, 0, 0),\n",
       " datetime.datetime(2024, 6, 24, 0, 0),\n",
       " '11-21-20247-30-2025 (Q4)',\n",
       " datetime.datetime(2022, 6, 30, 0, 0),\n",
       " datetime.datetime(2019, 5, 21, 0, 0),\n",
       " datetime.datetime(2024, 7, 25, 0, 0),\n",
       " datetime.datetime(2021, 12, 31, 0, 0),\n",
       " datetime.datetime(2024, 1, 28, 0, 0),\n",
       " datetime.datetime(2022, 10, 31, 0, 0),\n",
       " datetime.datetime(2022, 1, 16, 0, 0),\n",
       " datetime.datetime(2018, 2, 1, 0, 0),\n",
       " datetime.datetime(2022, 8, 22, 0, 0),\n",
       " datetime.datetime(2022, 7, 31, 0, 0),\n",
       " '5-7-2020',\n",
       " datetime.datetime(2022, 1, 1, 0, 0),\n",
       " datetime.datetime(2021, 4, 20, 0, 0),\n",
       " datetime.datetime(2030, 6, 1, 0, 0),\n",
       " datetime.datetime(2027, 12, 1, 0, 0),\n",
       " datetime.datetime(2024, 4, 1, 0, 0),\n",
       " datetime.datetime(2021, 10, 1, 0, 0),\n",
       " ' 6-30-2020',\n",
       " datetime.datetime(2023, 6, 30, 0, 0),\n",
       " datetime.datetime(2023, 4, 3, 0, 0),\n",
       " datetime.datetime(2021, 7, 31, 0, 0),\n",
       " datetime.datetime(2023, 7, 13, 0, 0),\n",
       " datetime.datetime(2022, 1, 7, 0, 0),\n",
       " datetime.datetime(2030, 1, 1, 0, 0),\n",
       " datetime.datetime(2022, 2, 16, 0, 0),\n",
       " datetime.datetime(2021, 12, 26, 0, 0),\n",
       " datetime.datetime(2021, 12, 25, 0, 0),\n",
       " datetime.datetime(2020, 11, 30, 0, 0),\n",
       " datetime.datetime(2021, 12, 23, 0, 0),\n",
       " datetime.datetime(2023, 6, 25, 0, 0),\n",
       " datetime.datetime(2022, 10, 1, 0, 0),\n",
       " datetime.datetime(2023, 2, 3, 0, 0),\n",
       " datetime.datetime(2022, 2, 8, 0, 0),\n",
       " datetime.datetime(2025, 1, 31, 0, 0),\n",
       " datetime.datetime(2025, 1, 1, 0, 0),\n",
       " 'Jun-26',\n",
       " 'Jun-29',\n",
       " datetime.datetime(2030, 6, 30, 0, 0),\n",
       " datetime.datetime(2031, 6, 30, 0, 0),\n",
       " datetime.datetime(2023, 11, 30, 0, 0),\n",
       " '11-12-2019',\n",
       " datetime.datetime(2022, 10, 9, 0, 0),\n",
       " datetime.datetime(2023, 10, 22, 0, 0),\n",
       " datetime.datetime(2023, 12, 1, 0, 0),\n",
       " datetime.datetime(2024, 1, 21, 0, 0),\n",
       " datetime.datetime(2024, 12, 1, 0, 0),\n",
       " datetime.datetime(2024, 12, 24, 0, 0),\n",
       " datetime.datetime(2025, 12, 1, 0, 0),\n",
       " datetime.datetime(2023, 5, 23, 0, 0),\n",
       " datetime.datetime(2023, 5, 1, 0, 0),\n",
       " datetime.datetime(2023, 12, 23, 0, 0),\n",
       " datetime.datetime(2024, 3, 1, 0, 0),\n",
       " datetime.datetime(2024, 6, 1, 0, 0),\n",
       " datetime.datetime(2021, 12, 6, 0, 0),\n",
       " datetime.datetime(2026, 12, 1, 0, 0),\n",
       " datetime.datetime(2021, 4, 30, 0, 0),\n",
       " 'Deallocated',\n",
       " datetime.datetime(2021, 1, 29, 0, 0),\n",
       " datetime.datetime(2022, 11, 30, 0, 0),\n",
       " 'Jun-28',\n",
       " datetime.datetime(2026, 2, 12, 0, 0),\n",
       " datetime.datetime(2022, 6, 27, 0, 0),\n",
       " datetime.datetime(2022, 11, 13, 0, 0),\n",
       " 'Jun-25',\n",
       " datetime.datetime(2024, 1, 13, 0, 0),\n",
       " datetime.datetime(2024, 12, 31, 0, 0),\n",
       " datetime.datetime(2022, 12, 27, 0, 0),\n",
       " datetime.datetime(2023, 8, 11, 0, 0),\n",
       " '1-31-2020',\n",
       " datetime.datetime(2021, 8, 16, 0, 0),\n",
       " datetime.datetime(2023, 7, 1, 0, 0),\n",
       " datetime.datetime(2023, 5, 4, 0, 0),\n",
       " datetime.datetime(2025, 9, 30, 0, 0),\n",
       " datetime.datetime(2021, 12, 1, 0, 0),\n",
       " datetime.datetime(2022, 6, 25, 0, 0),\n",
       " datetime.datetime(2024, 3, 30, 0, 0),\n",
       " datetime.datetime(2026, 1, 1, 0, 0),\n",
       " '',\n",
       " '8-30-2020',\n",
       " datetime.datetime(2027, 12, 31, 0, 0),\n",
       " 'Jun-23',\n",
       " datetime.datetime(2024, 10, 30, 0, 0),\n",
       " datetime.datetime(2022, 4, 24, 0, 0),\n",
       " datetime.datetime(2023, 8, 12, 0, 0),\n",
       " datetime.datetime(2025, 6, 30, 0, 0),\n",
       " datetime.datetime(2022, 2, 28, 0, 0),\n",
       " datetime.datetime(2026, 11, 1, 0, 0),\n",
       " datetime.datetime(2026, 1, 31, 0, 0),\n",
       " 'Jun-27',\n",
       " datetime.datetime(2026, 12, 31, 0, 0),\n",
       " datetime.datetime(2025, 12, 31, 0, 0),\n",
       " 'Jan-25',\n",
       " datetime.datetime(2025, 3, 1, 0, 0),\n",
       " '6-30-202112-31-2021',\n",
       " datetime.datetime(2025, 6, 1, 0, 0)]"
      ]
     },
     "execution_count": 23,
     "metadata": {},
     "output_type": "execute_result"
    }
   ],
   "source": [
    "df_allocation.Completion_Date.unique().tolist()"
   ]
  },
  {
   "cell_type": "code",
   "execution_count": 24,
   "id": "2b415e74-b031-47c4-9eda-de2c62406f9e",
   "metadata": {
    "scrolled": true,
    "tags": []
   },
   "outputs": [],
   "source": [
    "#cleaning up completion dates\n",
    "df_allocation[\"Completion_Date\"].replace({ \n",
    "    'June 24. 2024': '2024-06-01 00:00:00',  \n",
    "    '11/21/2024\\n7/30/2025 (Q4)': '2024-11-21 00:00:00', \n",
    "    'Jun-26': '2026-01-01 00:00:00', \n",
    "     'Jun-29': '2029-06-01 00:00:00',\n",
    "    'Complete\\n11/12/2019': '2019-11-12 00:00:00' , \n",
    "    'Deallocated': '', \n",
    "    'Jun-28': '2028-06-01 00:00:00',  \n",
    "    'Jun-25': '2025-06-01 00:00:00', \n",
    "    'Jun-23':'2023-06-01 00:00:00', \n",
    "    'Jun-27': '2027-06-01 00:00:00',\n",
    "    'Jan-25': '2025-01-01 00:00:00',\n",
    "    '11-21-20247-30-2025 (Q4)':'2025-07-30 00:00:00',\n",
    "    '6-30-202112-31-2021': '2021-12-31 00:00:00',\n",
    "    '6-1-2019': '2019-06-01 00:00:00',\n",
    "    '2-11-2018': '2018-02-11 00:00:00',\n",
    "     '6-30-2020': '2020-06-30 00:00:00',\n",
    "    ' 6-30-2018': '2018-06-30 00:00:00',\n",
    "     '6-29-2020': '2020-06-29 00:00:00',\n",
    "     '11-1-2019': '2019-11-01 00:00:00',\n",
    "     ' 12-10-2018': '2018-12-10 00:00:00',\n",
    "     ' 11-13-2019': '2019-11-13 00:00:00',\n",
    "     '3-30-2020':'2020-03-30 00:00:00',\n",
    "    ' 6-30-2020': '2020-06-30 00:00:00',\n",
    "    '11-12-2019': '2019-11-12 00:00:00',\n",
    "    '1-31-2020': '2020-01-31 00:00:00',\n",
    "    '8-30-2020': '2020-08-30 00:00:00',\n",
    "    '5-16-2020': '2020,05-16 00:00:00',\n",
    "     '5-7-2020': '2020-05-07 00:00:00'}, inplace =True)"
   ]
  },
  {
   "cell_type": "code",
   "execution_count": 25,
   "id": "3c9e663d-5047-4780-8264-f6e5c38b99f3",
   "metadata": {},
   "outputs": [],
   "source": [
    "#cleaning up 3rd Party dates\n",
    "df_allocation[\"Third_Party_Award_Date\"].replace({ \n",
    "'Augsut 12, 2021': '2021-08-12 00:00:00',\n",
    "'43435': '2018-12-01 00:00:00',\n",
    "'07-29-2020': '2020-07-29 00:00:00',\n",
    "'43497' : '2019-02-01 00:00:00',\n",
    "'TBD 6-24-2021' : 'TBD',\n",
    "'TBD 6-30-2022' : 'TBD'\n",
    "}, inplace =True)"
   ]
  },
  {
   "cell_type": "code",
   "execution_count": 26,
   "id": "871f7bd8-4451-4d82-b00b-96d960785927",
   "metadata": {},
   "outputs": [],
   "source": [
    "df_allocation = df_allocation.assign(\n",
    "    Third_Party_Award_Date_New = pd.to_datetime(df_allocation.Third_Party_Award_Date, errors=\"coerce\").dt.date,\n",
    "    Allocation_Date_New = pd.to_datetime(df_allocation.Allocation_Date, errors=\"coerce\").dt.date,\n",
    "    Completion_Date_New = pd.to_datetime(df_allocation.Completion_Date, errors=\"coerce\").dt.date\n",
    ")"
   ]
  },
  {
   "cell_type": "code",
   "execution_count": 27,
   "id": "54185132-ab5b-4d5a-8fbf-b77c51b14a92",
   "metadata": {},
   "outputs": [
    {
     "data": {
      "text/plain": [
       "Award_Year                     int64\n",
       "Award_Recipient               object\n",
       "Implementing_Agency           object\n",
       "Phase                         object\n",
       "Allocation_Date               object\n",
       "Completion_Date               object\n",
       "Third_Party_Award_Date        object\n",
       "PPNO                          object\n",
       "PPNO_New2                     object\n",
       "Third_Party_Award_Date_New    object\n",
       "Allocation_Date_New           object\n",
       "Completion_Date_New           object\n",
       "dtype: object"
      ]
     },
     "execution_count": 27,
     "metadata": {},
     "output_type": "execute_result"
    }
   ],
   "source": [
    "df_allocation.dtypes"
   ]
  },
  {
   "cell_type": "code",
   "execution_count": 28,
   "id": "47f5e746-7c29-415e-8fe2-cdafcc74ac8a",
   "metadata": {},
   "outputs": [
    {
     "data": {
      "text/plain": [
       "Award_Year                      0\n",
       "Award_Recipient                 0\n",
       "Implementing_Agency             0\n",
       "Phase                           1\n",
       "Allocation_Date                 0\n",
       "Completion_Date                 0\n",
       "Third_Party_Award_Date          0\n",
       "PPNO                            0\n",
       "PPNO_New2                     292\n",
       "Third_Party_Award_Date_New    145\n",
       "Allocation_Date_New            83\n",
       "Completion_Date_New            83\n",
       "dtype: int64"
      ]
     },
     "execution_count": 28,
     "metadata": {},
     "output_type": "execute_result"
    }
   ],
   "source": [
    "#checking for nas\n",
    "df_allocation.isna().sum()"
   ]
  },
  {
   "cell_type": "markdown",
   "id": "af1de5bc-2acd-4e6c-80f4-85449cd9279b",
   "metadata": {},
   "source": [
    "## Final CSV Version"
   ]
  },
  {
   "cell_type": "code",
   "execution_count": 29,
   "id": "07c5f978-e479-4a65-a82a-e521ddb1af9f",
   "metadata": {},
   "outputs": [],
   "source": [
    "#drop old column\n",
    "#df_allocation = df_allocation.drop(['PPNO_New2','Allocation_Date','Completion_Date','Third_Party_Award_Date'], axis=1)\n",
    "#df_allocation = df_allocation.rename(columns = {'Allocation_Date_New':'Allocation_Date', 'Completion_Date_New':'Completion_Date', 'Third_Party_Award_Date_New':'Third_Party_Award_Date'})"
   ]
  },
  {
   "cell_type": "code",
   "execution_count": 30,
   "id": "dc92be02-bc5d-470b-8d4c-d398b610b225",
   "metadata": {},
   "outputs": [],
   "source": [
    "#df_allocation.to_csv(\"./final_df_allocation.csv\", index= False)"
   ]
  },
  {
   "cell_type": "markdown",
   "id": "9f323787-b691-45cb-b95e-58329f644480",
   "metadata": {},
   "source": [
    "# Cleaning Project Sheet\n",
    "\n"
   ]
  },
  {
   "cell_type": "code",
   "execution_count": 31,
   "id": "d133db21-3752-460b-a42f-00cc548bccaf",
   "metadata": {},
   "outputs": [
    {
     "data": {
      "text/plain": [
       "Index(['Award_Year', 'Project_#', 'Local_Agency', 'Project_Title', 'PPNO',\n",
       "       'Key_Project_Elements', 'TIRCP_Award_Amount_($)', 'Allocated_Amount',\n",
       "       'Expended_Amount'],\n",
       "      dtype='object')"
      ]
     },
     "execution_count": 31,
     "metadata": {},
     "output_type": "execute_result"
    }
   ],
   "source": [
    "df_project.columns"
   ]
  },
  {
   "cell_type": "markdown",
   "id": "970b5f71-401e-42dd-a7a5-e3d2cc657382",
   "metadata": {},
   "source": [
    "## Filling NA for TIRCP, Allocated, and Expended Amounts"
   ]
  },
  {
   "cell_type": "code",
   "execution_count": 32,
   "id": "687150e8-15f8-4624-978a-f9f3a4a250de",
   "metadata": {},
   "outputs": [
    {
     "name": "stderr",
     "output_type": "stream",
     "text": [
      "/opt/conda/lib/python3.9/site-packages/pandas/core/frame.py:3641: SettingWithCopyWarning: \n",
      "A value is trying to be set on a copy of a slice from a DataFrame.\n",
      "Try using .loc[row_indexer,col_indexer] = value instead\n",
      "\n",
      "See the caveats in the documentation: https://pandas.pydata.org/pandas-docs/stable/user_guide/indexing.html#returning-a-view-versus-a-copy\n",
      "  self[k1] = value[k2]\n"
     ]
    }
   ],
   "source": [
    "df_project[['TIRCP_Award_Amount_($)', 'Allocated_Amount','Expended_Amount']] = df_project[['TIRCP_Award_Amount_($)', 'Allocated_Amount', 'Expended_Amount']].fillna(value=0)"
   ]
  },
  {
   "cell_type": "markdown",
   "id": "e238629d-6831-42d1-8add-c3e10555ed30",
   "metadata": {
    "tags": []
   },
   "source": [
    "## Cleaning up PPNO Numbers based on Allocation Sheet"
   ]
  },
  {
   "cell_type": "code",
   "execution_count": 33,
   "id": "40ce6a99-7803-4afb-b1f1-98c0a055f85a",
   "metadata": {},
   "outputs": [],
   "source": [
    "#slicing PPNO to be 5 characters\n",
    "df_project = df_project.assign(PPNO_New = df_project['PPNO'].str.slice(start=0, stop=5)) "
   ]
  },
  {
   "cell_type": "code",
   "execution_count": 34,
   "id": "2346df5d-4202-443f-a8a6-ab1549f76137",
   "metadata": {},
   "outputs": [],
   "source": [
    "#importing Excel crosswalk sheet\n",
    "project_ppno = pd.read_excel(open('Projects_PPNO.xlsx','rb')) "
   ]
  },
  {
   "cell_type": "code",
   "execution_count": 35,
   "id": "e36ba00e-ec8a-4aa5-94ac-9dd81723cfbb",
   "metadata": {},
   "outputs": [],
   "source": [
    "#Merge in Crosswalk \n",
    "df_project2 = pd.merge(df_project, project_ppno, on = [\"Award_Year\", \"Local_Agency\"], how = \"left\")"
   ]
  },
  {
   "cell_type": "code",
   "execution_count": 36,
   "id": "c8397382-0f28-4c00-b0ad-3e6451794601",
   "metadata": {},
   "outputs": [],
   "source": [
    "#some values in PPNO and PPNO_New2 are strings, some are floats...so have to convert PPNO New 2 to strings\n",
    "df_project2.PPNO_New = df_project2.apply(lambda x: x.PPNO_New if (str(x.PPNO_New2) == 'nan') else x.PPNO_New2, axis=1)"
   ]
  },
  {
   "cell_type": "code",
   "execution_count": 37,
   "id": "511ebeb5-7850-4824-8711-1b5e9b16dbff",
   "metadata": {},
   "outputs": [],
   "source": [
    "#making sure PPNO_New is a string \n",
    "df_project2 = df_project2.astype({'PPNO_New': 'str'})"
   ]
  },
  {
   "cell_type": "code",
   "execution_count": 38,
   "id": "e15b679e-ad35-439f-bcd0-12aff1592c98",
   "metadata": {
    "scrolled": true,
    "tags": []
   },
   "outputs": [],
   "source": [
    "PPNO_project = set(df_project2.PPNO_New.unique().tolist())\n",
    "PPNO_allocation = set(df_allocation.PPNO.unique().tolist())"
   ]
  },
  {
   "cell_type": "code",
   "execution_count": 39,
   "id": "912e587b-f7e3-43bc-a6f0-22cc386884a7",
   "metadata": {
    "scrolled": true,
    "tags": []
   },
   "outputs": [
    {
     "data": {
      "text/plain": [
       "{'1155',\n",
       " '1230',\n",
       " '2320B',\n",
       " 'CP001',\n",
       " 'CP002',\n",
       " 'CP003',\n",
       " 'CP004',\n",
       " 'CP005',\n",
       " 'CP006',\n",
       " 'CP007',\n",
       " 'CP008',\n",
       " 'CP010',\n",
       " 'CP011',\n",
       " 'CP012',\n",
       " 'CP013',\n",
       " 'CP014',\n",
       " 'CP015',\n",
       " 'CP016',\n",
       " 'CP017',\n",
       " 'CP019',\n",
       " 'CP020',\n",
       " 'CP021',\n",
       " 'CP022',\n",
       " 'CP023',\n",
       " 'CP025',\n",
       " 'CP026',\n",
       " 'CP027',\n",
       " 'CP028',\n",
       " 'CP029',\n",
       " 'CP030',\n",
       " 'CP031',\n",
       " 'CP032',\n",
       " 'CP033',\n",
       " 'CP034',\n",
       " 'CP035',\n",
       " 'CP036',\n",
       " 'CP039',\n",
       " 'CP041',\n",
       " 'CP045',\n",
       " 'CP046',\n",
       " 'CP047',\n",
       " 'CP048',\n",
       " 'CP051',\n",
       " 'CP053',\n",
       " 'CP054',\n",
       " 'CP055',\n",
       " 'CP057',\n",
       " 'CP058',\n",
       " 'CP059',\n",
       " 'CP060',\n",
       " 'CP061',\n",
       " 'CP062',\n",
       " 'CP063',\n",
       " 'CP064',\n",
       " 'CP065',\n",
       " 'CP066',\n",
       " 'CP067',\n",
       " 'CP068',\n",
       " 'CP069',\n",
       " 'CP070',\n",
       " 'CP071',\n",
       " 'CP072',\n",
       " 'CP073',\n",
       " 'CP074',\n",
       " 'CP075',\n",
       " 'CP076',\n",
       " 'CP077',\n",
       " 'CP078',\n",
       " 'CP079',\n",
       " 'CP080'}"
      ]
     },
     "execution_count": 39,
     "metadata": {},
     "output_type": "execute_result"
    }
   ],
   "source": [
    "PPNO_project #looking at list"
   ]
  },
  {
   "cell_type": "code",
   "execution_count": 40,
   "id": "077649c8-65f6-4b01-b280-cf89bf8304e2",
   "metadata": {
    "scrolled": true,
    "tags": []
   },
   "outputs": [
    {
     "data": {
      "text/plain": [
       "{'1155',\n",
       " '1230',\n",
       " '2320B',\n",
       " 'CP001',\n",
       " 'CP002',\n",
       " 'CP003',\n",
       " 'CP004',\n",
       " 'CP005',\n",
       " 'CP006',\n",
       " 'CP007',\n",
       " 'CP008',\n",
       " 'CP010',\n",
       " 'CP011',\n",
       " 'CP012',\n",
       " 'CP013',\n",
       " 'CP014',\n",
       " 'CP015',\n",
       " 'CP016',\n",
       " 'CP017',\n",
       " 'CP018',\n",
       " 'CP019',\n",
       " 'CP020',\n",
       " 'CP021',\n",
       " 'CP022',\n",
       " 'CP023',\n",
       " 'CP024',\n",
       " 'CP025',\n",
       " 'CP026',\n",
       " 'CP027',\n",
       " 'CP028',\n",
       " 'CP029',\n",
       " 'CP030',\n",
       " 'CP031',\n",
       " 'CP032',\n",
       " 'CP033',\n",
       " 'CP034',\n",
       " 'CP035',\n",
       " 'CP036',\n",
       " 'CP039',\n",
       " 'CP041',\n",
       " 'CP042',\n",
       " 'CP043',\n",
       " 'CP045',\n",
       " 'CP046',\n",
       " 'CP047',\n",
       " 'CP048',\n",
       " 'CP051',\n",
       " 'CP053',\n",
       " 'CP054',\n",
       " 'CP055',\n",
       " 'CP057',\n",
       " 'CP058',\n",
       " 'CP059',\n",
       " 'CP060',\n",
       " 'CP061',\n",
       " 'CP062',\n",
       " 'CP063',\n",
       " 'CP064',\n",
       " 'CP065',\n",
       " 'CP066',\n",
       " 'CP067',\n",
       " 'CP068',\n",
       " 'CP069',\n",
       " 'CP070',\n",
       " 'CP071',\n",
       " 'CP072',\n",
       " 'CP073',\n",
       " 'CP074',\n",
       " 'CP075',\n",
       " 'CP076',\n",
       " 'CP077',\n",
       " 'CP078',\n",
       " 'CP079',\n",
       " 'CP080'}"
      ]
     },
     "execution_count": 40,
     "metadata": {},
     "output_type": "execute_result"
    }
   ],
   "source": [
    "PPNO_allocation #looking at list"
   ]
  },
  {
   "cell_type": "code",
   "execution_count": 41,
   "id": "d9c6c1a5-afd3-405f-b28e-2e1eda7dd1f0",
   "metadata": {
    "scrolled": true,
    "tags": []
   },
   "outputs": [
    {
     "data": {
      "text/plain": [
       "set()"
      ]
     },
     "execution_count": 41,
     "metadata": {},
     "output_type": "execute_result"
    }
   ],
   "source": [
    "PPNO_project - PPNO_allocation #checking for differences"
   ]
  },
  {
   "cell_type": "markdown",
   "id": "65d6571a-aa68-40f4-8189-3d995a813a34",
   "metadata": {},
   "source": [
    "## Cleaning up Award Recipients\n",
    "- Matching up Award Recipient in allocation sheet & Local Agency in projects sheet\n",
    "    - Using Allocation as the \"source of truth\" data set for the agencies who received the awards \n",
    "    - [Stack Overflow Ref](https://stackoverflow.com/questions/61811137/based-on-partial-string-match-fill-one-data-frame-column-from-another-dataframe)\n",
    "    "
   ]
  },
  {
   "cell_type": "code",
   "execution_count": 42,
   "id": "23f22677-a6a2-43c7-a571-7a577a748b09",
   "metadata": {},
   "outputs": [],
   "source": [
    "#make sure these are strings\n",
    "df_project2 = df_project2.astype({'Local_Agency': 'str'})\n",
    "df_allocation = df_allocation.astype({'Award_Recipient': 'str'})\n"
   ]
  },
  {
   "cell_type": "code",
   "execution_count": 43,
   "id": "c5498f24-92e0-4d26-916d-0791b4afdaa1",
   "metadata": {
    "scrolled": true,
    "tags": []
   },
   "outputs": [
    {
     "data": {
      "text/plain": [
       "['Antelope Valley Transit Authority ',\n",
       " 'Capitol Corridor Joint Powers Authority',\n",
       " 'Los Angeles County Metropolitan Transportation Authority',\n",
       " 'Los Angeles-San Diego-San Luis Obispo Rail Corridor Agency (LOSSAN)',\n",
       " 'Monterey-Salinas Transit',\n",
       " 'Orange County Transportation Authority (OCTA)',\n",
       " 'Sacramento Regional Transit District',\n",
       " 'San Diego Association of Governments (SANDAG)',\n",
       " 'San Diego Metropolitan Transit System (MTS)',\n",
       " 'San Francisco Municipal Transportation Agency',\n",
       " 'San Joaquin Regional Rail Commission',\n",
       " 'San Joaquin Regional Transit District',\n",
       " 'Southern California Regional Rail Authority (Metrolink)',\n",
       " 'Sonoma-Marin Area Rail Transit District',\n",
       " 'Capitol Corridor Joint Powers Authority ',\n",
       " 'Foothill Transit',\n",
       " 'City of Fresno',\n",
       " 'Peninsula Corridor Joint Powers Board ',\n",
       " 'San Bernardino County Transportation Authority (SBCTA)',\n",
       " 'Santa Clara Valley Transportation Authority',\n",
       " 'Alameda Contra Costa Transit District ',\n",
       " 'Anaheim Transportation Network (ATN)',\n",
       " 'Antelope Valley Transit Authority & Long Beach Transit',\n",
       " 'Bay Area Rapid Transit District',\n",
       " 'City of Los Angeles ',\n",
       " 'City of Santa Monica',\n",
       " 'Livermore Amador Valley Transit Authority',\n",
       " 'Los Angeles County Metropolitan Transportation Authority ',\n",
       " 'Sacramento Regional Transit District ',\n",
       " 'San Joaquin Joint Powers Authority and San Joaquin Regional Rail Commission',\n",
       " 'San Mateo County Transit District',\n",
       " 'Santa Barbara County Association of Governments',\n",
       " 'Shasta Regional Transportation Agency',\n",
       " 'Solano Transportation Authority',\n",
       " 'Southern California Regional Rail Authority',\n",
       " 'Transportation Agency for Monterey County',\n",
       " 'Antelope Valley Transit Authority',\n",
       " 'City of Inglewood',\n",
       " 'Lake Transit Authority',\n",
       " 'Long Beach Transit ',\n",
       " 'Los Angeles County Metropolitan Transportation Authority and Southern California Regional Rail Authority',\n",
       " 'San Bernardino County Transportation Authority (SBCTA) and Omnitrans',\n",
       " 'Torrance Transit Department',\n",
       " 'Transit Joint Powers Authority for Merced County',\n",
       " 'San Francisco Bay Area Water Emergency Transportation Authority']"
      ]
     },
     "execution_count": 43,
     "metadata": {},
     "output_type": "execute_result"
    }
   ],
   "source": [
    "#using allocation as the \"source of truth\" data set for the agencies who received the awards \n",
    "allocation_agencies = df_allocation.Award_Recipient.unique().tolist()\n",
    "allocation_agencies"
   ]
  },
  {
   "cell_type": "code",
   "execution_count": 44,
   "id": "9edcce46-872c-4b0c-a645-305fa97d7401",
   "metadata": {},
   "outputs": [],
   "source": [
    "#stack overflow method\n",
    "df_project2['Award_Recipient'] = df_project2['Local_Agency'].apply(lambda x: ''.join([part for part in allocation_agencies if part in x]))"
   ]
  },
  {
   "cell_type": "code",
   "execution_count": 45,
   "id": "6e6f9a88-6b40-4ce6-bf8f-0a49bb410ff4",
   "metadata": {},
   "outputs": [
    {
     "data": {
      "text/html": [
       "<div>\n",
       "<style scoped>\n",
       "    .dataframe tbody tr th:only-of-type {\n",
       "        vertical-align: middle;\n",
       "    }\n",
       "\n",
       "    .dataframe tbody tr th {\n",
       "        vertical-align: top;\n",
       "    }\n",
       "\n",
       "    .dataframe thead th {\n",
       "        text-align: right;\n",
       "    }\n",
       "</style>\n",
       "<table border=\"1\" class=\"dataframe\">\n",
       "  <thead>\n",
       "    <tr style=\"text-align: right;\">\n",
       "      <th></th>\n",
       "      <th>Award_Year</th>\n",
       "      <th>Project_#</th>\n",
       "      <th>Local_Agency</th>\n",
       "      <th>Project_Title</th>\n",
       "      <th>PPNO</th>\n",
       "      <th>Key_Project_Elements</th>\n",
       "      <th>TIRCP_Award_Amount_($)</th>\n",
       "      <th>Allocated_Amount</th>\n",
       "      <th>Expended_Amount</th>\n",
       "      <th>PPNO_New</th>\n",
       "      <th>PPNO_New2</th>\n",
       "      <th>Award_Recipient</th>\n",
       "    </tr>\n",
       "  </thead>\n",
       "  <tbody>\n",
       "    <tr>\n",
       "      <th>0</th>\n",
       "      <td>2015</td>\n",
       "      <td>1</td>\n",
       "      <td>Antelope Valley Transit Authority (AVTA)</td>\n",
       "      <td>Regional Transit Interconnectivity &amp; Environme...</td>\n",
       "      <td>CP005</td>\n",
       "      <td>Purchase 13 60-foot articulated BRT buses and ...</td>\n",
       "      <td>24403000.0</td>\n",
       "      <td>24403000</td>\n",
       "      <td>21714177.53</td>\n",
       "      <td>CP005</td>\n",
       "      <td>NaN</td>\n",
       "      <td>Antelope Valley Transit Authority Antelope Val...</td>\n",
       "    </tr>\n",
       "    <tr>\n",
       "      <th>1</th>\n",
       "      <td>2015</td>\n",
       "      <td>2</td>\n",
       "      <td>Capitol Corridor Joint Powers Authority</td>\n",
       "      <td>Travel Time Reduction Project</td>\n",
       "      <td>CP012</td>\n",
       "      <td>Track and curve improvements between San Jose ...</td>\n",
       "      <td>4620000.0</td>\n",
       "      <td>4620000</td>\n",
       "      <td>4619999.90</td>\n",
       "      <td>CP012</td>\n",
       "      <td>NaN</td>\n",
       "      <td>Capitol Corridor Joint Powers Authority</td>\n",
       "    </tr>\n",
       "  </tbody>\n",
       "</table>\n",
       "</div>"
      ],
      "text/plain": [
       "   Award_Year  Project_#                              Local_Agency  \\\n",
       "0        2015          1  Antelope Valley Transit Authority (AVTA)   \n",
       "1        2015          2   Capitol Corridor Joint Powers Authority   \n",
       "\n",
       "                                       Project_Title   PPNO  \\\n",
       "0  Regional Transit Interconnectivity & Environme...  CP005   \n",
       "1                      Travel Time Reduction Project  CP012   \n",
       "\n",
       "                                Key_Project_Elements  TIRCP_Award_Amount_($)  \\\n",
       "0  Purchase 13 60-foot articulated BRT buses and ...              24403000.0   \n",
       "1  Track and curve improvements between San Jose ...               4620000.0   \n",
       "\n",
       "   Allocated_Amount  Expended_Amount PPNO_New PPNO_New2  \\\n",
       "0          24403000      21714177.53    CP005       NaN   \n",
       "1           4620000       4619999.90    CP012       NaN   \n",
       "\n",
       "                                     Award_Recipient  \n",
       "0  Antelope Valley Transit Authority Antelope Val...  \n",
       "1            Capitol Corridor Joint Powers Authority  "
      ]
     },
     "execution_count": 45,
     "metadata": {},
     "output_type": "execute_result"
    }
   ],
   "source": [
    "df_project2.head(2)"
   ]
  },
  {
   "cell_type": "code",
   "execution_count": 46,
   "id": "439a0929-d828-4505-8652-3b7bb5947f41",
   "metadata": {},
   "outputs": [],
   "source": [
    "# Make use-me_to_rename into dict, so you can map using key!\n",
    "# Standardizes Award Recipient across same PPNO_New values\n",
    "rename_recipients = df_project2[[\"Award_Recipient\", \"PPNO_New\"]].sort_values([\"Award_Recipient\", \"PPNO_New\"]).drop_duplicates(subset=[\"PPNO_New\"])\n"
   ]
  },
  {
   "cell_type": "code",
   "execution_count": 47,
   "id": "52c5c2bd-8fe7-45e3-8409-c0b2167a74ae",
   "metadata": {
    "scrolled": true,
    "tags": []
   },
   "outputs": [],
   "source": [
    "rename_recipients = rename_recipients.set_index('PPNO_New').T.to_dict('list')"
   ]
  },
  {
   "cell_type": "code",
   "execution_count": 48,
   "id": "0309b381-a1fa-4fba-b604-6f2578eafd8e",
   "metadata": {
    "scrolled": true,
    "tags": []
   },
   "outputs": [
    {
     "data": {
      "text/plain": [
       "{'CP002': [''],\n",
       " 'CP006': [''],\n",
       " 'CP013': [''],\n",
       " 'CP025': [''],\n",
       " 'CP026': [''],\n",
       " 'CP055': [''],\n",
       " 'CP065': [''],\n",
       " 'CP071': [''],\n",
       " 'CP074': [''],\n",
       " '2320B': ['Alameda Contra Costa Transit District '],\n",
       " 'CP027': ['Anaheim Transportation Network (ATN)'],\n",
       " 'CP005': ['Antelope Valley Transit Authority Antelope Valley Transit Authority'],\n",
       " 'CP019': ['Antelope Valley Transit Authority Antelope Valley Transit Authority'],\n",
       " 'CP028': ['Antelope Valley Transit Authority Antelope Valley Transit Authority'],\n",
       " 'CP059': ['Antelope Valley Transit Authority Antelope Valley Transit Authority'],\n",
       " 'CP060': ['Bay Area Rapid Transit District'],\n",
       " 'CP012': ['Capitol Corridor Joint Powers Authority'],\n",
       " 'CP023': ['Capitol Corridor Joint Powers Authority'],\n",
       " 'CP061': ['Capitol Corridor Joint Powers Authority'],\n",
       " 'CP036': ['Capitol Corridor Joint Powers AuthorityCapitol Corridor Joint Powers Authority '],\n",
       " 'CP016': ['City of Fresno'],\n",
       " 'CP079': ['City of Fresno'],\n",
       " 'CP062': ['City of Inglewood'],\n",
       " 'CP029': ['City of Los Angeles '],\n",
       " 'CP054': ['City of Santa Monica'],\n",
       " 'CP076': ['Foothill Transit'],\n",
       " 'CP063': ['Lake Transit Authority'],\n",
       " 'CP051': ['Livermore Amador Valley Transit Authority'],\n",
       " 'CP064': ['Long Beach Transit '],\n",
       " 'CP015': ['Los Angeles County Metropolitan Transportation Authority'],\n",
       " 'CP020': ['Los Angeles County Metropolitan Transportation Authority'],\n",
       " 'CP058': ['Los Angeles County Metropolitan Transportation Authority'],\n",
       " 'CP030': ['Los Angeles County Metropolitan Transportation AuthorityLos Angeles County Metropolitan Transportation Authority '],\n",
       " 'CP007': ['Los Angeles-San Diego-San Luis Obispo Rail Corridor Agency (LOSSAN)'],\n",
       " 'CP031': ['Los Angeles-San Diego-San Luis Obispo Rail Corridor Agency (LOSSAN)'],\n",
       " 'CP066': ['Los Angeles-San Diego-San Luis Obispo Rail Corridor Agency (LOSSAN)'],\n",
       " 'CP004': ['Orange County Transportation Authority (OCTA)'],\n",
       " 'CP017': ['Orange County Transportation Authority (OCTA)'],\n",
       " 'CP022': ['Peninsula Corridor Joint Powers Board '],\n",
       " 'CP039': ['Peninsula Corridor Joint Powers Board '],\n",
       " 'CP001': ['Sacramento Regional Transit DistrictSacramento Regional Transit District '],\n",
       " 'CP053': ['Sacramento Regional Transit DistrictSacramento Regional Transit District '],\n",
       " 'CP067': ['Sacramento Regional Transit DistrictSacramento Regional Transit District '],\n",
       " 'CP080': ['Sacramento Regional Transit DistrictSacramento Regional Transit District '],\n",
       " '1230': ['San Bernardino County Transportation Authority (SBCTA)'],\n",
       " 'CP034': ['San Bernardino County Transportation Authority (SBCTA)'],\n",
       " 'CP068': ['San Bernardino County Transportation Authority (SBCTA)'],\n",
       " 'CP003': ['San Diego Association of Governments (SANDAG)'],\n",
       " 'CP021': ['San Diego Association of Governments (SANDAG)'],\n",
       " 'CP069': ['San Diego Association of Governments (SANDAG)'],\n",
       " 'CP077': ['San Diego Association of Governments (SANDAG)'],\n",
       " 'CP008': ['San Diego Metropolitan Transit System (MTS)'],\n",
       " 'CP032': ['San Diego Metropolitan Transit System (MTS)'],\n",
       " 'CP075': ['San Francisco Bay Area Water Emergency Transportation Authority'],\n",
       " 'CP070': ['San Francisco Municipal Transportation Agency'],\n",
       " 'CP014': ['San Joaquin Regional Rail Commission'],\n",
       " 'CP035': ['San Joaquin Regional Rail Commission'],\n",
       " 'CP011': ['San Joaquin Regional Transit District'],\n",
       " 'CP078': ['San Mateo County Transit District'],\n",
       " 'CP047': ['Santa Barbara County Association of Governments'],\n",
       " 'CP048': ['Santa Barbara County Association of Governments'],\n",
       " 'CP057': ['Santa Clara Valley Transportation Authority'],\n",
       " 'CP045': ['Shasta Regional Transportation Agency'],\n",
       " 'CP046': ['Solano Transportation Authority'],\n",
       " 'CP072': ['Solano Transportation Authority'],\n",
       " 'CP010': ['Sonoma-Marin Area Rail Transit District'],\n",
       " 'CP041': ['Sonoma-Marin Area Rail Transit District'],\n",
       " 'CP033': ['Southern California Regional Rail Authority'],\n",
       " 'CP073': ['Torrance Transit Department'],\n",
       " '1155': ['Transportation Agency for Monterey County']}"
      ]
     },
     "execution_count": 48,
     "metadata": {},
     "output_type": "execute_result"
    }
   ],
   "source": [
    "rename_recipients"
   ]
  },
  {
   "cell_type": "code",
   "execution_count": 49,
   "id": "8b0a341f-e1bd-4e14-836e-d0b010f701e5",
   "metadata": {},
   "outputs": [],
   "source": [
    "#updating dictionary to address blanks \n",
    "rename_recipients.update({'CP002': 'Southern California Regional Rail Authority (Metrolink)',\n",
    " 'CP006': 'San Francisco Municipal Transportation Agency',\n",
    " 'CP013': 'Monterey-Salinas Transit',\n",
    " 'CP025': 'San Joaquin Regional Rail Commission',\n",
    " 'CP026': 'San Joaquin Regional Rail Commission',\n",
    " 'CP055': 'Bay Area Rapid Transit District',\n",
    " 'CP065': 'Los Angeles County Metropolitan Transportation Authority and Southern California Regional Rail Authority',\n",
    " 'CP071': 'City of Santa Monica',\n",
    " 'CP074': 'Transit Joint Powers Authority for Merced County',\n",
    " 'CP019': 'Antelope Valley Transit Authority & Long Beach Transit',\n",
    " 'CP068': 'San Bernardino County Transportation Authority (SBCTA) & Omnitrans'})"
   ]
  },
  {
   "cell_type": "code",
   "execution_count": 50,
   "id": "d5272a96-1b22-46f3-81e0-dddd81b09e85",
   "metadata": {},
   "outputs": [],
   "source": [
    "df_project2 = df_project2.assign(\n",
    "    Award_Recipient = df_project2.PPNO_New.map(rename_recipients))"
   ]
  },
  {
   "cell_type": "code",
   "execution_count": 51,
   "id": "8812d811-43f3-410b-975b-567d00ba5927",
   "metadata": {},
   "outputs": [],
   "source": [
    "#creating a dictionary for the values that didn't populate\n",
    "crosswalk = {'Monterey-Salinas Transit': 'Monterey-Salinas Transit',\n",
    "             'San Francisco Municipal  Transportation Agency': 'San Francisco Municipal Transportation Agency',\n",
    "            'Southern California  Regional Rail Authority': 'Southern California Regional Rail Authority',\n",
    "            'San Joaquin Regional Rail Commission / San Joaquin Joint Powers Authority':  'San Joaquin Joint Powers Authority and San Joaquin Regional Rail Commission',\n",
    "            'Bay Area Rapid Transit (BART)': 'Bay Area Rapid Transit District',\n",
    "            'LA County Metropolitan Transportation Authority, So Cal Regional Rail Authority (Metrolink)':  'Los Angeles County Metropolitan Transportation Authority and Southern California Regional Rail Authority',\n",
    "            'Santa Monica Big Blue Bus':  'City of Santa Monica',\n",
    "            'Transit Joint Powers Authority of Merced County':  'Transit Joint Powers Authority for Merced County',\n",
    "             'Los Angeles County Metropolitan Transportation AuthorityLos Angeles County Metropolitan Transportation Authority ': 'Los Angeles County Metropolitan Transportation Authority ',\n",
    "             'Antelope Valley Transit Authority Antelope Valley Transit Authority': 'Antelope Valley Transit Authority ',\n",
    "             'Sacramento Regional Transit DistrictSacramento Regional Transit District ': 'Sacramento Regional Transit District',\n",
    "             'Capitol Corridor Joint Powers AuthorityCapitol Corridor Joint Powers Authority ': 'Capitol Corridor Joint Powers Authority',\n",
    "             'San Joaquin Regional\\nRail Commission / San Joaquin Joint Powers Authority': 'San Joaquin Joint Powers Authority and San Joaquin Regional Rail Commission'\n",
    "}"
   ]
  },
  {
   "cell_type": "code",
   "execution_count": 52,
   "id": "644d6e57-a475-4134-bea7-909be2dff37d",
   "metadata": {},
   "outputs": [],
   "source": [
    "#populating\n",
    "df_project2 = df_project2.replace(crosswalk)"
   ]
  },
  {
   "cell_type": "code",
   "execution_count": 53,
   "id": "e75d94d1-c9ac-4260-a028-dc843d1e9efc",
   "metadata": {},
   "outputs": [
    {
     "data": {
      "text/html": [
       "<div>\n",
       "<style scoped>\n",
       "    .dataframe tbody tr th:only-of-type {\n",
       "        vertical-align: middle;\n",
       "    }\n",
       "\n",
       "    .dataframe tbody tr th {\n",
       "        vertical-align: top;\n",
       "    }\n",
       "\n",
       "    .dataframe thead th {\n",
       "        text-align: right;\n",
       "    }\n",
       "</style>\n",
       "<table border=\"1\" class=\"dataframe\">\n",
       "  <thead>\n",
       "    <tr style=\"text-align: right;\">\n",
       "      <th></th>\n",
       "      <th>Award_Year</th>\n",
       "      <th>Project_#</th>\n",
       "      <th>Local_Agency</th>\n",
       "      <th>Project_Title</th>\n",
       "      <th>PPNO</th>\n",
       "      <th>Key_Project_Elements</th>\n",
       "      <th>TIRCP_Award_Amount_($)</th>\n",
       "      <th>Allocated_Amount</th>\n",
       "      <th>Expended_Amount</th>\n",
       "      <th>PPNO_New</th>\n",
       "      <th>PPNO_New2</th>\n",
       "      <th>Award_Recipient</th>\n",
       "    </tr>\n",
       "  </thead>\n",
       "  <tbody>\n",
       "    <tr>\n",
       "      <th>70</th>\n",
       "      <td>2020</td>\n",
       "      <td>14</td>\n",
       "      <td>Solano Transportation Authority</td>\n",
       "      <td>Solano Regional Transit Improvements Phase 2</td>\n",
       "      <td>NaN</td>\n",
       "      <td>Improve the frequency, reliability, and access...</td>\n",
       "      <td>10400000.0</td>\n",
       "      <td>2900000</td>\n",
       "      <td>0.00</td>\n",
       "      <td>CP072</td>\n",
       "      <td>CP072</td>\n",
       "      <td>[Solano Transportation Authority]</td>\n",
       "    </tr>\n",
       "    <tr>\n",
       "      <th>16</th>\n",
       "      <td>2016</td>\n",
       "      <td>3</td>\n",
       "      <td>Foothill Transit</td>\n",
       "      <td>Transforming California: Bus Electrification, ...</td>\n",
       "      <td>CP076</td>\n",
       "      <td>Purchase 2- zero-emission buses to extend Rout...</td>\n",
       "      <td>5000000.0</td>\n",
       "      <td>5000000</td>\n",
       "      <td>0.00</td>\n",
       "      <td>CP076</td>\n",
       "      <td>NaN</td>\n",
       "      <td>[Foothill Transit]</td>\n",
       "    </tr>\n",
       "    <tr>\n",
       "      <th>21</th>\n",
       "      <td>2016</td>\n",
       "      <td>8</td>\n",
       "      <td>Orange County Transportation Authority (OCTA)</td>\n",
       "      <td>OC Streetcar and OCTA System-Wide Mobile Ticke...</td>\n",
       "      <td>CP017</td>\n",
       "      <td>Construct OC Streetcar project connecting Sant...</td>\n",
       "      <td>28000000.0</td>\n",
       "      <td>28000000</td>\n",
       "      <td>0.00</td>\n",
       "      <td>CP017</td>\n",
       "      <td>NaN</td>\n",
       "      <td>[Orange County Transportation Authority (OCTA)]</td>\n",
       "    </tr>\n",
       "    <tr>\n",
       "      <th>54</th>\n",
       "      <td>2018</td>\n",
       "      <td>26</td>\n",
       "      <td>Sonoma-Marin Area Rail Transit District (SMART)</td>\n",
       "      <td>SMART Larkspur to Windsor Corridor</td>\n",
       "      <td>CP041</td>\n",
       "      <td>Completes critical rail segments extending rai...</td>\n",
       "      <td>21000000.0</td>\n",
       "      <td>21000000</td>\n",
       "      <td>11918142.74</td>\n",
       "      <td>CP041</td>\n",
       "      <td>NaN</td>\n",
       "      <td>[Sonoma-Marin Area Rail Transit District]</td>\n",
       "    </tr>\n",
       "    <tr>\n",
       "      <th>11</th>\n",
       "      <td>2015</td>\n",
       "      <td>12</td>\n",
       "      <td>San Joaquin Regional Transit District</td>\n",
       "      <td>Bus Rapid Transit – Martin Luther King Corrido...</td>\n",
       "      <td>CP011</td>\n",
       "      <td>Bus rapid transit infrastructure along the MLK...</td>\n",
       "      <td>6841000.0</td>\n",
       "      <td>6841000</td>\n",
       "      <td>6841000.00</td>\n",
       "      <td>CP011</td>\n",
       "      <td>NaN</td>\n",
       "      <td>[San Joaquin Regional Transit District]</td>\n",
       "    </tr>\n",
       "  </tbody>\n",
       "</table>\n",
       "</div>"
      ],
      "text/plain": [
       "    Award_Year  Project_#                                     Local_Agency  \\\n",
       "70        2020         14                  Solano Transportation Authority   \n",
       "16        2016          3                                 Foothill Transit   \n",
       "21        2016          8    Orange County Transportation Authority (OCTA)   \n",
       "54        2018         26  Sonoma-Marin Area Rail Transit District (SMART)   \n",
       "11        2015         12            San Joaquin Regional Transit District   \n",
       "\n",
       "                                        Project_Title   PPNO  \\\n",
       "70       Solano Regional Transit Improvements Phase 2    NaN   \n",
       "16  Transforming California: Bus Electrification, ...  CP076   \n",
       "21  OC Streetcar and OCTA System-Wide Mobile Ticke...  CP017   \n",
       "54                 SMART Larkspur to Windsor Corridor  CP041   \n",
       "11  Bus Rapid Transit – Martin Luther King Corrido...  CP011   \n",
       "\n",
       "                                 Key_Project_Elements  TIRCP_Award_Amount_($)  \\\n",
       "70  Improve the frequency, reliability, and access...              10400000.0   \n",
       "16  Purchase 2- zero-emission buses to extend Rout...               5000000.0   \n",
       "21  Construct OC Streetcar project connecting Sant...              28000000.0   \n",
       "54  Completes critical rail segments extending rai...              21000000.0   \n",
       "11  Bus rapid transit infrastructure along the MLK...               6841000.0   \n",
       "\n",
       "    Allocated_Amount  Expended_Amount PPNO_New PPNO_New2  \\\n",
       "70           2900000             0.00    CP072     CP072   \n",
       "16           5000000             0.00    CP076       NaN   \n",
       "21          28000000             0.00    CP017       NaN   \n",
       "54          21000000      11918142.74    CP041       NaN   \n",
       "11           6841000       6841000.00    CP011       NaN   \n",
       "\n",
       "                                    Award_Recipient  \n",
       "70                [Solano Transportation Authority]  \n",
       "16                               [Foothill Transit]  \n",
       "21  [Orange County Transportation Authority (OCTA)]  \n",
       "54        [Sonoma-Marin Area Rail Transit District]  \n",
       "11          [San Joaquin Regional Transit District]  "
      ]
     },
     "execution_count": 53,
     "metadata": {},
     "output_type": "execute_result"
    }
   ],
   "source": [
    "df_project2.sample(5)"
   ]
  },
  {
   "cell_type": "code",
   "execution_count": 54,
   "id": "14ff5091-4ff9-4307-90df-63f2a44845cd",
   "metadata": {},
   "outputs": [],
   "source": [
    "df_project2.to_csv(\"./test_df_project.csv\")"
   ]
  },
  {
   "cell_type": "markdown",
   "id": "d82b61f5-d1a2-41ce-aea0-3de0d17e8080",
   "metadata": {},
   "source": [
    "### Double check to make sure award recipient names are the same"
   ]
  },
  {
   "cell_type": "code",
   "execution_count": 55,
   "id": "7cc7988c-c9c8-4568-a146-7d96eb00b8b6",
   "metadata": {},
   "outputs": [],
   "source": [
    "def diff(list1, list2):\n",
    "    c = set(list1).union(set(list2))  \n",
    "    d = set(list1).intersection(set(list2)) \n",
    "    return list(c - d)"
   ]
  },
  {
   "cell_type": "code",
   "execution_count": null,
   "id": "2d769200-82bf-4870-b3f9-3c7290b1cf74",
   "metadata": {},
   "outputs": [],
   "source": []
  },
  {
   "cell_type": "markdown",
   "id": "6d13eec8-e045-45ea-a35a-f19531298742",
   "metadata": {},
   "source": [
    "## Final Version"
   ]
  },
  {
   "cell_type": "code",
   "execution_count": 56,
   "id": "bc25a9c4-cdd6-487c-8408-9d6cd1228d43",
   "metadata": {},
   "outputs": [],
   "source": [
    "#drop old column\n",
    "#df_project2 = df_project2.drop(['PPNO','PPNO_New2'], axis=1)"
   ]
  },
  {
   "cell_type": "code",
   "execution_count": 57,
   "id": "329d1a15-9916-45c9-9ef0-5e7fce154537",
   "metadata": {},
   "outputs": [],
   "source": [
    "#renaming \n",
    "#df_project2 = df_project2.rename(columns = {'PPNO_New':'PPNO'})"
   ]
  },
  {
   "cell_type": "code",
   "execution_count": 58,
   "id": "57a21d5a-21a8-4d92-9029-58b3dfeec7ee",
   "metadata": {},
   "outputs": [],
   "source": [
    "#df_project2.to_csv(\"./final_df_project.csv\", index= False)"
   ]
  }
 ],
 "metadata": {
  "kernelspec": {
   "display_name": "Python 3 (ipykernel)",
   "language": "python",
   "name": "python3"
  },
  "language_info": {
   "codemirror_mode": {
    "name": "ipython",
    "version": 3
   },
   "file_extension": ".py",
   "mimetype": "text/x-python",
   "name": "python",
   "nbconvert_exporter": "python",
   "pygments_lexer": "ipython3",
   "version": "3.9.6"
  },
  "toc-autonumbering": false,
  "toc-showmarkdowntxt": false,
  "toc-showtags": false
 },
 "nbformat": 4,
 "nbformat_minor": 5
}
