{
 "cells": [
  {
   "cell_type": "code",
   "execution_count": 1,
   "id": "dcd66258-d288-4f65-a7e2-5065d0148b16",
   "metadata": {},
   "outputs": [
    {
     "name": "stderr",
     "output_type": "stream",
     "text": [
      "/opt/conda/lib/python3.9/site-packages/geopandas/_compat.py:123: UserWarning: The Shapely GEOS version (3.10.3-CAPI-1.16.1) is incompatible with the GEOS version PyGEOS was compiled with (3.10.1-CAPI-1.16.0). Conversions between both will be slow.\n",
      "  warnings.warn(\n"
     ]
    }
   ],
   "source": [
    "import os\n",
    "os.environ[\"CALITP_BQ_MAX_BYTES\"] = str(1_000_000_000_000) ## 1TB?\n",
    "\n",
    "from siuba import *\n",
    "import pandas as pd\n",
    "import geopandas as gpd\n",
    "import datetime as dt\n",
    "\n",
    "from rt_analysis import rt_parser\n",
    "from rt_analysis import rt_filter_map_plot\n",
    "\n",
    "import shared_utils"
   ]
  },
  {
   "cell_type": "code",
   "execution_count": 2,
   "id": "2e857751-e558-40be-b9a1-2325d3337286",
   "metadata": {},
   "outputs": [],
   "source": [
    "from rt_analysis import sccp_tools\n",
    "import numpy as np"
   ]
  },
  {
   "cell_type": "code",
   "execution_count": 3,
   "id": "f9002041-23d1-40a8-81ac-47a0fc245727",
   "metadata": {},
   "outputs": [],
   "source": [
    "from tqdm.notebook import tqdm"
   ]
  },
  {
   "cell_type": "markdown",
   "id": "0190d051-8208-41a0-aafd-4ca14da4e795",
   "metadata": {},
   "source": [
    "# About the Metrics\n",
    "\n",
    "The schedule-based metric is a daily average of the sum of median trip stop delays along the corridor. To further explain, we take each corridor trip that we have data for and look at the delay in comparison to the schedule at each stop, after subtracting off any delay present as the trip entered the corridor. For each trip we then take the median delay of all stops along the corridor, and sum these medians to create the metric.\n",
    "\n",
    "The speed-based metric is a daily average of the sum of delays for each trip traversing the corridor as compared to a reference speed of 16 miles per houar. To further explain, we take each corridor trip that we have data for and calculate the hypothetical time it would take for that trip to traverse the corridor at a speed of 16 mph. The difference between the actual time it took for the trip to traverse the corridor and that hypothetical time is the speed-based delay for that trip, and we sum those delays to create the metric. This metric is intended to provide a more consistent basis for comparison independent of scheduling practices.\n",
    "\n",
    "In other words, if we expect a hypothetical bus lane/signal priority/payment system etc to increase corridor speeds to 16mph, this is how much time we could save per day.\n",
    "\n",
    "With corridor attached, generate both metrics using `RtFilterMapper.corridor_metrics()`"
   ]
  },
  {
   "cell_type": "markdown",
   "id": "a56cdc3e-95ab-4f42-8fc7-207b6305c5cf",
   "metadata": {},
   "source": [
    "## Common Date Range (2022-23) and convienience function"
   ]
  },
  {
   "cell_type": "code",
   "execution_count": 4,
   "id": "4ce12969-7cd3-4cd7-b760-c6f7826b85e5",
   "metadata": {},
   "outputs": [],
   "source": [
    "date_range = np.arange('2022-04-30', '2022-05-09', dtype='datetime64[D]')"
   ]
  },
  {
   "cell_type": "code",
   "execution_count": 5,
   "id": "80112aa9-16d5-4436-8ebd-0c578efa351e",
   "metadata": {},
   "outputs": [
    {
     "data": {
      "text/plain": [
       "numpy.ndarray"
      ]
     },
     "execution_count": 5,
     "metadata": {},
     "output_type": "execute_result"
    }
   ],
   "source": [
    "type(date_range)"
   ]
  },
  {
   "cell_type": "code",
   "execution_count": 6,
   "id": "744df1ed-20f1-49b9-9de1-1882f026a90c",
   "metadata": {},
   "outputs": [],
   "source": [
    "def generate_export_data(itp_id, date_range, pbar):\n",
    "    for date in date_range:\n",
    "        analysis_date = date.astype(dt.date)\n",
    "        check_ran = shared_utils.rt_utils.get_operators(analysis_date, [itp_id])\n",
    "        if check_ran[itp_id] == 'already_ran':\n",
    "            continue\n",
    "        rt_day = rt_parser.OperatorDayAnalysis(itp_id, analysis_date, pbar)\n",
    "        # don't worry about the CRS not set UserWarning\n",
    "        rt_day.export_views_gcs()"
   ]
  },
  {
   "cell_type": "code",
   "execution_count": 7,
   "id": "e3e6c254-730a-4c3e-81ef-1b61633ebc26",
   "metadata": {},
   "outputs": [
    {
     "data": {
      "application/vnd.jupyter.widget-view+json": {
       "model_id": "7ed7e4f71be1471baa8a00b779657a21",
       "version_major": 2,
       "version_minor": 0
      },
      "text/plain": [
       "0it [00:00, ?it/s]"
      ]
     },
     "metadata": {},
     "output_type": "display_data"
    }
   ],
   "source": [
    "pbar = tqdm()"
   ]
  },
  {
   "cell_type": "code",
   "execution_count": 8,
   "id": "f44286e7-dfd0-4521-bfdc-29192c82093e",
   "metadata": {
    "tags": []
   },
   "outputs": [
    {
     "name": "stdout",
     "output_type": "stream",
     "text": [
      "already ran: 4\n",
      "already ran: 4\n",
      "already ran: 4\n",
      "already ran: 4\n",
      "already ran: 4\n",
      "already ran: 4\n",
      "already ran: 4\n",
      "already ran: 4\n",
      "already ran: 4\n"
     ]
    }
   ],
   "source": [
    "%%capture --no-stdout\n",
    "generate_export_data(4, date_range, pbar)"
   ]
  },
  {
   "cell_type": "markdown",
   "id": "af13c48a-2825-406e-b066-897c7b0a7911",
   "metadata": {},
   "source": [
    "# AC / Lake"
   ]
  },
  {
   "cell_type": "code",
   "execution_count": 7,
   "id": "a98a9208-4023-4205-8088-f68bb560ee3f",
   "metadata": {},
   "outputs": [],
   "source": [
    "# itp_id = 4 ## AC Transit\n",
    "# itp_id = 159 ## Lake Transit"
   ]
  },
  {
   "cell_type": "code",
   "execution_count": 8,
   "id": "08abef6b-da42-45fb-b785-204a5791df19",
   "metadata": {},
   "outputs": [],
   "source": [
    "# corridor = gpd.read_file('./corridors_sccp_lpp/CMCP_StudyAreaBoundary.geojson') ## alameda"
   ]
  },
  {
   "cell_type": "markdown",
   "id": "fb9a2b89-ca81-4763-bbc7-5e51c2251e99",
   "metadata": {},
   "source": [
    "# Samtrans"
   ]
  },
  {
   "cell_type": "code",
   "execution_count": 9,
   "id": "2bf398bb-972e-46a6-ae05-ffe3eb8048d9",
   "metadata": {},
   "outputs": [],
   "source": [
    "# itp_id = 290 # Samtrans"
   ]
  },
  {
   "cell_type": "code",
   "execution_count": 10,
   "id": "4ca4e9c9-e0b0-4ffd-821b-d05493bf2010",
   "metadata": {},
   "outputs": [],
   "source": [
    "# corridor = gpd.read_file('./corridors_sccp_lpp/peninsula.geojson') ## foster city / hayward park"
   ]
  },
  {
   "cell_type": "markdown",
   "id": "3ec413df-faaa-4c63-99e9-92d02e8fe77e",
   "metadata": {},
   "source": [
    "# Metro (Inglewood)"
   ]
  },
  {
   "cell_type": "code",
   "execution_count": 11,
   "id": "d1af16af-0749-4440-8e52-c2829c62732b",
   "metadata": {},
   "outputs": [],
   "source": [
    "# itp_id = 182\n",
    "# corridor = gpd.read_file('./corridors_sccp_lpp/inglewood_map.geojson')"
   ]
  },
  {
   "cell_type": "markdown",
   "id": "7c6f3363-c584-4b43-bcb8-9dc653e46417",
   "metadata": {},
   "source": [
    "# SacRT/SJRTD, post-refactor"
   ]
  },
  {
   "cell_type": "code",
   "execution_count": 12,
   "id": "ea14fc78-e554-4f93-9557-e07a8e6b7e5e",
   "metadata": {},
   "outputs": [
    {
     "data": {
      "application/vnd.jupyter.widget-view+json": {
       "model_id": "7d982887789e453d8e0254ad1f47fae1",
       "version_major": 2,
       "version_minor": 0
      },
      "text/plain": [
       "0it [00:00, ?it/s]"
      ]
     },
     "metadata": {},
     "output_type": "display_data"
    }
   ],
   "source": [
    "pbar = tqdm()"
   ]
  },
  {
   "cell_type": "code",
   "execution_count": 13,
   "id": "3bbdfb63-3af9-4a18-adb4-b7942b368911",
   "metadata": {},
   "outputs": [],
   "source": [
    "sac_rt_itp_id = 273\n",
    "sjrtd_itp_id = 284"
   ]
  },
  {
   "cell_type": "code",
   "execution_count": 14,
   "id": "c90f285c-1db8-4ca3-a731-023ab1e5a1a4",
   "metadata": {},
   "outputs": [],
   "source": [
    "sac_date_range = np.arange('2022-02-05', '2022-02-14', dtype='datetime64[D]')"
   ]
  },
  {
   "cell_type": "code",
   "execution_count": 27,
   "id": "249e074c-bd56-4356-bba7-9fe0b64f87e9",
   "metadata": {
    "collapsed": true,
    "jupyter": {
     "outputs_hidden": true
    },
    "tags": []
   },
   "outputs": [
    {
     "name": "stdout",
     "output_type": "stream",
     "text": [
      "already ran: 273\n",
      "already ran: 273\n",
      "already ran: 273\n",
      "already ran: 273\n",
      "not yet run: 273\n"
     ]
    },
    {
     "ename": "AssertionError",
     "evalue": "no vehicle positions data found for 2022-02-09",
     "output_type": "error",
     "traceback": [
      "\u001b[0;31m---------------------------------------------------------------------------\u001b[0m",
      "\u001b[0;31mAssertionError\u001b[0m                            Traceback (most recent call last)",
      "Cell \u001b[0;32mIn [27], line 1\u001b[0m\n\u001b[0;32m----> 1\u001b[0m \u001b[43mgenerate_export_data\u001b[49m\u001b[43m(\u001b[49m\u001b[43msac_rt_itp_id\u001b[49m\u001b[43m,\u001b[49m\u001b[43m \u001b[49m\u001b[43msac_date_range\u001b[49m\u001b[43m,\u001b[49m\u001b[43m \u001b[49m\u001b[43mpbar\u001b[49m\u001b[43m)\u001b[49m\n",
      "Cell \u001b[0;32mIn [6], line 7\u001b[0m, in \u001b[0;36mgenerate_export_data\u001b[0;34m(itp_id, date_range, pbar)\u001b[0m\n\u001b[1;32m      5\u001b[0m \u001b[38;5;28;01mif\u001b[39;00m check_ran[itp_id] \u001b[38;5;241m==\u001b[39m \u001b[38;5;124m'\u001b[39m\u001b[38;5;124malready_ran\u001b[39m\u001b[38;5;124m'\u001b[39m:\n\u001b[1;32m      6\u001b[0m     \u001b[38;5;28;01mcontinue\u001b[39;00m\n\u001b[0;32m----> 7\u001b[0m rt_day \u001b[38;5;241m=\u001b[39m \u001b[43mrt_parser\u001b[49m\u001b[38;5;241;43m.\u001b[39;49m\u001b[43mOperatorDayAnalysis\u001b[49m\u001b[43m(\u001b[49m\u001b[43mitp_id\u001b[49m\u001b[43m,\u001b[49m\u001b[43m \u001b[49m\u001b[43manalysis_date\u001b[49m\u001b[43m,\u001b[49m\u001b[43m \u001b[49m\u001b[43mpbar\u001b[49m\u001b[43m)\u001b[49m\n\u001b[1;32m      8\u001b[0m \u001b[38;5;66;03m# don't worry about the CRS not set UserWarning\u001b[39;00m\n\u001b[1;32m      9\u001b[0m rt_day\u001b[38;5;241m.\u001b[39mexport_views_gcs()\n",
      "File \u001b[0;32m~/data-analyses/rt_delay/rt_analysis/rt_parser.py:219\u001b[0m, in \u001b[0;36mOperatorDayAnalysis.__init__\u001b[0;34m(self, itp_id, analysis_date, pbar)\u001b[0m\n\u001b[1;32m    217\u001b[0m \u001b[38;5;28mself\u001b[39m\u001b[38;5;241m.\u001b[39manalysis_date \u001b[38;5;241m=\u001b[39m analysis_date\n\u001b[1;32m    218\u001b[0m \u001b[38;5;28mself\u001b[39m\u001b[38;5;241m.\u001b[39mdisplay_date \u001b[38;5;241m=\u001b[39m \u001b[38;5;28mself\u001b[39m\u001b[38;5;241m.\u001b[39manalysis_date\u001b[38;5;241m.\u001b[39mstrftime(\u001b[38;5;124m'\u001b[39m\u001b[38;5;124m%\u001b[39m\u001b[38;5;124mb \u001b[39m\u001b[38;5;132;01m%d\u001b[39;00m\u001b[38;5;124m (\u001b[39m\u001b[38;5;132;01m%a\u001b[39;00m\u001b[38;5;124m)\u001b[39m\u001b[38;5;124m'\u001b[39m)\n\u001b[0;32m--> 219\u001b[0m \u001b[38;5;28mself\u001b[39m\u001b[38;5;241m.\u001b[39mvehicle_positions \u001b[38;5;241m=\u001b[39m \u001b[43mshared_utils\u001b[49m\u001b[38;5;241;43m.\u001b[39;49m\u001b[43mrt_utils\u001b[49m\u001b[38;5;241;43m.\u001b[39;49m\u001b[43mget_vehicle_positions\u001b[49m\u001b[43m(\u001b[49m\u001b[38;5;28;43mself\u001b[39;49m\u001b[38;5;241;43m.\u001b[39;49m\u001b[43mcalitp_itp_id\u001b[49m\u001b[43m,\u001b[49m\u001b[43m \u001b[49m\u001b[38;5;28;43mself\u001b[39;49m\u001b[38;5;241;43m.\u001b[39;49m\u001b[43manalysis_date\u001b[49m\u001b[43m)\u001b[49m\n\u001b[1;32m    220\u001b[0m \u001b[38;5;28mself\u001b[39m\u001b[38;5;241m.\u001b[39mtrips \u001b[38;5;241m=\u001b[39m shared_utils\u001b[38;5;241m.\u001b[39mrt_utils\u001b[38;5;241m.\u001b[39mget_trips(\u001b[38;5;28mself\u001b[39m\u001b[38;5;241m.\u001b[39mcalitp_itp_id, \u001b[38;5;28mself\u001b[39m\u001b[38;5;241m.\u001b[39manalysis_date)\n\u001b[1;32m    221\u001b[0m \u001b[38;5;28mself\u001b[39m\u001b[38;5;241m.\u001b[39mstop_times \u001b[38;5;241m=\u001b[39m shared_utils\u001b[38;5;241m.\u001b[39mrt_utils\u001b[38;5;241m.\u001b[39mget_stop_times(\u001b[38;5;28mself\u001b[39m\u001b[38;5;241m.\u001b[39mcalitp_itp_id, \u001b[38;5;28mself\u001b[39m\u001b[38;5;241m.\u001b[39manalysis_date)\n",
      "File \u001b[0;32m~/data-analyses/_shared_utils/shared_utils/rt_utils.py:315\u001b[0m, in \u001b[0;36mget_vehicle_positions\u001b[0;34m(itp_id, analysis_date, export_path)\u001b[0m\n\u001b[1;32m    313\u001b[0m df \u001b[38;5;241m=\u001b[39m df \u001b[38;5;241m>>\u001b[39m distinct(_\u001b[38;5;241m.\u001b[39mtrip_id, _\u001b[38;5;241m.\u001b[39mvehicle_timestamp, _keep_all\u001b[38;5;241m=\u001b[39m\u001b[38;5;28;01mTrue\u001b[39;00m)\n\u001b[1;32m    314\u001b[0m df \u001b[38;5;241m=\u001b[39m df\u001b[38;5;241m.\u001b[39mdropna(subset\u001b[38;5;241m=\u001b[39m[\u001b[38;5;124m\"\u001b[39m\u001b[38;5;124mvehicle_timestamp\u001b[39m\u001b[38;5;124m\"\u001b[39m])\n\u001b[0;32m--> 315\u001b[0m \u001b[38;5;28;01massert\u001b[39;00m \u001b[38;5;129;01mnot\u001b[39;00m df\u001b[38;5;241m.\u001b[39mempty, \u001b[38;5;124mf\u001b[39m\u001b[38;5;124m\"\u001b[39m\u001b[38;5;124mno vehicle positions data found for \u001b[39m\u001b[38;5;132;01m{\u001b[39;00mdate_str\u001b[38;5;132;01m}\u001b[39;00m\u001b[38;5;124m\"\u001b[39m\n\u001b[1;32m    316\u001b[0m df\u001b[38;5;241m.\u001b[39mvehicle_timestamp \u001b[38;5;241m=\u001b[39m df\u001b[38;5;241m.\u001b[39mvehicle_timestamp\u001b[38;5;241m.\u001b[39mapply(convert_ts)\n\u001b[1;32m    317\u001b[0m \u001b[38;5;66;03m# header timestamp not present in staging, add upstream if desired\u001b[39;00m\n\u001b[1;32m    318\u001b[0m \u001b[38;5;66;03m# df.header_timestamp = df.header_timestamp.apply(convert_ts)\u001b[39;00m\n",
      "\u001b[0;31mAssertionError\u001b[0m: no vehicle positions data found for 2022-02-09"
     ]
    }
   ],
   "source": [
    "%%capture --no-stdout\n",
    "\n",
    "generate_export_data(sac_rt_itp_id, sac_date_range, pbar)"
   ]
  },
  {
   "cell_type": "code",
   "execution_count": 16,
   "id": "8e5fe535-56de-4c23-946b-f54f142ce757",
   "metadata": {},
   "outputs": [
    {
     "name": "stdout",
     "output_type": "stream",
     "text": [
      "already ran: 284\n",
      "already ran: 284\n",
      "already ran: 284\n",
      "already ran: 284\n",
      "already ran: 284\n",
      "already ran: 284\n",
      "already ran: 284\n",
      "already ran: 284\n",
      "already ran: 284\n"
     ]
    }
   ],
   "source": [
    "%%capture --no-stdout\n",
    "\n",
    "generate_export_data(sjrtd_itp_id, date_range, pbar)"
   ]
  },
  {
   "cell_type": "code",
   "execution_count": 16,
   "id": "44a60e27-c593-4d42-86e3-4060ea17053e",
   "metadata": {},
   "outputs": [],
   "source": [
    "corridor = gpd.read_file('./corridors_sccp_lpp/sacrt_sjrtd_nov_2.geojson')"
   ]
  },
  {
   "cell_type": "code",
   "execution_count": 26,
   "id": "5682a6ef-e92c-47a2-8bff-2543f8fde774",
   "metadata": {
    "collapsed": true,
    "jupyter": {
     "outputs_hidden": true
    },
    "tags": []
   },
   "outputs": [
    {
     "name": "stdout",
     "output_type": "stream",
     "text": [
      "found parquet\n"
     ]
    },
    {
     "ename": "KeyboardInterrupt",
     "evalue": "",
     "output_type": "error",
     "traceback": [
      "\u001b[0;31m---------------------------------------------------------------------------\u001b[0m",
      "\u001b[0;31mKeyboardInterrupt\u001b[0m                         Traceback (most recent call last)",
      "Cell \u001b[0;32mIn [26], line 1\u001b[0m\n\u001b[0;32m----> 1\u001b[0m sac_corridor_metrics \u001b[38;5;241m=\u001b[39m \u001b[43msccp_tools\u001b[49m\u001b[38;5;241;43m.\u001b[39;49m\u001b[43msccp_average_metrics\u001b[49m\u001b[43m(\u001b[49m\u001b[43mitp_id\u001b[49m\u001b[38;5;241;43m=\u001b[39;49m\u001b[38;5;241;43m273\u001b[39;49m\u001b[43m,\u001b[49m\u001b[43m \u001b[49m\u001b[43mdate_range\u001b[49m\u001b[38;5;241;43m=\u001b[39;49m\u001b[43msac_date_range\u001b[49m\u001b[43m,\u001b[49m\u001b[43m \u001b[49m\u001b[43mcorridor\u001b[49m\u001b[38;5;241;43m=\u001b[39;49m\u001b[43mcorridor\u001b[49m\u001b[43m)\u001b[49m\n",
      "File \u001b[0;32m~/data-analyses/rt_delay/rt_analysis/sccp_tools.py:23\u001b[0m, in \u001b[0;36msccp_average_metrics\u001b[0;34m(itp_id, date_range, corridor, filter_dict)\u001b[0m\n\u001b[1;32m     21\u001b[0m date \u001b[38;5;241m=\u001b[39m date\u001b[38;5;241m.\u001b[39mastype(dt\u001b[38;5;241m.\u001b[39mdate)\n\u001b[1;32m     22\u001b[0m \u001b[38;5;28;01mtry\u001b[39;00m:\n\u001b[0;32m---> 23\u001b[0m     rt_day \u001b[38;5;241m=\u001b[39m \u001b[43mrt_filter_map_plot\u001b[49m\u001b[38;5;241;43m.\u001b[39;49m\u001b[43mfrom_gcs\u001b[49m\u001b[43m(\u001b[49m\u001b[43mitp_id\u001b[49m\u001b[43m,\u001b[49m\u001b[43m \u001b[49m\u001b[43mdate\u001b[49m\u001b[43m)\u001b[49m\n\u001b[1;32m     24\u001b[0m     rt_day\u001b[38;5;241m.\u001b[39madd_corridor(corridor)\n\u001b[1;32m     25\u001b[0m     \u001b[38;5;28;01mif\u001b[39;00m filter_dict:\n",
      "File \u001b[0;32m~/data-analyses/rt_delay/rt_analysis/rt_filter_map_plot.py:587\u001b[0m, in \u001b[0;36mfrom_gcs\u001b[0;34m(itp_id, analysis_date, pbar)\u001b[0m\n\u001b[1;32m    585\u001b[0m stop_delay[\u001b[38;5;124m'\u001b[39m\u001b[38;5;124marrival_time\u001b[39m\u001b[38;5;124m'\u001b[39m] \u001b[38;5;241m=\u001b[39m stop_delay\u001b[38;5;241m.\u001b[39marrival_time\u001b[38;5;241m.\u001b[39mmap(\u001b[38;5;28;01mlambda\u001b[39;00m x: np\u001b[38;5;241m.\u001b[39mdatetime64(x))\n\u001b[1;32m    586\u001b[0m stop_delay[\u001b[38;5;124m'\u001b[39m\u001b[38;5;124mactual_time\u001b[39m\u001b[38;5;124m'\u001b[39m] \u001b[38;5;241m=\u001b[39m stop_delay\u001b[38;5;241m.\u001b[39mactual_time\u001b[38;5;241m.\u001b[39mmap(\u001b[38;5;28;01mlambda\u001b[39;00m x: np\u001b[38;5;241m.\u001b[39mdatetime64(x))\n\u001b[0;32m--> 587\u001b[0m routelines \u001b[38;5;241m=\u001b[39m \u001b[43mget_routelines\u001b[49m\u001b[43m(\u001b[49m\u001b[43mitp_id\u001b[49m\u001b[43m,\u001b[49m\u001b[43m \u001b[49m\u001b[43manalysis_date\u001b[49m\u001b[43m)\u001b[49m\n\u001b[1;32m    588\u001b[0m rt_day \u001b[38;5;241m=\u001b[39m RtFilterMapper(trips, stop_delay, routelines, pbar)\n\u001b[1;32m    589\u001b[0m \u001b[38;5;28;01mreturn\u001b[39;00m rt_day\n",
      "File \u001b[0;32m~/data-analyses/_shared_utils/shared_utils/rt_utils.py:545\u001b[0m, in \u001b[0;36mget_routelines\u001b[0;34m(itp_id, analysis_date, force_clear, export_path)\u001b[0m\n\u001b[1;32m    543\u001b[0m \u001b[38;5;28;01mif\u001b[39;00m path \u001b[38;5;129;01mand\u001b[39;00m \u001b[38;5;129;01mnot\u001b[39;00m force_clear:\n\u001b[1;32m    544\u001b[0m     \u001b[38;5;28mprint\u001b[39m(\u001b[38;5;124m\"\u001b[39m\u001b[38;5;124mfound parquet\u001b[39m\u001b[38;5;124m\"\u001b[39m)\n\u001b[0;32m--> 545\u001b[0m     cached \u001b[38;5;241m=\u001b[39m \u001b[43mgpd\u001b[49m\u001b[38;5;241;43m.\u001b[39;49m\u001b[43mread_parquet\u001b[49m\u001b[43m(\u001b[49m\u001b[43mpath\u001b[49m\u001b[43m)\u001b[49m\n\u001b[1;32m    546\u001b[0m     \u001b[38;5;28;01mif\u001b[39;00m \u001b[38;5;129;01mnot\u001b[39;00m cached\u001b[38;5;241m.\u001b[39mempty:\n\u001b[1;32m    547\u001b[0m         \u001b[38;5;28;01mreturn\u001b[39;00m cached\n",
      "File \u001b[0;32m/opt/conda/lib/python3.10/site-packages/geopandas/io/arrow.py:560\u001b[0m, in \u001b[0;36m_read_parquet\u001b[0;34m(path, columns, storage_options, **kwargs)\u001b[0m\n\u001b[1;32m    558\u001b[0m path \u001b[38;5;241m=\u001b[39m _expand_user(path)\n\u001b[1;32m    559\u001b[0m kwargs[\u001b[38;5;124m\"\u001b[39m\u001b[38;5;124muse_pandas_metadata\u001b[39m\u001b[38;5;124m\"\u001b[39m] \u001b[38;5;241m=\u001b[39m \u001b[38;5;28;01mTrue\u001b[39;00m\n\u001b[0;32m--> 560\u001b[0m table \u001b[38;5;241m=\u001b[39m \u001b[43mparquet\u001b[49m\u001b[38;5;241;43m.\u001b[39;49m\u001b[43mread_table\u001b[49m\u001b[43m(\u001b[49m\u001b[43mpath\u001b[49m\u001b[43m,\u001b[49m\u001b[43m \u001b[49m\u001b[43mcolumns\u001b[49m\u001b[38;5;241;43m=\u001b[39;49m\u001b[43mcolumns\u001b[49m\u001b[43m,\u001b[49m\u001b[43m \u001b[49m\u001b[43mfilesystem\u001b[49m\u001b[38;5;241;43m=\u001b[39;49m\u001b[43mfilesystem\u001b[49m\u001b[43m,\u001b[49m\u001b[43m \u001b[49m\u001b[38;5;241;43m*\u001b[39;49m\u001b[38;5;241;43m*\u001b[39;49m\u001b[43mkwargs\u001b[49m\u001b[43m)\u001b[49m\n\u001b[1;32m    562\u001b[0m \u001b[38;5;66;03m# read metadata separately to get the raw Parquet FileMetaData metadata\u001b[39;00m\n\u001b[1;32m    563\u001b[0m \u001b[38;5;66;03m# (pyarrow doesn't properly exposes those in schema.metadata for files\u001b[39;00m\n\u001b[1;32m    564\u001b[0m \u001b[38;5;66;03m# created by GDAL - https://issues.apache.org/jira/browse/ARROW-16688)\u001b[39;00m\n\u001b[1;32m    565\u001b[0m metadata \u001b[38;5;241m=\u001b[39m \u001b[38;5;28;01mNone\u001b[39;00m\n",
      "File \u001b[0;32m/opt/conda/lib/python3.10/site-packages/pyarrow/parquet.py:1941\u001b[0m, in \u001b[0;36mread_table\u001b[0;34m(source, columns, use_threads, metadata, use_pandas_metadata, memory_map, read_dictionary, filesystem, filters, buffer_size, partitioning, use_legacy_dataset, ignore_prefixes, pre_buffer, coerce_int96_timestamp_unit)\u001b[0m\n\u001b[1;32m   1933\u001b[0m         \u001b[38;5;66;03m# TODO test that source is not a directory or a list\u001b[39;00m\n\u001b[1;32m   1934\u001b[0m         dataset \u001b[38;5;241m=\u001b[39m ParquetFile(\n\u001b[1;32m   1935\u001b[0m             source, metadata\u001b[38;5;241m=\u001b[39mmetadata, read_dictionary\u001b[38;5;241m=\u001b[39mread_dictionary,\n\u001b[1;32m   1936\u001b[0m             memory_map\u001b[38;5;241m=\u001b[39mmemory_map, buffer_size\u001b[38;5;241m=\u001b[39mbuffer_size,\n\u001b[1;32m   1937\u001b[0m             pre_buffer\u001b[38;5;241m=\u001b[39mpre_buffer,\n\u001b[1;32m   1938\u001b[0m             coerce_int96_timestamp_unit\u001b[38;5;241m=\u001b[39mcoerce_int96_timestamp_unit\n\u001b[1;32m   1939\u001b[0m         )\n\u001b[0;32m-> 1941\u001b[0m     \u001b[38;5;28;01mreturn\u001b[39;00m \u001b[43mdataset\u001b[49m\u001b[38;5;241;43m.\u001b[39;49m\u001b[43mread\u001b[49m\u001b[43m(\u001b[49m\u001b[43mcolumns\u001b[49m\u001b[38;5;241;43m=\u001b[39;49m\u001b[43mcolumns\u001b[49m\u001b[43m,\u001b[49m\u001b[43m \u001b[49m\u001b[43muse_threads\u001b[49m\u001b[38;5;241;43m=\u001b[39;49m\u001b[43muse_threads\u001b[49m\u001b[43m,\u001b[49m\n\u001b[1;32m   1942\u001b[0m \u001b[43m                        \u001b[49m\u001b[43muse_pandas_metadata\u001b[49m\u001b[38;5;241;43m=\u001b[39;49m\u001b[43muse_pandas_metadata\u001b[49m\u001b[43m)\u001b[49m\n\u001b[1;32m   1944\u001b[0m \u001b[38;5;28;01mif\u001b[39;00m ignore_prefixes \u001b[38;5;129;01mis\u001b[39;00m \u001b[38;5;129;01mnot\u001b[39;00m \u001b[38;5;28;01mNone\u001b[39;00m:\n\u001b[1;32m   1945\u001b[0m     \u001b[38;5;28;01mraise\u001b[39;00m \u001b[38;5;167;01mValueError\u001b[39;00m(\n\u001b[1;32m   1946\u001b[0m         \u001b[38;5;124m\"\u001b[39m\u001b[38;5;124mThe \u001b[39m\u001b[38;5;124m'\u001b[39m\u001b[38;5;124mignore_prefixes\u001b[39m\u001b[38;5;124m'\u001b[39m\u001b[38;5;124m keyword is only supported when \u001b[39m\u001b[38;5;124m\"\u001b[39m\n\u001b[1;32m   1947\u001b[0m         \u001b[38;5;124m\"\u001b[39m\u001b[38;5;124muse_legacy_dataset=False\u001b[39m\u001b[38;5;124m\"\u001b[39m)\n",
      "File \u001b[0;32m/opt/conda/lib/python3.10/site-packages/pyarrow/parquet.py:1776\u001b[0m, in \u001b[0;36m_ParquetDatasetV2.read\u001b[0;34m(self, columns, use_threads, use_pandas_metadata)\u001b[0m\n\u001b[1;32m   1771\u001b[0m     \u001b[38;5;28;01mif\u001b[39;00m use_threads:\n\u001b[1;32m   1772\u001b[0m         \u001b[38;5;66;03m# Allow per-column parallelism; would otherwise cause\u001b[39;00m\n\u001b[1;32m   1773\u001b[0m         \u001b[38;5;66;03m# contention in the presence of per-file parallelism.\u001b[39;00m\n\u001b[1;32m   1774\u001b[0m         use_threads \u001b[38;5;241m=\u001b[39m \u001b[38;5;28;01mFalse\u001b[39;00m\n\u001b[0;32m-> 1776\u001b[0m table \u001b[38;5;241m=\u001b[39m \u001b[38;5;28;43mself\u001b[39;49m\u001b[38;5;241;43m.\u001b[39;49m\u001b[43m_dataset\u001b[49m\u001b[38;5;241;43m.\u001b[39;49m\u001b[43mto_table\u001b[49m\u001b[43m(\u001b[49m\n\u001b[1;32m   1777\u001b[0m \u001b[43m    \u001b[49m\u001b[43mcolumns\u001b[49m\u001b[38;5;241;43m=\u001b[39;49m\u001b[43mcolumns\u001b[49m\u001b[43m,\u001b[49m\u001b[43m \u001b[49m\u001b[38;5;28;43mfilter\u001b[39;49m\u001b[38;5;241;43m=\u001b[39;49m\u001b[38;5;28;43mself\u001b[39;49m\u001b[38;5;241;43m.\u001b[39;49m\u001b[43m_filter_expression\u001b[49m\u001b[43m,\u001b[49m\n\u001b[1;32m   1778\u001b[0m \u001b[43m    \u001b[49m\u001b[43muse_threads\u001b[49m\u001b[38;5;241;43m=\u001b[39;49m\u001b[43muse_threads\u001b[49m\n\u001b[1;32m   1779\u001b[0m \u001b[43m\u001b[49m\u001b[43m)\u001b[49m\n\u001b[1;32m   1781\u001b[0m \u001b[38;5;66;03m# if use_pandas_metadata, restore the pandas metadata (which gets\u001b[39;00m\n\u001b[1;32m   1782\u001b[0m \u001b[38;5;66;03m# lost if doing a specific `columns` selection in to_table)\u001b[39;00m\n\u001b[1;32m   1783\u001b[0m \u001b[38;5;28;01mif\u001b[39;00m use_pandas_metadata:\n",
      "File \u001b[0;32m/opt/conda/lib/python3.10/site-packages/pyarrow/_dataset.pyx:491\u001b[0m, in \u001b[0;36mpyarrow._dataset.Dataset.to_table\u001b[0;34m()\u001b[0m\n",
      "File \u001b[0;32m/opt/conda/lib/python3.10/site-packages/pyarrow/_dataset.pyx:3235\u001b[0m, in \u001b[0;36mpyarrow._dataset.Scanner.to_table\u001b[0;34m()\u001b[0m\n",
      "File \u001b[0;32m/opt/conda/lib/python3.10/site-packages/pyarrow/error.pxi:143\u001b[0m, in \u001b[0;36mpyarrow.lib.pyarrow_internal_check_status\u001b[0;34m()\u001b[0m\n",
      "File \u001b[0;32m/opt/conda/lib/python3.10/site-packages/pyarrow/_fs.pyx:1161\u001b[0m, in \u001b[0;36mpyarrow._fs._cb_open_input_file\u001b[0;34m()\u001b[0m\n",
      "File \u001b[0;32m/opt/conda/lib/python3.10/site-packages/pyarrow/fs.py:395\u001b[0m, in \u001b[0;36mFSSpecHandler.open_input_file\u001b[0;34m(self, path)\u001b[0m\n\u001b[1;32m    392\u001b[0m \u001b[38;5;28;01mif\u001b[39;00m \u001b[38;5;129;01mnot\u001b[39;00m \u001b[38;5;28mself\u001b[39m\u001b[38;5;241m.\u001b[39mfs\u001b[38;5;241m.\u001b[39misfile(path):\n\u001b[1;32m    393\u001b[0m     \u001b[38;5;28;01mraise\u001b[39;00m \u001b[38;5;167;01mFileNotFoundError\u001b[39;00m(path)\n\u001b[0;32m--> 395\u001b[0m \u001b[38;5;28;01mreturn\u001b[39;00m PythonFile(\u001b[38;5;28;43mself\u001b[39;49m\u001b[38;5;241;43m.\u001b[39;49m\u001b[43mfs\u001b[49m\u001b[38;5;241;43m.\u001b[39;49m\u001b[43mopen\u001b[49m\u001b[43m(\u001b[49m\u001b[43mpath\u001b[49m\u001b[43m,\u001b[49m\u001b[43m \u001b[49m\u001b[43mmode\u001b[49m\u001b[38;5;241;43m=\u001b[39;49m\u001b[38;5;124;43m\"\u001b[39;49m\u001b[38;5;124;43mrb\u001b[39;49m\u001b[38;5;124;43m\"\u001b[39;49m\u001b[43m)\u001b[49m, mode\u001b[38;5;241m=\u001b[39m\u001b[38;5;124m\"\u001b[39m\u001b[38;5;124mr\u001b[39m\u001b[38;5;124m\"\u001b[39m)\n",
      "File \u001b[0;32m/opt/conda/lib/python3.10/site-packages/fsspec/spec.py:1094\u001b[0m, in \u001b[0;36mAbstractFileSystem.open\u001b[0;34m(self, path, mode, block_size, cache_options, compression, **kwargs)\u001b[0m\n\u001b[1;32m   1092\u001b[0m \u001b[38;5;28;01melse\u001b[39;00m:\n\u001b[1;32m   1093\u001b[0m     ac \u001b[38;5;241m=\u001b[39m kwargs\u001b[38;5;241m.\u001b[39mpop(\u001b[38;5;124m\"\u001b[39m\u001b[38;5;124mautocommit\u001b[39m\u001b[38;5;124m\"\u001b[39m, \u001b[38;5;129;01mnot\u001b[39;00m \u001b[38;5;28mself\u001b[39m\u001b[38;5;241m.\u001b[39m_intrans)\n\u001b[0;32m-> 1094\u001b[0m     f \u001b[38;5;241m=\u001b[39m \u001b[38;5;28;43mself\u001b[39;49m\u001b[38;5;241;43m.\u001b[39;49m\u001b[43m_open\u001b[49m\u001b[43m(\u001b[49m\n\u001b[1;32m   1095\u001b[0m \u001b[43m        \u001b[49m\u001b[43mpath\u001b[49m\u001b[43m,\u001b[49m\n\u001b[1;32m   1096\u001b[0m \u001b[43m        \u001b[49m\u001b[43mmode\u001b[49m\u001b[38;5;241;43m=\u001b[39;49m\u001b[43mmode\u001b[49m\u001b[43m,\u001b[49m\n\u001b[1;32m   1097\u001b[0m \u001b[43m        \u001b[49m\u001b[43mblock_size\u001b[49m\u001b[38;5;241;43m=\u001b[39;49m\u001b[43mblock_size\u001b[49m\u001b[43m,\u001b[49m\n\u001b[1;32m   1098\u001b[0m \u001b[43m        \u001b[49m\u001b[43mautocommit\u001b[49m\u001b[38;5;241;43m=\u001b[39;49m\u001b[43mac\u001b[49m\u001b[43m,\u001b[49m\n\u001b[1;32m   1099\u001b[0m \u001b[43m        \u001b[49m\u001b[43mcache_options\u001b[49m\u001b[38;5;241;43m=\u001b[39;49m\u001b[43mcache_options\u001b[49m\u001b[43m,\u001b[49m\n\u001b[1;32m   1100\u001b[0m \u001b[43m        \u001b[49m\u001b[38;5;241;43m*\u001b[39;49m\u001b[38;5;241;43m*\u001b[39;49m\u001b[43mkwargs\u001b[49m\u001b[43m,\u001b[49m\n\u001b[1;32m   1101\u001b[0m \u001b[43m    \u001b[49m\u001b[43m)\u001b[49m\n\u001b[1;32m   1102\u001b[0m     \u001b[38;5;28;01mif\u001b[39;00m compression \u001b[38;5;129;01mis\u001b[39;00m \u001b[38;5;129;01mnot\u001b[39;00m \u001b[38;5;28;01mNone\u001b[39;00m:\n\u001b[1;32m   1103\u001b[0m         \u001b[38;5;28;01mfrom\u001b[39;00m \u001b[38;5;21;01mfsspec\u001b[39;00m\u001b[38;5;21;01m.\u001b[39;00m\u001b[38;5;21;01mcompression\u001b[39;00m \u001b[38;5;28;01mimport\u001b[39;00m compr\n",
      "File \u001b[0;32m/opt/conda/lib/python3.10/site-packages/gcsfs/core.py:1205\u001b[0m, in \u001b[0;36mGCSFileSystem._open\u001b[0;34m(self, path, mode, block_size, cache_options, acl, consistency, metadata, autocommit, fixed_key_metadata, **kwargs)\u001b[0m\n\u001b[1;32m   1203\u001b[0m     block_size \u001b[38;5;241m=\u001b[39m \u001b[38;5;28mself\u001b[39m\u001b[38;5;241m.\u001b[39mdefault_block_size\n\u001b[1;32m   1204\u001b[0m const \u001b[38;5;241m=\u001b[39m consistency \u001b[38;5;129;01mor\u001b[39;00m \u001b[38;5;28mself\u001b[39m\u001b[38;5;241m.\u001b[39mconsistency\n\u001b[0;32m-> 1205\u001b[0m \u001b[38;5;28;01mreturn\u001b[39;00m \u001b[43mGCSFile\u001b[49m\u001b[43m(\u001b[49m\n\u001b[1;32m   1206\u001b[0m \u001b[43m    \u001b[49m\u001b[38;5;28;43mself\u001b[39;49m\u001b[43m,\u001b[49m\n\u001b[1;32m   1207\u001b[0m \u001b[43m    \u001b[49m\u001b[43mpath\u001b[49m\u001b[43m,\u001b[49m\n\u001b[1;32m   1208\u001b[0m \u001b[43m    \u001b[49m\u001b[43mmode\u001b[49m\u001b[43m,\u001b[49m\n\u001b[1;32m   1209\u001b[0m \u001b[43m    \u001b[49m\u001b[43mblock_size\u001b[49m\u001b[43m,\u001b[49m\n\u001b[1;32m   1210\u001b[0m \u001b[43m    \u001b[49m\u001b[43mcache_options\u001b[49m\u001b[38;5;241;43m=\u001b[39;49m\u001b[43mcache_options\u001b[49m\u001b[43m,\u001b[49m\n\u001b[1;32m   1211\u001b[0m \u001b[43m    \u001b[49m\u001b[43mconsistency\u001b[49m\u001b[38;5;241;43m=\u001b[39;49m\u001b[43mconst\u001b[49m\u001b[43m,\u001b[49m\n\u001b[1;32m   1212\u001b[0m \u001b[43m    \u001b[49m\u001b[43mmetadata\u001b[49m\u001b[38;5;241;43m=\u001b[39;49m\u001b[43mmetadata\u001b[49m\u001b[43m,\u001b[49m\n\u001b[1;32m   1213\u001b[0m \u001b[43m    \u001b[49m\u001b[43macl\u001b[49m\u001b[38;5;241;43m=\u001b[39;49m\u001b[43macl\u001b[49m\u001b[43m,\u001b[49m\n\u001b[1;32m   1214\u001b[0m \u001b[43m    \u001b[49m\u001b[43mautocommit\u001b[49m\u001b[38;5;241;43m=\u001b[39;49m\u001b[43mautocommit\u001b[49m\u001b[43m,\u001b[49m\n\u001b[1;32m   1215\u001b[0m \u001b[43m    \u001b[49m\u001b[43mfixed_key_metadata\u001b[49m\u001b[38;5;241;43m=\u001b[39;49m\u001b[43mfixed_key_metadata\u001b[49m\u001b[43m,\u001b[49m\n\u001b[1;32m   1216\u001b[0m \u001b[43m    \u001b[49m\u001b[38;5;241;43m*\u001b[39;49m\u001b[38;5;241;43m*\u001b[39;49m\u001b[43mkwargs\u001b[49m\u001b[43m,\u001b[49m\n\u001b[1;32m   1217\u001b[0m \u001b[43m\u001b[49m\u001b[43m)\u001b[49m\n",
      "File \u001b[0;32m/opt/conda/lib/python3.10/site-packages/gcsfs/core.py:1325\u001b[0m, in \u001b[0;36mGCSFile.__init__\u001b[0;34m(self, gcsfs, path, mode, block_size, autocommit, cache_type, cache_options, acl, consistency, metadata, content_type, timeout, fixed_key_metadata, **kwargs)\u001b[0m\n\u001b[1;32m   1270\u001b[0m \u001b[38;5;28;01mdef\u001b[39;00m \u001b[38;5;21m__init__\u001b[39m(\n\u001b[1;32m   1271\u001b[0m     \u001b[38;5;28mself\u001b[39m,\n\u001b[1;32m   1272\u001b[0m     gcsfs,\n\u001b[0;32m   (...)\u001b[0m\n\u001b[1;32m   1285\u001b[0m     \u001b[38;5;241m*\u001b[39m\u001b[38;5;241m*\u001b[39mkwargs,\n\u001b[1;32m   1286\u001b[0m ):\n\u001b[1;32m   1287\u001b[0m     \u001b[38;5;124;03m\"\"\"\u001b[39;00m\n\u001b[1;32m   1288\u001b[0m \u001b[38;5;124;03m    Open a file.\u001b[39;00m\n\u001b[1;32m   1289\u001b[0m \n\u001b[0;32m   (...)\u001b[0m\n\u001b[1;32m   1323\u001b[0m \u001b[38;5;124;03m        Timeout seconds for the asynchronous callback.\u001b[39;00m\n\u001b[1;32m   1324\u001b[0m \u001b[38;5;124;03m    \"\"\"\u001b[39;00m\n\u001b[0;32m-> 1325\u001b[0m     \u001b[38;5;28;43msuper\u001b[39;49m\u001b[43m(\u001b[49m\u001b[43m)\u001b[49m\u001b[38;5;241;43m.\u001b[39;49m\u001b[38;5;21;43m__init__\u001b[39;49m\u001b[43m(\u001b[49m\n\u001b[1;32m   1326\u001b[0m \u001b[43m        \u001b[49m\u001b[43mgcsfs\u001b[49m\u001b[43m,\u001b[49m\n\u001b[1;32m   1327\u001b[0m \u001b[43m        \u001b[49m\u001b[43mpath\u001b[49m\u001b[43m,\u001b[49m\n\u001b[1;32m   1328\u001b[0m \u001b[43m        \u001b[49m\u001b[43mmode\u001b[49m\u001b[43m,\u001b[49m\n\u001b[1;32m   1329\u001b[0m \u001b[43m        \u001b[49m\u001b[43mblock_size\u001b[49m\u001b[43m,\u001b[49m\n\u001b[1;32m   1330\u001b[0m \u001b[43m        \u001b[49m\u001b[43mautocommit\u001b[49m\u001b[38;5;241;43m=\u001b[39;49m\u001b[43mautocommit\u001b[49m\u001b[43m,\u001b[49m\n\u001b[1;32m   1331\u001b[0m \u001b[43m        \u001b[49m\u001b[43mcache_type\u001b[49m\u001b[38;5;241;43m=\u001b[39;49m\u001b[43mcache_type\u001b[49m\u001b[43m,\u001b[49m\n\u001b[1;32m   1332\u001b[0m \u001b[43m        \u001b[49m\u001b[43mcache_options\u001b[49m\u001b[38;5;241;43m=\u001b[39;49m\u001b[43mcache_options\u001b[49m\u001b[43m,\u001b[49m\n\u001b[1;32m   1333\u001b[0m \u001b[43m        \u001b[49m\u001b[38;5;241;43m*\u001b[39;49m\u001b[38;5;241;43m*\u001b[39;49m\u001b[43mkwargs\u001b[49m\u001b[43m,\u001b[49m\n\u001b[1;32m   1334\u001b[0m \u001b[43m    \u001b[49m\u001b[43m)\u001b[49m\n\u001b[1;32m   1335\u001b[0m     bucket, key \u001b[38;5;241m=\u001b[39m \u001b[38;5;28mself\u001b[39m\u001b[38;5;241m.\u001b[39mfs\u001b[38;5;241m.\u001b[39msplit_path(path)\n\u001b[1;32m   1336\u001b[0m     \u001b[38;5;28;01mif\u001b[39;00m \u001b[38;5;129;01mnot\u001b[39;00m key:\n",
      "File \u001b[0;32m/opt/conda/lib/python3.10/site-packages/fsspec/spec.py:1450\u001b[0m, in \u001b[0;36mAbstractBufferedFile.__init__\u001b[0;34m(self, fs, path, mode, block_size, autocommit, cache_type, cache_options, size, **kwargs)\u001b[0m\n\u001b[1;32m   1448\u001b[0m         \u001b[38;5;28mself\u001b[39m\u001b[38;5;241m.\u001b[39msize \u001b[38;5;241m=\u001b[39m size\n\u001b[1;32m   1449\u001b[0m     \u001b[38;5;28;01melse\u001b[39;00m:\n\u001b[0;32m-> 1450\u001b[0m         \u001b[38;5;28mself\u001b[39m\u001b[38;5;241m.\u001b[39msize \u001b[38;5;241m=\u001b[39m \u001b[38;5;28;43mself\u001b[39;49m\u001b[38;5;241;43m.\u001b[39;49m\u001b[43mdetails\u001b[49m[\u001b[38;5;124m\"\u001b[39m\u001b[38;5;124msize\u001b[39m\u001b[38;5;124m\"\u001b[39m]\n\u001b[1;32m   1451\u001b[0m     \u001b[38;5;28mself\u001b[39m\u001b[38;5;241m.\u001b[39mcache \u001b[38;5;241m=\u001b[39m caches[cache_type](\n\u001b[1;32m   1452\u001b[0m         \u001b[38;5;28mself\u001b[39m\u001b[38;5;241m.\u001b[39mblocksize, \u001b[38;5;28mself\u001b[39m\u001b[38;5;241m.\u001b[39m_fetch_range, \u001b[38;5;28mself\u001b[39m\u001b[38;5;241m.\u001b[39msize, \u001b[38;5;241m*\u001b[39m\u001b[38;5;241m*\u001b[39mcache_options\n\u001b[1;32m   1453\u001b[0m     )\n\u001b[1;32m   1454\u001b[0m \u001b[38;5;28;01melse\u001b[39;00m:\n",
      "File \u001b[0;32m/opt/conda/lib/python3.10/site-packages/fsspec/spec.py:1463\u001b[0m, in \u001b[0;36mAbstractBufferedFile.details\u001b[0;34m(self)\u001b[0m\n\u001b[1;32m   1460\u001b[0m \u001b[38;5;129m@property\u001b[39m\n\u001b[1;32m   1461\u001b[0m \u001b[38;5;28;01mdef\u001b[39;00m \u001b[38;5;21mdetails\u001b[39m(\u001b[38;5;28mself\u001b[39m):\n\u001b[1;32m   1462\u001b[0m     \u001b[38;5;28;01mif\u001b[39;00m \u001b[38;5;28mself\u001b[39m\u001b[38;5;241m.\u001b[39m_details \u001b[38;5;129;01mis\u001b[39;00m \u001b[38;5;28;01mNone\u001b[39;00m:\n\u001b[0;32m-> 1463\u001b[0m         \u001b[38;5;28mself\u001b[39m\u001b[38;5;241m.\u001b[39m_details \u001b[38;5;241m=\u001b[39m \u001b[38;5;28;43mself\u001b[39;49m\u001b[38;5;241;43m.\u001b[39;49m\u001b[43mfs\u001b[49m\u001b[38;5;241;43m.\u001b[39;49m\u001b[43minfo\u001b[49m\u001b[43m(\u001b[49m\u001b[38;5;28;43mself\u001b[39;49m\u001b[38;5;241;43m.\u001b[39;49m\u001b[43mpath\u001b[49m\u001b[43m)\u001b[49m\n\u001b[1;32m   1464\u001b[0m     \u001b[38;5;28;01mreturn\u001b[39;00m \u001b[38;5;28mself\u001b[39m\u001b[38;5;241m.\u001b[39m_details\n",
      "File \u001b[0;32m/opt/conda/lib/python3.10/site-packages/fsspec/asyn.py:111\u001b[0m, in \u001b[0;36msync_wrapper.<locals>.wrapper\u001b[0;34m(*args, **kwargs)\u001b[0m\n\u001b[1;32m    108\u001b[0m \u001b[38;5;129m@functools\u001b[39m\u001b[38;5;241m.\u001b[39mwraps(func)\n\u001b[1;32m    109\u001b[0m \u001b[38;5;28;01mdef\u001b[39;00m \u001b[38;5;21mwrapper\u001b[39m(\u001b[38;5;241m*\u001b[39margs, \u001b[38;5;241m*\u001b[39m\u001b[38;5;241m*\u001b[39mkwargs):\n\u001b[1;32m    110\u001b[0m     \u001b[38;5;28mself\u001b[39m \u001b[38;5;241m=\u001b[39m obj \u001b[38;5;129;01mor\u001b[39;00m args[\u001b[38;5;241m0\u001b[39m]\n\u001b[0;32m--> 111\u001b[0m     \u001b[38;5;28;01mreturn\u001b[39;00m \u001b[43msync\u001b[49m\u001b[43m(\u001b[49m\u001b[38;5;28;43mself\u001b[39;49m\u001b[38;5;241;43m.\u001b[39;49m\u001b[43mloop\u001b[49m\u001b[43m,\u001b[49m\u001b[43m \u001b[49m\u001b[43mfunc\u001b[49m\u001b[43m,\u001b[49m\u001b[43m \u001b[49m\u001b[38;5;241;43m*\u001b[39;49m\u001b[43margs\u001b[49m\u001b[43m,\u001b[49m\u001b[43m \u001b[49m\u001b[38;5;241;43m*\u001b[39;49m\u001b[38;5;241;43m*\u001b[39;49m\u001b[43mkwargs\u001b[49m\u001b[43m)\u001b[49m\n",
      "File \u001b[0;32m/opt/conda/lib/python3.10/site-packages/fsspec/asyn.py:84\u001b[0m, in \u001b[0;36msync\u001b[0;34m(loop, func, timeout, *args, **kwargs)\u001b[0m\n\u001b[1;32m     81\u001b[0m asyncio\u001b[38;5;241m.\u001b[39mrun_coroutine_threadsafe(_runner(event, coro, result, timeout), loop)\n\u001b[1;32m     82\u001b[0m \u001b[38;5;28;01mwhile\u001b[39;00m \u001b[38;5;28;01mTrue\u001b[39;00m:\n\u001b[1;32m     83\u001b[0m     \u001b[38;5;66;03m# this loops allows thread to get interrupted\u001b[39;00m\n\u001b[0;32m---> 84\u001b[0m     \u001b[38;5;28;01mif\u001b[39;00m \u001b[43mevent\u001b[49m\u001b[38;5;241;43m.\u001b[39;49m\u001b[43mwait\u001b[49m\u001b[43m(\u001b[49m\u001b[38;5;241;43m1\u001b[39;49m\u001b[43m)\u001b[49m:\n\u001b[1;32m     85\u001b[0m         \u001b[38;5;28;01mbreak\u001b[39;00m\n\u001b[1;32m     86\u001b[0m     \u001b[38;5;28;01mif\u001b[39;00m timeout \u001b[38;5;129;01mis\u001b[39;00m \u001b[38;5;129;01mnot\u001b[39;00m \u001b[38;5;28;01mNone\u001b[39;00m:\n",
      "File \u001b[0;32m/opt/conda/lib/python3.10/threading.py:607\u001b[0m, in \u001b[0;36mEvent.wait\u001b[0;34m(self, timeout)\u001b[0m\n\u001b[1;32m    605\u001b[0m signaled \u001b[38;5;241m=\u001b[39m \u001b[38;5;28mself\u001b[39m\u001b[38;5;241m.\u001b[39m_flag\n\u001b[1;32m    606\u001b[0m \u001b[38;5;28;01mif\u001b[39;00m \u001b[38;5;129;01mnot\u001b[39;00m signaled:\n\u001b[0;32m--> 607\u001b[0m     signaled \u001b[38;5;241m=\u001b[39m \u001b[38;5;28;43mself\u001b[39;49m\u001b[38;5;241;43m.\u001b[39;49m\u001b[43m_cond\u001b[49m\u001b[38;5;241;43m.\u001b[39;49m\u001b[43mwait\u001b[49m\u001b[43m(\u001b[49m\u001b[43mtimeout\u001b[49m\u001b[43m)\u001b[49m\n\u001b[1;32m    608\u001b[0m \u001b[38;5;28;01mreturn\u001b[39;00m signaled\n",
      "File \u001b[0;32m/opt/conda/lib/python3.10/threading.py:324\u001b[0m, in \u001b[0;36mCondition.wait\u001b[0;34m(self, timeout)\u001b[0m\n\u001b[1;32m    322\u001b[0m \u001b[38;5;28;01melse\u001b[39;00m:\n\u001b[1;32m    323\u001b[0m     \u001b[38;5;28;01mif\u001b[39;00m timeout \u001b[38;5;241m>\u001b[39m \u001b[38;5;241m0\u001b[39m:\n\u001b[0;32m--> 324\u001b[0m         gotit \u001b[38;5;241m=\u001b[39m \u001b[43mwaiter\u001b[49m\u001b[38;5;241;43m.\u001b[39;49m\u001b[43macquire\u001b[49m\u001b[43m(\u001b[49m\u001b[38;5;28;43;01mTrue\u001b[39;49;00m\u001b[43m,\u001b[49m\u001b[43m \u001b[49m\u001b[43mtimeout\u001b[49m\u001b[43m)\u001b[49m\n\u001b[1;32m    325\u001b[0m     \u001b[38;5;28;01melse\u001b[39;00m:\n\u001b[1;32m    326\u001b[0m         gotit \u001b[38;5;241m=\u001b[39m waiter\u001b[38;5;241m.\u001b[39macquire(\u001b[38;5;28;01mFalse\u001b[39;00m)\n",
      "\u001b[0;31mKeyboardInterrupt\u001b[0m: "
     ]
    }
   ],
   "source": [
    "sac_corridor_metrics = sccp_tools.sccp_average_metrics(itp_id=273, date_range=sac_date_range, corridor=corridor)"
   ]
  },
  {
   "cell_type": "code",
   "execution_count": 20,
   "id": "6aa4bf28-6537-4847-ba65-62c76389985d",
   "metadata": {
    "tags": []
   },
   "outputs": [
    {
     "name": "stdout",
     "output_type": "stream",
     "text": [
      "failed for date: 2022-04-30\n",
      "calitp-analytics-data/data-analyses/rt_delay/stop_delay_views/284_2022-04-30.parquet\n",
      "failed for date: 2022-05-01\n",
      "calitp-analytics-data/data-analyses/rt_delay/stop_delay_views/284_2022-05-01.parquet\n",
      "failed for date: 2022-05-02\n",
      "calitp-analytics-data/data-analyses/rt_delay/stop_delay_views/284_2022-05-02.parquet\n",
      "failed for date: 2022-05-03\n",
      "calitp-analytics-data/data-analyses/rt_delay/stop_delay_views/284_2022-05-03.parquet\n",
      "failed for date: 2022-05-04\n",
      "calitp-analytics-data/data-analyses/rt_delay/stop_delay_views/284_2022-05-04.parquet\n",
      "failed for date: 2022-05-05\n",
      "calitp-analytics-data/data-analyses/rt_delay/stop_delay_views/284_2022-05-05.parquet\n",
      "failed for date: 2022-05-06\n",
      "calitp-analytics-data/data-analyses/rt_delay/stop_delay_views/284_2022-05-06.parquet\n",
      "failed for date: 2022-05-07\n",
      "calitp-analytics-data/data-analyses/rt_delay/stop_delay_views/284_2022-05-07.parquet\n",
      "failed for date: 2022-05-08\n",
      "calitp-analytics-data/data-analyses/rt_delay/stop_delay_views/284_2022-05-08.parquet\n"
     ]
    },
    {
     "name": "stderr",
     "output_type": "stream",
     "text": [
      "/opt/conda/lib/python3.10/site-packages/numpy/core/fromnumeric.py:3432: RuntimeWarning: Mean of empty slice.\n",
      "/opt/conda/lib/python3.10/site-packages/numpy/core/_methods.py:190: RuntimeWarning: invalid value encountered in double_scalars\n"
     ]
    }
   ],
   "source": [
    "sjrtd_corridor_metrics = sccp_tools.sccp_average_metrics(itp_id=284, date_range=date_range, corridor=corridor)"
   ]
  },
  {
   "cell_type": "code",
   "execution_count": 18,
   "id": "5f1a8628-71e9-4a14-92c8-be1499d02feb",
   "metadata": {},
   "outputs": [
    {
     "data": {
      "text/plain": [
       "array(['2022-04-30', '2022-05-01', '2022-05-02', '2022-05-03',\n",
       "       '2022-05-04', '2022-05-05', '2022-05-06', '2022-05-07',\n",
       "       '2022-05-08'], dtype='datetime64[D]')"
      ]
     },
     "execution_count": 18,
     "metadata": {},
     "output_type": "execute_result"
    }
   ],
   "source": [
    "date_range"
   ]
  },
  {
   "cell_type": "code",
   "execution_count": 19,
   "id": "cf6fbf0c-bece-458c-9b60-51ac6e913aa2",
   "metadata": {},
   "outputs": [
    {
     "data": {
      "text/plain": [
       "\u001b[0;31mSignature:\u001b[0m \u001b[0mrt_filter_map_plot\u001b[0m\u001b[0;34m.\u001b[0m\u001b[0mfrom_gcs\u001b[0m\u001b[0;34m(\u001b[0m\u001b[0mitp_id\u001b[0m\u001b[0;34m,\u001b[0m \u001b[0manalysis_date\u001b[0m\u001b[0;34m,\u001b[0m \u001b[0mpbar\u001b[0m\u001b[0;34m=\u001b[0m\u001b[0;32mNone\u001b[0m\u001b[0;34m)\u001b[0m\u001b[0;34m\u001b[0m\u001b[0;34m\u001b[0m\u001b[0m\n",
       "\u001b[0;31mDocstring:\u001b[0m\n",
       "Generates RtFilterMapper from cached artifacts in GCS. Generate using rt_analysis.OperatorDayAnalysis.export_views_gcs()\n",
       "    \n",
       "\u001b[0;31mFile:\u001b[0m      ~/data-analyses/rt_delay/rt_analysis/rt_filter_map_plot.py\n",
       "\u001b[0;31mType:\u001b[0m      function\n"
      ]
     },
     "metadata": {},
     "output_type": "display_data"
    }
   ],
   "source": [
    "rt_filter_map_plot.from_gcs?"
   ]
  },
  {
   "cell_type": "code",
   "execution_count": 22,
   "id": "a2a024ed-ad6a-4084-a538-620bd837e705",
   "metadata": {
    "tags": []
   },
   "outputs": [
    {
     "name": "stdout",
     "output_type": "stream",
     "text": [
      "found parquet\n"
     ]
    }
   ],
   "source": [
    "rt_day = rt_filter_map_plot.from_gcs(273, dt.date(2022, 2, 6))"
   ]
  },
  {
   "cell_type": "code",
   "execution_count": 23,
   "id": "5e60abc4-6293-4adf-ab22-9f841a708ce0",
   "metadata": {},
   "outputs": [],
   "source": [
    "rt_day.add_corridor(corridor)"
   ]
  },
  {
   "cell_type": "code",
   "execution_count": null,
   "id": "28b2d657-0d94-446c-9a77-1ec890499940",
   "metadata": {},
   "outputs": [],
   "source": [
    "# rt_day.quick_map_corridor()"
   ]
  },
  {
   "cell_type": "code",
   "execution_count": 25,
   "id": "9af420df-0a7b-4950-a288-260d971e9398",
   "metadata": {},
   "outputs": [
    {
     "data": {
      "text/plain": [
       "{'schedule_metric_minutes': 2.4166666666666665,\n",
       " 'speed_metric_minutes': -3.5781744005258327}"
      ]
     },
     "execution_count": 25,
     "metadata": {},
     "output_type": "execute_result"
    }
   ],
   "source": [
    "rt_day.corridor_metrics()"
   ]
  },
  {
   "cell_type": "code",
   "execution_count": 29,
   "id": "e6dc2934-8ace-4b65-9e13-3e0dd5415dc3",
   "metadata": {},
   "outputs": [
    {
     "data": {
      "text/plain": [
       "'2022-02-06'"
      ]
     },
     "execution_count": 29,
     "metadata": {},
     "output_type": "execute_result"
    }
   ],
   "source": [
    "rt_day.analysis_date.isoformat()"
   ]
  },
  {
   "cell_type": "markdown",
   "id": "8a587312-5e69-4958-a95f-5f215921d179",
   "metadata": {},
   "source": [
    "# OCTA 12/1/2022"
   ]
  },
  {
   "cell_type": "code",
   "execution_count": 20,
   "id": "4e9ea214-b413-455f-948a-506bf899b28c",
   "metadata": {},
   "outputs": [],
   "source": [
    "octa = gpd.read_file('./corridors_sccp_lpp/octa_dec1_rev.geojson')"
   ]
  },
  {
   "cell_type": "code",
   "execution_count": 41,
   "id": "ee9802c3-a6be-4b26-968d-06975aab77e4",
   "metadata": {},
   "outputs": [],
   "source": [
    "# octa.explore()"
   ]
  },
  {
   "cell_type": "code",
   "execution_count": 26,
   "id": "5fbcaf71-c292-4534-b7dc-f1aeed77b999",
   "metadata": {},
   "outputs": [
    {
     "name": "stdout",
     "output_type": "stream",
     "text": [
      "found parquet\n"
     ]
    }
   ],
   "source": [
    "rt_day = rt_filter_map_plot.from_gcs(235, dt.date(2022, 5, 5))"
   ]
  },
  {
   "cell_type": "code",
   "execution_count": 27,
   "id": "c3520e75-e17d-43d9-b921-b4ca186eac7b",
   "metadata": {},
   "outputs": [],
   "source": [
    "rt_day.add_corridor(octa)"
   ]
  },
  {
   "cell_type": "code",
   "execution_count": 28,
   "id": "1c325faa-6d8b-4a34-ac46-fc4f9321ef69",
   "metadata": {},
   "outputs": [
    {
     "data": {
      "text/plain": [
       "{'schedule_metric_minutes': 75.20833333333333,\n",
       " 'speed_metric_minutes': 931.8252172851112}"
      ]
     },
     "execution_count": 28,
     "metadata": {},
     "output_type": "execute_result"
    }
   ],
   "source": [
    "rt_day.corridor_metrics()"
   ]
  },
  {
   "cell_type": "code",
   "execution_count": 32,
   "id": "43745190-28b8-4ad2-8118-edeb500a51ca",
   "metadata": {},
   "outputs": [
    {
     "name": "stdout",
     "output_type": "stream",
     "text": [
      "found parquet\n",
      "complete for date: 2022-04-30\n",
      "found parquet\n",
      "complete for date: 2022-05-01\n",
      "found parquet\n",
      "complete for date: 2022-05-02\n",
      "found parquet\n",
      "complete for date: 2022-05-03\n",
      "found parquet\n",
      "complete for date: 2022-05-04\n",
      "found parquet\n",
      "complete for date: 2022-05-05\n",
      "found parquet\n",
      "complete for date: 2022-05-06\n",
      "found parquet\n",
      "complete for date: 2022-05-07\n",
      "found parquet\n",
      "complete for date: 2022-05-08\n"
     ]
    }
   ],
   "source": [
    "octa_corridor_metrics = sccp_tools.sccp_average_metrics(itp_id=235, date_range=date_range, corridor=octa)"
   ]
  },
  {
   "cell_type": "code",
   "execution_count": 33,
   "id": "a14bcd45-192f-4c41-90b3-5929afa0f236",
   "metadata": {},
   "outputs": [
    {
     "data": {
      "text/plain": [
       "{'avg_schedule_metric_minutes': 52.0,\n",
       " 'avg_speed_metric_minutes': 893.0,\n",
       " 'all_schedule': [53.25833333333333,\n",
       "  20.433333333333334,\n",
       "  78.05,\n",
       "  49.175,\n",
       "  64.16666666666667,\n",
       "  75.20833333333333,\n",
       "  55.4,\n",
       "  60.84166666666667,\n",
       "  14.475],\n",
       " 'all_speed': [747.3978409473204,\n",
       "  505.33545268309683,\n",
       "  885.3617659165194,\n",
       "  1686.831775345611,\n",
       "  777.4150067746884,\n",
       "  931.8252172851112,\n",
       "  1379.7829452025758,\n",
       "  609.0198823468858,\n",
       "  514.3851696422547]}"
      ]
     },
     "execution_count": 33,
     "metadata": {},
     "output_type": "execute_result"
    }
   ],
   "source": [
    "octa_corridor_metrics"
   ]
  },
  {
   "cell_type": "code",
   "execution_count": 38,
   "id": "6c3673bb-f74c-4476-9d1f-197636bfdb86",
   "metadata": {},
   "outputs": [],
   "source": [
    "# rt_day.quick_map_corridor()"
   ]
  },
  {
   "cell_type": "code",
   "execution_count": 39,
   "id": "25ff3fdf-996b-4c77-89b5-416a7c3b0ab6",
   "metadata": {},
   "outputs": [],
   "source": [
    "# rt_day.segment_speed_map(corridor=True)"
   ]
  },
  {
   "cell_type": "code",
   "execution_count": 40,
   "id": "9a8d076d-96b6-4e20-8441-d5dd5e60ea27",
   "metadata": {},
   "outputs": [],
   "source": [
    "# rt_day.stop_delay_view >> filter(_.corridor) >> distinct(_.route_short_name)"
   ]
  },
  {
   "cell_type": "markdown",
   "id": "ea236bd1-69d5-4706-9440-398c922ff04a",
   "metadata": {},
   "source": [
    "# AC Dec 15\n",
    "\n",
    "* applicant also requested BART, unable without vehicle positions and as a grade-seperated system possibly non-applicable\n",
    "* three nearby polygons, will consolidate and notify applicant"
   ]
  },
  {
   "cell_type": "code",
   "execution_count": 11,
   "id": "13ebfbdd-e07a-4259-a86a-e2b6ac5121e4",
   "metadata": {},
   "outputs": [],
   "source": [
    "new_ac = gpd.read_file('./corridors_sccp_lpp/ac_dec_15rev.geojson')"
   ]
  },
  {
   "cell_type": "code",
   "execution_count": 1,
   "id": "f4310024-e3c1-43a8-aa09-c1b45e1206a0",
   "metadata": {},
   "outputs": [],
   "source": [
    "# new_ac.explore()"
   ]
  },
  {
   "cell_type": "code",
   "execution_count": 13,
   "id": "17c5c3b1-5dca-4da5-811e-c02f3f0b6bea",
   "metadata": {},
   "outputs": [
    {
     "name": "stdout",
     "output_type": "stream",
     "text": [
      "found parquet\n"
     ]
    }
   ],
   "source": [
    "rt_day = rt_filter_map_plot.from_gcs(4, dt.date(2022, 5, 5))"
   ]
  },
  {
   "cell_type": "code",
   "execution_count": 14,
   "id": "89f85528-8420-4d54-a1d6-35b2850f707a",
   "metadata": {},
   "outputs": [],
   "source": [
    "rt_day.add_corridor(new_ac)"
   ]
  },
  {
   "cell_type": "code",
   "execution_count": 21,
   "id": "adc4d1f2-bce8-41dd-9a47-1decbc79b959",
   "metadata": {},
   "outputs": [
    {
     "data": {
      "text/html": [
       "<div>\n",
       "<style scoped>\n",
       "    .dataframe tbody tr th:only-of-type {\n",
       "        vertical-align: middle;\n",
       "    }\n",
       "\n",
       "    .dataframe tbody tr th {\n",
       "        vertical-align: top;\n",
       "    }\n",
       "\n",
       "    .dataframe thead th {\n",
       "        text-align: right;\n",
       "    }\n",
       "</style>\n",
       "<table border=\"1\" class=\"dataframe\">\n",
       "  <thead>\n",
       "    <tr style=\"text-align: right;\">\n",
       "      <th></th>\n",
       "      <th>route_short_name</th>\n",
       "    </tr>\n",
       "  </thead>\n",
       "  <tbody>\n",
       "    <tr>\n",
       "      <th>0</th>\n",
       "      <td>800</td>\n",
       "    </tr>\n",
       "    <tr>\n",
       "      <th>1</th>\n",
       "      <td>72</td>\n",
       "    </tr>\n",
       "    <tr>\n",
       "      <th>2</th>\n",
       "      <td>72M</td>\n",
       "    </tr>\n",
       "    <tr>\n",
       "      <th>3</th>\n",
       "      <td>76</td>\n",
       "    </tr>\n",
       "    <tr>\n",
       "      <th>4</th>\n",
       "      <td>376</td>\n",
       "    </tr>\n",
       "    <tr>\n",
       "      <th>5</th>\n",
       "      <td>675</td>\n",
       "    </tr>\n",
       "    <tr>\n",
       "      <th>6</th>\n",
       "      <td>L</td>\n",
       "    </tr>\n",
       "    <tr>\n",
       "      <th>7</th>\n",
       "      <td>667</td>\n",
       "    </tr>\n",
       "    <tr>\n",
       "      <th>8</th>\n",
       "      <td>7</td>\n",
       "    </tr>\n",
       "  </tbody>\n",
       "</table>\n",
       "</div>"
      ],
      "text/plain": [
       "  route_short_name\n",
       "0              800\n",
       "1               72\n",
       "2              72M\n",
       "3               76\n",
       "4              376\n",
       "5              675\n",
       "6                L\n",
       "7              667\n",
       "8                7"
      ]
     },
     "execution_count": 21,
     "metadata": {},
     "output_type": "execute_result"
    }
   ],
   "source": [
    "rt_day.corridor_stop_delays >> distinct(_.route_short_name)"
   ]
  },
  {
   "cell_type": "code",
   "execution_count": 15,
   "id": "ac97b74b-d086-48b4-8f4b-1700fccec772",
   "metadata": {},
   "outputs": [
    {
     "data": {
      "text/plain": [
       "{'schedule_metric_minutes': 395.0083333333333,\n",
       " 'speed_metric_minutes': 949.5481268887544}"
      ]
     },
     "execution_count": 15,
     "metadata": {},
     "output_type": "execute_result"
    }
   ],
   "source": [
    "rt_day.corridor_metrics()"
   ]
  },
  {
   "cell_type": "code",
   "execution_count": 2,
   "id": "aab74d31-52d0-46df-ba9d-57d3d035920f",
   "metadata": {},
   "outputs": [],
   "source": [
    "# rt_day.quick_map_corridor()"
   ]
  },
  {
   "cell_type": "code",
   "execution_count": 3,
   "id": "96df1594-db8d-41b2-a047-5ed01f214fb0",
   "metadata": {},
   "outputs": [],
   "source": [
    "# rt_day.segment_speed_map(corridor=True)"
   ]
  },
  {
   "cell_type": "code",
   "execution_count": 18,
   "id": "022e3913-bacb-4456-89c6-eabe113e80d7",
   "metadata": {},
   "outputs": [
    {
     "name": "stdout",
     "output_type": "stream",
     "text": [
      "found parquet\n",
      "complete for date: 2022-04-30\n",
      "found parquet\n",
      "complete for date: 2022-05-01\n",
      "found parquet\n",
      "complete for date: 2022-05-02\n",
      "found parquet\n",
      "complete for date: 2022-05-03\n",
      "found parquet\n",
      "complete for date: 2022-05-04\n",
      "found parquet\n",
      "complete for date: 2022-05-05\n",
      "found parquet\n",
      "complete for date: 2022-05-06\n",
      "found parquet\n",
      "complete for date: 2022-05-07\n",
      "found parquet\n",
      "complete for date: 2022-05-08\n"
     ]
    }
   ],
   "source": [
    "ac_corridor_metrics = sccp_tools.sccp_average_metrics(itp_id=4, date_range=date_range, corridor=new_ac)"
   ]
  },
  {
   "cell_type": "code",
   "execution_count": 20,
   "id": "f3a9dc14-17ae-42bb-90ee-91e826632af6",
   "metadata": {},
   "outputs": [
    {
     "data": {
      "text/plain": [
       "{'avg_schedule_metric_minutes': 49.0,\n",
       " 'avg_speed_metric_minutes': 252.0,\n",
       " 'all_schedule': [2.4166666666666665,\n",
       "  0.7333333333333333,\n",
       "  -4.608333333333333,\n",
       "  1.4166666666666667,\n",
       "  9.125,\n",
       "  395.0083333333333,\n",
       "  33.766666666666666,\n",
       "  10.35,\n",
       "  -4.725],\n",
       " 'all_speed': [157.54734499935864,\n",
       "  171.83819257911264,\n",
       "  178.64810780672,\n",
       "  192.83988393923738,\n",
       "  158.28028253422397,\n",
       "  949.5481268887544,\n",
       "  230.55046328090458,\n",
       "  165.25451374992954,\n",
       "  64.13876403365857]}"
      ]
     },
     "execution_count": 20,
     "metadata": {},
     "output_type": "execute_result"
    }
   ],
   "source": [
    "ac_corridor_metrics"
   ]
  }
 ],
 "metadata": {
  "kernelspec": {
   "display_name": "Python 3 (ipykernel)",
   "language": "python",
   "name": "python3"
  },
  "language_info": {
   "codemirror_mode": {
    "name": "ipython",
    "version": 3
   },
   "file_extension": ".py",
   "mimetype": "text/x-python",
   "name": "python",
   "nbconvert_exporter": "python",
   "pygments_lexer": "ipython3",
   "version": "3.9.13"
  },
  "widgets": {
   "application/vnd.jupyter.widget-state+json": {
    "state": {},
    "version_major": 2,
    "version_minor": 0
   }
  }
 },
 "nbformat": 4,
 "nbformat_minor": 5
}
