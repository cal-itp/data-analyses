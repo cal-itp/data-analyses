{
 "cells": [
  {
   "cell_type": "code",
   "execution_count": 1,
   "id": "dcd66258-d288-4f65-a7e2-5065d0148b16",
   "metadata": {},
   "outputs": [],
   "source": [
    "import os\n",
    "os.environ[\"CALITP_BQ_MAX_BYTES\"] = str(1_000_000_000_000) ## 1TB?\n",
    "\n",
    "from siuba import *\n",
    "import pandas as pd\n",
    "import geopandas as gpd\n",
    "import datetime as dt\n",
    "\n",
    "from rt_analysis import rt_parser\n",
    "from rt_analysis import rt_filter_map_plot\n",
    "\n",
    "import shared_utils"
   ]
  },
  {
   "cell_type": "code",
   "execution_count": 2,
   "id": "2e857751-e558-40be-b9a1-2325d3337286",
   "metadata": {},
   "outputs": [],
   "source": [
    "from rt_analysis import sccp_tools\n",
    "import numpy as np"
   ]
  },
  {
   "cell_type": "code",
   "execution_count": 3,
   "id": "f9002041-23d1-40a8-81ac-47a0fc245727",
   "metadata": {},
   "outputs": [],
   "source": [
    "from tqdm.notebook import tqdm"
   ]
  },
  {
   "cell_type": "markdown",
   "id": "2d3d2533-014f-440f-8e71-bd5993f2f3c3",
   "metadata": {},
   "source": [
    "## run Beaumont (2024, legacy pipeline)"
   ]
  },
  {
   "cell_type": "code",
   "execution_count": 4,
   "id": "832d39ac-057e-4138-bb0c-6816b365f817",
   "metadata": {},
   "outputs": [],
   "source": [
    "dates = shared_utils.rt_dates.oct2024_week"
   ]
  },
  {
   "cell_type": "code",
   "execution_count": 5,
   "id": "92042a12-f89e-47a8-b183-fc64435f03cc",
   "metadata": {},
   "outputs": [],
   "source": [
    "dates = [dt.date.fromisoformat(date) for date in dates]"
   ]
  },
  {
   "cell_type": "code",
   "execution_count": 6,
   "id": "eb9ad46c-e637-4d84-92ed-f1ec2568fc7b",
   "metadata": {},
   "outputs": [
    {
     "data": {
      "text/plain": [
       "[datetime.date(2024, 10, 14),\n",
       " datetime.date(2024, 10, 15),\n",
       " datetime.date(2024, 10, 16),\n",
       " datetime.date(2024, 10, 17),\n",
       " datetime.date(2024, 10, 18),\n",
       " datetime.date(2024, 10, 19),\n",
       " datetime.date(2024, 10, 20),\n",
       " datetime.date(2024, 10, 21)]"
      ]
     },
     "execution_count": 6,
     "metadata": {},
     "output_type": "execute_result"
    }
   ],
   "source": [
    "dates"
   ]
  },
  {
   "cell_type": "code",
   "execution_count": 7,
   "id": "df8f1245-b4a1-4a46-a71a-6f0fc1203945",
   "metadata": {},
   "outputs": [],
   "source": [
    "from tqdm.notebook import tqdm"
   ]
  },
  {
   "cell_type": "code",
   "execution_count": 8,
   "id": "c65fa812-9fa2-4653-8ac8-22910068895b",
   "metadata": {
    "tags": []
   },
   "outputs": [
    {
     "data": {
      "application/vnd.jupyter.widget-view+json": {
       "model_id": "923843c0774f44f080a677c9e5c91be6",
       "version_major": 2,
       "version_minor": 0
      },
      "text/plain": [
       "0it [00:00, ?it/s]"
      ]
     },
     "metadata": {},
     "output_type": "display_data"
    }
   ],
   "source": [
    "pbar = tqdm()"
   ]
  },
  {
   "cell_type": "code",
   "execution_count": 9,
   "id": "417bf98a-4b15-4ed8-9b0c-535254dc1311",
   "metadata": {
    "tags": []
   },
   "outputs": [],
   "source": [
    "# for analysis_date in dates:\n",
    "#     print(f'{analysis_date}...', end=None)\n",
    "#     try:\n",
    "#         rt_day = rt_parser.OperatorDayAnalysis(34,\n",
    "#                                                analysis_date, pbar)\n",
    "#         rt_day.export_views_gcs()\n",
    "#         print('done')\n",
    "#     except:\n",
    "#         print('failed')\n",
    "\n",
    "#  ran OK except no Sunday service"
   ]
  },
  {
   "cell_type": "code",
   "execution_count": 10,
   "id": "ba10cc49-125a-4b1d-b6fc-c9e2b2ddf6b3",
   "metadata": {},
   "outputs": [],
   "source": [
    "beaumont = gpd.read_file('./corridors_sccp_lpp/2024/beaumont_map.geojson')"
   ]
  },
  {
   "cell_type": "code",
   "execution_count": 11,
   "id": "9e50c712-0508-4ff8-b159-13d6019c1c50",
   "metadata": {},
   "outputs": [
    {
     "ename": "ValueError",
     "evalue": "Length of values (9) does not match length of index (1)",
     "output_type": "error",
     "traceback": [
      "\u001b[0;31m---------------------------------------------------------------------------\u001b[0m",
      "\u001b[0;31mValueError\u001b[0m                                Traceback (most recent call last)",
      "Cell \u001b[0;32mIn[11], line 1\u001b[0m\n\u001b[0;32m----> 1\u001b[0m \u001b[43mbeaumont\u001b[49m\u001b[43m[\u001b[49m\u001b[38;5;124;43m'\u001b[39;49m\u001b[38;5;124;43mid\u001b[39;49m\u001b[38;5;124;43m'\u001b[39;49m\u001b[43m]\u001b[49m \u001b[38;5;241m=\u001b[39m \u001b[38;5;28mrange\u001b[39m(\u001b[38;5;241m9\u001b[39m)\n",
      "File \u001b[0;32m/opt/conda/lib/python3.9/site-packages/geopandas/geodataframe.py:1543\u001b[0m, in \u001b[0;36mGeoDataFrame.__setitem__\u001b[0;34m(self, key, value)\u001b[0m\n\u001b[1;32m   1538\u001b[0m     \u001b[38;5;28;01mexcept\u001b[39;00m \u001b[38;5;167;01mTypeError\u001b[39;00m:\n\u001b[1;32m   1539\u001b[0m         warnings\u001b[38;5;241m.\u001b[39mwarn(\n\u001b[1;32m   1540\u001b[0m             \u001b[38;5;124m\"\u001b[39m\u001b[38;5;124mGeometry column does not contain geometry.\u001b[39m\u001b[38;5;124m\"\u001b[39m,\n\u001b[1;32m   1541\u001b[0m             stacklevel\u001b[38;5;241m=\u001b[39m\u001b[38;5;241m2\u001b[39m,\n\u001b[1;32m   1542\u001b[0m         )\n\u001b[0;32m-> 1543\u001b[0m \u001b[38;5;28;43msuper\u001b[39;49m\u001b[43m(\u001b[49m\u001b[43m)\u001b[49m\u001b[38;5;241;43m.\u001b[39;49m\u001b[38;5;21;43m__setitem__\u001b[39;49m\u001b[43m(\u001b[49m\u001b[43mkey\u001b[49m\u001b[43m,\u001b[49m\u001b[43m \u001b[49m\u001b[43mvalue\u001b[49m\u001b[43m)\u001b[49m\n",
      "File \u001b[0;32m/opt/conda/lib/python3.9/site-packages/pandas/core/frame.py:3980\u001b[0m, in \u001b[0;36mDataFrame.__setitem__\u001b[0;34m(self, key, value)\u001b[0m\n\u001b[1;32m   3977\u001b[0m     \u001b[38;5;28mself\u001b[39m\u001b[38;5;241m.\u001b[39m_setitem_array([key], value)\n\u001b[1;32m   3978\u001b[0m \u001b[38;5;28;01melse\u001b[39;00m:\n\u001b[1;32m   3979\u001b[0m     \u001b[38;5;66;03m# set column\u001b[39;00m\n\u001b[0;32m-> 3980\u001b[0m     \u001b[38;5;28;43mself\u001b[39;49m\u001b[38;5;241;43m.\u001b[39;49m\u001b[43m_set_item\u001b[49m\u001b[43m(\u001b[49m\u001b[43mkey\u001b[49m\u001b[43m,\u001b[49m\u001b[43m \u001b[49m\u001b[43mvalue\u001b[49m\u001b[43m)\u001b[49m\n",
      "File \u001b[0;32m/opt/conda/lib/python3.9/site-packages/pandas/core/frame.py:4174\u001b[0m, in \u001b[0;36mDataFrame._set_item\u001b[0;34m(self, key, value)\u001b[0m\n\u001b[1;32m   4164\u001b[0m \u001b[38;5;28;01mdef\u001b[39;00m \u001b[38;5;21m_set_item\u001b[39m(\u001b[38;5;28mself\u001b[39m, key, value) \u001b[38;5;241m-\u001b[39m\u001b[38;5;241m>\u001b[39m \u001b[38;5;28;01mNone\u001b[39;00m:\n\u001b[1;32m   4165\u001b[0m \u001b[38;5;250m    \u001b[39m\u001b[38;5;124;03m\"\"\"\u001b[39;00m\n\u001b[1;32m   4166\u001b[0m \u001b[38;5;124;03m    Add series to DataFrame in specified column.\u001b[39;00m\n\u001b[1;32m   4167\u001b[0m \n\u001b[0;32m   (...)\u001b[0m\n\u001b[1;32m   4172\u001b[0m \u001b[38;5;124;03m    ensure homogeneity.\u001b[39;00m\n\u001b[1;32m   4173\u001b[0m \u001b[38;5;124;03m    \"\"\"\u001b[39;00m\n\u001b[0;32m-> 4174\u001b[0m     value \u001b[38;5;241m=\u001b[39m \u001b[38;5;28;43mself\u001b[39;49m\u001b[38;5;241;43m.\u001b[39;49m\u001b[43m_sanitize_column\u001b[49m\u001b[43m(\u001b[49m\u001b[43mvalue\u001b[49m\u001b[43m)\u001b[49m\n\u001b[1;32m   4176\u001b[0m     \u001b[38;5;28;01mif\u001b[39;00m (\n\u001b[1;32m   4177\u001b[0m         key \u001b[38;5;129;01min\u001b[39;00m \u001b[38;5;28mself\u001b[39m\u001b[38;5;241m.\u001b[39mcolumns\n\u001b[1;32m   4178\u001b[0m         \u001b[38;5;129;01mand\u001b[39;00m value\u001b[38;5;241m.\u001b[39mndim \u001b[38;5;241m==\u001b[39m \u001b[38;5;241m1\u001b[39m\n\u001b[1;32m   4179\u001b[0m         \u001b[38;5;129;01mand\u001b[39;00m \u001b[38;5;129;01mnot\u001b[39;00m is_extension_array_dtype(value)\n\u001b[1;32m   4180\u001b[0m     ):\n\u001b[1;32m   4181\u001b[0m         \u001b[38;5;66;03m# broadcast across multiple columns if necessary\u001b[39;00m\n\u001b[1;32m   4182\u001b[0m         \u001b[38;5;28;01mif\u001b[39;00m \u001b[38;5;129;01mnot\u001b[39;00m \u001b[38;5;28mself\u001b[39m\u001b[38;5;241m.\u001b[39mcolumns\u001b[38;5;241m.\u001b[39mis_unique \u001b[38;5;129;01mor\u001b[39;00m \u001b[38;5;28misinstance\u001b[39m(\u001b[38;5;28mself\u001b[39m\u001b[38;5;241m.\u001b[39mcolumns, MultiIndex):\n",
      "File \u001b[0;32m/opt/conda/lib/python3.9/site-packages/pandas/core/frame.py:4915\u001b[0m, in \u001b[0;36mDataFrame._sanitize_column\u001b[0;34m(self, value)\u001b[0m\n\u001b[1;32m   4912\u001b[0m     \u001b[38;5;28;01mreturn\u001b[39;00m _reindex_for_setitem(Series(value), \u001b[38;5;28mself\u001b[39m\u001b[38;5;241m.\u001b[39mindex)\n\u001b[1;32m   4914\u001b[0m \u001b[38;5;28;01mif\u001b[39;00m is_list_like(value):\n\u001b[0;32m-> 4915\u001b[0m     \u001b[43mcom\u001b[49m\u001b[38;5;241;43m.\u001b[39;49m\u001b[43mrequire_length_match\u001b[49m\u001b[43m(\u001b[49m\u001b[43mvalue\u001b[49m\u001b[43m,\u001b[49m\u001b[43m \u001b[49m\u001b[38;5;28;43mself\u001b[39;49m\u001b[38;5;241;43m.\u001b[39;49m\u001b[43mindex\u001b[49m\u001b[43m)\u001b[49m\n\u001b[1;32m   4916\u001b[0m \u001b[38;5;28;01mreturn\u001b[39;00m sanitize_array(value, \u001b[38;5;28mself\u001b[39m\u001b[38;5;241m.\u001b[39mindex, copy\u001b[38;5;241m=\u001b[39m\u001b[38;5;28;01mTrue\u001b[39;00m, allow_2d\u001b[38;5;241m=\u001b[39m\u001b[38;5;28;01mTrue\u001b[39;00m)\n",
      "File \u001b[0;32m/opt/conda/lib/python3.9/site-packages/pandas/core/common.py:571\u001b[0m, in \u001b[0;36mrequire_length_match\u001b[0;34m(data, index)\u001b[0m\n\u001b[1;32m    567\u001b[0m \u001b[38;5;250m\u001b[39m\u001b[38;5;124;03m\"\"\"\u001b[39;00m\n\u001b[1;32m    568\u001b[0m \u001b[38;5;124;03mCheck the length of data matches the length of the index.\u001b[39;00m\n\u001b[1;32m    569\u001b[0m \u001b[38;5;124;03m\"\"\"\u001b[39;00m\n\u001b[1;32m    570\u001b[0m \u001b[38;5;28;01mif\u001b[39;00m \u001b[38;5;28mlen\u001b[39m(data) \u001b[38;5;241m!=\u001b[39m \u001b[38;5;28mlen\u001b[39m(index):\n\u001b[0;32m--> 571\u001b[0m     \u001b[38;5;28;01mraise\u001b[39;00m \u001b[38;5;167;01mValueError\u001b[39;00m(\n\u001b[1;32m    572\u001b[0m         \u001b[38;5;124m\"\u001b[39m\u001b[38;5;124mLength of values \u001b[39m\u001b[38;5;124m\"\u001b[39m\n\u001b[1;32m    573\u001b[0m         \u001b[38;5;124mf\u001b[39m\u001b[38;5;124m\"\u001b[39m\u001b[38;5;124m(\u001b[39m\u001b[38;5;132;01m{\u001b[39;00m\u001b[38;5;28mlen\u001b[39m(data)\u001b[38;5;132;01m}\u001b[39;00m\u001b[38;5;124m) \u001b[39m\u001b[38;5;124m\"\u001b[39m\n\u001b[1;32m    574\u001b[0m         \u001b[38;5;124m\"\u001b[39m\u001b[38;5;124mdoes not match length of index \u001b[39m\u001b[38;5;124m\"\u001b[39m\n\u001b[1;32m    575\u001b[0m         \u001b[38;5;124mf\u001b[39m\u001b[38;5;124m\"\u001b[39m\u001b[38;5;124m(\u001b[39m\u001b[38;5;132;01m{\u001b[39;00m\u001b[38;5;28mlen\u001b[39m(index)\u001b[38;5;132;01m}\u001b[39;00m\u001b[38;5;124m)\u001b[39m\u001b[38;5;124m\"\u001b[39m\n\u001b[1;32m    576\u001b[0m     )\n",
      "\u001b[0;31mValueError\u001b[0m: Length of values (9) does not match length of index (1)"
     ]
    }
   ],
   "source": [
    "beaumont['id'] = range(9)"
   ]
  },
  {
   "cell_type": "code",
   "execution_count": null,
   "id": "37371cfe-46c2-412e-b645-02ada780e8e8",
   "metadata": {},
   "outputs": [],
   "source": [
    "beaumont.explore()"
   ]
  },
  {
   "cell_type": "code",
   "execution_count": null,
   "id": "94868130-60a4-4e6e-9cc9-c95b76fe5a6c",
   "metadata": {},
   "outputs": [],
   "source": [
    "rt_day = rt_filter_map_plot.from_gcs(34, dates[1])"
   ]
  },
  {
   "cell_type": "code",
   "execution_count": null,
   "id": "aacd4cf6-60ec-4ec9-80e1-69a387dad258",
   "metadata": {},
   "outputs": [],
   "source": [
    "# rt_day.add_corridor(beaumont_a)\n",
    "rt_day.add_corridor(beaumont)"
   ]
  },
  {
   "cell_type": "code",
   "execution_count": null,
   "id": "61713671-b752-4382-b363-e1668dcb2edb",
   "metadata": {},
   "outputs": [],
   "source": [
    "rt_day.corridor"
   ]
  },
  {
   "cell_type": "code",
   "execution_count": null,
   "id": "a329a5fe-f77b-4086-b392-588c4f099e7d",
   "metadata": {},
   "outputs": [],
   "source": [
    "rt_day.corridor_metrics(sccp=True)"
   ]
  },
  {
   "cell_type": "code",
   "execution_count": null,
   "id": "3ea7897d-8542-474f-9b2a-5d59a38507d0",
   "metadata": {
    "tags": []
   },
   "outputs": [],
   "source": [
    "rt_day.quick_map_corridor()"
   ]
  },
  {
   "cell_type": "code",
   "execution_count": null,
   "id": "39fc03a8-4b13-4ff4-8ebc-9af2ebc8f273",
   "metadata": {},
   "outputs": [],
   "source": [
    "beau_corridor_metrics = sccp_tools.sccp_average_metrics(itp_id=34, date_range=dates, corridor=beaumont)"
   ]
  },
  {
   "cell_type": "code",
   "execution_count": null,
   "id": "b4c842fc-bacf-402b-aef2-ec4e0fc498c5",
   "metadata": {},
   "outputs": [],
   "source": [
    "beau_corridor_metrics"
   ]
  },
  {
   "cell_type": "code",
   "execution_count": null,
   "id": "ebefa8dd-18a2-4d6f-ada1-315697d3d47f",
   "metadata": {},
   "outputs": [],
   "source": [
    "beau_corridor_metrics['all_schedule'][0].mean()"
   ]
  },
  {
   "cell_type": "markdown",
   "id": "56e1209a-3324-42dc-97a5-b9bc7dc96371",
   "metadata": {},
   "source": [
    "## run VTA (2024, legacy pipeline)"
   ]
  },
  {
   "cell_type": "code",
   "execution_count": null,
   "id": "d5cea893-0a0f-45ff-aa1c-d3d18725e387",
   "metadata": {},
   "outputs": [],
   "source": [
    "vta = gpd.read_file('./corridors_sccp_lpp/2024/BSVII_BoundingBox_SCVTA.geojson')"
   ]
  },
  {
   "cell_type": "code",
   "execution_count": null,
   "id": "cc6d8f20-2b59-4df8-a882-1a003ba8dc0a",
   "metadata": {},
   "outputs": [],
   "source": [
    "vta.explore()"
   ]
  },
  {
   "cell_type": "markdown",
   "id": "0190d051-8208-41a0-aafd-4ca14da4e795",
   "metadata": {},
   "source": [
    "# About the Metrics\n",
    "\n",
    "The schedule-based metric is a daily average of the sum of median trip stop delays along the corridor. To further explain, we take each corridor trip that we have data for and look at the delay in comparison to the schedule at each stop, after subtracting off any delay present as the trip entered the corridor. For each trip we then take the median delay of all stops along the corridor, and sum these medians to create the metric.\n",
    "\n",
    "The speed-based metric is a daily average of the sum of delays for each trip traversing the corridor as compared to a reference speed of 16 miles per houar. To further explain, we take each corridor trip that we have data for and calculate the hypothetical time it would take for that trip to traverse the corridor at a speed of 16 mph. The difference between the actual time it took for the trip to traverse the corridor and that hypothetical time is the speed-based delay for that trip, and we sum those delays to create the metric. This metric is intended to provide a more consistent basis for comparison independent of scheduling practices.\n",
    "\n",
    "In other words, if we expect a hypothetical bus lane/signal priority/payment system etc to increase corridor speeds to 16mph, this is how much time we could save per day.\n",
    "\n",
    "With corridor attached, generate both metrics using `RtFilterMapper.corridor_metrics()`"
   ]
  },
  {
   "cell_type": "markdown",
   "id": "a56cdc3e-95ab-4f42-8fc7-207b6305c5cf",
   "metadata": {},
   "source": [
    "## Common Date Range (2022-23) and convienience function\n",
    "\n",
    "* both the date range and tools to generate data are likely to change in future cycles\n",
    "* reference documentation in `rt_delay`"
   ]
  },
  {
   "cell_type": "code",
   "execution_count": null,
   "id": "4ce12969-7cd3-4cd7-b760-c6f7826b85e5",
   "metadata": {
    "tags": []
   },
   "outputs": [],
   "source": [
    "date_range = np.arange('2022-04-30', '2022-05-09', dtype='datetime64[D]')"
   ]
  },
  {
   "cell_type": "markdown",
   "id": "8a587312-5e69-4958-a95f-5f215921d179",
   "metadata": {},
   "source": [
    "# OCTA 12/1/2022"
   ]
  },
  {
   "cell_type": "code",
   "execution_count": null,
   "id": "4e9ea214-b413-455f-948a-506bf899b28c",
   "metadata": {},
   "outputs": [],
   "source": [
    "octa = gpd.read_file('./corridors_sccp_lpp/octa_dec1_rev.geojson')"
   ]
  },
  {
   "cell_type": "code",
   "execution_count": null,
   "id": "ee9802c3-a6be-4b26-968d-06975aab77e4",
   "metadata": {},
   "outputs": [],
   "source": [
    "# octa.explore()"
   ]
  },
  {
   "cell_type": "code",
   "execution_count": null,
   "id": "5fbcaf71-c292-4534-b7dc-f1aeed77b999",
   "metadata": {},
   "outputs": [],
   "source": [
    "rt_day = rt_filter_map_plot.from_gcs(235, dt.date(2022, 5, 5))"
   ]
  },
  {
   "cell_type": "code",
   "execution_count": null,
   "id": "c3520e75-e17d-43d9-b921-b4ca186eac7b",
   "metadata": {},
   "outputs": [],
   "source": [
    "rt_day.add_corridor(octa)"
   ]
  },
  {
   "cell_type": "code",
   "execution_count": null,
   "id": "1c325faa-6d8b-4a34-ac46-fc4f9321ef69",
   "metadata": {},
   "outputs": [],
   "source": [
    "rt_day.corridor_metrics()"
   ]
  },
  {
   "cell_type": "code",
   "execution_count": null,
   "id": "43745190-28b8-4ad2-8118-edeb500a51ca",
   "metadata": {},
   "outputs": [],
   "source": [
    "octa_corridor_metrics = sccp_tools.sccp_average_metrics(itp_id=235, date_range=date_range, corridor=octa)"
   ]
  },
  {
   "cell_type": "code",
   "execution_count": null,
   "id": "a14bcd45-192f-4c41-90b3-5929afa0f236",
   "metadata": {},
   "outputs": [],
   "source": [
    "octa_corridor_metrics"
   ]
  },
  {
   "cell_type": "code",
   "execution_count": null,
   "id": "6c3673bb-f74c-4476-9d1f-197636bfdb86",
   "metadata": {},
   "outputs": [],
   "source": [
    "rt_day.quick_map_corridor()"
   ]
  },
  {
   "cell_type": "code",
   "execution_count": null,
   "id": "25ff3fdf-996b-4c77-89b5-416a7c3b0ab6",
   "metadata": {},
   "outputs": [],
   "source": [
    "rt_day.segment_speed_map(corridor=True)"
   ]
  },
  {
   "cell_type": "code",
   "execution_count": null,
   "id": "9a8d076d-96b6-4e20-8441-d5dd5e60ea27",
   "metadata": {},
   "outputs": [],
   "source": [
    "rt_day.stop_delay_view >> filter(_.corridor) >> distinct(_.route_short_name)"
   ]
  },
  {
   "cell_type": "markdown",
   "id": "ea236bd1-69d5-4706-9440-398c922ff04a",
   "metadata": {},
   "source": [
    "# AC Dec 15\n",
    "\n",
    "* applicant also requested BART, unable without vehicle positions and as a grade-seperated system possibly non-applicable\n",
    "* three nearby polygons, will consolidate and notify applicant"
   ]
  },
  {
   "cell_type": "code",
   "execution_count": null,
   "id": "13ebfbdd-e07a-4259-a86a-e2b6ac5121e4",
   "metadata": {},
   "outputs": [],
   "source": [
    "new_ac = gpd.read_file('./corridors_sccp_lpp/ac_dec_15rev.geojson')"
   ]
  },
  {
   "cell_type": "code",
   "execution_count": null,
   "id": "f4310024-e3c1-43a8-aa09-c1b45e1206a0",
   "metadata": {},
   "outputs": [],
   "source": [
    "# new_ac.explore()"
   ]
  },
  {
   "cell_type": "code",
   "execution_count": null,
   "id": "17c5c3b1-5dca-4da5-811e-c02f3f0b6bea",
   "metadata": {},
   "outputs": [],
   "source": [
    "rt_day = rt_filter_map_plot.from_gcs(4, dt.date(2022, 5, 5))"
   ]
  },
  {
   "cell_type": "code",
   "execution_count": null,
   "id": "89f85528-8420-4d54-a1d6-35b2850f707a",
   "metadata": {},
   "outputs": [],
   "source": [
    "rt_day.add_corridor(new_ac)"
   ]
  },
  {
   "cell_type": "code",
   "execution_count": null,
   "id": "adc4d1f2-bce8-41dd-9a47-1decbc79b959",
   "metadata": {},
   "outputs": [],
   "source": [
    "rt_day.corridor_stop_delays >> distinct(_.route_short_name)"
   ]
  },
  {
   "cell_type": "code",
   "execution_count": null,
   "id": "ac97b74b-d086-48b4-8f4b-1700fccec772",
   "metadata": {},
   "outputs": [],
   "source": [
    "rt_day.corridor_metrics()"
   ]
  },
  {
   "cell_type": "code",
   "execution_count": null,
   "id": "aab74d31-52d0-46df-ba9d-57d3d035920f",
   "metadata": {},
   "outputs": [],
   "source": [
    "rt_day.quick_map_corridor()"
   ]
  },
  {
   "cell_type": "code",
   "execution_count": null,
   "id": "96df1594-db8d-41b2-a047-5ed01f214fb0",
   "metadata": {},
   "outputs": [],
   "source": [
    "rt_day.segment_speed_map(corridor=True)"
   ]
  },
  {
   "cell_type": "code",
   "execution_count": null,
   "id": "022e3913-bacb-4456-89c6-eabe113e80d7",
   "metadata": {},
   "outputs": [],
   "source": [
    "ac_corridor_metrics = sccp_tools.sccp_average_metrics(itp_id=4, date_range=date_range, corridor=new_ac)"
   ]
  },
  {
   "cell_type": "code",
   "execution_count": null,
   "id": "f3a9dc14-17ae-42bb-90ee-91e826632af6",
   "metadata": {},
   "outputs": [],
   "source": [
    "ac_corridor_metrics"
   ]
  },
  {
   "cell_type": "markdown",
   "id": "fb9a2b89-ca81-4763-bbc7-5e51c2251e99",
   "metadata": {},
   "source": [
    "# Samtrans"
   ]
  },
  {
   "cell_type": "code",
   "execution_count": null,
   "id": "2bf398bb-972e-46a6-ae05-ffe3eb8048d9",
   "metadata": {},
   "outputs": [],
   "source": [
    "# itp_id = 290 # Samtrans"
   ]
  },
  {
   "cell_type": "code",
   "execution_count": null,
   "id": "4ca4e9c9-e0b0-4ffd-821b-d05493bf2010",
   "metadata": {},
   "outputs": [],
   "source": [
    "# corridor = gpd.read_file('./corridors_sccp_lpp/peninsula.geojson') ## foster city / hayward park"
   ]
  },
  {
   "cell_type": "markdown",
   "id": "3ec413df-faaa-4c63-99e9-92d02e8fe77e",
   "metadata": {},
   "source": [
    "# Metro (Inglewood)"
   ]
  },
  {
   "cell_type": "code",
   "execution_count": null,
   "id": "d1af16af-0749-4440-8e52-c2829c62732b",
   "metadata": {},
   "outputs": [],
   "source": [
    "# itp_id = 182\n",
    "# corridor = gpd.read_file('./corridors_sccp_lpp/inglewood_map.geojson')"
   ]
  }
 ],
 "metadata": {
  "kernelspec": {
   "display_name": "Python 3 (ipykernel)",
   "language": "python",
   "name": "python3"
  },
  "language_info": {
   "codemirror_mode": {
    "name": "ipython",
    "version": 3
   },
   "file_extension": ".py",
   "mimetype": "text/x-python",
   "name": "python",
   "nbconvert_exporter": "python",
   "pygments_lexer": "ipython3",
   "version": "3.9.13"
  },
  "widgets": {
   "application/vnd.jupyter.widget-state+json": {
    "state": {
     "0d0bb72d44de43aebc0517772e6a8c24": {
      "model_module": "@jupyter-widgets/controls",
      "model_module_version": "1.5.0",
      "model_name": "FloatProgressModel",
      "state": {
       "bar_style": "info",
       "layout": "IPY_MODEL_582940ab8a5e44d086c07bdf00650012",
       "max": 1,
       "style": "IPY_MODEL_ebe6a5a83565426da8f7e59a523ed8a9"
      }
     },
     "40ca2468c57a472fa794dc5a129095ec": {
      "model_module": "@jupyter-widgets/controls",
      "model_module_version": "1.5.0",
      "model_name": "DescriptionStyleModel",
      "state": {
       "description_width": ""
      }
     },
     "4bdb7b1f1da943d7bb46a15ae19d63ee": {
      "model_module": "@jupyter-widgets/base",
      "model_module_version": "1.2.0",
      "model_name": "LayoutModel",
      "state": {}
     },
     "55e322c9bd3f4e0b854c49170782b1ae": {
      "model_module": "@jupyter-widgets/controls",
      "model_module_version": "1.5.0",
      "model_name": "HTMLModel",
      "state": {
       "layout": "IPY_MODEL_b232d6d55e7c4c5bad57b10829b3debc",
       "style": "IPY_MODEL_40ca2468c57a472fa794dc5a129095ec",
       "value": " 0/? [00:00&lt;?, ?it/s]"
      }
     },
     "582940ab8a5e44d086c07bdf00650012": {
      "model_module": "@jupyter-widgets/base",
      "model_module_version": "1.2.0",
      "model_name": "LayoutModel",
      "state": {
       "width": "20px"
      }
     },
     "923843c0774f44f080a677c9e5c91be6": {
      "model_module": "@jupyter-widgets/controls",
      "model_module_version": "1.5.0",
      "model_name": "HBoxModel",
      "state": {
       "children": [
        "IPY_MODEL_bc33e86c16544f4db94dff445efceff8",
        "IPY_MODEL_0d0bb72d44de43aebc0517772e6a8c24",
        "IPY_MODEL_55e322c9bd3f4e0b854c49170782b1ae"
       ],
       "layout": "IPY_MODEL_9e137513dd15410d9f85335d64c9a700"
      }
     },
     "9e137513dd15410d9f85335d64c9a700": {
      "model_module": "@jupyter-widgets/base",
      "model_module_version": "1.2.0",
      "model_name": "LayoutModel",
      "state": {}
     },
     "b232d6d55e7c4c5bad57b10829b3debc": {
      "model_module": "@jupyter-widgets/base",
      "model_module_version": "1.2.0",
      "model_name": "LayoutModel",
      "state": {}
     },
     "bc33e86c16544f4db94dff445efceff8": {
      "model_module": "@jupyter-widgets/controls",
      "model_module_version": "1.5.0",
      "model_name": "HTMLModel",
      "state": {
       "layout": "IPY_MODEL_4bdb7b1f1da943d7bb46a15ae19d63ee",
       "style": "IPY_MODEL_fa1d50a12e924293bd228108625c3c72"
      }
     },
     "ebe6a5a83565426da8f7e59a523ed8a9": {
      "model_module": "@jupyter-widgets/controls",
      "model_module_version": "1.5.0",
      "model_name": "ProgressStyleModel",
      "state": {
       "description_width": ""
      }
     },
     "fa1d50a12e924293bd228108625c3c72": {
      "model_module": "@jupyter-widgets/controls",
      "model_module_version": "1.5.0",
      "model_name": "DescriptionStyleModel",
      "state": {
       "description_width": ""
      }
     }
    },
    "version_major": 2,
    "version_minor": 0
   }
  }
 },
 "nbformat": 4,
 "nbformat_minor": 5
}
