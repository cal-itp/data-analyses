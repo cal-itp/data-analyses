{
 "cells": [
  {
   "cell_type": "code",
   "execution_count": null,
   "id": "dcd66258-d288-4f65-a7e2-5065d0148b16",
   "metadata": {},
   "outputs": [],
   "source": [
    "import os\n",
    "os.environ[\"CALITP_BQ_MAX_BYTES\"] = str(1_000_000_000_000) ## 1TB?\n",
    "\n",
    "from siuba import *\n",
    "import pandas as pd\n",
    "import geopandas as gpd\n",
    "import datetime as dt\n",
    "\n",
    "from rt_analysis import rt_parser\n",
    "from rt_analysis import rt_filter_map_plot\n",
    "\n",
    "import shared_utils"
   ]
  },
  {
   "cell_type": "code",
   "execution_count": null,
   "id": "2e857751-e558-40be-b9a1-2325d3337286",
   "metadata": {},
   "outputs": [],
   "source": [
    "from rt_analysis import sccp_tools\n",
    "import numpy as np"
   ]
  },
  {
   "cell_type": "code",
   "execution_count": null,
   "id": "f9002041-23d1-40a8-81ac-47a0fc245727",
   "metadata": {},
   "outputs": [],
   "source": [
    "from tqdm.notebook import tqdm"
   ]
  },
  {
   "cell_type": "markdown",
   "id": "0190d051-8208-41a0-aafd-4ca14da4e795",
   "metadata": {},
   "source": [
    "# About the Metrics\n",
    "\n",
    "The schedule-based metric is a daily average of the sum of median trip stop delays along the corridor. To further explain, we take each corridor trip that we have data for and look at the delay in comparison to the schedule at each stop, after subtracting off any delay present as the trip entered the corridor. For each trip we then take the median delay of all stops along the corridor, and sum these medians to create the metric.\n",
    "\n",
    "The speed-based metric is a daily average of the sum of delays for each trip traversing the corridor as compared to a reference speed of 16 miles per houar. To further explain, we take each corridor trip that we have data for and calculate the hypothetical time it would take for that trip to traverse the corridor at a speed of 16 mph. The difference between the actual time it took for the trip to traverse the corridor and that hypothetical time is the speed-based delay for that trip, and we sum those delays to create the metric. This metric is intended to provide a more consistent basis for comparison independent of scheduling practices.\n",
    "\n",
    "In other words, if we expect a hypothetical bus lane/signal priority/payment system etc to increase corridor speeds to 16mph, this is how much time we could save per day.\n",
    "\n",
    "With corridor attached, generate both metrics using `RtFilterMapper.corridor_metrics()`"
   ]
  },
  {
   "cell_type": "markdown",
   "id": "a56cdc3e-95ab-4f42-8fc7-207b6305c5cf",
   "metadata": {},
   "source": [
    "## Common Date Range (2022-23) and convienience function\n",
    "\n",
    "* both the date range and tools to generate data are likely to change in future cycles\n",
    "* reference documentation in `rt_delay`"
   ]
  },
  {
   "cell_type": "code",
   "execution_count": null,
   "id": "4ce12969-7cd3-4cd7-b760-c6f7826b85e5",
   "metadata": {
    "tags": []
   },
   "outputs": [],
   "source": [
    "date_range = np.arange('2022-04-30', '2022-05-09', dtype='datetime64[D]')"
   ]
  },
  {
   "cell_type": "markdown",
   "id": "8a587312-5e69-4958-a95f-5f215921d179",
   "metadata": {},
   "source": [
    "# OCTA 12/1/2022"
   ]
  },
  {
   "cell_type": "code",
   "execution_count": null,
   "id": "4e9ea214-b413-455f-948a-506bf899b28c",
   "metadata": {},
   "outputs": [],
   "source": [
    "octa = gpd.read_file('./corridors_sccp_lpp/octa_dec1_rev.geojson')"
   ]
  },
  {
   "cell_type": "code",
   "execution_count": null,
   "id": "ee9802c3-a6be-4b26-968d-06975aab77e4",
   "metadata": {},
   "outputs": [],
   "source": [
    "# octa.explore()"
   ]
  },
  {
   "cell_type": "code",
   "execution_count": null,
   "id": "5fbcaf71-c292-4534-b7dc-f1aeed77b999",
   "metadata": {},
   "outputs": [],
   "source": [
    "rt_day = rt_filter_map_plot.from_gcs(235, dt.date(2022, 5, 5))"
   ]
  },
  {
   "cell_type": "code",
   "execution_count": null,
   "id": "c3520e75-e17d-43d9-b921-b4ca186eac7b",
   "metadata": {},
   "outputs": [],
   "source": [
    "rt_day.add_corridor(octa)"
   ]
  },
  {
   "cell_type": "code",
   "execution_count": null,
   "id": "1c325faa-6d8b-4a34-ac46-fc4f9321ef69",
   "metadata": {},
   "outputs": [],
   "source": [
    "rt_day.corridor_metrics()"
   ]
  },
  {
   "cell_type": "code",
   "execution_count": null,
   "id": "43745190-28b8-4ad2-8118-edeb500a51ca",
   "metadata": {},
   "outputs": [],
   "source": [
    "octa_corridor_metrics = sccp_tools.sccp_average_metrics(itp_id=235, date_range=date_range, corridor=octa)"
   ]
  },
  {
   "cell_type": "code",
   "execution_count": null,
   "id": "a14bcd45-192f-4c41-90b3-5929afa0f236",
   "metadata": {},
   "outputs": [],
   "source": [
    "octa_corridor_metrics"
   ]
  },
  {
   "cell_type": "code",
   "execution_count": null,
   "id": "6c3673bb-f74c-4476-9d1f-197636bfdb86",
   "metadata": {},
   "outputs": [],
   "source": [
    "rt_day.quick_map_corridor()"
   ]
  },
  {
   "cell_type": "code",
   "execution_count": null,
   "id": "25ff3fdf-996b-4c77-89b5-416a7c3b0ab6",
   "metadata": {},
   "outputs": [],
   "source": [
    "rt_day.segment_speed_map(corridor=True)"
   ]
  },
  {
   "cell_type": "code",
   "execution_count": null,
   "id": "9a8d076d-96b6-4e20-8441-d5dd5e60ea27",
   "metadata": {},
   "outputs": [],
   "source": [
    "rt_day.stop_delay_view >> filter(_.corridor) >> distinct(_.route_short_name)"
   ]
  },
  {
   "cell_type": "markdown",
   "id": "ea236bd1-69d5-4706-9440-398c922ff04a",
   "metadata": {},
   "source": [
    "# AC Dec 15\n",
    "\n",
    "* applicant also requested BART, unable without vehicle positions and as a grade-seperated system possibly non-applicable\n",
    "* three nearby polygons, will consolidate and notify applicant"
   ]
  },
  {
   "cell_type": "code",
   "execution_count": null,
   "id": "13ebfbdd-e07a-4259-a86a-e2b6ac5121e4",
   "metadata": {},
   "outputs": [],
   "source": [
    "new_ac = gpd.read_file('./corridors_sccp_lpp/ac_dec_15rev.geojson')"
   ]
  },
  {
   "cell_type": "code",
   "execution_count": null,
   "id": "f4310024-e3c1-43a8-aa09-c1b45e1206a0",
   "metadata": {},
   "outputs": [],
   "source": [
    "# new_ac.explore()"
   ]
  },
  {
   "cell_type": "code",
   "execution_count": null,
   "id": "17c5c3b1-5dca-4da5-811e-c02f3f0b6bea",
   "metadata": {},
   "outputs": [],
   "source": [
    "rt_day = rt_filter_map_plot.from_gcs(4, dt.date(2022, 5, 5))"
   ]
  },
  {
   "cell_type": "code",
   "execution_count": null,
   "id": "89f85528-8420-4d54-a1d6-35b2850f707a",
   "metadata": {},
   "outputs": [],
   "source": [
    "rt_day.add_corridor(new_ac)"
   ]
  },
  {
   "cell_type": "code",
   "execution_count": null,
   "id": "adc4d1f2-bce8-41dd-9a47-1decbc79b959",
   "metadata": {},
   "outputs": [],
   "source": [
    "rt_day.corridor_stop_delays >> distinct(_.route_short_name)"
   ]
  },
  {
   "cell_type": "code",
   "execution_count": null,
   "id": "ac97b74b-d086-48b4-8f4b-1700fccec772",
   "metadata": {},
   "outputs": [],
   "source": [
    "rt_day.corridor_metrics()"
   ]
  },
  {
   "cell_type": "code",
   "execution_count": null,
   "id": "aab74d31-52d0-46df-ba9d-57d3d035920f",
   "metadata": {},
   "outputs": [],
   "source": [
    "rt_day.quick_map_corridor()"
   ]
  },
  {
   "cell_type": "code",
   "execution_count": null,
   "id": "96df1594-db8d-41b2-a047-5ed01f214fb0",
   "metadata": {},
   "outputs": [],
   "source": [
    "rt_day.segment_speed_map(corridor=True)"
   ]
  },
  {
   "cell_type": "code",
   "execution_count": null,
   "id": "022e3913-bacb-4456-89c6-eabe113e80d7",
   "metadata": {},
   "outputs": [],
   "source": [
    "ac_corridor_metrics = sccp_tools.sccp_average_metrics(itp_id=4, date_range=date_range, corridor=new_ac)"
   ]
  },
  {
   "cell_type": "code",
   "execution_count": null,
   "id": "f3a9dc14-17ae-42bb-90ee-91e826632af6",
   "metadata": {},
   "outputs": [],
   "source": [
    "ac_corridor_metrics"
   ]
  },
  {
   "cell_type": "markdown",
   "id": "fb9a2b89-ca81-4763-bbc7-5e51c2251e99",
   "metadata": {},
   "source": [
    "# Samtrans"
   ]
  },
  {
   "cell_type": "code",
   "execution_count": null,
   "id": "2bf398bb-972e-46a6-ae05-ffe3eb8048d9",
   "metadata": {},
   "outputs": [],
   "source": [
    "# itp_id = 290 # Samtrans"
   ]
  },
  {
   "cell_type": "code",
   "execution_count": null,
   "id": "4ca4e9c9-e0b0-4ffd-821b-d05493bf2010",
   "metadata": {},
   "outputs": [],
   "source": [
    "# corridor = gpd.read_file('./corridors_sccp_lpp/peninsula.geojson') ## foster city / hayward park"
   ]
  },
  {
   "cell_type": "markdown",
   "id": "3ec413df-faaa-4c63-99e9-92d02e8fe77e",
   "metadata": {},
   "source": [
    "# Metro (Inglewood)"
   ]
  },
  {
   "cell_type": "code",
   "execution_count": null,
   "id": "d1af16af-0749-4440-8e52-c2829c62732b",
   "metadata": {},
   "outputs": [],
   "source": [
    "# itp_id = 182\n",
    "# corridor = gpd.read_file('./corridors_sccp_lpp/inglewood_map.geojson')"
   ]
  }
 ],
 "metadata": {
  "kernelspec": {
   "display_name": "Python 3 (ipykernel)",
   "language": "python",
   "name": "python3"
  },
  "language_info": {
   "codemirror_mode": {
    "name": "ipython",
    "version": 3
   },
   "file_extension": ".py",
   "mimetype": "text/x-python",
   "name": "python",
   "nbconvert_exporter": "python",
   "pygments_lexer": "ipython3",
   "version": "3.9.13"
  },
  "widgets": {
   "application/vnd.jupyter.widget-state+json": {
    "state": {},
    "version_major": 2,
    "version_minor": 0
   }
  }
 },
 "nbformat": 4,
 "nbformat_minor": 5
}
