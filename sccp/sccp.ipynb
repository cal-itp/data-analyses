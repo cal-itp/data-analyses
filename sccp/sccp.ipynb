{
 "cells": [
  {
   "cell_type": "code",
   "execution_count": 1,
   "id": "dcd66258-d288-4f65-a7e2-5065d0148b16",
   "metadata": {},
   "outputs": [],
   "source": [
    "import os\n",
    "os.environ[\"CALITP_BQ_MAX_BYTES\"] = str(1_000_000_000_000) ## 1TB?\n",
    "\n",
    "from siuba import *\n",
    "import pandas as pd\n",
    "import geopandas as gpd\n",
    "import datetime as dt\n",
    "\n",
    "from rt_analysis import rt_parser\n",
    "from rt_analysis import rt_filter_map_plot\n",
    "\n",
    "import shared_utils"
   ]
  },
  {
   "cell_type": "code",
   "execution_count": 2,
   "id": "2e857751-e558-40be-b9a1-2325d3337286",
   "metadata": {},
   "outputs": [],
   "source": [
    "from rt_analysis import sccp_tools\n",
    "import numpy as np"
   ]
  },
  {
   "cell_type": "code",
   "execution_count": 3,
   "id": "f9002041-23d1-40a8-81ac-47a0fc245727",
   "metadata": {},
   "outputs": [],
   "source": [
    "from tqdm.notebook import tqdm"
   ]
  },
  {
   "cell_type": "markdown",
   "id": "2d3d2533-014f-440f-8e71-bd5993f2f3c3",
   "metadata": {},
   "source": [
    "## run Beaumont (2024, legacy pipeline)"
   ]
  },
  {
   "cell_type": "code",
   "execution_count": 41,
   "id": "832d39ac-057e-4138-bb0c-6816b365f817",
   "metadata": {},
   "outputs": [],
   "source": [
    "dates = shared_utils.rt_dates.oct2024_week"
   ]
  },
  {
   "cell_type": "code",
   "execution_count": 16,
   "id": "92042a12-f89e-47a8-b183-fc64435f03cc",
   "metadata": {},
   "outputs": [],
   "source": [
    "dates = [dt.date.fromisoformat(date) for date in dates]"
   ]
  },
  {
   "cell_type": "code",
   "execution_count": 17,
   "id": "eb9ad46c-e637-4d84-92ed-f1ec2568fc7b",
   "metadata": {},
   "outputs": [
    {
     "data": {
      "text/plain": [
       "[datetime.date(2024, 10, 14),\n",
       " datetime.date(2024, 10, 15),\n",
       " datetime.date(2024, 10, 16),\n",
       " datetime.date(2024, 10, 17),\n",
       " datetime.date(2024, 10, 18),\n",
       " datetime.date(2024, 10, 19),\n",
       " datetime.date(2024, 10, 20),\n",
       " datetime.date(2024, 10, 21)]"
      ]
     },
     "execution_count": 17,
     "metadata": {},
     "output_type": "execute_result"
    }
   ],
   "source": [
    "dates"
   ]
  },
  {
   "cell_type": "code",
   "execution_count": 13,
   "id": "df8f1245-b4a1-4a46-a71a-6f0fc1203945",
   "metadata": {},
   "outputs": [],
   "source": [
    "from tqdm.notebook import tqdm"
   ]
  },
  {
   "cell_type": "code",
   "execution_count": 14,
   "id": "c65fa812-9fa2-4653-8ac8-22910068895b",
   "metadata": {
    "tags": []
   },
   "outputs": [
    {
     "data": {
      "application/vnd.jupyter.widget-view+json": {
       "model_id": "16cddff978ab45df9194da7150b77ce5",
       "version_major": 2,
       "version_minor": 0
      },
      "text/plain": [
       "0it [00:00, ?it/s]"
      ]
     },
     "metadata": {},
     "output_type": "display_data"
    }
   ],
   "source": [
    "pbar = tqdm()"
   ]
  },
  {
   "cell_type": "code",
   "execution_count": 21,
   "id": "417bf98a-4b15-4ed8-9b0c-535254dc1311",
   "metadata": {
    "tags": []
   },
   "outputs": [],
   "source": [
    "# for analysis_date in dates:\n",
    "#     print(f'{analysis_date}...', end=None)\n",
    "#     try:\n",
    "#         rt_day = rt_parser.OperatorDayAnalysis(34,\n",
    "#                                                analysis_date, pbar)\n",
    "#         rt_day.export_views_gcs()\n",
    "#         print('done')\n",
    "#     except:\n",
    "#         print('failed')\n",
    "\n",
    "#  ran OK except no Sunday service"
   ]
  },
  {
   "cell_type": "code",
   "execution_count": 22,
   "id": "ba10cc49-125a-4b1d-b6fc-c9e2b2ddf6b3",
   "metadata": {},
   "outputs": [],
   "source": [
    "beaumont = gpd.read_file('./corridors_sccp_lpp/2024/beaumont_map.geojson')"
   ]
  },
  {
   "cell_type": "code",
   "execution_count": 25,
   "id": "9e50c712-0508-4ff8-b159-13d6019c1c50",
   "metadata": {},
   "outputs": [],
   "source": [
    "beaumont['id'] = range(9)"
   ]
  },
  {
   "cell_type": "code",
   "execution_count": 29,
   "id": "b974c601-d4c6-4ef0-be90-3d25720dd483",
   "metadata": {},
   "outputs": [],
   "source": [
    "beaumont_a = beaumont >> filter(_.id.isin(range(5)))\n",
    "beaumont_a = beaumont_a.dissolve()"
   ]
  },
  {
   "cell_type": "code",
   "execution_count": 30,
   "id": "08fc2e72-d316-44e3-9428-2796e503a8f6",
   "metadata": {},
   "outputs": [
    {
     "data": {
      "text/html": [
       "<div style=\"width:100%;\"><div style=\"position:relative;width:100%;height:0;padding-bottom:60%;\"><span style=\"color:#565656\">Make this Notebook Trusted to load map: File -> Trust Notebook</span><iframe src=\"about:blank\" style=\"position:absolute;width:100%;height:100%;left:0;top:0;border:none !important;\" data-html=%3C%21DOCTYPE%20html%3E%0A%3Chead%3E%20%20%20%20%0A%20%20%20%20%3Cmeta%20http-equiv%3D%22content-type%22%20content%3D%22text/html%3B%20charset%3DUTF-8%22%20/%3E%0A%20%20%20%20%0A%20%20%20%20%20%20%20%20%3Cscript%3E%0A%20%20%20%20%20%20%20%20%20%20%20%20L_NO_TOUCH%20%3D%20false%3B%0A%20%20%20%20%20%20%20%20%20%20%20%20L_DISABLE_3D%20%3D%20false%3B%0A%20%20%20%20%20%20%20%20%3C/script%3E%0A%20%20%20%20%0A%20%20%20%20%3Cstyle%3Ehtml%2C%20body%20%7Bwidth%3A%20100%25%3Bheight%3A%20100%25%3Bmargin%3A%200%3Bpadding%3A%200%3B%7D%3C/style%3E%0A%20%20%20%20%3Cstyle%3E%23map%20%7Bposition%3Aabsolute%3Btop%3A0%3Bbottom%3A0%3Bright%3A0%3Bleft%3A0%3B%7D%3C/style%3E%0A%20%20%20%20%3Cscript%20src%3D%22https%3A//cdn.jsdelivr.net/npm/leaflet%401.6.0/dist/leaflet.js%22%3E%3C/script%3E%0A%20%20%20%20%3Cscript%20src%3D%22https%3A//code.jquery.com/jquery-1.12.4.min.js%22%3E%3C/script%3E%0A%20%20%20%20%3Cscript%20src%3D%22https%3A//maxcdn.bootstrapcdn.com/bootstrap/3.2.0/js/bootstrap.min.js%22%3E%3C/script%3E%0A%20%20%20%20%3Cscript%20src%3D%22https%3A//cdnjs.cloudflare.com/ajax/libs/Leaflet.awesome-markers/2.0.2/leaflet.awesome-markers.js%22%3E%3C/script%3E%0A%20%20%20%20%3Clink%20rel%3D%22stylesheet%22%20href%3D%22https%3A//cdn.jsdelivr.net/npm/leaflet%401.6.0/dist/leaflet.css%22/%3E%0A%20%20%20%20%3Clink%20rel%3D%22stylesheet%22%20href%3D%22https%3A//maxcdn.bootstrapcdn.com/bootstrap/3.2.0/css/bootstrap.min.css%22/%3E%0A%20%20%20%20%3Clink%20rel%3D%22stylesheet%22%20href%3D%22https%3A//maxcdn.bootstrapcdn.com/bootstrap/3.2.0/css/bootstrap-theme.min.css%22/%3E%0A%20%20%20%20%3Clink%20rel%3D%22stylesheet%22%20href%3D%22https%3A//maxcdn.bootstrapcdn.com/font-awesome/4.6.3/css/font-awesome.min.css%22/%3E%0A%20%20%20%20%3Clink%20rel%3D%22stylesheet%22%20href%3D%22https%3A//cdnjs.cloudflare.com/ajax/libs/Leaflet.awesome-markers/2.0.2/leaflet.awesome-markers.css%22/%3E%0A%20%20%20%20%3Clink%20rel%3D%22stylesheet%22%20href%3D%22https%3A//cdn.jsdelivr.net/gh/python-visualization/folium/folium/templates/leaflet.awesome.rotate.min.css%22/%3E%0A%20%20%20%20%0A%20%20%20%20%20%20%20%20%20%20%20%20%3Cmeta%20name%3D%22viewport%22%20content%3D%22width%3Ddevice-width%2C%0A%20%20%20%20%20%20%20%20%20%20%20%20%20%20%20%20initial-scale%3D1.0%2C%20maximum-scale%3D1.0%2C%20user-scalable%3Dno%22%20/%3E%0A%20%20%20%20%20%20%20%20%20%20%20%20%3Cstyle%3E%0A%20%20%20%20%20%20%20%20%20%20%20%20%20%20%20%20%23map_17b531ccbf8e4a4ea6a5f052abaa8664%20%7B%0A%20%20%20%20%20%20%20%20%20%20%20%20%20%20%20%20%20%20%20%20position%3A%20relative%3B%0A%20%20%20%20%20%20%20%20%20%20%20%20%20%20%20%20%20%20%20%20width%3A%20100.0%25%3B%0A%20%20%20%20%20%20%20%20%20%20%20%20%20%20%20%20%20%20%20%20height%3A%20100.0%25%3B%0A%20%20%20%20%20%20%20%20%20%20%20%20%20%20%20%20%20%20%20%20left%3A%200.0%25%3B%0A%20%20%20%20%20%20%20%20%20%20%20%20%20%20%20%20%20%20%20%20top%3A%200.0%25%3B%0A%20%20%20%20%20%20%20%20%20%20%20%20%20%20%20%20%7D%0A%20%20%20%20%20%20%20%20%20%20%20%20%3C/style%3E%0A%20%20%20%20%20%20%20%20%0A%20%20%20%20%0A%20%20%20%20%20%20%20%20%20%20%20%20%20%20%20%20%20%20%20%20%3Cstyle%3E%0A%20%20%20%20%20%20%20%20%20%20%20%20%20%20%20%20%20%20%20%20%20%20%20%20.foliumtooltip%20%7B%0A%20%20%20%20%20%20%20%20%20%20%20%20%20%20%20%20%20%20%20%20%20%20%20%20%20%20%20%20%0A%20%20%20%20%20%20%20%20%20%20%20%20%20%20%20%20%20%20%20%20%20%20%20%20%7D%0A%20%20%20%20%20%20%20%20%20%20%20%20%20%20%20%20%20%20%20%20%20%20%20.foliumtooltip%20table%7B%0A%20%20%20%20%20%20%20%20%20%20%20%20%20%20%20%20%20%20%20%20%20%20%20%20%20%20%20%20margin%3A%20auto%3B%0A%20%20%20%20%20%20%20%20%20%20%20%20%20%20%20%20%20%20%20%20%20%20%20%20%7D%0A%20%20%20%20%20%20%20%20%20%20%20%20%20%20%20%20%20%20%20%20%20%20%20%20.foliumtooltip%20tr%7B%0A%20%20%20%20%20%20%20%20%20%20%20%20%20%20%20%20%20%20%20%20%20%20%20%20%20%20%20%20text-align%3A%20left%3B%0A%20%20%20%20%20%20%20%20%20%20%20%20%20%20%20%20%20%20%20%20%20%20%20%20%7D%0A%20%20%20%20%20%20%20%20%20%20%20%20%20%20%20%20%20%20%20%20%20%20%20%20.foliumtooltip%20th%7B%0A%20%20%20%20%20%20%20%20%20%20%20%20%20%20%20%20%20%20%20%20%20%20%20%20%20%20%20%20padding%3A%202px%3B%20padding-right%3A%208px%3B%0A%20%20%20%20%20%20%20%20%20%20%20%20%20%20%20%20%20%20%20%20%20%20%20%20%7D%0A%20%20%20%20%20%20%20%20%20%20%20%20%20%20%20%20%20%20%20%20%3C/style%3E%0A%20%20%20%20%20%20%20%20%20%20%20%20%0A%3C/head%3E%0A%3Cbody%3E%20%20%20%20%0A%20%20%20%20%0A%20%20%20%20%20%20%20%20%20%20%20%20%3Cdiv%20class%3D%22folium-map%22%20id%3D%22map_17b531ccbf8e4a4ea6a5f052abaa8664%22%20%3E%3C/div%3E%0A%20%20%20%20%20%20%20%20%0A%3C/body%3E%0A%3Cscript%3E%20%20%20%20%0A%20%20%20%20%0A%20%20%20%20%20%20%20%20%20%20%20%20var%20map_17b531ccbf8e4a4ea6a5f052abaa8664%20%3D%20L.map%28%0A%20%20%20%20%20%20%20%20%20%20%20%20%20%20%20%20%22map_17b531ccbf8e4a4ea6a5f052abaa8664%22%2C%0A%20%20%20%20%20%20%20%20%20%20%20%20%20%20%20%20%7B%0A%20%20%20%20%20%20%20%20%20%20%20%20%20%20%20%20%20%20%20%20center%3A%20%5B33.94686350412389%2C%20-117.00679715537014%5D%2C%0A%20%20%20%20%20%20%20%20%20%20%20%20%20%20%20%20%20%20%20%20crs%3A%20L.CRS.EPSG3857%2C%0A%20%20%20%20%20%20%20%20%20%20%20%20%20%20%20%20%20%20%20%20zoom%3A%2010%2C%0A%20%20%20%20%20%20%20%20%20%20%20%20%20%20%20%20%20%20%20%20zoomControl%3A%20true%2C%0A%20%20%20%20%20%20%20%20%20%20%20%20%20%20%20%20%20%20%20%20preferCanvas%3A%20false%2C%0A%20%20%20%20%20%20%20%20%20%20%20%20%20%20%20%20%7D%0A%20%20%20%20%20%20%20%20%20%20%20%20%29%3B%0A%20%20%20%20%20%20%20%20%20%20%20%20L.control.scale%28%29.addTo%28map_17b531ccbf8e4a4ea6a5f052abaa8664%29%3B%0A%0A%20%20%20%20%20%20%20%20%20%20%20%20%0A%0A%20%20%20%20%20%20%20%20%0A%20%20%20%20%0A%20%20%20%20%20%20%20%20%20%20%20%20var%20tile_layer_fc8699f60e5f493a8d797bbfaf32af2f%20%3D%20L.tileLayer%28%0A%20%20%20%20%20%20%20%20%20%20%20%20%20%20%20%20%22https%3A//%7Bs%7D.tile.openstreetmap.org/%7Bz%7D/%7Bx%7D/%7By%7D.png%22%2C%0A%20%20%20%20%20%20%20%20%20%20%20%20%20%20%20%20%7B%22attribution%22%3A%20%22Data%20by%20%5Cu0026copy%3B%20%5Cu003ca%20href%3D%5C%22http%3A//openstreetmap.org%5C%22%5Cu003eOpenStreetMap%5Cu003c/a%5Cu003e%2C%20under%20%5Cu003ca%20href%3D%5C%22http%3A//www.openstreetmap.org/copyright%5C%22%5Cu003eODbL%5Cu003c/a%5Cu003e.%22%2C%20%22detectRetina%22%3A%20false%2C%20%22maxNativeZoom%22%3A%2018%2C%20%22maxZoom%22%3A%2018%2C%20%22minZoom%22%3A%200%2C%20%22noWrap%22%3A%20false%2C%20%22opacity%22%3A%201%2C%20%22subdomains%22%3A%20%22abc%22%2C%20%22tms%22%3A%20false%7D%0A%20%20%20%20%20%20%20%20%20%20%20%20%29.addTo%28map_17b531ccbf8e4a4ea6a5f052abaa8664%29%3B%0A%20%20%20%20%20%20%20%20%0A%20%20%20%20%0A%20%20%20%20%20%20%20%20%20%20%20%20map_17b531ccbf8e4a4ea6a5f052abaa8664.fitBounds%28%0A%20%20%20%20%20%20%20%20%20%20%20%20%20%20%20%20%5B%5B33.920887278882105%2C%20-117.06718771941166%5D%2C%20%5B33.972839729365674%2C%20-116.94640659132861%5D%5D%2C%0A%20%20%20%20%20%20%20%20%20%20%20%20%20%20%20%20%7B%7D%0A%20%20%20%20%20%20%20%20%20%20%20%20%29%3B%0A%20%20%20%20%20%20%20%20%0A%20%20%20%20%0A%20%20%20%20%20%20%20%20function%20geo_json_3c546eec3bc64c32af7cb74a7ff3bdee_styler%28feature%29%20%7B%0A%20%20%20%20%20%20%20%20%20%20%20%20switch%28feature.id%29%20%7B%0A%20%20%20%20%20%20%20%20%20%20%20%20%20%20%20%20default%3A%0A%20%20%20%20%20%20%20%20%20%20%20%20%20%20%20%20%20%20%20%20return%20%7B%22fillOpacity%22%3A%200.5%2C%20%22weight%22%3A%202%7D%3B%0A%20%20%20%20%20%20%20%20%20%20%20%20%7D%0A%20%20%20%20%20%20%20%20%7D%0A%20%20%20%20%20%20%20%20function%20geo_json_3c546eec3bc64c32af7cb74a7ff3bdee_highlighter%28feature%29%20%7B%0A%20%20%20%20%20%20%20%20%20%20%20%20switch%28feature.id%29%20%7B%0A%20%20%20%20%20%20%20%20%20%20%20%20%20%20%20%20default%3A%0A%20%20%20%20%20%20%20%20%20%20%20%20%20%20%20%20%20%20%20%20return%20%7B%22fillOpacity%22%3A%200.75%7D%3B%0A%20%20%20%20%20%20%20%20%20%20%20%20%7D%0A%20%20%20%20%20%20%20%20%7D%0A%20%20%20%20%20%20%20%20function%20geo_json_3c546eec3bc64c32af7cb74a7ff3bdee_pointToLayer%28feature%2C%20latlng%29%20%7B%0A%20%20%20%20%20%20%20%20%20%20%20%20var%20opts%20%3D%20%7B%22bubblingMouseEvents%22%3A%20true%2C%20%22color%22%3A%20%22%233388ff%22%2C%20%22dashArray%22%3A%20null%2C%20%22dashOffset%22%3A%20null%2C%20%22fill%22%3A%20true%2C%20%22fillColor%22%3A%20%22%233388ff%22%2C%20%22fillOpacity%22%3A%200.2%2C%20%22fillRule%22%3A%20%22evenodd%22%2C%20%22lineCap%22%3A%20%22round%22%2C%20%22lineJoin%22%3A%20%22round%22%2C%20%22opacity%22%3A%201.0%2C%20%22radius%22%3A%202%2C%20%22stroke%22%3A%20true%2C%20%22weight%22%3A%203%7D%3B%0A%20%20%20%20%20%20%20%20%20%20%20%20%0A%20%20%20%20%20%20%20%20%20%20%20%20let%20style%20%3D%20geo_json_3c546eec3bc64c32af7cb74a7ff3bdee_styler%28feature%29%0A%20%20%20%20%20%20%20%20%20%20%20%20Object.assign%28opts%2C%20style%29%0A%20%20%20%20%20%20%20%20%20%20%20%20%0A%20%20%20%20%20%20%20%20%20%20%20%20return%20new%20L.CircleMarker%28latlng%2C%20opts%29%0A%20%20%20%20%20%20%20%20%7D%0A%0A%20%20%20%20%20%20%20%20function%20geo_json_3c546eec3bc64c32af7cb74a7ff3bdee_onEachFeature%28feature%2C%20layer%29%20%7B%0A%20%20%20%20%20%20%20%20%20%20%20%20layer.on%28%7B%0A%20%20%20%20%20%20%20%20%20%20%20%20%20%20%20%20mouseout%3A%20function%28e%29%20%7B%0A%20%20%20%20%20%20%20%20%20%20%20%20%20%20%20%20%20%20%20%20if%28typeof%20e.target.setStyle%20%3D%3D%3D%20%22function%22%29%7B%0A%20%20%20%20%20%20%20%20%20%20%20%20%20%20%20%20%20%20%20%20%20%20%20%20geo_json_3c546eec3bc64c32af7cb74a7ff3bdee.resetStyle%28e.target%29%3B%0A%20%20%20%20%20%20%20%20%20%20%20%20%20%20%20%20%20%20%20%20%7D%0A%20%20%20%20%20%20%20%20%20%20%20%20%20%20%20%20%7D%2C%0A%20%20%20%20%20%20%20%20%20%20%20%20%20%20%20%20mouseover%3A%20function%28e%29%20%7B%0A%20%20%20%20%20%20%20%20%20%20%20%20%20%20%20%20%20%20%20%20if%28typeof%20e.target.setStyle%20%3D%3D%3D%20%22function%22%29%7B%0A%20%20%20%20%20%20%20%20%20%20%20%20%20%20%20%20%20%20%20%20%20%20%20%20const%20highlightStyle%20%3D%20geo_json_3c546eec3bc64c32af7cb74a7ff3bdee_highlighter%28e.target.feature%29%0A%20%20%20%20%20%20%20%20%20%20%20%20%20%20%20%20%20%20%20%20%20%20%20%20e.target.setStyle%28highlightStyle%29%3B%0A%20%20%20%20%20%20%20%20%20%20%20%20%20%20%20%20%20%20%20%20%7D%0A%20%20%20%20%20%20%20%20%20%20%20%20%20%20%20%20%7D%2C%0A%20%20%20%20%20%20%20%20%20%20%20%20%7D%29%3B%0A%20%20%20%20%20%20%20%20%7D%3B%0A%20%20%20%20%20%20%20%20var%20geo_json_3c546eec3bc64c32af7cb74a7ff3bdee%20%3D%20L.geoJson%28null%2C%20%7B%0A%20%20%20%20%20%20%20%20%20%20%20%20%20%20%20%20onEachFeature%3A%20geo_json_3c546eec3bc64c32af7cb74a7ff3bdee_onEachFeature%2C%0A%20%20%20%20%20%20%20%20%20%20%20%20%0A%20%20%20%20%20%20%20%20%20%20%20%20%20%20%20%20style%3A%20geo_json_3c546eec3bc64c32af7cb74a7ff3bdee_styler%2C%0A%20%20%20%20%20%20%20%20%20%20%20%20%20%20%20%20pointToLayer%3A%20geo_json_3c546eec3bc64c32af7cb74a7ff3bdee_pointToLayer%0A%20%20%20%20%20%20%20%20%7D%29%3B%0A%0A%20%20%20%20%20%20%20%20function%20geo_json_3c546eec3bc64c32af7cb74a7ff3bdee_add%20%28data%29%20%7B%0A%20%20%20%20%20%20%20%20%20%20%20%20geo_json_3c546eec3bc64c32af7cb74a7ff3bdee%0A%20%20%20%20%20%20%20%20%20%20%20%20%20%20%20%20.addData%28data%29%0A%20%20%20%20%20%20%20%20%20%20%20%20%20%20%20%20.addTo%28map_17b531ccbf8e4a4ea6a5f052abaa8664%29%3B%0A%20%20%20%20%20%20%20%20%7D%0A%20%20%20%20%20%20%20%20%20%20%20%20geo_json_3c546eec3bc64c32af7cb74a7ff3bdee_add%28%7B%22bbox%22%3A%20%5B-117.06718771941166%2C%2033.920887278882105%2C%20-116.94640659132861%2C%2033.972839729365674%5D%2C%20%22features%22%3A%20%5B%7B%22bbox%22%3A%20%5B-117.06718771941166%2C%2033.920887278882105%2C%20-116.94640659132861%2C%2033.972839729365674%5D%2C%20%22geometry%22%3A%20%7B%22coordinates%22%3A%20%5B%5B%5B-117.03569711576165%2C%2033.92518880744322%5D%2C%20%5B-117.03569711576165%2C%2033.940786308145476%5D%2C%20%5B-117.06718771941166%2C%2033.940786308145476%5D%2C%20%5B-117.06718771941166%2C%2033.9611165928124%5D%2C%20%5B-116.99073897342505%2C%2033.9611165928124%5D%2C%20%5B-116.99073897342505%2C%2033.972839729365674%5D%2C%20%5B-116.97595541906031%2C%2033.972839729365674%5D%2C%20%5B-116.97595541906031%2C%2033.96194540768201%5D%2C%20%5B-116.963896445557%2C%2033.96194540768201%5D%2C%20%5B-116.963896445557%2C%2033.94771244950783%5D%2C%20%5B-116.94640659132861%2C%2033.94771244950783%5D%2C%20%5B-116.94640659132861%2C%2033.92110465060212%5D%2C%20%5B-116.963896445557%2C%2033.92110465060212%5D%2C%20%5B-116.963896445557%2C%2033.920887278882105%5D%2C%20%5B-116.97619733135053%2C%2033.920887278882105%5D%2C%20%5B-116.97619733135053%2C%2033.920903354051674%5D%2C%20%5B-116.99073897342505%2C%2033.920903354051674%5D%2C%20%5B-116.99073897342505%2C%2033.92518880744322%5D%2C%20%5B-117.03569711576165%2C%2033.92518880744322%5D%5D%5D%2C%20%22type%22%3A%20%22Polygon%22%7D%2C%20%22id%22%3A%20%220%22%2C%20%22properties%22%3A%20%7B%22id%22%3A%200%7D%2C%20%22type%22%3A%20%22Feature%22%7D%5D%2C%20%22type%22%3A%20%22FeatureCollection%22%7D%29%3B%0A%0A%20%20%20%20%20%20%20%20%0A%20%20%20%20%0A%20%20%20%20geo_json_3c546eec3bc64c32af7cb74a7ff3bdee.bindTooltip%28%0A%20%20%20%20function%28layer%29%7B%0A%20%20%20%20let%20div%20%3D%20L.DomUtil.create%28%27div%27%29%3B%0A%20%20%20%20%0A%20%20%20%20let%20handleObject%20%3D%20feature%3D%3Etypeof%28feature%29%3D%3D%27object%27%20%3F%20JSON.stringify%28feature%29%20%3A%20feature%3B%0A%20%20%20%20let%20fields%20%3D%20%5B%22id%22%5D%3B%0A%20%20%20%20let%20aliases%20%3D%20%5B%22id%22%5D%3B%0A%20%20%20%20let%20table%20%3D%20%27%3Ctable%3E%27%20%2B%0A%20%20%20%20%20%20%20%20String%28%0A%20%20%20%20%20%20%20%20fields.map%28%0A%20%20%20%20%20%20%20%20%28v%2Ci%29%3D%3E%0A%20%20%20%20%20%20%20%20%60%3Ctr%3E%0A%20%20%20%20%20%20%20%20%20%20%20%20%3Cth%3E%24%7Baliases%5Bi%5D%7D%3C/th%3E%0A%20%20%20%20%20%20%20%20%20%20%20%20%0A%20%20%20%20%20%20%20%20%20%20%20%20%3Ctd%3E%24%7BhandleObject%28layer.feature.properties%5Bv%5D%29%7D%3C/td%3E%0A%20%20%20%20%20%20%20%20%3C/tr%3E%60%29.join%28%27%27%29%29%0A%20%20%20%20%2B%27%3C/table%3E%27%3B%0A%20%20%20%20div.innerHTML%3Dtable%3B%0A%20%20%20%20%0A%20%20%20%20return%20div%0A%20%20%20%20%7D%0A%20%20%20%20%2C%7B%22className%22%3A%20%22foliumtooltip%22%2C%20%22sticky%22%3A%20true%7D%29%3B%0A%20%20%20%20%20%20%20%20%20%20%20%20%20%20%20%20%20%20%20%20%20%0A%3C/script%3E onload=\"this.contentDocument.open();this.contentDocument.write(    decodeURIComponent(this.getAttribute('data-html')));this.contentDocument.close();\" allowfullscreen webkitallowfullscreen mozallowfullscreen></iframe></div></div>"
      ],
      "text/plain": [
       "<folium.folium.Map at 0x7e3498e6b490>"
      ]
     },
     "execution_count": 30,
     "metadata": {},
     "output_type": "execute_result"
    }
   ],
   "source": [
    "beaumont_a.explore()"
   ]
  },
  {
   "cell_type": "code",
   "execution_count": 31,
   "id": "94868130-60a4-4e6e-9cc9-c95b76fe5a6c",
   "metadata": {},
   "outputs": [
    {
     "name": "stdout",
     "output_type": "stream",
     "text": [
      "found shapes parquet at gs://calitp-analytics-data/data-analyses/rt_delay/v2_cached_views/shapes_34_2024-10-14.parquet\n"
     ]
    }
   ],
   "source": [
    "rt_day = rt_filter_map_plot.from_gcs(34, dates[0])"
   ]
  },
  {
   "cell_type": "code",
   "execution_count": 32,
   "id": "aacd4cf6-60ec-4ec9-80e1-69a387dad258",
   "metadata": {},
   "outputs": [],
   "source": [
    "rt_day.add_corridor(beaumont_a)"
   ]
  },
  {
   "cell_type": "code",
   "execution_count": 34,
   "id": "61713671-b752-4382-b363-e1668dcb2edb",
   "metadata": {},
   "outputs": [
    {
     "data": {
      "text/html": [
       "<div>\n",
       "<style scoped>\n",
       "    .dataframe tbody tr th:only-of-type {\n",
       "        vertical-align: middle;\n",
       "    }\n",
       "\n",
       "    .dataframe tbody tr th {\n",
       "        vertical-align: top;\n",
       "    }\n",
       "\n",
       "    .dataframe thead th {\n",
       "        text-align: right;\n",
       "    }\n",
       "</style>\n",
       "<table border=\"1\" class=\"dataframe\">\n",
       "  <thead>\n",
       "    <tr style=\"text-align: right;\">\n",
       "      <th></th>\n",
       "      <th>geometry</th>\n",
       "    </tr>\n",
       "  </thead>\n",
       "  <tbody>\n",
       "    <tr>\n",
       "      <th>0</th>\n",
       "      <td>POLYGON ((274071.272 -450179.931, 274017.191 -...</td>\n",
       "    </tr>\n",
       "  </tbody>\n",
       "</table>\n",
       "</div>"
      ],
      "text/plain": [
       "                                            geometry\n",
       "0  POLYGON ((274071.272 -450179.931, 274017.191 -..."
      ]
     },
     "execution_count": 34,
     "metadata": {},
     "output_type": "execute_result"
    }
   ],
   "source": [
    "rt_day.corridor"
   ]
  },
  {
   "cell_type": "code",
   "execution_count": 36,
   "id": "99869ebd-4607-4a0b-95db-564a474ef65f",
   "metadata": {},
   "outputs": [],
   "source": [
    "rt_day.corridor['distance_meters'] = 0"
   ]
  },
  {
   "cell_type": "code",
   "execution_count": 38,
   "id": "a329a5fe-f77b-4086-b392-588c4f099e7d",
   "metadata": {},
   "outputs": [
    {
     "name": "stdout",
     "output_type": "stream",
     "text": [
      "metrics attached to self.corridor: \n"
     ]
    },
    {
     "data": {
      "text/html": [
       "<div>\n",
       "<style scoped>\n",
       "    .dataframe tbody tr th:only-of-type {\n",
       "        vertical-align: middle;\n",
       "    }\n",
       "\n",
       "    .dataframe tbody tr th {\n",
       "        vertical-align: top;\n",
       "    }\n",
       "\n",
       "    .dataframe thead th {\n",
       "        text-align: right;\n",
       "    }\n",
       "</style>\n",
       "<table border=\"1\" class=\"dataframe\">\n",
       "  <thead>\n",
       "    <tr style=\"text-align: right;\">\n",
       "      <th></th>\n",
       "      <th>route_id</th>\n",
       "      <th>route_short_name</th>\n",
       "      <th>organization</th>\n",
       "      <th>p20_corr_mph</th>\n",
       "      <th>p50_corr_mph</th>\n",
       "      <th>avg_corr_mph</th>\n",
       "      <th>speed_delay_minutes</th>\n",
       "      <th>schedule_delay_minutes</th>\n",
       "      <th>total_speed_delay</th>\n",
       "      <th>total_schedule_delay</th>\n",
       "      <th>p50_runtime_minutes</th>\n",
       "      <th>n_trips</th>\n",
       "      <th>span_hours</th>\n",
       "      <th>daily_avg_trips_hr</th>\n",
       "      <th>trips_added</th>\n",
       "      <th>new_avg_trips_hr</th>\n",
       "      <th>length_miles</th>\n",
       "      <th>distance_meters</th>\n",
       "      <th>target_mph</th>\n",
       "      <th>geometry</th>\n",
       "    </tr>\n",
       "  </thead>\n",
       "  <tbody>\n",
       "    <tr>\n",
       "      <th>0</th>\n",
       "      <td>1381</td>\n",
       "      <td>NaN</td>\n",
       "      <td>City of Beaumont</td>\n",
       "      <td>51.5</td>\n",
       "      <td>57.2</td>\n",
       "      <td>62.7</td>\n",
       "      <td>-166.5</td>\n",
       "      <td>-0.9</td>\n",
       "      <td>-135.3</td>\n",
       "      <td>2.0</td>\n",
       "      <td>28.0</td>\n",
       "      <td>6</td>\n",
       "      <td>8.1</td>\n",
       "      <td>0.4</td>\n",
       "      <td>-5.9</td>\n",
       "      <td>0.0</td>\n",
       "      <td>0.0</td>\n",
       "      <td>0.0</td>\n",
       "      <td>16</td>\n",
       "      <td>POLYGON ((274071.272 -450179.931, 274017.191 -...</td>\n",
       "    </tr>\n",
       "    <tr>\n",
       "      <th>1</th>\n",
       "      <td>3574</td>\n",
       "      <td>NaN</td>\n",
       "      <td>City of Beaumont</td>\n",
       "      <td>11.5</td>\n",
       "      <td>14.3</td>\n",
       "      <td>14.8</td>\n",
       "      <td>31.2</td>\n",
       "      <td>2.9</td>\n",
       "      <td>-135.3</td>\n",
       "      <td>2.0</td>\n",
       "      <td>25.1</td>\n",
       "      <td>14</td>\n",
       "      <td>8.3</td>\n",
       "      <td>0.8</td>\n",
       "      <td>1.2</td>\n",
       "      <td>0.9</td>\n",
       "      <td>0.0</td>\n",
       "      <td>NaN</td>\n",
       "      <td>16</td>\n",
       "      <td>POLYGON ((274071.272 -450179.931, 274017.191 -...</td>\n",
       "    </tr>\n",
       "  </tbody>\n",
       "</table>\n",
       "</div>"
      ],
      "text/plain": [
       "  route_id  route_short_name      organization  p20_corr_mph  p50_corr_mph  \\\n",
       "0     1381               NaN  City of Beaumont          51.5          57.2   \n",
       "1     3574               NaN  City of Beaumont          11.5          14.3   \n",
       "\n",
       "   avg_corr_mph  speed_delay_minutes  schedule_delay_minutes  \\\n",
       "0          62.7               -166.5                    -0.9   \n",
       "1          14.8                 31.2                     2.9   \n",
       "\n",
       "   total_speed_delay  total_schedule_delay  p50_runtime_minutes  n_trips  \\\n",
       "0             -135.3                   2.0                 28.0        6   \n",
       "1             -135.3                   2.0                 25.1       14   \n",
       "\n",
       "   span_hours  daily_avg_trips_hr  trips_added  new_avg_trips_hr  \\\n",
       "0         8.1                 0.4         -5.9               0.0   \n",
       "1         8.3                 0.8          1.2               0.9   \n",
       "\n",
       "   length_miles  distance_meters  target_mph  \\\n",
       "0           0.0              0.0          16   \n",
       "1           0.0              NaN          16   \n",
       "\n",
       "                                            geometry  \n",
       "0  POLYGON ((274071.272 -450179.931, 274017.191 -...  \n",
       "1  POLYGON ((274071.272 -450179.931, 274017.191 -...  "
      ]
     },
     "execution_count": 38,
     "metadata": {},
     "output_type": "execute_result"
    }
   ],
   "source": [
    "rt_day.corridor_metrics(sccp=True)"
   ]
  },
  {
   "cell_type": "code",
   "execution_count": 39,
   "id": "3ea7897d-8542-474f-9b2a-5d59a38507d0",
   "metadata": {},
   "outputs": [
    {
     "data": {
      "text/html": [
       "<div style=\"width:100%;\"><div style=\"position:relative;width:100%;height:0;padding-bottom:60%;\"><span style=\"color:#565656\">Make this Notebook Trusted to load map: File -> Trust Notebook</span><iframe src=\"about:blank\" style=\"position:absolute;width:100%;height:100%;left:0;top:0;border:none !important;\" data-html=%3C%21DOCTYPE%20html%3E%0A%3Chead%3E%20%20%20%20%0A%20%20%20%20%3Cmeta%20http-equiv%3D%22content-type%22%20content%3D%22text/html%3B%20charset%3DUTF-8%22%20/%3E%0A%20%20%20%20%0A%20%20%20%20%20%20%20%20%3Cscript%3E%0A%20%20%20%20%20%20%20%20%20%20%20%20L_NO_TOUCH%20%3D%20false%3B%0A%20%20%20%20%20%20%20%20%20%20%20%20L_DISABLE_3D%20%3D%20false%3B%0A%20%20%20%20%20%20%20%20%3C/script%3E%0A%20%20%20%20%0A%20%20%20%20%3Cstyle%3Ehtml%2C%20body%20%7Bwidth%3A%20100%25%3Bheight%3A%20100%25%3Bmargin%3A%200%3Bpadding%3A%200%3B%7D%3C/style%3E%0A%20%20%20%20%3Cstyle%3E%23map%20%7Bposition%3Aabsolute%3Btop%3A0%3Bbottom%3A0%3Bright%3A0%3Bleft%3A0%3B%7D%3C/style%3E%0A%20%20%20%20%3Cscript%20src%3D%22https%3A//cdn.jsdelivr.net/npm/leaflet%401.6.0/dist/leaflet.js%22%3E%3C/script%3E%0A%20%20%20%20%3Cscript%20src%3D%22https%3A//code.jquery.com/jquery-1.12.4.min.js%22%3E%3C/script%3E%0A%20%20%20%20%3Cscript%20src%3D%22https%3A//maxcdn.bootstrapcdn.com/bootstrap/3.2.0/js/bootstrap.min.js%22%3E%3C/script%3E%0A%20%20%20%20%3Cscript%20src%3D%22https%3A//cdnjs.cloudflare.com/ajax/libs/Leaflet.awesome-markers/2.0.2/leaflet.awesome-markers.js%22%3E%3C/script%3E%0A%20%20%20%20%3Clink%20rel%3D%22stylesheet%22%20href%3D%22https%3A//cdn.jsdelivr.net/npm/leaflet%401.6.0/dist/leaflet.css%22/%3E%0A%20%20%20%20%3Clink%20rel%3D%22stylesheet%22%20href%3D%22https%3A//maxcdn.bootstrapcdn.com/bootstrap/3.2.0/css/bootstrap.min.css%22/%3E%0A%20%20%20%20%3Clink%20rel%3D%22stylesheet%22%20href%3D%22https%3A//maxcdn.bootstrapcdn.com/bootstrap/3.2.0/css/bootstrap-theme.min.css%22/%3E%0A%20%20%20%20%3Clink%20rel%3D%22stylesheet%22%20href%3D%22https%3A//maxcdn.bootstrapcdn.com/font-awesome/4.6.3/css/font-awesome.min.css%22/%3E%0A%20%20%20%20%3Clink%20rel%3D%22stylesheet%22%20href%3D%22https%3A//cdnjs.cloudflare.com/ajax/libs/Leaflet.awesome-markers/2.0.2/leaflet.awesome-markers.css%22/%3E%0A%20%20%20%20%3Clink%20rel%3D%22stylesheet%22%20href%3D%22https%3A//cdn.jsdelivr.net/gh/python-visualization/folium/folium/templates/leaflet.awesome.rotate.min.css%22/%3E%0A%20%20%20%20%0A%20%20%20%20%20%20%20%20%20%20%20%20%3Cmeta%20name%3D%22viewport%22%20content%3D%22width%3Ddevice-width%2C%0A%20%20%20%20%20%20%20%20%20%20%20%20%20%20%20%20initial-scale%3D1.0%2C%20maximum-scale%3D1.0%2C%20user-scalable%3Dno%22%20/%3E%0A%20%20%20%20%20%20%20%20%20%20%20%20%3Cstyle%3E%0A%20%20%20%20%20%20%20%20%20%20%20%20%20%20%20%20%23map_996b12aad9bf4978b0bc6c819979581d%20%7B%0A%20%20%20%20%20%20%20%20%20%20%20%20%20%20%20%20%20%20%20%20position%3A%20relative%3B%0A%20%20%20%20%20%20%20%20%20%20%20%20%20%20%20%20%20%20%20%20width%3A%20100.0%25%3B%0A%20%20%20%20%20%20%20%20%20%20%20%20%20%20%20%20%20%20%20%20height%3A%20100.0%25%3B%0A%20%20%20%20%20%20%20%20%20%20%20%20%20%20%20%20%20%20%20%20left%3A%200.0%25%3B%0A%20%20%20%20%20%20%20%20%20%20%20%20%20%20%20%20%20%20%20%20top%3A%200.0%25%3B%0A%20%20%20%20%20%20%20%20%20%20%20%20%20%20%20%20%7D%0A%20%20%20%20%20%20%20%20%20%20%20%20%3C/style%3E%0A%20%20%20%20%20%20%20%20%0A%20%20%20%20%0A%20%20%20%20%20%20%20%20%20%20%20%20%20%20%20%20%20%20%20%20%3Cstyle%3E%0A%20%20%20%20%20%20%20%20%20%20%20%20%20%20%20%20%20%20%20%20%20%20%20%20.foliumtooltip%20%7B%0A%20%20%20%20%20%20%20%20%20%20%20%20%20%20%20%20%20%20%20%20%20%20%20%20%20%20%20%20%0A%20%20%20%20%20%20%20%20%20%20%20%20%20%20%20%20%20%20%20%20%20%20%20%20%7D%0A%20%20%20%20%20%20%20%20%20%20%20%20%20%20%20%20%20%20%20%20%20%20%20.foliumtooltip%20table%7B%0A%20%20%20%20%20%20%20%20%20%20%20%20%20%20%20%20%20%20%20%20%20%20%20%20%20%20%20%20margin%3A%20auto%3B%0A%20%20%20%20%20%20%20%20%20%20%20%20%20%20%20%20%20%20%20%20%20%20%20%20%7D%0A%20%20%20%20%20%20%20%20%20%20%20%20%20%20%20%20%20%20%20%20%20%20%20%20.foliumtooltip%20tr%7B%0A%20%20%20%20%20%20%20%20%20%20%20%20%20%20%20%20%20%20%20%20%20%20%20%20%20%20%20%20text-align%3A%20left%3B%0A%20%20%20%20%20%20%20%20%20%20%20%20%20%20%20%20%20%20%20%20%20%20%20%20%7D%0A%20%20%20%20%20%20%20%20%20%20%20%20%20%20%20%20%20%20%20%20%20%20%20%20.foliumtooltip%20th%7B%0A%20%20%20%20%20%20%20%20%20%20%20%20%20%20%20%20%20%20%20%20%20%20%20%20%20%20%20%20padding%3A%202px%3B%20padding-right%3A%208px%3B%0A%20%20%20%20%20%20%20%20%20%20%20%20%20%20%20%20%20%20%20%20%20%20%20%20%7D%0A%20%20%20%20%20%20%20%20%20%20%20%20%20%20%20%20%20%20%20%20%3C/style%3E%0A%20%20%20%20%20%20%20%20%20%20%20%20%0A%3C/head%3E%0A%3Cbody%3E%20%20%20%20%0A%20%20%20%20%0A%20%20%20%20%20%20%20%20%20%20%20%20%3Cdiv%20class%3D%22folium-map%22%20id%3D%22map_996b12aad9bf4978b0bc6c819979581d%22%20%3E%3C/div%3E%0A%20%20%20%20%20%20%20%20%0A%3C/body%3E%0A%3Cscript%3E%20%20%20%20%0A%20%20%20%20%0A%20%20%20%20%20%20%20%20%20%20%20%20var%20map_996b12aad9bf4978b0bc6c819979581d%20%3D%20L.map%28%0A%20%20%20%20%20%20%20%20%20%20%20%20%20%20%20%20%22map_996b12aad9bf4978b0bc6c819979581d%22%2C%0A%20%20%20%20%20%20%20%20%20%20%20%20%20%20%20%20%7B%0A%20%20%20%20%20%20%20%20%20%20%20%20%20%20%20%20%20%20%20%20center%3A%20%5B33.9468635041239%2C%20-117.00679715537014%5D%2C%0A%20%20%20%20%20%20%20%20%20%20%20%20%20%20%20%20%20%20%20%20crs%3A%20L.CRS.EPSG3857%2C%0A%20%20%20%20%20%20%20%20%20%20%20%20%20%20%20%20%20%20%20%20zoom%3A%2010%2C%0A%20%20%20%20%20%20%20%20%20%20%20%20%20%20%20%20%20%20%20%20zoomControl%3A%20true%2C%0A%20%20%20%20%20%20%20%20%20%20%20%20%20%20%20%20%20%20%20%20preferCanvas%3A%20false%2C%0A%20%20%20%20%20%20%20%20%20%20%20%20%20%20%20%20%7D%0A%20%20%20%20%20%20%20%20%20%20%20%20%29%3B%0A%20%20%20%20%20%20%20%20%20%20%20%20L.control.scale%28%29.addTo%28map_996b12aad9bf4978b0bc6c819979581d%29%3B%0A%0A%20%20%20%20%20%20%20%20%20%20%20%20%0A%0A%20%20%20%20%20%20%20%20%0A%20%20%20%20%0A%20%20%20%20%20%20%20%20%20%20%20%20var%20tile_layer_73bb5a14c1f74242b3a5e5aaf6d4dacd%20%3D%20L.tileLayer%28%0A%20%20%20%20%20%20%20%20%20%20%20%20%20%20%20%20%22https%3A//a.basemaps.cartocdn.com/light_all/%7Bz%7D/%7Bx%7D/%7By%7D%7Br%7D.png%22%2C%0A%20%20%20%20%20%20%20%20%20%20%20%20%20%20%20%20%7B%22attribution%22%3A%20%22%5Cu0026copy%3B%20%5Cu003ca%20href%3D%5C%22https%3A//www.openstreetmap.org/copyright%5C%22%5Cu003eOpenStreetMap%5Cu003c/a%5Cu003e%20contributors%20%5Cu0026copy%3B%20%5Cu003ca%20href%3D%5C%22https%3A//carto.com/attributions%5C%22%5Cu003eCARTO%5Cu003c/a%5Cu003e%22%2C%20%22detectRetina%22%3A%20false%2C%20%22maxNativeZoom%22%3A%2020%2C%20%22maxZoom%22%3A%2020%2C%20%22minZoom%22%3A%200%2C%20%22noWrap%22%3A%20false%2C%20%22opacity%22%3A%201%2C%20%22subdomains%22%3A%20%22abc%22%2C%20%22tms%22%3A%20false%7D%0A%20%20%20%20%20%20%20%20%20%20%20%20%29.addTo%28map_996b12aad9bf4978b0bc6c819979581d%29%3B%0A%20%20%20%20%20%20%20%20%0A%20%20%20%20%0A%20%20%20%20%20%20%20%20%20%20%20%20map_996b12aad9bf4978b0bc6c819979581d.fitBounds%28%0A%20%20%20%20%20%20%20%20%20%20%20%20%20%20%20%20%5B%5B33.92088727888213%2C%20-117.06718771941166%5D%2C%20%5B33.972839729365674%2C%20-116.94640659132861%5D%5D%2C%0A%20%20%20%20%20%20%20%20%20%20%20%20%20%20%20%20%7B%7D%0A%20%20%20%20%20%20%20%20%20%20%20%20%29%3B%0A%20%20%20%20%20%20%20%20%0A%20%20%20%20%0A%20%20%20%20%20%20%20%20function%20geo_json_0faa35f22ff64f55aa38c92e2f785300_styler%28feature%29%20%7B%0A%20%20%20%20%20%20%20%20%20%20%20%20switch%28feature.id%29%20%7B%0A%20%20%20%20%20%20%20%20%20%20%20%20%20%20%20%20default%3A%0A%20%20%20%20%20%20%20%20%20%20%20%20%20%20%20%20%20%20%20%20return%20%7B%22fillOpacity%22%3A%200.5%2C%20%22weight%22%3A%202%7D%3B%0A%20%20%20%20%20%20%20%20%20%20%20%20%7D%0A%20%20%20%20%20%20%20%20%7D%0A%20%20%20%20%20%20%20%20function%20geo_json_0faa35f22ff64f55aa38c92e2f785300_highlighter%28feature%29%20%7B%0A%20%20%20%20%20%20%20%20%20%20%20%20switch%28feature.id%29%20%7B%0A%20%20%20%20%20%20%20%20%20%20%20%20%20%20%20%20default%3A%0A%20%20%20%20%20%20%20%20%20%20%20%20%20%20%20%20%20%20%20%20return%20%7B%22fillOpacity%22%3A%200.75%7D%3B%0A%20%20%20%20%20%20%20%20%20%20%20%20%7D%0A%20%20%20%20%20%20%20%20%7D%0A%20%20%20%20%20%20%20%20function%20geo_json_0faa35f22ff64f55aa38c92e2f785300_pointToLayer%28feature%2C%20latlng%29%20%7B%0A%20%20%20%20%20%20%20%20%20%20%20%20var%20opts%20%3D%20%7B%22bubblingMouseEvents%22%3A%20true%2C%20%22color%22%3A%20%22%233388ff%22%2C%20%22dashArray%22%3A%20null%2C%20%22dashOffset%22%3A%20null%2C%20%22fill%22%3A%20true%2C%20%22fillColor%22%3A%20%22%233388ff%22%2C%20%22fillOpacity%22%3A%200.2%2C%20%22fillRule%22%3A%20%22evenodd%22%2C%20%22lineCap%22%3A%20%22round%22%2C%20%22lineJoin%22%3A%20%22round%22%2C%20%22opacity%22%3A%201.0%2C%20%22radius%22%3A%202%2C%20%22stroke%22%3A%20true%2C%20%22weight%22%3A%203%7D%3B%0A%20%20%20%20%20%20%20%20%20%20%20%20%0A%20%20%20%20%20%20%20%20%20%20%20%20let%20style%20%3D%20geo_json_0faa35f22ff64f55aa38c92e2f785300_styler%28feature%29%0A%20%20%20%20%20%20%20%20%20%20%20%20Object.assign%28opts%2C%20style%29%0A%20%20%20%20%20%20%20%20%20%20%20%20%0A%20%20%20%20%20%20%20%20%20%20%20%20return%20new%20L.CircleMarker%28latlng%2C%20opts%29%0A%20%20%20%20%20%20%20%20%7D%0A%0A%20%20%20%20%20%20%20%20function%20geo_json_0faa35f22ff64f55aa38c92e2f785300_onEachFeature%28feature%2C%20layer%29%20%7B%0A%20%20%20%20%20%20%20%20%20%20%20%20layer.on%28%7B%0A%20%20%20%20%20%20%20%20%20%20%20%20%20%20%20%20mouseout%3A%20function%28e%29%20%7B%0A%20%20%20%20%20%20%20%20%20%20%20%20%20%20%20%20%20%20%20%20if%28typeof%20e.target.setStyle%20%3D%3D%3D%20%22function%22%29%7B%0A%20%20%20%20%20%20%20%20%20%20%20%20%20%20%20%20%20%20%20%20%20%20%20%20geo_json_0faa35f22ff64f55aa38c92e2f785300.resetStyle%28e.target%29%3B%0A%20%20%20%20%20%20%20%20%20%20%20%20%20%20%20%20%20%20%20%20%7D%0A%20%20%20%20%20%20%20%20%20%20%20%20%20%20%20%20%7D%2C%0A%20%20%20%20%20%20%20%20%20%20%20%20%20%20%20%20mouseover%3A%20function%28e%29%20%7B%0A%20%20%20%20%20%20%20%20%20%20%20%20%20%20%20%20%20%20%20%20if%28typeof%20e.target.setStyle%20%3D%3D%3D%20%22function%22%29%7B%0A%20%20%20%20%20%20%20%20%20%20%20%20%20%20%20%20%20%20%20%20%20%20%20%20const%20highlightStyle%20%3D%20geo_json_0faa35f22ff64f55aa38c92e2f785300_highlighter%28e.target.feature%29%0A%20%20%20%20%20%20%20%20%20%20%20%20%20%20%20%20%20%20%20%20%20%20%20%20e.target.setStyle%28highlightStyle%29%3B%0A%20%20%20%20%20%20%20%20%20%20%20%20%20%20%20%20%20%20%20%20%7D%0A%20%20%20%20%20%20%20%20%20%20%20%20%20%20%20%20%7D%2C%0A%20%20%20%20%20%20%20%20%20%20%20%20%7D%29%3B%0A%20%20%20%20%20%20%20%20%7D%3B%0A%20%20%20%20%20%20%20%20var%20geo_json_0faa35f22ff64f55aa38c92e2f785300%20%3D%20L.geoJson%28null%2C%20%7B%0A%20%20%20%20%20%20%20%20%20%20%20%20%20%20%20%20onEachFeature%3A%20geo_json_0faa35f22ff64f55aa38c92e2f785300_onEachFeature%2C%0A%20%20%20%20%20%20%20%20%20%20%20%20%0A%20%20%20%20%20%20%20%20%20%20%20%20%20%20%20%20style%3A%20geo_json_0faa35f22ff64f55aa38c92e2f785300_styler%2C%0A%20%20%20%20%20%20%20%20%20%20%20%20%20%20%20%20pointToLayer%3A%20geo_json_0faa35f22ff64f55aa38c92e2f785300_pointToLayer%0A%20%20%20%20%20%20%20%20%7D%29%3B%0A%0A%20%20%20%20%20%20%20%20function%20geo_json_0faa35f22ff64f55aa38c92e2f785300_add%20%28data%29%20%7B%0A%20%20%20%20%20%20%20%20%20%20%20%20geo_json_0faa35f22ff64f55aa38c92e2f785300%0A%20%20%20%20%20%20%20%20%20%20%20%20%20%20%20%20.addData%28data%29%0A%20%20%20%20%20%20%20%20%20%20%20%20%20%20%20%20.addTo%28map_996b12aad9bf4978b0bc6c819979581d%29%3B%0A%20%20%20%20%20%20%20%20%7D%0A%20%20%20%20%20%20%20%20%20%20%20%20geo_json_0faa35f22ff64f55aa38c92e2f785300_add%28%7B%22bbox%22%3A%20%5B-117.06718771941166%2C%2033.92088727888213%2C%20-116.94640659132861%2C%2033.972839729365674%5D%2C%20%22features%22%3A%20%5B%7B%22bbox%22%3A%20%5B-116.975899326%2C%2033.95432948100003%2C%20-116.975899326%2C%2033.95432948100003%5D%2C%20%22geometry%22%3A%20%7B%22coordinates%22%3A%20%5B-116.975899326%2C%2033.95432948100003%5D%2C%20%22type%22%3A%20%22Point%22%7D%2C%20%22id%22%3A%20%220%22%2C%20%22properties%22%3A%20%7B%22shape_id%22%3A%20%22p_901531%22%2C%20%22stop_id%22%3A%20%22770077%22%2C%20%22stop_sequence%22%3A%201.0%2C%20%22total_schedule_delay%22%3A%20null%2C%20%22total_speed_delay%22%3A%20null%7D%2C%20%22type%22%3A%20%22Feature%22%7D%2C%20%7B%22bbox%22%3A%20%5B-116.951082945%2C%2033.921595358000005%2C%20-116.951082945%2C%2033.921595358000005%5D%2C%20%22geometry%22%3A%20%7B%22coordinates%22%3A%20%5B-116.951082945%2C%2033.921595358000005%5D%2C%20%22type%22%3A%20%22Point%22%7D%2C%20%22id%22%3A%20%221%22%2C%20%22properties%22%3A%20%7B%22shape_id%22%3A%20%22p_901533%22%2C%20%22stop_id%22%3A%20%2211679%22%2C%20%22stop_sequence%22%3A%202.0%2C%20%22total_schedule_delay%22%3A%20null%2C%20%22total_speed_delay%22%3A%20null%7D%2C%20%22type%22%3A%20%22Feature%22%7D%2C%20%7B%22bbox%22%3A%20%5B-116.977217048%2C%2033.97084397399998%2C%20-116.977217048%2C%2033.97084397399998%5D%2C%20%22geometry%22%3A%20%7B%22coordinates%22%3A%20%5B-116.977217048%2C%2033.97084397399998%5D%2C%20%22type%22%3A%20%22Point%22%7D%2C%20%22id%22%3A%20%222%22%2C%20%22properties%22%3A%20%7B%22shape_id%22%3A%20%22p_901531%22%2C%20%22stop_id%22%3A%20%2211662%22%2C%20%22stop_sequence%22%3A%202.0%2C%20%22total_schedule_delay%22%3A%20null%2C%20%22total_speed_delay%22%3A%20null%7D%2C%20%22type%22%3A%20%22Feature%22%7D%2C%20%7B%22bbox%22%3A%20%5B-116.97464078699998%2C%2033.92946730399997%2C%20-116.97464078699998%2C%2033.92946730399997%5D%2C%20%22geometry%22%3A%20%7B%22coordinates%22%3A%20%5B-116.97464078699998%2C%2033.92946730399997%5D%2C%20%22type%22%3A%20%22Point%22%7D%2C%20%22id%22%3A%20%223%22%2C%20%22properties%22%3A%20%7B%22shape_id%22%3A%20%22p_901522%22%2C%20%22stop_id%22%3A%20%2211771%22%2C%20%22stop_sequence%22%3A%202.0%2C%20%22total_schedule_delay%22%3A%20null%2C%20%22total_speed_delay%22%3A%20null%7D%2C%20%22type%22%3A%20%22Feature%22%7D%2C%20%7B%22bbox%22%3A%20%5B-116.976002893%2C%2033.92930512700003%2C%20-116.976002893%2C%2033.92930512700003%5D%2C%20%22geometry%22%3A%20%7B%22coordinates%22%3A%20%5B-116.976002893%2C%2033.92930512700003%5D%2C%20%22type%22%3A%20%22Point%22%7D%2C%20%22id%22%3A%20%224%22%2C%20%22properties%22%3A%20%7B%22shape_id%22%3A%20%22p_1276630%22%2C%20%22stop_id%22%3A%20%22758094%22%2C%20%22stop_sequence%22%3A%202.0%2C%20%22total_schedule_delay%22%3A%20null%2C%20%22total_speed_delay%22%3A%20null%7D%2C%20%22type%22%3A%20%22Feature%22%7D%2C%20%7B%22bbox%22%3A%20%5B-116.948111057%2C%2033.92160426099999%2C%20-116.948111057%2C%2033.92160426099999%5D%2C%20%22geometry%22%3A%20%7B%22coordinates%22%3A%20%5B-116.948111057%2C%2033.92160426099999%5D%2C%20%22type%22%3A%20%22Point%22%7D%2C%20%22id%22%3A%20%225%22%2C%20%22properties%22%3A%20%7B%22shape_id%22%3A%20%22p_901533%22%2C%20%22stop_id%22%3A%20%2212477%22%2C%20%22stop_sequence%22%3A%203.0%2C%20%22total_schedule_delay%22%3A%20null%2C%20%22total_speed_delay%22%3A%20null%7D%2C%20%22type%22%3A%20%22Feature%22%7D%2C%20%7B%22bbox%22%3A%20%5B-116.98313878799999%2C%2033.97240698699995%2C%20-116.98313878799999%2C%2033.97240698699995%5D%2C%20%22geometry%22%3A%20%7B%22coordinates%22%3A%20%5B-116.98313878799999%2C%2033.97240698699995%5D%2C%20%22type%22%3A%20%22Point%22%7D%2C%20%22id%22%3A%20%226%22%2C%20%22properties%22%3A%20%7B%22shape_id%22%3A%20%22p_901531%22%2C%20%22stop_id%22%3A%20%222619740%22%2C%20%22stop_sequence%22%3A%203.0%2C%20%22total_schedule_delay%22%3A%20null%2C%20%22total_speed_delay%22%3A%20null%7D%2C%20%22type%22%3A%20%22Feature%22%7D%2C%20%7B%22bbox%22%3A%20%5B-116.951836549%2C%2033.92314997100003%2C%20-116.951836549%2C%2033.92314997100003%5D%2C%20%22geometry%22%3A%20%7B%22coordinates%22%3A%20%5B-116.951836549%2C%2033.92314997100003%5D%2C%20%22type%22%3A%20%22Point%22%7D%2C%20%22id%22%3A%20%227%22%2C%20%22properties%22%3A%20%7B%22shape_id%22%3A%20%22p_1276630%22%2C%20%22stop_id%22%3A%20%2211677%22%2C%20%22stop_sequence%22%3A%203.0%2C%20%22total_schedule_delay%22%3A%20null%2C%20%22total_speed_delay%22%3A%20null%7D%2C%20%22type%22%3A%20%22Feature%22%7D%2C%20%7B%22bbox%22%3A%20%5B-116.946786384%2C%2033.93212814199999%2C%20-116.946786384%2C%2033.93212814199999%5D%2C%20%22geometry%22%3A%20%7B%22coordinates%22%3A%20%5B-116.946786384%2C%2033.93212814199999%5D%2C%20%22type%22%3A%20%22Point%22%7D%2C%20%22id%22%3A%20%228%22%2C%20%22properties%22%3A%20%7B%22shape_id%22%3A%20%22p_901533%22%2C%20%22stop_id%22%3A%20%2211680%22%2C%20%22stop_sequence%22%3A%204.0%2C%20%22total_schedule_delay%22%3A%20null%2C%20%22total_speed_delay%22%3A%20null%7D%2C%20%22type%22%3A%20%22Feature%22%7D%2C%20%7B%22bbox%22%3A%20%5B-116.989425342%2C%2033.96867002500002%2C%20-116.989425342%2C%2033.96867002500002%5D%2C%20%22geometry%22%3A%20%7B%22coordinates%22%3A%20%5B-116.989425342%2C%2033.96867002500002%5D%2C%20%22type%22%3A%20%22Point%22%7D%2C%20%22id%22%3A%20%229%22%2C%20%22properties%22%3A%20%7B%22shape_id%22%3A%20%22p_901531%22%2C%20%22stop_id%22%3A%20%2211664%22%2C%20%22stop_sequence%22%3A%204.0%2C%20%22total_schedule_delay%22%3A%20null%2C%20%22total_speed_delay%22%3A%20null%7D%2C%20%22type%22%3A%20%22Feature%22%7D%2C%20%7B%22bbox%22%3A%20%5B-116.94741677599998%2C%2033.93291205399999%2C%20-116.94741677599998%2C%2033.93291205399999%5D%2C%20%22geometry%22%3A%20%7B%22coordinates%22%3A%20%5B-116.94741677599998%2C%2033.93291205399999%5D%2C%20%22type%22%3A%20%22Point%22%7D%2C%20%22id%22%3A%20%2210%22%2C%20%22properties%22%3A%20%7B%22shape_id%22%3A%20%22p_901533%22%2C%20%22stop_id%22%3A%20%22769977%22%2C%20%22stop_sequence%22%3A%205.0%2C%20%22total_schedule_delay%22%3A%20null%2C%20%22total_speed_delay%22%3A%20null%7D%2C%20%22type%22%3A%20%22Feature%22%7D%2C%20%7B%22bbox%22%3A%20%5B-116.98340444%2C%2033.968659412%2C%20-116.98340444%2C%2033.968659412%5D%2C%20%22geometry%22%3A%20%7B%22coordinates%22%3A%20%5B-116.98340444%2C%2033.968659412%5D%2C%20%22type%22%3A%20%22Point%22%7D%2C%20%22id%22%3A%20%2211%22%2C%20%22properties%22%3A%20%7B%22shape_id%22%3A%20%22p_901531%22%2C%20%22stop_id%22%3A%20%22760912%22%2C%20%22stop_sequence%22%3A%205.0%2C%20%22total_schedule_delay%22%3A%20null%2C%20%22total_speed_delay%22%3A%20null%7D%2C%20%22type%22%3A%20%22Feature%22%7D%2C%20%7B%22bbox%22%3A%20%5B-116.950253482%2C%2033.932656416999976%2C%20-116.950253482%2C%2033.932656416999976%5D%2C%20%22geometry%22%3A%20%7B%22coordinates%22%3A%20%5B-116.950253482%2C%2033.932656416999976%5D%2C%20%22type%22%3A%20%22Point%22%7D%2C%20%22id%22%3A%20%2212%22%2C%20%22properties%22%3A%20%7B%22shape_id%22%3A%20%22p_901533%22%2C%20%22stop_id%22%3A%20%2211656%22%2C%20%22stop_sequence%22%3A%206.0%2C%20%22total_schedule_delay%22%3A%20null%2C%20%22total_speed_delay%22%3A%20null%7D%2C%20%22type%22%3A%20%22Feature%22%7D%2C%20%7B%22bbox%22%3A%20%5B-116.97989255200001%2C%2033.96859340100002%2C%20-116.97989255200001%2C%2033.96859340100002%5D%2C%20%22geometry%22%3A%20%7B%22coordinates%22%3A%20%5B-116.97989255200001%2C%2033.96859340100002%5D%2C%20%22type%22%3A%20%22Point%22%7D%2C%20%22id%22%3A%20%2213%22%2C%20%22properties%22%3A%20%7B%22shape_id%22%3A%20%22p_901531%22%2C%20%22stop_id%22%3A%20%2211666%22%2C%20%22stop_sequence%22%3A%206.0%2C%20%22total_schedule_delay%22%3A%20null%2C%20%22total_speed_delay%22%3A%20null%7D%2C%20%22type%22%3A%20%22Feature%22%7D%2C%20%7B%22bbox%22%3A%20%5B-116.95503616899998%2C%2033.93164344900002%2C%20-116.95503616899998%2C%2033.93164344900002%5D%2C%20%22geometry%22%3A%20%7B%22coordinates%22%3A%20%5B-116.95503616899998%2C%2033.93164344900002%5D%2C%20%22type%22%3A%20%22Point%22%7D%2C%20%22id%22%3A%20%2214%22%2C%20%22properties%22%3A%20%7B%22shape_id%22%3A%20%22p_901533%22%2C%20%22stop_id%22%3A%20%2211673%22%2C%20%22stop_sequence%22%3A%207.0%2C%20%22total_schedule_delay%22%3A%20null%2C%20%22total_speed_delay%22%3A%20null%7D%2C%20%22type%22%3A%20%22Feature%22%7D%2C%20%7B%22bbox%22%3A%20%5B-116.97533818299999%2C%2033.96141140100001%2C%20-116.97533818299999%2C%2033.96141140100001%5D%2C%20%22geometry%22%3A%20%7B%22coordinates%22%3A%20%5B-116.97533818299999%2C%2033.96141140100001%5D%2C%20%22type%22%3A%20%22Point%22%7D%2C%20%22id%22%3A%20%2215%22%2C%20%22properties%22%3A%20%7B%22shape_id%22%3A%20%22p_901531%22%2C%20%22stop_id%22%3A%20%22770095%22%2C%20%22stop_sequence%22%3A%207.0%2C%20%22total_schedule_delay%22%3A%20null%2C%20%22total_speed_delay%22%3A%20null%7D%2C%20%22type%22%3A%20%22Feature%22%7D%2C%20%7B%22bbox%22%3A%20%5B-116.955127716%2C%2033.92951403900006%2C%20-116.955127716%2C%2033.92951403900006%5D%2C%20%22geometry%22%3A%20%7B%22coordinates%22%3A%20%5B-116.955127716%2C%2033.92951403900006%5D%2C%20%22type%22%3A%20%22Point%22%7D%2C%20%22id%22%3A%20%2216%22%2C%20%22properties%22%3A%20%7B%22shape_id%22%3A%20%22p_901533%22%2C%20%22stop_id%22%3A%20%2212467%22%2C%20%22stop_sequence%22%3A%208.0%2C%20%22total_schedule_delay%22%3A%20null%2C%20%22total_speed_delay%22%3A%20null%7D%2C%20%22type%22%3A%20%22Feature%22%7D%2C%20%7B%22bbox%22%3A%20%5B-116.972259166%2C%2033.96140230000001%2C%20-116.972259166%2C%2033.96140230000001%5D%2C%20%22geometry%22%3A%20%7B%22coordinates%22%3A%20%5B-116.972259166%2C%2033.96140230000001%5D%2C%20%22type%22%3A%20%22Point%22%7D%2C%20%22id%22%3A%20%2217%22%2C%20%22properties%22%3A%20%7B%22shape_id%22%3A%20%22p_901531%22%2C%20%22stop_id%22%3A%20%22770096%22%2C%20%22stop_sequence%22%3A%208.0%2C%20%22total_schedule_delay%22%3A%20null%2C%20%22total_speed_delay%22%3A%20null%7D%2C%20%22type%22%3A%20%22Feature%22%7D%2C%20%7B%22bbox%22%3A%20%5B-116.95834904900002%2C%2033.92952071600001%2C%20-116.95834904900002%2C%2033.92952071600001%5D%2C%20%22geometry%22%3A%20%7B%22coordinates%22%3A%20%5B-116.95834904900002%2C%2033.92952071600001%5D%2C%20%22type%22%3A%20%22Point%22%7D%2C%20%22id%22%3A%20%2218%22%2C%20%22properties%22%3A%20%7B%22shape_id%22%3A%20%22p_901533%22%2C%20%22stop_id%22%3A%20%2211767%22%2C%20%22stop_sequence%22%3A%209.0%2C%20%22total_schedule_delay%22%3A%20null%2C%20%22total_speed_delay%22%3A%20null%7D%2C%20%22type%22%3A%20%22Feature%22%7D%2C%20%7B%22bbox%22%3A%20%5B-116.96917878500001%2C%2033.961417689%2C%20-116.96917878500001%2C%2033.961417689%5D%2C%20%22geometry%22%3A%20%7B%22coordinates%22%3A%20%5B-116.96917878500001%2C%2033.961417689%5D%2C%20%22type%22%3A%20%22Point%22%7D%2C%20%22id%22%3A%20%2219%22%2C%20%22properties%22%3A%20%7B%22shape_id%22%3A%20%22p_901531%22%2C%20%22stop_id%22%3A%20%22770097%22%2C%20%22stop_sequence%22%3A%209.0%2C%20%22total_schedule_delay%22%3A%20null%2C%20%22total_speed_delay%22%3A%20null%7D%2C%20%22type%22%3A%20%22Feature%22%7D%2C%20%7B%22bbox%22%3A%20%5B-116.96092397000001%2C%2033.92950958800004%2C%20-116.96092397000001%2C%2033.92950958800004%5D%2C%20%22geometry%22%3A%20%7B%22coordinates%22%3A%20%5B-116.96092397000001%2C%2033.92950958800004%5D%2C%20%22type%22%3A%20%22Point%22%7D%2C%20%22id%22%3A%20%2220%22%2C%20%22properties%22%3A%20%7B%22shape_id%22%3A%20%22p_901533%22%2C%20%22stop_id%22%3A%20%2211768%22%2C%20%22stop_sequence%22%3A%2010.0%2C%20%22total_schedule_delay%22%3A%20null%2C%20%22total_speed_delay%22%3A%20null%7D%2C%20%22type%22%3A%20%22Feature%22%7D%2C%20%7B%22bbox%22%3A%20%5B-116.964309613%2C%2033.96066439099999%2C%20-116.964309613%2C%2033.96066439099999%5D%2C%20%22geometry%22%3A%20%7B%22coordinates%22%3A%20%5B-116.964309613%2C%2033.96066439099999%5D%2C%20%22type%22%3A%20%22Point%22%7D%2C%20%22id%22%3A%20%2221%22%2C%20%22properties%22%3A%20%7B%22shape_id%22%3A%20%22p_901531%22%2C%20%22stop_id%22%3A%20%22770098%22%2C%20%22stop_sequence%22%3A%2010.0%2C%20%22total_schedule_delay%22%3A%20null%2C%20%22total_speed_delay%22%3A%20null%7D%2C%20%22type%22%3A%20%22Feature%22%7D%2C%20%7B%22bbox%22%3A%20%5B-116.96403265000001%2C%2033.92952961799999%2C%20-116.96403265000001%2C%2033.92952961799999%5D%2C%20%22geometry%22%3A%20%7B%22coordinates%22%3A%20%5B-116.96403265000001%2C%2033.92952961799999%5D%2C%20%22type%22%3A%20%22Point%22%7D%2C%20%22id%22%3A%20%2222%22%2C%20%22properties%22%3A%20%7B%22shape_id%22%3A%20%22p_901533%22%2C%20%22stop_id%22%3A%20%2211770%22%2C%20%22stop_sequence%22%3A%2011.0%2C%20%22total_schedule_delay%22%3A%20null%2C%20%22total_speed_delay%22%3A%20null%7D%2C%20%22type%22%3A%20%22Feature%22%7D%2C%20%7B%22bbox%22%3A%20%5B-116.96433829099999%2C%2033.956241845999976%2C%20-116.96433829099999%2C%2033.956241845999976%5D%2C%20%22geometry%22%3A%20%7B%22coordinates%22%3A%20%5B-116.96433829099999%2C%2033.956241845999976%5D%2C%20%22type%22%3A%20%22Point%22%7D%2C%20%22id%22%3A%20%2223%22%2C%20%22properties%22%3A%20%7B%22shape_id%22%3A%20%22p_901531%22%2C%20%22stop_id%22%3A%20%22770099%22%2C%20%22stop_sequence%22%3A%2011.0%2C%20%22total_schedule_delay%22%3A%20null%2C%20%22total_speed_delay%22%3A%20null%7D%2C%20%22type%22%3A%20%22Feature%22%7D%2C%20%7B%22bbox%22%3A%20%5B-116.96974017500001%2C%2033.929496368999985%2C%20-116.96974017500001%2C%2033.929496368999985%5D%2C%20%22geometry%22%3A%20%7B%22coordinates%22%3A%20%5B-116.96974017500001%2C%2033.929496368999985%5D%2C%20%22type%22%3A%20%22Point%22%7D%2C%20%22id%22%3A%20%2224%22%2C%20%22properties%22%3A%20%7B%22shape_id%22%3A%20%22p_901533%22%2C%20%22stop_id%22%3A%20%2212496%22%2C%20%22stop_sequence%22%3A%2012.0%2C%20%22total_schedule_delay%22%3A%20null%2C%20%22total_speed_delay%22%3A%20null%7D%2C%20%22type%22%3A%20%22Feature%22%7D%2C%20%7B%22bbox%22%3A%20%5B-116.96439206600002%2C%2033.95291858399998%2C%20-116.96439206600002%2C%2033.95291858399998%5D%2C%20%22geometry%22%3A%20%7B%22coordinates%22%3A%20%5B-116.96439206600002%2C%2033.95291858399998%5D%2C%20%22type%22%3A%20%22Point%22%7D%2C%20%22id%22%3A%20%2225%22%2C%20%22properties%22%3A%20%7B%22shape_id%22%3A%20%22p_901531%22%2C%20%22stop_id%22%3A%20%2211668%22%2C%20%22stop_sequence%22%3A%2012.0%2C%20%22total_schedule_delay%22%3A%20null%2C%20%22total_speed_delay%22%3A%20null%7D%2C%20%22type%22%3A%20%22Feature%22%7D%2C%20%7B%22bbox%22%3A%20%5B-116.97464078699998%2C%2033.92946730399997%2C%20-116.97464078699998%2C%2033.92946730399997%5D%2C%20%22geometry%22%3A%20%7B%22coordinates%22%3A%20%5B-116.97464078699998%2C%2033.92946730399997%5D%2C%20%22type%22%3A%20%22Point%22%7D%2C%20%22id%22%3A%20%2226%22%2C%20%22properties%22%3A%20%7B%22shape_id%22%3A%20%22p_901533%22%2C%20%22stop_id%22%3A%20%2211771%22%2C%20%22stop_sequence%22%3A%2013.0%2C%20%22total_schedule_delay%22%3A%20null%2C%20%22total_speed_delay%22%3A%20null%7D%2C%20%22type%22%3A%20%22Feature%22%7D%2C%20%7B%22bbox%22%3A%20%5B-116.964434011%2C%2033.948276249999985%2C%20-116.964434011%2C%2033.948276249999985%5D%2C%20%22geometry%22%3A%20%7B%22coordinates%22%3A%20%5B-116.964434011%2C%2033.948276249999985%5D%2C%20%22type%22%3A%20%22Point%22%7D%2C%20%22id%22%3A%20%2227%22%2C%20%22properties%22%3A%20%7B%22shape_id%22%3A%20%22p_901531%22%2C%20%22stop_id%22%3A%20%2212505%22%2C%20%22stop_sequence%22%3A%2013.0%2C%20%22total_schedule_delay%22%3A%20null%2C%20%22total_speed_delay%22%3A%20null%7D%2C%20%22type%22%3A%20%22Feature%22%7D%2C%20%7B%22bbox%22%3A%20%5B-116.977027953%2C%2033.93166606600003%2C%20-116.977027953%2C%2033.93166606600003%5D%2C%20%22geometry%22%3A%20%7B%22coordinates%22%3A%20%5B-116.977027953%2C%2033.93166606600003%5D%2C%20%22type%22%3A%20%22Point%22%7D%2C%20%22id%22%3A%20%2228%22%2C%20%22properties%22%3A%20%7B%22shape_id%22%3A%20%22p_901533%22%2C%20%22stop_id%22%3A%20%2212541%22%2C%20%22stop_sequence%22%3A%2014.0%2C%20%22total_schedule_delay%22%3A%20null%2C%20%22total_speed_delay%22%3A%20null%7D%2C%20%22type%22%3A%20%22Feature%22%7D%2C%20%7B%22bbox%22%3A%20%5B-116.96619048700002%2C%2033.94682885899999%2C%20-116.96619048700002%2C%2033.94682885899999%5D%2C%20%22geometry%22%3A%20%7B%22coordinates%22%3A%20%5B-116.96619048700002%2C%2033.94682885899999%5D%2C%20%22type%22%3A%20%22Point%22%7D%2C%20%22id%22%3A%20%2229%22%2C%20%22properties%22%3A%20%7B%22shape_id%22%3A%20%22p_901531%22%2C%20%22stop_id%22%3A%20%2211791%22%2C%20%22stop_sequence%22%3A%2014.0%2C%20%22total_schedule_delay%22%3A%20null%2C%20%22total_speed_delay%22%3A%20null%7D%2C%20%22type%22%3A%20%22Feature%22%7D%2C%20%7B%22bbox%22%3A%20%5B-116.977058499%2C%2033.93638730200001%2C%20-116.977058499%2C%2033.93638730200001%5D%2C%20%22geometry%22%3A%20%7B%22coordinates%22%3A%20%5B-116.977058499%2C%2033.93638730200001%5D%2C%20%22type%22%3A%20%22Point%22%7D%2C%20%22id%22%3A%20%2230%22%2C%20%22properties%22%3A%20%7B%22shape_id%22%3A%20%22p_901533%22%2C%20%22stop_id%22%3A%20%22758097%22%2C%20%22stop_sequence%22%3A%2015.0%2C%20%22total_schedule_delay%22%3A%20null%2C%20%22total_speed_delay%22%3A%20null%7D%2C%20%22type%22%3A%20%22Feature%22%7D%2C%20%7B%22bbox%22%3A%20%5B-116.966182441%2C%2033.94362918699997%2C%20-116.966182441%2C%2033.94362918699997%5D%2C%20%22geometry%22%3A%20%7B%22coordinates%22%3A%20%5B-116.966182441%2C%2033.94362918699997%5D%2C%20%22type%22%3A%20%22Point%22%7D%2C%20%22id%22%3A%20%2231%22%2C%20%22properties%22%3A%20%7B%22shape_id%22%3A%20%22p_901531%22%2C%20%22stop_id%22%3A%20%2211792%22%2C%20%22stop_sequence%22%3A%2015.0%2C%20%22total_schedule_delay%22%3A%20null%2C%20%22total_speed_delay%22%3A%20null%7D%2C%20%22type%22%3A%20%22Feature%22%7D%2C%20%7B%22bbox%22%3A%20%5B-116.977076232%2C%2033.940694195000034%2C%20-116.977076232%2C%2033.940694195000034%5D%2C%20%22geometry%22%3A%20%7B%22coordinates%22%3A%20%5B-116.977076232%2C%2033.940694195000034%5D%2C%20%22type%22%3A%20%22Point%22%7D%2C%20%22id%22%3A%20%2232%22%2C%20%22properties%22%3A%20%7B%22shape_id%22%3A%20%22p_901533%22%2C%20%22stop_id%22%3A%20%2211786%22%2C%20%22stop_sequence%22%3A%2016.0%2C%20%22total_schedule_delay%22%3A%20null%2C%20%22total_speed_delay%22%3A%20null%7D%2C%20%22type%22%3A%20%22Feature%22%7D%2C%20%7B%22bbox%22%3A%20%5B-116.96616500600001%2C%2033.93574074800002%2C%20-116.96616500600001%2C%2033.93574074800002%5D%2C%20%22geometry%22%3A%20%7B%22coordinates%22%3A%20%5B-116.96616500600001%2C%2033.93574074800002%5D%2C%20%22type%22%3A%20%22Point%22%7D%2C%20%22id%22%3A%20%2233%22%2C%20%22properties%22%3A%20%7B%22shape_id%22%3A%20%22p_901531%22%2C%20%22stop_id%22%3A%20%2211793%22%2C%20%22stop_sequence%22%3A%2016.0%2C%20%22total_schedule_delay%22%3A%20null%2C%20%22total_speed_delay%22%3A%20null%7D%2C%20%22type%22%3A%20%22Feature%22%7D%2C%20%7B%22bbox%22%3A%20%5B-116.977121%2C%2033.94369900000003%2C%20-116.977121%2C%2033.94369900000003%5D%2C%20%22geometry%22%3A%20%7B%22coordinates%22%3A%20%5B-116.977121%2C%2033.94369900000003%5D%2C%20%22type%22%3A%20%22Point%22%7D%2C%20%22id%22%3A%20%2234%22%2C%20%22properties%22%3A%20%7B%22shape_id%22%3A%20%22p_901533%22%2C%20%22stop_id%22%3A%20%224223968%22%2C%20%22stop_sequence%22%3A%2017.0%2C%20%22total_schedule_delay%22%3A%20null%2C%20%22total_speed_delay%22%3A%20null%7D%2C%20%22type%22%3A%20%22Feature%22%7D%2C%20%7B%22bbox%22%3A%20%5B-116.966155618%2C%2033.932677870999974%2C%20-116.966155618%2C%2033.932677870999974%5D%2C%20%22geometry%22%3A%20%7B%22coordinates%22%3A%20%5B-116.966155618%2C%2033.932677870999974%5D%2C%20%22type%22%3A%20%22Point%22%7D%2C%20%22id%22%3A%20%2235%22%2C%20%22properties%22%3A%20%7B%22shape_id%22%3A%20%22p_901531%22%2C%20%22stop_id%22%3A%20%2211794%22%2C%20%22stop_sequence%22%3A%2017.0%2C%20%22total_schedule_delay%22%3A%20null%2C%20%22total_speed_delay%22%3A%20null%7D%2C%20%22type%22%3A%20%22Feature%22%7D%2C%20%7B%22bbox%22%3A%20%5B-116.971406025%2C%2033.94853954299997%2C%20-116.971406025%2C%2033.94853954299997%5D%2C%20%22geometry%22%3A%20%7B%22coordinates%22%3A%20%5B-116.971406025%2C%2033.94853954299997%5D%2C%20%22type%22%3A%20%22Point%22%7D%2C%20%22id%22%3A%20%2236%22%2C%20%22properties%22%3A%20%7B%22shape_id%22%3A%20%22p_901533%22%2C%20%22stop_id%22%3A%20%22770075%22%2C%20%22stop_sequence%22%3A%2018.0%2C%20%22total_schedule_delay%22%3A%20null%2C%20%22total_speed_delay%22%3A%20null%7D%2C%20%22type%22%3A%20%22Feature%22%7D%2C%20%7B%22bbox%22%3A%20%5B-116.960003972%2C%2033.93244274099997%2C%20-116.960003972%2C%2033.93244274099997%5D%2C%20%22geometry%22%3A%20%7B%22coordinates%22%3A%20%5B-116.960003972%2C%2033.93244274099997%5D%2C%20%22type%22%3A%20%22Point%22%7D%2C%20%22id%22%3A%20%2237%22%2C%20%22properties%22%3A%20%7B%22shape_id%22%3A%20%22p_901531%22%2C%20%22stop_id%22%3A%20%2211796%22%2C%20%22stop_sequence%22%3A%2018.0%2C%20%22total_schedule_delay%22%3A%20null%2C%20%22total_speed_delay%22%3A%20null%7D%2C%20%22type%22%3A%20%22Feature%22%7D%2C%20%7B%22bbox%22%3A%20%5B-116.970777065%2C%2033.952670508999965%2C%20-116.970777065%2C%2033.952670508999965%5D%2C%20%22geometry%22%3A%20%7B%22coordinates%22%3A%20%5B-116.970777065%2C%2033.952670508999965%5D%2C%20%22type%22%3A%20%22Point%22%7D%2C%20%22id%22%3A%20%2238%22%2C%20%22properties%22%3A%20%7B%22shape_id%22%3A%20%22p_901533%22%2C%20%22stop_id%22%3A%20%2212507%22%2C%20%22stop_sequence%22%3A%2019.0%2C%20%22total_schedule_delay%22%3A%20null%2C%20%22total_speed_delay%22%3A%20null%7D%2C%20%22type%22%3A%20%22Feature%22%7D%2C%20%7B%22bbox%22%3A%20%5B-116.95745634300002%2C%2033.93242969399996%2C%20-116.95745634300002%2C%2033.93242969399996%5D%2C%20%22geometry%22%3A%20%7B%22coordinates%22%3A%20%5B-116.95745634300002%2C%2033.93242969399996%5D%2C%20%22type%22%3A%20%22Point%22%7D%2C%20%22id%22%3A%20%2239%22%2C%20%22properties%22%3A%20%7B%22shape_id%22%3A%20%22p_901531%22%2C%20%22stop_id%22%3A%20%2212476%22%2C%20%22stop_sequence%22%3A%2019.0%2C%20%22total_schedule_delay%22%3A%20null%2C%20%22total_speed_delay%22%3A%20null%7D%2C%20%22type%22%3A%20%22Feature%22%7D%2C%20%7B%22bbox%22%3A%20%5B-116.971236287%2C%2033.95433239800001%2C%20-116.971236287%2C%2033.95433239800001%5D%2C%20%22geometry%22%3A%20%7B%22coordinates%22%3A%20%5B-116.971236287%2C%2033.95433239800001%5D%2C%20%22type%22%3A%20%22Point%22%7D%2C%20%22id%22%3A%20%2240%22%2C%20%22properties%22%3A%20%7B%22shape_id%22%3A%20%22p_901533%22%2C%20%22stop_id%22%3A%20%22770076%22%2C%20%22stop_sequence%22%3A%2020.0%2C%20%22total_schedule_delay%22%3A%20null%2C%20%22total_speed_delay%22%3A%20null%7D%2C%20%22type%22%3A%20%22Feature%22%7D%2C%20%7B%22bbox%22%3A%20%5B-116.95503616899998%2C%2033.93164344900002%2C%20-116.95503616899998%2C%2033.93164344900002%5D%2C%20%22geometry%22%3A%20%7B%22coordinates%22%3A%20%5B-116.95503616899998%2C%2033.93164344900002%5D%2C%20%22type%22%3A%20%22Point%22%7D%2C%20%22id%22%3A%20%2241%22%2C%20%22properties%22%3A%20%7B%22shape_id%22%3A%20%22p_901531%22%2C%20%22stop_id%22%3A%20%2211673%22%2C%20%22stop_sequence%22%3A%2020.0%2C%20%22total_schedule_delay%22%3A%20null%2C%20%22total_speed_delay%22%3A%20null%7D%2C%20%22type%22%3A%20%22Feature%22%7D%2C%20%7B%22bbox%22%3A%20%5B-116.95403240799999%2C%2033.929231872999964%2C%20-116.95403240799999%2C%2033.929231872999964%5D%2C%20%22geometry%22%3A%20%7B%22coordinates%22%3A%20%5B-116.95403240799999%2C%2033.929231872999964%5D%2C%20%22type%22%3A%20%22Point%22%7D%2C%20%22id%22%3A%20%2242%22%2C%20%22properties%22%3A%20%7B%22shape_id%22%3A%20%22p_901531%22%2C%20%22stop_id%22%3A%20%2211674%22%2C%20%22stop_sequence%22%3A%2021.0%2C%20%22total_schedule_delay%22%3A%20null%2C%20%22total_speed_delay%22%3A%20null%7D%2C%20%22type%22%3A%20%22Feature%22%7D%2C%20%7B%22bbox%22%3A%20%5B-116.948526321%2C%2033.92925428299995%2C%20-116.948526321%2C%2033.92925428299995%5D%2C%20%22geometry%22%3A%20%7B%22coordinates%22%3A%20%5B-116.948526321%2C%2033.92925428299995%5D%2C%20%22type%22%3A%20%22Point%22%7D%2C%20%22id%22%3A%20%2243%22%2C%20%22properties%22%3A%20%7B%22shape_id%22%3A%20%22p_901531%22%2C%20%22stop_id%22%3A%20%224148397%22%2C%20%22stop_sequence%22%3A%2022.0%2C%20%22total_schedule_delay%22%3A%20null%2C%20%22total_speed_delay%22%3A%20null%7D%2C%20%22type%22%3A%20%22Feature%22%7D%2C%20%7B%22bbox%22%3A%20%5B-116.94702451499998%2C%2033.924592773%2C%20-116.94702451499998%2C%2033.924592773%5D%2C%20%22geometry%22%3A%20%7B%22coordinates%22%3A%20%5B-116.94702451499998%2C%2033.924592773%5D%2C%20%22type%22%3A%20%22Point%22%7D%2C%20%22id%22%3A%20%2244%22%2C%20%22properties%22%3A%20%7B%22shape_id%22%3A%20%22p_901531%22%2C%20%22stop_id%22%3A%20%2211698%22%2C%20%22stop_sequence%22%3A%2023.0%2C%20%22total_schedule_delay%22%3A%20null%2C%20%22total_speed_delay%22%3A%20null%7D%2C%20%22type%22%3A%20%22Feature%22%7D%2C%20%7B%22bbox%22%3A%20%5B-117.06718771941166%2C%2033.92088727888213%2C%20-116.94640659132861%2C%2033.972839729365674%5D%2C%20%22geometry%22%3A%20%7B%22coordinates%22%3A%20%5B%5B%5B-117.03569711576166%2C%2033.9251888074432%5D%2C%20%5B-117.03569711576166%2C%2033.94078630814551%5D%2C%20%5B-117.06718771941166%2C%2033.94078630814547%5D%2C%20%5B-117.06718771941166%2C%2033.96111659281243%5D%2C%20%5B-116.99073897342507%2C%2033.96111659281243%5D%2C%20%5B-116.99073897342507%2C%2033.972839729365674%5D%2C%20%5B-116.9759554190603%2C%2033.972839729365674%5D%2C%20%5B-116.9759554190603%2C%2033.96194540768201%5D%2C%20%5B-116.963896445557%2C%2033.96194540768198%5D%2C%20%5B-116.963896445557%2C%2033.94771244950783%5D%2C%20%5B-116.94640659132861%2C%2033.94771244950783%5D%2C%20%5B-116.94640659132861%2C%2033.92110465060208%5D%2C%20%5B-116.963896445557%2C%2033.92110465060208%5D%2C%20%5B-116.963896445557%2C%2033.92088727888215%5D%2C%20%5B-116.97619733135055%2C%2033.92088727888213%5D%2C%20%5B-116.97619733135055%2C%2033.92090335405172%5D%2C%20%5B-116.99073897342507%2C%2033.920903354051696%5D%2C%20%5B-116.99073897342507%2C%2033.92518880744317%5D%2C%20%5B-117.03569711576166%2C%2033.9251888074432%5D%5D%5D%2C%20%22type%22%3A%20%22Polygon%22%7D%2C%20%22id%22%3A%20%2245%22%2C%20%22properties%22%3A%20%7B%22shape_id%22%3A%20null%2C%20%22stop_id%22%3A%20null%2C%20%22stop_sequence%22%3A%20null%2C%20%22total_schedule_delay%22%3A%202.0%2C%20%22total_speed_delay%22%3A%20-135.3%7D%2C%20%22type%22%3A%20%22Feature%22%7D%5D%2C%20%22type%22%3A%20%22FeatureCollection%22%7D%29%3B%0A%0A%20%20%20%20%20%20%20%20%0A%20%20%20%20%0A%20%20%20%20geo_json_0faa35f22ff64f55aa38c92e2f785300.bindTooltip%28%0A%20%20%20%20function%28layer%29%7B%0A%20%20%20%20let%20div%20%3D%20L.DomUtil.create%28%27div%27%29%3B%0A%20%20%20%20%0A%20%20%20%20let%20handleObject%20%3D%20feature%3D%3Etypeof%28feature%29%3D%3D%27object%27%20%3F%20JSON.stringify%28feature%29%20%3A%20feature%3B%0A%20%20%20%20let%20fields%20%3D%20%5B%22stop_id%22%2C%20%22stop_sequence%22%2C%20%22shape_id%22%2C%20%22total_speed_delay%22%2C%20%22total_schedule_delay%22%5D%3B%0A%20%20%20%20let%20aliases%20%3D%20%5B%22stop_id%22%2C%20%22stop_sequence%22%2C%20%22shape_id%22%2C%20%22total_speed_delay%22%2C%20%22total_schedule_delay%22%5D%3B%0A%20%20%20%20let%20table%20%3D%20%27%3Ctable%3E%27%20%2B%0A%20%20%20%20%20%20%20%20String%28%0A%20%20%20%20%20%20%20%20fields.map%28%0A%20%20%20%20%20%20%20%20%28v%2Ci%29%3D%3E%0A%20%20%20%20%20%20%20%20%60%3Ctr%3E%0A%20%20%20%20%20%20%20%20%20%20%20%20%3Cth%3E%24%7Baliases%5Bi%5D%7D%3C/th%3E%0A%20%20%20%20%20%20%20%20%20%20%20%20%0A%20%20%20%20%20%20%20%20%20%20%20%20%3Ctd%3E%24%7BhandleObject%28layer.feature.properties%5Bv%5D%29%7D%3C/td%3E%0A%20%20%20%20%20%20%20%20%3C/tr%3E%60%29.join%28%27%27%29%29%0A%20%20%20%20%2B%27%3C/table%3E%27%3B%0A%20%20%20%20div.innerHTML%3Dtable%3B%0A%20%20%20%20%0A%20%20%20%20return%20div%0A%20%20%20%20%7D%0A%20%20%20%20%2C%7B%22className%22%3A%20%22foliumtooltip%22%2C%20%22sticky%22%3A%20true%7D%29%3B%0A%20%20%20%20%20%20%20%20%20%20%20%20%20%20%20%20%20%20%20%20%20%0A%3C/script%3E onload=\"this.contentDocument.open();this.contentDocument.write(    decodeURIComponent(this.getAttribute('data-html')));this.contentDocument.close();\" allowfullscreen webkitallowfullscreen mozallowfullscreen></iframe></div></div>"
      ],
      "text/plain": [
       "<folium.folium.Map at 0x7e3495e1a190>"
      ]
     },
     "execution_count": 39,
     "metadata": {},
     "output_type": "execute_result"
    }
   ],
   "source": [
    "rt_day.quick_map_corridor()"
   ]
  },
  {
   "cell_type": "code",
   "execution_count": 42,
   "id": "39fc03a8-4b13-4ff4-8ebc-9af2ebc8f273",
   "metadata": {},
   "outputs": [
    {
     "ename": "AttributeError",
     "evalue": "'str' object has no attribute 'astype'",
     "output_type": "error",
     "traceback": [
      "\u001b[0;31m---------------------------------------------------------------------------\u001b[0m",
      "\u001b[0;31mAttributeError\u001b[0m                            Traceback (most recent call last)",
      "Cell \u001b[0;32mIn[42], line 1\u001b[0m\n\u001b[0;32m----> 1\u001b[0m beau_corridor_metrics \u001b[38;5;241m=\u001b[39m \u001b[43msccp_tools\u001b[49m\u001b[38;5;241;43m.\u001b[39;49m\u001b[43msccp_average_metrics\u001b[49m\u001b[43m(\u001b[49m\u001b[43mitp_id\u001b[49m\u001b[38;5;241;43m=\u001b[39;49m\u001b[38;5;241;43m34\u001b[39;49m\u001b[43m,\u001b[49m\u001b[43m \u001b[49m\u001b[43mdate_range\u001b[49m\u001b[38;5;241;43m=\u001b[39;49m\u001b[43mdates\u001b[49m\u001b[43m,\u001b[49m\u001b[43m \u001b[49m\u001b[43mcorridor\u001b[49m\u001b[38;5;241;43m=\u001b[39;49m\u001b[43mbeaumont_a\u001b[49m\u001b[43m)\u001b[49m\n",
      "File \u001b[0;32m~/data-analyses/rt_delay/rt_analysis/sccp_tools.py:22\u001b[0m, in \u001b[0;36msccp_average_metrics\u001b[0;34m(itp_id, date_range, corridor, filter_dict)\u001b[0m\n\u001b[1;32m     20\u001b[0m speed_metrics \u001b[38;5;241m=\u001b[39m []\n\u001b[1;32m     21\u001b[0m \u001b[38;5;28;01mfor\u001b[39;00m date \u001b[38;5;129;01min\u001b[39;00m date_range:\n\u001b[0;32m---> 22\u001b[0m     date \u001b[38;5;241m=\u001b[39m \u001b[43mdate\u001b[49m\u001b[38;5;241;43m.\u001b[39;49m\u001b[43mastype\u001b[49m(dt\u001b[38;5;241m.\u001b[39mdate)\n\u001b[1;32m     23\u001b[0m     \u001b[38;5;28;01mtry\u001b[39;00m:\n\u001b[1;32m     24\u001b[0m         rt_day \u001b[38;5;241m=\u001b[39m rt_filter_map_plot\u001b[38;5;241m.\u001b[39mfrom_gcs(itp_id, date)\n",
      "\u001b[0;31mAttributeError\u001b[0m: 'str' object has no attribute 'astype'"
     ]
    }
   ],
   "source": [
    "beau_corridor_metrics = sccp_tools.sccp_average_metrics(itp_id=34, date_range=dates, corridor=beaumont_a)"
   ]
  },
  {
   "cell_type": "markdown",
   "id": "0190d051-8208-41a0-aafd-4ca14da4e795",
   "metadata": {},
   "source": [
    "octa_corridor_metrics = sccp_tools.sccp_average_metrics(itp_id=235, date_range=date_range, corridor=octa)# About the Metrics\n",
    "\n",
    "The schedule-based metric is a daily average of the sum of median trip stop delays along the corridor. To further explain, we take each corridor trip that we have data for and look at the delay in comparison to the schedule at each stop, after subtracting off any delay present as the trip entered the corridor. For each trip we then take the median delay of all stops along the corridor, and sum these medians to create the metric.\n",
    "\n",
    "The speed-based metric is a daily average of the sum of delays for each trip traversing the corridor as compared to a reference speed of 16 miles per houar. To further explain, we take each corridor trip that we have data for and calculate the hypothetical time it would take for that trip to traverse the corridor at a speed of 16 mph. The difference between the actual time it took for the trip to traverse the corridor and that hypothetical time is the speed-based delay for that trip, and we sum those delays to create the metric. This metric is intended to provide a more consistent basis for comparison independent of scheduling practices.\n",
    "\n",
    "In other words, if we expect a hypothetical bus lane/signal priority/payment system etc to increase corridor speeds to 16mph, this is how much time we could save per day.\n",
    "\n",
    "With corridor attached, generate both metrics using `RtFilterMapper.corridor_metrics()`"
   ]
  },
  {
   "cell_type": "markdown",
   "id": "a56cdc3e-95ab-4f42-8fc7-207b6305c5cf",
   "metadata": {},
   "source": [
    "## Common Date Range (2022-23) and convienience function\n",
    "\n",
    "* both the date range and tools to generate data are likely to change in future cycles\n",
    "* reference documentation in `rt_delay`"
   ]
  },
  {
   "cell_type": "code",
   "execution_count": null,
   "id": "4ce12969-7cd3-4cd7-b760-c6f7826b85e5",
   "metadata": {
    "tags": []
   },
   "outputs": [],
   "source": [
    "date_range = np.arange('2022-04-30', '2022-05-09', dtype='datetime64[D]')"
   ]
  },
  {
   "cell_type": "markdown",
   "id": "8a587312-5e69-4958-a95f-5f215921d179",
   "metadata": {},
   "source": [
    "# OCTA 12/1/2022"
   ]
  },
  {
   "cell_type": "code",
   "execution_count": null,
   "id": "4e9ea214-b413-455f-948a-506bf899b28c",
   "metadata": {},
   "outputs": [],
   "source": [
    "octa = gpd.read_file('./corridors_sccp_lpp/octa_dec1_rev.geojson')"
   ]
  },
  {
   "cell_type": "code",
   "execution_count": null,
   "id": "ee9802c3-a6be-4b26-968d-06975aab77e4",
   "metadata": {},
   "outputs": [],
   "source": [
    "# octa.explore()"
   ]
  },
  {
   "cell_type": "code",
   "execution_count": null,
   "id": "5fbcaf71-c292-4534-b7dc-f1aeed77b999",
   "metadata": {},
   "outputs": [],
   "source": [
    "rt_day = rt_filter_map_plot.from_gcs(235, dt.date(2022, 5, 5))"
   ]
  },
  {
   "cell_type": "code",
   "execution_count": null,
   "id": "c3520e75-e17d-43d9-b921-b4ca186eac7b",
   "metadata": {},
   "outputs": [],
   "source": [
    "rt_day.add_corridor(octa)"
   ]
  },
  {
   "cell_type": "code",
   "execution_count": null,
   "id": "1c325faa-6d8b-4a34-ac46-fc4f9321ef69",
   "metadata": {},
   "outputs": [],
   "source": [
    "rt_day.corridor_metrics()"
   ]
  },
  {
   "cell_type": "code",
   "execution_count": null,
   "id": "43745190-28b8-4ad2-8118-edeb500a51ca",
   "metadata": {},
   "outputs": [],
   "source": [
    "octa_corridor_metrics = sccp_tools.sccp_average_metrics(itp_id=235, date_range=date_range, corridor=octa)"
   ]
  },
  {
   "cell_type": "code",
   "execution_count": null,
   "id": "a14bcd45-192f-4c41-90b3-5929afa0f236",
   "metadata": {},
   "outputs": [],
   "source": [
    "octa_corridor_metrics"
   ]
  },
  {
   "cell_type": "code",
   "execution_count": null,
   "id": "6c3673bb-f74c-4476-9d1f-197636bfdb86",
   "metadata": {},
   "outputs": [],
   "source": [
    "rt_day.quick_map_corridor()"
   ]
  },
  {
   "cell_type": "code",
   "execution_count": null,
   "id": "25ff3fdf-996b-4c77-89b5-416a7c3b0ab6",
   "metadata": {},
   "outputs": [],
   "source": [
    "rt_day.segment_speed_map(corridor=True)"
   ]
  },
  {
   "cell_type": "code",
   "execution_count": null,
   "id": "9a8d076d-96b6-4e20-8441-d5dd5e60ea27",
   "metadata": {},
   "outputs": [],
   "source": [
    "rt_day.stop_delay_view >> filter(_.corridor) >> distinct(_.route_short_name)"
   ]
  },
  {
   "cell_type": "markdown",
   "id": "ea236bd1-69d5-4706-9440-398c922ff04a",
   "metadata": {},
   "source": [
    "# AC Dec 15\n",
    "\n",
    "* applicant also requested BART, unable without vehicle positions and as a grade-seperated system possibly non-applicable\n",
    "* three nearby polygons, will consolidate and notify applicant"
   ]
  },
  {
   "cell_type": "code",
   "execution_count": null,
   "id": "13ebfbdd-e07a-4259-a86a-e2b6ac5121e4",
   "metadata": {},
   "outputs": [],
   "source": [
    "new_ac = gpd.read_file('./corridors_sccp_lpp/ac_dec_15rev.geojson')"
   ]
  },
  {
   "cell_type": "code",
   "execution_count": null,
   "id": "f4310024-e3c1-43a8-aa09-c1b45e1206a0",
   "metadata": {},
   "outputs": [],
   "source": [
    "# new_ac.explore()"
   ]
  },
  {
   "cell_type": "code",
   "execution_count": null,
   "id": "17c5c3b1-5dca-4da5-811e-c02f3f0b6bea",
   "metadata": {},
   "outputs": [],
   "source": [
    "rt_day = rt_filter_map_plot.from_gcs(4, dt.date(2022, 5, 5))"
   ]
  },
  {
   "cell_type": "code",
   "execution_count": null,
   "id": "89f85528-8420-4d54-a1d6-35b2850f707a",
   "metadata": {},
   "outputs": [],
   "source": [
    "rt_day.add_corridor(new_ac)"
   ]
  },
  {
   "cell_type": "code",
   "execution_count": null,
   "id": "adc4d1f2-bce8-41dd-9a47-1decbc79b959",
   "metadata": {},
   "outputs": [],
   "source": [
    "rt_day.corridor_stop_delays >> distinct(_.route_short_name)"
   ]
  },
  {
   "cell_type": "code",
   "execution_count": null,
   "id": "ac97b74b-d086-48b4-8f4b-1700fccec772",
   "metadata": {},
   "outputs": [],
   "source": [
    "rt_day.corridor_metrics()"
   ]
  },
  {
   "cell_type": "code",
   "execution_count": null,
   "id": "aab74d31-52d0-46df-ba9d-57d3d035920f",
   "metadata": {},
   "outputs": [],
   "source": [
    "rt_day.quick_map_corridor()"
   ]
  },
  {
   "cell_type": "code",
   "execution_count": null,
   "id": "96df1594-db8d-41b2-a047-5ed01f214fb0",
   "metadata": {},
   "outputs": [],
   "source": [
    "rt_day.segment_speed_map(corridor=True)"
   ]
  },
  {
   "cell_type": "code",
   "execution_count": null,
   "id": "022e3913-bacb-4456-89c6-eabe113e80d7",
   "metadata": {},
   "outputs": [],
   "source": [
    "ac_corridor_metrics = sccp_tools.sccp_average_metrics(itp_id=4, date_range=date_range, corridor=new_ac)"
   ]
  },
  {
   "cell_type": "code",
   "execution_count": null,
   "id": "f3a9dc14-17ae-42bb-90ee-91e826632af6",
   "metadata": {},
   "outputs": [],
   "source": [
    "ac_corridor_metrics"
   ]
  },
  {
   "cell_type": "markdown",
   "id": "fb9a2b89-ca81-4763-bbc7-5e51c2251e99",
   "metadata": {},
   "source": [
    "# Samtrans"
   ]
  },
  {
   "cell_type": "code",
   "execution_count": null,
   "id": "2bf398bb-972e-46a6-ae05-ffe3eb8048d9",
   "metadata": {},
   "outputs": [],
   "source": [
    "# itp_id = 290 # Samtrans"
   ]
  },
  {
   "cell_type": "code",
   "execution_count": null,
   "id": "4ca4e9c9-e0b0-4ffd-821b-d05493bf2010",
   "metadata": {},
   "outputs": [],
   "source": [
    "# corridor = gpd.read_file('./corridors_sccp_lpp/peninsula.geojson') ## foster city / hayward park"
   ]
  },
  {
   "cell_type": "markdown",
   "id": "3ec413df-faaa-4c63-99e9-92d02e8fe77e",
   "metadata": {},
   "source": [
    "# Metro (Inglewood)"
   ]
  },
  {
   "cell_type": "code",
   "execution_count": null,
   "id": "d1af16af-0749-4440-8e52-c2829c62732b",
   "metadata": {},
   "outputs": [],
   "source": [
    "# itp_id = 182\n",
    "# corridor = gpd.read_file('./corridors_sccp_lpp/inglewood_map.geojson')"
   ]
  }
 ],
 "metadata": {
  "kernelspec": {
   "display_name": "Python 3 (ipykernel)",
   "language": "python",
   "name": "python3"
  },
  "language_info": {
   "codemirror_mode": {
    "name": "ipython",
    "version": 3
   },
   "file_extension": ".py",
   "mimetype": "text/x-python",
   "name": "python",
   "nbconvert_exporter": "python",
   "pygments_lexer": "ipython3",
   "version": "3.9.13"
  },
  "widgets": {
   "application/vnd.jupyter.widget-state+json": {
    "state": {
     "16cddff978ab45df9194da7150b77ce5": {
      "model_module": "@jupyter-widgets/controls",
      "model_module_version": "1.5.0",
      "model_name": "HBoxModel",
      "state": {
       "children": [
        "IPY_MODEL_635a661a0cbf466d933fb9104113ff4a",
        "IPY_MODEL_ae83ee1e969b44d787898e7d5a3577b5",
        "IPY_MODEL_6077ed8156524d6ca2f777ba75740c44"
       ],
       "layout": "IPY_MODEL_788b73220153482b9be9ca926bbddc02"
      }
     },
     "6077ed8156524d6ca2f777ba75740c44": {
      "model_module": "@jupyter-widgets/controls",
      "model_module_version": "1.5.0",
      "model_name": "HTMLModel",
      "state": {
       "layout": "IPY_MODEL_9e44e3a4675b44db8909f4bfcbb93de3",
       "style": "IPY_MODEL_9fbb401f7ef64281b7fcf80e9d2d5fb7",
       "value": " 125/125 [00:25&lt;00:00, 16.09it/s]"
      }
     },
     "635a661a0cbf466d933fb9104113ff4a": {
      "model_module": "@jupyter-widgets/controls",
      "model_module_version": "1.5.0",
      "model_name": "HTMLModel",
      "state": {
       "layout": "IPY_MODEL_a90e383537d548e58174850983c08df1",
       "style": "IPY_MODEL_d2334c318069468ca68c430223efe925",
       "value": "generating stop delay view itp_id: 34 org: City of Beaumon: 100%"
      }
     },
     "788b73220153482b9be9ca926bbddc02": {
      "model_module": "@jupyter-widgets/base",
      "model_module_version": "1.2.0",
      "model_name": "LayoutModel",
      "state": {}
     },
     "9e44e3a4675b44db8909f4bfcbb93de3": {
      "model_module": "@jupyter-widgets/base",
      "model_module_version": "1.2.0",
      "model_name": "LayoutModel",
      "state": {}
     },
     "9fbb401f7ef64281b7fcf80e9d2d5fb7": {
      "model_module": "@jupyter-widgets/controls",
      "model_module_version": "1.5.0",
      "model_name": "DescriptionStyleModel",
      "state": {
       "description_width": ""
      }
     },
     "a90e383537d548e58174850983c08df1": {
      "model_module": "@jupyter-widgets/base",
      "model_module_version": "1.2.0",
      "model_name": "LayoutModel",
      "state": {}
     },
     "ae83ee1e969b44d787898e7d5a3577b5": {
      "model_module": "@jupyter-widgets/controls",
      "model_module_version": "1.5.0",
      "model_name": "FloatProgressModel",
      "state": {
       "layout": "IPY_MODEL_e8ae7cfc21e2435f9e197c46b8dafa6c",
       "max": 125,
       "style": "IPY_MODEL_ba322b58c6c94ee2b519758b581a7b7e",
       "value": 125
      }
     },
     "ba322b58c6c94ee2b519758b581a7b7e": {
      "model_module": "@jupyter-widgets/controls",
      "model_module_version": "1.5.0",
      "model_name": "ProgressStyleModel",
      "state": {
       "description_width": ""
      }
     },
     "d2334c318069468ca68c430223efe925": {
      "model_module": "@jupyter-widgets/controls",
      "model_module_version": "1.5.0",
      "model_name": "DescriptionStyleModel",
      "state": {
       "description_width": ""
      }
     },
     "e8ae7cfc21e2435f9e197c46b8dafa6c": {
      "model_module": "@jupyter-widgets/base",
      "model_module_version": "1.2.0",
      "model_name": "LayoutModel",
      "state": {}
     }
    },
    "version_major": 2,
    "version_minor": 0
   }
  }
 },
 "nbformat": 4,
 "nbformat_minor": 5
}
