{
 "cells": [
  {
   "cell_type": "code",
   "execution_count": null,
   "id": "fd718269-6eac-4b19-8c67-e198dc8182cf",
   "metadata": {
    "tags": []
   },
   "outputs": [],
   "source": [
    "import geopandas as gpd\n",
    "import pandas as pd\n",
    "import json\n",
    "import gcsfs\n",
    "from calitp_data_analysis import get_fs\n",
    "import numpy as np\n",
    "import pathlib\n",
    "from enum import Enum"
   ]
  },
  {
   "cell_type": "code",
   "execution_count": null,
   "id": "c43606ce-ef67-4700-9152-a835e7875c9a",
   "metadata": {
    "tags": []
   },
   "outputs": [],
   "source": [
    "fs = get_fs()"
   ]
  },
  {
   "cell_type": "markdown",
   "id": "ec68b744-3152-4798-b36d-9b2531fbb648",
   "metadata": {},
   "source": [
    "Constant values, should go to a constants.py"
   ]
  },
  {
   "cell_type": "code",
   "execution_count": null,
   "id": "28ba526d-fea7-4808-8a16-f9e2736b8043",
   "metadata": {},
   "outputs": [],
   "source": [
    "# This maybe should be an enum, but that's probably unnecessary complexity here\n",
    "LINEAR = \"linear\"\n",
    "STOP = \"stop\"\n",
    "TSP = \"tsp\"\n",
    "\n",
    "DOCUMENTED_COLUMNS = {\n",
    "    LINEAR: {\n",
    "        \"infrastructure_id\", \n",
    "        \"infrastructure_type\", \n",
    "        \"direction\", \n",
    "        \"owner\",\n",
    "        \"hours_active\",\n",
    "        \"days_active\",\n",
    "        \"start_date\",\n",
    "        #\"end_date\", # this doesn't appear in the DF\n",
    "        \"source\",\n",
    "    },\n",
    "    STOP: {\n",
    "        \"infrastructure_id\",\n",
    "        \"infrastructure_type\",\n",
    "        \"gtfs_stop_id\",\n",
    "        \"owner\",\n",
    "        \"direct_freeway_access\",\n",
    "        \"amenities\",\n",
    "        \"source\",\n",
    "    },\n",
    "    TSP: {\n",
    "        \"infrastructure_id\",\n",
    "        \"infrastructure_type\",\n",
    "        \"tsp_type\",\n",
    "        \"owner\",\n",
    "        \"source\",\n",
    "    },\n",
    "}\n",
    "\n",
    "COLUMN_TYPE_MAP = {\n",
    "    \"transit signal priority\": TSP,\n",
    "    \"bus only lane\": LINEAR,\n",
    "    \"bus stop\": STOP,\n",
    "    \"median bus stop\": STOP,\n",
    "    \"freeway median bus stop\": STOP,\n",
    "    \"bus hub\": STOP,\n",
    "    \"bus and rail hub\": STOP,\n",
    "    \"express lane\": LINEAR,\n",
    "    \"bus hov lane\": LINEAR,\n",
    "    \"transit center\": STOP,\n",
    "}\n",
    "\n",
    "CORRECTION_COLUMN_NAMES = {\n",
    "    \"infrastructructure_type\": \"infrastructure_type\",\n",
    "    \"infrastrcture_type\": \"infrastructure_type\",\n",
    "    \"infrastucture_id\": \"infrastructure_id\",\n",
    "    \"iinfrastructure_id\": \"infrastructure_id\",\n",
    "    \"infrascture_id\": \"infrastructure_id\",\n",
    "    \"infrastructrure_id\": \"infrastructure_id\",\n",
    "    \"amentities\": \"amenities\",\n",
    "    \"Amenities\": \"amenities\",\n",
    "    \"grade_seperated\": \"grade_separated\",\n",
    "    \"Direct Access Ramp\": \"direct_access_ramp\",\n",
    "    \"Direct Freeway Access\": \"direct_freeway_access\",\n",
    "    \"direction_both\": \"direction\",\n",
    "    \"grfs_stop_id\": \"gtfs_stop_id\",\n",
    "    \"Owner\": \"owner\",\n",
    "}\n",
    "\n",
    "CORRECTION_VALUES = {\n",
    "    \"direction\": {\n",
    "        \"one way west/northbound\": \"one way\",\n",
    "    },\n",
    "    \"hours_active\": {\n",
    "        \"7am-9am 4pm-7pm\": \"7am-9am: and 4pm-7pm\",\n",
    "    },\n",
    "    \"owner\": {\n",
    "        \"ladot\": \"city of los angeles\",\n",
    "        \"lax\": \"city of los angeles (lawa)\",\n",
    "        \"loma linda\": \"city of loma linda\",\n",
    "        \"culver city\": \"city of culver city\",\n",
    "        \"metro\": \"lacmta\",\n",
    "        \"metrolink\": \"scrra\",\n",
    "    },\n",
    "    \"infrastructure_type\": {\n",
    "        \"median bus staton\": \"median bus stop\",\n",
    "        \"median bus station\": \"median bus stop\",\n",
    "        \"freeway median bus station\": \"freeway median bus stop\",\n",
    "    }\n",
    "}"
   ]
  },
  {
   "cell_type": "code",
   "execution_count": null,
   "id": "bd9050ed-7d69-4e5b-bb7e-e29ea2819ae4",
   "metadata": {
    "tags": []
   },
   "outputs": [],
   "source": [
    "import itertools\n",
    "# Get all columns used in all three specs, doesn't need to move to another file but is useful for visualization here\n",
    "useful_columns = list(set(itertools.chain(*DOCUMENTED_COLUMNS.values()))) + [\"geometry\"]"
   ]
  },
  {
   "cell_type": "markdown",
   "id": "6fc9e554-0a15-4960-af8b-059f571afb76",
   "metadata": {},
   "source": [
    "Data Cleaning, should go to a separate Python file"
   ]
  },
  {
   "cell_type": "code",
   "execution_count": null,
   "id": "b5de4f99-ce1a-43a0-b350-fa571babf3ca",
   "metadata": {
    "tags": []
   },
   "outputs": [],
   "source": [
    "base_path = pathlib.Path(\"calitp-analytics-data/data-analyses/transit_priority_infrastructure\")\n",
    "output_path_inconsistent = base_path / \"district_data_all_columns\"\n",
    "output_path_minimized = base_path / \"district_data_consistent_columns\"\n",
    "paths = fs.glob(str(base_path / \"*.geojson\"))\n",
    "gdfs = []\n",
    "for path in paths:\n",
    "    # Load feature collection json\n",
    "    with fs.open(path) as f:\n",
    "        district_json = json.load(f)\n",
    "    # Convert feature collection to a GDF\n",
    "    gdf_district = gpd.GeoDataFrame.from_features(\n",
    "        district_json, crs=4326\n",
    "    ).replace(\n",
    "        to_replace=r\"^\\s*$\", value=np.nan, regex=True\n",
    "    )\n",
    "    #new_path = output_path / pathlib.Path(path).name\n",
    "    # Replace typo column names\n",
    "    for column in CORRECTION_COLUMN_NAMES:\n",
    "        if column in gdf_district.columns and CORRECTION_COLUMN_NAMES[column] in gdf_district.columns:\n",
    "            gdf_district[CORRECTION_COLUMN_NAMES[column]].fillna(\n",
    "                gdf_district[column], inplace=True\n",
    "            )\n",
    "            gdf_district.drop(column, axis=1, inplace=True)\n",
    "        elif column in gdf_district.columns:\n",
    "            gdf_district.rename(columns={column: CORRECTION_COLUMN_NAMES[column]}, inplace=True)\n",
    "    # Make all values lower case\n",
    "    for column in gdf_district.select_dtypes(include=[object]).columns:\n",
    "        gdf_district[column] = gdf_district[column].str.lower()\n",
    "    # Replace undocumented values\n",
    "    gdf_district.replace(CORRECTION_VALUES, inplace=True)\n",
    "    gdfs.append(gdf_district)\n",
    "gdf_processed = pd.concat(gdfs, axis=0)\n",
    "# Handle the one case where infrastructure_id does not uniquely identify a corridor or stop\n",
    "gdf_processed.loc[\n",
    "    (gdf_processed[\"infrastructure_id\"] == \"canoga station\") & (gdf_processed[\"infrastructure_type\"] == \"bus hub\"), \n",
    "    \"infrastructure_id\"\n",
    "] = \"canoga station off-busway platform\"\n",
    "# Categorize for export\n",
    "gdf_processed[\"category\"] = gdf_processed[\"infrastructure_type\"].map(COLUMN_TYPE_MAP)"
   ]
  },
  {
   "cell_type": "code",
   "execution_count": null,
   "id": "d2d68aa3-bad5-435c-9948-fd4e1ade51ee",
   "metadata": {
    "tags": []
   },
   "outputs": [],
   "source": [
    "# Get a usable id for all values\n",
    "na_id_points = gdf_processed[\"infrastructure_id\"].isna()\n",
    "gdf_processed[\"infrastructure_id_filled\"] = gdf_processed[\"infrastructure_id\"].fillna(1)\n",
    "gdf_processed.loc[na_id_points, \"infrastructure_id_filled\"] = gdf_processed.loc[na_id_points, \"infrastructure_id_filled\"].cumsum()\n",
    "gdf_processed[\"infrastructure_id_filled\"] = gdf_processed[\"infrastructure_id_filled\"].astype(str)\n",
    "# Dissolve\n",
    "gdf_dissolved = gdf_processed.dissolve(by=[\"infrastructure_id_filled\"], as_index=False)"
   ]
  },
  {
   "cell_type": "code",
   "execution_count": null,
   "id": "c770e984-7ec5-4dfa-8856-20882a4344c3",
   "metadata": {
    "tags": []
   },
   "outputs": [],
   "source": [
    "COLUMN_TYPE_MAP.values()"
   ]
  },
  {
   "cell_type": "markdown",
   "id": "8743da96-a751-416e-8645-54d88d5f341f",
   "metadata": {},
   "source": [
    "Export to GCS"
   ]
  },
  {
   "cell_type": "code",
   "execution_count": null,
   "id": "903f712a-a147-4b6e-b0c0-7e7715fcfbdd",
   "metadata": {
    "tags": []
   },
   "outputs": [],
   "source": [
    "def get_gdf_categorized(gdf, category, category_name=\"category\", category_source=DOCUMENTED_COLUMNS):\n",
    "    gdf_reset = gdf.reset_index()\n",
    "    return gdf_reset.loc[\n",
    "        gdf_reset[category_name] == category,\n",
    "        list(category_source[category]) + [gdf_reset.geometry.name]\n",
    "    ].copy()\n",
    "\n",
    "#TODO: handle NA category values\n",
    "for category in set(COLUMN_TYPE_MAP.values()):\n",
    "    output_file_name = f\"{category.lower()}.parquet\"\n",
    "    dissolved_path = f\"gs://{base_path / 'processed_dissolved_infrastructure' / output_file_name}\"\n",
    "    non_dissolved_path = f\"gs://{base_path / 'processed_infrastructure' / output_file_name}\"\n",
    "    get_gdf_categorized(gdf_processed, category).to_parquet(non_dissolved_path)\n",
    "    get_gdf_categorized(gdf_dissolved, category).to_parquet(dissolved_path)"
   ]
  },
  {
   "cell_type": "markdown",
   "id": "4a6f68b5-475f-454a-9447-3c5f6c711c8a",
   "metadata": {},
   "source": [
    "Visualizing the cleaned result with all infra categories"
   ]
  },
  {
   "cell_type": "code",
   "execution_count": null,
   "id": "0bc5da76-48ee-4c28-ac50-81bf88c33c13",
   "metadata": {
    "tags": []
   },
   "outputs": [],
   "source": [
    "gdf_processed[useful_columns].explore(column=\"infrastructure_type\")"
   ]
  },
  {
   "cell_type": "code",
   "execution_count": null,
   "id": "88b3a810-a1ea-45cc-9892-679af9c45963",
   "metadata": {},
   "outputs": [],
   "source": [
    "gdf_linear = gpd.read_parquet(\"gs://calitp-analytics-data/data-analyses/transit_priority_infrastructure/processed_dissolved_infrastructure/stop.parquet\")"
   ]
  },
  {
   "cell_type": "markdown",
   "id": "4dd89209-f938-48d5-a891-9c5d8f9fe315",
   "metadata": {},
   "source": [
    "Checking the results saved to GCS look correct"
   ]
  },
  {
   "cell_type": "code",
   "execution_count": null,
   "id": "3c7d20b2-93f2-4a31-ac48-9ab45c03529d",
   "metadata": {
    "tags": []
   },
   "outputs": [],
   "source": [
    "gdf_linear.explore(column=\"infrastructure_type\")"
   ]
  },
  {
   "cell_type": "code",
   "execution_count": null,
   "id": "50ec0593-e700-4343-8d78-ef434252a2aa",
   "metadata": {},
   "outputs": [],
   "source": []
  }
 ],
 "metadata": {
  "kernelspec": {
   "display_name": "Python 3 (ipykernel)",
   "language": "python",
   "name": "python3"
  },
  "language_info": {
   "codemirror_mode": {
    "name": "ipython",
    "version": 3
   },
   "file_extension": ".py",
   "mimetype": "text/x-python",
   "name": "python",
   "nbconvert_exporter": "python",
   "pygments_lexer": "ipython3",
   "version": "3.11.10"
  }
 },
 "nbformat": 4,
 "nbformat_minor": 5
}
