{
 "cells": [
  {
   "cell_type": "code",
   "execution_count": 1,
   "id": "1e265c3d-d876-41fa-b864-19fd5d70c203",
   "metadata": {},
   "outputs": [
    {
     "name": "stderr",
     "output_type": "stream",
     "text": [
      "/opt/conda/lib/python3.9/site-packages/geopandas/_compat.py:111: UserWarning: The Shapely GEOS version (3.9.1-CAPI-1.14.2) is incompatible with the GEOS version PyGEOS was compiled with (3.10.1-CAPI-1.16.0). Conversions between both will be slow.\n",
      "  warnings.warn(\n"
     ]
    }
   ],
   "source": [
    "import os\n",
    "import pandas as pd\n",
    "import geopandas as gpd\n",
    "\n",
    "os.environ[\"CALITP_BQ_MAX_BYTES\"] = str(100_000_000_000)\n",
    "\n",
    "from calitp_data_analysis.tables import tbls\n",
    "from siuba import *\n",
    "from IPython.display import Markdown\n",
    "\n",
    "from utils import *"
   ]
  },
  {
   "cell_type": "code",
   "execution_count": 2,
   "id": "246014fc-419d-4e8c-8053-759f4a917afc",
   "metadata": {},
   "outputs": [],
   "source": [
    "#create_coverage_data.save_initial_data()\n",
    "\n",
    "# Read in data from queries\n",
    "ca_block_joined = gpd.read_parquet(\n",
    "    f\"{GCS_FILE_PATH}block_population_joined.parquet\")\n",
    "rt_complete = pd.read_parquet(f\"{GCS_FILE_PATH}rt_complete.parquet\")\n",
    "all_stops = gpd.read_parquet(f\"{GCS_FILE_PATH}all_stops.parquet\")\n",
    "accessible_stops_trips = gpd.read_parquet(\n",
    "    f\"{GCS_FILE_PATH}accessible_stops_trips.parquet\")\n",
    "\n",
    "# Read in employment data by tract\n",
    "#tract_pop_employ_filtered = create_coverage_data.get_employment_tract_data()\n",
    "#shared_utils.utils.geoparquet_gcs_export(tract_pop_employ_filtered, \n",
    "#                                         GCS_FILE_PATH, 'tract_pop_employ_filtered')\n",
    "\n",
    "tract_pop_employ_filtered = gpd.read_parquet(\n",
    "    f\"{GCS_FILE_PATH}tract_pop_employ_filtered.parquet\")"
   ]
  },
  {
   "cell_type": "code",
   "execution_count": 3,
   "id": "f21b0000-a3e6-4a62-bd57-824cb407be11",
   "metadata": {},
   "outputs": [],
   "source": [
    "# This stashes intermediate parquets into GCS\n",
    "# Read it again and put in dictionary\n",
    "#create_coverage_data.spatial_joins_to_blocks_and_tracts()"
   ]
  },
  {
   "cell_type": "code",
   "execution_count": 4,
   "id": "4aaf07b8-9449-4288-ba83-7730db2d4b2a",
   "metadata": {},
   "outputs": [
    {
     "name": "stdout",
     "output_type": "stream",
     "text": [
      "block_accessible_stops\n",
      "block_all_stops_rt\n",
      "block_accessible_stops_rt\n"
     ]
    }
   ],
   "source": [
    "rename_block_files = {\n",
    "    #\"block_all_stops\": \"block_level_static\",\n",
    "    \"block_accessible_stops\": \"block_level_accessible\",\n",
    "    \"block_all_stops_rt\": \"all_stops_rt\",\n",
    "    \"block_accessible_stops_rt\": \"accessible_stops_trips_rt\",\n",
    "}\n",
    "\n",
    "sjoin_blocks = {}\n",
    "\n",
    "for key, value in rename_block_files.items():\n",
    "    print(key)\n",
    "    sjoin_blocks[key] = gpd.read_parquet(f\"{GCS_FILE_PATH}{value}.parquet\")"
   ]
  },
  {
   "cell_type": "markdown",
   "id": "639dd482-463f-480d-9181-76cb532f8b3c",
   "metadata": {},
   "source": [
    "# Accessible Transit Metrics\n",
    "\n",
    "### New Accessibilty Metric (Area)\n",
    "\n",
    "The % of non-water area of California that is within 1/2mi of a bus stop or 1 mi of a ferry/rail stop that is explicitly wheelchair accessible (and if in a station, that station has explicit pathways coding), and that has is served by a public-funded, open to the general public transit service with GTFS Schedule data that is served by a service that is explicitly wheelchair accessible\n",
    "\n",
    "### New Accessibility Metric (Population)\n",
    "\n",
    " The % of Californians that are within 1/2 mi of a bus stop or 1 mi of a ferry/rail stop that is explicitly wheelchair accessible (and if in a station, that station has explicit pathways coding), and that has is served by a public-funded, open to the general public transit service with GTFS Schedule data that is served by a service that is explicitly wheelchair accessible\n",
    " \n",
    "### Notes and Caveats:\n",
    "\n",
    "* The vast majority of accessible services don't appear to provide accessibility data in GTFS\n",
    "* Pathways appears to be empty in data warehouse for now...\n",
    "\n",
    "### All Static\n",
    "\n",
    "#### New General Metric (by area):\n",
    "\n",
    "The % of non-water area of Californian that is within 1/2 mi of a bus stop or 1 mi of a ferry/rail stop that has is served by a public-funded, open to the general public transit service with GTFS Schedule data\n",
    "\n",
    "\n",
    "#### New General Metric (by population):\n",
    "\n",
    "The % of Californians that live within 1/2 mi of a bus stop or 1 mi of a ferry/rail stop that has is served by a public-funded, open to the general public transit service with GTFS Schedule data"
   ]
  },
  {
   "cell_type": "markdown",
   "id": "a84775da-cf67-4460-8650-0b8dae1eb7ff",
   "metadata": {},
   "source": [
    "## Block Level Metrics"
   ]
  },
  {
   "cell_type": "code",
   "execution_count": 5,
   "id": "94432fb3-5463-4d51-a2bf-69f57a522efe",
   "metadata": {},
   "outputs": [
    {
     "data": {
      "text/markdown": [
       "### Accessible Stops Static"
      ],
      "text/plain": [
       "<IPython.core.display.Markdown object>"
      ]
     },
     "metadata": {},
     "output_type": "display_data"
    },
    {
     "name": "stdout",
     "output_type": "stream",
     "text": [
      "access by block_pop: 10.02\n",
      "access by area: 0.93\n"
     ]
    },
    {
     "data": {
      "text/markdown": [
       "### All Stops RT"
      ],
      "text/plain": [
       "<IPython.core.display.Markdown object>"
      ]
     },
     "metadata": {},
     "output_type": "display_data"
    },
    {
     "name": "stdout",
     "output_type": "stream",
     "text": [
      "access by block_pop: 59.65\n",
      "access by area: 5.33\n"
     ]
    },
    {
     "data": {
      "text/markdown": [
       "### Accessible Stops RT"
      ],
      "text/plain": [
       "<IPython.core.display.Markdown object>"
      ]
     },
     "metadata": {},
     "output_type": "display_data"
    },
    {
     "name": "stdout",
     "output_type": "stream",
     "text": [
      "access by block_pop: 3.67\n",
      "access by area: 0.42\n"
     ]
    }
   ],
   "source": [
    "by_metrics = ['block_pop', 'area'] \n",
    "\n",
    "for name, df in sjoin_blocks.items():\n",
    "    \n",
    "    header = f\"{name.replace('block_', '').replace('_', ' ').title()}\"\n",
    "    if \"Rt\" in header:\n",
    "        header = header.replace('Rt', 'RT')\n",
    "    else:\n",
    "        header = header + \" Static\"\n",
    "    \n",
    "    display(Markdown(f\"### {header}\"))\n",
    "    \n",
    "    for metric in by_metrics:\n",
    "        p = calculate_access_proportion(df.drop_duplicates(\n",
    "            subset=['geo_id']), ca_block_joined, metric)\n",
    "        print(f\"access by {metric}: {p}\")"
   ]
  },
  {
   "cell_type": "code",
   "execution_count": 6,
   "id": "d7ae786a-5f42-4722-aa81-9762d8ddaf07",
   "metadata": {},
   "outputs": [
    {
     "data": {
      "text/markdown": [
       "### All Stops Static"
      ],
      "text/plain": [
       "<IPython.core.display.Markdown object>"
      ]
     },
     "metadata": {},
     "output_type": "display_data"
    },
    {
     "name": "stdout",
     "output_type": "stream",
     "text": [
      "access by block_pop: 85.95\n",
      "access by area: 11.58\n"
     ]
    }
   ],
   "source": [
    "block_level_static = gpd.read_parquet(\n",
    "    f\"{GCS_FILE_PATH}block_level_static.parquet\")\n",
    "\n",
    "display(Markdown(f\"### All Stops Static\"))\n",
    "\n",
    "for metric in by_metrics:\n",
    "    p = calculate_access_proportion(block_level_static.drop_duplicates(\n",
    "        subset=['geo_id']), ca_block_joined, metric)\n",
    "    print(f\"access by {metric}: {p}\")"
   ]
  },
  {
   "cell_type": "markdown",
   "id": "9d76958a-30b7-441c-bd3c-4d7c72c29f8e",
   "metadata": {},
   "source": [
    "### RT Milestone (Partial)"
   ]
  },
  {
   "cell_type": "code",
   "execution_count": 7,
   "id": "60d2313d-b249-4fd1-954d-a2a7eb6c5d1d",
   "metadata": {},
   "outputs": [],
   "source": [
    "milestone_ids = [13, 121, 323, 228, 325, 56, 93, 254, 251, 81, 122, 76, 199,\n",
    " 312, 344, 372, 280, 327, 112, 17, 118, 289, 120, 33, 356,\n",
    " 251, 351, 232, 6, 14, 271, 296, 389, 256]"
   ]
  },
  {
   "cell_type": "code",
   "execution_count": 8,
   "id": "debf972a-716c-49c8-b148-d1f706cf1f8b",
   "metadata": {},
   "outputs": [],
   "source": [
    "milestone_ids = [mid for mid in milestone_ids if mid \n",
    "                 not in sjoin_blocks[\"block_all_stops_rt\"].calitp_itp_id.unique()]"
   ]
  },
  {
   "cell_type": "markdown",
   "id": "d2fcb5ca-a45c-4b8c-b1b2-c932f0809c80",
   "metadata": {},
   "source": [
    "### Export for Mapping"
   ]
  },
  {
   "cell_type": "code",
   "execution_count": 11,
   "id": "56d7b557-ab23-4714-b020-ac5ac176186a",
   "metadata": {},
   "outputs": [],
   "source": [
    "def get_status(df, new_col):\n",
    "    df2 = (df.drop_duplicates(subset=['geo_id', 'calitp_itp_id']).copy()\n",
    "           >> select(_.geo_id, _.calitp_itp_id)\n",
    "          )\n",
    "    \n",
    "    df2[new_col] = True\n",
    "    \n",
    "    return df2\n",
    "\n",
    "\n",
    "rt_acc_status = get_status(sjoin_blocks[\"block_accessible_stops_rt\"], \"rt_accessible\")\n",
    "rt_status = get_status(sjoin_blocks[\"block_all_stops_rt\"], \"rt\")\n",
    "acc_status = get_status(sjoin_blocks[\"block_accessible_stops\"], \"accessible\")\n",
    "static_status = get_status(block_level_static, \"static\")\n",
    "rt_milestones = get_status((block_level_static\n",
    "                            >> filter(_.calitp_itp_id.isin(milestone_ids))\n",
    "                           ), \"rt_milestone\")"
   ]
  },
  {
   "cell_type": "code",
   "execution_count": 12,
   "id": "2b3fc7f0-cb40-438d-a296-0f00c9c45fd4",
   "metadata": {},
   "outputs": [],
   "source": [
    "all_df = pd.concat([rt_acc_status, rt_status, acc_status, \n",
    "                    static_status, rt_milestones])\n",
    "\n",
    "all_df = all_df.fillna(False)\n",
    "all_df = all_df.groupby(['geo_id', 'calitp_itp_id']).any().reset_index()"
   ]
  },
  {
   "cell_type": "code",
   "execution_count": 13,
   "id": "0394e4f9-7624-4bfe-bda9-bc9de0edcb88",
   "metadata": {},
   "outputs": [],
   "source": [
    "for_mapping = (ca_block_joined.astype({'geo_id':'int64'})\n",
    " >> inner_join(_, all_df, on = ['geo_id'])\n",
    " # >> left_join(_, rt_status, on = ['geo_id', 'calitp_itp_id'])\n",
    " # >> left_join(_, acc_status, on = ['geo_id', 'calitp_itp_id'])\n",
    " # >> left_join(_, static_status, on = ['geo_id', 'calitp_itp_id'])\n",
    ")\n",
    "for_mapping['calitp_itp_id'] = for_mapping.calitp_itp_id.fillna(0).astype('int64')\n",
    "# for_mapping = for_mapping.fillna(False)"
   ]
  },
  {
   "cell_type": "code",
   "execution_count": 14,
   "id": "20875527-7ae6-45c7-ac20-13fd8c30d3b9",
   "metadata": {},
   "outputs": [
    {
     "data": {
      "text/html": [
       "<div>\n",
       "<style scoped>\n",
       "    .dataframe tbody tr th:only-of-type {\n",
       "        vertical-align: middle;\n",
       "    }\n",
       "\n",
       "    .dataframe tbody tr th {\n",
       "        vertical-align: top;\n",
       "    }\n",
       "\n",
       "    .dataframe thead th {\n",
       "        text-align: right;\n",
       "    }\n",
       "</style>\n",
       "<table border=\"1\" class=\"dataframe\">\n",
       "  <thead>\n",
       "    <tr style=\"text-align: right;\">\n",
       "      <th></th>\n",
       "      <th>county</th>\n",
       "      <th>tract</th>\n",
       "      <th>block</th>\n",
       "      <th>geo_id</th>\n",
       "      <th>geometry</th>\n",
       "      <th>block_pop</th>\n",
       "      <th>area</th>\n",
       "      <th>calitp_itp_id</th>\n",
       "      <th>rt_accessible</th>\n",
       "      <th>rt</th>\n",
       "      <th>accessible</th>\n",
       "      <th>static</th>\n",
       "      <th>rt_milestone</th>\n",
       "    </tr>\n",
       "  </thead>\n",
       "  <tbody>\n",
       "    <tr>\n",
       "      <th>0</th>\n",
       "      <td>65</td>\n",
       "      <td>42628</td>\n",
       "      <td>4008</td>\n",
       "      <td>60650426284008</td>\n",
       "      <td>POLYGON ((257831.965 -463783.472, 258008.040 -...</td>\n",
       "      <td>103</td>\n",
       "      <td>15986.958897</td>\n",
       "      <td>269</td>\n",
       "      <td>False</td>\n",
       "      <td>True</td>\n",
       "      <td>False</td>\n",
       "      <td>True</td>\n",
       "      <td>False</td>\n",
       "    </tr>\n",
       "    <tr>\n",
       "      <th>1</th>\n",
       "      <td>65</td>\n",
       "      <td>42711</td>\n",
       "      <td>3025</td>\n",
       "      <td>60650427113025</td>\n",
       "      <td>POLYGON ((259577.302 -476173.973, 259651.066 -...</td>\n",
       "      <td>42</td>\n",
       "      <td>29609.218158</td>\n",
       "      <td>269</td>\n",
       "      <td>False</td>\n",
       "      <td>True</td>\n",
       "      <td>False</td>\n",
       "      <td>True</td>\n",
       "      <td>False</td>\n",
       "    </tr>\n",
       "    <tr>\n",
       "      <th>2</th>\n",
       "      <td>65</td>\n",
       "      <td>43401</td>\n",
       "      <td>1023</td>\n",
       "      <td>60650434011023</td>\n",
       "      <td>POLYGON ((281412.631 -469351.296, 281613.718 -...</td>\n",
       "      <td>21</td>\n",
       "      <td>19971.850439</td>\n",
       "      <td>13</td>\n",
       "      <td>False</td>\n",
       "      <td>False</td>\n",
       "      <td>False</td>\n",
       "      <td>True</td>\n",
       "      <td>True</td>\n",
       "    </tr>\n",
       "  </tbody>\n",
       "</table>\n",
       "</div>"
      ],
      "text/plain": [
       "   county  tract  block          geo_id  \\\n",
       "0      65  42628   4008  60650426284008   \n",
       "1      65  42711   3025  60650427113025   \n",
       "2      65  43401   1023  60650434011023   \n",
       "\n",
       "                                            geometry  block_pop          area  \\\n",
       "0  POLYGON ((257831.965 -463783.472, 258008.040 -...        103  15986.958897   \n",
       "1  POLYGON ((259577.302 -476173.973, 259651.066 -...         42  29609.218158   \n",
       "2  POLYGON ((281412.631 -469351.296, 281613.718 -...         21  19971.850439   \n",
       "\n",
       "   calitp_itp_id  rt_accessible     rt  accessible  static  rt_milestone  \n",
       "0            269          False   True       False    True         False  \n",
       "1            269          False   True       False    True         False  \n",
       "2             13          False  False       False    True          True  "
      ]
     },
     "execution_count": 14,
     "metadata": {},
     "output_type": "execute_result"
    }
   ],
   "source": [
    "for_mapping.head(3)"
   ]
  },
  {
   "cell_type": "code",
   "execution_count": 15,
   "id": "5e33a85c-41db-4882-a6d3-3d30d582ca0a",
   "metadata": {},
   "outputs": [
    {
     "name": "stderr",
     "output_type": "stream",
     "text": [
      "/home/jovyan/data-analyses/_shared_utils/shared_utils/utils.py:36: UserWarning: this is an initial implementation of Parquet/Feather file support and associated metadata.  This is tracking version 0.1.0 of the metadata specification at https://github.com/geopandas/geo-arrow-spec\n",
      "\n",
      "This metadata specification does not yet make stability promises.  We do not yet recommend using this in a production setting unless you are able to rewrite your Parquet/Feather files.\n",
      "\n",
      "To further ignore this warning, you can do: \n",
      "import warnings; warnings.filterwarnings('ignore', message='.*initial implementation of Parquet.*')\n"
     ]
    }
   ],
   "source": [
    "shared_utils.utils.geoparquet_gcs_export(for_mapping, GCS_FILE_PATH, 'block_accessibility_metrics')"
   ]
  },
  {
   "cell_type": "markdown",
   "id": "5b58402f-0773-430b-9466-090e90737113",
   "metadata": {},
   "source": [
    "## Employment Metrics (Tract Level)"
   ]
  },
  {
   "cell_type": "code",
   "execution_count": 16,
   "id": "c3b25faf-63a0-48f5-8c30-0e2ed9c50776",
   "metadata": {},
   "outputs": [
    {
     "name": "stdout",
     "output_type": "stream",
     "text": [
      "tract_all_stops\n",
      "tract_all_stops_rt\n",
      "tract_accessible_stops\n",
      "tract_accessible_stops_rt\n"
     ]
    }
   ],
   "source": [
    "tract_files = [\"tract_all_stops\", \"tract_all_stops_rt\",\n",
    "    \"tract_accessible_stops\", \"tract_accessible_stops_rt\"\n",
    "]\n",
    "\n",
    "sjoin_tracts = {}\n",
    "\n",
    "for t in tract_files:\n",
    "    print(t)\n",
    "    sjoin_tracts[t] = gpd.read_parquet(\n",
    "        f\"{GCS_FILE_PATH}{t}.parquet\")"
   ]
  },
  {
   "cell_type": "code",
   "execution_count": 17,
   "id": "d8b2d367-c019-494c-b42b-58c21bfb4380",
   "metadata": {},
   "outputs": [
    {
     "name": "stdout",
     "output_type": "stream",
     "text": [
      "tract_all_stops\n",
      "employment access by num_jobs: 99.32\n",
      "tract_all_stops_rt\n",
      "employment access by num_jobs: 82.63\n",
      "tract_accessible_stops\n",
      "employment access by num_jobs: 18.61\n",
      "tract_accessible_stops_rt\n",
      "employment access by num_jobs: 11.61\n"
     ]
    }
   ],
   "source": [
    "## all stops employment access, jobs\n",
    "metric = \"num_jobs\"\n",
    "\n",
    "for key, value in sjoin_tracts.items():\n",
    "    print(key)\n",
    "    \n",
    "    p = calculate_access_proportion(value.drop_duplicates(\n",
    "        subset=['Tract']), tract_pop_employ_filtered, metric)\n",
    "    \n",
    "    print(f\"employment access by {metric}: {p}\")"
   ]
  },
  {
   "cell_type": "markdown",
   "id": "c26bbc09-817c-475a-a097-de05b195d9f4",
   "metadata": {},
   "source": [
    "### Summarizing Coverage"
   ]
  },
  {
   "cell_type": "code",
   "execution_count": null,
   "id": "af545319-1594-401b-9040-e61dc4c06ede",
   "metadata": {},
   "outputs": [],
   "source": [
    "def make_coverage_summary():\n",
    "    \n",
    "    tract_df = gpd.read_parquet(\n",
    "        f\"{GCS_FILE_PATH}tract_all_stops.parquet\")\n",
    "    \n",
    "    ## since employment data is tract-level, only includes tracts < 4 sq km (~60% of jobs)\n",
    "    employment_summary = (tract_df\n",
    "                          >> group_by(_.calitp_itp_id)\n",
    "                          >> distinct(_.Tract, _keep_all=True) \n",
    "                          ##geo_id must be distinct per feed...\n",
    "                          >> summarize(total_jobs = _.num_jobs.sum())\n",
    "    )\n",
    "\n",
    "\n",
    "    SQ_MI_PER_SQ_M = 3.86e-7\n",
    "    \n",
    "    block_level_static = gpd.read_parquet(\n",
    "        f\"{GCS_FILE_PATH}block_level_static.parquet\")\n",
    "    \n",
    "    block_level_accessible = gpd.read_parquet(\n",
    "        f\"{GCS_FILE_PATH}block_level_accessible.parquet\")\n",
    "    \n",
    "    coverage_summary = (block_level_static\n",
    "                        >> group_by(_.calitp_itp_id)\n",
    "                        >> distinct(_.geo_id, _keep_all=True) ##geo_id must be distinct per feed...\n",
    "                        >> summarize(\n",
    "                            total_sq_mi = (_.area.sum() * SQ_MI_PER_SQ_M).astype('int64'),\n",
    "                            total_pop = _.block_pop.sum(),)\n",
    "                       )\n",
    "    \n",
    "    # Merge together\n",
    "    df = (coverage_summary \n",
    "                    >> inner_join(_, employment_summary, on ='calitp_itp_id')\n",
    "                   )\n",
    "    \n",
    "    \n",
    "    df['any_accessible_stops_trips'] = df.apply(\n",
    "        lambda x: x.calitp_itp_id in (\n",
    "                             block_level_accessible.calitp_itp_id.unique()), axis=1)\n",
    "    df['any_rt'] = df.apply(lambda x: x.calitp_itp_id in (\n",
    "                             rt_complete.calitp_itp_id.unique()), axis=1)\n",
    "    \n",
    "    df2 = (df \n",
    "           >> filter(_.calitp_itp_id.apply(lambda x: x not in [0,1,2,3,8,6])) \n",
    "           ## see issue 988\n",
    "          )\n",
    "    #df2 = df2 >> inner_join(_, tbl.gtfs_schedule.agency() \n",
    "    #                         >> distinct(_.agency_name, _.calitp_itp_id)\n",
    "    #                         >> collect(), \n",
    "    #                         on = 'calitp_itp_id')\n",
    "    \n",
    "    # Should this return df or df2?\n",
    "    # Should this be coverage_summary that filters out certain ITP_IDs or with_name?    \n",
    "    return df\n",
    "\n",
    "\n",
    "coverage_summary = make_coverage_summary()"
   ]
  },
  {
   "cell_type": "code",
   "execution_count": null,
   "id": "b448c78a-43af-42e8-b6aa-db67c286ff18",
   "metadata": {},
   "outputs": [],
   "source": [
    "coverage_summary.to_csv('draft_feed_metrics.csv')"
   ]
  },
  {
   "cell_type": "code",
   "execution_count": null,
   "id": "0a855ccf-2cad-4b24-a58a-bb0cb71763b9",
   "metadata": {},
   "outputs": [],
   "source": []
  }
 ],
 "metadata": {
  "kernelspec": {
   "display_name": "Python 3 (ipykernel)",
   "language": "python",
   "name": "python3"
  },
  "language_info": {
   "codemirror_mode": {
    "name": "ipython",
    "version": 3
   },
   "file_extension": ".py",
   "mimetype": "text/x-python",
   "name": "python",
   "nbconvert_exporter": "python",
   "pygments_lexer": "ipython3",
   "version": "3.9.13"
  }
 },
 "nbformat": 4,
 "nbformat_minor": 5
}
