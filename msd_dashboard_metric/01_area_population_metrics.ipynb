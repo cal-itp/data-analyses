{
 "cells": [
  {
   "cell_type": "code",
   "execution_count": 1,
   "id": "1e265c3d-d876-41fa-b864-19fd5d70c203",
   "metadata": {},
   "outputs": [
    {
     "name": "stderr",
     "output_type": "stream",
     "text": [
      "/opt/conda/lib/python3.9/site-packages/geopandas/_compat.py:111: UserWarning: The Shapely GEOS version (3.9.1-CAPI-1.14.2) is incompatible with the GEOS version PyGEOS was compiled with (3.10.1-CAPI-1.16.0). Conversions between both will be slow.\n",
      "  warnings.warn(\n"
     ]
    }
   ],
   "source": [
    "import pandas as pd\n",
    "import geopandas as gpd\n",
    "\n",
    "import shared_utils\n",
    "from utils import *\n",
    "import intake\n",
    "import gcsfs\n",
    "\n",
    "import calitp\n",
    "from calitp.tables import tbl\n",
    "from siuba import *\n",
    "\n",
    "from ipyleaflet import Map, GeoJSON, projections, basemaps, GeoData, LayersControl, WidgetControl, GeoJSON, LegendControl\n",
    "from ipywidgets import Text, HTML"
   ]
  },
  {
   "cell_type": "code",
   "execution_count": 2,
   "id": "5463cbce-1aa4-45ff-93b2-1bd96d120a94",
   "metadata": {},
   "outputs": [],
   "source": [
    "catalog = intake.open_catalog('./catalog.yml')"
   ]
  },
  {
   "cell_type": "markdown",
   "id": "34cb4ba3-117c-4a20-a1a4-c98b7aad9cdc",
   "metadata": {},
   "source": [
    "# Accessible Transit Metrics"
   ]
  },
  {
   "cell_type": "markdown",
   "id": "639dd482-463f-480d-9181-76cb532f8b3c",
   "metadata": {},
   "source": [
    "### New Accessibilty Metric (Area)\n",
    "\n",
    "The % of non-water area of California that is within 1/4 mi of a bus stop or 1 mi of a ferry/rail stop that is explicitly wheelchair accessible (and if in a station, that station has explicit pathways coding), and that has is served by a public-funded, open to the general public transit service with GTFS Schedule data that is served by a service that is explicitly wheelchair accessible"
   ]
  },
  {
   "cell_type": "markdown",
   "id": "58521b9e-6ae7-42e4-b0e8-8565a5de796c",
   "metadata": {},
   "source": [
    "### New Accessibility Metric (Population)\n",
    "\n",
    " The % of Californians that are within 1/4 mi of a bus stop or 1 mi of a ferry/rail stop that is explicitly wheelchair accessible (and if in a station, that station has explicit pathways coding), and that has is served by a public-funded, open to the general public transit service with GTFS Schedule data that is served by a service that is explicitly wheelchair accessible"
   ]
  },
  {
   "cell_type": "markdown",
   "id": "85d1087a-359b-4f4e-b8f2-f5e2ed1fb140",
   "metadata": {},
   "source": [
    "### Notes and Caveats:\n",
    "\n",
    "* The vast majority of accessible services don't appear to provide accessibility data in GTFS\n",
    "* Pathways appears to be empty in data warehouse for now..."
   ]
  },
  {
   "cell_type": "code",
   "execution_count": 3,
   "id": "8890b880-6a42-4544-9173-cfcb795eeb87",
   "metadata": {},
   "outputs": [],
   "source": [
    "total_pop_var = 'B01001_001E'"
   ]
  },
  {
   "cell_type": "code",
   "execution_count": 4,
   "id": "b00f500a-a2a7-4b9f-ab19-d6619c5039b0",
   "metadata": {},
   "outputs": [],
   "source": [
    "## can hit Census API limits with frequent runs?\n",
    "\n",
    "# blockgrp_pop = get_census_ca_counties(total_pop_var, 'block%20group')\n",
    "# blockgrp_pop = blockgrp_pop.rename(columns={'B01001_001E': 'block_grp_pop',\n",
    "#                                            'block group': 'block_grp'})"
   ]
  },
  {
   "cell_type": "code",
   "execution_count": 5,
   "id": "7ebe259f-3371-4e23-a979-60a392f76950",
   "metadata": {},
   "outputs": [],
   "source": [
    "## read pre-fetched 2019 ACS data from catalog\n",
    "blockgrp_pop = (catalog.ca_bg_population.read()\n",
    "                .rename(columns={'block group': 'block_grp',\n",
    "                                'population': 'block_grp_pop'})\n",
    "                .astype({'block_grp_pop': 'int64', 'state': 'int64',\n",
    "                        'county': 'int64', 'tract': 'int64',\n",
    "                        'block_grp': 'int64'})\n",
    "               )"
   ]
  },
  {
   "cell_type": "code",
   "execution_count": 6,
   "id": "ae24c2b3-1f01-4977-a4ca-210dad8743ab",
   "metadata": {},
   "outputs": [],
   "source": [
    "# blockgrp_pop.head(3)"
   ]
  },
  {
   "cell_type": "code",
   "execution_count": 7,
   "id": "d8fade15-44c9-4967-8012-1517b9f5b66d",
   "metadata": {},
   "outputs": [
    {
     "name": "stderr",
     "output_type": "stream",
     "text": [
      "/opt/conda/lib/python3.9/site-packages/siuba/sql/utils.py:52: SAWarning: Dialect bigquery:bigquery will not make use of SQL compilation caching as it does not set the 'supports_statement_cache' attribute to ``True``.  This can have significant performance implications including some performance degradations in comparison to prior SQLAlchemy versions.  Dialect maintainers should seek to set this attribute to True after appropriate development and testing for SQLAlchemy 1.4 caching support.   Alternatively, this attribute may be set to False which will disable this warning. (Background on this error at: https://sqlalche.me/e/14/cprf)\n"
     ]
    }
   ],
   "source": [
    "accessible_stops_trips = get_stops_and_trips(filter_accessible = True)"
   ]
  },
  {
   "cell_type": "code",
   "execution_count": 8,
   "id": "ccd970ac-61ba-4656-94f7-a030aa6e3838",
   "metadata": {},
   "outputs": [],
   "source": [
    "# accessible_stops_trips.head(3)"
   ]
  },
  {
   "cell_type": "code",
   "execution_count": 9,
   "id": "6f86eafd-c93f-45a6-a0ed-490297e08456",
   "metadata": {},
   "outputs": [],
   "source": [
    "bus_route_types = ['3', '11']\n",
    "\n",
    "def buffer_by_route_type(row):\n",
    "    '''\n",
    "    Buffer bus stops by 400 meters (.25mi),\n",
    "    rail/ferry by 1600 meters (1mi)\n",
    "    '''\n",
    "    if row.route_type in bus_route_types:\n",
    "        row.geometry = row.geometry.buffer(400)\n",
    "    else:\n",
    "        row.geometry = row.geometry.buffer(1600)\n",
    "    return row"
   ]
  },
  {
   "cell_type": "code",
   "execution_count": 10,
   "id": "3658e76a-57eb-4e32-9d78-5e32f6f10e5f",
   "metadata": {},
   "outputs": [],
   "source": [
    "accessible_stops_trips = accessible_stops_trips.apply(buffer_by_route_type, axis=1)"
   ]
  },
  {
   "cell_type": "code",
   "execution_count": 11,
   "id": "ad119d7d-e792-40fb-bc5a-aef08fa32a10",
   "metadata": {},
   "outputs": [],
   "source": [
    "# ca_block_geo = get_ca_block_group_geo()"
   ]
  },
  {
   "cell_type": "code",
   "execution_count": 12,
   "id": "e2007663-9e9c-4707-b19d-414166be5861",
   "metadata": {},
   "outputs": [],
   "source": [
    "# shared_utils.utils.geoparquet_gcs_export(ca_block_geo, GCS_FILE_PATH,\n",
    "#                                          'ca_block_grp_clipped_prj')"
   ]
  },
  {
   "cell_type": "code",
   "execution_count": 13,
   "id": "1602137f-417a-4409-9198-14d34f8ce010",
   "metadata": {},
   "outputs": [],
   "source": [
    "ca_block_geo = gpd.read_parquet(f'{GCS_FILE_PATH}ca_block_grp_clipped_prj.parquet')\n",
    "ca_block_geo['area'] = ca_block_geo.geometry.area"
   ]
  },
  {
   "cell_type": "code",
   "execution_count": 14,
   "id": "b55c6aa4-38f6-435f-abd3-348f90da7c74",
   "metadata": {},
   "outputs": [],
   "source": [
    "ca_block_geo = ca_block_geo.astype({'STATEFP': 'int64',\n",
    "                                            'COUNTYFP': 'int64',\n",
    "                                            'TRACTCE': 'int64',\n",
    "                                            'BLKGRPCE': 'int64'})\n",
    "ca_block_geo = ca_block_geo.rename(columns={'STATEFP': 'state',\n",
    "                                                   'COUNTYFP': 'county',\n",
    "                                                   'TRACTCE': 'tract',\n",
    "                                                   'BLKGRPCE': 'block_grp'})"
   ]
  },
  {
   "cell_type": "code",
   "execution_count": 15,
   "id": "f5a914c8-7254-4e06-b755-76a74de4f6f8",
   "metadata": {},
   "outputs": [],
   "source": [
    "ca_block_geo = ca_block_geo >> inner_join(_, blockgrp_pop, on = ['state', 'county', 'tract', 'block_grp'])"
   ]
  },
  {
   "cell_type": "code",
   "execution_count": 16,
   "id": "e842847b-f40a-48c2-8ca1-4745ee1a4679",
   "metadata": {},
   "outputs": [],
   "source": [
    "## drop large block groups (not useful access data...)\n",
    "## 4 sq km threshold\n",
    "ca_block_geo['under_4_sq_km'] = ca_block_geo.area < 4e+06\n",
    "ca_block_geo_filtered = ca_block_geo >> filter(_.under_4_sq_km)"
   ]
  },
  {
   "cell_type": "code",
   "execution_count": 17,
   "id": "5801fb18-15a8-46a5-bea9-93b212db2384",
   "metadata": {},
   "outputs": [],
   "source": [
    "accessible_geo_joined = ca_block_geo_filtered.sjoin(accessible_stops_trips, how='inner', predicate='intersects')"
   ]
  },
  {
   "cell_type": "code",
   "execution_count": 18,
   "id": "b2ca867f-753f-40f9-a07d-82aa56411b3d",
   "metadata": {},
   "outputs": [],
   "source": [
    "accessible_geo_joined = accessible_geo_joined.drop_duplicates(subset=['GEOID'])"
   ]
  },
  {
   "cell_type": "code",
   "execution_count": 19,
   "id": "2538593c-f7f5-4cdb-80f6-289f4f448766",
   "metadata": {},
   "outputs": [
    {
     "data": {
      "text/html": [
       "<div>\n",
       "<style scoped>\n",
       "    .dataframe tbody tr th:only-of-type {\n",
       "        vertical-align: middle;\n",
       "    }\n",
       "\n",
       "    .dataframe tbody tr th {\n",
       "        vertical-align: top;\n",
       "    }\n",
       "\n",
       "    .dataframe thead th {\n",
       "        text-align: right;\n",
       "    }\n",
       "</style>\n",
       "<table border=\"1\" class=\"dataframe\">\n",
       "  <thead>\n",
       "    <tr style=\"text-align: right;\">\n",
       "      <th></th>\n",
       "      <th>state</th>\n",
       "      <th>county</th>\n",
       "      <th>tract</th>\n",
       "      <th>block_grp</th>\n",
       "      <th>GEOID</th>\n",
       "      <th>NAMELSAD</th>\n",
       "      <th>MTFCC</th>\n",
       "      <th>FUNCSTAT</th>\n",
       "      <th>ALAND</th>\n",
       "      <th>AWATER</th>\n",
       "      <th>...</th>\n",
       "      <th>under_4_sq_km</th>\n",
       "      <th>index_right</th>\n",
       "      <th>stop_id</th>\n",
       "      <th>route_type</th>\n",
       "      <th>stop_lon</th>\n",
       "      <th>stop_lat</th>\n",
       "      <th>calitp_itp_id</th>\n",
       "      <th>calitp_url_number</th>\n",
       "      <th>wheelchair_boarding</th>\n",
       "      <th>wheelchair_accessible</th>\n",
       "    </tr>\n",
       "  </thead>\n",
       "  <tbody>\n",
       "    <tr>\n",
       "      <th>0</th>\n",
       "      <td>6</td>\n",
       "      <td>73</td>\n",
       "      <td>10009</td>\n",
       "      <td>1</td>\n",
       "      <td>060730100091</td>\n",
       "      <td>Block Group 1</td>\n",
       "      <td>G5030</td>\n",
       "      <td>S</td>\n",
       "      <td>1759046</td>\n",
       "      <td>528681</td>\n",
       "      <td>...</td>\n",
       "      <td>True</td>\n",
       "      <td>6342</td>\n",
       "      <td>60594</td>\n",
       "      <td>3</td>\n",
       "      <td>-117.0483</td>\n",
       "      <td>32.553833</td>\n",
       "      <td>278</td>\n",
       "      <td>0</td>\n",
       "      <td>1</td>\n",
       "      <td>1</td>\n",
       "    </tr>\n",
       "    <tr>\n",
       "      <th>3</th>\n",
       "      <td>6</td>\n",
       "      <td>73</td>\n",
       "      <td>10009</td>\n",
       "      <td>3</td>\n",
       "      <td>060730100093</td>\n",
       "      <td>Block Group 3</td>\n",
       "      <td>G5030</td>\n",
       "      <td>S</td>\n",
       "      <td>707892</td>\n",
       "      <td>0</td>\n",
       "      <td>...</td>\n",
       "      <td>True</td>\n",
       "      <td>6342</td>\n",
       "      <td>60594</td>\n",
       "      <td>3</td>\n",
       "      <td>-117.0483</td>\n",
       "      <td>32.553833</td>\n",
       "      <td>278</td>\n",
       "      <td>0</td>\n",
       "      <td>1</td>\n",
       "      <td>1</td>\n",
       "    </tr>\n",
       "    <tr>\n",
       "      <th>4</th>\n",
       "      <td>6</td>\n",
       "      <td>73</td>\n",
       "      <td>10013</td>\n",
       "      <td>1</td>\n",
       "      <td>060730100131</td>\n",
       "      <td>Block Group 1</td>\n",
       "      <td>G5030</td>\n",
       "      <td>S</td>\n",
       "      <td>491924</td>\n",
       "      <td>0</td>\n",
       "      <td>...</td>\n",
       "      <td>True</td>\n",
       "      <td>6342</td>\n",
       "      <td>60594</td>\n",
       "      <td>3</td>\n",
       "      <td>-117.0483</td>\n",
       "      <td>32.553833</td>\n",
       "      <td>278</td>\n",
       "      <td>0</td>\n",
       "      <td>1</td>\n",
       "      <td>1</td>\n",
       "    </tr>\n",
       "  </tbody>\n",
       "</table>\n",
       "<p>3 rows × 26 columns</p>\n",
       "</div>"
      ],
      "text/plain": [
       "   state  county  tract  block_grp         GEOID       NAMELSAD  MTFCC  \\\n",
       "0      6      73  10009          1  060730100091  Block Group 1  G5030   \n",
       "3      6      73  10009          3  060730100093  Block Group 3  G5030   \n",
       "4      6      73  10013          1  060730100131  Block Group 1  G5030   \n",
       "\n",
       "  FUNCSTAT    ALAND  AWATER  ... under_4_sq_km index_right stop_id  \\\n",
       "0        S  1759046  528681  ...          True        6342   60594   \n",
       "3        S   707892       0  ...          True        6342   60594   \n",
       "4        S   491924       0  ...          True        6342   60594   \n",
       "\n",
       "   route_type  stop_lon   stop_lat  calitp_itp_id  calitp_url_number  \\\n",
       "0           3 -117.0483  32.553833            278                  0   \n",
       "3           3 -117.0483  32.553833            278                  0   \n",
       "4           3 -117.0483  32.553833            278                  0   \n",
       "\n",
       "  wheelchair_boarding wheelchair_accessible  \n",
       "0                   1                     1  \n",
       "3                   1                     1  \n",
       "4                   1                     1  \n",
       "\n",
       "[3 rows x 26 columns]"
      ]
     },
     "execution_count": 19,
     "metadata": {},
     "output_type": "execute_result"
    }
   ],
   "source": [
    "accessible_geo_joined.head(3)"
   ]
  },
  {
   "cell_type": "code",
   "execution_count": 20,
   "id": "093721d5-8d35-42f5-abde-24eec413a393",
   "metadata": {},
   "outputs": [],
   "source": [
    "def calculate_access_proportion(num_df, denom_df, col):\n",
    "    proportion = num_df[col].sum() / denom_df[col].sum()\n",
    "    percentage = (proportion * 100).round(2)\n",
    "    return percentage"
   ]
  },
  {
   "cell_type": "markdown",
   "id": "21c3904b-6dc8-41ee-8f19-73f5ad5c6b99",
   "metadata": {},
   "source": [
    "#### Current Percentage of CA population in block groups within .25mi of accessible transit"
   ]
  },
  {
   "cell_type": "code",
   "execution_count": 21,
   "id": "f5f5b8ba-8925-4810-8307-003c19ed6cdf",
   "metadata": {},
   "outputs": [
    {
     "data": {
      "text/plain": [
       "11.47"
      ]
     },
     "execution_count": 21,
     "metadata": {},
     "output_type": "execute_result"
    }
   ],
   "source": [
    "calculate_access_proportion(accessible_geo_joined, ca_block_geo_filtered, 'block_grp_pop')"
   ]
  },
  {
   "cell_type": "markdown",
   "id": "a8274aa7-6608-4a45-81cb-04d00a766358",
   "metadata": {},
   "source": [
    "#### Current Percentage of CA land area in block groups within .25mi of accessible transit"
   ]
  },
  {
   "cell_type": "code",
   "execution_count": 22,
   "id": "9f583f99-232c-484b-9907-8271a1fa93be",
   "metadata": {},
   "outputs": [
    {
     "data": {
      "text/plain": [
       "10.9"
      ]
     },
     "execution_count": 22,
     "metadata": {},
     "output_type": "execute_result"
    }
   ],
   "source": [
    "calculate_access_proportion(accessible_geo_joined, ca_block_geo_filtered, 'area')"
   ]
  },
  {
   "cell_type": "markdown",
   "id": "f18d84fc-a038-4d2c-8ebc-ac7481e9864b",
   "metadata": {},
   "source": [
    "### Map"
   ]
  },
  {
   "cell_type": "code",
   "execution_count": 23,
   "id": "55a36658-e188-4ef5-bf08-0fa0f9e7ec18",
   "metadata": {},
   "outputs": [],
   "source": [
    "# simple_map(accessible_geo_joined, 'calitp_itp_id')"
   ]
  },
  {
   "cell_type": "markdown",
   "id": "71b2a81b-f410-45f9-8cc9-62d32d2fadb3",
   "metadata": {},
   "source": [
    "#### Static Map (block groups near accessible transit, Bay Area)\n",
    "\n",
    "![bay area accessiblity](accessible.png)"
   ]
  },
  {
   "cell_type": "markdown",
   "id": "db73185f-6325-4c53-a8cd-fc908b3c2240",
   "metadata": {},
   "source": [
    "# General Transit Metrics"
   ]
  },
  {
   "cell_type": "markdown",
   "id": "28dcde4c-8970-43ae-9602-53a31058194f",
   "metadata": {},
   "source": [
    "### New General Metric (by area):\n",
    "\n",
    "The % of non-water area of Californian that is within 1/4 mi of a bus stop or 1 mi of a ferry/rail stop that has is served by a public-funded, open to the general public transit service with GTFS Schedule data\n"
   ]
  },
  {
   "cell_type": "markdown",
   "id": "885e26b2-69af-45f3-9319-7b14c1822b29",
   "metadata": {},
   "source": [
    "### New General Metric (by population):\n",
    "\n",
    "The % of Californians that live within 1/4 mi of a bus stop or 1 mi of a ferry/rail stop that has is served by a public-funded, open to the general public transit service with GTFS Schedule data\n"
   ]
  },
  {
   "cell_type": "code",
   "execution_count": 24,
   "id": "2e925197-037d-40d0-9d63-bbb8381a1ddb",
   "metadata": {},
   "outputs": [],
   "source": [
    "all_stops = get_stops_and_trips(filter_accessible = False)\n",
    "all_stops = all_stops.apply(buffer_by_route_type, axis=1)"
   ]
  },
  {
   "cell_type": "code",
   "execution_count": 25,
   "id": "e9462e5e-5ea8-4308-ab02-2ab8cd17f46b",
   "metadata": {},
   "outputs": [],
   "source": [
    "all_stops_joined = (ca_block_geo_filtered\n",
    "                    .sjoin(all_stops, how='inner', predicate='intersects')\n",
    "                    .drop_duplicates(subset=['GEOID'])\n",
    "                   )"
   ]
  },
  {
   "cell_type": "code",
   "execution_count": 26,
   "id": "b34809cf-aaff-4b11-ad99-f060d67c1536",
   "metadata": {},
   "outputs": [],
   "source": [
    "# all_stops_pop_joined = all_stops_joined >> inner_join(_, blockgrp_pop, on=['state', 'county', 'tract', 'block_grp'])"
   ]
  },
  {
   "cell_type": "markdown",
   "id": "2174bbf9-46d9-46f1-90e3-ed047f9a1329",
   "metadata": {},
   "source": [
    "#### Current Percentage of CA population in block groups near transit with GTFS Schedule data"
   ]
  },
  {
   "cell_type": "code",
   "execution_count": 27,
   "id": "026ccfc7-64e6-40cb-8d04-481e016a03f0",
   "metadata": {},
   "outputs": [
    {
     "data": {
      "text/plain": [
       "79.27"
      ]
     },
     "execution_count": 27,
     "metadata": {},
     "output_type": "execute_result"
    }
   ],
   "source": [
    "calculate_access_proportion(all_stops_joined, blockgrp_pop, 'block_grp_pop')"
   ]
  },
  {
   "cell_type": "markdown",
   "id": "2bf9502b-3b1f-4b75-bf36-cf989e7eb392",
   "metadata": {},
   "source": [
    "#### Current Percentage of CA land area in block groups near transit with GTFS Schedule data"
   ]
  },
  {
   "cell_type": "code",
   "execution_count": 28,
   "id": "90bd4269-d9b2-4ccc-93fc-8d7a1099e6ce",
   "metadata": {},
   "outputs": [
    {
     "data": {
      "text/plain": [
       "90.09"
      ]
     },
     "execution_count": 28,
     "metadata": {},
     "output_type": "execute_result"
    }
   ],
   "source": [
    "calculate_access_proportion(all_stops_joined, ca_block_geo_filtered, 'area')"
   ]
  },
  {
   "cell_type": "markdown",
   "id": "5b58402f-0773-430b-9466-090e90737113",
   "metadata": {},
   "source": [
    "## Employment Metrics"
   ]
  },
  {
   "cell_type": "code",
   "execution_count": 29,
   "id": "d8b2d367-c019-494c-b42b-58c21bfb4380",
   "metadata": {},
   "outputs": [],
   "source": [
    "service_path = 'gs://calitp-analytics-data/data-analyses/bus_service_increase/'"
   ]
  },
  {
   "cell_type": "code",
   "execution_count": 30,
   "id": "51cb0103-af8a-41de-881a-1d7f0cf7c39d",
   "metadata": {},
   "outputs": [],
   "source": [
    "## Read in processed df from bus_service_increase/B1\n",
    "tract_pop_employ = gpd.read_parquet(f'{service_path}bus_stop_times_by_tract.parquet')\n",
    "tract_pop_employ = tract_pop_employ >> select(-_.num_arrivals, -_.stop_id, -_.itp_id)"
   ]
  },
  {
   "cell_type": "code",
   "execution_count": 31,
   "id": "5cfbfa16-dc4b-4d47-a7a6-7ad28c30bceb",
   "metadata": {},
   "outputs": [
    {
     "data": {
      "text/html": [
       "<div>\n",
       "<style scoped>\n",
       "    .dataframe tbody tr th:only-of-type {\n",
       "        vertical-align: middle;\n",
       "    }\n",
       "\n",
       "    .dataframe tbody tr th {\n",
       "        vertical-align: top;\n",
       "    }\n",
       "\n",
       "    .dataframe thead th {\n",
       "        text-align: right;\n",
       "    }\n",
       "</style>\n",
       "<table border=\"1\" class=\"dataframe\">\n",
       "  <thead>\n",
       "    <tr style=\"text-align: right;\">\n",
       "      <th></th>\n",
       "      <th>Tract</th>\n",
       "      <th>ZIP</th>\n",
       "      <th>Population</th>\n",
       "      <th>sq_mi</th>\n",
       "      <th>pop_sq_mi</th>\n",
       "      <th>overall_ptile</th>\n",
       "      <th>pollution_ptile</th>\n",
       "      <th>popchar_ptile</th>\n",
       "      <th>equity_group</th>\n",
       "      <th>pollution_group</th>\n",
       "      <th>popchar_group</th>\n",
       "      <th>County</th>\n",
       "      <th>City</th>\n",
       "      <th>geometry</th>\n",
       "      <th>num_jobs</th>\n",
       "      <th>jobs_sq_mi</th>\n",
       "      <th>num_pop_jobs</th>\n",
       "      <th>popjobs_sq_mi</th>\n",
       "    </tr>\n",
       "  </thead>\n",
       "  <tbody>\n",
       "    <tr>\n",
       "      <th>0</th>\n",
       "      <td>06001400100</td>\n",
       "      <td>94704</td>\n",
       "      <td>3120</td>\n",
       "      <td>2.655917</td>\n",
       "      <td>1174.735672</td>\n",
       "      <td>2.798790</td>\n",
       "      <td>26.621033</td>\n",
       "      <td>1.525466</td>\n",
       "      <td>1.0</td>\n",
       "      <td>1</td>\n",
       "      <td>1.0</td>\n",
       "      <td>Alameda</td>\n",
       "      <td>Oakland</td>\n",
       "      <td>POLYGON ((-122.24408 37.88322, -122.24198 37.8...</td>\n",
       "      <td>936</td>\n",
       "      <td>352.420702</td>\n",
       "      <td>4056</td>\n",
       "      <td>1527.156374</td>\n",
       "    </tr>\n",
       "    <tr>\n",
       "      <th>1</th>\n",
       "      <td>06001400200</td>\n",
       "      <td>94618</td>\n",
       "      <td>2007</td>\n",
       "      <td>0.229901</td>\n",
       "      <td>8729.842564</td>\n",
       "      <td>2.874433</td>\n",
       "      <td>24.181705</td>\n",
       "      <td>1.651538</td>\n",
       "      <td>1.0</td>\n",
       "      <td>1</td>\n",
       "      <td>1.0</td>\n",
       "      <td>Alameda</td>\n",
       "      <td>Oakland</td>\n",
       "      <td>POLYGON ((-122.24191 37.85181, -122.24202 37.8...</td>\n",
       "      <td>1357</td>\n",
       "      <td>5902.539292</td>\n",
       "      <td>3364</td>\n",
       "      <td>14632.381857</td>\n",
       "    </tr>\n",
       "    <tr>\n",
       "      <th>2</th>\n",
       "      <td>06001400300</td>\n",
       "      <td>94618</td>\n",
       "      <td>5051</td>\n",
       "      <td>0.427356</td>\n",
       "      <td>11819.185546</td>\n",
       "      <td>15.935451</td>\n",
       "      <td>33.366521</td>\n",
       "      <td>12.266768</td>\n",
       "      <td>1.0</td>\n",
       "      <td>2</td>\n",
       "      <td>1.0</td>\n",
       "      <td>Alameda</td>\n",
       "      <td>Oakland</td>\n",
       "      <td>POLYGON ((-122.24590 37.84500, -122.25241 37.8...</td>\n",
       "      <td>1978</td>\n",
       "      <td>4628.459515</td>\n",
       "      <td>7029</td>\n",
       "      <td>16447.645061</td>\n",
       "    </tr>\n",
       "  </tbody>\n",
       "</table>\n",
       "</div>"
      ],
      "text/plain": [
       "         Tract    ZIP  Population     sq_mi     pop_sq_mi  overall_ptile  \\\n",
       "0  06001400100  94704        3120  2.655917   1174.735672       2.798790   \n",
       "1  06001400200  94618        2007  0.229901   8729.842564       2.874433   \n",
       "2  06001400300  94618        5051  0.427356  11819.185546      15.935451   \n",
       "\n",
       "   pollution_ptile  popchar_ptile  equity_group  pollution_group  \\\n",
       "0        26.621033       1.525466           1.0                1   \n",
       "1        24.181705       1.651538           1.0                1   \n",
       "2        33.366521      12.266768           1.0                2   \n",
       "\n",
       "   popchar_group   County     City  \\\n",
       "0            1.0  Alameda  Oakland   \n",
       "1            1.0  Alameda  Oakland   \n",
       "2            1.0  Alameda  Oakland   \n",
       "\n",
       "                                            geometry  num_jobs   jobs_sq_mi  \\\n",
       "0  POLYGON ((-122.24408 37.88322, -122.24198 37.8...       936   352.420702   \n",
       "1  POLYGON ((-122.24191 37.85181, -122.24202 37.8...      1357  5902.539292   \n",
       "2  POLYGON ((-122.24590 37.84500, -122.25241 37.8...      1978  4628.459515   \n",
       "\n",
       "   num_pop_jobs  popjobs_sq_mi  \n",
       "0          4056    1527.156374  \n",
       "1          3364   14632.381857  \n",
       "2          7029   16447.645061  "
      ]
     },
     "execution_count": 31,
     "metadata": {},
     "output_type": "execute_result"
    }
   ],
   "source": [
    "tract_pop_employ.head(3)"
   ]
  },
  {
   "cell_type": "code",
   "execution_count": 32,
   "id": "e903fe3e-d11a-4ffc-ba49-f3c17341b18d",
   "metadata": {},
   "outputs": [],
   "source": [
    "tract_pop_employ = tract_pop_employ.to_crs(\n",
    "                        shared_utils.geography_utils.CA_NAD83Albers)\n",
    "tract_pop_employ['area'] = tract_pop_employ.geometry.area"
   ]
  },
  {
   "cell_type": "code",
   "execution_count": 33,
   "id": "cebdb00f-bc02-41ad-b55b-dfa9bca50ce0",
   "metadata": {},
   "outputs": [],
   "source": [
    "## option to filter out large tracts (not useful access data...)\n",
    "## 4 sq km threshold\n",
    "tract_pop_employ['under_4_sq_km'] = tract_pop_employ.area < 4e+06"
   ]
  },
  {
   "cell_type": "code",
   "execution_count": 34,
   "id": "41468f14-bf8b-4514-985a-c91b599af6c3",
   "metadata": {},
   "outputs": [
    {
     "data": {
      "text/html": [
       "<div>\n",
       "<style scoped>\n",
       "    .dataframe tbody tr th:only-of-type {\n",
       "        vertical-align: middle;\n",
       "    }\n",
       "\n",
       "    .dataframe tbody tr th {\n",
       "        vertical-align: top;\n",
       "    }\n",
       "\n",
       "    .dataframe thead th {\n",
       "        text-align: right;\n",
       "    }\n",
       "</style>\n",
       "<table border=\"1\" class=\"dataframe\">\n",
       "  <thead>\n",
       "    <tr style=\"text-align: right;\">\n",
       "      <th></th>\n",
       "      <th>under_4_sq_km</th>\n",
       "      <th>jobs</th>\n",
       "    </tr>\n",
       "  </thead>\n",
       "  <tbody>\n",
       "    <tr>\n",
       "      <th>0</th>\n",
       "      <td>False</td>\n",
       "      <td>6770495</td>\n",
       "    </tr>\n",
       "    <tr>\n",
       "      <th>1</th>\n",
       "      <td>True</td>\n",
       "      <td>10386412</td>\n",
       "    </tr>\n",
       "  </tbody>\n",
       "</table>\n",
       "</div>"
      ],
      "text/plain": [
       "   under_4_sq_km      jobs\n",
       "0          False   6770495\n",
       "1           True  10386412"
      ]
     },
     "execution_count": 34,
     "metadata": {},
     "output_type": "execute_result"
    }
   ],
   "source": [
    "job_density = tract_pop_employ >> group_by('under_4_sq_km') >> summarize(jobs = _.num_jobs.sum())\n",
    "job_density"
   ]
  },
  {
   "cell_type": "code",
   "execution_count": 35,
   "id": "2b8ebb2a-5869-4b4a-9f61-2de6d014402c",
   "metadata": {},
   "outputs": [
    {
     "data": {
      "text/plain": [
       "jobs    0.605378\n",
       "dtype: float64"
      ]
     },
     "execution_count": 35,
     "metadata": {},
     "output_type": "execute_result"
    }
   ],
   "source": [
    "## about 60% of CA jobs are in tracts under 4 sq km (scope for this analysis)\n",
    "(job_density >> filter(_.under_4_sq_km) >> select(_.jobs)).sum() / (job_density >> select(_.jobs)).sum()"
   ]
  },
  {
   "cell_type": "code",
   "execution_count": 36,
   "id": "e2a71360-e912-48d3-96fe-2e4bb2717867",
   "metadata": {},
   "outputs": [],
   "source": [
    "## filter out large tracts\n",
    "tract_pop_employ_filtered = tract_pop_employ >> filter(_.under_4_sq_km)"
   ]
  },
  {
   "cell_type": "code",
   "execution_count": 37,
   "id": "402b13fb-77ee-4700-a75a-12383875d46c",
   "metadata": {},
   "outputs": [],
   "source": [
    "all_employment_joined = (tract_pop_employ_filtered\n",
    "                    .sjoin(all_stops, how='inner', predicate='intersects')\n",
    "                    .drop_duplicates(subset=['Tract'])\n",
    "                   )"
   ]
  },
  {
   "cell_type": "code",
   "execution_count": 38,
   "id": "fc0af318-e877-485c-b755-2ad95508a1ac",
   "metadata": {},
   "outputs": [],
   "source": [
    "accessible_employment_joined = (tract_pop_employ_filtered\n",
    "                    .sjoin(accessible_stops_trips, how='inner', predicate='intersects')\n",
    "                    .drop_duplicates(subset=['Tract'])\n",
    "                   )"
   ]
  },
  {
   "cell_type": "code",
   "execution_count": 39,
   "id": "963b05b7-b49f-4bdd-be4c-d154d4df6a2f",
   "metadata": {},
   "outputs": [
    {
     "data": {
      "text/plain": [
       "99.21"
      ]
     },
     "execution_count": 39,
     "metadata": {},
     "output_type": "execute_result"
    }
   ],
   "source": [
    "## all stops employment access, jobs\n",
    "calculate_access_proportion(all_employment_joined, tract_pop_employ_filtered, 'num_jobs')"
   ]
  },
  {
   "cell_type": "code",
   "execution_count": 40,
   "id": "b252d537-58ee-45b8-9881-74f40f44c16e",
   "metadata": {},
   "outputs": [
    {
     "data": {
      "text/plain": [
       "17.84"
      ]
     },
     "execution_count": 40,
     "metadata": {},
     "output_type": "execute_result"
    }
   ],
   "source": [
    "## accessible stops employment access, jobs\n",
    "calculate_access_proportion(accessible_employment_joined, tract_pop_employ_filtered, 'num_jobs')"
   ]
  },
  {
   "cell_type": "markdown",
   "id": "2926fb87-07da-45b4-ad8a-db18bb6a26d4",
   "metadata": {},
   "source": [
    "## Adding RT Availability"
   ]
  },
  {
   "cell_type": "code",
   "execution_count": 41,
   "id": "60867f18-19ef-4aa7-afd3-39b0f4c17826",
   "metadata": {},
   "outputs": [],
   "source": [
    "import calitp.magics"
   ]
  },
  {
   "cell_type": "code",
   "execution_count": 42,
   "id": "d73b9abc-d0cc-4d1a-9447-0b9e390ea970",
   "metadata": {
    "tags": []
   },
   "outputs": [],
   "source": [
    "%%capture\n",
    "%%sql -o feed_extract_date\n",
    "\n",
    "SELECT\n",
    "    *,\n",
    "    PARSE_DATE(\n",
    "      '%Y-%m-%d',\n",
    "      REGEXP_EXTRACT(_FILE_NAME, \".*/([0-9]+-[0-9]+-[0-9]+)\")\n",
    "    ) AS extract_date\n",
    "FROM gtfs_schedule_history.calitp_feeds_raw"
   ]
  },
  {
   "cell_type": "code",
   "execution_count": 43,
   "id": "bde24975-7a72-43f0-9c15-bf584a445299",
   "metadata": {},
   "outputs": [],
   "source": [
    "latest = feed_extract_date >> filter(_.extract_date == _.extract_date.max())"
   ]
  },
  {
   "cell_type": "code",
   "execution_count": 44,
   "id": "bd4fa852-a9f1-4cd6-8c21-62f0cca55d05",
   "metadata": {},
   "outputs": [],
   "source": [
    "rt_complete = latest >> filter(-_.gtfs_rt_vehicle_positions_url.isna(),\n",
    "                              -_.gtfs_rt_service_alerts_url.isna(),\n",
    "                              -_.gtfs_rt_trip_updates_url.isna())"
   ]
  },
  {
   "cell_type": "code",
   "execution_count": 45,
   "id": "14106a8c-c8d2-4a39-a372-111771905c64",
   "metadata": {},
   "outputs": [],
   "source": [
    "rt_complete = (rt_complete >> select(_.calitp_itp_id == _.itp_id, _.calitp_url_number == _.url_number))"
   ]
  },
  {
   "cell_type": "code",
   "execution_count": 46,
   "id": "ed859435-a664-4fa7-ba14-6ace42663dac",
   "metadata": {},
   "outputs": [
    {
     "data": {
      "text/html": [
       "<div>\n",
       "<style scoped>\n",
       "    .dataframe tbody tr th:only-of-type {\n",
       "        vertical-align: middle;\n",
       "    }\n",
       "\n",
       "    .dataframe tbody tr th {\n",
       "        vertical-align: top;\n",
       "    }\n",
       "\n",
       "    .dataframe thead th {\n",
       "        text-align: right;\n",
       "    }\n",
       "</style>\n",
       "<table border=\"1\" class=\"dataframe\">\n",
       "  <thead>\n",
       "    <tr style=\"text-align: right;\">\n",
       "      <th></th>\n",
       "      <th>calitp_itp_id</th>\n",
       "      <th>calitp_url_number</th>\n",
       "    </tr>\n",
       "  </thead>\n",
       "  <tbody>\n",
       "    <tr>\n",
       "      <th>9</th>\n",
       "      <td>200</td>\n",
       "      <td>0</td>\n",
       "    </tr>\n",
       "    <tr>\n",
       "      <th>1188</th>\n",
       "      <td>257</td>\n",
       "      <td>0</td>\n",
       "    </tr>\n",
       "    <tr>\n",
       "      <th>1386</th>\n",
       "      <td>259</td>\n",
       "      <td>0</td>\n",
       "    </tr>\n",
       "  </tbody>\n",
       "</table>\n",
       "</div>"
      ],
      "text/plain": [
       "      calitp_itp_id  calitp_url_number\n",
       "9               200                  0\n",
       "1188            257                  0\n",
       "1386            259                  0"
      ]
     },
     "execution_count": 46,
     "metadata": {},
     "output_type": "execute_result"
    }
   ],
   "source": [
    "rt_complete.head(3)"
   ]
  },
  {
   "cell_type": "code",
   "execution_count": 47,
   "id": "cacc6f08-0b6c-47bd-8c6b-9aacf838ea2b",
   "metadata": {},
   "outputs": [],
   "source": [
    "all_stops_rt = all_stops_joined >> inner_join(_, rt_complete, on =['calitp_itp_id', 'calitp_url_number'])"
   ]
  },
  {
   "cell_type": "code",
   "execution_count": 48,
   "id": "1a65710e-782c-464b-9055-c8d506aa1aa6",
   "metadata": {},
   "outputs": [],
   "source": [
    "accessible_geo_joined = accessible_geo_joined.drop(columns=['index_right'])"
   ]
  },
  {
   "cell_type": "code",
   "execution_count": 49,
   "id": "607ab041-2305-4511-a572-707f8c6537e2",
   "metadata": {},
   "outputs": [],
   "source": [
    "accessible_stops_trips_rt = accessible_geo_joined >> inner_join(_, rt_complete, on =['calitp_itp_id', 'calitp_url_number'])"
   ]
  },
  {
   "cell_type": "code",
   "execution_count": 50,
   "id": "eeead995-7e01-4e90-93a3-29bbd712d6b8",
   "metadata": {},
   "outputs": [],
   "source": [
    "all_stops_rt = all_stops_rt.drop(columns=['index_right'])"
   ]
  },
  {
   "cell_type": "code",
   "execution_count": 51,
   "id": "4293e2e6-08e3-460e-af87-ce437c3defd5",
   "metadata": {},
   "outputs": [],
   "source": [
    "acc_rt_employ = (tract_pop_employ\n",
    "                    .sjoin(accessible_stops_trips_rt, how='inner', predicate='intersects')\n",
    "                    .drop_duplicates(subset=['Tract'])\n",
    "                   )"
   ]
  },
  {
   "cell_type": "code",
   "execution_count": 52,
   "id": "8a826ed8-c4f6-4996-ac5c-dfe3cf413571",
   "metadata": {},
   "outputs": [
    {
     "data": {
      "text/plain": [
       "17.64"
      ]
     },
     "execution_count": 52,
     "metadata": {},
     "output_type": "execute_result"
    }
   ],
   "source": [
    "## accessible with RT stops employment access, population\n",
    "calculate_access_proportion(acc_rt_employ, tract_pop_employ_filtered, 'num_jobs')"
   ]
  },
  {
   "cell_type": "code",
   "execution_count": 53,
   "id": "46531eec-578e-4b0d-8b54-78510fa68276",
   "metadata": {},
   "outputs": [],
   "source": [
    "all_rt_employ = (tract_pop_employ\n",
    "                    .sjoin(all_stops_rt, how='inner', predicate='intersects')\n",
    "                    .drop_duplicates(subset=['Tract'])\n",
    "                   )"
   ]
  },
  {
   "cell_type": "code",
   "execution_count": 54,
   "id": "9e9ca43c-046f-4d78-be88-b57a1860d2c3",
   "metadata": {},
   "outputs": [
    {
     "data": {
      "text/plain": [
       "114.87"
      ]
     },
     "execution_count": 54,
     "metadata": {},
     "output_type": "execute_result"
    }
   ],
   "source": [
    "## all RT stops employment access, population\n",
    "calculate_access_proportion(all_rt_employ, tract_pop_employ_filtered, 'num_jobs')"
   ]
  },
  {
   "cell_type": "markdown",
   "id": "085365b3-a822-48e2-bc49-d7e8228d27ac",
   "metadata": {},
   "source": [
    "#### Very few agencies with both RT and accessibility info"
   ]
  },
  {
   "cell_type": "code",
   "execution_count": 55,
   "id": "ff21e9c2-120b-4108-8668-ae3357ae927f",
   "metadata": {},
   "outputs": [
    {
     "data": {
      "text/html": [
       "<div>\n",
       "<style scoped>\n",
       "    .dataframe tbody tr th:only-of-type {\n",
       "        vertical-align: middle;\n",
       "    }\n",
       "\n",
       "    .dataframe tbody tr th {\n",
       "        vertical-align: top;\n",
       "    }\n",
       "\n",
       "    .dataframe thead th {\n",
       "        text-align: right;\n",
       "    }\n",
       "</style>\n",
       "<table border=\"1\" class=\"dataframe\">\n",
       "  <thead>\n",
       "    <tr style=\"text-align: right;\">\n",
       "      <th></th>\n",
       "      <th>calitp_itp_id</th>\n",
       "      <th>calitp_url_number</th>\n",
       "      <th>agency_id</th>\n",
       "      <th>agency_name</th>\n",
       "      <th>agency_url</th>\n",
       "      <th>agency_timezone</th>\n",
       "      <th>agency_lang</th>\n",
       "      <th>agency_phone</th>\n",
       "      <th>agency_fare_url</th>\n",
       "      <th>agency_email</th>\n",
       "      <th>calitp_extracted_at</th>\n",
       "    </tr>\n",
       "  </thead>\n",
       "  <tbody>\n",
       "    <tr>\n",
       "      <th>0</th>\n",
       "      <td>226</td>\n",
       "      <td>0</td>\n",
       "      <td>NCTD</td>\n",
       "      <td>North County Transit District</td>\n",
       "      <td>http://www.gonctd.com</td>\n",
       "      <td>America/Los_Angeles</td>\n",
       "      <td>EN</td>\n",
       "      <td>760-966-6500</td>\n",
       "      <td>None</td>\n",
       "      <td>None</td>\n",
       "      <td>2021-12-16</td>\n",
       "    </tr>\n",
       "    <tr>\n",
       "      <th>1</th>\n",
       "      <td>208</td>\n",
       "      <td>0</td>\n",
       "      <td>Monterey-Salinas Transit</td>\n",
       "      <td>Monterey-Salinas Transit</td>\n",
       "      <td>http://www.mst.org</td>\n",
       "      <td>America/Los_Angeles</td>\n",
       "      <td>None</td>\n",
       "      <td>1-888-MST-BUS1</td>\n",
       "      <td>None</td>\n",
       "      <td>None</td>\n",
       "      <td>2022-01-14</td>\n",
       "    </tr>\n",
       "    <tr>\n",
       "      <th>2</th>\n",
       "      <td>293</td>\n",
       "      <td>0</td>\n",
       "      <td>1</td>\n",
       "      <td>SBMTD</td>\n",
       "      <td>https://sbmtd.gov</td>\n",
       "      <td>America/Los_Angeles</td>\n",
       "      <td>en</td>\n",
       "      <td>805-963-3364</td>\n",
       "      <td>https://sbmtd.gov/fares-passes/</td>\n",
       "      <td>info@sbmtd.gov</td>\n",
       "      <td>2021-12-18</td>\n",
       "    </tr>\n",
       "    <tr>\n",
       "      <th>3</th>\n",
       "      <td>200</td>\n",
       "      <td>0</td>\n",
       "      <td>SF</td>\n",
       "      <td>San Francisco Municipal Transportation Agency</td>\n",
       "      <td>https://SFMTA.com</td>\n",
       "      <td>America/Los_Angeles</td>\n",
       "      <td>en</td>\n",
       "      <td>None</td>\n",
       "      <td>None</td>\n",
       "      <td>None</td>\n",
       "      <td>2022-01-20</td>\n",
       "    </tr>\n",
       "    <tr>\n",
       "      <th>4</th>\n",
       "      <td>200</td>\n",
       "      <td>0</td>\n",
       "      <td>SI</td>\n",
       "      <td>San Francisco International Airport</td>\n",
       "      <td>https://www.flysfo.com</td>\n",
       "      <td>America/Los_Angeles</td>\n",
       "      <td>None</td>\n",
       "      <td>None</td>\n",
       "      <td>None</td>\n",
       "      <td>None</td>\n",
       "      <td>2022-01-20</td>\n",
       "    </tr>\n",
       "    <tr>\n",
       "      <th>5</th>\n",
       "      <td>200</td>\n",
       "      <td>0</td>\n",
       "      <td>SB</td>\n",
       "      <td>San Francisco Bay Ferry</td>\n",
       "      <td>https://sanfranciscobayferry.com/</td>\n",
       "      <td>America/Los_Angeles</td>\n",
       "      <td>en</td>\n",
       "      <td>4157058291</td>\n",
       "      <td>https://sanfranciscobayferry.com/fares-tickets</td>\n",
       "      <td>None</td>\n",
       "      <td>2022-01-20</td>\n",
       "    </tr>\n",
       "    <tr>\n",
       "      <th>6</th>\n",
       "      <td>200</td>\n",
       "      <td>0</td>\n",
       "      <td>AC</td>\n",
       "      <td>AC TRANSIT</td>\n",
       "      <td>http://www.actransit.org</td>\n",
       "      <td>America/Los_Angeles</td>\n",
       "      <td>en</td>\n",
       "      <td>5108914777</td>\n",
       "      <td>None</td>\n",
       "      <td>None</td>\n",
       "      <td>2022-01-20</td>\n",
       "    </tr>\n",
       "    <tr>\n",
       "      <th>7</th>\n",
       "      <td>200</td>\n",
       "      <td>0</td>\n",
       "      <td>CE</td>\n",
       "      <td>Altamont Corridor Express</td>\n",
       "      <td>http://www.acerail.com/</td>\n",
       "      <td>America/Los_Angeles</td>\n",
       "      <td>en</td>\n",
       "      <td>8004117245</td>\n",
       "      <td>https://acerail.com/schedules/</td>\n",
       "      <td>customerservice@acerail.com</td>\n",
       "      <td>2022-01-20</td>\n",
       "    </tr>\n",
       "    <tr>\n",
       "      <th>8</th>\n",
       "      <td>200</td>\n",
       "      <td>0</td>\n",
       "      <td>SC</td>\n",
       "      <td>VTA</td>\n",
       "      <td>https://www.vta.org</td>\n",
       "      <td>America/Los_Angeles</td>\n",
       "      <td>en</td>\n",
       "      <td>408-321-2300</td>\n",
       "      <td>https://www.vta.org/go/fares</td>\n",
       "      <td>customer.service@vta.org</td>\n",
       "      <td>2022-01-20</td>\n",
       "    </tr>\n",
       "    <tr>\n",
       "      <th>9</th>\n",
       "      <td>200</td>\n",
       "      <td>0</td>\n",
       "      <td>TD</td>\n",
       "      <td>Tideline Water Taxi</td>\n",
       "      <td>http://bit.ly/tideline</td>\n",
       "      <td>America/Los_Angeles</td>\n",
       "      <td>en</td>\n",
       "      <td>415-339-0196</td>\n",
       "      <td>http://bit.ly/tideline</td>\n",
       "      <td>None</td>\n",
       "      <td>2022-01-20</td>\n",
       "    </tr>\n",
       "    <tr>\n",
       "      <th>10</th>\n",
       "      <td>200</td>\n",
       "      <td>0</td>\n",
       "      <td>MA</td>\n",
       "      <td>Marin Transit</td>\n",
       "      <td>https://marintransit.org</td>\n",
       "      <td>America/Los_Angeles</td>\n",
       "      <td>en</td>\n",
       "      <td>415-455-2000</td>\n",
       "      <td>https://marintransit.org/fares</td>\n",
       "      <td>info@marintransit.org</td>\n",
       "      <td>2022-01-20</td>\n",
       "    </tr>\n",
       "    <tr>\n",
       "      <th>11</th>\n",
       "      <td>200</td>\n",
       "      <td>0</td>\n",
       "      <td>BA</td>\n",
       "      <td>Bay Area Rapid Transit</td>\n",
       "      <td>https://www.bart.gov/</td>\n",
       "      <td>America/Los_Angeles</td>\n",
       "      <td>None</td>\n",
       "      <td>510-464-6000</td>\n",
       "      <td>None</td>\n",
       "      <td>None</td>\n",
       "      <td>2022-01-20</td>\n",
       "    </tr>\n",
       "    <tr>\n",
       "      <th>12</th>\n",
       "      <td>200</td>\n",
       "      <td>0</td>\n",
       "      <td>UC</td>\n",
       "      <td>Union City Transit</td>\n",
       "      <td>http://www.uctransit.org</td>\n",
       "      <td>America/Los_Angeles</td>\n",
       "      <td>en</td>\n",
       "      <td>510-471-1411</td>\n",
       "      <td>None</td>\n",
       "      <td>None</td>\n",
       "      <td>2022-01-20</td>\n",
       "    </tr>\n",
       "    <tr>\n",
       "      <th>13</th>\n",
       "      <td>200</td>\n",
       "      <td>0</td>\n",
       "      <td>WC</td>\n",
       "      <td>WestCat (Western Contra Costa)</td>\n",
       "      <td>http://www.westcat.org/</td>\n",
       "      <td>America/Los_Angeles</td>\n",
       "      <td>en</td>\n",
       "      <td>510-724-7993</td>\n",
       "      <td>https://www.westcat.org/home/FaresAll</td>\n",
       "      <td>None</td>\n",
       "      <td>2022-01-20</td>\n",
       "    </tr>\n",
       "    <tr>\n",
       "      <th>14</th>\n",
       "      <td>200</td>\n",
       "      <td>0</td>\n",
       "      <td>SS</td>\n",
       "      <td>City of South San Francisco</td>\n",
       "      <td>http://www.ssf.net/SCS</td>\n",
       "      <td>America/Los_Angeles</td>\n",
       "      <td>en</td>\n",
       "      <td>650-877-8550</td>\n",
       "      <td>None</td>\n",
       "      <td>shuttle@ssf.net</td>\n",
       "      <td>2022-01-20</td>\n",
       "    </tr>\n",
       "    <tr>\n",
       "      <th>15</th>\n",
       "      <td>200</td>\n",
       "      <td>0</td>\n",
       "      <td>VN</td>\n",
       "      <td>VINE Transit</td>\n",
       "      <td>https://vinetransit.com/</td>\n",
       "      <td>America/Los_Angeles</td>\n",
       "      <td>en</td>\n",
       "      <td>707-251-2800</td>\n",
       "      <td>https://vinetransit.com/fares/</td>\n",
       "      <td>None</td>\n",
       "      <td>2022-01-20</td>\n",
       "    </tr>\n",
       "    <tr>\n",
       "      <th>16</th>\n",
       "      <td>200</td>\n",
       "      <td>0</td>\n",
       "      <td>FS</td>\n",
       "      <td>Fairfield and Suisun Transit</td>\n",
       "      <td>http://www.fasttransit.org/</td>\n",
       "      <td>America/Los_Angeles</td>\n",
       "      <td>en</td>\n",
       "      <td>707-422-2877</td>\n",
       "      <td>http://www.fasttransit.org/fares-passes/</td>\n",
       "      <td>None</td>\n",
       "      <td>2022-01-20</td>\n",
       "    </tr>\n",
       "    <tr>\n",
       "      <th>17</th>\n",
       "      <td>200</td>\n",
       "      <td>0</td>\n",
       "      <td>VC</td>\n",
       "      <td>Vacaville City Coach</td>\n",
       "      <td>http://www.citycoach.com/</td>\n",
       "      <td>America/Los_Angeles</td>\n",
       "      <td>en</td>\n",
       "      <td>707-449-6000</td>\n",
       "      <td>http://www.citycoach.com/fares/</td>\n",
       "      <td>None</td>\n",
       "      <td>2022-01-20</td>\n",
       "    </tr>\n",
       "    <tr>\n",
       "      <th>18</th>\n",
       "      <td>200</td>\n",
       "      <td>0</td>\n",
       "      <td>SR</td>\n",
       "      <td>Santa Rosa CityBus</td>\n",
       "      <td>https://srcity.org/1036/Transit-and-CityBus</td>\n",
       "      <td>America/Los_Angeles</td>\n",
       "      <td>en</td>\n",
       "      <td>707-543-3333</td>\n",
       "      <td>https://srcity.org/1658/Fares</td>\n",
       "      <td>support@availtec.com</td>\n",
       "      <td>2022-01-20</td>\n",
       "    </tr>\n",
       "    <tr>\n",
       "      <th>19</th>\n",
       "      <td>200</td>\n",
       "      <td>0</td>\n",
       "      <td>PE</td>\n",
       "      <td>Petaluma</td>\n",
       "      <td>https://transit.cityofpetaluma.net</td>\n",
       "      <td>America/Los_Angeles</td>\n",
       "      <td>en</td>\n",
       "      <td>707-778-4460</td>\n",
       "      <td>https://transit.cityofpetaluma.net/fares/</td>\n",
       "      <td>transit@cityofpetaluma.org</td>\n",
       "      <td>2022-01-20</td>\n",
       "    </tr>\n",
       "    <tr>\n",
       "      <th>20</th>\n",
       "      <td>200</td>\n",
       "      <td>0</td>\n",
       "      <td>CT</td>\n",
       "      <td>Caltrain</td>\n",
       "      <td>http://www.caltrain.com</td>\n",
       "      <td>America/Los_Angeles</td>\n",
       "      <td>en</td>\n",
       "      <td>800-660-4287</td>\n",
       "      <td>None</td>\n",
       "      <td>None</td>\n",
       "      <td>2022-01-20</td>\n",
       "    </tr>\n",
       "    <tr>\n",
       "      <th>21</th>\n",
       "      <td>200</td>\n",
       "      <td>0</td>\n",
       "      <td>SM</td>\n",
       "      <td>SamTrans</td>\n",
       "      <td>http://www.samtrans.com</td>\n",
       "      <td>America/Los_Angeles</td>\n",
       "      <td>en</td>\n",
       "      <td>800-660-4287</td>\n",
       "      <td>None</td>\n",
       "      <td>None</td>\n",
       "      <td>2022-01-20</td>\n",
       "    </tr>\n",
       "    <tr>\n",
       "      <th>22</th>\n",
       "      <td>200</td>\n",
       "      <td>0</td>\n",
       "      <td>AM</td>\n",
       "      <td>Capitol Corridor Joint Powers Authority</td>\n",
       "      <td>http://www.capitolcorridor.org</td>\n",
       "      <td>America/Los_Angeles</td>\n",
       "      <td>en</td>\n",
       "      <td>877-974-3322</td>\n",
       "      <td>None</td>\n",
       "      <td>None</td>\n",
       "      <td>2022-01-20</td>\n",
       "    </tr>\n",
       "    <tr>\n",
       "      <th>23</th>\n",
       "      <td>200</td>\n",
       "      <td>0</td>\n",
       "      <td>WH</td>\n",
       "      <td>Livermore Amador Valley Transit Authority</td>\n",
       "      <td>http://wheelsbus.com/</td>\n",
       "      <td>America/Los_Angeles</td>\n",
       "      <td>en</td>\n",
       "      <td>925-455-7500</td>\n",
       "      <td>http://www.wheelsbus.com/fares/</td>\n",
       "      <td>None</td>\n",
       "      <td>2022-01-20</td>\n",
       "    </tr>\n",
       "    <tr>\n",
       "      <th>24</th>\n",
       "      <td>200</td>\n",
       "      <td>0</td>\n",
       "      <td>CC</td>\n",
       "      <td>County Connection</td>\n",
       "      <td>http://www.countyconnection.com/</td>\n",
       "      <td>America/Los_Angeles</td>\n",
       "      <td>en</td>\n",
       "      <td>925-676-7500</td>\n",
       "      <td>None</td>\n",
       "      <td>None</td>\n",
       "      <td>2022-01-20</td>\n",
       "    </tr>\n",
       "    <tr>\n",
       "      <th>25</th>\n",
       "      <td>200</td>\n",
       "      <td>0</td>\n",
       "      <td>DE</td>\n",
       "      <td>Dumbarton Express Consortium</td>\n",
       "      <td>https://dumbartonexpress.com</td>\n",
       "      <td>America/Los_Angeles</td>\n",
       "      <td>en</td>\n",
       "      <td>(510)891-4777</td>\n",
       "      <td>None</td>\n",
       "      <td>None</td>\n",
       "      <td>2022-01-20</td>\n",
       "    </tr>\n",
       "    <tr>\n",
       "      <th>26</th>\n",
       "      <td>200</td>\n",
       "      <td>0</td>\n",
       "      <td>SA</td>\n",
       "      <td>Sonoma Marin Area Rail Transit</td>\n",
       "      <td>http://www.SonomaMarinTrain.org</td>\n",
       "      <td>America/Los_Angeles</td>\n",
       "      <td>en</td>\n",
       "      <td>(707)794-3330</td>\n",
       "      <td>None</td>\n",
       "      <td>None</td>\n",
       "      <td>2022-01-20</td>\n",
       "    </tr>\n",
       "    <tr>\n",
       "      <th>27</th>\n",
       "      <td>200</td>\n",
       "      <td>0</td>\n",
       "      <td>EM</td>\n",
       "      <td>Emery Go-Round</td>\n",
       "      <td>http://www.emerygoround.com/</td>\n",
       "      <td>America/Los_Angeles</td>\n",
       "      <td>en</td>\n",
       "      <td>(510) 451-3862</td>\n",
       "      <td>None</td>\n",
       "      <td>None</td>\n",
       "      <td>2022-01-20</td>\n",
       "    </tr>\n",
       "    <tr>\n",
       "      <th>28</th>\n",
       "      <td>200</td>\n",
       "      <td>0</td>\n",
       "      <td>CM</td>\n",
       "      <td>Commute.org Shuttles</td>\n",
       "      <td>http://www.commute.org</td>\n",
       "      <td>America/Los_Angeles</td>\n",
       "      <td>en</td>\n",
       "      <td>(650) 588-1600</td>\n",
       "      <td>None</td>\n",
       "      <td>None</td>\n",
       "      <td>2022-01-20</td>\n",
       "    </tr>\n",
       "    <tr>\n",
       "      <th>29</th>\n",
       "      <td>200</td>\n",
       "      <td>0</td>\n",
       "      <td>RV</td>\n",
       "      <td>Rio Vista Delta Breeze</td>\n",
       "      <td>http://riovistacity.com/delta-breeze-transit-s...</td>\n",
       "      <td>America/Los_Angeles</td>\n",
       "      <td>en</td>\n",
       "      <td>(707) 374-2878</td>\n",
       "      <td>http://riovistacity.com/fares/</td>\n",
       "      <td>None</td>\n",
       "      <td>2022-01-20</td>\n",
       "    </tr>\n",
       "    <tr>\n",
       "      <th>30</th>\n",
       "      <td>200</td>\n",
       "      <td>0</td>\n",
       "      <td>SO</td>\n",
       "      <td>Sonoma County Transit</td>\n",
       "      <td>http://www.sctransit.com/?referrer=gtfs</td>\n",
       "      <td>America/Los_Angeles</td>\n",
       "      <td>en</td>\n",
       "      <td>(707) 576-7433</td>\n",
       "      <td>http://sctransit.com/fares/?referrer=gtfs</td>\n",
       "      <td>None</td>\n",
       "      <td>2022-01-20</td>\n",
       "    </tr>\n",
       "    <tr>\n",
       "      <th>31</th>\n",
       "      <td>200</td>\n",
       "      <td>0</td>\n",
       "      <td>ST</td>\n",
       "      <td>SolTrans</td>\n",
       "      <td>https://soltrans.org/</td>\n",
       "      <td>America/Los_Angeles</td>\n",
       "      <td>en</td>\n",
       "      <td>(707) 648-4666</td>\n",
       "      <td>None</td>\n",
       "      <td>None</td>\n",
       "      <td>2022-01-20</td>\n",
       "    </tr>\n",
       "    <tr>\n",
       "      <th>32</th>\n",
       "      <td>200</td>\n",
       "      <td>0</td>\n",
       "      <td>3D</td>\n",
       "      <td>Tri Delta Transit</td>\n",
       "      <td>http://trideltatransit.com</td>\n",
       "      <td>America/Los_Angeles</td>\n",
       "      <td>en</td>\n",
       "      <td>(925) 754-4040</td>\n",
       "      <td>None</td>\n",
       "      <td>None</td>\n",
       "      <td>2022-01-20</td>\n",
       "    </tr>\n",
       "    <tr>\n",
       "      <th>33</th>\n",
       "      <td>200</td>\n",
       "      <td>0</td>\n",
       "      <td>GG</td>\n",
       "      <td>Golden Gate Transit</td>\n",
       "      <td>http://www.goldengate.org</td>\n",
       "      <td>America/Los_Angeles</td>\n",
       "      <td>en</td>\n",
       "      <td>(415) 455-2000)</td>\n",
       "      <td>https://www.goldengate.org/bus/bus-fares-payment/</td>\n",
       "      <td>None</td>\n",
       "      <td>2022-01-20</td>\n",
       "    </tr>\n",
       "    <tr>\n",
       "      <th>34</th>\n",
       "      <td>200</td>\n",
       "      <td>0</td>\n",
       "      <td>GF</td>\n",
       "      <td>Golden Gate Ferry</td>\n",
       "      <td>http://www.goldengate.org</td>\n",
       "      <td>America/Los_Angeles</td>\n",
       "      <td>en</td>\n",
       "      <td>(415) 455-2000)</td>\n",
       "      <td>https://www.goldengate.org/bus/bus-fares-payment/</td>\n",
       "      <td>None</td>\n",
       "      <td>2022-01-20</td>\n",
       "    </tr>\n",
       "    <tr>\n",
       "      <th>35</th>\n",
       "      <td>4</td>\n",
       "      <td>0</td>\n",
       "      <td>1</td>\n",
       "      <td>AC TRANSIT</td>\n",
       "      <td>http://www.actransit.org</td>\n",
       "      <td>US/Pacific</td>\n",
       "      <td>en</td>\n",
       "      <td>5108914777</td>\n",
       "      <td>None</td>\n",
       "      <td>None</td>\n",
       "      <td>2021-12-04</td>\n",
       "    </tr>\n",
       "    <tr>\n",
       "      <th>36</th>\n",
       "      <td>4</td>\n",
       "      <td>1</td>\n",
       "      <td>AM</td>\n",
       "      <td>Capitol Corridor Joint Powers Authority</td>\n",
       "      <td>http://www.capitolcorridor.org</td>\n",
       "      <td>America/Los_Angeles</td>\n",
       "      <td>en</td>\n",
       "      <td>877-974-3322</td>\n",
       "      <td>None</td>\n",
       "      <td>None</td>\n",
       "      <td>2021-12-29</td>\n",
       "    </tr>\n",
       "    <tr>\n",
       "      <th>37</th>\n",
       "      <td>217</td>\n",
       "      <td>0</td>\n",
       "      <td>533</td>\n",
       "      <td>MVgo Mountain View</td>\n",
       "      <td>https://mvgo.org/</td>\n",
       "      <td>America/Los_Angeles</td>\n",
       "      <td>en</td>\n",
       "      <td>(650) 933-2518</td>\n",
       "      <td>https://mvgo.org/shuttles/</td>\n",
       "      <td>None</td>\n",
       "      <td>2022-01-14</td>\n",
       "    </tr>\n",
       "    <tr>\n",
       "      <th>38</th>\n",
       "      <td>56</td>\n",
       "      <td>1</td>\n",
       "      <td>AM</td>\n",
       "      <td>Capitol Corridor Joint Powers Authority</td>\n",
       "      <td>http://www.capitolcorridor.org</td>\n",
       "      <td>America/Los_Angeles</td>\n",
       "      <td>en</td>\n",
       "      <td>877-974-3322</td>\n",
       "      <td>None</td>\n",
       "      <td>None</td>\n",
       "      <td>2021-12-29</td>\n",
       "    </tr>\n",
       "    <tr>\n",
       "      <th>39</th>\n",
       "      <td>56</td>\n",
       "      <td>0</td>\n",
       "      <td>Capitol Corridor</td>\n",
       "      <td>Capitol Corridor Joint Powers Authority</td>\n",
       "      <td>http://www.capitolcorridor.org</td>\n",
       "      <td>America/Los_Angeles</td>\n",
       "      <td>en</td>\n",
       "      <td>877-974-3322</td>\n",
       "      <td>None</td>\n",
       "      <td>None</td>\n",
       "      <td>2021-11-29</td>\n",
       "    </tr>\n",
       "    <tr>\n",
       "      <th>40</th>\n",
       "      <td>280</td>\n",
       "      <td>1</td>\n",
       "      <td>SB</td>\n",
       "      <td>San Francisco Bay Ferry</td>\n",
       "      <td>https://sanfranciscobayferry.com/</td>\n",
       "      <td>America/Los_Angeles</td>\n",
       "      <td>en</td>\n",
       "      <td>4157058291</td>\n",
       "      <td>https://sanfranciscobayferry.com/fares-tickets</td>\n",
       "      <td>None</td>\n",
       "      <td>2022-01-13</td>\n",
       "    </tr>\n",
       "    <tr>\n",
       "      <th>41</th>\n",
       "      <td>280</td>\n",
       "      <td>0</td>\n",
       "      <td>873</td>\n",
       "      <td>San Francisco Bay Ferry</td>\n",
       "      <td>https://sanfranciscobayferry.com/</td>\n",
       "      <td>America/Los_Angeles</td>\n",
       "      <td>en</td>\n",
       "      <td>4157058291</td>\n",
       "      <td>https://sanfranciscobayferry.com/fares-tickets</td>\n",
       "      <td>None</td>\n",
       "      <td>2022-01-13</td>\n",
       "    </tr>\n",
       "  </tbody>\n",
       "</table>\n",
       "</div>"
      ],
      "text/plain": [
       "    calitp_itp_id  calitp_url_number                 agency_id  \\\n",
       "0             226                  0                      NCTD   \n",
       "1             208                  0  Monterey-Salinas Transit   \n",
       "2             293                  0                         1   \n",
       "3             200                  0                        SF   \n",
       "4             200                  0                        SI   \n",
       "5             200                  0                        SB   \n",
       "6             200                  0                        AC   \n",
       "7             200                  0                        CE   \n",
       "8             200                  0                        SC   \n",
       "9             200                  0                        TD   \n",
       "10            200                  0                        MA   \n",
       "11            200                  0                        BA   \n",
       "12            200                  0                        UC   \n",
       "13            200                  0                        WC   \n",
       "14            200                  0                        SS   \n",
       "15            200                  0                        VN   \n",
       "16            200                  0                        FS   \n",
       "17            200                  0                        VC   \n",
       "18            200                  0                        SR   \n",
       "19            200                  0                        PE   \n",
       "20            200                  0                        CT   \n",
       "21            200                  0                        SM   \n",
       "22            200                  0                        AM   \n",
       "23            200                  0                        WH   \n",
       "24            200                  0                        CC   \n",
       "25            200                  0                        DE   \n",
       "26            200                  0                        SA   \n",
       "27            200                  0                        EM   \n",
       "28            200                  0                        CM   \n",
       "29            200                  0                        RV   \n",
       "30            200                  0                        SO   \n",
       "31            200                  0                        ST   \n",
       "32            200                  0                        3D   \n",
       "33            200                  0                        GG   \n",
       "34            200                  0                        GF   \n",
       "35              4                  0                         1   \n",
       "36              4                  1                        AM   \n",
       "37            217                  0                       533   \n",
       "38             56                  1                        AM   \n",
       "39             56                  0          Capitol Corridor   \n",
       "40            280                  1                        SB   \n",
       "41            280                  0                       873   \n",
       "\n",
       "                                      agency_name  \\\n",
       "0                   North County Transit District   \n",
       "1                        Monterey-Salinas Transit   \n",
       "2                                           SBMTD   \n",
       "3   San Francisco Municipal Transportation Agency   \n",
       "4             San Francisco International Airport   \n",
       "5                         San Francisco Bay Ferry   \n",
       "6                                      AC TRANSIT   \n",
       "7                       Altamont Corridor Express   \n",
       "8                                             VTA   \n",
       "9                             Tideline Water Taxi   \n",
       "10                                  Marin Transit   \n",
       "11                         Bay Area Rapid Transit   \n",
       "12                             Union City Transit   \n",
       "13                 WestCat (Western Contra Costa)   \n",
       "14                    City of South San Francisco   \n",
       "15                                   VINE Transit   \n",
       "16                   Fairfield and Suisun Transit   \n",
       "17                           Vacaville City Coach   \n",
       "18                             Santa Rosa CityBus   \n",
       "19                                       Petaluma   \n",
       "20                                       Caltrain   \n",
       "21                                       SamTrans   \n",
       "22        Capitol Corridor Joint Powers Authority   \n",
       "23      Livermore Amador Valley Transit Authority   \n",
       "24                              County Connection   \n",
       "25                   Dumbarton Express Consortium   \n",
       "26                 Sonoma Marin Area Rail Transit   \n",
       "27                                 Emery Go-Round   \n",
       "28                           Commute.org Shuttles   \n",
       "29                         Rio Vista Delta Breeze   \n",
       "30                          Sonoma County Transit   \n",
       "31                                       SolTrans   \n",
       "32                              Tri Delta Transit   \n",
       "33                            Golden Gate Transit   \n",
       "34                              Golden Gate Ferry   \n",
       "35                                     AC TRANSIT   \n",
       "36        Capitol Corridor Joint Powers Authority   \n",
       "37                             MVgo Mountain View   \n",
       "38        Capitol Corridor Joint Powers Authority   \n",
       "39        Capitol Corridor Joint Powers Authority   \n",
       "40                        San Francisco Bay Ferry   \n",
       "41                        San Francisco Bay Ferry   \n",
       "\n",
       "                                           agency_url      agency_timezone  \\\n",
       "0                               http://www.gonctd.com  America/Los_Angeles   \n",
       "1                                  http://www.mst.org  America/Los_Angeles   \n",
       "2                                   https://sbmtd.gov  America/Los_Angeles   \n",
       "3                                   https://SFMTA.com  America/Los_Angeles   \n",
       "4                              https://www.flysfo.com  America/Los_Angeles   \n",
       "5                   https://sanfranciscobayferry.com/  America/Los_Angeles   \n",
       "6                            http://www.actransit.org  America/Los_Angeles   \n",
       "7                             http://www.acerail.com/  America/Los_Angeles   \n",
       "8                                 https://www.vta.org  America/Los_Angeles   \n",
       "9                              http://bit.ly/tideline  America/Los_Angeles   \n",
       "10                           https://marintransit.org  America/Los_Angeles   \n",
       "11                              https://www.bart.gov/  America/Los_Angeles   \n",
       "12                           http://www.uctransit.org  America/Los_Angeles   \n",
       "13                            http://www.westcat.org/  America/Los_Angeles   \n",
       "14                             http://www.ssf.net/SCS  America/Los_Angeles   \n",
       "15                           https://vinetransit.com/  America/Los_Angeles   \n",
       "16                        http://www.fasttransit.org/  America/Los_Angeles   \n",
       "17                          http://www.citycoach.com/  America/Los_Angeles   \n",
       "18        https://srcity.org/1036/Transit-and-CityBus  America/Los_Angeles   \n",
       "19                 https://transit.cityofpetaluma.net  America/Los_Angeles   \n",
       "20                            http://www.caltrain.com  America/Los_Angeles   \n",
       "21                            http://www.samtrans.com  America/Los_Angeles   \n",
       "22                     http://www.capitolcorridor.org  America/Los_Angeles   \n",
       "23                              http://wheelsbus.com/  America/Los_Angeles   \n",
       "24                   http://www.countyconnection.com/  America/Los_Angeles   \n",
       "25                       https://dumbartonexpress.com  America/Los_Angeles   \n",
       "26                    http://www.SonomaMarinTrain.org  America/Los_Angeles   \n",
       "27                       http://www.emerygoround.com/  America/Los_Angeles   \n",
       "28                             http://www.commute.org  America/Los_Angeles   \n",
       "29  http://riovistacity.com/delta-breeze-transit-s...  America/Los_Angeles   \n",
       "30            http://www.sctransit.com/?referrer=gtfs  America/Los_Angeles   \n",
       "31                              https://soltrans.org/  America/Los_Angeles   \n",
       "32                         http://trideltatransit.com  America/Los_Angeles   \n",
       "33                          http://www.goldengate.org  America/Los_Angeles   \n",
       "34                          http://www.goldengate.org  America/Los_Angeles   \n",
       "35                           http://www.actransit.org           US/Pacific   \n",
       "36                     http://www.capitolcorridor.org  America/Los_Angeles   \n",
       "37                                  https://mvgo.org/  America/Los_Angeles   \n",
       "38                     http://www.capitolcorridor.org  America/Los_Angeles   \n",
       "39                     http://www.capitolcorridor.org  America/Los_Angeles   \n",
       "40                  https://sanfranciscobayferry.com/  America/Los_Angeles   \n",
       "41                  https://sanfranciscobayferry.com/  America/Los_Angeles   \n",
       "\n",
       "   agency_lang     agency_phone  \\\n",
       "0           EN     760-966-6500   \n",
       "1         None   1-888-MST-BUS1   \n",
       "2           en     805-963-3364   \n",
       "3           en             None   \n",
       "4         None             None   \n",
       "5           en       4157058291   \n",
       "6           en       5108914777   \n",
       "7           en       8004117245   \n",
       "8           en     408-321-2300   \n",
       "9           en     415-339-0196   \n",
       "10          en     415-455-2000   \n",
       "11        None     510-464-6000   \n",
       "12          en     510-471-1411   \n",
       "13          en     510-724-7993   \n",
       "14          en     650-877-8550   \n",
       "15          en     707-251-2800   \n",
       "16          en     707-422-2877   \n",
       "17          en     707-449-6000   \n",
       "18          en     707-543-3333   \n",
       "19          en     707-778-4460   \n",
       "20          en     800-660-4287   \n",
       "21          en     800-660-4287   \n",
       "22          en     877-974-3322   \n",
       "23          en     925-455-7500   \n",
       "24          en     925-676-7500   \n",
       "25          en    (510)891-4777   \n",
       "26          en    (707)794-3330   \n",
       "27          en   (510) 451-3862   \n",
       "28          en   (650) 588-1600   \n",
       "29          en   (707) 374-2878   \n",
       "30          en   (707) 576-7433   \n",
       "31          en   (707) 648-4666   \n",
       "32          en   (925) 754-4040   \n",
       "33          en  (415) 455-2000)   \n",
       "34          en  (415) 455-2000)   \n",
       "35          en       5108914777   \n",
       "36          en     877-974-3322   \n",
       "37          en   (650) 933-2518   \n",
       "38          en     877-974-3322   \n",
       "39          en     877-974-3322   \n",
       "40          en       4157058291   \n",
       "41          en       4157058291   \n",
       "\n",
       "                                      agency_fare_url  \\\n",
       "0                                                None   \n",
       "1                                                None   \n",
       "2                    https://sbmtd.gov/fares-passes/    \n",
       "3                                                None   \n",
       "4                                                None   \n",
       "5      https://sanfranciscobayferry.com/fares-tickets   \n",
       "6                                                None   \n",
       "7                      https://acerail.com/schedules/   \n",
       "8                        https://www.vta.org/go/fares   \n",
       "9                              http://bit.ly/tideline   \n",
       "10                     https://marintransit.org/fares   \n",
       "11                                               None   \n",
       "12                                               None   \n",
       "13              https://www.westcat.org/home/FaresAll   \n",
       "14                                               None   \n",
       "15                     https://vinetransit.com/fares/   \n",
       "16           http://www.fasttransit.org/fares-passes/   \n",
       "17                    http://www.citycoach.com/fares/   \n",
       "18                      https://srcity.org/1658/Fares   \n",
       "19          https://transit.cityofpetaluma.net/fares/   \n",
       "20                                               None   \n",
       "21                                               None   \n",
       "22                                               None   \n",
       "23                    http://www.wheelsbus.com/fares/   \n",
       "24                                               None   \n",
       "25                                               None   \n",
       "26                                               None   \n",
       "27                                               None   \n",
       "28                                               None   \n",
       "29                     http://riovistacity.com/fares/   \n",
       "30          http://sctransit.com/fares/?referrer=gtfs   \n",
       "31                                               None   \n",
       "32                                               None   \n",
       "33  https://www.goldengate.org/bus/bus-fares-payment/   \n",
       "34  https://www.goldengate.org/bus/bus-fares-payment/   \n",
       "35                                               None   \n",
       "36                                               None   \n",
       "37                         https://mvgo.org/shuttles/   \n",
       "38                                               None   \n",
       "39                                               None   \n",
       "40     https://sanfranciscobayferry.com/fares-tickets   \n",
       "41     https://sanfranciscobayferry.com/fares-tickets   \n",
       "\n",
       "                   agency_email calitp_extracted_at  \n",
       "0                          None          2021-12-16  \n",
       "1                          None          2022-01-14  \n",
       "2                info@sbmtd.gov          2021-12-18  \n",
       "3                          None          2022-01-20  \n",
       "4                          None          2022-01-20  \n",
       "5                          None          2022-01-20  \n",
       "6                          None          2022-01-20  \n",
       "7   customerservice@acerail.com          2022-01-20  \n",
       "8      customer.service@vta.org          2022-01-20  \n",
       "9                          None          2022-01-20  \n",
       "10        info@marintransit.org          2022-01-20  \n",
       "11                         None          2022-01-20  \n",
       "12                         None          2022-01-20  \n",
       "13                         None          2022-01-20  \n",
       "14              shuttle@ssf.net          2022-01-20  \n",
       "15                         None          2022-01-20  \n",
       "16                         None          2022-01-20  \n",
       "17                         None          2022-01-20  \n",
       "18         support@availtec.com          2022-01-20  \n",
       "19   transit@cityofpetaluma.org          2022-01-20  \n",
       "20                         None          2022-01-20  \n",
       "21                         None          2022-01-20  \n",
       "22                         None          2022-01-20  \n",
       "23                         None          2022-01-20  \n",
       "24                         None          2022-01-20  \n",
       "25                         None          2022-01-20  \n",
       "26                         None          2022-01-20  \n",
       "27                         None          2022-01-20  \n",
       "28                         None          2022-01-20  \n",
       "29                         None          2022-01-20  \n",
       "30                         None          2022-01-20  \n",
       "31                         None          2022-01-20  \n",
       "32                         None          2022-01-20  \n",
       "33                         None          2022-01-20  \n",
       "34                         None          2022-01-20  \n",
       "35                         None          2021-12-04  \n",
       "36                         None          2021-12-29  \n",
       "37                         None          2022-01-14  \n",
       "38                         None          2021-12-29  \n",
       "39                         None          2021-11-29  \n",
       "40                         None          2022-01-13  \n",
       "41                         None          2022-01-13  "
      ]
     },
     "execution_count": 55,
     "metadata": {},
     "output_type": "execute_result"
    }
   ],
   "source": [
    "accessible_stops_trips_rt >> distinct(_.calitp_itp_id) >> inner_join(_, tbl.gtfs_schedule.agency() >> collect(), on = 'calitp_itp_id')"
   ]
  },
  {
   "cell_type": "code",
   "execution_count": 56,
   "id": "7ea9efb3-61a4-410b-ac74-56c7dc98b15a",
   "metadata": {},
   "outputs": [],
   "source": [
    "row_metrics = {'Population': 'block_grp_pop', 'Land Area': 'area', 'Jobs': 'num_jobs'}\n",
    "col_geographies = {'GTFS Static': [all_stops_joined, all_employment_joined],\n",
    "                   'Accessible Static': [accessible_geo_joined, accessible_employment_joined],\n",
    "                   'GTFS RT': [all_stops_rt, all_rt_employ],\n",
    "                   'Accessible RT': [accessible_stops_trips_rt, acc_rt_employ]}"
   ]
  },
  {
   "cell_type": "code",
   "execution_count": 57,
   "id": "0f545b0c-4be7-4639-8aa8-2d7e73ef8491",
   "metadata": {},
   "outputs": [],
   "source": [
    "summary_df = pd.DataFrame()\n",
    "\n",
    "for row in row_metrics.keys():\n",
    "    to_append = {}\n",
    "    if row == 'Jobs':\n",
    "        for col in col_geographies.keys():\n",
    "            metric = calculate_access_proportion(col_geographies[col][1], tract_pop_employ_filtered, row_metrics[row])\n",
    "            to_append[col] = metric\n",
    "    else:\n",
    "        for col in col_geographies.keys():\n",
    "            metric = calculate_access_proportion(col_geographies[col][0], ca_block_geo_filtered, row_metrics[row])\n",
    "            to_append[col] = metric\n",
    "    to_append = pd.DataFrame(to_append, index = [row])\n",
    "    summary_df = summary_df.append(to_append)    "
   ]
  },
  {
   "cell_type": "markdown",
   "id": "5c0a8b76-420c-4d16-b5d4-4ccedba1eefc",
   "metadata": {},
   "source": [
    "## Summary of all Metrics\n",
    "\n",
    "* Population metrics: percent of CA population within a block group near a qualifying transit stop, excluding block groups > 4 sq km\n",
    "* Land Area metrics: percent of CA land area made up of block groups near a qualifying transit stop, excluding block groups > 4 sq km\n",
    "* Employment metrics: percent of CA jobs in a census tract near a qualifying transit stop, excluding tracts > 4 sq km\n",
    "    * this currently means the analysis only looks at about 60% of CA jobs, it could be made more precise by pulling finer-grained employment data if desired\n",
    "    * likely makes transit look \"better\" than a job analysis of all jobs, since these urban/suburban tracts are probably more likely to have at least some transit service"
   ]
  },
  {
   "cell_type": "code",
   "execution_count": 58,
   "id": "b93fb211-a4cc-438d-b7e5-e50ab9347cd1",
   "metadata": {},
   "outputs": [
    {
     "data": {
      "text/html": [
       "<div>\n",
       "<style scoped>\n",
       "    .dataframe tbody tr th:only-of-type {\n",
       "        vertical-align: middle;\n",
       "    }\n",
       "\n",
       "    .dataframe tbody tr th {\n",
       "        vertical-align: top;\n",
       "    }\n",
       "\n",
       "    .dataframe thead th {\n",
       "        text-align: right;\n",
       "    }\n",
       "</style>\n",
       "<table border=\"1\" class=\"dataframe\">\n",
       "  <thead>\n",
       "    <tr style=\"text-align: right;\">\n",
       "      <th></th>\n",
       "      <th>GTFS Static</th>\n",
       "      <th>Accessible Static</th>\n",
       "      <th>GTFS RT</th>\n",
       "      <th>Accessible RT</th>\n",
       "    </tr>\n",
       "  </thead>\n",
       "  <tbody>\n",
       "    <tr>\n",
       "      <th>Population</th>\n",
       "      <td>94.07</td>\n",
       "      <td>11.47</td>\n",
       "      <td>47.31</td>\n",
       "      <td>4.12</td>\n",
       "    </tr>\n",
       "    <tr>\n",
       "      <th>Land Area</th>\n",
       "      <td>90.09</td>\n",
       "      <td>10.90</td>\n",
       "      <td>40.30</td>\n",
       "      <td>4.33</td>\n",
       "    </tr>\n",
       "    <tr>\n",
       "      <th>Jobs</th>\n",
       "      <td>99.21</td>\n",
       "      <td>17.84</td>\n",
       "      <td>114.87</td>\n",
       "      <td>17.64</td>\n",
       "    </tr>\n",
       "  </tbody>\n",
       "</table>\n",
       "</div>"
      ],
      "text/plain": [
       "            GTFS Static  Accessible Static  GTFS RT  Accessible RT\n",
       "Population        94.07              11.47    47.31           4.12\n",
       "Land Area         90.09              10.90    40.30           4.33\n",
       "Jobs              99.21              17.84   114.87          17.64"
      ]
     },
     "execution_count": 58,
     "metadata": {},
     "output_type": "execute_result"
    }
   ],
   "source": [
    "summary_df"
   ]
  },
  {
   "cell_type": "markdown",
   "id": "7cf4111f-7214-40dc-bd9c-455c088ce978",
   "metadata": {},
   "source": [
    "### Maps and Charts\n",
    "\n",
    "* maps should show for each metric:\n",
    "    * covered regions\n",
    "    * non-covered regions\n",
    "    * regions outsde analysis (large block groups and tracts)"
   ]
  },
  {
   "cell_type": "code",
   "execution_count": 59,
   "id": "bf91d7ba-f618-430a-b4a3-21df43749a9c",
   "metadata": {
    "tags": []
   },
   "outputs": [],
   "source": [
    "m = simple_map(all_stops_joined.dissolve());"
   ]
  },
  {
   "cell_type": "code",
   "execution_count": 60,
   "id": "0107b36c-65ea-433f-89fe-6c2ff8b2a041",
   "metadata": {},
   "outputs": [],
   "source": [
    "def make_geo_data(gdf, color):\n",
    "    geo_data = GeoData(geo_dataframe = gdf.to_crs('EPSG:4326'),\n",
    "                   style={'color': 'black', 'fillColor': color,\n",
    "                                'opacity':0.2, 'weight':.5, 'dashArray':'2', 'fillOpacity':0.3},\n",
    "                   hover_style={'fillColor': 'red' , 'fillOpacity': 0.3},\n",
    "                   name = 'data')\n",
    "    return geo_data"
   ]
  },
  {
   "cell_type": "code",
   "execution_count": 61,
   "id": "f5ec09f6-f2bf-4de6-b1d4-1cca775c6133",
   "metadata": {},
   "outputs": [],
   "source": [
    "## dissolve geos first? (for speed)\n",
    "## quick function to append as seperate layers"
   ]
  },
  {
   "cell_type": "code",
   "execution_count": 62,
   "id": "a506f154-703a-40ad-a9ca-b54d9d4d7d2d",
   "metadata": {},
   "outputs": [],
   "source": [
    "unserved = ca_block_geo >> anti_join(_, all_stops_joined, on = 'GEOID') >> filter(_.under_4_sq_km) ## in analysis, not served\n",
    "out = ca_block_geo >> filter(-_.under_4_sq_km) ## out of analysis scope (geo too large) #999999"
   ]
  },
  {
   "cell_type": "code",
   "execution_count": 63,
   "id": "2db5ee4e-f973-44da-922f-8d89c93af4fc",
   "metadata": {},
   "outputs": [],
   "source": [
    "m.add_layer(make_geo_data(unserved.dissolve(), '#f1a340'))\n",
    "m.add_layer(make_geo_data(out.dissolve(), '#999999'))"
   ]
  },
  {
   "cell_type": "markdown",
   "id": "8fce2078-f989-4031-b712-46d405c5c804",
   "metadata": {},
   "source": [
    "### GTFS Schedule only\n",
    "\n",
    "![GTFS Schedule coverage](img/schedule.jpg)"
   ]
  },
  {
   "cell_type": "code",
   "execution_count": null,
   "id": "a121c405-b4bc-44c3-a613-fe7edcdd819f",
   "metadata": {
    "tags": []
   },
   "outputs": [],
   "source": [
    "# m"
   ]
  },
  {
   "cell_type": "code",
   "execution_count": 65,
   "id": "62486697-035c-4959-99be-9c0e404f9d6a",
   "metadata": {},
   "outputs": [],
   "source": [
    "m_accessible = simple_map(accessible_geo_joined.dissolve());\n",
    "unserved = ca_block_geo >> anti_join(_, accessible_geo_joined, on = 'GEOID') >> filter(_.under_4_sq_km) ## in analysis, not served\n",
    "m_accessible.add_layer(make_geo_data(unserved.dissolve(), '#f1a340'))\n",
    "m_accessible.add_layer(make_geo_data(out.dissolve(), '#999999'))"
   ]
  },
  {
   "cell_type": "markdown",
   "id": "8c7fc9ec-ead8-40ee-9923-af9cb066b2ef",
   "metadata": {},
   "source": [
    "### Accessible Trips (static)\n",
    "\n",
    "![accessible GTFS coverage](img/accessible.jpg)"
   ]
  },
  {
   "cell_type": "code",
   "execution_count": 74,
   "id": "691f15f9-be37-42a4-b0be-f3d98d8e5bd9",
   "metadata": {},
   "outputs": [],
   "source": [
    "# m_accessible"
   ]
  },
  {
   "cell_type": "code",
   "execution_count": 67,
   "id": "c4835a56-b3ed-45bb-a499-0c4a5ce077fa",
   "metadata": {},
   "outputs": [],
   "source": [
    "m_rt = simple_map(all_stops_rt.dissolve());\n",
    "unserved = ca_block_geo >> anti_join(_, all_stops_rt, on = 'GEOID') >> filter(_.under_4_sq_km) ## in analysis, not served\n",
    "m_rt.add_layer(make_geo_data(unserved.dissolve(), '#f1a340'))\n",
    "m_rt.add_layer(make_geo_data(out.dissolve(), '#999999'))"
   ]
  },
  {
   "cell_type": "markdown",
   "id": "f8a7ec3e-e498-4916-984c-236c707aa487",
   "metadata": {},
   "source": [
    "### Trips by operators with GTFS-RT\n",
    "\n",
    "![rt operators](img/rt.jpg)"
   ]
  },
  {
   "cell_type": "code",
   "execution_count": 73,
   "id": "34e025fd-b599-4d50-9952-73f20c1256d4",
   "metadata": {},
   "outputs": [],
   "source": [
    "# m_rt"
   ]
  },
  {
   "cell_type": "code",
   "execution_count": 69,
   "id": "c99d1db2-b1bf-41ba-b24e-0e71c0ef3b3e",
   "metadata": {},
   "outputs": [],
   "source": [
    "m_rt_access = simple_map(accessible_stops_trips_rt.dissolve());\n",
    "unserved = ca_block_geo >> anti_join(_, accessible_stops_trips_rt, on = 'GEOID') >> filter(_.under_4_sq_km) ## in analysis, not served\n",
    "m_rt_access.add_layer(make_geo_data(unserved.dissolve(), '#f1a340'))\n",
    "m_rt_access.add_layer(make_geo_data(out.dissolve(), '#999999'))"
   ]
  },
  {
   "cell_type": "markdown",
   "id": "ff5a0b45-115c-4e45-a280-3d5e1dffbd47",
   "metadata": {},
   "source": [
    "### Accessible Trips by operators with GTFS-RT\n",
    "\n",
    "![accessible trips, RT operator](img/rt_accessible.jpg)"
   ]
  },
  {
   "cell_type": "code",
   "execution_count": 72,
   "id": "9c23225e-5168-4d4f-acd4-8a7036a28d5e",
   "metadata": {},
   "outputs": [],
   "source": [
    "# m_rt_access"
   ]
  },
  {
   "cell_type": "code",
   "execution_count": null,
   "id": "c22cb39d-fec4-4d9f-a413-a54c460bc4da",
   "metadata": {},
   "outputs": [],
   "source": []
  }
 ],
 "metadata": {
  "kernelspec": {
   "display_name": "Python 3 (ipykernel)",
   "language": "python",
   "name": "python3"
  },
  "language_info": {
   "codemirror_mode": {
    "name": "ipython",
    "version": 3
   },
   "file_extension": ".py",
   "mimetype": "text/x-python",
   "name": "python",
   "nbconvert_exporter": "python",
   "pygments_lexer": "ipython3",
   "version": "3.9.7"
  }
 },
 "nbformat": 4,
 "nbformat_minor": 5
}
