{
 "cells": [
  {
   "cell_type": "code",
   "execution_count": 1,
   "id": "1e265c3d-d876-41fa-b864-19fd5d70c203",
   "metadata": {},
   "outputs": [
    {
     "name": "stderr",
     "output_type": "stream",
     "text": [
      "/opt/conda/lib/python3.9/site-packages/geopandas/_compat.py:111: UserWarning: The Shapely GEOS version (3.9.1-CAPI-1.14.2) is incompatible with the GEOS version PyGEOS was compiled with (3.10.1-CAPI-1.16.0). Conversions between both will be slow.\n",
      "  warnings.warn(\n"
     ]
    }
   ],
   "source": [
    "import pandas as pd\n",
    "import geopandas as gpd\n",
    "\n",
    "import shared_utils\n",
    "from utils import *\n",
    "import intake\n",
    "import gcsfs\n",
    "\n",
    "import calitp\n",
    "from calitp.tables import tbl\n",
    "from siuba import *"
   ]
  },
  {
   "cell_type": "code",
   "execution_count": 2,
   "id": "5463cbce-1aa4-45ff-93b2-1bd96d120a94",
   "metadata": {},
   "outputs": [],
   "source": [
    "catalog = intake.open_catalog('./catalog.yml')"
   ]
  },
  {
   "cell_type": "markdown",
   "id": "34cb4ba3-117c-4a20-a1a4-c98b7aad9cdc",
   "metadata": {},
   "source": [
    "# Accessible Transit Metrics"
   ]
  },
  {
   "cell_type": "markdown",
   "id": "639dd482-463f-480d-9181-76cb532f8b3c",
   "metadata": {},
   "source": [
    "### New Accessibilty Metric (Area)\n",
    "\n",
    "The % of non-water area of California that is within 1/4 mi of a bus stop or 1 mi of a ferry/rail stop that is explicitly wheelchair accessible (and if in a station, that station has explicit pathways coding), and that has is served by a public-funded, open to the general public transit service with GTFS Schedule data that is served by a service that is explicitly wheelchair accessible"
   ]
  },
  {
   "cell_type": "markdown",
   "id": "58521b9e-6ae7-42e4-b0e8-8565a5de796c",
   "metadata": {},
   "source": [
    "### New Accessibility Metric (Population)\n",
    "\n",
    " The % of Californians that are within 1/4 mi of a bus stop or 1 mi of a ferry/rail stop that is explicitly wheelchair accessible (and if in a station, that station has explicit pathways coding), and that has is served by a public-funded, open to the general public transit service with GTFS Schedule data that is served by a service that is explicitly wheelchair accessible"
   ]
  },
  {
   "cell_type": "markdown",
   "id": "85d1087a-359b-4f4e-b8f2-f5e2ed1fb140",
   "metadata": {},
   "source": [
    "### Notes and Caveats:\n",
    "\n",
    "* The vast majority of accessible services don't appear to provide accessibility data in GTFS\n",
    "* Pathways appears to be empty in data warehouse for now..."
   ]
  },
  {
   "cell_type": "code",
   "execution_count": 3,
   "id": "8890b880-6a42-4544-9173-cfcb795eeb87",
   "metadata": {},
   "outputs": [],
   "source": [
    "total_pop_var = 'B01001_001E'"
   ]
  },
  {
   "cell_type": "code",
   "execution_count": 4,
   "id": "b00f500a-a2a7-4b9f-ab19-d6619c5039b0",
   "metadata": {},
   "outputs": [],
   "source": [
    "## can hit Census API limits with frequent runs?\n",
    "\n",
    "# blockgrp_pop = get_census_ca_counties(total_pop_var, 'block%20group')\n",
    "# blockgrp_pop = blockgrp_pop.rename(columns={'B01001_001E': 'block_grp_pop',\n",
    "#                                            'block group': 'block_grp'})"
   ]
  },
  {
   "cell_type": "code",
   "execution_count": 5,
   "id": "7ebe259f-3371-4e23-a979-60a392f76950",
   "metadata": {},
   "outputs": [],
   "source": [
    "## read pre-fetched 2019 ACS data from catalog\n",
    "blockgrp_pop = (catalog.ca_bg_population.read()\n",
    "                .rename(columns={'block group': 'block_grp',\n",
    "                                'population': 'block_grp_pop'})\n",
    "                .astype({'block_grp_pop': 'int64', 'state': 'int64',\n",
    "                        'county': 'int64', 'tract': 'int64',\n",
    "                        'block_grp': 'int64'})\n",
    "               )"
   ]
  },
  {
   "cell_type": "code",
   "execution_count": 6,
   "id": "ae24c2b3-1f01-4977-a4ca-210dad8743ab",
   "metadata": {},
   "outputs": [
    {
     "data": {
      "text/html": [
       "<div>\n",
       "<style scoped>\n",
       "    .dataframe tbody tr th:only-of-type {\n",
       "        vertical-align: middle;\n",
       "    }\n",
       "\n",
       "    .dataframe tbody tr th {\n",
       "        vertical-align: top;\n",
       "    }\n",
       "\n",
       "    .dataframe thead th {\n",
       "        text-align: right;\n",
       "    }\n",
       "</style>\n",
       "<table border=\"1\" class=\"dataframe\">\n",
       "  <thead>\n",
       "    <tr style=\"text-align: right;\">\n",
       "      <th></th>\n",
       "      <th>NAME</th>\n",
       "      <th>block_grp_pop</th>\n",
       "      <th>state</th>\n",
       "      <th>county</th>\n",
       "      <th>tract</th>\n",
       "      <th>block_grp</th>\n",
       "    </tr>\n",
       "  </thead>\n",
       "  <tbody>\n",
       "    <tr>\n",
       "      <th>0</th>\n",
       "      <td>Block Group 2, Census Tract 12, Merced County,...</td>\n",
       "      <td>1388</td>\n",
       "      <td>6</td>\n",
       "      <td>47</td>\n",
       "      <td>1200</td>\n",
       "      <td>2</td>\n",
       "    </tr>\n",
       "    <tr>\n",
       "      <th>1</th>\n",
       "      <td>Block Group 4, Census Tract 12, Merced County,...</td>\n",
       "      <td>1531</td>\n",
       "      <td>6</td>\n",
       "      <td>47</td>\n",
       "      <td>1200</td>\n",
       "      <td>4</td>\n",
       "    </tr>\n",
       "    <tr>\n",
       "      <th>2</th>\n",
       "      <td>Block Group 1, Census Tract 12, Merced County,...</td>\n",
       "      <td>1405</td>\n",
       "      <td>6</td>\n",
       "      <td>47</td>\n",
       "      <td>1200</td>\n",
       "      <td>1</td>\n",
       "    </tr>\n",
       "  </tbody>\n",
       "</table>\n",
       "</div>"
      ],
      "text/plain": [
       "                                                NAME  block_grp_pop  state  \\\n",
       "0  Block Group 2, Census Tract 12, Merced County,...           1388      6   \n",
       "1  Block Group 4, Census Tract 12, Merced County,...           1531      6   \n",
       "2  Block Group 1, Census Tract 12, Merced County,...           1405      6   \n",
       "\n",
       "   county  tract  block_grp  \n",
       "0      47   1200          2  \n",
       "1      47   1200          4  \n",
       "2      47   1200          1  "
      ]
     },
     "execution_count": 6,
     "metadata": {},
     "output_type": "execute_result"
    }
   ],
   "source": [
    "blockgrp_pop.head(3)"
   ]
  },
  {
   "cell_type": "code",
   "execution_count": 7,
   "id": "d8fade15-44c9-4967-8012-1517b9f5b66d",
   "metadata": {},
   "outputs": [],
   "source": [
    "accessible_stops_trips = get_stops_and_trips(filter_accessible = True)"
   ]
  },
  {
   "cell_type": "code",
   "execution_count": 8,
   "id": "ccd970ac-61ba-4656-94f7-a030aa6e3838",
   "metadata": {},
   "outputs": [
    {
     "data": {
      "text/html": [
       "<div>\n",
       "<style scoped>\n",
       "    .dataframe tbody tr th:only-of-type {\n",
       "        vertical-align: middle;\n",
       "    }\n",
       "\n",
       "    .dataframe tbody tr th {\n",
       "        vertical-align: top;\n",
       "    }\n",
       "\n",
       "    .dataframe thead th {\n",
       "        text-align: right;\n",
       "    }\n",
       "</style>\n",
       "<table border=\"1\" class=\"dataframe\">\n",
       "  <thead>\n",
       "    <tr style=\"text-align: right;\">\n",
       "      <th></th>\n",
       "      <th>stop_id</th>\n",
       "      <th>route_type</th>\n",
       "      <th>stop_lon</th>\n",
       "      <th>stop_lat</th>\n",
       "      <th>calitp_itp_id</th>\n",
       "      <th>calitp_url_number</th>\n",
       "      <th>wheelchair_boarding</th>\n",
       "      <th>wheelchair_accessible</th>\n",
       "      <th>geometry</th>\n",
       "    </tr>\n",
       "  </thead>\n",
       "  <tbody>\n",
       "    <tr>\n",
       "      <th>0</th>\n",
       "      <td>3820402</td>\n",
       "      <td>3</td>\n",
       "      <td>-122.077278</td>\n",
       "      <td>37.394672</td>\n",
       "      <td>217</td>\n",
       "      <td>0</td>\n",
       "      <td>1</td>\n",
       "      <td>1</td>\n",
       "      <td>POINT (-183632.839 -67099.301)</td>\n",
       "    </tr>\n",
       "    <tr>\n",
       "      <th>1</th>\n",
       "      <td>3820733</td>\n",
       "      <td>3</td>\n",
       "      <td>-122.053216</td>\n",
       "      <td>37.395497</td>\n",
       "      <td>217</td>\n",
       "      <td>0</td>\n",
       "      <td>1</td>\n",
       "      <td>1</td>\n",
       "      <td>POINT (-181504.056 -67053.953)</td>\n",
       "    </tr>\n",
       "    <tr>\n",
       "      <th>2</th>\n",
       "      <td>7269843</td>\n",
       "      <td>3</td>\n",
       "      <td>-122.111591</td>\n",
       "      <td>37.404887</td>\n",
       "      <td>217</td>\n",
       "      <td>0</td>\n",
       "      <td>1</td>\n",
       "      <td>1</td>\n",
       "      <td>POINT (-186640.338 -65897.079)</td>\n",
       "    </tr>\n",
       "  </tbody>\n",
       "</table>\n",
       "</div>"
      ],
      "text/plain": [
       "   stop_id route_type    stop_lon   stop_lat  calitp_itp_id  \\\n",
       "0  3820402          3 -122.077278  37.394672            217   \n",
       "1  3820733          3 -122.053216  37.395497            217   \n",
       "2  7269843          3 -122.111591  37.404887            217   \n",
       "\n",
       "   calitp_url_number wheelchair_boarding wheelchair_accessible  \\\n",
       "0                  0                   1                     1   \n",
       "1                  0                   1                     1   \n",
       "2                  0                   1                     1   \n",
       "\n",
       "                         geometry  \n",
       "0  POINT (-183632.839 -67099.301)  \n",
       "1  POINT (-181504.056 -67053.953)  \n",
       "2  POINT (-186640.338 -65897.079)  "
      ]
     },
     "execution_count": 8,
     "metadata": {},
     "output_type": "execute_result"
    }
   ],
   "source": [
    "accessible_stops_trips.head(3)"
   ]
  },
  {
   "cell_type": "code",
   "execution_count": 9,
   "id": "6f86eafd-c93f-45a6-a0ed-490297e08456",
   "metadata": {},
   "outputs": [],
   "source": [
    "bus_route_types = ['3', '11']\n",
    "\n",
    "def buffer_by_route_type(row):\n",
    "    '''\n",
    "    Buffer bus stops by 400 meters (.25mi),\n",
    "    rail/ferry by 1600 meters (1mi)\n",
    "    '''\n",
    "    if row.route_type in bus_route_types:\n",
    "        row.geometry = row.geometry.buffer(400)\n",
    "    else:\n",
    "        row.geometry = row.geometry.buffer(1600)\n",
    "    return row"
   ]
  },
  {
   "cell_type": "code",
   "execution_count": 10,
   "id": "3658e76a-57eb-4e32-9d78-5e32f6f10e5f",
   "metadata": {},
   "outputs": [],
   "source": [
    "accessible_stops_trips = accessible_stops_trips.apply(buffer_by_route_type, axis=1)"
   ]
  },
  {
   "cell_type": "code",
   "execution_count": null,
   "id": "ad119d7d-e792-40fb-bc5a-aef08fa32a10",
   "metadata": {},
   "outputs": [],
   "source": [
    "# ca_block_geo = get_ca_block_group_geo()"
   ]
  },
  {
   "cell_type": "code",
   "execution_count": 16,
   "id": "e2007663-9e9c-4707-b19d-414166be5861",
   "metadata": {},
   "outputs": [],
   "source": [
    "# shared_utils.utils.geoparquet_gcs_export(ca_block_geo, GCS_FILE_PATH,\n",
    "#                                          'ca_block_grp_clipped_prj')"
   ]
  },
  {
   "cell_type": "code",
   "execution_count": 17,
   "id": "1602137f-417a-4409-9198-14d34f8ce010",
   "metadata": {},
   "outputs": [],
   "source": [
    "ca_block_geo = gpd.read_parquet(f'{GCS_FILE_PATH}ca_block_grp_clipped_prj.parquet')"
   ]
  },
  {
   "cell_type": "code",
   "execution_count": 18,
   "id": "e842847b-f40a-48c2-8ca1-4745ee1a4679",
   "metadata": {},
   "outputs": [],
   "source": [
    "## drop large block groups (not useful access data...)\n",
    "## 4 sq km threshold\n",
    "ca_block_geo = ca_block_geo[ca_block_geo.geometry.area < 4e+06]"
   ]
  },
  {
   "cell_type": "code",
   "execution_count": 19,
   "id": "b55c6aa4-38f6-435f-abd3-348f90da7c74",
   "metadata": {},
   "outputs": [],
   "source": [
    "ca_block_geo = ca_block_geo.astype({'STATEFP': 'int64',\n",
    "                                            'COUNTYFP': 'int64',\n",
    "                                            'TRACTCE': 'int64',\n",
    "                                            'BLKGRPCE': 'int64'})\n",
    "ca_block_geo = ca_block_geo.rename(columns={'STATEFP': 'state',\n",
    "                                                   'COUNTYFP': 'county',\n",
    "                                                   'TRACTCE': 'tract',\n",
    "                                                   'BLKGRPCE': 'block_grp'})"
   ]
  },
  {
   "cell_type": "code",
   "execution_count": 20,
   "id": "5801fb18-15a8-46a5-bea9-93b212db2384",
   "metadata": {},
   "outputs": [],
   "source": [
    "geo_stops_joined = ca_block_geo.sjoin(accessible_stops_trips, how='inner', predicate='intersects')"
   ]
  },
  {
   "cell_type": "code",
   "execution_count": 21,
   "id": "b2ca867f-753f-40f9-a07d-82aa56411b3d",
   "metadata": {},
   "outputs": [],
   "source": [
    "geo_stops_joined = geo_stops_joined.drop_duplicates(subset=['GEOID'])"
   ]
  },
  {
   "cell_type": "code",
   "execution_count": 22,
   "id": "2538593c-f7f5-4cdb-80f6-289f4f448766",
   "metadata": {},
   "outputs": [
    {
     "data": {
      "text/html": [
       "<div>\n",
       "<style scoped>\n",
       "    .dataframe tbody tr th:only-of-type {\n",
       "        vertical-align: middle;\n",
       "    }\n",
       "\n",
       "    .dataframe tbody tr th {\n",
       "        vertical-align: top;\n",
       "    }\n",
       "\n",
       "    .dataframe thead th {\n",
       "        text-align: right;\n",
       "    }\n",
       "</style>\n",
       "<table border=\"1\" class=\"dataframe\">\n",
       "  <thead>\n",
       "    <tr style=\"text-align: right;\">\n",
       "      <th></th>\n",
       "      <th>state</th>\n",
       "      <th>county</th>\n",
       "      <th>tract</th>\n",
       "      <th>block_grp</th>\n",
       "      <th>GEOID</th>\n",
       "      <th>NAMELSAD</th>\n",
       "      <th>MTFCC</th>\n",
       "      <th>FUNCSTAT</th>\n",
       "      <th>ALAND</th>\n",
       "      <th>AWATER</th>\n",
       "      <th>...</th>\n",
       "      <th>geometry</th>\n",
       "      <th>index_right</th>\n",
       "      <th>stop_id</th>\n",
       "      <th>route_type</th>\n",
       "      <th>stop_lon</th>\n",
       "      <th>stop_lat</th>\n",
       "      <th>calitp_itp_id</th>\n",
       "      <th>calitp_url_number</th>\n",
       "      <th>wheelchair_boarding</th>\n",
       "      <th>wheelchair_accessible</th>\n",
       "    </tr>\n",
       "  </thead>\n",
       "  <tbody>\n",
       "    <tr>\n",
       "      <th>16760</th>\n",
       "      <td>6</td>\n",
       "      <td>73</td>\n",
       "      <td>10009</td>\n",
       "      <td>1</td>\n",
       "      <td>060730100091</td>\n",
       "      <td>Block Group 1</td>\n",
       "      <td>G5030</td>\n",
       "      <td>S</td>\n",
       "      <td>1759046</td>\n",
       "      <td>528681</td>\n",
       "      <td>...</td>\n",
       "      <td>MULTIPOLYGON (((275529.078 -603346.514, 275528...</td>\n",
       "      <td>3601</td>\n",
       "      <td>60601</td>\n",
       "      <td>3</td>\n",
       "      <td>-117.042087</td>\n",
       "      <td>32.545331</td>\n",
       "      <td>278</td>\n",
       "      <td>0</td>\n",
       "      <td>1</td>\n",
       "      <td>1</td>\n",
       "    </tr>\n",
       "    <tr>\n",
       "      <th>18464</th>\n",
       "      <td>6</td>\n",
       "      <td>73</td>\n",
       "      <td>10009</td>\n",
       "      <td>2</td>\n",
       "      <td>060730100092</td>\n",
       "      <td>Block Group 2</td>\n",
       "      <td>G5030</td>\n",
       "      <td>S</td>\n",
       "      <td>422248</td>\n",
       "      <td>0</td>\n",
       "      <td>...</td>\n",
       "      <td>POLYGON ((277015.844 -602387.172, 277237.214 -...</td>\n",
       "      <td>3601</td>\n",
       "      <td>60601</td>\n",
       "      <td>3</td>\n",
       "      <td>-117.042087</td>\n",
       "      <td>32.545331</td>\n",
       "      <td>278</td>\n",
       "      <td>0</td>\n",
       "      <td>1</td>\n",
       "      <td>1</td>\n",
       "    </tr>\n",
       "    <tr>\n",
       "      <th>18172</th>\n",
       "      <td>6</td>\n",
       "      <td>73</td>\n",
       "      <td>10009</td>\n",
       "      <td>4</td>\n",
       "      <td>060730100094</td>\n",
       "      <td>Block Group 4</td>\n",
       "      <td>G5030</td>\n",
       "      <td>S</td>\n",
       "      <td>621685</td>\n",
       "      <td>0</td>\n",
       "      <td>...</td>\n",
       "      <td>POLYGON ((278109.830 -603029.458, 278179.036 -...</td>\n",
       "      <td>3601</td>\n",
       "      <td>60601</td>\n",
       "      <td>3</td>\n",
       "      <td>-117.042087</td>\n",
       "      <td>32.545331</td>\n",
       "      <td>278</td>\n",
       "      <td>0</td>\n",
       "      <td>1</td>\n",
       "      <td>1</td>\n",
       "    </tr>\n",
       "  </tbody>\n",
       "</table>\n",
       "<p>3 rows × 22 columns</p>\n",
       "</div>"
      ],
      "text/plain": [
       "       state  county  tract  block_grp         GEOID       NAMELSAD  MTFCC  \\\n",
       "16760      6      73  10009          1  060730100091  Block Group 1  G5030   \n",
       "18464      6      73  10009          2  060730100092  Block Group 2  G5030   \n",
       "18172      6      73  10009          4  060730100094  Block Group 4  G5030   \n",
       "\n",
       "      FUNCSTAT    ALAND  AWATER  ...  \\\n",
       "16760        S  1759046  528681  ...   \n",
       "18464        S   422248       0  ...   \n",
       "18172        S   621685       0  ...   \n",
       "\n",
       "                                                geometry index_right stop_id  \\\n",
       "16760  MULTIPOLYGON (((275529.078 -603346.514, 275528...        3601   60601   \n",
       "18464  POLYGON ((277015.844 -602387.172, 277237.214 -...        3601   60601   \n",
       "18172  POLYGON ((278109.830 -603029.458, 278179.036 -...        3601   60601   \n",
       "\n",
       "       route_type    stop_lon   stop_lat  calitp_itp_id  calitp_url_number  \\\n",
       "16760           3 -117.042087  32.545331            278                  0   \n",
       "18464           3 -117.042087  32.545331            278                  0   \n",
       "18172           3 -117.042087  32.545331            278                  0   \n",
       "\n",
       "       wheelchair_boarding  wheelchair_accessible  \n",
       "16760                    1                      1  \n",
       "18464                    1                      1  \n",
       "18172                    1                      1  \n",
       "\n",
       "[3 rows x 22 columns]"
      ]
     },
     "execution_count": 22,
     "metadata": {},
     "output_type": "execute_result"
    }
   ],
   "source": [
    "geo_stops_joined.head(3)"
   ]
  },
  {
   "cell_type": "code",
   "execution_count": 23,
   "id": "fb5f513d-23f1-4d6d-89a2-ea4a5087c5c9",
   "metadata": {},
   "outputs": [],
   "source": [
    "stops_pop_joined = geo_stops_joined >> inner_join(_, blockgrp_pop, on=['state', 'county', 'tract', 'block_grp'])"
   ]
  },
  {
   "cell_type": "code",
   "execution_count": 24,
   "id": "e33fb983-7c9e-4029-b68e-2aec60618bfa",
   "metadata": {},
   "outputs": [
    {
     "data": {
      "text/plain": [
       "2378168"
      ]
     },
     "execution_count": 24,
     "metadata": {},
     "output_type": "execute_result"
    }
   ],
   "source": [
    "stops_pop_joined['block_grp_pop'].sum()"
   ]
  },
  {
   "cell_type": "code",
   "execution_count": 25,
   "id": "69a8cb27-375a-4cee-ba27-ceca233932f7",
   "metadata": {},
   "outputs": [
    {
     "data": {
      "text/plain": [
       "39283497"
      ]
     },
     "execution_count": 25,
     "metadata": {},
     "output_type": "execute_result"
    }
   ],
   "source": [
    "blockgrp_pop['block_grp_pop'].sum()"
   ]
  },
  {
   "cell_type": "markdown",
   "id": "21c3904b-6dc8-41ee-8f19-73f5ad5c6b99",
   "metadata": {},
   "source": [
    "#### Current Percentage of CA population in block groups within .25mi of accessible transit"
   ]
  },
  {
   "cell_type": "code",
   "execution_count": 26,
   "id": "5d030dd1-6c75-424e-b061-5c21f35a9462",
   "metadata": {},
   "outputs": [
    {
     "data": {
      "text/plain": [
       "6.05"
      ]
     },
     "execution_count": 26,
     "metadata": {},
     "output_type": "execute_result"
    }
   ],
   "source": [
    "((stops_pop_joined['block_grp_pop'].sum() / blockgrp_pop['block_grp_pop'].sum()) * 100).round(2)"
   ]
  },
  {
   "cell_type": "code",
   "execution_count": 27,
   "id": "dea3e5ad-e4bb-4d86-bc6c-45c55d774ab7",
   "metadata": {},
   "outputs": [
    {
     "data": {
      "text/plain": [
       "948081833.6124767"
      ]
     },
     "execution_count": 27,
     "metadata": {},
     "output_type": "execute_result"
    }
   ],
   "source": [
    "geo_stops_joined.geometry.area.sum() ## sq meters"
   ]
  },
  {
   "cell_type": "code",
   "execution_count": 28,
   "id": "3ef9d500-973e-409a-9872-255f9c750e78",
   "metadata": {},
   "outputs": [
    {
     "data": {
      "text/plain": [
       "14393648284.97847"
      ]
     },
     "execution_count": 28,
     "metadata": {},
     "output_type": "execute_result"
    }
   ],
   "source": [
    "ca_block_geo.geometry.area.sum()"
   ]
  },
  {
   "cell_type": "markdown",
   "id": "a8274aa7-6608-4a45-81cb-04d00a766358",
   "metadata": {},
   "source": [
    "#### Current Percentage of CA land area in block groups within .25mi of accessible transit"
   ]
  },
  {
   "cell_type": "code",
   "execution_count": 29,
   "id": "9b219a5a-e8d3-4cf3-adab-dfe7820619d7",
   "metadata": {},
   "outputs": [
    {
     "data": {
      "text/plain": [
       "6.59"
      ]
     },
     "execution_count": 29,
     "metadata": {},
     "output_type": "execute_result"
    }
   ],
   "source": [
    "((geo_stops_joined.geometry.area.sum() / ca_block_geo.geometry.area.sum()) * 100).round(2)"
   ]
  },
  {
   "cell_type": "markdown",
   "id": "f18d84fc-a038-4d2c-8ebc-ac7481e9864b",
   "metadata": {},
   "source": [
    "### Map"
   ]
  },
  {
   "cell_type": "code",
   "execution_count": 30,
   "id": "55a36658-e188-4ef5-bf08-0fa0f9e7ec18",
   "metadata": {},
   "outputs": [],
   "source": [
    "# simple_map(geo_stops_joined, 'calitp_itp_id')"
   ]
  },
  {
   "cell_type": "markdown",
   "id": "71b2a81b-f410-45f9-8cc9-62d32d2fadb3",
   "metadata": {},
   "source": [
    "#### Static Map (block groups near accessible transit, Bay Area)\n",
    "\n",
    "![bay area accessiblity](accessible.png)"
   ]
  },
  {
   "cell_type": "markdown",
   "id": "db73185f-6325-4c53-a8cd-fc908b3c2240",
   "metadata": {},
   "source": [
    "# General Transit Metrics"
   ]
  },
  {
   "cell_type": "markdown",
   "id": "28dcde4c-8970-43ae-9602-53a31058194f",
   "metadata": {},
   "source": [
    "### New General Metric (by area):\n",
    "\n",
    "The % of non-water area of Californian that is within 1/4 mi of a bus stop or 1 mi of a ferry/rail stop that has is served by a public-funded, open to the general public transit service with GTFS Schedule data\n"
   ]
  },
  {
   "cell_type": "markdown",
   "id": "885e26b2-69af-45f3-9319-7b14c1822b29",
   "metadata": {},
   "source": [
    "### New General Metric (by population):\n",
    "\n",
    "The % of Californians that live within 1/4 mi of a bus stop or 1 mi of a ferry/rail stop that has is served by a public-funded, open to the general public transit service with GTFS Schedule data\n"
   ]
  },
  {
   "cell_type": "code",
   "execution_count": 31,
   "id": "2e925197-037d-40d0-9d63-bbb8381a1ddb",
   "metadata": {},
   "outputs": [],
   "source": [
    "all_stops = get_stops_and_trips(filter_accessible = False)"
   ]
  },
  {
   "cell_type": "code",
   "execution_count": 32,
   "id": "0871d6fd-edc6-42b5-8bf8-5d4844287e5e",
   "metadata": {},
   "outputs": [
    {
     "data": {
      "text/html": [
       "<div>\n",
       "<style scoped>\n",
       "    .dataframe tbody tr th:only-of-type {\n",
       "        vertical-align: middle;\n",
       "    }\n",
       "\n",
       "    .dataframe tbody tr th {\n",
       "        vertical-align: top;\n",
       "    }\n",
       "\n",
       "    .dataframe thead th {\n",
       "        text-align: right;\n",
       "    }\n",
       "</style>\n",
       "<table border=\"1\" class=\"dataframe\">\n",
       "  <thead>\n",
       "    <tr style=\"text-align: right;\">\n",
       "      <th></th>\n",
       "      <th>stop_id</th>\n",
       "      <th>route_type</th>\n",
       "      <th>stop_lon</th>\n",
       "      <th>stop_lat</th>\n",
       "      <th>calitp_itp_id</th>\n",
       "      <th>calitp_url_number</th>\n",
       "      <th>wheelchair_boarding</th>\n",
       "      <th>wheelchair_accessible</th>\n",
       "      <th>geometry</th>\n",
       "    </tr>\n",
       "  </thead>\n",
       "  <tbody>\n",
       "    <tr>\n",
       "      <th>0</th>\n",
       "      <td>11203</td>\n",
       "      <td>3</td>\n",
       "      <td>-121.173073</td>\n",
       "      <td>38.673566</td>\n",
       "      <td>111</td>\n",
       "      <td>0</td>\n",
       "      <td>None</td>\n",
       "      <td>None</td>\n",
       "      <td>POINT (-101947.112 73686.759)</td>\n",
       "    </tr>\n",
       "    <tr>\n",
       "      <th>1</th>\n",
       "      <td>11</td>\n",
       "      <td>3</td>\n",
       "      <td>-121.297833</td>\n",
       "      <td>38.137104</td>\n",
       "      <td>168</td>\n",
       "      <td>0</td>\n",
       "      <td>None</td>\n",
       "      <td>1</td>\n",
       "      <td>POINT (-113605.167 14199.628)</td>\n",
       "    </tr>\n",
       "    <tr>\n",
       "      <th>2</th>\n",
       "      <td>257</td>\n",
       "      <td>3</td>\n",
       "      <td>-118.391970</td>\n",
       "      <td>33.845902</td>\n",
       "      <td>260</td>\n",
       "      <td>0</td>\n",
       "      <td>None</td>\n",
       "      <td>None</td>\n",
       "      <td>POINT (148840.256 -461996.158)</td>\n",
       "    </tr>\n",
       "  </tbody>\n",
       "</table>\n",
       "</div>"
      ],
      "text/plain": [
       "  stop_id route_type    stop_lon   stop_lat  calitp_itp_id  calitp_url_number  \\\n",
       "0   11203          3 -121.173073  38.673566            111                  0   \n",
       "1      11          3 -121.297833  38.137104            168                  0   \n",
       "2     257          3 -118.391970  33.845902            260                  0   \n",
       "\n",
       "  wheelchair_boarding wheelchair_accessible                        geometry  \n",
       "0                None                  None   POINT (-101947.112 73686.759)  \n",
       "1                None                     1   POINT (-113605.167 14199.628)  \n",
       "2                None                  None  POINT (148840.256 -461996.158)  "
      ]
     },
     "execution_count": 32,
     "metadata": {},
     "output_type": "execute_result"
    }
   ],
   "source": [
    "all_stops.head(3)"
   ]
  },
  {
   "cell_type": "code",
   "execution_count": 33,
   "id": "e9462e5e-5ea8-4308-ab02-2ab8cd17f46b",
   "metadata": {},
   "outputs": [],
   "source": [
    "all_stops_joined = (ca_block_geo\n",
    "                    .sjoin(all_stops, how='inner', predicate='intersects')\n",
    "                    .drop_duplicates(subset=['GEOID'])\n",
    "                   )"
   ]
  },
  {
   "cell_type": "code",
   "execution_count": 34,
   "id": "b34809cf-aaff-4b11-ad99-f060d67c1536",
   "metadata": {},
   "outputs": [],
   "source": [
    "all_stops_pop_joined = all_stops_joined >> inner_join(_, blockgrp_pop, on=['state', 'county', 'tract', 'block_grp'])"
   ]
  },
  {
   "cell_type": "markdown",
   "id": "2174bbf9-46d9-46f1-90e3-ed047f9a1329",
   "metadata": {},
   "source": [
    "#### Current Percentage of CA population in block groups near transit with GTFS Schedule data"
   ]
  },
  {
   "cell_type": "code",
   "execution_count": 35,
   "id": "43e6312f-0896-43c7-9b9b-22e11628d89e",
   "metadata": {},
   "outputs": [
    {
     "data": {
      "text/plain": [
       "51.36"
      ]
     },
     "execution_count": 35,
     "metadata": {},
     "output_type": "execute_result"
    }
   ],
   "source": [
    "((all_stops_pop_joined['block_grp_pop'].sum() / blockgrp_pop['block_grp_pop'].sum()) * 100).round(2)"
   ]
  },
  {
   "cell_type": "markdown",
   "id": "2bf9502b-3b1f-4b75-bf36-cf989e7eb392",
   "metadata": {},
   "source": [
    "#### Current Percentage of CA land area in block groups near transit with GTFS Schedule data"
   ]
  },
  {
   "cell_type": "code",
   "execution_count": 36,
   "id": "f8d64a7b-b693-4b76-b4c0-9de7c74eb296",
   "metadata": {},
   "outputs": [
    {
     "data": {
      "text/plain": [
       "56.45"
      ]
     },
     "execution_count": 36,
     "metadata": {},
     "output_type": "execute_result"
    }
   ],
   "source": [
    "((all_stops_joined.geometry.area.sum() / ca_block_geo.geometry.area.sum()) * 100).round(2)"
   ]
  },
  {
   "cell_type": "markdown",
   "id": "5b58402f-0773-430b-9466-090e90737113",
   "metadata": {},
   "source": [
    "## Employment Metrics"
   ]
  },
  {
   "cell_type": "code",
   "execution_count": 37,
   "id": "d8b2d367-c019-494c-b42b-58c21bfb4380",
   "metadata": {},
   "outputs": [],
   "source": [
    "service_path = 'gs://calitp-analytics-data/data-analyses/bus_service_increase/'"
   ]
  },
  {
   "cell_type": "code",
   "execution_count": 38,
   "id": "51cb0103-af8a-41de-881a-1d7f0cf7c39d",
   "metadata": {},
   "outputs": [],
   "source": [
    "## Read in processed df from bus_service_increase/B1\n",
    "tract_pop_employ = gpd.read_parquet(f'{service_path}bus_stop_times_by_tract.parquet')\n",
    "tract_pop_employ = tract_pop_employ >> select(-_.num_arrivals, -_.stop_id, -_.itp_id)"
   ]
  },
  {
   "cell_type": "code",
   "execution_count": 39,
   "id": "5cfbfa16-dc4b-4d47-a7a6-7ad28c30bceb",
   "metadata": {},
   "outputs": [
    {
     "data": {
      "text/html": [
       "<div>\n",
       "<style scoped>\n",
       "    .dataframe tbody tr th:only-of-type {\n",
       "        vertical-align: middle;\n",
       "    }\n",
       "\n",
       "    .dataframe tbody tr th {\n",
       "        vertical-align: top;\n",
       "    }\n",
       "\n",
       "    .dataframe thead th {\n",
       "        text-align: right;\n",
       "    }\n",
       "</style>\n",
       "<table border=\"1\" class=\"dataframe\">\n",
       "  <thead>\n",
       "    <tr style=\"text-align: right;\">\n",
       "      <th></th>\n",
       "      <th>Tract</th>\n",
       "      <th>ZIP</th>\n",
       "      <th>Population</th>\n",
       "      <th>sq_mi</th>\n",
       "      <th>pop_sq_mi</th>\n",
       "      <th>overall_ptile</th>\n",
       "      <th>pollution_ptile</th>\n",
       "      <th>popchar_ptile</th>\n",
       "      <th>equity_group</th>\n",
       "      <th>pollution_group</th>\n",
       "      <th>popchar_group</th>\n",
       "      <th>County</th>\n",
       "      <th>City</th>\n",
       "      <th>geometry</th>\n",
       "      <th>num_jobs</th>\n",
       "      <th>jobs_sq_mi</th>\n",
       "      <th>num_pop_jobs</th>\n",
       "      <th>popjobs_sq_mi</th>\n",
       "    </tr>\n",
       "  </thead>\n",
       "  <tbody>\n",
       "    <tr>\n",
       "      <th>0</th>\n",
       "      <td>06001400100</td>\n",
       "      <td>94704</td>\n",
       "      <td>3120</td>\n",
       "      <td>2.655917</td>\n",
       "      <td>1174.735672</td>\n",
       "      <td>2.798790</td>\n",
       "      <td>26.621033</td>\n",
       "      <td>1.525466</td>\n",
       "      <td>1.0</td>\n",
       "      <td>1</td>\n",
       "      <td>1.0</td>\n",
       "      <td>Alameda</td>\n",
       "      <td>Oakland</td>\n",
       "      <td>POLYGON ((-122.24408 37.88322, -122.24198 37.8...</td>\n",
       "      <td>936</td>\n",
       "      <td>352.420702</td>\n",
       "      <td>4056</td>\n",
       "      <td>1527.156374</td>\n",
       "    </tr>\n",
       "    <tr>\n",
       "      <th>1</th>\n",
       "      <td>06001400200</td>\n",
       "      <td>94618</td>\n",
       "      <td>2007</td>\n",
       "      <td>0.229901</td>\n",
       "      <td>8729.842564</td>\n",
       "      <td>2.874433</td>\n",
       "      <td>24.181705</td>\n",
       "      <td>1.651538</td>\n",
       "      <td>1.0</td>\n",
       "      <td>1</td>\n",
       "      <td>1.0</td>\n",
       "      <td>Alameda</td>\n",
       "      <td>Oakland</td>\n",
       "      <td>POLYGON ((-122.24191 37.85181, -122.24202 37.8...</td>\n",
       "      <td>1357</td>\n",
       "      <td>5902.539292</td>\n",
       "      <td>3364</td>\n",
       "      <td>14632.381857</td>\n",
       "    </tr>\n",
       "    <tr>\n",
       "      <th>2</th>\n",
       "      <td>06001400300</td>\n",
       "      <td>94618</td>\n",
       "      <td>5051</td>\n",
       "      <td>0.427356</td>\n",
       "      <td>11819.185546</td>\n",
       "      <td>15.935451</td>\n",
       "      <td>33.366521</td>\n",
       "      <td>12.266768</td>\n",
       "      <td>1.0</td>\n",
       "      <td>2</td>\n",
       "      <td>1.0</td>\n",
       "      <td>Alameda</td>\n",
       "      <td>Oakland</td>\n",
       "      <td>POLYGON ((-122.24590 37.84500, -122.25241 37.8...</td>\n",
       "      <td>1978</td>\n",
       "      <td>4628.459515</td>\n",
       "      <td>7029</td>\n",
       "      <td>16447.645061</td>\n",
       "    </tr>\n",
       "  </tbody>\n",
       "</table>\n",
       "</div>"
      ],
      "text/plain": [
       "         Tract    ZIP  Population     sq_mi     pop_sq_mi  overall_ptile  \\\n",
       "0  06001400100  94704        3120  2.655917   1174.735672       2.798790   \n",
       "1  06001400200  94618        2007  0.229901   8729.842564       2.874433   \n",
       "2  06001400300  94618        5051  0.427356  11819.185546      15.935451   \n",
       "\n",
       "   pollution_ptile  popchar_ptile  equity_group  pollution_group  \\\n",
       "0        26.621033       1.525466           1.0                1   \n",
       "1        24.181705       1.651538           1.0                1   \n",
       "2        33.366521      12.266768           1.0                2   \n",
       "\n",
       "   popchar_group   County     City  \\\n",
       "0            1.0  Alameda  Oakland   \n",
       "1            1.0  Alameda  Oakland   \n",
       "2            1.0  Alameda  Oakland   \n",
       "\n",
       "                                            geometry  num_jobs   jobs_sq_mi  \\\n",
       "0  POLYGON ((-122.24408 37.88322, -122.24198 37.8...       936   352.420702   \n",
       "1  POLYGON ((-122.24191 37.85181, -122.24202 37.8...      1357  5902.539292   \n",
       "2  POLYGON ((-122.24590 37.84500, -122.25241 37.8...      1978  4628.459515   \n",
       "\n",
       "   num_pop_jobs  popjobs_sq_mi  \n",
       "0          4056    1527.156374  \n",
       "1          3364   14632.381857  \n",
       "2          7029   16447.645061  "
      ]
     },
     "execution_count": 39,
     "metadata": {},
     "output_type": "execute_result"
    }
   ],
   "source": [
    "tract_pop_employ.head(3)"
   ]
  },
  {
   "cell_type": "code",
   "execution_count": 40,
   "id": "e903fe3e-d11a-4ffc-ba49-f3c17341b18d",
   "metadata": {},
   "outputs": [],
   "source": [
    "tract_pop_employ = tract_pop_employ.to_crs(\n",
    "                        shared_utils.geography_utils.CA_NAD83Albers)"
   ]
  },
  {
   "cell_type": "code",
   "execution_count": 41,
   "id": "a537924a-e0c2-4891-8411-c2def360a0b5",
   "metadata": {},
   "outputs": [
    {
     "data": {
      "text/plain": [
       "<Derived Projected CRS: EPSG:3310>\n",
       "Name: NAD83 / California Albers\n",
       "Axis Info [cartesian]:\n",
       "- X[east]: Easting (metre)\n",
       "- Y[north]: Northing (metre)\n",
       "Area of Use:\n",
       "- name: United States (USA) - California.\n",
       "- bounds: (-124.45, 32.53, -114.12, 42.01)\n",
       "Coordinate Operation:\n",
       "- name: California Albers\n",
       "- method: Albers Equal Area\n",
       "Datum: North American Datum 1983\n",
       "- Ellipsoid: GRS 1980\n",
       "- Prime Meridian: Greenwich"
      ]
     },
     "execution_count": 41,
     "metadata": {},
     "output_type": "execute_result"
    }
   ],
   "source": [
    "tract_pop_employ.crs"
   ]
  },
  {
   "cell_type": "code",
   "execution_count": 42,
   "id": "cebdb00f-bc02-41ad-b55b-dfa9bca50ce0",
   "metadata": {},
   "outputs": [],
   "source": [
    "## option to filter out large tracts (not useful access data...)\n",
    "## 4 sq km threshold\n",
    "tract_pop_employ['under_4_sq_km'] = tract_pop_employ.geometry.area < 4e+06"
   ]
  },
  {
   "cell_type": "code",
   "execution_count": 43,
   "id": "41468f14-bf8b-4514-985a-c91b599af6c3",
   "metadata": {},
   "outputs": [
    {
     "data": {
      "text/html": [
       "<div>\n",
       "<style scoped>\n",
       "    .dataframe tbody tr th:only-of-type {\n",
       "        vertical-align: middle;\n",
       "    }\n",
       "\n",
       "    .dataframe tbody tr th {\n",
       "        vertical-align: top;\n",
       "    }\n",
       "\n",
       "    .dataframe thead th {\n",
       "        text-align: right;\n",
       "    }\n",
       "</style>\n",
       "<table border=\"1\" class=\"dataframe\">\n",
       "  <thead>\n",
       "    <tr style=\"text-align: right;\">\n",
       "      <th></th>\n",
       "      <th>under_4_sq_km</th>\n",
       "      <th>jobs</th>\n",
       "    </tr>\n",
       "  </thead>\n",
       "  <tbody>\n",
       "    <tr>\n",
       "      <th>0</th>\n",
       "      <td>False</td>\n",
       "      <td>6770495</td>\n",
       "    </tr>\n",
       "    <tr>\n",
       "      <th>1</th>\n",
       "      <td>True</td>\n",
       "      <td>10386412</td>\n",
       "    </tr>\n",
       "  </tbody>\n",
       "</table>\n",
       "</div>"
      ],
      "text/plain": [
       "   under_4_sq_km      jobs\n",
       "0          False   6770495\n",
       "1           True  10386412"
      ]
     },
     "execution_count": 43,
     "metadata": {},
     "output_type": "execute_result"
    }
   ],
   "source": [
    "tract_pop_employ >> group_by('under_4_sq_km') >> summarize(jobs = _.num_jobs.sum())"
   ]
  },
  {
   "cell_type": "code",
   "execution_count": 44,
   "id": "e2a71360-e912-48d3-96fe-2e4bb2717867",
   "metadata": {},
   "outputs": [],
   "source": [
    "## filter out large tracts\n",
    "tract_pop_employ = tract_pop_employ >> filter(_.under_4_sq_km)"
   ]
  },
  {
   "cell_type": "code",
   "execution_count": 45,
   "id": "402b13fb-77ee-4700-a75a-12383875d46c",
   "metadata": {},
   "outputs": [],
   "source": [
    "all_employment_joined = (tract_pop_employ\n",
    "                    .sjoin(all_stops, how='inner', predicate='intersects')\n",
    "                    .drop_duplicates(subset=['Tract'])\n",
    "                   )"
   ]
  },
  {
   "cell_type": "code",
   "execution_count": 46,
   "id": "fc0af318-e877-485c-b755-2ad95508a1ac",
   "metadata": {},
   "outputs": [],
   "source": [
    "accessible_employment_joined = (tract_pop_employ\n",
    "                    .sjoin(accessible_stops_trips, how='inner', predicate='intersects')\n",
    "                    .drop_duplicates(subset=['Tract'])\n",
    "                   )"
   ]
  },
  {
   "cell_type": "code",
   "execution_count": 47,
   "id": "0f484883-fe96-4e61-a723-1749ddf967c5",
   "metadata": {},
   "outputs": [
    {
     "data": {
      "text/plain": [
       "73.19"
      ]
     },
     "execution_count": 47,
     "metadata": {},
     "output_type": "execute_result"
    }
   ],
   "source": [
    "((all_employment_joined.geometry.area.sum() / tract_pop_employ.geometry.area.sum()) * 100).round(2)"
   ]
  },
  {
   "cell_type": "code",
   "execution_count": 48,
   "id": "25f4049b-2274-495b-ac24-f9cc89cdc00e",
   "metadata": {},
   "outputs": [
    {
     "data": {
      "text/plain": [
       "8.11"
      ]
     },
     "execution_count": 48,
     "metadata": {},
     "output_type": "execute_result"
    }
   ],
   "source": [
    "((accessible_employment_joined.geometry.area.sum() / tract_pop_employ.geometry.area.sum()) * 100).round(2)"
   ]
  },
  {
   "cell_type": "code",
   "execution_count": 49,
   "id": "b252d537-58ee-45b8-9881-74f40f44c16e",
   "metadata": {},
   "outputs": [
    {
     "data": {
      "text/plain": [
       "8.06"
      ]
     },
     "execution_count": 49,
     "metadata": {},
     "output_type": "execute_result"
    }
   ],
   "source": [
    "((accessible_employment_joined.Population.sum() / tract_pop_employ.Population.sum()) * 100).round(2)"
   ]
  },
  {
   "cell_type": "code",
   "execution_count": 50,
   "id": "318fa079-7faf-4332-9332-ac29e817419c",
   "metadata": {},
   "outputs": [
    {
     "data": {
      "text/plain": [
       "74.92"
      ]
     },
     "execution_count": 50,
     "metadata": {},
     "output_type": "execute_result"
    }
   ],
   "source": [
    "((all_employment_joined.Population.sum() / tract_pop_employ.Population.sum()) * 100).round(2)"
   ]
  },
  {
   "cell_type": "markdown",
   "id": "2926fb87-07da-45b4-ad8a-db18bb6a26d4",
   "metadata": {},
   "source": [
    "## Sandbox"
   ]
  },
  {
   "cell_type": "code",
   "execution_count": 51,
   "id": "60867f18-19ef-4aa7-afd3-39b0f4c17826",
   "metadata": {},
   "outputs": [],
   "source": [
    "import calitp.magics"
   ]
  },
  {
   "cell_type": "code",
   "execution_count": 56,
   "id": "d73b9abc-d0cc-4d1a-9447-0b9e390ea970",
   "metadata": {
    "tags": []
   },
   "outputs": [],
   "source": [
    "%%capture\n",
    "%%sql -o feed_extract_date\n",
    "\n",
    "SELECT\n",
    "    *,\n",
    "    PARSE_DATE(\n",
    "      '%Y-%m-%d',\n",
    "      REGEXP_EXTRACT(_FILE_NAME, \".*/([0-9]+-[0-9]+-[0-9]+)\")\n",
    "    ) AS extract_date\n",
    "FROM gtfs_schedule_history.calitp_feeds_raw"
   ]
  },
  {
   "cell_type": "code",
   "execution_count": 57,
   "id": "bde24975-7a72-43f0-9c15-bf584a445299",
   "metadata": {},
   "outputs": [],
   "source": [
    "latest = feed_extract_date >> filter(_.extract_date == _.extract_date.max())"
   ]
  },
  {
   "cell_type": "code",
   "execution_count": 58,
   "id": "bd4fa852-a9f1-4cd6-8c21-62f0cca55d05",
   "metadata": {},
   "outputs": [],
   "source": [
    "rt_complete = latest >> filter(-_.gtfs_rt_vehicle_positions_url.isna(),\n",
    "                              -_.gtfs_rt_service_alerts_url.isna(),\n",
    "                              -_.gtfs_rt_trip_updates_url.isna())"
   ]
  },
  {
   "cell_type": "code",
   "execution_count": 59,
   "id": "14106a8c-c8d2-4a39-a372-111771905c64",
   "metadata": {},
   "outputs": [
    {
     "data": {
      "text/html": [
       "<div>\n",
       "<style scoped>\n",
       "    .dataframe tbody tr th:only-of-type {\n",
       "        vertical-align: middle;\n",
       "    }\n",
       "\n",
       "    .dataframe tbody tr th {\n",
       "        vertical-align: top;\n",
       "    }\n",
       "\n",
       "    .dataframe thead th {\n",
       "        text-align: right;\n",
       "    }\n",
       "</style>\n",
       "<table border=\"1\" class=\"dataframe\">\n",
       "  <thead>\n",
       "    <tr style=\"text-align: right;\">\n",
       "      <th></th>\n",
       "      <th>itp_id</th>\n",
       "      <th>url_number</th>\n",
       "      <th>agency_handle</th>\n",
       "      <th>agency_name</th>\n",
       "      <th>gtfs_schedule_url</th>\n",
       "      <th>gtfs_rt_vehicle_positions_url</th>\n",
       "      <th>gtfs_rt_service_alerts_url</th>\n",
       "      <th>gtfs_rt_trip_updates_url</th>\n",
       "      <th>extract_date</th>\n",
       "    </tr>\n",
       "  </thead>\n",
       "  <tbody>\n",
       "    <tr>\n",
       "      <th>103</th>\n",
       "      <td>200</td>\n",
       "      <td>0</td>\n",
       "      <td>metropolitan-transportation-commission</td>\n",
       "      <td>MTC 511</td>\n",
       "      <td>http://api.511.org/transit/datafeeds?api_key={...</td>\n",
       "      <td>http://api.511.org/transit/vehiclepositions?ap...</td>\n",
       "      <td>http://api.511.org/transit/servicealerts?api_k...</td>\n",
       "      <td>http://api.511.org/transit/tripupdates?api_key...</td>\n",
       "      <td>2021-12-15</td>\n",
       "    </tr>\n",
       "    <tr>\n",
       "      <th>798</th>\n",
       "      <td>257</td>\n",
       "      <td>0</td>\n",
       "      <td>presidigo</td>\n",
       "      <td>PresidiGo</td>\n",
       "      <td>https://presidiobus.com/gtfs</td>\n",
       "      <td>https://presidiobus.net/gtfs-rt/vehiclepositions</td>\n",
       "      <td>https://presidiobus.net/gtfs-rt/alerts</td>\n",
       "      <td>https://presidiobus.net/gtfs-rt/tripupdates</td>\n",
       "      <td>2021-12-15</td>\n",
       "    </tr>\n",
       "    <tr>\n",
       "      <th>1122</th>\n",
       "      <td>4</td>\n",
       "      <td>0</td>\n",
       "      <td>ac-transit</td>\n",
       "      <td>AC Transit</td>\n",
       "      <td>https://api.actransit.org/transit/gtfs/downloa...</td>\n",
       "      <td>https://api.actransit.org/gtfsrt/vehicles?toke...</td>\n",
       "      <td>https://api.actransit.org/gtfsrt/alerts?token=...</td>\n",
       "      <td>https://api.actransit.org/gtfsrt/tripupdates?t...</td>\n",
       "      <td>2021-12-15</td>\n",
       "    </tr>\n",
       "    <tr>\n",
       "      <th>2580</th>\n",
       "      <td>269</td>\n",
       "      <td>0</td>\n",
       "      <td>riverside-transit-agency</td>\n",
       "      <td>Riverside Transit Agency</td>\n",
       "      <td>https://www.riversidetransit.com/google_transi...</td>\n",
       "      <td>https://rtabus.com/gtfsrt/vehicles</td>\n",
       "      <td>https://rtabus.com/gtfsrt/alerts</td>\n",
       "      <td>https://rtabus.com/gtfsrt/trips</td>\n",
       "      <td>2021-12-15</td>\n",
       "    </tr>\n",
       "    <tr>\n",
       "      <th>4872</th>\n",
       "      <td>280</td>\n",
       "      <td>0</td>\n",
       "      <td>san-francisco-bay-ferry</td>\n",
       "      <td>San Francisco Bay Ferry</td>\n",
       "      <td>http://data.trilliumtransit.com/gtfs/sfbayferr...</td>\n",
       "      <td>http://api.511.org/transit/vehiclepositions?ap...</td>\n",
       "      <td>http://api.511.org/transit/servicealerts?api_k...</td>\n",
       "      <td>http://api.511.org/transit/tripupdates?api_key...</td>\n",
       "      <td>2021-12-15</td>\n",
       "    </tr>\n",
       "    <tr>\n",
       "      <th>5172</th>\n",
       "      <td>281</td>\n",
       "      <td>0</td>\n",
       "      <td>san-fransisco-international-airport</td>\n",
       "      <td>San Francisco International Airport</td>\n",
       "      <td>http://api.511.org/transit/datafeeds?api_key={...</td>\n",
       "      <td>http://api.511.org/transit/vehiclepositions?ap...</td>\n",
       "      <td>http://api.511.org/transit/servicealerts?api_k...</td>\n",
       "      <td>http://api.511.org/transit/tripupdates?api_key...</td>\n",
       "      <td>2021-12-15</td>\n",
       "    </tr>\n",
       "    <tr>\n",
       "      <th>6654</th>\n",
       "      <td>290</td>\n",
       "      <td>0</td>\n",
       "      <td>samtrans</td>\n",
       "      <td>SamTrans</td>\n",
       "      <td>http://www.samtrans.com/Assets/GTFS/samtrans/S...</td>\n",
       "      <td>http://api.511.org/transit/vehiclepositions?ap...</td>\n",
       "      <td>http://api.511.org/transit/servicealerts?api_k...</td>\n",
       "      <td>http://api.511.org/transit/tripupdates?api_key...</td>\n",
       "      <td>2021-12-15</td>\n",
       "    </tr>\n",
       "    <tr>\n",
       "      <th>7440</th>\n",
       "      <td>293</td>\n",
       "      <td>0</td>\n",
       "      <td>santa-barbara-metropolitan-transit-district</td>\n",
       "      <td>Santa Barbara Metropolitan Transit District</td>\n",
       "      <td>http://sbmtd.gov/google_transit/feed.zip</td>\n",
       "      <td>https://bustracker.sbmtd.gov/gtfsrt/vehicles</td>\n",
       "      <td>https://bustracker.sbmtd.gov/gtfsrt/alerts</td>\n",
       "      <td>https://bustracker.sbmtd.gov/gtfsrt/trips</td>\n",
       "      <td>2021-12-15</td>\n",
       "    </tr>\n",
       "    <tr>\n",
       "      <th>7602</th>\n",
       "      <td>294</td>\n",
       "      <td>0</td>\n",
       "      <td>santa-clara-valley-transportation-authority</td>\n",
       "      <td>Santa Clara Valley Transportation Authority</td>\n",
       "      <td>https://gtfs.vta.org/gtfs_vta.zip</td>\n",
       "      <td>http://api.511.org/transit/vehiclepositions?ap...</td>\n",
       "      <td>http://api.511.org/transit/servicealerts?api_k...</td>\n",
       "      <td>http://api.511.org/transit/tripupdates?api_key...</td>\n",
       "      <td>2021-12-15</td>\n",
       "    </tr>\n",
       "    <tr>\n",
       "      <th>7764</th>\n",
       "      <td>295</td>\n",
       "      <td>0</td>\n",
       "      <td>santa-clarita-transit</td>\n",
       "      <td>Santa Clarita Transit</td>\n",
       "      <td>http://apps.santaclaritatransit.com/rtt/public...</td>\n",
       "      <td>http://apps.santaclaritatransit.com/rtt/public...</td>\n",
       "      <td>http://apps.santaclaritatransit.com/rtt/public...</td>\n",
       "      <td>http://apps.santaclaritatransit.com/rtt/public...</td>\n",
       "      <td>2021-12-15</td>\n",
       "    </tr>\n",
       "    <tr>\n",
       "      <th>8574</th>\n",
       "      <td>300</td>\n",
       "      <td>0</td>\n",
       "      <td>big-blue-bus</td>\n",
       "      <td>Big Blue Bus</td>\n",
       "      <td>http://gtfs.bigbluebus.com/current.zip</td>\n",
       "      <td>http://gtfs.bigbluebus.com/vehiclepositions.bin</td>\n",
       "      <td>http://gtfs.bigbluebus.com/alerts.bin</td>\n",
       "      <td>http://gtfs.bigbluebus.com/tripupdates.bin</td>\n",
       "      <td>2021-12-15</td>\n",
       "    </tr>\n",
       "    <tr>\n",
       "      <th>8736</th>\n",
       "      <td>45</td>\n",
       "      <td>0</td>\n",
       "      <td>burbank-bus</td>\n",
       "      <td>Burbank Bus</td>\n",
       "      <td>https://rideburbankbus.com/gtfs</td>\n",
       "      <td>https://rideburbankbus.com/gtfs-rt/vehicleposi...</td>\n",
       "      <td>https://rideburbankbus.com/gtfs-rt/tripupdates</td>\n",
       "      <td>https://rideburbankbus.com/gtfs-rt/alerts</td>\n",
       "      <td>2021-12-15</td>\n",
       "    </tr>\n",
       "    <tr>\n",
       "      <th>8898</th>\n",
       "      <td>301</td>\n",
       "      <td>0</td>\n",
       "      <td>santa-rosa-citybus</td>\n",
       "      <td>Santa Rosa CityBus</td>\n",
       "      <td>http://api.511.org/transit/datafeeds?api_key={...</td>\n",
       "      <td>http://api.511.org/transit/vehiclepositions?ap...</td>\n",
       "      <td>http://api.511.org/transit/servicealerts?api_k...</td>\n",
       "      <td>http://api.511.org/transit/tripupdates?api_key...</td>\n",
       "      <td>2021-12-15</td>\n",
       "    </tr>\n",
       "    <tr>\n",
       "      <th>9894</th>\n",
       "      <td>310</td>\n",
       "      <td>0</td>\n",
       "      <td>soltrans</td>\n",
       "      <td>SolTrans</td>\n",
       "      <td>http://data.trilliumtransit.com/gtfs/soltrans-...</td>\n",
       "      <td>http://api.511.org/transit/vehiclepositions?ap...</td>\n",
       "      <td>http://api.511.org/transit/servicealerts?api_k...</td>\n",
       "      <td>http://api.511.org/transit/tripupdates?api_key...</td>\n",
       "      <td>2021-12-15</td>\n",
       "    </tr>\n",
       "    <tr>\n",
       "      <th>12300</th>\n",
       "      <td>75</td>\n",
       "      <td>0</td>\n",
       "      <td>commerce-municipal-bus-lines</td>\n",
       "      <td>Commerce Municipal Bus Lines</td>\n",
       "      <td>https://citycommbus.com/gtfs</td>\n",
       "      <td>https://citycommbus.com/gtfs-rt/vehiclepositions</td>\n",
       "      <td>https://citycommbus.com/gtfs-rt/alerts</td>\n",
       "      <td>https://citycommbus.com/gtfs-rt/tripupdates</td>\n",
       "      <td>2021-12-15</td>\n",
       "    </tr>\n",
       "    <tr>\n",
       "      <th>13126</th>\n",
       "      <td>336</td>\n",
       "      <td>0</td>\n",
       "      <td>tri-delta-transit</td>\n",
       "      <td>Tri Delta Transit</td>\n",
       "      <td>http://api.511.org/transit/datafeeds?api_key={...</td>\n",
       "      <td>http://api.511.org/transit/vehiclepositions?ap...</td>\n",
       "      <td>http://api.511.org/transit/servicealerts?api_k...</td>\n",
       "      <td>http://api.511.org/transit/tripupdates?api_key...</td>\n",
       "      <td>2021-12-15</td>\n",
       "    </tr>\n",
       "    <tr>\n",
       "      <th>15587</th>\n",
       "      <td>350</td>\n",
       "      <td>0</td>\n",
       "      <td>union-city-transit</td>\n",
       "      <td>Union City Transit</td>\n",
       "      <td>https://data.trilliumtransit.com/gtfs/unioncit...</td>\n",
       "      <td>http://api.511.org/transit/vehiclepositions?ap...</td>\n",
       "      <td>http://api.511.org/transit/servicealerts?api_k...</td>\n",
       "      <td>http://api.511.org/transit/tripupdates?api_key...</td>\n",
       "      <td>2021-12-15</td>\n",
       "    </tr>\n",
       "    <tr>\n",
       "      <th>16211</th>\n",
       "      <td>98</td>\n",
       "      <td>0</td>\n",
       "      <td>dumbarton-express</td>\n",
       "      <td>Dumbarton Express</td>\n",
       "      <td>http://api.511.org/transit/datafeeds?api_key={...</td>\n",
       "      <td>http://api.511.org/transit/vehiclepositions?ap...</td>\n",
       "      <td>http://api.511.org/transit/servicealerts?api_k...</td>\n",
       "      <td>http://api.511.org/transit/tripupdates?api_key...</td>\n",
       "      <td>2021-12-15</td>\n",
       "    </tr>\n",
       "    <tr>\n",
       "      <th>17183</th>\n",
       "      <td>361</td>\n",
       "      <td>0</td>\n",
       "      <td>visalia-transit</td>\n",
       "      <td>Visalia Transit</td>\n",
       "      <td>https://visaliatransit.info/GTFS</td>\n",
       "      <td>https://visaliatransit.info/gtfs-rt/vehiclepos...</td>\n",
       "      <td>https://visaliatransit.info/gtfs-rt/alerts</td>\n",
       "      <td>https://visaliatransit.info/gtfs-rt/tripupdates</td>\n",
       "      <td>2021-12-15</td>\n",
       "    </tr>\n",
       "    <tr>\n",
       "      <th>17369</th>\n",
       "      <td>106</td>\n",
       "      <td>0</td>\n",
       "      <td>emery-go-round</td>\n",
       "      <td>Emery Go-Round</td>\n",
       "      <td>http://data.trilliumtransit.com/gtfs/emerygoro...</td>\n",
       "      <td>http://api.511.org/transit/vehiclepositions?ap...</td>\n",
       "      <td>http://api.511.org/transit/servicealerts?api_k...</td>\n",
       "      <td>http://api.511.org/transit/tripupdates?api_key...</td>\n",
       "      <td>2021-12-15</td>\n",
       "    </tr>\n",
       "    <tr>\n",
       "      <th>17855</th>\n",
       "      <td>110</td>\n",
       "      <td>0</td>\n",
       "      <td>fairfield-and-suisun-transit</td>\n",
       "      <td>Fairfield and Suisun Transit</td>\n",
       "      <td>http://data.trilliumtransit.com/gtfs/fairfield...</td>\n",
       "      <td>http://api.511.org/transit/vehiclepositions?ap...</td>\n",
       "      <td>http://api.511.org/transit/servicealerts?api_k...</td>\n",
       "      <td>http://api.511.org/transit/tripupdates?api_key...</td>\n",
       "      <td>2021-12-15</td>\n",
       "    </tr>\n",
       "    <tr>\n",
       "      <th>20423</th>\n",
       "      <td>126</td>\n",
       "      <td>0</td>\n",
       "      <td>get-bus</td>\n",
       "      <td>GET Bus</td>\n",
       "      <td>http://eta.getbus.org/rtt/public/utility/gtfs....</td>\n",
       "      <td>http://get.connexionz.net/rtt/public/utility/g...</td>\n",
       "      <td>http://get.connexionz.net/rtt/public/utility/g...</td>\n",
       "      <td>http://get.connexionz.net/rtt/public/utility/g...</td>\n",
       "      <td>2021-12-15</td>\n",
       "    </tr>\n",
       "    <tr>\n",
       "      <th>22877</th>\n",
       "      <td>167</td>\n",
       "      <td>0</td>\n",
       "      <td>tri-valley-wheels</td>\n",
       "      <td>Tri-Valley Wheels</td>\n",
       "      <td>https://www.wheelsbus.com/wp-content/uploads/2...</td>\n",
       "      <td>http://api.511.org/transit/vehiclepositions?ap...</td>\n",
       "      <td>http://api.511.org/transit/servicealerts?api_k...</td>\n",
       "      <td>http://api.511.org/transit/tripupdates?api_key...</td>\n",
       "      <td>2021-12-15</td>\n",
       "    </tr>\n",
       "    <tr>\n",
       "      <th>23501</th>\n",
       "      <td>170</td>\n",
       "      <td>0</td>\n",
       "      <td>long-beach-transit</td>\n",
       "      <td>Long Beach Transit</td>\n",
       "      <td>https://lbtransit.box.com/shared/static/aoyesk...</td>\n",
       "      <td>http://206.128.158.171/TMGTFSRealTimeWebServic...</td>\n",
       "      <td>http://206.128.158.171/TMGTFSRealTimeWebServic...</td>\n",
       "      <td>http://206.128.158.171/TMGTFSRealTimeWebServic...</td>\n",
       "      <td>2021-12-15</td>\n",
       "    </tr>\n",
       "    <tr>\n",
       "      <th>25445</th>\n",
       "      <td>183</td>\n",
       "      <td>0</td>\n",
       "      <td>ladot</td>\n",
       "      <td>Los Angeles Department of Transportation</td>\n",
       "      <td>https://ladotbus.com/gtfs</td>\n",
       "      <td>https://ladotbus.com/gtfs-rt/vehiclepositions</td>\n",
       "      <td>https://ladotbus.com/gtfs-rt/alerts</td>\n",
       "      <td>https://ladotbus.com/gtfs-rt/tripupdates</td>\n",
       "      <td>2021-12-15</td>\n",
       "    </tr>\n",
       "    <tr>\n",
       "      <th>26255</th>\n",
       "      <td>194</td>\n",
       "      <td>0</td>\n",
       "      <td>marin-transit</td>\n",
       "      <td>Marin Transit</td>\n",
       "      <td>http://marintransit.org/data/google_transit.zip</td>\n",
       "      <td>https://marintransit.net/gtfs-rt/vehiclepositions</td>\n",
       "      <td>https://marintransit.net/gtfs-rt/alerts</td>\n",
       "      <td>https://marintransit.net/gtfs-rt/tripupdates</td>\n",
       "      <td>2021-12-15</td>\n",
       "    </tr>\n",
       "    <tr>\n",
       "      <th>26903</th>\n",
       "      <td>203</td>\n",
       "      <td>0</td>\n",
       "      <td>modesto-area-express</td>\n",
       "      <td>Modesto Area Express</td>\n",
       "      <td>https://www.modestoareaexpress.com/preview-gtf...</td>\n",
       "      <td>http://max.availtec.com/InfoPoint/GTFS-Realtim...</td>\n",
       "      <td>http://max.availtec.com/InfoPoint/GTFS-Realtim...</td>\n",
       "      <td>http://max.availtec.com/InfoPoint/GTFS-Realtim...</td>\n",
       "      <td>2021-12-15</td>\n",
       "    </tr>\n",
       "    <tr>\n",
       "      <th>27551</th>\n",
       "      <td>208</td>\n",
       "      <td>0</td>\n",
       "      <td>monterey-salinas-transit</td>\n",
       "      <td>Monterey-Salinas Transit</td>\n",
       "      <td>http://www.mst.org/google/google_transit.zip</td>\n",
       "      <td>http://206.128.158.191/TMGTFSRealTimeWebServic...</td>\n",
       "      <td>http://206.128.158.191/TMGTFSRealTimeWebServic...</td>\n",
       "      <td>http://206.128.158.191/TMGTFSRealTimeWebServic...</td>\n",
       "      <td>2021-12-15</td>\n",
       "    </tr>\n",
       "    <tr>\n",
       "      <th>28199</th>\n",
       "      <td>217</td>\n",
       "      <td>0</td>\n",
       "      <td>mvgo</td>\n",
       "      <td>MVGO</td>\n",
       "      <td>http://data.trilliumtransit.com/gtfs/mountainv...</td>\n",
       "      <td>https://ridemvgo.net/gtfs-rt/vehiclepositions</td>\n",
       "      <td>https://ridemvgo.net/gtfs-rt/alerts</td>\n",
       "      <td>https://ridemvgo.net/gtfs-rt/tripupdates</td>\n",
       "      <td>2021-12-15</td>\n",
       "    </tr>\n",
       "    <tr>\n",
       "      <th>29657</th>\n",
       "      <td>235</td>\n",
       "      <td>0</td>\n",
       "      <td>orange-county-transportation-authority</td>\n",
       "      <td>Orange County Transportation Authority</td>\n",
       "      <td>https://octa.net/current/google_transit.zip</td>\n",
       "      <td>http://api.octa.net/GTFSRealTime/protoBuf/Vehi...</td>\n",
       "      <td>http://api.octa.net/GTFSRealTime/protoBuf/serv...</td>\n",
       "      <td>http://api.octa.net/GTFSRealTime/protoBuf/trip...</td>\n",
       "      <td>2021-12-15</td>\n",
       "    </tr>\n",
       "    <tr>\n",
       "      <th>30143</th>\n",
       "      <td>243</td>\n",
       "      <td>0</td>\n",
       "      <td>pasadena-transit</td>\n",
       "      <td>Pasadena Transit</td>\n",
       "      <td>http://rt.pasadenatransit.net/rtt/public/utili...</td>\n",
       "      <td>http://rt.pasadenatransit.net/rtt/public/utili...</td>\n",
       "      <td>http://rt.pasadenatransit.net/rtt/public/utili...</td>\n",
       "      <td>http://rt.pasadenatransit.net/rtt/public/utili...</td>\n",
       "      <td>2021-12-15</td>\n",
       "    </tr>\n",
       "  </tbody>\n",
       "</table>\n",
       "</div>"
      ],
      "text/plain": [
       "       itp_id  url_number                                agency_handle  \\\n",
       "103       200           0       metropolitan-transportation-commission   \n",
       "798       257           0                                    presidigo   \n",
       "1122        4           0                                   ac-transit   \n",
       "2580      269           0                     riverside-transit-agency   \n",
       "4872      280           0                      san-francisco-bay-ferry   \n",
       "5172      281           0          san-fransisco-international-airport   \n",
       "6654      290           0                                     samtrans   \n",
       "7440      293           0  santa-barbara-metropolitan-transit-district   \n",
       "7602      294           0  santa-clara-valley-transportation-authority   \n",
       "7764      295           0                        santa-clarita-transit   \n",
       "8574      300           0                                 big-blue-bus   \n",
       "8736       45           0                                  burbank-bus   \n",
       "8898      301           0                           santa-rosa-citybus   \n",
       "9894      310           0                                     soltrans   \n",
       "12300      75           0                 commerce-municipal-bus-lines   \n",
       "13126     336           0                            tri-delta-transit   \n",
       "15587     350           0                           union-city-transit   \n",
       "16211      98           0                            dumbarton-express   \n",
       "17183     361           0                              visalia-transit   \n",
       "17369     106           0                               emery-go-round   \n",
       "17855     110           0                 fairfield-and-suisun-transit   \n",
       "20423     126           0                                      get-bus   \n",
       "22877     167           0                            tri-valley-wheels   \n",
       "23501     170           0                           long-beach-transit   \n",
       "25445     183           0                                        ladot   \n",
       "26255     194           0                                marin-transit   \n",
       "26903     203           0                         modesto-area-express   \n",
       "27551     208           0                     monterey-salinas-transit   \n",
       "28199     217           0                                         mvgo   \n",
       "29657     235           0       orange-county-transportation-authority   \n",
       "30143     243           0                             pasadena-transit   \n",
       "\n",
       "                                       agency_name  \\\n",
       "103                                        MTC 511   \n",
       "798                                      PresidiGo   \n",
       "1122                                    AC Transit   \n",
       "2580                      Riverside Transit Agency   \n",
       "4872                       San Francisco Bay Ferry   \n",
       "5172           San Francisco International Airport   \n",
       "6654                                      SamTrans   \n",
       "7440   Santa Barbara Metropolitan Transit District   \n",
       "7602   Santa Clara Valley Transportation Authority   \n",
       "7764                         Santa Clarita Transit   \n",
       "8574                                  Big Blue Bus   \n",
       "8736                                   Burbank Bus   \n",
       "8898                            Santa Rosa CityBus   \n",
       "9894                                      SolTrans   \n",
       "12300                 Commerce Municipal Bus Lines   \n",
       "13126                            Tri Delta Transit   \n",
       "15587                           Union City Transit   \n",
       "16211                            Dumbarton Express   \n",
       "17183                              Visalia Transit   \n",
       "17369                               Emery Go-Round   \n",
       "17855                 Fairfield and Suisun Transit   \n",
       "20423                                      GET Bus   \n",
       "22877                            Tri-Valley Wheels   \n",
       "23501                           Long Beach Transit   \n",
       "25445     Los Angeles Department of Transportation   \n",
       "26255                                Marin Transit   \n",
       "26903                         Modesto Area Express   \n",
       "27551                     Monterey-Salinas Transit   \n",
       "28199                                         MVGO   \n",
       "29657       Orange County Transportation Authority   \n",
       "30143                             Pasadena Transit   \n",
       "\n",
       "                                       gtfs_schedule_url  \\\n",
       "103    http://api.511.org/transit/datafeeds?api_key={...   \n",
       "798                         https://presidiobus.com/gtfs   \n",
       "1122   https://api.actransit.org/transit/gtfs/downloa...   \n",
       "2580   https://www.riversidetransit.com/google_transi...   \n",
       "4872   http://data.trilliumtransit.com/gtfs/sfbayferr...   \n",
       "5172   http://api.511.org/transit/datafeeds?api_key={...   \n",
       "6654   http://www.samtrans.com/Assets/GTFS/samtrans/S...   \n",
       "7440            http://sbmtd.gov/google_transit/feed.zip   \n",
       "7602                   https://gtfs.vta.org/gtfs_vta.zip   \n",
       "7764   http://apps.santaclaritatransit.com/rtt/public...   \n",
       "8574              http://gtfs.bigbluebus.com/current.zip   \n",
       "8736                     https://rideburbankbus.com/gtfs   \n",
       "8898   http://api.511.org/transit/datafeeds?api_key={...   \n",
       "9894   http://data.trilliumtransit.com/gtfs/soltrans-...   \n",
       "12300                       https://citycommbus.com/gtfs   \n",
       "13126  http://api.511.org/transit/datafeeds?api_key={...   \n",
       "15587  https://data.trilliumtransit.com/gtfs/unioncit...   \n",
       "16211  http://api.511.org/transit/datafeeds?api_key={...   \n",
       "17183                   https://visaliatransit.info/GTFS   \n",
       "17369  http://data.trilliumtransit.com/gtfs/emerygoro...   \n",
       "17855  http://data.trilliumtransit.com/gtfs/fairfield...   \n",
       "20423  http://eta.getbus.org/rtt/public/utility/gtfs....   \n",
       "22877  https://www.wheelsbus.com/wp-content/uploads/2...   \n",
       "23501  https://lbtransit.box.com/shared/static/aoyesk...   \n",
       "25445                          https://ladotbus.com/gtfs   \n",
       "26255    http://marintransit.org/data/google_transit.zip   \n",
       "26903  https://www.modestoareaexpress.com/preview-gtf...   \n",
       "27551       http://www.mst.org/google/google_transit.zip   \n",
       "28199  http://data.trilliumtransit.com/gtfs/mountainv...   \n",
       "29657        https://octa.net/current/google_transit.zip   \n",
       "30143  http://rt.pasadenatransit.net/rtt/public/utili...   \n",
       "\n",
       "                           gtfs_rt_vehicle_positions_url  \\\n",
       "103    http://api.511.org/transit/vehiclepositions?ap...   \n",
       "798     https://presidiobus.net/gtfs-rt/vehiclepositions   \n",
       "1122   https://api.actransit.org/gtfsrt/vehicles?toke...   \n",
       "2580                  https://rtabus.com/gtfsrt/vehicles   \n",
       "4872   http://api.511.org/transit/vehiclepositions?ap...   \n",
       "5172   http://api.511.org/transit/vehiclepositions?ap...   \n",
       "6654   http://api.511.org/transit/vehiclepositions?ap...   \n",
       "7440        https://bustracker.sbmtd.gov/gtfsrt/vehicles   \n",
       "7602   http://api.511.org/transit/vehiclepositions?ap...   \n",
       "7764   http://apps.santaclaritatransit.com/rtt/public...   \n",
       "8574     http://gtfs.bigbluebus.com/vehiclepositions.bin   \n",
       "8736   https://rideburbankbus.com/gtfs-rt/vehicleposi...   \n",
       "8898   http://api.511.org/transit/vehiclepositions?ap...   \n",
       "9894   http://api.511.org/transit/vehiclepositions?ap...   \n",
       "12300   https://citycommbus.com/gtfs-rt/vehiclepositions   \n",
       "13126  http://api.511.org/transit/vehiclepositions?ap...   \n",
       "15587  http://api.511.org/transit/vehiclepositions?ap...   \n",
       "16211  http://api.511.org/transit/vehiclepositions?ap...   \n",
       "17183  https://visaliatransit.info/gtfs-rt/vehiclepos...   \n",
       "17369  http://api.511.org/transit/vehiclepositions?ap...   \n",
       "17855  http://api.511.org/transit/vehiclepositions?ap...   \n",
       "20423  http://get.connexionz.net/rtt/public/utility/g...   \n",
       "22877  http://api.511.org/transit/vehiclepositions?ap...   \n",
       "23501  http://206.128.158.171/TMGTFSRealTimeWebServic...   \n",
       "25445      https://ladotbus.com/gtfs-rt/vehiclepositions   \n",
       "26255  https://marintransit.net/gtfs-rt/vehiclepositions   \n",
       "26903  http://max.availtec.com/InfoPoint/GTFS-Realtim...   \n",
       "27551  http://206.128.158.191/TMGTFSRealTimeWebServic...   \n",
       "28199      https://ridemvgo.net/gtfs-rt/vehiclepositions   \n",
       "29657  http://api.octa.net/GTFSRealTime/protoBuf/Vehi...   \n",
       "30143  http://rt.pasadenatransit.net/rtt/public/utili...   \n",
       "\n",
       "                              gtfs_rt_service_alerts_url  \\\n",
       "103    http://api.511.org/transit/servicealerts?api_k...   \n",
       "798               https://presidiobus.net/gtfs-rt/alerts   \n",
       "1122   https://api.actransit.org/gtfsrt/alerts?token=...   \n",
       "2580                    https://rtabus.com/gtfsrt/alerts   \n",
       "4872   http://api.511.org/transit/servicealerts?api_k...   \n",
       "5172   http://api.511.org/transit/servicealerts?api_k...   \n",
       "6654   http://api.511.org/transit/servicealerts?api_k...   \n",
       "7440          https://bustracker.sbmtd.gov/gtfsrt/alerts   \n",
       "7602   http://api.511.org/transit/servicealerts?api_k...   \n",
       "7764   http://apps.santaclaritatransit.com/rtt/public...   \n",
       "8574               http://gtfs.bigbluebus.com/alerts.bin   \n",
       "8736      https://rideburbankbus.com/gtfs-rt/tripupdates   \n",
       "8898   http://api.511.org/transit/servicealerts?api_k...   \n",
       "9894   http://api.511.org/transit/servicealerts?api_k...   \n",
       "12300             https://citycommbus.com/gtfs-rt/alerts   \n",
       "13126  http://api.511.org/transit/servicealerts?api_k...   \n",
       "15587  http://api.511.org/transit/servicealerts?api_k...   \n",
       "16211  http://api.511.org/transit/servicealerts?api_k...   \n",
       "17183         https://visaliatransit.info/gtfs-rt/alerts   \n",
       "17369  http://api.511.org/transit/servicealerts?api_k...   \n",
       "17855  http://api.511.org/transit/servicealerts?api_k...   \n",
       "20423  http://get.connexionz.net/rtt/public/utility/g...   \n",
       "22877  http://api.511.org/transit/servicealerts?api_k...   \n",
       "23501  http://206.128.158.171/TMGTFSRealTimeWebServic...   \n",
       "25445                https://ladotbus.com/gtfs-rt/alerts   \n",
       "26255            https://marintransit.net/gtfs-rt/alerts   \n",
       "26903  http://max.availtec.com/InfoPoint/GTFS-Realtim...   \n",
       "27551  http://206.128.158.191/TMGTFSRealTimeWebServic...   \n",
       "28199                https://ridemvgo.net/gtfs-rt/alerts   \n",
       "29657  http://api.octa.net/GTFSRealTime/protoBuf/serv...   \n",
       "30143  http://rt.pasadenatransit.net/rtt/public/utili...   \n",
       "\n",
       "                                gtfs_rt_trip_updates_url extract_date  \n",
       "103    http://api.511.org/transit/tripupdates?api_key...   2021-12-15  \n",
       "798          https://presidiobus.net/gtfs-rt/tripupdates   2021-12-15  \n",
       "1122   https://api.actransit.org/gtfsrt/tripupdates?t...   2021-12-15  \n",
       "2580                     https://rtabus.com/gtfsrt/trips   2021-12-15  \n",
       "4872   http://api.511.org/transit/tripupdates?api_key...   2021-12-15  \n",
       "5172   http://api.511.org/transit/tripupdates?api_key...   2021-12-15  \n",
       "6654   http://api.511.org/transit/tripupdates?api_key...   2021-12-15  \n",
       "7440           https://bustracker.sbmtd.gov/gtfsrt/trips   2021-12-15  \n",
       "7602   http://api.511.org/transit/tripupdates?api_key...   2021-12-15  \n",
       "7764   http://apps.santaclaritatransit.com/rtt/public...   2021-12-15  \n",
       "8574          http://gtfs.bigbluebus.com/tripupdates.bin   2021-12-15  \n",
       "8736           https://rideburbankbus.com/gtfs-rt/alerts   2021-12-15  \n",
       "8898   http://api.511.org/transit/tripupdates?api_key...   2021-12-15  \n",
       "9894   http://api.511.org/transit/tripupdates?api_key...   2021-12-15  \n",
       "12300        https://citycommbus.com/gtfs-rt/tripupdates   2021-12-15  \n",
       "13126  http://api.511.org/transit/tripupdates?api_key...   2021-12-15  \n",
       "15587  http://api.511.org/transit/tripupdates?api_key...   2021-12-15  \n",
       "16211  http://api.511.org/transit/tripupdates?api_key...   2021-12-15  \n",
       "17183    https://visaliatransit.info/gtfs-rt/tripupdates   2021-12-15  \n",
       "17369  http://api.511.org/transit/tripupdates?api_key...   2021-12-15  \n",
       "17855  http://api.511.org/transit/tripupdates?api_key...   2021-12-15  \n",
       "20423  http://get.connexionz.net/rtt/public/utility/g...   2021-12-15  \n",
       "22877  http://api.511.org/transit/tripupdates?api_key...   2021-12-15  \n",
       "23501  http://206.128.158.171/TMGTFSRealTimeWebServic...   2021-12-15  \n",
       "25445           https://ladotbus.com/gtfs-rt/tripupdates   2021-12-15  \n",
       "26255       https://marintransit.net/gtfs-rt/tripupdates   2021-12-15  \n",
       "26903  http://max.availtec.com/InfoPoint/GTFS-Realtim...   2021-12-15  \n",
       "27551  http://206.128.158.191/TMGTFSRealTimeWebServic...   2021-12-15  \n",
       "28199           https://ridemvgo.net/gtfs-rt/tripupdates   2021-12-15  \n",
       "29657  http://api.octa.net/GTFSRealTime/protoBuf/trip...   2021-12-15  \n",
       "30143  http://rt.pasadenatransit.net/rtt/public/utili...   2021-12-15  "
      ]
     },
     "execution_count": 59,
     "metadata": {},
     "output_type": "execute_result"
    }
   ],
   "source": [
    "rt_complete"
   ]
  },
  {
   "cell_type": "code",
   "execution_count": null,
   "id": "607ab041-2305-4511-a572-707f8c6537e2",
   "metadata": {},
   "outputs": [],
   "source": []
  }
 ],
 "metadata": {
  "kernelspec": {
   "display_name": "Python 3 (ipykernel)",
   "language": "python",
   "name": "python3"
  },
  "language_info": {
   "codemirror_mode": {
    "name": "ipython",
    "version": 3
   },
   "file_extension": ".py",
   "mimetype": "text/x-python",
   "name": "python",
   "nbconvert_exporter": "python",
   "pygments_lexer": "ipython3",
   "version": "3.9.7"
  }
 },
 "nbformat": 4,
 "nbformat_minor": 5
}
