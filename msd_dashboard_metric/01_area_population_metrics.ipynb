{
 "cells": [
  {
   "cell_type": "code",
   "execution_count": 1,
   "id": "1e265c3d-d876-41fa-b864-19fd5d70c203",
   "metadata": {},
   "outputs": [
    {
     "name": "stderr",
     "output_type": "stream",
     "text": [
      "/opt/conda/lib/python3.9/site-packages/geopandas/_compat.py:111: UserWarning: The Shapely GEOS version (3.9.1-CAPI-1.14.2) is incompatible with the GEOS version PyGEOS was compiled with (3.10.1-CAPI-1.16.0). Conversions between both will be slow.\n",
      "  warnings.warn(\n"
     ]
    }
   ],
   "source": [
    "import pandas as pd\n",
    "import geopandas as gpd\n",
    "\n",
    "import shared_utils\n",
    "from utils import *\n",
    "import intake\n",
    "import gcsfs\n",
    "\n",
    "import calitp\n",
    "from calitp.tables import tbl\n",
    "from siuba import *\n",
    "\n",
    "from ipyleaflet import Map, GeoJSON, projections, basemaps, GeoData, LayersControl, WidgetControl, GeoJSON, LegendControl\n",
    "from ipywidgets import Text, HTML"
   ]
  },
  {
   "cell_type": "code",
   "execution_count": 2,
   "id": "5463cbce-1aa4-45ff-93b2-1bd96d120a94",
   "metadata": {},
   "outputs": [],
   "source": [
    "catalog = intake.open_catalog('./catalog.yml')"
   ]
  },
  {
   "cell_type": "markdown",
   "id": "34cb4ba3-117c-4a20-a1a4-c98b7aad9cdc",
   "metadata": {},
   "source": [
    "# Accessible Transit Metrics"
   ]
  },
  {
   "cell_type": "markdown",
   "id": "639dd482-463f-480d-9181-76cb532f8b3c",
   "metadata": {},
   "source": [
    "### New Accessibilty Metric (Area)\n",
    "\n",
    "The % of non-water area of California that is within 1/4 mi of a bus stop or 1 mi of a ferry/rail stop that is explicitly wheelchair accessible (and if in a station, that station has explicit pathways coding), and that has is served by a public-funded, open to the general public transit service with GTFS Schedule data that is served by a service that is explicitly wheelchair accessible"
   ]
  },
  {
   "cell_type": "markdown",
   "id": "58521b9e-6ae7-42e4-b0e8-8565a5de796c",
   "metadata": {},
   "source": [
    "### New Accessibility Metric (Population)\n",
    "\n",
    " The % of Californians that are within 1/4 mi of a bus stop or 1 mi of a ferry/rail stop that is explicitly wheelchair accessible (and if in a station, that station has explicit pathways coding), and that has is served by a public-funded, open to the general public transit service with GTFS Schedule data that is served by a service that is explicitly wheelchair accessible"
   ]
  },
  {
   "cell_type": "markdown",
   "id": "85d1087a-359b-4f4e-b8f2-f5e2ed1fb140",
   "metadata": {},
   "source": [
    "### Notes and Caveats:\n",
    "\n",
    "* The vast majority of accessible services don't appear to provide accessibility data in GTFS\n",
    "* Pathways appears to be empty in data warehouse for now..."
   ]
  },
  {
   "cell_type": "code",
   "execution_count": 3,
   "id": "8890b880-6a42-4544-9173-cfcb795eeb87",
   "metadata": {},
   "outputs": [],
   "source": [
    "total_pop_var = 'B01001_001E'"
   ]
  },
  {
   "cell_type": "code",
   "execution_count": 4,
   "id": "b00f500a-a2a7-4b9f-ab19-d6619c5039b0",
   "metadata": {},
   "outputs": [],
   "source": [
    "## can hit Census API limits with frequent runs?\n",
    "\n",
    "# blockgrp_pop = get_census_ca_counties(total_pop_var, 'block%20group')\n",
    "# blockgrp_pop = blockgrp_pop.rename(columns={'B01001_001E': 'block_grp_pop',\n",
    "#                                            'block group': 'block_grp'})"
   ]
  },
  {
   "cell_type": "code",
   "execution_count": 5,
   "id": "7ebe259f-3371-4e23-a979-60a392f76950",
   "metadata": {},
   "outputs": [],
   "source": [
    "## read pre-fetched 2019 ACS data from catalog\n",
    "blockgrp_pop = (catalog.ca_bg_population.read()\n",
    "                .rename(columns={'block group': 'block_grp',\n",
    "                                'population': 'block_grp_pop'})\n",
    "                .astype({'block_grp_pop': 'int64', 'state': 'int64',\n",
    "                        'county': 'int64', 'tract': 'int64',\n",
    "                        'block_grp': 'int64'})\n",
    "               )"
   ]
  },
  {
   "cell_type": "code",
   "execution_count": 6,
   "id": "ae24c2b3-1f01-4977-a4ca-210dad8743ab",
   "metadata": {},
   "outputs": [],
   "source": [
    "# blockgrp_pop.head(3)"
   ]
  },
  {
   "cell_type": "code",
   "execution_count": 7,
   "id": "d8fade15-44c9-4967-8012-1517b9f5b66d",
   "metadata": {},
   "outputs": [
    {
     "name": "stderr",
     "output_type": "stream",
     "text": [
      "/opt/conda/lib/python3.9/site-packages/siuba/sql/utils.py:52: SAWarning: Dialect bigquery:bigquery will not make use of SQL compilation caching as it does not set the 'supports_statement_cache' attribute to ``True``.  This can have significant performance implications including some performance degradations in comparison to prior SQLAlchemy versions.  Dialect maintainers should seek to set this attribute to True after appropriate development and testing for SQLAlchemy 1.4 caching support.   Alternatively, this attribute may be set to False which will disable this warning. (Background on this error at: https://sqlalche.me/e/14/cprf)\n"
     ]
    }
   ],
   "source": [
    "accessible_stops_trips = get_stops_and_trips(filter_accessible = True)"
   ]
  },
  {
   "cell_type": "code",
   "execution_count": 8,
   "id": "ccd970ac-61ba-4656-94f7-a030aa6e3838",
   "metadata": {},
   "outputs": [],
   "source": [
    "# accessible_stops_trips.head(3)"
   ]
  },
  {
   "cell_type": "code",
   "execution_count": 9,
   "id": "6f86eafd-c93f-45a6-a0ed-490297e08456",
   "metadata": {},
   "outputs": [],
   "source": [
    "bus_route_types = ['3', '11']\n",
    "\n",
    "def buffer_by_route_type(row):\n",
    "    '''\n",
    "    Buffer bus stops by 400 meters (.25mi),\n",
    "    rail/ferry by 1600 meters (1mi)\n",
    "    '''\n",
    "    if row.route_type in bus_route_types:\n",
    "        row.geometry = row.geometry.buffer(400)\n",
    "    else:\n",
    "        row.geometry = row.geometry.buffer(1600)\n",
    "    return row"
   ]
  },
  {
   "cell_type": "code",
   "execution_count": 10,
   "id": "3658e76a-57eb-4e32-9d78-5e32f6f10e5f",
   "metadata": {},
   "outputs": [],
   "source": [
    "accessible_stops_trips = accessible_stops_trips.apply(buffer_by_route_type, axis=1)"
   ]
  },
  {
   "cell_type": "code",
   "execution_count": 11,
   "id": "ad119d7d-e792-40fb-bc5a-aef08fa32a10",
   "metadata": {},
   "outputs": [],
   "source": [
    "# ca_block_geo = get_ca_block_group_geo()"
   ]
  },
  {
   "cell_type": "code",
   "execution_count": 12,
   "id": "e2007663-9e9c-4707-b19d-414166be5861",
   "metadata": {},
   "outputs": [],
   "source": [
    "# shared_utils.utils.geoparquet_gcs_export(ca_block_geo, GCS_FILE_PATH,\n",
    "#                                          'ca_block_grp_clipped_prj')"
   ]
  },
  {
   "cell_type": "code",
   "execution_count": 13,
   "id": "1602137f-417a-4409-9198-14d34f8ce010",
   "metadata": {},
   "outputs": [],
   "source": [
    "ca_block_geo = gpd.read_parquet(f'{GCS_FILE_PATH}ca_block_grp_clipped_prj.parquet')\n",
    "ca_block_geo['area'] = ca_block_geo.geometry.area"
   ]
  },
  {
   "cell_type": "code",
   "execution_count": 14,
   "id": "b55c6aa4-38f6-435f-abd3-348f90da7c74",
   "metadata": {},
   "outputs": [],
   "source": [
    "ca_block_geo = ca_block_geo.astype({'STATEFP': 'int64',\n",
    "                                            'COUNTYFP': 'int64',\n",
    "                                            'TRACTCE': 'int64',\n",
    "                                            'BLKGRPCE': 'int64'})\n",
    "ca_block_geo = ca_block_geo.rename(columns={'STATEFP': 'state',\n",
    "                                                   'COUNTYFP': 'county',\n",
    "                                                   'TRACTCE': 'tract',\n",
    "                                                   'BLKGRPCE': 'block_grp'})"
   ]
  },
  {
   "cell_type": "code",
   "execution_count": 15,
   "id": "f5a914c8-7254-4e06-b755-76a74de4f6f8",
   "metadata": {},
   "outputs": [],
   "source": [
    "ca_block_geo = ca_block_geo >> inner_join(_, blockgrp_pop, on = ['state', 'county', 'tract', 'block_grp'])"
   ]
  },
  {
   "cell_type": "code",
   "execution_count": 16,
   "id": "e842847b-f40a-48c2-8ca1-4745ee1a4679",
   "metadata": {},
   "outputs": [],
   "source": [
    "## drop large block groups (not useful access data...)\n",
    "## 4 sq km threshold\n",
    "ca_block_geo['under_4_sq_km'] = ca_block_geo.area < 4e+06\n",
    "ca_block_geo_filtered = ca_block_geo >> filter(_.under_4_sq_km)"
   ]
  },
  {
   "cell_type": "code",
   "execution_count": 17,
   "id": "5801fb18-15a8-46a5-bea9-93b212db2384",
   "metadata": {},
   "outputs": [],
   "source": [
    "accessible_geo_joined = ca_block_geo_filtered.sjoin(accessible_stops_trips, how='inner', predicate='intersects')"
   ]
  },
  {
   "cell_type": "code",
   "execution_count": 18,
   "id": "b2ca867f-753f-40f9-a07d-82aa56411b3d",
   "metadata": {},
   "outputs": [],
   "source": [
    "accessible_geo_joined = accessible_geo_joined.drop_duplicates(subset=['GEOID'])"
   ]
  },
  {
   "cell_type": "code",
   "execution_count": 19,
   "id": "2538593c-f7f5-4cdb-80f6-289f4f448766",
   "metadata": {},
   "outputs": [
    {
     "data": {
      "text/html": [
       "<div>\n",
       "<style scoped>\n",
       "    .dataframe tbody tr th:only-of-type {\n",
       "        vertical-align: middle;\n",
       "    }\n",
       "\n",
       "    .dataframe tbody tr th {\n",
       "        vertical-align: top;\n",
       "    }\n",
       "\n",
       "    .dataframe thead th {\n",
       "        text-align: right;\n",
       "    }\n",
       "</style>\n",
       "<table border=\"1\" class=\"dataframe\">\n",
       "  <thead>\n",
       "    <tr style=\"text-align: right;\">\n",
       "      <th></th>\n",
       "      <th>state</th>\n",
       "      <th>county</th>\n",
       "      <th>tract</th>\n",
       "      <th>block_grp</th>\n",
       "      <th>GEOID</th>\n",
       "      <th>NAMELSAD</th>\n",
       "      <th>MTFCC</th>\n",
       "      <th>FUNCSTAT</th>\n",
       "      <th>ALAND</th>\n",
       "      <th>AWATER</th>\n",
       "      <th>...</th>\n",
       "      <th>under_4_sq_km</th>\n",
       "      <th>index_right</th>\n",
       "      <th>stop_id</th>\n",
       "      <th>route_type</th>\n",
       "      <th>stop_lon</th>\n",
       "      <th>stop_lat</th>\n",
       "      <th>calitp_itp_id</th>\n",
       "      <th>calitp_url_number</th>\n",
       "      <th>wheelchair_boarding</th>\n",
       "      <th>wheelchair_accessible</th>\n",
       "    </tr>\n",
       "  </thead>\n",
       "  <tbody>\n",
       "    <tr>\n",
       "      <th>0</th>\n",
       "      <td>6</td>\n",
       "      <td>73</td>\n",
       "      <td>10009</td>\n",
       "      <td>1</td>\n",
       "      <td>060730100091</td>\n",
       "      <td>Block Group 1</td>\n",
       "      <td>G5030</td>\n",
       "      <td>S</td>\n",
       "      <td>1759046</td>\n",
       "      <td>528681</td>\n",
       "      <td>...</td>\n",
       "      <td>True</td>\n",
       "      <td>6342</td>\n",
       "      <td>60594</td>\n",
       "      <td>3</td>\n",
       "      <td>-117.0483</td>\n",
       "      <td>32.553833</td>\n",
       "      <td>278</td>\n",
       "      <td>0</td>\n",
       "      <td>1</td>\n",
       "      <td>1</td>\n",
       "    </tr>\n",
       "    <tr>\n",
       "      <th>3</th>\n",
       "      <td>6</td>\n",
       "      <td>73</td>\n",
       "      <td>10009</td>\n",
       "      <td>3</td>\n",
       "      <td>060730100093</td>\n",
       "      <td>Block Group 3</td>\n",
       "      <td>G5030</td>\n",
       "      <td>S</td>\n",
       "      <td>707892</td>\n",
       "      <td>0</td>\n",
       "      <td>...</td>\n",
       "      <td>True</td>\n",
       "      <td>6342</td>\n",
       "      <td>60594</td>\n",
       "      <td>3</td>\n",
       "      <td>-117.0483</td>\n",
       "      <td>32.553833</td>\n",
       "      <td>278</td>\n",
       "      <td>0</td>\n",
       "      <td>1</td>\n",
       "      <td>1</td>\n",
       "    </tr>\n",
       "    <tr>\n",
       "      <th>4</th>\n",
       "      <td>6</td>\n",
       "      <td>73</td>\n",
       "      <td>10013</td>\n",
       "      <td>1</td>\n",
       "      <td>060730100131</td>\n",
       "      <td>Block Group 1</td>\n",
       "      <td>G5030</td>\n",
       "      <td>S</td>\n",
       "      <td>491924</td>\n",
       "      <td>0</td>\n",
       "      <td>...</td>\n",
       "      <td>True</td>\n",
       "      <td>6342</td>\n",
       "      <td>60594</td>\n",
       "      <td>3</td>\n",
       "      <td>-117.0483</td>\n",
       "      <td>32.553833</td>\n",
       "      <td>278</td>\n",
       "      <td>0</td>\n",
       "      <td>1</td>\n",
       "      <td>1</td>\n",
       "    </tr>\n",
       "  </tbody>\n",
       "</table>\n",
       "<p>3 rows × 26 columns</p>\n",
       "</div>"
      ],
      "text/plain": [
       "   state  county  tract  block_grp         GEOID       NAMELSAD  MTFCC  \\\n",
       "0      6      73  10009          1  060730100091  Block Group 1  G5030   \n",
       "3      6      73  10009          3  060730100093  Block Group 3  G5030   \n",
       "4      6      73  10013          1  060730100131  Block Group 1  G5030   \n",
       "\n",
       "  FUNCSTAT    ALAND  AWATER  ... under_4_sq_km index_right stop_id  \\\n",
       "0        S  1759046  528681  ...          True        6342   60594   \n",
       "3        S   707892       0  ...          True        6342   60594   \n",
       "4        S   491924       0  ...          True        6342   60594   \n",
       "\n",
       "   route_type  stop_lon   stop_lat  calitp_itp_id  calitp_url_number  \\\n",
       "0           3 -117.0483  32.553833            278                  0   \n",
       "3           3 -117.0483  32.553833            278                  0   \n",
       "4           3 -117.0483  32.553833            278                  0   \n",
       "\n",
       "  wheelchair_boarding wheelchair_accessible  \n",
       "0                   1                     1  \n",
       "3                   1                     1  \n",
       "4                   1                     1  \n",
       "\n",
       "[3 rows x 26 columns]"
      ]
     },
     "execution_count": 19,
     "metadata": {},
     "output_type": "execute_result"
    }
   ],
   "source": [
    "accessible_geo_joined.head(3)"
   ]
  },
  {
   "cell_type": "code",
   "execution_count": 20,
   "id": "093721d5-8d35-42f5-abde-24eec413a393",
   "metadata": {},
   "outputs": [],
   "source": [
    "def calculate_access_proportion(num_df, denom_df, col):\n",
    "    proportion = num_df[col].sum() / denom_df[col].sum()\n",
    "    percentage = (proportion * 100).round(2)\n",
    "    return percentage"
   ]
  },
  {
   "cell_type": "markdown",
   "id": "21c3904b-6dc8-41ee-8f19-73f5ad5c6b99",
   "metadata": {},
   "source": [
    "#### Current Percentage of CA population in block groups within .25mi of accessible transit"
   ]
  },
  {
   "cell_type": "code",
   "execution_count": 21,
   "id": "f5f5b8ba-8925-4810-8307-003c19ed6cdf",
   "metadata": {},
   "outputs": [
    {
     "data": {
      "text/plain": [
       "11.47"
      ]
     },
     "execution_count": 21,
     "metadata": {},
     "output_type": "execute_result"
    }
   ],
   "source": [
    "calculate_access_proportion(accessible_geo_joined, ca_block_geo_filtered, 'block_grp_pop')"
   ]
  },
  {
   "cell_type": "markdown",
   "id": "a8274aa7-6608-4a45-81cb-04d00a766358",
   "metadata": {},
   "source": [
    "#### Current Percentage of CA land area in block groups within .25mi of accessible transit"
   ]
  },
  {
   "cell_type": "code",
   "execution_count": 22,
   "id": "9f583f99-232c-484b-9907-8271a1fa93be",
   "metadata": {},
   "outputs": [
    {
     "data": {
      "text/plain": [
       "10.9"
      ]
     },
     "execution_count": 22,
     "metadata": {},
     "output_type": "execute_result"
    }
   ],
   "source": [
    "calculate_access_proportion(accessible_geo_joined, ca_block_geo_filtered, 'area')"
   ]
  },
  {
   "cell_type": "markdown",
   "id": "f18d84fc-a038-4d2c-8ebc-ac7481e9864b",
   "metadata": {},
   "source": [
    "### Map"
   ]
  },
  {
   "cell_type": "code",
   "execution_count": 23,
   "id": "55a36658-e188-4ef5-bf08-0fa0f9e7ec18",
   "metadata": {},
   "outputs": [],
   "source": [
    "# simple_map(accessible_geo_joined, 'calitp_itp_id')"
   ]
  },
  {
   "cell_type": "markdown",
   "id": "71b2a81b-f410-45f9-8cc9-62d32d2fadb3",
   "metadata": {},
   "source": [
    "#### Static Map (block groups near accessible transit, Bay Area)\n",
    "\n",
    "![bay area accessiblity](accessible.png)"
   ]
  },
  {
   "cell_type": "markdown",
   "id": "db73185f-6325-4c53-a8cd-fc908b3c2240",
   "metadata": {},
   "source": [
    "# General Transit Metrics"
   ]
  },
  {
   "cell_type": "markdown",
   "id": "28dcde4c-8970-43ae-9602-53a31058194f",
   "metadata": {},
   "source": [
    "### New General Metric (by area):\n",
    "\n",
    "The % of non-water area of Californian that is within 1/4 mi of a bus stop or 1 mi of a ferry/rail stop that has is served by a public-funded, open to the general public transit service with GTFS Schedule data\n"
   ]
  },
  {
   "cell_type": "markdown",
   "id": "885e26b2-69af-45f3-9319-7b14c1822b29",
   "metadata": {},
   "source": [
    "### New General Metric (by population):\n",
    "\n",
    "The % of Californians that live within 1/4 mi of a bus stop or 1 mi of a ferry/rail stop that has is served by a public-funded, open to the general public transit service with GTFS Schedule data\n"
   ]
  },
  {
   "cell_type": "code",
   "execution_count": 24,
   "id": "2e925197-037d-40d0-9d63-bbb8381a1ddb",
   "metadata": {},
   "outputs": [],
   "source": [
    "all_stops = get_stops_and_trips(filter_accessible = False)\n",
    "all_stops = all_stops.apply(buffer_by_route_type, axis=1)"
   ]
  },
  {
   "cell_type": "code",
   "execution_count": 1,
   "id": "e9462e5e-5ea8-4308-ab02-2ab8cd17f46b",
   "metadata": {},
   "outputs": [
    {
     "ename": "NameError",
     "evalue": "name 'ca_block_geo_filtered' is not defined",
     "output_type": "error",
     "traceback": [
      "\u001b[0;31m---------------------------------------------------------------------------\u001b[0m",
      "\u001b[0;31mNameError\u001b[0m                                 Traceback (most recent call last)",
      "Input \u001b[0;32mIn [1]\u001b[0m, in \u001b[0;36m<module>\u001b[0;34m\u001b[0m\n\u001b[0;32m----> 1\u001b[0m all_stops_joined \u001b[38;5;241m=\u001b[39m (\u001b[43mca_block_geo_filtered\u001b[49m\n\u001b[1;32m      2\u001b[0m                     \u001b[38;5;241m.\u001b[39msjoin(all_stops, how\u001b[38;5;241m=\u001b[39m\u001b[38;5;124m'\u001b[39m\u001b[38;5;124minner\u001b[39m\u001b[38;5;124m'\u001b[39m, predicate\u001b[38;5;241m=\u001b[39m\u001b[38;5;124m'\u001b[39m\u001b[38;5;124mintersects\u001b[39m\u001b[38;5;124m'\u001b[39m)\n\u001b[1;32m      3\u001b[0m                     \u001b[38;5;241m.\u001b[39mdrop_duplicates(subset\u001b[38;5;241m=\u001b[39m[\u001b[38;5;124m'\u001b[39m\u001b[38;5;124mGEOID\u001b[39m\u001b[38;5;124m'\u001b[39m])\n\u001b[1;32m      4\u001b[0m                    )\n",
      "\u001b[0;31mNameError\u001b[0m: name 'ca_block_geo_filtered' is not defined"
     ]
    }
   ],
   "source": [
    "all_stops_joined = (ca_block_geo_filtered\n",
    "                    .sjoin(all_stops, how='inner', predicate='intersects')\n",
    "                    .drop_duplicates(subset=['GEOID'])\n",
    "                   )"
   ]
  },
  {
   "cell_type": "code",
   "execution_count": null,
   "id": "b34809cf-aaff-4b11-ad99-f060d67c1536",
   "metadata": {},
   "outputs": [],
   "source": [
    "# all_stops_pop_joined = all_stops_joined >> inner_join(_, blockgrp_pop, on=['state', 'county', 'tract', 'block_grp'])"
   ]
  },
  {
   "cell_type": "markdown",
   "id": "2174bbf9-46d9-46f1-90e3-ed047f9a1329",
   "metadata": {},
   "source": [
    "#### Current Percentage of CA population in block groups near transit with GTFS Schedule data"
   ]
  },
  {
   "cell_type": "code",
   "execution_count": null,
   "id": "026ccfc7-64e6-40cb-8d04-481e016a03f0",
   "metadata": {},
   "outputs": [],
   "source": [
    "calculate_access_proportion(all_stops_joined, blockgrp_pop, 'block_grp_pop')"
   ]
  },
  {
   "cell_type": "markdown",
   "id": "2bf9502b-3b1f-4b75-bf36-cf989e7eb392",
   "metadata": {},
   "source": [
    "#### Current Percentage of CA land area in block groups near transit with GTFS Schedule data"
   ]
  },
  {
   "cell_type": "code",
   "execution_count": null,
   "id": "90bd4269-d9b2-4ccc-93fc-8d7a1099e6ce",
   "metadata": {},
   "outputs": [],
   "source": [
    "calculate_access_proportion(all_stops_joined, ca_block_geo_filtered, 'area')"
   ]
  },
  {
   "cell_type": "markdown",
   "id": "5b58402f-0773-430b-9466-090e90737113",
   "metadata": {},
   "source": [
    "## Employment Metrics"
   ]
  },
  {
   "cell_type": "code",
   "execution_count": null,
   "id": "d8b2d367-c019-494c-b42b-58c21bfb4380",
   "metadata": {},
   "outputs": [],
   "source": [
    "service_path = 'gs://calitp-analytics-data/data-analyses/bus_service_increase/'"
   ]
  },
  {
   "cell_type": "code",
   "execution_count": null,
   "id": "51cb0103-af8a-41de-881a-1d7f0cf7c39d",
   "metadata": {},
   "outputs": [],
   "source": [
    "## Read in processed df from bus_service_increase/B1\n",
    "tract_pop_employ = gpd.read_parquet(f'{service_path}bus_stop_times_by_tract.parquet')\n",
    "tract_pop_employ = tract_pop_employ >> select(-_.num_arrivals, -_.stop_id, -_.itp_id)"
   ]
  },
  {
   "cell_type": "code",
   "execution_count": null,
   "id": "5cfbfa16-dc4b-4d47-a7a6-7ad28c30bceb",
   "metadata": {},
   "outputs": [],
   "source": [
    "tract_pop_employ.head(3)"
   ]
  },
  {
   "cell_type": "code",
   "execution_count": null,
   "id": "e903fe3e-d11a-4ffc-ba49-f3c17341b18d",
   "metadata": {},
   "outputs": [],
   "source": [
    "tract_pop_employ = tract_pop_employ.to_crs(\n",
    "                        shared_utils.geography_utils.CA_NAD83Albers)\n",
    "tract_pop_employ['area'] = tract_pop_employ.geometry.area"
   ]
  },
  {
   "cell_type": "code",
   "execution_count": null,
   "id": "cebdb00f-bc02-41ad-b55b-dfa9bca50ce0",
   "metadata": {},
   "outputs": [],
   "source": [
    "## option to filter out large tracts (not useful access data...)\n",
    "## 4 sq km threshold\n",
    "tract_pop_employ['under_4_sq_km'] = tract_pop_employ.area < 4e+06"
   ]
  },
  {
   "cell_type": "code",
   "execution_count": null,
   "id": "41468f14-bf8b-4514-985a-c91b599af6c3",
   "metadata": {},
   "outputs": [],
   "source": [
    "job_density = tract_pop_employ >> group_by('under_4_sq_km') >> summarize(jobs = _.num_jobs.sum())\n",
    "job_density"
   ]
  },
  {
   "cell_type": "code",
   "execution_count": null,
   "id": "2b8ebb2a-5869-4b4a-9f61-2de6d014402c",
   "metadata": {},
   "outputs": [],
   "source": [
    "## about 60% of CA jobs are in tracts under 4 sq km (scope for this analysis)\n",
    "(job_density >> filter(_.under_4_sq_km) >> select(_.jobs)).sum() / (job_density >> select(_.jobs)).sum()"
   ]
  },
  {
   "cell_type": "code",
   "execution_count": null,
   "id": "e2a71360-e912-48d3-96fe-2e4bb2717867",
   "metadata": {},
   "outputs": [],
   "source": [
    "## filter out large tracts\n",
    "tract_pop_employ_filtered = tract_pop_employ >> filter(_.under_4_sq_km)"
   ]
  },
  {
   "cell_type": "code",
   "execution_count": null,
   "id": "402b13fb-77ee-4700-a75a-12383875d46c",
   "metadata": {},
   "outputs": [],
   "source": [
    "all_employment_joined = (tract_pop_employ_filtered\n",
    "                    .sjoin(all_stops, how='inner', predicate='intersects')\n",
    "                    .drop_duplicates(subset=['Tract'])\n",
    "                   )"
   ]
  },
  {
   "cell_type": "code",
   "execution_count": null,
   "id": "fc0af318-e877-485c-b755-2ad95508a1ac",
   "metadata": {},
   "outputs": [],
   "source": [
    "accessible_employment_joined = (tract_pop_employ_filtered\n",
    "                    .sjoin(accessible_stops_trips, how='inner', predicate='intersects')\n",
    "                    .drop_duplicates(subset=['Tract'])\n",
    "                   )"
   ]
  },
  {
   "cell_type": "code",
   "execution_count": null,
   "id": "963b05b7-b49f-4bdd-be4c-d154d4df6a2f",
   "metadata": {},
   "outputs": [],
   "source": [
    "## all stops employment access, jobs\n",
    "calculate_access_proportion(all_employment_joined, tract_pop_employ_filtered, 'num_jobs')"
   ]
  },
  {
   "cell_type": "code",
   "execution_count": null,
   "id": "b252d537-58ee-45b8-9881-74f40f44c16e",
   "metadata": {},
   "outputs": [],
   "source": [
    "## accessible stops employment access, jobs\n",
    "calculate_access_proportion(accessible_employment_joined, tract_pop_employ_filtered, 'num_jobs')"
   ]
  },
  {
   "cell_type": "markdown",
   "id": "2926fb87-07da-45b4-ad8a-db18bb6a26d4",
   "metadata": {},
   "source": [
    "## Adding RT Availability"
   ]
  },
  {
   "cell_type": "code",
   "execution_count": null,
   "id": "60867f18-19ef-4aa7-afd3-39b0f4c17826",
   "metadata": {},
   "outputs": [],
   "source": [
    "import calitp.magics"
   ]
  },
  {
   "cell_type": "code",
   "execution_count": null,
   "id": "d73b9abc-d0cc-4d1a-9447-0b9e390ea970",
   "metadata": {
    "tags": []
   },
   "outputs": [],
   "source": [
    "%%capture\n",
    "%%sql -o feed_extract_date\n",
    "\n",
    "SELECT\n",
    "    *,\n",
    "    PARSE_DATE(\n",
    "      '%Y-%m-%d',\n",
    "      REGEXP_EXTRACT(_FILE_NAME, \".*/([0-9]+-[0-9]+-[0-9]+)\")\n",
    "    ) AS extract_date\n",
    "FROM gtfs_schedule_history.calitp_feeds_raw"
   ]
  },
  {
   "cell_type": "code",
   "execution_count": null,
   "id": "bde24975-7a72-43f0-9c15-bf584a445299",
   "metadata": {},
   "outputs": [],
   "source": [
    "latest = feed_extract_date >> filter(_.extract_date == _.extract_date.max())"
   ]
  },
  {
   "cell_type": "code",
   "execution_count": null,
   "id": "bd4fa852-a9f1-4cd6-8c21-62f0cca55d05",
   "metadata": {},
   "outputs": [],
   "source": [
    "rt_complete = latest >> filter(-_.gtfs_rt_vehicle_positions_url.isna(),\n",
    "                              -_.gtfs_rt_service_alerts_url.isna(),\n",
    "                              -_.gtfs_rt_trip_updates_url.isna())"
   ]
  },
  {
   "cell_type": "code",
   "execution_count": null,
   "id": "14106a8c-c8d2-4a39-a372-111771905c64",
   "metadata": {},
   "outputs": [],
   "source": [
    "rt_complete = (rt_complete >> select(_.calitp_itp_id == _.itp_id, _.calitp_url_number == _.url_number))"
   ]
  },
  {
   "cell_type": "code",
   "execution_count": null,
   "id": "ed859435-a664-4fa7-ba14-6ace42663dac",
   "metadata": {},
   "outputs": [],
   "source": [
    "rt_complete.head(3)"
   ]
  },
  {
   "cell_type": "code",
   "execution_count": null,
   "id": "cacc6f08-0b6c-47bd-8c6b-9aacf838ea2b",
   "metadata": {},
   "outputs": [],
   "source": [
    "all_stops_rt = all_stops_joined >> inner_join(_, rt_complete, on =['calitp_itp_id', 'calitp_url_number'])"
   ]
  },
  {
   "cell_type": "code",
   "execution_count": null,
   "id": "1a65710e-782c-464b-9055-c8d506aa1aa6",
   "metadata": {},
   "outputs": [],
   "source": [
    "accessible_geo_joined = accessible_geo_joined.drop(columns=['index_right'])"
   ]
  },
  {
   "cell_type": "code",
   "execution_count": null,
   "id": "607ab041-2305-4511-a572-707f8c6537e2",
   "metadata": {},
   "outputs": [],
   "source": [
    "accessible_stops_trips_rt = accessible_geo_joined >> inner_join(_, rt_complete, on =['calitp_itp_id', 'calitp_url_number'])"
   ]
  },
  {
   "cell_type": "code",
   "execution_count": null,
   "id": "eeead995-7e01-4e90-93a3-29bbd712d6b8",
   "metadata": {},
   "outputs": [],
   "source": [
    "all_stops_rt = all_stops_rt.drop(columns=['index_right'])"
   ]
  },
  {
   "cell_type": "code",
   "execution_count": null,
   "id": "4293e2e6-08e3-460e-af87-ce437c3defd5",
   "metadata": {},
   "outputs": [],
   "source": [
    "acc_rt_employ = (tract_pop_employ\n",
    "                    .sjoin(accessible_stops_trips_rt, how='inner', predicate='intersects')\n",
    "                    .drop_duplicates(subset=['Tract'])\n",
    "                   )"
   ]
  },
  {
   "cell_type": "code",
   "execution_count": null,
   "id": "8a826ed8-c4f6-4996-ac5c-dfe3cf413571",
   "metadata": {},
   "outputs": [],
   "source": [
    "## accessible with RT stops employment access, population\n",
    "calculate_access_proportion(acc_rt_employ, tract_pop_employ_filtered, 'num_jobs')"
   ]
  },
  {
   "cell_type": "code",
   "execution_count": null,
   "id": "46531eec-578e-4b0d-8b54-78510fa68276",
   "metadata": {},
   "outputs": [],
   "source": [
    "all_rt_employ = (tract_pop_employ\n",
    "                    .sjoin(all_stops_rt, how='inner', predicate='intersects')\n",
    "                    .drop_duplicates(subset=['Tract'])\n",
    "                   )"
   ]
  },
  {
   "cell_type": "code",
   "execution_count": null,
   "id": "9e9ca43c-046f-4d78-be88-b57a1860d2c3",
   "metadata": {},
   "outputs": [],
   "source": [
    "## all RT stops employment access, population\n",
    "calculate_access_proportion(all_rt_employ, tract_pop_employ_filtered, 'num_jobs')"
   ]
  },
  {
   "cell_type": "markdown",
   "id": "085365b3-a822-48e2-bc49-d7e8228d27ac",
   "metadata": {},
   "source": [
    "#### Very few agencies with both RT and accessibility info"
   ]
  },
  {
   "cell_type": "code",
   "execution_count": null,
   "id": "ff21e9c2-120b-4108-8668-ae3357ae927f",
   "metadata": {},
   "outputs": [],
   "source": [
    "accessible_stops_trips_rt >> distinct(_.calitp_itp_id) >> inner_join(_, tbl.gtfs_schedule.agency() >> collect(), on = 'calitp_itp_id')"
   ]
  },
  {
   "cell_type": "code",
   "execution_count": null,
   "id": "7ea9efb3-61a4-410b-ac74-56c7dc98b15a",
   "metadata": {},
   "outputs": [],
   "source": [
    "row_metrics = {'Population': 'block_grp_pop', 'Land Area': 'area', 'Jobs': 'num_jobs'}\n",
    "col_geographies = {'GTFS Static': [all_stops_joined, all_employment_joined],\n",
    "                   'Accessible Static': [accessible_geo_joined, accessible_employment_joined],\n",
    "                   'GTFS RT': [all_stops_rt, all_rt_employ],\n",
    "                   'Accessible RT': [accessible_stops_trips_rt, acc_rt_employ]}"
   ]
  },
  {
   "cell_type": "code",
   "execution_count": null,
   "id": "0f545b0c-4be7-4639-8aa8-2d7e73ef8491",
   "metadata": {},
   "outputs": [],
   "source": [
    "summary_df = pd.DataFrame()\n",
    "\n",
    "for row in row_metrics.keys():\n",
    "    to_append = {}\n",
    "    if row == 'Jobs':\n",
    "        for col in col_geographies.keys():\n",
    "            metric = calculate_access_proportion(col_geographies[col][1], tract_pop_employ_filtered, row_metrics[row])\n",
    "            to_append[col] = metric\n",
    "    else:\n",
    "        for col in col_geographies.keys():\n",
    "            metric = calculate_access_proportion(col_geographies[col][0], ca_block_geo_filtered, row_metrics[row])\n",
    "            to_append[col] = metric\n",
    "    to_append = pd.DataFrame(to_append, index = [row])\n",
    "    summary_df = summary_df.append(to_append)    "
   ]
  },
  {
   "cell_type": "markdown",
   "id": "5c0a8b76-420c-4d16-b5d4-4ccedba1eefc",
   "metadata": {},
   "source": [
    "## Summary of all Metrics\n",
    "\n",
    "* Population metrics: percent of CA population within a block group near a qualifying transit stop, excluding block groups > 4 sq km\n",
    "* Land Area metrics: percent of CA land area made up of block groups near a qualifying transit stop, excluding block groups > 4 sq km\n",
    "* Employment metrics: percent of CA jobs in a census tract near a qualifying transit stop, excluding tracts > 4 sq km\n",
    "    * this currently means the analysis only looks at about 60% of CA jobs, it could be made more precise by pulling finer-grained employment data if desired\n",
    "    * likely makes transit look \"better\" than a job analysis of all jobs, since these urban/suburban tracts are probably more likely to have at least some transit service"
   ]
  },
  {
   "cell_type": "code",
   "execution_count": null,
   "id": "b93fb211-a4cc-438d-b7e5-e50ab9347cd1",
   "metadata": {},
   "outputs": [],
   "source": [
    "summary_df"
   ]
  },
  {
   "cell_type": "markdown",
   "id": "7cf4111f-7214-40dc-bd9c-455c088ce978",
   "metadata": {},
   "source": [
    "### Maps and Charts\n",
    "\n",
    "* maps should show for each metric:\n",
    "    * covered regions\n",
    "    * non-covered regions\n",
    "    * regions outsde analysis (large block groups and tracts)"
   ]
  },
  {
   "cell_type": "code",
   "execution_count": null,
   "id": "bf91d7ba-f618-430a-b4a3-21df43749a9c",
   "metadata": {
    "tags": []
   },
   "outputs": [],
   "source": [
    "m = simple_map(all_stops_joined.dissolve());"
   ]
  },
  {
   "cell_type": "code",
   "execution_count": null,
   "id": "0107b36c-65ea-433f-89fe-6c2ff8b2a041",
   "metadata": {},
   "outputs": [],
   "source": [
    "def make_geo_data(gdf, color):\n",
    "    geo_data = GeoData(geo_dataframe = gdf.to_crs('EPSG:4326'),\n",
    "                   style={'color': 'black', 'fillColor': color,\n",
    "                                'opacity':0.2, 'weight':.5, 'dashArray':'2', 'fillOpacity':0.3},\n",
    "                   hover_style={'fillColor': 'red' , 'fillOpacity': 0.3},\n",
    "                   name = 'data')\n",
    "    return geo_data"
   ]
  },
  {
   "cell_type": "code",
   "execution_count": null,
   "id": "f5ec09f6-f2bf-4de6-b1d4-1cca775c6133",
   "metadata": {},
   "outputs": [],
   "source": [
    "## dissolve geos first? (for speed)\n",
    "## quick function to append as seperate layers"
   ]
  },
  {
   "cell_type": "code",
   "execution_count": null,
   "id": "a506f154-703a-40ad-a9ca-b54d9d4d7d2d",
   "metadata": {},
   "outputs": [],
   "source": [
    "unserved = ca_block_geo >> anti_join(_, all_stops_joined, on = 'GEOID') >> filter(_.under_4_sq_km) ## in analysis, not served\n",
    "out = ca_block_geo >> filter(-_.under_4_sq_km) ## out of analysis scope (geo too large) #999999"
   ]
  },
  {
   "cell_type": "code",
   "execution_count": null,
   "id": "2db5ee4e-f973-44da-922f-8d89c93af4fc",
   "metadata": {},
   "outputs": [],
   "source": [
    "m.add_layer(make_geo_data(unserved.dissolve(), '#f1a340'))\n",
    "m.add_layer(make_geo_data(out.dissolve(), '#999999'))"
   ]
  },
  {
   "cell_type": "markdown",
   "id": "8fce2078-f989-4031-b712-46d405c5c804",
   "metadata": {},
   "source": [
    "### GTFS Schedule only\n",
    "\n",
    "![GTFS Schedule coverage](img/schedule.jpg)"
   ]
  },
  {
   "cell_type": "code",
   "execution_count": null,
   "id": "a121c405-b4bc-44c3-a613-fe7edcdd819f",
   "metadata": {
    "tags": []
   },
   "outputs": [],
   "source": [
    "m"
   ]
  },
  {
   "cell_type": "code",
   "execution_count": null,
   "id": "62486697-035c-4959-99be-9c0e404f9d6a",
   "metadata": {},
   "outputs": [],
   "source": [
    "m_accessible = simple_map(accessible_geo_joined.dissolve());\n",
    "unserved = ca_block_geo >> anti_join(_, accessible_geo_joined, on = 'GEOID') >> filter(_.under_4_sq_km) ## in analysis, not served\n",
    "m_accessible.add_layer(make_geo_data(unserved.dissolve(), '#f1a340'))\n",
    "m_accessible.add_layer(make_geo_data(out.dissolve(), '#999999'))"
   ]
  },
  {
   "cell_type": "markdown",
   "id": "8c7fc9ec-ead8-40ee-9923-af9cb066b2ef",
   "metadata": {},
   "source": [
    "### Accessible Trips (static)\n",
    "\n",
    "![accessible GTFS coverage](img/accessible.jpg)"
   ]
  },
  {
   "cell_type": "code",
   "execution_count": null,
   "id": "691f15f9-be37-42a4-b0be-f3d98d8e5bd9",
   "metadata": {},
   "outputs": [],
   "source": [
    "m_accessible"
   ]
  },
  {
   "cell_type": "code",
   "execution_count": null,
   "id": "c4835a56-b3ed-45bb-a499-0c4a5ce077fa",
   "metadata": {},
   "outputs": [],
   "source": [
    "m_rt = simple_map(all_stops_rt.dissolve());\n",
    "unserved = ca_block_geo >> anti_join(_, all_stops_rt, on = 'GEOID') >> filter(_.under_4_sq_km) ## in analysis, not served\n",
    "m_rt.add_layer(make_geo_data(unserved.dissolve(), '#f1a340'))\n",
    "m_rt.add_layer(make_geo_data(out.dissolve(), '#999999'))"
   ]
  },
  {
   "cell_type": "markdown",
   "id": "f8a7ec3e-e498-4916-984c-236c707aa487",
   "metadata": {},
   "source": [
    "### Trips by operators with GTFS-RT\n",
    "\n",
    "![rt operators](img/rt.jpg)"
   ]
  },
  {
   "cell_type": "code",
   "execution_count": null,
   "id": "34e025fd-b599-4d50-9952-73f20c1256d4",
   "metadata": {},
   "outputs": [],
   "source": [
    "m_rt"
   ]
  },
  {
   "cell_type": "code",
   "execution_count": null,
   "id": "c99d1db2-b1bf-41ba-b24e-0e71c0ef3b3e",
   "metadata": {},
   "outputs": [],
   "source": [
    "m_rt_access = simple_map(accessible_stops_trips_rt.dissolve());\n",
    "unserved = ca_block_geo >> anti_join(_, accessible_stops_trips_rt, on = 'GEOID') >> filter(_.under_4_sq_km) ## in analysis, not served\n",
    "m_rt_access.add_layer(make_geo_data(unserved.dissolve(), '#f1a340'))\n",
    "m_rt_access.add_layer(make_geo_data(out.dissolve(), '#999999'))"
   ]
  },
  {
   "cell_type": "markdown",
   "id": "ff5a0b45-115c-4e45-a280-3d5e1dffbd47",
   "metadata": {},
   "source": [
    "### Accessible Trips by operators with GTFS-RT\n",
    "\n",
    "![accessible trips, RT operator](img/rt_accessible.jpg)"
   ]
  },
  {
   "cell_type": "code",
   "execution_count": null,
   "id": "9c23225e-5168-4d4f-acd4-8a7036a28d5e",
   "metadata": {},
   "outputs": [],
   "source": [
    "m_rt_access"
   ]
  }
 ],
 "metadata": {
  "kernelspec": {
   "display_name": "Python 3 (ipykernel)",
   "language": "python",
   "name": "python3"
  },
  "language_info": {
   "codemirror_mode": {
    "name": "ipython",
    "version": 3
   },
   "file_extension": ".py",
   "mimetype": "text/x-python",
   "name": "python",
   "nbconvert_exporter": "python",
   "pygments_lexer": "ipython3",
   "version": "3.9.7"
  }
 },
 "nbformat": 4,
 "nbformat_minor": 5
}
