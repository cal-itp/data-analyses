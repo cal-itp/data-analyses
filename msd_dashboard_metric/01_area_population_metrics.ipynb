{
 "cells": [
  {
   "cell_type": "code",
   "execution_count": 63,
   "id": "1e265c3d-d876-41fa-b864-19fd5d70c203",
   "metadata": {},
   "outputs": [],
   "source": [
    "import pandas as pd\n",
    "import geopandas as gpd\n",
    "\n",
    "import shared_utils\n",
    "from utils import *\n",
    "import intake\n",
    "import gcsfs\n",
    "\n",
    "import calitp\n",
    "from calitp.tables import tbl\n",
    "from siuba import *\n",
    "\n",
    "from ipyleaflet import Map, GeoJSON, projections, basemaps, GeoData, LayersControl, WidgetControl, GeoJSON, LegendControl\n",
    "from ipywidgets import Text, HTML"
   ]
  },
  {
   "cell_type": "code",
   "execution_count": 2,
   "id": "093721d5-8d35-42f5-abde-24eec413a393",
   "metadata": {},
   "outputs": [],
   "source": [
    "def calculate_access_proportion(num_df, denom_df, col):\n",
    "    proportion = num_df[col].sum() / denom_df[col].sum()\n",
    "    percentage = (proportion * 100).round(2)\n",
    "    return percentage"
   ]
  },
  {
   "cell_type": "code",
   "execution_count": 3,
   "id": "c18d0464-038e-4bcc-9a09-dca05e2377ad",
   "metadata": {},
   "outputs": [],
   "source": [
    "bus_route_types = ['3', '11']\n",
    "\n",
    "def buffer_by_route_type(row):\n",
    "    '''\n",
    "    Buffer bus stops by 400 meters (.25mi),\n",
    "    rail/ferry by 1600 meters (1mi)\n",
    "    '''\n",
    "    if row.route_type in bus_route_types:\n",
    "        row.geometry = row.geometry.buffer(400)\n",
    "    else:\n",
    "        row.geometry = row.geometry.buffer(1600)\n",
    "    return row"
   ]
  },
  {
   "cell_type": "code",
   "execution_count": 4,
   "id": "5463cbce-1aa4-45ff-93b2-1bd96d120a94",
   "metadata": {},
   "outputs": [],
   "source": [
    "catalog = intake.open_catalog('./catalog.yml')"
   ]
  },
  {
   "cell_type": "code",
   "execution_count": 5,
   "id": "7b14bfb4-7831-4f78-b3c8-33b2bd0b3047",
   "metadata": {},
   "outputs": [],
   "source": [
    "shoreline_proj = catalog.stanford_shorelines.read().to_crs(shared_utils.geography_utils.CA_NAD83Albers)"
   ]
  },
  {
   "cell_type": "code",
   "execution_count": 6,
   "id": "8966c3bd-7a29-4d6c-90f1-9c6d8b7284e5",
   "metadata": {},
   "outputs": [],
   "source": [
    "ca_blocks = gpd.read_parquet(f'{GCS_FILE_PATH}/2020_tiger_block_geo.parquet')\n",
    "ca_blocks = (ca_blocks >> filter(_.ALAND20 > 10) ## remove water\n",
    "             >> select(_.county == _.COUNTYFP20, _.tract == _.TRACTCE20, _.block == _.BLOCKCE20,\n",
    "                               _.geo_id == _.GEOID20, _.geometry))\n",
    "ca_blocks = ca_blocks.to_crs(shared_utils.geography_utils.CA_NAD83Albers)"
   ]
  },
  {
   "cell_type": "code",
   "execution_count": 7,
   "id": "cbaf6b2e-82de-4874-89ae-7ab68d988231",
   "metadata": {
    "tags": []
   },
   "outputs": [
    {
     "data": {
      "text/html": [
       "<div>\n",
       "<style scoped>\n",
       "    .dataframe tbody tr th:only-of-type {\n",
       "        vertical-align: middle;\n",
       "    }\n",
       "\n",
       "    .dataframe tbody tr th {\n",
       "        vertical-align: top;\n",
       "    }\n",
       "\n",
       "    .dataframe thead th {\n",
       "        text-align: right;\n",
       "    }\n",
       "</style>\n",
       "<table border=\"1\" class=\"dataframe\">\n",
       "  <thead>\n",
       "    <tr style=\"text-align: right;\">\n",
       "      <th></th>\n",
       "      <th>county</th>\n",
       "      <th>tract</th>\n",
       "      <th>block</th>\n",
       "      <th>geo_id</th>\n",
       "      <th>geometry</th>\n",
       "    </tr>\n",
       "  </thead>\n",
       "  <tbody>\n",
       "    <tr>\n",
       "      <th>0</th>\n",
       "      <td>017</td>\n",
       "      <td>030706</td>\n",
       "      <td>3012</td>\n",
       "      <td>060170307063012</td>\n",
       "      <td>POLYGON ((-93795.217 73341.696, -93736.960 734...</td>\n",
       "    </tr>\n",
       "    <tr>\n",
       "      <th>1</th>\n",
       "      <td>017</td>\n",
       "      <td>030601</td>\n",
       "      <td>3006</td>\n",
       "      <td>060170306013006</td>\n",
       "      <td>POLYGON ((-88050.178 97425.705, -88049.410 974...</td>\n",
       "    </tr>\n",
       "    <tr>\n",
       "      <th>2</th>\n",
       "      <td>065</td>\n",
       "      <td>042628</td>\n",
       "      <td>4008</td>\n",
       "      <td>060650426284008</td>\n",
       "      <td>POLYGON ((257831.965 -463783.472, 257867.237 -...</td>\n",
       "    </tr>\n",
       "  </tbody>\n",
       "</table>\n",
       "</div>"
      ],
      "text/plain": [
       "  county   tract block           geo_id  \\\n",
       "0    017  030706  3012  060170307063012   \n",
       "1    017  030601  3006  060170306013006   \n",
       "2    065  042628  4008  060650426284008   \n",
       "\n",
       "                                            geometry  \n",
       "0  POLYGON ((-93795.217 73341.696, -93736.960 734...  \n",
       "1  POLYGON ((-88050.178 97425.705, -88049.410 974...  \n",
       "2  POLYGON ((257831.965 -463783.472, 257867.237 -...  "
      ]
     },
     "execution_count": 7,
     "metadata": {},
     "output_type": "execute_result"
    }
   ],
   "source": [
    "ca_blocks >> head(3)"
   ]
  },
  {
   "cell_type": "code",
   "execution_count": 8,
   "id": "466ac278-a624-40d8-861c-7a75c9464088",
   "metadata": {},
   "outputs": [],
   "source": [
    "ca_block_pop = catalog.ca_block_population.read()"
   ]
  },
  {
   "cell_type": "code",
   "execution_count": 9,
   "id": "5fa5be55-478e-4c9b-b888-0855e5b1771a",
   "metadata": {},
   "outputs": [],
   "source": [
    "ca_block_pop['GEO_ID'] = ca_block_pop.GEO_ID.apply(lambda x: x.split('US')[1])\n",
    "ca_block_pop = ca_block_pop >> select(_.geo_id == _.GEO_ID, _.block_pop == _.P1_001N)"
   ]
  },
  {
   "cell_type": "code",
   "execution_count": 10,
   "id": "80c6de17-bbec-4577-a9b3-c4cb6614b718",
   "metadata": {},
   "outputs": [
    {
     "data": {
      "text/html": [
       "<div>\n",
       "<style scoped>\n",
       "    .dataframe tbody tr th:only-of-type {\n",
       "        vertical-align: middle;\n",
       "    }\n",
       "\n",
       "    .dataframe tbody tr th {\n",
       "        vertical-align: top;\n",
       "    }\n",
       "\n",
       "    .dataframe thead th {\n",
       "        text-align: right;\n",
       "    }\n",
       "</style>\n",
       "<table border=\"1\" class=\"dataframe\">\n",
       "  <thead>\n",
       "    <tr style=\"text-align: right;\">\n",
       "      <th></th>\n",
       "      <th>geo_id</th>\n",
       "      <th>block_pop</th>\n",
       "    </tr>\n",
       "  </thead>\n",
       "  <tbody>\n",
       "    <tr>\n",
       "      <th>134075</th>\n",
       "      <td>060372653011006</td>\n",
       "      <td>8727</td>\n",
       "    </tr>\n",
       "    <tr>\n",
       "      <th>301621</th>\n",
       "      <td>060659810001003</td>\n",
       "      <td>5972</td>\n",
       "    </tr>\n",
       "    <tr>\n",
       "      <th>365951</th>\n",
       "      <td>060730094001036</td>\n",
       "      <td>5917</td>\n",
       "    </tr>\n",
       "  </tbody>\n",
       "</table>\n",
       "</div>"
      ],
      "text/plain": [
       "                 geo_id  block_pop\n",
       "134075  060372653011006       8727\n",
       "301621  060659810001003       5972\n",
       "365951  060730094001036       5917"
      ]
     },
     "execution_count": 10,
     "metadata": {},
     "output_type": "execute_result"
    }
   ],
   "source": [
    "ca_block_pop >> arrange(-_.block_pop) >> head(3)"
   ]
  },
  {
   "cell_type": "code",
   "execution_count": 11,
   "id": "392a8f59-f0af-421d-b5bc-c8551e775129",
   "metadata": {},
   "outputs": [],
   "source": [
    "ca_block_joined = ca_blocks >> inner_join(_, ca_block_pop, on='geo_id')"
   ]
  },
  {
   "cell_type": "code",
   "execution_count": 12,
   "id": "ba324ba0-e2ea-459b-999b-2f8f2fdd95b1",
   "metadata": {},
   "outputs": [
    {
     "data": {
      "text/html": [
       "<div>\n",
       "<style scoped>\n",
       "    .dataframe tbody tr th:only-of-type {\n",
       "        vertical-align: middle;\n",
       "    }\n",
       "\n",
       "    .dataframe tbody tr th {\n",
       "        vertical-align: top;\n",
       "    }\n",
       "\n",
       "    .dataframe thead th {\n",
       "        text-align: right;\n",
       "    }\n",
       "</style>\n",
       "<table border=\"1\" class=\"dataframe\">\n",
       "  <thead>\n",
       "    <tr style=\"text-align: right;\">\n",
       "      <th></th>\n",
       "      <th>county</th>\n",
       "      <th>tract</th>\n",
       "      <th>block</th>\n",
       "      <th>geo_id</th>\n",
       "      <th>geometry</th>\n",
       "      <th>block_pop</th>\n",
       "    </tr>\n",
       "  </thead>\n",
       "  <tbody>\n",
       "    <tr>\n",
       "      <th>0</th>\n",
       "      <td>017</td>\n",
       "      <td>030706</td>\n",
       "      <td>3012</td>\n",
       "      <td>060170307063012</td>\n",
       "      <td>POLYGON ((-93795.217 73341.696, -93736.960 734...</td>\n",
       "      <td>363</td>\n",
       "    </tr>\n",
       "    <tr>\n",
       "      <th>1</th>\n",
       "      <td>017</td>\n",
       "      <td>030601</td>\n",
       "      <td>3006</td>\n",
       "      <td>060170306013006</td>\n",
       "      <td>POLYGON ((-88050.178 97425.705, -88049.410 974...</td>\n",
       "      <td>64</td>\n",
       "    </tr>\n",
       "    <tr>\n",
       "      <th>2</th>\n",
       "      <td>065</td>\n",
       "      <td>042628</td>\n",
       "      <td>4008</td>\n",
       "      <td>060650426284008</td>\n",
       "      <td>POLYGON ((257831.965 -463783.472, 257867.237 -...</td>\n",
       "      <td>103</td>\n",
       "    </tr>\n",
       "  </tbody>\n",
       "</table>\n",
       "</div>"
      ],
      "text/plain": [
       "  county   tract block           geo_id  \\\n",
       "0    017  030706  3012  060170307063012   \n",
       "1    017  030601  3006  060170306013006   \n",
       "2    065  042628  4008  060650426284008   \n",
       "\n",
       "                                            geometry  block_pop  \n",
       "0  POLYGON ((-93795.217 73341.696, -93736.960 734...        363  \n",
       "1  POLYGON ((-88050.178 97425.705, -88049.410 974...         64  \n",
       "2  POLYGON ((257831.965 -463783.472, 257867.237 -...        103  "
      ]
     },
     "execution_count": 12,
     "metadata": {},
     "output_type": "execute_result"
    }
   ],
   "source": [
    "ca_block_joined >> head(3)"
   ]
  },
  {
   "cell_type": "code",
   "execution_count": 13,
   "id": "dc77ceb4-07a9-40b7-bdba-c30ef4798ed7",
   "metadata": {},
   "outputs": [],
   "source": [
    "# sf = ca_block_joined >> filter(_.county == '075')"
   ]
  },
  {
   "cell_type": "code",
   "execution_count": 14,
   "id": "c5c19018-41c5-411f-b35c-313d18d3f410",
   "metadata": {},
   "outputs": [],
   "source": [
    "# simple_map(sf, 'block')"
   ]
  },
  {
   "cell_type": "code",
   "execution_count": 15,
   "id": "034195db-4ecd-43dc-bf3d-9f93b260af9c",
   "metadata": {},
   "outputs": [],
   "source": [
    "ca_block_joined = ca_block_joined.astype({'county':'int64', 'tract':'int64', 'block':'int64', 'geo_id':'int64'})\n",
    "ca_block_joined['area'] = ca_block_joined.geometry.area\n",
    "ca_block_joined['geometry'] = ca_block_joined.geometry.simplify(tolerance=100)"
   ]
  },
  {
   "cell_type": "code",
   "execution_count": 16,
   "id": "922d7047-f705-4f9a-805b-912a0e893efc",
   "metadata": {},
   "outputs": [
    {
     "name": "stderr",
     "output_type": "stream",
     "text": [
      "/opt/conda/lib/python3.9/site-packages/siuba/sql/utils.py:52: SAWarning: Dialect bigquery:bigquery will not make use of SQL compilation caching as it does not set the 'supports_statement_cache' attribute to ``True``.  This can have significant performance implications including some performance degradations in comparison to prior SQLAlchemy versions.  Dialect maintainers should seek to set this attribute to True after appropriate development and testing for SQLAlchemy 1.4 caching support.   Alternatively, this attribute may be set to False which will disable this warning. (Background on this error at: https://sqlalche.me/e/14/cprf)\n"
     ]
    }
   ],
   "source": [
    "all_stops = get_stops_and_trips(filter_accessible = False)\n",
    "all_stops = all_stops.apply(buffer_by_route_type, axis=1)"
   ]
  },
  {
   "cell_type": "code",
   "execution_count": 17,
   "id": "53941d4a-5af7-4907-b9cf-637beec8efa2",
   "metadata": {},
   "outputs": [],
   "source": [
    "accessible_stops_trips = get_stops_and_trips(filter_accessible = True)\n",
    "accessible_stops_trips = accessible_stops_trips.apply(buffer_by_route_type, axis=1)"
   ]
  },
  {
   "cell_type": "markdown",
   "id": "2926fb87-07da-45b4-ad8a-db18bb6a26d4",
   "metadata": {},
   "source": [
    "## Adding RT Availability"
   ]
  },
  {
   "cell_type": "code",
   "execution_count": 18,
   "id": "60867f18-19ef-4aa7-afd3-39b0f4c17826",
   "metadata": {},
   "outputs": [],
   "source": [
    "import calitp.magics"
   ]
  },
  {
   "cell_type": "code",
   "execution_count": 19,
   "id": "d73b9abc-d0cc-4d1a-9447-0b9e390ea970",
   "metadata": {
    "tags": []
   },
   "outputs": [],
   "source": [
    "%%capture\n",
    "%%sql -o feed_extract_date\n",
    "\n",
    "SELECT\n",
    "    *,\n",
    "    PARSE_DATE(\n",
    "      '%Y-%m-%d',\n",
    "      REGEXP_EXTRACT(_FILE_NAME, \".*/([0-9]+-[0-9]+-[0-9]+)\")\n",
    "    ) AS extract_date\n",
    "FROM gtfs_schedule_history.calitp_feeds_raw"
   ]
  },
  {
   "cell_type": "code",
   "execution_count": 20,
   "id": "bde24975-7a72-43f0-9c15-bf584a445299",
   "metadata": {},
   "outputs": [],
   "source": [
    "latest = feed_extract_date >> filter(_.extract_date == _.extract_date.max())"
   ]
  },
  {
   "cell_type": "code",
   "execution_count": 21,
   "id": "bd4fa852-a9f1-4cd6-8c21-62f0cca55d05",
   "metadata": {},
   "outputs": [],
   "source": [
    "rt_complete = latest >> filter(-_.gtfs_rt_vehicle_positions_url.isna(),\n",
    "                              -_.gtfs_rt_service_alerts_url.isna(),\n",
    "                              -_.gtfs_rt_trip_updates_url.isna())"
   ]
  },
  {
   "cell_type": "code",
   "execution_count": 22,
   "id": "14106a8c-c8d2-4a39-a372-111771905c64",
   "metadata": {},
   "outputs": [],
   "source": [
    "rt_complete = (rt_complete >> select(_.calitp_itp_id == _.itp_id, _.calitp_url_number == _.url_number))"
   ]
  },
  {
   "cell_type": "code",
   "execution_count": 23,
   "id": "ed859435-a664-4fa7-ba14-6ace42663dac",
   "metadata": {},
   "outputs": [
    {
     "data": {
      "text/html": [
       "<div>\n",
       "<style scoped>\n",
       "    .dataframe tbody tr th:only-of-type {\n",
       "        vertical-align: middle;\n",
       "    }\n",
       "\n",
       "    .dataframe tbody tr th {\n",
       "        vertical-align: top;\n",
       "    }\n",
       "\n",
       "    .dataframe thead th {\n",
       "        text-align: right;\n",
       "    }\n",
       "</style>\n",
       "<table border=\"1\" class=\"dataframe\">\n",
       "  <thead>\n",
       "    <tr style=\"text-align: right;\">\n",
       "      <th></th>\n",
       "      <th>calitp_itp_id</th>\n",
       "      <th>calitp_url_number</th>\n",
       "    </tr>\n",
       "  </thead>\n",
       "  <tbody>\n",
       "    <tr>\n",
       "      <th>3</th>\n",
       "      <td>183</td>\n",
       "      <td>0</td>\n",
       "    </tr>\n",
       "    <tr>\n",
       "      <th>10</th>\n",
       "      <td>200</td>\n",
       "      <td>0</td>\n",
       "    </tr>\n",
       "    <tr>\n",
       "      <th>1245</th>\n",
       "      <td>282</td>\n",
       "      <td>1</td>\n",
       "    </tr>\n",
       "  </tbody>\n",
       "</table>\n",
       "</div>"
      ],
      "text/plain": [
       "      calitp_itp_id  calitp_url_number\n",
       "3               183                  0\n",
       "10              200                  0\n",
       "1245            282                  1"
      ]
     },
     "execution_count": 23,
     "metadata": {},
     "output_type": "execute_result"
    }
   ],
   "source": [
    "rt_complete.head(3)"
   ]
  },
  {
   "cell_type": "markdown",
   "id": "34cb4ba3-117c-4a20-a1a4-c98b7aad9cdc",
   "metadata": {},
   "source": [
    "# Accessible Transit Metrics"
   ]
  },
  {
   "cell_type": "markdown",
   "id": "639dd482-463f-480d-9181-76cb532f8b3c",
   "metadata": {},
   "source": [
    "### New Accessibilty Metric (Area)\n",
    "\n",
    "The % of non-water area of California that is within 1/4 mi of a bus stop or 1 mi of a ferry/rail stop that is explicitly wheelchair accessible (and if in a station, that station has explicit pathways coding), and that has is served by a public-funded, open to the general public transit service with GTFS Schedule data that is served by a service that is explicitly wheelchair accessible"
   ]
  },
  {
   "cell_type": "markdown",
   "id": "58521b9e-6ae7-42e4-b0e8-8565a5de796c",
   "metadata": {},
   "source": [
    "### New Accessibility Metric (Population)\n",
    "\n",
    " The % of Californians that are within 1/4 mi of a bus stop or 1 mi of a ferry/rail stop that is explicitly wheelchair accessible (and if in a station, that station has explicit pathways coding), and that has is served by a public-funded, open to the general public transit service with GTFS Schedule data that is served by a service that is explicitly wheelchair accessible"
   ]
  },
  {
   "cell_type": "markdown",
   "id": "85d1087a-359b-4f4e-b8f2-f5e2ed1fb140",
   "metadata": {},
   "source": [
    "### Notes and Caveats:\n",
    "\n",
    "* The vast majority of accessible services don't appear to provide accessibility data in GTFS\n",
    "* Pathways appears to be empty in data warehouse for now..."
   ]
  },
  {
   "cell_type": "markdown",
   "id": "a84775da-cf67-4460-8650-0b8dae1eb7ff",
   "metadata": {},
   "source": [
    "## Block Level Metrics"
   ]
  },
  {
   "cell_type": "markdown",
   "id": "2388ef56-10c0-4061-a33f-8ac8604af1e5",
   "metadata": {},
   "source": [
    "### Accessible Static"
   ]
  },
  {
   "cell_type": "code",
   "execution_count": 24,
   "id": "94432fb3-5463-4d51-a2bf-69f57a522efe",
   "metadata": {},
   "outputs": [],
   "source": [
    "block_level_accessible = (ca_block_joined\n",
    "                          .sjoin(accessible_stops_trips, how='inner', predicate='intersects')\n",
    "                        .drop_duplicates(subset=['geo_id'])) ##important at block level to avoid double counts"
   ]
  },
  {
   "cell_type": "code",
   "execution_count": 25,
   "id": "87a5461c-6969-4ef9-bf8e-9eb215e3e550",
   "metadata": {},
   "outputs": [
    {
     "data": {
      "text/plain": [
       "8.49"
      ]
     },
     "execution_count": 25,
     "metadata": {},
     "output_type": "execute_result"
    }
   ],
   "source": [
    "calculate_access_proportion(block_level_accessible, ca_block_joined, 'block_pop')"
   ]
  },
  {
   "cell_type": "code",
   "execution_count": 26,
   "id": "45cedad5-5336-459f-b6df-a005c6853114",
   "metadata": {},
   "outputs": [
    {
     "data": {
      "text/plain": [
       "0.74"
      ]
     },
     "execution_count": 26,
     "metadata": {},
     "output_type": "execute_result"
    }
   ],
   "source": [
    "calculate_access_proportion(block_level_accessible, ca_block_joined, 'area')"
   ]
  },
  {
   "cell_type": "code",
   "execution_count": 27,
   "id": "8c4da5a2-0553-4fef-a511-d24b3da4cb9a",
   "metadata": {},
   "outputs": [],
   "source": [
    "# simple_map(accessible_stops_trips, 'calitp_itp_id')"
   ]
  },
  {
   "cell_type": "markdown",
   "id": "6db7f28a-ddf1-4331-a368-8c671a54ccb6",
   "metadata": {},
   "source": [
    "### All Static\n",
    "\n",
    "#### New General Metric (by area):\n",
    "\n",
    "The % of non-water area of Californian that is within 1/4 mi of a bus stop or 1 mi of a ferry/rail stop that has is served by a public-funded, open to the general public transit service with GTFS Schedule data\n",
    "\n",
    "\n",
    "#### New General Metric (by population):\n",
    "\n",
    "The % of Californians that live within 1/4 mi of a bus stop or 1 mi of a ferry/rail stop that has is served by a public-funded, open to the general public transit service with GTFS Schedule data\n"
   ]
  },
  {
   "cell_type": "code",
   "execution_count": 28,
   "id": "b8713591-caf0-40ea-847f-58ae7da42136",
   "metadata": {},
   "outputs": [],
   "source": [
    "block_level_static = (ca_block_joined\n",
    "                          .sjoin(all_stops, how='inner', predicate='intersects')\n",
    "                        # .drop_duplicates(subset=['geo_id'])\n",
    "                     ) ## not dropping enables correct feed aggregations..."
   ]
  },
  {
   "cell_type": "code",
   "execution_count": 29,
   "id": "964bab1d-f540-4d7e-8383-add0266b7db3",
   "metadata": {
    "tags": []
   },
   "outputs": [
    {
     "data": {
      "text/plain": [
       "76.87"
      ]
     },
     "execution_count": 29,
     "metadata": {},
     "output_type": "execute_result"
    }
   ],
   "source": [
    "calculate_access_proportion(block_level_static.drop_duplicates(subset=['geo_id']),\n",
    "                            ca_block_joined, 'block_pop')"
   ]
  },
  {
   "cell_type": "code",
   "execution_count": 30,
   "id": "34e8444a-90c9-4a7a-b6a0-491a9b2df8d3",
   "metadata": {},
   "outputs": [
    {
     "data": {
      "text/plain": [
       "9.04"
      ]
     },
     "execution_count": 30,
     "metadata": {},
     "output_type": "execute_result"
    }
   ],
   "source": [
    "calculate_access_proportion(block_level_static.drop_duplicates(subset=['geo_id']),\n",
    "                            ca_block_joined, 'area')"
   ]
  },
  {
   "cell_type": "markdown",
   "id": "33d7282a-9868-48b2-b95d-4ad31562b944",
   "metadata": {},
   "source": [
    "### All RT"
   ]
  },
  {
   "cell_type": "code",
   "execution_count": 31,
   "id": "88e2ab66-5b58-4d7e-adb8-507884ac6225",
   "metadata": {},
   "outputs": [],
   "source": [
    "all_stops_rt = block_level_static >> inner_join(_, rt_complete, on =['calitp_itp_id', 'calitp_url_number'])"
   ]
  },
  {
   "cell_type": "code",
   "execution_count": 32,
   "id": "7f068d53-8b88-45b3-88e2-5a3c242e2dd3",
   "metadata": {},
   "outputs": [
    {
     "data": {
      "text/plain": [
       "53.05"
      ]
     },
     "execution_count": 32,
     "metadata": {},
     "output_type": "execute_result"
    }
   ],
   "source": [
    "calculate_access_proportion(all_stops_rt.drop_duplicates(subset=['geo_id']),\n",
    "                            ca_block_joined, 'block_pop')"
   ]
  },
  {
   "cell_type": "code",
   "execution_count": 33,
   "id": "da02d17d-a9b3-491d-b1ca-100431a11537",
   "metadata": {},
   "outputs": [
    {
     "data": {
      "text/plain": [
       "4.23"
      ]
     },
     "execution_count": 33,
     "metadata": {},
     "output_type": "execute_result"
    }
   ],
   "source": [
    "calculate_access_proportion(all_stops_rt.drop_duplicates(subset=['geo_id']),\n",
    "                            ca_block_joined, 'area')"
   ]
  },
  {
   "cell_type": "markdown",
   "id": "b85d861c-508b-4c56-9477-68426f6599f6",
   "metadata": {},
   "source": [
    "### Accessible RT"
   ]
  },
  {
   "cell_type": "code",
   "execution_count": 34,
   "id": "3bf3c404-ad21-4b35-b6d4-865b76c443cf",
   "metadata": {},
   "outputs": [],
   "source": [
    "accessible_stops_trips_rt = block_level_accessible >> inner_join(_, rt_complete, on =['calitp_itp_id', 'calitp_url_number'])"
   ]
  },
  {
   "cell_type": "code",
   "execution_count": 35,
   "id": "2f4bd2cc-4e5a-4f17-9434-2069829ce7c9",
   "metadata": {},
   "outputs": [
    {
     "data": {
      "text/plain": [
       "3.11"
      ]
     },
     "execution_count": 35,
     "metadata": {},
     "output_type": "execute_result"
    }
   ],
   "source": [
    "calculate_access_proportion(accessible_stops_trips_rt.drop_duplicates(subset=['geo_id']),\n",
    "                            ca_block_joined, 'block_pop')"
   ]
  },
  {
   "cell_type": "code",
   "execution_count": 36,
   "id": "0ca5a39e-d1e8-42f2-9dd3-b807c21468c5",
   "metadata": {},
   "outputs": [
    {
     "data": {
      "text/plain": [
       "0.29"
      ]
     },
     "execution_count": 36,
     "metadata": {},
     "output_type": "execute_result"
    }
   ],
   "source": [
    "calculate_access_proportion(accessible_stops_trips_rt.drop_duplicates(subset=['geo_id']),\n",
    "                            ca_block_joined, 'area')"
   ]
  },
  {
   "cell_type": "markdown",
   "id": "5b58402f-0773-430b-9466-090e90737113",
   "metadata": {},
   "source": [
    "## Employment Metrics (Tract Level)"
   ]
  },
  {
   "cell_type": "code",
   "execution_count": 37,
   "id": "d8b2d367-c019-494c-b42b-58c21bfb4380",
   "metadata": {},
   "outputs": [],
   "source": [
    "service_path = 'gs://calitp-analytics-data/data-analyses/bus_service_increase/'"
   ]
  },
  {
   "cell_type": "code",
   "execution_count": 38,
   "id": "51cb0103-af8a-41de-881a-1d7f0cf7c39d",
   "metadata": {},
   "outputs": [],
   "source": [
    "## Read in processed df from bus_service_increase/B1\n",
    "tract_pop_employ = gpd.read_parquet(f'{service_path}bus_stop_times_by_tract.parquet')\n",
    "tract_pop_employ = tract_pop_employ >> select(-_.num_arrivals, -_.stop_id, -_.itp_id)"
   ]
  },
  {
   "cell_type": "code",
   "execution_count": 39,
   "id": "5cfbfa16-dc4b-4d47-a7a6-7ad28c30bceb",
   "metadata": {},
   "outputs": [
    {
     "data": {
      "text/html": [
       "<div>\n",
       "<style scoped>\n",
       "    .dataframe tbody tr th:only-of-type {\n",
       "        vertical-align: middle;\n",
       "    }\n",
       "\n",
       "    .dataframe tbody tr th {\n",
       "        vertical-align: top;\n",
       "    }\n",
       "\n",
       "    .dataframe thead th {\n",
       "        text-align: right;\n",
       "    }\n",
       "</style>\n",
       "<table border=\"1\" class=\"dataframe\">\n",
       "  <thead>\n",
       "    <tr style=\"text-align: right;\">\n",
       "      <th></th>\n",
       "      <th>Tract</th>\n",
       "      <th>ZIP</th>\n",
       "      <th>Population</th>\n",
       "      <th>sq_mi</th>\n",
       "      <th>pop_sq_mi</th>\n",
       "      <th>overall_ptile</th>\n",
       "      <th>pollution_ptile</th>\n",
       "      <th>popchar_ptile</th>\n",
       "      <th>equity_group</th>\n",
       "      <th>pollution_group</th>\n",
       "      <th>popchar_group</th>\n",
       "      <th>County</th>\n",
       "      <th>City</th>\n",
       "      <th>geometry</th>\n",
       "      <th>num_jobs</th>\n",
       "      <th>jobs_sq_mi</th>\n",
       "      <th>num_pop_jobs</th>\n",
       "      <th>popjobs_sq_mi</th>\n",
       "    </tr>\n",
       "  </thead>\n",
       "  <tbody>\n",
       "    <tr>\n",
       "      <th>0</th>\n",
       "      <td>06001400100</td>\n",
       "      <td>94704</td>\n",
       "      <td>3120</td>\n",
       "      <td>2.655917</td>\n",
       "      <td>1174.735672</td>\n",
       "      <td>2.798790</td>\n",
       "      <td>26.621033</td>\n",
       "      <td>1.525466</td>\n",
       "      <td>1.0</td>\n",
       "      <td>1</td>\n",
       "      <td>1.0</td>\n",
       "      <td>Alameda</td>\n",
       "      <td>Oakland</td>\n",
       "      <td>POLYGON ((-122.24408 37.88322, -122.24198 37.8...</td>\n",
       "      <td>936</td>\n",
       "      <td>352.420702</td>\n",
       "      <td>4056</td>\n",
       "      <td>1527.156374</td>\n",
       "    </tr>\n",
       "    <tr>\n",
       "      <th>1</th>\n",
       "      <td>06001400200</td>\n",
       "      <td>94618</td>\n",
       "      <td>2007</td>\n",
       "      <td>0.229901</td>\n",
       "      <td>8729.842564</td>\n",
       "      <td>2.874433</td>\n",
       "      <td>24.181705</td>\n",
       "      <td>1.651538</td>\n",
       "      <td>1.0</td>\n",
       "      <td>1</td>\n",
       "      <td>1.0</td>\n",
       "      <td>Alameda</td>\n",
       "      <td>Oakland</td>\n",
       "      <td>POLYGON ((-122.24191 37.85181, -122.24202 37.8...</td>\n",
       "      <td>1357</td>\n",
       "      <td>5902.539292</td>\n",
       "      <td>3364</td>\n",
       "      <td>14632.381857</td>\n",
       "    </tr>\n",
       "    <tr>\n",
       "      <th>2</th>\n",
       "      <td>06001400300</td>\n",
       "      <td>94618</td>\n",
       "      <td>5051</td>\n",
       "      <td>0.427356</td>\n",
       "      <td>11819.185546</td>\n",
       "      <td>15.935451</td>\n",
       "      <td>33.366521</td>\n",
       "      <td>12.266768</td>\n",
       "      <td>1.0</td>\n",
       "      <td>2</td>\n",
       "      <td>1.0</td>\n",
       "      <td>Alameda</td>\n",
       "      <td>Oakland</td>\n",
       "      <td>POLYGON ((-122.24590 37.84500, -122.25241 37.8...</td>\n",
       "      <td>1978</td>\n",
       "      <td>4628.459515</td>\n",
       "      <td>7029</td>\n",
       "      <td>16447.645061</td>\n",
       "    </tr>\n",
       "  </tbody>\n",
       "</table>\n",
       "</div>"
      ],
      "text/plain": [
       "         Tract    ZIP  Population     sq_mi     pop_sq_mi  overall_ptile  \\\n",
       "0  06001400100  94704        3120  2.655917   1174.735672       2.798790   \n",
       "1  06001400200  94618        2007  0.229901   8729.842564       2.874433   \n",
       "2  06001400300  94618        5051  0.427356  11819.185546      15.935451   \n",
       "\n",
       "   pollution_ptile  popchar_ptile  equity_group  pollution_group  \\\n",
       "0        26.621033       1.525466           1.0                1   \n",
       "1        24.181705       1.651538           1.0                1   \n",
       "2        33.366521      12.266768           1.0                2   \n",
       "\n",
       "   popchar_group   County     City  \\\n",
       "0            1.0  Alameda  Oakland   \n",
       "1            1.0  Alameda  Oakland   \n",
       "2            1.0  Alameda  Oakland   \n",
       "\n",
       "                                            geometry  num_jobs   jobs_sq_mi  \\\n",
       "0  POLYGON ((-122.24408 37.88322, -122.24198 37.8...       936   352.420702   \n",
       "1  POLYGON ((-122.24191 37.85181, -122.24202 37.8...      1357  5902.539292   \n",
       "2  POLYGON ((-122.24590 37.84500, -122.25241 37.8...      1978  4628.459515   \n",
       "\n",
       "   num_pop_jobs  popjobs_sq_mi  \n",
       "0          4056    1527.156374  \n",
       "1          3364   14632.381857  \n",
       "2          7029   16447.645061  "
      ]
     },
     "execution_count": 39,
     "metadata": {},
     "output_type": "execute_result"
    }
   ],
   "source": [
    "tract_pop_employ.head(3)"
   ]
  },
  {
   "cell_type": "code",
   "execution_count": 40,
   "id": "e903fe3e-d11a-4ffc-ba49-f3c17341b18d",
   "metadata": {},
   "outputs": [],
   "source": [
    "tract_pop_employ = tract_pop_employ.to_crs(\n",
    "                        shared_utils.geography_utils.CA_NAD83Albers)\n",
    "tract_pop_employ['area'] = tract_pop_employ.geometry.area"
   ]
  },
  {
   "cell_type": "code",
   "execution_count": 41,
   "id": "cebdb00f-bc02-41ad-b55b-dfa9bca50ce0",
   "metadata": {},
   "outputs": [],
   "source": [
    "## option to filter out large tracts (not useful access data...)\n",
    "## 4 sq km threshold\n",
    "tract_pop_employ['under_4_sq_km'] = tract_pop_employ.area < 4e+06"
   ]
  },
  {
   "cell_type": "code",
   "execution_count": 42,
   "id": "41468f14-bf8b-4514-985a-c91b599af6c3",
   "metadata": {},
   "outputs": [
    {
     "data": {
      "text/html": [
       "<div>\n",
       "<style scoped>\n",
       "    .dataframe tbody tr th:only-of-type {\n",
       "        vertical-align: middle;\n",
       "    }\n",
       "\n",
       "    .dataframe tbody tr th {\n",
       "        vertical-align: top;\n",
       "    }\n",
       "\n",
       "    .dataframe thead th {\n",
       "        text-align: right;\n",
       "    }\n",
       "</style>\n",
       "<table border=\"1\" class=\"dataframe\">\n",
       "  <thead>\n",
       "    <tr style=\"text-align: right;\">\n",
       "      <th></th>\n",
       "      <th>under_4_sq_km</th>\n",
       "      <th>jobs</th>\n",
       "    </tr>\n",
       "  </thead>\n",
       "  <tbody>\n",
       "    <tr>\n",
       "      <th>0</th>\n",
       "      <td>False</td>\n",
       "      <td>6770495</td>\n",
       "    </tr>\n",
       "    <tr>\n",
       "      <th>1</th>\n",
       "      <td>True</td>\n",
       "      <td>10386412</td>\n",
       "    </tr>\n",
       "  </tbody>\n",
       "</table>\n",
       "</div>"
      ],
      "text/plain": [
       "   under_4_sq_km      jobs\n",
       "0          False   6770495\n",
       "1           True  10386412"
      ]
     },
     "execution_count": 42,
     "metadata": {},
     "output_type": "execute_result"
    }
   ],
   "source": [
    "job_density = tract_pop_employ >> group_by('under_4_sq_km') >> summarize(jobs = _.num_jobs.sum())\n",
    "job_density"
   ]
  },
  {
   "cell_type": "code",
   "execution_count": 43,
   "id": "2b8ebb2a-5869-4b4a-9f61-2de6d014402c",
   "metadata": {},
   "outputs": [
    {
     "data": {
      "text/plain": [
       "jobs    0.605378\n",
       "dtype: float64"
      ]
     },
     "execution_count": 43,
     "metadata": {},
     "output_type": "execute_result"
    }
   ],
   "source": [
    "## about 60% of CA jobs are in tracts under 4 sq km (scope for this analysis)\n",
    "(job_density >> filter(_.under_4_sq_km) >> select(_.jobs)).sum() / (job_density >> select(_.jobs)).sum()"
   ]
  },
  {
   "cell_type": "code",
   "execution_count": 44,
   "id": "e2a71360-e912-48d3-96fe-2e4bb2717867",
   "metadata": {},
   "outputs": [],
   "source": [
    "## filter out large tracts\n",
    "tract_pop_employ_filtered = tract_pop_employ >> filter(_.under_4_sq_km)"
   ]
  },
  {
   "cell_type": "code",
   "execution_count": 45,
   "id": "402b13fb-77ee-4700-a75a-12383875d46c",
   "metadata": {},
   "outputs": [],
   "source": [
    "all_employment_joined = (tract_pop_employ_filtered\n",
    "                    .sjoin(all_stops, how='inner', predicate='intersects')\n",
    "                    # .drop_duplicates(subset=['Tract'])\n",
    "                   ) >> select(-_.index_right, -_.index_left)"
   ]
  },
  {
   "cell_type": "code",
   "execution_count": 46,
   "id": "fc0af318-e877-485c-b755-2ad95508a1ac",
   "metadata": {},
   "outputs": [],
   "source": [
    "accessible_employment_joined = (tract_pop_employ_filtered\n",
    "                    .sjoin(accessible_stops_trips, how='inner', predicate='intersects')\n",
    "                    # .drop_duplicates(subset=['Tract'])\n",
    "                   ) >> select(-_.index_right, -_.index_left)"
   ]
  },
  {
   "cell_type": "code",
   "execution_count": 47,
   "id": "963b05b7-b49f-4bdd-be4c-d154d4df6a2f",
   "metadata": {},
   "outputs": [
    {
     "data": {
      "text/plain": [
       "99.21"
      ]
     },
     "execution_count": 47,
     "metadata": {},
     "output_type": "execute_result"
    }
   ],
   "source": [
    "## all stops employment access, jobs\n",
    "calculate_access_proportion(all_employment_joined.drop_duplicates(subset=['Tract']), tract_pop_employ_filtered, 'num_jobs')"
   ]
  },
  {
   "cell_type": "code",
   "execution_count": 48,
   "id": "b252d537-58ee-45b8-9881-74f40f44c16e",
   "metadata": {},
   "outputs": [
    {
     "data": {
      "text/plain": [
       "17.84"
      ]
     },
     "execution_count": 48,
     "metadata": {},
     "output_type": "execute_result"
    }
   ],
   "source": [
    "## accessible stops employment access, jobs\n",
    "calculate_access_proportion(accessible_employment_joined.drop_duplicates(subset=['Tract']), tract_pop_employ_filtered, 'num_jobs')"
   ]
  },
  {
   "cell_type": "code",
   "execution_count": 49,
   "id": "08575ab7-a162-42da-a3ce-fbae9d79e923",
   "metadata": {},
   "outputs": [],
   "source": [
    "accessible_stops_trips_rt = accessible_stops_trips_rt >> select(-_.index_right, -_.index_left)"
   ]
  },
  {
   "cell_type": "code",
   "execution_count": 50,
   "id": "55fa262f-373e-41ae-96ff-d05abbf5e5ca",
   "metadata": {},
   "outputs": [],
   "source": [
    "acc_rt_employ = (tract_pop_employ_filtered\n",
    "                    .sjoin(accessible_stops_trips_rt, how='inner', predicate='intersects')\n",
    "                    .drop_duplicates(subset=['Tract'])\n",
    "                   )"
   ]
  },
  {
   "cell_type": "code",
   "execution_count": 51,
   "id": "5b32c98b-f87f-4631-8c29-5602acf96cf4",
   "metadata": {},
   "outputs": [
    {
     "data": {
      "text/plain": [
       "11.32"
      ]
     },
     "execution_count": 51,
     "metadata": {},
     "output_type": "execute_result"
    }
   ],
   "source": [
    "## accessible with RT stops employment access, population\n",
    "calculate_access_proportion(acc_rt_employ, tract_pop_employ_filtered, 'num_jobs')"
   ]
  },
  {
   "cell_type": "code",
   "execution_count": 52,
   "id": "ab87784a-b993-4237-ba1f-9c5f8d03b6c4",
   "metadata": {},
   "outputs": [],
   "source": [
    "all_stops_rt = all_stops_rt >> select(-_.index_right, -_.index_left)"
   ]
  },
  {
   "cell_type": "code",
   "execution_count": 53,
   "id": "46531eec-578e-4b0d-8b54-78510fa68276",
   "metadata": {},
   "outputs": [],
   "source": [
    "all_rt_employ = (tract_pop_employ_filtered\n",
    "                    .sjoin(all_stops_rt, how='inner', predicate='intersects')\n",
    "                    .drop_duplicates(subset=['Tract'])\n",
    "                   )"
   ]
  },
  {
   "cell_type": "code",
   "execution_count": 54,
   "id": "9e9ca43c-046f-4d78-be88-b57a1860d2c3",
   "metadata": {},
   "outputs": [
    {
     "data": {
      "text/plain": [
       "82.34"
      ]
     },
     "execution_count": 54,
     "metadata": {},
     "output_type": "execute_result"
    }
   ],
   "source": [
    "## all RT stops employment access, population\n",
    "calculate_access_proportion(all_rt_employ, tract_pop_employ_filtered, 'num_jobs')"
   ]
  },
  {
   "cell_type": "markdown",
   "id": "c26bbc09-817c-475a-a097-de05b195d9f4",
   "metadata": {},
   "source": [
    "### Summarizing Coverage"
   ]
  },
  {
   "cell_type": "code",
   "execution_count": 55,
   "id": "af545319-1594-401b-9040-e61dc4c06ede",
   "metadata": {},
   "outputs": [],
   "source": [
    "## since employment data is tract-level, only includes tracts < 4 sq km (~60% of jobs)\n",
    "employment_summary = (all_employment_joined\n",
    " >> group_by(_.calitp_itp_id)\n",
    " >> distinct(_.Tract, _keep_all=True) ##geo_id must be distinct per feed...\n",
    " >> summarize(total_jobs = _.num_jobs.sum())\n",
    ")"
   ]
  },
  {
   "cell_type": "code",
   "execution_count": 56,
   "id": "45207456-e3b9-4062-a92f-e0028c75f8ff",
   "metadata": {},
   "outputs": [],
   "source": [
    "SQ_MI_PER_SQ_M = 3.86e-7\n",
    "\n",
    "coverage_summary = (block_level_static\n",
    " >> group_by(_.calitp_itp_id)\n",
    " >> distinct(_.geo_id, _keep_all=True) ##geo_id must be distinct per feed...\n",
    " >> summarize(total_sq_mi = (_.area.sum() * SQ_MI_PER_SQ_M).astype('int64'),\n",
    "             total_pop = _.block_pop.sum(),\n",
    "             ))"
   ]
  },
  {
   "cell_type": "code",
   "execution_count": 57,
   "id": "57d6f193-8a50-439e-9e0a-74e8d62f0f48",
   "metadata": {},
   "outputs": [],
   "source": [
    "coverage_summary = coverage_summary >> inner_join(_, employment_summary, on ='calitp_itp_id')"
   ]
  },
  {
   "cell_type": "code",
   "execution_count": 58,
   "id": "6ef7500d-85c5-487e-84b2-434e472fe621",
   "metadata": {},
   "outputs": [],
   "source": [
    "coverage_summary['any_accessible_stops_trips'] = coverage_summary.apply(lambda x: x.calitp_itp_id in (\n",
    "                             block_level_accessible.calitp_itp_id.unique()), axis=1)\n",
    "coverage_summary['any_rt'] = coverage_summary.apply(lambda x: x.calitp_itp_id in (\n",
    "                             rt_complete.calitp_itp_id.unique()), axis=1)"
   ]
  },
  {
   "cell_type": "code",
   "execution_count": 59,
   "id": "b9c59ce2-d381-4be8-b93c-c5e45527c6c7",
   "metadata": {},
   "outputs": [],
   "source": [
    "with_name = coverage_summary >> inner_join(_, tbl.gtfs_schedule.agency() >> distinct(_.agency_name, _.calitp_itp_id) >> collect(), on = 'calitp_itp_id')"
   ]
  },
  {
   "cell_type": "code",
   "execution_count": 60,
   "id": "679f7f01-129e-4ecd-8111-04362a870a47",
   "metadata": {},
   "outputs": [],
   "source": [
    "# with_name = with_name >> filter(_.calitp_itp_id.apply(lamb) != 1 0, _.calitp_itp_id != 8,\n",
    "#                                 _.calitp_itp_id != 2, _.calitp_itp_id != 3) ## see issue 988\n",
    "coverage_summary = coverage_summary >> filter(_.calitp_itp_id.apply(lambda x: x not in [0,1,2,3,8,6])) ## see issue 988"
   ]
  },
  {
   "cell_type": "code",
   "execution_count": 61,
   "id": "b448c78a-43af-42e8-b6aa-db67c286ff18",
   "metadata": {},
   "outputs": [],
   "source": [
    "coverage_summary.to_csv('draft_feed_metrics.csv')"
   ]
  },
  {
   "cell_type": "code",
   "execution_count": 73,
   "id": "7ea9efb3-61a4-410b-ac74-56c7dc98b15a",
   "metadata": {},
   "outputs": [],
   "source": [
    "row_metrics = {'Population': 'block_pop', 'Land Area': 'area', 'Jobs (<4sq km tracts only)': 'num_jobs'}\n",
    "col_geographies = {'GTFS Static': [block_level_static.drop_duplicates(subset=['geo_id']),\n",
    "                                   all_employment_joined.drop_duplicates(subset=['Tract'])],\n",
    "                   'Accessible Static': [block_level_accessible.drop_duplicates(subset=['geo_id']),\n",
    "                                         accessible_employment_joined.drop_duplicates(subset=['Tract'])],\n",
    "                   'GTFS RT': [all_stops_rt.drop_duplicates(subset=['geo_id']), all_rt_employ],\n",
    "                   'Accessible RT': [accessible_stops_trips_rt.drop_duplicates(subset=['geo_id']),\n",
    "                                     acc_rt_employ.drop_duplicates(subset=['Tract'])]}"
   ]
  },
  {
   "cell_type": "code",
   "execution_count": 75,
   "id": "0f545b0c-4be7-4639-8aa8-2d7e73ef8491",
   "metadata": {},
   "outputs": [],
   "source": [
    "summary_df = pd.DataFrame()\n",
    "\n",
    "for row in row_metrics.keys():\n",
    "    to_append = {}\n",
    "    if row == 'Jobs (<4sq km tracts only)':\n",
    "        for col in col_geographies.keys():\n",
    "            metric = calculate_access_proportion(col_geographies[col][1], tract_pop_employ_filtered, row_metrics[row])\n",
    "            to_append[col] = metric\n",
    "    else:\n",
    "        for col in col_geographies.keys():\n",
    "            metric = calculate_access_proportion(col_geographies[col][0], ca_block_joined, row_metrics[row])\n",
    "            to_append[col] = metric\n",
    "    to_append = pd.DataFrame(to_append, index = [row])\n",
    "    summary_df = summary_df.append(to_append)    "
   ]
  },
  {
   "cell_type": "markdown",
   "id": "5c0a8b76-420c-4d16-b5d4-4ccedba1eefc",
   "metadata": {},
   "source": [
    "## Summary of all Metrics\n",
    "\n",
    "* Population metrics: percent of CA population within a block group near a qualifying transit stop, excluding block groups > 4 sq km\n",
    "* Land Area metrics: percent of CA land area made up of block groups near a qualifying transit stop, excluding block groups > 4 sq km\n",
    "* Employment metrics: percent of CA jobs in a census tract near a qualifying transit stop, excluding tracts > 4 sq km\n",
    "    * this currently means the analysis only looks at about 60% of CA jobs, it could be made more precise by pulling finer-grained employment data if desired\n",
    "    * likely makes transit look \"better\" than a job analysis of all jobs, since these urban/suburban tracts are probably more likely to have at least some transit service"
   ]
  },
  {
   "cell_type": "code",
   "execution_count": 76,
   "id": "b93fb211-a4cc-438d-b7e5-e50ab9347cd1",
   "metadata": {},
   "outputs": [
    {
     "data": {
      "text/html": [
       "<div>\n",
       "<style scoped>\n",
       "    .dataframe tbody tr th:only-of-type {\n",
       "        vertical-align: middle;\n",
       "    }\n",
       "\n",
       "    .dataframe tbody tr th {\n",
       "        vertical-align: top;\n",
       "    }\n",
       "\n",
       "    .dataframe thead th {\n",
       "        text-align: right;\n",
       "    }\n",
       "</style>\n",
       "<table border=\"1\" class=\"dataframe\">\n",
       "  <thead>\n",
       "    <tr style=\"text-align: right;\">\n",
       "      <th></th>\n",
       "      <th>GTFS Static</th>\n",
       "      <th>Accessible Static</th>\n",
       "      <th>GTFS RT</th>\n",
       "      <th>Accessible RT</th>\n",
       "    </tr>\n",
       "  </thead>\n",
       "  <tbody>\n",
       "    <tr>\n",
       "      <th>Population</th>\n",
       "      <td>76.87</td>\n",
       "      <td>8.49</td>\n",
       "      <td>53.05</td>\n",
       "      <td>3.11</td>\n",
       "    </tr>\n",
       "    <tr>\n",
       "      <th>Land Area</th>\n",
       "      <td>9.04</td>\n",
       "      <td>0.74</td>\n",
       "      <td>4.23</td>\n",
       "      <td>0.29</td>\n",
       "    </tr>\n",
       "    <tr>\n",
       "      <th>Jobs (&lt;4sq km tracts only)</th>\n",
       "      <td>99.21</td>\n",
       "      <td>17.84</td>\n",
       "      <td>82.34</td>\n",
       "      <td>11.32</td>\n",
       "    </tr>\n",
       "  </tbody>\n",
       "</table>\n",
       "</div>"
      ],
      "text/plain": [
       "                            GTFS Static  Accessible Static  GTFS RT  \\\n",
       "Population                        76.87               8.49    53.05   \n",
       "Land Area                          9.04               0.74     4.23   \n",
       "Jobs (<4sq km tracts only)        99.21              17.84    82.34   \n",
       "\n",
       "                            Accessible RT  \n",
       "Population                           3.11  \n",
       "Land Area                            0.29  \n",
       "Jobs (<4sq km tracts only)          11.32  "
      ]
     },
     "execution_count": 76,
     "metadata": {},
     "output_type": "execute_result"
    }
   ],
   "source": [
    "summary_df"
   ]
  },
  {
   "cell_type": "markdown",
   "id": "7cf4111f-7214-40dc-bd9c-455c088ce978",
   "metadata": {},
   "source": [
    "### Maps and Charts\n",
    "\n",
    "* maps should show for each metric:\n",
    "    * covered regions\n",
    "    * non-covered regions\n",
    "    * _regions outsde analysis (large block groups and tracts)_ non-issue with block data"
   ]
  },
  {
   "cell_type": "code",
   "execution_count": 273,
   "id": "9f8f3bdc-2655-4b7f-8724-1ff8e1f283e3",
   "metadata": {},
   "outputs": [],
   "source": [
    "all_blocks_basemap = block_level_static.copy()\n",
    "all_blocks_basemap.geometry = all_blocks_basemap.buffer(0)"
   ]
  },
  {
   "cell_type": "code",
   "execution_count": null,
   "id": "bf91d7ba-f618-430a-b4a3-21df43749a9c",
   "metadata": {
    "tags": []
   },
   "outputs": [],
   "source": [
    "m = simple_map(all_blocks_basemap);"
   ]
  },
  {
   "cell_type": "code",
   "execution_count": null,
   "id": "0107b36c-65ea-433f-89fe-6c2ff8b2a041",
   "metadata": {},
   "outputs": [],
   "source": [
    "def make_geo_data(gdf, color):\n",
    "    geo_data = GeoData(geo_dataframe = gdf.to_crs('EPSG:4326'),\n",
    "                   style={'color': 'black', 'fillColor': color,\n",
    "                                'opacity':0.2, 'weight':.5, 'dashArray':'2', 'fillOpacity':0.3},\n",
    "                   hover_style={'fillColor': 'red' , 'fillOpacity': 0.3},\n",
    "                   name = 'data')\n",
    "    return geo_data"
   ]
  },
  {
   "cell_type": "code",
   "execution_count": null,
   "id": "f5ec09f6-f2bf-4de6-b1d4-1cca775c6133",
   "metadata": {},
   "outputs": [],
   "source": [
    "## dissolve geos first? (for speed)\n",
    "## quick function to append as seperate layers"
   ]
  },
  {
   "cell_type": "code",
   "execution_count": null,
   "id": "a506f154-703a-40ad-a9ca-b54d9d4d7d2d",
   "metadata": {},
   "outputs": [],
   "source": [
    "unserved = ca_blocks_joined >> anti_join(_, block_level_static, on = 'geo_id') ## in analysis, not served\n",
    "# out = ca_bg_geo >> filter(-_.under_4_sq_km) ## out of analysis scope (geo too large) #999999"
   ]
  },
  {
   "cell_type": "code",
   "execution_count": null,
   "id": "2db5ee4e-f973-44da-922f-8d89c93af4fc",
   "metadata": {},
   "outputs": [],
   "source": [
    "m.add_layer(make_geo_data(unserved.dissolve(), '#f1a340'))\n",
    "# m.add_layer(make_geo_data(out.dissolve(), '#999999'))"
   ]
  },
  {
   "cell_type": "markdown",
   "id": "8fce2078-f989-4031-b712-46d405c5c804",
   "metadata": {},
   "source": [
    "### GTFS Schedule only\n",
    "\n",
    "![GTFS Schedule coverage](img/schedule.jpg)"
   ]
  },
  {
   "cell_type": "code",
   "execution_count": null,
   "id": "a121c405-b4bc-44c3-a613-fe7edcdd819f",
   "metadata": {
    "tags": []
   },
   "outputs": [],
   "source": [
    "m"
   ]
  },
  {
   "cell_type": "code",
   "execution_count": 65,
   "id": "62486697-035c-4959-99be-9c0e404f9d6a",
   "metadata": {},
   "outputs": [],
   "source": [
    "m_accessible = simple_map(accessible_geo_joined.dissolve());\n",
    "unserved = ca_bg_geo >> anti_join(_, accessible_geo_joined, on = 'GEOID') >> filter(_.under_4_sq_km) ## in analysis, not served\n",
    "m_accessible.add_layer(make_geo_data(unserved.dissolve(), '#f1a340'))\n",
    "m_accessible.add_layer(make_geo_data(out.dissolve(), '#999999'))"
   ]
  },
  {
   "cell_type": "markdown",
   "id": "8c7fc9ec-ead8-40ee-9923-af9cb066b2ef",
   "metadata": {},
   "source": [
    "### Accessible Trips (static)\n",
    "\n",
    "![accessible GTFS coverage](img/accessible.jpg)"
   ]
  },
  {
   "cell_type": "code",
   "execution_count": 74,
   "id": "691f15f9-be37-42a4-b0be-f3d98d8e5bd9",
   "metadata": {},
   "outputs": [],
   "source": [
    "# m_accessible"
   ]
  },
  {
   "cell_type": "code",
   "execution_count": 67,
   "id": "c4835a56-b3ed-45bb-a499-0c4a5ce077fa",
   "metadata": {},
   "outputs": [],
   "source": [
    "m_rt = simple_map(all_stops_rt.dissolve());\n",
    "unserved = ca_bg_geo >> anti_join(_, all_stops_rt, on = 'GEOID') >> filter(_.under_4_sq_km) ## in analysis, not served\n",
    "m_rt.add_layer(make_geo_data(unserved.dissolve(), '#f1a340'))\n",
    "m_rt.add_layer(make_geo_data(out.dissolve(), '#999999'))"
   ]
  },
  {
   "cell_type": "markdown",
   "id": "f8a7ec3e-e498-4916-984c-236c707aa487",
   "metadata": {},
   "source": [
    "### Trips by operators with GTFS-RT\n",
    "\n",
    "![rt operators](img/rt.jpg)"
   ]
  },
  {
   "cell_type": "code",
   "execution_count": 73,
   "id": "34e025fd-b599-4d50-9952-73f20c1256d4",
   "metadata": {},
   "outputs": [],
   "source": [
    "# m_rt"
   ]
  },
  {
   "cell_type": "code",
   "execution_count": 69,
   "id": "c99d1db2-b1bf-41ba-b24e-0e71c0ef3b3e",
   "metadata": {},
   "outputs": [],
   "source": [
    "m_rt_access = simple_map(accessible_stops_trips_rt.dissolve());\n",
    "unserved = ca_bg_geo >> anti_join(_, accessible_stops_trips_rt, on = 'GEOID') >> filter(_.under_4_sq_km) ## in analysis, not served\n",
    "m_rt_access.add_layer(make_geo_data(unserved.dissolve(), '#f1a340'))\n",
    "m_rt_access.add_layer(make_geo_data(out.dissolve(), '#999999'))"
   ]
  },
  {
   "cell_type": "markdown",
   "id": "ff5a0b45-115c-4e45-a280-3d5e1dffbd47",
   "metadata": {},
   "source": [
    "### Accessible Trips by operators with GTFS-RT\n",
    "\n",
    "![accessible trips, RT operator](img/rt_accessible.jpg)"
   ]
  },
  {
   "cell_type": "markdown",
   "id": "30cb7922-fceb-427b-9807-3348fdde4755",
   "metadata": {},
   "source": [
    "## Block Group Metrics"
   ]
  },
  {
   "cell_type": "code",
   "execution_count": 16,
   "id": "8890b880-6a42-4544-9173-cfcb795eeb87",
   "metadata": {},
   "outputs": [],
   "source": [
    "total_pop_var = 'B01001_001E'"
   ]
  },
  {
   "cell_type": "code",
   "execution_count": 17,
   "id": "b00f500a-a2a7-4b9f-ab19-d6619c5039b0",
   "metadata": {},
   "outputs": [],
   "source": [
    "## can hit Census API limits with frequent runs?\n",
    "\n",
    "# blockgrp_pop = get_census_ca_counties(total_pop_var, 'block%20group')\n",
    "# blockgrp_pop = blockgrp_pop.rename(columns={'B01001_001E': 'block_grp_pop',\n",
    "#                                            'block group': 'block_grp'})"
   ]
  },
  {
   "cell_type": "code",
   "execution_count": 18,
   "id": "7ebe259f-3371-4e23-a979-60a392f76950",
   "metadata": {},
   "outputs": [],
   "source": [
    "## read pre-fetched 2019 ACS data from catalog\n",
    "blockgrp_pop = (catalog.ca_bg_population.read()\n",
    "                .rename(columns={'block group': 'block_grp',\n",
    "                                'population': 'block_grp_pop'})\n",
    "                .astype({'block_grp_pop': 'int64', 'state': 'int64',\n",
    "                        'county': 'int64', 'tract': 'int64',\n",
    "                        'block_grp': 'int64'})\n",
    "               )"
   ]
  },
  {
   "cell_type": "code",
   "execution_count": 19,
   "id": "ae24c2b3-1f01-4977-a4ca-210dad8743ab",
   "metadata": {},
   "outputs": [],
   "source": [
    "# blockgrp_pop.head(3)"
   ]
  },
  {
   "cell_type": "code",
   "execution_count": 24,
   "id": "ad119d7d-e792-40fb-bc5a-aef08fa32a10",
   "metadata": {},
   "outputs": [],
   "source": [
    "# ca_bg_geo = get_ca_block_group_geo()"
   ]
  },
  {
   "cell_type": "code",
   "execution_count": 25,
   "id": "e2007663-9e9c-4707-b19d-414166be5861",
   "metadata": {},
   "outputs": [],
   "source": [
    "# shared_utils.utils.geoparquet_gcs_export(ca_bg_geo, GCS_FILE_PATH,\n",
    "#                                          'ca_block_grp_clipped_prj')"
   ]
  },
  {
   "cell_type": "code",
   "execution_count": 26,
   "id": "1602137f-417a-4409-9198-14d34f8ce010",
   "metadata": {},
   "outputs": [],
   "source": [
    "ca_bg_geo = gpd.read_parquet(f'{GCS_FILE_PATH}ca_block_grp_clipped_prj.parquet')\n",
    "ca_bg_geo['area'] = ca_bg_geo.geometry.area"
   ]
  },
  {
   "cell_type": "code",
   "execution_count": 27,
   "id": "b55c6aa4-38f6-435f-abd3-348f90da7c74",
   "metadata": {},
   "outputs": [],
   "source": [
    "ca_bg_geo = ca_bg_geo.astype({'STATEFP': 'int64',\n",
    "                                            'COUNTYFP': 'int64',\n",
    "                                            'TRACTCE': 'int64',\n",
    "                                            'BLKGRPCE': 'int64'})\n",
    "ca_bg_geo = ca_bg_geo.rename(columns={'STATEFP': 'state',\n",
    "                                                   'COUNTYFP': 'county',\n",
    "                                                   'TRACTCE': 'tract',\n",
    "                                                   'BLKGRPCE': 'block_grp'})"
   ]
  },
  {
   "cell_type": "code",
   "execution_count": 28,
   "id": "f5a914c8-7254-4e06-b755-76a74de4f6f8",
   "metadata": {},
   "outputs": [],
   "source": [
    "ca_bg_geo = ca_bg_geo >> inner_join(_, blockgrp_pop, on = ['state', 'county', 'tract', 'block_grp'])"
   ]
  },
  {
   "cell_type": "code",
   "execution_count": 29,
   "id": "e842847b-f40a-48c2-8ca1-4745ee1a4679",
   "metadata": {},
   "outputs": [],
   "source": [
    "## drop large block groups (not useful access data...)\n",
    "## 4 sq km threshold\n",
    "ca_bg_geo['under_4_sq_km'] = ca_bg_geo.area < 4e+06\n",
    "ca_bg_geo_filtered = ca_bg_geo >> filter(_.under_4_sq_km)"
   ]
  },
  {
   "cell_type": "code",
   "execution_count": 51,
   "id": "c0c76f0c-1384-4883-a81d-d6ee86c8fc31",
   "metadata": {},
   "outputs": [],
   "source": [
    "accessible_geo_joined = ca_bg_geo_filtered.sjoin(accessible_stops_trips, how='inner', predicate='intersects')\n",
    "accessible_geo_joined = accessible_geo_joined.drop_duplicates(subset=['GEOID'])"
   ]
  },
  {
   "cell_type": "markdown",
   "id": "21c3904b-6dc8-41ee-8f19-73f5ad5c6b99",
   "metadata": {},
   "source": [
    "#### Current Percentage of CA population in block groups within .25mi of accessible transit"
   ]
  },
  {
   "cell_type": "code",
   "execution_count": 54,
   "id": "f5f5b8ba-8925-4810-8307-003c19ed6cdf",
   "metadata": {},
   "outputs": [
    {
     "data": {
      "text/plain": [
       "11.47"
      ]
     },
     "execution_count": 54,
     "metadata": {},
     "output_type": "execute_result"
    }
   ],
   "source": [
    "calculate_access_proportion(accessible_geo_joined, ca_bg_geo_filtered, 'block_grp_pop')"
   ]
  },
  {
   "cell_type": "markdown",
   "id": "a8274aa7-6608-4a45-81cb-04d00a766358",
   "metadata": {},
   "source": [
    "#### Current Percentage of CA land area in block groups within .25mi of accessible transit"
   ]
  },
  {
   "cell_type": "code",
   "execution_count": 35,
   "id": "9f583f99-232c-484b-9907-8271a1fa93be",
   "metadata": {},
   "outputs": [
    {
     "data": {
      "text/plain": [
       "10.9"
      ]
     },
     "execution_count": 35,
     "metadata": {},
     "output_type": "execute_result"
    }
   ],
   "source": [
    "calculate_access_proportion(accessible_geo_joined, ca_bg_geo_filtered, 'area')"
   ]
  },
  {
   "cell_type": "code",
   "execution_count": 24,
   "id": "2e925197-037d-40d0-9d63-bbb8381a1ddb",
   "metadata": {},
   "outputs": [],
   "source": [
    "all_stops = get_stops_and_trips(filter_accessible = False)\n",
    "all_stops = all_stops.apply(buffer_by_route_type, axis=1)"
   ]
  },
  {
   "cell_type": "code",
   "execution_count": 25,
   "id": "e9462e5e-5ea8-4308-ab02-2ab8cd17f46b",
   "metadata": {},
   "outputs": [],
   "source": [
    "all_stops_joined = (ca_bg_geo_filtered\n",
    "                    .sjoin(all_stops, how='inner', predicate='intersects')\n",
    "                    .drop_duplicates(subset=['GEOID'])\n",
    "                   )"
   ]
  },
  {
   "cell_type": "code",
   "execution_count": 26,
   "id": "b34809cf-aaff-4b11-ad99-f060d67c1536",
   "metadata": {},
   "outputs": [],
   "source": [
    "# all_stops_pop_joined = all_stops_joined >> inner_join(_, blockgrp_pop, on=['state', 'county', 'tract', 'block_grp'])"
   ]
  },
  {
   "cell_type": "markdown",
   "id": "2174bbf9-46d9-46f1-90e3-ed047f9a1329",
   "metadata": {},
   "source": [
    "#### Current Percentage of CA population in block groups near transit with GTFS Schedule data"
   ]
  },
  {
   "cell_type": "code",
   "execution_count": 27,
   "id": "026ccfc7-64e6-40cb-8d04-481e016a03f0",
   "metadata": {},
   "outputs": [
    {
     "data": {
      "text/plain": [
       "79.27"
      ]
     },
     "execution_count": 27,
     "metadata": {},
     "output_type": "execute_result"
    }
   ],
   "source": [
    "calculate_access_proportion(all_stops_joined, blockgrp_pop, 'block_grp_pop')"
   ]
  },
  {
   "cell_type": "markdown",
   "id": "2bf9502b-3b1f-4b75-bf36-cf989e7eb392",
   "metadata": {},
   "source": [
    "#### Current Percentage of CA land area in block groups near transit with GTFS Schedule data"
   ]
  },
  {
   "cell_type": "code",
   "execution_count": 28,
   "id": "90bd4269-d9b2-4ccc-93fc-8d7a1099e6ce",
   "metadata": {},
   "outputs": [
    {
     "data": {
      "text/plain": [
       "90.09"
      ]
     },
     "execution_count": 28,
     "metadata": {},
     "output_type": "execute_result"
    }
   ],
   "source": [
    "calculate_access_proportion(all_stops_joined, ca_bg_geo_filtered, 'area')"
   ]
  },
  {
   "cell_type": "code",
   "execution_count": null,
   "id": "c22cb39d-fec4-4d9f-a413-a54c460bc4da",
   "metadata": {},
   "outputs": [],
   "source": []
  }
 ],
 "metadata": {
  "kernelspec": {
   "display_name": "Python 3 (ipykernel)",
   "language": "python",
   "name": "python3"
  },
  "language_info": {
   "codemirror_mode": {
    "name": "ipython",
    "version": 3
   },
   "file_extension": ".py",
   "mimetype": "text/x-python",
   "name": "python",
   "nbconvert_exporter": "python",
   "pygments_lexer": "ipython3",
   "version": "3.9.7"
  }
 },
 "nbformat": 4,
 "nbformat_minor": 5
}
