{
 "cells": [
  {
   "cell_type": "code",
   "execution_count": 1,
   "id": "1e265c3d-d876-41fa-b864-19fd5d70c203",
   "metadata": {},
   "outputs": [
    {
     "name": "stderr",
     "output_type": "stream",
     "text": [
      "/opt/conda/lib/python3.9/site-packages/geopandas/_compat.py:111: UserWarning: The Shapely GEOS version (3.9.1-CAPI-1.14.2) is incompatible with the GEOS version PyGEOS was compiled with (3.10.1-CAPI-1.16.0). Conversions between both will be slow.\n",
      "  warnings.warn(\n"
     ]
    }
   ],
   "source": [
    "import pandas as pd\n",
    "import geopandas as gpd\n",
    "\n",
    "from calitp.tables import tbl\n",
    "from siuba import *\n",
    "from IPython.display import Markdown\n",
    "\n",
    "import create_coverage_data\n",
    "import shared_utils\n",
    "from utils import *"
   ]
  },
  {
   "cell_type": "markdown",
   "id": "1c73b8f2-01f4-484e-8e57-26ffea418e9e",
   "metadata": {},
   "source": [
    "2 geographies:\n",
    "* blocks (area, pop)\n",
    "* tracts (employment)\n",
    "\n",
    "Stop files:\n",
    "* all stops\n",
    "* accessible stops\n",
    "\n",
    "RT files\n",
    "* all stops, inner join with rt_complete\n",
    "* accessible stops, inner join with rt_complete\n",
    "\n",
    "1st spatial join:\n",
    "1. blocks, all stops\n",
    "1. blocks, accessible stops\n",
    "1. blocks, all stops, rt\n",
    "1. blocks, accessible stops, rt\n",
    "\n",
    "2nd spatial join:\n",
    "1. tracts, all stops\n",
    "1. tracts, accessible stops\n",
    "1. tracts, all stops, rt (but this is using the block file? polygon on polygon)\n",
    "1. tracts, accessible stops, rt (also using block file?)\n",
    "\n",
    "Address the polygon on polygon either with crosswalk between blocks and tracts (then use `pd.merge`, or create point geometry with stops, rt files."
   ]
  },
  {
   "cell_type": "code",
   "execution_count": null,
   "id": "246014fc-419d-4e8c-8053-759f4a917afc",
   "metadata": {},
   "outputs": [],
   "source": [
    "#create_coverage_data.save_initial_data()\n",
    "\n",
    "# Read in data from queries\n",
    "ca_block_joined = shared_utils.utils.download_geoparquet(GCS_FILE_PATH, \n",
    "                                                         'block_population_joined')\n",
    "rt_complete = pd.read_parquet(f\"{GCS_FILE_PATH}rt_complete.parquet\")\n",
    "all_stops = shared_utils.utils.download_geoparquet(GCS_FILE_PATH, \n",
    "                                                   'all_stops')\n",
    "accessible_stops_trips = shared_utils.utils.download_geoparquet(GCS_FILE_PATH, \n",
    "                                                                'accessible_stops_trips')\n",
    "\n",
    "# Read in employment data by tract\n",
    "tract_pop_employ_filtered = create_coverage_data.get_employment_tract_data()\n",
    "#shared_utils.utils.geoparquet_gcs_export(tract_pop_employ_filtered, \n",
    "#                                         GCS_FILE_PATH, 'tract_pop_employ_filtered')"
   ]
  },
  {
   "cell_type": "code",
   "execution_count": null,
   "id": "15dd813a-4f17-420d-8249-c8d7a802b30a",
   "metadata": {},
   "outputs": [
    {
     "name": "stdout",
     "output_type": "stream",
     "text": [
      "Proportion of jobs in tracts < 4 sq km: jobs    0.605378\n",
      "dtype: float64\n"
     ]
    }
   ],
   "source": [
    "#sjoin_blocks, sjoin_tracts = create_coverage_data.spatial_joins_to_blocks_and_tracts()\n",
    "create_coverage_data.spatial_joins_to_blocks_and_tracts()"
   ]
  },
  {
   "cell_type": "code",
   "execution_count": null,
   "id": "5130eec2-3f58-447d-9de8-a3d3f1fbfa9d",
   "metadata": {},
   "outputs": [],
   "source": [
    "for key, value in sjoin_blocks.items():\n",
    "    print(key)\n",
    "    print(value.shape)\n",
    "    \n",
    "for key, value in sjoin_tracts.items():\n",
    "    print(key)\n",
    "    print(value.shape)"
   ]
  },
  {
   "cell_type": "code",
   "execution_count": null,
   "id": "c675804c-b00b-4d18-af04-28f19124d7dc",
   "metadata": {},
   "outputs": [],
   "source": [
    "keys = [\"all_stops\", \"accessible_stops\", \"all_stops_rt\", \"accessible_stops_rt\"]\n",
    "for key in keys:\n",
    "    df = gpd.read_parquet(f\"./data/block_{key}.parquet\")\n",
    "    print(key)\n",
    "    print(df.shape)"
   ]
  },
  {
   "cell_type": "markdown",
   "id": "639dd482-463f-480d-9181-76cb532f8b3c",
   "metadata": {},
   "source": [
    "# Accessible Transit Metrics\n",
    "\n",
    "### New Accessibilty Metric (Area)\n",
    "\n",
    "The % of non-water area of California that is within 1/2mi of a bus stop or 1 mi of a ferry/rail stop that is explicitly wheelchair accessible (and if in a station, that station has explicit pathways coding), and that has is served by a public-funded, open to the general public transit service with GTFS Schedule data that is served by a service that is explicitly wheelchair accessible\n",
    "\n",
    "### New Accessibility Metric (Population)\n",
    "\n",
    " The % of Californians that are within 1/2 mi of a bus stop or 1 mi of a ferry/rail stop that is explicitly wheelchair accessible (and if in a station, that station has explicit pathways coding), and that has is served by a public-funded, open to the general public transit service with GTFS Schedule data that is served by a service that is explicitly wheelchair accessible\n",
    " \n",
    "### Notes and Caveats:\n",
    "\n",
    "* The vast majority of accessible services don't appear to provide accessibility data in GTFS\n",
    "* Pathways appears to be empty in data warehouse for now...\n",
    "\n",
    "### All Static\n",
    "\n",
    "#### New General Metric (by area):\n",
    "\n",
    "The % of non-water area of Californian that is within 1/2 mi of a bus stop or 1 mi of a ferry/rail stop that has is served by a public-funded, open to the general public transit service with GTFS Schedule data\n",
    "\n",
    "\n",
    "#### New General Metric (by population):\n",
    "\n",
    "The % of Californians that live within 1/2 mi of a bus stop or 1 mi of a ferry/rail stop that has is served by a public-funded, open to the general public transit service with GTFS Schedule data"
   ]
  },
  {
   "cell_type": "markdown",
   "id": "a84775da-cf67-4460-8650-0b8dae1eb7ff",
   "metadata": {},
   "source": [
    "## Block Level Metrics"
   ]
  },
  {
   "cell_type": "code",
   "execution_count": null,
   "id": "94432fb3-5463-4d51-a2bf-69f57a522efe",
   "metadata": {},
   "outputs": [],
   "source": [
    "by_metrics = ['block_pop', 'area'] \n",
    "\n",
    "for name, df in sjoin_blocks.items():\n",
    "    \n",
    "    header = f\"{name.replace('block_', '').replace('_', ' ').title()}\"\n",
    "    if \"Rt\" in header:\n",
    "        header = header.replace('Rt', 'RT')\n",
    "    else:\n",
    "        header = header + \" Static\"\n",
    "    \n",
    "    display(Markdown(f\"### {header}\"))\n",
    "    \n",
    "    for metric in by_metrics:\n",
    "        p = calculate_access_proportion(df.drop_duplicates(\n",
    "            subset=['geo_id']), ca_block_joined, metric)\n",
    "        print(f\"access by {metric}: {p}\")"
   ]
  },
  {
   "cell_type": "code",
   "execution_count": null,
   "id": "11b93c63-d259-4fab-afaa-4c616f80540c",
   "metadata": {},
   "outputs": [],
   "source": [
    "# Use dict to rename files to match what is already produced\n",
    "# Stash intermediate parquets\n",
    "rename_files = {\n",
    "    \"block_all_stops\": \"block_level_static\",\n",
    "    \"block_accessible_stops\": \"block_level_accessible\",\n",
    "    \"block_all_stops_rt\": \"all_stops_rt\",\n",
    "    \"block_accessible_stops_rt\": \"accessible_stops_trips_rt\",\n",
    "}\n",
    "\n",
    "for key, value in sjoin_blocks.items():\n",
    "    new_name = rename_files[key]\n",
    "    print(f\"{key}: {new_name}\")   \n",
    "    value.to_parquet(f\"./data/{key}.parquet\")\n",
    "    #shared_utils.utils.geoparquet_gcs_export(value, GCS_FILE_PATH, f\"{new_name}\")"
   ]
  },
  {
   "cell_type": "code",
   "execution_count": null,
   "id": "34b9cd4a-c02f-4b88-b6eb-838e3dc59cc5",
   "metadata": {},
   "outputs": [],
   "source": [
    "for key, value in sjoin_blocks.items():\n",
    "    new_name = rename_files[key]"
   ]
  },
  {
   "cell_type": "markdown",
   "id": "9d76958a-30b7-441c-bd3c-4d7c72c29f8e",
   "metadata": {},
   "source": [
    "### RT Milestone (Partial)"
   ]
  },
  {
   "cell_type": "code",
   "execution_count": null,
   "id": "60d2313d-b249-4fd1-954d-a2a7eb6c5d1d",
   "metadata": {},
   "outputs": [],
   "source": [
    "milestone_ids = [13, 121, 323, 228, 325, 56, 93, 254, 251, 81, 122, 76, 199,\n",
    " 312, 344, 372, 280, 327, 112, 17, 118, 289, 120, 33, 356,\n",
    " 251, 351, 232, 6, 14, 271, 296, 389, 256]"
   ]
  },
  {
   "cell_type": "code",
   "execution_count": null,
   "id": "debf972a-716c-49c8-b148-d1f706cf1f8b",
   "metadata": {},
   "outputs": [],
   "source": [
    "milestone_ids = [mid for mid in milestone_ids if mid \n",
    "                 not in sjoin_blocks[\"block_all_stops_rt\"].calitp_itp_id.unique()]"
   ]
  },
  {
   "cell_type": "markdown",
   "id": "d2fcb5ca-a45c-4b8c-b1b2-c932f0809c80",
   "metadata": {},
   "source": [
    "### Export for Mapping"
   ]
  },
  {
   "cell_type": "code",
   "execution_count": null,
   "id": "56d7b557-ab23-4714-b020-ac5ac176186a",
   "metadata": {},
   "outputs": [],
   "source": [
    "def get_status(df, new_col):\n",
    "    df2 = (df.drop_duplicates(subset=['geo_id', 'calitp_itp_id']).copy()\n",
    "           >> select(_.geo_id, _.calitp_itp_id)\n",
    "          )\n",
    "    \n",
    "    df2[new_col] = True\n",
    "    \n",
    "    return df2\n",
    "\n",
    "\n",
    "rt_acc_status = get_status(sjoin_blocks[\"block_accessible_stops_rt\"], \"rt_accessible\")\n",
    "rt_status = get_status(sjoin_blocks[\"block_all_stops_rt\"], \"rt\")\n",
    "acc_status = get_status(sjoin_blocks[\"block_accessible_stops\"], \"accessible\")\n",
    "static_status = get_status(sjoin_blocks[\"block_all_stops\"], \"static\")\n",
    "rt_milestones = get_status((sjoin_blocks[\"block_all_stops\"]\n",
    "                            >> filter(_.calitp_itp_id.isin(milestone_ids))\n",
    "                           ), \"rt_milestone\")"
   ]
  },
  {
   "cell_type": "code",
   "execution_count": null,
   "id": "2b3fc7f0-cb40-438d-a296-0f00c9c45fd4",
   "metadata": {},
   "outputs": [],
   "source": [
    "all_df = pd.concat([rt_acc_status, rt_status, acc_status, \n",
    "                    static_status, rt_milestones])\n",
    "\n",
    "all_df = all_df.fillna(False)\n",
    "all_df = all_df.groupby(['geo_id', 'calitp_itp_id']).any().reset_index()"
   ]
  },
  {
   "cell_type": "code",
   "execution_count": null,
   "id": "0394e4f9-7624-4bfe-bda9-bc9de0edcb88",
   "metadata": {},
   "outputs": [],
   "source": [
    "for_mapping = (ca_block_joined.astype({'geo_id':'int64'})\n",
    " >> inner_join(_, all_df, on = ['geo_id'])\n",
    " # >> left_join(_, rt_status, on = ['geo_id', 'calitp_itp_id'])\n",
    " # >> left_join(_, acc_status, on = ['geo_id', 'calitp_itp_id'])\n",
    " # >> left_join(_, static_status, on = ['geo_id', 'calitp_itp_id'])\n",
    ")\n",
    "for_mapping['calitp_itp_id'] = for_mapping.calitp_itp_id.fillna(0).astype('int64')\n",
    "# for_mapping = for_mapping.fillna(False)"
   ]
  },
  {
   "cell_type": "code",
   "execution_count": null,
   "id": "20875527-7ae6-45c7-ac20-13fd8c30d3b9",
   "metadata": {},
   "outputs": [],
   "source": [
    "for_mapping.head(3)"
   ]
  },
  {
   "cell_type": "code",
   "execution_count": null,
   "id": "5e33a85c-41db-4882-a6d3-3d30d582ca0a",
   "metadata": {},
   "outputs": [],
   "source": [
    "shared_utils.utils.geoparquet_gcs_export(for_mapping, GCS_FILE_PATH, 'block_accessibility_metrics')"
   ]
  },
  {
   "cell_type": "markdown",
   "id": "5b58402f-0773-430b-9466-090e90737113",
   "metadata": {},
   "source": [
    "## Employment Metrics (Tract Level)"
   ]
  },
  {
   "cell_type": "code",
   "execution_count": null,
   "id": "d8b2d367-c019-494c-b42b-58c21bfb4380",
   "metadata": {},
   "outputs": [],
   "source": [
    "## all stops employment access, jobs\n",
    "metric = \"num_jobs\"\n",
    "\n",
    "for key, value in sjoin_tracts.items():\n",
    "    print(key)\n",
    "    \n",
    "    p = calculate_access_proportion(value.drop_duplicates(\n",
    "        subset=['Tract']), tract_pop_employ_filtered, metric)\n",
    "    \n",
    "    print(f\"employment access by {metric}: {p}\")"
   ]
  },
  {
   "cell_type": "markdown",
   "id": "c26bbc09-817c-475a-a097-de05b195d9f4",
   "metadata": {},
   "source": [
    "### Summarizing Coverage"
   ]
  },
  {
   "cell_type": "code",
   "execution_count": null,
   "id": "af545319-1594-401b-9040-e61dc4c06ede",
   "metadata": {},
   "outputs": [],
   "source": [
    "def make_coverage_summary(sjoin_blocks, sjoin_tracts, rt_df):\n",
    "    ## since employment data is tract-level, only includes tracts < 4 sq km (~60% of jobs)\n",
    "    employment_summary = (sjoin_tracts[\"tract_all_stops\"]\n",
    "                          >> group_by(_.calitp_itp_id)\n",
    "                          >> distinct(_.Tract, _keep_all=True) \n",
    "                          ##geo_id must be distinct per feed...\n",
    "                          >> summarize(total_jobs = _.num_jobs.sum())\n",
    "    )\n",
    "\n",
    "\n",
    "    SQ_MI_PER_SQ_M = 3.86e-7\n",
    "\n",
    "    coverage_summary = (sjoin_blocks[\"block_all_stops\"]\n",
    "                        >> group_by(_.calitp_itp_id)\n",
    "                        >> distinct(_.geo_id, _keep_all=True) ##geo_id must be distinct per feed...\n",
    "                        >> summarize(\n",
    "                            total_sq_mi = (_.area.sum() * SQ_MI_PER_SQ_M).astype('int64'),\n",
    "                            total_pop = _.block_pop.sum(),)\n",
    "                       )\n",
    "    \n",
    "    # Merge together\n",
    "    df = (coverage_summary \n",
    "                    >> inner_join(_, employment_summary, on ='calitp_itp_id')\n",
    "                   )\n",
    "    \n",
    "    \n",
    "    df['any_accessible_stops_trips'] = df.apply(\n",
    "        lambda x: x.calitp_itp_id in (\n",
    "                             sjoin_blocks[\"block_accessible_stops\"].calitp_itp_id.unique()), axis=1)\n",
    "    df['any_rt'] = df.apply(lambda x: x.calitp_itp_id in (\n",
    "                             rt_df.calitp_itp_id.unique()), axis=1)\n",
    "    \n",
    "    df2 = (df \n",
    "           >> filter(_.calitp_itp_id.apply(lambda x: x not in [0,1,2,3,8,6])) \n",
    "           ## see issue 988\n",
    "          )\n",
    "    df2 = df2 >> inner_join(_, tbl.gtfs_schedule.agency() \n",
    "                             >> distinct(_.agency_name, _.calitp_itp_id)\n",
    "                             >> collect(), \n",
    "                             on = 'calitp_itp_id')\n",
    "    \n",
    "    # Should this return df or df2?\n",
    "    # Should this be coverage_summary that filters out certain ITP_IDs or with_name?    \n",
    "    return df"
   ]
  },
  {
   "cell_type": "code",
   "execution_count": null,
   "id": "1ea96c63-d843-4360-8416-45f2c082b226",
   "metadata": {},
   "outputs": [],
   "source": [
    "coverage_summary = make_coverage_summary(sjoin_blocks, sjoin_tracts, rt_complete)"
   ]
  },
  {
   "cell_type": "code",
   "execution_count": null,
   "id": "b448c78a-43af-42e8-b6aa-db67c286ff18",
   "metadata": {},
   "outputs": [],
   "source": [
    "coverage_summary.to_csv('draft_feed_metrics.csv')"
   ]
  },
  {
   "cell_type": "code",
   "execution_count": null,
   "id": "0a855ccf-2cad-4b24-a58a-bb0cb71763b9",
   "metadata": {},
   "outputs": [],
   "source": []
  }
 ],
 "metadata": {
  "kernelspec": {
   "display_name": "Python 3 (ipykernel)",
   "language": "python",
   "name": "python3"
  },
  "language_info": {
   "codemirror_mode": {
    "name": "ipython",
    "version": 3
   },
   "file_extension": ".py",
   "mimetype": "text/x-python",
   "name": "python",
   "nbconvert_exporter": "python",
   "pygments_lexer": "ipython3",
   "version": "3.9.7"
  }
 },
 "nbformat": 4,
 "nbformat_minor": 5
}
