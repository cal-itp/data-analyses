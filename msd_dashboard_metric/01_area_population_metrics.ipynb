{
 "cells": [
  {
   "cell_type": "code",
   "execution_count": 24,
   "id": "1e265c3d-d876-41fa-b864-19fd5d70c203",
   "metadata": {},
   "outputs": [],
   "source": [
    "import pandas as pd\n",
    "import geopandas as gpd\n",
    "\n",
    "import shared_utils\n",
    "from utils import *\n",
    "import intake\n",
    "import gcsfs\n",
    "\n",
    "import calitp\n",
    "from calitp.tables import tbl\n",
    "from siuba import *\n",
    "\n",
    "from ipyleaflet import Map, GeoJSON, projections, basemaps, GeoData, LayersControl, WidgetControl, GeoJSON, LegendControl\n",
    "from ipywidgets import Text, HTML"
   ]
  },
  {
   "cell_type": "code",
   "execution_count": 25,
   "id": "093721d5-8d35-42f5-abde-24eec413a393",
   "metadata": {},
   "outputs": [],
   "source": [
    "def calculate_access_proportion(num_df, denom_df, col):\n",
    "    proportion = num_df[col].sum() / denom_df[col].sum()\n",
    "    percentage = (proportion * 100).round(2)\n",
    "    return percentage"
   ]
  },
  {
   "cell_type": "code",
   "execution_count": 26,
   "id": "c18d0464-038e-4bcc-9a09-dca05e2377ad",
   "metadata": {},
   "outputs": [],
   "source": [
    "bus_route_types = ['3', '11']\n",
    "\n",
    "def buffer_by_route_type(row):\n",
    "    '''\n",
    "    Buffer bus stops by 800 meters (.5mi),\n",
    "    rail/ferry by 1600 meters (1mi)\n",
    "    '''\n",
    "    if row.route_type in bus_route_types:\n",
    "        row.geometry = row.geometry.buffer(800)\n",
    "    else:\n",
    "        row.geometry = row.geometry.buffer(1600)\n",
    "    return row"
   ]
  },
  {
   "cell_type": "code",
   "execution_count": 27,
   "id": "5463cbce-1aa4-45ff-93b2-1bd96d120a94",
   "metadata": {},
   "outputs": [],
   "source": [
    "catalog = intake.open_catalog('./catalog.yml')"
   ]
  },
  {
   "cell_type": "code",
   "execution_count": 28,
   "id": "7b14bfb4-7831-4f78-b3c8-33b2bd0b3047",
   "metadata": {},
   "outputs": [],
   "source": [
    "# shoreline_proj = catalog.stanford_shorelines.read().to_crs(shared_utils.geography_utils.CA_NAD83Albers)"
   ]
  },
  {
   "cell_type": "code",
   "execution_count": 29,
   "id": "8966c3bd-7a29-4d6c-90f1-9c6d8b7284e5",
   "metadata": {},
   "outputs": [],
   "source": [
    "ca_blocks = gpd.read_parquet(f'{GCS_FILE_PATH}2020_tiger_block_geo.parquet')\n",
    "ca_blocks = (ca_blocks >> filter(_.ALAND20 > 10) ## remove water\n",
    "             >> select(_.county == _.COUNTYFP20, _.tract == _.TRACTCE20, _.block == _.BLOCKCE20,\n",
    "                               _.geo_id == _.GEOID20, _.geometry))\n",
    "ca_blocks = ca_blocks.to_crs(shared_utils.geography_utils.CA_NAD83Albers)"
   ]
  },
  {
   "cell_type": "code",
   "execution_count": 30,
   "id": "cbaf6b2e-82de-4874-89ae-7ab68d988231",
   "metadata": {
    "tags": []
   },
   "outputs": [
    {
     "data": {
      "text/html": [
       "<div>\n",
       "<style scoped>\n",
       "    .dataframe tbody tr th:only-of-type {\n",
       "        vertical-align: middle;\n",
       "    }\n",
       "\n",
       "    .dataframe tbody tr th {\n",
       "        vertical-align: top;\n",
       "    }\n",
       "\n",
       "    .dataframe thead th {\n",
       "        text-align: right;\n",
       "    }\n",
       "</style>\n",
       "<table border=\"1\" class=\"dataframe\">\n",
       "  <thead>\n",
       "    <tr style=\"text-align: right;\">\n",
       "      <th></th>\n",
       "      <th>county</th>\n",
       "      <th>tract</th>\n",
       "      <th>block</th>\n",
       "      <th>geo_id</th>\n",
       "      <th>geometry</th>\n",
       "    </tr>\n",
       "  </thead>\n",
       "  <tbody>\n",
       "    <tr>\n",
       "      <th>0</th>\n",
       "      <td>017</td>\n",
       "      <td>030706</td>\n",
       "      <td>3012</td>\n",
       "      <td>060170307063012</td>\n",
       "      <td>POLYGON ((-93795.217 73341.696, -93736.960 734...</td>\n",
       "    </tr>\n",
       "    <tr>\n",
       "      <th>1</th>\n",
       "      <td>017</td>\n",
       "      <td>030601</td>\n",
       "      <td>3006</td>\n",
       "      <td>060170306013006</td>\n",
       "      <td>POLYGON ((-88050.178 97425.705, -88049.410 974...</td>\n",
       "    </tr>\n",
       "    <tr>\n",
       "      <th>2</th>\n",
       "      <td>065</td>\n",
       "      <td>042628</td>\n",
       "      <td>4008</td>\n",
       "      <td>060650426284008</td>\n",
       "      <td>POLYGON ((257831.965 -463783.472, 257867.237 -...</td>\n",
       "    </tr>\n",
       "  </tbody>\n",
       "</table>\n",
       "</div>"
      ],
      "text/plain": [
       "  county   tract block           geo_id  \\\n",
       "0    017  030706  3012  060170307063012   \n",
       "1    017  030601  3006  060170306013006   \n",
       "2    065  042628  4008  060650426284008   \n",
       "\n",
       "                                            geometry  \n",
       "0  POLYGON ((-93795.217 73341.696, -93736.960 734...  \n",
       "1  POLYGON ((-88050.178 97425.705, -88049.410 974...  \n",
       "2  POLYGON ((257831.965 -463783.472, 257867.237 -...  "
      ]
     },
     "execution_count": 30,
     "metadata": {},
     "output_type": "execute_result"
    }
   ],
   "source": [
    "ca_blocks >> head(3)"
   ]
  },
  {
   "cell_type": "code",
   "execution_count": 31,
   "id": "466ac278-a624-40d8-861c-7a75c9464088",
   "metadata": {},
   "outputs": [],
   "source": [
    "ca_block_pop = catalog.ca_block_population.read()"
   ]
  },
  {
   "cell_type": "code",
   "execution_count": 32,
   "id": "5fa5be55-478e-4c9b-b888-0855e5b1771a",
   "metadata": {},
   "outputs": [],
   "source": [
    "ca_block_pop['GEO_ID'] = ca_block_pop.GEO_ID.apply(lambda x: x.split('US')[1])\n",
    "ca_block_pop = ca_block_pop >> select(_.geo_id == _.GEO_ID, _.block_pop == _.P1_001N)"
   ]
  },
  {
   "cell_type": "code",
   "execution_count": 33,
   "id": "80c6de17-bbec-4577-a9b3-c4cb6614b718",
   "metadata": {},
   "outputs": [
    {
     "data": {
      "text/html": [
       "<div>\n",
       "<style scoped>\n",
       "    .dataframe tbody tr th:only-of-type {\n",
       "        vertical-align: middle;\n",
       "    }\n",
       "\n",
       "    .dataframe tbody tr th {\n",
       "        vertical-align: top;\n",
       "    }\n",
       "\n",
       "    .dataframe thead th {\n",
       "        text-align: right;\n",
       "    }\n",
       "</style>\n",
       "<table border=\"1\" class=\"dataframe\">\n",
       "  <thead>\n",
       "    <tr style=\"text-align: right;\">\n",
       "      <th></th>\n",
       "      <th>geo_id</th>\n",
       "      <th>block_pop</th>\n",
       "    </tr>\n",
       "  </thead>\n",
       "  <tbody>\n",
       "    <tr>\n",
       "      <th>134075</th>\n",
       "      <td>060372653011006</td>\n",
       "      <td>8727</td>\n",
       "    </tr>\n",
       "    <tr>\n",
       "      <th>301621</th>\n",
       "      <td>060659810001003</td>\n",
       "      <td>5972</td>\n",
       "    </tr>\n",
       "    <tr>\n",
       "      <th>365951</th>\n",
       "      <td>060730094001036</td>\n",
       "      <td>5917</td>\n",
       "    </tr>\n",
       "  </tbody>\n",
       "</table>\n",
       "</div>"
      ],
      "text/plain": [
       "                 geo_id  block_pop\n",
       "134075  060372653011006       8727\n",
       "301621  060659810001003       5972\n",
       "365951  060730094001036       5917"
      ]
     },
     "execution_count": 33,
     "metadata": {},
     "output_type": "execute_result"
    }
   ],
   "source": [
    "ca_block_pop >> arrange(-_.block_pop) >> head(3)"
   ]
  },
  {
   "cell_type": "code",
   "execution_count": 34,
   "id": "392a8f59-f0af-421d-b5bc-c8551e775129",
   "metadata": {},
   "outputs": [],
   "source": [
    "ca_block_joined = ca_blocks >> inner_join(_, ca_block_pop, on='geo_id')"
   ]
  },
  {
   "cell_type": "code",
   "execution_count": 35,
   "id": "ba324ba0-e2ea-459b-999b-2f8f2fdd95b1",
   "metadata": {},
   "outputs": [
    {
     "data": {
      "text/html": [
       "<div>\n",
       "<style scoped>\n",
       "    .dataframe tbody tr th:only-of-type {\n",
       "        vertical-align: middle;\n",
       "    }\n",
       "\n",
       "    .dataframe tbody tr th {\n",
       "        vertical-align: top;\n",
       "    }\n",
       "\n",
       "    .dataframe thead th {\n",
       "        text-align: right;\n",
       "    }\n",
       "</style>\n",
       "<table border=\"1\" class=\"dataframe\">\n",
       "  <thead>\n",
       "    <tr style=\"text-align: right;\">\n",
       "      <th></th>\n",
       "      <th>county</th>\n",
       "      <th>tract</th>\n",
       "      <th>block</th>\n",
       "      <th>geo_id</th>\n",
       "      <th>geometry</th>\n",
       "      <th>block_pop</th>\n",
       "    </tr>\n",
       "  </thead>\n",
       "  <tbody>\n",
       "    <tr>\n",
       "      <th>0</th>\n",
       "      <td>017</td>\n",
       "      <td>030706</td>\n",
       "      <td>3012</td>\n",
       "      <td>060170307063012</td>\n",
       "      <td>POLYGON ((-93795.217 73341.696, -93736.960 734...</td>\n",
       "      <td>363</td>\n",
       "    </tr>\n",
       "    <tr>\n",
       "      <th>1</th>\n",
       "      <td>017</td>\n",
       "      <td>030601</td>\n",
       "      <td>3006</td>\n",
       "      <td>060170306013006</td>\n",
       "      <td>POLYGON ((-88050.178 97425.705, -88049.410 974...</td>\n",
       "      <td>64</td>\n",
       "    </tr>\n",
       "    <tr>\n",
       "      <th>2</th>\n",
       "      <td>065</td>\n",
       "      <td>042628</td>\n",
       "      <td>4008</td>\n",
       "      <td>060650426284008</td>\n",
       "      <td>POLYGON ((257831.965 -463783.472, 257867.237 -...</td>\n",
       "      <td>103</td>\n",
       "    </tr>\n",
       "  </tbody>\n",
       "</table>\n",
       "</div>"
      ],
      "text/plain": [
       "  county   tract block           geo_id  \\\n",
       "0    017  030706  3012  060170307063012   \n",
       "1    017  030601  3006  060170306013006   \n",
       "2    065  042628  4008  060650426284008   \n",
       "\n",
       "                                            geometry  block_pop  \n",
       "0  POLYGON ((-93795.217 73341.696, -93736.960 734...        363  \n",
       "1  POLYGON ((-88050.178 97425.705, -88049.410 974...         64  \n",
       "2  POLYGON ((257831.965 -463783.472, 257867.237 -...        103  "
      ]
     },
     "execution_count": 35,
     "metadata": {},
     "output_type": "execute_result"
    }
   ],
   "source": [
    "ca_block_joined >> head(3)"
   ]
  },
  {
   "cell_type": "code",
   "execution_count": 36,
   "id": "dc77ceb4-07a9-40b7-bdba-c30ef4798ed7",
   "metadata": {},
   "outputs": [],
   "source": [
    "# sf = ca_block_joined >> filter(_.county == '075')"
   ]
  },
  {
   "cell_type": "code",
   "execution_count": 37,
   "id": "c5c19018-41c5-411f-b35c-313d18d3f410",
   "metadata": {},
   "outputs": [],
   "source": [
    "# simple_map(sf, 'block')"
   ]
  },
  {
   "cell_type": "code",
   "execution_count": 38,
   "id": "034195db-4ecd-43dc-bf3d-9f93b260af9c",
   "metadata": {},
   "outputs": [],
   "source": [
    "ca_block_joined = ca_block_joined.astype({'county':'int64', 'tract':'int64', 'block':'int64', 'geo_id':'int64'})\n",
    "ca_block_joined['area'] = ca_block_joined.geometry.area\n",
    "ca_block_joined['geometry'] = ca_block_joined.geometry.simplify(tolerance=100)"
   ]
  },
  {
   "cell_type": "code",
   "execution_count": 39,
   "id": "922d7047-f705-4f9a-805b-912a0e893efc",
   "metadata": {},
   "outputs": [],
   "source": [
    "all_stops = get_stops_and_trips(filter_accessible = False)\n",
    "all_stops = all_stops.apply(buffer_by_route_type, axis=1)"
   ]
  },
  {
   "cell_type": "code",
   "execution_count": 40,
   "id": "53941d4a-5af7-4907-b9cf-637beec8efa2",
   "metadata": {},
   "outputs": [],
   "source": [
    "accessible_stops_trips = get_stops_and_trips(filter_accessible = True)\n",
    "accessible_stops_trips = accessible_stops_trips.apply(buffer_by_route_type, axis=1)"
   ]
  },
  {
   "cell_type": "markdown",
   "id": "2926fb87-07da-45b4-ad8a-db18bb6a26d4",
   "metadata": {},
   "source": [
    "## Adding RT Availability"
   ]
  },
  {
   "cell_type": "code",
   "execution_count": 41,
   "id": "60867f18-19ef-4aa7-afd3-39b0f4c17826",
   "metadata": {},
   "outputs": [],
   "source": [
    "import calitp.magics"
   ]
  },
  {
   "cell_type": "code",
   "execution_count": 42,
   "id": "d73b9abc-d0cc-4d1a-9447-0b9e390ea970",
   "metadata": {
    "tags": []
   },
   "outputs": [],
   "source": [
    "%%capture\n",
    "%%sql -o feed_extract_date\n",
    "\n",
    "SELECT\n",
    "    *,\n",
    "    PARSE_DATE(\n",
    "      '%Y-%m-%d',\n",
    "      REGEXP_EXTRACT(_FILE_NAME, \".*/([0-9]+-[0-9]+-[0-9]+)\")\n",
    "    ) AS extract_date\n",
    "FROM gtfs_schedule_history.calitp_feeds_raw"
   ]
  },
  {
   "cell_type": "code",
   "execution_count": 43,
   "id": "bde24975-7a72-43f0-9c15-bf584a445299",
   "metadata": {},
   "outputs": [],
   "source": [
    "latest = feed_extract_date >> filter(_.extract_date == _.extract_date.max())"
   ]
  },
  {
   "cell_type": "code",
   "execution_count": 44,
   "id": "bd4fa852-a9f1-4cd6-8c21-62f0cca55d05",
   "metadata": {},
   "outputs": [],
   "source": [
    "rt_complete = latest >> filter(-_.gtfs_rt_vehicle_positions_url.isna(),\n",
    "                              -_.gtfs_rt_service_alerts_url.isna(),\n",
    "                              -_.gtfs_rt_trip_updates_url.isna())"
   ]
  },
  {
   "cell_type": "code",
   "execution_count": 45,
   "id": "14106a8c-c8d2-4a39-a372-111771905c64",
   "metadata": {},
   "outputs": [],
   "source": [
    "rt_complete = (rt_complete >> select(_.calitp_itp_id == _.itp_id, _.calitp_url_number == _.url_number))"
   ]
  },
  {
   "cell_type": "code",
   "execution_count": 46,
   "id": "ed859435-a664-4fa7-ba14-6ace42663dac",
   "metadata": {},
   "outputs": [
    {
     "data": {
      "text/html": [
       "<div>\n",
       "<style scoped>\n",
       "    .dataframe tbody tr th:only-of-type {\n",
       "        vertical-align: middle;\n",
       "    }\n",
       "\n",
       "    .dataframe tbody tr th {\n",
       "        vertical-align: top;\n",
       "    }\n",
       "\n",
       "    .dataframe thead th {\n",
       "        text-align: right;\n",
       "    }\n",
       "</style>\n",
       "<table border=\"1\" class=\"dataframe\">\n",
       "  <thead>\n",
       "    <tr style=\"text-align: right;\">\n",
       "      <th></th>\n",
       "      <th>calitp_itp_id</th>\n",
       "      <th>calitp_url_number</th>\n",
       "    </tr>\n",
       "  </thead>\n",
       "  <tbody>\n",
       "    <tr>\n",
       "      <th>1009</th>\n",
       "      <td>183</td>\n",
       "      <td>0</td>\n",
       "    </tr>\n",
       "    <tr>\n",
       "      <th>1016</th>\n",
       "      <td>200</td>\n",
       "      <td>0</td>\n",
       "    </tr>\n",
       "    <tr>\n",
       "      <th>1534</th>\n",
       "      <td>282</td>\n",
       "      <td>1</td>\n",
       "    </tr>\n",
       "  </tbody>\n",
       "</table>\n",
       "</div>"
      ],
      "text/plain": [
       "      calitp_itp_id  calitp_url_number\n",
       "1009            183                  0\n",
       "1016            200                  0\n",
       "1534            282                  1"
      ]
     },
     "execution_count": 46,
     "metadata": {},
     "output_type": "execute_result"
    }
   ],
   "source": [
    "rt_complete.head(3)"
   ]
  },
  {
   "cell_type": "markdown",
   "id": "34cb4ba3-117c-4a20-a1a4-c98b7aad9cdc",
   "metadata": {},
   "source": [
    "# Accessible Transit Metrics"
   ]
  },
  {
   "cell_type": "markdown",
   "id": "639dd482-463f-480d-9181-76cb532f8b3c",
   "metadata": {},
   "source": [
    "### New Accessibilty Metric (Area)\n",
    "\n",
    "The % of non-water area of California that is within 1/2mi of a bus stop or 1 mi of a ferry/rail stop that is explicitly wheelchair accessible (and if in a station, that station has explicit pathways coding), and that has is served by a public-funded, open to the general public transit service with GTFS Schedule data that is served by a service that is explicitly wheelchair accessible"
   ]
  },
  {
   "cell_type": "markdown",
   "id": "58521b9e-6ae7-42e4-b0e8-8565a5de796c",
   "metadata": {},
   "source": [
    "### New Accessibility Metric (Population)\n",
    "\n",
    " The % of Californians that are within 1/2 mi of a bus stop or 1 mi of a ferry/rail stop that is explicitly wheelchair accessible (and if in a station, that station has explicit pathways coding), and that has is served by a public-funded, open to the general public transit service with GTFS Schedule data that is served by a service that is explicitly wheelchair accessible"
   ]
  },
  {
   "cell_type": "markdown",
   "id": "85d1087a-359b-4f4e-b8f2-f5e2ed1fb140",
   "metadata": {},
   "source": [
    "### Notes and Caveats:\n",
    "\n",
    "* The vast majority of accessible services don't appear to provide accessibility data in GTFS\n",
    "* Pathways appears to be empty in data warehouse for now..."
   ]
  },
  {
   "cell_type": "markdown",
   "id": "a84775da-cf67-4460-8650-0b8dae1eb7ff",
   "metadata": {},
   "source": [
    "## Block Level Metrics"
   ]
  },
  {
   "cell_type": "markdown",
   "id": "2388ef56-10c0-4061-a33f-8ac8604af1e5",
   "metadata": {},
   "source": [
    "### Accessible Static"
   ]
  },
  {
   "cell_type": "code",
   "execution_count": 47,
   "id": "94432fb3-5463-4d51-a2bf-69f57a522efe",
   "metadata": {},
   "outputs": [],
   "source": [
    "block_level_accessible = (ca_block_joined\n",
    "                          .sjoin(accessible_stops_trips, how='inner', predicate='intersects')\n",
    "                        .drop_duplicates(subset=['geo_id'])) ##important at block level to avoid double counts"
   ]
  },
  {
   "cell_type": "code",
   "execution_count": 48,
   "id": "87a5461c-6969-4ef9-bf8e-9eb215e3e550",
   "metadata": {},
   "outputs": [
    {
     "data": {
      "text/plain": [
       "10.02"
      ]
     },
     "execution_count": 48,
     "metadata": {},
     "output_type": "execute_result"
    }
   ],
   "source": [
    "calculate_access_proportion(block_level_accessible, ca_block_joined, 'block_pop')"
   ]
  },
  {
   "cell_type": "code",
   "execution_count": 49,
   "id": "45cedad5-5336-459f-b6df-a005c6853114",
   "metadata": {},
   "outputs": [
    {
     "data": {
      "text/plain": [
       "0.93"
      ]
     },
     "execution_count": 49,
     "metadata": {},
     "output_type": "execute_result"
    }
   ],
   "source": [
    "calculate_access_proportion(block_level_accessible, ca_block_joined, 'area')"
   ]
  },
  {
   "cell_type": "code",
   "execution_count": 50,
   "id": "8c4da5a2-0553-4fef-a511-d24b3da4cb9a",
   "metadata": {},
   "outputs": [],
   "source": [
    "# simple_map(accessible_stops_trips, 'calitp_itp_id')"
   ]
  },
  {
   "cell_type": "markdown",
   "id": "6db7f28a-ddf1-4331-a368-8c671a54ccb6",
   "metadata": {},
   "source": [
    "### All Static\n",
    "\n",
    "#### New General Metric (by area):\n",
    "\n",
    "The % of non-water area of Californian that is within 1/2 mi of a bus stop or 1 mi of a ferry/rail stop that has is served by a public-funded, open to the general public transit service with GTFS Schedule data\n",
    "\n",
    "\n",
    "#### New General Metric (by population):\n",
    "\n",
    "The % of Californians that live within 1/2 mi of a bus stop or 1 mi of a ferry/rail stop that has is served by a public-funded, open to the general public transit service with GTFS Schedule data\n"
   ]
  },
  {
   "cell_type": "code",
   "execution_count": 51,
   "id": "b8713591-caf0-40ea-847f-58ae7da42136",
   "metadata": {},
   "outputs": [],
   "source": [
    "block_level_static = (ca_block_joined\n",
    "                          .sjoin(all_stops, how='inner', predicate='intersects')\n",
    "                        # .drop_duplicates(subset=['geo_id'])\n",
    "                     ) ## not dropping enables correct feed aggregations..."
   ]
  },
  {
   "cell_type": "code",
   "execution_count": 52,
   "id": "964bab1d-f540-4d7e-8383-add0266b7db3",
   "metadata": {
    "tags": []
   },
   "outputs": [
    {
     "data": {
      "text/plain": [
       "85.95"
      ]
     },
     "execution_count": 52,
     "metadata": {},
     "output_type": "execute_result"
    }
   ],
   "source": [
    "calculate_access_proportion(block_level_static.drop_duplicates(subset=['geo_id']),\n",
    "                            ca_block_joined, 'block_pop')"
   ]
  },
  {
   "cell_type": "code",
   "execution_count": 53,
   "id": "34e8444a-90c9-4a7a-b6a0-491a9b2df8d3",
   "metadata": {},
   "outputs": [
    {
     "data": {
      "text/plain": [
       "11.58"
      ]
     },
     "execution_count": 53,
     "metadata": {},
     "output_type": "execute_result"
    }
   ],
   "source": [
    "calculate_access_proportion(block_level_static.drop_duplicates(subset=['geo_id']),\n",
    "                            ca_block_joined, 'area')"
   ]
  },
  {
   "cell_type": "markdown",
   "id": "33d7282a-9868-48b2-b95d-4ad31562b944",
   "metadata": {},
   "source": [
    "### All RT"
   ]
  },
  {
   "cell_type": "code",
   "execution_count": 54,
   "id": "88e2ab66-5b58-4d7e-adb8-507884ac6225",
   "metadata": {},
   "outputs": [],
   "source": [
    "all_stops_rt = block_level_static >> inner_join(_, rt_complete, on =['calitp_itp_id', 'calitp_url_number'])"
   ]
  },
  {
   "cell_type": "code",
   "execution_count": 55,
   "id": "7f068d53-8b88-45b3-88e2-5a3c242e2dd3",
   "metadata": {},
   "outputs": [
    {
     "data": {
      "text/plain": [
       "59.65"
      ]
     },
     "execution_count": 55,
     "metadata": {},
     "output_type": "execute_result"
    }
   ],
   "source": [
    "calculate_access_proportion(all_stops_rt.drop_duplicates(subset=['geo_id']),\n",
    "                            ca_block_joined, 'block_pop')"
   ]
  },
  {
   "cell_type": "code",
   "execution_count": 56,
   "id": "da02d17d-a9b3-491d-b1ca-100431a11537",
   "metadata": {},
   "outputs": [
    {
     "data": {
      "text/plain": [
       "5.33"
      ]
     },
     "execution_count": 56,
     "metadata": {},
     "output_type": "execute_result"
    }
   ],
   "source": [
    "calculate_access_proportion(all_stops_rt.drop_duplicates(subset=['geo_id']),\n",
    "                            ca_block_joined, 'area')"
   ]
  },
  {
   "cell_type": "markdown",
   "id": "b85d861c-508b-4c56-9477-68426f6599f6",
   "metadata": {},
   "source": [
    "### Accessible RT"
   ]
  },
  {
   "cell_type": "code",
   "execution_count": 57,
   "id": "3bf3c404-ad21-4b35-b6d4-865b76c443cf",
   "metadata": {},
   "outputs": [],
   "source": [
    "accessible_stops_trips_rt = block_level_accessible >> inner_join(_, rt_complete, on =['calitp_itp_id', 'calitp_url_number'])"
   ]
  },
  {
   "cell_type": "code",
   "execution_count": 58,
   "id": "2f4bd2cc-4e5a-4f17-9434-2069829ce7c9",
   "metadata": {},
   "outputs": [
    {
     "data": {
      "text/plain": [
       "3.67"
      ]
     },
     "execution_count": 58,
     "metadata": {},
     "output_type": "execute_result"
    }
   ],
   "source": [
    "calculate_access_proportion(accessible_stops_trips_rt.drop_duplicates(subset=['geo_id']),\n",
    "                            ca_block_joined, 'block_pop')"
   ]
  },
  {
   "cell_type": "code",
   "execution_count": 59,
   "id": "0ca5a39e-d1e8-42f2-9dd3-b807c21468c5",
   "metadata": {},
   "outputs": [
    {
     "data": {
      "text/plain": [
       "0.42"
      ]
     },
     "execution_count": 59,
     "metadata": {},
     "output_type": "execute_result"
    }
   ],
   "source": [
    "calculate_access_proportion(accessible_stops_trips_rt.drop_duplicates(subset=['geo_id']),\n",
    "                            ca_block_joined, 'area')"
   ]
  },
  {
   "cell_type": "markdown",
   "id": "9d76958a-30b7-441c-bd3c-4d7c72c29f8e",
   "metadata": {},
   "source": [
    "### RT Milestone (Partial)"
   ]
  },
  {
   "cell_type": "code",
   "execution_count": 60,
   "id": "60d2313d-b249-4fd1-954d-a2a7eb6c5d1d",
   "metadata": {},
   "outputs": [],
   "source": [
    "milestone_ids = [13, 121, 323, 228, 325, 56, 93, 254, 251, 81, 122, 76, 199,\n",
    " 312, 344, 372, 280, 327, 112, 17, 118, 289, 120, 33, 356,\n",
    " 251, 351, 232, 6, 14, 271, 296, 389, 256]"
   ]
  },
  {
   "cell_type": "code",
   "execution_count": 65,
   "id": "debf972a-716c-49c8-b148-d1f706cf1f8b",
   "metadata": {},
   "outputs": [],
   "source": [
    "milestone_ids = [mid for mid in milestone_ids if mid not in all_stops_rt.calitp_itp_id.unique()]"
   ]
  },
  {
   "cell_type": "markdown",
   "id": "d2fcb5ca-a45c-4b8c-b1b2-c932f0809c80",
   "metadata": {},
   "source": [
    "### Export for Mapping"
   ]
  },
  {
   "cell_type": "code",
   "execution_count": 52,
   "id": "fcee7bad-12e9-4d41-9240-5c01dfb0fae6",
   "metadata": {},
   "outputs": [
    {
     "data": {
      "text/html": [
       "<div>\n",
       "<style scoped>\n",
       "    .dataframe tbody tr th:only-of-type {\n",
       "        vertical-align: middle;\n",
       "    }\n",
       "\n",
       "    .dataframe tbody tr th {\n",
       "        vertical-align: top;\n",
       "    }\n",
       "\n",
       "    .dataframe thead th {\n",
       "        text-align: right;\n",
       "    }\n",
       "</style>\n",
       "<table border=\"1\" class=\"dataframe\">\n",
       "  <thead>\n",
       "    <tr style=\"text-align: right;\">\n",
       "      <th></th>\n",
       "      <th>county</th>\n",
       "      <th>tract</th>\n",
       "      <th>block</th>\n",
       "      <th>geo_id</th>\n",
       "      <th>geometry</th>\n",
       "      <th>block_pop</th>\n",
       "      <th>area</th>\n",
       "      <th>index_right</th>\n",
       "      <th>stop_id</th>\n",
       "      <th>route_type</th>\n",
       "      <th>stop_lon</th>\n",
       "      <th>stop_lat</th>\n",
       "      <th>calitp_itp_id</th>\n",
       "      <th>calitp_url_number</th>\n",
       "      <th>wheelchair_boarding</th>\n",
       "      <th>wheelchair_accessible</th>\n",
       "    </tr>\n",
       "  </thead>\n",
       "  <tbody>\n",
       "    <tr>\n",
       "      <th>0</th>\n",
       "      <td>113</td>\n",
       "      <td>10610</td>\n",
       "      <td>1013</td>\n",
       "      <td>61130106101013</td>\n",
       "      <td>POLYGON ((-150269.150 60281.940, -149620.149 6...</td>\n",
       "      <td>0</td>\n",
       "      <td>86977.647800</td>\n",
       "      <td>387</td>\n",
       "      <td>DAV</td>\n",
       "      <td>2</td>\n",
       "      <td>-121.737758</td>\n",
       "      <td>38.543494</td>\n",
       "      <td>4</td>\n",
       "      <td>1</td>\n",
       "      <td>1</td>\n",
       "      <td>1</td>\n",
       "    </tr>\n",
       "    <tr>\n",
       "      <th>1</th>\n",
       "      <td>113</td>\n",
       "      <td>10701</td>\n",
       "      <td>4024</td>\n",
       "      <td>61130107014024</td>\n",
       "      <td>POLYGON ((-151430.154 60140.398, -151380.346 5...</td>\n",
       "      <td>0</td>\n",
       "      <td>7134.524478</td>\n",
       "      <td>387</td>\n",
       "      <td>DAV</td>\n",
       "      <td>2</td>\n",
       "      <td>-121.737758</td>\n",
       "      <td>38.543494</td>\n",
       "      <td>4</td>\n",
       "      <td>1</td>\n",
       "      <td>1</td>\n",
       "      <td>1</td>\n",
       "    </tr>\n",
       "    <tr>\n",
       "      <th>2</th>\n",
       "      <td>113</td>\n",
       "      <td>10610</td>\n",
       "      <td>2012</td>\n",
       "      <td>61130106102012</td>\n",
       "      <td>POLYGON ((-150172.028 60949.016, -150107.449 6...</td>\n",
       "      <td>58</td>\n",
       "      <td>16243.747689</td>\n",
       "      <td>387</td>\n",
       "      <td>DAV</td>\n",
       "      <td>2</td>\n",
       "      <td>-121.737758</td>\n",
       "      <td>38.543494</td>\n",
       "      <td>4</td>\n",
       "      <td>1</td>\n",
       "      <td>1</td>\n",
       "      <td>1</td>\n",
       "    </tr>\n",
       "  </tbody>\n",
       "</table>\n",
       "</div>"
      ],
      "text/plain": [
       "   county  tract  block          geo_id  \\\n",
       "0     113  10610   1013  61130106101013   \n",
       "1     113  10701   4024  61130107014024   \n",
       "2     113  10610   2012  61130106102012   \n",
       "\n",
       "                                            geometry  block_pop          area  \\\n",
       "0  POLYGON ((-150269.150 60281.940, -149620.149 6...          0  86977.647800   \n",
       "1  POLYGON ((-151430.154 60140.398, -151380.346 5...          0   7134.524478   \n",
       "2  POLYGON ((-150172.028 60949.016, -150107.449 6...         58  16243.747689   \n",
       "\n",
       "   index_right stop_id route_type    stop_lon   stop_lat  calitp_itp_id  \\\n",
       "0          387     DAV          2 -121.737758  38.543494              4   \n",
       "1          387     DAV          2 -121.737758  38.543494              4   \n",
       "2          387     DAV          2 -121.737758  38.543494              4   \n",
       "\n",
       "   calitp_url_number wheelchair_boarding wheelchair_accessible  \n",
       "0                  1                   1                     1  \n",
       "1                  1                   1                     1  \n",
       "2                  1                   1                     1  "
      ]
     },
     "execution_count": 52,
     "metadata": {},
     "output_type": "execute_result"
    }
   ],
   "source": [
    "accessible_stops_trips_rt >> head(3)"
   ]
  },
  {
   "cell_type": "code",
   "execution_count": 67,
   "id": "56d7b557-ab23-4714-b020-ac5ac176186a",
   "metadata": {},
   "outputs": [],
   "source": [
    "rt_acc_status = accessible_stops_trips_rt.drop_duplicates(subset=['geo_id', 'calitp_itp_id']).copy()\n",
    "rt_acc_status  = rt_acc_status >> select(_.geo_id, _.calitp_itp_id) >> mutate(rt_accessible = True)\n",
    "\n",
    "rt_status = all_stops_rt.drop_duplicates(subset=['geo_id', 'calitp_itp_id']).copy()\n",
    "rt_status  = rt_status >> select(_.geo_id, _.calitp_itp_id) >> mutate(rt = True)\n",
    "\n",
    "acc_status = block_level_accessible.drop_duplicates(subset=['geo_id', 'calitp_itp_id']).copy()\n",
    "acc_status  = acc_status >> select(_.geo_id, _.calitp_itp_id) >> mutate(accessible = True)\n",
    "\n",
    "static_status = block_level_static.drop_duplicates(subset=['geo_id', 'calitp_itp_id']).copy()\n",
    "static_status  = static_status >> select(_.geo_id, _.calitp_itp_id) >> mutate(static = True)\n",
    "\n",
    "rt_milestones = (block_level_static.copy()\n",
    "                 >> filter(_.calitp_itp_id.isin(milestone_ids))\n",
    "                ).drop_duplicates(subset=['geo_id', 'calitp_itp_id'])\n",
    "rt_milestones = rt_milestones >> select(_.geo_id, _.calitp_itp_id) >> mutate(rt_milestone = True)"
   ]
  },
  {
   "cell_type": "code",
   "execution_count": 68,
   "id": "2b3fc7f0-cb40-438d-a296-0f00c9c45fd4",
   "metadata": {},
   "outputs": [],
   "source": [
    "all_df = pd.concat([rt_acc_status, rt_status, acc_status, static_status, rt_milestones])"
   ]
  },
  {
   "cell_type": "code",
   "execution_count": 69,
   "id": "4ecb03f7-4809-4a51-a554-dccf48977b08",
   "metadata": {},
   "outputs": [],
   "source": [
    "all_df = all_df.fillna(False)\n",
    "all_df = all_df.groupby(['geo_id', 'calitp_itp_id']).any().reset_index()"
   ]
  },
  {
   "cell_type": "code",
   "execution_count": 70,
   "id": "0394e4f9-7624-4bfe-bda9-bc9de0edcb88",
   "metadata": {},
   "outputs": [],
   "source": [
    "for_mapping = (ca_block_joined.astype({'geo_id':'int64'})\n",
    " >> inner_join(_, all_df, on = ['geo_id'])\n",
    " # >> left_join(_, rt_status, on = ['geo_id', 'calitp_itp_id'])\n",
    " # >> left_join(_, acc_status, on = ['geo_id', 'calitp_itp_id'])\n",
    " # >> left_join(_, static_status, on = ['geo_id', 'calitp_itp_id'])\n",
    ")\n",
    "for_mapping['calitp_itp_id'] = for_mapping.calitp_itp_id.fillna(0).astype('int64')\n",
    "# for_mapping = for_mapping.fillna(False)"
   ]
  },
  {
   "cell_type": "code",
   "execution_count": 71,
   "id": "20875527-7ae6-45c7-ac20-13fd8c30d3b9",
   "metadata": {},
   "outputs": [
    {
     "data": {
      "text/html": [
       "<div>\n",
       "<style scoped>\n",
       "    .dataframe tbody tr th:only-of-type {\n",
       "        vertical-align: middle;\n",
       "    }\n",
       "\n",
       "    .dataframe tbody tr th {\n",
       "        vertical-align: top;\n",
       "    }\n",
       "\n",
       "    .dataframe thead th {\n",
       "        text-align: right;\n",
       "    }\n",
       "</style>\n",
       "<table border=\"1\" class=\"dataframe\">\n",
       "  <thead>\n",
       "    <tr style=\"text-align: right;\">\n",
       "      <th></th>\n",
       "      <th>county</th>\n",
       "      <th>tract</th>\n",
       "      <th>block</th>\n",
       "      <th>geo_id</th>\n",
       "      <th>geometry</th>\n",
       "      <th>block_pop</th>\n",
       "      <th>area</th>\n",
       "      <th>calitp_itp_id</th>\n",
       "      <th>rt_accessible</th>\n",
       "      <th>rt</th>\n",
       "      <th>accessible</th>\n",
       "      <th>static</th>\n",
       "      <th>rt_milestone</th>\n",
       "    </tr>\n",
       "  </thead>\n",
       "  <tbody>\n",
       "    <tr>\n",
       "      <th>0</th>\n",
       "      <td>65</td>\n",
       "      <td>42628</td>\n",
       "      <td>4008</td>\n",
       "      <td>60650426284008</td>\n",
       "      <td>POLYGON ((257831.965 -463783.472, 258008.040 -...</td>\n",
       "      <td>103</td>\n",
       "      <td>15986.958897</td>\n",
       "      <td>269</td>\n",
       "      <td>False</td>\n",
       "      <td>True</td>\n",
       "      <td>False</td>\n",
       "      <td>True</td>\n",
       "      <td>False</td>\n",
       "    </tr>\n",
       "    <tr>\n",
       "      <th>1</th>\n",
       "      <td>65</td>\n",
       "      <td>42711</td>\n",
       "      <td>3025</td>\n",
       "      <td>60650427113025</td>\n",
       "      <td>POLYGON ((259577.302 -476173.973, 259651.066 -...</td>\n",
       "      <td>42</td>\n",
       "      <td>29609.218158</td>\n",
       "      <td>269</td>\n",
       "      <td>False</td>\n",
       "      <td>True</td>\n",
       "      <td>False</td>\n",
       "      <td>True</td>\n",
       "      <td>False</td>\n",
       "    </tr>\n",
       "    <tr>\n",
       "      <th>2</th>\n",
       "      <td>65</td>\n",
       "      <td>43401</td>\n",
       "      <td>1023</td>\n",
       "      <td>60650434011023</td>\n",
       "      <td>POLYGON ((281412.631 -469351.296, 281613.718 -...</td>\n",
       "      <td>21</td>\n",
       "      <td>19971.850439</td>\n",
       "      <td>13</td>\n",
       "      <td>False</td>\n",
       "      <td>False</td>\n",
       "      <td>False</td>\n",
       "      <td>True</td>\n",
       "      <td>True</td>\n",
       "    </tr>\n",
       "  </tbody>\n",
       "</table>\n",
       "</div>"
      ],
      "text/plain": [
       "   county  tract  block          geo_id  \\\n",
       "0      65  42628   4008  60650426284008   \n",
       "1      65  42711   3025  60650427113025   \n",
       "2      65  43401   1023  60650434011023   \n",
       "\n",
       "                                            geometry  block_pop          area  \\\n",
       "0  POLYGON ((257831.965 -463783.472, 258008.040 -...        103  15986.958897   \n",
       "1  POLYGON ((259577.302 -476173.973, 259651.066 -...         42  29609.218158   \n",
       "2  POLYGON ((281412.631 -469351.296, 281613.718 -...         21  19971.850439   \n",
       "\n",
       "   calitp_itp_id  rt_accessible     rt  accessible  static  rt_milestone  \n",
       "0            269          False   True       False    True         False  \n",
       "1            269          False   True       False    True         False  \n",
       "2             13          False  False       False    True          True  "
      ]
     },
     "execution_count": 71,
     "metadata": {},
     "output_type": "execute_result"
    }
   ],
   "source": [
    "for_mapping.head(3)"
   ]
  },
  {
   "cell_type": "code",
   "execution_count": 72,
   "id": "5e33a85c-41db-4882-a6d3-3d30d582ca0a",
   "metadata": {},
   "outputs": [
    {
     "name": "stderr",
     "output_type": "stream",
     "text": [
      "/home/jovyan/data-analyses/_shared_utils/shared_utils/utils.py:36: UserWarning: this is an initial implementation of Parquet/Feather file support and associated metadata.  This is tracking version 0.1.0 of the metadata specification at https://github.com/geopandas/geo-arrow-spec\n",
      "\n",
      "This metadata specification does not yet make stability promises.  We do not yet recommend using this in a production setting unless you are able to rewrite your Parquet/Feather files.\n",
      "\n",
      "To further ignore this warning, you can do: \n",
      "import warnings; warnings.filterwarnings('ignore', message='.*initial implementation of Parquet.*')\n"
     ]
    }
   ],
   "source": [
    "shared_utils.utils.geoparquet_gcs_export(for_mapping, GCS_FILE_PATH, 'block_accessibility_metrics')"
   ]
  },
  {
   "cell_type": "markdown",
   "id": "5b58402f-0773-430b-9466-090e90737113",
   "metadata": {},
   "source": [
    "## Employment Metrics (Tract Level)"
   ]
  },
  {
   "cell_type": "code",
   "execution_count": 42,
   "id": "d8b2d367-c019-494c-b42b-58c21bfb4380",
   "metadata": {},
   "outputs": [],
   "source": [
    "service_path = 'gs://calitp-analytics-data/data-analyses/bus_service_increase/'"
   ]
  },
  {
   "cell_type": "code",
   "execution_count": 43,
   "id": "51cb0103-af8a-41de-881a-1d7f0cf7c39d",
   "metadata": {},
   "outputs": [],
   "source": [
    "## Read in processed df from bus_service_increase/B1\n",
    "tract_pop_employ = gpd.read_parquet(f'{service_path}bus_stop_times_by_tract.parquet')\n",
    "tract_pop_employ = tract_pop_employ >> select(-_.num_arrivals, -_.stop_id, -_.itp_id)"
   ]
  },
  {
   "cell_type": "code",
   "execution_count": 44,
   "id": "5cfbfa16-dc4b-4d47-a7a6-7ad28c30bceb",
   "metadata": {},
   "outputs": [
    {
     "data": {
      "text/html": [
       "<div>\n",
       "<style scoped>\n",
       "    .dataframe tbody tr th:only-of-type {\n",
       "        vertical-align: middle;\n",
       "    }\n",
       "\n",
       "    .dataframe tbody tr th {\n",
       "        vertical-align: top;\n",
       "    }\n",
       "\n",
       "    .dataframe thead th {\n",
       "        text-align: right;\n",
       "    }\n",
       "</style>\n",
       "<table border=\"1\" class=\"dataframe\">\n",
       "  <thead>\n",
       "    <tr style=\"text-align: right;\">\n",
       "      <th></th>\n",
       "      <th>Tract</th>\n",
       "      <th>ZIP</th>\n",
       "      <th>Population</th>\n",
       "      <th>sq_mi</th>\n",
       "      <th>pop_sq_mi</th>\n",
       "      <th>overall_ptile</th>\n",
       "      <th>pollution_ptile</th>\n",
       "      <th>popchar_ptile</th>\n",
       "      <th>equity_group</th>\n",
       "      <th>pollution_group</th>\n",
       "      <th>popchar_group</th>\n",
       "      <th>County</th>\n",
       "      <th>City</th>\n",
       "      <th>geometry</th>\n",
       "      <th>num_jobs</th>\n",
       "      <th>jobs_sq_mi</th>\n",
       "      <th>num_pop_jobs</th>\n",
       "      <th>popjobs_sq_mi</th>\n",
       "    </tr>\n",
       "  </thead>\n",
       "  <tbody>\n",
       "    <tr>\n",
       "      <th>0</th>\n",
       "      <td>06001400100</td>\n",
       "      <td>94704</td>\n",
       "      <td>3120</td>\n",
       "      <td>2.655917</td>\n",
       "      <td>1174.735672</td>\n",
       "      <td>2.798790</td>\n",
       "      <td>26.621033</td>\n",
       "      <td>1.525466</td>\n",
       "      <td>1.0</td>\n",
       "      <td>1</td>\n",
       "      <td>1.0</td>\n",
       "      <td>Alameda</td>\n",
       "      <td>Oakland</td>\n",
       "      <td>POLYGON ((-122.24408 37.88322, -122.24198 37.8...</td>\n",
       "      <td>936</td>\n",
       "      <td>352.420702</td>\n",
       "      <td>4056</td>\n",
       "      <td>1527.156374</td>\n",
       "    </tr>\n",
       "    <tr>\n",
       "      <th>1</th>\n",
       "      <td>06001400200</td>\n",
       "      <td>94618</td>\n",
       "      <td>2007</td>\n",
       "      <td>0.229901</td>\n",
       "      <td>8729.842564</td>\n",
       "      <td>2.874433</td>\n",
       "      <td>24.181705</td>\n",
       "      <td>1.651538</td>\n",
       "      <td>1.0</td>\n",
       "      <td>1</td>\n",
       "      <td>1.0</td>\n",
       "      <td>Alameda</td>\n",
       "      <td>Oakland</td>\n",
       "      <td>POLYGON ((-122.24191 37.85181, -122.24202 37.8...</td>\n",
       "      <td>1357</td>\n",
       "      <td>5902.539292</td>\n",
       "      <td>3364</td>\n",
       "      <td>14632.381857</td>\n",
       "    </tr>\n",
       "    <tr>\n",
       "      <th>2</th>\n",
       "      <td>06001400300</td>\n",
       "      <td>94618</td>\n",
       "      <td>5051</td>\n",
       "      <td>0.427356</td>\n",
       "      <td>11819.185546</td>\n",
       "      <td>15.935451</td>\n",
       "      <td>33.366521</td>\n",
       "      <td>12.266768</td>\n",
       "      <td>1.0</td>\n",
       "      <td>2</td>\n",
       "      <td>1.0</td>\n",
       "      <td>Alameda</td>\n",
       "      <td>Oakland</td>\n",
       "      <td>POLYGON ((-122.24590 37.84500, -122.25241 37.8...</td>\n",
       "      <td>1978</td>\n",
       "      <td>4628.459515</td>\n",
       "      <td>7029</td>\n",
       "      <td>16447.645061</td>\n",
       "    </tr>\n",
       "  </tbody>\n",
       "</table>\n",
       "</div>"
      ],
      "text/plain": [
       "         Tract    ZIP  Population     sq_mi     pop_sq_mi  overall_ptile  \\\n",
       "0  06001400100  94704        3120  2.655917   1174.735672       2.798790   \n",
       "1  06001400200  94618        2007  0.229901   8729.842564       2.874433   \n",
       "2  06001400300  94618        5051  0.427356  11819.185546      15.935451   \n",
       "\n",
       "   pollution_ptile  popchar_ptile  equity_group  pollution_group  \\\n",
       "0        26.621033       1.525466           1.0                1   \n",
       "1        24.181705       1.651538           1.0                1   \n",
       "2        33.366521      12.266768           1.0                2   \n",
       "\n",
       "   popchar_group   County     City  \\\n",
       "0            1.0  Alameda  Oakland   \n",
       "1            1.0  Alameda  Oakland   \n",
       "2            1.0  Alameda  Oakland   \n",
       "\n",
       "                                            geometry  num_jobs   jobs_sq_mi  \\\n",
       "0  POLYGON ((-122.24408 37.88322, -122.24198 37.8...       936   352.420702   \n",
       "1  POLYGON ((-122.24191 37.85181, -122.24202 37.8...      1357  5902.539292   \n",
       "2  POLYGON ((-122.24590 37.84500, -122.25241 37.8...      1978  4628.459515   \n",
       "\n",
       "   num_pop_jobs  popjobs_sq_mi  \n",
       "0          4056    1527.156374  \n",
       "1          3364   14632.381857  \n",
       "2          7029   16447.645061  "
      ]
     },
     "execution_count": 44,
     "metadata": {},
     "output_type": "execute_result"
    }
   ],
   "source": [
    "tract_pop_employ.head(3)"
   ]
  },
  {
   "cell_type": "code",
   "execution_count": 45,
   "id": "e903fe3e-d11a-4ffc-ba49-f3c17341b18d",
   "metadata": {},
   "outputs": [],
   "source": [
    "tract_pop_employ = tract_pop_employ.to_crs(\n",
    "                        shared_utils.geography_utils.CA_NAD83Albers)\n",
    "tract_pop_employ['area'] = tract_pop_employ.geometry.area"
   ]
  },
  {
   "cell_type": "code",
   "execution_count": 46,
   "id": "cebdb00f-bc02-41ad-b55b-dfa9bca50ce0",
   "metadata": {},
   "outputs": [],
   "source": [
    "## option to filter out large tracts (not useful access data...)\n",
    "## 4 sq km threshold\n",
    "tract_pop_employ['under_4_sq_km'] = tract_pop_employ.area < 4e+06"
   ]
  },
  {
   "cell_type": "code",
   "execution_count": 47,
   "id": "41468f14-bf8b-4514-985a-c91b599af6c3",
   "metadata": {},
   "outputs": [
    {
     "data": {
      "text/html": [
       "<div>\n",
       "<style scoped>\n",
       "    .dataframe tbody tr th:only-of-type {\n",
       "        vertical-align: middle;\n",
       "    }\n",
       "\n",
       "    .dataframe tbody tr th {\n",
       "        vertical-align: top;\n",
       "    }\n",
       "\n",
       "    .dataframe thead th {\n",
       "        text-align: right;\n",
       "    }\n",
       "</style>\n",
       "<table border=\"1\" class=\"dataframe\">\n",
       "  <thead>\n",
       "    <tr style=\"text-align: right;\">\n",
       "      <th></th>\n",
       "      <th>under_4_sq_km</th>\n",
       "      <th>jobs</th>\n",
       "    </tr>\n",
       "  </thead>\n",
       "  <tbody>\n",
       "    <tr>\n",
       "      <th>0</th>\n",
       "      <td>False</td>\n",
       "      <td>6770495</td>\n",
       "    </tr>\n",
       "    <tr>\n",
       "      <th>1</th>\n",
       "      <td>True</td>\n",
       "      <td>10386412</td>\n",
       "    </tr>\n",
       "  </tbody>\n",
       "</table>\n",
       "</div>"
      ],
      "text/plain": [
       "   under_4_sq_km      jobs\n",
       "0          False   6770495\n",
       "1           True  10386412"
      ]
     },
     "execution_count": 47,
     "metadata": {},
     "output_type": "execute_result"
    }
   ],
   "source": [
    "job_density = tract_pop_employ >> group_by('under_4_sq_km') >> summarize(jobs = _.num_jobs.sum())\n",
    "job_density"
   ]
  },
  {
   "cell_type": "code",
   "execution_count": 48,
   "id": "2b8ebb2a-5869-4b4a-9f61-2de6d014402c",
   "metadata": {},
   "outputs": [
    {
     "data": {
      "text/plain": [
       "jobs    0.605378\n",
       "dtype: float64"
      ]
     },
     "execution_count": 48,
     "metadata": {},
     "output_type": "execute_result"
    }
   ],
   "source": [
    "## about 60% of CA jobs are in tracts under 4 sq km (scope for this analysis)\n",
    "(job_density >> filter(_.under_4_sq_km) >> select(_.jobs)).sum() / (job_density >> select(_.jobs)).sum()"
   ]
  },
  {
   "cell_type": "code",
   "execution_count": 49,
   "id": "e2a71360-e912-48d3-96fe-2e4bb2717867",
   "metadata": {},
   "outputs": [],
   "source": [
    "## filter out large tracts\n",
    "tract_pop_employ_filtered = tract_pop_employ >> filter(_.under_4_sq_km)"
   ]
  },
  {
   "cell_type": "code",
   "execution_count": 50,
   "id": "402b13fb-77ee-4700-a75a-12383875d46c",
   "metadata": {},
   "outputs": [],
   "source": [
    "all_employment_joined = (tract_pop_employ_filtered\n",
    "                    .sjoin(all_stops, how='inner', predicate='intersects')\n",
    "                    # .drop_duplicates(subset=['Tract'])\n",
    "                   ) >> select(-_.index_right, -_.index_left)"
   ]
  },
  {
   "cell_type": "code",
   "execution_count": 51,
   "id": "fc0af318-e877-485c-b755-2ad95508a1ac",
   "metadata": {},
   "outputs": [],
   "source": [
    "accessible_employment_joined = (tract_pop_employ_filtered\n",
    "                    .sjoin(accessible_stops_trips, how='inner', predicate='intersects')\n",
    "                    # .drop_duplicates(subset=['Tract'])\n",
    "                   ) >> select(-_.index_right, -_.index_left)"
   ]
  },
  {
   "cell_type": "code",
   "execution_count": 52,
   "id": "963b05b7-b49f-4bdd-be4c-d154d4df6a2f",
   "metadata": {},
   "outputs": [
    {
     "data": {
      "text/plain": [
       "99.32"
      ]
     },
     "execution_count": 52,
     "metadata": {},
     "output_type": "execute_result"
    }
   ],
   "source": [
    "## all stops employment access, jobs\n",
    "calculate_access_proportion(all_employment_joined.drop_duplicates(subset=['Tract']), tract_pop_employ_filtered, 'num_jobs')"
   ]
  },
  {
   "cell_type": "code",
   "execution_count": 53,
   "id": "b252d537-58ee-45b8-9881-74f40f44c16e",
   "metadata": {},
   "outputs": [
    {
     "data": {
      "text/plain": [
       "18.61"
      ]
     },
     "execution_count": 53,
     "metadata": {},
     "output_type": "execute_result"
    }
   ],
   "source": [
    "## accessible stops employment access, jobs\n",
    "calculate_access_proportion(accessible_employment_joined.drop_duplicates(subset=['Tract']), tract_pop_employ_filtered, 'num_jobs')"
   ]
  },
  {
   "cell_type": "code",
   "execution_count": 54,
   "id": "08575ab7-a162-42da-a3ce-fbae9d79e923",
   "metadata": {},
   "outputs": [],
   "source": [
    "accessible_stops_trips_rt = accessible_stops_trips_rt >> select(-_.index_right, -_.index_left)"
   ]
  },
  {
   "cell_type": "code",
   "execution_count": 55,
   "id": "55fa262f-373e-41ae-96ff-d05abbf5e5ca",
   "metadata": {},
   "outputs": [],
   "source": [
    "acc_rt_employ = (tract_pop_employ_filtered\n",
    "                    .sjoin(accessible_stops_trips_rt, how='inner', predicate='intersects')\n",
    "                    .drop_duplicates(subset=['Tract'])\n",
    "                   )"
   ]
  },
  {
   "cell_type": "code",
   "execution_count": 56,
   "id": "5b32c98b-f87f-4631-8c29-5602acf96cf4",
   "metadata": {},
   "outputs": [
    {
     "data": {
      "text/plain": [
       "11.79"
      ]
     },
     "execution_count": 56,
     "metadata": {},
     "output_type": "execute_result"
    }
   ],
   "source": [
    "## accessible with RT stops employment access, population\n",
    "calculate_access_proportion(acc_rt_employ, tract_pop_employ_filtered, 'num_jobs')"
   ]
  },
  {
   "cell_type": "code",
   "execution_count": 57,
   "id": "ab87784a-b993-4237-ba1f-9c5f8d03b6c4",
   "metadata": {},
   "outputs": [],
   "source": [
    "all_stops_rt = all_stops_rt >> select(-_.index_right, -_.index_left)"
   ]
  },
  {
   "cell_type": "code",
   "execution_count": null,
   "id": "46531eec-578e-4b0d-8b54-78510fa68276",
   "metadata": {},
   "outputs": [],
   "source": [
    "all_rt_employ = (tract_pop_employ_filtered\n",
    "                    .sjoin(all_stops_rt, how='inner', predicate='intersects')\n",
    "                    .drop_duplicates(subset=['Tract'])\n",
    "                   )"
   ]
  },
  {
   "cell_type": "code",
   "execution_count": null,
   "id": "9e9ca43c-046f-4d78-be88-b57a1860d2c3",
   "metadata": {},
   "outputs": [],
   "source": [
    "## all RT stops employment access, population\n",
    "calculate_access_proportion(all_rt_employ, tract_pop_employ_filtered, 'num_jobs')"
   ]
  },
  {
   "cell_type": "markdown",
   "id": "c26bbc09-817c-475a-a097-de05b195d9f4",
   "metadata": {},
   "source": [
    "### Summarizing Coverage"
   ]
  },
  {
   "cell_type": "code",
   "execution_count": null,
   "id": "af545319-1594-401b-9040-e61dc4c06ede",
   "metadata": {},
   "outputs": [],
   "source": [
    "## since employment data is tract-level, only includes tracts < 4 sq km (~60% of jobs)\n",
    "employment_summary = (all_employment_joined\n",
    " >> group_by(_.calitp_itp_id)\n",
    " >> distinct(_.Tract, _keep_all=True) ##geo_id must be distinct per feed...\n",
    " >> summarize(total_jobs = _.num_jobs.sum())\n",
    ")"
   ]
  },
  {
   "cell_type": "code",
   "execution_count": null,
   "id": "45207456-e3b9-4062-a92f-e0028c75f8ff",
   "metadata": {},
   "outputs": [],
   "source": [
    "SQ_MI_PER_SQ_M = 3.86e-7\n",
    "\n",
    "coverage_summary = (block_level_static\n",
    " >> group_by(_.calitp_itp_id)\n",
    " >> distinct(_.geo_id, _keep_all=True) ##geo_id must be distinct per feed...\n",
    " >> summarize(total_sq_mi = (_.area.sum() * SQ_MI_PER_SQ_M).astype('int64'),\n",
    "             total_pop = _.block_pop.sum(),\n",
    "             ))"
   ]
  },
  {
   "cell_type": "code",
   "execution_count": null,
   "id": "57d6f193-8a50-439e-9e0a-74e8d62f0f48",
   "metadata": {},
   "outputs": [],
   "source": [
    "coverage_summary = coverage_summary >> inner_join(_, employment_summary, on ='calitp_itp_id')"
   ]
  },
  {
   "cell_type": "code",
   "execution_count": null,
   "id": "6ef7500d-85c5-487e-84b2-434e472fe621",
   "metadata": {},
   "outputs": [],
   "source": [
    "coverage_summary['any_accessible_stops_trips'] = coverage_summary.apply(lambda x: x.calitp_itp_id in (\n",
    "                             block_level_accessible.calitp_itp_id.unique()), axis=1)\n",
    "coverage_summary['any_rt'] = coverage_summary.apply(lambda x: x.calitp_itp_id in (\n",
    "                             rt_complete.calitp_itp_id.unique()), axis=1)"
   ]
  },
  {
   "cell_type": "code",
   "execution_count": null,
   "id": "b9c59ce2-d381-4be8-b93c-c5e45527c6c7",
   "metadata": {},
   "outputs": [],
   "source": [
    "with_name = coverage_summary >> inner_join(_, tbl.gtfs_schedule.agency() >> distinct(_.agency_name, _.calitp_itp_id) >> collect(), on = 'calitp_itp_id')"
   ]
  },
  {
   "cell_type": "code",
   "execution_count": null,
   "id": "679f7f01-129e-4ecd-8111-04362a870a47",
   "metadata": {},
   "outputs": [],
   "source": [
    "# with_name = with_name >> filter(_.calitp_itp_id.apply(lamb) != 1 0, _.calitp_itp_id != 8,\n",
    "#                                 _.calitp_itp_id != 2, _.calitp_itp_id != 3) ## see issue 988\n",
    "coverage_summary = coverage_summary >> filter(_.calitp_itp_id.apply(lambda x: x not in [0,1,2,3,8,6])) ## see issue 988"
   ]
  },
  {
   "cell_type": "code",
   "execution_count": null,
   "id": "b448c78a-43af-42e8-b6aa-db67c286ff18",
   "metadata": {},
   "outputs": [],
   "source": [
    "coverage_summary.to_csv('draft_feed_metrics.csv')"
   ]
  },
  {
   "cell_type": "code",
   "execution_count": null,
   "id": "7ea9efb3-61a4-410b-ac74-56c7dc98b15a",
   "metadata": {},
   "outputs": [],
   "source": [
    "row_metrics = {'Population': 'block_pop', 'Land Area': 'area', 'Jobs (<4sq km tracts only)': 'num_jobs'}\n",
    "col_geographies = {'GTFS Static': [block_level_static.drop_duplicates(subset=['geo_id']),\n",
    "                                   all_employment_joined.drop_duplicates(subset=['Tract'])],\n",
    "                   'Accessible Static': [block_level_accessible.drop_duplicates(subset=['geo_id']),\n",
    "                                         accessible_employment_joined.drop_duplicates(subset=['Tract'])],\n",
    "                   'GTFS RT': [all_stops_rt.drop_duplicates(subset=['geo_id']), all_rt_employ],\n",
    "                   'Accessible RT': [accessible_stops_trips_rt.drop_duplicates(subset=['geo_id']),\n",
    "                                     acc_rt_employ.drop_duplicates(subset=['Tract'])]}"
   ]
  },
  {
   "cell_type": "code",
   "execution_count": null,
   "id": "0f545b0c-4be7-4639-8aa8-2d7e73ef8491",
   "metadata": {},
   "outputs": [],
   "source": [
    "summary_df = pd.DataFrame()\n",
    "\n",
    "for row in row_metrics.keys():\n",
    "    to_append = {}\n",
    "    if row == 'Jobs (<4sq km tracts only)':\n",
    "        for col in col_geographies.keys():\n",
    "            metric = calculate_access_proportion(col_geographies[col][1], tract_pop_employ_filtered, row_metrics[row])\n",
    "            to_append[col] = metric\n",
    "    else:\n",
    "        for col in col_geographies.keys():\n",
    "            metric = calculate_access_proportion(col_geographies[col][0], ca_block_joined, row_metrics[row])\n",
    "            to_append[col] = metric\n",
    "    to_append = pd.DataFrame(to_append, index = [row])\n",
    "    summary_df = summary_df.append(to_append)    "
   ]
  },
  {
   "cell_type": "markdown",
   "id": "5c0a8b76-420c-4d16-b5d4-4ccedba1eefc",
   "metadata": {},
   "source": [
    "## Summary of all Metrics\n",
    "\n",
    "* Population metrics: percent of CA population within a block group near a qualifying transit stop, excluding block groups > 4 sq km\n",
    "* Land Area metrics: percent of CA land area made up of block groups near a qualifying transit stop, excluding block groups > 4 sq km\n",
    "* Employment metrics: percent of CA jobs in a census tract near a qualifying transit stop, excluding tracts > 4 sq km\n",
    "    * this currently means the analysis only looks at about 60% of CA jobs, it could be made more precise by pulling finer-grained employment data if desired\n",
    "    * likely makes transit look \"better\" than a job analysis of all jobs, since these urban/suburban tracts are probably more likely to have at least some transit service"
   ]
  },
  {
   "cell_type": "code",
   "execution_count": null,
   "id": "b93fb211-a4cc-438d-b7e5-e50ab9347cd1",
   "metadata": {},
   "outputs": [],
   "source": [
    "summary_df"
   ]
  },
  {
   "cell_type": "code",
   "execution_count": null,
   "id": "02ff2bce-bb69-48e2-8685-661f5f84a8d7",
   "metadata": {},
   "outputs": [],
   "source": []
  }
 ],
 "metadata": {
  "kernelspec": {
   "display_name": "Python 3 (ipykernel)",
   "language": "python",
   "name": "python3"
  },
  "language_info": {
   "codemirror_mode": {
    "name": "ipython",
    "version": 3
   },
   "file_extension": ".py",
   "mimetype": "text/x-python",
   "name": "python",
   "nbconvert_exporter": "python",
   "pygments_lexer": "ipython3",
   "version": "3.9.7"
  }
 },
 "nbformat": 4,
 "nbformat_minor": 5
}
