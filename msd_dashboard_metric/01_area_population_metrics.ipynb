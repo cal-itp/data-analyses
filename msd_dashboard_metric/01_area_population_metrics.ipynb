{
 "cells": [
  {
   "cell_type": "code",
   "execution_count": 1,
   "id": "1e265c3d-d876-41fa-b864-19fd5d70c203",
   "metadata": {},
   "outputs": [
    {
     "name": "stderr",
     "output_type": "stream",
     "text": [
      "/opt/conda/lib/python3.9/site-packages/geopandas/_compat.py:111: UserWarning: The Shapely GEOS version (3.9.1-CAPI-1.14.2) is incompatible with the GEOS version PyGEOS was compiled with (3.10.1-CAPI-1.16.0). Conversions between both will be slow.\n",
      "  warnings.warn(\n"
     ]
    }
   ],
   "source": [
    "import pandas as pd\n",
    "import geopandas as gpd\n",
    "\n",
    "import shared_utils\n",
    "from utils import *\n",
    "import intake\n",
    "import gcsfs\n",
    "\n",
    "import calitp\n",
    "from calitp.tables import tbl\n",
    "from siuba import *"
   ]
  },
  {
   "cell_type": "code",
   "execution_count": 2,
   "id": "5463cbce-1aa4-45ff-93b2-1bd96d120a94",
   "metadata": {},
   "outputs": [],
   "source": [
    "catalog = intake.open_catalog('./catalog.yml')"
   ]
  },
  {
   "cell_type": "markdown",
   "id": "34cb4ba3-117c-4a20-a1a4-c98b7aad9cdc",
   "metadata": {},
   "source": [
    "# Accessible Transit Metrics"
   ]
  },
  {
   "cell_type": "markdown",
   "id": "639dd482-463f-480d-9181-76cb532f8b3c",
   "metadata": {},
   "source": [
    "### New Accessibilty Metric (Area)\n",
    "\n",
    "The % of non-water area of California that is within 1/4 mi of a bus stop or 1 mi of a ferry/rail stop that is explicitly wheelchair accessible (and if in a station, that station has explicit pathways coding), and that has is served by a public-funded, open to the general public transit service with GTFS Schedule data that is served by a service that is explicitly wheelchair accessible"
   ]
  },
  {
   "cell_type": "markdown",
   "id": "58521b9e-6ae7-42e4-b0e8-8565a5de796c",
   "metadata": {},
   "source": [
    "### New Accessibility Metric (Population)\n",
    "\n",
    " The % of Californians that are within 1/4 mi of a bus stop or 1 mi of a ferry/rail stop that is explicitly wheelchair accessible (and if in a station, that station has explicit pathways coding), and that has is served by a public-funded, open to the general public transit service with GTFS Schedule data that is served by a service that is explicitly wheelchair accessible"
   ]
  },
  {
   "cell_type": "markdown",
   "id": "85d1087a-359b-4f4e-b8f2-f5e2ed1fb140",
   "metadata": {},
   "source": [
    "### Notes and Caveats:\n",
    "\n",
    "* The vast majority of accessible services don't appear to provide accessibility data in GTFS\n",
    "* Pathways appears to be empty in data warehouse for now..."
   ]
  },
  {
   "cell_type": "code",
   "execution_count": 3,
   "id": "8890b880-6a42-4544-9173-cfcb795eeb87",
   "metadata": {},
   "outputs": [],
   "source": [
    "total_pop_var = 'B01001_001E'"
   ]
  },
  {
   "cell_type": "code",
   "execution_count": 4,
   "id": "b00f500a-a2a7-4b9f-ab19-d6619c5039b0",
   "metadata": {},
   "outputs": [],
   "source": [
    "## can hit Census API limits with frequent runs?\n",
    "\n",
    "# blockgrp_pop = get_census_ca_counties(total_pop_var, 'block%20group')\n",
    "# blockgrp_pop = blockgrp_pop.rename(columns={'B01001_001E': 'block_grp_pop',\n",
    "#                                            'block group': 'block_grp'})"
   ]
  },
  {
   "cell_type": "code",
   "execution_count": 5,
   "id": "7ebe259f-3371-4e23-a979-60a392f76950",
   "metadata": {},
   "outputs": [],
   "source": [
    "## read pre-fetched 2019 ACS data from catalog\n",
    "blockgrp_pop = (catalog.ca_bg_population.read()\n",
    "                .rename(columns={'block group': 'block_grp',\n",
    "                                'population': 'block_grp_pop'})\n",
    "                .astype({'block_grp_pop': 'int64', 'state': 'int64',\n",
    "                        'county': 'int64', 'tract': 'int64',\n",
    "                        'block_grp': 'int64'})\n",
    "               )"
   ]
  },
  {
   "cell_type": "code",
   "execution_count": 6,
   "id": "ae24c2b3-1f01-4977-a4ca-210dad8743ab",
   "metadata": {},
   "outputs": [
    {
     "data": {
      "text/html": [
       "<div>\n",
       "<style scoped>\n",
       "    .dataframe tbody tr th:only-of-type {\n",
       "        vertical-align: middle;\n",
       "    }\n",
       "\n",
       "    .dataframe tbody tr th {\n",
       "        vertical-align: top;\n",
       "    }\n",
       "\n",
       "    .dataframe thead th {\n",
       "        text-align: right;\n",
       "    }\n",
       "</style>\n",
       "<table border=\"1\" class=\"dataframe\">\n",
       "  <thead>\n",
       "    <tr style=\"text-align: right;\">\n",
       "      <th></th>\n",
       "      <th>NAME</th>\n",
       "      <th>block_grp_pop</th>\n",
       "      <th>state</th>\n",
       "      <th>county</th>\n",
       "      <th>tract</th>\n",
       "      <th>block_grp</th>\n",
       "    </tr>\n",
       "  </thead>\n",
       "  <tbody>\n",
       "    <tr>\n",
       "      <th>0</th>\n",
       "      <td>Block Group 2, Census Tract 12, Merced County,...</td>\n",
       "      <td>1388</td>\n",
       "      <td>6</td>\n",
       "      <td>47</td>\n",
       "      <td>1200</td>\n",
       "      <td>2</td>\n",
       "    </tr>\n",
       "    <tr>\n",
       "      <th>1</th>\n",
       "      <td>Block Group 4, Census Tract 12, Merced County,...</td>\n",
       "      <td>1531</td>\n",
       "      <td>6</td>\n",
       "      <td>47</td>\n",
       "      <td>1200</td>\n",
       "      <td>4</td>\n",
       "    </tr>\n",
       "    <tr>\n",
       "      <th>2</th>\n",
       "      <td>Block Group 1, Census Tract 12, Merced County,...</td>\n",
       "      <td>1405</td>\n",
       "      <td>6</td>\n",
       "      <td>47</td>\n",
       "      <td>1200</td>\n",
       "      <td>1</td>\n",
       "    </tr>\n",
       "  </tbody>\n",
       "</table>\n",
       "</div>"
      ],
      "text/plain": [
       "                                                NAME  block_grp_pop  state  \\\n",
       "0  Block Group 2, Census Tract 12, Merced County,...           1388      6   \n",
       "1  Block Group 4, Census Tract 12, Merced County,...           1531      6   \n",
       "2  Block Group 1, Census Tract 12, Merced County,...           1405      6   \n",
       "\n",
       "   county  tract  block_grp  \n",
       "0      47   1200          2  \n",
       "1      47   1200          4  \n",
       "2      47   1200          1  "
      ]
     },
     "execution_count": 6,
     "metadata": {},
     "output_type": "execute_result"
    }
   ],
   "source": [
    "blockgrp_pop.head(3)"
   ]
  },
  {
   "cell_type": "code",
   "execution_count": 7,
   "id": "d8fade15-44c9-4967-8012-1517b9f5b66d",
   "metadata": {},
   "outputs": [],
   "source": [
    "accessible_stops_trips = get_stops_and_trips(filter_accessible = True)"
   ]
  },
  {
   "cell_type": "code",
   "execution_count": 8,
   "id": "ccd970ac-61ba-4656-94f7-a030aa6e3838",
   "metadata": {},
   "outputs": [
    {
     "data": {
      "text/html": [
       "<div>\n",
       "<style scoped>\n",
       "    .dataframe tbody tr th:only-of-type {\n",
       "        vertical-align: middle;\n",
       "    }\n",
       "\n",
       "    .dataframe tbody tr th {\n",
       "        vertical-align: top;\n",
       "    }\n",
       "\n",
       "    .dataframe thead th {\n",
       "        text-align: right;\n",
       "    }\n",
       "</style>\n",
       "<table border=\"1\" class=\"dataframe\">\n",
       "  <thead>\n",
       "    <tr style=\"text-align: right;\">\n",
       "      <th></th>\n",
       "      <th>stop_id</th>\n",
       "      <th>route_type</th>\n",
       "      <th>stop_lon</th>\n",
       "      <th>stop_lat</th>\n",
       "      <th>calitp_itp_id</th>\n",
       "      <th>calitp_url_number</th>\n",
       "      <th>wheelchair_boarding</th>\n",
       "      <th>wheelchair_accessible</th>\n",
       "      <th>geometry</th>\n",
       "    </tr>\n",
       "  </thead>\n",
       "  <tbody>\n",
       "    <tr>\n",
       "      <th>0</th>\n",
       "      <td>3820402</td>\n",
       "      <td>3</td>\n",
       "      <td>-122.077278</td>\n",
       "      <td>37.394672</td>\n",
       "      <td>217</td>\n",
       "      <td>0</td>\n",
       "      <td>1</td>\n",
       "      <td>1</td>\n",
       "      <td>POINT (-183632.839 -67099.301)</td>\n",
       "    </tr>\n",
       "    <tr>\n",
       "      <th>1</th>\n",
       "      <td>6684616</td>\n",
       "      <td>3</td>\n",
       "      <td>-122.098777</td>\n",
       "      <td>37.431429</td>\n",
       "      <td>217</td>\n",
       "      <td>0</td>\n",
       "      <td>1</td>\n",
       "      <td>1</td>\n",
       "      <td>POINT (-185442.541 -62972.434)</td>\n",
       "    </tr>\n",
       "    <tr>\n",
       "      <th>2</th>\n",
       "      <td>7269843</td>\n",
       "      <td>3</td>\n",
       "      <td>-122.111591</td>\n",
       "      <td>37.404887</td>\n",
       "      <td>217</td>\n",
       "      <td>0</td>\n",
       "      <td>1</td>\n",
       "      <td>1</td>\n",
       "      <td>POINT (-186640.338 -65897.079)</td>\n",
       "    </tr>\n",
       "  </tbody>\n",
       "</table>\n",
       "</div>"
      ],
      "text/plain": [
       "   stop_id route_type    stop_lon   stop_lat  calitp_itp_id  \\\n",
       "0  3820402          3 -122.077278  37.394672            217   \n",
       "1  6684616          3 -122.098777  37.431429            217   \n",
       "2  7269843          3 -122.111591  37.404887            217   \n",
       "\n",
       "   calitp_url_number wheelchair_boarding wheelchair_accessible  \\\n",
       "0                  0                   1                     1   \n",
       "1                  0                   1                     1   \n",
       "2                  0                   1                     1   \n",
       "\n",
       "                         geometry  \n",
       "0  POINT (-183632.839 -67099.301)  \n",
       "1  POINT (-185442.541 -62972.434)  \n",
       "2  POINT (-186640.338 -65897.079)  "
      ]
     },
     "execution_count": 8,
     "metadata": {},
     "output_type": "execute_result"
    }
   ],
   "source": [
    "accessible_stops_trips.head(3)"
   ]
  },
  {
   "cell_type": "code",
   "execution_count": 9,
   "id": "6f86eafd-c93f-45a6-a0ed-490297e08456",
   "metadata": {},
   "outputs": [],
   "source": [
    "bus_route_types = ['3', '11']\n",
    "\n",
    "def buffer_by_route_type(row):\n",
    "    '''\n",
    "    Buffer bus stops by 400 meters (.25mi),\n",
    "    rail/ferry by 1600 meters (1mi)\n",
    "    '''\n",
    "    if row.route_type in bus_route_types:\n",
    "        row.geometry = row.geometry.buffer(400)\n",
    "    else:\n",
    "        row.geometry = row.geometry.buffer(1600)\n",
    "    return row"
   ]
  },
  {
   "cell_type": "code",
   "execution_count": 10,
   "id": "3658e76a-57eb-4e32-9d78-5e32f6f10e5f",
   "metadata": {},
   "outputs": [],
   "source": [
    "accessible_stops_trips = accessible_stops_trips.apply(buffer_by_route_type, axis=1)"
   ]
  },
  {
   "cell_type": "code",
   "execution_count": 11,
   "id": "27498b14-1edc-47a1-8ed4-4928a1c2cc59",
   "metadata": {},
   "outputs": [],
   "source": [
    "ca_block_geo = catalog.ca_block_groups.read()\n",
    "ca_block_geo = ca_block_geo.to_crs('EPSG:4326')"
   ]
  },
  {
   "cell_type": "code",
   "execution_count": 12,
   "id": "91fd03c9-9a13-4894-a2e5-8293b12466ae",
   "metadata": {},
   "outputs": [],
   "source": [
    "stanford_shorelines = catalog.stanford_shorelines.read()"
   ]
  },
  {
   "cell_type": "code",
   "execution_count": 13,
   "id": "4f630be2-5a1b-48a4-b3aa-7b20cd65e5f3",
   "metadata": {},
   "outputs": [],
   "source": [
    "ca_shoreline = stanford_shorelines >> filter(_.STFIPS == '06')"
   ]
  },
  {
   "cell_type": "code",
   "execution_count": 14,
   "id": "f9132f15-b2e4-43b7-b1ca-1e56211f04b9",
   "metadata": {},
   "outputs": [],
   "source": [
    "ca_block_geo = ca_block_geo.clip(ca_shoreline)"
   ]
  },
  {
   "cell_type": "code",
   "execution_count": 15,
   "id": "d7b60ee0-51d7-4e0a-b64c-76c995e185bd",
   "metadata": {},
   "outputs": [],
   "source": [
    "ca_block_geo = ca_block_geo.to_crs(shared_utils.geography_utils.CA_NAD83Albers)"
   ]
  },
  {
   "cell_type": "code",
   "execution_count": 16,
   "id": "e842847b-f40a-48c2-8ca1-4745ee1a4679",
   "metadata": {},
   "outputs": [],
   "source": [
    "## drop large block groups (not useful access data...)\n",
    "## 4 sq km threshold\n",
    "ca_block_geo = ca_block_geo[ca_block_geo.geometry.area < 4e+06]"
   ]
  },
  {
   "cell_type": "code",
   "execution_count": 17,
   "id": "b55c6aa4-38f6-435f-abd3-348f90da7c74",
   "metadata": {},
   "outputs": [],
   "source": [
    "ca_block_geo = ca_block_geo.astype({'STATEFP': 'int64',\n",
    "                                            'COUNTYFP': 'int64',\n",
    "                                            'TRACTCE': 'int64',\n",
    "                                            'BLKGRPCE': 'int64'})\n",
    "ca_block_geo = ca_block_geo.rename(columns={'STATEFP': 'state',\n",
    "                                                   'COUNTYFP': 'county',\n",
    "                                                   'TRACTCE': 'tract',\n",
    "                                                   'BLKGRPCE': 'block_grp'})"
   ]
  },
  {
   "cell_type": "code",
   "execution_count": 18,
   "id": "5801fb18-15a8-46a5-bea9-93b212db2384",
   "metadata": {},
   "outputs": [],
   "source": [
    "geo_stops_joined = ca_block_geo.sjoin(accessible_stops_trips, how='inner', predicate='intersects')"
   ]
  },
  {
   "cell_type": "code",
   "execution_count": 19,
   "id": "b2ca867f-753f-40f9-a07d-82aa56411b3d",
   "metadata": {},
   "outputs": [],
   "source": [
    "geo_stops_joined = geo_stops_joined.drop_duplicates(subset=['GEOID'])"
   ]
  },
  {
   "cell_type": "code",
   "execution_count": 20,
   "id": "2538593c-f7f5-4cdb-80f6-289f4f448766",
   "metadata": {},
   "outputs": [
    {
     "data": {
      "text/html": [
       "<div>\n",
       "<style scoped>\n",
       "    .dataframe tbody tr th:only-of-type {\n",
       "        vertical-align: middle;\n",
       "    }\n",
       "\n",
       "    .dataframe tbody tr th {\n",
       "        vertical-align: top;\n",
       "    }\n",
       "\n",
       "    .dataframe thead th {\n",
       "        text-align: right;\n",
       "    }\n",
       "</style>\n",
       "<table border=\"1\" class=\"dataframe\">\n",
       "  <thead>\n",
       "    <tr style=\"text-align: right;\">\n",
       "      <th></th>\n",
       "      <th>state</th>\n",
       "      <th>county</th>\n",
       "      <th>tract</th>\n",
       "      <th>block_grp</th>\n",
       "      <th>GEOID</th>\n",
       "      <th>NAMELSAD</th>\n",
       "      <th>MTFCC</th>\n",
       "      <th>FUNCSTAT</th>\n",
       "      <th>ALAND</th>\n",
       "      <th>AWATER</th>\n",
       "      <th>...</th>\n",
       "      <th>geometry</th>\n",
       "      <th>index_right</th>\n",
       "      <th>stop_id</th>\n",
       "      <th>route_type</th>\n",
       "      <th>stop_lon</th>\n",
       "      <th>stop_lat</th>\n",
       "      <th>calitp_itp_id</th>\n",
       "      <th>calitp_url_number</th>\n",
       "      <th>wheelchair_boarding</th>\n",
       "      <th>wheelchair_accessible</th>\n",
       "    </tr>\n",
       "  </thead>\n",
       "  <tbody>\n",
       "    <tr>\n",
       "      <th>16760</th>\n",
       "      <td>6</td>\n",
       "      <td>73</td>\n",
       "      <td>10009</td>\n",
       "      <td>1</td>\n",
       "      <td>060730100091</td>\n",
       "      <td>Block Group 1</td>\n",
       "      <td>G5030</td>\n",
       "      <td>S</td>\n",
       "      <td>1759046</td>\n",
       "      <td>528681</td>\n",
       "      <td>...</td>\n",
       "      <td>MULTIPOLYGON (((275529.078 -603346.514, 275528...</td>\n",
       "      <td>3591</td>\n",
       "      <td>60601</td>\n",
       "      <td>3</td>\n",
       "      <td>-117.042087</td>\n",
       "      <td>32.545331</td>\n",
       "      <td>278</td>\n",
       "      <td>0</td>\n",
       "      <td>1</td>\n",
       "      <td>1</td>\n",
       "    </tr>\n",
       "    <tr>\n",
       "      <th>18464</th>\n",
       "      <td>6</td>\n",
       "      <td>73</td>\n",
       "      <td>10009</td>\n",
       "      <td>2</td>\n",
       "      <td>060730100092</td>\n",
       "      <td>Block Group 2</td>\n",
       "      <td>G5030</td>\n",
       "      <td>S</td>\n",
       "      <td>422248</td>\n",
       "      <td>0</td>\n",
       "      <td>...</td>\n",
       "      <td>POLYGON ((277015.844 -602387.172, 277237.214 -...</td>\n",
       "      <td>3591</td>\n",
       "      <td>60601</td>\n",
       "      <td>3</td>\n",
       "      <td>-117.042087</td>\n",
       "      <td>32.545331</td>\n",
       "      <td>278</td>\n",
       "      <td>0</td>\n",
       "      <td>1</td>\n",
       "      <td>1</td>\n",
       "    </tr>\n",
       "    <tr>\n",
       "      <th>18172</th>\n",
       "      <td>6</td>\n",
       "      <td>73</td>\n",
       "      <td>10009</td>\n",
       "      <td>4</td>\n",
       "      <td>060730100094</td>\n",
       "      <td>Block Group 4</td>\n",
       "      <td>G5030</td>\n",
       "      <td>S</td>\n",
       "      <td>621685</td>\n",
       "      <td>0</td>\n",
       "      <td>...</td>\n",
       "      <td>POLYGON ((278109.830 -603029.458, 278179.036 -...</td>\n",
       "      <td>3591</td>\n",
       "      <td>60601</td>\n",
       "      <td>3</td>\n",
       "      <td>-117.042087</td>\n",
       "      <td>32.545331</td>\n",
       "      <td>278</td>\n",
       "      <td>0</td>\n",
       "      <td>1</td>\n",
       "      <td>1</td>\n",
       "    </tr>\n",
       "  </tbody>\n",
       "</table>\n",
       "<p>3 rows × 22 columns</p>\n",
       "</div>"
      ],
      "text/plain": [
       "       state  county  tract  block_grp         GEOID       NAMELSAD  MTFCC  \\\n",
       "16760      6      73  10009          1  060730100091  Block Group 1  G5030   \n",
       "18464      6      73  10009          2  060730100092  Block Group 2  G5030   \n",
       "18172      6      73  10009          4  060730100094  Block Group 4  G5030   \n",
       "\n",
       "      FUNCSTAT    ALAND  AWATER  ...  \\\n",
       "16760        S  1759046  528681  ...   \n",
       "18464        S   422248       0  ...   \n",
       "18172        S   621685       0  ...   \n",
       "\n",
       "                                                geometry index_right stop_id  \\\n",
       "16760  MULTIPOLYGON (((275529.078 -603346.514, 275528...        3591   60601   \n",
       "18464  POLYGON ((277015.844 -602387.172, 277237.214 -...        3591   60601   \n",
       "18172  POLYGON ((278109.830 -603029.458, 278179.036 -...        3591   60601   \n",
       "\n",
       "       route_type    stop_lon   stop_lat  calitp_itp_id  calitp_url_number  \\\n",
       "16760           3 -117.042087  32.545331            278                  0   \n",
       "18464           3 -117.042087  32.545331            278                  0   \n",
       "18172           3 -117.042087  32.545331            278                  0   \n",
       "\n",
       "       wheelchair_boarding  wheelchair_accessible  \n",
       "16760                    1                      1  \n",
       "18464                    1                      1  \n",
       "18172                    1                      1  \n",
       "\n",
       "[3 rows x 22 columns]"
      ]
     },
     "execution_count": 20,
     "metadata": {},
     "output_type": "execute_result"
    }
   ],
   "source": [
    "geo_stops_joined.head(3)"
   ]
  },
  {
   "cell_type": "code",
   "execution_count": 21,
   "id": "fb5f513d-23f1-4d6d-89a2-ea4a5087c5c9",
   "metadata": {},
   "outputs": [],
   "source": [
    "stops_pop_joined = geo_stops_joined >> inner_join(_, blockgrp_pop, on=['state', 'county', 'tract', 'block_grp'])"
   ]
  },
  {
   "cell_type": "code",
   "execution_count": 22,
   "id": "e33fb983-7c9e-4029-b68e-2aec60618bfa",
   "metadata": {},
   "outputs": [
    {
     "data": {
      "text/plain": [
       "2378168"
      ]
     },
     "execution_count": 22,
     "metadata": {},
     "output_type": "execute_result"
    }
   ],
   "source": [
    "stops_pop_joined['block_grp_pop'].sum()"
   ]
  },
  {
   "cell_type": "code",
   "execution_count": 23,
   "id": "69a8cb27-375a-4cee-ba27-ceca233932f7",
   "metadata": {},
   "outputs": [
    {
     "data": {
      "text/plain": [
       "39283497"
      ]
     },
     "execution_count": 23,
     "metadata": {},
     "output_type": "execute_result"
    }
   ],
   "source": [
    "blockgrp_pop['block_grp_pop'].sum()"
   ]
  },
  {
   "cell_type": "markdown",
   "id": "21c3904b-6dc8-41ee-8f19-73f5ad5c6b99",
   "metadata": {},
   "source": [
    "#### Current Percentage of CA population in block groups within .25mi of accessible transit"
   ]
  },
  {
   "cell_type": "code",
   "execution_count": 24,
   "id": "5d030dd1-6c75-424e-b061-5c21f35a9462",
   "metadata": {},
   "outputs": [
    {
     "data": {
      "text/plain": [
       "6.05"
      ]
     },
     "execution_count": 24,
     "metadata": {},
     "output_type": "execute_result"
    }
   ],
   "source": [
    "((stops_pop_joined['block_grp_pop'].sum() / blockgrp_pop['block_grp_pop'].sum()) * 100).round(2)"
   ]
  },
  {
   "cell_type": "code",
   "execution_count": 25,
   "id": "dea3e5ad-e4bb-4d86-bc6c-45c55d774ab7",
   "metadata": {},
   "outputs": [
    {
     "data": {
      "text/plain": [
       "948081833.6124767"
      ]
     },
     "execution_count": 25,
     "metadata": {},
     "output_type": "execute_result"
    }
   ],
   "source": [
    "geo_stops_joined.geometry.area.sum() ## sq meters"
   ]
  },
  {
   "cell_type": "code",
   "execution_count": 26,
   "id": "3ef9d500-973e-409a-9872-255f9c750e78",
   "metadata": {},
   "outputs": [
    {
     "data": {
      "text/plain": [
       "14393648284.97847"
      ]
     },
     "execution_count": 26,
     "metadata": {},
     "output_type": "execute_result"
    }
   ],
   "source": [
    "ca_block_geo.geometry.area.sum()"
   ]
  },
  {
   "cell_type": "markdown",
   "id": "a8274aa7-6608-4a45-81cb-04d00a766358",
   "metadata": {},
   "source": [
    "#### Current Percentage of CA land area in block groups within .25mi of accessible transit"
   ]
  },
  {
   "cell_type": "code",
   "execution_count": 27,
   "id": "9b219a5a-e8d3-4cf3-adab-dfe7820619d7",
   "metadata": {},
   "outputs": [
    {
     "data": {
      "text/plain": [
       "6.59"
      ]
     },
     "execution_count": 27,
     "metadata": {},
     "output_type": "execute_result"
    }
   ],
   "source": [
    "((geo_stops_joined.geometry.area.sum() / ca_block_geo.geometry.area.sum()) * 100).round(2)"
   ]
  },
  {
   "cell_type": "markdown",
   "id": "f18d84fc-a038-4d2c-8ebc-ac7481e9864b",
   "metadata": {},
   "source": [
    "### Map"
   ]
  },
  {
   "cell_type": "code",
   "execution_count": 28,
   "id": "55a36658-e188-4ef5-bf08-0fa0f9e7ec18",
   "metadata": {},
   "outputs": [],
   "source": [
    "# simple_map(geo_stops_joined, 'calitp_itp_id')"
   ]
  },
  {
   "cell_type": "markdown",
   "id": "71b2a81b-f410-45f9-8cc9-62d32d2fadb3",
   "metadata": {},
   "source": [
    "#### Static Map (block groups near accessible transit, Bay Area)\n",
    "\n",
    "![bay area accessiblity](accessible.png)"
   ]
  },
  {
   "cell_type": "markdown",
   "id": "db73185f-6325-4c53-a8cd-fc908b3c2240",
   "metadata": {},
   "source": [
    "# General Transit Metrics"
   ]
  },
  {
   "cell_type": "markdown",
   "id": "28dcde4c-8970-43ae-9602-53a31058194f",
   "metadata": {},
   "source": [
    "### New General Metric (by area):\n",
    "\n",
    "The % of non-water area of Californian that is within 1/4 mi of a bus stop or 1 mi of a ferry/rail stop that has is served by a public-funded, open to the general public transit service with GTFS Schedule data\n"
   ]
  },
  {
   "cell_type": "markdown",
   "id": "885e26b2-69af-45f3-9319-7b14c1822b29",
   "metadata": {},
   "source": [
    "### New General Metric (by population):\n",
    "\n",
    "The % of Californians that live within 1/4 mi of a bus stop or 1 mi of a ferry/rail stop that has is served by a public-funded, open to the general public transit service with GTFS Schedule data\n"
   ]
  },
  {
   "cell_type": "code",
   "execution_count": 29,
   "id": "2e925197-037d-40d0-9d63-bbb8381a1ddb",
   "metadata": {},
   "outputs": [],
   "source": [
    "all_stops = get_stops_and_trips(filter_accessible = False)"
   ]
  },
  {
   "cell_type": "code",
   "execution_count": 30,
   "id": "0871d6fd-edc6-42b5-8bf8-5d4844287e5e",
   "metadata": {},
   "outputs": [
    {
     "data": {
      "text/html": [
       "<div>\n",
       "<style scoped>\n",
       "    .dataframe tbody tr th:only-of-type {\n",
       "        vertical-align: middle;\n",
       "    }\n",
       "\n",
       "    .dataframe tbody tr th {\n",
       "        vertical-align: top;\n",
       "    }\n",
       "\n",
       "    .dataframe thead th {\n",
       "        text-align: right;\n",
       "    }\n",
       "</style>\n",
       "<table border=\"1\" class=\"dataframe\">\n",
       "  <thead>\n",
       "    <tr style=\"text-align: right;\">\n",
       "      <th></th>\n",
       "      <th>stop_id</th>\n",
       "      <th>route_type</th>\n",
       "      <th>stop_lon</th>\n",
       "      <th>stop_lat</th>\n",
       "      <th>calitp_itp_id</th>\n",
       "      <th>calitp_url_number</th>\n",
       "      <th>wheelchair_boarding</th>\n",
       "      <th>wheelchair_accessible</th>\n",
       "      <th>geometry</th>\n",
       "    </tr>\n",
       "  </thead>\n",
       "  <tbody>\n",
       "    <tr>\n",
       "      <th>0</th>\n",
       "      <td>65</td>\n",
       "      <td>3</td>\n",
       "      <td>-114.646275</td>\n",
       "      <td>32.683792</td>\n",
       "      <td>386</td>\n",
       "      <td>0</td>\n",
       "      <td>None</td>\n",
       "      <td>None</td>\n",
       "      <td>POINT (502573.151 -577852.724)</td>\n",
       "    </tr>\n",
       "    <tr>\n",
       "      <th>1</th>\n",
       "      <td>2628783</td>\n",
       "      <td>3</td>\n",
       "      <td>-117.962626</td>\n",
       "      <td>34.086535</td>\n",
       "      <td>29</td>\n",
       "      <td>0</td>\n",
       "      <td>0</td>\n",
       "      <td>None</td>\n",
       "      <td>POINT (188001.571 -434547.756)</td>\n",
       "    </tr>\n",
       "    <tr>\n",
       "      <th>2</th>\n",
       "      <td>11010</td>\n",
       "      <td>3</td>\n",
       "      <td>-121.163303</td>\n",
       "      <td>38.670296</td>\n",
       "      <td>111</td>\n",
       "      <td>0</td>\n",
       "      <td>None</td>\n",
       "      <td>None</td>\n",
       "      <td>POINT (-101102.542 73312.845)</td>\n",
       "    </tr>\n",
       "  </tbody>\n",
       "</table>\n",
       "</div>"
      ],
      "text/plain": [
       "   stop_id route_type    stop_lon   stop_lat  calitp_itp_id  \\\n",
       "0       65          3 -114.646275  32.683792            386   \n",
       "1  2628783          3 -117.962626  34.086535             29   \n",
       "2    11010          3 -121.163303  38.670296            111   \n",
       "\n",
       "   calitp_url_number wheelchair_boarding wheelchair_accessible  \\\n",
       "0                  0                None                  None   \n",
       "1                  0                   0                  None   \n",
       "2                  0                None                  None   \n",
       "\n",
       "                         geometry  \n",
       "0  POINT (502573.151 -577852.724)  \n",
       "1  POINT (188001.571 -434547.756)  \n",
       "2   POINT (-101102.542 73312.845)  "
      ]
     },
     "execution_count": 30,
     "metadata": {},
     "output_type": "execute_result"
    }
   ],
   "source": [
    "all_stops.head(3)"
   ]
  },
  {
   "cell_type": "code",
   "execution_count": 31,
   "id": "e9462e5e-5ea8-4308-ab02-2ab8cd17f46b",
   "metadata": {},
   "outputs": [],
   "source": [
    "all_stops_joined = (ca_block_geo\n",
    "                    .sjoin(all_stops, how='inner', predicate='intersects')\n",
    "                    .drop_duplicates(subset=['GEOID'])\n",
    "                   )"
   ]
  },
  {
   "cell_type": "code",
   "execution_count": 32,
   "id": "b34809cf-aaff-4b11-ad99-f060d67c1536",
   "metadata": {},
   "outputs": [],
   "source": [
    "all_stops_pop_joined = all_stops_joined >> inner_join(_, blockgrp_pop, on=['state', 'county', 'tract', 'block_grp'])"
   ]
  },
  {
   "cell_type": "markdown",
   "id": "2174bbf9-46d9-46f1-90e3-ed047f9a1329",
   "metadata": {},
   "source": [
    "#### Current Percentage of CA population in block groups near transit with GTFS Schedule data"
   ]
  },
  {
   "cell_type": "code",
   "execution_count": 33,
   "id": "43e6312f-0896-43c7-9b9b-22e11628d89e",
   "metadata": {},
   "outputs": [
    {
     "data": {
      "text/plain": [
       "51.36"
      ]
     },
     "execution_count": 33,
     "metadata": {},
     "output_type": "execute_result"
    }
   ],
   "source": [
    "((all_stops_pop_joined['block_grp_pop'].sum() / blockgrp_pop['block_grp_pop'].sum()) * 100).round(2)"
   ]
  },
  {
   "cell_type": "markdown",
   "id": "2bf9502b-3b1f-4b75-bf36-cf989e7eb392",
   "metadata": {},
   "source": [
    "#### Current Percentage of CA land area in block groups near transit with GTFS Schedule data"
   ]
  },
  {
   "cell_type": "code",
   "execution_count": 34,
   "id": "f8d64a7b-b693-4b76-b4c0-9de7c74eb296",
   "metadata": {},
   "outputs": [
    {
     "data": {
      "text/plain": [
       "56.45"
      ]
     },
     "execution_count": 34,
     "metadata": {},
     "output_type": "execute_result"
    }
   ],
   "source": [
    "((all_stops_joined.geometry.area.sum() / ca_block_geo.geometry.area.sum()) * 100).round(2)"
   ]
  },
  {
   "cell_type": "markdown",
   "id": "5b58402f-0773-430b-9466-090e90737113",
   "metadata": {},
   "source": [
    "## Employment Metrics"
   ]
  },
  {
   "cell_type": "code",
   "execution_count": 35,
   "id": "d8b2d367-c019-494c-b42b-58c21bfb4380",
   "metadata": {},
   "outputs": [],
   "source": [
    "service_path = 'gs://calitp-analytics-data/data-analyses/bus_service_increase/'"
   ]
  },
  {
   "cell_type": "code",
   "execution_count": 36,
   "id": "51cb0103-af8a-41de-881a-1d7f0cf7c39d",
   "metadata": {},
   "outputs": [],
   "source": [
    "## Read in processed df from bus_service_increase/B1\n",
    "tract_pop_employ = gpd.read_parquet(f'{service_path}bus_stop_times_by_tract.parquet')\n",
    "tract_pop_employ = tract_pop_employ >> select(-_.num_arrivals, -_.stop_id, -_.itp_id)"
   ]
  },
  {
   "cell_type": "code",
   "execution_count": 37,
   "id": "5cfbfa16-dc4b-4d47-a7a6-7ad28c30bceb",
   "metadata": {},
   "outputs": [
    {
     "data": {
      "text/html": [
       "<div>\n",
       "<style scoped>\n",
       "    .dataframe tbody tr th:only-of-type {\n",
       "        vertical-align: middle;\n",
       "    }\n",
       "\n",
       "    .dataframe tbody tr th {\n",
       "        vertical-align: top;\n",
       "    }\n",
       "\n",
       "    .dataframe thead th {\n",
       "        text-align: right;\n",
       "    }\n",
       "</style>\n",
       "<table border=\"1\" class=\"dataframe\">\n",
       "  <thead>\n",
       "    <tr style=\"text-align: right;\">\n",
       "      <th></th>\n",
       "      <th>Tract</th>\n",
       "      <th>ZIP</th>\n",
       "      <th>Population</th>\n",
       "      <th>sq_mi</th>\n",
       "      <th>pop_sq_mi</th>\n",
       "      <th>overall_ptile</th>\n",
       "      <th>pollution_ptile</th>\n",
       "      <th>popchar_ptile</th>\n",
       "      <th>equity_group</th>\n",
       "      <th>pollution_group</th>\n",
       "      <th>popchar_group</th>\n",
       "      <th>County</th>\n",
       "      <th>City</th>\n",
       "      <th>geometry</th>\n",
       "      <th>num_jobs</th>\n",
       "      <th>jobs_sq_mi</th>\n",
       "      <th>num_pop_jobs</th>\n",
       "      <th>popjobs_sq_mi</th>\n",
       "    </tr>\n",
       "  </thead>\n",
       "  <tbody>\n",
       "    <tr>\n",
       "      <th>0</th>\n",
       "      <td>06001400100</td>\n",
       "      <td>94704</td>\n",
       "      <td>3120</td>\n",
       "      <td>2.655917</td>\n",
       "      <td>1174.735672</td>\n",
       "      <td>2.798790</td>\n",
       "      <td>26.621033</td>\n",
       "      <td>1.525466</td>\n",
       "      <td>1.0</td>\n",
       "      <td>1</td>\n",
       "      <td>1.0</td>\n",
       "      <td>Alameda</td>\n",
       "      <td>Oakland</td>\n",
       "      <td>POLYGON ((-122.24408 37.88322, -122.24198 37.8...</td>\n",
       "      <td>936</td>\n",
       "      <td>352.420702</td>\n",
       "      <td>4056</td>\n",
       "      <td>1527.156374</td>\n",
       "    </tr>\n",
       "    <tr>\n",
       "      <th>1</th>\n",
       "      <td>06001400200</td>\n",
       "      <td>94618</td>\n",
       "      <td>2007</td>\n",
       "      <td>0.229901</td>\n",
       "      <td>8729.842564</td>\n",
       "      <td>2.874433</td>\n",
       "      <td>24.181705</td>\n",
       "      <td>1.651538</td>\n",
       "      <td>1.0</td>\n",
       "      <td>1</td>\n",
       "      <td>1.0</td>\n",
       "      <td>Alameda</td>\n",
       "      <td>Oakland</td>\n",
       "      <td>POLYGON ((-122.24191 37.85181, -122.24202 37.8...</td>\n",
       "      <td>1357</td>\n",
       "      <td>5902.539292</td>\n",
       "      <td>3364</td>\n",
       "      <td>14632.381857</td>\n",
       "    </tr>\n",
       "    <tr>\n",
       "      <th>2</th>\n",
       "      <td>06001400300</td>\n",
       "      <td>94618</td>\n",
       "      <td>5051</td>\n",
       "      <td>0.427356</td>\n",
       "      <td>11819.185546</td>\n",
       "      <td>15.935451</td>\n",
       "      <td>33.366521</td>\n",
       "      <td>12.266768</td>\n",
       "      <td>1.0</td>\n",
       "      <td>2</td>\n",
       "      <td>1.0</td>\n",
       "      <td>Alameda</td>\n",
       "      <td>Oakland</td>\n",
       "      <td>POLYGON ((-122.24590 37.84500, -122.25241 37.8...</td>\n",
       "      <td>1978</td>\n",
       "      <td>4628.459515</td>\n",
       "      <td>7029</td>\n",
       "      <td>16447.645061</td>\n",
       "    </tr>\n",
       "  </tbody>\n",
       "</table>\n",
       "</div>"
      ],
      "text/plain": [
       "         Tract    ZIP  Population     sq_mi     pop_sq_mi  overall_ptile  \\\n",
       "0  06001400100  94704        3120  2.655917   1174.735672       2.798790   \n",
       "1  06001400200  94618        2007  0.229901   8729.842564       2.874433   \n",
       "2  06001400300  94618        5051  0.427356  11819.185546      15.935451   \n",
       "\n",
       "   pollution_ptile  popchar_ptile  equity_group  pollution_group  \\\n",
       "0        26.621033       1.525466           1.0                1   \n",
       "1        24.181705       1.651538           1.0                1   \n",
       "2        33.366521      12.266768           1.0                2   \n",
       "\n",
       "   popchar_group   County     City  \\\n",
       "0            1.0  Alameda  Oakland   \n",
       "1            1.0  Alameda  Oakland   \n",
       "2            1.0  Alameda  Oakland   \n",
       "\n",
       "                                            geometry  num_jobs   jobs_sq_mi  \\\n",
       "0  POLYGON ((-122.24408 37.88322, -122.24198 37.8...       936   352.420702   \n",
       "1  POLYGON ((-122.24191 37.85181, -122.24202 37.8...      1357  5902.539292   \n",
       "2  POLYGON ((-122.24590 37.84500, -122.25241 37.8...      1978  4628.459515   \n",
       "\n",
       "   num_pop_jobs  popjobs_sq_mi  \n",
       "0          4056    1527.156374  \n",
       "1          3364   14632.381857  \n",
       "2          7029   16447.645061  "
      ]
     },
     "execution_count": 37,
     "metadata": {},
     "output_type": "execute_result"
    }
   ],
   "source": [
    "tract_pop_employ.head(3)"
   ]
  },
  {
   "cell_type": "code",
   "execution_count": 38,
   "id": "e903fe3e-d11a-4ffc-ba49-f3c17341b18d",
   "metadata": {},
   "outputs": [],
   "source": [
    "tract_pop_employ = tract_pop_employ.to_crs(\n",
    "                        shared_utils.geography_utils.CA_NAD83Albers)"
   ]
  },
  {
   "cell_type": "code",
   "execution_count": 39,
   "id": "a537924a-e0c2-4891-8411-c2def360a0b5",
   "metadata": {},
   "outputs": [
    {
     "data": {
      "text/plain": [
       "<Derived Projected CRS: EPSG:3310>\n",
       "Name: NAD83 / California Albers\n",
       "Axis Info [cartesian]:\n",
       "- X[east]: Easting (metre)\n",
       "- Y[north]: Northing (metre)\n",
       "Area of Use:\n",
       "- name: United States (USA) - California.\n",
       "- bounds: (-124.45, 32.53, -114.12, 42.01)\n",
       "Coordinate Operation:\n",
       "- name: California Albers\n",
       "- method: Albers Equal Area\n",
       "Datum: North American Datum 1983\n",
       "- Ellipsoid: GRS 1980\n",
       "- Prime Meridian: Greenwich"
      ]
     },
     "execution_count": 39,
     "metadata": {},
     "output_type": "execute_result"
    }
   ],
   "source": [
    "tract_pop_employ.crs"
   ]
  },
  {
   "cell_type": "code",
   "execution_count": 55,
   "id": "cebdb00f-bc02-41ad-b55b-dfa9bca50ce0",
   "metadata": {},
   "outputs": [
    {
     "name": "stderr",
     "output_type": "stream",
     "text": [
      "/opt/conda/lib/python3.9/site-packages/geopandas/geodataframe.py:1351: SettingWithCopyWarning: \n",
      "A value is trying to be set on a copy of a slice from a DataFrame.\n",
      "Try using .loc[row_indexer,col_indexer] = value instead\n",
      "\n",
      "See the caveats in the documentation: https://pandas.pydata.org/pandas-docs/stable/user_guide/indexing.html#returning-a-view-versus-a-copy\n",
      "  super().__setitem__(key, value)\n"
     ]
    }
   ],
   "source": [
    "## option to filter out large tracts (not useful access data...)\n",
    "## 4 sq km threshold\n",
    "tract_pop_employ['under_4_sq_km'] = tract_pop_employ.geometry.area < 4e+06"
   ]
  },
  {
   "cell_type": "code",
   "execution_count": 56,
   "id": "41468f14-bf8b-4514-985a-c91b599af6c3",
   "metadata": {},
   "outputs": [
    {
     "data": {
      "text/html": [
       "<div>\n",
       "<style scoped>\n",
       "    .dataframe tbody tr th:only-of-type {\n",
       "        vertical-align: middle;\n",
       "    }\n",
       "\n",
       "    .dataframe tbody tr th {\n",
       "        vertical-align: top;\n",
       "    }\n",
       "\n",
       "    .dataframe thead th {\n",
       "        text-align: right;\n",
       "    }\n",
       "</style>\n",
       "<table border=\"1\" class=\"dataframe\">\n",
       "  <thead>\n",
       "    <tr style=\"text-align: right;\">\n",
       "      <th></th>\n",
       "      <th>under_4_sq_km</th>\n",
       "      <th>jobs</th>\n",
       "    </tr>\n",
       "  </thead>\n",
       "  <tbody>\n",
       "    <tr>\n",
       "      <th>0</th>\n",
       "      <td>True</td>\n",
       "      <td>10386412</td>\n",
       "    </tr>\n",
       "  </tbody>\n",
       "</table>\n",
       "</div>"
      ],
      "text/plain": [
       "   under_4_sq_km      jobs\n",
       "0           True  10386412"
      ]
     },
     "execution_count": 56,
     "metadata": {},
     "output_type": "execute_result"
    }
   ],
   "source": [
    "tract_pop_employ >> group_by('under_4_sq_km') >> summarize(jobs = _.num_jobs.sum())"
   ]
  },
  {
   "cell_type": "code",
   "execution_count": 57,
   "id": "e2a71360-e912-48d3-96fe-2e4bb2717867",
   "metadata": {},
   "outputs": [],
   "source": [
    "## filter out large tracts\n",
    "tract_pop_employ = tract_pop_employ >> filter(_.under_4_sq_km)"
   ]
  },
  {
   "cell_type": "code",
   "execution_count": 58,
   "id": "402b13fb-77ee-4700-a75a-12383875d46c",
   "metadata": {},
   "outputs": [],
   "source": [
    "all_employment_joined = (tract_pop_employ\n",
    "                    .sjoin(all_stops, how='inner', predicate='intersects')\n",
    "                    .drop_duplicates(subset=['Tract'])\n",
    "                   )"
   ]
  },
  {
   "cell_type": "code",
   "execution_count": 59,
   "id": "fc0af318-e877-485c-b755-2ad95508a1ac",
   "metadata": {},
   "outputs": [],
   "source": [
    "accessible_employment_joined = (tract_pop_employ\n",
    "                    .sjoin(accessible_stops_trips, how='inner', predicate='intersects')\n",
    "                    .drop_duplicates(subset=['Tract'])\n",
    "                   )"
   ]
  },
  {
   "cell_type": "code",
   "execution_count": 62,
   "id": "0f484883-fe96-4e61-a723-1749ddf967c5",
   "metadata": {},
   "outputs": [
    {
     "data": {
      "text/plain": [
       "73.19"
      ]
     },
     "execution_count": 62,
     "metadata": {},
     "output_type": "execute_result"
    }
   ],
   "source": [
    "((all_employment_joined.geometry.area.sum() / tract_pop_employ.geometry.area.sum()) * 100).round(2)"
   ]
  },
  {
   "cell_type": "code",
   "execution_count": 63,
   "id": "25f4049b-2274-495b-ac24-f9cc89cdc00e",
   "metadata": {},
   "outputs": [
    {
     "data": {
      "text/plain": [
       "8.11"
      ]
     },
     "execution_count": 63,
     "metadata": {},
     "output_type": "execute_result"
    }
   ],
   "source": [
    "((accessible_employment_joined.geometry.area.sum() / tract_pop_employ.geometry.area.sum()) * 100).round(2)"
   ]
  },
  {
   "cell_type": "code",
   "execution_count": 64,
   "id": "b252d537-58ee-45b8-9881-74f40f44c16e",
   "metadata": {},
   "outputs": [
    {
     "data": {
      "text/plain": [
       "8.06"
      ]
     },
     "execution_count": 64,
     "metadata": {},
     "output_type": "execute_result"
    }
   ],
   "source": [
    "((accessible_employment_joined.Population.sum() / tract_pop_employ.Population.sum()) * 100).round(2)"
   ]
  },
  {
   "cell_type": "code",
   "execution_count": 65,
   "id": "318fa079-7faf-4332-9332-ac29e817419c",
   "metadata": {},
   "outputs": [
    {
     "data": {
      "text/plain": [
       "74.92"
      ]
     },
     "execution_count": 65,
     "metadata": {},
     "output_type": "execute_result"
    }
   ],
   "source": [
    "((all_employment_joined.Population.sum() / tract_pop_employ.Population.sum()) * 100).round(2)"
   ]
  }
 ],
 "metadata": {
  "kernelspec": {
   "display_name": "Python 3 (ipykernel)",
   "language": "python",
   "name": "python3"
  },
  "language_info": {
   "codemirror_mode": {
    "name": "ipython",
    "version": 3
   },
   "file_extension": ".py",
   "mimetype": "text/x-python",
   "name": "python",
   "nbconvert_exporter": "python",
   "pygments_lexer": "ipython3",
   "version": "3.9.7"
  }
 },
 "nbformat": 4,
 "nbformat_minor": 5
}
