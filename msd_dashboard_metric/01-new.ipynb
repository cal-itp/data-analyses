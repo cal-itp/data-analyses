{
 "cells": [
  {
   "cell_type": "code",
   "execution_count": 1,
   "id": "1e265c3d-d876-41fa-b864-19fd5d70c203",
   "metadata": {},
   "outputs": [
    {
     "name": "stderr",
     "output_type": "stream",
     "text": [
      "/opt/conda/lib/python3.9/site-packages/geopandas/_compat.py:111: UserWarning: The Shapely GEOS version (3.9.1-CAPI-1.14.2) is incompatible with the GEOS version PyGEOS was compiled with (3.10.1-CAPI-1.16.0). Conversions between both will be slow.\n",
      "  warnings.warn(\n"
     ]
    }
   ],
   "source": [
    "import os\n",
    "import pandas as pd\n",
    "import geopandas as gpd\n",
    "\n",
    "os.environ[\"CALITP_BQ_MAX_BYTES\"] = str(100_000_000_000)\n",
    "\n",
    "from calitp.tables import tbl\n",
    "from siuba import *\n",
    "from IPython.display import Markdown\n",
    "\n",
    "import create_coverage_data\n",
    "import shared_utils\n",
    "from utils import *"
   ]
  },
  {
   "cell_type": "markdown",
   "id": "c43d4ebb-d66c-4f3e-9537-ac3c10ed1201",
   "metadata": {},
   "source": [
    "2 geographies:\n",
    "* blocks (area, pop)\n",
    "* tracts (employment)\n",
    "\n",
    "Stop files:\n",
    "* all stops\n",
    "* accessible stops\n",
    "\n",
    "RT files\n",
    "* all stops, inner join with rt_complete\n",
    "* accessible stops, inner join with rt_complete\n",
    "\n",
    "1st spatial join:\n",
    "1. blocks, all stops\n",
    "1. blocks, accessible stops\n",
    "1. blocks, all stops, rt\n",
    "1. blocks, accessible stops, rt\n",
    "\n",
    "2nd spatial join:\n",
    "1. tracts, all stops\n",
    "1. tracts, accessible stops\n",
    "1. tracts, all stops, rt (but this is using the block file? polygon on polygon)\n",
    "1. tracts, accessible stops, rt (also using block file?)\n",
    "\n",
    "Address the polygon on polygon either with crosswalk between blocks and tracts (then use `pd.merge`, or create point geometry with stops, rt files."
   ]
  },
  {
   "cell_type": "code",
   "execution_count": null,
   "id": "18a05eec-8cbd-436e-8ede-ccce00fd79bc",
   "metadata": {},
   "outputs": [],
   "source": [
    "#create_coverage_data.save_initial_data()\n",
    "\n",
    "# This one requires rt_complete to be saved in GCS\n",
    "#create_coverage_data.save_spatial_joined_data()"
   ]
  },
  {
   "cell_type": "code",
   "execution_count": 2,
   "id": "79a07c8b-2b54-42cb-a740-7a05cda714a8",
   "metadata": {},
   "outputs": [
    {
     "name": "stdout",
     "output_type": "stream",
     "text": [
      "Proportion of jobs in tracts < 4 sq km: jobs    0.605378\n",
      "dtype: float64\n"
     ]
    }
   ],
   "source": [
    "# Read in data from queries\n",
    "ca_block_joined = shared_utils.utils.download_geoparquet(GCS_FILE_PATH, 'block_population_joined')\n",
    "rt_complete = pd.read_parquet(f\"{GCS_FILE_PATH}rt_complete.parquet\")\n",
    "all_stops = shared_utils.utils.download_geoparquet(GCS_FILE_PATH, 'all_stops')\n",
    "accessible_stops_trips = shared_utils.utils.download_geoparquet(GCS_FILE_PATH, 'accessible_stops_trips')\n",
    "\n",
    "# Read in employment data by tract\n",
    "tract_pop_employ_filtered = create_coverage_data.get_employment_tract_data()"
   ]
  },
  {
   "cell_type": "markdown",
   "id": "0995b229-e1c9-4f02-85ef-d00ddb4a8ba3",
   "metadata": {},
   "source": [
    "After reading in queries, loop through the dictionary items to create the block-stop spatial joins, and also add in rt data."
   ]
  },
  {
   "cell_type": "code",
   "execution_count": 3,
   "id": "d1ed0996-2b4f-4642-8943-238cad23cd02",
   "metadata": {},
   "outputs": [],
   "source": [
    "def spatial_join_to_stops(ca_block, stops_dfs, rt_df):\n",
    "    \"\"\"\n",
    "    ca_block: pandas.DataFrame\n",
    "        base geography file, by blocks\n",
    "    stop_df: pandas.DataFrame\n",
    "        all stops, stops that are accessible, etc \n",
    "    \"\"\"\n",
    "    \n",
    "    # Store all the sjoins in this dict\n",
    "    processed_dfs = {}\n",
    "    \n",
    "    for stop_key, stop_df in stops_dfs.items():\n",
    "        # Join in GTFS schedule for all stops / accessible stops for blocks\n",
    "        df = (ca_block.sjoin(stop_df, how = 'inner', predicate='intersects')\n",
    "              .drop(columns = 'index_right')\n",
    "              #.rename(columns = {\"index_right\": f\"index_{stop_key}\"})\n",
    "             )\n",
    "\n",
    "        if stop_key==\"accessible_stops\":\n",
    "            ##important at block level to avoid double counts\n",
    "            df = df.drop_duplicates(subset=['geo_id'])\n",
    "\n",
    "        key = f\"block_{stop_key}\"\n",
    "        processed_dfs[key] = df\n",
    "\n",
    "        # Join in RT availability\n",
    "        df2 = (df \n",
    "               >> inner_join(_, rt_df, \n",
    "                             on = ['calitp_itp_id', 'calitp_url_number'])\n",
    "              )\n",
    "            \n",
    "        rt_key = f\"block_{stop_key}_rt\"\n",
    "        processed_dfs[rt_key] = df2\n",
    "                       \n",
    "    return processed_dfs\n",
    "    "
   ]
  },
  {
   "cell_type": "code",
   "execution_count": 4,
   "id": "e9f0a90e-1d89-4715-bd4f-cc6d829d3f04",
   "metadata": {},
   "outputs": [],
   "source": [
    "stops_dfs = {\n",
    "    \"all_stops\": all_stops,\n",
    "    \"accessible_stops\": accessible_stops_trips,\n",
    "}\n",
    "\n",
    "sjoin_blocks = spatial_join_to_stops(ca_block_joined, stops_dfs, rt_complete)"
   ]
  },
  {
   "cell_type": "code",
   "execution_count": 5,
   "id": "6752ded7-81cf-45a0-80c1-c00d4f5a864a",
   "metadata": {},
   "outputs": [
    {
     "name": "stdout",
     "output_type": "stream",
     "text": [
      "block_all_stops\n",
      "block_all_stops_rt\n",
      "block_accessible_stops\n",
      "block_accessible_stops_rt\n"
     ]
    }
   ],
   "source": [
    "for key, value in sjoin_blocks.items():\n",
    "    print(key)\n",
    "    #display(value.head(2))"
   ]
  },
  {
   "cell_type": "markdown",
   "id": "59d513c1-caa8-4235-8624-efc4346512cb",
   "metadata": {},
   "source": [
    "Do the second join, which is to join tract to stops.\n",
    "\n",
    "For tract-all_stops and tract-accessible_stops, this works.\n",
    "\n",
    "But the `all_stops_rt` is a polygon in original notebook, because it inherits the polygon geometry of the block. Polygon on polygon is making notebook crash.\n",
    "\n",
    "* Use a crosswalk and link block to tract (and if a block is linked to multiple tracts, keep the one with the largest area).\n",
    "* Use `gpd.overlay` to get the overlay geometry and keep the one with largest area.\n",
    "* With crosswalk, use `pd.merge` as intermediate file, and this should be faster.\n",
    "* Alternative, is to create the point geometry in `all_stops_rt` again and use that as point-in-polygon sjoin."
   ]
  },
  {
   "cell_type": "code",
   "execution_count": 6,
   "id": "f8c7c3bb-137a-4519-81ab-7a06b974634c",
   "metadata": {},
   "outputs": [],
   "source": [
    "def make_tract_block_crosswalk(block_df, tract_df):\n",
    "\n",
    "    # Use overlay\n",
    "    # See how much of block intersects with tract\n",
    "    # Keep the largest intersection\n",
    "    crosswalk = gpd.overlay(\n",
    "        block_df[[\"geo_id\", \"geometry\"]].assign(block_area = block_df.geometry.area),\n",
    "        tract_df[[\"Tract\", \"geometry\"]],\n",
    "        how = 'intersection',\n",
    "    )\n",
    "\n",
    "    crosswalk2 = crosswalk.assign(\n",
    "        overlap_area = crosswalk.geometry.area\n",
    "    )\n",
    "    \n",
    "    crosswalk2 = (crosswalk2.sort_values(['geo_id', 'overlap_area'], \n",
    "                                     ascending=[True, False])\n",
    "              .drop_duplicates(subset=['geo_id'])\n",
    "              .drop(columns = ['block_area', 'overlap_area', 'geometry'])\n",
    "              .reset_index(drop=True)\n",
    "             )\n",
    "    \n",
    "    return crosswalk2"
   ]
  },
  {
   "cell_type": "code",
   "execution_count": 7,
   "id": "56f8607c-e06a-4b72-a0d6-1219761717f9",
   "metadata": {},
   "outputs": [],
   "source": [
    "crosswalk = make_tract_block_crosswalk(ca_block_joined, tract_pop_employ_filtered)"
   ]
  },
  {
   "cell_type": "code",
   "execution_count": 8,
   "id": "509acdfc-0aaa-486f-9a65-6760b2144c7a",
   "metadata": {},
   "outputs": [],
   "source": [
    "crosswalk2 = gpd.sjoin(ca_block_joined[[\"geo_id\", \"geometry\"]],\n",
    "                      tract_pop_employ_filtered[[\"Tract\", \"geometry\"]],\n",
    "                      how = 'inner',\n",
    "                      predicate = 'intersects'\n",
    "         ).drop(columns = 'index_right')"
   ]
  },
  {
   "cell_type": "code",
   "execution_count": 9,
   "id": "14e1c81d-309e-4cc9-8962-6476528ab9d3",
   "metadata": {},
   "outputs": [
    {
     "data": {
      "text/plain": [
       "60014034011001    8\n",
       "60371871022021    8\n",
       "60730099021000    7\n",
       "60371235101000    6\n",
       "60730091021000    6\n",
       "                 ..\n",
       "60379010102000    1\n",
       "60379011023014    1\n",
       "60379010102002    1\n",
       "60379010101012    1\n",
       "60411220001007    1\n",
       "Name: geo_id, Length: 249626, dtype: int64"
      ]
     },
     "execution_count": 9,
     "metadata": {},
     "output_type": "execute_result"
    }
   ],
   "source": [
    "crosswalk2.geo_id.value_counts()"
   ]
  },
  {
   "cell_type": "code",
   "execution_count": 10,
   "id": "c72e682d-2a75-415b-903f-37f4b70f776e",
   "metadata": {},
   "outputs": [
    {
     "data": {
      "text/html": [
       "<div>\n",
       "<style scoped>\n",
       "    .dataframe tbody tr th:only-of-type {\n",
       "        vertical-align: middle;\n",
       "    }\n",
       "\n",
       "    .dataframe tbody tr th {\n",
       "        vertical-align: top;\n",
       "    }\n",
       "\n",
       "    .dataframe thead th {\n",
       "        text-align: right;\n",
       "    }\n",
       "</style>\n",
       "<table border=\"1\" class=\"dataframe\">\n",
       "  <thead>\n",
       "    <tr style=\"text-align: right;\">\n",
       "      <th></th>\n",
       "      <th>geo_id</th>\n",
       "      <th>block_area</th>\n",
       "      <th>Tract</th>\n",
       "      <th>geometry</th>\n",
       "      <th>overlap_area</th>\n",
       "    </tr>\n",
       "  </thead>\n",
       "  <tbody>\n",
       "    <tr>\n",
       "      <th>282969</th>\n",
       "      <td>60014034011001</td>\n",
       "      <td>228523.252674</td>\n",
       "      <td>06001403400</td>\n",
       "      <td>MULTIPOLYGON (((-198898.146 -20471.294, -19887...</td>\n",
       "      <td>2.102797e+05</td>\n",
       "    </tr>\n",
       "    <tr>\n",
       "      <th>296731</th>\n",
       "      <td>60014034011001</td>\n",
       "      <td>228523.252674</td>\n",
       "      <td>06001403702</td>\n",
       "      <td>MULTIPOLYGON (((-197805.431 -20699.558, -19773...</td>\n",
       "      <td>8.262552e+03</td>\n",
       "    </tr>\n",
       "    <tr>\n",
       "      <th>185538</th>\n",
       "      <td>60014034011001</td>\n",
       "      <td>228523.252674</td>\n",
       "      <td>06001405301</td>\n",
       "      <td>MULTIPOLYGON (((-197897.998 -21190.413, -19790...</td>\n",
       "      <td>7.427860e+03</td>\n",
       "    </tr>\n",
       "    <tr>\n",
       "      <th>311817</th>\n",
       "      <td>60014034011001</td>\n",
       "      <td>228523.252674</td>\n",
       "      <td>06001405302</td>\n",
       "      <td>MULTIPOLYGON (((-198234.588 -21652.560, -19823...</td>\n",
       "      <td>3.328422e+03</td>\n",
       "    </tr>\n",
       "    <tr>\n",
       "      <th>10287</th>\n",
       "      <td>60014034011001</td>\n",
       "      <td>228523.252674</td>\n",
       "      <td>06001405200</td>\n",
       "      <td>POLYGON ((-197816.686 -20985.943, -197742.129 ...</td>\n",
       "      <td>3.734850e+02</td>\n",
       "    </tr>\n",
       "    <tr>\n",
       "      <th>101809</th>\n",
       "      <td>60014034011001</td>\n",
       "      <td>228523.252674</td>\n",
       "      <td>06001403501</td>\n",
       "      <td>POLYGON ((-198896.123 -20462.654, -198896.123 ...</td>\n",
       "      <td>4.756912e-10</td>\n",
       "    </tr>\n",
       "    <tr>\n",
       "      <th>319377</th>\n",
       "      <td>60014034011001</td>\n",
       "      <td>228523.252674</td>\n",
       "      <td>06001403701</td>\n",
       "      <td>POLYGON ((-198896.123 -20462.654, -198896.123 ...</td>\n",
       "      <td>3.834927e-10</td>\n",
       "    </tr>\n",
       "    <tr>\n",
       "      <th>54985</th>\n",
       "      <td>60014034011001</td>\n",
       "      <td>228523.252674</td>\n",
       "      <td>06001402900</td>\n",
       "      <td>POLYGON ((-198896.123 -20462.654, -198896.123 ...</td>\n",
       "      <td>9.628966e-11</td>\n",
       "    </tr>\n",
       "  </tbody>\n",
       "</table>\n",
       "</div>"
      ],
      "text/plain": [
       "                geo_id     block_area        Tract  \\\n",
       "282969  60014034011001  228523.252674  06001403400   \n",
       "296731  60014034011001  228523.252674  06001403702   \n",
       "185538  60014034011001  228523.252674  06001405301   \n",
       "311817  60014034011001  228523.252674  06001405302   \n",
       "10287   60014034011001  228523.252674  06001405200   \n",
       "101809  60014034011001  228523.252674  06001403501   \n",
       "319377  60014034011001  228523.252674  06001403701   \n",
       "54985   60014034011001  228523.252674  06001402900   \n",
       "\n",
       "                                                 geometry  overlap_area  \n",
       "282969  MULTIPOLYGON (((-198898.146 -20471.294, -19887...  2.102797e+05  \n",
       "296731  MULTIPOLYGON (((-197805.431 -20699.558, -19773...  8.262552e+03  \n",
       "185538  MULTIPOLYGON (((-197897.998 -21190.413, -19790...  7.427860e+03  \n",
       "311817  MULTIPOLYGON (((-198234.588 -21652.560, -19823...  3.328422e+03  \n",
       "10287   POLYGON ((-197816.686 -20985.943, -197742.129 ...  3.734850e+02  \n",
       "101809  POLYGON ((-198896.123 -20462.654, -198896.123 ...  4.756912e-10  \n",
       "319377  POLYGON ((-198896.123 -20462.654, -198896.123 ...  3.834927e-10  \n",
       "54985   POLYGON ((-198896.123 -20462.654, -198896.123 ...  9.628966e-11  "
      ]
     },
     "execution_count": 10,
     "metadata": {},
     "output_type": "execute_result"
    }
   ],
   "source": [
    "crosswalk3 = gpd.overlay(ca_block_joined[[\"geo_id\", \"geometry\"]].assign(\n",
    "                            block_area = ca_block_joined.geometry.area\n",
    "                        ),\n",
    "                      tract_pop_employ_filtered[[\"Tract\", \"geometry\"]],\n",
    "                      how = 'intersection',\n",
    "         )\n",
    "\n",
    "crosswalk3 = crosswalk3.assign(\n",
    "    overlap_area = crosswalk3.geometry.area\n",
    ")\n",
    "\n",
    "crosswalk3[crosswalk3.geo_id==60014034011001].sort_values(['geo_id', 'overlap_area'],\n",
    "                                                         ascending=[True, False])"
   ]
  },
  {
   "cell_type": "markdown",
   "id": "75a79c1c-f950-4545-b4c2-385ba5492b8f",
   "metadata": {},
   "source": [
    "Spot check for crosswalk, yes, using overlap area will correctly grab the tract matching the block. Parsing the block and picking out the middle portion that is tract isn't perfect...some have just 3 characters."
   ]
  },
  {
   "cell_type": "code",
   "execution_count": 11,
   "id": "63212090-0c79-49b2-bf6f-4a05a9929c72",
   "metadata": {},
   "outputs": [],
   "source": [
    "def employment_spatial_joins(tract_employ_df, stop_dfs, crosswalk_block_tract):\n",
    "    \"\"\"\n",
    "    tract_employ_df: pandas.DataFrame\n",
    "        base geography file, by tracts\n",
    "    stop_df: pandas.DataFrame\n",
    "        all stops, stops that are accessible, etc \n",
    "    \"\"\"\n",
    "    \n",
    "    # Store all the sjoins in this dict\n",
    "    processed_dfs = {}    \n",
    "    \n",
    "    for stop_key, stop_df in stop_dfs.items():\n",
    "        if \"rt\" not in stop_key:\n",
    "            df = (tract_employ_df.sjoin(stop_df, how='inner', predicate='intersects')\n",
    "                  .drop(columns = 'index_right')\n",
    "                 )\n",
    "            \n",
    "        if \"rt\" in stop_key:\n",
    "            # With RT data, the block geometry is included\n",
    "            # Use crosswalk to merge\n",
    "            \n",
    "            # First, merge in crosswalk to get the block's geo_id\n",
    "            df = pd.merge(\n",
    "                tract_employ_df,\n",
    "                crosswalk_block_tract,\n",
    "                on = \"Tract\",\n",
    "                how = \"inner\"\n",
    "            )\n",
    "            \n",
    "            # Now, merge in block level data with geo_id\n",
    "            df = pd.merge(df,\n",
    "                          stop_df.drop(columns = [\"area\", \"geometry\"]),\n",
    "                          on = 'geo_id',\n",
    "                          how = 'inner'\n",
    "            )\n",
    "            \n",
    "            # Is this still needed? Expect multiple blocks to be associated with tracts\n",
    "            # No block is joined with multiple tracts (dealt with in crosswalk)\n",
    "            #df = df.drop_duplicates(subset=['Tract'])\n",
    "        \n",
    "        key = f\"tract_{stop_key.replace('block_', '')}\"\n",
    "        processed_dfs[key] = df\n",
    "    \n",
    "    return processed_dfs\n"
   ]
  },
  {
   "cell_type": "code",
   "execution_count": 12,
   "id": "eb1696be-b452-4aec-9aff-1d5ca6d42aa3",
   "metadata": {},
   "outputs": [],
   "source": [
    "stops_dfs2 = {\n",
    "    \"all_stops\": all_stops,\n",
    "    \"accessible_stops\": accessible_stops_trips,\n",
    "    \"all_stops_rt\": sjoin_blocks[\"block_all_stops_rt\"],\n",
    "    \"accessible_stops_rt\": sjoin_blocks[\"block_accessible_stops_rt\"],\n",
    "}\n",
    "\n",
    "sjoin_tracts = employment_spatial_joins(tract_pop_employ_filtered, stops_dfs2, crosswalk)"
   ]
  },
  {
   "cell_type": "code",
   "execution_count": 13,
   "id": "eeaa260e-85f8-4657-bf54-131d70b16628",
   "metadata": {},
   "outputs": [
    {
     "name": "stdout",
     "output_type": "stream",
     "text": [
      "tract_all_stops\n",
      "tract_accessible_stops\n",
      "tract_all_stops_rt\n",
      "tract_accessible_stops_rt\n"
     ]
    }
   ],
   "source": [
    "for key, value in sjoin_tracts.items():\n",
    "    print(key)\n",
    "    #display(value.head(2))"
   ]
  },
  {
   "cell_type": "markdown",
   "id": "34cb4ba3-117c-4a20-a1a4-c98b7aad9cdc",
   "metadata": {},
   "source": [
    "# Accessible Transit Metrics"
   ]
  },
  {
   "cell_type": "markdown",
   "id": "639dd482-463f-480d-9181-76cb532f8b3c",
   "metadata": {},
   "source": [
    "### New Accessibilty Metric (Area)\n",
    "\n",
    "The % of non-water area of California that is within 1/2mi of a bus stop or 1 mi of a ferry/rail stop that is explicitly wheelchair accessible (and if in a station, that station has explicit pathways coding), and that has is served by a public-funded, open to the general public transit service with GTFS Schedule data that is served by a service that is explicitly wheelchair accessible"
   ]
  },
  {
   "cell_type": "markdown",
   "id": "58521b9e-6ae7-42e4-b0e8-8565a5de796c",
   "metadata": {},
   "source": [
    "### New Accessibility Metric (Population)\n",
    "\n",
    " The % of Californians that are within 1/2 mi of a bus stop or 1 mi of a ferry/rail stop that is explicitly wheelchair accessible (and if in a station, that station has explicit pathways coding), and that has is served by a public-funded, open to the general public transit service with GTFS Schedule data that is served by a service that is explicitly wheelchair accessible"
   ]
  },
  {
   "cell_type": "markdown",
   "id": "85d1087a-359b-4f4e-b8f2-f5e2ed1fb140",
   "metadata": {},
   "source": [
    "### Notes and Caveats:\n",
    "\n",
    "* The vast majority of accessible services don't appear to provide accessibility data in GTFS\n",
    "* Pathways appears to be empty in data warehouse for now..."
   ]
  },
  {
   "cell_type": "markdown",
   "id": "a84775da-cf67-4460-8650-0b8dae1eb7ff",
   "metadata": {},
   "source": [
    "## Block Level Metrics\n",
    "\n",
    "#### New General Metric (by area):\n",
    "\n",
    "The % of non-water area of Californian that is within 1/2 mi of a bus stop or 1 mi of a ferry/rail stop that has is served by a public-funded, open to the general public transit service with GTFS Schedule data\n",
    "\n",
    "\n",
    "#### New General Metric (by population):\n",
    "\n",
    "The % of Californians that live within 1/2 mi of a bus stop or 1 mi of a ferry/rail stop that has is served by a public-funded, open to the general public transit service with GTFS Schedule data"
   ]
  },
  {
   "cell_type": "code",
   "execution_count": 14,
   "id": "b5436795-13b2-4fcf-be52-d57e8ca79ae9",
   "metadata": {},
   "outputs": [
    {
     "data": {
      "text/markdown": [
       "### All Stops Static"
      ],
      "text/plain": [
       "<IPython.core.display.Markdown object>"
      ]
     },
     "metadata": {},
     "output_type": "display_data"
    },
    {
     "name": "stdout",
     "output_type": "stream",
     "text": [
      "access by block_pop: 85.95\n",
      "access by area: 11.58\n"
     ]
    },
    {
     "data": {
      "text/markdown": [
       "### All Stops RT"
      ],
      "text/plain": [
       "<IPython.core.display.Markdown object>"
      ]
     },
     "metadata": {},
     "output_type": "display_data"
    },
    {
     "name": "stdout",
     "output_type": "stream",
     "text": [
      "access by block_pop: 59.65\n",
      "access by area: 5.33\n"
     ]
    },
    {
     "data": {
      "text/markdown": [
       "### Accessible Stops Static"
      ],
      "text/plain": [
       "<IPython.core.display.Markdown object>"
      ]
     },
     "metadata": {},
     "output_type": "display_data"
    },
    {
     "name": "stdout",
     "output_type": "stream",
     "text": [
      "access by block_pop: 10.02\n",
      "access by area: 0.93\n"
     ]
    },
    {
     "data": {
      "text/markdown": [
       "### Accessible Stops RT"
      ],
      "text/plain": [
       "<IPython.core.display.Markdown object>"
      ]
     },
     "metadata": {},
     "output_type": "display_data"
    },
    {
     "name": "stdout",
     "output_type": "stream",
     "text": [
      "access by block_pop: 3.67\n",
      "access by area: 0.42\n"
     ]
    }
   ],
   "source": [
    "by_metrics = ['block_pop', 'area'] \n",
    "\n",
    "for name, df in sjoin_blocks.items():\n",
    "    \n",
    "    header = f\"{name.replace('block_', '').replace('_', ' ').title()}\"\n",
    "    if \"Rt\" in header:\n",
    "        header = header.replace('Rt', 'RT')\n",
    "    else:\n",
    "        header = header + \" Static\"\n",
    "    \n",
    "    display(Markdown(f\"### {header}\"))\n",
    "    \n",
    "    for metric in by_metrics:\n",
    "        p = calculate_access_proportion(df.drop_duplicates(\n",
    "            subset=['geo_id']), ca_block_joined, metric)\n",
    "        print(f\"access by {metric}: {p}\")"
   ]
  },
  {
   "cell_type": "markdown",
   "id": "9d76958a-30b7-441c-bd3c-4d7c72c29f8e",
   "metadata": {},
   "source": [
    "### RT Milestone (Partial)"
   ]
  },
  {
   "cell_type": "code",
   "execution_count": 15,
   "id": "60d2313d-b249-4fd1-954d-a2a7eb6c5d1d",
   "metadata": {},
   "outputs": [],
   "source": [
    "milestone_ids = [13, 121, 323, 228, 325, 56, 93, 254, 251, 81, 122, 76, 199,\n",
    " 312, 344, 372, 280, 327, 112, 17, 118, 289, 120, 33, 356,\n",
    " 251, 351, 232, 6, 14, 271, 296, 389, 256]"
   ]
  },
  {
   "cell_type": "code",
   "execution_count": 16,
   "id": "debf972a-716c-49c8-b148-d1f706cf1f8b",
   "metadata": {},
   "outputs": [],
   "source": [
    "milestone_ids = [mid for mid in milestone_ids if mid \n",
    "                 not in sjoin_blocks[\"block_all_stops_rt\"].calitp_itp_id.unique()]"
   ]
  },
  {
   "cell_type": "markdown",
   "id": "d2fcb5ca-a45c-4b8c-b1b2-c932f0809c80",
   "metadata": {},
   "source": [
    "### Export for Mapping"
   ]
  },
  {
   "cell_type": "code",
   "execution_count": 17,
   "id": "56d7b557-ab23-4714-b020-ac5ac176186a",
   "metadata": {},
   "outputs": [],
   "source": [
    "def get_status(df, new_col):\n",
    "    df2 = (df.drop_duplicates(subset=['geo_id', 'calitp_itp_id']).copy()\n",
    "           >> select(_.geo_id, _.calitp_itp_id)\n",
    "          )\n",
    "    \n",
    "    df2[new_col] = True\n",
    "    \n",
    "    return df2\n",
    "\n",
    "\n",
    "rt_acc_status = get_status(sjoin_blocks[\"block_accessible_stops_rt\"], \"rt_accessible\")\n",
    "rt_status = get_status(sjoin_blocks[\"block_all_stops_rt\"], \"rt\")\n",
    "acc_status = get_status(sjoin_blocks[\"block_accessible_stops\"], \"accessible\")\n",
    "static_status = get_status(sjoin_blocks[\"block_all_stops\"], \"static\")\n",
    "rt_milestones = get_status((sjoin_blocks[\"block_all_stops\"]\n",
    "                            >> filter(_.calitp_itp_id.isin(milestone_ids))\n",
    "                           ), \"rt_milestone\")"
   ]
  },
  {
   "cell_type": "code",
   "execution_count": 18,
   "id": "2b3fc7f0-cb40-438d-a296-0f00c9c45fd4",
   "metadata": {},
   "outputs": [],
   "source": [
    "all_df = pd.concat([rt_acc_status, rt_status, acc_status, static_status, rt_milestones])"
   ]
  },
  {
   "cell_type": "code",
   "execution_count": 19,
   "id": "4ecb03f7-4809-4a51-a554-dccf48977b08",
   "metadata": {},
   "outputs": [],
   "source": [
    "all_df = all_df.fillna(False)\n",
    "all_df = all_df.groupby(['geo_id', 'calitp_itp_id']).any().reset_index()"
   ]
  },
  {
   "cell_type": "code",
   "execution_count": 20,
   "id": "0394e4f9-7624-4bfe-bda9-bc9de0edcb88",
   "metadata": {},
   "outputs": [],
   "source": [
    "for_mapping = (ca_block_joined.astype({'geo_id':'int64'})\n",
    " >> inner_join(_, all_df, on = ['geo_id'])\n",
    " # >> left_join(_, rt_status, on = ['geo_id', 'calitp_itp_id'])\n",
    " # >> left_join(_, acc_status, on = ['geo_id', 'calitp_itp_id'])\n",
    " # >> left_join(_, static_status, on = ['geo_id', 'calitp_itp_id'])\n",
    ")\n",
    "for_mapping['calitp_itp_id'] = for_mapping.calitp_itp_id.fillna(0).astype('int64')\n",
    "# for_mapping = for_mapping.fillna(False)"
   ]
  },
  {
   "cell_type": "code",
   "execution_count": 21,
   "id": "7afabba4-50eb-4bcc-b2c1-9c036b5c148e",
   "metadata": {},
   "outputs": [
    {
     "name": "stderr",
     "output_type": "stream",
     "text": [
      "/tmp/ipykernel_1966/1983803861.py:2: UserWarning: this is an initial implementation of Parquet/Feather file support and associated metadata.  This is tracking version 0.1.0 of the metadata specification at https://github.com/geopandas/geo-arrow-spec\n",
      "\n",
      "This metadata specification does not yet make stability promises.  We do not yet recommend using this in a production setting unless you are able to rewrite your Parquet/Feather files.\n",
      "\n",
      "To further ignore this warning, you can do: \n",
      "import warnings; warnings.filterwarnings('ignore', message='.*initial implementation of Parquet.*')\n"
     ]
    }
   ],
   "source": [
    "DATA_PATH = \"./data/\"\n",
    "for_mapping.to_parquet(f\"{DATA_PATH}block_accessibility_metrics.parquet\")"
   ]
  },
  {
   "cell_type": "code",
   "execution_count": 22,
   "id": "6e965220-cf32-4e1e-8bf6-1f4ee0168a4c",
   "metadata": {},
   "outputs": [],
   "source": [
    "# These checks pass - calculated access proportion the same at aggregate level (above)\n",
    "# sjoins are also the same\n",
    "def compare_block_accessibility(DATA_PATH):\n",
    "    df = gpd.read_parquet(f\"{DATA_PATH}block_accessibility_metrics.parquet\")\n",
    "    print(f\"# rows: {len(df)}\")\n",
    "    \n",
    "    cols = [\"rt_accessible\", \"rt\", \"accessible\", \"static\", \"rt_milestone\"]\n",
    "\n",
    "    for c in cols:\n",
    "        subset = df[df[c]==True]\n",
    "        print(f\"{c} is True: {len(subset)}\")\n",
    "    \n",
    "    #return df"
   ]
  },
  {
   "cell_type": "code",
   "execution_count": 23,
   "id": "f8ee22bb-6f74-4025-885e-29dc03b4c098",
   "metadata": {},
   "outputs": [
    {
     "name": "stdout",
     "output_type": "stream",
     "text": [
      "# rows: 854636\n",
      "rt_accessible is True: 13913\n",
      "rt is True: 390398\n",
      "accessible is True: 35049\n",
      "static is True: 854636\n",
      "rt_milestone is True: 104476\n"
     ]
    }
   ],
   "source": [
    "compare_block_accessibility(GCS_FILE_PATH)"
   ]
  },
  {
   "cell_type": "code",
   "execution_count": 24,
   "id": "edcee532-0780-4ff1-b8fb-27ccf0d38257",
   "metadata": {},
   "outputs": [
    {
     "name": "stdout",
     "output_type": "stream",
     "text": [
      "# rows: 854636\n",
      "rt_accessible is True: 13913\n",
      "rt is True: 390398\n",
      "accessible is True: 35049\n",
      "static is True: 854636\n",
      "rt_milestone is True: 104476\n"
     ]
    }
   ],
   "source": [
    "compare_block_accessibility(DATA_PATH)"
   ]
  },
  {
   "cell_type": "code",
   "execution_count": 25,
   "id": "20875527-7ae6-45c7-ac20-13fd8c30d3b9",
   "metadata": {},
   "outputs": [
    {
     "data": {
      "text/html": [
       "<div>\n",
       "<style scoped>\n",
       "    .dataframe tbody tr th:only-of-type {\n",
       "        vertical-align: middle;\n",
       "    }\n",
       "\n",
       "    .dataframe tbody tr th {\n",
       "        vertical-align: top;\n",
       "    }\n",
       "\n",
       "    .dataframe thead th {\n",
       "        text-align: right;\n",
       "    }\n",
       "</style>\n",
       "<table border=\"1\" class=\"dataframe\">\n",
       "  <thead>\n",
       "    <tr style=\"text-align: right;\">\n",
       "      <th></th>\n",
       "      <th>county</th>\n",
       "      <th>tract</th>\n",
       "      <th>block</th>\n",
       "      <th>geo_id</th>\n",
       "      <th>geometry</th>\n",
       "      <th>block_pop</th>\n",
       "      <th>area</th>\n",
       "      <th>calitp_itp_id</th>\n",
       "      <th>rt_accessible</th>\n",
       "      <th>rt</th>\n",
       "      <th>accessible</th>\n",
       "      <th>static</th>\n",
       "      <th>rt_milestone</th>\n",
       "    </tr>\n",
       "  </thead>\n",
       "  <tbody>\n",
       "    <tr>\n",
       "      <th>0</th>\n",
       "      <td>65</td>\n",
       "      <td>42628</td>\n",
       "      <td>4008</td>\n",
       "      <td>60650426284008</td>\n",
       "      <td>POLYGON ((257831.965 -463783.472, 258008.040 -...</td>\n",
       "      <td>103</td>\n",
       "      <td>15986.958897</td>\n",
       "      <td>269</td>\n",
       "      <td>False</td>\n",
       "      <td>True</td>\n",
       "      <td>False</td>\n",
       "      <td>True</td>\n",
       "      <td>False</td>\n",
       "    </tr>\n",
       "    <tr>\n",
       "      <th>1</th>\n",
       "      <td>65</td>\n",
       "      <td>42711</td>\n",
       "      <td>3025</td>\n",
       "      <td>60650427113025</td>\n",
       "      <td>POLYGON ((259577.302 -476173.973, 259651.066 -...</td>\n",
       "      <td>42</td>\n",
       "      <td>29609.218158</td>\n",
       "      <td>269</td>\n",
       "      <td>False</td>\n",
       "      <td>True</td>\n",
       "      <td>False</td>\n",
       "      <td>True</td>\n",
       "      <td>False</td>\n",
       "    </tr>\n",
       "    <tr>\n",
       "      <th>2</th>\n",
       "      <td>65</td>\n",
       "      <td>43401</td>\n",
       "      <td>1023</td>\n",
       "      <td>60650434011023</td>\n",
       "      <td>POLYGON ((281412.631 -469351.296, 281613.718 -...</td>\n",
       "      <td>21</td>\n",
       "      <td>19971.850439</td>\n",
       "      <td>13</td>\n",
       "      <td>False</td>\n",
       "      <td>False</td>\n",
       "      <td>False</td>\n",
       "      <td>True</td>\n",
       "      <td>True</td>\n",
       "    </tr>\n",
       "  </tbody>\n",
       "</table>\n",
       "</div>"
      ],
      "text/plain": [
       "   county  tract  block          geo_id  \\\n",
       "0      65  42628   4008  60650426284008   \n",
       "1      65  42711   3025  60650427113025   \n",
       "2      65  43401   1023  60650434011023   \n",
       "\n",
       "                                            geometry  block_pop          area  \\\n",
       "0  POLYGON ((257831.965 -463783.472, 258008.040 -...        103  15986.958897   \n",
       "1  POLYGON ((259577.302 -476173.973, 259651.066 -...         42  29609.218158   \n",
       "2  POLYGON ((281412.631 -469351.296, 281613.718 -...         21  19971.850439   \n",
       "\n",
       "   calitp_itp_id  rt_accessible     rt  accessible  static  rt_milestone  \n",
       "0            269          False   True       False    True         False  \n",
       "1            269          False   True       False    True         False  \n",
       "2             13          False  False       False    True          True  "
      ]
     },
     "execution_count": 25,
     "metadata": {},
     "output_type": "execute_result"
    }
   ],
   "source": [
    "for_mapping.head(3)"
   ]
  },
  {
   "cell_type": "code",
   "execution_count": null,
   "id": "5e33a85c-41db-4882-a6d3-3d30d582ca0a",
   "metadata": {},
   "outputs": [],
   "source": [
    "#shared_utils.utils.geoparquet_gcs_export(for_mapping, GCS_FILE_PATH, 'block_accessibility_metrics')"
   ]
  },
  {
   "cell_type": "markdown",
   "id": "5b58402f-0773-430b-9466-090e90737113",
   "metadata": {},
   "source": [
    "## Employment Metrics (Tract Level)"
   ]
  },
  {
   "cell_type": "code",
   "execution_count": 26,
   "id": "03d06ede-7f48-47cc-a807-5709e101f599",
   "metadata": {},
   "outputs": [
    {
     "name": "stdout",
     "output_type": "stream",
     "text": [
      "tract_all_stops\n",
      "employment access by num_jobs: 99.32\n",
      "tract_accessible_stops\n",
      "employment access by num_jobs: 18.61\n",
      "tract_all_stops_rt\n",
      "employment access by num_jobs: 82.63\n",
      "tract_accessible_stops_rt\n",
      "employment access by num_jobs: 11.61\n"
     ]
    }
   ],
   "source": [
    "## all stops employment access, jobs\n",
    "metric = \"num_jobs\"\n",
    "\n",
    "for key, value in sjoin_tracts.items():\n",
    "    print(key)\n",
    "    \n",
    "    p = calculate_access_proportion(value.drop_duplicates(\n",
    "        subset=['Tract']), tract_pop_employ_filtered, metric)\n",
    "    \n",
    "    print(f\"employment access by {metric}: {p}\")"
   ]
  },
  {
   "cell_type": "code",
   "execution_count": null,
   "id": "ae889966-ac97-4be5-b62f-213b39b1c803",
   "metadata": {},
   "outputs": [],
   "source": [
    "#shared_utils.utils.geoparquet_gcs_export(tract_pop_employ_filtered, GCS_FILE_PATH, 'tract_pop_employ_filtered')"
   ]
  },
  {
   "cell_type": "markdown",
   "id": "c26bbc09-817c-475a-a097-de05b195d9f4",
   "metadata": {},
   "source": [
    "### Summarizing Coverage"
   ]
  },
  {
   "cell_type": "code",
   "execution_count": 38,
   "id": "42617a2e-fd0e-42db-b350-fa9df0f4bc75",
   "metadata": {},
   "outputs": [],
   "source": [
    "def make_coverage_summary(sjoin_blocks, sjoin_tracts, rt_df):\n",
    "    ## since employment data is tract-level, only includes tracts < 4 sq km (~60% of jobs)\n",
    "    employment_summary = (sjoin_tracts[\"tract_all_stops\"]\n",
    "                          >> group_by(_.calitp_itp_id)\n",
    "                          >> distinct(_.Tract, _keep_all=True) \n",
    "                          ##geo_id must be distinct per feed...\n",
    "                          >> summarize(total_jobs = _.num_jobs.sum())\n",
    "    )\n",
    "\n",
    "\n",
    "    SQ_MI_PER_SQ_M = 3.86e-7\n",
    "\n",
    "    coverage_summary = (sjoin_blocks[\"block_all_stops\"]\n",
    "                        >> group_by(_.calitp_itp_id)\n",
    "                        >> distinct(_.geo_id, _keep_all=True) ##geo_id must be distinct per feed...\n",
    "                        >> summarize(total_sq_mi = (_.area.sum() * SQ_MI_PER_SQ_M).astype('int64'),\n",
    "                                     total_pop = _.block_pop.sum(),)\n",
    "                       )\n",
    "    \n",
    "    # Merge together\n",
    "    df = (coverage_summary \n",
    "                    >> inner_join(_, employment_summary, on ='calitp_itp_id')\n",
    "                   )\n",
    "    \n",
    "    \n",
    "    df['any_accessible_stops_trips'] = df.apply(\n",
    "        lambda x: x.calitp_itp_id in (\n",
    "                             sjoin_blocks[\"block_accessible_stops\"].calitp_itp_id.unique()), axis=1)\n",
    "    df['any_rt'] = df.apply(lambda x: x.calitp_itp_id in (\n",
    "                             rt_df.calitp_itp_id.unique()), axis=1)\n",
    "    \n",
    "    df2 = (df \n",
    "           >> filter(_.calitp_itp_id.apply(lambda x: x not in [0,1,2,3,8,6])) \n",
    "           ## see issue 988\n",
    "          )\n",
    "    df2 = df2 >> inner_join(_, tbl.gtfs_schedule.agency() \n",
    "                             >> distinct(_.agency_name, _.calitp_itp_id)\n",
    "                             >> collect(), \n",
    "                             on = 'calitp_itp_id')\n",
    "    \n",
    "    # Should this return df or df2?\n",
    "    # Should this be coverage_summary that filters out certain ITP_IDs or with_name?\n",
    "    # returning df gives more similar observations to Eric's\n",
    "    # differences come because the spatial join for accessible_stop_trips is slightly different with the crosswalk\n",
    "    return df"
   ]
  },
  {
   "cell_type": "code",
   "execution_count": 39,
   "id": "45207456-e3b9-4062-a92f-e0028c75f8ff",
   "metadata": {},
   "outputs": [],
   "source": [
    "coverage_summary = make_coverage_summary(sjoin_blocks, sjoin_tracts, rt_complete)"
   ]
  },
  {
   "cell_type": "code",
   "execution_count": 30,
   "id": "3459394c-e152-4f67-95a9-6fd279c58dee",
   "metadata": {},
   "outputs": [],
   "source": [
    "coverage_summary.to_parquet(f\"{DATA_PATH}draft_feed_metrics.parquet\")"
   ]
  },
  {
   "cell_type": "code",
   "execution_count": null,
   "id": "679f7f01-129e-4ecd-8111-04362a870a47",
   "metadata": {},
   "outputs": [],
   "source": [
    "# with_name = with_name >> filter(_.calitp_itp_id.apply(lamb) != 1 0, _.calitp_itp_id != 8,\n",
    "#                                 _.calitp_itp_id != 2, _.calitp_itp_id != 3) ## see issue 988\n",
    "\n",
    "#coverage_summary = coverage_summary >> filter(_.calitp_itp_id.apply(lambda x: x not in [0,1,2,3,8,6])) ## see issue 988"
   ]
  },
  {
   "cell_type": "code",
   "execution_count": null,
   "id": "b448c78a-43af-42e8-b6aa-db67c286ff18",
   "metadata": {},
   "outputs": [],
   "source": [
    "#coverage_summary.to_csv('draft_feed_metrics.csv')"
   ]
  },
  {
   "cell_type": "code",
   "execution_count": 31,
   "id": "eb7477bc-3d2b-4f97-b121-52af5549469f",
   "metadata": {},
   "outputs": [],
   "source": [
    "eric = pd.read_csv(\"./draft_feed_metrics.csv\")"
   ]
  },
  {
   "cell_type": "code",
   "execution_count": 42,
   "id": "141f4ed2-fdd5-45d1-bfe8-743e7997e770",
   "metadata": {},
   "outputs": [],
   "source": [
    "def compare_coverage_summary(df):\n",
    "    \n",
    "    print(f\"# rows: {len(df)}\")\n",
    "    \n",
    "    cols = [\"any_accessible_stops_trips\", \"any_rt\"]\n",
    "    for c in cols:\n",
    "        subset = df[df[c]== True]\n",
    "        print(f\"{c}: {len(subset)}\")\n"
   ]
  },
  {
   "cell_type": "code",
   "execution_count": 43,
   "id": "42f1e48b-1293-4609-83d9-3c4761f8ad2f",
   "metadata": {},
   "outputs": [
    {
     "name": "stdout",
     "output_type": "stream",
     "text": [
      "# rows: 183\n",
      "any_accessible_stops_trips: 13\n",
      "any_rt: 61\n"
     ]
    }
   ],
   "source": [
    "compare_coverage_summary(eric)"
   ]
  },
  {
   "cell_type": "code",
   "execution_count": 44,
   "id": "f2268c2c-2cc6-4c62-8063-38d544bc82a4",
   "metadata": {},
   "outputs": [
    {
     "name": "stdout",
     "output_type": "stream",
     "text": [
      "# rows: 190\n",
      "any_accessible_stops_trips: 14\n",
      "any_rt: 62\n"
     ]
    }
   ],
   "source": [
    "compare_coverage_summary(coverage_summary)"
   ]
  },
  {
   "cell_type": "code",
   "execution_count": null,
   "id": "0bd30547-72b5-40c5-ba92-2718a697d4fc",
   "metadata": {},
   "outputs": [],
   "source": []
  }
 ],
 "metadata": {
  "kernelspec": {
   "display_name": "Python 3 (ipykernel)",
   "language": "python",
   "name": "python3"
  },
  "language_info": {
   "codemirror_mode": {
    "name": "ipython",
    "version": 3
   },
   "file_extension": ".py",
   "mimetype": "text/x-python",
   "name": "python",
   "nbconvert_exporter": "python",
   "pygments_lexer": "ipython3",
   "version": "3.9.7"
  }
 },
 "nbformat": 4,
 "nbformat_minor": 5
}
