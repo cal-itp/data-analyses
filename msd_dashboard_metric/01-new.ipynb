{
 "cells": [
  {
   "cell_type": "code",
   "execution_count": 1,
   "id": "1e265c3d-d876-41fa-b864-19fd5d70c203",
   "metadata": {},
   "outputs": [
    {
     "name": "stderr",
     "output_type": "stream",
     "text": [
      "/opt/conda/lib/python3.9/site-packages/geopandas/_compat.py:111: UserWarning: The Shapely GEOS version (3.9.1-CAPI-1.14.2) is incompatible with the GEOS version PyGEOS was compiled with (3.10.1-CAPI-1.16.0). Conversions between both will be slow.\n",
      "  warnings.warn(\n"
     ]
    },
    {
     "ename": "ModuleNotFoundError",
     "evalue": "No module named 'shared_utils'",
     "output_type": "error",
     "traceback": [
      "\u001b[0;31m---------------------------------------------------------------------------\u001b[0m",
      "\u001b[0;31mModuleNotFoundError\u001b[0m                       Traceback (most recent call last)",
      "\u001b[0;32m/tmp/ipykernel_58/2806675597.py\u001b[0m in \u001b[0;36m<module>\u001b[0;34m\u001b[0m\n\u001b[1;32m      8\u001b[0m \u001b[0;32mfrom\u001b[0m \u001b[0msiuba\u001b[0m \u001b[0;32mimport\u001b[0m \u001b[0;34m*\u001b[0m\u001b[0;34m\u001b[0m\u001b[0;34m\u001b[0m\u001b[0m\n\u001b[1;32m      9\u001b[0m \u001b[0;34m\u001b[0m\u001b[0m\n\u001b[0;32m---> 10\u001b[0;31m \u001b[0;32mimport\u001b[0m \u001b[0mcreate_coverage_data\u001b[0m\u001b[0;34m\u001b[0m\u001b[0;34m\u001b[0m\u001b[0m\n\u001b[0m\u001b[1;32m     11\u001b[0m \u001b[0;32mimport\u001b[0m \u001b[0mshared_utils\u001b[0m\u001b[0;34m\u001b[0m\u001b[0;34m\u001b[0m\u001b[0m\n\u001b[1;32m     12\u001b[0m \u001b[0;32mfrom\u001b[0m \u001b[0mutils\u001b[0m \u001b[0;32mimport\u001b[0m \u001b[0;34m*\u001b[0m\u001b[0;34m\u001b[0m\u001b[0;34m\u001b[0m\u001b[0m\n",
      "\u001b[0;32m~/data-analyses/msd_dashboard_metric/create_coverage_data.py\u001b[0m in \u001b[0;36m<module>\u001b[0;34m\u001b[0m\n\u001b[1;32m     11\u001b[0m \u001b[0;32mfrom\u001b[0m \u001b[0msiuba\u001b[0m \u001b[0;32mimport\u001b[0m \u001b[0;34m*\u001b[0m\u001b[0;34m\u001b[0m\u001b[0;34m\u001b[0m\u001b[0m\n\u001b[1;32m     12\u001b[0m \u001b[0;34m\u001b[0m\u001b[0m\n\u001b[0;32m---> 13\u001b[0;31m \u001b[0;32mimport\u001b[0m \u001b[0mutils\u001b[0m\u001b[0;34m\u001b[0m\u001b[0;34m\u001b[0m\u001b[0m\n\u001b[0m\u001b[1;32m     14\u001b[0m \u001b[0;32mimport\u001b[0m \u001b[0mshared_utils\u001b[0m\u001b[0;34m\u001b[0m\u001b[0;34m\u001b[0m\u001b[0m\n\u001b[1;32m     15\u001b[0m \u001b[0;32mimport\u001b[0m \u001b[0mwarehouse_queries\u001b[0m\u001b[0;34m\u001b[0m\u001b[0;34m\u001b[0m\u001b[0m\n",
      "\u001b[0;32m~/data-analyses/msd_dashboard_metric/utils.py\u001b[0m in \u001b[0;36m<module>\u001b[0;34m\u001b[0m\n\u001b[1;32m      4\u001b[0m \u001b[0;32mimport\u001b[0m \u001b[0mdatetime\u001b[0m \u001b[0;32mas\u001b[0m \u001b[0mdt\u001b[0m\u001b[0;34m\u001b[0m\u001b[0;34m\u001b[0m\u001b[0m\n\u001b[1;32m      5\u001b[0m \u001b[0;34m\u001b[0m\u001b[0m\n\u001b[0;32m----> 6\u001b[0;31m \u001b[0;32mimport\u001b[0m \u001b[0mshared_utils\u001b[0m\u001b[0;34m\u001b[0m\u001b[0;34m\u001b[0m\u001b[0m\n\u001b[0m\u001b[1;32m      7\u001b[0m \u001b[0;34m\u001b[0m\u001b[0m\n\u001b[1;32m      8\u001b[0m \u001b[0;32mimport\u001b[0m \u001b[0mcalitp\u001b[0m\u001b[0;34m\u001b[0m\u001b[0;34m\u001b[0m\u001b[0m\n",
      "\u001b[0;31mModuleNotFoundError\u001b[0m: No module named 'shared_utils'"
     ]
    }
   ],
   "source": [
    "import os\n",
    "import pandas as pd\n",
    "import geopandas as gpd\n",
    "\n",
    "os.environ[\"CALITP_BQ_MAX_BYTES\"] = str(100_000_000_000)\n",
    "\n",
    "from calitp.tables import tbl\n",
    "from siuba import *\n",
    "\n",
    "import create_coverage_data\n",
    "import shared_utils\n",
    "from utils import *"
   ]
  },
  {
   "cell_type": "markdown",
   "id": "c43d4ebb-d66c-4f3e-9537-ac3c10ed1201",
   "metadata": {},
   "source": [
    "2 geographies:\n",
    "* blocks (area, pop)\n",
    "* tracts (employment)\n",
    "\n",
    "Stop files:\n",
    "* all stops\n",
    "* accessible stops\n",
    "\n",
    "RT files\n",
    "* all stops, inner join with rt_complete\n",
    "* accessible stops, inner join with rt_complete\n",
    "\n",
    "1st spatial join:\n",
    "1. blocks, all stops\n",
    "1. blocks, accessible stops\n",
    "1. blocks, all stops, rt\n",
    "1. blocks, accessible stops, rt\n",
    "\n",
    "2nd spatial join:\n",
    "1. tracts, all stops\n",
    "1. tracts, accessible stops\n",
    "1. tracts, all stops, rt (but this is using the block file? polygon on polygon)\n",
    "1. tracts, accessible stops, rt (also using block file?)\n",
    "\n",
    "Address the polygon on polygon either with crosswalk between blocks and tracts (then use `pd.merge`, or create point geometry with stops, rt files."
   ]
  },
  {
   "cell_type": "code",
   "execution_count": null,
   "id": "18a05eec-8cbd-436e-8ede-ccce00fd79bc",
   "metadata": {},
   "outputs": [],
   "source": [
    "#create_coverage_data.save_initial_data()\n",
    "\n",
    "# This one requires rt_complete to be saved in GCS\n",
    "#create_coverage_data.save_spatial_joined_data()"
   ]
  },
  {
   "cell_type": "code",
   "execution_count": null,
   "id": "79a07c8b-2b54-42cb-a740-7a05cda714a8",
   "metadata": {},
   "outputs": [],
   "source": [
    "# Read in data from queries\n",
    "ca_block_joined = shared_utils.utils.download_geoparquet(GCS_FILE_PATH, 'block_population_joined')\n",
    "rt_complete = pd.read_parquet(f\"{GCS_FILE_PATH}rt_complete.parquet\")\n",
    "all_stops = shared_utils.utils.download_geoparquet(GCS_FILE_PATH, 'all_stops')\n",
    "accessible_stops_trips = shared_utils.utils.download_geoparquet(GCS_FILE_PATH, 'accessible_stops_trips')\n",
    "\n",
    "# Read in employment data by tract\n",
    "tract_pop_employ_filtered = create_coverage_data.get_employment_tract_data()"
   ]
  },
  {
   "cell_type": "markdown",
   "id": "0995b229-e1c9-4f02-85ef-d00ddb4a8ba3",
   "metadata": {},
   "source": [
    "After reading in queries, loop through the dictionary items to create the block-stop spatial joins, and also add in rt data."
   ]
  },
  {
   "cell_type": "code",
   "execution_count": null,
   "id": "d1ed0996-2b4f-4642-8943-238cad23cd02",
   "metadata": {},
   "outputs": [],
   "source": [
    "def spatial_join_to_stops(ca_block, stops_dfs, rt_df):\n",
    "    \"\"\"\n",
    "    ca_block: pandas.DataFrame\n",
    "        base geography file, by blocks\n",
    "    stop_df: pandas.DataFrame\n",
    "        all stops, stops that are accessible, etc \n",
    "    \"\"\"\n",
    "    \n",
    "    # Store all the sjoins in this dict\n",
    "    processed_dfs = {}\n",
    "    \n",
    "    for stop_key, stop_df in stops_dfs.items():\n",
    "        # Join in GTFS schedule for all stops / accessible stops for blocks\n",
    "        df = (ca_block.sjoin(stop_df, how = 'inner', predicate='intersects')\n",
    "              .drop(columns = 'index_right')\n",
    "              #.rename(columns = {\"index_right\": f\"index_{stop_key}\"})\n",
    "             )\n",
    "\n",
    "        if stop_key==\"accessible_stops\":\n",
    "            ##important at block level to avoid double counts\n",
    "            df = df.drop_duplicates(subset=['geo_id'])\n",
    "\n",
    "        key = f\"block_{stop_key}\"\n",
    "        processed_dfs[key] = df\n",
    "\n",
    "        # Join in RT availability\n",
    "        df2 = (df \n",
    "               >> inner_join(_, rt_df, \n",
    "                             on = ['calitp_itp_id', 'calitp_url_number'])\n",
    "              )\n",
    "            \n",
    "        rt_key = f\"block_{stop_key}_rt\"\n",
    "        processed_dfs[rt_key] = df2\n",
    "                       \n",
    "    return processed_dfs\n",
    "    "
   ]
  },
  {
   "cell_type": "code",
   "execution_count": null,
   "id": "e9f0a90e-1d89-4715-bd4f-cc6d829d3f04",
   "metadata": {},
   "outputs": [],
   "source": [
    "stops_dfs = {\n",
    "    \"all_stops\": all_stops,\n",
    "    \"accessible_stops\": accessible_stops_trips,\n",
    "}\n",
    "\n",
    "sjoin_blocks = spatial_join_to_stops(ca_block_joined, stops_dfs, rt_complete)"
   ]
  },
  {
   "cell_type": "code",
   "execution_count": null,
   "id": "6752ded7-81cf-45a0-80c1-c00d4f5a864a",
   "metadata": {},
   "outputs": [],
   "source": [
    "for key, value in sjoin_blocks.items():\n",
    "    print(key)\n",
    "    #display(value.head(2))"
   ]
  },
  {
   "cell_type": "markdown",
   "id": "59d513c1-caa8-4235-8624-efc4346512cb",
   "metadata": {},
   "source": [
    "Do the second join, which is to join tract to stops.\n",
    "\n",
    "For tract-all_stops and tract-accessible_stops, this works.\n",
    "\n",
    "But the `all_stops_rt` is a polygon in original notebook, because it inherits the polygon geometry of the block. Polygon on polygon is making notebook crash.\n",
    "\n",
    "* Use a crosswalk and link block to tract (and if a block is linked to multiple tracts, keep the one with the largest area).\n",
    "* Use `gpd.overlay` to get the overlay geometry and keep the one with largest area.\n",
    "* With crosswalk, use `pd.merge` as intermediate file, and this should be faster.\n",
    "* Alternative, is to create the point geometry in `all_stops_rt` again and use that as point-in-polygon sjoin."
   ]
  },
  {
   "cell_type": "code",
   "execution_count": null,
   "id": "f8c7c3bb-137a-4519-81ab-7a06b974634c",
   "metadata": {},
   "outputs": [],
   "source": [
    "def make_tract_block_crosswalk(block_df, tract_df):\n",
    "\n",
    "    # Use overlay\n",
    "    # See how much of block intersects with tract\n",
    "    # Keep the largest intersection\n",
    "    crosswalk = gpd.overlay(\n",
    "        block_df[[\"geo_id\", \"geometry\"]].assign(block_area = block_df.geometry.area),\n",
    "        tract_df[[\"Tract\", \"geometry\"]],\n",
    "        how = 'intersection',\n",
    "    )\n",
    "\n",
    "    crosswalk2 = crosswalk.assign(\n",
    "        overlap_area = crosswalk.geometry.area\n",
    "    )\n",
    "    \n",
    "    crosswalk2 = (crosswalk2.sort_values(['geo_id', 'overlap_area'], \n",
    "                                     ascending=[True, False])\n",
    "              .drop_duplicates(subset=['geo_id'])\n",
    "              .drop(columns = ['block_area', 'overlap_area', 'geometry'])\n",
    "              .reset_index(drop=True)\n",
    "             )\n",
    "    \n",
    "    return crosswalk2"
   ]
  },
  {
   "cell_type": "code",
   "execution_count": null,
   "id": "56f8607c-e06a-4b72-a0d6-1219761717f9",
   "metadata": {},
   "outputs": [],
   "source": [
    "crosswalk = make_tract_block_crosswalk(ca_block_joined, tract_pop_employ_filtered)"
   ]
  },
  {
   "cell_type": "code",
   "execution_count": null,
   "id": "63212090-0c79-49b2-bf6f-4a05a9929c72",
   "metadata": {},
   "outputs": [],
   "source": [
    "def employment_spatial_joins(tract_employ_df, stop_dfs, crosswalk_block_tract):\n",
    "    \"\"\"\n",
    "    tract_employ_df: pandas.DataFrame\n",
    "        base geography file, by tracts\n",
    "    stop_df: pandas.DataFrame\n",
    "        all stops, stops that are accessible, etc \n",
    "    \"\"\"\n",
    "    \n",
    "    # Store all the sjoins in this dict\n",
    "    processed_dfs = {}    \n",
    "    \n",
    "    for stop_key, stop_df in stop_dfs.items():\n",
    "        if \"rt\" not in stop_key:\n",
    "            df = (tract_employ_df.sjoin(stop_df, how='inner', predicate='intersects')\n",
    "                  .drop(columns = 'index_right')\n",
    "                 )\n",
    "            \n",
    "        if \"rt\" in stop_key:\n",
    "            # With RT data, the block geometry is included\n",
    "            # Use crosswalk to merge\n",
    "            \n",
    "            # First, merge in crosswalk to get the block's geo_id\n",
    "            df = pd.merge(\n",
    "                tract_employ_df,\n",
    "                crosswalk_block_tract,\n",
    "                on = \"Tract\",\n",
    "                how = \"inner\"\n",
    "            )\n",
    "            \n",
    "            # Now, merge in block level data with geo_id\n",
    "            df = pd.merge(df,\n",
    "                          stop_df.drop(columns = [\"area\", \"geometry\"]),\n",
    "                          on = 'geo_id',\n",
    "                          how = 'inner'\n",
    "            )\n",
    "            \n",
    "            # Is this still needed? Expect multiple blocks to be associated with tracts\n",
    "            # No block is joined with multiple tracts (dealt with in crosswalk)\n",
    "            #df = df.drop_duplicates(subset=['Tract'])\n",
    "        \n",
    "        key = f\"tract_{stop_key.replace('block_', '')}\"\n",
    "        processed_dfs[key] = df\n",
    "    \n",
    "    return processed_dfs\n"
   ]
  },
  {
   "cell_type": "code",
   "execution_count": null,
   "id": "eb1696be-b452-4aec-9aff-1d5ca6d42aa3",
   "metadata": {},
   "outputs": [],
   "source": [
    "stops_dfs2 = {\n",
    "    \"all_stops\": all_stops,\n",
    "    \"accessible_stops\": accessible_stops_trips,\n",
    "    \"all_stops_rt\": sjoin_blocks[\"block_all_stops_rt\"],\n",
    "    \"accessible_stops_rt\": sjoin_blocks[\"block_accessible_stops_rt\"],\n",
    "}\n",
    "\n",
    "sjoin_tracts = employment_spatial_joins(tract_pop_employ_filtered, stops_dfs2, crosswalk)"
   ]
  },
  {
   "cell_type": "code",
   "execution_count": null,
   "id": "eeaa260e-85f8-4657-bf54-131d70b16628",
   "metadata": {},
   "outputs": [],
   "source": [
    "for key, value in sjoin_tracts.items():\n",
    "    print(key)\n",
    "    #display(value.head(2))"
   ]
  },
  {
   "cell_type": "markdown",
   "id": "34cb4ba3-117c-4a20-a1a4-c98b7aad9cdc",
   "metadata": {},
   "source": [
    "# Accessible Transit Metrics"
   ]
  },
  {
   "cell_type": "markdown",
   "id": "639dd482-463f-480d-9181-76cb532f8b3c",
   "metadata": {},
   "source": [
    "### New Accessibilty Metric (Area)\n",
    "\n",
    "The % of non-water area of California that is within 1/2mi of a bus stop or 1 mi of a ferry/rail stop that is explicitly wheelchair accessible (and if in a station, that station has explicit pathways coding), and that has is served by a public-funded, open to the general public transit service with GTFS Schedule data that is served by a service that is explicitly wheelchair accessible"
   ]
  },
  {
   "cell_type": "markdown",
   "id": "58521b9e-6ae7-42e4-b0e8-8565a5de796c",
   "metadata": {},
   "source": [
    "### New Accessibility Metric (Population)\n",
    "\n",
    " The % of Californians that are within 1/2 mi of a bus stop or 1 mi of a ferry/rail stop that is explicitly wheelchair accessible (and if in a station, that station has explicit pathways coding), and that has is served by a public-funded, open to the general public transit service with GTFS Schedule data that is served by a service that is explicitly wheelchair accessible"
   ]
  },
  {
   "cell_type": "markdown",
   "id": "85d1087a-359b-4f4e-b8f2-f5e2ed1fb140",
   "metadata": {},
   "source": [
    "### Notes and Caveats:\n",
    "\n",
    "* The vast majority of accessible services don't appear to provide accessibility data in GTFS\n",
    "* Pathways appears to be empty in data warehouse for now..."
   ]
  },
  {
   "cell_type": "markdown",
   "id": "a84775da-cf67-4460-8650-0b8dae1eb7ff",
   "metadata": {},
   "source": [
    "## Block Level Metrics"
   ]
  },
  {
   "cell_type": "markdown",
   "id": "2388ef56-10c0-4061-a33f-8ac8604af1e5",
   "metadata": {},
   "source": [
    "### Accessible Static"
   ]
  },
  {
   "cell_type": "code",
   "execution_count": null,
   "id": "87a5461c-6969-4ef9-bf8e-9eb215e3e550",
   "metadata": {},
   "outputs": [],
   "source": [
    "calculate_access_proportion(block_level_accessible, ca_block_joined, 'block_pop')"
   ]
  },
  {
   "cell_type": "code",
   "execution_count": null,
   "id": "8c4da5a2-0553-4fef-a511-d24b3da4cb9a",
   "metadata": {},
   "outputs": [],
   "source": [
    "# simple_map(accessible_stops_trips, 'calitp_itp_id')"
   ]
  },
  {
   "cell_type": "markdown",
   "id": "6db7f28a-ddf1-4331-a368-8c671a54ccb6",
   "metadata": {},
   "source": [
    "### All Static\n",
    "\n",
    "#### New General Metric (by area):\n",
    "\n",
    "The % of non-water area of Californian that is within 1/2 mi of a bus stop or 1 mi of a ferry/rail stop that has is served by a public-funded, open to the general public transit service with GTFS Schedule data\n",
    "\n",
    "\n",
    "#### New General Metric (by population):\n",
    "\n",
    "The % of Californians that live within 1/2 mi of a bus stop or 1 mi of a ferry/rail stop that has is served by a public-funded, open to the general public transit service with GTFS Schedule data\n"
   ]
  },
  {
   "cell_type": "code",
   "execution_count": null,
   "id": "964bab1d-f540-4d7e-8383-add0266b7db3",
   "metadata": {
    "tags": []
   },
   "outputs": [],
   "source": [
    "by_metrics = ['block_pop', 'area'] \n",
    "\n",
    "for metric in by_metrics:\n",
    "    p = calculate_access_proportion(block_level_static.drop_duplicates(subset=['geo_id']),\n",
    "                                ca_block_joined, metric)\n",
    "    print(f\"access by {metric}: {p}\")"
   ]
  },
  {
   "cell_type": "markdown",
   "id": "33d7282a-9868-48b2-b95d-4ad31562b944",
   "metadata": {},
   "source": [
    "### All RT"
   ]
  },
  {
   "cell_type": "code",
   "execution_count": null,
   "id": "7f068d53-8b88-45b3-88e2-5a3c242e2dd3",
   "metadata": {},
   "outputs": [],
   "source": [
    "for metric in by_metrics:\n",
    "    p = calculate_access_proportion(all_stops_rt.drop_duplicates(subset=['geo_id']),\n",
    "                            ca_block_joined, metric)\n",
    "    print(f\"access by {metric}: {p}\")"
   ]
  },
  {
   "cell_type": "markdown",
   "id": "b85d861c-508b-4c56-9477-68426f6599f6",
   "metadata": {},
   "source": [
    "### Accessible RT"
   ]
  },
  {
   "cell_type": "code",
   "execution_count": null,
   "id": "2f4bd2cc-4e5a-4f17-9434-2069829ce7c9",
   "metadata": {},
   "outputs": [],
   "source": [
    "for metric in by_metrics:\n",
    "    p = calculate_access_proportion(accessible_stops_trips_rt.drop_duplicates(\n",
    "        subset=['geo_id']), ca_block_joined, metric)\n",
    "    print(f\"access by {metric}: {p}\")"
   ]
  },
  {
   "cell_type": "markdown",
   "id": "9d76958a-30b7-441c-bd3c-4d7c72c29f8e",
   "metadata": {},
   "source": [
    "### RT Milestone (Partial)"
   ]
  },
  {
   "cell_type": "code",
   "execution_count": null,
   "id": "60d2313d-b249-4fd1-954d-a2a7eb6c5d1d",
   "metadata": {},
   "outputs": [],
   "source": [
    "milestone_ids = [13, 121, 323, 228, 325, 56, 93, 254, 251, 81, 122, 76, 199,\n",
    " 312, 344, 372, 280, 327, 112, 17, 118, 289, 120, 33, 356,\n",
    " 251, 351, 232, 6, 14, 271, 296, 389, 256]"
   ]
  },
  {
   "cell_type": "code",
   "execution_count": null,
   "id": "debf972a-716c-49c8-b148-d1f706cf1f8b",
   "metadata": {},
   "outputs": [],
   "source": [
    "milestone_ids = [mid for mid in milestone_ids if mid \n",
    "                 not in all_stops_rt.calitp_itp_id.unique()]"
   ]
  },
  {
   "cell_type": "markdown",
   "id": "d2fcb5ca-a45c-4b8c-b1b2-c932f0809c80",
   "metadata": {},
   "source": [
    "### Export for Mapping"
   ]
  },
  {
   "cell_type": "code",
   "execution_count": null,
   "id": "fcee7bad-12e9-4d41-9240-5c01dfb0fae6",
   "metadata": {},
   "outputs": [],
   "source": [
    "accessible_stops_trips_rt >> head(3)"
   ]
  },
  {
   "cell_type": "code",
   "execution_count": null,
   "id": "56d7b557-ab23-4714-b020-ac5ac176186a",
   "metadata": {},
   "outputs": [],
   "source": [
    "def get_status(df, new_col):\n",
    "    df2 = (df.drop_duplicates(subset=['geo_id', 'calitp_itp_id']).copy()\n",
    "           >> select(_.geo_id, _.calitp_itp_id)\n",
    "          )\n",
    "    \n",
    "    df2[new_col] = True\n",
    "    \n",
    "    return df2\n",
    "\n",
    "\n",
    "rt_acc_status = get_status(accessible_stops_trips_rt, \"rt_accessible\")\n",
    "rt_status = get_status(all_stops_rt, \"rt\")\n",
    "acc_status = get_status(block_level_accessible, \"accessible\")\n",
    "static_status = get_status(block_level_static, \"static\")\n",
    "rt_milestones = get_status((block_level_static \n",
    "                            >> filter(_.calitp_itp_id.isin(milestone_ids))\n",
    "                           ), \"rt_milestone\")"
   ]
  },
  {
   "cell_type": "code",
   "execution_count": null,
   "id": "2b3fc7f0-cb40-438d-a296-0f00c9c45fd4",
   "metadata": {},
   "outputs": [],
   "source": [
    "all_df = pd.concat([rt_acc_status, rt_status, acc_status, static_status, rt_milestones])"
   ]
  },
  {
   "cell_type": "code",
   "execution_count": null,
   "id": "4ecb03f7-4809-4a51-a554-dccf48977b08",
   "metadata": {},
   "outputs": [],
   "source": [
    "all_df = all_df.fillna(False)\n",
    "all_df = all_df.groupby(['geo_id', 'calitp_itp_id']).any().reset_index()"
   ]
  },
  {
   "cell_type": "code",
   "execution_count": null,
   "id": "0394e4f9-7624-4bfe-bda9-bc9de0edcb88",
   "metadata": {},
   "outputs": [],
   "source": [
    "for_mapping = (ca_block_joined.astype({'geo_id':'int64'})\n",
    " >> inner_join(_, all_df, on = ['geo_id'])\n",
    " # >> left_join(_, rt_status, on = ['geo_id', 'calitp_itp_id'])\n",
    " # >> left_join(_, acc_status, on = ['geo_id', 'calitp_itp_id'])\n",
    " # >> left_join(_, static_status, on = ['geo_id', 'calitp_itp_id'])\n",
    ")\n",
    "for_mapping['calitp_itp_id'] = for_mapping.calitp_itp_id.fillna(0).astype('int64')\n",
    "# for_mapping = for_mapping.fillna(False)"
   ]
  },
  {
   "cell_type": "code",
   "execution_count": null,
   "id": "20875527-7ae6-45c7-ac20-13fd8c30d3b9",
   "metadata": {},
   "outputs": [],
   "source": [
    "for_mapping.head(3)"
   ]
  },
  {
   "cell_type": "code",
   "execution_count": null,
   "id": "5e33a85c-41db-4882-a6d3-3d30d582ca0a",
   "metadata": {},
   "outputs": [],
   "source": [
    "#shared_utils.utils.geoparquet_gcs_export(for_mapping, GCS_FILE_PATH, 'block_accessibility_metrics')"
   ]
  },
  {
   "cell_type": "markdown",
   "id": "5b58402f-0773-430b-9466-090e90737113",
   "metadata": {},
   "source": [
    "## Employment Metrics (Tract Level)"
   ]
  },
  {
   "cell_type": "code",
   "execution_count": null,
   "id": "03d06ede-7f48-47cc-a807-5709e101f599",
   "metadata": {},
   "outputs": [],
   "source": [
    "def employment_spatial_joins(tract_pop_employ_filtered, all_stops, accessible_stops_trips):\n",
    "\n",
    "    all_employment_joined = (tract_pop_employ_filtered\n",
    "                    .sjoin(all_stops, how='inner', predicate='intersects')\n",
    "                    # .drop_duplicates(subset=['Tract'])\n",
    "                   ) >> select(-_.index_right, -_.index_left) \n",
    "    \n",
    "    accessible_employment_joined = (tract_pop_employ_filtered\n",
    "                    .sjoin(accessible_stops_trips, how='inner', predicate='intersects')\n",
    "                    # .drop_duplicates(subset=['Tract'])\n",
    "                   ) >> select(-_.index_right, -_.index_left)\n",
    "    \n",
    "    \n",
    "    acc_rt_employ = (tract_pop_employ_filtered\n",
    "                    .sjoin(accessible_stops_trips_rt >> select(-_.index_right, -_.index_left), \n",
    "                           how='inner', predicate='intersects')\n",
    "                    .drop_duplicates(subset=['Tract'])\n",
    "                   )\n",
    "    \n",
    "        \n",
    "    all_rt_employ = (tract_pop_employ_filtered\n",
    "                    .sjoin(all_stops_rt >> select(-_.index_right, -_.index_left), \n",
    "                           how='inner', predicate='intersects')\n",
    "                    .drop_duplicates(subset=['Tract'])\n",
    "                   )\n",
    "    \n",
    "    return (all_employment_joined, accessible_employment_joined, \n",
    "            acc_rt_employ, all_rt_employ)"
   ]
  },
  {
   "cell_type": "code",
   "execution_count": null,
   "id": "58e51bda-ef6a-45ff-9b65-3139731821f3",
   "metadata": {},
   "outputs": [],
   "source": [
    "(tract_pop_employ_filtered, \n",
    " all_employment_joined, accessible_employment_joined, \n",
    " acc_rt_employ, all_rt_employ) = employment_spatial_joins(tract_pop_employ, all_stops, accessible_stops_trips)"
   ]
  },
  {
   "cell_type": "code",
   "execution_count": null,
   "id": "ae889966-ac97-4be5-b62f-213b39b1c803",
   "metadata": {},
   "outputs": [],
   "source": [
    "#shared_utils.utils.geoparquet_gcs_export(tract_pop_employ_filtered, GCS_FILE_PATH, 'tract_pop_employ_filtered')"
   ]
  },
  {
   "cell_type": "code",
   "execution_count": null,
   "id": "963b05b7-b49f-4bdd-be4c-d154d4df6a2f",
   "metadata": {},
   "outputs": [],
   "source": [
    "## all stops employment access, jobs\n",
    "calculate_access_proportion(all_employment_joined.drop_duplicates(subset=['Tract']), tract_pop_employ_filtered, 'num_jobs')"
   ]
  },
  {
   "cell_type": "code",
   "execution_count": null,
   "id": "b252d537-58ee-45b8-9881-74f40f44c16e",
   "metadata": {},
   "outputs": [],
   "source": [
    "## accessible stops employment access, jobs\n",
    "calculate_access_proportion(accessible_employment_joined.drop_duplicates(subset=['Tract']), tract_pop_employ_filtered, 'num_jobs')"
   ]
  },
  {
   "cell_type": "code",
   "execution_count": null,
   "id": "5b32c98b-f87f-4631-8c29-5602acf96cf4",
   "metadata": {},
   "outputs": [],
   "source": [
    "## accessible with RT stops employment access, population\n",
    "calculate_access_proportion(acc_rt_employ, tract_pop_employ_filtered, 'num_jobs')"
   ]
  },
  {
   "cell_type": "code",
   "execution_count": null,
   "id": "9e9ca43c-046f-4d78-be88-b57a1860d2c3",
   "metadata": {},
   "outputs": [],
   "source": [
    "## all RT stops employment access, population\n",
    "calculate_access_proportion(all_rt_employ, tract_pop_employ_filtered, 'num_jobs')"
   ]
  },
  {
   "cell_type": "markdown",
   "id": "c26bbc09-817c-475a-a097-de05b195d9f4",
   "metadata": {},
   "source": [
    "### Summarizing Coverage"
   ]
  },
  {
   "cell_type": "code",
   "execution_count": null,
   "id": "af545319-1594-401b-9040-e61dc4c06ede",
   "metadata": {},
   "outputs": [],
   "source": [
    "## since employment data is tract-level, only includes tracts < 4 sq km (~60% of jobs)\n",
    "employment_summary = (all_employment_joined\n",
    " >> group_by(_.calitp_itp_id)\n",
    " >> distinct(_.Tract, _keep_all=True) ##geo_id must be distinct per feed...\n",
    " >> summarize(total_jobs = _.num_jobs.sum())\n",
    ")"
   ]
  },
  {
   "cell_type": "code",
   "execution_count": null,
   "id": "45207456-e3b9-4062-a92f-e0028c75f8ff",
   "metadata": {},
   "outputs": [],
   "source": [
    "SQ_MI_PER_SQ_M = 3.86e-7\n",
    "\n",
    "coverage_summary = (block_level_static\n",
    " >> group_by(_.calitp_itp_id)\n",
    " >> distinct(_.geo_id, _keep_all=True) ##geo_id must be distinct per feed...\n",
    " >> summarize(total_sq_mi = (_.area.sum() * SQ_MI_PER_SQ_M).astype('int64'),\n",
    "             total_pop = _.block_pop.sum(),\n",
    "             ))"
   ]
  },
  {
   "cell_type": "code",
   "execution_count": null,
   "id": "e238b905-414a-4c7c-b5f0-7c5e634016e4",
   "metadata": {},
   "outputs": [],
   "source": [
    "def clean_up_summary(coverage_summary):\n",
    "    df = (coverage_summary \n",
    "                        >> inner_join(_, employment_summary, on ='calitp_itp_id')\n",
    "                       )\n",
    "    \n",
    "    df['any_accessible_stops_trips'] = df.apply(lambda x: x.calitp_itp_id in (\n",
    "                             block_level_accessible.calitp_itp_id.unique()), axis=1)\n",
    "    df['any_rt'] = df.apply(lambda x: x.calitp_itp_id in (\n",
    "                             rt_complete.calitp_itp_id.unique()), axis=1)\n",
    "    \n",
    "    df2 = (df \n",
    "           >> filter(_.calitp_itp_id.apply(lambda x: x not in [0,1,2,3,8,6])) \n",
    "           ## see issue 988\n",
    "          )\n",
    "    df2 = df2 >> inner_join(_, tbl.gtfs_schedule.agency() \n",
    "                             >> distinct(_.agency_name, _.calitp_itp_id)\n",
    "                             >> collect(), \n",
    "                             on = 'calitp_itp_id')\n",
    "    \n",
    "    return df2"
   ]
  },
  {
   "cell_type": "code",
   "execution_count": null,
   "id": "4c5875a0-9250-4122-b7f2-04ef75b99daa",
   "metadata": {},
   "outputs": [],
   "source": [
    "coverage_summary = clean_up_summary(coverage_summary)"
   ]
  },
  {
   "cell_type": "code",
   "execution_count": null,
   "id": "679f7f01-129e-4ecd-8111-04362a870a47",
   "metadata": {},
   "outputs": [],
   "source": [
    "# with_name = with_name >> filter(_.calitp_itp_id.apply(lamb) != 1 0, _.calitp_itp_id != 8,\n",
    "#                                 _.calitp_itp_id != 2, _.calitp_itp_id != 3) ## see issue 988\n",
    "coverage_summary = coverage_summary >> filter(_.calitp_itp_id.apply(lambda x: x not in [0,1,2,3,8,6])) ## see issue 988"
   ]
  },
  {
   "cell_type": "code",
   "execution_count": null,
   "id": "b448c78a-43af-42e8-b6aa-db67c286ff18",
   "metadata": {},
   "outputs": [],
   "source": [
    "#coverage_summary.to_csv('draft_feed_metrics.csv')"
   ]
  }
 ],
 "metadata": {
  "kernelspec": {
   "display_name": "Python 3 (ipykernel)",
   "language": "python",
   "name": "python3"
  },
  "language_info": {
   "codemirror_mode": {
    "name": "ipython",
    "version": 3
   },
   "file_extension": ".py",
   "mimetype": "text/x-python",
   "name": "python",
   "nbconvert_exporter": "python",
   "pygments_lexer": "ipython3",
   "version": "3.9.7"
  }
 },
 "nbformat": 4,
 "nbformat_minor": 5
}
