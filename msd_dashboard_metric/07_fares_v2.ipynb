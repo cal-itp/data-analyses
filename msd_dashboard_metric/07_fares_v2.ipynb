{
 "cells": [
  {
   "cell_type": "markdown",
   "id": "f0916737-e017-4cce-821c-0dda5f2d078d",
   "metadata": {},
   "source": [
    "# Number of Feeds with Fares v2 data\n",
    "\n",
    "[GH issue](https://github.com/cal-itp/data-infra/issues/552)"
   ]
  },
  {
   "cell_type": "code",
   "execution_count": 1,
   "id": "59cde08c-3501-404c-8fc6-31cb010d574a",
   "metadata": {},
   "outputs": [
    {
     "data": {
      "text/markdown": [
       "<b>Report updated / data available through: 02-15-2022</b>"
      ],
      "text/plain": [
       "<IPython.core.display.Markdown object>"
      ]
     },
     "metadata": {},
     "output_type": "display_data"
    }
   ],
   "source": [
    "import altair as alt\n",
    "import pandas as pd\n",
    "import warnings\n",
    "\n",
    "from datetime import date\n",
    "from IPython.display import Markdown\n",
    "\n",
    "warnings.filterwarnings(\"ignore\")\n",
    "\n",
    "import create_accessibility_data\n",
    "import setup_charts\n",
    "import utils\n",
    "from calitp_data_analysis import styleguide\n",
    "from calitp_data_analysis import calitp_color_palette as cp\n",
    "from shared_utils import portfolio_utils\n",
    "\n",
    "display(Markdown(\n",
    "        f\"<b>Report updated / data available through: \"\n",
    "        f\"{date.today().strftime('%m-%d-%Y')}</b>\"\n",
    "    )\n",
    ")"
   ]
  },
  {
   "cell_type": "code",
   "execution_count": 2,
   "id": "fa7710b5-8ac7-4d5d-ad81-5e3770b65b01",
   "metadata": {},
   "outputs": [],
   "source": [
    "fares_feeds = pd.read_parquet(f\"{utils.GCS_FILE_PATH}fares_feeds.parquet\")"
   ]
  },
  {
   "cell_type": "code",
   "execution_count": 3,
   "id": "6bef9da1-02d7-412c-9083-44d358fea1e1",
   "metadata": {},
   "outputs": [],
   "source": [
    "feeds_by_date = (portfolio_utils.aggregate_by_geography(\n",
    "        fares_feeds,\n",
    "        group_cols = [\"date\"],\n",
    "        count_cols = [\"feed_key\"]\n",
    "    )\n",
    ")\n",
    "\n",
    "feeds_by_date = (feeds_by_date\n",
    "                 .assign(\n",
    "                     date = pd.to_datetime(feeds_by_date.date),\n",
    "                 ).sort_values(\"date\")\n",
    "                 .reset_index(drop=True)\n",
    "                )"
   ]
  },
  {
   "cell_type": "code",
   "execution_count": 4,
   "id": "74a53ab9-3e55-4fd7-a9d3-a415ac1bd213",
   "metadata": {},
   "outputs": [
    {
     "data": {
      "text/html": [
       "\n",
       "<div id=\"altair-viz-d8ba42bb0b70414e92d8a4d031929dee\"></div>\n",
       "<script type=\"text/javascript\">\n",
       "  var VEGA_DEBUG = (typeof VEGA_DEBUG == \"undefined\") ? {} : VEGA_DEBUG;\n",
       "  (function(spec, embedOpt){\n",
       "    let outputDiv = document.currentScript.previousElementSibling;\n",
       "    if (outputDiv.id !== \"altair-viz-d8ba42bb0b70414e92d8a4d031929dee\") {\n",
       "      outputDiv = document.getElementById(\"altair-viz-d8ba42bb0b70414e92d8a4d031929dee\");\n",
       "    }\n",
       "    const paths = {\n",
       "      \"vega\": \"https://cdn.jsdelivr.net/npm//vega@5?noext\",\n",
       "      \"vega-lib\": \"https://cdn.jsdelivr.net/npm//vega-lib?noext\",\n",
       "      \"vega-lite\": \"https://cdn.jsdelivr.net/npm//vega-lite@4.17.0?noext\",\n",
       "      \"vega-embed\": \"https://cdn.jsdelivr.net/npm//vega-embed@6?noext\",\n",
       "    };\n",
       "\n",
       "    function maybeLoadScript(lib, version) {\n",
       "      var key = `${lib.replace(\"-\", \"\")}_version`;\n",
       "      return (VEGA_DEBUG[key] == version) ?\n",
       "        Promise.resolve(paths[lib]) :\n",
       "        new Promise(function(resolve, reject) {\n",
       "          var s = document.createElement('script');\n",
       "          document.getElementsByTagName(\"head\")[0].appendChild(s);\n",
       "          s.async = true;\n",
       "          s.onload = () => {\n",
       "            VEGA_DEBUG[key] = version;\n",
       "            return resolve(paths[lib]);\n",
       "          };\n",
       "          s.onerror = () => reject(`Error loading script: ${paths[lib]}`);\n",
       "          s.src = paths[lib];\n",
       "        });\n",
       "    }\n",
       "\n",
       "    function showError(err) {\n",
       "      outputDiv.innerHTML = `<div class=\"error\" style=\"color:red;\">${err}</div>`;\n",
       "      throw err;\n",
       "    }\n",
       "\n",
       "    function displayChart(vegaEmbed) {\n",
       "      vegaEmbed(outputDiv, spec, embedOpt)\n",
       "        .catch(err => showError(`Javascript Error: ${err.message}<br>This usually means there's a typo in your chart specification. See the javascript console for the full traceback.`));\n",
       "    }\n",
       "\n",
       "    if(typeof define === \"function\" && define.amd) {\n",
       "      requirejs.config({paths});\n",
       "      require([\"vega-embed\"], displayChart, err => showError(`Error loading script: ${err.message}`));\n",
       "    } else {\n",
       "      maybeLoadScript(\"vega\", \"5\")\n",
       "        .then(() => maybeLoadScript(\"vega-lite\", \"4.17.0\"))\n",
       "        .then(() => maybeLoadScript(\"vega-embed\", \"6\"))\n",
       "        .catch(showError)\n",
       "        .then(() => displayChart(vegaEmbed));\n",
       "    }\n",
       "  })({\"config\": {\"view\": {\"continuousWidth\": 400, \"continuousHeight\": 300}, \"axis\": {\"domainColor\": \"#cbcbcb\", \"grid\": true, \"gridColor\": \"#cbcbcb\", \"gridWidth\": 1, \"labelColor\": \"#474747\", \"labelFont\": \"Nunito Sans\", \"labelFontSize\": 10, \"labelPadding\": 4, \"tickColor\": \"#cbcbcb\", \"tickSize\": 10, \"titleColor\": \"#333\", \"titleFont\": \"Raleway\", \"titleFontSize\": 12, \"titlePadding\": 10}, \"axisBand\": {\"grid\": false}, \"background\": \"white\", \"font\": \"Raleway\", \"header\": {\"labelFont\": \"Nunito Sans\", \"titleFont\": \"Raleway\"}, \"legend\": {\"labelColor\": \"#333\", \"labelFont\": \"Nunito Sans\", \"labelFontSize\": 11, \"labelLimit\": 0, \"padding\": 1, \"symbolSize\": 30, \"symbolType\": \"square\", \"titleColor\": \"#333\", \"titleFont\": \"Raleway\", \"titleFontSize\": 14, \"titlePadding\": 10}, \"title\": {\"anchor\": \"middle\", \"font\": \"Raleway\", \"fontSize\": 18, \"fontWeight\": 300, \"offset\": 20}}, \"data\": {\"name\": \"data-e84d040326526a51409980472651000d\"}, \"mark\": \"line\", \"encoding\": {\"color\": {\"value\": \"#2EA8CE\"}, \"tooltip\": [{\"field\": \"date\", \"type\": \"temporal\"}, {\"field\": \"feed_key\", \"type\": \"quantitative\"}], \"x\": {\"axis\": {\"format\": \"%-m/%-d/%y\"}, \"field\": \"date\", \"type\": \"temporal\"}, \"y\": {\"field\": \"feed_key\", \"title\": \"# feeds\", \"type\": \"quantitative\"}}, \"height\": 250, \"selection\": {\"selector001\": {\"type\": \"interval\", \"bind\": \"scales\", \"encodings\": [\"x\", \"y\"]}}, \"title\": \"# of Feeds with fare_leg_rules.txt\", \"width\": 400, \"$schema\": \"https://vega.github.io/schema/vega-lite/v4.17.0.json\", \"datasets\": {\"data-e84d040326526a51409980472651000d\": [{\"date\": \"2021-07-31T00:00:00\", \"feed_key\": 1}, {\"date\": \"2021-08-01T00:00:00\", \"feed_key\": 1}, {\"date\": \"2021-08-03T00:00:00\", \"feed_key\": 1}, {\"date\": \"2021-08-04T00:00:00\", \"feed_key\": 1}, {\"date\": \"2021-08-05T00:00:00\", \"feed_key\": 1}, {\"date\": \"2021-08-06T00:00:00\", \"feed_key\": 1}, {\"date\": \"2021-08-07T00:00:00\", \"feed_key\": 1}, {\"date\": \"2021-08-08T00:00:00\", \"feed_key\": 1}, {\"date\": \"2021-08-10T00:00:00\", \"feed_key\": 1}, {\"date\": \"2021-08-11T00:00:00\", \"feed_key\": 2}, {\"date\": \"2021-08-12T00:00:00\", \"feed_key\": 26}, {\"date\": \"2021-08-13T00:00:00\", \"feed_key\": 26}, {\"date\": \"2021-08-14T00:00:00\", \"feed_key\": 26}, {\"date\": \"2021-08-15T00:00:00\", \"feed_key\": 26}, {\"date\": \"2021-08-16T00:00:00\", \"feed_key\": 26}, {\"date\": \"2021-08-18T00:00:00\", \"feed_key\": 26}, {\"date\": \"2021-08-19T00:00:00\", \"feed_key\": 26}, {\"date\": \"2021-08-20T00:00:00\", \"feed_key\": 24}, {\"date\": \"2021-08-21T00:00:00\", \"feed_key\": 24}, {\"date\": \"2021-08-22T00:00:00\", \"feed_key\": 24}, {\"date\": \"2021-08-23T00:00:00\", \"feed_key\": 24}, {\"date\": \"2021-08-25T00:00:00\", \"feed_key\": 23}, {\"date\": \"2021-08-26T00:00:00\", \"feed_key\": 23}, {\"date\": \"2021-08-27T00:00:00\", \"feed_key\": 23}, {\"date\": \"2021-08-28T00:00:00\", \"feed_key\": 23}, {\"date\": \"2021-08-29T00:00:00\", \"feed_key\": 23}, {\"date\": \"2021-08-30T00:00:00\", \"feed_key\": 24}, {\"date\": \"2021-08-31T00:00:00\", \"feed_key\": 29}, {\"date\": \"2021-09-01T00:00:00\", \"feed_key\": 29}, {\"date\": \"2021-09-02T00:00:00\", \"feed_key\": 38}, {\"date\": \"2021-09-03T00:00:00\", \"feed_key\": 34}, {\"date\": \"2021-09-04T00:00:00\", \"feed_key\": 34}, {\"date\": \"2021-09-05T00:00:00\", \"feed_key\": 34}, {\"date\": \"2021-09-06T00:00:00\", \"feed_key\": 34}, {\"date\": \"2021-09-07T00:00:00\", \"feed_key\": 34}, {\"date\": \"2021-09-08T00:00:00\", \"feed_key\": 34}, {\"date\": \"2021-09-09T00:00:00\", \"feed_key\": 34}, {\"date\": \"2021-09-10T00:00:00\", \"feed_key\": 34}, {\"date\": \"2021-09-11T00:00:00\", \"feed_key\": 34}, {\"date\": \"2021-09-12T00:00:00\", \"feed_key\": 34}, {\"date\": \"2021-09-13T00:00:00\", \"feed_key\": 34}, {\"date\": \"2021-09-14T00:00:00\", \"feed_key\": 34}, {\"date\": \"2021-09-15T00:00:00\", \"feed_key\": 34}, {\"date\": \"2021-09-16T00:00:00\", \"feed_key\": 34}, {\"date\": \"2021-09-17T00:00:00\", \"feed_key\": 34}, {\"date\": \"2021-09-18T00:00:00\", \"feed_key\": 34}, {\"date\": \"2021-09-20T00:00:00\", \"feed_key\": 34}, {\"date\": \"2021-09-21T00:00:00\", \"feed_key\": 34}, {\"date\": \"2021-09-22T00:00:00\", \"feed_key\": 34}, {\"date\": \"2021-09-23T00:00:00\", \"feed_key\": 34}, {\"date\": \"2021-09-24T00:00:00\", \"feed_key\": 34}, {\"date\": \"2021-09-25T00:00:00\", \"feed_key\": 34}, {\"date\": \"2021-09-26T00:00:00\", \"feed_key\": 34}, {\"date\": \"2021-09-27T00:00:00\", \"feed_key\": 34}, {\"date\": \"2021-09-28T00:00:00\", \"feed_key\": 34}, {\"date\": \"2021-09-29T00:00:00\", \"feed_key\": 34}, {\"date\": \"2021-09-30T00:00:00\", \"feed_key\": 51}, {\"date\": \"2021-10-01T00:00:00\", \"feed_key\": 51}, {\"date\": \"2021-10-02T00:00:00\", \"feed_key\": 51}, {\"date\": \"2021-10-03T00:00:00\", \"feed_key\": 51}, {\"date\": \"2021-10-04T00:00:00\", \"feed_key\": 53}, {\"date\": \"2021-10-05T00:00:00\", \"feed_key\": 53}, {\"date\": \"2021-10-06T00:00:00\", \"feed_key\": 53}, {\"date\": \"2021-10-07T00:00:00\", \"feed_key\": 53}, {\"date\": \"2021-10-08T00:00:00\", \"feed_key\": 64}, {\"date\": \"2021-10-09T00:00:00\", \"feed_key\": 64}, {\"date\": \"2021-10-10T00:00:00\", \"feed_key\": 64}, {\"date\": \"2021-10-11T00:00:00\", \"feed_key\": 66}, {\"date\": \"2021-10-12T00:00:00\", \"feed_key\": 66}, {\"date\": \"2021-10-13T00:00:00\", \"feed_key\": 64}, {\"date\": \"2021-10-14T00:00:00\", \"feed_key\": 64}, {\"date\": \"2021-10-15T00:00:00\", \"feed_key\": 64}, {\"date\": \"2021-10-16T00:00:00\", \"feed_key\": 64}, {\"date\": \"2021-10-17T00:00:00\", \"feed_key\": 64}, {\"date\": \"2021-10-18T00:00:00\", \"feed_key\": 64}, {\"date\": \"2021-10-19T00:00:00\", \"feed_key\": 64}, {\"date\": \"2021-10-20T00:00:00\", \"feed_key\": 64}, {\"date\": \"2021-10-21T00:00:00\", \"feed_key\": 63}, {\"date\": \"2021-10-22T00:00:00\", \"feed_key\": 63}, {\"date\": \"2021-10-23T00:00:00\", \"feed_key\": 64}, {\"date\": \"2021-10-24T00:00:00\", \"feed_key\": 64}, {\"date\": \"2021-10-25T00:00:00\", \"feed_key\": 60}, {\"date\": \"2021-10-26T00:00:00\", \"feed_key\": 61}, {\"date\": \"2021-10-27T00:00:00\", \"feed_key\": 63}, {\"date\": \"2021-10-28T00:00:00\", \"feed_key\": 63}, {\"date\": \"2021-10-29T00:00:00\", \"feed_key\": 63}, {\"date\": \"2021-10-30T00:00:00\", \"feed_key\": 63}, {\"date\": \"2021-10-31T00:00:00\", \"feed_key\": 63}, {\"date\": \"2021-11-01T00:00:00\", \"feed_key\": 63}, {\"date\": \"2021-11-02T00:00:00\", \"feed_key\": 63}, {\"date\": \"2021-11-03T00:00:00\", \"feed_key\": 63}, {\"date\": \"2021-11-04T00:00:00\", \"feed_key\": 63}, {\"date\": \"2021-11-05T00:00:00\", \"feed_key\": 65}, {\"date\": \"2021-11-06T00:00:00\", \"feed_key\": 65}, {\"date\": \"2021-11-07T00:00:00\", \"feed_key\": 65}, {\"date\": \"2021-11-08T00:00:00\", \"feed_key\": 70}, {\"date\": \"2021-11-09T00:00:00\", \"feed_key\": 70}, {\"date\": \"2021-11-10T00:00:00\", \"feed_key\": 70}, {\"date\": \"2021-11-11T00:00:00\", \"feed_key\": 70}, {\"date\": \"2021-11-12T00:00:00\", \"feed_key\": 71}, {\"date\": \"2021-11-13T00:00:00\", \"feed_key\": 71}, {\"date\": \"2021-11-14T00:00:00\", \"feed_key\": 71}, {\"date\": \"2021-11-15T00:00:00\", \"feed_key\": 71}, {\"date\": \"2021-11-16T00:00:00\", \"feed_key\": 71}, {\"date\": \"2021-11-17T00:00:00\", \"feed_key\": 71}, {\"date\": \"2021-11-18T00:00:00\", \"feed_key\": 71}, {\"date\": \"2021-11-19T00:00:00\", \"feed_key\": 72}, {\"date\": \"2021-11-20T00:00:00\", \"feed_key\": 72}, {\"date\": \"2021-11-21T00:00:00\", \"feed_key\": 72}, {\"date\": \"2021-11-22T00:00:00\", \"feed_key\": 71}, {\"date\": \"2021-11-23T00:00:00\", \"feed_key\": 71}, {\"date\": \"2021-11-24T00:00:00\", \"feed_key\": 72}, {\"date\": \"2021-11-25T00:00:00\", \"feed_key\": 72}, {\"date\": \"2021-11-26T00:00:00\", \"feed_key\": 72}, {\"date\": \"2021-11-27T00:00:00\", \"feed_key\": 72}, {\"date\": \"2021-11-28T00:00:00\", \"feed_key\": 72}, {\"date\": \"2021-11-29T00:00:00\", \"feed_key\": 73}, {\"date\": \"2021-11-30T00:00:00\", \"feed_key\": 73}, {\"date\": \"2021-12-01T00:00:00\", \"feed_key\": 73}, {\"date\": \"2021-12-02T00:00:00\", \"feed_key\": 75}, {\"date\": \"2021-12-03T00:00:00\", \"feed_key\": 75}, {\"date\": \"2021-12-04T00:00:00\", \"feed_key\": 75}, {\"date\": \"2021-12-05T00:00:00\", \"feed_key\": 75}, {\"date\": \"2021-12-06T00:00:00\", \"feed_key\": 75}, {\"date\": \"2021-12-07T00:00:00\", \"feed_key\": 75}, {\"date\": \"2021-12-08T00:00:00\", \"feed_key\": 75}, {\"date\": \"2021-12-09T00:00:00\", \"feed_key\": 75}, {\"date\": \"2021-12-10T00:00:00\", \"feed_key\": 75}, {\"date\": \"2021-12-11T00:00:00\", \"feed_key\": 75}, {\"date\": \"2021-12-12T00:00:00\", \"feed_key\": 75}, {\"date\": \"2021-12-13T00:00:00\", \"feed_key\": 75}, {\"date\": \"2021-12-14T00:00:00\", \"feed_key\": 75}, {\"date\": \"2021-12-15T00:00:00\", \"feed_key\": 75}, {\"date\": \"2021-12-16T00:00:00\", \"feed_key\": 74}, {\"date\": \"2021-12-17T00:00:00\", \"feed_key\": 74}, {\"date\": \"2021-12-18T00:00:00\", \"feed_key\": 75}, {\"date\": \"2021-12-19T00:00:00\", \"feed_key\": 75}, {\"date\": \"2021-12-20T00:00:00\", \"feed_key\": 75}, {\"date\": \"2021-12-21T00:00:00\", \"feed_key\": 75}, {\"date\": \"2021-12-22T00:00:00\", \"feed_key\": 75}, {\"date\": \"2021-12-23T00:00:00\", \"feed_key\": 66}, {\"date\": \"2021-12-24T00:00:00\", \"feed_key\": 66}, {\"date\": \"2021-12-25T00:00:00\", \"feed_key\": 66}, {\"date\": \"2021-12-26T00:00:00\", \"feed_key\": 66}, {\"date\": \"2021-12-27T00:00:00\", \"feed_key\": 66}, {\"date\": \"2021-12-28T00:00:00\", \"feed_key\": 66}, {\"date\": \"2021-12-29T00:00:00\", \"feed_key\": 66}, {\"date\": \"2021-12-30T00:00:00\", \"feed_key\": 66}, {\"date\": \"2021-12-31T00:00:00\", \"feed_key\": 66}, {\"date\": \"2022-01-01T00:00:00\", \"feed_key\": 66}, {\"date\": \"2022-01-02T00:00:00\", \"feed_key\": 66}, {\"date\": \"2022-01-03T00:00:00\", \"feed_key\": 67}, {\"date\": \"2022-01-04T00:00:00\", \"feed_key\": 67}, {\"date\": \"2022-01-05T00:00:00\", \"feed_key\": 67}, {\"date\": \"2022-01-06T00:00:00\", \"feed_key\": 68}, {\"date\": \"2022-01-07T00:00:00\", \"feed_key\": 68}, {\"date\": \"2022-01-08T00:00:00\", \"feed_key\": 68}, {\"date\": \"2022-01-09T00:00:00\", \"feed_key\": 68}, {\"date\": \"2022-01-10T00:00:00\", \"feed_key\": 68}, {\"date\": \"2022-01-11T00:00:00\", \"feed_key\": 68}, {\"date\": \"2022-01-12T00:00:00\", \"feed_key\": 68}, {\"date\": \"2022-01-13T00:00:00\", \"feed_key\": 69}, {\"date\": \"2022-01-14T00:00:00\", \"feed_key\": 69}, {\"date\": \"2022-01-15T00:00:00\", \"feed_key\": 69}, {\"date\": \"2022-01-16T00:00:00\", \"feed_key\": 69}, {\"date\": \"2022-01-17T00:00:00\", \"feed_key\": 69}, {\"date\": \"2022-01-18T00:00:00\", \"feed_key\": 70}, {\"date\": \"2022-01-19T00:00:00\", \"feed_key\": 70}, {\"date\": \"2022-01-20T00:00:00\", \"feed_key\": 70}, {\"date\": \"2022-01-21T00:00:00\", \"feed_key\": 70}, {\"date\": \"2022-01-22T00:00:00\", \"feed_key\": 70}, {\"date\": \"2022-01-23T00:00:00\", \"feed_key\": 70}, {\"date\": \"2022-01-24T00:00:00\", \"feed_key\": 70}, {\"date\": \"2022-01-25T00:00:00\", \"feed_key\": 70}, {\"date\": \"2022-01-26T00:00:00\", \"feed_key\": 70}, {\"date\": \"2022-01-27T00:00:00\", \"feed_key\": 70}, {\"date\": \"2022-01-28T00:00:00\", \"feed_key\": 70}, {\"date\": \"2022-01-29T00:00:00\", \"feed_key\": 70}, {\"date\": \"2022-01-30T00:00:00\", \"feed_key\": 70}, {\"date\": \"2022-01-31T00:00:00\", \"feed_key\": 69}, {\"date\": \"2022-02-01T00:00:00\", \"feed_key\": 69}, {\"date\": \"2022-02-02T00:00:00\", \"feed_key\": 69}, {\"date\": \"2022-02-03T00:00:00\", \"feed_key\": 70}, {\"date\": \"2022-02-04T00:00:00\", \"feed_key\": 70}, {\"date\": \"2022-02-05T00:00:00\", \"feed_key\": 70}, {\"date\": \"2022-02-06T00:00:00\", \"feed_key\": 69}, {\"date\": \"2022-02-07T00:00:00\", \"feed_key\": 70}, {\"date\": \"2022-02-08T00:00:00\", \"feed_key\": 69}, {\"date\": \"2022-02-09T00:00:00\", \"feed_key\": 69}, {\"date\": \"2022-02-10T00:00:00\", \"feed_key\": 70}]}}, {\"mode\": \"vega-lite\"});\n",
       "</script>"
      ],
      "text/plain": [
       "alt.Chart(...)"
      ]
     },
     "metadata": {},
     "output_type": "display_data"
    }
   ],
   "source": [
    "chart = setup_charts.base_line_chart(feeds_by_date)\n",
    "chart = setup_charts.add_tooltip(chart, \"feed_key\")\n",
    "\n",
    "chart = (chart\n",
    "         .encode(\n",
    "             y=alt.Y(\"feed_key\", title=\"# feeds\"),\n",
    "             color=alt.value(cp.CALITP_CATEGORY_BRIGHT_COLORS[0]),\n",
    "         )\n",
    ")\n",
    "\n",
    "chart = (styleguide.preset_chart_config(chart)\n",
    "         .properties(title=\"# of Feeds with fare_leg_rules.txt\")\n",
    "        )\n",
    "\n",
    "display(chart)"
   ]
  },
  {
   "cell_type": "code",
   "execution_count": null,
   "id": "6b8fed3d-92b1-4afb-b65e-1c56d48d3b92",
   "metadata": {},
   "outputs": [],
   "source": []
  }
 ],
 "metadata": {
  "kernelspec": {
   "display_name": "Python 3 (ipykernel)",
   "language": "python",
   "name": "python3"
  },
  "language_info": {
   "codemirror_mode": {
    "name": "ipython",
    "version": 3
   },
   "file_extension": ".py",
   "mimetype": "text/x-python",
   "name": "python",
   "nbconvert_exporter": "python",
   "pygments_lexer": "ipython3",
   "version": "3.9.13"
  }
 },
 "nbformat": 4,
 "nbformat_minor": 5
}
