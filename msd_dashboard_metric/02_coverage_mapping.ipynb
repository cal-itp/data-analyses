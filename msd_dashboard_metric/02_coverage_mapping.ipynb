{
 "cells": [
  {
   "cell_type": "code",
   "execution_count": 1,
   "id": "0982693a-76b4-4134-aed8-eb20b76a1a7f",
   "metadata": {},
   "outputs": [
    {
     "name": "stderr",
     "output_type": "stream",
     "text": [
      "/Users/edasmalchi/miniconda3/envs/calitp/lib/python3.10/site-packages/google/cloud/bigquery/client.py:535: UserWarning: Cannot create BigQuery Storage client, the dependency google-cloud-bigquery-storage is not installed.\n",
      "  warnings.warn(\n"
     ]
    }
   ],
   "source": [
    "import pandas as pd\n",
    "import geopandas as gpd\n",
    "\n",
    "import shared_utils\n",
    "from utils import *\n",
    "import intake\n",
    "import gcsfs\n",
    "\n",
    "import calitp\n",
    "from calitp.tables import tbl\n",
    "from siuba import *"
   ]
  },
  {
   "cell_type": "code",
   "execution_count": 2,
   "id": "83075707-9903-4099-be92-a1140cee7c56",
   "metadata": {},
   "outputs": [],
   "source": [
    "coverage_gdf = gpd.read_parquet(f'{GCS_FILE_PATH}block_accessibility_metrics.parquet')"
   ]
  },
  {
   "cell_type": "code",
   "execution_count": 3,
   "id": "072d92a9-d15b-4583-a59c-85677680dabc",
   "metadata": {},
   "outputs": [
    {
     "data": {
      "text/html": [
       "<div>\n",
       "<style scoped>\n",
       "    .dataframe tbody tr th:only-of-type {\n",
       "        vertical-align: middle;\n",
       "    }\n",
       "\n",
       "    .dataframe tbody tr th {\n",
       "        vertical-align: top;\n",
       "    }\n",
       "\n",
       "    .dataframe thead th {\n",
       "        text-align: right;\n",
       "    }\n",
       "</style>\n",
       "<table border=\"1\" class=\"dataframe\">\n",
       "  <thead>\n",
       "    <tr style=\"text-align: right;\">\n",
       "      <th></th>\n",
       "      <th>county</th>\n",
       "      <th>tract</th>\n",
       "      <th>block</th>\n",
       "      <th>geo_id</th>\n",
       "      <th>geometry</th>\n",
       "      <th>block_pop</th>\n",
       "      <th>area</th>\n",
       "      <th>rt_accessible</th>\n",
       "      <th>rt</th>\n",
       "      <th>accessible</th>\n",
       "      <th>static</th>\n",
       "    </tr>\n",
       "  </thead>\n",
       "  <tbody>\n",
       "    <tr>\n",
       "      <th>0</th>\n",
       "      <td>17</td>\n",
       "      <td>30706</td>\n",
       "      <td>3012</td>\n",
       "      <td>60170307063012</td>\n",
       "      <td>POLYGON ((-93795.217 73341.696, -93626.457 734...</td>\n",
       "      <td>363</td>\n",
       "      <td>83581.711289</td>\n",
       "      <td>False</td>\n",
       "      <td>False</td>\n",
       "      <td>False</td>\n",
       "      <td>False</td>\n",
       "    </tr>\n",
       "    <tr>\n",
       "      <th>1</th>\n",
       "      <td>17</td>\n",
       "      <td>30601</td>\n",
       "      <td>3006</td>\n",
       "      <td>60170306013006</td>\n",
       "      <td>POLYGON ((-88050.178 97425.705, -88018.654 977...</td>\n",
       "      <td>64</td>\n",
       "      <td>933640.239287</td>\n",
       "      <td>False</td>\n",
       "      <td>False</td>\n",
       "      <td>False</td>\n",
       "      <td>False</td>\n",
       "    </tr>\n",
       "    <tr>\n",
       "      <th>2</th>\n",
       "      <td>65</td>\n",
       "      <td>42628</td>\n",
       "      <td>4008</td>\n",
       "      <td>60650426284008</td>\n",
       "      <td>POLYGON ((257831.965 -463783.472, 258008.040 -...</td>\n",
       "      <td>103</td>\n",
       "      <td>15986.958897</td>\n",
       "      <td>False</td>\n",
       "      <td>False</td>\n",
       "      <td>False</td>\n",
       "      <td>False</td>\n",
       "    </tr>\n",
       "  </tbody>\n",
       "</table>\n",
       "</div>"
      ],
      "text/plain": [
       "   county  tract  block          geo_id  \\\n",
       "0      17  30706   3012  60170307063012   \n",
       "1      17  30601   3006  60170306013006   \n",
       "2      65  42628   4008  60650426284008   \n",
       "\n",
       "                                            geometry  block_pop  \\\n",
       "0  POLYGON ((-93795.217 73341.696, -93626.457 734...        363   \n",
       "1  POLYGON ((-88050.178 97425.705, -88018.654 977...         64   \n",
       "2  POLYGON ((257831.965 -463783.472, 258008.040 -...        103   \n",
       "\n",
       "            area  rt_accessible     rt  accessible  static  \n",
       "0   83581.711289          False  False       False   False  \n",
       "1  933640.239287          False  False       False   False  \n",
       "2   15986.958897          False  False       False   False  "
      ]
     },
     "execution_count": 3,
     "metadata": {},
     "output_type": "execute_result"
    }
   ],
   "source": [
    "coverage_gdf.head(3)"
   ]
  },
  {
   "cell_type": "code",
   "execution_count": 12,
   "id": "e988e47e-bbaa-40d6-8ef6-4936915e1cfc",
   "metadata": {},
   "outputs": [],
   "source": [
    "# popup_dict = {\n",
    "#     \"rt_accessible\": \"Accessible Trip and Stop, RT Feed Available\",\n",
    "#     \"rt\": \"RT Feed Available\",\n",
    "#     \"accessible\": \"Accessible Trip and Stop\",\n",
    "#     \"static\": \"GTFS Static Present\",\n",
    "# }\n",
    "\n",
    "popup_dict = {}"
   ]
  },
  {
   "cell_type": "code",
   "execution_count": 13,
   "id": "c3b5d573-bc88-454d-95d2-6c777a3f4982",
   "metadata": {},
   "outputs": [],
   "source": [
    "import branca"
   ]
  },
  {
   "cell_type": "code",
   "execution_count": 14,
   "id": "8648e888-2267-479f-b888-81ca3fa34074",
   "metadata": {},
   "outputs": [],
   "source": [
    "from shared_utils import calitp_color_palette as cp"
   ]
  },
  {
   "cell_type": "code",
   "execution_count": 15,
   "id": "74be6fee-ed66-4c6a-a93e-5ef0dde1e320",
   "metadata": {},
   "outputs": [
    {
     "data": {
      "text/plain": [
       "['#2EA8CE', '#EB9F3C', '#F4D837', '#51BF9D', '#8CBCCB', '#9487C0']"
      ]
     },
     "execution_count": 15,
     "metadata": {},
     "output_type": "execute_result"
    }
   ],
   "source": [
    "cp.CALITP_CATEGORY_BRIGHT_COLORS"
   ]
  },
  {
   "cell_type": "code",
   "execution_count": 17,
   "id": "47a2498d-97b3-4fed-bc4a-a194a36af252",
   "metadata": {},
   "outputs": [],
   "source": [
    "coverage_gdf.geometry = coverage_gdf.buffer(0)"
   ]
  },
  {
   "cell_type": "code",
   "execution_count": 18,
   "id": "20e250e4-a72b-4232-a1ff-1de53497ba1e",
   "metadata": {},
   "outputs": [],
   "source": [
    "df_rt_acc = (coverage_gdf.copy() >> filter(_.rt_accessible)).dissolve()\n",
    "df_rt = (coverage_gdf.copy() >> filter(_.rt)).dissolve()\n",
    "df_acc = (coverage_gdf.copy() >> filter(_.accessible)).dissolve()\n",
    "df_static = (coverage_gdf.copy() >> filter(_.static)).dissolve()"
   ]
  },
  {
   "cell_type": "code",
   "execution_count": 19,
   "id": "abc93040-670d-4841-9b19-e161ca6ad4c1",
   "metadata": {},
   "outputs": [],
   "source": [
    "LAYERS_DICT = {\n",
    "    \"RT Accessible\": {\"df\": df_rt_acc,\n",
    "        \"plot_col\": \"rt_accessible\",\n",
    "        \"popup_dict\": popup_dict, \n",
    "        \"tooltip_dict\": popup_dict,\n",
    "        \"colorscale\": lambda x: cp.CALITP_CATEGORY_BRIGHT_COLORS[:1],\n",
    "    },\n",
    "    \"RT\": {\"df\": df_rt,\n",
    "        \"plot_col\": \"rt\",\n",
    "        \"popup_dict\": popup_dict, \n",
    "        \"tooltip_dict\": popup_dict,\n",
    "        \"colorscale\": lambda x: cp.CALITP_CATEGORY_BRIGHT_COLORS[1:2],\n",
    "    },\n",
    "    \"Accessible\": {\"df\": df_acc,\n",
    "        \"plot_col\": \"accessible\",\n",
    "        \"popup_dict\": popup_dict, \n",
    "        \"tooltip_dict\": popup_dict,\n",
    "        \"colorscale\": lambda x: cp.CALITP_CATEGORY_BRIGHT_COLORS[2:3],\n",
    "    },\n",
    "    \"GTFS Static\": {\"df\": df_static,\n",
    "        \"plot_col\": \"static\",\n",
    "        \"popup_dict\": popup_dict, \n",
    "        \"tooltip_dict\": popup_dict,\n",
    "        \"colorscale\": lambda x: cp.CALITP_CATEGORY_BRIGHT_COLORS[3:4],\n",
    "    }\n",
    "}"
   ]
  },
  {
   "cell_type": "code",
   "execution_count": 20,
   "id": "b7d3e0db-49d6-4734-adcd-38c2eda97fe0",
   "metadata": {},
   "outputs": [],
   "source": [
    "# shared_utils.map_utils.make_folium_multiple_layers_map?"
   ]
  },
  {
   "cell_type": "code",
   "execution_count": 21,
   "id": "61fdb0f4-218f-41f0-9cc8-95def7bbae15",
   "metadata": {},
   "outputs": [],
   "source": [
    "fig = shared_utils.map_utils.make_folium_multiple_layers_map(\n",
    "        LAYERS_DICT,\n",
    "        fig_width = 800, fig_height = 800, \n",
    "        zoom=9, \n",
    "        centroid = [36.5, -120], \n",
    "        title=f\"Statewide Feed Coverage\",\n",
    "        # legend_dict = LEGEND_DICT\n",
    "    )"
   ]
  },
  {
   "cell_type": "code",
   "execution_count": null,
   "id": "6fe17c4a-416b-46c2-8c38-95d67cb08a82",
   "metadata": {},
   "outputs": [],
   "source": [
    "# fig"
   ]
  },
  {
   "cell_type": "code",
   "execution_count": 22,
   "id": "def5fcee-953e-45e7-adc8-ad3f44b03218",
   "metadata": {},
   "outputs": [],
   "source": [
    "fig.save('statewide_coverage_map.html')"
   ]
  },
  {
   "cell_type": "code",
   "execution_count": null,
   "id": "7e3f2503-9e54-4026-b361-f82611f6fad1",
   "metadata": {},
   "outputs": [],
   "source": []
  }
 ],
 "metadata": {
  "kernelspec": {
   "display_name": "Python 3 (ipykernel)",
   "language": "python",
   "name": "python3"
  },
  "language_info": {
   "codemirror_mode": {
    "name": "ipython",
    "version": 3
   },
   "file_extension": ".py",
   "mimetype": "text/x-python",
   "name": "python",
   "nbconvert_exporter": "python",
   "pygments_lexer": "ipython3",
   "version": "3.10.1"
  }
 },
 "nbformat": 4,
 "nbformat_minor": 5
}
