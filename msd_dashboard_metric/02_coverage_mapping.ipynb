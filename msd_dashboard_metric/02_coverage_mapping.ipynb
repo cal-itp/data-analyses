{
 "cells": [
  {
   "cell_type": "code",
   "execution_count": 1,
   "id": "0982693a-76b4-4134-aed8-eb20b76a1a7f",
   "metadata": {},
   "outputs": [
    {
     "name": "stderr",
     "output_type": "stream",
     "text": [
      "/opt/conda/lib/python3.9/site-packages/geopandas/_compat.py:111: UserWarning: The Shapely GEOS version (3.9.1-CAPI-1.14.2) is incompatible with the GEOS version PyGEOS was compiled with (3.10.1-CAPI-1.16.0). Conversions between both will be slow.\n",
      "  warnings.warn(\n"
     ]
    }
   ],
   "source": [
    "import pandas as pd\n",
    "import geopandas as gpd\n",
    "\n",
    "import shared_utils\n",
    "from utils import *\n",
    "import intake\n",
    "import gcsfs\n",
    "\n",
    "import calitp\n",
    "from calitp.tables import tbl\n",
    "from siuba import *"
   ]
  },
  {
   "cell_type": "code",
   "execution_count": 2,
   "id": "83075707-9903-4099-be92-a1140cee7c56",
   "metadata": {},
   "outputs": [],
   "source": [
    "coverage_gdf = gpd.read_parquet(f'{GCS_FILE_PATH}block_accessibility_metrics.parquet')"
   ]
  },
  {
   "cell_type": "code",
   "execution_count": 3,
   "id": "072d92a9-d15b-4583-a59c-85677680dabc",
   "metadata": {},
   "outputs": [
    {
     "data": {
      "text/html": [
       "<div>\n",
       "<style scoped>\n",
       "    .dataframe tbody tr th:only-of-type {\n",
       "        vertical-align: middle;\n",
       "    }\n",
       "\n",
       "    .dataframe tbody tr th {\n",
       "        vertical-align: top;\n",
       "    }\n",
       "\n",
       "    .dataframe thead th {\n",
       "        text-align: right;\n",
       "    }\n",
       "</style>\n",
       "<table border=\"1\" class=\"dataframe\">\n",
       "  <thead>\n",
       "    <tr style=\"text-align: right;\">\n",
       "      <th></th>\n",
       "      <th>county</th>\n",
       "      <th>tract</th>\n",
       "      <th>block</th>\n",
       "      <th>geo_id</th>\n",
       "      <th>geometry</th>\n",
       "      <th>block_pop</th>\n",
       "      <th>area</th>\n",
       "      <th>calitp_itp_id</th>\n",
       "      <th>rt_accessible</th>\n",
       "      <th>rt</th>\n",
       "      <th>accessible</th>\n",
       "      <th>static</th>\n",
       "      <th>rt_milestone</th>\n",
       "    </tr>\n",
       "  </thead>\n",
       "  <tbody>\n",
       "    <tr>\n",
       "      <th>0</th>\n",
       "      <td>65</td>\n",
       "      <td>42628</td>\n",
       "      <td>4008</td>\n",
       "      <td>60650426284008</td>\n",
       "      <td>POLYGON ((257831.965 -463783.472, 258008.040 -...</td>\n",
       "      <td>103</td>\n",
       "      <td>15986.958897</td>\n",
       "      <td>269</td>\n",
       "      <td>False</td>\n",
       "      <td>True</td>\n",
       "      <td>False</td>\n",
       "      <td>True</td>\n",
       "      <td>False</td>\n",
       "    </tr>\n",
       "    <tr>\n",
       "      <th>1</th>\n",
       "      <td>65</td>\n",
       "      <td>42711</td>\n",
       "      <td>3025</td>\n",
       "      <td>60650427113025</td>\n",
       "      <td>POLYGON ((259577.302 -476173.973, 259651.066 -...</td>\n",
       "      <td>42</td>\n",
       "      <td>29609.218158</td>\n",
       "      <td>269</td>\n",
       "      <td>False</td>\n",
       "      <td>True</td>\n",
       "      <td>False</td>\n",
       "      <td>True</td>\n",
       "      <td>False</td>\n",
       "    </tr>\n",
       "    <tr>\n",
       "      <th>2</th>\n",
       "      <td>65</td>\n",
       "      <td>43401</td>\n",
       "      <td>1023</td>\n",
       "      <td>60650434011023</td>\n",
       "      <td>POLYGON ((281412.631 -469351.296, 281613.718 -...</td>\n",
       "      <td>21</td>\n",
       "      <td>19971.850439</td>\n",
       "      <td>13</td>\n",
       "      <td>False</td>\n",
       "      <td>False</td>\n",
       "      <td>False</td>\n",
       "      <td>True</td>\n",
       "      <td>True</td>\n",
       "    </tr>\n",
       "  </tbody>\n",
       "</table>\n",
       "</div>"
      ],
      "text/plain": [
       "   county  tract  block          geo_id  \\\n",
       "0      65  42628   4008  60650426284008   \n",
       "1      65  42711   3025  60650427113025   \n",
       "2      65  43401   1023  60650434011023   \n",
       "\n",
       "                                            geometry  block_pop          area  \\\n",
       "0  POLYGON ((257831.965 -463783.472, 258008.040 -...        103  15986.958897   \n",
       "1  POLYGON ((259577.302 -476173.973, 259651.066 -...         42  29609.218158   \n",
       "2  POLYGON ((281412.631 -469351.296, 281613.718 -...         21  19971.850439   \n",
       "\n",
       "   calitp_itp_id  rt_accessible     rt  accessible  static  rt_milestone  \n",
       "0            269          False   True       False    True         False  \n",
       "1            269          False   True       False    True         False  \n",
       "2             13          False  False       False    True          True  "
      ]
     },
     "execution_count": 3,
     "metadata": {},
     "output_type": "execute_result"
    }
   ],
   "source": [
    "coverage_gdf.head(3)"
   ]
  },
  {
   "cell_type": "code",
   "execution_count": 4,
   "id": "e988e47e-bbaa-40d6-8ef6-4936915e1cfc",
   "metadata": {},
   "outputs": [],
   "source": [
    "# popup_dict = {\n",
    "#     \"rt_accessible\": \"Accessible Trip and Stop, RT Feed Available\",\n",
    "#     \"rt\": \"RT Feed Available\",\n",
    "#     \"accessible\": \"Accessible Trip and Stop\",\n",
    "#     \"static\": \"GTFS Static Present\",\n",
    "# }\n",
    "\n",
    "popup_dict = {}"
   ]
  },
  {
   "cell_type": "code",
   "execution_count": 5,
   "id": "c3b5d573-bc88-454d-95d2-6c777a3f4982",
   "metadata": {},
   "outputs": [],
   "source": [
    "import branca"
   ]
  },
  {
   "cell_type": "code",
   "execution_count": 6,
   "id": "8648e888-2267-479f-b888-81ca3fa34074",
   "metadata": {},
   "outputs": [],
   "source": [
    "from shared_utils import calitp_color_palette as cp"
   ]
  },
  {
   "cell_type": "code",
   "execution_count": 7,
   "id": "74be6fee-ed66-4c6a-a93e-5ef0dde1e320",
   "metadata": {},
   "outputs": [
    {
     "data": {
      "text/plain": [
       "['#2EA8CE', '#EB9F3C', '#F4D837', '#51BF9D', '#8CBCCB', '#9487C0']"
      ]
     },
     "execution_count": 7,
     "metadata": {},
     "output_type": "execute_result"
    }
   ],
   "source": [
    "cp.CALITP_CATEGORY_BRIGHT_COLORS"
   ]
  },
  {
   "cell_type": "code",
   "execution_count": 8,
   "id": "47a2498d-97b3-4fed-bc4a-a194a36af252",
   "metadata": {},
   "outputs": [],
   "source": [
    "coverage_gdf.geometry = coverage_gdf.buffer(0)"
   ]
  },
  {
   "cell_type": "code",
   "execution_count": 9,
   "id": "43a1180d-38cd-4790-b896-e43a422f4172",
   "metadata": {},
   "outputs": [],
   "source": [
    "df_rt_acc = (coverage_gdf.copy() >> filter(_.rt_accessible)).dissolve(by='calitp_itp_id').reset_index()\n",
    "df_rt = (coverage_gdf.copy() >> filter(_.rt)).dissolve(by='calitp_itp_id').reset_index()\n",
    "df_rt_milestone = (coverage_gdf.copy() >> filter(_.rt_milestone)).dissolve(by='calitp_itp_id').reset_index()\n",
    "df_acc = (coverage_gdf.copy() >> filter(_.accessible)).dissolve(by='calitp_itp_id').reset_index()\n",
    "df_static = (coverage_gdf.copy() >> filter(_.static)).dissolve(by='calitp_itp_id').reset_index()\n",
    "\n",
    "for df in [df_rt_acc, df_rt, df_acc, df_static]:\n",
    "    df['geometry'] = df.geometry.buffer(150).simplify(tolerance=75)"
   ]
  },
  {
   "cell_type": "code",
   "execution_count": 18,
   "id": "b69062f4-459b-4c56-bf2d-620ab10dae13",
   "metadata": {},
   "outputs": [
    {
     "data": {
      "text/html": [
       "<div>\n",
       "<style scoped>\n",
       "    .dataframe tbody tr th:only-of-type {\n",
       "        vertical-align: middle;\n",
       "    }\n",
       "\n",
       "    .dataframe tbody tr th {\n",
       "        vertical-align: top;\n",
       "    }\n",
       "\n",
       "    .dataframe thead th {\n",
       "        text-align: right;\n",
       "    }\n",
       "</style>\n",
       "<table border=\"1\" class=\"dataframe\">\n",
       "  <thead>\n",
       "    <tr style=\"text-align: right;\">\n",
       "      <th></th>\n",
       "      <th>calitp_itp_id</th>\n",
       "      <th>geometry</th>\n",
       "      <th>county</th>\n",
       "      <th>tract</th>\n",
       "      <th>block</th>\n",
       "      <th>geo_id</th>\n",
       "      <th>block_pop</th>\n",
       "      <th>area</th>\n",
       "      <th>rt_accessible</th>\n",
       "      <th>rt</th>\n",
       "      <th>accessible</th>\n",
       "      <th>static</th>\n",
       "      <th>rt_milestone</th>\n",
       "    </tr>\n",
       "  </thead>\n",
       "  <tbody>\n",
       "    <tr>\n",
       "      <th>0</th>\n",
       "      <td>6</td>\n",
       "      <td>MULTIPOLYGON (((-200957.368 -19276.968, -20083...</td>\n",
       "      <td>1</td>\n",
       "      <td>422000</td>\n",
       "      <td>1038</td>\n",
       "      <td>60014220001038</td>\n",
       "      <td>11</td>\n",
       "      <td>7210.455283</td>\n",
       "      <td>False</td>\n",
       "      <td>False</td>\n",
       "      <td>False</td>\n",
       "      <td>True</td>\n",
       "      <td>True</td>\n",
       "    </tr>\n",
       "    <tr>\n",
       "      <th>1</th>\n",
       "      <td>13</td>\n",
       "      <td>MULTIPOLYGON (((-326996.871 236622.306, -32712...</td>\n",
       "      <td>65</td>\n",
       "      <td>43401</td>\n",
       "      <td>1023</td>\n",
       "      <td>60650434011023</td>\n",
       "      <td>21</td>\n",
       "      <td>19971.850439</td>\n",
       "      <td>False</td>\n",
       "      <td>False</td>\n",
       "      <td>False</td>\n",
       "      <td>True</td>\n",
       "      <td>True</td>\n",
       "    </tr>\n",
       "    <tr>\n",
       "      <th>2</th>\n",
       "      <td>14</td>\n",
       "      <td>MULTIPOLYGON (((184574.222 -462499.383, 184558...</td>\n",
       "      <td>59</td>\n",
       "      <td>88403</td>\n",
       "      <td>1002</td>\n",
       "      <td>60590884031002</td>\n",
       "      <td>256</td>\n",
       "      <td>19695.690969</td>\n",
       "      <td>False</td>\n",
       "      <td>False</td>\n",
       "      <td>False</td>\n",
       "      <td>True</td>\n",
       "      <td>True</td>\n",
       "    </tr>\n",
       "  </tbody>\n",
       "</table>\n",
       "</div>"
      ],
      "text/plain": [
       "   calitp_itp_id                                           geometry  county  \\\n",
       "0              6  MULTIPOLYGON (((-200957.368 -19276.968, -20083...       1   \n",
       "1             13  MULTIPOLYGON (((-326996.871 236622.306, -32712...      65   \n",
       "2             14  MULTIPOLYGON (((184574.222 -462499.383, 184558...      59   \n",
       "\n",
       "    tract  block          geo_id  block_pop          area  rt_accessible  \\\n",
       "0  422000   1038  60014220001038         11   7210.455283          False   \n",
       "1   43401   1023  60650434011023         21  19971.850439          False   \n",
       "2   88403   1002  60590884031002        256  19695.690969          False   \n",
       "\n",
       "      rt  accessible  static  rt_milestone  \n",
       "0  False       False    True          True  \n",
       "1  False       False    True          True  \n",
       "2  False       False    True          True  "
      ]
     },
     "execution_count": 18,
     "metadata": {},
     "output_type": "execute_result"
    }
   ],
   "source": [
    "df_rt_milestone.head(3)"
   ]
  },
  {
   "cell_type": "code",
   "execution_count": 12,
   "id": "144bb6ad-8eb0-43a3-ad5a-5179f9455579",
   "metadata": {},
   "outputs": [],
   "source": [
    "popup_dict = {\"calitp_itp_id\": 'ITP ID',\n",
    "            \"rt_accessible\": \"Accessible Trip and Stop, RT Feed Available\",\n",
    "            \"rt\": \"RT Feed Available\",\n",
    "            \"rt_milestone\": \"RT Feed in MSD Milestones\",\n",
    "            \"accessible\": \"Accessible Trip and Stop\",\n",
    "            \"static\": \"GTFS Static Present\",\n",
    "             }"
   ]
  },
  {
   "cell_type": "code",
   "execution_count": 19,
   "id": "abc93040-670d-4841-9b19-e161ca6ad4c1",
   "metadata": {},
   "outputs": [],
   "source": [
    "LAYERS_DICT = {\n",
    "    \"RT Accessible\": {\"df\": df_rt_acc,\n",
    "        \"plot_col\": \"rt_accessible\",\n",
    "        \"popup_dict\": popup_dict, \n",
    "        \"tooltip_dict\": popup_dict,\n",
    "        \"colorscale\": lambda x: cp.CALITP_CATEGORY_BRIGHT_COLORS[:1],\n",
    "    },\n",
    "    \"RT\": {\"df\": df_rt,\n",
    "        \"plot_col\": \"rt\",\n",
    "        \"popup_dict\": popup_dict, \n",
    "        \"tooltip_dict\": popup_dict,\n",
    "        \"colorscale\": lambda x: cp.CALITP_CATEGORY_BRIGHT_COLORS[4:5],\n",
    "    },\n",
    "    \"RT Milestones\": {\"df\": df_rt_milestone,\n",
    "        \"plot_col\": \"rt\",\n",
    "        \"popup_dict\": popup_dict, \n",
    "        \"tooltip_dict\": popup_dict,\n",
    "        \"colorscale\": lambda x: cp.CALITP_CATEGORY_BRIGHT_COLORS[1:2],\n",
    "    },\n",
    "    \"Accessible\": {\"df\": df_acc,\n",
    "        \"plot_col\": \"accessible\",\n",
    "        \"popup_dict\": popup_dict, \n",
    "        \"tooltip_dict\": popup_dict,\n",
    "        \"colorscale\": lambda x: cp.CALITP_CATEGORY_BRIGHT_COLORS[2:3],\n",
    "    },\n",
    "    \"GTFS Static\": {\"df\": df_static,\n",
    "        \"plot_col\": \"static\",\n",
    "        \"popup_dict\": popup_dict, \n",
    "        \"tooltip_dict\": popup_dict,\n",
    "        \"colorscale\": lambda x: cp.CALITP_CATEGORY_BRIGHT_COLORS[3:4],\n",
    "    }\n",
    "}"
   ]
  },
  {
   "cell_type": "code",
   "execution_count": 20,
   "id": "b7d3e0db-49d6-4734-adcd-38c2eda97fe0",
   "metadata": {},
   "outputs": [],
   "source": [
    "# shared_utils.map_utils.make_folium_multiple_layers_map?"
   ]
  },
  {
   "cell_type": "code",
   "execution_count": 21,
   "id": "61fdb0f4-218f-41f0-9cc8-95def7bbae15",
   "metadata": {},
   "outputs": [],
   "source": [
    "fig = shared_utils.map_utils.make_folium_multiple_layers_map(\n",
    "        LAYERS_DICT,\n",
    "        fig_width = 800, fig_height = 800, \n",
    "        zoom=9, \n",
    "        centroid = [36.5, -120], \n",
    "        title=f\"Statewide Feed Coverage\",\n",
    "        # legend_dict = LEGEND_DICT\n",
    "    )"
   ]
  },
  {
   "cell_type": "code",
   "execution_count": 24,
   "id": "6fe17c4a-416b-46c2-8c38-95d67cb08a82",
   "metadata": {},
   "outputs": [],
   "source": [
    "# fig"
   ]
  },
  {
   "cell_type": "code",
   "execution_count": 23,
   "id": "def5fcee-953e-45e7-adc8-ad3f44b03218",
   "metadata": {},
   "outputs": [],
   "source": [
    "fig.save('statewide_coverage_map.html')"
   ]
  },
  {
   "cell_type": "code",
   "execution_count": null,
   "id": "7e3f2503-9e54-4026-b361-f82611f6fad1",
   "metadata": {},
   "outputs": [],
   "source": []
  }
 ],
 "metadata": {
  "kernelspec": {
   "display_name": "Python 3 (ipykernel)",
   "language": "python",
   "name": "python3"
  },
  "language_info": {
   "codemirror_mode": {
    "name": "ipython",
    "version": 3
   },
   "file_extension": ".py",
   "mimetype": "text/x-python",
   "name": "python",
   "nbconvert_exporter": "python",
   "pygments_lexer": "ipython3",
   "version": "3.9.7"
  }
 },
 "nbformat": 4,
 "nbformat_minor": 5
}
