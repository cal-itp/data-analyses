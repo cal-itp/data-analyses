{
 "cells": [
  {
   "cell_type": "code",
   "execution_count": 1,
   "id": "0982693a-76b4-4134-aed8-eb20b76a1a7f",
   "metadata": {},
   "outputs": [
    {
     "name": "stderr",
     "output_type": "stream",
     "text": [
      "/opt/conda/lib/python3.9/site-packages/geopandas/_compat.py:111: UserWarning: The Shapely GEOS version (3.9.1-CAPI-1.14.2) is incompatible with the GEOS version PyGEOS was compiled with (3.10.1-CAPI-1.16.0). Conversions between both will be slow.\n",
      "  warnings.warn(\n"
     ]
    }
   ],
   "source": [
    "import branca\n",
    "import pandas as pd\n",
    "import geopandas as gpd\n",
    "\n",
    "from siuba import *\n",
    "\n",
    "from calitp_data_analysis import calitp_color_palette as cp\n",
    "from utils import *"
   ]
  },
  {
   "cell_type": "code",
   "execution_count": 2,
   "id": "83075707-9903-4099-be92-a1140cee7c56",
   "metadata": {},
   "outputs": [],
   "source": [
    "coverage_gdf = gpd.read_parquet(f'{GCS_FILE_PATH}block_accessibility_metrics.parquet')"
   ]
  },
  {
   "cell_type": "code",
   "execution_count": 3,
   "id": "072d92a9-d15b-4583-a59c-85677680dabc",
   "metadata": {},
   "outputs": [
    {
     "data": {
      "text/html": [
       "<div>\n",
       "<style scoped>\n",
       "    .dataframe tbody tr th:only-of-type {\n",
       "        vertical-align: middle;\n",
       "    }\n",
       "\n",
       "    .dataframe tbody tr th {\n",
       "        vertical-align: top;\n",
       "    }\n",
       "\n",
       "    .dataframe thead th {\n",
       "        text-align: right;\n",
       "    }\n",
       "</style>\n",
       "<table border=\"1\" class=\"dataframe\">\n",
       "  <thead>\n",
       "    <tr style=\"text-align: right;\">\n",
       "      <th></th>\n",
       "      <th>county</th>\n",
       "      <th>tract</th>\n",
       "      <th>block</th>\n",
       "      <th>geo_id</th>\n",
       "      <th>geometry</th>\n",
       "      <th>block_pop</th>\n",
       "      <th>area</th>\n",
       "      <th>calitp_itp_id</th>\n",
       "      <th>rt_accessible</th>\n",
       "      <th>rt</th>\n",
       "      <th>accessible</th>\n",
       "      <th>static</th>\n",
       "      <th>rt_milestone</th>\n",
       "    </tr>\n",
       "  </thead>\n",
       "  <tbody>\n",
       "    <tr>\n",
       "      <th>0</th>\n",
       "      <td>65</td>\n",
       "      <td>42628</td>\n",
       "      <td>4008</td>\n",
       "      <td>60650426284008</td>\n",
       "      <td>POLYGON ((257831.965 -463783.472, 258008.040 -...</td>\n",
       "      <td>103</td>\n",
       "      <td>15986.958897</td>\n",
       "      <td>269</td>\n",
       "      <td>False</td>\n",
       "      <td>True</td>\n",
       "      <td>False</td>\n",
       "      <td>True</td>\n",
       "      <td>False</td>\n",
       "    </tr>\n",
       "    <tr>\n",
       "      <th>1</th>\n",
       "      <td>65</td>\n",
       "      <td>42711</td>\n",
       "      <td>3025</td>\n",
       "      <td>60650427113025</td>\n",
       "      <td>POLYGON ((259577.302 -476173.973, 259651.066 -...</td>\n",
       "      <td>42</td>\n",
       "      <td>29609.218158</td>\n",
       "      <td>269</td>\n",
       "      <td>False</td>\n",
       "      <td>True</td>\n",
       "      <td>False</td>\n",
       "      <td>True</td>\n",
       "      <td>False</td>\n",
       "    </tr>\n",
       "    <tr>\n",
       "      <th>2</th>\n",
       "      <td>65</td>\n",
       "      <td>43401</td>\n",
       "      <td>1023</td>\n",
       "      <td>60650434011023</td>\n",
       "      <td>POLYGON ((281412.631 -469351.296, 281613.718 -...</td>\n",
       "      <td>21</td>\n",
       "      <td>19971.850439</td>\n",
       "      <td>13</td>\n",
       "      <td>False</td>\n",
       "      <td>False</td>\n",
       "      <td>False</td>\n",
       "      <td>True</td>\n",
       "      <td>True</td>\n",
       "    </tr>\n",
       "  </tbody>\n",
       "</table>\n",
       "</div>"
      ],
      "text/plain": [
       "   county  tract  block          geo_id  \\\n",
       "0      65  42628   4008  60650426284008   \n",
       "1      65  42711   3025  60650427113025   \n",
       "2      65  43401   1023  60650434011023   \n",
       "\n",
       "                                            geometry  block_pop          area  \\\n",
       "0  POLYGON ((257831.965 -463783.472, 258008.040 -...        103  15986.958897   \n",
       "1  POLYGON ((259577.302 -476173.973, 259651.066 -...         42  29609.218158   \n",
       "2  POLYGON ((281412.631 -469351.296, 281613.718 -...         21  19971.850439   \n",
       "\n",
       "   calitp_itp_id  rt_accessible     rt  accessible  static  rt_milestone  \n",
       "0            269          False   True       False    True         False  \n",
       "1            269          False   True       False    True         False  \n",
       "2             13          False  False       False    True          True  "
      ]
     },
     "execution_count": 3,
     "metadata": {},
     "output_type": "execute_result"
    }
   ],
   "source": [
    "coverage_gdf.head(3)"
   ]
  },
  {
   "cell_type": "code",
   "execution_count": 4,
   "id": "47a2498d-97b3-4fed-bc4a-a194a36af252",
   "metadata": {},
   "outputs": [],
   "source": [
    "coverage_gdf.geometry = coverage_gdf.buffer(0).simplify(tolerance=10)"
   ]
  },
  {
   "cell_type": "code",
   "execution_count": 5,
   "id": "f3a6fbec-b7c9-424f-b524-41515af3cbce",
   "metadata": {},
   "outputs": [],
   "source": [
    "def subset_and_dissolve(gdf, metric):\n",
    "    df = ( (gdf.copy() \n",
    "         >> filter(_[metric])\n",
    "         >> select(_.county, _.calitp_itp_id, \n",
    "                   _.static, _.accessible, _.rt,\n",
    "                   _.rt_accessible, _.rt_milestone, \n",
    "                   _.geometry) )\n",
    "        .dissolve(by='calitp_itp_id')\n",
    "        .reset_index()\n",
    "    )\n",
    "    \n",
    "    df['geometry'] = df.geometry.buffer(150).simplify(tolerance=75)\n",
    "    \n",
    "    return df"
   ]
  },
  {
   "cell_type": "code",
   "execution_count": 6,
   "id": "14556cdc-9ca3-4946-b78e-543cb8e4fc44",
   "metadata": {},
   "outputs": [],
   "source": [
    "df_rt_acc = subset_and_dissolve(coverage_gdf, \"rt_accessible\")\n",
    "df_rt = subset_and_dissolve(coverage_gdf, \"rt\")\n",
    "df_rt_milestone = subset_and_dissolve(coverage_gdf, \"rt_milestone\")\n",
    "df_acc = subset_and_dissolve(coverage_gdf, \"accessible\")\n",
    "df_static = subset_and_dissolve(coverage_gdf, \"static\")"
   ]
  },
  {
   "cell_type": "code",
   "execution_count": 7,
   "id": "b69062f4-459b-4c56-bf2d-620ab10dae13",
   "metadata": {},
   "outputs": [
    {
     "data": {
      "text/html": [
       "<div>\n",
       "<style scoped>\n",
       "    .dataframe tbody tr th:only-of-type {\n",
       "        vertical-align: middle;\n",
       "    }\n",
       "\n",
       "    .dataframe tbody tr th {\n",
       "        vertical-align: top;\n",
       "    }\n",
       "\n",
       "    .dataframe thead th {\n",
       "        text-align: right;\n",
       "    }\n",
       "</style>\n",
       "<table border=\"1\" class=\"dataframe\">\n",
       "  <thead>\n",
       "    <tr style=\"text-align: right;\">\n",
       "      <th></th>\n",
       "      <th>calitp_itp_id</th>\n",
       "      <th>geometry</th>\n",
       "      <th>county</th>\n",
       "      <th>static</th>\n",
       "      <th>accessible</th>\n",
       "      <th>rt</th>\n",
       "      <th>rt_accessible</th>\n",
       "      <th>rt_milestone</th>\n",
       "    </tr>\n",
       "  </thead>\n",
       "  <tbody>\n",
       "    <tr>\n",
       "      <th>0</th>\n",
       "      <td>6</td>\n",
       "      <td>MULTIPOLYGON (((159150.448 -441360.404, 158988...</td>\n",
       "      <td>1</td>\n",
       "      <td>True</td>\n",
       "      <td>False</td>\n",
       "      <td>False</td>\n",
       "      <td>False</td>\n",
       "      <td>True</td>\n",
       "    </tr>\n",
       "    <tr>\n",
       "      <th>1</th>\n",
       "      <td>13</td>\n",
       "      <td>MULTIPOLYGON (((503362.363 -572298.673, 503322...</td>\n",
       "      <td>65</td>\n",
       "      <td>True</td>\n",
       "      <td>False</td>\n",
       "      <td>False</td>\n",
       "      <td>False</td>\n",
       "      <td>True</td>\n",
       "    </tr>\n",
       "    <tr>\n",
       "      <th>2</th>\n",
       "      <td>14</td>\n",
       "      <td>MULTIPOLYGON (((197009.198 -460703.159, 197546...</td>\n",
       "      <td>59</td>\n",
       "      <td>True</td>\n",
       "      <td>False</td>\n",
       "      <td>False</td>\n",
       "      <td>False</td>\n",
       "      <td>True</td>\n",
       "    </tr>\n",
       "    <tr>\n",
       "      <th>3</th>\n",
       "      <td>17</td>\n",
       "      <td>POLYGON ((178367.645 -429595.729, 178330.835 -...</td>\n",
       "      <td>37</td>\n",
       "      <td>True</td>\n",
       "      <td>False</td>\n",
       "      <td>False</td>\n",
       "      <td>False</td>\n",
       "      <td>True</td>\n",
       "    </tr>\n",
       "    <tr>\n",
       "      <th>4</th>\n",
       "      <td>33</td>\n",
       "      <td>POLYGON ((-200140.715 -14724.558, -200234.764 ...</td>\n",
       "      <td>1</td>\n",
       "      <td>True</td>\n",
       "      <td>False</td>\n",
       "      <td>False</td>\n",
       "      <td>False</td>\n",
       "      <td>True</td>\n",
       "    </tr>\n",
       "  </tbody>\n",
       "</table>\n",
       "</div>"
      ],
      "text/plain": [
       "   calitp_itp_id                                           geometry  county  \\\n",
       "0              6  MULTIPOLYGON (((159150.448 -441360.404, 158988...       1   \n",
       "1             13  MULTIPOLYGON (((503362.363 -572298.673, 503322...      65   \n",
       "2             14  MULTIPOLYGON (((197009.198 -460703.159, 197546...      59   \n",
       "3             17  POLYGON ((178367.645 -429595.729, 178330.835 -...      37   \n",
       "4             33  POLYGON ((-200140.715 -14724.558, -200234.764 ...       1   \n",
       "\n",
       "   static  accessible     rt  rt_accessible  rt_milestone  \n",
       "0    True       False  False          False          True  \n",
       "1    True       False  False          False          True  \n",
       "2    True       False  False          False          True  \n",
       "3    True       False  False          False          True  \n",
       "4    True       False  False          False          True  "
      ]
     },
     "execution_count": 7,
     "metadata": {},
     "output_type": "execute_result"
    }
   ],
   "source": [
    "df_rt_milestone.head()"
   ]
  },
  {
   "cell_type": "code",
   "execution_count": 8,
   "id": "144bb6ad-8eb0-43a3-ad5a-5179f9455579",
   "metadata": {},
   "outputs": [],
   "source": [
    "popup_dict = {\"calitp_itp_id\": 'ITP ID',\n",
    "            \"rt_accessible\": \"Accessible Trip and Stop, RT Feed Available\",\n",
    "            \"rt\": \"RT Feed Available\",\n",
    "            \"rt_milestone\": \"RT Feed in MSD Milestones\",\n",
    "            \"accessible\": \"Accessible Trip and Stop\",\n",
    "            \"static\": \"GTFS Static Present\",\n",
    "             }"
   ]
  },
  {
   "cell_type": "code",
   "execution_count": 9,
   "id": "abc93040-670d-4841-9b19-e161ca6ad4c1",
   "metadata": {},
   "outputs": [],
   "source": [
    "LAYERS_DICT = {\n",
    "    \"RT Accessible\": {\"df\": df_rt_acc,\n",
    "        \"plot_col\": \"rt_accessible\",\n",
    "        \"popup_dict\": popup_dict, \n",
    "        \"tooltip_dict\": popup_dict,\n",
    "        \"colorscale\": lambda x: cp.CALITP_CATEGORY_BRIGHT_COLORS[:1],\n",
    "    },\n",
    "    \"RT\": {\"df\": df_rt,\n",
    "        \"plot_col\": \"rt\",\n",
    "        \"popup_dict\": popup_dict, \n",
    "        \"tooltip_dict\": popup_dict,\n",
    "        \"colorscale\": lambda x: cp.CALITP_CATEGORY_BRIGHT_COLORS[4:5],\n",
    "    },\n",
    "    \"RT Milestones\": {\"df\": df_rt_milestone,\n",
    "        \"plot_col\": \"rt_milestone\",\n",
    "        \"popup_dict\": popup_dict, \n",
    "        \"tooltip_dict\": popup_dict,\n",
    "        \"colorscale\": lambda x: cp.CALITP_CATEGORY_BRIGHT_COLORS[1:2],\n",
    "    },\n",
    "    \"Accessible\": {\"df\": df_acc,\n",
    "        \"plot_col\": \"accessible\",\n",
    "        \"popup_dict\": popup_dict, \n",
    "        \"tooltip_dict\": popup_dict,\n",
    "        \"colorscale\": lambda x: cp.CALITP_CATEGORY_BRIGHT_COLORS[2:3],\n",
    "    },\n",
    "    \"GTFS Static\": {\"df\": df_static,\n",
    "        \"plot_col\": \"static\",\n",
    "        \"popup_dict\": popup_dict, \n",
    "        \"tooltip_dict\": popup_dict,\n",
    "        \"colorscale\": lambda x: cp.CALITP_CATEGORY_BRIGHT_COLORS[3:4],\n",
    "    }\n",
    "}"
   ]
  },
  {
   "cell_type": "code",
   "execution_count": 10,
   "id": "b7d3e0db-49d6-4734-adcd-38c2eda97fe0",
   "metadata": {},
   "outputs": [],
   "source": [
    "# map_utils.make_folium_multiple_layers_map?"
   ]
  },
  {
   "cell_type": "code",
   "execution_count": 25,
   "id": "7238d57d-eda7-4f52-ab3b-52bd71ba4403",
   "metadata": {},
   "outputs": [
    {
     "name": "stdout",
     "output_type": "stream",
     "text": [
      "RT Accessible      RT       RT Milestone   Accessible      Static\n"
     ]
    },
    {
     "data": {
      "text/html": [
       "<svg height=\"50\" width=\"500\"><line x1=\"0\" y1=\"0\" x2=\"0\" y2=\"20\" style=\"stroke:#2ea8ceff;stroke-width:3;\" /><line x1=\"1\" y1=\"0\" x2=\"1\" y2=\"20\" style=\"stroke:#2ea8ceff;stroke-width:3;\" /><line x1=\"2\" y1=\"0\" x2=\"2\" y2=\"20\" style=\"stroke:#2ea8ceff;stroke-width:3;\" /><line x1=\"3\" y1=\"0\" x2=\"3\" y2=\"20\" style=\"stroke:#2ea8ceff;stroke-width:3;\" /><line x1=\"4\" y1=\"0\" x2=\"4\" y2=\"20\" style=\"stroke:#2ea8ceff;stroke-width:3;\" /><line x1=\"5\" y1=\"0\" x2=\"5\" y2=\"20\" style=\"stroke:#2ea8ceff;stroke-width:3;\" /><line x1=\"6\" y1=\"0\" x2=\"6\" y2=\"20\" style=\"stroke:#2ea8ceff;stroke-width:3;\" /><line x1=\"7\" y1=\"0\" x2=\"7\" y2=\"20\" style=\"stroke:#2ea8ceff;stroke-width:3;\" /><line x1=\"8\" y1=\"0\" x2=\"8\" y2=\"20\" style=\"stroke:#2ea8ceff;stroke-width:3;\" /><line x1=\"9\" y1=\"0\" x2=\"9\" y2=\"20\" style=\"stroke:#2ea8ceff;stroke-width:3;\" /><line x1=\"10\" y1=\"0\" x2=\"10\" y2=\"20\" style=\"stroke:#2ea8ceff;stroke-width:3;\" /><line x1=\"11\" y1=\"0\" x2=\"11\" y2=\"20\" style=\"stroke:#2ea8ceff;stroke-width:3;\" /><line x1=\"12\" y1=\"0\" x2=\"12\" y2=\"20\" style=\"stroke:#2ea8ceff;stroke-width:3;\" /><line x1=\"13\" y1=\"0\" x2=\"13\" y2=\"20\" style=\"stroke:#2ea8ceff;stroke-width:3;\" /><line x1=\"14\" y1=\"0\" x2=\"14\" y2=\"20\" style=\"stroke:#2ea8ceff;stroke-width:3;\" /><line x1=\"15\" y1=\"0\" x2=\"15\" y2=\"20\" style=\"stroke:#2ea8ceff;stroke-width:3;\" /><line x1=\"16\" y1=\"0\" x2=\"16\" y2=\"20\" style=\"stroke:#2ea8ceff;stroke-width:3;\" /><line x1=\"17\" y1=\"0\" x2=\"17\" y2=\"20\" style=\"stroke:#2ea8ceff;stroke-width:3;\" /><line x1=\"18\" y1=\"0\" x2=\"18\" y2=\"20\" style=\"stroke:#2ea8ceff;stroke-width:3;\" /><line x1=\"19\" y1=\"0\" x2=\"19\" y2=\"20\" style=\"stroke:#2ea8ceff;stroke-width:3;\" /><line x1=\"20\" y1=\"0\" x2=\"20\" y2=\"20\" style=\"stroke:#2ea8ceff;stroke-width:3;\" /><line x1=\"21\" y1=\"0\" x2=\"21\" y2=\"20\" style=\"stroke:#2ea8ceff;stroke-width:3;\" /><line x1=\"22\" y1=\"0\" x2=\"22\" y2=\"20\" style=\"stroke:#2ea8ceff;stroke-width:3;\" /><line x1=\"23\" y1=\"0\" x2=\"23\" y2=\"20\" style=\"stroke:#2ea8ceff;stroke-width:3;\" /><line x1=\"24\" y1=\"0\" x2=\"24\" y2=\"20\" style=\"stroke:#2ea8ceff;stroke-width:3;\" /><line x1=\"25\" y1=\"0\" x2=\"25\" y2=\"20\" style=\"stroke:#2ea8ceff;stroke-width:3;\" /><line x1=\"26\" y1=\"0\" x2=\"26\" y2=\"20\" style=\"stroke:#2ea8ceff;stroke-width:3;\" /><line x1=\"27\" y1=\"0\" x2=\"27\" y2=\"20\" style=\"stroke:#2ea8ceff;stroke-width:3;\" /><line x1=\"28\" y1=\"0\" x2=\"28\" y2=\"20\" style=\"stroke:#2ea8ceff;stroke-width:3;\" /><line x1=\"29\" y1=\"0\" x2=\"29\" y2=\"20\" style=\"stroke:#2ea8ceff;stroke-width:3;\" /><line x1=\"30\" y1=\"0\" x2=\"30\" y2=\"20\" style=\"stroke:#2ea8ceff;stroke-width:3;\" /><line x1=\"31\" y1=\"0\" x2=\"31\" y2=\"20\" style=\"stroke:#2ea8ceff;stroke-width:3;\" /><line x1=\"32\" y1=\"0\" x2=\"32\" y2=\"20\" style=\"stroke:#2ea8ceff;stroke-width:3;\" /><line x1=\"33\" y1=\"0\" x2=\"33\" y2=\"20\" style=\"stroke:#2ea8ceff;stroke-width:3;\" /><line x1=\"34\" y1=\"0\" x2=\"34\" y2=\"20\" style=\"stroke:#2ea8ceff;stroke-width:3;\" /><line x1=\"35\" y1=\"0\" x2=\"35\" y2=\"20\" style=\"stroke:#2ea8ceff;stroke-width:3;\" /><line x1=\"36\" y1=\"0\" x2=\"36\" y2=\"20\" style=\"stroke:#2ea8ceff;stroke-width:3;\" /><line x1=\"37\" y1=\"0\" x2=\"37\" y2=\"20\" style=\"stroke:#2ea8ceff;stroke-width:3;\" /><line x1=\"38\" y1=\"0\" x2=\"38\" y2=\"20\" style=\"stroke:#2ea8ceff;stroke-width:3;\" /><line x1=\"39\" y1=\"0\" x2=\"39\" y2=\"20\" style=\"stroke:#2ea8ceff;stroke-width:3;\" /><line x1=\"40\" y1=\"0\" x2=\"40\" y2=\"20\" style=\"stroke:#2ea8ceff;stroke-width:3;\" /><line x1=\"41\" y1=\"0\" x2=\"41\" y2=\"20\" style=\"stroke:#2ea8ceff;stroke-width:3;\" /><line x1=\"42\" y1=\"0\" x2=\"42\" y2=\"20\" style=\"stroke:#2ea8ceff;stroke-width:3;\" /><line x1=\"43\" y1=\"0\" x2=\"43\" y2=\"20\" style=\"stroke:#2ea8ceff;stroke-width:3;\" /><line x1=\"44\" y1=\"0\" x2=\"44\" y2=\"20\" style=\"stroke:#2ea8ceff;stroke-width:3;\" /><line x1=\"45\" y1=\"0\" x2=\"45\" y2=\"20\" style=\"stroke:#2ea8ceff;stroke-width:3;\" /><line x1=\"46\" y1=\"0\" x2=\"46\" y2=\"20\" style=\"stroke:#2ea8ceff;stroke-width:3;\" /><line x1=\"47\" y1=\"0\" x2=\"47\" y2=\"20\" style=\"stroke:#2ea8ceff;stroke-width:3;\" /><line x1=\"48\" y1=\"0\" x2=\"48\" y2=\"20\" style=\"stroke:#2ea8ceff;stroke-width:3;\" /><line x1=\"49\" y1=\"0\" x2=\"49\" y2=\"20\" style=\"stroke:#2ea8ceff;stroke-width:3;\" /><line x1=\"50\" y1=\"0\" x2=\"50\" y2=\"20\" style=\"stroke:#2ea8ceff;stroke-width:3;\" /><line x1=\"51\" y1=\"0\" x2=\"51\" y2=\"20\" style=\"stroke:#2ea8ceff;stroke-width:3;\" /><line x1=\"52\" y1=\"0\" x2=\"52\" y2=\"20\" style=\"stroke:#2ea8ceff;stroke-width:3;\" /><line x1=\"53\" y1=\"0\" x2=\"53\" y2=\"20\" style=\"stroke:#2ea8ceff;stroke-width:3;\" /><line x1=\"54\" y1=\"0\" x2=\"54\" y2=\"20\" style=\"stroke:#2ea8ceff;stroke-width:3;\" /><line x1=\"55\" y1=\"0\" x2=\"55\" y2=\"20\" style=\"stroke:#2ea8ceff;stroke-width:3;\" /><line x1=\"56\" y1=\"0\" x2=\"56\" y2=\"20\" style=\"stroke:#2ea8ceff;stroke-width:3;\" /><line x1=\"57\" y1=\"0\" x2=\"57\" y2=\"20\" style=\"stroke:#2ea8ceff;stroke-width:3;\" /><line x1=\"58\" y1=\"0\" x2=\"58\" y2=\"20\" style=\"stroke:#2ea8ceff;stroke-width:3;\" /><line x1=\"59\" y1=\"0\" x2=\"59\" y2=\"20\" style=\"stroke:#2ea8ceff;stroke-width:3;\" /><line x1=\"60\" y1=\"0\" x2=\"60\" y2=\"20\" style=\"stroke:#2ea8ceff;stroke-width:3;\" /><line x1=\"61\" y1=\"0\" x2=\"61\" y2=\"20\" style=\"stroke:#2ea8ceff;stroke-width:3;\" /><line x1=\"62\" y1=\"0\" x2=\"62\" y2=\"20\" style=\"stroke:#2ea8ceff;stroke-width:3;\" /><line x1=\"63\" y1=\"0\" x2=\"63\" y2=\"20\" style=\"stroke:#2ea8ceff;stroke-width:3;\" /><line x1=\"64\" y1=\"0\" x2=\"64\" y2=\"20\" style=\"stroke:#2ea8ceff;stroke-width:3;\" /><line x1=\"65\" y1=\"0\" x2=\"65\" y2=\"20\" style=\"stroke:#2ea8ceff;stroke-width:3;\" /><line x1=\"66\" y1=\"0\" x2=\"66\" y2=\"20\" style=\"stroke:#2ea8ceff;stroke-width:3;\" /><line x1=\"67\" y1=\"0\" x2=\"67\" y2=\"20\" style=\"stroke:#2ea8ceff;stroke-width:3;\" /><line x1=\"68\" y1=\"0\" x2=\"68\" y2=\"20\" style=\"stroke:#2ea8ceff;stroke-width:3;\" /><line x1=\"69\" y1=\"0\" x2=\"69\" y2=\"20\" style=\"stroke:#2ea8ceff;stroke-width:3;\" /><line x1=\"70\" y1=\"0\" x2=\"70\" y2=\"20\" style=\"stroke:#2ea8ceff;stroke-width:3;\" /><line x1=\"71\" y1=\"0\" x2=\"71\" y2=\"20\" style=\"stroke:#2ea8ceff;stroke-width:3;\" /><line x1=\"72\" y1=\"0\" x2=\"72\" y2=\"20\" style=\"stroke:#2ea8ceff;stroke-width:3;\" /><line x1=\"73\" y1=\"0\" x2=\"73\" y2=\"20\" style=\"stroke:#2ea8ceff;stroke-width:3;\" /><line x1=\"74\" y1=\"0\" x2=\"74\" y2=\"20\" style=\"stroke:#2ea8ceff;stroke-width:3;\" /><line x1=\"75\" y1=\"0\" x2=\"75\" y2=\"20\" style=\"stroke:#2ea8ceff;stroke-width:3;\" /><line x1=\"76\" y1=\"0\" x2=\"76\" y2=\"20\" style=\"stroke:#2ea8ceff;stroke-width:3;\" /><line x1=\"77\" y1=\"0\" x2=\"77\" y2=\"20\" style=\"stroke:#2ea8ceff;stroke-width:3;\" /><line x1=\"78\" y1=\"0\" x2=\"78\" y2=\"20\" style=\"stroke:#2ea8ceff;stroke-width:3;\" /><line x1=\"79\" y1=\"0\" x2=\"79\" y2=\"20\" style=\"stroke:#2ea8ceff;stroke-width:3;\" /><line x1=\"80\" y1=\"0\" x2=\"80\" y2=\"20\" style=\"stroke:#2ea8ceff;stroke-width:3;\" /><line x1=\"81\" y1=\"0\" x2=\"81\" y2=\"20\" style=\"stroke:#2ea8ceff;stroke-width:3;\" /><line x1=\"82\" y1=\"0\" x2=\"82\" y2=\"20\" style=\"stroke:#2ea8ceff;stroke-width:3;\" /><line x1=\"83\" y1=\"0\" x2=\"83\" y2=\"20\" style=\"stroke:#2ea8ceff;stroke-width:3;\" /><line x1=\"84\" y1=\"0\" x2=\"84\" y2=\"20\" style=\"stroke:#2ea8ceff;stroke-width:3;\" /><line x1=\"85\" y1=\"0\" x2=\"85\" y2=\"20\" style=\"stroke:#2ea8ceff;stroke-width:3;\" /><line x1=\"86\" y1=\"0\" x2=\"86\" y2=\"20\" style=\"stroke:#2ea8ceff;stroke-width:3;\" /><line x1=\"87\" y1=\"0\" x2=\"87\" y2=\"20\" style=\"stroke:#2ea8ceff;stroke-width:3;\" /><line x1=\"88\" y1=\"0\" x2=\"88\" y2=\"20\" style=\"stroke:#2ea8ceff;stroke-width:3;\" /><line x1=\"89\" y1=\"0\" x2=\"89\" y2=\"20\" style=\"stroke:#2ea8ceff;stroke-width:3;\" /><line x1=\"90\" y1=\"0\" x2=\"90\" y2=\"20\" style=\"stroke:#2ea8ceff;stroke-width:3;\" /><line x1=\"91\" y1=\"0\" x2=\"91\" y2=\"20\" style=\"stroke:#2ea8ceff;stroke-width:3;\" /><line x1=\"92\" y1=\"0\" x2=\"92\" y2=\"20\" style=\"stroke:#2ea8ceff;stroke-width:3;\" /><line x1=\"93\" y1=\"0\" x2=\"93\" y2=\"20\" style=\"stroke:#2ea8ceff;stroke-width:3;\" /><line x1=\"94\" y1=\"0\" x2=\"94\" y2=\"20\" style=\"stroke:#2ea8ceff;stroke-width:3;\" /><line x1=\"95\" y1=\"0\" x2=\"95\" y2=\"20\" style=\"stroke:#2ea8ceff;stroke-width:3;\" /><line x1=\"96\" y1=\"0\" x2=\"96\" y2=\"20\" style=\"stroke:#2ea8ceff;stroke-width:3;\" /><line x1=\"97\" y1=\"0\" x2=\"97\" y2=\"20\" style=\"stroke:#2ea8ceff;stroke-width:3;\" /><line x1=\"98\" y1=\"0\" x2=\"98\" y2=\"20\" style=\"stroke:#2ea8ceff;stroke-width:3;\" /><line x1=\"99\" y1=\"0\" x2=\"99\" y2=\"20\" style=\"stroke:#2ea8ceff;stroke-width:3;\" /><line x1=\"100\" y1=\"0\" x2=\"100\" y2=\"20\" style=\"stroke:#8cbccbff;stroke-width:3;\" /><line x1=\"101\" y1=\"0\" x2=\"101\" y2=\"20\" style=\"stroke:#8cbccbff;stroke-width:3;\" /><line x1=\"102\" y1=\"0\" x2=\"102\" y2=\"20\" style=\"stroke:#8cbccbff;stroke-width:3;\" /><line x1=\"103\" y1=\"0\" x2=\"103\" y2=\"20\" style=\"stroke:#8cbccbff;stroke-width:3;\" /><line x1=\"104\" y1=\"0\" x2=\"104\" y2=\"20\" style=\"stroke:#8cbccbff;stroke-width:3;\" /><line x1=\"105\" y1=\"0\" x2=\"105\" y2=\"20\" style=\"stroke:#8cbccbff;stroke-width:3;\" /><line x1=\"106\" y1=\"0\" x2=\"106\" y2=\"20\" style=\"stroke:#8cbccbff;stroke-width:3;\" /><line x1=\"107\" y1=\"0\" x2=\"107\" y2=\"20\" style=\"stroke:#8cbccbff;stroke-width:3;\" /><line x1=\"108\" y1=\"0\" x2=\"108\" y2=\"20\" style=\"stroke:#8cbccbff;stroke-width:3;\" /><line x1=\"109\" y1=\"0\" x2=\"109\" y2=\"20\" style=\"stroke:#8cbccbff;stroke-width:3;\" /><line x1=\"110\" y1=\"0\" x2=\"110\" y2=\"20\" style=\"stroke:#8cbccbff;stroke-width:3;\" /><line x1=\"111\" y1=\"0\" x2=\"111\" y2=\"20\" style=\"stroke:#8cbccbff;stroke-width:3;\" /><line x1=\"112\" y1=\"0\" x2=\"112\" y2=\"20\" style=\"stroke:#8cbccbff;stroke-width:3;\" /><line x1=\"113\" y1=\"0\" x2=\"113\" y2=\"20\" style=\"stroke:#8cbccbff;stroke-width:3;\" /><line x1=\"114\" y1=\"0\" x2=\"114\" y2=\"20\" style=\"stroke:#8cbccbff;stroke-width:3;\" /><line x1=\"115\" y1=\"0\" x2=\"115\" y2=\"20\" style=\"stroke:#8cbccbff;stroke-width:3;\" /><line x1=\"116\" y1=\"0\" x2=\"116\" y2=\"20\" style=\"stroke:#8cbccbff;stroke-width:3;\" /><line x1=\"117\" y1=\"0\" x2=\"117\" y2=\"20\" style=\"stroke:#8cbccbff;stroke-width:3;\" /><line x1=\"118\" y1=\"0\" x2=\"118\" y2=\"20\" style=\"stroke:#8cbccbff;stroke-width:3;\" /><line x1=\"119\" y1=\"0\" x2=\"119\" y2=\"20\" style=\"stroke:#8cbccbff;stroke-width:3;\" /><line x1=\"120\" y1=\"0\" x2=\"120\" y2=\"20\" style=\"stroke:#8cbccbff;stroke-width:3;\" /><line x1=\"121\" y1=\"0\" x2=\"121\" y2=\"20\" style=\"stroke:#8cbccbff;stroke-width:3;\" /><line x1=\"122\" y1=\"0\" x2=\"122\" y2=\"20\" style=\"stroke:#8cbccbff;stroke-width:3;\" /><line x1=\"123\" y1=\"0\" x2=\"123\" y2=\"20\" style=\"stroke:#8cbccbff;stroke-width:3;\" /><line x1=\"124\" y1=\"0\" x2=\"124\" y2=\"20\" style=\"stroke:#8cbccbff;stroke-width:3;\" /><line x1=\"125\" y1=\"0\" x2=\"125\" y2=\"20\" style=\"stroke:#8cbccbff;stroke-width:3;\" /><line x1=\"126\" y1=\"0\" x2=\"126\" y2=\"20\" style=\"stroke:#8cbccbff;stroke-width:3;\" /><line x1=\"127\" y1=\"0\" x2=\"127\" y2=\"20\" style=\"stroke:#8cbccbff;stroke-width:3;\" /><line x1=\"128\" y1=\"0\" x2=\"128\" y2=\"20\" style=\"stroke:#8cbccbff;stroke-width:3;\" /><line x1=\"129\" y1=\"0\" x2=\"129\" y2=\"20\" style=\"stroke:#8cbccbff;stroke-width:3;\" /><line x1=\"130\" y1=\"0\" x2=\"130\" y2=\"20\" style=\"stroke:#8cbccbff;stroke-width:3;\" /><line x1=\"131\" y1=\"0\" x2=\"131\" y2=\"20\" style=\"stroke:#8cbccbff;stroke-width:3;\" /><line x1=\"132\" y1=\"0\" x2=\"132\" y2=\"20\" style=\"stroke:#8cbccbff;stroke-width:3;\" /><line x1=\"133\" y1=\"0\" x2=\"133\" y2=\"20\" style=\"stroke:#8cbccbff;stroke-width:3;\" /><line x1=\"134\" y1=\"0\" x2=\"134\" y2=\"20\" style=\"stroke:#8cbccbff;stroke-width:3;\" /><line x1=\"135\" y1=\"0\" x2=\"135\" y2=\"20\" style=\"stroke:#8cbccbff;stroke-width:3;\" /><line x1=\"136\" y1=\"0\" x2=\"136\" y2=\"20\" style=\"stroke:#8cbccbff;stroke-width:3;\" /><line x1=\"137\" y1=\"0\" x2=\"137\" y2=\"20\" style=\"stroke:#8cbccbff;stroke-width:3;\" /><line x1=\"138\" y1=\"0\" x2=\"138\" y2=\"20\" style=\"stroke:#8cbccbff;stroke-width:3;\" /><line x1=\"139\" y1=\"0\" x2=\"139\" y2=\"20\" style=\"stroke:#8cbccbff;stroke-width:3;\" /><line x1=\"140\" y1=\"0\" x2=\"140\" y2=\"20\" style=\"stroke:#8cbccbff;stroke-width:3;\" /><line x1=\"141\" y1=\"0\" x2=\"141\" y2=\"20\" style=\"stroke:#8cbccbff;stroke-width:3;\" /><line x1=\"142\" y1=\"0\" x2=\"142\" y2=\"20\" style=\"stroke:#8cbccbff;stroke-width:3;\" /><line x1=\"143\" y1=\"0\" x2=\"143\" y2=\"20\" style=\"stroke:#8cbccbff;stroke-width:3;\" /><line x1=\"144\" y1=\"0\" x2=\"144\" y2=\"20\" style=\"stroke:#8cbccbff;stroke-width:3;\" /><line x1=\"145\" y1=\"0\" x2=\"145\" y2=\"20\" style=\"stroke:#8cbccbff;stroke-width:3;\" /><line x1=\"146\" y1=\"0\" x2=\"146\" y2=\"20\" style=\"stroke:#8cbccbff;stroke-width:3;\" /><line x1=\"147\" y1=\"0\" x2=\"147\" y2=\"20\" style=\"stroke:#8cbccbff;stroke-width:3;\" /><line x1=\"148\" y1=\"0\" x2=\"148\" y2=\"20\" style=\"stroke:#8cbccbff;stroke-width:3;\" /><line x1=\"149\" y1=\"0\" x2=\"149\" y2=\"20\" style=\"stroke:#8cbccbff;stroke-width:3;\" /><line x1=\"150\" y1=\"0\" x2=\"150\" y2=\"20\" style=\"stroke:#8cbccbff;stroke-width:3;\" /><line x1=\"151\" y1=\"0\" x2=\"151\" y2=\"20\" style=\"stroke:#8cbccbff;stroke-width:3;\" /><line x1=\"152\" y1=\"0\" x2=\"152\" y2=\"20\" style=\"stroke:#8cbccbff;stroke-width:3;\" /><line x1=\"153\" y1=\"0\" x2=\"153\" y2=\"20\" style=\"stroke:#8cbccbff;stroke-width:3;\" /><line x1=\"154\" y1=\"0\" x2=\"154\" y2=\"20\" style=\"stroke:#8cbccbff;stroke-width:3;\" /><line x1=\"155\" y1=\"0\" x2=\"155\" y2=\"20\" style=\"stroke:#8cbccbff;stroke-width:3;\" /><line x1=\"156\" y1=\"0\" x2=\"156\" y2=\"20\" style=\"stroke:#8cbccbff;stroke-width:3;\" /><line x1=\"157\" y1=\"0\" x2=\"157\" y2=\"20\" style=\"stroke:#8cbccbff;stroke-width:3;\" /><line x1=\"158\" y1=\"0\" x2=\"158\" y2=\"20\" style=\"stroke:#8cbccbff;stroke-width:3;\" /><line x1=\"159\" y1=\"0\" x2=\"159\" y2=\"20\" style=\"stroke:#8cbccbff;stroke-width:3;\" /><line x1=\"160\" y1=\"0\" x2=\"160\" y2=\"20\" style=\"stroke:#8cbccbff;stroke-width:3;\" /><line x1=\"161\" y1=\"0\" x2=\"161\" y2=\"20\" style=\"stroke:#8cbccbff;stroke-width:3;\" /><line x1=\"162\" y1=\"0\" x2=\"162\" y2=\"20\" style=\"stroke:#8cbccbff;stroke-width:3;\" /><line x1=\"163\" y1=\"0\" x2=\"163\" y2=\"20\" style=\"stroke:#8cbccbff;stroke-width:3;\" /><line x1=\"164\" y1=\"0\" x2=\"164\" y2=\"20\" style=\"stroke:#8cbccbff;stroke-width:3;\" /><line x1=\"165\" y1=\"0\" x2=\"165\" y2=\"20\" style=\"stroke:#8cbccbff;stroke-width:3;\" /><line x1=\"166\" y1=\"0\" x2=\"166\" y2=\"20\" style=\"stroke:#8cbccbff;stroke-width:3;\" /><line x1=\"167\" y1=\"0\" x2=\"167\" y2=\"20\" style=\"stroke:#8cbccbff;stroke-width:3;\" /><line x1=\"168\" y1=\"0\" x2=\"168\" y2=\"20\" style=\"stroke:#8cbccbff;stroke-width:3;\" /><line x1=\"169\" y1=\"0\" x2=\"169\" y2=\"20\" style=\"stroke:#8cbccbff;stroke-width:3;\" /><line x1=\"170\" y1=\"0\" x2=\"170\" y2=\"20\" style=\"stroke:#8cbccbff;stroke-width:3;\" /><line x1=\"171\" y1=\"0\" x2=\"171\" y2=\"20\" style=\"stroke:#8cbccbff;stroke-width:3;\" /><line x1=\"172\" y1=\"0\" x2=\"172\" y2=\"20\" style=\"stroke:#8cbccbff;stroke-width:3;\" /><line x1=\"173\" y1=\"0\" x2=\"173\" y2=\"20\" style=\"stroke:#8cbccbff;stroke-width:3;\" /><line x1=\"174\" y1=\"0\" x2=\"174\" y2=\"20\" style=\"stroke:#8cbccbff;stroke-width:3;\" /><line x1=\"175\" y1=\"0\" x2=\"175\" y2=\"20\" style=\"stroke:#8cbccbff;stroke-width:3;\" /><line x1=\"176\" y1=\"0\" x2=\"176\" y2=\"20\" style=\"stroke:#8cbccbff;stroke-width:3;\" /><line x1=\"177\" y1=\"0\" x2=\"177\" y2=\"20\" style=\"stroke:#8cbccbff;stroke-width:3;\" /><line x1=\"178\" y1=\"0\" x2=\"178\" y2=\"20\" style=\"stroke:#8cbccbff;stroke-width:3;\" /><line x1=\"179\" y1=\"0\" x2=\"179\" y2=\"20\" style=\"stroke:#8cbccbff;stroke-width:3;\" /><line x1=\"180\" y1=\"0\" x2=\"180\" y2=\"20\" style=\"stroke:#8cbccbff;stroke-width:3;\" /><line x1=\"181\" y1=\"0\" x2=\"181\" y2=\"20\" style=\"stroke:#8cbccbff;stroke-width:3;\" /><line x1=\"182\" y1=\"0\" x2=\"182\" y2=\"20\" style=\"stroke:#8cbccbff;stroke-width:3;\" /><line x1=\"183\" y1=\"0\" x2=\"183\" y2=\"20\" style=\"stroke:#8cbccbff;stroke-width:3;\" /><line x1=\"184\" y1=\"0\" x2=\"184\" y2=\"20\" style=\"stroke:#8cbccbff;stroke-width:3;\" /><line x1=\"185\" y1=\"0\" x2=\"185\" y2=\"20\" style=\"stroke:#8cbccbff;stroke-width:3;\" /><line x1=\"186\" y1=\"0\" x2=\"186\" y2=\"20\" style=\"stroke:#8cbccbff;stroke-width:3;\" /><line x1=\"187\" y1=\"0\" x2=\"187\" y2=\"20\" style=\"stroke:#8cbccbff;stroke-width:3;\" /><line x1=\"188\" y1=\"0\" x2=\"188\" y2=\"20\" style=\"stroke:#8cbccbff;stroke-width:3;\" /><line x1=\"189\" y1=\"0\" x2=\"189\" y2=\"20\" style=\"stroke:#8cbccbff;stroke-width:3;\" /><line x1=\"190\" y1=\"0\" x2=\"190\" y2=\"20\" style=\"stroke:#8cbccbff;stroke-width:3;\" /><line x1=\"191\" y1=\"0\" x2=\"191\" y2=\"20\" style=\"stroke:#8cbccbff;stroke-width:3;\" /><line x1=\"192\" y1=\"0\" x2=\"192\" y2=\"20\" style=\"stroke:#8cbccbff;stroke-width:3;\" /><line x1=\"193\" y1=\"0\" x2=\"193\" y2=\"20\" style=\"stroke:#8cbccbff;stroke-width:3;\" /><line x1=\"194\" y1=\"0\" x2=\"194\" y2=\"20\" style=\"stroke:#8cbccbff;stroke-width:3;\" /><line x1=\"195\" y1=\"0\" x2=\"195\" y2=\"20\" style=\"stroke:#8cbccbff;stroke-width:3;\" /><line x1=\"196\" y1=\"0\" x2=\"196\" y2=\"20\" style=\"stroke:#8cbccbff;stroke-width:3;\" /><line x1=\"197\" y1=\"0\" x2=\"197\" y2=\"20\" style=\"stroke:#8cbccbff;stroke-width:3;\" /><line x1=\"198\" y1=\"0\" x2=\"198\" y2=\"20\" style=\"stroke:#8cbccbff;stroke-width:3;\" /><line x1=\"199\" y1=\"0\" x2=\"199\" y2=\"20\" style=\"stroke:#8cbccbff;stroke-width:3;\" /><line x1=\"200\" y1=\"0\" x2=\"200\" y2=\"20\" style=\"stroke:#eb9f3cff;stroke-width:3;\" /><line x1=\"201\" y1=\"0\" x2=\"201\" y2=\"20\" style=\"stroke:#eb9f3cff;stroke-width:3;\" /><line x1=\"202\" y1=\"0\" x2=\"202\" y2=\"20\" style=\"stroke:#eb9f3cff;stroke-width:3;\" /><line x1=\"203\" y1=\"0\" x2=\"203\" y2=\"20\" style=\"stroke:#eb9f3cff;stroke-width:3;\" /><line x1=\"204\" y1=\"0\" x2=\"204\" y2=\"20\" style=\"stroke:#eb9f3cff;stroke-width:3;\" /><line x1=\"205\" y1=\"0\" x2=\"205\" y2=\"20\" style=\"stroke:#eb9f3cff;stroke-width:3;\" /><line x1=\"206\" y1=\"0\" x2=\"206\" y2=\"20\" style=\"stroke:#eb9f3cff;stroke-width:3;\" /><line x1=\"207\" y1=\"0\" x2=\"207\" y2=\"20\" style=\"stroke:#eb9f3cff;stroke-width:3;\" /><line x1=\"208\" y1=\"0\" x2=\"208\" y2=\"20\" style=\"stroke:#eb9f3cff;stroke-width:3;\" /><line x1=\"209\" y1=\"0\" x2=\"209\" y2=\"20\" style=\"stroke:#eb9f3cff;stroke-width:3;\" /><line x1=\"210\" y1=\"0\" x2=\"210\" y2=\"20\" style=\"stroke:#eb9f3cff;stroke-width:3;\" /><line x1=\"211\" y1=\"0\" x2=\"211\" y2=\"20\" style=\"stroke:#eb9f3cff;stroke-width:3;\" /><line x1=\"212\" y1=\"0\" x2=\"212\" y2=\"20\" style=\"stroke:#eb9f3cff;stroke-width:3;\" /><line x1=\"213\" y1=\"0\" x2=\"213\" y2=\"20\" style=\"stroke:#eb9f3cff;stroke-width:3;\" /><line x1=\"214\" y1=\"0\" x2=\"214\" y2=\"20\" style=\"stroke:#eb9f3cff;stroke-width:3;\" /><line x1=\"215\" y1=\"0\" x2=\"215\" y2=\"20\" style=\"stroke:#eb9f3cff;stroke-width:3;\" /><line x1=\"216\" y1=\"0\" x2=\"216\" y2=\"20\" style=\"stroke:#eb9f3cff;stroke-width:3;\" /><line x1=\"217\" y1=\"0\" x2=\"217\" y2=\"20\" style=\"stroke:#eb9f3cff;stroke-width:3;\" /><line x1=\"218\" y1=\"0\" x2=\"218\" y2=\"20\" style=\"stroke:#eb9f3cff;stroke-width:3;\" /><line x1=\"219\" y1=\"0\" x2=\"219\" y2=\"20\" style=\"stroke:#eb9f3cff;stroke-width:3;\" /><line x1=\"220\" y1=\"0\" x2=\"220\" y2=\"20\" style=\"stroke:#eb9f3cff;stroke-width:3;\" /><line x1=\"221\" y1=\"0\" x2=\"221\" y2=\"20\" style=\"stroke:#eb9f3cff;stroke-width:3;\" /><line x1=\"222\" y1=\"0\" x2=\"222\" y2=\"20\" style=\"stroke:#eb9f3cff;stroke-width:3;\" /><line x1=\"223\" y1=\"0\" x2=\"223\" y2=\"20\" style=\"stroke:#eb9f3cff;stroke-width:3;\" /><line x1=\"224\" y1=\"0\" x2=\"224\" y2=\"20\" style=\"stroke:#eb9f3cff;stroke-width:3;\" /><line x1=\"225\" y1=\"0\" x2=\"225\" y2=\"20\" style=\"stroke:#eb9f3cff;stroke-width:3;\" /><line x1=\"226\" y1=\"0\" x2=\"226\" y2=\"20\" style=\"stroke:#eb9f3cff;stroke-width:3;\" /><line x1=\"227\" y1=\"0\" x2=\"227\" y2=\"20\" style=\"stroke:#eb9f3cff;stroke-width:3;\" /><line x1=\"228\" y1=\"0\" x2=\"228\" y2=\"20\" style=\"stroke:#eb9f3cff;stroke-width:3;\" /><line x1=\"229\" y1=\"0\" x2=\"229\" y2=\"20\" style=\"stroke:#eb9f3cff;stroke-width:3;\" /><line x1=\"230\" y1=\"0\" x2=\"230\" y2=\"20\" style=\"stroke:#eb9f3cff;stroke-width:3;\" /><line x1=\"231\" y1=\"0\" x2=\"231\" y2=\"20\" style=\"stroke:#eb9f3cff;stroke-width:3;\" /><line x1=\"232\" y1=\"0\" x2=\"232\" y2=\"20\" style=\"stroke:#eb9f3cff;stroke-width:3;\" /><line x1=\"233\" y1=\"0\" x2=\"233\" y2=\"20\" style=\"stroke:#eb9f3cff;stroke-width:3;\" /><line x1=\"234\" y1=\"0\" x2=\"234\" y2=\"20\" style=\"stroke:#eb9f3cff;stroke-width:3;\" /><line x1=\"235\" y1=\"0\" x2=\"235\" y2=\"20\" style=\"stroke:#eb9f3cff;stroke-width:3;\" /><line x1=\"236\" y1=\"0\" x2=\"236\" y2=\"20\" style=\"stroke:#eb9f3cff;stroke-width:3;\" /><line x1=\"237\" y1=\"0\" x2=\"237\" y2=\"20\" style=\"stroke:#eb9f3cff;stroke-width:3;\" /><line x1=\"238\" y1=\"0\" x2=\"238\" y2=\"20\" style=\"stroke:#eb9f3cff;stroke-width:3;\" /><line x1=\"239\" y1=\"0\" x2=\"239\" y2=\"20\" style=\"stroke:#eb9f3cff;stroke-width:3;\" /><line x1=\"240\" y1=\"0\" x2=\"240\" y2=\"20\" style=\"stroke:#eb9f3cff;stroke-width:3;\" /><line x1=\"241\" y1=\"0\" x2=\"241\" y2=\"20\" style=\"stroke:#eb9f3cff;stroke-width:3;\" /><line x1=\"242\" y1=\"0\" x2=\"242\" y2=\"20\" style=\"stroke:#eb9f3cff;stroke-width:3;\" /><line x1=\"243\" y1=\"0\" x2=\"243\" y2=\"20\" style=\"stroke:#eb9f3cff;stroke-width:3;\" /><line x1=\"244\" y1=\"0\" x2=\"244\" y2=\"20\" style=\"stroke:#eb9f3cff;stroke-width:3;\" /><line x1=\"245\" y1=\"0\" x2=\"245\" y2=\"20\" style=\"stroke:#eb9f3cff;stroke-width:3;\" /><line x1=\"246\" y1=\"0\" x2=\"246\" y2=\"20\" style=\"stroke:#eb9f3cff;stroke-width:3;\" /><line x1=\"247\" y1=\"0\" x2=\"247\" y2=\"20\" style=\"stroke:#eb9f3cff;stroke-width:3;\" /><line x1=\"248\" y1=\"0\" x2=\"248\" y2=\"20\" style=\"stroke:#eb9f3cff;stroke-width:3;\" /><line x1=\"249\" y1=\"0\" x2=\"249\" y2=\"20\" style=\"stroke:#eb9f3cff;stroke-width:3;\" /><line x1=\"250\" y1=\"0\" x2=\"250\" y2=\"20\" style=\"stroke:#eb9f3cff;stroke-width:3;\" /><line x1=\"251\" y1=\"0\" x2=\"251\" y2=\"20\" style=\"stroke:#eb9f3cff;stroke-width:3;\" /><line x1=\"252\" y1=\"0\" x2=\"252\" y2=\"20\" style=\"stroke:#eb9f3cff;stroke-width:3;\" /><line x1=\"253\" y1=\"0\" x2=\"253\" y2=\"20\" style=\"stroke:#eb9f3cff;stroke-width:3;\" /><line x1=\"254\" y1=\"0\" x2=\"254\" y2=\"20\" style=\"stroke:#eb9f3cff;stroke-width:3;\" /><line x1=\"255\" y1=\"0\" x2=\"255\" y2=\"20\" style=\"stroke:#eb9f3cff;stroke-width:3;\" /><line x1=\"256\" y1=\"0\" x2=\"256\" y2=\"20\" style=\"stroke:#eb9f3cff;stroke-width:3;\" /><line x1=\"257\" y1=\"0\" x2=\"257\" y2=\"20\" style=\"stroke:#eb9f3cff;stroke-width:3;\" /><line x1=\"258\" y1=\"0\" x2=\"258\" y2=\"20\" style=\"stroke:#eb9f3cff;stroke-width:3;\" /><line x1=\"259\" y1=\"0\" x2=\"259\" y2=\"20\" style=\"stroke:#eb9f3cff;stroke-width:3;\" /><line x1=\"260\" y1=\"0\" x2=\"260\" y2=\"20\" style=\"stroke:#eb9f3cff;stroke-width:3;\" /><line x1=\"261\" y1=\"0\" x2=\"261\" y2=\"20\" style=\"stroke:#eb9f3cff;stroke-width:3;\" /><line x1=\"262\" y1=\"0\" x2=\"262\" y2=\"20\" style=\"stroke:#eb9f3cff;stroke-width:3;\" /><line x1=\"263\" y1=\"0\" x2=\"263\" y2=\"20\" style=\"stroke:#eb9f3cff;stroke-width:3;\" /><line x1=\"264\" y1=\"0\" x2=\"264\" y2=\"20\" style=\"stroke:#eb9f3cff;stroke-width:3;\" /><line x1=\"265\" y1=\"0\" x2=\"265\" y2=\"20\" style=\"stroke:#eb9f3cff;stroke-width:3;\" /><line x1=\"266\" y1=\"0\" x2=\"266\" y2=\"20\" style=\"stroke:#eb9f3cff;stroke-width:3;\" /><line x1=\"267\" y1=\"0\" x2=\"267\" y2=\"20\" style=\"stroke:#eb9f3cff;stroke-width:3;\" /><line x1=\"268\" y1=\"0\" x2=\"268\" y2=\"20\" style=\"stroke:#eb9f3cff;stroke-width:3;\" /><line x1=\"269\" y1=\"0\" x2=\"269\" y2=\"20\" style=\"stroke:#eb9f3cff;stroke-width:3;\" /><line x1=\"270\" y1=\"0\" x2=\"270\" y2=\"20\" style=\"stroke:#eb9f3cff;stroke-width:3;\" /><line x1=\"271\" y1=\"0\" x2=\"271\" y2=\"20\" style=\"stroke:#eb9f3cff;stroke-width:3;\" /><line x1=\"272\" y1=\"0\" x2=\"272\" y2=\"20\" style=\"stroke:#eb9f3cff;stroke-width:3;\" /><line x1=\"273\" y1=\"0\" x2=\"273\" y2=\"20\" style=\"stroke:#eb9f3cff;stroke-width:3;\" /><line x1=\"274\" y1=\"0\" x2=\"274\" y2=\"20\" style=\"stroke:#eb9f3cff;stroke-width:3;\" /><line x1=\"275\" y1=\"0\" x2=\"275\" y2=\"20\" style=\"stroke:#eb9f3cff;stroke-width:3;\" /><line x1=\"276\" y1=\"0\" x2=\"276\" y2=\"20\" style=\"stroke:#eb9f3cff;stroke-width:3;\" /><line x1=\"277\" y1=\"0\" x2=\"277\" y2=\"20\" style=\"stroke:#eb9f3cff;stroke-width:3;\" /><line x1=\"278\" y1=\"0\" x2=\"278\" y2=\"20\" style=\"stroke:#eb9f3cff;stroke-width:3;\" /><line x1=\"279\" y1=\"0\" x2=\"279\" y2=\"20\" style=\"stroke:#eb9f3cff;stroke-width:3;\" /><line x1=\"280\" y1=\"0\" x2=\"280\" y2=\"20\" style=\"stroke:#eb9f3cff;stroke-width:3;\" /><line x1=\"281\" y1=\"0\" x2=\"281\" y2=\"20\" style=\"stroke:#eb9f3cff;stroke-width:3;\" /><line x1=\"282\" y1=\"0\" x2=\"282\" y2=\"20\" style=\"stroke:#eb9f3cff;stroke-width:3;\" /><line x1=\"283\" y1=\"0\" x2=\"283\" y2=\"20\" style=\"stroke:#eb9f3cff;stroke-width:3;\" /><line x1=\"284\" y1=\"0\" x2=\"284\" y2=\"20\" style=\"stroke:#eb9f3cff;stroke-width:3;\" /><line x1=\"285\" y1=\"0\" x2=\"285\" y2=\"20\" style=\"stroke:#eb9f3cff;stroke-width:3;\" /><line x1=\"286\" y1=\"0\" x2=\"286\" y2=\"20\" style=\"stroke:#eb9f3cff;stroke-width:3;\" /><line x1=\"287\" y1=\"0\" x2=\"287\" y2=\"20\" style=\"stroke:#eb9f3cff;stroke-width:3;\" /><line x1=\"288\" y1=\"0\" x2=\"288\" y2=\"20\" style=\"stroke:#eb9f3cff;stroke-width:3;\" /><line x1=\"289\" y1=\"0\" x2=\"289\" y2=\"20\" style=\"stroke:#eb9f3cff;stroke-width:3;\" /><line x1=\"290\" y1=\"0\" x2=\"290\" y2=\"20\" style=\"stroke:#eb9f3cff;stroke-width:3;\" /><line x1=\"291\" y1=\"0\" x2=\"291\" y2=\"20\" style=\"stroke:#eb9f3cff;stroke-width:3;\" /><line x1=\"292\" y1=\"0\" x2=\"292\" y2=\"20\" style=\"stroke:#eb9f3cff;stroke-width:3;\" /><line x1=\"293\" y1=\"0\" x2=\"293\" y2=\"20\" style=\"stroke:#eb9f3cff;stroke-width:3;\" /><line x1=\"294\" y1=\"0\" x2=\"294\" y2=\"20\" style=\"stroke:#eb9f3cff;stroke-width:3;\" /><line x1=\"295\" y1=\"0\" x2=\"295\" y2=\"20\" style=\"stroke:#eb9f3cff;stroke-width:3;\" /><line x1=\"296\" y1=\"0\" x2=\"296\" y2=\"20\" style=\"stroke:#eb9f3cff;stroke-width:3;\" /><line x1=\"297\" y1=\"0\" x2=\"297\" y2=\"20\" style=\"stroke:#eb9f3cff;stroke-width:3;\" /><line x1=\"298\" y1=\"0\" x2=\"298\" y2=\"20\" style=\"stroke:#eb9f3cff;stroke-width:3;\" /><line x1=\"299\" y1=\"0\" x2=\"299\" y2=\"20\" style=\"stroke:#eb9f3cff;stroke-width:3;\" /><line x1=\"300\" y1=\"0\" x2=\"300\" y2=\"20\" style=\"stroke:#f4d837ff;stroke-width:3;\" /><line x1=\"301\" y1=\"0\" x2=\"301\" y2=\"20\" style=\"stroke:#f4d837ff;stroke-width:3;\" /><line x1=\"302\" y1=\"0\" x2=\"302\" y2=\"20\" style=\"stroke:#f4d837ff;stroke-width:3;\" /><line x1=\"303\" y1=\"0\" x2=\"303\" y2=\"20\" style=\"stroke:#f4d837ff;stroke-width:3;\" /><line x1=\"304\" y1=\"0\" x2=\"304\" y2=\"20\" style=\"stroke:#f4d837ff;stroke-width:3;\" /><line x1=\"305\" y1=\"0\" x2=\"305\" y2=\"20\" style=\"stroke:#f4d837ff;stroke-width:3;\" /><line x1=\"306\" y1=\"0\" x2=\"306\" y2=\"20\" style=\"stroke:#f4d837ff;stroke-width:3;\" /><line x1=\"307\" y1=\"0\" x2=\"307\" y2=\"20\" style=\"stroke:#f4d837ff;stroke-width:3;\" /><line x1=\"308\" y1=\"0\" x2=\"308\" y2=\"20\" style=\"stroke:#f4d837ff;stroke-width:3;\" /><line x1=\"309\" y1=\"0\" x2=\"309\" y2=\"20\" style=\"stroke:#f4d837ff;stroke-width:3;\" /><line x1=\"310\" y1=\"0\" x2=\"310\" y2=\"20\" style=\"stroke:#f4d837ff;stroke-width:3;\" /><line x1=\"311\" y1=\"0\" x2=\"311\" y2=\"20\" style=\"stroke:#f4d837ff;stroke-width:3;\" /><line x1=\"312\" y1=\"0\" x2=\"312\" y2=\"20\" style=\"stroke:#f4d837ff;stroke-width:3;\" /><line x1=\"313\" y1=\"0\" x2=\"313\" y2=\"20\" style=\"stroke:#f4d837ff;stroke-width:3;\" /><line x1=\"314\" y1=\"0\" x2=\"314\" y2=\"20\" style=\"stroke:#f4d837ff;stroke-width:3;\" /><line x1=\"315\" y1=\"0\" x2=\"315\" y2=\"20\" style=\"stroke:#f4d837ff;stroke-width:3;\" /><line x1=\"316\" y1=\"0\" x2=\"316\" y2=\"20\" style=\"stroke:#f4d837ff;stroke-width:3;\" /><line x1=\"317\" y1=\"0\" x2=\"317\" y2=\"20\" style=\"stroke:#f4d837ff;stroke-width:3;\" /><line x1=\"318\" y1=\"0\" x2=\"318\" y2=\"20\" style=\"stroke:#f4d837ff;stroke-width:3;\" /><line x1=\"319\" y1=\"0\" x2=\"319\" y2=\"20\" style=\"stroke:#f4d837ff;stroke-width:3;\" /><line x1=\"320\" y1=\"0\" x2=\"320\" y2=\"20\" style=\"stroke:#f4d837ff;stroke-width:3;\" /><line x1=\"321\" y1=\"0\" x2=\"321\" y2=\"20\" style=\"stroke:#f4d837ff;stroke-width:3;\" /><line x1=\"322\" y1=\"0\" x2=\"322\" y2=\"20\" style=\"stroke:#f4d837ff;stroke-width:3;\" /><line x1=\"323\" y1=\"0\" x2=\"323\" y2=\"20\" style=\"stroke:#f4d837ff;stroke-width:3;\" /><line x1=\"324\" y1=\"0\" x2=\"324\" y2=\"20\" style=\"stroke:#f4d837ff;stroke-width:3;\" /><line x1=\"325\" y1=\"0\" x2=\"325\" y2=\"20\" style=\"stroke:#f4d837ff;stroke-width:3;\" /><line x1=\"326\" y1=\"0\" x2=\"326\" y2=\"20\" style=\"stroke:#f4d837ff;stroke-width:3;\" /><line x1=\"327\" y1=\"0\" x2=\"327\" y2=\"20\" style=\"stroke:#f4d837ff;stroke-width:3;\" /><line x1=\"328\" y1=\"0\" x2=\"328\" y2=\"20\" style=\"stroke:#f4d837ff;stroke-width:3;\" /><line x1=\"329\" y1=\"0\" x2=\"329\" y2=\"20\" style=\"stroke:#f4d837ff;stroke-width:3;\" /><line x1=\"330\" y1=\"0\" x2=\"330\" y2=\"20\" style=\"stroke:#f4d837ff;stroke-width:3;\" /><line x1=\"331\" y1=\"0\" x2=\"331\" y2=\"20\" style=\"stroke:#f4d837ff;stroke-width:3;\" /><line x1=\"332\" y1=\"0\" x2=\"332\" y2=\"20\" style=\"stroke:#f4d837ff;stroke-width:3;\" /><line x1=\"333\" y1=\"0\" x2=\"333\" y2=\"20\" style=\"stroke:#f4d837ff;stroke-width:3;\" /><line x1=\"334\" y1=\"0\" x2=\"334\" y2=\"20\" style=\"stroke:#f4d837ff;stroke-width:3;\" /><line x1=\"335\" y1=\"0\" x2=\"335\" y2=\"20\" style=\"stroke:#f4d837ff;stroke-width:3;\" /><line x1=\"336\" y1=\"0\" x2=\"336\" y2=\"20\" style=\"stroke:#f4d837ff;stroke-width:3;\" /><line x1=\"337\" y1=\"0\" x2=\"337\" y2=\"20\" style=\"stroke:#f4d837ff;stroke-width:3;\" /><line x1=\"338\" y1=\"0\" x2=\"338\" y2=\"20\" style=\"stroke:#f4d837ff;stroke-width:3;\" /><line x1=\"339\" y1=\"0\" x2=\"339\" y2=\"20\" style=\"stroke:#f4d837ff;stroke-width:3;\" /><line x1=\"340\" y1=\"0\" x2=\"340\" y2=\"20\" style=\"stroke:#f4d837ff;stroke-width:3;\" /><line x1=\"341\" y1=\"0\" x2=\"341\" y2=\"20\" style=\"stroke:#f4d837ff;stroke-width:3;\" /><line x1=\"342\" y1=\"0\" x2=\"342\" y2=\"20\" style=\"stroke:#f4d837ff;stroke-width:3;\" /><line x1=\"343\" y1=\"0\" x2=\"343\" y2=\"20\" style=\"stroke:#f4d837ff;stroke-width:3;\" /><line x1=\"344\" y1=\"0\" x2=\"344\" y2=\"20\" style=\"stroke:#f4d837ff;stroke-width:3;\" /><line x1=\"345\" y1=\"0\" x2=\"345\" y2=\"20\" style=\"stroke:#f4d837ff;stroke-width:3;\" /><line x1=\"346\" y1=\"0\" x2=\"346\" y2=\"20\" style=\"stroke:#f4d837ff;stroke-width:3;\" /><line x1=\"347\" y1=\"0\" x2=\"347\" y2=\"20\" style=\"stroke:#f4d837ff;stroke-width:3;\" /><line x1=\"348\" y1=\"0\" x2=\"348\" y2=\"20\" style=\"stroke:#f4d837ff;stroke-width:3;\" /><line x1=\"349\" y1=\"0\" x2=\"349\" y2=\"20\" style=\"stroke:#f4d837ff;stroke-width:3;\" /><line x1=\"350\" y1=\"0\" x2=\"350\" y2=\"20\" style=\"stroke:#f4d837ff;stroke-width:3;\" /><line x1=\"351\" y1=\"0\" x2=\"351\" y2=\"20\" style=\"stroke:#f4d837ff;stroke-width:3;\" /><line x1=\"352\" y1=\"0\" x2=\"352\" y2=\"20\" style=\"stroke:#f4d837ff;stroke-width:3;\" /><line x1=\"353\" y1=\"0\" x2=\"353\" y2=\"20\" style=\"stroke:#f4d837ff;stroke-width:3;\" /><line x1=\"354\" y1=\"0\" x2=\"354\" y2=\"20\" style=\"stroke:#f4d837ff;stroke-width:3;\" /><line x1=\"355\" y1=\"0\" x2=\"355\" y2=\"20\" style=\"stroke:#f4d837ff;stroke-width:3;\" /><line x1=\"356\" y1=\"0\" x2=\"356\" y2=\"20\" style=\"stroke:#f4d837ff;stroke-width:3;\" /><line x1=\"357\" y1=\"0\" x2=\"357\" y2=\"20\" style=\"stroke:#f4d837ff;stroke-width:3;\" /><line x1=\"358\" y1=\"0\" x2=\"358\" y2=\"20\" style=\"stroke:#f4d837ff;stroke-width:3;\" /><line x1=\"359\" y1=\"0\" x2=\"359\" y2=\"20\" style=\"stroke:#f4d837ff;stroke-width:3;\" /><line x1=\"360\" y1=\"0\" x2=\"360\" y2=\"20\" style=\"stroke:#f4d837ff;stroke-width:3;\" /><line x1=\"361\" y1=\"0\" x2=\"361\" y2=\"20\" style=\"stroke:#f4d837ff;stroke-width:3;\" /><line x1=\"362\" y1=\"0\" x2=\"362\" y2=\"20\" style=\"stroke:#f4d837ff;stroke-width:3;\" /><line x1=\"363\" y1=\"0\" x2=\"363\" y2=\"20\" style=\"stroke:#f4d837ff;stroke-width:3;\" /><line x1=\"364\" y1=\"0\" x2=\"364\" y2=\"20\" style=\"stroke:#f4d837ff;stroke-width:3;\" /><line x1=\"365\" y1=\"0\" x2=\"365\" y2=\"20\" style=\"stroke:#f4d837ff;stroke-width:3;\" /><line x1=\"366\" y1=\"0\" x2=\"366\" y2=\"20\" style=\"stroke:#f4d837ff;stroke-width:3;\" /><line x1=\"367\" y1=\"0\" x2=\"367\" y2=\"20\" style=\"stroke:#f4d837ff;stroke-width:3;\" /><line x1=\"368\" y1=\"0\" x2=\"368\" y2=\"20\" style=\"stroke:#f4d837ff;stroke-width:3;\" /><line x1=\"369\" y1=\"0\" x2=\"369\" y2=\"20\" style=\"stroke:#f4d837ff;stroke-width:3;\" /><line x1=\"370\" y1=\"0\" x2=\"370\" y2=\"20\" style=\"stroke:#f4d837ff;stroke-width:3;\" /><line x1=\"371\" y1=\"0\" x2=\"371\" y2=\"20\" style=\"stroke:#f4d837ff;stroke-width:3;\" /><line x1=\"372\" y1=\"0\" x2=\"372\" y2=\"20\" style=\"stroke:#f4d837ff;stroke-width:3;\" /><line x1=\"373\" y1=\"0\" x2=\"373\" y2=\"20\" style=\"stroke:#f4d837ff;stroke-width:3;\" /><line x1=\"374\" y1=\"0\" x2=\"374\" y2=\"20\" style=\"stroke:#f4d837ff;stroke-width:3;\" /><line x1=\"375\" y1=\"0\" x2=\"375\" y2=\"20\" style=\"stroke:#f4d837ff;stroke-width:3;\" /><line x1=\"376\" y1=\"0\" x2=\"376\" y2=\"20\" style=\"stroke:#f4d837ff;stroke-width:3;\" /><line x1=\"377\" y1=\"0\" x2=\"377\" y2=\"20\" style=\"stroke:#f4d837ff;stroke-width:3;\" /><line x1=\"378\" y1=\"0\" x2=\"378\" y2=\"20\" style=\"stroke:#f4d837ff;stroke-width:3;\" /><line x1=\"379\" y1=\"0\" x2=\"379\" y2=\"20\" style=\"stroke:#f4d837ff;stroke-width:3;\" /><line x1=\"380\" y1=\"0\" x2=\"380\" y2=\"20\" style=\"stroke:#f4d837ff;stroke-width:3;\" /><line x1=\"381\" y1=\"0\" x2=\"381\" y2=\"20\" style=\"stroke:#f4d837ff;stroke-width:3;\" /><line x1=\"382\" y1=\"0\" x2=\"382\" y2=\"20\" style=\"stroke:#f4d837ff;stroke-width:3;\" /><line x1=\"383\" y1=\"0\" x2=\"383\" y2=\"20\" style=\"stroke:#f4d837ff;stroke-width:3;\" /><line x1=\"384\" y1=\"0\" x2=\"384\" y2=\"20\" style=\"stroke:#f4d837ff;stroke-width:3;\" /><line x1=\"385\" y1=\"0\" x2=\"385\" y2=\"20\" style=\"stroke:#f4d837ff;stroke-width:3;\" /><line x1=\"386\" y1=\"0\" x2=\"386\" y2=\"20\" style=\"stroke:#f4d837ff;stroke-width:3;\" /><line x1=\"387\" y1=\"0\" x2=\"387\" y2=\"20\" style=\"stroke:#f4d837ff;stroke-width:3;\" /><line x1=\"388\" y1=\"0\" x2=\"388\" y2=\"20\" style=\"stroke:#f4d837ff;stroke-width:3;\" /><line x1=\"389\" y1=\"0\" x2=\"389\" y2=\"20\" style=\"stroke:#f4d837ff;stroke-width:3;\" /><line x1=\"390\" y1=\"0\" x2=\"390\" y2=\"20\" style=\"stroke:#f4d837ff;stroke-width:3;\" /><line x1=\"391\" y1=\"0\" x2=\"391\" y2=\"20\" style=\"stroke:#f4d837ff;stroke-width:3;\" /><line x1=\"392\" y1=\"0\" x2=\"392\" y2=\"20\" style=\"stroke:#f4d837ff;stroke-width:3;\" /><line x1=\"393\" y1=\"0\" x2=\"393\" y2=\"20\" style=\"stroke:#f4d837ff;stroke-width:3;\" /><line x1=\"394\" y1=\"0\" x2=\"394\" y2=\"20\" style=\"stroke:#f4d837ff;stroke-width:3;\" /><line x1=\"395\" y1=\"0\" x2=\"395\" y2=\"20\" style=\"stroke:#f4d837ff;stroke-width:3;\" /><line x1=\"396\" y1=\"0\" x2=\"396\" y2=\"20\" style=\"stroke:#f4d837ff;stroke-width:3;\" /><line x1=\"397\" y1=\"0\" x2=\"397\" y2=\"20\" style=\"stroke:#f4d837ff;stroke-width:3;\" /><line x1=\"398\" y1=\"0\" x2=\"398\" y2=\"20\" style=\"stroke:#f4d837ff;stroke-width:3;\" /><line x1=\"399\" y1=\"0\" x2=\"399\" y2=\"20\" style=\"stroke:#f4d837ff;stroke-width:3;\" /><line x1=\"400\" y1=\"0\" x2=\"400\" y2=\"20\" style=\"stroke:#51bf9dff;stroke-width:3;\" /><line x1=\"401\" y1=\"0\" x2=\"401\" y2=\"20\" style=\"stroke:#51bf9dff;stroke-width:3;\" /><line x1=\"402\" y1=\"0\" x2=\"402\" y2=\"20\" style=\"stroke:#51bf9dff;stroke-width:3;\" /><line x1=\"403\" y1=\"0\" x2=\"403\" y2=\"20\" style=\"stroke:#51bf9dff;stroke-width:3;\" /><line x1=\"404\" y1=\"0\" x2=\"404\" y2=\"20\" style=\"stroke:#51bf9dff;stroke-width:3;\" /><line x1=\"405\" y1=\"0\" x2=\"405\" y2=\"20\" style=\"stroke:#51bf9dff;stroke-width:3;\" /><line x1=\"406\" y1=\"0\" x2=\"406\" y2=\"20\" style=\"stroke:#51bf9dff;stroke-width:3;\" /><line x1=\"407\" y1=\"0\" x2=\"407\" y2=\"20\" style=\"stroke:#51bf9dff;stroke-width:3;\" /><line x1=\"408\" y1=\"0\" x2=\"408\" y2=\"20\" style=\"stroke:#51bf9dff;stroke-width:3;\" /><line x1=\"409\" y1=\"0\" x2=\"409\" y2=\"20\" style=\"stroke:#51bf9dff;stroke-width:3;\" /><line x1=\"410\" y1=\"0\" x2=\"410\" y2=\"20\" style=\"stroke:#51bf9dff;stroke-width:3;\" /><line x1=\"411\" y1=\"0\" x2=\"411\" y2=\"20\" style=\"stroke:#51bf9dff;stroke-width:3;\" /><line x1=\"412\" y1=\"0\" x2=\"412\" y2=\"20\" style=\"stroke:#51bf9dff;stroke-width:3;\" /><line x1=\"413\" y1=\"0\" x2=\"413\" y2=\"20\" style=\"stroke:#51bf9dff;stroke-width:3;\" /><line x1=\"414\" y1=\"0\" x2=\"414\" y2=\"20\" style=\"stroke:#51bf9dff;stroke-width:3;\" /><line x1=\"415\" y1=\"0\" x2=\"415\" y2=\"20\" style=\"stroke:#51bf9dff;stroke-width:3;\" /><line x1=\"416\" y1=\"0\" x2=\"416\" y2=\"20\" style=\"stroke:#51bf9dff;stroke-width:3;\" /><line x1=\"417\" y1=\"0\" x2=\"417\" y2=\"20\" style=\"stroke:#51bf9dff;stroke-width:3;\" /><line x1=\"418\" y1=\"0\" x2=\"418\" y2=\"20\" style=\"stroke:#51bf9dff;stroke-width:3;\" /><line x1=\"419\" y1=\"0\" x2=\"419\" y2=\"20\" style=\"stroke:#51bf9dff;stroke-width:3;\" /><line x1=\"420\" y1=\"0\" x2=\"420\" y2=\"20\" style=\"stroke:#51bf9dff;stroke-width:3;\" /><line x1=\"421\" y1=\"0\" x2=\"421\" y2=\"20\" style=\"stroke:#51bf9dff;stroke-width:3;\" /><line x1=\"422\" y1=\"0\" x2=\"422\" y2=\"20\" style=\"stroke:#51bf9dff;stroke-width:3;\" /><line x1=\"423\" y1=\"0\" x2=\"423\" y2=\"20\" style=\"stroke:#51bf9dff;stroke-width:3;\" /><line x1=\"424\" y1=\"0\" x2=\"424\" y2=\"20\" style=\"stroke:#51bf9dff;stroke-width:3;\" /><line x1=\"425\" y1=\"0\" x2=\"425\" y2=\"20\" style=\"stroke:#51bf9dff;stroke-width:3;\" /><line x1=\"426\" y1=\"0\" x2=\"426\" y2=\"20\" style=\"stroke:#51bf9dff;stroke-width:3;\" /><line x1=\"427\" y1=\"0\" x2=\"427\" y2=\"20\" style=\"stroke:#51bf9dff;stroke-width:3;\" /><line x1=\"428\" y1=\"0\" x2=\"428\" y2=\"20\" style=\"stroke:#51bf9dff;stroke-width:3;\" /><line x1=\"429\" y1=\"0\" x2=\"429\" y2=\"20\" style=\"stroke:#51bf9dff;stroke-width:3;\" /><line x1=\"430\" y1=\"0\" x2=\"430\" y2=\"20\" style=\"stroke:#51bf9dff;stroke-width:3;\" /><line x1=\"431\" y1=\"0\" x2=\"431\" y2=\"20\" style=\"stroke:#51bf9dff;stroke-width:3;\" /><line x1=\"432\" y1=\"0\" x2=\"432\" y2=\"20\" style=\"stroke:#51bf9dff;stroke-width:3;\" /><line x1=\"433\" y1=\"0\" x2=\"433\" y2=\"20\" style=\"stroke:#51bf9dff;stroke-width:3;\" /><line x1=\"434\" y1=\"0\" x2=\"434\" y2=\"20\" style=\"stroke:#51bf9dff;stroke-width:3;\" /><line x1=\"435\" y1=\"0\" x2=\"435\" y2=\"20\" style=\"stroke:#51bf9dff;stroke-width:3;\" /><line x1=\"436\" y1=\"0\" x2=\"436\" y2=\"20\" style=\"stroke:#51bf9dff;stroke-width:3;\" /><line x1=\"437\" y1=\"0\" x2=\"437\" y2=\"20\" style=\"stroke:#51bf9dff;stroke-width:3;\" /><line x1=\"438\" y1=\"0\" x2=\"438\" y2=\"20\" style=\"stroke:#51bf9dff;stroke-width:3;\" /><line x1=\"439\" y1=\"0\" x2=\"439\" y2=\"20\" style=\"stroke:#51bf9dff;stroke-width:3;\" /><line x1=\"440\" y1=\"0\" x2=\"440\" y2=\"20\" style=\"stroke:#51bf9dff;stroke-width:3;\" /><line x1=\"441\" y1=\"0\" x2=\"441\" y2=\"20\" style=\"stroke:#51bf9dff;stroke-width:3;\" /><line x1=\"442\" y1=\"0\" x2=\"442\" y2=\"20\" style=\"stroke:#51bf9dff;stroke-width:3;\" /><line x1=\"443\" y1=\"0\" x2=\"443\" y2=\"20\" style=\"stroke:#51bf9dff;stroke-width:3;\" /><line x1=\"444\" y1=\"0\" x2=\"444\" y2=\"20\" style=\"stroke:#51bf9dff;stroke-width:3;\" /><line x1=\"445\" y1=\"0\" x2=\"445\" y2=\"20\" style=\"stroke:#51bf9dff;stroke-width:3;\" /><line x1=\"446\" y1=\"0\" x2=\"446\" y2=\"20\" style=\"stroke:#51bf9dff;stroke-width:3;\" /><line x1=\"447\" y1=\"0\" x2=\"447\" y2=\"20\" style=\"stroke:#51bf9dff;stroke-width:3;\" /><line x1=\"448\" y1=\"0\" x2=\"448\" y2=\"20\" style=\"stroke:#51bf9dff;stroke-width:3;\" /><line x1=\"449\" y1=\"0\" x2=\"449\" y2=\"20\" style=\"stroke:#51bf9dff;stroke-width:3;\" /><line x1=\"450\" y1=\"0\" x2=\"450\" y2=\"20\" style=\"stroke:#51bf9dff;stroke-width:3;\" /><line x1=\"451\" y1=\"0\" x2=\"451\" y2=\"20\" style=\"stroke:#51bf9dff;stroke-width:3;\" /><line x1=\"452\" y1=\"0\" x2=\"452\" y2=\"20\" style=\"stroke:#51bf9dff;stroke-width:3;\" /><line x1=\"453\" y1=\"0\" x2=\"453\" y2=\"20\" style=\"stroke:#51bf9dff;stroke-width:3;\" /><line x1=\"454\" y1=\"0\" x2=\"454\" y2=\"20\" style=\"stroke:#51bf9dff;stroke-width:3;\" /><line x1=\"455\" y1=\"0\" x2=\"455\" y2=\"20\" style=\"stroke:#51bf9dff;stroke-width:3;\" /><line x1=\"456\" y1=\"0\" x2=\"456\" y2=\"20\" style=\"stroke:#51bf9dff;stroke-width:3;\" /><line x1=\"457\" y1=\"0\" x2=\"457\" y2=\"20\" style=\"stroke:#51bf9dff;stroke-width:3;\" /><line x1=\"458\" y1=\"0\" x2=\"458\" y2=\"20\" style=\"stroke:#51bf9dff;stroke-width:3;\" /><line x1=\"459\" y1=\"0\" x2=\"459\" y2=\"20\" style=\"stroke:#51bf9dff;stroke-width:3;\" /><line x1=\"460\" y1=\"0\" x2=\"460\" y2=\"20\" style=\"stroke:#51bf9dff;stroke-width:3;\" /><line x1=\"461\" y1=\"0\" x2=\"461\" y2=\"20\" style=\"stroke:#51bf9dff;stroke-width:3;\" /><line x1=\"462\" y1=\"0\" x2=\"462\" y2=\"20\" style=\"stroke:#51bf9dff;stroke-width:3;\" /><line x1=\"463\" y1=\"0\" x2=\"463\" y2=\"20\" style=\"stroke:#51bf9dff;stroke-width:3;\" /><line x1=\"464\" y1=\"0\" x2=\"464\" y2=\"20\" style=\"stroke:#51bf9dff;stroke-width:3;\" /><line x1=\"465\" y1=\"0\" x2=\"465\" y2=\"20\" style=\"stroke:#51bf9dff;stroke-width:3;\" /><line x1=\"466\" y1=\"0\" x2=\"466\" y2=\"20\" style=\"stroke:#51bf9dff;stroke-width:3;\" /><line x1=\"467\" y1=\"0\" x2=\"467\" y2=\"20\" style=\"stroke:#51bf9dff;stroke-width:3;\" /><line x1=\"468\" y1=\"0\" x2=\"468\" y2=\"20\" style=\"stroke:#51bf9dff;stroke-width:3;\" /><line x1=\"469\" y1=\"0\" x2=\"469\" y2=\"20\" style=\"stroke:#51bf9dff;stroke-width:3;\" /><line x1=\"470\" y1=\"0\" x2=\"470\" y2=\"20\" style=\"stroke:#51bf9dff;stroke-width:3;\" /><line x1=\"471\" y1=\"0\" x2=\"471\" y2=\"20\" style=\"stroke:#51bf9dff;stroke-width:3;\" /><line x1=\"472\" y1=\"0\" x2=\"472\" y2=\"20\" style=\"stroke:#51bf9dff;stroke-width:3;\" /><line x1=\"473\" y1=\"0\" x2=\"473\" y2=\"20\" style=\"stroke:#51bf9dff;stroke-width:3;\" /><line x1=\"474\" y1=\"0\" x2=\"474\" y2=\"20\" style=\"stroke:#51bf9dff;stroke-width:3;\" /><line x1=\"475\" y1=\"0\" x2=\"475\" y2=\"20\" style=\"stroke:#51bf9dff;stroke-width:3;\" /><line x1=\"476\" y1=\"0\" x2=\"476\" y2=\"20\" style=\"stroke:#51bf9dff;stroke-width:3;\" /><line x1=\"477\" y1=\"0\" x2=\"477\" y2=\"20\" style=\"stroke:#51bf9dff;stroke-width:3;\" /><line x1=\"478\" y1=\"0\" x2=\"478\" y2=\"20\" style=\"stroke:#51bf9dff;stroke-width:3;\" /><line x1=\"479\" y1=\"0\" x2=\"479\" y2=\"20\" style=\"stroke:#51bf9dff;stroke-width:3;\" /><line x1=\"480\" y1=\"0\" x2=\"480\" y2=\"20\" style=\"stroke:#51bf9dff;stroke-width:3;\" /><line x1=\"481\" y1=\"0\" x2=\"481\" y2=\"20\" style=\"stroke:#51bf9dff;stroke-width:3;\" /><line x1=\"482\" y1=\"0\" x2=\"482\" y2=\"20\" style=\"stroke:#51bf9dff;stroke-width:3;\" /><line x1=\"483\" y1=\"0\" x2=\"483\" y2=\"20\" style=\"stroke:#51bf9dff;stroke-width:3;\" /><line x1=\"484\" y1=\"0\" x2=\"484\" y2=\"20\" style=\"stroke:#51bf9dff;stroke-width:3;\" /><line x1=\"485\" y1=\"0\" x2=\"485\" y2=\"20\" style=\"stroke:#51bf9dff;stroke-width:3;\" /><line x1=\"486\" y1=\"0\" x2=\"486\" y2=\"20\" style=\"stroke:#51bf9dff;stroke-width:3;\" /><line x1=\"487\" y1=\"0\" x2=\"487\" y2=\"20\" style=\"stroke:#51bf9dff;stroke-width:3;\" /><line x1=\"488\" y1=\"0\" x2=\"488\" y2=\"20\" style=\"stroke:#51bf9dff;stroke-width:3;\" /><line x1=\"489\" y1=\"0\" x2=\"489\" y2=\"20\" style=\"stroke:#51bf9dff;stroke-width:3;\" /><line x1=\"490\" y1=\"0\" x2=\"490\" y2=\"20\" style=\"stroke:#51bf9dff;stroke-width:3;\" /><line x1=\"491\" y1=\"0\" x2=\"491\" y2=\"20\" style=\"stroke:#51bf9dff;stroke-width:3;\" /><line x1=\"492\" y1=\"0\" x2=\"492\" y2=\"20\" style=\"stroke:#51bf9dff;stroke-width:3;\" /><line x1=\"493\" y1=\"0\" x2=\"493\" y2=\"20\" style=\"stroke:#51bf9dff;stroke-width:3;\" /><line x1=\"494\" y1=\"0\" x2=\"494\" y2=\"20\" style=\"stroke:#51bf9dff;stroke-width:3;\" /><line x1=\"495\" y1=\"0\" x2=\"495\" y2=\"20\" style=\"stroke:#51bf9dff;stroke-width:3;\" /><line x1=\"496\" y1=\"0\" x2=\"496\" y2=\"20\" style=\"stroke:#51bf9dff;stroke-width:3;\" /><line x1=\"497\" y1=\"0\" x2=\"497\" y2=\"20\" style=\"stroke:#51bf9dff;stroke-width:3;\" /><line x1=\"498\" y1=\"0\" x2=\"498\" y2=\"20\" style=\"stroke:#51bf9dff;stroke-width:3;\" /><line x1=\"499\" y1=\"0\" x2=\"499\" y2=\"20\" style=\"stroke:#51bf9dff;stroke-width:3;\" /><text x=\"0\" y=\"35\">0.0</text><text x=\"500\" y=\"35\" style=\"text-anchor:end;\">1.0</text></svg>"
      ],
      "text/plain": [
       "<branca.colormap.StepColormap at 0x7f2d350aa640>"
      ]
     },
     "metadata": {},
     "output_type": "display_data"
    }
   ],
   "source": [
    "# Make legend and save as static image\n",
    "colors = [\n",
    "    cp.CALITP_CATEGORY_BRIGHT_COLORS[:1][0], \n",
    "    cp.CALITP_CATEGORY_BRIGHT_COLORS[4:5][0],\n",
    "    cp.CALITP_CATEGORY_BRIGHT_COLORS[1:2][0],\n",
    "    cp.CALITP_CATEGORY_BRIGHT_COLORS[2:3][0],\n",
    "    cp.CALITP_CATEGORY_BRIGHT_COLORS[3:4][0]\n",
    "]\n",
    "\n",
    "colorscale = branca.colormap.StepColormap(\n",
    "                colors=colors,\n",
    ")\n",
    "\n",
    "print(\"RT Accessible      RT       RT Milestone   Accessible      Static\")\n",
    "display(colorscale)"
   ]
  },
  {
   "cell_type": "code",
   "execution_count": 40,
   "id": "2cedebc8-0971-416f-8e55-d132cd75d5f9",
   "metadata": {},
   "outputs": [],
   "source": [
    "BRANCH = \"main\"\n",
    "LEGEND_DICT = {\n",
    "    \"legend_url\": (\"https://github.com/cal-itp/data-analyses/raw/\"\n",
    "                   f\"{BRANCH}/msd_dashboard_metric/legend_coverage.png\"), \n",
    "    \"legend_bottom\": 80, \"legend_left\": 5\n",
    "}"
   ]
  },
  {
   "cell_type": "code",
   "execution_count": 41,
   "id": "61fdb0f4-218f-41f0-9cc8-95def7bbae15",
   "metadata": {},
   "outputs": [],
   "source": [
    "fig = map_utils.make_folium_multiple_layers_map(\n",
    "        LAYERS_DICT,\n",
    "        fig_width = 800, fig_height = 800, \n",
    "        zoom=9, \n",
    "        centroid = [36.5, -120], \n",
    "        title=f\"Statewide Feed Coverage\",\n",
    "        legend_dict = LEGEND_DICT\n",
    "    )"
   ]
  },
  {
   "cell_type": "code",
   "execution_count": 44,
   "id": "6fe17c4a-416b-46c2-8c38-95d67cb08a82",
   "metadata": {},
   "outputs": [],
   "source": [
    "#fig"
   ]
  },
  {
   "cell_type": "code",
   "execution_count": 43,
   "id": "def5fcee-953e-45e7-adc8-ad3f44b03218",
   "metadata": {},
   "outputs": [],
   "source": [
    "#fig.save('statewide_coverage_map.html')"
   ]
  },
  {
   "cell_type": "code",
   "execution_count": null,
   "id": "7e3f2503-9e54-4026-b361-f82611f6fad1",
   "metadata": {},
   "outputs": [],
   "source": []
  }
 ],
 "metadata": {
  "kernelspec": {
   "display_name": "Python 3 (ipykernel)",
   "language": "python",
   "name": "python3"
  },
  "language_info": {
   "codemirror_mode": {
    "name": "ipython",
    "version": 3
   },
   "file_extension": ".py",
   "mimetype": "text/x-python",
   "name": "python",
   "nbconvert_exporter": "python",
   "pygments_lexer": "ipython3",
   "version": "3.9.13"
  }
 },
 "nbformat": 4,
 "nbformat_minor": 5
}
