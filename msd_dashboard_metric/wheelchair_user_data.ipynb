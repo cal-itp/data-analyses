{
 "cells": [
  {
   "cell_type": "code",
   "execution_count": 1,
   "id": "cde64a75-23ff-479a-a628-44515aa3fea5",
   "metadata": {
    "tags": []
   },
   "outputs": [],
   "source": [
    "# !pip install -r requirements.txt"
   ]
  },
  {
   "cell_type": "code",
   "execution_count": 2,
   "id": "4a479ed8-e383-42da-96b8-9415b9b030f8",
   "metadata": {},
   "outputs": [
    {
     "name": "stderr",
     "output_type": "stream",
     "text": [
      "/opt/conda/lib/python3.9/site-packages/geopandas/_compat.py:111: UserWarning: The Shapely GEOS version (3.9.1-CAPI-1.14.2) is incompatible with the GEOS version PyGEOS was compiled with (3.10.0-CAPI-1.16.0). Conversions between both will be slow.\n",
      "  warnings.warn(\n"
     ]
    }
   ],
   "source": [
    "# import os\n",
    "# os.environ[\"CALITP_BQ_MAX_BYTES\"] = str(100_000_000_000)\n",
    "\n",
    "import pandas as pd\n",
    "import numpy as np\n",
    "import geopandas as gpd\n",
    "# import fiona\n",
    "import datetime as dt\n",
    "\n",
    "from utils import *\n",
    "\n",
    "import calitp\n",
    "from calitp.tables import tbl\n",
    "from siuba import *"
   ]
  },
  {
   "cell_type": "markdown",
   "id": "200bf0fb-1577-4aa9-a1b8-aa18bb41fa01",
   "metadata": {},
   "source": [
    "### (Old) Metric\n",
    "\n",
    "See accessible_transit_metrics notebook for new version of this metric; leaving this in case census disability data is useful in the future.\n",
    "\n",
    "The % of [wheelchair-using] Californians that are within 1/4 mi of a transit stop that is indicated to be explicitly accessible in a static GTFS feed and served by at least one explicitly accessible trip."
   ]
  },
  {
   "cell_type": "code",
   "execution_count": 3,
   "id": "c9a91f93-278f-435b-a67d-33f47198ca6b",
   "metadata": {},
   "outputs": [],
   "source": [
    "accessible_stops_trips = get_accessible_stops_and_trips()"
   ]
  },
  {
   "cell_type": "markdown",
   "id": "52bb63bd-d6ce-4b8d-b771-20f00c66c131",
   "metadata": {},
   "source": [
    "### Census Data"
   ]
  },
  {
   "cell_type": "code",
   "execution_count": 4,
   "id": "ed0b2722-e436-4bd6-b537-4b8f2c97e7b1",
   "metadata": {},
   "outputs": [],
   "source": [
    "variable_range = ['0' + str(x) if x < 10 else str(x) for x in range(1,34)]"
   ]
  },
  {
   "cell_type": "code",
   "execution_count": 5,
   "id": "45eee62a-82de-4fec-a9c0-7355d6a91161",
   "metadata": {},
   "outputs": [],
   "source": [
    "## https://api.census.gov/data/2019/acs/acs5/variables.html\n",
    "ambulatory_disability_vars = [f'B18105_0{x}E' for x in variable_range]"
   ]
  },
  {
   "cell_type": "code",
   "execution_count": 6,
   "id": "07f0fee3-1646-44f7-94a8-e0f513dbfc34",
   "metadata": {},
   "outputs": [],
   "source": [
    "ambulatory_disability_vars = ','.join(ambulatory_disability_vars)"
   ]
  },
  {
   "cell_type": "code",
   "execution_count": 7,
   "id": "c788712f-f5c8-4087-b253-e63d251136c8",
   "metadata": {},
   "outputs": [],
   "source": [
    "ambulatory_disability_df = get_census_ca_counties(ambulatory_disability_vars)"
   ]
  },
  {
   "cell_type": "code",
   "execution_count": 8,
   "id": "1d1fb6b6-c783-43b8-9ebd-6d03279a02ad",
   "metadata": {},
   "outputs": [
    {
     "data": {
      "text/html": [
       "<div>\n",
       "<style scoped>\n",
       "    .dataframe tbody tr th:only-of-type {\n",
       "        vertical-align: middle;\n",
       "    }\n",
       "\n",
       "    .dataframe tbody tr th {\n",
       "        vertical-align: top;\n",
       "    }\n",
       "\n",
       "    .dataframe thead th {\n",
       "        text-align: right;\n",
       "    }\n",
       "</style>\n",
       "<table border=\"1\" class=\"dataframe\">\n",
       "  <thead>\n",
       "    <tr style=\"text-align: right;\">\n",
       "      <th></th>\n",
       "      <th>B18105_001E</th>\n",
       "      <th>B18105_002E</th>\n",
       "      <th>B18105_003E</th>\n",
       "      <th>B18105_004E</th>\n",
       "      <th>B18105_005E</th>\n",
       "      <th>B18105_006E</th>\n",
       "      <th>B18105_007E</th>\n",
       "      <th>B18105_008E</th>\n",
       "      <th>B18105_009E</th>\n",
       "      <th>B18105_010E</th>\n",
       "      <th>...</th>\n",
       "      <th>B18105_027E</th>\n",
       "      <th>B18105_028E</th>\n",
       "      <th>B18105_029E</th>\n",
       "      <th>B18105_030E</th>\n",
       "      <th>B18105_031E</th>\n",
       "      <th>B18105_032E</th>\n",
       "      <th>B18105_033E</th>\n",
       "      <th>state</th>\n",
       "      <th>county</th>\n",
       "      <th>tract</th>\n",
       "    </tr>\n",
       "  </thead>\n",
       "  <tbody>\n",
       "    <tr>\n",
       "      <th>0</th>\n",
       "      <td>1901</td>\n",
       "      <td>1063</td>\n",
       "      <td>208</td>\n",
       "      <td>0</td>\n",
       "      <td>208</td>\n",
       "      <td>310</td>\n",
       "      <td>8</td>\n",
       "      <td>302</td>\n",
       "      <td>366</td>\n",
       "      <td>26</td>\n",
       "      <td>...</td>\n",
       "      <td>354</td>\n",
       "      <td>75</td>\n",
       "      <td>29</td>\n",
       "      <td>46</td>\n",
       "      <td>48</td>\n",
       "      <td>15</td>\n",
       "      <td>33</td>\n",
       "      <td>6</td>\n",
       "      <td>47</td>\n",
       "      <td>503</td>\n",
       "    </tr>\n",
       "    <tr>\n",
       "      <th>1</th>\n",
       "      <td>6111</td>\n",
       "      <td>3287</td>\n",
       "      <td>871</td>\n",
       "      <td>30</td>\n",
       "      <td>841</td>\n",
       "      <td>996</td>\n",
       "      <td>0</td>\n",
       "      <td>996</td>\n",
       "      <td>1079</td>\n",
       "      <td>94</td>\n",
       "      <td>...</td>\n",
       "      <td>875</td>\n",
       "      <td>202</td>\n",
       "      <td>41</td>\n",
       "      <td>161</td>\n",
       "      <td>144</td>\n",
       "      <td>68</td>\n",
       "      <td>76</td>\n",
       "      <td>6</td>\n",
       "      <td>47</td>\n",
       "      <td>504</td>\n",
       "    </tr>\n",
       "    <tr>\n",
       "      <th>2</th>\n",
       "      <td>6099</td>\n",
       "      <td>3242</td>\n",
       "      <td>887</td>\n",
       "      <td>36</td>\n",
       "      <td>851</td>\n",
       "      <td>833</td>\n",
       "      <td>0</td>\n",
       "      <td>833</td>\n",
       "      <td>1090</td>\n",
       "      <td>83</td>\n",
       "      <td>...</td>\n",
       "      <td>979</td>\n",
       "      <td>198</td>\n",
       "      <td>29</td>\n",
       "      <td>169</td>\n",
       "      <td>252</td>\n",
       "      <td>72</td>\n",
       "      <td>180</td>\n",
       "      <td>6</td>\n",
       "      <td>47</td>\n",
       "      <td>505</td>\n",
       "    </tr>\n",
       "  </tbody>\n",
       "</table>\n",
       "<p>3 rows × 36 columns</p>\n",
       "</div>"
      ],
      "text/plain": [
       "   B18105_001E  B18105_002E  B18105_003E  B18105_004E  B18105_005E  \\\n",
       "0         1901         1063          208            0          208   \n",
       "1         6111         3287          871           30          841   \n",
       "2         6099         3242          887           36          851   \n",
       "\n",
       "   B18105_006E  B18105_007E  B18105_008E  B18105_009E  B18105_010E  ...  \\\n",
       "0          310            8          302          366           26  ...   \n",
       "1          996            0          996         1079           94  ...   \n",
       "2          833            0          833         1090           83  ...   \n",
       "\n",
       "   B18105_027E  B18105_028E  B18105_029E  B18105_030E  B18105_031E  \\\n",
       "0          354           75           29           46           48   \n",
       "1          875          202           41          161          144   \n",
       "2          979          198           29          169          252   \n",
       "\n",
       "   B18105_032E  B18105_033E  state  county  tract  \n",
       "0           15           33      6      47    503  \n",
       "1           68           76      6      47    504  \n",
       "2           72          180      6      47    505  \n",
       "\n",
       "[3 rows x 36 columns]"
      ]
     },
     "execution_count": 8,
     "metadata": {},
     "output_type": "execute_result"
    }
   ],
   "source": [
    "ambulatory_disability_df.head(3)"
   ]
  },
  {
   "cell_type": "code",
   "execution_count": 9,
   "id": "5100980c-c153-48ec-b430-eda71ce35601",
   "metadata": {},
   "outputs": [],
   "source": [
    "ambulatory_disability_df['total_pop'] = ambulatory_disability_df['B18105_001E']\n",
    "disability_cols = ['B18105_004E', 'B18105_007E', 'B18105_010E', \n",
    "                  'B18105_013E', 'B18105_016E', 'B18105_020E',\n",
    "                   'B18105_023E', 'B18105_026E', 'B18105_029E',\n",
    "                   'B18105_032E'\n",
    "                  ]\n",
    "ambulatory_disability_df['total_disabled'] = ambulatory_disability_df[disability_cols].sum(axis=1)\n",
    "ambulatory_disability_summary = ambulatory_disability_df[['state', 'county', 'tract', 'total_pop', 'total_disabled']]"
   ]
  },
  {
   "cell_type": "code",
   "execution_count": 10,
   "id": "9f3474c8-c8da-4f16-9980-210c2644e8d4",
   "metadata": {},
   "outputs": [
    {
     "data": {
      "text/html": [
       "<div>\n",
       "<style scoped>\n",
       "    .dataframe tbody tr th:only-of-type {\n",
       "        vertical-align: middle;\n",
       "    }\n",
       "\n",
       "    .dataframe tbody tr th {\n",
       "        vertical-align: top;\n",
       "    }\n",
       "\n",
       "    .dataframe thead th {\n",
       "        text-align: right;\n",
       "    }\n",
       "</style>\n",
       "<table border=\"1\" class=\"dataframe\">\n",
       "  <thead>\n",
       "    <tr style=\"text-align: right;\">\n",
       "      <th></th>\n",
       "      <th>state</th>\n",
       "      <th>county</th>\n",
       "      <th>tract</th>\n",
       "      <th>total_pop</th>\n",
       "      <th>total_disabled</th>\n",
       "    </tr>\n",
       "  </thead>\n",
       "  <tbody>\n",
       "    <tr>\n",
       "      <th>0</th>\n",
       "      <td>6</td>\n",
       "      <td>47</td>\n",
       "      <td>503</td>\n",
       "      <td>1901</td>\n",
       "      <td>180</td>\n",
       "    </tr>\n",
       "    <tr>\n",
       "      <th>1</th>\n",
       "      <td>6</td>\n",
       "      <td>47</td>\n",
       "      <td>504</td>\n",
       "      <td>6111</td>\n",
       "      <td>423</td>\n",
       "    </tr>\n",
       "    <tr>\n",
       "      <th>2</th>\n",
       "      <td>6</td>\n",
       "      <td>47</td>\n",
       "      <td>505</td>\n",
       "      <td>6099</td>\n",
       "      <td>387</td>\n",
       "    </tr>\n",
       "  </tbody>\n",
       "</table>\n",
       "</div>"
      ],
      "text/plain": [
       "   state  county  tract  total_pop  total_disabled\n",
       "0      6      47    503       1901             180\n",
       "1      6      47    504       6111             423\n",
       "2      6      47    505       6099             387"
      ]
     },
     "execution_count": 10,
     "metadata": {},
     "output_type": "execute_result"
    }
   ],
   "source": [
    "ambulatory_disability_summary.head(3)"
   ]
  },
  {
   "cell_type": "markdown",
   "id": "5771663b-f767-4f0f-913a-5ca198f7457b",
   "metadata": {},
   "source": [
    "## Block Group Pop"
   ]
  },
  {
   "cell_type": "code",
   "execution_count": 11,
   "id": "443a9f62-408c-4b92-9acd-ef9fe13f3a91",
   "metadata": {},
   "outputs": [],
   "source": [
    "total_pop_var = 'B01001_001E'"
   ]
  },
  {
   "cell_type": "code",
   "execution_count": 12,
   "id": "ef4ac711-c80a-48a7-acab-7ca9da1f1adc",
   "metadata": {},
   "outputs": [],
   "source": [
    "blockgrp_pop = get_census_ca_counties(total_pop_var, 'block%20group')"
   ]
  },
  {
   "cell_type": "code",
   "execution_count": 13,
   "id": "486efb7b-66c3-42a7-adc1-1d2a729d4ca8",
   "metadata": {},
   "outputs": [],
   "source": [
    "blockgrp_pop = blockgrp_pop.rename(columns={'B01001_001E': 'block_grp_pop'})"
   ]
  },
  {
   "cell_type": "code",
   "execution_count": 14,
   "id": "654034e5-8188-4554-95bb-d90b24755b67",
   "metadata": {},
   "outputs": [
    {
     "data": {
      "text/html": [
       "<div>\n",
       "<style scoped>\n",
       "    .dataframe tbody tr th:only-of-type {\n",
       "        vertical-align: middle;\n",
       "    }\n",
       "\n",
       "    .dataframe tbody tr th {\n",
       "        vertical-align: top;\n",
       "    }\n",
       "\n",
       "    .dataframe thead th {\n",
       "        text-align: right;\n",
       "    }\n",
       "</style>\n",
       "<table border=\"1\" class=\"dataframe\">\n",
       "  <thead>\n",
       "    <tr style=\"text-align: right;\">\n",
       "      <th></th>\n",
       "      <th>block_grp_pop</th>\n",
       "      <th>state</th>\n",
       "      <th>county</th>\n",
       "      <th>tract</th>\n",
       "      <th>block group</th>\n",
       "    </tr>\n",
       "  </thead>\n",
       "  <tbody>\n",
       "    <tr>\n",
       "      <th>0</th>\n",
       "      <td>1388</td>\n",
       "      <td>6</td>\n",
       "      <td>47</td>\n",
       "      <td>1200</td>\n",
       "      <td>2</td>\n",
       "    </tr>\n",
       "    <tr>\n",
       "      <th>1</th>\n",
       "      <td>1531</td>\n",
       "      <td>6</td>\n",
       "      <td>47</td>\n",
       "      <td>1200</td>\n",
       "      <td>4</td>\n",
       "    </tr>\n",
       "    <tr>\n",
       "      <th>2</th>\n",
       "      <td>1405</td>\n",
       "      <td>6</td>\n",
       "      <td>47</td>\n",
       "      <td>1200</td>\n",
       "      <td>1</td>\n",
       "    </tr>\n",
       "  </tbody>\n",
       "</table>\n",
       "</div>"
      ],
      "text/plain": [
       "   block_grp_pop  state  county  tract  block group\n",
       "0           1388      6      47   1200            2\n",
       "1           1531      6      47   1200            4\n",
       "2           1405      6      47   1200            1"
      ]
     },
     "execution_count": 14,
     "metadata": {},
     "output_type": "execute_result"
    }
   ],
   "source": [
    "blockgrp_pop.head(3)"
   ]
  },
  {
   "cell_type": "code",
   "execution_count": 15,
   "id": "b33c6133-daae-48cb-980c-898a9134bf55",
   "metadata": {},
   "outputs": [],
   "source": [
    "census_joined = blockgrp_pop >> inner_join(_, ambulatory_disability_summary, on=['county', 'tract'])"
   ]
  },
  {
   "cell_type": "code",
   "execution_count": 16,
   "id": "ee1f370d-9bc4-43a6-8582-36553cc70417",
   "metadata": {},
   "outputs": [
    {
     "data": {
      "text/html": [
       "<div>\n",
       "<style scoped>\n",
       "    .dataframe tbody tr th:only-of-type {\n",
       "        vertical-align: middle;\n",
       "    }\n",
       "\n",
       "    .dataframe tbody tr th {\n",
       "        vertical-align: top;\n",
       "    }\n",
       "\n",
       "    .dataframe thead th {\n",
       "        text-align: right;\n",
       "    }\n",
       "</style>\n",
       "<table border=\"1\" class=\"dataframe\">\n",
       "  <thead>\n",
       "    <tr style=\"text-align: right;\">\n",
       "      <th></th>\n",
       "      <th>block_grp_pop</th>\n",
       "      <th>state_x</th>\n",
       "      <th>county</th>\n",
       "      <th>tract</th>\n",
       "      <th>block group</th>\n",
       "      <th>state_y</th>\n",
       "      <th>total_pop</th>\n",
       "      <th>total_disabled</th>\n",
       "    </tr>\n",
       "  </thead>\n",
       "  <tbody>\n",
       "    <tr>\n",
       "      <th>0</th>\n",
       "      <td>1388</td>\n",
       "      <td>6</td>\n",
       "      <td>47</td>\n",
       "      <td>1200</td>\n",
       "      <td>2</td>\n",
       "      <td>6</td>\n",
       "      <td>5012</td>\n",
       "      <td>428</td>\n",
       "    </tr>\n",
       "    <tr>\n",
       "      <th>1</th>\n",
       "      <td>1531</td>\n",
       "      <td>6</td>\n",
       "      <td>47</td>\n",
       "      <td>1200</td>\n",
       "      <td>4</td>\n",
       "      <td>6</td>\n",
       "      <td>5012</td>\n",
       "      <td>428</td>\n",
       "    </tr>\n",
       "    <tr>\n",
       "      <th>2</th>\n",
       "      <td>1405</td>\n",
       "      <td>6</td>\n",
       "      <td>47</td>\n",
       "      <td>1200</td>\n",
       "      <td>1</td>\n",
       "      <td>6</td>\n",
       "      <td>5012</td>\n",
       "      <td>428</td>\n",
       "    </tr>\n",
       "  </tbody>\n",
       "</table>\n",
       "</div>"
      ],
      "text/plain": [
       "   block_grp_pop  state_x  county  tract  block group  state_y  total_pop  \\\n",
       "0           1388        6      47   1200            2        6       5012   \n",
       "1           1531        6      47   1200            4        6       5012   \n",
       "2           1405        6      47   1200            1        6       5012   \n",
       "\n",
       "   total_disabled  \n",
       "0             428  \n",
       "1             428  \n",
       "2             428  "
      ]
     },
     "execution_count": 16,
     "metadata": {},
     "output_type": "execute_result"
    }
   ],
   "source": [
    "census_joined.head(3)"
   ]
  },
  {
   "cell_type": "code",
   "execution_count": 17,
   "id": "049c2f06-a0e4-4244-bf98-ae11ea034e0b",
   "metadata": {},
   "outputs": [],
   "source": [
    "census_joined['pct_disabled'] = census_joined['total_disabled'] / census_joined['total_pop']\n",
    "census_joined['block_grp_disabled_est'] = (census_joined['block_grp_pop'] * census_joined['pct_disabled']).round(0)\n",
    "census_joined = census_joined.dropna()\n",
    "census_joined['block_grp_disabled_est'] = census_joined['block_grp_disabled_est'].astype('int64')"
   ]
  },
  {
   "cell_type": "code",
   "execution_count": 18,
   "id": "b5ec83a1-e68e-4f29-95b0-5e3ccfcffddf",
   "metadata": {},
   "outputs": [
    {
     "data": {
      "text/html": [
       "<div>\n",
       "<style scoped>\n",
       "    .dataframe tbody tr th:only-of-type {\n",
       "        vertical-align: middle;\n",
       "    }\n",
       "\n",
       "    .dataframe tbody tr th {\n",
       "        vertical-align: top;\n",
       "    }\n",
       "\n",
       "    .dataframe thead th {\n",
       "        text-align: right;\n",
       "    }\n",
       "</style>\n",
       "<table border=\"1\" class=\"dataframe\">\n",
       "  <thead>\n",
       "    <tr style=\"text-align: right;\">\n",
       "      <th></th>\n",
       "      <th>block_grp_pop</th>\n",
       "      <th>state_x</th>\n",
       "      <th>county</th>\n",
       "      <th>tract</th>\n",
       "      <th>block group</th>\n",
       "      <th>state_y</th>\n",
       "      <th>total_pop</th>\n",
       "      <th>total_disabled</th>\n",
       "      <th>pct_disabled</th>\n",
       "      <th>block_grp_disabled_est</th>\n",
       "    </tr>\n",
       "  </thead>\n",
       "  <tbody>\n",
       "    <tr>\n",
       "      <th>0</th>\n",
       "      <td>1388</td>\n",
       "      <td>6</td>\n",
       "      <td>47</td>\n",
       "      <td>1200</td>\n",
       "      <td>2</td>\n",
       "      <td>6</td>\n",
       "      <td>5012</td>\n",
       "      <td>428</td>\n",
       "      <td>0.085395</td>\n",
       "      <td>119</td>\n",
       "    </tr>\n",
       "    <tr>\n",
       "      <th>1</th>\n",
       "      <td>1531</td>\n",
       "      <td>6</td>\n",
       "      <td>47</td>\n",
       "      <td>1200</td>\n",
       "      <td>4</td>\n",
       "      <td>6</td>\n",
       "      <td>5012</td>\n",
       "      <td>428</td>\n",
       "      <td>0.085395</td>\n",
       "      <td>131</td>\n",
       "    </tr>\n",
       "    <tr>\n",
       "      <th>2</th>\n",
       "      <td>1405</td>\n",
       "      <td>6</td>\n",
       "      <td>47</td>\n",
       "      <td>1200</td>\n",
       "      <td>1</td>\n",
       "      <td>6</td>\n",
       "      <td>5012</td>\n",
       "      <td>428</td>\n",
       "      <td>0.085395</td>\n",
       "      <td>120</td>\n",
       "    </tr>\n",
       "  </tbody>\n",
       "</table>\n",
       "</div>"
      ],
      "text/plain": [
       "   block_grp_pop  state_x  county  tract  block group  state_y  total_pop  \\\n",
       "0           1388        6      47   1200            2        6       5012   \n",
       "1           1531        6      47   1200            4        6       5012   \n",
       "2           1405        6      47   1200            1        6       5012   \n",
       "\n",
       "   total_disabled  pct_disabled  block_grp_disabled_est  \n",
       "0             428      0.085395                     119  \n",
       "1             428      0.085395                     131  \n",
       "2             428      0.085395                     120  "
      ]
     },
     "execution_count": 18,
     "metadata": {},
     "output_type": "execute_result"
    }
   ],
   "source": [
    "census_joined.head(3)"
   ]
  },
  {
   "cell_type": "code",
   "execution_count": 19,
   "id": "a1e61c42-23dd-4529-895f-b8641c9e9afd",
   "metadata": {},
   "outputs": [],
   "source": [
    "## .25mi buffer on each accessible stop served by an accessible trip\n",
    "accessible_stops_trips.geometry = accessible_stops_trips.buffer(400)"
   ]
  }
 ],
 "metadata": {
  "kernelspec": {
   "display_name": "Python 3 (ipykernel)",
   "language": "python",
   "name": "python3"
  },
  "language_info": {
   "codemirror_mode": {
    "name": "ipython",
    "version": 3
   },
   "file_extension": ".py",
   "mimetype": "text/x-python",
   "name": "python",
   "nbconvert_exporter": "python",
   "pygments_lexer": "ipython3",
   "version": "3.9.7"
  }
 },
 "nbformat": 4,
 "nbformat_minor": 5
}
