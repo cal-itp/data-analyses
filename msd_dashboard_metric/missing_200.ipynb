{
 "cells": [
  {
   "cell_type": "markdown",
   "id": "67b1058f-2a94-483d-8a82-26137b8331db",
   "metadata": {},
   "source": [
    "# Why ITP_ID 200 isn't showing up"
   ]
  },
  {
   "cell_type": "code",
   "execution_count": 1,
   "id": "257462e4-19ea-4448-9412-12d359820104",
   "metadata": {},
   "outputs": [
    {
     "name": "stderr",
     "output_type": "stream",
     "text": [
      "/opt/conda/lib/python3.9/site-packages/geopandas/_compat.py:111: UserWarning: The Shapely GEOS version (3.9.1-CAPI-1.14.2) is incompatible with the GEOS version PyGEOS was compiled with (3.10.1-CAPI-1.16.0). Conversions between both will be slow.\n",
      "  warnings.warn(\n"
     ]
    }
   ],
   "source": [
    "import pandas as pd\n",
    "import os\n",
    "#os.environ[\"CALITP_BQ_MAX_BYTES\"] = str(100_000_000_000)\n",
    "\n",
    "import calitp\n",
    "from calitp.tables import tbl\n",
    "from siuba import *"
   ]
  },
  {
   "cell_type": "code",
   "execution_count": 3,
   "id": "88bae7d5-939e-47b6-8268-47519660290d",
   "metadata": {},
   "outputs": [
    {
     "data": {
      "text/html": [
       "<div>\n",
       "<style scoped>\n",
       "    .dataframe tbody tr th:only-of-type {\n",
       "        vertical-align: middle;\n",
       "    }\n",
       "\n",
       "    .dataframe tbody tr th {\n",
       "        vertical-align: top;\n",
       "    }\n",
       "\n",
       "    .dataframe thead th {\n",
       "        text-align: right;\n",
       "    }\n",
       "</style>\n",
       "<table border=\"1\" class=\"dataframe\">\n",
       "  <thead>\n",
       "    <tr style=\"text-align: right;\">\n",
       "      <th></th>\n",
       "      <th>calitp_itp_id</th>\n",
       "      <th>calitp_url_number</th>\n",
       "      <th>stop_id</th>\n",
       "      <th>tts_stop_name</th>\n",
       "      <th>stop_lat</th>\n",
       "      <th>stop_lon</th>\n",
       "      <th>zone_id</th>\n",
       "      <th>parent_station</th>\n",
       "      <th>stop_code</th>\n",
       "      <th>stop_name</th>\n",
       "      <th>stop_desc</th>\n",
       "      <th>stop_url</th>\n",
       "      <th>location_type</th>\n",
       "      <th>stop_timezone</th>\n",
       "      <th>wheelchair_boarding</th>\n",
       "      <th>level_id</th>\n",
       "      <th>platform_code</th>\n",
       "      <th>calitp_extracted_at</th>\n",
       "    </tr>\n",
       "  </thead>\n",
       "  <tbody>\n",
       "  </tbody>\n",
       "</table>\n",
       "</div>"
      ],
      "text/plain": [
       "Empty DataFrame\n",
       "Columns: [calitp_itp_id, calitp_url_number, stop_id, tts_stop_name, stop_lat, stop_lon, zone_id, parent_station, stop_code, stop_name, stop_desc, stop_url, location_type, stop_timezone, wheelchair_boarding, level_id, platform_code, calitp_extracted_at]\n",
       "Index: []"
      ]
     },
     "execution_count": 3,
     "metadata": {},
     "output_type": "execute_result"
    }
   ],
   "source": [
    "(tbl.gtfs_schedule.stops()\n",
    "# unique on itp_id and url_number\n",
    "# but there are handful of agencies where same stop has multiple url's\n",
    " >> filter(_.calitp_itp_id == 200)\n",
    " >> arrange(_.calitp_itp_id, _.stop_id, _.calitp_url_number)\n",
    " >> collect()\n",
    ")"
   ]
  },
  {
   "cell_type": "code",
   "execution_count": 4,
   "id": "6e3abf81-43a8-41af-8f71-4c956268706e",
   "metadata": {},
   "outputs": [
    {
     "data": {
      "text/html": [
       "<div>\n",
       "<style scoped>\n",
       "    .dataframe tbody tr th:only-of-type {\n",
       "        vertical-align: middle;\n",
       "    }\n",
       "\n",
       "    .dataframe tbody tr th {\n",
       "        vertical-align: top;\n",
       "    }\n",
       "\n",
       "    .dataframe thead th {\n",
       "        text-align: right;\n",
       "    }\n",
       "</style>\n",
       "<table border=\"1\" class=\"dataframe\">\n",
       "  <thead>\n",
       "    <tr style=\"text-align: right;\">\n",
       "      <th></th>\n",
       "      <th>calitp_itp_id</th>\n",
       "      <th>calitp_url_number</th>\n",
       "      <th>route_id</th>\n",
       "      <th>service_id</th>\n",
       "      <th>trip_id</th>\n",
       "      <th>shape_id</th>\n",
       "      <th>trip_headsign</th>\n",
       "      <th>trip_short_name</th>\n",
       "      <th>direction_id</th>\n",
       "      <th>block_id</th>\n",
       "      <th>wheelchair_accessible</th>\n",
       "      <th>bikes_allowed</th>\n",
       "      <th>calitp_extracted_at</th>\n",
       "    </tr>\n",
       "  </thead>\n",
       "  <tbody>\n",
       "  </tbody>\n",
       "</table>\n",
       "</div>"
      ],
      "text/plain": [
       "Empty DataFrame\n",
       "Columns: [calitp_itp_id, calitp_url_number, route_id, service_id, trip_id, shape_id, trip_headsign, trip_short_name, direction_id, block_id, wheelchair_accessible, bikes_allowed, calitp_extracted_at]\n",
       "Index: []"
      ]
     },
     "execution_count": 4,
     "metadata": {},
     "output_type": "execute_result"
    }
   ],
   "source": [
    "(tbl.gtfs_schedule.trips()\n",
    "# unique on itp_id and url_number\n",
    "# but there are handful of agencies where same stop has multiple url's\n",
    " >> filter(_.calitp_itp_id == 200)\n",
    " >> arrange(_.calitp_itp_id, _.trip_id, _.calitp_url_number)\n",
    " >> collect()\n",
    ")"
   ]
  },
  {
   "cell_type": "markdown",
   "id": "53315839-be61-437f-8587-90d5cc4a38b2",
   "metadata": {},
   "source": [
    "* Querying doesn't return ITP_ID==200 in `gtfs_schedule`\n",
    "* But, in the `gtfs_schedule_history.calitp_files_updates` tables, the `stops` and `trips` tables are present"
   ]
  },
  {
   "cell_type": "code",
   "execution_count": 14,
   "id": "e08ad122-88db-4ad6-89da-13edb67398f0",
   "metadata": {},
   "outputs": [],
   "source": [
    "selected_files = [\"stops.txt\", \"trips.txt\"]\n",
    "\n",
    "mtc = (\n",
    "    tbl.gtfs_schedule_history.calitp_files_updates()\n",
    "    >> filter(_.calitp_itp_id==200)\n",
    "    >> select(_.calitp_itp_id, _.calitp_url_number, \n",
    "           _.calitp_extracted_at, _.name, _.size)\n",
    "    >> arrange(_.calitp_extracted_at)\n",
    "    >> collect()\n",
    "    >> filter(_.name.isin(selected_files))\n",
    ")\n",
    "\n",
    "mtc = mtc.assign(\n",
    "    date = pd.to_datetime(mtc.calitp_extracted_at)\n",
    ")"
   ]
  },
  {
   "cell_type": "code",
   "execution_count": 12,
   "id": "2c420e0e-4826-4ef5-8b61-d90845d95f81",
   "metadata": {},
   "outputs": [
    {
     "data": {
      "text/html": [
       "<div>\n",
       "<style scoped>\n",
       "    .dataframe tbody tr th:only-of-type {\n",
       "        vertical-align: middle;\n",
       "    }\n",
       "\n",
       "    .dataframe tbody tr th {\n",
       "        vertical-align: top;\n",
       "    }\n",
       "\n",
       "    .dataframe thead th {\n",
       "        text-align: right;\n",
       "    }\n",
       "</style>\n",
       "<table border=\"1\" class=\"dataframe\">\n",
       "  <thead>\n",
       "    <tr style=\"text-align: right;\">\n",
       "      <th></th>\n",
       "      <th>calitp_itp_id</th>\n",
       "      <th>calitp_url_number</th>\n",
       "      <th>calitp_extracted_at</th>\n",
       "      <th>name</th>\n",
       "      <th>size</th>\n",
       "    </tr>\n",
       "  </thead>\n",
       "  <tbody>\n",
       "    <tr>\n",
       "      <th>3</th>\n",
       "      <td>200</td>\n",
       "      <td>0</td>\n",
       "      <td>2021-07-31</td>\n",
       "      <td>stops.txt</td>\n",
       "      <td>1807999</td>\n",
       "    </tr>\n",
       "    <tr>\n",
       "      <th>20</th>\n",
       "      <td>200</td>\n",
       "      <td>0</td>\n",
       "      <td>2021-07-31</td>\n",
       "      <td>trips.txt</td>\n",
       "      <td>4927949</td>\n",
       "    </tr>\n",
       "    <tr>\n",
       "      <th>27</th>\n",
       "      <td>200</td>\n",
       "      <td>0</td>\n",
       "      <td>2021-08-01</td>\n",
       "      <td>stops.txt</td>\n",
       "      <td>1807999</td>\n",
       "    </tr>\n",
       "    <tr>\n",
       "      <th>48</th>\n",
       "      <td>200</td>\n",
       "      <td>0</td>\n",
       "      <td>2021-08-01</td>\n",
       "      <td>trips.txt</td>\n",
       "      <td>4927949</td>\n",
       "    </tr>\n",
       "    <tr>\n",
       "      <th>51</th>\n",
       "      <td>200</td>\n",
       "      <td>0</td>\n",
       "      <td>2021-08-03</td>\n",
       "      <td>stops.txt</td>\n",
       "      <td>1846170</td>\n",
       "    </tr>\n",
       "  </tbody>\n",
       "</table>\n",
       "</div>"
      ],
      "text/plain": [
       "    calitp_itp_id  calitp_url_number calitp_extracted_at       name     size\n",
       "3             200                  0          2021-07-31  stops.txt  1807999\n",
       "20            200                  0          2021-07-31  trips.txt  4927949\n",
       "27            200                  0          2021-08-01  stops.txt  1807999\n",
       "48            200                  0          2021-08-01  trips.txt  4927949\n",
       "51            200                  0          2021-08-03  stops.txt  1846170"
      ]
     },
     "execution_count": 12,
     "metadata": {},
     "output_type": "execute_result"
    }
   ],
   "source": [
    "mtc.head()"
   ]
  },
  {
   "cell_type": "code",
   "execution_count": 16,
   "id": "25ca4bd1-f65b-4e4d-a14b-fc2eaed37aa7",
   "metadata": {},
   "outputs": [
    {
     "name": "stdout",
     "output_type": "stream",
     "text": [
      "min date: 2021-07-31 00:00:00\n",
      "max date: 2021-12-15 00:00:00\n"
     ]
    }
   ],
   "source": [
    "print(f\"min date: {mtc.date.min()}\")\n",
    "print(f\"max date: {mtc.date.max()}\")"
   ]
  },
  {
   "cell_type": "code",
   "execution_count": null,
   "id": "ceae92b4-64c8-442c-9261-c7e50cce517a",
   "metadata": {},
   "outputs": [],
   "source": []
  }
 ],
 "metadata": {
  "kernelspec": {
   "display_name": "Python 3 (ipykernel)",
   "language": "python",
   "name": "python3"
  },
  "language_info": {
   "codemirror_mode": {
    "name": "ipython",
    "version": 3
   },
   "file_extension": ".py",
   "mimetype": "text/x-python",
   "name": "python",
   "nbconvert_exporter": "python",
   "pygments_lexer": "ipython3",
   "version": "3.9.7"
  }
 },
 "nbformat": 4,
 "nbformat_minor": 5
}
