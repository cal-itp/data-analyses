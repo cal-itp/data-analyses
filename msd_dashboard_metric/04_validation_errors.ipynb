{
 "cells": [
  {
   "cell_type": "markdown",
   "id": "ec5613b3-fef8-4db7-8465-c01f180483f7",
   "metadata": {},
   "source": [
    "# Critical Validation Errors\n",
    "\n",
    "[GH issue](https://github.com/cal-itp/data-infra/issues/513)"
   ]
  },
  {
   "cell_type": "code",
   "execution_count": null,
   "id": "177cdf5d-6558-4031-a816-081922fecd3f",
   "metadata": {},
   "outputs": [],
   "source": [
    "import altair as alt\n",
    "import pandas as pd\n",
    "import warnings\n",
    "\n",
    "from datetime import date\n",
    "from IPython.display import Markdown\n",
    "\n",
    "warnings.filterwarnings(\"ignore\")\n",
    "\n",
    "import create_accessibility_data\n",
    "import setup_charts\n",
    "import utils\n",
    "from shared_utils import geography_utils, styleguide\n",
    "from shared_utils import calitp_color_palette as cp\n",
    "\n",
    "display(Markdown(\n",
    "        f\"<b>Report updated / data available through: \"\n",
    "        f\"{date.today().strftime('%m-%d-%Y')}</b>\"\n",
    "    )\n",
    ")"
   ]
  },
  {
   "cell_type": "code",
   "execution_count": null,
   "id": "ba24cae0-f4d9-45d9-ac93-2306b711d31f",
   "metadata": {},
   "outputs": [],
   "source": [
    "validations = pd.read_parquet(f\"{utils.GCS_FILE_PATH}validations.parquet\")"
   ]
  },
  {
   "cell_type": "code",
   "execution_count": null,
   "id": "406b5466-eda0-423e-bcf4-98678c1ae428",
   "metadata": {},
   "outputs": [],
   "source": [
    "## Note:\n",
    "# 1st df is by feed (comes from warehouse_queries)\n",
    "# 2nd df is aggregated to date to get aggregate stats about % feeds with no errors\n",
    "# 3rd df will need to be aggregated to date-code\n",
    "def aggregate_no_critical_errors(df):\n",
    "    \n",
    "    df2 = (geography_utils.aggregate_by_geography(\n",
    "        df[df.critical_errors==0],\n",
    "        group_cols = [\"date\", \"total_feeds\", \"num_unique_errors\"],\n",
    "        nunique_cols = [\"feed_key\"]\n",
    "        )\n",
    "    )\n",
    "\n",
    "    df2 = df2.assign(\n",
    "        pct_no_errors = round(df2.feed_key.divide(df2.total_feeds), 3)\n",
    "    ).rename(columns = {\"feed_key\": \"feeds\"})\n",
    "    \n",
    "    return df2\n",
    "\n",
    "\n",
    "def aggregate_error_types(df):\n",
    "    keep_cols = [\"date\", \"num_unique_errors\"]\n",
    "    df2 = (df[df.code.notna()][keep_cols]\n",
    "          .drop_duplicates()\n",
    "          .reset_index(drop=True)\n",
    "         )\n",
    "    \n",
    "    return df2\n",
    "\n"
   ]
  },
  {
   "cell_type": "code",
   "execution_count": null,
   "id": "79cc9afc-4eb4-45ca-87eb-cca23fe3485e",
   "metadata": {},
   "outputs": [],
   "source": [
    "no_errors = aggregate_no_critical_errors(validations)\n",
    "unique_errors = aggregate_error_types(validations)"
   ]
  },
  {
   "cell_type": "code",
   "execution_count": null,
   "id": "32dfd609-b6c9-4bb9-b50d-67d246078651",
   "metadata": {},
   "outputs": [],
   "source": [
    "chart = setup_charts.base_line_chart(no_errors)\n",
    "chart = setup_charts.add_tooltip(chart, \"feeds\")             \n",
    "chart = (chart\n",
    "         .encode(\n",
    "             y=alt.Y(\"feeds:Q\", title=\"# feeds\"),\n",
    "             color=alt.value(cp.CALITP_CATEGORY_BRIGHT_COLORS[0]),\n",
    "         ).properties(title=\"# Feeds with No Critical Errors\")\n",
    "        )\n",
    "\n",
    "chart = styleguide.preset_chart_config(chart)\n",
    "display(chart)"
   ]
  },
  {
   "cell_type": "code",
   "execution_count": null,
   "id": "4b22d44b-eff8-4399-aa92-e13f727d4037",
   "metadata": {},
   "outputs": [],
   "source": [
    "chart = setup_charts.base_line_chart(no_errors)\n",
    "chart = setup_charts.add_tooltip(chart, \"pct_no_errors\")\n",
    "\n",
    "chart = (chart\n",
    "         .encode(\n",
    "             y=alt.Y(\"pct_no_errors:Q\", title=\"% feeds\", \n",
    "                    axis=alt.Axis(format=\"%\")),\n",
    "             color=alt.value(cp.CALITP_CATEGORY_BRIGHT_COLORS[0]),\n",
    "         ).properties(title=\"% Feeds with No Critical Errors\")\n",
    "        )\n",
    "\n",
    "chart = styleguide.preset_chart_config(chart)\n",
    "display(chart)"
   ]
  },
  {
   "cell_type": "code",
   "execution_count": null,
   "id": "ce7b0feb-c81d-4920-97bc-a92899e56b2c",
   "metadata": {},
   "outputs": [],
   "source": [
    "chart = setup_charts.base_line_chart(unique_errors)\n",
    "chart = setup_charts.add_tooltip(chart, \"num_unique_errors\")\n",
    "\n",
    "chart = (chart\n",
    "         .encode(\n",
    "             y=alt.Y(\"num_unique_errors:Q\", title=\"# Unique Errors\"),\n",
    "             color=alt.value(cp.CALITP_CATEGORY_BRIGHT_COLORS[0]),\n",
    "         ).properties(title=\"Unique Validation Errors Across Feeds\")\n",
    "        )\n",
    "\n",
    "chart = styleguide.preset_chart_config(chart)\n",
    "display(chart)"
   ]
  },
  {
   "cell_type": "code",
   "execution_count": null,
   "id": "6abe60d6-f109-411f-9ff4-7fa40c3cc26a",
   "metadata": {},
   "outputs": [],
   "source": [
    "# For each day, get the number of unique feeds that have a certain error\n",
    "# Then for that day-code, calculate % error\n",
    "errors_by_type = geography_utils.aggregate_by_geography(\n",
    "    validations,\n",
    "    group_cols = [\"date\", \"code\", \"total_feeds\"],\n",
    "    nunique_cols = [\"feed_key\"]\n",
    ")\n",
    "\n",
    "errors_by_type = errors_by_type.assign(\n",
    "    pct_error = round(errors_by_type.feed_key.divide(errors_by_type.total_feeds), 3)\n",
    ")\n",
    "\n",
    "# Get the top 10 errors\n",
    "top_errors = (errors_by_type.groupby([\"code\"])\n",
    "              .agg({\"feed_key\": \"sum\"})\n",
    "              .reset_index()\n",
    "              .sort_values(\"feed_key\", ascending=False)\n",
    "              .reset_index(drop=True)\n",
    ")\n",
    "\n",
    "TOP_ERRORS = list(top_errors.code.iloc[:15])"
   ]
  },
  {
   "cell_type": "code",
   "execution_count": null,
   "id": "6d29e8f7-bd45-4486-a05b-c98976f55a35",
   "metadata": {},
   "outputs": [],
   "source": [
    "# Select from legend: https://altair-viz.github.io/gallery/interactive_legend.html\n",
    "# Combine hover and click selection\n",
    "# https://stackoverflow.com/questions/66108224/combine-hover-and-click-selections-in-altair\n",
    "\n",
    "chart = setup_charts.base_line_chart(errors_by_type[\n",
    "    errors_by_type.code.isin(TOP_ERRORS)])\n",
    "chart = setup_charts.add_tooltip(chart, \"pct_error\")\n",
    "\n",
    "#single_line = alt.selection_single(fields=['code'], bind='legend')\n",
    "selection = alt.selection_multi(fields=['code'], bind='legend')\n",
    "\n",
    "chart = (chart\n",
    "         .encode(\n",
    "             y=alt.Y(\"pct_error:Q\", title=\"% feeds\", axis=alt.Axis(format=\"%\")),\n",
    "             color=alt.Color(\"code:N\", title=\"Validation Error\", \n",
    "                             scale=alt.Scale(range=cp.CALITP_CATEGORY_BRIGHT_COLORS)),\n",
    "             opacity=alt.condition(selection, alt.value(1), alt.value(0.2)),\n",
    "             tooltip=[\"date\", \"pct_error\", \"code\"],\n",
    "         ).properties(title=\"% Daily Feeds by Critical Validation Error Types\")\n",
    "         .add_selection(selection)\n",
    ")\n",
    "\n",
    "chart = styleguide.preset_chart_config(chart)\n",
    "\n",
    "display(chart)"
   ]
  },
  {
   "cell_type": "code",
   "execution_count": null,
   "id": "463328c1-07b1-45a9-b489-baab7dd4626d",
   "metadata": {},
   "outputs": [],
   "source": []
  }
 ],
 "metadata": {
  "kernelspec": {
   "display_name": "Python 3 (ipykernel)",
   "language": "python",
   "name": "python3"
  },
  "language_info": {
   "codemirror_mode": {
    "name": "ipython",
    "version": 3
   },
   "file_extension": ".py",
   "mimetype": "text/x-python",
   "name": "python",
   "nbconvert_exporter": "python",
   "pygments_lexer": "ipython3",
   "version": "3.9.7"
  }
 },
 "nbformat": 4,
 "nbformat_minor": 5
}
