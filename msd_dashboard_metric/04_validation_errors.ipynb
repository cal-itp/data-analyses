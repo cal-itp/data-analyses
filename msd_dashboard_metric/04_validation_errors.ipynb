{
 "cells": [
  {
   "cell_type": "markdown",
   "id": "ec5613b3-fef8-4db7-8465-c01f180483f7",
   "metadata": {},
   "source": [
    "# Feeds with No Critical Validation Errors\n",
    "\n",
    "Ref: [GH issue](https://github.com/cal-itp/data-infra/issues/513)\n",
    "\n",
    "Since the amount of validation errors can vary wildly from feed-to-feed, I think we should just count a feed if the amount of validation errors that Cal-ITP considers critical are 0 errors for a feed. For static GTFS, the list of validation errors are included in the `views.validation_fact_daily_feed_notices`. You'll want to group the notices by day and filter out the codes that are **not** included in the `views.validation_code_descriptions table`. The feeds that have 0 count of validation errors should be added to the overall count.\n",
    "\n",
    "### Findings\n",
    "For this one we should do 3 graphs as follows: \n",
    "1. Static GTFS errors \n",
    "1. GTFS-RT errors \n",
    "1. Static + GTFS-RT \n",
    "\n",
    "The GTFS-RT aspect of this is blocked until the pipeline to validate GTFS-RT has been completed."
   ]
  },
  {
   "cell_type": "code",
   "execution_count": 1,
   "id": "177cdf5d-6558-4031-a816-081922fecd3f",
   "metadata": {},
   "outputs": [
    {
     "name": "stderr",
     "output_type": "stream",
     "text": [
      "/opt/conda/lib/python3.9/site-packages/geopandas/_compat.py:111: UserWarning: The Shapely GEOS version (3.9.1-CAPI-1.14.2) is incompatible with the GEOS version PyGEOS was compiled with (3.10.1-CAPI-1.16.0). Conversions between both will be slow.\n",
      "  warnings.warn(\n"
     ]
    },
    {
     "data": {
      "text/plain": [
       "RendererRegistry.enable('altair_saver')"
      ]
     },
     "execution_count": 1,
     "metadata": {},
     "output_type": "execute_result"
    }
   ],
   "source": [
    "import altair as alt\n",
    "import pandas as pd\n",
    "import os\n",
    "os.environ[\"CALITP_BQ_MAX_BYTES\"] = str(100_000_000_000)\n",
    "\n",
    "import calitp\n",
    "from calitp.tables import tbl\n",
    "from siuba import *\n",
    "\n",
    "from shared_utils import altair_utils\n",
    "from shared_utils import geography_utils\n",
    "\n",
    "alt.themes.enable(\"fivethirtyeight\")\n",
    "alt.renderers.enable('altair_saver', fmts=['png'])"
   ]
  },
  {
   "cell_type": "code",
   "execution_count": 2,
   "id": "7c119ec9-226f-4eec-af38-562c61f74907",
   "metadata": {},
   "outputs": [],
   "source": [
    "'''\n",
    "code_descriptions = (tbl.views.validation_code_descriptions()\n",
    " >> collect()\n",
    ")\n",
    "\n",
    "code_descriptions.to_parquet(\"./validation_code_descriptions.parquet\")\n",
    "'''\n",
    "code_descriptions = pd.read_parquet(\"./validation_code_descriptions.parquet\")"
   ]
  },
  {
   "cell_type": "code",
   "execution_count": 3,
   "id": "5aaf1c2e-3867-4f58-b853-c5afc647957e",
   "metadata": {},
   "outputs": [
    {
     "data": {
      "text/plain": [
       "Series([], Name: critical_for_reporting, dtype: int64)"
      ]
     },
     "execution_count": 3,
     "metadata": {},
     "output_type": "execute_result"
    }
   ],
   "source": [
    "# All of these are critical for reporting...52 errors total\n",
    "code_descriptions.critical_for_reporting.value_counts()"
   ]
  },
  {
   "cell_type": "code",
   "execution_count": 4,
   "id": "7b8d73dd-e4b3-4d02-bff9-670535eb2fcd",
   "metadata": {},
   "outputs": [],
   "source": [
    "critical_errors = list(code_descriptions.code.unique())\n",
    "\n",
    "'''\n",
    "daily_validations = (\n",
    "    tbl.views.validation_fact_daily_feed_notices()\n",
    "    >> distinct(_.feed_key, _.calitp_itp_id, _.calitp_url_number,\n",
    "                _.date, _.code)\n",
    "    >> collect()\n",
    "    >> filter(_.code.isin(critical_errors))\n",
    ")\n",
    "\n",
    "daily_validations.to_parquet(\"./daily_validations.parquet\")\n",
    "\n",
    "# Show number of errors within operator\n",
    "# Earlier df shows across errors, capturing distinct errors\n",
    "num_errors = (\n",
    "    tbl.views.validation_fact_daily_feed_notices()\n",
    "    >> group_by(_.feed_key, _.calitp_itp_id, _.calitp_url_number,\n",
    "                _.date, _.code)\n",
    "    >> count(_.code)\n",
    "    >> collect()\n",
    "    >> filter(_.code.isin(critical_errors))\n",
    ")\n",
    "\n",
    "num_errors.to_parquet(\"./num_errors.parquet\")\n",
    "'''\n",
    "\n",
    "daily_validations = pd.read_parquet(\"./daily_validations.parquet\")\n",
    "num_errors = pd.read_parquet(\"./num_errors.parquet\")"
   ]
  },
  {
   "cell_type": "code",
   "execution_count": 5,
   "id": "edd931ae-986a-4c4e-b924-8827d4a6d584",
   "metadata": {},
   "outputs": [
    {
     "data": {
      "text/html": [
       "<div>\n",
       "<style scoped>\n",
       "    .dataframe tbody tr th:only-of-type {\n",
       "        vertical-align: middle;\n",
       "    }\n",
       "\n",
       "    .dataframe tbody tr th {\n",
       "        vertical-align: top;\n",
       "    }\n",
       "\n",
       "    .dataframe thead th {\n",
       "        text-align: right;\n",
       "    }\n",
       "</style>\n",
       "<table border=\"1\" class=\"dataframe\">\n",
       "  <thead>\n",
       "    <tr style=\"text-align: right;\">\n",
       "      <th></th>\n",
       "      <th>feed_key</th>\n",
       "      <th>calitp_itp_id</th>\n",
       "      <th>calitp_url_number</th>\n",
       "      <th>date</th>\n",
       "      <th>code</th>\n",
       "      <th>num_errors</th>\n",
       "    </tr>\n",
       "  </thead>\n",
       "  <tbody>\n",
       "    <tr>\n",
       "      <th>0</th>\n",
       "      <td>-7847305992506683453</td>\n",
       "      <td>48</td>\n",
       "      <td>0</td>\n",
       "      <td>2021-05-29</td>\n",
       "      <td>stop_time_timepoint_without_times</td>\n",
       "      <td>34422</td>\n",
       "    </tr>\n",
       "    <tr>\n",
       "      <th>1</th>\n",
       "      <td>72313453925071107</td>\n",
       "      <td>120</td>\n",
       "      <td>0</td>\n",
       "      <td>2021-06-08</td>\n",
       "      <td>stop_time_timepoint_without_times</td>\n",
       "      <td>40530</td>\n",
       "    </tr>\n",
       "  </tbody>\n",
       "</table>\n",
       "</div>"
      ],
      "text/plain": [
       "              feed_key  calitp_itp_id  calitp_url_number        date  \\\n",
       "0 -7847305992506683453             48                  0  2021-05-29   \n",
       "1    72313453925071107            120                  0  2021-06-08   \n",
       "\n",
       "                                code  num_errors  \n",
       "0  stop_time_timepoint_without_times       34422  \n",
       "1  stop_time_timepoint_without_times       40530  "
      ]
     },
     "execution_count": 5,
     "metadata": {},
     "output_type": "execute_result"
    }
   ],
   "source": [
    "GROUP_COLS = [\"feed_key\", \"date\", \"calitp_itp_id\", \"calitp_url_number\"]\n",
    "\n",
    "daily_validations = daily_validations.merge(\n",
    "    num_errors.rename(\n",
    "    columns = {\"n\": \"num_errors\"}), \n",
    "    on = GROUP_COLS + [\"code\"],\n",
    "    how = \"inner\",\n",
    "    validate = \"1:1\"\n",
    ")\n",
    "\n",
    "daily_validations.head(2)"
   ]
  },
  {
   "cell_type": "code",
   "execution_count": 6,
   "id": "15b0f290-9a4f-4344-92e9-024f85baef2b",
   "metadata": {},
   "outputs": [
    {
     "data": {
      "text/html": [
       "<div>\n",
       "<style scoped>\n",
       "    .dataframe tbody tr th:only-of-type {\n",
       "        vertical-align: middle;\n",
       "    }\n",
       "\n",
       "    .dataframe tbody tr th {\n",
       "        vertical-align: top;\n",
       "    }\n",
       "\n",
       "    .dataframe thead th {\n",
       "        text-align: right;\n",
       "    }\n",
       "</style>\n",
       "<table border=\"1\" class=\"dataframe\">\n",
       "  <thead>\n",
       "    <tr style=\"text-align: right;\">\n",
       "      <th></th>\n",
       "      <th>feed_key</th>\n",
       "      <th>date</th>\n",
       "      <th>calitp_itp_id</th>\n",
       "      <th>calitp_url_number</th>\n",
       "      <th>num_errors</th>\n",
       "      <th>critical_errors</th>\n",
       "    </tr>\n",
       "  </thead>\n",
       "  <tbody>\n",
       "    <tr>\n",
       "      <th>0</th>\n",
       "      <td>-7847305992506683453</td>\n",
       "      <td>2021-05-29</td>\n",
       "      <td>48</td>\n",
       "      <td>0</td>\n",
       "      <td>34422</td>\n",
       "      <td>1</td>\n",
       "    </tr>\n",
       "    <tr>\n",
       "      <th>1</th>\n",
       "      <td>72313453925071107</td>\n",
       "      <td>2021-06-08</td>\n",
       "      <td>120</td>\n",
       "      <td>0</td>\n",
       "      <td>40532</td>\n",
       "      <td>3</td>\n",
       "    </tr>\n",
       "  </tbody>\n",
       "</table>\n",
       "</div>"
      ],
      "text/plain": [
       "              feed_key        date  calitp_itp_id  calitp_url_number  \\\n",
       "0 -7847305992506683453  2021-05-29             48                  0   \n",
       "1    72313453925071107  2021-06-08            120                  0   \n",
       "\n",
       "   num_errors  critical_errors  \n",
       "0       34422                1  \n",
       "1       40532                3  "
      ]
     },
     "execution_count": 6,
     "metadata": {},
     "output_type": "execute_result"
    }
   ],
   "source": [
    "daily_errors = (\n",
    "    geography_utils.aggregate_by_geography(daily_validations, \n",
    "                                           group_cols = GROUP_COLS,\n",
    "                                           sum_cols = [\"num_errors\"],\n",
    "                                           count_cols = [\"code\"])\n",
    "    .rename(columns = {\"code\": \"critical_errors\"})\n",
    ")\n",
    "\n",
    "daily_errors.head(2)"
   ]
  },
  {
   "cell_type": "code",
   "execution_count": 7,
   "id": "efcff3a0-0c20-43ca-97ae-810cc58bde42",
   "metadata": {},
   "outputs": [],
   "source": [
    "# For a given day, grab all the feeds (exclude info about errors)\n",
    "'''\n",
    "daily_feed = (\n",
    "    tbl.views.validation_fact_daily_feed_notices()\n",
    "    >> distinct(_.feed_key, _.date,\n",
    "                _.calitp_itp_id, _.calitp_url_number,\n",
    "               )\n",
    "    >> collect()\n",
    ")\n",
    "\n",
    "daily_feed.to_parquet(\"./daily_feed.parquet\")\n",
    "'''\n",
    "daily_feed = pd.read_parquet(\"./daily_feed.parquet\")"
   ]
  },
  {
   "cell_type": "code",
   "execution_count": 8,
   "id": "b9de916a-4a21-45d0-9248-6f3d70ba8e3c",
   "metadata": {},
   "outputs": [
    {
     "data": {
      "text/html": [
       "<div>\n",
       "<style scoped>\n",
       "    .dataframe tbody tr th:only-of-type {\n",
       "        vertical-align: middle;\n",
       "    }\n",
       "\n",
       "    .dataframe tbody tr th {\n",
       "        vertical-align: top;\n",
       "    }\n",
       "\n",
       "    .dataframe thead th {\n",
       "        text-align: right;\n",
       "    }\n",
       "</style>\n",
       "<table border=\"1\" class=\"dataframe\">\n",
       "  <thead>\n",
       "    <tr style=\"text-align: right;\">\n",
       "      <th></th>\n",
       "      <th>feed_key</th>\n",
       "      <th>date</th>\n",
       "      <th>calitp_itp_id</th>\n",
       "      <th>calitp_url_number</th>\n",
       "      <th>num_errors</th>\n",
       "      <th>critical_errors</th>\n",
       "      <th>total_feeds</th>\n",
       "    </tr>\n",
       "  </thead>\n",
       "  <tbody>\n",
       "    <tr>\n",
       "      <th>0</th>\n",
       "      <td>-1796609641282825154</td>\n",
       "      <td>2021-09-18</td>\n",
       "      <td>112</td>\n",
       "      <td>0</td>\n",
       "      <td>3619</td>\n",
       "      <td>3</td>\n",
       "      <td>178</td>\n",
       "    </tr>\n",
       "    <tr>\n",
       "      <th>1</th>\n",
       "      <td>7817634405777406718</td>\n",
       "      <td>2021-10-07</td>\n",
       "      <td>284</td>\n",
       "      <td>0</td>\n",
       "      <td>2782</td>\n",
       "      <td>5</td>\n",
       "      <td>177</td>\n",
       "    </tr>\n",
       "    <tr>\n",
       "      <th>2</th>\n",
       "      <td>-1796609641282825154</td>\n",
       "      <td>2021-09-30</td>\n",
       "      <td>112</td>\n",
       "      <td>0</td>\n",
       "      <td>3619</td>\n",
       "      <td>3</td>\n",
       "      <td>177</td>\n",
       "    </tr>\n",
       "    <tr>\n",
       "      <th>3</th>\n",
       "      <td>2508272846412219500</td>\n",
       "      <td>2021-10-28</td>\n",
       "      <td>474</td>\n",
       "      <td>0</td>\n",
       "      <td>15425</td>\n",
       "      <td>2</td>\n",
       "      <td>180</td>\n",
       "    </tr>\n",
       "    <tr>\n",
       "      <th>4</th>\n",
       "      <td>2415344669691788437</td>\n",
       "      <td>2021-10-07</td>\n",
       "      <td>200</td>\n",
       "      <td>0</td>\n",
       "      <td>6486</td>\n",
       "      <td>9</td>\n",
       "      <td>177</td>\n",
       "    </tr>\n",
       "  </tbody>\n",
       "</table>\n",
       "</div>"
      ],
      "text/plain": [
       "              feed_key       date  calitp_itp_id  calitp_url_number  \\\n",
       "0 -1796609641282825154 2021-09-18            112                  0   \n",
       "1  7817634405777406718 2021-10-07            284                  0   \n",
       "2 -1796609641282825154 2021-09-30            112                  0   \n",
       "3  2508272846412219500 2021-10-28            474                  0   \n",
       "4  2415344669691788437 2021-10-07            200                  0   \n",
       "\n",
       "   num_errors  critical_errors  total_feeds  \n",
       "0        3619                3          178  \n",
       "1        2782                5          177  \n",
       "2        3619                3          177  \n",
       "3       15425                2          180  \n",
       "4        6486                9          177  "
      ]
     },
     "execution_count": 8,
     "metadata": {},
     "output_type": "execute_result"
    }
   ],
   "source": [
    "df = pd.merge(\n",
    "    daily_feed,\n",
    "    daily_errors,\n",
    "    on = GROUP_COLS,\n",
    "    how = \"left\",\n",
    "    validate = \"1:m\"\n",
    ")\n",
    "\n",
    "df = df.assign(\n",
    "    critical_errors = df.critical_errors.fillna(0).astype(int),\n",
    "    num_errors = df.num_errors.fillna(0).astype(int),\n",
    "    date = pd.to_datetime(df.date),\n",
    "    total_feeds = df.groupby(\"date\")[\"feed_key\"].transform(\"count\")\n",
    ")\n",
    "\n",
    "df.head()"
   ]
  },
  {
   "cell_type": "markdown",
   "id": "eab041ce-a9f5-4054-beba-a4c2dac0cffa",
   "metadata": {},
   "source": [
    "### Feeds with No Critical Errors"
   ]
  },
  {
   "cell_type": "code",
   "execution_count": 9,
   "id": "2da32261-02ae-428c-b832-d5143cfe5df5",
   "metadata": {},
   "outputs": [],
   "source": [
    "no_errors = (\n",
    "    geography_utils.aggregate_by_geography(\n",
    "        df[df.critical_errors==0],\n",
    "        group_cols = [\"date\"],\n",
    "        nunique_cols = [\"feed_key\"]\n",
    "    )\n",
    ")"
   ]
  },
  {
   "cell_type": "code",
   "execution_count": 10,
   "id": "80b85b89-6750-4ac5-87f7-f7ed26042de9",
   "metadata": {},
   "outputs": [],
   "source": [
    "axis_date_format =\"%-m/%-d/%y\"\n",
    "\n",
    "def base_line_chart(df):\n",
    "    chart = (alt.Chart(df)\n",
    "             .mark_line()\n",
    "             .encode(\n",
    "                 x=alt.X(\"date\", axis=alt.Axis(format=axis_date_format))\n",
    "             )\n",
    "            )\n",
    "    return chart"
   ]
  },
  {
   "cell_type": "code",
   "execution_count": 11,
   "id": "9d674a2f-1496-4d0e-8b2c-9c7267897413",
   "metadata": {},
   "outputs": [],
   "source": [
    "chart = base_line_chart(no_errors)\n",
    "             \n",
    "chart = (chart\n",
    "         .encode(\n",
    "             y=alt.Y(\"feed_key:Q\", title=\"# feeds\"),\n",
    "             color=alt.value(altair_utils.FIVETHIRTYEIGHT_CATEGORY_COLORS[0])\n",
    "         ).properties(title=\"# Feeds with No Critical Errors\")\n",
    "        )\n",
    "\n",
    "chart = altair_utils.preset_chart_config(chart)\n",
    "chart.save(\"./no_errors.png\")"
   ]
  },
  {
   "cell_type": "markdown",
   "id": "99633eab-c933-4353-85b3-d5a00f53c8d2",
   "metadata": {},
   "source": [
    "Sudden drop...why? Is it because feed expired?\n",
    "\n",
    "Also add 2nd chart that is % of feeds with no critical errors."
   ]
  },
  {
   "cell_type": "markdown",
   "id": "6cb1e30d-aa06-400c-b60d-4548b0d507c7",
   "metadata": {},
   "source": [
    "![no_errors](./no_errors.png)"
   ]
  },
  {
   "cell_type": "markdown",
   "id": "1afbbed8-0cfb-4f42-8507-cb5b39249198",
   "metadata": {},
   "source": [
    "### Unique Errors by Day\n",
    "\n",
    "* Total number of unique errors over all the operators.\n",
    "* For each operator, count the number of unique errors. \n",
    "* Sum across the entire day.\n",
    "* Add a chart where it's number of unique error codes across the day (not operator-day)."
   ]
  },
  {
   "cell_type": "code",
   "execution_count": 12,
   "id": "c56e21f0-3931-4629-883b-610a311a1aa5",
   "metadata": {},
   "outputs": [],
   "source": [
    "chart = base_line_chart((df[df.critical_errors > 0]\n",
    "                         .groupby(\"date\")\n",
    "                         .agg({\"critical_errors\": \"sum\"})\n",
    "                         .reset_index()\n",
    "                        ))\n",
    "chart = (chart\n",
    "         .encode(\n",
    "             y=alt.Y(\"critical_errors:Q\", title=\"Total # Unique Errors\"),\n",
    "             color=alt.value(altair_utils.FIVETHIRTYEIGHT_CATEGORY_COLORS[0])\n",
    "         ).properties(title=\"Total Validation Errors Across Operators\")\n",
    "        )\n",
    "\n",
    "chart = altair_utils.preset_chart_config(chart)\n",
    "chart.save(\"./total_validation_errors.png\")"
   ]
  },
  {
   "cell_type": "markdown",
   "id": "faf0df9d-d4dd-4078-b3e9-7770bde01475",
   "metadata": {},
   "source": [
    "![total_unique_errors](./total_validation_errors.png)"
   ]
  },
  {
   "cell_type": "markdown",
   "id": "d159d4ef-f559-4ee7-9dcd-682307fc3df7",
   "metadata": {},
   "source": [
    "### Feeds by Error Type\n",
    "% daily feeds for each type of error"
   ]
  },
  {
   "cell_type": "code",
   "execution_count": 13,
   "id": "75f6e61f-edd2-46a6-96eb-f7ade0b7e44e",
   "metadata": {},
   "outputs": [
    {
     "data": {
      "text/html": [
       "<div>\n",
       "<style scoped>\n",
       "    .dataframe tbody tr th:only-of-type {\n",
       "        vertical-align: middle;\n",
       "    }\n",
       "\n",
       "    .dataframe tbody tr th {\n",
       "        vertical-align: top;\n",
       "    }\n",
       "\n",
       "    .dataframe thead th {\n",
       "        text-align: right;\n",
       "    }\n",
       "</style>\n",
       "<table border=\"1\" class=\"dataframe\">\n",
       "  <thead>\n",
       "    <tr style=\"text-align: right;\">\n",
       "      <th></th>\n",
       "      <th>date</th>\n",
       "      <th>code</th>\n",
       "      <th>num_feeds</th>\n",
       "    </tr>\n",
       "  </thead>\n",
       "  <tbody>\n",
       "    <tr>\n",
       "      <th>0</th>\n",
       "      <td>2021-05-29</td>\n",
       "      <td>stop_time_timepoint_without_times</td>\n",
       "      <td>24</td>\n",
       "    </tr>\n",
       "    <tr>\n",
       "      <th>1</th>\n",
       "      <td>2021-06-08</td>\n",
       "      <td>stop_time_timepoint_without_times</td>\n",
       "      <td>25</td>\n",
       "    </tr>\n",
       "    <tr>\n",
       "      <th>2</th>\n",
       "      <td>2021-09-30</td>\n",
       "      <td>stop_time_timepoint_without_times</td>\n",
       "      <td>22</td>\n",
       "    </tr>\n",
       "    <tr>\n",
       "      <th>3</th>\n",
       "      <td>2021-09-30</td>\n",
       "      <td>decreasing_or_equal_shape_distance</td>\n",
       "      <td>31</td>\n",
       "    </tr>\n",
       "    <tr>\n",
       "      <th>4</th>\n",
       "      <td>2021-06-28</td>\n",
       "      <td>stop_time_timepoint_without_times</td>\n",
       "      <td>23</td>\n",
       "    </tr>\n",
       "  </tbody>\n",
       "</table>\n",
       "</div>"
      ],
      "text/plain": [
       "         date                                code  num_feeds\n",
       "0  2021-05-29   stop_time_timepoint_without_times         24\n",
       "1  2021-06-08   stop_time_timepoint_without_times         25\n",
       "2  2021-09-30   stop_time_timepoint_without_times         22\n",
       "3  2021-09-30  decreasing_or_equal_shape_distance         31\n",
       "4  2021-06-28   stop_time_timepoint_without_times         23"
      ]
     },
     "execution_count": 13,
     "metadata": {},
     "output_type": "execute_result"
    }
   ],
   "source": [
    "errors_by_type = (\n",
    "    geography_utils.aggregate_by_geography(\n",
    "        daily_validations,\n",
    "        group_cols = [\"date\", \"code\"],\n",
    "        nunique_cols = [\"feed_key\"]\n",
    "    ).rename(columns = {\"feed_key\": \"num_feeds\"})\n",
    ")\n",
    "\n",
    "errors_by_type.head()"
   ]
  },
  {
   "cell_type": "code",
   "execution_count": 14,
   "id": "5c1705d5-de94-4171-a2a1-5cb2b0fefda4",
   "metadata": {},
   "outputs": [
    {
     "data": {
      "text/html": [
       "<div>\n",
       "<style scoped>\n",
       "    .dataframe tbody tr th:only-of-type {\n",
       "        vertical-align: middle;\n",
       "    }\n",
       "\n",
       "    .dataframe tbody tr th {\n",
       "        vertical-align: top;\n",
       "    }\n",
       "\n",
       "    .dataframe thead th {\n",
       "        text-align: right;\n",
       "    }\n",
       "</style>\n",
       "<table border=\"1\" class=\"dataframe\">\n",
       "  <thead>\n",
       "    <tr style=\"text-align: right;\">\n",
       "      <th></th>\n",
       "      <th>date</th>\n",
       "      <th>code</th>\n",
       "      <th>num_feeds</th>\n",
       "      <th>total_feeds</th>\n",
       "      <th>pct_error</th>\n",
       "    </tr>\n",
       "  </thead>\n",
       "  <tbody>\n",
       "    <tr>\n",
       "      <th>0</th>\n",
       "      <td>2021-05-29</td>\n",
       "      <td>stop_time_timepoint_without_times</td>\n",
       "      <td>24</td>\n",
       "      <td>175</td>\n",
       "      <td>0.137143</td>\n",
       "    </tr>\n",
       "    <tr>\n",
       "      <th>1</th>\n",
       "      <td>2021-05-29</td>\n",
       "      <td>decreasing_or_equal_shape_distance</td>\n",
       "      <td>28</td>\n",
       "      <td>175</td>\n",
       "      <td>0.160000</td>\n",
       "    </tr>\n",
       "  </tbody>\n",
       "</table>\n",
       "</div>"
      ],
      "text/plain": [
       "        date                                code  num_feeds  total_feeds  \\\n",
       "0 2021-05-29   stop_time_timepoint_without_times         24          175   \n",
       "1 2021-05-29  decreasing_or_equal_shape_distance         28          175   \n",
       "\n",
       "   pct_error  \n",
       "0   0.137143  \n",
       "1   0.160000  "
      ]
     },
     "execution_count": 14,
     "metadata": {},
     "output_type": "execute_result"
    }
   ],
   "source": [
    "errors_by_type2 = pd.merge(\n",
    "    errors_by_type.assign(date = pd.to_datetime(errors_by_type.date)),\n",
    "    df[[\"date\", \"total_feeds\"]].drop_duplicates().reset_index(drop=True), \n",
    "    on = \"date\",\n",
    "    how = \"inner\",\n",
    "    validate = \"m:1\"\n",
    ")\n",
    "\n",
    "errors_by_type2 = errors_by_type2.assign(\n",
    "    pct_error = errors_by_type2.num_feeds.divide(errors_by_type2.total_feeds)\n",
    ")\n",
    "\n",
    "errors_by_type2.head(2)"
   ]
  },
  {
   "cell_type": "code",
   "execution_count": 15,
   "id": "d4376045-9648-4478-bf0a-a2d3d3e79aa5",
   "metadata": {},
   "outputs": [],
   "source": [
    "chart = base_line_chart(errors_by_type2)\n",
    "\n",
    "chart = (chart\n",
    " .encode(\n",
    "     y=alt.Y(\"pct_error:Q\", title=\"% feeds\", axis=alt.Axis(format=\"%\")),\n",
    "     color=alt.Color(\"code:N\", title=\"Validation Error\", \n",
    "                    scale=alt.Scale(range=altair_utils.FIVETHIRTYEIGHT_CATEGORY_COLORS))\n",
    " ).properties(title=\"% Daily Feeds by Critical Validation Error Types\")\n",
    ")\n",
    "\n",
    "chart = (altair_utils.preset_chart_config(chart)\n",
    "        )\n",
    "chart.save(\"./pct_feeds_by_error.png\")"
   ]
  },
  {
   "cell_type": "markdown",
   "id": "27d51a24-1471-42c0-a128-3d173e72e928",
   "metadata": {},
   "source": [
    "![feeds_by_error](./pct_feeds_by_error.png)"
   ]
  },
  {
   "cell_type": "code",
   "execution_count": 16,
   "id": "6f1114e9-009e-4432-a5cc-de5521ed7da0",
   "metadata": {},
   "outputs": [
    {
     "data": {
      "text/plain": [
       "['duplicate_route_name',\n",
       " 'decreasing_or_equal_shape_distance',\n",
       " 'too_fast_travel',\n",
       " 'stop_time_timepoint_without_times',\n",
       " 'duplicate_fare_rule_zone_id_fields',\n",
       " 'feed_expiration_date',\n",
       " 'route_short_name_too_long',\n",
       " 'stop_too_far_from_trip_shape',\n",
       " 'decreasing_or_equal_stop_time_distance',\n",
       " 'same_name_and_description_for_route']"
      ]
     },
     "execution_count": 16,
     "metadata": {},
     "output_type": "execute_result"
    }
   ],
   "source": [
    "# Better chart...pick out the most critical ones and plot those\n",
    "# 52 is too many\n",
    "top_errors = (errors_by_type2.groupby([\"code\"])\n",
    "              .agg({\"num_feeds\": \"sum\"})\n",
    "              .reset_index()\n",
    "              .sort_values(\"num_feeds\", ascending=False)\n",
    "              .reset_index(drop=True)\n",
    ")\n",
    "\n",
    "TOP_ERRORS = list(top_errors.code.iloc[:10])\n",
    "TOP_ERRORS"
   ]
  },
  {
   "cell_type": "code",
   "execution_count": 17,
   "id": "37694674-2e07-46f1-ac27-5b7a31c3d686",
   "metadata": {},
   "outputs": [],
   "source": [
    "chart = base_line_chart(\n",
    "    errors_by_type2[errors_by_type2.code.isin(TOP_ERRORS)])\n",
    "\n",
    "chart = (chart\n",
    " .encode(\n",
    "     y=alt.Y(\"pct_error:Q\", title=\"% feeds\", axis=alt.Axis(format=\"%\")),\n",
    "     color=alt.Color(\"code:N\", title=\"Validation Error\", \n",
    "                    scale=alt.Scale(range=altair_utils.FIVETHIRTYEIGHT_CATEGORY_COLORS))\n",
    " ).properties(title=\"% Daily Feeds by Top 10 Critical Validation Error Types\")\n",
    ")\n",
    "\n",
    "chart = (altair_utils.preset_chart_config(chart)\n",
    "        )\n",
    "\n",
    "chart.save(\"./pct_feeds_by_error_top10.png\")"
   ]
  },
  {
   "cell_type": "markdown",
   "id": "a71681e4-6c1d-41c0-8191-cf8c18134904",
   "metadata": {},
   "source": [
    "![top10_errors](./pct_feeds_by_error_top10.png)"
   ]
  },
  {
   "cell_type": "markdown",
   "id": "be95df4e-e50d-449c-a744-1a6709cc916f",
   "metadata": {},
   "source": [
    "Metabase Q: which feeds are expired? Click on a validation error and see which operators."
   ]
  },
  {
   "cell_type": "code",
   "execution_count": null,
   "id": "7f823846-d896-46e6-bff2-d02545480843",
   "metadata": {},
   "outputs": [],
   "source": []
  }
 ],
 "metadata": {
  "kernelspec": {
   "display_name": "Python 3 (ipykernel)",
   "language": "python",
   "name": "python3"
  },
  "language_info": {
   "codemirror_mode": {
    "name": "ipython",
    "version": 3
   },
   "file_extension": ".py",
   "mimetype": "text/x-python",
   "name": "python",
   "nbconvert_exporter": "python",
   "pygments_lexer": "ipython3",
   "version": "3.9.7"
  }
 },
 "nbformat": 4,
 "nbformat_minor": 5
}
