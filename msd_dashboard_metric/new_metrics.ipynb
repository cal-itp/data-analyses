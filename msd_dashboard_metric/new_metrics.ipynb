{
 "cells": [
  {
   "cell_type": "code",
   "execution_count": 51,
   "id": "1e265c3d-d876-41fa-b864-19fd5d70c203",
   "metadata": {},
   "outputs": [],
   "source": [
    "import pandas as pd\n",
    "import geopandas as gpd\n",
    "\n",
    "from utils import *\n",
    "import intake\n",
    "import gcsfs\n",
    "\n",
    "import calitp\n",
    "from calitp.tables import tbl\n",
    "from siuba import *"
   ]
  },
  {
   "cell_type": "markdown",
   "id": "34cb4ba3-117c-4a20-a1a4-c98b7aad9cdc",
   "metadata": {},
   "source": [
    "# Accessible Transit Metrics"
   ]
  },
  {
   "cell_type": "markdown",
   "id": "639dd482-463f-480d-9181-76cb532f8b3c",
   "metadata": {},
   "source": [
    "### New Accessibilty Metric (Area)\n",
    "\n",
    "The % of non-water area of California that is within 1/4 mi of a bus stop or 1 mi of a ferry/rail stop that is explicitly wheelchair accessible (and if in a station, that station has explicit pathways coding), and that has is served by a public-funded, open to the general public transit service with GTFS Schedule data that is served by a service that is explicitly wheelchair accessible"
   ]
  },
  {
   "cell_type": "markdown",
   "id": "58521b9e-6ae7-42e4-b0e8-8565a5de796c",
   "metadata": {},
   "source": [
    "### New Accessibility Metric (Population)\n",
    "\n",
    " The % of Californians that are within 1/4 mi of a bus stop or 1 mi of a ferry/rail stop that is explicitly wheelchair accessible (and if in a station, that station has explicit pathways coding), and that has is served by a public-funded, open to the general public transit service with GTFS Schedule data that is served by a service that is explicitly wheelchair accessible"
   ]
  },
  {
   "cell_type": "markdown",
   "id": "85d1087a-359b-4f4e-b8f2-f5e2ed1fb140",
   "metadata": {},
   "source": [
    "### Notes and Caveats:\n",
    "\n",
    "* The vast majority of accessible services don't appear to provide accessibility data in GTFS\n",
    "* Pathways appears to be empty in data warehouse for now..."
   ]
  },
  {
   "cell_type": "code",
   "execution_count": 8,
   "id": "8890b880-6a42-4544-9173-cfcb795eeb87",
   "metadata": {},
   "outputs": [],
   "source": [
    "total_pop_var = 'B01001_001E'"
   ]
  },
  {
   "cell_type": "code",
   "execution_count": 29,
   "id": "b00f500a-a2a7-4b9f-ab19-d6619c5039b0",
   "metadata": {},
   "outputs": [],
   "source": [
    "blockgrp_pop = get_census_ca_counties(total_pop_var, 'block%20group')\n",
    "blockgrp_pop = blockgrp_pop.rename(columns={'B01001_001E': 'block_grp_pop',\n",
    "                                           'block group': 'block_grp'})"
   ]
  },
  {
   "cell_type": "code",
   "execution_count": 30,
   "id": "ae24c2b3-1f01-4977-a4ca-210dad8743ab",
   "metadata": {},
   "outputs": [
    {
     "data": {
      "text/html": [
       "<div>\n",
       "<style scoped>\n",
       "    .dataframe tbody tr th:only-of-type {\n",
       "        vertical-align: middle;\n",
       "    }\n",
       "\n",
       "    .dataframe tbody tr th {\n",
       "        vertical-align: top;\n",
       "    }\n",
       "\n",
       "    .dataframe thead th {\n",
       "        text-align: right;\n",
       "    }\n",
       "</style>\n",
       "<table border=\"1\" class=\"dataframe\">\n",
       "  <thead>\n",
       "    <tr style=\"text-align: right;\">\n",
       "      <th></th>\n",
       "      <th>block_grp_pop</th>\n",
       "      <th>state</th>\n",
       "      <th>county</th>\n",
       "      <th>tract</th>\n",
       "      <th>block_grp</th>\n",
       "    </tr>\n",
       "  </thead>\n",
       "  <tbody>\n",
       "    <tr>\n",
       "      <th>0</th>\n",
       "      <td>1388</td>\n",
       "      <td>6</td>\n",
       "      <td>47</td>\n",
       "      <td>1200</td>\n",
       "      <td>2</td>\n",
       "    </tr>\n",
       "    <tr>\n",
       "      <th>1</th>\n",
       "      <td>1531</td>\n",
       "      <td>6</td>\n",
       "      <td>47</td>\n",
       "      <td>1200</td>\n",
       "      <td>4</td>\n",
       "    </tr>\n",
       "    <tr>\n",
       "      <th>2</th>\n",
       "      <td>1405</td>\n",
       "      <td>6</td>\n",
       "      <td>47</td>\n",
       "      <td>1200</td>\n",
       "      <td>1</td>\n",
       "    </tr>\n",
       "  </tbody>\n",
       "</table>\n",
       "</div>"
      ],
      "text/plain": [
       "   block_grp_pop  state  county  tract  block_grp\n",
       "0           1388      6      47   1200          2\n",
       "1           1531      6      47   1200          4\n",
       "2           1405      6      47   1200          1"
      ]
     },
     "execution_count": 30,
     "metadata": {},
     "output_type": "execute_result"
    }
   ],
   "source": [
    "blockgrp_pop.head(3)"
   ]
  },
  {
   "cell_type": "code",
   "execution_count": 28,
   "id": "b9d4680a-76db-49cf-9d24-9cce616b4f0b",
   "metadata": {},
   "outputs": [
    {
     "data": {
      "text/plain": [
       "Index(['block_grp_pop', 'state', 'county', 'tract', 'block group'], dtype='object')"
      ]
     },
     "execution_count": 28,
     "metadata": {},
     "output_type": "execute_result"
    }
   ],
   "source": [
    "blockgrp_pop.columns"
   ]
  },
  {
   "cell_type": "code",
   "execution_count": 11,
   "id": "d8fade15-44c9-4967-8012-1517b9f5b66d",
   "metadata": {},
   "outputs": [],
   "source": [
    "accessible_stops_trips = get_accessible_stops_and_trips()\n",
    "## .25mi buffer on each accessible stop served by an accessible trip\n",
    "accessible_stops_trips.geometry = accessible_stops_trips.buffer(400)"
   ]
  },
  {
   "cell_type": "code",
   "execution_count": 12,
   "id": "eb34c693-d8a0-456c-9755-30a9e69431d0",
   "metadata": {},
   "outputs": [],
   "source": [
    "catalog = intake.open_catalog('./catalog.yml')"
   ]
  },
  {
   "cell_type": "code",
   "execution_count": 13,
   "id": "27498b14-1edc-47a1-8ed4-4928a1c2cc59",
   "metadata": {},
   "outputs": [],
   "source": [
    "ca_block_geo = catalog.ca_block_groups.read()\n",
    "ca_block_geo = ca_block_geo.to_crs('EPSG:4326')"
   ]
  },
  {
   "cell_type": "code",
   "execution_count": 14,
   "id": "91fd03c9-9a13-4894-a2e5-8293b12466ae",
   "metadata": {},
   "outputs": [],
   "source": [
    "stanford_shorelines = catalog.stanford_shorelines.read()"
   ]
  },
  {
   "cell_type": "code",
   "execution_count": 15,
   "id": "4f630be2-5a1b-48a4-b3aa-7b20cd65e5f3",
   "metadata": {},
   "outputs": [],
   "source": [
    "ca_shoreline = stanford_shorelines >> filter(_.STFIPS == '06')"
   ]
  },
  {
   "cell_type": "code",
   "execution_count": 16,
   "id": "f9132f15-b2e4-43b7-b1ca-1e56211f04b9",
   "metadata": {},
   "outputs": [],
   "source": [
    "ca_block_geo = ca_block_geo.clip(ca_shoreline)"
   ]
  },
  {
   "cell_type": "code",
   "execution_count": 17,
   "id": "d7b60ee0-51d7-4e0a-b64c-76c995e185bd",
   "metadata": {},
   "outputs": [],
   "source": [
    "ca_block_geo = ca_block_geo.to_crs('EPSG:6414')"
   ]
  },
  {
   "cell_type": "code",
   "execution_count": 18,
   "id": "e842847b-f40a-48c2-8ca1-4745ee1a4679",
   "metadata": {},
   "outputs": [],
   "source": [
    "## drop large block groups (not useful access data...)\n",
    "## 4 sq km threshold\n",
    "ca_block_geo = ca_block_geo[ca_block_geo.geometry.area < 4e+06]"
   ]
  },
  {
   "cell_type": "code",
   "execution_count": 31,
   "id": "5801fb18-15a8-46a5-bea9-93b212db2384",
   "metadata": {},
   "outputs": [],
   "source": [
    "geo_stops_joined = ca_block_geo.sjoin(accessible_stops_trips, how='inner', predicate='intersects')"
   ]
  },
  {
   "cell_type": "code",
   "execution_count": 32,
   "id": "b2ca867f-753f-40f9-a07d-82aa56411b3d",
   "metadata": {},
   "outputs": [],
   "source": [
    "geo_stops_joined = geo_stops_joined.drop_duplicates(subset=['GEOID'])"
   ]
  },
  {
   "cell_type": "code",
   "execution_count": 33,
   "id": "2538593c-f7f5-4cdb-80f6-289f4f448766",
   "metadata": {},
   "outputs": [
    {
     "data": {
      "text/html": [
       "<div>\n",
       "<style scoped>\n",
       "    .dataframe tbody tr th:only-of-type {\n",
       "        vertical-align: middle;\n",
       "    }\n",
       "\n",
       "    .dataframe tbody tr th {\n",
       "        vertical-align: top;\n",
       "    }\n",
       "\n",
       "    .dataframe thead th {\n",
       "        text-align: right;\n",
       "    }\n",
       "</style>\n",
       "<table border=\"1\" class=\"dataframe\">\n",
       "  <thead>\n",
       "    <tr style=\"text-align: right;\">\n",
       "      <th></th>\n",
       "      <th>state</th>\n",
       "      <th>county</th>\n",
       "      <th>tract</th>\n",
       "      <th>block_grp</th>\n",
       "      <th>GEOID</th>\n",
       "      <th>NAMELSAD</th>\n",
       "      <th>MTFCC</th>\n",
       "      <th>FUNCSTAT</th>\n",
       "      <th>ALAND</th>\n",
       "      <th>AWATER</th>\n",
       "      <th>...</th>\n",
       "      <th>INTPTLON</th>\n",
       "      <th>geometry</th>\n",
       "      <th>index_right</th>\n",
       "      <th>calitp_itp_id</th>\n",
       "      <th>calitp_url_number</th>\n",
       "      <th>stop_id</th>\n",
       "      <th>wheelchair_accessible</th>\n",
       "      <th>stop_lat</th>\n",
       "      <th>stop_lon</th>\n",
       "      <th>wheelchair_boarding</th>\n",
       "    </tr>\n",
       "  </thead>\n",
       "  <tbody>\n",
       "    <tr>\n",
       "      <th>16760</th>\n",
       "      <td>6</td>\n",
       "      <td>73</td>\n",
       "      <td>10009</td>\n",
       "      <td>1</td>\n",
       "      <td>060730100091</td>\n",
       "      <td>Block Group 1</td>\n",
       "      <td>G5030</td>\n",
       "      <td>S</td>\n",
       "      <td>1759046</td>\n",
       "      <td>528681</td>\n",
       "      <td>...</td>\n",
       "      <td>-117.0559349</td>\n",
       "      <td>MULTIPOLYGON (((275529.078 -603346.514, 275528...</td>\n",
       "      <td>2198</td>\n",
       "      <td>278</td>\n",
       "      <td>0</td>\n",
       "      <td>60313</td>\n",
       "      <td>1</td>\n",
       "      <td>32.552096</td>\n",
       "      <td>-117.044117</td>\n",
       "      <td>1</td>\n",
       "    </tr>\n",
       "    <tr>\n",
       "      <th>18465</th>\n",
       "      <td>6</td>\n",
       "      <td>73</td>\n",
       "      <td>10009</td>\n",
       "      <td>3</td>\n",
       "      <td>060730100093</td>\n",
       "      <td>Block Group 3</td>\n",
       "      <td>G5030</td>\n",
       "      <td>S</td>\n",
       "      <td>707892</td>\n",
       "      <td>0</td>\n",
       "      <td>...</td>\n",
       "      <td>-117.0543357</td>\n",
       "      <td>POLYGON ((276297.187 -601745.532, 276297.401 -...</td>\n",
       "      <td>2198</td>\n",
       "      <td>278</td>\n",
       "      <td>0</td>\n",
       "      <td>60313</td>\n",
       "      <td>1</td>\n",
       "      <td>32.552096</td>\n",
       "      <td>-117.044117</td>\n",
       "      <td>1</td>\n",
       "    </tr>\n",
       "    <tr>\n",
       "      <th>18392</th>\n",
       "      <td>6</td>\n",
       "      <td>73</td>\n",
       "      <td>10013</td>\n",
       "      <td>1</td>\n",
       "      <td>060730100131</td>\n",
       "      <td>Block Group 1</td>\n",
       "      <td>G5030</td>\n",
       "      <td>S</td>\n",
       "      <td>491924</td>\n",
       "      <td>0</td>\n",
       "      <td>...</td>\n",
       "      <td>-117.0447331</td>\n",
       "      <td>POLYGON ((277107.189 -601286.509, 277150.566 -...</td>\n",
       "      <td>2198</td>\n",
       "      <td>278</td>\n",
       "      <td>0</td>\n",
       "      <td>60313</td>\n",
       "      <td>1</td>\n",
       "      <td>32.552096</td>\n",
       "      <td>-117.044117</td>\n",
       "      <td>1</td>\n",
       "    </tr>\n",
       "  </tbody>\n",
       "</table>\n",
       "<p>3 rows × 21 columns</p>\n",
       "</div>"
      ],
      "text/plain": [
       "       state  county  tract  block_grp         GEOID       NAMELSAD  MTFCC  \\\n",
       "16760      6      73  10009          1  060730100091  Block Group 1  G5030   \n",
       "18465      6      73  10009          3  060730100093  Block Group 3  G5030   \n",
       "18392      6      73  10013          1  060730100131  Block Group 1  G5030   \n",
       "\n",
       "      FUNCSTAT    ALAND  AWATER  ...      INTPTLON  \\\n",
       "16760        S  1759046  528681  ...  -117.0559349   \n",
       "18465        S   707892       0  ...  -117.0543357   \n",
       "18392        S   491924       0  ...  -117.0447331   \n",
       "\n",
       "                                                geometry index_right  \\\n",
       "16760  MULTIPOLYGON (((275529.078 -603346.514, 275528...        2198   \n",
       "18465  POLYGON ((276297.187 -601745.532, 276297.401 -...        2198   \n",
       "18392  POLYGON ((277107.189 -601286.509, 277150.566 -...        2198   \n",
       "\n",
       "       calitp_itp_id  calitp_url_number  stop_id wheelchair_accessible  \\\n",
       "16760            278                  0    60313                     1   \n",
       "18465            278                  0    60313                     1   \n",
       "18392            278                  0    60313                     1   \n",
       "\n",
       "        stop_lat    stop_lon  wheelchair_boarding  \n",
       "16760  32.552096 -117.044117                    1  \n",
       "18465  32.552096 -117.044117                    1  \n",
       "18392  32.552096 -117.044117                    1  \n",
       "\n",
       "[3 rows x 21 columns]"
      ]
     },
     "execution_count": 33,
     "metadata": {},
     "output_type": "execute_result"
    }
   ],
   "source": [
    "geo_stops_joined = geo_stops_joined.astype({'STATEFP': 'int64',\n",
    "                                            'COUNTYFP': 'int64',\n",
    "                                            'TRACTCE': 'int64',\n",
    "                                            'BLKGRPCE': 'int64'})\n",
    "geo_stops_joined = geo_stops_joined.rename(columns={'STATEFP': 'state',\n",
    "                                                   'COUNTYFP': 'county',\n",
    "                                                   'TRACTCE': 'tract',\n",
    "                                                   'BLKGRPCE': 'block_grp'})\n",
    "geo_stops_joined.head(3)"
   ]
  },
  {
   "cell_type": "code",
   "execution_count": 35,
   "id": "fb5f513d-23f1-4d6d-89a2-ea4a5087c5c9",
   "metadata": {},
   "outputs": [],
   "source": [
    "stops_pop_joined = geo_stops_joined >> inner_join(_, blockgrp_pop, on=['state', 'county', 'tract', 'block_grp'])"
   ]
  },
  {
   "cell_type": "code",
   "execution_count": 36,
   "id": "e33fb983-7c9e-4029-b68e-2aec60618bfa",
   "metadata": {},
   "outputs": [
    {
     "data": {
      "text/plain": [
       "2462477"
      ]
     },
     "execution_count": 36,
     "metadata": {},
     "output_type": "execute_result"
    }
   ],
   "source": [
    "stops_pop_joined['block_grp_pop'].sum()"
   ]
  },
  {
   "cell_type": "code",
   "execution_count": 37,
   "id": "69a8cb27-375a-4cee-ba27-ceca233932f7",
   "metadata": {},
   "outputs": [
    {
     "data": {
      "text/plain": [
       "39283497"
      ]
     },
     "execution_count": 37,
     "metadata": {},
     "output_type": "execute_result"
    }
   ],
   "source": [
    "blockgrp_pop['block_grp_pop'].sum()"
   ]
  },
  {
   "cell_type": "markdown",
   "id": "21c3904b-6dc8-41ee-8f19-73f5ad5c6b99",
   "metadata": {},
   "source": [
    "#### Current Percentage of CA population in block groups within .25mi of accessible transit"
   ]
  },
  {
   "cell_type": "code",
   "execution_count": 39,
   "id": "5d030dd1-6c75-424e-b061-5c21f35a9462",
   "metadata": {},
   "outputs": [
    {
     "data": {
      "text/plain": [
       "6.3"
      ]
     },
     "execution_count": 39,
     "metadata": {},
     "output_type": "execute_result"
    }
   ],
   "source": [
    "(stops_pop_joined['block_grp_pop'].sum() / blockgrp_pop['block_grp_pop'].sum()).round(3) * 100"
   ]
  },
  {
   "cell_type": "code",
   "execution_count": 42,
   "id": "dea3e5ad-e4bb-4d86-bc6c-45c55d774ab7",
   "metadata": {},
   "outputs": [
    {
     "data": {
      "text/plain": [
       "993807966.9908118"
      ]
     },
     "execution_count": 42,
     "metadata": {},
     "output_type": "execute_result"
    }
   ],
   "source": [
    "geo_stops_joined.geometry.area.sum() ## sq meters"
   ]
  },
  {
   "cell_type": "code",
   "execution_count": 43,
   "id": "3ef9d500-973e-409a-9872-255f9c750e78",
   "metadata": {},
   "outputs": [
    {
     "data": {
      "text/plain": [
       "14393648284.97847"
      ]
     },
     "execution_count": 43,
     "metadata": {},
     "output_type": "execute_result"
    }
   ],
   "source": [
    "ca_block_geo.geometry.area.sum()"
   ]
  },
  {
   "cell_type": "markdown",
   "id": "a8274aa7-6608-4a45-81cb-04d00a766358",
   "metadata": {},
   "source": [
    "#### Current Percentage of CA land area in block groups within .25mi of accessible transit"
   ]
  },
  {
   "cell_type": "code",
   "execution_count": 45,
   "id": "9b219a5a-e8d3-4cf3-adab-dfe7820619d7",
   "metadata": {},
   "outputs": [
    {
     "data": {
      "text/plain": [
       "6.9"
      ]
     },
     "execution_count": 45,
     "metadata": {},
     "output_type": "execute_result"
    }
   ],
   "source": [
    "(geo_stops_joined.geometry.area.sum() / ca_block_geo.geometry.area.sum()).round(3) * 100"
   ]
  },
  {
   "cell_type": "markdown",
   "id": "f18d84fc-a038-4d2c-8ebc-ac7481e9864b",
   "metadata": {},
   "source": [
    "### Map"
   ]
  },
  {
   "cell_type": "code",
   "execution_count": 50,
   "id": "55a36658-e188-4ef5-bf08-0fa0f9e7ec18",
   "metadata": {},
   "outputs": [
    {
     "data": {
      "application/vnd.jupyter.widget-view+json": {
       "model_id": "11aff3d77a5348e08a0ad462f9b8a75e",
       "version_major": 2,
       "version_minor": 0
      },
      "text/plain": [
       "Map(center=[32.54594464811505, -117.05710800819634], controls=(ZoomControl(options=['position', 'zoom_in_text'…"
      ]
     },
     "metadata": {},
     "output_type": "display_data"
    }
   ],
   "source": [
    "simple_map(geo_stops_joined, 'calitp_itp_id')"
   ]
  },
  {
   "cell_type": "markdown",
   "id": "71b2a81b-f410-45f9-8cc9-62d32d2fadb3",
   "metadata": {},
   "source": [
    "#### Static Map (block groups near accessible transit, Bay Area)\n",
    "\n",
    "![bay area accessiblity](accessible.png)"
   ]
  },
  {
   "cell_type": "markdown",
   "id": "db73185f-6325-4c53-a8cd-fc908b3c2240",
   "metadata": {},
   "source": [
    "# General Transit Metrics"
   ]
  },
  {
   "cell_type": "markdown",
   "id": "28dcde4c-8970-43ae-9602-53a31058194f",
   "metadata": {},
   "source": [
    "### New General Metric (by area):\n",
    "\n",
    "The % of non-water area of Californian that is within 1/4 mi of a bus stop or 1 mi of a ferry/rail stop that has is served by a public-funded, open to the general public transit service with GTFS Schedule data\n"
   ]
  },
  {
   "cell_type": "markdown",
   "id": "885e26b2-69af-45f3-9319-7b14c1822b29",
   "metadata": {},
   "source": [
    "### New General Metric (by population):\n",
    "\n",
    "The % of Californians that live within 1/4 mi of a bus stop or 1 mi of a ferry/rail stop that has is served by a public-funded, open to the general public transit service with GTFS Schedule data\n"
   ]
  }
 ],
 "metadata": {
  "kernelspec": {
   "display_name": "Python 3 (ipykernel)",
   "language": "python",
   "name": "python3"
  },
  "language_info": {
   "codemirror_mode": {
    "name": "ipython",
    "version": 3
   },
   "file_extension": ".py",
   "mimetype": "text/x-python",
   "name": "python",
   "nbconvert_exporter": "python",
   "pygments_lexer": "ipython3",
   "version": "3.9.7"
  }
 },
 "nbformat": 4,
 "nbformat_minor": 5
}
