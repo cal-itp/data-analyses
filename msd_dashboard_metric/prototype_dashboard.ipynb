{
 "cells": [
  {
   "cell_type": "markdown",
   "id": "56a243df-12c6-4ec8-8d69-28b274ae6c74",
   "metadata": {},
   "source": [
    "# Prototype Dashboard\n",
    "\n",
    "Can a prototype dashboard just insert static images? Maps are static for now.\n",
    "\n",
    "`altair` can handle some interactive hovering + display, but won't render in notebook on GitHub. Doing `nbconvert` and converting this to GH pages would still preserve the interactivity though. "
   ]
  },
  {
   "cell_type": "code",
   "execution_count": null,
   "id": "27d1cd65-fc91-4436-9012-9b86698564c1",
   "metadata": {},
   "outputs": [],
   "source": [
    "from IPython.display import HTML, Image, Markdown\n",
    "\n",
    "IMG_PATH = \"./img/\""
   ]
  },
  {
   "cell_type": "code",
   "execution_count": null,
   "id": "92cd8ca8-a894-437e-98d4-ac53b705c483",
   "metadata": {},
   "outputs": [],
   "source": [
    "# Define function to display images\n",
    "# Add HTML anchors to navigate back to Table of Contents or to various images\n",
    "def display_images(IMG_DICT, IMG_PATH=IMG_PATH, IMG_TYPE=\"png\"):\n",
    "    for title, img in IMG_DICT.items():\n",
    "        display(HTML(f\"<a id={img}></a>\"))\n",
    "        display(Markdown(f\"### {title}\"))\n",
    "        display(Image(filename=f\"{IMG_PATH}{img}.{IMG_TYPE}\"))\n",
    "        display(HTML(\n",
    "            \"<br>\"\n",
    "            \"<a href=#table_of_contents>Return to top</a><br>\"\n",
    "        ))"
   ]
  },
  {
   "cell_type": "markdown",
   "id": "a9807783-3683-46f4-abf2-17d7eae95f14",
   "metadata": {},
   "source": [
    "### Table of Contents\n",
    "<a id='table_of_contents'></a>\n",
    "#### Accessibility Metrics\n",
    "* [% Stops with Accessibility Info](#pct_has_stop_accessibility)\n",
    "* [% Trips with Acessibility Info](#pct_has_trip_accessibility)\n",
    "\n",
    "#### Validation Errors\n",
    "* [# Feeds with Zero Critical Validation Errors](#no_errors)\n",
    "* [% Feeds by Top 10 Critical Validation Errors](#pct_feeds_by_error_top10)\n",
    "\n",
    "#### Fares v2\n",
    "* [# Feeds with Fares V2](#farev2_feeds)\n"
   ]
  },
  {
   "cell_type": "markdown",
   "id": "839ffcb4-89f7-47c5-882e-155f98166f95",
   "metadata": {},
   "source": [
    "## Accessibility Metrics"
   ]
  },
  {
   "cell_type": "code",
   "execution_count": null,
   "id": "c5fc1e46-c308-434a-9740-295a4a69831f",
   "metadata": {},
   "outputs": [],
   "source": [
    "ACCESSIBILITY_DICT = {\n",
    "    \"% Stops with Accessibility Info\": \"pct_has_stop_accessibility\",\n",
    "    \"% Trips with Accessibility Info\": \"pct_has_trip_accessibility\",\n",
    "    \"# Feeds with Full Accessibility Info\": \"full_info\",\n",
    "    \"% Feeds with Full Accessibility Info\": \"full_info_pct\",\n",
    "    \"# Feeds by Feed Score (Stop / Trip Accessibility)\": \"feed_score\",\n",
    "} \n",
    "\n",
    "display_images(ACCESSIBILITY_DICT, IMG_PATH=IMG_PATH, IMG_TYPE=\"png\")"
   ]
  },
  {
   "cell_type": "code",
   "execution_count": null,
   "id": "0f864c3a-bfc0-4eba-b583-b76e6ab35d7b",
   "metadata": {},
   "outputs": [],
   "source": [
    "ACCESSIBLE_BLOCK_GROUPS_DICT = {\n",
    "    \"GTFS Schedule Block Group Coverage\": \"schedule\",\n",
    "    \"GTFS Real-Time Block Group Coverage\": \"rt\",\n",
    "    \"Bay Area Block Groups near Accessibile Transit\": \"accessible\",\n",
    "    \"Bay Area Block Groups near GTFS-RT Accessible Transit\": \"rt_accessible\",\n",
    "\n",
    "} \n",
    "\n",
    "display_images(ACCESSIBLE_BLOCK_GROUPS_DICT, IMG_PATH=IMG_PATH, IMG_TYPE=\"jpg\")"
   ]
  },
  {
   "cell_type": "markdown",
   "id": "52f0a598-5cf7-4a8b-8a79-e898a3ab36e7",
   "metadata": {},
   "source": [
    "## Validation Errors"
   ]
  },
  {
   "cell_type": "code",
   "execution_count": null,
   "id": "70cc6832-b012-4596-9bdb-3213fefc06af",
   "metadata": {},
   "outputs": [],
   "source": [
    "VALIDATIONS_DICT = {\n",
    "    \"# Feeds with Zero Critical Validation Errors\": \"no_errors\",\n",
    "    \"% Feeds with Zero Critical Validation Errors\": \"no_errors_pct\",\n",
    "    \"# Daily Unique Critical Validation Errors\" : \"total_validation_errors\",\n",
    "    \"# Daily Unique Critical Validation Errors Across Feeds\" : \"unique_validation_errors\",\n",
    "    \"% Feeds by Critical Validation Errors\": \"pct_feeds_by_error\",\n",
    "    \"% Feeds by Top 10 Critical Validation Errors\": \"pct_feeds_by_error_top10\",\n",
    "\n",
    "} \n",
    "\n",
    "display_images(VALIDATIONS_DICT)"
   ]
  },
  {
   "cell_type": "markdown",
   "id": "8cf10692-d865-4f77-b701-1262fce58915",
   "metadata": {},
   "source": [
    "## Fares v2"
   ]
  },
  {
   "cell_type": "code",
   "execution_count": null,
   "id": "257e3c5c-bbf5-4ac0-9969-fb1585078913",
   "metadata": {},
   "outputs": [],
   "source": [
    "FARES_DICT = {\n",
    "    \"# Feeds with Fares V2 Data\": \"farev2_feeds\",\n",
    "} \n",
    "\n",
    "display_images(FARES_DICT)"
   ]
  },
  {
   "cell_type": "code",
   "execution_count": null,
   "id": "a2c15b16-cc84-4a98-be83-cc75e2bb2cad",
   "metadata": {},
   "outputs": [],
   "source": []
  }
 ],
 "metadata": {
  "kernelspec": {
   "display_name": "Python 3 (ipykernel)",
   "language": "python",
   "name": "python3"
  },
  "language_info": {
   "codemirror_mode": {
    "name": "ipython",
    "version": 3
   },
   "file_extension": ".py",
   "mimetype": "text/x-python",
   "name": "python",
   "nbconvert_exporter": "python",
   "pygments_lexer": "ipython3",
   "version": "3.9.7"
  }
 },
 "nbformat": 4,
 "nbformat_minor": 5
}
