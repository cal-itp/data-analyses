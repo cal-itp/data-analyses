{
 "cells": [
  {
   "cell_type": "markdown",
   "id": "661bd96b-61dd-4634-9be9-024316bebda7",
   "metadata": {},
   "source": [
    "# Number of feeds with data about physical accessibility\n",
    "\n",
    "[GH issue](https://github.com/cal-itp/data-infra/issues/553)\n",
    "\n",
    "MVP:\n",
    "\n",
    "* Presence of `stops#wheelchair_boarding` field\n",
    "* Presence of `trips#wheelchair_accessible` field\n",
    "* Presence of non-empty pathways table when at least one child_stop within parent_stop exists in stops\n",
    "\n",
    "More rigorous analysis:\n",
    "\n",
    "Require minimum percent of:\n",
    "* Rows in stops table with `wheelchair_boarding` field set to \"not unknown\" value\n",
    "* Rows in trips table with `wheelchair_accessible` field set to \"not unknown\" value\n",
    "* Child_stops within a parent_stop that can reach every other child_stop within parent_stop when simulating travel as an able-bodied person\n",
    "\n",
    "**Data Sources:**\n",
    "* Static GTFS\n",
    "* `stops#wheelchair_boarding`\n",
    "* `trips#wheelchair_accessible`\n",
    "* Pathways data as it relates to child and parent stops\n",
    "\n",
    "### Method 1:\n",
    "The first way is to calculate the total number of feeds that meet all of the 3 conditions:\n",
    "\n",
    "* 100% of stops have a value of 1 or 2 in the wheelchair_boarding field.\n",
    "* 100% of trips have a value of 1 or 2 in the wheelchair_accessible field.\n",
    "* If any of the stops have a parent stop, there needs to be at least 1 record in the pathways file. If no stops have a parent stop, then this criteria is satisfied.\n",
    "\n",
    "### Method 2:\n",
    "The second way is to give a weighted answer by adding up the per-feed score across all feeds where a feed's score is calculated as follows:\n",
    "```\n",
    "# set a pathways_required variable to true if any of the stops have a parent stop defined\n",
    "num_parent_stops = count_num_parent_stops()\n",
    "pathways_required = num_parent_stops > 0\n",
    "\n",
    "# find weight to use for trips and stops based on whether pathways data is required\n",
    "stops_and_trips_weight = 0.3333 if pathways_required else 0.5\n",
    "\n",
    "# calculate overall accessible score\n",
    "feed_score = (\n",
    "    stops_and_trips_weight * calculate_percent_of_stops_with_explicitly_defined_wheelchair_code() + \n",
    "    stops_and_trips_weight * calculate_percent_of_trips_with_explicitly_defined_wheelchair_code() + \n",
    "    # TODO: a more rigorous analysis that checks if each child-stop of a parent is able to be accessed to \n",
    "    # every other child-stop of the parent stop would be needed to calculate a more realistic value here.\n",
    "    # Until then, a full score on pathways-completeness is given if more than 0 pathways entries exist.\n",
    "    (0 if not pathways_required else 0.3333 if count_num_pathways() > 0 else 0)\n",
    ") / (3 if pathways_required else 2)\n",
    "```\n",
    "\n",
    "### Findings\n",
    "1. One graph is complete info vs missing info (marked as no is ok).\n",
    "1. Another graph is aggregating the feed_score over all the operators-feeds (measure of info completeness). "
   ]
  },
  {
   "cell_type": "code",
   "execution_count": 1,
   "id": "2e87ca6b-b984-41bb-bd48-a6c5c902e55f",
   "metadata": {},
   "outputs": [
    {
     "name": "stderr",
     "output_type": "stream",
     "text": [
      "/opt/conda/lib/python3.9/site-packages/geopandas/_compat.py:111: UserWarning: The Shapely GEOS version (3.9.1-CAPI-1.14.2) is incompatible with the GEOS version PyGEOS was compiled with (3.10.1-CAPI-1.16.0). Conversions between both will be slow.\n",
      "  warnings.warn(\n"
     ]
    },
    {
     "data": {
      "text/plain": [
       "ThemeRegistry.enable('fivethirtyeight')"
      ]
     },
     "execution_count": 1,
     "metadata": {},
     "output_type": "execute_result"
    }
   ],
   "source": [
    "import altair as alt\n",
    "import altair_saver\n",
    "import pandas as pd\n",
    "import os\n",
    "#os.environ[\"CALITP_BQ_MAX_BYTES\"] = str(100_000_000_000)\n",
    "\n",
    "import calitp\n",
    "from calitp.tables import tbl\n",
    "from siuba import *\n",
    "\n",
    "from shared_utils import altair_utils\n",
    "\n",
    "alt.themes.enable(\"fivethirtyeight\")"
   ]
  },
  {
   "cell_type": "code",
   "execution_count": 2,
   "id": "539cc859-36e3-428b-9e9a-c4a425c2d879",
   "metadata": {},
   "outputs": [],
   "source": [
    "from IPython.display import display, SVG\n",
    "\n",
    "alt.renderers.enable('altair_saver', fmts=['svg'])\n",
    "\n",
    "def show_svg(image_name):\n",
    "    image_path = f\"./{image_name}.svg\"\n",
    "    altair_saver.save(image_name, image_path)\n",
    "    display(SVG(filename = image_path))\n",
    "    os.remove(image_path)"
   ]
  },
  {
   "cell_type": "code",
   "execution_count": 3,
   "id": "fb5fdeec-b2f7-4aec-b1eb-7926db7ca533",
   "metadata": {},
   "outputs": [
    {
     "data": {
      "text/plain": [
       "'\\n# For now, keep all feeds until we can determine primary analysis feed\\n\\n# Get rid of duplicates\\nstops = (stops.drop_duplicates(subset=[\"calitp_itp_id\", \"stop_id\"])\\n      .reset_index(drop=True)\\n     )\\n'"
      ]
     },
     "execution_count": 3,
     "metadata": {},
     "output_type": "execute_result"
    }
   ],
   "source": [
    "'''\n",
    "stops = (tbl.gtfs_schedule.stops()\n",
    "      # unique on itp_id and url_number\n",
    "      # but there are handful of agencies where same stop has multiple url's\n",
    "      >> select(_.calitp_itp_id, _.calitp_url_number, \n",
    "                _.stop_id, _.wheelchair_boarding, )\n",
    "      >> arrange(_.calitp_itp_id, _.stop_id, _.calitp_url_number)\n",
    "      >> collect()\n",
    ")\n",
    "\n",
    "stops.to_parquet(\"./accessibility_stops.parquet\")\n",
    "'''\n",
    "stops = pd.read_parquet(\"./accessibility_stops.parquet\")\n",
    "\n",
    "'''\n",
    "# For now, keep all feeds until we can determine primary analysis feed\n",
    "\n",
    "# Get rid of duplicates\n",
    "stops = (stops.drop_duplicates(subset=[\"calitp_itp_id\", \"stop_id\"])\n",
    "      .reset_index(drop=True)\n",
    "     )\n",
    "'''"
   ]
  },
  {
   "cell_type": "code",
   "execution_count": 4,
   "id": "06bdbff9-fbc1-4b60-b003-bebab0dc7fd7",
   "metadata": {},
   "outputs": [],
   "source": [
    "def categorize_values(df, col, values_dict = {}, new_colname = None):   \n",
    "    if new_colname == None:\n",
    "        new_colname = col\n",
    "    df = (df.assign(\n",
    "            col = df[col].fillna(\"unknown\").map(values_dict)\n",
    "        ).drop(columns = col)\n",
    "          .rename(columns = {\"col\": new_colname})\n",
    "    )\n",
    "    \n",
    "    return df\n",
    "\n",
    "\n",
    "def summarize_metric_for_operator(df, group_cols = [], numerator=\"\", denominator=\"\"):\n",
    "    df2 = (df.groupby(group_cols)\n",
    "           .agg({\n",
    "               numerator: \"sum\", \n",
    "               denominator: \"count\"\n",
    "           }).reset_index()\n",
    "          )\n",
    "    \n",
    "    df2 = df2.assign(\n",
    "        pct = df2[numerator].divide(df2[denominator])\n",
    "    ).rename(columns = {\"pct\": f\"pct_{numerator}\"})\n",
    "           \n",
    "    return df2\n",
    "\n",
    "\n",
    "# May or may not need this function\n",
    "# For now, still create a dummy variable whether it meets the metric to be plotted\n",
    "def operator_above_threshold(df, col, threshold=0.50, new_colname = None):\n",
    "    if new_colname is None:\n",
    "        new_colname = col\n",
    "        \n",
    "    df = df.assign(\n",
    "        meets_metric = df.apply(lambda x: 1 if x[col] >= threshold else 0, axis=1)\n",
    "    ).rename(columns = {\"meets_metric\": new_colname})\n",
    "    \n",
    "    return df\n",
    "\n",
    "\n",
    "def make_histogram(df, x_col):\n",
    "    x_title = f\"{x_col.replace('pct_has_', '').replace('_', ' ')} information\"\n",
    "              \n",
    "    chart = (alt.Chart(df)\n",
    "             .mark_bar()\n",
    "             .encode( \n",
    "                 x=alt.X(f\"{x_col}:Q\", bin=True, title=f\"% {x_title}\"),\n",
    "                 y=alt.Y(\"count()\", title=\"# Operators\"),\n",
    "                 color=alt.value(altair_utils.FIVETHIRTYEIGHT_CATEGORY_COLORS[0])\n",
    "                 \n",
    "             )\n",
    "    )\n",
    "    \n",
    "    chart = (altair_utils.preset_chart_config(chart)\n",
    "             .properties(title=f\"Operators by % {x_title.title()}\")\n",
    "            )\n",
    "    \n",
    "    show_svg(chart)\n",
    "    "
   ]
  },
  {
   "cell_type": "code",
   "execution_count": 5,
   "id": "f45dfddc-4d36-4f42-a1e8-84e0e26cbf03",
   "metadata": {},
   "outputs": [
    {
     "data": {
      "text/plain": [
       "'\\nUsing siuba\\n\\nNot sure how to set up function with siuba operations...\\n\\n(stops2\\n >> group_by(_.calitp_itp_id, _.calitp_url_number)\\n >> summarize(num_stops = _.stop_id.count(), \\n              has_stop_accessibility = _.has_stop_accessibility.sum(),\\n             )\\n >> mutate(pct_accessibility_info = _.has_stop_accessibility.divide(_.num_stops))\\n)\\n'"
      ]
     },
     "execution_count": 5,
     "metadata": {},
     "output_type": "execute_result"
    }
   ],
   "source": [
    "'''\n",
    "Using siuba\n",
    "\n",
    "Not sure how to set up function with siuba operations...\n",
    "\n",
    "(stops2\n",
    " >> group_by(_.calitp_itp_id, _.calitp_url_number)\n",
    " >> summarize(num_stops = _.stop_id.count(), \n",
    "              has_stop_accessibility = _.has_stop_accessibility.sum(),\n",
    "             )\n",
    " >> mutate(pct_accessibility_info = _.has_stop_accessibility.divide(_.num_stops))\n",
    ")\n",
    "'''"
   ]
  },
  {
   "cell_type": "code",
   "execution_count": 6,
   "id": "05d804e6-878b-4bbf-95f0-6b8171551f27",
   "metadata": {},
   "outputs": [
    {
     "data": {
      "text/html": [
       "<div>\n",
       "<style scoped>\n",
       "    .dataframe tbody tr th:only-of-type {\n",
       "        vertical-align: middle;\n",
       "    }\n",
       "\n",
       "    .dataframe tbody tr th {\n",
       "        vertical-align: top;\n",
       "    }\n",
       "\n",
       "    .dataframe thead th {\n",
       "        text-align: right;\n",
       "    }\n",
       "</style>\n",
       "<table border=\"1\" class=\"dataframe\">\n",
       "  <thead>\n",
       "    <tr style=\"text-align: right;\">\n",
       "      <th></th>\n",
       "      <th>calitp_itp_id</th>\n",
       "      <th>calitp_url_number</th>\n",
       "      <th>has_stop_accessibility</th>\n",
       "      <th>stop_id</th>\n",
       "      <th>pct_has_stop_accessibility</th>\n",
       "      <th>stops_full_info</th>\n",
       "    </tr>\n",
       "  </thead>\n",
       "  <tbody>\n",
       "    <tr>\n",
       "      <th>0</th>\n",
       "      <td>0</td>\n",
       "      <td>0</td>\n",
       "      <td>0</td>\n",
       "      <td>866</td>\n",
       "      <td>0.000000</td>\n",
       "      <td>0</td>\n",
       "    </tr>\n",
       "    <tr>\n",
       "      <th>1</th>\n",
       "      <td>1</td>\n",
       "      <td>0</td>\n",
       "      <td>7</td>\n",
       "      <td>130</td>\n",
       "      <td>0.053846</td>\n",
       "      <td>0</td>\n",
       "    </tr>\n",
       "    <tr>\n",
       "      <th>2</th>\n",
       "      <td>1</td>\n",
       "      <td>1</td>\n",
       "      <td>9</td>\n",
       "      <td>254</td>\n",
       "      <td>0.035433</td>\n",
       "      <td>0</td>\n",
       "    </tr>\n",
       "    <tr>\n",
       "      <th>3</th>\n",
       "      <td>1</td>\n",
       "      <td>2</td>\n",
       "      <td>9</td>\n",
       "      <td>254</td>\n",
       "      <td>0.035433</td>\n",
       "      <td>0</td>\n",
       "    </tr>\n",
       "    <tr>\n",
       "      <th>4</th>\n",
       "      <td>1</td>\n",
       "      <td>3</td>\n",
       "      <td>0</td>\n",
       "      <td>350</td>\n",
       "      <td>0.000000</td>\n",
       "      <td>0</td>\n",
       "    </tr>\n",
       "  </tbody>\n",
       "</table>\n",
       "</div>"
      ],
      "text/plain": [
       "   calitp_itp_id  calitp_url_number  has_stop_accessibility  stop_id  \\\n",
       "0              0                  0                       0      866   \n",
       "1              1                  0                       7      130   \n",
       "2              1                  1                       9      254   \n",
       "3              1                  2                       9      254   \n",
       "4              1                  3                       0      350   \n",
       "\n",
       "   pct_has_stop_accessibility  stops_full_info  \n",
       "0                    0.000000                0  \n",
       "1                    0.053846                0  \n",
       "2                    0.035433                0  \n",
       "3                    0.035433                0  \n",
       "4                    0.000000                0  "
      ]
     },
     "execution_count": 6,
     "metadata": {},
     "output_type": "execute_result"
    }
   ],
   "source": [
    "# https://gtfs.org/reference/static/#stopstxt\n",
    "# 0 is unknown; 1 is accessible; 2 is not accessible\n",
    "STOPS_VALUES_DICT = {\n",
    "    \"unknown\": 0,\n",
    "    \"0\": 0, \n",
    "    \"1\": 1,\n",
    "    \"2\": 1,\n",
    "}\n",
    "\n",
    "stops2 = categorize_values(stops, \"wheelchair_boarding\", \n",
    "                           values_dict = STOPS_VALUES_DICT, \n",
    "                           new_colname = \"has_stop_accessibility\")\n",
    "\n",
    "stops3 = summarize_metric_for_operator(stops2, \n",
    "                              group_cols = [\"calitp_itp_id\", \"calitp_url_number\"], \n",
    "                              denominator = \"stop_id\", \n",
    "                              numerator = \"has_stop_accessibility\")\n",
    "\n",
    "stops4 = operator_above_threshold(stops3, \"pct_has_stop_accessibility\", \n",
    "                                  threshold=1.0, new_colname=\"stops_full_info\")\n",
    "\n",
    "stops4.head()"
   ]
  },
  {
   "cell_type": "code",
   "execution_count": 7,
   "id": "eeafd6e7-43ec-44b3-9d34-31e7eac37657",
   "metadata": {},
   "outputs": [
    {
     "data": {
      "image/svg+xml": [
       "<svg xmlns=\"http://www.w3.org/2000/svg\" xmlns:xlink=\"http://www.w3.org/1999/xlink\" version=\"1.1\" class=\"marks\" width=\"467\" height=\"349\" viewBox=\"0 0 467 349\"><rect width=\"467\" height=\"349\" fill=\"white\"/><g fill=\"none\" stroke-miterlimit=\"10\" transform=\"translate(61,46)\"><g class=\"mark-group role-frame root\" role=\"graphics-object\" aria-roledescription=\"group mark container\"><g transform=\"translate(0,0)\"><path class=\"background\" aria-hidden=\"true\" d=\"M0.5,0.5h400v250h-400Z\" stroke=\"#ddd\"/><g><g class=\"mark-group role-axis\" aria-hidden=\"true\"><g transform=\"translate(0.5,250.5)\"><path class=\"background\" aria-hidden=\"true\" d=\"M0,0h0v0h0Z\" pointer-events=\"none\"/><g><g class=\"mark-rule role-axis-grid\" pointer-events=\"none\"><line transform=\"translate(0,-250)\" x2=\"0\" y2=\"250\" stroke=\"#cbcbcb\" stroke-width=\"1\" opacity=\"1\"/><line transform=\"translate(40,-250)\" x2=\"0\" y2=\"250\" stroke=\"#cbcbcb\" stroke-width=\"1\" opacity=\"1\"/><line transform=\"translate(80,-250)\" x2=\"0\" y2=\"250\" stroke=\"#cbcbcb\" stroke-width=\"1\" opacity=\"1\"/><line transform=\"translate(120,-250)\" x2=\"0\" y2=\"250\" stroke=\"#cbcbcb\" stroke-width=\"1\" opacity=\"1\"/><line transform=\"translate(160,-250)\" x2=\"0\" y2=\"250\" stroke=\"#cbcbcb\" stroke-width=\"1\" opacity=\"1\"/><line transform=\"translate(200,-250)\" x2=\"0\" y2=\"250\" stroke=\"#cbcbcb\" stroke-width=\"1\" opacity=\"1\"/><line transform=\"translate(240,-250)\" x2=\"0\" y2=\"250\" stroke=\"#cbcbcb\" stroke-width=\"1\" opacity=\"1\"/><line transform=\"translate(280,-250)\" x2=\"0\" y2=\"250\" stroke=\"#cbcbcb\" stroke-width=\"1\" opacity=\"1\"/><line transform=\"translate(320,-250)\" x2=\"0\" y2=\"250\" stroke=\"#cbcbcb\" stroke-width=\"1\" opacity=\"1\"/><line transform=\"translate(360,-250)\" x2=\"0\" y2=\"250\" stroke=\"#cbcbcb\" stroke-width=\"1\" opacity=\"1\"/><line transform=\"translate(400,-250)\" x2=\"0\" y2=\"250\" stroke=\"#cbcbcb\" stroke-width=\"1\" opacity=\"1\"/></g></g><path class=\"foreground\" aria-hidden=\"true\" d=\"\" pointer-events=\"none\" display=\"none\"/></g></g><g class=\"mark-group role-axis\" aria-hidden=\"true\"><g transform=\"translate(0.5,0.5)\"><path class=\"background\" aria-hidden=\"true\" d=\"M0,0h0v0h0Z\" pointer-events=\"none\"/><g><g class=\"mark-rule role-axis-grid\" pointer-events=\"none\"><line transform=\"translate(0,250)\" x2=\"400\" y2=\"0\" stroke=\"#cbcbcb\" stroke-width=\"1\" opacity=\"1\"/><line transform=\"translate(0,219)\" x2=\"400\" y2=\"0\" stroke=\"#cbcbcb\" stroke-width=\"1\" opacity=\"1\"/><line transform=\"translate(0,188)\" x2=\"400\" y2=\"0\" stroke=\"#cbcbcb\" stroke-width=\"1\" opacity=\"1\"/><line transform=\"translate(0,156)\" x2=\"400\" y2=\"0\" stroke=\"#cbcbcb\" stroke-width=\"1\" opacity=\"1\"/><line transform=\"translate(0,125)\" x2=\"400\" y2=\"0\" stroke=\"#cbcbcb\" stroke-width=\"1\" opacity=\"1\"/><line transform=\"translate(0,94)\" x2=\"400\" y2=\"0\" stroke=\"#cbcbcb\" stroke-width=\"1\" opacity=\"1\"/><line transform=\"translate(0,63)\" x2=\"400\" y2=\"0\" stroke=\"#cbcbcb\" stroke-width=\"1\" opacity=\"1\"/><line transform=\"translate(0,31)\" x2=\"400\" y2=\"0\" stroke=\"#cbcbcb\" stroke-width=\"1\" opacity=\"1\"/><line transform=\"translate(0,0)\" x2=\"400\" y2=\"0\" stroke=\"#cbcbcb\" stroke-width=\"1\" opacity=\"1\"/></g></g><path class=\"foreground\" aria-hidden=\"true\" d=\"\" pointer-events=\"none\" display=\"none\"/></g></g><g class=\"mark-group role-axis\" role=\"graphics-symbol\" aria-roledescription=\"axis\" aria-label=\"X-axis titled '% stop accessibility information' for a linear scale with values from 0.0 to 1.0\"><g transform=\"translate(0.5,250.5)\"><path class=\"background\" aria-hidden=\"true\" d=\"M0,0h0v0h0Z\" pointer-events=\"none\"/><g><g class=\"mark-rule role-axis-tick\" pointer-events=\"none\"><line transform=\"translate(0,0)\" x2=\"0\" y2=\"10\" stroke=\"#cbcbcb\" stroke-width=\"1\" opacity=\"1\"/><line transform=\"translate(40,0)\" x2=\"0\" y2=\"10\" stroke=\"#cbcbcb\" stroke-width=\"1\" opacity=\"1\"/><line transform=\"translate(80,0)\" x2=\"0\" y2=\"10\" stroke=\"#cbcbcb\" stroke-width=\"1\" opacity=\"1\"/><line transform=\"translate(120,0)\" x2=\"0\" y2=\"10\" stroke=\"#cbcbcb\" stroke-width=\"1\" opacity=\"1\"/><line transform=\"translate(160,0)\" x2=\"0\" y2=\"10\" stroke=\"#cbcbcb\" stroke-width=\"1\" opacity=\"1\"/><line transform=\"translate(200,0)\" x2=\"0\" y2=\"10\" stroke=\"#cbcbcb\" stroke-width=\"1\" opacity=\"1\"/><line transform=\"translate(240,0)\" x2=\"0\" y2=\"10\" stroke=\"#cbcbcb\" stroke-width=\"1\" opacity=\"1\"/><line transform=\"translate(280,0)\" x2=\"0\" y2=\"10\" stroke=\"#cbcbcb\" stroke-width=\"1\" opacity=\"1\"/><line transform=\"translate(320,0)\" x2=\"0\" y2=\"10\" stroke=\"#cbcbcb\" stroke-width=\"1\" opacity=\"1\"/><line transform=\"translate(360,0)\" x2=\"0\" y2=\"10\" stroke=\"#cbcbcb\" stroke-width=\"1\" opacity=\"1\"/><line transform=\"translate(400,0)\" x2=\"0\" y2=\"10\" stroke=\"#cbcbcb\" stroke-width=\"1\" opacity=\"1\"/></g><g class=\"mark-text role-axis-label\" pointer-events=\"none\"><text text-anchor=\"start\" transform=\"translate(0,22)\" font-family=\"Arial\" font-size=\"10px\" fill=\"#999\" opacity=\"1\">0.00</text><text text-anchor=\"middle\" transform=\"translate(40,22)\" font-family=\"Arial\" font-size=\"10px\" fill=\"#999\" opacity=\"1\">0.10</text><text text-anchor=\"middle\" transform=\"translate(80,22)\" font-family=\"Arial\" font-size=\"10px\" fill=\"#999\" opacity=\"1\">0.20</text><text text-anchor=\"middle\" transform=\"translate(120.00000000000001,22)\" font-family=\"Arial\" font-size=\"10px\" fill=\"#999\" opacity=\"1\">0.30</text><text text-anchor=\"middle\" transform=\"translate(160,22)\" font-family=\"Arial\" font-size=\"10px\" fill=\"#999\" opacity=\"1\">0.40</text><text text-anchor=\"middle\" transform=\"translate(200,22)\" font-family=\"Arial\" font-size=\"10px\" fill=\"#999\" opacity=\"1\">0.50</text><text text-anchor=\"middle\" transform=\"translate(240.00000000000003,22)\" font-family=\"Arial\" font-size=\"10px\" fill=\"#999\" opacity=\"1\">0.60</text><text text-anchor=\"middle\" transform=\"translate(280,22)\" font-family=\"Arial\" font-size=\"10px\" fill=\"#999\" opacity=\"1\">0.70</text><text text-anchor=\"middle\" transform=\"translate(320,22)\" font-family=\"Arial\" font-size=\"10px\" fill=\"#999\" opacity=\"1\">0.80</text><text text-anchor=\"middle\" transform=\"translate(360,22)\" font-family=\"Arial\" font-size=\"10px\" fill=\"#999\" opacity=\"1\">0.90</text><text text-anchor=\"end\" transform=\"translate(400,22)\" font-family=\"Arial\" font-size=\"10px\" fill=\"#999\" opacity=\"1\">1.00</text></g><g class=\"mark-rule role-axis-domain\" pointer-events=\"none\"><line transform=\"translate(0,0)\" x2=\"400\" y2=\"0\" stroke=\"#cbcbcb\" stroke-width=\"1\" opacity=\"1\"/></g><g class=\"mark-text role-axis-title\" pointer-events=\"none\"><text text-anchor=\"middle\" transform=\"translate(200,45)\" font-family=\"Arial\" font-size=\"14px\" font-weight=\"bold\" fill=\"#333\" opacity=\"1\">% stop accessibility information</text></g></g><path class=\"foreground\" aria-hidden=\"true\" d=\"\" pointer-events=\"none\" display=\"none\"/></g></g><g class=\"mark-group role-axis\" role=\"graphics-symbol\" aria-roledescription=\"axis\" aria-label=\"Y-axis titled '# Operators' for a linear scale with values from 0 to 160\"><g transform=\"translate(0.5,0.5)\"><path class=\"background\" aria-hidden=\"true\" d=\"M0,0h0v0h0Z\" pointer-events=\"none\"/><g><g class=\"mark-rule role-axis-tick\" pointer-events=\"none\"><line transform=\"translate(0,250)\" x2=\"-10\" y2=\"0\" stroke=\"#cbcbcb\" stroke-width=\"1\" opacity=\"1\"/><line transform=\"translate(0,219)\" x2=\"-10\" y2=\"0\" stroke=\"#cbcbcb\" stroke-width=\"1\" opacity=\"1\"/><line transform=\"translate(0,188)\" x2=\"-10\" y2=\"0\" stroke=\"#cbcbcb\" stroke-width=\"1\" opacity=\"1\"/><line transform=\"translate(0,156)\" x2=\"-10\" y2=\"0\" stroke=\"#cbcbcb\" stroke-width=\"1\" opacity=\"1\"/><line transform=\"translate(0,125)\" x2=\"-10\" y2=\"0\" stroke=\"#cbcbcb\" stroke-width=\"1\" opacity=\"1\"/><line transform=\"translate(0,94)\" x2=\"-10\" y2=\"0\" stroke=\"#cbcbcb\" stroke-width=\"1\" opacity=\"1\"/><line transform=\"translate(0,63)\" x2=\"-10\" y2=\"0\" stroke=\"#cbcbcb\" stroke-width=\"1\" opacity=\"1\"/><line transform=\"translate(0,31)\" x2=\"-10\" y2=\"0\" stroke=\"#cbcbcb\" stroke-width=\"1\" opacity=\"1\"/><line transform=\"translate(0,0)\" x2=\"-10\" y2=\"0\" stroke=\"#cbcbcb\" stroke-width=\"1\" opacity=\"1\"/></g><g class=\"mark-text role-axis-label\" pointer-events=\"none\"><text text-anchor=\"end\" transform=\"translate(-14,253)\" font-family=\"Arial\" font-size=\"10px\" fill=\"#999\" opacity=\"1\">0</text><text text-anchor=\"end\" transform=\"translate(-14,221.75)\" font-family=\"Arial\" font-size=\"10px\" fill=\"#999\" opacity=\"1\">20</text><text text-anchor=\"end\" transform=\"translate(-14,190.5)\" font-family=\"Arial\" font-size=\"10px\" fill=\"#999\" opacity=\"1\">40</text><text text-anchor=\"end\" transform=\"translate(-14,159.25)\" font-family=\"Arial\" font-size=\"10px\" fill=\"#999\" opacity=\"1\">60</text><text text-anchor=\"end\" transform=\"translate(-14,128)\" font-family=\"Arial\" font-size=\"10px\" fill=\"#999\" opacity=\"1\">80</text><text text-anchor=\"end\" transform=\"translate(-14,96.75)\" font-family=\"Arial\" font-size=\"10px\" fill=\"#999\" opacity=\"1\">100</text><text text-anchor=\"end\" transform=\"translate(-14,65.5)\" font-family=\"Arial\" font-size=\"10px\" fill=\"#999\" opacity=\"1\">120</text><text text-anchor=\"end\" transform=\"translate(-14,34.25)\" font-family=\"Arial\" font-size=\"10px\" fill=\"#999\" opacity=\"1\">140</text><text text-anchor=\"end\" transform=\"translate(-14,3)\" font-family=\"Arial\" font-size=\"10px\" fill=\"#999\" opacity=\"1\">160</text></g><g class=\"mark-rule role-axis-domain\" pointer-events=\"none\"><line transform=\"translate(0,250)\" x2=\"0\" y2=\"-250\" stroke=\"#cbcbcb\" stroke-width=\"1\" opacity=\"1\"/></g><g class=\"mark-text role-axis-title\" pointer-events=\"none\"><text text-anchor=\"middle\" transform=\"translate(-42,125) rotate(-90) translate(0,-3)\" font-family=\"Arial\" font-size=\"14px\" font-weight=\"bold\" fill=\"#333\" opacity=\"1\"># Operators</text></g></g><path class=\"foreground\" aria-hidden=\"true\" d=\"\" pointer-events=\"none\" display=\"none\"/></g></g><g class=\"mark-rect role-mark marks\" role=\"graphics-object\" aria-roledescription=\"rect mark container\"><path aria-label=\"% stop accessibility information: 0 – 0.1; # Operators: 157\" role=\"graphics-symbol\" aria-roledescription=\"bar\" d=\"M1,4.687500000000011h39v245.3125h-39Z\" fill=\"#30a2da\"/><path aria-label=\"% stop accessibility information: 0.6 – 0.7; # Operators: 2\" role=\"graphics-symbol\" aria-roledescription=\"bar\" d=\"M241.00000000000003,246.875h39.00000000000003v3.125h-39.00000000000003Z\" fill=\"#30a2da\"/><path aria-label=\"% stop accessibility information: 0.5 – 0.6; # Operators: 2\" role=\"graphics-symbol\" aria-roledescription=\"bar\" d=\"M201,246.875h39.00000000000003v3.125h-39.00000000000003Z\" fill=\"#30a2da\"/><path aria-label=\"% stop accessibility information: 0.9 – 1; # Operators: 12\" role=\"graphics-symbol\" aria-roledescription=\"bar\" d=\"M361,231.25h39v18.75h-39Z\" fill=\"#30a2da\"/><path aria-label=\"% stop accessibility information: 0.8 – 0.9; # Operators: 1\" role=\"graphics-symbol\" aria-roledescription=\"bar\" d=\"M321,248.4375h39v1.5625h-39Z\" fill=\"#30a2da\"/></g><g class=\"mark-group role-title\"><g transform=\"translate(200,-41)\"><path class=\"background\" aria-hidden=\"true\" d=\"M0,0h0v0h0Z\" pointer-events=\"none\"/><g><g class=\"mark-text role-title-text\" role=\"graphics-symbol\" aria-roledescription=\"title\" aria-label=\"Title text 'Operators by % Stop Accessibility Information'\" pointer-events=\"none\"><text text-anchor=\"middle\" transform=\"translate(0,13)\" font-family=\"Arial\" font-size=\"16px\" font-weight=\"300\" fill=\"#000\" opacity=\"1\">Operators by % Stop Accessibility Information</text></g></g><path class=\"foreground\" aria-hidden=\"true\" d=\"\" pointer-events=\"none\" display=\"none\"/></g></g></g><path class=\"foreground\" aria-hidden=\"true\" d=\"\" display=\"none\"/></g></g></g></svg>"
      ],
      "text/plain": [
       "<IPython.core.display.SVG object>"
      ]
     },
     "metadata": {},
     "output_type": "display_data"
    }
   ],
   "source": [
    "make_histogram(stops4, \"pct_has_stop_accessibility\")"
   ]
  },
  {
   "cell_type": "code",
   "execution_count": 8,
   "id": "ca2b62da-c18f-43a0-af3c-109d1944588a",
   "metadata": {},
   "outputs": [],
   "source": [
    "'''\n",
    "trips = (tbl.gtfs_schedule.trips()\n",
    "      >> select(_.calitp_itp_id, _.calitp_url_number, \n",
    "                _.route_id, _.wheelchair_accessible, )\n",
    "      >> group_by(_.calitp_itp_id, _.route_id, _.wheelchair_accessible)\n",
    "      >> arrange(_.calitp_itp_id, _.route_id)\n",
    "      >> collect()\n",
    ")\n",
    "\n",
    "trips.to_parquet(\"./accessibility_trips.parquet\")\n",
    "'''\n",
    "\n",
    "trips = pd.read_parquet(\"./accessibility_trips.parquet\")"
   ]
  },
  {
   "cell_type": "code",
   "execution_count": 9,
   "id": "b9a7b935-35d0-4598-be15-712e9fe19875",
   "metadata": {},
   "outputs": [
    {
     "data": {
      "text/html": [
       "<div>\n",
       "<style scoped>\n",
       "    .dataframe tbody tr th:only-of-type {\n",
       "        vertical-align: middle;\n",
       "    }\n",
       "\n",
       "    .dataframe tbody tr th {\n",
       "        vertical-align: top;\n",
       "    }\n",
       "\n",
       "    .dataframe thead th {\n",
       "        text-align: right;\n",
       "    }\n",
       "</style>\n",
       "<table border=\"1\" class=\"dataframe\">\n",
       "  <thead>\n",
       "    <tr style=\"text-align: right;\">\n",
       "      <th></th>\n",
       "      <th>calitp_itp_id</th>\n",
       "      <th>calitp_url_number</th>\n",
       "      <th>has_route_accessibility</th>\n",
       "      <th>route_id</th>\n",
       "      <th>pct_has_route_accessibility</th>\n",
       "      <th>routes_full_info</th>\n",
       "    </tr>\n",
       "  </thead>\n",
       "  <tbody>\n",
       "    <tr>\n",
       "      <th>0</th>\n",
       "      <td>0</td>\n",
       "      <td>0</td>\n",
       "      <td>0</td>\n",
       "      <td>2940</td>\n",
       "      <td>0.0</td>\n",
       "      <td>0</td>\n",
       "    </tr>\n",
       "    <tr>\n",
       "      <th>1</th>\n",
       "      <td>1</td>\n",
       "      <td>0</td>\n",
       "      <td>0</td>\n",
       "      <td>126</td>\n",
       "      <td>0.0</td>\n",
       "      <td>0</td>\n",
       "    </tr>\n",
       "    <tr>\n",
       "      <th>2</th>\n",
       "      <td>1</td>\n",
       "      <td>1</td>\n",
       "      <td>0</td>\n",
       "      <td>558</td>\n",
       "      <td>0.0</td>\n",
       "      <td>0</td>\n",
       "    </tr>\n",
       "    <tr>\n",
       "      <th>3</th>\n",
       "      <td>1</td>\n",
       "      <td>2</td>\n",
       "      <td>0</td>\n",
       "      <td>558</td>\n",
       "      <td>0.0</td>\n",
       "      <td>0</td>\n",
       "    </tr>\n",
       "    <tr>\n",
       "      <th>4</th>\n",
       "      <td>1</td>\n",
       "      <td>3</td>\n",
       "      <td>0</td>\n",
       "      <td>1167</td>\n",
       "      <td>0.0</td>\n",
       "      <td>0</td>\n",
       "    </tr>\n",
       "  </tbody>\n",
       "</table>\n",
       "</div>"
      ],
      "text/plain": [
       "   calitp_itp_id  calitp_url_number  has_route_accessibility  route_id  \\\n",
       "0              0                  0                        0      2940   \n",
       "1              1                  0                        0       126   \n",
       "2              1                  1                        0       558   \n",
       "3              1                  2                        0       558   \n",
       "4              1                  3                        0      1167   \n",
       "\n",
       "   pct_has_route_accessibility  routes_full_info  \n",
       "0                          0.0                 0  \n",
       "1                          0.0                 0  \n",
       "2                          0.0                 0  \n",
       "3                          0.0                 0  \n",
       "4                          0.0                 0  "
      ]
     },
     "execution_count": 9,
     "metadata": {},
     "output_type": "execute_result"
    }
   ],
   "source": [
    "# https://gtfs.org/reference/static/#tripstxt\n",
    "# 0 is unknown; 1 is accessible; 2 is not accessible\n",
    "TRIPS_VALUES_DICT = {\n",
    "    \"unknown\": 0,\n",
    "    \"0\": 0, \n",
    "    \"1\": 1,\n",
    "    \"2\": 1,\n",
    "}\n",
    "\n",
    "trips2 = categorize_values(trips, \"wheelchair_accessible\", \n",
    "                           values_dict = TRIPS_VALUES_DICT, \n",
    "                           new_colname = \"has_route_accessibility\")\n",
    "\n",
    "trips3 = summarize_metric_for_operator(trips2, \n",
    "                              group_cols = [\"calitp_itp_id\", \"calitp_url_number\"], \n",
    "                              denominator = \"route_id\", \n",
    "                              numerator = \"has_route_accessibility\")\n",
    "\n",
    "trips4 = operator_above_threshold(trips3, \"pct_has_route_accessibility\", \n",
    "                                  threshold=1.0, new_colname=\"routes_full_info\")\n",
    "\n",
    "trips4.head()"
   ]
  },
  {
   "cell_type": "code",
   "execution_count": 10,
   "id": "5578851e-a973-4192-8c5c-750d8ae4326e",
   "metadata": {},
   "outputs": [
    {
     "data": {
      "image/svg+xml": [
       "<svg xmlns=\"http://www.w3.org/2000/svg\" xmlns:xlink=\"http://www.w3.org/1999/xlink\" version=\"1.1\" class=\"marks\" width=\"467\" height=\"349\" viewBox=\"0 0 467 349\"><rect width=\"467\" height=\"349\" fill=\"white\"/><g fill=\"none\" stroke-miterlimit=\"10\" transform=\"translate(61,46)\"><g class=\"mark-group role-frame root\" role=\"graphics-object\" aria-roledescription=\"group mark container\"><g transform=\"translate(0,0)\"><path class=\"background\" aria-hidden=\"true\" d=\"M0.5,0.5h400v250h-400Z\" stroke=\"#ddd\"/><g><g class=\"mark-group role-axis\" aria-hidden=\"true\"><g transform=\"translate(0.5,250.5)\"><path class=\"background\" aria-hidden=\"true\" d=\"M0,0h0v0h0Z\" pointer-events=\"none\"/><g><g class=\"mark-rule role-axis-grid\" pointer-events=\"none\"><line transform=\"translate(0,-250)\" x2=\"0\" y2=\"250\" stroke=\"#cbcbcb\" stroke-width=\"1\" opacity=\"1\"/><line transform=\"translate(40,-250)\" x2=\"0\" y2=\"250\" stroke=\"#cbcbcb\" stroke-width=\"1\" opacity=\"1\"/><line transform=\"translate(80,-250)\" x2=\"0\" y2=\"250\" stroke=\"#cbcbcb\" stroke-width=\"1\" opacity=\"1\"/><line transform=\"translate(120,-250)\" x2=\"0\" y2=\"250\" stroke=\"#cbcbcb\" stroke-width=\"1\" opacity=\"1\"/><line transform=\"translate(160,-250)\" x2=\"0\" y2=\"250\" stroke=\"#cbcbcb\" stroke-width=\"1\" opacity=\"1\"/><line transform=\"translate(200,-250)\" x2=\"0\" y2=\"250\" stroke=\"#cbcbcb\" stroke-width=\"1\" opacity=\"1\"/><line transform=\"translate(240,-250)\" x2=\"0\" y2=\"250\" stroke=\"#cbcbcb\" stroke-width=\"1\" opacity=\"1\"/><line transform=\"translate(280,-250)\" x2=\"0\" y2=\"250\" stroke=\"#cbcbcb\" stroke-width=\"1\" opacity=\"1\"/><line transform=\"translate(320,-250)\" x2=\"0\" y2=\"250\" stroke=\"#cbcbcb\" stroke-width=\"1\" opacity=\"1\"/><line transform=\"translate(360,-250)\" x2=\"0\" y2=\"250\" stroke=\"#cbcbcb\" stroke-width=\"1\" opacity=\"1\"/><line transform=\"translate(400,-250)\" x2=\"0\" y2=\"250\" stroke=\"#cbcbcb\" stroke-width=\"1\" opacity=\"1\"/></g></g><path class=\"foreground\" aria-hidden=\"true\" d=\"\" pointer-events=\"none\" display=\"none\"/></g></g><g class=\"mark-group role-axis\" aria-hidden=\"true\"><g transform=\"translate(0.5,0.5)\"><path class=\"background\" aria-hidden=\"true\" d=\"M0,0h0v0h0Z\" pointer-events=\"none\"/><g><g class=\"mark-rule role-axis-grid\" pointer-events=\"none\"><line transform=\"translate(0,250)\" x2=\"400\" y2=\"0\" stroke=\"#cbcbcb\" stroke-width=\"1\" opacity=\"1\"/><line transform=\"translate(0,219)\" x2=\"400\" y2=\"0\" stroke=\"#cbcbcb\" stroke-width=\"1\" opacity=\"1\"/><line transform=\"translate(0,188)\" x2=\"400\" y2=\"0\" stroke=\"#cbcbcb\" stroke-width=\"1\" opacity=\"1\"/><line transform=\"translate(0,156)\" x2=\"400\" y2=\"0\" stroke=\"#cbcbcb\" stroke-width=\"1\" opacity=\"1\"/><line transform=\"translate(0,125)\" x2=\"400\" y2=\"0\" stroke=\"#cbcbcb\" stroke-width=\"1\" opacity=\"1\"/><line transform=\"translate(0,94)\" x2=\"400\" y2=\"0\" stroke=\"#cbcbcb\" stroke-width=\"1\" opacity=\"1\"/><line transform=\"translate(0,63)\" x2=\"400\" y2=\"0\" stroke=\"#cbcbcb\" stroke-width=\"1\" opacity=\"1\"/><line transform=\"translate(0,31)\" x2=\"400\" y2=\"0\" stroke=\"#cbcbcb\" stroke-width=\"1\" opacity=\"1\"/><line transform=\"translate(0,0)\" x2=\"400\" y2=\"0\" stroke=\"#cbcbcb\" stroke-width=\"1\" opacity=\"1\"/></g></g><path class=\"foreground\" aria-hidden=\"true\" d=\"\" pointer-events=\"none\" display=\"none\"/></g></g><g class=\"mark-group role-axis\" role=\"graphics-symbol\" aria-roledescription=\"axis\" aria-label=\"X-axis titled '% route accessibility information' for a linear scale with values from 0.0 to 1.0\"><g transform=\"translate(0.5,250.5)\"><path class=\"background\" aria-hidden=\"true\" d=\"M0,0h0v0h0Z\" pointer-events=\"none\"/><g><g class=\"mark-rule role-axis-tick\" pointer-events=\"none\"><line transform=\"translate(0,0)\" x2=\"0\" y2=\"10\" stroke=\"#cbcbcb\" stroke-width=\"1\" opacity=\"1\"/><line transform=\"translate(40,0)\" x2=\"0\" y2=\"10\" stroke=\"#cbcbcb\" stroke-width=\"1\" opacity=\"1\"/><line transform=\"translate(80,0)\" x2=\"0\" y2=\"10\" stroke=\"#cbcbcb\" stroke-width=\"1\" opacity=\"1\"/><line transform=\"translate(120,0)\" x2=\"0\" y2=\"10\" stroke=\"#cbcbcb\" stroke-width=\"1\" opacity=\"1\"/><line transform=\"translate(160,0)\" x2=\"0\" y2=\"10\" stroke=\"#cbcbcb\" stroke-width=\"1\" opacity=\"1\"/><line transform=\"translate(200,0)\" x2=\"0\" y2=\"10\" stroke=\"#cbcbcb\" stroke-width=\"1\" opacity=\"1\"/><line transform=\"translate(240,0)\" x2=\"0\" y2=\"10\" stroke=\"#cbcbcb\" stroke-width=\"1\" opacity=\"1\"/><line transform=\"translate(280,0)\" x2=\"0\" y2=\"10\" stroke=\"#cbcbcb\" stroke-width=\"1\" opacity=\"1\"/><line transform=\"translate(320,0)\" x2=\"0\" y2=\"10\" stroke=\"#cbcbcb\" stroke-width=\"1\" opacity=\"1\"/><line transform=\"translate(360,0)\" x2=\"0\" y2=\"10\" stroke=\"#cbcbcb\" stroke-width=\"1\" opacity=\"1\"/><line transform=\"translate(400,0)\" x2=\"0\" y2=\"10\" stroke=\"#cbcbcb\" stroke-width=\"1\" opacity=\"1\"/></g><g class=\"mark-text role-axis-label\" pointer-events=\"none\"><text text-anchor=\"start\" transform=\"translate(0,22)\" font-family=\"Arial\" font-size=\"10px\" fill=\"#999\" opacity=\"1\">0.00</text><text text-anchor=\"middle\" transform=\"translate(40,22)\" font-family=\"Arial\" font-size=\"10px\" fill=\"#999\" opacity=\"1\">0.10</text><text text-anchor=\"middle\" transform=\"translate(80,22)\" font-family=\"Arial\" font-size=\"10px\" fill=\"#999\" opacity=\"1\">0.20</text><text text-anchor=\"middle\" transform=\"translate(120.00000000000001,22)\" font-family=\"Arial\" font-size=\"10px\" fill=\"#999\" opacity=\"1\">0.30</text><text text-anchor=\"middle\" transform=\"translate(160,22)\" font-family=\"Arial\" font-size=\"10px\" fill=\"#999\" opacity=\"1\">0.40</text><text text-anchor=\"middle\" transform=\"translate(200,22)\" font-family=\"Arial\" font-size=\"10px\" fill=\"#999\" opacity=\"1\">0.50</text><text text-anchor=\"middle\" transform=\"translate(240.00000000000003,22)\" font-family=\"Arial\" font-size=\"10px\" fill=\"#999\" opacity=\"1\">0.60</text><text text-anchor=\"middle\" transform=\"translate(280,22)\" font-family=\"Arial\" font-size=\"10px\" fill=\"#999\" opacity=\"1\">0.70</text><text text-anchor=\"middle\" transform=\"translate(320,22)\" font-family=\"Arial\" font-size=\"10px\" fill=\"#999\" opacity=\"1\">0.80</text><text text-anchor=\"middle\" transform=\"translate(360,22)\" font-family=\"Arial\" font-size=\"10px\" fill=\"#999\" opacity=\"1\">0.90</text><text text-anchor=\"end\" transform=\"translate(400,22)\" font-family=\"Arial\" font-size=\"10px\" fill=\"#999\" opacity=\"1\">1.00</text></g><g class=\"mark-rule role-axis-domain\" pointer-events=\"none\"><line transform=\"translate(0,0)\" x2=\"400\" y2=\"0\" stroke=\"#cbcbcb\" stroke-width=\"1\" opacity=\"1\"/></g><g class=\"mark-text role-axis-title\" pointer-events=\"none\"><text text-anchor=\"middle\" transform=\"translate(200,45)\" font-family=\"Arial\" font-size=\"14px\" font-weight=\"bold\" fill=\"#333\" opacity=\"1\">% route accessibility information</text></g></g><path class=\"foreground\" aria-hidden=\"true\" d=\"\" pointer-events=\"none\" display=\"none\"/></g></g><g class=\"mark-group role-axis\" role=\"graphics-symbol\" aria-roledescription=\"axis\" aria-label=\"Y-axis titled '# Operators' for a linear scale with values from 0 to 160\"><g transform=\"translate(0.5,0.5)\"><path class=\"background\" aria-hidden=\"true\" d=\"M0,0h0v0h0Z\" pointer-events=\"none\"/><g><g class=\"mark-rule role-axis-tick\" pointer-events=\"none\"><line transform=\"translate(0,250)\" x2=\"-10\" y2=\"0\" stroke=\"#cbcbcb\" stroke-width=\"1\" opacity=\"1\"/><line transform=\"translate(0,219)\" x2=\"-10\" y2=\"0\" stroke=\"#cbcbcb\" stroke-width=\"1\" opacity=\"1\"/><line transform=\"translate(0,188)\" x2=\"-10\" y2=\"0\" stroke=\"#cbcbcb\" stroke-width=\"1\" opacity=\"1\"/><line transform=\"translate(0,156)\" x2=\"-10\" y2=\"0\" stroke=\"#cbcbcb\" stroke-width=\"1\" opacity=\"1\"/><line transform=\"translate(0,125)\" x2=\"-10\" y2=\"0\" stroke=\"#cbcbcb\" stroke-width=\"1\" opacity=\"1\"/><line transform=\"translate(0,94)\" x2=\"-10\" y2=\"0\" stroke=\"#cbcbcb\" stroke-width=\"1\" opacity=\"1\"/><line transform=\"translate(0,63)\" x2=\"-10\" y2=\"0\" stroke=\"#cbcbcb\" stroke-width=\"1\" opacity=\"1\"/><line transform=\"translate(0,31)\" x2=\"-10\" y2=\"0\" stroke=\"#cbcbcb\" stroke-width=\"1\" opacity=\"1\"/><line transform=\"translate(0,0)\" x2=\"-10\" y2=\"0\" stroke=\"#cbcbcb\" stroke-width=\"1\" opacity=\"1\"/></g><g class=\"mark-text role-axis-label\" pointer-events=\"none\"><text text-anchor=\"end\" transform=\"translate(-14,253)\" font-family=\"Arial\" font-size=\"10px\" fill=\"#999\" opacity=\"1\">0</text><text text-anchor=\"end\" transform=\"translate(-14,221.75)\" font-family=\"Arial\" font-size=\"10px\" fill=\"#999\" opacity=\"1\">20</text><text text-anchor=\"end\" transform=\"translate(-14,190.5)\" font-family=\"Arial\" font-size=\"10px\" fill=\"#999\" opacity=\"1\">40</text><text text-anchor=\"end\" transform=\"translate(-14,159.25)\" font-family=\"Arial\" font-size=\"10px\" fill=\"#999\" opacity=\"1\">60</text><text text-anchor=\"end\" transform=\"translate(-14,128)\" font-family=\"Arial\" font-size=\"10px\" fill=\"#999\" opacity=\"1\">80</text><text text-anchor=\"end\" transform=\"translate(-14,96.75)\" font-family=\"Arial\" font-size=\"10px\" fill=\"#999\" opacity=\"1\">100</text><text text-anchor=\"end\" transform=\"translate(-14,65.5)\" font-family=\"Arial\" font-size=\"10px\" fill=\"#999\" opacity=\"1\">120</text><text text-anchor=\"end\" transform=\"translate(-14,34.25)\" font-family=\"Arial\" font-size=\"10px\" fill=\"#999\" opacity=\"1\">140</text><text text-anchor=\"end\" transform=\"translate(-14,3)\" font-family=\"Arial\" font-size=\"10px\" fill=\"#999\" opacity=\"1\">160</text></g><g class=\"mark-rule role-axis-domain\" pointer-events=\"none\"><line transform=\"translate(0,250)\" x2=\"0\" y2=\"-250\" stroke=\"#cbcbcb\" stroke-width=\"1\" opacity=\"1\"/></g><g class=\"mark-text role-axis-title\" pointer-events=\"none\"><text text-anchor=\"middle\" transform=\"translate(-42,125) rotate(-90) translate(0,-3)\" font-family=\"Arial\" font-size=\"14px\" font-weight=\"bold\" fill=\"#333\" opacity=\"1\"># Operators</text></g></g><path class=\"foreground\" aria-hidden=\"true\" d=\"\" pointer-events=\"none\" display=\"none\"/></g></g><g class=\"mark-rect role-mark marks\" role=\"graphics-object\" aria-roledescription=\"rect mark container\"><path aria-label=\"% route accessibility information: 0 – 0.1; # Operators: 160\" role=\"graphics-symbol\" aria-roledescription=\"bar\" d=\"M1,0h39v250h-39Z\" fill=\"#30a2da\"/><path aria-label=\"% route accessibility information: 0.9 – 1; # Operators: 13\" role=\"graphics-symbol\" aria-roledescription=\"bar\" d=\"M361,229.6875h39v20.3125h-39Z\" fill=\"#30a2da\"/><path aria-label=\"% route accessibility information: 0.8 – 0.9; # Operators: 1\" role=\"graphics-symbol\" aria-roledescription=\"bar\" d=\"M321,248.4375h39v1.5625h-39Z\" fill=\"#30a2da\"/></g><g class=\"mark-group role-title\"><g transform=\"translate(200,-41)\"><path class=\"background\" aria-hidden=\"true\" d=\"M0,0h0v0h0Z\" pointer-events=\"none\"/><g><g class=\"mark-text role-title-text\" role=\"graphics-symbol\" aria-roledescription=\"title\" aria-label=\"Title text 'Operators by % Route Accessibility Information'\" pointer-events=\"none\"><text text-anchor=\"middle\" transform=\"translate(0,13)\" font-family=\"Arial\" font-size=\"16px\" font-weight=\"300\" fill=\"#000\" opacity=\"1\">Operators by % Route Accessibility Information</text></g></g><path class=\"foreground\" aria-hidden=\"true\" d=\"\" pointer-events=\"none\" display=\"none\"/></g></g></g><path class=\"foreground\" aria-hidden=\"true\" d=\"\" display=\"none\"/></g></g></g></svg>"
      ],
      "text/plain": [
       "<IPython.core.display.SVG object>"
      ]
     },
     "metadata": {},
     "output_type": "display_data"
    }
   ],
   "source": [
    "make_histogram(trips4, \"pct_has_route_accessibility\")"
   ]
  },
  {
   "cell_type": "code",
   "execution_count": 11,
   "id": "c8e92585-c2ca-46cb-817e-bc221baa21b8",
   "metadata": {},
   "outputs": [
    {
     "data": {
      "text/html": [
       "<div>\n",
       "<style scoped>\n",
       "    .dataframe tbody tr th:only-of-type {\n",
       "        vertical-align: middle;\n",
       "    }\n",
       "\n",
       "    .dataframe tbody tr th {\n",
       "        vertical-align: top;\n",
       "    }\n",
       "\n",
       "    .dataframe thead th {\n",
       "        text-align: right;\n",
       "    }\n",
       "</style>\n",
       "<table border=\"1\" class=\"dataframe\">\n",
       "  <thead>\n",
       "    <tr style=\"text-align: right;\">\n",
       "      <th></th>\n",
       "      <th>category</th>\n",
       "      <th>value</th>\n",
       "    </tr>\n",
       "  </thead>\n",
       "  <tbody>\n",
       "    <tr>\n",
       "      <th>0</th>\n",
       "      <td>stops</td>\n",
       "      <td>5</td>\n",
       "    </tr>\n",
       "    <tr>\n",
       "      <th>1</th>\n",
       "      <td>routes</td>\n",
       "      <td>13</td>\n",
       "    </tr>\n",
       "  </tbody>\n",
       "</table>\n",
       "</div>"
      ],
      "text/plain": [
       "  category  value\n",
       "0    stops      5\n",
       "1   routes     13"
      ]
     },
     "execution_count": 11,
     "metadata": {},
     "output_type": "execute_result"
    }
   ],
   "source": [
    "full_info = {\n",
    "    \"stops\": len(stops4[stops4.stops_full_info==1]),\n",
    "    \"routes\": len(trips4[trips4.routes_full_info==1]),\n",
    "}\n",
    "\n",
    "combined = (pd.DataFrame.from_dict(full_info, orient=\"index\", columns=[\"value\"])\n",
    "        .reset_index()\n",
    "        .rename(columns = {\"index\": \"category\"})\n",
    "       )\n",
    "\n",
    "combined"
   ]
  },
  {
   "cell_type": "code",
   "execution_count": null,
   "id": "aa692632-ac63-47ce-9d75-25655db8264b",
   "metadata": {},
   "outputs": [],
   "source": [
    "# This doesn't show unique operators\n",
    "# If an operator has full information for both, it would show up twice\n",
    "(alt.Chart(combined)\n",
    " .mark_bar()\n",
    " .encode(\n",
    "     x=\"category\",\n",
    "     y=\"value\"\n",
    " )\n",
    "\n",
    ")"
   ]
  },
  {
   "cell_type": "code",
   "execution_count": null,
   "id": "3d713c6b-6db9-489b-9903-495229ab053c",
   "metadata": {},
   "outputs": [],
   "source": [
    "def my_function(df, numerator, denominator):\n",
    "    df = df.assign(\n",
    "        pct = df[numerator] / df[denominator]\n",
    "    )\n",
    "    \n",
    "    return df\n",
    "\n",
    "def my_siuba_function(df, numerator, denominator):\n",
    "    df = (df\n",
    "          >> mutate(pct = numerator / denominator)\n",
    "    )\n",
    "    return df\n",
    "\n",
    "\n",
    "def siuba_function(df, group_cols = [], numerator=\"\", denominator=\"\"):\n",
    "    df2 = (df\n",
    "           # unpack the list because siuba doesn't take list\n",
    "           >> group_by(*group_cols)\n",
    "           >> summarize(denominator = _[denominator].count(), \n",
    "                        numerator = _[numerator].sum()\n",
    "                       )\n",
    "           >> mutate(pct = _.numerator / _.denominator)\n",
    "           # Not sure how to get the renaming done\n",
    "           # Similar to .assign(), and renaming needs to be able to take f-string\n",
    "    )\n",
    "    return df2\n",
    "\n",
    "\n",
    "siuba_function(stops2, group_cols = [\"calitp_itp_id\", \"calitp_url_number\"],\n",
    "               numerator = \"has_stop_accessibility\",\n",
    "               denominator = \"stop_id\").head()\n"
   ]
  },
  {
   "cell_type": "code",
   "execution_count": null,
   "id": "ed16fe26-204e-4110-8b72-9db1c6aaf42f",
   "metadata": {},
   "outputs": [],
   "source": [
    "'''\n",
    "pathways = (tbl.views.gtfs_schedule_dim_pathways()\n",
    " >> select(_.calitp_itp_id, \n",
    "           _.from_stop_id, _.to_stop_id,\n",
    "           _.pathway_mode, _.pathway_id, _.pathway_key)\n",
    " >> inner_join(_, \n",
    "              (tbl.views.gtfs_schedule_fact_daily_pathways()\n",
    "               >> select(_.pathway_key, _.date)\n",
    "              ), \n",
    "              \"pathway_key\")\n",
    "            >> collect()\n",
    ")\n",
    "\n",
    "pathways.to_parquet(\"./pathways.parquet\")\n",
    "'''\n",
    "pathways = pd.read_parquet(\"./pathways.parquet\")"
   ]
  },
  {
   "cell_type": "code",
   "execution_count": null,
   "id": "2b7a6eb9-4885-47ac-b82f-1e6195a5120c",
   "metadata": {},
   "outputs": [],
   "source": [
    "# Only 1 operator (Bay Area aggregate feed) has pathways\n",
    "# Select the most recent date\n",
    "pathways2 = (pathways\n",
    " >> group_by(_.calitp_itp_id)\n",
    " >> filter(_.date == _.date.max())\n",
    ")\n",
    "\n",
    "pathways2.calitp_itp_id.nunique()"
   ]
  },
  {
   "cell_type": "code",
   "execution_count": null,
   "id": "000dba9a-3599-4807-89f2-0a3affe07c87",
   "metadata": {},
   "outputs": [],
   "source": [
    "pathways2.head(2)"
   ]
  },
  {
   "cell_type": "code",
   "execution_count": null,
   "id": "95a4052d-3a5b-4d57-a883-16811bf9bea6",
   "metadata": {},
   "outputs": [],
   "source": [
    "def calculate_feed_score(stop_df, trip_df):\n",
    "    df = pd.merge(stop_df, trip_df, \n",
    "                  on = [\"calitp_itp_id\", \"calitp_url_number\"],\n",
    "                  how = \"inner\", \n",
    "                  validate = \"1:1\")\n",
    "    \n",
    "    STOP_WEIGHT = 0.5\n",
    "    TRIP_WEIGHT = 0.5\n",
    "    \n",
    "    df = df.assign(\n",
    "        feed_score = ((STOP_WEIGHT * df.pct_has_stop_accessibility) + \n",
    "                      (TRIP_WEIGHT * df.pct_has_route_accessibility)\n",
    "                     )\n",
    "    )\n",
    "    \n",
    "    return df\n",
    "'''\n",
    "# calculate overall accessible score\n",
    "feed_score = (\n",
    "    stops_and_trips_weight * calculate_percent_of_stops_with_explicitly_defined_wheelchair_code() + \n",
    "    stops_and_trips_weight * calculate_percent_of_trips_with_explicitly_defined_wheelchair_code() + \n",
    "    # TODO: a more rigorous analysis that checks if each child-stop of a parent is able to be accessed to \n",
    "    # every other child-stop of the parent stop would be needed to calculate a more realistic value here.\n",
    "    # Until then, a full score on pathways-completeness is given if more than 0 pathways entries exist.\n",
    "    (0 if not pathways_required else 0.3333 if count_num_pathways() > 0 else 0)\n",
    ") / (3 if pathways_required else 2)\n",
    "'''"
   ]
  },
  {
   "cell_type": "code",
   "execution_count": null,
   "id": "4e44148a-1ecc-48a7-9f9f-e60e2222638d",
   "metadata": {},
   "outputs": [],
   "source": [
    "df = calculate_feed_score(stops4, trips4)\n",
    "df.head()"
   ]
  },
  {
   "cell_type": "code",
   "execution_count": null,
   "id": "b9f8c1e1-acdc-4cbf-b375-2c55610afe95",
   "metadata": {},
   "outputs": [],
   "source": [
    "# Distribution of feed score\n",
    "# Most are 0's, but can see that a 100% threshold only grabs very few operators\n",
    "(alt.Chart(df)\n",
    " .mark_bar()\n",
    " .encode(\n",
    "     x=alt.X(\"feed_score:Q\", bin=True),\n",
    "     y=\"count()\"\n",
    " )\n",
    ")"
   ]
  },
  {
   "cell_type": "code",
   "execution_count": null,
   "id": "39488cd2-034a-40d3-8358-625946c644ca",
   "metadata": {},
   "outputs": [],
   "source": [
    "# Add histogram for stops/trips for pct_accessible\n",
    "# With validation errors, some errors show up a lot (not a big deal), but \n",
    "# some show up very infrequently but are actually very critical\n",
    "# getting unique validation notices for each feed\n",
    "# % of feeds with each type of notice"
   ]
  },
  {
   "cell_type": "code",
   "execution_count": null,
   "id": "1d084ab2-d420-4ffe-83cd-a1cac1b09c72",
   "metadata": {},
   "outputs": [],
   "source": [
    "# daily fact files, come up with metrics on per day basis\n",
    "# but for quarterly dashboard? maybe not daily? discuss with E/Evan"
   ]
  },
  {
   "cell_type": "code",
   "execution_count": null,
   "id": "7a24904b-de1e-453b-983b-913e2364295b",
   "metadata": {},
   "outputs": [],
   "source": []
  }
 ],
 "metadata": {
  "kernelspec": {
   "display_name": "Python 3 (ipykernel)",
   "language": "python",
   "name": "python3"
  },
  "language_info": {
   "codemirror_mode": {
    "name": "ipython",
    "version": 3
   },
   "file_extension": ".py",
   "mimetype": "text/x-python",
   "name": "python",
   "nbconvert_exporter": "python",
   "pygments_lexer": "ipython3",
   "version": "3.9.7"
  }
 },
 "nbformat": 4,
 "nbformat_minor": 5
}
