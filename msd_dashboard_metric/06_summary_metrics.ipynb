{
 "cells": [
  {
   "cell_type": "code",
   "execution_count": 1,
   "id": "e3202300-c576-49d9-8985-7661280d340c",
   "metadata": {},
   "outputs": [
    {
     "name": "stderr",
     "output_type": "stream",
     "text": [
      "/opt/conda/lib/python3.9/site-packages/geopandas/_compat.py:111: UserWarning: The Shapely GEOS version (3.9.1-CAPI-1.14.2) is incompatible with the GEOS version PyGEOS was compiled with (3.10.1-CAPI-1.16.0). Conversions between both will be slow.\n",
      "  warnings.warn(\n"
     ]
    }
   ],
   "source": [
    "import pandas as pd\n",
    "import geopandas as gpd\n",
    "\n",
    "import shared_utils\n",
    "from utils import *\n",
    "import intake\n",
    "import gcsfs\n",
    "\n",
    "import calitp\n",
    "from calitp.tables import tbl\n",
    "from siuba import *\n",
    "\n",
    "# from ipyleaflet import Map, GeoJSON, projections, basemaps, GeoData, LayersControl, WidgetControl, GeoJSON, LegendControl\n",
    "# from ipywidgets import Text, HTML"
   ]
  },
  {
   "cell_type": "code",
   "execution_count": 2,
   "id": "e18f6c14-f380-4462-b52e-916b211848c4",
   "metadata": {},
   "outputs": [],
   "source": [
    "ca_block_joined = gpd.read_parquet(f'{GCS_FILE_PATH}block_population_joined.parquet')"
   ]
  },
  {
   "cell_type": "code",
   "execution_count": 3,
   "id": "62530402-c797-4775-a075-a65df85856f1",
   "metadata": {},
   "outputs": [],
   "source": [
    "all_stops = gpd.read_parquet(f'{GCS_FILE_PATH}all_stops.parquet')"
   ]
  },
  {
   "cell_type": "code",
   "execution_count": 4,
   "id": "a0e61169-e38b-4aae-bec5-21590ff44eb6",
   "metadata": {},
   "outputs": [],
   "source": [
    "accessible_stops_trips = gpd.read_parquet(f'{GCS_FILE_PATH}accessible_stops_trips.parquet')"
   ]
  },
  {
   "cell_type": "code",
   "execution_count": 5,
   "id": "5683e8e9-8b4d-42e2-9a87-c7e0c0458686",
   "metadata": {},
   "outputs": [],
   "source": [
    "rt_complete = pd.read_parquet(f'{GCS_FILE_PATH}rt_complete.parquet')"
   ]
  },
  {
   "cell_type": "code",
   "execution_count": 6,
   "id": "450b2881-9172-4698-a887-cfb5c454582f",
   "metadata": {},
   "outputs": [],
   "source": [
    "block_level_accessible = (gpd.read_parquet(f'{GCS_FILE_PATH}block_level_accessible.parquet')\n",
    "                          .drop_duplicates(subset=['geo_id', 'calitp_itp_id'])\n",
    "                          .reset_index()\n",
    "                         )"
   ]
  },
  {
   "cell_type": "code",
   "execution_count": 7,
   "id": "e3b0dcfa-430a-4ef7-b31f-63c3c1430d66",
   "metadata": {},
   "outputs": [],
   "source": [
    "block_level_static = (gpd.read_parquet(f'{GCS_FILE_PATH}block_level_static.parquet')\n",
    "                          .drop_duplicates(subset=['geo_id', 'calitp_itp_id'])\n",
    "                          .reset_index()\n",
    "                         )"
   ]
  },
  {
   "cell_type": "code",
   "execution_count": 8,
   "id": "ad0db942-785d-46ba-9e0b-dda670c2d7ee",
   "metadata": {},
   "outputs": [],
   "source": [
    "all_stops_rt = gpd.read_parquet(f'{GCS_FILE_PATH}all_stops_rt.parquet')"
   ]
  },
  {
   "cell_type": "code",
   "execution_count": 9,
   "id": "a31fba18-e877-44f4-9f2a-c15ecc93d7b6",
   "metadata": {},
   "outputs": [],
   "source": [
    "accessible_stops_trips_rt = gpd.read_parquet(f'{GCS_FILE_PATH}accessible_stops_trips_rt.parquet')"
   ]
  },
  {
   "cell_type": "code",
   "execution_count": 10,
   "id": "01ad70dd-1ec3-47d0-afc7-abbffdb89cfa",
   "metadata": {},
   "outputs": [],
   "source": [
    "tract_pop_employ_filtered = gpd.read_parquet(f'{GCS_FILE_PATH}tract_pop_employ_filtered.parquet')"
   ]
  },
  {
   "cell_type": "code",
   "execution_count": 11,
   "id": "bf6d02e7-e713-4790-8b12-004b0ec34461",
   "metadata": {},
   "outputs": [],
   "source": [
    "accessible_stops_trips_rt = accessible_stops_trips_rt >> select(-_.index_right, -_.index_left)"
   ]
  },
  {
   "cell_type": "code",
   "execution_count": 12,
   "id": "fff08766-d2bf-4239-b0c7-f16ccce10b7b",
   "metadata": {},
   "outputs": [],
   "source": [
    "acc_rt_employ = (tract_pop_employ_filtered\n",
    "                    .sjoin(accessible_stops_trips_rt, how='inner', predicate='intersects')\n",
    "                    .drop_duplicates(subset=['Tract'])\n",
    "                   )"
   ]
  },
  {
   "cell_type": "code",
   "execution_count": 13,
   "id": "df6d55e5-ae4e-49c2-9e66-32f64d826688",
   "metadata": {},
   "outputs": [],
   "source": [
    "all_stops_rt = all_stops_rt >> select(-_.index_right, -_.index_left)"
   ]
  },
  {
   "cell_type": "code",
   "execution_count": 14,
   "id": "c90a03fe-f739-4306-8786-f4d286cfcffb",
   "metadata": {},
   "outputs": [],
   "source": [
    "all_rt_employ = (tract_pop_employ_filtered\n",
    "                    .sjoin(all_stops_rt, how='inner', predicate='intersects')\n",
    "                    .drop_duplicates(subset=['Tract'])\n",
    "                   )"
   ]
  },
  {
   "cell_type": "code",
   "execution_count": 15,
   "id": "4b72519f-bd10-4f32-b27f-4c8b8cbbb35e",
   "metadata": {},
   "outputs": [],
   "source": [
    "accessible_employment_joined = (tract_pop_employ_filtered\n",
    "                    .sjoin(accessible_stops_trips, how='inner', predicate='intersects')\n",
    "                    # .drop_duplicates(subset=['Tract'])\n",
    "                   ) >> select(-_.index_right, -_.index_left)"
   ]
  },
  {
   "cell_type": "code",
   "execution_count": 16,
   "id": "9fb8bb35-c793-4e9c-ae03-d64b7f2a8705",
   "metadata": {},
   "outputs": [],
   "source": [
    "all_employment_joined = (tract_pop_employ_filtered\n",
    "                    .sjoin(all_stops, how='inner', predicate='intersects')\n",
    "                    # .drop_duplicates(subset=['Tract'])\n",
    "                   ) >> select(-_.index_right, -_.index_left)"
   ]
  },
  {
   "cell_type": "code",
   "execution_count": 17,
   "id": "74390cf8-cb5d-47e6-bda1-b1b06e96c504",
   "metadata": {},
   "outputs": [],
   "source": [
    "row_metrics = {'Population': 'block_pop', 'Land Area': 'area', 'Jobs (<4sq km tracts only)': 'num_jobs'}\n",
    "col_geographies = {'GTFS Static': [block_level_static.drop_duplicates(subset=['geo_id']),\n",
    "                                   all_employment_joined.drop_duplicates(subset=['Tract'])],\n",
    "                   'Accessible Static': [block_level_accessible.drop_duplicates(subset=['geo_id']),\n",
    "                                         accessible_employment_joined.drop_duplicates(subset=['Tract'])],\n",
    "                   'GTFS RT': [all_stops_rt.drop_duplicates(subset=['geo_id']), all_rt_employ],\n",
    "                   'Accessible RT': [accessible_stops_trips_rt.drop_duplicates(subset=['geo_id']),\n",
    "                                     acc_rt_employ.drop_duplicates(subset=['Tract'])]}"
   ]
  },
  {
   "cell_type": "code",
   "execution_count": 18,
   "id": "49e75f27-b334-4911-89bf-4869ce9da8f2",
   "metadata": {},
   "outputs": [],
   "source": [
    "summary_df = pd.DataFrame()\n",
    "\n",
    "for row in row_metrics.keys():\n",
    "    to_append = {}\n",
    "    if row == 'Jobs (<4sq km tracts only)':\n",
    "        for col in col_geographies.keys():\n",
    "            metric = calculate_access_proportion(col_geographies[col][1], tract_pop_employ_filtered, row_metrics[row])\n",
    "            to_append[col] = metric\n",
    "    else:\n",
    "        for col in col_geographies.keys():\n",
    "            metric = calculate_access_proportion(col_geographies[col][0], ca_block_joined, row_metrics[row])\n",
    "            to_append[col] = metric\n",
    "    to_append = pd.DataFrame(to_append, index = [row])\n",
    "    summary_df = summary_df.append(to_append)    "
   ]
  },
  {
   "cell_type": "markdown",
   "id": "ebe4db65-ddd2-4b7a-9909-51828b03c4d4",
   "metadata": {},
   "source": [
    "## Summary of all Metrics\n",
    "\n",
    "* Population metrics: percent of CA population within a block group near a qualifying transit stop, excluding block groups > 4 sq km\n",
    "* Land Area metrics: percent of CA land area made up of block groups near a qualifying transit stop, excluding block groups > 4 sq km\n",
    "* Employment metrics: percent of CA jobs in a census tract near a qualifying transit stop, excluding tracts > 4 sq km\n",
    "    * this currently means the analysis only looks at about 60% of CA jobs, it could be made more precise by pulling finer-grained employment data if desired\n",
    "    * likely makes transit look \"better\" than a job analysis of all jobs, since these urban/suburban tracts are probably more likely to have at least some transit service"
   ]
  },
  {
   "cell_type": "code",
   "execution_count": 19,
   "id": "38b72b31-9b4b-4341-9754-2db8654b6777",
   "metadata": {},
   "outputs": [
    {
     "data": {
      "text/html": [
       "<div>\n",
       "<style scoped>\n",
       "    .dataframe tbody tr th:only-of-type {\n",
       "        vertical-align: middle;\n",
       "    }\n",
       "\n",
       "    .dataframe tbody tr th {\n",
       "        vertical-align: top;\n",
       "    }\n",
       "\n",
       "    .dataframe thead th {\n",
       "        text-align: right;\n",
       "    }\n",
       "</style>\n",
       "<table border=\"1\" class=\"dataframe\">\n",
       "  <thead>\n",
       "    <tr style=\"text-align: right;\">\n",
       "      <th></th>\n",
       "      <th>GTFS Static</th>\n",
       "      <th>Accessible Static</th>\n",
       "      <th>GTFS RT</th>\n",
       "      <th>Accessible RT</th>\n",
       "    </tr>\n",
       "  </thead>\n",
       "  <tbody>\n",
       "    <tr>\n",
       "      <th>Population</th>\n",
       "      <td>85.95</td>\n",
       "      <td>10.02</td>\n",
       "      <td>59.65</td>\n",
       "      <td>3.67</td>\n",
       "    </tr>\n",
       "    <tr>\n",
       "      <th>Land Area</th>\n",
       "      <td>11.58</td>\n",
       "      <td>0.93</td>\n",
       "      <td>5.33</td>\n",
       "      <td>0.42</td>\n",
       "    </tr>\n",
       "    <tr>\n",
       "      <th>Jobs (&lt;4sq km tracts only)</th>\n",
       "      <td>99.32</td>\n",
       "      <td>18.61</td>\n",
       "      <td>83.52</td>\n",
       "      <td>12.57</td>\n",
       "    </tr>\n",
       "  </tbody>\n",
       "</table>\n",
       "</div>"
      ],
      "text/plain": [
       "                            GTFS Static  Accessible Static  GTFS RT  \\\n",
       "Population                        85.95              10.02    59.65   \n",
       "Land Area                         11.58               0.93     5.33   \n",
       "Jobs (<4sq km tracts only)        99.32              18.61    83.52   \n",
       "\n",
       "                            Accessible RT  \n",
       "Population                           3.67  \n",
       "Land Area                            0.42  \n",
       "Jobs (<4sq km tracts only)          12.57  "
      ]
     },
     "execution_count": 19,
     "metadata": {},
     "output_type": "execute_result"
    }
   ],
   "source": [
    "summary_df"
   ]
  },
  {
   "cell_type": "code",
   "execution_count": null,
   "id": "670d28a9-22b2-4c22-bed3-7f3d2ce66180",
   "metadata": {},
   "outputs": [],
   "source": []
  }
 ],
 "metadata": {
  "kernelspec": {
   "display_name": "Python 3 (ipykernel)",
   "language": "python",
   "name": "python3"
  },
  "language_info": {
   "codemirror_mode": {
    "name": "ipython",
    "version": 3
   },
   "file_extension": ".py",
   "mimetype": "text/x-python",
   "name": "python",
   "nbconvert_exporter": "python",
   "pygments_lexer": "ipython3",
   "version": "3.9.7"
  }
 },
 "nbformat": 4,
 "nbformat_minor": 5
}
