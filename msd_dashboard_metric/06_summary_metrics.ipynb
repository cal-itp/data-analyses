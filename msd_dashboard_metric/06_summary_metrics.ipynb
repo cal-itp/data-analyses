{
 "cells": [
  {
   "cell_type": "code",
   "execution_count": 1,
   "id": "e3202300-c576-49d9-8985-7661280d340c",
   "metadata": {},
   "outputs": [
    {
     "name": "stderr",
     "output_type": "stream",
     "text": [
      "/opt/conda/lib/python3.9/site-packages/geopandas/_compat.py:111: UserWarning: The Shapely GEOS version (3.9.1-CAPI-1.14.2) is incompatible with the GEOS version PyGEOS was compiled with (3.10.1-CAPI-1.16.0). Conversions between both will be slow.\n",
      "  warnings.warn(\n"
     ]
    }
   ],
   "source": [
    "import pandas as pd\n",
    "import geopandas as gpd\n",
    "\n",
    "from siuba import *\n",
    "from utils import *"
   ]
  },
  {
   "cell_type": "code",
   "execution_count": 2,
   "id": "5751e87a-311c-4d30-a0fd-3222ccdb0909",
   "metadata": {},
   "outputs": [],
   "source": [
    "ca_block_joined = gpd.read_parquet(\n",
    "    f\"{GCS_FILE_PATH}block_population_joined.parquet\")\n",
    "\n",
    "tract_pop_employ_filtered = gpd.read_parquet(\n",
    "    f\"{GCS_FILE_PATH}tract_pop_employ_filtered.parquet\")"
   ]
  },
  {
   "cell_type": "code",
   "execution_count": 3,
   "id": "b6d7aef8-addf-4fae-bfb5-a07742249e63",
   "metadata": {},
   "outputs": [
    {
     "name": "stdout",
     "output_type": "stream",
     "text": [
      "block_accessible_stops\n",
      "block_all_stops_rt\n",
      "block_accessible_stops_rt\n"
     ]
    }
   ],
   "source": [
    "rename_block_files = {\n",
    "    #\"block_all_stops\": \"block_level_static\",\n",
    "    \"block_accessible_stops\": \"block_level_accessible\",\n",
    "    \"block_all_stops_rt\": \"all_stops_rt\",\n",
    "    \"block_accessible_stops_rt\": \"accessible_stops_trips_rt\",\n",
    "}\n",
    "\n",
    "sjoin_blocks = {}\n",
    "\n",
    "for key, value in rename_block_files.items():\n",
    "    print(key)\n",
    "    sjoin_blocks[key] = gpd.read_parquet(f\"{GCS_FILE_PATH}{value}.parquet\")\n",
    "\n",
    "# This one needs to be read in as df, in a dict, kernel will crash\n",
    "block_level_static = gpd.read_parquet(\n",
    "    f\"{GCS_FILE_PATH}block_level_static.parquet\")"
   ]
  },
  {
   "cell_type": "code",
   "execution_count": 4,
   "id": "4a115a12-6e10-4f7d-bcef-c2a0d60ac95f",
   "metadata": {},
   "outputs": [
    {
     "name": "stdout",
     "output_type": "stream",
     "text": [
      "tract_all_stops\n",
      "tract_all_stops_rt\n",
      "tract_accessible_stops\n",
      "tract_accessible_stops_rt\n"
     ]
    }
   ],
   "source": [
    "tract_files = [\"tract_all_stops\", \"tract_all_stops_rt\",\n",
    "    \"tract_accessible_stops\", \"tract_accessible_stops_rt\"\n",
    "]\n",
    "\n",
    "sjoin_tracts = {}\n",
    "\n",
    "for t in tract_files:\n",
    "    print(t)\n",
    "    sjoin_tracts[t] = gpd.read_parquet(\n",
    "        f\"{GCS_FILE_PATH}{t}.parquet\")"
   ]
  },
  {
   "cell_type": "code",
   "execution_count": 5,
   "id": "74390cf8-cb5d-47e6-bda1-b1b06e96c504",
   "metadata": {},
   "outputs": [],
   "source": [
    "row_metrics = {'Population': 'block_pop', \n",
    "               'Land Area': 'area', \n",
    "               'Jobs (<4sq km tracts only)': 'num_jobs'}\n",
    "\n",
    "col_geographies = {\n",
    "    'GTFS Static': [\n",
    "        block_level_static.drop_duplicates(subset=['geo_id']),\n",
    "        sjoin_tracts[\"tract_all_stops\"].drop_duplicates(subset=['Tract'])\n",
    "    ],\n",
    "    'Accessible Static': [\n",
    "        sjoin_blocks[\"block_accessible_stops\"].drop_duplicates(subset=['geo_id']),\n",
    "        sjoin_tracts[\"tract_accessible_stops\"].drop_duplicates(subset=['Tract'])\n",
    "    ],\n",
    "    'GTFS RT': [\n",
    "        sjoin_blocks[\"block_all_stops_rt\"].drop_duplicates(subset=['geo_id']), \n",
    "        sjoin_tracts[\"tract_all_stops_rt\"].drop_duplicates(subset=['Tract'])\n",
    "    ],\n",
    "    'Accessible RT': [\n",
    "        sjoin_blocks[\"block_accessible_stops_rt\"].drop_duplicates(subset=['geo_id']),\n",
    "        sjoin_tracts[\"tract_accessible_stops_rt\"].drop_duplicates(subset=['Tract'])\n",
    "    ]\n",
    "}"
   ]
  },
  {
   "cell_type": "code",
   "execution_count": 6,
   "id": "49e75f27-b334-4911-89bf-4869ce9da8f2",
   "metadata": {},
   "outputs": [],
   "source": [
    "summary_df = pd.DataFrame()\n",
    "\n",
    "for row in row_metrics.keys():\n",
    "    to_append = {}\n",
    "    if row == 'Jobs (<4sq km tracts only)':\n",
    "        for col in col_geographies.keys():\n",
    "            metric = calculate_access_proportion(col_geographies[col][1], \n",
    "                                                 tract_pop_employ_filtered, \n",
    "                                                 row_metrics[row])\n",
    "            to_append[col] = metric\n",
    "    else:\n",
    "        for col in col_geographies.keys():\n",
    "            metric = calculate_access_proportion(col_geographies[col][0], \n",
    "                                                 ca_block_joined, \n",
    "                                                 row_metrics[row])\n",
    "            to_append[col] = metric\n",
    "    to_append = pd.DataFrame(to_append, index = [row])\n",
    "    summary_df = summary_df.append(to_append)    "
   ]
  },
  {
   "cell_type": "markdown",
   "id": "ebe4db65-ddd2-4b7a-9909-51828b03c4d4",
   "metadata": {},
   "source": [
    "## Summary of all Metrics\n",
    "\n",
    "* Population metrics: percent of CA population within a block group near a qualifying transit stop, excluding block groups > 4 sq km\n",
    "* Land Area metrics: percent of CA land area made up of block groups near a qualifying transit stop, excluding block groups > 4 sq km\n",
    "* Employment metrics: percent of CA jobs in a census tract near a qualifying transit stop, excluding tracts > 4 sq km\n",
    "    * this currently means the analysis only looks at about 60% of CA jobs, it could be made more precise by pulling finer-grained employment data if desired\n",
    "    * likely makes transit look \"better\" than a job analysis of all jobs, since these urban/suburban tracts are probably more likely to have at least some transit service"
   ]
  },
  {
   "cell_type": "code",
   "execution_count": 7,
   "id": "38b72b31-9b4b-4341-9754-2db8654b6777",
   "metadata": {},
   "outputs": [
    {
     "data": {
      "text/html": [
       "<div>\n",
       "<style scoped>\n",
       "    .dataframe tbody tr th:only-of-type {\n",
       "        vertical-align: middle;\n",
       "    }\n",
       "\n",
       "    .dataframe tbody tr th {\n",
       "        vertical-align: top;\n",
       "    }\n",
       "\n",
       "    .dataframe thead th {\n",
       "        text-align: right;\n",
       "    }\n",
       "</style>\n",
       "<table border=\"1\" class=\"dataframe\">\n",
       "  <thead>\n",
       "    <tr style=\"text-align: right;\">\n",
       "      <th></th>\n",
       "      <th>GTFS Static</th>\n",
       "      <th>Accessible Static</th>\n",
       "      <th>GTFS RT</th>\n",
       "      <th>Accessible RT</th>\n",
       "    </tr>\n",
       "  </thead>\n",
       "  <tbody>\n",
       "    <tr>\n",
       "      <th>Population</th>\n",
       "      <td>85.95</td>\n",
       "      <td>10.02</td>\n",
       "      <td>59.65</td>\n",
       "      <td>3.67</td>\n",
       "    </tr>\n",
       "    <tr>\n",
       "      <th>Land Area</th>\n",
       "      <td>11.58</td>\n",
       "      <td>0.93</td>\n",
       "      <td>5.33</td>\n",
       "      <td>0.42</td>\n",
       "    </tr>\n",
       "    <tr>\n",
       "      <th>Jobs (&lt;4sq km tracts only)</th>\n",
       "      <td>99.32</td>\n",
       "      <td>18.61</td>\n",
       "      <td>82.63</td>\n",
       "      <td>11.61</td>\n",
       "    </tr>\n",
       "  </tbody>\n",
       "</table>\n",
       "</div>"
      ],
      "text/plain": [
       "                            GTFS Static  Accessible Static  GTFS RT  \\\n",
       "Population                        85.95              10.02    59.65   \n",
       "Land Area                         11.58               0.93     5.33   \n",
       "Jobs (<4sq km tracts only)        99.32              18.61    82.63   \n",
       "\n",
       "                            Accessible RT  \n",
       "Population                           3.67  \n",
       "Land Area                            0.42  \n",
       "Jobs (<4sq km tracts only)          11.61  "
      ]
     },
     "execution_count": 7,
     "metadata": {},
     "output_type": "execute_result"
    }
   ],
   "source": [
    "summary_df"
   ]
  },
  {
   "cell_type": "code",
   "execution_count": null,
   "id": "670d28a9-22b2-4c22-bed3-7f3d2ce66180",
   "metadata": {},
   "outputs": [],
   "source": []
  }
 ],
 "metadata": {
  "kernelspec": {
   "display_name": "Python 3 (ipykernel)",
   "language": "python",
   "name": "python3"
  },
  "language_info": {
   "codemirror_mode": {
    "name": "ipython",
    "version": 3
   },
   "file_extension": ".py",
   "mimetype": "text/x-python",
   "name": "python",
   "nbconvert_exporter": "python",
   "pygments_lexer": "ipython3",
   "version": "3.9.13"
  }
 },
 "nbformat": 4,
 "nbformat_minor": 5
}
