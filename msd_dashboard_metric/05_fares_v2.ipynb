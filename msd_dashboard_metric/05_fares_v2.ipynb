{
 "cells": [
  {
   "cell_type": "markdown",
   "id": "f0916737-e017-4cce-821c-0dda5f2d078d",
   "metadata": {},
   "source": [
    "# Number of Feeds with Fares v2 data\n",
    "\n",
    "[GH issue](https://github.com/cal-itp/data-infra/issues/552)\n",
    "\n",
    "* The total number of feeds that have a non-empty `fare_leg_rules.txt` file.\n",
    "* The MVP for checking this however is to simply assert that the `fare_leg_rules.txt` file is present and it contains at least one potentially empty row."
   ]
  },
  {
   "cell_type": "code",
   "execution_count": 5,
   "id": "59cde08c-3501-404c-8fc6-31cb010d574a",
   "metadata": {},
   "outputs": [],
   "source": [
    "import altair as alt\n",
    "import altair_saver\n",
    "import pandas as pd\n",
    "import os\n",
    "#os.environ[\"CALITP_BQ_MAX_BYTES\"] = str(100_000_000_000)\n",
    "\n",
    "import calitp\n",
    "from calitp.tables import tbl\n",
    "from siuba import *\n",
    "\n",
    "from shared_utils import altair_utils, geography_utils, styleguide\n",
    "from shared_utils import calitp_color_palette as cp\n",
    "\n",
    "alt.renderers.enable('altair_saver', fmts=['png'])\n",
    "\n",
    "DATA_PATH = \"./data/\"\n",
    "IMG_PATH = \"./img/\""
   ]
  },
  {
   "cell_type": "code",
   "execution_count": 6,
   "id": "fa7710b5-8ac7-4d5d-ad81-5e3770b65b01",
   "metadata": {},
   "outputs": [],
   "source": [
    "dim_feeds = (tbl.views.gtfs_schedule_dim_feeds()\n",
    "    >> select(_.feed_key, \n",
    "              _.calitp_itp_id, _.calitp_url_number, \n",
    "              _.calitp_agency_name, \n",
    "              _.calitp_feed_name, _.feed_publisher_name,\n",
    "             )\n",
    ")\n",
    "\n",
    "fares_feeds = (\n",
    "    tbl.views.gtfs_schedule_fact_daily_feed_files()\n",
    "    >> filter(_.file_key==\"fare_leg_rules.txt\", \n",
    "              _.is_interpolated == False)\n",
    "    >> select(_.feed_key, _.date, )\n",
    "    >> inner_join(_, dim_feeds, \"feed_key\")\n",
    "    >> collect()\n",
    ")"
   ]
  },
  {
   "cell_type": "code",
   "execution_count": 7,
   "id": "6bef9da1-02d7-412c-9083-44d358fea1e1",
   "metadata": {},
   "outputs": [
    {
     "data": {
      "text/html": [
       "<div>\n",
       "<style scoped>\n",
       "    .dataframe tbody tr th:only-of-type {\n",
       "        vertical-align: middle;\n",
       "    }\n",
       "\n",
       "    .dataframe tbody tr th {\n",
       "        vertical-align: top;\n",
       "    }\n",
       "\n",
       "    .dataframe thead th {\n",
       "        text-align: right;\n",
       "    }\n",
       "</style>\n",
       "<table border=\"1\" class=\"dataframe\">\n",
       "  <thead>\n",
       "    <tr style=\"text-align: right;\">\n",
       "      <th></th>\n",
       "      <th>date</th>\n",
       "      <th>feed_key</th>\n",
       "    </tr>\n",
       "  </thead>\n",
       "  <tbody>\n",
       "    <tr>\n",
       "      <th>0</th>\n",
       "      <td>2021-07-31</td>\n",
       "      <td>1</td>\n",
       "    </tr>\n",
       "    <tr>\n",
       "      <th>1</th>\n",
       "      <td>2021-08-01</td>\n",
       "      <td>1</td>\n",
       "    </tr>\n",
       "    <tr>\n",
       "      <th>2</th>\n",
       "      <td>2021-08-03</td>\n",
       "      <td>1</td>\n",
       "    </tr>\n",
       "    <tr>\n",
       "      <th>3</th>\n",
       "      <td>2021-08-04</td>\n",
       "      <td>1</td>\n",
       "    </tr>\n",
       "    <tr>\n",
       "      <th>4</th>\n",
       "      <td>2021-08-05</td>\n",
       "      <td>1</td>\n",
       "    </tr>\n",
       "  </tbody>\n",
       "</table>\n",
       "</div>"
      ],
      "text/plain": [
       "        date  feed_key\n",
       "0 2021-07-31         1\n",
       "1 2021-08-01         1\n",
       "2 2021-08-03         1\n",
       "3 2021-08-04         1\n",
       "4 2021-08-05         1"
      ]
     },
     "execution_count": 7,
     "metadata": {},
     "output_type": "execute_result"
    }
   ],
   "source": [
    "feeds_by_date = (geography_utils.aggregate_by_geography(\n",
    "        fares_feeds,\n",
    "        group_cols = [\"date\"],\n",
    "        count_cols = [\"feed_key\"]\n",
    "    )\n",
    ")\n",
    "\n",
    "feeds_by_date = (feeds_by_date\n",
    "                 .assign(\n",
    "                     date = pd.to_datetime(feeds_by_date.date),\n",
    "                 ).sort_values(\"date\")\n",
    "                 .reset_index(drop=True)\n",
    "                )\n",
    "\n",
    "feeds_by_date.head()"
   ]
  },
  {
   "cell_type": "code",
   "execution_count": 9,
   "id": "e9c53697-ab8d-4633-9ecc-31e5cdb68f52",
   "metadata": {},
   "outputs": [],
   "source": [
    "axis_date_format =\"%-m/%-d/%y\"\n",
    "\n",
    "\n",
    "chart = (alt.Chart(feeds_by_date)\n",
    "         .mark_line()\n",
    "         .encode(\n",
    "            x=alt.X(\"date\", axis=alt.Axis(format=axis_date_format)),\n",
    "            y=alt.Y(\"feed_key\", title=\"# feeds\"), \n",
    "            color=alt.value(cp.CALITP_CATEGORY_BRIGHT_COLORS[0])\n",
    "    )\n",
    ")\n",
    "\n",
    "chart = (styleguide.preset_chart_config(chart)\n",
    "         .properties(title=\"Number of Feeds with fare_leg_rules.txt\")\n",
    "        )\n",
    "\n",
    "chart.save(f\"{IMG_PATH}farev2_feeds.png\")"
   ]
  },
  {
   "cell_type": "markdown",
   "id": "3a192b76-3c77-427b-bb40-e0c0a0be9927",
   "metadata": {},
   "source": [
    "![farev2_feeds](./img/farev2_feeds.png)"
   ]
  },
  {
   "cell_type": "code",
   "execution_count": 10,
   "id": "0fc2f1c7-b8cb-4cb2-9099-3b1f31a73aa4",
   "metadata": {},
   "outputs": [
    {
     "data": {
      "text/plain": [
       "8556"
      ]
     },
     "execution_count": 10,
     "metadata": {},
     "output_type": "execute_result"
    }
   ],
   "source": [
    "feeds_by_date.feed_key.sum()"
   ]
  },
  {
   "cell_type": "code",
   "execution_count": null,
   "id": "6b8fed3d-92b1-4afb-b65e-1c56d48d3b92",
   "metadata": {},
   "outputs": [],
   "source": []
  }
 ],
 "metadata": {
  "kernelspec": {
   "display_name": "Python 3 (ipykernel)",
   "language": "python",
   "name": "python3"
  },
  "language_info": {
   "codemirror_mode": {
    "name": "ipython",
    "version": 3
   },
   "file_extension": ".py",
   "mimetype": "text/x-python",
   "name": "python",
   "nbconvert_exporter": "python",
   "pygments_lexer": "ipython3",
   "version": "3.9.7"
  }
 },
 "nbformat": 4,
 "nbformat_minor": 5
}
