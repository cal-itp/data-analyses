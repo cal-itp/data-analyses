{
 "cells": [
  {
   "cell_type": "markdown",
   "id": "da5beb44-918f-4c25-bddd-a4d4c3da0a16",
   "metadata": {},
   "source": [
    "## Clip Maps Against Districts\n",
    "* Look at the maps using `find difference and clip`."
   ]
  },
  {
   "cell_type": "code",
   "execution_count": 1,
   "id": "f4d4c34d-c48b-484e-b6ea-6738609e7033",
   "metadata": {},
   "outputs": [
    {
     "name": "stderr",
     "output_type": "stream",
     "text": [
      "/opt/conda/lib/python3.9/site-packages/geopandas/_compat.py:123: UserWarning: The Shapely GEOS version (3.10.3-CAPI-1.16.1) is incompatible with the GEOS version PyGEOS was compiled with (3.10.1-CAPI-1.16.0). Conversions between both will be slow.\n",
      "  warnings.warn(\n"
     ]
    }
   ],
   "source": [
    "import dask.dataframe as dd\n",
    "import dask_geopandas as dg\n",
    "import geopandas as gpd\n",
    "import numpy as np\n",
    "import pandas as pd\n",
    "import shapely.wkt\n",
    "import A1_provider_prep\n",
    "import A2_analysis\n",
    "import A3_other\n",
    "from calitp.sql import to_snakecase\n",
    "from shared_utils import geography_utils, utils"
   ]
  },
  {
   "cell_type": "code",
   "execution_count": 2,
   "id": "03422bf9-fd6e-4d71-89c2-6930a68e011e",
   "metadata": {},
   "outputs": [],
   "source": [
    "pd.options.display.max_columns = 100\n",
    "pd.options.display.float_format = \"{:.2f}\".format\n",
    "pd.set_option(\"display.max_rows\", None)\n",
    "pd.set_option(\"display.max_colwidth\", None)"
   ]
  },
  {
   "cell_type": "code",
   "execution_count": 3,
   "id": "91408df4-20e1-4faa-91ed-fd03098cacad",
   "metadata": {},
   "outputs": [],
   "source": [
    "verizon = A1_provider_prep.load_verizon()"
   ]
  },
  {
   "cell_type": "code",
   "execution_count": 4,
   "id": "0a0a7850-b774-431f-bb67-4cb0c360d991",
   "metadata": {},
   "outputs": [],
   "source": [
    "# verizon_original = gpd.read_parquet(f\"{A1_provider_prep.GCS_FILE_PATH}verizon_ca_only.parquet\").plot()"
   ]
  },
  {
   "cell_type": "code",
   "execution_count": 5,
   "id": "e121476c-adc1-44bc-b02f-ef94d6dbece1",
   "metadata": {},
   "outputs": [],
   "source": [
    "# verizon.plot()"
   ]
  },
  {
   "cell_type": "code",
   "execution_count": 6,
   "id": "51c06e55-2942-4d7e-9357-abcddc1eee84",
   "metadata": {},
   "outputs": [],
   "source": [
    "# After finding diff and clipping\n",
    "att = A1_provider_prep.load_att()"
   ]
  },
  {
   "cell_type": "code",
   "execution_count": 7,
   "id": "5b07e3a1-5a84-4d21-acf3-0296ff17bb63",
   "metadata": {},
   "outputs": [],
   "source": [
    "# Original ATT map clipped to CA\n",
    "# att_original = gpd.read_parquet(f\"{A1_provider_prep.GCS_FILE_PATH}att_ca_only.parquet\").plot()"
   ]
  },
  {
   "cell_type": "code",
   "execution_count": 8,
   "id": "6c5d8b68-2b08-41a5-847d-edb3798985be",
   "metadata": {},
   "outputs": [],
   "source": [
    "# att.plot()"
   ]
  },
  {
   "cell_type": "code",
   "execution_count": 9,
   "id": "dcd63b87-ee9b-412a-b37f-af0d1b638f9d",
   "metadata": {},
   "outputs": [],
   "source": [
    "tmobile = A1_provider_prep.load_tmobile()"
   ]
  },
  {
   "cell_type": "code",
   "execution_count": 10,
   "id": "e0c15457-749e-4b4f-9d14-a8d16f62fbf7",
   "metadata": {},
   "outputs": [],
   "source": [
    "# tmobile.plot()"
   ]
  },
  {
   "cell_type": "code",
   "execution_count": 11,
   "id": "bc2112d9-780e-4fcb-a601-cdfee95992f6",
   "metadata": {},
   "outputs": [],
   "source": [
    "one_dist_routes, multi_dist_routes, all_routes = A3_other.find_multi_district_routes()"
   ]
  },
  {
   "cell_type": "code",
   "execution_count": 13,
   "id": "9b2d8452-ada3-4951-a4e8-3b6ddd208e72",
   "metadata": {},
   "outputs": [
    {
     "data": {
      "text/plain": [
       "183"
      ]
     },
     "execution_count": 13,
     "metadata": {},
     "output_type": "execute_result"
    }
   ],
   "source": [
    "len(multi_dist_routes)"
   ]
  },
  {
   "cell_type": "code",
   "execution_count": 16,
   "id": "38686d5a-e6a3-4c15-ab00-165a14c31da3",
   "metadata": {},
   "outputs": [],
   "source": [
    "# att_o = A2_analysis.comparison(multi_dist_routes, att)"
   ]
  }
 ],
 "metadata": {
  "kernelspec": {
   "display_name": "Python 3 (ipykernel)",
   "language": "python",
   "name": "python3"
  },
  "language_info": {
   "codemirror_mode": {
    "name": "ipython",
    "version": 3
   },
   "file_extension": ".py",
   "mimetype": "text/x-python",
   "name": "python",
   "nbconvert_exporter": "python",
   "pygments_lexer": "ipython3",
   "version": "3.9.13"
  }
 },
 "nbformat": 4,
 "nbformat_minor": 5
}
