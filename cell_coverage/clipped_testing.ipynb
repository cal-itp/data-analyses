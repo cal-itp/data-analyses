{
 "cells": [
  {
   "cell_type": "markdown",
   "id": "da5beb44-918f-4c25-bddd-a4d4c3da0a16",
   "metadata": {},
   "source": [
    "## Clip Maps Against Districts\n",
    "* Look at the maps using `find difference and clip`."
   ]
  },
  {
   "cell_type": "code",
   "execution_count": null,
   "id": "f4d4c34d-c48b-484e-b6ea-6738609e7033",
   "metadata": {},
   "outputs": [],
   "source": [
    "import dask.dataframe as dd\n",
    "import dask_geopandas as dg\n",
    "import geopandas as gpd\n",
    "import numpy as np\n",
    "import pandas as pd\n",
    "import shapely.wkt\n",
    "import A1_provider_prep\n",
    "import A2_analysis\n",
    "import A3_other\n",
    "from calitp.sql import to_snakecase\n",
    "from shared_utils import geography_utils, utils"
   ]
  },
  {
   "cell_type": "code",
   "execution_count": null,
   "id": "03422bf9-fd6e-4d71-89c2-6930a68e011e",
   "metadata": {},
   "outputs": [],
   "source": [
    "pd.options.display.max_columns = 100\n",
    "pd.options.display.float_format = \"{:.2f}\".format\n",
    "pd.set_option(\"display.max_rows\", None)\n",
    "pd.set_option(\"display.max_colwidth\", None)"
   ]
  },
  {
   "cell_type": "code",
   "execution_count": null,
   "id": "91408df4-20e1-4faa-91ed-fd03098cacad",
   "metadata": {},
   "outputs": [],
   "source": [
    "# verizon = A1_provider_prep.load_verizon()"
   ]
  },
  {
   "cell_type": "code",
   "execution_count": null,
   "id": "f6055742-f43d-474e-8013-f0a2e3d654eb",
   "metadata": {},
   "outputs": [],
   "source": [
    "unique_routes = A3_other.load_unique_routes_df()"
   ]
  },
  {
   "cell_type": "code",
   "execution_count": null,
   "id": "51c06e55-2942-4d7e-9357-abcddc1eee84",
   "metadata": {},
   "outputs": [],
   "source": [
    "# Using finding diff and clipping\n",
    "att = A1_provider_prep.load_att()"
   ]
  },
  {
   "cell_type": "code",
   "execution_count": null,
   "id": "6d3cb921-9dfd-4622-97de-0f4e790be966",
   "metadata": {},
   "outputs": [],
   "source": [
    "att.geometry.is_valid.all()"
   ]
  },
  {
   "cell_type": "code",
   "execution_count": null,
   "id": "5b07e3a1-5a84-4d21-acf3-0296ff17bb63",
   "metadata": {},
   "outputs": [],
   "source": [
    "# Original ATT map clipped to CA\n",
    "att_original = gpd.read_parquet(f\"{A1_provider_prep.GCS_FILE_PATH}att_ca_only.parquet\").plot()"
   ]
  },
  {
   "cell_type": "code",
   "execution_count": null,
   "id": "dcd63b87-ee9b-412a-b37f-af0d1b638f9d",
   "metadata": {},
   "outputs": [],
   "source": [
    "tmobile = A1_provider_prep.load_tmobile()"
   ]
  },
  {
   "cell_type": "code",
   "execution_count": null,
   "id": "e0c15457-749e-4b4f-9d14-a8d16f62fbf7",
   "metadata": {},
   "outputs": [],
   "source": [
    "# tmobile.plot()"
   ]
  },
  {
   "cell_type": "code",
   "execution_count": null,
   "id": "bc2112d9-780e-4fcb-a601-cdfee95992f6",
   "metadata": {},
   "outputs": [],
   "source": [
    "one_dist_routes, multi_dist_routes, all_routes = A3_other.find_multi_district_routes()"
   ]
  },
  {
   "cell_type": "code",
   "execution_count": null,
   "id": "d2214947-cc64-4341-8373-3c8650b0d5bd",
   "metadata": {},
   "outputs": [],
   "source": [
    "# Maps created with clip/difference doesnt work\n",
    "# Gives the error: TopologyException: side location conflict at -118.62460299999999 35.030214999999998. This can occur if the input geometry is invalid.\n",
    "# However att.geometry.is_valid.all() returns true. \n",
    "# multi_dist_routes_dissolved.geometry.is_valid.all() also returns true\n",
    "# switched back to sjoin with districts version of ATT \n",
    "att_o = gpd.overlay(multi_dist_routes_dissolved, att, how=\"intersection\", keep_geom_type=False\n",
    "    )"
   ]
  },
  {
   "cell_type": "code",
   "execution_count": null,
   "id": "213b6f3c-e8d4-4710-a47f-bca91f353438",
   "metadata": {},
   "outputs": [],
   "source": [
    "# Create a new route length for portions covered by cell coverage\n",
    "# Why am I getting percentaes that are like 200% more than the original route length?\n",
    "att_o= att_o.assign(\n",
    "        route_length=att_o.geometry.to_crs(geography_utils.CA_StatePlane).length\n",
    "    )\n",
    "    \n",
    "att_o = att_o.drop_duplicates().reset_index(drop = True)"
   ]
  },
  {
   "cell_type": "code",
   "execution_count": null,
   "id": "a66b565d-d4ce-4e9a-a6b0-63d2012d09e7",
   "metadata": {},
   "outputs": [],
   "source": [
    "att_o = A2_analysis.dissolve_summarize(att_o)"
   ]
  },
  {
   "cell_type": "code",
   "execution_count": null,
   "id": "bcde2885-2166-4e4a-80c7-dff12437cda3",
   "metadata": {},
   "outputs": [],
   "source": [
    "att_o_routes = att_o.long_route_name.unique().tolist()"
   ]
  },
  {
   "cell_type": "code",
   "execution_count": null,
   "id": "ed091ccf-7982-40a4-b460-f4734262e0bb",
   "metadata": {},
   "outputs": [],
   "source": [
    "unique_routes = A3_other.load_unique_routes_df()"
   ]
  },
  {
   "cell_type": "code",
   "execution_count": null,
   "id": "8b4b490f-c7ce-4a76-af6a-e493b804f6fa",
   "metadata": {},
   "outputs": [],
   "source": [
    "att_o_routes_original_geometry = unique_routes[unique_routes.long_route_name.isin(att_o_routes)]"
   ]
  },
  {
   "cell_type": "code",
   "execution_count": null,
   "id": "95bf8f8e-3caf-4dd7-a47a-f0df13e3a7b7",
   "metadata": {},
   "outputs": [],
   "source": [
    "a = att.explore(\n",
    "    tiles = \"CartoDB positron\",\n",
    "    width=800,\n",
    "    height=400,\n",
    ")"
   ]
  },
  {
   "cell_type": "code",
   "execution_count": null,
   "id": "6582d614-c7b2-4708-bb22-ba3fe6a89d88",
   "metadata": {},
   "outputs": [],
   "source": [
    "# Clipped geometry\n",
    "a = att_o_routes_original_geometry.explore(\"long_route_name\",\n",
    "    m=a, legend = False\n",
    ")"
   ]
  },
  {
   "cell_type": "code",
   "execution_count": null,
   "id": "c7168a08-440b-4442-8cc8-081260aa7f11",
   "metadata": {},
   "outputs": [],
   "source": [
    "a"
   ]
  },
  {
   "cell_type": "code",
   "execution_count": null,
   "id": "2733afb9-cb16-40bc-9521-ac939f6065eb",
   "metadata": {},
   "outputs": [],
   "source": [
    "# att_o.drop(columns = [\"geometry\"]).sort_values('agency')"
   ]
  },
  {
   "cell_type": "code",
   "execution_count": null,
   "id": "38686d5a-e6a3-4c15-ab00-165a14c31da3",
   "metadata": {},
   "outputs": [],
   "source": [
    "#  Put unique routes on the left and the provider on the right\n",
    "tmobile_o = A2_analysis.comparison(multi_dist_routes_dissolved, tmobile)"
   ]
  },
  {
   "cell_type": "code",
   "execution_count": null,
   "id": "0d571222-f522-4e65-9ef8-359977bffae8",
   "metadata": {},
   "outputs": [],
   "source": [
    "tmobile_o = A2_analysis.dissolve_summarize(tmobile_o)"
   ]
  },
  {
   "cell_type": "code",
   "execution_count": null,
   "id": "27c692ce-c692-477b-b6f5-27f3815dfba5",
   "metadata": {},
   "outputs": [],
   "source": [
    "n = tmobile.explore(\n",
    "    tiles = \"CartoDB positron\",\n",
    "    width=800,\n",
    "    height=400,\n",
    ")"
   ]
  },
  {
   "cell_type": "code",
   "execution_count": null,
   "id": "0c695224-652f-47a5-bea0-c4eec01d8bb7",
   "metadata": {},
   "outputs": [],
   "source": [
    "# n"
   ]
  },
  {
   "cell_type": "code",
   "execution_count": null,
   "id": "5e591824-ad39-4808-8f4a-a5226b6b29c9",
   "metadata": {},
   "outputs": [],
   "source": [
    "# att_o.shape"
   ]
  },
  {
   "cell_type": "code",
   "execution_count": null,
   "id": "ea506214-e6ff-4ab8-9671-e29162d3531d",
   "metadata": {},
   "outputs": [],
   "source": [
    "# att_clipped_overlay = A2_analysis.overlay_single_routes(att_clipped,multi_dist_routes_dissolved,'att_clipped')"
   ]
  },
  {
   "cell_type": "code",
   "execution_count": null,
   "id": "de9ed362-ab5d-4189-a425-9be88f380366",
   "metadata": {},
   "outputs": [],
   "source": []
  }
 ],
 "metadata": {
  "kernelspec": {
   "display_name": "Python 3 (ipykernel)",
   "language": "python",
   "name": "python3"
  },
  "language_info": {
   "codemirror_mode": {
    "name": "ipython",
    "version": 3
   },
   "file_extension": ".py",
   "mimetype": "text/x-python",
   "name": "python",
   "nbconvert_exporter": "python",
   "pygments_lexer": "ipython3",
   "version": "3.9.13"
  }
 },
 "nbformat": 4,
 "nbformat_minor": 5
}
