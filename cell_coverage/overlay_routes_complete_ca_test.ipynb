{
 "cells": [
  {
   "cell_type": "markdown",
   "id": "cf6b73c2-922d-426f-a90d-537809c20770",
   "metadata": {},
   "source": [
    "## Two tests"
   ]
  },
  {
   "cell_type": "code",
   "execution_count": 1,
   "id": "59560bfc-58bc-4730-bd71-032b3eeec3c5",
   "metadata": {},
   "outputs": [
    {
     "name": "stderr",
     "output_type": "stream",
     "text": [
      "/opt/conda/lib/python3.9/site-packages/geopandas/_compat.py:123: UserWarning: The Shapely GEOS version (3.10.3-CAPI-1.16.1) is incompatible with the GEOS version PyGEOS was compiled with (3.10.1-CAPI-1.16.0). Conversions between both will be slow.\n"
     ]
    }
   ],
   "source": [
    "import A1_provider_prep\n",
    "import A2_other\n",
    "import A3_analysis\n",
    "import dask.dataframe as dd\n",
    "import dask_geopandas as dg\n",
    "import geopandas as gpd\n",
    "import numpy as np\n",
    "import pandas as pd\n",
    "import shapely.wkt\n",
    "from calitp.sql import to_snakecase\n",
    "from shared_utils import geography_utils, utils\n",
    "from calitp.storage import get_fs\n",
    "fs = get_fs()"
   ]
  },
  {
   "cell_type": "code",
   "execution_count": 2,
   "id": "d9ad51f4-ffb2-424d-bf7f-615c32e16e5e",
   "metadata": {},
   "outputs": [],
   "source": [
    "pd.options.display.max_columns = 100\n",
    "pd.options.display.float_format = \"{:.2f}\".format\n",
    "pd.set_option(\"display.max_rows\", 100)\n",
    "pd.set_option(\"display.max_colwidth\", None)"
   ]
  },
  {
   "cell_type": "code",
   "execution_count": 3,
   "id": "a931b740-87a7-4e30-8a55-925b0f1c0376",
   "metadata": {},
   "outputs": [],
   "source": [
    "# Get routes\n",
    "one_dist_routes, multi_dist_routes, all_routes = A2_other.find_multi_district_routes()"
   ]
  },
  {
   "cell_type": "code",
   "execution_count": 4,
   "id": "35bc6a15-66df-4f4e-a7b4-0ddd8f8672c9",
   "metadata": {},
   "outputs": [],
   "source": [
    "# Open original district\n",
    "districts = A1_provider_prep.get_districts()"
   ]
  },
  {
   "cell_type": "markdown",
   "id": "0c7a6c03-c72c-4155-a72c-385346e174fe",
   "metadata": {},
   "source": [
    "## Overlay map against routes as a test\n",
    "* Try to concat all intersecting routes, then filter if they have a low intersection % in another way.\n",
    "* The lower the %  of the route covered, the better. That means a lower portion of the route is in a no coverage zone.\n",
    "* Areas that are covered are white, areas w/o coverage are blue.\n",
    "\n",
    "Issues I'm coming across\n",
    "* It takes forever - how to split this so kernel doesn't die in the middle.\n",
    "* After overlaying, the routes are in a different district then it's supposed to be."
   ]
  },
  {
   "cell_type": "code",
   "execution_count": 5,
   "id": "a7a3befd-3deb-4731-bbc3-1b5f1dc77c3e",
   "metadata": {},
   "outputs": [],
   "source": [
    "def find_specific_files(phrase_to_find:str):\n",
    "    \"\"\"\n",
    "    Grab a list of files that contain the \n",
    "    phrase inputted.\n",
    "    \"\"\"\n",
    "    # Create a list of all the files in my folder\n",
    "    all_files_in_folder = fs.ls(A1_provider_prep.GCS_FILE_PATH)\n",
    "    \n",
    "    # Grab only files with the string \"Verizon_no_coverage_\"\n",
    "    my_files = [i for i in all_files_in_folder if phrase_to_find in i]\n",
    "    \n",
    "    # String to add to read the Verizon only files\n",
    "    my_string = \"gs://\"\n",
    "    my_files = [my_string + i for i in my_files]\n",
    "    \n",
    "    return my_files"
   ]
  },
  {
   "cell_type": "code",
   "execution_count": 6,
   "id": "1887cfac-7998-4fd3-a962-789543180b69",
   "metadata": {},
   "outputs": [],
   "source": [
    "# t_mobile_files = find_specific_files(\"tmobile_no_coverage_d\")"
   ]
  },
  {
   "cell_type": "code",
   "execution_count": 7,
   "id": "c4782be7-1592-44ba-878b-168ab660771e",
   "metadata": {},
   "outputs": [],
   "source": [
    "def overlay_1_dist_routes(phrase_to_find:str, provider: str):\n",
    "    \"\"\"\n",
    "    Take each district file created from the \n",
    "    function `complete_difference_provider_district_level` for a provider\n",
    "    and overlay the file against the routes that only run in\n",
    "    one district. Join all the everything together to create\n",
    "    a full California map for each provider.\n",
    "    \"\"\"\n",
    "    # Open original Caltrans districts shapefile\n",
    "    # Get rid of A1_provider_prep once I export this\n",
    "    districts = A1_provider_prep.get_districts()\n",
    "    \n",
    "    # Get routes\n",
    "    one_dist_routes, multi_dist_routes, all_routes = A2_other.find_multi_district_routes()\n",
    "    \n",
    "    # Empty gdf to hold results\n",
    "    routes_overlay_gdf = pd.DataFrame()\n",
    "    \n",
    "    # Get a list of files I want\n",
    "    provider_files_list = find_specific_files(phrase_to_find)\n",
    "    \n",
    "    # Loop over every file\n",
    "    # Put provider_files_list later.\n",
    "    for file in provider_files_list:\n",
    "        # Find which district info each file contains. \n",
    "        # https://stackoverflow.com/questions/11339210/how-to-get-integer-values-from-a-string-in-python\n",
    "        district = ''.join(i for i in file if i.isdigit())\n",
    "        \n",
    "        # Turn this into an integer\n",
    "        district = int(district)\n",
    "        \n",
    "        # Open file\n",
    "        district_file = gpd.read_parquet(file)\n",
    "        \n",
    "        # Clip routes on the left against the district file\n",
    "        # overlay_df = gpd.overlay(\n",
    "        # routes_gdf, provider_gdf, how=\"intersection\", keep_geom_type=False\n",
    "        overlay_routes = A3_analysis.comparison(one_dist_routes, district_file)\n",
    "        \n",
    "        # Add information about which district and which provider\n",
    "        overlay_routes[\"Overlay-District\"] = f\"D-{district}\"\n",
    "        overlay_routes[\"Overlay-Provider\"] = provider\n",
    "        # Do the 2 columns match? Use this to filter out...\n",
    "        overlay_routes[\"do_districts_match\"] = overlay_routes[\"District\"] == overlay_routes[\"Overlay-District\"]\n",
    "        \n",
    "        # Concat\n",
    "        routes_overlay_gdf = pd.concat([routes_overlay_gdf, overlay_routes], axis=0)\n",
    "        \n",
    "        print(f\"Done with District {district}\")\n",
    "    \n",
    "    utils.geoparquet_gcs_export(routes_overlay_gdf, A1_provider_prep.GCS_FILE_PATH, f\"{provider}_overlaid_routes\")\n",
    "    \n",
    "    return routes_overlay_gdf"
   ]
  },
  {
   "cell_type": "code",
   "execution_count": 8,
   "id": "e6aff152-d053-48aa-8dd6-31688bd77273",
   "metadata": {},
   "outputs": [],
   "source": [
    "# tmobile_test = overlay_1_dist_routes(\"tmobile_no_coverage_d\", \"tmobile\")"
   ]
  },
  {
   "cell_type": "code",
   "execution_count": 9,
   "id": "df16fa33-020d-49b9-af40-c648ea4e1aef",
   "metadata": {},
   "outputs": [],
   "source": [
    "# verizon_test = overlay_1_dist_routes(\"verizon_no_coverage_d\", \"verizon\")"
   ]
  },
  {
   "cell_type": "code",
   "execution_count": 13,
   "id": "03107ea3-c03c-4073-b62d-fcc4780aa1a3",
   "metadata": {},
   "outputs": [],
   "source": [
    "# att_test = overlay_1_dist_routes(\"ATT_no_coverage_d\", \"att\")"
   ]
  },
  {
   "cell_type": "code",
   "execution_count": 14,
   "id": "46c7596c-8353-4acd-8469-038d22b36d80",
   "metadata": {},
   "outputs": [],
   "source": [
    "# Read in AT&T overlaid with unique routes that run in only one district\n",
    "att_routes = gpd.read_parquet(\n",
    "    f\"{A1_provider_prep.GCS_FILE_PATH}unique_routes_att.parquet\"\n",
    ")"
   ]
  },
  {
   "cell_type": "code",
   "execution_count": 15,
   "id": "7c3d718f-570f-4136-8613-1483426284b4",
   "metadata": {},
   "outputs": [
    {
     "data": {
      "text/plain": [
       "False    7265\n",
       "True       19\n",
       "Name: do_districts_match, dtype: int64"
      ]
     },
     "execution_count": 15,
     "metadata": {},
     "output_type": "execute_result"
    }
   ],
   "source": [
    "# A lot of false routes...\n",
    "att_routes.do_districts_match.value_counts()"
   ]
  },
  {
   "cell_type": "code",
   "execution_count": 19,
   "id": "cf44e106-474f-473a-b350-4de1b17a52be",
   "metadata": {},
   "outputs": [],
   "source": [
    "# Keep only false routes\n",
    "att_routes_false = (att_routes.loc[att_routes.do_districts_match == False]).reset_index(drop = True)"
   ]
  },
  {
   "cell_type": "code",
   "execution_count": 10,
   "id": "28d75133-1151-4f69-a8b5-70ed1e7857c2",
   "metadata": {},
   "outputs": [],
   "source": [
    "# Read in AT&T overlaid with unique routes\n",
    "att = dg.read_parquet(\"ATT.parquet\")"
   ]
  },
  {
   "cell_type": "code",
   "execution_count": 38,
   "id": "c50d0200-9f8c-4bd8-9879-618d8f2cfc2f",
   "metadata": {},
   "outputs": [
    {
     "data": {
      "text/plain": [
       "<AxesSubplot:>"
      ]
     },
     "execution_count": 38,
     "metadata": {},
     "output_type": "execute_result"
    },
    {
     "data": {
      "image/png": "[encoded data removed]",
      "text/plain": [
       "<Figure size 640x480 with 1 Axes>"
      ]
     },
     "metadata": {},
     "output_type": "display_data"
    }
   ],
   "source": [
    "att.compute().plot()"
   ]
  },
  {
   "cell_type": "markdown",
   "id": "dc3b31b3-e177-48fc-8f0a-238d2cb99bc4",
   "metadata": {},
   "source": [
    "#### MUNI Testing\n",
    "* Muni only has routes that run in San Francisco and Alameda counties.\n",
    "* So why are they showing up in D1?"
   ]
  },
  {
   "cell_type": "code",
   "execution_count": 31,
   "id": "72bab98e-4eb5-4907-ae14-b393e765367f",
   "metadata": {
    "tags": []
   },
   "outputs": [
    {
     "data": {
      "text/html": [
       "<div>\n",
       "<style scoped>\n",
       "    .dataframe tbody tr th:only-of-type {\n",
       "        vertical-align: middle;\n",
       "    }\n",
       "\n",
       "    .dataframe tbody tr th {\n",
       "        vertical-align: top;\n",
       "    }\n",
       "\n",
       "    .dataframe thead th {\n",
       "        text-align: right;\n",
       "    }\n",
       "</style>\n",
       "<table border=\"1\" class=\"dataframe\">\n",
       "  <thead>\n",
       "    <tr style=\"text-align: right;\">\n",
       "      <th></th>\n",
       "      <th>agency</th>\n",
       "      <th>long_route_name</th>\n",
       "      <th>District</th>\n",
       "      <th>route_length</th>\n",
       "      <th>original_route_length</th>\n",
       "      <th>percentage_route_covered</th>\n",
       "      <th>Overlay-District</th>\n",
       "      <th>Overlay-Provider</th>\n",
       "      <th>do_districts_match</th>\n",
       "    </tr>\n",
       "  </thead>\n",
       "  <tbody>\n",
       "    <tr>\n",
       "      <th>321</th>\n",
       "      <td>MUNI</td>\n",
       "      <td>19TH AVENUE 18160  MUNI</td>\n",
       "      <td>D-4</td>\n",
       "      <td>67649.57</td>\n",
       "      <td>67649.57</td>\n",
       "      <td>100</td>\n",
       "      <td>D-1</td>\n",
       "      <td>att</td>\n",
       "      <td>False</td>\n",
       "    </tr>\n",
       "    <tr>\n",
       "      <th>322</th>\n",
       "      <td>MUNI</td>\n",
       "      <td>19TH AVENUE 28  MUNI</td>\n",
       "      <td>D-4</td>\n",
       "      <td>67649.57</td>\n",
       "      <td>67649.57</td>\n",
       "      <td>100</td>\n",
       "      <td>D-1</td>\n",
       "      <td>att</td>\n",
       "      <td>False</td>\n",
       "    </tr>\n",
       "  </tbody>\n",
       "</table>\n",
       "</div>"
      ],
      "text/plain": [
       "    agency          long_route_name District  route_length  \\\n",
       "321   MUNI  19TH AVENUE 18160  MUNI      D-4      67649.57   \n",
       "322   MUNI     19TH AVENUE 28  MUNI      D-4      67649.57   \n",
       "\n",
       "     original_route_length  percentage_route_covered Overlay-District  \\\n",
       "321               67649.57                       100              D-1   \n",
       "322               67649.57                       100              D-1   \n",
       "\n",
       "    Overlay-Provider  do_districts_match  \n",
       "321              att               False  \n",
       "322              att               False  "
      ]
     },
     "execution_count": 31,
     "metadata": {},
     "output_type": "execute_result"
    }
   ],
   "source": [
    "# Here MUNI routes run only in D-4, yet this shows it 100% falls in D1?\n",
    "att_routes_false.drop(columns = [\"geometry\"]).loc[att_routes_false.agency == \"MUNI\"].head(2)"
   ]
  },
  {
   "cell_type": "code",
   "execution_count": 33,
   "id": "5a6c33b8-b23a-4964-8794-836a8c113644",
   "metadata": {},
   "outputs": [],
   "source": [
    "# Test with MUNI only - use original geometry\n",
    "MUNI = all_routes.loc[all_routes[\"agency\"] == \"MUNI\"]"
   ]
  },
  {
   "cell_type": "code",
   "execution_count": 40,
   "id": "3e758ede-62be-4f4f-831b-6f9b5cc6d60f",
   "metadata": {},
   "outputs": [],
   "source": [
    "att_dist_4 = gpd.read_parquet(\n",
    "    f\"{A1_provider_prep.GCS_FILE_PATH}ATT_no_coverage_d4.parquet\"\n",
    " )"
   ]
  },
  {
   "cell_type": "code",
   "execution_count": 41,
   "id": "7e392855-7ba4-46d7-8eb8-9e63ed1b268e",
   "metadata": {},
   "outputs": [],
   "source": [
    "m = att_dist_4.explore(\n",
    "\n",
    "    tiles=\"CartoDB positron\",\n",
    "    width=800,\n",
    "    height=500,\n",
    ")"
   ]
  },
  {
   "cell_type": "code",
   "execution_count": 42,
   "id": "69645efe-70be-4628-b98b-e31637cf9377",
   "metadata": {},
   "outputs": [],
   "source": [
    "m = MUNI.explore(\"long_route_name\",\n",
    "    m=m,legend = False,\n",
    ")"
   ]
  },
  {
   "cell_type": "code",
   "execution_count": 57,
   "id": "fddaeae2-1947-4579-9bde-fb9f3d3727cf",
   "metadata": {},
   "outputs": [],
   "source": [
    "# m"
   ]
  },
  {
   "cell_type": "code",
   "execution_count": 21,
   "id": "ac21cadc-7a15-40ba-a93d-f0380b02a04c",
   "metadata": {},
   "outputs": [],
   "source": [
    "# Keep only routes where the district matches\n",
    "att_routes_true = att_routes.loc[att_routes.do_districts_match == True] "
   ]
  },
  {
   "cell_type": "code",
   "execution_count": 45,
   "id": "e493a28a-8c01-4d70-a769-1245b0e61f13",
   "metadata": {},
   "outputs": [
    {
     "data": {
      "text/plain": [
       "San Diego Metropolitan Transit System         5\n",
       "Yuma County Area Transit                      2\n",
       "Marin Transit                                 2\n",
       "Arcata and Mad River Transit System           1\n",
       "Blue Lake Rancheria                           1\n",
       "Eureka Transit Service                        1\n",
       "Humboldt Transit Authority                    1\n",
       "Mendocino Transit Authority                   1\n",
       "Tahoe Transportation                          1\n",
       "Tahoe Truckee Area Regional Transportation    1\n",
       "Long Beach Transit                            1\n",
       "Eastern Sierra Transit Authority              1\n",
       "Mammoth Lakes Transit System                  1\n",
       "Name: agency, dtype: int64"
      ]
     },
     "execution_count": 45,
     "metadata": {},
     "output_type": "execute_result"
    }
   ],
   "source": [
    "att_routes_true.agency.value_counts()"
   ]
  },
  {
   "cell_type": "code",
   "execution_count": 22,
   "id": "24dcdb31-d68d-4d98-889d-213d28048506",
   "metadata": {},
   "outputs": [
    {
     "data": {
      "text/html": [
       "<div>\n",
       "<style scoped>\n",
       "    .dataframe tbody tr th:only-of-type {\n",
       "        vertical-align: middle;\n",
       "    }\n",
       "\n",
       "    .dataframe tbody tr th {\n",
       "        vertical-align: top;\n",
       "    }\n",
       "\n",
       "    .dataframe thead th {\n",
       "        text-align: right;\n",
       "    }\n",
       "</style>\n",
       "<table border=\"1\" class=\"dataframe\">\n",
       "  <thead>\n",
       "    <tr style=\"text-align: right;\">\n",
       "      <th></th>\n",
       "      <th>agency</th>\n",
       "      <th>long_route_name</th>\n",
       "      <th>District</th>\n",
       "      <th>route_length</th>\n",
       "      <th>original_route_length</th>\n",
       "      <th>percentage_route_covered</th>\n",
       "      <th>Overlay-District</th>\n",
       "      <th>Overlay-Provider</th>\n",
       "      <th>do_districts_match</th>\n",
       "    </tr>\n",
       "  </thead>\n",
       "  <tbody>\n",
       "    <tr>\n",
       "      <th>7</th>\n",
       "      <td>Eastern Sierra Transit Authority</td>\n",
       "      <td>395 Route North 561  Eastern Sierra Transit Authority</td>\n",
       "      <td>D-9</td>\n",
       "      <td>0.00</td>\n",
       "      <td>1140603.05</td>\n",
       "      <td>0</td>\n",
       "      <td>D-9</td>\n",
       "      <td>att</td>\n",
       "      <td>True</td>\n",
       "    </tr>\n",
       "    <tr>\n",
       "      <th>266</th>\n",
       "      <td>Eureka Transit Service</td>\n",
       "      <td>Trinidad-Scotia 1  Eureka Transit Service</td>\n",
       "      <td>D-1</td>\n",
       "      <td>0.00</td>\n",
       "      <td>332318.02</td>\n",
       "      <td>0</td>\n",
       "      <td>D-1</td>\n",
       "      <td>att</td>\n",
       "      <td>True</td>\n",
       "    </tr>\n",
       "    <tr>\n",
       "      <th>576</th>\n",
       "      <td>Tahoe Truckee Area Regional Transportation</td>\n",
       "      <td>Squaw Valley, Tahoe City, West Shore 2594  Tahoe Truckee Area Regional Transportation</td>\n",
       "      <td>D-3</td>\n",
       "      <td>0.00</td>\n",
       "      <td>347450.49</td>\n",
       "      <td>0</td>\n",
       "      <td>D-3</td>\n",
       "      <td>att</td>\n",
       "      <td>True</td>\n",
       "    </tr>\n",
       "  </tbody>\n",
       "</table>\n",
       "</div>"
      ],
      "text/plain": [
       "                                         agency  \\\n",
       "7              Eastern Sierra Transit Authority   \n",
       "266                      Eureka Transit Service   \n",
       "576  Tahoe Truckee Area Regional Transportation   \n",
       "\n",
       "                                                                           long_route_name  \\\n",
       "7                                    395 Route North 561  Eastern Sierra Transit Authority   \n",
       "266                                              Trinidad-Scotia 1  Eureka Transit Service   \n",
       "576  Squaw Valley, Tahoe City, West Shore 2594  Tahoe Truckee Area Regional Transportation   \n",
       "\n",
       "    District  route_length  original_route_length  percentage_route_covered  \\\n",
       "7        D-9          0.00             1140603.05                         0   \n",
       "266      D-1          0.00              332318.02                         0   \n",
       "576      D-3          0.00              347450.49                         0   \n",
       "\n",
       "    Overlay-District Overlay-Provider  do_districts_match  \n",
       "7                D-9              att                True  \n",
       "266              D-1              att                True  \n",
       "576              D-3              att                True  "
      ]
     },
     "execution_count": 22,
     "metadata": {},
     "output_type": "execute_result"
    }
   ],
   "source": [
    "att_routes_true.drop(columns = [\"geometry\"]).sample(3)"
   ]
  },
  {
   "cell_type": "markdown",
   "id": "958021bc-0e2a-4b62-96b0-88b76df0d002",
   "metadata": {},
   "source": [
    "#### District 1 Testing"
   ]
  },
  {
   "cell_type": "code",
   "execution_count": 46,
   "id": "9dcbb326-c198-4383-8be3-3d0028e742ba",
   "metadata": {},
   "outputs": [],
   "source": [
    "att_dist_1 = gpd.read_parquet(\n",
    "    f\"{A1_provider_prep.GCS_FILE_PATH}ATT_no_coverage_d1.parquet\"\n",
    " )"
   ]
  },
  {
   "cell_type": "code",
   "execution_count": 51,
   "id": "6331d9b8-7e7f-4b86-863d-ce9606c4ca3f",
   "metadata": {},
   "outputs": [],
   "source": [
    "# Filter out District 1 only routes \n",
    "dist_1_routes = (one_dist_routes.loc[one_dist_routes[\"District\"] == \"D-1\"]).reset_index(drop = True)"
   ]
  },
  {
   "cell_type": "code",
   "execution_count": 52,
   "id": "52f40880-5dc6-420f-8ef9-6347d8beba66",
   "metadata": {},
   "outputs": [
    {
     "data": {
      "text/plain": [
       "75"
      ]
     },
     "execution_count": 52,
     "metadata": {},
     "output_type": "execute_result"
    }
   ],
   "source": [
    "len(dist_1_routes)"
   ]
  },
  {
   "cell_type": "code",
   "execution_count": 53,
   "id": "376337c3-b253-4f90-bd34-c33d3288a35d",
   "metadata": {},
   "outputs": [],
   "source": [
    "n = att_dist_1.explore(\n",
    "\n",
    "    tiles=\"CartoDB positron\",\n",
    "    width=800,\n",
    "    height=500,\n",
    ")"
   ]
  },
  {
   "cell_type": "code",
   "execution_count": 54,
   "id": "4ce8f5d9-8b63-4e4c-abb0-b73ee90a0c34",
   "metadata": {},
   "outputs": [],
   "source": [
    "n = dist_1_routes.explore(\"long_route_name\",\n",
    "    m=n,legend = False,\n",
    ")"
   ]
  },
  {
   "cell_type": "code",
   "execution_count": 58,
   "id": "13984617-df2a-497d-b73c-db2db7ec6d8f",
   "metadata": {},
   "outputs": [],
   "source": [
    "# n"
   ]
  },
  {
   "cell_type": "markdown",
   "id": "d3defcc4-c1e2-4041-8200-045df31d2f16",
   "metadata": {
    "tags": []
   },
   "source": [
    "## Clip sjoin districts with original district file\n",
    "* Grab all the `tmobile_no_coverage...` parquet files for each district.\n",
    "* Clip each of those no coverage districts against original district shapefiles.\n",
    "* Stack all the clipped shapefiles above to create a map for the entire California."
   ]
  },
  {
   "cell_type": "code",
   "execution_count": null,
   "id": "4c740db2-65bb-4a7a-8053-fe810d5767c9",
   "metadata": {},
   "outputs": [],
   "source": [
    "# Read in T-mobile file\n",
    "#t_d9 = gpd.read_parquet(\n",
    "#    f\"{A1_provider_prep.GCS_FILE_PATH}tmobile_no_coverage_d9.parquet\"\n",
    "# )"
   ]
  },
  {
   "cell_type": "code",
   "execution_count": null,
   "id": "e35cfd56-4e7a-4b37-b8e8-fb3b3d65151e",
   "metadata": {},
   "outputs": [],
   "source": [
    "#t_d6 = gpd.read_parquet(\n",
    "#    f\"{A1_provider_prep.GCS_FILE_PATH}tmobile_no_coverage_d6.parquet\"\n",
    "# )"
   ]
  },
  {
   "cell_type": "code",
   "execution_count": null,
   "id": "72d4efae-7be0-4a40-93ee-8446f95a3650",
   "metadata": {},
   "outputs": [],
   "source": [
    "# t_d9.plot()"
   ]
  },
  {
   "cell_type": "code",
   "execution_count": null,
   "id": "90d9cdee-aa41-4e26-b617-0706e90d2ad5",
   "metadata": {},
   "outputs": [],
   "source": [
    "# d9 = (districts.loc[districts.district == 9]).reset_index()"
   ]
  },
  {
   "cell_type": "code",
   "execution_count": null,
   "id": "1f334c71-7d31-4a28-b1e1-546ddd1fb35b",
   "metadata": {},
   "outputs": [],
   "source": [
    "# d9.plot()"
   ]
  },
  {
   "cell_type": "code",
   "execution_count": null,
   "id": "f306bca0-fe5b-4381-977c-c5e26f099c7b",
   "metadata": {},
   "outputs": [],
   "source": [
    "# t_d9_clipped = gpd.clip(t_d9, d9, keep_geom_type=False)"
   ]
  },
  {
   "cell_type": "code",
   "execution_count": null,
   "id": "715eb175-7a81-4805-a915-5919fe6d495c",
   "metadata": {},
   "outputs": [],
   "source": [
    "# t_d9_clipped.plot()"
   ]
  },
  {
   "cell_type": "code",
   "execution_count": null,
   "id": "40974738-45d2-489a-bad4-24ab04d8c4b9",
   "metadata": {},
   "outputs": [],
   "source": [
    "# routes_no_coverage_d9 = A3_analysis.comparison(one_dist_routes, t_d9)"
   ]
  },
  {
   "cell_type": "code",
   "execution_count": null,
   "id": "31fb6b77-b332-438e-9086-e14b37e1b1b1",
   "metadata": {},
   "outputs": [],
   "source": [
    "#routes_no_coverage_d9[\"district\"] = \"D9\""
   ]
  },
  {
   "cell_type": "code",
   "execution_count": null,
   "id": "69d61eb2-8ecb-40c8-accd-5beeba57d247",
   "metadata": {
    "scrolled": true,
    "tags": []
   },
   "outputs": [],
   "source": [
    "#routes_no_coverage_d10 = A3_analysis.comparison(all_routes, t_d10)"
   ]
  },
  {
   "cell_type": "code",
   "execution_count": null,
   "id": "88ac43ad-eb96-48b6-a79e-9037baa55ea4",
   "metadata": {},
   "outputs": [],
   "source": [
    "#routes_no_coverage_d10[\"district\"] = \"D10\""
   ]
  },
  {
   "cell_type": "code",
   "execution_count": null,
   "id": "cdc3731f-0e13-45f9-a148-483595e431bb",
   "metadata": {},
   "outputs": [],
   "source": [
    "#routes_no_coverage_d6 = A3_analysis.comparison(all_routes, t_d6)"
   ]
  },
  {
   "cell_type": "code",
   "execution_count": null,
   "id": "5e77aa88-4109-484d-ac5a-25f12b745c54",
   "metadata": {},
   "outputs": [],
   "source": [
    "#routes_no_coverage_d6[\"district\"] = \"D6\""
   ]
  },
  {
   "cell_type": "code",
   "execution_count": null,
   "id": "9270b668-c5ae-4cc1-979a-98b9c796b19a",
   "metadata": {
    "scrolled": true,
    "tags": []
   },
   "outputs": [],
   "source": [
    "#t_d9_10 = pd.concat([routes_no_coverage_d6, routes_no_coverage_d9, routes_no_coverage_d10])"
   ]
  },
  {
   "cell_type": "code",
   "execution_count": null,
   "id": "258ec92e-b387-4d1f-8e80-6eb250c9ada3",
   "metadata": {},
   "outputs": [],
   "source": [
    "#len(t_d9_10)"
   ]
  },
  {
   "cell_type": "code",
   "execution_count": null,
   "id": "afd5155b-83ae-4cfa-a2b9-0e6ed406afba",
   "metadata": {
    "scrolled": true,
    "tags": []
   },
   "outputs": [],
   "source": [
    "# t_d9_10.drop(columns = [\"geometry\"]).sort_values([\"percentage_route_covered\",\"long_route_name\", ])"
   ]
  },
  {
   "cell_type": "code",
   "execution_count": null,
   "id": "486aa5ab-2ae8-4822-9883-24d4a02ffc9a",
   "metadata": {},
   "outputs": [],
   "source": [
    "#value_counts = A2_other.turn_counts_to_df(t_d9_10, \"long_route_name\")"
   ]
  },
  {
   "cell_type": "markdown",
   "id": "3edf6166-4a40-4eb2-a940-01c8d6adb8d9",
   "metadata": {},
   "source": [
    "### T-Mobile Clip `sjoin-difference` results"
   ]
  },
  {
   "cell_type": "code",
   "execution_count": null,
   "id": "ea752c17-9b0d-4434-8621-51bda4fe93d6",
   "metadata": {},
   "outputs": [],
   "source": [
    "def clip_no_coverage_files(phrase_to_find:str, provider:str):\n",
    "    \"\"\"\n",
    "    Take each district file created from the \n",
    "    function `complete_difference_provider_district_level` \n",
    "    and clip the file against the original\n",
    "    district shape to get rid of excess edges\n",
    "    created by the `sjoin`. Join all the districts to create\n",
    "    a full California map for each provider.\n",
    "    \"\"\"\n",
    "    # Open original Caltrans districts shapefile\n",
    "    # Get rid of A1_provider_prep\n",
    "    districts = A1_provider_prep.get_districts()\n",
    "    \n",
    "    # Empty gdf to hold results\n",
    "    california_gdf = pd.DataFrame()\n",
    "    \n",
    "    # Get a list of files I want\n",
    "    provider_files_list = find_specific_files(phrase_to_find)\n",
    "    \n",
    "    # Loop over every file\n",
    "    # Testing with just Bay Area for now \n",
    "    # Put provider_files_list later.\n",
    "    for file in provider_files_list:\n",
    "        # Find which district info each file contains. \n",
    "        # https://stackoverflow.com/questions/11339210/how-to-get-integer-values-from-a-string-in-python\n",
    "        district_file_path = ''.join(i for i in file if i.isdigit())\n",
    "        # Turn this into an integer\n",
    "        district_file_path = int(district_file_path)\n",
    "        # Take district_file_path and filter out district gdf\n",
    "        district_of_interest = (districts.loc[districts.district == district_file_path]).reset_index()\n",
    "        # Open file\n",
    "        no_coverage_file = gpd.read_parquet(file)\n",
    "        # Clip no coverage file against original district shape\n",
    "        file_clipped = gpd.clip(no_coverage_file, district_of_interest, keep_geom_type=False)\n",
    "        # Concat\n",
    "        california_gdf = pd.concat([california_gdf, file_clipped], axis=0)\n",
    "        print(f\"Done with District {district_file_path}\")\n",
    "        \n",
    "    # Export\n",
    "    # utils.geoparquet_gcs_export(california_gdf, A1_provider_prep.GCS_FILE_PATH, f\"{provider}_clipped_og_district_sjoin\") \n",
    "    \n",
    "    return california_gdf"
   ]
  },
  {
   "cell_type": "code",
   "execution_count": null,
   "id": "a7b7080a-d295-4e64-850d-e5006e760cdd",
   "metadata": {},
   "outputs": [],
   "source": [
    "# entire_tmobile = clip_no_coverage_files(\"tmobile_no_coverage_d\", \"tmobile\")"
   ]
  },
  {
   "cell_type": "code",
   "execution_count": null,
   "id": "0e231bec-37f2-4e7b-b942-24fd6bba31b2",
   "metadata": {},
   "outputs": [],
   "source": [
    "entire_tmobile.plot()"
   ]
  },
  {
   "cell_type": "code",
   "execution_count": null,
   "id": "26c28013-6b62-4dd6-9c79-9fcf28395fb3",
   "metadata": {},
   "outputs": [],
   "source": [
    "entire_ATT = clip_no_coverage_files(\"ATT_no_coverage_d\", \"ATT\")"
   ]
  },
  {
   "cell_type": "code",
   "execution_count": null,
   "id": "558e7917-678e-44f4-937d-939ce7bd9d65",
   "metadata": {},
   "outputs": [],
   "source": [
    "gpd.read_parquet(\"ATT.parquet\").plot()"
   ]
  },
  {
   "cell_type": "code",
   "execution_count": null,
   "id": "f2596335-a0ad-4308-8b25-20985e2d602c",
   "metadata": {},
   "outputs": [],
   "source": [
    "gpd.read_parquet(\"gs://calitp-analytics-data/data-analyses/cellular_coverage/att_all_counties.parquet\").plot()"
   ]
  },
  {
   "cell_type": "code",
   "execution_count": null,
   "id": "0fb79ded-a200-4886-8a55-2a8df45e0a03",
   "metadata": {},
   "outputs": [],
   "source": [
    "gpd.read_parquet(\"gs://calitp-analytics-data/data-analyses/cellular_coverage/ATT_no_coverage_complete_CA.parquet\").plot()"
   ]
  },
  {
   "cell_type": "code",
   "execution_count": null,
   "id": "be18cd8c-17d3-4268-8997-9b8c21563921",
   "metadata": {},
   "outputs": [],
   "source": [
    "entire_ATT.plot()"
   ]
  },
  {
   "cell_type": "markdown",
   "id": "58a1e704-38a0-4121-b958-ada66b41e527",
   "metadata": {},
   "source": [
    "#### Test Area"
   ]
  },
  {
   "cell_type": "code",
   "execution_count": null,
   "id": "0c4092c4-2094-424e-a993-b6511c4cbdee",
   "metadata": {},
   "outputs": [],
   "source": [
    "# Empty gdf\n",
    "tmobile_gdf = pd.DataFrame()"
   ]
  },
  {
   "cell_type": "code",
   "execution_count": null,
   "id": "039686dc-7fe8-4605-bb04-425c70bdac68",
   "metadata": {},
   "outputs": [],
   "source": [
    "for i in t_mobile_files:\n",
    "    district_file_path = ''.join(district for district in i if district.isdigit())\n",
    "    district_file_path = int(district_file_path)\n",
    "    print(district_file_path)"
   ]
  },
  {
   "cell_type": "code",
   "execution_count": null,
   "id": "096b0a3d-7749-4543-bd2a-bfa875f061eb",
   "metadata": {},
   "outputs": [],
   "source": [
    "# Test file path\n",
    "no_coverage_file_path = 'gs://calitp-analytics-data/data-analyses/cellular_coverage/tmobile_no_coverage_d1.parquet'"
   ]
  },
  {
   "cell_type": "code",
   "execution_count": null,
   "id": "149ae429-6470-4d7e-a1bf-57b3723da79c",
   "metadata": {},
   "outputs": [],
   "source": [
    "# Find which district a file belongs to \n",
    "district_file_path = ''.join(district for district in no_coverage_file_path if district.isdigit())"
   ]
  },
  {
   "cell_type": "code",
   "execution_count": null,
   "id": "3cbb1c81-30ce-440f-9bb7-4e6c58dd50de",
   "metadata": {},
   "outputs": [],
   "source": [
    "# Turn this into an integer\n",
    "district_file_path = int(district_file_path)\n",
    "district_file_path"
   ]
  },
  {
   "cell_type": "code",
   "execution_count": null,
   "id": "b9b15d5f-3b33-42b9-bae0-06c3d3442744",
   "metadata": {},
   "outputs": [],
   "source": [
    "# Open file path \n",
    "no_coverage_file = gpd.read_parquet(no_coverage_file_path)"
   ]
  },
  {
   "cell_type": "code",
   "execution_count": null,
   "id": "3e16b025-5fbf-428a-ab83-c74afecee4d3",
   "metadata": {},
   "outputs": [],
   "source": [
    "# Take district_file_path and filter out district gdf\n",
    "district_of_interest = (districts.loc[districts.district == district_file_path]).reset_index()"
   ]
  },
  {
   "cell_type": "code",
   "execution_count": null,
   "id": "aa33e247-d72f-4d95-bdcf-cb69984f9cc2",
   "metadata": {},
   "outputs": [],
   "source": [
    "# Clip no coverage file against original district shape\n",
    "file_clipped = gpd.clip(no_coverage_file, district_of_interest, keep_geom_type=False)"
   ]
  },
  {
   "cell_type": "code",
   "execution_count": null,
   "id": "79e78ddf-978f-4fab-b45b-3cdd06b62178",
   "metadata": {},
   "outputs": [],
   "source": [
    "file_clipped.plot()"
   ]
  },
  {
   "cell_type": "markdown",
   "id": "036f7a21-43af-4978-a084-5055fc76cd93",
   "metadata": {},
   "source": [
    "### D4 Verizon Test\n",
    "* Test district 4 for Verizon"
   ]
  },
  {
   "cell_type": "code",
   "execution_count": null,
   "id": "58821a6d-1b46-44fa-ac34-1b820e9c642b",
   "metadata": {},
   "outputs": [],
   "source": [
    "# Read in Verizon D4\n",
    "v_d4 = gpd.read_parquet(\n",
    "   f\"{A1_provider_prep.GCS_FILE_PATH}Verizon_no_coverage_d4.parquet\"\n",
    " )"
   ]
  },
  {
   "cell_type": "code",
   "execution_count": null,
   "id": "d4b82ff0-bbc0-46a3-bc92-c72716ccdcc4",
   "metadata": {
    "scrolled": true,
    "tags": []
   },
   "outputs": [],
   "source": [
    "# multi_dist_routes_dissolved.drop(columns = [\"geometry\"])"
   ]
  },
  {
   "cell_type": "code",
   "execution_count": null,
   "id": "75dd9759-f733-4ac9-a73f-0696a4b3786e",
   "metadata": {},
   "outputs": [],
   "source": [
    "v_d4.plot()"
   ]
  },
  {
   "cell_type": "code",
   "execution_count": null,
   "id": "09920897-c342-4631-a798-c6e02351cb78",
   "metadata": {},
   "outputs": [],
   "source": [
    "# Get only d4\n",
    "# d4 = (districts.loc[districts.district == 4]).reset_index()"
   ]
  },
  {
   "cell_type": "code",
   "execution_count": null,
   "id": "9ef94938-cc8e-41bd-a5e5-8361d5a0f7b7",
   "metadata": {},
   "outputs": [],
   "source": [
    "# v_d4_clipped = gpd.clip(v_d4, d4, keep_geom_type=False)"
   ]
  },
  {
   "cell_type": "code",
   "execution_count": null,
   "id": "db1298d0-fd68-4ddc-b812-1ef9c66d598a",
   "metadata": {},
   "outputs": [],
   "source": [
    "# v_d4_clipped.plot()"
   ]
  },
  {
   "cell_type": "code",
   "execution_count": null,
   "id": "10e38ca2-0fd9-4804-a21a-b983ca4dc426",
   "metadata": {},
   "outputs": [],
   "source": [
    "\"\"\"n = v_d4_clipped.explore(\n",
    "    color=\"red\",\n",
    "    width=800,\n",
    "    height=400,\n",
    ")\"\"\""
   ]
  },
  {
   "cell_type": "code",
   "execution_count": null,
   "id": "6d432578-e14b-484f-aff7-18d5122be7fb",
   "metadata": {},
   "outputs": [],
   "source": [
    "# Clipped geometry\n",
    "# n = d4.explore(m=n, legend=False)"
   ]
  },
  {
   "cell_type": "code",
   "execution_count": null,
   "id": "3cb081ee-06a2-4d22-a08e-9160677c9fc1",
   "metadata": {},
   "outputs": [],
   "source": [
    "# 10:19 to 10:20\n",
    "#routes_no_coverage = A2_analysis.comparison(\n",
    "#        all_routes, v_d4_clipped\n",
    "#    )"
   ]
  },
  {
   "cell_type": "code",
   "execution_count": null,
   "id": "439ddbe1-25ea-4124-a68e-9d0220d0bd66",
   "metadata": {},
   "outputs": [],
   "source": [
    "# routes_no_coverage.drop(columns = [\"geometry\"])"
   ]
  },
  {
   "cell_type": "code",
   "execution_count": null,
   "id": "6da84f38-6abd-4de6-86fe-6a7d4f7f76ce",
   "metadata": {},
   "outputs": [],
   "source": [
    "# routes_no_coverage_list = routes_no_coverage.long_route_name.unique().tolist()"
   ]
  },
  {
   "cell_type": "code",
   "execution_count": null,
   "id": "3d5917b7-4676-4c1d-9162-0903db7aab5f",
   "metadata": {},
   "outputs": [],
   "source": [
    "# routes_no_coverage_og_geo = all_routes.loc[all_routes.long_route_name.isin(routes_no_coverage_list)]"
   ]
  },
  {
   "cell_type": "code",
   "execution_count": null,
   "id": "d40c8e90-aaed-4c73-b069-92f2305099c9",
   "metadata": {},
   "outputs": [],
   "source": [
    "# routes_no_coverage_og_geo = routes_no_coverage_og_geo.explore(width=800,\n",
    "#     height=400, color= \"red\")"
   ]
  },
  {
   "cell_type": "code",
   "execution_count": null,
   "id": "791a7664-09ee-4a6c-9d26-082fe71c2e13",
   "metadata": {},
   "outputs": [],
   "source": [
    "# routes_no_coverage_og_geo = v_d4_clipped.explore(m=routes_no_coverage_og_geo,)"
   ]
  },
  {
   "cell_type": "code",
   "execution_count": null,
   "id": "43d6f984-1ef2-4a06-8b55-0e8bb5e27d5c",
   "metadata": {},
   "outputs": [],
   "source": [
    "# routes_no_coverage_og_geo"
   ]
  }
 ],
 "metadata": {
  "kernelspec": {
   "display_name": "Python 3 (ipykernel)",
   "language": "python",
   "name": "python3"
  },
  "language_info": {
   "codemirror_mode": {
    "name": "ipython",
    "version": 3
   },
   "file_extension": ".py",
   "mimetype": "text/x-python",
   "name": "python",
   "nbconvert_exporter": "python",
   "pygments_lexer": "ipython3",
   "version": "3.9.13"
  }
 },
 "nbformat": 4,
 "nbformat_minor": 5
}
