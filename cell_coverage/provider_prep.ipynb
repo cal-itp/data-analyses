{
 "cells": [
  {
   "cell_type": "markdown",
   "id": "6ffa6751-1a5a-4646-b75c-fd01cb065193",
   "metadata": {},
   "source": [
    "## Prepare Provider Maps "
   ]
  },
  {
   "cell_type": "code",
   "execution_count": null,
   "id": "1857541c-e2f6-4aef-ad68-099dd7399d22",
   "metadata": {},
   "outputs": [],
   "source": [
    "import dask.dataframe as dd\n",
    "import dask_geopandas as dg\n",
    "import geopandas as gpd\n",
    "import pandas as pd\n",
    "import shapely.wkt\n",
    "import utilities\n",
    "from calitp import *\n",
    "from shared_utils import geography_utils, utils"
   ]
  },
  {
   "cell_type": "markdown",
   "id": "1ac61178-b138-49ed-927e-e445e457b92a",
   "metadata": {},
   "source": [
    "### Load in Counties/Districts"
   ]
  },
  {
   "cell_type": "code",
   "execution_count": null,
   "id": "6200677a-23f4-4631-94e9-ebfe7995c857",
   "metadata": {},
   "outputs": [],
   "source": [
    "counties = utilities.get_counties()"
   ]
  },
  {
   "cell_type": "code",
   "execution_count": null,
   "id": "f6785309-0b2a-4b2c-82b5-9507004b8b0e",
   "metadata": {},
   "outputs": [],
   "source": [
    "# Grab only Kern County because it's plotting weirdly\n",
    "kern = counties.loc[counties.county_name == \"Kern\"].reset_index(drop=True)"
   ]
  },
  {
   "cell_type": "code",
   "execution_count": null,
   "id": "9f83fec9-fca9-47a5-8da6-9d32cec29f87",
   "metadata": {},
   "outputs": [],
   "source": [
    "kern.geometry.is_valid.all()"
   ]
  },
  {
   "cell_type": "code",
   "execution_count": null,
   "id": "3650ce45-b907-43f9-a1d7-300df15bc0fd",
   "metadata": {},
   "outputs": [],
   "source": [
    "# Non node intersection line string error - fix Kern County\n",
    "# https://github.com/geopandas/geopandas/issues/1724\n",
    "kern[\"geometry\"] = kern[\"geometry\"].apply(\n",
    "    lambda x: shapely.wkt.loads(shapely.wkt.dumps(x, rounding_precision=4))\n",
    ")"
   ]
  },
  {
   "cell_type": "code",
   "execution_count": null,
   "id": "e971c2bf-2a92-4ce2-810b-60248f663060",
   "metadata": {},
   "outputs": [],
   "source": [
    "districts = to_snakecase(\n",
    "    gpd.read_file(f\"{utilities.caltrans_shape}\").to_crs(epsg=4326)\n",
    ")[[\"district\", \"geometry\"]]"
   ]
  },
  {
   "cell_type": "code",
   "execution_count": null,
   "id": "14d19e4f-a98c-445f-af56-15d6c7b0f7fd",
   "metadata": {},
   "outputs": [],
   "source": [
    "# Grab only district 4\n",
    "d4 = districts.loc[districts.district == 4].reset_index(drop=True)"
   ]
  },
  {
   "cell_type": "code",
   "execution_count": null,
   "id": "a08eba49-d1f1-4dd9-aa10-5d02344b9f8e",
   "metadata": {},
   "outputs": [],
   "source": [
    "# Grab only district 7\n",
    "d7 = districts.loc[districts.district == 7].reset_index(drop=True)"
   ]
  },
  {
   "cell_type": "markdown",
   "id": "8bc95ae8-434f-41f0-83a6-3c72fecd2e76",
   "metadata": {},
   "source": [
    "### Load in Provider Maps"
   ]
  },
  {
   "cell_type": "markdown",
   "id": "875fcc7e-5cb4-472c-a416-90954b472fdd",
   "metadata": {},
   "source": [
    "#### T-Mobile"
   ]
  },
  {
   "cell_type": "code",
   "execution_count": null,
   "id": "1fc77992-180f-47a2-945c-02993a875c79",
   "metadata": {},
   "outputs": [],
   "source": [
    "# Original map\n",
    "tmobile = dg.read_parquet(\n",
    "    \"gs://calitp-analytics-data/data-analyses/cellular_coverage/tmobile_california.parquet\"\n",
    ")"
   ]
  },
  {
   "cell_type": "code",
   "execution_count": null,
   "id": "228e2894-2c8a-45f0-ab55-49d900392390",
   "metadata": {},
   "outputs": [],
   "source": [
    "type(tmobile)"
   ]
  },
  {
   "cell_type": "code",
   "execution_count": null,
   "id": "fb603ec0-60b0-4e9a-a12e-3ef19c7d61c3",
   "metadata": {},
   "outputs": [],
   "source": [
    "# geojson_gcs_export(tmobile, utilities.GCS_FILE_PATH, 'tmobile_geojson')"
   ]
  },
  {
   "cell_type": "markdown",
   "id": "96ca89aa-c5d2-4014-ab56-15ffd60de7af",
   "metadata": {},
   "source": [
    "#### Verizon \n",
    "* Crashes when clipping to Kern County\n",
    "* Doesn't work at all with districts shapefile?\n",
    "* Fix Kern county and concat it with the other files \n",
    "* Final result: \n",
    "   * `gs://calitp-analytics-data/data-analyses/cellular_coverage/verizon_all_counties.parquet`"
   ]
  },
  {
   "cell_type": "code",
   "execution_count": null,
   "id": "4e5a0a6c-a883-47e8-aa6a-d3d1532028f4",
   "metadata": {},
   "outputs": [],
   "source": [
    "# Original map\n",
    "verizon = dg.read_parquet(\"Verizon.parquet\")"
   ]
  },
  {
   "cell_type": "code",
   "execution_count": null,
   "id": "4ec47217-9f86-4c1e-b847-e74e8b144f34",
   "metadata": {
    "tags": []
   },
   "outputs": [],
   "source": [
    "# Fix Kern\n",
    "# verizon_kern = utilities.find_difference_and_clip(verizon, kern)"
   ]
  },
  {
   "cell_type": "code",
   "execution_count": null,
   "id": "28ce9060-8a45-49b0-a21c-1059160864c5",
   "metadata": {},
   "outputs": [],
   "source": [
    "# verizon_kern.plot()"
   ]
  },
  {
   "cell_type": "markdown",
   "id": "4178ec59-8548-42d8-9de3-de996185d68c",
   "metadata": {},
   "source": [
    "### Sjoin  for T-Mobile by Districts\n",
    "* T-Mobile includes portions of other states. \n",
    "* Do a sjoin to only grab rows of T-Mobile's gdf that overlap with California using Caltrans districts before clipping and finding areas with no coverage. "
   ]
  },
  {
   "cell_type": "code",
   "execution_count": null,
   "id": "4efa2f3c-4016-44f9-bcda-e8300fdc4726",
   "metadata": {},
   "outputs": [],
   "source": [
    "def district_sjoin(\n",
    "    provider, gcs_file_path: str, file_name: str, districts_wanted: list\n",
    "):\n",
    "\n",
    "    # Original CT map\n",
    "    ct_all_districts = to_snakecase(\n",
    "        gpd.read_file(f\"{utilities.caltrans_shape}\").to_crs(epsg=4326)\n",
    "    )[[\"district\", \"geometry\"]]\n",
    "\n",
    "    # Empty dataframe to hold each district after clipping\n",
    "    full_gdf = pd.DataFrame()\n",
    "\n",
    "    # Specify districts I want.\n",
    "    for i in districts_wanted:\n",
    "        district_gdf = ct_all_districts[ct_all_districts.district == i].reset_index(\n",
    "            drop=True\n",
    "        )\n",
    "\n",
    "        # https://dask-geopandas.readthedocs.io/en/stable/docs/reference/api/dask_geopandas.GeoDataFrame.sjoin.html\n",
    "        dask_sjoin = provider.sjoin(district_gdf, how=\"inner\", predicate=\"intersects\")\n",
    "        full_gdf = dd.multi.concat([full_gdf, dask_sjoin], axis=0)\n",
    "        print(f\"Done concating for {i}\")\n",
    "\n",
    "    # Turn back to a regular gdf\n",
    "    full_gdf = full_gdf.compute()\n",
    "\n",
    "    # Save to GCS\n",
    "    utils.geoparquet_gcs_export(full_gdf, gcs_file_path, file_name)\n",
    "    print(\"Saved to GCS\")\n",
    "\n",
    "    return full_gdf"
   ]
  },
  {
   "cell_type": "code",
   "execution_count": null,
   "id": "9865a375-fc7a-4fe7-8ca9-61e2555a868a",
   "metadata": {},
   "outputs": [],
   "source": [
    "# test = district_sjoin(tmobile, utilities.GCS_FILE_PATH,'tmobile_d1_d4', [1,2,3,4])"
   ]
  },
  {
   "cell_type": "markdown",
   "id": "ef398e91-e704-4aef-8050-e5bf08b7ca9d",
   "metadata": {},
   "source": [
    "#### Testing"
   ]
  },
  {
   "cell_type": "code",
   "execution_count": null,
   "id": "43bcfdb4-c47b-4545-b197-ca4573461ab5",
   "metadata": {},
   "outputs": [],
   "source": [
    "# https://dask-geopandas.readthedocs.io/en/stable/docs/reference/api/dask_geopandas.GeoDataFrame.sjoin.html\n",
    "# dask_sjoin = tmobile.sjoin(d4, how='inner', predicate='intersects')"
   ]
  },
  {
   "cell_type": "code",
   "execution_count": null,
   "id": "beb9dd15-dd0c-4b7e-8df9-fadb802ca514",
   "metadata": {},
   "outputs": [],
   "source": [
    "# https://dask-geopandas.readthedocs.io/en/stable/docs/reference/api/dask_geopandas.GeoDataFrame.sjoin.html\n",
    "# dask_sjoin2 = tmobile.sjoin(d7, how='inner', predicate='intersects')"
   ]
  },
  {
   "cell_type": "code",
   "execution_count": null,
   "id": "c5fa3840-4a07-49d1-aa10-5077a22e112d",
   "metadata": {},
   "outputs": [],
   "source": [
    "# Multi concat\n",
    "# dask_concat =  dd.multi.concat([dask_sjoin, dask_sjoin2], axis=0)"
   ]
  },
  {
   "cell_type": "code",
   "execution_count": null,
   "id": "2648bf10-e42f-4198-b385-ea40421a949f",
   "metadata": {},
   "outputs": [],
   "source": [
    "# Turn into normal df\n",
    "# dask_concat_gdf = dask_concat.compute()"
   ]
  },
  {
   "cell_type": "code",
   "execution_count": null,
   "id": "c26a5e9f-232f-49b0-8e48-1baa18d4f3ec",
   "metadata": {},
   "outputs": [],
   "source": [
    "# dask_concat_gdf_dissolved = dask_concat_gdf.dissolve().drop(columns = ['district'])"
   ]
  },
  {
   "cell_type": "code",
   "execution_count": null,
   "id": "feeb37a4-e637-4180-bf06-457ffb13c2f5",
   "metadata": {},
   "outputs": [],
   "source": [
    "# https://dask-geopandas.readthedocs.io/en/stable/docs/reference/api/dask_geopandas.GeoDataFrame.dissolve.html\n",
    "# dask_concat_dissolve = dask_concat.dissolve(\"district\")"
   ]
  },
  {
   "cell_type": "code",
   "execution_count": null,
   "id": "a828f85f-6289-4ed5-92a6-714c7522b1e7",
   "metadata": {},
   "outputs": [],
   "source": [
    "# Find length of a dask df\n",
    "# https://stackoverflow.com/questions/50569171/how-do-i-find-the-length-of-a-dataframe-in-dask\n",
    "# print(len(dask_concat_dissolve.index))"
   ]
  },
  {
   "cell_type": "markdown",
   "id": "9dde7220-157e-4f49-9427-c748f7560bfa",
   "metadata": {
    "tags": []
   },
   "source": [
    "### Find Counties w/o Coverage"
   ]
  },
  {
   "cell_type": "code",
   "execution_count": null,
   "id": "336768bc-fcb9-4b8f-bfce-a99ff31b1abe",
   "metadata": {},
   "outputs": [],
   "source": [
    "county_names = counties.county_name.sort_values().unique().tolist()"
   ]
  },
  {
   "cell_type": "code",
   "execution_count": null,
   "id": "123b2290-85b9-4ebd-91fe-e08821483880",
   "metadata": {},
   "outputs": [],
   "source": [
    "def breakout_counties(\n",
    "    provider, gcs_file_path: str, file_name: str, counties_wanted: list\n",
    "):\n",
    "    counties = utilities.get_counties()\n",
    "\n",
    "    # Empty dataframe to hold each district after clipping\n",
    "    full_gdf = pd.DataFrame()\n",
    "\n",
    "    for i in counties_wanted:\n",
    "        county_gdf = counties[counties.county_name == i].reset_index(drop=True)\n",
    "\n",
    "        county_gdf_clipped = utilities.find_difference_and_clip(provider, county_gdf)\n",
    "        full_gdf = dd.multi.concat([full_gdf, county_gdf_clipped], axis=0)\n",
    "        print(f\"done concating for {i}\")\n",
    "\n",
    "    # Turn this into a GDF\n",
    "    full_gdf = full_gdf.compute()\n",
    "\n",
    "    # Save to GCS\n",
    "    utils.geoparquet_gcs_export(full_gdf, gcs_file_path, file_name)\n",
    "    print(\"saved to GCS\")\n",
    "\n",
    "    return full_gdf"
   ]
  },
  {
   "cell_type": "markdown",
   "id": "32ada375-73c6-42a5-8d3b-122967cbdcf5",
   "metadata": {},
   "source": [
    "### Find Districts w/o Coverage"
   ]
  },
  {
   "cell_type": "code",
   "execution_count": null,
   "id": "8fb198df-098e-47d8-b93b-9b7349459b56",
   "metadata": {},
   "outputs": [],
   "source": [
    "# Read in original CT map\n",
    "ct_all_districts = to_snakecase(\n",
    "        gpd.read_file(f\"{utilities.caltrans_shape}\").to_crs(epsg=4326)\n",
    "    )[[\"district\", \"geometry\"]]\n",
    "    "
   ]
  },
  {
   "cell_type": "code",
   "execution_count": null,
   "id": "88da1994-dff6-4f9c-ad4c-80d38c297704",
   "metadata": {},
   "outputs": [],
   "source": [
    "# Filter for only districts wanted\n",
    "ct_districts_filtered = ct_all_districts[ct_all_districts[\"district\"].isin([1,2,3,4])].reset_index()"
   ]
  },
  {
   "cell_type": "code",
   "execution_count": null,
   "id": "6a317736-fa5a-44ad-8f81-06d0250e83a8",
   "metadata": {},
   "outputs": [],
   "source": [
    "type(ct_districts_filtered)"
   ]
  },
  {
   "cell_type": "code",
   "execution_count": null,
   "id": "e7111c76-173b-4d3d-ade6-333f194905c3",
   "metadata": {},
   "outputs": [],
   "source": [
    "ct_districts_filtered.plot()"
   ]
  },
  {
   "cell_type": "code",
   "execution_count": null,
   "id": "077a0b1b-e4dc-409d-a1a6-0740e5879a25",
   "metadata": {},
   "outputs": [],
   "source": [
    "tmobile_d1d4_dd = dg.read_parquet(\n",
    "    \"gs://calitp-analytics-data/data-analyses/cellular_coverage/tmobile_d1_d4.parquet\"\n",
    ")"
   ]
  },
  {
   "cell_type": "code",
   "execution_count": null,
   "id": "36c4ca26-25f5-4474-b7d5-4121c7fa3d8a",
   "metadata": {},
   "outputs": [],
   "source": [
    "tmobile_d1d4_dd_gdf = tmobile_d1d4_dd.compute()"
   ]
  },
  {
   "cell_type": "code",
   "execution_count": null,
   "id": "54d31346-4d10-46e2-ab7d-bbded625a52c",
   "metadata": {},
   "outputs": [],
   "source": [
    "tmobile_d1d4_dd_gdf.plot()"
   ]
  },
  {
   "cell_type": "code",
   "execution_count": null,
   "id": "9715006d-f24d-434c-9bdf-6e5ee89eca02",
   "metadata": {},
   "outputs": [],
   "source": [
    "test = utilities.find_difference_and_clip(tmobile_d1d4_dd, ct_districts_filtered)"
   ]
  },
  {
   "cell_type": "code",
   "execution_count": null,
   "id": "b6a28c4f-4f11-461f-b258-66469d9c6d26",
   "metadata": {},
   "outputs": [],
   "source": [
    "def breakout_districts(\n",
    "    sjoin_provider_map: dg.GeoDataFrame,\n",
    "    districts_wanted: list,\n",
    "    gcs_file_path: str,\n",
    "    file_name: str,\n",
    "):\n",
    "    # Read in original CT map\n",
    "    ct_all_districts = to_snakecase(\n",
    "        gpd.read_file(f\"{utilities.caltrans_shape}\").to_crs(epsg=4326)\n",
    "    )[[\"district\", \"geometry\"]]\n",
    "    \n",
    "    # Filter for only districts wanted\n",
    "    ct_districts_wanted = ct_all_districts[ct_all_districts[\"district\"].isin(districts_wanted)].reset_index(drop = True)\n",
    "    \n",
    "    # Find difference and clip \n",
    "    county_gdf_clipped = utilities.find_difference_and_clip(\n",
    "        sjoin_provider_map, ct_districts_wanted\n",
    "    )\n",
    "    print(\"Done finding difference\")\n",
    "\n",
    "    # Save to GCS\n",
    "    utils.geoparquet_gcs_export(county_gdf_clipped, gcs_file_path, file_name)\n",
    "    print(\"saved to GCS\")\n",
    "    \n",
    "    return county_gdf_clipped"
   ]
  },
  {
   "cell_type": "code",
   "execution_count": null,
   "id": "5c88e62a-714b-4b83-bb1b-3fd99b7a4a21",
   "metadata": {},
   "outputs": [],
   "source": [
    "test = breakout_districts(tmobile_d1d4_dd, [1,2,], utilities.GCS_FILE_PATH, \"tmobile_no_coverage_d1_d4\")"
   ]
  },
  {
   "cell_type": "markdown",
   "id": "6ef7650f-9446-404d-a493-d67ffbfae453",
   "metadata": {
    "tags": []
   },
   "source": [
    "### Concat all separated out areas using dask"
   ]
  },
  {
   "cell_type": "code",
   "execution_count": null,
   "id": "d77ab583-3840-4a9c-9fe0-9e3a6fffdadb",
   "metadata": {},
   "outputs": [],
   "source": [
    "# California is separated out into different gdfs that contain\n",
    "# portions of districts/counties. Concat them all together\n",
    "# to get the entirety of California again.\n",
    "def concat_all_areas(all_gdf: list, gcs_file_path: str, file_name: str):\n",
    "\n",
    "    # Empty dataframe\n",
    "    full_gdf = pd.DataFrame()\n",
    "\n",
    "    # Concat all the districts that were broken out into one\n",
    "    full_gdf = dd.multi.concat(all_gdf, axis=0)\n",
    "\n",
    "    # Turn it into a gdf\n",
    "    full_gdf = full_gdf.compute()\n",
    "\n",
    "    # Export\n",
    "    utils.geoparquet_gcs_export(full_gdf, gcs_file_path, file_name)\n",
    "\n",
    "    print(\"Saved to GCS\")\n",
    "    return full_gdf"
   ]
  },
  {
   "cell_type": "code",
   "execution_count": null,
   "id": "3ae01067-155b-4440-8f81-678fbb07ca0a",
   "metadata": {},
   "outputs": [],
   "source": [
    "# tmobile_all_CA = concat_all_areas(tmobile, utilities.GCS_FILE_PATH, \"tmobile_overlap_with_CA\")"
   ]
  },
  {
   "cell_type": "code",
   "execution_count": null,
   "id": "24539f15-6d82-4c64-b0fd-de51e9fe7537",
   "metadata": {},
   "outputs": [],
   "source": [
    "verizon_wo_kern = gpd.read_parquet(\n",
    "    \"gs://calitp-analytics-data/data-analyses/cellular_coverage/verizon_all_counties_except_Kern.parquet\"\n",
    ")"
   ]
  },
  {
   "cell_type": "code",
   "execution_count": null,
   "id": "1cd306b8-b069-4f66-aba9-d20c5d090985",
   "metadata": {},
   "outputs": [],
   "source": [
    "# verizon_wo_kern.plot()"
   ]
  },
  {
   "cell_type": "code",
   "execution_count": null,
   "id": "c2c387cb-2832-4c52-a67f-fb361b51f758",
   "metadata": {},
   "outputs": [],
   "source": [
    "verizon_all = gpd.read_parquet(\n",
    "    \"gs://calitp-analytics-data/data-analyses/cellular_coverage/verizon_all_counties.parquet\"\n",
    ")"
   ]
  },
  {
   "cell_type": "code",
   "execution_count": null,
   "id": "d69d2393-7941-4af5-ae5c-5defeca9658f",
   "metadata": {},
   "outputs": [],
   "source": [
    "# verizon_all.plot()"
   ]
  }
 ],
 "metadata": {
  "kernelspec": {
   "display_name": "Python 3 (ipykernel)",
   "language": "python",
   "name": "python3"
  },
  "language_info": {
   "codemirror_mode": {
    "name": "ipython",
    "version": 3
   },
   "file_extension": ".py",
   "mimetype": "text/x-python",
   "name": "python",
   "nbconvert_exporter": "python",
   "pygments_lexer": "ipython3",
   "version": "3.9.13"
  }
 },
 "nbformat": 4,
 "nbformat_minor": 5
}
