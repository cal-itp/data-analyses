{
 "cells": [
  {
   "cell_type": "markdown",
   "id": "6ffa6751-1a5a-4646-b75c-fd01cb065193",
   "metadata": {},
   "source": [
    "## Prepare Provider Maps \n",
    "* Clip each provider map to be California only\n",
    "* Find the areas where the provider has *no coverage* using `find_difference_and_clip` in `utilities`.\n"
   ]
  },
  {
   "cell_type": "code",
   "execution_count": 1,
   "id": "1857541c-e2f6-4aef-ad68-099dd7399d22",
   "metadata": {},
   "outputs": [
    {
     "name": "stderr",
     "output_type": "stream",
     "text": [
      "/opt/conda/lib/python3.9/site-packages/geopandas/_compat.py:123: UserWarning: The Shapely GEOS version (3.10.3-CAPI-1.16.1) is incompatible with the GEOS version PyGEOS was compiled with (3.10.1-CAPI-1.16.0). Conversions between both will be slow.\n",
      "  warnings.warn(\n"
     ]
    }
   ],
   "source": [
    "import dask.dataframe as dd\n",
    "import dask_geopandas as dg\n",
    "import geopandas as gpd\n",
    "import pandas as pd\n",
    "import shapely.wkt\n",
    "import utilities\n",
    "from calitp import *\n",
    "from shared_utils import geography_utils, utils"
   ]
  },
  {
   "cell_type": "markdown",
   "id": "1ac61178-b138-49ed-927e-e445e457b92a",
   "metadata": {},
   "source": [
    "### Load in Counties/Districts"
   ]
  },
  {
   "cell_type": "code",
   "execution_count": 2,
   "id": "6200677a-23f4-4631-94e9-ebfe7995c857",
   "metadata": {},
   "outputs": [],
   "source": [
    "counties = utilities.get_counties()"
   ]
  },
  {
   "cell_type": "code",
   "execution_count": 3,
   "id": "8fb198df-098e-47d8-b93b-9b7349459b56",
   "metadata": {},
   "outputs": [],
   "source": [
    "# Read in original CT map\n",
    "ct_all_districts = to_snakecase(\n",
    "        gpd.read_file(f\"{utilities.caltrans_shape}\").to_crs(epsg=4326)\n",
    "    )[[\"district\", \"geometry\"]]\n",
    "    "
   ]
  },
  {
   "cell_type": "markdown",
   "id": "8bc95ae8-434f-41f0-83a6-3c72fecd2e76",
   "metadata": {},
   "source": [
    "### Load in Provider Maps\n",
    "#### AT&T\n",
    "* Complete. \n",
    "* Clipped to CA counties and `find difference and clip` function applied to AT&T's Map.\n",
    "* Final df: `gs://calitp-analytics-data/data-analyses/cellular_coverage/att_all_counties.parquet`"
   ]
  },
  {
   "cell_type": "markdown",
   "id": "96ca89aa-c5d2-4014-ab56-15ffd60de7af",
   "metadata": {
    "tags": []
   },
   "source": [
    "#### Verizon \n",
    "* Crashes when clipping to Kern County\n",
    "* Doesn't work at all with districts shapefile. Have to use CA counties. \n",
    "    * `breakout_counties` function in `utilities`.\n",
    "* Solution: fix Kern county and concat it with the other files \n",
    "* Final result including the fixed Kern row: \n",
    "   * `gs://calitp-analytics-data/data-analyses/cellular_coverage/verizon_all_counties.parquet`"
   ]
  },
  {
   "cell_type": "code",
   "execution_count": 4,
   "id": "4e5a0a6c-a883-47e8-aa6a-d3d1532028f4",
   "metadata": {},
   "outputs": [],
   "source": [
    "# Original map\n",
    "# verizon = dg.read_parquet(\"Verizon.parquet\")"
   ]
  },
  {
   "cell_type": "code",
   "execution_count": 5,
   "id": "4ec47217-9f86-4c1e-b847-e74e8b144f34",
   "metadata": {
    "tags": []
   },
   "outputs": [],
   "source": [
    "# Fix Kern and add it \n",
    "# verizon_kern = utilities.find_difference_and_clip(verizon, kern)"
   ]
  },
  {
   "cell_type": "code",
   "execution_count": 6,
   "id": "28ce9060-8a45-49b0-a21c-1059160864c5",
   "metadata": {},
   "outputs": [],
   "source": [
    "# verizon_kern.plot()"
   ]
  },
  {
   "cell_type": "markdown",
   "id": "875fcc7e-5cb4-472c-a416-90954b472fdd",
   "metadata": {
    "tags": []
   },
   "source": [
    "#### T-Mobile\n",
    "* The map that gives me the most trouble. \n",
    "* T Mobile includes several portions of other states, in addition to California.\n",
    "* Have to clip it to California a different way than Verizon & AT&T in the sjoin step below."
   ]
  },
  {
   "cell_type": "code",
   "execution_count": 7,
   "id": "1fc77992-180f-47a2-945c-02993a875c79",
   "metadata": {},
   "outputs": [],
   "source": [
    "# Original map\n",
    "tmobile = dg.read_parquet(\n",
    "    \"gs://calitp-analytics-data/data-analyses/cellular_coverage/tmobile_california.parquet\"\n",
    ")"
   ]
  },
  {
   "cell_type": "markdown",
   "id": "4178ec59-8548-42d8-9de3-de996185d68c",
   "metadata": {
    "tags": []
   },
   "source": [
    "##### Sjoin  for T-Mobile by Districts\n",
    "* Do a sjoin to only grab rows of T-Mobile's gdf that overlap with Caltrans districts before `find difference and clip`.\n",
    "* Counties didn't seem to work, that's why I went with districts.\n",
    "* Done: Results are split between 3 parquets.\n",
    "    * `gs://calitp-analytics-data/data-analyses/cellular_coverage/tmobile_d1_d4.parquet` \n",
    "    * `gs://calitp-analytics-data/data-analyses/cellular_coverage/tmobile_d5_d8.parquet`\n",
    "    * `gs://calitp-analytics-data/data-analyses/cellular_coverage/tmobile_d9_d12.parquet`"
   ]
  },
  {
   "cell_type": "code",
   "execution_count": 8,
   "id": "4efa2f3c-4016-44f9-bcda-e8300fdc4726",
   "metadata": {},
   "outputs": [],
   "source": [
    "def district_sjoin(\n",
    "    provider, gcs_file_path: str, file_name: str, districts_wanted: list\n",
    "):\n",
    "\n",
    "    # Original CT map\n",
    "    ct_all_districts = to_snakecase(\n",
    "        gpd.read_file(f\"{utilities.caltrans_shape}\").to_crs(epsg=4326)\n",
    "    )[[\"district\", \"geometry\"]]\n",
    "\n",
    "    # Empty dataframe to hold each district after clipping\n",
    "    full_gdf = pd.DataFrame()\n",
    "\n",
    "    # Specify districts I want.\n",
    "    for i in districts_wanted:\n",
    "        district_gdf = ct_all_districts[ct_all_districts.district == i].reset_index(\n",
    "            drop=True\n",
    "        )\n",
    "\n",
    "        # https://dask-geopandas.readthedocs.io/en/stable/docs/reference/api/dask_geopandas.GeoDataFrame.sjoin.html\n",
    "        dask_sjoin = provider.sjoin(district_gdf, how=\"inner\", predicate=\"intersects\")\n",
    "        full_gdf = dd.multi.concat([full_gdf, dask_sjoin], axis=0)\n",
    "        print(f\"Done concating for {i}\")\n",
    "\n",
    "    # Turn back to a regular gdf\n",
    "    full_gdf = full_gdf.compute()\n",
    "\n",
    "    # Save to GCS\n",
    "    utils.geoparquet_gcs_export(full_gdf, gcs_file_path, file_name)\n",
    "    print(\"Saved to GCS\")\n",
    "\n",
    "    return full_gdf"
   ]
  },
  {
   "cell_type": "code",
   "execution_count": 9,
   "id": "9865a375-fc7a-4fe7-8ca9-61e2555a868a",
   "metadata": {},
   "outputs": [],
   "source": [
    "# test = district_sjoin(tmobile, utilities.GCS_FILE_PATH,'tmobile_d1_d4', [1,2,3,4])"
   ]
  },
  {
   "cell_type": "code",
   "execution_count": 10,
   "id": "43bcfdb4-c47b-4545-b197-ca4573461ab5",
   "metadata": {},
   "outputs": [],
   "source": [
    "# https://dask-geopandas.readthedocs.io/en/stable/docs/reference/api/dask_geopandas.GeoDataFrame.sjoin.html\n",
    "# dask_sjoin = tmobile.sjoin(d4, how='inner', predicate='intersects')"
   ]
  },
  {
   "cell_type": "code",
   "execution_count": 11,
   "id": "beb9dd15-dd0c-4b7e-8df9-fadb802ca514",
   "metadata": {},
   "outputs": [],
   "source": [
    "# https://dask-geopandas.readthedocs.io/en/stable/docs/reference/api/dask_geopandas.GeoDataFrame.sjoin.html\n",
    "# dask_sjoin2 = tmobile.sjoin(d7, how='inner', predicate='intersects')"
   ]
  },
  {
   "cell_type": "code",
   "execution_count": 12,
   "id": "c5fa3840-4a07-49d1-aa10-5077a22e112d",
   "metadata": {},
   "outputs": [],
   "source": [
    "# Multi concat\n",
    "# dask_concat =  dd.multi.concat([dask_sjoin, dask_sjoin2], axis=0)"
   ]
  },
  {
   "cell_type": "code",
   "execution_count": 13,
   "id": "2648bf10-e42f-4198-b385-ea40421a949f",
   "metadata": {},
   "outputs": [],
   "source": [
    "# Turn into normal df\n",
    "# dask_concat_gdf = dask_concat.compute()"
   ]
  },
  {
   "cell_type": "code",
   "execution_count": 14,
   "id": "c26a5e9f-232f-49b0-8e48-1baa18d4f3ec",
   "metadata": {},
   "outputs": [],
   "source": [
    "# dask_concat_gdf_dissolved = dask_concat_gdf.dissolve().drop(columns = ['district'])"
   ]
  },
  {
   "cell_type": "code",
   "execution_count": 15,
   "id": "feeb37a4-e637-4180-bf06-457ffb13c2f5",
   "metadata": {},
   "outputs": [],
   "source": [
    "# https://dask-geopandas.readthedocs.io/en/stable/docs/reference/api/dask_geopandas.GeoDataFrame.dissolve.html\n",
    "# dask_concat_dissolve = dask_concat.dissolve(\"district\")"
   ]
  },
  {
   "cell_type": "code",
   "execution_count": 16,
   "id": "a828f85f-6289-4ed5-92a6-714c7522b1e7",
   "metadata": {},
   "outputs": [],
   "source": [
    "# Find length of a dask df\n",
    "# https://stackoverflow.com/questions/50569171/how-do-i-find-the-length-of-a-dataframe-in-dask\n",
    "# print(len(dask_concat_dissolve.index))"
   ]
  },
  {
   "cell_type": "markdown",
   "id": "32ada375-73c6-42a5-8d3b-122967cbdcf5",
   "metadata": {},
   "source": [
    "##### HELP T-Mobile: find Districts w/o Coverage - Blocked\n",
    "* T-Mobile giving me trouble: after filtering df for only one district I try to `find difference and clip` and `overlay` won't work - it keeps running forever.\n",
    "    * `test1 = find_difference_and_clip(tmobile_d1_dg_gdf, ct_d1)` and `test2` are  the lines I'm having tgrouble with\n",
    "* Dissolving just district 1 for T-Mobile vs not doesn't matter, neither works."
   ]
  },
  {
   "cell_type": "code",
   "execution_count": 17,
   "id": "077a0b1b-e4dc-409d-a1a6-0740e5879a25",
   "metadata": {},
   "outputs": [],
   "source": [
    "# Read in T Mobile coverage parquet\n",
    "# The original provider map\n",
    "tmobile_d1d4_dd = dg.read_parquet(\n",
    "    \"gs://calitp-analytics-data/data-analyses/cellular_coverage/tmobile_d1_d4.parquet\"\n",
    ")[['geometry','district']]"
   ]
  },
  {
   "cell_type": "code",
   "execution_count": 18,
   "id": "0f989959-a944-48f1-9aae-a7976e5042a2",
   "metadata": {},
   "outputs": [
    {
     "data": {
      "text/plain": [
       "dask_geopandas.core.GeoDataFrame"
      ]
     },
     "execution_count": 18,
     "metadata": {},
     "output_type": "execute_result"
    }
   ],
   "source": [
    "type(tmobile_d1d4_dd)"
   ]
  },
  {
   "cell_type": "code",
   "execution_count": 19,
   "id": "36c4ca26-25f5-4474-b7d5-4121c7fa3d8a",
   "metadata": {},
   "outputs": [],
   "source": [
    "# Turn dask to gdf to check out it's info\n",
    "tmobile_d1d4_dd_gdf = tmobile_d1d4_dd.compute()"
   ]
  },
  {
   "cell_type": "code",
   "execution_count": 20,
   "id": "581d5619-c323-4392-803e-9d24e9fc611f",
   "metadata": {},
   "outputs": [
    {
     "data": {
      "text/plain": [
       "(2    29134\n",
       " 1    16144\n",
       " 3    15353\n",
       " 4     9409\n",
       " Name: district, dtype: int64,\n",
       " 70040)"
      ]
     },
     "execution_count": 20,
     "metadata": {},
     "output_type": "execute_result"
    }
   ],
   "source": [
    "# Check out how many rows & length \n",
    "tmobile_d1d4_dd_gdf.district.value_counts(), len(tmobile_d1d4_dd_gdf)"
   ]
  },
  {
   "cell_type": "code",
   "execution_count": 21,
   "id": "b87d451a-d1e8-4cc0-a8e3-f78a2e7b065e",
   "metadata": {},
   "outputs": [],
   "source": [
    "# Filter for only district 1 \n",
    "ct_d1 = ct_all_districts[ct_all_districts[\"district\"].isin([1])].reset_index()"
   ]
  },
  {
   "cell_type": "code",
   "execution_count": 22,
   "id": "9304666f-b2a8-465c-8a6f-aee31b922d14",
   "metadata": {},
   "outputs": [],
   "source": [
    "ct_d1 = ct_d1.dissolve('district').reset_index(drop = True)"
   ]
  },
  {
   "cell_type": "code",
   "execution_count": 23,
   "id": "0e5ef312-1d68-46c3-8f97-29ee7d9f59c3",
   "metadata": {},
   "outputs": [
    {
     "data": {
      "text/plain": [
       "geopandas.geodataframe.GeoDataFrame"
      ]
     },
     "execution_count": 23,
     "metadata": {},
     "output_type": "execute_result"
    }
   ],
   "source": [
    "type(ct_d1)"
   ]
  },
  {
   "cell_type": "code",
   "execution_count": 24,
   "id": "d667ecfb-9e6a-4c2b-a1aa-293781682e44",
   "metadata": {},
   "outputs": [
    {
     "data": {
      "text/plain": [
       "<AxesSubplot:>"
      ]
     },
     "execution_count": 24,
     "metadata": {},
     "output_type": "execute_result"
    },
    {
     "data": {
      "image/png": "[encoded data removed]",
      "text/plain": [
       "<Figure size 640x480 with 1 Axes>"
      ]
     },
     "metadata": {},
     "output_type": "display_data"
    }
   ],
   "source": [
    "ct_d1.plot()"
   ]
  },
  {
   "cell_type": "code",
   "execution_count": 25,
   "id": "3365d709-ed13-4513-8064-44d3746995c6",
   "metadata": {},
   "outputs": [],
   "source": [
    "# Filter dask gdf for only d1 to test \n",
    "tmobile_d1_dg = tmobile_d1d4_dd[tmobile_d1d4_dd.district == 1].reset_index(drop = True)"
   ]
  },
  {
   "cell_type": "code",
   "execution_count": 26,
   "id": "beaac5e6-b00e-4b5c-a1e4-3f4f6d3764b8",
   "metadata": {},
   "outputs": [
    {
     "data": {
      "text/plain": [
       "dask_geopandas.core.GeoDataFrame"
      ]
     },
     "execution_count": 26,
     "metadata": {},
     "output_type": "execute_result"
    }
   ],
   "source": [
    "type(tmobile_d1_dg)"
   ]
  },
  {
   "cell_type": "code",
   "execution_count": 27,
   "id": "ec145cb7-8a76-4226-bb34-7e09cac945c8",
   "metadata": {},
   "outputs": [],
   "source": [
    "# Turn district 1 dask gdf to gdf just to test that it maps correctly\n",
    "tmobile_d1_dg_gdf = tmobile_d1_dg.compute()"
   ]
  },
  {
   "cell_type": "code",
   "execution_count": 28,
   "id": "408d31c1-a1db-4bd9-a511-974709f6d641",
   "metadata": {},
   "outputs": [
    {
     "data": {
      "text/plain": [
       "<AxesSubplot:>"
      ]
     },
     "execution_count": 28,
     "metadata": {},
     "output_type": "execute_result"
    },
    {
     "data": {
      "image/png": "[encoded data removed]",
      "text/plain": [
       "<Figure size 640x480 with 1 Axes>"
      ]
     },
     "metadata": {},
     "output_type": "display_data"
    }
   ],
   "source": [
    "tmobile_d1_dg_gdf.plot()"
   ]
  },
  {
   "cell_type": "code",
   "execution_count": 29,
   "id": "081ce559-f8b6-4e95-8a85-2fbb55b1f215",
   "metadata": {},
   "outputs": [],
   "source": [
    "tmobile_d1_dissolved = tmobile_d1_dg.dissolve('district')"
   ]
  },
  {
   "cell_type": "code",
   "execution_count": 30,
   "id": "82615b4b-d870-4e6d-b91b-c75d2e09d10c",
   "metadata": {},
   "outputs": [],
   "source": [
    "# Same function as find difference and clip in the utilities\n",
    "# However added print statements to see what step I'm on\n",
    "def find_difference_and_clip(\n",
    "    gdf: dg.GeoDataFrame, boundary: gpd.GeoDataFrame\n",
    ") -> gpd.GeoDataFrame:\n",
    "    # Clip cell provider to some boundary\n",
    "    clipped = dg.clip(gdf, boundary).reset_index(drop=True)  # use dask to clip\n",
    "    print('done clipping')\n",
    "    \n",
    "    clipped_gdf = clipped.compute()  # compute converts from dask gdf to gdf\n",
    "    print('done computing')\n",
    "    # Now find the overlay, and find the difference\n",
    "    # Notice which df is on the left and which is on the right\n",
    "    # https://geopandas.org/en/stable/docs/user_guide/set_operations.html\n",
    "    no_coverage = gpd.overlay(boundary, clipped_gdf, how=\"difference\",  keep_geom_type=False)\n",
    "    print('done overlay')\n",
    "    return no_coverage"
   ]
  },
  {
   "cell_type": "code",
   "execution_count": 31,
   "id": "183dca64-5d0e-4344-8b20-66441b4ed0bc",
   "metadata": {},
   "outputs": [
    {
     "name": "stdout",
     "output_type": "stream",
     "text": [
      "done clipping\n",
      "done computing\n"
     ]
    },
    {
     "ename": "KeyboardInterrupt",
     "evalue": "",
     "output_type": "error",
     "traceback": [
      "\u001b[0;31m---------------------------------------------------------------------------\u001b[0m",
      "\u001b[0;31mKeyboardInterrupt\u001b[0m                         Traceback (most recent call last)",
      "Cell \u001b[0;32mIn[31], line 1\u001b[0m\n\u001b[0;32m----> 1\u001b[0m test1 \u001b[38;5;241m=\u001b[39m \u001b[43mfind_difference_and_clip\u001b[49m\u001b[43m(\u001b[49m\u001b[43mtmobile_d1_dg\u001b[49m\u001b[43m,\u001b[49m\u001b[43m \u001b[49m\u001b[43mct_d1\u001b[49m\u001b[43m)\u001b[49m\n",
      "Cell \u001b[0;32mIn[30], line 15\u001b[0m, in \u001b[0;36mfind_difference_and_clip\u001b[0;34m(gdf, boundary)\u001b[0m\n\u001b[1;32m     11\u001b[0m \u001b[38;5;28mprint\u001b[39m(\u001b[38;5;124m'\u001b[39m\u001b[38;5;124mdone computing\u001b[39m\u001b[38;5;124m'\u001b[39m)\n\u001b[1;32m     12\u001b[0m \u001b[38;5;66;03m# Now find the overlay, and find the difference\u001b[39;00m\n\u001b[1;32m     13\u001b[0m \u001b[38;5;66;03m# Notice which df is on the left and which is on the right\u001b[39;00m\n\u001b[1;32m     14\u001b[0m \u001b[38;5;66;03m# https://geopandas.org/en/stable/docs/user_guide/set_operations.html\u001b[39;00m\n\u001b[0;32m---> 15\u001b[0m no_coverage \u001b[38;5;241m=\u001b[39m \u001b[43mgpd\u001b[49m\u001b[38;5;241;43m.\u001b[39;49m\u001b[43moverlay\u001b[49m\u001b[43m(\u001b[49m\u001b[43mboundary\u001b[49m\u001b[43m,\u001b[49m\u001b[43m \u001b[49m\u001b[43mclipped_gdf\u001b[49m\u001b[43m,\u001b[49m\u001b[43m \u001b[49m\u001b[43mhow\u001b[49m\u001b[38;5;241;43m=\u001b[39;49m\u001b[38;5;124;43m\"\u001b[39;49m\u001b[38;5;124;43mdifference\u001b[39;49m\u001b[38;5;124;43m\"\u001b[39;49m\u001b[43m,\u001b[49m\u001b[43m  \u001b[49m\u001b[43mkeep_geom_type\u001b[49m\u001b[38;5;241;43m=\u001b[39;49m\u001b[38;5;28;43;01mFalse\u001b[39;49;00m\u001b[43m)\u001b[49m\n\u001b[1;32m     16\u001b[0m \u001b[38;5;28mprint\u001b[39m(\u001b[38;5;124m'\u001b[39m\u001b[38;5;124mdone overlay\u001b[39m\u001b[38;5;124m'\u001b[39m)\n\u001b[1;32m     17\u001b[0m \u001b[38;5;28;01mreturn\u001b[39;00m no_coverage\n",
      "File \u001b[0;32m/opt/conda/lib/python3.9/site-packages/geopandas/tools/overlay.py:315\u001b[0m, in \u001b[0;36moverlay\u001b[0;34m(df1, df2, how, keep_geom_type, make_valid)\u001b[0m\n\u001b[1;32m    313\u001b[0m warnings\u001b[38;5;241m.\u001b[39mfilterwarnings(\u001b[38;5;124m\"\u001b[39m\u001b[38;5;124mignore\u001b[39m\u001b[38;5;124m\"\u001b[39m, message\u001b[38;5;241m=\u001b[39m\u001b[38;5;124m\"\u001b[39m\u001b[38;5;124mCRS mismatch between the CRS\u001b[39m\u001b[38;5;124m\"\u001b[39m)\n\u001b[1;32m    314\u001b[0m \u001b[38;5;28;01mif\u001b[39;00m how \u001b[38;5;241m==\u001b[39m \u001b[38;5;124m\"\u001b[39m\u001b[38;5;124mdifference\u001b[39m\u001b[38;5;124m\"\u001b[39m:\n\u001b[0;32m--> 315\u001b[0m     result \u001b[38;5;241m=\u001b[39m \u001b[43m_overlay_difference\u001b[49m\u001b[43m(\u001b[49m\u001b[43mdf1\u001b[49m\u001b[43m,\u001b[49m\u001b[43m \u001b[49m\u001b[43mdf2\u001b[49m\u001b[43m)\u001b[49m\n\u001b[1;32m    316\u001b[0m \u001b[38;5;28;01melif\u001b[39;00m how \u001b[38;5;241m==\u001b[39m \u001b[38;5;124m\"\u001b[39m\u001b[38;5;124mintersection\u001b[39m\u001b[38;5;124m\"\u001b[39m:\n\u001b[1;32m    317\u001b[0m     result \u001b[38;5;241m=\u001b[39m _overlay_intersection(df1, df2)\n",
      "File \u001b[0;32m/opt/conda/lib/python3.9/site-packages/geopandas/tools/overlay.py:90\u001b[0m, in \u001b[0;36m_overlay_difference\u001b[0;34m(df1, df2)\u001b[0m\n\u001b[1;32m     88\u001b[0m new_g \u001b[38;5;241m=\u001b[39m []\n\u001b[1;32m     89\u001b[0m \u001b[38;5;28;01mfor\u001b[39;00m geom, neighbours \u001b[38;5;129;01min\u001b[39;00m \u001b[38;5;28mzip\u001b[39m(df1\u001b[38;5;241m.\u001b[39mgeometry, sidx):\n\u001b[0;32m---> 90\u001b[0m     new \u001b[38;5;241m=\u001b[39m \u001b[43mreduce\u001b[49m\u001b[43m(\u001b[49m\n\u001b[1;32m     91\u001b[0m \u001b[43m        \u001b[49m\u001b[38;5;28;43;01mlambda\u001b[39;49;00m\u001b[43m \u001b[49m\u001b[43mx\u001b[49m\u001b[43m,\u001b[49m\u001b[43m \u001b[49m\u001b[43my\u001b[49m\u001b[43m:\u001b[49m\u001b[43m \u001b[49m\u001b[43mx\u001b[49m\u001b[38;5;241;43m.\u001b[39;49m\u001b[43mdifference\u001b[49m\u001b[43m(\u001b[49m\u001b[43my\u001b[49m\u001b[43m)\u001b[49m\u001b[43m,\u001b[49m\u001b[43m \u001b[49m\u001b[43m[\u001b[49m\u001b[43mgeom\u001b[49m\u001b[43m]\u001b[49m\u001b[43m \u001b[49m\u001b[38;5;241;43m+\u001b[39;49m\u001b[43m \u001b[49m\u001b[38;5;28;43mlist\u001b[39;49m\u001b[43m(\u001b[49m\u001b[43mdf2\u001b[49m\u001b[38;5;241;43m.\u001b[39;49m\u001b[43mgeometry\u001b[49m\u001b[38;5;241;43m.\u001b[39;49m\u001b[43miloc\u001b[49m\u001b[43m[\u001b[49m\u001b[43mneighbours\u001b[49m\u001b[43m]\u001b[49m\u001b[43m)\u001b[49m\n\u001b[1;32m     92\u001b[0m \u001b[43m    \u001b[49m\u001b[43m)\u001b[49m\n\u001b[1;32m     93\u001b[0m     new_g\u001b[38;5;241m.\u001b[39mappend(new)\n\u001b[1;32m     94\u001b[0m differences \u001b[38;5;241m=\u001b[39m GeoSeries(new_g, index\u001b[38;5;241m=\u001b[39mdf1\u001b[38;5;241m.\u001b[39mindex, crs\u001b[38;5;241m=\u001b[39mdf1\u001b[38;5;241m.\u001b[39mcrs)\n",
      "File \u001b[0;32m/opt/conda/lib/python3.9/site-packages/geopandas/tools/overlay.py:91\u001b[0m, in \u001b[0;36m_overlay_difference.<locals>.<lambda>\u001b[0;34m(x, y)\u001b[0m\n\u001b[1;32m     88\u001b[0m new_g \u001b[38;5;241m=\u001b[39m []\n\u001b[1;32m     89\u001b[0m \u001b[38;5;28;01mfor\u001b[39;00m geom, neighbours \u001b[38;5;129;01min\u001b[39;00m \u001b[38;5;28mzip\u001b[39m(df1\u001b[38;5;241m.\u001b[39mgeometry, sidx):\n\u001b[1;32m     90\u001b[0m     new \u001b[38;5;241m=\u001b[39m reduce(\n\u001b[0;32m---> 91\u001b[0m         \u001b[38;5;28;01mlambda\u001b[39;00m x, y: \u001b[43mx\u001b[49m\u001b[38;5;241;43m.\u001b[39;49m\u001b[43mdifference\u001b[49m\u001b[43m(\u001b[49m\u001b[43my\u001b[49m\u001b[43m)\u001b[49m, [geom] \u001b[38;5;241m+\u001b[39m \u001b[38;5;28mlist\u001b[39m(df2\u001b[38;5;241m.\u001b[39mgeometry\u001b[38;5;241m.\u001b[39miloc[neighbours])\n\u001b[1;32m     92\u001b[0m     )\n\u001b[1;32m     93\u001b[0m     new_g\u001b[38;5;241m.\u001b[39mappend(new)\n\u001b[1;32m     94\u001b[0m differences \u001b[38;5;241m=\u001b[39m GeoSeries(new_g, index\u001b[38;5;241m=\u001b[39mdf1\u001b[38;5;241m.\u001b[39mindex, crs\u001b[38;5;241m=\u001b[39mdf1\u001b[38;5;241m.\u001b[39mcrs)\n",
      "File \u001b[0;32m/opt/conda/lib/python3.9/site-packages/shapely/geometry/base.py:691\u001b[0m, in \u001b[0;36mBaseGeometry.difference\u001b[0;34m(self, other)\u001b[0m\n\u001b[1;32m    689\u001b[0m \u001b[38;5;28;01mdef\u001b[39;00m \u001b[38;5;21mdifference\u001b[39m(\u001b[38;5;28mself\u001b[39m, other):\n\u001b[1;32m    690\u001b[0m     \u001b[38;5;124;03m\"\"\"Returns the difference of the geometries\"\"\"\u001b[39;00m\n\u001b[0;32m--> 691\u001b[0m     \u001b[38;5;28;01mreturn\u001b[39;00m geom_factory(\u001b[38;5;28;43mself\u001b[39;49m\u001b[38;5;241;43m.\u001b[39;49m\u001b[43mimpl\u001b[49m\u001b[43m[\u001b[49m\u001b[38;5;124;43m'\u001b[39;49m\u001b[38;5;124;43mdifference\u001b[39;49m\u001b[38;5;124;43m'\u001b[39;49m\u001b[43m]\u001b[49m\u001b[43m(\u001b[49m\u001b[38;5;28;43mself\u001b[39;49m\u001b[43m,\u001b[49m\u001b[43m \u001b[49m\u001b[43mother\u001b[49m\u001b[43m)\u001b[49m)\n",
      "File \u001b[0;32m/opt/conda/lib/python3.9/site-packages/shapely/topology.py:69\u001b[0m, in \u001b[0;36mBinaryTopologicalOp.__call__\u001b[0;34m(self, this, other, *args)\u001b[0m\n\u001b[1;32m     67\u001b[0m \u001b[38;5;28mself\u001b[39m\u001b[38;5;241m.\u001b[39m_validate(this)\n\u001b[1;32m     68\u001b[0m \u001b[38;5;28mself\u001b[39m\u001b[38;5;241m.\u001b[39m_validate(other, stop_prepared\u001b[38;5;241m=\u001b[39m\u001b[38;5;28;01mTrue\u001b[39;00m)\n\u001b[0;32m---> 69\u001b[0m product \u001b[38;5;241m=\u001b[39m \u001b[38;5;28;43mself\u001b[39;49m\u001b[38;5;241;43m.\u001b[39;49m\u001b[43mfn\u001b[49m\u001b[43m(\u001b[49m\u001b[43mthis\u001b[49m\u001b[38;5;241;43m.\u001b[39;49m\u001b[43m_geom\u001b[49m\u001b[43m,\u001b[49m\u001b[43m \u001b[49m\u001b[43mother\u001b[49m\u001b[38;5;241;43m.\u001b[39;49m\u001b[43m_geom\u001b[49m\u001b[43m,\u001b[49m\u001b[43m \u001b[49m\u001b[38;5;241;43m*\u001b[39;49m\u001b[43margs\u001b[49m\u001b[43m)\u001b[49m\n\u001b[1;32m     70\u001b[0m \u001b[38;5;28;01mif\u001b[39;00m product \u001b[38;5;129;01mis\u001b[39;00m \u001b[38;5;28;01mNone\u001b[39;00m:\n\u001b[1;32m     71\u001b[0m     err \u001b[38;5;241m=\u001b[39m TopologicalError(\n\u001b[1;32m     72\u001b[0m             \u001b[38;5;124m\"\u001b[39m\u001b[38;5;124mThis operation could not be performed. Reason: unknown\u001b[39m\u001b[38;5;124m\"\u001b[39m)\n",
      "\u001b[0;31mKeyboardInterrupt\u001b[0m: "
     ]
    }
   ],
   "source": [
    "test1 = find_difference_and_clip(tmobile_d1_dg, ct_d1)"
   ]
  },
  {
   "cell_type": "code",
   "execution_count": null,
   "id": "c087c283-6514-4e1c-9d0b-afb19d5eba52",
   "metadata": {},
   "outputs": [],
   "source": [
    "test2 = find_difference_and_clip(tmobile_d1_dissolved, ct_d1)"
   ]
  },
  {
   "cell_type": "markdown",
   "id": "f6fff571-5f4f-42a9-aeb6-19a28bde84b3",
   "metadata": {},
   "source": [
    "##### Function - once it works...hopefully"
   ]
  },
  {
   "cell_type": "code",
   "execution_count": null,
   "id": "b6a28c4f-4f11-461f-b258-66469d9c6d26",
   "metadata": {},
   "outputs": [],
   "source": [
    "def breakout_districts(\n",
    "    provider: dg.GeoDataFrame,\n",
    "    districts_wanted: list,\n",
    "    gcs_file_path: str,\n",
    "    file_name: str,\n",
    "):\n",
    "    # Read in original CT map\n",
    "    ct_all_districts = to_snakecase(\n",
    "        gpd.read_file(f\"{utilities.caltrans_shape}\").to_crs(epsg=4326)\n",
    "    )[[\"district\", \"geometry\"]]\n",
    "    \n",
    "    # Empty dataframe to hold each district after clipping\n",
    "    full_gdf = pd.DataFrame()\n",
    "    \n",
    "    # Find difference and clip \n",
    "    for i in districts_wanted:\n",
    "        \n",
    "        provider = provider[provider.district == i].reset_index(drop = True)\n",
    "        boundary = ct_all_districts[ct_all_districts.district == i].reset_index(drop=True)\n",
    "\n",
    "        clipped = utilities.find_difference_and_clip(provider, boundary)\n",
    "        print(\"Done finding difference for {i}\")\n",
    "        \n",
    "        full_gdf = dd.multi.concat([full_gdf, clipped], axis=0)\n",
    "        print(f\"Done concating for {i}\")\n",
    "\n",
    "    # Turn this into a GDF\n",
    "    full_gdf = full_gdf.compute()\n",
    "    \n",
    "    # Save to GCS\n",
    "    utils.geoparquet_gcs_export(county_gdf_clipped, gcs_file_path, file_name)\n",
    "    print(\"saved to GCS\")\n",
    "    \n",
    "    return county_gdf_clipped"
   ]
  },
  {
   "cell_type": "code",
   "execution_count": null,
   "id": "5c88e62a-714b-4b83-bb1b-3fd99b7a4a21",
   "metadata": {},
   "outputs": [],
   "source": [
    "# test = breakout_districts(tmobile_d1d4_dd, [1], utilities.GCS_FILE_PATH, \"tmobile_no_coverage_d1\")"
   ]
  },
  {
   "cell_type": "markdown",
   "id": "6ef7650f-9446-404d-a493-d67ffbfae453",
   "metadata": {
    "tags": []
   },
   "source": [
    "### Stack all separated out areas using dask into 1 gdf\n",
    "* All the provider maps after `find difference and clip` are split into different files.\n",
    "* Piece them back together to create an gdf with the entirety of California.\n",
    "* Applied this function to create AT&T and Verizon map."
   ]
  },
  {
   "cell_type": "code",
   "execution_count": null,
   "id": "d77ab583-3840-4a9c-9fe0-9e3a6fffdadb",
   "metadata": {},
   "outputs": [],
   "source": [
    "# California is separated out into different gdfs that contain\n",
    "# portions of districts/counties. Concat them all together\n",
    "# to get the entirety of California again.\n",
    "def concat_all_areas(all_gdf: list, gcs_file_path: str, file_name: str):\n",
    "\n",
    "    # Empty dataframe\n",
    "    full_gdf = pd.DataFrame()\n",
    "\n",
    "    # Concat all the districts that were broken out into one\n",
    "    full_gdf = dd.multi.concat(all_gdf, axis=0)\n",
    "\n",
    "    # Turn it into a gdf\n",
    "    full_gdf = full_gdf.compute()\n",
    "\n",
    "    # Export\n",
    "    utils.geoparquet_gcs_export(full_gdf, gcs_file_path, file_name)\n",
    "\n",
    "    print(\"Saved to GCS\")\n",
    "    return full_gdf"
   ]
  },
  {
   "cell_type": "code",
   "execution_count": null,
   "id": "3ae01067-155b-4440-8f81-678fbb07ca0a",
   "metadata": {},
   "outputs": [],
   "source": [
    "# tmobile_all_CA = concat_all_areas(tmobile, utilities.GCS_FILE_PATH, \"tmobile_overlap_with_CA\")"
   ]
  },
  {
   "cell_type": "code",
   "execution_count": null,
   "id": "24539f15-6d82-4c64-b0fd-de51e9fe7537",
   "metadata": {},
   "outputs": [],
   "source": [
    "#verizon_wo_kern = gpd.read_parquet(\n",
    "  # \"gs://calitp-analytics-data/data-analyses/cellular_coverage/verizon_all_counties_except_Kern.parquet\"\n",
    "#)"
   ]
  },
  {
   "cell_type": "code",
   "execution_count": null,
   "id": "1cd306b8-b069-4f66-aba9-d20c5d090985",
   "metadata": {},
   "outputs": [],
   "source": [
    "# verizon_wo_kern.plot()"
   ]
  },
  {
   "cell_type": "code",
   "execution_count": null,
   "id": "c2c387cb-2832-4c52-a67f-fb361b51f758",
   "metadata": {},
   "outputs": [],
   "source": [
    "#verizon_all = gpd.read_parquet(\n",
    "    #\"gs://calitp-analytics-data/data-analyses/cellular_coverage/verizon_all_counties.parquet\"\n",
    "#)"
   ]
  },
  {
   "cell_type": "code",
   "execution_count": null,
   "id": "d69d2393-7941-4af5-ae5c-5defeca9658f",
   "metadata": {},
   "outputs": [],
   "source": [
    "# verizon_all.plot()"
   ]
  }
 ],
 "metadata": {
  "kernelspec": {
   "display_name": "Python 3 (ipykernel)",
   "language": "python",
   "name": "python3"
  },
  "language_info": {
   "codemirror_mode": {
    "name": "ipython",
    "version": 3
   },
   "file_extension": ".py",
   "mimetype": "text/x-python",
   "name": "python",
   "nbconvert_exporter": "python",
   "pygments_lexer": "ipython3",
   "version": "3.9.13"
  }
 },
 "nbformat": 4,
 "nbformat_minor": 5
}
