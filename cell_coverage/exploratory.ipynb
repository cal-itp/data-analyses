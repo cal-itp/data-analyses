{
 "cells": [
  {
   "cell_type": "markdown",
   "id": "45a4417c-94bb-44a6-8b81-18e1bc089855",
   "metadata": {},
   "source": [
    "# Exploring Cell Coverage of Routes\n",
    "* To do later: move data sources to a catalog\n",
    "* An agency here is defined: as a service and an operator..."
   ]
  },
  {
   "cell_type": "code",
   "execution_count": 216,
   "id": "c7090e49-e905-4a6d-be28-87ac39196793",
   "metadata": {},
   "outputs": [],
   "source": [
    "# Read in zip files\n",
    "import fsspec\n",
    "\n",
    "# Other\n",
    "import geopandas as gpd\n",
    "import numpy as np\n",
    "import pandas as pd\n",
    "import shared_utils\n",
    "from calitp import *\n",
    "\n",
    "# Display\n",
    "from IPython.display import HTML, Image, Markdown, display, display_html\n",
    "\n",
    "# Geometry\n",
    "from shared_utils import geography_utils\n",
    "\n",
    "os.environ[\"CALITP_BQ_MAX_BYTES\"] = str(800_000_000_000)"
   ]
  },
  {
   "cell_type": "code",
   "execution_count": 72,
   "id": "b393271a-9e5f-4772-b28e-25ae7414c54b",
   "metadata": {},
   "outputs": [],
   "source": [
    "pd.options.display.max_columns = 100\n",
    "pd.options.display.float_format = \"{:.2f}\".format\n",
    "pd.set_option(\"display.max_rows\", None)\n",
    "pd.set_option(\"display.max_colwidth\", None)"
   ]
  },
  {
   "cell_type": "code",
   "execution_count": 73,
   "id": "140cf451-4eba-4a2f-b7d9-dee7ce3e0a43",
   "metadata": {},
   "outputs": [],
   "source": [
    "GCS_FILE_PATH = \"gs://calitp-analytics-data/data-analyses/cellular_coverage/\""
   ]
  },
  {
   "cell_type": "markdown",
   "id": "59e9b3a0-d867-4eaa-8471-d6cdc1c69aff",
   "metadata": {},
   "source": [
    "## California County Borders"
   ]
  },
  {
   "cell_type": "code",
   "execution_count": 74,
   "id": "4bab8736-8279-4e0f-b629-5ac4b19b1b18",
   "metadata": {},
   "outputs": [],
   "source": [
    "ca_gdf = gpd.read_file(\n",
    "    \"https://opendata.arcgis.com/datasets/8713ced9b78a4abb97dc130a691a8695_0.geojson\"\n",
    ")"
   ]
  },
  {
   "cell_type": "markdown",
   "id": "86d3af28-c18c-49e0-9c58-7c7317906fbd",
   "metadata": {
    "tags": []
   },
   "source": [
    "## Trip Routes "
   ]
  },
  {
   "cell_type": "code",
   "execution_count": 116,
   "id": "e5d9d4e8-28ff-4f38-ab0f-8fc434af7d48",
   "metadata": {},
   "outputs": [],
   "source": [
    "routes_df = gpd.read_parquet(\n",
    "    \"gs://calitp-analytics-data/data-analyses/traffic_ops/ca_transit_routes.parquet\"\n",
    ")"
   ]
  },
  {
   "cell_type": "code",
   "execution_count": 117,
   "id": "e2c0c601-1243-4537-85fa-24793e326726",
   "metadata": {},
   "outputs": [
    {
     "data": {
      "text/plain": [
       "3    7397\n",
       "2     183\n",
       "0     119\n",
       "4      57\n",
       "5      31\n",
       "1       4\n",
       "Name: route_type, dtype: int64"
      ]
     },
     "execution_count": 117,
     "metadata": {},
     "output_type": "execute_result"
    }
   ],
   "source": [
    "routes_df[\"route_type\"].value_counts()"
   ]
  },
  {
   "cell_type": "code",
   "execution_count": 118,
   "id": "a284bec7-335c-4445-8478-f6618464ce50",
   "metadata": {},
   "outputs": [],
   "source": [
    "routes_subset = routes_df[[\"route_type\", \"route_name\", \"agency\"]]"
   ]
  },
  {
   "cell_type": "code",
   "execution_count": 119,
   "id": "c136d800-66ff-4cec-b122-3e9068a2c733",
   "metadata": {},
   "outputs": [],
   "source": [
    "cols_without_geometry = [\n",
    "    \"agency\",\n",
    "    \"route_name\",\n",
    "    \"itp_id\",\n",
    "    \"route_id\",\n",
    "    \"shape_id\",\n",
    "    \"route_type\",\n",
    "]"
   ]
  },
  {
   "cell_type": "code",
   "execution_count": 120,
   "id": "ad911e02-18e6-42eb-a965-8ac7d6afabc5",
   "metadata": {
    "scrolled": true,
    "tags": []
   },
   "outputs": [],
   "source": [
    "# Drop Amtrak\n",
    "routes_df2 = routes_df.loc[routes_df[\"agency\"] != \"Amtrak\"]"
   ]
  },
  {
   "cell_type": "code",
   "execution_count": 121,
   "id": "162e08fa-076b-4f25-8e7e-54c9db36de76",
   "metadata": {},
   "outputs": [],
   "source": [
    "# Filter for only bus routes\n",
    "routes_df2 = routes_df.loc[routes_df[\"route_type\"] == \"3\"]"
   ]
  },
  {
   "cell_type": "code",
   "execution_count": 122,
   "id": "05060eb8-cbd9-45a0-ae1c-e8fe124e5749",
   "metadata": {},
   "outputs": [],
   "source": [
    "# Drop Bay Area Ferry Service - ferry only\n",
    "# routes_df2 = routes_df2.loc[routes_df2[\"agency\"] != \"San Francisco Bay Ferry\"]"
   ]
  },
  {
   "cell_type": "code",
   "execution_count": 124,
   "id": "ce6a08e3-f8d6-4534-8d36-a65e14b2a71e",
   "metadata": {},
   "outputs": [
    {
     "data": {
      "text/plain": [
       "'7397 rows left after dropping - compared to 7791 rows before.'"
      ]
     },
     "execution_count": 124,
     "metadata": {},
     "output_type": "execute_result"
    }
   ],
   "source": [
    "f\"{len(routes_df2)} rows left after dropping - compared to {len(routes_df)} rows before.\""
   ]
  },
  {
   "cell_type": "code",
   "execution_count": 125,
   "id": "0c6e0c41-69be-4b22-b55d-942fc4f7c8f6",
   "metadata": {},
   "outputs": [
    {
     "name": "stderr",
     "output_type": "stream",
     "text": [
      "/opt/conda/lib/python3.10/site-packages/geopandas/geodataframe.py:1472: SettingWithCopyWarning: \n",
      "A value is trying to be set on a copy of a slice from a DataFrame.\n",
      "Try using .loc[row_indexer,col_indexer] = value instead\n",
      "\n",
      "See the caveats in the documentation: https://pandas.pydata.org/pandas-docs/stable/user_guide/indexing.html#returning-a-view-versus-a-copy\n"
     ]
    }
   ],
   "source": [
    "# Fill in NA for route names and agency names\n",
    "routes_df2[[\"agency\", \"route_name\"]] = routes_df2[[\"agency\", \"route_name\"]].fillna(\n",
    "    \"None\"\n",
    ")"
   ]
  },
  {
   "cell_type": "code",
   "execution_count": 126,
   "id": "c826fba3-5d84-4390-9287-14d1a5e40540",
   "metadata": {},
   "outputs": [],
   "source": [
    "# Keep only one instance of a unique ITP ID - Route ID - Route Type combination\n",
    "routes_df3 = routes_df2.drop_duplicates(subset=[\"itp_id\", \"route_id\", \"route_type\"])"
   ]
  },
  {
   "cell_type": "code",
   "execution_count": 127,
   "id": "3166c1a6-a2d2-431f-928a-f49fe72457a1",
   "metadata": {},
   "outputs": [],
   "source": [
    "# Keep only one instance of a unique ITP ID - route_name combo\n",
    "routes_df3 = routes_df3.drop_duplicates(subset=[\"itp_id\", \"route_name\"])"
   ]
  },
  {
   "cell_type": "code",
   "execution_count": 128,
   "id": "4f053b59-f363-4a18-9241-cfc679367235",
   "metadata": {},
   "outputs": [],
   "source": [
    "# Reset index after dropping\n",
    "routes_df3 = routes_df3.reset_index()"
   ]
  },
  {
   "cell_type": "code",
   "execution_count": 129,
   "id": "b85108e8-655e-4a79-a156-9417c23dbcf6",
   "metadata": {},
   "outputs": [
    {
     "data": {
      "text/plain": [
       "'1657 unique route ids, 1857 different route names, and 5764 different shape ids.'"
      ]
     },
     "execution_count": 129,
     "metadata": {},
     "output_type": "execute_result"
    }
   ],
   "source": [
    "f\"{routes_df2.route_id.nunique()} unique route ids, {routes_df2.route_name.nunique()} different route names, and {routes_df2.shape_id.nunique()} different shape ids.\""
   ]
  },
  {
   "cell_type": "code",
   "execution_count": 130,
   "id": "1b19e60e-64ba-449a-a6cb-09c3d1464c63",
   "metadata": {},
   "outputs": [
    {
     "data": {
      "text/plain": [
       "(2223, 8)"
      ]
     },
     "execution_count": 130,
     "metadata": {},
     "output_type": "execute_result"
    }
   ],
   "source": [
    "routes_df3.shape"
   ]
  },
  {
   "cell_type": "markdown",
   "id": "a53ce7d4-69e5-4d59-a198-33d742a67dcd",
   "metadata": {},
   "source": [
    "## FCC AT&T Data Map \n",
    "* Testing with AT&T first."
   ]
  },
  {
   "cell_type": "markdown",
   "id": "5b1a6c49-e971-496c-93ed-bd625210f8ea",
   "metadata": {},
   "source": [
    "### Clip AT&T map to only include California Counties"
   ]
  },
  {
   "cell_type": "code",
   "execution_count": 131,
   "id": "c8f0c1f9-c972-46fc-9a13-299c2a065955",
   "metadata": {},
   "outputs": [
    {
     "data": {
      "text/plain": [
       "'\\n# Open zip file first\\nPATH = f\"{GCS_FILE_PATH}ATT_Mobility_LTE_Data.zip\"\\nwith fsspec.open(PATH) as file:\\n    fcc_gdf = gpd.read_file(file)\\n    \\n# Check that they are the same CRS\\nfcc_gdf.crs == ca_gdf.crs\\n\\n# Clip \\nfcc_ca_gdf = gpd.clip(fcc_gdf, ca_gdf)\\n\\n# Save this into a parquet so don\\'t have to clip all the time\\nutils.geoparquet_gcs_export(fcc_ca_gdf, GCS_FILE_PATH, \\'AT_T_Data_California_Only\\')\\n'"
      ]
     },
     "execution_count": 131,
     "metadata": {},
     "output_type": "execute_result"
    }
   ],
   "source": [
    "\"\"\"\n",
    "# Open zip file first\n",
    "PATH = f\"{GCS_FILE_PATH}ATT_Mobility_LTE_Data.zip\"\n",
    "with fsspec.open(PATH) as file:\n",
    "    fcc_gdf = gpd.read_file(file)\n",
    "    \n",
    "# Check that they are the same CRS\n",
    "fcc_gdf.crs == ca_gdf.crs\n",
    "\n",
    "# Clip \n",
    "fcc_ca_gdf = gpd.clip(fcc_gdf, ca_gdf)\n",
    "\n",
    "# Save this into a parquet so don't have to clip all the time\n",
    "utils.geoparquet_gcs_export(fcc_ca_gdf, GCS_FILE_PATH, 'AT_T_Data_California_Only')\n",
    "\"\"\""
   ]
  },
  {
   "cell_type": "code",
   "execution_count": 132,
   "id": "a63b5add-90ef-452b-9ac1-9193cdc633eb",
   "metadata": {},
   "outputs": [],
   "source": [
    "# Open\n",
    "fcc_ca_gdf = gpd.read_parquet(\n",
    "    \"gs://calitp-analytics-data/data-analyses/cellular_coverage/AT_T_Data_California_Only.parquet\"\n",
    ")"
   ]
  },
  {
   "cell_type": "code",
   "execution_count": 133,
   "id": "aa4c6d4a-e412-44cf-bb15-bce0677f57eb",
   "metadata": {},
   "outputs": [],
   "source": [
    "# fcc_ca_gdf.plot(figsize = (30,12))"
   ]
  },
  {
   "cell_type": "markdown",
   "id": "4665adab-5b3e-4d95-b7fe-b2461829f513",
   "metadata": {},
   "source": [
    "## Overlay \n",
    "* I want to obtain routes that are NOT contained in the AT & T coverage map.\n",
    "* https://geopandas.org/en/stable/docs/user_guide/set_operations.html"
   ]
  },
  {
   "cell_type": "code",
   "execution_count": 134,
   "id": "d19338f0-6309-43bb-8065-0eaf5a746f03",
   "metadata": {},
   "outputs": [
    {
     "data": {
      "text/plain": [
       "True"
      ]
     },
     "execution_count": 134,
     "metadata": {},
     "output_type": "execute_result"
    }
   ],
   "source": [
    "# Check that they are the same CRS\n",
    "fcc_ca_gdf.crs == routes_df3.crs"
   ]
  },
  {
   "cell_type": "code",
   "execution_count": 135,
   "id": "3fa47368-3243-45dc-9118-813ce5615a21",
   "metadata": {},
   "outputs": [],
   "source": [
    "# Reproject\n",
    "fcc_ca_gdf = fcc_ca_gdf.to_crs(\"epsg:3395\")\n",
    "routes_df3 = routes_df3.to_crs(\"epsg:3395\")"
   ]
  },
  {
   "cell_type": "code",
   "execution_count": 136,
   "id": "011e319f-61b1-4e5a-a09e-de1643403ab9",
   "metadata": {},
   "outputs": [],
   "source": [
    "overlay_df = routes_df3.overlay(fcc_ca_gdf, how=\"difference\")"
   ]
  },
  {
   "cell_type": "code",
   "execution_count": 137,
   "id": "3e355b79-a656-46dc-9bab-2f19f6451a09",
   "metadata": {},
   "outputs": [
    {
     "data": {
      "text/plain": [
       "(395, 8)"
      ]
     },
     "execution_count": 137,
     "metadata": {},
     "output_type": "execute_result"
    }
   ],
   "source": [
    "overlay_df.shape"
   ]
  },
  {
   "cell_type": "code",
   "execution_count": 138,
   "id": "93535bde-9b6a-4719-8e9c-76dc9b7d29b1",
   "metadata": {},
   "outputs": [
    {
     "data": {
      "text/plain": [
       "<AxesSubplot:>"
      ]
     },
     "execution_count": 138,
     "metadata": {},
     "output_type": "execute_result"
    },
    {
     "data": {
      "image/png": "[encoded data removed]",
      "text/plain": [
       "<Figure size 1200x600 with 1 Axes>"
      ]
     },
     "metadata": {},
     "output_type": "display_data"
    }
   ],
   "source": [
    "# Change to overlay later\n",
    "(overlay_df.plot(figsize=(12, 6), markersize=30))"
   ]
  },
  {
   "cell_type": "code",
   "execution_count": 139,
   "id": "f01462fd-8676-489d-889b-05386a7a4109",
   "metadata": {
    "tags": []
   },
   "outputs": [
    {
     "data": {
      "text/markdown": [
       "There are 284 routes (run by 94 different agencies) \n",
       "        w/o overlap to the AT&T coverage map. In comparison, there are 1657 total routes in the original dataframe."
      ],
      "text/plain": [
       "<IPython.core.display.Markdown object>"
      ]
     },
     "metadata": {},
     "output_type": "display_data"
    }
   ],
   "source": [
    "display(\n",
    "    Markdown(\n",
    "        f\"\"\"There are {overlay_df['route_id'].nunique()} routes (run by {overlay_df['agency'].nunique()} different agencies) \n",
    "        w/o overlap to the AT&T coverage map. In comparison, there are {routes_df2.route_id.nunique()} total routes in the original dataframe.\"\"\"\n",
    "    )\n",
    ")"
   ]
  },
  {
   "cell_type": "code",
   "execution_count": 140,
   "id": "d012ce6c-7489-48be-a503-cec7c6dc22f5",
   "metadata": {
    "scrolled": true,
    "tags": []
   },
   "outputs": [],
   "source": [
    "# Previewing the routes left\n",
    "# overlay_df[cols_without_geometry].sort_values('route_name')"
   ]
  },
  {
   "cell_type": "code",
   "execution_count": 141,
   "id": "10e69b3b-26dc-4399-a497-7b244797ae14",
   "metadata": {
    "tags": []
   },
   "outputs": [
    {
     "data": {
      "text/html": [
       "<div>\n",
       "<style scoped>\n",
       "    .dataframe tbody tr th:only-of-type {\n",
       "        vertical-align: middle;\n",
       "    }\n",
       "\n",
       "    .dataframe tbody tr th {\n",
       "        vertical-align: top;\n",
       "    }\n",
       "\n",
       "    .dataframe thead th {\n",
       "        text-align: right;\n",
       "    }\n",
       "</style>\n",
       "<table border=\"1\" class=\"dataframe\">\n",
       "  <thead>\n",
       "    <tr style=\"text-align: right;\">\n",
       "      <th></th>\n",
       "      <th>total_routes</th>\n",
       "    </tr>\n",
       "    <tr>\n",
       "      <th>agency</th>\n",
       "      <th></th>\n",
       "    </tr>\n",
       "  </thead>\n",
       "  <tbody>\n",
       "    <tr>\n",
       "      <th>AC Transit</th>\n",
       "      <td>34</td>\n",
       "    </tr>\n",
       "    <tr>\n",
       "      <th>Metro</th>\n",
       "      <td>30</td>\n",
       "    </tr>\n",
       "    <tr>\n",
       "      <th>Marin Transit</th>\n",
       "      <td>18</td>\n",
       "    </tr>\n",
       "    <tr>\n",
       "      <th>Los Angeles Department of Transportation</th>\n",
       "      <td>13</td>\n",
       "    </tr>\n",
       "    <tr>\n",
       "      <th>San Diego Metropolitan Transit System</th>\n",
       "      <td>10</td>\n",
       "    </tr>\n",
       "    <tr>\n",
       "      <th>Tahoe Transportation</th>\n",
       "      <td>9</td>\n",
       "    </tr>\n",
       "    <tr>\n",
       "      <th>North County Transit District</th>\n",
       "      <td>9</td>\n",
       "    </tr>\n",
       "    <tr>\n",
       "      <th>Golden Gate Bridge Highway and Transportation District</th>\n",
       "      <td>9</td>\n",
       "    </tr>\n",
       "    <tr>\n",
       "      <th>Yuma County Area Transit</th>\n",
       "      <td>9</td>\n",
       "    </tr>\n",
       "    <tr>\n",
       "      <th>Tahoe Truckee Area Regional Transportation</th>\n",
       "      <td>8</td>\n",
       "    </tr>\n",
       "  </tbody>\n",
       "</table>\n",
       "</div>"
      ],
      "text/plain": [
       "                                                        total_routes\n",
       "agency                                                              \n",
       "AC Transit                                                        34\n",
       "Metro                                                             30\n",
       "Marin Transit                                                     18\n",
       "Los Angeles Department of Transportation                          13\n",
       "San Diego Metropolitan Transit System                             10\n",
       "Tahoe Transportation                                               9\n",
       "North County Transit District                                      9\n",
       "Golden Gate Bridge Highway and Transportation District             9\n",
       "Yuma County Area Transit                                           9\n",
       "Tahoe Truckee Area Regional Transportation                         8"
      ]
     },
     "execution_count": 141,
     "metadata": {},
     "output_type": "execute_result"
    }
   ],
   "source": [
    "# Agencies with the most routes without coverage.\n",
    "(\n",
    "    overlay_df.groupby([\"agency\"])\n",
    "    .agg({\"route_id\": \"nunique\"})\n",
    "    .rename(columns={\"route_id\": \"total_routes\"})\n",
    "    .sort_values(\"total_routes\", ascending=False)\n",
    "    .head(10)\n",
    ")"
   ]
  },
  {
   "cell_type": "code",
   "execution_count": 142,
   "id": "2c66611f-ea31-4e8a-9f75-a12c1b55b89d",
   "metadata": {
    "scrolled": true,
    "tags": []
   },
   "outputs": [],
   "source": [
    "# Surprised by AC Transit\n",
    "# overlay_df.loc[overlay_df['agency']=='AC Transit']"
   ]
  },
  {
   "cell_type": "code",
   "execution_count": 143,
   "id": "6846f0be-f040-4ed8-9611-4cefff8c0e6f",
   "metadata": {},
   "outputs": [],
   "source": [
    "# List for unique itp_ids\n",
    "agencies_no_coverage = overlay_df[\"itp_id\"].unique().tolist()"
   ]
  },
  {
   "cell_type": "code",
   "execution_count": 144,
   "id": "c9428dd5-50c8-4259-9fb1-29dd471db633",
   "metadata": {},
   "outputs": [],
   "source": [
    "# List for unique route ids\n",
    "routes_no_coverage = overlay_df[\"route_id\"].unique().tolist()"
   ]
  },
  {
   "cell_type": "code",
   "execution_count": 145,
   "id": "ab651855-952f-460d-b846-c4e86380499f",
   "metadata": {},
   "outputs": [],
   "source": [
    "# List for unique route ids\n",
    "routes_no_coverage_name = overlay_df[\"route_name\"].unique().tolist()"
   ]
  },
  {
   "cell_type": "code",
   "execution_count": 146,
   "id": "29056f58-b61c-4e6a-9cfe-28fe4b7ad75a",
   "metadata": {
    "scrolled": true,
    "tags": []
   },
   "outputs": [],
   "source": [
    "# A table with all the itp id & agencies\n",
    "agency_df = overlay_df[[\"agency\", \"itp_id\"]].drop_duplicates().reset_index()"
   ]
  },
  {
   "cell_type": "code",
   "execution_count": 147,
   "id": "b2bfe84a-190e-4f20-9b85-81f424e1a540",
   "metadata": {},
   "outputs": [],
   "source": [
    "# Subset of overlap without geometry\n",
    "overlay_df_no_geo = overlay_df[\n",
    "    [\"itp_id\", \"route_id\", \"shape_id\", \"route_type\", \"route_name\", \"agency\"]\n",
    "]"
   ]
  },
  {
   "cell_type": "code",
   "execution_count": 175,
   "id": "1e48b3a7-3bb4-4f4e-a776-d1e2633e5afc",
   "metadata": {},
   "outputs": [
    {
     "data": {
      "text/html": [
       "<div>\n",
       "<style scoped>\n",
       "    .dataframe tbody tr th:only-of-type {\n",
       "        vertical-align: middle;\n",
       "    }\n",
       "\n",
       "    .dataframe tbody tr th {\n",
       "        vertical-align: top;\n",
       "    }\n",
       "\n",
       "    .dataframe thead th {\n",
       "        text-align: right;\n",
       "    }\n",
       "</style>\n",
       "<table border=\"1\" class=\"dataframe\">\n",
       "  <thead>\n",
       "    <tr style=\"text-align: right;\">\n",
       "      <th></th>\n",
       "      <th>index</th>\n",
       "      <th>itp_id</th>\n",
       "      <th>route_id</th>\n",
       "      <th>shape_id</th>\n",
       "      <th>route_type</th>\n",
       "      <th>geometry</th>\n",
       "      <th>route_name</th>\n",
       "      <th>agency</th>\n",
       "    </tr>\n",
       "  </thead>\n",
       "  <tbody>\n",
       "    <tr>\n",
       "      <th>0</th>\n",
       "      <td>9</td>\n",
       "      <td>4</td>\n",
       "      <td>19</td>\n",
       "      <td>shp-19-64</td>\n",
       "      <td>3</td>\n",
       "      <td>MULTILINESTRING ((-13606584.699 4520702.360, -13606584.699 4520702.360, -13606598.169 4520681.045, -13606610.637 4520661.132, -13606624.218 4520639.816, -13606637.687 4520618.501, -13606642.474 4520611.069), (-13611657.279 4523618.700, -13611649.291 4523636.752, -13611639.049 4523659.898, -13611628.808 4523682.903, -13611618.678 4523706.048, -13611608.437 4523729.053, -13611598.195 4523752.198, -13611588.065 4523775.344, -13611577.824 4523798.349, -13611567.582 4523821.495, -13611557.452 4523844.640, -13611547.211 4523867.646, -13611536.969 4523890.792, -13611526.505 4523913.797, -13611516.041 4523936.662, -13611505.577 4523959.668, -13611495.002 4523982.674, -13611484.538 4524005.539, -13611475.632 4524025.178, -13611475.632 4524025.178))</td>\n",
       "      <td>Buena Vista - Fruitvale</td>\n",
       "      <td>AC Transit</td>\n",
       "    </tr>\n",
       "    <tr>\n",
       "      <th>1</th>\n",
       "      <td>15</td>\n",
       "      <td>4</td>\n",
       "      <td>20</td>\n",
       "      <td>shp-20-03</td>\n",
       "      <td>3</td>\n",
       "      <td>LINESTRING (-13607283.118 4521084.084, -13607283.118 4521084.084, -13607296.810 4521062.908, -13607309.166 4521043.836, -13607323.638 4521023.080, -13607333.434 4521009.056)</td>\n",
       "      <td>Dimond - Fruitvale - South Shore</td>\n",
       "      <td>AC Transit</td>\n",
       "    </tr>\n",
       "  </tbody>\n",
       "</table>\n",
       "</div>"
      ],
      "text/plain": [
       "   index  itp_id route_id   shape_id route_type  \\\n",
       "0      9       4       19  shp-19-64          3   \n",
       "1     15       4       20  shp-20-03          3   \n",
       "\n",
       "                                                                                                                                                                                                                                                                                                                                                                                                                                                                                                                                                                                                                                                                                                                                                                        geometry  \\\n",
       "0  MULTILINESTRING ((-13606584.699 4520702.360, -13606584.699 4520702.360, -13606598.169 4520681.045, -13606610.637 4520661.132, -13606624.218 4520639.816, -13606637.687 4520618.501, -13606642.474 4520611.069), (-13611657.279 4523618.700, -13611649.291 4523636.752, -13611639.049 4523659.898, -13611628.808 4523682.903, -13611618.678 4523706.048, -13611608.437 4523729.053, -13611598.195 4523752.198, -13611588.065 4523775.344, -13611577.824 4523798.349, -13611567.582 4523821.495, -13611557.452 4523844.640, -13611547.211 4523867.646, -13611536.969 4523890.792, -13611526.505 4523913.797, -13611516.041 4523936.662, -13611505.577 4523959.668, -13611495.002 4523982.674, -13611484.538 4524005.539, -13611475.632 4524025.178, -13611475.632 4524025.178))   \n",
       "1                                                                                                                                                                                                                                                                                                                                                                                                                                                                                                                                                                                                  LINESTRING (-13607283.118 4521084.084, -13607283.118 4521084.084, -13607296.810 4521062.908, -13607309.166 4521043.836, -13607323.638 4521023.080, -13607333.434 4521009.056)   \n",
       "\n",
       "                         route_name      agency  \n",
       "0           Buena Vista - Fruitvale  AC Transit  \n",
       "1  Dimond - Fruitvale - South Shore  AC Transit  "
      ]
     },
     "execution_count": 175,
     "metadata": {},
     "output_type": "execute_result"
    }
   ],
   "source": [
    "overlay_df.head(2)"
   ]
  },
  {
   "cell_type": "markdown",
   "id": "791ef31f-d5f2-4fb9-9b8c-c17608665a8a",
   "metadata": {},
   "source": [
    "## Trips\n",
    "* How many trips are running for a route?"
   ]
  },
  {
   "cell_type": "code",
   "execution_count": 195,
   "id": "a59d46ca-2f8a-450d-8594-29d1719597a9",
   "metadata": {},
   "outputs": [],
   "source": [
    "trips_df = pd.read_parquet(\n",
    "    \"gs://calitp-analytics-data/data-analyses/rt_delay/compiled_cached_views/trips_2022-05-04_all.parquet\"\n",
    ")"
   ]
  },
  {
   "cell_type": "code",
   "execution_count": 196,
   "id": "a226aed5-ed0b-448b-a57b-ef8e3229bc55",
   "metadata": {},
   "outputs": [
    {
     "data": {
      "text/plain": [
       "(104934, 14)"
      ]
     },
     "execution_count": 196,
     "metadata": {},
     "output_type": "execute_result"
    }
   ],
   "source": [
    "trips_df.shape"
   ]
  },
  {
   "cell_type": "code",
   "execution_count": 197,
   "id": "59d2ab30-f737-4a22-8e99-eb673a383048",
   "metadata": {},
   "outputs": [
    {
     "data": {
      "text/html": [
       "<div>\n",
       "<style scoped>\n",
       "    .dataframe tbody tr th:only-of-type {\n",
       "        vertical-align: middle;\n",
       "    }\n",
       "\n",
       "    .dataframe tbody tr th {\n",
       "        vertical-align: top;\n",
       "    }\n",
       "\n",
       "    .dataframe thead th {\n",
       "        text-align: right;\n",
       "    }\n",
       "</style>\n",
       "<table border=\"1\" class=\"dataframe\">\n",
       "  <thead>\n",
       "    <tr style=\"text-align: right;\">\n",
       "      <th></th>\n",
       "      <th>calitp_itp_id</th>\n",
       "      <th>calitp_url_number</th>\n",
       "      <th>service_date</th>\n",
       "      <th>trip_key</th>\n",
       "      <th>trip_id</th>\n",
       "      <th>route_id</th>\n",
       "      <th>direction_id</th>\n",
       "      <th>shape_id</th>\n",
       "      <th>calitp_extracted_at</th>\n",
       "      <th>calitp_deleted_at</th>\n",
       "      <th>route_short_name</th>\n",
       "      <th>route_long_name</th>\n",
       "      <th>route_desc</th>\n",
       "      <th>route_type</th>\n",
       "    </tr>\n",
       "  </thead>\n",
       "  <tbody>\n",
       "    <tr>\n",
       "      <th>0</th>\n",
       "      <td>4</td>\n",
       "      <td>0</td>\n",
       "      <td>2022-05-04</td>\n",
       "      <td>1582047897989018365</td>\n",
       "      <td>272020</td>\n",
       "      <td>21</td>\n",
       "      <td>1</td>\n",
       "      <td>shp-21-23</td>\n",
       "      <td>2022-03-26</td>\n",
       "      <td>2099-01-01</td>\n",
       "      <td>21</td>\n",
       "      <td>Dimond - Fruitvale - Bay Farm</td>\n",
       "      <td>None</td>\n",
       "      <td>3</td>\n",
       "    </tr>\n",
       "  </tbody>\n",
       "</table>\n",
       "</div>"
      ],
      "text/plain": [
       "   calitp_itp_id  calitp_url_number service_date             trip_key trip_id  \\\n",
       "0              4                  0   2022-05-04  1582047897989018365  272020   \n",
       "\n",
       "  route_id direction_id   shape_id calitp_extracted_at calitp_deleted_at  \\\n",
       "0       21            1  shp-21-23          2022-03-26        2099-01-01   \n",
       "\n",
       "  route_short_name                route_long_name route_desc route_type  \n",
       "0               21  Dimond - Fruitvale - Bay Farm       None          3  "
      ]
     },
     "execution_count": 197,
     "metadata": {},
     "output_type": "execute_result"
    }
   ],
   "source": [
    "trips_df.head(1)"
   ]
  },
  {
   "cell_type": "code",
   "execution_count": 198,
   "id": "f46f123b-90bd-4fd5-98e9-08233839967d",
   "metadata": {},
   "outputs": [],
   "source": [
    "# Add agency name\n",
    "trips_df = pd.merge(\n",
    "    trips_df, agency_df, how=\"inner\", left_on=\"calitp_itp_id\", right_on=\"itp_id\"\n",
    ")"
   ]
  },
  {
   "cell_type": "code",
   "execution_count": 199,
   "id": "423612c3-b105-40de-bd9f-b0c264bdc8e4",
   "metadata": {},
   "outputs": [],
   "source": [
    "# Try to standardize route id\n",
    "overlay_df[\"route_id\"] = overlay_df[\"route_id\"].str.lower().str.strip()\n",
    "trips_df[\"route_id\"] = trips_df[\"route_id\"].str.lower().str.strip()"
   ]
  },
  {
   "cell_type": "code",
   "execution_count": 200,
   "id": "cab08b0b-820c-488e-be4c-a42880326e0f",
   "metadata": {},
   "outputs": [],
   "source": [
    "# Filter out for route IDS\n",
    "trips_df2 = trips_df[trips_df[\"route_id\"].isin(routes_no_coverage)]"
   ]
  },
  {
   "cell_type": "code",
   "execution_count": 201,
   "id": "ba5ce20f-6676-4134-bea9-36de3298e43d",
   "metadata": {},
   "outputs": [
    {
     "data": {
      "text/plain": [
       "'188 routes left after filtering trips_df compared to 284 routes in overlay.'"
      ]
     },
     "execution_count": 201,
     "metadata": {},
     "output_type": "execute_result"
    }
   ],
   "source": [
    "# So many route ids disappeared\n",
    "f'{trips_df2[\"route_id\"].nunique()} routes left after filtering trips_df compared to {len(routes_no_coverage)} routes in overlay.'"
   ]
  },
  {
   "cell_type": "code",
   "execution_count": 202,
   "id": "4bfb9324-4e03-4cca-9e42-abfbcb89b29e",
   "metadata": {
    "scrolled": true,
    "tags": []
   },
   "outputs": [],
   "source": [
    "# Checking which ones are missing.\n",
    "id_routes = set(routes_no_coverage)\n",
    "id_trips = set(trips_df2.route_id.unique().tolist())"
   ]
  },
  {
   "cell_type": "code",
   "execution_count": 203,
   "id": "0c22943b-9e3e-4115-b94f-e10ff8f6e97c",
   "metadata": {
    "scrolled": true,
    "tags": []
   },
   "outputs": [],
   "source": [
    "missing_routes = list(id_routes - id_trips)"
   ]
  },
  {
   "cell_type": "code",
   "execution_count": 204,
   "id": "7842374a-3253-48b3-8c55-231dfdac112b",
   "metadata": {},
   "outputs": [
    {
     "data": {
      "text/plain": [
       "'0.3380281690140845% of routes missing'"
      ]
     },
     "execution_count": 204,
     "metadata": {},
     "output_type": "execute_result"
    }
   ],
   "source": [
    "f\"{len(missing_routes)/len(routes_no_coverage)}% of routes missing\""
   ]
  },
  {
   "cell_type": "code",
   "execution_count": 205,
   "id": "4de2d3b2-157d-45fe-9f1f-0616838cede8",
   "metadata": {
    "scrolled": true,
    "tags": []
   },
   "outputs": [],
   "source": [
    "# overlay_df_no_geo[overlay_df_no_geo[\"route_id\"].isin(missing_routes)]"
   ]
  },
  {
   "cell_type": "code",
   "execution_count": 206,
   "id": "2dc5c963-abbb-4111-9212-e62d65461e48",
   "metadata": {},
   "outputs": [],
   "source": [
    "trips_ran = (\n",
    "    trips_df2.groupby([\"calitp_itp_id\", \"route_long_name\", \"agency\"])\n",
    "    .agg({\"trip_id\": \"count\"})\n",
    "    .reset_index()\n",
    "    .rename(columns={\"trip_id\": \"total_trips\"})\n",
    ")"
   ]
  },
  {
   "cell_type": "code",
   "execution_count": 209,
   "id": "9eccbbaa-c548-4bd4-9a24-803bc1d83afb",
   "metadata": {
    "tags": []
   },
   "outputs": [
    {
     "data": {
      "text/plain": [
       "(551, 4)"
      ]
     },
     "execution_count": 209,
     "metadata": {},
     "output_type": "execute_result"
    }
   ],
   "source": [
    "trips_ran.shape"
   ]
  },
  {
   "cell_type": "code",
   "execution_count": 249,
   "id": "5019bd1a-cacd-4363-b7f9-34bb34ca5602",
   "metadata": {},
   "outputs": [
    {
     "data": {
      "text/html": [
       "<div>\n",
       "<style scoped>\n",
       "    .dataframe tbody tr th:only-of-type {\n",
       "        vertical-align: middle;\n",
       "    }\n",
       "\n",
       "    .dataframe tbody tr th {\n",
       "        vertical-align: top;\n",
       "    }\n",
       "\n",
       "    .dataframe thead th {\n",
       "        text-align: right;\n",
       "    }\n",
       "</style>\n",
       "<table border=\"1\" class=\"dataframe\">\n",
       "  <thead>\n",
       "    <tr style=\"text-align: right;\">\n",
       "      <th></th>\n",
       "      <th>calitp_itp_id</th>\n",
       "      <th>route_long_name</th>\n",
       "      <th>agency</th>\n",
       "      <th>total_trips</th>\n",
       "    </tr>\n",
       "  </thead>\n",
       "  <tbody>\n",
       "    <tr>\n",
       "      <th>0</th>\n",
       "      <td>4</td>\n",
       "      <td>14th St - San Antonio - High St</td>\n",
       "      <td>AC Transit</td>\n",
       "      <td>124</td>\n",
       "    </tr>\n",
       "    <tr>\n",
       "      <th>1</th>\n",
       "      <td>4</td>\n",
       "      <td>Alameda Pt. - 14th Ave. - Dimond</td>\n",
       "      <td>AC Transit</td>\n",
       "      <td>66</td>\n",
       "    </tr>\n",
       "    <tr>\n",
       "      <th>2</th>\n",
       "      <td>4</td>\n",
       "      <td>Alvarado - Castro Valley - B St.</td>\n",
       "      <td>AC Transit</td>\n",
       "      <td>34</td>\n",
       "    </tr>\n",
       "  </tbody>\n",
       "</table>\n",
       "</div>"
      ],
      "text/plain": [
       "   calitp_itp_id                   route_long_name      agency  total_trips\n",
       "0              4   14th St - San Antonio - High St  AC Transit          124\n",
       "1              4  Alameda Pt. - 14th Ave. - Dimond  AC Transit           66\n",
       "2              4  Alvarado - Castro Valley - B St.  AC Transit           34"
      ]
     },
     "execution_count": 249,
     "metadata": {},
     "output_type": "execute_result"
    }
   ],
   "source": [
    "trips_ran.head(3)"
   ]
  },
  {
   "cell_type": "code",
   "execution_count": 246,
   "id": "87a562b8-211d-4fa8-9709-e4522345200f",
   "metadata": {},
   "outputs": [
    {
     "data": {
      "text/plain": [
       "76"
      ]
     },
     "execution_count": 246,
     "metadata": {},
     "output_type": "execute_result"
    }
   ],
   "source": [
    "trips_ran['agency'].nunique()"
   ]
  },
  {
   "cell_type": "markdown",
   "id": "58d32bd3-77af-42cb-8642-70ffaf122bad",
   "metadata": {},
   "source": [
    "## NTD "
   ]
  },
  {
   "cell_type": "code",
   "execution_count": 207,
   "id": "2e9461fa-2c0f-48b7-99f2-8fdf79e80a2c",
   "metadata": {},
   "outputs": [
    {
     "ename": "NameError",
     "evalue": "name 'stops_df2' is not defined",
     "output_type": "error",
     "traceback": [
      "\u001b[0;31m---------------------------------------------------------------------------\u001b[0m",
      "\u001b[0;31mNameError\u001b[0m                                 Traceback (most recent call last)",
      "Input \u001b[0;32mIn [207]\u001b[0m, in \u001b[0;36m<cell line: 1>\u001b[0;34m()\u001b[0m\n\u001b[0;32m----> 1\u001b[0m \u001b[38;5;124mf\u001b[39m\u001b[38;5;124m\"\u001b[39m\u001b[38;5;132;01m{\u001b[39;00mstops_df2\u001b[38;5;241m.\u001b[39mroute_id\u001b[38;5;241m.\u001b[39mnunique()\u001b[38;5;132;01m}\u001b[39;00m\u001b[38;5;124m route ids in trip stops dataframe compared to \u001b[39m\u001b[38;5;132;01m{\u001b[39;00moverlay_df\u001b[38;5;241m.\u001b[39mroute_id\u001b[38;5;241m.\u001b[39mnunique()\u001b[38;5;132;01m}\u001b[39;00m\u001b[38;5;124m route ids in the routes dataframe above...strange.\u001b[39m\u001b[38;5;124m\"\u001b[39m\n",
      "\u001b[0;31mNameError\u001b[0m: name 'stops_df2' is not defined"
     ]
    }
   ],
   "source": [
    "f\"{stops_df2.route_id.nunique()} route ids in trip stops dataframe compared to {overlay_df.route_id.nunique()} route ids in the routes dataframe above...strange.\""
   ]
  },
  {
   "cell_type": "code",
   "execution_count": null,
   "id": "2f350460-abbd-429e-9a1d-d0823a95d6a3",
   "metadata": {},
   "outputs": [],
   "source": [
    "# What the missing route ids?\n",
    "routes_df_id = set(route_id_without_cell)\n",
    "\n",
    "# Use original trip_stops df to find ids...do they even exist there?\n",
    "trips_df_id = set(stops_df.route_id.unique().tolist())\n",
    "routes_df_id - trips_df_id"
   ]
  },
  {
   "cell_type": "code",
   "execution_count": null,
   "id": "a8f84676-e43b-4810-bb2d-6c7c0f0b53cc",
   "metadata": {
    "scrolled": true,
    "tags": []
   },
   "outputs": [],
   "source": [
    "subset_stops = stops_df2[[\"agency\", \"stop_id\", \"stop_name\", \"route_name\"]]"
   ]
  },
  {
   "cell_type": "code",
   "execution_count": null,
   "id": "1f16aed4-1896-400d-9d9a-a512d60514e2",
   "metadata": {
    "scrolled": true,
    "tags": []
   },
   "outputs": [],
   "source": [
    "total_stops_df = stops_df2.groupby(\n",
    "    [\n",
    "        \"agency\",\n",
    "        \"route_name\",\n",
    "    ]\n",
    ").agg({\"stop_name\": \"count\"})"
   ]
  },
  {
   "cell_type": "code",
   "execution_count": null,
   "id": "b1c10e7a-6c75-4d07-8126-1393d723e25e",
   "metadata": {},
   "outputs": [],
   "source": [
    "len(total_stops_df)"
   ]
  },
  {
   "cell_type": "code",
   "execution_count": 220,
   "id": "e38c791f-d293-4533-aa50-1cb6c55a70b4",
   "metadata": {},
   "outputs": [],
   "source": [
    "ntd_df = pd.read_excel(\n",
    "    f\"gs://calitp-analytics-data/data-analyses/5311 /2020-Vehicles_1.xlsm\",\n",
    "    sheet_name=\"Vehicle Type Count by Agency\",\n",
    ")"
   ]
  },
  {
   "cell_type": "code",
   "execution_count": 232,
   "id": "75b8cecf-d074-416f-b10c-ffc86b417b74",
   "metadata": {},
   "outputs": [],
   "source": [
    "# ntd_df.columns"
   ]
  },
  {
   "cell_type": "code",
   "execution_count": 233,
   "id": "332d20dc-7fa6-416b-9471-297b0918e0f2",
   "metadata": {},
   "outputs": [],
   "source": [
    "# Only get bus related columns\n",
    "columns_wanted = [\n",
    "    \"Agency\",\n",
    "    \"City\",\n",
    "    \"State\",\n",
    "    \"Bus\",\n",
    "    'Over-The-Road Bus',\n",
    "    \"Articulated Bus\",\n",
    "    \"Double Decker Bus\",\n",
    "    \"School Bus\",\n",
    "]"
   ]
  },
  {
   "cell_type": "code",
   "execution_count": 234,
   "id": "d3c0b982-2163-46ac-94aa-db4d9b065c83",
   "metadata": {
    "scrolled": true,
    "tags": []
   },
   "outputs": [],
   "source": [
    "ntd_df2 = to_snakecase(ntd_df[columns_wanted])"
   ]
  },
  {
   "cell_type": "code",
   "execution_count": 238,
   "id": "b1c00981-ca14-4e0c-9803-4f4b9713bd88",
   "metadata": {
    "scrolled": true,
    "tags": []
   },
   "outputs": [],
   "source": [
    "ntd_df2['total_buses'] = ntd_df2.sum(numeric_only = True, axis =1)"
   ]
  },
  {
   "cell_type": "code",
   "execution_count": 240,
   "id": "4fb54e53-0f86-460c-bb1b-06d5438871e7",
   "metadata": {},
   "outputs": [
    {
     "data": {
      "text/html": [
       "<div>\n",
       "<style scoped>\n",
       "    .dataframe tbody tr th:only-of-type {\n",
       "        vertical-align: middle;\n",
       "    }\n",
       "\n",
       "    .dataframe tbody tr th {\n",
       "        vertical-align: top;\n",
       "    }\n",
       "\n",
       "    .dataframe thead th {\n",
       "        text-align: right;\n",
       "    }\n",
       "</style>\n",
       "<table border=\"1\" class=\"dataframe\">\n",
       "  <thead>\n",
       "    <tr style=\"text-align: right;\">\n",
       "      <th></th>\n",
       "      <th>agency</th>\n",
       "      <th>city</th>\n",
       "      <th>state</th>\n",
       "      <th>bus</th>\n",
       "      <th>over_the_road_bus</th>\n",
       "      <th>articulated_bus</th>\n",
       "      <th>double_decker_bus</th>\n",
       "      <th>school_bus</th>\n",
       "      <th>total_buses</th>\n",
       "    </tr>\n",
       "  </thead>\n",
       "  <tbody>\n",
       "    <tr>\n",
       "      <th>628</th>\n",
       "      <td>Columbus Consolidated Government, dba: Metra Transit System</td>\n",
       "      <td>Columbus</td>\n",
       "      <td>GA</td>\n",
       "      <td>29</td>\n",
       "      <td>0</td>\n",
       "      <td>0</td>\n",
       "      <td>0</td>\n",
       "      <td>0</td>\n",
       "      <td>29</td>\n",
       "    </tr>\n",
       "    <tr>\n",
       "      <th>1973</th>\n",
       "      <td>City of South Pasadena</td>\n",
       "      <td>South Pasadena</td>\n",
       "      <td>CA</td>\n",
       "      <td>0</td>\n",
       "      <td>0</td>\n",
       "      <td>0</td>\n",
       "      <td>0</td>\n",
       "      <td>0</td>\n",
       "      <td>0</td>\n",
       "    </tr>\n",
       "    <tr>\n",
       "      <th>270</th>\n",
       "      <td>City of Modesto, dba: Modesto Area Express</td>\n",
       "      <td>Modesto</td>\n",
       "      <td>CA</td>\n",
       "      <td>57</td>\n",
       "      <td>4</td>\n",
       "      <td>0</td>\n",
       "      <td>0</td>\n",
       "      <td>0</td>\n",
       "      <td>61</td>\n",
       "    </tr>\n",
       "    <tr>\n",
       "      <th>1762</th>\n",
       "      <td>Thurston Regional Planning Council</td>\n",
       "      <td>Olympia</td>\n",
       "      <td>WA</td>\n",
       "      <td>0</td>\n",
       "      <td>0</td>\n",
       "      <td>0</td>\n",
       "      <td>0</td>\n",
       "      <td>0</td>\n",
       "      <td>0</td>\n",
       "    </tr>\n",
       "    <tr>\n",
       "      <th>1751</th>\n",
       "      <td>COTA</td>\n",
       "      <td>Saipan</td>\n",
       "      <td>MP</td>\n",
       "      <td>0</td>\n",
       "      <td>0</td>\n",
       "      <td>0</td>\n",
       "      <td>0</td>\n",
       "      <td>0</td>\n",
       "      <td>0</td>\n",
       "    </tr>\n",
       "  </tbody>\n",
       "</table>\n",
       "</div>"
      ],
      "text/plain": [
       "                                                           agency  \\\n",
       "628   Columbus Consolidated Government, dba: Metra Transit System   \n",
       "1973                                       City of South Pasadena   \n",
       "270                    City of Modesto, dba: Modesto Area Express   \n",
       "1762                           Thurston Regional Planning Council   \n",
       "1751                                                         COTA   \n",
       "\n",
       "                city state  bus  over_the_road_bus  articulated_bus  \\\n",
       "628         Columbus    GA   29                  0                0   \n",
       "1973  South Pasadena    CA    0                  0                0   \n",
       "270          Modesto    CA   57                  4                0   \n",
       "1762         Olympia    WA    0                  0                0   \n",
       "1751          Saipan    MP    0                  0                0   \n",
       "\n",
       "      double_decker_bus  school_bus  total_buses  \n",
       "628                   0           0           29  \n",
       "1973                  0           0            0  \n",
       "270                   0           0           61  \n",
       "1762                  0           0            0  \n",
       "1751                  0           0            0  "
      ]
     },
     "execution_count": 240,
     "metadata": {},
     "output_type": "execute_result"
    }
   ],
   "source": [
    "ntd_df2.sample(5)"
   ]
  }
 ],
 "metadata": {
  "kernelspec": {
   "display_name": "Python 3 (ipykernel)",
   "language": "python",
   "name": "python3"
  },
  "language_info": {
   "codemirror_mode": {
    "name": "ipython",
    "version": 3
   },
   "file_extension": ".py",
   "mimetype": "text/x-python",
   "name": "python",
   "nbconvert_exporter": "python",
   "pygments_lexer": "ipython3",
   "version": "3.10.5"
  }
 },
 "nbformat": 4,
 "nbformat_minor": 5
}
