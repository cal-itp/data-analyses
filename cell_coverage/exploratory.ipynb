{
 "cells": [
  {
   "cell_type": "markdown",
   "id": "45a4417c-94bb-44a6-8b81-18e1bc089855",
   "metadata": {},
   "source": [
    "# Exploring Cell Coverage of Routes\n",
    "* To do later: move data sources to a catalog\n",
    "* An agency here is defined: as a service and an operator..."
   ]
  },
  {
   "cell_type": "code",
   "execution_count": 1,
   "id": "c7090e49-e905-4a6d-be28-87ac39196793",
   "metadata": {},
   "outputs": [
    {
     "name": "stderr",
     "output_type": "stream",
     "text": [
      "/opt/conda/lib/python3.10/site-packages/geopandas/_compat.py:112: UserWarning: The Shapely GEOS version (3.10.3-CAPI-1.16.1) is incompatible with the GEOS version PyGEOS was compiled with (3.10.1-CAPI-1.16.0). Conversions between both will be slow.\n",
      "  warnings.warn(\n"
     ]
    }
   ],
   "source": [
    "# Read in zip files\n",
    "import fsspec\n",
    "\n",
    "# Other\n",
    "import geopandas as gpd\n",
    "import numpy as np\n",
    "import pandas as pd\n",
    "# import shared_utils\n",
    "from calitp import *\n",
    "\n",
    "# Display\n",
    "from IPython.display import HTML, Image, Markdown, display, display_html\n",
    "\n",
    "# Geometry\n",
    "from shared_utils import geography_utils"
   ]
  },
  {
   "cell_type": "code",
   "execution_count": 2,
   "id": "b393271a-9e5f-4772-b28e-25ae7414c54b",
   "metadata": {},
   "outputs": [],
   "source": [
    "pd.options.display.max_columns = 100\n",
    "pd.options.display.float_format = \"{:.2f}\".format\n",
    "pd.set_option(\"display.max_rows\", None)\n",
    "pd.set_option(\"display.max_colwidth\", None)"
   ]
  },
  {
   "cell_type": "code",
   "execution_count": 3,
   "id": "140cf451-4eba-4a2f-b7d9-dee7ce3e0a43",
   "metadata": {},
   "outputs": [],
   "source": [
    "GCS_FILE_PATH = \"gs://calitp-analytics-data/data-analyses/cellular_coverage/\""
   ]
  },
  {
   "cell_type": "markdown",
   "id": "59e9b3a0-d867-4eaa-8471-d6cdc1c69aff",
   "metadata": {},
   "source": [
    "## California County Borders"
   ]
  },
  {
   "cell_type": "code",
   "execution_count": 4,
   "id": "4bab8736-8279-4e0f-b629-5ac4b19b1b18",
   "metadata": {},
   "outputs": [],
   "source": [
    "ca_gdf = gpd.read_file(\n",
    "    \"https://opendata.arcgis.com/datasets/8713ced9b78a4abb97dc130a691a8695_0.geojson\"\n",
    ")"
   ]
  },
  {
   "cell_type": "markdown",
   "id": "86d3af28-c18c-49e0-9c58-7c7317906fbd",
   "metadata": {
    "tags": []
   },
   "source": [
    "## Trip Routes "
   ]
  },
  {
   "cell_type": "code",
   "execution_count": 5,
   "id": "e5d9d4e8-28ff-4f38-ab0f-8fc434af7d48",
   "metadata": {},
   "outputs": [],
   "source": [
    "routes_df = gpd.read_parquet(\n",
    "    \"gs://calitp-analytics-data/data-analyses/traffic_ops/ca_transit_routes.parquet\"\n",
    ")"
   ]
  },
  {
   "cell_type": "code",
   "execution_count": 6,
   "id": "e2c0c601-1243-4537-85fa-24793e326726",
   "metadata": {},
   "outputs": [
    {
     "data": {
      "text/plain": [
       "3    107417\n",
       "0      3892\n",
       "1      1322\n",
       "2       710\n",
       "5       514\n",
       "4       241\n",
       "Name: route_type, dtype: int64"
      ]
     },
     "execution_count": 6,
     "metadata": {},
     "output_type": "execute_result"
    }
   ],
   "source": [
    "routes_df[\"route_type\"].value_counts()"
   ]
  },
  {
   "cell_type": "code",
   "execution_count": 7,
   "id": "a284bec7-335c-4445-8478-f6618464ce50",
   "metadata": {},
   "outputs": [],
   "source": [
    "routes_subset = routes_df[[\"route_type\", \"route_name\", \"agency\"]]"
   ]
  },
  {
   "cell_type": "code",
   "execution_count": 8,
   "id": "c136d800-66ff-4cec-b122-3e9068a2c733",
   "metadata": {},
   "outputs": [],
   "source": [
    "cols_without_geometry = [\n",
    "    \"agency\",\n",
    "    \"route_name\",\n",
    "    \"itp_id\",\n",
    "    \"route_id\",\n",
    "    \"shape_id\",\n",
    "    \"route_type\",\n",
    "]"
   ]
  },
  {
   "cell_type": "code",
   "execution_count": 9,
   "id": "ad911e02-18e6-42eb-a965-8ac7d6afabc5",
   "metadata": {
    "scrolled": true,
    "tags": []
   },
   "outputs": [],
   "source": [
    "# Drop Amtrak\n",
    "routes_df2 = routes_df.loc[routes_df[\"agency\"] != \"Amtrak\"]"
   ]
  },
  {
   "cell_type": "code",
   "execution_count": 10,
   "id": "162e08fa-076b-4f25-8e7e-54c9db36de76",
   "metadata": {},
   "outputs": [],
   "source": [
    "# Filter for only bus routes\n",
    "routes_df2 = routes_df.loc[routes_df[\"route_type\"] == \"3\"]"
   ]
  },
  {
   "cell_type": "code",
   "execution_count": 11,
   "id": "7fa770c0-ed7c-4c08-a546-443a6f2521d3",
   "metadata": {},
   "outputs": [],
   "source": [
    "# routes_df2[['agency','route_name']].sample(10)"
   ]
  },
  {
   "cell_type": "code",
   "execution_count": 12,
   "id": "ce6a08e3-f8d6-4534-8d36-a65e14b2a71e",
   "metadata": {},
   "outputs": [
    {
     "data": {
      "text/plain": [
       "'107417 rows left after dropping - compared to 114096 rows before.'"
      ]
     },
     "execution_count": 12,
     "metadata": {},
     "output_type": "execute_result"
    }
   ],
   "source": [
    "f\"{len(routes_df2)} rows left after dropping - compared to {len(routes_df)} rows before.\""
   ]
  },
  {
   "cell_type": "code",
   "execution_count": 13,
   "id": "ed00895a-59be-4d3a-8d19-db399f43854f",
   "metadata": {},
   "outputs": [
    {
     "data": {
      "text/plain": [
       "1730"
      ]
     },
     "execution_count": 13,
     "metadata": {},
     "output_type": "execute_result"
    }
   ],
   "source": [
    "routes_df2['route_id'].nunique()"
   ]
  },
  {
   "cell_type": "code",
   "execution_count": 14,
   "id": "0c6e0c41-69be-4b22-b55d-942fc4f7c8f6",
   "metadata": {},
   "outputs": [
    {
     "name": "stderr",
     "output_type": "stream",
     "text": [
      "/opt/conda/lib/python3.10/site-packages/geopandas/geodataframe.py:1472: SettingWithCopyWarning: \n",
      "A value is trying to be set on a copy of a slice from a DataFrame.\n",
      "Try using .loc[row_indexer,col_indexer] = value instead\n",
      "\n",
      "See the caveats in the documentation: https://pandas.pydata.org/pandas-docs/stable/user_guide/indexing.html#returning-a-view-versus-a-copy\n"
     ]
    }
   ],
   "source": [
    "# Fill in NA for route names and agency names\n",
    "routes_df2[[\"agency\", \"route_name\"]] = routes_df2[[\"agency\", \"route_name\"]].fillna(\"NA\")"
   ]
  },
  {
   "cell_type": "code",
   "execution_count": 15,
   "id": "c826fba3-5d84-4390-9287-14d1a5e40540",
   "metadata": {},
   "outputs": [],
   "source": [
    "# Keep only one row per route_id\n",
    "# is there another way I should pick each route?\n",
    "routes_df3 = routes_df2.drop_duplicates(subset=[\"route_id\"])"
   ]
  },
  {
   "cell_type": "code",
   "execution_count": 16,
   "id": "3166c1a6-a2d2-431f-928a-f49fe72457a1",
   "metadata": {},
   "outputs": [],
   "source": [
    "# Keep only one instance of a unique ITP ID - route_name combo\n",
    "routes_df3 = routes_df3.drop_duplicates(subset=[\"itp_id\", \"route_name\"])"
   ]
  },
  {
   "cell_type": "code",
   "execution_count": 17,
   "id": "4f053b59-f363-4a18-9241-cfc679367235",
   "metadata": {},
   "outputs": [],
   "source": [
    "# Reset index after dropping\n",
    "routes_df3 = routes_df3.reset_index()"
   ]
  },
  {
   "cell_type": "code",
   "execution_count": 18,
   "id": "b85108e8-655e-4a79-a156-9417c23dbcf6",
   "metadata": {},
   "outputs": [
    {
     "data": {
      "text/plain": [
       "'1467 unique route ids, 1415 different route names, and 1447 different shape ids.'"
      ]
     },
     "execution_count": 18,
     "metadata": {},
     "output_type": "execute_result"
    }
   ],
   "source": [
    "f\"{routes_df3.route_id.nunique()} unique route ids, {routes_df3.route_name.nunique()} different route names, and {routes_df3.shape_id.nunique()} different shape ids.\""
   ]
  },
  {
   "cell_type": "code",
   "execution_count": 19,
   "id": "60d81868-7223-40b7-8abc-f34a8f4bdd84",
   "metadata": {
    "scrolled": true,
    "tags": []
   },
   "outputs": [],
   "source": [
    "# routes_df3[['agency','route_name', 'route_id']].head(20).sort_values('route_name')"
   ]
  },
  {
   "cell_type": "code",
   "execution_count": 20,
   "id": "1b19e60e-64ba-449a-a6cb-09c3d1464c63",
   "metadata": {},
   "outputs": [
    {
     "data": {
      "text/plain": [
       "(1467, 8)"
      ]
     },
     "execution_count": 20,
     "metadata": {},
     "output_type": "execute_result"
    }
   ],
   "source": [
    "routes_df3.shape"
   ]
  },
  {
   "cell_type": "markdown",
   "id": "684cc783-e410-4304-b19e-f5268f7a9175",
   "metadata": {},
   "source": [
    "### Test with a single route"
   ]
  },
  {
   "cell_type": "code",
   "execution_count": 21,
   "id": "9b6198c8-558e-4a86-874b-8ba051b2bed0",
   "metadata": {
    "scrolled": true,
    "tags": []
   },
   "outputs": [],
   "source": [
    "# Test a single route that goes through 2 counties\n",
    "# This one goes through San Francisco & Marin.\n",
    "single_route = routes_df3.loc[routes_df3['route_name'] == 'via Civic Center']"
   ]
  },
  {
   "cell_type": "code",
   "execution_count": 22,
   "id": "28543f8e-fdbc-44c7-90de-df7fc3bc5b54",
   "metadata": {},
   "outputs": [],
   "source": [
    "# Reproject\n",
    "single_route = single_route.to_crs(ca_gdf.crs)"
   ]
  },
  {
   "cell_type": "code",
   "execution_count": 23,
   "id": "5b8399c0-da3e-402f-a842-79f1cd045c2c",
   "metadata": {},
   "outputs": [
    {
     "data": {
      "text/plain": [
       "True"
      ]
     },
     "execution_count": 23,
     "metadata": {},
     "output_type": "execute_result"
    }
   ],
   "source": [
    "single_route.crs == ca_gdf.crs"
   ]
  },
  {
   "cell_type": "code",
   "execution_count": 24,
   "id": "3600c843-c10c-4d08-9229-0cd47955ed90",
   "metadata": {},
   "outputs": [],
   "source": [
    "single_sjoin = gpd.sjoin(single_route, ca_gdf, how = \"inner\", predicate = \"intersects\")"
   ]
  },
  {
   "cell_type": "code",
   "execution_count": 25,
   "id": "5712116f-43df-48cc-8740-ce4332646572",
   "metadata": {},
   "outputs": [],
   "source": [
    "single_overlay = single_route.overlay(ca_gdf, how='intersection', keep_geom_type = False)"
   ]
  },
  {
   "cell_type": "code",
   "execution_count": 26,
   "id": "a5be7081-4e87-4e98-be5b-283b9d61da48",
   "metadata": {},
   "outputs": [
    {
     "data": {
      "text/plain": [
       "<AxesSubplot:>"
      ]
     },
     "execution_count": 26,
     "metadata": {},
     "output_type": "execute_result"
    },
    {
     "data": {
      "image/png": "[encoded data removed]",
      "text/plain": [
       "<Figure size 640x480 with 1 Axes>"
      ]
     },
     "metadata": {},
     "output_type": "display_data"
    }
   ],
   "source": [
    "single_overlay.plot()"
   ]
  },
  {
   "cell_type": "markdown",
   "id": "a53ce7d4-69e5-4d59-a198-33d742a67dcd",
   "metadata": {},
   "source": [
    "## FCC AT&T Data Map \n",
    "* Testing with AT&T first."
   ]
  },
  {
   "cell_type": "code",
   "execution_count": 27,
   "id": "a63b5add-90ef-452b-9ac1-9193cdc633eb",
   "metadata": {},
   "outputs": [],
   "source": [
    "# Open a clipped AT&T map\n",
    "fcc_ca_gdf = gpd.read_parquet(\n",
    "    \"gs://calitp-analytics-data/data-analyses/cellular_coverage/AT_T_Data_California_Only.parquet\"\n",
    ")"
   ]
  },
  {
   "cell_type": "code",
   "execution_count": null,
   "id": "5339c13e-2211-4e64-9a6b-13b9228bbf96",
   "metadata": {},
   "outputs": [],
   "source": [
    "# Get rid of columns\n",
    "fcc_ca_gdf = fcc_ca_gdf.drop(columns = ['DBA', 'Technology', 'MINDOWN', 'MINUP',])"
   ]
  },
  {
   "cell_type": "code",
   "execution_count": 28,
   "id": "aa4c6d4a-e412-44cf-bb15-bce0677f57eb",
   "metadata": {},
   "outputs": [],
   "source": [
    "# fcc_ca_gdf.plot(figsize = (30,12))"
   ]
  },
  {
   "cell_type": "markdown",
   "id": "4665adab-5b3e-4d95-b7fe-b2461829f513",
   "metadata": {},
   "source": [
    "## Overlay \n",
    "* I want to obtain routes that are NOT contained in the AT & T coverage map.\n",
    "* https://geopandas.org/en/stable/docs/user_guide/set_operations.html\n",
    "* To obtain the geometries that are part of df1 but are not contained in df2, you can use how='difference'."
   ]
  },
  {
   "cell_type": "code",
   "execution_count": 29,
   "id": "d19338f0-6309-43bb-8065-0eaf5a746f03",
   "metadata": {},
   "outputs": [
    {
     "data": {
      "text/plain": [
       "True"
      ]
     },
     "execution_count": 29,
     "metadata": {},
     "output_type": "execute_result"
    }
   ],
   "source": [
    "# Check that they are the same CRS\n",
    "fcc_ca_gdf.crs == routes_df3.crs"
   ]
  },
  {
   "cell_type": "code",
   "execution_count": 31,
   "id": "011e319f-61b1-4e5a-a09e-de1643403ab9",
   "metadata": {},
   "outputs": [],
   "source": [
    "# Testing with intersection per Tiffany's suggestion\n",
    "overlay_df  = routes_df3.overlay(fcc_ca_gdf, how=\"intersection\", keep_geom_type= \"false\")"
   ]
  },
  {
   "cell_type": "code",
   "execution_count": 32,
   "id": "e4704b1f-08c1-45ab-ac52-882421a47b38",
   "metadata": {},
   "outputs": [],
   "source": [
    "# But difference still shows...how can these 2 things be possible at the same time?\n",
    "overlay_df_diff= routes_df3.overlay(fcc_ca_gdf, how=\"difference\", keep_geom_type= \"false\")"
   ]
  },
  {
   "cell_type": "code",
   "execution_count": 106,
   "id": "fb9ce6f5-091e-4316-91c8-6f721e186321",
   "metadata": {},
   "outputs": [],
   "source": [
    "# Looking for routes that sit within AT&T borders.\n",
    "# Keeping inner geometries between the two\n",
    "# Get rid of routes that don't overlap with any AT&T borders\n",
    "# https://geopandas.org/en/stable/docs/user_guide/mergingdata.html?highlight=predicate#spatial-joins\n",
    "sjoin1 = gpd.sjoin(routes_df3, fcc_ca_gdf, how = \"inner\", predicate = \"within\")"
   ]
  },
  {
   "cell_type": "code",
   "execution_count": 96,
   "id": "083a6660-fc30-4a5c-8992-65474f59e00b",
   "metadata": {},
   "outputs": [],
   "source": [
    "# Change predicate to intersect\n",
    "sjoin2 = gpd.sjoin(routes_df3, fcc_ca_gdf, how = \"inner\", predicate = \"intersects\")"
   ]
  },
  {
   "cell_type": "code",
   "execution_count": 47,
   "id": "1bab9375-a8af-49f2-8dd8-e95da1e7c64e",
   "metadata": {},
   "outputs": [],
   "source": [
    "# Change order: at&t areas that contain routes\n",
    "# Same as sjoin1?\n",
    "sjoin3 = gpd.sjoin(fcc_ca_gdf, routes_df3,  how = \"inner\", predicate = \"contains\")"
   ]
  },
  {
   "cell_type": "code",
   "execution_count": 107,
   "id": "dca68a6b-4887-4f8c-8290-fbb4a397c870",
   "metadata": {
    "tags": []
   },
   "outputs": [
    {
     "data": {
      "text/plain": [
       "(1116, 1467, 1116)"
      ]
     },
     "execution_count": 107,
     "metadata": {},
     "output_type": "execute_result"
    }
   ],
   "source": [
    "sjoin1['route_id'].nunique(),sjoin2['route_id'].nunique(), sjoin3['route_id'].nunique(), "
   ]
  },
  {
   "cell_type": "code",
   "execution_count": 62,
   "id": "8784a4f9-3c86-4259-aa63-04fbe18f6003",
   "metadata": {},
   "outputs": [],
   "source": [
    "routes_test_list = sjoin1['route_id'].unique().tolist()"
   ]
  },
  {
   "cell_type": "code",
   "execution_count": 63,
   "id": "b66231c5-4d5a-44cc-bdc8-40f237750f32",
   "metadata": {},
   "outputs": [],
   "source": [
    "# Filter out for routes not in list\n",
    "test = routes_df3[~routes_df3[\"route_id\"].isin(routes_test_list)]"
   ]
  },
  {
   "cell_type": "code",
   "execution_count": 65,
   "id": "f01462fd-8676-489d-889b-05386a7a4109",
   "metadata": {
    "tags": []
   },
   "outputs": [
    {
     "data": {
      "text/markdown": [
       "There are 1467 routes (run by 141 different agencies) \n",
       "       that intersects w/ the AT&T coverage map when how = 'intersect'.\n",
       "       However there are 232 routes when \n",
       "       setting how to difference. Doing sjoin, there are 351 routes that don't overlap.\n",
       "       In comparison, there are 1467 total routes in the original dataframe."
      ],
      "text/plain": [
       "<IPython.core.display.Markdown object>"
      ]
     },
     "metadata": {},
     "output_type": "display_data"
    }
   ],
   "source": [
    "display(\n",
    "    Markdown(\n",
    "        f\"\"\"There are {overlay_df['route_id'].nunique()} routes (run by {overlay_df['agency'].nunique()} different agencies) \n",
    "       that intersects w/ the AT&T coverage map when how = 'intersect'.\n",
    "       However there are {overlay_df_diff['route_id'].nunique()} routes when \n",
    "       setting how to difference. Doing sjoin, there are {len(routes_df3)-len(sjoin1)} routes that don't overlap.\n",
    "       In comparison, there are {routes_df3.route_id.nunique()} total routes in the original dataframe.\"\"\"\n",
    "    )\n",
    ")"
   ]
  },
  {
   "cell_type": "code",
   "execution_count": 140,
   "id": "10e69b3b-26dc-4399-a497-7b244797ae14",
   "metadata": {
    "tags": []
   },
   "outputs": [],
   "source": [
    "# Agencies with the most routes\n",
    "# test[['agency','route_name', 'route_id']].sort_values('agency')"
   ]
  },
  {
   "cell_type": "code",
   "execution_count": 109,
   "id": "ca4c4baf-6ab5-4136-93dd-4a647b832cb9",
   "metadata": {},
   "outputs": [
    {
     "data": {
      "text/plain": [
       "(<AxesSubplot:>, <AxesSubplot:>)"
      ]
     },
     "execution_count": 109,
     "metadata": {},
     "output_type": "execute_result"
    },
    {
     "data": {
      "image/png": "[encoded data removed]",
      "text/plain": [
       "<Figure size 640x480 with 1 Axes>"
      ]
     },
     "metadata": {},
     "output_type": "display_data"
    },
    {
     "data": {
      "image/png": "[encoded data removed]",
      "text/plain": [
       "<Figure size 640x480 with 1 Axes>"
      ]
     },
     "metadata": {},
     "output_type": "display_data"
    }
   ],
   "source": [
    "test.plot(), fcc_ca_gdf.plot()"
   ]
  },
  {
   "cell_type": "code",
   "execution_count": 110,
   "id": "6846f0be-f040-4ed8-9611-4cefff8c0e6f",
   "metadata": {},
   "outputs": [],
   "source": [
    "# List for unique itp_ids\n",
    "agencies_no_coverage = test[\"itp_id\"].unique().tolist()"
   ]
  },
  {
   "cell_type": "code",
   "execution_count": 111,
   "id": "c9428dd5-50c8-4259-9fb1-29dd471db633",
   "metadata": {},
   "outputs": [],
   "source": [
    "# List for unique route ids\n",
    "routes_no_coverage = test[\"route_id\"].unique().tolist()"
   ]
  },
  {
   "cell_type": "code",
   "execution_count": 112,
   "id": "ab651855-952f-460d-b846-c4e86380499f",
   "metadata": {},
   "outputs": [],
   "source": [
    "# List for unique route ids\n",
    "routes_no_coverage_name = test[\"route_name\"].unique().tolist()"
   ]
  },
  {
   "cell_type": "code",
   "execution_count": 113,
   "id": "29056f58-b61c-4e6a-9cfe-28fe4b7ad75a",
   "metadata": {
    "scrolled": true,
    "tags": []
   },
   "outputs": [],
   "source": [
    "# A table with all the itp id & agencies\n",
    "agency_df = test[[\"agency\", \"itp_id\"]].drop_duplicates().reset_index()"
   ]
  },
  {
   "cell_type": "markdown",
   "id": "791ef31f-d5f2-4fb9-9b8c-c17608665a8a",
   "metadata": {},
   "source": [
    "## Trips\n",
    "* How many trips are running for a route?"
   ]
  },
  {
   "cell_type": "code",
   "execution_count": 116,
   "id": "a59d46ca-2f8a-450d-8594-29d1719597a9",
   "metadata": {},
   "outputs": [],
   "source": [
    "trips_df = pd.read_parquet(\n",
    "    \"gs://calitp-analytics-data/data-analyses/rt_delay/compiled_cached_views/trips_2022-05-04_all.parquet\"\n",
    ")"
   ]
  },
  {
   "cell_type": "code",
   "execution_count": 117,
   "id": "a226aed5-ed0b-448b-a57b-ef8e3229bc55",
   "metadata": {},
   "outputs": [
    {
     "data": {
      "text/plain": [
       "(104934, 14)"
      ]
     },
     "execution_count": 117,
     "metadata": {},
     "output_type": "execute_result"
    }
   ],
   "source": [
    "trips_df.shape"
   ]
  },
  {
   "cell_type": "code",
   "execution_count": 118,
   "id": "59d2ab30-f737-4a22-8e99-eb673a383048",
   "metadata": {},
   "outputs": [
    {
     "data": {
      "text/html": [
       "<div>\n",
       "<style scoped>\n",
       "    .dataframe tbody tr th:only-of-type {\n",
       "        vertical-align: middle;\n",
       "    }\n",
       "\n",
       "    .dataframe tbody tr th {\n",
       "        vertical-align: top;\n",
       "    }\n",
       "\n",
       "    .dataframe thead th {\n",
       "        text-align: right;\n",
       "    }\n",
       "</style>\n",
       "<table border=\"1\" class=\"dataframe\">\n",
       "  <thead>\n",
       "    <tr style=\"text-align: right;\">\n",
       "      <th></th>\n",
       "      <th>calitp_itp_id</th>\n",
       "      <th>calitp_url_number</th>\n",
       "      <th>service_date</th>\n",
       "      <th>trip_key</th>\n",
       "      <th>trip_id</th>\n",
       "      <th>route_id</th>\n",
       "      <th>direction_id</th>\n",
       "      <th>shape_id</th>\n",
       "      <th>calitp_extracted_at</th>\n",
       "      <th>calitp_deleted_at</th>\n",
       "      <th>route_short_name</th>\n",
       "      <th>route_long_name</th>\n",
       "      <th>route_desc</th>\n",
       "      <th>route_type</th>\n",
       "    </tr>\n",
       "  </thead>\n",
       "  <tbody>\n",
       "    <tr>\n",
       "      <th>0</th>\n",
       "      <td>4</td>\n",
       "      <td>0</td>\n",
       "      <td>2022-05-04</td>\n",
       "      <td>1582047897989018365</td>\n",
       "      <td>272020</td>\n",
       "      <td>21</td>\n",
       "      <td>1</td>\n",
       "      <td>shp-21-23</td>\n",
       "      <td>2022-03-26</td>\n",
       "      <td>2099-01-01</td>\n",
       "      <td>21</td>\n",
       "      <td>Dimond - Fruitvale - Bay Farm</td>\n",
       "      <td>None</td>\n",
       "      <td>3</td>\n",
       "    </tr>\n",
       "  </tbody>\n",
       "</table>\n",
       "</div>"
      ],
      "text/plain": [
       "   calitp_itp_id  calitp_url_number service_date             trip_key trip_id  \\\n",
       "0              4                  0   2022-05-04  1582047897989018365  272020   \n",
       "\n",
       "  route_id direction_id   shape_id calitp_extracted_at calitp_deleted_at  \\\n",
       "0       21            1  shp-21-23          2022-03-26        2099-01-01   \n",
       "\n",
       "  route_short_name                route_long_name route_desc route_type  \n",
       "0               21  Dimond - Fruitvale - Bay Farm       None          3  "
      ]
     },
     "execution_count": 118,
     "metadata": {},
     "output_type": "execute_result"
    }
   ],
   "source": [
    "trips_df.head(1)"
   ]
  },
  {
   "cell_type": "code",
   "execution_count": 119,
   "id": "f46f123b-90bd-4fd5-98e9-08233839967d",
   "metadata": {},
   "outputs": [],
   "source": [
    "# Add agency name\n",
    "trips_df = pd.merge(\n",
    "    trips_df, agency_df, how=\"inner\", left_on=\"calitp_itp_id\", right_on=\"itp_id\"\n",
    ")"
   ]
  },
  {
   "cell_type": "code",
   "execution_count": 120,
   "id": "423612c3-b105-40de-bd9f-b0c264bdc8e4",
   "metadata": {},
   "outputs": [],
   "source": [
    "# Try to standardize route id for the 2 dfs\n",
    "overlay_df[\"route_id\"] = overlay_df[\"route_id\"].str.lower().str.strip()\n",
    "trips_df[\"route_id\"] = trips_df[\"route_id\"].str.lower().str.strip()"
   ]
  },
  {
   "cell_type": "code",
   "execution_count": 121,
   "id": "cab08b0b-820c-488e-be4c-a42880326e0f",
   "metadata": {},
   "outputs": [],
   "source": [
    "# Filter out for route IDS\n",
    "trips_df2 = trips_df[trips_df[\"route_id\"].isin(routes_no_coverage)]"
   ]
  },
  {
   "cell_type": "code",
   "execution_count": 122,
   "id": "ba5ce20f-6676-4134-bea9-36de3298e43d",
   "metadata": {},
   "outputs": [
    {
     "data": {
      "text/plain": [
       "'234 routes left after filtering trips_df compared to 351 routes in overlay.'"
      ]
     },
     "execution_count": 122,
     "metadata": {},
     "output_type": "execute_result"
    }
   ],
   "source": [
    "# So many route ids disappeared\n",
    "f'{trips_df2[\"route_id\"].nunique()} routes left after filtering trips_df compared to {len(routes_no_coverage)} routes in overlay.'"
   ]
  },
  {
   "cell_type": "code",
   "execution_count": 123,
   "id": "4bfb9324-4e03-4cca-9e42-abfbcb89b29e",
   "metadata": {
    "scrolled": true,
    "tags": []
   },
   "outputs": [],
   "source": [
    "# Checking which ones are missing.\n",
    "id_routes = set(routes_no_coverage)\n",
    "id_trips = set(trips_df2.route_id.unique().tolist())\n",
    "missing_routes = list(id_routes - id_trips)"
   ]
  },
  {
   "cell_type": "code",
   "execution_count": 124,
   "id": "7842374a-3253-48b3-8c55-231dfdac112b",
   "metadata": {},
   "outputs": [
    {
     "data": {
      "text/plain": [
       "'0.3333333333333333% of routes missing'"
      ]
     },
     "execution_count": 124,
     "metadata": {},
     "output_type": "execute_result"
    }
   ],
   "source": [
    "f\"{len(missing_routes)/len(routes_no_coverage)}% of routes missing\""
   ]
  },
  {
   "cell_type": "code",
   "execution_count": 125,
   "id": "2dc5c963-abbb-4111-9212-e62d65461e48",
   "metadata": {},
   "outputs": [],
   "source": [
    "# Sum up number of trips taken by route using trip id?\n",
    "trips_ran = (\n",
    "    trips_df2.groupby([\"calitp_itp_id\", \"route_long_name\", \"agency\"])\n",
    "    .agg({\"trip_id\": \"count\"})\n",
    "    .reset_index()\n",
    "    .rename(columns={\"trip_id\": \"total_trips\"})\n",
    ")"
   ]
  },
  {
   "cell_type": "code",
   "execution_count": 126,
   "id": "9eccbbaa-c548-4bd4-9a24-803bc1d83afb",
   "metadata": {
    "tags": []
   },
   "outputs": [
    {
     "data": {
      "text/plain": [
       "(327, 4)"
      ]
     },
     "execution_count": 126,
     "metadata": {},
     "output_type": "execute_result"
    }
   ],
   "source": [
    "trips_ran.shape"
   ]
  },
  {
   "cell_type": "code",
   "execution_count": 127,
   "id": "5019bd1a-cacd-4363-b7f9-34bb34ca5602",
   "metadata": {},
   "outputs": [],
   "source": [
    "# trips_ran"
   ]
  },
  {
   "cell_type": "code",
   "execution_count": 128,
   "id": "87a562b8-211d-4fa8-9709-e4522345200f",
   "metadata": {},
   "outputs": [
    {
     "data": {
      "text/plain": [
       "58"
      ]
     },
     "execution_count": 128,
     "metadata": {},
     "output_type": "execute_result"
    }
   ],
   "source": [
    "trips_ran[\"agency\"].nunique()"
   ]
  },
  {
   "cell_type": "code",
   "execution_count": null,
   "id": "883ae564-efb9-4389-8442-26ffa57ba789",
   "metadata": {},
   "outputs": [],
   "source": []
  }
 ],
 "metadata": {
  "kernelspec": {
   "display_name": "Python 3 (ipykernel)",
   "language": "python",
   "name": "python3"
  },
  "language_info": {
   "codemirror_mode": {
    "name": "ipython",
    "version": 3
   },
   "file_extension": ".py",
   "mimetype": "text/x-python",
   "name": "python",
   "nbconvert_exporter": "python",
   "pygments_lexer": "ipython3",
   "version": "3.10.5"
  }
 },
 "nbformat": 4,
 "nbformat_minor": 5
}
