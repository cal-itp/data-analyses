{
 "cells": [
  {
   "cell_type": "markdown",
   "id": "45a4417c-94bb-44a6-8b81-18e1bc089855",
   "metadata": {},
   "source": [
    "# Exploring Cell Coverage of Routes\n",
    "* To do later: move data sources to a catalog\n",
    "* An agency here is defined: as a service and an operator..."
   ]
  },
  {
   "cell_type": "code",
   "execution_count": 53,
   "id": "c7090e49-e905-4a6d-be28-87ac39196793",
   "metadata": {},
   "outputs": [],
   "source": [
    "# Read in zip files\n",
    "import fsspec\n",
    "\n",
    "# Other\n",
    "import geopandas as gpd\n",
    "import numpy as np\n",
    "import pandas as pd\n",
    "# import shared_utils\n",
    "from calitp import *\n",
    "\n",
    "# Display\n",
    "from IPython.display import HTML, Image, Markdown, display, display_html\n",
    "\n",
    "# Geometry\n",
    "from shared_utils import geography_utils"
   ]
  },
  {
   "cell_type": "code",
   "execution_count": 54,
   "id": "b393271a-9e5f-4772-b28e-25ae7414c54b",
   "metadata": {},
   "outputs": [],
   "source": [
    "pd.options.display.max_columns = 100\n",
    "pd.options.display.float_format = \"{:.2f}\".format\n",
    "pd.set_option(\"display.max_rows\", None)\n",
    "pd.set_option(\"display.max_colwidth\", None)"
   ]
  },
  {
   "cell_type": "code",
   "execution_count": 55,
   "id": "140cf451-4eba-4a2f-b7d9-dee7ce3e0a43",
   "metadata": {},
   "outputs": [],
   "source": [
    "GCS_FILE_PATH = \"gs://calitp-analytics-data/data-analyses/cellular_coverage/\""
   ]
  },
  {
   "cell_type": "markdown",
   "id": "59e9b3a0-d867-4eaa-8471-d6cdc1c69aff",
   "metadata": {},
   "source": [
    "## California County Borders"
   ]
  },
  {
   "cell_type": "code",
   "execution_count": 56,
   "id": "4bab8736-8279-4e0f-b629-5ac4b19b1b18",
   "metadata": {},
   "outputs": [],
   "source": [
    "ca_gdf = gpd.read_file(\n",
    "    \"https://opendata.arcgis.com/datasets/8713ced9b78a4abb97dc130a691a8695_0.geojson\"\n",
    ")"
   ]
  },
  {
   "cell_type": "markdown",
   "id": "86d3af28-c18c-49e0-9c58-7c7317906fbd",
   "metadata": {
    "tags": []
   },
   "source": [
    "## Trip Routes "
   ]
  },
  {
   "cell_type": "code",
   "execution_count": 57,
   "id": "e5d9d4e8-28ff-4f38-ab0f-8fc434af7d48",
   "metadata": {},
   "outputs": [],
   "source": [
    "routes_df = gpd.read_parquet(\n",
    "    \"gs://calitp-analytics-data/data-analyses/traffic_ops/ca_transit_routes.parquet\"\n",
    ")"
   ]
  },
  {
   "cell_type": "code",
   "execution_count": 58,
   "id": "e2c0c601-1243-4537-85fa-24793e326726",
   "metadata": {},
   "outputs": [
    {
     "data": {
      "text/plain": [
       "3    7397\n",
       "2     183\n",
       "0     119\n",
       "4      57\n",
       "5      31\n",
       "1       4\n",
       "Name: route_type, dtype: int64"
      ]
     },
     "execution_count": 58,
     "metadata": {},
     "output_type": "execute_result"
    }
   ],
   "source": [
    "routes_df[\"route_type\"].value_counts()"
   ]
  },
  {
   "cell_type": "code",
   "execution_count": 59,
   "id": "a284bec7-335c-4445-8478-f6618464ce50",
   "metadata": {},
   "outputs": [],
   "source": [
    "routes_subset = routes_df[[\"route_type\", \"route_name\", \"agency\"]]"
   ]
  },
  {
   "cell_type": "code",
   "execution_count": 60,
   "id": "c136d800-66ff-4cec-b122-3e9068a2c733",
   "metadata": {},
   "outputs": [],
   "source": [
    "cols_without_geometry = [\n",
    "    \"agency\",\n",
    "    \"route_name\",\n",
    "    \"itp_id\",\n",
    "    \"route_id\",\n",
    "    \"shape_id\",\n",
    "    \"route_type\",\n",
    "]"
   ]
  },
  {
   "cell_type": "code",
   "execution_count": 61,
   "id": "ad911e02-18e6-42eb-a965-8ac7d6afabc5",
   "metadata": {
    "scrolled": true,
    "tags": []
   },
   "outputs": [],
   "source": [
    "# Drop Amtrak\n",
    "routes_df2 = routes_df.loc[routes_df[\"agency\"] != \"Amtrak\"]"
   ]
  },
  {
   "cell_type": "code",
   "execution_count": 62,
   "id": "162e08fa-076b-4f25-8e7e-54c9db36de76",
   "metadata": {},
   "outputs": [],
   "source": [
    "# Filter for only bus routes\n",
    "routes_df2 = routes_df.loc[routes_df[\"route_type\"] == \"3\"]"
   ]
  },
  {
   "cell_type": "code",
   "execution_count": 168,
   "id": "7fa770c0-ed7c-4c08-a546-443a6f2521d3",
   "metadata": {},
   "outputs": [],
   "source": [
    "# routes_df2[['agency','route_name']].sample(10)"
   ]
  },
  {
   "cell_type": "code",
   "execution_count": 63,
   "id": "05060eb8-cbd9-45a0-ae1c-e8fe124e5749",
   "metadata": {},
   "outputs": [],
   "source": [
    "# Drop Bay Area Ferry Service - ferry only\n",
    "# routes_df2 = routes_df2.loc[routes_df2[\"agency\"] != \"San Francisco Bay Ferry\"]"
   ]
  },
  {
   "cell_type": "code",
   "execution_count": 64,
   "id": "ce6a08e3-f8d6-4534-8d36-a65e14b2a71e",
   "metadata": {},
   "outputs": [
    {
     "data": {
      "text/plain": [
       "'7397 rows left after dropping - compared to 7791 rows before.'"
      ]
     },
     "execution_count": 64,
     "metadata": {},
     "output_type": "execute_result"
    }
   ],
   "source": [
    "f\"{len(routes_df2)} rows left after dropping - compared to {len(routes_df)} rows before.\""
   ]
  },
  {
   "cell_type": "code",
   "execution_count": 65,
   "id": "0c6e0c41-69be-4b22-b55d-942fc4f7c8f6",
   "metadata": {},
   "outputs": [
    {
     "name": "stderr",
     "output_type": "stream",
     "text": [
      "/opt/conda/lib/python3.10/site-packages/geopandas/geodataframe.py:1472: SettingWithCopyWarning: \n",
      "A value is trying to be set on a copy of a slice from a DataFrame.\n",
      "Try using .loc[row_indexer,col_indexer] = value instead\n",
      "\n",
      "See the caveats in the documentation: https://pandas.pydata.org/pandas-docs/stable/user_guide/indexing.html#returning-a-view-versus-a-copy\n"
     ]
    }
   ],
   "source": [
    "# Fill in NA for route names and agency names\n",
    "routes_df2[[\"agency\", \"route_name\"]] = routes_df2[[\"agency\", \"route_name\"]].fillna(\n",
    "    \"None\"\n",
    ")"
   ]
  },
  {
   "cell_type": "code",
   "execution_count": 193,
   "id": "c826fba3-5d84-4390-9287-14d1a5e40540",
   "metadata": {},
   "outputs": [],
   "source": [
    "# Keep only one row per route_id\n",
    "# is there another way I should pick each route?\n",
    "routes_df3 = routes_df2.drop_duplicates(subset=[\"route_id\"])"
   ]
  },
  {
   "cell_type": "code",
   "execution_count": 199,
   "id": "3166c1a6-a2d2-431f-928a-f49fe72457a1",
   "metadata": {},
   "outputs": [],
   "source": [
    "# Keep only one instance of a unique ITP ID - route_name combo\n",
    "routes_df3 = routes_df3.drop_duplicates(subset=[\"itp_id\", \"route_name\"])"
   ]
  },
  {
   "cell_type": "code",
   "execution_count": 200,
   "id": "4f053b59-f363-4a18-9241-cfc679367235",
   "metadata": {},
   "outputs": [],
   "source": [
    "# Reset index after dropping\n",
    "routes_df3 = routes_df3.reset_index()"
   ]
  },
  {
   "cell_type": "code",
   "execution_count": 201,
   "id": "b85108e8-655e-4a79-a156-9417c23dbcf6",
   "metadata": {},
   "outputs": [
    {
     "data": {
      "text/plain": [
       "'1424 unique route ids, 1374 different route names, and 1402 different shape ids.'"
      ]
     },
     "execution_count": 201,
     "metadata": {},
     "output_type": "execute_result"
    }
   ],
   "source": [
    "f\"{routes_df3.route_id.nunique()} unique route ids, {routes_df3.route_name.nunique()} different route names, and {routes_df3.shape_id.nunique()} different shape ids.\""
   ]
  },
  {
   "cell_type": "code",
   "execution_count": 198,
   "id": "1b19e60e-64ba-449a-a6cb-09c3d1464c63",
   "metadata": {},
   "outputs": [
    {
     "data": {
      "text/plain": [
       "(1657, 8)"
      ]
     },
     "execution_count": 198,
     "metadata": {},
     "output_type": "execute_result"
    }
   ],
   "source": [
    "routes_df3.shape"
   ]
  },
  {
   "cell_type": "markdown",
   "id": "a53ce7d4-69e5-4d59-a198-33d742a67dcd",
   "metadata": {},
   "source": [
    "## FCC AT&T Data Map \n",
    "* Testing with AT&T first."
   ]
  },
  {
   "cell_type": "markdown",
   "id": "5b1a6c49-e971-496c-93ed-bd625210f8ea",
   "metadata": {},
   "source": [
    "### Clip AT&T map to only include California Counties"
   ]
  },
  {
   "cell_type": "code",
   "execution_count": 236,
   "id": "c8f0c1f9-c972-46fc-9a13-299c2a065955",
   "metadata": {},
   "outputs": [],
   "source": [
    "def create_california_coverage(file_zip_name:str, new_file_name:str):\n",
    "    \n",
    "    # Open zip file first\n",
    "    PATH = f\"{GCS_FILE_PATH}{file_zip_name}\"\n",
    "    with fsspec.open(PATH) as file:\n",
    "        fcc_gdf = gpd.read_file(file)\n",
    "    \n",
    "    # Open file with California Counties.\n",
    "    ca_gdf = gpd.read_file(\n",
    "    \"https://opendata.arcgis.com/datasets/8713ced9b78a4abb97dc130a691a8695_0.geojson\")\n",
    "\n",
    "    # Clip \n",
    "    fcc_ca_gdf = gpd.clip(fcc_gdf, ca_gdf)\n",
    "\n",
    "    # Save this into a parquet so don't have to clip all the time\n",
    "    utils.geoparquet_gcs_export(fcc_ca_gdf, GCS_FILE_PATH, new_file_name)\n"
   ]
  },
  {
   "cell_type": "code",
   "execution_count": 112,
   "id": "a63b5add-90ef-452b-9ac1-9193cdc633eb",
   "metadata": {},
   "outputs": [],
   "source": [
    "# Open\n",
    "fcc_ca_gdf = gpd.read_parquet(\n",
    "    \"gs://calitp-analytics-data/data-analyses/cellular_coverage/AT_T_Data_California_Only.parquet\"\n",
    ")"
   ]
  },
  {
   "cell_type": "code",
   "execution_count": 113,
   "id": "aa4c6d4a-e412-44cf-bb15-bce0677f57eb",
   "metadata": {},
   "outputs": [],
   "source": [
    "# fcc_ca_gdf.plot(figsize = (30,12))"
   ]
  },
  {
   "cell_type": "markdown",
   "id": "4665adab-5b3e-4d95-b7fe-b2461829f513",
   "metadata": {},
   "source": [
    "## Overlay \n",
    "* I want to obtain routes that are NOT contained in the AT & T coverage map.\n",
    "* https://geopandas.org/en/stable/docs/user_guide/set_operations.html\n",
    "* To obtain the geometries that are part of df1 but are not contained in df2, you can use how='difference'."
   ]
  },
  {
   "cell_type": "code",
   "execution_count": 114,
   "id": "d19338f0-6309-43bb-8065-0eaf5a746f03",
   "metadata": {},
   "outputs": [
    {
     "data": {
      "text/plain": [
       "True"
      ]
     },
     "execution_count": 114,
     "metadata": {},
     "output_type": "execute_result"
    }
   ],
   "source": [
    "# Check that they are the same CRS\n",
    "fcc_ca_gdf.crs == routes_df3.crs"
   ]
  },
  {
   "cell_type": "code",
   "execution_count": 115,
   "id": "3fa47368-3243-45dc-9118-813ce5615a21",
   "metadata": {},
   "outputs": [],
   "source": [
    "# Reproject\n",
    "fcc_ca_gdf = fcc_ca_gdf.to_crs(\"epsg:3395\")\n",
    "routes_df3 = routes_df3.to_crs(\"epsg:3395\")"
   ]
  },
  {
   "cell_type": "code",
   "execution_count": 116,
   "id": "011e319f-61b1-4e5a-a09e-de1643403ab9",
   "metadata": {},
   "outputs": [],
   "source": [
    "overlay_df = routes_df3.overlay(fcc_ca_gdf, how=\"difference\")"
   ]
  },
  {
   "cell_type": "code",
   "execution_count": 117,
   "id": "3e355b79-a656-46dc-9bab-2f19f6451a09",
   "metadata": {},
   "outputs": [
    {
     "data": {
      "text/plain": [
       "(239, 8)"
      ]
     },
     "execution_count": 117,
     "metadata": {},
     "output_type": "execute_result"
    }
   ],
   "source": [
    "overlay_df.shape"
   ]
  },
  {
   "cell_type": "code",
   "execution_count": 118,
   "id": "93535bde-9b6a-4719-8e9c-76dc9b7d29b1",
   "metadata": {},
   "outputs": [
    {
     "data": {
      "text/plain": [
       "<AxesSubplot:>"
      ]
     },
     "execution_count": 118,
     "metadata": {},
     "output_type": "execute_result"
    },
    {
     "data": {
      "image/png": "[encoded data removed]",
      "text/plain": [
       "<Figure size 1200x600 with 1 Axes>"
      ]
     },
     "metadata": {},
     "output_type": "display_data"
    }
   ],
   "source": [
    "# Change to overlay later\n",
    "(overlay_df.plot(figsize=(12, 6), markersize=30))"
   ]
  },
  {
   "cell_type": "code",
   "execution_count": 145,
   "id": "f01462fd-8676-489d-889b-05386a7a4109",
   "metadata": {
    "tags": []
   },
   "outputs": [
    {
     "data": {
      "text/markdown": [
       "There are 239 routes (run by 62 different agencies) \n",
       "        w/o overlap to the AT&T coverage map. In comparison, there are 1424 total routes in the original dataframe."
      ],
      "text/plain": [
       "<IPython.core.display.Markdown object>"
      ]
     },
     "metadata": {},
     "output_type": "display_data"
    }
   ],
   "source": [
    "display(\n",
    "    Markdown(\n",
    "        f\"\"\"There are {overlay_df['route_id'].nunique()} routes (run by {overlay_df['agency'].nunique()} different agencies) \n",
    "        w/o overlap to the AT&T coverage map. In comparison, there are {routes_df3.route_id.nunique()} total routes in the original dataframe.\"\"\"\n",
    "    )\n",
    ")"
   ]
  },
  {
   "cell_type": "code",
   "execution_count": 120,
   "id": "d012ce6c-7489-48be-a503-cec7c6dc22f5",
   "metadata": {
    "scrolled": true,
    "tags": []
   },
   "outputs": [],
   "source": [
    "# Previewing the routes left\n",
    "# overlay_df[cols_without_geometry].sort_values('route_name')"
   ]
  },
  {
   "cell_type": "code",
   "execution_count": 150,
   "id": "10e69b3b-26dc-4399-a497-7b244797ae14",
   "metadata": {
    "tags": []
   },
   "outputs": [
    {
     "data": {
      "text/html": [
       "<div>\n",
       "<style scoped>\n",
       "    .dataframe tbody tr th:only-of-type {\n",
       "        vertical-align: middle;\n",
       "    }\n",
       "\n",
       "    .dataframe tbody tr th {\n",
       "        vertical-align: top;\n",
       "    }\n",
       "\n",
       "    .dataframe thead th {\n",
       "        text-align: right;\n",
       "    }\n",
       "</style>\n",
       "<table border=\"1\" class=\"dataframe\">\n",
       "  <thead>\n",
       "    <tr style=\"text-align: right;\">\n",
       "      <th></th>\n",
       "      <th>total_routes</th>\n",
       "    </tr>\n",
       "    <tr>\n",
       "      <th>agency</th>\n",
       "      <th></th>\n",
       "    </tr>\n",
       "  </thead>\n",
       "  <tbody>\n",
       "    <tr>\n",
       "      <th>AC Transit</th>\n",
       "      <td>34</td>\n",
       "    </tr>\n",
       "    <tr>\n",
       "      <th>Metro</th>\n",
       "      <td>30</td>\n",
       "    </tr>\n",
       "    <tr>\n",
       "      <th>Marin Transit</th>\n",
       "      <td>14</td>\n",
       "    </tr>\n",
       "    <tr>\n",
       "      <th>Los Angeles Department of Transportation</th>\n",
       "      <td>11</td>\n",
       "    </tr>\n",
       "    <tr>\n",
       "      <th>Tahoe Transportation</th>\n",
       "      <td>9</td>\n",
       "    </tr>\n",
       "    <tr>\n",
       "      <th>Golden Gate Bridge Highway and Transportation District</th>\n",
       "      <td>9</td>\n",
       "    </tr>\n",
       "    <tr>\n",
       "      <th>Kern Transit</th>\n",
       "      <td>8</td>\n",
       "    </tr>\n",
       "    <tr>\n",
       "      <th>North County Transit District</th>\n",
       "      <td>7</td>\n",
       "    </tr>\n",
       "    <tr>\n",
       "      <th>Avocado Heights/Bassett/West Valinda Shuttle</th>\n",
       "      <td>7</td>\n",
       "    </tr>\n",
       "    <tr>\n",
       "      <th>Lake Transit</th>\n",
       "      <td>6</td>\n",
       "    </tr>\n",
       "  </tbody>\n",
       "</table>\n",
       "</div>"
      ],
      "text/plain": [
       "                                                        total_routes\n",
       "agency                                                              \n",
       "AC Transit                                                        34\n",
       "Metro                                                             30\n",
       "Marin Transit                                                     14\n",
       "Los Angeles Department of Transportation                          11\n",
       "Tahoe Transportation                                               9\n",
       "Golden Gate Bridge Highway and Transportation District             9\n",
       "Kern Transit                                                       8\n",
       "North County Transit District                                      7\n",
       "Avocado Heights/Bassett/West Valinda Shuttle                       7\n",
       "Lake Transit                                                       6"
      ]
     },
     "execution_count": 150,
     "metadata": {},
     "output_type": "execute_result"
    }
   ],
   "source": [
    "# Agencies with the most routes without coverage.\n",
    "(\n",
    "    overlay_df.groupby([\"agency\"])\n",
    "    .agg({\"route_id\": \"nunique\"})\n",
    "    .rename(columns={\"route_id\": \"total_routes\"})\n",
    "    .sort_values(\"total_routes\", ascending=False)\n",
    "    .head(10)\n",
    ")"
   ]
  },
  {
   "cell_type": "code",
   "execution_count": 123,
   "id": "6846f0be-f040-4ed8-9611-4cefff8c0e6f",
   "metadata": {},
   "outputs": [],
   "source": [
    "# List for unique itp_ids\n",
    "agencies_no_coverage = overlay_df[\"itp_id\"].unique().tolist()"
   ]
  },
  {
   "cell_type": "code",
   "execution_count": 170,
   "id": "c9428dd5-50c8-4259-9fb1-29dd471db633",
   "metadata": {},
   "outputs": [],
   "source": [
    "# List for unique route ids\n",
    "routes_no_coverage = overlay_df[\"route_id\"].unique().tolist()"
   ]
  },
  {
   "cell_type": "code",
   "execution_count": 125,
   "id": "ab651855-952f-460d-b846-c4e86380499f",
   "metadata": {},
   "outputs": [],
   "source": [
    "# List for unique route ids\n",
    "routes_no_coverage_name = overlay_df[\"route_name\"].unique().tolist()"
   ]
  },
  {
   "cell_type": "code",
   "execution_count": 126,
   "id": "29056f58-b61c-4e6a-9cfe-28fe4b7ad75a",
   "metadata": {
    "scrolled": true,
    "tags": []
   },
   "outputs": [],
   "source": [
    "# A table with all the itp id & agencies\n",
    "agency_df = overlay_df[[\"agency\", \"itp_id\"]].drop_duplicates().reset_index()"
   ]
  },
  {
   "cell_type": "code",
   "execution_count": 127,
   "id": "b2bfe84a-190e-4f20-9b85-81f424e1a540",
   "metadata": {},
   "outputs": [],
   "source": [
    "# Subset of overlap without geometry for when I wnat to preview the df\n",
    "overlay_df_no_geo = overlay_df[\n",
    "    [\"itp_id\", \"route_id\", \"shape_id\", \"route_type\", \"route_name\", \"agency\"]\n",
    "]"
   ]
  },
  {
   "cell_type": "code",
   "execution_count": 206,
   "id": "2c66611f-ea31-4e8a-9f75-a12c1b55b89d",
   "metadata": {
    "scrolled": true,
    "tags": []
   },
   "outputs": [
    {
     "data": {
      "text/html": [
       "<div>\n",
       "<style scoped>\n",
       "    .dataframe tbody tr th:only-of-type {\n",
       "        vertical-align: middle;\n",
       "    }\n",
       "\n",
       "    .dataframe tbody tr th {\n",
       "        vertical-align: top;\n",
       "    }\n",
       "\n",
       "    .dataframe thead th {\n",
       "        text-align: right;\n",
       "    }\n",
       "</style>\n",
       "<table border=\"1\" class=\"dataframe\">\n",
       "  <thead>\n",
       "    <tr style=\"text-align: right;\">\n",
       "      <th></th>\n",
       "      <th>itp_id</th>\n",
       "      <th>route_id</th>\n",
       "      <th>shape_id</th>\n",
       "      <th>route_type</th>\n",
       "      <th>route_name</th>\n",
       "      <th>agency</th>\n",
       "    </tr>\n",
       "  </thead>\n",
       "  <tbody>\n",
       "    <tr>\n",
       "      <th>0</th>\n",
       "      <td>4</td>\n",
       "      <td>19</td>\n",
       "      <td>shp-19-64</td>\n",
       "      <td>3</td>\n",
       "      <td>Buena Vista - Fruitvale</td>\n",
       "      <td>AC Transit</td>\n",
       "    </tr>\n",
       "    <tr>\n",
       "      <th>1</th>\n",
       "      <td>4</td>\n",
       "      <td>20</td>\n",
       "      <td>shp-20-03</td>\n",
       "      <td>3</td>\n",
       "      <td>Dimond - Fruitvale - South Shore</td>\n",
       "      <td>AC Transit</td>\n",
       "    </tr>\n",
       "    <tr>\n",
       "      <th>2</th>\n",
       "      <td>4</td>\n",
       "      <td>21</td>\n",
       "      <td>shp-21-20</td>\n",
       "      <td>3</td>\n",
       "      <td>Dimond - Fruitvale - Bay Farm</td>\n",
       "      <td>AC Transit</td>\n",
       "    </tr>\n",
       "    <tr>\n",
       "      <th>3</th>\n",
       "      <td>4</td>\n",
       "      <td>33</td>\n",
       "      <td>shp-33-17</td>\n",
       "      <td>3</td>\n",
       "      <td>Piedmont - Harrison - Park Blvd.</td>\n",
       "      <td>AC Transit</td>\n",
       "    </tr>\n",
       "    <tr>\n",
       "      <th>4</th>\n",
       "      <td>4</td>\n",
       "      <td>51A</td>\n",
       "      <td>shp-51A-17</td>\n",
       "      <td>3</td>\n",
       "      <td>Broadway - Santa Clara</td>\n",
       "      <td>AC Transit</td>\n",
       "    </tr>\n",
       "    <tr>\n",
       "      <th>5</th>\n",
       "      <td>4</td>\n",
       "      <td>606</td>\n",
       "      <td>shp-606-02</td>\n",
       "      <td>3</td>\n",
       "      <td>Head Royce - Piedmont</td>\n",
       "      <td>AC Transit</td>\n",
       "    </tr>\n",
       "    <tr>\n",
       "      <th>6</th>\n",
       "      <td>4</td>\n",
       "      <td>631</td>\n",
       "      <td>shp-631-03</td>\n",
       "      <td>3</td>\n",
       "      <td>Encinal - Alameda - Bay Farm</td>\n",
       "      <td>AC Transit</td>\n",
       "    </tr>\n",
       "    <tr>\n",
       "      <th>7</th>\n",
       "      <td>4</td>\n",
       "      <td>687</td>\n",
       "      <td>shp-687-01</td>\n",
       "      <td>3</td>\n",
       "      <td>Lincoln Middle - Bay Farm</td>\n",
       "      <td>AC Transit</td>\n",
       "    </tr>\n",
       "    <tr>\n",
       "      <th>8</th>\n",
       "      <td>4</td>\n",
       "      <td>688</td>\n",
       "      <td>shp-688-09</td>\n",
       "      <td>3</td>\n",
       "      <td>St. Mary's College - Montclair</td>\n",
       "      <td>AC Transit</td>\n",
       "    </tr>\n",
       "    <tr>\n",
       "      <th>9</th>\n",
       "      <td>4</td>\n",
       "      <td>701</td>\n",
       "      <td>shp-701-03</td>\n",
       "      <td>3</td>\n",
       "      <td>Pittsburg/BP Transbay Early Bird</td>\n",
       "      <td>AC Transit</td>\n",
       "    </tr>\n",
       "    <tr>\n",
       "      <th>10</th>\n",
       "      <td>4</td>\n",
       "      <td>702</td>\n",
       "      <td>shp-702-02</td>\n",
       "      <td>3</td>\n",
       "      <td>Pleas Hill Transbay Early Bird</td>\n",
       "      <td>AC Transit</td>\n",
       "    </tr>\n",
       "    <tr>\n",
       "      <th>11</th>\n",
       "      <td>4</td>\n",
       "      <td>703</td>\n",
       "      <td>shp-703-02</td>\n",
       "      <td>3</td>\n",
       "      <td>Dubl/Plsntn Transbay Early Bird</td>\n",
       "      <td>AC Transit</td>\n",
       "    </tr>\n",
       "    <tr>\n",
       "      <th>12</th>\n",
       "      <td>4</td>\n",
       "      <td>706</td>\n",
       "      <td>shp-706-04</td>\n",
       "      <td>3</td>\n",
       "      <td>Bay Fair Transbay Early Bird</td>\n",
       "      <td>AC Transit</td>\n",
       "    </tr>\n",
       "    <tr>\n",
       "      <th>13</th>\n",
       "      <td>4</td>\n",
       "      <td>707</td>\n",
       "      <td>shp-707-04</td>\n",
       "      <td>3</td>\n",
       "      <td>Fremont - Transbay Early Bird</td>\n",
       "      <td>AC Transit</td>\n",
       "    </tr>\n",
       "    <tr>\n",
       "      <th>14</th>\n",
       "      <td>4</td>\n",
       "      <td>78</td>\n",
       "      <td>shp-78-04</td>\n",
       "      <td>3</td>\n",
       "      <td>Fruitvale Bart\\ Ferry Terminal</td>\n",
       "      <td>AC Transit</td>\n",
       "    </tr>\n",
       "    <tr>\n",
       "      <th>15</th>\n",
       "      <td>4</td>\n",
       "      <td>800</td>\n",
       "      <td>shp-800-A4</td>\n",
       "      <td>3</td>\n",
       "      <td>Rich - Oak Transbay All Nighter</td>\n",
       "      <td>AC Transit</td>\n",
       "    </tr>\n",
       "    <tr>\n",
       "      <th>16</th>\n",
       "      <td>4</td>\n",
       "      <td>851</td>\n",
       "      <td>shp-851-13</td>\n",
       "      <td>3</td>\n",
       "      <td>College - Broadway All Nighter</td>\n",
       "      <td>AC Transit</td>\n",
       "    </tr>\n",
       "    <tr>\n",
       "      <th>17</th>\n",
       "      <td>4</td>\n",
       "      <td>96</td>\n",
       "      <td>shp-96-09</td>\n",
       "      <td>3</td>\n",
       "      <td>Alameda Pt. - 14th Ave. - Dimond</td>\n",
       "      <td>AC Transit</td>\n",
       "    </tr>\n",
       "    <tr>\n",
       "      <th>18</th>\n",
       "      <td>4</td>\n",
       "      <td>E</td>\n",
       "      <td>shp-E-04</td>\n",
       "      <td>3</td>\n",
       "      <td>Tunnel Rd. - Claremont Transbay</td>\n",
       "      <td>AC Transit</td>\n",
       "    </tr>\n",
       "    <tr>\n",
       "      <th>19</th>\n",
       "      <td>4</td>\n",
       "      <td>F</td>\n",
       "      <td>shp-F-24</td>\n",
       "      <td>3</td>\n",
       "      <td>Adeline - Market Transbay</td>\n",
       "      <td>AC Transit</td>\n",
       "    </tr>\n",
       "    <tr>\n",
       "      <th>20</th>\n",
       "      <td>4</td>\n",
       "      <td>FS</td>\n",
       "      <td>shp-FS-06</td>\n",
       "      <td>3</td>\n",
       "      <td>Shattuck - University Transbay</td>\n",
       "      <td>AC Transit</td>\n",
       "    </tr>\n",
       "    <tr>\n",
       "      <th>21</th>\n",
       "      <td>4</td>\n",
       "      <td>G</td>\n",
       "      <td>shp-G-54</td>\n",
       "      <td>3</td>\n",
       "      <td>Colusa - Solano Transbay</td>\n",
       "      <td>AC Transit</td>\n",
       "    </tr>\n",
       "    <tr>\n",
       "      <th>22</th>\n",
       "      <td>4</td>\n",
       "      <td>J</td>\n",
       "      <td>shp-J-07</td>\n",
       "      <td>3</td>\n",
       "      <td>Sacramento -  Christie Transbay</td>\n",
       "      <td>AC Transit</td>\n",
       "    </tr>\n",
       "    <tr>\n",
       "      <th>23</th>\n",
       "      <td>4</td>\n",
       "      <td>L</td>\n",
       "      <td>shp-L-56</td>\n",
       "      <td>3</td>\n",
       "      <td>San Pablo Transbay</td>\n",
       "      <td>AC Transit</td>\n",
       "    </tr>\n",
       "    <tr>\n",
       "      <th>24</th>\n",
       "      <td>4</td>\n",
       "      <td>LA</td>\n",
       "      <td>shp-LA-13</td>\n",
       "      <td>3</td>\n",
       "      <td>Hilltop - Pierce Transbay</td>\n",
       "      <td>AC Transit</td>\n",
       "    </tr>\n",
       "    <tr>\n",
       "      <th>25</th>\n",
       "      <td>4</td>\n",
       "      <td>NL</td>\n",
       "      <td>shp-NL-12</td>\n",
       "      <td>3</td>\n",
       "      <td>MacArthur Transbay Limited</td>\n",
       "      <td>AC Transit</td>\n",
       "    </tr>\n",
       "    <tr>\n",
       "      <th>26</th>\n",
       "      <td>4</td>\n",
       "      <td>NX</td>\n",
       "      <td>shp-NX-08</td>\n",
       "      <td>3</td>\n",
       "      <td>Grand Lake - Laurel  Transbay</td>\n",
       "      <td>AC Transit</td>\n",
       "    </tr>\n",
       "    <tr>\n",
       "      <th>27</th>\n",
       "      <td>4</td>\n",
       "      <td>NX3</td>\n",
       "      <td>shp-NX3-08</td>\n",
       "      <td>3</td>\n",
       "      <td>MacArthur - Eastmont Transbay</td>\n",
       "      <td>AC Transit</td>\n",
       "    </tr>\n",
       "    <tr>\n",
       "      <th>28</th>\n",
       "      <td>4</td>\n",
       "      <td>O</td>\n",
       "      <td>shp-O-53</td>\n",
       "      <td>3</td>\n",
       "      <td>Santa Clara - Encinal Transbay</td>\n",
       "      <td>AC Transit</td>\n",
       "    </tr>\n",
       "    <tr>\n",
       "      <th>29</th>\n",
       "      <td>4</td>\n",
       "      <td>OX</td>\n",
       "      <td>shp-OX-03</td>\n",
       "      <td>3</td>\n",
       "      <td>Bay Farm - Park St. Transbay</td>\n",
       "      <td>AC Transit</td>\n",
       "    </tr>\n",
       "    <tr>\n",
       "      <th>30</th>\n",
       "      <td>4</td>\n",
       "      <td>P</td>\n",
       "      <td>shp-P-05</td>\n",
       "      <td>3</td>\n",
       "      <td>Piedmont - Oakland Ave. Transbay</td>\n",
       "      <td>AC Transit</td>\n",
       "    </tr>\n",
       "    <tr>\n",
       "      <th>31</th>\n",
       "      <td>4</td>\n",
       "      <td>U</td>\n",
       "      <td>shp-U-06</td>\n",
       "      <td>3</td>\n",
       "      <td>Stanford - Dumbarton - Fremont</td>\n",
       "      <td>AC Transit</td>\n",
       "    </tr>\n",
       "    <tr>\n",
       "      <th>32</th>\n",
       "      <td>4</td>\n",
       "      <td>V</td>\n",
       "      <td>shp-V-07</td>\n",
       "      <td>3</td>\n",
       "      <td>Montclair - Park Blvd. Transbay</td>\n",
       "      <td>AC Transit</td>\n",
       "    </tr>\n",
       "    <tr>\n",
       "      <th>33</th>\n",
       "      <td>4</td>\n",
       "      <td>W</td>\n",
       "      <td>shp-W-06</td>\n",
       "      <td>3</td>\n",
       "      <td>High - South Shore Transbay</td>\n",
       "      <td>AC Transit</td>\n",
       "    </tr>\n",
       "  </tbody>\n",
       "</table>\n",
       "</div>"
      ],
      "text/plain": [
       "    itp_id route_id    shape_id route_type                        route_name  \\\n",
       "0        4       19   shp-19-64          3           Buena Vista - Fruitvale   \n",
       "1        4       20   shp-20-03          3  Dimond - Fruitvale - South Shore   \n",
       "2        4       21   shp-21-20          3     Dimond - Fruitvale - Bay Farm   \n",
       "3        4       33   shp-33-17          3  Piedmont - Harrison - Park Blvd.   \n",
       "4        4      51A  shp-51A-17          3            Broadway - Santa Clara   \n",
       "5        4      606  shp-606-02          3             Head Royce - Piedmont   \n",
       "6        4      631  shp-631-03          3      Encinal - Alameda - Bay Farm   \n",
       "7        4      687  shp-687-01          3         Lincoln Middle - Bay Farm   \n",
       "8        4      688  shp-688-09          3    St. Mary's College - Montclair   \n",
       "9        4      701  shp-701-03          3  Pittsburg/BP Transbay Early Bird   \n",
       "10       4      702  shp-702-02          3    Pleas Hill Transbay Early Bird   \n",
       "11       4      703  shp-703-02          3   Dubl/Plsntn Transbay Early Bird   \n",
       "12       4      706  shp-706-04          3      Bay Fair Transbay Early Bird   \n",
       "13       4      707  shp-707-04          3     Fremont - Transbay Early Bird   \n",
       "14       4       78   shp-78-04          3    Fruitvale Bart\\ Ferry Terminal   \n",
       "15       4      800  shp-800-A4          3   Rich - Oak Transbay All Nighter   \n",
       "16       4      851  shp-851-13          3    College - Broadway All Nighter   \n",
       "17       4       96   shp-96-09          3  Alameda Pt. - 14th Ave. - Dimond   \n",
       "18       4        E    shp-E-04          3   Tunnel Rd. - Claremont Transbay   \n",
       "19       4        F    shp-F-24          3         Adeline - Market Transbay   \n",
       "20       4       FS   shp-FS-06          3    Shattuck - University Transbay   \n",
       "21       4        G    shp-G-54          3          Colusa - Solano Transbay   \n",
       "22       4        J    shp-J-07          3   Sacramento -  Christie Transbay   \n",
       "23       4        L    shp-L-56          3                San Pablo Transbay   \n",
       "24       4       LA   shp-LA-13          3         Hilltop - Pierce Transbay   \n",
       "25       4       NL   shp-NL-12          3        MacArthur Transbay Limited   \n",
       "26       4       NX   shp-NX-08          3     Grand Lake - Laurel  Transbay   \n",
       "27       4      NX3  shp-NX3-08          3     MacArthur - Eastmont Transbay   \n",
       "28       4        O    shp-O-53          3    Santa Clara - Encinal Transbay   \n",
       "29       4       OX   shp-OX-03          3      Bay Farm - Park St. Transbay   \n",
       "30       4        P    shp-P-05          3  Piedmont - Oakland Ave. Transbay   \n",
       "31       4        U    shp-U-06          3    Stanford - Dumbarton - Fremont   \n",
       "32       4        V    shp-V-07          3   Montclair - Park Blvd. Transbay   \n",
       "33       4        W    shp-W-06          3       High - South Shore Transbay   \n",
       "\n",
       "        agency  \n",
       "0   AC Transit  \n",
       "1   AC Transit  \n",
       "2   AC Transit  \n",
       "3   AC Transit  \n",
       "4   AC Transit  \n",
       "5   AC Transit  \n",
       "6   AC Transit  \n",
       "7   AC Transit  \n",
       "8   AC Transit  \n",
       "9   AC Transit  \n",
       "10  AC Transit  \n",
       "11  AC Transit  \n",
       "12  AC Transit  \n",
       "13  AC Transit  \n",
       "14  AC Transit  \n",
       "15  AC Transit  \n",
       "16  AC Transit  \n",
       "17  AC Transit  \n",
       "18  AC Transit  \n",
       "19  AC Transit  \n",
       "20  AC Transit  \n",
       "21  AC Transit  \n",
       "22  AC Transit  \n",
       "23  AC Transit  \n",
       "24  AC Transit  \n",
       "25  AC Transit  \n",
       "26  AC Transit  \n",
       "27  AC Transit  \n",
       "28  AC Transit  \n",
       "29  AC Transit  \n",
       "30  AC Transit  \n",
       "31  AC Transit  \n",
       "32  AC Transit  \n",
       "33  AC Transit  "
      ]
     },
     "execution_count": 206,
     "metadata": {},
     "output_type": "execute_result"
    }
   ],
   "source": [
    "# Surprised by AC Transit\n",
    "overlay_df_no_geo.loc[overlay_df[\"agency\"] == \"AC Transit\"]"
   ]
  },
  {
   "cell_type": "markdown",
   "id": "791ef31f-d5f2-4fb9-9b8c-c17608665a8a",
   "metadata": {},
   "source": [
    "## Trips\n",
    "* How many trips are running for a route?"
   ]
  },
  {
   "cell_type": "code",
   "execution_count": 129,
   "id": "a59d46ca-2f8a-450d-8594-29d1719597a9",
   "metadata": {},
   "outputs": [],
   "source": [
    "trips_df = pd.read_parquet(\n",
    "    \"gs://calitp-analytics-data/data-analyses/rt_delay/compiled_cached_views/trips_2022-05-04_all.parquet\"\n",
    ")"
   ]
  },
  {
   "cell_type": "code",
   "execution_count": 130,
   "id": "a226aed5-ed0b-448b-a57b-ef8e3229bc55",
   "metadata": {},
   "outputs": [
    {
     "data": {
      "text/plain": [
       "(104934, 14)"
      ]
     },
     "execution_count": 130,
     "metadata": {},
     "output_type": "execute_result"
    }
   ],
   "source": [
    "trips_df.shape"
   ]
  },
  {
   "cell_type": "code",
   "execution_count": 131,
   "id": "59d2ab30-f737-4a22-8e99-eb673a383048",
   "metadata": {},
   "outputs": [
    {
     "data": {
      "text/html": [
       "<div>\n",
       "<style scoped>\n",
       "    .dataframe tbody tr th:only-of-type {\n",
       "        vertical-align: middle;\n",
       "    }\n",
       "\n",
       "    .dataframe tbody tr th {\n",
       "        vertical-align: top;\n",
       "    }\n",
       "\n",
       "    .dataframe thead th {\n",
       "        text-align: right;\n",
       "    }\n",
       "</style>\n",
       "<table border=\"1\" class=\"dataframe\">\n",
       "  <thead>\n",
       "    <tr style=\"text-align: right;\">\n",
       "      <th></th>\n",
       "      <th>calitp_itp_id</th>\n",
       "      <th>calitp_url_number</th>\n",
       "      <th>service_date</th>\n",
       "      <th>trip_key</th>\n",
       "      <th>trip_id</th>\n",
       "      <th>route_id</th>\n",
       "      <th>direction_id</th>\n",
       "      <th>shape_id</th>\n",
       "      <th>calitp_extracted_at</th>\n",
       "      <th>calitp_deleted_at</th>\n",
       "      <th>route_short_name</th>\n",
       "      <th>route_long_name</th>\n",
       "      <th>route_desc</th>\n",
       "      <th>route_type</th>\n",
       "    </tr>\n",
       "  </thead>\n",
       "  <tbody>\n",
       "    <tr>\n",
       "      <th>0</th>\n",
       "      <td>4</td>\n",
       "      <td>0</td>\n",
       "      <td>2022-05-04</td>\n",
       "      <td>1582047897989018365</td>\n",
       "      <td>272020</td>\n",
       "      <td>21</td>\n",
       "      <td>1</td>\n",
       "      <td>shp-21-23</td>\n",
       "      <td>2022-03-26</td>\n",
       "      <td>2099-01-01</td>\n",
       "      <td>21</td>\n",
       "      <td>Dimond - Fruitvale - Bay Farm</td>\n",
       "      <td>None</td>\n",
       "      <td>3</td>\n",
       "    </tr>\n",
       "  </tbody>\n",
       "</table>\n",
       "</div>"
      ],
      "text/plain": [
       "   calitp_itp_id  calitp_url_number service_date             trip_key trip_id  \\\n",
       "0              4                  0   2022-05-04  1582047897989018365  272020   \n",
       "\n",
       "  route_id direction_id   shape_id calitp_extracted_at calitp_deleted_at  \\\n",
       "0       21            1  shp-21-23          2022-03-26        2099-01-01   \n",
       "\n",
       "  route_short_name                route_long_name route_desc route_type  \n",
       "0               21  Dimond - Fruitvale - Bay Farm       None          3  "
      ]
     },
     "execution_count": 131,
     "metadata": {},
     "output_type": "execute_result"
    }
   ],
   "source": [
    "trips_df.head(1)"
   ]
  },
  {
   "cell_type": "code",
   "execution_count": 132,
   "id": "f46f123b-90bd-4fd5-98e9-08233839967d",
   "metadata": {},
   "outputs": [],
   "source": [
    "# Add agency name\n",
    "trips_df = pd.merge(\n",
    "    trips_df, agency_df, how=\"inner\", left_on=\"calitp_itp_id\", right_on=\"itp_id\"\n",
    ")"
   ]
  },
  {
   "cell_type": "code",
   "execution_count": 133,
   "id": "423612c3-b105-40de-bd9f-b0c264bdc8e4",
   "metadata": {},
   "outputs": [],
   "source": [
    "# Try to standardize route id for the 2 dfs\n",
    "overlay_df[\"route_id\"] = overlay_df[\"route_id\"].str.lower().str.strip()\n",
    "trips_df[\"route_id\"] = trips_df[\"route_id\"].str.lower().str.strip()"
   ]
  },
  {
   "cell_type": "code",
   "execution_count": 134,
   "id": "cab08b0b-820c-488e-be4c-a42880326e0f",
   "metadata": {},
   "outputs": [],
   "source": [
    "# Filter out for route IDS\n",
    "trips_df2 = trips_df[trips_df[\"route_id\"].isin(routes_no_coverage)]"
   ]
  },
  {
   "cell_type": "code",
   "execution_count": 135,
   "id": "ba5ce20f-6676-4134-bea9-36de3298e43d",
   "metadata": {},
   "outputs": [
    {
     "data": {
      "text/plain": [
       "'142 routes left after filtering trips_df compared to 239 routes in overlay.'"
      ]
     },
     "execution_count": 135,
     "metadata": {},
     "output_type": "execute_result"
    }
   ],
   "source": [
    "# So many route ids disappeared\n",
    "f'{trips_df2[\"route_id\"].nunique()} routes left after filtering trips_df compared to {len(routes_no_coverage)} routes in overlay.'"
   ]
  },
  {
   "cell_type": "code",
   "execution_count": 136,
   "id": "4bfb9324-4e03-4cca-9e42-abfbcb89b29e",
   "metadata": {
    "scrolled": true,
    "tags": []
   },
   "outputs": [],
   "source": [
    "# Checking which ones are missing.\n",
    "id_routes = set(routes_no_coverage)\n",
    "id_trips = set(trips_df2.route_id.unique().tolist())\n",
    "missing_routes = list(id_routes - id_trips)"
   ]
  },
  {
   "cell_type": "code",
   "execution_count": 138,
   "id": "7842374a-3253-48b3-8c55-231dfdac112b",
   "metadata": {},
   "outputs": [
    {
     "data": {
      "text/plain": [
       "'0.40585774058577406% of routes missing'"
      ]
     },
     "execution_count": 138,
     "metadata": {},
     "output_type": "execute_result"
    }
   ],
   "source": [
    "f\"{len(missing_routes)/len(routes_no_coverage)}% of routes missing\""
   ]
  },
  {
   "cell_type": "code",
   "execution_count": 140,
   "id": "2dc5c963-abbb-4111-9212-e62d65461e48",
   "metadata": {},
   "outputs": [],
   "source": [
    "# Sum up number of trips taken by route using trip id?\n",
    "trips_ran = (\n",
    "    trips_df2.groupby([\"calitp_itp_id\", \"route_long_name\", \"agency\"])\n",
    "    .agg({\"trip_id\": \"count\"})\n",
    "    .reset_index()\n",
    "    .rename(columns={\"trip_id\": \"total_trips\"})\n",
    ")"
   ]
  },
  {
   "cell_type": "code",
   "execution_count": 141,
   "id": "9eccbbaa-c548-4bd4-9a24-803bc1d83afb",
   "metadata": {
    "tags": []
   },
   "outputs": [
    {
     "data": {
      "text/plain": [
       "(167, 4)"
      ]
     },
     "execution_count": 141,
     "metadata": {},
     "output_type": "execute_result"
    }
   ],
   "source": [
    "trips_ran.shape"
   ]
  },
  {
   "cell_type": "code",
   "execution_count": 208,
   "id": "5019bd1a-cacd-4363-b7f9-34bb34ca5602",
   "metadata": {},
   "outputs": [],
   "source": [
    "# trips_ran"
   ]
  },
  {
   "cell_type": "code",
   "execution_count": 143,
   "id": "87a562b8-211d-4fa8-9709-e4522345200f",
   "metadata": {},
   "outputs": [
    {
     "data": {
      "text/plain": [
       "46"
      ]
     },
     "execution_count": 143,
     "metadata": {},
     "output_type": "execute_result"
    }
   ],
   "source": [
    "trips_ran[\"agency\"].nunique()"
   ]
  },
  {
   "cell_type": "markdown",
   "id": "58d32bd3-77af-42cb-8642-70ffaf122bad",
   "metadata": {},
   "source": [
    "## NTD "
   ]
  },
  {
   "cell_type": "code",
   "execution_count": 176,
   "id": "e38c791f-d293-4533-aa50-1cb6c55a70b4",
   "metadata": {},
   "outputs": [],
   "source": [
    "ntd_df = pd.read_excel(\n",
    "    f\"gs://calitp-analytics-data/data-analyses/5311 /2020-Vehicles_1.xlsm\",\n",
    "    sheet_name=\"Vehicle Type Count by Agency\",\n",
    ")"
   ]
  },
  {
   "cell_type": "code",
   "execution_count": 218,
   "id": "aa8600ef-162a-4541-80db-e0f5c9cbe19e",
   "metadata": {
    "scrolled": true,
    "tags": []
   },
   "outputs": [],
   "source": [
    "# ntd_df.columns"
   ]
  },
  {
   "cell_type": "code",
   "execution_count": 225,
   "id": "332d20dc-7fa6-416b-9471-297b0918e0f2",
   "metadata": {},
   "outputs": [],
   "source": [
    "# Only get bus related columns\n",
    "columns_wanted = [\n",
    "    \"Agency\",\n",
    "    \"City\",\n",
    "    \"State\",\n",
    "    \"Bus\",\n",
    "    \"Over-The-Road Bus\",\n",
    "    \"Articulated Bus\",\n",
    "    \"Double Decker Bus\",\n",
    "    \"School Bus\",\n",
    "    \"Van\",\n",
    "    \"Cutaway\",\n",
    "    \"Minivan\",\n",
    "]"
   ]
  },
  {
   "cell_type": "code",
   "execution_count": 226,
   "id": "d3c0b982-2163-46ac-94aa-db4d9b065c83",
   "metadata": {
    "scrolled": true,
    "tags": []
   },
   "outputs": [],
   "source": [
    "# Have to add snakecase after b/c some columns have integers\n",
    "ntd_df2 = to_snakecase(ntd_df[columns_wanted])"
   ]
  },
  {
   "cell_type": "code",
   "execution_count": 227,
   "id": "dfc6d6f1-7ee1-404f-8ad8-44ea76df3364",
   "metadata": {},
   "outputs": [],
   "source": [
    "# Only grab California\n",
    "ntd_df2 = ntd_df2.loc[ntd_df2[\"state\"] == \"CA\"]"
   ]
  },
  {
   "cell_type": "code",
   "execution_count": 228,
   "id": "b1c00981-ca14-4e0c-9803-4f4b9713bd88",
   "metadata": {
    "scrolled": true,
    "tags": []
   },
   "outputs": [],
   "source": [
    "# Add up buses\n",
    "ntd_df2[\"total_buses\"] = ntd_df2.sum(numeric_only=True, axis=1)"
   ]
  },
  {
   "cell_type": "code",
   "execution_count": 232,
   "id": "5e27058c-0b37-4b80-ad03-fc9373dbb13e",
   "metadata": {},
   "outputs": [],
   "source": [
    "# Drop agencies with 0 buses\n",
    "ntd_df2 = ntd_df2.loc[ntd_df2['total_buses'] !=0]"
   ]
  },
  {
   "cell_type": "code",
   "execution_count": 234,
   "id": "4fb54e53-0f86-460c-bb1b-06d5438871e7",
   "metadata": {
    "tags": []
   },
   "outputs": [
    {
     "data": {
      "text/plain": [
       "(218, 12)"
      ]
     },
     "execution_count": 234,
     "metadata": {},
     "output_type": "execute_result"
    }
   ],
   "source": [
    "ntd_df2.shape"
   ]
  }
 ],
 "metadata": {
  "kernelspec": {
   "display_name": "Python 3 (ipykernel)",
   "language": "python",
   "name": "python3"
  },
  "language_info": {
   "codemirror_mode": {
    "name": "ipython",
    "version": 3
   },
   "file_extension": ".py",
   "mimetype": "text/x-python",
   "name": "python",
   "nbconvert_exporter": "python",
   "pygments_lexer": "ipython3",
   "version": "3.10.5"
  }
 },
 "nbformat": 4,
 "nbformat_minor": 5
}
