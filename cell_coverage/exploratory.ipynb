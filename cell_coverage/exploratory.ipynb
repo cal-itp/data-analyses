{
 "cells": [
  {
   "cell_type": "markdown",
   "id": "45a4417c-94bb-44a6-8b81-18e1bc089855",
   "metadata": {},
   "source": [
    "# Exploring Cell Coverage of Routes\n",
    "* To do later: move data sources to a catalog\n",
    "* An agency here is defined: as a service and an operator..."
   ]
  },
  {
   "cell_type": "code",
   "execution_count": 1,
   "id": "c7090e49-e905-4a6d-be28-87ac39196793",
   "metadata": {},
   "outputs": [
    {
     "name": "stderr",
     "output_type": "stream",
     "text": [
      "/opt/conda/lib/python3.10/site-packages/geopandas/_compat.py:112: UserWarning: The Shapely GEOS version (3.10.3-CAPI-1.16.1) is incompatible with the GEOS version PyGEOS was compiled with (3.10.1-CAPI-1.16.0). Conversions between both will be slow.\n"
     ]
    }
   ],
   "source": [
    "import numpy as np\n",
    "import pandas as pd\n",
    "from calitp import *\n",
    "from shared_utils import utils\n",
    "\n",
    "# Geometry\n",
    "from shared_utils import geography_utils\n",
    "import contextily as cx\n",
    "import geopandas as gpd\n",
    "\n",
    "\n",
    "# Read in zip files\n",
    "import fsspec\n",
    "\n",
    "# Display \n",
    "from IPython.display import HTML, Image, Markdown, display, display_html"
   ]
  },
  {
   "cell_type": "code",
   "execution_count": 2,
   "id": "b393271a-9e5f-4772-b28e-25ae7414c54b",
   "metadata": {},
   "outputs": [],
   "source": [
    "pd.options.display.max_columns = 100\n",
    "pd.options.display.float_format = \"{:.2f}\".format\n",
    "pd.set_option(\"display.max_rows\", None)\n",
    "pd.set_option(\"display.max_colwidth\", None)"
   ]
  },
  {
   "cell_type": "code",
   "execution_count": 3,
   "id": "140cf451-4eba-4a2f-b7d9-dee7ce3e0a43",
   "metadata": {},
   "outputs": [],
   "source": [
    "GCS_FILE_PATH = \"gs://calitp-analytics-data/data-analyses/cellular_coverage/\""
   ]
  },
  {
   "cell_type": "markdown",
   "id": "59e9b3a0-d867-4eaa-8471-d6cdc1c69aff",
   "metadata": {},
   "source": [
    "## California County Borders"
   ]
  },
  {
   "cell_type": "code",
   "execution_count": 4,
   "id": "4bab8736-8279-4e0f-b629-5ac4b19b1b18",
   "metadata": {},
   "outputs": [],
   "source": [
    "ca_gdf = gpd.read_file(\n",
    "    \"https://opendata.arcgis.com/datasets/8713ced9b78a4abb97dc130a691a8695_0.geojson\"\n",
    ")"
   ]
  },
  {
   "cell_type": "markdown",
   "id": "a53ce7d4-69e5-4d59-a198-33d742a67dcd",
   "metadata": {},
   "source": [
    "## FCC AT&T Data Map \n",
    "* Testing with AT&T first."
   ]
  },
  {
   "cell_type": "code",
   "execution_count": 5,
   "id": "e32ab21e-ce01-4d7a-af57-0de8dcea4f2f",
   "metadata": {},
   "outputs": [],
   "source": [
    "PATH = f\"{GCS_FILE_PATH}ATT_Mobility_LTE_Data.zip\""
   ]
  },
  {
   "cell_type": "code",
   "execution_count": 6,
   "id": "0f0c1590-b746-4563-8b44-799f8220e138",
   "metadata": {},
   "outputs": [],
   "source": [
    "with fsspec.open(PATH) as file:\n",
    "    fcc_gdf = gpd.read_file(file)"
   ]
  },
  {
   "cell_type": "code",
   "execution_count": 7,
   "id": "daf24a98-370a-4afd-b4ae-8d85406a380f",
   "metadata": {},
   "outputs": [
    {
     "data": {
      "text/plain": [
       "(582, 5)"
      ]
     },
     "execution_count": 7,
     "metadata": {},
     "output_type": "execute_result"
    }
   ],
   "source": [
    "fcc_gdf.shape"
   ]
  },
  {
   "cell_type": "markdown",
   "id": "5b1a6c49-e971-496c-93ed-bd625210f8ea",
   "metadata": {},
   "source": [
    "### Clip AT&T map to only include California Counties"
   ]
  },
  {
   "cell_type": "code",
   "execution_count": 8,
   "id": "c8f0c1f9-c972-46fc-9a13-299c2a065955",
   "metadata": {},
   "outputs": [
    {
     "data": {
      "text/plain": [
       "True"
      ]
     },
     "execution_count": 8,
     "metadata": {},
     "output_type": "execute_result"
    }
   ],
   "source": [
    "# Check that they are the same CRS\n",
    "fcc_gdf.crs == ca_gdf.crs"
   ]
  },
  {
   "cell_type": "code",
   "execution_count": 9,
   "id": "b1a7a2b8-fd69-4efd-a6e3-16b24099374d",
   "metadata": {},
   "outputs": [],
   "source": [
    "fcc_ca_gdf = gpd.clip(fcc_gdf, ca_gdf)"
   ]
  },
  {
   "cell_type": "code",
   "execution_count": 10,
   "id": "577ba51b-4c10-4e2f-b7bb-46cf0bfd042d",
   "metadata": {},
   "outputs": [
    {
     "data": {
      "text/plain": [
       "(36, 5)"
      ]
     },
     "execution_count": 10,
     "metadata": {},
     "output_type": "execute_result"
    }
   ],
   "source": [
    "# Check that it worked\n",
    "fcc_ca_gdf.shape"
   ]
  },
  {
   "cell_type": "code",
   "execution_count": 11,
   "id": "516d2746-aee4-4691-8d9d-0cce14ffb155",
   "metadata": {},
   "outputs": [],
   "source": [
    "# fcc_ca_gdf.plot(figsize =(40, 20))"
   ]
  },
  {
   "cell_type": "markdown",
   "id": "86d3af28-c18c-49e0-9c58-7c7317906fbd",
   "metadata": {},
   "source": [
    "## Trip Routes "
   ]
  },
  {
   "cell_type": "code",
   "execution_count": 12,
   "id": "e5d9d4e8-28ff-4f38-ab0f-8fc434af7d48",
   "metadata": {},
   "outputs": [],
   "source": [
    "routes_df = gpd.read_parquet(\n",
    "    \"gs://calitp-analytics-data/data-analyses/traffic_ops/ca_transit_routes.parquet\")"
   ]
  },
  {
   "cell_type": "code",
   "execution_count": 13,
   "id": "e2c0c601-1243-4537-85fa-24793e326726",
   "metadata": {},
   "outputs": [
    {
     "data": {
      "text/plain": [
       "3    7397\n",
       "2     183\n",
       "0     119\n",
       "4      57\n",
       "5      31\n",
       "1       4\n",
       "Name: route_type, dtype: int64"
      ]
     },
     "execution_count": 13,
     "metadata": {},
     "output_type": "execute_result"
    }
   ],
   "source": [
    "# What does route type mean?\n",
    "routes_df['route_type'].value_counts()"
   ]
  },
  {
   "cell_type": "code",
   "execution_count": 14,
   "id": "c136d800-66ff-4cec-b122-3e9068a2c733",
   "metadata": {},
   "outputs": [],
   "source": [
    "cols_without_geometry = ['agency','route_name', 'itp_id', 'route_id', 'shape_id', 'route_type',\n",
    "       ]"
   ]
  },
  {
   "cell_type": "code",
   "execution_count": 15,
   "id": "ad911e02-18e6-42eb-a965-8ac7d6afabc5",
   "metadata": {
    "scrolled": true,
    "tags": []
   },
   "outputs": [],
   "source": [
    "# Drop Amtrak\n",
    "routes_df2 = routes_df.loc[routes_df['agency'] !=  'Amtrak']"
   ]
  },
  {
   "cell_type": "code",
   "execution_count": 17,
   "id": "05060eb8-cbd9-45a0-ae1c-e8fe124e5749",
   "metadata": {},
   "outputs": [],
   "source": [
    "# Drop Bay Area Ferry Service - ferry only\n",
    "routes_df2 = routes_df2.loc[routes_df2['agency'] != 'San Francisco Bay Ferry']"
   ]
  },
  {
   "cell_type": "code",
   "execution_count": null,
   "id": "cc26264d-8b48-4ab6-bf99-b5bca0df6b02",
   "metadata": {},
   "outputs": [],
   "source": [
    "# Drop routes for ferry - DOUBLE CHECK THESE REALLY ARE FERRY ROUTES\n",
    "routes_df2[(routes_df2.route_name.str.contains(\"Ferry\", case=False))]"
   ]
  },
  {
   "cell_type": "code",
   "execution_count": null,
   "id": "ce6a08e3-f8d6-4534-8d36-a65e14b2a71e",
   "metadata": {},
   "outputs": [],
   "source": [
    "f'{len(routes_df2)} rows left after dropping - compared to {len(routes_df)} rows before.'"
   ]
  },
  {
   "cell_type": "code",
   "execution_count": null,
   "id": "0c6e0c41-69be-4b22-b55d-942fc4f7c8f6",
   "metadata": {},
   "outputs": [],
   "source": [
    "# Fill in NA for route names and agency names\n",
    "routes_df2[['agency','route_name']] = routes_df2[['agency','route_name']].fillna('None')"
   ]
  },
  {
   "cell_type": "code",
   "execution_count": null,
   "id": "b85108e8-655e-4a79-a156-9417c23dbcf6",
   "metadata": {},
   "outputs": [],
   "source": [
    "f'{routes_df2.route_id.nunique()} unique route ids, {routes_df2.route_name.nunique()} different names, and {routes_df2.shape_id.nunique()} different shape ids.'"
   ]
  },
  {
   "cell_type": "code",
   "execution_count": null,
   "id": "c826fba3-5d84-4390-9287-14d1a5e40540",
   "metadata": {},
   "outputs": [],
   "source": [
    "# Keep only one instance of a unique ITP ID - Route ID - Route Type combination \n",
    "routes_df3 = routes_df2.drop_duplicates(subset=['itp_id','route_id', 'route_type'])"
   ]
  },
  {
   "cell_type": "code",
   "execution_count": null,
   "id": "4f053b59-f363-4a18-9241-cfc679367235",
   "metadata": {},
   "outputs": [],
   "source": [
    "# Reset index after dropping\n",
    "routes_df3 = routes_df3.reset_index()"
   ]
  },
  {
   "cell_type": "code",
   "execution_count": null,
   "id": "1b19e60e-64ba-449a-a6cb-09c3d1464c63",
   "metadata": {},
   "outputs": [],
   "source": [
    "routes_df3.shape"
   ]
  },
  {
   "cell_type": "markdown",
   "id": "4665adab-5b3e-4d95-b7fe-b2461829f513",
   "metadata": {},
   "source": [
    "## Overlay \n",
    "* I want to obtain routes that are NOT contained in the AT & T coverage map.\n",
    "* https://geopandas.org/en/stable/docs/user_guide/set_operations.html"
   ]
  },
  {
   "cell_type": "code",
   "execution_count": null,
   "id": "d19338f0-6309-43bb-8065-0eaf5a746f03",
   "metadata": {},
   "outputs": [],
   "source": [
    "# Check that they are the same CRS\n",
    "fcc_ca_gdf.crs == routes_df3.crs"
   ]
  },
  {
   "cell_type": "code",
   "execution_count": null,
   "id": "011e319f-61b1-4e5a-a09e-de1643403ab9",
   "metadata": {},
   "outputs": [],
   "source": [
    "overlay_df = routes_df3.overlay(fcc_ca_gdf, how='difference')"
   ]
  },
  {
   "cell_type": "code",
   "execution_count": null,
   "id": "3e355b79-a656-46dc-9bab-2f19f6451a09",
   "metadata": {},
   "outputs": [],
   "source": [
    "overlay_df.shape"
   ]
  },
  {
   "cell_type": "code",
   "execution_count": null,
   "id": "5b4abb9a-407f-4fc1-9368-36f5c05ad8e7",
   "metadata": {},
   "outputs": [],
   "source": [
    "# Map\n",
    "overlay_df_map = overlay_df.to_crs(epsg=3857)"
   ]
  },
  {
   "cell_type": "code",
   "execution_count": null,
   "id": "93535bde-9b6a-4719-8e9c-76dc9b7d29b1",
   "metadata": {},
   "outputs": [],
   "source": [
    "# Change to overlay later\n",
    "cx.add_basemap(overlay_df_map.plot(figsize =(16,12), markersize = 30))"
   ]
  },
  {
   "cell_type": "code",
   "execution_count": null,
   "id": "f01462fd-8676-489d-889b-05386a7a4109",
   "metadata": {
    "tags": []
   },
   "outputs": [],
   "source": [
    "display(Markdown(f'''There are {overlay_df['route_id'].nunique()} routes w/o AT&T coverage, compared to {routes_df2.route_id.nunique()}\n",
    "total routes in the original dataframe.\n",
    "''' ))"
   ]
  },
  {
   "cell_type": "code",
   "execution_count": null,
   "id": "d012ce6c-7489-48be-a503-cec7c6dc22f5",
   "metadata": {
    "scrolled": true,
    "tags": []
   },
   "outputs": [],
   "source": [
    "# Previewing the routes left\n",
    "# overlay_df[cols_without_geometry].sort_values('route_name')"
   ]
  },
  {
   "cell_type": "code",
   "execution_count": null,
   "id": "10e69b3b-26dc-4399-a497-7b244797ae14",
   "metadata": {
    "tags": []
   },
   "outputs": [],
   "source": [
    "# Agencies with the most routes without coverage. \n",
    "overlay_df.groupby(['agency']).agg({'route_id':'nunique'}).rename(columns = {'route_id':'total_routes'}).sort_values('total_routes', ascending = False).head(10)"
   ]
  },
  {
   "cell_type": "markdown",
   "id": "791ef31f-d5f2-4fb9-9b8c-c17608665a8a",
   "metadata": {},
   "source": [
    "## Trip Stops"
   ]
  },
  {
   "cell_type": "code",
   "execution_count": null,
   "id": "cd810890-2b08-46b5-a14b-040cd3b4633d",
   "metadata": {},
   "outputs": [],
   "source": [
    "stops_df = gpd.read_parquet(\n",
    "    \"gs://calitp-analytics-data/data-analyses/traffic_ops/ca_transit_stops.parquet\")"
   ]
  },
  {
   "cell_type": "code",
   "execution_count": null,
   "id": "0344fe78-6092-40c4-a341-2325313be0bc",
   "metadata": {},
   "outputs": [],
   "source": [
    "stops_df.head(2)"
   ]
  },
  {
   "cell_type": "code",
   "execution_count": null,
   "id": "2dce03aa-deb1-4725-b2d6-d6abfd2af849",
   "metadata": {},
   "outputs": [],
   "source": [
    "stops_df.shape"
   ]
  },
  {
   "cell_type": "code",
   "execution_count": null,
   "id": "6846f0be-f040-4ed8-9611-4cefff8c0e6f",
   "metadata": {},
   "outputs": [],
   "source": [
    "# Filter out for only routes in overlay_df\n",
    "route_id_without_cell = overlay_df['route_id'].unique().tolist()"
   ]
  },
  {
   "cell_type": "code",
   "execution_count": null,
   "id": "7a95d01b-8451-4da1-b723-c3ee28f56b82",
   "metadata": {},
   "outputs": [],
   "source": [
    "stops_df2 = stops_df[stops_df[\"route_id\"].isin(route_id_without_cell)]"
   ]
  },
  {
   "cell_type": "code",
   "execution_count": null,
   "id": "2e9461fa-2c0f-48b7-99f2-8fdf79e80a2c",
   "metadata": {},
   "outputs": [],
   "source": [
    "f'{stops_df2.route_id.nunique()} route ids in trip stops dataframe compared to {overlay_df.route_id.nunique()} trip routes dataframe above...strange.'"
   ]
  },
  {
   "cell_type": "code",
   "execution_count": null,
   "id": "2f350460-abbd-429e-9a1d-d0823a95d6a3",
   "metadata": {},
   "outputs": [],
   "source": [
    "# What the missing route ids?\n",
    "routes_df_id = set(route_id_without_cell)\n",
    "trips_df_id = set(stops_df.route_id.unique().tolist())\n",
    "routes_df_id - trips_df_id"
   ]
  },
  {
   "cell_type": "code",
   "execution_count": null,
   "id": "1f16aed4-1896-400d-9d9a-a512d60514e2",
   "metadata": {
    "scrolled": true,
    "tags": []
   },
   "outputs": [],
   "source": [
    "total_stops_df = stops_df2.groupby(['agency','route_name']).agg({'stop_id':'count'}).reset_index().rename(columns = {'stop_id':'total_stops'}) "
   ]
  },
  {
   "cell_type": "code",
   "execution_count": null,
   "id": "b1c10e7a-6c75-4d07-8126-1393d723e25e",
   "metadata": {},
   "outputs": [],
   "source": [
    "len(total_stops_df)"
   ]
  },
  {
   "cell_type": "code",
   "execution_count": null,
   "id": "8652aa4a-7af4-4fcb-adff-8ce2e105ec4d",
   "metadata": {
    "scrolled": true,
    "tags": []
   },
   "outputs": [],
   "source": [
    "# total_stops_df"
   ]
  }
 ],
 "metadata": {
  "kernelspec": {
   "display_name": "Python 3 (ipykernel)",
   "language": "python",
   "name": "python3"
  },
  "language_info": {
   "codemirror_mode": {
    "name": "ipython",
    "version": 3
   },
   "file_extension": ".py",
   "mimetype": "text/x-python",
   "name": "python",
   "nbconvert_exporter": "python",
   "pygments_lexer": "ipython3",
   "version": "3.10.5"
  }
 },
 "nbformat": 4,
 "nbformat_minor": 5
}
