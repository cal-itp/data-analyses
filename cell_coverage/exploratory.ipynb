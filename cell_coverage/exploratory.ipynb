{
 "cells": [
  {
   "cell_type": "markdown",
   "id": "45a4417c-94bb-44a6-8b81-18e1bc089855",
   "metadata": {},
   "source": [
    "# Exploring Cell Coverage of Routes\n",
    "* To do later: move data sources to a catalog\n",
    "* An agency here is defined: as a service and an operator..."
   ]
  },
  {
   "cell_type": "code",
   "execution_count": 1,
   "id": "c7090e49-e905-4a6d-be28-87ac39196793",
   "metadata": {},
   "outputs": [
    {
     "name": "stderr",
     "output_type": "stream",
     "text": [
      "/opt/conda/lib/python3.10/site-packages/geopandas/_compat.py:112: UserWarning: The Shapely GEOS version (3.10.3-CAPI-1.16.1) is incompatible with the GEOS version PyGEOS was compiled with (3.10.1-CAPI-1.16.0). Conversions between both will be slow.\n",
      "  warnings.warn(\n"
     ]
    }
   ],
   "source": [
    "# Read in zip files\n",
    "import fsspec\n",
    "\n",
    "# Other\n",
    "import geopandas as gpd\n",
    "import numpy as np\n",
    "import pandas as pd\n",
    "# import shared_utils\n",
    "from calitp import *\n",
    "\n",
    "# Display\n",
    "from IPython.display import HTML, Image, Markdown, display, display_html\n",
    "\n",
    "# Geometry\n",
    "from shared_utils import geography_utils"
   ]
  },
  {
   "cell_type": "code",
   "execution_count": 2,
   "id": "b393271a-9e5f-4772-b28e-25ae7414c54b",
   "metadata": {},
   "outputs": [],
   "source": [
    "pd.options.display.max_columns = 100\n",
    "pd.options.display.float_format = \"{:.2f}\".format\n",
    "pd.set_option(\"display.max_rows\", None)\n",
    "pd.set_option(\"display.max_colwidth\", None)"
   ]
  },
  {
   "cell_type": "code",
   "execution_count": 3,
   "id": "140cf451-4eba-4a2f-b7d9-dee7ce3e0a43",
   "metadata": {},
   "outputs": [],
   "source": [
    "GCS_FILE_PATH = \"gs://calitp-analytics-data/data-analyses/cellular_coverage/\""
   ]
  },
  {
   "cell_type": "markdown",
   "id": "59e9b3a0-d867-4eaa-8471-d6cdc1c69aff",
   "metadata": {},
   "source": [
    "## California County Borders"
   ]
  },
  {
   "cell_type": "code",
   "execution_count": 4,
   "id": "4bab8736-8279-4e0f-b629-5ac4b19b1b18",
   "metadata": {},
   "outputs": [],
   "source": [
    "ca_gdf = gpd.read_file(\n",
    "    \"https://opendata.arcgis.com/datasets/8713ced9b78a4abb97dc130a691a8695_0.geojson\"\n",
    ")"
   ]
  },
  {
   "cell_type": "markdown",
   "id": "86d3af28-c18c-49e0-9c58-7c7317906fbd",
   "metadata": {
    "tags": []
   },
   "source": [
    "## Trip Routes "
   ]
  },
  {
   "cell_type": "code",
   "execution_count": 5,
   "id": "e5d9d4e8-28ff-4f38-ab0f-8fc434af7d48",
   "metadata": {},
   "outputs": [],
   "source": [
    "routes_df = gpd.read_parquet(\n",
    "    \"gs://calitp-analytics-data/data-analyses/traffic_ops/ca_transit_routes.parquet\"\n",
    ")"
   ]
  },
  {
   "cell_type": "code",
   "execution_count": 6,
   "id": "e2c0c601-1243-4537-85fa-24793e326726",
   "metadata": {},
   "outputs": [
    {
     "data": {
      "text/plain": [
       "3    107417\n",
       "0      3892\n",
       "1      1322\n",
       "2       710\n",
       "5       514\n",
       "4       241\n",
       "Name: route_type, dtype: int64"
      ]
     },
     "execution_count": 6,
     "metadata": {},
     "output_type": "execute_result"
    }
   ],
   "source": [
    "routes_df[\"route_type\"].value_counts()"
   ]
  },
  {
   "cell_type": "code",
   "execution_count": 7,
   "id": "a284bec7-335c-4445-8478-f6618464ce50",
   "metadata": {},
   "outputs": [],
   "source": [
    "routes_subset = routes_df[[\"route_type\", \"route_name\", \"agency\"]]"
   ]
  },
  {
   "cell_type": "code",
   "execution_count": 8,
   "id": "c136d800-66ff-4cec-b122-3e9068a2c733",
   "metadata": {},
   "outputs": [],
   "source": [
    "cols_without_geometry = [\n",
    "    \"agency\",\n",
    "    \"route_name\",\n",
    "    \"itp_id\",\n",
    "    \"route_id\",\n",
    "    \"shape_id\",\n",
    "    \"route_type\",\n",
    "]"
   ]
  },
  {
   "cell_type": "code",
   "execution_count": 9,
   "id": "ad911e02-18e6-42eb-a965-8ac7d6afabc5",
   "metadata": {
    "scrolled": true,
    "tags": []
   },
   "outputs": [],
   "source": [
    "# Drop Amtrak\n",
    "routes_df2 = routes_df.loc[routes_df[\"agency\"] != \"Amtrak\"]"
   ]
  },
  {
   "cell_type": "code",
   "execution_count": 10,
   "id": "162e08fa-076b-4f25-8e7e-54c9db36de76",
   "metadata": {},
   "outputs": [],
   "source": [
    "# Filter for only bus routes\n",
    "routes_df2 = routes_df.loc[routes_df[\"route_type\"] == \"3\"]"
   ]
  },
  {
   "cell_type": "code",
   "execution_count": 11,
   "id": "7fa770c0-ed7c-4c08-a546-443a6f2521d3",
   "metadata": {},
   "outputs": [],
   "source": [
    "# routes_df2[['agency','route_name']].sample(10)"
   ]
  },
  {
   "cell_type": "code",
   "execution_count": 12,
   "id": "ce6a08e3-f8d6-4534-8d36-a65e14b2a71e",
   "metadata": {},
   "outputs": [
    {
     "data": {
      "text/plain": [
       "'107417 rows left after dropping - compared to 114096 rows before.'"
      ]
     },
     "execution_count": 12,
     "metadata": {},
     "output_type": "execute_result"
    }
   ],
   "source": [
    "f\"{len(routes_df2)} rows left after dropping - compared to {len(routes_df)} rows before.\""
   ]
  },
  {
   "cell_type": "code",
   "execution_count": 13,
   "id": "ed00895a-59be-4d3a-8d19-db399f43854f",
   "metadata": {},
   "outputs": [
    {
     "data": {
      "text/plain": [
       "1730"
      ]
     },
     "execution_count": 13,
     "metadata": {},
     "output_type": "execute_result"
    }
   ],
   "source": [
    "routes_df2['route_id'].nunique()"
   ]
  },
  {
   "cell_type": "code",
   "execution_count": 14,
   "id": "0c6e0c41-69be-4b22-b55d-942fc4f7c8f6",
   "metadata": {},
   "outputs": [
    {
     "name": "stderr",
     "output_type": "stream",
     "text": [
      "/opt/conda/lib/python3.10/site-packages/geopandas/geodataframe.py:1472: SettingWithCopyWarning: \n",
      "A value is trying to be set on a copy of a slice from a DataFrame.\n",
      "Try using .loc[row_indexer,col_indexer] = value instead\n",
      "\n",
      "See the caveats in the documentation: https://pandas.pydata.org/pandas-docs/stable/user_guide/indexing.html#returning-a-view-versus-a-copy\n"
     ]
    }
   ],
   "source": [
    "# Fill in NA for route names and agency names\n",
    "routes_df2[[\"agency\", \"route_name\"]] = routes_df2[[\"agency\", \"route_name\"]].fillna(\"NA\")"
   ]
  },
  {
   "cell_type": "code",
   "execution_count": 15,
   "id": "c826fba3-5d84-4390-9287-14d1a5e40540",
   "metadata": {},
   "outputs": [],
   "source": [
    "# Keep only one row per route_id\n",
    "# is there another way I should pick each route?\n",
    "routes_df3 = routes_df2.drop_duplicates(subset=[\"route_id\" ])"
   ]
  },
  {
   "cell_type": "code",
   "execution_count": 16,
   "id": "3166c1a6-a2d2-431f-928a-f49fe72457a1",
   "metadata": {},
   "outputs": [],
   "source": [
    "# Keep only one instance of a unique ITP ID - route_name combo\n",
    "routes_df3 = routes_df3.drop_duplicates(subset=[\"itp_id\", \"route_name\"])"
   ]
  },
  {
   "cell_type": "code",
   "execution_count": 17,
   "id": "4f053b59-f363-4a18-9241-cfc679367235",
   "metadata": {},
   "outputs": [],
   "source": [
    "# Reset index after dropping\n",
    "routes_df3 = routes_df3.reset_index()"
   ]
  },
  {
   "cell_type": "code",
   "execution_count": 18,
   "id": "b85108e8-655e-4a79-a156-9417c23dbcf6",
   "metadata": {},
   "outputs": [
    {
     "data": {
      "text/plain": [
       "'1467 unique route ids, 1415 different route names, and 1447 different shape ids.'"
      ]
     },
     "execution_count": 18,
     "metadata": {},
     "output_type": "execute_result"
    }
   ],
   "source": [
    "f\"{routes_df3.route_id.nunique()} unique route ids, {routes_df3.route_name.nunique()} different route names, and {routes_df3.shape_id.nunique()} different shape ids.\""
   ]
  },
  {
   "cell_type": "code",
   "execution_count": 19,
   "id": "60d81868-7223-40b7-8abc-f34a8f4bdd84",
   "metadata": {
    "scrolled": true,
    "tags": []
   },
   "outputs": [],
   "source": [
    "# routes_df3[['agency','route_name', 'route_id']].head(20).sort_values('route_name')"
   ]
  },
  {
   "cell_type": "code",
   "execution_count": 20,
   "id": "1b19e60e-64ba-449a-a6cb-09c3d1464c63",
   "metadata": {},
   "outputs": [
    {
     "data": {
      "text/plain": [
       "(1467, 8)"
      ]
     },
     "execution_count": 20,
     "metadata": {},
     "output_type": "execute_result"
    }
   ],
   "source": [
    "routes_df3.shape"
   ]
  },
  {
   "cell_type": "code",
   "execution_count": 21,
   "id": "9b6198c8-558e-4a86-874b-8ba051b2bed0",
   "metadata": {
    "scrolled": true,
    "tags": []
   },
   "outputs": [],
   "source": [
    "# Test a single route that goes through 2 counties\n",
    "# This one goes through San Francisco & Marin.\n",
    "single_route = routes_df3.loc[routes_df3['route_name'] == 'via Civic Center']"
   ]
  },
  {
   "cell_type": "code",
   "execution_count": 22,
   "id": "28543f8e-fdbc-44c7-90de-df7fc3bc5b54",
   "metadata": {},
   "outputs": [],
   "source": [
    "# Reproject\n",
    "ca_gdf2 = ca_gdf.to_crs(\"epsg:3395\")\n",
    "single_route = single_route.to_crs(\"epsg:3395\")"
   ]
  },
  {
   "cell_type": "markdown",
   "id": "a53ce7d4-69e5-4d59-a198-33d742a67dcd",
   "metadata": {},
   "source": [
    "## FCC AT&T Data Map \n",
    "* Testing with AT&T first."
   ]
  },
  {
   "cell_type": "markdown",
   "id": "5b1a6c49-e971-496c-93ed-bd625210f8ea",
   "metadata": {},
   "source": [
    "### Clip AT&T map to only include California Counties"
   ]
  },
  {
   "cell_type": "code",
   "execution_count": 23,
   "id": "c8f0c1f9-c972-46fc-9a13-299c2a065955",
   "metadata": {},
   "outputs": [],
   "source": [
    "def create_california_coverage(file_zip_name:str, new_file_name:str):\n",
    "    \n",
    "    # Open zip file first\n",
    "    PATH = f\"{GCS_FILE_PATH}{file_zip_name}\"\n",
    "    with fsspec.open(PATH) as file:\n",
    "        fcc_gdf = gpd.read_file(file)\n",
    "    \n",
    "    # Open file with California Counties.\n",
    "    ca_gdf = gpd.read_file(\n",
    "    \"https://opendata.arcgis.com/datasets/8713ced9b78a4abb97dc130a691a8695_0.geojson\")\n",
    "\n",
    "    # Clip \n",
    "    fcc_ca_gdf = gpd.clip(fcc_gdf, ca_gdf)\n",
    "\n",
    "    # Save this into a parquet so don't have to clip all the time\n",
    "    utils.geoparquet_gcs_export(fcc_ca_gdf, GCS_FILE_PATH, new_file_name)\n"
   ]
  },
  {
   "cell_type": "code",
   "execution_count": 24,
   "id": "a63b5add-90ef-452b-9ac1-9193cdc633eb",
   "metadata": {},
   "outputs": [],
   "source": [
    "# Open\n",
    "fcc_ca_gdf = gpd.read_parquet(\n",
    "    \"gs://calitp-analytics-data/data-analyses/cellular_coverage/AT_T_Data_California_Only.parquet\"\n",
    ")"
   ]
  },
  {
   "cell_type": "code",
   "execution_count": 25,
   "id": "aa4c6d4a-e412-44cf-bb15-bce0677f57eb",
   "metadata": {},
   "outputs": [],
   "source": [
    "# fcc_ca_gdf.plot(figsize = (30,12))"
   ]
  },
  {
   "cell_type": "markdown",
   "id": "4665adab-5b3e-4d95-b7fe-b2461829f513",
   "metadata": {},
   "source": [
    "## Overlay \n",
    "* I want to obtain routes that are NOT contained in the AT & T coverage map.\n",
    "* https://geopandas.org/en/stable/docs/user_guide/set_operations.html\n",
    "* To obtain the geometries that are part of df1 but are not contained in df2, you can use how='difference'."
   ]
  },
  {
   "cell_type": "code",
   "execution_count": 26,
   "id": "d19338f0-6309-43bb-8065-0eaf5a746f03",
   "metadata": {},
   "outputs": [
    {
     "data": {
      "text/plain": [
       "True"
      ]
     },
     "execution_count": 26,
     "metadata": {},
     "output_type": "execute_result"
    }
   ],
   "source": [
    "# Check that they are the same CRS\n",
    "fcc_ca_gdf.crs == routes_df3.crs"
   ]
  },
  {
   "cell_type": "code",
   "execution_count": 165,
   "id": "6b2debfe-aebe-4838-b35e-2a6529d686fd",
   "metadata": {},
   "outputs": [
    {
     "data": {
      "text/plain": [
       "<Derived Projected CRS: EPSG:3395>\n",
       "Name: WGS 84 / World Mercator\n",
       "Axis Info [cartesian]:\n",
       "- E[east]: Easting (metre)\n",
       "- N[north]: Northing (metre)\n",
       "Area of Use:\n",
       "- name: World between 80°S and 84°N.\n",
       "- bounds: (-180.0, -80.0, 180.0, 84.0)\n",
       "Coordinate Operation:\n",
       "- name: World Mercator\n",
       "- method: Mercator (variant A)\n",
       "Datum: World Geodetic System 1984 ensemble\n",
       "- Ellipsoid: WGS 84\n",
       "- Prime Meridian: Greenwich"
      ]
     },
     "execution_count": 165,
     "metadata": {},
     "output_type": "execute_result"
    }
   ],
   "source": [
    "fcc_ca_gdf.crs"
   ]
  },
  {
   "cell_type": "code",
   "execution_count": 130,
   "id": "011e319f-61b1-4e5a-a09e-de1643403ab9",
   "metadata": {},
   "outputs": [],
   "source": [
    "# Testing with intersection per Tiffany's suggestion\n",
    "overlay_df  = routes_df3.overlay(fcc_ca_gdf, how=\"intersection\", keep_geom_type= \"false\")"
   ]
  },
  {
   "cell_type": "code",
   "execution_count": 163,
   "id": "e4704b1f-08c1-45ab-ac52-882421a47b38",
   "metadata": {},
   "outputs": [],
   "source": [
    "# But difference still shows...how can these 2 things be possible at the same time?\n",
    "overlay_df_diff= routes_df3.overlay(fcc_ca_gdf, how=\"difference\", keep_geom_type= \"false\")"
   ]
  },
  {
   "cell_type": "code",
   "execution_count": 164,
   "id": "f01462fd-8676-489d-889b-05386a7a4109",
   "metadata": {
    "tags": []
   },
   "outputs": [
    {
     "data": {
      "text/markdown": [
       "There are 1467 routes (run by 141 different agencies) \n",
       "       that intersects w/ the AT&T coverage map. However there are 232 routes when \n",
       "       setting how to difference. In comparison, there are 1467 total routes in the original dataframe."
      ],
      "text/plain": [
       "<IPython.core.display.Markdown object>"
      ]
     },
     "metadata": {},
     "output_type": "display_data"
    }
   ],
   "source": [
    "display(\n",
    "    Markdown(\n",
    "        f\"\"\"There are {overlay_df['route_id'].nunique()} routes (run by {overlay_df['agency'].nunique()} different agencies) \n",
    "       that intersects w/ the AT&T coverage map. However there are {overlay_df_diff['route_id'].nunique()} routes when \n",
    "       setting how to difference. In comparison, there are {routes_df3.route_id.nunique()} total routes in the original dataframe.\"\"\"\n",
    "    )\n",
    ")"
   ]
  },
  {
   "cell_type": "code",
   "execution_count": 131,
   "id": "3e355b79-a656-46dc-9bab-2f19f6451a09",
   "metadata": {},
   "outputs": [
    {
     "data": {
      "text/plain": [
       "(1646, 12)"
      ]
     },
     "execution_count": 131,
     "metadata": {},
     "output_type": "execute_result"
    }
   ],
   "source": [
    "overlay_df.shape"
   ]
  },
  {
   "cell_type": "code",
   "execution_count": 134,
   "id": "d012ce6c-7489-48be-a503-cec7c6dc22f5",
   "metadata": {
    "scrolled": true,
    "tags": []
   },
   "outputs": [],
   "source": [
    "# Previewing the routes left\n",
    "# overlay_df[cols_without_geometry].sort_values('route_name')"
   ]
  },
  {
   "cell_type": "code",
   "execution_count": 135,
   "id": "10e69b3b-26dc-4399-a497-7b244797ae14",
   "metadata": {
    "tags": []
   },
   "outputs": [
    {
     "data": {
      "text/html": [
       "<div>\n",
       "<style scoped>\n",
       "    .dataframe tbody tr th:only-of-type {\n",
       "        vertical-align: middle;\n",
       "    }\n",
       "\n",
       "    .dataframe tbody tr th {\n",
       "        vertical-align: top;\n",
       "    }\n",
       "\n",
       "    .dataframe thead th {\n",
       "        text-align: right;\n",
       "    }\n",
       "</style>\n",
       "<table border=\"1\" class=\"dataframe\">\n",
       "  <thead>\n",
       "    <tr style=\"text-align: right;\">\n",
       "      <th></th>\n",
       "      <th>total_routes</th>\n",
       "    </tr>\n",
       "    <tr>\n",
       "      <th>agency</th>\n",
       "      <th></th>\n",
       "    </tr>\n",
       "  </thead>\n",
       "  <tbody>\n",
       "    <tr>\n",
       "      <th>AC Transit</th>\n",
       "      <td>130</td>\n",
       "    </tr>\n",
       "    <tr>\n",
       "      <th>Metro</th>\n",
       "      <td>112</td>\n",
       "    </tr>\n",
       "    <tr>\n",
       "      <th>Ojai Trolley</th>\n",
       "      <td>57</td>\n",
       "    </tr>\n",
       "    <tr>\n",
       "      <th>MUNI</th>\n",
       "      <td>56</td>\n",
       "    </tr>\n",
       "    <tr>\n",
       "      <th>San Diego Metropolitan Transit System</th>\n",
       "      <td>52</td>\n",
       "    </tr>\n",
       "    <tr>\n",
       "      <th>SamTrans</th>\n",
       "      <td>48</td>\n",
       "    </tr>\n",
       "    <tr>\n",
       "      <th>Los Angeles Department of Transportation</th>\n",
       "      <td>45</td>\n",
       "    </tr>\n",
       "    <tr>\n",
       "      <th>Sacramento Regional Transit District</th>\n",
       "      <td>40</td>\n",
       "    </tr>\n",
       "    <tr>\n",
       "      <th>Foothill Transit</th>\n",
       "      <td>35</td>\n",
       "    </tr>\n",
       "    <tr>\n",
       "      <th>Irvine Shuttle</th>\n",
       "      <td>32</td>\n",
       "    </tr>\n",
       "  </tbody>\n",
       "</table>\n",
       "</div>"
      ],
      "text/plain": [
       "                                          total_routes\n",
       "agency                                                \n",
       "AC Transit                                         130\n",
       "Metro                                              112\n",
       "Ojai Trolley                                        57\n",
       "MUNI                                                56\n",
       "San Diego Metropolitan Transit System               52\n",
       "SamTrans                                            48\n",
       "Los Angeles Department of Transportation            45\n",
       "Sacramento Regional Transit District                40\n",
       "Foothill Transit                                    35\n",
       "Irvine Shuttle                                      32"
      ]
     },
     "execution_count": 135,
     "metadata": {},
     "output_type": "execute_result"
    }
   ],
   "source": [
    "# Agencies with the most routes\n",
    "(\n",
    "    overlay_df.groupby([\"agency\"])\n",
    "    .agg({\"route_id\": \"nunique\"})\n",
    "    .rename(columns={\"route_id\": \"total_routes\"})\n",
    "    .sort_values(\"total_routes\", ascending=False)\n",
    "    .head(10)\n",
    ")"
   ]
  },
  {
   "cell_type": "code",
   "execution_count": 136,
   "id": "6846f0be-f040-4ed8-9611-4cefff8c0e6f",
   "metadata": {},
   "outputs": [],
   "source": [
    "# List for unique itp_ids\n",
    "agencies_no_coverage = overlay_df[\"itp_id\"].unique().tolist()"
   ]
  },
  {
   "cell_type": "code",
   "execution_count": 137,
   "id": "c9428dd5-50c8-4259-9fb1-29dd471db633",
   "metadata": {},
   "outputs": [],
   "source": [
    "# List for unique route ids\n",
    "routes_no_coverage = overlay_df[\"route_id\"].unique().tolist()"
   ]
  },
  {
   "cell_type": "code",
   "execution_count": 138,
   "id": "ab651855-952f-460d-b846-c4e86380499f",
   "metadata": {},
   "outputs": [],
   "source": [
    "# List for unique route ids\n",
    "routes_no_coverage_name = overlay_df[\"route_name\"].unique().tolist()"
   ]
  },
  {
   "cell_type": "code",
   "execution_count": 139,
   "id": "29056f58-b61c-4e6a-9cfe-28fe4b7ad75a",
   "metadata": {
    "scrolled": true,
    "tags": []
   },
   "outputs": [],
   "source": [
    "# A table with all the itp id & agencies\n",
    "agency_df = overlay_df[[\"agency\", \"itp_id\"]].drop_duplicates().reset_index()"
   ]
  },
  {
   "cell_type": "code",
   "execution_count": 140,
   "id": "b2bfe84a-190e-4f20-9b85-81f424e1a540",
   "metadata": {},
   "outputs": [],
   "source": [
    "# Subset of overlap without geometry for when I wnat to preview the df\n",
    "overlay_df_no_geo = overlay_df[\n",
    "    [\"itp_id\", \"route_id\", \"shape_id\", \"route_type\", \"route_name\", \"agency\"]\n",
    "]"
   ]
  },
  {
   "cell_type": "code",
   "execution_count": 141,
   "id": "2c66611f-ea31-4e8a-9f75-a12c1b55b89d",
   "metadata": {
    "scrolled": true,
    "tags": []
   },
   "outputs": [],
   "source": [
    "# Surprised by AC Transit\n",
    "# overlay_df_no_geo.loc[overlay_df[\"agency\"] == \"AC Transit\"]"
   ]
  },
  {
   "cell_type": "markdown",
   "id": "791ef31f-d5f2-4fb9-9b8c-c17608665a8a",
   "metadata": {},
   "source": [
    "## Trips\n",
    "* How many trips are running for a route?"
   ]
  },
  {
   "cell_type": "code",
   "execution_count": 142,
   "id": "a59d46ca-2f8a-450d-8594-29d1719597a9",
   "metadata": {},
   "outputs": [],
   "source": [
    "trips_df = pd.read_parquet(\n",
    "    \"gs://calitp-analytics-data/data-analyses/rt_delay/compiled_cached_views/trips_2022-05-04_all.parquet\"\n",
    ")"
   ]
  },
  {
   "cell_type": "code",
   "execution_count": 143,
   "id": "a226aed5-ed0b-448b-a57b-ef8e3229bc55",
   "metadata": {},
   "outputs": [
    {
     "data": {
      "text/plain": [
       "(104934, 14)"
      ]
     },
     "execution_count": 143,
     "metadata": {},
     "output_type": "execute_result"
    }
   ],
   "source": [
    "trips_df.shape"
   ]
  },
  {
   "cell_type": "code",
   "execution_count": 144,
   "id": "59d2ab30-f737-4a22-8e99-eb673a383048",
   "metadata": {},
   "outputs": [
    {
     "data": {
      "text/html": [
       "<div>\n",
       "<style scoped>\n",
       "    .dataframe tbody tr th:only-of-type {\n",
       "        vertical-align: middle;\n",
       "    }\n",
       "\n",
       "    .dataframe tbody tr th {\n",
       "        vertical-align: top;\n",
       "    }\n",
       "\n",
       "    .dataframe thead th {\n",
       "        text-align: right;\n",
       "    }\n",
       "</style>\n",
       "<table border=\"1\" class=\"dataframe\">\n",
       "  <thead>\n",
       "    <tr style=\"text-align: right;\">\n",
       "      <th></th>\n",
       "      <th>calitp_itp_id</th>\n",
       "      <th>calitp_url_number</th>\n",
       "      <th>service_date</th>\n",
       "      <th>trip_key</th>\n",
       "      <th>trip_id</th>\n",
       "      <th>route_id</th>\n",
       "      <th>direction_id</th>\n",
       "      <th>shape_id</th>\n",
       "      <th>calitp_extracted_at</th>\n",
       "      <th>calitp_deleted_at</th>\n",
       "      <th>route_short_name</th>\n",
       "      <th>route_long_name</th>\n",
       "      <th>route_desc</th>\n",
       "      <th>route_type</th>\n",
       "    </tr>\n",
       "  </thead>\n",
       "  <tbody>\n",
       "    <tr>\n",
       "      <th>0</th>\n",
       "      <td>4</td>\n",
       "      <td>0</td>\n",
       "      <td>2022-05-04</td>\n",
       "      <td>1582047897989018365</td>\n",
       "      <td>272020</td>\n",
       "      <td>21</td>\n",
       "      <td>1</td>\n",
       "      <td>shp-21-23</td>\n",
       "      <td>2022-03-26</td>\n",
       "      <td>2099-01-01</td>\n",
       "      <td>21</td>\n",
       "      <td>Dimond - Fruitvale - Bay Farm</td>\n",
       "      <td>None</td>\n",
       "      <td>3</td>\n",
       "    </tr>\n",
       "  </tbody>\n",
       "</table>\n",
       "</div>"
      ],
      "text/plain": [
       "   calitp_itp_id  calitp_url_number service_date             trip_key trip_id  \\\n",
       "0              4                  0   2022-05-04  1582047897989018365  272020   \n",
       "\n",
       "  route_id direction_id   shape_id calitp_extracted_at calitp_deleted_at  \\\n",
       "0       21            1  shp-21-23          2022-03-26        2099-01-01   \n",
       "\n",
       "  route_short_name                route_long_name route_desc route_type  \n",
       "0               21  Dimond - Fruitvale - Bay Farm       None          3  "
      ]
     },
     "execution_count": 144,
     "metadata": {},
     "output_type": "execute_result"
    }
   ],
   "source": [
    "trips_df.head(1)"
   ]
  },
  {
   "cell_type": "code",
   "execution_count": 145,
   "id": "f46f123b-90bd-4fd5-98e9-08233839967d",
   "metadata": {},
   "outputs": [],
   "source": [
    "# Add agency name\n",
    "trips_df = pd.merge(\n",
    "    trips_df, agency_df, how=\"inner\", left_on=\"calitp_itp_id\", right_on=\"itp_id\"\n",
    ")"
   ]
  },
  {
   "cell_type": "code",
   "execution_count": 146,
   "id": "423612c3-b105-40de-bd9f-b0c264bdc8e4",
   "metadata": {},
   "outputs": [],
   "source": [
    "# Try to standardize route id for the 2 dfs\n",
    "overlay_df[\"route_id\"] = overlay_df[\"route_id\"].str.lower().str.strip()\n",
    "trips_df[\"route_id\"] = trips_df[\"route_id\"].str.lower().str.strip()"
   ]
  },
  {
   "cell_type": "code",
   "execution_count": 147,
   "id": "cab08b0b-820c-488e-be4c-a42880326e0f",
   "metadata": {},
   "outputs": [],
   "source": [
    "# Filter out for route IDS\n",
    "trips_df2 = trips_df[trips_df[\"route_id\"].isin(routes_no_coverage)]"
   ]
  },
  {
   "cell_type": "code",
   "execution_count": 148,
   "id": "ba5ce20f-6676-4134-bea9-36de3298e43d",
   "metadata": {},
   "outputs": [
    {
     "data": {
      "text/plain": [
       "'901 routes left after filtering trips_df compared to 1467 routes in overlay.'"
      ]
     },
     "execution_count": 148,
     "metadata": {},
     "output_type": "execute_result"
    }
   ],
   "source": [
    "# So many route ids disappeared\n",
    "f'{trips_df2[\"route_id\"].nunique()} routes left after filtering trips_df compared to {len(routes_no_coverage)} routes in overlay.'"
   ]
  },
  {
   "cell_type": "code",
   "execution_count": 149,
   "id": "4bfb9324-4e03-4cca-9e42-abfbcb89b29e",
   "metadata": {
    "scrolled": true,
    "tags": []
   },
   "outputs": [],
   "source": [
    "# Checking which ones are missing.\n",
    "id_routes = set(routes_no_coverage)\n",
    "id_trips = set(trips_df2.route_id.unique().tolist())\n",
    "missing_routes = list(id_routes - id_trips)"
   ]
  },
  {
   "cell_type": "code",
   "execution_count": 150,
   "id": "7842374a-3253-48b3-8c55-231dfdac112b",
   "metadata": {},
   "outputs": [
    {
     "data": {
      "text/plain": [
       "'0.3858214042263122% of routes missing'"
      ]
     },
     "execution_count": 150,
     "metadata": {},
     "output_type": "execute_result"
    }
   ],
   "source": [
    "f\"{len(missing_routes)/len(routes_no_coverage)}% of routes missing\""
   ]
  },
  {
   "cell_type": "code",
   "execution_count": 151,
   "id": "2dc5c963-abbb-4111-9212-e62d65461e48",
   "metadata": {},
   "outputs": [],
   "source": [
    "# Sum up number of trips taken by route using trip id?\n",
    "trips_ran = (\n",
    "    trips_df2.groupby([\"calitp_itp_id\", \"route_long_name\", \"agency\"])\n",
    "    .agg({\"trip_id\": \"count\"})\n",
    "    .reset_index()\n",
    "    .rename(columns={\"trip_id\": \"total_trips\"})\n",
    ")"
   ]
  },
  {
   "cell_type": "code",
   "execution_count": 152,
   "id": "9eccbbaa-c548-4bd4-9a24-803bc1d83afb",
   "metadata": {
    "tags": []
   },
   "outputs": [
    {
     "data": {
      "text/plain": [
       "(1405, 4)"
      ]
     },
     "execution_count": 152,
     "metadata": {},
     "output_type": "execute_result"
    }
   ],
   "source": [
    "trips_ran.shape"
   ]
  },
  {
   "cell_type": "code",
   "execution_count": 153,
   "id": "5019bd1a-cacd-4363-b7f9-34bb34ca5602",
   "metadata": {},
   "outputs": [],
   "source": [
    "# trips_ran"
   ]
  },
  {
   "cell_type": "code",
   "execution_count": 154,
   "id": "87a562b8-211d-4fa8-9709-e4522345200f",
   "metadata": {},
   "outputs": [
    {
     "data": {
      "text/plain": [
       "100"
      ]
     },
     "execution_count": 154,
     "metadata": {},
     "output_type": "execute_result"
    }
   ],
   "source": [
    "trips_ran[\"agency\"].nunique()"
   ]
  },
  {
   "cell_type": "markdown",
   "id": "58d32bd3-77af-42cb-8642-70ffaf122bad",
   "metadata": {},
   "source": [
    "## NTD "
   ]
  },
  {
   "cell_type": "code",
   "execution_count": 155,
   "id": "e38c791f-d293-4533-aa50-1cb6c55a70b4",
   "metadata": {},
   "outputs": [],
   "source": [
    "ntd_df = pd.read_excel(\n",
    "    f\"gs://calitp-analytics-data/data-analyses/5311 /2020-Vehicles_1.xlsm\",\n",
    "    sheet_name=\"Vehicle Type Count by Agency\",\n",
    ")"
   ]
  },
  {
   "cell_type": "code",
   "execution_count": 156,
   "id": "aa8600ef-162a-4541-80db-e0f5c9cbe19e",
   "metadata": {
    "scrolled": true,
    "tags": []
   },
   "outputs": [],
   "source": [
    "# ntd_df.columns"
   ]
  },
  {
   "cell_type": "code",
   "execution_count": 157,
   "id": "332d20dc-7fa6-416b-9471-297b0918e0f2",
   "metadata": {},
   "outputs": [],
   "source": [
    "# Only get bus related columns\n",
    "columns_wanted = [\n",
    "    \"Agency\",\n",
    "    \"City\",\n",
    "    \"State\",\n",
    "    \"Bus\",\n",
    "    \"Over-The-Road Bus\",\n",
    "    \"Articulated Bus\",\n",
    "    \"Double Decker Bus\",\n",
    "    \"School Bus\",\n",
    "    \"Van\",\n",
    "    \"Cutaway\",\n",
    "    \"Minivan\",\n",
    "]"
   ]
  },
  {
   "cell_type": "code",
   "execution_count": 158,
   "id": "d3c0b982-2163-46ac-94aa-db4d9b065c83",
   "metadata": {
    "scrolled": true,
    "tags": []
   },
   "outputs": [],
   "source": [
    "# Have to add snakecase after b/c some columns have integers\n",
    "ntd_df2 = to_snakecase(ntd_df[columns_wanted])"
   ]
  },
  {
   "cell_type": "code",
   "execution_count": 159,
   "id": "dfc6d6f1-7ee1-404f-8ad8-44ea76df3364",
   "metadata": {},
   "outputs": [],
   "source": [
    "# Only grab California\n",
    "ntd_df2 = ntd_df2.loc[ntd_df2[\"state\"] == \"CA\"]"
   ]
  },
  {
   "cell_type": "code",
   "execution_count": 160,
   "id": "b1c00981-ca14-4e0c-9803-4f4b9713bd88",
   "metadata": {
    "scrolled": true,
    "tags": []
   },
   "outputs": [],
   "source": [
    "# Add up buses\n",
    "ntd_df2[\"total_buses\"] = ntd_df2.sum(numeric_only=True, axis=1)"
   ]
  },
  {
   "cell_type": "code",
   "execution_count": 161,
   "id": "5e27058c-0b37-4b80-ad03-fc9373dbb13e",
   "metadata": {},
   "outputs": [],
   "source": [
    "# Drop agencies with 0 buses\n",
    "ntd_df2 = ntd_df2.loc[ntd_df2['total_buses'] !=0]"
   ]
  },
  {
   "cell_type": "code",
   "execution_count": 162,
   "id": "4fb54e53-0f86-460c-bb1b-06d5438871e7",
   "metadata": {
    "tags": []
   },
   "outputs": [
    {
     "data": {
      "text/plain": [
       "(218, 12)"
      ]
     },
     "execution_count": 162,
     "metadata": {},
     "output_type": "execute_result"
    }
   ],
   "source": [
    "ntd_df2.shape"
   ]
  }
 ],
 "metadata": {
  "kernelspec": {
   "display_name": "Python 3 (ipykernel)",
   "language": "python",
   "name": "python3"
  },
  "language_info": {
   "codemirror_mode": {
    "name": "ipython",
    "version": 3
   },
   "file_extension": ".py",
   "mimetype": "text/x-python",
   "name": "python",
   "nbconvert_exporter": "python",
   "pygments_lexer": "ipython3",
   "version": "3.10.5"
  }
 },
 "nbformat": 4,
 "nbformat_minor": 5
}
