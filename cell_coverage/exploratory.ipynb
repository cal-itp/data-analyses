{
 "cells": [
  {
   "cell_type": "markdown",
   "id": "45a4417c-94bb-44a6-8b81-18e1bc089855",
   "metadata": {},
   "source": [
    "# Exploring Cell Coverage of Routes\n",
    "* To do later: move data sources to a catalog\n",
    "* An agency here is defined: as a service and an operator..."
   ]
  },
  {
   "cell_type": "code",
   "execution_count": 151,
   "id": "c7090e49-e905-4a6d-be28-87ac39196793",
   "metadata": {},
   "outputs": [],
   "source": [
    "# from shared_utils import utils\n",
    "import datetime as dt\n",
    "import os\n",
    "\n",
    "# Read in zip files\n",
    "import fsspec\n",
    "\n",
    "# Warehouse\n",
    "# import calitp.magics\n",
    "import geopandas as gpd\n",
    "import numpy as np\n",
    "import pandas as pd\n",
    "import shared_utils\n",
    "from calitp import magics, query_sql\n",
    "from calitp.tables import tbl\n",
    "\n",
    "# Display\n",
    "from IPython.display import HTML, Image, Markdown, display, display_html\n",
    "\n",
    "# Geometry\n",
    "from shared_utils import geography_utils\n",
    "from siuba import *\n",
    "\n",
    "os.environ[\"CALITP_BQ_MAX_BYTES\"] = str(800_000_000_000)"
   ]
  },
  {
   "cell_type": "code",
   "execution_count": 72,
   "id": "b393271a-9e5f-4772-b28e-25ae7414c54b",
   "metadata": {},
   "outputs": [],
   "source": [
    "pd.options.display.max_columns = 100\n",
    "pd.options.display.float_format = \"{:.2f}\".format\n",
    "pd.set_option(\"display.max_rows\", None)\n",
    "pd.set_option(\"display.max_colwidth\", None)"
   ]
  },
  {
   "cell_type": "code",
   "execution_count": 73,
   "id": "140cf451-4eba-4a2f-b7d9-dee7ce3e0a43",
   "metadata": {},
   "outputs": [],
   "source": [
    "GCS_FILE_PATH = \"gs://calitp-analytics-data/data-analyses/cellular_coverage/\""
   ]
  },
  {
   "cell_type": "markdown",
   "id": "59e9b3a0-d867-4eaa-8471-d6cdc1c69aff",
   "metadata": {},
   "source": [
    "## California County Borders"
   ]
  },
  {
   "cell_type": "code",
   "execution_count": 74,
   "id": "4bab8736-8279-4e0f-b629-5ac4b19b1b18",
   "metadata": {},
   "outputs": [],
   "source": [
    "ca_gdf = gpd.read_file(\n",
    "    \"https://opendata.arcgis.com/datasets/8713ced9b78a4abb97dc130a691a8695_0.geojson\"\n",
    ")"
   ]
  },
  {
   "cell_type": "markdown",
   "id": "86d3af28-c18c-49e0-9c58-7c7317906fbd",
   "metadata": {
    "tags": []
   },
   "source": [
    "## Trip Routes "
   ]
  },
  {
   "cell_type": "code",
   "execution_count": 75,
   "id": "e5d9d4e8-28ff-4f38-ab0f-8fc434af7d48",
   "metadata": {},
   "outputs": [],
   "source": [
    "routes_df = gpd.read_parquet(\n",
    "    \"gs://calitp-analytics-data/data-analyses/traffic_ops/ca_transit_routes.parquet\"\n",
    ")"
   ]
  },
  {
   "cell_type": "code",
   "execution_count": 76,
   "id": "e2c0c601-1243-4537-85fa-24793e326726",
   "metadata": {},
   "outputs": [
    {
     "data": {
      "text/plain": [
       "3    7397\n",
       "2     183\n",
       "0     119\n",
       "4      57\n",
       "5      31\n",
       "1       4\n",
       "Name: route_type, dtype: int64"
      ]
     },
     "execution_count": 76,
     "metadata": {},
     "output_type": "execute_result"
    }
   ],
   "source": [
    "# What does route type mean?\n",
    "routes_df[\"route_type\"].value_counts()"
   ]
  },
  {
   "cell_type": "code",
   "execution_count": 77,
   "id": "c136d800-66ff-4cec-b122-3e9068a2c733",
   "metadata": {},
   "outputs": [],
   "source": [
    "cols_without_geometry = [\n",
    "    \"agency\",\n",
    "    \"route_name\",\n",
    "    \"itp_id\",\n",
    "    \"route_id\",\n",
    "    \"shape_id\",\n",
    "    \"route_type\",\n",
    "]"
   ]
  },
  {
   "cell_type": "code",
   "execution_count": 78,
   "id": "ad911e02-18e6-42eb-a965-8ac7d6afabc5",
   "metadata": {
    "scrolled": true,
    "tags": []
   },
   "outputs": [],
   "source": [
    "# Drop Amtrak\n",
    "routes_df2 = routes_df.loc[routes_df[\"agency\"] != \"Amtrak\"]"
   ]
  },
  {
   "cell_type": "code",
   "execution_count": 79,
   "id": "05060eb8-cbd9-45a0-ae1c-e8fe124e5749",
   "metadata": {},
   "outputs": [],
   "source": [
    "# Drop Bay Area Ferry Service - ferry only\n",
    "routes_df2 = routes_df2.loc[routes_df2[\"agency\"] != \"San Francisco Bay Ferry\"]"
   ]
  },
  {
   "cell_type": "code",
   "execution_count": 80,
   "id": "e6366d43-61d4-42ef-9e31-32dba2c70d19",
   "metadata": {},
   "outputs": [],
   "source": [
    "# Maybe drop these route names:\n",
    "# Tiburon to Angel Island Ferry\n",
    "# Tiburon - San Francisco Ferry\n",
    "# Treasure Island Ferry"
   ]
  },
  {
   "cell_type": "code",
   "execution_count": 81,
   "id": "ce6a08e3-f8d6-4534-8d36-a65e14b2a71e",
   "metadata": {},
   "outputs": [
    {
     "data": {
      "text/plain": [
       "'7632 rows left after dropping - compared to 7791 rows before.'"
      ]
     },
     "execution_count": 81,
     "metadata": {},
     "output_type": "execute_result"
    }
   ],
   "source": [
    "f\"{len(routes_df2)} rows left after dropping - compared to {len(routes_df)} rows before.\""
   ]
  },
  {
   "cell_type": "code",
   "execution_count": 82,
   "id": "0c6e0c41-69be-4b22-b55d-942fc4f7c8f6",
   "metadata": {},
   "outputs": [],
   "source": [
    "# Fill in NA for route names and agency names\n",
    "routes_df2[[\"agency\", \"route_name\"]] = routes_df2[[\"agency\", \"route_name\"]].fillna(\n",
    "    \"None\"\n",
    ")"
   ]
  },
  {
   "cell_type": "code",
   "execution_count": 83,
   "id": "c826fba3-5d84-4390-9287-14d1a5e40540",
   "metadata": {},
   "outputs": [],
   "source": [
    "# Keep only one instance of a unique ITP ID - Route ID - Route Type combination\n",
    "routes_df3 = routes_df2.drop_duplicates(subset=[\"itp_id\", \"route_id\", \"route_type\"])"
   ]
  },
  {
   "cell_type": "code",
   "execution_count": 84,
   "id": "3166c1a6-a2d2-431f-928a-f49fe72457a1",
   "metadata": {},
   "outputs": [],
   "source": [
    "# Keep only one instance of a unique ITP ID - route_name combo\n",
    "routes_df3 = routes_df3.drop_duplicates(subset=[\"itp_id\", \"route_name\"])"
   ]
  },
  {
   "cell_type": "code",
   "execution_count": 85,
   "id": "4f053b59-f363-4a18-9241-cfc679367235",
   "metadata": {},
   "outputs": [],
   "source": [
    "# Reset index after dropping\n",
    "routes_df3 = routes_df3.reset_index()"
   ]
  },
  {
   "cell_type": "code",
   "execution_count": 125,
   "id": "b85108e8-655e-4a79-a156-9417c23dbcf6",
   "metadata": {},
   "outputs": [
    {
     "data": {
      "text/plain": [
       "'1709 unique route ids, 1902 different route names, and 5924 different shape ids.'"
      ]
     },
     "execution_count": 125,
     "metadata": {},
     "output_type": "execute_result"
    }
   ],
   "source": [
    "f\"{routes_df2.route_id.nunique()} unique route ids, {routes_df2.route_name.nunique()} different route names, and {routes_df2.shape_id.nunique()} different shape ids.\""
   ]
  },
  {
   "cell_type": "code",
   "execution_count": 87,
   "id": "1b19e60e-64ba-449a-a6cb-09c3d1464c63",
   "metadata": {},
   "outputs": [
    {
     "data": {
      "text/plain": [
       "(2268, 8)"
      ]
     },
     "execution_count": 87,
     "metadata": {},
     "output_type": "execute_result"
    }
   ],
   "source": [
    "routes_df3.shape"
   ]
  },
  {
   "cell_type": "markdown",
   "id": "a53ce7d4-69e5-4d59-a198-33d742a67dcd",
   "metadata": {},
   "source": [
    "## FCC AT&T Data Map \n",
    "* Testing with AT&T first."
   ]
  },
  {
   "cell_type": "markdown",
   "id": "5b1a6c49-e971-496c-93ed-bd625210f8ea",
   "metadata": {},
   "source": [
    "### Clip AT&T map to only include California Counties"
   ]
  },
  {
   "cell_type": "code",
   "execution_count": 88,
   "id": "c8f0c1f9-c972-46fc-9a13-299c2a065955",
   "metadata": {},
   "outputs": [
    {
     "data": {
      "text/plain": [
       "'\\n# Open zip file first\\nPATH = f\"{GCS_FILE_PATH}ATT_Mobility_LTE_Data.zip\"\\nwith fsspec.open(PATH) as file:\\n    fcc_gdf = gpd.read_file(file)\\n    \\n# Check that they are the same CRS\\nfcc_gdf.crs == ca_gdf.crs\\n\\n# Clip \\nfcc_ca_gdf = gpd.clip(fcc_gdf, ca_gdf)\\n\\n# Save this into a parquet so don\\'t have to clip all the time\\nutils.geoparquet_gcs_export(fcc_ca_gdf, GCS_FILE_PATH, \\'AT_T_Data_California_Only\\')\\n'"
      ]
     },
     "execution_count": 88,
     "metadata": {},
     "output_type": "execute_result"
    }
   ],
   "source": [
    "\"\"\"\n",
    "# Open zip file first\n",
    "PATH = f\"{GCS_FILE_PATH}ATT_Mobility_LTE_Data.zip\"\n",
    "with fsspec.open(PATH) as file:\n",
    "    fcc_gdf = gpd.read_file(file)\n",
    "    \n",
    "# Check that they are the same CRS\n",
    "fcc_gdf.crs == ca_gdf.crs\n",
    "\n",
    "# Clip \n",
    "fcc_ca_gdf = gpd.clip(fcc_gdf, ca_gdf)\n",
    "\n",
    "# Save this into a parquet so don't have to clip all the time\n",
    "utils.geoparquet_gcs_export(fcc_ca_gdf, GCS_FILE_PATH, 'AT_T_Data_California_Only')\n",
    "\"\"\""
   ]
  },
  {
   "cell_type": "code",
   "execution_count": 89,
   "id": "a63b5add-90ef-452b-9ac1-9193cdc633eb",
   "metadata": {},
   "outputs": [],
   "source": [
    "# Open\n",
    "fcc_ca_gdf = gpd.read_parquet(\n",
    "    \"gs://calitp-analytics-data/data-analyses/cellular_coverage/AT_T_Data_California_Only.parquet\"\n",
    ")"
   ]
  },
  {
   "cell_type": "code",
   "execution_count": 124,
   "id": "aa4c6d4a-e412-44cf-bb15-bce0677f57eb",
   "metadata": {},
   "outputs": [],
   "source": [
    "# fcc_ca_gdf.plot(figsize = (30,12))"
   ]
  },
  {
   "cell_type": "markdown",
   "id": "4665adab-5b3e-4d95-b7fe-b2461829f513",
   "metadata": {},
   "source": [
    "## Overlay \n",
    "* I want to obtain routes that are NOT contained in the AT & T coverage map.\n",
    "* https://geopandas.org/en/stable/docs/user_guide/set_operations.html"
   ]
  },
  {
   "cell_type": "code",
   "execution_count": 127,
   "id": "d19338f0-6309-43bb-8065-0eaf5a746f03",
   "metadata": {},
   "outputs": [
    {
     "data": {
      "text/plain": [
       "True"
      ]
     },
     "execution_count": 127,
     "metadata": {},
     "output_type": "execute_result"
    }
   ],
   "source": [
    "# Check that they are the same CRS\n",
    "fcc_ca_gdf.crs == routes_df3.crs"
   ]
  },
  {
   "cell_type": "code",
   "execution_count": 128,
   "id": "3fa47368-3243-45dc-9118-813ce5615a21",
   "metadata": {},
   "outputs": [],
   "source": [
    "# Reproject\n",
    "fcc_ca_gdf = fcc_ca_gdf.to_crs(\"epsg:3395\")\n",
    "routes_df3 = routes_df3.to_crs(\"epsg:3395\")"
   ]
  },
  {
   "cell_type": "code",
   "execution_count": 129,
   "id": "011e319f-61b1-4e5a-a09e-de1643403ab9",
   "metadata": {},
   "outputs": [],
   "source": [
    "overlay_df = routes_df3.overlay(fcc_ca_gdf, how=\"difference\")"
   ]
  },
  {
   "cell_type": "code",
   "execution_count": 130,
   "id": "3e355b79-a656-46dc-9bab-2f19f6451a09",
   "metadata": {},
   "outputs": [
    {
     "data": {
      "text/plain": [
       "(409, 8)"
      ]
     },
     "execution_count": 130,
     "metadata": {},
     "output_type": "execute_result"
    }
   ],
   "source": [
    "overlay_df.shape"
   ]
  },
  {
   "cell_type": "code",
   "execution_count": 131,
   "id": "93535bde-9b6a-4719-8e9c-76dc9b7d29b1",
   "metadata": {},
   "outputs": [
    {
     "data": {
      "text/plain": [
       "<AxesSubplot:>"
      ]
     },
     "execution_count": 131,
     "metadata": {},
     "output_type": "execute_result"
    },
    {
     "data": {
      "image/png": "[encoded data removed]",
      "text/plain": [
       "<Figure size 1200x600 with 1 Axes>"
      ]
     },
     "metadata": {},
     "output_type": "display_data"
    }
   ],
   "source": [
    "# Change to overlay later\n",
    "(overlay_df.plot(figsize=(12, 6), markersize=30))"
   ]
  },
  {
   "cell_type": "code",
   "execution_count": 165,
   "id": "f01462fd-8676-489d-889b-05386a7a4109",
   "metadata": {
    "tags": []
   },
   "outputs": [
    {
     "data": {
      "text/markdown": [
       "There are 297 routes (run by 98 different agencies) \n",
       "        w/o overlap to the AT&T coverage map. In comparison, there are 1709 total routes in the original dataframe."
      ],
      "text/plain": [
       "<IPython.core.display.Markdown object>"
      ]
     },
     "metadata": {},
     "output_type": "display_data"
    }
   ],
   "source": [
    "display(\n",
    "    Markdown(\n",
    "        f\"\"\"There are {overlay_df['route_id'].nunique()} routes (run by {overlay_df['agency'].nunique()} different agencies) \n",
    "        w/o overlap to the AT&T coverage map. In comparison, there are {routes_df2.route_id.nunique()} total routes in the original dataframe.\"\"\"\n",
    "    )\n",
    ")"
   ]
  },
  {
   "cell_type": "code",
   "execution_count": 133,
   "id": "d012ce6c-7489-48be-a503-cec7c6dc22f5",
   "metadata": {
    "scrolled": true,
    "tags": []
   },
   "outputs": [],
   "source": [
    "# Previewing the routes left\n",
    "# overlay_df[cols_without_geometry].sort_values('route_name')"
   ]
  },
  {
   "cell_type": "code",
   "execution_count": 142,
   "id": "10e69b3b-26dc-4399-a497-7b244797ae14",
   "metadata": {
    "tags": []
   },
   "outputs": [
    {
     "data": {
      "text/html": [
       "<div>\n",
       "<style scoped>\n",
       "    .dataframe tbody tr th:only-of-type {\n",
       "        vertical-align: middle;\n",
       "    }\n",
       "\n",
       "    .dataframe tbody tr th {\n",
       "        vertical-align: top;\n",
       "    }\n",
       "\n",
       "    .dataframe thead th {\n",
       "        text-align: right;\n",
       "    }\n",
       "</style>\n",
       "<table border=\"1\" class=\"dataframe\">\n",
       "  <thead>\n",
       "    <tr style=\"text-align: right;\">\n",
       "      <th></th>\n",
       "      <th>total_routes</th>\n",
       "    </tr>\n",
       "    <tr>\n",
       "      <th>agency</th>\n",
       "      <th></th>\n",
       "    </tr>\n",
       "  </thead>\n",
       "  <tbody>\n",
       "    <tr>\n",
       "      <th>AC Transit</th>\n",
       "      <td>34</td>\n",
       "    </tr>\n",
       "    <tr>\n",
       "      <th>Metro</th>\n",
       "      <td>32</td>\n",
       "    </tr>\n",
       "    <tr>\n",
       "      <th>Marin Transit</th>\n",
       "      <td>18</td>\n",
       "    </tr>\n",
       "    <tr>\n",
       "      <th>Los Angeles Department of Transportation</th>\n",
       "      <td>13</td>\n",
       "    </tr>\n",
       "    <tr>\n",
       "      <th>Golden Gate Bridge Highway and Transportation District</th>\n",
       "      <td>13</td>\n",
       "    </tr>\n",
       "    <tr>\n",
       "      <th>North County Transit District</th>\n",
       "      <td>10</td>\n",
       "    </tr>\n",
       "    <tr>\n",
       "      <th>San Diego Metropolitan Transit System</th>\n",
       "      <td>10</td>\n",
       "    </tr>\n",
       "    <tr>\n",
       "      <th>Yuma County Area Transit</th>\n",
       "      <td>9</td>\n",
       "    </tr>\n",
       "    <tr>\n",
       "      <th>Tahoe Transportation</th>\n",
       "      <td>9</td>\n",
       "    </tr>\n",
       "    <tr>\n",
       "      <th>Tahoe Truckee Area Regional Transportation</th>\n",
       "      <td>8</td>\n",
       "    </tr>\n",
       "  </tbody>\n",
       "</table>\n",
       "</div>"
      ],
      "text/plain": [
       "                                                        total_routes\n",
       "agency                                                              \n",
       "AC Transit                                                        34\n",
       "Metro                                                             32\n",
       "Marin Transit                                                     18\n",
       "Los Angeles Department of Transportation                          13\n",
       "Golden Gate Bridge Highway and Transportation District            13\n",
       "North County Transit District                                     10\n",
       "San Diego Metropolitan Transit System                             10\n",
       "Yuma County Area Transit                                           9\n",
       "Tahoe Transportation                                               9\n",
       "Tahoe Truckee Area Regional Transportation                         8"
      ]
     },
     "execution_count": 142,
     "metadata": {},
     "output_type": "execute_result"
    }
   ],
   "source": [
    "# Agencies with the most routes without coverage.\n",
    "(\n",
    "    overlay_df.groupby([\"agency\"])\n",
    "    .agg({\"route_id\": \"nunique\"})\n",
    "    .rename(columns={\"route_id\": \"total_routes\"})\n",
    "    .sort_values(\"total_routes\", ascending=False)\n",
    "    .head(10)\n",
    ")"
   ]
  },
  {
   "cell_type": "code",
   "execution_count": 146,
   "id": "2c66611f-ea31-4e8a-9f75-a12c1b55b89d",
   "metadata": {
    "scrolled": true,
    "tags": []
   },
   "outputs": [],
   "source": [
    "# Surprised by AC Transit\n",
    "# overlay_df.loc[overlay_df['agency']=='AC Transit']"
   ]
  },
  {
   "cell_type": "markdown",
   "id": "791ef31f-d5f2-4fb9-9b8c-c17608665a8a",
   "metadata": {},
   "source": [
    "## Trips\n",
    "* How many trips are running for a route?"
   ]
  },
  {
   "cell_type": "code",
   "execution_count": 135,
   "id": "6846f0be-f040-4ed8-9611-4cefff8c0e6f",
   "metadata": {},
   "outputs": [],
   "source": [
    "# List for unique itp_ids\n",
    "agencies_no_coverage = overlay_df[\"itp_id\"].unique().tolist()"
   ]
  },
  {
   "cell_type": "code",
   "execution_count": 155,
   "id": "c9428dd5-50c8-4259-9fb1-29dd471db633",
   "metadata": {},
   "outputs": [],
   "source": [
    "# List for unique route ids\n",
    "routes_no_coverage = overlay_df[\"route_id\"].unique().tolist()"
   ]
  },
  {
   "cell_type": "code",
   "execution_count": 166,
   "id": "29056f58-b61c-4e6a-9cfe-28fe4b7ad75a",
   "metadata": {
    "scrolled": true,
    "tags": []
   },
   "outputs": [],
   "source": [
    "# A table with all the itp id & agencies\n",
    "agency_df = overlay_df[[\"agency\", \"itp_id\"]].drop_duplicates().reset_index()"
   ]
  },
  {
   "cell_type": "code",
   "execution_count": 137,
   "id": "c5c9d0e4-2972-46f8-9099-031bf30a3802",
   "metadata": {},
   "outputs": [],
   "source": [
    "itp_id = 4\n",
    "analysis_date = dt.date(2022, 5, 25)"
   ]
  },
  {
   "cell_type": "code",
   "execution_count": 157,
   "id": "2dce03aa-deb1-4725-b2d6-d6abfd2af849",
   "metadata": {
    "tags": []
   },
   "outputs": [],
   "source": [
    "# From rt scheduled vs ran work notebook\n",
    "# How to just filter for all the itp ids and all routes at once?\n",
    "ac_transit = (\n",
    "    tbl.views.gtfs_schedule_fact_daily_trips()\n",
    "    >> filter(_.calitp_itp_id == itp_id)\n",
    "    >> filter(_.service_date == analysis_date)\n",
    "    >> filter(_.is_in_service == True)\n",
    "    >> collect()\n",
    ")"
   ]
  },
  {
   "cell_type": "code",
   "execution_count": 158,
   "id": "c5a86188-058c-4368-987d-e2482f7cd83e",
   "metadata": {},
   "outputs": [],
   "source": [
    "ac_transit2 = ac_transit[ac_transit[\"route_id\"].isin(routes_no_coverage)]"
   ]
  },
  {
   "cell_type": "code",
   "execution_count": 159,
   "id": "b9762f27-70bf-485a-9ea1-37a440d8293f",
   "metadata": {},
   "outputs": [
    {
     "data": {
      "text/plain": [
       "(3282, 21)"
      ]
     },
     "execution_count": 159,
     "metadata": {},
     "output_type": "execute_result"
    }
   ],
   "source": [
    "ac_transit2.shape"
   ]
  },
  {
   "cell_type": "code",
   "execution_count": 173,
   "id": "d744dc7e-cb51-40af-a0e9-9efb712b3b1d",
   "metadata": {},
   "outputs": [],
   "source": [
    "ac_transit_summary = (\n",
    "    ac_transit2.groupby([\"route_id\"])\n",
    "    .agg({\"trip_id\": \"count\"})\n",
    "    .reset_index()\n",
    "    .rename(columns={\"trip_id\": \"total_trips\"})\n",
    ")"
   ]
  },
  {
   "cell_type": "code",
   "execution_count": 175,
   "id": "e1aec715-784c-4bd1-9e73-2ee1e1cb32b4",
   "metadata": {
    "scrolled": true,
    "tags": []
   },
   "outputs": [
    {
     "data": {
      "text/html": [
       "<div>\n",
       "<style scoped>\n",
       "    .dataframe tbody tr th:only-of-type {\n",
       "        vertical-align: middle;\n",
       "    }\n",
       "\n",
       "    .dataframe tbody tr th {\n",
       "        vertical-align: top;\n",
       "    }\n",
       "\n",
       "    .dataframe thead th {\n",
       "        text-align: right;\n",
       "    }\n",
       "</style>\n",
       "<table border=\"1\" class=\"dataframe\">\n",
       "  <thead>\n",
       "    <tr style=\"text-align: right;\">\n",
       "      <th></th>\n",
       "      <th>route_id</th>\n",
       "      <th>total_trips</th>\n",
       "    </tr>\n",
       "  </thead>\n",
       "  <tbody>\n",
       "    <tr>\n",
       "      <th>13</th>\n",
       "      <td>40</td>\n",
       "      <td>392</td>\n",
       "    </tr>\n",
       "    <tr>\n",
       "      <th>15</th>\n",
       "      <td>6</td>\n",
       "      <td>360</td>\n",
       "    </tr>\n",
       "    <tr>\n",
       "      <th>0</th>\n",
       "      <td>10</td>\n",
       "      <td>258</td>\n",
       "    </tr>\n",
       "    <tr>\n",
       "      <th>2</th>\n",
       "      <td>14</td>\n",
       "      <td>248</td>\n",
       "    </tr>\n",
       "    <tr>\n",
       "      <th>3</th>\n",
       "      <td>18</td>\n",
       "      <td>214</td>\n",
       "    </tr>\n",
       "    <tr>\n",
       "      <th>9</th>\n",
       "      <td>33</td>\n",
       "      <td>210</td>\n",
       "    </tr>\n",
       "    <tr>\n",
       "      <th>5</th>\n",
       "      <td>20</td>\n",
       "      <td>154</td>\n",
       "    </tr>\n",
       "    <tr>\n",
       "      <th>11</th>\n",
       "      <td>36</td>\n",
       "      <td>148</td>\n",
       "    </tr>\n",
       "    <tr>\n",
       "      <th>32</th>\n",
       "      <td>86</td>\n",
       "      <td>142</td>\n",
       "    </tr>\n",
       "    <tr>\n",
       "      <th>1</th>\n",
       "      <td>12</td>\n",
       "      <td>140</td>\n",
       "    </tr>\n",
       "    <tr>\n",
       "      <th>33</th>\n",
       "      <td>96</td>\n",
       "      <td>132</td>\n",
       "    </tr>\n",
       "    <tr>\n",
       "      <th>6</th>\n",
       "      <td>21</td>\n",
       "      <td>130</td>\n",
       "    </tr>\n",
       "    <tr>\n",
       "      <th>23</th>\n",
       "      <td>7</td>\n",
       "      <td>92</td>\n",
       "    </tr>\n",
       "    <tr>\n",
       "      <th>10</th>\n",
       "      <td>35</td>\n",
       "      <td>70</td>\n",
       "    </tr>\n",
       "    <tr>\n",
       "      <th>8</th>\n",
       "      <td>28</td>\n",
       "      <td>68</td>\n",
       "    </tr>\n",
       "    <tr>\n",
       "      <th>14</th>\n",
       "      <td>41</td>\n",
       "      <td>68</td>\n",
       "    </tr>\n",
       "    <tr>\n",
       "      <th>12</th>\n",
       "      <td>39</td>\n",
       "      <td>66</td>\n",
       "    </tr>\n",
       "    <tr>\n",
       "      <th>4</th>\n",
       "      <td>19</td>\n",
       "      <td>66</td>\n",
       "    </tr>\n",
       "    <tr>\n",
       "      <th>29</th>\n",
       "      <td>800</td>\n",
       "      <td>62</td>\n",
       "    </tr>\n",
       "    <tr>\n",
       "      <th>27</th>\n",
       "      <td>71</td>\n",
       "      <td>60</td>\n",
       "    </tr>\n",
       "    <tr>\n",
       "      <th>7</th>\n",
       "      <td>232</td>\n",
       "      <td>52</td>\n",
       "    </tr>\n",
       "    <tr>\n",
       "      <th>28</th>\n",
       "      <td>78</td>\n",
       "      <td>48</td>\n",
       "    </tr>\n",
       "    <tr>\n",
       "      <th>30</th>\n",
       "      <td>802</td>\n",
       "      <td>22</td>\n",
       "    </tr>\n",
       "    <tr>\n",
       "      <th>31</th>\n",
       "      <td>851</td>\n",
       "      <td>20</td>\n",
       "    </tr>\n",
       "    <tr>\n",
       "      <th>18</th>\n",
       "      <td>623</td>\n",
       "      <td>18</td>\n",
       "    </tr>\n",
       "    <tr>\n",
       "      <th>20</th>\n",
       "      <td>631</td>\n",
       "      <td>8</td>\n",
       "    </tr>\n",
       "    <tr>\n",
       "      <th>21</th>\n",
       "      <td>687</td>\n",
       "      <td>6</td>\n",
       "    </tr>\n",
       "    <tr>\n",
       "      <th>19</th>\n",
       "      <td>625</td>\n",
       "      <td>6</td>\n",
       "    </tr>\n",
       "    <tr>\n",
       "      <th>16</th>\n",
       "      <td>604</td>\n",
       "      <td>6</td>\n",
       "    </tr>\n",
       "    <tr>\n",
       "      <th>22</th>\n",
       "      <td>688</td>\n",
       "      <td>4</td>\n",
       "    </tr>\n",
       "    <tr>\n",
       "      <th>24</th>\n",
       "      <td>701</td>\n",
       "      <td>4</td>\n",
       "    </tr>\n",
       "    <tr>\n",
       "      <th>17</th>\n",
       "      <td>606</td>\n",
       "      <td>4</td>\n",
       "    </tr>\n",
       "    <tr>\n",
       "      <th>26</th>\n",
       "      <td>706</td>\n",
       "      <td>2</td>\n",
       "    </tr>\n",
       "    <tr>\n",
       "      <th>25</th>\n",
       "      <td>702</td>\n",
       "      <td>2</td>\n",
       "    </tr>\n",
       "  </tbody>\n",
       "</table>\n",
       "</div>"
      ],
      "text/plain": [
       "   route_id  total_trips\n",
       "13       40          392\n",
       "15        6          360\n",
       "0        10          258\n",
       "2        14          248\n",
       "3        18          214\n",
       "9        33          210\n",
       "5        20          154\n",
       "11       36          148\n",
       "32       86          142\n",
       "1        12          140\n",
       "33       96          132\n",
       "6        21          130\n",
       "23        7           92\n",
       "10       35           70\n",
       "8        28           68\n",
       "14       41           68\n",
       "12       39           66\n",
       "4        19           66\n",
       "29      800           62\n",
       "27       71           60\n",
       "7       232           52\n",
       "28       78           48\n",
       "30      802           22\n",
       "31      851           20\n",
       "18      623           18\n",
       "20      631            8\n",
       "21      687            6\n",
       "19      625            6\n",
       "16      604            6\n",
       "22      688            4\n",
       "24      701            4\n",
       "17      606            4\n",
       "26      706            2\n",
       "25      702            2"
      ]
     },
     "execution_count": 175,
     "metadata": {},
     "output_type": "execute_result"
    }
   ],
   "source": [
    "ac_transit_summary.sort_values('total_trips', ascending = False)"
   ]
  },
  {
   "cell_type": "code",
   "execution_count": 140,
   "id": "423612c3-b105-40de-bd9f-b0c264bdc8e4",
   "metadata": {},
   "outputs": [],
   "source": [
    "overlay_df[\"route_id\"] = overlay_df[\"route_id\"].str.lower().str.strip()"
   ]
  },
  {
   "cell_type": "markdown",
   "id": "89fd8dbc-6988-4f2b-b905-cdaafea516eb",
   "metadata": {},
   "source": [
    "#### Why there are less unique Route ID numbers in stops df compared with routes df? "
   ]
  },
  {
   "cell_type": "code",
   "execution_count": 141,
   "id": "2e9461fa-2c0f-48b7-99f2-8fdf79e80a2c",
   "metadata": {},
   "outputs": [
    {
     "ename": "NameError",
     "evalue": "name 'stops_df2' is not defined",
     "output_type": "error",
     "traceback": [
      "\u001b[0;31m---------------------------------------------------------------------------\u001b[0m",
      "\u001b[0;31mNameError\u001b[0m                                 Traceback (most recent call last)",
      "Input \u001b[0;32mIn [141]\u001b[0m, in \u001b[0;36m<cell line: 1>\u001b[0;34m()\u001b[0m\n\u001b[0;32m----> 1\u001b[0m \u001b[38;5;124mf\u001b[39m\u001b[38;5;124m\"\u001b[39m\u001b[38;5;132;01m{\u001b[39;00mstops_df2\u001b[38;5;241m.\u001b[39mroute_id\u001b[38;5;241m.\u001b[39mnunique()\u001b[38;5;132;01m}\u001b[39;00m\u001b[38;5;124m route ids in trip stops dataframe compared to \u001b[39m\u001b[38;5;132;01m{\u001b[39;00moverlay_df\u001b[38;5;241m.\u001b[39mroute_id\u001b[38;5;241m.\u001b[39mnunique()\u001b[38;5;132;01m}\u001b[39;00m\u001b[38;5;124m route ids in the routes dataframe above...strange.\u001b[39m\u001b[38;5;124m\"\u001b[39m\n",
      "\u001b[0;31mNameError\u001b[0m: name 'stops_df2' is not defined"
     ]
    }
   ],
   "source": [
    "f\"{stops_df2.route_id.nunique()} route ids in trip stops dataframe compared to {overlay_df.route_id.nunique()} route ids in the routes dataframe above...strange.\""
   ]
  },
  {
   "cell_type": "code",
   "execution_count": null,
   "id": "2f350460-abbd-429e-9a1d-d0823a95d6a3",
   "metadata": {},
   "outputs": [],
   "source": [
    "# What the missing route ids?\n",
    "routes_df_id = set(route_id_without_cell)\n",
    "\n",
    "# Use original trip_stops df to find ids...do they even exist there?\n",
    "trips_df_id = set(stops_df.route_id.unique().tolist())\n",
    "routes_df_id - trips_df_id"
   ]
  },
  {
   "cell_type": "code",
   "execution_count": null,
   "id": "a8f84676-e43b-4810-bb2d-6c7c0f0b53cc",
   "metadata": {
    "scrolled": true,
    "tags": []
   },
   "outputs": [],
   "source": [
    "subset_stops = stops_df2[[\"agency\", \"stop_id\", \"stop_name\", \"route_name\"]]"
   ]
  },
  {
   "cell_type": "code",
   "execution_count": null,
   "id": "1f16aed4-1896-400d-9d9a-a512d60514e2",
   "metadata": {
    "scrolled": true,
    "tags": []
   },
   "outputs": [],
   "source": [
    "total_stops_df = stops_df2.groupby(\n",
    "    [\n",
    "        \"agency\",\n",
    "        \"route_name\",\n",
    "    ]\n",
    ").agg({\"stop_name\": \"count\"})"
   ]
  },
  {
   "cell_type": "code",
   "execution_count": null,
   "id": "b1c10e7a-6c75-4d07-8126-1393d723e25e",
   "metadata": {},
   "outputs": [],
   "source": [
    "len(total_stops_df)"
   ]
  }
 ],
 "metadata": {
  "kernelspec": {
   "display_name": "Python 3 (ipykernel)",
   "language": "python",
   "name": "python3"
  },
  "language_info": {
   "codemirror_mode": {
    "name": "ipython",
    "version": 3
   },
   "file_extension": ".py",
   "mimetype": "text/x-python",
   "name": "python",
   "nbconvert_exporter": "python",
   "pygments_lexer": "ipython3",
   "version": "3.10.5"
  }
 },
 "nbformat": 4,
 "nbformat_minor": 5
}
