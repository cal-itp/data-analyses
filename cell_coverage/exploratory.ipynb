{
 "cells": [
  {
   "cell_type": "markdown",
   "id": "45a4417c-94bb-44a6-8b81-18e1bc089855",
   "metadata": {},
   "source": [
    "# Exploring Cell Coverage of Routes\n",
    "* To do later: move data sources to a catalog\n",
    "* An agency here is defined: as a service and an operator..."
   ]
  },
  {
   "cell_type": "code",
   "execution_count": null,
   "id": "eecac02a-a99d-4a1e-9800-c2b094484f79",
   "metadata": {},
   "outputs": [],
   "source": [
    "# Read in zip files\n",
    "import fsspec\n",
    "import geopandas as gpd\n",
    "import intake\n",
    "import numpy as np\n",
    "import pandas as pd\n",
    "\n",
    "# My utilities\n",
    "import utilities\n",
    "from calitp import *\n",
    "\n",
    "# Display\n",
    "from IPython.display import HTML, Image, Markdown, display, display_html\n",
    "\n",
    "# Geometry\n",
    "from shared_utils import geography_utils, utils"
   ]
  },
  {
   "cell_type": "code",
   "execution_count": null,
   "id": "b393271a-9e5f-4772-b28e-25ae7414c54b",
   "metadata": {},
   "outputs": [],
   "source": [
    "pd.options.display.max_columns = 100\n",
    "pd.options.display.float_format = \"{:.2f}\".format\n",
    "pd.set_option(\"display.max_rows\", None)\n",
    "pd.set_option(\"display.max_colwidth\", None)"
   ]
  },
  {
   "cell_type": "code",
   "execution_count": null,
   "id": "140cf451-4eba-4a2f-b7d9-dee7ce3e0a43",
   "metadata": {},
   "outputs": [],
   "source": [
    "GCS_FILE_PATH = \"gs://calitp-analytics-data/data-analyses/cellular_coverage/\""
   ]
  },
  {
   "cell_type": "markdown",
   "id": "86d3af28-c18c-49e0-9c58-7c7317906fbd",
   "metadata": {
    "tags": []
   },
   "source": [
    "## Trip Routes "
   ]
  },
  {
   "cell_type": "code",
   "execution_count": null,
   "id": "c136d800-66ff-4cec-b122-3e9068a2c733",
   "metadata": {},
   "outputs": [],
   "source": [
    "cols_without_geometry = [\n",
    "    \"agency\",\n",
    "    \"route_name\",\n",
    "    \"itp_id\",\n",
    "    \"route_id\",\n",
    "    \"route_type\",\n",
    "]"
   ]
  },
  {
   "cell_type": "code",
   "execution_count": null,
   "id": "a8f359af-1989-4311-b899-0d3c3b441f2f",
   "metadata": {},
   "outputs": [],
   "source": [
    "routes_df = gpd.read_parquet(\n",
    "    \"gs://calitp-analytics-data/data-analyses/traffic_ops/ca_transit_routes.parquet\"\n",
    ")"
   ]
  },
  {
   "cell_type": "code",
   "execution_count": null,
   "id": "d7abba37-9c87-4862-b535-fb7f833dace8",
   "metadata": {},
   "outputs": [],
   "source": [
    "routes_df = utilities.unique_routes(routes_df)"
   ]
  },
  {
   "cell_type": "code",
   "execution_count": null,
   "id": "0c6e0c41-69be-4b22-b55d-942fc4f7c8f6",
   "metadata": {},
   "outputs": [],
   "source": [
    "# Fill in NA for route names and agency names\n",
    "routes_df[[\"agency\", \"route_name\"]] = routes_df[[\"agency\", \"route_name\"]].fillna(\"NA\")"
   ]
  },
  {
   "cell_type": "code",
   "execution_count": null,
   "id": "b85108e8-655e-4a79-a156-9417c23dbcf6",
   "metadata": {},
   "outputs": [],
   "source": [
    "f\"\"\"{routes_df.route_id.nunique()} unique route ids, \n",
    "{routes_df.route_name.nunique()} different route names, \n",
    "and {routes_df.route_length.nunique()} different shape ids.\n",
    "The dataframe has {len(routes_df)} rows.\"\"\""
   ]
  },
  {
   "cell_type": "markdown",
   "id": "a53ce7d4-69e5-4d59-a198-33d742a67dcd",
   "metadata": {
    "tags": []
   },
   "source": [
    "## FCC Maps"
   ]
  },
  {
   "cell_type": "code",
   "execution_count": null,
   "id": "08ca93c8-2738-45b1-b3a0-1ce1099d91fb",
   "metadata": {},
   "outputs": [],
   "source": [
    "\"\"\" T Mobile not working\n",
    "tmobile_df = utilities.create_california_coverage(\n",
    "    \"T_Mobile_LTE_Data.zip\", \"tmobile_ca_only\"\n",
    ")\n",
    "\"\"\""
   ]
  },
  {
   "cell_type": "code",
   "execution_count": null,
   "id": "86b29013-96d5-431c-b7a0-f44017973e74",
   "metadata": {},
   "outputs": [],
   "source": [
    "verizon_df = gpd.read_parquet(f\"{GCS_FILE_PATH}verizon_ca_only.parquet\")"
   ]
  },
  {
   "cell_type": "code",
   "execution_count": null,
   "id": "35f15d8d-8709-4c25-b63c-c6dbb56f999f",
   "metadata": {},
   "outputs": [],
   "source": [
    "att_df = gpd.read_parquet(f\"{GCS_FILE_PATH}att_ca_only.parquet\")"
   ]
  },
  {
   "cell_type": "code",
   "execution_count": null,
   "id": "86181f37-848a-4679-bb5a-a54c28dc3c49",
   "metadata": {},
   "outputs": [],
   "source": [
    "att_df.plot(), verizon_df.plot()"
   ]
  },
  {
   "cell_type": "markdown",
   "id": "4665adab-5b3e-4d95-b7fe-b2461829f513",
   "metadata": {},
   "source": [
    "## Overlay "
   ]
  },
  {
   "cell_type": "code",
   "execution_count": null,
   "id": "94688927-f097-484d-8aff-504cb412fa2e",
   "metadata": {},
   "outputs": [],
   "source": [
    "overlay_verizon = utilities.comparison(routes_df, verizon_df)"
   ]
  },
  {
   "cell_type": "code",
   "execution_count": null,
   "id": "07c88e5b-4648-4ab5-a3f0-99f2331409dd",
   "metadata": {},
   "outputs": [],
   "source": [
    "overlay_att = utilities.comparison(routes_df, att_df)"
   ]
  },
  {
   "cell_type": "code",
   "execution_count": null,
   "id": "07de862d-94c9-4f25-8583-4c0cd9cae802",
   "metadata": {},
   "outputs": [],
   "source": [
    "f\"\"\"\"\n",
    "Verizon: After overlap, there are {overlay_verizon['route_id'].nunique()} route ids compared to \n",
    "{routes_df['route_id'].nunique()} in the original dataframe. \n",
    "The length of the overlay dataframe is {len(overlay_verizon)}\"\"\""
   ]
  },
  {
   "cell_type": "code",
   "execution_count": null,
   "id": "9b879417-f102-42bd-bc6b-68374df39a76",
   "metadata": {},
   "outputs": [],
   "source": [
    "f\"\"\"\"AT&T: After overlap, there are {overlay_att['route_id'].nunique()} route ids compared to \n",
    "{routes_df['route_id'].nunique()} in the original dataframe. \n",
    "The length of the overlay dataframe is {len(overlay_att)}\"\"\""
   ]
  },
  {
   "cell_type": "code",
   "execution_count": null,
   "id": "6e731748-1904-4b45-a9c6-893ebce313c4",
   "metadata": {},
   "outputs": [],
   "source": [
    "overlay_att.plot(\"route_length\", legend=True), overlay_verizon.plot(\"route_length\")"
   ]
  },
  {
   "cell_type": "markdown",
   "id": "684cc783-e410-4304-b19e-f5268f7a9175",
   "metadata": {
    "tags": []
   },
   "source": [
    "### Test finding % with a single route..."
   ]
  },
  {
   "cell_type": "code",
   "execution_count": null,
   "id": "9b6198c8-558e-4a86-874b-8ba051b2bed0",
   "metadata": {
    "scrolled": true,
    "tags": []
   },
   "outputs": [],
   "source": [
    "# Test a single route that goes through 2 counties\n",
    "# This one goes through San Francisco & Marin.\n",
    "single_route_overlay = overlay_att.loc[overlay_att[\"route_name\"] == \"via Civic Center\"]"
   ]
  },
  {
   "cell_type": "code",
   "execution_count": null,
   "id": "f50a1753-2ea2-46ae-8e7e-4d713fe7e0ec",
   "metadata": {
    "scrolled": true,
    "tags": []
   },
   "outputs": [],
   "source": [
    "# Original Df\n",
    "single_route_og = routes_df.loc[routes_df[\"route_name\"] == \"via Civic Center\"]"
   ]
  },
  {
   "cell_type": "code",
   "execution_count": null,
   "id": "6a5fa8d1-4c04-480c-ae96-b9742d41311c",
   "metadata": {},
   "outputs": [],
   "source": [
    "# Agg original Df\n",
    "single_route_og = (\n",
    "    single_route_og.groupby([\"agency\", \"route_name\"])\n",
    "    .agg({\"route_length\": \"sum\"})\n",
    "    .reset_index()\n",
    ")"
   ]
  },
  {
   "cell_type": "code",
   "execution_count": null,
   "id": "93a96cdb-b712-4070-9042-06a64ec087fd",
   "metadata": {},
   "outputs": [],
   "source": [
    "# Agg overlay Df\n",
    "single_route_overlay = (\n",
    "    single_route_overlay.groupby([\"agency\", \"route_name\"])\n",
    "    .agg({\"route_length\": \"sum\"})\n",
    "    .reset_index()\n",
    ")"
   ]
  },
  {
   "cell_type": "code",
   "execution_count": null,
   "id": "7651d919-96a9-40ae-bd76-c92efc60e2df",
   "metadata": {},
   "outputs": [],
   "source": [
    "# Merge\n",
    "single_merge = pd.merge(\n",
    "    single_route_og,\n",
    "    single_route_overlay,\n",
    "    how=\"outer\",\n",
    "    on=[\"agency\", \"route_name\"],\n",
    "    suffixes=[\"_original\", \"_overlay\"],\n",
    ")"
   ]
  },
  {
   "cell_type": "code",
   "execution_count": null,
   "id": "57cb7d9e-0624-4d04-b1fd-97c65d3ffa1c",
   "metadata": {},
   "outputs": [],
   "source": [
    "# Divide lengths to find overlap\n",
    "single_merge[\"overlap_percentage\"] = (\n",
    "    single_merge[\"route_length_overlay\"] / single_merge[\"route_length_original\"]\n",
    ").astype(\"float64\")"
   ]
  },
  {
   "cell_type": "code",
   "execution_count": null,
   "id": "7cf2ed43-63b0-421a-b7f0-f41a3118e224",
   "metadata": {},
   "outputs": [],
   "source": [
    "single_merge"
   ]
  },
  {
   "cell_type": "markdown",
   "id": "ca12e48a-99ba-4cb2-986a-6c9469e2632a",
   "metadata": {},
   "source": [
    "### Test with AT&T"
   ]
  },
  {
   "cell_type": "code",
   "execution_count": null,
   "id": "6809f5a2-b6f6-490e-a040-24f0d3b36b30",
   "metadata": {},
   "outputs": [],
   "source": [
    "# Aggregate original df\n",
    "routes_agg = (\n",
    "    routes_df.groupby([\"agency\", \"route_id\", \"route_name\"])\n",
    "    .agg({\"route_length\": \"sum\"})\n",
    "    .reset_index()\n",
    ")"
   ]
  },
  {
   "cell_type": "code",
   "execution_count": null,
   "id": "028369a3-f4b1-4f45-ae85-c50bc4201b83",
   "metadata": {},
   "outputs": [],
   "source": [
    "# Aggregate AT&T df\n",
    "att_agg = (\n",
    "    overlay_att.groupby([\"agency\", \"route_id\", \"route_name\"])\n",
    "    .agg({\"route_length\": \"sum\"})\n",
    "    .reset_index()\n",
    ")"
   ]
  },
  {
   "cell_type": "code",
   "execution_count": null,
   "id": "975545a9-2c5d-47e5-9774-af22f599ca42",
   "metadata": {},
   "outputs": [],
   "source": [
    "att_merge = pd.merge(\n",
    "    routes_agg,\n",
    "    att_agg,\n",
    "    how=\"inner\",\n",
    "    on=[\"agency\", \"route_id\", \"route_name\"],\n",
    "    suffixes=[\"_original\", \"_overlay\"],\n",
    ")"
   ]
  },
  {
   "cell_type": "code",
   "execution_count": null,
   "id": "89e5fff7-7bb4-4ebb-aeb0-58be3b64d5f6",
   "metadata": {},
   "outputs": [],
   "source": [
    "# Overlap, mutiply by 100\n",
    "att_merge[\"overlap_percentage\"] = (\n",
    "    ((att_merge[\"route_length_overlay\"] / att_merge[\"route_length_original\"]) * 100)\n",
    ").astype(\"int64\")"
   ]
  },
  {
   "cell_type": "code",
   "execution_count": null,
   "id": "fd79cae4-3f12-44d5-8981-c94ba5bd5faa",
   "metadata": {
    "tags": []
   },
   "outputs": [],
   "source": [
    "# Bin overlap\n",
    "bins = [0, 10, 20, 30, 40, 50, 60, 70, 80, 90, 100]"
   ]
  },
  {
   "cell_type": "code",
   "execution_count": null,
   "id": "5bb01f08-863a-44c7-abf7-141a06d7394f",
   "metadata": {
    "tags": []
   },
   "outputs": [],
   "source": [
    "att_merge[\"binned\"] = pd.cut(att_merge[\"overlap_percentage\"], bins)"
   ]
  },
  {
   "cell_type": "code",
   "execution_count": null,
   "id": "f0079749-eff1-4f62-9786-2a5085137a00",
   "metadata": {},
   "outputs": [],
   "source": [
    "att_merge.binned.value_counts()"
   ]
  },
  {
   "cell_type": "code",
   "execution_count": null,
   "id": "b8b44a0e-3706-413a-a080-0d488735170f",
   "metadata": {},
   "outputs": [],
   "source": [
    "# Filter out for routes that have have < 75 percent coverage\n",
    "att_merge_low_coverage = att_merge.loc[att_merge[\"overlap_percentage\"] < 70]"
   ]
  },
  {
   "cell_type": "code",
   "execution_count": null,
   "id": "5ea32f5b-fe67-47a2-8380-d2b279416e4d",
   "metadata": {},
   "outputs": [],
   "source": [
    "f\"{len(att_merge_low_coverage)} after filtering out for rows that  < 70% coverage.\""
   ]
  },
  {
   "cell_type": "code",
   "execution_count": null,
   "id": "48416df9-0053-4baa-a8b2-92533c91212a",
   "metadata": {
    "tags": []
   },
   "outputs": [],
   "source": [
    "att_merge_low_coverage.sort_values(\"overlap_percentage\").head(5)"
   ]
  },
  {
   "cell_type": "markdown",
   "id": "9d5edecb-a46c-4b2d-a7be-ba20240567f9",
   "metadata": {},
   "source": [
    "#### To Do: create an agency-itp id table from above to match cal itp id with trips_df, so there will be more merge matches."
   ]
  },
  {
   "cell_type": "markdown",
   "id": "791ef31f-d5f2-4fb9-9b8c-c17608665a8a",
   "metadata": {},
   "source": [
    "## Trips\n",
    "* How many trips are running for a route?"
   ]
  },
  {
   "cell_type": "code",
   "execution_count": null,
   "id": "a59d46ca-2f8a-450d-8594-29d1719597a9",
   "metadata": {},
   "outputs": [],
   "source": [
    "trips_df = pd.read_parquet(\n",
    "    \"gs://calitp-analytics-data/data-analyses/rt_delay/compiled_cached_views/trips_2022-05-04_all.parquet\"\n",
    ")"
   ]
  },
  {
   "cell_type": "code",
   "execution_count": null,
   "id": "a226aed5-ed0b-448b-a57b-ef8e3229bc55",
   "metadata": {},
   "outputs": [],
   "source": [
    "trips_df.shape"
   ]
  },
  {
   "cell_type": "code",
   "execution_count": null,
   "id": "423612c3-b105-40de-bd9f-b0c264bdc8e4",
   "metadata": {},
   "outputs": [],
   "source": [
    "# Try to standardize route id for the 2 dfs\n",
    "att_merge_low_coverage[\"route_id\"] = (\n",
    "    att_merge_low_coverage[\"route_id\"].str.lower().str.strip()\n",
    ")\n",
    "trips_df[\"route_id\"] = trips_df[\"route_id\"].str.lower().str.strip()"
   ]
  },
  {
   "cell_type": "code",
   "execution_count": null,
   "id": "3451f95e-7cee-49f2-bbdf-731d2d19a440",
   "metadata": {},
   "outputs": [],
   "source": [
    "att_routes_list = att_merge_low_coverage[\"route_id\"].unique().tolist()"
   ]
  },
  {
   "cell_type": "code",
   "execution_count": null,
   "id": "cab08b0b-820c-488e-be4c-a42880326e0f",
   "metadata": {},
   "outputs": [],
   "source": [
    "# Filter out for route IDS\n",
    "trips_df2 = trips_df[trips_df[\"route_id\"].isin(att_routes_list)]"
   ]
  },
  {
   "cell_type": "code",
   "execution_count": null,
   "id": "ba5ce20f-6676-4134-bea9-36de3298e43d",
   "metadata": {},
   "outputs": [],
   "source": [
    "# So many route ids disappeared\n",
    "f'{trips_df2[\"route_id\"].nunique()} routes left after filtering trips_df compared to {len(att_routes_list)} routes in overlay.'"
   ]
  },
  {
   "cell_type": "code",
   "execution_count": null,
   "id": "4bfb9324-4e03-4cca-9e42-abfbcb89b29e",
   "metadata": {
    "scrolled": true,
    "tags": []
   },
   "outputs": [],
   "source": [
    "# Checking which ones are missing.\n",
    "id_routes = set(att_routes_list)\n",
    "id_trips = set(trips_df2.route_id.unique().tolist())\n",
    "missing_routes = list(id_routes - id_trips)"
   ]
  },
  {
   "cell_type": "code",
   "execution_count": null,
   "id": "7842374a-3253-48b3-8c55-231dfdac112b",
   "metadata": {},
   "outputs": [],
   "source": [
    "f\"{1-(len(id_trips)/len(id_routes))}% of routes are missing.\""
   ]
  },
  {
   "cell_type": "code",
   "execution_count": null,
   "id": "50c8c6df-a7b1-4f8b-8059-7a502f51e783",
   "metadata": {},
   "outputs": [],
   "source": [
    "trips_df2.columns"
   ]
  },
  {
   "cell_type": "code",
   "execution_count": null,
   "id": "cb764344-0b62-498c-9ff0-824dbf862adc",
   "metadata": {},
   "outputs": [],
   "source": [
    "# Merge for overlap...\n",
    "# Correct agency names later? maybe?\n",
    "trips_df3 = pd.merge(\n",
    "    trips_df2,\n",
    "    att_merge_low_coverage,\n",
    "    how=\"outer\",\n",
    "    left_on=[\"route_id\", \"route_long_name\"],\n",
    "    right_on=[\"route_id\", \"route_name\"],\n",
    "    indicator=True,\n",
    ")"
   ]
  },
  {
   "cell_type": "code",
   "execution_count": null,
   "id": "9e4ea4a8-3a35-46b9-ad59-d7e1eacc5943",
   "metadata": {},
   "outputs": [],
   "source": [
    "trips_df3[\"_merge\"].value_counts()"
   ]
  },
  {
   "cell_type": "code",
   "execution_count": null,
   "id": "2dc5c963-abbb-4111-9212-e62d65461e48",
   "metadata": {},
   "outputs": [],
   "source": [
    "# Sum up number of trips taken by route using trip id?\n",
    "(\n",
    "    trips_df3.loc[trips_df3[\"_merge\"] == \"both\"]\n",
    "    .groupby(\n",
    "        [\n",
    "           \n",
    "            \"route_name\",\n",
    "            \"overlap_percentage\",\n",
    "        ]\n",
    "    )\n",
    "    .agg({\"trip_id\": \"nunique\"})\n",
    "    .rename(columns={\"trip_id\": \"total_trips\"})\n",
    ")"
   ]
  }
 ],
 "metadata": {
  "kernelspec": {
   "display_name": "Python 3 (ipykernel)",
   "language": "python",
   "name": "python3"
  },
  "language_info": {
   "codemirror_mode": {
    "name": "ipython",
    "version": 3
   },
   "file_extension": ".py",
   "mimetype": "text/x-python",
   "name": "python",
   "nbconvert_exporter": "python",
   "pygments_lexer": "ipython3",
   "version": "3.10.5"
  }
 },
 "nbformat": 4,
 "nbformat_minor": 5
}
