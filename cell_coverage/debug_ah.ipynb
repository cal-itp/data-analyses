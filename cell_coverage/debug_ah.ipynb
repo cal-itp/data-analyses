{
 "cells": [
  {
   "cell_type": "markdown",
   "id": "2ed710be-7a43-4765-8b1f-ed5c58dce6c0",
   "metadata": {},
   "source": [
    "# Overlay / clipping\n",
    "\n",
    "Data prep:\n",
    "* I saved the cell providers as parquet files locally. Do this so that dask_geopandas can read it in.\n",
    "\n",
    "Steps:\n",
    "1. The cell provider maps are fairly large. Do a clipping and dissolve.\n",
    "a. Use a function to do step 1. Example below does it the clipping by county. Do it either by county or district, then concatenate all the components together.\n",
    "b. With the overlay, maybe it's easier to find where there's `no cell coverage`. Use `how=\"difference\"`...there should be much smaller land area to cover with where there's no coverage.\n",
    "2. Keep each cell provider in a separate gdf, but concatenate across counties/districts. Do a dissolve.\n",
    "3. Do an overlay of all the routes against the dissolved-no-cell-coverage to see what portion of the routes pass through areas with no cell coverage. \n",
    "\n",
    "Hint: start with 1 county first and do this, maybe LA County, and work on one of the problem routes."
   ]
  },
  {
   "cell_type": "code",
   "execution_count": 1,
   "id": "19672832-834f-4a05-b7bf-497fdda5df70",
   "metadata": {},
   "outputs": [
    {
     "name": "stderr",
     "output_type": "stream",
     "text": [
      "/opt/conda/lib/python3.9/site-packages/geopandas/_compat.py:123: UserWarning: The Shapely GEOS version (3.10.3-CAPI-1.16.1) is incompatible with the GEOS version PyGEOS was compiled with (3.10.1-CAPI-1.16.0). Conversions between both will be slow.\n",
      "  warnings.warn(\n"
     ]
    }
   ],
   "source": [
    "import dask.dataframe as dd\n",
    "import dask_geopandas as dg\n",
    "import geopandas as gpd\n",
    "import pandas as pd\n",
    "import utilities\n",
    "from calitp import * \n",
    "from shared_utils import geography_utils\n",
    "\n",
    "GCS_FILE_PATH = \"gs://calitp-analytics-data/data-analyses/cellular_coverage/\""
   ]
  },
  {
   "cell_type": "markdown",
   "id": "02cfc7dc-b1c1-4295-8b9d-7ed9b61cf49b",
   "metadata": {},
   "source": [
    "### Step 1\n",
    "* Experiment with Los Angeles."
   ]
  },
  {
   "cell_type": "code",
   "execution_count": 2,
   "id": "e24085ee-f649-4f36-9193-f8cd856523a6",
   "metadata": {},
   "outputs": [],
   "source": [
    "def get_counties():\n",
    "    # California counties.\n",
    "    ca_gdf = (\n",
    "        \"https://opendata.arcgis.com/datasets/8713ced9b78a4abb97dc130a691a8695_0.geojson\"\n",
    "    )\n",
    "    \n",
    "    my_gdf = to_snakecase(gpd.read_file(f\"{ca_gdf}\")\n",
    "                          .to_crs(\"EPSG:4326\"))[\n",
    "        [\"county_name\", \"geometry\"]\n",
    "    ]\n",
    "    \n",
    "    return my_gdf"
   ]
  },
  {
   "cell_type": "code",
   "execution_count": 3,
   "id": "1c07925a-60c1-41f8-98df-6385155d2417",
   "metadata": {},
   "outputs": [],
   "source": [
    "ca_counties = get_counties()"
   ]
  },
  {
   "cell_type": "code",
   "execution_count": 4,
   "id": "ae37b3b7-8a0c-4bb3-a62a-40913cdd875d",
   "metadata": {},
   "outputs": [],
   "source": [
    "#ca_counties = gpd.read_parquet(\"ca_counties.parquet\")\n",
    "\n",
    "# Pick a smaller area first\n",
    "ca_counties = ca_counties[ca_counties.county_name == \"Los Angeles\"]\n",
    "\n",
    "los_angeles = ca_counties[[\"geometry\"]].dissolve().reset_index(drop=True)"
   ]
  },
  {
   "cell_type": "code",
   "execution_count": 5,
   "id": "969e9d7f-3e97-49d0-afae-2b957cd7e61c",
   "metadata": {},
   "outputs": [
    {
     "data": {
      "text/plain": [
       "<AxesSubplot:>"
      ]
     },
     "execution_count": 5,
     "metadata": {},
     "output_type": "execute_result"
    },
    {
     "data": {
      "image/png": "[encoded data removed]",
      "text/plain": [
       "<Figure size 640x480 with 1 Axes>"
      ]
     },
     "metadata": {},
     "output_type": "display_data"
    }
   ],
   "source": [
    "los_angeles.plot()"
   ]
  },
  {
   "cell_type": "code",
   "execution_count": 6,
   "id": "a7ed1c16-5e8a-44a3-bc60-8f50d9c5c71f",
   "metadata": {},
   "outputs": [],
   "source": [
    "#counties = get_counties()\n",
    "\n",
    "# Provider shapefiles\n",
    "#verizon = utilities.load_verizon()[[\"geometry\"]]\n",
    "#att_df = utilities.load_att()[[\"geometry\"]]\n",
    "#tmobile_df = utilities.load_tmobile()[[\"geometry\"]]\n"
   ]
  },
  {
   "cell_type": "markdown",
   "id": "ed1d2f82-97e7-4ce6-bb80-2433fef48c73",
   "metadata": {},
   "source": [
    "#### Find which areas of LA County doesn't intersect w/ provider"
   ]
  },
  {
   "cell_type": "code",
   "execution_count": 7,
   "id": "68a8ae12-3f76-4f0b-8465-e979a4588488",
   "metadata": {},
   "outputs": [],
   "source": [
    "\n",
    "def find_difference_and_clip(gdf: dg.GeoDataFrame, \n",
    "                             boundary: gpd.GeoDataFrame) -> gpd.GeoDataFrame:\n",
    "    # Clip cell provider to some boundary\n",
    "    clipped = dg.clip(gdf, boundary).reset_index(drop=True) # use dask to clip\n",
    "    clipped_gdf = clipped.compute() # compute converts from dask gdf to gdf\n",
    "    \n",
    "    # Now find the overlay, and find the difference\n",
    "    # Notice which df is on the left and which is on the right\n",
    "    # https://geopandas.org/en/stable/docs/user_guide/set_operations.html\n",
    "    no_coverage = gpd.overlay(boundary, clipped_gdf, how = \"difference\")\n",
    "    \n",
    "    return no_coverage"
   ]
  },
  {
   "cell_type": "markdown",
   "id": "89880df4-376a-4ad8-ac40-cb8c3f9a3775",
   "metadata": {},
   "source": [
    "####  Test with GPD instead of dask\n",
    "* Break out function.\n",
    "* To obtain the geometries that are part of df1 but are not contained in df2, you can use how='difference':"
   ]
  },
  {
   "cell_type": "code",
   "execution_count": 8,
   "id": "41aadb69-8290-480d-8044-5fdf247388bc",
   "metadata": {},
   "outputs": [],
   "source": [
    "def find_difference_and_clip_gpd(gdf: gpd.GeoDataFrame, \n",
    "                             boundary: gpd.GeoDataFrame) -> gpd.GeoDataFrame:\n",
    "    # Clip cell provider to some boundary\n",
    "    clipped = gpd.clip(gdf, boundary).reset_index(drop=True) \n",
    "    \n",
    "    # Now find the overlay, and find the difference\n",
    "    # Notice which df is on the left and which is on the right\n",
    "    # https://geopandas.org/en/stable/docs/user_guide/set_operations.html\n",
    "    no_coverage = gpd.overlay(boundary, clipped, how = \"difference\")\n",
    "    \n",
    "    return no_coverage"
   ]
  },
  {
   "cell_type": "code",
   "execution_count": 9,
   "id": "d4a53f8c-f3d8-44d4-8066-b59259a6e526",
   "metadata": {},
   "outputs": [],
   "source": [
    "# verizon = dg.read_parquet(\"verizon.parquet\")\n",
    "verizon = utilities.load_verizon()[[\"geometry\"]]"
   ]
  },
  {
   "cell_type": "code",
   "execution_count": 10,
   "id": "b55ab236-efd0-47e9-99c3-4336f99a045a",
   "metadata": {},
   "outputs": [],
   "source": [
    "# Clip cell verizon map to only include los angeles.\n",
    "clipped = gpd.clip(verizon, los_angeles).reset_index(drop=True) "
   ]
  },
  {
   "cell_type": "code",
   "execution_count": 11,
   "id": "90f55a14-f502-4a54-8e4a-7fbe13e5ff99",
   "metadata": {},
   "outputs": [
    {
     "data": {
      "text/plain": [
       "<AxesSubplot:>"
      ]
     },
     "execution_count": 11,
     "metadata": {},
     "output_type": "execute_result"
    },
    {
     "data": {
      "image/png": "[encoded data removed]",
      "text/plain": [
       "<Figure size 640x480 with 1 Axes>"
      ]
     },
     "metadata": {},
     "output_type": "display_data"
    }
   ],
   "source": [
    "clipped.plot()"
   ]
  },
  {
   "cell_type": "code",
   "execution_count": 12,
   "id": "710cdb52-8ae0-4136-9de9-eff7b38c12be",
   "metadata": {},
   "outputs": [],
   "source": [
    "# no_coverage_test = gpd.overlay(los_angeles, clipped, how = \"difference\")"
   ]
  },
  {
   "cell_type": "code",
   "execution_count": null,
   "id": "009316dc-b737-40ce-8bb4-efb1d4a29800",
   "metadata": {},
   "outputs": [],
   "source": [
    "v = find_difference_and_clip_gpd(verizon, los_angeles)"
   ]
  },
  {
   "cell_type": "code",
   "execution_count": null,
   "id": "ac9fb83e-470f-4ff6-994c-1a4fb5db4741",
   "metadata": {},
   "outputs": [],
   "source": [
    "# What's in LA county that's not covered by Verizon \n",
    "v.plot()"
   ]
  },
  {
   "cell_type": "code",
   "execution_count": null,
   "id": "465b232c-0773-4357-b531-594ef0a44806",
   "metadata": {},
   "outputs": [],
   "source": [
    "att = utilities.load_att()[[\"geometry\"]]\n",
    "a = find_difference_and_clip_gpd(att, los_angeles)"
   ]
  },
  {
   "cell_type": "code",
   "execution_count": null,
   "id": "ba883eca-e5b6-4627-a02b-89175b811282",
   "metadata": {},
   "outputs": [],
   "source": [
    "a.shape"
   ]
  },
  {
   "cell_type": "code",
   "execution_count": null,
   "id": "14f8236b-f9f9-461a-8151-14b7b0e0a7db",
   "metadata": {},
   "outputs": [],
   "source": [
    "a.plot()"
   ]
  },
  {
   "cell_type": "code",
   "execution_count": null,
   "id": "ac465659-9c2a-474f-abc5-d34039e9093d",
   "metadata": {},
   "outputs": [],
   "source": [
    "# Don't look at tmobile for now since it takes longer.\n",
    "# tmobile = utilities.load_tmobile()[[\"geometry\"]]\n",
    "# t = find_difference_and_clip_gpd(tmobile, los_angeles)"
   ]
  },
  {
   "cell_type": "markdown",
   "id": "21889256-c4b8-48af-bc5e-985b87eaf756",
   "metadata": {},
   "source": [
    "### Step 2: Combine with Routes"
   ]
  },
  {
   "cell_type": "code",
   "execution_count": null,
   "id": "764e9242-ed4e-494f-afdb-d385fd61bce3",
   "metadata": {},
   "outputs": [],
   "source": [
    "routes_df = utilities.load_unique_routes_df()"
   ]
  },
  {
   "cell_type": "code",
   "execution_count": null,
   "id": "ef34bcfc-6807-4317-9dda-aae41fbb2a19",
   "metadata": {},
   "outputs": [],
   "source": [
    "routes_df.shape"
   ]
  },
  {
   "cell_type": "code",
   "execution_count": null,
   "id": "4ffbc7c1-ae33-4e1b-b3b7-abd29d9753af",
   "metadata": {},
   "outputs": [],
   "source": [
    "agency_wanted = [\n",
    "    \"Avocado Heights/Bassett/West Valinda Shuttle\",\n",
    "    \"Golden Gate Bridge Highway and Transportation District\",\n",
    "    \"SamTrans\",\n",
    "    \"MUNI\",\n",
    "    \"Yosemite Area Regional Transportation System\",\n",
    "    \"Los Angeles Department of Transportation\"\n",
    "]\n",
    "\n",
    "routes_wanted = [\n",
    "    \"Edmund D. Edelman Children’s Court Shuttle\",\n",
    "    \"Oakland - San Francisco\",\n",
    "    \"Foster City - Hillsdale Mall\",\n",
    "    \"24 hour service daily\",\n",
    "    \"Mammoth Lakes HWY 120E/395\",\n",
    "    \"Long Beach/San Pedro\"\n",
    "]"
   ]
  },
  {
   "cell_type": "code",
   "execution_count": null,
   "id": "32e78537-8e2a-4cc6-9aa6-4e665f70f1ea",
   "metadata": {},
   "outputs": [],
   "source": [
    "def subset_routes(agency_wanted, routes_wanted):\n",
    "    # Filter out\n",
    "    routes_subset = routes_df[\n",
    "        routes_df[\"route_name\"].isin(routes_wanted)\n",
    "        & routes_df[\"agency\"].isin(agency_wanted)\n",
    "    ]\n",
    "    return routes_subset"
   ]
  },
  {
   "cell_type": "code",
   "execution_count": null,
   "id": "9a47aeee-f4a3-4613-98f1-fbd0d65b87ed",
   "metadata": {},
   "outputs": [],
   "source": [
    "routes_subset = subset_routes(agency_wanted, routes_wanted)"
   ]
  },
  {
   "cell_type": "code",
   "execution_count": null,
   "id": "34a878d3-fef3-4273-a064-c5ebf5481932",
   "metadata": {},
   "outputs": [],
   "source": [
    "routes_subset.shape"
   ]
  },
  {
   "cell_type": "code",
   "execution_count": null,
   "id": "3a1a2018-47f6-46ad-9697-09abc4cf8414",
   "metadata": {},
   "outputs": [],
   "source": [
    "one_route = subset_routes([\"Avocado Heights/Bassett/West Valinda Shuttle\"], \n",
    "                               [\"Edmund D. Edelman Children’s Court Shuttle\"]\n",
    "                              )\n",
    "\n",
    "one_route = one_route.to_crs(\"EPSG:4326\")"
   ]
  },
  {
   "cell_type": "code",
   "execution_count": null,
   "id": "4c17c692-1ec7-48d7-9e9d-74dd54c5943d",
   "metadata": {},
   "outputs": [],
   "source": [
    "one_route"
   ]
  },
  {
   "cell_type": "code",
   "execution_count": null,
   "id": "2a71a0fa-0cc2-41a1-961e-8cefcca57a79",
   "metadata": {},
   "outputs": [],
   "source": [
    "o1 = gpd.overlay(one_route, \n",
    "                 v, \n",
    "                 how = \"intersection\")"
   ]
  },
  {
   "cell_type": "code",
   "execution_count": null,
   "id": "ae469c77-db38-4841-b7b1-adb7349a147e",
   "metadata": {},
   "outputs": [],
   "source": [
    "o1['overlay_length'] = o1.geometry.to_crs(geography_utils.CA_StatePlane).length"
   ]
  },
  {
   "cell_type": "code",
   "execution_count": null,
   "id": "e14c4586-8618-4084-a722-3fa2c835f143",
   "metadata": {},
   "outputs": [],
   "source": [
    "o1"
   ]
  },
  {
   "cell_type": "code",
   "execution_count": null,
   "id": "333185f4-4218-495f-83d4-ccbdaa9765fd",
   "metadata": {},
   "outputs": [],
   "source": [
    "v.explore(tiles=\"CartoDB Positron\")"
   ]
  },
  {
   "cell_type": "code",
   "execution_count": null,
   "id": "79159560-152c-40a9-9ed6-3b9c41db9063",
   "metadata": {},
   "outputs": [],
   "source": [
    "one_route.plot()"
   ]
  },
  {
   "cell_type": "code",
   "execution_count": null,
   "id": "1eaae288-d46f-4edf-8d4b-00a9f530ef1c",
   "metadata": {},
   "outputs": [],
   "source": [
    "o1.explore(tiles=\"CartoDB Positron\")"
   ]
  },
  {
   "cell_type": "code",
   "execution_count": null,
   "id": "12a12e32-0baf-452d-a64a-6f78c76aeee0",
   "metadata": {},
   "outputs": [],
   "source": [
    "one_route.assign(\n",
    "    length = one_route.geometry.length\n",
    ").explore(tiles=\"CartoDB Positron\")"
   ]
  },
  {
   "cell_type": "code",
   "execution_count": null,
   "id": "2470852c-83f5-49ad-90d5-b077f652fe6b",
   "metadata": {},
   "outputs": [],
   "source": [
    "one_route.head(2)"
   ]
  },
  {
   "cell_type": "code",
   "execution_count": null,
   "id": "02b09277-2de8-44a2-beb7-31ec852a4063",
   "metadata": {},
   "outputs": [],
   "source": [
    "one_route.explode()"
   ]
  },
  {
   "cell_type": "code",
   "execution_count": null,
   "id": "5f0f9c94-9187-462b-92ea-7a6c06143ae9",
   "metadata": {},
   "outputs": [],
   "source": [
    "one_route.explode().plot()"
   ]
  },
  {
   "cell_type": "code",
   "execution_count": null,
   "id": "656427cd-6006-437f-96f8-4cea2499297c",
   "metadata": {},
   "outputs": [],
   "source": [
    "group_cols = [\"itp_id\", \"route_id\"]\n",
    "segmented_100ft = geography_utils.cut_segments(one_route, group_cols, 100)"
   ]
  },
  {
   "cell_type": "code",
   "execution_count": null,
   "id": "2e029e61-d6f7-4664-aacb-bfecbaf5de2b",
   "metadata": {},
   "outputs": [],
   "source": [
    "segmented_100ft.segment_sequence.describe()"
   ]
  },
  {
   "cell_type": "code",
   "execution_count": null,
   "id": "56e16939-5464-463d-81e5-baa93acde989",
   "metadata": {},
   "outputs": [],
   "source": [
    "segmented_100ft.explore(\"segment_sequence\", tiles=\"Carto DB Positron\")"
   ]
  },
  {
   "cell_type": "code",
   "execution_count": null,
   "id": "19e1b984-f2a7-432c-8b88-4bc8f8af1165",
   "metadata": {},
   "outputs": [],
   "source": [
    "s1_segmented.explore(\"segment_sequence\", tiles=\"CartoDB Positron\")"
   ]
  },
  {
   "cell_type": "code",
   "execution_count": null,
   "id": "6d93f2ee-0f4d-4822-af3a-c8c8b1bfd408",
   "metadata": {},
   "outputs": [],
   "source": [
    "s1 = gpd.overlay(\n",
    "    one_route, \n",
    "    la_county, \n",
    "    how=\"intersection\", \n",
    ")\n",
    "\n",
    "s1"
   ]
  },
  {
   "cell_type": "code",
   "execution_count": null,
   "id": "28675e7f-d4ca-4667-a43b-74c97d14ab4c",
   "metadata": {},
   "outputs": [],
   "source": [
    "s1_segmented = geography_utils.cut_segments(s1, group_cols, 100)"
   ]
  },
  {
   "cell_type": "code",
   "execution_count": null,
   "id": "83e5b657-4316-483c-b52c-13f2ff8082e8",
   "metadata": {},
   "outputs": [],
   "source": [
    "s1_segmented.segment_sequence.describe()"
   ]
  },
  {
   "cell_type": "code",
   "execution_count": null,
   "id": "fc069b57-dbcb-4e5f-bff4-922b65775f8f",
   "metadata": {},
   "outputs": [],
   "source": [
    "s1"
   ]
  },
  {
   "cell_type": "code",
   "execution_count": null,
   "id": "c18497f1-c4cb-431d-871a-865f341364f1",
   "metadata": {},
   "outputs": [],
   "source": [
    "exploded = s1.explode(index_parts=True).reset_index()\n"
   ]
  },
  {
   "cell_type": "code",
   "execution_count": null,
   "id": "b642332c-dea6-4498-811c-63caad1821a2",
   "metadata": {},
   "outputs": [],
   "source": [
    "exploded = exploded.assign(\n",
    "    indiv_length = exploded.geometry.length\n",
    ")"
   ]
  },
  {
   "cell_type": "code",
   "execution_count": null,
   "id": "ccfda318-2889-47c6-95ae-292ba9b8a767",
   "metadata": {},
   "outputs": [],
   "source": [
    "exploded.indiv_length.sum()"
   ]
  },
  {
   "cell_type": "code",
   "execution_count": null,
   "id": "8bdf3104-1067-4634-9797-0b54a03e368b",
   "metadata": {},
   "outputs": [],
   "source": [
    "exploded.level_1.max()"
   ]
  },
  {
   "cell_type": "code",
   "execution_count": null,
   "id": "536f553c-2153-442f-8450-3ecfb37a0829",
   "metadata": {},
   "outputs": [],
   "source": [
    "gpd.sjoin(\n",
    "    exploded,\n",
    "    one_route,\n",
    "    how = \"left\",\n",
    "    predicate = \"intersects\"\n",
    ")#.explore(\"level_1\", categorical=True, tiles=\"CartoDB Positron\")\n"
   ]
  },
  {
   "cell_type": "code",
   "execution_count": null,
   "id": "8b3dba75-6945-47c0-aa1e-3a69fed8db93",
   "metadata": {},
   "outputs": [],
   "source": [
    "court_shuttle = routes_df[(routes_df.route_name.str.contains(\"Edmund\"))]"
   ]
  },
  {
   "cell_type": "code",
   "execution_count": null,
   "id": "2d6851f2-ca4f-42a6-8aad-33f36cf27a28",
   "metadata": {},
   "outputs": [],
   "source": [
    "court_shuttle = court_shuttle.assign(\n",
    "    route_length = court_shuttle.geometry.to_crs(geography_utils.CA_StatePlane).length\n",
    ")"
   ]
  },
  {
   "cell_type": "code",
   "execution_count": null,
   "id": "027a4a7c-e74c-43e3-a999-4699f3757503",
   "metadata": {},
   "outputs": [],
   "source": [
    "counties2 = counties[counties.county_name==\"Los Angeles\"]"
   ]
  },
  {
   "cell_type": "code",
   "execution_count": null,
   "id": "4c2bede9-f3ed-4913-a7f5-b3f132b3f78c",
   "metadata": {},
   "outputs": [],
   "source": [
    "court_shuttle.explore(\"route_id\")"
   ]
  },
  {
   "cell_type": "code",
   "execution_count": null,
   "id": "a60a7be1-e0a2-4b15-96e7-22c08ac9d95c",
   "metadata": {},
   "outputs": [],
   "source": [
    "one_route.overlay(\n",
    "    counties2, \n",
    "    how=\"intersection\", \n",
    "    keep_geom_type=None\n",
    ").plot()\n",
    "\n",
    "#s2 = s2.assign(\n",
    "#    overlay_route_length = s2.geometry.to_crs(geography_utils.CA_StatePlane).length\n",
    "#)\n",
    "\n",
    "#s2"
   ]
  },
  {
   "cell_type": "code",
   "execution_count": null,
   "id": "5394ec20-9efa-4ed3-a78b-ecb984e40a62",
   "metadata": {},
   "outputs": [],
   "source": [
    "s2.geometry.name"
   ]
  },
  {
   "cell_type": "code",
   "execution_count": null,
   "id": "ce9f6f80-4f4f-4298-a753-164932ba1c09",
   "metadata": {},
   "outputs": [],
   "source": []
  }
 ],
 "metadata": {
  "kernelspec": {
   "display_name": "Python 3 (ipykernel)",
   "language": "python",
   "name": "python3"
  },
  "language_info": {
   "codemirror_mode": {
    "name": "ipython",
    "version": 3
   },
   "file_extension": ".py",
   "mimetype": "text/x-python",
   "name": "python",
   "nbconvert_exporter": "python",
   "pygments_lexer": "ipython3",
   "version": "3.9.13"
  }
 },
 "nbformat": 4,
 "nbformat_minor": 5
}
