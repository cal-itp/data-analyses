{
 "cells": [
  {
   "cell_type": "markdown",
   "id": "6c3106fd-51c5-4d5c-af7a-9c94c45b5787",
   "metadata": {},
   "source": [
    "## Verizon \n",
    "* Tried to use `complete_difference_provider_district_level` on Verizon a few times. \n",
    "* Always stopped at `Verizon_no_coverage_d8.parquet`. \n",
    "* Goal: run the rest of the districts in a reproducible way.\n",
    "* Take the rest of the districts and combine it with what's already there."
   ]
  },
  {
   "cell_type": "code",
   "execution_count": 1,
   "id": "fdecaba6-cda9-47e6-944c-9daf957b2848",
   "metadata": {},
   "outputs": [
    {
     "name": "stderr",
     "output_type": "stream",
     "text": [
      "/opt/conda/lib/python3.9/site-packages/geopandas/_compat.py:123: UserWarning: The Shapely GEOS version (3.10.3-CAPI-1.16.1) is incompatible with the GEOS version PyGEOS was compiled with (3.10.1-CAPI-1.16.0). Conversions between both will be slow.\n",
      "  warnings.warn(\n"
     ]
    }
   ],
   "source": [
    "import dask.dataframe as dd\n",
    "import dask_geopandas as dg\n",
    "import geopandas as gpd\n",
    "import numpy as np\n",
    "import pandas as pd\n",
    "import A1_provider_prep\n",
    "import A2_analysis\n",
    "import A3_other\n",
    "from calitp.sql import to_snakecase\n",
    "from shared_utils import geography_utils, utils"
   ]
  },
  {
   "cell_type": "code",
   "execution_count": 2,
   "id": "76c4c3ee-e73a-4ad4-8672-2100d954e596",
   "metadata": {},
   "outputs": [],
   "source": [
    "# import gcsfs\n",
    "from calitp.storage import get_fs\n",
    "fs = get_fs()"
   ]
  },
  {
   "cell_type": "code",
   "execution_count": 3,
   "id": "6cdced75-22b8-46ac-b0ca-f7075251dc5f",
   "metadata": {},
   "outputs": [],
   "source": [
    "pd.options.display.max_columns = 100\n",
    "pd.options.display.float_format = \"{:.2f}\".format\n",
    "pd.set_option(\"display.max_rows\", None)\n",
    "pd.set_option(\"display.max_colwidth\", None)"
   ]
  },
  {
   "cell_type": "code",
   "execution_count": 4,
   "id": "95266b39-2f28-43a5-9d15-9d1c043d0822",
   "metadata": {},
   "outputs": [],
   "source": [
    "# Read in og Verizon\n",
    "verizon = dg.read_parquet(\"Verizon.parquet\")"
   ]
  },
  {
   "cell_type": "code",
   "execution_count": 5,
   "id": "2c65e3fb-6562-4b64-8cb2-b3fb845c5cd0",
   "metadata": {},
   "outputs": [],
   "source": [
    "districts = A1_provider_prep.get_districts()"
   ]
  },
  {
   "cell_type": "markdown",
   "id": "194aafb5-ac33-49fa-b809-017fbc2b739d",
   "metadata": {},
   "source": [
    "### First find districts that are missing in a reproducible way...\n",
    "* Haven't add this to `A1_provider_prep` yet.\n",
    "* https://github.com/cal-itp/data-analyses/blob/main/daskify_rt/A4_speeds_by_segment_trip.py#L45-L58"
   ]
  },
  {
   "cell_type": "code",
   "execution_count": 6,
   "id": "db5956b0-d08f-4648-ad9d-05dff953e334",
   "metadata": {},
   "outputs": [],
   "source": [
    "def find_missing_districts(phrase_to_find:str):\n",
    "    \"\"\"\n",
    "    Search for files that contain a certain string\n",
    "    phrase and see which districts are missing.\n",
    "    \"\"\"\n",
    "    # List of all files in my cell coverage folder\n",
    "    all_files_in_folder = fs.ls(GCS_FILE_PATH)\n",
    "    \n",
    "    # Grab only files with the string \"Verizon_no_coverage_\"\n",
    "    files = [i for i in all_files_in_folder if phrase_to_find in i]\n",
    "    \n",
    "    # Find the districts that I have files for \n",
    "    districts_already_run =[i.split('no_coverage_d')[1] for i in files]\n",
    "    \n",
    "    # Get rid of .parquet\n",
    "    districts_already_run = [i.split('.parquet')[0] for i in districts_already_run]\n",
    "    \n",
    "    # Turn values into an integer\n",
    "    districts_already_run = [int(i) for i in districts_already_run]\n",
    "    \n",
    "    # All districts \n",
    "    all_districts = [*range(1, 13, 1)]\n",
    "    \n",
    "    # list of districts I still have to run function on \n",
    "    missing_districts = list(set(all_districts) - set(districts_already_run))\n",
    "    \n",
    "    return missing_districts"
   ]
  },
  {
   "cell_type": "code",
   "execution_count": 7,
   "id": "9a71936a-0604-4ad7-bdcf-89cd0b40bbd4",
   "metadata": {},
   "outputs": [],
   "source": [
    "# verizon_missing_dist = find_missing_districts()"
   ]
  },
  {
   "cell_type": "code",
   "execution_count": 8,
   "id": "559ce1c6-1dc6-451f-be8a-28025a3b9e03",
   "metadata": {},
   "outputs": [],
   "source": [
    "# verizon_missing_dist"
   ]
  },
  {
   "cell_type": "markdown",
   "id": "2a8b0e14-28be-485d-b867-dbf2cd7c2b56",
   "metadata": {},
   "source": [
    "### Run the function for the missing districts"
   ]
  },
  {
   "cell_type": "code",
   "execution_count": 17,
   "id": "0c2b6826-cc39-4f6e-84e3-5b1329cf53dc",
   "metadata": {},
   "outputs": [],
   "source": [
    "# verizon_9_12 = A1_provider_prep.complete_difference_provider_district_level(verizon, districts, 'verizon', verizon_missing_dist)"
   ]
  },
  {
   "cell_type": "markdown",
   "id": "a1d57f6f-40e2-4d04-a27d-30631ccd9884",
   "metadata": {},
   "source": [
    "### Piece together the other files that worked last time...\n",
    "* Haven't add this to `A1_provider_prep` yet."
   ]
  },
  {
   "cell_type": "code",
   "execution_count": 38,
   "id": "c8a5c4f4-6529-4444-bdbf-9b4282d6feca",
   "metadata": {},
   "outputs": [],
   "source": [
    "def verizon_sjoin():\n",
    "    \n",
    "    # Read files for district 9 to 12\n",
    "    v_d9_d12 = gpd.read_parquet(f\"{GCS_FILE_PATH}d9_to_d12_verizon_no_coverage_complete_CA.parquet\")\n",
    "    \n",
    "    # Create a list of all the files in my folder\n",
    "    all_files_in_folder = fs.ls(GCS_FILE_PATH)\n",
    "    \n",
    "    # Grab only files with the string \"Verizon_no_coverage_\"\n",
    "    verizon_files = [i for i in all_files_in_folder if \"Verizon_no_coverage_\" in i]\n",
    "    \n",
    "    # String to add to read the Verizon only files\n",
    "    my_string = \"gs://\"\n",
    "    verizon_files = [my_string + i for i in verizon_files]\n",
    "    \n",
    "    # Concat district 1 to district 8 files\n",
    "    v_d1_d8= dd.multi.concat([gpd.read_parquet(f) for f in verizon_files])\n",
    "    \n",
    "    # Turn into a gdf\n",
    "    v_d1_d8 = v_d1_d8.compute()\n",
    "    \n",
    "    # List of two files that contain the split apart districts\n",
    "    verizon_all_gdf = [v_d1_d8, v_d9_d12]\n",
    "    \n",
    "    # Add the Verizon files together\n",
    "    v_complete = concat_all_areas(verizon_all_gdf, GCS_FILE_PATH, \"verizon_no_coverage_complete_CA\")\n",
    "    \n",
    "    return v_complete"
   ]
  },
  {
   "cell_type": "code",
   "execution_count": 18,
   "id": "92d6333e-ac1a-456d-8e5a-f553bc10cccf",
   "metadata": {},
   "outputs": [],
   "source": [
    "# v_d9_d12 = gpd.read_parquet(\n",
    "   # \"gs://calitp-analytics-data/data-analyses/cellular_coverage/d9_to_d12_verizon_no_coverage_complete_CA.parquet\"\n",
    "# )"
   ]
  },
  {
   "cell_type": "code",
   "execution_count": 19,
   "id": "cf996d5a-1596-461f-a1d6-e99eb5dc17ba",
   "metadata": {},
   "outputs": [],
   "source": [
    "# v_d9_d12.shape"
   ]
  },
  {
   "cell_type": "code",
   "execution_count": 20,
   "id": "5b03451f-662e-40a2-9795-f928461c5953",
   "metadata": {},
   "outputs": [],
   "source": [
    "# all_files_in_folder = fs.ls(A1_provider_prep.GCS_FILE_PATH)"
   ]
  },
  {
   "cell_type": "code",
   "execution_count": 21,
   "id": "5f8eee8c-8248-4fbc-8d0b-8f1b7736d231",
   "metadata": {},
   "outputs": [],
   "source": [
    "# Grab only files with the string \"Verizon_no_coverage_\"\n",
    "# verizon_files = [i for i in all_files_in_folder if \"Verizon_no_coverage_\" in i]"
   ]
  },
  {
   "cell_type": "code",
   "execution_count": 22,
   "id": "543cb11e-ce4e-4b42-8d0f-101aed3efa21",
   "metadata": {},
   "outputs": [],
   "source": [
    "# my_string = \"gs://\""
   ]
  },
  {
   "cell_type": "code",
   "execution_count": 23,
   "id": "4e1eb777-ce11-4fc7-a31d-2555f6f6b7d1",
   "metadata": {},
   "outputs": [],
   "source": [
    "# verizon_files = [my_string + i for i in verizon_files]"
   ]
  },
  {
   "cell_type": "code",
   "execution_count": 24,
   "id": "ecb763c6-aa1e-421a-ad92-cc994d5c2720",
   "metadata": {},
   "outputs": [],
   "source": [
    "# v_d1_d8= dd.multi.concat([gpd.read_parquet(f) for f in verizon_files])"
   ]
  },
  {
   "cell_type": "code",
   "execution_count": 25,
   "id": "f3efc119-e8c4-4664-98cb-6459789da26f",
   "metadata": {},
   "outputs": [],
   "source": [
    "# v_d1_d8 = v_d1_d8.compute()"
   ]
  },
  {
   "cell_type": "code",
   "execution_count": 26,
   "id": "b636fa5f-0c6a-46ac-a921-7fb2008313d4",
   "metadata": {},
   "outputs": [],
   "source": [
    "# verizon_all_gdf = [v_d1_d8, v_d9_d12]"
   ]
  },
  {
   "cell_type": "code",
   "execution_count": 27,
   "id": "ee674e60-357b-47fc-bcad-c1121528306e",
   "metadata": {},
   "outputs": [],
   "source": [
    "# v_complete = A1_provider_prep.concat_all_areas(verizon_all_gdf, A1_provider_prep.GCS_FILE_PATH, \"verizon_no_coverage_complete_CA\")"
   ]
  },
  {
   "cell_type": "code",
   "execution_count": 28,
   "id": "653b8c57-3895-4308-9aea-fe284575e642",
   "metadata": {},
   "outputs": [],
   "source": [
    "v_all = gpd.read_parquet(\n",
    "    \"gs://calitp-analytics-data/data-analyses/cellular_coverage/verizon_no_coverage_complete_CA.parquet\"\n",
    ")"
   ]
  },
  {
   "cell_type": "code",
   "execution_count": 37,
   "id": "08b7dd6e-3531-4b19-9a34-a64dc7c867ab",
   "metadata": {},
   "outputs": [
    {
     "data": {
      "text/plain": [
       "(12, 1)"
      ]
     },
     "execution_count": 37,
     "metadata": {},
     "output_type": "execute_result"
    }
   ],
   "source": [
    "v_all.shape"
   ]
  },
  {
   "cell_type": "code",
   "execution_count": 36,
   "id": "2497a7a4-ac32-4aed-a9c3-2b0022920856",
   "metadata": {},
   "outputs": [],
   "source": [
    "# v_all.plot(figsize=(30,30))"
   ]
  },
  {
   "cell_type": "code",
   "execution_count": 33,
   "id": "c2f2dbd1-e13d-47cc-b15a-a22d21c35c36",
   "metadata": {},
   "outputs": [
    {
     "data": {
      "text/plain": [
       "<AxesSubplot:>"
      ]
     },
     "execution_count": 33,
     "metadata": {},
     "output_type": "execute_result"
    },
    {
     "data": {
      "image/png": "[encoded data removed]",
      "text/plain": [
       "<Figure size 640x480 with 1 Axes>"
      ]
     },
     "metadata": {},
     "output_type": "display_data"
    }
   ],
   "source": [
    "gpd.read_parquet(\n",
    "    \"gs://calitp-analytics-data/data-analyses/cellular_coverage/Verizon_no_coverage_d4.parquet\"\n",
    ").plot()"
   ]
  }
 ],
 "metadata": {
  "kernelspec": {
   "display_name": "Python 3 (ipykernel)",
   "language": "python",
   "name": "python3"
  },
  "language_info": {
   "codemirror_mode": {
    "name": "ipython",
    "version": 3
   },
   "file_extension": ".py",
   "mimetype": "text/x-python",
   "name": "python",
   "nbconvert_exporter": "python",
   "pygments_lexer": "ipython3",
   "version": "3.9.13"
  }
 },
 "nbformat": 4,
 "nbformat_minor": 5
}
