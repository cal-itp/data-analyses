{
 "cells": [
  {
   "cell_type": "code",
   "execution_count": 1,
   "id": "38904c5d-5ffb-447e-8ec9-ee6e70daaac4",
   "metadata": {},
   "outputs": [
    {
     "name": "stderr",
     "output_type": "stream",
     "text": [
      "/opt/conda/lib/python3.10/site-packages/geopandas/_compat.py:112: UserWarning: The Shapely GEOS version (3.10.3-CAPI-1.16.1) is incompatible with the GEOS version PyGEOS was compiled with (3.10.1-CAPI-1.16.0). Conversions between both will be slow.\n",
      "  warnings.warn(\n"
     ]
    }
   ],
   "source": [
    "# Read in zip files\n",
    "import fsspec\n",
    "import geopandas as gpd\n",
    "import intake\n",
    "import numpy as np\n",
    "import pandas as pd\n",
    "\n",
    "# My utilities\n",
    "import utilities\n",
    "from calitp import *\n",
    "\n",
    "# Display\n",
    "from IPython.display import HTML, Image, Markdown, display, display_html\n",
    "\n",
    "# Geometry\n",
    "from shared_utils import geography_utils, utils"
   ]
  },
  {
   "cell_type": "markdown",
   "id": "83f7ba4e-55c8-4d25-808d-4af741afcbcb",
   "metadata": {
    "tags": []
   },
   "source": [
    "## Trips\n",
    "* How many trips are running for a route?"
   ]
  },
  {
   "cell_type": "code",
   "execution_count": 5,
   "id": "a85a47c4-14bf-48ec-a1b9-4ed45564e7bf",
   "metadata": {},
   "outputs": [],
   "source": [
    "trips_df = pd.read_parquet(\n",
    "    \"gs://calitp-analytics-data/data-analyses/rt_delay/compiled_cached_views/trips_2022-05-04_all.parquet\"\n",
    ")"
   ]
  },
  {
   "cell_type": "code",
   "execution_count": 9,
   "id": "6758ad7b-67b1-48a0-ad41-74dfa3c40597",
   "metadata": {},
   "outputs": [
    {
     "data": {
      "text/plain": [
       "(104934, 14)"
      ]
     },
     "execution_count": 9,
     "metadata": {},
     "output_type": "execute_result"
    }
   ],
   "source": [
    "trips_df.shape"
   ]
  },
  {
   "cell_type": "code",
   "execution_count": 11,
   "id": "eababbe4-6621-406c-b919-59b809b1e135",
   "metadata": {},
   "outputs": [],
   "source": [
    "# Standardize route id  \n",
    "trips_df[\"route_id\"] = trips_df[\"route_id\"].str.lower().str.strip()"
   ]
  },
  {
   "cell_type": "code",
   "execution_count": 26,
   "id": "a913f396-5528-4091-9518-1900f6178697",
   "metadata": {},
   "outputs": [],
   "source": [
    "# Aggregate trips_df: count each trip id based on unique? \n",
    "trips_agg = (trips_df\n",
    "             .groupby(['calitp_itp_id', 'route_id'])\n",
    "             .agg({'trip_id':'nunique'})\n",
    "             .reset_index()\n",
    "             .rename(columns = {'trip_id':'total_trips'})\n",
    "            )"
   ]
  },
  {
   "cell_type": "code",
   "execution_count": 27,
   "id": "d54ec96a-607d-426a-a616-9e8957a4e523",
   "metadata": {},
   "outputs": [
    {
     "data": {
      "text/html": [
       "<div>\n",
       "<style scoped>\n",
       "    .dataframe tbody tr th:only-of-type {\n",
       "        vertical-align: middle;\n",
       "    }\n",
       "\n",
       "    .dataframe tbody tr th {\n",
       "        vertical-align: top;\n",
       "    }\n",
       "\n",
       "    .dataframe thead th {\n",
       "        text-align: right;\n",
       "    }\n",
       "</style>\n",
       "<table border=\"1\" class=\"dataframe\">\n",
       "  <thead>\n",
       "    <tr style=\"text-align: right;\">\n",
       "      <th></th>\n",
       "      <th>calitp_itp_id</th>\n",
       "      <th>route_id</th>\n",
       "      <th>total_trips</th>\n",
       "    </tr>\n",
       "  </thead>\n",
       "  <tbody>\n",
       "    <tr>\n",
       "      <th>1016</th>\n",
       "      <td>182</td>\n",
       "      <td>16-13159</td>\n",
       "      <td>275</td>\n",
       "    </tr>\n",
       "    <tr>\n",
       "      <th>1075</th>\n",
       "      <td>182</td>\n",
       "      <td>51-13159</td>\n",
       "      <td>280</td>\n",
       "    </tr>\n",
       "    <tr>\n",
       "      <th>1879</th>\n",
       "      <td>281</td>\n",
       "      <td>red line</td>\n",
       "      <td>288</td>\n",
       "    </tr>\n",
       "    <tr>\n",
       "      <th>1770</th>\n",
       "      <td>278</td>\n",
       "      <td>510</td>\n",
       "      <td>292</td>\n",
       "    </tr>\n",
       "    <tr>\n",
       "      <th>1096</th>\n",
       "      <td>182</td>\n",
       "      <td>720-13159</td>\n",
       "      <td>322</td>\n",
       "    </tr>\n",
       "    <tr>\n",
       "      <th>160</th>\n",
       "      <td>13</td>\n",
       "      <td>37329</td>\n",
       "      <td>356</td>\n",
       "    </tr>\n",
       "    <tr>\n",
       "      <th>1877</th>\n",
       "      <td>281</td>\n",
       "      <td>blue line</td>\n",
       "      <td>360</td>\n",
       "    </tr>\n",
       "    <tr>\n",
       "      <th>1132</th>\n",
       "      <td>183</td>\n",
       "      <td>4444</td>\n",
       "      <td>361</td>\n",
       "    </tr>\n",
       "    <tr>\n",
       "      <th>194</th>\n",
       "      <td>13</td>\n",
       "      <td>71</td>\n",
       "      <td>386</td>\n",
       "    </tr>\n",
       "    <tr>\n",
       "      <th>1104</th>\n",
       "      <td>182</td>\n",
       "      <td>804</td>\n",
       "      <td>406</td>\n",
       "    </tr>\n",
       "  </tbody>\n",
       "</table>\n",
       "</div>"
      ],
      "text/plain": [
       "      calitp_itp_id   route_id  total_trips\n",
       "1016            182   16-13159          275\n",
       "1075            182   51-13159          280\n",
       "1879            281   red line          288\n",
       "1770            278        510          292\n",
       "1096            182  720-13159          322\n",
       "160              13      37329          356\n",
       "1877            281  blue line          360\n",
       "1132            183       4444          361\n",
       "194              13         71          386\n",
       "1104            182        804          406"
      ]
     },
     "execution_count": 27,
     "metadata": {},
     "output_type": "execute_result"
    }
   ],
   "source": [
    "trips_agg.sort_values('total_trips').tail(10)"
   ]
  },
  {
   "cell_type": "code",
   "execution_count": 13,
   "id": "67e4fdc3-b9f0-4d15-9088-baee7a9fa18e",
   "metadata": {},
   "outputs": [],
   "source": [
    "# att_routes_list = att_merge_low_coverage[\"route_id\"].unique().tolist()"
   ]
  },
  {
   "cell_type": "code",
   "execution_count": null,
   "id": "31b9d91d-e715-42b3-94e8-f7b8fc05c233",
   "metadata": {},
   "outputs": [],
   "source": [
    "# Filter out for route IDS\n",
    "# trips_df2 = trips_df[trips_df[\"route_id\"].isin(att_routes_list)]"
   ]
  },
  {
   "cell_type": "code",
   "execution_count": null,
   "id": "6b6e9840-15eb-47fc-9b03-a56b9d49b38f",
   "metadata": {},
   "outputs": [],
   "source": [
    "# So many route ids disappeared\n",
    "# f'{trips_df2[\"route_id\"].nunique()} routes left after filtering trips_df compared to {len(att_routes_list)} routes in overlay.'"
   ]
  },
  {
   "cell_type": "code",
   "execution_count": null,
   "id": "0da7e4c0-bef3-454d-b619-a839fb367153",
   "metadata": {
    "scrolled": true,
    "tags": []
   },
   "outputs": [],
   "source": [
    "# Checking which ones are missing.\n",
    "# id_routes = set(att_routes_list)\n",
    "# id_trips = set(trips_df2.route_id.unique().tolist())\n",
    "# missing_routes = list(id_routes - id_trips)"
   ]
  },
  {
   "cell_type": "code",
   "execution_count": null,
   "id": "0db04da1-99ee-477f-847e-072b6f7b0c5e",
   "metadata": {},
   "outputs": [],
   "source": [
    "f\"{1-(len(id_trips)/len(id_routes))}% of routes are missing.\""
   ]
  }
 ],
 "metadata": {
  "kernelspec": {
   "display_name": "Python 3 (ipykernel)",
   "language": "python",
   "name": "python3"
  },
  "language_info": {
   "codemirror_mode": {
    "name": "ipython",
    "version": 3
   },
   "file_extension": ".py",
   "mimetype": "text/x-python",
   "name": "python",
   "nbconvert_exporter": "python",
   "pygments_lexer": "ipython3",
   "version": "3.10.5"
  }
 },
 "nbformat": 4,
 "nbformat_minor": 5
}
