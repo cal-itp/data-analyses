{
 "cells": [
  {
   "cell_type": "markdown",
   "id": "b928e731-21e0-43cf-9e0d-225fe3219958",
   "metadata": {},
   "source": [
    "# Analysis\n",
    "* Create yml for all my files. \n",
    "* Save overlay? "
   ]
  },
  {
   "cell_type": "code",
   "execution_count": 1,
   "id": "6e564810-c581-4d7a-9200-17e9cb3653b3",
   "metadata": {},
   "outputs": [
    {
     "name": "stderr",
     "output_type": "stream",
     "text": [
      "/opt/conda/lib/python3.9/site-packages/geopandas/_compat.py:123: UserWarning: The Shapely GEOS version (3.10.3-CAPI-1.16.1) is incompatible with the GEOS version PyGEOS was compiled with (3.10.1-CAPI-1.16.0). Conversions between both will be slow.\n",
      "  warnings.warn(\n"
     ]
    }
   ],
   "source": [
    "import altair as alt\n",
    "import fsspec\n",
    "import geopandas as gpd\n",
    "import intake\n",
    "import numpy as np\n",
    "import pandas as pd\n",
    "import A1_provider_prep\n",
    "import A2_analysis\n",
    "import A3_other\n",
    "from calitp import *\n",
    "from IPython.display import HTML, Image, Markdown, display, display_html\n",
    "from shared_utils import geography_utils, utils"
   ]
  },
  {
   "cell_type": "code",
   "execution_count": 2,
   "id": "92fabdd3-f7be-42e8-8d71-11f7960429aa",
   "metadata": {},
   "outputs": [],
   "source": [
    "pd.options.display.max_columns = 100\n",
    "pd.options.display.float_format = \"{:.2f}\".format\n",
    "pd.set_option(\"display.max_rows\", None)\n",
    "pd.set_option(\"display.max_colwidth\", None)"
   ]
  },
  {
   "cell_type": "code",
   "execution_count": 3,
   "id": "2ebb09d9-302c-4bf7-ab9a-59b30c028d1b",
   "metadata": {},
   "outputs": [],
   "source": [
    "routes_df = A3_other.load_unique_routes_df()"
   ]
  },
  {
   "cell_type": "code",
   "execution_count": 4,
   "id": "1a2cf7e0-ec77-4540-a4ab-a78be57459d8",
   "metadata": {},
   "outputs": [
    {
     "data": {
      "text/plain": [
       "(2829, 7)"
      ]
     },
     "execution_count": 4,
     "metadata": {},
     "output_type": "execute_result"
    }
   ],
   "source": [
    "routes_df.shape"
   ]
  },
  {
   "cell_type": "markdown",
   "id": "a908062d-36be-4eba-8cd4-21f17ff0a6a4",
   "metadata": {},
   "source": [
    "## T-Mobile"
   ]
  },
  {
   "cell_type": "code",
   "execution_count": 5,
   "id": "cf2e74ea-933c-4a8c-904b-6ae9c4703925",
   "metadata": {},
   "outputs": [],
   "source": [
    "tmobile_df = gpd.read_parquet(f\"{A1_provider_prep.GCS_FILE_PATH}tmobile_california.parquet\")"
   ]
  },
  {
   "cell_type": "code",
   "execution_count": null,
   "id": "a8d27c37-13d0-45ea-b344-440741292585",
   "metadata": {},
   "outputs": [],
   "source": [
    "tmobile_m1 = A2_analysis.route_cell_coverage(tmobile_df, routes_df, \"_tmobile\")"
   ]
  },
  {
   "cell_type": "code",
   "execution_count": null,
   "id": "b8a3d3c5-e645-4c4c-8c10-f6c1b5c6b9ba",
   "metadata": {},
   "outputs": [],
   "source": [
    "tmobile_m1.shape"
   ]
  },
  {
   "cell_type": "code",
   "execution_count": null,
   "id": "c9e8c4c9-5673-43ad-988e-c0a2e5a6ac8b",
   "metadata": {},
   "outputs": [],
   "source": [
    "(tmobile_m1[\"binned_tmobile\"].value_counts() / len(tmobile_m1)) * 100"
   ]
  },
  {
   "cell_type": "markdown",
   "id": "f9753413-24f7-4a2c-af2d-410c593a0914",
   "metadata": {},
   "source": [
    "## AT&T"
   ]
  },
  {
   "cell_type": "code",
   "execution_count": null,
   "id": "9f2b2db2-51e5-4e30-b466-7626069e79ad",
   "metadata": {},
   "outputs": [],
   "source": [
    "att_df = A1_provider_prep.load_att()"
   ]
  },
  {
   "cell_type": "code",
   "execution_count": null,
   "id": "b21218ac-4cb9-4b28-a237-c72df293bd4f",
   "metadata": {},
   "outputs": [],
   "source": [
    "att_m1 = A2_analysis.route_cell_coverage(att_df, routes_df, \"_att\")"
   ]
  },
  {
   "cell_type": "code",
   "execution_count": null,
   "id": "b9fe7716-28e4-470e-be44-383308190d4c",
   "metadata": {},
   "outputs": [],
   "source": [
    "att_m1.shape"
   ]
  },
  {
   "cell_type": "code",
   "execution_count": null,
   "id": "a602b9d5-27ca-458b-bc89-4929710022e5",
   "metadata": {},
   "outputs": [],
   "source": [
    "(att_m1[\"binned_att\"].value_counts() / len(att_m1)) * 100"
   ]
  },
  {
   "cell_type": "code",
   "execution_count": null,
   "id": "c74669c2-39d5-4ed6-9e40-228a105a2ccb",
   "metadata": {},
   "outputs": [],
   "source": [
    "#att_m1.loc[att_m1['agency'] == \"Roseville Transit\"].drop(columns = ['geometry_overlay_att'])"
   ]
  },
  {
   "cell_type": "markdown",
   "id": "c0aae5bd-12aa-43a9-9617-1065f172091c",
   "metadata": {},
   "source": [
    "## Verizon\n",
    "* Verizon has the best coverage. 85% of the routes have 90% or more coverage with Verizon. "
   ]
  },
  {
   "cell_type": "code",
   "execution_count": null,
   "id": "50e26e5f-d5a1-486e-8b17-9611ac9ae926",
   "metadata": {},
   "outputs": [],
   "source": [
    "verizon_df = A1_provider_prep.load_verizon()"
   ]
  },
  {
   "cell_type": "code",
   "execution_count": null,
   "id": "14c97dfd-8a01-4ee6-b173-1826d65d6744",
   "metadata": {},
   "outputs": [],
   "source": [
    "verizon_m1 = A2_analysis.route_cell_coverage(verizon_df, routes_df, \"_verizon\")"
   ]
  },
  {
   "cell_type": "code",
   "execution_count": null,
   "id": "2acff039-15eb-41b8-a617-e09ff1fb85ca",
   "metadata": {},
   "outputs": [],
   "source": [
    "verizon_m1.shape"
   ]
  },
  {
   "cell_type": "code",
   "execution_count": null,
   "id": "1469ba9f-2063-4f8e-8091-f76181698436",
   "metadata": {},
   "outputs": [],
   "source": [
    "(verizon_m1[\"binned_verizon\"].value_counts() / len(verizon_m1)) * 100"
   ]
  },
  {
   "cell_type": "markdown",
   "id": "cde725ab-3625-40d7-a953-7bc168259395",
   "metadata": {},
   "source": [
    "## Merge all three providers"
   ]
  },
  {
   "cell_type": "code",
   "execution_count": null,
   "id": "bfc8b19d-6e3e-4d08-91d7-6533cabb6462",
   "metadata": {},
   "outputs": [],
   "source": [
    "common_cols = [\"route_id\", \"route_name\", \"agency\", \"itp_id\", \"route_length_original_df\"]"
   ]
  },
  {
   "cell_type": "code",
   "execution_count": null,
   "id": "499c1649-3b15-41b1-82b5-e4a95865cd52",
   "metadata": {},
   "outputs": [],
   "source": [
    "merge1 = att_m1.merge(verizon_m1, how=\"outer\", on=common_cols).merge(\n",
    "    tmobile_m1, how=\"outer\", on=common_cols\n",
    ")"
   ]
  },
  {
   "cell_type": "code",
   "execution_count": null,
   "id": "a791a49f-3dea-4427-a409-99c291f79b64",
   "metadata": {},
   "outputs": [],
   "source": [
    "# Del extra cols that are the same across dfs.\n",
    "merge1 = merge1.drop(\n",
    "    columns=[\n",
    "        \"binned_verizon\",\n",
    "        \"binned_att\",\n",
    "        \"binned_tmobile\",\n",
    "    ]\n",
    ")"
   ]
  },
  {
   "cell_type": "code",
   "execution_count": null,
   "id": "dbda56fd-7640-4f4f-acf6-d2ed82783d9e",
   "metadata": {
    "tags": []
   },
   "outputs": [],
   "source": [
    "# Ensure this remains a gdf.\n",
    "merge1 = gpd.GeoDataFrame(merge1, geometry=\"geometry_overlay_verizon\", crs=\"EPSG:4326\")"
   ]
  },
  {
   "cell_type": "code",
   "execution_count": null,
   "id": "ee909111-ed58-4f31-aa29-46224ac0f447",
   "metadata": {},
   "outputs": [],
   "source": [
    "type(merge1)"
   ]
  },
  {
   "cell_type": "code",
   "execution_count": null,
   "id": "65bcd626-5361-4e95-8857-4f29c01edae7",
   "metadata": {},
   "outputs": [],
   "source": [
    "merge1.shape"
   ]
  },
  {
   "cell_type": "markdown",
   "id": "4f690719-5c48-4b7e-b51c-8451d49eb9b6",
   "metadata": {
    "tags": []
   },
   "source": [
    "### Some checks\n",
    "* Original df against merged."
   ]
  },
  {
   "cell_type": "code",
   "execution_count": null,
   "id": "20eb8669-94c3-4d88-a162-a52966348f32",
   "metadata": {},
   "outputs": [],
   "source": [
    "# 1 extra row missing??\n",
    "routes_df.shape, merge1.shape"
   ]
  },
  {
   "cell_type": "code",
   "execution_count": null,
   "id": "b6ea8eb5-f712-4c76-8c6d-786e66e0bb00",
   "metadata": {},
   "outputs": [],
   "source": [
    "# Find the missing row\n",
    "original = set(routes_df.route_name.unique().tolist())\n",
    "merge = set(merge1.route_name.unique().tolist())\n",
    "original - merge"
   ]
  },
  {
   "cell_type": "code",
   "execution_count": null,
   "id": "bc3a0744-98c4-44b8-988a-5563debf5f71",
   "metadata": {},
   "outputs": [],
   "source": [
    "routes_df.route_id.nunique(), merge1.route_id.nunique()"
   ]
  },
  {
   "cell_type": "code",
   "execution_count": null,
   "id": "5ef60105-eec5-4ba3-9451-ae6bfdd66b59",
   "metadata": {},
   "outputs": [],
   "source": [
    "routes_df.itp_id.nunique(), merge1.itp_id.nunique()"
   ]
  },
  {
   "cell_type": "markdown",
   "id": "91623629-b97e-4ce9-9517-5749d07f2dd6",
   "metadata": {},
   "source": [
    "### Route Coverage - using median % of coverage across 3 providers.\n",
    "* 78% of routes have 90-100% of coverage. "
   ]
  },
  {
   "cell_type": "code",
   "execution_count": null,
   "id": "21fc324b-87c4-4ca2-9256-cb60d306254b",
   "metadata": {},
   "outputs": [],
   "source": [
    "# Create a column with median of all three providers\n",
    "merge1[\"median_cell_coverage_percentage\"] = merge1[\n",
    "    [\"percentage_verizon\", \"percentage_tmobile\", \"percentage_att\"]\n",
    "].median(axis=1)"
   ]
  },
  {
   "cell_type": "code",
   "execution_count": null,
   "id": "bdec6301-19b9-401b-ac09-82cd29093700",
   "metadata": {},
   "outputs": [],
   "source": [
    "# Bin the median?\n",
    "bins = [0, 10, 20, 30, 40, 50, 60, 70, 80, 90, 100]"
   ]
  },
  {
   "cell_type": "code",
   "execution_count": null,
   "id": "7cda6416-515f-4137-bf35-7a09ee1a6e14",
   "metadata": {},
   "outputs": [],
   "source": [
    "(pd.cut(merge1[\"median_cell_coverage_percentage\"],bins).value_counts()  / len(merge1)) * 100"
   ]
  },
  {
   "cell_type": "markdown",
   "id": "37630e92-51e3-4bda-adb0-eddfb71bf921",
   "metadata": {},
   "source": [
    "### Filter out for low threshold \n",
    "* Using the median cell coverage percentage, choose 70% or less cell coverage as the threshold."
   ]
  },
  {
   "cell_type": "code",
   "execution_count": null,
   "id": "89f58ad4-2b5a-4c63-8665-069fd85d384a",
   "metadata": {},
   "outputs": [],
   "source": [
    "threshold = 70"
   ]
  },
  {
   "cell_type": "code",
   "execution_count": null,
   "id": "9fbbd478-5cf9-4926-aecf-dd49617b62a0",
   "metadata": {},
   "outputs": [],
   "source": [
    "# Filter based on median\n",
    "low_coverage = merge1[\n",
    "    (merge1[\"median_cell_coverage_percentage\"] < threshold)]"
   ]
  },
  {
   "cell_type": "code",
   "execution_count": null,
   "id": "ec089903-0905-4ff7-ab00-ff66f4a11b34",
   "metadata": {},
   "outputs": [],
   "source": [
    "len(low_coverage), type(low_coverage), low_coverage.route_id.nunique()"
   ]
  },
  {
   "cell_type": "code",
   "execution_count": null,
   "id": "26723d11-10ee-40ff-a1b8-f7414c96be63",
   "metadata": {
    "scrolled": true,
    "tags": []
   },
   "outputs": [],
   "source": [
    "# (low_coverage.loc[:,~low_coverage.columns.str.contains('^geometry', case=False)])"
   ]
  },
  {
   "cell_type": "markdown",
   "id": "260a821a-0246-4176-abf3-3a8dd1687722",
   "metadata": {},
   "source": [
    "## Add trips\n",
    "* Add one column for total trips that an agency completes across all routes.\n",
    "* Add another column for total trips ONLY for routes with low coverage. \n",
    "* Divide these 2 columns for percentage of trips an agency runs in a low coverage zone.\n",
    "* Fill NA for total trips by agency/by route with median of each col"
   ]
  },
  {
   "cell_type": "code",
   "execution_count": null,
   "id": "9d537c04-f42d-455e-99ba-d293b4517909",
   "metadata": {},
   "outputs": [],
   "source": [
    "trips = A3_other.trip_df()"
   ]
  },
  {
   "cell_type": "code",
   "execution_count": null,
   "id": "48e4319f-6e73-422f-a630-4c1c94c094c9",
   "metadata": {},
   "outputs": [],
   "source": [
    "# Merge the 2 filtered at&t and verizon dataframes so we can see which routes overlap\n",
    "trips_routes = pd.merge(\n",
    "    low_coverage,\n",
    "    trips,\n",
    "    how=\"left\",\n",
    "    left_on=[\"itp_id\", \"route_id\"],\n",
    "    right_on=[\"calitp_itp_id\", \"route_id\"],\n",
    "    indicator=True,\n",
    ")"
   ]
  },
  {
   "cell_type": "code",
   "execution_count": null,
   "id": "77aa81da-ac04-416f-9e75-701e67c0ba51",
   "metadata": {},
   "outputs": [],
   "source": [
    "# Should all route ids match?\n",
    "trips_routes[\"_merge\"].value_counts()"
   ]
  },
  {
   "cell_type": "code",
   "execution_count": null,
   "id": "7f575fa2-c440-4886-90c6-124eb1434ba9",
   "metadata": {},
   "outputs": [],
   "source": [
    "trips_routes.total_trips_by_route.median(), trips_routes.total_trips_by_agency.median()"
   ]
  },
  {
   "cell_type": "code",
   "execution_count": null,
   "id": "374090b9-25bc-427e-b422-aa4caf4ae2cf",
   "metadata": {},
   "outputs": [],
   "source": [
    "# Fill NA for total trips by agency/by route with median of each col\n",
    "trips_routes = trips_routes.assign(\n",
    "     total_trips_by_route = trips_routes.total_trips_by_route.fillna(trips_routes.total_trips_by_route.median()),\n",
    "     total_trips_by_agency = trips_routes.total_trips_by_agency.fillna(trips_routes.total_trips_by_agency.median())\n",
    ") "
   ]
  },
  {
   "cell_type": "code",
   "execution_count": null,
   "id": "9dd10448-61c4-4a01-aff8-26d7af5c6a4a",
   "metadata": {},
   "outputs": [],
   "source": [
    "# Add column for percentage of trips for the route in question compared with\n",
    "# All the trips an agency has done\n",
    "trips_routes[\"percentage_of_trips_w_low_cell_service\"] = (\n",
    "    trips_routes[\"total_trips_by_route\"] / trips_routes[\"total_trips_by_agency\"]\n",
    ")"
   ]
  },
  {
   "cell_type": "code",
   "execution_count": null,
   "id": "4c217d0e-93e9-4e40-a0c7-a069ab268bb9",
   "metadata": {},
   "outputs": [],
   "source": [
    "trips_routes = trips_routes.drop(columns=[\"_merge\", \"calitp_itp_id\"])"
   ]
  },
  {
   "cell_type": "markdown",
   "id": "91e75bd9-2c0d-4fc0-a384-e83de3dc11d7",
   "metadata": {},
   "source": [
    "## Add NTD"
   ]
  },
  {
   "cell_type": "code",
   "execution_count": null,
   "id": "87e35782-c20b-47ba-87b6-5161bb8a4607",
   "metadata": {},
   "outputs": [],
   "source": [
    "# Load NTD vehicles\n",
    "ntd_df = utilities.ntd_vehicles()[[\"agency\", \"total_buses\"]]"
   ]
  },
  {
   "cell_type": "code",
   "execution_count": null,
   "id": "55596d40-54a7-4e1e-a517-3a2f11a56933",
   "metadata": {
    "scrolled": true,
    "tags": []
   },
   "outputs": [],
   "source": [
    "# ntd_df.agency.unique()"
   ]
  },
  {
   "cell_type": "code",
   "execution_count": null,
   "id": "e74f09dc-4957-42c0-972d-d1ff8d26b8ba",
   "metadata": {},
   "outputs": [],
   "source": [
    "# Replace agency names in NTD to match routes_df above\n",
    "ntd_df[\"agency\"] = ntd_df[\"agency\"].replace(\n",
    "    {\n",
    "        \"Trinity County\": \"Trinity Transit\",\n",
    "        \"City of Calabasas\": \"Calabasas Transit System\",\n",
    "        \"County of Sonoma\": \"Sonoma County Transit\",\n",
    "        \"Tehama County\": \"Tehama Rural Area eXpress\",\n",
    "        \"Los Angeles County Department of Public Works - East L.A.\": \"East Los Angeles Shuttle\",\n",
    "        \"Sacramento Regional Transit District\": \"Sacramento Regional Transit District\",\n",
    "        \"Eastern Sierra Transit Authority\": \"Mammoth Lakes Transit System\",\n",
    "        \"City of Lompoc\": \"City of Lompoc Transit\",\n",
    "        \"San Luis Obispo Regional Transit Authority\": \"South County Transit Link\",\n",
    "        \"City of Roseville\": \"Roseville Transit\",\n",
    "        \"Los Angeles County Dept. of Public Works - Athens Shuttle Service\": \"the Link-Athens\",\n",
    "        \"Los Angeles County Department of Public Works - Avocado Heights\": \"Avocado Heights/Bassett/West Valinda Shuttle\",\n",
    "        \"Susanville Indian Rancheria\": \"Susanville Indian Rancheria Public Transportation Program\",\n",
    "        \"Transit Joint Powers Authority for Merced County\": \"Merced The Bus\",\n",
    "        \"City of Eureka\": \"Eureka Transit Service\",\n",
    "        \"Nevada County Transit Services\": \"Gold Country Stage\",\n",
    "        \"San Mateo County Transit District\": \"SamTrans\",\n",
    "        \"Redwood Coast Transit Authority\": \"Redwood Coast Transit\",\n",
    "        \"City of Avalon\": \"Avalon Transit\",\n",
    "        \"City of Lodi\": \"Grapeline\",\n",
    "        \"Golden Gate Bridge\": \"Golden Gate Bridge Highway and Transportation District\",\n",
    "        \"City of Santa Maria\": \"Santa Maria Area Transit\",\n",
    "        'City and County of San Francisco': 'MUNI',\n",
    "        'Alameda-Contra Costa Transit District': 'AC Transit',\n",
    "        'Kern Regional Transit': 'Kern Transit',\n",
    "        'County of Placer': 'Tahoe Transportation',\n",
    "        'County of Placer':'Tahoe Truckee Area Regional Transportation'\n",
    "    }\n",
    ")"
   ]
  },
  {
   "cell_type": "code",
   "execution_count": null,
   "id": "fbe3c094-0b5f-46a1-a389-416e0ffc2515",
   "metadata": {},
   "outputs": [],
   "source": [
    "# Replace agency names in agency4 to match ntd\n",
    "trips_routes[\"agency\"] = trips_routes[\"agency\"].replace(\n",
    "    {\n",
    "        \"Cloverdale Transit\": \"Sonoma County Transit\",\n",
    "    }\n",
    ")"
   ]
  },
  {
   "cell_type": "code",
   "execution_count": null,
   "id": "019d9f40-684d-4d7a-9ff5-6de1b994329e",
   "metadata": {},
   "outputs": [],
   "source": [
    "# Merge\n",
    "trips_routes_ntd = pd.merge(\n",
    "    trips_routes,\n",
    "    ntd_df,\n",
    "    how=\"left\",\n",
    "    on=\"agency\",\n",
    "    indicator=True,\n",
    ")"
   ]
  },
  {
   "cell_type": "markdown",
   "id": "08354575-b8c8-4c02-b098-4abb80215857",
   "metadata": {},
   "source": [
    "#### Estimate # of buses that run in low cellular coverage areas\n",
    "* Create col to estimate number of buses that run in low cell coverage routes based on % of trips ran for the low coverage routes out of total trips. \n",
    "* Multiply the aforementioend percentage by total buses.\n",
    "* Fill missing values for total buses & total buses run in low coverage zones columns with the median of each. \n",
    "* Fill values of 0 with 1, since at least one bus ran through that route. "
   ]
  },
  {
   "cell_type": "code",
   "execution_count": null,
   "id": "5945e4ae-b100-4b5b-826d-a7950752c0cb",
   "metadata": {},
   "outputs": [],
   "source": [
    "# Fill na with median total buses\n",
    "median_total_buses = trips_routes_ntd[\"total_buses\"].median()\n",
    "median_total_buses"
   ]
  },
  {
   "cell_type": "code",
   "execution_count": null,
   "id": "8ad44bb7-58f3-4458-abbc-4b29c6eb3d99",
   "metadata": {},
   "outputs": [],
   "source": [
    "trips_routes_ntd[\"total_buses\"] = trips_routes_ntd[\"total_buses\"].fillna(median_total_buses)"
   ]
  },
  {
   "cell_type": "code",
   "execution_count": null,
   "id": "db758356-0b13-41c6-8b06-d3225124903b",
   "metadata": {},
   "outputs": [],
   "source": [
    "\n",
    "trips_routes_ntd[\"estimate_of_buses_in_low_cell_zones\"] = (\n",
    "    (trips_routes_ntd[\"total_buses\"] * trips_routes_ntd[\"percentage_of_trips_w_low_cell_service\"]\n",
    "    )\n",
    "    .fillna((trips_routes_ntd[\"total_buses\"] * trips_routes_ntd[\"percentage_of_trips_w_low_cell_service\"]\n",
    "    ).median())\n",
    "    .astype('int64')\n",
    "   \n",
    ")"
   ]
  },
  {
   "cell_type": "code",
   "execution_count": null,
   "id": "39d9f5be-2211-4403-9799-c48459e51d04",
   "metadata": {},
   "outputs": [],
   "source": [
    "# Fill 0 with 1?\n",
    "trips_routes_ntd[\"estimate_of_buses_in_low_cell_zones\"] = trips_routes_ntd[\n",
    "    \"estimate_of_buses_in_low_cell_zones\"\n",
    "].replace({0: 1})\n"
   ]
  },
  {
   "cell_type": "markdown",
   "id": "71fec63e-7c9f-4670-bcbb-60f8389ff6cd",
   "metadata": {},
   "source": [
    "## Final"
   ]
  },
  {
   "cell_type": "markdown",
   "id": "c0b2c23a-6028-4210-944f-0729fde8ea25",
   "metadata": {},
   "source": [
    "### There are a lot of same route-id and same route-name combos but run by different agencies.\n",
    "* Scanned [agencies](https://github.com/cal-itp/data-infra/blob/main/airflow/data/agencies.yml) to make sure all duplicates lead to the same gtsf schedule url.\n",
    "* If so, del duplicates."
   ]
  },
  {
   "cell_type": "code",
   "execution_count": null,
   "id": "eb313161-8177-442c-a77e-1eddcfddb5fc",
   "metadata": {},
   "outputs": [],
   "source": [
    "trips_routes_ntd.route_id.value_counts().head(10)"
   ]
  },
  {
   "cell_type": "code",
   "execution_count": null,
   "id": "45101a8b-159f-43cf-a5f1-0e8c929e2b69",
   "metadata": {
    "scrolled": true,
    "tags": []
   },
   "outputs": [],
   "source": [
    "# Del duplicates based on whichever agency with the same route has the most buses.\n",
    "final = trips_routes_ntd.sort_values(\n",
    "    [\"route_id\", \"route_name\", \"total_buses\"], ascending=[True, True, False]\n",
    ").drop_duplicates(subset=[\"route_id\", \"route_name\"])"
   ]
  },
  {
   "cell_type": "code",
   "execution_count": null,
   "id": "679c272d-411a-443e-90f6-9e4548d241f0",
   "metadata": {},
   "outputs": [],
   "source": [
    "final.shape, final.route_id.nunique(), type(final)"
   ]
  },
  {
   "cell_type": "code",
   "execution_count": null,
   "id": "1ad913db-5d6e-4aa7-bf02-31d61403de6d",
   "metadata": {},
   "outputs": [],
   "source": [
    "# Set geometry.\n",
    "final = final.set_geometry(\"geometry_overlay_verizon\")"
   ]
  },
  {
   "cell_type": "markdown",
   "id": "bfd94673-9d25-4548-9326-e73f6326bbed",
   "metadata": {
    "tags": []
   },
   "source": [
    "### Results\n",
    "* Some of the results are surprising...wouldn't expect urban areas to have routes on this list\n",
    "* Also there is one Arizona route here? "
   ]
  },
  {
   "cell_type": "code",
   "execution_count": null,
   "id": "22afd156-85fd-4562-a15f-a97173348a4f",
   "metadata": {
    "scrolled": true,
    "tags": []
   },
   "outputs": [],
   "source": [
    "# https://stackoverflow.com/questions/38383886/drop-column-based-on-a-string-condition\n",
    "final.loc[:, ~final.columns.str.contains(\"route_length|geometry|_merge|percentage_\")].sort_values(\n",
    "    \"route_id\"\n",
    ")"
   ]
  },
  {
   "cell_type": "markdown",
   "id": "91b80470-c827-47d4-8813-5481178851f6",
   "metadata": {},
   "source": [
    "#### How many total buses? Routes? "
   ]
  },
  {
   "cell_type": "code",
   "execution_count": null,
   "id": "442fb139-5c9a-4e4d-bf38-547186c37bea",
   "metadata": {},
   "outputs": [],
   "source": [
    "f\"{final.estimate_of_buses_in_low_cell_zones.sum()} total buses running in areas with low cell coverage & {final.route_id.nunique()} different routes.\""
   ]
  },
  {
   "cell_type": "markdown",
   "id": "715d56aa-16e9-4231-b02e-b16398d86a0a",
   "metadata": {},
   "source": [
    "#### How often do agencies appear?"
   ]
  },
  {
   "cell_type": "code",
   "execution_count": null,
   "id": "7ca47e6d-fe11-4abb-94d2-f4f28bd74980",
   "metadata": {},
   "outputs": [],
   "source": [
    "final.agency.value_counts()"
   ]
  },
  {
   "cell_type": "markdown",
   "id": "0dc020e4-c10f-4859-b54e-544b7aa8678c",
   "metadata": {},
   "source": [
    "#### Checking with original dataframes\n",
    "* Explore why there are some urban areas that appear in the final dataframe?"
   ]
  },
  {
   "cell_type": "code",
   "execution_count": null,
   "id": "5e748b82-d2ec-4f88-85ba-81ed9aecd35a",
   "metadata": {},
   "outputs": [],
   "source": [
    "# Grab route ID & agency\n",
    "final_routes = final[[\"route_id\", \"agency\"]]"
   ]
  },
  {
   "cell_type": "code",
   "execution_count": null,
   "id": "27a0d0c9-87a3-4d86-a94f-fdc4969d1299",
   "metadata": {},
   "outputs": [],
   "source": [
    "final_routes_list = final.route_id.unique().tolist()"
   ]
  },
  {
   "cell_type": "code",
   "execution_count": null,
   "id": "78d8a520-dce5-492c-83eb-c30d247f283a",
   "metadata": {},
   "outputs": [],
   "source": [
    "# Only keep final routes in the original routes_df\n",
    "routes_original_df = pd.merge(routes_df, final_routes, how=\"inner\", on=[\"route_id\", \"agency\"])"
   ]
  },
  {
   "cell_type": "code",
   "execution_count": null,
   "id": "add10784-f7a2-4ca0-b861-0a238e9bdbf5",
   "metadata": {
    "tags": []
   },
   "outputs": [],
   "source": [
    "\"\"\"\n",
    "final_routes_merge.loc[:, ~final_routes_merge.columns.str.contains(\"itp_id|geometry|_merge\")].sort_values(\n",
    "    \"route_id\"\n",
    ")\n",
    "\"\"\""
   ]
  },
  {
   "cell_type": "code",
   "execution_count": null,
   "id": "0ddc9fea-7882-48c7-b5e1-53d03fe2734b",
   "metadata": {},
   "outputs": [],
   "source": [
    "routes_original_df.explore(\n",
    "    \"route_id\",\n",
    "    width=800,\n",
    "    height=400,\n",
    "    tooltip=[\"route_name\", \"agency\", \"route_id\"],\n",
    "    style_kwds={\"weight\": 6},\n",
    "    legend=False,\n",
    "    color=\"tab20c\",\n",
    ")"
   ]
  },
  {
   "cell_type": "code",
   "execution_count": null,
   "id": "70588dfa-8290-4cdf-be55-8980d8bb7d3b",
   "metadata": {},
   "outputs": [],
   "source": [
    "def comparison(gdf_left, gdf_right):\n",
    "\n",
    "    # Overlay\n",
    "    overlay_df = gpd.overlay(\n",
    "        gdf_left, gdf_right, how=\"intersection\", keep_geom_type=True\n",
    "    )\n",
    "\n",
    "    # Create a new route length for portions covered by cell coverage\n",
    "    overlay_df = overlay_df.assign(\n",
    "        route_length=overlay_df.geometry.to_crs(geography_utils.CA_StatePlane).length\n",
    "    )\n",
    "\n",
    "    return overlay_df"
   ]
  },
  {
   "cell_type": "code",
   "execution_count": null,
   "id": "8581a5ba-1f5b-4f41-9115-66f745fd0e01",
   "metadata": {},
   "outputs": [],
   "source": [
    "# Subset original df\n",
    "routes_test= routes_df[routes_df[\"agency\"].isin([\"Sacramento Regional Transit District\",\n",
    "                                                 \"Golden Gate Bridge Highway and Transportation District\"])]"
   ]
  },
  {
   "cell_type": "code",
   "execution_count": null,
   "id": "ef3085a9-17ec-44fa-922f-06b1a063b36b",
   "metadata": {},
   "outputs": [],
   "source": [
    "routes_test.shape"
   ]
  },
  {
   "cell_type": "code",
   "execution_count": null,
   "id": "5e5880b7-5f32-4764-9bf7-52b9ccd1b695",
   "metadata": {},
   "outputs": [],
   "source": [
    "# Break out comparison function in utilities\n",
    "verizon_test = gpd.overlay(\n",
    "        routes_test, verizon_df, how=\"intersection\", keep_geom_type=False\n",
    "    )"
   ]
  },
  {
   "cell_type": "code",
   "execution_count": null,
   "id": "918c6078-1f88-4ce5-a5a3-aea07c53bc1c",
   "metadata": {},
   "outputs": [],
   "source": [
    "verizon_test=verizon_test.to_crs(geography_utils.CA_StatePlane)"
   ]
  },
  {
   "cell_type": "code",
   "execution_count": null,
   "id": "cee1fcaf-9bc3-4b69-9139-4a77027a6fba",
   "metadata": {},
   "outputs": [],
   "source": [
    "verizon_test[\"route_length\"] = verizon_test.geometry.to_crs(geography_utils.CA_StatePlane).length"
   ]
  },
  {
   "cell_type": "markdown",
   "id": "348d489c-43af-4d62-8f25-453ad5c46f0f",
   "metadata": {},
   "source": [
    "#### Sac Route 30"
   ]
  },
  {
   "cell_type": "code",
   "execution_count": null,
   "id": "fddeaf6a-ba7b-4fac-af76-dc46c6de2969",
   "metadata": {
    "tags": []
   },
   "outputs": [],
   "source": [
    "# Original dataframe\n",
    "sac_og = routes_test[(routes_test['route_id'] == \"30\")]\n",
    "sac_og.drop(columns = ['geometry'])"
   ]
  },
  {
   "cell_type": "code",
   "execution_count": null,
   "id": "b9d06134-1822-4392-997e-7f769f4a50e2",
   "metadata": {},
   "outputs": [],
   "source": [
    "sac_og.plot(figsize=(10,10), lw=6 )"
   ]
  },
  {
   "cell_type": "code",
   "execution_count": null,
   "id": "0770e523-1671-47e1-afa7-94aec19869cc",
   "metadata": {
    "tags": []
   },
   "outputs": [],
   "source": [
    "# Only the comparison length: intersect Verizon df with Routes df & grab the length \n",
    "sac_verizon = verizon_test[(verizon_test['route_id'] == \"30\")]\n",
    "sac_verizon.drop(columns = ['geometry'])"
   ]
  },
  {
   "cell_type": "code",
   "execution_count": null,
   "id": "e004906c-abee-4be9-bd3d-67039787edd1",
   "metadata": {},
   "outputs": [],
   "source": [
    "sac_verizon.plot(figsize=(10,10), lw=6)"
   ]
  },
  {
   "cell_type": "code",
   "execution_count": null,
   "id": "b8a2989f-ab9b-4877-a8ac-16cb46461b9d",
   "metadata": {},
   "outputs": [],
   "source": [
    "# The original routes_cell_coverage function\n",
    "verizon_m1[(verizon_m1['agency'] == \"Sacramento Regional Transit District\") & (verizon_m1['route_id'] == \"30\")].drop(columns = ['geometry_overlay_verizon'])"
   ]
  },
  {
   "cell_type": "markdown",
   "id": "ff544658-caf0-4b52-bcd6-11dd909259b7",
   "metadata": {},
   "source": [
    "#### Golden Gate Bridge Highway and Transportation District 705-240"
   ]
  },
  {
   "cell_type": "code",
   "execution_count": null,
   "id": "33b874c8-a2ff-4b65-8630-beeb5d6094ad",
   "metadata": {},
   "outputs": [],
   "source": [
    "# Original dataframe\n",
    "sf_og = routes_test[(routes_test['agency'] == \"Golden Gate Bridge Highway and Transportation District\") & (routes_test['route_id'] == \"705-240\")]"
   ]
  },
  {
   "cell_type": "code",
   "execution_count": null,
   "id": "dcb043f4-f630-426e-bbbc-0222d63f086f",
   "metadata": {},
   "outputs": [],
   "source": [
    "sf_og.plot(figsize=(10,10), lw=6 )"
   ]
  },
  {
   "cell_type": "code",
   "execution_count": null,
   "id": "0ab6d08c-8d88-4f6d-ae7e-ae7fd1efe9b2",
   "metadata": {},
   "outputs": [],
   "source": [
    "# Intersection between original routes & verizon.\n",
    "# Split? \n",
    "sf_test = verizon_test[(verizon_test['agency'] == \"Golden Gate Bridge Highway and Transportation District\") & (verizon_test['route_id'] == \"705-240\")] \n",
    "sf_test.drop(columns = ['geometry'])"
   ]
  },
  {
   "cell_type": "code",
   "execution_count": null,
   "id": "03ff9b07-35e6-4dad-810e-7320defd3cae",
   "metadata": {},
   "outputs": [],
   "source": [
    "sf_test.route_length.sum()"
   ]
  },
  {
   "cell_type": "code",
   "execution_count": null,
   "id": "98c99511-7527-4fd3-9aac-e9da267a6378",
   "metadata": {},
   "outputs": [],
   "source": [
    "sf_test.plot(figsize=(10,10), lw=6 )"
   ]
  },
  {
   "cell_type": "code",
   "execution_count": null,
   "id": "6339ff97-3a68-4a10-887a-9730644fef88",
   "metadata": {},
   "outputs": [],
   "source": [
    "(28044.65+9725.39)/56918.54"
   ]
  },
  {
   "cell_type": "code",
   "execution_count": null,
   "id": "57c161f2-7253-4e1c-adea-0d9a7781f25c",
   "metadata": {},
   "outputs": [],
   "source": [
    "# The entire function route_cell_coverage\n",
    "verizon_m1[(verizon_m1['agency'] == \"Golden Gate Bridge Highway and Transportation District\") & (verizon_m1['route_id'] == \"705-240\")].drop(columns = ['geometry_overlay_verizon'])"
   ]
  }
 ],
 "metadata": {
  "kernelspec": {
   "display_name": "Python 3 (ipykernel)",
   "language": "python",
   "name": "python3"
  },
  "language_info": {
   "codemirror_mode": {
    "name": "ipython",
    "version": 3
   },
   "file_extension": ".py",
   "mimetype": "text/x-python",
   "name": "python",
   "nbconvert_exporter": "python",
   "pygments_lexer": "ipython3",
   "version": "3.9.13"
  }
 },
 "nbformat": 4,
 "nbformat_minor": 5
}
