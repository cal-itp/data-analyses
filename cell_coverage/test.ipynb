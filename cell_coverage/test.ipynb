{
 "cells": [
  {
   "cell_type": "markdown",
   "id": "45a4417c-94bb-44a6-8b81-18e1bc089855",
   "metadata": {},
   "source": [
    "# Exploring Cell Coverage of Routes\n",
    "* To do later: move data sources to a catalog\n",
    "* An agency here is defined: as a service and an operator..."
   ]
  },
  {
   "cell_type": "code",
   "execution_count": 1,
   "id": "eecac02a-a99d-4a1e-9800-c2b094484f79",
   "metadata": {},
   "outputs": [
    {
     "name": "stderr",
     "output_type": "stream",
     "text": [
      "/opt/conda/lib/python3.10/site-packages/geopandas/_compat.py:112: UserWarning: The Shapely GEOS version (3.10.3-CAPI-1.16.1) is incompatible with the GEOS version PyGEOS was compiled with (3.10.1-CAPI-1.16.0). Conversions between both will be slow.\n",
      "  warnings.warn(\n"
     ]
    }
   ],
   "source": [
    "# Read in zip files\n",
    "import fsspec\n",
    "import geopandas as gpd\n",
    "import intake\n",
    "import numpy as np\n",
    "import pandas as pd\n",
    "\n",
    "# My utilities\n",
    "import utilities\n",
    "from calitp import *\n",
    "\n",
    "# Display\n",
    "from IPython.display import HTML, Image, Markdown, display, display_html\n",
    "\n",
    "# Geometry\n",
    "from shared_utils import geography_utils, utils"
   ]
  },
  {
   "cell_type": "code",
   "execution_count": 2,
   "id": "b393271a-9e5f-4772-b28e-25ae7414c54b",
   "metadata": {},
   "outputs": [],
   "source": [
    "pd.options.display.max_columns = 100\n",
    "pd.options.display.float_format = \"{:.2f}\".format\n",
    "pd.set_option(\"display.max_rows\", None)\n",
    "pd.set_option(\"display.max_colwidth\", None)"
   ]
  },
  {
   "cell_type": "code",
   "execution_count": 3,
   "id": "140cf451-4eba-4a2f-b7d9-dee7ce3e0a43",
   "metadata": {},
   "outputs": [],
   "source": [
    "GCS_FILE_PATH = \"gs://calitp-analytics-data/data-analyses/cellular_coverage/\""
   ]
  },
  {
   "cell_type": "markdown",
   "id": "86d3af28-c18c-49e0-9c58-7c7317906fbd",
   "metadata": {
    "tags": []
   },
   "source": [
    "## Trip Routes \n",
    "* Bring in trip routes."
   ]
  },
  {
   "cell_type": "code",
   "execution_count": 4,
   "id": "c136d800-66ff-4cec-b122-3e9068a2c733",
   "metadata": {},
   "outputs": [],
   "source": [
    "# Just grab some columns w/o geo, in case I want to preview the df\n",
    "cols_without_geometry = [\n",
    "    \"agency\",\n",
    "    \"route_name\",\n",
    "    \"itp_id\",\n",
    "    \"route_id\",\n",
    "    \"route_type\",\n",
    "]"
   ]
  },
  {
   "cell_type": "code",
   "execution_count": 5,
   "id": "a8f359af-1989-4311-b899-0d3c3b441f2f",
   "metadata": {},
   "outputs": [],
   "source": [
    "routes_df = gpd.read_parquet(\n",
    "    \"gs://calitp-analytics-data/data-analyses/traffic_ops/ca_transit_routes.parquet\"\n",
    ")"
   ]
  },
  {
   "cell_type": "code",
   "execution_count": 6,
   "id": "d7abba37-9c87-4862-b535-fb7f833dace8",
   "metadata": {},
   "outputs": [],
   "source": [
    "# Find unique routes for bus only\n",
    "routes_df = utilities.unique_routes(routes_df)"
   ]
  },
  {
   "cell_type": "code",
   "execution_count": 170,
   "id": "7ca53a05-f582-46ef-98f8-5f752d5c2c36",
   "metadata": {},
   "outputs": [
    {
     "data": {
      "text/plain": [
       "itp_id             int64\n",
       "route_id          object\n",
       "geometry        geometry\n",
       "route_type        object\n",
       "route_name        object\n",
       "agency            object\n",
       "route_length     float64\n",
       "dtype: object"
      ]
     },
     "execution_count": 170,
     "metadata": {},
     "output_type": "execute_result"
    }
   ],
   "source": [
    "routes_df.dtypes"
   ]
  },
  {
   "cell_type": "code",
   "execution_count": 241,
   "id": "0c6e0c41-69be-4b22-b55d-942fc4f7c8f6",
   "metadata": {},
   "outputs": [],
   "source": [
    "# Fill in NA for route names and agency names\n",
    "routes_df[\"route_name\"] = routes_df[\"route_name\"].replace({\"\": \"None\"})"
   ]
  },
  {
   "cell_type": "code",
   "execution_count": 242,
   "id": "b85108e8-655e-4a79-a156-9417c23dbcf6",
   "metadata": {},
   "outputs": [
    {
     "data": {
      "text/plain": [
       "'1730 unique route ids, 1930 different route names, and 2318 different shape ids. The dataframe has 2829 rows.'"
      ]
     },
     "execution_count": 242,
     "metadata": {},
     "output_type": "execute_result"
    }
   ],
   "source": [
    "f\"\"\"{routes_df.route_id.nunique()} unique route ids, {routes_df.route_name.nunique()} different route names, and {routes_df.route_length.nunique()} different shape ids. The dataframe has {len(routes_df)} rows.\"\"\""
   ]
  },
  {
   "cell_type": "code",
   "execution_count": 243,
   "id": "81db533d-ea05-4081-9f21-126cbc151e59",
   "metadata": {
    "scrolled": true,
    "tags": []
   },
   "outputs": [],
   "source": [
    "# Route ID is only unique to each agency.\n",
    "# routes_df[[\"agency\",  \"route_name\",  \"route_id\",]].sort_values(['agency',\"route_name\", 'route_id', ]).drop_duplicates().reset_index(drop = True)"
   ]
  },
  {
   "cell_type": "code",
   "execution_count": 244,
   "id": "48416df9-0053-4baa-a8b2-92533c91212a",
   "metadata": {
    "tags": []
   },
   "outputs": [],
   "source": [
    "# Create a df for agency-itp id, drop duplicates to get only one record per agency\n",
    "agency_itp = routes_df[[\"agency\", \"itp_id\"]].drop_duplicates()"
   ]
  },
  {
   "cell_type": "code",
   "execution_count": 245,
   "id": "f4d9bcc6-19f0-4c5b-9917-98833586ec9f",
   "metadata": {},
   "outputs": [
    {
     "data": {
      "text/plain": [
       "(169, 2)"
      ]
     },
     "execution_count": 245,
     "metadata": {},
     "output_type": "execute_result"
    }
   ],
   "source": [
    "agency_itp.shape"
   ]
  },
  {
   "cell_type": "markdown",
   "id": "a53ce7d4-69e5-4d59-a198-33d742a67dcd",
   "metadata": {
    "tags": []
   },
   "source": [
    "## FCC Maps\n",
    "* T-Mobile file is split for each state and I can't find documentation on fcc's website on which zip file corresponds to CA. \n",
    "* Emailed FCC for clarification.\n",
    "* FCC said \"there is no way to tell which file corresponds with which state.\""
   ]
  },
  {
   "cell_type": "code",
   "execution_count": 246,
   "id": "86b29013-96d5-431c-b7a0-f44017973e74",
   "metadata": {},
   "outputs": [],
   "source": [
    "# verizon_df = gpd.read_parquet(f\"{GCS_FILE_PATH}verizon_ca_only.parquet\")"
   ]
  },
  {
   "cell_type": "code",
   "execution_count": 247,
   "id": "79bf4ffd-cde3-4483-be74-2c663bbc0502",
   "metadata": {},
   "outputs": [],
   "source": [
    "att_df = gpd.read_parquet(f\"{GCS_FILE_PATH}att_ca_only.parquet\")"
   ]
  },
  {
   "cell_type": "code",
   "execution_count": 248,
   "id": "446c4d1c-00cb-470e-a3d6-cacad9338c53",
   "metadata": {},
   "outputs": [
    {
     "data": {
      "text/plain": [
       "<AxesSubplot:>"
      ]
     },
     "execution_count": 248,
     "metadata": {},
     "output_type": "execute_result"
    },
    {
     "data": {
      "image/png": "[encoded data removed]",
      "text/plain": [
       "<Figure size 640x480 with 1 Axes>"
      ]
     },
     "metadata": {},
     "output_type": "display_data"
    }
   ],
   "source": [
    "att_df.plot()"
   ]
  },
  {
   "cell_type": "code",
   "execution_count": 249,
   "id": "86181f37-848a-4679-bb5a-a54c28dc3c49",
   "metadata": {},
   "outputs": [],
   "source": [
    "# att_df.plot(), verizon_df.plot(),"
   ]
  },
  {
   "cell_type": "markdown",
   "id": "4665adab-5b3e-4d95-b7fe-b2461829f513",
   "metadata": {},
   "source": [
    "## Overlay AT&T with Trip Routes"
   ]
  },
  {
   "cell_type": "code",
   "execution_count": 250,
   "id": "94688927-f097-484d-8aff-504cb412fa2e",
   "metadata": {},
   "outputs": [],
   "source": [
    "# overlay_verizon = utilities.comparison(routes_df, verizon_df)"
   ]
  },
  {
   "cell_type": "code",
   "execution_count": 251,
   "id": "07c88e5b-4648-4ab5-a3f0-99f2331409dd",
   "metadata": {},
   "outputs": [],
   "source": [
    "overlay_att = utilities.comparison(routes_df, att_df)"
   ]
  },
  {
   "cell_type": "code",
   "execution_count": 252,
   "id": "07de862d-94c9-4f25-8583-4c0cd9cae802",
   "metadata": {},
   "outputs": [],
   "source": [
    "# f\"Verizon: The length of the overlay dataframe is {len(overlay_verizon)}\""
   ]
  },
  {
   "cell_type": "code",
   "execution_count": 253,
   "id": "9b879417-f102-42bd-bc6b-68374df39a76",
   "metadata": {},
   "outputs": [],
   "source": [
    "# f\"AT&T: The length of the overlay dataframe is {len(overlay_att)}\""
   ]
  },
  {
   "cell_type": "code",
   "execution_count": 254,
   "id": "6e731748-1904-4b45-a9c6-893ebce313c4",
   "metadata": {},
   "outputs": [],
   "source": [
    "# overlay_att.plot(\"route_length\", legend=True), overlay_verizon.plot(\"route_length\")"
   ]
  },
  {
   "cell_type": "markdown",
   "id": "684cc783-e410-4304-b19e-f5268f7a9175",
   "metadata": {
    "tags": []
   },
   "source": [
    "### Test with bus routes x California Counties first\n",
    "* Using counties just because it seems like a lot more routes cross counties instead of districts.\n",
    "* Tested with these agencies that are in a remote area:\n",
    "* \"Tahoe Truckee Area Regional Transportation\"\n",
    "    * https://tahoetruckeetransit.com/interactive-map/\n",
    "* 'Trinity Transit' \n",
    "* 'Lassen Transit Service Agency'"
   ]
  },
  {
   "cell_type": "code",
   "execution_count": 255,
   "id": "cfd8b3fa-5eac-4528-b90b-8a92aeecf922",
   "metadata": {},
   "outputs": [],
   "source": [
    "ca_gdf = (\n",
    "    \"https://opendata.arcgis.com/datasets/8713ced9b78a4abb97dc130a691a8695_0.geojson\"\n",
    ")"
   ]
  },
  {
   "cell_type": "code",
   "execution_count": 256,
   "id": "ae4caf7c-e3d9-46b5-b3d8-5875b4d8b1fb",
   "metadata": {},
   "outputs": [],
   "source": [
    "geojson = gpd.read_file(f\"{ca_gdf}\").to_crs(epsg=4326)"
   ]
  },
  {
   "cell_type": "code",
   "execution_count": 286,
   "id": "d04ff542-5e2b-4b94-ab8d-ef7c8dc5c49b",
   "metadata": {},
   "outputs": [],
   "source": [
    "agency_wanted = \"Tahoe Transportation\""
   ]
  },
  {
   "cell_type": "code",
   "execution_count": 315,
   "id": "9a4167c9-f3bf-49ab-b0da-9155eb27197c",
   "metadata": {
    "scrolled": true,
    "tags": []
   },
   "outputs": [],
   "source": [
    "# routes_df.agency.unique()"
   ]
  },
  {
   "cell_type": "code",
   "execution_count": 288,
   "id": "f50a1753-2ea2-46ae-8e7e-4d713fe7e0ec",
   "metadata": {
    "scrolled": true,
    "tags": []
   },
   "outputs": [],
   "source": [
    "# Filter original df\n",
    "single_agency = routes_df.loc[routes_df[\"agency\"] == agency_wanted].reset_index(\n",
    "    drop=True\n",
    ")"
   ]
  },
  {
   "cell_type": "code",
   "execution_count": 289,
   "id": "1308b31f-5f70-4123-9282-10ff5e648416",
   "metadata": {},
   "outputs": [
    {
     "data": {
      "text/plain": [
       "((11, 7), 11)"
      ]
     },
     "execution_count": 289,
     "metadata": {},
     "output_type": "execute_result"
    }
   ],
   "source": [
    "single_agency.shape, single_agency.route_id.nunique()"
   ]
  },
  {
   "cell_type": "code",
   "execution_count": 290,
   "id": "a288ec57-2e8c-4d04-8a2f-93f30e40e74f",
   "metadata": {},
   "outputs": [],
   "source": [
    "single_agency[\"route_name\"] = single_agency[\"route_name\"].replace({\"\": \"None\"})"
   ]
  },
  {
   "cell_type": "code",
   "execution_count": 291,
   "id": "7b842cab-5434-4cf3-9e47-2549d6052ace",
   "metadata": {
    "scrolled": true,
    "tags": []
   },
   "outputs": [
    {
     "data": {
      "text/html": [
       "<div>\n",
       "<style scoped>\n",
       "    .dataframe tbody tr th:only-of-type {\n",
       "        vertical-align: middle;\n",
       "    }\n",
       "\n",
       "    .dataframe tbody tr th {\n",
       "        vertical-align: top;\n",
       "    }\n",
       "\n",
       "    .dataframe thead th {\n",
       "        text-align: right;\n",
       "    }\n",
       "</style>\n",
       "<table border=\"1\" class=\"dataframe\">\n",
       "  <thead>\n",
       "    <tr style=\"text-align: right;\">\n",
       "      <th></th>\n",
       "      <th>itp_id</th>\n",
       "      <th>route_id</th>\n",
       "      <th>route_name</th>\n",
       "      <th>agency</th>\n",
       "      <th>route_length</th>\n",
       "    </tr>\n",
       "  </thead>\n",
       "  <tbody>\n",
       "    <tr>\n",
       "      <th>0</th>\n",
       "      <td>331</td>\n",
       "      <td>2594</td>\n",
       "      <td>Squaw Valley, Tahoe City, West Shore</td>\n",
       "      <td>Tahoe Transportation</td>\n",
       "      <td>347450.49</td>\n",
       "    </tr>\n",
       "    <tr>\n",
       "      <th>1</th>\n",
       "      <td>331</td>\n",
       "      <td>2595</td>\n",
       "      <td>Truckee, Northstar</td>\n",
       "      <td>Tahoe Transportation</td>\n",
       "      <td>276482.05</td>\n",
       "    </tr>\n",
       "    <tr>\n",
       "      <th>2</th>\n",
       "      <td>331</td>\n",
       "      <td>2596</td>\n",
       "      <td>Carnelian Bay Tahoe Vista, Kings Beach, Crystal Bay, Incline Village</td>\n",
       "      <td>Tahoe Transportation</td>\n",
       "      <td>239898.85</td>\n",
       "    </tr>\n",
       "    <tr>\n",
       "      <th>3</th>\n",
       "      <td>331</td>\n",
       "      <td>CB</td>\n",
       "      <td>Crystal Bay to Olympic Valley PM</td>\n",
       "      <td>Tahoe Transportation</td>\n",
       "      <td>102167.90</td>\n",
       "    </tr>\n",
       "    <tr>\n",
       "      <th>4</th>\n",
       "      <td>331</td>\n",
       "      <td>Hwy267</td>\n",
       "      <td>Highway 267 AM/PM</td>\n",
       "      <td>Tahoe Transportation</td>\n",
       "      <td>114495.04</td>\n",
       "    </tr>\n",
       "    <tr>\n",
       "      <th>5</th>\n",
       "      <td>331</td>\n",
       "      <td>Hwy89</td>\n",
       "      <td>Highway 89 AM/PM</td>\n",
       "      <td>Tahoe Transportation</td>\n",
       "      <td>106337.44</td>\n",
       "    </tr>\n",
       "    <tr>\n",
       "      <th>6</th>\n",
       "      <td>331</td>\n",
       "      <td>ML</td>\n",
       "      <td>Mainline AM/PM</td>\n",
       "      <td>Tahoe Transportation</td>\n",
       "      <td>151470.13</td>\n",
       "    </tr>\n",
       "    <tr>\n",
       "      <th>7</th>\n",
       "      <td>331</td>\n",
       "      <td>NSPM</td>\n",
       "      <td>Hwy 267 PM</td>\n",
       "      <td>Tahoe Transportation</td>\n",
       "      <td>56393.58</td>\n",
       "    </tr>\n",
       "    <tr>\n",
       "      <th>8</th>\n",
       "      <td>331</td>\n",
       "      <td>TLR</td>\n",
       "      <td>Truckee Local</td>\n",
       "      <td>Tahoe Transportation</td>\n",
       "      <td>56646.46</td>\n",
       "    </tr>\n",
       "    <tr>\n",
       "      <th>9</th>\n",
       "      <td>331</td>\n",
       "      <td>TNSPM</td>\n",
       "      <td>Truckee/Northstar PM</td>\n",
       "      <td>Tahoe Transportation</td>\n",
       "      <td>44995.22</td>\n",
       "    </tr>\n",
       "    <tr>\n",
       "      <th>10</th>\n",
       "      <td>331</td>\n",
       "      <td>TSQPM</td>\n",
       "      <td>Truckee/Olympic Valley PM</td>\n",
       "      <td>Tahoe Transportation</td>\n",
       "      <td>66319.08</td>\n",
       "    </tr>\n",
       "  </tbody>\n",
       "</table>\n",
       "</div>"
      ],
      "text/plain": [
       "    itp_id route_id  \\\n",
       "0      331     2594   \n",
       "1      331     2595   \n",
       "2      331     2596   \n",
       "3      331       CB   \n",
       "4      331   Hwy267   \n",
       "5      331    Hwy89   \n",
       "6      331       ML   \n",
       "7      331     NSPM   \n",
       "8      331      TLR   \n",
       "9      331    TNSPM   \n",
       "10     331    TSQPM   \n",
       "\n",
       "                                                              route_name  \\\n",
       "0                                   Squaw Valley, Tahoe City, West Shore   \n",
       "1                                                     Truckee, Northstar   \n",
       "2   Carnelian Bay Tahoe Vista, Kings Beach, Crystal Bay, Incline Village   \n",
       "3                                       Crystal Bay to Olympic Valley PM   \n",
       "4                                                      Highway 267 AM/PM   \n",
       "5                                                       Highway 89 AM/PM   \n",
       "6                                                         Mainline AM/PM   \n",
       "7                                                             Hwy 267 PM   \n",
       "8                                                          Truckee Local   \n",
       "9                                                   Truckee/Northstar PM   \n",
       "10                                             Truckee/Olympic Valley PM   \n",
       "\n",
       "                  agency  route_length  \n",
       "0   Tahoe Transportation     347450.49  \n",
       "1   Tahoe Transportation     276482.05  \n",
       "2   Tahoe Transportation     239898.85  \n",
       "3   Tahoe Transportation     102167.90  \n",
       "4   Tahoe Transportation     114495.04  \n",
       "5   Tahoe Transportation     106337.44  \n",
       "6   Tahoe Transportation     151470.13  \n",
       "7   Tahoe Transportation      56393.58  \n",
       "8   Tahoe Transportation      56646.46  \n",
       "9   Tahoe Transportation      44995.22  \n",
       "10  Tahoe Transportation      66319.08  "
      ]
     },
     "execution_count": 291,
     "metadata": {},
     "output_type": "execute_result"
    }
   ],
   "source": [
    "single_agency.drop(columns=[\"geometry\", \"route_type\"])"
   ]
  },
  {
   "cell_type": "code",
   "execution_count": 314,
   "id": "39a0ee39-0b45-4bc6-8f6d-1b7fe2eb304e",
   "metadata": {},
   "outputs": [
    {
     "data": {
      "text/plain": [
       "'\\nsingle_agency.explore(\\n    \"route_name\",\\n    width=800,\\n    height=400,\\n    tooltip=[\\n        \"route_name\",\\n    ],\\n    style_kwds={\"weight\": 5},\\n)'"
      ]
     },
     "execution_count": 314,
     "metadata": {},
     "output_type": "execute_result"
    }
   ],
   "source": [
    "# Explore county\n",
    "\"\"\"\n",
    "single_agency.explore(\n",
    "    \"route_name\",\n",
    "    width=800,\n",
    "    height=400,\n",
    "    tooltip=[\n",
    "        \"route_name\",\n",
    "    ],\n",
    "    style_kwds={\"weight\": 5},\n",
    ")\"\"\""
   ]
  },
  {
   "cell_type": "code",
   "execution_count": 293,
   "id": "15f870e0-6b71-49f9-a86e-c34f1a3efd62",
   "metadata": {},
   "outputs": [],
   "source": [
    "# Merge with counties for testing\n",
    "county_test = utilities.comparison(single_agency, geojson)"
   ]
  },
  {
   "cell_type": "code",
   "execution_count": 294,
   "id": "07478c92-56a3-40a2-b928-6a13519716f1",
   "metadata": {},
   "outputs": [
    {
     "data": {
      "text/plain": [
       "(20, 17)"
      ]
     },
     "execution_count": 294,
     "metadata": {},
     "output_type": "execute_result"
    }
   ],
   "source": [
    "# More rows\n",
    "county_test.shape"
   ]
  },
  {
   "cell_type": "code",
   "execution_count": 295,
   "id": "0588831b-ba31-4b35-8c15-4c3d5a4a53aa",
   "metadata": {},
   "outputs": [],
   "source": [
    "# Test - merge. Goal: find % of each route in each county\n",
    "county_merge = pd.merge(\n",
    "    county_test,\n",
    "    single_agency,\n",
    "    how=\"left\",\n",
    "    on=[\"agency\", \"route_name\", \"route_type\", \"route_id\"],\n",
    "    suffixes=[\"_countytest\", \"_original\"],\n",
    ")"
   ]
  },
  {
   "cell_type": "code",
   "execution_count": 296,
   "id": "8c84f252-2f34-44e1-8587-d457f47fe7b9",
   "metadata": {
    "scrolled": true,
    "tags": []
   },
   "outputs": [],
   "source": [
    "county_merge[\"percentage\"] = (\n",
    "    county_merge[\"route_length_countytest\"] / county_merge[\"route_length_original\"]\n",
    ")"
   ]
  },
  {
   "cell_type": "code",
   "execution_count": 297,
   "id": "cd269407-dba6-47ef-8bf6-bf16877b51ca",
   "metadata": {
    "scrolled": true,
    "tags": []
   },
   "outputs": [
    {
     "data": {
      "text/html": [
       "<div>\n",
       "<style scoped>\n",
       "    .dataframe tbody tr th:only-of-type {\n",
       "        vertical-align: middle;\n",
       "    }\n",
       "\n",
       "    .dataframe tbody tr th {\n",
       "        vertical-align: top;\n",
       "    }\n",
       "\n",
       "    .dataframe thead th {\n",
       "        text-align: right;\n",
       "    }\n",
       "</style>\n",
       "<table border=\"1\" class=\"dataframe\">\n",
       "  <thead>\n",
       "    <tr style=\"text-align: right;\">\n",
       "      <th></th>\n",
       "      <th>route_id</th>\n",
       "      <th>route_name</th>\n",
       "      <th>COUNTY_NAME</th>\n",
       "      <th>percentage</th>\n",
       "      <th>route_length_countytest</th>\n",
       "      <th>route_length_original</th>\n",
       "    </tr>\n",
       "  </thead>\n",
       "  <tbody>\n",
       "    <tr>\n",
       "      <th>0</th>\n",
       "      <td>2594</td>\n",
       "      <td>Squaw Valley, Tahoe City, West Shore</td>\n",
       "      <td>Nevada</td>\n",
       "      <td>0.28</td>\n",
       "      <td>96127.81</td>\n",
       "      <td>347450.49</td>\n",
       "    </tr>\n",
       "    <tr>\n",
       "      <th>17</th>\n",
       "      <td>2594</td>\n",
       "      <td>Squaw Valley, Tahoe City, West Shore</td>\n",
       "      <td>Sierra</td>\n",
       "      <td>0.03</td>\n",
       "      <td>8975.39</td>\n",
       "      <td>347450.49</td>\n",
       "    </tr>\n",
       "    <tr>\n",
       "      <th>7</th>\n",
       "      <td>2594</td>\n",
       "      <td>Squaw Valley, Tahoe City, West Shore</td>\n",
       "      <td>Placer</td>\n",
       "      <td>0.34</td>\n",
       "      <td>118520.61</td>\n",
       "      <td>347450.49</td>\n",
       "    </tr>\n",
       "    <tr>\n",
       "      <th>1</th>\n",
       "      <td>2595</td>\n",
       "      <td>Truckee, Northstar</td>\n",
       "      <td>Nevada</td>\n",
       "      <td>0.41</td>\n",
       "      <td>114676.71</td>\n",
       "      <td>276482.05</td>\n",
       "    </tr>\n",
       "    <tr>\n",
       "      <th>18</th>\n",
       "      <td>2595</td>\n",
       "      <td>Truckee, Northstar</td>\n",
       "      <td>Sierra</td>\n",
       "      <td>0.03</td>\n",
       "      <td>8908.80</td>\n",
       "      <td>276482.05</td>\n",
       "    </tr>\n",
       "    <tr>\n",
       "      <th>8</th>\n",
       "      <td>2595</td>\n",
       "      <td>Truckee, Northstar</td>\n",
       "      <td>Placer</td>\n",
       "      <td>0.20</td>\n",
       "      <td>56180.37</td>\n",
       "      <td>276482.05</td>\n",
       "    </tr>\n",
       "    <tr>\n",
       "      <th>9</th>\n",
       "      <td>2596</td>\n",
       "      <td>Carnelian Bay Tahoe Vista, Kings Beach, Crystal Bay, Incline Village</td>\n",
       "      <td>Placer</td>\n",
       "      <td>0.12</td>\n",
       "      <td>28061.43</td>\n",
       "      <td>239898.85</td>\n",
       "    </tr>\n",
       "    <tr>\n",
       "      <th>10</th>\n",
       "      <td>CB</td>\n",
       "      <td>Crystal Bay to Olympic Valley PM</td>\n",
       "      <td>Placer</td>\n",
       "      <td>1.00</td>\n",
       "      <td>101696.60</td>\n",
       "      <td>102167.90</td>\n",
       "    </tr>\n",
       "    <tr>\n",
       "      <th>11</th>\n",
       "      <td>Hwy267</td>\n",
       "      <td>Highway 267 AM/PM</td>\n",
       "      <td>Placer</td>\n",
       "      <td>0.79</td>\n",
       "      <td>90687.13</td>\n",
       "      <td>114495.04</td>\n",
       "    </tr>\n",
       "    <tr>\n",
       "      <th>2</th>\n",
       "      <td>Hwy267</td>\n",
       "      <td>Highway 267 AM/PM</td>\n",
       "      <td>Nevada</td>\n",
       "      <td>0.13</td>\n",
       "      <td>15195.95</td>\n",
       "      <td>114495.04</td>\n",
       "    </tr>\n",
       "    <tr>\n",
       "      <th>3</th>\n",
       "      <td>Hwy89</td>\n",
       "      <td>Highway 89 AM/PM</td>\n",
       "      <td>Nevada</td>\n",
       "      <td>0.10</td>\n",
       "      <td>10767.14</td>\n",
       "      <td>106337.44</td>\n",
       "    </tr>\n",
       "    <tr>\n",
       "      <th>12</th>\n",
       "      <td>Hwy89</td>\n",
       "      <td>Highway 89 AM/PM</td>\n",
       "      <td>Placer</td>\n",
       "      <td>0.81</td>\n",
       "      <td>86091.95</td>\n",
       "      <td>106337.44</td>\n",
       "    </tr>\n",
       "    <tr>\n",
       "      <th>13</th>\n",
       "      <td>ML</td>\n",
       "      <td>Mainline AM/PM</td>\n",
       "      <td>Placer</td>\n",
       "      <td>0.69</td>\n",
       "      <td>105080.77</td>\n",
       "      <td>151470.13</td>\n",
       "    </tr>\n",
       "    <tr>\n",
       "      <th>19</th>\n",
       "      <td>ML</td>\n",
       "      <td>Mainline AM/PM</td>\n",
       "      <td>El Dorado</td>\n",
       "      <td>0.03</td>\n",
       "      <td>4715.77</td>\n",
       "      <td>151470.13</td>\n",
       "    </tr>\n",
       "    <tr>\n",
       "      <th>14</th>\n",
       "      <td>NSPM</td>\n",
       "      <td>Hwy 267 PM</td>\n",
       "      <td>Placer</td>\n",
       "      <td>1.00</td>\n",
       "      <td>56210.35</td>\n",
       "      <td>56393.58</td>\n",
       "    </tr>\n",
       "    <tr>\n",
       "      <th>4</th>\n",
       "      <td>TLR</td>\n",
       "      <td>Truckee Local</td>\n",
       "      <td>Nevada</td>\n",
       "      <td>0.96</td>\n",
       "      <td>54337.35</td>\n",
       "      <td>56646.46</td>\n",
       "    </tr>\n",
       "    <tr>\n",
       "      <th>5</th>\n",
       "      <td>TNSPM</td>\n",
       "      <td>Truckee/Northstar PM</td>\n",
       "      <td>Nevada</td>\n",
       "      <td>0.28</td>\n",
       "      <td>12503.98</td>\n",
       "      <td>44995.22</td>\n",
       "    </tr>\n",
       "    <tr>\n",
       "      <th>15</th>\n",
       "      <td>TNSPM</td>\n",
       "      <td>Truckee/Northstar PM</td>\n",
       "      <td>Placer</td>\n",
       "      <td>0.72</td>\n",
       "      <td>32491.24</td>\n",
       "      <td>44995.22</td>\n",
       "    </tr>\n",
       "    <tr>\n",
       "      <th>16</th>\n",
       "      <td>TSQPM</td>\n",
       "      <td>Truckee/Olympic Valley PM</td>\n",
       "      <td>Placer</td>\n",
       "      <td>0.84</td>\n",
       "      <td>55472.47</td>\n",
       "      <td>66319.08</td>\n",
       "    </tr>\n",
       "    <tr>\n",
       "      <th>6</th>\n",
       "      <td>TSQPM</td>\n",
       "      <td>Truckee/Olympic Valley PM</td>\n",
       "      <td>Nevada</td>\n",
       "      <td>0.16</td>\n",
       "      <td>10846.61</td>\n",
       "      <td>66319.08</td>\n",
       "    </tr>\n",
       "  </tbody>\n",
       "</table>\n",
       "</div>"
      ],
      "text/plain": [
       "   route_id  \\\n",
       "0      2594   \n",
       "17     2594   \n",
       "7      2594   \n",
       "1      2595   \n",
       "18     2595   \n",
       "8      2595   \n",
       "9      2596   \n",
       "10       CB   \n",
       "11   Hwy267   \n",
       "2    Hwy267   \n",
       "3     Hwy89   \n",
       "12    Hwy89   \n",
       "13       ML   \n",
       "19       ML   \n",
       "14     NSPM   \n",
       "4       TLR   \n",
       "5     TNSPM   \n",
       "15    TNSPM   \n",
       "16    TSQPM   \n",
       "6     TSQPM   \n",
       "\n",
       "                                                              route_name  \\\n",
       "0                                   Squaw Valley, Tahoe City, West Shore   \n",
       "17                                  Squaw Valley, Tahoe City, West Shore   \n",
       "7                                   Squaw Valley, Tahoe City, West Shore   \n",
       "1                                                     Truckee, Northstar   \n",
       "18                                                    Truckee, Northstar   \n",
       "8                                                     Truckee, Northstar   \n",
       "9   Carnelian Bay Tahoe Vista, Kings Beach, Crystal Bay, Incline Village   \n",
       "10                                      Crystal Bay to Olympic Valley PM   \n",
       "11                                                     Highway 267 AM/PM   \n",
       "2                                                      Highway 267 AM/PM   \n",
       "3                                                       Highway 89 AM/PM   \n",
       "12                                                      Highway 89 AM/PM   \n",
       "13                                                        Mainline AM/PM   \n",
       "19                                                        Mainline AM/PM   \n",
       "14                                                            Hwy 267 PM   \n",
       "4                                                          Truckee Local   \n",
       "5                                                   Truckee/Northstar PM   \n",
       "15                                                  Truckee/Northstar PM   \n",
       "16                                             Truckee/Olympic Valley PM   \n",
       "6                                              Truckee/Olympic Valley PM   \n",
       "\n",
       "   COUNTY_NAME  percentage  route_length_countytest  route_length_original  \n",
       "0       Nevada        0.28                 96127.81              347450.49  \n",
       "17      Sierra        0.03                  8975.39              347450.49  \n",
       "7       Placer        0.34                118520.61              347450.49  \n",
       "1       Nevada        0.41                114676.71              276482.05  \n",
       "18      Sierra        0.03                  8908.80              276482.05  \n",
       "8       Placer        0.20                 56180.37              276482.05  \n",
       "9       Placer        0.12                 28061.43              239898.85  \n",
       "10      Placer        1.00                101696.60              102167.90  \n",
       "11      Placer        0.79                 90687.13              114495.04  \n",
       "2       Nevada        0.13                 15195.95              114495.04  \n",
       "3       Nevada        0.10                 10767.14              106337.44  \n",
       "12      Placer        0.81                 86091.95              106337.44  \n",
       "13      Placer        0.69                105080.77              151470.13  \n",
       "19   El Dorado        0.03                  4715.77              151470.13  \n",
       "14      Placer        1.00                 56210.35               56393.58  \n",
       "4       Nevada        0.96                 54337.35               56646.46  \n",
       "5       Nevada        0.28                 12503.98               44995.22  \n",
       "15      Placer        0.72                 32491.24               44995.22  \n",
       "16      Placer        0.84                 55472.47               66319.08  \n",
       "6       Nevada        0.16                 10846.61               66319.08  "
      ]
     },
     "execution_count": 297,
     "metadata": {},
     "output_type": "execute_result"
    }
   ],
   "source": [
    "county_merge[\n",
    "    [\n",
    "        \"route_id\",\n",
    "        \"route_name\",\n",
    "        \"COUNTY_NAME\",\n",
    "        \"percentage\",\n",
    "        \"route_length_countytest\",\n",
    "        \"route_length_original\",\n",
    "    ]\n",
    "].sort_values(\"route_id\")"
   ]
  },
  {
   "cell_type": "code",
   "execution_count": 298,
   "id": "975a60e8-51c4-47cf-8d7e-e81919ca17c0",
   "metadata": {
    "tags": []
   },
   "outputs": [
    {
     "data": {
      "text/html": [
       "<div>\n",
       "<style scoped>\n",
       "    .dataframe tbody tr th:only-of-type {\n",
       "        vertical-align: middle;\n",
       "    }\n",
       "\n",
       "    .dataframe tbody tr th {\n",
       "        vertical-align: top;\n",
       "    }\n",
       "\n",
       "    .dataframe thead th {\n",
       "        text-align: right;\n",
       "    }\n",
       "</style>\n",
       "<table border=\"1\" class=\"dataframe\">\n",
       "  <thead>\n",
       "    <tr style=\"text-align: right;\">\n",
       "      <th></th>\n",
       "      <th></th>\n",
       "      <th>percentage</th>\n",
       "    </tr>\n",
       "    <tr>\n",
       "      <th>route_id</th>\n",
       "      <th>route_name</th>\n",
       "      <th></th>\n",
       "    </tr>\n",
       "  </thead>\n",
       "  <tbody>\n",
       "    <tr>\n",
       "      <th>2596</th>\n",
       "      <th>Carnelian Bay Tahoe Vista, Kings Beach, Crystal Bay, Incline Village</th>\n",
       "      <td>0.12</td>\n",
       "    </tr>\n",
       "    <tr>\n",
       "      <th>2594</th>\n",
       "      <th>Squaw Valley, Tahoe City, West Shore</th>\n",
       "      <td>0.64</td>\n",
       "    </tr>\n",
       "    <tr>\n",
       "      <th>2595</th>\n",
       "      <th>Truckee, Northstar</th>\n",
       "      <td>0.65</td>\n",
       "    </tr>\n",
       "    <tr>\n",
       "      <th>ML</th>\n",
       "      <th>Mainline AM/PM</th>\n",
       "      <td>0.72</td>\n",
       "    </tr>\n",
       "    <tr>\n",
       "      <th>Hwy89</th>\n",
       "      <th>Highway 89 AM/PM</th>\n",
       "      <td>0.91</td>\n",
       "    </tr>\n",
       "    <tr>\n",
       "      <th>Hwy267</th>\n",
       "      <th>Highway 267 AM/PM</th>\n",
       "      <td>0.92</td>\n",
       "    </tr>\n",
       "    <tr>\n",
       "      <th>TLR</th>\n",
       "      <th>Truckee Local</th>\n",
       "      <td>0.96</td>\n",
       "    </tr>\n",
       "    <tr>\n",
       "      <th>CB</th>\n",
       "      <th>Crystal Bay to Olympic Valley PM</th>\n",
       "      <td>1.00</td>\n",
       "    </tr>\n",
       "    <tr>\n",
       "      <th>NSPM</th>\n",
       "      <th>Hwy 267 PM</th>\n",
       "      <td>1.00</td>\n",
       "    </tr>\n",
       "    <tr>\n",
       "      <th>TSQPM</th>\n",
       "      <th>Truckee/Olympic Valley PM</th>\n",
       "      <td>1.00</td>\n",
       "    </tr>\n",
       "    <tr>\n",
       "      <th>TNSPM</th>\n",
       "      <th>Truckee/Northstar PM</th>\n",
       "      <td>1.00</td>\n",
       "    </tr>\n",
       "  </tbody>\n",
       "</table>\n",
       "</div>"
      ],
      "text/plain": [
       "                                                                               percentage\n",
       "route_id route_name                                                                      \n",
       "2596     Carnelian Bay Tahoe Vista, Kings Beach, Crystal Bay, Incline Village        0.12\n",
       "2594     Squaw Valley, Tahoe City, West Shore                                        0.64\n",
       "2595     Truckee, Northstar                                                          0.65\n",
       "ML       Mainline AM/PM                                                              0.72\n",
       "Hwy89    Highway 89 AM/PM                                                            0.91\n",
       "Hwy267   Highway 267 AM/PM                                                           0.92\n",
       "TLR      Truckee Local                                                               0.96\n",
       "CB       Crystal Bay to Olympic Valley PM                                            1.00\n",
       "NSPM     Hwy 267 PM                                                                  1.00\n",
       "TSQPM    Truckee/Olympic Valley PM                                                   1.00\n",
       "TNSPM    Truckee/Northstar PM                                                        1.00"
      ]
     },
     "execution_count": 298,
     "metadata": {},
     "output_type": "execute_result"
    }
   ],
   "source": [
    "# Sum up percentages by route name -> but shouldn't they all add up to 1.00?\n",
    "county_merge.groupby([\"route_id\", \"route_name\"]).agg({\"percentage\": \"sum\"}).sort_values(\n",
    "    \"percentage\"\n",
    ")"
   ]
  },
  {
   "cell_type": "markdown",
   "id": "ca12e48a-99ba-4cb2-986a-6c9469e2632a",
   "metadata": {},
   "source": [
    "### Test single route with AT&T"
   ]
  },
  {
   "cell_type": "code",
   "execution_count": 299,
   "id": "9b6198c8-558e-4a86-874b-8ba051b2bed0",
   "metadata": {
    "scrolled": true,
    "tags": []
   },
   "outputs": [],
   "source": [
    "# Filter overlay AT&T\n",
    "single_agency_overlay = overlay_att.loc[\n",
    "    overlay_att[\"agency\"] == agency_wanted\n",
    "].reset_index(drop=True)"
   ]
  },
  {
   "cell_type": "code",
   "execution_count": 300,
   "id": "6a71e210-8b0a-413c-8ef7-38fff43ad6d1",
   "metadata": {},
   "outputs": [
    {
     "data": {
      "text/plain": [
       "'route id after overlay w/ AT&T: 11, length after overlay w/ AT&T: 14, \\noriginal df length: 11'"
      ]
     },
     "execution_count": 300,
     "metadata": {},
     "output_type": "execute_result"
    }
   ],
   "source": [
    "f\"\"\"route id after overlay w/ AT&T: {single_agency_overlay.route_id.nunique()}, length after overlay w/ AT&T: {len(single_agency_overlay)}, \n",
    "original df length: {len(single_agency)}\"\"\""
   ]
  },
  {
   "cell_type": "code",
   "execution_count": 301,
   "id": "d0a76291-c353-4a28-97ea-9488f87b0e39",
   "metadata": {
    "tags": []
   },
   "outputs": [
    {
     "data": {
      "text/html": [
       "<div>\n",
       "<style scoped>\n",
       "    .dataframe tbody tr th:only-of-type {\n",
       "        vertical-align: middle;\n",
       "    }\n",
       "\n",
       "    .dataframe tbody tr th {\n",
       "        vertical-align: top;\n",
       "    }\n",
       "\n",
       "    .dataframe thead th {\n",
       "        text-align: right;\n",
       "    }\n",
       "</style>\n",
       "<table border=\"1\" class=\"dataframe\">\n",
       "  <thead>\n",
       "    <tr style=\"text-align: right;\">\n",
       "      <th></th>\n",
       "      <th>itp_id</th>\n",
       "      <th>route_id</th>\n",
       "      <th>route_type</th>\n",
       "      <th>route_name</th>\n",
       "      <th>agency</th>\n",
       "      <th>route_length</th>\n",
       "    </tr>\n",
       "  </thead>\n",
       "  <tbody>\n",
       "    <tr>\n",
       "      <th>1</th>\n",
       "      <td>331</td>\n",
       "      <td>2594</td>\n",
       "      <td>3</td>\n",
       "      <td>Squaw Valley, Tahoe City, West Shore</td>\n",
       "      <td>Tahoe Transportation</td>\n",
       "      <td>192382.56</td>\n",
       "    </tr>\n",
       "    <tr>\n",
       "      <th>12</th>\n",
       "      <td>331</td>\n",
       "      <td>2594</td>\n",
       "      <td>3</td>\n",
       "      <td>Squaw Valley, Tahoe City, West Shore</td>\n",
       "      <td>Tahoe Transportation</td>\n",
       "      <td>0.02</td>\n",
       "    </tr>\n",
       "    <tr>\n",
       "      <th>2</th>\n",
       "      <td>331</td>\n",
       "      <td>2595</td>\n",
       "      <td>3</td>\n",
       "      <td>Truckee, Northstar</td>\n",
       "      <td>Tahoe Transportation</td>\n",
       "      <td>179077.77</td>\n",
       "    </tr>\n",
       "    <tr>\n",
       "      <th>13</th>\n",
       "      <td>331</td>\n",
       "      <td>2595</td>\n",
       "      <td>3</td>\n",
       "      <td>Truckee, Northstar</td>\n",
       "      <td>Tahoe Transportation</td>\n",
       "      <td>1.46</td>\n",
       "    </tr>\n",
       "    <tr>\n",
       "      <th>3</th>\n",
       "      <td>331</td>\n",
       "      <td>2596</td>\n",
       "      <td>3</td>\n",
       "      <td>Carnelian Bay Tahoe Vista, Kings Beach, Crystal Bay, Incline Village</td>\n",
       "      <td>Tahoe Transportation</td>\n",
       "      <td>28061.43</td>\n",
       "    </tr>\n",
       "    <tr>\n",
       "      <th>4</th>\n",
       "      <td>331</td>\n",
       "      <td>CB</td>\n",
       "      <td>3</td>\n",
       "      <td>Crystal Bay to Olympic Valley PM</td>\n",
       "      <td>Tahoe Transportation</td>\n",
       "      <td>91382.46</td>\n",
       "    </tr>\n",
       "    <tr>\n",
       "      <th>5</th>\n",
       "      <td>331</td>\n",
       "      <td>Hwy267</td>\n",
       "      <td>3</td>\n",
       "      <td>Highway 267 AM/PM</td>\n",
       "      <td>Tahoe Transportation</td>\n",
       "      <td>105883.08</td>\n",
       "    </tr>\n",
       "    <tr>\n",
       "      <th>6</th>\n",
       "      <td>331</td>\n",
       "      <td>Hwy89</td>\n",
       "      <td>3</td>\n",
       "      <td>Highway 89 AM/PM</td>\n",
       "      <td>Tahoe Transportation</td>\n",
       "      <td>72033.22</td>\n",
       "    </tr>\n",
       "    <tr>\n",
       "      <th>0</th>\n",
       "      <td>331</td>\n",
       "      <td>ML</td>\n",
       "      <td>3</td>\n",
       "      <td>Mainline AM/PM</td>\n",
       "      <td>Tahoe Transportation</td>\n",
       "      <td>20484.77</td>\n",
       "    </tr>\n",
       "    <tr>\n",
       "      <th>7</th>\n",
       "      <td>331</td>\n",
       "      <td>ML</td>\n",
       "      <td>3</td>\n",
       "      <td>Mainline AM/PM</td>\n",
       "      <td>Tahoe Transportation</td>\n",
       "      <td>70659.11</td>\n",
       "    </tr>\n",
       "    <tr>\n",
       "      <th>8</th>\n",
       "      <td>331</td>\n",
       "      <td>NSPM</td>\n",
       "      <td>3</td>\n",
       "      <td>Hwy 267 PM</td>\n",
       "      <td>Tahoe Transportation</td>\n",
       "      <td>56210.35</td>\n",
       "    </tr>\n",
       "    <tr>\n",
       "      <th>9</th>\n",
       "      <td>331</td>\n",
       "      <td>TLR</td>\n",
       "      <td>3</td>\n",
       "      <td>Truckee Local</td>\n",
       "      <td>Tahoe Transportation</td>\n",
       "      <td>53242.23</td>\n",
       "    </tr>\n",
       "    <tr>\n",
       "      <th>10</th>\n",
       "      <td>331</td>\n",
       "      <td>TNSPM</td>\n",
       "      <td>3</td>\n",
       "      <td>Truckee/Northstar PM</td>\n",
       "      <td>Tahoe Transportation</td>\n",
       "      <td>44995.22</td>\n",
       "    </tr>\n",
       "    <tr>\n",
       "      <th>11</th>\n",
       "      <td>331</td>\n",
       "      <td>TSQPM</td>\n",
       "      <td>3</td>\n",
       "      <td>Truckee/Olympic Valley PM</td>\n",
       "      <td>Tahoe Transportation</td>\n",
       "      <td>50151.33</td>\n",
       "    </tr>\n",
       "  </tbody>\n",
       "</table>\n",
       "</div>"
      ],
      "text/plain": [
       "    itp_id route_id route_type  \\\n",
       "1      331     2594          3   \n",
       "12     331     2594          3   \n",
       "2      331     2595          3   \n",
       "13     331     2595          3   \n",
       "3      331     2596          3   \n",
       "4      331       CB          3   \n",
       "5      331   Hwy267          3   \n",
       "6      331    Hwy89          3   \n",
       "0      331       ML          3   \n",
       "7      331       ML          3   \n",
       "8      331     NSPM          3   \n",
       "9      331      TLR          3   \n",
       "10     331    TNSPM          3   \n",
       "11     331    TSQPM          3   \n",
       "\n",
       "                                                              route_name  \\\n",
       "1                                   Squaw Valley, Tahoe City, West Shore   \n",
       "12                                  Squaw Valley, Tahoe City, West Shore   \n",
       "2                                                     Truckee, Northstar   \n",
       "13                                                    Truckee, Northstar   \n",
       "3   Carnelian Bay Tahoe Vista, Kings Beach, Crystal Bay, Incline Village   \n",
       "4                                       Crystal Bay to Olympic Valley PM   \n",
       "5                                                      Highway 267 AM/PM   \n",
       "6                                                       Highway 89 AM/PM   \n",
       "0                                                         Mainline AM/PM   \n",
       "7                                                         Mainline AM/PM   \n",
       "8                                                             Hwy 267 PM   \n",
       "9                                                          Truckee Local   \n",
       "10                                                  Truckee/Northstar PM   \n",
       "11                                             Truckee/Olympic Valley PM   \n",
       "\n",
       "                  agency  route_length  \n",
       "1   Tahoe Transportation     192382.56  \n",
       "12  Tahoe Transportation          0.02  \n",
       "2   Tahoe Transportation     179077.77  \n",
       "13  Tahoe Transportation          1.46  \n",
       "3   Tahoe Transportation      28061.43  \n",
       "4   Tahoe Transportation      91382.46  \n",
       "5   Tahoe Transportation     105883.08  \n",
       "6   Tahoe Transportation      72033.22  \n",
       "0   Tahoe Transportation      20484.77  \n",
       "7   Tahoe Transportation      70659.11  \n",
       "8   Tahoe Transportation      56210.35  \n",
       "9   Tahoe Transportation      53242.23  \n",
       "10  Tahoe Transportation      44995.22  \n",
       "11  Tahoe Transportation      50151.33  "
      ]
     },
     "execution_count": 301,
     "metadata": {},
     "output_type": "execute_result"
    }
   ],
   "source": [
    "# Route ids become split up?\n",
    "single_agency_overlay.drop(columns=[\"geometry\"]).sort_values(\"route_id\")"
   ]
  },
  {
   "cell_type": "code",
   "execution_count": 302,
   "id": "99c008d5-7e87-4885-94e3-759a964d2d9e",
   "metadata": {},
   "outputs": [],
   "source": [
    "# Sum up routes...\n",
    "single_agency_overlay2 = (\n",
    "    single_agency_overlay.groupby([\"route_id\", \"route_name\", \"agency\", \"itp_id\"])\n",
    "    .agg({\"route_length\": \"sum\"})\n",
    "    .reset_index()\n",
    ")"
   ]
  },
  {
   "cell_type": "code",
   "execution_count": 303,
   "id": "acb42007-a231-4615-aabe-f51faf492672",
   "metadata": {
    "tags": []
   },
   "outputs": [
    {
     "data": {
      "text/plain": [
       "'\\nsingle_agency_overlay2 = (\\n    single_agency_overlay.sort_values([\"route_id\", \"route_length\"], ascending=False)\\n    .drop_duplicates(\"route_id\")\\n    .reset_index(drop=True)\\n)\\n'"
      ]
     },
     "execution_count": 303,
     "metadata": {},
     "output_type": "execute_result"
    }
   ],
   "source": [
    "# Play with ascending\n",
    "\"\"\"\n",
    "single_agency_overlay2 = (\n",
    "    single_agency_overlay.sort_values([\"route_id\", \"route_length\"], ascending=False)\n",
    "    .drop_duplicates(\"route_id\")\n",
    "    .reset_index(drop=True)\n",
    ")\n",
    "\"\"\""
   ]
  },
  {
   "cell_type": "code",
   "execution_count": 304,
   "id": "4a6a5e30-de78-4456-ba87-c94b119eed11",
   "metadata": {},
   "outputs": [
    {
     "data": {
      "text/plain": [
       "((11, 5), 11)"
      ]
     },
     "execution_count": 304,
     "metadata": {},
     "output_type": "execute_result"
    }
   ],
   "source": [
    "single_agency_overlay2.shape, single_agency_overlay2.route_name.nunique()"
   ]
  },
  {
   "cell_type": "code",
   "execution_count": 305,
   "id": "975545a9-2c5d-47e5-9774-af22f599ca42",
   "metadata": {},
   "outputs": [],
   "source": [
    "# Merge to get original route length and old route length\n",
    "att_merge = pd.merge(\n",
    "    single_agency_overlay2,\n",
    "    single_agency,\n",
    "    how=\"inner\",\n",
    "    on=[\"agency\", \"route_id\", \"route_name\", \"itp_id\"],\n",
    "    suffixes=[\"_overlay\", \"_original\"],\n",
    ")"
   ]
  },
  {
   "cell_type": "code",
   "execution_count": 306,
   "id": "edff2fb4-182c-4cd2-8b0a-e0c053d35525",
   "metadata": {},
   "outputs": [
    {
     "data": {
      "text/plain": [
       "11"
      ]
     },
     "execution_count": 306,
     "metadata": {},
     "output_type": "execute_result"
    }
   ],
   "source": [
    "att_merge.route_id.nunique()"
   ]
  },
  {
   "cell_type": "code",
   "execution_count": 307,
   "id": "20144580-1404-463f-855c-b341bf9dc673",
   "metadata": {},
   "outputs": [],
   "source": [
    "att_merge[\"percentage\"] = (\n",
    "    att_merge[\"route_length_overlay\"] / att_merge[\"route_length_original\"]\n",
    ") * 100"
   ]
  },
  {
   "cell_type": "code",
   "execution_count": 308,
   "id": "fd79cae4-3f12-44d5-8981-c94ba5bd5faa",
   "metadata": {
    "tags": []
   },
   "outputs": [],
   "source": [
    "# Bin percentages\n",
    "bins = [0, 10, 20, 30, 40, 50, 60, 70, 80, 90, 100]"
   ]
  },
  {
   "cell_type": "code",
   "execution_count": 309,
   "id": "5bb01f08-863a-44c7-abf7-141a06d7394f",
   "metadata": {
    "tags": []
   },
   "outputs": [],
   "source": [
    "att_merge[\"binned\"] = pd.cut(att_merge[\"percentage\"], bins)"
   ]
  },
  {
   "cell_type": "code",
   "execution_count": 310,
   "id": "f0079749-eff1-4f62-9786-2a5085137a00",
   "metadata": {},
   "outputs": [
    {
     "data": {
      "text/plain": [
       "(60, 70]     3\n",
       "(90, 100]    3\n",
       "(10, 20]     1\n",
       "(50, 60]     1\n",
       "(70, 80]     1\n",
       "(80, 90]     1\n",
       "(0, 10]      0\n",
       "(20, 30]     0\n",
       "(30, 40]     0\n",
       "(40, 50]     0\n",
       "Name: binned, dtype: int64"
      ]
     },
     "execution_count": 310,
     "metadata": {},
     "output_type": "execute_result"
    }
   ],
   "source": [
    "att_merge.binned.value_counts()"
   ]
  },
  {
   "cell_type": "code",
   "execution_count": 311,
   "id": "6c206b2b-fd6b-4a7c-9f55-d9e52e87fcd5",
   "metadata": {},
   "outputs": [
    {
     "data": {
      "text/html": [
       "<div>\n",
       "<style scoped>\n",
       "    .dataframe tbody tr th:only-of-type {\n",
       "        vertical-align: middle;\n",
       "    }\n",
       "\n",
       "    .dataframe tbody tr th {\n",
       "        vertical-align: top;\n",
       "    }\n",
       "\n",
       "    .dataframe thead th {\n",
       "        text-align: right;\n",
       "    }\n",
       "</style>\n",
       "<table border=\"1\" class=\"dataframe\">\n",
       "  <thead>\n",
       "    <tr style=\"text-align: right;\">\n",
       "      <th></th>\n",
       "      <th>route_id</th>\n",
       "      <th>route_name</th>\n",
       "      <th>agency</th>\n",
       "      <th>itp_id</th>\n",
       "      <th>route_length_overlay</th>\n",
       "      <th>route_type</th>\n",
       "      <th>route_length_original</th>\n",
       "      <th>percentage</th>\n",
       "      <th>binned</th>\n",
       "    </tr>\n",
       "  </thead>\n",
       "  <tbody>\n",
       "    <tr>\n",
       "      <th>0</th>\n",
       "      <td>2594</td>\n",
       "      <td>Squaw Valley, Tahoe City, West Shore</td>\n",
       "      <td>Tahoe Transportation</td>\n",
       "      <td>331</td>\n",
       "      <td>192382.58</td>\n",
       "      <td>3</td>\n",
       "      <td>347450.49</td>\n",
       "      <td>55.37</td>\n",
       "      <td>(50.0, 60.0]</td>\n",
       "    </tr>\n",
       "    <tr>\n",
       "      <th>1</th>\n",
       "      <td>2595</td>\n",
       "      <td>Truckee, Northstar</td>\n",
       "      <td>Tahoe Transportation</td>\n",
       "      <td>331</td>\n",
       "      <td>179079.23</td>\n",
       "      <td>3</td>\n",
       "      <td>276482.05</td>\n",
       "      <td>64.77</td>\n",
       "      <td>(60.0, 70.0]</td>\n",
       "    </tr>\n",
       "    <tr>\n",
       "      <th>2</th>\n",
       "      <td>2596</td>\n",
       "      <td>Carnelian Bay Tahoe Vista, Kings Beach, Crystal Bay, Incline Village</td>\n",
       "      <td>Tahoe Transportation</td>\n",
       "      <td>331</td>\n",
       "      <td>28061.43</td>\n",
       "      <td>3</td>\n",
       "      <td>239898.85</td>\n",
       "      <td>11.70</td>\n",
       "      <td>(10.0, 20.0]</td>\n",
       "    </tr>\n",
       "    <tr>\n",
       "      <th>3</th>\n",
       "      <td>CB</td>\n",
       "      <td>Crystal Bay to Olympic Valley PM</td>\n",
       "      <td>Tahoe Transportation</td>\n",
       "      <td>331</td>\n",
       "      <td>91382.46</td>\n",
       "      <td>3</td>\n",
       "      <td>102167.90</td>\n",
       "      <td>89.44</td>\n",
       "      <td>(80.0, 90.0]</td>\n",
       "    </tr>\n",
       "    <tr>\n",
       "      <th>4</th>\n",
       "      <td>Hwy267</td>\n",
       "      <td>Highway 267 AM/PM</td>\n",
       "      <td>Tahoe Transportation</td>\n",
       "      <td>331</td>\n",
       "      <td>105883.08</td>\n",
       "      <td>3</td>\n",
       "      <td>114495.04</td>\n",
       "      <td>92.48</td>\n",
       "      <td>(90.0, 100.0]</td>\n",
       "    </tr>\n",
       "    <tr>\n",
       "      <th>5</th>\n",
       "      <td>Hwy89</td>\n",
       "      <td>Highway 89 AM/PM</td>\n",
       "      <td>Tahoe Transportation</td>\n",
       "      <td>331</td>\n",
       "      <td>72033.22</td>\n",
       "      <td>3</td>\n",
       "      <td>106337.44</td>\n",
       "      <td>67.74</td>\n",
       "      <td>(60.0, 70.0]</td>\n",
       "    </tr>\n",
       "    <tr>\n",
       "      <th>6</th>\n",
       "      <td>ML</td>\n",
       "      <td>Mainline AM/PM</td>\n",
       "      <td>Tahoe Transportation</td>\n",
       "      <td>331</td>\n",
       "      <td>91143.89</td>\n",
       "      <td>3</td>\n",
       "      <td>151470.13</td>\n",
       "      <td>60.17</td>\n",
       "      <td>(60.0, 70.0]</td>\n",
       "    </tr>\n",
       "    <tr>\n",
       "      <th>7</th>\n",
       "      <td>NSPM</td>\n",
       "      <td>Hwy 267 PM</td>\n",
       "      <td>Tahoe Transportation</td>\n",
       "      <td>331</td>\n",
       "      <td>56210.35</td>\n",
       "      <td>3</td>\n",
       "      <td>56393.58</td>\n",
       "      <td>99.68</td>\n",
       "      <td>(90.0, 100.0]</td>\n",
       "    </tr>\n",
       "    <tr>\n",
       "      <th>8</th>\n",
       "      <td>TLR</td>\n",
       "      <td>Truckee Local</td>\n",
       "      <td>Tahoe Transportation</td>\n",
       "      <td>331</td>\n",
       "      <td>53242.23</td>\n",
       "      <td>3</td>\n",
       "      <td>56646.46</td>\n",
       "      <td>93.99</td>\n",
       "      <td>(90.0, 100.0]</td>\n",
       "    </tr>\n",
       "    <tr>\n",
       "      <th>9</th>\n",
       "      <td>TNSPM</td>\n",
       "      <td>Truckee/Northstar PM</td>\n",
       "      <td>Tahoe Transportation</td>\n",
       "      <td>331</td>\n",
       "      <td>44995.22</td>\n",
       "      <td>3</td>\n",
       "      <td>44995.22</td>\n",
       "      <td>100.00</td>\n",
       "      <td>NaN</td>\n",
       "    </tr>\n",
       "    <tr>\n",
       "      <th>10</th>\n",
       "      <td>TSQPM</td>\n",
       "      <td>Truckee/Olympic Valley PM</td>\n",
       "      <td>Tahoe Transportation</td>\n",
       "      <td>331</td>\n",
       "      <td>50151.33</td>\n",
       "      <td>3</td>\n",
       "      <td>66319.08</td>\n",
       "      <td>75.62</td>\n",
       "      <td>(70.0, 80.0]</td>\n",
       "    </tr>\n",
       "  </tbody>\n",
       "</table>\n",
       "</div>"
      ],
      "text/plain": [
       "   route_id  \\\n",
       "0      2594   \n",
       "1      2595   \n",
       "2      2596   \n",
       "3        CB   \n",
       "4    Hwy267   \n",
       "5     Hwy89   \n",
       "6        ML   \n",
       "7      NSPM   \n",
       "8       TLR   \n",
       "9     TNSPM   \n",
       "10    TSQPM   \n",
       "\n",
       "                                                              route_name  \\\n",
       "0                                   Squaw Valley, Tahoe City, West Shore   \n",
       "1                                                     Truckee, Northstar   \n",
       "2   Carnelian Bay Tahoe Vista, Kings Beach, Crystal Bay, Incline Village   \n",
       "3                                       Crystal Bay to Olympic Valley PM   \n",
       "4                                                      Highway 267 AM/PM   \n",
       "5                                                       Highway 89 AM/PM   \n",
       "6                                                         Mainline AM/PM   \n",
       "7                                                             Hwy 267 PM   \n",
       "8                                                          Truckee Local   \n",
       "9                                                   Truckee/Northstar PM   \n",
       "10                                             Truckee/Olympic Valley PM   \n",
       "\n",
       "                  agency  itp_id  route_length_overlay route_type  \\\n",
       "0   Tahoe Transportation     331             192382.58          3   \n",
       "1   Tahoe Transportation     331             179079.23          3   \n",
       "2   Tahoe Transportation     331              28061.43          3   \n",
       "3   Tahoe Transportation     331              91382.46          3   \n",
       "4   Tahoe Transportation     331             105883.08          3   \n",
       "5   Tahoe Transportation     331              72033.22          3   \n",
       "6   Tahoe Transportation     331              91143.89          3   \n",
       "7   Tahoe Transportation     331              56210.35          3   \n",
       "8   Tahoe Transportation     331              53242.23          3   \n",
       "9   Tahoe Transportation     331              44995.22          3   \n",
       "10  Tahoe Transportation     331              50151.33          3   \n",
       "\n",
       "    route_length_original  percentage         binned  \n",
       "0               347450.49       55.37   (50.0, 60.0]  \n",
       "1               276482.05       64.77   (60.0, 70.0]  \n",
       "2               239898.85       11.70   (10.0, 20.0]  \n",
       "3               102167.90       89.44   (80.0, 90.0]  \n",
       "4               114495.04       92.48  (90.0, 100.0]  \n",
       "5               106337.44       67.74   (60.0, 70.0]  \n",
       "6               151470.13       60.17   (60.0, 70.0]  \n",
       "7                56393.58       99.68  (90.0, 100.0]  \n",
       "8                56646.46       93.99  (90.0, 100.0]  \n",
       "9                44995.22      100.00            NaN  \n",
       "10               66319.08       75.62   (70.0, 80.0]  "
      ]
     },
     "execution_count": 311,
     "metadata": {},
     "output_type": "execute_result"
    }
   ],
   "source": [
    "att_merge.drop(columns=[\"geometry\"])"
   ]
  },
  {
   "cell_type": "code",
   "execution_count": 333,
   "id": "534338b5-6a40-4f51-8951-2f1c5641cbc0",
   "metadata": {},
   "outputs": [],
   "source": [
    "def route_cell_coverage(provider_gdf, original_routes_df):\n",
    "    \"\"\"\n",
    "    Args:\n",
    "        provider_gdf: the provider gdf clipped to CA\n",
    "        original_routes_df: the original df with all the routes\n",
    "    Returns:\n",
    "        Returns a gdf with the percentage of the routes covered by a provider\n",
    "    \"\"\"\n",
    "    # Overlay the dfs\n",
    "    overlay = utilities.comparison(routes_df, att_df)\n",
    "\n",
    "    # Sum up lengths of routes by route id, name, agency, and itp_id\n",
    "    overlay2 = (\n",
    "        overlay.groupby([\"route_id\", \"route_name\", \"agency\", \"itp_id\"])\n",
    "        .agg({\"route_length\": \"sum\"})\n",
    "        .reset_index()\n",
    "    )\n",
    "\n",
    "    # Merge original dataframe with old route with provider-route overlay\n",
    "    # To get original route length and old route length\n",
    "    m1 = pd.merge(\n",
    "        overlay2,\n",
    "        original_routes_df,\n",
    "        how=\"inner\",\n",
    "        on=[\"agency\", \"route_id\", \"route_name\", \"itp_id\"],\n",
    "        suffixes=[\"_overlay\", \"_original_df\"],\n",
    "    )\n",
    "\n",
    "    return m1"
   ]
  },
  {
   "cell_type": "code",
   "execution_count": 334,
   "id": "3ad5b369-b3fe-469a-bf94-20cf19d10095",
   "metadata": {},
   "outputs": [],
   "source": [
    "test_m1 = route_cell_coverage(att_df, routes_df)"
   ]
  },
  {
   "cell_type": "code",
   "execution_count": 335,
   "id": "c71bc59d-1995-49d9-922f-4c528e932ed0",
   "metadata": {},
   "outputs": [
    {
     "data": {
      "text/plain": [
       "(2822, 8)"
      ]
     },
     "execution_count": 335,
     "metadata": {},
     "output_type": "execute_result"
    }
   ],
   "source": [
    "test_m1.shape"
   ]
  },
  {
   "cell_type": "code",
   "execution_count": 337,
   "id": "aa481bd0-3d6a-44b4-a329-a85510b61ded",
   "metadata": {},
   "outputs": [],
   "source": [
    "# Divide new route length w/ coverage with original length..not working in my function \n",
    "test_m1[\"percentage\"] = (\n",
    "        test_m1[\"route_length_overlay\"] / test_m1[\"route_length_original_df\"]\n",
    "    ) * 100"
   ]
  },
  {
   "cell_type": "code",
   "execution_count": 345,
   "id": "f195fbfc-591c-4560-8602-393aec87db1e",
   "metadata": {},
   "outputs": [
    {
     "data": {
      "text/html": [
       "<div>\n",
       "<style scoped>\n",
       "    .dataframe tbody tr th:only-of-type {\n",
       "        vertical-align: middle;\n",
       "    }\n",
       "\n",
       "    .dataframe tbody tr th {\n",
       "        vertical-align: top;\n",
       "    }\n",
       "\n",
       "    .dataframe thead th {\n",
       "        text-align: right;\n",
       "    }\n",
       "</style>\n",
       "<table border=\"1\" class=\"dataframe\">\n",
       "  <thead>\n",
       "    <tr style=\"text-align: right;\">\n",
       "      <th></th>\n",
       "      <th>route_id</th>\n",
       "      <th>route_name</th>\n",
       "      <th>agency</th>\n",
       "      <th>route_length_overlay</th>\n",
       "      <th>route_length_original_df</th>\n",
       "      <th>percentage</th>\n",
       "    </tr>\n",
       "  </thead>\n",
       "  <tbody>\n",
       "    <tr>\n",
       "      <th>1073</th>\n",
       "      <td>243</td>\n",
       "      <td>Off the Mountain Big Bear Valley - Running Springs - San Bernardino</td>\n",
       "      <td>Mountain Transit</td>\n",
       "      <td>223890.16</td>\n",
       "      <td>251362.02</td>\n",
       "      <td>89.07</td>\n",
       "    </tr>\n",
       "    <tr>\n",
       "      <th>362</th>\n",
       "      <td>1237</td>\n",
       "      <td>via Marin City/Mt. Tam/Stinson Beach</td>\n",
       "      <td>Marin Transit</td>\n",
       "      <td>126064.16</td>\n",
       "      <td>132911.91</td>\n",
       "      <td>94.85</td>\n",
       "    </tr>\n",
       "    <tr>\n",
       "      <th>661</th>\n",
       "      <td>15207</td>\n",
       "      <td>20</td>\n",
       "      <td>Simi Valley Transit</td>\n",
       "      <td>68686.97</td>\n",
       "      <td>68686.97</td>\n",
       "      <td>100.00</td>\n",
       "    </tr>\n",
       "    <tr>\n",
       "      <th>95</th>\n",
       "      <td>10</td>\n",
       "      <td>Express 2 Afternoon</td>\n",
       "      <td>Grapeline</td>\n",
       "      <td>28213.11</td>\n",
       "      <td>28541.86</td>\n",
       "      <td>98.85</td>\n",
       "    </tr>\n",
       "    <tr>\n",
       "      <th>1954</th>\n",
       "      <td>6</td>\n",
       "      <td>LINE 6</td>\n",
       "      <td>Torrance Transit System</td>\n",
       "      <td>65381.50</td>\n",
       "      <td>66549.63</td>\n",
       "      <td>98.24</td>\n",
       "    </tr>\n",
       "  </tbody>\n",
       "</table>\n",
       "</div>"
      ],
      "text/plain": [
       "     route_id  \\\n",
       "1073      243   \n",
       "362      1237   \n",
       "661     15207   \n",
       "95         10   \n",
       "1954        6   \n",
       "\n",
       "                                                               route_name  \\\n",
       "1073  Off the Mountain Big Bear Valley - Running Springs - San Bernardino   \n",
       "362                                  via Marin City/Mt. Tam/Stinson Beach   \n",
       "661                                                                    20   \n",
       "95                                                    Express 2 Afternoon   \n",
       "1954                                                               LINE 6   \n",
       "\n",
       "                       agency  route_length_overlay  route_length_original_df  \\\n",
       "1073         Mountain Transit             223890.16                 251362.02   \n",
       "362             Marin Transit             126064.16                 132911.91   \n",
       "661       Simi Valley Transit              68686.97                  68686.97   \n",
       "95                  Grapeline              28213.11                  28541.86   \n",
       "1954  Torrance Transit System              65381.50                  66549.63   \n",
       "\n",
       "      percentage  \n",
       "1073       89.07  \n",
       "362        94.85  \n",
       "661       100.00  \n",
       "95         98.85  \n",
       "1954       98.24  "
      ]
     },
     "execution_count": 345,
     "metadata": {},
     "output_type": "execute_result"
    }
   ],
   "source": [
    "test_m1[['route_id','route_name','agency','route_length_overlay','route_length_original_df', 'percentage']].sample(5)"
   ]
  },
  {
   "cell_type": "code",
   "execution_count": 346,
   "id": "e70cdb0c-332d-4017-9e5b-41a76164346d",
   "metadata": {},
   "outputs": [],
   "source": [
    "bins = [0, 10, 20, 30, 40, 50, 60, 70, 80, 90, 100]\n",
    "test_m1[\"binned\"] = pd.cut(test_m1[\"percentage\"], bins)"
   ]
  }
 ],
 "metadata": {
  "kernelspec": {
   "display_name": "Python 3 (ipykernel)",
   "language": "python",
   "name": "python3"
  },
  "language_info": {
   "codemirror_mode": {
    "name": "ipython",
    "version": 3
   },
   "file_extension": ".py",
   "mimetype": "text/x-python",
   "name": "python",
   "nbconvert_exporter": "python",
   "pygments_lexer": "ipython3",
   "version": "3.10.5"
  }
 },
 "nbformat": 4,
 "nbformat_minor": 5
}
