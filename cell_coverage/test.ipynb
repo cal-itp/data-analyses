{
 "cells": [
  {
   "cell_type": "markdown",
   "id": "45a4417c-94bb-44a6-8b81-18e1bc089855",
   "metadata": {},
   "source": [
    "# Exploring Cell Coverage of Routes\n",
    "* To do later: move data sources to a catalog\n",
    "* An agency here is defined: as a service and an operator..."
   ]
  },
  {
   "cell_type": "code",
   "execution_count": 1,
   "id": "eecac02a-a99d-4a1e-9800-c2b094484f79",
   "metadata": {},
   "outputs": [
    {
     "name": "stderr",
     "output_type": "stream",
     "text": [
      "/opt/conda/lib/python3.10/site-packages/geopandas/_compat.py:112: UserWarning: The Shapely GEOS version (3.10.3-CAPI-1.16.1) is incompatible with the GEOS version PyGEOS was compiled with (3.10.1-CAPI-1.16.0). Conversions between both will be slow.\n",
      "  warnings.warn(\n"
     ]
    }
   ],
   "source": [
    "# Read in zip files\n",
    "import fsspec\n",
    "import geopandas as gpd\n",
    "import intake\n",
    "import numpy as np\n",
    "import pandas as pd\n",
    "\n",
    "# My utilities\n",
    "import utilities\n",
    "from calitp import *\n",
    "\n",
    "# Display\n",
    "from IPython.display import HTML, Image, Markdown, display, display_html\n",
    "\n",
    "# Geometry\n",
    "from shared_utils import geography_utils, utils"
   ]
  },
  {
   "cell_type": "code",
   "execution_count": 2,
   "id": "b393271a-9e5f-4772-b28e-25ae7414c54b",
   "metadata": {},
   "outputs": [],
   "source": [
    "pd.options.display.max_columns = 100\n",
    "pd.options.display.float_format = \"{:.2f}\".format\n",
    "pd.set_option(\"display.max_rows\", None)\n",
    "pd.set_option(\"display.max_colwidth\", None)"
   ]
  },
  {
   "cell_type": "code",
   "execution_count": 3,
   "id": "140cf451-4eba-4a2f-b7d9-dee7ce3e0a43",
   "metadata": {},
   "outputs": [],
   "source": [
    "GCS_FILE_PATH = \"gs://calitp-analytics-data/data-analyses/cellular_coverage/\""
   ]
  },
  {
   "cell_type": "markdown",
   "id": "86d3af28-c18c-49e0-9c58-7c7317906fbd",
   "metadata": {
    "tags": []
   },
   "source": [
    "## Trip Routes \n",
    "* Bring in trip routes."
   ]
  },
  {
   "cell_type": "code",
   "execution_count": 4,
   "id": "c136d800-66ff-4cec-b122-3e9068a2c733",
   "metadata": {},
   "outputs": [],
   "source": [
    "# Just grab some columns w/o geo, in case I want to preview the df\n",
    "cols_without_geometry = [\n",
    "    \"agency\",\n",
    "    \"route_name\",\n",
    "    \"itp_id\",\n",
    "    \"route_id\",\n",
    "    \"route_type\",\n",
    "]"
   ]
  },
  {
   "cell_type": "code",
   "execution_count": 5,
   "id": "a8f359af-1989-4311-b899-0d3c3b441f2f",
   "metadata": {},
   "outputs": [],
   "source": [
    "routes_df = gpd.read_parquet(\n",
    "    \"gs://calitp-analytics-data/data-analyses/traffic_ops/ca_transit_routes.parquet\"\n",
    ")"
   ]
  },
  {
   "cell_type": "code",
   "execution_count": 6,
   "id": "d7abba37-9c87-4862-b535-fb7f833dace8",
   "metadata": {},
   "outputs": [],
   "source": [
    "# Find unique routes for bus only\n",
    "routes_df = utilities.unique_routes(routes_df)"
   ]
  },
  {
   "cell_type": "code",
   "execution_count": 7,
   "id": "7ca53a05-f582-46ef-98f8-5f752d5c2c36",
   "metadata": {},
   "outputs": [
    {
     "data": {
      "text/plain": [
       "itp_id             int64\n",
       "route_id          object\n",
       "geometry        geometry\n",
       "route_type        object\n",
       "route_name        object\n",
       "agency            object\n",
       "route_length     float64\n",
       "dtype: object"
      ]
     },
     "execution_count": 7,
     "metadata": {},
     "output_type": "execute_result"
    }
   ],
   "source": [
    "routes_df.dtypes"
   ]
  },
  {
   "cell_type": "code",
   "execution_count": 8,
   "id": "0c6e0c41-69be-4b22-b55d-942fc4f7c8f6",
   "metadata": {},
   "outputs": [],
   "source": [
    "# Fill in NA for route names and agency names\n",
    "routes_df[\"route_name\"] = routes_df[\"route_name\"].replace({\"\": \"None\"})"
   ]
  },
  {
   "cell_type": "code",
   "execution_count": 9,
   "id": "b85108e8-655e-4a79-a156-9417c23dbcf6",
   "metadata": {},
   "outputs": [
    {
     "data": {
      "text/plain": [
       "'1719 unique route ids, 1951 different route names, and 2370 different shape ids. The dataframe has 2934 rows.'"
      ]
     },
     "execution_count": 9,
     "metadata": {},
     "output_type": "execute_result"
    }
   ],
   "source": [
    "f\"\"\"{routes_df.route_id.nunique()} unique route ids, {routes_df.route_name.nunique()} different route names, and {routes_df.route_length.nunique()} different shape ids. The dataframe has {len(routes_df)} rows.\"\"\""
   ]
  },
  {
   "cell_type": "code",
   "execution_count": 10,
   "id": "81db533d-ea05-4081-9f21-126cbc151e59",
   "metadata": {
    "scrolled": true,
    "tags": []
   },
   "outputs": [],
   "source": [
    "# Route ID is only unique to each agency.\n",
    "# routes_df[[\"agency\",  \"route_name\",  \"route_id\",]].sort_values(['agency',\"route_name\", 'route_id', ]).drop_duplicates().reset_index(drop = True)"
   ]
  },
  {
   "cell_type": "code",
   "execution_count": 11,
   "id": "48416df9-0053-4baa-a8b2-92533c91212a",
   "metadata": {
    "tags": []
   },
   "outputs": [],
   "source": [
    "# Create a df for agency-itp id, drop duplicates to get only one record per agency\n",
    "agency_itp = routes_df[[\"agency\", \"itp_id\"]].drop_duplicates()"
   ]
  },
  {
   "cell_type": "code",
   "execution_count": 12,
   "id": "f4d9bcc6-19f0-4c5b-9917-98833586ec9f",
   "metadata": {},
   "outputs": [
    {
     "data": {
      "text/plain": [
       "(167, 2)"
      ]
     },
     "execution_count": 12,
     "metadata": {},
     "output_type": "execute_result"
    }
   ],
   "source": [
    "agency_itp.shape"
   ]
  },
  {
   "cell_type": "markdown",
   "id": "a53ce7d4-69e5-4d59-a198-33d742a67dcd",
   "metadata": {
    "tags": []
   },
   "source": [
    "## FCC Maps\n",
    "* T-Mobile file is split for each state and I can't find documentation on fcc's website on which zip file corresponds to CA. \n",
    "* Emailed FCC for clarification.\n",
    "* FCC said \"there is no way to tell which file corresponds with which state.\""
   ]
  },
  {
   "cell_type": "code",
   "execution_count": 13,
   "id": "86b29013-96d5-431c-b7a0-f44017973e74",
   "metadata": {},
   "outputs": [],
   "source": [
    "# verizon_df = gpd.read_parquet(f\"{GCS_FILE_PATH}verizon_ca_only.parquet\")"
   ]
  },
  {
   "cell_type": "code",
   "execution_count": 14,
   "id": "79bf4ffd-cde3-4483-be74-2c663bbc0502",
   "metadata": {},
   "outputs": [],
   "source": [
    "att_df = gpd.read_parquet(f\"{GCS_FILE_PATH}att_ca_only.parquet\")"
   ]
  },
  {
   "cell_type": "code",
   "execution_count": 15,
   "id": "446c4d1c-00cb-470e-a3d6-cacad9338c53",
   "metadata": {},
   "outputs": [],
   "source": [
    "# att_df.plot()"
   ]
  },
  {
   "cell_type": "code",
   "execution_count": 16,
   "id": "86181f37-848a-4679-bb5a-a54c28dc3c49",
   "metadata": {},
   "outputs": [],
   "source": [
    "# att_df.plot(), verizon_df.plot(),"
   ]
  },
  {
   "cell_type": "markdown",
   "id": "4665adab-5b3e-4d95-b7fe-b2461829f513",
   "metadata": {},
   "source": [
    "## Overlay AT&T with Trip Routes"
   ]
  },
  {
   "cell_type": "code",
   "execution_count": 17,
   "id": "94688927-f097-484d-8aff-504cb412fa2e",
   "metadata": {},
   "outputs": [],
   "source": [
    "# overlay_verizon = utilities.comparison(routes_df, verizon_df)"
   ]
  },
  {
   "cell_type": "code",
   "execution_count": 18,
   "id": "07c88e5b-4648-4ab5-a3f0-99f2331409dd",
   "metadata": {},
   "outputs": [],
   "source": [
    "overlay_att = utilities.comparison(routes_df, att_df)"
   ]
  },
  {
   "cell_type": "code",
   "execution_count": 19,
   "id": "07de862d-94c9-4f25-8583-4c0cd9cae802",
   "metadata": {},
   "outputs": [],
   "source": [
    "# f\"Verizon: The length of the overlay dataframe is {len(overlay_verizon)}\""
   ]
  },
  {
   "cell_type": "code",
   "execution_count": 20,
   "id": "9b879417-f102-42bd-bc6b-68374df39a76",
   "metadata": {},
   "outputs": [],
   "source": [
    "# f\"AT&T: The length of the overlay dataframe is {len(overlay_att)}\""
   ]
  },
  {
   "cell_type": "code",
   "execution_count": 21,
   "id": "6e731748-1904-4b45-a9c6-893ebce313c4",
   "metadata": {},
   "outputs": [],
   "source": [
    "# overlay_att.plot(\"route_length\", legend=True), overlay_verizon.plot(\"route_length\")"
   ]
  },
  {
   "cell_type": "markdown",
   "id": "684cc783-e410-4304-b19e-f5268f7a9175",
   "metadata": {
    "tags": []
   },
   "source": [
    "### Test with bus routes x California Counties first\n",
    "* Using counties just because it seems like a lot more routes cross counties instead of districts.\n",
    "* Tested with these agencies that are in a remote area:\n",
    "* \"Tahoe Truckee Area Regional Transportation\"\n",
    "    * https://tahoetruckeetransit.com/interactive-map/\n",
    "* 'Trinity Transit' \n",
    "* 'Lassen Transit Service Agency'"
   ]
  },
  {
   "cell_type": "code",
   "execution_count": 22,
   "id": "cfd8b3fa-5eac-4528-b90b-8a92aeecf922",
   "metadata": {},
   "outputs": [],
   "source": [
    "ca_gdf = (\n",
    "    \"https://opendata.arcgis.com/datasets/8713ced9b78a4abb97dc130a691a8695_0.geojson\"\n",
    ")"
   ]
  },
  {
   "cell_type": "code",
   "execution_count": 23,
   "id": "ae4caf7c-e3d9-46b5-b3d8-5875b4d8b1fb",
   "metadata": {},
   "outputs": [],
   "source": [
    "geojson = gpd.read_file(f\"{ca_gdf}\").to_crs(epsg=4326)"
   ]
  },
  {
   "cell_type": "code",
   "execution_count": 24,
   "id": "d04ff542-5e2b-4b94-ab8d-ef7c8dc5c49b",
   "metadata": {},
   "outputs": [],
   "source": [
    "agency_wanted = \"Tahoe Transportation\""
   ]
  },
  {
   "cell_type": "code",
   "execution_count": 25,
   "id": "9a4167c9-f3bf-49ab-b0da-9155eb27197c",
   "metadata": {
    "scrolled": true,
    "tags": []
   },
   "outputs": [],
   "source": [
    "# routes_df.agency.unique()"
   ]
  },
  {
   "cell_type": "code",
   "execution_count": 26,
   "id": "f50a1753-2ea2-46ae-8e7e-4d713fe7e0ec",
   "metadata": {
    "scrolled": true,
    "tags": []
   },
   "outputs": [],
   "source": [
    "# Filter original df\n",
    "single_agency = routes_df.loc[routes_df[\"agency\"] == agency_wanted].reset_index(\n",
    "    drop=True\n",
    ")"
   ]
  },
  {
   "cell_type": "code",
   "execution_count": 27,
   "id": "1308b31f-5f70-4123-9282-10ff5e648416",
   "metadata": {},
   "outputs": [
    {
     "data": {
      "text/plain": [
       "((4, 7), 4)"
      ]
     },
     "execution_count": 27,
     "metadata": {},
     "output_type": "execute_result"
    }
   ],
   "source": [
    "single_agency.shape, single_agency.route_id.nunique()"
   ]
  },
  {
   "cell_type": "code",
   "execution_count": 28,
   "id": "a288ec57-2e8c-4d04-8a2f-93f30e40e74f",
   "metadata": {},
   "outputs": [],
   "source": [
    "single_agency[\"route_name\"] = single_agency[\"route_name\"].replace({\"\": \"None\"})"
   ]
  },
  {
   "cell_type": "code",
   "execution_count": 29,
   "id": "7b842cab-5434-4cf3-9e47-2549d6052ace",
   "metadata": {
    "scrolled": true,
    "tags": []
   },
   "outputs": [
    {
     "data": {
      "text/html": [
       "<div>\n",
       "<style scoped>\n",
       "    .dataframe tbody tr th:only-of-type {\n",
       "        vertical-align: middle;\n",
       "    }\n",
       "\n",
       "    .dataframe tbody tr th {\n",
       "        vertical-align: top;\n",
       "    }\n",
       "\n",
       "    .dataframe thead th {\n",
       "        text-align: right;\n",
       "    }\n",
       "</style>\n",
       "<table border=\"1\" class=\"dataframe\">\n",
       "  <thead>\n",
       "    <tr style=\"text-align: right;\">\n",
       "      <th></th>\n",
       "      <th>itp_id</th>\n",
       "      <th>route_id</th>\n",
       "      <th>route_name</th>\n",
       "      <th>agency</th>\n",
       "      <th>route_length</th>\n",
       "    </tr>\n",
       "  </thead>\n",
       "  <tbody>\n",
       "    <tr>\n",
       "      <th>0</th>\n",
       "      <td>331</td>\n",
       "      <td>12133</td>\n",
       "      <td>South Shore Service &amp; Lake Express Daily</td>\n",
       "      <td>Tahoe Transportation</td>\n",
       "      <td>136537.22</td>\n",
       "    </tr>\n",
       "    <tr>\n",
       "      <th>1</th>\n",
       "      <td>331</td>\n",
       "      <td>12134</td>\n",
       "      <td>South Shore Daily</td>\n",
       "      <td>Tahoe Transportation</td>\n",
       "      <td>41787.65</td>\n",
       "    </tr>\n",
       "    <tr>\n",
       "      <th>2</th>\n",
       "      <td>331</td>\n",
       "      <td>12135</td>\n",
       "      <td>Valley Express Daily</td>\n",
       "      <td>Tahoe Transportation</td>\n",
       "      <td>105348.23</td>\n",
       "    </tr>\n",
       "    <tr>\n",
       "      <th>3</th>\n",
       "      <td>331</td>\n",
       "      <td>12137</td>\n",
       "      <td>Neighborhood Connection</td>\n",
       "      <td>Tahoe Transportation</td>\n",
       "      <td>59893.58</td>\n",
       "    </tr>\n",
       "  </tbody>\n",
       "</table>\n",
       "</div>"
      ],
      "text/plain": [
       "   itp_id route_id                                route_name  \\\n",
       "0     331    12133  South Shore Service & Lake Express Daily   \n",
       "1     331    12134                         South Shore Daily   \n",
       "2     331    12135                      Valley Express Daily   \n",
       "3     331    12137                   Neighborhood Connection   \n",
       "\n",
       "                 agency  route_length  \n",
       "0  Tahoe Transportation     136537.22  \n",
       "1  Tahoe Transportation      41787.65  \n",
       "2  Tahoe Transportation     105348.23  \n",
       "3  Tahoe Transportation      59893.58  "
      ]
     },
     "execution_count": 29,
     "metadata": {},
     "output_type": "execute_result"
    }
   ],
   "source": [
    "single_agency.drop(columns=[\"geometry\", \"route_type\"])"
   ]
  },
  {
   "cell_type": "code",
   "execution_count": 30,
   "id": "39a0ee39-0b45-4bc6-8f6d-1b7fe2eb304e",
   "metadata": {},
   "outputs": [
    {
     "data": {
      "text/html": [
       "<div style=\"width:100%;\"><div style=\"position:relative;width:100%;height:0;padding-bottom:60%;\"><span style=\"color:#565656\">Make this Notebook Trusted to load map: File -> Trust Notebook</span><iframe src=\"about:blank\" style=\"position:absolute;width:100%;height:100%;left:0;top:0;border:none !important;\" data-html=%3C%21DOCTYPE%20html%3E%0A%3Chead%3E%20%20%20%20%0A%20%20%20%20%3Cmeta%20http-equiv%3D%22content-type%22%20content%3D%22text/html%3B%20charset%3DUTF-8%22%20/%3E%0A%20%20%20%20%0A%20%20%20%20%20%20%20%20%3Cscript%3E%0A%20%20%20%20%20%20%20%20%20%20%20%20L_NO_TOUCH%20%3D%20false%3B%0A%20%20%20%20%20%20%20%20%20%20%20%20L_DISABLE_3D%20%3D%20false%3B%0A%20%20%20%20%20%20%20%20%3C/script%3E%0A%20%20%20%20%0A%20%20%20%20%3Cstyle%3Ehtml%2C%20body%20%7Bwidth%3A%20100%25%3Bheight%3A%20100%25%3Bmargin%3A%200%3Bpadding%3A%200%3B%7D%3C/style%3E%0A%20%20%20%20%3Cstyle%3E%23map%20%7Bposition%3Aabsolute%3Btop%3A0%3Bbottom%3A0%3Bright%3A0%3Bleft%3A0%3B%7D%3C/style%3E%0A%20%20%20%20%3Cscript%20src%3D%22https%3A//cdn.jsdelivr.net/npm/leaflet%401.6.0/dist/leaflet.js%22%3E%3C/script%3E%0A%20%20%20%20%3Cscript%20src%3D%22https%3A//code.jquery.com/jquery-1.12.4.min.js%22%3E%3C/script%3E%0A%20%20%20%20%3Cscript%20src%3D%22https%3A//maxcdn.bootstrapcdn.com/bootstrap/3.2.0/js/bootstrap.min.js%22%3E%3C/script%3E%0A%20%20%20%20%3Cscript%20src%3D%22https%3A//cdnjs.cloudflare.com/ajax/libs/Leaflet.awesome-markers/2.0.2/leaflet.awesome-markers.js%22%3E%3C/script%3E%0A%20%20%20%20%3Clink%20rel%3D%22stylesheet%22%20href%3D%22https%3A//cdn.jsdelivr.net/npm/leaflet%401.6.0/dist/leaflet.css%22/%3E%0A%20%20%20%20%3Clink%20rel%3D%22stylesheet%22%20href%3D%22https%3A//maxcdn.bootstrapcdn.com/bootstrap/3.2.0/css/bootstrap.min.css%22/%3E%0A%20%20%20%20%3Clink%20rel%3D%22stylesheet%22%20href%3D%22https%3A//maxcdn.bootstrapcdn.com/bootstrap/3.2.0/css/bootstrap-theme.min.css%22/%3E%0A%20%20%20%20%3Clink%20rel%3D%22stylesheet%22%20href%3D%22https%3A//maxcdn.bootstrapcdn.com/font-awesome/4.6.3/css/font-awesome.min.css%22/%3E%0A%20%20%20%20%3Clink%20rel%3D%22stylesheet%22%20href%3D%22https%3A//cdnjs.cloudflare.com/ajax/libs/Leaflet.awesome-markers/2.0.2/leaflet.awesome-markers.css%22/%3E%0A%20%20%20%20%3Clink%20rel%3D%22stylesheet%22%20href%3D%22https%3A//cdn.jsdelivr.net/gh/python-visualization/folium/folium/templates/leaflet.awesome.rotate.min.css%22/%3E%0A%20%20%20%20%0A%20%20%20%20%20%20%20%20%20%20%20%20%3Cmeta%20name%3D%22viewport%22%20content%3D%22width%3Ddevice-width%2C%0A%20%20%20%20%20%20%20%20%20%20%20%20%20%20%20%20initial-scale%3D1.0%2C%20maximum-scale%3D1.0%2C%20user-scalable%3Dno%22%20/%3E%0A%20%20%20%20%20%20%20%20%20%20%20%20%3Cstyle%3E%0A%20%20%20%20%20%20%20%20%20%20%20%20%20%20%20%20%23map_93a0693f757746f493639bcfa2deedc3%20%7B%0A%20%20%20%20%20%20%20%20%20%20%20%20%20%20%20%20%20%20%20%20position%3A%20relative%3B%0A%20%20%20%20%20%20%20%20%20%20%20%20%20%20%20%20%20%20%20%20width%3A%20800.0px%3B%0A%20%20%20%20%20%20%20%20%20%20%20%20%20%20%20%20%20%20%20%20height%3A%20400.0px%3B%0A%20%20%20%20%20%20%20%20%20%20%20%20%20%20%20%20%20%20%20%20left%3A%200.0%25%3B%0A%20%20%20%20%20%20%20%20%20%20%20%20%20%20%20%20%20%20%20%20top%3A%200.0%25%3B%0A%20%20%20%20%20%20%20%20%20%20%20%20%20%20%20%20%7D%0A%20%20%20%20%20%20%20%20%20%20%20%20%3C/style%3E%0A%20%20%20%20%20%20%20%20%0A%20%20%20%20%0A%20%20%20%20%20%20%20%20%20%20%20%20%20%20%20%20%20%20%20%20%3Cstyle%3E%0A%20%20%20%20%20%20%20%20%20%20%20%20%20%20%20%20%20%20%20%20%20%20%20%20.foliumtooltip%20%7B%0A%20%20%20%20%20%20%20%20%20%20%20%20%20%20%20%20%20%20%20%20%20%20%20%20%20%20%20%20%0A%20%20%20%20%20%20%20%20%20%20%20%20%20%20%20%20%20%20%20%20%20%20%20%20%7D%0A%20%20%20%20%20%20%20%20%20%20%20%20%20%20%20%20%20%20%20%20%20%20%20.foliumtooltip%20table%7B%0A%20%20%20%20%20%20%20%20%20%20%20%20%20%20%20%20%20%20%20%20%20%20%20%20%20%20%20%20margin%3A%20auto%3B%0A%20%20%20%20%20%20%20%20%20%20%20%20%20%20%20%20%20%20%20%20%20%20%20%20%7D%0A%20%20%20%20%20%20%20%20%20%20%20%20%20%20%20%20%20%20%20%20%20%20%20%20.foliumtooltip%20tr%7B%0A%20%20%20%20%20%20%20%20%20%20%20%20%20%20%20%20%20%20%20%20%20%20%20%20%20%20%20%20text-align%3A%20left%3B%0A%20%20%20%20%20%20%20%20%20%20%20%20%20%20%20%20%20%20%20%20%20%20%20%20%7D%0A%20%20%20%20%20%20%20%20%20%20%20%20%20%20%20%20%20%20%20%20%20%20%20%20.foliumtooltip%20th%7B%0A%20%20%20%20%20%20%20%20%20%20%20%20%20%20%20%20%20%20%20%20%20%20%20%20%20%20%20%20padding%3A%202px%3B%20padding-right%3A%208px%3B%0A%20%20%20%20%20%20%20%20%20%20%20%20%20%20%20%20%20%20%20%20%20%20%20%20%7D%0A%20%20%20%20%20%20%20%20%20%20%20%20%20%20%20%20%20%20%20%20%3C/style%3E%0A%20%20%20%20%20%20%20%20%20%20%20%20%0A%20%20%20%20%0A%20%20%20%20%3Cscript%20src%3D%22https%3A//code.jquery.com/ui/1.12.1/jquery-ui.js%22%3E%3C/script%3E%0A%20%20%20%20%3Cscript%3E%24%28%20function%28%29%20%7B%0A%20%20%20%20%20%20%20%20%24%28%20%22.maplegend%22%20%29.draggable%28%7B%0A%20%20%20%20%20%20%20%20%20%20%20%20start%3A%20function%20%28event%2C%20ui%29%20%7B%0A%20%20%20%20%20%20%20%20%20%20%20%20%20%20%20%20%24%28this%29.css%28%7B%0A%20%20%20%20%20%20%20%20%20%20%20%20%20%20%20%20%20%20%20%20right%3A%20%22auto%22%2C%0A%20%20%20%20%20%20%20%20%20%20%20%20%20%20%20%20%20%20%20%20top%3A%20%22auto%22%2C%0A%20%20%20%20%20%20%20%20%20%20%20%20%20%20%20%20%20%20%20%20bottom%3A%20%22auto%22%0A%20%20%20%20%20%20%20%20%20%20%20%20%20%20%20%20%7D%29%3B%0A%20%20%20%20%20%20%20%20%20%20%20%20%7D%0A%20%20%20%20%20%20%20%20%7D%29%3B%0A%20%20%20%20%7D%29%3B%0A%20%20%20%20%3C/script%3E%0A%20%20%20%20%3Cstyle%20type%3D%27text/css%27%3E%0A%20%20%20%20%20%20.maplegend%20%7B%0A%20%20%20%20%20%20%20%20position%3A%20absolute%3B%0A%20%20%20%20%20%20%20%20z-index%3A9999%3B%0A%20%20%20%20%20%20%20%20background-color%3A%20rgba%28255%2C%20255%2C%20255%2C%20.8%29%3B%0A%20%20%20%20%20%20%20%20border-radius%3A%205px%3B%0A%20%20%20%20%20%20%20%20box-shadow%3A%200%200%2015px%20rgba%280%2C0%2C0%2C0.2%29%3B%0A%20%20%20%20%20%20%20%20padding%3A%2010px%3B%0A%20%20%20%20%20%20%20%20font%3A%2012px/14px%20Arial%2C%20Helvetica%2C%20sans-serif%3B%0A%20%20%20%20%20%20%20%20right%3A%2010px%3B%0A%20%20%20%20%20%20%20%20bottom%3A%2020px%3B%0A%20%20%20%20%20%20%7D%0A%20%20%20%20%20%20.maplegend%20.legend-title%20%7B%0A%20%20%20%20%20%20%20%20text-align%3A%20left%3B%0A%20%20%20%20%20%20%20%20margin-bottom%3A%205px%3B%0A%20%20%20%20%20%20%20%20font-weight%3A%20bold%3B%0A%20%20%20%20%20%20%20%20%7D%0A%20%20%20%20%20%20.maplegend%20.legend-scale%20ul%20%7B%0A%20%20%20%20%20%20%20%20margin%3A%200%3B%0A%20%20%20%20%20%20%20%20margin-bottom%3A%200px%3B%0A%20%20%20%20%20%20%20%20padding%3A%200%3B%0A%20%20%20%20%20%20%20%20float%3A%20left%3B%0A%20%20%20%20%20%20%20%20list-style%3A%20none%3B%0A%20%20%20%20%20%20%20%20%7D%0A%20%20%20%20%20%20.maplegend%20.legend-scale%20ul%20li%20%7B%0A%20%20%20%20%20%20%20%20list-style%3A%20none%3B%0A%20%20%20%20%20%20%20%20margin-left%3A%200%3B%0A%20%20%20%20%20%20%20%20line-height%3A%2016px%3B%0A%20%20%20%20%20%20%20%20margin-bottom%3A%202px%3B%0A%20%20%20%20%20%20%20%20%7D%0A%20%20%20%20%20%20.maplegend%20ul.legend-labels%20li%20span%20%7B%0A%20%20%20%20%20%20%20%20display%3A%20block%3B%0A%20%20%20%20%20%20%20%20float%3A%20left%3B%0A%20%20%20%20%20%20%20%20height%3A%2014px%3B%0A%20%20%20%20%20%20%20%20width%3A%2014px%3B%0A%20%20%20%20%20%20%20%20margin-right%3A%205px%3B%0A%20%20%20%20%20%20%20%20margin-left%3A%200%3B%0A%20%20%20%20%20%20%20%20border%3A%200px%20solid%20%23ccc%3B%0A%20%20%20%20%20%20%20%20%7D%0A%20%20%20%20%20%20.maplegend%20.legend-source%20%7B%0A%20%20%20%20%20%20%20%20color%3A%20%23777%3B%0A%20%20%20%20%20%20%20%20clear%3A%20both%3B%0A%20%20%20%20%20%20%20%20%7D%0A%20%20%20%20%20%20.maplegend%20a%20%7B%0A%20%20%20%20%20%20%20%20color%3A%20%23777%3B%0A%20%20%20%20%20%20%20%20%7D%0A%20%20%20%20%3C/style%3E%0A%20%20%20%20%0A%3C/head%3E%0A%3Cbody%3E%20%20%20%20%0A%20%20%20%20%0A%20%20%20%20%3Cdiv%20id%3D%27maplegend%20route_name%27%20class%3D%27maplegend%27%3E%0A%20%20%20%20%20%20%20%20%3Cdiv%20class%3D%27legend-title%27%3Eroute_name%3C/div%3E%0A%20%20%20%20%20%20%20%20%3Cdiv%20class%3D%27legend-scale%27%3E%0A%20%20%20%20%20%20%20%20%20%20%20%20%3Cul%20class%3D%27legend-labels%27%3E%0A%20%20%20%20%20%20%20%20%20%20%20%20%20%20%20%20%3Cli%3E%3Cspan%20style%3D%27background%3A%231f77b4%27%3E%3C/span%3ENeighborhood%20Connection%3C/li%3E%0A%20%20%20%20%20%20%20%20%20%20%20%20%20%20%20%20%3Cli%3E%3Cspan%20style%3D%27background%3A%23d62728%27%3E%3C/span%3ESouth%20Shore%20Daily%3C/li%3E%0A%20%20%20%20%20%20%20%20%20%20%20%20%20%20%20%20%3Cli%3E%3Cspan%20style%3D%27background%3A%23f7b6d2%27%3E%3C/span%3ESouth%20Shore%20Service%20%26%20Lake%20Express%20Daily%3C/li%3E%0A%20%20%20%20%20%20%20%20%20%20%20%20%20%20%20%20%3Cli%3E%3Cspan%20style%3D%27background%3A%239edae5%27%3E%3C/span%3EValley%20Express%20Daily%3C/li%3E%0A%20%20%20%20%20%20%20%20%20%20%20%20%3C/ul%3E%0A%20%20%20%20%20%20%20%20%3C/div%3E%0A%20%20%20%20%3C/div%3E%0A%20%20%20%20%0A%20%20%20%20%0A%20%20%20%20%20%20%20%20%20%20%20%20%3Cdiv%20class%3D%22folium-map%22%20id%3D%22map_93a0693f757746f493639bcfa2deedc3%22%20%3E%3C/div%3E%0A%20%20%20%20%20%20%20%20%0A%3C/body%3E%0A%3Cscript%3E%20%20%20%20%0A%20%20%20%20%0A%20%20%20%20%20%20%20%20%20%20%20%20var%20map_93a0693f757746f493639bcfa2deedc3%20%3D%20L.map%28%0A%20%20%20%20%20%20%20%20%20%20%20%20%20%20%20%20%22map_93a0693f757746f493639bcfa2deedc3%22%2C%0A%20%20%20%20%20%20%20%20%20%20%20%20%20%20%20%20%7B%0A%20%20%20%20%20%20%20%20%20%20%20%20%20%20%20%20%20%20%20%20center%3A%20%5B38.93823391528344%2C%20-119.87512299999999%5D%2C%0A%20%20%20%20%20%20%20%20%20%20%20%20%20%20%20%20%20%20%20%20crs%3A%20L.CRS.EPSG3857%2C%0A%20%20%20%20%20%20%20%20%20%20%20%20%20%20%20%20%20%20%20%20zoom%3A%2010%2C%0A%20%20%20%20%20%20%20%20%20%20%20%20%20%20%20%20%20%20%20%20zoomControl%3A%20true%2C%0A%20%20%20%20%20%20%20%20%20%20%20%20%20%20%20%20%20%20%20%20preferCanvas%3A%20false%2C%0A%20%20%20%20%20%20%20%20%20%20%20%20%20%20%20%20%7D%0A%20%20%20%20%20%20%20%20%20%20%20%20%29%3B%0A%20%20%20%20%20%20%20%20%20%20%20%20L.control.scale%28%29.addTo%28map_93a0693f757746f493639bcfa2deedc3%29%3B%0A%0A%20%20%20%20%20%20%20%20%20%20%20%20%0A%0A%20%20%20%20%20%20%20%20%0A%20%20%20%20%0A%20%20%20%20%20%20%20%20%20%20%20%20var%20tile_layer_6e3bd6b1708e4e5e81f70dd7217f0f7a%20%3D%20L.tileLayer%28%0A%20%20%20%20%20%20%20%20%20%20%20%20%20%20%20%20%22https%3A//%7Bs%7D.tile.openstreetmap.org/%7Bz%7D/%7Bx%7D/%7By%7D.png%22%2C%0A%20%20%20%20%20%20%20%20%20%20%20%20%20%20%20%20%7B%22attribution%22%3A%20%22Data%20by%20%5Cu0026copy%3B%20%5Cu003ca%20href%3D%5C%22http%3A//openstreetmap.org%5C%22%5Cu003eOpenStreetMap%5Cu003c/a%5Cu003e%2C%20under%20%5Cu003ca%20href%3D%5C%22http%3A//www.openstreetmap.org/copyright%5C%22%5Cu003eODbL%5Cu003c/a%5Cu003e.%22%2C%20%22detectRetina%22%3A%20false%2C%20%22maxNativeZoom%22%3A%2018%2C%20%22maxZoom%22%3A%2018%2C%20%22minZoom%22%3A%200%2C%20%22noWrap%22%3A%20false%2C%20%22opacity%22%3A%201%2C%20%22subdomains%22%3A%20%22abc%22%2C%20%22tms%22%3A%20false%7D%0A%20%20%20%20%20%20%20%20%20%20%20%20%29.addTo%28map_93a0693f757746f493639bcfa2deedc3%29%3B%0A%20%20%20%20%20%20%20%20%0A%20%20%20%20%0A%20%20%20%20%20%20%20%20%20%20%20%20map_93a0693f757746f493639bcfa2deedc3.fitBounds%28%0A%20%20%20%20%20%20%20%20%20%20%20%20%20%20%20%20%5B%5B38.894621830566905%2C%20-120.01027499999998%5D%2C%20%5B38.981845999999976%2C%20-119.739971%5D%5D%2C%0A%20%20%20%20%20%20%20%20%20%20%20%20%20%20%20%20%7B%7D%0A%20%20%20%20%20%20%20%20%20%20%20%20%29%3B%0A%20%20%20%20%20%20%20%20%0A%20%20%20%20%0A%20%20%20%20%20%20%20%20function%20geo_json_969122f46b3245a5813b7b99a3f18efa_styler%28feature%29%20%7B%0A%20%20%20%20%20%20%20%20%20%20%20%20switch%28feature.id%29%20%7B%0A%20%20%20%20%20%20%20%20%20%20%20%20%20%20%20%20case%20%221%22%3A%20%0A%20%20%20%20%20%20%20%20%20%20%20%20%20%20%20%20%20%20%20%20return%20%7B%22color%22%3A%20%22%23d62728%22%2C%20%22fillColor%22%3A%20%22%23d62728%22%2C%20%22fillOpacity%22%3A%200.5%2C%20%22weight%22%3A%205%7D%3B%0A%20%20%20%20%20%20%20%20%20%20%20%20%20%20%20%20case%20%222%22%3A%20%0A%20%20%20%20%20%20%20%20%20%20%20%20%20%20%20%20%20%20%20%20return%20%7B%22color%22%3A%20%22%239edae5%22%2C%20%22fillColor%22%3A%20%22%239edae5%22%2C%20%22fillOpacity%22%3A%200.5%2C%20%22weight%22%3A%205%7D%3B%0A%20%20%20%20%20%20%20%20%20%20%20%20%20%20%20%20case%20%223%22%3A%20%0A%20%20%20%20%20%20%20%20%20%20%20%20%20%20%20%20%20%20%20%20return%20%7B%22color%22%3A%20%22%231f77b4%22%2C%20%22fillColor%22%3A%20%22%231f77b4%22%2C%20%22fillOpacity%22%3A%200.5%2C%20%22weight%22%3A%205%7D%3B%0A%20%20%20%20%20%20%20%20%20%20%20%20%20%20%20%20default%3A%0A%20%20%20%20%20%20%20%20%20%20%20%20%20%20%20%20%20%20%20%20return%20%7B%22color%22%3A%20%22%23f7b6d2%22%2C%20%22fillColor%22%3A%20%22%23f7b6d2%22%2C%20%22fillOpacity%22%3A%200.5%2C%20%22weight%22%3A%205%7D%3B%0A%20%20%20%20%20%20%20%20%20%20%20%20%7D%0A%20%20%20%20%20%20%20%20%7D%0A%20%20%20%20%20%20%20%20function%20geo_json_969122f46b3245a5813b7b99a3f18efa_highlighter%28feature%29%20%7B%0A%20%20%20%20%20%20%20%20%20%20%20%20switch%28feature.id%29%20%7B%0A%20%20%20%20%20%20%20%20%20%20%20%20%20%20%20%20default%3A%0A%20%20%20%20%20%20%20%20%20%20%20%20%20%20%20%20%20%20%20%20return%20%7B%22fillOpacity%22%3A%200.75%7D%3B%0A%20%20%20%20%20%20%20%20%20%20%20%20%7D%0A%20%20%20%20%20%20%20%20%7D%0A%20%20%20%20%20%20%20%20function%20geo_json_969122f46b3245a5813b7b99a3f18efa_pointToLayer%28feature%2C%20latlng%29%20%7B%0A%20%20%20%20%20%20%20%20%20%20%20%20var%20opts%20%3D%20%7B%22bubblingMouseEvents%22%3A%20true%2C%20%22color%22%3A%20%22%233388ff%22%2C%20%22dashArray%22%3A%20null%2C%20%22dashOffset%22%3A%20null%2C%20%22fill%22%3A%20true%2C%20%22fillColor%22%3A%20%22%233388ff%22%2C%20%22fillOpacity%22%3A%200.2%2C%20%22fillRule%22%3A%20%22evenodd%22%2C%20%22lineCap%22%3A%20%22round%22%2C%20%22lineJoin%22%3A%20%22round%22%2C%20%22opacity%22%3A%201.0%2C%20%22radius%22%3A%202%2C%20%22stroke%22%3A%20true%2C%20%22weight%22%3A%203%7D%3B%0A%20%20%20%20%20%20%20%20%20%20%20%20%0A%20%20%20%20%20%20%20%20%20%20%20%20let%20style%20%3D%20geo_json_969122f46b3245a5813b7b99a3f18efa_styler%28feature%29%0A%20%20%20%20%20%20%20%20%20%20%20%20Object.assign%28opts%2C%20style%29%0A%20%20%20%20%20%20%20%20%20%20%20%20%0A%20%20%20%20%20%20%20%20%20%20%20%20return%20new%20L.CircleMarker%28latlng%2C%20opts%29%0A%20%20%20%20%20%20%20%20%7D%0A%0A%20%20%20%20%20%20%20%20function%20geo_json_969122f46b3245a5813b7b99a3f18efa_onEachFeature%28feature%2C%20layer%29%20%7B%0A%20%20%20%20%20%20%20%20%20%20%20%20layer.on%28%7B%0A%20%20%20%20%20%20%20%20%20%20%20%20%20%20%20%20mouseout%3A%20function%28e%29%20%7B%0A%20%20%20%20%20%20%20%20%20%20%20%20%20%20%20%20%20%20%20%20if%28typeof%20e.target.setStyle%20%3D%3D%3D%20%22function%22%29%7B%0A%20%20%20%20%20%20%20%20%20%20%20%20%20%20%20%20%20%20%20%20%20%20%20%20geo_json_969122f46b3245a5813b7b99a3f18efa.resetStyle%28e.target%29%3B%0A%20%20%20%20%20%20%20%20%20%20%20%20%20%20%20%20%20%20%20%20%7D%0A%20%20%20%20%20%20%20%20%20%20%20%20%20%20%20%20%7D%2C%0A%20%20%20%20%20%20%20%20%20%20%20%20%20%20%20%20mouseover%3A%20function%28e%29%20%7B%0A%20%20%20%20%20%20%20%20%20%20%20%20%20%20%20%20%20%20%20%20if%28typeof%20e.target.setStyle%20%3D%3D%3D%20%22function%22%29%7B%0A%20%20%20%20%20%20%20%20%20%20%20%20%20%20%20%20%20%20%20%20%20%20%20%20const%20highlightStyle%20%3D%20geo_json_969122f46b3245a5813b7b99a3f18efa_highlighter%28e.target.feature%29%0A%20%20%20%20%20%20%20%20%20%20%20%20%20%20%20%20%20%20%20%20%20%20%20%20e.target.setStyle%28highlightStyle%29%3B%0A%20%20%20%20%20%20%20%20%20%20%20%20%20%20%20%20%20%20%20%20%7D%0A%20%20%20%20%20%20%20%20%20%20%20%20%20%20%20%20%7D%2C%0A%20%20%20%20%20%20%20%20%20%20%20%20%7D%29%3B%0A%20%20%20%20%20%20%20%20%7D%3B%0A%20%20%20%20%20%20%20%20var%20geo_json_969122f46b3245a5813b7b99a3f18efa%20%3D%20L.geoJson%28null%2C%20%7B%0A%20%20%20%20%20%20%20%20%20%20%20%20%20%20%20%20onEachFeature%3A%20geo_json_969122f46b3245a5813b7b99a3f18efa_onEachFeature%2C%0A%20%20%20%20%20%20%20%20%20%20%20%20%0A%20%20%20%20%20%20%20%20%20%20%20%20%20%20%20%20style%3A%20geo_json_969122f46b3245a5813b7b99a3f18efa_styler%2C%0A%20%20%20%20%20%20%20%20%20%20%20%20%20%20%20%20pointToLayer%3A%20geo_json_969122f46b3245a5813b7b99a3f18efa_pointToLayer%0A%20%20%20%20%20%20%20%20%7D%29%3B%0A%0A%20%20%20%20%20%20%20%20function%20geo_json_969122f46b3245a5813b7b99a3f18efa_add%20%28data%29%20%7B%0A%20%20%20%20%20%20%20%20%20%20%20%20geo_json_969122f46b3245a5813b7b99a3f18efa%0A%20%20%20%20%20%20%20%20%20%20%20%20%20%20%20%20.addData%28data%29%0A%20%20%20%20%20%20%20%20%20%20%20%20%20%20%20%20.addTo%28map_93a0693f757746f493639bcfa2deedc3%29%3B%0A%20%20%20%20%20%20%20%20%7D%0A%20%20%20%20%20%20%20%20%20%20%20%20geo_json_969122f46b3245a5813b7b99a3f18efa_add%28%7B%22bbox%22%3A%20%5B-120.01027499999998%2C%2038.894621830566905%2C%20-119.739971%2C%2038.981845999999976%5D%2C%20%22features%22%3A%20%5B%7B%22bbox%22%3A%20%5B-119.942694733559%2C%2038.894621830566905%2C%20-119.739971%2C%2038.981845999999976%5D%2C%20%22geometry%22%3A%20%7B%22coordinates%22%3A%20%5B%5B-119.942151%2C%2038.95773699999999%5D%2C%20%5B-119.942146311592%2C%2038.957737170088656%5D%2C%20%5B-119.941937707465%2C%2038.95764164762225%5D%2C%20%5B-119.941884792407%2C%2038.95771815113165%5D%2C%20%5B-119.941823646124%2C%2038.95780684633002%5D%2C%20%5B-119.941776218554%2C%2038.957890055139316%5D%2C%20%5B-119.941963832199%2C%2038.95797373175229%5D%2C%20%5B-119.942141313322%2C%2038.95805450502058%5D%2C%20%5B-119.94233043826699%2C%2038.958133374350815%5D%2C%20%5B-119.942561857983%2C%2038.958227494155835%5D%2C%20%5B-119.942694733559%2C%2038.958281137614286%5D%2C%20%5B-119.94262264105899%2C%2038.95839112424662%5D%2C%20%5B-119.94257457887198%2C%2038.95846340907254%5D%2C%20%5B-119.942529211684%2C%2038.958533820677744%5D%2C%20%5B-119.94247376532701%2C%2038.95861646912918%5D%2C%20%5B-119.94242226052802%2C%2038.95869531500672%5D%2C%20%5B-119.94236978094001%2C%2038.958772360283994%5D%2C%20%5B-119.94231901219798%2C%2038.95884875246332%5D%2C%20%5B-119.94226592112%2C%2038.9589307308712%5D%2C%20%5B-119.942203313447%2C%2038.959025551237104%5D%2C%20%5B-119.94214411807802%2C%2038.95911295913904%5D%2C%20%5B-119.94209469903201%2C%2038.95918821510011%5D%2C%20%5B-119.94204603639999%2C%2038.95926009318118%5D%2C%20%5B-119.941991424107%2C%2038.95934019518906%5D%2C%20%5B-119.94193517254101%2C%2038.95942450806362%5D%2C%20%5B-119.94188685705299%2C%2038.95949662654239%5D%2C%20%5B-119.941832804214%2C%2038.959578525554285%5D%2C%20%5B-119.941786778395%2C%2038.959645490416165%5D%2C%20%5B-119.94173437822401%2C%2038.959723377258484%5D%2C%20%5B-119.941684720885%2C%2038.9597970134026%5D%2C%20%5B-119.941633915084%2C%2038.95987299020409%5D%2C%20%5B-119.941582714937%2C%2038.95995035938177%5D%2C%20%5B-119.941530485014%2C%2038.96002675516282%5D%2C%20%5B-119.941476530747%2C%2038.960107449066626%5D%2C%20%5B-119.941421395836%2C%2038.960192054604114%5D%2C%20%5B-119.941364232715%2C%2038.96027579983969%5D%2C%20%5B-119.941325521509%2C%2038.9603391780229%5D%2C%20%5B-119.94127262882098%2C%2038.960410986872006%5D%2C%20%5B-119.941229678441%2C%2038.96047349135332%5D%2C%20%5B-119.94117287241401%2C%2038.96055222159421%5D%2C%20%5B-119.941108663091%2C%2038.9606400824988%5D%2C%20%5B-119.94105314133101%2C%2038.9607175559686%5D%2C%20%5B-119.941000515296%2C%2038.96078858295019%5D%2C%20%5B-119.94095780863701%2C%2038.96085448748798%5D%2C%20%5B-119.94090725217102%2C%2038.96093697538888%5D%2C%20%5B-119.940860351017%2C%2038.96101373927511%5D%2C%20%5B-119.940820041783%2C%2038.961079646695936%5D%2C%20%5B-119.940769456883%2C%2038.96115497119322%5D%2C%20%5B-119.940709933446%2C%2038.96124298427969%5D%2C%20%5B-119.940661131585%2C%2038.96131625685546%5D%2C%20%5B-119.94060562081201%2C%2038.96139669253241%5D%2C%20%5B-119.94054834836801%2C%2038.96148207548138%5D%2C%20%5B-119.9404946612%2C%2038.96156187775742%5D%2C%20%5B-119.94042937262302%2C%2038.96165898379274%5D%2C%20%5B-119.94037005075901%2C%2038.961742841001296%5D%2C%20%5B-119.94032007872599%2C%2038.96181965222703%5D%2C%20%5B-119.940262763964%2C%2038.9619033448774%5D%2C%20%5B-119.94021194706002%2C%2038.96197500029633%5D%2C%20%5B-119.940143022754%2C%2038.9620762876162%5D%2C%20%5B-119.940093624695%2C%2038.9621480014345%5D%2C%20%5B-119.94004037274101%2C%2038.96222611632842%5D%2C%20%5B-119.93998853202001%2C%2038.96230233012841%5D%2C%20%5B-119.939937294487%2C%2038.962378894473474%5D%2C%20%5B-119.939888288362%2C%2038.96245013705712%5D%2C%20%5B-119.939840586388%2C%2038.96252069831681%5D%2C%20%5B-119.93984131068501%2C%2038.96251945808004%5D%2C%20%5B-119.93921334274201%2C%2038.96344937703199%5D%2C%20%5B-119.939190196192%2C%2038.96348401241271%5D%2C%20%5B-119.93914271489301%2C%2038.963552569299075%5D%2C%20%5B-119.93906724256101%2C%2038.963666166277704%5D%2C%20%5B-119.938984580413%2C%2038.9637843666167%5D%2C%20%5B-119.93892268922201%2C%2038.963873173381195%5D%2C%20%5B-119.93881744924501%2C%2038.964027715743995%5D%2C%20%5B-119.938726742301%2C%2038.96415997880499%5D%2C%20%5B-119.93752037901%2C%2038.96593372573349%5D%2C%20%5B-119.937014402448%2C%2038.96667482323926%5D%2C%20%5B-119.936938835112%2C%2038.966784566064185%5D%2C%20%5B-119.93675363882701%2C%2038.96705474940206%5D%2C%20%5B-119.93669589578901%2C%2038.96714822498309%5D%2C%20%5B-119.93663169409902%2C%2038.9672517341224%5D%2C%20%5B-119.936573388308%2C%2038.967346528881095%5D%2C%20%5B-119.936184659166%2C%2038.96792566820797%5D%2C%20%5B-119.936152333425%2C%2038.96797318644781%5D%2C%20%5B-119.936101301187%2C%2038.9680480105946%5D%2C%20%5B-119.936021251208%2C%2038.96815974993467%5D%2C%20%5B-119.93595242996%2C%2038.96826125292543%5D%2C%20%5B-119.93587601569499%2C%2038.96837486876818%5D%2C%20%5B-119.935788998096%2C%2038.96850600539914%5D%2C%20%5B-119.935752955911%2C%2038.96856804587801%5D%2C%20%5B-119.93566453235098%2C%2038.96872813497944%5D%2C%20%5B-119.93556160256799%2C%2038.96871914174537%5D%2C%20%5B-119.935435897972%2C%2038.96870852521974%5D%2C%20%5B-119.935290609961%2C%2038.96869640389738%5D%2C%20%5B-119.93525666493902%2C%2038.968693666828614%5D%2C%20%5B-119.93509120616899%2C%2038.96870630950721%5D%2C%20%5B-119.93497681890001%2C%2038.96871504207932%5D%2C%20%5B-119.934851593267%2C%2038.9687248173455%5D%2C%20%5B-119.934850922715%2C%2038.9687780366934%5D%2C%20%5B-119.934849581606%2C%2038.968834122334215%5D%2C%20%5B-119.93484819182801%2C%2038.96889418013838%5D%2C%20%5B-119.93484731974101%2C%2038.96896247786838%5D%2C%20%5B-119.93484583353299%2C%2038.969022230746226%5D%2C%20%5B-119.934845257801%2C%2038.96907897175725%5D%2C%20%5B-119.93484360753699%2C%2038.96914905609829%5D%2C%20%5B-119.934842434067%2C%2038.96920629131353%5D%2C%20%5B-119.93484157759%2C%2038.9692508495702%5D%2C%20%5B-119.93484089675998%2C%2038.96931007794288%5D%2C%20%5B-119.934839555656%2C%2038.969347875301075%5D%2C%20%5B-119.93483991175599%2C%2038.96934703329696%5D%2C%20%5B-119.93483724562802%2C%2038.96936983483582%5D%2C%20%5B-119.934838134337%2C%2038.96940541904027%5D%2C%20%5B-119.934837431151%2C%2038.96945627362767%5D%2C%20%5B-119.934847651306%2C%2038.96951465928154%5D%2C%20%5B-119.934868856474%2C%2038.969649611035514%5D%2C%20%5B-119.93487402041602%2C%2038.96968183217105%5D%2C%20%5B-119.934883072871%2C%2038.96973175047748%5D%2C%20%5B-119.934886475743%2C%2038.96975298813029%5D%2C%20%5B-119.934879423367%2C%2038.96978177872998%5D%2C%20%5B-119.934872656093%2C%2038.9698096531362%5D%2C%20%5B-119.93486230269401%2C%2038.969850162342105%5D%2C%20%5B-119.93485173924302%2C%2038.96989424724377%5D%2C%20%5B-119.934834708817%2C%2038.96996153910347%5D%2C%20%5B-119.93482967967401%2C%2038.96998473865288%5D%2C%20%5B-119.934821800682%2C%2038.97001549758959%5D%2C%20%5B-119.934801475626%2C%2038.97004624373048%5D%2C%20%5B-119.93473395647402%2C%2038.97014555317539%5D%2C%20%5B-119.934758593016%2C%2038.97018634926166%5D%2C%20%5B-119.93480210691501%2C%2038.970257991107474%5D%2C%20%5B-119.93486269907301%2C%2038.97026723707521%5D%2C%20%5B-119.93492419422401%2C%2038.97027613597131%5D%2C%20%5B-119.93499376401698%2C%2038.97028643235108%5D%2C%20%5B-119.93503921400601%2C%2038.97029323032812%5D%2C%20%5B-119.935076094376%2C%2038.97029831334939%5D%2C%20%5B-119.935087418779%2C%2038.97024444510998%5D%2C%20%5B-119.935097588263%2C%2038.97019133066811%5D%2C%20%5B-119.9351198331%2C%2038.970105214797215%5D%2C%20%5B-119.93514109253101%2C%2038.97002927874608%5D%2C%20%5B-119.935154971478%2C%2038.96997899855833%5D%2C%20%5B-119.935213988478%2C%2038.96978267169718%5D%2C%20%5B-119.93526179531%2C%2038.96964162763441%5D%2C%20%5B-119.935269807194%2C%2038.96962010959516%5D%2C%20%5B-119.93526799999998%2C%2038.96962399999997%5D%2C%20%5B-119.935274%2C%2038.96960700000001%5D%2C%20%5B-119.93532000000002%2C%2038.969469000000004%5D%2C%20%5B-119.935382%2C%2038.96930399999997%5D%2C%20%5B-119.93544900000002%2C%2038.969156%5D%2C%20%5B-119.935514%2C%2038.96901299999999%5D%2C%20%5B-119.935575%2C%2038.96889900000005%5D%2C%20%5B-119.93566600000001%2C%2038.96872800000001%5D%2C%20%5B-119.935701%2C%2038.968663000000014%5D%2C%20%5B-119.935782%2C%2038.96851800000002%5D%2C%20%5B-119.935989%2C%2038.96820800000003%5D%2C%20%5B-119.93611100000001%2C%2038.968036999999974%5D%2C%20%5B-119.93638900000002%2C%2038.96762699999995%5D%2C%20%5B-119.936018%2C%2038.967697%5D%2C%20%5B-119.935917%2C%2038.967723%5D%2C%20%5B-119.935833%2C%2038.96774899999995%5D%2C%20%5B-119.93578300000001%2C%2038.967769999999994%5D%2C%20%5B-119.93575099999998%2C%2038.96778299999998%5D%2C%20%5B-119.935436%2C%2038.96792899999997%5D%2C%20%5B-119.935317%2C%2038.96798800000002%5D%2C%20%5B-119.935208%2C%2038.968035%5D%2C%20%5B-119.935123%2C%2038.968071000000016%5D%2C%20%5B-119.93503200000002%2C%2038.96810399999999%5D%2C%20%5B-119.934953%2C%2038.968130999999985%5D%2C%20%5B-119.93486200000001%2C%2038.96815999999997%5D%2C%20%5B-119.93474700000002%2C%2038.96819099999996%5D%2C%20%5B-119.934596%2C%2038.968234%5D%2C%20%5B-119.934388%2C%2038.96828500000001%5D%2C%20%5B-119.93424300000001%2C%2038.968318000000046%5D%2C%20%5B-119.9341%2C%2038.968341999999986%5D%2C%20%5B-119.93398%2C%2038.96836300000005%5D%2C%20%5B-119.93388599999999%2C%2038.96837500000001%5D%2C%20%5B-119.93380799999998%2C%2038.968381000000015%5D%2C%20%5B-119.93368%2C%2038.968389999999985%5D%2C%20%5B-119.93351600000001%2C%2038.96839600000006%5D%2C%20%5B-119.93331200000002%2C%2038.968396999999996%5D%2C%20%5B-119.932752%2C%2038.968392999999985%5D%2C%20%5B-119.931571%2C%2038.96837699999999%5D%2C%20%5B-119.93148400000001%2C%2038.968376%5D%2C%20%5B-119.931108%2C%2038.96837300000001%5D%2C%20%5B-119.93081699999999%2C%2038.968378%5D%2C%20%5B-119.930575%2C%2038.96838999999997%5D%2C%20%5B-119.930227%2C%2038.96839999999998%5D%2C%20%5B-119.92982300000001%2C%2038.96840800000007%5D%2C%20%5B-119.929654%2C%2038.96840899999997%5D%2C%20%5B-119.929531%2C%2038.96840800000007%5D%2C%20%5B-119.929474%2C%2038.96840699999998%5D%2C%20%5B-119.92933400000001%2C%2038.96840199999998%5D%2C%20%5B-119.92916299999999%2C%2038.96839099999998%5D%2C%20%5B-119.92902799999999%2C%2038.968379000000006%5D%2C%20%5B-119.92888400000001%2C%2038.96835699999993%5D%2C%20%5B-119.92875500000001%2C%2038.96833899999999%5D%2C%20%5B-119.92860399999999%2C%2038.96831300000003%5D%2C%20%5B-119.92844200000002%2C%2038.96828099999998%5D%2C%20%5B-119.92812699999999%2C%2038.968212%5D%2C%20%5B-119.92705700000002%2C%2038.96795500000002%5D%2C%20%5B-119.92601300000001%2C%2038.967699%5D%2C%20%5B-119.92555900000002%2C%2038.967592%5D%2C%20%5B-119.925464%2C%2038.96757399999997%5D%2C%20%5B-119.92534000000002%2C%2038.96755699999998%5D%2C%20%5B-119.9252%2C%2038.967544000000004%5D%2C%20%5B-119.92506800000001%2C%2038.96753700000001%5D%2C%20%5B-119.924917%2C%2038.967529999999975%5D%2C%20%5B-119.924782%2C%2038.967529999999975%5D%2C%20%5B-119.92462600000002%2C%2038.96753700000001%5D%2C%20%5B-119.924468%2C%2038.967549%5D%2C%20%5B-119.924121%2C%2038.967586%5D%2C%20%5B-119.923927%2C%2038.96760500000003%5D%2C%20%5B-119.92380000000001%2C%2038.96761000000001%5D%2C%20%5B-119.923663%2C%2038.96761100000001%5D%2C%20%5B-119.92354299999998%2C%2038.967608%5D%2C%20%5B-119.923417%2C%2038.967597000000005%5D%2C%20%5B-119.92327899999998%2C%2038.967575%5D%2C%20%5B-119.92313700000001%2C%2038.967541999999995%5D%2C%20%5B-119.922997%2C%2038.967504000000005%5D%2C%20%5B-119.922839%2C%2038.967449%5D%2C%20%5B-119.92241900000002%2C%2038.967257%5D%2C%20%5B-119.922344%2C%2038.967225000000035%5D%2C%20%5B-119.922105%2C%2038.96712099999997%5D%2C%20%5B-119.921994%2C%2038.967077999999994%5D%2C%20%5B-119.92187299999999%2C%2038.96703400000001%5D%2C%20%5B-119.921781%2C%2038.96700399999997%5D%2C%20%5B-119.92163200000002%2C%2038.966962000000045%5D%2C%20%5B-119.921499%2C%2038.96693299999997%5D%2C%20%5B-119.921327%2C%2038.966904000000014%5D%2C%20%5B-119.921218%2C%2038.966894%5D%2C%20%5B-119.92108600000002%2C%2038.96688999999994%5D%2C%20%5B-119.92094200000001%2C%2038.96689299999996%5D%2C%20%5B-119.920787%2C%2038.966901999999926%5D%2C%20%5B-119.919974%2C%2038.967051%5D%2C%20%5B-119.91968%2C%2038.96710799999998%5D%2C%20%5B-119.919197%2C%2038.96717000000005%5D%2C%20%5B-119.918796%2C%2038.96724799999998%5D%2C%20%5B-119.91858899999998%2C%2038.96728599999998%5D%2C%20%5B-119.918424%2C%2038.96731900000002%5D%2C%20%5B-119.91829900000002%2C%2038.96735299999998%5D%2C%20%5B-119.918191%2C%2038.967385000000064%5D%2C%20%5B-119.918094%2C%2038.96742900000003%5D%2C%20%5B-119.91802100000001%2C%2038.96747%5D%2C%20%5B-119.91792500000001%2C%2038.96753199999997%5D%2C%20%5B-119.917818%2C%2038.967615000000016%5D%2C%20%5B-119.917724%2C%2038.967693%5D%2C%20%5B-119.917658%2C%2038.96775600000002%5D%2C%20%5B-119.917601%2C%2038.96783200000001%5D%2C%20%5B-119.917544%2C%2038.96792099999996%5D%2C%20%5B-119.917505%2C%2038.968004000000015%5D%2C%20%5B-119.917478%2C%2038.96807699999998%5D%2C%20%5B-119.917461%2C%2038.96816399999999%5D%2C%20%5B-119.917449%2C%2038.968255000000006%5D%2C%20%5B-119.917445%2C%2038.96836099999998%5D%2C%20%5B-119.91742900000001%2C%2038.96877599999999%5D%2C%20%5B-119.91742300000001%2C%2038.96884399999997%5D%2C%20%5B-119.917401%2C%2038.968961999999976%5D%2C%20%5B-119.917367%2C%2038.96905600000002%5D%2C%20%5B-119.91730600000001%2C%2038.96920299999995%5D%2C%20%5B-119.917178%2C%2038.96954000000002%5D%2C%20%5B-119.91716599999998%2C%2038.96957300000002%5D%2C%20%5B-119.91714%2C%2038.96967099999999%5D%2C%20%5B-119.917124%2C%2038.96975200000003%5D%2C%20%5B-119.917113%2C%2038.969835999999965%5D%2C%20%5B-119.917104%2C%2038.96991300000002%5D%2C%20%5B-119.9171%2C%2038.97002200000003%5D%2C%20%5B-119.91707799999999%2C%2038.970285999999966%5D%2C%20%5B-119.91706599999999%2C%2038.970373999999985%5D%2C%20%5B-119.917046%2C%2038.97044200000003%5D%2C%20%5B-119.91701800000001%2C%2038.970514%5D%2C%20%5B-119.91697599999999%2C%2038.970582999999955%5D%2C%20%5B-119.916927%2C%2038.970639999999975%5D%2C%20%5B-119.916873%2C%2038.970684999999996%5D%2C%20%5B-119.916821%2C%2038.970716%5D%2C%20%5B-119.91676699999998%2C%2038.970737999999976%5D%2C%20%5B-119.91668800000001%2C%2038.97075300000002%5D%2C%20%5B-119.916611%2C%2038.970763%5D%2C%20%5B-119.916525%2C%2038.97076499999995%5D%2C%20%5B-119.91644%2C%2038.97075400000004%5D%2C%20%5B-119.91638700000001%2C%2038.97074300000003%5D%2C%20%5B-119.91634%2C%2038.97072999999999%5D%2C%20%5B-119.91627300000002%2C%2038.970701999999996%5D%2C%20%5B-119.91619500000002%2C%2038.97065900000002%5D%2C%20%5B-119.916005%2C%2038.97054300000002%5D%2C%20%5B-119.91593%2C%2038.970496999999945%5D%2C%20%5B-119.91587100000001%2C%2038.970463000000045%5D%2C%20%5B-119.91579300000001%2C%2038.970424000000015%5D%2C%20%5B-119.91571%2C%2038.97039099999996%5D%2C%20%5B-119.91563%2C%2038.970365999999984%5D%2C%20%5B-119.91553200000001%2C%2038.97034500000001%5D%2C%20%5B-119.91544700000001%2C%2038.970333000000046%5D%2C%20%5B-119.91533900000002%2C%2038.970328%5D%2C%20%5B-119.91524%2C%2038.97033399999999%5D%2C%20%5B-119.91514500000001%2C%2038.97034800000001%5D%2C%20%5B-119.91503699999998%2C%2038.97037699999999%5D%2C%20%5B-119.91492800000002%2C%2038.970413999999984%5D%2C%20%5B-119.914544%2C%2038.97057699999997%5D%2C%20%5B-119.914296%2C%2038.970689999999976%5D%2C%20%5B-119.91414800000001%2C%2038.97075300000002%5D%2C%20%5B-119.913971%2C%2038.97083000000002%5D%2C%20%5B-119.913815%2C%2038.97089699999996%5D%2C%20%5B-119.913688%2C%2038.970945999999984%5D%2C%20%5B-119.913515%2C%2038.97099699999999%5D%2C%20%5B-119.91334399999998%2C%2038.97104400000003%5D%2C%20%5B-119.91323%2C%2038.971068999999986%5D%2C%20%5B-119.91285600000002%2C%2038.97115700000001%5D%2C%20%5B-119.91255000000001%2C%2038.97122600000001%5D%2C%20%5B-119.91243899999999%2C%2038.971255999999975%5D%2C%20%5B-119.91232800000002%2C%2038.971289%5D%2C%20%5B-119.91220799999999%2C%2038.971334%5D%2C%20%5B-119.91210200000002%2C%2038.97138200000001%5D%2C%20%5B-119.91202%2C%2038.97142800000001%5D%2C%20%5B-119.911913%2C%2038.97149899999998%5D%2C%20%5B-119.91183000000001%2C%2038.97157499999999%5D%2C%20%5B-119.911756%2C%2038.971642999999986%5D%2C%20%5B-119.911702%2C%2038.97170899999999%5D%2C%20%5B-119.911633%2C%2038.971804999999975%5D%2C%20%5B-119.911579%2C%2038.97188800000003%5D%2C%20%5B-119.911299%2C%2038.97225999999998%5D%2C%20%5B-119.911237%2C%2038.972336999999996%5D%2C%20%5B-119.91118%2C%2038.97240000000004%5D%2C%20%5B-119.91112%2C%2038.972466%5D%2C%20%5B-119.911063%2C%2038.97251999999997%5D%2C%20%5B-119.910985%2C%2038.972576000000004%5D%2C%20%5B-119.910891%2C%2038.972641%5D%2C%20%5B-119.91079000000002%2C%2038.97271%5D%2C%20%5B-119.910672%2C%2038.972775999999996%5D%2C%20%5B-119.91058%2C%2038.972823999999996%5D%2C%20%5B-119.91049300000002%2C%2038.97285999999998%5D%2C%20%5B-119.910396%2C%2038.972890999999954%5D%2C%20%5B-119.91023799999999%2C%2038.97293800000002%5D%2C%20%5B-119.910096%2C%2038.972970000000004%5D%2C%20%5B-119.909962%2C%2038.972993999999986%5D%2C%20%5B-119.90979100000001%2C%2038.97301699999999%5D%2C%20%5B-119.90962500000002%2C%2038.97302999999995%5D%2C%20%5B-119.909498%2C%2038.973036000000036%5D%2C%20%5B-119.90937%2C%2038.973034000000055%5D%2C%20%5B-119.909215%2C%2038.973023999999995%5D%2C%20%5B-119.909047%2C%2038.97300599999999%5D%2C%20%5B-119.90892%2C%2038.97298500000001%5D%2C%20%5B-119.90880299999999%2C%2038.97295899999995%5D%2C%20%5B-119.908701%2C%2038.97293000000001%5D%2C%20%5B-119.908564%2C%2038.97288100000001%5D%2C%20%5B-119.90832900000001%2C%2038.97279200000001%5D%2C%20%5B-119.90823500000002%2C%2038.97275999999999%5D%2C%20%5B-119.908117%2C%2038.97272499999998%5D%2C%20%5B-119.907993%2C%2038.97269399999996%5D%2C%20%5B-119.90788199999999%2C%2038.97267399999999%5D%2C%20%5B-119.907761%2C%2038.97266000000001%5D%2C%20%5B-119.907646%2C%2038.972654000000006%5D%2C%20%5B-119.90753300000002%2C%2038.97265000000003%5D%2C%20%5B-119.907408%2C%2038.97264899999999%5D%2C%20%5B-119.90726000000001%2C%2038.97265899999997%5D%2C%20%5B-119.907124%2C%2038.972675000000024%5D%2C%20%5B-119.906742%2C%2038.97272499999998%5D%2C%20%5B-119.90659999999998%2C%2038.972742%5D%2C%20%5B-119.90645299999998%2C%2038.972761000000006%5D%2C%20%5B-119.90632999999998%2C%2038.97276999999997%5D%2C%20%5B-119.906202%2C%2038.97277800000001%5D%2C%20%5B-119.90607900000002%2C%2038.972780999999976%5D%2C%20%5B-119.905919%2C%2038.97278099999999%5D%2C%20%5B-119.905749%2C%2038.972775999999996%5D%2C%20%5B-119.905567%2C%2038.972769%5D%2C%20%5B-119.90533%2C%2038.97275900000002%5D%2C%20%5B-119.90522700000001%2C%2038.97275700000001%5D%2C%20%5B-119.90511%2C%2038.972761000000006%5D%2C%20%5B-119.905006%2C%2038.97277400000001%5D%2C%20%5B-119.904904%2C%2038.972789000000006%5D%2C%20%5B-119.904793%2C%2038.97281599999998%5D%2C%20%5B-119.90471%2C%2038.972839%5D%2C%20%5B-119.90460599999999%2C%2038.97287899999997%5D%2C%20%5B-119.904424%2C%2038.97296200000002%5D%2C%20%5B-119.90407100000002%2C%2038.97317900000001%5D%2C%20%5B-119.90387900000002%2C%2038.97328899999998%5D%2C%20%5B-119.90377099999999%2C%2038.973350999999965%5D%2C%20%5B-119.90368400000001%2C%2038.97339600000003%5D%2C%20%5B-119.90361500000002%2C%2038.973423999999945%5D%2C%20%5B-119.90356700000001%2C%2038.97344000000001%5D%2C%20%5B-119.90346599999998%2C%2038.973470999999975%5D%2C%20%5B-119.90335700000001%2C%2038.973493999999995%5D%2C%20%5B-119.90322800000001%2C%2038.97351499999997%5D%2C%20%5B-119.90311999999999%2C%2038.97353200000001%5D%2C%20%5B-119.90265499999998%2C%2038.97358200000002%5D%2C%20%5B-119.90229699999999%2C%2038.97362200000002%5D%2C%20%5B-119.902196%2C%2038.973634999999966%5D%2C%20%5B-119.90213%2C%2038.97365000000001%5D%2C%20%5B-119.902054%2C%2038.97367799999996%5D%2C%20%5B-119.901968%2C%2038.973725000000016%5D%2C%20%5B-119.90189500000001%2C%2038.97377199999996%5D%2C%20%5B-119.90184300000001%2C%2038.97381599999999%5D%2C%20%5B-119.901794%2C%2038.97386300000003%5D%2C%20%5B-119.90175600000002%2C%2038.97391300000001%5D%2C%20%5B-119.901726%2C%2038.97397100000002%5D%2C%20%5B-119.901707%2C%2038.97402999999998%5D%2C%20%5B-119.90169699999998%2C%2038.97408399999996%5D%2C%20%5B-119.90168800000001%2C%2038.97415099999999%5D%2C%20%5B-119.901701%2C%2038.974353999999956%5D%2C%20%5B-119.901698%2C%2038.97461199999997%5D%2C%20%5B-119.901694%2C%2038.97467799999997%5D%2C%20%5B-119.90167000000001%2C%2038.97474299999999%5D%2C%20%5B-119.901634%2C%2038.974804000000006%5D%2C%20%5B-119.90157399999998%2C%2038.974872999999995%5D%2C%20%5B-119.901514%2C%2038.974914999999996%5D%2C%20%5B-119.90144400000001%2C%2038.97495399999998%5D%2C%20%5B-119.90136200000002%2C%2038.97498500000003%5D%2C%20%5B-119.901289%2C%2038.97500100000003%5D%2C%20%5B-119.90118600000001%2C%2038.97500700000004%5D%2C%20%5B-119.90110500000002%2C%2038.97499900000007%5D%2C%20%5B-119.901022%2C%2038.97498000000004%5D%2C%20%5B-119.90095100000002%2C%2038.97495599999998%5D%2C%20%5B-119.900882%2C%2038.974914999999996%5D%2C%20%5B-119.90083%2C%2038.97487399999999%5D%2C%20%5B-119.90078100000001%2C%2038.97482799999995%5D%2C%20%5B-119.90073800000002%2C%2038.974772999999985%5D%2C%20%5B-119.900698%2C%2038.97470799999999%5D%2C%20%5B-119.90067%2C%2038.974655000000034%5D%2C%20%5B-119.900641%2C%2038.97458600000001%5D%2C%20%5B-119.900624%2C%2038.974502000000015%5D%2C%20%5B-119.900602%2C%2038.97435300000002%5D%2C%20%5B-119.90051700000001%2C%2038.97372199999998%5D%2C%20%5B-119.9005%2C%2038.97363499999995%5D%2C%20%5B-119.900473%2C%2038.97356600000002%5D%2C%20%5B-119.90043500000002%2C%2038.97347900000005%5D%2C%20%5B-119.90038400000002%2C%2038.973401%5D%2C%20%5B-119.90033000000001%2C%2038.973333%5D%2C%20%5B-119.900269%2C%2038.97327499999999%5D%2C%20%5B-119.900203%2C%2038.97322400000001%5D%2C%20%5B-119.90012899999999%2C%2038.973182000000016%5D%2C%20%5B-119.90005%2C%2038.97314699999998%5D%2C%20%5B-119.89995800000001%2C%2038.973114999999986%5D%2C%20%5B-119.89984%2C%2038.97308199999998%5D%2C%20%5B-119.899707%2C%2038.97306599999997%5D%2C%20%5B-119.899628%2C%2038.97306500000005%5D%2C%20%5B-119.899544%2C%2038.97307299999995%5D%2C%20%5B-119.899449%2C%2038.97309199999996%5D%2C%20%5B-119.899363%2C%2038.973120000000016%5D%2C%20%5B-119.89926%2C%2038.97316399999997%5D%2C%20%5B-119.899173%2C%2038.97321499999997%5D%2C%20%5B-119.89910899999998%2C%2038.97326199999998%5D%2C%20%5B-119.899037%2C%2038.97331899999999%5D%2C%20%5B-119.89875400000001%2C%2038.973574%5D%2C%20%5B-119.89867900000002%2C%2038.973639%5D%2C%20%5B-119.89859500000001%2C%2038.973705000000045%5D%2C%20%5B-119.89850400000002%2C%2038.97377900000002%5D%2C%20%5B-119.89840299999999%2C%2038.973852999999984%5D%2C%20%5B-119.898317%2C%2038.97390599999998%5D%2C%20%5B-119.89821400000001%2C%2038.973960999999946%5D%2C%20%5B-119.898103%2C%2038.97400700000003%5D%2C%20%5B-119.89798500000002%2C%2038.974049999999956%5D%2C%20%5B-119.89784700000001%2C%2038.974106000000006%5D%2C%20%5B-119.897738%2C%2038.974165999999975%5D%2C%20%5B-119.897647%2C%2038.974217999999965%5D%2C%20%5B-119.897566%2C%2038.974277000000015%5D%2C%20%5B-119.89750100000002%2C%2038.974341000000024%5D%2C%20%5B-119.897344%2C%2038.97450600000001%5D%2C%20%5B-119.897201%2C%2038.97465900000001%5D%2C%20%5B-119.89714100000002%2C%2038.97470799999999%5D%2C%20%5B-119.897074%2C%2038.97475500000004%5D%2C%20%5B-119.89699200000001%2C%2038.97480199999998%5D%2C%20%5B-119.89692899999999%2C%2038.974830000000004%5D%2C%20%5B-119.89685000000001%2C%2038.97485299999998%5D%2C%20%5B-119.89675400000002%2C%2038.97487399999999%5D%2C%20%5B-119.89664000000002%2C%2038.97488599999999%5D%2C%20%5B-119.89654100000001%2C%2038.974886999999995%5D%2C%20%5B-119.896411%2C%2038.97487899999997%5D%2C%20%5B-119.89615000000002%2C%2038.974855999999974%5D%2C%20%5B-119.89603100000001%2C%2038.97484900000001%5D%2C%20%5B-119.89593199999999%2C%2038.974849999999975%5D%2C%20%5B-119.895823%2C%2038.97485299999998%5D%2C%20%5B-119.89570600000002%2C%2038.974861%5D%2C%20%5B-119.89555000000001%2C%2038.974882%5D%2C%20%5B-119.89542100000001%2C%2038.97490800000002%5D%2C%20%5B-119.895318%2C%2038.97493500000003%5D%2C%20%5B-119.895201%2C%2038.974971000000025%5D%2C%20%5B-119.89510699999998%2C%2038.97500700000004%5D%2C%20%5B-119.895008%2C%2038.97505600000002%5D%2C%20%5B-119.894912%2C%2038.97510899999999%5D%2C%20%5B-119.89481700000002%2C%2038.97517000000002%5D%2C%20%5B-119.89473100000001%2C%2038.97523800000001%5D%2C%20%5B-119.89466400000002%2C%2038.97529700000002%5D%2C%20%5B-119.89446399999999%2C%2038.97549200000001%5D%2C%20%5B-119.89434700000001%2C%2038.975595999999975%5D%2C%20%5B-119.894228%2C%2038.97570099999996%5D%2C%20%5B-119.894107%2C%2038.975790999999965%5D%2C%20%5B-119.89398299999999%2C%2038.97586699999998%5D%2C%20%5B-119.89386500000002%2C%2038.97592600000002%5D%2C%20%5B-119.893726%2C%2038.975983999999976%5D%2C%20%5B-119.89361%2C%2038.97602700000002%5D%2C%20%5B-119.893417%2C%2038.976089000000066%5D%2C%20%5B-119.89235800000002%2C%2038.976367999999994%5D%2C%20%5B-119.89139200000001%2C%2038.97662999999997%5D%2C%20%5B-119.891037%2C%2038.976722%5D%2C%20%5B-119.890919%2C%2038.97674899999998%5D%2C%20%5B-119.89083%2C%2038.97676600000001%5D%2C%20%5B-119.89073700000002%2C%2038.976777999999996%5D%2C%20%5B-119.890649%2C%2038.976777999999996%5D%2C%20%5B-119.89052700000002%2C%2038.976769999999945%5D%2C%20%5B-119.890322%2C%2038.97674899999998%5D%2C%20%5B-119.890124%2C%2038.97672499999995%5D%2C%20%5B-119.88991400000002%2C%2038.976696%5D%2C%20%5B-119.88979%2C%2038.97667499999997%5D%2C%20%5B-119.889666%2C%2038.97664599999997%5D%2C%20%5B-119.889532%2C%2038.97661099999998%5D%2C%20%5B-119.889377%2C%2038.976563%5D%2C%20%5B-119.889235%2C%2038.97652000000003%5D%2C%20%5B-119.88909199999999%2C%2038.97649399999998%5D%2C%20%5B-119.888985%2C%2038.97648600000001%5D%2C%20%5B-119.888874%2C%2038.976487999999996%5D%2C%20%5B-119.88876800000001%2C%2038.976501999999996%5D%2C%20%5B-119.88867200000001%2C%2038.97652500000004%5D%2C%20%5B-119.888502%2C%2038.97637400000003%5D%2C%20%5B-119.88868600000002%2C%2038.976302000000004%5D%2C%20%5B-119.888502%2C%2038.97637400000003%5D%2C%20%5B-119.88834800000001%2C%2038.97622300000001%5D%2C%20%5B-119.888153%2C%2038.97602900000005%5D%2C%20%5B-119.888038%2C%2038.975914000000046%5D%2C%20%5B-119.88796399999998%2C%2038.97583800000003%5D%2C%20%5B-119.887928%2C%2038.97578599999997%5D%2C%20%5B-119.887901%2C%2038.975727%5D%2C%20%5B-119.88788700000002%2C%2038.97565199999999%5D%2C%20%5B-119.88789%2C%2038.974919%5D%2C%20%5B-119.88787300000001%2C%2038.974735%5D%2C%20%5B-119.887808%2C%2038.974187999999984%5D%2C%20%5B-119.887772%2C%2038.97390399999998%5D%2C%20%5B-119.88775299999999%2C%2038.97368%5D%2C%20%5B-119.887731%2C%2038.97338999999996%5D%2C%20%5B-119.88771400000002%2C%2038.97331299999998%5D%2C%20%5B-119.887673%2C%2038.97319799999997%5D%2C%20%5B-119.887613%2C%2038.973119000000004%5D%2C%20%5B-119.88748099999998%2C%2038.972980999999976%5D%2C%20%5B-119.88731%2C%2038.97278699999998%5D%2C%20%5B-119.88726100000001%2C%2038.972731999999965%5D%2C%20%5B-119.88717700000001%2C%2038.972615999999995%5D%2C%20%5B-119.887067%2C%2038.97244200000002%5D%2C%20%5B-119.886982%2C%2038.97225999999998%5D%2C%20%5B-119.886949%2C%2038.97217300000001%5D%2C%20%5B-119.88693000000002%2C%2038.97207700000003%5D%2C%20%5B-119.886925%2C%2038.97194100000001%5D%2C%20%5B-119.886944%2C%2038.97181899999998%5D%2C%20%5B-119.88705600000002%2C%2038.97137599999999%5D%2C%20%5B-119.88709500000002%2C%2038.97127500000001%5D%2C%20%5B-119.88715500000002%2C%2038.97117900000004%5D%2C%20%5B-119.887215%2C%2038.97111799999999%5D%2C%20%5B-119.88733300000001%2C%2038.97102600000001%5D%2C%20%5B-119.887421%2C%2038.970940999999996%5D%2C%20%5B-119.887459%2C%2038.97086600000001%5D%2C%20%5B-119.887473%2C%2038.97079800000003%5D%2C%20%5B-119.887467%2C%2038.97070399999998%5D%2C%20%5B-119.88742900000001%2C%2038.97061899999996%5D%2C%20%5B-119.887377%2C%2038.97055099999999%5D%2C%20%5B-119.88727599999999%2C%2038.970455000000015%5D%2C%20%5B-119.887164%2C%2038.97036899999998%5D%2C%20%5B-119.887104%2C%2038.97032299999999%5D%2C%20%5B-119.886958%2C%2038.970228999999975%5D%2C%20%5B-119.886779%2C%2038.970124000000006%5D%2C%20%5B-119.886461%2C%2038.96994799999997%5D%2C%20%5B-119.88630999999998%2C%2038.96985300000005%5D%2C%20%5B-119.886212%2C%2038.96977500000001%5D%2C%20%5B-119.88610499999999%2C%2038.96967399999995%5D%2C%20%5B-119.886031%2C%2038.96958500000002%5D%2C%20%5B-119.88599000000002%2C%2038.96950800000001%5D%2C%20%5B-119.88596999999999%2C%2038.969426999999996%5D%2C%20%5B-119.88594%2C%2038.969116000000035%5D%2C%20%5B-119.88595100000002%2C%2038.96904099999998%5D%2C%20%5B-119.885984%2C%2038.968955999999984%5D%2C%20%5B-119.88607700000001%2C%2038.96879399999999%5D%2C%20%5B-119.886173%2C%2038.96860599999998%5D%2C%20%5B-119.886269%2C%2038.968422999999966%5D%2C%20%5B-119.88632399999999%2C%2038.96825700000005%5D%2C%20%5B-119.88633600000001%2C%2038.96822800000001%5D%2C%20%5B-119.886352%2C%2038.96819300000004%5D%2C%20%5B-119.886415%2C%2038.96804999999997%5D%2C%20%5B-119.88645600000001%2C%2038.967883%5D%2C%20%5B-119.886601%2C%2038.96735899999998%5D%2C%20%5B-119.886617%2C%2038.96730100000003%5D%2C%20%5B-119.88662600000002%2C%2038.96726900000002%5D%2C%20%5B-119.88684300000001%2C%2038.96639700000004%5D%2C%20%5B-119.88687000000002%2C%2038.96628900000005%5D%2C%20%5B-119.88702300000001%2C%2038.96569199999996%5D%2C%20%5B-119.887092%2C%2038.965423000000015%5D%2C%20%5B-119.88710799999998%2C%2038.965350999999984%5D%2C%20%5B-119.887103%2C%2038.96526999999997%5D%2C%20%5B-119.88706200000001%2C%2038.96519499999997%5D%2C%20%5B-119.886996%2C%2038.96512199999998%5D%2C%20%5B-119.88656%2C%2038.964779%5D%2C%20%5B-119.88648900000001%2C%2038.96472399999997%5D%2C%20%5B-119.886437%2C%2038.96466000000002%5D%2C%20%5B-119.886404%2C%2038.964584999999985%5D%2C%20%5B-119.88640100000002%2C%2038.964549999999996%5D%2C%20%5B-119.886398%2C%2038.96450000000004%5D%2C%20%5B-119.88640100000002%2C%2038.96439799999999%5D%2C%20%5B-119.88640100000002%2C%2038.964394999999996%5D%2C%20%5B-119.886434%2C%2038.96416099999996%5D%2C%20%5B-119.88644699999999%2C%2038.96406899999996%5D%2C%20%5B-119.88645600000001%2C%2038.963948000000045%5D%2C%20%5B-119.88645800000002%2C%2038.963754000000044%5D%2C%20%5B-119.886467%2C%2038.96367899999999%5D%2C%20%5B-119.8865%2C%2038.96357%5D%2C%20%5B-119.886557%2C%2038.96341500000002%5D%2C%20%5B-119.88657599999999%2C%2038.96333399999999%5D%2C%20%5B-119.88658199999999%2C%2038.96321599999997%5D%2C%20%5B-119.886554%2C%2038.96287300000004%5D%2C%20%5B-119.886532%2C%2038.96273000000003%5D%2C%20%5B-119.88650199999998%2C%2038.96259599999999%5D%2C%20%5B-119.88649700000002%2C%2038.962501999999986%5D%2C%20%5B-119.88651300000001%2C%2038.96239500000003%5D%2C%20%5B-119.88654600000001%2C%2038.962291000000015%5D%2C%20%5B-119.886604%2C%2038.96221400000002%5D%2C%20%5B-119.8867%2C%2038.96212299999996%5D%2C%20%5B-119.88683999999999%2C%2038.962012%5D%2C%20%5B-119.88701799999998%2C%2038.96188599999999%5D%2C%20%5B-119.88727599999999%2C%2038.96172999999996%5D%2C%20%5B-119.887544%2C%2038.961595999999986%5D%2C%20%5B-119.88761100000002%2C%2038.961564%5D%2C%20%5B-119.887652%2C%2038.961544%5D%2C%20%5B-119.887871%2C%2038.961438%5D%2C%20%5B-119.88805399999998%2C%2038.96135499999996%5D%2C%20%5B-119.88821300000001%2C%2038.96126999999997%5D%2C%20%5B-119.888337%2C%2038.96119900000001%5D%2C%20%5B-119.88847100000001%2C%2038.961154999999984%5D%2C%20%5B-119.888636%2C%2038.961127000000005%5D%2C%20%5B-119.88879499999999%2C%2038.96108799999999%5D%2C%20%5B-119.888943%2C%2038.961038999999964%5D%2C%20%5B-119.889209%2C%2038.96092599999998%5D%2C%20%5B-119.889283%2C%2038.96088399999998%5D%2C%20%5B-119.88930800000001%2C%2038.96085600000001%5D%2C%20%5B-119.889332%2C%2038.96089300000005%5D%2C%20%5B-119.88930800000001%2C%2038.96085600000001%5D%2C%20%5B-119.889299%2C%2038.960795999999995%5D%2C%20%5B-119.889241%2C%2038.96065999999998%5D%2C%20%5B-119.889079%2C%2038.960278%5D%2C%20%5B-119.889074%2C%2038.96021799999998%5D%2C%20%5B-119.889085%2C%2038.96014799999997%5D%2C%20%5B-119.889121%2C%2038.960073000000015%5D%2C%20%5B-119.88926599999999%2C%2038.95991600000002%5D%2C%20%5B-119.88934%2C%2038.959824%5D%2C%20%5B-119.889395%2C%2038.95972999999999%5D%2C%20%5B-119.88945200000002%2C%2038.95966199999996%5D%2C%20%5B-119.889647%2C%2038.95940999999999%5D%2C%20%5B-119.88970199999999%2C%2038.959325%5D%2C%20%5B-119.889718%2C%2038.95925900000004%5D%2C%20%5B-119.889718%2C%2038.95919299999998%5D%2C%20%5B-119.889688%2C%2038.95913099999997%5D%2C%20%5B-119.88964400000002%2C%2038.95909699999998%5D%2C%20%5B-119.88958400000001%2C%2038.959077999999984%5D%2C%20%5B-119.889504%2C%2038.95907600000004%5D%2C%20%5B-119.88945500000001%2C%2038.959093000000024%5D%2C%20%5B-119.8894%2C%2038.95913099999997%5D%2C%20%5B-119.889247%2C%2038.95927400000003%5D%2C%20%5B-119.88910400000002%2C%2038.95942700000005%5D%2C%20%5B-119.88894200000001%2C%2038.959571999999966%5D%2C%20%5B-119.88875300000001%2C%2038.959696000000044%5D%2C%20%5B-119.88841600000002%2C%2038.95993100000001%5D%2C%20%5B-119.888268%2C%2038.96005599999998%5D%2C%20%5B-119.88809200000001%2C%2038.960226999999946%5D%2C%20%5B-119.887974%2C%2038.96036600000001%5D%2C%20%5B-119.88784000000001%2C%2038.96050599999996%5D%2C%20%5B-119.887736%2C%2038.960594%5D%2C%20%5B-119.88762100000001%2C%2038.96066199999995%5D%2C%20%5B-119.887508%2C%2038.96070699999997%5D%2C%20%5B-119.887253%2C%2038.960783%5D%2C%20%5B-119.88711300000001%2C%2038.96081799999996%5D%2C%20%5B-119.886932%2C%2038.96087499999999%5D%2C%20%5B-119.88672900000002%2C%2038.960958000000005%5D%2C%20%5B-119.886559%2C%2038.96103300000001%5D%2C%20%5B-119.88638100000001%2C%2038.961125%5D%2C%20%5B-119.886208%2C%2038.961233%5D%2C%20%5B-119.88601400000002%2C%2038.96140000000002%5D%2C%20%5B-119.885868%2C%2038.961535999999974%5D%2C%20%5B-119.885704%2C%2038.96172000000003%5D%2C%20%5B-119.88553700000001%2C%2038.96191399999999%5D%2C%20%5B-119.885419%2C%2038.96205%5D%2C%20%5B-119.88530899999999%2C%2038.96220600000002%5D%2C%20%5B-119.885125%2C%2038.96252499999999%5D%2C%20%5B-119.88502100000001%2C%2038.96267000000004%5D%2C%20%5B-119.884911%2C%2038.962805%5D%2C%20%5B-119.884848%2C%2038.96289399999997%5D%2C%20%5B-119.88477700000001%2C%2038.96303499999996%5D%2C%20%5B-119.884763%2C%2038.96308500000001%5D%2C%20%5B-119.88473500000002%2C%2038.96318799999997%5D%2C%20%5B-119.88470000000001%2C%2038.96331200000007%5D%2C%20%5B-119.884689%2C%2038.96344399999997%5D%2C%20%5B-119.88470800000002%2C%2038.96354499999999%5D%2C%20%5B-119.884752%2C%2038.963619%5D%2C%20%5B-119.884821%2C%2038.96369200000001%5D%2C%20%5B-119.884917%2C%2038.96376199999998%5D%2C%20%5B-119.88504%2C%2038.96384299999999%5D%2C%20%5B-119.885098%2C%2038.96388999999998%5D%2C%20%5B-119.885142%2C%2038.963963%5D%2C%20%5B-119.88521300000001%2C%2038.964118000000006%5D%2C%20%5B-119.885227%2C%2038.964192999999966%5D%2C%20%5B-119.88522899999998%2C%2038.96427400000005%5D%2C%20%5B-119.88519700000002%2C%2038.96446600000003%5D%2C%20%5B-119.88518599999999%2C%2038.96454599999996%5D%2C%20%5B-119.88517999999999%2C%2038.96459200000004%5D%2C%20%5B-119.88518599999999%2C%2038.96474100000004%5D%2C%20%5B-119.88522499999999%2C%2038.964949%5D%2C%20%5B-119.885301%2C%2038.96535500000003%5D%2C%20%5B-119.885346%2C%2038.965498%5D%2C%20%5B-119.88534500000002%2C%2038.96557399999999%5D%2C%20%5B-119.885314%2C%2038.965632%5D%2C%20%5B-119.88524000000001%2C%2038.96568100000001%5D%2C%20%5B-119.88511700000001%2C%2038.96571699999998%5D%2C%20%5B-119.88492%2C%2038.965758%5D%2C%20%5B-119.88479899999999%2C%2038.96579399999994%5D%2C%20%5B-119.884722%2C%2038.96583199999999%5D%2C%20%5B-119.884662%2C%2038.965888000000014%5D%2C%20%5B-119.884607%2C%2038.965969000000015%5D%2C%20%5B-119.88454900000002%2C%2038.96608199999999%5D%2C%20%5B-119.884525%2C%2038.96618199999998%5D%2C%20%5B-119.884511%2C%2038.96629699999994%5D%2C%20%5B-119.88451400000001%2C%2038.96688100000004%5D%2C%20%5B-119.884527%2C%2038.966981999999966%5D%2C%20%5B-119.884538%2C%2038.96701999999999%5D%2C%20%5B-119.88457700000001%2C%2038.96714799999995%5D%2C%20%5B-119.884711%2C%2038.96751900000001%5D%2C%20%5B-119.884774%2C%2038.96761899999996%5D%2C%20%5B-119.88483700000002%2C%2038.96768299999999%5D%2C%20%5B-119.88492799999999%2C%2038.967725999999985%5D%2C%20%5B-119.88501599999998%2C%2038.967752999999995%5D%2C%20%5B-119.885142%2C%2038.967793999999984%5D%2C%20%5B-119.885227%2C%2038.96783700000001%5D%2C%20%5B-119.885298%2C%2038.96789%5D%2C%20%5B-119.88537199999999%2C%2038.96799600000005%5D%2C%20%5B-119.88552%2C%2038.96822899999997%5D%2C%20%5B-119.885575%2C%2038.96826899999999%5D%2C%20%5B-119.885649%2C%2038.96830099999998%5D%2C%20%5B-119.885715%2C%2038.968314000000014%5D%2C%20%5B-119.88578300000002%2C%2038.96831599999999%5D%2C%20%5B-119.88587700000001%2C%2038.968296999999936%5D%2C%20%5B-119.88603300000001%2C%2038.968252%5D%2C%20%5B-119.88613700000002%2C%2038.968216000000005%5D%2C%20%5B-119.88616%2C%2038.968215000000015%5D%2C%20%5B-119.886236%2C%2038.968212%5D%2C%20%5B-119.88633600000001%2C%2038.96822800000001%5D%2C%20%5B-119.88632399999999%2C%2038.96825700000005%5D%2C%20%5B-119.886269%2C%2038.968422999999966%5D%2C%20%5B-119.886173%2C%2038.96860599999998%5D%2C%20%5B-119.88607700000001%2C%2038.96879399999999%5D%2C%20%5B-119.885984%2C%2038.968955999999984%5D%2C%20%5B-119.88595100000002%2C%2038.96904099999998%5D%2C%20%5B-119.88594%2C%2038.969116000000035%5D%2C%20%5B-119.88596999999999%2C%2038.969426999999996%5D%2C%20%5B-119.88599000000002%2C%2038.96950800000001%5D%2C%20%5B-119.886031%2C%2038.96958500000002%5D%2C%20%5B-119.88610499999999%2C%2038.96967399999995%5D%2C%20%5B-119.886212%2C%2038.96977500000001%5D%2C%20%5B-119.88630999999998%2C%2038.96985300000005%5D%2C%20%5B-119.886461%2C%2038.96994799999997%5D%2C%20%5B-119.886722464692%2C%2038.970092084563596%5D%2C%20%5B-119.88671199066602%2C%2038.970098155082916%5D%2C%20%5B-119.88708834177399%2C%2038.97031697113337%5D%2C%20%5B-119.887377%2C%2038.97055099999999%5D%2C%20%5B-119.88742900000001%2C%2038.97061899999996%5D%2C%20%5B-119.887467%2C%2038.97070399999998%5D%2C%20%5B-119.887473%2C%2038.97079800000003%5D%2C%20%5B-119.887459%2C%2038.97086600000001%5D%2C%20%5B-119.887421%2C%2038.970940999999996%5D%2C%20%5B-119.88733300000001%2C%2038.97102600000001%5D%2C%20%5B-119.887215%2C%2038.97111799999999%5D%2C%20%5B-119.88715500000002%2C%2038.97117900000004%5D%2C%20%5B-119.88709500000002%2C%2038.97127500000001%5D%2C%20%5B-119.88705600000002%2C%2038.97137599999999%5D%2C%20%5B-119.886944%2C%2038.97181899999998%5D%2C%20%5B-119.886925%2C%2038.97194100000001%5D%2C%20%5B-119.88693000000002%2C%2038.97207700000003%5D%2C%20%5B-119.886949%2C%2038.97217300000001%5D%2C%20%5B-119.886982%2C%2038.97225999999998%5D%2C%20%5B-119.887067%2C%2038.97244200000002%5D%2C%20%5B-119.88717700000001%2C%2038.972615999999995%5D%2C%20%5B-119.88726100000001%2C%2038.972731999999965%5D%2C%20%5B-119.887293%2C%2038.972769%5D%2C%20%5B-119.88748099999998%2C%2038.972980999999976%5D%2C%20%5B-119.887613%2C%2038.973119000000004%5D%2C%20%5B-119.887673%2C%2038.97319799999997%5D%2C%20%5B-119.88771400000002%2C%2038.97331299999998%5D%2C%20%5B-119.887731%2C%2038.97338999999996%5D%2C%20%5B-119.88775299999999%2C%2038.97368%5D%2C%20%5B-119.887772%2C%2038.97390399999998%5D%2C%20%5B-119.887808%2C%2038.974187999999984%5D%2C%20%5B-119.88787300000001%2C%2038.974735%5D%2C%20%5B-119.88789%2C%2038.974919%5D%2C%20%5B-119.88788700000002%2C%2038.97565199999999%5D%2C%20%5B-119.887901%2C%2038.975727%5D%2C%20%5B-119.887928%2C%2038.97578599999997%5D%2C%20%5B-119.88796399999998%2C%2038.97583800000003%5D%2C%20%5B-119.888038%2C%2038.975914000000046%5D%2C%20%5B-119.888153%2C%2038.97602900000005%5D%2C%20%5B-119.88834800000001%2C%2038.97622300000001%5D%2C%20%5B-119.88838700000001%2C%2038.97626099999997%5D%2C%20%5B-119.888502%2C%2038.97637400000003%5D%2C%20%5B-119.88867200000001%2C%2038.97652500000004%5D%2C%20%5B-119.888635%2C%2038.97654100000002%5D%2C%20%5B-119.888599%2C%2038.976555999999995%5D%2C%20%5B-119.88852800000001%2C%2038.97659600000001%5D%2C%20%5B-119.888431%2C%2038.976668999999994%5D%2C%20%5B-119.888251%2C%2038.97679799999997%5D%2C%20%5B-119.88814300000001%2C%2038.97689100000002%5D%2C%20%5B-119.88806800000002%2C%2038.97696200000006%5D%2C%20%5B-119.88800899999998%2C%2038.977025999999974%5D%2C%20%5B-119.88795100000002%2C%2038.977097999999984%5D%2C%20%5B-119.887901%2C%2038.97716300000002%5D%2C%20%5B-119.88783499999998%2C%2038.97726000000004%5D%2C%20%5B-119.88780300000002%2C%2038.977319000000044%5D%2C%20%5B-119.88777%2C%2038.97738199999999%5D%2C%20%5B-119.88773800000001%2C%2038.977446999999984%5D%2C%20%5B-119.88770100000002%2C%2038.97753300000001%5D%2C%20%5B-119.887679%2C%2038.977606000000016%5D%2C%20%5B-119.88766200000002%2C%2038.97767099999999%5D%2C%20%5B-119.88764%2C%2038.977758000000016%5D%2C%20%5B-119.887557%2C%2038.97815700000002%5D%2C%20%5B-119.88751300000001%2C%2038.97837500000002%5D%2C%20%5B-119.88749499999999%2C%2038.97844299999995%5D%2C%20%5B-119.887469%2C%2038.97850999999998%5D%2C%20%5B-119.88743799999999%2C%2038.97857900000003%5D%2C%20%5B-119.88739899999999%2C%2038.97865400000002%5D%2C%20%5B-119.887362%2C%2038.97871300000002%5D%2C%20%5B-119.88731%2C%2038.97877800000003%5D%2C%20%5B-119.887252%2C%2038.978843999999974%5D%2C%20%5B-119.88718599999999%2C%2038.978905000000026%5D%2C%20%5B-119.887123%2C%2038.97895499999998%5D%2C%20%5B-119.887054%2C%2038.97900399999999%5D%2C%20%5B-119.886968%2C%2038.97905699999999%5D%2C%20%5B-119.88687600000002%2C%2038.97910499999998%5D%2C%20%5B-119.88678000000002%2C%2038.97914299999999%5D%2C%20%5B-119.88668100000001%2C%2038.97917800000001%5D%2C%20%5B-119.886584%2C%2038.979208000000014%5D%2C%20%5B-119.88646500000002%2C%2038.979236%5D%2C%20%5B-119.886353%2C%2038.97925500000001%5D%2C%20%5B-119.886238%2C%2038.97926700000002%5D%2C%20%5B-119.88613%2C%2038.97926999999997%5D%2C%20%5B-119.88605700000001%2C%2038.97926999999997%5D%2C%20%5B-119.885992%2C%2038.97926800000002%5D%2C%20%5B-119.88589700000001%2C%2038.979259999999954%5D%2C%20%5B-119.88581900000001%2C%2038.979249000000024%5D%2C%20%5B-119.88575099999998%2C%2038.97923699999999%5D%2C%20%5B-119.88568100000002%2C%2038.97921900000003%5D%2C%20%5B-119.88559600000002%2C%2038.97919499999999%5D%2C%20%5B-119.885502%2C%2038.979160999999976%5D%2C%20%5B-119.88542600000001%2C%2038.97912799999999%5D%2C%20%5B-119.885347%2C%2038.97908899999995%5D%2C%20%5B-119.885278%2C%2038.979048999999996%5D%2C%20%5B-119.885217%2C%2038.979009%5D%2C%20%5B-119.88516%2C%2038.97896999999999%5D%2C%20%5B-119.88510500000001%2C%2038.97892699999997%5D%2C%20%5B-119.88505499999998%2C%2038.97888400000001%5D%2C%20%5B-119.885002%2C%2038.97883600000002%5D%2C%20%5B-119.884951%2C%2038.97878100000004%5D%2C%20%5B-119.884904%2C%2038.97872299999995%5D%2C%20%5B-119.884859%2C%2038.97865499999999%5D%2C%20%5B-119.88482%2C%2038.97858200000004%5D%2C%20%5B-119.884785%2C%2038.97851400000004%5D%2C%20%5B-119.88475100000001%2C%2038.97842900000003%5D%2C%20%5B-119.88448300000002%2C%2038.977631999999964%5D%2C%20%5B-119.884306%2C%2038.97707699999996%5D%2C%20%5B-119.884275%2C%2038.97700299999999%5D%2C%20%5B-119.88423700000001%2C%2038.97692700000003%5D%2C%20%5B-119.884194%2C%2038.97684899999995%5D%2C%20%5B-119.88414700000001%2C%2038.976778000000024%5D%2C%20%5B-119.884089%2C%2038.97670699999997%5D%2C%20%5B-119.88402600000002%2C%2038.976644000000015%5D%2C%20%5B-119.883962%2C%2038.97658099999999%5D%2C%20%5B-119.883881%2C%2038.976520999999956%5D%2C%20%5B-119.883798%2C%2038.97646599999999%5D%2C%20%5B-119.88371199999999%2C%2038.97641600000001%5D%2C%20%5B-119.88362100000002%2C%2038.976373%5D%2C%20%5B-119.88354%2C%2038.976338000000005%5D%2C%20%5B-119.88343900000001%2C%2038.97630400000003%5D%2C%20%5B-119.883315%2C%2038.976265999999995%5D%2C%20%5B-119.883198%2C%2038.97624000000003%5D%2C%20%5B-119.88248999999999%2C%2038.97609600000001%5D%2C%20%5B-119.881879%2C%2038.97596600000006%5D%2C%20%5B-119.881744%2C%2038.97593599999999%5D%2C%20%5B-119.88163199999998%2C%2038.97590399999996%5D%2C%20%5B-119.881528%2C%2038.97587199999997%5D%2C%20%5B-119.881441%2C%2038.97583700000004%5D%2C%20%5B-119.88134000000001%2C%2038.97579099999999%5D%2C%20%5B-119.88124400000001%2C%2038.97574000000001%5D%2C%20%5B-119.88115000000002%2C%2038.975683999999994%5D%2C%20%5B-119.881068%2C%2038.97562799999999%5D%2C%20%5B-119.88099400000002%2C%2038.975573000000026%5D%2C%20%5B-119.88086800000002%2C%2038.97546999999997%5D%2C%20%5B-119.880522%2C%2038.975160999999986%5D%2C%20%5B-119.88041799999999%2C%2038.97506800000001%5D%2C%20%5B-119.88033399999999%2C%2038.975003000000044%5D%2C%20%5B-119.880233%2C%2038.97493199999993%5D%2C%20%5B-119.880129%2C%2038.974861%5D%2C%20%5B-119.880008%2C%2038.97479099999999%5D%2C%20%5B-119.87990100000002%2C%2038.974737999999995%5D%2C%20%5B-119.87980300000001%2C%2038.974692999999945%5D%2C%20%5B-119.87968800000002%2C%2038.974645000000024%5D%2C%20%5B-119.879591%2C%2038.97460899999995%5D%2C%20%5B-119.87948700000001%2C%2038.97457699999995%5D%2C%20%5B-119.87935500000002%2C%2038.97454499999996%5D%2C%20%5B-119.87922900000001%2C%2038.974516999999956%5D%2C%20%5B-119.87912%2C%2038.97449799999993%5D%2C%20%5B-119.879024%2C%2038.974485999999956%5D%2C%20%5B-119.878867%2C%2038.97447300000005%5D%2C%20%5B-119.878128%2C%2038.974423999999956%5D%2C%20%5B-119.87771900000001%2C%2038.97439700000004%5D%2C%20%5B-119.87735%2C%2038.974371000000026%5D%2C%20%5B-119.877228%2C%2038.97436499999999%5D%2C%20%5B-119.877099%2C%2038.97436000000001%5D%2C%20%5B-119.87697400000002%2C%2038.97436%5D%2C%20%5B-119.87681200000002%2C%2038.97436200000001%5D%2C%20%5B-119.876417%2C%2038.974381000000015%5D%2C%20%5B-119.876295%2C%2038.97438800000002%5D%2C%20%5B-119.876192%2C%2038.97439100000003%5D%2C%20%5B-119.87609%2C%2038.97438999999996%5D%2C%20%5B-119.875992%2C%2038.97438499999994%5D%2C%20%5B-119.87588499999998%2C%2038.974374999999995%5D%2C%20%5B-119.875775%2C%2038.97436100000002%5D%2C%20%5B-119.875676%2C%2038.974343999999995%5D%2C%20%5B-119.87556599999999%2C%2038.97432299999995%5D%2C%20%5B-119.87528400000001%2C%2038.97426199999995%5D%2C%20%5B-119.87509200000001%2C%2038.974222999999974%5D%2C%20%5B-119.874988%2C%2038.974204000000015%5D%2C%20%5B-119.87488700000002%2C%2038.97418999999995%5D%2C%20%5B-119.874799%2C%2038.97417999999995%5D%2C%20%5B-119.874694%2C%2038.974173%5D%2C%20%5B-119.87458499999998%2C%2038.97416900000004%5D%2C%20%5B-119.874454%2C%2038.974171%5D%2C%20%5B-119.874331%2C%2038.974177000000005%5D%2C%20%5B-119.87422099999999%2C%2038.97418999999995%5D%2C%20%5B-119.874105%2C%2038.974205999999995%5D%2C%20%5B-119.87399%2C%2038.974224999999976%5D%2C%20%5B-119.87314599999999%2C%2038.97437%5D%2C%20%5B-119.87302800000002%2C%2038.97438600000001%5D%2C%20%5B-119.872905%2C%2038.974404%5D%2C%20%5B-119.872793%2C%2038.974414999999965%5D%2C%20%5B-119.872685%2C%2038.974421999999976%5D%2C%20%5B-119.872561%2C%2038.974421999999976%5D%2C%20%5B-119.872442%2C%2038.974414999999965%5D%2C%20%5B-119.87234500000001%2C%2038.974404%5D%2C%20%5B-119.872235%2C%2038.97438699999996%5D%2C%20%5B-119.87212100000002%2C%2038.97436399999995%5D%2C%20%5B-119.872002%2C%2038.97433199999999%5D%2C%20%5B-119.87162400000001%2C%2038.974228000000004%5D%2C%20%5B-119.870827%2C%2038.974001999999984%5D%2C%20%5B-119.87062700000001%2C%2038.97394700000001%5D%2C%20%5B-119.87048300000001%2C%2038.973917000000014%5D%2C%20%5B-119.87034200000001%2C%2038.97388800000002%5D%2C%20%5B-119.870213%2C%2038.973872000000014%5D%2C%20%5B-119.870109%2C%2038.97386700000002%5D%2C%20%5B-119.86999600000001%2C%2038.973867999999975%5D%2C%20%5B-119.86989%2C%2038.973874999999985%5D%2C%20%5B-119.86978900000001%2C%2038.97388799999999%5D%2C%20%5B-119.869683%2C%2038.97390500000002%5D%2C%20%5B-119.86958500000001%2C%2038.97393000000002%5D%2C%20%5B-119.869491%2C%2038.973956%5D%2C%20%5B-119.86939900000002%2C%2038.97398999999997%5D%2C%20%5B-119.869305%2C%2038.97403400000004%5D%2C%20%5B-119.86921600000001%2C%2038.974082%5D%2C%20%5B-119.869137%2C%2038.97413600000003%5D%2C%20%5B-119.869064%2C%2038.974191999999995%5D%2C%20%5B-119.868992%2C%2038.97425099999997%5D%2C%20%5B-119.868929%2C%2038.97431399999997%5D%2C%20%5B-119.868872%2C%2038.974382000000006%5D%2C%20%5B-119.86881399999999%2C%2038.97446500000004%5D%2C%20%5B-119.868773%2C%2038.97453399999998%5D%2C%20%5B-119.86874%2C%2038.97460100000001%5D%2C%20%5B-119.86871%2C%2038.974669999999996%5D%2C%20%5B-119.868686%2C%2038.97475500000004%5D%2C%20%5B-119.868662%2C%2038.974869%5D%2C%20%5B-119.86865100000001%2C%2038.97494799999999%5D%2C%20%5B-119.86864500000001%2C%2038.97502700000001%5D%2C%20%5B-119.86863900000002%2C%2038.975161999999976%5D%2C%20%5B-119.868611%2C%2038.975959000000024%5D%2C%20%5B-119.86861300000001%2C%2038.97605699999999%5D%2C%20%5B-119.868622%2C%2038.97617300000003%5D%2C%20%5B-119.86863399999999%2C%2038.97626900000001%5D%2C%20%5B-119.86865%2C%2038.976355999999996%5D%2C%20%5B-119.86867200000002%2C%2038.97644599999998%5D%2C%20%5B-119.868693%2C%2038.97651199999998%5D%2C%20%5B-119.86872%2C%2038.97659800000002%5D%2C%20%5B-119.868803%2C%2038.97684799999998%5D%2C%20%5B-119.86899%2C%2038.97740399999998%5D%2C%20%5B-119.86902099999999%2C%2038.97751200000001%5D%2C%20%5B-119.869041%2C%2038.977598999999955%5D%2C%20%5B-119.869059%2C%2038.97769299999998%5D%2C%20%5B-119.86906999999998%2C%2038.977776000000034%5D%2C%20%5B-119.86908100000001%2C%2038.97787100000001%5D%2C%20%5B-119.869086%2C%2038.97796599999998%5D%2C%20%5B-119.86908900000002%2C%2038.97806499999997%5D%2C%20%5B-119.869086%2C%2038.97815499999994%5D%2C%20%5B-119.869079%2C%2038.97825099999995%5D%2C%20%5B-119.869068%2C%2038.978341999999984%5D%2C%20%5B-119.86905100000001%2C%2038.97846400000005%5D%2C%20%5B-119.869028%2C%2038.97859499999998%5D%2C%20%5B-119.868965%2C%2038.978929000000015%5D%2C%20%5B-119.868792%2C%2038.97986800000002%5D%2C%20%5B-119.86869699999998%2C%2038.98038899999995%5D%2C%20%5B-119.86867000000001%2C%2038.98048299999997%5D%2C%20%5B-119.86863900000002%2C%2038.98057000000004%5D%2C%20%5B-119.868598%2C%2038.980668%5D%2C%20%5B-119.868554%2C%2038.98075000000001%5D%2C%20%5B-119.86849899999999%2C%2038.98083699999997%5D%2C%20%5B-119.86843%2C%2038.980931000000005%5D%2C%20%5B-119.868359%2C%2038.98101200000004%5D%2C%20%5B-119.86829%2C%2038.98108599999998%5D%2C%20%5B-119.868238%2C%2038.981140999999994%5D%2C%20%5B-119.86817400000001%2C%2038.981198000000006%5D%2C%20%5B-119.868095%2C%2038.98125499999999%5D%2C%20%5B-119.86800200000002%2C%2038.981315999999985%5D%2C%20%5B-119.867897%2C%2038.981377000000016%5D%2C%20%5B-119.86778900000002%2C%2038.981431000000015%5D%2C%20%5B-119.867696%2C%2038.981474999999975%5D%2C%20%5B-119.86759799999999%2C%2038.98151399999999%5D%2C%20%5B-119.867494%2C%2038.98154800000002%5D%2C%20%5B-119.86739300000002%2C%2038.98157700000001%5D%2C%20%5B-119.867296%2C%2038.98160000000002%5D%2C%20%5B-119.867151%2C%2038.98162699999997%5D%2C%20%5B-119.866425%2C%2038.98174599999997%5D%2C%20%5B-119.86624600000002%2C%2038.981773%5D%2C%20%5B-119.866153%2C%2038.98178800000003%5D%2C%20%5B-119.866037%2C%2038.98180399999995%5D%2C%20%5B-119.865941%2C%2038.981817000000014%5D%2C%20%5B-119.865836%2C%2038.98182799999999%5D%2C%20%5B-119.865738%2C%2038.98183600000002%5D%2C%20%5B-119.86561900000001%2C%2038.981843%5D%2C%20%5B-119.865497%2C%2038.981845999999976%5D%2C%20%5B-119.86532400000002%2C%2038.981844999999936%5D%2C%20%5B-119.86512699999999%2C%2038.98183600000002%5D%2C%20%5B-119.865007%2C%2038.98182499999999%5D%2C%20%5B-119.864864%2C%2038.981808%5D%2C%20%5B-119.86473399999998%2C%2038.981787000000004%5D%2C%20%5B-119.86457900000002%2C%2038.98175399999998%5D%2C%20%5B-119.86443800000002%2C%2038.981723%5D%2C%20%5B-119.86427700000002%2C%2038.981680999999966%5D%2C%20%5B-119.86411500000001%2C%2038.98163200000002%5D%2C%20%5B-119.86394%2C%2038.981574%5D%2C%20%5B-119.863795%2C%2038.981517%5D%2C%20%5B-119.863668%2C%2038.98146199999997%5D%2C%20%5B-119.86354300000002%2C%2038.98140399999999%5D%2C%20%5B-119.86341900000001%2C%2038.981338%5D%2C%20%5B-119.86329800000001%2C%2038.98126599999998%5D%2C%20%5B-119.86317799999999%2C%2038.98118600000001%5D%2C%20%5B-119.863044%2C%2038.98109500000003%5D%2C%20%5B-119.86293700000002%2C%2038.981015%5D%2C%20%5B-119.862856%2C%2038.98094699999999%5D%2C%20%5B-119.862693%2C%2038.98080599999997%5D%2C%20%5B-119.86226%2C%2038.98041099999999%5D%2C%20%5B-119.862192%2C%2038.980356%5D%2C%20%5B-119.86212%2C%2038.98030000000005%5D%2C%20%5B-119.86204999999998%2C%2038.980250999999996%5D%2C%20%5B-119.86196599999998%2C%2038.98019400000001%5D%2C%20%5B-119.861897%2C%2038.98014999999998%5D%2C%20%5B-119.86181%2C%2038.980097%5D%2C%20%5B-119.861718%2C%2038.98004400000001%5D%2C%20%5B-119.86162599999999%2C%2038.979995999999986%5D%2C%20%5B-119.86154%2C%2038.97995400000005%5D%2C%20%5B-119.86144500000002%2C%2038.97991099999999%5D%2C%20%5B-119.86134000000001%2C%2038.979866999999985%5D%2C%20%5B-119.860921%2C%2038.97969500000002%5D%2C%20%5B-119.85837099999999%2C%2038.97867500000005%5D%2C%20%5B-119.85828499999998%2C%2038.97864499999998%5D%2C%20%5B-119.858187%2C%2038.978618999999995%5D%2C%20%5B-119.85806799999999%2C%2038.97859200000003%5D%2C%20%5B-119.857949%2C%2038.978568000000045%5D%2C%20%5B-119.857824%2C%2038.978552%5D%2C%20%5B-119.857697%2C%2038.97854199999993%5D%2C%20%5B-119.857573%2C%2038.97854000000003%5D%2C%20%5B-119.85746100000001%2C%2038.978544000000014%5D%2C%20%5B-119.857349%2C%2038.978552%5D%2C%20%5B-119.857246%2C%2038.978563999999935%5D%2C%20%5B-119.857142%2C%2038.97857699999999%5D%2C%20%5B-119.85672299999999%2C%2038.978638999999994%5D%2C%20%5B-119.856623%2C%2038.978652999999994%5D%2C%20%5B-119.856499%2C%2038.97866999999997%5D%2C%20%5B-119.85640100000002%2C%2038.97868199999994%5D%2C%20%5B-119.85629000000002%2C%2038.978689999999986%5D%2C%20%5B-119.856177%2C%2038.978690999999976%5D%2C%20%5B-119.85608300000001%2C%2038.97868699999997%5D%2C%20%5B-119.855976%2C%2038.978676999999976%5D%2C%20%5B-119.855886%2C%2038.97866299999995%5D%2C%20%5B-119.855799%2C%2038.978643%5D%2C%20%5B-119.85572300000001%2C%2038.97862300000001%5D%2C%20%5B-119.85564199999999%2C%2038.97859700000001%5D%2C%20%5B-119.85555700000002%2C%2038.978562000000004%5D%2C%20%5B-119.85548600000001%2C%2038.97852899999998%5D%2C%20%5B-119.855404%2C%2038.978485999999975%5D%2C%20%5B-119.85532699999999%2C%2038.97844000000004%5D%2C%20%5B-119.85525%2C%2038.97838700000003%5D%2C%20%5B-119.855192%2C%2038.978341999999955%5D%2C%20%5B-119.855121%2C%2038.97827800000001%5D%2C%20%5B-119.85505600000002%2C%2038.97821199999998%5D%2C%20%5B-119.85498499999999%2C%2038.978129999999965%5D%2C%20%5B-119.854949%2C%2038.97807700000001%5D%2C%20%5B-119.85491200000001%2C%2038.978008999999986%5D%2C%20%5B-119.85488200000002%2C%2038.977935999999985%5D%2C%20%5B-119.85485599999998%2C%2038.97785500000001%5D%2C%20%5B-119.85483700000002%2C%2038.97777199999998%5D%2C%20%5B-119.854824%2C%2038.97769%5D%2C%20%5B-119.854818%2C%2038.97761599999999%5D%2C%20%5B-119.85481899999999%2C%2038.97752400000006%5D%2C%20%5B-119.85483000000002%2C%2038.97742999999998%5D%2C%20%5B-119.854848%2C%2038.97735599999997%5D%2C%20%5B-119.85488000000001%2C%2038.97726000000004%5D%2C%20%5B-119.854922%2C%2038.977157%5D%2C%20%5B-119.854971%2C%2038.97707200000001%5D%2C%20%5B-119.855031%2C%2038.97698400000002%5D%2C%20%5B-119.855084%2C%2038.976921000000004%5D%2C%20%5B-119.85514300000001%2C%2038.97686599999995%5D%2C%20%5B-119.855212%2C%2038.97681000000004%5D%2C%20%5B-119.85526900000002%2C%2038.97676700000001%5D%2C%20%5B-119.85535099999998%2C%2038.976715999999975%5D%2C%20%5B-119.85542600000001%2C%2038.97667400000001%5D%2C%20%5B-119.85552%2C%2038.97662900000001%5D%2C%20%5B-119.85560200000002%2C%2038.97659600000001%5D%2C%20%5B-119.855697%2C%2038.97656300000002%5D%2C%20%5B-119.85576800000001%2C%2038.97654300000001%5D%2C%20%5B-119.85585899999998%2C%2038.97652300000002%5D%2C%20%5B-119.85593899999999%2C%2038.97650999999999%5D%2C%20%5B-119.856016%2C%2038.97650100000004%5D%2C%20%5B-119.85609500000001%2C%2038.97649699999998%5D%2C%20%5B-119.856184%2C%2038.976493999999995%5D%2C%20%5B-119.85625700000001%2C%2038.976493999999995%5D%2C%20%5B-119.856343%2C%2038.97649999999999%5D%2C%20%5B-119.856435%2C%2038.976509%5D%2C%20%5B-119.856518%2C%2038.976520999999956%5D%2C%20%5B-119.856602%2C%2038.97653799999997%5D%2C%20%5B-119.856686%2C%2038.976557999999955%5D%2C%20%5B-119.856772%2C%2038.97658099999999%5D%2C%20%5B-119.85684%2C%2038.97660299999997%5D%2C%20%5B-119.856898%2C%2038.97662799999995%5D%2C%20%5B-119.85696000000002%2C%2038.97665700000001%5D%2C%20%5B-119.85702599999999%2C%2038.97669199999998%5D%2C%20%5B-119.857097%2C%2038.97673099999997%5D%2C%20%5B-119.85716699999999%2C%2038.97677599999996%5D%2C%20%5B-119.85723600000001%2C%2038.97682699999994%5D%2C%20%5B-119.85745500000002%2C%2038.97700200000004%5D%2C%20%5B-119.85776400000002%2C%2038.97723000000003%5D%2C%20%5B-119.857835%2C%2038.97727900000003%5D%2C%20%5B-119.85790500000002%2C%2038.977320999999954%5D%2C%20%5B-119.85797700000002%2C%2038.97736100000004%5D%2C%20%5B-119.858055%2C%2038.977401999999955%5D%2C%20%5B-119.858142%2C%2038.977436000000004%5D%2C%20%5B-119.85822100000001%2C%2038.97746500000003%5D%2C%20%5B-119.858309%2C%2038.977493999999986%5D%2C%20%5B-119.858385%2C%2038.97751299999994%5D%2C%20%5B-119.858468%2C%2038.97752799999999%5D%2C%20%5B-119.85854899999998%2C%2038.97754099999998%5D%2C%20%5B-119.858629%2C%2038.97754899999996%5D%2C%20%5B-119.858707%2C%2038.97755299999997%5D%2C%20%5B-119.858802%2C%2038.977554000000005%5D%2C%20%5B-119.858886%2C%2038.97755099999997%5D%2C%20%5B-119.85900700000002%2C%2038.97753899999998%5D%2C%20%5B-119.859117%2C%2038.97752%5D%2C%20%5B-119.859221%2C%2038.977496999999985%5D%2C%20%5B-119.859318%2C%2038.977467000000026%5D%2C%20%5B-119.859426%2C%2038.977428000000025%5D%2C%20%5B-119.85951200000001%2C%2038.977390000000064%5D%2C%20%5B-119.85959099999998%2C%2038.97734700000007%5D%2C%20%5B-119.859664%2C%2038.977302%5D%2C%20%5B-119.85972800000002%2C%2038.977259000000025%5D%2C%20%5B-119.85978300000001%2C%2038.97721699999995%5D%2C%20%5B-119.85983600000002%2C%2038.97716900000001%5D%2C%20%5B-119.859913%2C%2038.97709099999995%5D%2C%20%5B-119.859956%2C%2038.97704299999999%5D%2C%20%5B-119.859993%2C%2038.97699300000002%5D%2C%20%5B-119.86002299999998%2C%2038.97694199999999%5D%2C%20%5B-119.860057%2C%2038.976879000000025%5D%2C%20%5B-119.860085%2C%2038.976817999999966%5D%2C%20%5B-119.86011%2C%2038.97674899999999%5D%2C%20%5B-119.86013100000001%2C%2038.97668299999998%5D%2C%20%5B-119.860147%2C%2038.976622%5D%2C%20%5B-119.860159%2C%2038.97655000000002%5D%2C%20%5B-119.860168%2C%2038.97646699999999%5D%2C%20%5B-119.86017200000002%2C%2038.976404999999964%5D%2C%20%5B-119.860168%2C%2038.976337%5D%2C%20%5B-119.860161%2C%2038.976280999999986%5D%2C%20%5B-119.86014599999999%2C%2038.97621900000003%5D%2C%20%5B-119.860126%2C%2038.976155%5D%2C%20%5B-119.86009499999999%2C%2038.97608000000002%5D%2C%20%5B-119.860065%2C%2038.97602299999996%5D%2C%20%5B-119.860033%2C%2038.97596899999997%5D%2C%20%5B-119.85999200000002%2C%2038.97591299999999%5D%2C%20%5B-119.85995000000001%2C%2038.97585799999996%5D%2C%20%5B-119.859903%2C%2038.975806000000034%5D%2C%20%5B-119.859846%2C%2038.975751999999964%5D%2C%20%5B-119.85979700000001%2C%2038.97571099999996%5D%2C%20%5B-119.85972599999998%2C%2038.975651000000006%5D%2C%20%5B-119.85960500000002%2C%2038.975556000000026%5D%2C%20%5B-119.85791200000001%2C%2038.97423599999996%5D%2C%20%5B-119.85740200000001%2C%2038.97382600000002%5D%2C%20%5B-119.857317%2C%2038.97375399999997%5D%2C%20%5B-119.857233%2C%2038.973679000000025%5D%2C%20%5B-119.85715%2C%2038.973597999999996%5D%2C%20%5B-119.85709800000001%2C%2038.973546%5D%2C%20%5B-119.85703599999998%2C%2038.97347399999997%5D%2C%20%5B-119.85689000000002%2C%2038.97330299999996%5D%2C%20%5B-119.856814%2C%2038.97321199999999%5D%2C%20%5B-119.85674700000001%2C%2038.973132999999976%5D%2C%20%5B-119.85667700000002%2C%2038.973059%5D%2C%20%5B-119.85660599999999%2C%2038.972989%5D%2C%20%5B-119.856519%2C%2038.97291000000001%5D%2C%20%5B-119.856442%2C%2038.972851000000006%5D%2C%20%5B-119.856349%2C%2038.972783%5D%2C%20%5B-119.856242%2C%2038.972711000000004%5D%2C%20%5B-119.856138%2C%2038.97264899999999%5D%2C%20%5B-119.85602000000002%2C%2038.972588000000016%5D%2C%20%5B-119.85590900000001%2C%2038.97253200000006%5D%2C%20%5B-119.85579500000001%2C%2038.97247999999995%5D%2C%20%5B-119.855511%2C%2038.972357000000024%5D%2C%20%5B-119.85524200000002%2C%2038.97224500000001%5D%2C%20%5B-119.855155%2C%2038.97220599999999%5D%2C%20%5B-119.855077%2C%2038.97216599999997%5D%2C%20%5B-119.854993%2C%2038.97211699999999%5D%2C%20%5B-119.854908%2C%2038.97206399999995%5D%2C%20%5B-119.85478500000002%2C%2038.97198199999999%5D%2C%20%5B-119.85433300000001%2C%2038.97166699999999%5D%2C%20%5B-119.85329700000001%2C%2038.970914000000064%5D%2C%20%5B-119.85318299999999%2C%2038.97082599999999%5D%2C%20%5B-119.853094%2C%2038.97074599999997%5D%2C%20%5B-119.853024%2C%2038.97066900000001%5D%2C%20%5B-119.85295%2C%2038.970578%5D%2C%20%5B-119.85288600000001%2C%2038.970477999999986%5D%2C%20%5B-119.852824%2C%2038.970361%5D%2C%20%5B-119.85278100000001%2C%2038.97025400000001%5D%2C%20%5B-119.852748%2C%2038.970153999999944%5D%2C%20%5B-119.85272600000002%2C%2038.97005599999999%5D%2C%20%5B-119.85271200000001%2C%2038.969953000000004%5D%2C%20%5B-119.852709%2C%2038.96986299999997%5D%2C%20%5B-119.85271400000002%2C%2038.969785000000016%5D%2C%20%5B-119.852728%2C%2038.969687999999984%5D%2C%20%5B-119.852748%2C%2038.969595999999974%5D%2C%20%5B-119.852773%2C%2038.96952699999999%5D%2C%20%5B-119.85283%2C%2038.96941499999997%5D%2C%20%5B-119.852881%2C%2038.96932899999999%5D%2C%20%5B-119.852915%2C%2038.969276000000015%5D%2C%20%5B-119.852966%2C%2038.96921100000001%5D%2C%20%5B-119.853058%2C%2038.969102%5D%2C%20%5B-119.85312999999998%2C%2038.969030000000004%5D%2C%20%5B-119.853185%2C%2038.96897899999999%5D%2C%20%5B-119.853251%2C%2038.96892599999995%5D%2C%20%5B-119.853322%2C%2038.96887400000001%5D%2C%20%5B-119.85342000000001%2C%2038.968812999999955%5D%2C%20%5B-119.85353700000002%2C%2038.96874299999998%5D%2C%20%5B-119.853686%2C%2038.96865999999998%5D%2C%20%5B-119.854109%2C%2038.968435000000014%5D%2C%20%5B-119.85421000000001%2C%2038.968386000000024%5D%2C%20%5B-119.85432700000001%2C%2038.96834000000001%5D%2C%20%5B-119.854448%2C%2038.96829900000001%5D%2C%20%5B-119.854557%2C%2038.968268%5D%2C%20%5B-119.85466200000002%2C%2038.968243999999984%5D%2C%20%5B-119.854773%2C%2038.96822499999996%5D%2C%20%5B-119.85491500000002%2C%2038.96820900000006%5D%2C%20%5B-119.855045%2C%2038.96820500000001%5D%2C%20%5B-119.855169%2C%2038.968204%5D%2C%20%5B-119.855719%2C%2038.968212999999956%5D%2C%20%5B-119.85595600000002%2C%2038.968217000000024%5D%2C%20%5B-119.85606%2C%2038.968217000000024%5D%2C%20%5B-119.856158%2C%2038.968215000000015%5D%2C%20%5B-119.856268%2C%2038.968206%5D%2C%20%5B-119.85634799999998%2C%2038.96819900000004%5D%2C%20%5B-119.856451%2C%2038.96818%5D%2C%20%5B-119.856556%2C%2038.968159%5D%2C%20%5B-119.85665700000001%2C%2038.96812900000005%5D%2C%20%5B-119.85676%2C%2038.96808999999999%5D%2C%20%5B-119.85686900000002%2C%2038.96804700000001%5D%2C%20%5B-119.85697800000001%2C%2038.96799999999999%5D%2C%20%5B-119.85708000000001%2C%2038.96794699999998%5D%2C%20%5B-119.857178%2C%2038.96788800000001%5D%2C%20%5B-119.857276%2C%2038.96781699999996%5D%2C%20%5B-119.85737%2C%2038.967743999999946%5D%2C%20%5B-119.85768699999998%2C%2038.96748%5D%2C%20%5B-119.85783600000002%2C%2038.96735000000004%5D%2C%20%5B-119.85793200000002%2C%2038.967277000000024%5D%2C%20%5B-119.85800200000001%2C%2038.96723100000001%5D%2C%20%5B-119.85808000000002%2C%2038.96718499999999%5D%2C%20%5B-119.858168%2C%2038.96713899999999%5D%2C%20%5B-119.85827%2C%2038.96709500000002%5D%2C%20%5B-119.85836%2C%2038.967064999999984%5D%2C%20%5B-119.85846400000001%2C%2038.96703299999997%5D%2C%20%5B-119.85856900000002%2C%2038.96700900000002%5D%2C%20%5B-119.858681%2C%2038.966988000000036%5D%2C%20%5B-119.858808%2C%2038.966972000000005%5D%2C%20%5B-119.85892700000001%2C%2038.966964000000004%5D%2C%20%5B-119.85903199999998%2C%2038.96696299999994%5D%2C%20%5B-119.85918%2C%2038.966965%5D%2C%20%5B-119.859348%2C%2038.96696999999998%5D%2C%20%5B-119.85979199999998%2C%2038.966994%5D%2C%20%5B-119.859937%2C%2038.96700000000004%5D%2C%20%5B-119.860038%2C%2038.96700099999999%5D%2C%20%5B-119.860134%2C%2038.96700000000004%5D%2C%20%5B-119.860226%2C%2038.966992%5D%2C%20%5B-119.86033800000001%2C%2038.96697300000005%5D%2C%20%5B-119.860463%2C%2038.96694299999997%5D%2C%20%5B-119.860562%2C%2038.966910000000034%5D%2C%20%5B-119.86065599999999%2C%2038.96686999999997%5D%2C%20%5B-119.860742%2C%2038.96683000000001%5D%2C%20%5B-119.860831%2C%2038.96677999999997%5D%2C%20%5B-119.8609%2C%2038.96673399999993%5D%2C%20%5B-119.86097099999999%2C%2038.96667899999998%5D%2C%20%5B-119.861049%2C%2038.966610999999965%5D%2C%20%5B-119.86111599999998%2C%2038.966544%5D%2C%20%5B-119.861179%2C%2038.966470999999984%5D%2C%20%5B-119.86123800000001%2C%2038.96638699999998%5D%2C%20%5B-119.86128399999998%2C%2038.966304%5D%2C%20%5B-119.86132200000002%2C%2038.96621699999998%5D%2C%20%5B-119.86135500000002%2C%2038.96611500000001%5D%2C%20%5B-119.861371%2C%2038.96602000000002%5D%2C%20%5B-119.86137900000001%2C%2038.96592099999995%5D%2C%20%5B-119.861378%2C%2038.96583500000005%5D%2C%20%5B-119.861364%2C%2038.96573300000001%5D%2C%20%5B-119.86133400000001%2C%2038.96560200000005%5D%2C%20%5B-119.86127%2C%2038.96536000000002%5D%2C%20%5B-119.861237%2C%2038.965253%5D%2C%20%5B-119.86121100000001%2C%2038.965154%5D%2C%20%5B-119.861192%2C%2038.96506499999996%5D%2C%20%5B-119.86116600000001%2C%2038.96496399999999%5D%2C%20%5B-119.861152%2C%2038.964877000000044%5D%2C%20%5B-119.861133%2C%2038.96474699999999%5D%2C%20%5B-119.861107%2C%2038.96446900000008%5D%2C%20%5B-119.861094%2C%2038.96434699999996%5D%2C%20%5B-119.861081%2C%2038.964265%5D%2C%20%5B-119.86105899999998%2C%2038.96417100000003%5D%2C%20%5B-119.861036%2C%2038.96409900000001%5D%2C%20%5B-119.861005%2C%2038.964020000000005%5D%2C%20%5B-119.86096200000001%2C%2038.96393599999999%5D%2C%20%5B-119.860922%2C%2038.96386699999998%5D%2C%20%5B-119.860876%2C%2038.96379399999999%5D%2C%20%5B-119.86081200000001%2C%2038.96370700000002%5D%2C%20%5B-119.86073999999999%2C%2038.963631999999976%5D%2C%20%5B-119.860655%2C%2038.963553000000005%5D%2C%20%5B-119.86057500000001%2C%2038.963488%5D%2C%20%5B-119.860483%2C%2038.96342700000002%5D%2C%20%5B-119.86040399999999%2C%2038.96338300000003%5D%2C%20%5B-119.86029300000001%2C%2038.96333799999997%5D%2C%20%5B-119.86018400000002%2C%2038.96329899999999%5D%2C%20%5B-119.86007900000001%2C%2038.963272%5D%2C%20%5B-119.85995900000002%2C%2038.96324699999998%5D%2C%20%5B-119.85984%2C%2038.96323099999995%5D%2C%20%5B-119.859705%2C%2038.963223000000035%5D%2C%20%5B-119.85957499999999%2C%2038.96322499999997%5D%2C%20%5B-119.859433%2C%2038.96323600000002%5D%2C%20%5B-119.85930800000001%2C%2038.96325499999999%5D%2C%20%5B-119.859176%2C%2038.96328499999995%5D%2C%20%5B-119.858826%2C%2038.963389%5D%2C%20%5B-119.85871099999999%2C%2038.96341799999997%5D%2C%20%5B-119.85858799999998%2C%2038.96344499999999%5D%2C%20%5B-119.85849199999998%2C%2038.96346299999999%5D%2C%20%5B-119.85838900000002%2C%2038.963479%5D%2C%20%5B-119.85829299999999%2C%2038.96348799999997%5D%2C%20%5B-119.858166%2C%2038.963496%5D%2C%20%5B-119.85790300000001%2C%2038.96350499999999%5D%2C%20%5B-119.85672800000002%2C%2038.96354400000002%5D%2C%20%5B-119.856428%2C%2038.963553000000005%5D%2C%20%5B-119.85629099999998%2C%2038.96355399999996%5D%2C%20%5B-119.85615599999998%2C%2038.963546000000015%5D%2C%20%5B-119.85602000000002%2C%2038.963531%5D%2C%20%5B-119.855895%2C%2038.96350800000002%5D%2C%20%5B-119.855779%2C%2038.963476000000036%5D%2C%20%5B-119.855665%2C%2038.96343999999998%5D%2C%20%5B-119.855536%2C%2038.963387000000026%5D%2C%20%5B-119.85542000000001%2C%2038.963332000000044%5D%2C%20%5B-119.855289%2C%2038.96326100000004%5D%2C%20%5B-119.85516499999999%2C%2038.96317999999999%5D%2C%20%5B-119.85505400000001%2C%2038.963096999999976%5D%2C%20%5B-119.85448000000001%2C%2038.96264699999997%5D%2C%20%5B-119.85434100000002%2C%2038.962540000000004%5D%2C%20%5B-119.854268%2C%2038.96248500000003%5D%2C%20%5B-119.854197%2C%2038.96243600000005%5D%2C%20%5B-119.854112%2C%2038.96238200000003%5D%2C%20%5B-119.854042%2C%2038.96234200000002%5D%2C%20%5B-119.853951%2C%2038.96229700000002%5D%2C%20%5B-119.853855%2C%2038.962257000000015%5D%2C%20%5B-119.853755%2C%2038.962220999999964%5D%2C%20%5B-119.853636%2C%2038.962186999999965%5D%2C%20%5B-119.85351299999999%2C%2038.96215899999997%5D%2C%20%5B-119.85338399999999%2C%2038.962135000000046%5D%2C%20%5B-119.85327300000002%2C%2038.96212299999996%5D%2C%20%5B-119.853158%2C%2038.962116%5D%2C%20%5B-119.85303599999999%2C%2038.96211400000002%5D%2C%20%5B-119.852928%2C%2038.962116999999985%5D%2C%20%5B-119.852824%2C%2038.96212399999999%5D%2C%20%5B-119.85270800000002%2C%2038.96213799999999%5D%2C%20%5B-119.852596%2C%2038.962158999999986%5D%2C%20%5B-119.852467%2C%2038.962191000000026%5D%2C%20%5B-119.85235799999998%2C%2038.96222399999999%5D%2C%20%5B-119.85221899999999%2C%2038.96227400000001%5D%2C%20%5B-119.85153400000002%2C%2038.96251199999999%5D%2C%20%5B-119.851428%2C%2038.962546999999994%5D%2C%20%5B-119.851344%2C%2038.962574%5D%2C%20%5B-119.851263%2C%2038.96259599999999%5D%2C%20%5B-119.85115600000002%2C%2038.96262199999997%5D%2C%20%5B-119.851035%2C%2038.962643000000014%5D%2C%20%5B-119.85091699999998%2C%2038.962658%5D%2C%20%5B-119.850768%2C%2038.962670999999965%5D%2C%20%5B-119.85062100000002%2C%2038.962677000000035%5D%2C%20%5B-119.850419%2C%2038.962680999999954%5D%2C%20%5B-119.850091%2C%2038.962692%5D%2C%20%5B-119.84993%2C%2038.96269600000001%5D%2C%20%5B-119.84978699999999%2C%2038.96270499999999%5D%2C%20%5B-119.849635%2C%2038.96271599999998%5D%2C%20%5B-119.849437%2C%2038.96273299999997%5D%2C%20%5B-119.84915%2C%2038.96276100000003%5D%2C%20%5B-119.848925%2C%2038.96277999999997%5D%2C%20%5B-119.84879%2C%2038.962789%5D%2C%20%5B-119.848694%2C%2038.962787999999996%5D%2C%20%5B-119.848525%2C%2038.962777000000074%5D%2C%20%5B-119.848392%2C%2038.962761%5D%2C%20%5B-119.848258%2C%2038.96273299999997%5D%2C%20%5B-119.84813299999999%2C%2038.96269800000002%5D%2C%20%5B-119.84802%2C%2038.96266199999997%5D%2C%20%5B-119.84791100000001%2C%2038.96261899999997%5D%2C%20%5B-119.847799%2C%2038.96256699999998%5D%2C%20%5B-119.847703%2C%2038.96251199999999%5D%2C%20%5B-119.847594%2C%2038.962439%5D%2C%20%5B-119.84749900000001%2C%2038.962371000000005%5D%2C%20%5B-119.84740999999998%2C%2038.962291999999984%5D%2C%20%5B-119.847329%2C%2038.96221400000002%5D%2C%20%5B-119.847221%2C%2038.962097%5D%2C%20%5B-119.84714599999998%2C%2038.962007999999976%5D%2C%20%5B-119.84710099999998%2C%2038.96193999999998%5D%2C%20%5B-119.84705199999999%2C%2038.96185499999997%5D%2C%20%5B-119.84701000000001%2C%2038.961766000000004%5D%2C%20%5B-119.84697999999999%2C%2038.96167299999996%5D%2C%20%5B-119.84690199999999%2C%2038.96141799999999%5D%2C%20%5B-119.84670999999999%2C%2038.960808999999934%5D%2C%20%5B-119.846639%2C%2038.960564999999946%5D%2C%20%5B-119.84659899999998%2C%2038.96041700000002%5D%2C%20%5B-119.84656600000001%2C%2038.96029500000004%5D%2C%20%5B-119.846531%2C%2038.960183999999956%5D%2C%20%5B-119.846495%2C%2038.960064999999965%5D%2C%20%5B-119.846486%2C%2038.960019%5D%2C%20%5B-119.846474%2C%2038.959952000000015%5D%2C%20%5B-119.846467%2C%2038.959866999999974%5D%2C%20%5B-119.84646300000001%2C%2038.95975299999997%5D%2C%20%5B-119.84647200000002%2C%2038.959633%5D%2C%20%5B-119.846486%2C%2038.95954100000001%5D%2C%20%5B-119.846512%2C%2038.95943600000002%5D%2C%20%5B-119.846552%2C%2038.95933299999999%5D%2C%20%5B-119.846616%2C%2038.95920499999998%5D%2C%20%5B-119.846704%2C%2038.95907500000002%5D%2C%20%5B-119.84678500000001%2C%2038.95897600000001%5D%2C%20%5B-119.846888%2C%2038.95886200000002%5D%2C%20%5B-119.847048%2C%2038.95868099999999%5D%2C%20%5B-119.84719099999998%2C%2038.958521000000005%5D%2C%20%5B-119.84728299999999%2C%2038.95840799999999%5D%2C%20%5B-119.84737600000001%2C%2038.95829299999996%5D%2C%20%5B-119.847573%2C%2038.95805200000006%5D%2C%20%5B-119.847689%2C%2038.957918999999976%5D%2C%20%5B-119.84775100000002%2C%2038.957832999999944%5D%2C%20%5B-119.847804%2C%2038.95774799999998%5D%2C%20%5B-119.84785900000001%2C%2038.95764399999999%5D%2C%20%5B-119.84791100000001%2C%2038.957537000000016%5D%2C%20%5B-119.847947%2C%2038.95743500000004%5D%2C%20%5B-119.84797699999999%2C%2038.95734100000003%5D%2C%20%5B-119.84800399999999%2C%2038.957244%5D%2C%20%5B-119.84803%2C%2038.957133000000006%5D%2C%20%5B-119.84804600000001%2C%2038.95701599999998%5D%2C%20%5B-119.84804600000001%2C%2038.956931000000004%5D%2C%20%5B-119.848036%2C%2038.95684800000001%5D%2C%20%5B-119.84801500000002%2C%2038.95671300000004%5D%2C%20%5B-119.84795800000002%2C%2038.95639600000002%5D%2C%20%5B-119.84790700000002%2C%2038.95619899999997%5D%2C%20%5B-119.847882%2C%2038.956088999999984%5D%2C%20%5B-119.847869%2C%2038.95599599999999%5D%2C%20%5B-119.84786000000001%2C%2038.95588000000002%5D%2C%20%5B-119.847855%2C%2038.95576200000002%5D%2C%20%5B-119.84786600000001%2C%2038.955644999999976%5D%2C%20%5B-119.84789299999998%2C%2038.95551199999995%5D%2C%20%5B-119.84793%2C%2038.95539800000001%5D%2C%20%5B-119.848002%2C%2038.95523499999998%5D%2C%20%5B-119.84813899999999%2C%2038.954948%5D%2C%20%5B-119.848293%2C%2038.95459500000001%5D%2C%20%5B-119.84836799999998%2C%2038.954428%5D%2C%20%5B-119.848416%2C%2038.95430499999994%5D%2C%20%5B-119.848449%2C%2038.95420799999998%5D%2C%20%5B-119.84846900000001%2C%2038.95409899999996%5D%2C%20%5B-119.848482%2C%2038.954011000000015%5D%2C%20%5B-119.84848499999998%2C%2038.95390700000006%5D%2C%20%5B-119.848474%2C%2038.953774000000024%5D%2C%20%5B-119.84845399999999%2C%2038.95364799999998%5D%2C%20%5B-119.84843000000001%2C%2038.953553000000035%5D%2C%20%5B-119.848393%2C%2038.95344299999999%5D%2C%20%5B-119.848338%2C%2038.953330999999984%5D%2C%20%5B-119.84826%2C%2038.95315000000003%5D%2C%20%5B-119.848065%2C%2038.95270199999999%5D%2C%20%5B-119.848039%2C%2038.952646%5D%2C%20%5B-119.848011%2C%2038.95257%5D%2C%20%5B-119.84798800000002%2C%2038.95248000000001%5D%2C%20%5B-119.847969%2C%2038.952391999999996%5D%2C%20%5B-119.847953%2C%2038.952273000000005%5D%2C%20%5B-119.847947%2C%2038.952177999999996%5D%2C%20%5B-119.847953%2C%2038.952083%5D%2C%20%5B-119.847961%2C%2038.951993000000016%5D%2C%20%5B-119.847981%2C%2038.95188800000002%5D%2C%20%5B-119.84802%2C%2038.951734000000016%5D%2C%20%5B-119.848053%2C%2038.95163799999995%5D%2C%20%5B-119.848086%2C%2038.95157399999999%5D%2C%20%5B-119.84813600000001%2C%2038.95149200000001%5D%2C%20%5B-119.84822000000001%2C%2038.95137299999998%5D%2C%20%5B-119.84832299999998%2C%2038.95124399999998%5D%2C%20%5B-119.84840299999999%2C%2038.95113599999997%5D%2C%20%5B-119.848483%2C%2038.951021000000004%5D%2C%20%5B-119.84883299999998%2C%2038.95054000000003%5D%2C%20%5B-119.84911500000001%2C%2038.95017999999999%5D%2C%20%5B-119.849164%2C%2038.950103999999996%5D%2C%20%5B-119.849218%2C%2038.95000800000002%5D%2C%20%5B-119.84925600000001%2C%2038.949925%5D%2C%20%5B-119.849285%2C%2038.949835000000014%5D%2C%20%5B-119.849314%2C%2038.949723000000034%5D%2C%20%5B-119.84932799999999%2C%2038.949607999999955%5D%2C%20%5B-119.849332%2C%2038.94949999999999%5D%2C%20%5B-119.849326%2C%2038.949394000000034%5D%2C%20%5B-119.849314%2C%2038.94930299999996%5D%2C%20%5B-119.84929%2C%2038.94919499999999%5D%2C%20%5B-119.849248%2C%2038.94907000000002%5D%2C%20%5B-119.849203%2C%2038.94898299999997%5D%2C%20%5B-119.849132%2C%2038.94887600000003%5D%2C%20%5B-119.84903700000001%2C%2038.94876%5D%2C%20%5B-119.848939%2C%2038.94864499999999%5D%2C%20%5B-119.848815%2C%2038.948519999999974%5D%2C%20%5B-119.848675%2C%2038.948401000000004%5D%2C%20%5B-119.84851400000001%2C%2038.948289000000045%5D%2C%20%5B-119.84836700000001%2C%2038.94820599999998%5D%2C%20%5B-119.848164%2C%2038.94809299999997%5D%2C%20%5B-119.848011%2C%2038.94800999999999%5D%2C%20%5B-119.84756900000001%2C%2038.94778300000001%5D%2C%20%5B-119.84746800000002%2C%2038.947722000000034%5D%2C%20%5B-119.84738%2C%2038.947667%5D%2C%20%5B-119.84729%2C%2038.947591999999986%5D%2C%20%5B-119.84719299999999%2C%2038.94750299999997%5D%2C%20%5B-119.847116%2C%2038.947430000000004%5D%2C%20%5B-119.84704%2C%2038.94733699999999%5D%2C%20%5B-119.846958%2C%2038.94722099999993%5D%2C%20%5B-119.84689300000001%2C%2038.94711099999994%5D%2C%20%5B-119.84684800000001%2C%2038.94701699999998%5D%2C%20%5B-119.846801%2C%2038.946898000000004%5D%2C%20%5B-119.846769%2C%2038.94678800000002%5D%2C%20%5B-119.84674800000002%2C%2038.946685%5D%2C%20%5B-119.846737%2C%2038.94660099999998%5D%2C%20%5B-119.84673400000001%2C%2038.946491%5D%2C%20%5B-119.846743%2C%2038.94638499999999%5D%2C%20%5B-119.846763%2C%2038.94629800000003%5D%2C%20%5B-119.846804%2C%2038.946179%5D%2C%20%5B-119.84685099999999%2C%2038.946060000000024%5D%2C%20%5B-119.846969%2C%2038.945827000000016%5D%2C%20%5B-119.847324%2C%2038.94512900000004%5D%2C%20%5B-119.847439%2C%2038.944891000000005%5D%2C%20%5B-119.847677%2C%2038.94440099999997%5D%2C%20%5B-119.847711%2C%2038.94432%5D%2C%20%5B-119.847755%2C%2038.944197999999965%5D%2C%20%5B-119.84779699999999%2C%2038.94406799999996%5D%2C%20%5B-119.847824%2C%2038.943969000000024%5D%2C%20%5B-119.84786000000001%2C%2038.943823999999985%5D%2C%20%5B-119.847999%2C%2038.94328600000001%5D%2C%20%5B-119.848036%2C%2038.94311500000001%5D%2C%20%5B-119.84805800000001%2C%2038.94300700000002%5D%2C%20%5B-119.84807%2C%2038.942882999999945%5D%2C%20%5B-119.848081%2C%2038.94274500000002%5D%2C%20%5B-119.848084%2C%2038.942591000000036%5D%2C%20%5B-119.848088%2C%2038.942397%5D%2C%20%5B-119.848081%2C%2038.94221799999999%5D%2C%20%5B-119.84806600000002%2C%2038.94205900000001%5D%2C%20%5B-119.848041%2C%2038.941785999999986%5D%2C%20%5B-119.84799400000001%2C%2038.94154000000002%5D%2C%20%5B-119.847961%2C%2038.94139999999999%5D%2C%20%5B-119.8479%2C%2038.94118800000001%5D%2C%20%5B-119.84783500000002%2C%2038.94093999999999%5D%2C%20%5B-119.847755%2C%2038.94064999999999%5D%2C%20%5B-119.84767999999998%2C%2038.94036300000001%5D%2C%20%5B-119.847625%2C%2038.94015200000004%5D%2C%20%5B-119.847561%2C%2038.93993900000001%5D%2C%20%5B-119.847536%2C%2038.939845000000005%5D%2C%20%5B-119.847524%2C%2038.939756%5D%2C%20%5B-119.84751%2C%2038.939608000000014%5D%2C%20%5B-119.847507%2C%2038.939499000000005%5D%2C%20%5B-119.84750500000001%2C%2038.93937799999998%5D%2C%20%5B-119.847519%2C%2038.939209%5D%2C%20%5B-119.84753800000001%2C%2038.93908999999999%5D%2C%20%5B-119.847574%2C%2038.93894299999997%5D%2C%20%5B-119.847625%2C%2038.93876599999998%5D%2C%20%5B-119.847666%2C%2038.938629999999975%5D%2C%20%5B-119.847699%2C%2038.93849500000002%5D%2C%20%5B-119.847722%2C%2038.93838100000001%5D%2C%20%5B-119.847735%2C%2038.93826000000003%5D%2C%20%5B-119.84774900000001%2C%2038.938106%5D%2C%20%5B-119.847777%2C%2038.937764000000016%5D%2C%20%5B-119.84778400000002%2C%2038.937636999999995%5D%2C%20%5B-119.847789%2C%2038.93749999999999%5D%2C%20%5B-119.847786%2C%2038.93735199999999%5D%2C%20%5B-119.847777%2C%2038.93724999999997%5D%2C%20%5B-119.847753%2C%2038.93713900000001%5D%2C%20%5B-119.847711%2C%2038.93699499999998%5D%2C%20%5B-119.847567%2C%2038.93652600000008%5D%2C%20%5B-119.847527%2C%2038.93639700000004%5D%2C%20%5B-119.84750800000002%2C%2038.936283000000024%5D%2C%20%5B-119.84749399999998%2C%2038.93613900000001%5D%2C%20%5B-119.84749399999998%2C%2038.936018000000026%5D%2C%20%5B-119.84749999999998%2C%2038.935829999999974%5D%2C%20%5B-119.84751400000002%2C%2038.93517999999998%5D%2C%20%5B-119.84752000000002%2C%2038.93498499999998%5D%2C%20%5B-119.847516%2C%2038.93483800000001%5D%2C%20%5B-119.84750500000001%2C%2038.93468999999999%5D%2C%20%5B-119.847486%2C%2038.93454299999998%5D%2C%20%5B-119.847456%2C%2038.934391999999924%5D%2C%20%5B-119.847419%2C%2038.934243000000045%5D%2C%20%5B-119.847372%2C%2038.93409%5D%2C%20%5B-119.847305%2C%2038.93391299999998%5D%2C%20%5B-119.84722999999998%2C%2038.93375200000001%5D%2C%20%5B-119.847138%2C%2038.93357999999996%5D%2C%20%5B-119.84702800000001%2C%2038.93340800000001%5D%2C%20%5B-119.846916%2C%2038.933248999999975%5D%2C%20%5B-119.846827%2C%2038.933133000000005%5D%2C%20%5B-119.846693%2C%2038.932983%5D%2C%20%5B-119.846537%2C%2038.93282800000001%5D%2C%20%5B-119.846393%2C%2038.932696000000014%5D%2C%20%5B-119.846221%2C%2038.93256300000004%5D%2C%20%5B-119.84577900000001%2C%2038.93220799999998%5D%2C%20%5B-119.84445500000001%2C%2038.93115099999996%5D%2C%20%5B-119.842123%2C%2038.92930599999999%5D%2C%20%5B-119.841938%2C%2038.92916099999996%5D%2C%20%5B-119.84176799999999%2C%2038.929041%5D%2C%20%5B-119.841628%2C%2038.928956999999976%5D%2C%20%5B-119.84144900000001%2C%2038.928864000000004%5D%2C%20%5B-119.841306%2C%2038.92879699999999%5D%2C%20%5B-119.841228%2C%2038.92876699999996%5D%2C%20%5B-119.84111600000001%2C%2038.928723000000026%5D%2C%20%5B-119.840959%2C%2038.92867499999999%5D%2C%20%5B-119.84082199999999%2C%2038.92863699999995%5D%2C%20%5B-119.84064799999999%2C%2038.928598000000015%5D%2C%20%5B-119.84047100000001%2C%2038.928564999999985%5D%2C%20%5B-119.84026600000001%2C%2038.928541%5D%2C%20%5B-119.84008699999998%2C%2038.92852700000004%5D%2C%20%5B-119.83986399999999%2C%2038.92852200000001%5D%2C%20%5B-119.83962399999999%2C%2038.92852900000001%5D%2C%20%5B-119.83905699999998%2C%2038.92854700000001%5D%2C%20%5B-119.838673123581%2C%2038.92773648666009%5D%2C%20%5B-119.838428776242%2C%2038.92713166072598%5D%2C%20%5B-119.83802893514202%2C%2038.926319457788566%5D%2C%20%5B-119.837229252945%2C%2038.924418520946496%5D%2C%20%5B-119.836696131478%2C%2038.923053271242566%5D%2C%20%5B-119.834741352768%2C%2038.918611707546255%5D%2C%20%5B-119.83291985442202%2C%2038.914480976628994%5D%2C%20%5B-119.831160947677%2C%2038.91047883340958%5D%2C%20%5B-119.779430000604%2C%2038.910340812555674%5D%2C%20%5B-119.779135%2C%2038.904075000000034%5D%2C%20%5B-119.77913300000002%2C%2038.902871000000005%5D%2C%20%5B-119.779131%2C%2038.90181500000001%5D%2C%20%5B-119.779126%2C%2038.899587000000004%5D%2C%20%5B-119.77912199999999%2C%2038.898529999999965%5D%2C%20%5B-119.776219%2C%2038.898495000000004%5D%2C%20%5B-119.77286%2C%2038.89845600000003%5D%2C%20%5B-119.77272399999998%2C%2038.898441999999996%5D%2C%20%5B-119.77219199999999%2C%2038.89838399999996%5D%2C%20%5B-119.77141%2C%2038.89819600000002%5D%2C%20%5B-119.770716%2C%2038.89782300000004%5D%2C%20%5B-119.76974400000002%2C%2038.897174000000014%5D%2C%20%5B-119.76758600000001%2C%2038.89546499999999%5D%2C%20%5B-119.76703400000001%2C%2038.89515399999997%5D%2C%20%5B-119.76679600000001%2C%2038.89505299999997%5D%2C%20%5B-119.765797%2C%2038.89484800000001%5D%2C%20%5B-119.76436%2C%2038.894836999999995%5D%2C%20%5B-119.76061%2C%2038.894831999999994%5D%2C%20%5B-119.757482%2C%2038.89484900000002%5D%2C%20%5B-119.75089500000001%2C%2038.89484199999996%5D%2C%20%5B-119.74911499999999%2C%2038.89482999999996%5D%2C%20%5B-119.748774%2C%2038.894829000000016%5D%2C%20%5B-119.74839800000001%2C%2038.89484499999999%5D%2C%20%5B-119.748147%2C%2038.894863000000015%5D%2C%20%5B-119.747855%2C%2038.89490000000004%5D%2C%20%5B-119.747525%2C%2038.894959999999976%5D%2C%20%5B-119.747216%2C%2038.895026%5D%2C%20%5B-119.74687200000001%2C%2038.895118%5D%2C%20%5B-119.74567799999998%2C%2038.89544499999999%5D%2C%20%5B-119.74440400000002%2C%2038.89557199999997%5D%2C%20%5B-119.74437100000002%2C%2038.89517799999998%5D%2C%20%5B-119.74438809854%2C%2038.894621830566905%5D%2C%20%5B-119.74438382581002%2C%2038.89463513246362%5D%2C%20%5B-119.74437100000002%2C%2038.89517799999998%5D%2C%20%5B-119.74440400000002%2C%2038.89557199999997%5D%2C%20%5B-119.74334799999998%2C%2038.89558599999998%5D%2C%20%5B-119.74211000000001%2C%2038.89560300000005%5D%2C%20%5B-119.74210499999998%2C%2038.896146999999935%5D%2C%20%5B-119.74211000000001%2C%2038.896559000000046%5D%2C%20%5B-119.742103%2C%2038.89781600000004%5D%2C%20%5B-119.74210700000002%2C%2038.898467%5D%2C%20%5B-119.74210499999998%2C%2038.899236%5D%2C%20%5B-119.74210400000001%2C%2038.89929500000002%5D%2C%20%5B-119.74210499999998%2C%2038.89983700000006%5D%2C%20%5B-119.742108%2C%2038.90045900000003%5D%2C%20%5B-119.742112%2C%2038.901141000000024%5D%2C%20%5B-119.74212599999998%2C%2038.90180399999999%5D%2C%20%5B-119.74211700000001%2C%2038.90298299999999%5D%2C%20%5B-119.74211900000002%2C%2038.90342000000002%5D%2C%20%5B-119.74212%2C%2038.903842999999945%5D%2C%20%5B-119.742108%2C%2038.90418599999998%5D%2C%20%5B-119.742108%2C%2038.90646300000001%5D%2C%20%5B-119.742114%2C%2038.90741700000001%5D%2C%20%5B-119.742148%2C%2038.908818999999994%5D%2C%20%5B-119.74214900000001%2C%2038.908865999999996%5D%2C%20%5B-119.74214900000001%2C%2038.90890900000001%5D%2C%20%5B-119.74215500000001%2C%2038.90970400000003%5D%2C%20%5B-119.742108%2C%2038.912493999999995%5D%2C%20%5B-119.742079%2C%2038.914154999999994%5D%2C%20%5B-119.746735%2C%2038.914187999999996%5D%2C%20%5B-119.746874%2C%2038.914188999999965%5D%2C%20%5B-119.746879%2C%2038.91431699999999%5D%2C%20%5B-119.746852%2C%2038.91505700000001%5D%2C%20%5B-119.74686000000001%2C%2038.916886999999974%5D%2C%20%5B-119.746852%2C%2038.91865699999998%5D%2C%20%5B-119.74686000000001%2C%2038.922784000000014%5D%2C%20%5B-119.74692000000002%2C%2038.92509400000004%5D%2C%20%5B-119.746937%2C%2038.92559499999997%5D%2C%20%5B-119.74698%2C%2038.92853299999998%5D%2C%20%5B-119.747006%2C%2038.92915599999999%5D%2C%20%5B-119.747021%2C%2038.929363000000016%5D%2C%20%5B-119.747039%2C%2038.92952499999995%5D%2C%20%5B-119.747065%2C%2038.929675000000024%5D%2C%20%5B-119.747102%2C%2038.929817000000014%5D%2C%20%5B-119.74713900000002%2C%2038.92993499999999%5D%2C%20%5B-119.747201%2C%2038.93009400000002%5D%2C%20%5B-119.747275%2C%2038.930261000000016%5D%2C%20%5B-119.74737099999999%2C%2038.93045399999995%5D%2C%20%5B-119.74744200000002%2C%2038.93057999999999%5D%2C%20%5B-119.747533%2C%2038.93070799999995%5D%2C%20%5B-119.74765900000001%2C%2038.93087399999997%5D%2C%20%5B-119.74778100000002%2C%2038.931016000000014%5D%2C%20%5B-119.747916%2C%2038.931148999999955%5D%2C%20%5B-119.74804900000001%2C%2038.93127799999997%5D%2C%20%5B-119.74822000000002%2C%2038.931424%5D%2C%20%5B-119.74933199999998%2C%2038.93217299999992%5D%2C%20%5B-119.749356%2C%2038.93224900000004%5D%2C%20%5B-119.749342%2C%2038.93230200000001%5D%2C%20%5B-119.749302%2C%2038.932326999999994%5D%2C%20%5B-119.749117%2C%2038.93239099999998%5D%2C%20%5B-119.74563299999998%2C%2038.932405000000024%5D%2C%20%5B-119.74506%2C%2038.93240400000004%5D%2C%20%5B-119.744805%2C%2038.932431999999984%5D%2C%20%5B-119.74455799999998%2C%2038.93246799999999%5D%2C%20%5B-119.74433800000001%2C%2038.93252199999998%5D%2C%20%5B-119.744154%2C%2038.93256799999996%5D%2C%20%5B-119.74379%2C%2038.93269100000004%5D%2C%20%5B-119.743332%2C%2038.93290200000005%5D%2C%20%5B-119.74281599999999%2C%2038.93323999999999%5D%2C%20%5B-119.74272900000001%2C%2038.93330899999999%5D%2C%20%5B-119.74199600000001%2C%2038.933888000000024%5D%2C%20%5B-119.74181000000002%2C%2038.93403299999997%5D%2C%20%5B-119.741671%2C%2038.93393399999999%5D%2C%20%5B-119.741499%2C%2038.93387299999996%5D%2C%20%5B-119.740896%2C%2038.93374799999997%5D%2C%20%5B-119.740828%2C%2038.933733999999994%5D%2C%20%5B-119.740572%2C%2038.93367600000002%5D%2C%20%5B-119.74044099999999%2C%2038.93364699999998%5D%2C%20%5B-119.74034499999999%2C%2038.933628999999975%5D%2C%20%5B-119.7401%2C%2038.93358199999995%5D%2C%20%5B-119.739971%2C%2038.933556999999986%5D%5D%2C%20%22type%22%3A%20%22LineString%22%7D%2C%20%22id%22%3A%20%220%22%2C%20%22properties%22%3A%20%7B%22__folium_color%22%3A%20%22%23f7b6d2%22%2C%20%22agency%22%3A%20%22Tahoe%20Transportation%22%2C%20%22itp_id%22%3A%20331%2C%20%22route_id%22%3A%20%2212133%22%2C%20%22route_length%22%3A%20136537.2229069427%2C%20%22route_name%22%3A%20%22South%20Shore%20Service%20%5Cu0026%20Lake%20Express%20Daily%22%2C%20%22route_type%22%3A%20%223%22%7D%2C%20%22type%22%3A%20%22Feature%22%7D%2C%20%7B%22bbox%22%3A%20%5B-120.00556176348601%2C%2038.9123506171508%2C%20-119.94177599999999%2C%2038.958281999999954%5D%2C%20%22geometry%22%3A%20%7B%22coordinates%22%3A%20%5B%5B-120.004823%2C%2038.912993%5D%2C%20%5B-120.005380215466%2C%2038.91280147895385%5D%2C%20%5B-120.005465406895%2C%2038.91292478947341%5D%2C%20%5B-120.005505197747%2C%2038.912978080922%5D%2C%20%5B-120.00554636740202%2C%2038.91304908439529%5D%2C%20%5B-120.00556176348601%2C%2038.9130756856154%5D%2C%20%5B-120.00544377211702%2C%2038.913124562371095%5D%2C%20%5B-120.005264637865%2C%2038.913198552492126%5D%2C%20%5B-120.005077459678%2C%2038.913273190352825%5D%2C%20%5B-120.00494655413301%2C%2038.9133260707418%5D%2C%20%5B-120.00482007417801%2C%2038.913377589240085%5D%2C%20%5B-120.004714889177%2C%2038.91341962042102%5D%2C%20%5B-120.00461115313502%2C%2038.91346242316368%5D%2C%20%5B-120.004400900931%2C%2038.91354112845154%5D%2C%20%5B-120.00380867258%2C%2038.91373674822053%5D%2C%20%5B-120.00335663241098%2C%2038.91395300708709%5D%2C%20%5B-120.00290963498%2C%2038.91423829947258%5D%2C%20%5B-120.00258402061802%2C%2038.914444145400346%5D%2C%20%5B-120.00199621615502%2C%2038.914838542852586%5D%2C%20%5B-120.00172028113101%2C%2038.915022307048176%5D%2C%20%5B-120.001386585937%2C%2038.915244373703885%5D%2C%20%5B-120.001118516541%2C%2038.915413112059646%5D%2C%20%5B-120.000726207711%2C%2038.91568423022328%5D%2C%20%5B-120.00040699989901%2C%2038.915907949230004%5D%2C%20%5B-120.000138962819%2C%2038.91608237376078%5D%2C%20%5B-120.00000738097401%2C%2038.91617716950599%5D%2C%20%5B-119.999866052328%2C%2038.91605014317951%5D%2C%20%5B-119.999622382247%2C%2038.91583969607443%5D%2C%20%5B-119.99934393296202%2C%2038.915559150735916%5D%2C%20%5B-119.99915874369599%2C%2038.91538851682304%5D%2C%20%5B-119.998971117733%2C%2038.91522925813078%5D%2C%20%5B-119.998766434908%2C%2038.91503018431248%5D%2C%20%5B-119.99865922007%2C%2038.91490315593311%5D%2C%20%5B-119.998635578982%2C%2038.9147805855644%5D%2C%20%5B-119.998629640087%2C%2038.914521812190706%5D%2C%20%5B-119.998641800378%2C%2038.914216002581995%5D%2C%20%5B-119.998626953125%2C%2038.91377651394031%5D%2C%20%5B-119.998632892033%2C%2038.9131734696535%5D%2C%20%5B-119.99862398368%2C%2038.91266306535841%5D%2C%20%5B-119.99862398368%2C%2038.91249670619351%5D%2C%20%5B-119.99862101422998%2C%2038.912351141606386%5D%2C%20%5B-119.99759358483799%2C%2038.912351141606386%5D%2C%20%5B-119.99751125757899%2C%2038.9123506171508%5D%2C%20%5B-119.997536%2C%2038.91235500000001%5D%2C%20%5B-119.99661900000001%2C%2038.91235100000002%5D%2C%20%5B-119.99663100000001%2C%2038.91443599999996%5D%2C%20%5B-119.996635%2C%2038.915110000000006%5D%2C%20%5B-119.996635%2C%2038.91590299999997%5D%2C%20%5B-119.99669399999999%2C%2038.91606199999995%5D%2C%20%5B-119.996812%2C%2038.91619499999998%5D%2C%20%5B-119.99701%2C%2038.91628299999998%5D%2C%20%5B-119.99719800000001%2C%2038.91632100000003%5D%2C%20%5B-119.997402%2C%2038.91633300000005%5D%2C%20%5B-119.99827399999998%2C%2038.91632499999997%5D%2C%20%5B-119.998418%2C%2038.916350000000016%5D%2C%20%5B-119.99853100000001%2C%2038.91640100000003%5D%2C%20%5B-119.998644%2C%2038.916475999999975%5D%2C%20%5B-119.999038%2C%2038.91684500000003%5D%2C%20%5B-119.998594%2C%2038.917141000000015%5D%2C%20%5B-119.997124%2C%2038.91811999999999%5D%2C%20%5B-119.99610800000002%2C%2038.91879800000003%5D%2C%20%5B-119.99567300000001%2C%2038.919084%5D%2C%20%5B-119.99533400000001%2C%2038.91931099999996%5D%2C%20%5B-119.995189%2C%2038.91940799999995%5D%2C%20%5B-119.994711%2C%2038.919720999999974%5D%2C%20%5B-119.99424600000002%2C%2038.92002999999999%5D%2C%20%5B-119.99390400000001%2C%2038.920259999999985%5D%2C%20%5B-119.993303%2C%2038.92065899999997%5D%2C%20%5B-119.99316900000001%2C%2038.920748000000025%5D%2C%20%5B-119.992473%2C%2038.921209999999995%5D%2C%20%5B-119.991967%2C%2038.92154100000001%5D%2C%20%5B-119.99090599999998%2C%2038.922237999999986%5D%2C%20%5B-119.99055199999998%2C%2038.922478000000005%5D%2C%20%5B-119.990022%2C%2038.92283399999999%5D%2C%20%5B-119.98874600000002%2C%2038.92367399999999%5D%2C%20%5B-119.987574%2C%2038.92445400000005%5D%2C%20%5B-119.987255%2C%2038.92466400000003%5D%2C%20%5B-119.98717900000001%2C%2038.92471399999997%5D%2C%20%5B-119.98626099999998%2C%2038.92532800000001%5D%2C%20%5B-119.98618299999998%2C%2038.92537899999997%5D%2C%20%5B-119.984823%2C%2038.92627899999999%5D%2C%20%5B-119.984713%2C%2038.926353000000006%5D%2C%20%5B-119.984448%2C%2038.92652800000002%5D%2C%20%5B-119.983758%2C%2038.926981999999974%5D%2C%20%5B-119.983644%2C%2038.927061999999985%5D%2C%20%5B-119.983557%2C%2038.92712000000001%5D%2C%20%5B-119.98308100000001%2C%2038.92744600000004%5D%2C%20%5B-119.982789%2C%2038.927647000000036%5D%2C%20%5B-119.98254299999999%2C%2038.92783399999999%5D%2C%20%5B-119.982274%2C%2038.92804199999997%5D%2C%20%5B-119.98213200000001%2C%2038.92815799999998%5D%2C%20%5B-119.98197599999999%2C%2038.928286%5D%2C%20%5B-119.98172100000001%2C%2038.92850199999998%5D%2C%20%5B-119.981245%2C%2038.928930000000015%5D%2C%20%5B-119.981059%2C%2038.92911400000001%5D%2C%20%5B-119.980914%2C%2038.92926299999997%5D%2C%20%5B-119.98059500000001%2C%2038.92959499999998%5D%2C%20%5B-119.980227%2C%2038.93001200000001%5D%2C%20%5B-119.97998599999998%2C%2038.93030000000004%5D%2C%20%5B-119.979777%2C%2038.930554%5D%2C%20%5B-119.979378%2C%2038.931095999999975%5D%2C%20%5B-119.97921399999998%2C%2038.93133700000001%5D%2C%20%5B-119.97907899999998%2C%2038.931540999999996%5D%2C%20%5B-119.97895599999998%2C%2038.93173400000004%5D%2C%20%5B-119.978837%2C%2038.931936999999984%5D%2C%20%5B-119.97863499999998%2C%2038.93229599999996%5D%2C%20%5B-119.97847800000001%2C%2038.932590000000076%5D%2C%20%5B-119.97840300000001%2C%2038.93274299999992%5D%2C%20%5B-119.978327%2C%2038.93289499999999%5D%2C%20%5B-119.978182%2C%2038.93321300000001%5D%2C%20%5B-119.978027%2C%2038.933575%5D%2C%20%5B-119.97788700000001%2C%2038.93357399999995%5D%2C%20%5B-119.978027%2C%2038.933575%5D%2C%20%5B-119.97792800000002%2C%2038.93383600000001%5D%2C%20%5B-119.977755%2C%2038.934358%5D%2C%20%5B-119.976829%2C%2038.934363999999995%5D%2C%20%5B-119.97607599999999%2C%2038.93436899999998%5D%2C%20%5B-119.975096%2C%2038.934375000000045%5D%2C%20%5B-119.97479399999999%2C%2038.934378%5D%2C%20%5B-119.974628%2C%2038.93437300000002%5D%2C%20%5B-119.974492%2C%2038.93436199999999%5D%2C%20%5B-119.974332%2C%2038.934336999999985%5D%2C%20%5B-119.974164%2C%2038.934294000000044%5D%2C%20%5B-119.973978%2C%2038.93423500000001%5D%2C%20%5B-119.97383599999999%2C%2038.934173999999985%5D%2C%20%5B-119.973685%2C%2038.934100000000015%5D%2C%20%5B-119.97353699999998%2C%2038.934017999999966%5D%2C%20%5B-119.97340900000002%2C%2038.93392600000001%5D%2C%20%5B-119.97329599999999%2C%2038.933834999999995%5D%2C%20%5B-119.97321100000002%2C%2038.933755999999974%5D%2C%20%5B-119.97308200000002%2C%2038.93361%5D%2C%20%5B-119.973052%2C%2038.93357599999995%5D%2C%20%5B-119.971791%2C%2038.932110000000016%5D%2C%20%5B-119.971714%2C%2038.93202099999994%5D%2C%20%5B-119.97118899999998%2C%2038.93142700000001%5D%2C%20%5B-119.970594%2C%2038.930789000000004%5D%2C%20%5B-119.96994500000001%2C%2038.93004100000002%5D%2C%20%5B-119.969706%2C%2038.92976900000002%5D%2C%20%5B-119.969577%2C%2038.92963499999996%5D%2C%20%5B-119.969433%2C%2038.92949599999997%5D%2C%20%5B-119.96868000000002%2C%2038.928815999999976%5D%2C%20%5B-119.96879599999998%2C%2038.92874399999999%5D%2C%20%5B-119.969331%2C%2038.92839%5D%2C%20%5B-119.969242%2C%2038.92828000000004%5D%2C%20%5B-119.969191%2C%2038.92817100000003%5D%2C%20%5B-119.969159%2C%2038.928037999999965%5D%2C%20%5B-119.96916800000001%2C%2038.92792599999999%5D%2C%20%5B-119.96921500000002%2C%2038.927806000000025%5D%2C%20%5B-119.96927899999999%2C%2038.92769299999999%5D%2C%20%5B-119.969372%2C%2038.92759200000005%5D%2C%20%5B-119.969496%2C%2038.92747700000003%5D%2C%20%5B-119.96962600000002%2C%2038.92737199999998%5D%2C%20%5B-119.96983999999999%2C%2038.92722899999999%5D%2C%20%5B-119.970027%2C%2038.927136000000026%5D%2C%20%5B-119.97023899999999%2C%2038.927051%5D%2C%20%5B-119.97046%2C%2038.926984999999995%5D%2C%20%5B-119.971456%2C%2038.926779999999994%5D%2C%20%5B-119.97153000000002%2C%2038.92685200000001%5D%2C%20%5B-119.971648%2C%2038.926861999999986%5D%2C%20%5B-119.97169600000001%2C%2038.92683199999998%5D%2C%20%5B-119.97174%2C%2038.926804000000004%5D%2C%20%5B-119.971753%2C%2038.92671300000002%5D%2C%20%5B-119.971679%2C%2038.92664099999998%5D%2C%20%5B-119.971562%2C%2038.92662999999998%5D%2C%20%5B-119.97152400000002%2C%2038.926653999999985%5D%2C%20%5B-119.971524980946%2C%2038.92665317683722%5D%2C%20%5B-119.971469%2C%2038.92668799999996%5D%2C%20%5B-119.971456%2C%2038.926779999999994%5D%2C%20%5B-119.97046%2C%2038.926984999999995%5D%2C%20%5B-119.97023899999999%2C%2038.927051%5D%2C%20%5B-119.970027%2C%2038.927136000000026%5D%2C%20%5B-119.969841%2C%2038.92722899999999%5D%2C%20%5B-119.96962600000002%2C%2038.92737199999998%5D%2C%20%5B-119.969496%2C%2038.92747700000003%5D%2C%20%5B-119.969372%2C%2038.92759200000005%5D%2C%20%5B-119.96927899999999%2C%2038.92769299999999%5D%2C%20%5B-119.96921500000002%2C%2038.927806000000025%5D%2C%20%5B-119.96916800000001%2C%2038.92792699999998%5D%2C%20%5B-119.969159%2C%2038.928037999999965%5D%2C%20%5B-119.969191%2C%2038.92817100000003%5D%2C%20%5B-119.969331%2C%2038.92839%5D%2C%20%5B-119.96943%2C%2038.92846899999998%5D%2C%20%5B-119.969835%2C%2038.92883799999998%5D%2C%20%5B-119.96996600000001%2C%2038.928946000000025%5D%2C%20%5B-119.97010399999999%2C%2038.929039000000024%5D%2C%20%5B-119.970252%2C%2038.929111999999996%5D%2C%20%5B-119.97055700000001%2C%2038.929224999999974%5D%2C%20%5B-119.971004434789%2C%2038.929383430237344%5D%2C%20%5B-119.97135740249901%2C%2038.92966465917902%5D%2C%20%5B-119.971659873214%2C%2038.93020142931577%5D%2C%20%5B-119.97187727404001%2C%2038.930477165816%5D%2C%20%5B-119.972124606533%2C%2038.9307092406818%5D%2C%20%5B-119.972482215465%2C%2038.93097348882463%5D%2C%20%5B-119.972554682075%2C%2038.931113650953776%5D%2C%20%5B-119.97256886039001%2C%2038.931297473046676%5D%2C%20%5B-119.97247600000001%2C%2038.931294999999984%5D%2C%20%5B-119.972430130142%2C%2038.9316805524123%5D%2C%20%5B-119.97174490579302%2C%2038.9320491912069%5D%2C%20%5B-119.971930620802%2C%2038.93228332565923%5D%2C%20%5B-119.972571017394%2C%2038.933060447242184%5D%2C%20%5B-119.97263100000002%2C%2038.93331299999997%5D%2C%20%5B-119.972766%2C%2038.933243%5D%2C%20%5B-119.973052%2C%2038.93357599999995%5D%2C%20%5B-119.97321199999999%2C%2038.93375700000006%5D%2C%20%5B-119.97329599999999%2C%2038.93383600000001%5D%2C%20%5B-119.97340900000002%2C%2038.93392600000001%5D%2C%20%5B-119.97353699999998%2C%2038.93401899999997%5D%2C%20%5B-119.973685%2C%2038.934100000000015%5D%2C%20%5B-119.97383599999999%2C%2038.934173999999985%5D%2C%20%5B-119.973978%2C%2038.93423500000001%5D%2C%20%5B-119.974164%2C%2038.934294000000044%5D%2C%20%5B-119.974332%2C%2038.934336999999985%5D%2C%20%5B-119.974492%2C%2038.93436199999999%5D%2C%20%5B-119.974628%2C%2038.93437300000002%5D%2C%20%5B-119.97479399999999%2C%2038.934378%5D%2C%20%5B-119.975096%2C%2038.934375000000045%5D%2C%20%5B-119.976829%2C%2038.934363999999995%5D%2C%20%5B-119.976753%2C%2038.93444899999999%5D%2C%20%5B-119.97720871976601%2C%2038.93436546260431%5D%2C%20%5B-119.97773389339001%2C%2038.93437379975086%5D%2C%20%5B-119.97755169027499%2C%2038.93514914014196%5D%2C%20%5B-119.97712399999999%2C%2038.93744100000004%5D%2C%20%5B-119.977252%2C%2038.93744100000002%5D%2C%20%5B-119.977254%2C%2038.937801999999984%5D%2C%20%5B-119.97725299999999%2C%2038.93787900000001%5D%2C%20%5B-119.977249%2C%2038.93797000000005%5D%2C%20%5B-119.977243%2C%2038.938244000000005%5D%2C%20%5B-119.977243%2C%2038.93909199999998%5D%2C%20%5B-119.97723500000001%2C%2038.93961500000004%5D%2C%20%5B-119.977233%2C%2038.939802000000014%5D%2C%20%5B-119.977228%2C%2038.94008599999998%5D%2C%20%5B-119.977228%2C%2038.94078499999998%5D%2C%20%5B-119.97693%2C%2038.94078999999997%5D%2C%20%5B-119.976928%2C%2038.94043200000003%5D%2C%20%5B-119.97693%2C%2038.94078999999997%5D%2C%20%5B-119.977228%2C%2038.94078499999998%5D%2C%20%5B-119.977228%2C%2038.940854000000016%5D%2C%20%5B-119.977222%2C%2038.94131599999999%5D%2C%20%5B-119.977215%2C%2038.94162700000003%5D%2C%20%5B-119.977215%2C%2038.941697%5D%2C%20%5B-119.97720500000001%2C%2038.94211700000001%5D%2C%20%5B-119.977197%2C%2038.942288000000005%5D%2C%20%5B-119.977182%2C%2038.94250599999998%5D%2C%20%5B-119.97716899999999%2C%2038.94262199999996%5D%2C%20%5B-119.97715%2C%2038.94272200000001%5D%2C%20%5B-119.97712199999998%2C%2038.94284099999997%5D%2C%20%5B-119.977087%2C%2038.942949%5D%2C%20%5B-119.977053%2C%2038.943034000000004%5D%2C%20%5B-119.977015%2C%2038.94313499999999%5D%2C%20%5B-119.97695500000002%2C%2038.943250999999954%5D%2C%20%5B-119.976881%2C%2038.94337799999999%5D%2C%20%5B-119.976807%2C%2038.943503999999976%5D%2C%20%5B-119.97674200000002%2C%2038.94360300000001%5D%2C%20%5B-119.97666400000001%2C%2038.943712999999995%5D%2C%20%5B-119.97657100000002%2C%2038.94382500000001%5D%2C%20%5B-119.976468%2C%2038.94394699999994%5D%2C%20%5B-119.97638299999998%2C%2038.94404099999997%5D%2C%20%5B-119.97627700000001%2C%2038.944151999999995%5D%2C%20%5B-119.976205%2C%2038.944211999999986%5D%2C%20%5B-119.97609300000002%2C%2038.94429599999999%5D%2C%20%5B-119.97595899999999%2C%2038.94439700000002%5D%2C%20%5B-119.975826%2C%2038.94448499999999%5D%2C%20%5B-119.97570099999999%2C%2038.944557999999994%5D%2C%20%5B-119.97555700000001%2C%2038.944641999999995%5D%2C%20%5B-119.97541800000002%2C%2038.94471099999996%5D%2C%20%5B-119.97527100000002%2C%2038.94478000000003%5D%2C%20%5B-119.975096%2C%2038.94485199999999%5D%2C%20%5B-119.974955%2C%2038.944903999999994%5D%2C%20%5B-119.974826%2C%2038.94494999999994%5D%2C%20%5B-119.974681%2C%2038.94499299999998%5D%2C%20%5B-119.97450900000001%2C%2038.945038999999994%5D%2C%20%5B-119.974336%2C%2038.94508599999998%5D%2C%20%5B-119.974147%2C%2038.94513499999998%5D%2C%20%5B-119.973567%2C%2038.94526800000007%5D%2C%20%5B-119.973026%2C%2038.94539200000001%5D%2C%20%5B-119.97288100000002%2C%2038.94542199999997%5D%2C%20%5B-119.972363%2C%2038.94554200000002%5D%2C%20%5B-119.97180600000002%2C%2038.94566400000001%5D%2C%20%5B-119.971605%2C%2038.94570399999999%5D%2C%20%5B-119.971444%2C%2038.94573000000001%5D%2C%20%5B-119.971264%2C%2038.94575700000001%5D%2C%20%5B-119.97108899999999%2C%2038.945780000000006%5D%2C%20%5B-119.97088799999999%2C%2038.94579599999999%5D%2C%20%5B-119.97070700000002%2C%2038.94580699999999%5D%2C%20%5B-119.970555%2C%2038.945813%5D%2C%20%5B-119.970369%2C%2038.94581500000001%5D%2C%20%5B-119.970176%2C%2038.94581099999999%5D%2C%20%5B-119.969988%2C%2038.945804%5D%2C%20%5B-119.969904%2C%2038.94579900000001%5D%2C%20%5B-119.96980699999999%2C%2038.945793000000016%5D%2C%20%5B-119.969611%2C%2038.94577699999999%5D%2C%20%5B-119.969424%2C%2038.94575400000001%5D%2C%20%5B-119.96925199999998%2C%2038.945729000000014%5D%2C%20%5B-119.968788%2C%2038.945651000000005%5D%2C%20%5B-119.96869200000002%2C%2038.94563499999995%5D%2C%20%5B-119.968586%2C%2038.945616999999984%5D%2C%20%5B-119.96840800000001%2C%2038.94558800000001%5D%2C%20%5B-119.96824600000001%2C%2038.945566999999976%5D%2C%20%5B-119.96811300000002%2C%2038.94555299999997%5D%2C%20%5B-119.96797899999999%2C%2038.945543999999984%5D%2C%20%5B-119.96782800000001%2C%2038.94553700000001%5D%2C%20%5B-119.967724%2C%2038.945533000000005%5D%2C%20%5B-119.967602%2C%2038.94553099999998%5D%2C%20%5B-119.967452%2C%2038.945533000000005%5D%2C%20%5B-119.967338%2C%2038.945535999999976%5D%2C%20%5B-119.967197%2C%2038.945543999999984%5D%2C%20%5B-119.967146%2C%2038.94554699999998%5D%2C%20%5B-119.967085%2C%2038.945551000000016%5D%2C%20%5B-119.96700500000001%2C%2038.945555999999975%5D%2C%20%5B-119.96682500000001%2C%2038.94557200000003%5D%2C%20%5B-119.96664800000002%2C%2038.94559200000001%5D%2C%20%5B-119.966506%2C%2038.945610999999964%5D%2C%20%5B-119.966391%2C%2038.94562700000004%5D%2C%20%5B-119.966223%2C%2038.945655000000016%5D%2C%20%5B-119.96607899999998%2C%2038.945686999999964%5D%2C%20%5B-119.965932%2C%2038.945719000000004%5D%2C%20%5B-119.965785%2C%2038.94575600000004%5D%2C%20%5B-119.96559100000002%2C%2038.94581%5D%2C%20%5B-119.965247%2C%2038.945913%5D%2C%20%5B-119.965028%2C%2038.94597799999999%5D%2C%20%5B-119.964644%2C%2038.94609099999997%5D%2C%20%5B-119.964539%2C%2038.94612199999999%5D%2C%20%5B-119.963474677224%2C%2038.94643176383531%5D%2C%20%5B-119.96346944335001%2C%2038.946435834397214%5D%2C%20%5B-119.96155000000002%2C%2038.94700599999999%5D%2C%20%5B-119.96151100000002%2C%2038.94701800000001%5D%2C%20%5B-119.96085%2C%2038.947212999999984%5D%2C%20%5B-119.960728%2C%2038.94725199999999%5D%2C%20%5B-119.96069800000001%2C%2038.947262%5D%2C%20%5B-119.96066%2C%2038.94727499999997%5D%2C%20%5B-119.960495%2C%2038.947331000000005%5D%2C%20%5B-119.96032500000001%2C%2038.947393%5D%2C%20%5B-119.96014599999998%2C%2038.94745699999999%5D%2C%20%5B-119.95999800000001%2C%2038.947513999999984%5D%2C%20%5B-119.959865%2C%2038.947566000000016%5D%2C%20%5B-119.95951%2C%2038.94771500000004%5D%2C%20%5B-119.959119%2C%2038.94788699999996%5D%2C%20%5B-119.95881003747401%2C%2038.94802227103164%5D%2C%20%5B-119.95881400000002%2C%2038.94802400000005%5D%2C%20%5B-119.95759900000002%2C%2038.94856699999997%5D%2C%20%5B-119.957459%2C%2038.94862899999999%5D%2C%20%5B-119.95702500000002%2C%2038.948821999999964%5D%2C%20%5B-119.95621200000001%2C%2038.949184000000024%5D%2C%20%5B-119.95552500000001%2C%2038.94949%5D%2C%20%5B-119.954713%2C%2038.949853000000004%5D%2C%20%5B-119.95356100000001%2C%2038.95037000000006%5D%2C%20%5B-119.952981%2C%2038.95063100000004%5D%2C%20%5B-119.95278500000002%2C%2038.95071899999997%5D%2C%20%5B-119.952283%2C%2038.95094400000003%5D%2C%20%5B-119.95174199999998%2C%2038.951187000000004%5D%2C%20%5B-119.95140100000002%2C%2038.95133899999997%5D%2C%20%5B-119.951096854978%2C%2038.95146443707437%5D%2C%20%5B-119.951061%2C%2038.95141199999999%5D%2C%20%5B-119.951101%2C%2038.951473999999955%5D%2C%20%5B-119.95017799999998%2C%2038.951887%5D%2C%20%5B-119.94965199999999%2C%2038.95211999999999%5D%2C%20%5B-119.949071%2C%2038.952377%5D%2C%20%5B-119.94857099999999%2C%2038.95260199999998%5D%2C%20%5B-119.948129%2C%2038.95279799999999%5D%2C%20%5B-119.94776600000002%2C%2038.95296300000005%5D%2C%20%5B-119.947605%2C%2038.95303700000001%5D%2C%20%5B-119.947554%2C%2038.95306099999998%5D%2C%20%5B-119.94737800000001%2C%2038.95314500000005%5D%2C%20%5B-119.947286%2C%2038.953189%5D%2C%20%5B-119.947221%2C%2038.953223000000015%5D%2C%20%5B-119.94706600000002%2C%2038.95330399999999%5D%2C%20%5B-119.94694200000002%2C%2038.953373%5D%2C%20%5B-119.94674499999999%2C%2038.95348900000002%5D%2C%20%5B-119.946431%2C%2038.953687%5D%2C%20%5B-119.946393%2C%2038.95371199999998%5D%2C%20%5B-119.94623499999999%2C%2038.953816000000025%5D%2C%20%5B-119.94607200000002%2C%2038.953923999999965%5D%2C%20%5B-119.94598900000001%2C%2038.953979%5D%2C%20%5B-119.945785%2C%2038.954132000000044%5D%2C%20%5B-119.945722%2C%2038.95418100000002%5D%2C%20%5B-119.945677%2C%2038.954214999999984%5D%2C%20%5B-119.945603%2C%2038.95427700000001%5D%2C%20%5B-119.94553499999999%2C%2038.95433800000002%5D%2C%20%5B-119.945471%2C%2038.95440600000003%5D%2C%20%5B-119.94546300000002%2C%2038.95441500000003%5D%2C%20%5B-119.94537699999998%2C%2038.95450599999996%5D%2C%20%5B-119.945261%2C%2038.95463299999995%5D%2C%20%5B-119.94523100000002%2C%2038.95466900000002%5D%2C%20%5B-119.94511%2C%2038.954799%5D%2C%20%5B-119.94498500000002%2C%2038.95494600000003%5D%2C%20%5B-119.944892%2C%2038.955052999999985%5D%2C%20%5B-119.94479999999999%2C%2038.95517299999998%5D%2C%20%5B-119.94466400000002%2C%2038.955375999999966%5D%2C%20%5B-119.94458600000002%2C%2038.955481999999996%5D%2C%20%5B-119.944029%2C%2038.95628700000002%5D%2C%20%5B-119.943615%2C%2038.95690499999994%5D%2C%20%5B-119.943572%2C%2038.956967999999996%5D%2C%20%5B-119.94357%2C%2038.95697200000003%5D%2C%20%5B-119.943129%2C%2038.95763399999999%5D%2C%20%5B-119.942696%2C%2038.958281999999954%5D%2C%20%5B-119.942567%2C%2038.95822999999997%5D%2C%20%5B-119.942446%2C%2038.95818100000001%5D%2C%20%5B-119.94216600000001%2C%2038.95806500000003%5D%2C%20%5B-119.94177599999999%2C%2038.95788999999996%5D%2C%20%5B-119.941823%2C%2038.957807999999986%5D%2C%20%5B-119.94187600000001%2C%2038.957728%5D%2C%20%5B-119.941937%2C%2038.95764199999997%5D%2C%20%5B-119.94215%2C%2038.957739%5D%5D%2C%20%22type%22%3A%20%22LineString%22%7D%2C%20%22id%22%3A%20%221%22%2C%20%22properties%22%3A%20%7B%22__folium_color%22%3A%20%22%23d62728%22%2C%20%22agency%22%3A%20%22Tahoe%20Transportation%22%2C%20%22itp_id%22%3A%20331%2C%20%22route_id%22%3A%20%2212134%22%2C%20%22route_length%22%3A%2041787.64699666246%2C%20%22route_name%22%3A%20%22South%20Shore%20Daily%22%2C%20%22route_type%22%3A%20%223%22%7D%2C%20%22type%22%3A%20%22Feature%22%7D%2C%20%7B%22bbox%22%3A%20%5B-119.942696%2C%2038.91042300000002%2C%20-119.739971%2C%2038.981845999999976%5D%2C%20%22geometry%22%3A%20%7B%22coordinates%22%3A%20%5B%5B-119.739971%2C%2038.933556999999986%5D%2C%20%5B-119.7401%2C%2038.93358199999995%5D%2C%20%5B-119.74034499999999%2C%2038.933628999999975%5D%2C%20%5B-119.74044099999999%2C%2038.93364699999998%5D%2C%20%5B-119.740572%2C%2038.93367600000002%5D%2C%20%5B-119.740828%2C%2038.933733999999994%5D%2C%20%5B-119.740896%2C%2038.93374799999997%5D%2C%20%5B-119.741499%2C%2038.93387299999996%5D%2C%20%5B-119.741671%2C%2038.93393399999999%5D%2C%20%5B-119.74181000000002%2C%2038.93403299999997%5D%2C%20%5B-119.74199600000001%2C%2038.933888000000024%5D%2C%20%5B-119.74272900000001%2C%2038.93330899999999%5D%2C%20%5B-119.74281599999999%2C%2038.93323999999999%5D%2C%20%5B-119.743332%2C%2038.93290200000005%5D%2C%20%5B-119.74379%2C%2038.93269100000004%5D%2C%20%5B-119.744154%2C%2038.93256799999996%5D%2C%20%5B-119.74433800000001%2C%2038.93252199999998%5D%2C%20%5B-119.74455799999998%2C%2038.93246799999999%5D%2C%20%5B-119.744805%2C%2038.932431999999984%5D%2C%20%5B-119.74506%2C%2038.93240400000004%5D%2C%20%5B-119.74563299999998%2C%2038.932405000000024%5D%2C%20%5B-119.749117%2C%2038.93239099999998%5D%2C%20%5B-119.74937699999998%2C%2038.93236799999999%5D%2C%20%5B-119.74941599999998%2C%2038.93235099999999%5D%2C%20%5B-119.74944%2C%2038.93233099999999%5D%2C%20%5B-119.749491%2C%2038.932282999999934%5D%2C%20%5B-119.74933199999998%2C%2038.93217299999992%5D%2C%20%5B-119.74822000000002%2C%2038.931424%5D%2C%20%5B-119.74804900000001%2C%2038.93127799999997%5D%2C%20%5B-119.747916%2C%2038.931148999999955%5D%2C%20%5B-119.74778100000002%2C%2038.931016000000014%5D%2C%20%5B-119.74765900000001%2C%2038.93087399999997%5D%2C%20%5B-119.747533%2C%2038.93070799999995%5D%2C%20%5B-119.74744200000002%2C%2038.93057999999999%5D%2C%20%5B-119.74737099999999%2C%2038.93045399999995%5D%2C%20%5B-119.747275%2C%2038.930261000000016%5D%2C%20%5B-119.747201%2C%2038.93009400000002%5D%2C%20%5B-119.74713900000002%2C%2038.92993499999999%5D%2C%20%5B-119.747102%2C%2038.929817000000014%5D%2C%20%5B-119.747065%2C%2038.929675000000024%5D%2C%20%5B-119.747039%2C%2038.92952499999995%5D%2C%20%5B-119.747021%2C%2038.929363000000016%5D%2C%20%5B-119.747006%2C%2038.92915599999999%5D%2C%20%5B-119.74698%2C%2038.92853299999998%5D%2C%20%5B-119.746937%2C%2038.92559499999997%5D%2C%20%5B-119.74692000000002%2C%2038.92509400000004%5D%2C%20%5B-119.74686000000001%2C%2038.922784000000014%5D%2C%20%5B-119.746852%2C%2038.91865699999998%5D%2C%20%5B-119.74686000000001%2C%2038.916886999999974%5D%2C%20%5B-119.746852%2C%2038.91505700000001%5D%2C%20%5B-119.746879%2C%2038.91431699999999%5D%2C%20%5B-119.746874%2C%2038.914188999999965%5D%2C%20%5B-119.74712099999999%2C%2038.914192%5D%2C%20%5B-119.75155000000001%2C%2038.91424199999998%5D%2C%20%5B-119.75499099999999%2C%2038.91428099999994%5D%2C%20%5B-119.755239%2C%2038.914266000000005%5D%2C%20%5B-119.75544099999999%2C%2038.91423099999998%5D%2C%20%5B-119.75561500000002%2C%2038.91417300000001%5D%2C%20%5B-119.755845%2C%2038.914055000000005%5D%2C%20%5B-119.75601100000002%2C%2038.91390799999997%5D%2C%20%5B-119.75613499999999%2C%2038.91370700000003%5D%2C%20%5B-119.75617399999999%2C%2038.91350699999995%5D%2C%20%5B-119.756184%2C%2038.913271999999985%5D%2C%20%5B-119.75612000000001%2C%2038.910770999999954%5D%2C%20%5B-119.756119%2C%2038.910678000000054%5D%2C%20%5B-119.75616799999999%2C%2038.91067799999999%5D%2C%20%5B-119.759348%2C%2038.91067599999999%5D%2C%20%5B-119.76173100000001%2C%2038.910672000000055%5D%2C%20%5B-119.76364%2C%2038.91065699999997%5D%2C%20%5B-119.76771200000002%2C%2038.910630999999995%5D%2C%20%5B-119.77300200000002%2C%2038.910597999999965%5D%2C%20%5B-119.774368%2C%2038.91058900000005%5D%2C%20%5B-119.77736899999998%2C%2038.91056999999999%5D%2C%20%5B-119.77842799999999%2C%2038.910554000000005%5D%2C%20%5B-119.77888800000001%2C%2038.910482999999964%5D%2C%20%5B-119.77906100000001%2C%2038.91045599999996%5D%2C%20%5B-119.77915200000001%2C%2038.91044299999997%5D%2C%20%5B-119.77934600000002%2C%2038.910432999999976%5D%2C%20%5B-119.77951%2C%2038.910428999999965%5D%2C%20%5B-119.78034999999998%2C%2038.91042300000002%5D%2C%20%5B-119.786149%2C%2038.910424000000056%5D%2C%20%5B-119.79191400000002%2C%2038.910435999999976%5D%2C%20%5B-119.79201000000002%2C%2038.910435999999976%5D%2C%20%5B-119.792211%2C%2038.91043699999999%5D%2C%20%5B-119.79493000000001%2C%2038.910439999999994%5D%2C%20%5B-119.796162%2C%2038.910442999999994%5D%2C%20%5B-119.79966399999999%2C%2038.910449999999976%5D%2C%20%5B-119.80069999999999%2C%2038.910451999999964%5D%2C%20%5B-119.80100000000002%2C%2038.91045199999995%5D%2C%20%5B-119.80213899999998%2C%2038.91045500000001%5D%2C%20%5B-119.805808%2C%2038.910456999999994%5D%2C%20%5B-119.809485%2C%2038.910463%5D%2C%20%5B-119.81180300000001%2C%2038.910466000000014%5D%2C%20%5B-119.811955%2C%2038.91046600000004%5D%2C%20%5B-119.81288499999998%2C%2038.910468000000044%5D%2C%20%5B-119.81428600000001%2C%2038.91047199999998%5D%2C%20%5B-119.82088%2C%2038.91047800000002%5D%2C%20%5B-119.82096900000002%2C%2038.910478000000005%5D%2C%20%5B-119.82830200000001%2C%2038.91049500000003%5D%2C%20%5B-119.829705%2C%2038.91049400000005%5D%2C%20%5B-119.830701%2C%2038.91049500000005%5D%2C%20%5B-119.830939%2C%2038.91049199999998%5D%2C%20%5B-119.831101%2C%2038.91048500000004%5D%2C%20%5B-119.831203%2C%2038.910468000000044%5D%2C%20%5B-119.831864%2C%2038.91198099999997%5D%2C%20%5B-119.83224199999998%2C%2038.912871%5D%2C%20%5B-119.83262899999998%2C%2038.91374799999997%5D%2C%20%5B-119.833397%2C%2038.915515%5D%2C%20%5B-119.83363999999999%2C%2038.91606399999999%5D%2C%20%5B-119.83538100000001%2C%2038.920079%5D%2C%20%5B-119.836037%2C%2038.92159900000002%5D%2C%20%5B-119.83635400000001%2C%2038.92236000000002%5D%2C%20%5B-119.836683%2C%2038.92311399999998%5D%2C%20%5B-119.83751300000002%2C%2038.924991000000034%5D%2C%20%5B-119.837866%2C%2038.925855000000006%5D%2C%20%5B-119.838383%2C%2038.927007%5D%2C%20%5B-119.83905699999998%2C%2038.92854700000001%5D%2C%20%5B-119.839814%2C%2038.928524%5D%2C%20%5B-119.83986399999999%2C%2038.92852200000001%5D%2C%20%5B-119.84008699999998%2C%2038.92852700000004%5D%2C%20%5B-119.84026600000001%2C%2038.928541%5D%2C%20%5B-119.84047100000001%2C%2038.928564999999985%5D%2C%20%5B-119.84064799999999%2C%2038.928598000000015%5D%2C%20%5B-119.84082199999999%2C%2038.92863699999995%5D%2C%20%5B-119.840959%2C%2038.92867499999999%5D%2C%20%5B-119.84111600000001%2C%2038.928723000000026%5D%2C%20%5B-119.841228%2C%2038.92876699999996%5D%2C%20%5B-119.841306%2C%2038.92879699999999%5D%2C%20%5B-119.84144900000001%2C%2038.928864000000004%5D%2C%20%5B-119.841628%2C%2038.928956999999976%5D%2C%20%5B-119.84176799999999%2C%2038.929041%5D%2C%20%5B-119.841938%2C%2038.92916099999996%5D%2C%20%5B-119.842123%2C%2038.92930599999999%5D%2C%20%5B-119.84445500000001%2C%2038.93115099999996%5D%2C%20%5B-119.84577900000001%2C%2038.93220799999998%5D%2C%20%5B-119.846221%2C%2038.93256300000004%5D%2C%20%5B-119.846393%2C%2038.932696000000014%5D%2C%20%5B-119.846537%2C%2038.93282800000001%5D%2C%20%5B-119.846693%2C%2038.932983%5D%2C%20%5B-119.846827%2C%2038.933133000000005%5D%2C%20%5B-119.846916%2C%2038.933248999999975%5D%2C%20%5B-119.84702800000001%2C%2038.93340800000001%5D%2C%20%5B-119.847138%2C%2038.93357999999996%5D%2C%20%5B-119.84722999999998%2C%2038.93375200000001%5D%2C%20%5B-119.847305%2C%2038.93391299999998%5D%2C%20%5B-119.847372%2C%2038.93409%5D%2C%20%5B-119.847419%2C%2038.934243000000045%5D%2C%20%5B-119.847456%2C%2038.934391999999924%5D%2C%20%5B-119.847486%2C%2038.93454299999998%5D%2C%20%5B-119.84750500000001%2C%2038.93468999999999%5D%2C%20%5B-119.847516%2C%2038.93483800000001%5D%2C%20%5B-119.84752000000002%2C%2038.93498499999998%5D%2C%20%5B-119.84751400000002%2C%2038.93517999999998%5D%2C%20%5B-119.84749999999998%2C%2038.935829999999974%5D%2C%20%5B-119.84749399999998%2C%2038.936018000000026%5D%2C%20%5B-119.84749399999998%2C%2038.93613900000001%5D%2C%20%5B-119.84750800000002%2C%2038.936283000000024%5D%2C%20%5B-119.847527%2C%2038.93639700000004%5D%2C%20%5B-119.847567%2C%2038.93652600000008%5D%2C%20%5B-119.847711%2C%2038.93699499999998%5D%2C%20%5B-119.847753%2C%2038.93713900000001%5D%2C%20%5B-119.847777%2C%2038.93724999999997%5D%2C%20%5B-119.847786%2C%2038.93735199999999%5D%2C%20%5B-119.847789%2C%2038.93749999999999%5D%2C%20%5B-119.84778400000002%2C%2038.937636999999995%5D%2C%20%5B-119.847777%2C%2038.937764000000016%5D%2C%20%5B-119.84774900000001%2C%2038.938106%5D%2C%20%5B-119.847735%2C%2038.93826000000003%5D%2C%20%5B-119.847722%2C%2038.93838100000001%5D%2C%20%5B-119.847699%2C%2038.93849500000002%5D%2C%20%5B-119.847666%2C%2038.938629999999975%5D%2C%20%5B-119.847625%2C%2038.93876599999998%5D%2C%20%5B-119.847574%2C%2038.93894299999997%5D%2C%20%5B-119.84753800000001%2C%2038.93908999999999%5D%2C%20%5B-119.847519%2C%2038.939209%5D%2C%20%5B-119.84750500000001%2C%2038.93937799999998%5D%2C%20%5B-119.847507%2C%2038.939499000000005%5D%2C%20%5B-119.84751%2C%2038.939608000000014%5D%2C%20%5B-119.847524%2C%2038.939756%5D%2C%20%5B-119.847536%2C%2038.939845000000005%5D%2C%20%5B-119.847561%2C%2038.93993900000001%5D%2C%20%5B-119.847625%2C%2038.94015200000004%5D%2C%20%5B-119.84767999999998%2C%2038.94036300000001%5D%2C%20%5B-119.847755%2C%2038.94064999999999%5D%2C%20%5B-119.84783500000002%2C%2038.94093999999999%5D%2C%20%5B-119.8479%2C%2038.94118800000001%5D%2C%20%5B-119.847961%2C%2038.94139999999999%5D%2C%20%5B-119.84799400000001%2C%2038.94154000000002%5D%2C%20%5B-119.848041%2C%2038.941785999999986%5D%2C%20%5B-119.84806600000002%2C%2038.94205900000001%5D%2C%20%5B-119.848081%2C%2038.94221799999999%5D%2C%20%5B-119.848088%2C%2038.942397%5D%2C%20%5B-119.848084%2C%2038.942591000000036%5D%2C%20%5B-119.848081%2C%2038.94274500000002%5D%2C%20%5B-119.84807%2C%2038.942882999999945%5D%2C%20%5B-119.84805800000001%2C%2038.94300700000002%5D%2C%20%5B-119.848036%2C%2038.94311500000001%5D%2C%20%5B-119.847999%2C%2038.94328600000001%5D%2C%20%5B-119.84786000000001%2C%2038.943823999999985%5D%2C%20%5B-119.847824%2C%2038.943969000000024%5D%2C%20%5B-119.84779699999999%2C%2038.94406799999996%5D%2C%20%5B-119.847755%2C%2038.944197999999965%5D%2C%20%5B-119.847711%2C%2038.94432%5D%2C%20%5B-119.847677%2C%2038.94440099999997%5D%2C%20%5B-119.847439%2C%2038.944891000000005%5D%2C%20%5B-119.847324%2C%2038.94512900000004%5D%2C%20%5B-119.846969%2C%2038.945827000000016%5D%2C%20%5B-119.84685099999999%2C%2038.946060000000024%5D%2C%20%5B-119.846804%2C%2038.946179%5D%2C%20%5B-119.846763%2C%2038.94629800000003%5D%2C%20%5B-119.846743%2C%2038.94638499999999%5D%2C%20%5B-119.84673400000001%2C%2038.946491%5D%2C%20%5B-119.846737%2C%2038.94660099999998%5D%2C%20%5B-119.84674800000002%2C%2038.946685%5D%2C%20%5B-119.846769%2C%2038.94678800000002%5D%2C%20%5B-119.846801%2C%2038.946898000000004%5D%2C%20%5B-119.84684800000001%2C%2038.94701699999998%5D%2C%20%5B-119.84689300000001%2C%2038.94711099999994%5D%2C%20%5B-119.846958%2C%2038.94722099999993%5D%2C%20%5B-119.84704%2C%2038.94733699999999%5D%2C%20%5B-119.847116%2C%2038.947430000000004%5D%2C%20%5B-119.84719299999999%2C%2038.94750299999997%5D%2C%20%5B-119.84729%2C%2038.947591999999986%5D%2C%20%5B-119.84738%2C%2038.947667%5D%2C%20%5B-119.84746800000002%2C%2038.947722000000034%5D%2C%20%5B-119.84756900000001%2C%2038.94778300000001%5D%2C%20%5B-119.848011%2C%2038.94800999999999%5D%2C%20%5B-119.848164%2C%2038.94809299999997%5D%2C%20%5B-119.84836700000001%2C%2038.94820599999998%5D%2C%20%5B-119.84851400000001%2C%2038.948289000000045%5D%2C%20%5B-119.848675%2C%2038.948401000000004%5D%2C%20%5B-119.848815%2C%2038.948519999999974%5D%2C%20%5B-119.848939%2C%2038.94864499999999%5D%2C%20%5B-119.84903700000001%2C%2038.94876%5D%2C%20%5B-119.849132%2C%2038.94887600000003%5D%2C%20%5B-119.849203%2C%2038.94898299999997%5D%2C%20%5B-119.849248%2C%2038.94907000000002%5D%2C%20%5B-119.84929%2C%2038.94919499999999%5D%2C%20%5B-119.849314%2C%2038.94930299999996%5D%2C%20%5B-119.849326%2C%2038.949394000000034%5D%2C%20%5B-119.849332%2C%2038.94949999999999%5D%2C%20%5B-119.84932799999999%2C%2038.949607999999955%5D%2C%20%5B-119.849314%2C%2038.949723000000034%5D%2C%20%5B-119.849285%2C%2038.949835000000014%5D%2C%20%5B-119.84925600000001%2C%2038.949925%5D%2C%20%5B-119.849218%2C%2038.95000800000002%5D%2C%20%5B-119.849164%2C%2038.950103999999996%5D%2C%20%5B-119.84911500000001%2C%2038.95017999999999%5D%2C%20%5B-119.84883299999998%2C%2038.95054000000003%5D%2C%20%5B-119.848483%2C%2038.951021000000004%5D%2C%20%5B-119.84840299999999%2C%2038.95113599999997%5D%2C%20%5B-119.84832299999998%2C%2038.95124399999998%5D%2C%20%5B-119.84822000000001%2C%2038.95137299999998%5D%2C%20%5B-119.84813600000001%2C%2038.95149200000001%5D%2C%20%5B-119.848086%2C%2038.95157399999999%5D%2C%20%5B-119.848053%2C%2038.95163799999995%5D%2C%20%5B-119.84802%2C%2038.951734000000016%5D%2C%20%5B-119.847981%2C%2038.95188800000002%5D%2C%20%5B-119.847961%2C%2038.951993000000016%5D%2C%20%5B-119.847953%2C%2038.952083%5D%2C%20%5B-119.847947%2C%2038.952177999999996%5D%2C%20%5B-119.847953%2C%2038.952273000000005%5D%2C%20%5B-119.847969%2C%2038.952391999999996%5D%2C%20%5B-119.84798800000002%2C%2038.95248000000001%5D%2C%20%5B-119.848011%2C%2038.95257%5D%2C%20%5B-119.848039%2C%2038.952646%5D%2C%20%5B-119.848065%2C%2038.95270199999999%5D%2C%20%5B-119.84826%2C%2038.95315000000003%5D%2C%20%5B-119.848338%2C%2038.953330999999984%5D%2C%20%5B-119.848393%2C%2038.95344299999999%5D%2C%20%5B-119.84843000000001%2C%2038.953553000000035%5D%2C%20%5B-119.84845399999999%2C%2038.95364799999998%5D%2C%20%5B-119.848474%2C%2038.953774000000024%5D%2C%20%5B-119.84848499999998%2C%2038.95390700000006%5D%2C%20%5B-119.848482%2C%2038.954011000000015%5D%2C%20%5B-119.84846900000001%2C%2038.95409899999996%5D%2C%20%5B-119.848449%2C%2038.95420799999998%5D%2C%20%5B-119.848416%2C%2038.95430499999994%5D%2C%20%5B-119.84836799999998%2C%2038.954428%5D%2C%20%5B-119.848293%2C%2038.95459500000001%5D%2C%20%5B-119.84813899999999%2C%2038.954948%5D%2C%20%5B-119.848002%2C%2038.95523499999998%5D%2C%20%5B-119.84793%2C%2038.95539800000001%5D%2C%20%5B-119.84789299999998%2C%2038.95551199999995%5D%2C%20%5B-119.84786600000001%2C%2038.955644999999976%5D%2C%20%5B-119.847855%2C%2038.95576200000002%5D%2C%20%5B-119.84786000000001%2C%2038.95588000000002%5D%2C%20%5B-119.847869%2C%2038.95599599999999%5D%2C%20%5B-119.847882%2C%2038.956088999999984%5D%2C%20%5B-119.84790700000002%2C%2038.95619899999997%5D%2C%20%5B-119.84795800000002%2C%2038.95639600000002%5D%2C%20%5B-119.84801500000002%2C%2038.95671300000004%5D%2C%20%5B-119.848036%2C%2038.95684800000001%5D%2C%20%5B-119.84804600000001%2C%2038.956931000000004%5D%2C%20%5B-119.84804600000001%2C%2038.95701599999998%5D%2C%20%5B-119.84803%2C%2038.957133000000006%5D%2C%20%5B-119.84800399999999%2C%2038.957244%5D%2C%20%5B-119.84797699999999%2C%2038.95734100000003%5D%2C%20%5B-119.847947%2C%2038.95743500000004%5D%2C%20%5B-119.84791100000001%2C%2038.957537000000016%5D%2C%20%5B-119.84785900000001%2C%2038.95764399999999%5D%2C%20%5B-119.847804%2C%2038.95774799999998%5D%2C%20%5B-119.84775100000002%2C%2038.957832999999944%5D%2C%20%5B-119.847689%2C%2038.957918999999976%5D%2C%20%5B-119.847573%2C%2038.95805200000006%5D%2C%20%5B-119.84737600000001%2C%2038.95829299999996%5D%2C%20%5B-119.84728299999999%2C%2038.95840799999999%5D%2C%20%5B-119.84719099999998%2C%2038.958521000000005%5D%2C%20%5B-119.847048%2C%2038.95868099999999%5D%2C%20%5B-119.846888%2C%2038.95886200000002%5D%2C%20%5B-119.84678500000001%2C%2038.95897600000001%5D%2C%20%5B-119.846704%2C%2038.95907500000002%5D%2C%20%5B-119.846616%2C%2038.95920499999998%5D%2C%20%5B-119.846552%2C%2038.95933299999999%5D%2C%20%5B-119.846512%2C%2038.95943600000002%5D%2C%20%5B-119.846486%2C%2038.95954100000001%5D%2C%20%5B-119.84647200000002%2C%2038.959633%5D%2C%20%5B-119.84646300000001%2C%2038.95975299999997%5D%2C%20%5B-119.846467%2C%2038.959866999999974%5D%2C%20%5B-119.846474%2C%2038.959952000000015%5D%2C%20%5B-119.846486%2C%2038.960019%5D%2C%20%5B-119.846495%2C%2038.960064999999965%5D%2C%20%5B-119.846531%2C%2038.960183999999956%5D%2C%20%5B-119.84656600000001%2C%2038.96029500000004%5D%2C%20%5B-119.84659899999998%2C%2038.96041700000002%5D%2C%20%5B-119.846639%2C%2038.960564999999946%5D%2C%20%5B-119.84670999999999%2C%2038.960808999999934%5D%2C%20%5B-119.84690199999999%2C%2038.96141799999999%5D%2C%20%5B-119.84697999999999%2C%2038.96167299999996%5D%2C%20%5B-119.84701000000001%2C%2038.961766000000004%5D%2C%20%5B-119.84705199999999%2C%2038.96185499999997%5D%2C%20%5B-119.84710099999998%2C%2038.96193999999998%5D%2C%20%5B-119.84714599999998%2C%2038.962007999999976%5D%2C%20%5B-119.847221%2C%2038.962097%5D%2C%20%5B-119.847329%2C%2038.96221400000002%5D%2C%20%5B-119.84740999999998%2C%2038.962291999999984%5D%2C%20%5B-119.84749900000001%2C%2038.962371000000005%5D%2C%20%5B-119.847594%2C%2038.962439%5D%2C%20%5B-119.847703%2C%2038.96251199999999%5D%2C%20%5B-119.847799%2C%2038.96256699999998%5D%2C%20%5B-119.84791100000001%2C%2038.96261899999997%5D%2C%20%5B-119.84802%2C%2038.96266199999997%5D%2C%20%5B-119.84813299999999%2C%2038.96269800000002%5D%2C%20%5B-119.848258%2C%2038.96273299999997%5D%2C%20%5B-119.848392%2C%2038.962761%5D%2C%20%5B-119.848525%2C%2038.962777000000074%5D%2C%20%5B-119.848694%2C%2038.962787999999996%5D%2C%20%5B-119.84879%2C%2038.962789%5D%2C%20%5B-119.848925%2C%2038.96277999999997%5D%2C%20%5B-119.84915%2C%2038.96276100000003%5D%2C%20%5B-119.849437%2C%2038.96273299999997%5D%2C%20%5B-119.849635%2C%2038.96271599999998%5D%2C%20%5B-119.84978699999999%2C%2038.96270499999999%5D%2C%20%5B-119.84993%2C%2038.96269600000001%5D%2C%20%5B-119.850091%2C%2038.962692%5D%2C%20%5B-119.850419%2C%2038.962680999999954%5D%2C%20%5B-119.85062100000002%2C%2038.962677000000035%5D%2C%20%5B-119.850768%2C%2038.962670999999965%5D%2C%20%5B-119.85091699999998%2C%2038.962658%5D%2C%20%5B-119.851035%2C%2038.962643000000014%5D%2C%20%5B-119.85115600000002%2C%2038.96262199999997%5D%2C%20%5B-119.851263%2C%2038.96259599999999%5D%2C%20%5B-119.851344%2C%2038.962574%5D%2C%20%5B-119.851428%2C%2038.962546999999994%5D%2C%20%5B-119.85153400000002%2C%2038.96251199999999%5D%2C%20%5B-119.85221899999999%2C%2038.96227400000001%5D%2C%20%5B-119.85235799999998%2C%2038.96222399999999%5D%2C%20%5B-119.852467%2C%2038.962191000000026%5D%2C%20%5B-119.852596%2C%2038.962158999999986%5D%2C%20%5B-119.85270800000002%2C%2038.96213799999999%5D%2C%20%5B-119.852824%2C%2038.96212399999999%5D%2C%20%5B-119.852928%2C%2038.962116999999985%5D%2C%20%5B-119.85303599999999%2C%2038.96211400000002%5D%2C%20%5B-119.853158%2C%2038.962116%5D%2C%20%5B-119.85327300000002%2C%2038.96212299999996%5D%2C%20%5B-119.85338399999999%2C%2038.962135000000046%5D%2C%20%5B-119.85351299999999%2C%2038.96215899999997%5D%2C%20%5B-119.853636%2C%2038.962186999999965%5D%2C%20%5B-119.853755%2C%2038.962220999999964%5D%2C%20%5B-119.853855%2C%2038.962257000000015%5D%2C%20%5B-119.853951%2C%2038.96229700000002%5D%2C%20%5B-119.854042%2C%2038.96234200000002%5D%2C%20%5B-119.854112%2C%2038.96238200000003%5D%2C%20%5B-119.854197%2C%2038.96243600000005%5D%2C%20%5B-119.854268%2C%2038.96248500000003%5D%2C%20%5B-119.85434100000002%2C%2038.962540000000004%5D%2C%20%5B-119.85448000000001%2C%2038.96264699999997%5D%2C%20%5B-119.85505400000001%2C%2038.963096999999976%5D%2C%20%5B-119.85516499999999%2C%2038.96317999999999%5D%2C%20%5B-119.855289%2C%2038.96326100000004%5D%2C%20%5B-119.85542000000001%2C%2038.963332000000044%5D%2C%20%5B-119.855536%2C%2038.963387000000026%5D%2C%20%5B-119.855665%2C%2038.96343999999998%5D%2C%20%5B-119.855779%2C%2038.963476000000036%5D%2C%20%5B-119.855895%2C%2038.96350800000002%5D%2C%20%5B-119.85602000000002%2C%2038.963531%5D%2C%20%5B-119.85615599999998%2C%2038.963546000000015%5D%2C%20%5B-119.85629099999998%2C%2038.96355399999996%5D%2C%20%5B-119.856428%2C%2038.963553000000005%5D%2C%20%5B-119.85672800000002%2C%2038.96354400000002%5D%2C%20%5B-119.85790300000001%2C%2038.96350499999999%5D%2C%20%5B-119.858166%2C%2038.963496%5D%2C%20%5B-119.85829299999999%2C%2038.96348799999997%5D%2C%20%5B-119.85838900000002%2C%2038.963479%5D%2C%20%5B-119.85849199999998%2C%2038.96346299999999%5D%2C%20%5B-119.85858799999998%2C%2038.96344499999999%5D%2C%20%5B-119.85871099999999%2C%2038.96341799999997%5D%2C%20%5B-119.858826%2C%2038.963389%5D%2C%20%5B-119.859176%2C%2038.96328499999995%5D%2C%20%5B-119.85930800000001%2C%2038.96325499999999%5D%2C%20%5B-119.859433%2C%2038.96323600000002%5D%2C%20%5B-119.85957499999999%2C%2038.96322499999997%5D%2C%20%5B-119.859705%2C%2038.963223000000035%5D%2C%20%5B-119.85984%2C%2038.96323099999995%5D%2C%20%5B-119.85995900000002%2C%2038.96324699999998%5D%2C%20%5B-119.86007900000001%2C%2038.963272%5D%2C%20%5B-119.86018400000002%2C%2038.96329899999999%5D%2C%20%5B-119.86029300000001%2C%2038.96333799999997%5D%2C%20%5B-119.86040399999999%2C%2038.96338300000003%5D%2C%20%5B-119.860483%2C%2038.96342700000002%5D%2C%20%5B-119.86057500000001%2C%2038.963488%5D%2C%20%5B-119.860655%2C%2038.963553000000005%5D%2C%20%5B-119.86073999999999%2C%2038.963631999999976%5D%2C%20%5B-119.86081200000001%2C%2038.96370700000002%5D%2C%20%5B-119.860876%2C%2038.96379399999999%5D%2C%20%5B-119.860922%2C%2038.96386699999998%5D%2C%20%5B-119.86096200000001%2C%2038.96393599999999%5D%2C%20%5B-119.861005%2C%2038.964020000000005%5D%2C%20%5B-119.861036%2C%2038.96409900000001%5D%2C%20%5B-119.86105899999998%2C%2038.96417100000003%5D%2C%20%5B-119.861081%2C%2038.964265%5D%2C%20%5B-119.861094%2C%2038.96434699999996%5D%2C%20%5B-119.861107%2C%2038.96446900000008%5D%2C%20%5B-119.861133%2C%2038.96474699999999%5D%2C%20%5B-119.861152%2C%2038.964877000000044%5D%2C%20%5B-119.86116600000001%2C%2038.96496399999999%5D%2C%20%5B-119.861192%2C%2038.96506499999996%5D%2C%20%5B-119.86121100000001%2C%2038.965154%5D%2C%20%5B-119.861237%2C%2038.965253%5D%2C%20%5B-119.86127%2C%2038.96536000000002%5D%2C%20%5B-119.86133400000001%2C%2038.96560200000005%5D%2C%20%5B-119.861364%2C%2038.96573300000001%5D%2C%20%5B-119.861378%2C%2038.96583500000005%5D%2C%20%5B-119.86137900000001%2C%2038.96592099999995%5D%2C%20%5B-119.861371%2C%2038.96602000000002%5D%2C%20%5B-119.86135500000002%2C%2038.96611500000001%5D%2C%20%5B-119.86132200000002%2C%2038.96621699999998%5D%2C%20%5B-119.86128399999998%2C%2038.966304%5D%2C%20%5B-119.86123800000001%2C%2038.96638699999998%5D%2C%20%5B-119.861179%2C%2038.966470999999984%5D%2C%20%5B-119.86111599999998%2C%2038.966544%5D%2C%20%5B-119.861049%2C%2038.966610999999965%5D%2C%20%5B-119.86097099999999%2C%2038.96667899999998%5D%2C%20%5B-119.8609%2C%2038.96673399999993%5D%2C%20%5B-119.860831%2C%2038.96677999999997%5D%2C%20%5B-119.860742%2C%2038.96683000000001%5D%2C%20%5B-119.86065599999999%2C%2038.96686999999997%5D%2C%20%5B-119.860562%2C%2038.966910000000034%5D%2C%20%5B-119.860463%2C%2038.96694299999997%5D%2C%20%5B-119.86033800000001%2C%2038.96697300000005%5D%2C%20%5B-119.860226%2C%2038.966992%5D%2C%20%5B-119.860134%2C%2038.96700000000004%5D%2C%20%5B-119.860038%2C%2038.96700099999999%5D%2C%20%5B-119.859937%2C%2038.96700000000004%5D%2C%20%5B-119.85979199999998%2C%2038.966994%5D%2C%20%5B-119.859348%2C%2038.96696999999998%5D%2C%20%5B-119.85918%2C%2038.966965%5D%2C%20%5B-119.85903199999998%2C%2038.96696299999994%5D%2C%20%5B-119.85892700000001%2C%2038.966964000000004%5D%2C%20%5B-119.858808%2C%2038.966972000000005%5D%2C%20%5B-119.858681%2C%2038.966988000000036%5D%2C%20%5B-119.85856900000002%2C%2038.96700900000002%5D%2C%20%5B-119.85846400000001%2C%2038.96703299999997%5D%2C%20%5B-119.85836%2C%2038.967064999999984%5D%2C%20%5B-119.85827%2C%2038.96709500000002%5D%2C%20%5B-119.858168%2C%2038.96713899999999%5D%2C%20%5B-119.85808000000002%2C%2038.96718499999999%5D%2C%20%5B-119.85800200000001%2C%2038.96723100000001%5D%2C%20%5B-119.85793200000002%2C%2038.967277000000024%5D%2C%20%5B-119.85783600000002%2C%2038.96735000000004%5D%2C%20%5B-119.85768699999998%2C%2038.96748%5D%2C%20%5B-119.85737%2C%2038.967743999999946%5D%2C%20%5B-119.857276%2C%2038.96781699999996%5D%2C%20%5B-119.857178%2C%2038.96788800000001%5D%2C%20%5B-119.85708000000001%2C%2038.96794699999998%5D%2C%20%5B-119.85697800000001%2C%2038.96799999999999%5D%2C%20%5B-119.85686900000002%2C%2038.96804700000001%5D%2C%20%5B-119.85676%2C%2038.96808999999999%5D%2C%20%5B-119.85665700000001%2C%2038.96812900000005%5D%2C%20%5B-119.856556%2C%2038.968159%5D%2C%20%5B-119.856451%2C%2038.96818%5D%2C%20%5B-119.85634799999998%2C%2038.96819900000004%5D%2C%20%5B-119.856268%2C%2038.968206%5D%2C%20%5B-119.856158%2C%2038.968215000000015%5D%2C%20%5B-119.85606%2C%2038.968217000000024%5D%2C%20%5B-119.85595600000002%2C%2038.968217000000024%5D%2C%20%5B-119.855719%2C%2038.968212999999956%5D%2C%20%5B-119.855169%2C%2038.968204%5D%2C%20%5B-119.855045%2C%2038.96820500000001%5D%2C%20%5B-119.85491500000002%2C%2038.96820900000006%5D%2C%20%5B-119.854773%2C%2038.96822499999996%5D%2C%20%5B-119.85466200000002%2C%2038.968243999999984%5D%2C%20%5B-119.854557%2C%2038.968268%5D%2C%20%5B-119.854448%2C%2038.96829900000001%5D%2C%20%5B-119.85432700000001%2C%2038.96834000000001%5D%2C%20%5B-119.85421000000001%2C%2038.968386000000024%5D%2C%20%5B-119.854109%2C%2038.968435000000014%5D%2C%20%5B-119.853686%2C%2038.96865999999998%5D%2C%20%5B-119.85353700000002%2C%2038.96874299999998%5D%2C%20%5B-119.85342000000001%2C%2038.968812999999955%5D%2C%20%5B-119.853322%2C%2038.96887400000001%5D%2C%20%5B-119.853251%2C%2038.96892599999995%5D%2C%20%5B-119.853185%2C%2038.96897899999999%5D%2C%20%5B-119.85312999999998%2C%2038.969030000000004%5D%2C%20%5B-119.853058%2C%2038.969102%5D%2C%20%5B-119.852966%2C%2038.96921100000001%5D%2C%20%5B-119.852915%2C%2038.969276000000015%5D%2C%20%5B-119.852881%2C%2038.96932899999999%5D%2C%20%5B-119.85283%2C%2038.96941499999997%5D%2C%20%5B-119.852773%2C%2038.96952699999999%5D%2C%20%5B-119.852748%2C%2038.969595999999974%5D%2C%20%5B-119.852728%2C%2038.969687999999984%5D%2C%20%5B-119.85271400000002%2C%2038.969785000000016%5D%2C%20%5B-119.852709%2C%2038.96986299999997%5D%2C%20%5B-119.85271200000001%2C%2038.969953000000004%5D%2C%20%5B-119.85272600000002%2C%2038.97005599999999%5D%2C%20%5B-119.852748%2C%2038.970153999999944%5D%2C%20%5B-119.85278100000001%2C%2038.97025400000001%5D%2C%20%5B-119.852824%2C%2038.970361%5D%2C%20%5B-119.85288600000001%2C%2038.970477999999986%5D%2C%20%5B-119.85295%2C%2038.970578%5D%2C%20%5B-119.853024%2C%2038.97066900000001%5D%2C%20%5B-119.853094%2C%2038.97074599999997%5D%2C%20%5B-119.85318299999999%2C%2038.97082599999999%5D%2C%20%5B-119.85329700000001%2C%2038.970914000000064%5D%2C%20%5B-119.85433300000001%2C%2038.97166699999999%5D%2C%20%5B-119.85478500000002%2C%2038.97198199999999%5D%2C%20%5B-119.854908%2C%2038.97206399999995%5D%2C%20%5B-119.854993%2C%2038.97211699999999%5D%2C%20%5B-119.855077%2C%2038.97216599999997%5D%2C%20%5B-119.855155%2C%2038.97220599999999%5D%2C%20%5B-119.85524200000002%2C%2038.97224500000001%5D%2C%20%5B-119.855511%2C%2038.972357000000024%5D%2C%20%5B-119.85579500000001%2C%2038.97247999999995%5D%2C%20%5B-119.85590900000001%2C%2038.97253200000006%5D%2C%20%5B-119.85602000000002%2C%2038.972588000000016%5D%2C%20%5B-119.856138%2C%2038.97264899999999%5D%2C%20%5B-119.856242%2C%2038.972711000000004%5D%2C%20%5B-119.856349%2C%2038.972783%5D%2C%20%5B-119.856442%2C%2038.972851000000006%5D%2C%20%5B-119.856519%2C%2038.97291000000001%5D%2C%20%5B-119.85660599999999%2C%2038.972989%5D%2C%20%5B-119.85667700000002%2C%2038.973059%5D%2C%20%5B-119.85674700000001%2C%2038.973132999999976%5D%2C%20%5B-119.856814%2C%2038.97321199999999%5D%2C%20%5B-119.85689000000002%2C%2038.97330299999996%5D%2C%20%5B-119.85703599999998%2C%2038.97347399999997%5D%2C%20%5B-119.85709800000001%2C%2038.973546%5D%2C%20%5B-119.85715%2C%2038.973597999999996%5D%2C%20%5B-119.857233%2C%2038.973679000000025%5D%2C%20%5B-119.857317%2C%2038.97375399999997%5D%2C%20%5B-119.85740200000001%2C%2038.97382600000002%5D%2C%20%5B-119.85791200000001%2C%2038.97423599999996%5D%2C%20%5B-119.85960500000002%2C%2038.975556000000026%5D%2C%20%5B-119.85972599999998%2C%2038.975651000000006%5D%2C%20%5B-119.85979700000001%2C%2038.97571099999996%5D%2C%20%5B-119.859846%2C%2038.975751999999964%5D%2C%20%5B-119.859903%2C%2038.975806000000034%5D%2C%20%5B-119.85995000000001%2C%2038.97585799999996%5D%2C%20%5B-119.85999200000002%2C%2038.97591299999999%5D%2C%20%5B-119.860033%2C%2038.97596899999997%5D%2C%20%5B-119.860065%2C%2038.97602299999996%5D%2C%20%5B-119.86009499999999%2C%2038.97608000000002%5D%2C%20%5B-119.860126%2C%2038.976155%5D%2C%20%5B-119.86014599999999%2C%2038.97621900000003%5D%2C%20%5B-119.860161%2C%2038.976280999999986%5D%2C%20%5B-119.860168%2C%2038.976337%5D%2C%20%5B-119.86017200000002%2C%2038.976404999999964%5D%2C%20%5B-119.860168%2C%2038.97646699999999%5D%2C%20%5B-119.860159%2C%2038.97655000000002%5D%2C%20%5B-119.860147%2C%2038.976622%5D%2C%20%5B-119.86013100000001%2C%2038.97668299999998%5D%2C%20%5B-119.86011%2C%2038.97674899999999%5D%2C%20%5B-119.860085%2C%2038.976817999999966%5D%2C%20%5B-119.860057%2C%2038.976879000000025%5D%2C%20%5B-119.86002299999998%2C%2038.97694199999999%5D%2C%20%5B-119.859993%2C%2038.97699300000002%5D%2C%20%5B-119.859956%2C%2038.97704299999999%5D%2C%20%5B-119.859913%2C%2038.97709099999995%5D%2C%20%5B-119.85983600000002%2C%2038.97716900000001%5D%2C%20%5B-119.85978300000001%2C%2038.97721699999995%5D%2C%20%5B-119.85972800000002%2C%2038.977259000000025%5D%2C%20%5B-119.859664%2C%2038.977302%5D%2C%20%5B-119.85959099999998%2C%2038.97734700000007%5D%2C%20%5B-119.85951200000001%2C%2038.977390000000064%5D%2C%20%5B-119.859426%2C%2038.977428000000025%5D%2C%20%5B-119.859318%2C%2038.977467000000026%5D%2C%20%5B-119.859221%2C%2038.977496999999985%5D%2C%20%5B-119.859117%2C%2038.97752%5D%2C%20%5B-119.85900700000002%2C%2038.97753899999998%5D%2C%20%5B-119.858886%2C%2038.97755099999997%5D%2C%20%5B-119.858802%2C%2038.977554000000005%5D%2C%20%5B-119.858707%2C%2038.97755299999997%5D%2C%20%5B-119.858629%2C%2038.97754899999996%5D%2C%20%5B-119.85854899999998%2C%2038.97754099999998%5D%2C%20%5B-119.858468%2C%2038.97752799999999%5D%2C%20%5B-119.858385%2C%2038.97751299999994%5D%2C%20%5B-119.858309%2C%2038.977493999999986%5D%2C%20%5B-119.85822100000001%2C%2038.97746500000003%5D%2C%20%5B-119.858142%2C%2038.977436000000004%5D%2C%20%5B-119.858055%2C%2038.977401999999955%5D%2C%20%5B-119.85797700000002%2C%2038.97736100000004%5D%2C%20%5B-119.85790500000002%2C%2038.977320999999954%5D%2C%20%5B-119.857835%2C%2038.97727900000003%5D%2C%20%5B-119.85776400000002%2C%2038.97723000000003%5D%2C%20%5B-119.85745500000002%2C%2038.97700200000004%5D%2C%20%5B-119.85723600000001%2C%2038.97682699999994%5D%2C%20%5B-119.85716699999999%2C%2038.97677599999996%5D%2C%20%5B-119.857097%2C%2038.97673099999997%5D%2C%20%5B-119.85702599999999%2C%2038.97669199999998%5D%2C%20%5B-119.85696000000002%2C%2038.97665700000001%5D%2C%20%5B-119.856898%2C%2038.97662799999995%5D%2C%20%5B-119.85684%2C%2038.97660299999997%5D%2C%20%5B-119.856772%2C%2038.97658099999999%5D%2C%20%5B-119.856686%2C%2038.976557999999955%5D%2C%20%5B-119.856602%2C%2038.97653799999997%5D%2C%20%5B-119.856518%2C%2038.976520999999956%5D%2C%20%5B-119.856435%2C%2038.976509%5D%2C%20%5B-119.856343%2C%2038.97649999999999%5D%2C%20%5B-119.85625700000001%2C%2038.976493999999995%5D%2C%20%5B-119.856184%2C%2038.976493999999995%5D%2C%20%5B-119.85609500000001%2C%2038.97649699999998%5D%2C%20%5B-119.856016%2C%2038.97650100000004%5D%2C%20%5B-119.85593899999999%2C%2038.97650999999999%5D%2C%20%5B-119.85585899999998%2C%2038.97652300000002%5D%2C%20%5B-119.85576800000001%2C%2038.97654300000001%5D%2C%20%5B-119.855697%2C%2038.97656300000002%5D%2C%20%5B-119.85560200000002%2C%2038.97659600000001%5D%2C%20%5B-119.85552%2C%2038.97662900000001%5D%2C%20%5B-119.85542600000001%2C%2038.97667400000001%5D%2C%20%5B-119.85535099999998%2C%2038.976715999999975%5D%2C%20%5B-119.85526900000002%2C%2038.97676700000001%5D%2C%20%5B-119.855212%2C%2038.97681000000004%5D%2C%20%5B-119.85514300000001%2C%2038.97686599999995%5D%2C%20%5B-119.855084%2C%2038.976921000000004%5D%2C%20%5B-119.855031%2C%2038.97698400000002%5D%2C%20%5B-119.854971%2C%2038.97707200000001%5D%2C%20%5B-119.854922%2C%2038.977157%5D%2C%20%5B-119.85488000000001%2C%2038.97726000000004%5D%2C%20%5B-119.854848%2C%2038.97735599999997%5D%2C%20%5B-119.85483000000002%2C%2038.97742999999998%5D%2C%20%5B-119.85481899999999%2C%2038.97752400000006%5D%2C%20%5B-119.854818%2C%2038.97761599999999%5D%2C%20%5B-119.854824%2C%2038.97769%5D%2C%20%5B-119.85483700000002%2C%2038.97777199999998%5D%2C%20%5B-119.85485599999998%2C%2038.97785500000001%5D%2C%20%5B-119.85488200000002%2C%2038.977935999999985%5D%2C%20%5B-119.85491200000001%2C%2038.978008999999986%5D%2C%20%5B-119.854949%2C%2038.97807700000001%5D%2C%20%5B-119.85498499999999%2C%2038.978129999999965%5D%2C%20%5B-119.85505600000002%2C%2038.97821199999998%5D%2C%20%5B-119.855121%2C%2038.97827800000001%5D%2C%20%5B-119.855192%2C%2038.978341999999955%5D%2C%20%5B-119.85525%2C%2038.97838700000003%5D%2C%20%5B-119.85532699999999%2C%2038.97844000000004%5D%2C%20%5B-119.855404%2C%2038.978485999999975%5D%2C%20%5B-119.85548600000001%2C%2038.97852899999998%5D%2C%20%5B-119.85555700000002%2C%2038.978562000000004%5D%2C%20%5B-119.85564199999999%2C%2038.97859700000001%5D%2C%20%5B-119.85572300000001%2C%2038.97862300000001%5D%2C%20%5B-119.855799%2C%2038.978643%5D%2C%20%5B-119.855886%2C%2038.97866299999995%5D%2C%20%5B-119.855976%2C%2038.978676999999976%5D%2C%20%5B-119.85608300000001%2C%2038.97868699999997%5D%2C%20%5B-119.856177%2C%2038.978690999999976%5D%2C%20%5B-119.85629000000002%2C%2038.978689999999986%5D%2C%20%5B-119.85640100000002%2C%2038.97868199999994%5D%2C%20%5B-119.856499%2C%2038.97866999999997%5D%2C%20%5B-119.856623%2C%2038.978652999999994%5D%2C%20%5B-119.85672299999999%2C%2038.978638999999994%5D%2C%20%5B-119.857142%2C%2038.97857699999999%5D%2C%20%5B-119.857246%2C%2038.978563999999935%5D%2C%20%5B-119.857349%2C%2038.978552%5D%2C%20%5B-119.85746100000001%2C%2038.978544000000014%5D%2C%20%5B-119.857573%2C%2038.97854000000003%5D%2C%20%5B-119.857697%2C%2038.97854199999993%5D%2C%20%5B-119.857824%2C%2038.978552%5D%2C%20%5B-119.857949%2C%2038.978568000000045%5D%2C%20%5B-119.85806799999999%2C%2038.97859200000003%5D%2C%20%5B-119.858187%2C%2038.978618999999995%5D%2C%20%5B-119.85828499999998%2C%2038.97864499999998%5D%2C%20%5B-119.85837099999999%2C%2038.97867500000005%5D%2C%20%5B-119.860921%2C%2038.97969500000002%5D%2C%20%5B-119.86134000000001%2C%2038.979866999999985%5D%2C%20%5B-119.86144500000002%2C%2038.97991099999999%5D%2C%20%5B-119.86154%2C%2038.97995400000005%5D%2C%20%5B-119.86162599999999%2C%2038.979995999999986%5D%2C%20%5B-119.861718%2C%2038.98004400000001%5D%2C%20%5B-119.86181%2C%2038.980097%5D%2C%20%5B-119.861897%2C%2038.98014999999998%5D%2C%20%5B-119.86196599999998%2C%2038.98019400000001%5D%2C%20%5B-119.86204999999998%2C%2038.980250999999996%5D%2C%20%5B-119.86212%2C%2038.98030000000005%5D%2C%20%5B-119.862192%2C%2038.980356%5D%2C%20%5B-119.86226%2C%2038.98041099999999%5D%2C%20%5B-119.862693%2C%2038.98080599999997%5D%2C%20%5B-119.862856%2C%2038.98094699999999%5D%2C%20%5B-119.86293700000002%2C%2038.981015%5D%2C%20%5B-119.863044%2C%2038.98109500000003%5D%2C%20%5B-119.86317799999999%2C%2038.98118600000001%5D%2C%20%5B-119.86329800000001%2C%2038.98126599999998%5D%2C%20%5B-119.86341900000001%2C%2038.981338%5D%2C%20%5B-119.86354300000002%2C%2038.98140399999999%5D%2C%20%5B-119.863668%2C%2038.98146199999997%5D%2C%20%5B-119.863795%2C%2038.981517%5D%2C%20%5B-119.86394%2C%2038.981574%5D%2C%20%5B-119.86411500000001%2C%2038.98163200000002%5D%2C%20%5B-119.86427700000002%2C%2038.981680999999966%5D%2C%20%5B-119.86443800000002%2C%2038.981723%5D%2C%20%5B-119.86457900000002%2C%2038.98175399999998%5D%2C%20%5B-119.86473399999998%2C%2038.981787000000004%5D%2C%20%5B-119.864864%2C%2038.981808%5D%2C%20%5B-119.865007%2C%2038.98182499999999%5D%2C%20%5B-119.86512699999999%2C%2038.98183600000002%5D%2C%20%5B-119.86532400000002%2C%2038.981844999999936%5D%2C%20%5B-119.865497%2C%2038.981845999999976%5D%2C%20%5B-119.86561900000001%2C%2038.981843%5D%2C%20%5B-119.865738%2C%2038.98183600000002%5D%2C%20%5B-119.865836%2C%2038.98182799999999%5D%2C%20%5B-119.865941%2C%2038.981817000000014%5D%2C%20%5B-119.866037%2C%2038.98180399999995%5D%2C%20%5B-119.866153%2C%2038.98178800000003%5D%2C%20%5B-119.86624600000002%2C%2038.981773%5D%2C%20%5B-119.866425%2C%2038.98174599999997%5D%2C%20%5B-119.867151%2C%2038.98162699999997%5D%2C%20%5B-119.867296%2C%2038.98160000000002%5D%2C%20%5B-119.86739300000002%2C%2038.98157700000001%5D%2C%20%5B-119.867494%2C%2038.98154800000002%5D%2C%20%5B-119.86759799999999%2C%2038.98151399999999%5D%2C%20%5B-119.867696%2C%2038.981474999999975%5D%2C%20%5B-119.86778900000002%2C%2038.981431000000015%5D%2C%20%5B-119.867897%2C%2038.981377000000016%5D%2C%20%5B-119.86800200000002%2C%2038.981315999999985%5D%2C%20%5B-119.868095%2C%2038.98125499999999%5D%2C%20%5B-119.86817400000001%2C%2038.981198000000006%5D%2C%20%5B-119.868238%2C%2038.981140999999994%5D%2C%20%5B-119.86829%2C%2038.98108599999998%5D%2C%20%5B-119.868359%2C%2038.98101200000004%5D%2C%20%5B-119.86843%2C%2038.980931000000005%5D%2C%20%5B-119.86849899999999%2C%2038.98083699999997%5D%2C%20%5B-119.868554%2C%2038.98075000000001%5D%2C%20%5B-119.868598%2C%2038.980668%5D%2C%20%5B-119.86863900000002%2C%2038.98057000000004%5D%2C%20%5B-119.86867000000001%2C%2038.98048299999997%5D%2C%20%5B-119.86869699999998%2C%2038.98038899999995%5D%2C%20%5B-119.868792%2C%2038.97986800000002%5D%2C%20%5B-119.868965%2C%2038.978929000000015%5D%2C%20%5B-119.869028%2C%2038.97859499999998%5D%2C%20%5B-119.86905100000001%2C%2038.97846400000005%5D%2C%20%5B-119.869068%2C%2038.978341999999984%5D%2C%20%5B-119.869079%2C%2038.97825099999995%5D%2C%20%5B-119.869086%2C%2038.97815499999994%5D%2C%20%5B-119.86908900000002%2C%2038.97806499999997%5D%2C%20%5B-119.869086%2C%2038.97796599999998%5D%2C%20%5B-119.86908100000001%2C%2038.97787100000001%5D%2C%20%5B-119.86906999999998%2C%2038.977776000000034%5D%2C%20%5B-119.869059%2C%2038.97769299999998%5D%2C%20%5B-119.869041%2C%2038.977598999999955%5D%2C%20%5B-119.86902099999999%2C%2038.97751200000001%5D%2C%20%5B-119.86899%2C%2038.97740399999998%5D%2C%20%5B-119.868803%2C%2038.97684799999998%5D%2C%20%5B-119.86872%2C%2038.97659800000002%5D%2C%20%5B-119.868693%2C%2038.97651199999998%5D%2C%20%5B-119.86867200000002%2C%2038.97644599999998%5D%2C%20%5B-119.86865%2C%2038.976355999999996%5D%2C%20%5B-119.86863399999999%2C%2038.97626900000001%5D%2C%20%5B-119.868622%2C%2038.97617300000003%5D%2C%20%5B-119.86861300000001%2C%2038.97605699999999%5D%2C%20%5B-119.868611%2C%2038.975959000000024%5D%2C%20%5B-119.86863900000002%2C%2038.975161999999976%5D%2C%20%5B-119.86864500000001%2C%2038.97502700000001%5D%2C%20%5B-119.86865100000001%2C%2038.97494799999999%5D%2C%20%5B-119.868662%2C%2038.974869%5D%2C%20%5B-119.868686%2C%2038.97475500000004%5D%2C%20%5B-119.86871%2C%2038.974669999999996%5D%2C%20%5B-119.86874%2C%2038.97460100000001%5D%2C%20%5B-119.868773%2C%2038.97453399999998%5D%2C%20%5B-119.86881399999999%2C%2038.97446500000004%5D%2C%20%5B-119.868872%2C%2038.974382000000006%5D%2C%20%5B-119.868929%2C%2038.97431399999997%5D%2C%20%5B-119.868992%2C%2038.97425099999997%5D%2C%20%5B-119.869064%2C%2038.974191999999995%5D%2C%20%5B-119.869137%2C%2038.97413600000003%5D%2C%20%5B-119.86921600000001%2C%2038.974082%5D%2C%20%5B-119.869305%2C%2038.97403400000004%5D%2C%20%5B-119.86939900000002%2C%2038.97398999999997%5D%2C%20%5B-119.869491%2C%2038.973956%5D%2C%20%5B-119.86958500000001%2C%2038.97393000000002%5D%2C%20%5B-119.869683%2C%2038.97390500000002%5D%2C%20%5B-119.86978900000001%2C%2038.97388799999999%5D%2C%20%5B-119.86989%2C%2038.973874999999985%5D%2C%20%5B-119.86999600000001%2C%2038.973867999999975%5D%2C%20%5B-119.870109%2C%2038.97386700000002%5D%2C%20%5B-119.870213%2C%2038.973872000000014%5D%2C%20%5B-119.87034200000001%2C%2038.97388800000002%5D%2C%20%5B-119.87048300000001%2C%2038.973917000000014%5D%2C%20%5B-119.87062700000001%2C%2038.97394700000001%5D%2C%20%5B-119.870827%2C%2038.974001999999984%5D%2C%20%5B-119.87162400000001%2C%2038.974228000000004%5D%2C%20%5B-119.872002%2C%2038.97433199999999%5D%2C%20%5B-119.87212100000002%2C%2038.97436399999995%5D%2C%20%5B-119.872235%2C%2038.97438699999996%5D%2C%20%5B-119.87234500000001%2C%2038.974404%5D%2C%20%5B-119.872442%2C%2038.974414999999965%5D%2C%20%5B-119.872561%2C%2038.974421999999976%5D%2C%20%5B-119.872685%2C%2038.974421999999976%5D%2C%20%5B-119.872793%2C%2038.974414999999965%5D%2C%20%5B-119.872905%2C%2038.974404%5D%2C%20%5B-119.87302800000002%2C%2038.97438600000001%5D%2C%20%5B-119.87314599999999%2C%2038.97437%5D%2C%20%5B-119.87399%2C%2038.974224999999976%5D%2C%20%5B-119.874105%2C%2038.974205999999995%5D%2C%20%5B-119.87422099999999%2C%2038.97418999999995%5D%2C%20%5B-119.874331%2C%2038.974177000000005%5D%2C%20%5B-119.874454%2C%2038.974171%5D%2C%20%5B-119.87458499999998%2C%2038.97416900000004%5D%2C%20%5B-119.874694%2C%2038.974173%5D%2C%20%5B-119.874799%2C%2038.97417999999995%5D%2C%20%5B-119.87488700000002%2C%2038.97418999999995%5D%2C%20%5B-119.874988%2C%2038.974204000000015%5D%2C%20%5B-119.87509200000001%2C%2038.974222999999974%5D%2C%20%5B-119.87528400000001%2C%2038.97426199999995%5D%2C%20%5B-119.87556599999999%2C%2038.97432299999995%5D%2C%20%5B-119.875676%2C%2038.974343999999995%5D%2C%20%5B-119.875775%2C%2038.97436100000002%5D%2C%20%5B-119.87588499999998%2C%2038.974374999999995%5D%2C%20%5B-119.875992%2C%2038.97438499999994%5D%2C%20%5B-119.87609%2C%2038.97438999999996%5D%2C%20%5B-119.876192%2C%2038.97439100000003%5D%2C%20%5B-119.876295%2C%2038.97438800000002%5D%2C%20%5B-119.876417%2C%2038.974381000000015%5D%2C%20%5B-119.87681200000002%2C%2038.97436200000001%5D%2C%20%5B-119.87697400000002%2C%2038.97436%5D%2C%20%5B-119.877099%2C%2038.97436000000001%5D%2C%20%5B-119.877228%2C%2038.97436499999999%5D%2C%20%5B-119.87735%2C%2038.974371000000026%5D%2C%20%5B-119.87771900000001%2C%2038.97439700000004%5D%2C%20%5B-119.878128%2C%2038.974423999999956%5D%2C%20%5B-119.878867%2C%2038.97447300000005%5D%2C%20%5B-119.879024%2C%2038.974485999999956%5D%2C%20%5B-119.87912%2C%2038.97449799999993%5D%2C%20%5B-119.87922900000001%2C%2038.974516999999956%5D%2C%20%5B-119.87935500000002%2C%2038.97454499999996%5D%2C%20%5B-119.87948700000001%2C%2038.97457699999995%5D%2C%20%5B-119.879591%2C%2038.97460899999995%5D%2C%20%5B-119.87968800000002%2C%2038.974645000000024%5D%2C%20%5B-119.87980300000001%2C%2038.974692999999945%5D%2C%20%5B-119.87990100000002%2C%2038.974737999999995%5D%2C%20%5B-119.880008%2C%2038.97479099999999%5D%2C%20%5B-119.880129%2C%2038.974861%5D%2C%20%5B-119.880233%2C%2038.97493199999993%5D%2C%20%5B-119.88033399999999%2C%2038.975003000000044%5D%2C%20%5B-119.88041799999999%2C%2038.97506800000001%5D%2C%20%5B-119.880522%2C%2038.975160999999986%5D%2C%20%5B-119.88086800000002%2C%2038.97546999999997%5D%2C%20%5B-119.88099400000002%2C%2038.975573000000026%5D%2C%20%5B-119.881068%2C%2038.97562799999999%5D%2C%20%5B-119.88115000000002%2C%2038.975683999999994%5D%2C%20%5B-119.88124400000001%2C%2038.97574000000001%5D%2C%20%5B-119.88134000000001%2C%2038.97579099999999%5D%2C%20%5B-119.881441%2C%2038.97583700000004%5D%2C%20%5B-119.881528%2C%2038.97587199999997%5D%2C%20%5B-119.88163199999998%2C%2038.97590399999996%5D%2C%20%5B-119.881744%2C%2038.97593599999999%5D%2C%20%5B-119.881879%2C%2038.97596600000006%5D%2C%20%5B-119.88248999999999%2C%2038.97609600000001%5D%2C%20%5B-119.883198%2C%2038.97624000000003%5D%2C%20%5B-119.883315%2C%2038.976265999999995%5D%2C%20%5B-119.88343900000001%2C%2038.97630400000003%5D%2C%20%5B-119.88354%2C%2038.976338000000005%5D%2C%20%5B-119.88362100000002%2C%2038.976373%5D%2C%20%5B-119.88371199999999%2C%2038.97641600000001%5D%2C%20%5B-119.883798%2C%2038.97646599999999%5D%2C%20%5B-119.883881%2C%2038.976520999999956%5D%2C%20%5B-119.883962%2C%2038.97658099999999%5D%2C%20%5B-119.88402600000002%2C%2038.976644000000015%5D%2C%20%5B-119.884089%2C%2038.97670699999997%5D%2C%20%5B-119.88414700000001%2C%2038.976778000000024%5D%2C%20%5B-119.884194%2C%2038.97684899999995%5D%2C%20%5B-119.88423700000001%2C%2038.97692700000003%5D%2C%20%5B-119.884275%2C%2038.97700299999999%5D%2C%20%5B-119.884306%2C%2038.97707699999996%5D%2C%20%5B-119.88448300000002%2C%2038.977631999999964%5D%2C%20%5B-119.88475100000001%2C%2038.97842900000003%5D%2C%20%5B-119.884785%2C%2038.97851400000004%5D%2C%20%5B-119.88482%2C%2038.97858200000004%5D%2C%20%5B-119.884859%2C%2038.97865499999999%5D%2C%20%5B-119.884904%2C%2038.97872299999995%5D%2C%20%5B-119.884951%2C%2038.97878100000004%5D%2C%20%5B-119.885002%2C%2038.97883600000002%5D%2C%20%5B-119.88505499999998%2C%2038.97888400000001%5D%2C%20%5B-119.88510500000001%2C%2038.97892699999997%5D%2C%20%5B-119.88516%2C%2038.97896999999999%5D%2C%20%5B-119.885217%2C%2038.979009%5D%2C%20%5B-119.885278%2C%2038.979048999999996%5D%2C%20%5B-119.885347%2C%2038.97908899999995%5D%2C%20%5B-119.88542600000001%2C%2038.97912799999999%5D%2C%20%5B-119.885502%2C%2038.979160999999976%5D%2C%20%5B-119.88559600000002%2C%2038.97919499999999%5D%2C%20%5B-119.88568100000002%2C%2038.97921900000003%5D%2C%20%5B-119.88575099999998%2C%2038.97923699999999%5D%2C%20%5B-119.88581900000001%2C%2038.979249000000024%5D%2C%20%5B-119.88589700000001%2C%2038.979259999999954%5D%2C%20%5B-119.885992%2C%2038.97926800000002%5D%2C%20%5B-119.88605700000001%2C%2038.97926999999997%5D%2C%20%5B-119.88613%2C%2038.97926999999997%5D%2C%20%5B-119.886238%2C%2038.97926700000002%5D%2C%20%5B-119.886353%2C%2038.97925500000001%5D%2C%20%5B-119.88646500000002%2C%2038.979236%5D%2C%20%5B-119.886584%2C%2038.979208000000014%5D%2C%20%5B-119.88668100000001%2C%2038.97917800000001%5D%2C%20%5B-119.88678000000002%2C%2038.97914299999999%5D%2C%20%5B-119.88687600000002%2C%2038.97910499999998%5D%2C%20%5B-119.886968%2C%2038.97905699999999%5D%2C%20%5B-119.887054%2C%2038.97900399999999%5D%2C%20%5B-119.887123%2C%2038.97895499999998%5D%2C%20%5B-119.88718599999999%2C%2038.978905000000026%5D%2C%20%5B-119.887252%2C%2038.978843999999974%5D%2C%20%5B-119.88731%2C%2038.97877800000003%5D%2C%20%5B-119.887362%2C%2038.97871300000002%5D%2C%20%5B-119.88739899999999%2C%2038.97865400000002%5D%2C%20%5B-119.88743799999999%2C%2038.97857900000003%5D%2C%20%5B-119.887469%2C%2038.97850999999998%5D%2C%20%5B-119.88749499999999%2C%2038.97844299999995%5D%2C%20%5B-119.88751300000001%2C%2038.97837500000002%5D%2C%20%5B-119.887557%2C%2038.97815700000002%5D%2C%20%5B-119.88764%2C%2038.977758000000016%5D%2C%20%5B-119.88766200000002%2C%2038.97767099999999%5D%2C%20%5B-119.887679%2C%2038.977606000000016%5D%2C%20%5B-119.88770100000002%2C%2038.97753300000001%5D%2C%20%5B-119.88773800000001%2C%2038.977446999999984%5D%2C%20%5B-119.88777%2C%2038.97738199999999%5D%2C%20%5B-119.88780300000002%2C%2038.977319000000044%5D%2C%20%5B-119.88783499999998%2C%2038.97726000000004%5D%2C%20%5B-119.887901%2C%2038.97716300000002%5D%2C%20%5B-119.88795100000002%2C%2038.977097999999984%5D%2C%20%5B-119.88800899999998%2C%2038.977025999999974%5D%2C%20%5B-119.88806800000002%2C%2038.97696200000006%5D%2C%20%5B-119.88814300000001%2C%2038.97689100000002%5D%2C%20%5B-119.888251%2C%2038.97679799999997%5D%2C%20%5B-119.888431%2C%2038.976668999999994%5D%2C%20%5B-119.88852800000001%2C%2038.97659600000001%5D%2C%20%5B-119.888599%2C%2038.976555999999995%5D%2C%20%5B-119.888635%2C%2038.97654100000002%5D%2C%20%5B-119.88867200000001%2C%2038.97652500000004%5D%2C%20%5B-119.88876800000001%2C%2038.976501999999996%5D%2C%20%5B-119.888874%2C%2038.976487999999996%5D%2C%20%5B-119.888985%2C%2038.97648600000001%5D%2C%20%5B-119.88909199999999%2C%2038.97649399999998%5D%2C%20%5B-119.889235%2C%2038.97652000000003%5D%2C%20%5B-119.889377%2C%2038.976563%5D%2C%20%5B-119.889532%2C%2038.97661099999998%5D%2C%20%5B-119.889666%2C%2038.97664599999997%5D%2C%20%5B-119.88979%2C%2038.97667499999997%5D%2C%20%5B-119.88991400000002%2C%2038.976696%5D%2C%20%5B-119.890124%2C%2038.97672499999995%5D%2C%20%5B-119.890322%2C%2038.97674899999998%5D%2C%20%5B-119.89052700000002%2C%2038.976769999999945%5D%2C%20%5B-119.890649%2C%2038.976777999999996%5D%2C%20%5B-119.89073700000002%2C%2038.976777999999996%5D%2C%20%5B-119.89083%2C%2038.97676600000001%5D%2C%20%5B-119.890919%2C%2038.97674899999998%5D%2C%20%5B-119.891037%2C%2038.976722%5D%2C%20%5B-119.89139200000001%2C%2038.97662999999997%5D%2C%20%5B-119.89235800000002%2C%2038.976367999999994%5D%2C%20%5B-119.893417%2C%2038.976089000000066%5D%2C%20%5B-119.89361%2C%2038.97602700000002%5D%2C%20%5B-119.893726%2C%2038.975983999999976%5D%2C%20%5B-119.89386500000002%2C%2038.97592600000002%5D%2C%20%5B-119.89398299999999%2C%2038.97586699999998%5D%2C%20%5B-119.894107%2C%2038.975790999999965%5D%2C%20%5B-119.894228%2C%2038.97570099999996%5D%2C%20%5B-119.89434700000001%2C%2038.975595999999975%5D%2C%20%5B-119.89446399999999%2C%2038.97549200000001%5D%2C%20%5B-119.89466400000002%2C%2038.97529700000002%5D%2C%20%5B-119.89473100000001%2C%2038.97523800000001%5D%2C%20%5B-119.89481700000002%2C%2038.97517000000002%5D%2C%20%5B-119.894912%2C%2038.97510899999999%5D%2C%20%5B-119.895008%2C%2038.97505600000002%5D%2C%20%5B-119.89510699999998%2C%2038.97500700000004%5D%2C%20%5B-119.895201%2C%2038.974971000000025%5D%2C%20%5B-119.895318%2C%2038.97493500000003%5D%2C%20%5B-119.89542100000001%2C%2038.97490800000002%5D%2C%20%5B-119.89555000000001%2C%2038.974882%5D%2C%20%5B-119.89570600000002%2C%2038.974861%5D%2C%20%5B-119.895823%2C%2038.97485299999998%5D%2C%20%5B-119.89593199999999%2C%2038.974849999999975%5D%2C%20%5B-119.89603100000001%2C%2038.97484900000001%5D%2C%20%5B-119.89615000000002%2C%2038.974855999999974%5D%2C%20%5B-119.896411%2C%2038.97487899999997%5D%2C%20%5B-119.89654100000001%2C%2038.974886999999995%5D%2C%20%5B-119.89664000000002%2C%2038.97488599999999%5D%2C%20%5B-119.89675400000002%2C%2038.97487399999999%5D%2C%20%5B-119.89685000000001%2C%2038.97485299999998%5D%2C%20%5B-119.89692899999999%2C%2038.974830000000004%5D%2C%20%5B-119.89699200000001%2C%2038.97480199999998%5D%2C%20%5B-119.897074%2C%2038.97475500000004%5D%2C%20%5B-119.89714100000002%2C%2038.97470799999999%5D%2C%20%5B-119.897201%2C%2038.97465900000001%5D%2C%20%5B-119.897344%2C%2038.97450600000001%5D%2C%20%5B-119.89750100000002%2C%2038.974341000000024%5D%2C%20%5B-119.897566%2C%2038.974277000000015%5D%2C%20%5B-119.897647%2C%2038.974217999999965%5D%2C%20%5B-119.897738%2C%2038.974165999999975%5D%2C%20%5B-119.89784700000001%2C%2038.974106000000006%5D%2C%20%5B-119.89798500000002%2C%2038.974049999999956%5D%2C%20%5B-119.898103%2C%2038.97400700000003%5D%2C%20%5B-119.89821400000001%2C%2038.973960999999946%5D%2C%20%5B-119.898317%2C%2038.97390599999998%5D%2C%20%5B-119.89840299999999%2C%2038.973852999999984%5D%2C%20%5B-119.89850400000002%2C%2038.97377900000002%5D%2C%20%5B-119.89859500000001%2C%2038.973705000000045%5D%2C%20%5B-119.89867900000002%2C%2038.973639%5D%2C%20%5B-119.89875400000001%2C%2038.973574%5D%2C%20%5B-119.899037%2C%2038.97331899999999%5D%2C%20%5B-119.89910899999998%2C%2038.97326199999998%5D%2C%20%5B-119.899173%2C%2038.97321499999997%5D%2C%20%5B-119.89926%2C%2038.97316399999997%5D%2C%20%5B-119.899363%2C%2038.973120000000016%5D%2C%20%5B-119.899449%2C%2038.97309199999996%5D%2C%20%5B-119.899544%2C%2038.97307299999995%5D%2C%20%5B-119.899628%2C%2038.97306500000005%5D%2C%20%5B-119.899707%2C%2038.97306599999997%5D%2C%20%5B-119.89984%2C%2038.97308199999998%5D%2C%20%5B-119.89995800000001%2C%2038.973114999999986%5D%2C%20%5B-119.90005%2C%2038.97314699999998%5D%2C%20%5B-119.90012899999999%2C%2038.973182000000016%5D%2C%20%5B-119.900203%2C%2038.97322400000001%5D%2C%20%5B-119.900269%2C%2038.97327499999999%5D%2C%20%5B-119.90033000000001%2C%2038.973333%5D%2C%20%5B-119.90038400000002%2C%2038.973401%5D%2C%20%5B-119.90043500000002%2C%2038.97347900000005%5D%2C%20%5B-119.900473%2C%2038.97356600000002%5D%2C%20%5B-119.9005%2C%2038.97363499999995%5D%2C%20%5B-119.90051700000001%2C%2038.97372199999998%5D%2C%20%5B-119.900602%2C%2038.97435300000002%5D%2C%20%5B-119.900624%2C%2038.974502000000015%5D%2C%20%5B-119.900641%2C%2038.97458600000001%5D%2C%20%5B-119.90067%2C%2038.974655000000034%5D%2C%20%5B-119.900698%2C%2038.97470799999999%5D%2C%20%5B-119.90073800000002%2C%2038.974772999999985%5D%2C%20%5B-119.90078100000001%2C%2038.97482799999995%5D%2C%20%5B-119.90083%2C%2038.97487399999999%5D%2C%20%5B-119.900882%2C%2038.974914999999996%5D%2C%20%5B-119.90095100000002%2C%2038.97495599999998%5D%2C%20%5B-119.901022%2C%2038.97498000000004%5D%2C%20%5B-119.90110500000002%2C%2038.97499900000007%5D%2C%20%5B-119.90118600000001%2C%2038.97500700000004%5D%2C%20%5B-119.901289%2C%2038.97500100000003%5D%2C%20%5B-119.90136200000002%2C%2038.97498500000003%5D%2C%20%5B-119.90144400000001%2C%2038.97495399999998%5D%2C%20%5B-119.901514%2C%2038.974914999999996%5D%2C%20%5B-119.90157399999998%2C%2038.974872999999995%5D%2C%20%5B-119.901634%2C%2038.974804000000006%5D%2C%20%5B-119.90167000000001%2C%2038.97474299999999%5D%2C%20%5B-119.901694%2C%2038.97467799999997%5D%2C%20%5B-119.901698%2C%2038.97461199999997%5D%2C%20%5B-119.901701%2C%2038.974353999999956%5D%2C%20%5B-119.90168800000001%2C%2038.97415099999999%5D%2C%20%5B-119.90169699999998%2C%2038.97408399999996%5D%2C%20%5B-119.901707%2C%2038.97402999999998%5D%2C%20%5B-119.901726%2C%2038.97397100000002%5D%2C%20%5B-119.90175600000002%2C%2038.97391300000001%5D%2C%20%5B-119.901794%2C%2038.97386300000003%5D%2C%20%5B-119.90184300000001%2C%2038.97381599999999%5D%2C%20%5B-119.90189500000001%2C%2038.97377199999996%5D%2C%20%5B-119.901968%2C%2038.973725000000016%5D%2C%20%5B-119.902054%2C%2038.97367799999996%5D%2C%20%5B-119.90213%2C%2038.97365000000001%5D%2C%20%5B-119.902196%2C%2038.973634999999966%5D%2C%20%5B-119.90229699999999%2C%2038.97362200000002%5D%2C%20%5B-119.90265499999998%2C%2038.97358200000002%5D%2C%20%5B-119.90311999999999%2C%2038.97353200000001%5D%2C%20%5B-119.90322800000001%2C%2038.97351499999997%5D%2C%20%5B-119.90335700000001%2C%2038.973493999999995%5D%2C%20%5B-119.90346599999998%2C%2038.973470999999975%5D%2C%20%5B-119.90356700000001%2C%2038.97344000000001%5D%2C%20%5B-119.90361500000002%2C%2038.973423999999945%5D%2C%20%5B-119.90368400000001%2C%2038.97339600000003%5D%2C%20%5B-119.90377099999999%2C%2038.973350999999965%5D%2C%20%5B-119.90387900000002%2C%2038.97328899999998%5D%2C%20%5B-119.90407100000002%2C%2038.97317900000001%5D%2C%20%5B-119.904424%2C%2038.97296200000002%5D%2C%20%5B-119.90460599999999%2C%2038.97287899999997%5D%2C%20%5B-119.90471%2C%2038.972839%5D%2C%20%5B-119.904793%2C%2038.97281599999998%5D%2C%20%5B-119.904904%2C%2038.972789000000006%5D%2C%20%5B-119.905006%2C%2038.97277400000001%5D%2C%20%5B-119.90511%2C%2038.972761000000006%5D%2C%20%5B-119.90522700000001%2C%2038.97275700000001%5D%2C%20%5B-119.90533%2C%2038.97275900000002%5D%2C%20%5B-119.905567%2C%2038.972769%5D%2C%20%5B-119.905749%2C%2038.972775999999996%5D%2C%20%5B-119.905919%2C%2038.97278099999999%5D%2C%20%5B-119.90607900000002%2C%2038.972780999999976%5D%2C%20%5B-119.906202%2C%2038.97277800000001%5D%2C%20%5B-119.90632999999998%2C%2038.97276999999997%5D%2C%20%5B-119.90645299999998%2C%2038.972761000000006%5D%2C%20%5B-119.90659999999998%2C%2038.972742%5D%2C%20%5B-119.906742%2C%2038.97272499999998%5D%2C%20%5B-119.907124%2C%2038.972675000000024%5D%2C%20%5B-119.90726000000001%2C%2038.97265899999997%5D%2C%20%5B-119.907408%2C%2038.97264899999999%5D%2C%20%5B-119.90753300000002%2C%2038.97265000000003%5D%2C%20%5B-119.907646%2C%2038.972654000000006%5D%2C%20%5B-119.907761%2C%2038.97266000000001%5D%2C%20%5B-119.90788199999999%2C%2038.97267399999999%5D%2C%20%5B-119.907993%2C%2038.97269399999996%5D%2C%20%5B-119.908117%2C%2038.97272499999998%5D%2C%20%5B-119.90823500000002%2C%2038.97275999999999%5D%2C%20%5B-119.90832900000001%2C%2038.97279200000001%5D%2C%20%5B-119.908564%2C%2038.97288100000001%5D%2C%20%5B-119.908701%2C%2038.97293000000001%5D%2C%20%5B-119.90880299999999%2C%2038.97295899999995%5D%2C%20%5B-119.90892%2C%2038.97298500000001%5D%2C%20%5B-119.909047%2C%2038.97300599999999%5D%2C%20%5B-119.909215%2C%2038.973023999999995%5D%2C%20%5B-119.90937%2C%2038.973034000000055%5D%2C%20%5B-119.909498%2C%2038.973036000000036%5D%2C%20%5B-119.90962500000002%2C%2038.97302999999995%5D%2C%20%5B-119.90979100000001%2C%2038.97301699999999%5D%2C%20%5B-119.909962%2C%2038.972993999999986%5D%2C%20%5B-119.910096%2C%2038.972970000000004%5D%2C%20%5B-119.91023799999999%2C%2038.97293800000002%5D%2C%20%5B-119.910396%2C%2038.972890999999954%5D%2C%20%5B-119.91049300000002%2C%2038.97285999999998%5D%2C%20%5B-119.91058%2C%2038.972823999999996%5D%2C%20%5B-119.910672%2C%2038.972775999999996%5D%2C%20%5B-119.91079000000002%2C%2038.97271%5D%2C%20%5B-119.910891%2C%2038.972641%5D%2C%20%5B-119.910985%2C%2038.972576000000004%5D%2C%20%5B-119.911063%2C%2038.97251999999997%5D%2C%20%5B-119.91112%2C%2038.972466%5D%2C%20%5B-119.91118%2C%2038.97240000000004%5D%2C%20%5B-119.911237%2C%2038.972336999999996%5D%2C%20%5B-119.911299%2C%2038.97225999999998%5D%2C%20%5B-119.911579%2C%2038.97188800000003%5D%2C%20%5B-119.911633%2C%2038.971804999999975%5D%2C%20%5B-119.911702%2C%2038.97170899999999%5D%2C%20%5B-119.911756%2C%2038.971642999999986%5D%2C%20%5B-119.91183000000001%2C%2038.97157499999999%5D%2C%20%5B-119.911913%2C%2038.97149899999998%5D%2C%20%5B-119.91202%2C%2038.97142800000001%5D%2C%20%5B-119.91210200000002%2C%2038.97138200000001%5D%2C%20%5B-119.91220799999999%2C%2038.971334%5D%2C%20%5B-119.91232800000002%2C%2038.971289%5D%2C%20%5B-119.91243899999999%2C%2038.971255999999975%5D%2C%20%5B-119.91255000000001%2C%2038.97122600000001%5D%2C%20%5B-119.91285600000002%2C%2038.97115700000001%5D%2C%20%5B-119.91323%2C%2038.971068999999986%5D%2C%20%5B-119.91334399999998%2C%2038.97104400000003%5D%2C%20%5B-119.913515%2C%2038.97099699999999%5D%2C%20%5B-119.913688%2C%2038.970945999999984%5D%2C%20%5B-119.913815%2C%2038.97089699999996%5D%2C%20%5B-119.913971%2C%2038.97083000000002%5D%2C%20%5B-119.91414800000001%2C%2038.97075300000002%5D%2C%20%5B-119.914296%2C%2038.970689999999976%5D%2C%20%5B-119.914544%2C%2038.97057699999997%5D%2C%20%5B-119.91492800000002%2C%2038.970413999999984%5D%2C%20%5B-119.91503699999998%2C%2038.97037699999999%5D%2C%20%5B-119.91514500000001%2C%2038.97034800000001%5D%2C%20%5B-119.91524%2C%2038.97033399999999%5D%2C%20%5B-119.91533900000002%2C%2038.970328%5D%2C%20%5B-119.91544700000001%2C%2038.970333000000046%5D%2C%20%5B-119.91553200000001%2C%2038.97034500000001%5D%2C%20%5B-119.91563%2C%2038.970365999999984%5D%2C%20%5B-119.91571%2C%2038.97039099999996%5D%2C%20%5B-119.91579300000001%2C%2038.970424000000015%5D%2C%20%5B-119.91587100000001%2C%2038.970463000000045%5D%2C%20%5B-119.91593%2C%2038.970496999999945%5D%2C%20%5B-119.916005%2C%2038.97054300000002%5D%2C%20%5B-119.91619500000002%2C%2038.97065900000002%5D%2C%20%5B-119.91627300000002%2C%2038.970701999999996%5D%2C%20%5B-119.91634%2C%2038.97072999999999%5D%2C%20%5B-119.91638700000001%2C%2038.97074300000003%5D%2C%20%5B-119.91644%2C%2038.97075400000004%5D%2C%20%5B-119.916525%2C%2038.97076499999995%5D%2C%20%5B-119.916611%2C%2038.970763%5D%2C%20%5B-119.91668800000001%2C%2038.97075300000002%5D%2C%20%5B-119.91676699999998%2C%2038.970737999999976%5D%2C%20%5B-119.916821%2C%2038.970716%5D%2C%20%5B-119.916873%2C%2038.970684999999996%5D%2C%20%5B-119.916927%2C%2038.970639999999975%5D%2C%20%5B-119.91697599999999%2C%2038.970582999999955%5D%2C%20%5B-119.91701800000001%2C%2038.970514%5D%2C%20%5B-119.917046%2C%2038.97044200000003%5D%2C%20%5B-119.91706599999999%2C%2038.970373999999985%5D%2C%20%5B-119.91707799999999%2C%2038.970285999999966%5D%2C%20%5B-119.9171%2C%2038.97002200000003%5D%2C%20%5B-119.917104%2C%2038.96991300000002%5D%2C%20%5B-119.917113%2C%2038.969835999999965%5D%2C%20%5B-119.917124%2C%2038.96975200000003%5D%2C%20%5B-119.91714%2C%2038.96967099999999%5D%2C%20%5B-119.91716599999998%2C%2038.96957300000002%5D%2C%20%5B-119.917178%2C%2038.96954000000002%5D%2C%20%5B-119.91730600000001%2C%2038.96920299999995%5D%2C%20%5B-119.917367%2C%2038.96905600000002%5D%2C%20%5B-119.917401%2C%2038.968961999999976%5D%2C%20%5B-119.91742300000001%2C%2038.96884399999997%5D%2C%20%5B-119.91742900000001%2C%2038.96877599999999%5D%2C%20%5B-119.917445%2C%2038.96836099999998%5D%2C%20%5B-119.917449%2C%2038.968255000000006%5D%2C%20%5B-119.917461%2C%2038.96816399999999%5D%2C%20%5B-119.917478%2C%2038.96807699999998%5D%2C%20%5B-119.917505%2C%2038.968004000000015%5D%2C%20%5B-119.917544%2C%2038.96792099999996%5D%2C%20%5B-119.917601%2C%2038.96783200000001%5D%2C%20%5B-119.917658%2C%2038.96775600000002%5D%2C%20%5B-119.917724%2C%2038.967693%5D%2C%20%5B-119.917818%2C%2038.967615000000016%5D%2C%20%5B-119.91792500000001%2C%2038.96753199999997%5D%2C%20%5B-119.91802100000001%2C%2038.96747%5D%2C%20%5B-119.918094%2C%2038.96742900000003%5D%2C%20%5B-119.918191%2C%2038.967385000000064%5D%2C%20%5B-119.91829900000002%2C%2038.96735299999998%5D%2C%20%5B-119.918424%2C%2038.96731900000002%5D%2C%20%5B-119.91858899999998%2C%2038.96728599999998%5D%2C%20%5B-119.918796%2C%2038.96724799999998%5D%2C%20%5B-119.919197%2C%2038.96717000000005%5D%2C%20%5B-119.91968%2C%2038.96710799999998%5D%2C%20%5B-119.919974%2C%2038.967051%5D%2C%20%5B-119.920787%2C%2038.966901999999926%5D%2C%20%5B-119.92094200000001%2C%2038.96689299999996%5D%2C%20%5B-119.92108600000002%2C%2038.96688999999994%5D%2C%20%5B-119.921218%2C%2038.966894%5D%2C%20%5B-119.921327%2C%2038.966904000000014%5D%2C%20%5B-119.921499%2C%2038.96693299999997%5D%2C%20%5B-119.92163200000002%2C%2038.966962000000045%5D%2C%20%5B-119.921781%2C%2038.96700399999997%5D%2C%20%5B-119.92187299999999%2C%2038.96703400000001%5D%2C%20%5B-119.921994%2C%2038.967077999999994%5D%2C%20%5B-119.922105%2C%2038.96712099999997%5D%2C%20%5B-119.922344%2C%2038.967225000000035%5D%2C%20%5B-119.92241900000002%2C%2038.967257%5D%2C%20%5B-119.922839%2C%2038.967449%5D%2C%20%5B-119.922997%2C%2038.967504000000005%5D%2C%20%5B-119.92313700000001%2C%2038.967541999999995%5D%2C%20%5B-119.92327899999998%2C%2038.967575%5D%2C%20%5B-119.923417%2C%2038.967597000000005%5D%2C%20%5B-119.92354299999998%2C%2038.967608%5D%2C%20%5B-119.923663%2C%2038.96761100000001%5D%2C%20%5B-119.92380000000001%2C%2038.96761000000001%5D%2C%20%5B-119.923927%2C%2038.96760500000003%5D%2C%20%5B-119.924121%2C%2038.967586%5D%2C%20%5B-119.924468%2C%2038.967549%5D%2C%20%5B-119.92462600000002%2C%2038.96753700000001%5D%2C%20%5B-119.924782%2C%2038.967529999999975%5D%2C%20%5B-119.924917%2C%2038.967529999999975%5D%2C%20%5B-119.92506800000001%2C%2038.96753700000001%5D%2C%20%5B-119.9252%2C%2038.967544000000004%5D%2C%20%5B-119.92534000000002%2C%2038.96755699999998%5D%2C%20%5B-119.925464%2C%2038.96757399999997%5D%2C%20%5B-119.92555900000002%2C%2038.967592%5D%2C%20%5B-119.92601300000001%2C%2038.967699%5D%2C%20%5B-119.92705700000002%2C%2038.96795500000002%5D%2C%20%5B-119.92812699999999%2C%2038.968212%5D%2C%20%5B-119.92844200000002%2C%2038.96828099999998%5D%2C%20%5B-119.92860399999999%2C%2038.96831300000003%5D%2C%20%5B-119.92875500000001%2C%2038.96833899999999%5D%2C%20%5B-119.92888400000001%2C%2038.96835699999993%5D%2C%20%5B-119.92902799999999%2C%2038.968379000000006%5D%2C%20%5B-119.92916299999999%2C%2038.96839099999998%5D%2C%20%5B-119.92933400000001%2C%2038.96840199999998%5D%2C%20%5B-119.929474%2C%2038.96840699999998%5D%2C%20%5B-119.929531%2C%2038.96840800000007%5D%2C%20%5B-119.929654%2C%2038.96840899999997%5D%2C%20%5B-119.92982300000001%2C%2038.96840800000007%5D%2C%20%5B-119.930227%2C%2038.96839999999998%5D%2C%20%5B-119.930575%2C%2038.96838999999997%5D%2C%20%5B-119.93081699999999%2C%2038.968378%5D%2C%20%5B-119.931108%2C%2038.96837300000001%5D%2C%20%5B-119.931102%2C%2038.968524%5D%2C%20%5B-119.931108%2C%2038.96837300000001%5D%2C%20%5B-119.931571%2C%2038.96837699999999%5D%2C%20%5B-119.932752%2C%2038.968392999999985%5D%2C%20%5B-119.933239%2C%2038.96839600000006%5D%2C%20%5B-119.93331200000002%2C%2038.968396999999996%5D%2C%20%5B-119.93351600000001%2C%2038.96839600000006%5D%2C%20%5B-119.93368%2C%2038.968389999999985%5D%2C%20%5B-119.93380799999998%2C%2038.968381000000015%5D%2C%20%5B-119.93388599999999%2C%2038.96837500000001%5D%2C%20%5B-119.93398%2C%2038.96836300000005%5D%2C%20%5B-119.9341%2C%2038.968341999999986%5D%2C%20%5B-119.93424300000001%2C%2038.968318000000046%5D%2C%20%5B-119.934388%2C%2038.96828500000001%5D%2C%20%5B-119.934596%2C%2038.968234%5D%2C%20%5B-119.93474700000002%2C%2038.96819099999996%5D%2C%20%5B-119.93486200000001%2C%2038.96815999999997%5D%2C%20%5B-119.934953%2C%2038.968130999999985%5D%2C%20%5B-119.93503200000002%2C%2038.96810399999999%5D%2C%20%5B-119.935123%2C%2038.968071000000016%5D%2C%20%5B-119.935208%2C%2038.968035%5D%2C%20%5B-119.935317%2C%2038.96798800000002%5D%2C%20%5B-119.935436%2C%2038.96792899999997%5D%2C%20%5B-119.93575099999998%2C%2038.96778299999998%5D%2C%20%5B-119.93578300000001%2C%2038.967769999999994%5D%2C%20%5B-119.935833%2C%2038.96774899999995%5D%2C%20%5B-119.935917%2C%2038.967723%5D%2C%20%5B-119.936018%2C%2038.967697%5D%2C%20%5B-119.93638900000002%2C%2038.96762699999995%5D%2C%20%5B-119.93656100000001%2C%2038.967366999999946%5D%2C%20%5B-119.936776%2C%2038.96702199999998%5D%2C%20%5B-119.93705699999998%2C%2038.966615999999995%5D%2C%20%5B-119.937723%2C%2038.965639999999965%5D%2C%20%5B-119.938541%2C%2038.96443399999994%5D%2C%20%5B-119.938792%2C%2038.964066999999986%5D%2C%20%5B-119.938971%2C%2038.96380700000001%5D%2C%20%5B-119.939069%2C%2038.96366500000003%5D%2C%20%5B-119.93939299999998%2C%2038.96318299999997%5D%2C%20%5B-119.939727%2C%2038.962688000000036%5D%2C%20%5B-119.93989600000002%2C%2038.962701999999965%5D%2C%20%5B-119.94001100000001%2C%2038.96271199999998%5D%2C%20%5B-119.93989600000002%2C%2038.962701999999965%5D%2C%20%5B-119.939727%2C%2038.962688000000036%5D%2C%20%5B-119.93993%2C%2038.96239%5D%2C%20%5B-119.940364%2C%2038.96175199999997%5D%2C%20%5B-119.94054%2C%2038.96149400000002%5D%2C%20%5B-119.94061600000002%2C%2038.96138199999997%5D%2C%20%5B-119.94069%2C%2038.961273%5D%2C%20%5B-119.940691%2C%2038.961272%5D%2C%20%5B-119.940807%2C%2038.96110200000001%5D%2C%20%5B-119.940987%2C%2038.960809999999974%5D%2C%20%5B-119.941263%2C%2038.960426000000034%5D%2C%20%5B-119.941322%2C%2038.960345%5D%2C%20%5B-119.941366%2C%2038.96027899999996%5D%2C%20%5B-119.94207699999998%2C%2038.95921699999998%5D%2C%20%5B-119.94212100000001%2C%2038.959151999999996%5D%2C%20%5B-119.94217800000001%2C%2038.95906599999999%5D%2C%20%5B-119.94262500000002%2C%2038.95839200000003%5D%2C%20%5B-119.942696%2C%2038.958281999999954%5D%2C%20%5B-119.942567%2C%2038.95822999999997%5D%2C%20%5B-119.942446%2C%2038.95818100000001%5D%2C%20%5B-119.94216600000001%2C%2038.95806500000003%5D%2C%20%5B-119.94177599999999%2C%2038.95788999999996%5D%2C%20%5B-119.941823%2C%2038.957807999999986%5D%2C%20%5B-119.94187600000001%2C%2038.957728%5D%2C%20%5B-119.941937%2C%2038.95764199999997%5D%2C%20%5B-119.94215%2C%2038.957739%5D%5D%2C%20%22type%22%3A%20%22LineString%22%7D%2C%20%22id%22%3A%20%222%22%2C%20%22properties%22%3A%20%7B%22__folium_color%22%3A%20%22%239edae5%22%2C%20%22agency%22%3A%20%22Tahoe%20Transportation%22%2C%20%22itp_id%22%3A%20331%2C%20%22route_id%22%3A%20%2212135%22%2C%20%22route_length%22%3A%20105348.225810024%2C%20%22route_name%22%3A%20%22Valley%20Express%20Daily%22%2C%20%22route_type%22%3A%20%223%22%7D%2C%20%22type%22%3A%20%22Feature%22%7D%2C%20%7B%22bbox%22%3A%20%5B-120.01027499999998%2C%2038.90513%2C%20-119.93473395647402%2C%2038.97029831334939%5D%2C%20%22geometry%22%3A%20%7B%22coordinates%22%3A%20%5B%5B-119.93483991175599%2C%2038.96934703329696%5D%2C%20%5B-119.93483724562802%2C%2038.96936983483582%5D%2C%20%5B-119.934838134337%2C%2038.96940541904027%5D%2C%20%5B-119.934837431151%2C%2038.96945627362767%5D%2C%20%5B-119.934847651306%2C%2038.96951465928154%5D%2C%20%5B-119.934868856474%2C%2038.969649611035514%5D%2C%20%5B-119.93487402041602%2C%2038.96968183217105%5D%2C%20%5B-119.934883072871%2C%2038.96973175047748%5D%2C%20%5B-119.934886475743%2C%2038.96975298813029%5D%2C%20%5B-119.934879423367%2C%2038.96978177872998%5D%2C%20%5B-119.934872656093%2C%2038.9698096531362%5D%2C%20%5B-119.93486230269401%2C%2038.969850162342105%5D%2C%20%5B-119.93485173924302%2C%2038.96989424724377%5D%2C%20%5B-119.934834708817%2C%2038.96996153910347%5D%2C%20%5B-119.93482967967401%2C%2038.96998473865288%5D%2C%20%5B-119.934821800682%2C%2038.97001549758959%5D%2C%20%5B-119.934801475626%2C%2038.97004624373048%5D%2C%20%5B-119.93473395647402%2C%2038.97014555317539%5D%2C%20%5B-119.934758593016%2C%2038.97018634926166%5D%2C%20%5B-119.93480210691501%2C%2038.970257991107474%5D%2C%20%5B-119.93486269907301%2C%2038.97026723707521%5D%2C%20%5B-119.93492419422401%2C%2038.97027613597131%5D%2C%20%5B-119.93499376401698%2C%2038.97028643235108%5D%2C%20%5B-119.93503921400601%2C%2038.97029323032812%5D%2C%20%5B-119.935076094376%2C%2038.97029831334939%5D%2C%20%5B-119.935087418779%2C%2038.97024444510998%5D%2C%20%5B-119.935097588263%2C%2038.97019133066811%5D%2C%20%5B-119.9351198331%2C%2038.970105214797215%5D%2C%20%5B-119.93514109253101%2C%2038.97002927874608%5D%2C%20%5B-119.935154971478%2C%2038.96997899855833%5D%2C%20%5B-119.935213988478%2C%2038.96978267169718%5D%2C%20%5B-119.93526179531%2C%2038.96964162763441%5D%2C%20%5B-119.935269807194%2C%2038.96962010959516%5D%2C%20%5B-119.93526799999998%2C%2038.96962399999997%5D%2C%20%5B-119.935274%2C%2038.96960700000001%5D%2C%20%5B-119.93532000000002%2C%2038.969469000000004%5D%2C%20%5B-119.935382%2C%2038.96930399999997%5D%2C%20%5B-119.93544900000002%2C%2038.969156%5D%2C%20%5B-119.935514%2C%2038.96901299999999%5D%2C%20%5B-119.935575%2C%2038.96889900000005%5D%2C%20%5B-119.93566600000001%2C%2038.96872800000001%5D%2C%20%5B-119.935701%2C%2038.968663000000014%5D%2C%20%5B-119.935782%2C%2038.96851800000002%5D%2C%20%5B-119.935989%2C%2038.96820800000003%5D%2C%20%5B-119.93611100000001%2C%2038.968036999999974%5D%2C%20%5B-119.93638900000002%2C%2038.96762699999995%5D%2C%20%5B-119.93656100000001%2C%2038.967366999999946%5D%2C%20%5B-119.936776%2C%2038.96702199999998%5D%2C%20%5B-119.93705699999998%2C%2038.966615999999995%5D%2C%20%5B-119.937723%2C%2038.965639999999965%5D%2C%20%5B-119.938541%2C%2038.96443399999994%5D%2C%20%5B-119.938792%2C%2038.964066999999986%5D%2C%20%5B-119.938971%2C%2038.96380700000001%5D%2C%20%5B-119.939069%2C%2038.96366500000003%5D%2C%20%5B-119.93939299999998%2C%2038.96318299999997%5D%2C%20%5B-119.939727%2C%2038.962688000000036%5D%2C%20%5B-119.93989600000002%2C%2038.962701999999965%5D%2C%20%5B-119.94001100000001%2C%2038.96271199999998%5D%2C%20%5B-119.93989600000002%2C%2038.962701999999965%5D%2C%20%5B-119.939727%2C%2038.962688000000036%5D%2C%20%5B-119.93993%2C%2038.96239%5D%2C%20%5B-119.940364%2C%2038.96175199999997%5D%2C%20%5B-119.94054%2C%2038.96149400000002%5D%2C%20%5B-119.94061600000002%2C%2038.96138199999997%5D%2C%20%5B-119.94069%2C%2038.961273%5D%2C%20%5B-119.940691%2C%2038.961272%5D%2C%20%5B-119.940807%2C%2038.96110200000001%5D%2C%20%5B-119.940987%2C%2038.960809999999974%5D%2C%20%5B-119.941263%2C%2038.960426000000034%5D%2C%20%5B-119.941322%2C%2038.960345%5D%2C%20%5B-119.941366%2C%2038.96027899999996%5D%2C%20%5B-119.94207699999998%2C%2038.95921699999998%5D%2C%20%5B-119.94212100000001%2C%2038.959151999999996%5D%2C%20%5B-119.94217800000001%2C%2038.95906599999999%5D%2C%20%5B-119.94262500000002%2C%2038.95839200000003%5D%2C%20%5B-119.942696%2C%2038.958281999999954%5D%2C%20%5B-119.943129%2C%2038.95763399999999%5D%2C%20%5B-119.94357%2C%2038.95697200000003%5D%2C%20%5B-119.943572%2C%2038.956967999999996%5D%2C%20%5B-119.943615%2C%2038.95690499999994%5D%2C%20%5B-119.944029%2C%2038.95628700000002%5D%2C%20%5B-119.94458600000002%2C%2038.955481999999996%5D%2C%20%5B-119.94466400000002%2C%2038.955375999999966%5D%2C%20%5B-119.94479999999999%2C%2038.95517299999998%5D%2C%20%5B-119.944892%2C%2038.955052999999985%5D%2C%20%5B-119.94498500000002%2C%2038.95494600000003%5D%2C%20%5B-119.94511%2C%2038.954799%5D%2C%20%5B-119.94523100000002%2C%2038.95466900000002%5D%2C%20%5B-119.945261%2C%2038.95463299999995%5D%2C%20%5B-119.94537699999998%2C%2038.95450599999996%5D%2C%20%5B-119.94546300000002%2C%2038.95441500000003%5D%2C%20%5B-119.94553499999999%2C%2038.95433800000002%5D%2C%20%5B-119.945603%2C%2038.95427700000001%5D%2C%20%5B-119.945677%2C%2038.954214999999984%5D%2C%20%5B-119.945722%2C%2038.95418100000002%5D%2C%20%5B-119.945785%2C%2038.954132000000044%5D%2C%20%5B-119.94598900000001%2C%2038.953979%5D%2C%20%5B-119.94607200000002%2C%2038.953923999999965%5D%2C%20%5B-119.94623499999999%2C%2038.953816000000025%5D%2C%20%5B-119.94612300000001%2C%2038.95371400000001%5D%2C%20%5B-119.946095%2C%2038.95368800000002%5D%2C%20%5B-119.946076%2C%2038.95366399999998%5D%2C%20%5B-119.94606600000002%2C%2038.95363199999997%5D%2C%20%5B-119.94606600000002%2C%2038.953601000000006%5D%2C%20%5B-119.94607900000001%2C%2038.95356199999999%5D%2C%20%5B-119.946108%2C%2038.953523000000004%5D%2C%20%5B-119.94630600000002%2C%2038.95327499999998%5D%2C%20%5B-119.94636900000002%2C%2038.95319400000003%5D%2C%20%5B-119.94649200000002%2C%2038.953041000000056%5D%2C%20%5B-119.946645%2C%2038.95283599999999%5D%2C%20%5B-119.94673600000002%2C%2038.95271000000001%5D%2C%20%5B-119.946782%2C%2038.95264499999996%5D%2C%20%5B-119.946819%2C%2038.95259200000002%5D%2C%20%5B-119.94687100000002%2C%2038.952508%5D%2C%20%5B-119.946876%2C%2038.95250099999997%5D%2C%20%5B-119.94693499999998%2C%2038.952398%5D%2C%20%5B-119.946972%2C%2038.952333%5D%2C%20%5B-119.94704300000001%2C%2038.95221700000001%5D%2C%20%5B-119.947092%2C%2038.95212800000001%5D%2C%20%5B-119.947118%2C%2038.952062999999995%5D%2C%20%5B-119.94715399999998%2C%2038.951976000000016%5D%2C%20%5B-119.94718099999999%2C%2038.95191600000002%5D%2C%20%5B-119.94721999999999%2C%2038.951848999999974%5D%2C%20%5B-119.94737900000001%2C%2038.951615%5D%2C%20%5B-119.947506%2C%2038.95142899999996%5D%2C%20%5B-119.947536%2C%2038.951381999999995%5D%2C%20%5B-119.94756199999999%2C%2038.951333999999974%5D%2C%20%5B-119.94759100000002%2C%2038.951260999999995%5D%2C%20%5B-119.94762200000001%2C%2038.95117000000001%5D%2C%20%5B-119.947719%2C%2038.95082000000001%5D%2C%20%5B-119.947786%2C%2038.950618%5D%2C%20%5B-119.94780400000002%2C%2038.950557%5D%2C%20%5B-119.947821%2C%2038.95049999999996%5D%2C%20%5B-119.94788299999999%2C%2038.95031399999998%5D%2C%20%5B-119.947948%2C%2038.95014600000001%5D%2C%20%5B-119.94802400000002%2C%2038.94995%5D%2C%20%5B-119.94811700000001%2C%2038.94972599999998%5D%2C%20%5B-119.94820700000001%2C%2038.94948500000002%5D%2C%20%5B-119.94833300000002%2C%2038.94917399999996%5D%2C%20%5B-119.948637%2C%2038.94840299999999%5D%2C%20%5B-119.948713%2C%2038.94820299999999%5D%2C%20%5B-119.94874499999999%2C%2038.94811799999996%5D%2C%20%5B-119.94878300000002%2C%2038.94802400000003%5D%2C%20%5B-119.948824%2C%2038.94792600000001%5D%2C%20%5B-119.948896%2C%2038.94779400000001%5D%2C%20%5B-119.94897300000001%2C%2038.94765599999996%5D%2C%20%5B-119.94904199999999%2C%2038.947545999999996%5D%2C%20%5B-119.949088%2C%2038.94748100000006%5D%2C%20%5B-119.94913799999999%2C%2038.94741299999993%5D%2C%20%5B-119.94923%2C%2038.947298%5D%2C%20%5B-119.94929%2C%2038.947226000000015%5D%2C%20%5B-119.94934800000001%2C%2038.94713899999998%5D%2C%20%5B-119.949425%2C%2038.94700599999999%5D%2C%20%5B-119.94948900000001%2C%2038.94687500000002%5D%2C%20%5B-119.94951600000002%2C%2038.94681000000006%5D%2C%20%5B-119.949616%2C%2038.946560000000005%5D%2C%20%5B-119.94981700000001%2C%2038.946042999999975%5D%2C%20%5B-119.94992500000001%2C%2038.94575000000001%5D%2C%20%5B-119.949956%2C%2038.94566800000002%5D%2C%20%5B-119.95000900000001%2C%2038.94552199999998%5D%2C%20%5B-119.95004299999998%2C%2038.945436%5D%2C%20%5B-119.95005099999999%2C%2038.945418000000025%5D%2C%20%5B-119.950437%2C%2038.94442900000001%5D%2C%20%5B-119.950689%2C%2038.94382599999998%5D%2C%20%5B-119.95076200000001%2C%2038.94364699999999%5D%2C%20%5B-119.95083400000001%2C%2038.943468999999986%5D%2C%20%5B-119.950944271079%2C%2038.943217068685016%5D%2C%20%5B-119.951178527388%2C%2038.94274055092159%5D%2C%20%5B-119.951629020285%2C%2038.94206080679931%5D%2C%20%5B-119.951917335742%2C%2038.94159829677142%5D%2C%20%5B-119.952205651199%2C%2038.941163814994%5D%2C%20%5B-119.95313%2C%2038.94245600000003%5D%2C%20%5B-119.953241%2C%2038.94260599999995%5D%2C%20%5B-119.953297%2C%2038.94268199999999%5D%2C%20%5B-119.953489%2C%2038.942940999999976%5D%2C%20%5B-119.953573%2C%2038.943056000000034%5D%2C%20%5B-119.953766%2C%2038.94331899999999%5D%2C%20%5B-119.95395499999998%2C%2038.943577999999995%5D%2C%20%5B-119.95399999999998%2C%2038.943641%5D%2C%20%5B-119.954121%2C%2038.94358999999999%5D%2C%20%5B-119.95607100000001%2C%2038.942712000000036%5D%2C%20%5B-119.956148%2C%2038.94282100000005%5D%2C%20%5B-119.95623599999999%2C%2038.94278299999999%5D%2C%20%5B-119.957758478165%2C%2038.9418765952561%5D%2C%20%5B-119.956703175903%2C%2038.94084572258547%5D%2C%20%5B-119.953900459624%2C%2038.938429755744366%5D%2C%20%5B-119.954230867718%2C%2038.93709403157151%5D%2C%20%5B-119.95353551187901%2C%2038.93547855286951%5D%2C%20%5B-119.95352001618602%2C%2038.9345358351346%5D%2C%20%5B-119.954082933424%2C%2038.9327816787942%5D%2C%20%5B-119.9553765%2C%2038.93396444000002%5D%2C%20%5B-119.955393%2C%2038.93396099999999%5D%2C%20%5B-119.95544900000002%2C%2038.934013000000014%5D%2C%20%5B-119.955871%2C%2038.93439300000002%5D%2C%20%5B-119.95593800000002%2C%2038.93445400000001%5D%2C%20%5B-119.95599500000002%2C%2038.93450600000001%5D%2C%20%5B-119.956547%2C%2038.93500100000002%5D%2C%20%5B-119.95675500000002%2C%2038.935188%5D%2C%20%5B-119.956894%2C%2038.93531300000003%5D%2C%20%5B-119.957202%2C%2038.93557699999997%5D%2C%20%5B-119.957348%2C%2038.935701999999985%5D%2C%20%5B-119.95841300000001%2C%2038.93667599999999%5D%2C%20%5B-119.95863499999999%2C%2038.93688899999999%5D%2C%20%5B-119.958771%2C%2038.937023999999994%5D%2C%20%5B-119.95888%2C%2038.937127%5D%2C%20%5B-119.958999%2C%2038.93724299999999%5D%2C%20%5B-119.95912400000002%2C%2038.937361%5D%2C%20%5B-119.959354%2C%2038.937546999999995%5D%2C%20%5B-119.959651%2C%2038.937817999999986%5D%2C%20%5B-119.96035800000001%2C%2038.93842499999997%5D%2C%20%5B-119.960845%2C%2038.93809699999999%5D%2C%20%5B-119.960951%2C%2038.938025999999994%5D%2C%20%5B-119.961084%2C%2038.93793599999998%5D%2C%20%5B-119.96168500000002%2C%2038.93752999999998%5D%2C%20%5B-119.961771%2C%2038.937472999999976%5D%2C%20%5B-119.961791%2C%2038.937464000000006%5D%2C%20%5B-119.96183899999998%2C%2038.937442999999966%5D%2C%20%5B-119.961919%2C%2038.93741899999998%5D%2C%20%5B-119.96200099999999%2C%2038.93740700000003%5D%2C%20%5B-119.962069%2C%2038.937403000000025%5D%2C%20%5B-119.962068%2C%2038.93862599999996%5D%2C%20%5B-119.962074%2C%2038.93923100000001%5D%2C%20%5B-119.96209000000002%2C%2038.93932199999998%5D%2C%20%5B-119.96209600000002%2C%2038.93938099999996%5D%2C%20%5B-119.962098%2C%2038.93940000000002%5D%2C%20%5B-119.96209000000002%2C%2038.939466000000024%5D%2C%20%5B-119.962066%2C%2038.939534%5D%2C%20%5B-119.96201800000001%2C%2038.939599999999956%5D%2C%20%5B-119.96194900000002%2C%2038.939667%5D%2C%20%5B-119.961823%2C%2038.93979799999997%5D%2C%20%5B-119.961747%2C%2038.93988899999999%5D%2C%20%5B-119.961682%2C%2038.939998000000024%5D%2C%20%5B-119.96164699999999%2C%2038.94009799999995%5D%2C%20%5B-119.96162200000002%2C%2038.94021799999999%5D%2C%20%5B-119.961624%2C%2038.940375999999986%5D%2C%20%5B-119.961623%2C%2038.94080099999998%5D%2C%20%5B-119.96162200000002%2C%2038.94112199999998%5D%2C%20%5B-119.961623%2C%2038.94148900000002%5D%2C%20%5B-119.961624%2C%2038.94190900000004%5D%2C%20%5B-119.961627%2C%2038.94228300000004%5D%2C%20%5B-119.96163100000001%2C%2038.942962%5D%2C%20%5B-119.96163200000001%2C%2038.94308400000001%5D%2C%20%5B-119.96163400000002%2C%2038.94354599999999%5D%2C%20%5B-119.96163800000001%2C%2038.944333000000015%5D%2C%20%5B-119.961641%2C%2038.94489500000002%5D%2C%20%5B-119.961649%2C%2038.944986%5D%2C%20%5B-119.961678%2C%2038.945049999999966%5D%2C%20%5B-119.961729%2C%2038.945093999999976%5D%2C%20%5B-119.961819%2C%2038.94512299999997%5D%2C%20%5B-119.96191600000002%2C%2038.94514099999996%5D%2C%20%5B-119.96204300000001%2C%2038.94514899999999%5D%2C%20%5B-119.962381%2C%2038.945143000000016%5D%2C%20%5B-119.962376%2C%2038.94518400000001%5D%2C%20%5B-119.962381%2C%2038.945143000000016%5D%2C%20%5B-119.963297%2C%2038.94512600000006%5D%2C%20%5B-119.963392%2C%2038.94513100000003%5D%2C%20%5B-119.96347200000001%2C%2038.94514699999998%5D%2C%20%5B-119.96355600000001%2C%2038.945179000000046%5D%2C%20%5B-119.963669%2C%2038.945225000000036%5D%2C%20%5B-119.96370300000001%2C%2038.94526500000001%5D%2C%20%5B-119.96374400000002%2C%2038.94529100000003%5D%2C%20%5B-119.963797%2C%2038.94531399999996%5D%2C%20%5B-119.963854%2C%2038.945329999999984%5D%2C%20%5B-119.963947%2C%2038.945334000000024%5D%2C%20%5B-119.96407200000002%2C%2038.94533300000003%5D%2C%20%5B-119.964159%2C%2038.945332000000036%5D%2C%20%5B-119.96427600000001%2C%2038.945335999999955%5D%2C%20%5B-119.964329%2C%2038.94534300000003%5D%2C%20%5B-119.964855%2C%2038.944884999999964%5D%2C%20%5B-119.964981%2C%2038.94478599999999%5D%2C%20%5B-119.965067%2C%2038.94473100000001%5D%2C%20%5B-119.96514100000002%2C%2038.944691000000034%5D%2C%20%5B-119.96521299999999%2C%2038.944660000000006%5D%2C%20%5B-119.96530099999998%2C%2038.944633%5D%2C%20%5B-119.965383%2C%2038.94461799999997%5D%2C%20%5B-119.96546299999999%2C%2038.94461100000004%5D%2C%20%5B-119.965605%2C%2038.94460899999998%5D%2C%20%5B-119.966229%2C%2038.94461999999999%5D%2C%20%5B-119.96651099999998%2C%2038.94462699999999%5D%2C%20%5B-119.966592%2C%2038.94407099999996%5D%2C%20%5B-119.966663%2C%2038.943588999999946%5D%2C%20%5B-119.96694200000002%2C%2038.941862000000015%5D%2C%20%5B-119.966992%2C%2038.94160900000001%5D%2C%20%5B-119.967086%2C%2038.94118300000002%5D%2C%20%5B-119.96718899999999%2C%2038.940763000000004%5D%2C%20%5B-119.96746400000002%2C%2038.939826999999966%5D%2C%20%5B-119.96754000000001%2C%2038.939626000000004%5D%2C%20%5B-119.96760399999998%2C%2038.939469999999986%5D%2C%20%5B-119.96761800000002%2C%2038.939436%5D%2C%20%5B-119.967731%2C%2038.93921400000002%5D%2C%20%5B-119.968028%2C%2038.938620000000014%5D%2C%20%5B-119.96837500000001%2C%2038.93795399999998%5D%2C%20%5B-119.96893600000001%2C%2038.93686199999998%5D%2C%20%5B-119.96911900000002%2C%2038.93648099999997%5D%2C%20%5B-119.969229%2C%2038.93625100000001%5D%2C%20%5B-119.96962099999999%2C%2038.93546499999999%5D%2C%20%5B-119.97016500000001%2C%2038.93437300000001%5D%2C%20%5B-119.970839%2C%2038.93280799999999%5D%2C%20%5B-119.970919%2C%2038.932629000000006%5D%2C%20%5B-119.97097199999999%2C%2038.93252499999998%5D%2C%20%5B-119.970979%2C%2038.93251399999999%5D%2C%20%5B-119.97103200000001%2C%2038.93243599999995%5D%2C%20%5B-119.971108%2C%2038.93235699999997%5D%2C%20%5B-119.971192%2C%2038.932292%5D%2C%20%5B-119.971294%2C%2038.932236%5D%2C%20%5B-119.971601%2C%2038.93207900000001%5D%2C%20%5B-119.971714%2C%2038.93202099999994%5D%2C%20%5B-119.971836%2C%2038.931959000000006%5D%2C%20%5B-119.972157%2C%2038.931796999999996%5D%2C%20%5B-119.972355%2C%2038.93167999999998%5D%2C%20%5B-119.972439%2C%2038.93160399999997%5D%2C%20%5B-119.97251%2C%2038.93151799999994%5D%2C%20%5B-119.97255100000001%2C%2038.93141599999996%5D%2C%20%5B-119.97257200000001%2C%2038.93132699999995%5D%2C%20%5B-119.97257499999999%2C%2038.93122199999996%5D%2C%20%5B-119.972556%2C%2038.93111999999998%5D%2C%20%5B-119.97250099999998%2C%2038.93102100000001%5D%2C%20%5B-119.972426%2C%2038.93092899999997%5D%2C%20%5B-119.972333%2C%2038.93085499999999%5D%2C%20%5B-119.97221200000001%2C%2038.930779%5D%2C%20%5B-119.97209500000001%2C%2038.930681999999976%5D%2C%20%5B-119.97196600000001%2C%2038.93055999999995%5D%2C%20%5B-119.97185%2C%2038.930444000000044%5D%2C%20%5B-119.97172%2C%2038.930267%5D%2C%20%5B-119.97160000000001%2C%2038.930071999999974%5D%2C%20%5B-119.9714%2C%2038.92972900000001%5D%2C%20%5B-119.971308%2C%2038.929621000000004%5D%2C%20%5B-119.97119000000002%2C%2038.92951599999999%5D%2C%20%5B-119.97105999999998%2C%2038.92942399999996%5D%2C%20%5B-119.97090600000001%2C%2038.92934400000003%5D%2C%20%5B-119.970729%2C%2038.92927399999999%5D%2C%20%5B-119.97055700000001%2C%2038.929224999999974%5D%2C%20%5B-119.970394%2C%2038.929174999999994%5D%2C%20%5B-119.970252%2C%2038.929111999999996%5D%2C%20%5B-119.97010399999999%2C%2038.929039000000024%5D%2C%20%5B-119.96996600000001%2C%2038.928946000000025%5D%2C%20%5B-119.969835%2C%2038.92883799999998%5D%2C%20%5B-119.96943%2C%2038.92846899999998%5D%2C%20%5B-119.969331%2C%2038.92839%5D%2C%20%5B-119.969242%2C%2038.92828000000004%5D%2C%20%5B-119.969191%2C%2038.92817100000003%5D%2C%20%5B-119.969159%2C%2038.928037999999965%5D%2C%20%5B-119.96916800000001%2C%2038.92792699999998%5D%2C%20%5B-119.96921500000002%2C%2038.927806000000025%5D%2C%20%5B-119.96927899999999%2C%2038.92769299999999%5D%2C%20%5B-119.969372%2C%2038.92759200000005%5D%2C%20%5B-119.969496%2C%2038.92747700000003%5D%2C%20%5B-119.96962600000002%2C%2038.92737199999998%5D%2C%20%5B-119.969841%2C%2038.92722899999999%5D%2C%20%5B-119.970027%2C%2038.927136000000026%5D%2C%20%5B-119.97023899999999%2C%2038.927051%5D%2C%20%5B-119.97046%2C%2038.926984999999995%5D%2C%20%5B-119.971456%2C%2038.926779999999994%5D%2C%20%5B-119.97153000000002%2C%2038.92685200000001%5D%2C%20%5B-119.971648%2C%2038.926861999999986%5D%2C%20%5B-119.97171000000002%2C%2038.92682299999997%5D%2C%20%5B-119.971524980946%2C%2038.92665317683722%5D%2C%20%5B-119.971469%2C%2038.92668799999996%5D%2C%20%5B-119.971456%2C%2038.926779999999994%5D%2C%20%5B-119.97046%2C%2038.926984999999995%5D%2C%20%5B-119.97023899999999%2C%2038.927051%5D%2C%20%5B-119.970027%2C%2038.927136000000026%5D%2C%20%5B-119.969841%2C%2038.92722899999999%5D%2C%20%5B-119.96962600000002%2C%2038.92737199999998%5D%2C%20%5B-119.969496%2C%2038.92747700000003%5D%2C%20%5B-119.969372%2C%2038.92759200000005%5D%2C%20%5B-119.96927899999999%2C%2038.92769299999999%5D%2C%20%5B-119.96921500000002%2C%2038.927806000000025%5D%2C%20%5B-119.96916800000001%2C%2038.92792699999998%5D%2C%20%5B-119.969159%2C%2038.928037999999965%5D%2C%20%5B-119.969191%2C%2038.92817100000003%5D%2C%20%5B-119.969331%2C%2038.92839%5D%2C%20%5B-119.96943%2C%2038.92846899999998%5D%2C%20%5B-119.969835%2C%2038.92883799999998%5D%2C%20%5B-119.96996600000001%2C%2038.928946000000025%5D%2C%20%5B-119.97010399999999%2C%2038.929039000000024%5D%2C%20%5B-119.970252%2C%2038.929111999999996%5D%2C%20%5B-119.97055700000001%2C%2038.929224999999974%5D%2C%20%5B-119.971004434789%2C%2038.929383430237344%5D%2C%20%5B-119.97135740249901%2C%2038.92966465917902%5D%2C%20%5B-119.971659873214%2C%2038.93020142931577%5D%2C%20%5B-119.97187727404001%2C%2038.930477165816%5D%2C%20%5B-119.972124606533%2C%2038.9307092406818%5D%2C%20%5B-119.972482215465%2C%2038.93097348882463%5D%2C%20%5B-119.972554682075%2C%2038.931113650953776%5D%2C%20%5B-119.97256886039001%2C%2038.931297473046676%5D%2C%20%5B-119.97247600000001%2C%2038.931294999999984%5D%2C%20%5B-119.972430130142%2C%2038.9316805524123%5D%2C%20%5B-119.97174490579302%2C%2038.9320491912069%5D%2C%20%5B-119.971930620802%2C%2038.93228332565923%5D%2C%20%5B-119.972571017394%2C%2038.933060447242184%5D%2C%20%5B-119.97263100000002%2C%2038.93331299999997%5D%2C%20%5B-119.972766%2C%2038.933243%5D%2C%20%5B-119.973052%2C%2038.93357599999995%5D%2C%20%5B-119.97321199999999%2C%2038.93375700000006%5D%2C%20%5B-119.97329599999999%2C%2038.93383600000001%5D%2C%20%5B-119.97340900000002%2C%2038.93392600000001%5D%2C%20%5B-119.97353699999998%2C%2038.93401899999997%5D%2C%20%5B-119.973685%2C%2038.934100000000015%5D%2C%20%5B-119.97383599999999%2C%2038.934173999999985%5D%2C%20%5B-119.973978%2C%2038.93423500000001%5D%2C%20%5B-119.974164%2C%2038.934294000000044%5D%2C%20%5B-119.974332%2C%2038.934336999999985%5D%2C%20%5B-119.974492%2C%2038.93436199999999%5D%2C%20%5B-119.974628%2C%2038.93437300000002%5D%2C%20%5B-119.97479399999999%2C%2038.934378%5D%2C%20%5B-119.975096%2C%2038.934375000000045%5D%2C%20%5B-119.976829%2C%2038.934363999999995%5D%2C%20%5B-119.97682600000002%2C%2038.934451000000024%5D%2C%20%5B-119.976829%2C%2038.934363999999995%5D%2C%20%5B-119.977755%2C%2038.934358%5D%2C%20%5B-119.97792800000002%2C%2038.93383600000001%5D%2C%20%5B-119.978027%2C%2038.933575%5D%2C%20%5B-119.978182%2C%2038.93321300000001%5D%2C%20%5B-119.978327%2C%2038.93289499999999%5D%2C%20%5B-119.97840300000001%2C%2038.93274299999992%5D%2C%20%5B-119.97847800000001%2C%2038.932590000000076%5D%2C%20%5B-119.97863499999998%2C%2038.93229599999996%5D%2C%20%5B-119.978837%2C%2038.931936999999984%5D%2C%20%5B-119.97895599999998%2C%2038.93173400000004%5D%2C%20%5B-119.97907899999998%2C%2038.931540999999996%5D%2C%20%5B-119.97921399999998%2C%2038.93133700000001%5D%2C%20%5B-119.979378%2C%2038.931095999999975%5D%2C%20%5B-119.979777%2C%2038.930554%5D%2C%20%5B-119.97998599999998%2C%2038.93030000000004%5D%2C%20%5B-119.980227%2C%2038.93001200000001%5D%2C%20%5B-119.980548017547%2C%2038.929640639076645%5D%2C%20%5B-119.98054364859598%2C%2038.92963090015309%5D%2C%20%5B-119.981245%2C%2038.928930000000015%5D%2C%20%5B-119.98172100000001%2C%2038.92850199999998%5D%2C%20%5B-119.98197599999999%2C%2038.928286%5D%2C%20%5B-119.982274%2C%2038.92804199999997%5D%2C%20%5B-119.98254299999999%2C%2038.92783399999999%5D%2C%20%5B-119.98274700000002%2C%2038.927679000000026%5D%2C%20%5B-119.982789%2C%2038.927647000000036%5D%2C%20%5B-119.98308100000001%2C%2038.92744600000004%5D%2C%20%5B-119.983557%2C%2038.92712000000001%5D%2C%20%5B-119.983644%2C%2038.927061999999985%5D%2C%20%5B-119.983758%2C%2038.926981999999974%5D%2C%20%5B-119.984713%2C%2038.926353000000006%5D%2C%20%5B-119.984823%2C%2038.92627899999999%5D%2C%20%5B-119.985313%2C%2038.92595499999997%5D%2C%20%5B-119.98618299999998%2C%2038.92537899999997%5D%2C%20%5B-119.98626099999998%2C%2038.92532800000001%5D%2C%20%5B-119.98717900000001%2C%2038.92471399999997%5D%2C%20%5B-119.987574%2C%2038.92445400000005%5D%2C%20%5B-119.98852099999999%2C%2038.923824000000025%5D%2C%20%5B-119.98874600000002%2C%2038.92367399999999%5D%2C%20%5B-119.990022%2C%2038.92283399999999%5D%2C%20%5B-119.99055199999998%2C%2038.922478000000005%5D%2C%20%5B-119.99090599999998%2C%2038.922237999999986%5D%2C%20%5B-119.99154499999999%2C%2038.921818000000016%5D%2C%20%5B-119.991967%2C%2038.92154100000001%5D%2C%20%5B-119.992473%2C%2038.921209999999995%5D%2C%20%5B-119.99316900000001%2C%2038.920748000000025%5D%2C%20%5B-119.99390400000001%2C%2038.920259999999985%5D%2C%20%5B-119.99424600000002%2C%2038.92002999999999%5D%2C%20%5B-119.994485%2C%2038.91987099999998%5D%2C%20%5B-119.994711%2C%2038.919720999999974%5D%2C%20%5B-119.995189%2C%2038.91940799999995%5D%2C%20%5B-119.99567300000001%2C%2038.919084%5D%2C%20%5B-119.99610800000002%2C%2038.91879800000003%5D%2C%20%5B-119.997124%2C%2038.91811999999999%5D%2C%20%5B-119.999038%2C%2038.91684500000003%5D%2C%20%5B-119.999223%2C%2038.916721000000024%5D%2C%20%5B-120.000015%2C%2038.91619199999996%5D%2C%20%5B-120.000654163795%2C%2038.91574934280289%5D%2C%20%5B-120.00095461072898%2C%2038.91555210001863%5D%2C%20%5B-120.00121124249002%2C%2038.91538164284219%5D%2C%20%5B-120.00147413355799%2C%2038.915206315043385%5D%2C%20%5B-120.001698032854%2C%2038.9150571140394%5D%2C%20%5B-120.001914360815%2C%2038.91490796764164%5D%2C%20%5B-120.00210526980001%2C%2038.91477647095098%5D%2C%20%5B-120.002298483836%2C%2038.91465092328927%5D%2C%20%5B-120.002464706279%2C%2038.91454323157035%5D%2C%20%5B-120.002696300764%2C%2038.91438494767136%5D%2C%20%5B-120.00283759893301%2C%2038.914283856825215%5D%2C%20%5B-120.00309476208801%2C%2038.91413193253189%5D%2C%20%5B-120.00331700612699%2C%2038.91401853885746%5D%2C%20%5B-120.00358845612402%2C%2038.91388143594609%5D%2C%20%5B-120.003926819857%2C%2038.91373663949909%5D%2C%20%5B-120.00419350757201%2C%2038.91362547455607%5D%2C%20%5B-120.00461961291398%2C%2038.91345969370302%5D%2C%20%5B-120.00441088337202%2C%2038.91317088045039%5D%2C%20%5B-120.00464272071301%2C%2038.91308429206941%5D%2C%20%5B-120.004860647812%2C%2038.912998906201594%5D%2C%20%5B-120.00493468694502%2C%2038.9129687853038%5D%2C%20%5B-120.00501807878298%2C%2038.91293493106735%5D%2C%20%5B-120.00510364605898%2C%2038.91290333376498%5D%2C%20%5B-120.00515106750201%2C%2038.912883821871354%5D%2C%20%5B-120.005191553629%2C%2038.91286873251653%5D%2C%20%5B-120.005228977789%2C%2038.91285364315469%5D%2C%20%5B-120.00526776281801%2C%2038.91283934797101%5D%2C%20%5B-120.00529634126102%2C%2038.9128274353152%5D%2C%20%5B-120.00532015663%2C%2038.91281816991513%5D%2C%20%5B-120.005350095951%2C%2038.91280731615908%5D%2C%20%5B-120.005369148247%2C%2038.91279910965951%5D%2C%20%5B-120.00538924718002%2C%2038.9127918614643%5D%2C%20%5B-120.00539980837802%2C%2038.91280816642091%5D%2C%20%5B-120.00540567571099%2C%2038.91281847115169%5D%2C%20%5B-120.005415566356%2C%2038.912834645662315%5D%2C%20%5B-120.00542619793302%2C%2038.9128523436117%5D%2C%20%5B-120.00543675913002%2C%2038.9128691703123%5D%2C%20%5B-120.005461756811%2C%2038.91290855152695%5D%2C%20%5B-120.005476856386%2C%2038.912934207661635%5D%2C%20%5B-120.00549077034601%2C%2038.91295742587214%5D%2C%20%5B-120.00550542170001%2C%2038.91298032476548%5D%2C%20%5B-120.00551598289701%2C%2038.912998455828976%5D%2C%20%5B-120.00552871597502%2C%2038.913018806673094%5D%2C%20%5B-120.00554313284401%2C%2038.91304241617749%5D%2C%20%5B-120.00555604097498%2C%2038.913064460399994%5D%2C%20%5B-120.005563584688%2C%2038.913076199924404%5D%2C%20%5B-120.005462314287%2C%2038.91311726837872%5D%2C%20%5B-120.005371650958%2C%2038.913154099133045%5D%2C%20%5B-120.005268167328%2C%2038.91319584301726%5D%2C%20%5B-120.00516982167701%2C%2038.91323697012536%5D%2C%20%5B-120.00506492471%2C%2038.913278648291126%5D%2C%20%5B-120.00496552275402%2C%2038.913318878712666%5D%2C%20%5B-120.004895977791%2C%2038.91334720998346%5D%2C%20%5B-120.004828247798%2C%2038.91337526662509%5D%2C%20%5B-120.004753241189%2C%2038.913404447809796%5D%2C%20%5B-120.004666218962%2C%2038.9134398618465%5D%2C%20%5B-120.00462257378601%2C%2038.9134584528897%5D%2C%20%5B-120.004514623964%2C%2038.91332816252495%5D%2C%20%5B-120.004472910633%2C%2038.913268781040564%5D%2C%20%5B-120.004434805712%2C%2038.913213752108%5D%2C%20%5B-120.004412855767%2C%2038.9131811186021%5D%2C%20%5B-120.004332499077%2C%2038.91302194072915%5D%2C%20%5B-120.00426552478199%2C%2038.91289445361228%5D%2C%20%5B-120.00425376588102%2C%2038.91287279950421%5D%2C%20%5B-120.00408743025702%2C%2038.91253589478341%5D%2C%20%5B-120.003665989027%2C%2038.91166260394953%5D%2C%20%5B-120.00306899999998%2C%2038.910601000000014%5D%2C%20%5B-120.0028%2C%2038.910163000000004%5D%2C%20%5B-120.002243%2C%2038.90928400000005%5D%2C%20%5B-120.00187200000002%2C%2038.908691%5D%2C%20%5B-120.00164100000002%2C%2038.90833700000005%5D%2C%20%5B-120.001335%2C%2038.90784000000002%5D%2C%20%5B-120.00102900000002%2C%2038.907352999999986%5D%2C%20%5B-120.002712%2C%2038.90671799999999%5D%2C%20%5B-120.00362%2C%2038.90636800000001%5D%2C%20%5B-120.004166%2C%2038.90615800000004%5D%2C%20%5B-120.005265%2C%2038.90574100000002%5D%2C%20%5B-120.006026%2C%2038.90543799999995%5D%2C%20%5B-120.00680699999998%2C%2038.90513%5D%2C%20%5B-120.008525%2C%2038.90785499999998%5D%2C%20%5B-120.00860200000001%2C%2038.90797699999997%5D%2C%20%5B-120.008957%2C%2038.90858200000006%5D%2C%20%5B-120.009204%2C%2038.90894099999998%5D%2C%20%5B-120.01018099999999%2C%2038.910243%5D%2C%20%5B-120.010182%2C%2038.91024399999999%5D%2C%20%5B-120.01027499999998%2C%2038.91036799999997%5D%2C%20%5B-120.0102%2C%2038.910439%5D%2C%20%5B-120.01001800000002%2C%2038.91061000000004%5D%2C%20%5B-120.009733%2C%2038.91083600000004%5D%2C%20%5B-120.00941200000001%2C%2038.911056999999985%5D%2C%20%5B-120.008128%2C%2038.911809999999996%5D%2C%20%5B-120.008038%2C%2038.911863%5D%2C%20%5B-120.007954%2C%2038.91191199999999%5D%2C%20%5B-120.00741000000001%2C%2038.91223299999999%5D%2C%20%5B-120.007126%2C%2038.9124%5D%2C%20%5B-120.00699200000001%2C%2038.912478000000014%5D%2C%20%5B-120.00684599999998%2C%2038.91255600000004%5D%2C%20%5B-120.00669500000001%2C%2038.912629999999986%5D%2C%20%5B-120.006547%2C%2038.91269200000001%5D%2C%20%5B-120.006445%2C%2038.91273199999997%5D%2C%20%5B-120.006019%2C%2038.91289500000001%5D%2C%20%5B-120.00580999999998%2C%2038.912975999999986%5D%2C%20%5B-120.00556300000001%2C%2038.91307700000005%5D%2C%20%5B-120.00502907261601%2C%2038.913293596287666%5D%2C%20%5B-120.004849920412%2C%2038.91336569532721%5D%2C%20%5B-120.00468043838501%2C%2038.91343457004499%5D%2C%20%5B-120.004621932705%2C%2038.913458440288814%5D%2C%20%5B-120.00456817436%2C%2038.91339192184469%5D%2C%20%5B-120.00452571120599%2C%2038.91333866830328%5D%2C%20%5B-120.004515554188%2C%2038.913324645348155%5D%2C%20%5B-120.004474112342%2C%2038.91326364125888%5D%2C%20%5B-120.00441262363698%2C%2038.91317109007827%5D%2C%20%5B-120.004396010009%2C%2038.91314284162943%5D%2C%20%5B-120.00481388785398%2C%2038.91298149905494%5D%5D%2C%20%22type%22%3A%20%22LineString%22%7D%2C%20%22id%22%3A%20%223%22%2C%20%22properties%22%3A%20%7B%22__folium_color%22%3A%20%22%231f77b4%22%2C%20%22agency%22%3A%20%22Tahoe%20Transportation%22%2C%20%22itp_id%22%3A%20331%2C%20%22route_id%22%3A%20%2212137%22%2C%20%22route_length%22%3A%2059893.57724054286%2C%20%22route_name%22%3A%20%22Neighborhood%20Connection%22%2C%20%22route_type%22%3A%20%223%22%7D%2C%20%22type%22%3A%20%22Feature%22%7D%5D%2C%20%22type%22%3A%20%22FeatureCollection%22%7D%29%3B%0A%0A%20%20%20%20%20%20%20%20%0A%20%20%20%20%0A%20%20%20%20geo_json_969122f46b3245a5813b7b99a3f18efa.bindTooltip%28%0A%20%20%20%20function%28layer%29%7B%0A%20%20%20%20let%20div%20%3D%20L.DomUtil.create%28%27div%27%29%3B%0A%20%20%20%20%0A%20%20%20%20let%20handleObject%20%3D%20feature%3D%3Etypeof%28feature%29%3D%3D%27object%27%20%3F%20JSON.stringify%28feature%29%20%3A%20feature%3B%0A%20%20%20%20let%20fields%20%3D%20%5B%22route_name%22%5D%3B%0A%20%20%20%20let%20aliases%20%3D%20%5B%22route_name%22%5D%3B%0A%20%20%20%20let%20table%20%3D%20%27%3Ctable%3E%27%20%2B%0A%20%20%20%20%20%20%20%20String%28%0A%20%20%20%20%20%20%20%20fields.map%28%0A%20%20%20%20%20%20%20%20%28v%2Ci%29%3D%3E%0A%20%20%20%20%20%20%20%20%60%3Ctr%3E%0A%20%20%20%20%20%20%20%20%20%20%20%20%3Cth%3E%24%7Baliases%5Bi%5D%7D%3C/th%3E%0A%20%20%20%20%20%20%20%20%20%20%20%20%0A%20%20%20%20%20%20%20%20%20%20%20%20%3Ctd%3E%24%7BhandleObject%28layer.feature.properties%5Bv%5D%29%7D%3C/td%3E%0A%20%20%20%20%20%20%20%20%3C/tr%3E%60%29.join%28%27%27%29%29%0A%20%20%20%20%2B%27%3C/table%3E%27%3B%0A%20%20%20%20div.innerHTML%3Dtable%3B%0A%20%20%20%20%0A%20%20%20%20return%20div%0A%20%20%20%20%7D%0A%20%20%20%20%2C%7B%22className%22%3A%20%22foliumtooltip%22%2C%20%22sticky%22%3A%20true%7D%29%3B%0A%20%20%20%20%20%20%20%20%20%20%20%20%20%20%20%20%20%20%20%20%20%0A%3C/script%3E onload=\"this.contentDocument.open();this.contentDocument.write(    decodeURIComponent(this.getAttribute('data-html')));this.contentDocument.close();\" allowfullscreen webkitallowfullscreen mozallowfullscreen></iframe></div></div>"
      ],
      "text/plain": [
       "<folium.folium.Map at 0x7fd930803190>"
      ]
     },
     "execution_count": 30,
     "metadata": {},
     "output_type": "execute_result"
    }
   ],
   "source": [
    "# Explore county\n",
    "\n",
    "single_agency.explore(\n",
    "    \"route_name\",\n",
    "    width=800,\n",
    "    height=400,\n",
    "    tooltip=[\n",
    "        \"route_name\",\n",
    "    ],\n",
    "    style_kwds={\"weight\": 5},\n",
    ")"
   ]
  },
  {
   "cell_type": "code",
   "execution_count": 31,
   "id": "15f870e0-6b71-49f9-a86e-c34f1a3efd62",
   "metadata": {},
   "outputs": [],
   "source": [
    "# Merge with counties for testing\n",
    "county_test = utilities.comparison(single_agency, geojson)"
   ]
  },
  {
   "cell_type": "code",
   "execution_count": 32,
   "id": "07478c92-56a3-40a2-b928-6a13519716f1",
   "metadata": {},
   "outputs": [
    {
     "data": {
      "text/plain": [
       "(4, 17)"
      ]
     },
     "execution_count": 32,
     "metadata": {},
     "output_type": "execute_result"
    }
   ],
   "source": [
    "# More rows\n",
    "county_test.shape"
   ]
  },
  {
   "cell_type": "code",
   "execution_count": 33,
   "id": "0588831b-ba31-4b35-8c15-4c3d5a4a53aa",
   "metadata": {},
   "outputs": [],
   "source": [
    "# Test - merge. Goal: find % of each route in each county\n",
    "county_merge = pd.merge(\n",
    "    county_test,\n",
    "    single_agency,\n",
    "    how=\"left\",\n",
    "    on=[\"agency\", \"route_name\", \"route_type\", \"route_id\"],\n",
    "    suffixes=[\"_countytest\", \"_original\"],\n",
    ")"
   ]
  },
  {
   "cell_type": "code",
   "execution_count": 34,
   "id": "8c84f252-2f34-44e1-8587-d457f47fe7b9",
   "metadata": {
    "scrolled": true,
    "tags": []
   },
   "outputs": [],
   "source": [
    "county_merge[\"percentage\"] = (\n",
    "    county_merge[\"route_length_countytest\"] / county_merge[\"route_length_original\"]\n",
    ")"
   ]
  },
  {
   "cell_type": "code",
   "execution_count": 35,
   "id": "cd269407-dba6-47ef-8bf6-bf16877b51ca",
   "metadata": {
    "scrolled": true,
    "tags": []
   },
   "outputs": [
    {
     "data": {
      "text/html": [
       "<div>\n",
       "<style scoped>\n",
       "    .dataframe tbody tr th:only-of-type {\n",
       "        vertical-align: middle;\n",
       "    }\n",
       "\n",
       "    .dataframe tbody tr th {\n",
       "        vertical-align: top;\n",
       "    }\n",
       "\n",
       "    .dataframe thead th {\n",
       "        text-align: right;\n",
       "    }\n",
       "</style>\n",
       "<table border=\"1\" class=\"dataframe\">\n",
       "  <thead>\n",
       "    <tr style=\"text-align: right;\">\n",
       "      <th></th>\n",
       "      <th>route_id</th>\n",
       "      <th>route_name</th>\n",
       "      <th>COUNTY_NAME</th>\n",
       "      <th>percentage</th>\n",
       "      <th>route_length_countytest</th>\n",
       "      <th>route_length_original</th>\n",
       "    </tr>\n",
       "  </thead>\n",
       "  <tbody>\n",
       "    <tr>\n",
       "      <th>0</th>\n",
       "      <td>12133</td>\n",
       "      <td>South Shore Service &amp; Lake Express Daily</td>\n",
       "      <td>El Dorado</td>\n",
       "      <td>0.01</td>\n",
       "      <td>845.63</td>\n",
       "      <td>136537.22</td>\n",
       "    </tr>\n",
       "    <tr>\n",
       "      <th>1</th>\n",
       "      <td>12134</td>\n",
       "      <td>South Shore Daily</td>\n",
       "      <td>El Dorado</td>\n",
       "      <td>0.97</td>\n",
       "      <td>40430.68</td>\n",
       "      <td>41787.65</td>\n",
       "    </tr>\n",
       "    <tr>\n",
       "      <th>2</th>\n",
       "      <td>12135</td>\n",
       "      <td>Valley Express Daily</td>\n",
       "      <td>El Dorado</td>\n",
       "      <td>0.01</td>\n",
       "      <td>845.97</td>\n",
       "      <td>105348.23</td>\n",
       "    </tr>\n",
       "    <tr>\n",
       "      <th>3</th>\n",
       "      <td>12137</td>\n",
       "      <td>Neighborhood Connection</td>\n",
       "      <td>El Dorado</td>\n",
       "      <td>0.89</td>\n",
       "      <td>53439.62</td>\n",
       "      <td>59893.58</td>\n",
       "    </tr>\n",
       "  </tbody>\n",
       "</table>\n",
       "</div>"
      ],
      "text/plain": [
       "  route_id                                route_name COUNTY_NAME  percentage  \\\n",
       "0    12133  South Shore Service & Lake Express Daily   El Dorado        0.01   \n",
       "1    12134                         South Shore Daily   El Dorado        0.97   \n",
       "2    12135                      Valley Express Daily   El Dorado        0.01   \n",
       "3    12137                   Neighborhood Connection   El Dorado        0.89   \n",
       "\n",
       "   route_length_countytest  route_length_original  \n",
       "0                   845.63              136537.22  \n",
       "1                 40430.68               41787.65  \n",
       "2                   845.97              105348.23  \n",
       "3                 53439.62               59893.58  "
      ]
     },
     "execution_count": 35,
     "metadata": {},
     "output_type": "execute_result"
    }
   ],
   "source": [
    "county_merge[\n",
    "    [\n",
    "        \"route_id\",\n",
    "        \"route_name\",\n",
    "        \"COUNTY_NAME\",\n",
    "        \"percentage\",\n",
    "        \"route_length_countytest\",\n",
    "        \"route_length_original\",\n",
    "    ]\n",
    "].sort_values(\"route_id\")"
   ]
  },
  {
   "cell_type": "code",
   "execution_count": 36,
   "id": "975a60e8-51c4-47cf-8d7e-e81919ca17c0",
   "metadata": {
    "tags": []
   },
   "outputs": [
    {
     "data": {
      "text/html": [
       "<div>\n",
       "<style scoped>\n",
       "    .dataframe tbody tr th:only-of-type {\n",
       "        vertical-align: middle;\n",
       "    }\n",
       "\n",
       "    .dataframe tbody tr th {\n",
       "        vertical-align: top;\n",
       "    }\n",
       "\n",
       "    .dataframe thead th {\n",
       "        text-align: right;\n",
       "    }\n",
       "</style>\n",
       "<table border=\"1\" class=\"dataframe\">\n",
       "  <thead>\n",
       "    <tr style=\"text-align: right;\">\n",
       "      <th></th>\n",
       "      <th></th>\n",
       "      <th>percentage</th>\n",
       "    </tr>\n",
       "    <tr>\n",
       "      <th>route_id</th>\n",
       "      <th>route_name</th>\n",
       "      <th></th>\n",
       "    </tr>\n",
       "  </thead>\n",
       "  <tbody>\n",
       "    <tr>\n",
       "      <th>12133</th>\n",
       "      <th>South Shore Service &amp; Lake Express Daily</th>\n",
       "      <td>0.01</td>\n",
       "    </tr>\n",
       "    <tr>\n",
       "      <th>12135</th>\n",
       "      <th>Valley Express Daily</th>\n",
       "      <td>0.01</td>\n",
       "    </tr>\n",
       "    <tr>\n",
       "      <th>12137</th>\n",
       "      <th>Neighborhood Connection</th>\n",
       "      <td>0.89</td>\n",
       "    </tr>\n",
       "    <tr>\n",
       "      <th>12134</th>\n",
       "      <th>South Shore Daily</th>\n",
       "      <td>0.97</td>\n",
       "    </tr>\n",
       "  </tbody>\n",
       "</table>\n",
       "</div>"
      ],
      "text/plain": [
       "                                                   percentage\n",
       "route_id route_name                                          \n",
       "12133    South Shore Service & Lake Express Daily        0.01\n",
       "12135    Valley Express Daily                            0.01\n",
       "12137    Neighborhood Connection                         0.89\n",
       "12134    South Shore Daily                               0.97"
      ]
     },
     "execution_count": 36,
     "metadata": {},
     "output_type": "execute_result"
    }
   ],
   "source": [
    "# Sum up percentages by route name -> but shouldn't they all add up to 1.00?\n",
    "county_merge.groupby([\"route_id\", \"route_name\"]).agg({\"percentage\": \"sum\"}).sort_values(\n",
    "    \"percentage\"\n",
    ")"
   ]
  },
  {
   "cell_type": "markdown",
   "id": "ca12e48a-99ba-4cb2-986a-6c9469e2632a",
   "metadata": {},
   "source": [
    "### Test single route with AT&T"
   ]
  },
  {
   "cell_type": "code",
   "execution_count": 37,
   "id": "9b6198c8-558e-4a86-874b-8ba051b2bed0",
   "metadata": {
    "scrolled": true,
    "tags": []
   },
   "outputs": [],
   "source": [
    "# Filter overlay AT&T\n",
    "single_agency_overlay = overlay_att.loc[\n",
    "    overlay_att[\"agency\"] == agency_wanted\n",
    "].reset_index(drop=True)"
   ]
  },
  {
   "cell_type": "code",
   "execution_count": 38,
   "id": "6a71e210-8b0a-413c-8ef7-38fff43ad6d1",
   "metadata": {},
   "outputs": [
    {
     "data": {
      "text/plain": [
       "'route id after overlay w/ AT&T: 4, length after overlay w/ AT&T: 4, \\noriginal df length: 4'"
      ]
     },
     "execution_count": 38,
     "metadata": {},
     "output_type": "execute_result"
    }
   ],
   "source": [
    "f\"\"\"route id after overlay w/ AT&T: {single_agency_overlay.route_id.nunique()}, length after overlay w/ AT&T: {len(single_agency_overlay)}, \n",
    "original df length: {len(single_agency)}\"\"\""
   ]
  },
  {
   "cell_type": "code",
   "execution_count": 39,
   "id": "d0a76291-c353-4a28-97ea-9488f87b0e39",
   "metadata": {
    "tags": []
   },
   "outputs": [
    {
     "data": {
      "text/html": [
       "<div>\n",
       "<style scoped>\n",
       "    .dataframe tbody tr th:only-of-type {\n",
       "        vertical-align: middle;\n",
       "    }\n",
       "\n",
       "    .dataframe tbody tr th {\n",
       "        vertical-align: top;\n",
       "    }\n",
       "\n",
       "    .dataframe thead th {\n",
       "        text-align: right;\n",
       "    }\n",
       "</style>\n",
       "<table border=\"1\" class=\"dataframe\">\n",
       "  <thead>\n",
       "    <tr style=\"text-align: right;\">\n",
       "      <th></th>\n",
       "      <th>itp_id</th>\n",
       "      <th>route_id</th>\n",
       "      <th>route_type</th>\n",
       "      <th>route_name</th>\n",
       "      <th>agency</th>\n",
       "      <th>route_length</th>\n",
       "    </tr>\n",
       "  </thead>\n",
       "  <tbody>\n",
       "    <tr>\n",
       "      <th>0</th>\n",
       "      <td>331</td>\n",
       "      <td>12133</td>\n",
       "      <td>3</td>\n",
       "      <td>South Shore Service &amp; Lake Express Daily</td>\n",
       "      <td>Tahoe Transportation</td>\n",
       "      <td>845.63</td>\n",
       "    </tr>\n",
       "    <tr>\n",
       "      <th>1</th>\n",
       "      <td>331</td>\n",
       "      <td>12134</td>\n",
       "      <td>3</td>\n",
       "      <td>South Shore Daily</td>\n",
       "      <td>Tahoe Transportation</td>\n",
       "      <td>40430.68</td>\n",
       "    </tr>\n",
       "    <tr>\n",
       "      <th>2</th>\n",
       "      <td>331</td>\n",
       "      <td>12135</td>\n",
       "      <td>3</td>\n",
       "      <td>Valley Express Daily</td>\n",
       "      <td>Tahoe Transportation</td>\n",
       "      <td>845.97</td>\n",
       "    </tr>\n",
       "    <tr>\n",
       "      <th>3</th>\n",
       "      <td>331</td>\n",
       "      <td>12137</td>\n",
       "      <td>3</td>\n",
       "      <td>Neighborhood Connection</td>\n",
       "      <td>Tahoe Transportation</td>\n",
       "      <td>53439.62</td>\n",
       "    </tr>\n",
       "  </tbody>\n",
       "</table>\n",
       "</div>"
      ],
      "text/plain": [
       "   itp_id route_id route_type                                route_name  \\\n",
       "0     331    12133          3  South Shore Service & Lake Express Daily   \n",
       "1     331    12134          3                         South Shore Daily   \n",
       "2     331    12135          3                      Valley Express Daily   \n",
       "3     331    12137          3                   Neighborhood Connection   \n",
       "\n",
       "                 agency  route_length  \n",
       "0  Tahoe Transportation        845.63  \n",
       "1  Tahoe Transportation      40430.68  \n",
       "2  Tahoe Transportation        845.97  \n",
       "3  Tahoe Transportation      53439.62  "
      ]
     },
     "execution_count": 39,
     "metadata": {},
     "output_type": "execute_result"
    }
   ],
   "source": [
    "# Route ids become split up?\n",
    "single_agency_overlay.drop(columns=[\"geometry\"]).sort_values(\"route_id\")"
   ]
  },
  {
   "cell_type": "markdown",
   "id": "c783317a-b628-40bb-911b-4d5f55ffdaf8",
   "metadata": {},
   "source": [
    "## Compare One Route: AT&T Overlay with original df"
   ]
  },
  {
   "cell_type": "code",
   "execution_count": 40,
   "id": "89a49a04-fca1-4267-970c-e7ea855b0f1b",
   "metadata": {},
   "outputs": [],
   "source": [
    "single_route_overlay = single_agency_overlay.loc[single_agency_overlay['route_name'] =='Mainline AM/PM']"
   ]
  },
  {
   "cell_type": "code",
   "execution_count": 41,
   "id": "81680296-3ae6-4ad4-a6ca-fccb38fd1fdc",
   "metadata": {},
   "outputs": [
    {
     "data": {
      "text/html": [
       "<div>\n",
       "<style scoped>\n",
       "    .dataframe tbody tr th:only-of-type {\n",
       "        vertical-align: middle;\n",
       "    }\n",
       "\n",
       "    .dataframe tbody tr th {\n",
       "        vertical-align: top;\n",
       "    }\n",
       "\n",
       "    .dataframe thead th {\n",
       "        text-align: right;\n",
       "    }\n",
       "</style>\n",
       "<table border=\"1\" class=\"dataframe\">\n",
       "  <thead>\n",
       "    <tr style=\"text-align: right;\">\n",
       "      <th></th>\n",
       "      <th>itp_id</th>\n",
       "      <th>route_id</th>\n",
       "      <th>route_type</th>\n",
       "      <th>route_name</th>\n",
       "      <th>agency</th>\n",
       "      <th>route_length</th>\n",
       "    </tr>\n",
       "  </thead>\n",
       "  <tbody>\n",
       "  </tbody>\n",
       "</table>\n",
       "</div>"
      ],
      "text/plain": [
       "Empty DataFrame\n",
       "Columns: [itp_id, route_id, route_type, route_name, agency, route_length]\n",
       "Index: []"
      ]
     },
     "execution_count": 41,
     "metadata": {},
     "output_type": "execute_result"
    }
   ],
   "source": [
    "# Mainline AM/PM goes from 1 line to 2.\n",
    "single_route_overlay.drop(columns = ['geometry'])"
   ]
  },
  {
   "cell_type": "code",
   "execution_count": 42,
   "id": "dfbc5b6d-b669-4da9-b1e8-e28194006573",
   "metadata": {},
   "outputs": [
    {
     "data": {
      "text/html": [
       "<div>\n",
       "<style scoped>\n",
       "    .dataframe tbody tr th:only-of-type {\n",
       "        vertical-align: middle;\n",
       "    }\n",
       "\n",
       "    .dataframe tbody tr th {\n",
       "        vertical-align: top;\n",
       "    }\n",
       "\n",
       "    .dataframe thead th {\n",
       "        text-align: right;\n",
       "    }\n",
       "</style>\n",
       "<table border=\"1\" class=\"dataframe\">\n",
       "  <thead>\n",
       "    <tr style=\"text-align: right;\">\n",
       "      <th></th>\n",
       "      <th>route_length</th>\n",
       "    </tr>\n",
       "    <tr>\n",
       "      <th>route_name</th>\n",
       "      <th></th>\n",
       "    </tr>\n",
       "  </thead>\n",
       "  <tbody>\n",
       "  </tbody>\n",
       "</table>\n",
       "</div>"
      ],
      "text/plain": [
       "Empty DataFrame\n",
       "Columns: [route_length]\n",
       "Index: []"
      ]
     },
     "execution_count": 42,
     "metadata": {},
     "output_type": "execute_result"
    }
   ],
   "source": [
    "# Route length after overlaying\n",
    "single_route_overlay.groupby(['route_name']).agg({'route_length':'sum'})"
   ]
  },
  {
   "cell_type": "code",
   "execution_count": 43,
   "id": "fdfbb1f0-8e64-46b8-a715-de4d091c0c08",
   "metadata": {},
   "outputs": [
    {
     "name": "stderr",
     "output_type": "stream",
     "text": [
      "/opt/conda/lib/python3.10/site-packages/geopandas/plotting.py:693: UserWarning: The GeoDataFrame you are attempting to plot is empty. Nothing has been displayed.\n"
     ]
    },
    {
     "data": {
      "text/plain": [
       "<AxesSubplot:>"
      ]
     },
     "execution_count": 43,
     "metadata": {},
     "output_type": "execute_result"
    },
    {
     "ename": "ValueError",
     "evalue": "cannot convert float NaN to integer",
     "output_type": "error",
     "traceback": [
      "\u001b[0;31m---------------------------------------------------------------------------\u001b[0m",
      "\u001b[0;31mValueError\u001b[0m                                Traceback (most recent call last)",
      "File \u001b[0;32m/opt/conda/lib/python3.10/site-packages/IPython/core/formatters.py:339\u001b[0m, in \u001b[0;36mBaseFormatter.__call__\u001b[0;34m(self, obj)\u001b[0m\n\u001b[1;32m    337\u001b[0m     \u001b[38;5;28;01mpass\u001b[39;00m\n\u001b[1;32m    338\u001b[0m \u001b[38;5;28;01melse\u001b[39;00m:\n\u001b[0;32m--> 339\u001b[0m     \u001b[38;5;28;01mreturn\u001b[39;00m \u001b[43mprinter\u001b[49m\u001b[43m(\u001b[49m\u001b[43mobj\u001b[49m\u001b[43m)\u001b[49m\n\u001b[1;32m    340\u001b[0m \u001b[38;5;66;03m# Finally look for special method names\u001b[39;00m\n\u001b[1;32m    341\u001b[0m method \u001b[38;5;241m=\u001b[39m get_real_method(obj, \u001b[38;5;28mself\u001b[39m\u001b[38;5;241m.\u001b[39mprint_method)\n",
      "File \u001b[0;32m/opt/conda/lib/python3.10/site-packages/IPython/core/pylabtools.py:151\u001b[0m, in \u001b[0;36mprint_figure\u001b[0;34m(fig, fmt, bbox_inches, base64, **kwargs)\u001b[0m\n\u001b[1;32m    148\u001b[0m     \u001b[38;5;28;01mfrom\u001b[39;00m \u001b[38;5;21;01mmatplotlib\u001b[39;00m\u001b[38;5;21;01m.\u001b[39;00m\u001b[38;5;21;01mbackend_bases\u001b[39;00m \u001b[38;5;28;01mimport\u001b[39;00m FigureCanvasBase\n\u001b[1;32m    149\u001b[0m     FigureCanvasBase(fig)\n\u001b[0;32m--> 151\u001b[0m \u001b[43mfig\u001b[49m\u001b[38;5;241;43m.\u001b[39;49m\u001b[43mcanvas\u001b[49m\u001b[38;5;241;43m.\u001b[39;49m\u001b[43mprint_figure\u001b[49m\u001b[43m(\u001b[49m\u001b[43mbytes_io\u001b[49m\u001b[43m,\u001b[49m\u001b[43m \u001b[49m\u001b[38;5;241;43m*\u001b[39;49m\u001b[38;5;241;43m*\u001b[39;49m\u001b[43mkw\u001b[49m\u001b[43m)\u001b[49m\n\u001b[1;32m    152\u001b[0m data \u001b[38;5;241m=\u001b[39m bytes_io\u001b[38;5;241m.\u001b[39mgetvalue()\n\u001b[1;32m    153\u001b[0m \u001b[38;5;28;01mif\u001b[39;00m fmt \u001b[38;5;241m==\u001b[39m \u001b[38;5;124m'\u001b[39m\u001b[38;5;124msvg\u001b[39m\u001b[38;5;124m'\u001b[39m:\n",
      "File \u001b[0;32m/opt/conda/lib/python3.10/site-packages/matplotlib/backend_bases.py:2295\u001b[0m, in \u001b[0;36mFigureCanvasBase.print_figure\u001b[0;34m(self, filename, dpi, facecolor, edgecolor, orientation, format, bbox_inches, pad_inches, bbox_extra_artists, backend, **kwargs)\u001b[0m\n\u001b[1;32m   2289\u001b[0m     renderer \u001b[38;5;241m=\u001b[39m _get_renderer(\n\u001b[1;32m   2290\u001b[0m         \u001b[38;5;28mself\u001b[39m\u001b[38;5;241m.\u001b[39mfigure,\n\u001b[1;32m   2291\u001b[0m         functools\u001b[38;5;241m.\u001b[39mpartial(\n\u001b[1;32m   2292\u001b[0m             print_method, orientation\u001b[38;5;241m=\u001b[39morientation)\n\u001b[1;32m   2293\u001b[0m     )\n\u001b[1;32m   2294\u001b[0m     \u001b[38;5;28;01mwith\u001b[39;00m \u001b[38;5;28mgetattr\u001b[39m(renderer, \u001b[38;5;124m\"\u001b[39m\u001b[38;5;124m_draw_disabled\u001b[39m\u001b[38;5;124m\"\u001b[39m, nullcontext)():\n\u001b[0;32m-> 2295\u001b[0m         \u001b[38;5;28;43mself\u001b[39;49m\u001b[38;5;241;43m.\u001b[39;49m\u001b[43mfigure\u001b[49m\u001b[38;5;241;43m.\u001b[39;49m\u001b[43mdraw\u001b[49m\u001b[43m(\u001b[49m\u001b[43mrenderer\u001b[49m\u001b[43m)\u001b[49m\n\u001b[1;32m   2297\u001b[0m \u001b[38;5;28;01mif\u001b[39;00m bbox_inches:\n\u001b[1;32m   2298\u001b[0m     \u001b[38;5;28;01mif\u001b[39;00m bbox_inches \u001b[38;5;241m==\u001b[39m \u001b[38;5;124m\"\u001b[39m\u001b[38;5;124mtight\u001b[39m\u001b[38;5;124m\"\u001b[39m:\n",
      "File \u001b[0;32m/opt/conda/lib/python3.10/site-packages/matplotlib/artist.py:73\u001b[0m, in \u001b[0;36m_finalize_rasterization.<locals>.draw_wrapper\u001b[0;34m(artist, renderer, *args, **kwargs)\u001b[0m\n\u001b[1;32m     71\u001b[0m \u001b[38;5;129m@wraps\u001b[39m(draw)\n\u001b[1;32m     72\u001b[0m \u001b[38;5;28;01mdef\u001b[39;00m \u001b[38;5;21mdraw_wrapper\u001b[39m(artist, renderer, \u001b[38;5;241m*\u001b[39margs, \u001b[38;5;241m*\u001b[39m\u001b[38;5;241m*\u001b[39mkwargs):\n\u001b[0;32m---> 73\u001b[0m     result \u001b[38;5;241m=\u001b[39m \u001b[43mdraw\u001b[49m\u001b[43m(\u001b[49m\u001b[43martist\u001b[49m\u001b[43m,\u001b[49m\u001b[43m \u001b[49m\u001b[43mrenderer\u001b[49m\u001b[43m,\u001b[49m\u001b[43m \u001b[49m\u001b[38;5;241;43m*\u001b[39;49m\u001b[43margs\u001b[49m\u001b[43m,\u001b[49m\u001b[43m \u001b[49m\u001b[38;5;241;43m*\u001b[39;49m\u001b[38;5;241;43m*\u001b[39;49m\u001b[43mkwargs\u001b[49m\u001b[43m)\u001b[49m\n\u001b[1;32m     74\u001b[0m     \u001b[38;5;28;01mif\u001b[39;00m renderer\u001b[38;5;241m.\u001b[39m_rasterizing:\n\u001b[1;32m     75\u001b[0m         renderer\u001b[38;5;241m.\u001b[39mstop_rasterizing()\n",
      "File \u001b[0;32m/opt/conda/lib/python3.10/site-packages/matplotlib/artist.py:50\u001b[0m, in \u001b[0;36mallow_rasterization.<locals>.draw_wrapper\u001b[0;34m(artist, renderer)\u001b[0m\n\u001b[1;32m     47\u001b[0m     \u001b[38;5;28;01mif\u001b[39;00m artist\u001b[38;5;241m.\u001b[39mget_agg_filter() \u001b[38;5;129;01mis\u001b[39;00m \u001b[38;5;129;01mnot\u001b[39;00m \u001b[38;5;28;01mNone\u001b[39;00m:\n\u001b[1;32m     48\u001b[0m         renderer\u001b[38;5;241m.\u001b[39mstart_filter()\n\u001b[0;32m---> 50\u001b[0m     \u001b[38;5;28;01mreturn\u001b[39;00m \u001b[43mdraw\u001b[49m\u001b[43m(\u001b[49m\u001b[43martist\u001b[49m\u001b[43m,\u001b[49m\u001b[43m \u001b[49m\u001b[43mrenderer\u001b[49m\u001b[43m)\u001b[49m\n\u001b[1;32m     51\u001b[0m \u001b[38;5;28;01mfinally\u001b[39;00m:\n\u001b[1;32m     52\u001b[0m     \u001b[38;5;28;01mif\u001b[39;00m artist\u001b[38;5;241m.\u001b[39mget_agg_filter() \u001b[38;5;129;01mis\u001b[39;00m \u001b[38;5;129;01mnot\u001b[39;00m \u001b[38;5;28;01mNone\u001b[39;00m:\n",
      "File \u001b[0;32m/opt/conda/lib/python3.10/site-packages/matplotlib/figure.py:2810\u001b[0m, in \u001b[0;36mFigure.draw\u001b[0;34m(self, renderer)\u001b[0m\n\u001b[1;32m   2807\u001b[0m         \u001b[38;5;66;03m# ValueError can occur when resizing a window.\u001b[39;00m\n\u001b[1;32m   2809\u001b[0m \u001b[38;5;28mself\u001b[39m\u001b[38;5;241m.\u001b[39mpatch\u001b[38;5;241m.\u001b[39mdraw(renderer)\n\u001b[0;32m-> 2810\u001b[0m \u001b[43mmimage\u001b[49m\u001b[38;5;241;43m.\u001b[39;49m\u001b[43m_draw_list_compositing_images\u001b[49m\u001b[43m(\u001b[49m\n\u001b[1;32m   2811\u001b[0m \u001b[43m    \u001b[49m\u001b[43mrenderer\u001b[49m\u001b[43m,\u001b[49m\u001b[43m \u001b[49m\u001b[38;5;28;43mself\u001b[39;49m\u001b[43m,\u001b[49m\u001b[43m \u001b[49m\u001b[43martists\u001b[49m\u001b[43m,\u001b[49m\u001b[43m \u001b[49m\u001b[38;5;28;43mself\u001b[39;49m\u001b[38;5;241;43m.\u001b[39;49m\u001b[43msuppressComposite\u001b[49m\u001b[43m)\u001b[49m\n\u001b[1;32m   2813\u001b[0m \u001b[38;5;28;01mfor\u001b[39;00m sfig \u001b[38;5;129;01min\u001b[39;00m \u001b[38;5;28mself\u001b[39m\u001b[38;5;241m.\u001b[39msubfigs:\n\u001b[1;32m   2814\u001b[0m     sfig\u001b[38;5;241m.\u001b[39mdraw(renderer)\n",
      "File \u001b[0;32m/opt/conda/lib/python3.10/site-packages/matplotlib/image.py:132\u001b[0m, in \u001b[0;36m_draw_list_compositing_images\u001b[0;34m(renderer, parent, artists, suppress_composite)\u001b[0m\n\u001b[1;32m    130\u001b[0m \u001b[38;5;28;01mif\u001b[39;00m not_composite \u001b[38;5;129;01mor\u001b[39;00m \u001b[38;5;129;01mnot\u001b[39;00m has_images:\n\u001b[1;32m    131\u001b[0m     \u001b[38;5;28;01mfor\u001b[39;00m a \u001b[38;5;129;01min\u001b[39;00m artists:\n\u001b[0;32m--> 132\u001b[0m         \u001b[43ma\u001b[49m\u001b[38;5;241;43m.\u001b[39;49m\u001b[43mdraw\u001b[49m\u001b[43m(\u001b[49m\u001b[43mrenderer\u001b[49m\u001b[43m)\u001b[49m\n\u001b[1;32m    133\u001b[0m \u001b[38;5;28;01melse\u001b[39;00m:\n\u001b[1;32m    134\u001b[0m     \u001b[38;5;66;03m# Composite any adjacent images together\u001b[39;00m\n\u001b[1;32m    135\u001b[0m     image_group \u001b[38;5;241m=\u001b[39m []\n",
      "File \u001b[0;32m/opt/conda/lib/python3.10/site-packages/matplotlib/artist.py:50\u001b[0m, in \u001b[0;36mallow_rasterization.<locals>.draw_wrapper\u001b[0;34m(artist, renderer)\u001b[0m\n\u001b[1;32m     47\u001b[0m     \u001b[38;5;28;01mif\u001b[39;00m artist\u001b[38;5;241m.\u001b[39mget_agg_filter() \u001b[38;5;129;01mis\u001b[39;00m \u001b[38;5;129;01mnot\u001b[39;00m \u001b[38;5;28;01mNone\u001b[39;00m:\n\u001b[1;32m     48\u001b[0m         renderer\u001b[38;5;241m.\u001b[39mstart_filter()\n\u001b[0;32m---> 50\u001b[0m     \u001b[38;5;28;01mreturn\u001b[39;00m \u001b[43mdraw\u001b[49m\u001b[43m(\u001b[49m\u001b[43martist\u001b[49m\u001b[43m,\u001b[49m\u001b[43m \u001b[49m\u001b[43mrenderer\u001b[49m\u001b[43m)\u001b[49m\n\u001b[1;32m     51\u001b[0m \u001b[38;5;28;01mfinally\u001b[39;00m:\n\u001b[1;32m     52\u001b[0m     \u001b[38;5;28;01mif\u001b[39;00m artist\u001b[38;5;241m.\u001b[39mget_agg_filter() \u001b[38;5;129;01mis\u001b[39;00m \u001b[38;5;129;01mnot\u001b[39;00m \u001b[38;5;28;01mNone\u001b[39;00m:\n",
      "File \u001b[0;32m/opt/conda/lib/python3.10/site-packages/matplotlib/axes/_base.py:3082\u001b[0m, in \u001b[0;36m_AxesBase.draw\u001b[0;34m(self, renderer)\u001b[0m\n\u001b[1;32m   3079\u001b[0m         a\u001b[38;5;241m.\u001b[39mdraw(renderer)\n\u001b[1;32m   3080\u001b[0m     renderer\u001b[38;5;241m.\u001b[39mstop_rasterizing()\n\u001b[0;32m-> 3082\u001b[0m \u001b[43mmimage\u001b[49m\u001b[38;5;241;43m.\u001b[39;49m\u001b[43m_draw_list_compositing_images\u001b[49m\u001b[43m(\u001b[49m\n\u001b[1;32m   3083\u001b[0m \u001b[43m    \u001b[49m\u001b[43mrenderer\u001b[49m\u001b[43m,\u001b[49m\u001b[43m \u001b[49m\u001b[38;5;28;43mself\u001b[39;49m\u001b[43m,\u001b[49m\u001b[43m \u001b[49m\u001b[43martists\u001b[49m\u001b[43m,\u001b[49m\u001b[43m \u001b[49m\u001b[38;5;28;43mself\u001b[39;49m\u001b[38;5;241;43m.\u001b[39;49m\u001b[43mfigure\u001b[49m\u001b[38;5;241;43m.\u001b[39;49m\u001b[43msuppressComposite\u001b[49m\u001b[43m)\u001b[49m\n\u001b[1;32m   3085\u001b[0m renderer\u001b[38;5;241m.\u001b[39mclose_group(\u001b[38;5;124m'\u001b[39m\u001b[38;5;124maxes\u001b[39m\u001b[38;5;124m'\u001b[39m)\n\u001b[1;32m   3086\u001b[0m \u001b[38;5;28mself\u001b[39m\u001b[38;5;241m.\u001b[39mstale \u001b[38;5;241m=\u001b[39m \u001b[38;5;28;01mFalse\u001b[39;00m\n",
      "File \u001b[0;32m/opt/conda/lib/python3.10/site-packages/matplotlib/image.py:132\u001b[0m, in \u001b[0;36m_draw_list_compositing_images\u001b[0;34m(renderer, parent, artists, suppress_composite)\u001b[0m\n\u001b[1;32m    130\u001b[0m \u001b[38;5;28;01mif\u001b[39;00m not_composite \u001b[38;5;129;01mor\u001b[39;00m \u001b[38;5;129;01mnot\u001b[39;00m has_images:\n\u001b[1;32m    131\u001b[0m     \u001b[38;5;28;01mfor\u001b[39;00m a \u001b[38;5;129;01min\u001b[39;00m artists:\n\u001b[0;32m--> 132\u001b[0m         \u001b[43ma\u001b[49m\u001b[38;5;241;43m.\u001b[39;49m\u001b[43mdraw\u001b[49m\u001b[43m(\u001b[49m\u001b[43mrenderer\u001b[49m\u001b[43m)\u001b[49m\n\u001b[1;32m    133\u001b[0m \u001b[38;5;28;01melse\u001b[39;00m:\n\u001b[1;32m    134\u001b[0m     \u001b[38;5;66;03m# Composite any adjacent images together\u001b[39;00m\n\u001b[1;32m    135\u001b[0m     image_group \u001b[38;5;241m=\u001b[39m []\n",
      "File \u001b[0;32m/opt/conda/lib/python3.10/site-packages/matplotlib/artist.py:50\u001b[0m, in \u001b[0;36mallow_rasterization.<locals>.draw_wrapper\u001b[0;34m(artist, renderer)\u001b[0m\n\u001b[1;32m     47\u001b[0m     \u001b[38;5;28;01mif\u001b[39;00m artist\u001b[38;5;241m.\u001b[39mget_agg_filter() \u001b[38;5;129;01mis\u001b[39;00m \u001b[38;5;129;01mnot\u001b[39;00m \u001b[38;5;28;01mNone\u001b[39;00m:\n\u001b[1;32m     48\u001b[0m         renderer\u001b[38;5;241m.\u001b[39mstart_filter()\n\u001b[0;32m---> 50\u001b[0m     \u001b[38;5;28;01mreturn\u001b[39;00m \u001b[43mdraw\u001b[49m\u001b[43m(\u001b[49m\u001b[43martist\u001b[49m\u001b[43m,\u001b[49m\u001b[43m \u001b[49m\u001b[43mrenderer\u001b[49m\u001b[43m)\u001b[49m\n\u001b[1;32m     51\u001b[0m \u001b[38;5;28;01mfinally\u001b[39;00m:\n\u001b[1;32m     52\u001b[0m     \u001b[38;5;28;01mif\u001b[39;00m artist\u001b[38;5;241m.\u001b[39mget_agg_filter() \u001b[38;5;129;01mis\u001b[39;00m \u001b[38;5;129;01mnot\u001b[39;00m \u001b[38;5;28;01mNone\u001b[39;00m:\n",
      "File \u001b[0;32m/opt/conda/lib/python3.10/site-packages/matplotlib/axis.py:1158\u001b[0m, in \u001b[0;36mAxis.draw\u001b[0;34m(self, renderer, *args, **kwargs)\u001b[0m\n\u001b[1;32m   1155\u001b[0m     \u001b[38;5;28;01mreturn\u001b[39;00m\n\u001b[1;32m   1156\u001b[0m renderer\u001b[38;5;241m.\u001b[39mopen_group(\u001b[38;5;18m__name__\u001b[39m, gid\u001b[38;5;241m=\u001b[39m\u001b[38;5;28mself\u001b[39m\u001b[38;5;241m.\u001b[39mget_gid())\n\u001b[0;32m-> 1158\u001b[0m ticks_to_draw \u001b[38;5;241m=\u001b[39m \u001b[38;5;28;43mself\u001b[39;49m\u001b[38;5;241;43m.\u001b[39;49m\u001b[43m_update_ticks\u001b[49m\u001b[43m(\u001b[49m\u001b[43m)\u001b[49m\n\u001b[1;32m   1159\u001b[0m ticklabelBoxes, ticklabelBoxes2 \u001b[38;5;241m=\u001b[39m \u001b[38;5;28mself\u001b[39m\u001b[38;5;241m.\u001b[39m_get_tick_bboxes(ticks_to_draw,\n\u001b[1;32m   1160\u001b[0m                                                         renderer)\n\u001b[1;32m   1162\u001b[0m \u001b[38;5;28;01mfor\u001b[39;00m tick \u001b[38;5;129;01min\u001b[39;00m ticks_to_draw:\n",
      "File \u001b[0;32m/opt/conda/lib/python3.10/site-packages/matplotlib/axis.py:1045\u001b[0m, in \u001b[0;36mAxis._update_ticks\u001b[0;34m(self)\u001b[0m\n\u001b[1;32m   1040\u001b[0m \u001b[38;5;28;01mdef\u001b[39;00m \u001b[38;5;21m_update_ticks\u001b[39m(\u001b[38;5;28mself\u001b[39m):\n\u001b[1;32m   1041\u001b[0m     \u001b[38;5;124;03m\"\"\"\u001b[39;00m\n\u001b[1;32m   1042\u001b[0m \u001b[38;5;124;03m    Update ticks (position and labels) using the current data interval of\u001b[39;00m\n\u001b[1;32m   1043\u001b[0m \u001b[38;5;124;03m    the axes.  Return the list of ticks that will be drawn.\u001b[39;00m\n\u001b[1;32m   1044\u001b[0m \u001b[38;5;124;03m    \"\"\"\u001b[39;00m\n\u001b[0;32m-> 1045\u001b[0m     major_locs \u001b[38;5;241m=\u001b[39m \u001b[38;5;28;43mself\u001b[39;49m\u001b[38;5;241;43m.\u001b[39;49m\u001b[43mget_majorticklocs\u001b[49m\u001b[43m(\u001b[49m\u001b[43m)\u001b[49m\n\u001b[1;32m   1046\u001b[0m     major_labels \u001b[38;5;241m=\u001b[39m \u001b[38;5;28mself\u001b[39m\u001b[38;5;241m.\u001b[39mmajor\u001b[38;5;241m.\u001b[39mformatter\u001b[38;5;241m.\u001b[39mformat_ticks(major_locs)\n\u001b[1;32m   1047\u001b[0m     major_ticks \u001b[38;5;241m=\u001b[39m \u001b[38;5;28mself\u001b[39m\u001b[38;5;241m.\u001b[39mget_major_ticks(\u001b[38;5;28mlen\u001b[39m(major_locs))\n",
      "File \u001b[0;32m/opt/conda/lib/python3.10/site-packages/matplotlib/axis.py:1277\u001b[0m, in \u001b[0;36mAxis.get_majorticklocs\u001b[0;34m(self)\u001b[0m\n\u001b[1;32m   1275\u001b[0m \u001b[38;5;28;01mdef\u001b[39;00m \u001b[38;5;21mget_majorticklocs\u001b[39m(\u001b[38;5;28mself\u001b[39m):\n\u001b[1;32m   1276\u001b[0m     \u001b[38;5;124;03m\"\"\"Return this Axis' major tick locations in data coordinates.\"\"\"\u001b[39;00m\n\u001b[0;32m-> 1277\u001b[0m     \u001b[38;5;28;01mreturn\u001b[39;00m \u001b[38;5;28;43mself\u001b[39;49m\u001b[38;5;241;43m.\u001b[39;49m\u001b[43mmajor\u001b[49m\u001b[38;5;241;43m.\u001b[39;49m\u001b[43mlocator\u001b[49m\u001b[43m(\u001b[49m\u001b[43m)\u001b[49m\n",
      "File \u001b[0;32m/opt/conda/lib/python3.10/site-packages/matplotlib/ticker.py:2114\u001b[0m, in \u001b[0;36mMaxNLocator.__call__\u001b[0;34m(self)\u001b[0m\n\u001b[1;32m   2112\u001b[0m \u001b[38;5;28;01mdef\u001b[39;00m \u001b[38;5;21m__call__\u001b[39m(\u001b[38;5;28mself\u001b[39m):\n\u001b[1;32m   2113\u001b[0m     vmin, vmax \u001b[38;5;241m=\u001b[39m \u001b[38;5;28mself\u001b[39m\u001b[38;5;241m.\u001b[39maxis\u001b[38;5;241m.\u001b[39mget_view_interval()\n\u001b[0;32m-> 2114\u001b[0m     \u001b[38;5;28;01mreturn\u001b[39;00m \u001b[38;5;28;43mself\u001b[39;49m\u001b[38;5;241;43m.\u001b[39;49m\u001b[43mtick_values\u001b[49m\u001b[43m(\u001b[49m\u001b[43mvmin\u001b[49m\u001b[43m,\u001b[49m\u001b[43m \u001b[49m\u001b[43mvmax\u001b[49m\u001b[43m)\u001b[49m\n",
      "File \u001b[0;32m/opt/conda/lib/python3.10/site-packages/matplotlib/ticker.py:2122\u001b[0m, in \u001b[0;36mMaxNLocator.tick_values\u001b[0;34m(self, vmin, vmax)\u001b[0m\n\u001b[1;32m   2119\u001b[0m     vmin \u001b[38;5;241m=\u001b[39m \u001b[38;5;241m-\u001b[39mvmax\n\u001b[1;32m   2120\u001b[0m vmin, vmax \u001b[38;5;241m=\u001b[39m mtransforms\u001b[38;5;241m.\u001b[39mnonsingular(\n\u001b[1;32m   2121\u001b[0m     vmin, vmax, expander\u001b[38;5;241m=\u001b[39m\u001b[38;5;241m1e-13\u001b[39m, tiny\u001b[38;5;241m=\u001b[39m\u001b[38;5;241m1e-14\u001b[39m)\n\u001b[0;32m-> 2122\u001b[0m locs \u001b[38;5;241m=\u001b[39m \u001b[38;5;28;43mself\u001b[39;49m\u001b[38;5;241;43m.\u001b[39;49m\u001b[43m_raw_ticks\u001b[49m\u001b[43m(\u001b[49m\u001b[43mvmin\u001b[49m\u001b[43m,\u001b[49m\u001b[43m \u001b[49m\u001b[43mvmax\u001b[49m\u001b[43m)\u001b[49m\n\u001b[1;32m   2124\u001b[0m prune \u001b[38;5;241m=\u001b[39m \u001b[38;5;28mself\u001b[39m\u001b[38;5;241m.\u001b[39m_prune\n\u001b[1;32m   2125\u001b[0m \u001b[38;5;28;01mif\u001b[39;00m prune \u001b[38;5;241m==\u001b[39m \u001b[38;5;124m'\u001b[39m\u001b[38;5;124mlower\u001b[39m\u001b[38;5;124m'\u001b[39m:\n",
      "File \u001b[0;32m/opt/conda/lib/python3.10/site-packages/matplotlib/ticker.py:2061\u001b[0m, in \u001b[0;36mMaxNLocator._raw_ticks\u001b[0;34m(self, vmin, vmax)\u001b[0m\n\u001b[1;32m   2059\u001b[0m \u001b[38;5;28;01mif\u001b[39;00m \u001b[38;5;28mself\u001b[39m\u001b[38;5;241m.\u001b[39m_nbins \u001b[38;5;241m==\u001b[39m \u001b[38;5;124m'\u001b[39m\u001b[38;5;124mauto\u001b[39m\u001b[38;5;124m'\u001b[39m:\n\u001b[1;32m   2060\u001b[0m     \u001b[38;5;28;01mif\u001b[39;00m \u001b[38;5;28mself\u001b[39m\u001b[38;5;241m.\u001b[39maxis \u001b[38;5;129;01mis\u001b[39;00m \u001b[38;5;129;01mnot\u001b[39;00m \u001b[38;5;28;01mNone\u001b[39;00m:\n\u001b[0;32m-> 2061\u001b[0m         nbins \u001b[38;5;241m=\u001b[39m np\u001b[38;5;241m.\u001b[39mclip(\u001b[38;5;28;43mself\u001b[39;49m\u001b[38;5;241;43m.\u001b[39;49m\u001b[43maxis\u001b[49m\u001b[38;5;241;43m.\u001b[39;49m\u001b[43mget_tick_space\u001b[49m\u001b[43m(\u001b[49m\u001b[43m)\u001b[49m,\n\u001b[1;32m   2062\u001b[0m                         \u001b[38;5;28mmax\u001b[39m(\u001b[38;5;241m1\u001b[39m, \u001b[38;5;28mself\u001b[39m\u001b[38;5;241m.\u001b[39m_min_n_ticks \u001b[38;5;241m-\u001b[39m \u001b[38;5;241m1\u001b[39m), \u001b[38;5;241m9\u001b[39m)\n\u001b[1;32m   2063\u001b[0m     \u001b[38;5;28;01melse\u001b[39;00m:\n\u001b[1;32m   2064\u001b[0m         nbins \u001b[38;5;241m=\u001b[39m \u001b[38;5;241m9\u001b[39m\n",
      "File \u001b[0;32m/opt/conda/lib/python3.10/site-packages/matplotlib/axis.py:2270\u001b[0m, in \u001b[0;36mXAxis.get_tick_space\u001b[0;34m(self)\u001b[0m\n\u001b[1;32m   2268\u001b[0m size \u001b[38;5;241m=\u001b[39m \u001b[38;5;28mself\u001b[39m\u001b[38;5;241m.\u001b[39m_get_tick_label_size(\u001b[38;5;124m'\u001b[39m\u001b[38;5;124mx\u001b[39m\u001b[38;5;124m'\u001b[39m) \u001b[38;5;241m*\u001b[39m \u001b[38;5;241m3\u001b[39m\n\u001b[1;32m   2269\u001b[0m \u001b[38;5;28;01mif\u001b[39;00m size \u001b[38;5;241m>\u001b[39m \u001b[38;5;241m0\u001b[39m:\n\u001b[0;32m-> 2270\u001b[0m     \u001b[38;5;28;01mreturn\u001b[39;00m \u001b[38;5;28;43mint\u001b[39;49m\u001b[43m(\u001b[49m\u001b[43mnp\u001b[49m\u001b[38;5;241;43m.\u001b[39;49m\u001b[43mfloor\u001b[49m\u001b[43m(\u001b[49m\u001b[43mlength\u001b[49m\u001b[43m \u001b[49m\u001b[38;5;241;43m/\u001b[39;49m\u001b[43m \u001b[49m\u001b[43msize\u001b[49m\u001b[43m)\u001b[49m\u001b[43m)\u001b[49m\n\u001b[1;32m   2271\u001b[0m \u001b[38;5;28;01melse\u001b[39;00m:\n\u001b[1;32m   2272\u001b[0m     \u001b[38;5;28;01mreturn\u001b[39;00m \u001b[38;5;241m2\u001b[39m\u001b[38;5;241m*\u001b[39m\u001b[38;5;241m*\u001b[39m\u001b[38;5;241m31\u001b[39m \u001b[38;5;241m-\u001b[39m \u001b[38;5;241m1\u001b[39m\n",
      "\u001b[0;31mValueError\u001b[0m: cannot convert float NaN to integer"
     ]
    },
    {
     "data": {
      "text/plain": [
       "<Figure size 400x400 with 1 Axes>"
      ]
     },
     "metadata": {},
     "output_type": "display_data"
    }
   ],
   "source": [
    "# There are 2 rows: coverage isn't complete, there are gaps of coverage.\n",
    "single_route_overlay.plot('route_length', figsize = (4,4), lw = 5)"
   ]
  },
  {
   "cell_type": "code",
   "execution_count": 44,
   "id": "47a5815e-e05d-4463-84e1-bc3d9937dd7e",
   "metadata": {},
   "outputs": [
    {
     "data": {
      "text/html": [
       "<div>\n",
       "<style scoped>\n",
       "    .dataframe tbody tr th:only-of-type {\n",
       "        vertical-align: middle;\n",
       "    }\n",
       "\n",
       "    .dataframe tbody tr th {\n",
       "        vertical-align: top;\n",
       "    }\n",
       "\n",
       "    .dataframe thead th {\n",
       "        text-align: right;\n",
       "    }\n",
       "</style>\n",
       "<table border=\"1\" class=\"dataframe\">\n",
       "  <thead>\n",
       "    <tr style=\"text-align: right;\">\n",
       "      <th></th>\n",
       "      <th>route_length</th>\n",
       "    </tr>\n",
       "  </thead>\n",
       "  <tbody>\n",
       "  </tbody>\n",
       "</table>\n",
       "</div>"
      ],
      "text/plain": [
       "Empty DataFrame\n",
       "Columns: [route_length]\n",
       "Index: []"
      ]
     },
     "execution_count": 44,
     "metadata": {},
     "output_type": "execute_result"
    }
   ],
   "source": [
    "# Original length for Mainline AM/PM\n",
    "single_agency.loc[single_agency['route_name'] =='Mainline AM/PM'][['route_length']]"
   ]
  },
  {
   "cell_type": "code",
   "execution_count": 45,
   "id": "0cf8274a-cb81-4a21-b152-88af068252d6",
   "metadata": {},
   "outputs": [
    {
     "data": {
      "text/plain": [
       "0.6017284728018653"
      ]
     },
     "execution_count": 45,
     "metadata": {},
     "output_type": "execute_result"
    }
   ],
   "source": [
    "91143.89/151470.13"
   ]
  },
  {
   "cell_type": "markdown",
   "id": "3914d063-be1d-438b-8fac-b98b0b9cdd66",
   "metadata": {},
   "source": [
    "## Single Agency"
   ]
  },
  {
   "cell_type": "code",
   "execution_count": 46,
   "id": "99c008d5-7e87-4885-94e3-759a964d2d9e",
   "metadata": {},
   "outputs": [],
   "source": [
    "# Sum up routes...\n",
    "single_agency_overlay2 = (\n",
    "    single_agency_overlay.groupby([\"route_id\", \"route_name\", \"agency\", \"itp_id\"])\n",
    "    .agg({\"route_length\": \"sum\"})\n",
    "    .reset_index()\n",
    ")"
   ]
  },
  {
   "cell_type": "code",
   "execution_count": 47,
   "id": "acb42007-a231-4615-aabe-f51faf492672",
   "metadata": {
    "tags": []
   },
   "outputs": [],
   "source": [
    "# Play with ascending\n",
    "\n",
    "single_agency_overlay2 = (\n",
    "    single_agency_overlay.sort_values([\"route_id\", \"route_length\"], ascending=False)\n",
    "    .drop_duplicates(\"route_id\")\n",
    "    .reset_index(drop=True)\n",
    ")"
   ]
  },
  {
   "cell_type": "code",
   "execution_count": 48,
   "id": "4a6a5e30-de78-4456-ba87-c94b119eed11",
   "metadata": {},
   "outputs": [
    {
     "data": {
      "text/plain": [
       "((4, 7), 4)"
      ]
     },
     "execution_count": 48,
     "metadata": {},
     "output_type": "execute_result"
    }
   ],
   "source": [
    "single_agency_overlay2.shape, single_agency_overlay2.route_name.nunique()"
   ]
  },
  {
   "cell_type": "code",
   "execution_count": 49,
   "id": "975545a9-2c5d-47e5-9774-af22f599ca42",
   "metadata": {},
   "outputs": [],
   "source": [
    "# Merge to get original route length and old route length\n",
    "att_merge = pd.merge(\n",
    "    single_agency_overlay2,\n",
    "    single_agency,\n",
    "    how=\"inner\",\n",
    "    on=[\"agency\", \"route_id\", \"route_name\", \"itp_id\"],\n",
    "    suffixes=[\"_overlay\", \"_original\"],\n",
    ")"
   ]
  },
  {
   "cell_type": "code",
   "execution_count": 50,
   "id": "edff2fb4-182c-4cd2-8b0a-e0c053d35525",
   "metadata": {},
   "outputs": [
    {
     "data": {
      "text/plain": [
       "4"
      ]
     },
     "execution_count": 50,
     "metadata": {},
     "output_type": "execute_result"
    }
   ],
   "source": [
    "att_merge.route_id.nunique()"
   ]
  },
  {
   "cell_type": "code",
   "execution_count": 51,
   "id": "20144580-1404-463f-855c-b341bf9dc673",
   "metadata": {},
   "outputs": [],
   "source": [
    "att_merge[\"percentage\"] = (\n",
    "    att_merge[\"route_length_overlay\"] / att_merge[\"route_length_original\"]\n",
    ") * 100"
   ]
  },
  {
   "cell_type": "code",
   "execution_count": 52,
   "id": "fd79cae4-3f12-44d5-8981-c94ba5bd5faa",
   "metadata": {
    "tags": []
   },
   "outputs": [],
   "source": [
    "# Bin percentages\n",
    "bins = [0, 10, 20, 30, 40, 50, 60, 70, 80, 90, 100]"
   ]
  },
  {
   "cell_type": "code",
   "execution_count": 53,
   "id": "5bb01f08-863a-44c7-abf7-141a06d7394f",
   "metadata": {
    "tags": []
   },
   "outputs": [],
   "source": [
    "att_merge[\"binned\"] = pd.cut(att_merge[\"percentage\"], bins)"
   ]
  },
  {
   "cell_type": "code",
   "execution_count": 54,
   "id": "f0079749-eff1-4f62-9786-2a5085137a00",
   "metadata": {},
   "outputs": [
    {
     "data": {
      "text/plain": [
       "(0, 10]      2\n",
       "(80, 90]     1\n",
       "(90, 100]    1\n",
       "(10, 20]     0\n",
       "(20, 30]     0\n",
       "(30, 40]     0\n",
       "(40, 50]     0\n",
       "(50, 60]     0\n",
       "(60, 70]     0\n",
       "(70, 80]     0\n",
       "Name: binned, dtype: int64"
      ]
     },
     "execution_count": 54,
     "metadata": {},
     "output_type": "execute_result"
    }
   ],
   "source": [
    "att_merge.binned.value_counts()"
   ]
  },
  {
   "cell_type": "code",
   "execution_count": 55,
   "id": "6c206b2b-fd6b-4a7c-9f55-d9e52e87fcd5",
   "metadata": {},
   "outputs": [
    {
     "ename": "KeyError",
     "evalue": "\"['geometry'] not found in axis\"",
     "output_type": "error",
     "traceback": [
      "\u001b[0;31m---------------------------------------------------------------------------\u001b[0m",
      "\u001b[0;31mKeyError\u001b[0m                                  Traceback (most recent call last)",
      "Cell \u001b[0;32mIn [55], line 1\u001b[0m\n\u001b[0;32m----> 1\u001b[0m \u001b[43matt_merge\u001b[49m\u001b[38;5;241;43m.\u001b[39;49m\u001b[43mdrop\u001b[49m\u001b[43m(\u001b[49m\u001b[43mcolumns\u001b[49m\u001b[38;5;241;43m=\u001b[39;49m\u001b[43m[\u001b[49m\u001b[38;5;124;43m\"\u001b[39;49m\u001b[38;5;124;43mgeometry\u001b[39;49m\u001b[38;5;124;43m\"\u001b[39;49m\u001b[43m]\u001b[49m\u001b[43m)\u001b[49m\n",
      "File \u001b[0;32m/opt/conda/lib/python3.10/site-packages/pandas/util/_decorators.py:317\u001b[0m, in \u001b[0;36mdeprecate_nonkeyword_arguments.<locals>.decorate.<locals>.wrapper\u001b[0;34m(*args, **kwargs)\u001b[0m\n\u001b[1;32m    311\u001b[0m \u001b[38;5;28;01mif\u001b[39;00m \u001b[38;5;28mlen\u001b[39m(args) \u001b[38;5;241m>\u001b[39m num_allow_args:\n\u001b[1;32m    312\u001b[0m     warnings\u001b[38;5;241m.\u001b[39mwarn(\n\u001b[1;32m    313\u001b[0m         msg\u001b[38;5;241m.\u001b[39mformat(arguments\u001b[38;5;241m=\u001b[39marguments),\n\u001b[1;32m    314\u001b[0m         \u001b[38;5;167;01mFutureWarning\u001b[39;00m,\n\u001b[1;32m    315\u001b[0m         stacklevel\u001b[38;5;241m=\u001b[39mfind_stack_level(inspect\u001b[38;5;241m.\u001b[39mcurrentframe()),\n\u001b[1;32m    316\u001b[0m     )\n\u001b[0;32m--> 317\u001b[0m \u001b[38;5;28;01mreturn\u001b[39;00m \u001b[43mfunc\u001b[49m\u001b[43m(\u001b[49m\u001b[38;5;241;43m*\u001b[39;49m\u001b[43margs\u001b[49m\u001b[43m,\u001b[49m\u001b[43m \u001b[49m\u001b[38;5;241;43m*\u001b[39;49m\u001b[38;5;241;43m*\u001b[39;49m\u001b[43mkwargs\u001b[49m\u001b[43m)\u001b[49m\n",
      "File \u001b[0;32m/opt/conda/lib/python3.10/site-packages/pandas/core/frame.py:5391\u001b[0m, in \u001b[0;36mDataFrame.drop\u001b[0;34m(self, labels, axis, index, columns, level, inplace, errors)\u001b[0m\n\u001b[1;32m   5243\u001b[0m \u001b[38;5;129m@deprecate_nonkeyword_arguments\u001b[39m(version\u001b[38;5;241m=\u001b[39m\u001b[38;5;28;01mNone\u001b[39;00m, allowed_args\u001b[38;5;241m=\u001b[39m[\u001b[38;5;124m\"\u001b[39m\u001b[38;5;124mself\u001b[39m\u001b[38;5;124m\"\u001b[39m, \u001b[38;5;124m\"\u001b[39m\u001b[38;5;124mlabels\u001b[39m\u001b[38;5;124m\"\u001b[39m])\n\u001b[1;32m   5244\u001b[0m \u001b[38;5;28;01mdef\u001b[39;00m \u001b[38;5;21mdrop\u001b[39m(  \u001b[38;5;66;03m# type: ignore[override]\u001b[39;00m\n\u001b[1;32m   5245\u001b[0m     \u001b[38;5;28mself\u001b[39m,\n\u001b[0;32m   (...)\u001b[0m\n\u001b[1;32m   5252\u001b[0m     errors: IgnoreRaise \u001b[38;5;241m=\u001b[39m \u001b[38;5;124m\"\u001b[39m\u001b[38;5;124mraise\u001b[39m\u001b[38;5;124m\"\u001b[39m,\n\u001b[1;32m   5253\u001b[0m ) \u001b[38;5;241m-\u001b[39m\u001b[38;5;241m>\u001b[39m DataFrame \u001b[38;5;241m|\u001b[39m \u001b[38;5;28;01mNone\u001b[39;00m:\n\u001b[1;32m   5254\u001b[0m     \u001b[38;5;124;03m\"\"\"\u001b[39;00m\n\u001b[1;32m   5255\u001b[0m \u001b[38;5;124;03m    Drop specified labels from rows or columns.\u001b[39;00m\n\u001b[1;32m   5256\u001b[0m \n\u001b[0;32m   (...)\u001b[0m\n\u001b[1;32m   5389\u001b[0m \u001b[38;5;124;03m            weight  1.0     0.8\u001b[39;00m\n\u001b[1;32m   5390\u001b[0m \u001b[38;5;124;03m    \"\"\"\u001b[39;00m\n\u001b[0;32m-> 5391\u001b[0m     \u001b[38;5;28;01mreturn\u001b[39;00m \u001b[38;5;28;43msuper\u001b[39;49m\u001b[43m(\u001b[49m\u001b[43m)\u001b[49m\u001b[38;5;241;43m.\u001b[39;49m\u001b[43mdrop\u001b[49m\u001b[43m(\u001b[49m\n\u001b[1;32m   5392\u001b[0m \u001b[43m        \u001b[49m\u001b[43mlabels\u001b[49m\u001b[38;5;241;43m=\u001b[39;49m\u001b[43mlabels\u001b[49m\u001b[43m,\u001b[49m\n\u001b[1;32m   5393\u001b[0m \u001b[43m        \u001b[49m\u001b[43maxis\u001b[49m\u001b[38;5;241;43m=\u001b[39;49m\u001b[43maxis\u001b[49m\u001b[43m,\u001b[49m\n\u001b[1;32m   5394\u001b[0m \u001b[43m        \u001b[49m\u001b[43mindex\u001b[49m\u001b[38;5;241;43m=\u001b[39;49m\u001b[43mindex\u001b[49m\u001b[43m,\u001b[49m\n\u001b[1;32m   5395\u001b[0m \u001b[43m        \u001b[49m\u001b[43mcolumns\u001b[49m\u001b[38;5;241;43m=\u001b[39;49m\u001b[43mcolumns\u001b[49m\u001b[43m,\u001b[49m\n\u001b[1;32m   5396\u001b[0m \u001b[43m        \u001b[49m\u001b[43mlevel\u001b[49m\u001b[38;5;241;43m=\u001b[39;49m\u001b[43mlevel\u001b[49m\u001b[43m,\u001b[49m\n\u001b[1;32m   5397\u001b[0m \u001b[43m        \u001b[49m\u001b[43minplace\u001b[49m\u001b[38;5;241;43m=\u001b[39;49m\u001b[43minplace\u001b[49m\u001b[43m,\u001b[49m\n\u001b[1;32m   5398\u001b[0m \u001b[43m        \u001b[49m\u001b[43merrors\u001b[49m\u001b[38;5;241;43m=\u001b[39;49m\u001b[43merrors\u001b[49m\u001b[43m,\u001b[49m\n\u001b[1;32m   5399\u001b[0m \u001b[43m    \u001b[49m\u001b[43m)\u001b[49m\n",
      "File \u001b[0;32m/opt/conda/lib/python3.10/site-packages/pandas/util/_decorators.py:317\u001b[0m, in \u001b[0;36mdeprecate_nonkeyword_arguments.<locals>.decorate.<locals>.wrapper\u001b[0;34m(*args, **kwargs)\u001b[0m\n\u001b[1;32m    311\u001b[0m \u001b[38;5;28;01mif\u001b[39;00m \u001b[38;5;28mlen\u001b[39m(args) \u001b[38;5;241m>\u001b[39m num_allow_args:\n\u001b[1;32m    312\u001b[0m     warnings\u001b[38;5;241m.\u001b[39mwarn(\n\u001b[1;32m    313\u001b[0m         msg\u001b[38;5;241m.\u001b[39mformat(arguments\u001b[38;5;241m=\u001b[39marguments),\n\u001b[1;32m    314\u001b[0m         \u001b[38;5;167;01mFutureWarning\u001b[39;00m,\n\u001b[1;32m    315\u001b[0m         stacklevel\u001b[38;5;241m=\u001b[39mfind_stack_level(inspect\u001b[38;5;241m.\u001b[39mcurrentframe()),\n\u001b[1;32m    316\u001b[0m     )\n\u001b[0;32m--> 317\u001b[0m \u001b[38;5;28;01mreturn\u001b[39;00m \u001b[43mfunc\u001b[49m\u001b[43m(\u001b[49m\u001b[38;5;241;43m*\u001b[39;49m\u001b[43margs\u001b[49m\u001b[43m,\u001b[49m\u001b[43m \u001b[49m\u001b[38;5;241;43m*\u001b[39;49m\u001b[38;5;241;43m*\u001b[39;49m\u001b[43mkwargs\u001b[49m\u001b[43m)\u001b[49m\n",
      "File \u001b[0;32m/opt/conda/lib/python3.10/site-packages/pandas/core/generic.py:4510\u001b[0m, in \u001b[0;36mNDFrame.drop\u001b[0;34m(self, labels, axis, index, columns, level, inplace, errors)\u001b[0m\n\u001b[1;32m   4508\u001b[0m \u001b[38;5;28;01mfor\u001b[39;00m axis, labels \u001b[38;5;129;01min\u001b[39;00m axes\u001b[38;5;241m.\u001b[39mitems():\n\u001b[1;32m   4509\u001b[0m     \u001b[38;5;28;01mif\u001b[39;00m labels \u001b[38;5;129;01mis\u001b[39;00m \u001b[38;5;129;01mnot\u001b[39;00m \u001b[38;5;28;01mNone\u001b[39;00m:\n\u001b[0;32m-> 4510\u001b[0m         obj \u001b[38;5;241m=\u001b[39m \u001b[43mobj\u001b[49m\u001b[38;5;241;43m.\u001b[39;49m\u001b[43m_drop_axis\u001b[49m\u001b[43m(\u001b[49m\u001b[43mlabels\u001b[49m\u001b[43m,\u001b[49m\u001b[43m \u001b[49m\u001b[43maxis\u001b[49m\u001b[43m,\u001b[49m\u001b[43m \u001b[49m\u001b[43mlevel\u001b[49m\u001b[38;5;241;43m=\u001b[39;49m\u001b[43mlevel\u001b[49m\u001b[43m,\u001b[49m\u001b[43m \u001b[49m\u001b[43merrors\u001b[49m\u001b[38;5;241;43m=\u001b[39;49m\u001b[43merrors\u001b[49m\u001b[43m)\u001b[49m\n\u001b[1;32m   4512\u001b[0m \u001b[38;5;28;01mif\u001b[39;00m inplace:\n\u001b[1;32m   4513\u001b[0m     \u001b[38;5;28mself\u001b[39m\u001b[38;5;241m.\u001b[39m_update_inplace(obj)\n",
      "File \u001b[0;32m/opt/conda/lib/python3.10/site-packages/pandas/core/generic.py:4551\u001b[0m, in \u001b[0;36mNDFrame._drop_axis\u001b[0;34m(self, labels, axis, level, errors, only_slice)\u001b[0m\n\u001b[1;32m   4549\u001b[0m         new_axis \u001b[38;5;241m=\u001b[39m axis\u001b[38;5;241m.\u001b[39mdrop(labels, level\u001b[38;5;241m=\u001b[39mlevel, errors\u001b[38;5;241m=\u001b[39merrors)\n\u001b[1;32m   4550\u001b[0m     \u001b[38;5;28;01melse\u001b[39;00m:\n\u001b[0;32m-> 4551\u001b[0m         new_axis \u001b[38;5;241m=\u001b[39m \u001b[43maxis\u001b[49m\u001b[38;5;241;43m.\u001b[39;49m\u001b[43mdrop\u001b[49m\u001b[43m(\u001b[49m\u001b[43mlabels\u001b[49m\u001b[43m,\u001b[49m\u001b[43m \u001b[49m\u001b[43merrors\u001b[49m\u001b[38;5;241;43m=\u001b[39;49m\u001b[43merrors\u001b[49m\u001b[43m)\u001b[49m\n\u001b[1;32m   4552\u001b[0m     indexer \u001b[38;5;241m=\u001b[39m axis\u001b[38;5;241m.\u001b[39mget_indexer(new_axis)\n\u001b[1;32m   4554\u001b[0m \u001b[38;5;66;03m# Case for non-unique axis\u001b[39;00m\n\u001b[1;32m   4555\u001b[0m \u001b[38;5;28;01melse\u001b[39;00m:\n",
      "File \u001b[0;32m/opt/conda/lib/python3.10/site-packages/pandas/core/indexes/base.py:6972\u001b[0m, in \u001b[0;36mIndex.drop\u001b[0;34m(self, labels, errors)\u001b[0m\n\u001b[1;32m   6970\u001b[0m \u001b[38;5;28;01mif\u001b[39;00m mask\u001b[38;5;241m.\u001b[39many():\n\u001b[1;32m   6971\u001b[0m     \u001b[38;5;28;01mif\u001b[39;00m errors \u001b[38;5;241m!=\u001b[39m \u001b[38;5;124m\"\u001b[39m\u001b[38;5;124mignore\u001b[39m\u001b[38;5;124m\"\u001b[39m:\n\u001b[0;32m-> 6972\u001b[0m         \u001b[38;5;28;01mraise\u001b[39;00m \u001b[38;5;167;01mKeyError\u001b[39;00m(\u001b[38;5;124mf\u001b[39m\u001b[38;5;124m\"\u001b[39m\u001b[38;5;132;01m{\u001b[39;00m\u001b[38;5;28mlist\u001b[39m(labels[mask])\u001b[38;5;132;01m}\u001b[39;00m\u001b[38;5;124m not found in axis\u001b[39m\u001b[38;5;124m\"\u001b[39m)\n\u001b[1;32m   6973\u001b[0m     indexer \u001b[38;5;241m=\u001b[39m indexer[\u001b[38;5;241m~\u001b[39mmask]\n\u001b[1;32m   6974\u001b[0m \u001b[38;5;28;01mreturn\u001b[39;00m \u001b[38;5;28mself\u001b[39m\u001b[38;5;241m.\u001b[39mdelete(indexer)\n",
      "\u001b[0;31mKeyError\u001b[0m: \"['geometry'] not found in axis\""
     ]
    }
   ],
   "source": [
    "att_merge.drop(columns=[\"geometry\"])"
   ]
  }
 ],
 "metadata": {
  "kernelspec": {
   "display_name": "Python 3 (ipykernel)",
   "language": "python",
   "name": "python3"
  },
  "language_info": {
   "codemirror_mode": {
    "name": "ipython",
    "version": 3
   },
   "file_extension": ".py",
   "mimetype": "text/x-python",
   "name": "python",
   "nbconvert_exporter": "python",
   "pygments_lexer": "ipython3",
   "version": "3.10.6"
  }
 },
 "nbformat": 4,
 "nbformat_minor": 5
}
