{
 "cells": [
  {
   "cell_type": "code",
   "execution_count": 1,
   "id": "3149b589-8661-4a45-8634-da7edbeb1f21",
   "metadata": {},
   "outputs": [
    {
     "name": "stderr",
     "output_type": "stream",
     "text": [
      "/opt/conda/lib/python3.9/site-packages/geopandas/_compat.py:123: UserWarning: The Shapely GEOS version (3.10.3-CAPI-1.16.1) is incompatible with the GEOS version PyGEOS was compiled with (3.10.1-CAPI-1.16.0). Conversions between both will be slow.\n",
      "  warnings.warn(\n"
     ]
    }
   ],
   "source": [
    "import A1_provider_prep\n",
    "import A2_other\n",
    "import A3_analysis\n",
    "import dask.dataframe as dd\n",
    "import dask_geopandas as dg\n",
    "import geopandas as gpd\n",
    "import numpy as np\n",
    "import pandas as pd\n",
    "import shapely.wkt\n",
    "import shared_utils\n",
    "from calitp.sql import to_snakecase\n",
    "from shared_utils import geography_utils, utils"
   ]
  },
  {
   "cell_type": "code",
   "execution_count": 2,
   "id": "6409de97-058b-4c35-8259-6b7b7acf64d1",
   "metadata": {},
   "outputs": [],
   "source": [
    "pd.options.display.max_columns = 100\n",
    "pd.options.display.float_format = \"{:.2f}\".format\n",
    "pd.set_option(\"display.max_rows\", None)\n",
    "pd.set_option(\"display.max_colwidth\", None)"
   ]
  },
  {
   "cell_type": "code",
   "execution_count": 3,
   "id": "9238562d-8283-4f65-bda1-ce53410dd5ed",
   "metadata": {},
   "outputs": [],
   "source": [
    "# Load in original geometries of the routes.\n",
    "one_dist_routes, multi_dist_routes, all_routes = A2_other.find_multi_district_routes()"
   ]
  },
  {
   "cell_type": "code",
   "execution_count": 7,
   "id": "4350bca5-94fb-48f4-a964-e87dc208288e",
   "metadata": {},
   "outputs": [],
   "source": [
    "agencies = all_routes[[\"agency\", \"itp_id\"]].drop_duplicates().reset_index(drop=True)"
   ]
  },
  {
   "cell_type": "code",
   "execution_count": 16,
   "id": "6debe992-ff3d-43db-a4de-acfdde7dd122",
   "metadata": {},
   "outputs": [
    {
     "data": {
      "text/plain": [
       "168"
      ]
     },
     "execution_count": 16,
     "metadata": {},
     "output_type": "execute_result"
    }
   ],
   "source": [
    "len(agencies)"
   ]
  },
  {
   "cell_type": "code",
   "execution_count": null,
   "id": "b4266470-57bb-4a09-85e1-589629007c51",
   "metadata": {},
   "outputs": [],
   "source": [
    "subset_gtfs = [\"itp_id\", \"name\", \"gtfs_static_status\", \"gtfs_realtime_status\"]"
   ]
  },
  {
   "cell_type": "code",
   "execution_count": 62,
   "id": "aab9b204-557b-4c22-9008-a17c910cc9f1",
   "metadata": {},
   "outputs": [],
   "source": [
    "def load_gtfs(): \n",
    "    \n",
    "    # Downloaded from Airtable \"Organizations\"\n",
    "    # https://airtable.com/appPnJWrQ7ui4UmIl/tblFsd8D5oFRqep8Z/viwVBVSd0ZhYu8Ewm?blocks=hide\n",
    "    subset_gtfs = [\"itp_id\", \"name\", \"gtfs_static_status\", \"gtfs_realtime_status\"]\n",
    "    \n",
    "    df = to_snakecase(\n",
    "    pd.read_csv(f\"{A1_provider_prep.GCS_FILE_PATH}airtable_organizations.csv\"))[subset_gtfs]\n",
    "    \n",
    "    df.itp_id = df.itp_id.fillna(0).astype(int)\n",
    "    \n",
    "    df.name = df.name.replace(\n",
    "    {\"Eastern Sierra Transit Authority\": \"Mammoth Lakes Transit System\"})\n",
    "    \n",
    "    # Consolidate GTFS into one col\n",
    "    df[\"gtfs_status\"] = df.gtfs_static_status + '/' + m1.gtfs_realtime_status\n",
    "    \n",
    "    return df "
   ]
  },
  {
   "cell_type": "code",
   "execution_count": 60,
   "id": "2e70895d-dcde-4acd-ae2e-2fb9b5e73112",
   "metadata": {},
   "outputs": [],
   "source": [
    "test = add_gtfs()"
   ]
  },
  {
   "cell_type": "code",
   "execution_count": 53,
   "id": "6038f126-44bc-4a76-ba29-df2bdfeef835",
   "metadata": {},
   "outputs": [],
   "source": [
    "    m1 = agencies.merge(gtfs, how=\"left\", on=[\"itp_id\"])\n",
    "    \n",
    "    # Consolidate GTFS into one col\n",
    "    m1[\"gtfs_status\"] = m1.gtfs_static_status + '/' + m1.gtfs_realtime_status\n",
    "    \n",
    "    return m1"
   ]
  },
  {
   "cell_type": "code",
   "execution_count": 14,
   "id": "023d50f7-dc8c-4a7a-8f86-a4217ccdac3d",
   "metadata": {},
   "outputs": [],
   "source": [
    "gtfs = to_snakecase(\n",
    "    pd.read_csv(f\"{A1_provider_prep.GCS_FILE_PATH}airtable_organizations.csv\")\n",
    ")[subset_gtfs]"
   ]
  },
  {
   "cell_type": "code",
   "execution_count": 19,
   "id": "e7b4eff8-c630-46f7-9c1a-6b809285c000",
   "metadata": {},
   "outputs": [],
   "source": [
    "gtfs.itp_id = gtfs.itp_id.fillna(0).astype(int)"
   ]
  },
  {
   "cell_type": "code",
   "execution_count": 43,
   "id": "98f52393-c2ce-4d3c-a365-19ee4381b632",
   "metadata": {},
   "outputs": [],
   "source": [
    "gtfs.name = gtfs.name.replace(\n",
    "    {\"Eastern Sierra Transit Authority\": \"Mammoth Lakes Transit System\"}\n",
    ")"
   ]
  },
  {
   "cell_type": "code",
   "execution_count": 44,
   "id": "54a5f6ae-1b3b-46ed-8cb1-c92ef23c679b",
   "metadata": {},
   "outputs": [
    {
     "data": {
      "text/plain": [
       "906"
      ]
     },
     "execution_count": 44,
     "metadata": {},
     "output_type": "execute_result"
    }
   ],
   "source": [
    "len(gtfs)"
   ]
  },
  {
   "cell_type": "code",
   "execution_count": 54,
   "id": "88f2b3e8-8039-4ed5-87f8-2d496dbc02be",
   "metadata": {},
   "outputs": [],
   "source": [
    "m1 = agencies.merge(gtfs, how=\"outer\", on=[\"itp_id\"], indicator = True)"
   ]
  },
  {
   "cell_type": "code",
   "execution_count": 55,
   "id": "5e0cf57c-613c-4d52-9fc3-852ecd5f2858",
   "metadata": {},
   "outputs": [
    {
     "data": {
      "text/html": [
       "<div>\n",
       "<style scoped>\n",
       "    .dataframe tbody tr th:only-of-type {\n",
       "        vertical-align: middle;\n",
       "    }\n",
       "\n",
       "    .dataframe tbody tr th {\n",
       "        vertical-align: top;\n",
       "    }\n",
       "\n",
       "    .dataframe thead th {\n",
       "        text-align: right;\n",
       "    }\n",
       "</style>\n",
       "<table border=\"1\" class=\"dataframe\">\n",
       "  <thead>\n",
       "    <tr style=\"text-align: right;\">\n",
       "      <th></th>\n",
       "      <th>agency</th>\n",
       "      <th>itp_id</th>\n",
       "      <th>name</th>\n",
       "      <th>gtfs_static_status</th>\n",
       "      <th>gtfs_realtime_status</th>\n",
       "      <th>_merge</th>\n",
       "    </tr>\n",
       "  </thead>\n",
       "  <tbody>\n",
       "    <tr>\n",
       "      <th>8</th>\n",
       "      <td>Avocado Heights/Bassett/West Valinda Shuttle</td>\n",
       "      <td>171</td>\n",
       "      <td>NaN</td>\n",
       "      <td>NaN</td>\n",
       "      <td>NaN</td>\n",
       "      <td>left_only</td>\n",
       "    </tr>\n",
       "    <tr>\n",
       "      <th>28</th>\n",
       "      <td>Clean Air Express</td>\n",
       "      <td>473</td>\n",
       "      <td>NaN</td>\n",
       "      <td>NaN</td>\n",
       "      <td>NaN</td>\n",
       "      <td>left_only</td>\n",
       "    </tr>\n",
       "    <tr>\n",
       "      <th>29</th>\n",
       "      <td>Cloverdale Transit</td>\n",
       "      <td>70</td>\n",
       "      <td>NaN</td>\n",
       "      <td>NaN</td>\n",
       "      <td>NaN</td>\n",
       "      <td>left_only</td>\n",
       "    </tr>\n",
       "    <tr>\n",
       "      <th>41</th>\n",
       "      <td>Dumbarton Express</td>\n",
       "      <td>98</td>\n",
       "      <td>NaN</td>\n",
       "      <td>NaN</td>\n",
       "      <td>NaN</td>\n",
       "      <td>left_only</td>\n",
       "    </tr>\n",
       "    <tr>\n",
       "      <th>42</th>\n",
       "      <td>East Los Angeles Shuttle</td>\n",
       "      <td>172</td>\n",
       "      <td>NaN</td>\n",
       "      <td>NaN</td>\n",
       "      <td>NaN</td>\n",
       "      <td>left_only</td>\n",
       "    </tr>\n",
       "    <tr>\n",
       "      <th>43</th>\n",
       "      <td>East Valinda Shuttle</td>\n",
       "      <td>173</td>\n",
       "      <td>NaN</td>\n",
       "      <td>NaN</td>\n",
       "      <td>NaN</td>\n",
       "      <td>left_only</td>\n",
       "    </tr>\n",
       "    <tr>\n",
       "      <th>67</th>\n",
       "      <td>Irvine Shuttle</td>\n",
       "      <td>142</td>\n",
       "      <td>NaN</td>\n",
       "      <td>NaN</td>\n",
       "      <td>NaN</td>\n",
       "      <td>left_only</td>\n",
       "    </tr>\n",
       "    <tr>\n",
       "      <th>82</th>\n",
       "      <td>Mammoth Lakes Transit System</td>\n",
       "      <td>190</td>\n",
       "      <td>NaN</td>\n",
       "      <td>NaN</td>\n",
       "      <td>NaN</td>\n",
       "      <td>left_only</td>\n",
       "    </tr>\n",
       "    <tr>\n",
       "      <th>137</th>\n",
       "      <td>Sunshine Bus(South Whittier)</td>\n",
       "      <td>174</td>\n",
       "      <td>NaN</td>\n",
       "      <td>NaN</td>\n",
       "      <td>NaN</td>\n",
       "      <td>left_only</td>\n",
       "    </tr>\n",
       "    <tr>\n",
       "      <th>167</th>\n",
       "      <td>the Link Florence-Firestone/Walnut Park</td>\n",
       "      <td>177</td>\n",
       "      <td>NaN</td>\n",
       "      <td>NaN</td>\n",
       "      <td>NaN</td>\n",
       "      <td>left_only</td>\n",
       "    </tr>\n",
       "    <tr>\n",
       "      <th>168</th>\n",
       "      <td>the Link King Medical Center</td>\n",
       "      <td>178</td>\n",
       "      <td>NaN</td>\n",
       "      <td>NaN</td>\n",
       "      <td>NaN</td>\n",
       "      <td>left_only</td>\n",
       "    </tr>\n",
       "    <tr>\n",
       "      <th>170</th>\n",
       "      <td>the Link Willowbrook</td>\n",
       "      <td>181</td>\n",
       "      <td>NaN</td>\n",
       "      <td>NaN</td>\n",
       "      <td>NaN</td>\n",
       "      <td>left_only</td>\n",
       "    </tr>\n",
       "    <tr>\n",
       "      <th>171</th>\n",
       "      <td>the Link-Athens</td>\n",
       "      <td>176</td>\n",
       "      <td>NaN</td>\n",
       "      <td>NaN</td>\n",
       "      <td>NaN</td>\n",
       "      <td>left_only</td>\n",
       "    </tr>\n",
       "  </tbody>\n",
       "</table>\n",
       "</div>"
      ],
      "text/plain": [
       "                                           agency  itp_id name  \\\n",
       "8    Avocado Heights/Bassett/West Valinda Shuttle     171  NaN   \n",
       "28                              Clean Air Express     473  NaN   \n",
       "29                             Cloverdale Transit      70  NaN   \n",
       "41                              Dumbarton Express      98  NaN   \n",
       "42                       East Los Angeles Shuttle     172  NaN   \n",
       "43                           East Valinda Shuttle     173  NaN   \n",
       "67                                 Irvine Shuttle     142  NaN   \n",
       "82                   Mammoth Lakes Transit System     190  NaN   \n",
       "137                  Sunshine Bus(South Whittier)     174  NaN   \n",
       "167       the Link Florence-Firestone/Walnut Park     177  NaN   \n",
       "168                  the Link King Medical Center     178  NaN   \n",
       "170                          the Link Willowbrook     181  NaN   \n",
       "171                               the Link-Athens     176  NaN   \n",
       "\n",
       "    gtfs_static_status gtfs_realtime_status     _merge  \n",
       "8                  NaN                  NaN  left_only  \n",
       "28                 NaN                  NaN  left_only  \n",
       "29                 NaN                  NaN  left_only  \n",
       "41                 NaN                  NaN  left_only  \n",
       "42                 NaN                  NaN  left_only  \n",
       "43                 NaN                  NaN  left_only  \n",
       "67                 NaN                  NaN  left_only  \n",
       "82                 NaN                  NaN  left_only  \n",
       "137                NaN                  NaN  left_only  \n",
       "167                NaN                  NaN  left_only  \n",
       "168                NaN                  NaN  left_only  \n",
       "170                NaN                  NaN  left_only  \n",
       "171                NaN                  NaN  left_only  "
      ]
     },
     "execution_count": 55,
     "metadata": {},
     "output_type": "execute_result"
    }
   ],
   "source": [
    "m1.loc[m1._merge == \"left_only\"]"
   ]
  },
  {
   "cell_type": "code",
   "execution_count": 50,
   "id": "9a4fdae8-5344-4f56-904c-3929aef64c52",
   "metadata": {},
   "outputs": [],
   "source": [
    "m1[\"gtfs_status\"] = m1.gtfs_static_status + '/' + m1.gtfs_realtime_status"
   ]
  },
  {
   "cell_type": "code",
   "execution_count": 51,
   "id": "71dcb729-ffaa-4d15-a4c4-3bb07b2cb770",
   "metadata": {
    "scrolled": true,
    "tags": []
   },
   "outputs": [],
   "source": [
    "# gtfs.name.sort_values().tolist()"
   ]
  },
  {
   "cell_type": "code",
   "execution_count": 52,
   "id": "05c9af10-0d4f-433c-9e46-8f47ea233b23",
   "metadata": {},
   "outputs": [
    {
     "data": {
      "text/html": [
       "<div>\n",
       "<style scoped>\n",
       "    .dataframe tbody tr th:only-of-type {\n",
       "        vertical-align: middle;\n",
       "    }\n",
       "\n",
       "    .dataframe tbody tr th {\n",
       "        vertical-align: top;\n",
       "    }\n",
       "\n",
       "    .dataframe thead th {\n",
       "        text-align: right;\n",
       "    }\n",
       "</style>\n",
       "<table border=\"1\" class=\"dataframe\">\n",
       "  <thead>\n",
       "    <tr style=\"text-align: right;\">\n",
       "      <th></th>\n",
       "      <th>agency</th>\n",
       "      <th>itp_id</th>\n",
       "      <th>name</th>\n",
       "      <th>gtfs_static_status</th>\n",
       "      <th>gtfs_realtime_status</th>\n",
       "      <th>gtfs_status</th>\n",
       "    </tr>\n",
       "  </thead>\n",
       "  <tbody>\n",
       "    <tr>\n",
       "      <th>63</th>\n",
       "      <td>Grapeline</td>\n",
       "      <td>168</td>\n",
       "      <td>City of Lodi</td>\n",
       "      <td>Static OK</td>\n",
       "      <td>RT Incomplete</td>\n",
       "      <td>Static OK/RT Incomplete</td>\n",
       "    </tr>\n",
       "  </tbody>\n",
       "</table>\n",
       "</div>"
      ],
      "text/plain": [
       "       agency  itp_id          name gtfs_static_status gtfs_realtime_status  \\\n",
       "63  Grapeline     168  City of Lodi          Static OK        RT Incomplete   \n",
       "\n",
       "                gtfs_status  \n",
       "63  Static OK/RT Incomplete  "
      ]
     },
     "execution_count": 52,
     "metadata": {},
     "output_type": "execute_result"
    }
   ],
   "source": [
    "m1.sample()"
   ]
  }
 ],
 "metadata": {
  "kernelspec": {
   "display_name": "Python 3 (ipykernel)",
   "language": "python",
   "name": "python3"
  },
  "language_info": {
   "codemirror_mode": {
    "name": "ipython",
    "version": 3
   },
   "file_extension": ".py",
   "mimetype": "text/x-python",
   "name": "python",
   "nbconvert_exporter": "python",
   "pygments_lexer": "ipython3",
   "version": "3.9.13"
  }
 },
 "nbformat": 4,
 "nbformat_minor": 5
}
