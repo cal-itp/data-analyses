{
 "cells": [
  {
   "cell_type": "markdown",
   "id": "7ac7e4bb-4882-4fc1-8243-f0d3ecbb1acd",
   "metadata": {},
   "source": [
    "## Find routes that cross multiple districts"
   ]
  },
  {
   "cell_type": "code",
   "execution_count": 223,
   "id": "10df2d78-ad52-4719-a987-a1995f711d4a",
   "metadata": {},
   "outputs": [],
   "source": [
    "import dask.dataframe as dd\n",
    "import dask_geopandas as dg\n",
    "import geopandas as gpd\n",
    "import numpy as np\n",
    "import pandas as pd\n",
    "import shapely.wkt\n",
    "from calitp.sql import to_snakecase\n",
    "from shared_utils import geography_utils, utils\n",
    "\n",
    "import A1_provider_prep\n",
    "import A2_analysis\n",
    "import A3_other"
   ]
  },
  {
   "cell_type": "code",
   "execution_count": 224,
   "id": "a094c38f-ca8d-465d-87db-ec4ead21d112",
   "metadata": {},
   "outputs": [],
   "source": [
    "pd.options.display.max_columns = 100\n",
    "pd.options.display.float_format = \"{:.2f}\".format\n",
    "pd.set_option(\"display.max_rows\", None)\n",
    "pd.set_option(\"display.max_colwidth\", None)"
   ]
  },
  {
   "cell_type": "code",
   "execution_count": 225,
   "id": "6d1a67ec-4cd4-4d1f-a835-e3007b1c66b7",
   "metadata": {},
   "outputs": [],
   "source": [
    "unique_routes = A3_other.load_unique_routes_df()"
   ]
  },
  {
   "cell_type": "code",
   "execution_count": 226,
   "id": "a1da5eb2-3c13-4ac5-90b8-cad6e10910be",
   "metadata": {},
   "outputs": [
    {
     "data": {
      "text/plain": [
       "(2829, 2829)"
      ]
     },
     "execution_count": 226,
     "metadata": {},
     "output_type": "execute_result"
    }
   ],
   "source": [
    "len(unique_routes), unique_routes.long_route_name.nunique()"
   ]
  },
  {
   "cell_type": "code",
   "execution_count": 227,
   "id": "3745f6a5-e807-4193-94b8-4760ae2ddba4",
   "metadata": {},
   "outputs": [],
   "source": [
    "districts = A1_provider_prep.get_districts()"
   ]
  },
  {
   "cell_type": "code",
   "execution_count": 228,
   "id": "83eb9fb2-edf4-41d0-89a2-3696104ed546",
   "metadata": {},
   "outputs": [
    {
     "data": {
      "text/plain": [
       "True"
      ]
     },
     "execution_count": 228,
     "metadata": {},
     "output_type": "execute_result"
    }
   ],
   "source": [
    "districts.crs == unique_routes.crs"
   ]
  },
  {
   "cell_type": "markdown",
   "id": "ebe3c054-6abc-4d48-8dc5-c949c0229059",
   "metadata": {},
   "source": [
    "### Sjoin\n",
    "* Place unique routes on the L because I want the routes that fall within each district.\n",
    "* Intersects only returns routes that are 100% in a district. Should I used something else (within,contains,etc)?"
   ]
  },
  {
   "cell_type": "code",
   "execution_count": 229,
   "id": "808bc884-a0f8-4105-82df-0bf6d53e9f09",
   "metadata": {},
   "outputs": [],
   "source": [
    "def sjoin_route_district(district_df: gpd.GeoDataFrame):\n",
    "    \"\"\"\n",
    "    Find which routes fall 100% neatly in an district and \n",
    "    which don't. \n",
    "    \"\"\"\n",
    "    unique_routes = A3_other.load_unique_routes_df()\n",
    "    sjoin =  gpd.sjoin(\n",
    "        unique_routes, \n",
    "        district_df, \n",
    "        how=\"inner\", \n",
    "        predicate=\"intersects\"\n",
    "    ).drop(columns = \"index_right\")\n",
    "    \n",
    "    # Get route length after doing sjoin\n",
    "    sjoin = sjoin.assign(\n",
    "        sjoin_route_length= sjoin.geometry.to_crs(geography_utils.CA_StatePlane).length\n",
    "    )\n",
    "    \n",
    "    # Get %\n",
    "    sjoin[\"route_percentage\"] = ((sjoin[\"sjoin_route_length\"] / sjoin[\"original_route_length\"])* 100).astype('int64')\n",
    "    \n",
    "    return sjoin"
   ]
  },
  {
   "cell_type": "code",
   "execution_count": 230,
   "id": "facf476e-c07a-4e7d-8540-2b93615cbed4",
   "metadata": {},
   "outputs": [],
   "source": [
    "def complete_sjoin_route_district() -> dg.GeoDataFrame:\n",
    "    \"\"\"\n",
    "    Find which routes fall 100% neatly in an district and \n",
    "    which cross district boundaries. Stack results altogether.\n",
    "    Filter out for routes that fall in mulitple districts.\n",
    "    \"\"\"\n",
    "    district_df = A1_provider_prep.get_districts()\n",
    "    \n",
    "    full_gdf = pd.DataFrame()\n",
    "    \n",
    "    for i in [*range(1, 13, 1)]:\n",
    "        result = sjoin_route_district(district_df[district_df.district==i])\n",
    "\n",
    "        full_gdf = dd.multi.concat([full_gdf, result], axis=0)\n",
    "    \n",
    "    full_gdf = full_gdf.compute()\n",
    "    \n",
    "    return full_gdf"
   ]
  },
  {
   "cell_type": "code",
   "execution_count": 231,
   "id": "43c20e56-7761-4215-b4f6-6cddfa5e8ab6",
   "metadata": {},
   "outputs": [],
   "source": [
    "# sjoin_test = "
   ]
  },
  {
   "cell_type": "markdown",
   "id": "8acd2820-ae0e-4661-b94f-5908a2ac1abb",
   "metadata": {},
   "source": [
    "#### Sjoin Testing w/ D4"
   ]
  },
  {
   "cell_type": "code",
   "execution_count": 232,
   "id": "725e02f0-075a-43e1-9db8-4c0992576a02",
   "metadata": {},
   "outputs": [],
   "source": [
    "# Subset to D4\n",
    "d4 =  districts[districts.district == 4]"
   ]
  },
  {
   "cell_type": "code",
   "execution_count": 233,
   "id": "523a7796-be7c-4ded-ba4f-067cb0142d64",
   "metadata": {},
   "outputs": [],
   "source": [
    "# Sjoin \n",
    "# Should it be within? Gives me only routes that fall 100% in d4\n",
    "d4_sjoin =  gpd.sjoin(\n",
    "        unique_routes, \n",
    "        d4,\n",
    "        how=\"inner\", \n",
    "        predicate=\"intersects\"\n",
    "    ).drop(columns = \"index_right\")"
   ]
  },
  {
   "cell_type": "code",
   "execution_count": 234,
   "id": "cbe28f55-bbaa-4b3a-8996-4ee97ddf3477",
   "metadata": {},
   "outputs": [
    {
     "data": {
      "text/plain": [
       "(893, 8)"
      ]
     },
     "execution_count": 234,
     "metadata": {},
     "output_type": "execute_result"
    }
   ],
   "source": [
    "d4_sjoin.shape"
   ]
  },
  {
   "cell_type": "code",
   "execution_count": 235,
   "id": "e2112c3b-530e-4646-85ea-a0cfba3652b9",
   "metadata": {},
   "outputs": [],
   "source": [
    "# Get route length after doing sjoin\n",
    "d4_sjoin2 = d4_sjoin.assign(\n",
    "        sjoin_route_length= d4_sjoin.geometry.to_crs(geography_utils.CA_StatePlane).length\n",
    "    )"
   ]
  },
  {
   "cell_type": "code",
   "execution_count": 236,
   "id": "e250254a-fc85-4e79-89a6-7427f9d2525a",
   "metadata": {},
   "outputs": [],
   "source": [
    "# Get %\n",
    "d4_sjoin2[\"percentage_route_covered\"] = ((d4_sjoin2[\"sjoin_route_length\"] / d4_sjoin2[\"original_route_length\"])* 100).astype('int64')"
   ]
  },
  {
   "cell_type": "code",
   "execution_count": 237,
   "id": "a07f22ad-fbd9-4202-98d1-49a48f102f8d",
   "metadata": {
    "scrolled": true,
    "tags": []
   },
   "outputs": [],
   "source": [
    "# d4_sjoin2.drop(columns = ['geometry']).sort_values(\"percentage_route_covered\")"
   ]
  },
  {
   "cell_type": "code",
   "execution_count": 238,
   "id": "d2cd97dc-1593-44e2-b835-a615e948c5b8",
   "metadata": {},
   "outputs": [
    {
     "data": {
      "text/plain": [
       "100    893\n",
       "Name: percentage_route_covered, dtype: int64"
      ]
     },
     "execution_count": 238,
     "metadata": {},
     "output_type": "execute_result"
    }
   ],
   "source": [
    "d4_sjoin2.percentage_route_covered.value_counts()"
   ]
  },
  {
   "cell_type": "code",
   "execution_count": 239,
   "id": "35b5e625-232d-41c0-be64-28fe0d40158e",
   "metadata": {},
   "outputs": [
    {
     "data": {
      "text/plain": [
       "AC Transit                                                131\n",
       "MUNI                                                      112\n",
       "SamTrans                                                  100\n",
       "Santa Clara Valley Transportation Authority                86\n",
       "Commute.org Shuttles                                       48\n",
       "County Connection                                          44\n",
       "Marin Transit                                              44\n",
       "Sonoma County Transit                                      42\n",
       "Tri-Valley Wheels                                          27\n",
       "Cloverdale Transit                                         23\n",
       "Marguerite Shuttle                                         21\n",
       "WestCAT                                                    20\n",
       "Golden Gate Bridge Highway and Transportation District     18\n",
       "SolanoExpress                                              17\n",
       "SolTrans                                                   17\n",
       "Tri Delta Transit                                          17\n",
       "MVGO                                                       16\n",
       "Fairfield and Suisun Transit                               16\n",
       "Union City Transit                                         15\n",
       "Santa Rosa CityBus                                         14\n",
       "Petaluma Transit                                           12\n",
       "Vacaville City Coach                                       10\n",
       "Vine Transit                                                9\n",
       "Emery Go-Round                                              6\n",
       "Mission Bay TMA                                             4\n",
       "Yolobus                                                     3\n",
       "Mendocino Transit Authority                                 3\n",
       "South San Francisco Shuttle                                 2\n",
       "Stanislaus Regional Transit Authority                       2\n",
       "San Francisco International Airport                         2\n",
       "Rio Vista Delta Breeze                                      2\n",
       "PresidiGo                                                   2\n",
       "Dumbarton Express                                           2\n",
       "Santa Cruz Metropolitan Transit District                    1\n",
       "San Joaquin Regional Transit District                       1\n",
       "County Express                                              1\n",
       "Capitol Corridor                                            1\n",
       "Lake Transit                                                1\n",
       "Sacramento Regional Transit District                        1\n",
       "Name: agency, dtype: int64"
      ]
     },
     "execution_count": 239,
     "metadata": {},
     "output_type": "execute_result"
    }
   ],
   "source": [
    "d4_sjoin2.agency.value_counts()"
   ]
  },
  {
   "cell_type": "markdown",
   "id": "0ddd24c7-7ca6-4c0e-98b9-fc7e2a790250",
   "metadata": {},
   "source": [
    "### Clip"
   ]
  },
  {
   "cell_type": "code",
   "execution_count": 240,
   "id": "1641c8cd-5712-4366-8f66-8e222f7c42df",
   "metadata": {},
   "outputs": [],
   "source": [
    "def clip_route_district(district_df: gpd.GeoDataFrame):\n",
    "    \"\"\"\n",
    "    Find which routes fall 100% neatly in an district and \n",
    "    which don't. \n",
    "    \"\"\"\n",
    "    # Load unique routes\n",
    "    unique_routes = A3_other.load_unique_routes_df()\n",
    "    \n",
    "    # Clip routes against a district\n",
    "    clipped = gpd.clip(unique_routes, district_df)\n",
    "    \n",
    "    # Get route length after doing clip\n",
    "    clipped = clipped.assign(\n",
    "        clipped_route_length= clipped.geometry.to_crs(geography_utils.CA_StatePlane).length\n",
    "    )\n",
    "    \n",
    "    # Get %\n",
    "    clipped[\"route_percentage\"] = ((clipped[\"clipped_route_length\"] / clipped[\"original_route_length\"])* 100).astype('int64')\n",
    "    \n",
    "    return clipped"
   ]
  },
  {
   "cell_type": "code",
   "execution_count": 241,
   "id": "73a70f71-1e2b-4a56-9a01-10175ae746bc",
   "metadata": {},
   "outputs": [],
   "source": [
    "def complete_clip_route_district() -> dg.GeoDataFrame:\n",
    "    \"\"\"\n",
    "    Find which routes fall 100% neatly in an district and \n",
    "    which cross district boundaries. Stack results altogether.\n",
    "    Filter out for routes that fall in mulitple districts.\n",
    "    \"\"\"\n",
    "    # Load districts\n",
    "    district_df = A1_provider_prep.get_districts()\n",
    "    \n",
    "    full_gdf = pd.DataFrame()\n",
    "    \n",
    "    for i in [*range(1, 13, 1)]:\n",
    "        result = clip_route_district(district_df[district_df.district==i])\n",
    "\n",
    "        full_gdf = dd.multi.concat([full_gdf, result], axis=0)\n",
    "    \n",
    "    full_gdf = full_gdf.compute()\n",
    "    \n",
    "    return full_gdf"
   ]
  },
  {
   "cell_type": "code",
   "execution_count": 242,
   "id": "4d201368-0a68-4f73-ae18-9b4430dc067a",
   "metadata": {},
   "outputs": [],
   "source": [
    "clip_test = complete_clip_route_district()"
   ]
  },
  {
   "cell_type": "code",
   "execution_count": 243,
   "id": "e67553d4-77ef-4a78-94d0-245ec63021d0",
   "metadata": {},
   "outputs": [
    {
     "data": {
      "text/plain": [
       "((2914, 9), 2821)"
      ]
     },
     "execution_count": 243,
     "metadata": {},
     "output_type": "execute_result"
    }
   ],
   "source": [
    "# How are there more routes now? \n",
    "# Original unique routes only has 2829 rows, now there are  2914 rows\n",
    "# Only 2821 unique long route names here but original unique routes has 2829 unique routes\n",
    "clip_test.shape, clip_test.long_route_name.nunique()"
   ]
  },
  {
   "cell_type": "code",
   "execution_count": 262,
   "id": "75412fb1-f668-44ab-bce0-346aa1fc1913",
   "metadata": {},
   "outputs": [
    {
     "data": {
      "text/plain": [
       "85"
      ]
     },
     "execution_count": 262,
     "metadata": {},
     "output_type": "execute_result"
    }
   ],
   "source": [
    "len(clip_test) - len(unique_routes)"
   ]
  },
  {
   "cell_type": "code",
   "execution_count": 244,
   "id": "4f2d3586-1196-485e-9934-e827007e99b8",
   "metadata": {},
   "outputs": [],
   "source": [
    "# Exploring why are there 9 less routes after clip_test...\n",
    "# The routes not saved after clip are ones in Arizona!\n",
    "clip_routes_list = set(clip_test.long_route_name.unique().tolist())\n",
    "unique_routes_list = set(unique_routes.long_route_name.unique().tolist())"
   ]
  },
  {
   "cell_type": "code",
   "execution_count": 245,
   "id": "fb6fb7b0-4e4e-4b2d-9a11-a0207cb8d607",
   "metadata": {},
   "outputs": [
    {
     "data": {
      "text/plain": [
       "{'Arizona Western College/Northern Arizona University/University of Arizona to Somerton and San Luis via County 14th Street 17  Yuma County Area Transit',\n",
       " 'Arizona Western College/Northern Arizona University/University of Arizona to Wellton via Fortuna Foothills 16  Yuma County Area Transit',\n",
       " 'Clockwise Loop from West Yuma Transfer Hub to Downtown Yuma Transit Center 12  Yuma County Area Transit',\n",
       " 'Counter Clockwise Loop from West Yuma Transfer Hub to Downtown Yuma Transit Center 28  Yuma County Area Transit',\n",
       " 'Downtown Yuma Transit Center to Fortuna Foothills via Arizona Western College, University of Arizona and Northern Arizona University and 32nd Street 10  Yuma County Area Transit',\n",
       " 'Highway 95 South - Downtown Yuma Transit Center to San Luis 11  Yuma County Area Transit',\n",
       " 'North Cocopah Reservation to West Cocopah Reservation via East Cocopah Reservation and Avenue A 14  Yuma County Area Transit',\n",
       " 'The Garibaldi 5490  Avalon Transit'}"
      ]
     },
     "execution_count": 245,
     "metadata": {},
     "output_type": "execute_result"
    }
   ],
   "source": [
    "unique_routes_list - clip_routes_list"
   ]
  },
  {
   "cell_type": "code",
   "execution_count": 246,
   "id": "81d1d1f1-4b92-44a2-a05e-a223b8e23671",
   "metadata": {},
   "outputs": [
    {
     "data": {
      "text/plain": [
       "100    1337\n",
       "99      601\n",
       "98      237\n",
       "97      119\n",
       "95       67\n",
       "96       55\n",
       "94       49\n",
       "93       34\n",
       "92       29\n",
       "91       21\n",
       "88       21\n",
       "86       18\n",
       "67       16\n",
       "89       15\n",
       "90       15\n",
       "83       13\n",
       "53       12\n",
       "70       11\n",
       "87       10\n",
       "84       10\n",
       "Name: route_percentage, dtype: int64"
      ]
     },
     "execution_count": 246,
     "metadata": {},
     "output_type": "execute_result"
    }
   ],
   "source": [
    "clip_test.route_percentage.value_counts().head(20)"
   ]
  },
  {
   "cell_type": "code",
   "execution_count": 247,
   "id": "41b81de0-6107-4e1f-85a2-20f2cc4ef145",
   "metadata": {},
   "outputs": [],
   "source": [
    "# Just checking routes that are less than 90% in a district\n",
    "less_than_90 = clip_test.loc[clip_test.route_percentage < 90].sort_values(\"route_percentage\")"
   ]
  },
  {
   "cell_type": "code",
   "execution_count": 248,
   "id": "f8f25414-51ca-4c8d-a0c5-ddefbe3b6915",
   "metadata": {},
   "outputs": [
    {
     "data": {
      "text/plain": [
       "350"
      ]
     },
     "execution_count": 248,
     "metadata": {},
     "output_type": "execute_result"
    }
   ],
   "source": [
    "len(less_than_90)"
   ]
  },
  {
   "cell_type": "code",
   "execution_count": 249,
   "id": "3e960f0e-ce03-45eb-b7f9-7e003dd9f06e",
   "metadata": {},
   "outputs": [],
   "source": [
    "m = districts.explore(color=\"#8CBCCB\", name=\"districts\",  width=800,\n",
    "    height=400,)\n",
    "m = less_than_100.explore(m=m,)"
   ]
  },
  {
   "cell_type": "code",
   "execution_count": 250,
   "id": "40a913d8-2709-4f13-80f3-614a691c7164",
   "metadata": {},
   "outputs": [],
   "source": [
    "# m"
   ]
  },
  {
   "cell_type": "code",
   "execution_count": 251,
   "id": "f50daf9e-4a76-4005-b9a0-7a1acffebec8",
   "metadata": {
    "scrolled": true,
    "tags": []
   },
   "outputs": [],
   "source": [
    "less_than_100_map = less_than_100.explore(\n",
    "    \"long_route_name\",\n",
    "    width=800,\n",
    "    height=400,\n",
    "    style_kwds={\"weight\": 6},\n",
    "    legend=False,)"
   ]
  },
  {
   "cell_type": "markdown",
   "id": "053b4d5f-7975-491d-be5f-e2892e12b2d5",
   "metadata": {},
   "source": [
    "#### Clip Testing w/ D4"
   ]
  },
  {
   "cell_type": "code",
   "execution_count": 252,
   "id": "063a18b8-01ef-4fdc-bd50-ffad8f0ea84a",
   "metadata": {},
   "outputs": [],
   "source": [
    "# Try with clip instead\n",
    "d4_clip = gpd.clip( unique_routes, d4)"
   ]
  },
  {
   "cell_type": "code",
   "execution_count": 253,
   "id": "2b5aaf3f-75c8-4852-bc45-5b3060d6fdf7",
   "metadata": {},
   "outputs": [
    {
     "data": {
      "text/plain": [
       "(893, 7)"
      ]
     },
     "execution_count": 253,
     "metadata": {},
     "output_type": "execute_result"
    }
   ],
   "source": [
    "d4_clip.shape"
   ]
  },
  {
   "cell_type": "code",
   "execution_count": 254,
   "id": "f8022438-4f02-4d6a-a217-1e2675164d0d",
   "metadata": {},
   "outputs": [],
   "source": [
    "d4_clip2 = d4_clip.assign(\n",
    "        clip_route_length= d4_clip.geometry.to_crs(geography_utils.CA_StatePlane).length\n",
    "    )"
   ]
  },
  {
   "cell_type": "code",
   "execution_count": 255,
   "id": "58b8f113-03e4-49f9-99da-1e1936d49a21",
   "metadata": {},
   "outputs": [],
   "source": [
    "# Get %\n",
    "d4_clip2[\"percentage_route_covered\"] = ((d4_clip2[\"clip_route_length\"] / d4_clip2[\"original_route_length\"])* 100).astype('int64')"
   ]
  },
  {
   "cell_type": "code",
   "execution_count": 256,
   "id": "1d9340dc-ce84-463a-8e95-a7bb4bc68eb1",
   "metadata": {},
   "outputs": [],
   "source": [
    "# Filter for only routes that have <85% in D4\n",
    "low_coverage = d4_clip2.loc[d4_clip2.percentage_route_covered <85].sort_values(\"percentage_route_covered\")"
   ]
  },
  {
   "cell_type": "code",
   "execution_count": 257,
   "id": "85b99f23-dcd9-4786-bf7a-798a351cd47c",
   "metadata": {},
   "outputs": [],
   "source": [
    "# https://stackoverflow.com/questions/73767559/geopandas-explore-how-to-plot-more-than-one-layer\n",
    "# Certain routes in here are clearly only in D4 yet their percentage is low...\n",
    "m = d4.explore(color=\"#8CBCCB\", name=\"D4\",  width=400,\n",
    "    height=250,)\n",
    "m = low_coverage.explore(m=m,)\n",
    "# m"
   ]
  },
  {
   "cell_type": "markdown",
   "id": "f375cfb3-4324-46f8-8290-d8cd3858e3b8",
   "metadata": {},
   "source": [
    "### Clip has more rows than Sjoin? \n",
    "* Seems like some Yolobus/Mendicino (d3 and d1) stuff extends to d4."
   ]
  },
  {
   "cell_type": "code",
   "execution_count": 258,
   "id": "81f87740-ba00-4552-8db4-6d88581f7279",
   "metadata": {},
   "outputs": [],
   "source": [
    "# check to see if 2 columns are the same\n",
    "clip_routes = set(d4_clip.long_route_name.unique().tolist())\n",
    "sjoin_routes = set(d4_sjoin.long_route_name.unique().tolist())"
   ]
  },
  {
   "cell_type": "code",
   "execution_count": 259,
   "id": "2be13ae3-2111-4264-82c0-1b38db57a031",
   "metadata": {},
   "outputs": [
    {
     "data": {
      "text/plain": [
       "set()"
      ]
     },
     "execution_count": 259,
     "metadata": {},
     "output_type": "execute_result"
    }
   ],
   "source": [
    "clip_routes - sjoin_routes"
   ]
  },
  {
   "cell_type": "code",
   "execution_count": 260,
   "id": "b4e22d07-bb6d-4d02-9a10-448a76f23997",
   "metadata": {},
   "outputs": [
    {
     "data": {
      "text/plain": [
       "set()"
      ]
     },
     "execution_count": 260,
     "metadata": {},
     "output_type": "execute_result"
    }
   ],
   "source": [
    " sjoin_routes -clip_routes "
   ]
  }
 ],
 "metadata": {
  "kernelspec": {
   "display_name": "Python 3 (ipykernel)",
   "language": "python",
   "name": "python3"
  },
  "language_info": {
   "codemirror_mode": {
    "name": "ipython",
    "version": 3
   },
   "file_extension": ".py",
   "mimetype": "text/x-python",
   "name": "python",
   "nbconvert_exporter": "python",
   "pygments_lexer": "ipython3",
   "version": "3.9.13"
  }
 },
 "nbformat": 4,
 "nbformat_minor": 5
}
