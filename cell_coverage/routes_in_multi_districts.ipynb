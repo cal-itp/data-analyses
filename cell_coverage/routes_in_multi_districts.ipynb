{
 "cells": [
  {
   "cell_type": "markdown",
   "id": "7ac7e4bb-4882-4fc1-8243-f0d3ecbb1acd",
   "metadata": {},
   "source": [
    "## Find routes that cross multiple districts"
   ]
  },
  {
   "cell_type": "code",
   "execution_count": null,
   "id": "10df2d78-ad52-4719-a987-a1995f711d4a",
   "metadata": {},
   "outputs": [],
   "source": [
    "import A1_provider_prep\n",
    "import A2_analysis\n",
    "import A3_other\n",
    "import dask.dataframe as dd\n",
    "import dask_geopandas as dg\n",
    "import geopandas as gpd\n",
    "import numpy as np\n",
    "import pandas as pd\n",
    "import shapely.wkt\n",
    "import shared_utils\n",
    "from calitp.sql import to_snakecase\n",
    "from shared_utils import geography_utils, utils"
   ]
  },
  {
   "cell_type": "code",
   "execution_count": null,
   "id": "a094c38f-ca8d-465d-87db-ec4ead21d112",
   "metadata": {},
   "outputs": [],
   "source": [
    "pd.options.display.max_columns = 100\n",
    "pd.options.display.float_format = \"{:.2f}\".format\n",
    "pd.set_option(\"display.max_rows\", None)\n",
    "pd.set_option(\"display.max_colwidth\", None)"
   ]
  },
  {
   "cell_type": "code",
   "execution_count": null,
   "id": "6d1a67ec-4cd4-4d1f-a835-e3007b1c66b7",
   "metadata": {},
   "outputs": [],
   "source": [
    "unique_routes = A3_other.load_unique_routes_df()"
   ]
  },
  {
   "cell_type": "code",
   "execution_count": null,
   "id": "a1da5eb2-3c13-4ac5-90b8-cad6e10910be",
   "metadata": {},
   "outputs": [],
   "source": [
    "len(unique_routes), unique_routes.long_route_name.nunique()"
   ]
  },
  {
   "cell_type": "code",
   "execution_count": null,
   "id": "3745f6a5-e807-4193-94b8-4760ae2ddba4",
   "metadata": {},
   "outputs": [],
   "source": [
    "districts = A1_provider_prep.get_districts()"
   ]
  },
  {
   "cell_type": "code",
   "execution_count": null,
   "id": "83eb9fb2-edf4-41d0-89a2-3696104ed546",
   "metadata": {},
   "outputs": [],
   "source": [
    "districts.crs == unique_routes.crs"
   ]
  },
  {
   "cell_type": "markdown",
   "id": "ebe3c054-6abc-4d48-8dc5-c949c0229059",
   "metadata": {},
   "source": [
    "### Sjoin\n",
    "* Place unique routes on the L because I want the routes that fall within each district.\n",
    "* Intersects only returns routes that are 100% in a district. Should I used something else (within,contains,etc)?"
   ]
  },
  {
   "cell_type": "code",
   "execution_count": null,
   "id": "808bc884-a0f8-4105-82df-0bf6d53e9f09",
   "metadata": {},
   "outputs": [],
   "source": [
    "def sjoin_route_district(district_df: gpd.GeoDataFrame):\n",
    "    \"\"\"\n",
    "    Find which routes fall 100% neatly in an district and\n",
    "    which don't.\n",
    "    \"\"\"\n",
    "    unique_routes = A3_other.load_unique_routes_df()\n",
    "    sjoin = gpd.sjoin(\n",
    "        unique_routes, district_df, how=\"inner\", predicate=\"intersects\"\n",
    "    ).drop(columns=\"index_right\")\n",
    "\n",
    "    # Get route length after doing sjoin\n",
    "    sjoin = sjoin.assign(\n",
    "        sjoin_route_length=sjoin.geometry.to_crs(geography_utils.CA_StatePlane).length\n",
    "    )\n",
    "\n",
    "    # Get %\n",
    "    sjoin[\"route_percentage\"] = (\n",
    "        (sjoin[\"sjoin_route_length\"] / sjoin[\"original_route_length\"]) * 100\n",
    "    ).astype(\"int64\")\n",
    "\n",
    "    return sjoin"
   ]
  },
  {
   "cell_type": "code",
   "execution_count": null,
   "id": "facf476e-c07a-4e7d-8540-2b93615cbed4",
   "metadata": {},
   "outputs": [],
   "source": [
    "def complete_sjoin_route_district() -> dg.GeoDataFrame:\n",
    "    \"\"\"\n",
    "    Find which routes fall 100% neatly in an district and\n",
    "    which cross district boundaries. Stack results altogether.\n",
    "    Filter out for routes that fall in mulitple districts.\n",
    "    \"\"\"\n",
    "    district_df = A1_provider_prep.get_districts()\n",
    "\n",
    "    full_gdf = pd.DataFrame()\n",
    "\n",
    "    for i in [*range(1, 13, 1)]:\n",
    "        result = sjoin_route_district(district_df[district_df.district == i])\n",
    "\n",
    "        full_gdf = dd.multi.concat([full_gdf, result], axis=0)\n",
    "\n",
    "    full_gdf = full_gdf.compute()\n",
    "\n",
    "    return full_gdf"
   ]
  },
  {
   "cell_type": "code",
   "execution_count": null,
   "id": "43c20e56-7761-4215-b4f6-6cddfa5e8ab6",
   "metadata": {},
   "outputs": [],
   "source": [
    "# sjoin_test ="
   ]
  },
  {
   "cell_type": "markdown",
   "id": "8acd2820-ae0e-4661-b94f-5908a2ac1abb",
   "metadata": {},
   "source": [
    "#### Sjoin Testing w/ D4"
   ]
  },
  {
   "cell_type": "code",
   "execution_count": null,
   "id": "725e02f0-075a-43e1-9db8-4c0992576a02",
   "metadata": {},
   "outputs": [],
   "source": [
    "# Subset to D4\n",
    "d4 = districts[districts.district == 4]"
   ]
  },
  {
   "cell_type": "code",
   "execution_count": null,
   "id": "523a7796-be7c-4ded-ba4f-067cb0142d64",
   "metadata": {},
   "outputs": [],
   "source": [
    "# Sjoin\n",
    "# Should it be within? Gives me only routes that fall 100% in d4\n",
    "d4_sjoin = gpd.sjoin(unique_routes, d4, how=\"inner\", predicate=\"intersects\").drop(\n",
    "    columns=\"index_right\"\n",
    ")"
   ]
  },
  {
   "cell_type": "code",
   "execution_count": null,
   "id": "a07f22ad-fbd9-4202-98d1-49a48f102f8d",
   "metadata": {
    "scrolled": true,
    "tags": []
   },
   "outputs": [],
   "source": [
    "# d4_sjoin2.drop(columns = ['geometry']).sort_values(\"percentage_route_covered\")"
   ]
  },
  {
   "cell_type": "code",
   "execution_count": null,
   "id": "dc6827ae-6d2a-4a99-9574-df96c0ff44cd",
   "metadata": {},
   "outputs": [],
   "source": [
    "d4_sjoin.shape"
   ]
  },
  {
   "cell_type": "code",
   "execution_count": null,
   "id": "35b5e625-232d-41c0-be64-28fe0d40158e",
   "metadata": {},
   "outputs": [],
   "source": [
    "d4_sjoin.agency.value_counts()"
   ]
  },
  {
   "cell_type": "markdown",
   "id": "0ddd24c7-7ca6-4c0e-98b9-fc7e2a790250",
   "metadata": {},
   "source": [
    "### Clip\n",
    "* How can I keep district info? Or incorporate which district the route falls in?\n",
    "* Is unique routes and district in the right order, L and R?\n",
    "* How can there be routes that don't add up to even 90% after grouping by long route name??\n",
    "* A route must fall under ONE district completely?"
   ]
  },
  {
   "cell_type": "code",
   "execution_count": null,
   "id": "1641c8cd-5712-4366-8f66-8e222f7c42df",
   "metadata": {},
   "outputs": [],
   "source": [
    "def clip_route_district():\n",
    "    \"\"\"\n",
    "    Find which routes fall 100% neatly in an district and\n",
    "    which cross district boundaries by each district.\n",
    "    Stack the seperated district results back together.\n",
    "    \"\"\"\n",
    "    # Load unique routes & districts\n",
    "    unique_routes = A3_other.load_unique_routes_df()\n",
    "    district_df = A1_provider_prep.get_districts()\n",
    "    \n",
    "    # Clip routes against a district\n",
    "    clipped = gpd.clip(unique_routes, district_df)\n",
    "\n",
    "    # Get route length after doing clip\n",
    "    clipped = clipped.assign(\n",
    "        clipped_route_length=clipped.geometry.to_crs(\n",
    "            geography_utils.CA_StatePlane\n",
    "        ).length\n",
    "    )\n",
    "\n",
    "    # Get %\n",
    "    clipped[\"route_percentage\"] = (\n",
    "        (clipped[\"clipped_route_length\"] / clipped[\"original_route_length\"]) * 100\n",
    "    ).astype(\"int64\")\n",
    "\n",
    "    return clipped"
   ]
  },
  {
   "cell_type": "code",
   "execution_count": null,
   "id": "6783e8c0-519d-44b8-a117-0d4d3e71f7fb",
   "metadata": {},
   "outputs": [],
   "source": [
    "# Started 10:15, ended at 10:16\n",
    "clip_test = clip_route_district()"
   ]
  },
  {
   "cell_type": "code",
   "execution_count": null,
   "id": "4d201368-0a68-4f73-ae18-9b4430dc067a",
   "metadata": {},
   "outputs": [],
   "source": [
    "# clip_test = complete_clip_route_district()"
   ]
  },
  {
   "cell_type": "code",
   "execution_count": null,
   "id": "e67553d4-77ef-4a78-94d0-245ec63021d0",
   "metadata": {},
   "outputs": [],
   "source": [
    "# How are there more routes now?\n",
    "# Original unique routes only has 2829 rows, now there are  2914 rows\n",
    "# Only 2821 unique long route names here but original unique routes has 2829 unique routes\n",
    "clip_test.shape, clip_test.long_route_name.nunique()"
   ]
  },
  {
   "cell_type": "code",
   "execution_count": null,
   "id": "75412fb1-f668-44ab-bce0-346aa1fc1913",
   "metadata": {},
   "outputs": [],
   "source": [
    "# 8 missing rows\n",
    "len(clip_test) - len(unique_routes)"
   ]
  },
  {
   "cell_type": "code",
   "execution_count": null,
   "id": "4f2d3586-1196-485e-9934-e827007e99b8",
   "metadata": {},
   "outputs": [],
   "source": [
    "# Understanding why are there 9 less routes after clip_test...\n",
    "# The routes not saved after clip are ones in Arizona!\n",
    "clip_routes_list = set(clip_test.long_route_name.unique().tolist())\n",
    "unique_routes_list = set(unique_routes.long_route_name.unique().tolist())"
   ]
  },
  {
   "cell_type": "code",
   "execution_count": null,
   "id": "fb6fb7b0-4e4e-4b2d-9a11-a0207cb8d607",
   "metadata": {},
   "outputs": [],
   "source": [
    "unique_routes_list - clip_routes_list, len(unique_routes_list - clip_routes_list)"
   ]
  },
  {
   "cell_type": "code",
   "execution_count": null,
   "id": "41b81de0-6107-4e1f-85a2-20f2cc4ef145",
   "metadata": {},
   "outputs": [],
   "source": [
    "# Just checking routes that are less than 90% in a district\n",
    "low_percent = (\n",
    "    clip_test.loc[clip_test.route_percentage < 85].sort_values(\"route_percentage\")\n",
    ").reset_index(drop=True)"
   ]
  },
  {
   "cell_type": "code",
   "execution_count": null,
   "id": "f8f25414-51ca-4c8d-a0c5-ddefbe3b6915",
   "metadata": {},
   "outputs": [],
   "source": [
    "# Strange, I would assume there would be duplicate long route names\n",
    "# Since parts of a route  would fall in different districst and be\n",
    "# split into 1+ rows.\n",
    "len(low_percent),low_percent.long_route_name.nunique()"
   ]
  },
  {
   "cell_type": "code",
   "execution_count": null,
   "id": "8b2d0da4-de6b-4b33-bd9e-7775d7bf81ec",
   "metadata": {
    "tags": []
   },
   "outputs": [],
   "source": [
    "# Look at the routes with less than 90% in a district, make sure the percentage adds up to 100%\n",
    "grouped_low_percent = (\n",
    "    low_percent.groupby([\"long_route_name\"])\n",
    "    .agg({\"route_percentage\": \"sum\"})\n",
    "    .reset_index()\n",
    ")\n"
   ]
  },
  {
   "cell_type": "code",
   "execution_count": null,
   "id": "bd7595df-94c9-4a86-ada1-8c74672c0395",
   "metadata": {
    "scrolled": true,
    "tags": []
   },
   "outputs": [],
   "source": [
    "# Looking at Glenn-Tehama Connect 12874 Tehama Rural Area eXpress, it falls mostly in D2 and a bit in D3.\n",
    "# grouped_low_coverage.sort_values(\"route_percentage\")"
   ]
  },
  {
   "cell_type": "code",
   "execution_count": null,
   "id": "928f8d02-1ba9-4467-874d-ec51cbdd4ca5",
   "metadata": {},
   "outputs": [],
   "source": [
    "# Grab route names with low percentage\n",
    "low_percent_routes_list = low_percent.long_route_name.unique().tolist()"
   ]
  },
  {
   "cell_type": "code",
   "execution_count": null,
   "id": "4e55382b-c195-456b-a00b-680afa07c4a2",
   "metadata": {},
   "outputs": [],
   "source": [
    "# Filter the routes above in the original routes df to get original geometry\n",
    "low_percent_routes_og_geo = (\n",
    "    unique_routes[unique_routes[\"long_route_name\"].isin(low_percent_routes_list)]\n",
    ").reset_index(drop=True)"
   ]
  },
  {
   "cell_type": "code",
   "execution_count": null,
   "id": "3e960f0e-ce03-45eb-b7f9-7e003dd9f06e",
   "metadata": {},
   "outputs": [],
   "source": [
    "k = districts.explore(\n",
    "    \"district\",\n",
    "    tiles = \"CartoDB positron\",\n",
    "    cmap = \"Blues\",\n",
    "    name=\"districts\",\n",
    "    width=800,\n",
    "    height=400,\n",
    ")\n",
    "m = low_percent_routes_og_geo.explore(\n",
    "    m=m,\n",
    ")"
   ]
  },
  {
   "cell_type": "code",
   "execution_count": null,
   "id": "40a913d8-2709-4f13-80f3-614a691c7164",
   "metadata": {},
   "outputs": [],
   "source": [
    "m"
   ]
  },
  {
   "cell_type": "markdown",
   "id": "053b4d5f-7975-491d-be5f-e2892e12b2d5",
   "metadata": {},
   "source": [
    "#### Clip Testing w/ D4"
   ]
  },
  {
   "cell_type": "code",
   "execution_count": null,
   "id": "063a18b8-01ef-4fdc-bd50-ffad8f0ea84a",
   "metadata": {},
   "outputs": [],
   "source": [
    "# Try with clip instead\n",
    "d4_clip = gpd.clip(unique_routes, d4)"
   ]
  },
  {
   "cell_type": "code",
   "execution_count": null,
   "id": "f8022438-4f02-4d6a-a217-1e2675164d0d",
   "metadata": {},
   "outputs": [],
   "source": [
    "d4_clip2 = d4_clip.assign(\n",
    "    clip_route_length=d4_clip.geometry.to_crs(geography_utils.CA_StatePlane).length\n",
    ")"
   ]
  },
  {
   "cell_type": "code",
   "execution_count": null,
   "id": "58b8f113-03e4-49f9-99da-1e1936d49a21",
   "metadata": {},
   "outputs": [],
   "source": [
    "# Get %\n",
    "d4_clip2[\"route_percentage\"] = (\n",
    "    (d4_clip2[\"clip_route_length\"] / d4_clip2[\"original_route_length\"]) * 100\n",
    ").astype(\"int64\")"
   ]
  },
  {
   "cell_type": "code",
   "execution_count": null,
   "id": "2b5aaf3f-75c8-4852-bc45-5b3060d6fdf7",
   "metadata": {},
   "outputs": [],
   "source": [
    "d4_clip.shape"
   ]
  },
  {
   "cell_type": "code",
   "execution_count": null,
   "id": "13b9aae8-8eed-4825-bb84-27dc4de35b48",
   "metadata": {},
   "outputs": [],
   "source": [
    "d4_clip2.route_percentage.value_counts()"
   ]
  },
  {
   "cell_type": "code",
   "execution_count": null,
   "id": "1d9340dc-ce84-463a-8e95-a7bb4bc68eb1",
   "metadata": {},
   "outputs": [],
   "source": [
    "# Filter for only routes that have whatever percent in D4\n",
    "low_coverage_d4 = d4_clip2.loc[d4_clip2.route_percentage < 85].sort_values(\n",
    "    \"route_percentage\"\n",
    ")"
   ]
  },
  {
   "cell_type": "code",
   "execution_count": null,
   "id": "a617fcdc-e140-43ae-b1cf-8eb9023e674c",
   "metadata": {},
   "outputs": [],
   "source": [
    "# Grab routes that is 85% or less of original route length into a list\n",
    "low_coverage_d4_list = low_coverage_d4.long_route_name.unique().tolist()"
   ]
  },
  {
   "cell_type": "code",
   "execution_count": null,
   "id": "065288c8-f613-4490-932b-99abe651733e",
   "metadata": {},
   "outputs": [],
   "source": [
    "# Filter out for the routes above in original unique_routes\n",
    "# So I can map original route geometries\n",
    "low_coverage_d4_og_geometry = (\n",
    "    unique_routes[unique_routes[\"long_route_name\"].isin(low_coverage_d4_list)]\n",
    ").reset_index(drop=True)"
   ]
  },
  {
   "cell_type": "code",
   "execution_count": null,
   "id": "ce5201a4-7d32-4258-99d2-dd6c0f5f02a6",
   "metadata": {},
   "outputs": [],
   "source": [
    "low_coverage_d4_og_geometry.shape"
   ]
  },
  {
   "cell_type": "code",
   "execution_count": null,
   "id": "5fa66c0d-ee5b-4dc8-8068-79fb81c9df4d",
   "metadata": {},
   "outputs": [],
   "source": [
    "# https://stackoverflow.com/questions/73767559/geopandas-explore-how-to-plot-more-than-one-layer\n",
    "# Routes plotted with original geometry\n",
    "# Certain routes in here are clearly only in D4 yet their percentage is low...\n",
    "m = d4.explore(\n",
    "    color=\"#F4D837\",\n",
    "    tiles=\"CartoDB positron\",\n",
    "    name=\"D4\",\n",
    "    width=800,\n",
    "    height=500,\n",
    ")\n",
    "m = low_coverage_d4_og_geometry.explore(\n",
    "    m=m,\n",
    ")"
   ]
  },
  {
   "cell_type": "code",
   "execution_count": null,
   "id": "0a2ca9a7-c9cb-4d47-9d04-48b9c68b8103",
   "metadata": {},
   "outputs": [],
   "source": [
    "m"
   ]
  },
  {
   "cell_type": "markdown",
   "id": "f375cfb3-4324-46f8-8290-d8cd3858e3b8",
   "metadata": {},
   "source": [
    "### D4 Clip has routes that are different than the Clip_Test? How? \n"
   ]
  },
  {
   "cell_type": "code",
   "execution_count": null,
   "id": "81f87740-ba00-4552-8db4-6d88581f7279",
   "metadata": {},
   "outputs": [],
   "source": [
    "# check to see if 2 columns are the same\n",
    "d4_clip_routes_set = set(low_coverage_d4_list)\n",
    "low_percent_routes_set = set(low_percent_routes_list)"
   ]
  },
  {
   "cell_type": "code",
   "execution_count": null,
   "id": "2be13ae3-2111-4264-82c0-1b38db57a031",
   "metadata": {},
   "outputs": [],
   "source": [
    "d4_clip_routes_set - low_percent_routes_set"
   ]
  },
  {
   "cell_type": "code",
   "execution_count": null,
   "id": "73a70f71-1e2b-4a56-9a01-10175ae746bc",
   "metadata": {},
   "outputs": [],
   "source": [
    "def complete_clip_route_district() -> dg.GeoDataFrame:\n",
    "    \"\"\"\n",
    "    Find which routes fall 100% neatly in an district and\n",
    "    which cross district boundaries by each district.\n",
    "    Stack the seperated district results back together.\n",
    "    \"\"\"\n",
    "    # Load districts\n",
    "    district_df = A1_provider_prep.get_districts()\n",
    "\n",
    "    full_gdf = pd.DataFrame()\n",
    "\n",
    "    for i in [*range(1, 13, 1)]:\n",
    "        result = clip_route_district(district_df[district_df.district == i])\n",
    "\n",
    "        full_gdf = dd.multi.concat([full_gdf, result], axis=0)\n",
    "\n",
    "    full_gdf = full_gdf.compute()\n",
    "\n",
    "    return full_gdf"
   ]
  }
 ],
 "metadata": {
  "kernelspec": {
   "display_name": "Python 3 (ipykernel)",
   "language": "python",
   "name": "python3"
  },
  "language_info": {
   "codemirror_mode": {
    "name": "ipython",
    "version": 3
   },
   "file_extension": ".py",
   "mimetype": "text/x-python",
   "name": "python",
   "nbconvert_exporter": "python",
   "pygments_lexer": "ipython3",
   "version": "3.9.13"
  }
 },
 "nbformat": 4,
 "nbformat_minor": 5
}
