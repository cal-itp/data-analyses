{
 "cells": [
  {
   "cell_type": "markdown",
   "id": "7ac7e4bb-4882-4fc1-8243-f0d3ecbb1acd",
   "metadata": {},
   "source": [
    "## Find routes that cross multiple districts"
   ]
  },
  {
   "cell_type": "code",
   "execution_count": 26,
   "id": "10df2d78-ad52-4719-a987-a1995f711d4a",
   "metadata": {},
   "outputs": [],
   "source": [
    "import A1_provider_prep\n",
    "import A2_other\n",
    "import A3_analysis\n",
    "import dask.dataframe as dd\n",
    "import dask_geopandas as dg\n",
    "import geopandas as gpd\n",
    "import numpy as np\n",
    "import pandas as pd\n",
    "import shapely.wkt\n",
    "import shared_utils\n",
    "from calitp.sql import to_snakecase\n",
    "from shared_utils import geography_utils, utils"
   ]
  },
  {
   "cell_type": "code",
   "execution_count": 27,
   "id": "a094c38f-ca8d-465d-87db-ec4ead21d112",
   "metadata": {},
   "outputs": [],
   "source": [
    "pd.options.display.max_columns = 100\n",
    "pd.options.display.float_format = \"{:.2f}\".format\n",
    "pd.set_option(\"display.max_rows\", None)\n",
    "pd.set_option(\"display.max_colwidth\", None)"
   ]
  },
  {
   "cell_type": "code",
   "execution_count": 28,
   "id": "6d1a67ec-4cd4-4d1f-a835-e3007b1c66b7",
   "metadata": {},
   "outputs": [],
   "source": [
    "one_dist_routes, multi_dist_routes, all_routes = A2_other.find_multi_district_routes()"
   ]
  },
  {
   "cell_type": "code",
   "execution_count": 29,
   "id": "3745f6a5-e807-4193-94b8-4760ae2ddba4",
   "metadata": {},
   "outputs": [],
   "source": [
    "districts = A1_provider_prep.get_districts()"
   ]
  },
  {
   "cell_type": "code",
   "execution_count": 30,
   "id": "83eb9fb2-edf4-41d0-89a2-3696104ed546",
   "metadata": {},
   "outputs": [],
   "source": [
    "# districts.crs == unique_routes.crs"
   ]
  },
  {
   "cell_type": "code",
   "execution_count": 31,
   "id": "82340509-a073-4031-ab5a-4ef6ea16e9b2",
   "metadata": {},
   "outputs": [],
   "source": [
    "# type(districts), type(unique_routes)"
   ]
  },
  {
   "cell_type": "markdown",
   "id": "ebe3c054-6abc-4d48-8dc5-c949c0229059",
   "metadata": {},
   "source": [
    "### Sjoin - Test\n",
    "* Ended up using clip instead.\n",
    "* Place unique routes on the L because I want the routes that fall within each district.\n",
    "* Intersects only returns routes that are 100% in a district. Should I used something else (within,contains,etc)?\n",
    "* Sjoin does *not* change geometry."
   ]
  },
  {
   "cell_type": "code",
   "execution_count": 32,
   "id": "808bc884-a0f8-4105-82df-0bf6d53e9f09",
   "metadata": {},
   "outputs": [],
   "source": [
    "def sjoin_route_district(district_df: gpd.GeoDataFrame):\n",
    "    \"\"\"\n",
    "    Find which routes fall 100% neatly in an district and\n",
    "    which don't.\n",
    "    \"\"\"\n",
    "    unique_routes = A3_other.load_unique_routes_df()\n",
    "    sjoin = gpd.sjoin(\n",
    "        unique_routes, district_df, how=\"inner\", predicate=\"intersects\"\n",
    "    ).drop(columns=\"index_right\")\n",
    "\n",
    "    # Get route length after doing sjoin\n",
    "    sjoin = sjoin.assign(\n",
    "        sjoin_route_length=sjoin.geometry.to_crs(geography_utils.CA_StatePlane).length\n",
    "    )\n",
    "\n",
    "    # Get %\n",
    "    sjoin[\"route_percentage\"] = (\n",
    "        (sjoin[\"sjoin_route_length\"] / sjoin[\"original_route_length\"]) * 100\n",
    "    ).astype(\"int64\")\n",
    "\n",
    "    return sjoin"
   ]
  },
  {
   "cell_type": "code",
   "execution_count": 33,
   "id": "facf476e-c07a-4e7d-8540-2b93615cbed4",
   "metadata": {},
   "outputs": [],
   "source": [
    "def complete_sjoin_route_district() -> dg.GeoDataFrame:\n",
    "    \"\"\"\n",
    "    Find which routes fall 100% neatly in an district and\n",
    "    which cross district boundaries. Stack results altogether.\n",
    "    Filter out for routes that fall in mulitple districts.\n",
    "    \"\"\"\n",
    "    district_df = A1_provider_prep.get_districts()\n",
    "\n",
    "    full_gdf = pd.DataFrame()\n",
    "\n",
    "    for i in [*range(1, 13, 1)]:\n",
    "        result = sjoin_route_district(district_df[district_df.district == i])\n",
    "\n",
    "        full_gdf = dd.multi.concat([full_gdf, result], axis=0)\n",
    "\n",
    "    full_gdf = full_gdf.compute()\n",
    "\n",
    "    return full_gdf"
   ]
  },
  {
   "cell_type": "code",
   "execution_count": 34,
   "id": "43c20e56-7761-4215-b4f6-6cddfa5e8ab6",
   "metadata": {},
   "outputs": [],
   "source": [
    "# sjoin_test ="
   ]
  },
  {
   "cell_type": "markdown",
   "id": "8acd2820-ae0e-4661-b94f-5908a2ac1abb",
   "metadata": {},
   "source": [
    "#### Sjoin Testing w/ D4"
   ]
  },
  {
   "cell_type": "code",
   "execution_count": 35,
   "id": "725e02f0-075a-43e1-9db8-4c0992576a02",
   "metadata": {},
   "outputs": [],
   "source": [
    "# Subset to D4\n",
    "d4 = districts[districts.district == 4]"
   ]
  },
  {
   "cell_type": "code",
   "execution_count": 36,
   "id": "523a7796-be7c-4ded-ba4f-067cb0142d64",
   "metadata": {},
   "outputs": [],
   "source": [
    "# Sjoin\n",
    "# Should it be within? Gives me only routes that fall 100% in d4\n",
    "# d4_sjoin = gpd.sjoin(unique_routes, d4, how=\"inner\", predicate=\"intersects\").drop(\n",
    "#     columns=\"index_right\"\n",
    "# )"
   ]
  },
  {
   "cell_type": "code",
   "execution_count": 37,
   "id": "a07f22ad-fbd9-4202-98d1-49a48f102f8d",
   "metadata": {
    "scrolled": true,
    "tags": []
   },
   "outputs": [],
   "source": [
    "# d4_sjoin2.drop(columns = ['geometry']).sort_values(\"percentage_route_covered\")"
   ]
  },
  {
   "cell_type": "code",
   "execution_count": 38,
   "id": "dc6827ae-6d2a-4a99-9574-df96c0ff44cd",
   "metadata": {},
   "outputs": [],
   "source": [
    "# d4_sjoin.shape"
   ]
  },
  {
   "cell_type": "code",
   "execution_count": 39,
   "id": "35b5e625-232d-41c0-be64-28fe0d40158e",
   "metadata": {},
   "outputs": [],
   "source": [
    "# d4_sjoin.agency.value_counts()"
   ]
  },
  {
   "cell_type": "markdown",
   "id": "0ddd24c7-7ca6-4c0e-98b9-fc7e2a790250",
   "metadata": {},
   "source": [
    "### Clip\n",
    "* How can I keep district info? Or incorporate which district the route falls in?\n",
    "* Is unique routes and district in the right order, L and R?\n",
    "* How can there be routes that don't add up to even 90% after grouping by long route name??\n",
    "* A route must fall under ONE district completely?"
   ]
  },
  {
   "cell_type": "code",
   "execution_count": 40,
   "id": "5750d4ab-9900-4677-b1b3-ce0cfdd25b66",
   "metadata": {},
   "outputs": [],
   "source": [
    "# 9:50 am -  9:52 took less than a minute\n",
    "# clip_test = A2_other.complete_clip_route_district()"
   ]
  },
  {
   "cell_type": "code",
   "execution_count": 41,
   "id": "b81df0e6-0a3f-4156-a68c-bfa745811028",
   "metadata": {},
   "outputs": [],
   "source": [
    "# 5:16\n",
    "routes_in_1d, routes_in_2plus_d, all_routes =  A2_other.find_multi_district_routes()"
   ]
  },
  {
   "cell_type": "code",
   "execution_count": 42,
   "id": "cb4af616-0c95-4ef5-b701-a0df828db1a6",
   "metadata": {},
   "outputs": [
    {
     "data": {
      "text/html": [
       "<div>\n",
       "<style scoped>\n",
       "    .dataframe tbody tr th:only-of-type {\n",
       "        vertical-align: middle;\n",
       "    }\n",
       "\n",
       "    .dataframe tbody tr th {\n",
       "        vertical-align: top;\n",
       "    }\n",
       "\n",
       "    .dataframe thead th {\n",
       "        text-align: right;\n",
       "    }\n",
       "</style>\n",
       "<table border=\"1\" class=\"dataframe\">\n",
       "  <thead>\n",
       "    <tr style=\"text-align: right;\">\n",
       "      <th></th>\n",
       "      <th>itp_id</th>\n",
       "      <th>route_id</th>\n",
       "      <th>route_name</th>\n",
       "      <th>agency</th>\n",
       "      <th>original_route_length</th>\n",
       "      <th>long_route_name</th>\n",
       "      <th>clipped_route_length</th>\n",
       "      <th>route_percentage</th>\n",
       "      <th>District</th>\n",
       "    </tr>\n",
       "  </thead>\n",
       "  <tbody>\n",
       "    <tr>\n",
       "      <th>2399</th>\n",
       "      <td>284</td>\n",
       "      <td>580</td>\n",
       "      <td>DTC - SECTION/ORO</td>\n",
       "      <td>San Joaquin Regional Transit District</td>\n",
       "      <td>30489.83</td>\n",
       "      <td>DTC - SECTION/ORO 580  San Joaquin Regional Transit District</td>\n",
       "      <td>30489.83</td>\n",
       "      <td>100</td>\n",
       "      <td>D-10</td>\n",
       "    </tr>\n",
       "  </tbody>\n",
       "</table>\n",
       "</div>"
      ],
      "text/plain": [
       "      itp_id route_id         route_name  \\\n",
       "2399     284      580  DTC - SECTION/ORO   \n",
       "\n",
       "                                     agency  original_route_length  \\\n",
       "2399  San Joaquin Regional Transit District               30489.83   \n",
       "\n",
       "                                                   long_route_name  \\\n",
       "2399  DTC - SECTION/ORO 580  San Joaquin Regional Transit District   \n",
       "\n",
       "      clipped_route_length  route_percentage District  \n",
       "2399              30489.83               100     D-10  "
      ]
     },
     "execution_count": 42,
     "metadata": {},
     "output_type": "execute_result"
    }
   ],
   "source": [
    "routes_in_1d.drop(columns = [\"geometry\"]).sample()\n"
   ]
  },
  {
   "cell_type": "code",
   "execution_count": 43,
   "id": "8733e10a-94e9-45f9-8cf8-4330b6be3df6",
   "metadata": {
    "scrolled": true,
    "tags": []
   },
   "outputs": [],
   "source": [
    "# routes_in_2plus_d.drop(columns = [\"geometry\"]).sort_values(\"long_route_name\")"
   ]
  },
  {
   "cell_type": "code",
   "execution_count": 44,
   "id": "e67553d4-77ef-4a78-94d0-245ec63021d0",
   "metadata": {},
   "outputs": [],
   "source": [
    "# How are there more routes now?\n",
    "# Original unique routes only has 2829 rows, now there are  2914 rows\n",
    "# Only 2821 unique long route names here but original unique routes has 2829 unique routes\n",
    "# clip_test.shape, clip_test.long_route_name.nunique()"
   ]
  },
  {
   "cell_type": "code",
   "execution_count": 45,
   "id": "75412fb1-f668-44ab-bce0-346aa1fc1913",
   "metadata": {},
   "outputs": [],
   "source": [
    "# 85 more rows\n",
    "# len(clip_test) - len(unique_routes)"
   ]
  },
  {
   "cell_type": "code",
   "execution_count": 46,
   "id": "4f2d3586-1196-485e-9934-e827007e99b8",
   "metadata": {},
   "outputs": [],
   "source": [
    "# 8 routes different, unique_routes have some routes that go to Arizona\n",
    "# clip_routes_list = set(clip_test.long_route_name.unique().tolist())\n",
    "# unique_routes_list = set(unique_routes.long_route_name.unique().tolist())"
   ]
  },
  {
   "cell_type": "code",
   "execution_count": 47,
   "id": "fb6fb7b0-4e4e-4b2d-9a11-a0207cb8d607",
   "metadata": {},
   "outputs": [],
   "source": [
    "# unique_routes_list - clip_routes_list"
   ]
  },
  {
   "cell_type": "code",
   "execution_count": 48,
   "id": "0570daf0-19ef-460e-9c61-dd9791084259",
   "metadata": {},
   "outputs": [],
   "source": [
    "# Find routes that have 1+ rows\n",
    "# Having 1+ row would mean this route goes across 1+ district"
   ]
  },
  {
   "cell_type": "code",
   "execution_count": 49,
   "id": "1237cc9b-2e2d-4c64-b585-43d2296e1db0",
   "metadata": {},
   "outputs": [],
   "source": [
    "# 10:21am, 10:23\n",
    "# one_district_routes, multi_district_routes, all_routes = A3_other.find_multi_district_routes()"
   ]
  },
  {
   "cell_type": "code",
   "execution_count": 50,
   "id": "14c60cd1-f9aa-461a-a310-2d38e8b65c0f",
   "metadata": {},
   "outputs": [
    {
     "ename": "NameError",
     "evalue": "name 'one_district_routes' is not defined",
     "output_type": "error",
     "traceback": [
      "\u001b[0;31m---------------------------------------------------------------------------\u001b[0m",
      "\u001b[0;31mNameError\u001b[0m                                 Traceback (most recent call last)",
      "Cell \u001b[0;32mIn[50], line 1\u001b[0m\n\u001b[0;32m----> 1\u001b[0m \u001b[38;5;28mlen\u001b[39m(\u001b[43mone_district_routes\u001b[49m) \u001b[38;5;241m+\u001b[39m \u001b[38;5;28mlen\u001b[39m(multi_district_routes) \u001b[38;5;241m==\u001b[39m \u001b[38;5;28mlen\u001b[39m(all_routes)\n",
      "\u001b[0;31mNameError\u001b[0m: name 'one_district_routes' is not defined"
     ]
    }
   ],
   "source": [
    "len(one_district_routes) + len(multi_district_routes) == len(all_routes)"
   ]
  },
  {
   "cell_type": "code",
   "execution_count": null,
   "id": "115901e1-cb73-4d45-a633-296bd219e23b",
   "metadata": {},
   "outputs": [],
   "source": [
    "multi_district_routes.long_route_name.nunique()"
   ]
  },
  {
   "cell_type": "code",
   "execution_count": null,
   "id": "f3986413-2f1b-47f1-b1c5-4e87e9daffe6",
   "metadata": {
    "scrolled": true,
    "tags": []
   },
   "outputs": [],
   "source": [
    "# multi_district_routes.drop(columns = [\"geometry\"]).sort_values(\"long_route_name\")"
   ]
  },
  {
   "cell_type": "code",
   "execution_count": null,
   "id": "b08e78df-0542-42f0-b8fb-8941ef9380e7",
   "metadata": {},
   "outputs": [],
   "source": [
    "# df2.groupby([\"long_route_name\"]).agg({'route_percentage':'sum'})"
   ]
  },
  {
   "cell_type": "code",
   "execution_count": null,
   "id": "c940d1fb-31aa-4fd1-8065-c8f080c5aebe",
   "metadata": {},
   "outputs": [],
   "source": [
    "# value_counts_d4 = value_counts_df(clip_test, 'long_route_name')"
   ]
  },
  {
   "cell_type": "code",
   "execution_count": null,
   "id": "8bde0342-7cc4-4841-99e3-2d33cf5bc76a",
   "metadata": {},
   "outputs": [],
   "source": [
    "# value_counts_d4.sort_values('total', ascending = False)"
   ]
  },
  {
   "cell_type": "code",
   "execution_count": null,
   "id": "dfaa228a-2dab-408e-b50c-9cf6955c8c23",
   "metadata": {},
   "outputs": [],
   "source": [
    "# Find routes w/ 1+ row\n",
    "# routes_with_2_plus = (value_counts_d4[value_counts_d4.total > 1])[['long_route_name']]\n",
    "\n",
    "# Place routes into a list\n",
    "# routes_with_2_plus_list = routes_with_2_plus.long_route_name.tolist()"
   ]
  },
  {
   "cell_type": "code",
   "execution_count": null,
   "id": "ee786b16-81f7-4858-a30e-a91b2f758c73",
   "metadata": {},
   "outputs": [],
   "source": [
    "# len(routes_with_2_plus_list)"
   ]
  },
  {
   "cell_type": "code",
   "execution_count": null,
   "id": "6a6a71f3-479f-4349-a723-8474272315b2",
   "metadata": {},
   "outputs": [],
   "source": [
    "# Filter out for these routes \n",
    "# routes_in_2_districts_clipped = clip_test[clip_test.long_route_name.isin(routes_with_2_plus_list)]"
   ]
  },
  {
   "cell_type": "code",
   "execution_count": null,
   "id": "99e1ebbe-bdf7-4d06-893b-2dc31c720367",
   "metadata": {},
   "outputs": [],
   "source": [
    "# routes_in_1_district_clipped = clip_test[~clip_test.long_route_name.isin(routes_with_2_plus_list)]"
   ]
  },
  {
   "cell_type": "code",
   "execution_count": null,
   "id": "a9f655d9-6aa4-4a5f-b9be-3129c2ece68f",
   "metadata": {},
   "outputs": [],
   "source": [
    "# len(routes_in_1_district_clipped) + len(routes_in_2_districts_clipped) == len(clip_test)"
   ]
  },
  {
   "cell_type": "code",
   "execution_count": null,
   "id": "c327e2ee-1686-4114-8289-10bbbfde47f7",
   "metadata": {},
   "outputs": [],
   "source": [
    "# Filter out for these routes \n",
    "# routes_in_2_districts_original = unique_routes[unique_routes.long_route_name.isin(routes_with_2_plus_list)]"
   ]
  },
  {
   "cell_type": "code",
   "execution_count": null,
   "id": "3e960f0e-ce03-45eb-b7f9-7e003dd9f06e",
   "metadata": {},
   "outputs": [],
   "source": [
    "n = districts.explore(\n",
    "    \"district\",\n",
    "    tiles = \"CartoDB positron\",\n",
    "    cmap = \"Blues\",\n",
    "    name=\"districts\",\n",
    "    width=800,\n",
    "    height=400,\n",
    ")\n",
    "\n",
    "# Clipped geometry\n",
    "n = multi_district_routes.explore(\"long_route_name\",\n",
    "    m=n, legend = False\n",
    ")\n",
    "\n",
    "# Clipped, altered geometry\n",
    "#n = routes_in_2_districts_clipped.explore(\n",
    "   # m=n, color = \"red\", style_kwds = {'opacity': 0.5, 'weight':3})"
   ]
  },
  {
   "cell_type": "code",
   "execution_count": null,
   "id": "40a913d8-2709-4f13-80f3-614a691c7164",
   "metadata": {},
   "outputs": [],
   "source": [
    "# n"
   ]
  },
  {
   "cell_type": "markdown",
   "id": "053b4d5f-7975-491d-be5f-e2892e12b2d5",
   "metadata": {},
   "source": [
    "#### Clip Testing w/ D4"
   ]
  },
  {
   "cell_type": "code",
   "execution_count": null,
   "id": "063a18b8-01ef-4fdc-bd50-ffad8f0ea84a",
   "metadata": {},
   "outputs": [],
   "source": [
    "# Try with clip instead\n",
    "d4_clip = gpd.clip(unique_routes, d4)"
   ]
  },
  {
   "cell_type": "code",
   "execution_count": null,
   "id": "f8022438-4f02-4d6a-a217-1e2675164d0d",
   "metadata": {},
   "outputs": [],
   "source": [
    "d4_clip2 = d4_clip.assign(\n",
    "    clip_route_length=d4_clip.geometry.to_crs(geography_utils.CA_StatePlane).length\n",
    ")"
   ]
  },
  {
   "cell_type": "code",
   "execution_count": null,
   "id": "58b8f113-03e4-49f9-99da-1e1936d49a21",
   "metadata": {},
   "outputs": [],
   "source": [
    "# Get %\n",
    "d4_clip2[\"route_percentage\"] = (\n",
    "    (d4_clip2[\"clip_route_length\"] / d4_clip2[\"original_route_length\"]) * 100\n",
    ").astype(\"int64\")"
   ]
  },
  {
   "cell_type": "code",
   "execution_count": null,
   "id": "2b5aaf3f-75c8-4852-bc45-5b3060d6fdf7",
   "metadata": {},
   "outputs": [],
   "source": [
    "d4_clip2.shape"
   ]
  },
  {
   "cell_type": "code",
   "execution_count": null,
   "id": "13b9aae8-8eed-4825-bb84-27dc4de35b48",
   "metadata": {},
   "outputs": [],
   "source": [
    "# d4_clip2.route_percentage.value_counts()"
   ]
  },
  {
   "cell_type": "code",
   "execution_count": null,
   "id": "1d9340dc-ce84-463a-8e95-a7bb4bc68eb1",
   "metadata": {},
   "outputs": [],
   "source": [
    "# Filter for only routes that have whatever percent in D4\n",
    "low_coverage_d4 = d4_clip2.loc[d4_clip2.route_percentage < 85].sort_values(\n",
    "    \"route_percentage\"\n",
    ")"
   ]
  },
  {
   "cell_type": "code",
   "execution_count": null,
   "id": "a617fcdc-e140-43ae-b1cf-8eb9023e674c",
   "metadata": {},
   "outputs": [],
   "source": [
    "# Grab routes that is 85% or less of original route length into a list\n",
    "low_coverage_d4_list = low_coverage_d4.long_route_name.unique().tolist()"
   ]
  },
  {
   "cell_type": "code",
   "execution_count": null,
   "id": "065288c8-f613-4490-932b-99abe651733e",
   "metadata": {},
   "outputs": [],
   "source": [
    "# Filter out for the routes above in original unique_routes\n",
    "# So I can map original route geometries\n",
    "low_coverage_d4_og_geometry = (\n",
    "    unique_routes[unique_routes[\"long_route_name\"].isin(low_coverage_d4_list)]\n",
    ").reset_index(drop=True)"
   ]
  },
  {
   "cell_type": "code",
   "execution_count": null,
   "id": "ce5201a4-7d32-4258-99d2-dd6c0f5f02a6",
   "metadata": {},
   "outputs": [],
   "source": [
    "low_coverage_d4_og_geometry.shape"
   ]
  },
  {
   "cell_type": "code",
   "execution_count": null,
   "id": "5fa66c0d-ee5b-4dc8-8068-79fb81c9df4d",
   "metadata": {},
   "outputs": [],
   "source": [
    "# https://stackoverflow.com/questions/73767559/geopandas-explore-how-to-plot-more-than-one-layer\n",
    "# Routes plotted with original geometry\n",
    "# Certain routes in here are clearly only in D4 yet their percentage is low...\n",
    "m = d4.explore(\n",
    "    color=\"#F4D837\",\n",
    "    tiles=\"CartoDB positron\",\n",
    "    name=\"D4\",\n",
    "    width=800,\n",
    "    height=500,\n",
    ")\n",
    "\n",
    "# Route: original length\n",
    "m = low_coverage_d4_og_geometry.explore(\n",
    "    m=m,\n",
    ")\n",
    "\n",
    "# Route: clipped length\n",
    "m = low_coverage_d4.explore(\n",
    "    m=m, color = \"red\", style_kwds = {'opacity': 0.5, 'weight':3})"
   ]
  },
  {
   "cell_type": "code",
   "execution_count": null,
   "id": "0a2ca9a7-c9cb-4d47-9d04-48b9c68b8103",
   "metadata": {},
   "outputs": [],
   "source": [
    "m"
   ]
  },
  {
   "cell_type": "code",
   "execution_count": null,
   "id": "81f87740-ba00-4552-8db4-6d88581f7279",
   "metadata": {},
   "outputs": [],
   "source": [
    "# check to see if 2 columns are the same\n",
    "# d4_clip_routes_set = set(low_coverage_d4_list)\n",
    "# low_percent_routes_set = set(low_percent_routes_list)"
   ]
  },
  {
   "cell_type": "code",
   "execution_count": null,
   "id": "2be13ae3-2111-4264-82c0-1b38db57a031",
   "metadata": {},
   "outputs": [],
   "source": [
    "# d4_clip_routes_set - low_percent_routes_set"
   ]
  },
  {
   "cell_type": "code",
   "execution_count": null,
   "id": "41e9d0b6-a125-4120-9649-ff2849ef4303",
   "metadata": {},
   "outputs": [],
   "source": [
    "# Check some of the routes that are found in d4 test versus clip_test\n",
    "# How is CC RIder 231 now 95% in a certain district?\n",
    "# clip_test.drop(columns = [\"geometry\"])[clip_test.long_route_name == 'CC Rider 231  Mendocino Transit Authority']"
   ]
  },
  {
   "cell_type": "code",
   "execution_count": null,
   "id": "bc0f9786-b706-496a-a188-e2262a444f52",
   "metadata": {},
   "outputs": [],
   "source": [
    "# d4_clip2.drop(columns = [\"geometry\"])[d4_clip2.long_route_name == 'CC Rider 231  Mendocino Transit Authority']"
   ]
  },
  {
   "cell_type": "code",
   "execution_count": null,
   "id": "a4360f19-0c57-40ac-a6ed-0067be870184",
   "metadata": {},
   "outputs": [],
   "source": [
    "# clip_test.drop(columns = [\"geometry\"])[clip_test.long_route_name == 'South Coast / Santa Rosa 224  Mendocino Transit Authority']"
   ]
  },
  {
   "cell_type": "code",
   "execution_count": null,
   "id": "c3d598ca-bb92-4cee-9c82-06541f71ac17",
   "metadata": {},
   "outputs": [],
   "source": [
    "# Check routes with test d4\n",
    "# d4_clip2.drop(columns = [\"geometry\"])[d4_clip2.long_route_name == 'South Coast / Santa Rosa 224  Mendocino Transit Authority']"
   ]
  },
  {
   "cell_type": "markdown",
   "id": "3a7579e8-9781-48e7-a8c4-777e19c3e1e5",
   "metadata": {},
   "source": [
    "### Scratch Area"
   ]
  },
  {
   "cell_type": "code",
   "execution_count": null,
   "id": "1641c8cd-5712-4366-8f66-8e222f7c42df",
   "metadata": {},
   "outputs": [],
   "source": [
    "def clip_route_district():\n",
    "    \"\"\"\n",
    "    Find which routes fall 100% neatly in an district and\n",
    "    which cross district boundaries by each district.\n",
    "    Stack the seperated district results back together.\n",
    "    \"\"\"\n",
    "    # Load unique routes & districts\n",
    "    unique_routes = A3_other.load_unique_routes_df()\n",
    "    district_df = A1_provider_prep.get_districts()\n",
    "    \n",
    "    # Clip routes against a district\n",
    "    clipped = gpd.clip(unique_routes, district_df)\n",
    "\n",
    "    # Get route length after doing clip\n",
    "    clipped = clipped.assign(\n",
    "        clipped_route_length=clipped.geometry.to_crs(\n",
    "            geography_utils.CA_StatePlane\n",
    "        ).length\n",
    "    )\n",
    "\n",
    "    # Get %\n",
    "    clipped[\"route_percentage\"] = (\n",
    "        (clipped[\"clipped_route_length\"] / clipped[\"original_route_length\"]) * 100\n",
    "    ).astype(\"int64\")\n",
    "\n",
    "    return clipped"
   ]
  },
  {
   "cell_type": "code",
   "execution_count": null,
   "id": "d40b18cd-8d91-4dcc-9f58-980ec8648cfe",
   "metadata": {},
   "outputs": [],
   "source": [
    "# clip_d1_d4 = complete_clip_route_district()"
   ]
  }
 ],
 "metadata": {
  "kernelspec": {
   "display_name": "Python 3 (ipykernel)",
   "language": "python",
   "name": "python3"
  },
  "language_info": {
   "codemirror_mode": {
    "name": "ipython",
    "version": 3
   },
   "file_extension": ".py",
   "mimetype": "text/x-python",
   "name": "python",
   "nbconvert_exporter": "python",
   "pygments_lexer": "ipython3",
   "version": "3.9.13"
  }
 },
 "nbformat": 4,
 "nbformat_minor": 5
}
