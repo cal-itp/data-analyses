{
 "cells": [
  {
   "cell_type": "code",
   "execution_count": 2,
   "id": "6b0b0a9e-b5fa-4185-8d4d-95ec36581340",
   "metadata": {},
   "outputs": [
    {
     "name": "stderr",
     "output_type": "stream",
     "text": [
      "/opt/conda/lib/python3.9/site-packages/geopandas/_compat.py:123: UserWarning: The Shapely GEOS version (3.10.3-CAPI-1.16.1) is incompatible with the GEOS version PyGEOS was compiled with (3.10.1-CAPI-1.16.0). Conversions between both will be slow.\n"
     ]
    }
   ],
   "source": [
    "import A1_provider_prep\n",
    "import A2_other\n",
    "import A3_analysis\n",
    "import geopandas as gpd\n",
    "import pandas as pd\n",
    "from calitp.sql import to_snakecase\n",
    "from shared_utils import geography_utils, utils"
   ]
  },
  {
   "cell_type": "code",
   "execution_count": 9,
   "id": "985d32a2-b86f-42c4-ac81-c79a8ef3d532",
   "metadata": {},
   "outputs": [],
   "source": [
    "pd.options.display.max_columns = 100\n",
    "pd.options.display.float_format = \"{:.2f}\".format\n",
    "pd.set_option(\"display.max_rows\", None)\n",
    "pd.set_option(\"display.max_colwidth\", None)"
   ]
  },
  {
   "cell_type": "code",
   "execution_count": 3,
   "id": "d2510cd9-d750-4302-94c6-de2fb56f82e1",
   "metadata": {},
   "outputs": [],
   "source": [
    " # Load in trips \n",
    "trips = A2_other.trip_df()\n",
    "    "
   ]
  },
  {
   "cell_type": "code",
   "execution_count": 4,
   "id": "965503d9-dbe0-4542-95e1-0332f6e0530f",
   "metadata": {},
   "outputs": [
    {
     "data": {
      "text/plain": [
       "22.0"
      ]
     },
     "execution_count": 4,
     "metadata": {},
     "output_type": "execute_result"
    }
   ],
   "source": [
    "trips.total_trips_by_route.median()"
   ]
  },
  {
   "cell_type": "code",
   "execution_count": 6,
   "id": "6ed65e6d-1ceb-4685-80ad-8eb16e9e730f",
   "metadata": {},
   "outputs": [
    {
     "data": {
      "text/plain": [
       "682.0"
      ]
     },
     "execution_count": 6,
     "metadata": {},
     "output_type": "execute_result"
    }
   ],
   "source": [
    "trips.total_trips_by_agency.median()"
   ]
  },
  {
   "cell_type": "code",
   "execution_count": 7,
   "id": "284c9a27-6e67-423b-9868-c2a547fff7ac",
   "metadata": {},
   "outputs": [],
   "source": [
    "# Divide the total of trips for this particular low coverage route\n",
    "    # by the total trips the agency run among all its routes on that particular day\n",
    "trips[\"percentage_of_trips_w_low_cell_service\"] = (\n",
    "trips[\"total_trips_by_route\"] / trips[\"total_trips_by_agency\"])\n",
    "    "
   ]
  },
  {
   "cell_type": "code",
   "execution_count": 11,
   "id": "6129eb79-056c-42f3-92d5-7cf44c913b94",
   "metadata": {},
   "outputs": [
    {
     "data": {
      "text/html": [
       "<div>\n",
       "<style scoped>\n",
       "    .dataframe tbody tr th:only-of-type {\n",
       "        vertical-align: middle;\n",
       "    }\n",
       "\n",
       "    .dataframe tbody tr th {\n",
       "        vertical-align: top;\n",
       "    }\n",
       "\n",
       "    .dataframe thead th {\n",
       "        text-align: right;\n",
       "    }\n",
       "</style>\n",
       "<table border=\"1\" class=\"dataframe\">\n",
       "  <thead>\n",
       "    <tr style=\"text-align: right;\">\n",
       "      <th></th>\n",
       "      <th>calitp_itp_id</th>\n",
       "      <th>route_id</th>\n",
       "      <th>total_trips_by_route</th>\n",
       "      <th>total_trips_by_agency</th>\n",
       "      <th>percentage_of_trips_w_low_cell_service</th>\n",
       "    </tr>\n",
       "  </thead>\n",
       "  <tbody>\n",
       "    <tr>\n",
       "      <th>1389</th>\n",
       "      <td>208</td>\n",
       "      <td>061</td>\n",
       "      <td>12</td>\n",
       "      <td>636</td>\n",
       "      <td>0.02</td>\n",
       "    </tr>\n",
       "    <tr>\n",
       "      <th>1617</th>\n",
       "      <td>235</td>\n",
       "      <td>543</td>\n",
       "      <td>68</td>\n",
       "      <td>3174</td>\n",
       "      <td>0.02</td>\n",
       "    </tr>\n",
       "    <tr>\n",
       "      <th>1035</th>\n",
       "      <td>177</td>\n",
       "      <td>13054</td>\n",
       "      <td>49</td>\n",
       "      <td>501</td>\n",
       "      <td>0.10</td>\n",
       "    </tr>\n",
       "    <tr>\n",
       "      <th>2378</th>\n",
       "      <td>294</td>\n",
       "      <td>831</td>\n",
       "      <td>3</td>\n",
       "      <td>3666</td>\n",
       "      <td>0.00</td>\n",
       "    </tr>\n",
       "    <tr>\n",
       "      <th>2836</th>\n",
       "      <td>368</td>\n",
       "      <td>2706</td>\n",
       "      <td>12</td>\n",
       "      <td>555</td>\n",
       "      <td>0.02</td>\n",
       "    </tr>\n",
       "  </tbody>\n",
       "</table>\n",
       "</div>"
      ],
      "text/plain": [
       "      calitp_itp_id route_id  total_trips_by_route  total_trips_by_agency  \\\n",
       "1389            208      061                    12                    636   \n",
       "1617            235      543                    68                   3174   \n",
       "1035            177    13054                    49                    501   \n",
       "2378            294      831                     3                   3666   \n",
       "2836            368     2706                    12                    555   \n",
       "\n",
       "      percentage_of_trips_w_low_cell_service  \n",
       "1389                                    0.02  \n",
       "1617                                    0.02  \n",
       "1035                                    0.10  \n",
       "2378                                    0.00  \n",
       "2836                                    0.02  "
      ]
     },
     "execution_count": 11,
     "metadata": {},
     "output_type": "execute_result"
    }
   ],
   "source": [
    "trips.sample(5)"
   ]
  },
  {
   "cell_type": "code",
   "execution_count": 12,
   "id": "2236f846-8eae-40db-af0a-37741dbea0bd",
   "metadata": {},
   "outputs": [],
   "source": [
    "ntd = A2_other.ntd_vehicles()"
   ]
  },
  {
   "cell_type": "code",
   "execution_count": 13,
   "id": "cc2caee0-8605-4afb-9ced-7523ceb090c5",
   "metadata": {},
   "outputs": [
    {
     "data": {
      "text/plain": [
       "218"
      ]
     },
     "execution_count": 13,
     "metadata": {},
     "output_type": "execute_result"
    }
   ],
   "source": [
    "len(ntd)"
   ]
  },
  {
   "cell_type": "code",
   "execution_count": 15,
   "id": "e1c8fb56-3be4-4f16-a7d3-b7c2b0437109",
   "metadata": {},
   "outputs": [
    {
     "data": {
      "text/plain": [
       "17.0"
      ]
     },
     "execution_count": 15,
     "metadata": {},
     "output_type": "execute_result"
    }
   ],
   "source": [
    "ntd.total_buses.median()"
   ]
  },
  {
   "cell_type": "code",
   "execution_count": 24,
   "id": "8672f88e-7b3a-4676-88ff-8276bd51ffaa",
   "metadata": {},
   "outputs": [
    {
     "data": {
      "text/plain": [
       "count    218.00\n",
       "mean      87.42\n",
       "std      273.98\n",
       "min        1.00\n",
       "25%        6.00\n",
       "50%       17.00\n",
       "75%       56.75\n",
       "max     3313.00\n",
       "Name: total_buses, dtype: float64"
      ]
     },
     "execution_count": 24,
     "metadata": {},
     "output_type": "execute_result"
    }
   ],
   "source": [
    "ntd.total_buses.describe()"
   ]
  },
  {
   "cell_type": "code",
   "execution_count": 17,
   "id": "17afa987-ed0d-437b-9915-faabd84a730f",
   "metadata": {},
   "outputs": [
    {
     "data": {
      "text/html": [
       "<div>\n",
       "<style scoped>\n",
       "    .dataframe tbody tr th:only-of-type {\n",
       "        vertical-align: middle;\n",
       "    }\n",
       "\n",
       "    .dataframe tbody tr th {\n",
       "        vertical-align: top;\n",
       "    }\n",
       "\n",
       "    .dataframe thead th {\n",
       "        text-align: right;\n",
       "    }\n",
       "</style>\n",
       "<table border=\"1\" class=\"dataframe\">\n",
       "  <thead>\n",
       "    <tr style=\"text-align: right;\">\n",
       "      <th></th>\n",
       "      <th>agency</th>\n",
       "      <th>state</th>\n",
       "      <th>bus</th>\n",
       "      <th>over_the_road_bus</th>\n",
       "      <th>articulated_bus</th>\n",
       "      <th>double_decker_bus</th>\n",
       "      <th>school_bus</th>\n",
       "      <th>van</th>\n",
       "      <th>cutaway</th>\n",
       "      <th>minivan</th>\n",
       "      <th>total_buses</th>\n",
       "    </tr>\n",
       "  </thead>\n",
       "  <tbody>\n",
       "    <tr>\n",
       "      <th>1867</th>\n",
       "      <td>Trinity Transit</td>\n",
       "      <td>CA</td>\n",
       "      <td>0</td>\n",
       "      <td>0</td>\n",
       "      <td>0</td>\n",
       "      <td>0</td>\n",
       "      <td>0</td>\n",
       "      <td>0</td>\n",
       "      <td>6</td>\n",
       "      <td>1</td>\n",
       "      <td>7</td>\n",
       "    </tr>\n",
       "  </tbody>\n",
       "</table>\n",
       "</div>"
      ],
      "text/plain": [
       "               agency state  bus  over_the_road_bus  articulated_bus  \\\n",
       "1867  Trinity Transit    CA    0                  0                0   \n",
       "\n",
       "      double_decker_bus  school_bus  van  cutaway  minivan  total_buses  \n",
       "1867                  0           0    0        6        1            7  "
      ]
     },
     "execution_count": 17,
     "metadata": {},
     "output_type": "execute_result"
    }
   ],
   "source": [
    "ntd.loc[ntd.agency == \"Trinity Transit\"]"
   ]
  },
  {
   "cell_type": "code",
   "execution_count": 14,
   "id": "58b76a1c-1070-452d-8c35-6af3bf8819f4",
   "metadata": {},
   "outputs": [
    {
     "data": {
      "text/html": [
       "<div>\n",
       "<style scoped>\n",
       "    .dataframe tbody tr th:only-of-type {\n",
       "        vertical-align: middle;\n",
       "    }\n",
       "\n",
       "    .dataframe tbody tr th {\n",
       "        vertical-align: top;\n",
       "    }\n",
       "\n",
       "    .dataframe thead th {\n",
       "        text-align: right;\n",
       "    }\n",
       "</style>\n",
       "<table border=\"1\" class=\"dataframe\">\n",
       "  <thead>\n",
       "    <tr style=\"text-align: right;\">\n",
       "      <th></th>\n",
       "      <th>agency</th>\n",
       "      <th>state</th>\n",
       "      <th>bus</th>\n",
       "      <th>over_the_road_bus</th>\n",
       "      <th>articulated_bus</th>\n",
       "      <th>double_decker_bus</th>\n",
       "      <th>school_bus</th>\n",
       "      <th>van</th>\n",
       "      <th>cutaway</th>\n",
       "      <th>minivan</th>\n",
       "      <th>total_buses</th>\n",
       "    </tr>\n",
       "  </thead>\n",
       "  <tbody>\n",
       "    <tr>\n",
       "      <th>400</th>\n",
       "      <td>Butte County Association of Governments</td>\n",
       "      <td>CA</td>\n",
       "      <td>29</td>\n",
       "      <td>0</td>\n",
       "      <td>0</td>\n",
       "      <td>0</td>\n",
       "      <td>0</td>\n",
       "      <td>0</td>\n",
       "      <td>24</td>\n",
       "      <td>0</td>\n",
       "      <td>53</td>\n",
       "    </tr>\n",
       "    <tr>\n",
       "      <th>1858</th>\n",
       "      <td>City of Davis</td>\n",
       "      <td>CA</td>\n",
       "      <td>0</td>\n",
       "      <td>0</td>\n",
       "      <td>0</td>\n",
       "      <td>0</td>\n",
       "      <td>0</td>\n",
       "      <td>0</td>\n",
       "      <td>5</td>\n",
       "      <td>0</td>\n",
       "      <td>5</td>\n",
       "    </tr>\n",
       "    <tr>\n",
       "      <th>1052</th>\n",
       "      <td>City of Commerce</td>\n",
       "      <td>CA</td>\n",
       "      <td>14</td>\n",
       "      <td>0</td>\n",
       "      <td>0</td>\n",
       "      <td>0</td>\n",
       "      <td>0</td>\n",
       "      <td>0</td>\n",
       "      <td>7</td>\n",
       "      <td>0</td>\n",
       "      <td>21</td>\n",
       "    </tr>\n",
       "    <tr>\n",
       "      <th>116</th>\n",
       "      <td>City of Santa Monica</td>\n",
       "      <td>CA</td>\n",
       "      <td>161</td>\n",
       "      <td>0</td>\n",
       "      <td>28</td>\n",
       "      <td>0</td>\n",
       "      <td>0</td>\n",
       "      <td>1</td>\n",
       "      <td>6</td>\n",
       "      <td>0</td>\n",
       "      <td>196</td>\n",
       "    </tr>\n",
       "    <tr>\n",
       "      <th>1860</th>\n",
       "      <td>City of Bellflower</td>\n",
       "      <td>CA</td>\n",
       "      <td>1</td>\n",
       "      <td>0</td>\n",
       "      <td>0</td>\n",
       "      <td>0</td>\n",
       "      <td>0</td>\n",
       "      <td>0</td>\n",
       "      <td>9</td>\n",
       "      <td>0</td>\n",
       "      <td>10</td>\n",
       "    </tr>\n",
       "  </tbody>\n",
       "</table>\n",
       "</div>"
      ],
      "text/plain": [
       "                                       agency state  bus  over_the_road_bus  \\\n",
       "400   Butte County Association of Governments    CA   29                  0   \n",
       "1858                            City of Davis    CA    0                  0   \n",
       "1052                         City of Commerce    CA   14                  0   \n",
       "116                      City of Santa Monica    CA  161                  0   \n",
       "1860                       City of Bellflower    CA    1                  0   \n",
       "\n",
       "      articulated_bus  double_decker_bus  school_bus  van  cutaway  minivan  \\\n",
       "400                 0                  0           0    0       24        0   \n",
       "1858                0                  0           0    0        5        0   \n",
       "1052                0                  0           0    0        7        0   \n",
       "116                28                  0           0    1        6        0   \n",
       "1860                0                  0           0    0        9        0   \n",
       "\n",
       "      total_buses  \n",
       "400            53  \n",
       "1858            5  \n",
       "1052           21  \n",
       "116           196  \n",
       "1860           10  "
      ]
     },
     "execution_count": 14,
     "metadata": {},
     "output_type": "execute_result"
    }
   ],
   "source": [
    "ntd.sample(5)"
   ]
  },
  {
   "cell_type": "code",
   "execution_count": 30,
   "id": "a788864b-e62c-43ea-992e-04d184492fb0",
   "metadata": {},
   "outputs": [
    {
     "data": {
      "text/html": [
       "<div>\n",
       "<style scoped>\n",
       "    .dataframe tbody tr th:only-of-type {\n",
       "        vertical-align: middle;\n",
       "    }\n",
       "\n",
       "    .dataframe tbody tr th {\n",
       "        vertical-align: top;\n",
       "    }\n",
       "\n",
       "    .dataframe thead th {\n",
       "        text-align: right;\n",
       "    }\n",
       "</style>\n",
       "<table border=\"1\" class=\"dataframe\">\n",
       "  <thead>\n",
       "    <tr style=\"text-align: right;\">\n",
       "      <th></th>\n",
       "      <th>agency</th>\n",
       "      <th>state</th>\n",
       "      <th>bus</th>\n",
       "      <th>over_the_road_bus</th>\n",
       "      <th>articulated_bus</th>\n",
       "      <th>double_decker_bus</th>\n",
       "      <th>school_bus</th>\n",
       "      <th>van</th>\n",
       "      <th>cutaway</th>\n",
       "      <th>minivan</th>\n",
       "      <th>total_buses</th>\n",
       "    </tr>\n",
       "  </thead>\n",
       "  <tbody>\n",
       "    <tr>\n",
       "      <th>13</th>\n",
       "      <td>Orange County Transportation Authority</td>\n",
       "      <td>CA</td>\n",
       "      <td>399</td>\n",
       "      <td>0</td>\n",
       "      <td>36</td>\n",
       "      <td>0</td>\n",
       "      <td>0</td>\n",
       "      <td>268</td>\n",
       "      <td>272</td>\n",
       "      <td>59</td>\n",
       "      <td>1034</td>\n",
       "    </tr>\n",
       "  </tbody>\n",
       "</table>\n",
       "</div>"
      ],
      "text/plain": [
       "                                    agency state  bus  over_the_road_bus  \\\n",
       "13  Orange County Transportation Authority    CA  399                  0   \n",
       "\n",
       "    articulated_bus  double_decker_bus  school_bus  van  cutaway  minivan  \\\n",
       "13               36                  0           0  268      272       59   \n",
       "\n",
       "    total_buses  \n",
       "13         1034  "
      ]
     },
     "execution_count": 30,
     "metadata": {},
     "output_type": "execute_result"
    }
   ],
   "source": [
    "ntd.loc[ntd.total_buses == 1034]"
   ]
  },
  {
   "cell_type": "code",
   "execution_count": 18,
   "id": "69fef1ef-23ae-44de-9929-c490dd4c318b",
   "metadata": {},
   "outputs": [],
   "source": [
    "final = A3_analysis.final_merge(A3_analysis.merge_all_providers())"
   ]
  },
  {
   "cell_type": "code",
   "execution_count": 20,
   "id": "28ac5793-6504-40b7-8ba3-c9d87a063429",
   "metadata": {},
   "outputs": [],
   "source": [
    "m1 = pd.merge(\n",
    "    final,\n",
    "    ntd,\n",
    "    how=\"left\",\n",
    "    left_on=\"Agency\",\n",
    "    right_on = \"agency\",\n",
    "    indicator=True,)"
   ]
  },
  {
   "cell_type": "code",
   "execution_count": 23,
   "id": "a90df72e-ca1d-43f5-851d-44a5519b967e",
   "metadata": {},
   "outputs": [
    {
     "data": {
      "text/plain": [
       "295.0"
      ]
     },
     "execution_count": 23,
     "metadata": {},
     "output_type": "execute_result"
    }
   ],
   "source": [
    "m1.total_buses.median()"
   ]
  },
  {
   "cell_type": "code",
   "execution_count": 25,
   "id": "66305143-9227-460b-b5e9-cdaea7696a29",
   "metadata": {},
   "outputs": [
    {
     "data": {
      "text/plain": [
       "count   1372.00\n",
       "mean     380.94\n",
       "std      339.93\n",
       "min        1.00\n",
       "25%       59.00\n",
       "50%      295.00\n",
       "75%      762.00\n",
       "max     1034.00\n",
       "Name: total_buses, dtype: float64"
      ]
     },
     "execution_count": 25,
     "metadata": {},
     "output_type": "execute_result"
    }
   ],
   "source": [
    "m1.total_buses.describe()"
   ]
  },
  {
   "cell_type": "code",
   "execution_count": 31,
   "id": "367b87f3-4c9d-4201-9b51-c911f58ed999",
   "metadata": {},
   "outputs": [],
   "source": [
    "# m1.loc[m1.total_buses == 1034].drop(columns = \"Geometry\")"
   ]
  },
  {
   "cell_type": "code",
   "execution_count": 26,
   "id": "81ab3790-05c7-4f36-bcc1-512cd3d88008",
   "metadata": {},
   "outputs": [],
   "source": [
    "# m1.loc[m1.Agency == \"Capitol Corridor\"].drop(columns = \"Geometry\")"
   ]
  }
 ],
 "metadata": {
  "kernelspec": {
   "display_name": "Python 3 (ipykernel)",
   "language": "python",
   "name": "python3"
  },
  "language_info": {
   "codemirror_mode": {
    "name": "ipython",
    "version": 3
   },
   "file_extension": ".py",
   "mimetype": "text/x-python",
   "name": "python",
   "nbconvert_exporter": "python",
   "pygments_lexer": "ipython3",
   "version": "3.9.13"
  }
 },
 "nbformat": 4,
 "nbformat_minor": 5
}
