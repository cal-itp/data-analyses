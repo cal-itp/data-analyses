{
 "cells": [
  {
   "cell_type": "markdown",
   "id": "46bec8cd-32d3-4675-bdb8-3fcbc1e3dbd1",
   "metadata": {},
   "source": [
    "# Debug Tmobile sjoin + overlay\n",
    "\n",
    "`overlay` is taking a long time, but since there's a dissolve, it's basically 1 row for T-Mobile compared to 1 row for the district boundary. Might be able to treat them as GeoSeries and see if it can go through faster.\n",
    "\n",
    "`difference` can also take multiple rows for T-Mobile compared to 1 row for district boundary. In this case, the dissolve for where there's no coverage for T-Mobile should take place after the difference is taken.\n",
    "\n",
    "* `difference`: https://geopandas.org/en/stable/docs/reference/api/geopandas.GeoSeries.difference.html\n"
   ]
  },
  {
   "cell_type": "code",
   "execution_count": 2,
   "id": "2c79dbf5-7579-409a-943b-e4fd6e16060f",
   "metadata": {},
   "outputs": [
    {
     "name": "stderr",
     "output_type": "stream",
     "text": [
      "/opt/conda/lib/python3.9/site-packages/geopandas/_compat.py:123: UserWarning: The Shapely GEOS version (3.10.3-CAPI-1.16.1) is incompatible with the GEOS version PyGEOS was compiled with (3.10.1-CAPI-1.16.0). Conversions between both will be slow.\n",
      "  warnings.warn(\n"
     ]
    }
   ],
   "source": [
    "import dask.dataframe as dd\n",
    "import dask_geopandas as dg\n",
    "import geopandas as gpd\n",
    "import pandas as pd\n",
    "from shared_utils import geography_utils\n",
    "from shared_utils import utils\n",
    "\n",
    "from calitp.sql import to_snakecase\n",
    "import utilities"
   ]
  },
  {
   "cell_type": "code",
   "execution_count": 4,
   "id": "3d5dff0b-cad0-4412-89a7-2034e1210481",
   "metadata": {},
   "outputs": [],
   "source": [
    "# Original map - includes other stuff that isn't California\n",
    "# tmobile = dg.read_parquet(\n",
    "   # \"gs://calitp-analytics-data/data-analyses/cellular_coverage/tmobile_california.parquet\"\n",
    "# )"
   ]
  },
  {
   "cell_type": "code",
   "execution_count": 5,
   "id": "5dc79a8b-43fc-4d34-ba39-eaa475da662b",
   "metadata": {},
   "outputs": [],
   "source": [
    "verizon = dg.read_parquet(\"Verizon.parquet\")"
   ]
  },
  {
   "cell_type": "code",
   "execution_count": 7,
   "id": "f5cf20bd-6ce6-48ba-82cd-07004f805fc0",
   "metadata": {},
   "outputs": [],
   "source": [
    "att = dg.read_parquet(\"ATT.parquet\")"
   ]
  },
  {
   "cell_type": "markdown",
   "id": "588f0aba-3e3c-488b-8cb4-cd439a9231ad",
   "metadata": {},
   "source": [
    "#### Sjoin  for T-Mobile by Districts\n",
    "* Do a sjoin to only grab rows of T-Mobile's gdf that overlap with Caltrans districts before `find difference and clip`.\n",
    "* Counties didn't seem to work, that's why I went with districts.\n",
    "* Done: Results are split between 3 parquets.\n",
    "    * `gs://calitp-analytics-data/data-analyses/cellular_coverage/tmobile_d1_d4.parquet` \n",
    "    * `gs://calitp-analytics-data/data-analyses/cellular_coverage/tmobile_d5_d8.parquet`\n",
    "    * `gs://calitp-analytics-data/data-analyses/cellular_coverage/tmobile_d9_d12.parquet`\n",
    "    \n",
    "\n",
    "* Took about 3 minutes to finish running."
   ]
  },
  {
   "cell_type": "markdown",
   "id": "f9c581bd-9fcd-4963-80e7-2dc0809b3f98",
   "metadata": {
    "tags": []
   },
   "source": [
    "#### iloc function district"
   ]
  },
  {
   "cell_type": "code",
   "execution_count": 3,
   "id": "9dd54da3-558a-45f0-903b-76e89cd5c9e9",
   "metadata": {},
   "outputs": [],
   "source": [
    "# Read in original CT map\n",
    "ct_all_districts = to_snakecase(\n",
    "        gpd.read_file(f\"{utilities.caltrans_shape}\").to_crs(epsg=4326)\n",
    "    )[[\"district\", \"geometry\"]]\n",
    "    "
   ]
  },
  {
   "cell_type": "code",
   "execution_count": null,
   "id": "4f39e8ca-8dbb-4709-9fc1-e8295f300e88",
   "metadata": {},
   "outputs": [],
   "source": [
    "def get_districts():\n",
    "    df = to_snakecase(\n",
    "        gpd.read_file(f\"{caltrans_shape}\").to_crs(epsg=4326)\n",
    "    )[[\"district\", \"geometry\"]]\n",
    "    return df"
   ]
  },
  {
   "cell_type": "code",
   "execution_count": 8,
   "id": "52df209a-04b5-4cb0-bc8a-8a0b1df7ae33",
   "metadata": {},
   "outputs": [],
   "source": [
    "def iloc_find_difference_district(\n",
    "    provider_df: dg.GeoDataFrame, \n",
    "    district_df: gpd.GeoDataFrame,\n",
    "    provider_name: str,\n",
    ") -> dg.GeoDataFrame:\n",
    "    \n",
    "    # Clip provider to CT district\n",
    "    provider_district = dg.sjoin(\n",
    "        provider_df, \n",
    "        district_df, \n",
    "        how=\"inner\", \n",
    "        predicate=\"intersects\"\n",
    "    ).drop(columns = \"index_right\")\n",
    "    \n",
    "    # Compute back to normal gdf\n",
    "    provider_district = provider_district.compute()\n",
    "    \n",
    "    # Stash intermediate output here \n",
    "    d = provider_district.district.iloc[0]\n",
    "    utils.geoparquet_gcs_export(provider_district, utilities.GCS_FILE_PATH, f\"{provider_name}_d{d}\")\n",
    "    print(f\"saved {provider_name}_d{d} parquet\") \n",
    "    \n",
    "    # Get areas without coverage\n",
    "    no_coverage = provider_district.difference(\n",
    "        district_df.geometry.iloc[0], \n",
    "    ).reset_index()\n",
    "    \n",
    "    # Turn to gdf\n",
    "    no_coverage = (no_coverage.reset_index()\n",
    "                  .dissolve()\n",
    "                  .rename(columns = {0: 'geometry'})\n",
    "                  [[\"geometry\"]]\n",
    "                 )\n",
    "    # Set geometry\n",
    "    no_coverage = no_coverage.set_geometry('geometry')\n",
    "    \n",
    "    utils.geoparquet_gcs_export(no_coverage, utilities.GCS_FILE_PATH, f\"{provider_name}_no_coverage_d{d}\")\n",
    "    \n",
    "    print(f\"{provider_name}_no_coverage_d{d} parquet\")\n",
    "    \n",
    "    return no_coverage"
   ]
  },
  {
   "cell_type": "code",
   "execution_count": 9,
   "id": "c4cc31dc-192d-4391-9db6-8b027a8219a6",
   "metadata": {},
   "outputs": [],
   "source": [
    "def complete_difference_provider_district_level(\n",
    "    provider_df: dg.GeoDataFrame, \n",
    "    district_df: gpd.GeoDataFrame,\n",
    "    provider_name: str) -> dg.GeoDataFrame:\n",
    "    \n",
    "    full_gdf = pd.DataFrame()\n",
    "    \n",
    "    for i in [*range(1, 13, 1)]:\n",
    "        result = iloc_find_difference(\n",
    "            provider_df, \n",
    "            district_df[district_df.district==i],\n",
    "            provider_name\n",
    "        )\n",
    "\n",
    "        full_gdf = dd.multi.concat([full_gdf, result], axis=0)\n",
    "    \n",
    "    full_gdf = full_gdf.compute()\n",
    "    \n",
    "    utils.geoparquet_gcs_export(full_gdf, utilities.GCS_FILE_PATH, f\"{provider_name}_no_coverage_complete_CA\")\n",
    "    return full_gdf"
   ]
  },
  {
   "cell_type": "markdown",
   "id": "df7cbfbb-8fe1-474a-9129-b402319116f6",
   "metadata": {},
   "source": [
    "#### iloc function county"
   ]
  },
  {
   "cell_type": "code",
   "execution_count": 18,
   "id": "7b3b76eb-b919-4dae-b645-3bba3d268fec",
   "metadata": {},
   "outputs": [],
   "source": [
    "def iloc_find_difference_county(\n",
    "    provider_df: dg.GeoDataFrame, \n",
    "    county_df: gpd.GeoDataFrame,\n",
    "    provider_name: str,\n",
    ") -> dg.GeoDataFrame:\n",
    "    \n",
    "    # Clip provider to CT district\n",
    "    provider_county = dg.sjoin(\n",
    "        provider_df, \n",
    "        county_df, \n",
    "        how=\"inner\", \n",
    "        predicate=\"intersects\"\n",
    "    ).drop(columns = \"index_right\")\n",
    "    \n",
    "    # Compute back to normal gdf\n",
    "    provider_county = provider_county.compute()\n",
    "    \n",
    "    # Stash intermediate output here \n",
    "    c = provider_county.county_name.iloc[0]\n",
    "    # utils.geoparquet_gcs_export(provider_district, utilities.GCS_FILE_PATH, f\"{provider_name}_{c}\")\n",
    "    # print(f\"saved {provider_name}_{c} parquet\") \n",
    "    \n",
    "    # Get areas without coverage\n",
    "    no_coverage = provider_county.difference(\n",
    "        county_df.geometry.iloc[0], \n",
    "    ).reset_index()\n",
    "    \n",
    "    # Turn to gdf\n",
    "    no_coverage = (no_coverage.reset_index()\n",
    "                  .dissolve()\n",
    "                  .rename(columns = {0: 'geometry'})\n",
    "                  [[\"geometry\"]]\n",
    "                 )\n",
    "    # Set geometry\n",
    "    no_coverage = no_coverage.set_geometry('geometry')\n",
    "    \n",
    "    # utils.geoparquet_gcs_export(no_coverage, utilities.GCS_FILE_PATH, f\"{provider_name}_no_coverage_{c}\")\n",
    "    # print(f\"{provider_name}_no_coverage_{c} parquet\")\n",
    "    \n",
    "    return no_coverage"
   ]
  },
  {
   "cell_type": "code",
   "execution_count": 11,
   "id": "fcaa6625-48bf-49fb-87de-edcf79de049f",
   "metadata": {},
   "outputs": [],
   "source": [
    "counties = utilities.get_counties()"
   ]
  },
  {
   "cell_type": "code",
   "execution_count": null,
   "id": "55d8f8a2-cbd6-4bef-ba90-705ff29acdcd",
   "metadata": {},
   "outputs": [],
   "source": [
    "def complete_difference_provider_county_level(\n",
    "    provider_df: dg.GeoDataFrame, \n",
    "    county_df: gpd.GeoDataFrame,\n",
    "    provider_name: str) -> dg.GeoDataFrame:\n",
    "    \n",
    "    full_gdf = pd.DataFrame()\n",
    "    \n",
    "    for i in [*range(1, 13, 1)]:\n",
    "        result = iloc_find_difference(\n",
    "            provider_df, \n",
    "            county_df[county_df.county_name==i],\n",
    "            provider_name\n",
    "        )\n",
    "\n",
    "        full_gdf = dd.multi.concat([full_gdf, result], axis=0)\n",
    "    \n",
    "    full_gdf = full_gdf.compute()\n",
    "    \n",
    "    utils.geoparquet_gcs_export(full_gdf, utilities.GCS_FILE_PATH, f\"{provider_name}_no_coverage_complete_CA\")\n",
    "    return full_gdf"
   ]
  },
  {
   "cell_type": "code",
   "execution_count": 19,
   "id": "83160dbc-de12-4548-85dd-6f49efb5f483",
   "metadata": {},
   "outputs": [
    {
     "name": "stdout",
     "output_type": "stream",
     "text": [
      "verizon_no_coverage_Los Angeles parquet\n"
     ]
    }
   ],
   "source": [
    "test = iloc_find_difference_county(verizon, counties[counties.county_name== \"Los Angeles\"], 'verizon')"
   ]
  },
  {
   "cell_type": "markdown",
   "id": "4d028feb-6ab1-4ce4-b1d8-b63d159b31e1",
   "metadata": {},
   "source": [
    "#### iloc testing"
   ]
  },
  {
   "cell_type": "code",
   "execution_count": null,
   "id": "ed252af5-8c58-4e9e-8677-187bfdee1734",
   "metadata": {},
   "outputs": [],
   "source": [
    "# For files that are split apart by counties/districts\n",
    "# That needs to be combined together to create a full California map\n",
    "# https://www.geeksforgeeks.org/how-to-read-multiple-data-files-into-pandas/\n",
    "def concat_all_areas(file_list:list, provider_name:str):\n",
    "    main_dataframe = pd.DataFrame(gpd.read_parquet(file_list[0]))\n",
    "    for i in range(1,len(file_list)):\n",
    "        data = pd.gpd.read_parquet(file_list[i])\n",
    "        df = pd.DataFrame(data)\n",
    "        full_dataframe = dd.multi.concat([full_dataframe,df],axis=1)\n",
    "        \n",
    "    full_dataframe = full_dataframe.compute()\n",
    "    \n",
    "    utils.geoparquet_gcs_export(full_gdf, utilities.GCS_FILE_PATH, f\"{provider_name}_no_coverage_complete_CA\")\n",
    "    return full_dataframe"
   ]
  },
  {
   "cell_type": "code",
   "execution_count": null,
   "id": "89e68d95-7610-4aa4-b7c7-14d5a6a987e7",
   "metadata": {},
   "outputs": [],
   "source": [
    "test_tmobile = gpd.read_parquet(\n",
    "    \"gs://calitp-analytics-data/data-analyses/cellular_coverage/tmobile_no_coverage_complete_CA.parquet\"\n",
    ")"
   ]
  },
  {
   "cell_type": "code",
   "execution_count": null,
   "id": "d7bc59f0-4737-4bd1-af04-92509b729e69",
   "metadata": {},
   "outputs": [],
   "source": [
    "test_tmobile.plot()"
   ]
  },
  {
   "cell_type": "code",
   "execution_count": null,
   "id": "6810864f-246c-4e2b-abfc-5fa95a0925b4",
   "metadata": {},
   "outputs": [],
   "source": [
    "# Blue parts are areas with coverage in D5. \n",
    "\"\"\"\n",
    "tmobile_district = dg.sjoin(\n",
    "    tmobile[[\"geometry\"]], \n",
    "    ct_all_districts[ct_all_districts.district==5],\n",
    "    how=\"inner\", \n",
    "    predicate=\"intersects\"\n",
    ").drop(columns = \"index_right\")\"\"\""
   ]
  },
  {
   "cell_type": "code",
   "execution_count": null,
   "id": "dea7ae8a-5083-40b0-a97d-afbb509ba4a2",
   "metadata": {},
   "outputs": [],
   "source": [
    "tmobile_d5 = tmobile_district.compute()"
   ]
  },
  {
   "cell_type": "code",
   "execution_count": null,
   "id": "2a88454b-499b-4b88-87cb-b1463a41d74b",
   "metadata": {},
   "outputs": [],
   "source": [
    "len(tmobile_d5)"
   ]
  },
  {
   "cell_type": "code",
   "execution_count": null,
   "id": "2c5e176e-8c01-4331-aa0b-d121e3ad0806",
   "metadata": {},
   "outputs": [],
   "source": [
    "tmobile_d5.head(1)"
   ]
  },
  {
   "cell_type": "code",
   "execution_count": null,
   "id": "35e36373-9ada-4c7c-96a6-47d9ef720f63",
   "metadata": {},
   "outputs": [],
   "source": [
    "type(tmobile_d5)"
   ]
  },
  {
   "cell_type": "code",
   "execution_count": null,
   "id": "41194cdf-8878-48bc-855f-ea11dd57b7b8",
   "metadata": {},
   "outputs": [],
   "source": [
    "# Getting areas without coverage in D2. \n",
    "#no_coverage = tmobile_d5.difference(\n",
    "  #      ct_all_districts[ct_all_districts.district==5].geometry.iloc[0], \n",
    "   # ).reset_index()"
   ]
  },
  {
   "cell_type": "code",
   "execution_count": null,
   "id": "22e0ba6a-43cc-4e6d-8032-87aa4945ceca",
   "metadata": {},
   "outputs": [],
   "source": [
    "# This line grabs the actual polygon \n",
    "# ct_all_districts[ct_all_districts.district==2].geometry.iloc[0]"
   ]
  },
  {
   "cell_type": "code",
   "execution_count": null,
   "id": "b7ac4c11-fc70-4d8d-92fb-b4b62ef609a0",
   "metadata": {},
   "outputs": [],
   "source": [
    "no_coverage_d5 = (no_coverage.reset_index()\n",
    "                  .dissolve()\n",
    "                  .rename(columns = {0: 'geometry'})\n",
    "                  [[\"geometry\"]]\n",
    "                 )"
   ]
  },
  {
   "cell_type": "code",
   "execution_count": null,
   "id": "fbe29e6f-64fc-4035-a4fd-74188ce108fe",
   "metadata": {},
   "outputs": [],
   "source": [
    "no_coverage_d5 = no_coverage_d5.set_geometry('geometry')"
   ]
  },
  {
   "cell_type": "code",
   "execution_count": null,
   "id": "a8765ae8-646c-4905-ba18-7dc0c99f8c48",
   "metadata": {},
   "outputs": [],
   "source": [
    "type(no_coverage_d5), no_coverage_d5.columns"
   ]
  },
  {
   "cell_type": "code",
   "execution_count": null,
   "id": "1ec1c906-97a6-4afe-a17c-f15a767b69b7",
   "metadata": {},
   "outputs": [],
   "source": [
    "utils.geoparquet_gcs_export(no_coverage_d5, utilities.GCS_FILE_PATH, f\"test_d5\")"
   ]
  },
  {
   "cell_type": "code",
   "execution_count": null,
   "id": "dbbf5d89-85f2-4011-bf23-2878e5f30a0f",
   "metadata": {},
   "outputs": [],
   "source": [
    "test_d5 = gpd.read_parquet(\n",
    "    \"gs://calitp-analytics-data/data-analyses/cellular_coverage/test_d5.parquet\"\n",
    ")"
   ]
  },
  {
   "cell_type": "code",
   "execution_count": null,
   "id": "d1aa75b6-2614-4d1b-b83a-8c04332e9bbc",
   "metadata": {},
   "outputs": [],
   "source": [
    "type(test_d5)"
   ]
  },
  {
   "cell_type": "code",
   "execution_count": null,
   "id": "18163cf5-3916-410c-b807-bc3259d92fae",
   "metadata": {},
   "outputs": [],
   "source": [
    "test_d5.plot()"
   ]
  },
  {
   "cell_type": "markdown",
   "id": "cbd0f7cb-46cd-403c-8582-1ba5677716af",
   "metadata": {},
   "source": [
    "#### Break apart dissolve"
   ]
  },
  {
   "cell_type": "code",
   "execution_count": null,
   "id": "3fca4b86-7bfc-40fd-87e2-4376400870e3",
   "metadata": {},
   "outputs": [],
   "source": [
    "ct_d5  = (ct_all_districts[ct_all_districts.district==5]"
   ]
  },
  {
   "cell_type": "code",
   "execution_count": null,
   "id": "2717e732-f1dc-4471-b796-25b64d9b7da9",
   "metadata": {},
   "outputs": [],
   "source": [
    "ct_d5"
   ]
  },
  {
   "cell_type": "code",
   "execution_count": null,
   "id": "bf47734f-1b51-4657-9503-8792d0932979",
   "metadata": {},
   "outputs": [],
   "source": [
    "ct_all_districts[ct_all_districts.district==5]"
   ]
  },
  {
   "cell_type": "code",
   "execution_count": null,
   "id": "56ad6bfb-f4da-4dcd-85a0-a08d2169e490",
   "metadata": {},
   "outputs": [],
   "source": [
    "ct_d5.plot()"
   ]
  },
  {
   "cell_type": "code",
   "execution_count": null,
   "id": "8f61d054-0626-414a-bdc8-7dc4827bfcaa",
   "metadata": {},
   "outputs": [],
   "source": [
    "tmobile_district = dg.sjoin(\n",
    "        tmobile[['geometry']], \n",
    "        ct_d5, \n",
    "        how=\"inner\", \n",
    "        predicate=\"intersects\"\n",
    "    )"
   ]
  },
  {
   "cell_type": "code",
   "execution_count": null,
   "id": "0283903b-22a3-4e3a-a1c7-890f53747539",
   "metadata": {},
   "outputs": [],
   "source": [
    "tmobile_district_gdf = tmobile_district.compute()"
   ]
  },
  {
   "cell_type": "code",
   "execution_count": null,
   "id": "51b66eed-1999-43cc-8cc7-75ac8286ebb1",
   "metadata": {},
   "outputs": [],
   "source": [
    "len(tmobile_district_gdf)"
   ]
  },
  {
   "cell_type": "code",
   "execution_count": null,
   "id": "a36799ba-d626-43d4-9a62-84fc7bb3102d",
   "metadata": {},
   "outputs": [],
   "source": [
    "tmobile_district_gdf.head(1)"
   ]
  },
  {
   "cell_type": "code",
   "execution_count": null,
   "id": "56e05404-4ac3-4516-9c9b-a5f3e6c3fcf9",
   "metadata": {},
   "outputs": [],
   "source": [
    "\"\"\"\n",
    "tmobile_5 = (tmobile_district.drop(columns = \"index_right\").dissolve(by=\"district\")\n",
    "                    .reset_index()\n",
    "                    .compute()\n",
    "                   )\"\"\""
   ]
  },
  {
   "cell_type": "code",
   "execution_count": null,
   "id": "3773ef54-50c4-41cd-90fa-6fc0d8b514d7",
   "metadata": {},
   "outputs": [],
   "source": [
    "len(tmobile_5)"
   ]
  },
  {
   "cell_type": "code",
   "execution_count": null,
   "id": "2cd5e1f8-2c7d-45e8-9233-05696b941e99",
   "metadata": {},
   "outputs": [],
   "source": [
    "district_file = tmobile_5.district.iloc[0]"
   ]
  },
  {
   "cell_type": "code",
   "execution_count": null,
   "id": "60f97f90-3dcf-4b63-b20c-a2487def3429",
   "metadata": {},
   "outputs": [],
   "source": [
    "district_file"
   ]
  },
  {
   "cell_type": "code",
   "execution_count": null,
   "id": "9e87f328-924f-4079-8a53-a5d960a2ec1a",
   "metadata": {},
   "outputs": [],
   "source": [
    "tmobile_5"
   ]
  },
  {
   "cell_type": "code",
   "execution_count": null,
   "id": "eb77bf69-0e86-4f87-a42f-bdf9cc4ee2df",
   "metadata": {},
   "outputs": [],
   "source": [
    "# utils.geoparquet_gcs_export(tmobile_5, utilities.GCS_FILE_PATH,f\"tmobile_d{district_file}.parquet\")"
   ]
  },
  {
   "cell_type": "code",
   "execution_count": null,
   "id": "9e062167-8472-4095-a46d-e64fed9093cd",
   "metadata": {},
   "outputs": [],
   "source": [
    "tmobile_align_true = (tmobile_5.difference(\n",
    "            (ct_all_districts[ct_all_districts.district==5]).reset_index(), \n",
    "            align=True\n",
    "        ).reset_index()\n",
    "        .rename(columns = {0: 'geometry'})\n",
    "    )   "
   ]
  },
  {
   "cell_type": "code",
   "execution_count": null,
   "id": "f095e910-5d15-4584-80c1-510bfd6c13b7",
   "metadata": {},
   "outputs": [],
   "source": [
    "type(tmobile_align_true)"
   ]
  },
  {
   "cell_type": "code",
   "execution_count": null,
   "id": "8f2fc1e4-d258-4d38-84fd-0b382ea0f231",
   "metadata": {},
   "outputs": [],
   "source": [
    "tmobile_align_true = tmobile_align_true.set_geometry('geometry')"
   ]
  },
  {
   "cell_type": "code",
   "execution_count": null,
   "id": "3e5a6dbd-e9f4-45de-b0f2-15f26dc17206",
   "metadata": {
    "tags": []
   },
   "outputs": [],
   "source": [
    "# I get an error when plotting /opt/conda/lib/python3.9/site-packages/geopandas/array.py:938: RuntimeWarning: All-NaN slice encountered\n",
    "tmobile_align_true.plot()"
   ]
  },
  {
   "cell_type": "code",
   "execution_count": null,
   "id": "a761b764-1f0c-4d53-8056-4501c3ff7a1d",
   "metadata": {},
   "outputs": [],
   "source": [
    "def sjoin_to_district_find_difference(\n",
    "    tmobile: dg.GeoDataFrame, \n",
    "    district_df: gpd.GeoDataFrame\n",
    ") -> dg.GeoDataFrame:\n",
    "    tmobile_district = dg.sjoin(\n",
    "        tmobile, \n",
    "        district_df, \n",
    "        how=\"inner\", \n",
    "        predicate=\"intersects\"\n",
    "    ).drop(columns = \"index_right\")\n",
    "    \n",
    "    # Dissolve so that it's just 1 row for TMobile coverage in that district\n",
    "    tmobile_diss = (tmobile_district.dissolve(by=\"district\")\n",
    "                    .reset_index()\n",
    "                    .compute()\n",
    "                   )\n",
    "    \n",
    "    # Maybe stash intermediate output here?\n",
    "    d = district_df.district.iloc[0]\n",
    "    tmobile_diss.to_parquet(f\"tmobile_d{d}.parquet\")\n",
    "    \n",
    "    # Instead of gpd.overlay(), since tmobile_diss is 1 row and \n",
    "    # district_df is 1 row,\n",
    "    # can treat them as GeoSeries, align=True, to do row-wise comparison\n",
    "    no_coverage = (tmobile_diss.difference(\n",
    "            ct_all_districts[ct_all_districts.district==i], \n",
    "            align=True\n",
    "        ).reset_index()\n",
    "        .rename(columns = {0: 'geometry'})\n",
    "    )   \n",
    "    \n",
    "    no_coverage.to_parquet(f\"no_coverage_d{d}.parquet\")\n",
    "    \n",
    "    return no_coverage"
   ]
  },
  {
   "cell_type": "code",
   "execution_count": null,
   "id": "7c64d883-3777-4f68-8027-ff03d4faae08",
   "metadata": {},
   "outputs": [],
   "source": [
    "results = []\n",
    "\n",
    "for i in [1]:\n",
    "    dissolved_result = sjoin_to_district_find_difference(\n",
    "        tmobile[[\"geometry\"]], \n",
    "        ct_all_districts[ct_all_districts.district==i]\n",
    "    )\n",
    "    \n",
    "    results.append(dissolved_result)"
   ]
  },
  {
   "cell_type": "code",
   "execution_count": null,
   "id": "41153c06-71be-4d1c-9d79-7a5e012f40bf",
   "metadata": {},
   "outputs": [],
   "source": [
    "ddf = dd.multi.concat(results, axis=0)"
   ]
  },
  {
   "cell_type": "code",
   "execution_count": null,
   "id": "2281b2b7-bc9a-4ca0-ba3e-dd81f888bcb8",
   "metadata": {},
   "outputs": [],
   "source": [
    "df = ddf.compute()"
   ]
  }
 ],
 "metadata": {
  "kernelspec": {
   "display_name": "Python 3 (ipykernel)",
   "language": "python",
   "name": "python3"
  },
  "language_info": {
   "codemirror_mode": {
    "name": "ipython",
    "version": 3
   },
   "file_extension": ".py",
   "mimetype": "text/x-python",
   "name": "python",
   "nbconvert_exporter": "python",
   "pygments_lexer": "ipython3",
   "version": "3.9.13"
  }
 },
 "nbformat": 4,
 "nbformat_minor": 5
}
