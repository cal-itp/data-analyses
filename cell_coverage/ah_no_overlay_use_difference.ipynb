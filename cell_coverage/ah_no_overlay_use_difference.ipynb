{
 "cells": [
  {
   "cell_type": "markdown",
   "id": "46bec8cd-32d3-4675-bdb8-3fcbc1e3dbd1",
   "metadata": {},
   "source": [
    "# Debug Tmobile sjoin + overlay\n",
    "\n",
    "`overlay` is taking a long time, but since there's a dissolve, it's basically 1 row for T-Mobile compared to 1 row for the district boundary. Might be able to treat them as GeoSeries and see if it can go through faster.\n",
    "\n",
    "`difference` can also take multiple rows for T-Mobile compared to 1 row for district boundary. In this case, the dissolve for where there's no coverage for T-Mobile should take place after the difference is taken.\n",
    "\n",
    "* `difference`: https://geopandas.org/en/stable/docs/reference/api/geopandas.GeoSeries.difference.html\n"
   ]
  },
  {
   "cell_type": "code",
   "execution_count": null,
   "id": "2c79dbf5-7579-409a-943b-e4fd6e16060f",
   "metadata": {},
   "outputs": [],
   "source": [
    "import dask.dataframe as dd\n",
    "import dask_geopandas as dg\n",
    "import geopandas as gpd\n",
    "import pandas as pd\n",
    "from shared_utils import geography_utils\n",
    "from shared_utils import utils\n",
    "\n",
    "from calitp.sql import to_snakecase\n",
    "import utilities"
   ]
  },
  {
   "cell_type": "code",
   "execution_count": null,
   "id": "5a0b44c0-4f11-4651-8fc4-fc052c7ad7e8",
   "metadata": {},
   "outputs": [],
   "source": [
    "counties = utilities.get_counties()\n",
    "\n",
    "# Read in original CT map\n",
    "ct_all_districts = to_snakecase(\n",
    "        gpd.read_file(f\"{utilities.caltrans_shape}\").to_crs(epsg=4326)\n",
    "    )[[\"district\", \"geometry\"]]\n",
    "    "
   ]
  },
  {
   "cell_type": "markdown",
   "id": "588f0aba-3e3c-488b-8cb4-cd439a9231ad",
   "metadata": {},
   "source": [
    "##### Sjoin  for T-Mobile by Districts\n",
    "* Do a sjoin to only grab rows of T-Mobile's gdf that overlap with Caltrans districts before `find difference and clip`.\n",
    "* Counties didn't seem to work, that's why I went with districts.\n",
    "* Done: Results are split between 3 parquets.\n",
    "    * `gs://calitp-analytics-data/data-analyses/cellular_coverage/tmobile_d1_d4.parquet` \n",
    "    * `gs://calitp-analytics-data/data-analyses/cellular_coverage/tmobile_d5_d8.parquet`\n",
    "    * `gs://calitp-analytics-data/data-analyses/cellular_coverage/tmobile_d9_d12.parquet`\n",
    "    \n",
    "\n",
    "* Took about 3 minutes to finish running."
   ]
  },
  {
   "cell_type": "code",
   "execution_count": null,
   "id": "3d5dff0b-cad0-4412-89a7-2034e1210481",
   "metadata": {},
   "outputs": [],
   "source": [
    "# Original map - includes other stuff that isn't California\n",
    "tmobile = dg.read_parquet(\n",
    "    \"gs://calitp-analytics-data/data-analyses/cellular_coverage/tmobile_california.parquet\"\n",
    ")"
   ]
  },
  {
   "cell_type": "code",
   "execution_count": null,
   "id": "6810864f-246c-4e2b-abfc-5fa95a0925b4",
   "metadata": {},
   "outputs": [],
   "source": [
    "# Blue parts are areas with coverage in D5. \n",
    "tmobile_district = dg.sjoin(\n",
    "    tmobile[[\"geometry\"]], \n",
    "    ct_all_districts[ct_all_districts.district==5],\n",
    "    how=\"inner\", \n",
    "    predicate=\"intersects\"\n",
    ").drop(columns = \"index_right\")"
   ]
  },
  {
   "cell_type": "code",
   "execution_count": null,
   "id": "dea7ae8a-5083-40b0-a97d-afbb509ba4a2",
   "metadata": {},
   "outputs": [],
   "source": [
    "tmobile_d5 = tmobile_district.compute()"
   ]
  },
  {
   "cell_type": "code",
   "execution_count": null,
   "id": "2a88454b-499b-4b88-87cb-b1463a41d74b",
   "metadata": {},
   "outputs": [],
   "source": [
    "len(tmobile_d5)"
   ]
  },
  {
   "cell_type": "code",
   "execution_count": null,
   "id": "96f3080d-6252-4d22-999d-527d2d877600",
   "metadata": {},
   "outputs": [],
   "source": [
    "tmobile_d5.plot()"
   ]
  },
  {
   "cell_type": "code",
   "execution_count": null,
   "id": "41194cdf-8878-48bc-855f-ea11dd57b7b8",
   "metadata": {},
   "outputs": [],
   "source": [
    "# Getting areas without coverage in D2. \n",
    "no_coverage = tmobile_d5.difference(\n",
    "        ct_all_districts[ct_all_districts.district==5].geometry.iloc[0], \n",
    "    ).reset_index()"
   ]
  },
  {
   "cell_type": "code",
   "execution_count": null,
   "id": "22e0ba6a-43cc-4e6d-8032-87aa4945ceca",
   "metadata": {},
   "outputs": [],
   "source": [
    "# This line grabs the actual polygon \n",
    "ct_all_districts[ct_all_districts.district==2].geometry.iloc[0]"
   ]
  },
  {
   "cell_type": "code",
   "execution_count": null,
   "id": "cceb4de8-622e-436d-a45c-3951dfbb59fa",
   "metadata": {},
   "outputs": [],
   "source": [
    "no_coverage.head()"
   ]
  },
  {
   "cell_type": "code",
   "execution_count": null,
   "id": "c0d8e556-ba46-4ed9-9738-ec18f772c706",
   "metadata": {},
   "outputs": [],
   "source": [
    " len(no_coverage)"
   ]
  },
  {
   "cell_type": "code",
   "execution_count": null,
   "id": "b7ac4c11-fc70-4d8d-92fb-b4b62ef609a0",
   "metadata": {},
   "outputs": [],
   "source": [
    "no_coverage_d5 = (no_coverage.reset_index()\n",
    "                  .dissolve()\n",
    "                  .rename(columns = {0: 'geometry'})\n",
    "                  [[\"geometry\"]]\n",
    "                 )"
   ]
  },
  {
   "cell_type": "code",
   "execution_count": null,
   "id": "7373a9da-1f1f-47e9-bc92-2d6db9e15fe8",
   "metadata": {},
   "outputs": [],
   "source": [
    "# type(no_coverage_d2)"
   ]
  },
  {
   "cell_type": "code",
   "execution_count": null,
   "id": "fbe29e6f-64fc-4035-a4fd-74188ce108fe",
   "metadata": {},
   "outputs": [],
   "source": [
    "no_coverage_d5 = no_coverage_d5.set_geometry('geometry')"
   ]
  },
  {
   "cell_type": "code",
   "execution_count": null,
   "id": "a8765ae8-646c-4905-ba18-7dc0c99f8c48",
   "metadata": {},
   "outputs": [],
   "source": [
    "no_coverage_d5.plot()"
   ]
  },
  {
   "cell_type": "markdown",
   "id": "cbd0f7cb-46cd-403c-8582-1ba5677716af",
   "metadata": {},
   "source": [
    "#### Break apart dissolve"
   ]
  },
  {
   "cell_type": "code",
   "execution_count": null,
   "id": "3fca4b86-7bfc-40fd-87e2-4376400870e3",
   "metadata": {},
   "outputs": [],
   "source": [
    "ct_d5  = (ct_all_districts[ct_all_districts.district==5]"
   ]
  },
  {
   "cell_type": "code",
   "execution_count": null,
   "id": "2717e732-f1dc-4471-b796-25b64d9b7da9",
   "metadata": {},
   "outputs": [],
   "source": [
    "ct_d5"
   ]
  },
  {
   "cell_type": "code",
   "execution_count": null,
   "id": "bf47734f-1b51-4657-9503-8792d0932979",
   "metadata": {},
   "outputs": [],
   "source": [
    "ct_all_districts[ct_all_districts.district==5]"
   ]
  },
  {
   "cell_type": "code",
   "execution_count": null,
   "id": "56ad6bfb-f4da-4dcd-85a0-a08d2169e490",
   "metadata": {},
   "outputs": [],
   "source": [
    "ct_d5.plot()"
   ]
  },
  {
   "cell_type": "code",
   "execution_count": null,
   "id": "8f61d054-0626-414a-bdc8-7dc4827bfcaa",
   "metadata": {},
   "outputs": [],
   "source": [
    "tmobile_district = dg.sjoin(\n",
    "        tmobile[['geometry']], \n",
    "        ct_d5, \n",
    "        how=\"inner\", \n",
    "        predicate=\"intersects\"\n",
    "    )"
   ]
  },
  {
   "cell_type": "code",
   "execution_count": null,
   "id": "0283903b-22a3-4e3a-a1c7-890f53747539",
   "metadata": {},
   "outputs": [],
   "source": [
    "tmobile_district_gdf = tmobile_district.compute()"
   ]
  },
  {
   "cell_type": "code",
   "execution_count": null,
   "id": "51b66eed-1999-43cc-8cc7-75ac8286ebb1",
   "metadata": {},
   "outputs": [],
   "source": [
    "len(tmobile_district_gdf)"
   ]
  },
  {
   "cell_type": "code",
   "execution_count": null,
   "id": "a36799ba-d626-43d4-9a62-84fc7bb3102d",
   "metadata": {},
   "outputs": [],
   "source": [
    "tmobile_district_gdf.head(1)"
   ]
  },
  {
   "cell_type": "code",
   "execution_count": null,
   "id": "56e05404-4ac3-4516-9c9b-a5f3e6c3fcf9",
   "metadata": {},
   "outputs": [],
   "source": [
    "\"\"\"\n",
    "tmobile_5 = (tmobile_district.drop(columns = \"index_right\").dissolve(by=\"district\")\n",
    "                    .reset_index()\n",
    "                    .compute()\n",
    "                   )\"\"\""
   ]
  },
  {
   "cell_type": "code",
   "execution_count": null,
   "id": "3773ef54-50c4-41cd-90fa-6fc0d8b514d7",
   "metadata": {},
   "outputs": [],
   "source": [
    "len(tmobile_5)"
   ]
  },
  {
   "cell_type": "code",
   "execution_count": null,
   "id": "2cd5e1f8-2c7d-45e8-9233-05696b941e99",
   "metadata": {},
   "outputs": [],
   "source": [
    "district_file = tmobile_5.district.iloc[0]"
   ]
  },
  {
   "cell_type": "code",
   "execution_count": null,
   "id": "60f97f90-3dcf-4b63-b20c-a2487def3429",
   "metadata": {},
   "outputs": [],
   "source": [
    "district_file"
   ]
  },
  {
   "cell_type": "code",
   "execution_count": null,
   "id": "9e87f328-924f-4079-8a53-a5d960a2ec1a",
   "metadata": {},
   "outputs": [],
   "source": [
    "tmobile_5"
   ]
  },
  {
   "cell_type": "code",
   "execution_count": null,
   "id": "eb77bf69-0e86-4f87-a42f-bdf9cc4ee2df",
   "metadata": {},
   "outputs": [],
   "source": [
    "# utils.geoparquet_gcs_export(tmobile_5, utilities.GCS_FILE_PATH,f\"tmobile_d{district_file}.parquet\")"
   ]
  },
  {
   "cell_type": "code",
   "execution_count": null,
   "id": "9e062167-8472-4095-a46d-e64fed9093cd",
   "metadata": {},
   "outputs": [],
   "source": [
    "tmobile_align_true = (tmobile_5.difference(\n",
    "            (ct_all_districts[ct_all_districts.district==5]).reset_index(), \n",
    "            align=True\n",
    "        ).reset_index()\n",
    "        .rename(columns = {0: 'geometry'})\n",
    "    )   "
   ]
  },
  {
   "cell_type": "code",
   "execution_count": null,
   "id": "f095e910-5d15-4584-80c1-510bfd6c13b7",
   "metadata": {},
   "outputs": [],
   "source": [
    "type(tmobile_align_true)"
   ]
  },
  {
   "cell_type": "code",
   "execution_count": null,
   "id": "8f2fc1e4-d258-4d38-84fd-0b382ea0f231",
   "metadata": {},
   "outputs": [],
   "source": [
    "tmobile_align_true = tmobile_align_true.set_geometry('geometry')"
   ]
  },
  {
   "cell_type": "code",
   "execution_count": null,
   "id": "3e5a6dbd-e9f4-45de-b0f2-15f26dc17206",
   "metadata": {
    "tags": []
   },
   "outputs": [],
   "source": [
    "# I get an error when plotting /opt/conda/lib/python3.9/site-packages/geopandas/array.py:938: RuntimeWarning: All-NaN slice encountered\n",
    "tmobile_align_true.plot()"
   ]
  },
  {
   "cell_type": "code",
   "execution_count": null,
   "id": "a761b764-1f0c-4d53-8056-4501c3ff7a1d",
   "metadata": {},
   "outputs": [],
   "source": [
    "def sjoin_to_district_find_difference(\n",
    "    tmobile: dg.GeoDataFrame, \n",
    "    district_df: gpd.GeoDataFrame\n",
    ") -> dg.GeoDataFrame:\n",
    "    tmobile_district = dg.sjoin(\n",
    "        tmobile, \n",
    "        district_df, \n",
    "        how=\"inner\", \n",
    "        predicate=\"intersects\"\n",
    "    ).drop(columns = \"index_right\")\n",
    "    \n",
    "    # Dissolve so that it's just 1 row for TMobile coverage in that district\n",
    "    tmobile_diss = (tmobile_district.dissolve(by=\"district\")\n",
    "                    .reset_index()\n",
    "                    .compute()\n",
    "                   )\n",
    "    \n",
    "    # Maybe stash intermediate output here?\n",
    "    d = district_df.district.iloc[0]\n",
    "    tmobile_diss.to_parquet(f\"tmobile_d{d}.parquet\")\n",
    "    \n",
    "    # Instead of gpd.overlay(), since tmobile_diss is 1 row and \n",
    "    # district_df is 1 row,\n",
    "    # can treat them as GeoSeries, align=True, to do row-wise comparison\n",
    "    no_coverage = (tmobile_diss.difference(\n",
    "            ct_all_districts[ct_all_districts.district==i], \n",
    "            align=True\n",
    "        ).reset_index()\n",
    "        .rename(columns = {0: 'geometry'})\n",
    "    )   \n",
    "    \n",
    "    no_coverage.to_parquet(f\"no_coverage_d{d}.parquet\")\n",
    "    \n",
    "    return no_coverage"
   ]
  },
  {
   "cell_type": "code",
   "execution_count": null,
   "id": "7c64d883-3777-4f68-8027-ff03d4faae08",
   "metadata": {},
   "outputs": [],
   "source": [
    "results = []\n",
    "\n",
    "for i in [1]:\n",
    "    dissolved_result = sjoin_to_district_find_difference(\n",
    "        tmobile[[\"geometry\"]], \n",
    "        ct_all_districts[ct_all_districts.district==i]\n",
    "    )\n",
    "    \n",
    "    results.append(dissolved_result)"
   ]
  },
  {
   "cell_type": "code",
   "execution_count": null,
   "id": "41153c06-71be-4d1c-9d79-7a5e012f40bf",
   "metadata": {},
   "outputs": [],
   "source": [
    "ddf = dd.multi.concat(results, axis=0)"
   ]
  },
  {
   "cell_type": "code",
   "execution_count": null,
   "id": "2281b2b7-bc9a-4ca0-ba3e-dd81f888bcb8",
   "metadata": {},
   "outputs": [],
   "source": [
    "df = ddf.compute()"
   ]
  }
 ],
 "metadata": {
  "kernelspec": {
   "display_name": "Python 3 (ipykernel)",
   "language": "python",
   "name": "python3"
  },
  "language_info": {
   "codemirror_mode": {
    "name": "ipython",
    "version": 3
   },
   "file_extension": ".py",
   "mimetype": "text/x-python",
   "name": "python",
   "nbconvert_exporter": "python",
   "pygments_lexer": "ipython3",
   "version": "3.9.13"
  }
 },
 "nbformat": 4,
 "nbformat_minor": 5
}
