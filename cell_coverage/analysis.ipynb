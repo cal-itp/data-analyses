{
 "cells": [
  {
   "cell_type": "markdown",
   "id": "b928e731-21e0-43cf-9e0d-225fe3219958",
   "metadata": {},
   "source": [
    "# Analysis\n",
    "* Create yml for all my files. \n",
    "* Save overlay? "
   ]
  },
  {
   "cell_type": "code",
   "execution_count": 1,
   "id": "6e564810-c581-4d7a-9200-17e9cb3653b3",
   "metadata": {},
   "outputs": [
    {
     "name": "stderr",
     "output_type": "stream",
     "text": [
      "/opt/conda/lib/python3.10/site-packages/geopandas/_compat.py:112: UserWarning: The Shapely GEOS version (3.10.3-CAPI-1.16.1) is incompatible with the GEOS version PyGEOS was compiled with (3.10.1-CAPI-1.16.0). Conversions between both will be slow.\n",
      "  warnings.warn(\n"
     ]
    }
   ],
   "source": [
    "# Read in zip files\n",
    "# Graphs\n",
    "import altair as alt\n",
    "import fsspec\n",
    "import geopandas as gpd\n",
    "import intake\n",
    "import numpy as np\n",
    "import pandas as pd\n",
    "\n",
    "# My utilities\n",
    "import utilities\n",
    "from calitp import *\n",
    "\n",
    "# Display\n",
    "from IPython.display import HTML, Image, Markdown, display, display_html\n",
    "\n",
    "# Geometry\n",
    "from shared_utils import geography_utils, utils"
   ]
  },
  {
   "cell_type": "code",
   "execution_count": 2,
   "id": "92fabdd3-f7be-42e8-8d71-11f7960429aa",
   "metadata": {},
   "outputs": [],
   "source": [
    "pd.options.display.max_columns = 100\n",
    "pd.options.display.float_format = \"{:.2f}\".format\n",
    "pd.set_option(\"display.max_rows\", None)\n",
    "pd.set_option(\"display.max_colwidth\", None)"
   ]
  },
  {
   "cell_type": "code",
   "execution_count": 3,
   "id": "39fa1361-fc3d-49bd-8681-522aefd983bd",
   "metadata": {},
   "outputs": [],
   "source": [
    "GCS_FILE_PATH = \"gs://calitp-analytics-data/data-analyses/cellular_coverage/\""
   ]
  },
  {
   "cell_type": "code",
   "execution_count": 4,
   "id": "2ebb09d9-302c-4bf7-ab9a-59b30c028d1b",
   "metadata": {},
   "outputs": [],
   "source": [
    "routes_df = utilities.load_unique_routes_df()"
   ]
  },
  {
   "cell_type": "code",
   "execution_count": 5,
   "id": "1a2cf7e0-ec77-4540-a4ab-a78be57459d8",
   "metadata": {},
   "outputs": [
    {
     "data": {
      "text/plain": [
       "(2829, 7)"
      ]
     },
     "execution_count": 5,
     "metadata": {},
     "output_type": "execute_result"
    }
   ],
   "source": [
    "routes_df.shape"
   ]
  },
  {
   "cell_type": "markdown",
   "id": "a908062d-36be-4eba-8cd4-21f17ff0a6a4",
   "metadata": {},
   "source": [
    "## T-Mobile"
   ]
  },
  {
   "cell_type": "code",
   "execution_count": 6,
   "id": "cf2e74ea-933c-4a8c-904b-6ae9c4703925",
   "metadata": {},
   "outputs": [],
   "source": [
    "tmobile_df = gpd.read_parquet(f\"{GCS_FILE_PATH}tmobile_california.parquet\")"
   ]
  },
  {
   "cell_type": "code",
   "execution_count": 7,
   "id": "a8d27c37-13d0-45ea-b344-440741292585",
   "metadata": {},
   "outputs": [],
   "source": [
    "tmobile_m1 = utilities.route_cell_coverage(tmobile_df, routes_df, \"_tmobile\")"
   ]
  },
  {
   "cell_type": "code",
   "execution_count": 8,
   "id": "f329673c-5fe9-4b75-8aa3-8df4d24e97ea",
   "metadata": {},
   "outputs": [
    {
     "data": {
      "text/plain": [
       "geopandas.geodataframe.GeoDataFrame"
      ]
     },
     "execution_count": 8,
     "metadata": {},
     "output_type": "execute_result"
    }
   ],
   "source": [
    "type(tmobile_m1)"
   ]
  },
  {
   "cell_type": "code",
   "execution_count": 9,
   "id": "647b6f2d-ceeb-4132-a6aa-b8cf998fd86c",
   "metadata": {},
   "outputs": [],
   "source": [
    "overlay_test = utilities.comparison(tmobile_df, routes_df)"
   ]
  },
  {
   "cell_type": "code",
   "execution_count": 10,
   "id": "8782dcfe-4080-49c4-9a6c-a84b5bb7b45b",
   "metadata": {},
   "outputs": [
    {
     "data": {
      "text/plain": [
       "geopandas.geodataframe.GeoDataFrame"
      ]
     },
     "execution_count": 10,
     "metadata": {},
     "output_type": "execute_result"
    }
   ],
   "source": [
    "type(tmobile_df)"
   ]
  },
  {
   "cell_type": "code",
   "execution_count": 11,
   "id": "15041187-7406-4b96-82f2-5a6e510a90fb",
   "metadata": {},
   "outputs": [
    {
     "data": {
      "text/plain": [
       "geopandas.geodataframe.GeoDataFrame"
      ]
     },
     "execution_count": 11,
     "metadata": {},
     "output_type": "execute_result"
    }
   ],
   "source": [
    "type(overlay_test)"
   ]
  },
  {
   "cell_type": "code",
   "execution_count": 12,
   "id": "48969bb0-7a53-4208-adfb-f5efa5fe6cdf",
   "metadata": {},
   "outputs": [],
   "source": [
    "overlay_test2 = (overlay_test.dissolve(\n",
    "         by=[\"route_id\", \"route_name\", \"agency\", \"itp_id\"],\n",
    "         aggfunc={\n",
    "         \"route_length\": \"sum\"}).reset_index()) "
   ]
  },
  {
   "cell_type": "code",
   "execution_count": 13,
   "id": "c1c73523-2626-43ef-a5b2-e32b7fc504a4",
   "metadata": {},
   "outputs": [
    {
     "data": {
      "text/plain": [
       "geopandas.geodataframe.GeoDataFrame"
      ]
     },
     "execution_count": 13,
     "metadata": {},
     "output_type": "execute_result"
    }
   ],
   "source": [
    "type(overlay_test2)"
   ]
  },
  {
   "cell_type": "code",
   "execution_count": 14,
   "id": "3f302181-70a7-437a-b152-a0a67d6ad038",
   "metadata": {},
   "outputs": [
    {
     "data": {
      "text/plain": [
       "geopandas.geodataframe.GeoDataFrame"
      ]
     },
     "execution_count": 14,
     "metadata": {},
     "output_type": "execute_result"
    }
   ],
   "source": [
    "type(routes_df)"
   ]
  },
  {
   "cell_type": "code",
   "execution_count": 15,
   "id": "1c7fe710-3895-48db-aa9e-3c23a97f65f4",
   "metadata": {},
   "outputs": [],
   "source": [
    "m_test = overlay_test2.merge(\n",
    "        routes_df,\n",
    "        how=\"inner\",\n",
    "        on=[\"agency\", \"route_id\", \"route_name\", \"itp_id\"],\n",
    "        suffixes=[\"_overlay\", \"_original_df\"],\n",
    "    )\n",
    "    "
   ]
  },
  {
   "cell_type": "code",
   "execution_count": 16,
   "id": "e1427fa8-83df-44e5-81fa-fe1910cd5256",
   "metadata": {
    "tags": []
   },
   "outputs": [
    {
     "data": {
      "text/plain": [
       "Index(['route_id', 'route_name', 'agency', 'itp_id', 'geometry_overlay',\n",
       "       'route_length_overlay', 'geometry_original_df', 'route_type',\n",
       "       'route_length_original_df'],\n",
       "      dtype='object')"
      ]
     },
     "execution_count": 16,
     "metadata": {},
     "output_type": "execute_result"
    }
   ],
   "source": [
    "m_test.columns"
   ]
  },
  {
   "cell_type": "code",
   "execution_count": 17,
   "id": "e78e8b47-d4fe-4218-8149-eff3aba22834",
   "metadata": {},
   "outputs": [],
   "source": [
    "m_test = gpd.GeoDataFrame(m_test, geometry = \"geometry_overlay\", crs = \"EPSG:4326\") "
   ]
  },
  {
   "cell_type": "code",
   "execution_count": 18,
   "id": "991af8d5-87e4-4213-8092-d245603d01ee",
   "metadata": {},
   "outputs": [],
   "source": [
    "m_test[\"percentage\"] = (\n",
    "        m_test[\"route_length_overlay\"] / m_test[\"route_length_original_df\"]\n",
    "    ) * 100"
   ]
  },
  {
   "cell_type": "code",
   "execution_count": 19,
   "id": "7051ce89-a055-4a1e-a8c1-b065004ad614",
   "metadata": {},
   "outputs": [
    {
     "data": {
      "text/plain": [
       "geopandas.geodataframe.GeoDataFrame"
      ]
     },
     "execution_count": 19,
     "metadata": {},
     "output_type": "execute_result"
    }
   ],
   "source": [
    "type(m_test)"
   ]
  },
  {
   "cell_type": "code",
   "execution_count": 20,
   "id": "b705be38-ac47-4c76-9ad1-423012f406dd",
   "metadata": {},
   "outputs": [
    {
     "data": {
      "text/plain": [
       "geopandas.geodataframe.GeoDataFrame"
      ]
     },
     "execution_count": 20,
     "metadata": {},
     "output_type": "execute_result"
    }
   ],
   "source": [
    "type(m_test)"
   ]
  },
  {
   "cell_type": "code",
   "execution_count": 21,
   "id": "94c0a4e0-69b6-4772-82b9-9c51e20c59cd",
   "metadata": {},
   "outputs": [
    {
     "data": {
      "text/plain": [
       "(2828, 11)"
      ]
     },
     "execution_count": 21,
     "metadata": {},
     "output_type": "execute_result"
    }
   ],
   "source": [
    "tmobile_m1.shape"
   ]
  },
  {
   "cell_type": "code",
   "execution_count": 22,
   "id": "3522bc25-07ff-4df3-a180-4dace853cf63",
   "metadata": {},
   "outputs": [
    {
     "data": {
      "text/plain": [
       "geopandas.geodataframe.GeoDataFrame"
      ]
     },
     "execution_count": 22,
     "metadata": {},
     "output_type": "execute_result"
    }
   ],
   "source": [
    "type(tmobile_m1)"
   ]
  },
  {
   "cell_type": "code",
   "execution_count": 23,
   "id": "c9e8c4c9-5673-43ad-988e-c0a2e5a6ac8b",
   "metadata": {},
   "outputs": [
    {
     "data": {
      "text/plain": [
       "(90, 100]    2030\n",
       "(80, 90]      173\n",
       "(70, 80]       87\n",
       "(60, 70]       37\n",
       "(50, 60]       21\n",
       "(40, 50]       11\n",
       "(30, 40]        8\n",
       "(20, 30]        4\n",
       "(10, 20]        1\n",
       "(0, 10]         0\n",
       "Name: binned_tmobile, dtype: int64"
      ]
     },
     "execution_count": 23,
     "metadata": {},
     "output_type": "execute_result"
    }
   ],
   "source": [
    "tmobile_m1[\"binned_tmobile\"].value_counts()"
   ]
  },
  {
   "cell_type": "markdown",
   "id": "f9753413-24f7-4a2c-af2d-410c593a0914",
   "metadata": {},
   "source": [
    "## AT&T"
   ]
  },
  {
   "cell_type": "code",
   "execution_count": 24,
   "id": "9f2b2db2-51e5-4e30-b466-7626069e79ad",
   "metadata": {},
   "outputs": [],
   "source": [
    "att_df = utilities.load_att()"
   ]
  },
  {
   "cell_type": "code",
   "execution_count": 25,
   "id": "b21218ac-4cb9-4b28-a237-c72df293bd4f",
   "metadata": {},
   "outputs": [],
   "source": [
    "att_m1 = utilities.route_cell_coverage(att_df, routes_df, \"_att\")"
   ]
  },
  {
   "cell_type": "code",
   "execution_count": 26,
   "id": "cfe4f088-26f9-40a9-bb97-94c3b62bcc39",
   "metadata": {},
   "outputs": [
    {
     "data": {
      "text/plain": [
       "geopandas.geodataframe.GeoDataFrame"
      ]
     },
     "execution_count": 26,
     "metadata": {},
     "output_type": "execute_result"
    }
   ],
   "source": [
    "type(att_m1)"
   ]
  },
  {
   "cell_type": "code",
   "execution_count": 27,
   "id": "6bc33ff3-9c52-43ee-ad2c-e4bf1f4f379c",
   "metadata": {},
   "outputs": [
    {
     "data": {
      "text/plain": [
       "((36, 1), (2822, 11))"
      ]
     },
     "execution_count": 27,
     "metadata": {},
     "output_type": "execute_result"
    }
   ],
   "source": [
    "att_df.shape, att_m1.shape"
   ]
  },
  {
   "cell_type": "code",
   "execution_count": 28,
   "id": "a602b9d5-27ca-458b-bc89-4929710022e5",
   "metadata": {},
   "outputs": [
    {
     "data": {
      "text/plain": [
       "(90, 100]    2069\n",
       "(80, 90]      139\n",
       "(70, 80]       75\n",
       "(60, 70]       44\n",
       "(50, 60]       38\n",
       "(10, 20]        4\n",
       "(20, 30]        2\n",
       "(30, 40]        2\n",
       "(40, 50]        2\n",
       "(0, 10]         0\n",
       "Name: binned_att, dtype: int64"
      ]
     },
     "execution_count": 28,
     "metadata": {},
     "output_type": "execute_result"
    }
   ],
   "source": [
    "att_m1[\"binned_att\"].value_counts()"
   ]
  },
  {
   "cell_type": "markdown",
   "id": "c0aae5bd-12aa-43a9-9617-1065f172091c",
   "metadata": {},
   "source": [
    "## Verizon"
   ]
  },
  {
   "cell_type": "code",
   "execution_count": 29,
   "id": "50e26e5f-d5a1-486e-8b17-9611ac9ae926",
   "metadata": {},
   "outputs": [],
   "source": [
    "verizon_df = utilities.load_verizon()"
   ]
  },
  {
   "cell_type": "code",
   "execution_count": 30,
   "id": "14c97dfd-8a01-4ee6-b173-1826d65d6744",
   "metadata": {},
   "outputs": [],
   "source": [
    "verizon_m1 = utilities.route_cell_coverage(verizon_df, routes_df, \"_verizon\")"
   ]
  },
  {
   "cell_type": "code",
   "execution_count": 31,
   "id": "fd180361-e2dc-4e59-a6c7-73f2c4fb71f0",
   "metadata": {},
   "outputs": [
    {
     "data": {
      "text/plain": [
       "((74, 1), (2822, 11))"
      ]
     },
     "execution_count": 31,
     "metadata": {},
     "output_type": "execute_result"
    }
   ],
   "source": [
    "verizon_df.shape, verizon_m1.shape"
   ]
  },
  {
   "cell_type": "code",
   "execution_count": 32,
   "id": "88921bdc-a1a9-450a-bb65-ca05714e99fb",
   "metadata": {},
   "outputs": [
    {
     "data": {
      "text/plain": [
       "geopandas.geodataframe.GeoDataFrame"
      ]
     },
     "execution_count": 32,
     "metadata": {},
     "output_type": "execute_result"
    }
   ],
   "source": [
    "type(verizon_m1)"
   ]
  },
  {
   "cell_type": "code",
   "execution_count": 33,
   "id": "1469ba9f-2063-4f8e-8091-f76181698436",
   "metadata": {},
   "outputs": [
    {
     "data": {
      "text/plain": [
       "(90, 100]    2414\n",
       "(80, 90]      168\n",
       "(70, 80]       74\n",
       "(60, 70]       38\n",
       "(50, 60]       29\n",
       "(40, 50]        3\n",
       "(10, 20]        2\n",
       "(30, 40]        2\n",
       "(0, 10]         0\n",
       "(20, 30]        0\n",
       "Name: binned_verizon, dtype: int64"
      ]
     },
     "execution_count": 33,
     "metadata": {},
     "output_type": "execute_result"
    }
   ],
   "source": [
    "verizon_m1[\"binned_verizon\"].value_counts()"
   ]
  },
  {
   "cell_type": "markdown",
   "id": "cde725ab-3625-40d7-a953-7bc168259395",
   "metadata": {},
   "source": [
    "## Compare routes across providers.\n",
    "* https://geopandas.org/en/stable/docs/user_guide/mergingdata.html\n",
    "* Make sure CRS are the same."
   ]
  },
  {
   "cell_type": "code",
   "execution_count": 191,
   "id": "9607d91d-f994-4751-9f4b-a54f47138d52",
   "metadata": {
    "scrolled": true,
    "tags": []
   },
   "outputs": [],
   "source": [
    "# Threshold\n",
    "theshold = 70"
   ]
  },
  {
   "cell_type": "code",
   "execution_count": 192,
   "id": "757abec5-3335-4fc9-b578-9fc9f5671667",
   "metadata": {
    "scrolled": true,
    "tags": []
   },
   "outputs": [],
   "source": [
    "# Filter out for threshold\n",
    "low_att_coverage = att_m1.loc[att_m1[\"percentage_att\"] < theshold].reset_index(drop=True)\n",
    "low_verizon_coverage = verizon_m1.loc[\n",
    "    verizon_m1[\"percentage_verizon\"] < theshold\n",
    "].reset_index(drop=True)\n",
    "low_tmobile_coverage = tmobile_m1.loc[\n",
    "    tmobile_m1[\"percentage_tmobile\"] < theshold\n",
    "].reset_index(drop=True)"
   ]
  },
  {
   "cell_type": "code",
   "execution_count": 193,
   "id": "99dd00ae-9100-4776-8cf8-8f8df25390ae",
   "metadata": {},
   "outputs": [
    {
     "data": {
      "text/plain": [
       "((92, 11), (74, 11), (82, 11))"
      ]
     },
     "execution_count": 193,
     "metadata": {},
     "output_type": "execute_result"
    }
   ],
   "source": [
    "low_att_coverage.shape, low_verizon_coverage.shape, low_tmobile_coverage.shape,"
   ]
  },
  {
   "cell_type": "code",
   "execution_count": 194,
   "id": "243aa57f-a30f-4d9a-a648-708564476347",
   "metadata": {},
   "outputs": [
    {
     "data": {
      "text/plain": [
       "(geopandas.geodataframe.GeoDataFrame,\n",
       " geopandas.geodataframe.GeoDataFrame,\n",
       " geopandas.geodataframe.GeoDataFrame)"
      ]
     },
     "execution_count": 194,
     "metadata": {},
     "output_type": "execute_result"
    }
   ],
   "source": [
    "type(low_att_coverage), type(low_verizon_coverage), type(low_tmobile_coverage)"
   ]
  },
  {
   "cell_type": "markdown",
   "id": "4835875f-a124-4b00-b922-b58af8e0158d",
   "metadata": {},
   "source": [
    "### Merge Verizon & ATT"
   ]
  },
  {
   "cell_type": "code",
   "execution_count": 195,
   "id": "d4b75d14-f851-4013-af37-2471c38463fe",
   "metadata": {},
   "outputs": [],
   "source": [
    "# Merge low att & verizon coverage\n",
    "m1 =  low_att_coverage.merge(\n",
    "    low_verizon_coverage,\n",
    "    how=\"outer\",\n",
    "    left_on=[\"route_id_att\", \"route_name_att\", \"agency_att\", \"itp_id_att\"],\n",
    "    right_on=[\n",
    "        \"route_id_verizon\",\n",
    "        \"route_name_verizon\",\n",
    "        \"agency_verizon\",\n",
    "        \"itp_id_verizon\",\n",
    "    ],\n",
    "    indicator=True,\n",
    ")"
   ]
  },
  {
   "cell_type": "code",
   "execution_count": 196,
   "id": "fe8a0201-8385-45c5-a29e-cc70807d515b",
   "metadata": {},
   "outputs": [
    {
     "data": {
      "text/plain": [
       "both          64\n",
       "left_only     28\n",
       "right_only    10\n",
       "Name: _merge, dtype: int64"
      ]
     },
     "execution_count": 196,
     "metadata": {},
     "output_type": "execute_result"
    }
   ],
   "source": [
    "m1['_merge'].value_counts()"
   ]
  },
  {
   "cell_type": "code",
   "execution_count": 197,
   "id": "3e007e22-c3c3-4c5b-bf96-635ce40dc30a",
   "metadata": {},
   "outputs": [],
   "source": [
    "# Turn to gpd\n",
    "m1 = gpd.GeoDataFrame(m1, geometry = 'geometry_overlay_verizon', crs = \"EPSG:4326\") "
   ]
  },
  {
   "cell_type": "code",
   "execution_count": 198,
   "id": "e773fe65-eb4f-42eb-99bb-d5d300f51604",
   "metadata": {},
   "outputs": [
    {
     "data": {
      "text/plain": [
       "geopandas.geodataframe.GeoDataFrame"
      ]
     },
     "execution_count": 198,
     "metadata": {},
     "output_type": "execute_result"
    }
   ],
   "source": [
    "type(m1)"
   ]
  },
  {
   "cell_type": "code",
   "execution_count": 199,
   "id": "4eaf69d1-36f6-4473-a79b-ce0709a331ed",
   "metadata": {
    "scrolled": true,
    "tags": []
   },
   "outputs": [
    {
     "data": {
      "text/html": [
       "<div>\n",
       "<style scoped>\n",
       "    .dataframe tbody tr th:only-of-type {\n",
       "        vertical-align: middle;\n",
       "    }\n",
       "\n",
       "    .dataframe tbody tr th {\n",
       "        vertical-align: top;\n",
       "    }\n",
       "\n",
       "    .dataframe thead th {\n",
       "        text-align: right;\n",
       "    }\n",
       "</style>\n",
       "<table border=\"1\" class=\"dataframe\">\n",
       "  <thead>\n",
       "    <tr style=\"text-align: right;\">\n",
       "      <th></th>\n",
       "      <th>route_name_att</th>\n",
       "      <th>route_name_verizon</th>\n",
       "      <th>percentage_verizon</th>\n",
       "      <th>percentage_att</th>\n",
       "    </tr>\n",
       "  </thead>\n",
       "  <tbody>\n",
       "    <tr>\n",
       "      <th>0</th>\n",
       "      <td>Guerneville, Monte Rio</td>\n",
       "      <td>Guerneville, Monte Rio</td>\n",
       "      <td>50.68</td>\n",
       "      <td>13.43</td>\n",
       "    </tr>\n",
       "    <tr>\n",
       "      <th>1</th>\n",
       "      <td>Sonora HWY 120</td>\n",
       "      <td>Sonora HWY 120</td>\n",
       "      <td>60.59</td>\n",
       "      <td>54.42</td>\n",
       "    </tr>\n",
       "    <tr>\n",
       "      <th>4</th>\n",
       "      <td>Planada Commuter</td>\n",
       "      <td>Planada Commuter</td>\n",
       "      <td>67.60</td>\n",
       "      <td>67.65</td>\n",
       "    </tr>\n",
       "    <tr>\n",
       "      <th>5</th>\n",
       "      <td>None</td>\n",
       "      <td>None</td>\n",
       "      <td>51.67</td>\n",
       "      <td>57.87</td>\n",
       "    </tr>\n",
       "    <tr>\n",
       "      <th>16</th>\n",
       "      <td>Avocado Heights/Bassett/West Valinda Shuttle</td>\n",
       "      <td>Avocado Heights/Bassett/West Valinda Shuttle</td>\n",
       "      <td>66.59</td>\n",
       "      <td>67.46</td>\n",
       "    </tr>\n",
       "    <tr>\n",
       "      <th>25</th>\n",
       "      <td>Edmund D. Edelman Children’s Court Shuttle</td>\n",
       "      <td>Edmund D. Edelman Children’s Court Shuttle</td>\n",
       "      <td>53.87</td>\n",
       "      <td>53.88</td>\n",
       "    </tr>\n",
       "    <tr>\n",
       "      <th>34</th>\n",
       "      <td>The Gold Route is operated by Arcata and Mad River Transit System and serves downtown Arcata, Humboldt State University, Valley West Shopping Center, and Alliance Rd.</td>\n",
       "      <td>The Gold Route is operated by Arcata and Mad River Transit System and serves downtown Arcata, Humboldt State University, Valley West Shopping Center, and Alliance Rd.</td>\n",
       "      <td>69.17</td>\n",
       "      <td>69.17</td>\n",
       "    </tr>\n",
       "    <tr>\n",
       "      <th>38</th>\n",
       "      <td>South Main &amp; Walnut</td>\n",
       "      <td>South Main &amp; Walnut</td>\n",
       "      <td>66.44</td>\n",
       "      <td>69.53</td>\n",
       "    </tr>\n",
       "    <tr>\n",
       "      <th>42</th>\n",
       "      <td>Grass Valley to North San Juan</td>\n",
       "      <td>Grass Valley to North San Juan</td>\n",
       "      <td>65.85</td>\n",
       "      <td>65.50</td>\n",
       "    </tr>\n",
       "    <tr>\n",
       "      <th>43</th>\n",
       "      <td>Route between Weaverville and Hayfork.  Connects to Redding Line in Douglas City.</td>\n",
       "      <td>Route between Weaverville and Hayfork.  Connects to Redding Line in Douglas City.</td>\n",
       "      <td>52.58</td>\n",
       "      <td>22.69</td>\n",
       "    </tr>\n",
       "    <tr>\n",
       "      <th>44</th>\n",
       "      <td>Lewiston Line</td>\n",
       "      <td>Lewiston Line</td>\n",
       "      <td>61.51</td>\n",
       "      <td>63.16</td>\n",
       "    </tr>\n",
       "    <tr>\n",
       "      <th>45</th>\n",
       "      <td>Route travels through all down-river communities between Weaverville and Willow Creek.  Key route to the coast; connects with RTS service to Arcata/Eureka.</td>\n",
       "      <td>Route travels through all down-river communities between Weaverville and Willow Creek.  Key route to the coast; connects with RTS service to Arcata/Eureka.</td>\n",
       "      <td>37.08</td>\n",
       "      <td>29.83</td>\n",
       "    </tr>\n",
       "    <tr>\n",
       "      <th>47</th>\n",
       "      <td>South Coast / Ukiah</td>\n",
       "      <td>South Coast / Ukiah</td>\n",
       "      <td>51.59</td>\n",
       "      <td>51.24</td>\n",
       "    </tr>\n",
       "    <tr>\n",
       "      <th>49</th>\n",
       "      <td>Foster City - Hillsdale Mall</td>\n",
       "      <td>Foster City - Hillsdale Mall</td>\n",
       "      <td>61.06</td>\n",
       "      <td>61.06</td>\n",
       "    </tr>\n",
       "    <tr>\n",
       "      <th>50</th>\n",
       "      <td>Route 199 Hiouchi / Gasquet</td>\n",
       "      <td>Route 199 Hiouchi / Gasquet</td>\n",
       "      <td>54.57</td>\n",
       "      <td>65.02</td>\n",
       "    </tr>\n",
       "    <tr>\n",
       "      <th>51</th>\n",
       "      <td>Squaw Valley, Tahoe City, West Shore</td>\n",
       "      <td>Squaw Valley, Tahoe City, West Shore</td>\n",
       "      <td>59.15</td>\n",
       "      <td>55.37</td>\n",
       "    </tr>\n",
       "    <tr>\n",
       "      <th>53</th>\n",
       "      <td>Truckee, Northstar</td>\n",
       "      <td>Truckee, Northstar</td>\n",
       "      <td>62.17</td>\n",
       "      <td>64.77</td>\n",
       "    </tr>\n",
       "    <tr>\n",
       "      <th>55</th>\n",
       "      <td>Carnelian Bay Tahoe Vista, Kings Beach, Crystal Bay, Incline Village</td>\n",
       "      <td>Carnelian Bay Tahoe Vista, Kings Beach, Crystal Bay, Incline Village</td>\n",
       "      <td>11.70</td>\n",
       "      <td>11.70</td>\n",
       "    </tr>\n",
       "    <tr>\n",
       "      <th>59</th>\n",
       "      <td>Route 3 Green</td>\n",
       "      <td>Route 3 Green</td>\n",
       "      <td>68.98</td>\n",
       "      <td>68.99</td>\n",
       "    </tr>\n",
       "    <tr>\n",
       "      <th>60</th>\n",
       "      <td>FSL</td>\n",
       "      <td>FSL</td>\n",
       "      <td>34.93</td>\n",
       "      <td>34.93</td>\n",
       "    </tr>\n",
       "    <tr>\n",
       "      <th>62</th>\n",
       "      <td>Piru Loop</td>\n",
       "      <td>Piru Loop</td>\n",
       "      <td>65.64</td>\n",
       "      <td>65.64</td>\n",
       "    </tr>\n",
       "    <tr>\n",
       "      <th>66</th>\n",
       "      <td>The Garibaldi</td>\n",
       "      <td>The Garibaldi</td>\n",
       "      <td>58.82</td>\n",
       "      <td>66.19</td>\n",
       "    </tr>\n",
       "    <tr>\n",
       "      <th>67</th>\n",
       "      <td>395 Route North</td>\n",
       "      <td>395 Route North</td>\n",
       "      <td>59.20</td>\n",
       "      <td>62.52</td>\n",
       "    </tr>\n",
       "    <tr>\n",
       "      <th>69</th>\n",
       "      <td>Bridgeport-Gardnerville</td>\n",
       "      <td>Bridgeport-Gardnerville</td>\n",
       "      <td>47.01</td>\n",
       "      <td>55.24</td>\n",
       "    </tr>\n",
       "    <tr>\n",
       "      <th>71</th>\n",
       "      <td>Merced HWY 140</td>\n",
       "      <td>Merced HWY 140</td>\n",
       "      <td>65.09</td>\n",
       "      <td>51.45</td>\n",
       "    </tr>\n",
       "    <tr>\n",
       "      <th>72</th>\n",
       "      <td>Mammoth Lakes HWY 120E/395</td>\n",
       "      <td>Mammoth Lakes HWY 120E/395</td>\n",
       "      <td>51.33</td>\n",
       "      <td>45.81</td>\n",
       "    </tr>\n",
       "    <tr>\n",
       "      <th>74</th>\n",
       "      <td>Wine Country Express</td>\n",
       "      <td>Wine Country Express</td>\n",
       "      <td>60.56</td>\n",
       "      <td>59.84</td>\n",
       "    </tr>\n",
       "    <tr>\n",
       "      <th>76</th>\n",
       "      <td>Oakland - San Francisco</td>\n",
       "      <td>Oakland - San Francisco</td>\n",
       "      <td>66.36</td>\n",
       "      <td>68.28</td>\n",
       "    </tr>\n",
       "    <tr>\n",
       "      <th>81</th>\n",
       "      <td>Long Beach/San Pedro</td>\n",
       "      <td>Long Beach/San Pedro</td>\n",
       "      <td>58.87</td>\n",
       "      <td>61.41</td>\n",
       "    </tr>\n",
       "    <tr>\n",
       "      <th>83</th>\n",
       "      <td>Rt 9. Transit Center to PVH via Alvin Ave.</td>\n",
       "      <td>Rt 9. Transit Center to PVH via Alvin Ave.</td>\n",
       "      <td>65.18</td>\n",
       "      <td>65.93</td>\n",
       "    </tr>\n",
       "    <tr>\n",
       "      <th>86</th>\n",
       "      <td>Line 2</td>\n",
       "      <td>Line 2</td>\n",
       "      <td>49.64</td>\n",
       "      <td>54.85</td>\n",
       "    </tr>\n",
       "    <tr>\n",
       "      <th>91</th>\n",
       "      <td>Shuttle to San Francisco Transbay Terminal</td>\n",
       "      <td>Shuttle to San Francisco Transbay Terminal</td>\n",
       "      <td>59.97</td>\n",
       "      <td>61.47</td>\n",
       "    </tr>\n",
       "  </tbody>\n",
       "</table>\n",
       "</div>"
      ],
      "text/plain": [
       "                                                                                                                                                            route_name_att  \\\n",
       "0                                                                                                                                                   Guerneville, Monte Rio   \n",
       "1                                                                                                                                                           Sonora HWY 120   \n",
       "4                                                                                                                                                         Planada Commuter   \n",
       "5                                                                                                                                                                     None   \n",
       "16                                                                                                                            Avocado Heights/Bassett/West Valinda Shuttle   \n",
       "25                                                                                                                              Edmund D. Edelman Children’s Court Shuttle   \n",
       "34  The Gold Route is operated by Arcata and Mad River Transit System and serves downtown Arcata, Humboldt State University, Valley West Shopping Center, and Alliance Rd.   \n",
       "38                                                                                                                                                     South Main & Walnut   \n",
       "42                                                                                                                                          Grass Valley to North San Juan   \n",
       "43                                                                                       Route between Weaverville and Hayfork.  Connects to Redding Line in Douglas City.   \n",
       "44                                                                                                                                                           Lewiston Line   \n",
       "45             Route travels through all down-river communities between Weaverville and Willow Creek.  Key route to the coast; connects with RTS service to Arcata/Eureka.   \n",
       "47                                                                                                                                                     South Coast / Ukiah   \n",
       "49                                                                                                                                            Foster City - Hillsdale Mall   \n",
       "50                                                                                                                                             Route 199 Hiouchi / Gasquet   \n",
       "51                                                                                                                                    Squaw Valley, Tahoe City, West Shore   \n",
       "53                                                                                                                                                      Truckee, Northstar   \n",
       "55                                                                                                    Carnelian Bay Tahoe Vista, Kings Beach, Crystal Bay, Incline Village   \n",
       "59                                                                                                                                                           Route 3 Green   \n",
       "60                                                                                                                                                                     FSL   \n",
       "62                                                                                                                                                               Piru Loop   \n",
       "66                                                                                                                                                           The Garibaldi   \n",
       "67                                                                                                                                                         395 Route North   \n",
       "69                                                                                                                                                 Bridgeport-Gardnerville   \n",
       "71                                                                                                                                                          Merced HWY 140   \n",
       "72                                                                                                                                              Mammoth Lakes HWY 120E/395   \n",
       "74                                                                                                                                                    Wine Country Express   \n",
       "76                                                                                                                                                 Oakland - San Francisco   \n",
       "81                                                                                                                                                    Long Beach/San Pedro   \n",
       "83                                                                                                                              Rt 9. Transit Center to PVH via Alvin Ave.   \n",
       "86                                                                                                                                                                  Line 2   \n",
       "91                                                                                                                              Shuttle to San Francisco Transbay Terminal   \n",
       "\n",
       "                                                                                                                                                        route_name_verizon  \\\n",
       "0                                                                                                                                                   Guerneville, Monte Rio   \n",
       "1                                                                                                                                                           Sonora HWY 120   \n",
       "4                                                                                                                                                         Planada Commuter   \n",
       "5                                                                                                                                                                     None   \n",
       "16                                                                                                                            Avocado Heights/Bassett/West Valinda Shuttle   \n",
       "25                                                                                                                              Edmund D. Edelman Children’s Court Shuttle   \n",
       "34  The Gold Route is operated by Arcata and Mad River Transit System and serves downtown Arcata, Humboldt State University, Valley West Shopping Center, and Alliance Rd.   \n",
       "38                                                                                                                                                     South Main & Walnut   \n",
       "42                                                                                                                                          Grass Valley to North San Juan   \n",
       "43                                                                                       Route between Weaverville and Hayfork.  Connects to Redding Line in Douglas City.   \n",
       "44                                                                                                                                                           Lewiston Line   \n",
       "45             Route travels through all down-river communities between Weaverville and Willow Creek.  Key route to the coast; connects with RTS service to Arcata/Eureka.   \n",
       "47                                                                                                                                                     South Coast / Ukiah   \n",
       "49                                                                                                                                            Foster City - Hillsdale Mall   \n",
       "50                                                                                                                                             Route 199 Hiouchi / Gasquet   \n",
       "51                                                                                                                                    Squaw Valley, Tahoe City, West Shore   \n",
       "53                                                                                                                                                      Truckee, Northstar   \n",
       "55                                                                                                    Carnelian Bay Tahoe Vista, Kings Beach, Crystal Bay, Incline Village   \n",
       "59                                                                                                                                                           Route 3 Green   \n",
       "60                                                                                                                                                                     FSL   \n",
       "62                                                                                                                                                               Piru Loop   \n",
       "66                                                                                                                                                           The Garibaldi   \n",
       "67                                                                                                                                                         395 Route North   \n",
       "69                                                                                                                                                 Bridgeport-Gardnerville   \n",
       "71                                                                                                                                                          Merced HWY 140   \n",
       "72                                                                                                                                              Mammoth Lakes HWY 120E/395   \n",
       "74                                                                                                                                                    Wine Country Express   \n",
       "76                                                                                                                                                 Oakland - San Francisco   \n",
       "81                                                                                                                                                    Long Beach/San Pedro   \n",
       "83                                                                                                                              Rt 9. Transit Center to PVH via Alvin Ave.   \n",
       "86                                                                                                                                                                  Line 2   \n",
       "91                                                                                                                              Shuttle to San Francisco Transbay Terminal   \n",
       "\n",
       "    percentage_verizon  percentage_att  \n",
       "0                50.68           13.43  \n",
       "1                60.59           54.42  \n",
       "4                67.60           67.65  \n",
       "5                51.67           57.87  \n",
       "16               66.59           67.46  \n",
       "25               53.87           53.88  \n",
       "34               69.17           69.17  \n",
       "38               66.44           69.53  \n",
       "42               65.85           65.50  \n",
       "43               52.58           22.69  \n",
       "44               61.51           63.16  \n",
       "45               37.08           29.83  \n",
       "47               51.59           51.24  \n",
       "49               61.06           61.06  \n",
       "50               54.57           65.02  \n",
       "51               59.15           55.37  \n",
       "53               62.17           64.77  \n",
       "55               11.70           11.70  \n",
       "59               68.98           68.99  \n",
       "60               34.93           34.93  \n",
       "62               65.64           65.64  \n",
       "66               58.82           66.19  \n",
       "67               59.20           62.52  \n",
       "69               47.01           55.24  \n",
       "71               65.09           51.45  \n",
       "72               51.33           45.81  \n",
       "74               60.56           59.84  \n",
       "76               66.36           68.28  \n",
       "81               58.87           61.41  \n",
       "83               65.18           65.93  \n",
       "86               49.64           54.85  \n",
       "91               59.97           61.47  "
      ]
     },
     "execution_count": 199,
     "metadata": {},
     "output_type": "execute_result"
    }
   ],
   "source": [
    "m1.loc[m1[\"_merge\"] == \"both\"][\n",
    "    [  \"route_name_att\",\n",
    "        \"route_name_verizon\",\n",
    "        \"percentage_verizon\",\n",
    "        \"percentage_att\"\n",
    "\n",
    "    ]\n",
    "].drop_duplicates(subset = [\"route_name_att\"])"
   ]
  },
  {
   "cell_type": "markdown",
   "id": "b1b25205-a1b1-4985-b56b-019db0f9b618",
   "metadata": {},
   "source": [
    "#### Check a left only value for Verizon\n",
    "* Left only routes have more than 70% coverage through Verizon."
   ]
  },
  {
   "cell_type": "code",
   "execution_count": 200,
   "id": "2b7d258d-ec31-4df6-95aa-a8dbacd53bd9",
   "metadata": {},
   "outputs": [
    {
     "data": {
      "text/html": [
       "<div>\n",
       "<style scoped>\n",
       "    .dataframe tbody tr th:only-of-type {\n",
       "        vertical-align: middle;\n",
       "    }\n",
       "\n",
       "    .dataframe tbody tr th {\n",
       "        vertical-align: top;\n",
       "    }\n",
       "\n",
       "    .dataframe thead th {\n",
       "        text-align: right;\n",
       "    }\n",
       "</style>\n",
       "<table border=\"1\" class=\"dataframe\">\n",
       "  <thead>\n",
       "    <tr style=\"text-align: right;\">\n",
       "      <th></th>\n",
       "      <th>route_name_verizon</th>\n",
       "      <th>percentage_verizon</th>\n",
       "    </tr>\n",
       "  </thead>\n",
       "  <tbody>\n",
       "    <tr>\n",
       "      <th>246</th>\n",
       "      <td>Ridgecrest Shuttle</td>\n",
       "      <td>99.99</td>\n",
       "    </tr>\n",
       "  </tbody>\n",
       "</table>\n",
       "</div>"
      ],
      "text/plain": [
       "     route_name_verizon  percentage_verizon\n",
       "246  Ridgecrest Shuttle               99.99"
      ]
     },
     "execution_count": 200,
     "metadata": {},
     "output_type": "execute_result"
    }
   ],
   "source": [
    "verizon_m1.loc[verizon_m1[\"route_name_verizon\"] == \"Ridgecrest Shuttle\"][\n",
    "    [\n",
    "        \"route_name_verizon\",\n",
    "        \"percentage_verizon\",\n",
    "    ]\n",
    "]"
   ]
  },
  {
   "cell_type": "code",
   "execution_count": 201,
   "id": "361dc7a3-97f4-4a3d-be2c-79140b621db2",
   "metadata": {},
   "outputs": [
    {
     "data": {
      "text/html": [
       "<div>\n",
       "<style scoped>\n",
       "    .dataframe tbody tr th:only-of-type {\n",
       "        vertical-align: middle;\n",
       "    }\n",
       "\n",
       "    .dataframe tbody tr th {\n",
       "        vertical-align: top;\n",
       "    }\n",
       "\n",
       "    .dataframe thead th {\n",
       "        text-align: right;\n",
       "    }\n",
       "</style>\n",
       "<table border=\"1\" class=\"dataframe\">\n",
       "  <thead>\n",
       "    <tr style=\"text-align: right;\">\n",
       "      <th></th>\n",
       "      <th>route_name_verizon</th>\n",
       "      <th>percentage_verizon</th>\n",
       "    </tr>\n",
       "  </thead>\n",
       "  <tbody>\n",
       "    <tr>\n",
       "      <th>2719</th>\n",
       "      <td>Mainline AM/PM</td>\n",
       "      <td>72.45</td>\n",
       "    </tr>\n",
       "    <tr>\n",
       "      <th>2720</th>\n",
       "      <td>Mainline AM/PM</td>\n",
       "      <td>72.45</td>\n",
       "    </tr>\n",
       "  </tbody>\n",
       "</table>\n",
       "</div>"
      ],
      "text/plain": [
       "     route_name_verizon  percentage_verizon\n",
       "2719     Mainline AM/PM               72.45\n",
       "2720     Mainline AM/PM               72.45"
      ]
     },
     "execution_count": 201,
     "metadata": {},
     "output_type": "execute_result"
    }
   ],
   "source": [
    "verizon_m1.loc[verizon_m1[\"route_name_verizon\"] == \"Mainline AM/PM\"][\n",
    "    [\n",
    "        \"route_name_verizon\",\n",
    "        \"percentage_verizon\",\n",
    "    ]\n",
    "]"
   ]
  },
  {
   "cell_type": "code",
   "execution_count": 202,
   "id": "43f6a0c9-f7b4-41ed-a193-061d182e7b32",
   "metadata": {},
   "outputs": [],
   "source": [
    "# Filter out for only both, these are routes that really dont have any more than 60% cellular coverage among AT&T and Verizon\n",
    "m1 = m1.loc[m1[\"_merge\"] == \"both\"]"
   ]
  },
  {
   "cell_type": "code",
   "execution_count": 203,
   "id": "cadeb80a-2fb8-4409-b5a1-39d55548ab8a",
   "metadata": {},
   "outputs": [],
   "source": [
    "m1 = m1.drop(columns=[\"_merge\"])"
   ]
  },
  {
   "cell_type": "markdown",
   "id": "01e0d1a6-f346-4131-b1b0-42bcf9769ce0",
   "metadata": {},
   "source": [
    "### Merge m1 with T-Mobile"
   ]
  },
  {
   "cell_type": "code",
   "execution_count": 204,
   "id": "9f138202-578c-42c9-8cd5-fd7d3be67bc3",
   "metadata": {},
   "outputs": [],
   "source": [
    "# Merge att & verizon coverage\n",
    "m2 = pd.merge(\n",
    "    m1,\n",
    "    low_tmobile_coverage,\n",
    "    how=\"outer\",\n",
    "    left_on=[\"route_id_att\", \"route_name_att\", \"agency_att\", \"itp_id_att\"],\n",
    "    right_on=[\n",
    "        \"route_id_tmobile\",\n",
    "        \"route_name_tmobile\",\n",
    "        \"agency_tmobile\",\n",
    "        \"itp_id_tmobile\",\n",
    "    ],\n",
    "    indicator=True,\n",
    ")"
   ]
  },
  {
   "cell_type": "code",
   "execution_count": 205,
   "id": "13f2c819-e902-4aec-a87d-b93ca300557e",
   "metadata": {},
   "outputs": [],
   "source": [
    "# Turn to gpd\n",
    "m1 = gpd.GeoDataFrame(m1, geometry = 'geometry_overlay_verizon', crs = \"EPSG:4326\") "
   ]
  },
  {
   "cell_type": "code",
   "execution_count": 206,
   "id": "2df7ab66-0473-4176-bdbc-c42d8b0352b4",
   "metadata": {},
   "outputs": [
    {
     "data": {
      "text/plain": [
       "both          55\n",
       "right_only    27\n",
       "left_only      9\n",
       "Name: _merge, dtype: int64"
      ]
     },
     "execution_count": 206,
     "metadata": {},
     "output_type": "execute_result"
    }
   ],
   "source": [
    "m2[\"_merge\"].value_counts()"
   ]
  },
  {
   "cell_type": "code",
   "execution_count": 207,
   "id": "21002b8c-e77d-41b3-8448-16f3f6233abf",
   "metadata": {},
   "outputs": [],
   "source": [
    "# Filter out for only both, these are routes that really dont have any more than treshold % cellular coverage among all 3\n",
    "m3 = m2.loc[m2[\"_merge\"] == \"both\"]"
   ]
  },
  {
   "cell_type": "code",
   "execution_count": 208,
   "id": "ca9d0afc-63e0-40a6-848f-bbc993f79b89",
   "metadata": {},
   "outputs": [
    {
     "data": {
      "text/html": [
       "<div>\n",
       "<style scoped>\n",
       "    .dataframe tbody tr th:only-of-type {\n",
       "        vertical-align: middle;\n",
       "    }\n",
       "\n",
       "    .dataframe tbody tr th {\n",
       "        vertical-align: top;\n",
       "    }\n",
       "\n",
       "    .dataframe thead th {\n",
       "        text-align: right;\n",
       "    }\n",
       "</style>\n",
       "<table border=\"1\" class=\"dataframe\">\n",
       "  <thead>\n",
       "    <tr style=\"text-align: right;\">\n",
       "      <th></th>\n",
       "      <th>route_name_verizon</th>\n",
       "      <th>percentage_verizon</th>\n",
       "    </tr>\n",
       "  </thead>\n",
       "  <tbody>\n",
       "    <tr>\n",
       "      <th>1038</th>\n",
       "      <td>The Coaster</td>\n",
       "      <td>86.87</td>\n",
       "    </tr>\n",
       "  </tbody>\n",
       "</table>\n",
       "</div>"
      ],
      "text/plain": [
       "     route_name_verizon  percentage_verizon\n",
       "1038        The Coaster               86.87"
      ]
     },
     "execution_count": 208,
     "metadata": {},
     "output_type": "execute_result"
    }
   ],
   "source": [
    "verizon_m1.loc[verizon_m1[\"route_name_verizon\"] == \"The Coaster\"][\n",
    "    [\n",
    "        \"route_name_verizon\",\n",
    "        \"percentage_verizon\",\n",
    "    ]\n",
    "]"
   ]
  },
  {
   "cell_type": "code",
   "execution_count": 209,
   "id": "6919add2-9f76-44b5-b60a-7104ae9a4897",
   "metadata": {},
   "outputs": [],
   "source": [
    "m3 = m3.drop(columns=[\"_merge\"])"
   ]
  },
  {
   "cell_type": "code",
   "execution_count": 210,
   "id": "c846db81-c0b1-4545-b91e-1bcaf86c6923",
   "metadata": {},
   "outputs": [
    {
     "data": {
      "text/plain": [
       "geopandas.geodataframe.GeoDataFrame"
      ]
     },
     "execution_count": 210,
     "metadata": {},
     "output_type": "execute_result"
    }
   ],
   "source": [
    "type(m3)"
   ]
  },
  {
   "cell_type": "markdown",
   "id": "260a821a-0246-4176-abf3-3a8dd1687722",
   "metadata": {},
   "source": [
    "# Add trips"
   ]
  },
  {
   "cell_type": "code",
   "execution_count": 211,
   "id": "9d537c04-f42d-455e-99ba-d293b4517909",
   "metadata": {},
   "outputs": [],
   "source": [
    "trips_df = utilities.load_clean_trips_df()"
   ]
  },
  {
   "cell_type": "code",
   "execution_count": 212,
   "id": "6220f4ec-9f7f-4c53-b034-cb0bf5a262b2",
   "metadata": {},
   "outputs": [],
   "source": [
    "# Merge the 2 filtered at&t and verizon dataframes so we can see which routes overlap\n",
    "m4 = pd.merge(\n",
    "    m3,\n",
    "    trips_df,\n",
    "    how=\"left\",\n",
    "    left_on=[\"route_id_att\", \"itp_id_att\"],\n",
    "    right_on=[\"route_id\", \"calitp_itp_id\"],\n",
    "    indicator=True,\n",
    ")"
   ]
  },
  {
   "cell_type": "code",
   "execution_count": 213,
   "id": "aaeade15-6dba-4a12-bda1-1faa9de3e49a",
   "metadata": {},
   "outputs": [
    {
     "data": {
      "text/plain": [
       "both          46\n",
       "left_only      9\n",
       "right_only     0\n",
       "Name: _merge, dtype: int64"
      ]
     },
     "execution_count": 213,
     "metadata": {},
     "output_type": "execute_result"
    }
   ],
   "source": [
    "m4[\"_merge\"].value_counts()"
   ]
  },
  {
   "cell_type": "code",
   "execution_count": 214,
   "id": "5153adc2-1072-4138-a6df-df9700a0608f",
   "metadata": {},
   "outputs": [
    {
     "data": {
      "text/plain": [
       "24"
      ]
     },
     "execution_count": 214,
     "metadata": {},
     "output_type": "execute_result"
    }
   ],
   "source": [
    "m4.route_id.nunique()"
   ]
  },
  {
   "cell_type": "code",
   "execution_count": 215,
   "id": "03138787-555b-49c7-9c89-2be7c304bdea",
   "metadata": {},
   "outputs": [],
   "source": [
    "m4 = m4.drop(columns=[\"_merge\"])"
   ]
  },
  {
   "cell_type": "code",
   "execution_count": 226,
   "id": "f9d65f2b-f5fa-4008-855e-580aeb16d2d7",
   "metadata": {},
   "outputs": [
    {
     "data": {
      "text/plain": [
       "geopandas.geodataframe.GeoDataFrame"
      ]
     },
     "execution_count": 226,
     "metadata": {},
     "output_type": "execute_result"
    }
   ],
   "source": [
    "type(m4)"
   ]
  },
  {
   "cell_type": "markdown",
   "id": "91e75bd9-2c0d-4fc0-a384-e83de3dc11d7",
   "metadata": {},
   "source": [
    "# Add NTD\n",
    "* How to incorporate total trips w/ total buses?"
   ]
  },
  {
   "cell_type": "code",
   "execution_count": 217,
   "id": "463f2e92-86b2-499b-9e0a-306ba5a7f559",
   "metadata": {
    "scrolled": true,
    "tags": []
   },
   "outputs": [],
   "source": [
    "# m4[\"agency_att\"].sort_values().unique()"
   ]
  },
  {
   "cell_type": "code",
   "execution_count": 218,
   "id": "87e35782-c20b-47ba-87b6-5161bb8a4607",
   "metadata": {},
   "outputs": [],
   "source": [
    "# Load NTD vehicles\n",
    "ntd_df = utilities.ntd_vehicles()"
   ]
  },
  {
   "cell_type": "code",
   "execution_count": 219,
   "id": "81a83fe4-10ca-4a0a-a705-8b4cbeadb242",
   "metadata": {
    "scrolled": true,
    "tags": []
   },
   "outputs": [],
   "source": [
    "# ntd_df[\"agency\"].sort_values().unique().tolist()"
   ]
  },
  {
   "cell_type": "code",
   "execution_count": 220,
   "id": "e74f09dc-4957-42c0-972d-d1ff8d26b8ba",
   "metadata": {},
   "outputs": [],
   "source": [
    "# Replace agency names in NTD to match m4 above\n",
    "ntd_df[\"agency\"] = ntd_df[\"agency\"].replace(\n",
    "    {\n",
    "        \"Trinity County\": \"Trinity Transit\",\n",
    "        \"City of Calabasas\": \"Calabasas Transit System\",\n",
    "        \"County of Sonoma\": \"Sonoma County Transit\",\n",
    "        \"Tehama County\": \"Tehama Rural Area eXpress\",\n",
    "        \"Los Angeles County Department of Public Works - East L.A.\": \"East Los Angeles Shuttle\",\n",
    "        \"Sacramento Regional Transit District\": \"Sacramento Regional Transit District\",\n",
    "        \"Eastern Sierra Transit Authority\": \"Mammoth Lakes Transit System\",\n",
    "        \"City of Lompoc\": \"City of Lompoc Transit\",\n",
    "        \"San Luis Obispo Regional Transit Authority\": \"South County Transit Link\",\n",
    "        \"City of Roseville\": \"Roseville Transit\",\n",
    "         \"Los Angeles County Dept. of Public Works - Athens Shuttle Service\": \"the Link-Athens\",\n",
    "        'Los Angeles County Department of Public Works - Avocado Heights':'Avocado Heights/Bassett/West Valinda Shuttle',\n",
    "        'Susanville Indian Rancheria': \"Susanville Indian Rancheria Public Transportation Program\",\n",
    "    }\n",
    ")"
   ]
  },
  {
   "cell_type": "code",
   "execution_count": 221,
   "id": "fbe3c094-0b5f-46a1-a389-416e0ffc2515",
   "metadata": {},
   "outputs": [],
   "source": [
    "# Replace agency names in agency4 to match ntd\n",
    "m4['agency_att'] = m4['agency_att'].replace(\n",
    "    {\n",
    "        \"Cloverdale Transit\":\"Sonoma County Transit\",\n",
    "    }\n",
    ")"
   ]
  },
  {
   "cell_type": "code",
   "execution_count": 222,
   "id": "019d9f40-684d-4d7a-9ff5-6de1b994329e",
   "metadata": {},
   "outputs": [],
   "source": [
    "m5 = pd.merge(\n",
    "    m4,\n",
    "    ntd_df,\n",
    "    how=\"left\",\n",
    "    left_on=\"agency_att\",\n",
    "    right_on=\"agency\",\n",
    "    indicator=True,\n",
    ")"
   ]
  },
  {
   "cell_type": "code",
   "execution_count": 223,
   "id": "403b5b3b-9cca-4f75-84eb-48bd8a716032",
   "metadata": {},
   "outputs": [
    {
     "data": {
      "text/plain": [
       "both          30\n",
       "left_only     25\n",
       "right_only     0\n",
       "Name: _merge, dtype: int64"
      ]
     },
     "execution_count": 223,
     "metadata": {},
     "output_type": "execute_result"
    }
   ],
   "source": [
    "m5[\"_merge\"].value_counts()"
   ]
  },
  {
   "cell_type": "code",
   "execution_count": 224,
   "id": "31db5932-d416-400d-8b8a-54657458dfef",
   "metadata": {},
   "outputs": [],
   "source": [
    "# Cols to shorten dataframe\n",
    "subset_cols =  [\n",
    "        \"route_id_att\",\n",
    "        \"route_name_att\",\n",
    "        \"agency_att\",\n",
    "        \"itp_id_att\",\n",
    "        \"percentage_att\",\n",
    "        \"percentage_verizon\",\n",
    "        \"percentage_tmobile\",\n",
    "        'total_buses',\n",
    "     'total_trips'\n",
    "    ]"
   ]
  },
  {
   "cell_type": "markdown",
   "id": "71fec63e-7c9f-4670-bcbb-60f8389ff6cd",
   "metadata": {},
   "source": [
    "# Final"
   ]
  },
  {
   "cell_type": "code",
   "execution_count": 225,
   "id": "7e18e5b5-3518-4ebb-8dbf-f1ce70a63acd",
   "metadata": {
    "scrolled": true,
    "tags": []
   },
   "outputs": [
    {
     "data": {
      "text/html": [
       "<div>\n",
       "<style scoped>\n",
       "    .dataframe tbody tr th:only-of-type {\n",
       "        vertical-align: middle;\n",
       "    }\n",
       "\n",
       "    .dataframe tbody tr th {\n",
       "        vertical-align: top;\n",
       "    }\n",
       "\n",
       "    .dataframe thead th {\n",
       "        text-align: right;\n",
       "    }\n",
       "</style>\n",
       "<table border=\"1\" class=\"dataframe\">\n",
       "  <thead>\n",
       "    <tr style=\"text-align: right;\">\n",
       "      <th></th>\n",
       "      <th>route_id_att</th>\n",
       "      <th>route_name_att</th>\n",
       "      <th>agency_att</th>\n",
       "      <th>itp_id_att</th>\n",
       "      <th>percentage_att</th>\n",
       "      <th>percentage_verizon</th>\n",
       "      <th>percentage_tmobile</th>\n",
       "      <th>total_buses</th>\n",
       "      <th>total_trips</th>\n",
       "    </tr>\n",
       "  </thead>\n",
       "  <tbody>\n",
       "    <tr>\n",
       "      <th>0</th>\n",
       "      <td>1042</td>\n",
       "      <td>Guerneville, Monte Rio</td>\n",
       "      <td>Sonoma County Transit</td>\n",
       "      <td>70.00</td>\n",
       "      <td>13.43</td>\n",
       "      <td>50.68</td>\n",
       "      <td>45.53</td>\n",
       "      <td>77.00</td>\n",
       "      <td>8.00</td>\n",
       "    </tr>\n",
       "    <tr>\n",
       "      <th>1</th>\n",
       "      <td>1094</td>\n",
       "      <td>Sonora HWY 120</td>\n",
       "      <td>Yosemite Area Regional Transportation System</td>\n",
       "      <td>374.00</td>\n",
       "      <td>54.42</td>\n",
       "      <td>60.59</td>\n",
       "      <td>53.88</td>\n",
       "      <td>10.00</td>\n",
       "      <td>NaN</td>\n",
       "    </tr>\n",
       "    <tr>\n",
       "      <th>2</th>\n",
       "      <td>1210</td>\n",
       "      <td>Planada Commuter</td>\n",
       "      <td>Merced The Bus</td>\n",
       "      <td>343.00</td>\n",
       "      <td>67.65</td>\n",
       "      <td>67.60</td>\n",
       "      <td>65.18</td>\n",
       "      <td>NaN</td>\n",
       "      <td>6.00</td>\n",
       "    </tr>\n",
       "    <tr>\n",
       "      <th>3</th>\n",
       "      <td>1292</td>\n",
       "      <td>None</td>\n",
       "      <td>Susanville Indian Rancheria Public Transportation Program</td>\n",
       "      <td>329.00</td>\n",
       "      <td>57.87</td>\n",
       "      <td>51.67</td>\n",
       "      <td>30.49</td>\n",
       "      <td>4.00</td>\n",
       "      <td>2.00</td>\n",
       "    </tr>\n",
       "    <tr>\n",
       "      <th>4</th>\n",
       "      <td>13050</td>\n",
       "      <td>Avocado Heights/Bassett/West Valinda Shuttle</td>\n",
       "      <td>Avocado Heights/Bassett/West Valinda Shuttle</td>\n",
       "      <td>171.00</td>\n",
       "      <td>67.46</td>\n",
       "      <td>66.59</td>\n",
       "      <td>67.46</td>\n",
       "      <td>4.00</td>\n",
       "      <td>23.00</td>\n",
       "    </tr>\n",
       "    <tr>\n",
       "      <th>5</th>\n",
       "      <td>13054</td>\n",
       "      <td>Edmund D. Edelman Children’s Court Shuttle</td>\n",
       "      <td>Avocado Heights/Bassett/West Valinda Shuttle</td>\n",
       "      <td>171.00</td>\n",
       "      <td>53.88</td>\n",
       "      <td>53.87</td>\n",
       "      <td>53.88</td>\n",
       "      <td>4.00</td>\n",
       "      <td>49.00</td>\n",
       "    </tr>\n",
       "    <tr>\n",
       "      <th>6</th>\n",
       "      <td>14</td>\n",
       "      <td>The Gold Route is operated by Arcata and Mad River Transit System and serves downtown Arcata, Humboldt State University, Valley West Shopping Center, and Alliance Rd.</td>\n",
       "      <td>Arcata and Mad River Transit System</td>\n",
       "      <td>18.00</td>\n",
       "      <td>69.17</td>\n",
       "      <td>69.17</td>\n",
       "      <td>63.89</td>\n",
       "      <td>NaN</td>\n",
       "      <td>6.00</td>\n",
       "    </tr>\n",
       "    <tr>\n",
       "      <th>7</th>\n",
       "      <td>144</td>\n",
       "      <td>South Main &amp; Walnut</td>\n",
       "      <td>Susanville Indian Rancheria Public Transportation Program</td>\n",
       "      <td>329.00</td>\n",
       "      <td>69.53</td>\n",
       "      <td>66.44</td>\n",
       "      <td>69.53</td>\n",
       "      <td>4.00</td>\n",
       "      <td>11.00</td>\n",
       "    </tr>\n",
       "    <tr>\n",
       "      <th>8</th>\n",
       "      <td>16672</td>\n",
       "      <td>Grass Valley to North San Juan</td>\n",
       "      <td>Gold Country Stage</td>\n",
       "      <td>221.00</td>\n",
       "      <td>65.50</td>\n",
       "      <td>65.85</td>\n",
       "      <td>67.56</td>\n",
       "      <td>NaN</td>\n",
       "      <td>10.00</td>\n",
       "    </tr>\n",
       "    <tr>\n",
       "      <th>9</th>\n",
       "      <td>178</td>\n",
       "      <td>Route between Weaverville and Hayfork.  Connects to Redding Line in Douglas City.</td>\n",
       "      <td>Trinity Transit</td>\n",
       "      <td>344.00</td>\n",
       "      <td>22.69</td>\n",
       "      <td>52.58</td>\n",
       "      <td>38.99</td>\n",
       "      <td>7.00</td>\n",
       "      <td>8.00</td>\n",
       "    </tr>\n",
       "    <tr>\n",
       "      <th>10</th>\n",
       "      <td>180</td>\n",
       "      <td>Lewiston Line</td>\n",
       "      <td>Trinity Transit</td>\n",
       "      <td>344.00</td>\n",
       "      <td>63.16</td>\n",
       "      <td>61.51</td>\n",
       "      <td>51.37</td>\n",
       "      <td>7.00</td>\n",
       "      <td>6.00</td>\n",
       "    </tr>\n",
       "    <tr>\n",
       "      <th>11</th>\n",
       "      <td>181</td>\n",
       "      <td>Route travels through all down-river communities between Weaverville and Willow Creek.  Key route to the coast; connects with RTS service to Arcata/Eureka.</td>\n",
       "      <td>Trinity Transit</td>\n",
       "      <td>344.00</td>\n",
       "      <td>29.83</td>\n",
       "      <td>37.08</td>\n",
       "      <td>35.12</td>\n",
       "      <td>7.00</td>\n",
       "      <td>4.00</td>\n",
       "    </tr>\n",
       "    <tr>\n",
       "      <th>12</th>\n",
       "      <td>225</td>\n",
       "      <td>South Coast / Ukiah</td>\n",
       "      <td>Mendocino Transit Authority</td>\n",
       "      <td>198.00</td>\n",
       "      <td>51.24</td>\n",
       "      <td>51.59</td>\n",
       "      <td>49.86</td>\n",
       "      <td>35.00</td>\n",
       "      <td>4.00</td>\n",
       "    </tr>\n",
       "    <tr>\n",
       "      <th>13</th>\n",
       "      <td>251</td>\n",
       "      <td>Foster City - Hillsdale Mall</td>\n",
       "      <td>SamTrans</td>\n",
       "      <td>290.00</td>\n",
       "      <td>61.06</td>\n",
       "      <td>61.06</td>\n",
       "      <td>61.06</td>\n",
       "      <td>NaN</td>\n",
       "      <td>18.00</td>\n",
       "    </tr>\n",
       "    <tr>\n",
       "      <th>14</th>\n",
       "      <td>257</td>\n",
       "      <td>Route 199 Hiouchi / Gasquet</td>\n",
       "      <td>Redwood Coast Transit</td>\n",
       "      <td>261.00</td>\n",
       "      <td>65.02</td>\n",
       "      <td>54.57</td>\n",
       "      <td>54.78</td>\n",
       "      <td>NaN</td>\n",
       "      <td>4.00</td>\n",
       "    </tr>\n",
       "    <tr>\n",
       "      <th>15</th>\n",
       "      <td>28</td>\n",
       "      <td>Guerneville, Monte Rio</td>\n",
       "      <td>Sonoma County Transit</td>\n",
       "      <td>314.00</td>\n",
       "      <td>13.43</td>\n",
       "      <td>50.68</td>\n",
       "      <td>45.53</td>\n",
       "      <td>77.00</td>\n",
       "      <td>4.00</td>\n",
       "    </tr>\n",
       "    <tr>\n",
       "      <th>16</th>\n",
       "      <td>3</td>\n",
       "      <td>Route 3 Green</td>\n",
       "      <td>City of Lompoc Transit</td>\n",
       "      <td>169.00</td>\n",
       "      <td>68.99</td>\n",
       "      <td>68.98</td>\n",
       "      <td>68.99</td>\n",
       "      <td>13.00</td>\n",
       "      <td>NaN</td>\n",
       "    </tr>\n",
       "    <tr>\n",
       "      <th>17</th>\n",
       "      <td>30</td>\n",
       "      <td>FSL</td>\n",
       "      <td>Sacramento Regional Transit District</td>\n",
       "      <td>273.00</td>\n",
       "      <td>34.93</td>\n",
       "      <td>34.93</td>\n",
       "      <td>34.93</td>\n",
       "      <td>295.00</td>\n",
       "      <td>19.00</td>\n",
       "    </tr>\n",
       "    <tr>\n",
       "      <th>18</th>\n",
       "      <td>3572</td>\n",
       "      <td>None</td>\n",
       "      <td>Spirit Bus</td>\n",
       "      <td>207.00</td>\n",
       "      <td>67.28</td>\n",
       "      <td>67.23</td>\n",
       "      <td>67.28</td>\n",
       "      <td>NaN</td>\n",
       "      <td>NaN</td>\n",
       "    </tr>\n",
       "    <tr>\n",
       "      <th>19</th>\n",
       "      <td>3639</td>\n",
       "      <td>Piru Loop</td>\n",
       "      <td>Ventura County Transportation Commission</td>\n",
       "      <td>380.00</td>\n",
       "      <td>65.64</td>\n",
       "      <td>65.64</td>\n",
       "      <td>65.64</td>\n",
       "      <td>51.00</td>\n",
       "      <td>NaN</td>\n",
       "    </tr>\n",
       "    <tr>\n",
       "      <th>20</th>\n",
       "      <td>5490</td>\n",
       "      <td>The Garibaldi</td>\n",
       "      <td>Avalon Transit</td>\n",
       "      <td>24.00</td>\n",
       "      <td>66.19</td>\n",
       "      <td>58.82</td>\n",
       "      <td>60.92</td>\n",
       "      <td>NaN</td>\n",
       "      <td>13.00</td>\n",
       "    </tr>\n",
       "    <tr>\n",
       "      <th>21</th>\n",
       "      <td>566</td>\n",
       "      <td>Bridgeport-Gardnerville</td>\n",
       "      <td>Eastern Sierra Transit Authority</td>\n",
       "      <td>99.00</td>\n",
       "      <td>55.24</td>\n",
       "      <td>47.01</td>\n",
       "      <td>61.61</td>\n",
       "      <td>NaN</td>\n",
       "      <td>2.00</td>\n",
       "    </tr>\n",
       "    <tr>\n",
       "      <th>22</th>\n",
       "      <td>580</td>\n",
       "      <td>Merced HWY 140</td>\n",
       "      <td>Yosemite Area Regional Transportation System</td>\n",
       "      <td>374.00</td>\n",
       "      <td>51.45</td>\n",
       "      <td>65.09</td>\n",
       "      <td>56.80</td>\n",
       "      <td>10.00</td>\n",
       "      <td>12.00</td>\n",
       "    </tr>\n",
       "    <tr>\n",
       "      <th>23</th>\n",
       "      <td>582</td>\n",
       "      <td>Mammoth Lakes HWY 120E/395</td>\n",
       "      <td>Yosemite Area Regional Transportation System</td>\n",
       "      <td>374.00</td>\n",
       "      <td>45.81</td>\n",
       "      <td>51.33</td>\n",
       "      <td>40.59</td>\n",
       "      <td>10.00</td>\n",
       "      <td>NaN</td>\n",
       "    </tr>\n",
       "    <tr>\n",
       "      <th>24</th>\n",
       "      <td>6</td>\n",
       "      <td>None</td>\n",
       "      <td>Grapeline</td>\n",
       "      <td>168.00</td>\n",
       "      <td>68.63</td>\n",
       "      <td>68.40</td>\n",
       "      <td>68.63</td>\n",
       "      <td>NaN</td>\n",
       "      <td>1.00</td>\n",
       "    </tr>\n",
       "    <tr>\n",
       "      <th>25</th>\n",
       "      <td>705-240</td>\n",
       "      <td>Oakland - San Francisco</td>\n",
       "      <td>Golden Gate Bridge Highway and Transportation District</td>\n",
       "      <td>127.00</td>\n",
       "      <td>68.28</td>\n",
       "      <td>66.36</td>\n",
       "      <td>66.54</td>\n",
       "      <td>NaN</td>\n",
       "      <td>NaN</td>\n",
       "    </tr>\n",
       "    <tr>\n",
       "      <th>26</th>\n",
       "      <td>deltaroute</td>\n",
       "      <td>None</td>\n",
       "      <td>South County Transit Link</td>\n",
       "      <td>81.00</td>\n",
       "      <td>55.24</td>\n",
       "      <td>55.24</td>\n",
       "      <td>50.86</td>\n",
       "      <td>69.00</td>\n",
       "      <td>NaN</td>\n",
       "    </tr>\n",
       "    <tr>\n",
       "      <th>27</th>\n",
       "      <td>e3c2cf68-8f7e-4492-9646-e9a43cf2cf30</td>\n",
       "      <td>Rt 9. Transit Center to PVH via Alvin Ave.</td>\n",
       "      <td>Santa Maria Area Transit</td>\n",
       "      <td>298.00</td>\n",
       "      <td>65.93</td>\n",
       "      <td>65.18</td>\n",
       "      <td>65.93</td>\n",
       "      <td>NaN</td>\n",
       "      <td>NaN</td>\n",
       "    </tr>\n",
       "    <tr>\n",
       "      <th>28</th>\n",
       "      <td>line2</td>\n",
       "      <td>Line 2</td>\n",
       "      <td>Calabasas Transit System</td>\n",
       "      <td>49.00</td>\n",
       "      <td>54.85</td>\n",
       "      <td>49.64</td>\n",
       "      <td>54.85</td>\n",
       "      <td>14.00</td>\n",
       "      <td>6.00</td>\n",
       "    </tr>\n",
       "    <tr>\n",
       "      <th>29</th>\n",
       "      <td>m</td>\n",
       "      <td>None</td>\n",
       "      <td>Roseville Transit</td>\n",
       "      <td>271.00</td>\n",
       "      <td>58.82</td>\n",
       "      <td>58.56</td>\n",
       "      <td>58.82</td>\n",
       "      <td>35.00</td>\n",
       "      <td>17.00</td>\n",
       "    </tr>\n",
       "    <tr>\n",
       "      <th>30</th>\n",
       "      <td>r</td>\n",
       "      <td>None</td>\n",
       "      <td>Roseville Transit</td>\n",
       "      <td>271.00</td>\n",
       "      <td>69.03</td>\n",
       "      <td>66.81</td>\n",
       "      <td>69.03</td>\n",
       "      <td>35.00</td>\n",
       "      <td>4.00</td>\n",
       "    </tr>\n",
       "    <tr>\n",
       "      <th>31</th>\n",
       "      <td>sf</td>\n",
       "      <td>Shuttle to San Francisco Transbay Terminal</td>\n",
       "      <td>Capitol Corridor</td>\n",
       "      <td>56.00</td>\n",
       "      <td>61.47</td>\n",
       "      <td>59.97</td>\n",
       "      <td>59.38</td>\n",
       "      <td>NaN</td>\n",
       "      <td>22.00</td>\n",
       "    </tr>\n",
       "  </tbody>\n",
       "</table>\n",
       "</div>"
      ],
      "text/plain": [
       "                            route_id_att  \\\n",
       "0                                   1042   \n",
       "1                                   1094   \n",
       "2                                   1210   \n",
       "3                                   1292   \n",
       "4                                  13050   \n",
       "5                                  13054   \n",
       "6                                     14   \n",
       "7                                    144   \n",
       "8                                  16672   \n",
       "9                                    178   \n",
       "10                                   180   \n",
       "11                                   181   \n",
       "12                                   225   \n",
       "13                                   251   \n",
       "14                                   257   \n",
       "15                                    28   \n",
       "16                                     3   \n",
       "17                                    30   \n",
       "18                                  3572   \n",
       "19                                  3639   \n",
       "20                                  5490   \n",
       "21                                   566   \n",
       "22                                   580   \n",
       "23                                   582   \n",
       "24                                     6   \n",
       "25                               705-240   \n",
       "26                            deltaroute   \n",
       "27  e3c2cf68-8f7e-4492-9646-e9a43cf2cf30   \n",
       "28                                 line2   \n",
       "29                                     m   \n",
       "30                                     r   \n",
       "31                                    sf   \n",
       "\n",
       "                                                                                                                                                            route_name_att  \\\n",
       "0                                                                                                                                                   Guerneville, Monte Rio   \n",
       "1                                                                                                                                                           Sonora HWY 120   \n",
       "2                                                                                                                                                         Planada Commuter   \n",
       "3                                                                                                                                                                     None   \n",
       "4                                                                                                                             Avocado Heights/Bassett/West Valinda Shuttle   \n",
       "5                                                                                                                               Edmund D. Edelman Children’s Court Shuttle   \n",
       "6   The Gold Route is operated by Arcata and Mad River Transit System and serves downtown Arcata, Humboldt State University, Valley West Shopping Center, and Alliance Rd.   \n",
       "7                                                                                                                                                      South Main & Walnut   \n",
       "8                                                                                                                                           Grass Valley to North San Juan   \n",
       "9                                                                                        Route between Weaverville and Hayfork.  Connects to Redding Line in Douglas City.   \n",
       "10                                                                                                                                                           Lewiston Line   \n",
       "11             Route travels through all down-river communities between Weaverville and Willow Creek.  Key route to the coast; connects with RTS service to Arcata/Eureka.   \n",
       "12                                                                                                                                                     South Coast / Ukiah   \n",
       "13                                                                                                                                            Foster City - Hillsdale Mall   \n",
       "14                                                                                                                                             Route 199 Hiouchi / Gasquet   \n",
       "15                                                                                                                                                  Guerneville, Monte Rio   \n",
       "16                                                                                                                                                           Route 3 Green   \n",
       "17                                                                                                                                                                     FSL   \n",
       "18                                                                                                                                                                    None   \n",
       "19                                                                                                                                                               Piru Loop   \n",
       "20                                                                                                                                                           The Garibaldi   \n",
       "21                                                                                                                                                 Bridgeport-Gardnerville   \n",
       "22                                                                                                                                                          Merced HWY 140   \n",
       "23                                                                                                                                              Mammoth Lakes HWY 120E/395   \n",
       "24                                                                                                                                                                    None   \n",
       "25                                                                                                                                                 Oakland - San Francisco   \n",
       "26                                                                                                                                                                    None   \n",
       "27                                                                                                                              Rt 9. Transit Center to PVH via Alvin Ave.   \n",
       "28                                                                                                                                                                  Line 2   \n",
       "29                                                                                                                                                                    None   \n",
       "30                                                                                                                                                                    None   \n",
       "31                                                                                                                              Shuttle to San Francisco Transbay Terminal   \n",
       "\n",
       "                                                   agency_att  itp_id_att  \\\n",
       "0                                       Sonoma County Transit       70.00   \n",
       "1                Yosemite Area Regional Transportation System      374.00   \n",
       "2                                              Merced The Bus      343.00   \n",
       "3   Susanville Indian Rancheria Public Transportation Program      329.00   \n",
       "4                Avocado Heights/Bassett/West Valinda Shuttle      171.00   \n",
       "5                Avocado Heights/Bassett/West Valinda Shuttle      171.00   \n",
       "6                         Arcata and Mad River Transit System       18.00   \n",
       "7   Susanville Indian Rancheria Public Transportation Program      329.00   \n",
       "8                                          Gold Country Stage      221.00   \n",
       "9                                             Trinity Transit      344.00   \n",
       "10                                            Trinity Transit      344.00   \n",
       "11                                            Trinity Transit      344.00   \n",
       "12                                Mendocino Transit Authority      198.00   \n",
       "13                                                   SamTrans      290.00   \n",
       "14                                      Redwood Coast Transit      261.00   \n",
       "15                                      Sonoma County Transit      314.00   \n",
       "16                                     City of Lompoc Transit      169.00   \n",
       "17                       Sacramento Regional Transit District      273.00   \n",
       "18                                                 Spirit Bus      207.00   \n",
       "19                   Ventura County Transportation Commission      380.00   \n",
       "20                                             Avalon Transit       24.00   \n",
       "21                           Eastern Sierra Transit Authority       99.00   \n",
       "22               Yosemite Area Regional Transportation System      374.00   \n",
       "23               Yosemite Area Regional Transportation System      374.00   \n",
       "24                                                  Grapeline      168.00   \n",
       "25     Golden Gate Bridge Highway and Transportation District      127.00   \n",
       "26                                  South County Transit Link       81.00   \n",
       "27                                   Santa Maria Area Transit      298.00   \n",
       "28                                   Calabasas Transit System       49.00   \n",
       "29                                          Roseville Transit      271.00   \n",
       "30                                          Roseville Transit      271.00   \n",
       "31                                           Capitol Corridor       56.00   \n",
       "\n",
       "    percentage_att  percentage_verizon  percentage_tmobile  total_buses  \\\n",
       "0            13.43               50.68               45.53        77.00   \n",
       "1            54.42               60.59               53.88        10.00   \n",
       "2            67.65               67.60               65.18          NaN   \n",
       "3            57.87               51.67               30.49         4.00   \n",
       "4            67.46               66.59               67.46         4.00   \n",
       "5            53.88               53.87               53.88         4.00   \n",
       "6            69.17               69.17               63.89          NaN   \n",
       "7            69.53               66.44               69.53         4.00   \n",
       "8            65.50               65.85               67.56          NaN   \n",
       "9            22.69               52.58               38.99         7.00   \n",
       "10           63.16               61.51               51.37         7.00   \n",
       "11           29.83               37.08               35.12         7.00   \n",
       "12           51.24               51.59               49.86        35.00   \n",
       "13           61.06               61.06               61.06          NaN   \n",
       "14           65.02               54.57               54.78          NaN   \n",
       "15           13.43               50.68               45.53        77.00   \n",
       "16           68.99               68.98               68.99        13.00   \n",
       "17           34.93               34.93               34.93       295.00   \n",
       "18           67.28               67.23               67.28          NaN   \n",
       "19           65.64               65.64               65.64        51.00   \n",
       "20           66.19               58.82               60.92          NaN   \n",
       "21           55.24               47.01               61.61          NaN   \n",
       "22           51.45               65.09               56.80        10.00   \n",
       "23           45.81               51.33               40.59        10.00   \n",
       "24           68.63               68.40               68.63          NaN   \n",
       "25           68.28               66.36               66.54          NaN   \n",
       "26           55.24               55.24               50.86        69.00   \n",
       "27           65.93               65.18               65.93          NaN   \n",
       "28           54.85               49.64               54.85        14.00   \n",
       "29           58.82               58.56               58.82        35.00   \n",
       "30           69.03               66.81               69.03        35.00   \n",
       "31           61.47               59.97               59.38          NaN   \n",
       "\n",
       "    total_trips  \n",
       "0          8.00  \n",
       "1           NaN  \n",
       "2          6.00  \n",
       "3          2.00  \n",
       "4         23.00  \n",
       "5         49.00  \n",
       "6          6.00  \n",
       "7         11.00  \n",
       "8         10.00  \n",
       "9          8.00  \n",
       "10         6.00  \n",
       "11         4.00  \n",
       "12         4.00  \n",
       "13        18.00  \n",
       "14         4.00  \n",
       "15         4.00  \n",
       "16          NaN  \n",
       "17        19.00  \n",
       "18          NaN  \n",
       "19          NaN  \n",
       "20        13.00  \n",
       "21         2.00  \n",
       "22        12.00  \n",
       "23          NaN  \n",
       "24         1.00  \n",
       "25          NaN  \n",
       "26          NaN  \n",
       "27          NaN  \n",
       "28         6.00  \n",
       "29        17.00  \n",
       "30         4.00  \n",
       "31        22.00  "
      ]
     },
     "execution_count": 225,
     "metadata": {},
     "output_type": "execute_result"
    }
   ],
   "source": [
    "# Drop all isntance of a route_id\n",
    "m5.drop_duplicates(subset = ['route_id_att']).reset_index()[subset_cols]"
   ]
  },
  {
   "cell_type": "code",
   "execution_count": null,
   "id": "9bf5514f-251c-4f99-aad2-4a72a1fcabe2",
   "metadata": {},
   "outputs": [],
   "source": [
    "m5.columns"
   ]
  },
  {
   "cell_type": "code",
   "execution_count": null,
   "id": "feeecfc6-2df3-4292-a08d-2d4f314f095f",
   "metadata": {},
   "outputs": [],
   "source": [
    "m5.set_geometry('geometry100')"
   ]
  }
 ],
 "metadata": {
  "kernelspec": {
   "display_name": "Python 3 (ipykernel)",
   "language": "python",
   "name": "python3"
  },
  "language_info": {
   "codemirror_mode": {
    "name": "ipython",
    "version": 3
   },
   "file_extension": ".py",
   "mimetype": "text/x-python",
   "name": "python",
   "nbconvert_exporter": "python",
   "pygments_lexer": "ipython3",
   "version": "3.10.5"
  }
 },
 "nbformat": 4,
 "nbformat_minor": 5
}
