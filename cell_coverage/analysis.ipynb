{
 "cells": [
  {
   "cell_type": "markdown",
   "id": "b928e731-21e0-43cf-9e0d-225fe3219958",
   "metadata": {},
   "source": [
    "# Analysis\n",
    "* Create yml for all my files. \n",
    "* Save overlay? "
   ]
  },
  {
   "cell_type": "code",
   "execution_count": 1,
   "id": "6e564810-c581-4d7a-9200-17e9cb3653b3",
   "metadata": {},
   "outputs": [
    {
     "name": "stderr",
     "output_type": "stream",
     "text": [
      "/opt/conda/lib/python3.10/site-packages/geopandas/_compat.py:112: UserWarning: The Shapely GEOS version (3.10.3-CAPI-1.16.1) is incompatible with the GEOS version PyGEOS was compiled with (3.10.1-CAPI-1.16.0). Conversions between both will be slow.\n",
      "  warnings.warn(\n"
     ]
    }
   ],
   "source": [
    "# Read in zip files\n",
    "# Graphs\n",
    "import altair as alt\n",
    "import fsspec\n",
    "import geopandas as gpd\n",
    "import intake\n",
    "import numpy as np\n",
    "import pandas as pd\n",
    "\n",
    "# My utilities\n",
    "import utilities\n",
    "from calitp import *\n",
    "\n",
    "# Display\n",
    "from IPython.display import HTML, Image, Markdown, display, display_html\n",
    "\n",
    "# Geometry\n",
    "from shared_utils import geography_utils, utils"
   ]
  },
  {
   "cell_type": "code",
   "execution_count": 2,
   "id": "92fabdd3-f7be-42e8-8d71-11f7960429aa",
   "metadata": {},
   "outputs": [],
   "source": [
    "pd.options.display.max_columns = 100\n",
    "pd.options.display.float_format = \"{:.2f}\".format\n",
    "pd.set_option(\"display.max_rows\", None)\n",
    "pd.set_option(\"display.max_colwidth\", None)"
   ]
  },
  {
   "cell_type": "code",
   "execution_count": 3,
   "id": "39fa1361-fc3d-49bd-8681-522aefd983bd",
   "metadata": {},
   "outputs": [],
   "source": [
    "GCS_FILE_PATH = \"gs://calitp-analytics-data/data-analyses/cellular_coverage/\""
   ]
  },
  {
   "cell_type": "code",
   "execution_count": 4,
   "id": "2ebb09d9-302c-4bf7-ab9a-59b30c028d1b",
   "metadata": {},
   "outputs": [],
   "source": [
    "routes_df = utilities.load_unique_routes_df()"
   ]
  },
  {
   "cell_type": "code",
   "execution_count": 5,
   "id": "1a2cf7e0-ec77-4540-a4ab-a78be57459d8",
   "metadata": {},
   "outputs": [
    {
     "data": {
      "text/plain": [
       "(2829, 7)"
      ]
     },
     "execution_count": 5,
     "metadata": {},
     "output_type": "execute_result"
    }
   ],
   "source": [
    "routes_df.shape"
   ]
  },
  {
   "cell_type": "markdown",
   "id": "a908062d-36be-4eba-8cd4-21f17ff0a6a4",
   "metadata": {},
   "source": [
    "## T-Mobile"
   ]
  },
  {
   "cell_type": "code",
   "execution_count": 6,
   "id": "cf2e74ea-933c-4a8c-904b-6ae9c4703925",
   "metadata": {},
   "outputs": [],
   "source": [
    "tmobile_df = gpd.read_parquet(f\"{GCS_FILE_PATH}tmobile_california.parquet\")"
   ]
  },
  {
   "cell_type": "code",
   "execution_count": 7,
   "id": "a8d27c37-13d0-45ea-b344-440741292585",
   "metadata": {},
   "outputs": [],
   "source": [
    "tmobile_m1 = utilities.route_cell_coverage(tmobile_df, routes_df, \"_tmobile\")"
   ]
  },
  {
   "cell_type": "code",
   "execution_count": 8,
   "id": "94c0a4e0-69b6-4772-82b9-9c51e20c59cd",
   "metadata": {},
   "outputs": [
    {
     "data": {
      "text/plain": [
       "(2828, 10)"
      ]
     },
     "execution_count": 8,
     "metadata": {},
     "output_type": "execute_result"
    }
   ],
   "source": [
    "tmobile_m1.shape"
   ]
  },
  {
   "cell_type": "code",
   "execution_count": 12,
   "id": "0bce6b12-7cbc-48a7-a932-51d560f93b8a",
   "metadata": {},
   "outputs": [
    {
     "data": {
      "text/plain": [
       "Index(['route_id_tmobile', 'route_name_tmobile', 'agency_tmobile',\n",
       "       'itp_id_tmobile', 'route_length_overlay_tmobile', 'geometry_tmobile',\n",
       "       'route_type_tmobile', 'route_length_original_df_tmobile',\n",
       "       'percentage_tmobile', 'binned_tmobile'],\n",
       "      dtype='object')"
      ]
     },
     "execution_count": 12,
     "metadata": {},
     "output_type": "execute_result"
    }
   ],
   "source": [
    "tmobile_m1.columns"
   ]
  },
  {
   "cell_type": "code",
   "execution_count": 13,
   "id": "c9e8c4c9-5673-43ad-988e-c0a2e5a6ac8b",
   "metadata": {},
   "outputs": [
    {
     "data": {
      "text/plain": [
       "(90, 100]    2030\n",
       "(80, 90]      173\n",
       "(70, 80]       87\n",
       "(60, 70]       37\n",
       "(50, 60]       21\n",
       "(40, 50]       11\n",
       "(30, 40]        8\n",
       "(20, 30]        4\n",
       "(10, 20]        1\n",
       "(0, 10]         0\n",
       "Name: binned_tmobile, dtype: int64"
      ]
     },
     "execution_count": 13,
     "metadata": {},
     "output_type": "execute_result"
    }
   ],
   "source": [
    "tmobile_m1[\"binned_tmobile\"].value_counts()"
   ]
  },
  {
   "cell_type": "markdown",
   "id": "f9753413-24f7-4a2c-af2d-410c593a0914",
   "metadata": {},
   "source": [
    "## AT&T"
   ]
  },
  {
   "cell_type": "code",
   "execution_count": 14,
   "id": "9f2b2db2-51e5-4e30-b466-7626069e79ad",
   "metadata": {},
   "outputs": [],
   "source": [
    "att_df = utilities.load_att()"
   ]
  },
  {
   "cell_type": "code",
   "execution_count": 15,
   "id": "b21218ac-4cb9-4b28-a237-c72df293bd4f",
   "metadata": {},
   "outputs": [],
   "source": [
    "att_m1 = utilities.route_cell_coverage(att_df, routes_df, \"_att\")"
   ]
  },
  {
   "cell_type": "code",
   "execution_count": 16,
   "id": "6bc33ff3-9c52-43ee-ad2c-e4bf1f4f379c",
   "metadata": {},
   "outputs": [
    {
     "data": {
      "text/plain": [
       "((36, 1), (2822, 10))"
      ]
     },
     "execution_count": 16,
     "metadata": {},
     "output_type": "execute_result"
    }
   ],
   "source": [
    "att_df.shape, att_m1.shape"
   ]
  },
  {
   "cell_type": "code",
   "execution_count": 17,
   "id": "a602b9d5-27ca-458b-bc89-4929710022e5",
   "metadata": {},
   "outputs": [
    {
     "data": {
      "text/plain": [
       "(90, 100]    2069\n",
       "(80, 90]      139\n",
       "(70, 80]       75\n",
       "(60, 70]       44\n",
       "(50, 60]       38\n",
       "(10, 20]        4\n",
       "(20, 30]        2\n",
       "(30, 40]        2\n",
       "(40, 50]        2\n",
       "(0, 10]         0\n",
       "Name: binned_att, dtype: int64"
      ]
     },
     "execution_count": 17,
     "metadata": {},
     "output_type": "execute_result"
    }
   ],
   "source": [
    "att_m1[\"binned_att\"].value_counts()"
   ]
  },
  {
   "cell_type": "markdown",
   "id": "c0aae5bd-12aa-43a9-9617-1065f172091c",
   "metadata": {},
   "source": [
    "## Verizon"
   ]
  },
  {
   "cell_type": "code",
   "execution_count": 18,
   "id": "50e26e5f-d5a1-486e-8b17-9611ac9ae926",
   "metadata": {},
   "outputs": [],
   "source": [
    "verizon_df = utilities.load_verizon()"
   ]
  },
  {
   "cell_type": "code",
   "execution_count": 19,
   "id": "14c97dfd-8a01-4ee6-b173-1826d65d6744",
   "metadata": {},
   "outputs": [],
   "source": [
    "verizon_m1 = utilities.route_cell_coverage(verizon_df, routes_df, \"_verizon\")"
   ]
  },
  {
   "cell_type": "code",
   "execution_count": 20,
   "id": "fd180361-e2dc-4e59-a6c7-73f2c4fb71f0",
   "metadata": {},
   "outputs": [
    {
     "data": {
      "text/plain": [
       "((74, 1), (2822, 10))"
      ]
     },
     "execution_count": 20,
     "metadata": {},
     "output_type": "execute_result"
    }
   ],
   "source": [
    "verizon_df.shape, verizon_m1.shape"
   ]
  },
  {
   "cell_type": "code",
   "execution_count": 21,
   "id": "1469ba9f-2063-4f8e-8091-f76181698436",
   "metadata": {},
   "outputs": [
    {
     "data": {
      "text/plain": [
       "(90, 100]    2414\n",
       "(80, 90]      168\n",
       "(70, 80]       74\n",
       "(60, 70]       38\n",
       "(50, 60]       29\n",
       "(40, 50]        3\n",
       "(10, 20]        2\n",
       "(30, 40]        2\n",
       "(0, 10]         0\n",
       "(20, 30]        0\n",
       "Name: binned_verizon, dtype: int64"
      ]
     },
     "execution_count": 21,
     "metadata": {},
     "output_type": "execute_result"
    }
   ],
   "source": [
    "verizon_m1[\"binned_verizon\"].value_counts()"
   ]
  },
  {
   "cell_type": "markdown",
   "id": "cde725ab-3625-40d7-a953-7bc168259395",
   "metadata": {},
   "source": [
    "## Compare routes across providers."
   ]
  },
  {
   "cell_type": "code",
   "execution_count": 321,
   "id": "9607d91d-f994-4751-9f4b-a54f47138d52",
   "metadata": {
    "scrolled": true,
    "tags": []
   },
   "outputs": [],
   "source": [
    "# Threshold\n",
    "theshold = 61"
   ]
  },
  {
   "cell_type": "code",
   "execution_count": 322,
   "id": "757abec5-3335-4fc9-b578-9fc9f5671667",
   "metadata": {
    "scrolled": true,
    "tags": []
   },
   "outputs": [],
   "source": [
    "low_att_coverage = att_m1.loc[att_m1[\"percentage_att\"] < theshold].reset_index(drop=True)\n",
    "low_verizon_coverage = verizon_m1.loc[\n",
    "    verizon_m1[\"percentage_verizon\"] < theshold\n",
    "].reset_index(drop=True)\n",
    "low_tmobile_coverage = tmobile_m1.loc[\n",
    "    tmobile_m1[\"percentage_tmobile\"] < theshold\n",
    "].reset_index(drop=True)"
   ]
  },
  {
   "cell_type": "code",
   "execution_count": 323,
   "id": "99dd00ae-9100-4776-8cf8-8f8df25390ae",
   "metadata": {},
   "outputs": [
    {
     "data": {
      "text/plain": [
       "((53, 10), (38, 10), (47, 10))"
      ]
     },
     "execution_count": 323,
     "metadata": {},
     "output_type": "execute_result"
    }
   ],
   "source": [
    "low_att_coverage.shape, low_verizon_coverage.shape, low_tmobile_coverage.shape,"
   ]
  },
  {
   "cell_type": "code",
   "execution_count": 360,
   "id": "243aa57f-a30f-4d9a-a648-708564476347",
   "metadata": {},
   "outputs": [
    {
     "data": {
      "text/plain": [
       "pandas.core.frame.DataFrame"
      ]
     },
     "execution_count": 360,
     "metadata": {},
     "output_type": "execute_result"
    }
   ],
   "source": [
    "# Turned into a normal df?\n",
    "type(low_att_coverage)"
   ]
  },
  {
   "cell_type": "markdown",
   "id": "4835875f-a124-4b00-b922-b58af8e0158d",
   "metadata": {},
   "source": [
    "### Merge Verizon & ATT"
   ]
  },
  {
   "cell_type": "code",
   "execution_count": 324,
   "id": "d4b75d14-f851-4013-af37-2471c38463fe",
   "metadata": {},
   "outputs": [],
   "source": [
    "# Merge low att & verizon coverage\n",
    "m1 = pd.merge(\n",
    "    low_att_coverage,\n",
    "    low_verizon_coverage,\n",
    "    how=\"outer\",\n",
    "    left_on=[\"route_id_att\", \"route_name_att\", \"agency_att\", \"itp_id_att\"],\n",
    "    right_on=[\n",
    "        \"route_id_verizon\",\n",
    "        \"route_name_verizon\",\n",
    "        \"agency_verizon\",\n",
    "        \"itp_id_verizon\",\n",
    "    ],\n",
    "    indicator=True,\n",
    ")"
   ]
  },
  {
   "cell_type": "code",
   "execution_count": 325,
   "id": "f7ad787f-78b9-4395-b235-10a11a47d27f",
   "metadata": {},
   "outputs": [
    {
     "data": {
      "text/plain": [
       "both          29\n",
       "left_only     24\n",
       "right_only     9\n",
       "Name: _merge, dtype: int64"
      ]
     },
     "execution_count": 325,
     "metadata": {},
     "output_type": "execute_result"
    }
   ],
   "source": [
    "m1[\"_merge\"].value_counts()"
   ]
  },
  {
   "cell_type": "markdown",
   "id": "b1b25205-a1b1-4985-b56b-019db0f9b618",
   "metadata": {},
   "source": [
    "#### Check a left only value for Verizon"
   ]
  },
  {
   "cell_type": "code",
   "execution_count": 326,
   "id": "2b7d258d-ec31-4df6-95aa-a8dbacd53bd9",
   "metadata": {},
   "outputs": [
    {
     "data": {
      "text/html": [
       "<div>\n",
       "<style scoped>\n",
       "    .dataframe tbody tr th:only-of-type {\n",
       "        vertical-align: middle;\n",
       "    }\n",
       "\n",
       "    .dataframe tbody tr th {\n",
       "        vertical-align: top;\n",
       "    }\n",
       "\n",
       "    .dataframe thead th {\n",
       "        text-align: right;\n",
       "    }\n",
       "</style>\n",
       "<table border=\"1\" class=\"dataframe\">\n",
       "  <thead>\n",
       "    <tr style=\"text-align: right;\">\n",
       "      <th></th>\n",
       "      <th>route_name_verizon</th>\n",
       "      <th>percentage_verizon</th>\n",
       "    </tr>\n",
       "  </thead>\n",
       "  <tbody>\n",
       "    <tr>\n",
       "      <th>246</th>\n",
       "      <td>Ridgecrest Shuttle</td>\n",
       "      <td>99.99</td>\n",
       "    </tr>\n",
       "  </tbody>\n",
       "</table>\n",
       "</div>"
      ],
      "text/plain": [
       "     route_name_verizon  percentage_verizon\n",
       "246  Ridgecrest Shuttle               99.99"
      ]
     },
     "execution_count": 326,
     "metadata": {},
     "output_type": "execute_result"
    }
   ],
   "source": [
    "verizon_m1.loc[verizon_m1[\"route_name_verizon\"] == \"Ridgecrest Shuttle\"][\n",
    "    [\n",
    "        \"route_name_verizon\",\n",
    "        \"percentage_verizon\",\n",
    "    ]\n",
    "]"
   ]
  },
  {
   "cell_type": "code",
   "execution_count": 327,
   "id": "361dc7a3-97f4-4a3d-be2c-79140b621db2",
   "metadata": {},
   "outputs": [
    {
     "data": {
      "text/html": [
       "<div>\n",
       "<style scoped>\n",
       "    .dataframe tbody tr th:only-of-type {\n",
       "        vertical-align: middle;\n",
       "    }\n",
       "\n",
       "    .dataframe tbody tr th {\n",
       "        vertical-align: top;\n",
       "    }\n",
       "\n",
       "    .dataframe thead th {\n",
       "        text-align: right;\n",
       "    }\n",
       "</style>\n",
       "<table border=\"1\" class=\"dataframe\">\n",
       "  <thead>\n",
       "    <tr style=\"text-align: right;\">\n",
       "      <th></th>\n",
       "      <th>route_name_verizon</th>\n",
       "      <th>percentage_verizon</th>\n",
       "    </tr>\n",
       "  </thead>\n",
       "  <tbody>\n",
       "    <tr>\n",
       "      <th>2719</th>\n",
       "      <td>Mainline AM/PM</td>\n",
       "      <td>72.45</td>\n",
       "    </tr>\n",
       "    <tr>\n",
       "      <th>2720</th>\n",
       "      <td>Mainline AM/PM</td>\n",
       "      <td>72.45</td>\n",
       "    </tr>\n",
       "  </tbody>\n",
       "</table>\n",
       "</div>"
      ],
      "text/plain": [
       "     route_name_verizon  percentage_verizon\n",
       "2719     Mainline AM/PM               72.45\n",
       "2720     Mainline AM/PM               72.45"
      ]
     },
     "execution_count": 327,
     "metadata": {},
     "output_type": "execute_result"
    }
   ],
   "source": [
    "verizon_m1.loc[verizon_m1[\"route_name_verizon\"] == \"Mainline AM/PM\"][\n",
    "    [\n",
    "        \"route_name_verizon\",\n",
    "        \"percentage_verizon\",\n",
    "    ]\n",
    "]"
   ]
  },
  {
   "cell_type": "code",
   "execution_count": 328,
   "id": "43f6a0c9-f7b4-41ed-a193-061d182e7b32",
   "metadata": {},
   "outputs": [],
   "source": [
    "# Filter out for only both, these are routes that really dont have any more than 60% cellular coverage among AT&T and Verizon\n",
    "m1 = m1.loc[m1[\"_merge\"] == \"both\"]"
   ]
  },
  {
   "cell_type": "code",
   "execution_count": 329,
   "id": "cadeb80a-2fb8-4409-b5a1-39d55548ab8a",
   "metadata": {},
   "outputs": [],
   "source": [
    "m1 = m1.drop(columns=[\"_merge\"])"
   ]
  },
  {
   "cell_type": "markdown",
   "id": "01e0d1a6-f346-4131-b1b0-42bcf9769ce0",
   "metadata": {},
   "source": [
    "### Merge m1 with T-Mobile"
   ]
  },
  {
   "cell_type": "code",
   "execution_count": 330,
   "id": "9f138202-578c-42c9-8cd5-fd7d3be67bc3",
   "metadata": {},
   "outputs": [],
   "source": [
    "# Merge att & verizon coverage\n",
    "m2 = pd.merge(\n",
    "    m1,\n",
    "    low_tmobile_coverage,\n",
    "    how=\"outer\",\n",
    "    left_on=[\"route_id_att\", \"route_name_att\", \"agency_att\", \"itp_id_att\"],\n",
    "    right_on=[\n",
    "        \"route_id_tmobile\",\n",
    "        \"route_name_tmobile\",\n",
    "        \"agency_tmobile\",\n",
    "        \"itp_id_tmobile\",\n",
    "    ],\n",
    "    indicator=True,\n",
    ")"
   ]
  },
  {
   "cell_type": "code",
   "execution_count": 331,
   "id": "2df7ab66-0473-4176-bdbc-c42d8b0352b4",
   "metadata": {},
   "outputs": [
    {
     "data": {
      "text/plain": [
       "right_only    24\n",
       "both          23\n",
       "left_only      6\n",
       "Name: _merge, dtype: int64"
      ]
     },
     "execution_count": 331,
     "metadata": {},
     "output_type": "execute_result"
    }
   ],
   "source": [
    "m2[\"_merge\"].value_counts()"
   ]
  },
  {
   "cell_type": "code",
   "execution_count": 332,
   "id": "21002b8c-e77d-41b3-8448-16f3f6233abf",
   "metadata": {},
   "outputs": [],
   "source": [
    "# Filter out for only both, these are routes that really dont have any more than 60% cellular coverage among all 3\n",
    "m3 = m2.loc[m2[\"_merge\"] == \"both\"]"
   ]
  },
  {
   "cell_type": "code",
   "execution_count": 333,
   "id": "ca9d0afc-63e0-40a6-848f-bbc993f79b89",
   "metadata": {},
   "outputs": [
    {
     "data": {
      "text/html": [
       "<div>\n",
       "<style scoped>\n",
       "    .dataframe tbody tr th:only-of-type {\n",
       "        vertical-align: middle;\n",
       "    }\n",
       "\n",
       "    .dataframe tbody tr th {\n",
       "        vertical-align: top;\n",
       "    }\n",
       "\n",
       "    .dataframe thead th {\n",
       "        text-align: right;\n",
       "    }\n",
       "</style>\n",
       "<table border=\"1\" class=\"dataframe\">\n",
       "  <thead>\n",
       "    <tr style=\"text-align: right;\">\n",
       "      <th></th>\n",
       "      <th>route_name_verizon</th>\n",
       "      <th>percentage_verizon</th>\n",
       "    </tr>\n",
       "  </thead>\n",
       "  <tbody>\n",
       "    <tr>\n",
       "      <th>1038</th>\n",
       "      <td>The Coaster</td>\n",
       "      <td>86.87</td>\n",
       "    </tr>\n",
       "  </tbody>\n",
       "</table>\n",
       "</div>"
      ],
      "text/plain": [
       "     route_name_verizon  percentage_verizon\n",
       "1038        The Coaster               86.87"
      ]
     },
     "execution_count": 333,
     "metadata": {},
     "output_type": "execute_result"
    }
   ],
   "source": [
    "verizon_m1.loc[verizon_m1[\"route_name_verizon\"] == \"The Coaster\"][\n",
    "    [\n",
    "        \"route_name_verizon\",\n",
    "        \"percentage_verizon\",\n",
    "    ]\n",
    "]"
   ]
  },
  {
   "cell_type": "code",
   "execution_count": 334,
   "id": "6919add2-9f76-44b5-b60a-7104ae9a4897",
   "metadata": {},
   "outputs": [],
   "source": [
    "m3 = m3.drop(columns=[\"_merge\"])"
   ]
  },
  {
   "cell_type": "code",
   "execution_count": 359,
   "id": "c846db81-c0b1-4545-b91e-1bcaf86c6923",
   "metadata": {},
   "outputs": [
    {
     "data": {
      "text/plain": [
       "pandas.core.frame.DataFrame"
      ]
     },
     "execution_count": 359,
     "metadata": {},
     "output_type": "execute_result"
    }
   ],
   "source": [
    "type(m3)"
   ]
  },
  {
   "cell_type": "markdown",
   "id": "260a821a-0246-4176-abf3-3a8dd1687722",
   "metadata": {},
   "source": [
    "# Add trips"
   ]
  },
  {
   "cell_type": "code",
   "execution_count": 335,
   "id": "9d537c04-f42d-455e-99ba-d293b4517909",
   "metadata": {},
   "outputs": [],
   "source": [
    "trips_df = utilities.load_clean_trips_df()"
   ]
  },
  {
   "cell_type": "code",
   "execution_count": 336,
   "id": "6220f4ec-9f7f-4c53-b034-cb0bf5a262b2",
   "metadata": {},
   "outputs": [],
   "source": [
    "# Merge the 2 filtered at&t and verizon dataframes so we can see which routes overlap\n",
    "m4 = pd.merge(\n",
    "    m3,\n",
    "    trips_df,\n",
    "    how=\"left\",\n",
    "    left_on=[\"route_id_att\", \"itp_id_att\"],\n",
    "    right_on=[\"route_id\", \"calitp_itp_id\"],\n",
    "    indicator=True,\n",
    ")"
   ]
  },
  {
   "cell_type": "code",
   "execution_count": 337,
   "id": "aaeade15-6dba-4a12-bda1-1faa9de3e49a",
   "metadata": {},
   "outputs": [
    {
     "data": {
      "text/plain": [
       "both          19\n",
       "left_only      4\n",
       "right_only     0\n",
       "Name: _merge, dtype: int64"
      ]
     },
     "execution_count": 337,
     "metadata": {},
     "output_type": "execute_result"
    }
   ],
   "source": [
    "m4[\"_merge\"].value_counts()"
   ]
  },
  {
   "cell_type": "code",
   "execution_count": 338,
   "id": "5153adc2-1072-4138-a6df-df9700a0608f",
   "metadata": {},
   "outputs": [
    {
     "data": {
      "text/plain": [
       "10"
      ]
     },
     "execution_count": 338,
     "metadata": {},
     "output_type": "execute_result"
    }
   ],
   "source": [
    "m4.route_id.nunique()"
   ]
  },
  {
   "cell_type": "code",
   "execution_count": 339,
   "id": "03138787-555b-49c7-9c89-2be7c304bdea",
   "metadata": {},
   "outputs": [],
   "source": [
    "m4 = m4.drop(columns=[\"_merge\"])"
   ]
  },
  {
   "cell_type": "code",
   "execution_count": 349,
   "id": "f9d65f2b-f5fa-4008-855e-580aeb16d2d7",
   "metadata": {},
   "outputs": [
    {
     "data": {
      "text/plain": [
       "Index(['route_id_att', 'route_name_att', 'agency_att', 'itp_id_att',\n",
       "       'route_length_overlay_att', 'geometry_att', 'route_type_att',\n",
       "       'route_length_original_df_att', 'percentage_att', 'binned_att',\n",
       "       'route_id_verizon', 'route_name_verizon', 'agency_verizon',\n",
       "       'itp_id_verizon', 'route_length_overlay_verizon', 'geometry_verizon',\n",
       "       'route_type_verizon', 'route_length_original_df_verizon',\n",
       "       'percentage_verizon', 'binned_verizon', 'route_id_tmobile',\n",
       "       'route_name_tmobile', 'agency_tmobile', 'itp_id_tmobile',\n",
       "       'route_length_overlay_tmobile', 'geometry_tmobile',\n",
       "       'route_type_tmobile', 'route_length_original_df_tmobile',\n",
       "       'percentage_tmobile', 'binned_tmobile', 'calitp_itp_id', 'route_id',\n",
       "       'total_trips'],\n",
       "      dtype='object')"
      ]
     },
     "execution_count": 349,
     "metadata": {},
     "output_type": "execute_result"
    }
   ],
   "source": [
    "m4.columns"
   ]
  },
  {
   "cell_type": "markdown",
   "id": "91e75bd9-2c0d-4fc0-a384-e83de3dc11d7",
   "metadata": {},
   "source": [
    "# Add NTD"
   ]
  },
  {
   "cell_type": "code",
   "execution_count": 340,
   "id": "463f2e92-86b2-499b-9e0a-306ba5a7f559",
   "metadata": {
    "scrolled": true,
    "tags": []
   },
   "outputs": [],
   "source": [
    "# m4[\"agency_att\"].sort_values().unique()"
   ]
  },
  {
   "cell_type": "code",
   "execution_count": 341,
   "id": "87e35782-c20b-47ba-87b6-5161bb8a4607",
   "metadata": {},
   "outputs": [],
   "source": [
    "# Load NTD vehicles\n",
    "ntd_df = utilities.ntd_vehicles()"
   ]
  },
  {
   "cell_type": "code",
   "execution_count": 342,
   "id": "81a83fe4-10ca-4a0a-a705-8b4cbeadb242",
   "metadata": {
    "scrolled": true,
    "tags": []
   },
   "outputs": [],
   "source": [
    "# ntd_df[\"agency\"].sort_values().unique().tolist()"
   ]
  },
  {
   "cell_type": "code",
   "execution_count": 343,
   "id": "e74f09dc-4957-42c0-972d-d1ff8d26b8ba",
   "metadata": {},
   "outputs": [],
   "source": [
    "# Replace agency names in NTD to match m4 above\n",
    "ntd_df[\"agency\"] = ntd_df[\"agency\"].replace(\n",
    "    {\n",
    "        \"Trinity County\": \"Trinity Transit\",\n",
    "        \"City of Calabasas\": \"Calabasas Transit System\",\n",
    "        \"County of Sonoma\": \"Sonoma County Transit\",\n",
    "        \"Tehama County\": \"Tehama Rural Area eXpress\",\n",
    "        \"Los Angeles County Department of Public Works - East L.A.\": \"East Los Angeles Shuttle\",\n",
    "        \"Sacramento Regional Transit District\": \"Sacramento Regional Transit District\",\n",
    "        \"Eastern Sierra Transit Authority\": \"Mammoth Lakes Transit System\",\n",
    "        \"City of Lompoc\": \"City of Lompoc Transit\",\n",
    "        \"San Luis Obispo Regional Transit Authority\": \"South County Transit Link\",\n",
    "        \"City of Roseville\": \"Roseville Transit\",\n",
    "         \"Los Angeles County Dept. of Public Works - Athens Shuttle Service\": \"the Link-Athens\",\n",
    "        'Los Angeles County Department of Public Works - Avocado Heights':'Avocado Heights/Bassett/West Valinda Shuttle',\n",
    "        'Susanville Indian Rancheria': \"Susanville Indian Rancheria Public Transportation Program\",\n",
    "    }\n",
    ")"
   ]
  },
  {
   "cell_type": "code",
   "execution_count": 344,
   "id": "fbe3c094-0b5f-46a1-a389-416e0ffc2515",
   "metadata": {},
   "outputs": [],
   "source": [
    "# Replace agency names in agency4 to match ntd\n",
    "m4['agency_att'] = m4['agency_att'].replace(\n",
    "    {\n",
    "        \"Cloverdale Transit\":\"Sonoma County Transit\",\n",
    "    }\n",
    ")"
   ]
  },
  {
   "cell_type": "code",
   "execution_count": 345,
   "id": "019d9f40-684d-4d7a-9ff5-6de1b994329e",
   "metadata": {},
   "outputs": [],
   "source": [
    "m5 = pd.merge(\n",
    "    m4,\n",
    "    ntd_df,\n",
    "    how=\"left\",\n",
    "    left_on=\"agency_att\",\n",
    "    right_on=\"agency\",\n",
    "    indicator=True,\n",
    ")"
   ]
  },
  {
   "cell_type": "code",
   "execution_count": 346,
   "id": "403b5b3b-9cca-4f75-84eb-48bd8a716032",
   "metadata": {},
   "outputs": [
    {
     "data": {
      "text/plain": [
       "both          17\n",
       "left_only      6\n",
       "right_only     0\n",
       "Name: _merge, dtype: int64"
      ]
     },
     "execution_count": 346,
     "metadata": {},
     "output_type": "execute_result"
    }
   ],
   "source": [
    "m5[\"_merge\"].value_counts()"
   ]
  },
  {
   "cell_type": "code",
   "execution_count": 352,
   "id": "31db5932-d416-400d-8b8a-54657458dfef",
   "metadata": {},
   "outputs": [],
   "source": [
    "# Cols to shorten dataframe\n",
    "subset_cols =  [\n",
    "        \"route_id_att\",\n",
    "        \"route_name_att\",\n",
    "        \"agency_att\",\n",
    "        \"itp_id_att\",\n",
    "        \"percentage_att\",\n",
    "        \"percentage_verizon\",\n",
    "        \"percentage_tmobile\",\n",
    "        'total_buses',\n",
    "     'total_trips'\n",
    "    ]"
   ]
  },
  {
   "cell_type": "markdown",
   "id": "71fec63e-7c9f-4670-bcbb-60f8389ff6cd",
   "metadata": {},
   "source": [
    "# Final"
   ]
  },
  {
   "cell_type": "code",
   "execution_count": 353,
   "id": "7e18e5b5-3518-4ebb-8dbf-f1ce70a63acd",
   "metadata": {},
   "outputs": [
    {
     "data": {
      "text/html": [
       "<div>\n",
       "<style scoped>\n",
       "    .dataframe tbody tr th:only-of-type {\n",
       "        vertical-align: middle;\n",
       "    }\n",
       "\n",
       "    .dataframe tbody tr th {\n",
       "        vertical-align: top;\n",
       "    }\n",
       "\n",
       "    .dataframe thead th {\n",
       "        text-align: right;\n",
       "    }\n",
       "</style>\n",
       "<table border=\"1\" class=\"dataframe\">\n",
       "  <thead>\n",
       "    <tr style=\"text-align: right;\">\n",
       "      <th></th>\n",
       "      <th>route_id_att</th>\n",
       "      <th>route_name_att</th>\n",
       "      <th>agency_att</th>\n",
       "      <th>itp_id_att</th>\n",
       "      <th>percentage_att</th>\n",
       "      <th>percentage_verizon</th>\n",
       "      <th>percentage_tmobile</th>\n",
       "      <th>total_buses</th>\n",
       "      <th>total_trips</th>\n",
       "    </tr>\n",
       "  </thead>\n",
       "  <tbody>\n",
       "    <tr>\n",
       "      <th>0</th>\n",
       "      <td>1042</td>\n",
       "      <td>Guerneville, Monte Rio</td>\n",
       "      <td>Sonoma County Transit</td>\n",
       "      <td>70.00</td>\n",
       "      <td>13.43</td>\n",
       "      <td>50.68</td>\n",
       "      <td>45.53</td>\n",
       "      <td>77.00</td>\n",
       "      <td>8.00</td>\n",
       "    </tr>\n",
       "    <tr>\n",
       "      <th>1</th>\n",
       "      <td>1094</td>\n",
       "      <td>Sonora HWY 120</td>\n",
       "      <td>Yosemite Area Regional Transportation System</td>\n",
       "      <td>374.00</td>\n",
       "      <td>54.42</td>\n",
       "      <td>60.59</td>\n",
       "      <td>53.88</td>\n",
       "      <td>10.00</td>\n",
       "      <td>NaN</td>\n",
       "    </tr>\n",
       "    <tr>\n",
       "      <th>2</th>\n",
       "      <td>1292</td>\n",
       "      <td>None</td>\n",
       "      <td>Susanville Indian Rancheria Public Transportation Program</td>\n",
       "      <td>329.00</td>\n",
       "      <td>57.87</td>\n",
       "      <td>51.67</td>\n",
       "      <td>30.49</td>\n",
       "      <td>4.00</td>\n",
       "      <td>2.00</td>\n",
       "    </tr>\n",
       "    <tr>\n",
       "      <th>3</th>\n",
       "      <td>13054</td>\n",
       "      <td>Edmund D. Edelman Children’s Court Shuttle</td>\n",
       "      <td>Avocado Heights/Bassett/West Valinda Shuttle</td>\n",
       "      <td>171.00</td>\n",
       "      <td>53.88</td>\n",
       "      <td>53.87</td>\n",
       "      <td>53.88</td>\n",
       "      <td>4.00</td>\n",
       "      <td>49.00</td>\n",
       "    </tr>\n",
       "    <tr>\n",
       "      <th>4</th>\n",
       "      <td>178</td>\n",
       "      <td>Route between Weaverville and Hayfork.  Connects to Redding Line in Douglas City.</td>\n",
       "      <td>Trinity Transit</td>\n",
       "      <td>344.00</td>\n",
       "      <td>22.69</td>\n",
       "      <td>52.58</td>\n",
       "      <td>38.99</td>\n",
       "      <td>7.00</td>\n",
       "      <td>8.00</td>\n",
       "    </tr>\n",
       "    <tr>\n",
       "      <th>5</th>\n",
       "      <td>181</td>\n",
       "      <td>Route travels through all down-river communities between Weaverville and Willow Creek.  Key route to the coast; connects with RTS service to Arcata/Eureka.</td>\n",
       "      <td>Trinity Transit</td>\n",
       "      <td>344.00</td>\n",
       "      <td>29.83</td>\n",
       "      <td>37.08</td>\n",
       "      <td>35.12</td>\n",
       "      <td>7.00</td>\n",
       "      <td>4.00</td>\n",
       "    </tr>\n",
       "    <tr>\n",
       "      <th>6</th>\n",
       "      <td>225</td>\n",
       "      <td>South Coast / Ukiah</td>\n",
       "      <td>Mendocino Transit Authority</td>\n",
       "      <td>198.00</td>\n",
       "      <td>51.24</td>\n",
       "      <td>51.59</td>\n",
       "      <td>49.86</td>\n",
       "      <td>35.00</td>\n",
       "      <td>4.00</td>\n",
       "    </tr>\n",
       "    <tr>\n",
       "      <th>7</th>\n",
       "      <td>28</td>\n",
       "      <td>Guerneville, Monte Rio</td>\n",
       "      <td>Sonoma County Transit</td>\n",
       "      <td>314.00</td>\n",
       "      <td>13.43</td>\n",
       "      <td>50.68</td>\n",
       "      <td>45.53</td>\n",
       "      <td>77.00</td>\n",
       "      <td>4.00</td>\n",
       "    </tr>\n",
       "    <tr>\n",
       "      <th>8</th>\n",
       "      <td>30</td>\n",
       "      <td>FSL</td>\n",
       "      <td>Sacramento Regional Transit District</td>\n",
       "      <td>273.00</td>\n",
       "      <td>34.93</td>\n",
       "      <td>34.93</td>\n",
       "      <td>34.93</td>\n",
       "      <td>295.00</td>\n",
       "      <td>19.00</td>\n",
       "    </tr>\n",
       "    <tr>\n",
       "      <th>9</th>\n",
       "      <td>582</td>\n",
       "      <td>Mammoth Lakes HWY 120E/395</td>\n",
       "      <td>Yosemite Area Regional Transportation System</td>\n",
       "      <td>374.00</td>\n",
       "      <td>45.81</td>\n",
       "      <td>51.33</td>\n",
       "      <td>40.59</td>\n",
       "      <td>10.00</td>\n",
       "      <td>NaN</td>\n",
       "    </tr>\n",
       "    <tr>\n",
       "      <th>10</th>\n",
       "      <td>6</td>\n",
       "      <td>Wine Country Express</td>\n",
       "      <td>City of Lompoc Transit</td>\n",
       "      <td>169.00</td>\n",
       "      <td>59.84</td>\n",
       "      <td>60.56</td>\n",
       "      <td>57.46</td>\n",
       "      <td>13.00</td>\n",
       "      <td>NaN</td>\n",
       "    </tr>\n",
       "    <tr>\n",
       "      <th>11</th>\n",
       "      <td>deltaroute</td>\n",
       "      <td>None</td>\n",
       "      <td>South County Transit Link</td>\n",
       "      <td>81.00</td>\n",
       "      <td>55.24</td>\n",
       "      <td>55.24</td>\n",
       "      <td>50.86</td>\n",
       "      <td>69.00</td>\n",
       "      <td>NaN</td>\n",
       "    </tr>\n",
       "    <tr>\n",
       "      <th>12</th>\n",
       "      <td>line2</td>\n",
       "      <td>Line 2</td>\n",
       "      <td>Calabasas Transit System</td>\n",
       "      <td>49.00</td>\n",
       "      <td>54.85</td>\n",
       "      <td>49.64</td>\n",
       "      <td>54.85</td>\n",
       "      <td>14.00</td>\n",
       "      <td>6.00</td>\n",
       "    </tr>\n",
       "    <tr>\n",
       "      <th>13</th>\n",
       "      <td>m</td>\n",
       "      <td>None</td>\n",
       "      <td>Roseville Transit</td>\n",
       "      <td>271.00</td>\n",
       "      <td>58.82</td>\n",
       "      <td>58.56</td>\n",
       "      <td>58.82</td>\n",
       "      <td>35.00</td>\n",
       "      <td>17.00</td>\n",
       "    </tr>\n",
       "  </tbody>\n",
       "</table>\n",
       "</div>"
      ],
      "text/plain": [
       "   route_id_att  \\\n",
       "0          1042   \n",
       "1          1094   \n",
       "2          1292   \n",
       "3         13054   \n",
       "4           178   \n",
       "5           181   \n",
       "6           225   \n",
       "7            28   \n",
       "8            30   \n",
       "9           582   \n",
       "10            6   \n",
       "11   deltaroute   \n",
       "12        line2   \n",
       "13            m   \n",
       "\n",
       "                                                                                                                                                 route_name_att  \\\n",
       "0                                                                                                                                        Guerneville, Monte Rio   \n",
       "1                                                                                                                                                Sonora HWY 120   \n",
       "2                                                                                                                                                          None   \n",
       "3                                                                                                                    Edmund D. Edelman Children’s Court Shuttle   \n",
       "4                                                                             Route between Weaverville and Hayfork.  Connects to Redding Line in Douglas City.   \n",
       "5   Route travels through all down-river communities between Weaverville and Willow Creek.  Key route to the coast; connects with RTS service to Arcata/Eureka.   \n",
       "6                                                                                                                                           South Coast / Ukiah   \n",
       "7                                                                                                                                        Guerneville, Monte Rio   \n",
       "8                                                                                                                                                           FSL   \n",
       "9                                                                                                                                    Mammoth Lakes HWY 120E/395   \n",
       "10                                                                                                                                         Wine Country Express   \n",
       "11                                                                                                                                                         None   \n",
       "12                                                                                                                                                       Line 2   \n",
       "13                                                                                                                                                         None   \n",
       "\n",
       "                                                   agency_att  itp_id_att  \\\n",
       "0                                       Sonoma County Transit       70.00   \n",
       "1                Yosemite Area Regional Transportation System      374.00   \n",
       "2   Susanville Indian Rancheria Public Transportation Program      329.00   \n",
       "3                Avocado Heights/Bassett/West Valinda Shuttle      171.00   \n",
       "4                                             Trinity Transit      344.00   \n",
       "5                                             Trinity Transit      344.00   \n",
       "6                                 Mendocino Transit Authority      198.00   \n",
       "7                                       Sonoma County Transit      314.00   \n",
       "8                        Sacramento Regional Transit District      273.00   \n",
       "9                Yosemite Area Regional Transportation System      374.00   \n",
       "10                                     City of Lompoc Transit      169.00   \n",
       "11                                  South County Transit Link       81.00   \n",
       "12                                   Calabasas Transit System       49.00   \n",
       "13                                          Roseville Transit      271.00   \n",
       "\n",
       "    percentage_att  percentage_verizon  percentage_tmobile  total_buses  \\\n",
       "0            13.43               50.68               45.53        77.00   \n",
       "1            54.42               60.59               53.88        10.00   \n",
       "2            57.87               51.67               30.49         4.00   \n",
       "3            53.88               53.87               53.88         4.00   \n",
       "4            22.69               52.58               38.99         7.00   \n",
       "5            29.83               37.08               35.12         7.00   \n",
       "6            51.24               51.59               49.86        35.00   \n",
       "7            13.43               50.68               45.53        77.00   \n",
       "8            34.93               34.93               34.93       295.00   \n",
       "9            45.81               51.33               40.59        10.00   \n",
       "10           59.84               60.56               57.46        13.00   \n",
       "11           55.24               55.24               50.86        69.00   \n",
       "12           54.85               49.64               54.85        14.00   \n",
       "13           58.82               58.56               58.82        35.00   \n",
       "\n",
       "    total_trips  \n",
       "0          8.00  \n",
       "1           NaN  \n",
       "2          2.00  \n",
       "3         49.00  \n",
       "4          8.00  \n",
       "5          4.00  \n",
       "6          4.00  \n",
       "7          4.00  \n",
       "8         19.00  \n",
       "9           NaN  \n",
       "10          NaN  \n",
       "11          NaN  \n",
       "12         6.00  \n",
       "13        17.00  "
      ]
     },
     "execution_count": 353,
     "metadata": {},
     "output_type": "execute_result"
    }
   ],
   "source": [
    "# Drop all isntance of a route_id\n",
    "m5.drop_duplicates(subset = ['route_id_att']).reset_index()[subset_cols]"
   ]
  }
 ],
 "metadata": {
  "kernelspec": {
   "display_name": "Python 3 (ipykernel)",
   "language": "python",
   "name": "python3"
  },
  "language_info": {
   "codemirror_mode": {
    "name": "ipython",
    "version": 3
   },
   "file_extension": ".py",
   "mimetype": "text/x-python",
   "name": "python",
   "nbconvert_exporter": "python",
   "pygments_lexer": "ipython3",
   "version": "3.10.5"
  }
 },
 "nbformat": 4,
 "nbformat_minor": 5
}
