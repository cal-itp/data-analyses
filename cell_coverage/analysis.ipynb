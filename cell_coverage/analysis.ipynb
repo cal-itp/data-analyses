{
 "cells": [
  {
   "cell_type": "markdown",
   "id": "b928e731-21e0-43cf-9e0d-225fe3219958",
   "metadata": {},
   "source": [
    "# Analysis\n",
    "* Create yml for all my files. \n",
    "* Save overlay? "
   ]
  },
  {
   "cell_type": "code",
   "execution_count": null,
   "id": "6e564810-c581-4d7a-9200-17e9cb3653b3",
   "metadata": {},
   "outputs": [],
   "source": [
    " 21QA21QWADzcazcAzcXVazcf# Read in zip files\n",
    "# Graphs\n",
    "import altair as alt\n",
    "import fsspec\n",
    "import geopandas as gpd\n",
    "import intake\n",
    "import numpy as np\n",
    "import pandas as pd\n",
    "\n",
    "# My utilities\n",
    "import utilities\n",
    "from calitp import *\n",
    "\n",
    "# Display\n",
    "from IPython.display import HTML, Image, Markdown, display, display_html\n",
    "\n",
    "# Geometry\n",
    "from shared_utils import geography_utils, utils"
   ]
  },
  {
   "cell_type": "code",
   "execution_count": null,
   "id": "92fabdd3-f7be-42e8-8d71-11f7960429aa",
   "metadata": {},
   "outputs": [],
   "source": [
    "pd.options.display.max_columns = 100\n",
    "pd.options.display.float_format = \"{:.2f}\".format\n",
    "pd.set_option(\"display.max_rows\", None)\n",
    "pd.set_option(\"display.max_colwidth\", None)"
   ]
  },
  {
   "cell_type": "code",
   "execution_count": null,
   "id": "39fa1361-fc3d-49bd-8681-522aefd983bd",
   "metadata": {},
   "outputs": [],
   "source": [
    "GCS_FILE_PATH = \"gs://calitp-analytics-data/data-analyses/cellular_coverage/\""
   ]
  },
  {
   "cell_type": "code",
   "execution_count": null,
   "id": "2ebb09d9-302c-4bf7-ab9a-59b30c028d1b",
   "metadata": {},
   "outputs": [],
   "source": [
    "routes_df = utilities.load_unique_routes_df()"
   ]
  },
  {
   "cell_type": "code",
   "execution_count": null,
   "id": "1a2cf7e0-ec77-4540-a4ab-a78be57459d8",
   "metadata": {},
   "outputs": [],
   "source": [
    "routes_df.shape"
   ]
  },
  {
   "cell_type": "code",
   "execution_count": null,
   "id": "ee2cdf50-e10c-4c50-9528-5245a1a539d8",
   "metadata": {},
   "outputs": [],
   "source": [
    "routes_df.columns"
   ]
  },
  {
   "cell_type": "code",
   "execution_count": null,
   "id": "1da0b2e9-cfc1-476a-acb5-ac2a9a2b8f3b",
   "metadata": {},
   "outputs": [],
   "source": [
    "suffix = \"test\""
   ]
  },
  {
   "cell_type": "code",
   "execution_count": null,
   "id": "f281c3a3-4bc2-4a96-9df3-d89e7863f842",
   "metadata": {},
   "outputs": [],
   "source": [
    "routes_df2 = routes_df.rename(\n",
    "    columns={\n",
    "        c: c + suffix\n",
    "        for c in routes_df.columns\n",
    "        if c in [\"geometry\", \"route_type\", \"route_name\"]\n",
    "    }\n",
    ")"
   ]
  },
  {
   "cell_type": "code",
   "execution_count": null,
   "id": "f0257928-a80a-4644-9c6c-ab99f187b715",
   "metadata": {},
   "outputs": [],
   "source": [
    "routes_df2.columns"
   ]
  },
  {
   "cell_type": "markdown",
   "id": "a908062d-36be-4eba-8cd4-21f17ff0a6a4",
   "metadata": {},
   "source": [
    "## T-Mobile"
   ]
  },
  {
   "cell_type": "code",
   "execution_count": null,
   "id": "cf2e74ea-933c-4a8c-904b-6ae9c4703925",
   "metadata": {},
   "outputs": [],
   "source": [
    "tmobile_df = gpd.read_parquet(f\"{GCS_FILE_PATH}tmobile_california.parquet\")"
   ]
  },
  {
   "cell_type": "code",
   "execution_count": null,
   "id": "a8d27c37-13d0-45ea-b344-440741292585",
   "metadata": {},
   "outputs": [],
   "source": [
    "tmobile_m1 = utilities.route_cell_coverage(tmobile_df, routes_df, \"_tmobile\")"
   ]
  },
  {
   "cell_type": "code",
   "execution_count": null,
   "id": "f329673c-5fe9-4b75-8aa3-8df4d24e97ea",
   "metadata": {},
   "outputs": [],
   "source": [
    "type(tmobile_m1)"
   ]
  },
  {
   "cell_type": "code",
   "execution_count": null,
   "id": "b8a3d3c5-e645-4c4c-8c10-f6c1b5c6b9ba",
   "metadata": {},
   "outputs": [],
   "source": [
    "tmobile_m1.shape"
   ]
  },
  {
   "cell_type": "code",
   "execution_count": null,
   "id": "38e8acc1-bdbb-4b8a-b313-0ca2551dc08f",
   "metadata": {},
   "outputs": [],
   "source": [
    "tmobile_m1.columns"
   ]
  },
  {
   "cell_type": "code",
   "execution_count": null,
   "id": "c9e8c4c9-5673-43ad-988e-c0a2e5a6ac8b",
   "metadata": {},
   "outputs": [],
   "source": [
    "(tmobile_m1[\"binned_tmobile\"].value_counts() / len(tmobile_m1)) * 100"
   ]
  },
  {
   "cell_type": "markdown",
   "id": "f9753413-24f7-4a2c-af2d-410c593a0914",
   "metadata": {},
   "source": [
    "## AT&T"
   ]
  },
  {
   "cell_type": "code",
   "execution_count": null,
   "id": "9f2b2db2-51e5-4e30-b466-7626069e79ad",
   "metadata": {},
   "outputs": [],
   "source": [
    "att_df = utilities.load_att()"
   ]
  },
  {
   "cell_type": "code",
   "execution_count": null,
   "id": "b21218ac-4cb9-4b28-a237-c72df293bd4f",
   "metadata": {},
   "outputs": [],
   "source": [
    "att_m1 = utilities.route_cell_coverage(att_df, routes_df, \"_att\")"
   ]
  },
  {
   "cell_type": "code",
   "execution_count": null,
   "id": "cfe4f088-26f9-40a9-bb97-94c3b62bcc39",
   "metadata": {},
   "outputs": [],
   "source": [
    "type(att_m1)"
   ]
  },
  {
   "cell_type": "code",
   "execution_count": null,
   "id": "b9fe7716-28e4-470e-be44-383308190d4c",
   "metadata": {},
   "outputs": [],
   "source": [
    "att_m1.shape"
   ]
  },
  {
   "cell_type": "code",
   "execution_count": null,
   "id": "a602b9d5-27ca-458b-bc89-4929710022e5",
   "metadata": {},
   "outputs": [],
   "source": [
    "(att_m1[\"binned_att\"].value_counts() / len(att_m1)) * 100"
   ]
  },
  {
   "cell_type": "markdown",
   "id": "c0aae5bd-12aa-43a9-9617-1065f172091c",
   "metadata": {},
   "source": [
    "## Verizon"
   ]
  },
  {
   "cell_type": "code",
   "execution_count": null,
   "id": "50e26e5f-d5a1-486e-8b17-9611ac9ae926",
   "metadata": {},
   "outputs": [],
   "source": [
    "verizon_df = utilities.load_verizon()"
   ]
  },
  {
   "cell_type": "code",
   "execution_count": null,
   "id": "14c97dfd-8a01-4ee6-b173-1826d65d6744",
   "metadata": {},
   "outputs": [],
   "source": [
    "verizon_m1 = utilities.route_cell_coverage(verizon_df, routes_df, \"_verizon\")"
   ]
  },
  {
   "cell_type": "code",
   "execution_count": null,
   "id": "88921bdc-a1a9-450a-bb65-ca05714e99fb",
   "metadata": {},
   "outputs": [],
   "source": [
    "type(verizon_m1)"
   ]
  },
  {
   "cell_type": "code",
   "execution_count": null,
   "id": "2acff039-15eb-41b8-a617-e09ff1fb85ca",
   "metadata": {},
   "outputs": [],
   "source": [
    "verizon_m1.shape"
   ]
  },
  {
   "cell_type": "code",
   "execution_count": null,
   "id": "1469ba9f-2063-4f8e-8091-f76181698436",
   "metadata": {},
   "outputs": [],
   "source": [
    "(verizon_m1[\"binned_verizon\"].value_counts() / len(verizon_m1)) * 100"
   ]
  },
  {
   "cell_type": "code",
   "execution_count": null,
   "id": "3b66c812-04cf-40b4-b824-5600e5aa823d",
   "metadata": {},
   "outputs": [],
   "source": [
    "verizon_m1.columns"
   ]
  },
  {
   "cell_type": "markdown",
   "id": "cde725ab-3625-40d7-a953-7bc168259395",
   "metadata": {},
   "source": [
    "## Merge all three providers"
   ]
  },
  {
   "cell_type": "code",
   "execution_count": null,
   "id": "bfc8b19d-6e3e-4d08-91d7-6533cabb6462",
   "metadata": {},
   "outputs": [],
   "source": [
    "common_cols = [\"route_id\", \"route_name\", \"agency\", \"itp_id\", \"route_length_original_df\"]"
   ]
  },
  {
   "cell_type": "code",
   "execution_count": null,
   "id": "499c1649-3b15-41b1-82b5-e4a95865cd52",
   "metadata": {},
   "outputs": [],
   "source": [
    "merge1 = att_m1.merge(verizon_m1, how=\"inner\", on=common_cols).merge(\n",
    "    tmobile_m1, how=\"outer\", on=common_cols\n",
    ")"
   ]
  },
  {
   "cell_type": "code",
   "execution_count": null,
   "id": "a791a49f-3dea-4427-a409-99c291f79b64",
   "metadata": {},
   "outputs": [],
   "source": [
    "# Del extra cols that are the same across dfs.\n",
    "merge1 = merge1.drop(\n",
    "    columns=[\n",
    "        \"binned_verizon\",\n",
    "        \"binned_att\",\n",
    "        \"binned_tmobile\",\n",
    "    ]\n",
    ")"
   ]
  },
  {
   "cell_type": "code",
   "execution_count": null,
   "id": "dbda56fd-7640-4f4f-acf6-d2ed82783d9e",
   "metadata": {
    "tags": []
   },
   "outputs": [],
   "source": [
    "# Ensure this is a geometry col\n",
    "merge1 = gpd.GeoDataFrame(merge1, geometry= 'geometry_overlay_verizon', crs=\"EPSG:4326\")"
   ]
  },
  {
   "cell_type": "code",
   "execution_count": null,
   "id": "ee909111-ed58-4f31-aa29-46224ac0f447",
   "metadata": {},
   "outputs": [],
   "source": [
    "type(merge1)"
   ]
  },
  {
   "cell_type": "code",
   "execution_count": null,
   "id": "65bcd626-5361-4e95-8857-4f29c01edae7",
   "metadata": {},
   "outputs": [],
   "source": [
    "merge1.shape"
   ]
  },
  {
   "cell_type": "markdown",
   "id": "4f690719-5c48-4b7e-b51c-8451d49eb9b6",
   "metadata": {},
   "source": [
    "### Some checks\n",
    "* Original df against merged."
   ]
  },
  {
   "cell_type": "code",
   "execution_count": null,
   "id": "20eb8669-94c3-4d88-a162-a52966348f32",
   "metadata": {},
   "outputs": [],
   "source": [
    "# 1 extra row missing??\n",
    "routes_df.shape, merge1.shape"
   ]
  },
  {
   "cell_type": "code",
   "execution_count": null,
   "id": "b6ea8eb5-f712-4c76-8c6d-786e66e0bb00",
   "metadata": {},
   "outputs": [],
   "source": [
    "# Find the missing row\n",
    "route_names_og = set(routes_df.route_name.unique().tolist())\n",
    "route_names_merge = set(merge1.route_name.unique().tolist())\n",
    "route_names_og - route_names_merge"
   ]
  },
  {
   "cell_type": "code",
   "execution_count": null,
   "id": "bc3a0744-98c4-44b8-988a-5563debf5f71",
   "metadata": {},
   "outputs": [],
   "source": [
    "routes_df.route_id.nunique(), merge1.route_id.nunique()"
   ]
  },
  {
   "cell_type": "code",
   "execution_count": null,
   "id": "5ef60105-eec5-4ba3-9451-ae6bfdd66b59",
   "metadata": {},
   "outputs": [],
   "source": [
    "routes_df.itp_id.nunique(), merge1.itp_id.nunique()"
   ]
  },
  {
   "cell_type": "markdown",
   "id": "37630e92-51e3-4bda-adb0-eddfb71bf921",
   "metadata": {},
   "source": [
    "### Filter out for low threshold \n",
    "* Chose 70% or less cell coverage as the threshold.\n",
    "* Most routes across the 3 providers have 90% or more coverage.\n",
    "* Verizon has the best coverage. 85% of the routes have 90% or more coverage with Verizon. "
   ]
  },
  {
   "cell_type": "code",
   "execution_count": null,
   "id": "d4b75d14-f851-4013-af37-2471c38463fe",
   "metadata": {},
   "outputs": [],
   "source": [
    "# Merge low att & verizon coverage\n",
    "m1 = low_att_coverage.merge(\n",
    "    low_verizon_coverage,\n",
    "    how=\"outer\",\n",
    "    left_on=[\"route_id_att\", \"route_name_att\", \"agency_att\", \"itp_id_att\"],\n",
    "    right_on=[\n",
    "        \"route_id_verizon\",\n",
    "        \"route_name_verizon\",\n",
    "        \"agency_verizon\",\n",
    "        \"itp_id_verizon\",\n",
    "    ],\n",
    "    indicator=True,\n",
    ")"
   ]
  },
  {
   "cell_type": "code",
   "execution_count": null,
   "id": "fe8a0201-8385-45c5-a29e-cc70807d515b",
   "metadata": {},
   "outputs": [],
   "source": [
    "m1[\"_merge\"].value_counts()"
   ]
  },
  {
   "cell_type": "code",
   "execution_count": null,
   "id": "3e007e22-c3c3-4c5b-bf96-635ce40dc30a",
   "metadata": {},
   "outputs": [],
   "source": [
    "# Turn to gpd\n",
    "m1 = gpd.GeoDataFrame(m1, geometry=\"geometry_overlay_att\", crs=\"EPSG:4326\")"
   ]
  },
  {
   "cell_type": "code",
   "execution_count": null,
   "id": "e773fe65-eb4f-42eb-99bb-d5d300f51604",
   "metadata": {},
   "outputs": [],
   "source": [
    "type(m1)"
   ]
  },
  {
   "cell_type": "code",
   "execution_count": null,
   "id": "4eaf69d1-36f6-4473-a79b-ce0709a331ed",
   "metadata": {
    "tags": []
   },
   "outputs": [],
   "source": [
    "\"\"\" m1.loc[m1[\"_merge\"] == \"both\"][\n",
    "    [\"route_name_att\", \"route_name_verizon\", \"percentage_verizon\", \"percentage_att\"]\n",
    "].drop_duplicates(subset=[\"route_name_att\"]) \"\"\""
   ]
  },
  {
   "cell_type": "markdown",
   "id": "b1b25205-a1b1-4985-b56b-019db0f9b618",
   "metadata": {},
   "source": [
    "#### Check a left only value for Verizon\n",
    "* Left only routes have more than 70% coverage through Verizon."
   ]
  },
  {
   "cell_type": "code",
   "execution_count": null,
   "id": "2b7d258d-ec31-4df6-95aa-a8dbacd53bd9",
   "metadata": {},
   "outputs": [],
   "source": [
    "verizon_m1.loc[verizon_m1[\"route_name_verizon\"] == \"Ridgecrest Shuttle\"][\n",
    "    [\n",
    "        \"route_name_verizon\",\n",
    "        \"percentage_verizon\",\n",
    "    ]\n",
    "]"
   ]
  },
  {
   "cell_type": "code",
   "execution_count": null,
   "id": "361dc7a3-97f4-4a3d-be2c-79140b621db2",
   "metadata": {},
   "outputs": [],
   "source": [
    "verizon_m1.loc[verizon_m1[\"route_name_verizon\"] == \"Mainline AM/PM\"][\n",
    "    [\n",
    "        \"route_name_verizon\",\n",
    "        \"percentage_verizon\",\n",
    "    ]\n",
    "]"
   ]
  },
  {
   "cell_type": "code",
   "execution_count": null,
   "id": "43f6a0c9-f7b4-41ed-a193-061d182e7b32",
   "metadata": {},
   "outputs": [],
   "source": [
    "# Filter out for only both, these are routes that really dont have any more than 60% cellular coverage among AT&T and Verizon\n",
    "m1 = m1.loc[m1[\"_merge\"] == \"both\"]"
   ]
  },
  {
   "cell_type": "code",
   "execution_count": null,
   "id": "cadeb80a-2fb8-4409-b5a1-39d55548ab8a",
   "metadata": {},
   "outputs": [],
   "source": [
    "# Drop unwanted cols\n",
    "m1 = m1.drop(\n",
    "    columns=[\n",
    "        \"_merge\",\n",
    "        \"route_type_att\",\n",
    "        \"binned_att\",\n",
    "        \"route_id_verizon\",\n",
    "        \"route_name_verizon\",\n",
    "        \"agency_verizon\",\n",
    "        \"itp_id_verizon\",\n",
    "        \"geometry_overlay_verizon\",\n",
    "        \"route_length_overlay_verizon\",\n",
    "        \"geometry_original_df_verizon\",\n",
    "        \"route_type_verizon\",\n",
    "        \"route_length_original_df_verizon\",\n",
    "        \"binned_verizon\",\n",
    "    ]\n",
    ")"
   ]
  },
  {
   "cell_type": "code",
   "execution_count": null,
   "id": "3784ca64-9f8f-4425-bac7-c73ddbdd187e",
   "metadata": {},
   "outputs": [],
   "source": [
    "m1.shape"
   ]
  },
  {
   "cell_type": "code",
   "execution_count": null,
   "id": "9f138202-578c-42c9-8cd5-fd7d3be67bc3",
   "metadata": {},
   "outputs": [],
   "source": [
    "# Merge att & verizon coverage\n",
    "m2 = pd.merge(\n",
    "    m1,\n",
    "    low_tmobile_coverage,\n",
    "    how=\"outer\",\n",
    "    left_on=[\"route_id_att\", \"route_name_att\", \"agency_att\", \"itp_id_att\"],\n",
    "    right_on=[\n",
    "        \"route_id_tmobile\",\n",
    "        \"route_name_tmobile\",\n",
    "        \"agency_tmobile\",\n",
    "        \"itp_id_tmobile\",\n",
    "    ],\n",
    "    indicator=True,\n",
    ")"
   ]
  },
  {
   "cell_type": "code",
   "execution_count": null,
   "id": "13f2c819-e902-4aec-a87d-b93ca300557e",
   "metadata": {},
   "outputs": [],
   "source": [
    "# Make sure it remains a GDF\n",
    "m1 = gpd.GeoDataFrame(m1, geometry=\"geometry_overlay_att\", crs=\"EPSG:4326\")"
   ]
  },
  {
   "cell_type": "code",
   "execution_count": null,
   "id": "2df7ab66-0473-4176-bdbc-c42d8b0352b4",
   "metadata": {},
   "outputs": [],
   "source": [
    "m2[\"_merge\"].value_counts()"
   ]
  },
  {
   "cell_type": "code",
   "execution_count": null,
   "id": "21002b8c-e77d-41b3-8448-16f3f6233abf",
   "metadata": {},
   "outputs": [],
   "source": [
    "# Filter out for only both, these are routes that really dont have any more than treshold % cellular coverage among all 3\n",
    "m3 = m2.loc[m2[\"_merge\"] == \"both\"]"
   ]
  },
  {
   "cell_type": "code",
   "execution_count": null,
   "id": "6919add2-9f76-44b5-b60a-7104ae9a4897",
   "metadata": {},
   "outputs": [],
   "source": [
    "m3 = m3.drop(\n",
    "    columns=[\n",
    "        \"route_id_tmobile\",\n",
    "        \"route_name_tmobile\",\n",
    "        \"agency_tmobile\",\n",
    "        \"itp_id_tmobile\",\n",
    "        \"geometry_overlay_tmobile\",\n",
    "        \"route_length_overlay_tmobile\",\n",
    "        \"geometry_original_df_tmobile\",\n",
    "        \"route_type_tmobile\",\n",
    "        \"route_length_original_df_tmobile\",\n",
    "        \"binned_tmobile\",\n",
    "        \"_merge\",\n",
    "    ]\n",
    ")"
   ]
  },
  {
   "cell_type": "code",
   "execution_count": null,
   "id": "c846db81-c0b1-4545-b91e-1bcaf86c6923",
   "metadata": {},
   "outputs": [],
   "source": [
    "# preview df\n",
    "m3.drop(columns=[\"geometry_original_df_att\", \"geometry_overlay_att\"]).sample(3)"
   ]
  },
  {
   "cell_type": "code",
   "execution_count": null,
   "id": "185b5325-912c-4362-8caa-e3e910c130df",
   "metadata": {},
   "outputs": [],
   "source": [
    "threshold = 70"
   ]
  },
  {
   "cell_type": "code",
   "execution_count": null,
   "id": "9f1c30a6-00a3-40bd-9cd7-fbb91204d162",
   "metadata": {},
   "outputs": [],
   "source": [
    "# Only keep routes that have less than threshold across all 3 providers.\n",
    "low_coverage = merge1[\n",
    "    (merge1[\"percentage_verizon\"] < threshold)\n",
    "    & (merge1[\"percentage_tmobile\"] < threshold)\n",
    "    & (merge1[\"percentage_att\"] < threshold)\n",
    "]"
   ]
  },
  {
   "cell_type": "code",
   "execution_count": null,
   "id": "21fc324b-87c4-4ca2-9256-cb60d306254b",
   "metadata": {},
   "outputs": [],
   "source": [
    "# Create a column with median of all three providers\n",
    "low_coverage[\"median_cell_coverage_percentage\"] = low_coverage[\n",
    "    [\"percentage_verizon\", \"percentage_tmobile\", \"percentage_att\"]\n",
    "].mean(axis=1)"
   ]
  },
  {
   "cell_type": "code",
   "execution_count": null,
   "id": "ec089903-0905-4ff7-ab00-ff66f4a11b34",
   "metadata": {},
   "outputs": [],
   "source": [
    "len(low_coverage), type(low_coverage), low_coverage.route_id.nunique()"
   ]
  },
  {
   "cell_type": "code",
   "execution_count": null,
   "id": "c69f2fd6-7bd1-4661-9694-4ca16c850d5e",
   "metadata": {},
   "outputs": [],
   "source": [
    "low_coverage.columns"
   ]
  },
  {
   "cell_type": "code",
   "execution_count": null,
   "id": "26723d11-10ee-40ff-a1b8-f7414c96be63",
   "metadata": {
    "scrolled": true,
    "tags": []
   },
   "outputs": [],
   "source": [
    "# (low_coverage.loc[:,~low_coverage.columns.str.contains('^geometry', case=False)]).head(3)"
   ]
  },
  {
   "cell_type": "markdown",
   "id": "260a821a-0246-4176-abf3-3a8dd1687722",
   "metadata": {},
   "source": [
    "## Add trips\n",
    "* Add one column for total trips that an agency completes across all routes.\n",
    "* Add another column for total trips ONLY for routes with low coverage. "
   ]
  },
  {
   "cell_type": "code",
   "execution_count": null,
   "id": "9d537c04-f42d-455e-99ba-d293b4517909",
   "metadata": {},
   "outputs": [],
   "source": [
    "trips  = utilities.trip_df()"
   ]
  },
  {
   "cell_type": "code",
   "execution_count": null,
   "id": "14fd9c3a-6f0d-46c6-8481-185e8ffe881f",
   "metadata": {},
   "outputs": [],
   "source": [
    "trips.columns"
   ]
  },
  {
   "cell_type": "code",
   "execution_count": null,
   "id": "48e4319f-6e73-422f-a630-4c1c94c094c9",
   "metadata": {},
   "outputs": [],
   "source": [
    "# Merge the 2 filtered at&t and verizon dataframes so we can see which routes overlap\n",
    "trips_routes = pd.merge(\n",
    "    low_coverage,\n",
    "    trips,\n",
    "    how=\"left\",\n",
    "    left_on=[\"itp_id\", \"route_id\"],\n",
    "    right_on=[\"calitp_itp_id\", 'route_id'],\n",
    "    indicator=True,\n",
    ")"
   ]
  },
  {
   "cell_type": "code",
   "execution_count": null,
   "id": "77aa81da-ac04-416f-9e75-701e67c0ba51",
   "metadata": {},
   "outputs": [],
   "source": [
    "trips_routes[\"_merge\"].value_counts()"
   ]
  },
  {
   "cell_type": "code",
   "execution_count": null,
   "id": "9dd10448-61c4-4a01-aff8-26d7af5c6a4a",
   "metadata": {},
   "outputs": [],
   "source": [
    "# Add column for percentage of trips for the route in question compared with\n",
    "# All the trips an agency has done\n",
    "trips_routes[\"percentage_of_trips_w_low_cell_service\"] = (\n",
    "    trips_routes[\"total_trips_by_route\"] / trips_routes[\"total_trips_by_agency\"]\n",
    ")"
   ]
  },
  {
   "cell_type": "code",
   "execution_count": null,
   "id": "4c217d0e-93e9-4e40-a0c7-a069ab268bb9",
   "metadata": {},
   "outputs": [],
   "source": [
    "trips_routes = trips_routes.drop(columns=[\"_merge\", \"calitp_itp_id\"])"
   ]
  },
  {
   "cell_type": "code",
   "execution_count": null,
   "id": "f3bcc352-1803-47c5-918a-63530920e7f1",
   "metadata": {},
   "outputs": [],
   "source": [
    "trips_routes.shape"
   ]
  },
  {
   "cell_type": "markdown",
   "id": "91e75bd9-2c0d-4fc0-a384-e83de3dc11d7",
   "metadata": {},
   "source": [
    "## Add NTD"
   ]
  },
  {
   "cell_type": "code",
   "execution_count": null,
   "id": "87e35782-c20b-47ba-87b6-5161bb8a4607",
   "metadata": {},
   "outputs": [],
   "source": [
    "# Load NTD vehicles\n",
    "ntd_df = utilities.ntd_vehicles()[[\"agency\", \"total_buses\"]]"
   ]
  },
  {
   "cell_type": "code",
   "execution_count": null,
   "id": "e74f09dc-4957-42c0-972d-d1ff8d26b8ba",
   "metadata": {},
   "outputs": [],
   "source": [
    "# Replace agency names in NTD to match routes_df above\n",
    "ntd_df[\"agency\"] = ntd_df[\"agency\"].replace(\n",
    "    {\n",
    "        \"Trinity County\": \"Trinity Transit\",\n",
    "        \"City of Calabasas\": \"Calabasas Transit System\",\n",
    "        \"County of Sonoma\": \"Sonoma County Transit\",\n",
    "        \"Tehama County\": \"Tehama Rural Area eXpress\",\n",
    "        \"Los Angeles County Department of Public Works - East L.A.\": \"East Los Angeles Shuttle\",\n",
    "        \"Sacramento Regional Transit District\": \"Sacramento Regional Transit District\",\n",
    "        \"Eastern Sierra Transit Authority\": \"Mammoth Lakes Transit System\",\n",
    "        \"City of Lompoc\": \"City of Lompoc Transit\",\n",
    "        \"San Luis Obispo Regional Transit Authority\": \"South County Transit Link\",\n",
    "        \"City of Roseville\": \"Roseville Transit\",\n",
    "        \"Los Angeles County Dept. of Public Works - Athens Shuttle Service\": \"the Link-Athens\",\n",
    "        \"Los Angeles County Department of Public Works - Avocado Heights\": \"Avocado Heights/Bassett/West Valinda Shuttle\",\n",
    "        \"Susanville Indian Rancheria\": \"Susanville Indian Rancheria Public Transportation Program\",\n",
    "        \"Transit Joint Powers Authority for Merced County\": \"Merced The Bus\",\n",
    "        \"City of Eureka\": \"Eureka Transit Service\",\n",
    "        \"Nevada County Transit Services\": \"Gold Country Stage\",\n",
    "        \"San Mateo County Transit District\": \"SamTrans\",\n",
    "        \"Redwood Coast Transit Authority\": \"Redwood Coast Transit\",\n",
    "        \"City of Avalon\": \"Avalon Transit\",\n",
    "        \"City of Lodi\": \"Grapeline\",\n",
    "        \"Golden Gate Bridge\": \"Golden Gate Bridge Highway and Transportation District\",\n",
    "        \"City of Santa Maria\": \"Santa Maria Area Transit\",\n",
    "    }\n",
    ")"
   ]
  },
  {
   "cell_type": "code",
   "execution_count": null,
   "id": "fbe3c094-0b5f-46a1-a389-416e0ffc2515",
   "metadata": {},
   "outputs": [],
   "source": [
    "# Replace agency names in agency4 to match ntd\n",
    "trips_routes[\"agency\"] = trips_routes[\"agency\"].replace(\n",
    "    {\n",
    "        \"Cloverdale Transit\": \"Sonoma County Transit\",\n",
    "    }\n",
    ")"
   ]
  },
  {
   "cell_type": "code",
   "execution_count": null,
   "id": "019d9f40-684d-4d7a-9ff5-6de1b994329e",
   "metadata": {},
   "outputs": [],
   "source": [
    "trips_routes_ntd = pd.merge(\n",
    "    trips_routes,\n",
    "    ntd_df,\n",
    "    how=\"left\",\n",
    "    on=\"agency\",\n",
    "    indicator=True,\n",
    ")"
   ]
  },
  {
   "cell_type": "code",
   "execution_count": null,
   "id": "db758356-0b13-41c6-8b06-d3225124903b",
   "metadata": {},
   "outputs": [],
   "source": [
    "# Create col to find number of buses that run in low cell coverage routes.\n",
    "trips_routes_ntd[\"estimate_of_buses_in_low_cell_zones\"] = (\n",
    "    (trips_routes_ntd[\"total_buses\"] * trips_routes_ntd[\"percentage_of_trips_w_low_cell_service\"])\n",
    "    .fillna(0)\n",
    "    .astype(\"int64\")\n",
    ")"
   ]
  },
  {
   "cell_type": "markdown",
   "id": "71fec63e-7c9f-4670-bcbb-60f8389ff6cd",
   "metadata": {},
   "source": [
    "## Final"
   ]
  },
  {
   "cell_type": "markdown",
   "id": "c0b2c23a-6028-4210-944f-0729fde8ea25",
   "metadata": {},
   "source": [
    "### There are a lot of same route-id and same route-name combos but run by different agencies.\n",
    "* Scanned [agencies](https://github.com/cal-itp/data-infra/blob/main/airflow/data/agencies.yml) to make sure all duplicates lead to the same gtsf schedule url.\n",
    "* If so, del duplicates."
   ]
  },
  {
   "cell_type": "code",
   "execution_count": null,
   "id": "eb313161-8177-442c-a77e-1eddcfddb5fc",
   "metadata": {},
   "outputs": [],
   "source": [
    "trips_routes_ntd.route_id.value_counts()"
   ]
  },
  {
   "cell_type": "code",
   "execution_count": null,
   "id": "45101a8b-159f-43cf-a5f1-0e8c929e2b69",
   "metadata": {
    "scrolled": true,
    "tags": []
   },
   "outputs": [],
   "source": [
    "# Del duplicates based on whichever agency with the same route has the most buses.\n",
    "final = trips_routes_ntd.sort_values(\n",
    "    [\"route_id\", \"route_name\", \"total_buses\"], ascending=[True, True, False]\n",
    ").drop_duplicates(subset=[\"route_id\", \"route_name\"])"
   ]
  },
  {
   "cell_type": "code",
   "execution_count": null,
   "id": "679c272d-411a-443e-90f6-9e4548d241f0",
   "metadata": {},
   "outputs": [],
   "source": [
    "final.shape, type(final)"
   ]
  },
  {
   "cell_type": "code",
   "execution_count": null,
   "id": "1ad913db-5d6e-4aa7-bf02-31d61403de6d",
   "metadata": {},
   "outputs": [],
   "source": [
    "final= final.set_geometry('geometry_overlay_att')"
   ]
  },
  {
   "cell_type": "markdown",
   "id": "bfd94673-9d25-4548-9326-e73f6326bbed",
   "metadata": {
    "tags": []
   },
   "source": [
    "### Some of the results are surprising...wouldn't expect urban areas to have routes on this list"
   ]
  },
  {
   "cell_type": "code",
   "execution_count": null,
   "id": "22afd156-85fd-4562-a15f-a97173348a4f",
   "metadata": {
    "scrolled": true,
    "tags": []
   },
   "outputs": [],
   "source": [
    "# https://stackoverflow.com/questions/38383886/drop-column-based-on-a-string-condition\n",
    "final.loc[:, ~final.columns.str.contains('route_length|geometry|_merge')]"
   ]
  },
  {
   "cell_type": "code",
   "execution_count": null,
   "id": "cebd2c31-d1b3-47fc-9286-8bea4210b263",
   "metadata": {},
   "outputs": [],
   "source": [
    "final.explore(\n",
    "    \"route_name\",\n",
    "    width=800,\n",
    "    height=400,\n",
    "    tooltip=[\"route_name\"],\n",
    "    style_kwds={\"weight\": 6},\n",
    "    legend=False,\n",
    "    color=\"tab20c\",\n",
    ")"
   ]
  },
  {
   "cell_type": "code",
   "execution_count": null,
   "id": "5e748b82-d2ec-4f88-85ba-81ed9aecd35a",
   "metadata": {},
   "outputs": [],
   "source": [
    "# Grab route ID&agency\n",
    "final_routes = final[[\"route_id\", \"agency\"]]"
   ]
  },
  {
   "cell_type": "code",
   "execution_count": null,
   "id": "78d8a520-dce5-492c-83eb-c30d247f283a",
   "metadata": {},
   "outputs": [],
   "source": [
    "routes_df2 = pd.merge(routes_df, final_routes, how=\"inner\", on=[\"route_id\", \"agency\"])"
   ]
  },
  {
   "cell_type": "code",
   "execution_count": null,
   "id": "f1c7a411-aabd-4df0-9c34-27184ecb8c74",
   "metadata": {},
   "outputs": [],
   "source": [
    "routes_df2.columns"
   ]
  },
  {
   "cell_type": "code",
   "execution_count": null,
   "id": "0ddc9fea-7882-48c7-b5e1-53d03fe2734b",
   "metadata": {},
   "outputs": [],
   "source": [
    "routes_df2.explore(\n",
    "    \"route_length\",\n",
    "    width=800,\n",
    "    height=400,\n",
    "    tooltip=[\"route_name\", \"agency\"],\n",
    "    style_kwds={\"weight\": 6},\n",
    "    legend=False,\n",
    "    color=\"tab20c\",\n",
    ")"
   ]
  }
 ],
 "metadata": {
  "kernelspec": {
   "display_name": "Python 3 (ipykernel)",
   "language": "python",
   "name": "python3"
  },
  "language_info": {
   "codemirror_mode": {
    "name": "ipython",
    "version": 3
   },
   "file_extension": ".py",
   "mimetype": "text/x-python",
   "name": "python",
   "nbconvert_exporter": "python",
   "pygments_lexer": "ipython3",
   "version": "3.10.5"
  }
 },
 "nbformat": 4,
 "nbformat_minor": 5
}
