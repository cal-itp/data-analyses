{
 "cells": [
  {
   "cell_type": "markdown",
   "id": "b928e731-21e0-43cf-9e0d-225fe3219958",
   "metadata": {},
   "source": [
    "# Analysis\n",
    "* Create yml for all my files. \n",
    "* Save overlay? "
   ]
  },
  {
   "cell_type": "code",
   "execution_count": 1,
   "id": "6e564810-c581-4d7a-9200-17e9cb3653b3",
   "metadata": {},
   "outputs": [
    {
     "name": "stderr",
     "output_type": "stream",
     "text": [
      "/opt/conda/lib/python3.10/site-packages/geopandas/_compat.py:112: UserWarning: The Shapely GEOS version (3.10.3-CAPI-1.16.1) is incompatible with the GEOS version PyGEOS was compiled with (3.10.1-CAPI-1.16.0). Conversions between both will be slow.\n",
      "  warnings.warn(\n"
     ]
    }
   ],
   "source": [
    "# Read in zip files\n",
    "# Graphs\n",
    "import altair as alt\n",
    "import fsspec\n",
    "import geopandas as gpd\n",
    "import intake\n",
    "import numpy as np\n",
    "import pandas as pd\n",
    "\n",
    "# My utilities\n",
    "import utilities\n",
    "from calitp import *\n",
    "\n",
    "# Display\n",
    "from IPython.display import HTML, Image, Markdown, display, display_html\n",
    "\n",
    "# Geometry\n",
    "from shared_utils import geography_utils, utils"
   ]
  },
  {
   "cell_type": "code",
   "execution_count": 2,
   "id": "92fabdd3-f7be-42e8-8d71-11f7960429aa",
   "metadata": {},
   "outputs": [],
   "source": [
    "pd.options.display.max_columns = 100\n",
    "pd.options.display.float_format = \"{:.2f}\".format\n",
    "pd.set_option(\"display.max_rows\", None)\n",
    "pd.set_option(\"display.max_colwidth\", None)"
   ]
  },
  {
   "cell_type": "code",
   "execution_count": 3,
   "id": "39fa1361-fc3d-49bd-8681-522aefd983bd",
   "metadata": {},
   "outputs": [],
   "source": [
    "GCS_FILE_PATH = \"gs://calitp-analytics-data/data-analyses/cellular_coverage/\""
   ]
  },
  {
   "cell_type": "code",
   "execution_count": 4,
   "id": "2ebb09d9-302c-4bf7-ab9a-59b30c028d1b",
   "metadata": {},
   "outputs": [],
   "source": [
    "routes_df = utilities.load_unique_routes_df()"
   ]
  },
  {
   "cell_type": "markdown",
   "id": "f9753413-24f7-4a2c-af2d-410c593a0914",
   "metadata": {},
   "source": [
    "## AT&T"
   ]
  },
  {
   "cell_type": "code",
   "execution_count": 5,
   "id": "9f2b2db2-51e5-4e30-b466-7626069e79ad",
   "metadata": {},
   "outputs": [],
   "source": [
    "att_df = utilities.load_att()"
   ]
  },
  {
   "cell_type": "code",
   "execution_count": 6,
   "id": "b21218ac-4cb9-4b28-a237-c72df293bd4f",
   "metadata": {},
   "outputs": [],
   "source": [
    "att_m1 = utilities.route_cell_coverage(att_df, routes_df)"
   ]
  },
  {
   "cell_type": "code",
   "execution_count": 7,
   "id": "a602b9d5-27ca-458b-bc89-4929710022e5",
   "metadata": {},
   "outputs": [
    {
     "data": {
      "text/plain": [
       "(90, 100]    2069\n",
       "(80, 90]      139\n",
       "(70, 80]       75\n",
       "(60, 70]       44\n",
       "(50, 60]       38\n",
       "(10, 20]        4\n",
       "(20, 30]        2\n",
       "(30, 40]        2\n",
       "(40, 50]        2\n",
       "(0, 10]         0\n",
       "Name: binned, dtype: int64"
      ]
     },
     "execution_count": 7,
     "metadata": {},
     "output_type": "execute_result"
    }
   ],
   "source": [
    "att_m1[\"binned\"].value_counts()"
   ]
  },
  {
   "cell_type": "markdown",
   "id": "c0aae5bd-12aa-43a9-9617-1065f172091c",
   "metadata": {},
   "source": [
    "## Verizon"
   ]
  },
  {
   "cell_type": "code",
   "execution_count": 8,
   "id": "50e26e5f-d5a1-486e-8b17-9611ac9ae926",
   "metadata": {},
   "outputs": [],
   "source": [
    "verizon_df = utilities.load_verizon()"
   ]
  },
  {
   "cell_type": "code",
   "execution_count": 9,
   "id": "14c97dfd-8a01-4ee6-b173-1826d65d6744",
   "metadata": {},
   "outputs": [],
   "source": [
    "verizon_m1 = utilities.route_cell_coverage(verizon_df, routes_df)"
   ]
  },
  {
   "cell_type": "code",
   "execution_count": 10,
   "id": "1469ba9f-2063-4f8e-8091-f76181698436",
   "metadata": {},
   "outputs": [
    {
     "data": {
      "text/plain": [
       "(90, 100]    2414\n",
       "(80, 90]      168\n",
       "(70, 80]       74\n",
       "(60, 70]       38\n",
       "(50, 60]       29\n",
       "(40, 50]        3\n",
       "(10, 20]        2\n",
       "(30, 40]        2\n",
       "(0, 10]         0\n",
       "(20, 30]        0\n",
       "Name: binned, dtype: int64"
      ]
     },
     "execution_count": 10,
     "metadata": {},
     "output_type": "execute_result"
    }
   ],
   "source": [
    "verizon_m1[\"binned\"].value_counts()"
   ]
  },
  {
   "cell_type": "markdown",
   "id": "cde725ab-3625-40d7-a953-7bc168259395",
   "metadata": {},
   "source": [
    "## Compare routes in the 2 data sets"
   ]
  },
  {
   "cell_type": "code",
   "execution_count": 11,
   "id": "705237dc-cb47-421a-8c65-cac307a0aa1c",
   "metadata": {
    "scrolled": true,
    "tags": []
   },
   "outputs": [],
   "source": [
    "# Filter out for maybe <=60%?\n",
    "low_att_coverage = att_m1.loc[att_m1[\"percentage\"] < 61].reset_index(drop=True)\n",
    "low_verizon_coverage = verizon_m1.loc[verizon_m1[\"percentage\"] < 61].reset_index(\n",
    "    drop=True\n",
    ")\n",
    "\n",
    "# Repeat of routes w/ same route id & route name run by different agencies?\n",
    "# low_att_coverage2 = low_att_coverage.sort_values(['percentage', 'agency']).drop_duplicates(subset = ['route_name','route_id']).reset_index(drop = True)"
   ]
  },
  {
   "cell_type": "code",
   "execution_count": 12,
   "id": "300a2c0f-54bf-4038-ac12-4d061716bfc0",
   "metadata": {},
   "outputs": [],
   "source": [
    "# Merge the 2 filtered at&t and verizon dataframes so we can see which routes overlap\n",
    "m2 = pd.merge(\n",
    "    low_att_coverage,\n",
    "    low_verizon_coverage,\n",
    "    how=\"outer\",\n",
    "    on=[\"route_id\", \"route_name\", \"itp_id\", \"agency\"],\n",
    "    suffixes=[\"_att\", \"_verizon\"],\n",
    "    indicator=True,\n",
    ")"
   ]
  },
  {
   "cell_type": "code",
   "execution_count": 13,
   "id": "ccecdc41-eedb-4ff6-be84-0323c352147e",
   "metadata": {},
   "outputs": [
    {
     "data": {
      "text/plain": [
       "both          29\n",
       "left_only     24\n",
       "right_only     9\n",
       "Name: _merge, dtype: int64"
      ]
     },
     "execution_count": 13,
     "metadata": {},
     "output_type": "execute_result"
    }
   ],
   "source": [
    "m2[\"_merge\"].value_counts()"
   ]
  },
  {
   "cell_type": "code",
   "execution_count": 14,
   "id": "84433897-f2bc-49a0-9173-e56fc67f1b63",
   "metadata": {},
   "outputs": [],
   "source": [
    "# Filter out for both, becuase if a route is left or right only, it means it has 60% or more coverage by at least one provider.\n",
    "m3 = m2.loc[m2[\"_merge\"] == \"both\"].reset_index(drop=True)"
   ]
  },
  {
   "cell_type": "code",
   "execution_count": 15,
   "id": "69029cdc-4969-4004-94c2-732832fbb7cf",
   "metadata": {
    "tags": []
   },
   "outputs": [
    {
     "data": {
      "text/html": [
       "<div>\n",
       "<style scoped>\n",
       "    .dataframe tbody tr th:only-of-type {\n",
       "        vertical-align: middle;\n",
       "    }\n",
       "\n",
       "    .dataframe tbody tr th {\n",
       "        vertical-align: top;\n",
       "    }\n",
       "\n",
       "    .dataframe thead th {\n",
       "        text-align: right;\n",
       "    }\n",
       "</style>\n",
       "<table border=\"1\" class=\"dataframe\">\n",
       "  <thead>\n",
       "    <tr style=\"text-align: right;\">\n",
       "      <th></th>\n",
       "      <th>route_name</th>\n",
       "      <th>agency</th>\n",
       "      <th>percentage</th>\n",
       "    </tr>\n",
       "  </thead>\n",
       "  <tbody>\n",
       "    <tr>\n",
       "      <th>311</th>\n",
       "      <td>Route 20 Smith River / Arcata</td>\n",
       "      <td>Redwood Coast Transit</td>\n",
       "      <td>77.65</td>\n",
       "    </tr>\n",
       "  </tbody>\n",
       "</table>\n",
       "</div>"
      ],
      "text/plain": [
       "                        route_name                 agency  percentage\n",
       "311  Route 20 Smith River / Arcata  Redwood Coast Transit       77.65"
      ]
     },
     "execution_count": 15,
     "metadata": {},
     "output_type": "execute_result"
    }
   ],
   "source": [
    "# Test to make sure\n",
    "verizon_m1.loc[verizon_m1['route_name'] == 'Route 20 Smith River / Arcata'][['route_name','agency','percentage']]"
   ]
  },
  {
   "cell_type": "code",
   "execution_count": 16,
   "id": "b2fcd034-e1c4-4557-9333-a4727777781a",
   "metadata": {},
   "outputs": [],
   "source": [
    "m3 = m3.drop(columns = ['_merge']) "
   ]
  },
  {
   "cell_type": "markdown",
   "id": "260a821a-0246-4176-abf3-3a8dd1687722",
   "metadata": {},
   "source": [
    "# Add trips"
   ]
  },
  {
   "cell_type": "code",
   "execution_count": 17,
   "id": "9d537c04-f42d-455e-99ba-d293b4517909",
   "metadata": {},
   "outputs": [],
   "source": [
    "trips_df = utilities.load_clean_trips_df()"
   ]
  },
  {
   "cell_type": "code",
   "execution_count": 18,
   "id": "6220f4ec-9f7f-4c53-b034-cb0bf5a262b2",
   "metadata": {},
   "outputs": [],
   "source": [
    "# Merge the 2 filtered at&t and verizon dataframes so we can see which routes overlap\n",
    "m4 = pd.merge(\n",
    "    m3,\n",
    "    trips_df,\n",
    "    how=\"left\",\n",
    "    left_on=[\"route_id\", \"itp_id\"],\n",
    "    right_on = [\"route_id\",\"calitp_itp_id\"],\n",
    "    indicator=True,\n",
    ")"
   ]
  },
  {
   "cell_type": "code",
   "execution_count": 19,
   "id": "aaeade15-6dba-4a12-bda1-1faa9de3e49a",
   "metadata": {},
   "outputs": [
    {
     "data": {
      "text/plain": [
       "both          25\n",
       "left_only      4\n",
       "right_only     0\n",
       "Name: _merge, dtype: int64"
      ]
     },
     "execution_count": 19,
     "metadata": {},
     "output_type": "execute_result"
    }
   ],
   "source": [
    "m4['_merge'].value_counts()"
   ]
  },
  {
   "cell_type": "code",
   "execution_count": 20,
   "id": "5153adc2-1072-4138-a6df-df9700a0608f",
   "metadata": {},
   "outputs": [
    {
     "data": {
      "text/plain": [
       "17"
      ]
     },
     "execution_count": 20,
     "metadata": {},
     "output_type": "execute_result"
    }
   ],
   "source": [
    "m4.route_id.nunique()"
   ]
  },
  {
   "cell_type": "code",
   "execution_count": 21,
   "id": "03138787-555b-49c7-9c89-2be7c304bdea",
   "metadata": {},
   "outputs": [],
   "source": [
    "m4 = m4.drop(columns = ['_merge'])"
   ]
  },
  {
   "cell_type": "markdown",
   "id": "91e75bd9-2c0d-4fc0-a384-e83de3dc11d7",
   "metadata": {},
   "source": [
    "# Add NTD\n",
    "* Agencies to change\n",
    "* 'Trinity County': Trity Transit\n",
    "* 'City of Calabasas',\n",
    "* 'County of Sonoma, dba: Sonoma County Transit': 'Sonoma County Transit'\n",
    "* 'Tehama County', Tehama Rural Area eXpress\n",
    "* East Los Angeles Shuttle: 'Los Angeles County Department of Public Works - East L.A.',\n",
    "* 'Sacramento Regional Transit District, dba: Sacramento RT':'Sacramento Regional Transit District'\n",
    "* 'Eastern Sierra Transit Authority': Mammoth Lakes Transit System\n",
    "* 'City of Lompoc, dba: Lompoc Transit': City of Lompoc Transit\n",
    "* 'San Luis Obispo Regional Transit Authority': South County Transit Link\n",
    "* 'City of Roseville, dba: Roseville Transit': Roseville Transit\n",
    "* the Link-Athens"
   ]
  },
  {
   "cell_type": "code",
   "execution_count": 22,
   "id": "463f2e92-86b2-499b-9e0a-306ba5a7f559",
   "metadata": {
    "scrolled": true,
    "tags": []
   },
   "outputs": [],
   "source": [
    "# m4[['route_id', 'route_name', 'agency', 'itp_id','total_trips', 'percentage_att', 'binned_att', 'percentage_verizon', 'binned_verizon','_merge']].sort_values('route_name')"
   ]
  },
  {
   "cell_type": "code",
   "execution_count": 23,
   "id": "87e35782-c20b-47ba-87b6-5161bb8a4607",
   "metadata": {},
   "outputs": [],
   "source": [
    "# Merge the above with ntd_data\n",
    "ntd_df = utilities.ntd_vehicles()"
   ]
  },
  {
   "cell_type": "code",
   "execution_count": 29,
   "id": "81a83fe4-10ca-4a0a-a705-8b4cbeadb242",
   "metadata": {
    "scrolled": true,
    "tags": []
   },
   "outputs": [
    {
     "data": {
      "text/plain": [
       "['Access Services',\n",
       " 'Alameda-Contra Costa Transit District',\n",
       " 'Alpine County Local Transportation Commission',\n",
       " 'Amador Regional Transit System',\n",
       " 'Anaheim Transportation Network',\n",
       " 'Antelope Valley Transit Authority',\n",
       " 'Blue Lake Rancheria',\n",
       " 'Butte County Association of Governments',\n",
       " 'Calaveras Transit Agency',\n",
       " 'California Vanpool Authority',\n",
       " 'Central Contra Costa Transit Authority',\n",
       " 'City and County of San Francisco',\n",
       " 'City of Agoura Hills',\n",
       " 'City of Alhambra',\n",
       " 'City of Arcadia',\n",
       " 'City of Arcata',\n",
       " 'City of Arvin',\n",
       " 'City of Atascadero',\n",
       " 'City of Auburn',\n",
       " 'City of Avalon',\n",
       " 'City of Azusa',\n",
       " 'City of Baldwin Park',\n",
       " 'City of Bell',\n",
       " 'City of Bell Gardens',\n",
       " 'City of Bellflower',\n",
       " 'City of Beverly Hills',\n",
       " 'City of Burbank',\n",
       " 'City of Calabasas',\n",
       " 'City of California City',\n",
       " 'City of Camarillo',\n",
       " 'City of Carson',\n",
       " 'City of Cerritos',\n",
       " 'City of Chowchilla',\n",
       " 'City of Claremont',\n",
       " 'City of Commerce',\n",
       " 'City of Compton ',\n",
       " 'City of Corcoran',\n",
       " 'City of Corona',\n",
       " 'City of Covina',\n",
       " 'City of Cudahy',\n",
       " 'City of Culver City',\n",
       " 'City of Davis',\n",
       " 'City of Delano',\n",
       " 'City of Dinuba',\n",
       " 'City of Dixon',\n",
       " 'City of Downey',\n",
       " 'City of El Monte',\n",
       " 'City of El Segundo',\n",
       " 'City of Elk Grove',\n",
       " 'City of Escalon',\n",
       " 'City of Eureka',\n",
       " 'City of Fairfield',\n",
       " 'City of Fresno',\n",
       " 'City of Gardena',\n",
       " 'City of Glendale',\n",
       " 'City of Glendora',\n",
       " 'City of Guadalupe',\n",
       " 'City of Hawaiian Gardens',\n",
       " 'City of Huntington Park',\n",
       " 'City of Inglewood',\n",
       " 'City of La Mirada',\n",
       " 'City of Laguna Beach',\n",
       " 'City of Lakewood',\n",
       " 'City of Lawndale',\n",
       " 'City of Lodi',\n",
       " 'City of Lompoc',\n",
       " 'City of Los Angeles',\n",
       " 'City of Lynwood',\n",
       " 'City of Madera',\n",
       " 'City of Malibu',\n",
       " 'City of Manhattan Beach',\n",
       " 'City of Manteca',\n",
       " 'City of Maywood',\n",
       " 'City of McFarland',\n",
       " 'City of Modesto',\n",
       " 'City of Monrovia',\n",
       " 'City of Montebello',\n",
       " 'City of Monterey Park',\n",
       " 'City of Moorpark',\n",
       " 'City of Needles',\n",
       " 'City of Norwalk',\n",
       " 'City of Ojai',\n",
       " 'City of Pasadena',\n",
       " 'City of Petaluma',\n",
       " 'City of Pico Rivera',\n",
       " 'City of Porterville',\n",
       " 'City of Redondo Beach',\n",
       " 'City of Ridgecrest',\n",
       " 'City of Rio Vista',\n",
       " 'City of Riverside',\n",
       " 'City of Rosemead',\n",
       " 'City of Roseville',\n",
       " 'City of San Fernando',\n",
       " 'City of San Luis Obispo',\n",
       " 'City of Santa Clarita',\n",
       " 'City of Santa Fe Springs',\n",
       " 'City of Santa Maria',\n",
       " 'City of Santa Monica',\n",
       " 'City of Santa Rosa',\n",
       " 'City of Shafter',\n",
       " 'City of Sierra Madre',\n",
       " 'City of Simi Valley',\n",
       " 'City of Solvang',\n",
       " 'City of South El Monte',\n",
       " 'City of South Gate',\n",
       " 'City of South Pasadena',\n",
       " 'City of Taft',\n",
       " 'City of Tehachapi',\n",
       " 'City of Thousand Oaks',\n",
       " 'City of Torrance',\n",
       " 'City of Tracy',\n",
       " 'City of Tulare',\n",
       " 'City of Turlock',\n",
       " 'City of Union City',\n",
       " 'City of Vacaville',\n",
       " 'City of Visalia ',\n",
       " 'City of West Covina',\n",
       " 'City of West Hollywood',\n",
       " 'City of Whittier',\n",
       " 'City of Woodlake',\n",
       " 'Colusa County Transit Agency',\n",
       " 'County of Placer',\n",
       " 'County of Sacramento Municipal Services Agency Department of Transportation',\n",
       " 'County of Siskiyou',\n",
       " 'County of Sonoma',\n",
       " 'County of Ventura',\n",
       " 'Eastern Sierra Transit Authority',\n",
       " 'Easy Lift Transportation',\n",
       " 'El Dorado County Transit Authority',\n",
       " 'Elk Valley Rancheria',\n",
       " 'Foothill Transit',\n",
       " 'Fresno County Rural Transit Agency',\n",
       " 'Glenn Transit Service',\n",
       " 'Gold Coast Transit District',\n",
       " 'Golden Empire Transit District',\n",
       " 'Golden Gate Bridge',\n",
       " 'Humboldt Transit Authority',\n",
       " 'Imperial County Transportation Commission',\n",
       " 'Kern Regional Transit',\n",
       " 'Kings County Area Public Transit Agency',\n",
       " 'Lake Transit Authority',\n",
       " 'Lassen Transit Service Agency',\n",
       " 'Livermore  Amador Valley Transit Authority',\n",
       " 'Long Beach Transit',\n",
       " 'Los Angeles County Department of Public Works - Avocado Heights',\n",
       " 'Los Angeles County Department of Public Works - East L.A.',\n",
       " 'Los Angeles County Department of Public Works - East Valinda',\n",
       " 'Los Angeles County Department of Public Works - South Whittier',\n",
       " 'Los Angeles County Department of Public Works - Whittier',\n",
       " 'Los Angeles County Dept. of Public Works - Athens Shuttle Service',\n",
       " 'Los Angeles County Dept. of Public Works - Florence-Firestone',\n",
       " 'Los Angeles County Dept. of Public Works - King Medical Center Shuttle Service',\n",
       " 'Los Angeles County Dept. of Public Works - Lennox Shuttle',\n",
       " 'Los Angeles County Dept. of Public Works - Willowbrook Shuttle',\n",
       " 'Los Angeles County Dept. of Public Works - Willowbrook et al.',\n",
       " 'Los Angeles County Metropolitan Transportation Authority',\n",
       " 'Madera County',\n",
       " 'Marin County Transit District',\n",
       " 'Mariposa County Transit',\n",
       " 'Mendocino Transit Authority',\n",
       " 'Metropolitan Transportation Commission',\n",
       " 'Modoc Transportation Agency',\n",
       " 'Monterey-Salinas Transit',\n",
       " 'Morongo Band of Mission Indians',\n",
       " 'Morongo Basin Transit Authority',\n",
       " 'Mountain Area Regional Transit Authority',\n",
       " 'Napa Valley Transportation Authority',\n",
       " 'Nevada County Transit Services',\n",
       " 'North County Transit District',\n",
       " 'North Fork Rancheria of Mono Indians of California',\n",
       " 'Omnitrans',\n",
       " 'Orange County Transportation Authority',\n",
       " 'Palo Verde Valley Transit Agency',\n",
       " 'Palos Verdes Peninsula Transit Authority',\n",
       " 'Paratransit',\n",
       " 'Peninsula Corridor Joint Powers Board',\n",
       " 'Playa Vista Parks and Landscape Corp.',\n",
       " 'Plumas County Transportation Commission',\n",
       " 'Pomona Valley Transportation Authority',\n",
       " 'Redding Area Bus Authority',\n",
       " 'Redwood Coast Transit Authority',\n",
       " 'Riverside County Transportation Commission',\n",
       " 'Riverside Transit Agency',\n",
       " 'Sacramento Regional Transit District',\n",
       " 'San Benito County LTA',\n",
       " 'San Bernardino County Transportation Authority',\n",
       " 'San Diego Association of Governments',\n",
       " 'San Diego Metropolitan Transit System',\n",
       " 'San Joaquin Council',\n",
       " 'San Joaquin Regional Transit District',\n",
       " 'San Luis Obispo Council of Governments',\n",
       " 'San Luis Obispo Regional Transit Authority',\n",
       " 'San Mateo County Transit District',\n",
       " 'Santa Barbara County Association of Governments',\n",
       " 'Santa Barbara Metropolitan Transit District',\n",
       " 'Santa Clara Valley Transportation Authority',\n",
       " 'Santa Cruz Metropolitan Transit District',\n",
       " 'Sierra County Transportation Commission',\n",
       " 'Solano County Transit',\n",
       " 'Stanislaus County',\n",
       " 'SunLine Transit Agency',\n",
       " 'Susanville Indian Rancheria',\n",
       " 'Tehama County',\n",
       " 'The Eastern Contra Costa Transit Authority',\n",
       " 'Town of Truckee',\n",
       " 'Transit Joint Powers Authority for Merced County',\n",
       " 'Trinity County',\n",
       " 'Tulare County Area Transit',\n",
       " 'Tuolumne County Transit',\n",
       " 'University of California',\n",
       " 'Ventura County Transportation Commission',\n",
       " 'Victor Valley Transit Authority',\n",
       " 'Wasco',\n",
       " 'Western Contra Costa Transit Authority',\n",
       " 'Yolo County Transportation District',\n",
       " 'Yosemite Area Regional Transportation System',\n",
       " 'Yuba-Sutter Transit Authority',\n",
       " 'Yurok Tribe']"
      ]
     },
     "execution_count": 29,
     "metadata": {},
     "output_type": "execute_result"
    }
   ],
   "source": [
    "ntd_df['agency'].sort_values().unique().tolist()"
   ]
  },
  {
   "cell_type": "code",
   "execution_count": 25,
   "id": "019d9f40-684d-4d7a-9ff5-6de1b994329e",
   "metadata": {},
   "outputs": [],
   "source": [
    "m5 = pd.merge(\n",
    "    m4,\n",
    "    ntd_df,\n",
    "    how=\"left\",\n",
    "    on = \"agency\",\n",
    "    indicator=True,\n",
    ")"
   ]
  },
  {
   "cell_type": "code",
   "execution_count": 26,
   "id": "403b5b3b-9cca-4f75-84eb-48bd8a716032",
   "metadata": {},
   "outputs": [
    {
     "data": {
      "text/plain": [
       "left_only     24\n",
       "both           5\n",
       "right_only     0\n",
       "Name: _merge, dtype: int64"
      ]
     },
     "execution_count": 26,
     "metadata": {},
     "output_type": "execute_result"
    }
   ],
   "source": [
    "m5['_merge'].value_counts()"
   ]
  },
  {
   "cell_type": "code",
   "execution_count": 27,
   "id": "62f6d9c1-d301-465a-8ef4-9e3500296ea6",
   "metadata": {
    "scrolled": true,
    "tags": []
   },
   "outputs": [
    {
     "data": {
      "text/html": [
       "<div>\n",
       "<style scoped>\n",
       "    .dataframe tbody tr th:only-of-type {\n",
       "        vertical-align: middle;\n",
       "    }\n",
       "\n",
       "    .dataframe tbody tr th {\n",
       "        vertical-align: top;\n",
       "    }\n",
       "\n",
       "    .dataframe thead th {\n",
       "        text-align: right;\n",
       "    }\n",
       "</style>\n",
       "<table border=\"1\" class=\"dataframe\">\n",
       "  <thead>\n",
       "    <tr style=\"text-align: right;\">\n",
       "      <th></th>\n",
       "      <th>route_id</th>\n",
       "      <th>agency</th>\n",
       "    </tr>\n",
       "  </thead>\n",
       "  <tbody>\n",
       "    <tr>\n",
       "      <th>0</th>\n",
       "      <td>1042</td>\n",
       "      <td>Cloverdale Transit</td>\n",
       "    </tr>\n",
       "    <tr>\n",
       "      <th>2</th>\n",
       "      <td>1292</td>\n",
       "      <td>Susanville Indian Rancheria Public Transportation Program</td>\n",
       "    </tr>\n",
       "    <tr>\n",
       "      <th>3</th>\n",
       "      <td>1292</td>\n",
       "      <td>Tehama Rural Area eXpress</td>\n",
       "    </tr>\n",
       "    <tr>\n",
       "      <th>4</th>\n",
       "      <td>13054</td>\n",
       "      <td>Avocado Heights/Bassett/West Valinda Shuttle</td>\n",
       "    </tr>\n",
       "    <tr>\n",
       "      <th>5</th>\n",
       "      <td>13054</td>\n",
       "      <td>East Los Angeles Shuttle</td>\n",
       "    </tr>\n",
       "    <tr>\n",
       "      <th>6</th>\n",
       "      <td>13054</td>\n",
       "      <td>East Valinda Shuttle</td>\n",
       "    </tr>\n",
       "    <tr>\n",
       "      <th>7</th>\n",
       "      <td>13054</td>\n",
       "      <td>Sunshine Bus(South Whittier)</td>\n",
       "    </tr>\n",
       "    <tr>\n",
       "      <th>8</th>\n",
       "      <td>13054</td>\n",
       "      <td>the Link Florence-Firestone/Walnut Park</td>\n",
       "    </tr>\n",
       "    <tr>\n",
       "      <th>9</th>\n",
       "      <td>13054</td>\n",
       "      <td>the Link King Medical Center</td>\n",
       "    </tr>\n",
       "    <tr>\n",
       "      <th>10</th>\n",
       "      <td>13054</td>\n",
       "      <td>the Link Lennox</td>\n",
       "    </tr>\n",
       "    <tr>\n",
       "      <th>11</th>\n",
       "      <td>13054</td>\n",
       "      <td>the Link Willowbrook</td>\n",
       "    </tr>\n",
       "    <tr>\n",
       "      <th>12</th>\n",
       "      <td>13054</td>\n",
       "      <td>the Link-Athens</td>\n",
       "    </tr>\n",
       "    <tr>\n",
       "      <th>13</th>\n",
       "      <td>178</td>\n",
       "      <td>Trinity Transit</td>\n",
       "    </tr>\n",
       "    <tr>\n",
       "      <th>14</th>\n",
       "      <td>181</td>\n",
       "      <td>Trinity Transit</td>\n",
       "    </tr>\n",
       "    <tr>\n",
       "      <th>16</th>\n",
       "      <td>2594</td>\n",
       "      <td>Tahoe Transportation</td>\n",
       "    </tr>\n",
       "    <tr>\n",
       "      <th>17</th>\n",
       "      <td>2594</td>\n",
       "      <td>Tahoe Truckee Area Regional Transportation</td>\n",
       "    </tr>\n",
       "    <tr>\n",
       "      <th>18</th>\n",
       "      <td>2596</td>\n",
       "      <td>Tahoe Transportation</td>\n",
       "    </tr>\n",
       "    <tr>\n",
       "      <th>19</th>\n",
       "      <td>2596</td>\n",
       "      <td>Tahoe Truckee Area Regional Transportation</td>\n",
       "    </tr>\n",
       "    <tr>\n",
       "      <th>20</th>\n",
       "      <td>28</td>\n",
       "      <td>Sonoma County Transit</td>\n",
       "    </tr>\n",
       "    <tr>\n",
       "      <th>23</th>\n",
       "      <td>566</td>\n",
       "      <td>Mammoth Lakes Transit System</td>\n",
       "    </tr>\n",
       "    <tr>\n",
       "      <th>25</th>\n",
       "      <td>6</td>\n",
       "      <td>City of Lompoc Transit</td>\n",
       "    </tr>\n",
       "    <tr>\n",
       "      <th>26</th>\n",
       "      <td>deltaroute</td>\n",
       "      <td>South County Transit Link</td>\n",
       "    </tr>\n",
       "    <tr>\n",
       "      <th>27</th>\n",
       "      <td>line2</td>\n",
       "      <td>Calabasas Transit System</td>\n",
       "    </tr>\n",
       "    <tr>\n",
       "      <th>28</th>\n",
       "      <td>m</td>\n",
       "      <td>Roseville Transit</td>\n",
       "    </tr>\n",
       "  </tbody>\n",
       "</table>\n",
       "</div>"
      ],
      "text/plain": [
       "      route_id                                                     agency\n",
       "0         1042                                         Cloverdale Transit\n",
       "2         1292  Susanville Indian Rancheria Public Transportation Program\n",
       "3         1292                                  Tehama Rural Area eXpress\n",
       "4        13054               Avocado Heights/Bassett/West Valinda Shuttle\n",
       "5        13054                                   East Los Angeles Shuttle\n",
       "6        13054                                       East Valinda Shuttle\n",
       "7        13054                               Sunshine Bus(South Whittier)\n",
       "8        13054                    the Link Florence-Firestone/Walnut Park\n",
       "9        13054                               the Link King Medical Center\n",
       "10       13054                                            the Link Lennox\n",
       "11       13054                                       the Link Willowbrook\n",
       "12       13054                                            the Link-Athens\n",
       "13         178                                            Trinity Transit\n",
       "14         181                                            Trinity Transit\n",
       "16        2594                                       Tahoe Transportation\n",
       "17        2594                 Tahoe Truckee Area Regional Transportation\n",
       "18        2596                                       Tahoe Transportation\n",
       "19        2596                 Tahoe Truckee Area Regional Transportation\n",
       "20          28                                      Sonoma County Transit\n",
       "23         566                               Mammoth Lakes Transit System\n",
       "25           6                                     City of Lompoc Transit\n",
       "26  deltaroute                                  South County Transit Link\n",
       "27       line2                                   Calabasas Transit System\n",
       "28           m                                          Roseville Transit"
      ]
     },
     "execution_count": 27,
     "metadata": {},
     "output_type": "execute_result"
    }
   ],
   "source": [
    "m5.loc[m5['_merge'] == 'left_only'][['route_id','agency']].sort_values(by = ['route_id','agency']).drop_duplicates()"
   ]
  },
  {
   "cell_type": "code",
   "execution_count": 28,
   "id": "d030f62a-c140-47d9-b752-db037a2a85f5",
   "metadata": {
    "scrolled": true,
    "tags": []
   },
   "outputs": [],
   "source": [
    "# m5[['route_id', 'route_name', 'agency', 'itp_id','total_trips', 'percentage_att', 'binned_att', 'percentage_verizon', 'binned_verizon','_merge']].sort_values('route_name')"
   ]
  }
 ],
 "metadata": {
  "kernelspec": {
   "display_name": "Python 3 (ipykernel)",
   "language": "python",
   "name": "python3"
  },
  "language_info": {
   "codemirror_mode": {
    "name": "ipython",
    "version": 3
   },
   "file_extension": ".py",
   "mimetype": "text/x-python",
   "name": "python",
   "nbconvert_exporter": "python",
   "pygments_lexer": "ipython3",
   "version": "3.10.5"
  }
 },
 "nbformat": 4,
 "nbformat_minor": 5
}
