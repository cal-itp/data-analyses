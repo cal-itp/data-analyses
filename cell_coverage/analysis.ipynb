{
 "cells": [
  {
   "cell_type": "markdown",
   "id": "b928e731-21e0-43cf-9e0d-225fe3219958",
   "metadata": {},
   "source": [
    "# Analysis\n",
    "* Create yml for all my files. \n",
    "* Save overlay? "
   ]
  },
  {
   "cell_type": "code",
   "execution_count": 1,
   "id": "6e564810-c581-4d7a-9200-17e9cb3653b3",
   "metadata": {},
   "outputs": [
    {
     "name": "stderr",
     "output_type": "stream",
     "text": [
      "/opt/conda/lib/python3.10/site-packages/geopandas/_compat.py:112: UserWarning: The Shapely GEOS version (3.10.3-CAPI-1.16.1) is incompatible with the GEOS version PyGEOS was compiled with (3.10.1-CAPI-1.16.0). Conversions between both will be slow.\n",
      "  warnings.warn(\n"
     ]
    }
   ],
   "source": [
    "# Read in zip files\n",
    "# Graphs\n",
    "import altair as alt\n",
    "import fsspec\n",
    "import geopandas as gpd\n",
    "import intake\n",
    "import numpy as np\n",
    "import pandas as pd\n",
    "\n",
    "# My utilities\n",
    "import utilities\n",
    "from calitp import *\n",
    "\n",
    "# Display\n",
    "from IPython.display import HTML, Image, Markdown, display, display_html\n",
    "\n",
    "# Geometry\n",
    "from shared_utils import geography_utils, utils"
   ]
  },
  {
   "cell_type": "code",
   "execution_count": 2,
   "id": "92fabdd3-f7be-42e8-8d71-11f7960429aa",
   "metadata": {},
   "outputs": [],
   "source": [
    "pd.options.display.max_columns = 100\n",
    "pd.options.display.float_format = \"{:.2f}\".format\n",
    "pd.set_option(\"display.max_rows\", None)\n",
    "pd.set_option(\"display.max_colwidth\", None)"
   ]
  },
  {
   "cell_type": "code",
   "execution_count": 3,
   "id": "39fa1361-fc3d-49bd-8681-522aefd983bd",
   "metadata": {},
   "outputs": [],
   "source": [
    "GCS_FILE_PATH = \"gs://calitp-analytics-data/data-analyses/cellular_coverage/\""
   ]
  },
  {
   "cell_type": "code",
   "execution_count": 4,
   "id": "2ebb09d9-302c-4bf7-ab9a-59b30c028d1b",
   "metadata": {},
   "outputs": [],
   "source": [
    "routes_df = utilities.load_unique_routes_df()"
   ]
  },
  {
   "cell_type": "code",
   "execution_count": 5,
   "id": "1a2cf7e0-ec77-4540-a4ab-a78be57459d8",
   "metadata": {},
   "outputs": [
    {
     "data": {
      "text/plain": [
       "(2829, 7)"
      ]
     },
     "execution_count": 5,
     "metadata": {},
     "output_type": "execute_result"
    }
   ],
   "source": [
    "routes_df.shape"
   ]
  },
  {
   "cell_type": "markdown",
   "id": "a908062d-36be-4eba-8cd4-21f17ff0a6a4",
   "metadata": {},
   "source": [
    "## T-Mobile"
   ]
  },
  {
   "cell_type": "code",
   "execution_count": 6,
   "id": "cf2e74ea-933c-4a8c-904b-6ae9c4703925",
   "metadata": {},
   "outputs": [],
   "source": [
    "tmobile_df = gpd.read_parquet(f\"{GCS_FILE_PATH}tmobile_california.parquet\")"
   ]
  },
  {
   "cell_type": "code",
   "execution_count": 7,
   "id": "a8d27c37-13d0-45ea-b344-440741292585",
   "metadata": {},
   "outputs": [],
   "source": [
    "tmobile_m1 = utilities.route_cell_coverage(tmobile_df, routes_df, \"_tmobile\")"
   ]
  },
  {
   "cell_type": "code",
   "execution_count": 8,
   "id": "f329673c-5fe9-4b75-8aa3-8df4d24e97ea",
   "metadata": {},
   "outputs": [
    {
     "data": {
      "text/plain": [
       "geopandas.geodataframe.GeoDataFrame"
      ]
     },
     "execution_count": 8,
     "metadata": {},
     "output_type": "execute_result"
    }
   ],
   "source": [
    "type(tmobile_m1)"
   ]
  },
  {
   "cell_type": "code",
   "execution_count": 9,
   "id": "c9e8c4c9-5673-43ad-988e-c0a2e5a6ac8b",
   "metadata": {},
   "outputs": [
    {
     "data": {
      "text/plain": [
       "(90, 100]   71.78\n",
       "(80, 90]     6.12\n",
       "(70, 80]     3.08\n",
       "(60, 70]     1.31\n",
       "(50, 60]     0.74\n",
       "(40, 50]     0.39\n",
       "(30, 40]     0.28\n",
       "(20, 30]     0.14\n",
       "(10, 20]     0.04\n",
       "(0, 10]      0.00\n",
       "Name: binned_tmobile, dtype: float64"
      ]
     },
     "execution_count": 9,
     "metadata": {},
     "output_type": "execute_result"
    }
   ],
   "source": [
    "(tmobile_m1[\"binned_tmobile\"].value_counts() / len(tmobile_m1)) * 100"
   ]
  },
  {
   "cell_type": "markdown",
   "id": "f9753413-24f7-4a2c-af2d-410c593a0914",
   "metadata": {},
   "source": [
    "## AT&T"
   ]
  },
  {
   "cell_type": "code",
   "execution_count": 10,
   "id": "9f2b2db2-51e5-4e30-b466-7626069e79ad",
   "metadata": {},
   "outputs": [],
   "source": [
    "att_df = utilities.load_att()"
   ]
  },
  {
   "cell_type": "code",
   "execution_count": 11,
   "id": "b21218ac-4cb9-4b28-a237-c72df293bd4f",
   "metadata": {},
   "outputs": [],
   "source": [
    "att_m1 = utilities.route_cell_coverage(att_df, routes_df, \"_att\")"
   ]
  },
  {
   "cell_type": "code",
   "execution_count": 12,
   "id": "cfe4f088-26f9-40a9-bb97-94c3b62bcc39",
   "metadata": {},
   "outputs": [
    {
     "data": {
      "text/plain": [
       "geopandas.geodataframe.GeoDataFrame"
      ]
     },
     "execution_count": 12,
     "metadata": {},
     "output_type": "execute_result"
    }
   ],
   "source": [
    "type(att_m1)"
   ]
  },
  {
   "cell_type": "code",
   "execution_count": 13,
   "id": "a602b9d5-27ca-458b-bc89-4929710022e5",
   "metadata": {},
   "outputs": [
    {
     "data": {
      "text/plain": [
       "(90, 100]   73.32\n",
       "(80, 90]     4.93\n",
       "(70, 80]     2.66\n",
       "(60, 70]     1.56\n",
       "(50, 60]     1.35\n",
       "(10, 20]     0.14\n",
       "(20, 30]     0.07\n",
       "(30, 40]     0.07\n",
       "(40, 50]     0.07\n",
       "(0, 10]      0.00\n",
       "Name: binned_att, dtype: float64"
      ]
     },
     "execution_count": 13,
     "metadata": {},
     "output_type": "execute_result"
    }
   ],
   "source": [
    "(att_m1[\"binned_att\"].value_counts() / len(att_m1)) * 100"
   ]
  },
  {
   "cell_type": "markdown",
   "id": "c0aae5bd-12aa-43a9-9617-1065f172091c",
   "metadata": {},
   "source": [
    "## Verizon"
   ]
  },
  {
   "cell_type": "code",
   "execution_count": 14,
   "id": "50e26e5f-d5a1-486e-8b17-9611ac9ae926",
   "metadata": {},
   "outputs": [],
   "source": [
    "verizon_df = utilities.load_verizon()"
   ]
  },
  {
   "cell_type": "code",
   "execution_count": 15,
   "id": "14c97dfd-8a01-4ee6-b173-1826d65d6744",
   "metadata": {},
   "outputs": [],
   "source": [
    "verizon_m1 = utilities.route_cell_coverage(verizon_df, routes_df, \"_verizon\")"
   ]
  },
  {
   "cell_type": "code",
   "execution_count": 16,
   "id": "88921bdc-a1a9-450a-bb65-ca05714e99fb",
   "metadata": {},
   "outputs": [
    {
     "data": {
      "text/plain": [
       "geopandas.geodataframe.GeoDataFrame"
      ]
     },
     "execution_count": 16,
     "metadata": {},
     "output_type": "execute_result"
    }
   ],
   "source": [
    "type(verizon_m1)"
   ]
  },
  {
   "cell_type": "code",
   "execution_count": 17,
   "id": "1469ba9f-2063-4f8e-8091-f76181698436",
   "metadata": {},
   "outputs": [
    {
     "data": {
      "text/plain": [
       "(90, 100]   85.54\n",
       "(80, 90]     5.95\n",
       "(70, 80]     2.62\n",
       "(60, 70]     1.35\n",
       "(50, 60]     1.03\n",
       "(40, 50]     0.11\n",
       "(10, 20]     0.07\n",
       "(30, 40]     0.07\n",
       "(0, 10]      0.00\n",
       "(20, 30]     0.00\n",
       "Name: binned_verizon, dtype: float64"
      ]
     },
     "execution_count": 17,
     "metadata": {},
     "output_type": "execute_result"
    }
   ],
   "source": [
    "(verizon_m1[\"binned_verizon\"].value_counts() / len(verizon_m1)) * 100"
   ]
  },
  {
   "cell_type": "markdown",
   "id": "cde725ab-3625-40d7-a953-7bc168259395",
   "metadata": {},
   "source": [
    "## Compare routes across providers.\n",
    "* https://geopandas.org/en/stable/docs/user_guide/mergingdata.html\n",
    "* Make sure CRS are the same."
   ]
  },
  {
   "cell_type": "code",
   "execution_count": 18,
   "id": "9607d91d-f994-4751-9f4b-a54f47138d52",
   "metadata": {
    "scrolled": true,
    "tags": []
   },
   "outputs": [],
   "source": [
    "# Threshold\n",
    "theshold = 70"
   ]
  },
  {
   "cell_type": "code",
   "execution_count": 19,
   "id": "757abec5-3335-4fc9-b578-9fc9f5671667",
   "metadata": {
    "scrolled": true,
    "tags": []
   },
   "outputs": [],
   "source": [
    "# Filter dfs to meet threshold\n",
    "low_att_coverage = att_m1.loc[att_m1[\"percentage_att\"] < theshold].reset_index(\n",
    "    drop=True\n",
    ")\n",
    "low_verizon_coverage = verizon_m1.loc[\n",
    "    verizon_m1[\"percentage_verizon\"] < theshold\n",
    "].reset_index(drop=True)\n",
    "low_tmobile_coverage = tmobile_m1.loc[\n",
    "    tmobile_m1[\"percentage_tmobile\"] < theshold\n",
    "].reset_index(drop=True)"
   ]
  },
  {
   "cell_type": "code",
   "execution_count": 20,
   "id": "99dd00ae-9100-4776-8cf8-8f8df25390ae",
   "metadata": {},
   "outputs": [
    {
     "data": {
      "text/plain": [
       "((92, 11), (74, 11), (82, 11))"
      ]
     },
     "execution_count": 20,
     "metadata": {},
     "output_type": "execute_result"
    }
   ],
   "source": [
    "low_att_coverage.shape, low_verizon_coverage.shape, low_tmobile_coverage.shape,"
   ]
  },
  {
   "cell_type": "code",
   "execution_count": 21,
   "id": "243aa57f-a30f-4d9a-a648-708564476347",
   "metadata": {},
   "outputs": [
    {
     "data": {
      "text/plain": [
       "(geopandas.geodataframe.GeoDataFrame,\n",
       " geopandas.geodataframe.GeoDataFrame,\n",
       " geopandas.geodataframe.GeoDataFrame)"
      ]
     },
     "execution_count": 21,
     "metadata": {},
     "output_type": "execute_result"
    }
   ],
   "source": [
    "type(low_att_coverage), type(low_verizon_coverage), type(low_tmobile_coverage)"
   ]
  },
  {
   "cell_type": "markdown",
   "id": "4835875f-a124-4b00-b922-b58af8e0158d",
   "metadata": {},
   "source": [
    "### Merge Verizon & ATT"
   ]
  },
  {
   "cell_type": "code",
   "execution_count": 62,
   "id": "d4b75d14-f851-4013-af37-2471c38463fe",
   "metadata": {},
   "outputs": [],
   "source": [
    "# Merge low att & verizon coverage\n",
    "m1 = low_att_coverage.merge(\n",
    "    low_verizon_coverage,\n",
    "    how=\"outer\",\n",
    "    left_on=[\"route_id_att\", \"route_name_att\", \"agency_att\", \"itp_id_att\"],\n",
    "    right_on=[\n",
    "        \"route_id_verizon\",\n",
    "        \"route_name_verizon\",\n",
    "        \"agency_verizon\",\n",
    "        \"itp_id_verizon\",\n",
    "    ],\n",
    "    indicator=True,\n",
    ")"
   ]
  },
  {
   "cell_type": "code",
   "execution_count": 63,
   "id": "fe8a0201-8385-45c5-a29e-cc70807d515b",
   "metadata": {},
   "outputs": [
    {
     "data": {
      "text/plain": [
       "both          64\n",
       "left_only     28\n",
       "right_only    10\n",
       "Name: _merge, dtype: int64"
      ]
     },
     "execution_count": 63,
     "metadata": {},
     "output_type": "execute_result"
    }
   ],
   "source": [
    "m1[\"_merge\"].value_counts()"
   ]
  },
  {
   "cell_type": "code",
   "execution_count": 64,
   "id": "3e007e22-c3c3-4c5b-bf96-635ce40dc30a",
   "metadata": {},
   "outputs": [],
   "source": [
    "# Turn to gpd\n",
    "m1 = gpd.GeoDataFrame(m1, geometry=\"geometry_overlay_att\", crs=\"EPSG:4326\")"
   ]
  },
  {
   "cell_type": "code",
   "execution_count": 65,
   "id": "e773fe65-eb4f-42eb-99bb-d5d300f51604",
   "metadata": {},
   "outputs": [
    {
     "data": {
      "text/plain": [
       "geopandas.geodataframe.GeoDataFrame"
      ]
     },
     "execution_count": 65,
     "metadata": {},
     "output_type": "execute_result"
    }
   ],
   "source": [
    "type(m1)"
   ]
  },
  {
   "cell_type": "code",
   "execution_count": 66,
   "id": "4eaf69d1-36f6-4473-a79b-ce0709a331ed",
   "metadata": {
    "tags": []
   },
   "outputs": [
    {
     "data": {
      "text/plain": [
       "' m1.loc[m1[\"_merge\"] == \"both\"][\\n    [\"route_name_att\", \"route_name_verizon\", \"percentage_verizon\", \"percentage_att\"]\\n].drop_duplicates(subset=[\"route_name_att\"]) '"
      ]
     },
     "execution_count": 66,
     "metadata": {},
     "output_type": "execute_result"
    }
   ],
   "source": [
    "\"\"\" m1.loc[m1[\"_merge\"] == \"both\"][\n",
    "    [\"route_name_att\", \"route_name_verizon\", \"percentage_verizon\", \"percentage_att\"]\n",
    "].drop_duplicates(subset=[\"route_name_att\"]) \"\"\""
   ]
  },
  {
   "cell_type": "markdown",
   "id": "b1b25205-a1b1-4985-b56b-019db0f9b618",
   "metadata": {},
   "source": [
    "#### Check a left only value for Verizon\n",
    "* Left only routes have more than 70% coverage through Verizon."
   ]
  },
  {
   "cell_type": "code",
   "execution_count": 67,
   "id": "2b7d258d-ec31-4df6-95aa-a8dbacd53bd9",
   "metadata": {},
   "outputs": [
    {
     "data": {
      "text/html": [
       "<div>\n",
       "<style scoped>\n",
       "    .dataframe tbody tr th:only-of-type {\n",
       "        vertical-align: middle;\n",
       "    }\n",
       "\n",
       "    .dataframe tbody tr th {\n",
       "        vertical-align: top;\n",
       "    }\n",
       "\n",
       "    .dataframe thead th {\n",
       "        text-align: right;\n",
       "    }\n",
       "</style>\n",
       "<table border=\"1\" class=\"dataframe\">\n",
       "  <thead>\n",
       "    <tr style=\"text-align: right;\">\n",
       "      <th></th>\n",
       "      <th>route_name_verizon</th>\n",
       "      <th>percentage_verizon</th>\n",
       "    </tr>\n",
       "  </thead>\n",
       "  <tbody>\n",
       "    <tr>\n",
       "      <th>246</th>\n",
       "      <td>Ridgecrest Shuttle</td>\n",
       "      <td>99.99</td>\n",
       "    </tr>\n",
       "  </tbody>\n",
       "</table>\n",
       "</div>"
      ],
      "text/plain": [
       "     route_name_verizon  percentage_verizon\n",
       "246  Ridgecrest Shuttle               99.99"
      ]
     },
     "execution_count": 67,
     "metadata": {},
     "output_type": "execute_result"
    }
   ],
   "source": [
    "verizon_m1.loc[verizon_m1[\"route_name_verizon\"] == \"Ridgecrest Shuttle\"][\n",
    "    [\n",
    "        \"route_name_verizon\",\n",
    "        \"percentage_verizon\",\n",
    "    ]\n",
    "]"
   ]
  },
  {
   "cell_type": "code",
   "execution_count": 68,
   "id": "361dc7a3-97f4-4a3d-be2c-79140b621db2",
   "metadata": {},
   "outputs": [
    {
     "data": {
      "text/html": [
       "<div>\n",
       "<style scoped>\n",
       "    .dataframe tbody tr th:only-of-type {\n",
       "        vertical-align: middle;\n",
       "    }\n",
       "\n",
       "    .dataframe tbody tr th {\n",
       "        vertical-align: top;\n",
       "    }\n",
       "\n",
       "    .dataframe thead th {\n",
       "        text-align: right;\n",
       "    }\n",
       "</style>\n",
       "<table border=\"1\" class=\"dataframe\">\n",
       "  <thead>\n",
       "    <tr style=\"text-align: right;\">\n",
       "      <th></th>\n",
       "      <th>route_name_verizon</th>\n",
       "      <th>percentage_verizon</th>\n",
       "    </tr>\n",
       "  </thead>\n",
       "  <tbody>\n",
       "    <tr>\n",
       "      <th>2719</th>\n",
       "      <td>Mainline AM/PM</td>\n",
       "      <td>72.45</td>\n",
       "    </tr>\n",
       "    <tr>\n",
       "      <th>2720</th>\n",
       "      <td>Mainline AM/PM</td>\n",
       "      <td>72.45</td>\n",
       "    </tr>\n",
       "  </tbody>\n",
       "</table>\n",
       "</div>"
      ],
      "text/plain": [
       "     route_name_verizon  percentage_verizon\n",
       "2719     Mainline AM/PM               72.45\n",
       "2720     Mainline AM/PM               72.45"
      ]
     },
     "execution_count": 68,
     "metadata": {},
     "output_type": "execute_result"
    }
   ],
   "source": [
    "verizon_m1.loc[verizon_m1[\"route_name_verizon\"] == \"Mainline AM/PM\"][\n",
    "    [\n",
    "        \"route_name_verizon\",\n",
    "        \"percentage_verizon\",\n",
    "    ]\n",
    "]"
   ]
  },
  {
   "cell_type": "code",
   "execution_count": 69,
   "id": "43f6a0c9-f7b4-41ed-a193-061d182e7b32",
   "metadata": {},
   "outputs": [],
   "source": [
    "# Filter out for only both, these are routes that really dont have any more than 60% cellular coverage among AT&T and Verizon\n",
    "m1 = m1.loc[m1[\"_merge\"] == \"both\"]"
   ]
  },
  {
   "cell_type": "code",
   "execution_count": 70,
   "id": "cadeb80a-2fb8-4409-b5a1-39d55548ab8a",
   "metadata": {},
   "outputs": [],
   "source": [
    "# Drop unwanted cols\n",
    "m1 = m1.drop(\n",
    "    columns=[\n",
    "        \"_merge\",\n",
    "        \"route_type_att\",\n",
    "        \"binned_att\",\n",
    "        \"route_id_verizon\",\n",
    "        \"route_name_verizon\",\n",
    "        \"agency_verizon\",\n",
    "        \"itp_id_verizon\",\n",
    "        \"geometry_overlay_verizon\",\n",
    "        \"route_length_overlay_verizon\",\n",
    "        \"geometry_original_df_verizon\",\n",
    "        \"route_type_verizon\",\n",
    "        \"route_length_original_df_verizon\",\n",
    "        \"binned_verizon\",\n",
    "    ]\n",
    ")"
   ]
  },
  {
   "cell_type": "code",
   "execution_count": 71,
   "id": "3784ca64-9f8f-4425-bac7-c73ddbdd187e",
   "metadata": {},
   "outputs": [
    {
     "data": {
      "text/plain": [
       "(64, 10)"
      ]
     },
     "execution_count": 71,
     "metadata": {},
     "output_type": "execute_result"
    }
   ],
   "source": [
    "m1.shape"
   ]
  },
  {
   "cell_type": "markdown",
   "id": "01e0d1a6-f346-4131-b1b0-42bcf9769ce0",
   "metadata": {},
   "source": [
    "### Merge m1 with T-Mobile"
   ]
  },
  {
   "cell_type": "code",
   "execution_count": 72,
   "id": "9f138202-578c-42c9-8cd5-fd7d3be67bc3",
   "metadata": {},
   "outputs": [],
   "source": [
    "# Merge att & verizon coverage\n",
    "m2 = pd.merge(\n",
    "    m1,\n",
    "    low_tmobile_coverage,\n",
    "    how=\"outer\",\n",
    "    left_on=[\"route_id_att\", \"route_name_att\", \"agency_att\", \"itp_id_att\"],\n",
    "    right_on=[\n",
    "        \"route_id_tmobile\",\n",
    "        \"route_name_tmobile\",\n",
    "        \"agency_tmobile\",\n",
    "        \"itp_id_tmobile\",\n",
    "    ],\n",
    "    indicator=True,\n",
    ")"
   ]
  },
  {
   "cell_type": "code",
   "execution_count": 73,
   "id": "13f2c819-e902-4aec-a87d-b93ca300557e",
   "metadata": {},
   "outputs": [],
   "source": [
    "# Make sure it remains a GDF\n",
    "m1 = gpd.GeoDataFrame(m1, geometry=\"geometry_overlay_att\", crs=\"EPSG:4326\")"
   ]
  },
  {
   "cell_type": "code",
   "execution_count": 74,
   "id": "2df7ab66-0473-4176-bdbc-c42d8b0352b4",
   "metadata": {},
   "outputs": [
    {
     "data": {
      "text/plain": [
       "both          55\n",
       "right_only    27\n",
       "left_only      9\n",
       "Name: _merge, dtype: int64"
      ]
     },
     "execution_count": 74,
     "metadata": {},
     "output_type": "execute_result"
    }
   ],
   "source": [
    "m2[\"_merge\"].value_counts()"
   ]
  },
  {
   "cell_type": "code",
   "execution_count": 75,
   "id": "21002b8c-e77d-41b3-8448-16f3f6233abf",
   "metadata": {},
   "outputs": [],
   "source": [
    "# Filter out for only both, these are routes that really dont have any more than treshold % cellular coverage among all 3\n",
    "m3 = m2.loc[m2[\"_merge\"] == \"both\"]"
   ]
  },
  {
   "cell_type": "code",
   "execution_count": 76,
   "id": "6919add2-9f76-44b5-b60a-7104ae9a4897",
   "metadata": {},
   "outputs": [],
   "source": [
    "m3 = m3.drop(columns=['route_id_tmobile', 'route_name_tmobile',\n",
    "       'agency_tmobile', 'itp_id_tmobile', 'geometry_overlay_tmobile',\n",
    "       'route_length_overlay_tmobile', 'geometry_original_df_tmobile',\n",
    "       'route_type_tmobile', 'route_length_original_df_tmobile','binned_tmobile', '_merge'])"
   ]
  },
  {
   "cell_type": "code",
   "execution_count": 77,
   "id": "c846db81-c0b1-4545-b91e-1bcaf86c6923",
   "metadata": {},
   "outputs": [
    {
     "data": {
      "text/html": [
       "<div>\n",
       "<style scoped>\n",
       "    .dataframe tbody tr th:only-of-type {\n",
       "        vertical-align: middle;\n",
       "    }\n",
       "\n",
       "    .dataframe tbody tr th {\n",
       "        vertical-align: top;\n",
       "    }\n",
       "\n",
       "    .dataframe thead th {\n",
       "        text-align: right;\n",
       "    }\n",
       "</style>\n",
       "<table border=\"1\" class=\"dataframe\">\n",
       "  <thead>\n",
       "    <tr style=\"text-align: right;\">\n",
       "      <th></th>\n",
       "      <th>route_id_att</th>\n",
       "      <th>route_name_att</th>\n",
       "      <th>agency_att</th>\n",
       "      <th>itp_id_att</th>\n",
       "      <th>route_length_overlay_att</th>\n",
       "      <th>route_length_original_df_att</th>\n",
       "      <th>percentage_att</th>\n",
       "      <th>percentage_verizon</th>\n",
       "      <th>percentage_tmobile</th>\n",
       "    </tr>\n",
       "  </thead>\n",
       "  <tbody>\n",
       "    <tr>\n",
       "      <th>33</th>\n",
       "      <td>225</td>\n",
       "      <td>South Coast / Ukiah</td>\n",
       "      <td>Mendocino Transit Authority</td>\n",
       "      <td>198.00</td>\n",
       "      <td>260518.01</td>\n",
       "      <td>508378.59</td>\n",
       "      <td>51.24</td>\n",
       "      <td>51.59</td>\n",
       "      <td>49.86</td>\n",
       "    </tr>\n",
       "    <tr>\n",
       "      <th>28</th>\n",
       "      <td>144</td>\n",
       "      <td>South Main &amp; Walnut</td>\n",
       "      <td>Tehama Rural Area eXpress</td>\n",
       "      <td>334.00</td>\n",
       "      <td>46711.56</td>\n",
       "      <td>67178.13</td>\n",
       "      <td>69.53</td>\n",
       "      <td>66.44</td>\n",
       "      <td>69.53</td>\n",
       "    </tr>\n",
       "    <tr>\n",
       "      <th>15</th>\n",
       "      <td>13054</td>\n",
       "      <td>Edmund D. Edelman Children’s Court Shuttle</td>\n",
       "      <td>East Los Angeles Shuttle</td>\n",
       "      <td>172.00</td>\n",
       "      <td>4041.64</td>\n",
       "      <td>7500.92</td>\n",
       "      <td>53.88</td>\n",
       "      <td>53.87</td>\n",
       "      <td>53.88</td>\n",
       "    </tr>\n",
       "  </tbody>\n",
       "</table>\n",
       "</div>"
      ],
      "text/plain": [
       "   route_id_att                              route_name_att  \\\n",
       "33          225                         South Coast / Ukiah   \n",
       "28          144                         South Main & Walnut   \n",
       "15        13054  Edmund D. Edelman Children’s Court Shuttle   \n",
       "\n",
       "                     agency_att  itp_id_att  route_length_overlay_att  \\\n",
       "33  Mendocino Transit Authority      198.00                 260518.01   \n",
       "28    Tehama Rural Area eXpress      334.00                  46711.56   \n",
       "15     East Los Angeles Shuttle      172.00                   4041.64   \n",
       "\n",
       "    route_length_original_df_att  percentage_att  percentage_verizon  \\\n",
       "33                     508378.59           51.24               51.59   \n",
       "28                      67178.13           69.53               66.44   \n",
       "15                       7500.92           53.88               53.87   \n",
       "\n",
       "    percentage_tmobile  \n",
       "33               49.86  \n",
       "28               69.53  \n",
       "15               53.88  "
      ]
     },
     "execution_count": 77,
     "metadata": {},
     "output_type": "execute_result"
    }
   ],
   "source": [
    "# preview df \n",
    "m3.drop(columns = ['geometry_original_df_att', 'geometry_overlay_att']).sample(3)"
   ]
  },
  {
   "cell_type": "markdown",
   "id": "260a821a-0246-4176-abf3-3a8dd1687722",
   "metadata": {},
   "source": [
    "# Add trips"
   ]
  },
  {
   "cell_type": "markdown",
   "id": "9212a7e5-1b8e-437d-b3e6-ec72d7976f56",
   "metadata": {},
   "source": [
    "### Add trips for only the routes w/ low coverage."
   ]
  },
  {
   "cell_type": "code",
   "execution_count": 207,
   "id": "9d537c04-f42d-455e-99ba-d293b4517909",
   "metadata": {},
   "outputs": [],
   "source": [
    "trips_route, trips_agency = utilities.trip_df()"
   ]
  },
  {
   "cell_type": "code",
   "execution_count": 208,
   "id": "526e4b8f-e124-42f5-b77f-a57c06b0aee4",
   "metadata": {},
   "outputs": [
    {
     "data": {
      "text/plain": [
       "165"
      ]
     },
     "execution_count": 208,
     "metadata": {},
     "output_type": "execute_result"
    }
   ],
   "source": [
    "trips_route.calitp_itp_id.nunique()"
   ]
  },
  {
   "cell_type": "code",
   "execution_count": 209,
   "id": "38588858-b16f-4465-b519-e657ef2377c7",
   "metadata": {},
   "outputs": [
    {
     "data": {
      "text/plain": [
       "2949"
      ]
     },
     "execution_count": 209,
     "metadata": {},
     "output_type": "execute_result"
    }
   ],
   "source": [
    "len(trips_route)"
   ]
  },
  {
   "cell_type": "code",
   "execution_count": 210,
   "id": "6220f4ec-9f7f-4c53-b034-cb0bf5a262b2",
   "metadata": {},
   "outputs": [],
   "source": [
    "# Merge the 2 filtered at&t and verizon dataframes so we can see which routes overlap\n",
    "m4 = pd.merge(\n",
    "    m3,\n",
    "    trips_route,\n",
    "    how=\"left\",\n",
    "    left_on=[\"route_id_att\", \"itp_id_att\"],\n",
    "    right_on=[\"route_id\", \"calitp_itp_id\"],\n",
    "    indicator=True,\n",
    ")"
   ]
  },
  {
   "cell_type": "code",
   "execution_count": 211,
   "id": "aaeade15-6dba-4a12-bda1-1faa9de3e49a",
   "metadata": {},
   "outputs": [
    {
     "data": {
      "text/plain": [
       "both          46\n",
       "left_only      9\n",
       "right_only     0\n",
       "Name: _merge, dtype: int64"
      ]
     },
     "execution_count": 211,
     "metadata": {},
     "output_type": "execute_result"
    }
   ],
   "source": [
    "m4[\"_merge\"].value_counts()"
   ]
  },
  {
   "cell_type": "code",
   "execution_count": 212,
   "id": "03138787-555b-49c7-9c89-2be7c304bdea",
   "metadata": {},
   "outputs": [],
   "source": [
    "m4 = m4.drop(columns=[\"_merge\"])"
   ]
  },
  {
   "cell_type": "markdown",
   "id": "156bb5c6-5781-45c6-b38f-57eaa003aa93",
   "metadata": {},
   "source": [
    "### Add total trips across the agency."
   ]
  },
  {
   "cell_type": "code",
   "execution_count": 213,
   "id": "48e4319f-6e73-422f-a630-4c1c94c094c9",
   "metadata": {},
   "outputs": [],
   "source": [
    "# Merge the 2 filtered at&t and verizon dataframes so we can see which routes overlap\n",
    "m5 = pd.merge(\n",
    "    m4,\n",
    "    trips_agency,\n",
    "    how=\"left\",\n",
    "    left_on=[\"itp_id_att\"],\n",
    "    right_on=[\"calitp_itp_id\"],\n",
    "    indicator=True,\n",
    ")"
   ]
  },
  {
   "cell_type": "code",
   "execution_count": 214,
   "id": "77aa81da-ac04-416f-9e75-701e67c0ba51",
   "metadata": {},
   "outputs": [
    {
     "data": {
      "text/plain": [
       "both          50\n",
       "left_only      5\n",
       "right_only     0\n",
       "Name: _merge, dtype: int64"
      ]
     },
     "execution_count": 214,
     "metadata": {},
     "output_type": "execute_result"
    }
   ],
   "source": [
    "# Why are the merge count so low?\n",
    "m5[\"_merge\"].value_counts()"
   ]
  },
  {
   "cell_type": "code",
   "execution_count": 215,
   "id": "568bf20f-a02b-48a8-aa30-140664f923da",
   "metadata": {},
   "outputs": [
    {
     "data": {
      "text/plain": [
       "(55, 17)"
      ]
     },
     "execution_count": 215,
     "metadata": {},
     "output_type": "execute_result"
    }
   ],
   "source": [
    "m5.shape"
   ]
  },
  {
   "cell_type": "code",
   "execution_count": 216,
   "id": "9dd10448-61c4-4a01-aff8-26d7af5c6a4a",
   "metadata": {},
   "outputs": [],
   "source": [
    "# Add column for percentage of trips for the route in question compared with\n",
    "# All the trips an agency has done\n",
    "m5['percentage_of_trips_w_low_cell_service'] = m5['total_trips_by_route']/m5['total_trips_by_agency'] "
   ]
  },
  {
   "cell_type": "code",
   "execution_count": 217,
   "id": "82cc54c1-c6b0-4e0e-b40a-d5be48b29d30",
   "metadata": {
    "scrolled": true,
    "tags": []
   },
   "outputs": [
    {
     "data": {
      "text/html": [
       "<div>\n",
       "<style scoped>\n",
       "    .dataframe tbody tr th:only-of-type {\n",
       "        vertical-align: middle;\n",
       "    }\n",
       "\n",
       "    .dataframe tbody tr th {\n",
       "        vertical-align: top;\n",
       "    }\n",
       "\n",
       "    .dataframe thead th {\n",
       "        text-align: right;\n",
       "    }\n",
       "</style>\n",
       "<table border=\"1\" class=\"dataframe\">\n",
       "  <thead>\n",
       "    <tr style=\"text-align: right;\">\n",
       "      <th></th>\n",
       "      <th>agency_att</th>\n",
       "      <th>itp_id_att</th>\n",
       "      <th>total_trips_by_agency</th>\n",
       "      <th>total_trips_by_route</th>\n",
       "      <th>percentage_of_trips_w_low_cell_service</th>\n",
       "    </tr>\n",
       "  </thead>\n",
       "  <tbody>\n",
       "    <tr>\n",
       "      <th>0</th>\n",
       "      <td>Cloverdale Transit</td>\n",
       "      <td>70.00</td>\n",
       "      <td>251.00</td>\n",
       "      <td>8.00</td>\n",
       "      <td>0.03</td>\n",
       "    </tr>\n",
       "    <tr>\n",
       "      <th>1</th>\n",
       "      <td>Yosemite Area Regional Transportation System</td>\n",
       "      <td>374.00</td>\n",
       "      <td>12.00</td>\n",
       "      <td>NaN</td>\n",
       "      <td>NaN</td>\n",
       "    </tr>\n",
       "    <tr>\n",
       "      <th>2</th>\n",
       "      <td>Merced The Bus</td>\n",
       "      <td>343.00</td>\n",
       "      <td>565.00</td>\n",
       "      <td>6.00</td>\n",
       "      <td>0.01</td>\n",
       "    </tr>\n",
       "    <tr>\n",
       "      <th>3</th>\n",
       "      <td>Susanville Indian Rancheria Public Transportation Program</td>\n",
       "      <td>329.00</td>\n",
       "      <td>57.00</td>\n",
       "      <td>2.00</td>\n",
       "      <td>0.04</td>\n",
       "    </tr>\n",
       "    <tr>\n",
       "      <th>4</th>\n",
       "      <td>Tehama Rural Area eXpress</td>\n",
       "      <td>334.00</td>\n",
       "      <td>57.00</td>\n",
       "      <td>2.00</td>\n",
       "      <td>0.04</td>\n",
       "    </tr>\n",
       "    <tr>\n",
       "      <th>5</th>\n",
       "      <td>Avocado Heights/Bassett/West Valinda Shuttle</td>\n",
       "      <td>171.00</td>\n",
       "      <td>501.00</td>\n",
       "      <td>23.00</td>\n",
       "      <td>0.05</td>\n",
       "    </tr>\n",
       "    <tr>\n",
       "      <th>6</th>\n",
       "      <td>East Los Angeles Shuttle</td>\n",
       "      <td>172.00</td>\n",
       "      <td>501.00</td>\n",
       "      <td>23.00</td>\n",
       "      <td>0.05</td>\n",
       "    </tr>\n",
       "    <tr>\n",
       "      <th>7</th>\n",
       "      <td>East Valinda Shuttle</td>\n",
       "      <td>173.00</td>\n",
       "      <td>501.00</td>\n",
       "      <td>23.00</td>\n",
       "      <td>0.05</td>\n",
       "    </tr>\n",
       "    <tr>\n",
       "      <th>8</th>\n",
       "      <td>Sunshine Bus(South Whittier)</td>\n",
       "      <td>174.00</td>\n",
       "      <td>501.00</td>\n",
       "      <td>23.00</td>\n",
       "      <td>0.05</td>\n",
       "    </tr>\n",
       "    <tr>\n",
       "      <th>9</th>\n",
       "      <td>the Link Florence-Firestone/Walnut Park</td>\n",
       "      <td>177.00</td>\n",
       "      <td>501.00</td>\n",
       "      <td>23.00</td>\n",
       "      <td>0.05</td>\n",
       "    </tr>\n",
       "    <tr>\n",
       "      <th>10</th>\n",
       "      <td>the Link King Medical Center</td>\n",
       "      <td>178.00</td>\n",
       "      <td>501.00</td>\n",
       "      <td>23.00</td>\n",
       "      <td>0.05</td>\n",
       "    </tr>\n",
       "    <tr>\n",
       "      <th>11</th>\n",
       "      <td>the Link Lennox</td>\n",
       "      <td>179.00</td>\n",
       "      <td>501.00</td>\n",
       "      <td>23.00</td>\n",
       "      <td>0.05</td>\n",
       "    </tr>\n",
       "    <tr>\n",
       "      <th>12</th>\n",
       "      <td>the Link Willowbrook</td>\n",
       "      <td>181.00</td>\n",
       "      <td>501.00</td>\n",
       "      <td>23.00</td>\n",
       "      <td>0.05</td>\n",
       "    </tr>\n",
       "    <tr>\n",
       "      <th>13</th>\n",
       "      <td>the Link-Athens</td>\n",
       "      <td>176.00</td>\n",
       "      <td>501.00</td>\n",
       "      <td>23.00</td>\n",
       "      <td>0.05</td>\n",
       "    </tr>\n",
       "    <tr>\n",
       "      <th>14</th>\n",
       "      <td>Avocado Heights/Bassett/West Valinda Shuttle</td>\n",
       "      <td>171.00</td>\n",
       "      <td>501.00</td>\n",
       "      <td>49.00</td>\n",
       "      <td>0.10</td>\n",
       "    </tr>\n",
       "    <tr>\n",
       "      <th>15</th>\n",
       "      <td>East Los Angeles Shuttle</td>\n",
       "      <td>172.00</td>\n",
       "      <td>501.00</td>\n",
       "      <td>49.00</td>\n",
       "      <td>0.10</td>\n",
       "    </tr>\n",
       "    <tr>\n",
       "      <th>16</th>\n",
       "      <td>East Valinda Shuttle</td>\n",
       "      <td>173.00</td>\n",
       "      <td>501.00</td>\n",
       "      <td>49.00</td>\n",
       "      <td>0.10</td>\n",
       "    </tr>\n",
       "    <tr>\n",
       "      <th>17</th>\n",
       "      <td>Sunshine Bus(South Whittier)</td>\n",
       "      <td>174.00</td>\n",
       "      <td>501.00</td>\n",
       "      <td>49.00</td>\n",
       "      <td>0.10</td>\n",
       "    </tr>\n",
       "    <tr>\n",
       "      <th>18</th>\n",
       "      <td>the Link Florence-Firestone/Walnut Park</td>\n",
       "      <td>177.00</td>\n",
       "      <td>501.00</td>\n",
       "      <td>49.00</td>\n",
       "      <td>0.10</td>\n",
       "    </tr>\n",
       "    <tr>\n",
       "      <th>19</th>\n",
       "      <td>the Link King Medical Center</td>\n",
       "      <td>178.00</td>\n",
       "      <td>501.00</td>\n",
       "      <td>49.00</td>\n",
       "      <td>0.10</td>\n",
       "    </tr>\n",
       "    <tr>\n",
       "      <th>20</th>\n",
       "      <td>the Link Lennox</td>\n",
       "      <td>179.00</td>\n",
       "      <td>501.00</td>\n",
       "      <td>49.00</td>\n",
       "      <td>0.10</td>\n",
       "    </tr>\n",
       "    <tr>\n",
       "      <th>21</th>\n",
       "      <td>the Link Willowbrook</td>\n",
       "      <td>181.00</td>\n",
       "      <td>501.00</td>\n",
       "      <td>49.00</td>\n",
       "      <td>0.10</td>\n",
       "    </tr>\n",
       "    <tr>\n",
       "      <th>22</th>\n",
       "      <td>the Link-Athens</td>\n",
       "      <td>176.00</td>\n",
       "      <td>501.00</td>\n",
       "      <td>49.00</td>\n",
       "      <td>0.10</td>\n",
       "    </tr>\n",
       "    <tr>\n",
       "      <th>23</th>\n",
       "      <td>Arcata and Mad River Transit System</td>\n",
       "      <td>18.00</td>\n",
       "      <td>147.00</td>\n",
       "      <td>6.00</td>\n",
       "      <td>0.04</td>\n",
       "    </tr>\n",
       "    <tr>\n",
       "      <th>24</th>\n",
       "      <td>Blue Lake Rancheria</td>\n",
       "      <td>42.00</td>\n",
       "      <td>147.00</td>\n",
       "      <td>6.00</td>\n",
       "      <td>0.04</td>\n",
       "    </tr>\n",
       "    <tr>\n",
       "      <th>25</th>\n",
       "      <td>Eureka Transit Service</td>\n",
       "      <td>108.00</td>\n",
       "      <td>147.00</td>\n",
       "      <td>6.00</td>\n",
       "      <td>0.04</td>\n",
       "    </tr>\n",
       "    <tr>\n",
       "      <th>26</th>\n",
       "      <td>Humboldt Transit Authority</td>\n",
       "      <td>135.00</td>\n",
       "      <td>147.00</td>\n",
       "      <td>6.00</td>\n",
       "      <td>0.04</td>\n",
       "    </tr>\n",
       "    <tr>\n",
       "      <th>27</th>\n",
       "      <td>Susanville Indian Rancheria Public Transportation Program</td>\n",
       "      <td>329.00</td>\n",
       "      <td>57.00</td>\n",
       "      <td>11.00</td>\n",
       "      <td>0.19</td>\n",
       "    </tr>\n",
       "    <tr>\n",
       "      <th>28</th>\n",
       "      <td>Tehama Rural Area eXpress</td>\n",
       "      <td>334.00</td>\n",
       "      <td>57.00</td>\n",
       "      <td>11.00</td>\n",
       "      <td>0.19</td>\n",
       "    </tr>\n",
       "    <tr>\n",
       "      <th>29</th>\n",
       "      <td>Gold Country Stage</td>\n",
       "      <td>221.00</td>\n",
       "      <td>113.00</td>\n",
       "      <td>10.00</td>\n",
       "      <td>0.09</td>\n",
       "    </tr>\n",
       "    <tr>\n",
       "      <th>30</th>\n",
       "      <td>Trinity Transit</td>\n",
       "      <td>344.00</td>\n",
       "      <td>24.00</td>\n",
       "      <td>8.00</td>\n",
       "      <td>0.33</td>\n",
       "    </tr>\n",
       "    <tr>\n",
       "      <th>31</th>\n",
       "      <td>Trinity Transit</td>\n",
       "      <td>344.00</td>\n",
       "      <td>24.00</td>\n",
       "      <td>6.00</td>\n",
       "      <td>0.25</td>\n",
       "    </tr>\n",
       "    <tr>\n",
       "      <th>32</th>\n",
       "      <td>Trinity Transit</td>\n",
       "      <td>344.00</td>\n",
       "      <td>24.00</td>\n",
       "      <td>4.00</td>\n",
       "      <td>0.17</td>\n",
       "    </tr>\n",
       "    <tr>\n",
       "      <th>33</th>\n",
       "      <td>Mendocino Transit Authority</td>\n",
       "      <td>198.00</td>\n",
       "      <td>94.00</td>\n",
       "      <td>4.00</td>\n",
       "      <td>0.04</td>\n",
       "    </tr>\n",
       "    <tr>\n",
       "      <th>34</th>\n",
       "      <td>SamTrans</td>\n",
       "      <td>290.00</td>\n",
       "      <td>2910.00</td>\n",
       "      <td>18.00</td>\n",
       "      <td>0.01</td>\n",
       "    </tr>\n",
       "    <tr>\n",
       "      <th>35</th>\n",
       "      <td>Redwood Coast Transit</td>\n",
       "      <td>261.00</td>\n",
       "      <td>55.00</td>\n",
       "      <td>4.00</td>\n",
       "      <td>0.07</td>\n",
       "    </tr>\n",
       "    <tr>\n",
       "      <th>36</th>\n",
       "      <td>Sonoma County Transit</td>\n",
       "      <td>314.00</td>\n",
       "      <td>251.00</td>\n",
       "      <td>4.00</td>\n",
       "      <td>0.02</td>\n",
       "    </tr>\n",
       "    <tr>\n",
       "      <th>37</th>\n",
       "      <td>City of Lompoc Transit</td>\n",
       "      <td>169.00</td>\n",
       "      <td>NaN</td>\n",
       "      <td>NaN</td>\n",
       "      <td>NaN</td>\n",
       "    </tr>\n",
       "    <tr>\n",
       "      <th>38</th>\n",
       "      <td>Sacramento Regional Transit District</td>\n",
       "      <td>273.00</td>\n",
       "      <td>2490.00</td>\n",
       "      <td>19.00</td>\n",
       "      <td>0.01</td>\n",
       "    </tr>\n",
       "    <tr>\n",
       "      <th>39</th>\n",
       "      <td>Spirit Bus</td>\n",
       "      <td>207.00</td>\n",
       "      <td>NaN</td>\n",
       "      <td>NaN</td>\n",
       "      <td>NaN</td>\n",
       "    </tr>\n",
       "    <tr>\n",
       "      <th>40</th>\n",
       "      <td>Ventura County Transportation Commission</td>\n",
       "      <td>380.00</td>\n",
       "      <td>249.00</td>\n",
       "      <td>NaN</td>\n",
       "      <td>NaN</td>\n",
       "    </tr>\n",
       "    <tr>\n",
       "      <th>41</th>\n",
       "      <td>Avalon Transit</td>\n",
       "      <td>24.00</td>\n",
       "      <td>13.00</td>\n",
       "      <td>13.00</td>\n",
       "      <td>1.00</td>\n",
       "    </tr>\n",
       "    <tr>\n",
       "      <th>42</th>\n",
       "      <td>Eastern Sierra Transit Authority</td>\n",
       "      <td>99.00</td>\n",
       "      <td>186.00</td>\n",
       "      <td>2.00</td>\n",
       "      <td>0.01</td>\n",
       "    </tr>\n",
       "    <tr>\n",
       "      <th>43</th>\n",
       "      <td>Mammoth Lakes Transit System</td>\n",
       "      <td>190.00</td>\n",
       "      <td>186.00</td>\n",
       "      <td>2.00</td>\n",
       "      <td>0.01</td>\n",
       "    </tr>\n",
       "    <tr>\n",
       "      <th>44</th>\n",
       "      <td>Yosemite Area Regional Transportation System</td>\n",
       "      <td>374.00</td>\n",
       "      <td>12.00</td>\n",
       "      <td>12.00</td>\n",
       "      <td>1.00</td>\n",
       "    </tr>\n",
       "    <tr>\n",
       "      <th>45</th>\n",
       "      <td>Yosemite Area Regional Transportation System</td>\n",
       "      <td>374.00</td>\n",
       "      <td>12.00</td>\n",
       "      <td>NaN</td>\n",
       "      <td>NaN</td>\n",
       "    </tr>\n",
       "    <tr>\n",
       "      <th>46</th>\n",
       "      <td>Grapeline</td>\n",
       "      <td>168.00</td>\n",
       "      <td>15.00</td>\n",
       "      <td>1.00</td>\n",
       "      <td>0.07</td>\n",
       "    </tr>\n",
       "    <tr>\n",
       "      <th>47</th>\n",
       "      <td>City of Lompoc Transit</td>\n",
       "      <td>169.00</td>\n",
       "      <td>NaN</td>\n",
       "      <td>NaN</td>\n",
       "      <td>NaN</td>\n",
       "    </tr>\n",
       "    <tr>\n",
       "      <th>48</th>\n",
       "      <td>Golden Gate Bridge Highway and Transportation District</td>\n",
       "      <td>127.00</td>\n",
       "      <td>250.00</td>\n",
       "      <td>NaN</td>\n",
       "      <td>NaN</td>\n",
       "    </tr>\n",
       "    <tr>\n",
       "      <th>49</th>\n",
       "      <td>South County Transit Link</td>\n",
       "      <td>81.00</td>\n",
       "      <td>NaN</td>\n",
       "      <td>NaN</td>\n",
       "      <td>NaN</td>\n",
       "    </tr>\n",
       "    <tr>\n",
       "      <th>50</th>\n",
       "      <td>Santa Maria Area Transit</td>\n",
       "      <td>298.00</td>\n",
       "      <td>NaN</td>\n",
       "      <td>NaN</td>\n",
       "      <td>NaN</td>\n",
       "    </tr>\n",
       "    <tr>\n",
       "      <th>51</th>\n",
       "      <td>Calabasas Transit System</td>\n",
       "      <td>49.00</td>\n",
       "      <td>19.00</td>\n",
       "      <td>6.00</td>\n",
       "      <td>0.32</td>\n",
       "    </tr>\n",
       "    <tr>\n",
       "      <th>52</th>\n",
       "      <td>Roseville Transit</td>\n",
       "      <td>271.00</td>\n",
       "      <td>156.00</td>\n",
       "      <td>17.00</td>\n",
       "      <td>0.11</td>\n",
       "    </tr>\n",
       "    <tr>\n",
       "      <th>53</th>\n",
       "      <td>Roseville Transit</td>\n",
       "      <td>271.00</td>\n",
       "      <td>156.00</td>\n",
       "      <td>4.00</td>\n",
       "      <td>0.03</td>\n",
       "    </tr>\n",
       "    <tr>\n",
       "      <th>54</th>\n",
       "      <td>Capitol Corridor</td>\n",
       "      <td>56.00</td>\n",
       "      <td>51.00</td>\n",
       "      <td>22.00</td>\n",
       "      <td>0.43</td>\n",
       "    </tr>\n",
       "  </tbody>\n",
       "</table>\n",
       "</div>"
      ],
      "text/plain": [
       "                                                   agency_att  itp_id_att  \\\n",
       "0                                          Cloverdale Transit       70.00   \n",
       "1                Yosemite Area Regional Transportation System      374.00   \n",
       "2                                              Merced The Bus      343.00   \n",
       "3   Susanville Indian Rancheria Public Transportation Program      329.00   \n",
       "4                                   Tehama Rural Area eXpress      334.00   \n",
       "5                Avocado Heights/Bassett/West Valinda Shuttle      171.00   \n",
       "6                                    East Los Angeles Shuttle      172.00   \n",
       "7                                        East Valinda Shuttle      173.00   \n",
       "8                                Sunshine Bus(South Whittier)      174.00   \n",
       "9                     the Link Florence-Firestone/Walnut Park      177.00   \n",
       "10                               the Link King Medical Center      178.00   \n",
       "11                                            the Link Lennox      179.00   \n",
       "12                                       the Link Willowbrook      181.00   \n",
       "13                                            the Link-Athens      176.00   \n",
       "14               Avocado Heights/Bassett/West Valinda Shuttle      171.00   \n",
       "15                                   East Los Angeles Shuttle      172.00   \n",
       "16                                       East Valinda Shuttle      173.00   \n",
       "17                               Sunshine Bus(South Whittier)      174.00   \n",
       "18                    the Link Florence-Firestone/Walnut Park      177.00   \n",
       "19                               the Link King Medical Center      178.00   \n",
       "20                                            the Link Lennox      179.00   \n",
       "21                                       the Link Willowbrook      181.00   \n",
       "22                                            the Link-Athens      176.00   \n",
       "23                        Arcata and Mad River Transit System       18.00   \n",
       "24                                        Blue Lake Rancheria       42.00   \n",
       "25                                     Eureka Transit Service      108.00   \n",
       "26                                 Humboldt Transit Authority      135.00   \n",
       "27  Susanville Indian Rancheria Public Transportation Program      329.00   \n",
       "28                                  Tehama Rural Area eXpress      334.00   \n",
       "29                                         Gold Country Stage      221.00   \n",
       "30                                            Trinity Transit      344.00   \n",
       "31                                            Trinity Transit      344.00   \n",
       "32                                            Trinity Transit      344.00   \n",
       "33                                Mendocino Transit Authority      198.00   \n",
       "34                                                   SamTrans      290.00   \n",
       "35                                      Redwood Coast Transit      261.00   \n",
       "36                                      Sonoma County Transit      314.00   \n",
       "37                                     City of Lompoc Transit      169.00   \n",
       "38                       Sacramento Regional Transit District      273.00   \n",
       "39                                                 Spirit Bus      207.00   \n",
       "40                   Ventura County Transportation Commission      380.00   \n",
       "41                                             Avalon Transit       24.00   \n",
       "42                           Eastern Sierra Transit Authority       99.00   \n",
       "43                               Mammoth Lakes Transit System      190.00   \n",
       "44               Yosemite Area Regional Transportation System      374.00   \n",
       "45               Yosemite Area Regional Transportation System      374.00   \n",
       "46                                                  Grapeline      168.00   \n",
       "47                                     City of Lompoc Transit      169.00   \n",
       "48     Golden Gate Bridge Highway and Transportation District      127.00   \n",
       "49                                  South County Transit Link       81.00   \n",
       "50                                   Santa Maria Area Transit      298.00   \n",
       "51                                   Calabasas Transit System       49.00   \n",
       "52                                          Roseville Transit      271.00   \n",
       "53                                          Roseville Transit      271.00   \n",
       "54                                           Capitol Corridor       56.00   \n",
       "\n",
       "    total_trips_by_agency  total_trips_by_route  \\\n",
       "0                  251.00                  8.00   \n",
       "1                   12.00                   NaN   \n",
       "2                  565.00                  6.00   \n",
       "3                   57.00                  2.00   \n",
       "4                   57.00                  2.00   \n",
       "5                  501.00                 23.00   \n",
       "6                  501.00                 23.00   \n",
       "7                  501.00                 23.00   \n",
       "8                  501.00                 23.00   \n",
       "9                  501.00                 23.00   \n",
       "10                 501.00                 23.00   \n",
       "11                 501.00                 23.00   \n",
       "12                 501.00                 23.00   \n",
       "13                 501.00                 23.00   \n",
       "14                 501.00                 49.00   \n",
       "15                 501.00                 49.00   \n",
       "16                 501.00                 49.00   \n",
       "17                 501.00                 49.00   \n",
       "18                 501.00                 49.00   \n",
       "19                 501.00                 49.00   \n",
       "20                 501.00                 49.00   \n",
       "21                 501.00                 49.00   \n",
       "22                 501.00                 49.00   \n",
       "23                 147.00                  6.00   \n",
       "24                 147.00                  6.00   \n",
       "25                 147.00                  6.00   \n",
       "26                 147.00                  6.00   \n",
       "27                  57.00                 11.00   \n",
       "28                  57.00                 11.00   \n",
       "29                 113.00                 10.00   \n",
       "30                  24.00                  8.00   \n",
       "31                  24.00                  6.00   \n",
       "32                  24.00                  4.00   \n",
       "33                  94.00                  4.00   \n",
       "34                2910.00                 18.00   \n",
       "35                  55.00                  4.00   \n",
       "36                 251.00                  4.00   \n",
       "37                    NaN                   NaN   \n",
       "38                2490.00                 19.00   \n",
       "39                    NaN                   NaN   \n",
       "40                 249.00                   NaN   \n",
       "41                  13.00                 13.00   \n",
       "42                 186.00                  2.00   \n",
       "43                 186.00                  2.00   \n",
       "44                  12.00                 12.00   \n",
       "45                  12.00                   NaN   \n",
       "46                  15.00                  1.00   \n",
       "47                    NaN                   NaN   \n",
       "48                 250.00                   NaN   \n",
       "49                    NaN                   NaN   \n",
       "50                    NaN                   NaN   \n",
       "51                  19.00                  6.00   \n",
       "52                 156.00                 17.00   \n",
       "53                 156.00                  4.00   \n",
       "54                  51.00                 22.00   \n",
       "\n",
       "    percentage_of_trips_w_low_cell_service  \n",
       "0                                     0.03  \n",
       "1                                      NaN  \n",
       "2                                     0.01  \n",
       "3                                     0.04  \n",
       "4                                     0.04  \n",
       "5                                     0.05  \n",
       "6                                     0.05  \n",
       "7                                     0.05  \n",
       "8                                     0.05  \n",
       "9                                     0.05  \n",
       "10                                    0.05  \n",
       "11                                    0.05  \n",
       "12                                    0.05  \n",
       "13                                    0.05  \n",
       "14                                    0.10  \n",
       "15                                    0.10  \n",
       "16                                    0.10  \n",
       "17                                    0.10  \n",
       "18                                    0.10  \n",
       "19                                    0.10  \n",
       "20                                    0.10  \n",
       "21                                    0.10  \n",
       "22                                    0.10  \n",
       "23                                    0.04  \n",
       "24                                    0.04  \n",
       "25                                    0.04  \n",
       "26                                    0.04  \n",
       "27                                    0.19  \n",
       "28                                    0.19  \n",
       "29                                    0.09  \n",
       "30                                    0.33  \n",
       "31                                    0.25  \n",
       "32                                    0.17  \n",
       "33                                    0.04  \n",
       "34                                    0.01  \n",
       "35                                    0.07  \n",
       "36                                    0.02  \n",
       "37                                     NaN  \n",
       "38                                    0.01  \n",
       "39                                     NaN  \n",
       "40                                     NaN  \n",
       "41                                    1.00  \n",
       "42                                    0.01  \n",
       "43                                    0.01  \n",
       "44                                    1.00  \n",
       "45                                     NaN  \n",
       "46                                    0.07  \n",
       "47                                     NaN  \n",
       "48                                     NaN  \n",
       "49                                     NaN  \n",
       "50                                     NaN  \n",
       "51                                    0.32  \n",
       "52                                    0.11  \n",
       "53                                    0.03  \n",
       "54                                    0.43  "
      ]
     },
     "execution_count": 217,
     "metadata": {},
     "output_type": "execute_result"
    }
   ],
   "source": [
    "# Preview\n",
    "m5[['agency_att','itp_id_att','total_trips_by_agency','total_trips_by_route','percentage_of_trips_w_low_cell_service']]"
   ]
  },
  {
   "cell_type": "code",
   "execution_count": 218,
   "id": "bd0bcc04-a087-494b-86bf-574561f318d4",
   "metadata": {},
   "outputs": [],
   "source": [
    "# Del unwanted cols\n",
    "m5 = m5.drop(columns = ['calitp_itp_id_x', 'route_id', 'total_trips_by_route',\n",
    "       'calitp_itp_id_y', 'total_trips_by_agency', '_merge',])"
   ]
  },
  {
   "cell_type": "markdown",
   "id": "91e75bd9-2c0d-4fc0-a384-e83de3dc11d7",
   "metadata": {},
   "source": [
    "# Add NTD\n",
    "* How to incorporate total trips w/ total buses?"
   ]
  },
  {
   "cell_type": "code",
   "execution_count": 219,
   "id": "87e35782-c20b-47ba-87b6-5161bb8a4607",
   "metadata": {},
   "outputs": [],
   "source": [
    "# Load NTD vehicles\n",
    "ntd_df = utilities.ntd_vehicles()"
   ]
  },
  {
   "cell_type": "code",
   "execution_count": 220,
   "id": "81a83fe4-10ca-4a0a-a705-8b4cbeadb242",
   "metadata": {
    "scrolled": true,
    "tags": []
   },
   "outputs": [],
   "source": [
    "# ntd_df[\"agency\"].sort_values().unique().tolist()"
   ]
  },
  {
   "cell_type": "code",
   "execution_count": 221,
   "id": "e74f09dc-4957-42c0-972d-d1ff8d26b8ba",
   "metadata": {},
   "outputs": [],
   "source": [
    "# Replace agency names in NTD to match m4 above\n",
    "ntd_df[\"agency\"] = ntd_df[\"agency\"].replace(\n",
    "    {\n",
    "        \"Trinity County\": \"Trinity Transit\",\n",
    "        \"City of Calabasas\": \"Calabasas Transit System\",\n",
    "        \"County of Sonoma\": \"Sonoma County Transit\",\n",
    "        \"Tehama County\": \"Tehama Rural Area eXpress\",\n",
    "        \"Los Angeles County Department of Public Works - East L.A.\": \"East Los Angeles Shuttle\",\n",
    "        \"Sacramento Regional Transit District\": \"Sacramento Regional Transit District\",\n",
    "        \"Eastern Sierra Transit Authority\": \"Mammoth Lakes Transit System\",\n",
    "        \"City of Lompoc\": \"City of Lompoc Transit\",\n",
    "        \"San Luis Obispo Regional Transit Authority\": \"South County Transit Link\",\n",
    "        \"City of Roseville\": \"Roseville Transit\",\n",
    "        \"Los Angeles County Dept. of Public Works - Athens Shuttle Service\": \"the Link-Athens\",\n",
    "        \"Los Angeles County Department of Public Works - Avocado Heights\": \"Avocado Heights/Bassett/West Valinda Shuttle\",\n",
    "        \"Susanville Indian Rancheria\": \"Susanville Indian Rancheria Public Transportation Program\",\n",
    "        'Transit Joint Powers Authority for Merced County':'Merced The Bus',\n",
    "        'City of Eureka':'Eureka Transit Service',\n",
    "        'Nevada County Transit Services':'Gold Country Stage',\n",
    "        'San Mateo County Transit District':'SamTrans',\n",
    "        'Redwood Coast Transit Authority':'Redwood Coast Transit',\n",
    "        'City of Avalon':'Avalon Transit',\n",
    "        'City of Lodi':'Grapeline',\n",
    "        'Golden Gate Bridge':'Golden Gate Bridge Highway and Transportation District',\n",
    "        'City of Santa Maria':'Santa Maria Area Transit',\n",
    "        \n",
    "        \n",
    "    }\n",
    ")"
   ]
  },
  {
   "cell_type": "code",
   "execution_count": 222,
   "id": "fbe3c094-0b5f-46a1-a389-416e0ffc2515",
   "metadata": {},
   "outputs": [],
   "source": [
    "# Replace agency names in agency4 to match ntd\n",
    "m5[\"agency_att\"] = m5[\"agency_att\"].replace(\n",
    "    {\n",
    "        \"Cloverdale Transit\": \"Sonoma County Transit\",\n",
    "    }\n",
    ")"
   ]
  },
  {
   "cell_type": "code",
   "execution_count": 223,
   "id": "019d9f40-684d-4d7a-9ff5-6de1b994329e",
   "metadata": {},
   "outputs": [],
   "source": [
    "m6 = pd.merge(\n",
    "    m5,\n",
    "    ntd_df[['agency','total_buses']],\n",
    "    how=\"left\",\n",
    "    left_on=\"agency_att\",\n",
    "    right_on=\"agency\",\n",
    "    indicator=True,\n",
    ")"
   ]
  },
  {
   "cell_type": "code",
   "execution_count": 224,
   "id": "db758356-0b13-41c6-8b06-d3225124903b",
   "metadata": {},
   "outputs": [],
   "source": [
    "# Create col to find % of bus fleet that doesn't have coverage\n",
    "m6['percentage_of_buses_in_low_cell_zones'] = (m6['total_buses']*m6['percentage_of_trips_w_low_cell_service']).fillna(0).astype('int64')"
   ]
  },
  {
   "cell_type": "code",
   "execution_count": 225,
   "id": "403b5b3b-9cca-4f75-84eb-48bd8a716032",
   "metadata": {
    "scrolled": true,
    "tags": []
   },
   "outputs": [],
   "source": [
    "# m6.loc[m6['_merge']=='left_only'][['agency_att']]"
   ]
  },
  {
   "cell_type": "markdown",
   "id": "71fec63e-7c9f-4670-bcbb-60f8389ff6cd",
   "metadata": {},
   "source": [
    "# Final"
   ]
  },
  {
   "cell_type": "markdown",
   "id": "c0b2c23a-6028-4210-944f-0729fde8ea25",
   "metadata": {},
   "source": [
    "### There are a lot of same route-id and same route-name combos but run by different agencies?"
   ]
  },
  {
   "cell_type": "code",
   "execution_count": 226,
   "id": "31db5932-d416-400d-8b8a-54657458dfef",
   "metadata": {},
   "outputs": [],
   "source": [
    "# Cols to shorten dataframe\n",
    "subset_cols = [\n",
    "    \"route_id_att\",\n",
    "    \"route_name_att\",\n",
    "    \"agency_att\",\n",
    "    \"itp_id_att\",\n",
    "    \"percentage_att\",\n",
    "    \"percentage_verizon\",\n",
    "    \"percentage_tmobile\",\n",
    "    \"total_buses\",\n",
    "    'percentage_of_trips_w_low_cell_service',\n",
    "   'percentage_of_buses',\n",
    "]"
   ]
  },
  {
   "cell_type": "code",
   "execution_count": 227,
   "id": "5a729618-a5d2-4b80-aa9a-fb343161b322",
   "metadata": {
    "scrolled": true,
    "tags": []
   },
   "outputs": [
    {
     "ename": "KeyError",
     "evalue": "\"['percentage_of_buses'] not in index\"",
     "output_type": "error",
     "traceback": [
      "\u001b[0;31m---------------------------------------------------------------------------\u001b[0m",
      "\u001b[0;31mKeyError\u001b[0m                                  Traceback (most recent call last)",
      "Input \u001b[0;32mIn [227]\u001b[0m, in \u001b[0;36m<cell line: 1>\u001b[0;34m()\u001b[0m\n\u001b[0;32m----> 1\u001b[0m \u001b[43mm6\u001b[49m\u001b[43m[\u001b[49m\u001b[43msubset_cols\u001b[49m\u001b[43m]\u001b[49m\u001b[38;5;241m.\u001b[39msort_values([\u001b[38;5;124m'\u001b[39m\u001b[38;5;124mroute_id_att\u001b[39m\u001b[38;5;124m'\u001b[39m,\u001b[38;5;124m'\u001b[39m\u001b[38;5;124mroute_name_att\u001b[39m\u001b[38;5;124m'\u001b[39m,\u001b[38;5;124m'\u001b[39m\u001b[38;5;124mtotal_buses\u001b[39m\u001b[38;5;124m'\u001b[39m], ascending\u001b[38;5;241m=\u001b[39m[\u001b[38;5;28;01mTrue\u001b[39;00m, \u001b[38;5;28;01mTrue\u001b[39;00m, \u001b[38;5;28;01mFalse\u001b[39;00m])\n",
      "File \u001b[0;32m/opt/conda/lib/python3.10/site-packages/geopandas/geodataframe.py:1428\u001b[0m, in \u001b[0;36mGeoDataFrame.__getitem__\u001b[0;34m(self, key)\u001b[0m\n\u001b[1;32m   1422\u001b[0m \u001b[38;5;28;01mdef\u001b[39;00m \u001b[38;5;21m__getitem__\u001b[39m(\u001b[38;5;28mself\u001b[39m, key):\n\u001b[1;32m   1423\u001b[0m     \u001b[38;5;124;03m\"\"\"\u001b[39;00m\n\u001b[1;32m   1424\u001b[0m \u001b[38;5;124;03m    If the result is a column containing only 'geometry', return a\u001b[39;00m\n\u001b[1;32m   1425\u001b[0m \u001b[38;5;124;03m    GeoSeries. If it's a DataFrame with any columns of GeometryDtype,\u001b[39;00m\n\u001b[1;32m   1426\u001b[0m \u001b[38;5;124;03m    return a GeoDataFrame.\u001b[39;00m\n\u001b[1;32m   1427\u001b[0m \u001b[38;5;124;03m    \"\"\"\u001b[39;00m\n\u001b[0;32m-> 1428\u001b[0m     result \u001b[38;5;241m=\u001b[39m \u001b[38;5;28;43msuper\u001b[39;49m\u001b[43m(\u001b[49m\u001b[43m)\u001b[49m\u001b[38;5;241;43m.\u001b[39;49m\u001b[38;5;21;43m__getitem__\u001b[39;49m\u001b[43m(\u001b[49m\u001b[43mkey\u001b[49m\u001b[43m)\u001b[49m\n\u001b[1;32m   1429\u001b[0m     geo_col \u001b[38;5;241m=\u001b[39m \u001b[38;5;28mself\u001b[39m\u001b[38;5;241m.\u001b[39m_geometry_column_name\n\u001b[1;32m   1430\u001b[0m     \u001b[38;5;28;01mif\u001b[39;00m \u001b[38;5;28misinstance\u001b[39m(result, Series) \u001b[38;5;129;01mand\u001b[39;00m \u001b[38;5;28misinstance\u001b[39m(result\u001b[38;5;241m.\u001b[39mdtype, GeometryDtype):\n",
      "File \u001b[0;32m/opt/conda/lib/python3.10/site-packages/pandas/core/frame.py:3511\u001b[0m, in \u001b[0;36mDataFrame.__getitem__\u001b[0;34m(self, key)\u001b[0m\n\u001b[1;32m   3509\u001b[0m     \u001b[38;5;28;01mif\u001b[39;00m is_iterator(key):\n\u001b[1;32m   3510\u001b[0m         key \u001b[38;5;241m=\u001b[39m \u001b[38;5;28mlist\u001b[39m(key)\n\u001b[0;32m-> 3511\u001b[0m     indexer \u001b[38;5;241m=\u001b[39m \u001b[38;5;28;43mself\u001b[39;49m\u001b[38;5;241;43m.\u001b[39;49m\u001b[43mcolumns\u001b[49m\u001b[38;5;241;43m.\u001b[39;49m\u001b[43m_get_indexer_strict\u001b[49m\u001b[43m(\u001b[49m\u001b[43mkey\u001b[49m\u001b[43m,\u001b[49m\u001b[43m \u001b[49m\u001b[38;5;124;43m\"\u001b[39;49m\u001b[38;5;124;43mcolumns\u001b[39;49m\u001b[38;5;124;43m\"\u001b[39;49m\u001b[43m)\u001b[49m[\u001b[38;5;241m1\u001b[39m]\n\u001b[1;32m   3513\u001b[0m \u001b[38;5;66;03m# take() does not accept boolean indexers\u001b[39;00m\n\u001b[1;32m   3514\u001b[0m \u001b[38;5;28;01mif\u001b[39;00m \u001b[38;5;28mgetattr\u001b[39m(indexer, \u001b[38;5;124m\"\u001b[39m\u001b[38;5;124mdtype\u001b[39m\u001b[38;5;124m\"\u001b[39m, \u001b[38;5;28;01mNone\u001b[39;00m) \u001b[38;5;241m==\u001b[39m \u001b[38;5;28mbool\u001b[39m:\n",
      "File \u001b[0;32m/opt/conda/lib/python3.10/site-packages/pandas/core/indexes/base.py:5782\u001b[0m, in \u001b[0;36mIndex._get_indexer_strict\u001b[0;34m(self, key, axis_name)\u001b[0m\n\u001b[1;32m   5779\u001b[0m \u001b[38;5;28;01melse\u001b[39;00m:\n\u001b[1;32m   5780\u001b[0m     keyarr, indexer, new_indexer \u001b[38;5;241m=\u001b[39m \u001b[38;5;28mself\u001b[39m\u001b[38;5;241m.\u001b[39m_reindex_non_unique(keyarr)\n\u001b[0;32m-> 5782\u001b[0m \u001b[38;5;28;43mself\u001b[39;49m\u001b[38;5;241;43m.\u001b[39;49m\u001b[43m_raise_if_missing\u001b[49m\u001b[43m(\u001b[49m\u001b[43mkeyarr\u001b[49m\u001b[43m,\u001b[49m\u001b[43m \u001b[49m\u001b[43mindexer\u001b[49m\u001b[43m,\u001b[49m\u001b[43m \u001b[49m\u001b[43maxis_name\u001b[49m\u001b[43m)\u001b[49m\n\u001b[1;32m   5784\u001b[0m keyarr \u001b[38;5;241m=\u001b[39m \u001b[38;5;28mself\u001b[39m\u001b[38;5;241m.\u001b[39mtake(indexer)\n\u001b[1;32m   5785\u001b[0m \u001b[38;5;28;01mif\u001b[39;00m \u001b[38;5;28misinstance\u001b[39m(key, Index):\n\u001b[1;32m   5786\u001b[0m     \u001b[38;5;66;03m# GH 42790 - Preserve name from an Index\u001b[39;00m\n",
      "File \u001b[0;32m/opt/conda/lib/python3.10/site-packages/pandas/core/indexes/base.py:5845\u001b[0m, in \u001b[0;36mIndex._raise_if_missing\u001b[0;34m(self, key, indexer, axis_name)\u001b[0m\n\u001b[1;32m   5842\u001b[0m     \u001b[38;5;28;01mraise\u001b[39;00m \u001b[38;5;167;01mKeyError\u001b[39;00m(\u001b[38;5;124mf\u001b[39m\u001b[38;5;124m\"\u001b[39m\u001b[38;5;124mNone of [\u001b[39m\u001b[38;5;132;01m{\u001b[39;00mkey\u001b[38;5;132;01m}\u001b[39;00m\u001b[38;5;124m] are in the [\u001b[39m\u001b[38;5;132;01m{\u001b[39;00maxis_name\u001b[38;5;132;01m}\u001b[39;00m\u001b[38;5;124m]\u001b[39m\u001b[38;5;124m\"\u001b[39m)\n\u001b[1;32m   5844\u001b[0m not_found \u001b[38;5;241m=\u001b[39m \u001b[38;5;28mlist\u001b[39m(ensure_index(key)[missing_mask\u001b[38;5;241m.\u001b[39mnonzero()[\u001b[38;5;241m0\u001b[39m]]\u001b[38;5;241m.\u001b[39munique())\n\u001b[0;32m-> 5845\u001b[0m \u001b[38;5;28;01mraise\u001b[39;00m \u001b[38;5;167;01mKeyError\u001b[39;00m(\u001b[38;5;124mf\u001b[39m\u001b[38;5;124m\"\u001b[39m\u001b[38;5;132;01m{\u001b[39;00mnot_found\u001b[38;5;132;01m}\u001b[39;00m\u001b[38;5;124m not in index\u001b[39m\u001b[38;5;124m\"\u001b[39m)\n",
      "\u001b[0;31mKeyError\u001b[0m: \"['percentage_of_buses'] not in index\""
     ]
    }
   ],
   "source": [
    "m6[subset_cols].sort_values(['route_id_att','route_name_att','total_buses'], ascending=[True, True, False])"
   ]
  },
  {
   "cell_type": "code",
   "execution_count": null,
   "id": "7e18e5b5-3518-4ebb-8dbf-f1ce70a63acd",
   "metadata": {
    "scrolled": true,
    "tags": []
   },
   "outputs": [],
   "source": [
    "# Drop duplicates of route_id, keeping the agencey with the most buses?\n",
    "m7 = (m6\n",
    "      .sort_values(['route_id_att','route_name_att','total_buses'], ascending=[True, True, False])\n",
    "      .drop_duplicates(subset=[\"route_id_att\"])\n",
    "      .reset_index(drop = True)\n",
    "     )"
   ]
  },
  {
   "cell_type": "code",
   "execution_count": null,
   "id": "45101a8b-159f-43cf-a5f1-0e8c929e2b69",
   "metadata": {},
   "outputs": [],
   "source": [
    "m6.shape"
   ]
  },
  {
   "cell_type": "markdown",
   "id": "bfd94673-9d25-4548-9326-e73f6326bbed",
   "metadata": {},
   "source": [
    "### Some of the results are surprising...wouldn't expect urban areas to have routes on this list"
   ]
  },
  {
   "cell_type": "code",
   "execution_count": null,
   "id": "959b978a-752c-43d1-8e05-32488d4e4b43",
   "metadata": {
    "scrolled": true,
    "tags": []
   },
   "outputs": [],
   "source": [
    "m7[subset_cols]"
   ]
  },
  {
   "cell_type": "code",
   "execution_count": null,
   "id": "5cf6950e-422d-4de7-ab9e-8e045b1accf7",
   "metadata": {},
   "outputs": [],
   "source": [
    "tooltip_list = ['route_id_att', 'route_name_att', 'agency_att','percentage_att', 'percentage_verizon', 'percentage_tmobile',\n",
    "                'total_buses']"
   ]
  },
  {
   "cell_type": "code",
   "execution_count": null,
   "id": "5e748b82-d2ec-4f88-85ba-81ed9aecd35a",
   "metadata": {},
   "outputs": [],
   "source": [
    "# Grab route ID&agency\n",
    "m7_test  = m6[['route_id_att','agency_att']]\n"
   ]
  },
  {
   "cell_type": "code",
   "execution_count": null,
   "id": "ba501ed6-d04f-4bda-b502-6f4bf9b1dfef",
   "metadata": {},
   "outputs": [],
   "source": [
    "len(m7_test)"
   ]
  },
  {
   "cell_type": "code",
   "execution_count": null,
   "id": "cebd2c31-d1b3-47fc-9286-8bea4210b263",
   "metadata": {},
   "outputs": [],
   "source": [
    "m7.explore(\n",
    "    \"route_name_att\",\n",
    "    width=800,\n",
    "    height=400,\n",
    "    tooltip=tooltip_list,\n",
    "    style_kwds={\"weight\": 6},\n",
    "    legend = False,\n",
    "    color =  'tab20c'\n",
    ")"
   ]
  },
  {
   "cell_type": "markdown",
   "id": "e16f6365-0dd5-4c09-a0d3-22a30eb4b8c7",
   "metadata": {},
   "source": [
    "#### Double check against original routes_df"
   ]
  },
  {
   "cell_type": "code",
   "execution_count": null,
   "id": "78d8a520-dce5-492c-83eb-c30d247f283a",
   "metadata": {},
   "outputs": [],
   "source": [
    "routes_df2= pd.merge(\n",
    "  \n",
    "    routes_df,\n",
    "      m7_test,\n",
    "    how=\"inner\",\n",
    "    right_on=[\"agency_att\", \"route_id_att\"],\n",
    "    left_on=[\"agency\", \"route_id\"]\n",
    "    \n",
    ")"
   ]
  },
  {
   "cell_type": "code",
   "execution_count": null,
   "id": "0ddc9fea-7882-48c7-b5e1-53d03fe2734b",
   "metadata": {},
   "outputs": [],
   "source": [
    "routes_df2.explore(\n",
    "    \"route_name\",\n",
    "    width=800,\n",
    "    height=400,\n",
    "    tooltip=['route_name', 'agency'],\n",
    "    style_kwds={\"weight\": 6},\n",
    "    legend = False,\n",
    "    color =  'tab20c'\n",
    ")"
   ]
  }
 ],
 "metadata": {
  "kernelspec": {
   "display_name": "Python 3 (ipykernel)",
   "language": "python",
   "name": "python3"
  },
  "language_info": {
   "codemirror_mode": {
    "name": "ipython",
    "version": 3
   },
   "file_extension": ".py",
   "mimetype": "text/x-python",
   "name": "python",
   "nbconvert_exporter": "python",
   "pygments_lexer": "ipython3",
   "version": "3.10.5"
  }
 },
 "nbformat": 4,
 "nbformat_minor": 5
}
