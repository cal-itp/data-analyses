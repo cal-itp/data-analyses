{
 "cells": [
  {
   "cell_type": "markdown",
   "id": "c1bef5b2-e09b-4d94-8495-1b1500ce61c0",
   "metadata": {},
   "source": [
    "## Analysis"
   ]
  },
  {
   "cell_type": "code",
   "execution_count": 1,
   "id": "8f8eb086-3c0d-489f-a23c-26a2b79dad6f",
   "metadata": {},
   "outputs": [],
   "source": [
    "# Turn off warnings\n",
    "import warnings\n",
    "warnings.filterwarnings(\"ignore\")"
   ]
  },
  {
   "cell_type": "code",
   "execution_count": 2,
   "id": "bf753c37-cd7a-4a2a-bd1a-0012872eda7d",
   "metadata": {},
   "outputs": [],
   "source": [
    "import A1_provider_prep\n",
    "import A2_other\n",
    "import A3_analysis\n",
    "import altair as alt\n",
    "import geopandas as gpd\n",
    "import pandas as pd\n",
    "from shared_utils import geography_utils, utils"
   ]
  },
  {
   "cell_type": "code",
   "execution_count": 3,
   "id": "94d5de63-1fdc-4127-963f-0526ef64cc72",
   "metadata": {},
   "outputs": [],
   "source": [
    "pd.options.display.max_columns = 100\n",
    "pd.options.display.float_format = \"{:.2f}\".format\n",
    "pd.set_option(\"display.max_rows\", None)\n",
    "pd.set_option(\"display.max_colwidth\", None)"
   ]
  },
  {
   "cell_type": "code",
   "execution_count": 4,
   "id": "24fcca85-d6ea-4fc7-a450-e3a505a5c619",
   "metadata": {},
   "outputs": [],
   "source": [
    "# Read in no coverage maps\n",
    "verizon = A1_provider_prep.load_verizon()"
   ]
  },
  {
   "cell_type": "code",
   "execution_count": 5,
   "id": "b5c8d8c5-f49e-4bf1-a87a-25d76ff666ef",
   "metadata": {},
   "outputs": [],
   "source": [
    "att = A1_provider_prep.load_att()"
   ]
  },
  {
   "cell_type": "code",
   "execution_count": 6,
   "id": "55d57154-85e5-4cdd-a33f-9ae031f9a827",
   "metadata": {},
   "outputs": [],
   "source": [
    "tmobile = A1_provider_prep.load_tmobile()"
   ]
  },
  {
   "cell_type": "code",
   "execution_count": 7,
   "id": "2a55d2fa-bc52-4c4d-9b82-90f44688237f",
   "metadata": {},
   "outputs": [],
   "source": [
    "# Find routes that run in areas without coverage across all 3 providers\n",
    "final = A3_analysis.final_merge(A3_analysis.merge_all_providers())"
   ]
  },
  {
   "cell_type": "code",
   "execution_count": 8,
   "id": "bf9889fc-9e9f-4b6f-8f43-d6de5c445ea3",
   "metadata": {},
   "outputs": [],
   "source": [
    "# Load in original geometries of the routes.\n",
    "one_dist_routes, multi_dist_routes, all_routes = A2_other.find_multi_district_routes()"
   ]
  },
  {
   "cell_type": "code",
   "execution_count": 9,
   "id": "ac47ef38-38e6-4f62-8430-48ad49ea7eb4",
   "metadata": {},
   "outputs": [],
   "source": [
    "bins = [0, 10, 20, 30, 40, 50, 60, 70, 80, 90, 100]"
   ]
  },
  {
   "cell_type": "code",
   "execution_count": 10,
   "id": "767f6b3c-1780-498b-a536-7505a6101c32",
   "metadata": {},
   "outputs": [],
   "source": [
    "final[\"Binned\"] = pd.cut(final[\"Median Percent With Coverage\"], bins)"
   ]
  },
  {
   "cell_type": "code",
   "execution_count": 11,
   "id": "ddef2da9-8028-45f1-a846-7559dbecd4be",
   "metadata": {},
   "outputs": [],
   "source": [
    "final.Binned = final.Binned.astype(str)"
   ]
  },
  {
   "cell_type": "code",
   "execution_count": 12,
   "id": "ed9478e5-bcfd-4dcc-8d1c-1a456372c492",
   "metadata": {},
   "outputs": [],
   "source": [
    "district_summary = A3_analysis.summarize_districts(final)"
   ]
  },
  {
   "cell_type": "code",
   "execution_count": 13,
   "id": "d28b5050-efab-4842-ac0b-c4fe8223deb7",
   "metadata": {},
   "outputs": [],
   "source": [
    "operator_summary = A3_analysis.summarize_operators(final)"
   ]
  },
  {
   "cell_type": "code",
   "execution_count": 14,
   "id": "0d2dac19-2a42-4758-8bb4-cc5acce272a6",
   "metadata": {},
   "outputs": [],
   "source": [
    "route_summary = A3_analysis.summarize_routes_gtfs(final)"
   ]
  },
  {
   "cell_type": "markdown",
   "id": "3d98dac4-53a9-4d69-b127-58d426ae033a",
   "metadata": {},
   "source": [
    "### Main Findings"
   ]
  },
  {
   "cell_type": "code",
   "execution_count": 15,
   "id": "a9be9258-8236-4fb3-b3e0-590b1476eee5",
   "metadata": {},
   "outputs": [
    {
     "data": {
      "text/plain": [
       "'There are 2820 routes that touch a zone without cellular coverage out the 2914 unique routes in California.'"
      ]
     },
     "execution_count": 15,
     "metadata": {},
     "output_type": "execute_result"
    }
   ],
   "source": [
    "f\"There are {len(final)} routes that touch a zone without cellular coverage out the {len(all_routes)} unique routes in California.\""
   ]
  },
  {
   "cell_type": "code",
   "execution_count": 16,
   "id": "ea881f86-54de-485e-8ee8-4335a1c16e84",
   "metadata": {},
   "outputs": [
    {
     "data": {
      "text/plain": [
       "'Although many routes touch a non-cellular coverage area, in actuality, 90 percent of them still have 90-100% data coverage across their entire length.'"
      ]
     },
     "execution_count": 16,
     "metadata": {},
     "output_type": "execute_result"
    }
   ],
   "source": [
    "f\"Although many routes touch a non-cellular coverage area, in actuality, {int(((2565/len(final))*100))} percent of them still have 90-100% data coverage across their entire length.\""
   ]
  },
  {
   "cell_type": "code",
   "execution_count": 38,
   "id": "375e18c7-1cdc-497d-90fc-594f09b41b8e",
   "metadata": {},
   "outputs": [
    {
     "data": {
      "text/html": [
       "\n",
       "<div id=\"altair-viz-745f273f5fbc4b69b82d61c6085f4eab\"></div>\n",
       "<script type=\"text/javascript\">\n",
       "  var VEGA_DEBUG = (typeof VEGA_DEBUG == \"undefined\") ? {} : VEGA_DEBUG;\n",
       "  (function(spec, embedOpt){\n",
       "    let outputDiv = document.currentScript.previousElementSibling;\n",
       "    if (outputDiv.id !== \"altair-viz-745f273f5fbc4b69b82d61c6085f4eab\") {\n",
       "      outputDiv = document.getElementById(\"altair-viz-745f273f5fbc4b69b82d61c6085f4eab\");\n",
       "    }\n",
       "    const paths = {\n",
       "      \"vega\": \"https://cdn.jsdelivr.net/npm//vega@5?noext\",\n",
       "      \"vega-lib\": \"https://cdn.jsdelivr.net/npm//vega-lib?noext\",\n",
       "      \"vega-lite\": \"https://cdn.jsdelivr.net/npm//vega-lite@4.17.0?noext\",\n",
       "      \"vega-embed\": \"https://cdn.jsdelivr.net/npm//vega-embed@6?noext\",\n",
       "    };\n",
       "\n",
       "    function maybeLoadScript(lib, version) {\n",
       "      var key = `${lib.replace(\"-\", \"\")}_version`;\n",
       "      return (VEGA_DEBUG[key] == version) ?\n",
       "        Promise.resolve(paths[lib]) :\n",
       "        new Promise(function(resolve, reject) {\n",
       "          var s = document.createElement('script');\n",
       "          document.getElementsByTagName(\"head\")[0].appendChild(s);\n",
       "          s.async = true;\n",
       "          s.onload = () => {\n",
       "            VEGA_DEBUG[key] = version;\n",
       "            return resolve(paths[lib]);\n",
       "          };\n",
       "          s.onerror = () => reject(`Error loading script: ${paths[lib]}`);\n",
       "          s.src = paths[lib];\n",
       "        });\n",
       "    }\n",
       "\n",
       "    function showError(err) {\n",
       "      outputDiv.innerHTML = `<div class=\"error\" style=\"color:red;\">${err}</div>`;\n",
       "      throw err;\n",
       "    }\n",
       "\n",
       "    function displayChart(vegaEmbed) {\n",
       "      vegaEmbed(outputDiv, spec, embedOpt)\n",
       "        .catch(err => showError(`Javascript Error: ${err.message}<br>This usually means there's a typo in your chart specification. See the javascript console for the full traceback.`));\n",
       "    }\n",
       "\n",
       "    if(typeof define === \"function\" && define.amd) {\n",
       "      requirejs.config({paths});\n",
       "      require([\"vega-embed\"], displayChart, err => showError(`Error loading script: ${err.message}`));\n",
       "    } else {\n",
       "      maybeLoadScript(\"vega\", \"5\")\n",
       "        .then(() => maybeLoadScript(\"vega-lite\", \"4.17.0\"))\n",
       "        .then(() => maybeLoadScript(\"vega-embed\", \"6\"))\n",
       "        .catch(showError)\n",
       "        .then(() => displayChart(vegaEmbed));\n",
       "    }\n",
       "  })({\"config\": {\"view\": {\"continuousWidth\": 400, \"continuousHeight\": 300}}, \"data\": {\"name\": \"data-dd34a0e77ec63c93c1f664dd22f12962\"}, \"mark\": \"bar\", \"encoding\": {\"color\": {\"field\": \"Gtfs Status\", \"legend\": null, \"scale\": {\"range\": [\"#2EA8CE\", \"#EB9F3C\", \"#F4D837\", \"#51BF9D\", \"#8CBCCB\", \"#9487C0\"]}, \"type\": \"nominal\"}, \"tooltip\": [{\"field\": \"Binned\", \"type\": \"nominal\"}, {\"field\": \"Gtfs Status\", \"type\": \"nominal\"}, {\"field\": \"Total Routes\", \"type\": \"quantitative\"}], \"x\": {\"field\": \"Total Routes\", \"type\": \"quantitative\"}, \"y\": {\"field\": \"Binned\", \"type\": \"nominal\"}}, \"height\": 250, \"selection\": {\"selector006\": {\"type\": \"single\", \"fields\": [\"Binned\"], \"bind\": {\"input\": \"select\", \"options\": [\"(30, 40]\", \"(40, 50]\", \"(50, 60]\", \"(60, 70]\", \"(70, 80]\", \"(80, 90]\", \"(90, 100]\"], \"name\": \"Select \"}}}, \"title\": \"Operator Level: Total Routes by Median % Cellular Coverage (use dropdown menu below to filter)\", \"transform\": [{\"filter\": {\"selection\": \"selector006\"}}], \"width\": 450, \"$schema\": \"https://vega.github.io/schema/vega-lite/v4.17.0.json\", \"datasets\": {\"data-dd34a0e77ec63c93c1f664dd22f12962\": [{\"Binned\": \"(30, 40]\", \"Gtfs Status\": \"Static OK/RT Incomplete\", \"Total Routes\": 2}, {\"Binned\": \"(40, 50]\", \"Gtfs Status\": \"Static OK/RT Incomplete\", \"Total Routes\": 3}, {\"Binned\": \"(50, 60]\", \"Gtfs Status\": \"Static Incomplete/RT Incomplete\", \"Total Routes\": 1}, {\"Binned\": \"(50, 60]\", \"Gtfs Status\": \"Static OK/RT Incomplete\", \"Total Routes\": 4}, {\"Binned\": \"(50, 60]\", \"Gtfs Status\": \"Static OK/RT OK\", \"Total Routes\": 2}, {\"Binned\": \"(60, 70]\", \"Gtfs Status\": \"Static Incomplete/RT Incomplete\", \"Total Routes\": 2}, {\"Binned\": \"(60, 70]\", \"Gtfs Status\": \"Static OK/RT Incomplete\", \"Total Routes\": 3}, {\"Binned\": \"(60, 70]\", \"Gtfs Status\": \"Static OK/RT OK\", \"Total Routes\": 4}, {\"Binned\": \"(70, 80]\", \"Gtfs Status\": \"No Info\", \"Total Routes\": 2}, {\"Binned\": \"(70, 80]\", \"Gtfs Status\": \"Static Incomplete/RT Incomplete\", \"Total Routes\": 4}, {\"Binned\": \"(70, 80]\", \"Gtfs Status\": \"Static OK/RT Incomplete\", \"Total Routes\": 7}, {\"Binned\": \"(70, 80]\", \"Gtfs Status\": \"Static OK/RT OK\", \"Total Routes\": 19}, {\"Binned\": \"(80, 90]\", \"Gtfs Status\": \"No Info\", \"Total Routes\": 9}, {\"Binned\": \"(80, 90]\", \"Gtfs Status\": \"Static OK/RT Incomplete\", \"Total Routes\": 9}, {\"Binned\": \"(80, 90]\", \"Gtfs Status\": \"Static OK/RT OK\", \"Total Routes\": 24}, {\"Binned\": \"(90, 100]\", \"Gtfs Status\": \"No Info\", \"Total Routes\": 222}, {\"Binned\": \"(90, 100]\", \"Gtfs Status\": \"Static Incomplete/RT Incomplete\", \"Total Routes\": 498}, {\"Binned\": \"(90, 100]\", \"Gtfs Status\": \"Static OK/RT Incomplete\", \"Total Routes\": 597}, {\"Binned\": \"(90, 100]\", \"Gtfs Status\": \"Static OK/RT OK\", \"Total Routes\": 1408}]}}, {\"mode\": \"vega-lite\"});\n",
       "</script>"
      ],
      "text/plain": [
       "alt.Chart(...)"
      ]
     },
     "execution_count": 38,
     "metadata": {},
     "output_type": "execute_result"
    }
   ],
   "source": [
    "A3_analysis.chart_with_dropdown(\n",
    "    route_summary,\n",
    "    route_summary[\"Binned\"].sort_values().unique().tolist(),\n",
    "    \"Binned\",\n",
    "    \"Total Routes\",\n",
    "    \"Binned\",\n",
    "    \"Gtfs Status\",\n",
    "    [\"Binned\", \"Gtfs Status\", \"Total Routes\"],\n",
    "    \"Operator Level: Total Routes by Median % Cellular Coverage (use dropdown menu below to filter)\",\n",
    ")"
   ]
  },
  {
   "cell_type": "code",
   "execution_count": 18,
   "id": "9f9a468a-5301-4bc3-8b82-18ff2f6e68b4",
   "metadata": {},
   "outputs": [
    {
     "data": {
      "text/html": [
       "\n",
       "<div id=\"altair-viz-86dbeb9c2dfa40e287b344aa1c59f6d3\"></div>\n",
       "<script type=\"text/javascript\">\n",
       "  var VEGA_DEBUG = (typeof VEGA_DEBUG == \"undefined\") ? {} : VEGA_DEBUG;\n",
       "  (function(spec, embedOpt){\n",
       "    let outputDiv = document.currentScript.previousElementSibling;\n",
       "    if (outputDiv.id !== \"altair-viz-86dbeb9c2dfa40e287b344aa1c59f6d3\") {\n",
       "      outputDiv = document.getElementById(\"altair-viz-86dbeb9c2dfa40e287b344aa1c59f6d3\");\n",
       "    }\n",
       "    const paths = {\n",
       "      \"vega\": \"https://cdn.jsdelivr.net/npm//vega@5?noext\",\n",
       "      \"vega-lib\": \"https://cdn.jsdelivr.net/npm//vega-lib?noext\",\n",
       "      \"vega-lite\": \"https://cdn.jsdelivr.net/npm//vega-lite@4.17.0?noext\",\n",
       "      \"vega-embed\": \"https://cdn.jsdelivr.net/npm//vega-embed@6?noext\",\n",
       "    };\n",
       "\n",
       "    function maybeLoadScript(lib, version) {\n",
       "      var key = `${lib.replace(\"-\", \"\")}_version`;\n",
       "      return (VEGA_DEBUG[key] == version) ?\n",
       "        Promise.resolve(paths[lib]) :\n",
       "        new Promise(function(resolve, reject) {\n",
       "          var s = document.createElement('script');\n",
       "          document.getElementsByTagName(\"head\")[0].appendChild(s);\n",
       "          s.async = true;\n",
       "          s.onload = () => {\n",
       "            VEGA_DEBUG[key] = version;\n",
       "            return resolve(paths[lib]);\n",
       "          };\n",
       "          s.onerror = () => reject(`Error loading script: ${paths[lib]}`);\n",
       "          s.src = paths[lib];\n",
       "        });\n",
       "    }\n",
       "\n",
       "    function showError(err) {\n",
       "      outputDiv.innerHTML = `<div class=\"error\" style=\"color:red;\">${err}</div>`;\n",
       "      throw err;\n",
       "    }\n",
       "\n",
       "    function displayChart(vegaEmbed) {\n",
       "      vegaEmbed(outputDiv, spec, embedOpt)\n",
       "        .catch(err => showError(`Javascript Error: ${err.message}<br>This usually means there's a typo in your chart specification. See the javascript console for the full traceback.`));\n",
       "    }\n",
       "\n",
       "    if(typeof define === \"function\" && define.amd) {\n",
       "      requirejs.config({paths});\n",
       "      require([\"vega-embed\"], displayChart, err => showError(`Error loading script: ${err.message}`));\n",
       "    } else {\n",
       "      maybeLoadScript(\"vega\", \"5\")\n",
       "        .then(() => maybeLoadScript(\"vega-lite\", \"4.17.0\"))\n",
       "        .then(() => maybeLoadScript(\"vega-embed\", \"6\"))\n",
       "        .catch(showError)\n",
       "        .then(() => displayChart(vegaEmbed));\n",
       "    }\n",
       "  })({\"config\": {\"view\": {\"continuousWidth\": 400, \"continuousHeight\": 300}}, \"data\": {\"name\": \"data-d7638326e165ba36b2fbcc38dc271a54\"}, \"mark\": \"bar\", \"encoding\": {\"color\": {\"field\": \"Median Percent of Route with Cell Coverage\", \"legend\": null, \"scale\": {\"range\": [\"#2EA8CE\", \"#EB9F3C\", \"#F4D837\", \"#51BF9D\", \"#8CBCCB\", \"#9487C0\"]}, \"type\": \"nominal\"}, \"tooltip\": [{\"field\": \"Agency\", \"type\": \"nominal\"}, {\"field\": \"Median Percent of Route with Cell Coverage\", \"type\": \"nominal\"}, {\"field\": \"Total Routes\", \"type\": \"quantitative\"}], \"x\": {\"field\": \"Median Percent of Route with Cell Coverage\", \"type\": \"nominal\"}, \"y\": {\"field\": \"Total Routes\", \"type\": \"quantitative\"}}, \"height\": 250, \"selection\": {\"selector002\": {\"type\": \"single\", \"fields\": [\"Agency\"], \"bind\": {\"input\": \"select\", \"options\": [\"AC Transit\", \"Alhambra Community Transit\", \"Amador Regional Transit System\", \"Anaheim Regional Transportation\", \"Antelope Valley Transit Authority\", \"Arcadia Transit\", \"Arcata and Mad River Transit System\", \"Auburn Transit\", \"Avocado Heights/Bassett/West Valinda Shuttle\", \"B-Line\", \"Baldwin Park Transit\", \"Banning Pass Transit\", \"Beach Cities Transit\", \"Beaumont Pass Transit\", \"Bell Gardens\", \"Bellflower Bus\", \"Big Blue Bus\", \"Blue Lake Rancheria\", \"Burbank Bus\", \"Burney Express\", \"Calabasas Transit System\", \"Calaveras Transit\", \"Capitol Corridor\", \"City of Lompoc Transit\", \"City of Sierra Madre\", \"City of South Gate\", \"City of West Hollywood\", \"City of la-Puente\", \"Clean Air Express\", \"Cloverdale Transit\", \"Clovis Transit System\", \"Commerce Municipal Bus Lines\", \"Commute.org Shuttles\", \"Compton Renaissance Transit Service\", \"Corona Cruiser\", \"County Connection\", \"County Express\", \"Cudahy Area Rapid Transit\", \"Culver CityBus\", \"Desert Roadrunner\", \"DowneyLINK\", \"Dumbarton Express\", \"East Los Angeles Shuttle\", \"East Valinda Shuttle\", \"Eastern Sierra Transit Authority\", \"El Dorado Transit\", \"El Monte Transportation Division\", \"El Segundo\", \"Elk Grove Transit\", \"Emery Go-Round\", \"Eureka Transit Service\", \"Fairfield and Suisun Transit\", \"Foothill Transit\", \"Fresno Area Express\", \"Fresno County Rural Transit Agency\", \"GET Bus\", \"Glendale Beeline\", \"Glendora Transportation Division\", \"Glenn County Transit\", \"Go West Shuttle\", \"Gold Coast Transit\", \"Gold Country Stage\", \"Golden Gate Bridge Highway and Transportation District\", \"Grapeline\", \"Humboldt Transit Authority\", \"Huntington Park Express\", \"Irvine Shuttle\", \"Kern Transit\", \"Kings Area Rural Transit\", \"LAX FlyAway\", \"La Campana\", \"Laguna Beach Municipal Transit\", \"Lake Transit\", \"Lassen Transit Service Agency\", \"Long Beach Transit\", \"Los Angeles Department of Transportation\", \"MUNI\", \"MVGO\", \"Madera Area Express\", \"Madera County Connection\", \"Marguerite Shuttle\", \"Marin Transit\", \"Mendocino Transit Authority\", \"Merced The Bus\", \"Metro\", \"Mission Bay TMA\", \"Montebello Bus Lines\", \"Monterey-Salinas Transit\", \"Moorpark City Transit\", \"Morongo Basin Transit Authority\", \"Mountain Transit\", \"Needles Area Transit\", \"North County Transit District\", \"Norwalk Transit System\", \"Ojai Trolley\", \"OmniTrans\", \"Orange County Transportation Authority\", \"Palos Verdes Peninsula Transit Authority\", \"Pasadena Transit\", \"Petaluma Transit\", \"Placer County Transit\", \"PresidiGo\", \"Redding Area Bus Authority\", \"Redwood Coast Transit\", \"Rio Vista Delta Breeze\", \"Riverside Transit Agency\", \"Rosemead Explorer\", \"Roseville Transit\", \"SLO Transit\", \"Sacramento Regional Transit District\", \"Sage Stage\", \"SamTrans\", \"San Diego Metropolitan Transit System\", \"San Francisco International Airport\", \"San Joaquin Regional Transit District\", \"San Luis Obispo Regional Transit Authority\", \"Santa Barbara Metropolitan Transit District\", \"Santa Clara Valley Transportation Authority\", \"Santa Clarita Transit\", \"Santa Cruz Metropolitan Transit District\", \"Santa Maria Area Transit\", \"Santa Rosa CityBus\", \"Santa Ynez Valley Transit\", \"Simi Valley Transit\", \"Siskiyou Transit and General Express\", \"SolTrans\", \"SolanoExpress\", \"Sonoma County Transit\", \"South County Transit Link\", \"South San Francisco Shuttle\", \"Spirit Bus\", \"Stanislaus Regional Transit Authority\", \"Sunshine Bus(South Whittier)\", \"Susanville Indian Rancheria Public Transportation Program\", \"TRACER\", \"Tahoe Transportation\", \"Tahoe Truckee Area Regional Transportation\", \"Tehama Rural Area eXpress\", \"Thousand Oaks Transit\", \"Torrance Transit System\", \"Tri Delta Transit\", \"Tri-Valley Wheels\", \"Trinity Transit\", \"Tulare County Area Transit\", \"Tulare County Regional Transit Agency\", \"Tulare InterModal Express\", \"Tuolumne County Transit Agency\", \"Turlock Transit\", \"Union City Transit\", \"Unitrans\", \"Vacaville City Coach\", \"Ventura County Transportation Commission\", \"Victor Valley Transit\", \"Vine Transit\", \"Visalia Transit\", \"WestCAT\", \"Yolobus\", \"Yosemite Area Regional Transportation System\", \"Yuba-Sutter Transit Authority\", \"Yuma County Area Transit\", \"eTrans\", \"the Link Florence-Firestone/Walnut Park\", \"the Link King Medical Center\", \"the Link Lennox\", \"the Link Willowbrook\", \"the Link-Athens\"], \"name\": \"Select \"}}}, \"title\": \"Operator Level: Total Routes by Median % Cellular Coverage (use dropdown menu below to filter)\", \"transform\": [{\"filter\": {\"selection\": \"selector002\"}}], \"width\": 450, \"$schema\": \"https://vega.github.io/schema/vega-lite/v4.17.0.json\", \"datasets\": {\"data-d7638326e165ba36b2fbcc38dc271a54\": [{\"Agency\": \"AC Transit\", \"Median Percent of Route with Cell Coverage\": \"(70, 80]\", \"Total Routes\": 11}, {\"Agency\": \"AC Transit\", \"Median Percent of Route with Cell Coverage\": \"(80, 90]\", \"Total Routes\": 9}, {\"Agency\": \"AC Transit\", \"Median Percent of Route with Cell Coverage\": \"(90, 100]\", \"Total Routes\": 111}, {\"Agency\": \"Alhambra Community Transit\", \"Median Percent of Route with Cell Coverage\": \"(90, 100]\", \"Total Routes\": 2}, {\"Agency\": \"Amador Regional Transit System\", \"Median Percent of Route with Cell Coverage\": \"(80, 90]\", \"Total Routes\": 1}, {\"Agency\": \"Amador Regional Transit System\", \"Median Percent of Route with Cell Coverage\": \"(90, 100]\", \"Total Routes\": 5}, {\"Agency\": \"Anaheim Regional Transportation\", \"Median Percent of Route with Cell Coverage\": \"(90, 100]\", \"Total Routes\": 5}, {\"Agency\": \"Antelope Valley Transit Authority\", \"Median Percent of Route with Cell Coverage\": \"(90, 100]\", \"Total Routes\": 17}, {\"Agency\": \"Arcadia Transit\", \"Median Percent of Route with Cell Coverage\": \"(90, 100]\", \"Total Routes\": 3}, {\"Agency\": \"Arcata and Mad River Transit System\", \"Median Percent of Route with Cell Coverage\": \"(70, 80]\", \"Total Routes\": 1}, {\"Agency\": \"Arcata and Mad River Transit System\", \"Median Percent of Route with Cell Coverage\": \"(80, 90]\", \"Total Routes\": 1}, {\"Agency\": \"Arcata and Mad River Transit System\", \"Median Percent of Route with Cell Coverage\": \"(90, 100]\", \"Total Routes\": 11}, {\"Agency\": \"Auburn Transit\", \"Median Percent of Route with Cell Coverage\": \"(90, 100]\", \"Total Routes\": 1}, {\"Agency\": \"Avocado Heights/Bassett/West Valinda Shuttle\", \"Median Percent of Route with Cell Coverage\": \"(80, 90]\", \"Total Routes\": 1}, {\"Agency\": \"Avocado Heights/Bassett/West Valinda Shuttle\", \"Median Percent of Route with Cell Coverage\": \"(90, 100]\", \"Total Routes\": 17}, {\"Agency\": \"B-Line\", \"Median Percent of Route with Cell Coverage\": \"(90, 100]\", \"Total Routes\": 18}, {\"Agency\": \"Baldwin Park Transit\", \"Median Percent of Route with Cell Coverage\": \"(90, 100]\", \"Total Routes\": 3}, {\"Agency\": \"Banning Pass Transit\", \"Median Percent of Route with Cell Coverage\": \"(90, 100]\", \"Total Routes\": 3}, {\"Agency\": \"Beach Cities Transit\", \"Median Percent of Route with Cell Coverage\": \"(90, 100]\", \"Total Routes\": 4}, {\"Agency\": \"Beaumont Pass Transit\", \"Median Percent of Route with Cell Coverage\": \"(90, 100]\", \"Total Routes\": 7}, {\"Agency\": \"Bell Gardens\", \"Median Percent of Route with Cell Coverage\": \"(90, 100]\", \"Total Routes\": 1}, {\"Agency\": \"Bellflower Bus\", \"Median Percent of Route with Cell Coverage\": \"(90, 100]\", \"Total Routes\": 2}, {\"Agency\": \"Big Blue Bus\", \"Median Percent of Route with Cell Coverage\": \"(90, 100]\", \"Total Routes\": 18}, {\"Agency\": \"Blue Lake Rancheria\", \"Median Percent of Route with Cell Coverage\": \"(70, 80]\", \"Total Routes\": 1}, {\"Agency\": \"Blue Lake Rancheria\", \"Median Percent of Route with Cell Coverage\": \"(80, 90]\", \"Total Routes\": 1}, {\"Agency\": \"Blue Lake Rancheria\", \"Median Percent of Route with Cell Coverage\": \"(90, 100]\", \"Total Routes\": 11}, {\"Agency\": \"Burbank Bus\", \"Median Percent of Route with Cell Coverage\": \"(90, 100]\", \"Total Routes\": 3}, {\"Agency\": \"Burney Express\", \"Median Percent of Route with Cell Coverage\": \"(70, 80]\", \"Total Routes\": 1}, {\"Agency\": \"Burney Express\", \"Median Percent of Route with Cell Coverage\": \"(90, 100]\", \"Total Routes\": 11}, {\"Agency\": \"Calabasas Transit System\", \"Median Percent of Route with Cell Coverage\": \"(90, 100]\", \"Total Routes\": 5}, {\"Agency\": \"Calaveras Transit\", \"Median Percent of Route with Cell Coverage\": \"(80, 90]\", \"Total Routes\": 1}, {\"Agency\": \"Calaveras Transit\", \"Median Percent of Route with Cell Coverage\": \"(90, 100]\", \"Total Routes\": 1}, {\"Agency\": \"Capitol Corridor\", \"Median Percent of Route with Cell Coverage\": \"(50, 60]\", \"Total Routes\": 1}, {\"Agency\": \"Capitol Corridor\", \"Median Percent of Route with Cell Coverage\": \"(90, 100]\", \"Total Routes\": 2}, {\"Agency\": \"City of Lompoc Transit\", \"Median Percent of Route with Cell Coverage\": \"(90, 100]\", \"Total Routes\": 5}, {\"Agency\": \"City of Sierra Madre\", \"Median Percent of Route with Cell Coverage\": \"(90, 100]\", \"Total Routes\": 1}, {\"Agency\": \"City of South Gate\", \"Median Percent of Route with Cell Coverage\": \"(90, 100]\", \"Total Routes\": 2}, {\"Agency\": \"City of West Hollywood\", \"Median Percent of Route with Cell Coverage\": \"(90, 100]\", \"Total Routes\": 3}, {\"Agency\": \"City of la-Puente\", \"Median Percent of Route with Cell Coverage\": \"(90, 100]\", \"Total Routes\": 2}, {\"Agency\": \"Clean Air Express\", \"Median Percent of Route with Cell Coverage\": \"(90, 100]\", \"Total Routes\": 4}, {\"Agency\": \"Cloverdale Transit\", \"Median Percent of Route with Cell Coverage\": \"(70, 80]\", \"Total Routes\": 1}, {\"Agency\": \"Cloverdale Transit\", \"Median Percent of Route with Cell Coverage\": \"(90, 100]\", \"Total Routes\": 22}, {\"Agency\": \"Clovis Transit System\", \"Median Percent of Route with Cell Coverage\": \"(90, 100]\", \"Total Routes\": 3}, {\"Agency\": \"Commerce Municipal Bus Lines\", \"Median Percent of Route with Cell Coverage\": \"(90, 100]\", \"Total Routes\": 5}, {\"Agency\": \"Commute.org Shuttles\", \"Median Percent of Route with Cell Coverage\": \"(80, 90]\", \"Total Routes\": 2}, {\"Agency\": \"Commute.org Shuttles\", \"Median Percent of Route with Cell Coverage\": \"(90, 100]\", \"Total Routes\": 42}, {\"Agency\": \"Compton Renaissance Transit Service\", \"Median Percent of Route with Cell Coverage\": \"(90, 100]\", \"Total Routes\": 5}, {\"Agency\": \"Corona Cruiser\", \"Median Percent of Route with Cell Coverage\": \"(90, 100]\", \"Total Routes\": 2}, {\"Agency\": \"County Connection\", \"Median Percent of Route with Cell Coverage\": \"(90, 100]\", \"Total Routes\": 38}, {\"Agency\": \"County Express\", \"Median Percent of Route with Cell Coverage\": \"(90, 100]\", \"Total Routes\": 2}, {\"Agency\": \"Cudahy Area Rapid Transit\", \"Median Percent of Route with Cell Coverage\": \"(90, 100]\", \"Total Routes\": 1}, {\"Agency\": \"Culver CityBus\", \"Median Percent of Route with Cell Coverage\": \"(90, 100]\", \"Total Routes\": 11}, {\"Agency\": \"Desert Roadrunner\", \"Median Percent of Route with Cell Coverage\": \"(90, 100]\", \"Total Routes\": 5}, {\"Agency\": \"DowneyLINK\", \"Median Percent of Route with Cell Coverage\": \"(90, 100]\", \"Total Routes\": 6}, {\"Agency\": \"Dumbarton Express\", \"Median Percent of Route with Cell Coverage\": \"(90, 100]\", \"Total Routes\": 2}, {\"Agency\": \"East Los Angeles Shuttle\", \"Median Percent of Route with Cell Coverage\": \"(80, 90]\", \"Total Routes\": 1}, {\"Agency\": \"East Los Angeles Shuttle\", \"Median Percent of Route with Cell Coverage\": \"(90, 100]\", \"Total Routes\": 17}, {\"Agency\": \"East Valinda Shuttle\", \"Median Percent of Route with Cell Coverage\": \"(80, 90]\", \"Total Routes\": 1}, {\"Agency\": \"East Valinda Shuttle\", \"Median Percent of Route with Cell Coverage\": \"(90, 100]\", \"Total Routes\": 17}, {\"Agency\": \"Eastern Sierra Transit Authority\", \"Median Percent of Route with Cell Coverage\": \"(70, 80]\", \"Total Routes\": 2}, {\"Agency\": \"Eastern Sierra Transit Authority\", \"Median Percent of Route with Cell Coverage\": \"(80, 90]\", \"Total Routes\": 2}, {\"Agency\": \"Eastern Sierra Transit Authority\", \"Median Percent of Route with Cell Coverage\": \"(90, 100]\", \"Total Routes\": 6}, {\"Agency\": \"El Dorado Transit\", \"Median Percent of Route with Cell Coverage\": \"(90, 100]\", \"Total Routes\": 7}, {\"Agency\": \"El Monte Transportation Division\", \"Median Percent of Route with Cell Coverage\": \"(90, 100]\", \"Total Routes\": 7}, {\"Agency\": \"El Segundo\", \"Median Percent of Route with Cell Coverage\": \"(90, 100]\", \"Total Routes\": 1}, {\"Agency\": \"Elk Grove Transit\", \"Median Percent of Route with Cell Coverage\": \"(90, 100]\", \"Total Routes\": 17}, {\"Agency\": \"Emery Go-Round\", \"Median Percent of Route with Cell Coverage\": \"(90, 100]\", \"Total Routes\": 6}, {\"Agency\": \"Eureka Transit Service\", \"Median Percent of Route with Cell Coverage\": \"(70, 80]\", \"Total Routes\": 1}, {\"Agency\": \"Eureka Transit Service\", \"Median Percent of Route with Cell Coverage\": \"(80, 90]\", \"Total Routes\": 1}, {\"Agency\": \"Eureka Transit Service\", \"Median Percent of Route with Cell Coverage\": \"(90, 100]\", \"Total Routes\": 11}, {\"Agency\": \"Fairfield and Suisun Transit\", \"Median Percent of Route with Cell Coverage\": \"(90, 100]\", \"Total Routes\": 10}, {\"Agency\": \"Foothill Transit\", \"Median Percent of Route with Cell Coverage\": \"(90, 100]\", \"Total Routes\": 37}, {\"Agency\": \"Fresno Area Express\", \"Median Percent of Route with Cell Coverage\": \"(90, 100]\", \"Total Routes\": 16}, {\"Agency\": \"Fresno County Rural Transit Agency\", \"Median Percent of Route with Cell Coverage\": \"(90, 100]\", \"Total Routes\": 7}, {\"Agency\": \"GET Bus\", \"Median Percent of Route with Cell Coverage\": \"(90, 100]\", \"Total Routes\": 16}, {\"Agency\": \"Glendale Beeline\", \"Median Percent of Route with Cell Coverage\": \"(90, 100]\", \"Total Routes\": 10}, {\"Agency\": \"Glendora Transportation Division\", \"Median Percent of Route with Cell Coverage\": \"(90, 100]\", \"Total Routes\": 6}, {\"Agency\": \"Glenn County Transit\", \"Median Percent of Route with Cell Coverage\": \"(90, 100]\", \"Total Routes\": 1}, {\"Agency\": \"Go West Shuttle\", \"Median Percent of Route with Cell Coverage\": \"(90, 100]\", \"Total Routes\": 3}, {\"Agency\": \"Gold Coast Transit\", \"Median Percent of Route with Cell Coverage\": \"(90, 100]\", \"Total Routes\": 10}, {\"Agency\": \"Gold Country Stage\", \"Median Percent of Route with Cell Coverage\": \"(60, 70]\", \"Total Routes\": 1}, {\"Agency\": \"Gold Country Stage\", \"Median Percent of Route with Cell Coverage\": \"(90, 100]\", \"Total Routes\": 6}, {\"Agency\": \"Golden Gate Bridge Highway and Transportation District\", \"Median Percent of Route with Cell Coverage\": \"(60, 70]\", \"Total Routes\": 1}, {\"Agency\": \"Golden Gate Bridge Highway and Transportation District\", \"Median Percent of Route with Cell Coverage\": \"(70, 80]\", \"Total Routes\": 3}, {\"Agency\": \"Golden Gate Bridge Highway and Transportation District\", \"Median Percent of Route with Cell Coverage\": \"(90, 100]\", \"Total Routes\": 14}, {\"Agency\": \"Grapeline\", \"Median Percent of Route with Cell Coverage\": \"(90, 100]\", \"Total Routes\": 11}, {\"Agency\": \"Humboldt Transit Authority\", \"Median Percent of Route with Cell Coverage\": \"(70, 80]\", \"Total Routes\": 1}, {\"Agency\": \"Humboldt Transit Authority\", \"Median Percent of Route with Cell Coverage\": \"(80, 90]\", \"Total Routes\": 1}, {\"Agency\": \"Humboldt Transit Authority\", \"Median Percent of Route with Cell Coverage\": \"(90, 100]\", \"Total Routes\": 11}, {\"Agency\": \"Huntington Park Express\", \"Median Percent of Route with Cell Coverage\": \"(90, 100]\", \"Total Routes\": 1}, {\"Agency\": \"Irvine Shuttle\", \"Median Percent of Route with Cell Coverage\": \"(90, 100]\", \"Total Routes\": 53}, {\"Agency\": \"Kern Transit\", \"Median Percent of Route with Cell Coverage\": \"(70, 80]\", \"Total Routes\": 2}, {\"Agency\": \"Kern Transit\", \"Median Percent of Route with Cell Coverage\": \"(90, 100]\", \"Total Routes\": 10}, {\"Agency\": \"Kings Area Rural Transit\", \"Median Percent of Route with Cell Coverage\": \"(90, 100]\", \"Total Routes\": 13}, {\"Agency\": \"LAX FlyAway\", \"Median Percent of Route with Cell Coverage\": \"(90, 100]\", \"Total Routes\": 6}, {\"Agency\": \"La Campana\", \"Median Percent of Route with Cell Coverage\": \"(90, 100]\", \"Total Routes\": 1}, {\"Agency\": \"Laguna Beach Municipal Transit\", \"Median Percent of Route with Cell Coverage\": \"(90, 100]\", \"Total Routes\": 1}, {\"Agency\": \"Lake Transit\", \"Median Percent of Route with Cell Coverage\": \"(80, 90]\", \"Total Routes\": 2}, {\"Agency\": \"Lake Transit\", \"Median Percent of Route with Cell Coverage\": \"(90, 100]\", \"Total Routes\": 9}, {\"Agency\": \"Lassen Transit Service Agency\", \"Median Percent of Route with Cell Coverage\": \"(90, 100]\", \"Total Routes\": 3}, {\"Agency\": \"Long Beach Transit\", \"Median Percent of Route with Cell Coverage\": \"(90, 100]\", \"Total Routes\": 37}, {\"Agency\": \"Los Angeles Department of Transportation\", \"Median Percent of Route with Cell Coverage\": \"(60, 70]\", \"Total Routes\": 1}, {\"Agency\": \"Los Angeles Department of Transportation\", \"Median Percent of Route with Cell Coverage\": \"(90, 100]\", \"Total Routes\": 60}, {\"Agency\": \"MUNI\", \"Median Percent of Route with Cell Coverage\": \"(60, 70]\", \"Total Routes\": 2}, {\"Agency\": \"MUNI\", \"Median Percent of Route with Cell Coverage\": \"(90, 100]\", \"Total Routes\": 110}, {\"Agency\": \"MVGO\", \"Median Percent of Route with Cell Coverage\": \"(90, 100]\", \"Total Routes\": 11}, {\"Agency\": \"Madera Area Express\", \"Median Percent of Route with Cell Coverage\": \"(90, 100]\", \"Total Routes\": 3}, {\"Agency\": \"Madera County Connection\", \"Median Percent of Route with Cell Coverage\": \"(90, 100]\", \"Total Routes\": 4}, {\"Agency\": \"Marguerite Shuttle\", \"Median Percent of Route with Cell Coverage\": \"(90, 100]\", \"Total Routes\": 10}, {\"Agency\": \"Marin Transit\", \"Median Percent of Route with Cell Coverage\": \"(90, 100]\", \"Total Routes\": 44}, {\"Agency\": \"Mendocino Transit Authority\", \"Median Percent of Route with Cell Coverage\": \"(40, 50]\", \"Total Routes\": 1}, {\"Agency\": \"Mendocino Transit Authority\", \"Median Percent of Route with Cell Coverage\": \"(70, 80]\", \"Total Routes\": 1}, {\"Agency\": \"Mendocino Transit Authority\", \"Median Percent of Route with Cell Coverage\": \"(80, 90]\", \"Total Routes\": 1}, {\"Agency\": \"Mendocino Transit Authority\", \"Median Percent of Route with Cell Coverage\": \"(90, 100]\", \"Total Routes\": 8}, {\"Agency\": \"Merced The Bus\", \"Median Percent of Route with Cell Coverage\": \"(90, 100]\", \"Total Routes\": 29}, {\"Agency\": \"Metro\", \"Median Percent of Route with Cell Coverage\": \"(90, 100]\", \"Total Routes\": 110}, {\"Agency\": \"Mission Bay TMA\", \"Median Percent of Route with Cell Coverage\": \"(90, 100]\", \"Total Routes\": 4}, {\"Agency\": \"Montebello Bus Lines\", \"Median Percent of Route with Cell Coverage\": \"(90, 100]\", \"Total Routes\": 8}, {\"Agency\": \"Monterey-Salinas Transit\", \"Median Percent of Route with Cell Coverage\": \"(90, 100]\", \"Total Routes\": 25}, {\"Agency\": \"Moorpark City Transit\", \"Median Percent of Route with Cell Coverage\": \"(90, 100]\", \"Total Routes\": 1}, {\"Agency\": \"Morongo Basin Transit Authority\", \"Median Percent of Route with Cell Coverage\": \"(90, 100]\", \"Total Routes\": 7}, {\"Agency\": \"Mountain Transit\", \"Median Percent of Route with Cell Coverage\": \"(90, 100]\", \"Total Routes\": 4}, {\"Agency\": \"Needles Area Transit\", \"Median Percent of Route with Cell Coverage\": \"(90, 100]\", \"Total Routes\": 1}, {\"Agency\": \"North County Transit District\", \"Median Percent of Route with Cell Coverage\": \"(90, 100]\", \"Total Routes\": 42}, {\"Agency\": \"Norwalk Transit System\", \"Median Percent of Route with Cell Coverage\": \"(90, 100]\", \"Total Routes\": 6}, {\"Agency\": \"Ojai Trolley\", \"Median Percent of Route with Cell Coverage\": \"(90, 100]\", \"Total Routes\": 43}, {\"Agency\": \"OmniTrans\", \"Median Percent of Route with Cell Coverage\": \"(90, 100]\", \"Total Routes\": 25}, {\"Agency\": \"Orange County Transportation Authority\", \"Median Percent of Route with Cell Coverage\": \"(90, 100]\", \"Total Routes\": 53}, {\"Agency\": \"Palos Verdes Peninsula Transit Authority\", \"Median Percent of Route with Cell Coverage\": \"(90, 100]\", \"Total Routes\": 10}, {\"Agency\": \"Pasadena Transit\", \"Median Percent of Route with Cell Coverage\": \"(90, 100]\", \"Total Routes\": 9}, {\"Agency\": \"Petaluma Transit\", \"Median Percent of Route with Cell Coverage\": \"(90, 100]\", \"Total Routes\": 12}, {\"Agency\": \"Placer County Transit\", \"Median Percent of Route with Cell Coverage\": \"(90, 100]\", \"Total Routes\": 6}, {\"Agency\": \"PresidiGo\", \"Median Percent of Route with Cell Coverage\": \"(90, 100]\", \"Total Routes\": 2}, {\"Agency\": \"Redding Area Bus Authority\", \"Median Percent of Route with Cell Coverage\": \"(70, 80]\", \"Total Routes\": 1}, {\"Agency\": \"Redding Area Bus Authority\", \"Median Percent of Route with Cell Coverage\": \"(90, 100]\", \"Total Routes\": 11}, {\"Agency\": \"Redwood Coast Transit\", \"Median Percent of Route with Cell Coverage\": \"(50, 60]\", \"Total Routes\": 1}, {\"Agency\": \"Redwood Coast Transit\", \"Median Percent of Route with Cell Coverage\": \"(60, 70]\", \"Total Routes\": 1}, {\"Agency\": \"Redwood Coast Transit\", \"Median Percent of Route with Cell Coverage\": \"(90, 100]\", \"Total Routes\": 6}, {\"Agency\": \"Rio Vista Delta Breeze\", \"Median Percent of Route with Cell Coverage\": \"(90, 100]\", \"Total Routes\": 2}, {\"Agency\": \"Riverside Transit Agency\", \"Median Percent of Route with Cell Coverage\": \"(90, 100]\", \"Total Routes\": 34}, {\"Agency\": \"Rosemead Explorer\", \"Median Percent of Route with Cell Coverage\": \"(90, 100]\", \"Total Routes\": 2}, {\"Agency\": \"Roseville Transit\", \"Median Percent of Route with Cell Coverage\": \"(90, 100]\", \"Total Routes\": 21}, {\"Agency\": \"SLO Transit\", \"Median Percent of Route with Cell Coverage\": \"(90, 100]\", \"Total Routes\": 7}, {\"Agency\": \"Sacramento Regional Transit District\", \"Median Percent of Route with Cell Coverage\": \"(90, 100]\", \"Total Routes\": 57}, {\"Agency\": \"Sage Stage\", \"Median Percent of Route with Cell Coverage\": \"(70, 80]\", \"Total Routes\": 1}, {\"Agency\": \"SamTrans\", \"Median Percent of Route with Cell Coverage\": \"(90, 100]\", \"Total Routes\": 91}, {\"Agency\": \"San Diego Metropolitan Transit System\", \"Median Percent of Route with Cell Coverage\": \"(70, 80]\", \"Total Routes\": 1}, {\"Agency\": \"San Diego Metropolitan Transit System\", \"Median Percent of Route with Cell Coverage\": \"(90, 100]\", \"Total Routes\": 93}, {\"Agency\": \"San Francisco International Airport\", \"Median Percent of Route with Cell Coverage\": \"(90, 100]\", \"Total Routes\": 1}, {\"Agency\": \"San Joaquin Regional Transit District\", \"Median Percent of Route with Cell Coverage\": \"(90, 100]\", \"Total Routes\": 38}, {\"Agency\": \"San Luis Obispo Regional Transit Authority\", \"Median Percent of Route with Cell Coverage\": \"(90, 100]\", \"Total Routes\": 16}, {\"Agency\": \"Santa Barbara Metropolitan Transit District\", \"Median Percent of Route with Cell Coverage\": \"(90, 100]\", \"Total Routes\": 34}, {\"Agency\": \"Santa Clara Valley Transportation Authority\", \"Median Percent of Route with Cell Coverage\": \"(90, 100]\", \"Total Routes\": 79}, {\"Agency\": \"Santa Clarita Transit\", \"Median Percent of Route with Cell Coverage\": \"(90, 100]\", \"Total Routes\": 40}, {\"Agency\": \"Santa Cruz Metropolitan Transit District\", \"Median Percent of Route with Cell Coverage\": \"(60, 70]\", \"Total Routes\": 2}, {\"Agency\": \"Santa Cruz Metropolitan Transit District\", \"Median Percent of Route with Cell Coverage\": \"(80, 90]\", \"Total Routes\": 1}, {\"Agency\": \"Santa Cruz Metropolitan Transit District\", \"Median Percent of Route with Cell Coverage\": \"(90, 100]\", \"Total Routes\": 20}, {\"Agency\": \"Santa Maria Area Transit\", \"Median Percent of Route with Cell Coverage\": \"(90, 100]\", \"Total Routes\": 11}, {\"Agency\": \"Santa Rosa CityBus\", \"Median Percent of Route with Cell Coverage\": \"(90, 100]\", \"Total Routes\": 13}, {\"Agency\": \"Santa Ynez Valley Transit\", \"Median Percent of Route with Cell Coverage\": \"(90, 100]\", \"Total Routes\": 2}, {\"Agency\": \"Simi Valley Transit\", \"Median Percent of Route with Cell Coverage\": \"(90, 100]\", \"Total Routes\": 3}, {\"Agency\": \"Siskiyou Transit and General Express\", \"Median Percent of Route with Cell Coverage\": \"(80, 90]\", \"Total Routes\": 1}, {\"Agency\": \"Siskiyou Transit and General Express\", \"Median Percent of Route with Cell Coverage\": \"(90, 100]\", \"Total Routes\": 4}, {\"Agency\": \"SolTrans\", \"Median Percent of Route with Cell Coverage\": \"(80, 90]\", \"Total Routes\": 1}, {\"Agency\": \"SolTrans\", \"Median Percent of Route with Cell Coverage\": \"(90, 100]\", \"Total Routes\": 16}, {\"Agency\": \"SolanoExpress\", \"Median Percent of Route with Cell Coverage\": \"(80, 90]\", \"Total Routes\": 1}, {\"Agency\": \"SolanoExpress\", \"Median Percent of Route with Cell Coverage\": \"(90, 100]\", \"Total Routes\": 16}, {\"Agency\": \"Sonoma County Transit\", \"Median Percent of Route with Cell Coverage\": \"(70, 80]\", \"Total Routes\": 1}, {\"Agency\": \"Sonoma County Transit\", \"Median Percent of Route with Cell Coverage\": \"(90, 100]\", \"Total Routes\": 41}, {\"Agency\": \"South County Transit Link\", \"Median Percent of Route with Cell Coverage\": \"(90, 100]\", \"Total Routes\": 3}, {\"Agency\": \"South San Francisco Shuttle\", \"Median Percent of Route with Cell Coverage\": \"(90, 100]\", \"Total Routes\": 2}, {\"Agency\": \"Spirit Bus\", \"Median Percent of Route with Cell Coverage\": \"(90, 100]\", \"Total Routes\": 6}, {\"Agency\": \"Stanislaus Regional Transit Authority\", \"Median Percent of Route with Cell Coverage\": \"(90, 100]\", \"Total Routes\": 29}, {\"Agency\": \"Sunshine Bus(South Whittier)\", \"Median Percent of Route with Cell Coverage\": \"(80, 90]\", \"Total Routes\": 1}, {\"Agency\": \"Sunshine Bus(South Whittier)\", \"Median Percent of Route with Cell Coverage\": \"(90, 100]\", \"Total Routes\": 17}, {\"Agency\": \"Susanville Indian Rancheria Public Transportation Program\", \"Median Percent of Route with Cell Coverage\": \"(90, 100]\", \"Total Routes\": 7}, {\"Agency\": \"TRACER\", \"Median Percent of Route with Cell Coverage\": \"(90, 100]\", \"Total Routes\": 4}, {\"Agency\": \"Tahoe Transportation\", \"Median Percent of Route with Cell Coverage\": \"(70, 80]\", \"Total Routes\": 1}, {\"Agency\": \"Tahoe Transportation\", \"Median Percent of Route with Cell Coverage\": \"(80, 90]\", \"Total Routes\": 2}, {\"Agency\": \"Tahoe Transportation\", \"Median Percent of Route with Cell Coverage\": \"(90, 100]\", \"Total Routes\": 7}, {\"Agency\": \"Tahoe Truckee Area Regional Transportation\", \"Median Percent of Route with Cell Coverage\": \"(70, 80]\", \"Total Routes\": 1}, {\"Agency\": \"Tahoe Truckee Area Regional Transportation\", \"Median Percent of Route with Cell Coverage\": \"(80, 90]\", \"Total Routes\": 2}, {\"Agency\": \"Tahoe Truckee Area Regional Transportation\", \"Median Percent of Route with Cell Coverage\": \"(90, 100]\", \"Total Routes\": 7}, {\"Agency\": \"Tehama Rural Area eXpress\", \"Median Percent of Route with Cell Coverage\": \"(90, 100]\", \"Total Routes\": 7}, {\"Agency\": \"Thousand Oaks Transit\", \"Median Percent of Route with Cell Coverage\": \"(90, 100]\", \"Total Routes\": 5}, {\"Agency\": \"Torrance Transit System\", \"Median Percent of Route with Cell Coverage\": \"(90, 100]\", \"Total Routes\": 11}, {\"Agency\": \"Tri Delta Transit\", \"Median Percent of Route with Cell Coverage\": \"(90, 100]\", \"Total Routes\": 15}, {\"Agency\": \"Tri-Valley Wheels\", \"Median Percent of Route with Cell Coverage\": \"(90, 100]\", \"Total Routes\": 18}, {\"Agency\": \"Trinity Transit\", \"Median Percent of Route with Cell Coverage\": \"(30, 40]\", \"Total Routes\": 2}, {\"Agency\": \"Trinity Transit\", \"Median Percent of Route with Cell Coverage\": \"(40, 50]\", \"Total Routes\": 1}, {\"Agency\": \"Trinity Transit\", \"Median Percent of Route with Cell Coverage\": \"(60, 70]\", \"Total Routes\": 1}, {\"Agency\": \"Trinity Transit\", \"Median Percent of Route with Cell Coverage\": \"(90, 100]\", \"Total Routes\": 1}, {\"Agency\": \"Tulare County Area Transit\", \"Median Percent of Route with Cell Coverage\": \"(50, 60]\", \"Total Routes\": 1}, {\"Agency\": \"Tulare County Area Transit\", \"Median Percent of Route with Cell Coverage\": \"(90, 100]\", \"Total Routes\": 8}, {\"Agency\": \"Tulare County Regional Transit Agency\", \"Median Percent of Route with Cell Coverage\": \"(50, 60]\", \"Total Routes\": 1}, {\"Agency\": \"Tulare County Regional Transit Agency\", \"Median Percent of Route with Cell Coverage\": \"(90, 100]\", \"Total Routes\": 23}, {\"Agency\": \"Tulare InterModal Express\", \"Median Percent of Route with Cell Coverage\": \"(90, 100]\", \"Total Routes\": 6}, {\"Agency\": \"Tuolumne County Transit Agency\", \"Median Percent of Route with Cell Coverage\": \"(90, 100]\", \"Total Routes\": 3}, {\"Agency\": \"Turlock Transit\", \"Median Percent of Route with Cell Coverage\": \"(90, 100]\", \"Total Routes\": 7}, {\"Agency\": \"Union City Transit\", \"Median Percent of Route with Cell Coverage\": \"(90, 100]\", \"Total Routes\": 8}, {\"Agency\": \"Unitrans\", \"Median Percent of Route with Cell Coverage\": \"(90, 100]\", \"Total Routes\": 8}, {\"Agency\": \"Vacaville City Coach\", \"Median Percent of Route with Cell Coverage\": \"(90, 100]\", \"Total Routes\": 8}, {\"Agency\": \"Ventura County Transportation Commission\", \"Median Percent of Route with Cell Coverage\": \"(90, 100]\", \"Total Routes\": 26}, {\"Agency\": \"Victor Valley Transit\", \"Median Percent of Route with Cell Coverage\": \"(90, 100]\", \"Total Routes\": 20}, {\"Agency\": \"Vine Transit\", \"Median Percent of Route with Cell Coverage\": \"(90, 100]\", \"Total Routes\": 8}, {\"Agency\": \"Visalia Transit\", \"Median Percent of Route with Cell Coverage\": \"(90, 100]\", \"Total Routes\": 13}, {\"Agency\": \"WestCAT\", \"Median Percent of Route with Cell Coverage\": \"(80, 90]\", \"Total Routes\": 2}, {\"Agency\": \"WestCAT\", \"Median Percent of Route with Cell Coverage\": \"(90, 100]\", \"Total Routes\": 18}, {\"Agency\": \"Yolobus\", \"Median Percent of Route with Cell Coverage\": \"(90, 100]\", \"Total Routes\": 18}, {\"Agency\": \"Yosemite Area Regional Transportation System\", \"Median Percent of Route with Cell Coverage\": \"(40, 50]\", \"Total Routes\": 1}, {\"Agency\": \"Yosemite Area Regional Transportation System\", \"Median Percent of Route with Cell Coverage\": \"(50, 60]\", \"Total Routes\": 2}, {\"Agency\": \"Yosemite Area Regional Transportation System\", \"Median Percent of Route with Cell Coverage\": \"(90, 100]\", \"Total Routes\": 1}, {\"Agency\": \"Yuba-Sutter Transit Authority\", \"Median Percent of Route with Cell Coverage\": \"(80, 90]\", \"Total Routes\": 1}, {\"Agency\": \"Yuba-Sutter Transit Authority\", \"Median Percent of Route with Cell Coverage\": \"(90, 100]\", \"Total Routes\": 13}, {\"Agency\": \"Yuma County Area Transit\", \"Median Percent of Route with Cell Coverage\": \"(90, 100]\", \"Total Routes\": 2}, {\"Agency\": \"eTrans\", \"Median Percent of Route with Cell Coverage\": \"(90, 100]\", \"Total Routes\": 1}, {\"Agency\": \"the Link Florence-Firestone/Walnut Park\", \"Median Percent of Route with Cell Coverage\": \"(80, 90]\", \"Total Routes\": 1}, {\"Agency\": \"the Link Florence-Firestone/Walnut Park\", \"Median Percent of Route with Cell Coverage\": \"(90, 100]\", \"Total Routes\": 17}, {\"Agency\": \"the Link King Medical Center\", \"Median Percent of Route with Cell Coverage\": \"(80, 90]\", \"Total Routes\": 1}, {\"Agency\": \"the Link King Medical Center\", \"Median Percent of Route with Cell Coverage\": \"(90, 100]\", \"Total Routes\": 17}, {\"Agency\": \"the Link Lennox\", \"Median Percent of Route with Cell Coverage\": \"(80, 90]\", \"Total Routes\": 1}, {\"Agency\": \"the Link Lennox\", \"Median Percent of Route with Cell Coverage\": \"(90, 100]\", \"Total Routes\": 17}, {\"Agency\": \"the Link Willowbrook\", \"Median Percent of Route with Cell Coverage\": \"(80, 90]\", \"Total Routes\": 1}, {\"Agency\": \"the Link Willowbrook\", \"Median Percent of Route with Cell Coverage\": \"(90, 100]\", \"Total Routes\": 17}, {\"Agency\": \"the Link-Athens\", \"Median Percent of Route with Cell Coverage\": \"(80, 90]\", \"Total Routes\": 1}, {\"Agency\": \"the Link-Athens\", \"Median Percent of Route with Cell Coverage\": \"(90, 100]\", \"Total Routes\": 17}]}}, {\"mode\": \"vega-lite\"});\n",
       "</script>"
      ],
      "text/plain": [
       "alt.Chart(...)"
      ]
     },
     "execution_count": 18,
     "metadata": {},
     "output_type": "execute_result"
    }
   ],
   "source": [
    "A3_analysis.chart_with_dropdown(\n",
    "    operator_summary,\n",
    "    operator_summary[\"Agency\"].sort_values().unique().tolist(),\n",
    "    \"Agency\",\n",
    "    \"Median Percent of Route with Cell Coverage\",\n",
    "    \"Total Routes\",\n",
    "    \"Median Percent of Route with Cell Coverage\",\n",
    "    [\"Agency\", \"Median Percent of Route with Cell Coverage\", \"Total Routes\"],\n",
    "    \"Operator Level: Total Routes by Median % Cellular Coverage (use dropdown menu below to filter)\",\n",
    ")"
   ]
  },
  {
   "cell_type": "code",
   "execution_count": 19,
   "id": "34697fa2-fd9d-4ca9-a861-d9f7a345abb2",
   "metadata": {},
   "outputs": [
    {
     "data": {
      "text/html": [
       "\n",
       "<div id=\"altair-viz-b2430415db3d4f69b1131f652e7ce049\"></div>\n",
       "<script type=\"text/javascript\">\n",
       "  var VEGA_DEBUG = (typeof VEGA_DEBUG == \"undefined\") ? {} : VEGA_DEBUG;\n",
       "  (function(spec, embedOpt){\n",
       "    let outputDiv = document.currentScript.previousElementSibling;\n",
       "    if (outputDiv.id !== \"altair-viz-b2430415db3d4f69b1131f652e7ce049\") {\n",
       "      outputDiv = document.getElementById(\"altair-viz-b2430415db3d4f69b1131f652e7ce049\");\n",
       "    }\n",
       "    const paths = {\n",
       "      \"vega\": \"https://cdn.jsdelivr.net/npm//vega@5?noext\",\n",
       "      \"vega-lib\": \"https://cdn.jsdelivr.net/npm//vega-lib?noext\",\n",
       "      \"vega-lite\": \"https://cdn.jsdelivr.net/npm//vega-lite@4.17.0?noext\",\n",
       "      \"vega-embed\": \"https://cdn.jsdelivr.net/npm//vega-embed@6?noext\",\n",
       "    };\n",
       "\n",
       "    function maybeLoadScript(lib, version) {\n",
       "      var key = `${lib.replace(\"-\", \"\")}_version`;\n",
       "      return (VEGA_DEBUG[key] == version) ?\n",
       "        Promise.resolve(paths[lib]) :\n",
       "        new Promise(function(resolve, reject) {\n",
       "          var s = document.createElement('script');\n",
       "          document.getElementsByTagName(\"head\")[0].appendChild(s);\n",
       "          s.async = true;\n",
       "          s.onload = () => {\n",
       "            VEGA_DEBUG[key] = version;\n",
       "            return resolve(paths[lib]);\n",
       "          };\n",
       "          s.onerror = () => reject(`Error loading script: ${paths[lib]}`);\n",
       "          s.src = paths[lib];\n",
       "        });\n",
       "    }\n",
       "\n",
       "    function showError(err) {\n",
       "      outputDiv.innerHTML = `<div class=\"error\" style=\"color:red;\">${err}</div>`;\n",
       "      throw err;\n",
       "    }\n",
       "\n",
       "    function displayChart(vegaEmbed) {\n",
       "      vegaEmbed(outputDiv, spec, embedOpt)\n",
       "        .catch(err => showError(`Javascript Error: ${err.message}<br>This usually means there's a typo in your chart specification. See the javascript console for the full traceback.`));\n",
       "    }\n",
       "\n",
       "    if(typeof define === \"function\" && define.amd) {\n",
       "      requirejs.config({paths});\n",
       "      require([\"vega-embed\"], displayChart, err => showError(`Error loading script: ${err.message}`));\n",
       "    } else {\n",
       "      maybeLoadScript(\"vega\", \"5\")\n",
       "        .then(() => maybeLoadScript(\"vega-lite\", \"4.17.0\"))\n",
       "        .then(() => maybeLoadScript(\"vega-embed\", \"6\"))\n",
       "        .catch(showError)\n",
       "        .then(() => displayChart(vegaEmbed));\n",
       "    }\n",
       "  })({\"config\": {\"view\": {\"continuousWidth\": 400, \"continuousHeight\": 300}}, \"data\": {\"name\": \"data-9244f660e08f60a19d459a6a5f77096b\"}, \"mark\": \"bar\", \"encoding\": {\"color\": {\"field\": \"District Simplified\", \"legend\": null, \"scale\": {\"range\": [\"#2EA8CE\", \"#EB9F3C\", \"#F4D837\", \"#51BF9D\", \"#8CBCCB\", \"#9487C0\"]}, \"type\": \"nominal\"}, \"tooltip\": [{\"field\": \"District\", \"type\": \"nominal\"}, {\"field\": \"Median Percent of Route with Cell Coverage\", \"type\": \"nominal\"}, {\"field\": \"Total Routes\", \"type\": \"quantitative\"}], \"x\": {\"field\": \"Total Routes\", \"type\": \"quantitative\"}, \"y\": {\"field\": \"District Simplified\", \"type\": \"nominal\"}}, \"height\": 250, \"selection\": {\"selector003\": {\"type\": \"single\", \"fields\": [\"Median Percent of Route with Cell Coverage\"], \"bind\": {\"input\": \"select\", \"options\": [\"(30, 40]\", \"(40, 50]\", \"(50, 60]\", \"(60, 70]\", \"(70, 80]\", \"(80, 90]\", \"(90, 100]\"], \"name\": \"Select \"}}}, \"title\": \"Total Routes by Median % Cellular Coverage\", \"transform\": [{\"filter\": {\"selection\": \"selector003\"}}], \"width\": 450, \"$schema\": \"https://vega.github.io/schema/vega-lite/v4.17.0.json\", \"datasets\": {\"data-9244f660e08f60a19d459a6a5f77096b\": [{\"District\": \"D-1\", \"Median Percent of Route with Cell Coverage\": \"(40, 50]\", \"Total Routes\": 1, \"number_of_District\": 1, \"District Simplified\": \"D-1\"}, {\"District\": \"D-1\", \"Median Percent of Route with Cell Coverage\": \"(50, 60]\", \"Total Routes\": 1, \"number_of_District\": 1, \"District Simplified\": \"D-1\"}, {\"District\": \"D-1\", \"Median Percent of Route with Cell Coverage\": \"(60, 70]\", \"Total Routes\": 1, \"number_of_District\": 1, \"District Simplified\": \"D-1\"}, {\"District\": \"D-1\", \"Median Percent of Route with Cell Coverage\": \"(70, 80]\", \"Total Routes\": 4, \"number_of_District\": 1, \"District Simplified\": \"D-1\"}, {\"District\": \"D-1\", \"Median Percent of Route with Cell Coverage\": \"(80, 90]\", \"Total Routes\": 5, \"number_of_District\": 1, \"District Simplified\": \"D-1\"}, {\"District\": \"D-1\", \"Median Percent of Route with Cell Coverage\": \"(90, 100]\", \"Total Routes\": 64, \"number_of_District\": 1, \"District Simplified\": \"D-1\"}, {\"District\": \"D-1, D-2\", \"Median Percent of Route with Cell Coverage\": \"(30, 40]\", \"Total Routes\": 1, \"number_of_District\": 2, \"District Simplified\": \"Various Districts\"}, {\"District\": \"D-1, D-4\", \"Median Percent of Route with Cell Coverage\": \"(70, 80]\", \"Total Routes\": 1, \"number_of_District\": 2, \"District Simplified\": \"Various Districts\"}, {\"District\": \"D-1, D-4\", \"Median Percent of Route with Cell Coverage\": \"(80, 90]\", \"Total Routes\": 2, \"number_of_District\": 2, \"District Simplified\": \"Various Districts\"}, {\"District\": \"D-1, D-4\", \"Median Percent of Route with Cell Coverage\": \"(90, 100]\", \"Total Routes\": 5, \"number_of_District\": 2, \"District Simplified\": \"Various Districts\"}, {\"District\": \"D-10\", \"Median Percent of Route with Cell Coverage\": \"(50, 60]\", \"Total Routes\": 2, \"number_of_District\": 1, \"District Simplified\": \"D-10\"}, {\"District\": \"D-10\", \"Median Percent of Route with Cell Coverage\": \"(80, 90]\", \"Total Routes\": 2, \"number_of_District\": 1, \"District Simplified\": \"D-10\"}, {\"District\": \"D-10\", \"Median Percent of Route with Cell Coverage\": \"(90, 100]\", \"Total Routes\": 125, \"number_of_District\": 1, \"District Simplified\": \"D-10\"}, {\"District\": \"D-11\", \"Median Percent of Route with Cell Coverage\": \"(70, 80]\", \"Total Routes\": 2, \"number_of_District\": 1, \"District Simplified\": \"D-11\"}, {\"District\": \"D-11\", \"Median Percent of Route with Cell Coverage\": \"(90, 100]\", \"Total Routes\": 230, \"number_of_District\": 1, \"District Simplified\": \"D-11\"}, {\"District\": \"D-12\", \"Median Percent of Route with Cell Coverage\": \"(90, 100]\", \"Total Routes\": 104, \"number_of_District\": 1, \"District Simplified\": \"D-12\"}, {\"District\": \"D-12, D-11\", \"Median Percent of Route with Cell Coverage\": \"(90, 100]\", \"Total Routes\": 2, \"number_of_District\": 2, \"District Simplified\": \"Various Districts\"}, {\"District\": \"D-12, D-7\", \"Median Percent of Route with Cell Coverage\": \"(90, 100]\", \"Total Routes\": 11, \"number_of_District\": 2, \"District Simplified\": \"Various Districts\"}, {\"District\": \"D-12, D-8\", \"Median Percent of Route with Cell Coverage\": \"(90, 100]\", \"Total Routes\": 1, \"number_of_District\": 2, \"District Simplified\": \"Various Districts\"}, {\"District\": \"D-2\", \"Median Percent of Route with Cell Coverage\": \"(30, 40]\", \"Total Routes\": 1, \"number_of_District\": 1, \"District Simplified\": \"D-2\"}, {\"District\": \"D-2\", \"Median Percent of Route with Cell Coverage\": \"(40, 50]\", \"Total Routes\": 1, \"number_of_District\": 1, \"District Simplified\": \"D-2\"}, {\"District\": \"D-2\", \"Median Percent of Route with Cell Coverage\": \"(60, 70]\", \"Total Routes\": 1, \"number_of_District\": 1, \"District Simplified\": \"D-2\"}, {\"District\": \"D-2\", \"Median Percent of Route with Cell Coverage\": \"(70, 80]\", \"Total Routes\": 3, \"number_of_District\": 1, \"District Simplified\": \"D-2\"}, {\"District\": \"D-2\", \"Median Percent of Route with Cell Coverage\": \"(80, 90]\", \"Total Routes\": 1, \"number_of_District\": 1, \"District Simplified\": \"D-2\"}, {\"District\": \"D-2\", \"Median Percent of Route with Cell Coverage\": \"(90, 100]\", \"Total Routes\": 44, \"number_of_District\": 1, \"District Simplified\": \"D-2\"}, {\"District\": \"D-3\", \"Median Percent of Route with Cell Coverage\": \"(60, 70]\", \"Total Routes\": 1, \"number_of_District\": 1, \"District Simplified\": \"D-3\"}, {\"District\": \"D-3\", \"Median Percent of Route with Cell Coverage\": \"(70, 80]\", \"Total Routes\": 2, \"number_of_District\": 1, \"District Simplified\": \"D-3\"}, {\"District\": \"D-3\", \"Median Percent of Route with Cell Coverage\": \"(80, 90]\", \"Total Routes\": 5, \"number_of_District\": 1, \"District Simplified\": \"D-3\"}, {\"District\": \"D-3\", \"Median Percent of Route with Cell Coverage\": \"(90, 100]\", \"Total Routes\": 190, \"number_of_District\": 1, \"District Simplified\": \"D-3\"}, {\"District\": \"D-3, D-10\", \"Median Percent of Route with Cell Coverage\": \"(90, 100]\", \"Total Routes\": 3, \"number_of_District\": 2, \"District Simplified\": \"Various Districts\"}, {\"District\": \"D-3, D-2\", \"Median Percent of Route with Cell Coverage\": \"(90, 100]\", \"Total Routes\": 2, \"number_of_District\": 2, \"District Simplified\": \"Various Districts\"}, {\"District\": \"D-3, D-4\", \"Median Percent of Route with Cell Coverage\": \"(90, 100]\", \"Total Routes\": 3, \"number_of_District\": 2, \"District Simplified\": \"Various Districts\"}, {\"District\": \"D-4\", \"Median Percent of Route with Cell Coverage\": \"(50, 60]\", \"Total Routes\": 1, \"number_of_District\": 1, \"District Simplified\": \"D-4\"}, {\"District\": \"D-4\", \"Median Percent of Route with Cell Coverage\": \"(60, 70]\", \"Total Routes\": 3, \"number_of_District\": 1, \"District Simplified\": \"D-4\"}, {\"District\": \"D-4\", \"Median Percent of Route with Cell Coverage\": \"(70, 80]\", \"Total Routes\": 16, \"number_of_District\": 1, \"District Simplified\": \"D-4\"}, {\"District\": \"D-4\", \"Median Percent of Route with Cell Coverage\": \"(80, 90]\", \"Total Routes\": 15, \"number_of_District\": 1, \"District Simplified\": \"D-4\"}, {\"District\": \"D-4\", \"Median Percent of Route with Cell Coverage\": \"(90, 100]\", \"Total Routes\": 775, \"number_of_District\": 1, \"District Simplified\": \"D-4\"}, {\"District\": \"D-4, D-10\", \"Median Percent of Route with Cell Coverage\": \"(90, 100]\", \"Total Routes\": 3, \"number_of_District\": 2, \"District Simplified\": \"Various Districts\"}, {\"District\": \"D-5\", \"Median Percent of Route with Cell Coverage\": \"(60, 70]\", \"Total Routes\": 2, \"number_of_District\": 1, \"District Simplified\": \"D-5\"}, {\"District\": \"D-5\", \"Median Percent of Route with Cell Coverage\": \"(80, 90]\", \"Total Routes\": 1, \"number_of_District\": 1, \"District Simplified\": \"D-5\"}, {\"District\": \"D-5\", \"Median Percent of Route with Cell Coverage\": \"(90, 100]\", \"Total Routes\": 140, \"number_of_District\": 1, \"District Simplified\": \"D-5\"}, {\"District\": \"D-5, D-4\", \"Median Percent of Route with Cell Coverage\": \"(90, 100]\", \"Total Routes\": 2, \"number_of_District\": 2, \"District Simplified\": \"Various Districts\"}, {\"District\": \"D-5, D-7\", \"Median Percent of Route with Cell Coverage\": \"(90, 100]\", \"Total Routes\": 32, \"number_of_District\": 2, \"District Simplified\": \"Various Districts\"}, {\"District\": \"D-6\", \"Median Percent of Route with Cell Coverage\": \"(50, 60]\", \"Total Routes\": 3, \"number_of_District\": 1, \"District Simplified\": \"D-6\"}, {\"District\": \"D-6\", \"Median Percent of Route with Cell Coverage\": \"(70, 80]\", \"Total Routes\": 1, \"number_of_District\": 1, \"District Simplified\": \"D-6\"}, {\"District\": \"D-6\", \"Median Percent of Route with Cell Coverage\": \"(90, 100]\", \"Total Routes\": 141, \"number_of_District\": 1, \"District Simplified\": \"D-6\"}, {\"District\": \"D-6, D-10\", \"Median Percent of Route with Cell Coverage\": \"(90, 100]\", \"Total Routes\": 1, \"number_of_District\": 2, \"District Simplified\": \"Various Districts\"}, {\"District\": \"D-7\", \"Median Percent of Route with Cell Coverage\": \"(60, 70]\", \"Total Routes\": 1, \"number_of_District\": 1, \"District Simplified\": \"D-7\"}, {\"District\": \"D-7\", \"Median Percent of Route with Cell Coverage\": \"(80, 90]\", \"Total Routes\": 9, \"number_of_District\": 1, \"District Simplified\": \"D-7\"}, {\"District\": \"D-7\", \"Median Percent of Route with Cell Coverage\": \"(90, 100]\", \"Total Routes\": 717, \"number_of_District\": 1, \"District Simplified\": \"D-7\"}, {\"District\": \"D-7, D-6\", \"Median Percent of Route with Cell Coverage\": \"(90, 100]\", \"Total Routes\": 1, \"number_of_District\": 2, \"District Simplified\": \"Various Districts\"}, {\"District\": \"D-8\", \"Median Percent of Route with Cell Coverage\": \"(90, 100]\", \"Total Routes\": 113, \"number_of_District\": 1, \"District Simplified\": \"D-8\"}, {\"District\": \"D-8, D-7\", \"Median Percent of Route with Cell Coverage\": \"(90, 100]\", \"Total Routes\": 4, \"number_of_District\": 2, \"District Simplified\": \"Various Districts\"}, {\"District\": \"D-9\", \"Median Percent of Route with Cell Coverage\": \"(70, 80]\", \"Total Routes\": 3, \"number_of_District\": 1, \"District Simplified\": \"D-9\"}, {\"District\": \"D-9\", \"Median Percent of Route with Cell Coverage\": \"(80, 90]\", \"Total Routes\": 2, \"number_of_District\": 1, \"District Simplified\": \"D-9\"}, {\"District\": \"D-9\", \"Median Percent of Route with Cell Coverage\": \"(90, 100]\", \"Total Routes\": 8, \"number_of_District\": 1, \"District Simplified\": \"D-9\"}, {\"District\": \"D-9, D-10\", \"Median Percent of Route with Cell Coverage\": \"(40, 50]\", \"Total Routes\": 1, \"number_of_District\": 2, \"District Simplified\": \"Various Districts\"}, {\"District\": \"D-9, D-10\", \"Median Percent of Route with Cell Coverage\": \"(90, 100]\", \"Total Routes\": 1, \"number_of_District\": 2, \"District Simplified\": \"Various Districts\"}, {\"District\": \"D-9, D-6\", \"Median Percent of Route with Cell Coverage\": \"(90, 100]\", \"Total Routes\": 1, \"number_of_District\": 2, \"District Simplified\": \"Various Districts\"}, {\"District\": \"D-9, D-7\", \"Median Percent of Route with Cell Coverage\": \"(90, 100]\", \"Total Routes\": 2, \"number_of_District\": 2, \"District Simplified\": \"Various Districts\"}]}}, {\"mode\": \"vega-lite\"});\n",
       "</script>"
      ],
      "text/plain": [
       "alt.Chart(...)"
      ]
     },
     "execution_count": 19,
     "metadata": {},
     "output_type": "execute_result"
    }
   ],
   "source": [
    "A3_analysis.chart_with_dropdown(\n",
    "    district_summary,\n",
    "    district_summary[\"Median Percent of Route with Cell Coverage\"]\n",
    "    .sort_values()\n",
    "    .unique()\n",
    "    .tolist(),\n",
    "    \"Median Percent of Route with Cell Coverage\",\n",
    "    \"Total Routes\",\n",
    "    \"District Simplified\",\n",
    "    \"District Simplified\",\n",
    "    [\"District\", \"Median Percent of Route with Cell Coverage\", \"Total Routes\"],\n",
    "    \"Total Routes by Median % Cellular Coverage\",\n",
    ")"
   ]
  },
  {
   "cell_type": "code",
   "execution_count": 20,
   "id": "8b08009c-e8f2-4261-9f90-26b1738e044b",
   "metadata": {},
   "outputs": [
    {
     "data": {
      "text/html": [
       "\n",
       "<div id=\"altair-viz-038347324c904710b82eda5ead898856\"></div>\n",
       "<script type=\"text/javascript\">\n",
       "  var VEGA_DEBUG = (typeof VEGA_DEBUG == \"undefined\") ? {} : VEGA_DEBUG;\n",
       "  (function(spec, embedOpt){\n",
       "    let outputDiv = document.currentScript.previousElementSibling;\n",
       "    if (outputDiv.id !== \"altair-viz-038347324c904710b82eda5ead898856\") {\n",
       "      outputDiv = document.getElementById(\"altair-viz-038347324c904710b82eda5ead898856\");\n",
       "    }\n",
       "    const paths = {\n",
       "      \"vega\": \"https://cdn.jsdelivr.net/npm//vega@5?noext\",\n",
       "      \"vega-lib\": \"https://cdn.jsdelivr.net/npm//vega-lib?noext\",\n",
       "      \"vega-lite\": \"https://cdn.jsdelivr.net/npm//vega-lite@4.17.0?noext\",\n",
       "      \"vega-embed\": \"https://cdn.jsdelivr.net/npm//vega-embed@6?noext\",\n",
       "    };\n",
       "\n",
       "    function maybeLoadScript(lib, version) {\n",
       "      var key = `${lib.replace(\"-\", \"\")}_version`;\n",
       "      return (VEGA_DEBUG[key] == version) ?\n",
       "        Promise.resolve(paths[lib]) :\n",
       "        new Promise(function(resolve, reject) {\n",
       "          var s = document.createElement('script');\n",
       "          document.getElementsByTagName(\"head\")[0].appendChild(s);\n",
       "          s.async = true;\n",
       "          s.onload = () => {\n",
       "            VEGA_DEBUG[key] = version;\n",
       "            return resolve(paths[lib]);\n",
       "          };\n",
       "          s.onerror = () => reject(`Error loading script: ${paths[lib]}`);\n",
       "          s.src = paths[lib];\n",
       "        });\n",
       "    }\n",
       "\n",
       "    function showError(err) {\n",
       "      outputDiv.innerHTML = `<div class=\"error\" style=\"color:red;\">${err}</div>`;\n",
       "      throw err;\n",
       "    }\n",
       "\n",
       "    function displayChart(vegaEmbed) {\n",
       "      vegaEmbed(outputDiv, spec, embedOpt)\n",
       "        .catch(err => showError(`Javascript Error: ${err.message}<br>This usually means there's a typo in your chart specification. See the javascript console for the full traceback.`));\n",
       "    }\n",
       "\n",
       "    if(typeof define === \"function\" && define.amd) {\n",
       "      requirejs.config({paths});\n",
       "      require([\"vega-embed\"], displayChart, err => showError(`Error loading script: ${err.message}`));\n",
       "    } else {\n",
       "      maybeLoadScript(\"vega\", \"5\")\n",
       "        .then(() => maybeLoadScript(\"vega-lite\", \"4.17.0\"))\n",
       "        .then(() => maybeLoadScript(\"vega-embed\", \"6\"))\n",
       "        .catch(showError)\n",
       "        .then(() => displayChart(vegaEmbed));\n",
       "    }\n",
       "  })({\"config\": {\"view\": {\"continuousWidth\": 400, \"continuousHeight\": 300}}, \"data\": {\"name\": \"data-9244f660e08f60a19d459a6a5f77096b\"}, \"mark\": \"bar\", \"encoding\": {\"color\": {\"field\": \"Median Percent of Route with Cell Coverage\", \"legend\": null, \"scale\": {\"range\": [\"#2EA8CE\", \"#EB9F3C\", \"#F4D837\", \"#51BF9D\", \"#8CBCCB\", \"#9487C0\"]}, \"type\": \"nominal\"}, \"tooltip\": [{\"field\": \"District\", \"type\": \"nominal\"}, {\"field\": \"Median Percent of Route with Cell Coverage\", \"type\": \"nominal\"}, {\"field\": \"Total Routes\", \"type\": \"quantitative\"}], \"x\": {\"field\": \"Median Percent of Route with Cell Coverage\", \"type\": \"nominal\"}, \"y\": {\"field\": \"Total Routes\", \"type\": \"quantitative\"}}, \"height\": 250, \"selection\": {\"selector004\": {\"type\": \"single\", \"fields\": [\"District\"], \"bind\": {\"input\": \"select\", \"options\": [\"D-1\", \"D-1, D-2\", \"D-1, D-4\", \"D-10\", \"D-11\", \"D-12\", \"D-12, D-11\", \"D-12, D-7\", \"D-12, D-8\", \"D-2\", \"D-3\", \"D-3, D-10\", \"D-3, D-2\", \"D-3, D-4\", \"D-4\", \"D-4, D-10\", \"D-5\", \"D-5, D-4\", \"D-5, D-7\", \"D-6\", \"D-6, D-10\", \"D-7\", \"D-7, D-6\", \"D-8\", \"D-8, D-7\", \"D-9\", \"D-9, D-10\", \"D-9, D-6\", \"D-9, D-7\"], \"name\": \"Select \"}}}, \"title\": \"District Level: Median % Cellular Coverage by Total Routes\", \"transform\": [{\"filter\": {\"selection\": \"selector004\"}}], \"width\": 450, \"$schema\": \"https://vega.github.io/schema/vega-lite/v4.17.0.json\", \"datasets\": {\"data-9244f660e08f60a19d459a6a5f77096b\": [{\"District\": \"D-1\", \"Median Percent of Route with Cell Coverage\": \"(40, 50]\", \"Total Routes\": 1, \"number_of_District\": 1, \"District Simplified\": \"D-1\"}, {\"District\": \"D-1\", \"Median Percent of Route with Cell Coverage\": \"(50, 60]\", \"Total Routes\": 1, \"number_of_District\": 1, \"District Simplified\": \"D-1\"}, {\"District\": \"D-1\", \"Median Percent of Route with Cell Coverage\": \"(60, 70]\", \"Total Routes\": 1, \"number_of_District\": 1, \"District Simplified\": \"D-1\"}, {\"District\": \"D-1\", \"Median Percent of Route with Cell Coverage\": \"(70, 80]\", \"Total Routes\": 4, \"number_of_District\": 1, \"District Simplified\": \"D-1\"}, {\"District\": \"D-1\", \"Median Percent of Route with Cell Coverage\": \"(80, 90]\", \"Total Routes\": 5, \"number_of_District\": 1, \"District Simplified\": \"D-1\"}, {\"District\": \"D-1\", \"Median Percent of Route with Cell Coverage\": \"(90, 100]\", \"Total Routes\": 64, \"number_of_District\": 1, \"District Simplified\": \"D-1\"}, {\"District\": \"D-1, D-2\", \"Median Percent of Route with Cell Coverage\": \"(30, 40]\", \"Total Routes\": 1, \"number_of_District\": 2, \"District Simplified\": \"Various Districts\"}, {\"District\": \"D-1, D-4\", \"Median Percent of Route with Cell Coverage\": \"(70, 80]\", \"Total Routes\": 1, \"number_of_District\": 2, \"District Simplified\": \"Various Districts\"}, {\"District\": \"D-1, D-4\", \"Median Percent of Route with Cell Coverage\": \"(80, 90]\", \"Total Routes\": 2, \"number_of_District\": 2, \"District Simplified\": \"Various Districts\"}, {\"District\": \"D-1, D-4\", \"Median Percent of Route with Cell Coverage\": \"(90, 100]\", \"Total Routes\": 5, \"number_of_District\": 2, \"District Simplified\": \"Various Districts\"}, {\"District\": \"D-10\", \"Median Percent of Route with Cell Coverage\": \"(50, 60]\", \"Total Routes\": 2, \"number_of_District\": 1, \"District Simplified\": \"D-10\"}, {\"District\": \"D-10\", \"Median Percent of Route with Cell Coverage\": \"(80, 90]\", \"Total Routes\": 2, \"number_of_District\": 1, \"District Simplified\": \"D-10\"}, {\"District\": \"D-10\", \"Median Percent of Route with Cell Coverage\": \"(90, 100]\", \"Total Routes\": 125, \"number_of_District\": 1, \"District Simplified\": \"D-10\"}, {\"District\": \"D-11\", \"Median Percent of Route with Cell Coverage\": \"(70, 80]\", \"Total Routes\": 2, \"number_of_District\": 1, \"District Simplified\": \"D-11\"}, {\"District\": \"D-11\", \"Median Percent of Route with Cell Coverage\": \"(90, 100]\", \"Total Routes\": 230, \"number_of_District\": 1, \"District Simplified\": \"D-11\"}, {\"District\": \"D-12\", \"Median Percent of Route with Cell Coverage\": \"(90, 100]\", \"Total Routes\": 104, \"number_of_District\": 1, \"District Simplified\": \"D-12\"}, {\"District\": \"D-12, D-11\", \"Median Percent of Route with Cell Coverage\": \"(90, 100]\", \"Total Routes\": 2, \"number_of_District\": 2, \"District Simplified\": \"Various Districts\"}, {\"District\": \"D-12, D-7\", \"Median Percent of Route with Cell Coverage\": \"(90, 100]\", \"Total Routes\": 11, \"number_of_District\": 2, \"District Simplified\": \"Various Districts\"}, {\"District\": \"D-12, D-8\", \"Median Percent of Route with Cell Coverage\": \"(90, 100]\", \"Total Routes\": 1, \"number_of_District\": 2, \"District Simplified\": \"Various Districts\"}, {\"District\": \"D-2\", \"Median Percent of Route with Cell Coverage\": \"(30, 40]\", \"Total Routes\": 1, \"number_of_District\": 1, \"District Simplified\": \"D-2\"}, {\"District\": \"D-2\", \"Median Percent of Route with Cell Coverage\": \"(40, 50]\", \"Total Routes\": 1, \"number_of_District\": 1, \"District Simplified\": \"D-2\"}, {\"District\": \"D-2\", \"Median Percent of Route with Cell Coverage\": \"(60, 70]\", \"Total Routes\": 1, \"number_of_District\": 1, \"District Simplified\": \"D-2\"}, {\"District\": \"D-2\", \"Median Percent of Route with Cell Coverage\": \"(70, 80]\", \"Total Routes\": 3, \"number_of_District\": 1, \"District Simplified\": \"D-2\"}, {\"District\": \"D-2\", \"Median Percent of Route with Cell Coverage\": \"(80, 90]\", \"Total Routes\": 1, \"number_of_District\": 1, \"District Simplified\": \"D-2\"}, {\"District\": \"D-2\", \"Median Percent of Route with Cell Coverage\": \"(90, 100]\", \"Total Routes\": 44, \"number_of_District\": 1, \"District Simplified\": \"D-2\"}, {\"District\": \"D-3\", \"Median Percent of Route with Cell Coverage\": \"(60, 70]\", \"Total Routes\": 1, \"number_of_District\": 1, \"District Simplified\": \"D-3\"}, {\"District\": \"D-3\", \"Median Percent of Route with Cell Coverage\": \"(70, 80]\", \"Total Routes\": 2, \"number_of_District\": 1, \"District Simplified\": \"D-3\"}, {\"District\": \"D-3\", \"Median Percent of Route with Cell Coverage\": \"(80, 90]\", \"Total Routes\": 5, \"number_of_District\": 1, \"District Simplified\": \"D-3\"}, {\"District\": \"D-3\", \"Median Percent of Route with Cell Coverage\": \"(90, 100]\", \"Total Routes\": 190, \"number_of_District\": 1, \"District Simplified\": \"D-3\"}, {\"District\": \"D-3, D-10\", \"Median Percent of Route with Cell Coverage\": \"(90, 100]\", \"Total Routes\": 3, \"number_of_District\": 2, \"District Simplified\": \"Various Districts\"}, {\"District\": \"D-3, D-2\", \"Median Percent of Route with Cell Coverage\": \"(90, 100]\", \"Total Routes\": 2, \"number_of_District\": 2, \"District Simplified\": \"Various Districts\"}, {\"District\": \"D-3, D-4\", \"Median Percent of Route with Cell Coverage\": \"(90, 100]\", \"Total Routes\": 3, \"number_of_District\": 2, \"District Simplified\": \"Various Districts\"}, {\"District\": \"D-4\", \"Median Percent of Route with Cell Coverage\": \"(50, 60]\", \"Total Routes\": 1, \"number_of_District\": 1, \"District Simplified\": \"D-4\"}, {\"District\": \"D-4\", \"Median Percent of Route with Cell Coverage\": \"(60, 70]\", \"Total Routes\": 3, \"number_of_District\": 1, \"District Simplified\": \"D-4\"}, {\"District\": \"D-4\", \"Median Percent of Route with Cell Coverage\": \"(70, 80]\", \"Total Routes\": 16, \"number_of_District\": 1, \"District Simplified\": \"D-4\"}, {\"District\": \"D-4\", \"Median Percent of Route with Cell Coverage\": \"(80, 90]\", \"Total Routes\": 15, \"number_of_District\": 1, \"District Simplified\": \"D-4\"}, {\"District\": \"D-4\", \"Median Percent of Route with Cell Coverage\": \"(90, 100]\", \"Total Routes\": 775, \"number_of_District\": 1, \"District Simplified\": \"D-4\"}, {\"District\": \"D-4, D-10\", \"Median Percent of Route with Cell Coverage\": \"(90, 100]\", \"Total Routes\": 3, \"number_of_District\": 2, \"District Simplified\": \"Various Districts\"}, {\"District\": \"D-5\", \"Median Percent of Route with Cell Coverage\": \"(60, 70]\", \"Total Routes\": 2, \"number_of_District\": 1, \"District Simplified\": \"D-5\"}, {\"District\": \"D-5\", \"Median Percent of Route with Cell Coverage\": \"(80, 90]\", \"Total Routes\": 1, \"number_of_District\": 1, \"District Simplified\": \"D-5\"}, {\"District\": \"D-5\", \"Median Percent of Route with Cell Coverage\": \"(90, 100]\", \"Total Routes\": 140, \"number_of_District\": 1, \"District Simplified\": \"D-5\"}, {\"District\": \"D-5, D-4\", \"Median Percent of Route with Cell Coverage\": \"(90, 100]\", \"Total Routes\": 2, \"number_of_District\": 2, \"District Simplified\": \"Various Districts\"}, {\"District\": \"D-5, D-7\", \"Median Percent of Route with Cell Coverage\": \"(90, 100]\", \"Total Routes\": 32, \"number_of_District\": 2, \"District Simplified\": \"Various Districts\"}, {\"District\": \"D-6\", \"Median Percent of Route with Cell Coverage\": \"(50, 60]\", \"Total Routes\": 3, \"number_of_District\": 1, \"District Simplified\": \"D-6\"}, {\"District\": \"D-6\", \"Median Percent of Route with Cell Coverage\": \"(70, 80]\", \"Total Routes\": 1, \"number_of_District\": 1, \"District Simplified\": \"D-6\"}, {\"District\": \"D-6\", \"Median Percent of Route with Cell Coverage\": \"(90, 100]\", \"Total Routes\": 141, \"number_of_District\": 1, \"District Simplified\": \"D-6\"}, {\"District\": \"D-6, D-10\", \"Median Percent of Route with Cell Coverage\": \"(90, 100]\", \"Total Routes\": 1, \"number_of_District\": 2, \"District Simplified\": \"Various Districts\"}, {\"District\": \"D-7\", \"Median Percent of Route with Cell Coverage\": \"(60, 70]\", \"Total Routes\": 1, \"number_of_District\": 1, \"District Simplified\": \"D-7\"}, {\"District\": \"D-7\", \"Median Percent of Route with Cell Coverage\": \"(80, 90]\", \"Total Routes\": 9, \"number_of_District\": 1, \"District Simplified\": \"D-7\"}, {\"District\": \"D-7\", \"Median Percent of Route with Cell Coverage\": \"(90, 100]\", \"Total Routes\": 717, \"number_of_District\": 1, \"District Simplified\": \"D-7\"}, {\"District\": \"D-7, D-6\", \"Median Percent of Route with Cell Coverage\": \"(90, 100]\", \"Total Routes\": 1, \"number_of_District\": 2, \"District Simplified\": \"Various Districts\"}, {\"District\": \"D-8\", \"Median Percent of Route with Cell Coverage\": \"(90, 100]\", \"Total Routes\": 113, \"number_of_District\": 1, \"District Simplified\": \"D-8\"}, {\"District\": \"D-8, D-7\", \"Median Percent of Route with Cell Coverage\": \"(90, 100]\", \"Total Routes\": 4, \"number_of_District\": 2, \"District Simplified\": \"Various Districts\"}, {\"District\": \"D-9\", \"Median Percent of Route with Cell Coverage\": \"(70, 80]\", \"Total Routes\": 3, \"number_of_District\": 1, \"District Simplified\": \"D-9\"}, {\"District\": \"D-9\", \"Median Percent of Route with Cell Coverage\": \"(80, 90]\", \"Total Routes\": 2, \"number_of_District\": 1, \"District Simplified\": \"D-9\"}, {\"District\": \"D-9\", \"Median Percent of Route with Cell Coverage\": \"(90, 100]\", \"Total Routes\": 8, \"number_of_District\": 1, \"District Simplified\": \"D-9\"}, {\"District\": \"D-9, D-10\", \"Median Percent of Route with Cell Coverage\": \"(40, 50]\", \"Total Routes\": 1, \"number_of_District\": 2, \"District Simplified\": \"Various Districts\"}, {\"District\": \"D-9, D-10\", \"Median Percent of Route with Cell Coverage\": \"(90, 100]\", \"Total Routes\": 1, \"number_of_District\": 2, \"District Simplified\": \"Various Districts\"}, {\"District\": \"D-9, D-6\", \"Median Percent of Route with Cell Coverage\": \"(90, 100]\", \"Total Routes\": 1, \"number_of_District\": 2, \"District Simplified\": \"Various Districts\"}, {\"District\": \"D-9, D-7\", \"Median Percent of Route with Cell Coverage\": \"(90, 100]\", \"Total Routes\": 2, \"number_of_District\": 2, \"District Simplified\": \"Various Districts\"}]}}, {\"mode\": \"vega-lite\"});\n",
       "</script>"
      ],
      "text/plain": [
       "alt.Chart(...)"
      ]
     },
     "execution_count": 20,
     "metadata": {},
     "output_type": "execute_result"
    }
   ],
   "source": [
    "A3_analysis.chart_with_dropdown(\n",
    "    district_summary,\n",
    "    district_summary.District.sort_values().unique().tolist(),\n",
    "    \"District\",\n",
    "    \"Median Percent of Route with Cell Coverage\",\n",
    "    \"Total Routes\",\n",
    "    \"Median Percent of Route with Cell Coverage\",\n",
    "    [\"District\", \"Median Percent of Route with Cell Coverage\", \"Total Routes\"],\n",
    "    \"District Level: Median % Cellular Coverage by Total Routes\",\n",
    ")"
   ]
  },
  {
   "cell_type": "markdown",
   "id": "04e22e60-752b-4723-bb66-102025987eca",
   "metadata": {
    "tags": []
   },
   "source": [
    "### Narrow down low coverage routes\n",
    "* As most routes in this dataset have a significant amount of cellular coverage, let's narrow down routes that have comparatively low data coverage.\n",
    "* The <i>Median Percent With Coverage</i> is the median percentage of the route that has cellular coverage across all 3 providers.\n",
    "    * Likewise, <i>Median Percent No Coverage</i> is the median percentage of the route that has <b>no</b> cellular coverage across all 3 providers.\n",
    "*  Utilize bins to see the median percentage of the route <b>with</b> coverage."
   ]
  },
  {
   "cell_type": "code",
   "execution_count": 21,
   "id": "d55c9968-ba0e-4df5-95eb-071b6d39069c",
   "metadata": {},
   "outputs": [
    {
     "data": {
      "text/plain": [
       "(90, 100]    2725\n",
       "(80, 90]       42\n",
       "(70, 80]       32\n",
       "(60, 70]        9\n",
       "(50, 60]        7\n",
       "(40, 50]        3\n",
       "(30, 40]        2\n",
       "Name: Binned, dtype: int64"
      ]
     },
     "execution_count": 21,
     "metadata": {},
     "output_type": "execute_result"
    }
   ],
   "source": [
    "final[\"Binned\"].value_counts()"
   ]
  },
  {
   "cell_type": "code",
   "execution_count": 22,
   "id": "a1baf0a0-521a-4f15-ae90-57c477053141",
   "metadata": {},
   "outputs": [
    {
     "data": {
      "text/plain": [
       "count   2820.00\n",
       "mean       1.01\n",
       "std        4.93\n",
       "min        0.00\n",
       "25%        0.00\n",
       "50%        0.00\n",
       "75%        0.00\n",
       "max       64.00\n",
       "Name: Median Percent No Coverage, dtype: float64"
      ]
     },
     "execution_count": 22,
     "metadata": {},
     "output_type": "execute_result"
    }
   ],
   "source": [
    "final[\"Median Percent No Coverage\"].describe()"
   ]
  },
  {
   "cell_type": "code",
   "execution_count": 23,
   "id": "42247a31-82bc-43fd-abd0-7c66077ae767",
   "metadata": {},
   "outputs": [
    {
     "data": {
      "text/plain": [
       "count   2820.00\n",
       "mean      98.99\n",
       "std        4.93\n",
       "min       36.00\n",
       "25%      100.00\n",
       "50%      100.00\n",
       "75%      100.00\n",
       "max      100.00\n",
       "Name: Median Percent With Coverage, dtype: float64"
      ]
     },
     "execution_count": 23,
     "metadata": {},
     "output_type": "execute_result"
    }
   ],
   "source": [
    "final[\"Median Percent With Coverage\"].describe()"
   ]
  },
  {
   "cell_type": "markdown",
   "id": "6e788f5e-df01-4e1b-b35a-7361bddbe69e",
   "metadata": {},
   "source": [
    "#### Choosing a threshold \n",
    "* Threshold set at 75 after eyeballing the `value_counts` of the <i>Binned</i> column."
   ]
  },
  {
   "cell_type": "code",
   "execution_count": 24,
   "id": "a5f7d2a5-bda2-43ce-8ca7-728eacd77cee",
   "metadata": {},
   "outputs": [],
   "source": [
    "threshold = 75"
   ]
  },
  {
   "cell_type": "code",
   "execution_count": 25,
   "id": "adbd491c-e42b-4e77-9f15-b976c3a42228",
   "metadata": {},
   "outputs": [],
   "source": [
    "low_coverage = (\n",
    "    final.loc[final[\"Median Percent With Coverage\"] < threshold]\n",
    ").reset_index(drop=True)"
   ]
  },
  {
   "cell_type": "code",
   "execution_count": 26,
   "id": "2b1259f0-2a33-4015-a10e-4acd11e8ae0e",
   "metadata": {},
   "outputs": [
    {
     "data": {
      "text/plain": [
       "'33 routes are considered truly low-data coverage.'"
      ]
     },
     "execution_count": 26,
     "metadata": {},
     "output_type": "execute_result"
    }
   ],
   "source": [
    "f\"{len(low_coverage)} routes are considered truly low-data coverage.\""
   ]
  },
  {
   "cell_type": "code",
   "execution_count": 27,
   "id": "dd23ca97-98ee-4b0a-b698-b7770c7efe07",
   "metadata": {},
   "outputs": [
    {
     "data": {
      "text/plain": [
       "'Around 86 buses run low data coverage routes using data from September 14, 2022.'"
      ]
     },
     "execution_count": 27,
     "metadata": {},
     "output_type": "execute_result"
    }
   ],
   "source": [
    "f\"Around {low_coverage['Estimate Of Buses In Low Cell Zones'].sum()} buses run low data coverage routes using data from September 14, 2022.\""
   ]
  },
  {
   "cell_type": "code",
   "execution_count": 28,
   "id": "12e12928-28e6-4196-934b-5b7719853ee3",
   "metadata": {},
   "outputs": [
    {
     "data": {
      "text/plain": [
       "'19 agencies appear in this data set.'"
      ]
     },
     "execution_count": 28,
     "metadata": {},
     "output_type": "execute_result"
    }
   ],
   "source": [
    "f\"{low_coverage.Agency.nunique()} agencies appear in this data set.\""
   ]
  },
  {
   "cell_type": "code",
   "execution_count": 29,
   "id": "54b830c0-56ef-4d8d-9586-09576588fc8d",
   "metadata": {},
   "outputs": [
    {
     "data": {
      "text/plain": [
       "D-4          8\n",
       "D-1          7\n",
       "D-6          4\n",
       "D-2          3\n",
       "D-9          2\n",
       "D-5          2\n",
       "D-10         2\n",
       "D-1, D-4     1\n",
       "D-1, D-2     1\n",
       "D-3          1\n",
       "D-7          1\n",
       "D-9, D-10    1\n",
       "Name: District, dtype: int64"
      ]
     },
     "execution_count": 29,
     "metadata": {},
     "output_type": "execute_result"
    }
   ],
   "source": [
    "low_coverage.District.value_counts()"
   ]
  },
  {
   "cell_type": "code",
   "execution_count": 30,
   "id": "52039bd3-e581-42fe-8eff-6f8b74dc02e0",
   "metadata": {},
   "outputs": [
    {
     "data": {
      "text/plain": [
       "Trinity Transit                                           4\n",
       "Golden Gate Bridge Highway and Transportation District    3\n",
       "Yosemite Area Regional Transportation System              3\n",
       "Eastern Sierra Transit Authority                          2\n",
       "AC Transit                                                2\n",
       "MUNI                                                      2\n",
       "Redwood Coast Transit                                     2\n",
       "Santa Cruz Metropolitan Transit District                  2\n",
       "Tulare County Regional Transit Agency                     2\n",
       "Mendocino Transit Authority                               2\n",
       "Arcata and Mad River Transit System                       1\n",
       "Blue Lake Rancheria                                       1\n",
       "Capitol Corridor                                          1\n",
       "Eureka Transit Service                                    1\n",
       "Gold Country Stage                                        1\n",
       "Humboldt Transit Authority                                1\n",
       "Kern Transit                                              1\n",
       "Los Angeles Department of Transportation                  1\n",
       "Tulare County Area Transit                                1\n",
       "Name: Agency, dtype: int64"
      ]
     },
     "execution_count": 30,
     "metadata": {},
     "output_type": "execute_result"
    }
   ],
   "source": [
    "low_coverage.Agency.value_counts()"
   ]
  },
  {
   "cell_type": "markdown",
   "id": "080dd627-1002-4f11-a33f-46bad32b2f9d",
   "metadata": {
    "tags": []
   },
   "source": [
    "#### Closer look at 'low coverage' routes"
   ]
  },
  {
   "cell_type": "code",
   "execution_count": 31,
   "id": "d03d74d6",
   "metadata": {
    "scrolled": true,
    "tags": []
   },
   "outputs": [
    {
     "data": {
      "text/html": [
       "<div>\n",
       "<style scoped>\n",
       "    .dataframe tbody tr th:only-of-type {\n",
       "        vertical-align: middle;\n",
       "    }\n",
       "\n",
       "    .dataframe tbody tr th {\n",
       "        vertical-align: top;\n",
       "    }\n",
       "\n",
       "    .dataframe thead th {\n",
       "        text-align: right;\n",
       "    }\n",
       "</style>\n",
       "<table border=\"1\" class=\"dataframe\">\n",
       "  <thead>\n",
       "    <tr style=\"text-align: right;\">\n",
       "      <th></th>\n",
       "      <th>Agency</th>\n",
       "      <th>Long Route Name</th>\n",
       "      <th>District</th>\n",
       "      <th>Median Percent With Coverage</th>\n",
       "      <th>Median Percent No Coverage</th>\n",
       "      <th>Total Trips By Route</th>\n",
       "      <th>Total Buses</th>\n",
       "      <th>Estimate Of Buses In Low Cell Zones</th>\n",
       "      <th>Gtfs Status</th>\n",
       "    </tr>\n",
       "  </thead>\n",
       "  <tbody>\n",
       "    <tr>\n",
       "      <th>1</th>\n",
       "      <td>Trinity Transit</td>\n",
       "      <td>Route travels through all down-river communities between Weaverville and Willow Creek.  Key route to the coast; connects with RTS service to Arcata/Eureka. 181  Trinity Transit</td>\n",
       "      <td>D-1, D-2</td>\n",
       "      <td>36.00</td>\n",
       "      <td>64.00</td>\n",
       "      <td>4</td>\n",
       "      <td>7.00</td>\n",
       "      <td>1</td>\n",
       "      <td>Static OK/RT Incomplete</td>\n",
       "    </tr>\n",
       "    <tr>\n",
       "      <th>24</th>\n",
       "      <td>Trinity Transit</td>\n",
       "      <td>Route between Weaverville and Hayfork.  Connects to Redding Line in Douglas City. 178  Trinity Transit</td>\n",
       "      <td>D-2</td>\n",
       "      <td>39.00</td>\n",
       "      <td>61.00</td>\n",
       "      <td>4</td>\n",
       "      <td>7.00</td>\n",
       "      <td>1</td>\n",
       "      <td>Static OK/RT Incomplete</td>\n",
       "    </tr>\n",
       "    <tr>\n",
       "      <th>19</th>\n",
       "      <td>Mendocino Transit Authority</td>\n",
       "      <td>The Coaster 230  Mendocino Transit Authority</td>\n",
       "      <td>D-1</td>\n",
       "      <td>45.00</td>\n",
       "      <td>55.00</td>\n",
       "      <td>4</td>\n",
       "      <td>35.00</td>\n",
       "      <td>1</td>\n",
       "      <td>Static OK/RT Incomplete</td>\n",
       "    </tr>\n",
       "    <tr>\n",
       "      <th>26</th>\n",
       "      <td>Trinity Transit</td>\n",
       "      <td>Redding Line 288  Trinity Transit</td>\n",
       "      <td>D-2</td>\n",
       "      <td>46.00</td>\n",
       "      <td>54.00</td>\n",
       "      <td>4</td>\n",
       "      <td>7.00</td>\n",
       "      <td>1</td>\n",
       "      <td>Static OK/RT Incomplete</td>\n",
       "    </tr>\n",
       "    <tr>\n",
       "      <th>32</th>\n",
       "      <td>Yosemite Area Regional Transportation System</td>\n",
       "      <td>Mammoth Lakes HWY 120E/395 582  Yosemite Area Regional Transportation System</td>\n",
       "      <td>D-9, D-10</td>\n",
       "      <td>48.00</td>\n",
       "      <td>52.00</td>\n",
       "      <td>2</td>\n",
       "      <td>10.00</td>\n",
       "      <td>1</td>\n",
       "      <td>Static OK/RT Incomplete</td>\n",
       "    </tr>\n",
       "    <tr>\n",
       "      <th>29</th>\n",
       "      <td>Tulare County Regional Transit Agency</td>\n",
       "      <td>Porterville to Springville Loop c70  Tulare County Regional Transit Agency</td>\n",
       "      <td>D-6</td>\n",
       "      <td>53.00</td>\n",
       "      <td>47.00</td>\n",
       "      <td>4</td>\n",
       "      <td>18.00</td>\n",
       "      <td>1</td>\n",
       "      <td>Static OK/RT Incomplete</td>\n",
       "    </tr>\n",
       "    <tr>\n",
       "      <th>28</th>\n",
       "      <td>Tulare County Regional Transit Agency</td>\n",
       "      <td>Porterville to Springville Loop c70  Tulare County Regional Transit Agency</td>\n",
       "      <td>D-6</td>\n",
       "      <td>53.00</td>\n",
       "      <td>47.00</td>\n",
       "      <td>4</td>\n",
       "      <td>18.00</td>\n",
       "      <td>1</td>\n",
       "      <td>Static Incomplete/RT Incomplete</td>\n",
       "    </tr>\n",
       "    <tr>\n",
       "      <th>27</th>\n",
       "      <td>Tulare County Area Transit</td>\n",
       "      <td>Porterville to Springville Loop 12181  Tulare County Area Transit</td>\n",
       "      <td>D-6</td>\n",
       "      <td>53.00</td>\n",
       "      <td>47.00</td>\n",
       "      <td>4</td>\n",
       "      <td>24.00</td>\n",
       "      <td>1</td>\n",
       "      <td>Static OK/RT Incomplete</td>\n",
       "    </tr>\n",
       "    <tr>\n",
       "      <th>30</th>\n",
       "      <td>Yosemite Area Regional Transportation System</td>\n",
       "      <td>Sonora HWY 120 1094  Yosemite Area Regional Transportation System</td>\n",
       "      <td>D-10</td>\n",
       "      <td>55.00</td>\n",
       "      <td>45.00</td>\n",
       "      <td>2</td>\n",
       "      <td>10.00</td>\n",
       "      <td>1</td>\n",
       "      <td>Static OK/RT Incomplete</td>\n",
       "    </tr>\n",
       "    <tr>\n",
       "      <th>21</th>\n",
       "      <td>Redwood Coast Transit</td>\n",
       "      <td>Route 199 Hiouchi / Gasquet 257  Redwood Coast Transit</td>\n",
       "      <td>D-1</td>\n",
       "      <td>55.00</td>\n",
       "      <td>45.00</td>\n",
       "      <td>6</td>\n",
       "      <td>14.00</td>\n",
       "      <td>1</td>\n",
       "      <td>Static OK/RT OK</td>\n",
       "    </tr>\n",
       "    <tr>\n",
       "      <th>31</th>\n",
       "      <td>Yosemite Area Regional Transportation System</td>\n",
       "      <td>Merced HWY 140 580  Yosemite Area Regional Transportation System</td>\n",
       "      <td>D-10</td>\n",
       "      <td>59.00</td>\n",
       "      <td>41.00</td>\n",
       "      <td>17</td>\n",
       "      <td>10.00</td>\n",
       "      <td>8</td>\n",
       "      <td>Static OK/RT Incomplete</td>\n",
       "    </tr>\n",
       "    <tr>\n",
       "      <th>6</th>\n",
       "      <td>Capitol Corridor</td>\n",
       "      <td>Shuttle to San Francisco Transbay Terminal sf  Capitol Corridor</td>\n",
       "      <td>D-4</td>\n",
       "      <td>60.00</td>\n",
       "      <td>40.00</td>\n",
       "      <td>18</td>\n",
       "      <td>17.00</td>\n",
       "      <td>6</td>\n",
       "      <td>Static OK/RT OK</td>\n",
       "    </tr>\n",
       "    <tr>\n",
       "      <th>25</th>\n",
       "      <td>Trinity Transit</td>\n",
       "      <td>Lewiston Line 180  Trinity Transit</td>\n",
       "      <td>D-2</td>\n",
       "      <td>62.00</td>\n",
       "      <td>38.00</td>\n",
       "      <td>3</td>\n",
       "      <td>7.00</td>\n",
       "      <td>1</td>\n",
       "      <td>Static OK/RT Incomplete</td>\n",
       "    </tr>\n",
       "    <tr>\n",
       "      <th>20</th>\n",
       "      <td>Redwood Coast Transit</td>\n",
       "      <td>Route 20 Smith River / Arcata 120  Redwood Coast Transit</td>\n",
       "      <td>D-1</td>\n",
       "      <td>64.00</td>\n",
       "      <td>36.00</td>\n",
       "      <td>11</td>\n",
       "      <td>14.00</td>\n",
       "      <td>2</td>\n",
       "      <td>Static OK/RT OK</td>\n",
       "    </tr>\n",
       "    <tr>\n",
       "      <th>23</th>\n",
       "      <td>Santa Cruz Metropolitan Transit District</td>\n",
       "      <td>Davenport/Bonny Doon 42  Santa Cruz Metropolitan Transit District</td>\n",
       "      <td>D-5</td>\n",
       "      <td>64.00</td>\n",
       "      <td>36.00</td>\n",
       "      <td>4</td>\n",
       "      <td>125.00</td>\n",
       "      <td>1</td>\n",
       "      <td>Static OK/RT Incomplete</td>\n",
       "    </tr>\n",
       "    <tr>\n",
       "      <th>22</th>\n",
       "      <td>Santa Cruz Metropolitan Transit District</td>\n",
       "      <td>Empire Grade - Bonny Doon 41  Santa Cruz Metropolitan Transit District</td>\n",
       "      <td>D-5</td>\n",
       "      <td>65.00</td>\n",
       "      <td>35.00</td>\n",
       "      <td>4</td>\n",
       "      <td>125.00</td>\n",
       "      <td>1</td>\n",
       "      <td>Static OK/RT Incomplete</td>\n",
       "    </tr>\n",
       "    <tr>\n",
       "      <th>15</th>\n",
       "      <td>Los Angeles Department of Transportation</td>\n",
       "      <td>Long Beach/San Pedro 870  Los Angeles Department of Transportation</td>\n",
       "      <td>D-7</td>\n",
       "      <td>66.00</td>\n",
       "      <td>34.00</td>\n",
       "      <td>68</td>\n",
       "      <td>17.00</td>\n",
       "      <td>1</td>\n",
       "      <td>Static Incomplete/RT Incomplete</td>\n",
       "    </tr>\n",
       "    <tr>\n",
       "      <th>12</th>\n",
       "      <td>Golden Gate Bridge Highway and Transportation District</td>\n",
       "      <td>Oakland - San Francisco 705-240  Golden Gate Bridge Highway and Transportation District</td>\n",
       "      <td>D-4</td>\n",
       "      <td>67.00</td>\n",
       "      <td>33.00</td>\n",
       "      <td>1</td>\n",
       "      <td>165.00</td>\n",
       "      <td>1</td>\n",
       "      <td>Static Incomplete/RT Incomplete</td>\n",
       "    </tr>\n",
       "    <tr>\n",
       "      <th>9</th>\n",
       "      <td>Gold Country Stage</td>\n",
       "      <td>Grass Valley to North San Juan 16672  Gold Country Stage</td>\n",
       "      <td>D-3</td>\n",
       "      <td>68.00</td>\n",
       "      <td>32.00</td>\n",
       "      <td>10</td>\n",
       "      <td>25.00</td>\n",
       "      <td>2</td>\n",
       "      <td>Static OK/RT OK</td>\n",
       "    </tr>\n",
       "    <tr>\n",
       "      <th>16</th>\n",
       "      <td>MUNI</td>\n",
       "      <td>TREASURE ISLAND 18158  MUNI</td>\n",
       "      <td>D-4</td>\n",
       "      <td>70.00</td>\n",
       "      <td>30.00</td>\n",
       "      <td>85</td>\n",
       "      <td>762.00</td>\n",
       "      <td>7</td>\n",
       "      <td>Static OK/RT OK</td>\n",
       "    </tr>\n",
       "    <tr>\n",
       "      <th>17</th>\n",
       "      <td>MUNI</td>\n",
       "      <td>TREASURE ISLAND 25  MUNI</td>\n",
       "      <td>D-4</td>\n",
       "      <td>70.00</td>\n",
       "      <td>30.00</td>\n",
       "      <td>75</td>\n",
       "      <td>762.00</td>\n",
       "      <td>6</td>\n",
       "      <td>Static OK/RT OK</td>\n",
       "    </tr>\n",
       "    <tr>\n",
       "      <th>18</th>\n",
       "      <td>Eastern Sierra Transit Authority</td>\n",
       "      <td>Bridgeport-Gardnerville 566  Mammoth Lakes Transit System</td>\n",
       "      <td>D-9</td>\n",
       "      <td>71.00</td>\n",
       "      <td>29.00</td>\n",
       "      <td>2</td>\n",
       "      <td>59.00</td>\n",
       "      <td>1</td>\n",
       "      <td>No Info</td>\n",
       "    </tr>\n",
       "    <tr>\n",
       "      <th>7</th>\n",
       "      <td>Eastern Sierra Transit Authority</td>\n",
       "      <td>Bridgeport-Gardnerville 566  Eastern Sierra Transit Authority</td>\n",
       "      <td>D-9</td>\n",
       "      <td>71.00</td>\n",
       "      <td>29.00</td>\n",
       "      <td>2</td>\n",
       "      <td>59.00</td>\n",
       "      <td>1</td>\n",
       "      <td>Static OK/RT OK</td>\n",
       "    </tr>\n",
       "    <tr>\n",
       "      <th>3</th>\n",
       "      <td>AC Transit</td>\n",
       "      <td>Piedmont - Oakland Ave. Transbay p  AC Transit</td>\n",
       "      <td>D-4</td>\n",
       "      <td>71.00</td>\n",
       "      <td>29.00</td>\n",
       "      <td>12</td>\n",
       "      <td>881.00</td>\n",
       "      <td>1</td>\n",
       "      <td>Static OK/RT OK</td>\n",
       "    </tr>\n",
       "    <tr>\n",
       "      <th>14</th>\n",
       "      <td>Kern Transit</td>\n",
       "      <td>Lake Isabella-Bakersfield 1368  Kern Transit</td>\n",
       "      <td>D-6</td>\n",
       "      <td>72.00</td>\n",
       "      <td>28.00</td>\n",
       "      <td>8</td>\n",
       "      <td>65.00</td>\n",
       "      <td>5</td>\n",
       "      <td>Static OK/RT Incomplete</td>\n",
       "    </tr>\n",
       "    <tr>\n",
       "      <th>11</th>\n",
       "      <td>Golden Gate Bridge Highway and Transportation District</td>\n",
       "      <td>Del Norte BART Station - San Rafael 580-240  Golden Gate Bridge Highway and Transportation District</td>\n",
       "      <td>D-4</td>\n",
       "      <td>72.00</td>\n",
       "      <td>28.00</td>\n",
       "      <td>17</td>\n",
       "      <td>165.00</td>\n",
       "      <td>10</td>\n",
       "      <td>Static Incomplete/RT Incomplete</td>\n",
       "    </tr>\n",
       "    <tr>\n",
       "      <th>10</th>\n",
       "      <td>Golden Gate Bridge Highway and Transportation District</td>\n",
       "      <td>Del Norte BART Station - San Rafael 580  Golden Gate Bridge Highway and Transportation District</td>\n",
       "      <td>D-4</td>\n",
       "      <td>72.00</td>\n",
       "      <td>28.00</td>\n",
       "      <td>27</td>\n",
       "      <td>165.00</td>\n",
       "      <td>16</td>\n",
       "      <td>Static Incomplete/RT Incomplete</td>\n",
       "    </tr>\n",
       "    <tr>\n",
       "      <th>13</th>\n",
       "      <td>Humboldt Transit Authority</td>\n",
       "      <td>The Willow Creek/Arcata Route is operated by Humboldt Transit Authority and travels along Trinity Highway between the communities of Arcata and Willow Creek. 8  Humboldt Transit Authority</td>\n",
       "      <td>D-1</td>\n",
       "      <td>74.00</td>\n",
       "      <td>26.00</td>\n",
       "      <td>5</td>\n",
       "      <td>29.00</td>\n",
       "      <td>1</td>\n",
       "      <td>Static OK/RT OK</td>\n",
       "    </tr>\n",
       "    <tr>\n",
       "      <th>8</th>\n",
       "      <td>Eureka Transit Service</td>\n",
       "      <td>The Willow Creek/Arcata Route is operated by Humboldt Transit Authority and travels along Trinity Highway between the communities of Arcata and Willow Creek. 8  Eureka Transit Service</td>\n",
       "      <td>D-1</td>\n",
       "      <td>74.00</td>\n",
       "      <td>26.00</td>\n",
       "      <td>5</td>\n",
       "      <td>12.00</td>\n",
       "      <td>1</td>\n",
       "      <td>Static OK/RT OK</td>\n",
       "    </tr>\n",
       "    <tr>\n",
       "      <th>5</th>\n",
       "      <td>Blue Lake Rancheria</td>\n",
       "      <td>The Willow Creek/Arcata Route is operated by Humboldt Transit Authority and travels along Trinity Highway between the communities of Arcata and Willow Creek. 8  Blue Lake Rancheria</td>\n",
       "      <td>D-1</td>\n",
       "      <td>74.00</td>\n",
       "      <td>26.00</td>\n",
       "      <td>5</td>\n",
       "      <td>4.00</td>\n",
       "      <td>1</td>\n",
       "      <td>Static OK/RT OK</td>\n",
       "    </tr>\n",
       "    <tr>\n",
       "      <th>4</th>\n",
       "      <td>Arcata and Mad River Transit System</td>\n",
       "      <td>The Willow Creek/Arcata Route is operated by Humboldt Transit Authority and travels along Trinity Highway between the communities of Arcata and Willow Creek. 8  Arcata and Mad River Transit System</td>\n",
       "      <td>D-1</td>\n",
       "      <td>74.00</td>\n",
       "      <td>26.00</td>\n",
       "      <td>5</td>\n",
       "      <td>17.00</td>\n",
       "      <td>1</td>\n",
       "      <td>Static OK/RT OK</td>\n",
       "    </tr>\n",
       "    <tr>\n",
       "      <th>2</th>\n",
       "      <td>AC Transit</td>\n",
       "      <td>Sacramento -  Christie Transbay j  AC Transit</td>\n",
       "      <td>D-4</td>\n",
       "      <td>74.00</td>\n",
       "      <td>26.00</td>\n",
       "      <td>8</td>\n",
       "      <td>881.00</td>\n",
       "      <td>1</td>\n",
       "      <td>Static OK/RT OK</td>\n",
       "    </tr>\n",
       "    <tr>\n",
       "      <th>0</th>\n",
       "      <td>Mendocino Transit Authority</td>\n",
       "      <td>South Coast / Santa Rosa 224  Mendocino Transit Authority</td>\n",
       "      <td>D-1, D-4</td>\n",
       "      <td>74.00</td>\n",
       "      <td>26.00</td>\n",
       "      <td>2</td>\n",
       "      <td>35.00</td>\n",
       "      <td>1</td>\n",
       "      <td>Static OK/RT Incomplete</td>\n",
       "    </tr>\n",
       "  </tbody>\n",
       "</table>\n",
       "</div>"
      ],
      "text/plain": [
       "                                                    Agency  \\\n",
       "1                                          Trinity Transit   \n",
       "24                                         Trinity Transit   \n",
       "19                             Mendocino Transit Authority   \n",
       "26                                         Trinity Transit   \n",
       "32            Yosemite Area Regional Transportation System   \n",
       "29                   Tulare County Regional Transit Agency   \n",
       "28                   Tulare County Regional Transit Agency   \n",
       "27                              Tulare County Area Transit   \n",
       "30            Yosemite Area Regional Transportation System   \n",
       "21                                   Redwood Coast Transit   \n",
       "31            Yosemite Area Regional Transportation System   \n",
       "6                                         Capitol Corridor   \n",
       "25                                         Trinity Transit   \n",
       "20                                   Redwood Coast Transit   \n",
       "23                Santa Cruz Metropolitan Transit District   \n",
       "22                Santa Cruz Metropolitan Transit District   \n",
       "15                Los Angeles Department of Transportation   \n",
       "12  Golden Gate Bridge Highway and Transportation District   \n",
       "9                                       Gold Country Stage   \n",
       "16                                                    MUNI   \n",
       "17                                                    MUNI   \n",
       "18                        Eastern Sierra Transit Authority   \n",
       "7                         Eastern Sierra Transit Authority   \n",
       "3                                               AC Transit   \n",
       "14                                            Kern Transit   \n",
       "11  Golden Gate Bridge Highway and Transportation District   \n",
       "10  Golden Gate Bridge Highway and Transportation District   \n",
       "13                              Humboldt Transit Authority   \n",
       "8                                   Eureka Transit Service   \n",
       "5                                      Blue Lake Rancheria   \n",
       "4                      Arcata and Mad River Transit System   \n",
       "2                                               AC Transit   \n",
       "0                              Mendocino Transit Authority   \n",
       "\n",
       "                                                                                                                                                                                         Long Route Name  \\\n",
       "1                       Route travels through all down-river communities between Weaverville and Willow Creek.  Key route to the coast; connects with RTS service to Arcata/Eureka. 181  Trinity Transit   \n",
       "24                                                                                                Route between Weaverville and Hayfork.  Connects to Redding Line in Douglas City. 178  Trinity Transit   \n",
       "19                                                                                                                                                          The Coaster 230  Mendocino Transit Authority   \n",
       "26                                                                                                                                                                     Redding Line 288  Trinity Transit   \n",
       "32                                                                                                                          Mammoth Lakes HWY 120E/395 582  Yosemite Area Regional Transportation System   \n",
       "29                                                                                                                            Porterville to Springville Loop c70  Tulare County Regional Transit Agency   \n",
       "28                                                                                                                            Porterville to Springville Loop c70  Tulare County Regional Transit Agency   \n",
       "27                                                                                                                                     Porterville to Springville Loop 12181  Tulare County Area Transit   \n",
       "30                                                                                                                                     Sonora HWY 120 1094  Yosemite Area Regional Transportation System   \n",
       "21                                                                                                                                                Route 199 Hiouchi / Gasquet 257  Redwood Coast Transit   \n",
       "31                                                                                                                                      Merced HWY 140 580  Yosemite Area Regional Transportation System   \n",
       "6                                                                                                                                        Shuttle to San Francisco Transbay Terminal sf  Capitol Corridor   \n",
       "25                                                                                                                                                                    Lewiston Line 180  Trinity Transit   \n",
       "20                                                                                                                                              Route 20 Smith River / Arcata 120  Redwood Coast Transit   \n",
       "23                                                                                                                                     Davenport/Bonny Doon 42  Santa Cruz Metropolitan Transit District   \n",
       "22                                                                                                                                Empire Grade - Bonny Doon 41  Santa Cruz Metropolitan Transit District   \n",
       "15                                                                                                                                    Long Beach/San Pedro 870  Los Angeles Department of Transportation   \n",
       "12                                                                                                               Oakland - San Francisco 705-240  Golden Gate Bridge Highway and Transportation District   \n",
       "9                                                                                                                                               Grass Valley to North San Juan 16672  Gold Country Stage   \n",
       "16                                                                                                                                                                           TREASURE ISLAND 18158  MUNI   \n",
       "17                                                                                                                                                                              TREASURE ISLAND 25  MUNI   \n",
       "18                                                                                                                                             Bridgeport-Gardnerville 566  Mammoth Lakes Transit System   \n",
       "7                                                                                                                                          Bridgeport-Gardnerville 566  Eastern Sierra Transit Authority   \n",
       "3                                                                                                                                                         Piedmont - Oakland Ave. Transbay p  AC Transit   \n",
       "14                                                                                                                                                          Lake Isabella-Bakersfield 1368  Kern Transit   \n",
       "11                                                                                                   Del Norte BART Station - San Rafael 580-240  Golden Gate Bridge Highway and Transportation District   \n",
       "10                                                                                                       Del Norte BART Station - San Rafael 580  Golden Gate Bridge Highway and Transportation District   \n",
       "13           The Willow Creek/Arcata Route is operated by Humboldt Transit Authority and travels along Trinity Highway between the communities of Arcata and Willow Creek. 8  Humboldt Transit Authority   \n",
       "8                The Willow Creek/Arcata Route is operated by Humboldt Transit Authority and travels along Trinity Highway between the communities of Arcata and Willow Creek. 8  Eureka Transit Service   \n",
       "5                   The Willow Creek/Arcata Route is operated by Humboldt Transit Authority and travels along Trinity Highway between the communities of Arcata and Willow Creek. 8  Blue Lake Rancheria   \n",
       "4   The Willow Creek/Arcata Route is operated by Humboldt Transit Authority and travels along Trinity Highway between the communities of Arcata and Willow Creek. 8  Arcata and Mad River Transit System   \n",
       "2                                                                                                                                                          Sacramento -  Christie Transbay j  AC Transit   \n",
       "0                                                                                                                                              South Coast / Santa Rosa 224  Mendocino Transit Authority   \n",
       "\n",
       "     District  Median Percent With Coverage  Median Percent No Coverage  \\\n",
       "1    D-1, D-2                         36.00                       64.00   \n",
       "24        D-2                         39.00                       61.00   \n",
       "19        D-1                         45.00                       55.00   \n",
       "26        D-2                         46.00                       54.00   \n",
       "32  D-9, D-10                         48.00                       52.00   \n",
       "29        D-6                         53.00                       47.00   \n",
       "28        D-6                         53.00                       47.00   \n",
       "27        D-6                         53.00                       47.00   \n",
       "30       D-10                         55.00                       45.00   \n",
       "21        D-1                         55.00                       45.00   \n",
       "31       D-10                         59.00                       41.00   \n",
       "6         D-4                         60.00                       40.00   \n",
       "25        D-2                         62.00                       38.00   \n",
       "20        D-1                         64.00                       36.00   \n",
       "23        D-5                         64.00                       36.00   \n",
       "22        D-5                         65.00                       35.00   \n",
       "15        D-7                         66.00                       34.00   \n",
       "12        D-4                         67.00                       33.00   \n",
       "9         D-3                         68.00                       32.00   \n",
       "16        D-4                         70.00                       30.00   \n",
       "17        D-4                         70.00                       30.00   \n",
       "18        D-9                         71.00                       29.00   \n",
       "7         D-9                         71.00                       29.00   \n",
       "3         D-4                         71.00                       29.00   \n",
       "14        D-6                         72.00                       28.00   \n",
       "11        D-4                         72.00                       28.00   \n",
       "10        D-4                         72.00                       28.00   \n",
       "13        D-1                         74.00                       26.00   \n",
       "8         D-1                         74.00                       26.00   \n",
       "5         D-1                         74.00                       26.00   \n",
       "4         D-1                         74.00                       26.00   \n",
       "2         D-4                         74.00                       26.00   \n",
       "0    D-1, D-4                         74.00                       26.00   \n",
       "\n",
       "    Total Trips By Route  Total Buses  Estimate Of Buses In Low Cell Zones  \\\n",
       "1                      4         7.00                                    1   \n",
       "24                     4         7.00                                    1   \n",
       "19                     4        35.00                                    1   \n",
       "26                     4         7.00                                    1   \n",
       "32                     2        10.00                                    1   \n",
       "29                     4        18.00                                    1   \n",
       "28                     4        18.00                                    1   \n",
       "27                     4        24.00                                    1   \n",
       "30                     2        10.00                                    1   \n",
       "21                     6        14.00                                    1   \n",
       "31                    17        10.00                                    8   \n",
       "6                     18        17.00                                    6   \n",
       "25                     3         7.00                                    1   \n",
       "20                    11        14.00                                    2   \n",
       "23                     4       125.00                                    1   \n",
       "22                     4       125.00                                    1   \n",
       "15                    68        17.00                                    1   \n",
       "12                     1       165.00                                    1   \n",
       "9                     10        25.00                                    2   \n",
       "16                    85       762.00                                    7   \n",
       "17                    75       762.00                                    6   \n",
       "18                     2        59.00                                    1   \n",
       "7                      2        59.00                                    1   \n",
       "3                     12       881.00                                    1   \n",
       "14                     8        65.00                                    5   \n",
       "11                    17       165.00                                   10   \n",
       "10                    27       165.00                                   16   \n",
       "13                     5        29.00                                    1   \n",
       "8                      5        12.00                                    1   \n",
       "5                      5         4.00                                    1   \n",
       "4                      5        17.00                                    1   \n",
       "2                      8       881.00                                    1   \n",
       "0                      2        35.00                                    1   \n",
       "\n",
       "                        Gtfs Status  \n",
       "1           Static OK/RT Incomplete  \n",
       "24          Static OK/RT Incomplete  \n",
       "19          Static OK/RT Incomplete  \n",
       "26          Static OK/RT Incomplete  \n",
       "32          Static OK/RT Incomplete  \n",
       "29          Static OK/RT Incomplete  \n",
       "28  Static Incomplete/RT Incomplete  \n",
       "27          Static OK/RT Incomplete  \n",
       "30          Static OK/RT Incomplete  \n",
       "21                  Static OK/RT OK  \n",
       "31          Static OK/RT Incomplete  \n",
       "6                   Static OK/RT OK  \n",
       "25          Static OK/RT Incomplete  \n",
       "20                  Static OK/RT OK  \n",
       "23          Static OK/RT Incomplete  \n",
       "22          Static OK/RT Incomplete  \n",
       "15  Static Incomplete/RT Incomplete  \n",
       "12  Static Incomplete/RT Incomplete  \n",
       "9                   Static OK/RT OK  \n",
       "16                  Static OK/RT OK  \n",
       "17                  Static OK/RT OK  \n",
       "18                          No Info  \n",
       "7                   Static OK/RT OK  \n",
       "3                   Static OK/RT OK  \n",
       "14          Static OK/RT Incomplete  \n",
       "11  Static Incomplete/RT Incomplete  \n",
       "10  Static Incomplete/RT Incomplete  \n",
       "13                  Static OK/RT OK  \n",
       "8                   Static OK/RT OK  \n",
       "5                   Static OK/RT OK  \n",
       "4                   Static OK/RT OK  \n",
       "2                   Static OK/RT OK  \n",
       "0           Static OK/RT Incomplete  "
      ]
     },
     "execution_count": 31,
     "metadata": {},
     "output_type": "execute_result"
    }
   ],
   "source": [
    "low_coverage[A3_analysis.subset_for_results ].sort_values(\"Median Percent No Coverage\", ascending=False)"
   ]
  },
  {
   "cell_type": "code",
   "execution_count": 32,
   "id": "a15ca0dc-9a52-4f7f-924f-6901946d0046",
   "metadata": {},
   "outputs": [],
   "source": [
    "# Grab the names of routes are \"low coverage.\"\n",
    "low_coverage_routes = low_coverage[\"Long Route Name\"].unique().tolist()"
   ]
  },
  {
   "cell_type": "code",
   "execution_count": 33,
   "id": "fb23d49e-09ed-4276-ac1a-d10c0dbd019d",
   "metadata": {},
   "outputs": [],
   "source": [
    "# Get original geometry\n",
    "low_coverage_og_geometry = (\n",
    "    all_routes[all_routes[\"long_route_name\"].isin(low_coverage_routes)]\n",
    ").reset_index(drop=True)"
   ]
  },
  {
   "cell_type": "code",
   "execution_count": 34,
   "id": "212cfd79-ab85-4d24-a062-53d483ea568d",
   "metadata": {},
   "outputs": [],
   "source": [
    "att_map = att.explore(\n",
    "    tiles=\"CartoDB positron\",\n",
    "    width=800,\n",
    "    height=500,\n",
    ")"
   ]
  },
  {
   "cell_type": "code",
   "execution_count": 35,
   "id": "4a0e6680-4ec9-4bf9-bec9-e6f7e19dd5ce",
   "metadata": {},
   "outputs": [],
   "source": [
    "att_map = low_coverage_og_geometry.explore(\"long_route_name\", m=att_map, legend=False)"
   ]
  },
  {
   "cell_type": "code",
   "execution_count": 36,
   "id": "be6123a7-1cf6-4165-a878-5ae964c9f839",
   "metadata": {},
   "outputs": [],
   "source": [
    "# att_map"
   ]
  }
 ],
 "metadata": {
  "kernelspec": {
   "display_name": "Python 3 (ipykernel)",
   "language": "python",
   "name": "python3"
  },
  "language_info": {
   "codemirror_mode": {
    "name": "ipython",
    "version": 3
   },
   "file_extension": ".py",
   "mimetype": "text/x-python",
   "name": "python",
   "nbconvert_exporter": "python",
   "pygments_lexer": "ipython3",
   "version": "3.9.13"
  }
 },
 "nbformat": 4,
 "nbformat_minor": 5
}
