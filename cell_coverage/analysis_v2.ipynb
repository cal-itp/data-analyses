{
 "cells": [
  {
   "cell_type": "markdown",
   "id": "c72db752-8725-4ee2-bb26-c37fbf8f3024",
   "metadata": {},
   "source": [
    "### Analysis V2\n"
   ]
  },
  {
   "cell_type": "code",
   "execution_count": null,
   "id": "72762925-7b30-46fa-aeba-68b1bd1036b2",
   "metadata": {},
   "outputs": [],
   "source": [
    "import dask.dataframe as dd\n",
    "import dask_geopandas as dg\n",
    "import geopandas as gpd\n",
    "import numpy as np\n",
    "import pandas as pd\n",
    "import shapely.wkt\n",
    "import A1_provider_prep\n",
    "import A2_analysis\n",
    "from calitp.sql import to_snakecase\n",
    "from shared_utils import geography_utils, utils"
   ]
  },
  {
   "cell_type": "code",
   "execution_count": null,
   "id": "db7798bd-9734-48a0-ad9a-40268e23f801",
   "metadata": {},
   "outputs": [],
   "source": [
    "pd.options.display.max_columns = 100\n",
    "pd.options.display.float_format = \"{:.2f}\".format\n",
    "pd.set_option(\"display.max_rows\", None)\n",
    "pd.set_option(\"display.max_colwidth\", None)"
   ]
  },
  {
   "cell_type": "markdown",
   "id": "39eafaf1-c6cb-4601-b685-8a4a9baf1a92",
   "metadata": {},
   "source": [
    "### Load Provider Maps"
   ]
  },
  {
   "cell_type": "code",
   "execution_count": null,
   "id": "198fd484-2a95-4be8-b911-2f24b7126991",
   "metadata": {},
   "outputs": [],
   "source": [
    "# Simple Version\n",
    "verizon_simple, att_simple, tmobile_simple = A1_provider_prep.simplify_geometry_all_providers()"
   ]
  },
  {
   "cell_type": "code",
   "execution_count": null,
   "id": "2f9bb256-aeb9-42a6-ba86-d3bd81d854b9",
   "metadata": {},
   "outputs": [],
   "source": [
    "# Geometries are true across each gdf\n",
    "# verizon_simple.geometry.is_valid.all(), att_simple.geometry.is_valid.all(), tmobile_simple.geometry.is_valid.all(),"
   ]
  },
  {
   "cell_type": "code",
   "execution_count": null,
   "id": "359b82dd-5eae-4660-828b-9a371d00b645",
   "metadata": {},
   "outputs": [],
   "source": [
    "att_og = A1_provider_prep.load_att()\n",
    "tmobile_og = A1_provider_prep.load_tmobile()"
   ]
  },
  {
   "cell_type": "code",
   "execution_count": null,
   "id": "88cee961-8139-494f-b67a-8e6544847256",
   "metadata": {},
   "outputs": [],
   "source": [
    "# Geometries are true across each gdf\n",
    "# verizon_og.geometry.is_valid.all(), att_og.geometry.is_valid.all(), tmobile_og.geometry.is_valid.all(),"
   ]
  },
  {
   "cell_type": "code",
   "execution_count": null,
   "id": "69f573b6-44fe-433c-9281-c436b4d90ec5",
   "metadata": {},
   "outputs": [],
   "source": [
    "unique_routes = A2_analysis.load_unique_routes_df()"
   ]
  },
  {
   "cell_type": "code",
   "execution_count": null,
   "id": "5326f3d1-f1c4-4b1e-b8e6-0c4e97ba2f01",
   "metadata": {},
   "outputs": [],
   "source": [
    "# Ensure CRS are the same\n",
    "unique_routes.crs == att_simple.crs == tmobile_simple.crs == verizon_simple.crs"
   ]
  },
  {
   "cell_type": "code",
   "execution_count": null,
   "id": "29c5f228-82d9-4358-99c3-9b756a755c0a",
   "metadata": {},
   "outputs": [],
   "source": [
    "def split_routes():\n",
    "    unique_routes = A2_analysis.load_unique_routes_df()\n",
    "    # Split unique_routes to 4 different ones\n",
    "    # https://stackoverflow.com/questions/17315737/split-a-large-pandas-dataframe\n",
    "    df_split = np.array_split(unique_routes, 4)\n",
    "    \n",
    "    df1 = df_split[0]\n",
    "    df2 = df_split[1]\n",
    "    df3 = df_split[2]\n",
    "    df4 = df_split[3]\n",
    "    \n",
    "    return df1,df2,df3,df4"
   ]
  },
  {
   "cell_type": "code",
   "execution_count": null,
   "id": "3e411bca-c3be-4869-a8b7-7d0e3463483b",
   "metadata": {},
   "outputs": [],
   "source": [
    "r1,r2,r3,r4 = split_routes()"
   ]
  },
  {
   "cell_type": "markdown",
   "id": "800e6799-0f2b-42e7-a239-91681eef5b31",
   "metadata": {
    "tags": []
   },
   "source": [
    "### Notes\n",
    "* Verizon_simple does not work with `comparison.` Around 500 routes are passed when using `overlay_single_routes`.\n",
    "* Verizon_og does not work. Returns the error: `TopologyException: side location conflict at -122.30299999995003 37.938999999750251. This can occur if the input geometry is invalid.`\n",
    "* Both gdf returns `true` when `.geometry.is_valid.all()` is applied to them."
   ]
  },
  {
   "cell_type": "code",
   "execution_count": null,
   "id": "b2866824-8084-409e-9b9e-c43af0848002",
   "metadata": {
    "scrolled": true,
    "tags": []
   },
   "outputs": [],
   "source": [
    "# TopologyException: side location conflict at -122.30299999995003 37.938999999750251. This can occur if the input geometry is invalid.\n",
    "# verizon_o = utilities.comparison(verizon_og, unique_routes, \"verizon_simplified\")"
   ]
  },
  {
   "cell_type": "code",
   "execution_count": null,
   "id": "ca26e30f-b76a-4c8a-b37a-bafd45b2e4ae",
   "metadata": {
    "tags": []
   },
   "outputs": [],
   "source": [
    "# verizon_o = utilities.comparison(verizon_og, unique_routes, \"verizon\")"
   ]
  },
  {
   "cell_type": "markdown",
   "id": "35a31cf3-1474-4f6b-b29e-b2d7d1155ecb",
   "metadata": {},
   "source": [
    "### Function Ideas\n",
    "* Other Function should:\n",
    "    * Drop Duplicates\n",
    "    * Sum up new route length by long route name\n",
    "    * Find max of original route length\n",
    "    * Divide new route length by original to get percentage covered. \n",
    "    * Del irrelevant columns\n",
    "    * Does it have to be a gdf at this point or can it just be a normal dataframe?\n",
    "* Now if something has a low percentage of intersecting: that is a good sign? \n",
    "* Maps only contain areas *without* coverage. So if it only intersects a little, means route mostly has coverage?"
   ]
  },
  {
   "cell_type": "code",
   "execution_count": null,
   "id": "86d37e80-e1ed-4938-8a6b-e922cca64bfe",
   "metadata": {},
   "outputs": [],
   "source": [
    "att_overlay = A2_analysis.comparison(att_og, r1, \"att_r1\")"
   ]
  },
  {
   "cell_type": "code",
   "execution_count": null,
   "id": "824ee414-665a-4c52-95aa-d13d9337b932",
   "metadata": {},
   "outputs": [],
   "source": [
    "tmobile_overlay = gpd.read_parquet(\n",
    "    f\"{A1_provider_prep.GCS_FILE_PATH}tmobile_simplified_overlaid_with_unique_routes.parquet\"\n",
    ")"
   ]
  },
  {
   "cell_type": "code",
   "execution_count": null,
   "id": "b00eb1c9-cd32-4ed5-a5e2-0053d2cdf392",
   "metadata": {},
   "outputs": [],
   "source": [
    "tmobile_agg = A2_analysis.dissolve_summarize(tmobile_overlay)"
   ]
  },
  {
   "cell_type": "code",
   "execution_count": null,
   "id": "64f3ca09-02e4-431b-aeec-1efa1f983913",
   "metadata": {},
   "outputs": [],
   "source": [
    "# att_agg[att_agg.agency == 'AC Transit'][['agency','long_route_name','percentage_route_covered']]"
   ]
  },
  {
   "cell_type": "code",
   "execution_count": null,
   "id": "4a8c8aa3-4f04-4f1a-ae0a-258114f623e2",
   "metadata": {},
   "outputs": [],
   "source": [
    "len(tmobile_agg), tmobile_agg.long_route_name.nunique()"
   ]
  },
  {
   "cell_type": "code",
   "execution_count": null,
   "id": "d1ad4553-e1f0-4b37-8f78-b70442273540",
   "metadata": {
    "scrolled": true,
    "tags": []
   },
   "outputs": [],
   "source": [
    "ac_transit_only = tmobile_agg[tmobile_agg.agency == 'AC Transit']"
   ]
  },
  {
   "cell_type": "code",
   "execution_count": null,
   "id": "f86bf50a-cbd6-4eb0-9eec-2209a77958c9",
   "metadata": {
    "tags": []
   },
   "outputs": [],
   "source": [
    "\"\"\"\n",
    "ac_transit_only.explore('long_route_name',\n",
    "               width=800,\n",
    "    height=400,\n",
    "    style_kwds={\"weight\": 6},\n",
    "    legend=False,\n",
    "    color=\"tab10c\",)\n",
    "\"\"\""
   ]
  }
 ],
 "metadata": {
  "kernelspec": {
   "display_name": "Python 3 (ipykernel)",
   "language": "python",
   "name": "python3"
  },
  "language_info": {
   "codemirror_mode": {
    "name": "ipython",
    "version": 3
   },
   "file_extension": ".py",
   "mimetype": "text/x-python",
   "name": "python",
   "nbconvert_exporter": "python",
   "pygments_lexer": "ipython3",
   "version": "3.9.13"
  }
 },
 "nbformat": 4,
 "nbformat_minor": 5
}
