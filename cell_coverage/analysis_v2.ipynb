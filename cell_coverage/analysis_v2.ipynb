{
 "cells": [
  {
   "cell_type": "markdown",
   "id": "c72db752-8725-4ee2-bb26-c37fbf8f3024",
   "metadata": {},
   "source": [
    "### Analysis V2\n",
    "* AT&T and Verizon maps are done. \n",
    "* While being blocked with T-Mobile, I wanted to just check out how `utilities.load_unique_routes_df()` would work against the two finished maps. \n",
    "* Unfortunately I am blocked...Although testing  a few areas/routes with AT&T's map worked in the `multi_county_test.ipynb` file worked well, I ran into errors while working with certain routes\n",
    "    * See section with HELP!"
   ]
  },
  {
   "cell_type": "code",
   "execution_count": 1,
   "id": "72762925-7b30-46fa-aeba-68b1bd1036b2",
   "metadata": {},
   "outputs": [
    {
     "name": "stderr",
     "output_type": "stream",
     "text": [
      "/opt/conda/lib/python3.9/site-packages/geopandas/_compat.py:123: UserWarning: The Shapely GEOS version (3.10.3-CAPI-1.16.1) is incompatible with the GEOS version PyGEOS was compiled with (3.10.1-CAPI-1.16.0). Conversions between both will be slow.\n",
      "  warnings.warn(\n"
     ]
    }
   ],
   "source": [
    "import dask.dataframe as dd\n",
    "import dask_geopandas as dg\n",
    "import numpy as np\n",
    "import geopandas as gpd\n",
    "import pandas as pd\n",
    "import shapely.wkt\n",
    "import utilities\n",
    "from calitp import *\n",
    "from shared_utils import geography_utils, utils"
   ]
  },
  {
   "cell_type": "markdown",
   "id": "01e4a777-4bb2-461c-bd4c-a11553e2eccd",
   "metadata": {},
   "source": [
    "### Load in Provider Maps"
   ]
  },
  {
   "cell_type": "code",
   "execution_count": 2,
   "id": "eaa256eb-1f10-47d4-8fd4-5ff08332760a",
   "metadata": {},
   "outputs": [],
   "source": [
    "verizon = utilities.load_verizon()"
   ]
  },
  {
   "cell_type": "code",
   "execution_count": 3,
   "id": "5e8a8388-7e55-4c77-8c75-a51f4527aa5b",
   "metadata": {},
   "outputs": [],
   "source": [
    "att = utilities.load_att()"
   ]
  },
  {
   "cell_type": "code",
   "execution_count": 4,
   "id": "198fd484-2a95-4be8-b911-2f24b7126991",
   "metadata": {},
   "outputs": [],
   "source": [
    "tmobile = utilities.load_tmobile()"
   ]
  },
  {
   "cell_type": "code",
   "execution_count": 5,
   "id": "9c18467b-0977-4757-853f-2ac60b9975a6",
   "metadata": {},
   "outputs": [],
   "source": [
    "# Test simplify the geometry\n",
    "# att2 = att.copy()\n",
    "# att2[\"geometry\"] = att2.geometry.simplify(tolerance=25)"
   ]
  },
  {
   "cell_type": "code",
   "execution_count": 6,
   "id": "2f9bb256-aeb9-42a6-ba86-d3bd81d854b9",
   "metadata": {},
   "outputs": [],
   "source": [
    "# Geometries are true across each gdf\n",
    "# verizon.geometry.is_valid.all(), att.geometry.is_valid.all(),tmobile.geometry.is_valid.all(), "
   ]
  },
  {
   "cell_type": "markdown",
   "id": "fdea5364-3ffe-4686-aeb3-a3a698c6e10b",
   "metadata": {},
   "source": [
    "### Load in Routes "
   ]
  },
  {
   "cell_type": "code",
   "execution_count": 7,
   "id": "69f573b6-44fe-433c-9281-c436b4d90ec5",
   "metadata": {},
   "outputs": [],
   "source": [
    "unique_routes = utilities.load_unique_routes_df()"
   ]
  },
  {
   "cell_type": "code",
   "execution_count": 8,
   "id": "1eb66e84-1d19-4cdc-b0cf-c01e7afc76b5",
   "metadata": {},
   "outputs": [
    {
     "data": {
      "text/plain": [
       "2829"
      ]
     },
     "execution_count": 8,
     "metadata": {},
     "output_type": "execute_result"
    }
   ],
   "source": [
    "len(unique_routes)"
   ]
  },
  {
   "cell_type": "code",
   "execution_count": 9,
   "id": "5326f3d1-f1c4-4b1e-b8e6-0c4e97ba2f01",
   "metadata": {},
   "outputs": [
    {
     "data": {
      "text/plain": [
       "True"
      ]
     },
     "execution_count": 9,
     "metadata": {},
     "output_type": "execute_result"
    }
   ],
   "source": [
    "# Ensure CRS are the same\n",
    "unique_routes.crs == att.crs == verizon.crs == tmobile.crs"
   ]
  },
  {
   "cell_type": "markdown",
   "id": "933dcbd0-9126-4cd8-ace9-c57e1f878b56",
   "metadata": {},
   "source": [
    "#### Help! \n",
    "* Verizon doesn't work with any rouets: \"# TypeError: `keep_geom_type` does not support GeometryCollection.\"\n",
    "* Getting an error when using the `att2` gdf which simplifies geometry.\n",
    "    * `TopologyException: Input geom 1 is invalid: Hole lies outside shell at -124.1036 40.437482000000003`\n",
    "    *  Works fine with original att df.\n",
    "* Certain routes like 'Sacramento 569  Amador Regional Transit System' and 'Upcountry 570  Amador Regional Transit System', cause errors "
   ]
  },
  {
   "cell_type": "code",
   "execution_count": 10,
   "id": "bacbb224-c455-4bca-b148-f8fbf7c5acd5",
   "metadata": {},
   "outputs": [],
   "source": [
    "# Routes from analysis v1 that didn't make sense\n",
    "routes_wanted = [\n",
    "    \"Edmund D. Edelman Children’s Court Shuttle\",\n",
    "    \"Oakland - San Francisco\",\n",
    "    \"Foster City - Hillsdale Mall\",\n",
    "    \"24 hour service daily\",\n",
    "    \"Mammoth Lakes HWY 120E/395\",\n",
    "    \"Avocado Heights/Bassett/West Valinda Shuttle\",\n",
    "    \"Long Beach/San Pedro\"\n",
    "]"
   ]
  },
  {
   "cell_type": "code",
   "execution_count": null,
   "id": "dcb7ad9d-27e1-47a7-9d8f-8031f9ff2bab",
   "metadata": {
    "scrolled": true,
    "tags": []
   },
   "outputs": [],
   "source": [
    "# Doesn't work with geometry simplify?\n",
    "# intersect_subset2 = gpd.overlay(unique_routes_subset, att2, how=\"intersection\")"
   ]
  },
  {
   "cell_type": "code",
   "execution_count": 11,
   "id": "82bc117f-1574-4220-913b-55b9b0c80016",
   "metadata": {},
   "outputs": [],
   "source": [
    "unique_routes_subset = unique_routes[unique_routes[\"route_name\"].isin(routes_wanted)]"
   ]
  },
  {
   "cell_type": "code",
   "execution_count": null,
   "id": "b00b72b9-adda-4e44-aaec-510df4c7d87e",
   "metadata": {},
   "outputs": [],
   "source": [
    "# intersect_att = gpd.overlay(att, unique_routes_subset, how=\"intersection\")"
   ]
  },
  {
   "cell_type": "code",
   "execution_count": null,
   "id": "08678a1c-f313-4cdf-8175-a60c61546caa",
   "metadata": {},
   "outputs": [],
   "source": [
    "# intersect_tmobile = gpd.overlay(tmobile, unique_routes_subset, how=\"intersection\")"
   ]
  },
  {
   "cell_type": "code",
   "execution_count": null,
   "id": "3e60b197-19bd-477a-ba36-e01026352e3b",
   "metadata": {},
   "outputs": [],
   "source": [
    "# TypeError: `keep_geom_type` does not support GeometryCollection.\n",
    "# intersect_verizon = gpd.overlay(verizon, unique_routes_subset, how=\"intersection\")"
   ]
  },
  {
   "cell_type": "code",
   "execution_count": 20,
   "id": "d09ea0ed-a843-4ba1-bc71-5f9e98a6e4da",
   "metadata": {},
   "outputs": [],
   "source": [
    "problematic_route = unique_routes[unique_routes[\"long_route_name\"] == 'Sacramento 569  Amador Regional Transit System']"
   ]
  },
  {
   "cell_type": "code",
   "execution_count": 26,
   "id": "8bbfaed3-0eff-4459-a2d1-6f90dfce2243",
   "metadata": {},
   "outputs": [],
   "source": [
    "test_att1 =  gpd.overlay(att, problematic_route, how=\"intersection\", keep_geom_type = False)"
   ]
  },
  {
   "cell_type": "code",
   "execution_count": 30,
   "id": "1f68b437-1a8e-44a4-96a4-699e7724f2cc",
   "metadata": {},
   "outputs": [],
   "source": [
    "problematic_route2 = unique_routes[unique_routes[\"long_route_name\"] == 'Upcountry 570  Amador Regional Transit System']"
   ]
  },
  {
   "cell_type": "code",
   "execution_count": 31,
   "id": "9dfd7ed6-d6fc-45fb-b347-d0d5b588d767",
   "metadata": {},
   "outputs": [],
   "source": [
    "test_att2 =  gpd.overlay(att, problematic_route2, how=\"intersection\", keep_geom_type = False)"
   ]
  },
  {
   "cell_type": "code",
   "execution_count": 35,
   "id": "40dd7f5d-3456-4629-88a6-4b5c05748640",
   "metadata": {},
   "outputs": [
    {
     "data": {
      "text/html": [
       "<div>\n",
       "<style scoped>\n",
       "    .dataframe tbody tr th:only-of-type {\n",
       "        vertical-align: middle;\n",
       "    }\n",
       "\n",
       "    .dataframe tbody tr th {\n",
       "        vertical-align: top;\n",
       "    }\n",
       "\n",
       "    .dataframe thead th {\n",
       "        text-align: right;\n",
       "    }\n",
       "</style>\n",
       "<table border=\"1\" class=\"dataframe\">\n",
       "  <thead>\n",
       "    <tr style=\"text-align: right;\">\n",
       "      <th></th>\n",
       "      <th>itp_id</th>\n",
       "      <th>route_id</th>\n",
       "      <th>route_name</th>\n",
       "      <th>agency</th>\n",
       "      <th>original_route_length</th>\n",
       "      <th>long_route_name</th>\n",
       "      <th>geometry</th>\n",
       "      <th>route_length</th>\n",
       "    </tr>\n",
       "  </thead>\n",
       "  <tbody>\n",
       "    <tr>\n",
       "      <th>0</th>\n",
       "      <td>11</td>\n",
       "      <td>570</td>\n",
       "      <td>Upcountry</td>\n",
       "      <td>Amador Regional Transit System</td>\n",
       "      <td>165618.801194</td>\n",
       "      <td>Upcountry 570  Amador Regional Transit System</td>\n",
       "      <td>MULTILINESTRING ((-120.71725 38.36664, -120.71...</td>\n",
       "      <td>41914.614246</td>\n",
       "    </tr>\n",
       "    <tr>\n",
       "      <th>1</th>\n",
       "      <td>11</td>\n",
       "      <td>570</td>\n",
       "      <td>Upcountry</td>\n",
       "      <td>Amador Regional Transit System</td>\n",
       "      <td>165618.801194</td>\n",
       "      <td>Upcountry 570  Amador Regional Transit System</td>\n",
       "      <td>MULTILINESTRING ((-120.51198 38.49178, -120.51...</td>\n",
       "      <td>139843.420436</td>\n",
       "    </tr>\n",
       "    <tr>\n",
       "      <th>2</th>\n",
       "      <td>11</td>\n",
       "      <td>570</td>\n",
       "      <td>Upcountry</td>\n",
       "      <td>Amador Regional Transit System</td>\n",
       "      <td>165618.801194</td>\n",
       "      <td>Upcountry 570  Amador Regional Transit System</td>\n",
       "      <td>MULTILINESTRING ((-120.71725 38.36664, -120.71...</td>\n",
       "      <td>41914.614246</td>\n",
       "    </tr>\n",
       "    <tr>\n",
       "      <th>3</th>\n",
       "      <td>11</td>\n",
       "      <td>570</td>\n",
       "      <td>Upcountry</td>\n",
       "      <td>Amador Regional Transit System</td>\n",
       "      <td>165618.801194</td>\n",
       "      <td>Upcountry 570  Amador Regional Transit System</td>\n",
       "      <td>MULTILINESTRING ((-120.51198 38.49178, -120.51...</td>\n",
       "      <td>97928.806190</td>\n",
       "    </tr>\n",
       "    <tr>\n",
       "      <th>4</th>\n",
       "      <td>11</td>\n",
       "      <td>570</td>\n",
       "      <td>Upcountry</td>\n",
       "      <td>Amador Regional Transit System</td>\n",
       "      <td>165618.801194</td>\n",
       "      <td>Upcountry 570  Amador Regional Transit System</td>\n",
       "      <td>MULTILINESTRING ((-120.51198 38.49178, -120.51...</td>\n",
       "      <td>97928.806190</td>\n",
       "    </tr>\n",
       "  </tbody>\n",
       "</table>\n",
       "</div>"
      ],
      "text/plain": [
       "   itp_id route_id route_name                          agency  \\\n",
       "0      11      570  Upcountry  Amador Regional Transit System   \n",
       "1      11      570  Upcountry  Amador Regional Transit System   \n",
       "2      11      570  Upcountry  Amador Regional Transit System   \n",
       "3      11      570  Upcountry  Amador Regional Transit System   \n",
       "4      11      570  Upcountry  Amador Regional Transit System   \n",
       "\n",
       "   original_route_length                                long_route_name  \\\n",
       "0          165618.801194  Upcountry 570  Amador Regional Transit System   \n",
       "1          165618.801194  Upcountry 570  Amador Regional Transit System   \n",
       "2          165618.801194  Upcountry 570  Amador Regional Transit System   \n",
       "3          165618.801194  Upcountry 570  Amador Regional Transit System   \n",
       "4          165618.801194  Upcountry 570  Amador Regional Transit System   \n",
       "\n",
       "                                            geometry   route_length  \n",
       "0  MULTILINESTRING ((-120.71725 38.36664, -120.71...   41914.614246  \n",
       "1  MULTILINESTRING ((-120.51198 38.49178, -120.51...  139843.420436  \n",
       "2  MULTILINESTRING ((-120.71725 38.36664, -120.71...   41914.614246  \n",
       "3  MULTILINESTRING ((-120.51198 38.49178, -120.51...   97928.806190  \n",
       "4  MULTILINESTRING ((-120.51198 38.49178, -120.51...   97928.806190  "
      ]
     },
     "execution_count": 35,
     "metadata": {},
     "output_type": "execute_result"
    }
   ],
   "source": [
    "test_att2.assign(\n",
    "        route_length=test_att2.geometry.to_crs(geography_utils.CA_StatePlane).length\n",
    "    )"
   ]
  },
  {
   "cell_type": "code",
   "execution_count": 33,
   "id": "1a2cb3c5-ba22-4d21-a030-8c668ed44afb",
   "metadata": {},
   "outputs": [
    {
     "data": {
      "text/html": [
       "<div>\n",
       "<style scoped>\n",
       "    .dataframe tbody tr th:only-of-type {\n",
       "        vertical-align: middle;\n",
       "    }\n",
       "\n",
       "    .dataframe tbody tr th {\n",
       "        vertical-align: top;\n",
       "    }\n",
       "\n",
       "    .dataframe thead th {\n",
       "        text-align: right;\n",
       "    }\n",
       "</style>\n",
       "<table border=\"1\" class=\"dataframe\">\n",
       "  <thead>\n",
       "    <tr style=\"text-align: right;\">\n",
       "      <th></th>\n",
       "      <th>itp_id</th>\n",
       "      <th>route_id</th>\n",
       "      <th>route_name</th>\n",
       "      <th>agency</th>\n",
       "      <th>original_route_length</th>\n",
       "      <th>long_route_name</th>\n",
       "      <th>geometry</th>\n",
       "    </tr>\n",
       "  </thead>\n",
       "  <tbody>\n",
       "  </tbody>\n",
       "</table>\n",
       "</div>"
      ],
      "text/plain": [
       "Empty GeoDataFrame\n",
       "Columns: [itp_id, route_id, route_name, agency, original_route_length, long_route_name, geometry]\n",
       "Index: []"
      ]
     },
     "execution_count": 33,
     "metadata": {},
     "output_type": "execute_result"
    }
   ],
   "source": [
    "gpd.overlay(att, problematic_route2, how=\"intersection\", keep_geom_type = True)"
   ]
  },
  {
   "cell_type": "code",
   "execution_count": null,
   "id": "29c5f228-82d9-4358-99c3-9b756a755c0a",
   "metadata": {},
   "outputs": [],
   "source": [
    "def split_routes():\n",
    "    unique_routes = utilities.load_unique_routes_df()\n",
    "    # Split unique_routes to 4 different ones\n",
    "    # https://stackoverflow.com/questions/17315737/split-a-large-pandas-dataframe\n",
    "    df_split = np.array_split(unique_routes, 4)\n",
    "    \n",
    "    df1 = df_split[0]\n",
    "    df2 = df_split[1]\n",
    "    df3 = df_split[2]\n",
    "    df4 = df_split[3]\n",
    "    \n",
    "    return df1,df2,df3,df4\n"
   ]
  },
  {
   "cell_type": "code",
   "execution_count": null,
   "id": "92633b2d-3ad8-4a4e-9a52-dca101c03724",
   "metadata": {},
   "outputs": [],
   "source": [
    "routes1,routes2,routes3,routes4 = split_routes()"
   ]
  },
  {
   "cell_type": "code",
   "execution_count": null,
   "id": "b40a9325-9605-476b-a2d2-07214e2f0ab8",
   "metadata": {
    "scrolled": true,
    "tags": []
   },
   "outputs": [],
   "source": [
    "def overlay_provider_unique_routes(provider: gpd.GeoDataFrame, \n",
    "                                  routes: gpd.GeoDataFrame,\n",
    "                                  provider_name:str):\n",
    "    \n",
    "    # Empty dataframe to hold results\n",
    "    all_intersected_routes = pd.DataFrame()\n",
    "    \n",
    "    # List of long route names\n",
    "    unique_routes_list = routes.long_route_name.unique().tolist()\n",
    "    \n",
    "    # Intersect route by route, skipping those that don't work\n",
    "    for i in unique_routes_list:\n",
    "        filtered  = routes[routes.long_route_name == i].reset_index(drop=True)\n",
    "        try: \n",
    "            intersected = gpd.overlay(provider, filtered, how=\"intersection\", keep_geom_type = False)\n",
    "            all_intersected_routes  = pd.concat([all_intersected_routes, intersected], axis=0)\n",
    "        except: \n",
    "            pass \n",
    "            print(f\"Didn't work: {i}\")\n",
    "    \n",
    "    # utils.geoparquet_gcs_export(intersected_routes, utilities.GCS_FILE_PATH, f\"{provider_name}_intersected_routes\")\n",
    "    \n",
    "    return all_intersected_routes"
   ]
  },
  {
   "cell_type": "code",
   "execution_count": null,
   "id": "a192dab6-525d-44c4-a6af-6b3aa451f282",
   "metadata": {},
   "outputs": [],
   "source": [
    "test_att = overlay_provider_unique_routes(att, routes1, 'att')"
   ]
  },
  {
   "cell_type": "code",
   "execution_count": null,
   "id": "4de27a80-724c-4f71-a58e-58bc09af13ac",
   "metadata": {},
   "outputs": [],
   "source": []
  }
 ],
 "metadata": {
  "kernelspec": {
   "display_name": "Python 3 (ipykernel)",
   "language": "python",
   "name": "python3"
  },
  "language_info": {
   "codemirror_mode": {
    "name": "ipython",
    "version": 3
   },
   "file_extension": ".py",
   "mimetype": "text/x-python",
   "name": "python",
   "nbconvert_exporter": "python",
   "pygments_lexer": "ipython3",
   "version": "3.9.13"
  }
 },
 "nbformat": 4,
 "nbformat_minor": 5
}
