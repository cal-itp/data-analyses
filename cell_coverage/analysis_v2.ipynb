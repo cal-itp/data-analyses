{
 "cells": [
  {
   "cell_type": "markdown",
   "id": "c72db752-8725-4ee2-bb26-c37fbf8f3024",
   "metadata": {},
   "source": [
    "### Analysis V2\n",
    "* AT&T and Verizon maps are done. \n",
    "* While being blocked with T-Mobile, I wanted to just check out how `utilities.load_unique_routes_df()` would work against the two finished maps. \n",
    "* Unfortunately I am blocked...Although testing  a few areas/routes with AT&T's map worked in the `multi_county_test.ipynb` file worked well, I ran into errors while working with certain routes\n",
    "    * See section with HELP!"
   ]
  },
  {
   "cell_type": "code",
   "execution_count": 1,
   "id": "72762925-7b30-46fa-aeba-68b1bd1036b2",
   "metadata": {},
   "outputs": [
    {
     "name": "stderr",
     "output_type": "stream",
     "text": [
      "/opt/conda/lib/python3.9/site-packages/geopandas/_compat.py:123: UserWarning: The Shapely GEOS version (3.10.3-CAPI-1.16.1) is incompatible with the GEOS version PyGEOS was compiled with (3.10.1-CAPI-1.16.0). Conversions between both will be slow.\n",
      "  warnings.warn(\n"
     ]
    }
   ],
   "source": [
    "import dask.dataframe as dd\n",
    "import dask_geopandas as dg\n",
    "import numpy as np\n",
    "import geopandas as gpd\n",
    "import pandas as pd\n",
    "import shapely.wkt\n",
    "import utilities\n",
    "from calitp import *\n",
    "from shared_utils import geography_utils, utils"
   ]
  },
  {
   "cell_type": "markdown",
   "id": "01e4a777-4bb2-461c-bd4c-a11553e2eccd",
   "metadata": {},
   "source": [
    "### Load in Provider Maps\n",
    "* These maps contain areas that *do not* have data coverage by providers. \n",
    "* Testing with AT&T since it seems to be the most reliable."
   ]
  },
  {
   "cell_type": "code",
   "execution_count": 2,
   "id": "fbc4b617-cd58-4653-b561-bd64576db411",
   "metadata": {},
   "outputs": [],
   "source": [
    "# verizon = gpd.read_parquet( \"gs://calitp-analytics-data/data-analyses/cellular_coverage/verizon_all_counties.parquet\")"
   ]
  },
  {
   "cell_type": "code",
   "execution_count": 3,
   "id": "5e8a8388-7e55-4c77-8c75-a51f4527aa5b",
   "metadata": {},
   "outputs": [],
   "source": [
    "att = gpd.read_parquet(\"gs://calitp-analytics-data/data-analyses/cellular_coverage/att_all_counties.parquet\")"
   ]
  },
  {
   "cell_type": "code",
   "execution_count": 4,
   "id": "a058d287-748e-4265-ad27-058a0e6af033",
   "metadata": {},
   "outputs": [],
   "source": [
    "# tmobile = gpd.read_parquet(\"gs://calitp-analytics-data/data-analyses/cellular_coverage/tmobile_no_coverage_complete_CA.parquet\")"
   ]
  },
  {
   "cell_type": "code",
   "execution_count": 5,
   "id": "2f9bb256-aeb9-42a6-ba86-d3bd81d854b9",
   "metadata": {},
   "outputs": [],
   "source": [
    "# verizon.geometry.is_valid.all(), att.geometry.is_valid.all(),tmobile.geometry.is_valid.all(), "
   ]
  },
  {
   "cell_type": "code",
   "execution_count": 6,
   "id": "8fc7c712-b81d-4600-ab77-5aa2a8ccfabf",
   "metadata": {},
   "outputs": [],
   "source": [
    "# Make a copy of ATT for testing\n",
    "# att2 = att.copy()"
   ]
  },
  {
   "cell_type": "code",
   "execution_count": 7,
   "id": "89f89af3-ec12-4c51-9541-34e49decfbc8",
   "metadata": {},
   "outputs": [],
   "source": [
    "# Simplify the geometry\n",
    "# att2[\"geometry\"] = att2.geometry.simplify(tolerance=25)"
   ]
  },
  {
   "cell_type": "code",
   "execution_count": 8,
   "id": "bb17c5ae-1ca2-49ce-ad98-78653ee6e2b1",
   "metadata": {},
   "outputs": [],
   "source": [
    "# att2.shape"
   ]
  },
  {
   "cell_type": "markdown",
   "id": "fdea5364-3ffe-4686-aeb3-a3a698c6e10b",
   "metadata": {},
   "source": [
    "### Load in Routes "
   ]
  },
  {
   "cell_type": "code",
   "execution_count": 9,
   "id": "69f573b6-44fe-433c-9281-c436b4d90ec5",
   "metadata": {},
   "outputs": [],
   "source": [
    "unique_routes = utilities.load_unique_routes_df()"
   ]
  },
  {
   "cell_type": "code",
   "execution_count": 10,
   "id": "4c0b23de-b2ad-4a1a-ab15-5dfb1f1584d6",
   "metadata": {},
   "outputs": [
    {
     "data": {
      "text/plain": [
       "geopandas.geodataframe.GeoDataFrame"
      ]
     },
     "execution_count": 10,
     "metadata": {},
     "output_type": "execute_result"
    }
   ],
   "source": [
    "type(unique_routes)"
   ]
  },
  {
   "cell_type": "code",
   "execution_count": 11,
   "id": "1eb66e84-1d19-4cdc-b0cf-c01e7afc76b5",
   "metadata": {},
   "outputs": [
    {
     "data": {
      "text/plain": [
       "2829"
      ]
     },
     "execution_count": 11,
     "metadata": {},
     "output_type": "execute_result"
    }
   ],
   "source": [
    "len(unique_routes)"
   ]
  },
  {
   "cell_type": "code",
   "execution_count": null,
   "id": "5326f3d1-f1c4-4b1e-b8e6-0c4e97ba2f01",
   "metadata": {},
   "outputs": [],
   "source": [
    "# Ensure CRS are the same\n",
    "unique_routes = unique_routes.to_crs(att.crs)"
   ]
  },
  {
   "cell_type": "code",
   "execution_count": null,
   "id": "5618b622-2b97-4f88-a31e-9abb9f954b08",
   "metadata": {},
   "outputs": [],
   "source": [
    "# B/c route names and route ids can be the same across different agencies,\n",
    "# Add these 3 different columns so the route will have a unique identifier.\n",
    "# Just in case I want to loop through everything\n",
    "# unique_routes['long_route_name'] = unique_routes['route_name'] + ' ' + unique_routes['route_id'] + ' '  + ' ' + unique_routes['agency']"
   ]
  },
  {
   "cell_type": "code",
   "execution_count": null,
   "id": "3721d9ed-9f26-418f-8b0f-a07bb63406d2",
   "metadata": {},
   "outputs": [],
   "source": [
    "unique_routes.long_route_name.nunique() == len(unique_routes) "
   ]
  },
  {
   "cell_type": "code",
   "execution_count": null,
   "id": "dba5e7b2-0b4a-48e9-a593-1654192d2d84",
   "metadata": {},
   "outputs": [],
   "source": [
    "len(unique_routes)"
   ]
  },
  {
   "cell_type": "markdown",
   "id": "933dcbd0-9126-4cd8-ace9-c57e1f878b56",
   "metadata": {},
   "source": [
    "#### Testing with certain routes - Help! \n",
    "* Chose routes that gave me issues the first time around\n",
    "* Getting an error when using the `att2` gdf which simplifies geometry.\n",
    "    * `TopologyException: Input geom 1 is invalid: Hole lies outside shell at -124.1036 40.437482000000003`\n",
    "    *  Works fine with original att df."
   ]
  },
  {
   "cell_type": "code",
   "execution_count": null,
   "id": "bacbb224-c455-4bca-b148-f8fbf7c5acd5",
   "metadata": {},
   "outputs": [],
   "source": [
    "# Routes from analysis v1 that didn't make sense\n",
    "routes_wanted = [\n",
    "    \"Edmund D. Edelman Children’s Court Shuttle\",\n",
    "    \"Oakland - San Francisco\",\n",
    "    \"Foster City - Hillsdale Mall\",\n",
    "    \"24 hour service daily\",\n",
    "    \"Mammoth Lakes HWY 120E/395\",\n",
    "    \"Avocado Heights/Bassett/West Valinda Shuttle\",\n",
    "    \"Long Beach/San Pedro\"\n",
    "]"
   ]
  },
  {
   "cell_type": "code",
   "execution_count": null,
   "id": "82bc117f-1574-4220-913b-55b9b0c80016",
   "metadata": {},
   "outputs": [],
   "source": [
    "unique_routes_subset = unique_routes[unique_routes[\"route_name\"].isin(routes_wanted)]"
   ]
  },
  {
   "cell_type": "code",
   "execution_count": null,
   "id": "e9c9010d-9c57-4ab8-ba1e-e65536390a1c",
   "metadata": {
    "scrolled": true,
    "tags": []
   },
   "outputs": [],
   "source": [
    "# Testing with original AT&T dataframe without simplifying geometry\n",
    "# intersect_subset1 = gpd.overlay(unique_routes_subset, att, how=\"intersection\")"
   ]
  },
  {
   "cell_type": "code",
   "execution_count": null,
   "id": "c8b1e3c7-c5f2-4e2d-a052-6436c5dedddf",
   "metadata": {},
   "outputs": [],
   "source": [
    "# intersect_subset1"
   ]
  },
  {
   "cell_type": "code",
   "execution_count": null,
   "id": "dcb7ad9d-27e1-47a7-9d8f-8031f9ff2bab",
   "metadata": {
    "scrolled": true,
    "tags": []
   },
   "outputs": [],
   "source": [
    "# Doesn't work with geometry simplify?\n",
    "# intersect_subset2 = gpd.overlay(unique_routes_subset, att2, how=\"intersection\")"
   ]
  },
  {
   "cell_type": "code",
   "execution_count": null,
   "id": "8c0a693b-c881-456c-a8b2-47550c5eb4eb",
   "metadata": {},
   "outputs": [],
   "source": [
    "unique_routes_sample = unique_routes.sample(10).reset_index()"
   ]
  },
  {
   "cell_type": "code",
   "execution_count": null,
   "id": "babfbf1c-927d-4cb1-b4af-f78d1f7cfae2",
   "metadata": {},
   "outputs": [],
   "source": [
    "unique_routes_sample.shape"
   ]
  },
  {
   "cell_type": "code",
   "execution_count": null,
   "id": "86706033-6121-4b10-bae0-04afda9910a2",
   "metadata": {},
   "outputs": [],
   "source": [
    "# Grab unique long route names for entire routes_df into a list\n",
    "unique_routes_names_list = unique_routes_sample.long_route_name.unique().tolist()"
   ]
  },
  {
   "cell_type": "code",
   "execution_count": null,
   "id": "93107f0c-635b-423e-8663-f95403bb13e4",
   "metadata": {},
   "outputs": [],
   "source": [
    "unique_routes_sample.plot()"
   ]
  },
  {
   "cell_type": "code",
   "execution_count": null,
   "id": "7cc7b248-ea8b-4249-9b61-2fc476498af0",
   "metadata": {},
   "outputs": [],
   "source": [
    "# Empty dataframe to hold each district after clipping\n",
    "all_intersected_routes = pd.DataFrame()"
   ]
  },
  {
   "cell_type": "code",
   "execution_count": null,
   "id": "e6feb74f-26f6-4939-9284-6a26b4efe3c6",
   "metadata": {
    "tags": []
   },
   "outputs": [],
   "source": [
    "# Test with subsetted unique routes\n",
    "for i in unique_routes_names_list:\n",
    "    unique_routes_filtered  = unique_routes_sample[unique_routes_sample.long_route_name == i].reset_index(\n",
    "            drop=True\n",
    "    )\n",
    "\n",
    "    # https://dask-geopandas.readthedocs.io/en/stable/docs/reference/api/dask_geopandas.GeoDataFrame.sjoin.html\n",
    "    intersected = gpd.overlay(unique_routes_filtered, att, how=\"intersection\")\n",
    "    all_intersected_routes = pd.concat([all_intersected_routes, intersected], axis=0)\n",
    "    print(f\"Done intersecting & concatting for {i}\")"
   ]
  },
  {
   "cell_type": "code",
   "execution_count": null,
   "id": "0701173b-6e32-4e14-a860-4a77723628cd",
   "metadata": {},
   "outputs": [],
   "source": [
    "all_intersected_routes"
   ]
  },
  {
   "cell_type": "code",
   "execution_count": null,
   "id": "fff1e923-3a4d-431c-bbf5-5eaed6d3304e",
   "metadata": {},
   "outputs": [],
   "source": [
    "# Empty dataframe to hold each district after clipping\n",
    "all_intersected_routes2 = pd.DataFrame()"
   ]
  },
  {
   "cell_type": "markdown",
   "id": "570766dc-7c2a-42d5-a70f-689ff5471732",
   "metadata": {},
   "source": [
    "#### Test a big chunk of routes dataframe - HELP!\n",
    "* I get an error for certain routes even when intersecting with the original AT&T map\n",
    "* This didn't happen in my `analysis_v1` so not sure why there's issues now?\n"
   ]
  },
  {
   "cell_type": "code",
   "execution_count": 16,
   "id": "b40a9325-9605-476b-a2d2-07214e2f0ab8",
   "metadata": {
    "scrolled": true,
    "tags": []
   },
   "outputs": [],
   "source": [
    "def overlay_provider_unique_routes(provider: gpd.GeoDataFrame, \n",
    "                                  provider_name:str):\n",
    "    \n",
    "    # Empty dataframe to hold results\n",
    "    all_intersected_routes = pd.DataFrame()\n",
    "\n",
    "    for i in unique_routes_list:\n",
    "        unique_routes_filtered  = unique_routes[unique_routes.long_route_name == i].reset_index(\n",
    "                drop=True\n",
    "        )\n",
    "        try: \n",
    "            intersect = gpd.overlay(unique_routes_filtered, att, how=\"intersection\")\n",
    "            all_intersected_routes  = pd.concat([all_intersected_routes, intersect], axis=0)\n",
    "        except: \n",
    "            pass \n",
    "            print(f\"{i} didn't work\")\n",
    "    \n",
    "    utils.geoparquet_gcs_export(all_intersected_routes, utilities.GCS_FILE_PATH, f\"{provider_name}_intersected_routes\")\n"
   ]
  },
  {
   "cell_type": "code",
   "execution_count": null,
   "id": "d8cb2f3a-8aee-464f-b301-d36fd646fa32",
   "metadata": {},
   "outputs": [],
   "source": [
    "# Routes to drop that cause errors\n",
    "routes_to_del = ['Sacramento 569  Amador Regional Transit System','Upcountry 570  Amador Regional Transit System',]"
   ]
  }
 ],
 "metadata": {
  "kernelspec": {
   "display_name": "Python 3 (ipykernel)",
   "language": "python",
   "name": "python3"
  },
  "language_info": {
   "codemirror_mode": {
    "name": "ipython",
    "version": 3
   },
   "file_extension": ".py",
   "mimetype": "text/x-python",
   "name": "python",
   "nbconvert_exporter": "python",
   "pygments_lexer": "ipython3",
   "version": "3.9.13"
  }
 },
 "nbformat": 4,
 "nbformat_minor": 5
}
