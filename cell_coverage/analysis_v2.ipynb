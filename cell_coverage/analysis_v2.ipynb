{
 "cells": [
  {
   "cell_type": "code",
   "execution_count": 1,
   "id": "1857541c-e2f6-4aef-ad68-099dd7399d22",
   "metadata": {},
   "outputs": [
    {
     "name": "stderr",
     "output_type": "stream",
     "text": [
      "/opt/conda/lib/python3.10/site-packages/geopandas/_compat.py:123: UserWarning: The Shapely GEOS version (3.10.3-CAPI-1.16.1) is incompatible with the GEOS version PyGEOS was compiled with (3.10.1-CAPI-1.16.0). Conversions between both will be slow.\n",
      "  warnings.warn(\n"
     ]
    }
   ],
   "source": [
    "import dask.dataframe as dd\n",
    "import dask_geopandas as dg\n",
    "import geopandas as gpd\n",
    "import pandas as pd\n",
    "import utilities\n",
    "from calitp import *\n",
    "from shared_utils import geography_utils\n",
    "from shared_utils import utils "
   ]
  },
  {
   "cell_type": "code",
   "execution_count": 18,
   "id": "1fc77992-180f-47a2-945c-02993a875c79",
   "metadata": {},
   "outputs": [],
   "source": [
    "# Original map\n",
    "tmobile = dg.read_parquet(\"Tmobile.parquet\")"
   ]
  },
  {
   "cell_type": "code",
   "execution_count": null,
   "id": "123b2290-85b9-4ebd-91fe-e08821483880",
   "metadata": {},
   "outputs": [],
   "source": [
    "tmobile = utilities.breakout_districts(tmobile, utilities.GCS_FILE_PATH, 'tmobile_clipped_d9_df12', [9,10,11,12])"
   ]
  },
  {
   "cell_type": "code",
   "execution_count": 4,
   "id": "968df87f-7209-4b26-83ca-be29a6cc0728",
   "metadata": {},
   "outputs": [],
   "source": [
    "d1_4 = dg.read_parquet(\n",
    "    \"gs://calitp-analytics-data/data-analyses/cellular_coverage/att_clipped_d1_to_4.parquet\"\n",
    ")"
   ]
  },
  {
   "cell_type": "code",
   "execution_count": 5,
   "id": "24955065-b63d-43ad-9e75-5c4a6a456319",
   "metadata": {},
   "outputs": [],
   "source": [
    "d5_8 = dg.read_parquet(\n",
    "    \"gs://calitp-analytics-data/data-analyses/cellular_coverage/att_clipped_d5_df8.parquet\"\n",
    ")"
   ]
  },
  {
   "cell_type": "code",
   "execution_count": 6,
   "id": "78036f64-f41d-407c-9763-1b817186ca7c",
   "metadata": {},
   "outputs": [],
   "source": [
    "d9_12 = dg.read_parquet(\n",
    "    \"gs://calitp-analytics-data/data-analyses/cellular_coverage/att_clipped_d9_df12.parquet\"\n",
    ")"
   ]
  },
  {
   "cell_type": "code",
   "execution_count": 7,
   "id": "48e01a43-f323-462b-94c8-e6def06a5206",
   "metadata": {},
   "outputs": [],
   "source": [
    "att_all = [d1_4, d5_8, d9_12]"
   ]
  },
  {
   "cell_type": "code",
   "execution_count": 15,
   "id": "d77ab583-3840-4a9c-9fe0-9e3a6fffdadb",
   "metadata": {},
   "outputs": [],
   "source": [
    "def concat_all_districts(all_gdf:list, gcs_file_path: str, file_name:str):\n",
    "    \n",
    "    # Empty dataframe\n",
    "    full_gdf = pd.DataFrame()\n",
    "    \n",
    "    # Concat all the districts that were broken out into one\n",
    "    full_gdf = dd.multi.concat(all_gdf, axis=0)\n",
    "    \n",
    "    # Turn it into a gdf\n",
    "    full_gdf = full_gdf.compute()\n",
    "    \n",
    "    # Export\n",
    "    utils.geoparquet_gcs_export(full_gdf, gcs_file_path,file_name)\n",
    "\n",
    "    print('Saved to GCS')\n",
    "    return full_gdf "
   ]
  },
  {
   "cell_type": "code",
   "execution_count": 16,
   "id": "3ae01067-155b-4440-8f81-678fbb07ca0a",
   "metadata": {},
   "outputs": [
    {
     "name": "stdout",
     "output_type": "stream",
     "text": [
      "Saved to GCS\n"
     ]
    }
   ],
   "source": [
    "test = concat_all_districts(att_all, utilities.GCS_FILE_PATH, \"att_all_counties\")"
   ]
  }
 ],
 "metadata": {
  "kernelspec": {
   "display_name": "Python 3 (ipykernel)",
   "language": "python",
   "name": "python3"
  },
  "language_info": {
   "codemirror_mode": {
    "name": "ipython",
    "version": 3
   },
   "file_extension": ".py",
   "mimetype": "text/x-python",
   "name": "python",
   "nbconvert_exporter": "python",
   "pygments_lexer": "ipython3",
   "version": "3.10.6"
  }
 },
 "nbformat": 4,
 "nbformat_minor": 5
}
