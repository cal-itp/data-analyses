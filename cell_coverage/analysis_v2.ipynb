{
 "cells": [
  {
   "cell_type": "markdown",
   "id": "c1bef5b2-e09b-4d94-8495-1b1500ce61c0",
   "metadata": {},
   "source": [
    "## Analysis"
   ]
  },
  {
   "cell_type": "code",
   "execution_count": 1,
   "id": "bf753c37-cd7a-4a2a-bd1a-0012872eda7d",
   "metadata": {},
   "outputs": [
    {
     "name": "stderr",
     "output_type": "stream",
     "text": [
      "/opt/conda/lib/python3.9/site-packages/geopandas/_compat.py:123: UserWarning: The Shapely GEOS version (3.10.3-CAPI-1.16.1) is incompatible with the GEOS version PyGEOS was compiled with (3.10.1-CAPI-1.16.0). Conversions between both will be slow.\n"
     ]
    }
   ],
   "source": [
    "import A1_provider_prep\n",
    "import A2_other\n",
    "import A3_analysis\n",
    "import geopandas as gpd\n",
    "import pandas as pd\n",
    "from calitp.sql import to_snakecase\n",
    "from shared_utils import geography_utils, utils"
   ]
  },
  {
   "cell_type": "code",
   "execution_count": 2,
   "id": "94d5de63-1fdc-4127-963f-0526ef64cc72",
   "metadata": {},
   "outputs": [],
   "source": [
    "pd.options.display.max_columns = 100\n",
    "pd.options.display.float_format = \"{:.2f}\".format\n",
    "pd.set_option(\"display.max_rows\", None)\n",
    "pd.set_option(\"display.max_colwidth\", None)"
   ]
  },
  {
   "cell_type": "code",
   "execution_count": 3,
   "id": "24fcca85-d6ea-4fc7-a450-e3a505a5c619",
   "metadata": {},
   "outputs": [],
   "source": [
    "# Read in no coverage maps\n",
    "verizon = A1_provider_prep.load_verizon()"
   ]
  },
  {
   "cell_type": "code",
   "execution_count": 4,
   "id": "b5c8d8c5-f49e-4bf1-a87a-25d76ff666ef",
   "metadata": {},
   "outputs": [],
   "source": [
    "att = A1_provider_prep.load_att()"
   ]
  },
  {
   "cell_type": "code",
   "execution_count": 5,
   "id": "55d57154-85e5-4cdd-a33f-9ae031f9a827",
   "metadata": {},
   "outputs": [],
   "source": [
    "tmobile = A1_provider_prep.load_tmobile()"
   ]
  },
  {
   "cell_type": "code",
   "execution_count": 6,
   "id": "108e3bcc-53a6-4662-9b9d-d33e147c2fa2",
   "metadata": {},
   "outputs": [],
   "source": [
    "# att.plot()"
   ]
  },
  {
   "cell_type": "code",
   "execution_count": 7,
   "id": "6f7a7ed1-4dcb-49f4-b33c-d9cd3f9e6367",
   "metadata": {},
   "outputs": [],
   "source": [
    "# Original AT&T map before finding difference\n",
    "# gpd.read_parquet(\"./ATT.parquet\").plot()"
   ]
  },
  {
   "cell_type": "markdown",
   "id": "c1408c1f-3481-4470-a1c8-90cc66f52f97",
   "metadata": {},
   "source": [
    "### Which routes touch areas without data coverage among AT&T, Verizon, and T-Mobile?"
   ]
  },
  {
   "cell_type": "code",
   "execution_count": 8,
   "id": "2a55d2fa-bc52-4c4d-9b82-90f44688237f",
   "metadata": {},
   "outputs": [],
   "source": [
    "# Find routes that run in areas without coverage\n",
    "# Across all 3 providers\n",
    "final = A3_analysis.final_merge(A3_analysis.merge_all_providers())"
   ]
  },
  {
   "cell_type": "code",
   "execution_count": 9,
   "id": "bf9889fc-9e9f-4b6f-8f43-d6de5c445ea3",
   "metadata": {},
   "outputs": [],
   "source": [
    "# Load in original geometries of the routes.\n",
    "one_dist_routes, multi_dist_routes, all_routes = A2_other.find_multi_district_routes()"
   ]
  },
  {
   "cell_type": "code",
   "execution_count": 12,
   "id": "a9be9258-8236-4fb3-b3e0-590b1476eee5",
   "metadata": {},
   "outputs": [
    {
     "data": {
      "text/plain": [
       "'There are 2658 routes that touch a zone w/o data coverage among ATT, T-Mobile, and Verizon out of 2914 routes. There are 166 agencies in this dataset.'"
      ]
     },
     "execution_count": 12,
     "metadata": {},
     "output_type": "execute_result"
    }
   ],
   "source": [
    "f\"There are {len(final)} routes that touch a zone w/o data coverage among the poviders out of {len(all_routes)} routes. There are {final.Agency.nunique()} agencies in this dataset.\""
   ]
  },
  {
   "cell_type": "code",
   "execution_count": 11,
   "id": "91bbaf37-885c-424a-8e83-44d7457142cc",
   "metadata": {},
   "outputs": [
    {
     "ename": "NameError",
     "evalue": "name 'routes1' is not defined",
     "output_type": "error",
     "traceback": [
      "\u001b[0;31m---------------------------------------------------------------------------\u001b[0m",
      "\u001b[0;31mNameError\u001b[0m                                 Traceback (most recent call last)",
      "Cell \u001b[0;32mIn[11], line 1\u001b[0m\n\u001b[0;32m----> 1\u001b[0m low_coverage \u001b[38;5;241m=\u001b[39m A3_analysis\u001b[38;5;241m.\u001b[39mfinal_merge(\u001b[43mroutes1\u001b[49m)\n",
      "\u001b[0;31mNameError\u001b[0m: name 'routes1' is not defined"
     ]
    }
   ],
   "source": [
    "low_coverage = A3_analysis.final_merge(routes1)"
   ]
  },
  {
   "cell_type": "markdown",
   "id": "04e22e60-752b-4723-bb66-102025987eca",
   "metadata": {
    "tags": []
   },
   "source": [
    "### Narrow down low coverage routes\n",
    "* Most routes (776 out of 865) have data coverage for 90-100% of the routes.\n",
    "* Threshold based on the median % of the route with data coverage across the 3 providers."
   ]
  },
  {
   "cell_type": "code",
   "execution_count": 13,
   "id": "767f6b3c-1780-498b-a536-7505a6101c32",
   "metadata": {},
   "outputs": [],
   "source": [
    "# Create bins to see the median percentage of the route WITH coverage.\n",
    "bins = [0, 10, 20, 30, 40, 50, 60, 70, 80, 90, 100]\n",
    "final[\"Binned\"] = pd.cut(final[\"Median Percent With Coverage\"], bins)"
   ]
  },
  {
   "cell_type": "code",
   "execution_count": 14,
   "id": "d55c9968-ba0e-4df5-95eb-071b6d39069c",
   "metadata": {},
   "outputs": [
    {
     "data": {
      "text/plain": [
       "(90, 100]    2565\n",
       "(80, 90]       42\n",
       "(70, 80]       31\n",
       "(60, 70]        9\n",
       "(50, 60]        6\n",
       "(40, 50]        3\n",
       "(30, 40]        2\n",
       "(0, 10]         0\n",
       "(10, 20]        0\n",
       "(20, 30]        0\n",
       "Name: Binned, dtype: int64"
      ]
     },
     "execution_count": 14,
     "metadata": {},
     "output_type": "execute_result"
    }
   ],
   "source": [
    "final[\"Binned\"].value_counts()"
   ]
  },
  {
   "cell_type": "code",
   "execution_count": 15,
   "id": "a1baf0a0-521a-4f15-ae90-57c477053141",
   "metadata": {},
   "outputs": [
    {
     "data": {
      "text/plain": [
       "count   2658.00\n",
       "mean       1.03\n",
       "std        4.97\n",
       "min        0.00\n",
       "25%        0.00\n",
       "50%        0.00\n",
       "75%        0.00\n",
       "max       64.00\n",
       "Name: Median Percent No Coverage, dtype: float64"
      ]
     },
     "execution_count": 15,
     "metadata": {},
     "output_type": "execute_result"
    }
   ],
   "source": [
    "final[\"Median Percent No Coverage\"].describe()"
   ]
  },
  {
   "cell_type": "code",
   "execution_count": 16,
   "id": "42247a31-82bc-43fd-abd0-7c66077ae767",
   "metadata": {},
   "outputs": [
    {
     "data": {
      "text/plain": [
       "count   2658.00\n",
       "mean      98.97\n",
       "std        4.97\n",
       "min       36.00\n",
       "25%      100.00\n",
       "50%      100.00\n",
       "75%      100.00\n",
       "max      100.00\n",
       "Name: Median Percent With Coverage, dtype: float64"
      ]
     },
     "execution_count": 16,
     "metadata": {},
     "output_type": "execute_result"
    }
   ],
   "source": [
    "final[\"Median Percent With Coverage\"].describe()"
   ]
  },
  {
   "cell_type": "code",
   "execution_count": 60,
   "id": "a5f7d2a5-bda2-43ce-8ca7-728eacd77cee",
   "metadata": {},
   "outputs": [],
   "source": [
    "threshold = 75"
   ]
  },
  {
   "cell_type": "code",
   "execution_count": 61,
   "id": "adbd491c-e42b-4e77-9f15-b976c3a42228",
   "metadata": {},
   "outputs": [],
   "source": [
    "low_coverage = (\n",
    "    final.loc[final[\"Median Percent With Coverage\"] < threshold]\n",
    ").reset_index(drop=True)"
   ]
  },
  {
   "cell_type": "code",
   "execution_count": 62,
   "id": "2b1259f0-2a33-4015-a10e-4acd11e8ae0e",
   "metadata": {},
   "outputs": [
    {
     "data": {
      "text/plain": [
       "'32 routes are considered low-data coverage'"
      ]
     },
     "execution_count": 62,
     "metadata": {},
     "output_type": "execute_result"
    }
   ],
   "source": [
    "f\"{len(low_coverage)} routes are considered low-data coverage\""
   ]
  },
  {
   "cell_type": "code",
   "execution_count": 63,
   "id": "3e17b2d1-057d-4f40-a2b6-57884a33f92f",
   "metadata": {},
   "outputs": [],
   "source": [
    "subset = [\n",
    "    \"Agency\",\n",
    "    \"Long Route Name\",\n",
    "    \"District\",\n",
    "    \"Median Percent With Coverage\",\n",
    "    \"Median Percent No Coverage\",\n",
    "    \"Total Trips By Route\",\n",
    "    \"Total Buses\",\n",
    "    \"Estimate Of Buses In Low Cell Zones\",\n",
    "]"
   ]
  },
  {
   "cell_type": "markdown",
   "id": "080dd627-1002-4f11-a33f-46bad32b2f9d",
   "metadata": {
    "tags": []
   },
   "source": [
    "### Conclusions"
   ]
  },
  {
   "cell_type": "code",
   "execution_count": 64,
   "id": "d03d74d6",
   "metadata": {
    "scrolled": true,
    "tags": []
   },
   "outputs": [
    {
     "data": {
      "text/html": [
       "<div>\n",
       "<style scoped>\n",
       "    .dataframe tbody tr th:only-of-type {\n",
       "        vertical-align: middle;\n",
       "    }\n",
       "\n",
       "    .dataframe tbody tr th {\n",
       "        vertical-align: top;\n",
       "    }\n",
       "\n",
       "    .dataframe thead th {\n",
       "        text-align: right;\n",
       "    }\n",
       "</style>\n",
       "<table border=\"1\" class=\"dataframe\">\n",
       "  <thead>\n",
       "    <tr style=\"text-align: right;\">\n",
       "      <th></th>\n",
       "      <th>Agency</th>\n",
       "      <th>Long Route Name</th>\n",
       "      <th>District</th>\n",
       "      <th>Median Percent With Coverage</th>\n",
       "      <th>Median Percent No Coverage</th>\n",
       "      <th>Total Trips By Route</th>\n",
       "      <th>Total Buses</th>\n",
       "      <th>Estimate Of Buses In Low Cell Zones</th>\n",
       "    </tr>\n",
       "  </thead>\n",
       "  <tbody>\n",
       "    <tr>\n",
       "      <th>1</th>\n",
       "      <td>Trinity Transit</td>\n",
       "      <td>Route travels through all down-river communities between Weaverville and Willow Creek.  Key route to the coast; connects with RTS service to Arcata/Eureka. 181  Trinity Transit</td>\n",
       "      <td>D-1, D-2</td>\n",
       "      <td>36.00</td>\n",
       "      <td>64.00</td>\n",
       "      <td>4</td>\n",
       "      <td>7.00</td>\n",
       "      <td>1</td>\n",
       "    </tr>\n",
       "    <tr>\n",
       "      <th>24</th>\n",
       "      <td>Trinity Transit</td>\n",
       "      <td>Route between Weaverville and Hayfork.  Connects to Redding Line in Douglas City. 178  Trinity Transit</td>\n",
       "      <td>D-2</td>\n",
       "      <td>39.00</td>\n",
       "      <td>61.00</td>\n",
       "      <td>4</td>\n",
       "      <td>7.00</td>\n",
       "      <td>1</td>\n",
       "    </tr>\n",
       "    <tr>\n",
       "      <th>19</th>\n",
       "      <td>Mendocino Transit Authority</td>\n",
       "      <td>The Coaster 230  Mendocino Transit Authority</td>\n",
       "      <td>D-1</td>\n",
       "      <td>45.00</td>\n",
       "      <td>55.00</td>\n",
       "      <td>4</td>\n",
       "      <td>35.00</td>\n",
       "      <td>1</td>\n",
       "    </tr>\n",
       "    <tr>\n",
       "      <th>26</th>\n",
       "      <td>Trinity Transit</td>\n",
       "      <td>Redding Line 288  Trinity Transit</td>\n",
       "      <td>D-2</td>\n",
       "      <td>46.00</td>\n",
       "      <td>54.00</td>\n",
       "      <td>4</td>\n",
       "      <td>7.00</td>\n",
       "      <td>1</td>\n",
       "    </tr>\n",
       "    <tr>\n",
       "      <th>31</th>\n",
       "      <td>Yosemite Area Regional Transportation System</td>\n",
       "      <td>Mammoth Lakes HWY 120E/395 582  Yosemite Area Regional Transportation System</td>\n",
       "      <td>D-10, D-9</td>\n",
       "      <td>48.00</td>\n",
       "      <td>52.00</td>\n",
       "      <td>2</td>\n",
       "      <td>10.00</td>\n",
       "      <td>1</td>\n",
       "    </tr>\n",
       "    <tr>\n",
       "      <th>28</th>\n",
       "      <td>Tulare County Regional Transit Agency</td>\n",
       "      <td>Porterville to Springville Loop c70  Tulare County Regional Transit Agency</td>\n",
       "      <td>D-6</td>\n",
       "      <td>53.00</td>\n",
       "      <td>47.00</td>\n",
       "      <td>4</td>\n",
       "      <td>18.00</td>\n",
       "      <td>1</td>\n",
       "    </tr>\n",
       "    <tr>\n",
       "      <th>27</th>\n",
       "      <td>Tulare County Area Transit</td>\n",
       "      <td>Porterville to Springville Loop 12181  Tulare County Area Transit</td>\n",
       "      <td>D-6</td>\n",
       "      <td>53.00</td>\n",
       "      <td>47.00</td>\n",
       "      <td>4</td>\n",
       "      <td>24.00</td>\n",
       "      <td>1</td>\n",
       "    </tr>\n",
       "    <tr>\n",
       "      <th>21</th>\n",
       "      <td>Redwood Coast Transit</td>\n",
       "      <td>Route 199 Hiouchi / Gasquet 257  Redwood Coast Transit</td>\n",
       "      <td>D-1</td>\n",
       "      <td>55.00</td>\n",
       "      <td>45.00</td>\n",
       "      <td>6</td>\n",
       "      <td>14.00</td>\n",
       "      <td>1</td>\n",
       "    </tr>\n",
       "    <tr>\n",
       "      <th>29</th>\n",
       "      <td>Yosemite Area Regional Transportation System</td>\n",
       "      <td>Sonora HWY 120 1094  Yosemite Area Regional Transportation System</td>\n",
       "      <td>D-10</td>\n",
       "      <td>55.00</td>\n",
       "      <td>45.00</td>\n",
       "      <td>2</td>\n",
       "      <td>10.00</td>\n",
       "      <td>1</td>\n",
       "    </tr>\n",
       "    <tr>\n",
       "      <th>30</th>\n",
       "      <td>Yosemite Area Regional Transportation System</td>\n",
       "      <td>Merced HWY 140 580  Yosemite Area Regional Transportation System</td>\n",
       "      <td>D-10</td>\n",
       "      <td>59.00</td>\n",
       "      <td>41.00</td>\n",
       "      <td>17</td>\n",
       "      <td>10.00</td>\n",
       "      <td>8</td>\n",
       "    </tr>\n",
       "    <tr>\n",
       "      <th>6</th>\n",
       "      <td>Capitol Corridor</td>\n",
       "      <td>Shuttle to San Francisco Transbay Terminal sf  Capitol Corridor</td>\n",
       "      <td>D-4</td>\n",
       "      <td>60.00</td>\n",
       "      <td>40.00</td>\n",
       "      <td>18</td>\n",
       "      <td>17.00</td>\n",
       "      <td>6</td>\n",
       "    </tr>\n",
       "    <tr>\n",
       "      <th>25</th>\n",
       "      <td>Trinity Transit</td>\n",
       "      <td>Lewiston Line 180  Trinity Transit</td>\n",
       "      <td>D-2</td>\n",
       "      <td>62.00</td>\n",
       "      <td>38.00</td>\n",
       "      <td>3</td>\n",
       "      <td>7.00</td>\n",
       "      <td>1</td>\n",
       "    </tr>\n",
       "    <tr>\n",
       "      <th>20</th>\n",
       "      <td>Redwood Coast Transit</td>\n",
       "      <td>Route 20 Smith River / Arcata 120  Redwood Coast Transit</td>\n",
       "      <td>D-1</td>\n",
       "      <td>64.00</td>\n",
       "      <td>36.00</td>\n",
       "      <td>11</td>\n",
       "      <td>14.00</td>\n",
       "      <td>2</td>\n",
       "    </tr>\n",
       "    <tr>\n",
       "      <th>23</th>\n",
       "      <td>Santa Cruz Metropolitan Transit District</td>\n",
       "      <td>Davenport/Bonny Doon 42  Santa Cruz Metropolitan Transit District</td>\n",
       "      <td>D-5</td>\n",
       "      <td>64.00</td>\n",
       "      <td>36.00</td>\n",
       "      <td>4</td>\n",
       "      <td>125.00</td>\n",
       "      <td>1</td>\n",
       "    </tr>\n",
       "    <tr>\n",
       "      <th>22</th>\n",
       "      <td>Santa Cruz Metropolitan Transit District</td>\n",
       "      <td>Empire Grade - Bonny Doon 41  Santa Cruz Metropolitan Transit District</td>\n",
       "      <td>D-5</td>\n",
       "      <td>65.00</td>\n",
       "      <td>35.00</td>\n",
       "      <td>4</td>\n",
       "      <td>125.00</td>\n",
       "      <td>1</td>\n",
       "    </tr>\n",
       "    <tr>\n",
       "      <th>15</th>\n",
       "      <td>Los Angeles Department of Transportation</td>\n",
       "      <td>Long Beach/San Pedro 870  Los Angeles Department of Transportation</td>\n",
       "      <td>D-7</td>\n",
       "      <td>66.00</td>\n",
       "      <td>34.00</td>\n",
       "      <td>68</td>\n",
       "      <td>17.00</td>\n",
       "      <td>1</td>\n",
       "    </tr>\n",
       "    <tr>\n",
       "      <th>12</th>\n",
       "      <td>Golden Gate Bridge Highway and Transportation District</td>\n",
       "      <td>Oakland - San Francisco 705-240  Golden Gate Bridge Highway and Transportation District</td>\n",
       "      <td>D-4</td>\n",
       "      <td>67.00</td>\n",
       "      <td>33.00</td>\n",
       "      <td>1</td>\n",
       "      <td>165.00</td>\n",
       "      <td>1</td>\n",
       "    </tr>\n",
       "    <tr>\n",
       "      <th>9</th>\n",
       "      <td>Gold Country Stage</td>\n",
       "      <td>Grass Valley to North San Juan 16672  Gold Country Stage</td>\n",
       "      <td>D-3</td>\n",
       "      <td>68.00</td>\n",
       "      <td>32.00</td>\n",
       "      <td>10</td>\n",
       "      <td>25.00</td>\n",
       "      <td>2</td>\n",
       "    </tr>\n",
       "    <tr>\n",
       "      <th>16</th>\n",
       "      <td>MUNI</td>\n",
       "      <td>TREASURE ISLAND 18158  MUNI</td>\n",
       "      <td>D-4</td>\n",
       "      <td>70.00</td>\n",
       "      <td>30.00</td>\n",
       "      <td>85</td>\n",
       "      <td>762.00</td>\n",
       "      <td>7</td>\n",
       "    </tr>\n",
       "    <tr>\n",
       "      <th>17</th>\n",
       "      <td>MUNI</td>\n",
       "      <td>TREASURE ISLAND 25  MUNI</td>\n",
       "      <td>D-4</td>\n",
       "      <td>70.00</td>\n",
       "      <td>30.00</td>\n",
       "      <td>75</td>\n",
       "      <td>762.00</td>\n",
       "      <td>6</td>\n",
       "    </tr>\n",
       "    <tr>\n",
       "      <th>18</th>\n",
       "      <td>Eastern Sierra Transit Authority</td>\n",
       "      <td>Bridgeport-Gardnerville 566  Mammoth Lakes Transit System</td>\n",
       "      <td>D-9</td>\n",
       "      <td>71.00</td>\n",
       "      <td>29.00</td>\n",
       "      <td>2</td>\n",
       "      <td>59.00</td>\n",
       "      <td>1</td>\n",
       "    </tr>\n",
       "    <tr>\n",
       "      <th>7</th>\n",
       "      <td>Eastern Sierra Transit Authority</td>\n",
       "      <td>Bridgeport-Gardnerville 566  Eastern Sierra Transit Authority</td>\n",
       "      <td>D-9</td>\n",
       "      <td>71.00</td>\n",
       "      <td>29.00</td>\n",
       "      <td>2</td>\n",
       "      <td>59.00</td>\n",
       "      <td>1</td>\n",
       "    </tr>\n",
       "    <tr>\n",
       "      <th>3</th>\n",
       "      <td>AC Transit</td>\n",
       "      <td>Piedmont - Oakland Ave. Transbay p  AC Transit</td>\n",
       "      <td>D-4</td>\n",
       "      <td>71.00</td>\n",
       "      <td>29.00</td>\n",
       "      <td>12</td>\n",
       "      <td>881.00</td>\n",
       "      <td>1</td>\n",
       "    </tr>\n",
       "    <tr>\n",
       "      <th>14</th>\n",
       "      <td>Kern Transit</td>\n",
       "      <td>Lake Isabella-Bakersfield 1368  Kern Transit</td>\n",
       "      <td>D-6</td>\n",
       "      <td>72.00</td>\n",
       "      <td>28.00</td>\n",
       "      <td>8</td>\n",
       "      <td>65.00</td>\n",
       "      <td>5</td>\n",
       "    </tr>\n",
       "    <tr>\n",
       "      <th>11</th>\n",
       "      <td>Golden Gate Bridge Highway and Transportation District</td>\n",
       "      <td>Del Norte BART Station - San Rafael 580-240  Golden Gate Bridge Highway and Transportation District</td>\n",
       "      <td>D-4</td>\n",
       "      <td>72.00</td>\n",
       "      <td>28.00</td>\n",
       "      <td>17</td>\n",
       "      <td>165.00</td>\n",
       "      <td>10</td>\n",
       "    </tr>\n",
       "    <tr>\n",
       "      <th>10</th>\n",
       "      <td>Golden Gate Bridge Highway and Transportation District</td>\n",
       "      <td>Del Norte BART Station - San Rafael 580  Golden Gate Bridge Highway and Transportation District</td>\n",
       "      <td>D-4</td>\n",
       "      <td>72.00</td>\n",
       "      <td>28.00</td>\n",
       "      <td>27</td>\n",
       "      <td>165.00</td>\n",
       "      <td>16</td>\n",
       "    </tr>\n",
       "    <tr>\n",
       "      <th>13</th>\n",
       "      <td>Humboldt Transit Authority</td>\n",
       "      <td>The Willow Creek/Arcata Route is operated by Humboldt Transit Authority and travels along Trinity Highway between the communities of Arcata and Willow Creek. 8  Humboldt Transit Authority</td>\n",
       "      <td>D-1</td>\n",
       "      <td>74.00</td>\n",
       "      <td>26.00</td>\n",
       "      <td>5</td>\n",
       "      <td>29.00</td>\n",
       "      <td>1</td>\n",
       "    </tr>\n",
       "    <tr>\n",
       "      <th>8</th>\n",
       "      <td>Eureka Transit Service</td>\n",
       "      <td>The Willow Creek/Arcata Route is operated by Humboldt Transit Authority and travels along Trinity Highway between the communities of Arcata and Willow Creek. 8  Eureka Transit Service</td>\n",
       "      <td>D-1</td>\n",
       "      <td>74.00</td>\n",
       "      <td>26.00</td>\n",
       "      <td>5</td>\n",
       "      <td>12.00</td>\n",
       "      <td>1</td>\n",
       "    </tr>\n",
       "    <tr>\n",
       "      <th>5</th>\n",
       "      <td>Blue Lake Rancheria</td>\n",
       "      <td>The Willow Creek/Arcata Route is operated by Humboldt Transit Authority and travels along Trinity Highway between the communities of Arcata and Willow Creek. 8  Blue Lake Rancheria</td>\n",
       "      <td>D-1</td>\n",
       "      <td>74.00</td>\n",
       "      <td>26.00</td>\n",
       "      <td>5</td>\n",
       "      <td>4.00</td>\n",
       "      <td>1</td>\n",
       "    </tr>\n",
       "    <tr>\n",
       "      <th>4</th>\n",
       "      <td>Arcata and Mad River Transit System</td>\n",
       "      <td>The Willow Creek/Arcata Route is operated by Humboldt Transit Authority and travels along Trinity Highway between the communities of Arcata and Willow Creek. 8  Arcata and Mad River Transit System</td>\n",
       "      <td>D-1</td>\n",
       "      <td>74.00</td>\n",
       "      <td>26.00</td>\n",
       "      <td>5</td>\n",
       "      <td>17.00</td>\n",
       "      <td>1</td>\n",
       "    </tr>\n",
       "    <tr>\n",
       "      <th>2</th>\n",
       "      <td>AC Transit</td>\n",
       "      <td>Sacramento -  Christie Transbay j  AC Transit</td>\n",
       "      <td>D-4</td>\n",
       "      <td>74.00</td>\n",
       "      <td>26.00</td>\n",
       "      <td>8</td>\n",
       "      <td>881.00</td>\n",
       "      <td>1</td>\n",
       "    </tr>\n",
       "    <tr>\n",
       "      <th>0</th>\n",
       "      <td>Mendocino Transit Authority</td>\n",
       "      <td>South Coast / Santa Rosa 224  Mendocino Transit Authority</td>\n",
       "      <td>D-1, D-4</td>\n",
       "      <td>74.00</td>\n",
       "      <td>26.00</td>\n",
       "      <td>2</td>\n",
       "      <td>35.00</td>\n",
       "      <td>1</td>\n",
       "    </tr>\n",
       "  </tbody>\n",
       "</table>\n",
       "</div>"
      ],
      "text/plain": [
       "                                                    Agency  \\\n",
       "1                                          Trinity Transit   \n",
       "24                                         Trinity Transit   \n",
       "19                             Mendocino Transit Authority   \n",
       "26                                         Trinity Transit   \n",
       "31            Yosemite Area Regional Transportation System   \n",
       "28                   Tulare County Regional Transit Agency   \n",
       "27                              Tulare County Area Transit   \n",
       "21                                   Redwood Coast Transit   \n",
       "29            Yosemite Area Regional Transportation System   \n",
       "30            Yosemite Area Regional Transportation System   \n",
       "6                                         Capitol Corridor   \n",
       "25                                         Trinity Transit   \n",
       "20                                   Redwood Coast Transit   \n",
       "23                Santa Cruz Metropolitan Transit District   \n",
       "22                Santa Cruz Metropolitan Transit District   \n",
       "15                Los Angeles Department of Transportation   \n",
       "12  Golden Gate Bridge Highway and Transportation District   \n",
       "9                                       Gold Country Stage   \n",
       "16                                                    MUNI   \n",
       "17                                                    MUNI   \n",
       "18                        Eastern Sierra Transit Authority   \n",
       "7                         Eastern Sierra Transit Authority   \n",
       "3                                               AC Transit   \n",
       "14                                            Kern Transit   \n",
       "11  Golden Gate Bridge Highway and Transportation District   \n",
       "10  Golden Gate Bridge Highway and Transportation District   \n",
       "13                              Humboldt Transit Authority   \n",
       "8                                   Eureka Transit Service   \n",
       "5                                      Blue Lake Rancheria   \n",
       "4                      Arcata and Mad River Transit System   \n",
       "2                                               AC Transit   \n",
       "0                              Mendocino Transit Authority   \n",
       "\n",
       "                                                                                                                                                                                         Long Route Name  \\\n",
       "1                       Route travels through all down-river communities between Weaverville and Willow Creek.  Key route to the coast; connects with RTS service to Arcata/Eureka. 181  Trinity Transit   \n",
       "24                                                                                                Route between Weaverville and Hayfork.  Connects to Redding Line in Douglas City. 178  Trinity Transit   \n",
       "19                                                                                                                                                          The Coaster 230  Mendocino Transit Authority   \n",
       "26                                                                                                                                                                     Redding Line 288  Trinity Transit   \n",
       "31                                                                                                                          Mammoth Lakes HWY 120E/395 582  Yosemite Area Regional Transportation System   \n",
       "28                                                                                                                            Porterville to Springville Loop c70  Tulare County Regional Transit Agency   \n",
       "27                                                                                                                                     Porterville to Springville Loop 12181  Tulare County Area Transit   \n",
       "21                                                                                                                                                Route 199 Hiouchi / Gasquet 257  Redwood Coast Transit   \n",
       "29                                                                                                                                     Sonora HWY 120 1094  Yosemite Area Regional Transportation System   \n",
       "30                                                                                                                                      Merced HWY 140 580  Yosemite Area Regional Transportation System   \n",
       "6                                                                                                                                        Shuttle to San Francisco Transbay Terminal sf  Capitol Corridor   \n",
       "25                                                                                                                                                                    Lewiston Line 180  Trinity Transit   \n",
       "20                                                                                                                                              Route 20 Smith River / Arcata 120  Redwood Coast Transit   \n",
       "23                                                                                                                                     Davenport/Bonny Doon 42  Santa Cruz Metropolitan Transit District   \n",
       "22                                                                                                                                Empire Grade - Bonny Doon 41  Santa Cruz Metropolitan Transit District   \n",
       "15                                                                                                                                    Long Beach/San Pedro 870  Los Angeles Department of Transportation   \n",
       "12                                                                                                               Oakland - San Francisco 705-240  Golden Gate Bridge Highway and Transportation District   \n",
       "9                                                                                                                                               Grass Valley to North San Juan 16672  Gold Country Stage   \n",
       "16                                                                                                                                                                           TREASURE ISLAND 18158  MUNI   \n",
       "17                                                                                                                                                                              TREASURE ISLAND 25  MUNI   \n",
       "18                                                                                                                                             Bridgeport-Gardnerville 566  Mammoth Lakes Transit System   \n",
       "7                                                                                                                                          Bridgeport-Gardnerville 566  Eastern Sierra Transit Authority   \n",
       "3                                                                                                                                                         Piedmont - Oakland Ave. Transbay p  AC Transit   \n",
       "14                                                                                                                                                          Lake Isabella-Bakersfield 1368  Kern Transit   \n",
       "11                                                                                                   Del Norte BART Station - San Rafael 580-240  Golden Gate Bridge Highway and Transportation District   \n",
       "10                                                                                                       Del Norte BART Station - San Rafael 580  Golden Gate Bridge Highway and Transportation District   \n",
       "13           The Willow Creek/Arcata Route is operated by Humboldt Transit Authority and travels along Trinity Highway between the communities of Arcata and Willow Creek. 8  Humboldt Transit Authority   \n",
       "8                The Willow Creek/Arcata Route is operated by Humboldt Transit Authority and travels along Trinity Highway between the communities of Arcata and Willow Creek. 8  Eureka Transit Service   \n",
       "5                   The Willow Creek/Arcata Route is operated by Humboldt Transit Authority and travels along Trinity Highway between the communities of Arcata and Willow Creek. 8  Blue Lake Rancheria   \n",
       "4   The Willow Creek/Arcata Route is operated by Humboldt Transit Authority and travels along Trinity Highway between the communities of Arcata and Willow Creek. 8  Arcata and Mad River Transit System   \n",
       "2                                                                                                                                                          Sacramento -  Christie Transbay j  AC Transit   \n",
       "0                                                                                                                                              South Coast / Santa Rosa 224  Mendocino Transit Authority   \n",
       "\n",
       "     District  Median Percent With Coverage  Median Percent No Coverage  \\\n",
       "1    D-1, D-2                         36.00                       64.00   \n",
       "24        D-2                         39.00                       61.00   \n",
       "19        D-1                         45.00                       55.00   \n",
       "26        D-2                         46.00                       54.00   \n",
       "31  D-10, D-9                         48.00                       52.00   \n",
       "28        D-6                         53.00                       47.00   \n",
       "27        D-6                         53.00                       47.00   \n",
       "21        D-1                         55.00                       45.00   \n",
       "29       D-10                         55.00                       45.00   \n",
       "30       D-10                         59.00                       41.00   \n",
       "6         D-4                         60.00                       40.00   \n",
       "25        D-2                         62.00                       38.00   \n",
       "20        D-1                         64.00                       36.00   \n",
       "23        D-5                         64.00                       36.00   \n",
       "22        D-5                         65.00                       35.00   \n",
       "15        D-7                         66.00                       34.00   \n",
       "12        D-4                         67.00                       33.00   \n",
       "9         D-3                         68.00                       32.00   \n",
       "16        D-4                         70.00                       30.00   \n",
       "17        D-4                         70.00                       30.00   \n",
       "18        D-9                         71.00                       29.00   \n",
       "7         D-9                         71.00                       29.00   \n",
       "3         D-4                         71.00                       29.00   \n",
       "14        D-6                         72.00                       28.00   \n",
       "11        D-4                         72.00                       28.00   \n",
       "10        D-4                         72.00                       28.00   \n",
       "13        D-1                         74.00                       26.00   \n",
       "8         D-1                         74.00                       26.00   \n",
       "5         D-1                         74.00                       26.00   \n",
       "4         D-1                         74.00                       26.00   \n",
       "2         D-4                         74.00                       26.00   \n",
       "0    D-1, D-4                         74.00                       26.00   \n",
       "\n",
       "    Total Trips By Route  Total Buses  Estimate Of Buses In Low Cell Zones  \n",
       "1                      4         7.00                                    1  \n",
       "24                     4         7.00                                    1  \n",
       "19                     4        35.00                                    1  \n",
       "26                     4         7.00                                    1  \n",
       "31                     2        10.00                                    1  \n",
       "28                     4        18.00                                    1  \n",
       "27                     4        24.00                                    1  \n",
       "21                     6        14.00                                    1  \n",
       "29                     2        10.00                                    1  \n",
       "30                    17        10.00                                    8  \n",
       "6                     18        17.00                                    6  \n",
       "25                     3         7.00                                    1  \n",
       "20                    11        14.00                                    2  \n",
       "23                     4       125.00                                    1  \n",
       "22                     4       125.00                                    1  \n",
       "15                    68        17.00                                    1  \n",
       "12                     1       165.00                                    1  \n",
       "9                     10        25.00                                    2  \n",
       "16                    85       762.00                                    7  \n",
       "17                    75       762.00                                    6  \n",
       "18                     2        59.00                                    1  \n",
       "7                      2        59.00                                    1  \n",
       "3                     12       881.00                                    1  \n",
       "14                     8        65.00                                    5  \n",
       "11                    17       165.00                                   10  \n",
       "10                    27       165.00                                   16  \n",
       "13                     5        29.00                                    1  \n",
       "8                      5        12.00                                    1  \n",
       "5                      5         4.00                                    1  \n",
       "4                      5        17.00                                    1  \n",
       "2                      8       881.00                                    1  \n",
       "0                      2        35.00                                    1  "
      ]
     },
     "execution_count": 64,
     "metadata": {},
     "output_type": "execute_result"
    }
   ],
   "source": [
    "low_coverage[subset].sort_values(\"Median Percent No Coverage\", ascending=False)"
   ]
  },
  {
   "cell_type": "code",
   "execution_count": 65,
   "id": "dd23ca97-98ee-4b0a-b698-b7770c7efe07",
   "metadata": {},
   "outputs": [
    {
     "data": {
      "text/plain": [
       "'Around 85 buses run through low data coverage routes.'"
      ]
     },
     "execution_count": 65,
     "metadata": {},
     "output_type": "execute_result"
    }
   ],
   "source": [
    "f\"Around {low_coverage['Estimate Of Buses In Low Cell Zones'].sum()} buses run through low data coverage routes.\""
   ]
  },
  {
   "cell_type": "code",
   "execution_count": 66,
   "id": "8f633ccb-efbb-46d4-82a7-a79dab40fcb5",
   "metadata": {},
   "outputs": [
    {
     "data": {
      "text/plain": [
       "'There 32 low data coverage routes.'"
      ]
     },
     "execution_count": 66,
     "metadata": {},
     "output_type": "execute_result"
    }
   ],
   "source": [
    "f\"There {low_coverage['Long Route Name'].nunique()} low data coverage routes.\""
   ]
  },
  {
   "cell_type": "code",
   "execution_count": 67,
   "id": "54b830c0-56ef-4d8d-9586-09576588fc8d",
   "metadata": {},
   "outputs": [
    {
     "data": {
      "text/plain": [
       "D-4          8\n",
       "D-1          7\n",
       "D-6          3\n",
       "D-2          3\n",
       "D-9          2\n",
       "D-5          2\n",
       "D-10         2\n",
       "D-1, D-4     1\n",
       "D-1, D-2     1\n",
       "D-3          1\n",
       "D-7          1\n",
       "D-10, D-9    1\n",
       "Name: District, dtype: int64"
      ]
     },
     "execution_count": 67,
     "metadata": {},
     "output_type": "execute_result"
    }
   ],
   "source": [
    "low_coverage.District.value_counts()"
   ]
  },
  {
   "cell_type": "code",
   "execution_count": 68,
   "id": "52039bd3-e581-42fe-8eff-6f8b74dc02e0",
   "metadata": {},
   "outputs": [
    {
     "data": {
      "text/plain": [
       "Trinity Transit                                           4\n",
       "Golden Gate Bridge Highway and Transportation District    3\n",
       "Yosemite Area Regional Transportation System              3\n",
       "Eastern Sierra Transit Authority                          2\n",
       "AC Transit                                                2\n",
       "MUNI                                                      2\n",
       "Redwood Coast Transit                                     2\n",
       "Santa Cruz Metropolitan Transit District                  2\n",
       "Mendocino Transit Authority                               2\n",
       "Arcata and Mad River Transit System                       1\n",
       "Blue Lake Rancheria                                       1\n",
       "Capitol Corridor                                          1\n",
       "Eureka Transit Service                                    1\n",
       "Gold Country Stage                                        1\n",
       "Humboldt Transit Authority                                1\n",
       "Kern Transit                                              1\n",
       "Los Angeles Department of Transportation                  1\n",
       "Tulare County Area Transit                                1\n",
       "Tulare County Regional Transit Agency                     1\n",
       "Name: Agency, dtype: int64"
      ]
     },
     "execution_count": 68,
     "metadata": {},
     "output_type": "execute_result"
    }
   ],
   "source": [
    "low_coverage.Agency.value_counts()"
   ]
  },
  {
   "cell_type": "markdown",
   "id": "33c40e0d-e725-435e-9167-c2ef18044b81",
   "metadata": {
    "tags": []
   },
   "source": [
    "### Maps"
   ]
  },
  {
   "cell_type": "code",
   "execution_count": 69,
   "id": "a15ca0dc-9a52-4f7f-924f-6901946d0046",
   "metadata": {},
   "outputs": [],
   "source": [
    "# Grab the names of routes are \"low coverage.\"\n",
    "low_coverage_routes = low_coverage[\"Long Route Name\"].unique().tolist()"
   ]
  },
  {
   "cell_type": "code",
   "execution_count": 70,
   "id": "fb23d49e-09ed-4276-ac1a-d10c0dbd019d",
   "metadata": {},
   "outputs": [],
   "source": [
    "# Get original geometry\n",
    "low_coverage_og_geometry = (\n",
    "    all_routes[all_routes[\"long_route_name\"].isin(low_coverage_routes)]\n",
    ").reset_index(drop=True)"
   ]
  },
  {
   "cell_type": "code",
   "execution_count": 71,
   "id": "212cfd79-ab85-4d24-a062-53d483ea568d",
   "metadata": {},
   "outputs": [],
   "source": [
    "att_map = att.explore(\n",
    "    tiles=\"CartoDB positron\",\n",
    "    width=800,\n",
    "    height=500,\n",
    ")"
   ]
  },
  {
   "cell_type": "code",
   "execution_count": 72,
   "id": "4a0e6680-4ec9-4bf9-bec9-e6f7e19dd5ce",
   "metadata": {},
   "outputs": [],
   "source": [
    "att_map = low_coverage_og_geometry.explore(\"long_route_name\", m=att_map, legend=False)"
   ]
  },
  {
   "cell_type": "code",
   "execution_count": 74,
   "id": "be6123a7-1cf6-4165-a878-5ae964c9f839",
   "metadata": {},
   "outputs": [],
   "source": [
    "# att_map"
   ]
  }
 ],
 "metadata": {
  "kernelspec": {
   "display_name": "Python 3 (ipykernel)",
   "language": "python",
   "name": "python3"
  },
  "language_info": {
   "codemirror_mode": {
    "name": "ipython",
    "version": 3
   },
   "file_extension": ".py",
   "mimetype": "text/x-python",
   "name": "python",
   "nbconvert_exporter": "python",
   "pygments_lexer": "ipython3",
   "version": "3.9.13"
  }
 },
 "nbformat": 4,
 "nbformat_minor": 5
}
