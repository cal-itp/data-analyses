{
 "cells": [
  {
   "cell_type": "markdown",
   "id": "c1bef5b2-e09b-4d94-8495-1b1500ce61c0",
   "metadata": {},
   "source": [
    "## Analysis"
   ]
  },
  {
   "cell_type": "code",
   "execution_count": 1,
   "id": "bf753c37-cd7a-4a2a-bd1a-0012872eda7d",
   "metadata": {},
   "outputs": [
    {
     "name": "stderr",
     "output_type": "stream",
     "text": [
      "/opt/conda/lib/python3.9/site-packages/geopandas/_compat.py:123: UserWarning: The Shapely GEOS version (3.10.3-CAPI-1.16.1) is incompatible with the GEOS version PyGEOS was compiled with (3.10.1-CAPI-1.16.0). Conversions between both will be slow.\n"
     ]
    }
   ],
   "source": [
    "import A1_provider_prep\n",
    "import A2_other\n",
    "import A3_analysis\n",
    "\n",
    "import pandas as pd\n",
    "import geopandas as gpd\n",
    "from calitp.sql import to_snakecase\n",
    "from shared_utils import geography_utils, utils"
   ]
  },
  {
   "cell_type": "code",
   "execution_count": 2,
   "id": "94d5de63-1fdc-4127-963f-0526ef64cc72",
   "metadata": {},
   "outputs": [],
   "source": [
    "pd.options.display.max_columns = 100\n",
    "pd.options.display.float_format = \"{:.2f}\".format\n",
    "pd.set_option(\"display.max_rows\", None)\n",
    "pd.set_option(\"display.max_colwidth\", None)"
   ]
  },
  {
   "cell_type": "code",
   "execution_count": 3,
   "id": "24fcca85-d6ea-4fc7-a450-e3a505a5c619",
   "metadata": {},
   "outputs": [],
   "source": [
    "# Read in no coverage maps\n",
    "verizon = gpd.read_parquet(f\"{A1_provider_prep.GCS_FILE_PATH}verizon_no_coverage_cal.parquet\")"
   ]
  },
  {
   "cell_type": "code",
   "execution_count": 4,
   "id": "b5c8d8c5-f49e-4bf1-a87a-25d76ff666ef",
   "metadata": {},
   "outputs": [],
   "source": [
    "att = gpd.read_parquet(f\"{A1_provider_prep.GCS_FILE_PATH}att_no_coverage_cal.parquet\")"
   ]
  },
  {
   "cell_type": "code",
   "execution_count": 5,
   "id": "55d57154-85e5-4cdd-a33f-9ae031f9a827",
   "metadata": {},
   "outputs": [],
   "source": [
    "tmobile = gpd.read_parquet(f\"{A1_provider_prep.GCS_FILE_PATH}tmobile_no_coverage_cal.parquet\")"
   ]
  },
  {
   "cell_type": "markdown",
   "id": "c1408c1f-3481-4470-a1c8-90cc66f52f97",
   "metadata": {},
   "source": [
    "### Which routes touch areas without data coverage among all 3 providers?"
   ]
  },
  {
   "cell_type": "code",
   "execution_count": 26,
   "id": "2a55d2fa-bc52-4c4d-9b82-90f44688237f",
   "metadata": {},
   "outputs": [],
   "source": [
    "# Find routes that run in areas without coverage \n",
    "# Across all 3 providers\n",
    "routes1 = A3_analysis.merge_all_providers()"
   ]
  },
  {
   "cell_type": "code",
   "execution_count": 7,
   "id": "bf9889fc-9e9f-4b6f-8f43-d6de5c445ea3",
   "metadata": {},
   "outputs": [],
   "source": [
    "# Load in original geometries of the routes.\n",
    "one_dist_routes, multi_dist_routes, all_routes = A2_other.find_multi_district_routes()"
   ]
  },
  {
   "cell_type": "code",
   "execution_count": 27,
   "id": "767f6b3c-1780-498b-a536-7505a6101c32",
   "metadata": {},
   "outputs": [],
   "source": [
    "# Create bins to easily see the median percentage of the route WITH coverage.\n",
    "bins = [0, 10, 20, 30, 40, 50, 60, 70, 80, 90, 100]\n",
    "routes1[\"binned\"] = pd.cut(routes1[\"median_percent_with_coverage\"], bins)"
   ]
  },
  {
   "cell_type": "code",
   "execution_count": 28,
   "id": "a9be9258-8236-4fb3-b3e0-590b1476eee5",
   "metadata": {},
   "outputs": [
    {
     "data": {
      "text/plain": [
       "'There are 865 routes that cross a zone w/o data coverage among ATT, T-Mobile, and Verizon out of 2914 routes.'"
      ]
     },
     "execution_count": 28,
     "metadata": {},
     "output_type": "execute_result"
    }
   ],
   "source": [
    "f\"There are {len(routes1)} routes that cross a zone w/o data coverage among ATT, T-Mobile, and Verizon out of {len(all_routes)} routes.\""
   ]
  },
  {
   "cell_type": "markdown",
   "id": "04e22e60-752b-4723-bb66-102025987eca",
   "metadata": {},
   "source": [
    "### Filter out for low coverage routes\n",
    "* Most routes (776 out of 865) have data coverage for 90-100% of the routes.\n",
    "* Cut off based on bins."
   ]
  },
  {
   "cell_type": "code",
   "execution_count": 34,
   "id": "c0e40e7f-ba7f-49ac-90c7-e8c8882b0412",
   "metadata": {},
   "outputs": [
    {
     "data": {
      "text/plain": [
       "(90, 100]    776\n",
       "(80, 90]      40\n",
       "(70, 80]      30\n",
       "(60, 70]       9\n",
       "(50, 60]       6\n",
       "(30, 40]       2\n",
       "(40, 50]       2\n",
       "(0, 10]        0\n",
       "(10, 20]       0\n",
       "(20, 30]       0\n",
       "Name: binned, dtype: int64"
      ]
     },
     "execution_count": 34,
     "metadata": {},
     "output_type": "execute_result"
    }
   ],
   "source": [
    "routes1.binned.value_counts()"
   ]
  },
  {
   "cell_type": "code",
   "execution_count": 35,
   "id": "013136d1-c6b2-494d-9445-1734613e81d0",
   "metadata": {},
   "outputs": [],
   "source": [
    "# Filter out for routes where 75% or less of its length runs in a no data-coverage zone.\n",
    "threshold = 75\n",
    "low_coverage = (routes1.loc[routes1.median_percent_with_coverage < threshold]).reset_index(drop = True)"
   ]
  },
  {
   "cell_type": "code",
   "execution_count": 36,
   "id": "0ed91157-d874-4dd4-a27c-369f6e7e5d35",
   "metadata": {},
   "outputs": [],
   "source": [
    "# Subset\n",
    "subset_cols = [\"agency\", 'itp_id', 'route_id', \"long_route_name\", \"District\", \"median_percent_with_coverage\", \"median_percent_no_coverage\"]"
   ]
  },
  {
   "cell_type": "code",
   "execution_count": 37,
   "id": "b475639a-45ad-44cf-92fa-0cba633f6e40",
   "metadata": {},
   "outputs": [],
   "source": [
    "low_coverage = low_coverage[subset_cols]"
   ]
  },
  {
   "cell_type": "code",
   "execution_count": 48,
   "id": "2b1259f0-2a33-4015-a10e-4acd11e8ae0e",
   "metadata": {},
   "outputs": [
    {
     "data": {
      "text/plain": [
       "'31 routes are considered low-data coverage'"
      ]
     },
     "execution_count": 48,
     "metadata": {},
     "output_type": "execute_result"
    }
   ],
   "source": [
    "f\"{len(low_coverage)} routes are considered low-data coverage\""
   ]
  },
  {
   "cell_type": "markdown",
   "id": "c6cc5f31-09da-4997-9035-ce40bc611e81",
   "metadata": {},
   "source": [
    "### How many buses run through a route that has \"low data coverage?\"\n",
    "* Find number of trips ran per these \"low coverage\" routes\n",
    "* Find number of buses each agency from this \"low coverage\" dataframe owns."
   ]
  },
  {
   "cell_type": "code",
   "execution_count": 159,
   "id": "596dda22-ff3c-47b9-82b4-424f269079ea",
   "metadata": {},
   "outputs": [],
   "source": [
    "def merge_trips(gdf):\n",
    "    \n",
    "    trips = A2_other.trip_df()\n",
    "    \n",
    "    m1 = pd.merge(\n",
    "    gdf,\n",
    "    trips,\n",
    "    how=\"left\",\n",
    "    left_on=[\"itp_id\", \"route_id\"],\n",
    "    right_on=[\"calitp_itp_id\", \"route_id\"])\n",
    "    \n",
    "    # Divide the total of trips for this particular low coverage route\n",
    "    # by the total trips the agency run among all its routes on that particular day\n",
    "    m1[\"percentage_of_trips_w_low_cell_service\"] = (\n",
    "    m1[\"total_trips_by_route\"] / m1[\"total_trips_by_agency\"]).astype('int64')\n",
    "    \n",
    "    return m1"
   ]
  },
  {
   "cell_type": "code",
   "execution_count": null,
   "id": "09e79dd1-c733-4a60-b038-3ce285d0bbe3",
   "metadata": {},
   "outputs": [],
   "source": [
    "def merge_ntd(gdf):\n",
    "    \n",
    "    # Load NTD\n",
    "    ntd = A2_other.ntd_vehicles()[[\"agency\", \"total_buses\"]]\n",
    "    \n",
    "    # Replace so it will merge properly with NTD\n",
    "    gdf[\"agency\"] = gdf[\"agency\"].replace(\n",
    "    {\"Mammoth Lakes Transit System\": \"Eastern Sierra Transit Authority\"})\n",
    "    \n",
    "    # Merge\n",
    "    m1 = pd.merge(\n",
    "    gdf,\n",
    "    ntd,\n",
    "    how=\"left\",\n",
    "    on=\"agency\",\n",
    "    indicator=True,)\n",
    "    \n",
    "    # Fill agencies with NA buses with median total buses\n",
    "    median_total_buses = m1[\"total_buses\"].median()\n",
    "    m1[\"total_buses\"] = m1[\"total_buses\"].fillna(median_total_buses)\n",
    "    \n",
    "    # To get an estimate of buses that run in a low data zone.\n",
    "    # Multiply the agency's total buses by the % of its total trips that \n",
    "    # run in a low data zone.Fill NA with the median of this.\n",
    "    m1[\"estimate_of_buses_in_low_cell_zones\"] = (\n",
    "    (m1.total_buses * m1.percentage_of_trips_w_low_cell_service\n",
    "    )\n",
    "    .fillna((m1.total_buses * m1.percentage_of_trips_w_low_cell_service\n",
    "    ).median())\n",
    "    .astype('int64'))\n",
    "    \n",
    "    # Replace estimate of buses from 0 to 1. \n",
    "    m1.estimate_of_buses_in_low_cell_zones = m1.estimate_of_buses_in_low_cell_zones.replace({0:1})\n",
    "    \n",
    "    return m1"
   ]
  },
  {
   "cell_type": "code",
   "execution_count": 131,
   "id": "aa77ae9d-57bc-4387-b273-24dbe81aa40d",
   "metadata": {
    "scrolled": true,
    "tags": []
   },
   "outputs": [],
   "source": [
    "# m2.loc[m2._merge == \"right_only\"][['agency']].sort_values(by = 'agency')"
   ]
  },
  {
   "cell_type": "code",
   "execution_count": 132,
   "id": "eb958aaa-8f50-474b-a58e-50f43d030cac",
   "metadata": {},
   "outputs": [],
   "source": [
    "# m2.loc[m2._merge == \"left_only\"][['agency']]"
   ]
  },
  {
   "cell_type": "code",
   "execution_count": 136,
   "id": "dada8ecc-aac8-4f39-bd6c-555e21fc23e7",
   "metadata": {},
   "outputs": [],
   "source": [
    "# Fill agencies with NA buses with median total buses\n",
    "median_total_buses = m2[\"total_buses\"].median()"
   ]
  },
  {
   "cell_type": "code",
   "execution_count": 137,
   "id": "4744c534-25d5-4d52-a7d2-668bfb04269f",
   "metadata": {},
   "outputs": [],
   "source": [
    "m2[\"total_buses\"] = m2[\"total_buses\"].fillna(median_total_buses)"
   ]
  },
  {
   "cell_type": "code",
   "execution_count": 138,
   "id": "903a5d98-bc76-40ee-a92d-1828390030f6",
   "metadata": {},
   "outputs": [],
   "source": [
    "# To get an estimate of buses that run in a low data zone.\n",
    "# Multiply the agency's total buses by the % of its total trips that \n",
    "# run in a low data zone.Fill NA with the median of this.\n",
    "m2[\"estimate_of_buses_in_low_cell_zones\"] = (\n",
    "    (m2.total_buses * m2.percentage_of_trips_w_low_cell_service\n",
    "    )\n",
    "    .fillna((m2.total_buses * m2.percentage_of_trips_w_low_cell_service\n",
    "    ).median())\n",
    "    .astype('int64')\n",
    "   \n",
    ")"
   ]
  },
  {
   "cell_type": "code",
   "execution_count": 144,
   "id": "254a95fa-c628-47b1-864c-d247b7f30715",
   "metadata": {},
   "outputs": [],
   "source": [
    "# Replace 0 buses in low cell zone to 1\n",
    "m2.estimate_of_buses_in_low_cell_zones = m2.estimate_of_buses_in_low_cell_zones.replace({0:1})"
   ]
  },
  {
   "cell_type": "code",
   "execution_count": 145,
   "id": "d18e4bf6-3681-4809-93a3-4e213989f490",
   "metadata": {},
   "outputs": [],
   "source": [
    "cols_to_drop = ['itp_id', 'route_id', '_merge','total_buses']"
   ]
  },
  {
   "cell_type": "markdown",
   "id": "080dd627-1002-4f11-a33f-46bad32b2f9d",
   "metadata": {},
   "source": [
    "### Conclusions"
   ]
  },
  {
   "cell_type": "code",
   "execution_count": 146,
   "id": "ae5e6a5d-9468-4829-8ead-aa0dc2a687dc",
   "metadata": {
    "scrolled": true,
    "tags": []
   },
   "outputs": [
    {
     "ename": "KeyError",
     "evalue": "\"['itp_id' 'route_id' '_merge' 'total_buses'] not found in axis\"",
     "output_type": "error",
     "traceback": [
      "\u001b[0;31m---------------------------------------------------------------------------\u001b[0m",
      "\u001b[0;31mKeyError\u001b[0m                                  Traceback (most recent call last)",
      "Cell \u001b[0;32mIn[146], line 1\u001b[0m\n\u001b[0;32m----> 1\u001b[0m m2 \u001b[38;5;241m=\u001b[39m \u001b[43mm2\u001b[49m\u001b[38;5;241;43m.\u001b[39;49m\u001b[43mdrop\u001b[49m\u001b[43m(\u001b[49m\u001b[43mcolumns\u001b[49m\u001b[43m \u001b[49m\u001b[38;5;241;43m=\u001b[39;49m\u001b[43m \u001b[49m\u001b[43mcols_to_drop\u001b[49m\u001b[43m)\u001b[49m\n",
      "File \u001b[0;32m/opt/conda/lib/python3.9/site-packages/pandas/util/_decorators.py:311\u001b[0m, in \u001b[0;36mdeprecate_nonkeyword_arguments.<locals>.decorate.<locals>.wrapper\u001b[0;34m(*args, **kwargs)\u001b[0m\n\u001b[1;32m    305\u001b[0m \u001b[38;5;28;01mif\u001b[39;00m \u001b[38;5;28mlen\u001b[39m(args) \u001b[38;5;241m>\u001b[39m num_allow_args:\n\u001b[1;32m    306\u001b[0m     warnings\u001b[38;5;241m.\u001b[39mwarn(\n\u001b[1;32m    307\u001b[0m         msg\u001b[38;5;241m.\u001b[39mformat(arguments\u001b[38;5;241m=\u001b[39marguments),\n\u001b[1;32m    308\u001b[0m         \u001b[38;5;167;01mFutureWarning\u001b[39;00m,\n\u001b[1;32m    309\u001b[0m         stacklevel\u001b[38;5;241m=\u001b[39mstacklevel,\n\u001b[1;32m    310\u001b[0m     )\n\u001b[0;32m--> 311\u001b[0m \u001b[38;5;28;01mreturn\u001b[39;00m \u001b[43mfunc\u001b[49m\u001b[43m(\u001b[49m\u001b[38;5;241;43m*\u001b[39;49m\u001b[43margs\u001b[49m\u001b[43m,\u001b[49m\u001b[43m \u001b[49m\u001b[38;5;241;43m*\u001b[39;49m\u001b[38;5;241;43m*\u001b[39;49m\u001b[43mkwargs\u001b[49m\u001b[43m)\u001b[49m\n",
      "File \u001b[0;32m/opt/conda/lib/python3.9/site-packages/pandas/core/frame.py:4906\u001b[0m, in \u001b[0;36mDataFrame.drop\u001b[0;34m(self, labels, axis, index, columns, level, inplace, errors)\u001b[0m\n\u001b[1;32m   4774\u001b[0m \u001b[38;5;129m@deprecate_nonkeyword_arguments\u001b[39m(version\u001b[38;5;241m=\u001b[39m\u001b[38;5;28;01mNone\u001b[39;00m, allowed_args\u001b[38;5;241m=\u001b[39m[\u001b[38;5;124m\"\u001b[39m\u001b[38;5;124mself\u001b[39m\u001b[38;5;124m\"\u001b[39m, \u001b[38;5;124m\"\u001b[39m\u001b[38;5;124mlabels\u001b[39m\u001b[38;5;124m\"\u001b[39m])\n\u001b[1;32m   4775\u001b[0m \u001b[38;5;28;01mdef\u001b[39;00m \u001b[38;5;21mdrop\u001b[39m(\n\u001b[1;32m   4776\u001b[0m     \u001b[38;5;28mself\u001b[39m,\n\u001b[0;32m   (...)\u001b[0m\n\u001b[1;32m   4783\u001b[0m     errors: \u001b[38;5;28mstr\u001b[39m \u001b[38;5;241m=\u001b[39m \u001b[38;5;124m\"\u001b[39m\u001b[38;5;124mraise\u001b[39m\u001b[38;5;124m\"\u001b[39m,\n\u001b[1;32m   4784\u001b[0m ):\n\u001b[1;32m   4785\u001b[0m     \u001b[38;5;124;03m\"\"\"\u001b[39;00m\n\u001b[1;32m   4786\u001b[0m \u001b[38;5;124;03m    Drop specified labels from rows or columns.\u001b[39;00m\n\u001b[1;32m   4787\u001b[0m \n\u001b[0;32m   (...)\u001b[0m\n\u001b[1;32m   4904\u001b[0m \u001b[38;5;124;03m            weight  1.0     0.8\u001b[39;00m\n\u001b[1;32m   4905\u001b[0m \u001b[38;5;124;03m    \"\"\"\u001b[39;00m\n\u001b[0;32m-> 4906\u001b[0m     \u001b[38;5;28;01mreturn\u001b[39;00m \u001b[38;5;28;43msuper\u001b[39;49m\u001b[43m(\u001b[49m\u001b[43m)\u001b[49m\u001b[38;5;241;43m.\u001b[39;49m\u001b[43mdrop\u001b[49m\u001b[43m(\u001b[49m\n\u001b[1;32m   4907\u001b[0m \u001b[43m        \u001b[49m\u001b[43mlabels\u001b[49m\u001b[38;5;241;43m=\u001b[39;49m\u001b[43mlabels\u001b[49m\u001b[43m,\u001b[49m\n\u001b[1;32m   4908\u001b[0m \u001b[43m        \u001b[49m\u001b[43maxis\u001b[49m\u001b[38;5;241;43m=\u001b[39;49m\u001b[43maxis\u001b[49m\u001b[43m,\u001b[49m\n\u001b[1;32m   4909\u001b[0m \u001b[43m        \u001b[49m\u001b[43mindex\u001b[49m\u001b[38;5;241;43m=\u001b[39;49m\u001b[43mindex\u001b[49m\u001b[43m,\u001b[49m\n\u001b[1;32m   4910\u001b[0m \u001b[43m        \u001b[49m\u001b[43mcolumns\u001b[49m\u001b[38;5;241;43m=\u001b[39;49m\u001b[43mcolumns\u001b[49m\u001b[43m,\u001b[49m\n\u001b[1;32m   4911\u001b[0m \u001b[43m        \u001b[49m\u001b[43mlevel\u001b[49m\u001b[38;5;241;43m=\u001b[39;49m\u001b[43mlevel\u001b[49m\u001b[43m,\u001b[49m\n\u001b[1;32m   4912\u001b[0m \u001b[43m        \u001b[49m\u001b[43minplace\u001b[49m\u001b[38;5;241;43m=\u001b[39;49m\u001b[43minplace\u001b[49m\u001b[43m,\u001b[49m\n\u001b[1;32m   4913\u001b[0m \u001b[43m        \u001b[49m\u001b[43merrors\u001b[49m\u001b[38;5;241;43m=\u001b[39;49m\u001b[43merrors\u001b[49m\u001b[43m,\u001b[49m\n\u001b[1;32m   4914\u001b[0m \u001b[43m    \u001b[49m\u001b[43m)\u001b[49m\n",
      "File \u001b[0;32m/opt/conda/lib/python3.9/site-packages/pandas/core/generic.py:4150\u001b[0m, in \u001b[0;36mNDFrame.drop\u001b[0;34m(self, labels, axis, index, columns, level, inplace, errors)\u001b[0m\n\u001b[1;32m   4148\u001b[0m \u001b[38;5;28;01mfor\u001b[39;00m axis, labels \u001b[38;5;129;01min\u001b[39;00m axes\u001b[38;5;241m.\u001b[39mitems():\n\u001b[1;32m   4149\u001b[0m     \u001b[38;5;28;01mif\u001b[39;00m labels \u001b[38;5;129;01mis\u001b[39;00m \u001b[38;5;129;01mnot\u001b[39;00m \u001b[38;5;28;01mNone\u001b[39;00m:\n\u001b[0;32m-> 4150\u001b[0m         obj \u001b[38;5;241m=\u001b[39m \u001b[43mobj\u001b[49m\u001b[38;5;241;43m.\u001b[39;49m\u001b[43m_drop_axis\u001b[49m\u001b[43m(\u001b[49m\u001b[43mlabels\u001b[49m\u001b[43m,\u001b[49m\u001b[43m \u001b[49m\u001b[43maxis\u001b[49m\u001b[43m,\u001b[49m\u001b[43m \u001b[49m\u001b[43mlevel\u001b[49m\u001b[38;5;241;43m=\u001b[39;49m\u001b[43mlevel\u001b[49m\u001b[43m,\u001b[49m\u001b[43m \u001b[49m\u001b[43merrors\u001b[49m\u001b[38;5;241;43m=\u001b[39;49m\u001b[43merrors\u001b[49m\u001b[43m)\u001b[49m\n\u001b[1;32m   4152\u001b[0m \u001b[38;5;28;01mif\u001b[39;00m inplace:\n\u001b[1;32m   4153\u001b[0m     \u001b[38;5;28mself\u001b[39m\u001b[38;5;241m.\u001b[39m_update_inplace(obj)\n",
      "File \u001b[0;32m/opt/conda/lib/python3.9/site-packages/pandas/core/generic.py:4185\u001b[0m, in \u001b[0;36mNDFrame._drop_axis\u001b[0;34m(self, labels, axis, level, errors)\u001b[0m\n\u001b[1;32m   4183\u001b[0m         new_axis \u001b[38;5;241m=\u001b[39m axis\u001b[38;5;241m.\u001b[39mdrop(labels, level\u001b[38;5;241m=\u001b[39mlevel, errors\u001b[38;5;241m=\u001b[39merrors)\n\u001b[1;32m   4184\u001b[0m     \u001b[38;5;28;01melse\u001b[39;00m:\n\u001b[0;32m-> 4185\u001b[0m         new_axis \u001b[38;5;241m=\u001b[39m \u001b[43maxis\u001b[49m\u001b[38;5;241;43m.\u001b[39;49m\u001b[43mdrop\u001b[49m\u001b[43m(\u001b[49m\u001b[43mlabels\u001b[49m\u001b[43m,\u001b[49m\u001b[43m \u001b[49m\u001b[43merrors\u001b[49m\u001b[38;5;241;43m=\u001b[39;49m\u001b[43merrors\u001b[49m\u001b[43m)\u001b[49m\n\u001b[1;32m   4186\u001b[0m     result \u001b[38;5;241m=\u001b[39m \u001b[38;5;28mself\u001b[39m\u001b[38;5;241m.\u001b[39mreindex(\u001b[38;5;241m*\u001b[39m\u001b[38;5;241m*\u001b[39m{axis_name: new_axis})\n\u001b[1;32m   4188\u001b[0m \u001b[38;5;66;03m# Case for non-unique axis\u001b[39;00m\n\u001b[1;32m   4189\u001b[0m \u001b[38;5;28;01melse\u001b[39;00m:\n",
      "File \u001b[0;32m/opt/conda/lib/python3.9/site-packages/pandas/core/indexes/base.py:6017\u001b[0m, in \u001b[0;36mIndex.drop\u001b[0;34m(self, labels, errors)\u001b[0m\n\u001b[1;32m   6015\u001b[0m \u001b[38;5;28;01mif\u001b[39;00m mask\u001b[38;5;241m.\u001b[39many():\n\u001b[1;32m   6016\u001b[0m     \u001b[38;5;28;01mif\u001b[39;00m errors \u001b[38;5;241m!=\u001b[39m \u001b[38;5;124m\"\u001b[39m\u001b[38;5;124mignore\u001b[39m\u001b[38;5;124m\"\u001b[39m:\n\u001b[0;32m-> 6017\u001b[0m         \u001b[38;5;28;01mraise\u001b[39;00m \u001b[38;5;167;01mKeyError\u001b[39;00m(\u001b[38;5;124mf\u001b[39m\u001b[38;5;124m\"\u001b[39m\u001b[38;5;132;01m{\u001b[39;00mlabels[mask]\u001b[38;5;132;01m}\u001b[39;00m\u001b[38;5;124m not found in axis\u001b[39m\u001b[38;5;124m\"\u001b[39m)\n\u001b[1;32m   6018\u001b[0m     indexer \u001b[38;5;241m=\u001b[39m indexer[\u001b[38;5;241m~\u001b[39mmask]\n\u001b[1;32m   6019\u001b[0m \u001b[38;5;28;01mreturn\u001b[39;00m \u001b[38;5;28mself\u001b[39m\u001b[38;5;241m.\u001b[39mdelete(indexer)\n",
      "\u001b[0;31mKeyError\u001b[0m: \"['itp_id' 'route_id' '_merge' 'total_buses'] not found in axis\""
     ]
    }
   ],
   "source": [
    "m2 = m2.drop(columns = cols_to_drop)"
   ]
  },
  {
   "cell_type": "code",
   "execution_count": 150,
   "id": "dd23ca97-98ee-4b0a-b698-b7770c7efe07",
   "metadata": {},
   "outputs": [
    {
     "data": {
      "text/plain": [
       "90"
      ]
     },
     "execution_count": 150,
     "metadata": {},
     "output_type": "execute_result"
    }
   ],
   "source": [
    "m2.estimate_of_buses_in_low_cell_zones.sum()"
   ]
  },
  {
   "cell_type": "code",
   "execution_count": 152,
   "id": "8f633ccb-efbb-46d4-82a7-a79dab40fcb5",
   "metadata": {},
   "outputs": [
    {
     "data": {
      "text/plain": [
       "31"
      ]
     },
     "execution_count": 152,
     "metadata": {},
     "output_type": "execute_result"
    }
   ],
   "source": [
    "m2.long_route_name.nunique()"
   ]
  },
  {
   "cell_type": "code",
   "execution_count": 153,
   "id": "54b830c0-56ef-4d8d-9586-09576588fc8d",
   "metadata": {},
   "outputs": [
    {
     "data": {
      "text/plain": [
       "D-4            8\n",
       "D-1            7\n",
       "D-6            3\n",
       "D-2            3\n",
       "D-9            2\n",
       "D-5            2\n",
       "D-10           2\n",
       "D-1,D-4,D-4    1\n",
       "D-1,D-1,D-2    1\n",
       "D-3            1\n",
       "D-7            1\n",
       "Name: District, dtype: int64"
      ]
     },
     "execution_count": 153,
     "metadata": {},
     "output_type": "execute_result"
    }
   ],
   "source": [
    "m2.District.value_counts()"
   ]
  },
  {
   "cell_type": "code",
   "execution_count": 151,
   "id": "52039bd3-e581-42fe-8eff-6f8b74dc02e0",
   "metadata": {},
   "outputs": [
    {
     "data": {
      "text/plain": [
       "Trinity Transit                                           4\n",
       "Golden Gate Bridge Highway and Transportation District    3\n",
       "Eastern Sierra Transit Authority                          2\n",
       "Santa Cruz Metropolitan Transit District                  2\n",
       "Redwood Coast Transit                                     2\n",
       "MUNI                                                      2\n",
       "Mendocino Transit Authority                               2\n",
       "AC Transit                                                2\n",
       "Yosemite Area Regional Transportation System              2\n",
       "Eureka Transit Service                                    1\n",
       "Gold Country Stage                                        1\n",
       "Capitol Corridor                                          1\n",
       "Humboldt Transit Authority                                1\n",
       "Kern Transit                                              1\n",
       "Los Angeles Department of Transportation                  1\n",
       "Blue Lake Rancheria                                       1\n",
       "Arcata and Mad River Transit System                       1\n",
       "Tulare County Area Transit                                1\n",
       "Tulare County Regional Transit Agency                     1\n",
       "Name: agency, dtype: int64"
      ]
     },
     "execution_count": 151,
     "metadata": {},
     "output_type": "execute_result"
    }
   ],
   "source": [
    "m2.agency.value_counts()"
   ]
  },
  {
   "cell_type": "markdown",
   "id": "33c40e0d-e725-435e-9167-c2ef18044b81",
   "metadata": {
    "tags": []
   },
   "source": [
    "#### Map\n",
    "* How to toggle map layers to switch between AT&T/T Mobile/Verizon?"
   ]
  },
  {
   "cell_type": "code",
   "execution_count": 127,
   "id": "a15ca0dc-9a52-4f7f-924f-6901946d0046",
   "metadata": {},
   "outputs": [],
   "source": [
    "# Grab the names of routes are \"low coverage.\"\n",
    "low_coverage_routes = low_coverage.long_route_name.unique().tolist()"
   ]
  },
  {
   "cell_type": "code",
   "execution_count": 128,
   "id": "fb23d49e-09ed-4276-ac1a-d10c0dbd019d",
   "metadata": {},
   "outputs": [],
   "source": [
    "# Get original geometry\n",
    "low_coverage_og_geometry = (\n",
    "    all_routes[all_routes[\"long_route_name\"].isin(low_coverage_routes)]\n",
    ").reset_index(drop=True)"
   ]
  },
  {
   "cell_type": "code",
   "execution_count": 129,
   "id": "212cfd79-ab85-4d24-a062-53d483ea568d",
   "metadata": {},
   "outputs": [],
   "source": [
    "m = tmobile.explore(\n",
    "    tiles=\"CartoDB positron\",\n",
    "    width=800,\n",
    "    height=500,\n",
    ")"
   ]
  },
  {
   "cell_type": "code",
   "execution_count": 156,
   "id": "4a0e6680-4ec9-4bf9-bec9-e6f7e19dd5ce",
   "metadata": {},
   "outputs": [],
   "source": [
    "m = low_coverage_og_geometry.explore(\"long_route_name\",\n",
    "    m=m,legend = False,\n",
    ")\n",
    "\n",
    "# m"
   ]
  }
 ],
 "metadata": {
  "kernelspec": {
   "display_name": "Python 3 (ipykernel)",
   "language": "python",
   "name": "python3"
  },
  "language_info": {
   "codemirror_mode": {
    "name": "ipython",
    "version": 3
   },
   "file_extension": ".py",
   "mimetype": "text/x-python",
   "name": "python",
   "nbconvert_exporter": "python",
   "pygments_lexer": "ipython3",
   "version": "3.9.13"
  }
 },
 "nbformat": 4,
 "nbformat_minor": 5
}
