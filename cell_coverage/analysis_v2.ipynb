{
 "cells": [
  {
   "cell_type": "markdown",
   "id": "c72db752-8725-4ee2-bb26-c37fbf8f3024",
   "metadata": {},
   "source": [
    "### Analysis V2\n"
   ]
  },
  {
   "cell_type": "code",
   "execution_count": 1,
   "id": "72762925-7b30-46fa-aeba-68b1bd1036b2",
   "metadata": {},
   "outputs": [
    {
     "name": "stderr",
     "output_type": "stream",
     "text": [
      "/opt/conda/lib/python3.9/site-packages/geopandas/_compat.py:123: UserWarning: The Shapely GEOS version (3.10.3-CAPI-1.16.1) is incompatible with the GEOS version PyGEOS was compiled with (3.10.1-CAPI-1.16.0). Conversions between both will be slow.\n",
      "  warnings.warn(\n"
     ]
    }
   ],
   "source": [
    "import dask.dataframe as dd\n",
    "import dask_geopandas as dg\n",
    "import geopandas as gpd\n",
    "import numpy as np\n",
    "import pandas as pd\n",
    "import shapely.wkt\n",
    "import A1_provider_prep\n",
    "import A2_analysis\n",
    "import A3_other\n",
    "from calitp.sql import to_snakecase\n",
    "from shared_utils import geography_utils, utils"
   ]
  },
  {
   "cell_type": "code",
   "execution_count": 2,
   "id": "db7798bd-9734-48a0-ad9a-40268e23f801",
   "metadata": {},
   "outputs": [],
   "source": [
    "pd.options.display.max_columns = 100\n",
    "pd.options.display.float_format = \"{:.2f}\".format\n",
    "pd.set_option(\"display.max_rows\", None)\n",
    "pd.set_option(\"display.max_colwidth\", None)"
   ]
  },
  {
   "cell_type": "code",
   "execution_count": 3,
   "id": "359b82dd-5eae-4660-828b-9a371d00b645",
   "metadata": {},
   "outputs": [],
   "source": [
    "att_og = A1_provider_prep.load_att()\n",
    "tmobile_og = A1_provider_prep.load_tmobile()\n",
    "verizon_og = A1_provider_prep.load_verizon()"
   ]
  },
  {
   "cell_type": "code",
   "execution_count": 4,
   "id": "1d16adc9-45e1-4cca-926a-6f186d6eef1e",
   "metadata": {},
   "outputs": [],
   "source": [
    "# Simplify provider maps\n",
    "# https://stackoverflow.com/questions/69103074/gdf-simplify-messes-up-geometries\n",
    "def simplify_geometry(provider: gpd.GeoDataFrame):\n",
    "    provider = provider.assign(\n",
    "    geometry = (provider\n",
    "                .geometry.to_crs(geography_utils.CA_StatePlane)\n",
    "                .simplify(0.1)\n",
    "                .buffer(0)\n",
    "                .to_crs(geography_utils.WGS84))\n",
    "    )\n",
    "\n",
    "    return provider"
   ]
  },
  {
   "cell_type": "code",
   "execution_count": 5,
   "id": "98b2bb00-1337-402b-80c1-8bb42fce2eb4",
   "metadata": {},
   "outputs": [],
   "source": [
    "# att_simple = simplify_geometry(att_og)"
   ]
  },
  {
   "cell_type": "code",
   "execution_count": null,
   "id": "3a762ecd-34d1-4ce8-8c12-3b4ec74d2280",
   "metadata": {},
   "outputs": [],
   "source": [
    "# All three rows are false\n",
    "# att_simple.geometry.is_valid"
   ]
  },
  {
   "cell_type": "code",
   "execution_count": null,
   "id": "2f9bb256-aeb9-42a6-ba86-d3bd81d854b9",
   "metadata": {},
   "outputs": [],
   "source": [
    "# Geometries are true across each gdf\n",
    "# verizon_simple.geometry.is_valid.all(), , tmobile_simple.geometry.is_valid.all(),"
   ]
  },
  {
   "cell_type": "code",
   "execution_count": null,
   "id": "69f573b6-44fe-433c-9281-c436b4d90ec5",
   "metadata": {},
   "outputs": [],
   "source": [
    "unique_routes = A3_other.load_unique_routes_df()"
   ]
  },
  {
   "cell_type": "code",
   "execution_count": null,
   "id": "29c5f228-82d9-4358-99c3-9b756a755c0a",
   "metadata": {},
   "outputs": [],
   "source": [
    "def split_routes():\n",
    "    unique_routes = A3_other.load_unique_routes_df()\n",
    "    # Split unique_routes to 4 different ones\n",
    "    # https://stackoverflow.com/questions/17315737/split-a-large-pandas-dataframe\n",
    "    df_split = np.array_split(unique_routes, 4)\n",
    "    \n",
    "    df1 = df_split[0]\n",
    "    df2 = df_split[1]\n",
    "    df3 = df_split[2]\n",
    "    df4 = df_split[3]\n",
    "    \n",
    "    return df1,df2,df3,df4"
   ]
  },
  {
   "cell_type": "code",
   "execution_count": null,
   "id": "3e411bca-c3be-4869-a8b7-7d0e3463483b",
   "metadata": {},
   "outputs": [],
   "source": [
    "r1,r2,r3,r4 = split_routes()"
   ]
  },
  {
   "cell_type": "markdown",
   "id": "800e6799-0f2b-42e7-a239-91681eef5b31",
   "metadata": {
    "tags": []
   },
   "source": [
    "### Notes\n",
    "* Verizon_simple does not work with `comparison.` Around 500 routes are passed when using `overlay_single_routes`.\n",
    "* Verizon_og does not work. Returns the error: `TopologyException: side location conflict at -122.30299999995003 37.938999999750251. This can occur if the input geometry is invalid.`\n",
    "* Both gdf returns `true` when `.geometry.is_valid.all()` is applied to them."
   ]
  },
  {
   "cell_type": "code",
   "execution_count": null,
   "id": "b2866824-8084-409e-9b9e-c43af0848002",
   "metadata": {
    "scrolled": true,
    "tags": []
   },
   "outputs": [],
   "source": [
    "# TopologyException: side location conflict at -122.30299999995003 37.938999999750251. This can occur if the input geometry is invalid.\n",
    "# verizon_o = A2_analysis.comparison(verizon_og, r1)"
   ]
  },
  {
   "cell_type": "markdown",
   "id": "35a31cf3-1474-4f6b-b29e-b2d7d1155ecb",
   "metadata": {},
   "source": [
    "### Function Ideas\n",
    "* Other Function should:\n",
    "    * Drop Duplicates\n",
    "    * Sum up new route length by long route name\n",
    "    * Find max of original route length\n",
    "    * Divide new route length by original to get percentage covered. \n",
    "    * Del irrelevant columns\n",
    "    * Does it have to be a gdf at this point or can it just be a normal dataframe?\n",
    "* Now if something has a low percentage of intersecting: that is a good sign? \n",
    "* Maps only contain areas *without* coverage. So if it only intersects a little, means route mostly has coverage?"
   ]
  },
  {
   "cell_type": "code",
   "execution_count": null,
   "id": "f2a53a08-6a79-45af-80a5-a465c14f4eb7",
   "metadata": {},
   "outputs": [],
   "source": [
    "tmobile_overlay = A2_analysis.comparison(unique_routes, tmobile_og )"
   ]
  },
  {
   "cell_type": "code",
   "execution_count": null,
   "id": "2a82a526-f499-44fa-9608-da38c4b82995",
   "metadata": {
    "scrolled": true,
    "tags": []
   },
   "outputs": [],
   "source": [
    "tmobile_overlay = A2_analysis.dissolve_summarize(tmobile_overlay)"
   ]
  },
  {
   "cell_type": "code",
   "execution_count": null,
   "id": "e7db32dc-009e-4d19-a579-606f81f34c4d",
   "metadata": {},
   "outputs": [],
   "source": [
    "len(tmobile_overlay), tmobile_overlay.long_route_name.nunique()"
   ]
  },
  {
   "cell_type": "code",
   "execution_count": null,
   "id": "c74ec3a1-af26-4d47-9584-d6f159048ab7",
   "metadata": {},
   "outputs": [],
   "source": [
    "len(att_district_simplified_overlay), att_district_simplified_overlay.long_route_name.nunique()"
   ]
  },
  {
   "cell_type": "code",
   "execution_count": null,
   "id": "86d37e80-e1ed-4938-8a6b-e922cca64bfe",
   "metadata": {},
   "outputs": [],
   "source": [
    "# att_overlay = A2_analysis.comparison(att_og, r1)"
   ]
  },
  {
   "cell_type": "code",
   "execution_count": null,
   "id": "46c5e76c-9f78-4535-b695-0a98b9e295eb",
   "metadata": {},
   "outputs": [],
   "source": [
    "# att_simple.plot()"
   ]
  },
  {
   "cell_type": "code",
   "execution_count": null,
   "id": "6bf7d47d-10f2-440e-aef1-a263db3d47b7",
   "metadata": {},
   "outputs": [],
   "source": [
    "# att_overlay"
   ]
  },
  {
   "cell_type": "code",
   "execution_count": null,
   "id": "b00eb1c9-cd32-4ed5-a5e2-0053d2cdf392",
   "metadata": {},
   "outputs": [],
   "source": [
    "# tmobile_agg = A2_analysis.dissolve_summarize(tmobile_overlay)"
   ]
  },
  {
   "cell_type": "code",
   "execution_count": null,
   "id": "511c0aa1-bca4-45df-9e5e-b44fe59bae52",
   "metadata": {},
   "outputs": [],
   "source": [
    "# att_agg[att_agg.agency == 'AC Transit']"
   ]
  },
  {
   "cell_type": "code",
   "execution_count": null,
   "id": "d1ad4553-e1f0-4b37-8f78-b70442273540",
   "metadata": {
    "scrolled": true,
    "tags": []
   },
   "outputs": [],
   "source": [
    "ac_transit_only_tmobile = tmobile_overlay[tmobile_overlay.agency == 'AC Transit']"
   ]
  },
  {
   "cell_type": "code",
   "execution_count": null,
   "id": "56c30724-c0be-4797-874e-15b0946406f9",
   "metadata": {},
   "outputs": [],
   "source": [
    "ac_transit_only_att = att_district_simplified_overlay[att_district_simplified_overlay.agency == 'AC Transit']"
   ]
  },
  {
   "cell_type": "code",
   "execution_count": null,
   "id": "8a58fc34-bf1d-42b4-b016-874fd688b9d0",
   "metadata": {
    "scrolled": true,
    "tags": []
   },
   "outputs": [],
   "source": [
    "ac_transit_only_tmobile[['long_route_name','percentage_route_covered']].sort_values('percentage_route_covered')"
   ]
  }
 ],
 "metadata": {
  "kernelspec": {
   "display_name": "Python 3 (ipykernel)",
   "language": "python",
   "name": "python3"
  },
  "language_info": {
   "codemirror_mode": {
    "name": "ipython",
    "version": 3
   },
   "file_extension": ".py",
   "mimetype": "text/x-python",
   "name": "python",
   "nbconvert_exporter": "python",
   "pygments_lexer": "ipython3",
   "version": "3.9.13"
  }
 },
 "nbformat": 4,
 "nbformat_minor": 5
}
