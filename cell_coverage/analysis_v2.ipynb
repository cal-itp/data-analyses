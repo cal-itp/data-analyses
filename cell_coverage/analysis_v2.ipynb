{
 "cells": [
  {
   "cell_type": "markdown",
   "id": "c72db752-8725-4ee2-bb26-c37fbf8f3024",
   "metadata": {},
   "source": [
    "### Analysis V2\n"
   ]
  },
  {
   "cell_type": "code",
   "execution_count": null,
   "id": "72762925-7b30-46fa-aeba-68b1bd1036b2",
   "metadata": {},
   "outputs": [],
   "source": [
    "import dask.dataframe as dd\n",
    "import dask_geopandas as dg\n",
    "import geopandas as gpd\n",
    "import numpy as np\n",
    "import pandas as pd\n",
    "import shapely.wkt\n",
    "import utilities\n",
    "from calitp import *\n",
    "from shared_utils import geography_utils, utils"
   ]
  },
  {
   "cell_type": "markdown",
   "id": "01e4a777-4bb2-461c-bd4c-a11553e2eccd",
   "metadata": {},
   "source": [
    "### Load in Provider Maps"
   ]
  },
  {
   "cell_type": "code",
   "execution_count": null,
   "id": "198fd484-2a95-4be8-b911-2f24b7126991",
   "metadata": {},
   "outputs": [],
   "source": [
    "# Simple Version\n",
    "verizon_simple, att_simple, tmobile_simple = utilities.simplify_geometry_all_providers()"
   ]
  },
  {
   "cell_type": "code",
   "execution_count": null,
   "id": "2f9bb256-aeb9-42a6-ba86-d3bd81d854b9",
   "metadata": {},
   "outputs": [],
   "source": [
    "# Geometries are true across each gdf\n",
    "verizon_simple.geometry.is_valid.all(), att_simple.geometry.is_valid.all(), tmobile_simple.geometry.is_valid.all(),"
   ]
  },
  {
   "cell_type": "code",
   "execution_count": null,
   "id": "36495e7b-f548-41fa-8216-e06c9b84e935",
   "metadata": {},
   "outputs": [],
   "source": [
    "# verizon_og =utilities.load_verizon()\n",
    "# att_og = utilities.load_att()\n",
    "# tmobile_og = utilities.load_tmobile()"
   ]
  },
  {
   "cell_type": "markdown",
   "id": "fdea5364-3ffe-4686-aeb3-a3a698c6e10b",
   "metadata": {},
   "source": [
    "### Load in Routes "
   ]
  },
  {
   "cell_type": "code",
   "execution_count": null,
   "id": "69f573b6-44fe-433c-9281-c436b4d90ec5",
   "metadata": {},
   "outputs": [],
   "source": [
    "unique_routes = utilities.load_unique_routes_df()"
   ]
  },
  {
   "cell_type": "code",
   "execution_count": null,
   "id": "1eb66e84-1d19-4cdc-b0cf-c01e7afc76b5",
   "metadata": {},
   "outputs": [],
   "source": [
    "len(unique_routes)"
   ]
  },
  {
   "cell_type": "code",
   "execution_count": null,
   "id": "5326f3d1-f1c4-4b1e-b8e6-0c4e97ba2f01",
   "metadata": {},
   "outputs": [],
   "source": [
    "# Ensure CRS are the same\n",
    "unique_routes.crs == att_simple.crs == tmobile_simple.crs == verizon_simple.crs"
   ]
  },
  {
   "cell_type": "markdown",
   "id": "c08d34e6-14e5-44c9-a1bd-e0f31d91d7f3",
   "metadata": {},
   "source": [
    "### Overlay"
   ]
  },
  {
   "cell_type": "code",
   "execution_count": null,
   "id": "bacbb224-c455-4bca-b148-f8fbf7c5acd5",
   "metadata": {},
   "outputs": [],
   "source": [
    "# Routes from analysis v1 that didn't make sense\n",
    "routes_wanted = [\n",
    "    \"Edmund D. Edelman Children’s Court Shuttle\",\n",
    "    \"Oakland - San Francisco\",\n",
    "    \"Foster City - Hillsdale Mall\",\n",
    "    \"24 hour service daily\",\n",
    "    \"Mammoth Lakes HWY 120E/395\",\n",
    "    \"Avocado Heights/Bassett/West Valinda Shuttle\",\n",
    "    \"Long Beach/San Pedro\",\n",
    "]"
   ]
  },
  {
   "cell_type": "code",
   "execution_count": null,
   "id": "a79ad073-4484-45f1-a7c0-d1aa27b807b4",
   "metadata": {},
   "outputs": [],
   "source": [
    "unique_routes_subset = unique_routes[unique_routes[\"route_name\"].isin(routes_wanted)]"
   ]
  },
  {
   "cell_type": "code",
   "execution_count": null,
   "id": "24d9ddbc-b1d2-44cc-ab6c-c9e3c3aa85e6",
   "metadata": {},
   "outputs": [],
   "source": [
    "len(unique_routes_subset)"
   ]
  },
  {
   "cell_type": "code",
   "execution_count": null,
   "id": "dcb7ad9d-27e1-47a7-9d8f-8031f9ff2bab",
   "metadata": {
    "tags": []
   },
   "outputs": [],
   "source": [
    "intersect_att = utilities.comparison(unique_routes_subset, att)"
   ]
  },
  {
   "cell_type": "code",
   "execution_count": null,
   "id": "6904b672-d3b0-4f84-b27b-8ca693038158",
   "metadata": {},
   "outputs": [],
   "source": [
    "intersect_att"
   ]
  },
  {
   "cell_type": "code",
   "execution_count": null,
   "id": "b00b72b9-adda-4e44-aaec-510df4c7d87e",
   "metadata": {},
   "outputs": [],
   "source": [
    "# Error message: /tmp/ipykernel_1424/566793742.py:1: UserWarning: `keep_geom_type=True` in overlay\n",
    "# resulted in 69 dropped geometries of different geometry types than df1 has. Set `keep_geom_type=False` to retain all geometries\n",
    "intersect_att1 = gpd.overlay(\n",
    "    att, unique_routes_subset, how=\"intersection\", keep_geom_type=False\n",
    ")"
   ]
  },
  {
   "cell_type": "code",
   "execution_count": null,
   "id": "08678a1c-f313-4cdf-8175-a60c61546caa",
   "metadata": {},
   "outputs": [],
   "source": [
    "intersect_tmobile = gpd.overlay(\n",
    "    tmobile, unique_routes_subset, how=\"intersection\", keep_geom_type=False\n",
    ")"
   ]
  },
  {
   "cell_type": "code",
   "execution_count": null,
   "id": "3976f2b6-cb66-4c12-a69e-92321bbaa841",
   "metadata": {},
   "outputs": [],
   "source": [
    "intersect_tmobile = intersect_tmobile.assign(\n",
    "    route_length=intersect_tmobile.geometry.to_crs(geography_utils.CA_StatePlane).length\n",
    ")"
   ]
  },
  {
   "cell_type": "code",
   "execution_count": null,
   "id": "e04184d7-fae2-43ee-a637-506cbf1dfee2",
   "metadata": {},
   "outputs": [],
   "source": [
    "intersect_tmobile"
   ]
  },
  {
   "cell_type": "code",
   "execution_count": null,
   "id": "3e60b197-19bd-477a-ba36-e01026352e3b",
   "metadata": {
    "scrolled": true,
    "tags": []
   },
   "outputs": [],
   "source": [
    "# TypeError: `keep_geom_type` does not support GeometryCollection.\n",
    "intersect_verizon = gpd.overlay(\n",
    "    verizon, unique_routes_subset, how=\"intersection\", keep_geom_type=False\n",
    ")"
   ]
  },
  {
   "cell_type": "code",
   "execution_count": null,
   "id": "9aa1a710-d2de-430c-9a0f-0083a554dab2",
   "metadata": {},
   "outputs": [],
   "source": [
    "intersect_verizon"
   ]
  },
  {
   "cell_type": "code",
   "execution_count": null,
   "id": "b40a9325-9605-476b-a2d2-07214e2f0ab8",
   "metadata": {
    "tags": []
   },
   "outputs": [],
   "source": [
    "def overlay_single_routes(\n",
    "    provider: gpd.GeoDataFrame, routes: gpd.GeoDataFrame, provider_name: str\n",
    "):\n",
    "    \"\"\"\n",
    "    For any provider or routes that may cause an issue, \n",
    "    use this function to pass and print out the names of \n",
    "    problematic routes. \n",
    "    \"\"\"\n",
    "\n",
    "    # Empty dataframe to hold results\n",
    "    all_intersected_routes = pd.DataFrame()\n",
    "\n",
    "    # List of long route names\n",
    "    unique_routes_list = routes.long_route_name.unique().tolist()\n",
    "\n",
    "    # Intersect route by route, skipping those that don't work\n",
    "    for i in unique_routes_list:\n",
    "        filtered = routes[routes.long_route_name == i].reset_index(drop=True)\n",
    "        try:\n",
    "            intersected = gpd.overlay(\n",
    "                provider, filtered, how=\"intersection\", keep_geom_type=False\n",
    "            )\n",
    "            all_intersected_routes = pd.concat(\n",
    "                [all_intersected_routes, intersected], axis=0\n",
    "            )\n",
    "        except:\n",
    "            pass\n",
    "            print(f\"{i}\")\n",
    "\n",
    "    utils.geoparquet_gcs_export(intersected_routes, utilities.GCS_FILE_PATH, f\"{provider_name}_intersected_routes\")\n",
    "\n",
    "    return all_intersected_routes"
   ]
  },
  {
   "cell_type": "code",
   "execution_count": 2,
   "id": "ca26e30f-b76a-4c8a-b37a-bafd45b2e4ae",
   "metadata": {
    "scrolled": true,
    "tags": []
   },
   "outputs": [
    {
     "ename": "NameError",
     "evalue": "name 'utilities' is not defined",
     "output_type": "error",
     "traceback": [
      "\u001b[0;31m---------------------------------------------------------------------------\u001b[0m",
      "\u001b[0;31mNameError\u001b[0m                                 Traceback (most recent call last)",
      "Cell \u001b[0;32mIn[2], line 1\u001b[0m\n\u001b[0;32m----> 1\u001b[0m att_o \u001b[38;5;241m=\u001b[39m \u001b[43mutilities\u001b[49m\u001b[38;5;241m.\u001b[39mcomparison(att_simple, unique_routes)\n",
      "\u001b[0;31mNameError\u001b[0m: name 'utilities' is not defined"
     ]
    }
   ],
   "source": [
    "att_o = utilities.comparison(att_simple, unique_routes)"
   ]
  },
  {
   "cell_type": "code",
   "execution_count": null,
   "id": "dbc364b1-6f40-4cd3-a26a-0b0529589559",
   "metadata": {},
   "outputs": [],
   "source": [
    "# utils.geoparquet_gcs_export(verizon_o, utilities.GCS_FILE_PATH, \"verizon_simplified_15\")"
   ]
  },
  {
   "cell_type": "code",
   "execution_count": null,
   "id": "f47c755b-3f87-40a1-b25f-f3853f03bad1",
   "metadata": {},
   "outputs": [],
   "source": [
    "# Routes that didn't work when using verizon simplified "
   ]
  },
  {
   "cell_type": "code",
   "execution_count": null,
   "id": "29c5f228-82d9-4358-99c3-9b756a755c0a",
   "metadata": {},
   "outputs": [],
   "source": [
    "\"\"\"def split_routes():\n",
    "    unique_routes = utilities.load_unique_routes_df()\n",
    "    # Split unique_routes to 4 different ones\n",
    "    # https://stackoverflow.com/questions/17315737/split-a-large-pandas-dataframe\n",
    "    df_split = np.array_split(unique_routes, 4)\n",
    "    \n",
    "    df1 = df_split[0]\n",
    "    df2 = df_split[1]\n",
    "    df3 = df_split[2]\n",
    "    df4 = df_split[3]\n",
    "    \n",
    "    return df1,df2,df3,df4\n",
    "\"\"\""
   ]
  }
 ],
 "metadata": {
  "kernelspec": {
   "display_name": "Python 3 (ipykernel)",
   "language": "python",
   "name": "python3"
  },
  "language_info": {
   "codemirror_mode": {
    "name": "ipython",
    "version": 3
   },
   "file_extension": ".py",
   "mimetype": "text/x-python",
   "name": "python",
   "nbconvert_exporter": "python",
   "pygments_lexer": "ipython3",
   "version": "3.9.13"
  }
 },
 "nbformat": 4,
 "nbformat_minor": 5
}
