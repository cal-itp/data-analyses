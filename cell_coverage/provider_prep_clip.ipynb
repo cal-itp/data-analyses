{
 "cells": [
  {
   "cell_type": "code",
   "execution_count": 1,
   "id": "e2220a62-b01b-4536-8b24-b27344eab23e",
   "metadata": {},
   "outputs": [
    {
     "name": "stderr",
     "output_type": "stream",
     "text": [
      "/opt/conda/lib/python3.9/site-packages/geopandas/_compat.py:123: UserWarning: The Shapely GEOS version (3.10.3-CAPI-1.16.1) is incompatible with the GEOS version PyGEOS was compiled with (3.10.1-CAPI-1.16.0). Conversions between both will be slow.\n",
      "  warnings.warn(\n"
     ]
    }
   ],
   "source": [
    "import dask.dataframe as dd\n",
    "import dask_geopandas as dg\n",
    "import geopandas as gpd\n",
    "import numpy as np\n",
    "import pandas as pd\n",
    "import A1_provider_prep\n",
    "import A2_other\n",
    "import A3_analysis\n",
    "from calitp.sql import to_snakecase\n",
    "from shared_utils import geography_utils, utils"
   ]
  },
  {
   "cell_type": "code",
   "execution_count": 2,
   "id": "46b1d125-6d8e-4275-a264-a96bbe05e12a",
   "metadata": {},
   "outputs": [],
   "source": [
    "# Save files to GCS\n",
    "from calitp.storage import get_fs\n",
    "fs = get_fs()"
   ]
  },
  {
   "cell_type": "code",
   "execution_count": 3,
   "id": "b0a8b5c2-9851-44a1-9efd-29b32831987c",
   "metadata": {},
   "outputs": [],
   "source": [
    "# Record start and end time\n",
    "import datetime\n",
    "from loguru import logger"
   ]
  },
  {
   "cell_type": "code",
   "execution_count": 4,
   "id": "4d4d4d43-2184-4b1b-9820-a48323042a41",
   "metadata": {},
   "outputs": [],
   "source": [
    "pd.options.display.max_columns = 100\n",
    "pd.options.display.float_format = \"{:.2f}\".format\n",
    "pd.set_option(\"display.max_rows\", None)\n",
    "pd.set_option(\"display.max_colwidth\", None)"
   ]
  },
  {
   "cell_type": "markdown",
   "id": "766b0f0f-0e61-4764-ac1a-6eb76ed9f1f2",
   "metadata": {},
   "source": [
    "### Function to find a specific file based on a string."
   ]
  },
  {
   "cell_type": "code",
   "execution_count": 5,
   "id": "57f251ff-ca98-4c3c-9654-c19cc6ae2634",
   "metadata": {},
   "outputs": [],
   "source": [
    "def find_specific_files(phrase_to_find:str):\n",
    "    \"\"\"\n",
    "    Grab a list of files that contain the \n",
    "    phrase inputted.\n",
    "    \"\"\"\n",
    "    # Create a list of all the files in my folder\n",
    "    all_files_in_folder = fs.ls(A1_provider_prep.GCS_FILE_PATH)\n",
    "    \n",
    "    # Grab only files with the string \"Verizon_no_coverage_\"\n",
    "    my_files = [i for i in all_files_in_folder if phrase_to_find in i]\n",
    "    \n",
    "    # String to add to read the files\n",
    "    my_string = \"gs://\"\n",
    "    my_files = [my_string + i for i in my_files]\n",
    "    \n",
    "   \n",
    "    return my_files"
   ]
  },
  {
   "cell_type": "code",
   "execution_count": 37,
   "id": "5548c447-620b-4f55-aa87-807c5545519a",
   "metadata": {},
   "outputs": [],
   "source": [
    "tmobile_dissolved = find_specific_files(\"tmobile_dissol\")"
   ]
  },
  {
   "cell_type": "markdown",
   "id": "36c9ea59-30be-42ac-9d2f-92e24ac04ae1",
   "metadata": {},
   "source": [
    "### Function to clipped the sjoin result\n",
    "* Created previously with `complete_difference_provider_district_level`."
   ]
  },
  {
   "cell_type": "code",
   "execution_count": 6,
   "id": "90231675-c98b-4806-8e0d-445ec7bf2b47",
   "metadata": {},
   "outputs": [],
   "source": [
    "def clip_sjoin_gdf(phrase_to_find:str, provider: str):\n",
    "    \"\"\"\n",
    "    AT&T was spatially joined against each Caltrans\n",
    "    District. However these sjoin gdfs are scraggly and\n",
    "    include areas that don't belong to that district.\n",
    "    Clip these sjoin files against the the original CT\n",
    "    shapefile to clean up the edges. \n",
    "    \"\"\"\n",
    "    # Open original Caltrans districts shapefile\n",
    "    # Get rid of A1_provider_prep once I export this\n",
    "    ct_districts = A1_provider_prep.get_districts()\n",
    "    \n",
    "    # Get a list of files I want\n",
    "    provider_files_list = find_specific_files(phrase_to_find)\n",
    "    \n",
    "    # Loop over every file\n",
    "    # Put provider_files_list later.\n",
    "    for file in provider_files_list:\n",
    "        # Find which district each file contains. \n",
    "        # https://stackoverflow.com/questions/11339210/how-to-get-integer-values-from-a-string-in-python\n",
    "        relevant_district = ''.join(i for i in file if i.isdigit())\n",
    "        \n",
    "        # Turn this into an integer\n",
    "        relevant_district = int(relevant_district)\n",
    "        \n",
    "        # Filter out districts for the file's district\n",
    "        relevant_district_gdf =  ct_districts[ct_districts.district == relevant_district]\n",
    "        \n",
    "        # Open file\n",
    "        sjoin_file = gpd.read_parquet(file)\n",
    "        \n",
    "        # Clip the sjoin file against the original district shapefile\n",
    "        clipped_gdf = sjoin_file.clip(relevant_district_gdf)\n",
    "        \n",
    "        # Save\n",
    "        utils.geoparquet_gcs_export(clipped_gdf, A1_provider_prep.GCS_FILE_PATH, f\"{provider}_clip_d{relevant_district}\")\n",
    "        \n",
    "        print(f\"Done for {relevant_district}\") "
   ]
  },
  {
   "cell_type": "code",
   "execution_count": 7,
   "id": "ac7e7626-c8f1-4ed1-9ce6-e91afd6a91c5",
   "metadata": {},
   "outputs": [],
   "source": [
    "# clip_sjoin_gdf(\"Verizon_d\", \"verizon\")"
   ]
  },
  {
   "cell_type": "markdown",
   "id": "b3b4398c-33f7-47b0-823d-e091dd1d6101",
   "metadata": {},
   "source": [
    "### Function to dissolve the clipped results.\n",
    "* Change from clipped_gdf to clipped_dask\n",
    "* Add times: https://github.com/cal-itp/data-analyses/blob/main/high_quality_transit_areas/A2_combine_stops.py"
   ]
  },
  {
   "cell_type": "code",
   "execution_count": 8,
   "id": "94b5399b-ee48-4367-b29d-eba8dc09f06f",
   "metadata": {},
   "outputs": [],
   "source": [
    "def dissolve_clipped_gdf(phrase_to_find:str, provider: str):\n",
    "    \"\"\"\n",
    "    Input files created by `clip_sjoin_gdf` \n",
    "    and dissolve all the rows by district.\n",
    "    \"\"\"\n",
    "    # Get a list of files I want\n",
    "    provider_files_list = find_specific_files(phrase_to_find)\n",
    "    \n",
    "    # Loop over every file\n",
    "    # Put provider_files_list later.\n",
    "    for file in provider_files_list:\n",
    "        \n",
    "        start = datetime.datetime.now()\n",
    "        \n",
    "        # Open file\n",
    "        clipped_dask = dg.read_parquet(file)\n",
    "        \n",
    "        # Grab the district\n",
    "        relevant_district = ''.join(i for i in file if i.isdigit())\n",
    "        \n",
    "        # Turn this into an integer for the file name\n",
    "        relevant_district = int(relevant_district)\n",
    "        \n",
    "        # Dissolve by district\n",
    "        dissolved_dask = clipped_dask.dissolve(\"district\")\n",
    "        \n",
    "        # Turn back to gdf\n",
    "        dissolved_gdf = dissolved_dask.compute()\n",
    "        \n",
    "        # Save\n",
    "        utils.geoparquet_gcs_export(dissolved_gdf, A1_provider_prep.GCS_FILE_PATH, f\"{provider}_dissolve_d{relevant_district}\")\n",
    "        \n",
    "        end = datetime.datetime.now()\n",
    "        \n",
    "        logger.info(f\"execution time: {end-start}\")\n",
    "        print(f\"Done for {relevant_district}\") "
   ]
  },
  {
   "cell_type": "code",
   "execution_count": 9,
   "id": "b953150e-2fb1-4442-9e0d-c30ead035c5f",
   "metadata": {},
   "outputs": [],
   "source": [
    "#2:35\n",
    "# dissolve_clipped_gdf(\"verizon_clip_d\", \"verizon\")"
   ]
  },
  {
   "cell_type": "code",
   "execution_count": null,
   "id": "e5c76c4f-da3f-4226-a188-5ce0261243e9",
   "metadata": {},
   "outputs": [],
   "source": []
  },
  {
   "cell_type": "markdown",
   "id": "752295e5-7e1e-4212-9c83-15344ed8e880",
   "metadata": {},
   "source": [
    "### Find Difference\n",
    "* Take dissolved results and find the difference"
   ]
  },
  {
   "cell_type": "code",
   "execution_count": 38,
   "id": "b5967e47-a7d1-42a0-b196-84ab1109f86e",
   "metadata": {},
   "outputs": [
    {
     "data": {
      "text/plain": [
       "['gs://calitp-analytics-data/data-analyses/cellular_coverage/tmobile_dissolve_d1.parquet',\n",
       " 'gs://calitp-analytics-data/data-analyses/cellular_coverage/tmobile_dissolve_d10.parquet',\n",
       " 'gs://calitp-analytics-data/data-analyses/cellular_coverage/tmobile_dissolve_d11.parquet',\n",
       " 'gs://calitp-analytics-data/data-analyses/cellular_coverage/tmobile_dissolve_d12.parquet',\n",
       " 'gs://calitp-analytics-data/data-analyses/cellular_coverage/tmobile_dissolve_d2.parquet',\n",
       " 'gs://calitp-analytics-data/data-analyses/cellular_coverage/tmobile_dissolve_d3.parquet',\n",
       " 'gs://calitp-analytics-data/data-analyses/cellular_coverage/tmobile_dissolve_d4.parquet',\n",
       " 'gs://calitp-analytics-data/data-analyses/cellular_coverage/tmobile_dissolve_d5.parquet',\n",
       " 'gs://calitp-analytics-data/data-analyses/cellular_coverage/tmobile_dissolve_d6.parquet',\n",
       " 'gs://calitp-analytics-data/data-analyses/cellular_coverage/tmobile_dissolve_d7.parquet',\n",
       " 'gs://calitp-analytics-data/data-analyses/cellular_coverage/tmobile_dissolve_d8.parquet',\n",
       " 'gs://calitp-analytics-data/data-analyses/cellular_coverage/tmobile_dissolve_d9.parquet']"
      ]
     },
     "execution_count": 38,
     "metadata": {},
     "output_type": "execute_result"
    }
   ],
   "source": [
    "tmobile_dissolved"
   ]
  },
  {
   "cell_type": "code",
   "execution_count": 86,
   "id": "afe2739c-7244-4ef2-a5d9-353a9de2b568",
   "metadata": {},
   "outputs": [],
   "source": [
    "def find_difference_gdf(phrase_to_find:str, provider: str):\n",
    "    \"\"\"\n",
    "    Input the files created by `dissolve_clipped_gdf` \n",
    "    and find the difference with the original Caltrans\n",
    "    district. \n",
    "    \"\"\"\n",
    "    # Open original Caltrans districts shapefile\n",
    "    # Get rid of A1_provider_prep once I export this\n",
    "    ct_districts = A1_provider_prep.get_districts()\n",
    "    \n",
    "    # Get a list of files I want\n",
    "    provider_files_list = find_specific_files(phrase_to_find)\n",
    "    \n",
    "    start = datetime.datetime.now()\n",
    "    \n",
    "    # Loop over every file\n",
    "    for file in provider_files_list:\n",
    "        \n",
    "        relevant_district = ''.join(i for i in file if i.isdigit())\n",
    "        \n",
    "        relevant_district = int(relevant_district)\n",
    "        \n",
    "        # Filter out districts for the file's district\n",
    "        relevant_district_gdf =  ct_districts[ct_districts.district == relevant_district]\n",
    "        \n",
    "        # Open file\n",
    "        dissolved_file = gpd.read_parquet(file)\n",
    "        \n",
    "        # Clip the dissolved file against the original district shapefile\n",
    "        no_coverage = relevant_district_gdf.difference(dissolved_file.geometry.iloc[0]).reset_index()\n",
    "        \n",
    "        try:\n",
    "            # Some are geodataframes without column names\n",
    "            no_coverage = no_coverage.rename(columns = {0: 'geometry'})\n",
    "            utils.geoparquet_gcs_export(no_coverage, A1_provider_prep.GCS_FILE_PATH, f\"{provider}_difference_d{relevant_district}\")\n",
    "        except:\n",
    "            # Some become geoseries - turn them into a gdf\n",
    "            # https://gis.stackexchange.com/questions/266098/how-to-convert-a-geoseries-to-a-geodataframe-with-geopandas\n",
    "            no_coverage_gdf = gpd.GeoDataFrame(geometry=gpd.GeoSeries(no_coverage))\n",
    "            utils.geoparquet_gcs_export(no_coverage_gdf, A1_provider_prep.GCS_FILE_PATH, f\"{provider}_difference_d{relevant_district}\")\n",
    "        \n",
    "        print(f\"Done for {relevant_district}\") \n",
    "            \n",
    "    end = datetime.datetime.now()\n",
    "    logger.info(f\"execution time: {end-start}\")\n",
    "        \n",
    "    return no_coverage"
   ]
  },
  {
   "cell_type": "code",
   "execution_count": 88,
   "id": "64fc63a8-6d7a-4bdc-b4c0-3106eee6569f",
   "metadata": {},
   "outputs": [
    {
     "name": "stdout",
     "output_type": "stream",
     "text": [
      "Done for 1\n",
      "Done for 10\n",
      "Done for 11\n",
      "Done for 12\n",
      "Done for 2\n",
      "Done for 3\n",
      "Done for 4\n",
      "Done for 5\n",
      "Done for 6\n",
      "Done for 7\n",
      "Done for 8\n"
     ]
    },
    {
     "name": "stderr",
     "output_type": "stream",
     "text": [
      "2023-01-11 17:55:59.277 | INFO     | __main__:find_difference_gdf:45 - execution time: 0:35:11.671695\n"
     ]
    },
    {
     "name": "stdout",
     "output_type": "stream",
     "text": [
      "Done for 9\n"
     ]
    }
   ],
   "source": [
    "test = find_difference_gdf('verizon_dissolve_d','verizon')"
   ]
  },
  {
   "cell_type": "markdown",
   "id": "b141147c-9cc0-42bb-8162-9636d1094f08",
   "metadata": {},
   "source": [
    "### Test Areas\n",
    "* Scratch area for previewing files and making sure the results are right."
   ]
  },
  {
   "cell_type": "code",
   "execution_count": 12,
   "id": "2cf2c0a9-9c30-471c-95db-9b2726831dd7",
   "metadata": {},
   "outputs": [],
   "source": [
    "districts = A1_provider_prep.get_districts()"
   ]
  },
  {
   "cell_type": "code",
   "execution_count": 13,
   "id": "10060366-a271-4fa9-90a0-59bb3528728a",
   "metadata": {},
   "outputs": [],
   "source": [
    "d9 =  districts[districts.district == 9]"
   ]
  },
  {
   "cell_type": "code",
   "execution_count": 14,
   "id": "205fd9fd-e305-404d-a770-41d6333d3f5f",
   "metadata": {},
   "outputs": [],
   "source": [
    "d10 =  districts[districts.district == 10]"
   ]
  },
  {
   "cell_type": "code",
   "execution_count": 43,
   "id": "505d7032-ab53-4cf2-aaec-bc8eabbca349",
   "metadata": {},
   "outputs": [],
   "source": [
    "d1 =  districts[districts.district == 1]"
   ]
  },
  {
   "cell_type": "code",
   "execution_count": 39,
   "id": "4dd04f1c-10c6-4f47-824a-fabf33cdc6fa",
   "metadata": {},
   "outputs": [],
   "source": [
    "# Dissolved T Mobile district 1 \n",
    "tmobile_d1_diss = gpd.read_parquet(\"gs://calitp-analytics-data/data-analyses/cellular_coverage/tmobile_dissolve_d1.parquet\")"
   ]
  },
  {
   "cell_type": "code",
   "execution_count": 52,
   "id": "7b31cdef-0328-442f-b392-f871975b3089",
   "metadata": {},
   "outputs": [],
   "source": [
    "# Dissolved T Mobile district 10\n",
    "tmobile_d10_diss = gpd.read_parquet(\"gs://calitp-analytics-data/data-analyses/cellular_coverage/tmobile_dissolve_d10.parquet\")"
   ]
  },
  {
   "cell_type": "code",
   "execution_count": 54,
   "id": "6104e1f5-a5e7-4e0b-af5e-b7664436d77c",
   "metadata": {},
   "outputs": [
    {
     "data": {
      "text/plain": [
       "(1, 1)"
      ]
     },
     "execution_count": 54,
     "metadata": {},
     "output_type": "execute_result"
    }
   ],
   "source": [
    "tmobile_d10_diss.shape"
   ]
  },
  {
   "cell_type": "code",
   "execution_count": 59,
   "id": "33c93e45-ab83-4923-90c6-758bf90f2dbc",
   "metadata": {},
   "outputs": [],
   "source": [
    "# tmobile_d10_diss.plot()"
   ]
  },
  {
   "cell_type": "code",
   "execution_count": 55,
   "id": "d12db422-b1ce-47fe-9396-a2c2ba344676",
   "metadata": {},
   "outputs": [],
   "source": [
    "difference_tmobile_d10 = d10.difference(tmobile_d10_diss.geometry.iloc[0]).reset_index()"
   ]
  },
  {
   "cell_type": "code",
   "execution_count": 60,
   "id": "81275195-30c2-4724-ba82-7778d06023b3",
   "metadata": {},
   "outputs": [
    {
     "data": {
      "text/plain": [
       "geopandas.geodataframe.GeoDataFrame"
      ]
     },
     "execution_count": 60,
     "metadata": {},
     "output_type": "execute_result"
    }
   ],
   "source": [
    "type(difference_tmobile_d10)"
   ]
  },
  {
   "cell_type": "code",
   "execution_count": 44,
   "id": "e4190aff-6f78-43a6-9c72-e1dff3c89204",
   "metadata": {},
   "outputs": [],
   "source": [
    "difference_tmobile_d1 = d1.difference(tmobile_d1_diss.geometry.iloc[0]).reset_index()"
   ]
  },
  {
   "cell_type": "code",
   "execution_count": 47,
   "id": "116ff098-d935-4f42-a2e7-7914bdb9f693",
   "metadata": {},
   "outputs": [
    {
     "data": {
      "text/plain": [
       "geopandas.geodataframe.GeoDataFrame"
      ]
     },
     "execution_count": 47,
     "metadata": {},
     "output_type": "execute_result"
    }
   ],
   "source": [
    "type(difference_tmobile_d1)"
   ]
  },
  {
   "cell_type": "code",
   "execution_count": 46,
   "id": "df6a118f-15dd-43f5-9a00-3c86fd25e539",
   "metadata": {},
   "outputs": [
    {
     "data": {
      "text/plain": [
       "<AxesSubplot:>"
      ]
     },
     "execution_count": 46,
     "metadata": {},
     "output_type": "execute_result"
    },
    {
     "data": {
      "image/png": "[encoded data removed]",
      "text/plain": [
       "<Figure size 640x480 with 1 Axes>"
      ]
     },
     "metadata": {},
     "output_type": "display_data"
    }
   ],
   "source": [
    "difference_tmobile_d1.plot()"
   ]
  },
  {
   "cell_type": "code",
   "execution_count": 45,
   "id": "e990b2e4-d061-4719-89ed-42e14029f0f8",
   "metadata": {},
   "outputs": [
    {
     "ename": "ValueError",
     "evalue": "The truth value of a GeoDataFrame is ambiguous. Use a.empty, a.bool(), a.item(), a.any() or a.all().",
     "output_type": "error",
     "traceback": [
      "\u001b[0;31m---------------------------------------------------------------------------\u001b[0m",
      "\u001b[0;31mValueError\u001b[0m                                Traceback (most recent call last)",
      "Cell \u001b[0;32mIn[45], line 1\u001b[0m\n\u001b[0;32m----> 1\u001b[0m gdf_d1 \u001b[38;5;241m=\u001b[39m gpd\u001b[38;5;241m.\u001b[39mGeoDataFrame(geometry\u001b[38;5;241m=\u001b[39m\u001b[43mgpd\u001b[49m\u001b[38;5;241;43m.\u001b[39;49m\u001b[43mGeoSeries\u001b[49m\u001b[43m(\u001b[49m\u001b[43mdifference_tmobile_d1\u001b[49m\u001b[43m)\u001b[49m)\n",
      "File \u001b[0;32m/opt/conda/lib/python3.9/site-packages/geopandas/geoseries.py:208\u001b[0m, in \u001b[0;36mGeoSeries.__init__\u001b[0;34m(self, data, index, crs, **kwargs)\u001b[0m\n\u001b[1;32m    206\u001b[0m     warnings\u001b[38;5;241m.\u001b[39mfilterwarnings(\u001b[38;5;124m\"\u001b[39m\u001b[38;5;124mignore\u001b[39m\u001b[38;5;124m\"\u001b[39m, empty_msg, \u001b[38;5;167;01mDeprecationWarning\u001b[39;00m)\n\u001b[1;32m    207\u001b[0m     warnings\u001b[38;5;241m.\u001b[39mfilterwarnings(\u001b[38;5;124m\"\u001b[39m\u001b[38;5;124mignore\u001b[39m\u001b[38;5;124m\"\u001b[39m, empty_msg, \u001b[38;5;167;01mFutureWarning\u001b[39;00m)\n\u001b[0;32m--> 208\u001b[0m     s \u001b[38;5;241m=\u001b[39m \u001b[43mpd\u001b[49m\u001b[38;5;241;43m.\u001b[39;49m\u001b[43mSeries\u001b[49m\u001b[43m(\u001b[49m\u001b[43mdata\u001b[49m\u001b[43m,\u001b[49m\u001b[43m \u001b[49m\u001b[43mindex\u001b[49m\u001b[38;5;241;43m=\u001b[39;49m\u001b[43mindex\u001b[49m\u001b[43m,\u001b[49m\u001b[43m \u001b[49m\u001b[43mname\u001b[49m\u001b[38;5;241;43m=\u001b[39;49m\u001b[43mname\u001b[49m\u001b[43m,\u001b[49m\u001b[43m \u001b[49m\u001b[38;5;241;43m*\u001b[39;49m\u001b[38;5;241;43m*\u001b[39;49m\u001b[43mkwargs\u001b[49m\u001b[43m)\u001b[49m\n\u001b[1;32m    209\u001b[0m \u001b[38;5;66;03m# prevent trying to convert non-geometry objects\u001b[39;00m\n\u001b[1;32m    210\u001b[0m \u001b[38;5;28;01mif\u001b[39;00m s\u001b[38;5;241m.\u001b[39mdtype \u001b[38;5;241m!=\u001b[39m \u001b[38;5;28mobject\u001b[39m:\n",
      "File \u001b[0;32m/opt/conda/lib/python3.9/site-packages/pandas/core/series.py:355\u001b[0m, in \u001b[0;36mSeries.__init__\u001b[0;34m(self, data, index, dtype, name, copy, fastpath)\u001b[0m\n\u001b[1;32m    351\u001b[0m \u001b[38;5;28;01melse\u001b[39;00m:\n\u001b[1;32m    353\u001b[0m     name \u001b[38;5;241m=\u001b[39m ibase\u001b[38;5;241m.\u001b[39mmaybe_extract_name(name, data, \u001b[38;5;28mtype\u001b[39m(\u001b[38;5;28mself\u001b[39m))\n\u001b[0;32m--> 355\u001b[0m     \u001b[38;5;28;01mif\u001b[39;00m \u001b[43mis_empty_data\u001b[49m\u001b[43m(\u001b[49m\u001b[43mdata\u001b[49m\u001b[43m)\u001b[49m \u001b[38;5;129;01mand\u001b[39;00m dtype \u001b[38;5;129;01mis\u001b[39;00m \u001b[38;5;28;01mNone\u001b[39;00m:\n\u001b[1;32m    356\u001b[0m         \u001b[38;5;66;03m# gh-17261\u001b[39;00m\n\u001b[1;32m    357\u001b[0m         warnings\u001b[38;5;241m.\u001b[39mwarn(\n\u001b[1;32m    358\u001b[0m             \u001b[38;5;124m\"\u001b[39m\u001b[38;5;124mThe default dtype for empty Series will be \u001b[39m\u001b[38;5;124m'\u001b[39m\u001b[38;5;124mobject\u001b[39m\u001b[38;5;124m'\u001b[39m\u001b[38;5;124m instead \u001b[39m\u001b[38;5;124m\"\u001b[39m\n\u001b[1;32m    359\u001b[0m             \u001b[38;5;124m\"\u001b[39m\u001b[38;5;124mof \u001b[39m\u001b[38;5;124m'\u001b[39m\u001b[38;5;124mfloat64\u001b[39m\u001b[38;5;124m'\u001b[39m\u001b[38;5;124m in a future version. Specify a dtype explicitly \u001b[39m\u001b[38;5;124m\"\u001b[39m\n\u001b[0;32m   (...)\u001b[0m\n\u001b[1;32m    362\u001b[0m             stacklevel\u001b[38;5;241m=\u001b[39m\u001b[38;5;241m2\u001b[39m,\n\u001b[1;32m    363\u001b[0m         )\n\u001b[1;32m    364\u001b[0m         \u001b[38;5;66;03m# uncomment the line below when removing the DeprecationWarning\u001b[39;00m\n\u001b[1;32m    365\u001b[0m         \u001b[38;5;66;03m# dtype = np.dtype(object)\u001b[39;00m\n",
      "File \u001b[0;32m/opt/conda/lib/python3.9/site-packages/pandas/core/construction.py:796\u001b[0m, in \u001b[0;36mis_empty_data\u001b[0;34m(data)\u001b[0m\n\u001b[1;32m    794\u001b[0m is_none \u001b[38;5;241m=\u001b[39m data \u001b[38;5;129;01mis\u001b[39;00m \u001b[38;5;28;01mNone\u001b[39;00m\n\u001b[1;32m    795\u001b[0m is_list_like_without_dtype \u001b[38;5;241m=\u001b[39m is_list_like(data) \u001b[38;5;129;01mand\u001b[39;00m \u001b[38;5;129;01mnot\u001b[39;00m \u001b[38;5;28mhasattr\u001b[39m(data, \u001b[38;5;124m\"\u001b[39m\u001b[38;5;124mdtype\u001b[39m\u001b[38;5;124m\"\u001b[39m)\n\u001b[0;32m--> 796\u001b[0m is_simple_empty \u001b[38;5;241m=\u001b[39m is_list_like_without_dtype \u001b[38;5;129;01mand\u001b[39;00m \u001b[38;5;129;43;01mnot\u001b[39;49;00m\u001b[43m \u001b[49m\u001b[43mdata\u001b[49m\n\u001b[1;32m    797\u001b[0m \u001b[38;5;28;01mreturn\u001b[39;00m is_none \u001b[38;5;129;01mor\u001b[39;00m is_simple_empty\n",
      "File \u001b[0;32m/opt/conda/lib/python3.9/site-packages/pandas/core/generic.py:1537\u001b[0m, in \u001b[0;36mNDFrame.__nonzero__\u001b[0;34m(self)\u001b[0m\n\u001b[1;32m   1535\u001b[0m \u001b[38;5;129m@final\u001b[39m\n\u001b[1;32m   1536\u001b[0m \u001b[38;5;28;01mdef\u001b[39;00m \u001b[38;5;21m__nonzero__\u001b[39m(\u001b[38;5;28mself\u001b[39m):\n\u001b[0;32m-> 1537\u001b[0m     \u001b[38;5;28;01mraise\u001b[39;00m \u001b[38;5;167;01mValueError\u001b[39;00m(\n\u001b[1;32m   1538\u001b[0m         \u001b[38;5;124mf\u001b[39m\u001b[38;5;124m\"\u001b[39m\u001b[38;5;124mThe truth value of a \u001b[39m\u001b[38;5;132;01m{\u001b[39;00m\u001b[38;5;28mtype\u001b[39m(\u001b[38;5;28mself\u001b[39m)\u001b[38;5;241m.\u001b[39m\u001b[38;5;18m__name__\u001b[39m\u001b[38;5;132;01m}\u001b[39;00m\u001b[38;5;124m is ambiguous. \u001b[39m\u001b[38;5;124m\"\u001b[39m\n\u001b[1;32m   1539\u001b[0m         \u001b[38;5;124m\"\u001b[39m\u001b[38;5;124mUse a.empty, a.bool(), a.item(), a.any() or a.all().\u001b[39m\u001b[38;5;124m\"\u001b[39m\n\u001b[1;32m   1540\u001b[0m     )\n",
      "\u001b[0;31mValueError\u001b[0m: The truth value of a GeoDataFrame is ambiguous. Use a.empty, a.bool(), a.item(), a.any() or a.all()."
     ]
    }
   ],
   "source": [
    "gdf_d1 = gpd.GeoDataFrame(geometry=gpd.GeoSeries(difference_tmobile_d1))"
   ]
  },
  {
   "cell_type": "code",
   "execution_count": 40,
   "id": "3adf6db9-d780-4fce-8c06-bf967932ab08",
   "metadata": {},
   "outputs": [
    {
     "data": {
      "text/plain": [
       "<AxesSubplot:>"
      ]
     },
     "execution_count": 40,
     "metadata": {},
     "output_type": "execute_result"
    },
    {
     "data": {
      "image/png": "[encoded data removed]",
      "text/plain": [
       "<Figure size 640x480 with 1 Axes>"
      ]
     },
     "metadata": {},
     "output_type": "display_data"
    }
   ],
   "source": [
    "tmobile_d1_diss.plot()"
   ]
  },
  {
   "cell_type": "code",
   "execution_count": 15,
   "id": "04d9e3da-f9e8-4ade-a27e-57b8288acfda",
   "metadata": {},
   "outputs": [],
   "source": [
    "# Dissolved T Mobile district 9 \n",
    "tmobile_d9_diss = gpd.read_parquet(\"gs://calitp-analytics-data/data-analyses/cellular_coverage/tmobile_dissolve_d9.parquet\")"
   ]
  },
  {
   "cell_type": "code",
   "execution_count": 16,
   "id": "a3a50b82-e657-466d-aa2d-18f82eed660d",
   "metadata": {},
   "outputs": [],
   "source": [
    "# Dissolved T Mobile district 9 \n",
    "att_d10_diss = gpd.read_parquet(\"gs://calitp-analytics-data/data-analyses/cellular_coverage/att_dissolve_d10.parquet\")"
   ]
  },
  {
   "cell_type": "code",
   "execution_count": 17,
   "id": "c0b09a4c-517d-49e5-866e-f0f5a73e843a",
   "metadata": {},
   "outputs": [
    {
     "data": {
      "text/plain": [
       "((1, 1), (1, 1))"
      ]
     },
     "execution_count": 17,
     "metadata": {},
     "output_type": "execute_result"
    }
   ],
   "source": [
    "att_d10_diss.shape, tmobile_d9_diss.shape"
   ]
  },
  {
   "cell_type": "code",
   "execution_count": 20,
   "id": "4dbe6008-5b24-4f62-95dc-af27f474cd4b",
   "metadata": {},
   "outputs": [],
   "source": [
    "# Now this is a geoseries\n",
    "difference_tmobile_d9 = d9.difference(tmobile_d9_diss.geometry.iloc[0])"
   ]
  },
  {
   "cell_type": "code",
   "execution_count": 77,
   "id": "6122fb1d-5ece-41d9-a388-6bbbdeb95c46",
   "metadata": {},
   "outputs": [
    {
     "data": {
      "text/plain": [
       "geopandas.geoseries.GeoSeries"
      ]
     },
     "execution_count": 77,
     "metadata": {},
     "output_type": "execute_result"
    }
   ],
   "source": [
    "type(difference_tmobile_d9)"
   ]
  },
  {
   "cell_type": "code",
   "execution_count": 26,
   "id": "ea65d4a4-d2f8-407b-85a5-e36c52b9e588",
   "metadata": {},
   "outputs": [],
   "source": [
    "# Turn this to a gdf\n",
    "# https://gis.stackexchange.com/questions/266098/how-to-convert-a-geoseries-to-a-geodataframe-with-geopandas\n",
    "test_geo = gpd.GeoDataFrame(geometry=gpd.GeoSeries(difference_tmobile_d9))"
   ]
  },
  {
   "cell_type": "code",
   "execution_count": 27,
   "id": "f09718b1-a55d-4fa2-9517-fd725d9ab34b",
   "metadata": {},
   "outputs": [
    {
     "data": {
      "text/plain": [
       "geopandas.geodataframe.GeoDataFrame"
      ]
     },
     "execution_count": 27,
     "metadata": {},
     "output_type": "execute_result"
    }
   ],
   "source": [
    "type(test_geo)"
   ]
  },
  {
   "cell_type": "code",
   "execution_count": 29,
   "id": "b0a9d76d-4ed9-4dbb-8266-63c38c4750c7",
   "metadata": {},
   "outputs": [],
   "source": [
    "# Test saving\n",
    "test_geo.to_parquet(\"./test.parquet\")"
   ]
  },
  {
   "cell_type": "code",
   "execution_count": 82,
   "id": "9461da6f-83b5-420b-a073-1008a899359c",
   "metadata": {},
   "outputs": [
    {
     "data": {
      "text/plain": [
       "Index(['geometry'], dtype='object')"
      ]
     },
     "execution_count": 82,
     "metadata": {},
     "output_type": "execute_result"
    }
   ],
   "source": [
    "test_geo.columns"
   ]
  },
  {
   "cell_type": "code",
   "execution_count": 30,
   "id": "fe7b9349-800d-4459-bf89-e92ee80a476e",
   "metadata": {},
   "outputs": [],
   "source": [
    "# Make sure it opens alright\n",
    "my_gdf =  gpd.read_parquet(\"./test.parquet\")"
   ]
  },
  {
   "cell_type": "code",
   "execution_count": 31,
   "id": "8558fce7-48bd-404e-b698-04f1d29de95c",
   "metadata": {},
   "outputs": [
    {
     "data": {
      "text/plain": [
       "geopandas.geodataframe.GeoDataFrame"
      ]
     },
     "execution_count": 31,
     "metadata": {},
     "output_type": "execute_result"
    }
   ],
   "source": [
    "type(my_gdf)"
   ]
  },
  {
   "cell_type": "code",
   "execution_count": 32,
   "id": "28e11fdd-6188-4145-854f-2fb47b1b0296",
   "metadata": {},
   "outputs": [
    {
     "data": {
      "text/plain": [
       "<AxesSubplot:>"
      ]
     },
     "execution_count": 32,
     "metadata": {},
     "output_type": "execute_result"
    },
    {
     "data": {
      "image/png": "[encoded data removed]",
      "text/plain": [
       "<Figure size 640x480 with 1 Axes>"
      ]
     },
     "metadata": {},
     "output_type": "display_data"
    }
   ],
   "source": [
    "my_gdf.plot()"
   ]
  },
  {
   "cell_type": "code",
   "execution_count": null,
   "id": "dd146514-3ea8-407d-94e4-f135e2eac854",
   "metadata": {},
   "outputs": [],
   "source": [
    "# difference_att_d10 = d10.difference(att_d10_diss.geometry.iloc[0])"
   ]
  },
  {
   "cell_type": "code",
   "execution_count": null,
   "id": "d67ffa39-b728-43f0-8994-b324f0af213c",
   "metadata": {},
   "outputs": [],
   "source": [
    "difference_tmobile_d9.plot()"
   ]
  },
  {
   "cell_type": "code",
   "execution_count": null,
   "id": "bb87d930-be6e-49ef-92b4-c29bf3316e1b",
   "metadata": {},
   "outputs": [],
   "source": [
    "difference_att_d10.plot()"
   ]
  },
  {
   "cell_type": "code",
   "execution_count": null,
   "id": "166fda2b-a831-478d-b92d-5e9c0454cb18",
   "metadata": {},
   "outputs": [],
   "source": [
    "# tmobile_d9_diss.shape"
   ]
  },
  {
   "cell_type": "code",
   "execution_count": null,
   "id": "8e13e2ff-9163-4aab-a705-5133bc75dd74",
   "metadata": {},
   "outputs": [],
   "source": [
    "# tmobile_d9.plot()"
   ]
  },
  {
   "cell_type": "code",
   "execution_count": null,
   "id": "47743cdc-e679-4e44-8787-976f39457c54",
   "metadata": {},
   "outputs": [],
   "source": [
    "att_d2 = gpd.read_parquet(\"gs://calitp-analytics-data/data-analyses/cellular_coverage/att_clip_d2.parquet\")"
   ]
  },
  {
   "cell_type": "code",
   "execution_count": null,
   "id": "d33ef411-d684-49e5-a38b-15e5f33eb306",
   "metadata": {},
   "outputs": [],
   "source": [
    "# att_d2.plot()"
   ]
  }
 ],
 "metadata": {
  "kernelspec": {
   "display_name": "Python 3 (ipykernel)",
   "language": "python",
   "name": "python3"
  },
  "language_info": {
   "codemirror_mode": {
    "name": "ipython",
    "version": 3
   },
   "file_extension": ".py",
   "mimetype": "text/x-python",
   "name": "python",
   "nbconvert_exporter": "python",
   "pygments_lexer": "ipython3",
   "version": "3.9.13"
  }
 },
 "nbformat": 4,
 "nbformat_minor": 5
}
