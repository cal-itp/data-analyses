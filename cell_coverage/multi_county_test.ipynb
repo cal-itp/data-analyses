{
 "cells": [
  {
   "cell_type": "markdown",
   "id": "f456542c-e33c-4d50-ba44-73648ec0d93b",
   "metadata": {},
   "source": [
    "# Test: Multiple Counties\n",
    "* Find where providers don't have service in several counties before applying functions to the entire state."
   ]
  },
  {
   "cell_type": "code",
   "execution_count": 1,
   "id": "afe905ad-2fe1-42c2-b003-a5328daf1124",
   "metadata": {},
   "outputs": [
    {
     "name": "stderr",
     "output_type": "stream",
     "text": [
      "/opt/conda/lib/python3.10/site-packages/geopandas/_compat.py:123: UserWarning: The Shapely GEOS version (3.10.3-CAPI-1.16.1) is incompatible with the GEOS version PyGEOS was compiled with (3.10.1-CAPI-1.16.0). Conversions between both will be slow.\n",
      "  warnings.warn(\n"
     ]
    }
   ],
   "source": [
    "import dask.dataframe as dd\n",
    "import dask_geopandas as dg\n",
    "import geopandas as gpd\n",
    "import pandas as pd\n",
    "import utilities\n",
    "from calitp import *\n",
    "from shared_utils import geography_utils\n",
    "from shared_utils import utils \n",
    "GCS_FILE_PATH = \"gs://calitp-analytics-data/data-analyses/cellular_coverage/\""
   ]
  },
  {
   "cell_type": "code",
   "execution_count": 2,
   "id": "804c78d5-5f5a-41ca-b3da-6bd990f30335",
   "metadata": {},
   "outputs": [],
   "source": [
    "ca_counties = utilities.get_counties()"
   ]
  },
  {
   "cell_type": "code",
   "execution_count": 3,
   "id": "5eb0d998-33eb-421e-a31c-9a8a3f6068d0",
   "metadata": {},
   "outputs": [],
   "source": [
    "# Replace spaces with _ \n",
    "ca_counties['county_name'] = ca_counties['county_name'].str.replace(' ','_')"
   ]
  },
  {
   "cell_type": "code",
   "execution_count": 4,
   "id": "71c46206-3e58-497e-81b7-084e0e161378",
   "metadata": {},
   "outputs": [],
   "source": [
    "# Read in ATT\n",
    "att = dg.read_parquet(\"ATT.parquet\")"
   ]
  },
  {
   "cell_type": "markdown",
   "id": "49074b99-c0a9-4cc3-867c-477c9d3bfca3",
   "metadata": {
    "tags": []
   },
   "source": [
    "## Test with Districts"
   ]
  },
  {
   "cell_type": "code",
   "execution_count": 5,
   "id": "13930f43-8e24-4a21-9f98-2c791d9ff93b",
   "metadata": {},
   "outputs": [],
   "source": [
    "Caltrans_shape = \"https://gis.data.ca.gov/datasets/0144574f750f4ccc88749004aca6eb0c_0.geojson?outSR=%7B%22latestWkid%22%3A3857%2C%22wkid%22%3A102100%7D\"\n",
    "ct_districts = to_snakecase(gpd.read_file(f'{Caltrans_shape}')\n",
    "               .to_crs(epsg=4326))[['district','geometry']]"
   ]
  },
  {
   "cell_type": "code",
   "execution_count": 6,
   "id": "38dcf9c0-95f9-4968-952f-15387bdeff55",
   "metadata": {},
   "outputs": [],
   "source": [
    "my_list = list(range(1, 13))"
   ]
  },
  {
   "cell_type": "code",
   "execution_count": 7,
   "id": "aef35a00-43d4-433b-b756-1659fdda0474",
   "metadata": {},
   "outputs": [
    {
     "data": {
      "text/plain": [
       "[1, 2, 3, 4, 5, 6, 7, 8, 9, 10, 11, 12]"
      ]
     },
     "execution_count": 7,
     "metadata": {},
     "output_type": "execute_result"
    }
   ],
   "source": [
    "my_list"
   ]
  },
  {
   "cell_type": "code",
   "execution_count": 8,
   "id": "17160060-a261-423c-8efc-56c7bbb7a069",
   "metadata": {},
   "outputs": [],
   "source": [
    "\"\"\"\n",
    "def breakout_districts():\n",
    "    # Load geojson \n",
    "    caltrans_shape = \"https://gis.data.ca.gov/datasets/0144574f750f4ccc88749004aca6eb0c_0.geojson?outSR=%7B%22latestWkid%22%3A3857%2C%22wkid%22%3A102100%7D\"\n",
    "    ct_districts = to_snakecase(gpd.read_file(f'{caltrans_shape}')\n",
    "               .to_crs(epsg=4326))[['district','geometry']]\n",
    "    \n",
    "    # Districts: subset\n",
    "    district_list = [7,3]\n",
    "    \n",
    "    full_gdf = pd.DataFrame()\n",
    "\n",
    "    for i in district_list:\n",
    "        district_gdf = ct_districts[ct_districts.district==i]\n",
    "        \n",
    "        full_gdf = pd.concat([full_gdf, district_gdf], axis=0)\n",
    "        \n",
    "    full_gdf = full_gdf.dissolve().drop(columns = ['district'])\n",
    "\n",
    "    return full_gdf\n",
    "    \"\"\""
   ]
  },
  {
   "cell_type": "code",
   "execution_count": 9,
   "id": "6176b207-f767-403d-bf8e-e53719b69be1",
   "metadata": {},
   "outputs": [],
   "source": [
    "# Unclipped\n",
    "original = breakout_districts()"
   ]
  },
  {
   "cell_type": "code",
   "execution_count": 10,
   "id": "b986dacb-9d66-4081-be13-e2b445b6e59b",
   "metadata": {},
   "outputs": [
    {
     "data": {
      "text/plain": [
       "<AxesSubplot:>"
      ]
     },
     "execution_count": 10,
     "metadata": {},
     "output_type": "execute_result"
    },
    {
     "data": {
      "image/png": "[encoded data removed]",
      "text/plain": [
       "<Figure size 640x480 with 1 Axes>"
      ]
     },
     "metadata": {},
     "output_type": "display_data"
    }
   ],
   "source": [
    "original.plot()"
   ]
  },
  {
   "cell_type": "code",
   "execution_count": 11,
   "id": "58c2fc98-8641-4662-a0f6-2387d69ad1d3",
   "metadata": {},
   "outputs": [],
   "source": [
    "# original_clipped = utilities.find_difference_and_clip(att, original)"
   ]
  },
  {
   "cell_type": "code",
   "execution_count": 12,
   "id": "696715b0-e62c-4d1d-88d6-d12eb4aabf0a",
   "metadata": {},
   "outputs": [],
   "source": [
    "# original_clipped.plot()"
   ]
  },
  {
   "cell_type": "code",
   "execution_count": 13,
   "id": "d281f30e-09e7-4980-b92c-5713c6e55c97",
   "metadata": {},
   "outputs": [],
   "source": [
    "def breakout_districts(provider, gcs_file_path:str, file_name:str):\n",
    "    # Load geojson \n",
    "    caltrans_shape = \"https://gis.data.ca.gov/datasets/0144574f750f4ccc88749004aca6eb0c_0.geojson?outSR=%7B%22latestWkid%22%3A3857%2C%22wkid%22%3A102100%7D\"\n",
    "    ct_districts = to_snakecase(gpd.read_file(f'{caltrans_shape}')\n",
    "               .to_crs(epsg=4326))[['district','geometry']]\n",
    "    \n",
    "    # Districts: subset\n",
    "    district_list = list(range(1, 13))\n",
    "    \n",
    "    # Empty dataframe to hold each district after clipping\n",
    "    full_gdf = pd.DataFrame()\n",
    "\n",
    "    for i in district_list:\n",
    "        district_gdf = ct_districts[ct_districts.district==i]\n",
    "        \n",
    "        district_gdf_clipped = utilities.find_difference_and_clip(provider, district_gdf) \n",
    "        full_gdf = pd.concat([full_gdf, district_gdf_clipped], axis=0)\n",
    "        \n",
    "    full_gdf = full_gdf.dissolve().drop(columns = ['district'])\n",
    "    \n",
    "    utils.geoparquet_gcs_export(full_gdf, gcs_file_path,file_name) \n",
    "    return full_gdf"
   ]
  },
  {
   "cell_type": "code",
   "execution_count": 14,
   "id": "104d23ac-cc5f-42f2-b62b-626653e89f1a",
   "metadata": {},
   "outputs": [],
   "source": [
    "# my_gdf = breakout_districts2(att, GCS_FILE_PATH, 'att_d7_d3')"
   ]
  },
  {
   "cell_type": "code",
   "execution_count": 15,
   "id": "c34d17de-3e24-4f36-a6b9-beb9bde7b719",
   "metadata": {},
   "outputs": [],
   "source": [
    "test_d4_10 = gpd.read_parquet(\n",
    "    \"gs://calitp-analytics-data/data-analyses/cellular_coverage/att_d10_d4.parquet\"\n",
    ")"
   ]
  },
  {
   "cell_type": "code",
   "execution_count": 16,
   "id": "f0aff149-8bfb-4c37-8989-64b27159067e",
   "metadata": {},
   "outputs": [],
   "source": [
    "test_d7_d3 = gpd.read_parquet(\n",
    "    \"gs://calitp-analytics-data/data-analyses/cellular_coverage/att_d7_d3.parquet\"\n",
    ")\n"
   ]
  },
  {
   "cell_type": "code",
   "execution_count": 17,
   "id": "5c7891b4-b39e-438e-a525-e3dcc1cbf41a",
   "metadata": {},
   "outputs": [],
   "source": [
    "#test_d7_d3.plot()"
   ]
  },
  {
   "cell_type": "code",
   "execution_count": 18,
   "id": "74f0a826-c0af-4964-93e1-1c4a4524410b",
   "metadata": {},
   "outputs": [],
   "source": [
    "routes_df = utilities.load_unique_routes_df()"
   ]
  },
  {
   "cell_type": "code",
   "execution_count": 21,
   "id": "48179667-acca-4faa-9c11-400d0966c1c2",
   "metadata": {},
   "outputs": [],
   "source": [
    "# Routes from analysis v1 that didn't make sense\n",
    "agency_wanted = [\n",
    "    \"Avocado Heights/Bassett/West Valinda Shuttle\",\n",
    "    \"Golden Gate Bridge Highway and Transportation District\",\n",
    "    \"SamTrans\",\n",
    "    \"MUNI\",\n",
    "    \"Yosemite Area Regional Transportation System\",\n",
    "    \"Roseville Transit\",\n",
    "    \"Los Angeles Department of Transportation\"\n",
    "]\n",
    "\n",
    "routes_wanted = [\n",
    "    \"Edmund D. Edelman Children’s Court Shuttle\",\n",
    "    \"Oakland - San Francisco\",\n",
    "    \"Foster City - Hillsdale Mall\",\n",
    "    \"24 hour service daily\",\n",
    "    \"Mammoth Lakes HWY 120E/395\",\n",
    "    \"Avocado Heights/Bassett/West Valinda Shuttle\",\n",
    "    \"Long Beach/San Pedro\"\n",
    "]\n",
    "\n",
    "\n",
    "def subset_routes(routes_wanted):\n",
    "    # Filter out\n",
    "    routes_subset = routes_df[\n",
    "        routes_df[\"route_name\"].isin(routes_wanted)\n",
    "    ]\n",
    "    return routes_subset\n",
    "\n",
    "\n",
    "routes_subset = subset_routes(routes_wanted)"
   ]
  },
  {
   "cell_type": "code",
   "execution_count": 26,
   "id": "93838b70-034a-4350-9e31-a3f0682bb4a0",
   "metadata": {},
   "outputs": [
    {
     "data": {
      "text/plain": [
       "array(['Oakland - San Francisco',\n",
       "       'Avocado Heights/Bassett/West Valinda Shuttle',\n",
       "       'Edmund D. Edelman Children’s Court Shuttle',\n",
       "       'Long Beach/San Pedro', 'Foster City - Hillsdale Mall',\n",
       "       'Mammoth Lakes HWY 120E/395'], dtype=object)"
      ]
     },
     "execution_count": 26,
     "metadata": {},
     "output_type": "execute_result"
    }
   ],
   "source": [
    "routes_subset.route_name.unique()"
   ]
  },
  {
   "cell_type": "code",
   "execution_count": 22,
   "id": "58ea4550-cba4-4fe5-b50a-fda87fa09e7b",
   "metadata": {},
   "outputs": [],
   "source": [
    "clipped = gpd.overlay(routes_subset, test_d7_d3, how=\"intersection\")"
   ]
  },
  {
   "cell_type": "code",
   "execution_count": 23,
   "id": "0bf3d7a1-d00c-4b30-b6fa-963279c27aca",
   "metadata": {},
   "outputs": [],
   "source": [
    "clipped = clipped.assign(\n",
    "        overlay_route_length=clipped.geometry.to_crs(geography_utils.CA_StatePlane).length\n",
    "    )"
   ]
  },
  {
   "cell_type": "code",
   "execution_count": 24,
   "id": "13e6f310-e601-44c1-bec7-c5eb2af394be",
   "metadata": {},
   "outputs": [],
   "source": [
    "# Calculate the length of the intersected geometry \n",
    "clipped['percentage_route_length'] = clipped['overlay_route_length']/clipped['original_route_length']\n",
    "# Subtract percentage of length to find portion of route that IS covered by provider'\n",
    "clipped['percentage_covered_by_provider'] = (1 - clipped['percentage_route_length'])*100"
   ]
  },
  {
   "cell_type": "code",
   "execution_count": 25,
   "id": "0a56116f-fdf5-4151-8ccf-bc06ceb89e7b",
   "metadata": {},
   "outputs": [
    {
     "data": {
      "text/html": [
       "<div>\n",
       "<style scoped>\n",
       "    .dataframe tbody tr th:only-of-type {\n",
       "        vertical-align: middle;\n",
       "    }\n",
       "\n",
       "    .dataframe tbody tr th {\n",
       "        vertical-align: top;\n",
       "    }\n",
       "\n",
       "    .dataframe thead th {\n",
       "        text-align: right;\n",
       "    }\n",
       "</style>\n",
       "<table border=\"1\" class=\"dataframe\">\n",
       "  <thead>\n",
       "    <tr style=\"text-align: right;\">\n",
       "      <th></th>\n",
       "      <th>itp_id</th>\n",
       "      <th>route_id</th>\n",
       "      <th>route_name</th>\n",
       "      <th>agency</th>\n",
       "      <th>original_route_length</th>\n",
       "      <th>geometry</th>\n",
       "      <th>overlay_route_length</th>\n",
       "      <th>percentage_route_length</th>\n",
       "      <th>percentage_covered_by_provider</th>\n",
       "    </tr>\n",
       "  </thead>\n",
       "  <tbody>\n",
       "    <tr>\n",
       "      <th>0</th>\n",
       "      <td>183</td>\n",
       "      <td>870</td>\n",
       "      <td>Long Beach/San Pedro</td>\n",
       "      <td>Los Angeles Department of Transportation</td>\n",
       "      <td>45275.955178</td>\n",
       "      <td>LINESTRING (-118.22198 33.76428, -118.22279 33...</td>\n",
       "      <td>15625.055779</td>\n",
       "      <td>0.345107</td>\n",
       "      <td>65.489285</td>\n",
       "    </tr>\n",
       "  </tbody>\n",
       "</table>\n",
       "</div>"
      ],
      "text/plain": [
       "   itp_id route_id            route_name  \\\n",
       "0     183      870  Long Beach/San Pedro   \n",
       "\n",
       "                                     agency  original_route_length  \\\n",
       "0  Los Angeles Department of Transportation           45275.955178   \n",
       "\n",
       "                                            geometry  overlay_route_length  \\\n",
       "0  LINESTRING (-118.22198 33.76428, -118.22279 33...          15625.055779   \n",
       "\n",
       "   percentage_route_length  percentage_covered_by_provider  \n",
       "0                 0.345107                       65.489285  "
      ]
     },
     "execution_count": 25,
     "metadata": {},
     "output_type": "execute_result"
    }
   ],
   "source": [
    "clipped"
   ]
  },
  {
   "cell_type": "code",
   "execution_count": null,
   "id": "7b5de222-0022-4c8a-ba5c-e69298c6385b",
   "metadata": {},
   "outputs": [],
   "source": [
    "original_geo = gpd.overlay(routes_df, original, how=\"intersection\")"
   ]
  },
  {
   "cell_type": "code",
   "execution_count": null,
   "id": "7661bd0a-2cd4-412b-ae0f-f5fa07c7fece",
   "metadata": {},
   "outputs": [],
   "source": [
    "original_geo.explore('route_name',\n",
    "               width=800,\n",
    "    height=400,\n",
    "    tooltip=[\"route_name\", \"agency\", \"route_id\"],\n",
    "    style_kwds={\"weight\": 6},\n",
    "    legend=False,\n",
    "    color=\"tab10c\",)"
   ]
  },
  {
   "cell_type": "code",
   "execution_count": null,
   "id": "293c3f6e-f21e-482d-af00-5d1a571e9f11",
   "metadata": {},
   "outputs": [],
   "source": [
    "clipped.explore('route_name',\n",
    "               width=800,\n",
    "    height=400,\n",
    "    tooltip=[\"route_name\", \"agency\", \"route_id\"],\n",
    "    style_kwds={\"weight\": 6},\n",
    "    legend=False,\n",
    "    color=\"tab20c\",)"
   ]
  },
  {
   "cell_type": "code",
   "execution_count": null,
   "id": "2b899cf4-463e-40ca-95d2-ab911c33a990",
   "metadata": {},
   "outputs": [],
   "source": [
    "len(original_geo)"
   ]
  },
  {
   "cell_type": "markdown",
   "id": "03d01cee-d98d-4b0d-9325-e15775873d6d",
   "metadata": {},
   "source": [
    "## Go through several counties"
   ]
  },
  {
   "cell_type": "code",
   "execution_count": null,
   "id": "5e1eb241-5241-4340-a734-70799508b69d",
   "metadata": {
    "scrolled": true,
    "tags": []
   },
   "outputs": [],
   "source": [
    "# Grab all counties in SF \n",
    "ca_counties_list = ca_counties.county_name.unique().tolist()"
   ]
  },
  {
   "cell_type": "code",
   "execution_count": null,
   "id": "f350fa22-2c83-4c4b-9cb5-269e0afcd439",
   "metadata": {},
   "outputs": [],
   "source": [
    "# Subset\n",
    "ca_counties_list = ['Alameda','San_Francisco','Los_Angeles', 'Placer', 'Mariposa']"
   ]
  },
  {
   "cell_type": "code",
   "execution_count": null,
   "id": "5a182cdd-3abe-4933-9395-51667dd04a0a",
   "metadata": {},
   "outputs": [],
   "source": [
    "# Filter ca_counties gdf for each county \n",
    "for i in ca_counties_list:\n",
    "    exec(f\"{i}_gdf = ca_counties[ca_counties['county_name']== i].reset_index(drop=True)\")"
   ]
  },
  {
   "cell_type": "code",
   "execution_count": null,
   "id": "99e7911c-e86d-47b7-8d36-8685ae5af2ee",
   "metadata": {},
   "outputs": [],
   "source": [
    "# Create a list to hold each dataframe \n",
    "string = '_gdf'\n",
    "counties_gdf_list = [x + string for x in ca_counties_list]"
   ]
  },
  {
   "cell_type": "code",
   "execution_count": null,
   "id": "9e5ed4e4-1faa-424f-b409-13a9346df398",
   "metadata": {
    "scrolled": true,
    "tags": []
   },
   "outputs": [],
   "source": [
    "# Apply function to each gdf\n",
    "for county in counties_gdf_list:\n",
    "    exec(f\"{county} = (utilities.find_difference_and_clip(att, {county}))\")"
   ]
  },
  {
   "cell_type": "code",
   "execution_count": null,
   "id": "55cb7397-9b0d-439f-9d98-186474bf29be",
   "metadata": {},
   "outputs": [],
   "source": [
    "# Compare LA with debug_ah.ipynb results\n",
    "# Blue are areas that are in LA County but aren't covered by AT&T\n",
    "# This is accurate\n",
    "Los_Angeles_gdf.plot()"
   ]
  },
  {
   "cell_type": "code",
   "execution_count": null,
   "id": "37c0b741-1e6e-45e0-8d52-80f0fe8fd03a",
   "metadata": {},
   "outputs": [],
   "source": [
    "# Remove quotes from list, since these aren't strings. They are dataframes. \n",
    "counties_gdf_list = [Alameda_gdf, San_Francisco_gdf, Los_Angeles_gdf, Placer_gdf, Mariposa_gdf]"
   ]
  },
  {
   "cell_type": "code",
   "execution_count": null,
   "id": "a617034e-a7b7-46a5-91eb-79183014ef87",
   "metadata": {},
   "outputs": [],
   "source": [
    "# Concat using dask \n",
    "# https://github.com/cal-itp/data-analyses/blob/main/_shared_utils/shared_utils/gtfs_utils.py#L563-L564\n",
    "att_concat = dd.multi.concat(counties_gdf_list, axis=0)"
   ]
  },
  {
   "cell_type": "code",
   "execution_count": null,
   "id": "397504a0-89e7-41c7-b880-e2e224601b7f",
   "metadata": {},
   "outputs": [],
   "source": [
    "# https://dask-geopandas.readthedocs.io/en/stable/docs/reference/api/dask_geopandas.GeoDataFrame.dissolve.html\n",
    "att_concat.dissolve(split_out=1)"
   ]
  },
  {
   "cell_type": "code",
   "execution_count": null,
   "id": "d2ee9716-6cba-4e6d-b3a2-ad58cbedb11d",
   "metadata": {},
   "outputs": [],
   "source": [
    "att_concat_gpd = att_concat.compute()"
   ]
  },
  {
   "cell_type": "code",
   "execution_count": null,
   "id": "8a5387a9-a562-42ae-9c8d-26053e13918d",
   "metadata": {},
   "outputs": [],
   "source": [
    "att_concat_gpd = att_concat_gpd.dissolve().drop(columns = ['county_name'])"
   ]
  },
  {
   "cell_type": "code",
   "execution_count": null,
   "id": "3e41bd93-5309-4ba7-8e95-b1dbb790197a",
   "metadata": {},
   "outputs": [],
   "source": [
    "att_concat_gpd.plot()"
   ]
  },
  {
   "cell_type": "code",
   "execution_count": null,
   "id": "7ab2855b-cc3e-4e30-9a5b-5d4abd15fbdf",
   "metadata": {},
   "outputs": [],
   "source": [
    "routes_df = utilities.load_unique_routes_df()"
   ]
  },
  {
   "cell_type": "code",
   "execution_count": null,
   "id": "3e0c8219-bc24-4fce-aea9-4db16949627f",
   "metadata": {},
   "outputs": [],
   "source": [
    "# TopologyException: side location conflict at -118.658061 34.07038. This can occur if the input geometry is invalid."
   ]
  },
  {
   "cell_type": "code",
   "execution_count": null,
   "id": "c69f55e6-098d-4f85-8018-24c8b3160956",
   "metadata": {},
   "outputs": [],
   "source": [
    "# o1 = gpd.overlay(routes_df, att_concat_gpd, how=\"intersection\")"
   ]
  },
  {
   "cell_type": "markdown",
   "id": "6094137f-3ae5-4db1-b428-acf36a3b0095",
   "metadata": {},
   "source": [
    "### Testing with subset"
   ]
  },
  {
   "cell_type": "code",
   "execution_count": null,
   "id": "43e5b010-9439-406d-b568-1ad676b31d85",
   "metadata": {},
   "outputs": [],
   "source": [
    "counties_wanted = ['San_Francisco','Los_Angeles','San_Mateo', 'Placer', 'Mariposa']\n",
    "# Subset to a few counties\n",
    "ca_subset = ca_counties[ca_counties[\"county_name\"].isin(counties_wanted)]"
   ]
  },
  {
   "cell_type": "code",
   "execution_count": null,
   "id": "a6cf7c31-9386-4b73-b577-dd4e8693264d",
   "metadata": {},
   "outputs": [],
   "source": [
    "test = utilities.find_difference_and_clip(att, ca_subset)"
   ]
  },
  {
   "cell_type": "code",
   "execution_count": null,
   "id": "dff10aac-8819-4681-aa2a-482572fac38f",
   "metadata": {},
   "outputs": [],
   "source": [
    "test = test.dissolve().drop(columns = ['county_name'])"
   ]
  },
  {
   "cell_type": "code",
   "execution_count": null,
   "id": "db5a2674-b3c5-437a-99fb-53aadc4703ff",
   "metadata": {},
   "outputs": [],
   "source": [
    "test == att_concat_gpd"
   ]
  },
  {
   "cell_type": "code",
   "execution_count": null,
   "id": "8a44a80a-cca0-4fe6-a60e-aaf2027acc3b",
   "metadata": {},
   "outputs": [],
   "source": [
    "test.plot()"
   ]
  },
  {
   "cell_type": "code",
   "execution_count": null,
   "id": "5eaea64b-03a6-4797-ab0a-b7a0c3991c10",
   "metadata": {},
   "outputs": [],
   "source": [
    "agency_wanted = [\n",
    "    \"Avocado Heights/Bassett/West Valinda Shuttle\",\n",
    "    \"Golden Gate Bridge Highway and Transportation District\",\n",
    "    \"SamTrans\",\n",
    "    \"MUNI\",\n",
    "    \"Yosemite Area Regional Transportation System\",\n",
    "    \"Roseville Transit\"\n",
    "]\n",
    "\n",
    "routes_wanted = [\n",
    "    \"Edmund D. Edelman Children’s Court Shuttle\",\n",
    "    \"Oakland - San Francisco\",\n",
    "    \"Foster City - Hillsdale Mall\",\n",
    "    \"24 hour service daily\",\n",
    "    \"Mammoth Lakes HWY 120E/395\",\n",
    "    \"None\"\n",
    "]\n",
    "\n",
    "\n",
    "def subset_routes(agency_wanted, routes_wanted):\n",
    "    # Filter out\n",
    "    routes_subset = routes_df[\n",
    "        routes_df[\"route_name\"].isin(routes_wanted)\n",
    "        & routes_df[\"agency\"].isin(agency_wanted)\n",
    "    ]\n",
    "    return routes_subset\n",
    "\n",
    "\n",
    "routes_subset = subset_routes(agency_wanted, routes_wanted)"
   ]
  },
  {
   "cell_type": "code",
   "execution_count": null,
   "id": "6cb8a26b-2153-4aba-8814-c5fa0fc6cabc",
   "metadata": {},
   "outputs": [],
   "source": [
    "o2 = gpd.overlay(routes_subset, test, how=\"intersection\")"
   ]
  },
  {
   "cell_type": "code",
   "execution_count": null,
   "id": "0995bb7a-c021-4b72-a48b-0a0780f91fe6",
   "metadata": {},
   "outputs": [],
   "source": [
    "o2 = o2.assign(\n",
    "        overlay_route_length=o2.geometry.to_crs(geography_utils.CA_StatePlane).length\n",
    "    )"
   ]
  },
  {
   "cell_type": "code",
   "execution_count": null,
   "id": "7fb90e83-edfc-4867-a1f2-2373ef50837c",
   "metadata": {},
   "outputs": [],
   "source": [
    "# Calculate the length of the intersected geometry \n",
    "o2['percentage_route_length'] = o2['overlay_route_length']/o2['original_route_length']\n",
    "# Subtract percentage of length to find portion of route that IS covered by provider'\n",
    "o2['percentage_covered_by_provider'] = 1 - o2['percentage_route_length']"
   ]
  },
  {
   "cell_type": "code",
   "execution_count": null,
   "id": "220f4441-7b32-4112-89ef-7a773ab57a17",
   "metadata": {},
   "outputs": [],
   "source": [
    "# Subtract percentage of length to find portion of route that IS covered by provider'\n",
    "o2['percentage_covered_by_provider'] = 1 - o2['percentage_route_length']"
   ]
  },
  {
   "cell_type": "code",
   "execution_count": null,
   "id": "302f507e-d4f2-4b89-858b-f87b65792835",
   "metadata": {},
   "outputs": [],
   "source": [
    "o2"
   ]
  }
 ],
 "metadata": {
  "kernelspec": {
   "display_name": "Python 3 (ipykernel)",
   "language": "python",
   "name": "python3"
  },
  "language_info": {
   "codemirror_mode": {
    "name": "ipython",
    "version": 3
   },
   "file_extension": ".py",
   "mimetype": "text/x-python",
   "name": "python",
   "nbconvert_exporter": "python",
   "pygments_lexer": "ipython3",
   "version": "3.10.6"
  }
 },
 "nbformat": 4,
 "nbformat_minor": 5
}
