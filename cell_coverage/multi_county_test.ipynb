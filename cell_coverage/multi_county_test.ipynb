{
 "cells": [
  {
   "cell_type": "markdown",
   "id": "f456542c-e33c-4d50-ba44-73648ec0d93b",
   "metadata": {},
   "source": [
    "# Test: Multiple Counties\n",
    "* Find where providers don't have service in several counties before applying functions to the entire state."
   ]
  },
  {
   "cell_type": "code",
   "execution_count": 1,
   "id": "afe905ad-2fe1-42c2-b003-a5328daf1124",
   "metadata": {},
   "outputs": [
    {
     "name": "stderr",
     "output_type": "stream",
     "text": [
      "/opt/conda/lib/python3.10/site-packages/geopandas/_compat.py:123: UserWarning: The Shapely GEOS version (3.10.3-CAPI-1.16.1) is incompatible with the GEOS version PyGEOS was compiled with (3.10.1-CAPI-1.16.0). Conversions between both will be slow.\n",
      "  warnings.warn(\n"
     ]
    }
   ],
   "source": [
    "import dask.dataframe as dd\n",
    "import dask_geopandas as dg\n",
    "import geopandas as gpd\n",
    "import pandas as pd\n",
    "import utilities\n",
    "from calitp import *\n",
    "from shared_utils import geography_utils\n",
    "\n",
    "GCS_FILE_PATH = \"gs://calitp-analytics-data/data-analyses/cellular_coverage/\""
   ]
  },
  {
   "cell_type": "code",
   "execution_count": 2,
   "id": "804c78d5-5f5a-41ca-b3da-6bd990f30335",
   "metadata": {},
   "outputs": [],
   "source": [
    "ca_counties = utilities.get_counties()"
   ]
  },
  {
   "cell_type": "code",
   "execution_count": 3,
   "id": "5eb0d998-33eb-421e-a31c-9a8a3f6068d0",
   "metadata": {},
   "outputs": [],
   "source": [
    "# Replace spaces with _ \n",
    "ca_counties['county_name'] = ca_counties['county_name'].str.replace(' ','_')"
   ]
  },
  {
   "cell_type": "code",
   "execution_count": 4,
   "id": "43e5b010-9439-406d-b568-1ad676b31d85",
   "metadata": {},
   "outputs": [],
   "source": [
    "counties_wanted = ['San_Francisco','Los_Angeles','San_Mateo', 'Mariposa']"
   ]
  },
  {
   "cell_type": "code",
   "execution_count": 5,
   "id": "95794ef3-acb6-4d35-91aa-f65a16c99a99",
   "metadata": {},
   "outputs": [],
   "source": [
    "# Subset to a few counties\n",
    "# ca_subset = ca_counties[ca_counties[\"county_name\"].isin(counties_wanted)]"
   ]
  },
  {
   "cell_type": "code",
   "execution_count": 6,
   "id": "71c46206-3e58-497e-81b7-084e0e161378",
   "metadata": {},
   "outputs": [],
   "source": [
    "# Read in ATT\n",
    "att = dg.read_parquet(\"ATT.parquet\")"
   ]
  },
  {
   "cell_type": "markdown",
   "id": "03d01cee-d98d-4b0d-9325-e15775873d6d",
   "metadata": {},
   "source": [
    "## Go through several counties"
   ]
  },
  {
   "cell_type": "code",
   "execution_count": 21,
   "id": "bbb7cc87-b19d-415b-a32d-a83610ae3a94",
   "metadata": {},
   "outputs": [],
   "source": [
    "def find_difference_and_clip(\n",
    "    gdf: dg.GeoDataFrame, boundary: gpd.GeoDataFrame\n",
    ") -> gpd.GeoDataFrame:\n",
    "    # Clip cell provider to some boundary\n",
    "    clipped = dg.clip(gdf, boundary).reset_index(drop=True)  # use dask to clip\n",
    "    clipped_gdf = clipped.compute()  # compute converts from dask gdf to gdf\n",
    "\n",
    "    # Now find the overlay, and find the difference\n",
    "    # Notice which df is on the left and which is on the right\n",
    "    # https://geopandas.org/en/stable/docs/user_guide/set_operations.html\n",
    "    no_coverage = gpd.overlay(boundary, clipped_gdf, how=\"difference\",  keep_geom_type=False)\n",
    "\n",
    "    return no_coverage"
   ]
  },
  {
   "cell_type": "code",
   "execution_count": 8,
   "id": "d13fa300-c851-4c79-b580-5efa2b4adf8b",
   "metadata": {},
   "outputs": [],
   "source": [
    "def filter_counties():\n",
    "    # Load geojson with counties \n",
    "    counties_df = utilities.get_counties()\n",
    "    \n",
    "    # Replace county names of spaces with underscores\n",
    "    counties_df['county_name'] = counties_df['county_name'].str.replace(' ','_')\n",
    "    \n",
    "    # Cast county names to a list\n",
    "    ca_counties = counties_df.county_name.unique().tolist()\n",
    "    \n",
    "    # Filter gdf with all the counties to separate each county into a new df\n",
    "    # https://stackoverflow.com/questions/64932778/filter-using-a-for-loop-and-return-multiple-data-frames-in-python\n",
    "    for i in ca_counties:\n",
    "        # To use the fruit as variable name put it in {} and as the direct value use it straight\n",
    "        exec(f\"{i} = counties_df[counties_df['county_name']== i].reset_index(drop=True)\")\n",
    "    \n",
    "    # Place all the dataframes into a list \n",
    "    # https://stackoverflow.com/questions/2050637/appending-the-same-string-to-a-list-of-strings-in-python\n",
    "    string = '_df'\n",
    "    counties_df_list = [x + string for x in ca_counties]\n",
    "\n",
    "    return counties_df_list"
   ]
  },
  {
   "cell_type": "code",
   "execution_count": 13,
   "id": "5e1eb241-5241-4340-a734-70799508b69d",
   "metadata": {
    "scrolled": true,
    "tags": []
   },
   "outputs": [],
   "source": [
    "test_list = ca_counties.county_name.unique().tolist()"
   ]
  },
  {
   "cell_type": "code",
   "execution_count": 15,
   "id": "5a182cdd-3abe-4933-9395-51667dd04a0a",
   "metadata": {},
   "outputs": [],
   "source": [
    "for i in test_list:\n",
    "    # To use the fruit as variable name put it in {} and as the direct value use it straight\n",
    "    exec(f\"{i}_df = ca_counties[ca_counties['county_name']== i].reset_index(drop=True)\")"
   ]
  },
  {
   "cell_type": "code",
   "execution_count": 16,
   "id": "99e7911c-e86d-47b7-8d36-8685ae5af2ee",
   "metadata": {},
   "outputs": [],
   "source": [
    "string = '_df'\n",
    "test_df_list = [x + string for x in test_list]"
   ]
  },
  {
   "cell_type": "code",
   "execution_count": 17,
   "id": "222b2571-5a6e-46e0-ba7d-b0ffd9fd4e68",
   "metadata": {
    "scrolled": true,
    "tags": []
   },
   "outputs": [
    {
     "data": {
      "text/plain": [
       "['Alameda_df',\n",
       " 'Alpine_df',\n",
       " 'Amador_df',\n",
       " 'Butte_df',\n",
       " 'Calaveras_df',\n",
       " 'Colusa_df',\n",
       " 'Contra_Costa_df',\n",
       " 'Del_Norte_df',\n",
       " 'El_Dorado_df',\n",
       " 'Fresno_df',\n",
       " 'Glenn_df',\n",
       " 'Humboldt_df',\n",
       " 'Imperial_df',\n",
       " 'Inyo_df',\n",
       " 'Kern_df',\n",
       " 'Kings_df',\n",
       " 'Lake_df',\n",
       " 'Lassen_df',\n",
       " 'Los_Angeles_df',\n",
       " 'Madera_df',\n",
       " 'Marin_df',\n",
       " 'Mariposa_df',\n",
       " 'Mendocino_df',\n",
       " 'Merced_df',\n",
       " 'Modoc_df',\n",
       " 'Mono_df',\n",
       " 'Monterey_df',\n",
       " 'Napa_df',\n",
       " 'Nevada_df',\n",
       " 'Orange_df',\n",
       " 'Placer_df',\n",
       " 'Plumas_df',\n",
       " 'Riverside_df',\n",
       " 'Sacramento_df',\n",
       " 'San_Benito_df',\n",
       " 'San_Bernardino_df',\n",
       " 'San_Diego_df',\n",
       " 'San_Francisco_df',\n",
       " 'San_Joaquin_df',\n",
       " 'San_Luis_Obispo_df',\n",
       " 'San_Mateo_df',\n",
       " 'Santa_Barbara_df',\n",
       " 'Santa_Clara_df',\n",
       " 'Santa_Cruz_df',\n",
       " 'Shasta_df',\n",
       " 'Sierra_df',\n",
       " 'Siskiyou_df',\n",
       " 'Solano_df',\n",
       " 'Sonoma_df',\n",
       " 'Stanislaus_df',\n",
       " 'Sutter_df',\n",
       " 'Tehama_df',\n",
       " 'Trinity_df',\n",
       " 'Tulare_df',\n",
       " 'Tuolumne_df',\n",
       " 'Ventura_df',\n",
       " 'Yolo_df',\n",
       " 'Yuba_df']"
      ]
     },
     "execution_count": 17,
     "metadata": {},
     "output_type": "execute_result"
    }
   ],
   "source": [
    "test_df_list"
   ]
  },
  {
   "cell_type": "code",
   "execution_count": 22,
   "id": "92abfae7-dd81-42a5-bd9b-2b5e7158a09f",
   "metadata": {
    "tags": []
   },
   "outputs": [],
   "source": [
    "att_placer = find_difference_and_clip(att, Placer_df)"
   ]
  },
  {
   "cell_type": "code",
   "execution_count": 25,
   "id": "fc00c71a-37f8-42f2-8dbc-dd62ae517804",
   "metadata": {},
   "outputs": [
    {
     "data": {
      "text/plain": [
       "<AxesSubplot:>"
      ]
     },
     "execution_count": 25,
     "metadata": {},
     "output_type": "execute_result"
    },
    {
     "data": {
      "image/png": "[encoded data removed]",
      "text/plain": [
       "<Figure size 640x480 with 1 Axes>"
      ]
     },
     "metadata": {},
     "output_type": "display_data"
    }
   ],
   "source": [
    "att_placer.plot()"
   ]
  },
  {
   "cell_type": "code",
   "execution_count": 26,
   "id": "a6cf7c31-9386-4b73-b577-dd4e8693264d",
   "metadata": {},
   "outputs": [],
   "source": [
    "att_sma = find_difference_and_clip(att, San_Mateo_df)"
   ]
  },
  {
   "cell_type": "code",
   "execution_count": 27,
   "id": "602c0729-0a00-439a-a44b-d4a4856fe2cc",
   "metadata": {},
   "outputs": [],
   "source": [
    "att_sf = find_difference_and_clip(att, San_Francisco_df)"
   ]
  },
  {
   "cell_type": "code",
   "execution_count": 28,
   "id": "6bbc3167-b76a-4d35-bc92-2cb170bdb061",
   "metadata": {},
   "outputs": [],
   "source": [
    "att_mariposa = find_difference_and_clip(att, Mariposa_df)"
   ]
  },
  {
   "cell_type": "code",
   "execution_count": 29,
   "id": "dd129a78-37f9-46d6-8913-ba0f3b1de621",
   "metadata": {},
   "outputs": [],
   "source": [
    "# https://github.com/cal-itp/data-analyses/blob/main/_shared_utils/shared_utils/gtfs_utils.py#L563-L564\n",
    "test = dd.multi.concat([att_sma, att_placer, att_sf,att_mariposa], axis=0)"
   ]
  },
  {
   "cell_type": "code",
   "execution_count": 30,
   "id": "54531769-0aee-4f71-8e40-0932f09437ae",
   "metadata": {},
   "outputs": [],
   "source": [
    "test = test.compute()"
   ]
  },
  {
   "cell_type": "code",
   "execution_count": 31,
   "id": "875ac285-ca73-448f-9277-8b407575fdc7",
   "metadata": {},
   "outputs": [
    {
     "data": {
      "text/plain": [
       "geopandas.geodataframe.GeoDataFrame"
      ]
     },
     "execution_count": 31,
     "metadata": {},
     "output_type": "execute_result"
    }
   ],
   "source": [
    "type(test)"
   ]
  },
  {
   "cell_type": "code",
   "execution_count": 32,
   "id": "b8213cbe-5520-4649-809a-8fd9002c94ed",
   "metadata": {},
   "outputs": [],
   "source": [
    "test_dissolved = test.dissolve().drop(columns = 'county_name')"
   ]
  },
  {
   "cell_type": "code",
   "execution_count": 33,
   "id": "62b4c876-5f60-46e6-876e-44b82df3dafc",
   "metadata": {},
   "outputs": [
    {
     "data": {
      "text/plain": [
       "<AxesSubplot:>"
      ]
     },
     "execution_count": 33,
     "metadata": {},
     "output_type": "execute_result"
    },
    {
     "data": {
      "image/png": "[encoded data removed]",
      "text/plain": [
       "<Figure size 640x480 with 1 Axes>"
      ]
     },
     "metadata": {},
     "output_type": "display_data"
    }
   ],
   "source": [
    "test_dissolved.plot()"
   ]
  },
  {
   "cell_type": "code",
   "execution_count": 34,
   "id": "7ab2855b-cc3e-4e30-9a5b-5d4abd15fbdf",
   "metadata": {},
   "outputs": [],
   "source": [
    "routes_df = utilities.load_unique_routes_df()"
   ]
  },
  {
   "cell_type": "code",
   "execution_count": 35,
   "id": "5eaea64b-03a6-4797-ab0a-b7a0c3991c10",
   "metadata": {},
   "outputs": [],
   "source": [
    "agency_wanted = [\n",
    "    \"Avocado Heights/Bassett/West Valinda Shuttle\",\n",
    "    \"Golden Gate Bridge Highway and Transportation District\",\n",
    "    \"SamTrans\",\n",
    "    \"MUNI\",\n",
    "    \"Yosemite Area Regional Transportation System\",\n",
    "]\n",
    "\n",
    "routes_wanted = [\n",
    "    \"Edmund D. Edelman Children’s Court Shuttle\",\n",
    "    \"Oakland - San Francisco\",\n",
    "    \"Foster City - Hillsdale Mall\",\n",
    "    \"24 hour service daily\",\n",
    "    \"Mammoth Lakes HWY 120E/395\",\n",
    "]\n",
    "\n",
    "\n",
    "def subset_routes(agency_wanted, routes_wanted):\n",
    "    # Filter out\n",
    "    routes_subset = routes_df[\n",
    "        routes_df[\"route_name\"].isin(routes_wanted)\n",
    "        & routes_df[\"agency\"].isin(agency_wanted)\n",
    "    ]\n",
    "    return routes_subset\n",
    "\n",
    "\n",
    "routes_subset = subset_routes(agency_wanted, routes_wanted)"
   ]
  },
  {
   "cell_type": "code",
   "execution_count": 36,
   "id": "93a4e872-4730-4b52-80b0-a3ab4b637adf",
   "metadata": {
    "tags": []
   },
   "outputs": [
    {
     "data": {
      "text/html": [
       "<div>\n",
       "<style scoped>\n",
       "    .dataframe tbody tr th:only-of-type {\n",
       "        vertical-align: middle;\n",
       "    }\n",
       "\n",
       "    .dataframe tbody tr th {\n",
       "        vertical-align: top;\n",
       "    }\n",
       "\n",
       "    .dataframe thead th {\n",
       "        text-align: right;\n",
       "    }\n",
       "</style>\n",
       "<table border=\"1\" class=\"dataframe\">\n",
       "  <thead>\n",
       "    <tr style=\"text-align: right;\">\n",
       "      <th></th>\n",
       "      <th>itp_id</th>\n",
       "      <th>route_id</th>\n",
       "      <th>geometry</th>\n",
       "      <th>route_name</th>\n",
       "      <th>agency</th>\n",
       "      <th>original_route_length</th>\n",
       "    </tr>\n",
       "  </thead>\n",
       "  <tbody>\n",
       "    <tr>\n",
       "      <th>686</th>\n",
       "      <td>127</td>\n",
       "      <td>705-240</td>\n",
       "      <td>LINESTRING (-122.26642 37.82804, -122.26642 37...</td>\n",
       "      <td>Oakland - San Francisco</td>\n",
       "      <td>Golden Gate Bridge Highway and Transportation ...</td>\n",
       "      <td>56918.543438</td>\n",
       "    </tr>\n",
       "    <tr>\n",
       "      <th>902</th>\n",
       "      <td>171</td>\n",
       "      <td>13054</td>\n",
       "      <td>LINESTRING (-118.16873 34.06328, -118.16907 34...</td>\n",
       "      <td>Edmund D. Edelman Children’s Court Shuttle</td>\n",
       "      <td>Avocado Heights/Bassett/West Valinda Shuttle</td>\n",
       "      <td>7500.920949</td>\n",
       "    </tr>\n",
       "    <tr>\n",
       "      <th>1977</th>\n",
       "      <td>282</td>\n",
       "      <td>14</td>\n",
       "      <td>LINESTRING (-122.39331 37.79333, -122.39319 37...</td>\n",
       "      <td>24 hour service daily</td>\n",
       "      <td>MUNI</td>\n",
       "      <td>41216.039693</td>\n",
       "    </tr>\n",
       "    <tr>\n",
       "      <th>1984</th>\n",
       "      <td>282</td>\n",
       "      <td>22</td>\n",
       "      <td>LINESTRING (-122.43663 37.80259, -122.43671 37...</td>\n",
       "      <td>24 hour service daily</td>\n",
       "      <td>MUNI</td>\n",
       "      <td>31275.322162</td>\n",
       "    </tr>\n",
       "    <tr>\n",
       "      <th>1987</th>\n",
       "      <td>282</td>\n",
       "      <td>25</td>\n",
       "      <td>LINESTRING (-122.39611 37.79013, -122.39603 37...</td>\n",
       "      <td>24 hour service daily</td>\n",
       "      <td>MUNI</td>\n",
       "      <td>29045.134943</td>\n",
       "    </tr>\n",
       "    <tr>\n",
       "      <th>1997</th>\n",
       "      <td>282</td>\n",
       "      <td>38</td>\n",
       "      <td>LINESTRING (-122.39527 37.78989, -122.39569 37...</td>\n",
       "      <td>24 hour service daily</td>\n",
       "      <td>MUNI</td>\n",
       "      <td>37877.136978</td>\n",
       "    </tr>\n",
       "    <tr>\n",
       "      <th>2137</th>\n",
       "      <td>290</td>\n",
       "      <td>251</td>\n",
       "      <td>LINESTRING (-122.29977 37.53531, -122.29937 37...</td>\n",
       "      <td>Foster City - Hillsdale Mall</td>\n",
       "      <td>SamTrans</td>\n",
       "      <td>104371.495837</td>\n",
       "    </tr>\n",
       "    <tr>\n",
       "      <th>2138</th>\n",
       "      <td>290</td>\n",
       "      <td>251-198</td>\n",
       "      <td>LINESTRING (-122.29977 37.53531, -122.29937 37...</td>\n",
       "      <td>Foster City - Hillsdale Mall</td>\n",
       "      <td>SamTrans</td>\n",
       "      <td>104371.495837</td>\n",
       "    </tr>\n",
       "    <tr>\n",
       "      <th>2867</th>\n",
       "      <td>374</td>\n",
       "      <td>582</td>\n",
       "      <td>LINESTRING (-119.58867 37.74998, -119.58848 37...</td>\n",
       "      <td>Mammoth Lakes HWY 120E/395</td>\n",
       "      <td>Yosemite Area Regional Transportation System</td>\n",
       "      <td>634216.128572</td>\n",
       "    </tr>\n",
       "  </tbody>\n",
       "</table>\n",
       "</div>"
      ],
      "text/plain": [
       "      itp_id route_id                                           geometry  \\\n",
       "686      127  705-240  LINESTRING (-122.26642 37.82804, -122.26642 37...   \n",
       "902      171    13054  LINESTRING (-118.16873 34.06328, -118.16907 34...   \n",
       "1977     282       14  LINESTRING (-122.39331 37.79333, -122.39319 37...   \n",
       "1984     282       22  LINESTRING (-122.43663 37.80259, -122.43671 37...   \n",
       "1987     282       25  LINESTRING (-122.39611 37.79013, -122.39603 37...   \n",
       "1997     282       38  LINESTRING (-122.39527 37.78989, -122.39569 37...   \n",
       "2137     290      251  LINESTRING (-122.29977 37.53531, -122.29937 37...   \n",
       "2138     290  251-198  LINESTRING (-122.29977 37.53531, -122.29937 37...   \n",
       "2867     374      582  LINESTRING (-119.58867 37.74998, -119.58848 37...   \n",
       "\n",
       "                                      route_name  \\\n",
       "686                      Oakland - San Francisco   \n",
       "902   Edmund D. Edelman Children’s Court Shuttle   \n",
       "1977                       24 hour service daily   \n",
       "1984                       24 hour service daily   \n",
       "1987                       24 hour service daily   \n",
       "1997                       24 hour service daily   \n",
       "2137                Foster City - Hillsdale Mall   \n",
       "2138                Foster City - Hillsdale Mall   \n",
       "2867                  Mammoth Lakes HWY 120E/395   \n",
       "\n",
       "                                                 agency  original_route_length  \n",
       "686   Golden Gate Bridge Highway and Transportation ...           56918.543438  \n",
       "902        Avocado Heights/Bassett/West Valinda Shuttle            7500.920949  \n",
       "1977                                               MUNI           41216.039693  \n",
       "1984                                               MUNI           31275.322162  \n",
       "1987                                               MUNI           29045.134943  \n",
       "1997                                               MUNI           37877.136978  \n",
       "2137                                           SamTrans          104371.495837  \n",
       "2138                                           SamTrans          104371.495837  \n",
       "2867       Yosemite Area Regional Transportation System          634216.128572  "
      ]
     },
     "execution_count": 36,
     "metadata": {},
     "output_type": "execute_result"
    }
   ],
   "source": [
    "routes_subset"
   ]
  },
  {
   "cell_type": "code",
   "execution_count": 37,
   "id": "6cb8a26b-2153-4aba-8814-c5fa0fc6cabc",
   "metadata": {},
   "outputs": [],
   "source": [
    "o1 = gpd.overlay(routes_subset, test_dissolved, how=\"intersection\")"
   ]
  },
  {
   "cell_type": "code",
   "execution_count": 38,
   "id": "0995bb7a-c021-4b72-a48b-0a0780f91fe6",
   "metadata": {},
   "outputs": [],
   "source": [
    "o1 = o1.assign(\n",
    "        overlay_route_length=o1.geometry.to_crs(geography_utils.CA_StatePlane).length\n",
    "    )"
   ]
  },
  {
   "cell_type": "code",
   "execution_count": 39,
   "id": "7fb90e83-edfc-4867-a1f2-2373ef50837c",
   "metadata": {},
   "outputs": [],
   "source": [
    "# Calculate the length of the intersected geometry \n",
    "o1['percentage_route_length'] = o1['overlay_route_length']/o1['original_route_length']"
   ]
  },
  {
   "cell_type": "code",
   "execution_count": 40,
   "id": "220f4441-7b32-4112-89ef-7a773ab57a17",
   "metadata": {},
   "outputs": [],
   "source": [
    "# Subtract percentage of length to find portion of route that IS covered by provider'\n",
    "o1['percentage_covered_by_provider'] = 1 - o1['percentage_route_length']"
   ]
  },
  {
   "cell_type": "code",
   "execution_count": 41,
   "id": "302f507e-d4f2-4b89-858b-f87b65792835",
   "metadata": {},
   "outputs": [
    {
     "data": {
      "text/html": [
       "<div>\n",
       "<style scoped>\n",
       "    .dataframe tbody tr th:only-of-type {\n",
       "        vertical-align: middle;\n",
       "    }\n",
       "\n",
       "    .dataframe tbody tr th {\n",
       "        vertical-align: top;\n",
       "    }\n",
       "\n",
       "    .dataframe thead th {\n",
       "        text-align: right;\n",
       "    }\n",
       "</style>\n",
       "<table border=\"1\" class=\"dataframe\">\n",
       "  <thead>\n",
       "    <tr style=\"text-align: right;\">\n",
       "      <th></th>\n",
       "      <th>itp_id</th>\n",
       "      <th>route_id</th>\n",
       "      <th>route_name</th>\n",
       "      <th>agency</th>\n",
       "      <th>original_route_length</th>\n",
       "      <th>geometry</th>\n",
       "      <th>overlay_route_length</th>\n",
       "      <th>percentage_route_length</th>\n",
       "      <th>percentage_covered_by_provider</th>\n",
       "    </tr>\n",
       "  </thead>\n",
       "  <tbody>\n",
       "    <tr>\n",
       "      <th>0</th>\n",
       "      <td>127</td>\n",
       "      <td>705-240</td>\n",
       "      <td>Oakland - San Francisco</td>\n",
       "      <td>Golden Gate Bridge Highway and Transportation ...</td>\n",
       "      <td>56918.543438</td>\n",
       "      <td>MULTILINESTRING ((-122.34906 37.81930, -122.34...</td>\n",
       "      <td>11944.036970</td>\n",
       "      <td>0.209844</td>\n",
       "      <td>0.790156</td>\n",
       "    </tr>\n",
       "    <tr>\n",
       "      <th>1</th>\n",
       "      <td>282</td>\n",
       "      <td>25</td>\n",
       "      <td>24 hour service daily</td>\n",
       "      <td>MUNI</td>\n",
       "      <td>29045.134943</td>\n",
       "      <td>MULTILINESTRING ((-122.38731 37.78936, -122.38...</td>\n",
       "      <td>8595.526912</td>\n",
       "      <td>0.295937</td>\n",
       "      <td>0.704063</td>\n",
       "    </tr>\n",
       "    <tr>\n",
       "      <th>2</th>\n",
       "      <td>374</td>\n",
       "      <td>582</td>\n",
       "      <td>Mammoth Lakes HWY 120E/395</td>\n",
       "      <td>Yosemite Area Regional Transportation System</td>\n",
       "      <td>634216.128572</td>\n",
       "      <td>MULTILINESTRING ((-119.62221 37.72721, -119.62...</td>\n",
       "      <td>177138.073592</td>\n",
       "      <td>0.279302</td>\n",
       "      <td>0.720698</td>\n",
       "    </tr>\n",
       "  </tbody>\n",
       "</table>\n",
       "</div>"
      ],
      "text/plain": [
       "   itp_id route_id                  route_name  \\\n",
       "0     127  705-240     Oakland - San Francisco   \n",
       "1     282       25       24 hour service daily   \n",
       "2     374      582  Mammoth Lakes HWY 120E/395   \n",
       "\n",
       "                                              agency  original_route_length  \\\n",
       "0  Golden Gate Bridge Highway and Transportation ...           56918.543438   \n",
       "1                                               MUNI           29045.134943   \n",
       "2       Yosemite Area Regional Transportation System          634216.128572   \n",
       "\n",
       "                                            geometry  overlay_route_length  \\\n",
       "0  MULTILINESTRING ((-122.34906 37.81930, -122.34...          11944.036970   \n",
       "1  MULTILINESTRING ((-122.38731 37.78936, -122.38...           8595.526912   \n",
       "2  MULTILINESTRING ((-119.62221 37.72721, -119.62...         177138.073592   \n",
       "\n",
       "   percentage_route_length  percentage_covered_by_provider  \n",
       "0                 0.209844                        0.790156  \n",
       "1                 0.295937                        0.704063  \n",
       "2                 0.279302                        0.720698  "
      ]
     },
     "execution_count": 41,
     "metadata": {},
     "output_type": "execute_result"
    }
   ],
   "source": [
    "o1"
   ]
  }
 ],
 "metadata": {
  "kernelspec": {
   "display_name": "Python 3 (ipykernel)",
   "language": "python",
   "name": "python3"
  },
  "language_info": {
   "codemirror_mode": {
    "name": "ipython",
    "version": 3
   },
   "file_extension": ".py",
   "mimetype": "text/x-python",
   "name": "python",
   "nbconvert_exporter": "python",
   "pygments_lexer": "ipython3",
   "version": "3.10.6"
  }
 },
 "nbformat": 4,
 "nbformat_minor": 5
}
