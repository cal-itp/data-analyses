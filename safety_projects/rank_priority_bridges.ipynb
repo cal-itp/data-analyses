{
 "cells": [
  {
   "cell_type": "code",
   "execution_count": 1,
   "id": "72e848f2-59b8-49a0-8b4a-79e2fd762e16",
   "metadata": {},
   "outputs": [
    {
     "name": "stderr",
     "output_type": "stream",
     "text": [
      "/opt/conda/lib/python3.9/site-packages/geopandas/_compat.py:123: UserWarning: The Shapely GEOS version (3.11.1-CAPI-1.17.1) is incompatible with the GEOS version PyGEOS was compiled with (3.10.1-CAPI-1.16.0). Conversions between both will be slow.\n",
      "  warnings.warn(\n",
      "/opt/conda/lib/python3.9/site-packages/dask_geopandas/backends.py:13: UserWarning: Shapely 2.0 is installed, but because PyGEOS is also installed, GeoPandas will still use PyGEOS by default for now. To force to use and test Shapely 2.0, you have to set the environment variable USE_PYGEOS=0. You can do this before starting the Python process, or in your code before importing geopandas:\n",
      "\n",
      "import os\n",
      "os.environ['USE_PYGEOS'] = '0'\n",
      "import geopandas\n",
      "\n",
      "In a future release, GeoPandas will switch to using Shapely by default. If you are using PyGEOS directly (calling PyGEOS functions on geometries from GeoPandas), this will then stop working and you are encouraged to migrate from PyGEOS to Shapely 2.0 (https://shapely.readthedocs.io/en/latest/migration_pygeos.html).\n",
      "  import geopandas\n"
     ]
    }
   ],
   "source": [
    "# header\n",
    "import os\n",
    "os.environ[\"CALITP_BQ_MAX_BYTES\"] = str(800_000_000_000) ## 800GB?\n",
    "\n",
    "import shared_utils\n",
    "\n",
    "import pandas as pd\n",
    "import geopandas as gpd\n",
    "from siuba import *\n",
    "from IPython.display import display\n",
    "\n",
    "pd.set_option('display.max_columns', None) \n",
    "\n",
    "import gcsfs\n",
    "\n",
    "from calitp_data.storage import get_fs\n",
    "fs = get_fs()\n",
    "\n",
    "GCS_FILE_PATH = \"gs://calitp-analytics-data/data-analyses/safety_projects/\""
   ]
  },
  {
   "cell_type": "markdown",
   "id": "b86b5e81-12c2-45d8-bb50-0e373bdcc0ec",
   "metadata": {},
   "source": [
    "# Rank Priority Bridges Per District"
   ]
  },
  {
   "cell_type": "code",
   "execution_count": 10,
   "id": "f66fe226-5639-42fe-ba4f-6785eb70963c",
   "metadata": {},
   "outputs": [],
   "source": [
    "def bridge_rank(fn, crashvar):\n",
    "    with get_fs().open(f'{GCS_FILE_PATH}{fn}.geojson') as f:\n",
    "        bridges = gpd.read_file(f)\n",
    "        \n",
    "    bridges.rename(columns={crashvar:\"Crashes\"}, inplace=True)\n",
    "    \n",
    "    bridges.info()\n",
    "        \n",
    "    distcount = (bridges >> count(_.DIST_left))\n",
    "    print(distcount)\n",
    "    \n",
    "    # sort on n crashes, work orders\n",
    "    bridges = (bridges\n",
    "               >> arrange(_.DIST_left, -_.Crashes, -_.WO_density)\n",
    "              )\n",
    "    # pick top 3 in each district (does not include 15-16th st in Sac)\n",
    "    bridges_cut = bridges.groupby('DIST_left').apply(lambda x: x.iloc[0:3])\n",
    "    \n",
    "    return bridges_cut"
   ]
  },
  {
   "cell_type": "markdown",
   "id": "25fb51b2-c190-4998-9b05-14d48da37967",
   "metadata": {},
   "source": [
    "## Ped Only"
   ]
  },
  {
   "cell_type": "code",
   "execution_count": 11,
   "id": "a0c40e8a-b515-49ef-a94d-464c33b63a65",
   "metadata": {},
   "outputs": [
    {
     "name": "stdout",
     "output_type": "stream",
     "text": [
      "<class 'geopandas.geodataframe.GeoDataFrame'>\n",
      "RangeIndex: 261 entries, 0 to 260\n",
      "Data columns (total 26 columns):\n",
      " #   Column             Non-Null Count  Dtype   \n",
      "---  ------             --------------  -----   \n",
      " 0   OBJECTID           261 non-null    int64   \n",
      " 1   OBJECTID1          261 non-null    int64   \n",
      " 2   OBJECTID_1         261 non-null    int64   \n",
      " 3   BRIDGE_left        261 non-null    object  \n",
      " 4   NAME_left          261 non-null    object  \n",
      " 5   FAC_left           261 non-null    object  \n",
      " 6   DIST_left          261 non-null    object  \n",
      " 7   CO_left            261 non-null    object  \n",
      " 8   NUMBER_KILLED      261 non-null    int64   \n",
      " 9   NUMBER_INJURED     261 non-null    int64   \n",
      " 10  Crashes            261 non-null    int64   \n",
      " 11  bike_crash         261 non-null    int64   \n",
      " 12  pedbike_crash      261 non-null    int64   \n",
      " 13  WONO               261 non-null    int64   \n",
      " 14  WO_density         261 non-null    float64 \n",
      " 15  WO_dummy           261 non-null    int64   \n",
      " 16  WO_density_pctile  261 non-null    float64 \n",
      " 17  COUNT              261 non-null    int64   \n",
      " 18  EQI_PP             261 non-null    int64   \n",
      " 19  EQI_TE             261 non-null    int64   \n",
      " 20  EQI_AD             261 non-null    int64   \n",
      " 21  pct_non_white      261 non-null    float64 \n",
      " 22  median_hh_income   260 non-null    float64 \n",
      " 23  Shape_Length       261 non-null    float64 \n",
      " 24  Shape_Area         261 non-null    float64 \n",
      " 25  geometry           261 non-null    geometry\n",
      "dtypes: float64(6), geometry(1), int64(14), object(5)\n",
      "memory usage: 53.1+ KB\n",
      "  DIST_left   n\n",
      "0         1   3\n",
      "1        10  14\n",
      "2        11  58\n",
      "3        12   2\n",
      "4         3  52\n",
      "5         4  27\n",
      "6         5  14\n",
      "7         6   2\n",
      "8         7  81\n",
      "9         8   8\n"
     ]
    }
   ],
   "source": [
    "bridges_cut_ped = bridge_rank(\"priority_bridges_ped_EQI_comparison\", \"ped_crash\")"
   ]
  },
  {
   "cell_type": "code",
   "execution_count": 13,
   "id": "cff4b56e-d407-420b-a8c9-97168d5a078a",
   "metadata": {},
   "outputs": [],
   "source": [
    "# export to csv\n",
    "(bridges_cut_ped \n",
    " >> mutate(District = _.DIST_left)\n",
    " >> filter(_.Crashes>0, _.WONO>0)\n",
    " >> select(_.District, _.County==_.CO_left, _.Bridge==_.BRIDGE_left, _.Name==_.NAME_left, _.Facility==_.FAC_left, _.Crashes, _.NUMBER_KILLED, _.NUMBER_INJURED, _.WorkOrders==_.WONO)\n",
    ").to_csv(f'{GCS_FILE_PATH}ranked_bridgeareas_t3.csv')"
   ]
  },
  {
   "cell_type": "code",
   "execution_count": null,
   "id": "4f285db8-bc1b-465f-beda-315479ad69ee",
   "metadata": {},
   "outputs": [],
   "source": [
    "distlist = bridges_cut_ped.DIST_left.unique().tolist()\n",
    "    \n",
    "for d in distlist:\n",
    "    distbridges = (bridges_cut_ped \n",
    "                   >> mutate(District = _.DIST_left)\n",
    "                   >> select(_.District, _.County==_.CO_left, _.BridgeName==_.NAME_left, _.Facility==_.FAC_left, _.Crashes, _.WorkOrders==_.WONO) \n",
    "                   >> filter(_.District==d) \n",
    "                   >> head(10)\n",
    "                  )\n",
    "    display(distbridges)"
   ]
  },
  {
   "cell_type": "code",
   "execution_count": null,
   "id": "4c4bf0e7-e512-43fa-ab16-e6948e6904b2",
   "metadata": {},
   "outputs": [],
   "source": [
    "bridges_cut_ped.explore()"
   ]
  },
  {
   "cell_type": "markdown",
   "id": "149e2c2c-cec7-41fc-b2b8-55a48691c1c0",
   "metadata": {},
   "source": [
    "## Ped and Bike (hold)"
   ]
  },
  {
   "cell_type": "code",
   "execution_count": null,
   "id": "23b67abe-c6d9-409e-b9df-ec996556b8e5",
   "metadata": {},
   "outputs": [],
   "source": [
    "bridges_cut_pedbike = bridge_rank(\"Priority_Bridges_cut2_EQI\", \"pedbike_crash\")"
   ]
  },
  {
   "cell_type": "code",
   "execution_count": null,
   "id": "f8798b83-88c8-453c-b9b8-1ad7a44c34ea",
   "metadata": {},
   "outputs": [],
   "source": [
    "distlist = bridges_cut_pedbike.DIST_left.unique().tolist()\n",
    "    \n",
    "for d in distlist:\n",
    "    distbridges = (bridges_cut_pedbike \n",
    "                   >> mutate(District = _.DIST_left)\n",
    "                   >> select(_.District, _.County==_.CO_left, _.BridgeName==_.NAME_left, _.Facility==_.FAC_left, _.Crashes, _.WorkOrders==_.WONO) \n",
    "                   >> filter(_.District==d) \n",
    "                   >> head(10)\n",
    "                  )\n",
    "    display(distbridges)"
   ]
  },
  {
   "cell_type": "code",
   "execution_count": null,
   "id": "7ec79f5e-4155-45e1-8368-838fda583d7f",
   "metadata": {},
   "outputs": [],
   "source": []
  }
 ],
 "metadata": {
  "kernelspec": {
   "display_name": "Python 3 (ipykernel)",
   "language": "python",
   "name": "python3"
  },
  "language_info": {
   "codemirror_mode": {
    "name": "ipython",
    "version": 3
   },
   "file_extension": ".py",
   "mimetype": "text/x-python",
   "name": "python",
   "nbconvert_exporter": "python",
   "pygments_lexer": "ipython3",
   "version": "3.9.13"
  }
 },
 "nbformat": 4,
 "nbformat_minor": 5
}
