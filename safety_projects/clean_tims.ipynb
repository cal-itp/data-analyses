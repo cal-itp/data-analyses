{
 "cells": [
  {
   "cell_type": "code",
   "execution_count": null,
   "id": "5e8a401d-30e3-4a58-aeab-d659694a1c48",
   "metadata": {},
   "outputs": [],
   "source": [
    "import os\n",
    "os.environ[\"CALITP_BQ_MAX_BYTES\"] = str(1_000_000_000_000) ## 1TB?\n",
    "\n",
    "import pandas as pd\n",
    "import geopandas as gpd\n",
    "from siuba import *\n",
    "\n",
    "import shared_utils\n",
    "import datetime as dt\n",
    "\n",
    "import gcsfs\n",
    "\n",
    "from calitp_data.storage import get_fs\n",
    "fs = get_fs()\n",
    "\n",
    "GCS_FILE_PATH = \"gs://calitp-analytics-data/data-analyses/safety_projects/\""
   ]
  },
  {
   "cell_type": "markdown",
   "id": "735a80ca-7667-47fb-aea9-d1d8289842cb",
   "metadata": {},
   "source": [
    "# Read in TIMS Export"
   ]
  },
  {
   "cell_type": "code",
   "execution_count": null,
   "id": "751c293b-10ad-497c-be1e-30882b272a04",
   "metadata": {},
   "outputs": [],
   "source": [
    "tims = pd.read_parquet(f'{GCS_FILE_PATH}TIMS_Data.parquet')"
   ]
  },
  {
   "cell_type": "code",
   "execution_count": null,
   "id": "e7579677-9900-4c7b-893f-eeaee9f24bb6",
   "metadata": {},
   "outputs": [],
   "source": [
    "tims.info(verbose=True, show_counts=True)"
   ]
  },
  {
   "cell_type": "code",
   "execution_count": null,
   "id": "158c5810-4a22-4f08-86ef-b0466b9c83df",
   "metadata": {},
   "outputs": [],
   "source": [
    "tims >> count(_.COLLISION_SEVERITY)"
   ]
  },
  {
   "cell_type": "code",
   "execution_count": null,
   "id": "bc983952-9c6a-4686-a707-77a732a93cb8",
   "metadata": {},
   "outputs": [],
   "source": [
    "# keep only small subset of columns\n",
    "tims_small = (tims \n",
    "              >> select(_.CASE_ID,_.ACCIDENT_YEAR,_.COLLISION_DATE,_.COLLISION_TIME,_.COLLISION_SEVERITY,\n",
    "                                 _.PCF_VIOL_CATEGORY,_.TYPE_OF_COLLISION,_.MVIW,\n",
    "                                 _.NUMBER_KILLED,_.NUMBER_INJURED,_.PEDESTRIAN_ACCIDENT,_.BICYCLE_ACCIDENT,\n",
    "                                 _.LATITUDE,_.LONGITUDE,_.POINT_X,_.POINT_Y\n",
    "                            )\n",
    "              >> filter(_.COLLISION_SEVERITY<=2) # fatality or severe injury\n",
    "               )"
   ]
  },
  {
   "cell_type": "code",
   "execution_count": null,
   "id": "992adb0e-7fca-4c32-947d-f7d351e9677c",
   "metadata": {},
   "outputs": [],
   "source": [
    "tims_small.info()"
   ]
  },
  {
   "cell_type": "code",
   "execution_count": null,
   "id": "e0d88944-1f81-4ae8-ba24-5698d0da5476",
   "metadata": {},
   "outputs": [],
   "source": [
    "tims_small.head(10)"
   ]
  },
  {
   "cell_type": "code",
   "execution_count": null,
   "id": "72030707-662d-44de-936f-ef679c9bb94a",
   "metadata": {},
   "outputs": [],
   "source": [
    "# make geodataframe w/ relevant columns \n",
    "tims_gdf = ((gpd.GeoDataFrame(\n",
    "    tims_small, geometry=gpd.points_from_xy(tims_small.POINT_X, tims_small.POINT_Y))\n",
    "           ) >> filter(-_.geometry.is_empty)\n",
    "           )"
   ]
  },
  {
   "cell_type": "code",
   "execution_count": null,
   "id": "6e8595aa-04cc-46bc-ac0d-93c5f49815d4",
   "metadata": {},
   "outputs": [],
   "source": [
    "# set a CRS: assume WGS 84? \n",
    "tims_gdf = tims_gdf.set_crs('4326')"
   ]
  },
  {
   "cell_type": "code",
   "execution_count": null,
   "id": "93203b71-3757-4099-abc1-e4352c5bc9f8",
   "metadata": {},
   "outputs": [],
   "source": [
    "# project to match project data\n",
    "tims_gdf = tims_gdf.to_crs(shared_utils.geography_utils.CA_NAD83Albers)"
   ]
  },
  {
   "cell_type": "code",
   "execution_count": null,
   "id": "79540ed0-0919-40a5-b12a-c30bee89abac",
   "metadata": {},
   "outputs": [],
   "source": [
    "tims_gdf.explore()"
   ]
  },
  {
   "cell_type": "code",
   "execution_count": null,
   "id": "7703a05c-ba29-4388-9fc7-f4aefcaa042f",
   "metadata": {},
   "outputs": [],
   "source": []
  }
 ],
 "metadata": {
  "kernelspec": {
   "display_name": "Python 3 (ipykernel)",
   "language": "python",
   "name": "python3"
  },
  "language_info": {
   "codemirror_mode": {
    "name": "ipython",
    "version": 3
   },
   "file_extension": ".py",
   "mimetype": "text/x-python",
   "name": "python",
   "nbconvert_exporter": "python",
   "pygments_lexer": "ipython3",
   "version": "3.9.13"
  }
 },
 "nbformat": 4,
 "nbformat_minor": 5
}
