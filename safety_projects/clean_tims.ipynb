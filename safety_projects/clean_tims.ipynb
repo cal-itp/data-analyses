{
 "cells": [
  {
   "cell_type": "code",
   "execution_count": 1,
   "id": "5e8a401d-30e3-4a58-aeab-d659694a1c48",
   "metadata": {},
   "outputs": [
    {
     "name": "stderr",
     "output_type": "stream",
     "text": [
      "/opt/conda/lib/python3.9/site-packages/geopandas/_compat.py:123: UserWarning: The Shapely GEOS version (3.11.1-CAPI-1.17.1) is incompatible with the GEOS version PyGEOS was compiled with (3.10.1-CAPI-1.16.0). Conversions between both will be slow.\n",
      "  warnings.warn(\n",
      "/tmp/ipykernel_430/1261345588.py:5: UserWarning: Shapely 2.0 is installed, but because PyGEOS is also installed, GeoPandas will still use PyGEOS by default for now. To force to use and test Shapely 2.0, you have to set the environment variable USE_PYGEOS=0. You can do this before starting the Python process, or in your code before importing geopandas:\n",
      "\n",
      "import os\n",
      "os.environ['USE_PYGEOS'] = '0'\n",
      "import geopandas\n",
      "\n",
      "In a future release, GeoPandas will switch to using Shapely by default. If you are using PyGEOS directly (calling PyGEOS functions on geometries from GeoPandas), this will then stop working and you are encouraged to migrate from PyGEOS to Shapely 2.0 (https://shapely.readthedocs.io/en/latest/migration_pygeos.html).\n",
      "  import geopandas as gpd\n"
     ]
    }
   ],
   "source": [
    "import os\n",
    "os.environ[\"CALITP_BQ_MAX_BYTES\"] = str(1_000_000_000_000) ## 1TB?\n",
    "\n",
    "import pandas as pd\n",
    "import geopandas as gpd\n",
    "from siuba import *\n",
    "\n",
    "import shared_utils\n",
    "import datetime as dt\n",
    "\n",
    "import gcsfs\n",
    "\n",
    "from calitp_data.storage import get_fs\n",
    "fs = get_fs()\n",
    "\n",
    "GCS_FILE_PATH = \"gs://calitp-analytics-data/data-analyses/safety_projects/\""
   ]
  },
  {
   "cell_type": "markdown",
   "id": "735a80ca-7667-47fb-aea9-d1d8289842cb",
   "metadata": {},
   "source": [
    "# Read in TIMS Export"
   ]
  },
  {
   "cell_type": "code",
   "execution_count": 2,
   "id": "751c293b-10ad-497c-be1e-30882b272a04",
   "metadata": {},
   "outputs": [],
   "source": [
    "tims = pd.read_parquet(f'{GCS_FILE_PATH}TIMS_Data.parquet')"
   ]
  },
  {
   "cell_type": "code",
   "execution_count": 3,
   "id": "e7579677-9900-4c7b-893f-eeaee9f24bb6",
   "metadata": {},
   "outputs": [
    {
     "name": "stdout",
     "output_type": "stream",
     "text": [
      "<class 'pandas.core.frame.DataFrame'>\n",
      "RangeIndex: 929291 entries, 0 to 929290\n",
      "Data columns (total 80 columns):\n",
      " #   Column                   Non-Null Count   Dtype  \n",
      "---  ------                   --------------   -----  \n",
      " 0   CASE_ID                  929291 non-null  int32  \n",
      " 1   ACCIDENT_YEAR            929291 non-null  int32  \n",
      " 2   PROC_DATE                929291 non-null  object \n",
      " 3   JURIS                    929291 non-null  object \n",
      " 4   COLLISION_DATE           929291 non-null  object \n",
      " 5   COLLISION_TIME           929291 non-null  int32  \n",
      " 6   OFFICER_ID               929283 non-null  object \n",
      " 7   REPORTING_DISTRICT       923435 non-null  object \n",
      " 8   DAY_OF_WEEK              929291 non-null  int32  \n",
      " 9   CHP_SHIFT                929291 non-null  int32  \n",
      " 10  POPULATION               929291 non-null  int32  \n",
      " 11  CNTY_CITY_LOC            929291 non-null  int32  \n",
      " 12  SPECIAL_COND             929291 non-null  int32  \n",
      " 13  BEAT_TYPE                929291 non-null  int32  \n",
      " 14  CHP_BEAT_TYPE            929291 non-null  object \n",
      " 15  CITY_DIVISION_LAPD       295149 non-null  object \n",
      " 16  CHP_BEAT_CLASS           929291 non-null  int32  \n",
      " 17  BEAT_NUMBER              929270 non-null  object \n",
      " 18  PRIMARY_RD               929291 non-null  object \n",
      " 19  SECONDARY_RD             929291 non-null  object \n",
      " 20  DISTANCE                 929291 non-null  float64\n",
      " 21  DIRECTION                929291 non-null  object \n",
      " 22  INTERSECTION             929291 non-null  object \n",
      " 23  WEATHER_1                929291 non-null  object \n",
      " 24  WEATHER_2                929291 non-null  object \n",
      " 25  STATE_HWY_IND            929291 non-null  object \n",
      " 26  CALTRANS_COUNTY          927728 non-null  object \n",
      " 27  CALTRANS_DISTRICT        38319 non-null   float64\n",
      " 28  STATE_ROUTE              269032 non-null  float64\n",
      " 29  ROUTE_SUFFIX             927728 non-null  object \n",
      " 30  POSTMILE_PREFIX          927728 non-null  object \n",
      " 31  POSTMILE                 38319 non-null   float64\n",
      " 32  LOCATION_TYPE            927728 non-null  object \n",
      " 33  RAMP_INTERSECTION        927728 non-null  object \n",
      " 34  SIDE_OF_HWY              929291 non-null  object \n",
      " 35  TOW_AWAY                 929291 non-null  object \n",
      " 36  COLLISION_SEVERITY       929291 non-null  int32  \n",
      " 37  NUMBER_KILLED            929291 non-null  int32  \n",
      " 38  NUMBER_INJURED           929291 non-null  int32  \n",
      " 39  PARTY_COUNT              929291 non-null  int32  \n",
      " 40  PRIMARY_COLL_FACTOR      929291 non-null  object \n",
      " 41  PCF_CODE_OF_VIOL         929291 non-null  object \n",
      " 42  PCF_VIOL_CATEGORY        929291 non-null  object \n",
      " 43  PCF_VIOLATION            891410 non-null  float64\n",
      " 44  PCF_VIOL_SUBSECTION      929291 non-null  object \n",
      " 45  HIT_AND_RUN              929291 non-null  object \n",
      " 46  TYPE_OF_COLLISION        929291 non-null  object \n",
      " 47  MVIW                     929291 non-null  object \n",
      " 48  PED_ACTION               929291 non-null  object \n",
      " 49  ROAD_SURFACE             929291 non-null  object \n",
      " 50  ROAD_COND_1              929291 non-null  object \n",
      " 51  ROAD_COND_2              929291 non-null  object \n",
      " 52  LIGHTING                 929291 non-null  object \n",
      " 53  CONTROL_DEVICE           929291 non-null  object \n",
      " 54  CHP_ROAD_TYPE            929291 non-null  int32  \n",
      " 55  PEDESTRIAN_ACCIDENT      929115 non-null  object \n",
      " 56  BICYCLE_ACCIDENT         929291 non-null  object \n",
      " 57  MOTORCYCLE_ACCIDENT      929291 non-null  object \n",
      " 58  TRUCK_ACCIDENT           929291 non-null  object \n",
      " 59  NOT_PRIVATE_PROPERTY     929291 non-null  object \n",
      " 60  ALCOHOL_INVOLVED         929291 non-null  object \n",
      " 61  STWD_VEHTYPE_AT_FAULT    929291 non-null  object \n",
      " 62  CHP_VEHTYPE_AT_FAULT     929291 non-null  object \n",
      " 63  COUNT_SEVERE_INJ         929291 non-null  int32  \n",
      " 64  COUNT_VISIBLE_INJ        929291 non-null  int32  \n",
      " 65  COUNT_COMPLAINT_PAIN     929291 non-null  int32  \n",
      " 66  COUNT_PED_KILLED         929291 non-null  int32  \n",
      " 67  COUNT_PED_INJURED        929291 non-null  int32  \n",
      " 68  COUNT_BICYCLIST_KILLED   929291 non-null  int32  \n",
      " 69  COUNT_BICYCLIST_INJURED  929291 non-null  int32  \n",
      " 70  COUNT_MC_KILLED          929291 non-null  int32  \n",
      " 71  COUNT_MC_INJURED         929291 non-null  int32  \n",
      " 72  PRIMARY_RAMP             929291 non-null  object \n",
      " 73  SECONDARY_RAMP           929291 non-null  object \n",
      " 74  LATITUDE                 514761 non-null  float64\n",
      " 75  LONGITUDE                514761 non-null  float64\n",
      " 76  COUNTY                   929291 non-null  object \n",
      " 77  CITY                     929291 non-null  object \n",
      " 78  POINT_X                  893002 non-null  float64\n",
      " 79  POINT_Y                  893002 non-null  float64\n",
      "dtypes: float64(9), int32(24), object(47)\n",
      "memory usage: 482.1+ MB\n"
     ]
    }
   ],
   "source": [
    "tims.info(verbose=True, show_counts=True)"
   ]
  },
  {
   "cell_type": "code",
   "execution_count": null,
   "id": "158c5810-4a22-4f08-86ef-b0466b9c83df",
   "metadata": {},
   "outputs": [],
   "source": [
    "tims >> count(_.COLLISION_SEVERITY)"
   ]
  },
  {
   "cell_type": "code",
   "execution_count": null,
   "id": "bc983952-9c6a-4686-a707-77a732a93cb8",
   "metadata": {},
   "outputs": [],
   "source": [
    "# keep only small subset of columns\n",
    "tims_small = (tims \n",
    "              >> select(_.CASE_ID,_.ACCIDENT_YEAR,_.COLLISION_DATE,_.COLLISION_TIME,_.COLLISION_SEVERITY,\n",
    "                                 _.PCF_VIOL_CATEGORY,_.TYPE_OF_COLLISION,_.MVIW,\n",
    "                                 _.NUMBER_KILLED,_.NUMBER_INJURED,_.PEDESTRIAN_ACCIDENT,_.BICYCLE_ACCIDENT,\n",
    "                                 _.LATITUDE,_.LONGITUDE,_.POINT_X,_.POINT_Y\n",
    "                            )\n",
    "              >> filter(_.COLLISION_SEVERITY<=2) # fatality or severe injury\n",
    "               )"
   ]
  },
  {
   "cell_type": "code",
   "execution_count": null,
   "id": "992adb0e-7fca-4c32-947d-f7d351e9677c",
   "metadata": {},
   "outputs": [],
   "source": [
    "tims_small.info()"
   ]
  },
  {
   "cell_type": "code",
   "execution_count": null,
   "id": "e0d88944-1f81-4ae8-ba24-5698d0da5476",
   "metadata": {},
   "outputs": [],
   "source": [
    "tims_small.head(10)"
   ]
  },
  {
   "cell_type": "code",
   "execution_count": null,
   "id": "72030707-662d-44de-936f-ef679c9bb94a",
   "metadata": {},
   "outputs": [],
   "source": [
    "# make geodataframe w/ relevant columns \n",
    "tims_gdf = ((gpd.GeoDataFrame(\n",
    "    tims_small, geometry=gpd.points_from_xy(tims_small.POINT_X, tims_small.POINT_Y))\n",
    "           ) >> filter(-_.geometry.is_empty)\n",
    "           )"
   ]
  },
  {
   "cell_type": "code",
   "execution_count": null,
   "id": "6e8595aa-04cc-46bc-ac0d-93c5f49815d4",
   "metadata": {},
   "outputs": [],
   "source": [
    "# set a CRS: assume WGS 84? \n",
    "tims_gdf = tims_gdf.set_crs('4326')"
   ]
  },
  {
   "cell_type": "code",
   "execution_count": null,
   "id": "93203b71-3757-4099-abc1-e4352c5bc9f8",
   "metadata": {},
   "outputs": [],
   "source": [
    "# project to match project data\n",
    "tims_gdf = tims_gdf.to_crs(shared_utils.geography_utils.CA_NAD83Albers)"
   ]
  },
  {
   "cell_type": "code",
   "execution_count": null,
   "id": "79540ed0-0919-40a5-b12a-c30bee89abac",
   "metadata": {},
   "outputs": [],
   "source": [
    "tims_gdf.explore()"
   ]
  },
  {
   "cell_type": "code",
   "execution_count": null,
   "id": "7703a05c-ba29-4388-9fc7-f4aefcaa042f",
   "metadata": {},
   "outputs": [],
   "source": []
  }
 ],
 "metadata": {
  "kernelspec": {
   "display_name": "Python 3 (ipykernel)",
   "language": "python",
   "name": "python3"
  },
  "language_info": {
   "codemirror_mode": {
    "name": "ipython",
    "version": 3
   },
   "file_extension": ".py",
   "mimetype": "text/x-python",
   "name": "python",
   "nbconvert_exporter": "python",
   "pygments_lexer": "ipython3",
   "version": "3.9.13"
  }
 },
 "nbformat": 4,
 "nbformat_minor": 5
}
