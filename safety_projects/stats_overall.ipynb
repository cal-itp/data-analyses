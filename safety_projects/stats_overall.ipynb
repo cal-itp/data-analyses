{
 "cells": [
  {
   "cell_type": "code",
   "execution_count": 1,
   "id": "3718dc11-18eb-4280-a8c4-932ff942e5a4",
   "metadata": {},
   "outputs": [
    {
     "name": "stderr",
     "output_type": "stream",
     "text": [
      "/opt/conda/lib/python3.9/site-packages/geopandas/_compat.py:123: UserWarning: The Shapely GEOS version (3.11.1-CAPI-1.17.1) is incompatible with the GEOS version PyGEOS was compiled with (3.10.1-CAPI-1.16.0). Conversions between both will be slow.\n",
      "  warnings.warn(\n",
      "/opt/conda/lib/python3.9/site-packages/dask_geopandas/backends.py:13: UserWarning: Shapely 2.0 is installed, but because PyGEOS is also installed, GeoPandas will still use PyGEOS by default for now. To force to use and test Shapely 2.0, you have to set the environment variable USE_PYGEOS=0. You can do this before starting the Python process, or in your code before importing geopandas:\n",
      "\n",
      "import os\n",
      "os.environ['USE_PYGEOS'] = '0'\n",
      "import geopandas\n",
      "\n",
      "In a future release, GeoPandas will switch to using Shapely by default. If you are using PyGEOS directly (calling PyGEOS functions on geometries from GeoPandas), this will then stop working and you are encouraged to migrate from PyGEOS to Shapely 2.0 (https://shapely.readthedocs.io/en/latest/migration_pygeos.html).\n",
      "  import geopandas\n"
     ]
    }
   ],
   "source": [
    "# header\n",
    "import os\n",
    "os.environ[\"CALITP_BQ_MAX_BYTES\"] = str(800_000_000_000) ## 800GB?\n",
    "\n",
    "import shared_utils\n",
    "\n",
    "import pandas as pd\n",
    "import geopandas as gpd\n",
    "from siuba import *\n",
    "\n",
    "pd.set_option('display.max_columns', None) \n",
    "\n",
    "import gcsfs\n",
    "\n",
    "from calitp_data.storage import get_fs\n",
    "fs = get_fs()\n",
    "\n",
    "GCS_FILE_PATH = \"gs://calitp-analytics-data/data-analyses/safety_projects/\""
   ]
  },
  {
   "cell_type": "markdown",
   "id": "1ee3df64-cf92-4515-822b-908d583683d5",
   "metadata": {},
   "source": [
    "# Join Crash and Encampment Bridge Areas"
   ]
  },
  {
   "cell_type": "code",
   "execution_count": 2,
   "id": "8195b236-b0ac-4b6d-816c-10e52dc0efde",
   "metadata": {},
   "outputs": [],
   "source": [
    "# load aggregated crashes\n",
    "crashes = gpd.read_parquet(f'{GCS_FILE_PATH}pedcrashes_agg.parquet')"
   ]
  },
  {
   "cell_type": "code",
   "execution_count": 3,
   "id": "2a1877d8-cd96-4c2a-bc8a-3388dd9d39bb",
   "metadata": {},
   "outputs": [
    {
     "name": "stdout",
     "output_type": "stream",
     "text": [
      "<class 'geopandas.geodataframe.GeoDataFrame'>\n",
      "RangeIndex: 8972 entries, 0 to 8971\n",
      "Data columns (total 9 columns):\n",
      " #   Column               Non-Null Count  Dtype   \n",
      "---  ------               --------------  -----   \n",
      " 0   BRIDGE_left          8972 non-null   object  \n",
      " 1   NAME_left            8972 non-null   object  \n",
      " 2   FAC_left             8972 non-null   object  \n",
      " 3   DIST_left            8972 non-null   int64   \n",
      " 4   CO_left              8972 non-null   object  \n",
      " 5   geometry             8972 non-null   geometry\n",
      " 6   number_killed        8972 non-null   float64 \n",
      " 7   number_injured       8972 non-null   float64 \n",
      " 8   pedestrian_accident  8972 non-null   int64   \n",
      "dtypes: float64(2), geometry(1), int64(2), object(4)\n",
      "memory usage: 631.0+ KB\n"
     ]
    }
   ],
   "source": [
    "crashes.info()"
   ]
  },
  {
   "cell_type": "code",
   "execution_count": 4,
   "id": "c10cac9e-b612-4106-8738-5ba70775d1c3",
   "metadata": {},
   "outputs": [],
   "source": [
    "# load aggregated encampments\n",
    "encampments = gpd.read_parquet(f'{GCS_FILE_PATH}encampments_agg.parquet')"
   ]
  },
  {
   "cell_type": "code",
   "execution_count": 5,
   "id": "cabcb165-d87a-452e-8437-d35c100761f2",
   "metadata": {},
   "outputs": [
    {
     "name": "stdout",
     "output_type": "stream",
     "text": [
      "<class 'geopandas.geodataframe.GeoDataFrame'>\n",
      "RangeIndex: 8972 entries, 0 to 8971\n",
      "Data columns (total 10 columns):\n",
      " #   Column             Non-Null Count  Dtype   \n",
      "---  ------             --------------  -----   \n",
      " 0   BRIDGE_left        8972 non-null   object  \n",
      " 1   NAME_left          8972 non-null   object  \n",
      " 2   FAC_left           8972 non-null   object  \n",
      " 3   DIST_left          8972 non-null   int64   \n",
      " 4   CO_left            8972 non-null   object  \n",
      " 5   geometry           8972 non-null   geometry\n",
      " 6   WONO               8972 non-null   int64   \n",
      " 7   WO_density         8972 non-null   float64 \n",
      " 8   WO_dummy           8972 non-null   int64   \n",
      " 9   WO_density_pctile  8972 non-null   float64 \n",
      "dtypes: float64(2), geometry(1), int64(3), object(4)\n",
      "memory usage: 701.1+ KB\n"
     ]
    }
   ],
   "source": [
    "encampments.info()"
   ]
  },
  {
   "cell_type": "code",
   "execution_count": 6,
   "id": "087fffe7-08e7-47d6-927f-c4f0be49753b",
   "metadata": {},
   "outputs": [],
   "source": [
    "# full join on bridge, name, fac - there are some slight differences in geometry\n",
    "crashes_encampments = crashes.merge(encampments, on=['BRIDGE_left','NAME_left','FAC_left', 'DIST_left', 'CO_left'], how='outer')"
   ]
  },
  {
   "cell_type": "code",
   "execution_count": 7,
   "id": "59a06b54-b485-4c2a-b211-02bad3e5a4e6",
   "metadata": {},
   "outputs": [
    {
     "name": "stdout",
     "output_type": "stream",
     "text": [
      "<class 'pandas.core.frame.DataFrame'>\n",
      "Int64Index: 8972 entries, 0 to 8971\n",
      "Data columns (total 14 columns):\n",
      " #   Column               Non-Null Count  Dtype   \n",
      "---  ------               --------------  -----   \n",
      " 0   BRIDGE_left          8972 non-null   object  \n",
      " 1   NAME_left            8972 non-null   object  \n",
      " 2   FAC_left             8972 non-null   object  \n",
      " 3   DIST_left            8972 non-null   int64   \n",
      " 4   CO_left              8972 non-null   object  \n",
      " 5   geometry_x           8972 non-null   geometry\n",
      " 6   number_killed        8972 non-null   float64 \n",
      " 7   number_injured       8972 non-null   float64 \n",
      " 8   pedestrian_accident  8972 non-null   int64   \n",
      " 9   geometry_y           8972 non-null   geometry\n",
      " 10  WONO                 8972 non-null   int64   \n",
      " 11  WO_density           8972 non-null   float64 \n",
      " 12  WO_dummy             8972 non-null   int64   \n",
      " 13  WO_density_pctile    8972 non-null   float64 \n",
      "dtypes: float64(4), geometry(2), int64(4), object(4)\n",
      "memory usage: 1.0+ MB\n"
     ]
    }
   ],
   "source": [
    "crashes_encampments.info()"
   ]
  },
  {
   "cell_type": "code",
   "execution_count": 8,
   "id": "12090f3d-f7e0-44de-9d66-e326b2326d75",
   "metadata": {},
   "outputs": [
    {
     "data": {
      "text/html": [
       "<div>\n",
       "<style scoped>\n",
       "    .dataframe tbody tr th:only-of-type {\n",
       "        vertical-align: middle;\n",
       "    }\n",
       "\n",
       "    .dataframe tbody tr th {\n",
       "        vertical-align: top;\n",
       "    }\n",
       "\n",
       "    .dataframe thead th {\n",
       "        text-align: right;\n",
       "    }\n",
       "</style>\n",
       "<table border=\"1\" class=\"dataframe\">\n",
       "  <thead>\n",
       "    <tr style=\"text-align: right;\">\n",
       "      <th></th>\n",
       "      <th>BRIDGE_left</th>\n",
       "      <th>NAME_left</th>\n",
       "      <th>FAC_left</th>\n",
       "      <th>DIST_left</th>\n",
       "      <th>CO_left</th>\n",
       "      <th>geometry_x</th>\n",
       "      <th>number_killed</th>\n",
       "      <th>number_injured</th>\n",
       "      <th>pedestrian_accident</th>\n",
       "      <th>geometry_y</th>\n",
       "      <th>WONO</th>\n",
       "      <th>WO_density</th>\n",
       "      <th>WO_dummy</th>\n",
       "      <th>WO_density_pctile</th>\n",
       "    </tr>\n",
       "  </thead>\n",
       "  <tbody>\n",
       "    <tr>\n",
       "      <th>26</th>\n",
       "      <td>01 0064</td>\n",
       "      <td>WASHINGTON BLVD OC</td>\n",
       "      <td>WASHINGTON BLVD</td>\n",
       "      <td>1</td>\n",
       "      <td>DN</td>\n",
       "      <td>POLYGON ((-348366.829 424934.719, -348367.310 ...</td>\n",
       "      <td>1.0</td>\n",
       "      <td>1.0</td>\n",
       "      <td>2</td>\n",
       "      <td>POLYGON ((-348366.829 424944.532, -348366.829 ...</td>\n",
       "      <td>1</td>\n",
       "      <td>0.000008</td>\n",
       "      <td>1</td>\n",
       "      <td>0.872771</td>\n",
       "    </tr>\n",
       "  </tbody>\n",
       "</table>\n",
       "</div>"
      ],
      "text/plain": [
       "   BRIDGE_left           NAME_left         FAC_left  DIST_left CO_left  \\\n",
       "26     01 0064  WASHINGTON BLVD OC  WASHINGTON BLVD          1      DN   \n",
       "\n",
       "                                           geometry_x  number_killed  \\\n",
       "26  POLYGON ((-348366.829 424934.719, -348367.310 ...            1.0   \n",
       "\n",
       "    number_injured  pedestrian_accident  \\\n",
       "26             1.0                    2   \n",
       "\n",
       "                                           geometry_y  WONO  WO_density  \\\n",
       "26  POLYGON ((-348366.829 424944.532, -348366.829 ...     1    0.000008   \n",
       "\n",
       "    WO_dummy  WO_density_pctile  \n",
       "26         1           0.872771  "
      ]
     },
     "execution_count": 8,
     "metadata": {},
     "output_type": "execute_result"
    }
   ],
   "source": [
    "crashes_encampments >> filter(_.BRIDGE_left==\"01 0064\")"
   ]
  },
  {
   "cell_type": "code",
   "execution_count": 9,
   "id": "7be22d13-600e-4f03-a2fc-e8c1740d6d8c",
   "metadata": {},
   "outputs": [],
   "source": [
    "# ~1200 bridge areas where geometry does not fully match. Set geometry from crash data\n",
    "crashes_encampments_gdf = gpd.GeoDataFrame(crashes_encampments, geometry=\"geometry_x\", crs=\"3310\")"
   ]
  },
  {
   "cell_type": "code",
   "execution_count": 10,
   "id": "fb60912f-dedd-461f-9612-f0fed249b2f8",
   "metadata": {},
   "outputs": [
    {
     "name": "stdout",
     "output_type": "stream",
     "text": [
      "<class 'geopandas.geodataframe.GeoDataFrame'>\n",
      "Int64Index: 8972 entries, 0 to 8971\n",
      "Data columns (total 14 columns):\n",
      " #   Column               Non-Null Count  Dtype   \n",
      "---  ------               --------------  -----   \n",
      " 0   BRIDGE_left          8972 non-null   object  \n",
      " 1   NAME_left            8972 non-null   object  \n",
      " 2   FAC_left             8972 non-null   object  \n",
      " 3   DIST_left            8972 non-null   int64   \n",
      " 4   CO_left              8972 non-null   object  \n",
      " 5   geometry_x           8972 non-null   geometry\n",
      " 6   number_killed        8972 non-null   float64 \n",
      " 7   number_injured       8972 non-null   float64 \n",
      " 8   pedestrian_accident  8972 non-null   int64   \n",
      " 9   geometry_y           8972 non-null   geometry\n",
      " 10  WONO                 8972 non-null   int64   \n",
      " 11  WO_density           8972 non-null   float64 \n",
      " 12  WO_dummy             8972 non-null   int64   \n",
      " 13  WO_density_pctile    8972 non-null   float64 \n",
      "dtypes: float64(4), geometry(2), int64(4), object(4)\n",
      "memory usage: 1.0+ MB\n"
     ]
    }
   ],
   "source": [
    "crashes_encampments_gdf.info()"
   ]
  },
  {
   "cell_type": "code",
   "execution_count": 11,
   "id": "d32e6cd6-3784-4f37-b54c-c723f06a6c92",
   "metadata": {},
   "outputs": [],
   "source": [
    "# fix district - make string\n",
    "crashes_encampments_gdf['DIST_left'] = crashes_encampments_gdf['DIST_left'].apply(str)"
   ]
  },
  {
   "cell_type": "code",
   "execution_count": 12,
   "id": "830fee01-d725-40ef-8acd-e727e3ff49d9",
   "metadata": {},
   "outputs": [
    {
     "name": "stderr",
     "output_type": "stream",
     "text": [
      "/tmp/ipykernel_4618/3142507805.py:1: FutureWarning: The default value of numeric_only in GeoDataFrame.corr is deprecated. In a future version, it will default to False. Select only valid columns or specify the value of numeric_only to silence this warning.\n"
     ]
    },
    {
     "data": {
      "text/html": [
       "<div>\n",
       "<style scoped>\n",
       "    .dataframe tbody tr th:only-of-type {\n",
       "        vertical-align: middle;\n",
       "    }\n",
       "\n",
       "    .dataframe tbody tr th {\n",
       "        vertical-align: top;\n",
       "    }\n",
       "\n",
       "    .dataframe thead th {\n",
       "        text-align: right;\n",
       "    }\n",
       "</style>\n",
       "<table border=\"1\" class=\"dataframe\">\n",
       "  <thead>\n",
       "    <tr style=\"text-align: right;\">\n",
       "      <th></th>\n",
       "      <th>number_killed</th>\n",
       "      <th>number_injured</th>\n",
       "      <th>pedestrian_accident</th>\n",
       "      <th>WONO</th>\n",
       "      <th>WO_density</th>\n",
       "      <th>WO_dummy</th>\n",
       "      <th>WO_density_pctile</th>\n",
       "    </tr>\n",
       "  </thead>\n",
       "  <tbody>\n",
       "    <tr>\n",
       "      <th>number_killed</th>\n",
       "      <td>1.000000</td>\n",
       "      <td>0.358015</td>\n",
       "      <td>0.685269</td>\n",
       "      <td>0.306852</td>\n",
       "      <td>0.267089</td>\n",
       "      <td>0.244517</td>\n",
       "      <td>0.257406</td>\n",
       "    </tr>\n",
       "    <tr>\n",
       "      <th>number_injured</th>\n",
       "      <td>0.358015</td>\n",
       "      <td>1.000000</td>\n",
       "      <td>0.793902</td>\n",
       "      <td>0.235150</td>\n",
       "      <td>0.210504</td>\n",
       "      <td>0.229559</td>\n",
       "      <td>0.239726</td>\n",
       "    </tr>\n",
       "    <tr>\n",
       "      <th>pedestrian_accident</th>\n",
       "      <td>0.685269</td>\n",
       "      <td>0.793902</td>\n",
       "      <td>1.000000</td>\n",
       "      <td>0.363284</td>\n",
       "      <td>0.325120</td>\n",
       "      <td>0.328151</td>\n",
       "      <td>0.343678</td>\n",
       "    </tr>\n",
       "    <tr>\n",
       "      <th>WONO</th>\n",
       "      <td>0.306852</td>\n",
       "      <td>0.235150</td>\n",
       "      <td>0.363284</td>\n",
       "      <td>1.000000</td>\n",
       "      <td>0.934967</td>\n",
       "      <td>0.410077</td>\n",
       "      <td>0.469968</td>\n",
       "    </tr>\n",
       "    <tr>\n",
       "      <th>WO_density</th>\n",
       "      <td>0.267089</td>\n",
       "      <td>0.210504</td>\n",
       "      <td>0.325120</td>\n",
       "      <td>0.934967</td>\n",
       "      <td>1.000000</td>\n",
       "      <td>0.468496</td>\n",
       "      <td>0.534078</td>\n",
       "    </tr>\n",
       "    <tr>\n",
       "      <th>WO_dummy</th>\n",
       "      <td>0.244517</td>\n",
       "      <td>0.229559</td>\n",
       "      <td>0.328151</td>\n",
       "      <td>0.410077</td>\n",
       "      <td>0.468496</td>\n",
       "      <td>1.000000</td>\n",
       "      <td>0.992071</td>\n",
       "    </tr>\n",
       "    <tr>\n",
       "      <th>WO_density_pctile</th>\n",
       "      <td>0.257406</td>\n",
       "      <td>0.239726</td>\n",
       "      <td>0.343678</td>\n",
       "      <td>0.469968</td>\n",
       "      <td>0.534078</td>\n",
       "      <td>0.992071</td>\n",
       "      <td>1.000000</td>\n",
       "    </tr>\n",
       "  </tbody>\n",
       "</table>\n",
       "</div>"
      ],
      "text/plain": [
       "                     number_killed  number_injured  pedestrian_accident  \\\n",
       "number_killed             1.000000        0.358015             0.685269   \n",
       "number_injured            0.358015        1.000000             0.793902   \n",
       "pedestrian_accident       0.685269        0.793902             1.000000   \n",
       "WONO                      0.306852        0.235150             0.363284   \n",
       "WO_density                0.267089        0.210504             0.325120   \n",
       "WO_dummy                  0.244517        0.229559             0.328151   \n",
       "WO_density_pctile         0.257406        0.239726             0.343678   \n",
       "\n",
       "                         WONO  WO_density  WO_dummy  WO_density_pctile  \n",
       "number_killed        0.306852    0.267089  0.244517           0.257406  \n",
       "number_injured       0.235150    0.210504  0.229559           0.239726  \n",
       "pedestrian_accident  0.363284    0.325120  0.328151           0.343678  \n",
       "WONO                 1.000000    0.934967  0.410077           0.469968  \n",
       "WO_density           0.934967    1.000000  0.468496           0.534078  \n",
       "WO_dummy             0.410077    0.468496  1.000000           0.992071  \n",
       "WO_density_pctile    0.469968    0.534078  0.992071           1.000000  "
      ]
     },
     "execution_count": 12,
     "metadata": {},
     "output_type": "execute_result"
    }
   ],
   "source": [
    "crashes_encampments_gdf.corr()"
   ]
  },
  {
   "cell_type": "code",
   "execution_count": 13,
   "id": "52bf112f-2ab5-49b7-9af7-12afd6c15bcb",
   "metadata": {},
   "outputs": [
    {
     "data": {
      "text/html": [
       "<div>\n",
       "<style scoped>\n",
       "    .dataframe tbody tr th:only-of-type {\n",
       "        vertical-align: middle;\n",
       "    }\n",
       "\n",
       "    .dataframe tbody tr th {\n",
       "        vertical-align: top;\n",
       "    }\n",
       "\n",
       "    .dataframe thead th {\n",
       "        text-align: right;\n",
       "    }\n",
       "</style>\n",
       "<table border=\"1\" class=\"dataframe\">\n",
       "  <thead>\n",
       "    <tr style=\"text-align: right;\">\n",
       "      <th></th>\n",
       "      <th></th>\n",
       "      <th>pedestrian_accident</th>\n",
       "      <th>WO_density</th>\n",
       "      <th>WO_dummy</th>\n",
       "    </tr>\n",
       "    <tr>\n",
       "      <th>DIST_left</th>\n",
       "      <th></th>\n",
       "      <th></th>\n",
       "      <th></th>\n",
       "      <th></th>\n",
       "    </tr>\n",
       "  </thead>\n",
       "  <tbody>\n",
       "    <tr>\n",
       "      <th rowspan=\"3\" valign=\"top\">1</th>\n",
       "      <th>pedestrian_accident</th>\n",
       "      <td>1.000000</td>\n",
       "      <td>0.209930</td>\n",
       "      <td>0.193861</td>\n",
       "    </tr>\n",
       "    <tr>\n",
       "      <th>WO_density</th>\n",
       "      <td>0.209930</td>\n",
       "      <td>1.000000</td>\n",
       "      <td>0.781458</td>\n",
       "    </tr>\n",
       "    <tr>\n",
       "      <th>WO_dummy</th>\n",
       "      <td>0.193861</td>\n",
       "      <td>0.781458</td>\n",
       "      <td>1.000000</td>\n",
       "    </tr>\n",
       "    <tr>\n",
       "      <th rowspan=\"3\" valign=\"top\">10</th>\n",
       "      <th>pedestrian_accident</th>\n",
       "      <td>1.000000</td>\n",
       "      <td>0.403208</td>\n",
       "      <td>0.313794</td>\n",
       "    </tr>\n",
       "    <tr>\n",
       "      <th>WO_density</th>\n",
       "      <td>0.403208</td>\n",
       "      <td>1.000000</td>\n",
       "      <td>0.779760</td>\n",
       "    </tr>\n",
       "    <tr>\n",
       "      <th>WO_dummy</th>\n",
       "      <td>0.313794</td>\n",
       "      <td>0.779760</td>\n",
       "      <td>1.000000</td>\n",
       "    </tr>\n",
       "    <tr>\n",
       "      <th rowspan=\"3\" valign=\"top\">11</th>\n",
       "      <th>pedestrian_accident</th>\n",
       "      <td>1.000000</td>\n",
       "      <td>0.511026</td>\n",
       "      <td>0.446412</td>\n",
       "    </tr>\n",
       "    <tr>\n",
       "      <th>WO_density</th>\n",
       "      <td>0.511026</td>\n",
       "      <td>1.000000</td>\n",
       "      <td>0.553170</td>\n",
       "    </tr>\n",
       "    <tr>\n",
       "      <th>WO_dummy</th>\n",
       "      <td>0.446412</td>\n",
       "      <td>0.553170</td>\n",
       "      <td>1.000000</td>\n",
       "    </tr>\n",
       "    <tr>\n",
       "      <th rowspan=\"3\" valign=\"top\">12</th>\n",
       "      <th>pedestrian_accident</th>\n",
       "      <td>1.000000</td>\n",
       "      <td>0.129167</td>\n",
       "      <td>0.196085</td>\n",
       "    </tr>\n",
       "    <tr>\n",
       "      <th>WO_density</th>\n",
       "      <td>0.129167</td>\n",
       "      <td>1.000000</td>\n",
       "      <td>0.816278</td>\n",
       "    </tr>\n",
       "    <tr>\n",
       "      <th>WO_dummy</th>\n",
       "      <td>0.196085</td>\n",
       "      <td>0.816278</td>\n",
       "      <td>1.000000</td>\n",
       "    </tr>\n",
       "    <tr>\n",
       "      <th rowspan=\"3\" valign=\"top\">2</th>\n",
       "      <th>pedestrian_accident</th>\n",
       "      <td>1.000000</td>\n",
       "      <td>0.212656</td>\n",
       "      <td>0.174593</td>\n",
       "    </tr>\n",
       "    <tr>\n",
       "      <th>WO_density</th>\n",
       "      <td>0.212656</td>\n",
       "      <td>1.000000</td>\n",
       "      <td>0.872358</td>\n",
       "    </tr>\n",
       "    <tr>\n",
       "      <th>WO_dummy</th>\n",
       "      <td>0.174593</td>\n",
       "      <td>0.872358</td>\n",
       "      <td>1.000000</td>\n",
       "    </tr>\n",
       "    <tr>\n",
       "      <th rowspan=\"3\" valign=\"top\">3</th>\n",
       "      <th>pedestrian_accident</th>\n",
       "      <td>1.000000</td>\n",
       "      <td>0.489679</td>\n",
       "      <td>0.401881</td>\n",
       "    </tr>\n",
       "    <tr>\n",
       "      <th>WO_density</th>\n",
       "      <td>0.489679</td>\n",
       "      <td>1.000000</td>\n",
       "      <td>0.696702</td>\n",
       "    </tr>\n",
       "    <tr>\n",
       "      <th>WO_dummy</th>\n",
       "      <td>0.401881</td>\n",
       "      <td>0.696702</td>\n",
       "      <td>1.000000</td>\n",
       "    </tr>\n",
       "    <tr>\n",
       "      <th rowspan=\"3\" valign=\"top\">4</th>\n",
       "      <th>pedestrian_accident</th>\n",
       "      <td>1.000000</td>\n",
       "      <td>0.190642</td>\n",
       "      <td>0.237120</td>\n",
       "    </tr>\n",
       "    <tr>\n",
       "      <th>WO_density</th>\n",
       "      <td>0.190642</td>\n",
       "      <td>1.000000</td>\n",
       "      <td>0.727240</td>\n",
       "    </tr>\n",
       "    <tr>\n",
       "      <th>WO_dummy</th>\n",
       "      <td>0.237120</td>\n",
       "      <td>0.727240</td>\n",
       "      <td>1.000000</td>\n",
       "    </tr>\n",
       "    <tr>\n",
       "      <th rowspan=\"3\" valign=\"top\">5</th>\n",
       "      <th>pedestrian_accident</th>\n",
       "      <td>1.000000</td>\n",
       "      <td>0.243248</td>\n",
       "      <td>0.283542</td>\n",
       "    </tr>\n",
       "    <tr>\n",
       "      <th>WO_density</th>\n",
       "      <td>0.243248</td>\n",
       "      <td>1.000000</td>\n",
       "      <td>0.789676</td>\n",
       "    </tr>\n",
       "    <tr>\n",
       "      <th>WO_dummy</th>\n",
       "      <td>0.283542</td>\n",
       "      <td>0.789676</td>\n",
       "      <td>1.000000</td>\n",
       "    </tr>\n",
       "    <tr>\n",
       "      <th rowspan=\"3\" valign=\"top\">6</th>\n",
       "      <th>pedestrian_accident</th>\n",
       "      <td>1.000000</td>\n",
       "      <td>0.234161</td>\n",
       "      <td>0.195769</td>\n",
       "    </tr>\n",
       "    <tr>\n",
       "      <th>WO_density</th>\n",
       "      <td>0.234161</td>\n",
       "      <td>1.000000</td>\n",
       "      <td>0.615619</td>\n",
       "    </tr>\n",
       "    <tr>\n",
       "      <th>WO_dummy</th>\n",
       "      <td>0.195769</td>\n",
       "      <td>0.615619</td>\n",
       "      <td>1.000000</td>\n",
       "    </tr>\n",
       "    <tr>\n",
       "      <th rowspan=\"3\" valign=\"top\">7</th>\n",
       "      <th>pedestrian_accident</th>\n",
       "      <td>1.000000</td>\n",
       "      <td>0.385104</td>\n",
       "      <td>0.327292</td>\n",
       "    </tr>\n",
       "    <tr>\n",
       "      <th>WO_density</th>\n",
       "      <td>0.385104</td>\n",
       "      <td>1.000000</td>\n",
       "      <td>0.405088</td>\n",
       "    </tr>\n",
       "    <tr>\n",
       "      <th>WO_dummy</th>\n",
       "      <td>0.327292</td>\n",
       "      <td>0.405088</td>\n",
       "      <td>1.000000</td>\n",
       "    </tr>\n",
       "    <tr>\n",
       "      <th rowspan=\"3\" valign=\"top\">8</th>\n",
       "      <th>pedestrian_accident</th>\n",
       "      <td>1.000000</td>\n",
       "      <td>0.125188</td>\n",
       "      <td>0.240845</td>\n",
       "    </tr>\n",
       "    <tr>\n",
       "      <th>WO_density</th>\n",
       "      <td>0.125188</td>\n",
       "      <td>1.000000</td>\n",
       "      <td>0.589535</td>\n",
       "    </tr>\n",
       "    <tr>\n",
       "      <th>WO_dummy</th>\n",
       "      <td>0.240845</td>\n",
       "      <td>0.589535</td>\n",
       "      <td>1.000000</td>\n",
       "    </tr>\n",
       "    <tr>\n",
       "      <th rowspan=\"3\" valign=\"top\">9</th>\n",
       "      <th>pedestrian_accident</th>\n",
       "      <td>NaN</td>\n",
       "      <td>NaN</td>\n",
       "      <td>NaN</td>\n",
       "    </tr>\n",
       "    <tr>\n",
       "      <th>WO_density</th>\n",
       "      <td>NaN</td>\n",
       "      <td>1.000000</td>\n",
       "      <td>1.000000</td>\n",
       "    </tr>\n",
       "    <tr>\n",
       "      <th>WO_dummy</th>\n",
       "      <td>NaN</td>\n",
       "      <td>1.000000</td>\n",
       "      <td>1.000000</td>\n",
       "    </tr>\n",
       "  </tbody>\n",
       "</table>\n",
       "</div>"
      ],
      "text/plain": [
       "                               pedestrian_accident  WO_density  WO_dummy\n",
       "DIST_left                                                               \n",
       "1         pedestrian_accident             1.000000    0.209930  0.193861\n",
       "          WO_density                      0.209930    1.000000  0.781458\n",
       "          WO_dummy                        0.193861    0.781458  1.000000\n",
       "10        pedestrian_accident             1.000000    0.403208  0.313794\n",
       "          WO_density                      0.403208    1.000000  0.779760\n",
       "          WO_dummy                        0.313794    0.779760  1.000000\n",
       "11        pedestrian_accident             1.000000    0.511026  0.446412\n",
       "          WO_density                      0.511026    1.000000  0.553170\n",
       "          WO_dummy                        0.446412    0.553170  1.000000\n",
       "12        pedestrian_accident             1.000000    0.129167  0.196085\n",
       "          WO_density                      0.129167    1.000000  0.816278\n",
       "          WO_dummy                        0.196085    0.816278  1.000000\n",
       "2         pedestrian_accident             1.000000    0.212656  0.174593\n",
       "          WO_density                      0.212656    1.000000  0.872358\n",
       "          WO_dummy                        0.174593    0.872358  1.000000\n",
       "3         pedestrian_accident             1.000000    0.489679  0.401881\n",
       "          WO_density                      0.489679    1.000000  0.696702\n",
       "          WO_dummy                        0.401881    0.696702  1.000000\n",
       "4         pedestrian_accident             1.000000    0.190642  0.237120\n",
       "          WO_density                      0.190642    1.000000  0.727240\n",
       "          WO_dummy                        0.237120    0.727240  1.000000\n",
       "5         pedestrian_accident             1.000000    0.243248  0.283542\n",
       "          WO_density                      0.243248    1.000000  0.789676\n",
       "          WO_dummy                        0.283542    0.789676  1.000000\n",
       "6         pedestrian_accident             1.000000    0.234161  0.195769\n",
       "          WO_density                      0.234161    1.000000  0.615619\n",
       "          WO_dummy                        0.195769    0.615619  1.000000\n",
       "7         pedestrian_accident             1.000000    0.385104  0.327292\n",
       "          WO_density                      0.385104    1.000000  0.405088\n",
       "          WO_dummy                        0.327292    0.405088  1.000000\n",
       "8         pedestrian_accident             1.000000    0.125188  0.240845\n",
       "          WO_density                      0.125188    1.000000  0.589535\n",
       "          WO_dummy                        0.240845    0.589535  1.000000\n",
       "9         pedestrian_accident                  NaN         NaN       NaN\n",
       "          WO_density                           NaN    1.000000  1.000000\n",
       "          WO_dummy                             NaN    1.000000  1.000000"
      ]
     },
     "execution_count": 13,
     "metadata": {},
     "output_type": "execute_result"
    }
   ],
   "source": [
    "crashes_encampments_gdf.groupby('DIST_left')[['pedestrian_accident','WO_density','WO_dummy']].corr()"
   ]
  },
  {
   "cell_type": "code",
   "execution_count": 14,
   "id": "3edd5cd1-c14d-480a-a813-07dec86824be",
   "metadata": {},
   "outputs": [],
   "source": [
    "#crashes_encampments_gdf_dummies = pd.get_dummies(crashes_encampments_gdf, columns=['DIST_left'], drop_first=False)\n",
    "\n",
    "#crashes_encampments_gdf_dummies.info()"
   ]
  },
  {
   "cell_type": "code",
   "execution_count": 15,
   "id": "25684d2f-78a3-413e-8f49-95b6f2998d7b",
   "metadata": {},
   "outputs": [],
   "source": [
    "# try simple regression\n",
    "import statsmodels.api as sm\n",
    "\n",
    "def reg_wo_crashes(yvar, xvar):\n",
    "    y = crashes_encampments_gdf[yvar]\n",
    "    X = crashes_encampments_gdf[xvar]\n",
    "    X = sm.add_constant(X)\n",
    "    model = sm.GLM(y, X, family=sm.families.Poisson())\n",
    "    result = model.fit()\n",
    "    print(result.summary())\n",
    "    \n",
    "    return result"
   ]
  },
  {
   "cell_type": "code",
   "execution_count": 16,
   "id": "28372c8a-1d74-4b69-9803-9d65fddac84f",
   "metadata": {},
   "outputs": [
    {
     "name": "stdout",
     "output_type": "stream",
     "text": [
      "                  Generalized Linear Model Regression Results                  \n",
      "===============================================================================\n",
      "Dep. Variable:     pedestrian_accident   No. Observations:                 8972\n",
      "Model:                             GLM   Df Residuals:                     8970\n",
      "Model Family:                  Poisson   Df Model:                            1\n",
      "Link Function:                     Log   Scale:                          1.0000\n",
      "Method:                           IRLS   Log-Likelihood:                -5342.4\n",
      "Date:                 Wed, 12 Apr 2023   Deviance:                       7345.4\n",
      "Time:                         16:05:16   Pearson chi2:                 1.39e+04\n",
      "No. Iterations:                      6   Pseudo R-squ. (CS):             0.1456\n",
      "Covariance Type:             nonrobust                                         \n",
      "==============================================================================\n",
      "                 coef    std err          z      P>|z|      [0.025      0.975]\n",
      "------------------------------------------------------------------------------\n",
      "const         -1.9821      0.032    -62.459      0.000      -2.044      -1.920\n",
      "WO_dummy       1.6339      0.043     38.408      0.000       1.550       1.717\n",
      "==============================================================================\n"
     ]
    },
    {
     "data": {
      "text/plain": [
       "<statsmodels.genmod.generalized_linear_model.GLMResultsWrapper at 0x7efc31aefdc0>"
      ]
     },
     "execution_count": 16,
     "metadata": {},
     "output_type": "execute_result"
    }
   ],
   "source": [
    "reg_wo_crashes('pedestrian_accident', 'WO_dummy')"
   ]
  },
  {
   "cell_type": "code",
   "execution_count": 17,
   "id": "867554a2-d196-4d5d-aaa3-e4e4a54ff05c",
   "metadata": {},
   "outputs": [
    {
     "data": {
      "text/plain": [
       "5.123818695414947"
      ]
     },
     "execution_count": 17,
     "metadata": {},
     "output_type": "execute_result"
    }
   ],
   "source": [
    "# interpret the dummy variable coefficient\n",
    "import math\n",
    "math.exp(1.6339)"
   ]
  },
  {
   "cell_type": "markdown",
   "id": "2471ef62-31cd-4c10-9fd7-7fb1d99dc13c",
   "metadata": {},
   "source": [
    "A bridge associated with an encampment has 5x more pedestrian crashes than a bridge without. "
   ]
  },
  {
   "cell_type": "code",
   "execution_count": 18,
   "id": "6d8a0d24-41f9-46b1-b808-607ba416a20a",
   "metadata": {},
   "outputs": [
    {
     "name": "stdout",
     "output_type": "stream",
     "text": [
      "                  Generalized Linear Model Regression Results                  \n",
      "===============================================================================\n",
      "Dep. Variable:     pedestrian_accident   No. Observations:                 8972\n",
      "Model:                             GLM   Df Residuals:                     8970\n",
      "Model Family:                  Poisson   Df Model:                            1\n",
      "Link Function:                     Log   Scale:                          1.0000\n",
      "Method:                           IRLS   Log-Likelihood:                -5750.1\n",
      "Date:                 Wed, 12 Apr 2023   Deviance:                       8160.7\n",
      "Time:                         16:05:16   Pearson chi2:                 1.49e+04\n",
      "No. Iterations:                      7   Pseudo R-squ. (CS):            0.06430\n",
      "Covariance Type:             nonrobust                                         \n",
      "==============================================================================\n",
      "                 coef    std err          z      P>|z|      [0.025      0.975]\n",
      "------------------------------------------------------------------------------\n",
      "const         -1.4958      0.022    -67.348      0.000      -1.539      -1.452\n",
      "WO_density  6957.4073    197.283     35.266      0.000    6570.739    7344.075\n",
      "==============================================================================\n"
     ]
    },
    {
     "data": {
      "text/plain": [
       "<statsmodels.genmod.generalized_linear_model.GLMResultsWrapper at 0x7efc319e03d0>"
      ]
     },
     "execution_count": 18,
     "metadata": {},
     "output_type": "execute_result"
    }
   ],
   "source": [
    "reg_wo_crashes('pedestrian_accident', 'WO_density')"
   ]
  },
  {
   "cell_type": "code",
   "execution_count": 19,
   "id": "872682df-a763-4ead-943f-dd18c8e2d165",
   "metadata": {},
   "outputs": [
    {
     "name": "stderr",
     "output_type": "stream",
     "text": [
      "/opt/conda/lib/python3.9/site-packages/pandas/core/arraylike.py:402: RuntimeWarning: divide by zero encountered in log\n"
     ]
    }
   ],
   "source": [
    "# take log of pedestrian accident\n",
    "import numpy as np\n",
    "\n",
    "crashes_encampments_gdf['ped_accident_log'] = (np.log(crashes_encampments_gdf['pedestrian_accident'])).replace(np.NINF, 0) "
   ]
  },
  {
   "cell_type": "code",
   "execution_count": 25,
   "id": "795b6074-be01-4228-966b-2a0c9fdb9f4b",
   "metadata": {},
   "outputs": [
    {
     "name": "stdout",
     "output_type": "stream",
     "text": [
      "            Mixed Linear Model Regression Results\n",
      "==============================================================\n",
      "Model:            MixedLM Dependent Variable: ped_accident_log\n",
      "No. Observations: 8972    Method:             REML            \n",
      "No. Groups:       12      Scale:              0.0416          \n",
      "Min. group size:  122     Log-Likelihood:     1509.1512       \n",
      "Max. group size:  1659    Converged:          Yes             \n",
      "Mean group size:  747.7                                       \n",
      "----------------------------------------------------------------\n",
      "             Coef.   Std.Err.     z      P>|z|   [0.025   0.975]\n",
      "----------------------------------------------------------------\n",
      "Intercept    0.012      0.007    1.598   0.110   -0.003    0.026\n",
      "WO_dummy     0.134      0.006   24.013   0.000    0.123    0.144\n",
      "Group Var    0.001      0.001                                   \n",
      "==============================================================\n",
      "\n"
     ]
    },
    {
     "name": "stderr",
     "output_type": "stream",
     "text": [
      "/opt/conda/lib/python3.9/site-packages/statsmodels/regression/mixed_linear_model.py:2237: ConvergenceWarning: The MLE may be on the boundary of the parameter space.\n"
     ]
    }
   ],
   "source": [
    "# try adding district (mixed-effect model, variable effect for district)\n",
    "import statsmodels.formula.api as smf\n",
    "\n",
    "model = smf.mixedlm(formula='ped_accident_log ~ WO_dummy', data=crashes_encampments_gdf, groups = crashes_encampments_gdf[\"DIST_left\"], missing='drop')\n",
    "result = model.fit()\n",
    "print(result.summary())"
   ]
  },
  {
   "cell_type": "code",
   "execution_count": 26,
   "id": "d0030ce3-e5c9-47d6-b42f-178f7fae03a5",
   "metadata": {},
   "outputs": [
    {
     "data": {
      "text/plain": [
       "1.143392819644647"
      ]
     },
     "execution_count": 26,
     "metadata": {},
     "output_type": "execute_result"
    }
   ],
   "source": [
    "math.exp(0.134)"
   ]
  },
  {
   "cell_type": "markdown",
   "id": "d3bbee25-bafb-4dac-a19d-19736f7aa95a",
   "metadata": {},
   "source": [
    "After controlling for district, A bridge associated with an encampment has 1.14x more pedestrian crashes than a bridge without."
   ]
  },
  {
   "cell_type": "code",
   "execution_count": 23,
   "id": "226fc3ab-dbbf-4db8-b81a-1a0fc99013bb",
   "metadata": {},
   "outputs": [],
   "source": [
    "# export geojson for ArcGIS Pro\n",
    "shared_utils.utils.geojson_gcs_export(crashes_encampments_gdf.drop(\"geometry_y\", axis=1), GCS_FILE_PATH, \"analytical_file_joined\")  "
   ]
  },
  {
   "cell_type": "code",
   "execution_count": null,
   "id": "fc761a20-10b0-450d-8183-bb921d630d7d",
   "metadata": {},
   "outputs": [],
   "source": []
  }
 ],
 "metadata": {
  "kernelspec": {
   "display_name": "Python 3 (ipykernel)",
   "language": "python",
   "name": "python3"
  },
  "language_info": {
   "codemirror_mode": {
    "name": "ipython",
    "version": 3
   },
   "file_extension": ".py",
   "mimetype": "text/x-python",
   "name": "python",
   "nbconvert_exporter": "python",
   "pygments_lexer": "ipython3",
   "version": "3.9.13"
  }
 },
 "nbformat": 4,
 "nbformat_minor": 5
}
