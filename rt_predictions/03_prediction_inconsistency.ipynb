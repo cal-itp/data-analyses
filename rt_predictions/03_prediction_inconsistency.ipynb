{
 "cells": [
  {
   "cell_type": "markdown",
   "id": "d137d5f0-f695-4a3d-ae3f-6567e3908b5d",
   "metadata": {},
   "source": [
    "# Metric 3: Prediction Inconsistency\n",
    "\n",
    "The \"jitter\" boils down to the slope of the predictions for a stop for the entire prediction duration until you reach that stop.\n",
    "\n",
    "## Rabbit Hole \n",
    "* If we drop predictions from before the `trip_start_time`, we can lose a large fraction of it.\n",
    "* Basically, some trips are not updating predicted arrival too much, and since these predictions are occurring from way far back in time, we'd be penalizing the predictions simply because time is ticking from 20 min before trip starts, to 19 min before, 18 min before, and the prediction for arrival at this stop is not changing.\n",
    "   * maybe we consider handling first stop differently, or excluding completely\n",
    "   * but for subsequent stops, especially for ones in the middle of a trip, their predictions are unlikely to change until the trip starts. should we be penalizing them because the clock is ticking down even before trip start, but the prediction isn't changing (bc the bus isn't moving)?\n",
    "   * Right now, we are excluding to predictions after the `trip_start_time` \n",
    "* Implementation now, which skips calculating it each stop-min, but just sums up the `abs(actual_change (minutes) - expected_change (minutes))` for each stop, is still going to be computationally intensive because of the groupby-shifts.\n",
    "\n",
    "Summary Levels\n",
    "* Cumulatively across an entire route, or\n",
    "* Rolling average\n",
    "* Route by stops"
   ]
  },
  {
   "cell_type": "code",
   "execution_count": 1,
   "id": "7dc3b984-3b94-4e16-948a-4e40673179c1",
   "metadata": {},
   "outputs": [
    {
     "name": "stderr",
     "output_type": "stream",
     "text": [
      "/opt/conda/lib/python3.9/site-packages/geopandas/_compat.py:123: UserWarning: The Shapely GEOS version (3.11.1-CAPI-1.17.1) is incompatible with the GEOS version PyGEOS was compiled with (3.10.1-CAPI-1.16.0). Conversions between both will be slow.\n",
      "  warnings.warn(\n",
      "/opt/conda/lib/python3.9/site-packages/dask_geopandas/backends.py:13: UserWarning: Shapely 2.0 is installed, but because PyGEOS is also installed, GeoPandas will still use PyGEOS by default for now. To force to use and test Shapely 2.0, you have to set the environment variable USE_PYGEOS=0. You can do this before starting the Python process, or in your code before importing geopandas:\n",
      "\n",
      "import os\n",
      "os.environ['USE_PYGEOS'] = '0'\n",
      "import geopandas\n",
      "\n",
      "In a future release, GeoPandas will switch to using Shapely by default. If you are using PyGEOS directly (calling PyGEOS functions on geometries from GeoPandas), this will then stop working and you are encouraged to migrate from PyGEOS to Shapely 2.0 (https://shapely.readthedocs.io/en/latest/migration_pygeos.html).\n",
      "  import geopandas\n"
     ]
    }
   ],
   "source": [
    "import pandas as pd\n",
    "\n",
    "import utils\n",
    "from segment_speed_utils.project_vars import (PREDICTIONS_GCS, \n",
    "                                              analysis_date)"
   ]
  },
  {
   "cell_type": "code",
   "execution_count": 2,
   "id": "f65211aa-5ffa-4e4d-b4f4-25e66cefad64",
   "metadata": {},
   "outputs": [
    {
     "data": {
      "text/plain": [
       "array(['Anaheim Resort TripUpdates',\n",
       "       'Bay Area 511 Dumbarton Express TripUpdates',\n",
       "       'Bay Area 511 Fairfield and Suisun Transit TripUpdates'],\n",
       "      dtype=object)"
      ]
     },
     "execution_count": 2,
     "metadata": {},
     "output_type": "execute_result"
    }
   ],
   "source": [
    "df = pd.read_parquet(\n",
    "    f\"{PREDICTIONS_GCS}rt_sched_stop_times_{analysis_date}.parquet\", \n",
    ")\n",
    "df._gtfs_dataset_name.unique()"
   ]
  },
  {
   "cell_type": "code",
   "execution_count": null,
   "id": "12c94ffa-8808-4f48-8fee-2494a50bf45d",
   "metadata": {},
   "outputs": [],
   "source": []
  },
  {
   "cell_type": "code",
   "execution_count": 3,
   "id": "5781507b-3757-4b2a-ad71-8b894be30b35",
   "metadata": {},
   "outputs": [],
   "source": [
    "df2 = utils.exclude_predictions_after_actual_stop_arrival(\n",
    "    df, \"_extract_ts_local\")\n",
    "df3 = utils.exclude_predictions_before_trip_start_time(df2)"
   ]
  },
  {
   "cell_type": "code",
   "execution_count": 4,
   "id": "372a9dfc-185f-48bb-af41-d0cd781c9328",
   "metadata": {},
   "outputs": [
    {
     "name": "stdout",
     "output_type": "stream",
     "text": [
      "rows to begin: 1358328\n",
      "rows post drop predictions after actual stop arrival: 1189614\n",
      "rows post drop predictions before trip start time: 506694\n"
     ]
    }
   ],
   "source": [
    "print(f\"rows to begin: {len(df)}\")\n",
    "print(f\"rows post drop predictions after actual stop arrival: {len(df2)}\")\n",
    "print(f\"rows post drop predictions before trip start time: {len(df3)}\")"
   ]
  },
  {
   "cell_type": "code",
   "execution_count": 5,
   "id": "40c152eb-f816-448e-a439-23ca57169688",
   "metadata": {},
   "outputs": [],
   "source": [
    "def add_minutes_from_trip_start_and_aggregate_to_minute(\n",
    "    df: pd.DataFrame,\n",
    "    stop_cols: list,\n",
    "    timestamp_col: str = \"_extract_ts_local\"\n",
    ") -> pd.DataFrame:\n",
    "    \"\"\"\n",
    "    Calculate the number of minutes from trip start, may not\n",
    "    need to calculate minutes until arrival.\n",
    "    Aggregate individual predictions (the 3 per minute) to just 1 prediction.\n",
    "    \n",
    "    Future TODO: confirm taking the minimum will yield the max difference?\n",
    "    Mean is out, since this is datetime. Maybe max?\n",
    "    \"\"\"\n",
    "    df2 = df.assign(\n",
    "        # implicit in this set up is that we need to \n",
    "        # back out minutes until actual stop arrival...this is what each row is\n",
    "        #min_until_arrival = (\n",
    "        #    (df.actual_stop_arrival_pacific - df[timestamp_col])\n",
    "        #    .dt.total_seconds().divide(60).round(0)\n",
    "        #),\n",
    "        min_since_start = (\n",
    "            (df[timestamp_col] - df.trip_start_time)\n",
    "            .dt.total_seconds().divide(60).round(0)\n",
    "        ),\n",
    "    )\n",
    "    \n",
    "    df3 = (df2.groupby(stop_cols + [\"min_since_start\"])\n",
    "           .agg({\"predicted_pacific\": \"min\"})\n",
    "           # we'll use min, but either min or max should yield\n",
    "           # the most absolute_value(difference)\n",
    "           .reset_index()\n",
    "          )\n",
    "    \n",
    "    return df3"
   ]
  },
  {
   "cell_type": "code",
   "execution_count": 6,
   "id": "3a796c09-6cab-47ec-9521-57230901604b",
   "metadata": {},
   "outputs": [],
   "source": [
    "def calculate_expected_and_actual_change(\n",
    "    df: pd.DataFrame,\n",
    "    stop_cols: list\n",
    ") -> pd.DataFrame:\n",
    "    \"\"\"\n",
    "    Within a stop-minute, look to the previous row and \n",
    "    get the prediction and also the minute since trip started.\n",
    "    Use this to get the deltas for slope calculation.\n",
    "    \"\"\"\n",
    "    df2 = df.assign(\n",
    "        prior_predicted = (df.sort_values(stop_cols)\n",
    "                           .groupby(stop_cols, group_keys=False)\n",
    "                           [\"predicted_pacific\"]\n",
    "                           .apply(lambda x: x.shift(1))\n",
    "                          )\n",
    "    )\n",
    "    \n",
    "    df2 = df2.assign(\n",
    "        expected_change_min = (df2.sort_values(stop_cols + [\"min_since_start\"])\n",
    "                               .groupby(stop_cols, group_keys=False)\n",
    "                               .min_since_start\n",
    "                               .apply(lambda x: x.shift(1) - x)\n",
    "                              ),\n",
    "        actual_change_min = ((df2.prior_predicted - df2.predicted_pacific)\n",
    "                             .dt.total_seconds().divide(60)\n",
    "                            )\n",
    "    )\n",
    "    \n",
    "    df2 = df2.assign(\n",
    "        actual_minus_expected_change = abs(df2.actual_change_min - \n",
    "                                           df2.expected_change_min)\n",
    "    )\n",
    "    \n",
    "    return df2"
   ]
  },
  {
   "cell_type": "code",
   "execution_count": 7,
   "id": "ea172e8b-663b-4097-966f-b24c5a367605",
   "metadata": {},
   "outputs": [],
   "source": [
    "def aggregate_by_stop(\n",
    "    df: pd.DataFrame, \n",
    "    stop_cols: list\n",
    ") -> pd.DataFrame:\n",
    "    \"\"\"\n",
    "    Don't need to calculate cumulative within each stop-min.\n",
    "    Just take the sum across the whole stop and calculate\n",
    "    the sum(actual_minus_expected_change) / prediction_duration.\n",
    "    \"\"\"\n",
    "    df2 = (df.groupby(stop_cols)\n",
    "           .agg({\n",
    "               \"actual_minus_expected_change\": \"sum\",\n",
    "               \"min_since_start\": \"size\"})\n",
    "           .reset_index()\n",
    "           .rename(columns = {\n",
    "               \"actual_minus_expected_change\": \"total_inconsistency\",\n",
    "               \"min_since_start\": \"prediction_duration\"\n",
    "           })\n",
    "          )\n",
    "    \n",
    "    df2 = df2.assign(\n",
    "        prediction_inconsistency = df2.total_inconsistency.divide(\n",
    "            df2.prediction_duration)\n",
    "    )\n",
    "    \n",
    "    return df2"
   ]
  },
  {
   "cell_type": "code",
   "execution_count": 8,
   "id": "d5be44bf-5583-4f37-abd0-01cd4f854c7d",
   "metadata": {},
   "outputs": [],
   "source": [
    "def prediction_inconsistency_metric(df: pd.DataFrame) -> pd.DataFrame: \n",
    "    \"\"\"\n",
    "    Start with assembled RT stop_time_updates with \n",
    "    scheduled stop_times and also final_trip_updates columns.\n",
    "    \n",
    "    For a given stop, back out the number of minutes since \n",
    "    the trip start. \n",
    "    For each minute, keep the min(prediction).\n",
    "    For each minute, calculate the expected change and \n",
    "    actual change in prediction, in minutes.\n",
    "    Sum it up for a stop across all the minutes.\n",
    "    \"\"\"\n",
    "    timestamp_col = \"_extract_ts_local\"\n",
    "    \n",
    "    all_stop_cols = [\n",
    "        \"gtfs_dataset_key\", \"_gtfs_dataset_name\", \n",
    "        \"service_date\", \n",
    "        \"shape_id\", \"route_id\",\n",
    "        \"trip_id\", \n",
    "        \"stop_id\", \"stop_sequence\",\n",
    "        \"scheduled_arrival\", \"actual_stop_arrival_pacific\", \n",
    "    ]\n",
    "    \n",
    "    df2 = utils.exclude_predictions_after_actual_stop_arrival(\n",
    "        df, timestamp_col)\n",
    "    \n",
    "    df3 = utils.exclude_predictions_before_trip_start_time(df2)\n",
    "    \n",
    "    df4 = add_minutes_from_trip_start_and_aggregate_to_minute(\n",
    "        df3, all_stop_cols, timestamp_col)\n",
    "    \n",
    "    df5 = calculate_expected_and_actual_change(\n",
    "        df4, \n",
    "        all_stop_cols\n",
    "    )\n",
    "    \n",
    "    df6 = aggregate_by_stop(df5, all_stop_cols)\n",
    "    \n",
    "    return df6"
   ]
  },
  {
   "cell_type": "code",
   "execution_count": 9,
   "id": "6a52c10f-f849-4184-b45d-8ee8e6b97ba3",
   "metadata": {},
   "outputs": [],
   "source": [
    "by_trip_stop = prediction_inconsistency_metric(df)"
   ]
  },
  {
   "cell_type": "code",
   "execution_count": 10,
   "id": "09625629-5111-4b2d-874a-683b853bc4b2",
   "metadata": {},
   "outputs": [
    {
     "data": {
      "text/plain": [
       "count    4393.000000\n",
       "mean        1.119749\n",
       "std         1.090634\n",
       "min         0.000000\n",
       "25%         0.775000\n",
       "50%         0.923563\n",
       "75%         1.147163\n",
       "max        17.260784\n",
       "Name: prediction_inconsistency, dtype: float64"
      ]
     },
     "execution_count": 10,
     "metadata": {},
     "output_type": "execute_result"
    }
   ],
   "source": [
    "by_trip_stop.prediction_inconsistency.describe()"
   ]
  },
  {
   "cell_type": "code",
   "execution_count": 11,
   "id": "82195987-d198-41d9-97f9-cc00c5f45941",
   "metadata": {},
   "outputs": [],
   "source": [
    "def quick_descriptives(df: pd.DataFrame, \n",
    "                       operator: str,\n",
    "                       cols_to_describe: list):\n",
    "    print(f\"------------- {operator}-------------\")\n",
    "    subset_df = df[df._gtfs_dataset_name==operator] \n",
    "    \n",
    "    for c in cols_to_describe:\n",
    "        print(subset_df[c].describe())\n",
    "        print(\"\\n\")"
   ]
  },
  {
   "cell_type": "code",
   "execution_count": 12,
   "id": "7b98f108-d90a-42e8-ba31-e6b3f20100f2",
   "metadata": {},
   "outputs": [
    {
     "name": "stdout",
     "output_type": "stream",
     "text": [
      "------------- Anaheim Resort TripUpdates-------------\n",
      "count    1734.000000\n",
      "mean       26.825048\n",
      "std        67.870180\n",
      "min         0.000000\n",
      "25%         8.358333\n",
      "50%        14.375000\n",
      "75%        30.341667\n",
      "max      1467.166667\n",
      "Name: total_inconsistency, dtype: float64\n",
      "\n",
      "\n",
      "count    1734.000000\n",
      "mean       18.810265\n",
      "std        18.486729\n",
      "min         1.000000\n",
      "25%         8.000000\n",
      "50%        13.000000\n",
      "75%        25.000000\n",
      "max       167.000000\n",
      "Name: prediction_duration, dtype: float64\n",
      "\n",
      "\n",
      "count    1734.000000\n",
      "mean        1.299016\n",
      "std         1.458940\n",
      "min         0.000000\n",
      "25%         0.826771\n",
      "50%         1.047096\n",
      "75%         1.280556\n",
      "max        17.260784\n",
      "Name: prediction_inconsistency, dtype: float64\n",
      "\n",
      "\n",
      "------------- Bay Area 511 Dumbarton Express TripUpdates-------------\n",
      "count    1375.000000\n",
      "mean       43.697939\n",
      "std        30.265312\n",
      "min         0.000000\n",
      "25%        20.366667\n",
      "50%        39.650000\n",
      "75%        63.941667\n",
      "max       140.000000\n",
      "Name: total_inconsistency, dtype: float64\n",
      "\n",
      "\n",
      "count    1375.000000\n",
      "mean       37.587636\n",
      "std        22.469342\n",
      "min         1.000000\n",
      "25%        20.000000\n",
      "50%        37.000000\n",
      "75%        49.000000\n",
      "max       103.000000\n",
      "Name: prediction_duration, dtype: float64\n",
      "\n",
      "\n",
      "count    1375.000000\n",
      "mean        1.204090\n",
      "std         0.952171\n",
      "min         0.000000\n",
      "25%         0.769045\n",
      "50%         0.934091\n",
      "75%         1.275741\n",
      "max         8.983333\n",
      "Name: prediction_inconsistency, dtype: float64\n",
      "\n",
      "\n",
      "------------- Bay Area 511 Fairfield and Suisun Transit TripUpdates-------------\n",
      "count    1284.000000\n",
      "mean       14.456231\n",
      "std         9.508234\n",
      "min         0.000000\n",
      "25%         6.695833\n",
      "50%        14.350000\n",
      "75%        21.925000\n",
      "max        54.416667\n",
      "Name: total_inconsistency, dtype: float64\n",
      "\n",
      "\n",
      "count    1284.000000\n",
      "mean       16.529595\n",
      "std        10.132169\n",
      "min         1.000000\n",
      "25%         8.000000\n",
      "50%        16.000000\n",
      "75%        25.000000\n",
      "max        54.000000\n",
      "Name: prediction_duration, dtype: float64\n",
      "\n",
      "\n",
      "count    1284.000000\n",
      "mean        0.787336\n",
      "std         0.253438\n",
      "min         0.000000\n",
      "25%         0.754125\n",
      "50%         0.855619\n",
      "75%         0.931796\n",
      "max         1.393939\n",
      "Name: prediction_inconsistency, dtype: float64\n",
      "\n",
      "\n"
     ]
    }
   ],
   "source": [
    "cols = [\n",
    "    \"total_inconsistency\", \n",
    "    \"prediction_duration\",\n",
    "    \"prediction_inconsistency\"]\n",
    "\n",
    "for i in by_trip_stop._gtfs_dataset_name.unique():\n",
    "    quick_descriptives(by_trip_stop, i, cols)\n"
   ]
  },
  {
   "cell_type": "code",
   "execution_count": null,
   "id": "fab3008d-b4e0-4494-9b83-8bd2938d3de9",
   "metadata": {},
   "outputs": [],
   "source": []
  },
  {
   "cell_type": "markdown",
   "id": "012e9bba-3f02-46bd-96d4-54f21d77504c",
   "metadata": {},
   "source": [
    "### Pick out an example where we stop asking before the actual arrival."
   ]
  },
  {
   "cell_type": "code",
   "execution_count": 13,
   "id": "13118512-1639-4656-a246-61fd843b2362",
   "metadata": {},
   "outputs": [],
   "source": [
    "def compare_predictions_to_extract_to_actual(\n",
    "    df, one_trip, one_stop\n",
    "):\n",
    "    subset = df[(df.trip_id==one_trip) & \n",
    "                (df.stop_sequence==one_stop)]\n",
    "    \n",
    "    print(f\"Predictions for trip_id: {one_trip}, stop_sequence: {one_stop}\")\n",
    "    print(subset.predicted_pacific.value_counts())\n",
    "    \n",
    "    print(\"Actual stop arrival\")\n",
    "    print(subset.actual_stop_arrival_pacific.iloc[0])\n",
    "    \n",
    "    print(\"Last time we ask for predictions\")\n",
    "    print(subset._extract_ts_local.max())"
   ]
  },
  {
   "cell_type": "code",
   "execution_count": 14,
   "id": "b36b4efc-56c3-414d-805b-7a81dda0300e",
   "metadata": {},
   "outputs": [
    {
     "name": "stdout",
     "output_type": "stream",
     "text": [
      "Predictions for trip_id: 9383970, stop_sequence: 7\n",
      "2023-03-15 09:10:07    30\n",
      "2023-03-15 09:07:32     4\n",
      "2023-03-15 09:46:59     3\n",
      "2023-03-15 09:51:35     2\n",
      "2023-03-15 09:46:50     1\n",
      "2023-03-15 09:44:38     1\n",
      "2023-03-15 09:44:07     1\n",
      "2023-03-15 09:44:32     1\n",
      "2023-03-15 09:50:52     1\n",
      "2023-03-15 09:00:24     1\n",
      "2023-03-15 09:51:11     1\n",
      "Name: predicted_pacific, dtype: int64\n",
      "Actual stop arrival\n",
      "2023-03-15 09:51:35\n",
      "Last time we ask for predictions\n",
      "2023-03-15 08:11:00\n"
     ]
    }
   ],
   "source": [
    "one_trip = df[df._gtfs_dataset_name.str.contains(\"Dumbarton\")].trip_id.unique()[10]\n",
    "one_stop = 7\n",
    "compare_predictions_to_extract_to_actual(df, one_trip, one_stop)"
   ]
  },
  {
   "cell_type": "code",
   "execution_count": 15,
   "id": "c5edecdc-982b-46e8-bfdf-286e5e2b4fb4",
   "metadata": {},
   "outputs": [],
   "source": [
    "stop_times = pd.read_parquet(\n",
    "    f\"{PREDICTIONS_GCS}stop_time_updates_{analysis_date}.parquet\",\n",
    "    filters = [[(\"trip_id\", \"==\", one_trip), \n",
    "                (\"stop_sequence\", \"==\", one_stop)]]\n",
    ")"
   ]
  },
  {
   "cell_type": "code",
   "execution_count": 16,
   "id": "cbf94a62-27d3-4192-9023-bf1c6a91eb63",
   "metadata": {},
   "outputs": [
    {
     "data": {
      "text/plain": [
       "Timestamp('2023-03-15 08:11:00')"
      ]
     },
     "execution_count": 16,
     "metadata": {},
     "output_type": "execute_result"
    }
   ],
   "source": [
    "stop_times._extract_ts_local.max()"
   ]
  },
  {
   "cell_type": "code",
   "execution_count": 17,
   "id": "8ea668ee-558d-47d2-8934-348c9011a23c",
   "metadata": {},
   "outputs": [
    {
     "data": {
      "text/plain": [
       "Timestamp('2023-03-15 09:51:35')"
      ]
     },
     "execution_count": 17,
     "metadata": {},
     "output_type": "execute_result"
    }
   ],
   "source": [
    "stop_times.arrival_time_pacific.max()"
   ]
  },
  {
   "cell_type": "code",
   "execution_count": null,
   "id": "e0bbcf2e-1313-43d2-90aa-f90daf2a0acb",
   "metadata": {},
   "outputs": [],
   "source": []
  }
 ],
 "metadata": {
  "kernelspec": {
   "display_name": "Python 3 (ipykernel)",
   "language": "python",
   "name": "python3"
  },
  "language_info": {
   "codemirror_mode": {
    "name": "ipython",
    "version": 3
   },
   "file_extension": ".py",
   "mimetype": "text/x-python",
   "name": "python",
   "nbconvert_exporter": "python",
   "pygments_lexer": "ipython3",
   "version": "3.9.13"
  }
 },
 "nbformat": 4,
 "nbformat_minor": 5
}
