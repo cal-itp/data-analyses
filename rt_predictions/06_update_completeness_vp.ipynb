{
 "cells": [
  {
   "cell_type": "markdown",
   "id": "6bf54534-7eb0-4c98-b202-03cedeea5923",
   "metadata": {},
   "source": [
    "# Metric 1: Vehicle Positions Update Completeness\n",
    "\n",
    "### Rabbit Hole"
   ]
  },
  {
   "cell_type": "code",
   "execution_count": 1,
   "id": "0f69b0e8-b173-40e2-8aa6-9b7dfb88b7a8",
   "metadata": {},
   "outputs": [
    {
     "name": "stderr",
     "output_type": "stream",
     "text": [
      "/opt/conda/lib/python3.9/site-packages/geopandas/_compat.py:123: UserWarning: The Shapely GEOS version (3.11.1-CAPI-1.17.1) is incompatible with the GEOS version PyGEOS was compiled with (3.10.1-CAPI-1.16.0). Conversions between both will be slow.\n",
      "  warnings.warn(\n",
      "/opt/conda/lib/python3.9/site-packages/dask_geopandas/backends.py:13: UserWarning: Shapely 2.0 is installed, but because PyGEOS is also installed, GeoPandas will still use PyGEOS by default for now. To force to use and test Shapely 2.0, you have to set the environment variable USE_PYGEOS=0. You can do this before starting the Python process, or in your code before importing geopandas:\n",
      "\n",
      "import os\n",
      "os.environ['USE_PYGEOS'] = '0'\n",
      "import geopandas\n",
      "\n",
      "In a future release, GeoPandas will switch to using Shapely by default. If you are using PyGEOS directly (calling PyGEOS functions on geometries from GeoPandas), this will then stop working and you are encouraged to migrate from PyGEOS to Shapely 2.0 (https://shapely.readthedocs.io/en/latest/migration_pygeos.html).\n",
      "  import geopandas\n"
     ]
    }
   ],
   "source": [
    "import dask.dataframe as dd\n",
    "import pandas as pd\n",
    "\n",
    "from dask import delayed, compute\n",
    "\n",
    "import chart_utils\n",
    "import utils\n",
    "from segment_speed_utils import helpers\n",
    "from segment_speed_utils.project_vars import SEGMENT_GCS, PREDICTIONS_GCS\n",
    "                              \n",
    "analysis_date = \"2023-03-15\"\n",
    "CONFIG_PATH = \"../rt_segment_speeds/scripts/config.yml\""
   ]
  },
  {
   "cell_type": "code",
   "execution_count": 2,
   "id": "4a7322d9-8d67-42db-a3bc-66869e0e61dd",
   "metadata": {},
   "outputs": [],
   "source": [
    "import sys\n",
    "sys.path.append('../rt_segment_speeds/scripts/')\n",
    "\n",
    "from A2_valid_vehicle_positions import merge_usable_vp_with_sjoin_vpidx\n",
    "\n",
    "dict_inputs = helpers.get_parameters(CONFIG_PATH, \"stop_segments\")"
   ]
  },
  {
   "cell_type": "markdown",
   "id": "3539ecd9-b949-400a-94d6-a1b1d3b45c32",
   "metadata": {},
   "source": [
    "Use vehicle positions that have been spatially joined to segments. Even though we don't want to use the actual segment, we need to sjoin vp to the shape so we can get rid of the vp that occur while the bus is traveling back to origin."
   ]
  },
  {
   "cell_type": "code",
   "execution_count": 3,
   "id": "946a48bb-c524-4a89-89a9-2b21a7a02092",
   "metadata": {},
   "outputs": [],
   "source": [
    "SJOIN_FILE = f'{dict_inputs[\"stage2\"]}_{analysis_date}'\n",
    "USABLE_FILE = f'{dict_inputs[\"stage1\"]}_{analysis_date}'\n",
    "GROUPING_COL = dict_inputs[\"grouping_col\"]\n",
    "\n",
    "all_shapes = pd.read_parquet(\n",
    "    f\"{SEGMENT_GCS}vp_sjoin/{SJOIN_FILE}\",\n",
    "    columns = [\"shape_array_key\"]\n",
    ").shape_array_key.unique().tolist()[:50]\n",
    "\n",
    "# Use this function to attach the crosswalk of sjoin results\n",
    "# back to usable_vp\n",
    "ddf = delayed(merge_usable_vp_with_sjoin_vpidx)(\n",
    "    all_shapes,\n",
    "    USABLE_FILE,\n",
    "    SJOIN_FILE,\n",
    "    GROUPING_COL,\n",
    "    columns = [\"gtfs_dataset_key\", \"_gtfs_dataset_name\", \n",
    "               \"trip_id\", \"vp_idx\", \"location_timestamp_local\"]\n",
    ")[[\"gtfs_dataset_key\", \"_gtfs_dataset_name\", \n",
    "   \"trip_id\", \"location_timestamp_local\"]]"
   ]
  },
  {
   "cell_type": "markdown",
   "id": "7a2f63f9-659e-4c94-9fa8-ffc450728cdd",
   "metadata": {},
   "source": [
    "### Define Functions for Metrics"
   ]
  },
  {
   "cell_type": "code",
   "execution_count": 4,
   "id": "0e1194d8-3c8a-481a-98f1-d872211f9a2d",
   "metadata": {},
   "outputs": [],
   "source": [
    "def get_trip_duration(\n",
    "    df: pd.DataFrame,\n",
    "    trip_cols: list,\n",
    "    timestamp_col: str\n",
    "):\n",
    "    \"\"\"\n",
    "    Find the number of minutes in for a trip from \n",
    "    vehicle positions table.\n",
    "    \"\"\"\n",
    "    first_vp = (\n",
    "        df.groupby(trip_cols, observed=True, group_keys=False)\n",
    "        [timestamp_col]\n",
    "        .min()\n",
    "        .reset_index()\n",
    "        .rename(columns = {timestamp_col: \"earliest\"})\n",
    "      )\n",
    "    \n",
    "    last_vp = (\n",
    "        df.groupby(trip_cols, observed=True, group_keys=False)\n",
    "        [timestamp_col]\n",
    "        .max()\n",
    "        .reset_index()\n",
    "        .rename(columns = {timestamp_col: \"latest\"})\n",
    "    )\n",
    "    \n",
    "    df2 = first_vp.merge(last_vp, on = trip_cols, how = \"inner\")\n",
    "    \n",
    "    df2 = df2.assign(\n",
    "        trip_min_elapsed = ((df2.latest - df2.earliest)\n",
    "                            .dt.total_seconds()\n",
    "                            .divide(60).round(0)\n",
    "                            )\n",
    "    )\n",
    "    \n",
    "    return df2"
   ]
  },
  {
   "cell_type": "code",
   "execution_count": 5,
   "id": "53634e49-a173-4c86-beee-6dc8dc0fcb1a",
   "metadata": {},
   "outputs": [],
   "source": [
    "def atleast2_updates_by_trip(\n",
    "    df: pd.DataFrame,\n",
    "    trip_cols: list,\n",
    "    timestamp_col: str = \"location_timestamp_local\",\n",
    ") -> pd.DataFrame: \n",
    "    \"\"\"\n",
    "    For every trip-minute combination,\n",
    "    count the number of unique location_timestamp_local.\n",
    "    (Checked that this is 3 max).\n",
    "    If that minute has at least 2, flag that as passing.\n",
    "    \"\"\"\n",
    "    df = utils.parse_hour_min(df, [timestamp_col])\n",
    "    minute_cols = utils.minute_cols(timestamp_col)\n",
    "    \n",
    "    trip_duration = get_trip_duration(\n",
    "        df,\n",
    "        trip_cols,\n",
    "        timestamp_col\n",
    "    )\n",
    "    \n",
    "    df2 = (\n",
    "        df.groupby(trip_cols + minute_cols, \n",
    "        observed=True, group_keys = False)\n",
    "        .agg({timestamp_col: \"count\"})\n",
    "        .reset_index()\n",
    "    )    \n",
    "    \n",
    "    # 1 if it has more than 2 updates, 0 otherwise.\n",
    "    # Easier to sum and calculate percent.\n",
    "    df2 = df2.assign(\n",
    "        atleast2_trip_updates = df2.apply(\n",
    "            lambda x: 1 if x[timestamp_col] >= 2\n",
    "            else 0, axis=1, \n",
    "            meta=(\"atleast2_trip_updates\", \"int8\"))\n",
    "    )    \n",
    "    \n",
    "    # By trip, sum up the number of at least 2 trip updates\n",
    "    # that minute, and merge in trip_duration (minutes)\n",
    "    df3 = (df2.groupby(trip_cols, observed=True, group_keys=False)\n",
    "           .agg({\"atleast2_trip_updates\": \"sum\"})\n",
    "           .reset_index()\n",
    "          )\n",
    "    \n",
    "    df4 = df3.merge(\n",
    "        trip_duration,\n",
    "        on = trip_cols,\n",
    "        how = \"inner\"\n",
    "    )\n",
    "    \n",
    "    df4 = df4.assign(\n",
    "        pct_update_complete = df4.atleast2_trip_updates.divide(\n",
    "            df4.trip_min_elapsed)\n",
    "    ) \n",
    "    \n",
    "    return df4"
   ]
  },
  {
   "cell_type": "code",
   "execution_count": 6,
   "id": "f0b71b52-22e5-49d5-b9f9-559b7768e42e",
   "metadata": {},
   "outputs": [],
   "source": [
    "def update_completeness_metric(df: pd.DataFrame) -> pd.DataFrame:\n",
    "    \"\"\"\n",
    "    Start with RT vehicle_positions.\n",
    "    \n",
    "    For a given trip, calculate the trip_duration (minutes).\n",
    "    Count the number of minutes \n",
    "    \"\"\"\n",
    "    # Set timestamp columns here, in case these are not correct\n",
    "    # Row should be derived from _extract_ts (convert to minute combinations)\n",
    "    # along with stop identifiers\n",
    "    # For metric, we want to get # unique trip updates\n",
    "    timestamp_col = \"location_timestamp_local\"\n",
    "    \n",
    "    # define all the columns needed for stop grouping\n",
    "    # include columns for future aggregations\n",
    "    all_trip_cols = [\n",
    "        \"gtfs_dataset_key\", \"_gtfs_dataset_name\", \n",
    "        \"trip_id\", \n",
    "        #service_date\n",
    "    ]\n",
    "\n",
    "    df2 = atleast2_updates_by_trip(\n",
    "        df, \n",
    "        all_trip_cols,\n",
    "        timestamp_col,\n",
    "    )\n",
    "    \n",
    "    return df2"
   ]
  },
  {
   "cell_type": "markdown",
   "id": "709387cf-cd44-4046-bc3d-017f6a8f4066",
   "metadata": {},
   "source": [
    "### Calculate Metric and Quick Descriptives"
   ]
  },
  {
   "cell_type": "code",
   "execution_count": 7,
   "id": "ffbaf26d-3437-49c8-bd5b-56b79a607d84",
   "metadata": {},
   "outputs": [],
   "source": [
    "by_trip = update_completeness_metric(ddf)\n",
    "by_trip = by_trip.persist()"
   ]
  },
  {
   "cell_type": "code",
   "execution_count": 8,
   "id": "dfdf5b57-fdf3-4595-99ae-020a6d800e5b",
   "metadata": {},
   "outputs": [],
   "source": [
    "by_trip_df = compute(by_trip)[0]"
   ]
  },
  {
   "cell_type": "code",
   "execution_count": 11,
   "id": "cae243df-610f-4385-a235-9ef6135cf2fe",
   "metadata": {},
   "outputs": [],
   "source": [
    "final = by_trip_df.compute()"
   ]
  },
  {
   "cell_type": "code",
   "execution_count": 14,
   "id": "1794a726-17c4-477f-bac4-7dc335439f19",
   "metadata": {},
   "outputs": [
    {
     "data": {
      "text/plain": [
       "count    618.000000\n",
       "mean       0.953399\n",
       "std        0.169221\n",
       "min        0.040972\n",
       "25%        1.000000\n",
       "50%        1.006473\n",
       "75%        1.016129\n",
       "max        1.083333\n",
       "Name: pct_update_complete, dtype: float64"
      ]
     },
     "execution_count": 14,
     "metadata": {},
     "output_type": "execute_result"
    }
   ],
   "source": [
    "final.pct_update_complete.describe()"
   ]
  },
  {
   "cell_type": "code",
   "execution_count": null,
   "id": "2d83eeb2-d910-449b-8034-8917268fe07b",
   "metadata": {},
   "outputs": [],
   "source": [
    "cols = [\n",
    "    \"atleast2_trip_updates\", \n",
    "    \"trip_min_elapsed\",\n",
    "    \"pct_update_complete\"]"
   ]
  },
  {
   "cell_type": "code",
   "execution_count": null,
   "id": "90b6c074-f3eb-4705-92f5-5c55d5d20033",
   "metadata": {},
   "outputs": [],
   "source": [
    "for i in by_trip._gtfs_dataset_name.unique():\n",
    "    display(\n",
    "        chart_utils.describe_to_df(\n",
    "            by_trip,\n",
    "            i,\n",
    "            cols,\n",
    "        )\n",
    "    )"
   ]
  },
  {
   "cell_type": "code",
   "execution_count": null,
   "id": "c0380925-35eb-48ff-9e6e-83b01d531d7b",
   "metadata": {},
   "outputs": [],
   "source": [
    "charts_df = chart_utils.prep_df_for_chart(\n",
    "    df = by_trip,\n",
    "    percentage_column = \"pct_update_complete\",\n",
    "    columns_to_round = [\"pct_update_complete\"],\n",
    "    columns_to_keep = [\n",
    "        \"_gtfs_dataset_name\",\n",
    "        \"trip_id\",\n",
    "        \"pct_update_complete\",\n",
    "    ],\n",
    ")"
   ]
  },
  {
   "cell_type": "code",
   "execution_count": null,
   "id": "42639d61-b284-4b8e-8956-0a5696df6152",
   "metadata": {},
   "outputs": [],
   "source": [
    "for i in charts_df['Gtfs Dataset Name'].unique():\n",
    "    display(chart_utils.scatter_plot_domain(\n",
    "    charts_df,\n",
    "    operator = i,\n",
    "    x_col=\"Stop Sequence\",\n",
    "    y_col=\"Pct Update Complete\",\n",
    "    color_col=\"Rounded Pct Update Complete\",\n",
    "    dropdown_col=\"Trip Id\",\n",
    "    dropdown_col_title=\"Trip ID\",))"
   ]
  },
  {
   "cell_type": "code",
   "execution_count": null,
   "id": "f6b9bba9-8683-4785-9c70-4e93e99ed1a5",
   "metadata": {},
   "outputs": [],
   "source": []
  }
 ],
 "metadata": {
  "kernelspec": {
   "display_name": "Python 3 (ipykernel)",
   "language": "python",
   "name": "python3"
  },
  "language_info": {
   "codemirror_mode": {
    "name": "ipython",
    "version": 3
   },
   "file_extension": ".py",
   "mimetype": "text/x-python",
   "name": "python",
   "nbconvert_exporter": "python",
   "pygments_lexer": "ipython3",
   "version": "3.9.13"
  }
 },
 "nbformat": 4,
 "nbformat_minor": 5
}
