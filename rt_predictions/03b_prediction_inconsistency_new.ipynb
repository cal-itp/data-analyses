{
 "cells": [
  {
   "cell_type": "markdown",
   "id": "d137d5f0-f695-4a3d-ae3f-6567e3908b5d",
   "metadata": {},
   "source": [
    "# Metric 3: Prediction Inconsistency\n",
    "\n",
    "The \"jitter\" boils down to the slope of the predictions for a stop for the entire prediction duration until you reach that stop.\n",
    "\n",
    "## Rabbit Hole \n",
    "* If we drop predictions from before the `trip_start_time`, we can lose a large fraction of it.\n",
    "* Basically, some trips are not updating predicted arrival too much, and since these predictions are occurring from way far back in time, we'd be penalizing the predictions simply because time is ticking from 20 min before trip starts, to 19 min before, 18 min before, and the prediction for arrival at this stop is not changing.\n",
    "   * maybe we consider handling first stop differently, or excluding completely\n",
    "   * but for subsequent stops, especially for ones in the middle of a trip, their predictions are unlikely to change until the trip starts. should we be penalizing them because the clock is ticking down even before trip start, but the prediction isn't changing (bc the bus isn't moving)?\n",
    "   * Right now, we are excluding to predictions after the `trip_start_time` \n",
    "* Implementation now, which skips calculating it each stop-min, but just sums up the `abs(actual_change (minutes) - expected_change (minutes))` for each stop, is still going to be computationally intensive because of the groupby-shifts.\n",
    "\n",
    "Summary Levels\n",
    "* Cumulatively across an entire route, or\n",
    "* Rolling average\n",
    "* Route by stops"
   ]
  },
  {
   "cell_type": "code",
   "execution_count": null,
   "id": "7dc3b984-3b94-4e16-948a-4e40673179c1",
   "metadata": {},
   "outputs": [],
   "source": [
    "import pandas as pd\n",
    "import chart_utils\n",
    "\n",
    "import utils\n",
    "from segment_speed_utils.project_vars import PREDICTIONS_GCS \n",
    "analysis_date = \"2023-03-15\""
   ]
  },
  {
   "cell_type": "code",
   "execution_count": null,
   "id": "f65211aa-5ffa-4e4d-b4f4-25e66cefad64",
   "metadata": {},
   "outputs": [],
   "source": [
    "test_operator = \"Bear Trip Updates\"\n",
    "#test_trips = ['155', '157']\n",
    "\n",
    "df = pd.read_parquet(\n",
    "    f\"{PREDICTIONS_GCS}rt_sched_stop_times_{analysis_date}.parquet\", \n",
    "    filters = [[(\"_gtfs_dataset_name\", \"==\", test_operator), \n",
    "               #(\"trip_id\", \"in\", test_trips)\n",
    "               ]]\n",
    ")\n",
    "df._gtfs_dataset_name.unique()"
   ]
  },
  {
   "cell_type": "markdown",
   "id": "79ecf676-fad9-442e-bc6c-73733095371b",
   "metadata": {},
   "source": [
    "### Sample Size Changes"
   ]
  },
  {
   "cell_type": "code",
   "execution_count": null,
   "id": "5781507b-3757-4b2a-ad71-8b894be30b35",
   "metadata": {},
   "outputs": [],
   "source": [
    "df2 = utils.exclude_predictions_after_actual_stop_arrival(\n",
    "    df, \"_extract_ts_local\")\n",
    "df3 = utils.exclude_predictions_before_trip_start_time(df2)\n",
    "df4 = utils.set_prediction_window(df3, min_before = 30)"
   ]
  },
  {
   "cell_type": "code",
   "execution_count": null,
   "id": "372a9dfc-185f-48bb-af41-d0cd781c9328",
   "metadata": {},
   "outputs": [],
   "source": [
    "print(f\"rows to begin: {len(df)}\")\n",
    "print(f\"rows post drop predictions after actual stop arrival: {len(df2)}\")\n",
    "print(f\"rows post drop predictions before trip start time: {len(df3)}\")\n",
    "print(f\"rows post drop predictions outside of 30 min window: {len(df4)}\")"
   ]
  },
  {
   "cell_type": "markdown",
   "id": "c6cd8126-c38c-4d25-bb1d-6c4de9046572",
   "metadata": {},
   "source": [
    "### Define Functions for Metrics"
   ]
  },
  {
   "cell_type": "code",
   "execution_count": null,
   "id": "47cd9052-50ae-4943-bbd5-1b324014a87b",
   "metadata": {},
   "outputs": [],
   "source": [
    "def change_in_prediction_and_aggregate_to_minute(\n",
    "    df: pd.DataFrame,\n",
    "    stop_cols: list,\n",
    "    timestamp_col: str = \"predicted_pacific\"\n",
    "):\n",
    "    \"\"\"\n",
    "    \"\"\"\n",
    "    df = utils.parse_hour_min(\n",
    "        df, \n",
    "        [\"_extract_ts_local\"]\n",
    "    )\n",
    "    \n",
    "    hour_cols = [c for c in df.columns if \"_hour\" in c]\n",
    "    minute_cols = [c for c in df.columns if \"_min\" in c]\n",
    "    \n",
    "    # For every minute, grab the min and max predicted_pacific\n",
    "    # calculate the change in prediction...that's our inconsistency\n",
    "    # sum up the minutes present\n",
    "    grouped_df = df.groupby(stop_cols + hour_cols + minute_cols)\n",
    "    \n",
    "    by_minute = (grouped_df\n",
    "        .agg({timestamp_col: \"min\"})\n",
    "        .reset_index()\n",
    "        .rename(columns = {timestamp_col: \"earliest\"})\n",
    "    ).merge(\n",
    "        grouped_df\n",
    "        .agg({timestamp_col: \"max\"})\n",
    "        .reset_index()\n",
    "        .rename(columns = {timestamp_col: \"latest\"})\n",
    "    )\n",
    "    \n",
    "    by_minute = by_minute.assign(\n",
    "        prediction_change_min = ((by_minute.latest - by_minute.earliest)\n",
    "                                 .dt.total_seconds().divide(60).round(0)\n",
    "                                )\n",
    "    )\n",
    "    \n",
    "    return by_minute"
   ]
  },
  {
   "cell_type": "code",
   "execution_count": null,
   "id": "ea172e8b-663b-4097-966f-b24c5a367605",
   "metadata": {},
   "outputs": [],
   "source": [
    "def aggregate_by_stop(\n",
    "    df: pd.DataFrame, \n",
    "    stop_cols: list\n",
    ") -> pd.DataFrame:\n",
    "    \"\"\"\n",
    "    Don't need to calculate cumulative within each stop-min.\n",
    "    Just take the sum across the whole stop and calculate\n",
    "    the sum(actual_minus_expected_change) / prediction_duration.\n",
    "    \"\"\"\n",
    "    df2 = (df.groupby(stop_cols)\n",
    "           .agg({\n",
    "               \"prediction_change_min\": \"sum\",\n",
    "               \"_extract_ts_local_hour\": \"size\"})\n",
    "           .reset_index()\n",
    "           .rename(columns = {\n",
    "               \"prediction_change_min\": \"total_inconsistency\",\n",
    "               \"_extract_ts_local_hour\": \"prediction_duration\"\n",
    "           })\n",
    "          )\n",
    "    \n",
    "    df2 = df2.assign(\n",
    "        prediction_inconsistency = df2.total_inconsistency.divide(\n",
    "            df2.prediction_duration)\n",
    "    )\n",
    "    \n",
    "    return df2"
   ]
  },
  {
   "cell_type": "code",
   "execution_count": null,
   "id": "d5be44bf-5583-4f37-abd0-01cd4f854c7d",
   "metadata": {},
   "outputs": [],
   "source": [
    "def prediction_inconsistency_metric(df: pd.DataFrame) -> pd.DataFrame: \n",
    "    \"\"\"\n",
    "    Start with assembled RT stop_time_updates with \n",
    "    scheduled stop_times and also final_trip_updates columns.\n",
    "    \n",
    "    For a given stop, back out the number of minutes since \n",
    "    the trip start. \n",
    "    For each minute, keep the min(prediction).\n",
    "    For each minute, calculate the expected change and \n",
    "    actual change in prediction, in minutes.\n",
    "    Sum it up for a stop across all the minutes.\n",
    "    \"\"\"\n",
    "    timestamp_col = \"_extract_ts_local\"\n",
    "    \n",
    "    all_stop_cols = [\n",
    "        \"gtfs_dataset_key\", \"_gtfs_dataset_name\", \n",
    "        \"service_date\", \n",
    "        \"shape_id\", \"route_id\",\n",
    "        \"trip_id\", \n",
    "        \"stop_id\", \"stop_sequence\",\n",
    "        \"scheduled_arrival\", \"actual_stop_arrival_pacific\", \n",
    "    ]\n",
    "    \n",
    "    df2 = utils.exclude_predictions_after_actual_stop_arrival(\n",
    "        df, timestamp_col)\n",
    "    \n",
    "    df3 = utils.exclude_predictions_before_trip_start_time(df2)\n",
    "    \n",
    "    df4 = utils.set_prediction_window(df3, min_before = 30)\n",
    "    \n",
    "    df5 = change_in_prediction_and_aggregate_to_minute(\n",
    "        df4, \n",
    "        all_stop_cols,\n",
    "        timestamp_col = \"predicted_pacific\"\n",
    "    )\n",
    "    \n",
    "    df6 = aggregate_by_stop(df5, all_stop_cols)\n",
    "    \n",
    "    return df6"
   ]
  },
  {
   "cell_type": "markdown",
   "id": "15b334a0-8549-45a2-8d20-5ba77ad9e2ad",
   "metadata": {},
   "source": [
    "### Calculate Metric and Quick Descriptives"
   ]
  },
  {
   "cell_type": "code",
   "execution_count": null,
   "id": "6a52c10f-f849-4184-b45d-8ee8e6b97ba3",
   "metadata": {},
   "outputs": [],
   "source": [
    "by_trip_stop = prediction_inconsistency_metric(df)"
   ]
  },
  {
   "cell_type": "code",
   "execution_count": null,
   "id": "87fe26cc-f032-4642-b91d-42497e66c700",
   "metadata": {},
   "outputs": [],
   "source": [
    "cols = [\n",
    "    \"total_inconsistency\", \n",
    "    \"prediction_duration\",\n",
    "    \"prediction_inconsistency\"]"
   ]
  },
  {
   "cell_type": "code",
   "execution_count": null,
   "id": "814c9a89-3b66-441c-a805-a4a588f2e654",
   "metadata": {},
   "outputs": [],
   "source": [
    "for i in by_trip_stop._gtfs_dataset_name.unique():\n",
    "    display(\n",
    "        chart_utils.describe_to_df(\n",
    "            by_trip_stop,\n",
    "            i,\n",
    "            cols,\n",
    "        )\n",
    "    )"
   ]
  },
  {
   "cell_type": "code",
   "execution_count": null,
   "id": "83b2bfad-1398-4c84-981a-5d9ab012397c",
   "metadata": {},
   "outputs": [],
   "source": [
    "metric_df = chart_utils.prep_df_for_chart(\n",
    "    df = by_trip_stop,\n",
    "    percentage_column = \"prediction_duration\",\n",
    "    columns_to_round = [\"total_inconsistency\"],\n",
    "    columns_to_keep = [\n",
    "        \"_gtfs_dataset_name\",\n",
    "        \"trip_id\",\n",
    "        \"stop_id\",\n",
    "        \"stop_sequence\",\n",
    "        \"total_inconsistency\",\n",
    "         \"prediction_inconsistency\"\n",
    "    ],\n",
    ")"
   ]
  },
  {
   "cell_type": "code",
   "execution_count": null,
   "id": "ee421bc5-07db-4853-8ba8-0208b9c6e1bf",
   "metadata": {},
   "outputs": [],
   "source": [
    "for i in metric_df['Gtfs Dataset Name'].unique():\n",
    "    display(chart_utils.basic_scatter_plot(\n",
    "    metric_df,\n",
    "    operator = i,\n",
    "    x_col=\"Stop Sequence\",\n",
    "    y_col=\"Prediction Inconsistency\",\n",
    "    dropdown_col=\"Trip Id\",\n",
    "    dropdown_col_title=\"Trip ID\",))"
   ]
  },
  {
   "cell_type": "markdown",
   "id": "012e9bba-3f02-46bd-96d4-54f21d77504c",
   "metadata": {},
   "source": [
    "### Pick out an example where we stop asking before the actual arrival."
   ]
  },
  {
   "cell_type": "code",
   "execution_count": null,
   "id": "13118512-1639-4656-a246-61fd843b2362",
   "metadata": {},
   "outputs": [],
   "source": [
    "def compare_predictions_to_extract_to_actual(\n",
    "    df, one_trip, one_stop\n",
    "):\n",
    "    subset = df[(df.trip_id==one_trip) & \n",
    "                (df.stop_sequence==one_stop)]\n",
    "    \n",
    "    print(f\"Predictions for trip_id: {one_trip}, stop_sequence: {one_stop}\")\n",
    "    print(subset.predicted_pacific.value_counts())\n",
    "    \n",
    "    print(\"Actual stop arrival\")\n",
    "    print(subset.actual_stop_arrival_pacific.iloc[0])\n",
    "    \n",
    "    print(\"Last time we ask for predictions\")\n",
    "    print(subset._extract_ts_local.max())"
   ]
  },
  {
   "cell_type": "code",
   "execution_count": null,
   "id": "b36b4efc-56c3-414d-805b-7a81dda0300e",
   "metadata": {},
   "outputs": [],
   "source": [
    "one_trip = df[df._gtfs_dataset_name.str.contains(\"Dumbarton\")].trip_id.unique()[10]\n",
    "one_stop = 7\n",
    "compare_predictions_to_extract_to_actual(df, one_trip, one_stop)"
   ]
  },
  {
   "cell_type": "code",
   "execution_count": null,
   "id": "c5edecdc-982b-46e8-bfdf-286e5e2b4fb4",
   "metadata": {},
   "outputs": [],
   "source": [
    "stop_times = pd.read_parquet(\n",
    "    f\"{PREDICTIONS_GCS}stop_time_updates_{analysis_date}.parquet\",\n",
    "    filters = [[(\"trip_id\", \"==\", one_trip), \n",
    "                (\"stop_sequence\", \"==\", one_stop)]]\n",
    ")"
   ]
  },
  {
   "cell_type": "code",
   "execution_count": null,
   "id": "cbf94a62-27d3-4192-9023-bf1c6a91eb63",
   "metadata": {},
   "outputs": [],
   "source": [
    "stop_times._extract_ts_local.max()"
   ]
  },
  {
   "cell_type": "code",
   "execution_count": null,
   "id": "8ea668ee-558d-47d2-8934-348c9011a23c",
   "metadata": {},
   "outputs": [],
   "source": [
    "stop_times.arrival_time_pacific.max()"
   ]
  },
  {
   "cell_type": "code",
   "execution_count": null,
   "id": "e0bbcf2e-1313-43d2-90aa-f90daf2a0acb",
   "metadata": {},
   "outputs": [],
   "source": []
  }
 ],
 "metadata": {
  "kernelspec": {
   "display_name": "Python 3 (ipykernel)",
   "language": "python",
   "name": "python3"
  },
  "language_info": {
   "codemirror_mode": {
    "name": "ipython",
    "version": 3
   },
   "file_extension": ".py",
   "mimetype": "text/x-python",
   "name": "python",
   "nbconvert_exporter": "python",
   "pygments_lexer": "ipython3",
   "version": "3.9.13"
  }
 },
 "nbformat": 4,
 "nbformat_minor": 5
}
