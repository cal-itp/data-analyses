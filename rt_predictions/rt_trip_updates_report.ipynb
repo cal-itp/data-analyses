{
 "cells": [
  {
   "cell_type": "code",
   "execution_count": null,
   "id": "827cc662-3fca-4d05-926d-aa21224a8034",
   "metadata": {
    "tags": []
   },
   "outputs": [],
   "source": [
    "%%capture\n",
    "\n",
    "import warnings\n",
    "warnings.filterwarnings(\"ignore\")\n",
    "\n",
    "import altair as alt\n",
    "import pandas as pd\n",
    "\n",
    "import calitp_data_analysis.magics\n",
    "from great_tables import GT\n",
    "\n",
    "import prep_data\n",
    "import chart_utils\n",
    "\n",
    "alt.data_transformers.enable(\"vegafusion\")"
   ]
  },
  {
   "cell_type": "code",
   "execution_count": null,
   "id": "b898ae0b-54d3-4909-bfcc-b9bee2615217",
   "metadata": {
    "tags": [
     "parameters"
    ]
   },
   "outputs": [],
   "source": [
    "# Comment out, this is `parameters` tagged cell\n",
    "#name = \"Torrance Schedule\""
   ]
  },
  {
   "cell_type": "code",
   "execution_count": null,
   "id": "ceb3c1ed-8c30-4cc0-8883-4d3634087eff",
   "metadata": {},
   "outputs": [],
   "source": [
    "%%capture_parameters\n",
    "name"
   ]
  },
  {
   "cell_type": "markdown",
   "id": "625a3901-75f8-4cf8-b694-9e37d669a38e",
   "metadata": {},
   "source": [
    "# {name} \n",
    "\n",
    "One of the most common transit user behaviors is to consult an app (Google Maps, Apple Maps, NextBus, etc) to find out when the bus or train is going to arrive.\n",
    "\n",
    "That widely desired piece of information is powered by GTFS Real-Time Trip Updates, specifically the [Stop Time Updates](https://gtfs.org/documentation/realtime/reference/#message-stoptimeupdate) specification. The underlying data produced here is huge. Imagine every instance a bus arrives at a stop in California. Multiply that by 30 for the 30 minutes before the bus arrives, and that's the dataset we're working to distill into usable performance metrics for all transit operators.\n",
    "\n",
    "Generally, we want better transit user experience. Specifically, the performance metrics we can derive from GTFS RT Trip Updates distills into the following objectives:\n",
    "1. Increase prediction reliability and accuracy\n",
    "2. Increase the availability and completeness of GTFS RT\n",
    "3. Decrease the inconsistency and fluctuations of predictions "
   ]
  },
  {
   "cell_type": "code",
   "execution_count": null,
   "id": "e6ba44e0-16e8-45a8-8c8d-789170560709",
   "metadata": {
    "tags": []
   },
   "outputs": [],
   "source": [
    "daily_df = prep_data.import_stop_df(\n",
    "    is_daily = True,\n",
    "    filters = [[(\"schedule_name\", \"==\", name)]]\n",
    ")\n",
    "\n",
    "daytype_df = prep_data.import_stop_df(\n",
    "    is_daily = False, \n",
    "    filters = [[(\"schedule_name\", \"==\", name)]]\n",
    ")"
   ]
  },
  {
   "cell_type": "code",
   "execution_count": null,
   "id": "10560041-a5a7-4dca-a8c9-f41d8cad60be",
   "metadata": {
    "tags": []
   },
   "outputs": [],
   "source": [
    "# Create aggregated binned dataset \n",
    "# replicate what altair does with count() for histogram\n",
    "# do this to avoid the autosave timeout that seems to happen after 4 seconds\n",
    "percentile_columns = [\n",
    "    \"pct_tu_predictions_early\", \n",
    "    \"pct_tu_predictions_ontime\", \n",
    "    \"pct_tu_predictions_late\",\n",
    "    \"pct_tu_accurate_minutes\", \n",
    "    \"pct_tu_complete_minutes\"\n",
    "]\n",
    "\n",
    "daily_df2 = prep_data.daily_binned_counts_by_deciles(\n",
    "    daily_df, percentile_columns\n",
    ").pipe(\n",
    "    prep_data.summary_counts_by_bins,\n",
    "    group_cols = [\"service_date\", \"base64_url\"],\n",
    "    percentile_columns = percentile_columns\n",
    ").astype({\"service_date\": \"str\"}) # make date string for altair legend\n",
    "\n",
    "daytype_df2 = prep_data.daily_binned_counts_by_deciles(\n",
    "    daytype_df, percentile_columns\n",
    ").pipe(\n",
    "    prep_data.summary_counts_by_bins,\n",
    "    group_cols = [\"year\", \"month\", \"month_first_day\", \n",
    "                  \"day_type\", \"schedule_base64_url\", \"tu_base64_url\"],\n",
    "    percentile_columns = percentile_columns\n",
    ")"
   ]
  },
  {
   "cell_type": "markdown",
   "id": "0e692c06-d072-437d-a685-68ec0a1c4aa8",
   "metadata": {},
   "source": [
    "## Reliable Prediction Accuracy\n",
    "\n",
    "We can measure progress on this large objective with several metrics:\n",
    "\n",
    "* Share of predictions that are early / on-time / late\n",
    "* Prediction error (difference between `predicted_arrival` and `actual_arrival`)\n",
    "* Share predictions that are accurate (prediction error categorized as boolean of accurate or not depending an exponential equation)\n",
    "   * The prediction is accurate if  it falls within the bounds of `-60ln(Time to Prediction+1.3) < Prediction Error < 60ln(Time\n",
    "to Prediction+1.5)`, the further out before arrival, the more generous the buffer. \n",
    "* Time period: 30 minutes before the arrival at stop \n",
    "\n",
    "### Percent Predictions Early / On-Time / Late \n",
    "\n",
    "* column used `pct_tu_predictions_early`, `pct_tu_predictions_ontime`, `pct_tu_predictions_late`\n",
    "* For transit users, **higher proportions of `% predictions early / on-time` mean you are more likely to catch the bus** if you follow the prediction exactly.\n",
    "* <span style=\"color:#4477aa\">**Goal:** increase the share of early / on-time predictions and lower share of late predictions.</span>We would rather have transit users follow the predictions and wait for the bus."
   ]
  },
  {
   "cell_type": "code",
   "execution_count": null,
   "id": "f4b04152-49e6-43fb-816f-16af078c7081",
   "metadata": {},
   "outputs": [],
   "source": [
    "chart_list = [\n",
    "    chart_utils.histogram_line_chart_by_date(\n",
    "        daily_df2, \n",
    "        metric_column = f\"pct_tu_predictions_{c}\",\n",
    "        legend_color_column = \"service_date\"\n",
    "    ) for c in [\"early\", \"ontime\", \"late\"]\n",
    "]\n",
    "\n",
    "combined_percent_daily_chart = alt.hconcat(*chart_list).resolve_scale(y='shared')\n",
    "combined_percent_daily_chart"
   ]
  },
  {
   "cell_type": "code",
   "execution_count": null,
   "id": "733a524b-3c1b-41d0-be52-c57366b675bf",
   "metadata": {
    "tags": []
   },
   "outputs": [],
   "source": [
    "chart_list = [\n",
    "    chart_utils.histogram_line_chart_by_date(\n",
    "        daytype_df2, \n",
    "        metric_column = f\"pct_tu_predictions_{c}\",\n",
    "        legend_color_column = \"day_type\"\n",
    "    ) for c in [\"early\", \"ontime\", \"late\"]\n",
    "]\n",
    "\n",
    "combined_percent_daytype_chart = alt.hconcat(*chart_list).resolve_scale(y='shared')\n",
    "combined_percent_daytype_chart"
   ]
  },
  {
   "cell_type": "markdown",
   "id": "f6561568-885a-4c38-afa2-4f8fb1034d53",
   "metadata": {},
   "source": [
    "### High Share of Late Predictions for Weekday Stops Map\n",
    "\n",
    "If weekday stops can't be plotted, weekend stops will be used. "
   ]
  },
  {
   "cell_type": "code",
   "execution_count": null,
   "id": "ccb6e80b-e4f3-481c-ba89-ecffc2685c07",
   "metadata": {},
   "outputs": [],
   "source": [
    "# These stops have lots of late predictions (that's the type of error we want to avoid)\n",
    "m = chart_utils.make_map(\n",
    "    daytype_df[daytype_df.pct_tu_predictions_late > 0.25], \n",
    "    \"pct_tu_predictions_late\"\n",
    ")\n",
    "m"
   ]
  },
  {
   "cell_type": "markdown",
   "id": "ce1f2ce9-e4e6-4cda-ac55-a250787e9d61",
   "metadata": {},
   "source": [
    "### Average Prediction Error \n",
    "* column used `avg_prediction_error_minutes`\n",
    "* For transit users, **negative values for `avg_prediction_error` mean you miss the bus** if you follow the prediction exactly.\n",
    "* <span style=\"color:#4477aa\">**Goal 1:** minimize occurrences of negative prediction errors.</span>We would rather have transit users follow the predictions and wait for the bus.\n",
    "* <span style=\"color:#4477aa\">**Goal 2:** tighten the range of prediction errors and have the range move closer to zero for shorter expected wait times.</span> \n",
    "   * Large positive prediction error values mean users are expected to wait longer by following the prediction. \n",
    "   * By tightening the box and centering it on zero, users experience both more reliable predictions and shorter wait times. "
   ]
  },
  {
   "cell_type": "code",
   "execution_count": null,
   "id": "81ffc91c-a010-42f4-a3eb-8981e0a7440a",
   "metadata": {
    "tags": []
   },
   "outputs": [],
   "source": [
    "chart_utils.boxplot_by_date(daily_df, \"avg_prediction_error_minutes\")"
   ]
  },
  {
   "cell_type": "markdown",
   "id": "2e16d67d-f49f-4f44-a313-26a86af7743d",
   "metadata": {
    "tags": []
   },
   "source": [
    "### % of minutes with accurate predictions\n",
    "* column used: `pct_accurate_minutes`\n",
    "* For transit users, **a higher proportion of `% accurate minutes` means you are getting reliable predictions for longer stretches of time before the bus arrives**.\n",
    "* <span style=\"color:#4477aa\">**Goal:** increase the share of accurate minutes.</span>\n",
    "* Note: this metric does depend on the exponential curve, which means that anything outside this fairly assertive curve means low performance on this metric."
   ]
  },
  {
   "cell_type": "code",
   "execution_count": null,
   "id": "456fe18d-5620-4af1-877f-9c1f83efb7be",
   "metadata": {
    "tags": []
   },
   "outputs": [],
   "source": [
    "chart_utils.histogram_line_chart_by_date(\n",
    "    daily_df2, \n",
    "    metric_column = \"pct_tu_accurate_minutes\",\n",
    "    legend_color_column = \"service_date\"\n",
    ") "
   ]
  },
  {
   "cell_type": "code",
   "execution_count": null,
   "id": "551dd8f8-2778-417b-bccd-7ce49a319322",
   "metadata": {},
   "outputs": [],
   "source": [
    "chart_utils.histogram_line_chart_by_date(\n",
    "    daytype_df2, \n",
    "    metric_column = \"pct_tu_accurate_minutes\",\n",
    "    legend_color_column = \"day_type\"\n",
    ") "
   ]
  },
  {
   "cell_type": "markdown",
   "id": "5a4572b3-d2f3-4efc-90ef-ced018bf3587",
   "metadata": {},
   "source": [
    "## Availability of Acceptable StopTimeUpdate Messages  \n",
    "### % of minutes with available predictions \n",
    "* column used: `pct_tu_complete_minutes`\n",
    "* This metric is the easiest to achieve. For starters, having information is better than no information.\n",
    "* For transit users, **a higher proportion of `% complete minutes` means you are getting predictions for longer stretches of time before the bus arrives**.\n",
    "* <span style=\"color:#4477aa\">**Goal:** increase the share of complete minutes.</span>\n",
    "* Note: Newmark paper shows that among four CA operators, this metric is fairly easy to reach and operators can even reach up to 90% completeness."
   ]
  },
  {
   "cell_type": "code",
   "execution_count": null,
   "id": "3113197e-d9ca-4ec7-8728-0cbd831410c5",
   "metadata": {
    "tags": []
   },
   "outputs": [],
   "source": [
    "chart_utils.histogram_line_chart_by_date(\n",
    "    daily_df2, \n",
    "    metric_column = \"pct_tu_complete_minutes\",\n",
    "    legend_color_column = \"service_date\"\n",
    ") "
   ]
  },
  {
   "cell_type": "code",
   "execution_count": null,
   "id": "2f29d438-c0d7-4a82-affc-421702265f07",
   "metadata": {
    "tags": []
   },
   "outputs": [],
   "source": [
    "chart_utils.histogram_line_chart_by_date(\n",
    "    daytype_df2, \n",
    "    metric_column = \"pct_tu_complete_minutes\",\n",
    "    legend_color_column = \"day_type\"\n",
    ") "
   ]
  },
  {
   "cell_type": "markdown",
   "id": "46b28310-643a-49ab-a54e-89da1523694b",
   "metadata": {},
   "source": [
    "## Simpler Expected Wait Time \n",
    "* column used: `avg_prediction_error_minutes`, `prediction_error_label`\n",
    "* For transit users, **shorter wait times (lower positive values) without missing the bus (few negative values)** result in more pleasant transit journeys.\n",
    "* <span style=\"color:#4477aa\">**Goal:** decrease expected wait time and decrease late predictions.</span>\n",
    "* This metric attempts a more generous approach towards determining accuracy, by categorizing `avg_prediction_error_minutes` with the 1-3 min, 3-5 min, and 5+ min thresholds.\n",
    "   * ontime is between 1 min early to 1 min late"
   ]
  },
  {
   "cell_type": "code",
   "execution_count": null,
   "id": "f5d21dfa-98f9-4096-92bc-82d7517d100f",
   "metadata": {
    "tags": []
   },
   "outputs": [],
   "source": [
    "chart_utils.bar_chart_by_date(\n",
    "    daily_df, \"prediction_error_label\", \n",
    "    is_stacked=False\n",
    ")"
   ]
  },
  {
   "cell_type": "code",
   "execution_count": null,
   "id": "90ac6f09-f494-43c3-976d-deb2ddb6d145",
   "metadata": {
    "tags": []
   },
   "outputs": [],
   "source": [
    "chart_utils.bar_chart_by_date(\n",
    "    daily_df, \"prediction_error_label\", \n",
    "    is_stacked=True\n",
    ")"
   ]
  },
  {
   "cell_type": "markdown",
   "id": "822e608e-4a0e-460b-8831-6b2d31fbb648",
   "metadata": {},
   "source": [
    "### Prediction Error for Weekday Stops Map"
   ]
  },
  {
   "cell_type": "code",
   "execution_count": null,
   "id": "e276cfcf-cecc-42f8-96cc-832f5ee5d527",
   "metadata": {},
   "outputs": [],
   "source": [
    "chart_utils.make_map(daytype_df, \"prediction_error_label\")"
   ]
  },
  {
   "cell_type": "markdown",
   "id": "11b3a832-b531-48d2-868a-c91906b33876",
   "metadata": {},
   "source": [
    "## Prediction Inconsistency \n",
    "\n",
    "* column used: `avg_prediction_spread_minutes`\n",
    "* This metric wants to **distinguish between consistent but inaccurate and inconsistent but accurate** prediction patterns.\n",
    "   * Consistent predictions contribute to low user trust in the information generally.\n",
    "   * Inconsistent but accurate predictions fluctuate, making it difficult for trip planning ahead of time. However, the up-to-date information can alleviate the discomfort. [Research](https://www.sciencedirect.com/science/article/abs/pii/S0965856416303494) has shown that waiting time is negatively perceived, but having real-time information communicated reduces that perceived waiting time.  \n",
    "* For transit users, **less inconsistency (lower positive values)** mean fewer fluctuations in predictions.\n",
    "* <span style=\"color:#4477aa\">**Goal:** Tighten the box with values closer to zero.</span>"
   ]
  },
  {
   "cell_type": "code",
   "execution_count": null,
   "id": "6e321226-07b9-4041-8402-4d501e96df98",
   "metadata": {
    "tags": []
   },
   "outputs": [],
   "source": [
    "chart_utils.boxplot_by_date(daily_df, \"avg_prediction_spread_minutes\")"
   ]
  },
  {
   "cell_type": "markdown",
   "id": "aeb6a835-1ba8-4a7e-9729-258f7612b868",
   "metadata": {},
   "source": [
    "## Descriptives Table with Detailed Percentiles\n",
    "\n",
    "Take a look at percentiles for the metrics we have, so we can be comfortable moving towards a day type aggregation (weekday/Sat/Sunday) in the future."
   ]
  },
  {
   "cell_type": "code",
   "execution_count": null,
   "id": "6cc5c3b6-2d45-4a3b-984d-037d2892c595",
   "metadata": {
    "tags": []
   },
   "outputs": [],
   "source": [
    "metric_cols = [\n",
    "    \"avg_prediction_error_minutes\",\n",
    "    \"pct_tu_accurate_minutes\",\n",
    "    \"pct_tu_predictions_early\",\n",
    "    \"pct_tu_predictions_ontime\", \n",
    "    \"pct_tu_predictions_late\",\n",
    "    \"n_predictions\",\n",
    "    \"avg_prediction_spread_minutes\",\n",
    "    \"pct_tu_complete_minutes\",\n",
    "]"
   ]
  },
  {
   "cell_type": "code",
   "execution_count": null,
   "id": "40eee46e-1b52-45f4-8c93-71f23a7e9984",
   "metadata": {
    "tags": []
   },
   "outputs": [],
   "source": [
    "def format_table(\n",
    "    df: pd.DataFrame, title: str\n",
    ") -> GT:\n",
    "    \"\"\"\n",
    "    Quickly format table of descriptives\n",
    "    \"\"\"\n",
    "    table = (\n",
    "        GT(df)\n",
    "         .fmt_percent(\n",
    "             columns=[\"pct_tu_accurate_minutes\", \"pct_tu_complete_minutes\",\n",
    "                      \"pct_tu_predictions_early\", \"pct_tu_predictions_ontime\",\n",
    "                      \"pct_tu_predictions_late\"\n",
    "                     ], \n",
    "             decimals=1\n",
    "         ).fmt_number(\n",
    "             columns = [\n",
    "                 \"avg_prediction_spread_minutes\", \n",
    "                 \"avg_prediction_error_minutes\", \n",
    "             ], decimals=2\n",
    "        ).fmt_number(\n",
    "             columns = [\"n_predictions\"], \n",
    "             decimals=0,\n",
    "         )\n",
    "        .cols_label(\n",
    "            avg_prediction_error_minutes = \"Prediction Error (minutes)\",\n",
    "            avg_prediction_spread_minutes = \"Prediction Spread / Wobble (minutes)\",\n",
    "            pct_tu_accurate_minutes = \"% Minutes with Accurate Prediction\",\n",
    "            pct_tu_complete_minutes = \"% Minutes with Trip Updates\",\n",
    "            pct_tu_predictions_early = \"% Early Predictions\",\n",
    "            pct_tu_predictions_ontime = \"% OnTime Predictions\",\n",
    "            pct_tu_predictions_late = \"% Late Predictions\",\n",
    "            n_predictions = \"Total Predictions\",\n",
    "        )\n",
    "        .tab_options(table_font_size=\"12px\")\n",
    "        .tab_header(title = title)\n",
    "\n",
    "    )\n",
    " \n",
    "    return table"
   ]
  },
  {
   "cell_type": "code",
   "execution_count": null,
   "id": "f8480f6e-fb7a-4546-8ef5-721d60f52606",
   "metadata": {
    "tags": []
   },
   "outputs": [],
   "source": [
    "# get all the percentiles, except counts, because we need to format separately\n",
    "format_table(\n",
    "    daytype_df[\n",
    "        daytype_df.day_type==\"Weekday\"\n",
    "    ][metric_cols].describe(\n",
    "        prep_data.PERCENTILE_LIST\n",
    "    ).drop(index=\"count\").reset_index(), \n",
    "    \"Weekday Descriptives\"\n",
    ")"
   ]
  },
  {
   "cell_type": "code",
   "execution_count": null,
   "id": "e417acd8-0a10-4b42-8a38-bb90242341be",
   "metadata": {
    "tags": []
   },
   "outputs": [],
   "source": [
    "# format the counts row by making it all numbers\n",
    "format_table(\n",
    "    daytype_df[\n",
    "        daytype_df.day_type==\"Weekday\"\n",
    "    ][metric_cols].describe().head(1), \n",
    "    \"\"\n",
    ").fmt_number(decimals=0)"
   ]
  },
  {
   "cell_type": "markdown",
   "id": "30dc58b8-dbf0-46c4-9b2a-19762f034568",
   "metadata": {},
   "source": [
    "## Priority Stops\n",
    "\n",
    "These are the weekday stops identified with either:\n",
    "* over 25% of predictions late\n",
    "* average prediction error of 3 minutes early *or* late\n",
    "\n",
    "It will be possible for operators to not have any stops that meet this threshold."
   ]
  },
  {
   "cell_type": "code",
   "execution_count": null,
   "id": "eecec474-626c-417c-bd2f-1a414a2a926a",
   "metadata": {},
   "outputs": [],
   "source": [
    "keep_cols = [\n",
    "    \"month\", \"year\", \"day_type\", \n",
    "    \"stop_id\", \"stop_name\",\n",
    "    \"pct_tu_predictions_early\", \"pct_tu_predictions_ontime\", \"pct_tu_predictions_late\",\n",
    "    \"avg_prediction_error_minutes\", \"avg_prediction_spread_minutes\",\n",
    "    \"prediction_error_label\", \"n_predictions\",\n",
    "    \"geometry\"\n",
    "]\n",
    "\n",
    "priority_df = daytype_df[\n",
    "    (daytype_df.day_type == \"Weekday\") & ( \n",
    "        (daytype_df.pct_tu_predictions_late > 0.25) & \n",
    "        (daytype_df.avg_prediction_error_minutes.abs() > 3) \n",
    "    )\n",
    "][keep_cols]\n",
    "\n",
    "if len(priority_df) > 0:\n",
    "\n",
    "    m = chart_utils.plot_basic_map(\n",
    "        priority_df, \n",
    "        plot_col = \"prediction_error_label\", \n",
    "        colorscale = chart_utils.FULL_CATEGORICAL_COLORS\n",
    "    )\n",
    "    \n",
    "else:\n",
    "    m = \"No stops fit this criteria, and that's a good thing!\"\n",
    "\n",
    "display(m)"
   ]
  },
  {
   "cell_type": "code",
   "execution_count": null,
   "id": "bafe6fe3-b98a-48c1-b9bb-6b2d433d1328",
   "metadata": {},
   "outputs": [],
   "source": []
  }
 ],
 "metadata": {
  "kernelspec": {
   "display_name": "Python 3 (ipykernel)",
   "language": "python",
   "name": "python3"
  },
  "language_info": {
   "codemirror_mode": {
    "name": "ipython",
    "version": 3
   },
   "file_extension": ".py",
   "mimetype": "text/x-python",
   "name": "python",
   "nbconvert_exporter": "python",
   "pygments_lexer": "ipython3",
   "version": "3.11.10"
  }
 },
 "nbformat": 4,
 "nbformat_minor": 5
}
