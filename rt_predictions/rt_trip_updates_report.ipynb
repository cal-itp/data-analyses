{
 "cells": [
  {
   "cell_type": "code",
   "execution_count": null,
   "id": "df299e42-ab1c-428e-b292-443a15bf08c2",
   "metadata": {
    "tags": []
   },
   "outputs": [],
   "source": [
    "%%capture\n",
    "\n",
    "import warnings\n",
    "warnings.filterwarnings(\"ignore\")\n",
    "\n",
    "import altair as alt\n",
    "import geopandas as gpd\n",
    "import pandas as pd\n",
    "\n",
    "import calitp_data_analysis.magics\n",
    "from great_tables import GT\n",
    "\n",
    "import viz_stop_metrics\n",
    "import chart_utils\n",
    "\n",
    "alt.data_transformers.enable(\"vegafusion\")"
   ]
  },
  {
   "cell_type": "code",
   "execution_count": null,
   "id": "6ddc53c0-44ac-4894-a13f-92f93e69f444",
   "metadata": {
    "tags": [
     "parameters"
    ]
   },
   "outputs": [],
   "source": [
    "# Comment out, this is `parameters` tagged cell\n",
    "#name = \"Torrance Schedule\""
   ]
  },
  {
   "cell_type": "code",
   "execution_count": null,
   "id": "39c971f8-0d82-4eb0-a718-7672e3afa25e",
   "metadata": {
    "tags": []
   },
   "outputs": [],
   "source": [
    "%%capture_parameters\n",
    "name"
   ]
  },
  {
   "cell_type": "code",
   "execution_count": null,
   "id": "7dd9d12f-b63e-481b-b937-a16d33a757a6",
   "metadata": {
    "tags": []
   },
   "outputs": [],
   "source": [
    "gdf1 = viz_stop_metrics.import_stop_df(\n",
    "    is_daily = True, filters = [[(\"name\", \"==\", name)]]\n",
    ")"
   ]
  },
  {
   "cell_type": "markdown",
   "id": "52bf3b76-d29f-4956-a010-29d297f5e638",
   "metadata": {
    "tags": []
   },
   "source": [
    "# {name} \n",
    "## Time-Series\n",
    "### Availability and Reliability of Acceptable StopTimeUpdate Messages\n",
    "\n",
    "* 2+ trip updates with stop arrival information in each minute interval\n",
    "* higher accuracy (prediction is accurate if it falls within the bounds of `-60ln(Time to Prediction+1.3) < Prediction Error < 60ln(Time\n",
    "to Prediction+1.5)`, the further out before arrival, the more generous the buffer.\n",
    "* Time period: 30 minutes before the arrival at stop"
   ]
  },
  {
   "cell_type": "code",
   "execution_count": null,
   "id": "5df2251d-d688-4134-8ee9-8aaad5470895",
   "metadata": {
    "tags": []
   },
   "outputs": [],
   "source": [
    "stop_grouping_cols = [\"name\", \"weekday_weekend\", \"stop_id\"]\n",
    "plot_cols = [\n",
    "    \"pct_accurate_minutes\", \"pct_complete_minutes\"\n",
    "]\n",
    "\n",
    "d = \"Weekday\"\n",
    "chart = chart_utils.make_2d_histogram(\n",
    "    gdf1[gdf1.weekday_weekend==d][stop_grouping_cols + plot_cols],\n",
    "    title = f\"% complete and accurate predictions for {d} trips by stop\"\n",
    ")\n",
    "\n",
    "chart"
   ]
  },
  {
   "cell_type": "code",
   "execution_count": null,
   "id": "a5cf6291-6dd0-4fba-b559-571c89960726",
   "metadata": {
    "tags": []
   },
   "outputs": [],
   "source": [
    "d = \"Saturday\"\n",
    "chart = chart_utils.make_2d_histogram(\n",
    "    gdf1[gdf1.weekday_weekend==d][stop_grouping_cols + plot_cols],\n",
    "    title = f\"% complete and accurate predictions for {d} trips by stop\"\n",
    ")\n",
    "\n",
    "chart"
   ]
  },
  {
   "cell_type": "code",
   "execution_count": null,
   "id": "0ae063b7-2fc7-4bd8-b639-5f2be4c703be",
   "metadata": {
    "tags": []
   },
   "outputs": [],
   "source": [
    "d = \"Sunday\"\n",
    "chart = chart_utils.make_2d_histogram(\n",
    "    gdf1[gdf1.weekday_weekend==d][stop_grouping_cols + plot_cols],\n",
    "    title = f\"% complete and accurate predictions for {d} trips by stop\"\n",
    ")\n",
    "\n",
    "chart"
   ]
  },
  {
   "cell_type": "code",
   "execution_count": null,
   "id": "6cc5c3b6-2d45-4a3b-984d-037d2892c595",
   "metadata": {
    "tags": []
   },
   "outputs": [],
   "source": [
    "metric_cols = [\n",
    "    \"avg_prediction_spread_minutes\",\n",
    "    \"avg_prediction_error_minutes\",\n",
    "    \"pct_accurate_minutes\",\n",
    "    \"pct_complete_minutes\",\n",
    "    \"avg_predictions_per_trip\",\n",
    "]"
   ]
  },
  {
   "cell_type": "code",
   "execution_count": null,
   "id": "40eee46e-1b52-45f4-8c93-71f23a7e9984",
   "metadata": {
    "tags": []
   },
   "outputs": [],
   "source": [
    "def format_table(df, title):\n",
    "    table = (\n",
    "        GT(df.describe().reset_index())\n",
    "         .fmt_percent(\n",
    "             columns=[\"pct_accurate_minutes\", \"pct_complete_minutes\"], \n",
    "             decimals=1\n",
    "         ).fmt_number(\n",
    "             columns = [\n",
    "                 \"avg_prediction_spread_minutes\", \n",
    "                 \"avg_prediction_error_minutes\", \n",
    "                 \"avg_predictions_per_trip\"\n",
    "             ], decimals=2)\n",
    "        .cols_label(\n",
    "            avg_prediction_error_minutes = \"Prediction Error (minutes)\",\n",
    "            avg_prediction_spread_minutes = \"Prediction Spread / Wobble (minutes)\",\n",
    "            pct_accurate_minutes = \"% Minutes with Accurate Prediction\",\n",
    "            pct_complete_minutes = \"% Minutes with Trip Updates\",\n",
    "            avg_predictions_per_trip = \"# Predictions in 30 Minutes Before Arrival\",\n",
    "        )\n",
    "        .tab_options(table_font_size=\"12px\")\n",
    "        .tab_header(title = title)\n",
    "    )\n",
    "    \n",
    "    return table"
   ]
  },
  {
   "cell_type": "code",
   "execution_count": null,
   "id": "f8480f6e-fb7a-4546-8ef5-721d60f52606",
   "metadata": {
    "tags": []
   },
   "outputs": [],
   "source": [
    "d = \"Weekday\"\n",
    "format_table(\n",
    "    gdf1[gdf1.weekday_weekend==d][metric_cols], f\"{d} Descriptives\"\n",
    ")"
   ]
  },
  {
   "cell_type": "code",
   "execution_count": null,
   "id": "0ece2e2f-4e8b-48c8-94cc-e256edc5a4f1",
   "metadata": {
    "tags": []
   },
   "outputs": [],
   "source": [
    "d = \"Saturday\"\n",
    "format_table(\n",
    "    gdf1[gdf1.weekday_weekend==d][metric_cols], f\"{d} Descriptives\"\n",
    ")"
   ]
  },
  {
   "cell_type": "code",
   "execution_count": null,
   "id": "b32bf05a-2a50-4263-9305-4cac7c720a09",
   "metadata": {
    "tags": []
   },
   "outputs": [],
   "source": [
    "d = \"Sunday\"\n",
    "format_table(\n",
    "    gdf1[gdf1.weekday_weekend==d][metric_cols], f\"{d} Descriptives\"\n",
    ")"
   ]
  },
  {
   "cell_type": "markdown",
   "id": "1123ea17-9610-4335-b6e7-014a844aebe9",
   "metadata": {},
   "source": [
    "### Prediction Accuracy \n",
    "\n",
    "* Find how \"accurate\" the prediction is, based on whether it falls within the bounds of `-60ln(Time to Prediction+1.3) < Prediction Error < 60ln(Time\n",
    "to Prediction+1.5)`, the further out before arrival, the more generous the buffer.\n",
    "* In contrast to the `True/False` of whether a prediction is deemed accurate or not, this metric finds the \"error\" in minutes.### Weekday Descriptives\n",
    "* Positive values = arrival came **after** the prediction. \n",
    "* Time period: 30 minutes before the arrival at stop"
   ]
  },
  {
   "cell_type": "code",
   "execution_count": null,
   "id": "14dc22a6-1834-47d7-b89f-8b670b3f31bf",
   "metadata": {
    "tags": []
   },
   "outputs": [],
   "source": [
    "plot_col = \"avg_prediction_error_minutes\"\n",
    "\n",
    "boxplot = chart_utils.make_boxplot_by_day_type(\n",
    "    gdf1, plot_col, \"Avg Prediction Error (minutes)\")\n",
    "\n",
    "boxplot"
   ]
  },
  {
   "cell_type": "markdown",
   "id": "083e4039-4644-433b-9d9f-fe7191f35050",
   "metadata": {},
   "source": [
    "### Availability of StopTimeUpdate Messages  \n",
    "\n",
    "* How many predictions are we getting for each stop (per trip, to normalize) in the 30 minute period before arrival?\n",
    "* Similar to the `True/False` whether there were at least 2 predictions per minute, this gets the counts (3 predictions per minute, for 30 minutes, yields 90 predictions).\n",
    "* Time period: 30 minutes before the arrival at stop"
   ]
  },
  {
   "cell_type": "code",
   "execution_count": null,
   "id": "e3254f92-e8d7-46bb-9be6-03248a8f4283",
   "metadata": {
    "tags": []
   },
   "outputs": [],
   "source": [
    "plot_col = \"avg_predictions_per_trip\"\n",
    "# in the 30 minute period before arrival\n",
    "\n",
    "boxplot = chart_utils.make_boxplot_by_day_type(\n",
    "    gdf1, plot_col, f\"# Predictions 30 min before Arrival\")\n",
    "\n",
    "boxplot"
   ]
  },
  {
   "cell_type": "markdown",
   "id": "c6da2140-c819-4619-a098-fbde87cdf9d7",
   "metadata": {},
   "source": [
    "## Aggregated Stops by Day Type \n",
    "\n",
    "Maps show the metrics by only **weekday** so far."
   ]
  },
  {
   "cell_type": "code",
   "execution_count": null,
   "id": "9bea753c-d402-4585-9c45-f6b3d52a7d91",
   "metadata": {},
   "outputs": [],
   "source": [
    "#del gdf1\n",
    "gdf2 = viz_stop_metrics.import_stop_df(\n",
    "    is_daily = False, filters = [[(\"name\", \"==\", name)]]\n",
    ")"
   ]
  },
  {
   "cell_type": "markdown",
   "id": "5de8c0f0-515c-49de-9703-95e1a09ae2b5",
   "metadata": {},
   "source": [
    "### Prediction Inconsistency (Wobble)\n",
    "* If the prediction is changing from minute to minute, a large spread would show up.\n",
    "* If the prediction is fairly consistent, we would see small spread.\n",
    "* It is possible for the predicted stop arrival to be **consistent, yet inaccurate** or **inconsistent, yet fairly accurate as it approaches the stop**.\n",
    "* These touch on different transit user experiences.\n",
    "  * Inconsistent predictions are difficult for trip planning in real-time, though keeping customers up-to-date with reliable stop arrivals can alleviate the experience.\n",
    "  * Consistently inaccurate predictions are difficult to plan around and can result in low trust."
   ]
  },
  {
   "cell_type": "code",
   "execution_count": null,
   "id": "d62267f5-1b1a-4641-917c-7f2dc6826a41",
   "metadata": {},
   "outputs": [],
   "source": [
    "stop_grouping_cols = [\"name\", \"weekday_weekend\", \"stop_id\", \"stop_name\"]\n",
    "\n",
    "plot_col = \"avg_prediction_error_minutes\"\n",
    "\n",
    "chart_utils.make_layered_histogram(\n",
    "    gdf2[stop_grouping_cols + [plot_col]],\n",
    "    plot_col,\n",
    "    step_size=0.25 # 15 sec\n",
    ").properties(\n",
    "    title = \"Avg Prediction Error (minutes)\",\n",
    ")"
   ]
  },
  {
   "cell_type": "code",
   "execution_count": null,
   "id": "c49367da-b726-42c1-bbb4-85a4ebb58a0e",
   "metadata": {
    "tags": []
   },
   "outputs": [],
   "source": [
    "plot_col = \"pct_accurate_minutes\"\n",
    "\n",
    "chart_utils.make_layered_histogram(\n",
    "    gdf2[stop_grouping_cols + [plot_col]],\n",
    "    plot_col,\n",
    "    step_size=0.05 \n",
    ").properties(\n",
    "    title = \"% Accurate Predictions\",\n",
    ")"
   ]
  },
  {
   "cell_type": "markdown",
   "id": "34a3cb6a-ffa7-495e-ac9b-73712277e60d",
   "metadata": {},
   "source": [
    "### Accurate Predictions"
   ]
  },
  {
   "cell_type": "code",
   "execution_count": null,
   "id": "3d75ec29-f7ee-437e-9177-0998a8cac27a",
   "metadata": {
    "tags": []
   },
   "outputs": [],
   "source": [
    "plot_col = \"pct_accurate_minutes\"\n",
    "m = chart_utils.stop_map_of_metric(gdf2[gdf2.weekday_weekend==\"Weekday\"], plot_col)\n",
    "m"
   ]
  },
  {
   "cell_type": "code",
   "execution_count": null,
   "id": "9eefa43c-097f-4fde-aa79-c6e5f1fb2cff",
   "metadata": {},
   "outputs": [],
   "source": []
  }
 ],
 "metadata": {
  "kernelspec": {
   "display_name": "Python 3 (ipykernel)",
   "language": "python",
   "name": "python3"
  },
  "language_info": {
   "codemirror_mode": {
    "name": "ipython",
    "version": 3
   },
   "file_extension": ".py",
   "mimetype": "text/x-python",
   "name": "python",
   "nbconvert_exporter": "python",
   "pygments_lexer": "ipython3",
   "version": "3.11.10"
  }
 },
 "nbformat": 4,
 "nbformat_minor": 5
}
