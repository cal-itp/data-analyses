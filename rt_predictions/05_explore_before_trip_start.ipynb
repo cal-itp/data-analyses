{
 "cells": [
  {
   "cell_type": "code",
   "execution_count": 1,
   "id": "5c4ea91d-8fda-459a-98e1-d26a50ec09d9",
   "metadata": {
    "tags": []
   },
   "outputs": [],
   "source": [
    "import os\n",
    "os.environ[\"CALITP_BQ_MAX_BYTES\"] = str(12_000_000_000_000)\n",
    "os.environ['USE_PYGEOS'] = '0'\n",
    "\n",
    "import pandas as pd\n",
    "from siuba import *\n",
    "\n",
    "from calitp_data_analysis.sql import query_sql\n",
    "from calitp_data_analysis.tables import tbls\n",
    "import shared_utils\n",
    "import datetime as dt\n",
    "import sample_query_materialized_tables as smpl"
   ]
  },
  {
   "cell_type": "code",
   "execution_count": 2,
   "id": "77fe1cd5-1556-4443-8d00-145e46ab5e72",
   "metadata": {},
   "outputs": [],
   "source": [
    "from segment_speed_utils.project_vars import (PREDICTIONS_GCS, \n",
    "                                              analysis_date)"
   ]
  },
  {
   "cell_type": "code",
   "execution_count": 3,
   "id": "7a2a7352-9155-48d5-bd5e-822e08093bb0",
   "metadata": {},
   "outputs": [],
   "source": [
    "import pytz\n",
    "\n",
    "import numpy as np"
   ]
  },
  {
   "cell_type": "code",
   "execution_count": 4,
   "id": "b8ad89c6-c7a0-4ccf-ad00-20a538165d15",
   "metadata": {},
   "outputs": [
    {
     "data": {
      "text/plain": [
       "'gs://calitp-analytics-data/data-analyses/rt_predictions/'"
      ]
     },
     "execution_count": 4,
     "metadata": {},
     "output_type": "execute_result"
    }
   ],
   "source": [
    "PREDICTIONS_GCS"
   ]
  },
  {
   "cell_type": "code",
   "execution_count": 7,
   "id": "6a224555-61ed-43ef-9079-16fe1c949aa3",
   "metadata": {},
   "outputs": [],
   "source": [
    "summarized_df = pd.read_parquet(f\"{PREDICTIONS_GCS}st_advance_samples_summarized_2023-03-15.parquet\")"
   ]
  },
  {
   "cell_type": "code",
   "execution_count": 8,
   "id": "a997b5ca-cbd0-4ec1-a50c-03f56b17af0b",
   "metadata": {},
   "outputs": [
    {
     "data": {
      "text/html": [
       "<div>\n",
       "<style scoped>\n",
       "    .dataframe tbody tr th:only-of-type {\n",
       "        vertical-align: middle;\n",
       "    }\n",
       "\n",
       "    .dataframe tbody tr th {\n",
       "        vertical-align: top;\n",
       "    }\n",
       "\n",
       "    .dataframe thead th {\n",
       "        text-align: right;\n",
       "    }\n",
       "</style>\n",
       "<table border=\"1\" class=\"dataframe\">\n",
       "  <thead>\n",
       "    <tr style=\"text-align: right;\">\n",
       "      <th></th>\n",
       "      <th>trip_id</th>\n",
       "      <th>organization_name</th>\n",
       "      <th>route_type</th>\n",
       "      <th>max_advance_min</th>\n",
       "      <th>updates_per_min</th>\n",
       "      <th>sample_period</th>\n",
       "    </tr>\n",
       "  </thead>\n",
       "  <tbody>\n",
       "    <tr>\n",
       "      <th>0</th>\n",
       "      <td>10002011240802-DEC22</td>\n",
       "      <td>Los Angeles County Metropolitan Transportation...</td>\n",
       "      <td>3</td>\n",
       "      <td>44.0</td>\n",
       "      <td>3.0</td>\n",
       "      <td>am</td>\n",
       "    </tr>\n",
       "    <tr>\n",
       "      <th>1</th>\n",
       "      <td>10002011240812-DEC22</td>\n",
       "      <td>Los Angeles County Metropolitan Transportation...</td>\n",
       "      <td>3</td>\n",
       "      <td>45.0</td>\n",
       "      <td>2.9</td>\n",
       "      <td>am</td>\n",
       "    </tr>\n",
       "    <tr>\n",
       "      <th>2</th>\n",
       "      <td>10002011240822-DEC22</td>\n",
       "      <td>Los Angeles County Metropolitan Transportation...</td>\n",
       "      <td>3</td>\n",
       "      <td>45.0</td>\n",
       "      <td>2.9</td>\n",
       "      <td>am</td>\n",
       "    </tr>\n",
       "  </tbody>\n",
       "</table>\n",
       "</div>"
      ],
      "text/plain": [
       "                trip_id                                  organization_name  \\\n",
       "0  10002011240802-DEC22  Los Angeles County Metropolitan Transportation...   \n",
       "1  10002011240812-DEC22  Los Angeles County Metropolitan Transportation...   \n",
       "2  10002011240822-DEC22  Los Angeles County Metropolitan Transportation...   \n",
       "\n",
       "  route_type  max_advance_min  updates_per_min sample_period  \n",
       "0          3             44.0              3.0            am  \n",
       "1          3             45.0              2.9            am  \n",
       "2          3             45.0              2.9            am  "
      ]
     },
     "execution_count": 8,
     "metadata": {},
     "output_type": "execute_result"
    }
   ],
   "source": [
    "summarized_df >> head(3)"
   ]
  },
  {
   "cell_type": "code",
   "execution_count": 6,
   "id": "75c2fe8c-b75e-4ad3-9f37-d287f5233ddb",
   "metadata": {},
   "outputs": [
    {
     "data": {
      "text/plain": [
       "datetime.datetime(2023, 3, 15, 0, 0)"
      ]
     },
     "execution_count": 6,
     "metadata": {},
     "output_type": "execute_result"
    }
   ],
   "source": [
    "analysis_date = dt.datetime.fromisoformat(analysis_date)\n",
    "analysis_date"
   ]
  },
  {
   "cell_type": "code",
   "execution_count": null,
   "id": "0c29e0b4-d22b-4c30-a3a6-baa071bb701c",
   "metadata": {},
   "outputs": [],
   "source": [
    "service_levels = smpl.get_service_levels()\n",
    "tu_datasets = smpl.get_tu_datasets()\n",
    "all_data_service = smpl.filter_join_datasets_service(tu_datasets, service_levels)\n",
    "chunks = smpl.chunk_by_svc_hours(all_data_service)"
   ]
  },
  {
   "cell_type": "code",
   "execution_count": null,
   "id": "cbbb323a-c70a-47ad-8d39-ba8053b3b1c3",
   "metadata": {
    "tags": []
   },
   "outputs": [],
   "source": [
    "chunks[0]"
   ]
  },
  {
   "cell_type": "markdown",
   "id": "999da134-84e0-4e17-8ddb-d12b119f4a88",
   "metadata": {},
   "source": [
    "## get/filter sched"
   ]
  },
  {
   "cell_type": "code",
   "execution_count": null,
   "id": "df066979-03ef-4da0-a180-f68ad16d46b3",
   "metadata": {},
   "outputs": [],
   "source": [
    "sampling_periods = smpl.sampling_periods\n",
    "sampling_periods"
   ]
  },
  {
   "cell_type": "code",
   "execution_count": null,
   "id": "55ba4f7f-892a-428f-be09-19f58182ffe2",
   "metadata": {},
   "outputs": [],
   "source": [
    "time = sampling_periods['am'][0].time()"
   ]
  },
  {
   "cell_type": "code",
   "execution_count": null,
   "id": "a0bf61df-b407-49f2-b3de-29310e8b003a",
   "metadata": {},
   "outputs": [],
   "source": [
    "time_to_sec = lambda time: time.hour * 60**2 + time.minute * 60"
   ]
  },
  {
   "cell_type": "code",
   "execution_count": null,
   "id": "79824579-6870-4a16-b0cf-f162dd81bb5b",
   "metadata": {},
   "outputs": [],
   "source": [
    "time_to_sec(time)"
   ]
  },
  {
   "cell_type": "code",
   "execution_count": null,
   "id": "75f8f46a-0c0e-439d-aeb2-072aa77bc09e",
   "metadata": {},
   "outputs": [],
   "source": [
    "def get_schedule_df(sampling_period, chunk_df):\n",
    "    \n",
    "    start_sec = time_to_sec(sampling_period[0].time())\n",
    "    end_sec = time_to_sec(sampling_period[1].time())\n",
    "    \n",
    "    daily_trips = (tbls.mart_gtfs.fct_daily_scheduled_trips()\n",
    "                   >> filter(_.trip_first_departure_sec > start_sec,\n",
    "                           _.trip_first_departure_sec < end_sec)\n",
    "                   >> filter(_.gtfs_dataset_key.isin(\n",
    "                       chunk_df.associated_schedule_gtfs_dataset_key))\n",
    "                   >> filter(_.activity_date == analysis_date)\n",
    "                   >> select(_.name, _.gtfs_dataset_key, _.trip_id,\n",
    "                             _.activity_date, _.feed_key, _.route_type,\n",
    "                            )\n",
    "                   >> collect()\n",
    "                  )\n",
    "    \n",
    "    chunk_tu_url_df = chunk_df >> select(_.tu_base64_url, _.associated_schedule_gtfs_dataset_key,\n",
    "                                        _.organization_name)\n",
    "    daily_trips =  daily_trips >> inner_join(_, chunk_tu_url_df,\n",
    "                                     on = {'gtfs_dataset_key': 'associated_schedule_gtfs_dataset_key'})\n",
    "    return daily_trips >> select(-_.gtfs_dataset_key)\n",
    "    "
   ]
  },
  {
   "cell_type": "code",
   "execution_count": null,
   "id": "5d5db7d8-11c7-4f76-8a49-6f4fe9d01390",
   "metadata": {},
   "outputs": [],
   "source": [
    "am_0_sched = get_schedule_df(sampling_periods['am'], chunks[0])"
   ]
  },
  {
   "cell_type": "code",
   "execution_count": null,
   "id": "ca71342a-81cb-44de-be7f-effa2356396d",
   "metadata": {},
   "outputs": [],
   "source": [
    "am_0_sched >> head(3)"
   ]
  },
  {
   "cell_type": "code",
   "execution_count": null,
   "id": "8dc9a573-c64f-492e-b6a0-94831bb18db4",
   "metadata": {},
   "outputs": [],
   "source": [
    "am_6_sched = get_schedule_df(sampling_periods['am'], chunks[6])"
   ]
  },
  {
   "cell_type": "code",
   "execution_count": null,
   "id": "26c49a19-3348-45fe-988f-005995660483",
   "metadata": {},
   "outputs": [],
   "source": [
    "am_3_sched = get_schedule_df(sampling_periods['am'], chunks[3])"
   ]
  },
  {
   "cell_type": "markdown",
   "id": "98d43db0-ac50-4ff1-a62c-7ee427ec7d79",
   "metadata": {},
   "source": [
    "## read back in, join with sched"
   ]
  },
  {
   "cell_type": "code",
   "execution_count": null,
   "id": "c4063779-e1d6-4de6-8d58-fca7b7540c61",
   "metadata": {},
   "outputs": [],
   "source": [
    "def get_period_chunk(sample_period, chunk):\n",
    "    assert sample_period in ['am', 'mid', 'pm']\n",
    "    assert chunk in range(7)\n",
    "    return pd.read_parquet(\n",
    "        f\"{PREDICTIONS_GCS}st_updates_2023-03-15_{sample_period}_sample/\"\n",
    "        f\"chunk_{chunk}.parquet\")"
   ]
  },
  {
   "cell_type": "code",
   "execution_count": null,
   "id": "2c0a9648-df3c-4153-8612-340afa626c96",
   "metadata": {},
   "outputs": [],
   "source": [
    "am_6 = get_period_chunk('am', 6)"
   ]
  },
  {
   "cell_type": "code",
   "execution_count": null,
   "id": "738eb6e3-fd3b-402a-8cae-73f1c1967c57",
   "metadata": {},
   "outputs": [],
   "source": [
    "am_3 = get_period_chunk('am', 3)"
   ]
  },
  {
   "cell_type": "code",
   "execution_count": null,
   "id": "b3065939-6149-4e5b-b8e1-4a595c272533",
   "metadata": {},
   "outputs": [],
   "source": [
    "am_0 = get_period_chunk('am', 0)"
   ]
  },
  {
   "cell_type": "code",
   "execution_count": null,
   "id": "aa42bbb8-f0ec-4bc0-9f8b-041f5be5ce33",
   "metadata": {},
   "outputs": [],
   "source": [
    "am_0 >> head(3)"
   ]
  },
  {
   "cell_type": "code",
   "execution_count": null,
   "id": "e5f8e0d6-084f-44f7-b327-b77113b3974d",
   "metadata": {},
   "outputs": [],
   "source": [
    "def join_trips(sched_chunk_df, tu_chunk_df):\n",
    "    \n",
    "    sched_for_join = sched_chunk_df >> select(_.trip_id, _.tu_base64_url, _.feed_key,\n",
    "                                             _.organization_name, _.route_type)\n",
    "    tu_sched_joined = tu_chunk_df >> inner_join(_, sched_for_join, \n",
    "                   on = {'trip_id': 'trip_id', 'base64_url': 'tu_base64_url'})\n",
    "    return tu_sched_joined"
   ]
  },
  {
   "cell_type": "code",
   "execution_count": null,
   "id": "80d4a4fa-950d-4178-aba1-73022592fb54",
   "metadata": {},
   "outputs": [],
   "source": [
    "tu_sched_joined.columns"
   ]
  },
  {
   "cell_type": "code",
   "execution_count": null,
   "id": "e5b35a2b-c4dc-4b84-889e-f44bc1e96c3a",
   "metadata": {},
   "outputs": [],
   "source": [
    "def check_subset_first_stop(tu_sched_joined):\n",
    "    '''\n",
    "    check if stop_sequence is complete from trip updates.\n",
    "    if so, use that. Otherwise query dim_stop_times and \n",
    "    fill in (only) missing values\n",
    "    '''\n",
    "    if tu_sched_joined.stop_sequence.isna().any():\n",
    "        print('filling in some stop_sequence from schedule')\n",
    "        dim_st = (tbls.mart_gtfs.dim_stop_times()\n",
    "              >> select(_.feed_key, _.trip_id, _.stop_id,\n",
    "                       _.st_stop_sequence == _.stop_sequence)\n",
    "              >> filter(_.feed_key.isin(tu_sched_joined.feed_key.unique()))\n",
    "              >> filter(_.trip_id.isin(tu_sched_joined.trip_id.unique()))\n",
    "              >> collect()\n",
    "             ) # do this here...\n",
    "\n",
    "        joined = tu_sched_joined >> inner_join(_, dim_st,\n",
    "                                              on = {'feed_key': 'feed_key',\n",
    "                                                   'trip_id': 'trip_id',\n",
    "                                                   'stop_id': 'stop_id'})\n",
    "\n",
    "        # important to use sequence from trip updates if present\n",
    "        joined['stop_sequence'] = joined['stop_sequence'].fillna(joined['st_stop_sequence'])\n",
    "    else:\n",
    "        joined = tu_sched_joined\n",
    "    \n",
    "    first_tu_stops = (joined\n",
    "                  >> group_by(_.trip_id)\n",
    "                  >> filter(_.stop_sequence == _.stop_sequence.min())\n",
    "                  >> ungroup()\n",
    "                 )\n",
    "    return first_tu_stops"
   ]
  },
  {
   "cell_type": "code",
   "execution_count": null,
   "id": "99599d85-47e3-410e-8cae-7b57d2863990",
   "metadata": {},
   "outputs": [],
   "source": [
    "pacific = pytz.timezone('US/Pacific')"
   ]
  },
  {
   "cell_type": "code",
   "execution_count": null,
   "id": "77a25ebf-7557-4100-b829-5aa74220d95c",
   "metadata": {},
   "outputs": [],
   "source": [
    "localize_if_provided = lambda ts: pacific.localize(ts) if not pd.isna(ts) else ts"
   ]
  },
  {
   "cell_type": "code",
   "execution_count": null,
   "id": "df2b3a9d-7ab6-4a2e-965f-aace86b23fb9",
   "metadata": {},
   "outputs": [],
   "source": [
    "end_ts = pacific.localize(dt.datetime.combine(analysis_date, dt.time(23, 59)))"
   ]
  },
  {
   "cell_type": "code",
   "execution_count": null,
   "id": "a6f6afcf-c4f9-4bba-865d-b6f9b36eab5c",
   "metadata": {},
   "outputs": [],
   "source": [
    "def add_tz_choose_col(first_stop_df):\n",
    "    \n",
    "    first_stop_df = (first_stop_df\n",
    "                  >> mutate(tu_ts_pacific = _.trip_update_timestamp.apply(\n",
    "                      lambda x: x.astimezone(pacific)))\n",
    "                 )\n",
    "    \n",
    "    first_stop_df = (first_stop_df\n",
    "                 >> mutate(arrival_time_pacific = _.arrival_time_pacific.apply(localize_if_provided))\n",
    "                 >> mutate(departure_time_pacific = _.departure_time_pacific.apply(localize_if_provided))\n",
    "                ).dropna(subset = ['trip_update_timestamp'])\n",
    "    \n",
    "    return first_stop_df"
   ]
  },
  {
   "cell_type": "code",
   "execution_count": null,
   "id": "68f3a7c8-05f7-4705-ab06-d1f1f37dda33",
   "metadata": {},
   "outputs": [],
   "source": [
    "def calculate_advance_time(first_stop_df):\n",
    "    \n",
    "    df = first_stop_df\n",
    "    df[['departure_time_pacific', 'arrival_time_pacific']] = df[['departure_time_pacific', 'arrival_time_pacific']].fillna(end_ts)\n",
    "    df['min_arr_dep_pacific'] = df[['departure_time_pacific', 'arrival_time_pacific']].values.min(axis=1)\n",
    "    df = df >> mutate(time_in_advance = _.min_arr_dep_pacific - _.tu_ts_pacific)\n",
    "    return df"
   ]
  },
  {
   "cell_type": "code",
   "execution_count": null,
   "id": "955ccb0d-6314-47de-ab85-7856195df2b1",
   "metadata": {},
   "outputs": [],
   "source": [
    "tu_sched_joined = join_trips(am_0_sched, am_0)"
   ]
  },
  {
   "cell_type": "code",
   "execution_count": null,
   "id": "d40a62cc-0c4a-4af4-94dd-4a05c1d5587d",
   "metadata": {},
   "outputs": [],
   "source": [
    "# tu_sched_joined = join_trips(am_3_sched, am_3)"
   ]
  },
  {
   "cell_type": "code",
   "execution_count": null,
   "id": "f0e2fda0-248a-4eaf-bcc8-883f68bf5ee6",
   "metadata": {},
   "outputs": [],
   "source": [
    "# tu_sched_joined = join_trips(am_6_sched, am_6)"
   ]
  },
  {
   "cell_type": "code",
   "execution_count": null,
   "id": "ce4490e0-6502-48d1-8fad-e08305f07efe",
   "metadata": {},
   "outputs": [],
   "source": [
    "first_stop = check_subset_first_stop(tu_sched_joined)"
   ]
  },
  {
   "cell_type": "code",
   "execution_count": null,
   "id": "53005bff-1c93-4f5d-8801-ec3a04c40f3e",
   "metadata": {},
   "outputs": [],
   "source": [
    "with_tz = add_tz_choose_col(first_stop)"
   ]
  },
  {
   "cell_type": "code",
   "execution_count": null,
   "id": "158ca26f-b51e-4cbd-bfcf-1aa9f64799b4",
   "metadata": {},
   "outputs": [],
   "source": [
    "advance_calculated = calculate_advance_time(with_tz)"
   ]
  },
  {
   "cell_type": "code",
   "execution_count": null,
   "id": "268bd3a5-e343-4259-a84a-c791afad72f9",
   "metadata": {},
   "outputs": [],
   "source": [
    "# advance_calculated"
   ]
  },
  {
   "cell_type": "code",
   "execution_count": null,
   "id": "6ef91b5b-ab35-4f63-ad92-14aacc4ef7ca",
   "metadata": {},
   "outputs": [],
   "source": [
    "df2 = (advance_calculated\n",
    "       >> group_by(_.trip_id, _.organization_name, _.route_type)\n",
    "       >> mutate(max_advance = _.time_in_advance.max())\n",
    "       >> mutate(max_advance_min = _.max_advance.apply(lambda x: x.seconds / 60))\n",
    "       >> mutate(updates_per_min = _.shape[0] / _.max_advance_min)\n",
    "       >> summarize(max_advance_min = np.round(_.max_advance_min.max(), 0),\n",
    "                   updates_per_min = np.round(_.updates_per_min.max(), 1))\n",
    "      )"
   ]
  },
  {
   "cell_type": "code",
   "execution_count": null,
   "id": "e9652071-f5c2-45d3-b27a-7a18ae7a789e",
   "metadata": {},
   "outputs": [],
   "source": [
    "df2 >> head(3)"
   ]
  },
  {
   "cell_type": "markdown",
   "id": "01c43051-748c-4c3e-a44b-69052deaddc5",
   "metadata": {},
   "source": [
    "## sandbox -- plot"
   ]
  },
  {
   "cell_type": "code",
   "execution_count": null,
   "id": "13882b98-7cbf-4c52-acf9-fb2f4659f6a7",
   "metadata": {},
   "outputs": [],
   "source": [
    "df2['max_advance_min'] = df2['max_advance'].apply(lambda x: x.seconds / 60)"
   ]
  },
  {
   "cell_type": "code",
   "execution_count": null,
   "id": "d3a3deb4-4048-4ab9-8eb3-2a80f4fc2f88",
   "metadata": {},
   "outputs": [],
   "source": [
    "df2 = df2 >> select(-_.max_advance)"
   ]
  },
  {
   "cell_type": "code",
   "execution_count": null,
   "id": "1739f1dc-bf13-48d5-a2de-822de7560653",
   "metadata": {},
   "outputs": [],
   "source": [
    "import altair as alt"
   ]
  },
  {
   "cell_type": "code",
   "execution_count": null,
   "id": "a90d6e19-ac90-4e6e-aeec-cad569da32b4",
   "metadata": {},
   "outputs": [],
   "source": [
    "df2 >> head(3)"
   ]
  },
  {
   "cell_type": "code",
   "execution_count": null,
   "id": "c0321bbc-9c1c-4f16-a946-297ae590cd36",
   "metadata": {},
   "outputs": [],
   "source": [
    "alt.Chart(df2).mark_point().encode(x='max_advance_min')"
   ]
  },
  {
   "cell_type": "code",
   "execution_count": null,
   "id": "935f8e74-9a94-488c-9a08-1a5cda852e82",
   "metadata": {},
   "outputs": [],
   "source": [
    "df2.max_advance_min.median()"
   ]
  },
  {
   "cell_type": "code",
   "execution_count": null,
   "id": "20b9f0a3-94a3-4516-b133-0057f7542f7b",
   "metadata": {},
   "outputs": [],
   "source": [
    "alt.Chart(df2).mark_bar().encode(\n",
    "    alt.X('max_advance_min', bin=True),\n",
    "    alt.Y('count()'),\n",
    "    alt.Color('organization_name')\n",
    ").interactive()"
   ]
  },
  {
   "cell_type": "code",
   "execution_count": null,
   "id": "29fc876c-fd11-4dc7-bea0-0071d0066fea",
   "metadata": {},
   "outputs": [],
   "source": [
    "chart = alt.Chart(df2).mark_point().encode(\n",
    "    x='organization_name',\n",
    "    y='max_advance_min',\n",
    "    color='organization_name',\n",
    "    tooltip='trip_id'\n",
    ").interactive()"
   ]
  },
  {
   "cell_type": "code",
   "execution_count": null,
   "id": "b66f22a3-e253-4952-a2a1-5ae68b029b2b",
   "metadata": {},
   "outputs": [],
   "source": [
    "import chart_utils"
   ]
  },
  {
   "cell_type": "code",
   "execution_count": null,
   "id": "19713349-7f46-4c81-96e8-120e5422c286",
   "metadata": {},
   "outputs": [],
   "source": [
    "df2 >> group_by(_.organization_name) >> summarize(med_adv = _.max_advance_min.median())"
   ]
  },
  {
   "cell_type": "code",
   "execution_count": null,
   "id": "0a351350-7cb7-433c-b199-077bfc29a385",
   "metadata": {},
   "outputs": [],
   "source": [
    "chart_utils.chart_size(chart)"
   ]
  },
  {
   "cell_type": "markdown",
   "id": "7a334adf-3dec-4a5e-a740-f6f7d7c44c6c",
   "metadata": {
    "tags": []
   },
   "source": [
    "### sandbox"
   ]
  },
  {
   "cell_type": "markdown",
   "id": "6670c85a-9890-4bc5-91dd-1cbc6523f9ae",
   "metadata": {
    "tags": []
   },
   "source": [
    "## Only Caltrain is missing stop_sequence..."
   ]
  },
  {
   "cell_type": "code",
   "execution_count": null,
   "id": "a97d350f-07cd-4692-9f6e-97a587ace82f",
   "metadata": {
    "tags": []
   },
   "outputs": [],
   "source": [
    "for period in ['am', 'mid', 'pm']:\n",
    "    for chunk in range(7):\n",
    "        _df = get_period_chunk(period, chunk)\n",
    "        print(f'{period}, {chunk}')\n",
    "        print(_df.stop_sequence.isna().value_counts())\n",
    "        del(_df)"
   ]
  },
  {
   "cell_type": "code",
   "execution_count": null,
   "id": "3e51c5cd-d21b-4221-88ab-d9e6cc7db95a",
   "metadata": {},
   "outputs": [],
   "source": [
    "df = get_period_chunk('am', 6)"
   ]
  },
  {
   "cell_type": "code",
   "execution_count": null,
   "id": "39357155-67c8-4e27-8dfc-6d67f05812d2",
   "metadata": {},
   "outputs": [],
   "source": [
    "df.stop_sequence.isna().value_counts()[True]"
   ]
  },
  {
   "cell_type": "code",
   "execution_count": null,
   "id": "6545cbed-6ea9-41ad-9f54-8c5e273690b8",
   "metadata": {},
   "outputs": [],
   "source": [
    "df = df >> mutate(no_seq = _.stop_sequence.isna())"
   ]
  },
  {
   "cell_type": "code",
   "execution_count": null,
   "id": "c6900722-e1b7-4986-9052-01ed1389bc2d",
   "metadata": {},
   "outputs": [],
   "source": [
    "df >> count(_.no_seq)"
   ]
  },
  {
   "cell_type": "code",
   "execution_count": null,
   "id": "de3b5f36-a3ef-4d42-9c1a-cba053ccfa81",
   "metadata": {},
   "outputs": [],
   "source": [
    "df2 = df >> group_by(_.base64_url) >> summarize(any_no_seq = _.no_seq.any()) >> filter(_.any_no_seq)"
   ]
  },
  {
   "cell_type": "code",
   "execution_count": null,
   "id": "1836e9ac-e97a-45d5-8c5a-4fe6dd176481",
   "metadata": {},
   "outputs": [],
   "source": [
    "df2.base64_url.iloc[0]"
   ]
  },
  {
   "cell_type": "code",
   "execution_count": null,
   "id": "15926027-2eaf-4d69-b6a3-5bbe1ada1484",
   "metadata": {},
   "outputs": [],
   "source": [
    "chunks[6] >> filter(_.tu_base64_url == df2.base64_url.iloc[0])"
   ]
  },
  {
   "cell_type": "markdown",
   "id": "5764b2f5-2023-4a5b-8cf3-51198c5c2728",
   "metadata": {},
   "source": [
    "# Sandbox"
   ]
  },
  {
   "cell_type": "markdown",
   "id": "9b900878-e634-43c8-bc05-cf33d1ed2384",
   "metadata": {},
   "source": [
    "## schedule sandbox, match example"
   ]
  },
  {
   "cell_type": "code",
   "execution_count": null,
   "id": "e20edc0e-f5d9-4272-8c86-990e968beca1",
   "metadata": {},
   "outputs": [],
   "source": [
    "import pytz"
   ]
  },
  {
   "cell_type": "code",
   "execution_count": null,
   "id": "fe606a61-06f2-42a0-bdc4-a614e17619be",
   "metadata": {},
   "outputs": [],
   "source": [
    "pacific = pytz.timezone('US/Pacific')"
   ]
  },
  {
   "cell_type": "code",
   "execution_count": null,
   "id": "90e8c6d3-9f65-4178-8d39-ec5555750811",
   "metadata": {},
   "outputs": [],
   "source": [
    "bbb_ix_df = shared_utils.rt_utils.get_speedmaps_ix_df(analysis_date, 300)"
   ]
  },
  {
   "cell_type": "code",
   "execution_count": null,
   "id": "39b425d1-7910-4f0a-b037-a09406068893",
   "metadata": {},
   "outputs": [],
   "source": [
    "bbb_ix_df"
   ]
  },
  {
   "cell_type": "code",
   "execution_count": null,
   "id": "c5801271-1025-45b7-a13d-158f25c87da5",
   "metadata": {},
   "outputs": [],
   "source": [
    "bbb_trips = shared_utils.rt_utils.get_trips(bbb_ix_df)"
   ]
  },
  {
   "cell_type": "code",
   "execution_count": null,
   "id": "7754a906-b0c2-45ae-b19d-6b4d182be051",
   "metadata": {},
   "outputs": [],
   "source": [
    "bbb_st = shared_utils.rt_utils.get_st(bbb_ix_df, bbb_trips)"
   ]
  },
  {
   "cell_type": "code",
   "execution_count": null,
   "id": "cab5bd63-4370-4f2f-8591-549f2a467682",
   "metadata": {},
   "outputs": [],
   "source": [
    "bbb_st.arrival_time.iloc[0].split(':')"
   ]
  },
  {
   "cell_type": "code",
   "execution_count": null,
   "id": "5848ed89-03da-4ae0-8924-ac6bf42c9a82",
   "metadata": {
    "tags": []
   },
   "outputs": [],
   "source": [
    "shared_utils.rt_utils.show_full_df(bbb_st >> group_by(_.trip_id) >> summarize(min_arrival = _.arrival_time.min()))"
   ]
  },
  {
   "cell_type": "code",
   "execution_count": null,
   "id": "26f0512d-78ce-4312-8885-4f44bfe5793f",
   "metadata": {
    "tags": []
   },
   "outputs": [],
   "source": [
    "# df = (\n",
    "#     tbls.mart_ad_hoc.fct_stop_time_updates_20230315_to_20230321()\n",
    "#     >> filter(_.service_date == analysis_date,\n",
    "#               # _.trip_id == '894836',\n",
    "#               _.arrival_time_pacific >= pac_ts,\n",
    "#               _.arrival_time_pacific < pac_ts2,\n",
    "#              _.base64_url == bbb_base64)\n",
    "#     >> select(_.arrival_time_pacific, _.departure_time_pacific,\n",
    "#              _.key, _.gtfs_dataset_key, _.base64_url,\n",
    "#               _._extract_ts, _.trip_update_timestamp, _.trip_id,\n",
    "#              _.stop_sequence, _.stop_id, _.service_date)\n",
    "#     >> collect()\n",
    "# )"
   ]
  },
  {
   "cell_type": "code",
   "execution_count": null,
   "id": "62290371-328a-4387-8c56-ae3bed6e68a1",
   "metadata": {},
   "outputs": [],
   "source": [
    "df.base64_url.iloc[0]"
   ]
  },
  {
   "cell_type": "code",
   "execution_count": null,
   "id": "90567c3f-5291-4f09-982e-544b10bdee80",
   "metadata": {},
   "outputs": [],
   "source": [
    "df.columns"
   ]
  },
  {
   "cell_type": "code",
   "execution_count": null,
   "id": "f088a3cd-f8bf-470b-8e4f-5379d3769da8",
   "metadata": {},
   "outputs": [],
   "source": [
    "df.to_parquet('bbb_example.parquet')"
   ]
  },
  {
   "cell_type": "code",
   "execution_count": null,
   "id": "b4c85fc5-6c5e-4f9a-8ad1-821724177089",
   "metadata": {},
   "outputs": [],
   "source": [
    "df.stop_sequence.isna().value_counts()"
   ]
  },
  {
   "cell_type": "code",
   "execution_count": null,
   "id": "3e34d3b9-9b7e-455a-ba5a-ca07fc23e333",
   "metadata": {},
   "outputs": [],
   "source": [
    "filtered._extract_ts.iloc[0]"
   ]
  },
  {
   "cell_type": "code",
   "execution_count": null,
   "id": "c05668e1-7424-49f4-96a3-64092df87d81",
   "metadata": {},
   "outputs": [],
   "source": [
    "filtered = df >> filter(_.trip_id == '893051', _.stop_sequence == 2) >> arrange(_._extract_ts)\n",
    "filtered = filtered >> mutate(arrival_time_pacific = _.arrival_time_pacific.apply(lambda x: pacific.localize(x)))\n",
    "filtered = filtered >> mutate(time_in_advance = _.arrival_time_pacific - _._extract_ts)\n",
    "filtered = filtered >> select(-_.key, -_.gtfs_dataset_key, -_.base64_url)"
   ]
  },
  {
   "cell_type": "code",
   "execution_count": null,
   "id": "3262b1bd-231e-468c-8ade-0fe9f18f7168",
   "metadata": {},
   "outputs": [],
   "source": [
    "## yep, this is what we wanna see!\n",
    "## can do a tighter arrival time filter =-- 30min periods??"
   ]
  },
  {
   "cell_type": "code",
   "execution_count": null,
   "id": "f0737982-14eb-4420-8844-6199079cdfa7",
   "metadata": {
    "tags": []
   },
   "outputs": [],
   "source": [
    "shared_utils.rt_utils.show_full_df(filtered)"
   ]
  },
  {
   "cell_type": "code",
   "execution_count": null,
   "id": "f2e9633f-11a1-43cc-adc9-56970325abcb",
   "metadata": {},
   "outputs": [],
   "source": [
    "## sampling approach: use 8a, noon, 11p for all operators?"
   ]
  },
  {
   "cell_type": "code",
   "execution_count": null,
   "id": "ee5e2a2c-77ca-4305-9fb4-1a3d09151149",
   "metadata": {},
   "outputs": [],
   "source": [
    "pac_ts = dt.datetime.combine(analysis_date, dt.time(8, 0))"
   ]
  },
  {
   "cell_type": "code",
   "execution_count": null,
   "id": "c1d6991c-1895-40fc-9808-96c5604834ca",
   "metadata": {},
   "outputs": [],
   "source": [
    "pac_ts_sec = int(pac_ts.timestamp())"
   ]
  },
  {
   "cell_type": "code",
   "execution_count": null,
   "id": "f20fb211-0cfa-4b39-baac-f0fde4d26eb6",
   "metadata": {},
   "outputs": [],
   "source": [
    "pac_ts2 = pac_ts + dt.timedelta(hours = 1)"
   ]
  },
  {
   "cell_type": "code",
   "execution_count": null,
   "id": "db0d52ac-a496-4286-8826-dde0261aa3b5",
   "metadata": {},
   "outputs": [],
   "source": [
    "pac_ts2_sec = int(pac_ts2.timestamp())"
   ]
  },
  {
   "cell_type": "code",
   "execution_count": null,
   "id": "68af8a17-302f-4ded-9317-dde520b7b1fe",
   "metadata": {},
   "outputs": [],
   "source": []
  }
 ],
 "metadata": {
  "kernelspec": {
   "display_name": "Python 3 (ipykernel)",
   "language": "python",
   "name": "python3"
  },
  "language_info": {
   "codemirror_mode": {
    "name": "ipython",
    "version": 3
   },
   "file_extension": ".py",
   "mimetype": "text/x-python",
   "name": "python",
   "nbconvert_exporter": "python",
   "pygments_lexer": "ipython3",
   "version": "3.9.13"
  },
  "widgets": {
   "application/vnd.jupyter.widget-state+json": {
    "state": {},
    "version_major": 2,
    "version_minor": 0
   }
  }
 },
 "nbformat": 4,
 "nbformat_minor": 5
}
