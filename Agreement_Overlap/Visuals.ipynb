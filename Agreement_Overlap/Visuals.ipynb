{
 "cells": [
  {
   "cell_type": "markdown",
   "id": "ba6bf00e-6be6-4c7e-b50f-2f298fa67c04",
   "metadata": {},
   "source": [
    "## Visuals"
   ]
  },
  {
   "cell_type": "code",
   "execution_count": 17,
   "id": "8374efac-7914-4869-96c2-442663e0292c",
   "metadata": {},
   "outputs": [],
   "source": [
    "import altair as alt\n",
    "import altair_saver\n",
    "import intake\n",
    "import numpy as np\n",
    "import pandas as pd\n",
    "import shared_utils\n",
    "from calitp import *\n",
    "from shared_utils import altair_utils\n",
    "from shared_utils import styleguide\n",
    "from siuba import *"
   ]
  },
  {
   "cell_type": "code",
   "execution_count": 2,
   "id": "3aa5ec7f-0320-45b7-8009-67ae8042a4c2",
   "metadata": {},
   "outputs": [],
   "source": [
    "parquet = pd.read_parquet(\n",
    "    \"gs://calitp-analytics-data/data-analyses/grants/BlackCat_TIRCP_DLA.parquet\",\n",
    "    engine=\"auto\",\n",
    ")"
   ]
  },
  {
   "cell_type": "code",
   "execution_count": 11,
   "id": "18033925-2de7-4339-83a3-9d93dace30c3",
   "metadata": {},
   "outputs": [
    {
     "data": {
      "text/html": [
       "<div>\n",
       "<style scoped>\n",
       "    .dataframe tbody tr th:only-of-type {\n",
       "        vertical-align: middle;\n",
       "    }\n",
       "\n",
       "    .dataframe tbody tr th {\n",
       "        vertical-align: top;\n",
       "    }\n",
       "\n",
       "    .dataframe thead th {\n",
       "        text-align: right;\n",
       "    }\n",
       "</style>\n",
       "<table border=\"1\" class=\"dataframe\">\n",
       "  <thead>\n",
       "    <tr style=\"text-align: right;\">\n",
       "      <th></th>\n",
       "      <th>locode</th>\n",
       "      <th>name</th>\n",
       "      <th>BC_TIRCP_DLA_merge</th>\n",
       "    </tr>\n",
       "  </thead>\n",
       "  <tbody>\n",
       "    <tr>\n",
       "      <th>0</th>\n",
       "      <td>6302.0</td>\n",
       "      <td>Humboldt Bay Harbor Recreation &amp; Conservation ...</td>\n",
       "      <td>DLA Only</td>\n",
       "    </tr>\n",
       "    <tr>\n",
       "      <th>1</th>\n",
       "      <td>6330.0</td>\n",
       "      <td>Willow Creek Community Services District</td>\n",
       "      <td>DLA Only</td>\n",
       "    </tr>\n",
       "    <tr>\n",
       "      <th>2</th>\n",
       "      <td>5036.0</td>\n",
       "      <td>Trinidad</td>\n",
       "      <td>DLA Only</td>\n",
       "    </tr>\n",
       "    <tr>\n",
       "      <th>3</th>\n",
       "      <td>5049.0</td>\n",
       "      <td>Ukiah</td>\n",
       "      <td>DLA Only</td>\n",
       "    </tr>\n",
       "    <tr>\n",
       "      <th>4</th>\n",
       "      <td>5082.0</td>\n",
       "      <td>Willits</td>\n",
       "      <td>DLA Only</td>\n",
       "    </tr>\n",
       "  </tbody>\n",
       "</table>\n",
       "</div>"
      ],
      "text/plain": [
       "   locode                                               name  \\\n",
       "0  6302.0  Humboldt Bay Harbor Recreation & Conservation ...   \n",
       "1  6330.0           Willow Creek Community Services District   \n",
       "2  5036.0                                           Trinidad   \n",
       "3  5049.0                                              Ukiah   \n",
       "4  5082.0                                            Willits   \n",
       "\n",
       "  BC_TIRCP_DLA_merge  \n",
       "0           DLA Only  \n",
       "1           DLA Only  \n",
       "2           DLA Only  \n",
       "3           DLA Only  \n",
       "4           DLA Only  "
      ]
     },
     "execution_count": 11,
     "metadata": {},
     "output_type": "execute_result"
    }
   ],
   "source": [
    "parquet.head()"
   ]
  },
  {
   "cell_type": "code",
   "execution_count": 23,
   "id": "f125fd38-2429-4dcc-a089-729e3b005b25",
   "metadata": {},
   "outputs": [
    {
     "data": {
      "text/plain": [
       "1217"
      ]
     },
     "execution_count": 23,
     "metadata": {},
     "output_type": "execute_result"
    }
   ],
   "source": [
    "parquet.name.nunique()"
   ]
  },
  {
   "cell_type": "code",
   "execution_count": 27,
   "id": "f4f8241d-9dc2-4121-8f5e-5ef6064a12a5",
   "metadata": {},
   "outputs": [],
   "source": [
    "summary = (\n",
    "    parquet.BC_TIRCP_DLA_merge.value_counts()\n",
    "    .to_frame()\n",
    "    .reset_index()\n",
    "    .rename(columns={\"index\": \"Grant_Platform\",\n",
    "                    \"BC_TIRCP_DLA_merge\": \"Count_of_Organizations\"})\n",
    ")"
   ]
  },
  {
   "cell_type": "code",
   "execution_count": 28,
   "id": "26dcf044-1c9c-4738-89fd-821d08bc6d64",
   "metadata": {},
   "outputs": [
    {
     "data": {
      "text/html": [
       "<div>\n",
       "<style scoped>\n",
       "    .dataframe tbody tr th:only-of-type {\n",
       "        vertical-align: middle;\n",
       "    }\n",
       "\n",
       "    .dataframe tbody tr th {\n",
       "        vertical-align: top;\n",
       "    }\n",
       "\n",
       "    .dataframe thead th {\n",
       "        text-align: right;\n",
       "    }\n",
       "</style>\n",
       "<table border=\"1\" class=\"dataframe\">\n",
       "  <thead>\n",
       "    <tr style=\"text-align: right;\">\n",
       "      <th></th>\n",
       "      <th>Grant_Platform</th>\n",
       "      <th>Count_of_Organizations</th>\n",
       "    </tr>\n",
       "  </thead>\n",
       "  <tbody>\n",
       "    <tr>\n",
       "      <th>0</th>\n",
       "      <td>DLA Only</td>\n",
       "      <td>991</td>\n",
       "    </tr>\n",
       "    <tr>\n",
       "      <th>1</th>\n",
       "      <td>BlackCat Only</td>\n",
       "      <td>168</td>\n",
       "    </tr>\n",
       "    <tr>\n",
       "      <th>2</th>\n",
       "      <td>BlackCat and DLA</td>\n",
       "      <td>33</td>\n",
       "    </tr>\n",
       "    <tr>\n",
       "      <th>3</th>\n",
       "      <td>TIRCP_Only</td>\n",
       "      <td>21</td>\n",
       "    </tr>\n",
       "    <tr>\n",
       "      <th>4</th>\n",
       "      <td>TIRCP, BlackCat and DLA</td>\n",
       "      <td>17</td>\n",
       "    </tr>\n",
       "    <tr>\n",
       "      <th>5</th>\n",
       "      <td>TIRCP and BlackCat</td>\n",
       "      <td>1</td>\n",
       "    </tr>\n",
       "  </tbody>\n",
       "</table>\n",
       "</div>"
      ],
      "text/plain": [
       "            Grant_Platform  Count_of_Organizations\n",
       "0                 DLA Only                     991\n",
       "1            BlackCat Only                     168\n",
       "2         BlackCat and DLA                      33\n",
       "3               TIRCP_Only                      21\n",
       "4  TIRCP, BlackCat and DLA                      17\n",
       "5       TIRCP and BlackCat                       1"
      ]
     },
     "execution_count": 28,
     "metadata": {},
     "output_type": "execute_result"
    }
   ],
   "source": [
    "summary"
   ]
  },
  {
   "cell_type": "code",
   "execution_count": 24,
   "id": "e7325a3c-b392-4209-a817-4571ff2d9fe7",
   "metadata": {},
   "outputs": [],
   "source": [
    "# Basic bar chart: input df, x column, y column, column for color code, and chart title.\n",
    "def labeling(word):\n",
    "    # Add specific use cases where it's not just first letter capitalized\n",
    "    LABEL_DICT = { \"prepared_y\": \"Year\",\n",
    "              \"dist\": \"District\",\n",
    "              \"nunique\":\"Number of Unique\",\n",
    "              \"project_no\": \"Project Number\"}\n",
    "    \n",
    "    if (word == \"mpo\") or (word == \"rtpa\"):\n",
    "        word = word.upper()\n",
    "    elif word in LABEL_DICT.keys():\n",
    "        word = LABEL_DICT[word]\n",
    "    else:\n",
    "        #word = word.replace('n_', 'Number of ').title()\n",
    "        word = word.replace('unique_', \"Number of Unique \").title()\n",
    "        word = word.replace('_', ' ').title()\n",
    "    \n",
    "    return word\n",
    "\n",
    "def basic_bar_chart(df, x_col, y_col, color_col, chart_title=\"\"):\n",
    "\n",
    "    chart = (\n",
    "        alt.Chart(df)\n",
    "        .mark_bar()\n",
    "        .encode(\n",
    "            x=alt.X(x_col, title=labeling(x_col), sort=(\"-y\")),\n",
    "            y=alt.Y(y_col, title=labeling(y_col)),\n",
    "            # column = \"payment:N\",\n",
    "            color=alt.Color(\n",
    "                color_col,\n",
    "                scale=alt.Scale(range=altair_utils.CALITP_DIVERGING_COLORS),\n",
    "                legend=alt.Legend(title=(labeling(color_col))),\n",
    "            ),\n",
    "        )\n",
    "        .properties(title=chart_title)\n",
    "    )\n",
    "\n",
    "    chart = styleguide.preset_chart_config(chart)\n",
    "\n",
    "    return chart"
   ]
  },
  {
   "cell_type": "code",
   "execution_count": 29,
   "id": "9e9ec447-d576-480f-b4b9-612309e286b1",
   "metadata": {},
   "outputs": [
    {
     "data": {
      "text/html": [
       "\n",
       "<div id=\"altair-viz-6c49d5bfabd946a3a5bdcf0585a47c32\"></div>\n",
       "<script type=\"text/javascript\">\n",
       "  var VEGA_DEBUG = (typeof VEGA_DEBUG == \"undefined\") ? {} : VEGA_DEBUG;\n",
       "  (function(spec, embedOpt){\n",
       "    let outputDiv = document.currentScript.previousElementSibling;\n",
       "    if (outputDiv.id !== \"altair-viz-6c49d5bfabd946a3a5bdcf0585a47c32\") {\n",
       "      outputDiv = document.getElementById(\"altair-viz-6c49d5bfabd946a3a5bdcf0585a47c32\");\n",
       "    }\n",
       "    const paths = {\n",
       "      \"vega\": \"https://cdn.jsdelivr.net/npm//vega@5?noext\",\n",
       "      \"vega-lib\": \"https://cdn.jsdelivr.net/npm//vega-lib?noext\",\n",
       "      \"vega-lite\": \"https://cdn.jsdelivr.net/npm//vega-lite@4.17.0?noext\",\n",
       "      \"vega-embed\": \"https://cdn.jsdelivr.net/npm//vega-embed@6?noext\",\n",
       "    };\n",
       "\n",
       "    function maybeLoadScript(lib, version) {\n",
       "      var key = `${lib.replace(\"-\", \"\")}_version`;\n",
       "      return (VEGA_DEBUG[key] == version) ?\n",
       "        Promise.resolve(paths[lib]) :\n",
       "        new Promise(function(resolve, reject) {\n",
       "          var s = document.createElement('script');\n",
       "          document.getElementsByTagName(\"head\")[0].appendChild(s);\n",
       "          s.async = true;\n",
       "          s.onload = () => {\n",
       "            VEGA_DEBUG[key] = version;\n",
       "            return resolve(paths[lib]);\n",
       "          };\n",
       "          s.onerror = () => reject(`Error loading script: ${paths[lib]}`);\n",
       "          s.src = paths[lib];\n",
       "        });\n",
       "    }\n",
       "\n",
       "    function showError(err) {\n",
       "      outputDiv.innerHTML = `<div class=\"error\" style=\"color:red;\">${err}</div>`;\n",
       "      throw err;\n",
       "    }\n",
       "\n",
       "    function displayChart(vegaEmbed) {\n",
       "      vegaEmbed(outputDiv, spec, embedOpt)\n",
       "        .catch(err => showError(`Javascript Error: ${err.message}<br>This usually means there's a typo in your chart specification. See the javascript console for the full traceback.`));\n",
       "    }\n",
       "\n",
       "    if(typeof define === \"function\" && define.amd) {\n",
       "      requirejs.config({paths});\n",
       "      require([\"vega-embed\"], displayChart, err => showError(`Error loading script: ${err.message}`));\n",
       "    } else {\n",
       "      maybeLoadScript(\"vega\", \"5\")\n",
       "        .then(() => maybeLoadScript(\"vega-lite\", \"4.17.0\"))\n",
       "        .then(() => maybeLoadScript(\"vega-embed\", \"6\"))\n",
       "        .catch(showError)\n",
       "        .then(() => displayChart(vegaEmbed));\n",
       "    }\n",
       "  })({\"config\": {\"view\": {\"continuousWidth\": 400, \"continuousHeight\": 300}, \"axis\": {\"domainColor\": \"#cbcbcb\", \"grid\": true, \"gridColor\": \"#cbcbcb\", \"gridWidth\": 1, \"labelColor\": \"#474747\", \"labelFont\": \"Nunito Sans\", \"labelFontSize\": 10, \"labelPadding\": 4, \"tickColor\": \"#cbcbcb\", \"tickSize\": 10, \"titleColor\": \"#333\", \"titleFont\": \"Raleway\", \"titleFontSize\": 12, \"titlePadding\": 10}, \"axisBand\": {\"grid\": false}, \"background\": \"white\", \"font\": \"Raleway\", \"header\": {\"labelFont\": \"Nunito Sans\", \"titleFont\": \"Raleway\"}, \"legend\": {\"labelColor\": \"#333\", \"labelFont\": \"Nunito Sans\", \"labelFontSize\": 11, \"labelLimit\": 0, \"padding\": 1, \"symbolSize\": 30, \"symbolType\": \"square\", \"titleColor\": \"#333\", \"titleFont\": \"Raleway\", \"titleFontSize\": 14, \"titlePadding\": 10}, \"title\": {\"anchor\": \"middle\", \"font\": \"Raleway\", \"fontSize\": 18, \"fontWeight\": 300, \"offset\": 20}}, \"data\": {\"name\": \"data-00ee5ccba0041e9f48efc56549f17b99\"}, \"mark\": \"bar\", \"encoding\": {\"color\": {\"field\": \"Grant_Platform\", \"legend\": {\"title\": \"Grant Platform\"}, \"scale\": {\"range\": [\"#E16B26\", \"#EB9F3C\", \"#f6e7e1\", \"#8CBCCB\", \"#2EA8CE\", \"#136C97\"]}, \"type\": \"nominal\"}, \"x\": {\"field\": \"Grant_Platform\", \"sort\": \"-y\", \"title\": \"Grant Platform\", \"type\": \"nominal\"}, \"y\": {\"field\": \"Count_of_Organizations\", \"title\": \"Count Of Organizations\", \"type\": \"quantitative\"}}, \"height\": 250, \"title\": \"Count of Organizations by Platform\", \"width\": 400, \"$schema\": \"https://vega.github.io/schema/vega-lite/v4.17.0.json\", \"datasets\": {\"data-00ee5ccba0041e9f48efc56549f17b99\": [{\"Grant_Platform\": \"DLA Only\", \"Count_of_Organizations\": 991}, {\"Grant_Platform\": \"BlackCat Only\", \"Count_of_Organizations\": 168}, {\"Grant_Platform\": \"BlackCat and DLA\", \"Count_of_Organizations\": 33}, {\"Grant_Platform\": \"TIRCP_Only\", \"Count_of_Organizations\": 21}, {\"Grant_Platform\": \"TIRCP, BlackCat and DLA\", \"Count_of_Organizations\": 17}, {\"Grant_Platform\": \"TIRCP and BlackCat\", \"Count_of_Organizations\": 1}]}}, {\"mode\": \"vega-lite\"});\n",
       "</script>"
      ],
      "text/plain": [
       "alt.Chart(...)"
      ]
     },
     "execution_count": 29,
     "metadata": {},
     "output_type": "execute_result"
    }
   ],
   "source": [
    "basic_bar_chart(summary, 'Grant_Platform','Count_of_Organizations','Grant_Platform', 'Count of Organizations by Platform')"
   ]
  }
 ],
 "metadata": {
  "kernelspec": {
   "display_name": "Python 3 (ipykernel)",
   "language": "python",
   "name": "python3"
  },
  "language_info": {
   "codemirror_mode": {
    "name": "ipython",
    "version": 3
   },
   "file_extension": ".py",
   "mimetype": "text/x-python",
   "name": "python",
   "nbconvert_exporter": "python",
   "pygments_lexer": "ipython3",
   "version": "3.9.10"
  }
 },
 "nbformat": 4,
 "nbformat_minor": 5
}
