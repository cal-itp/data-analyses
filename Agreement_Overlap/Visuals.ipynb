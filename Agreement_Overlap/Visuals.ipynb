{
 "cells": [
  {
   "cell_type": "markdown",
   "id": "ba6bf00e-6be6-4c7e-b50f-2f298fa67c04",
   "metadata": {},
   "source": [
    "## Visuals"
   ]
  },
  {
   "cell_type": "code",
   "execution_count": 1,
   "id": "8374efac-7914-4869-96c2-442663e0292c",
   "metadata": {},
   "outputs": [
    {
     "name": "stderr",
     "output_type": "stream",
     "text": [
      "/opt/conda/lib/python3.9/site-packages/geopandas/_compat.py:111: UserWarning: The Shapely GEOS version (3.10.2-CAPI-1.16.0) is incompatible with the GEOS version PyGEOS was compiled with (3.10.1-CAPI-1.16.0). Conversions between both will be slow.\n",
      "  warnings.warn(\n",
      "E0418 21:05:41.539750801    2426 fork_posix.cc:70]           Fork support is only compatible with the epoll1 and poll polling strategies\n",
      "E0418 21:05:43.855455061    2426 fork_posix.cc:70]           Fork support is only compatible with the epoll1 and poll polling strategies\n"
     ]
    }
   ],
   "source": [
    "import altair as alt\n",
    "import altair_saver\n",
    "import intake\n",
    "import numpy as np\n",
    "import pandas as pd\n",
    "import shared_utils\n",
    "from calitp import *\n",
    "from shared_utils import altair_utils\n",
    "from shared_utils import styleguide\n",
    "from siuba import *"
   ]
  },
  {
   "cell_type": "code",
   "execution_count": 2,
   "id": "3aa5ec7f-0320-45b7-8009-67ae8042a4c2",
   "metadata": {},
   "outputs": [],
   "source": [
    "parquet = pd.read_parquet(\n",
    "    \"gs://calitp-analytics-data/data-analyses/grants/BlackCat_TIRCP_DLA.parquet\",\n",
    "    engine=\"auto\",\n",
    ")"
   ]
  },
  {
   "cell_type": "code",
   "execution_count": 3,
   "id": "18033925-2de7-4339-83a3-9d93dace30c3",
   "metadata": {},
   "outputs": [
    {
     "data": {
      "text/html": [
       "<div>\n",
       "<style scoped>\n",
       "    .dataframe tbody tr th:only-of-type {\n",
       "        vertical-align: middle;\n",
       "    }\n",
       "\n",
       "    .dataframe tbody tr th {\n",
       "        vertical-align: top;\n",
       "    }\n",
       "\n",
       "    .dataframe thead th {\n",
       "        text-align: right;\n",
       "    }\n",
       "</style>\n",
       "<table border=\"1\" class=\"dataframe\">\n",
       "  <thead>\n",
       "    <tr style=\"text-align: right;\">\n",
       "      <th></th>\n",
       "      <th>locode</th>\n",
       "      <th>name</th>\n",
       "      <th>BC_TIRCP_DLA_merge</th>\n",
       "    </tr>\n",
       "  </thead>\n",
       "  <tbody>\n",
       "    <tr>\n",
       "      <th>0</th>\n",
       "      <td>6302.0</td>\n",
       "      <td>Humboldt Bay Harbor Recreation &amp; Conservation ...</td>\n",
       "      <td>DLA Only</td>\n",
       "    </tr>\n",
       "    <tr>\n",
       "      <th>1</th>\n",
       "      <td>6330.0</td>\n",
       "      <td>Willow Creek Community Services District</td>\n",
       "      <td>DLA Only</td>\n",
       "    </tr>\n",
       "    <tr>\n",
       "      <th>2</th>\n",
       "      <td>5036.0</td>\n",
       "      <td>Trinidad</td>\n",
       "      <td>DLA Only</td>\n",
       "    </tr>\n",
       "    <tr>\n",
       "      <th>3</th>\n",
       "      <td>5049.0</td>\n",
       "      <td>Ukiah</td>\n",
       "      <td>DLA Only</td>\n",
       "    </tr>\n",
       "    <tr>\n",
       "      <th>4</th>\n",
       "      <td>5082.0</td>\n",
       "      <td>Willits</td>\n",
       "      <td>DLA Only</td>\n",
       "    </tr>\n",
       "  </tbody>\n",
       "</table>\n",
       "</div>"
      ],
      "text/plain": [
       "   locode                                               name  \\\n",
       "0  6302.0  Humboldt Bay Harbor Recreation & Conservation ...   \n",
       "1  6330.0           Willow Creek Community Services District   \n",
       "2  5036.0                                           Trinidad   \n",
       "3  5049.0                                              Ukiah   \n",
       "4  5082.0                                            Willits   \n",
       "\n",
       "  BC_TIRCP_DLA_merge  \n",
       "0           DLA Only  \n",
       "1           DLA Only  \n",
       "2           DLA Only  \n",
       "3           DLA Only  \n",
       "4           DLA Only  "
      ]
     },
     "execution_count": 3,
     "metadata": {},
     "output_type": "execute_result"
    }
   ],
   "source": [
    "parquet.head()"
   ]
  },
  {
   "cell_type": "code",
   "execution_count": 4,
   "id": "f125fd38-2429-4dcc-a089-729e3b005b25",
   "metadata": {},
   "outputs": [
    {
     "data": {
      "text/plain": [
       "1217"
      ]
     },
     "execution_count": 4,
     "metadata": {},
     "output_type": "execute_result"
    }
   ],
   "source": [
    "parquet.name.nunique()"
   ]
  },
  {
   "cell_type": "code",
   "execution_count": 5,
   "id": "f4f8241d-9dc2-4121-8f5e-5ef6064a12a5",
   "metadata": {},
   "outputs": [],
   "source": [
    "summary = (\n",
    "    parquet.BC_TIRCP_DLA_merge.value_counts()\n",
    "    .to_frame()\n",
    "    .reset_index()\n",
    "    .rename(columns={\"index\": \"Grants\",\n",
    "                    \"BC_TIRCP_DLA_merge\": \"Count_of_Organizations\"})\n",
    ")"
   ]
  },
  {
   "cell_type": "code",
   "execution_count": 6,
   "id": "26dcf044-1c9c-4738-89fd-821d08bc6d64",
   "metadata": {},
   "outputs": [
    {
     "data": {
      "text/html": [
       "<div>\n",
       "<style scoped>\n",
       "    .dataframe tbody tr th:only-of-type {\n",
       "        vertical-align: middle;\n",
       "    }\n",
       "\n",
       "    .dataframe tbody tr th {\n",
       "        vertical-align: top;\n",
       "    }\n",
       "\n",
       "    .dataframe thead th {\n",
       "        text-align: right;\n",
       "    }\n",
       "</style>\n",
       "<table border=\"1\" class=\"dataframe\">\n",
       "  <thead>\n",
       "    <tr style=\"text-align: right;\">\n",
       "      <th></th>\n",
       "      <th>Grants</th>\n",
       "      <th>Count_of_Organizations</th>\n",
       "    </tr>\n",
       "  </thead>\n",
       "  <tbody>\n",
       "    <tr>\n",
       "      <th>0</th>\n",
       "      <td>DLA Only</td>\n",
       "      <td>991</td>\n",
       "    </tr>\n",
       "    <tr>\n",
       "      <th>1</th>\n",
       "      <td>BlackCat Only</td>\n",
       "      <td>168</td>\n",
       "    </tr>\n",
       "    <tr>\n",
       "      <th>2</th>\n",
       "      <td>BlackCat and DLA</td>\n",
       "      <td>33</td>\n",
       "    </tr>\n",
       "    <tr>\n",
       "      <th>3</th>\n",
       "      <td>TIRCP_Only</td>\n",
       "      <td>21</td>\n",
       "    </tr>\n",
       "    <tr>\n",
       "      <th>4</th>\n",
       "      <td>TIRCP, BlackCat and DLA</td>\n",
       "      <td>17</td>\n",
       "    </tr>\n",
       "    <tr>\n",
       "      <th>5</th>\n",
       "      <td>TIRCP and BlackCat</td>\n",
       "      <td>1</td>\n",
       "    </tr>\n",
       "  </tbody>\n",
       "</table>\n",
       "</div>"
      ],
      "text/plain": [
       "                    Grants  Count_of_Organizations\n",
       "0                 DLA Only                     991\n",
       "1            BlackCat Only                     168\n",
       "2         BlackCat and DLA                      33\n",
       "3               TIRCP_Only                      21\n",
       "4  TIRCP, BlackCat and DLA                      17\n",
       "5       TIRCP and BlackCat                       1"
      ]
     },
     "execution_count": 6,
     "metadata": {},
     "output_type": "execute_result"
    }
   ],
   "source": [
    "summary"
   ]
  },
  {
   "cell_type": "code",
   "execution_count": 13,
   "id": "340fb828-60b2-4d12-aa46-1ec3b38b45de",
   "metadata": {},
   "outputs": [],
   "source": [
    "legend = ['DLA Only', 'BlackCat Only', 'BlackCat and DLA', 'TIRCP Only', 'TIRCP, BlackCat, and DLA', 'TIRCP and BlackCat']"
   ]
  },
  {
   "cell_type": "code",
   "execution_count": 14,
   "id": "e7325a3c-b392-4209-a817-4571ff2d9fe7",
   "metadata": {},
   "outputs": [],
   "source": [
    "# Advanced bar chart: label the bars & re order the legend.\n",
    "def labeling(word):\n",
    "    # Add specific use cases where it's not just first letter capitalized\n",
    "    LABEL_DICT = { \"prepared_y\": \"Year\",\n",
    "              \"dist\": \"District\",\n",
    "              \"nunique\":\"Number of Unique\",\n",
    "              \"project_no\": \"Project Number\"}\n",
    "    \n",
    "    if (word == \"mpo\") or (word == \"rtpa\"):\n",
    "        word = word.upper()\n",
    "    elif word in LABEL_DICT.keys():\n",
    "        word = LABEL_DICT[word]\n",
    "    else:\n",
    "        #word = word.replace('n_', 'Number of ').title()\n",
    "        word = word.replace('unique_', \"Number of Unique \").title()\n",
    "        word = word.replace('_', ' ').title()\n",
    "    \n",
    "    return word\n",
    "\n",
    "def base_bar(df):\n",
    "    chart = alt.Chart(df).mark_bar()\n",
    "    return chart\n",
    "\n",
    "\n",
    "# Function\n",
    "def make_bar(\n",
    "    df, y_col, x_col, label_col, chart_title=\"\"\n",
    "):  # label_col is the column I want the bar graph to be labeled by.\n",
    "\n",
    "    if chart_title == \"\":\n",
    "        chart_title = (\n",
    "            f\"{labeling(x_col)} by {labeling(y_col)}\"  # Allows me to customize title.\n",
    "        )\n",
    "\n",
    "    bar = base_bar(df)\n",
    "\n",
    "    bar = bar.encode(\n",
    "        x=alt.X(x_col, title=labeling(x_col)),\n",
    "        y=alt.Y(\n",
    "            y_col, title=labeling(y_col), sort=(\"-x\")\n",
    "        ),  # Sorts chart with X column from descending.\n",
    "        color=alt.Color(\n",
    "            y_col,\n",
    "            scale=alt.Scale(\n",
    "                domain=legend,  # List that specifies the order of the legend.\n",
    "                range=altair_utils.CALITP_CATEGORY_BRIGHT_COLORS,\n",
    "            ),\n",
    "        ),\n",
    "    )\n",
    "    # https://stackoverflow.com/questions/54015250/altair-setting-constant-label-color-for-bar-chart\n",
    "    text = bar.mark_text(align=\"left\", baseline=\"middle\", color=\"black\", dy=3).encode(\n",
    "        text=label_col,\n",
    "        # Set color here, because encoding for mark_text gets\n",
    "        # superseded by alt.Color\n",
    "        color=alt.value(\"black\"),\n",
    "    )\n",
    "\n",
    "    chart = bar + text\n",
    "\n",
    "    chart = (\n",
    "        styleguide.preset_chart_config(chart)\n",
    "        .properties(title=chart_title)\n",
    "        .configure_axis(grid=False)\n",
    "    )\n",
    "\n",
    "    display(chart)"
   ]
  },
  {
   "cell_type": "code",
   "execution_count": 16,
   "id": "9e9ec447-d576-480f-b4b9-612309e286b1",
   "metadata": {},
   "outputs": [
    {
     "data": {
      "text/html": [
       "\n",
       "<div id=\"altair-viz-694d1dd4d10d4f2d9a674c9af60b721a\"></div>\n",
       "<script type=\"text/javascript\">\n",
       "  var VEGA_DEBUG = (typeof VEGA_DEBUG == \"undefined\") ? {} : VEGA_DEBUG;\n",
       "  (function(spec, embedOpt){\n",
       "    let outputDiv = document.currentScript.previousElementSibling;\n",
       "    if (outputDiv.id !== \"altair-viz-694d1dd4d10d4f2d9a674c9af60b721a\") {\n",
       "      outputDiv = document.getElementById(\"altair-viz-694d1dd4d10d4f2d9a674c9af60b721a\");\n",
       "    }\n",
       "    const paths = {\n",
       "      \"vega\": \"https://cdn.jsdelivr.net/npm//vega@5?noext\",\n",
       "      \"vega-lib\": \"https://cdn.jsdelivr.net/npm//vega-lib?noext\",\n",
       "      \"vega-lite\": \"https://cdn.jsdelivr.net/npm//vega-lite@4.17.0?noext\",\n",
       "      \"vega-embed\": \"https://cdn.jsdelivr.net/npm//vega-embed@6?noext\",\n",
       "    };\n",
       "\n",
       "    function maybeLoadScript(lib, version) {\n",
       "      var key = `${lib.replace(\"-\", \"\")}_version`;\n",
       "      return (VEGA_DEBUG[key] == version) ?\n",
       "        Promise.resolve(paths[lib]) :\n",
       "        new Promise(function(resolve, reject) {\n",
       "          var s = document.createElement('script');\n",
       "          document.getElementsByTagName(\"head\")[0].appendChild(s);\n",
       "          s.async = true;\n",
       "          s.onload = () => {\n",
       "            VEGA_DEBUG[key] = version;\n",
       "            return resolve(paths[lib]);\n",
       "          };\n",
       "          s.onerror = () => reject(`Error loading script: ${paths[lib]}`);\n",
       "          s.src = paths[lib];\n",
       "        });\n",
       "    }\n",
       "\n",
       "    function showError(err) {\n",
       "      outputDiv.innerHTML = `<div class=\"error\" style=\"color:red;\">${err}</div>`;\n",
       "      throw err;\n",
       "    }\n",
       "\n",
       "    function displayChart(vegaEmbed) {\n",
       "      vegaEmbed(outputDiv, spec, embedOpt)\n",
       "        .catch(err => showError(`Javascript Error: ${err.message}<br>This usually means there's a typo in your chart specification. See the javascript console for the full traceback.`));\n",
       "    }\n",
       "\n",
       "    if(typeof define === \"function\" && define.amd) {\n",
       "      requirejs.config({paths});\n",
       "      require([\"vega-embed\"], displayChart, err => showError(`Error loading script: ${err.message}`));\n",
       "    } else {\n",
       "      maybeLoadScript(\"vega\", \"5\")\n",
       "        .then(() => maybeLoadScript(\"vega-lite\", \"4.17.0\"))\n",
       "        .then(() => maybeLoadScript(\"vega-embed\", \"6\"))\n",
       "        .catch(showError)\n",
       "        .then(() => displayChart(vegaEmbed));\n",
       "    }\n",
       "  })({\"config\": {\"view\": {\"continuousWidth\": 400, \"continuousHeight\": 300}, \"axis\": {\"grid\": false}, \"axisBand\": {\"grid\": false}, \"background\": \"white\", \"font\": \"Raleway\", \"header\": {\"labelFont\": \"Nunito Sans\", \"titleFont\": \"Raleway\"}, \"legend\": {\"labelColor\": \"#333\", \"labelFont\": \"Nunito Sans\", \"labelFontSize\": 11, \"labelLimit\": 0, \"padding\": 1, \"symbolSize\": 30, \"symbolType\": \"square\", \"titleColor\": \"#333\", \"titleFont\": \"Raleway\", \"titleFontSize\": 14, \"titlePadding\": 10}, \"title\": {\"anchor\": \"middle\", \"font\": \"Raleway\", \"fontSize\": 18, \"fontWeight\": 300, \"offset\": 20}}, \"layer\": [{\"mark\": \"bar\", \"encoding\": {\"color\": {\"field\": \"Grants\", \"scale\": {\"domain\": [\"DLA Only\", \"BlackCat Only\", \"BlackCat and DLA\", \"TIRCP Only\", \"TIRCP, BlackCat, and DLA\", \"TIRCP and BlackCat\"], \"range\": [\"#2EA8CE\", \"#EB9F3C\", \"#F4D837\", \"#51BF9D\", \"#8CBCCB\", \"#9487C0\"]}, \"type\": \"nominal\"}, \"x\": {\"field\": \"Count_of_Organizations\", \"title\": \"Count Of Organizations\", \"type\": \"quantitative\"}, \"y\": {\"field\": \"Grants\", \"sort\": \"-x\", \"title\": \"Grants\", \"type\": \"nominal\"}}}, {\"mark\": {\"type\": \"text\", \"align\": \"left\", \"baseline\": \"middle\", \"color\": \"black\", \"dy\": 3}, \"encoding\": {\"color\": {\"value\": \"black\"}, \"text\": {\"field\": \"Count_of_Organizations\", \"type\": \"quantitative\"}, \"x\": {\"field\": \"Count_of_Organizations\", \"title\": \"Count Of Organizations\", \"type\": \"quantitative\"}, \"y\": {\"field\": \"Grants\", \"sort\": \"-x\", \"title\": \"Grants\", \"type\": \"nominal\"}}}], \"data\": {\"name\": \"data-ba6eb3f2136400579250beb2ee10200b\"}, \"height\": 250, \"title\": \"# of Organizations by Grant\", \"width\": 400, \"$schema\": \"https://vega.github.io/schema/vega-lite/v4.17.0.json\", \"datasets\": {\"data-ba6eb3f2136400579250beb2ee10200b\": [{\"Grants\": \"DLA Only\", \"Count_of_Organizations\": 991}, {\"Grants\": \"BlackCat Only\", \"Count_of_Organizations\": 168}, {\"Grants\": \"BlackCat and DLA\", \"Count_of_Organizations\": 33}, {\"Grants\": \"TIRCP_Only\", \"Count_of_Organizations\": 21}, {\"Grants\": \"TIRCP, BlackCat and DLA\", \"Count_of_Organizations\": 17}, {\"Grants\": \"TIRCP and BlackCat\", \"Count_of_Organizations\": 1}]}}, {\"mode\": \"vega-lite\"});\n",
       "</script>"
      ],
      "text/plain": [
       "alt.LayerChart(...)"
      ]
     },
     "metadata": {},
     "output_type": "display_data"
    }
   ],
   "source": [
    "make_bar(summary, 'Grants','Count_of_Organizations','Count_of_Organizations', '# of Organizations by Grant')"
   ]
  }
 ],
 "metadata": {
  "kernelspec": {
   "display_name": "Python 3 (ipykernel)",
   "language": "python",
   "name": "python3"
  },
  "language_info": {
   "codemirror_mode": {
    "name": "ipython",
    "version": 3
   },
   "file_extension": ".py",
   "mimetype": "text/x-python",
   "name": "python",
   "nbconvert_exporter": "python",
   "pygments_lexer": "ipython3",
   "version": "3.9.10"
  }
 },
 "nbformat": 4,
 "nbformat_minor": 5
}
