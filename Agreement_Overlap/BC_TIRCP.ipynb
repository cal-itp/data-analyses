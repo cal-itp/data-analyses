{
 "cells": [
  {
   "cell_type": "markdown",
   "id": "a9b3f0ba-0c2e-4f9d-bbd0-e3525c34c2e9",
   "metadata": {},
   "source": [
    "## Overlaps between organizations in TIRCP/Black Cat in MA"
   ]
  },
  {
   "cell_type": "code",
   "execution_count": null,
   "id": "6a9c1f49-dfb7-4856-863e-2054dde55229",
   "metadata": {},
   "outputs": [
    {
     "name": "stderr",
     "output_type": "stream",
     "text": [
      "/opt/conda/lib/python3.9/site-packages/geopandas/_compat.py:124: UserWarning: The Shapely GEOS version (3.11.1-CAPI-1.17.1) is incompatible with the GEOS version PyGEOS was compiled with (3.10.1-CAPI-1.16.0). Conversions between both will be slow.\n",
      "  warnings.warn(\n"
     ]
    }
   ],
   "source": [
    "import pandas as pd\n",
    "\n",
    "pd.options.display.max_columns = 50\n",
    "pd.options.display.max_rows = 300\n",
    "pd.set_option(\"display.max_colwidth\", None)\n",
    "pd.options.display.float_format = \"{:.2f}\".format\n",
    "\n",
    "from calitp_data_analysis.sql import to_snakecase\n",
    "from shared_utils import portfolio_utils"
   ]
  },
  {
   "cell_type": "code",
   "execution_count": null,
   "id": "02873910-2d20-4a1e-984b-aa4cf848636a",
   "metadata": {},
   "outputs": [],
   "source": [
    "# import chardet\n",
    "import fuzzywuzzy\n",
    "from fuzzywuzzy import process"
   ]
  },
  {
   "cell_type": "markdown",
   "id": "6f08ebe4-8c92-4c2e-9263-f6baecf9e594",
   "metadata": {
    "tags": []
   },
   "source": [
    "#### Load in TIRCP"
   ]
  },
  {
   "cell_type": "code",
   "execution_count": null,
   "id": "e0f2d0ef-2652-43ab-9ba9-6426efca6f7f",
   "metadata": {},
   "outputs": [],
   "source": [
    "# TIRCP spreadsheet: last updated November 3\n",
    "tircp = to_snakecase(\n",
    "    pd.read_excel(\n",
    "        \"gs://calitp-analytics-data/data-analyses/tircp/Tableau_Workbook.xlsx\",\n",
    "        sheet_name=\"main\",\n",
    "    )\n",
    ")"
   ]
  },
  {
   "cell_type": "code",
   "execution_count": null,
   "id": "cc792f87-b0dd-4a7e-9558-856eeceb38eb",
   "metadata": {
    "scrolled": true,
    "tags": []
   },
   "outputs": [],
   "source": [
    "# Subset to relevant cols\n",
    "# Drop grant_recipient duplicates\n",
    "tircp2 = tircp[[\"grant_recipient\", \"district\"]].drop_duplicates(\n",
    "    subset=[\"grant_recipient\"]\n",
    ")"
   ]
  },
  {
   "cell_type": "code",
   "execution_count": null,
   "id": "29995ca2-10e6-4a96-a8cf-a97bf7941696",
   "metadata": {
    "tags": []
   },
   "outputs": [],
   "source": [
    "f\"{len(tircp2)} grant recipients\""
   ]
  },
  {
   "cell_type": "code",
   "execution_count": null,
   "id": "91cc7b62-7a19-42f4-84da-f2eeef5ee836",
   "metadata": {},
   "outputs": [],
   "source": [
    "# Cast to list\n",
    "tircp_grant_recipient_list = tircp2.grant_recipient.tolist()"
   ]
  },
  {
   "cell_type": "markdown",
   "id": "7dfe27f6-fdf1-4066-9c57-cbc9a13cd687",
   "metadata": {},
   "source": [
    "#### Load in Black Cat"
   ]
  },
  {
   "cell_type": "code",
   "execution_count": null,
   "id": "f2261513-4e0e-4483-a417-dc79a70a2d98",
   "metadata": {},
   "outputs": [],
   "source": [
    "# Read in BC\n",
    "blackcat = to_snakecase(\n",
    "    pd.read_excel(\n",
    "        \"gs://calitp-analytics-data/data-analyses/grants/Grant+Projects_7_30_2022.xlsx\"\n",
    "    )\n",
    ")"
   ]
  },
  {
   "cell_type": "code",
   "execution_count": null,
   "id": "83eaf670-d69f-4edd-bd2c-da9eecccdfef",
   "metadata": {},
   "outputs": [],
   "source": [
    "# Grab only 5311/5310 programs\n",
    "programs_5311_5310 = [\n",
    "    \"Section 5311\",\n",
    "    \"5310 Exp\",\n",
    "    \"5310 Trad\",\n",
    "    \"5311(f) Cont\",\n",
    "    \"5339 (National)\",\n",
    "    \"5339 (State)\",\n",
    "    \"CMAQ (FTA 5311)\",\n",
    "    \"Section 5311(f)\",\n",
    "    \"5311(f) Round 2\",\n",
    "]"
   ]
  },
  {
   "cell_type": "code",
   "execution_count": null,
   "id": "7d164395-c0dd-4fa0-ad77-389887ee5a62",
   "metadata": {},
   "outputs": [],
   "source": [
    "# Keep only 5311/5310 recipients\n",
    "blackcat2 = blackcat[blackcat[\"funding_program\"].isin(programs_5311_5310)]"
   ]
  },
  {
   "cell_type": "code",
   "execution_count": null,
   "id": "c0d00953-7001-4442-af69-9e052384b6d3",
   "metadata": {},
   "outputs": [],
   "source": [
    "# Drop duplicates and keep only organization info\n",
    "blackcat2 = blackcat2[[\"organization_name\"]].drop_duplicates()"
   ]
  },
  {
   "cell_type": "code",
   "execution_count": null,
   "id": "99c19f4a-5354-4a8c-beaf-8ced86b1d7c1",
   "metadata": {},
   "outputs": [],
   "source": [
    "# Function to clean agency/organization names\n",
    "def organization_cleaning(df, column_wanted: str):\n",
    "    df[column_wanted] = (\n",
    "        df[column_wanted]\n",
    "        .str.strip()\n",
    "        .str.split(\",\")\n",
    "        .str[0]\n",
    "        .str.replace(\"/\", \"\")\n",
    "        .str.split(\"(\")\n",
    "        .str[0]\n",
    "        .str.split(\"/\")\n",
    "        .str[0]\n",
    "        .str.title()\n",
    "        .str.replace(\"Trasit\", \"Transit\")\n",
    "        .str.strip()  # strip again after getting rid of certain things\n",
    "    )\n",
    "    return df"
   ]
  },
  {
   "cell_type": "code",
   "execution_count": null,
   "id": "8df8ff0c-5852-454d-bf1e-170dee188606",
   "metadata": {},
   "outputs": [],
   "source": [
    "# Only keep the name of the agencies, not its acronym\n",
    "blackcat3 = organization_cleaning(blackcat2, \"organization_name\")"
   ]
  },
  {
   "cell_type": "code",
   "execution_count": null,
   "id": "d8560dcb-6cd3-4722-bb60-e09b58e2b389",
   "metadata": {},
   "outputs": [],
   "source": [
    "blackcat3.organization_name.nunique()"
   ]
  },
  {
   "cell_type": "code",
   "execution_count": null,
   "id": "081133a9-783f-4641-958f-5de5311218e6",
   "metadata": {},
   "outputs": [],
   "source": [
    "# Replace all rows in agency column with a min ratio with  \"string_to_match value\"\n",
    "def replace_matches_in_column(df, column, new_col_name, string_to_match, min_ratio):\n",
    "    # get a list of unique strings\n",
    "    strings = df[column].unique()\n",
    "\n",
    "    # get the top 10 closest matches to our input string\n",
    "    matches = fuzzywuzzy.process.extract(\n",
    "        string_to_match, strings, limit=10, scorer=fuzzywuzzy.fuzz.token_sort_ratio\n",
    "    )\n",
    "\n",
    "    # only get matches with a  min ratio\n",
    "    close_matches = [matches[0] for matches in matches if matches[1] > min_ratio]\n",
    "\n",
    "    # get the rows of all the close matches in our dataframe\n",
    "    rows_with_matches = df[column].isin(close_matches)\n",
    "\n",
    "    # replace all rows with close matches with the input matches\n",
    "    df.loc[rows_with_matches, new_col_name] = string_to_match"
   ]
  },
  {
   "cell_type": "code",
   "execution_count": null,
   "id": "f85a468d-3a71-497e-bc35-8384915aca8b",
   "metadata": {},
   "outputs": [],
   "source": [
    "# For Blackcat agencies, use fuzzy matching to find matches against TIRCP agencies with a threshold of 92\n",
    "for i in tircp_grant_recipient_list:\n",
    "    replace_matches_in_column(\n",
    "        blackcat3, \"organization_name\", \"organization_BC_fuzzy_matching\", i, 92\n",
    "    )"
   ]
  },
  {
   "cell_type": "code",
   "execution_count": null,
   "id": "04f77933-7cf3-4817-90cf-9b289ca569a7",
   "metadata": {},
   "outputs": [],
   "source": [
    "# Crosswalk for other value(s) that are the same agency\n",
    "crosswalk_tircp_bc = {\n",
    "    \"Tulare County Regional Transportation Agency\": \"Tulare County Regional Transit Agency\"\n",
    "}"
   ]
  },
  {
   "cell_type": "code",
   "execution_count": null,
   "id": "a70420b6-338d-4878-a334-fc9ae38f5c68",
   "metadata": {
    "tags": []
   },
   "outputs": [],
   "source": [
    "# Replace crosswalk\n",
    "blackcat3[\"organization_name\"] = blackcat3[\"organization_name\"].replace(\n",
    "    crosswalk_tircp_bc\n",
    ")"
   ]
  },
  {
   "cell_type": "code",
   "execution_count": null,
   "id": "c328579b-882a-47bc-88b4-7db1bff81d88",
   "metadata": {},
   "outputs": [],
   "source": [
    "# Fill in NAN values in new organization_BC_fuzzy_matching column created above with \n",
    "# values from original organization name column\n",
    "blackcat3.organization_BC_fuzzy_matching = (\n",
    "    blackcat3.organization_BC_fuzzy_matching.fillna(blackcat3[\"organization_name\"])\n",
    ")"
   ]
  },
  {
   "cell_type": "code",
   "execution_count": null,
   "id": "5e47e86d-38ec-4932-91b4-a1936a8ea80c",
   "metadata": {},
   "outputs": [],
   "source": [
    "blackcat3 = blackcat3.drop(columns=[\"organization_name\"])"
   ]
  },
  {
   "cell_type": "markdown",
   "id": "abf54305-aea7-4a15-ad5a-2e83a38fd751",
   "metadata": {},
   "source": [
    "#### Merge the 2 together"
   ]
  },
  {
   "cell_type": "code",
   "execution_count": null,
   "id": "aca8aad8-4446-4997-8555-d2aaf5acf06f",
   "metadata": {},
   "outputs": [],
   "source": [
    "merge1 = pd.merge(\n",
    "    blackcat3,\n",
    "    tircp2,\n",
    "    how=\"outer\",\n",
    "    left_on=[\"organization_BC_fuzzy_matching\"],\n",
    "    right_on=[\"grant_recipient\"],\n",
    "    indicator=True,\n",
    ")"
   ]
  },
  {
   "cell_type": "code",
   "execution_count": null,
   "id": "66762491-e414-4a27-ae40-9a468b228195",
   "metadata": {},
   "outputs": [],
   "source": [
    "merge1._merge.value_counts()"
   ]
  },
  {
   "cell_type": "code",
   "execution_count": null,
   "id": "fb01ecd9-c3a4-4630-8f0e-f6640bd8c8c6",
   "metadata": {},
   "outputs": [],
   "source": [
    "merge1 = merge1.rename(\n",
    "    columns={\n",
    "        \"grant_recipient\": \"TIRCP_Orgs\",\n",
    "        \"organization_BC_fuzzy_matching\": \"BlackCat_Orgs\",\n",
    "        \"_merge\": \"BC_TIRCP_merge\",\n",
    "    }\n",
    ")"
   ]
  },
  {
   "cell_type": "code",
   "execution_count": null,
   "id": "33b7dce9-7d1b-4ef5-8571-f75d92653ef2",
   "metadata": {},
   "outputs": [],
   "source": [
    "def progress(df):\n",
    "    if df[\"BC_TIRCP_merge\"] == \"left_only\":\n",
    "        return \"Black Cat Only\"\n",
    "    elif df[\"BC_TIRCP_merge\"] == \"right_only\":\n",
    "        return \"TIRCP Only\"\n",
    "    else:\n",
    "        return \"Found in both TIRCP and BlackCat\""
   ]
  },
  {
   "cell_type": "code",
   "execution_count": null,
   "id": "bd618eb6-a8f8-4319-a81b-0db0a0739a21",
   "metadata": {},
   "outputs": [],
   "source": [
    "merge1[\"BC_TIRCP_merge\"] = merge1.apply(progress, axis=1)"
   ]
  },
  {
   "cell_type": "code",
   "execution_count": null,
   "id": "69206e2c-53c2-49e6-a4c0-7733989f96db",
   "metadata": {
    "tags": []
   },
   "outputs": [],
   "source": [
    "# merge1.sort_values(by = ['BlackCat_Orgs', 'TIRCP_Orgs'],ascending = True)"
   ]
  },
  {
   "cell_type": "code",
   "execution_count": null,
   "id": "699debde-72d7-4b75-a6ac-a93a832a933b",
   "metadata": {
    "scrolled": true,
    "tags": []
   },
   "outputs": [],
   "source": [
    "# merge1[['TIRCP_Orgs', 'BC_TIRCP_merge']].dropna().sort_values('TIRCP_Orgs')"
   ]
  },
  {
   "cell_type": "code",
   "execution_count": null,
   "id": "5ab922df-f597-422f-b906-ca91310b89cf",
   "metadata": {
    "scrolled": true,
    "tags": []
   },
   "outputs": [],
   "source": [
    "# merge1[['BlackCat_Orgs','BC_TIRCP_merge']].dropna().sort_values('BlackCat_Orgs')"
   ]
  },
  {
   "cell_type": "markdown",
   "id": "8beb9ad7-4301-4251-a32e-b69d602a7956",
   "metadata": {
    "tags": []
   },
   "source": [
    "#### Add district information for BlackCat agencies"
   ]
  },
  {
   "cell_type": "code",
   "execution_count": null,
   "id": "af6f46c4-ed48-4e6c-853a-9d6a02a616dd",
   "metadata": {},
   "outputs": [],
   "source": [
    "agency_district_df = portfolio_utils.add_caltrans_district()"
   ]
  },
  {
   "cell_type": "markdown",
   "id": "f6228dd7-a945-4a45-ae5d-be59ce1216ce",
   "metadata": {},
   "source": [
    "##### Add agency names/cal itp id first \n"
   ]
  },
  {
   "cell_type": "code",
   "execution_count": null,
   "id": "c0fc8776-8e1e-4687-beda-471bd25c8a2f",
   "metadata": {},
   "outputs": [],
   "source": [
    "agency_calitp_df = portfolio_utils.add_agency_name()"
   ]
  },
  {
   "cell_type": "code",
   "execution_count": null,
   "id": "bc056ba1-16bb-41ff-bfec-0d643139d0cd",
   "metadata": {},
   "outputs": [],
   "source": [
    "# Clean org names\n",
    "agency_calitp_df = organization_cleaning(agency_calitp_df, \"calitp_agency_name\")"
   ]
  },
  {
   "cell_type": "code",
   "execution_count": null,
   "id": "ded2b448-e660-48dc-b9e7-6c422682201e",
   "metadata": {
    "scrolled": true,
    "tags": []
   },
   "outputs": [],
   "source": [
    "# agency_calitp_df.calitp_agency_name.sort_values().unique().tolist()"
   ]
  },
  {
   "cell_type": "code",
   "execution_count": null,
   "id": "4a3e4c46-ecd3-4fc8-a304-7435b9a039f7",
   "metadata": {},
   "outputs": [],
   "source": [
    "# Grab grant recipients from blackcat\n",
    "blackcat_agencies = merge1.BlackCat_Orgs.dropna().tolist()"
   ]
  },
  {
   "cell_type": "code",
   "execution_count": null,
   "id": "08423faf-e6c8-4cba-9cc5-9ad16c70f68d",
   "metadata": {
    "scrolled": true,
    "tags": []
   },
   "outputs": [],
   "source": [
    "# Using fuzzy matching, preview the agency names in agency_calitp_df that might match black cat agencies\n",
    "for i in blackcat_agencies:\n",
    "    replace_matches_in_column(\n",
    "        agency_calitp_df,\n",
    "        \"calitp_agency_name\",\n",
    "        \"organization_calitp_fuzzy_matching\",\n",
    "        i,\n",
    "        90,\n",
    "    )"
   ]
  },
  {
   "cell_type": "code",
   "execution_count": null,
   "id": "163551de-3375-4aaf-9e2a-a51c9fff3153",
   "metadata": {
    "scrolled": true,
    "tags": []
   },
   "outputs": [],
   "source": [
    "# agency_calitp_df[['calitp_agency_name', 'organization_calitp_fuzzy_matching']].dropna()"
   ]
  },
  {
   "cell_type": "code",
   "execution_count": null,
   "id": "20698200-133e-400f-b9bb-85a84fc642b7",
   "metadata": {},
   "outputs": [],
   "source": [
    "# Change some of the calitp_agency values\n",
    "crosswalk_calitp_bc = {\n",
    "    \"Glenn County Transit\": \"Glenn County Transportation Commission\",\n",
    "    \"Kern Transit\": \" Kern Regional Transit\",\n",
    "    \"Lake Transit\": \"Lake Transit Authority\",\n",
    "    \"Santa Rosa Citybus\": \"City Of Santa Rosa\",\n",
    "    \"Tulare County Area Transit\": \"Tulare County Regional Transit Agency\",\n",
    "    \"Victor Valley Transit\": \"Victor Valley Transit Authority\",\n",
    "    \"Yolobus\":\"Yolo County Transportation District\"\n",
    "}"
   ]
  },
  {
   "cell_type": "code",
   "execution_count": null,
   "id": "c757bb5c-f6e9-4fda-84dd-e6d6d175f43f",
   "metadata": {},
   "outputs": [],
   "source": [
    "# Replace crosswalk\n",
    "agency_calitp_df[\"calitp_agency_name\"] = agency_calitp_df[\"calitp_agency_name\"].replace(\n",
    "    crosswalk_calitp_bc\n",
    ")"
   ]
  },
  {
   "cell_type": "code",
   "execution_count": null,
   "id": "078bd702-6e11-4815-9a03-281ec54a6862",
   "metadata": {},
   "outputs": [],
   "source": [
    "merge2 = pd.merge(\n",
    "    merge1,\n",
    "    agency_calitp_df,\n",
    "    how=\"left\",\n",
    "    left_on=[\"BlackCat_Orgs\"],\n",
    "    right_on=[\"calitp_agency_name\"],\n",
    "    indicator=True,\n",
    ")"
   ]
  },
  {
   "cell_type": "code",
   "execution_count": null,
   "id": "981a8f28-d2f3-498c-9832-44c140578f5e",
   "metadata": {},
   "outputs": [],
   "source": [
    "merge2._merge.value_counts()"
   ]
  },
  {
   "cell_type": "code",
   "execution_count": null,
   "id": "a0c75bbd-210e-447c-bc78-fcdcbd586f47",
   "metadata": {},
   "outputs": [],
   "source": [
    "# Drop merge indicator\n",
    "merge2 = merge2.drop(columns = [\"_merge\"])"
   ]
  },
  {
   "cell_type": "markdown",
   "id": "8f2c5989-add0-43c8-848c-0bab6a41e79c",
   "metadata": {},
   "source": [
    "##### Add districts based on Cal ITP ID"
   ]
  },
  {
   "cell_type": "code",
   "execution_count": null,
   "id": "fecfb3b0-75b9-4961-b061-afe5baa8752a",
   "metadata": {},
   "outputs": [],
   "source": [
    "merge3 = pd.merge(\n",
    "    merge2,\n",
    "    agency_district_df,\n",
    "    how=\"left\",\n",
    "    left_on=[\"calitp_itp_id\"],\n",
    "    right_on=[\"calitp_itp_id\"],\n",
    ")"
   ]
  },
  {
   "cell_type": "code",
   "execution_count": null,
   "id": "5f3d2af9-2284-4cc9-92b3-21577014c34a",
   "metadata": {},
   "outputs": [],
   "source": [
    "# For NaN values in caltrans_district col, fill in with district info from TIRCP\n",
    "merge3.caltrans_district= (\n",
    "    merge3.caltrans_district.fillna(merge3[\"district\"])\n",
    ")"
   ]
  },
  {
   "cell_type": "code",
   "execution_count": null,
   "id": "1c27e7a9-fb65-44c7-b776-ebab206d5ff1",
   "metadata": {
    "scrolled": true,
    "tags": []
   },
   "outputs": [],
   "source": [
    "# Drop cols\n",
    "merge4 = merge3.drop(columns =['organization_calitp_fuzzy_matching', 'calitp_agency_name', \"district\" ])"
   ]
  },
  {
   "cell_type": "code",
   "execution_count": null,
   "id": "58d03b73-c649-44e7-8d26-3b55b7d96ae5",
   "metadata": {
    "tags": []
   },
   "outputs": [],
   "source": [
    "merge4.caltrans_district.isna().sum()"
   ]
  },
  {
   "cell_type": "code",
   "execution_count": null,
   "id": "21b30602-fa61-405a-ac08-dcaa99ad139e",
   "metadata": {},
   "outputs": [],
   "source": [
    "merge4"
   ]
  },
  {
   "cell_type": "code",
   "execution_count": null,
   "id": "de0c8ddc-2bfb-49bd-8152-8d1957c5cad9",
   "metadata": {},
   "outputs": [],
   "source": [
    "merge4.to_parquet('gs://calitp-analytics-data/data-analyses/grants/BlackCat_TIRCP_Dec_2022.parquet')"
   ]
  }
 ],
 "metadata": {
  "kernelspec": {
   "display_name": "Python 3 (ipykernel)",
   "language": "python",
   "name": "python3"
  },
  "language_info": {
   "codemirror_mode": {
    "name": "ipython",
    "version": 3
   },
   "file_extension": ".py",
   "mimetype": "text/x-python",
   "name": "python",
   "nbconvert_exporter": "python",
   "pygments_lexer": "ipython3",
   "version": "3.9.13"
  }
 },
 "nbformat": 4,
 "nbformat_minor": 5
}
