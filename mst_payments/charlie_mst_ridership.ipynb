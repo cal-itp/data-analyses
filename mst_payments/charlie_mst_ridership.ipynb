{
 "cells": [
  {
   "cell_type": "code",
   "execution_count": 59,
   "id": "c7f0dc9b-916d-4af5-8299-782713ebf077",
   "metadata": {},
   "outputs": [],
   "source": [
    "import calitp\n",
    "from calitp.tables import tbl\n",
    "from calitp import get_engine\n",
    "from siuba import *\n",
    "\n",
    "import pandas as pd\n",
    "import numpy as np\n",
    "import geopandas as gpd"
   ]
  },
  {
   "cell_type": "markdown",
   "id": "d2faf972-4360-44eb-b18e-ddde406cbe15",
   "metadata": {},
   "source": [
    "Querying `mst_ridership` for `MST`, turning it into a Pandas Series using collect()"
   ]
  },
  {
   "cell_type": "code",
   "execution_count": 60,
   "id": "0fee6ca7-3acc-4757-a31e-e5e75945a78f",
   "metadata": {},
   "outputs": [],
   "source": [
    "participant_mst = (tbl.views.mst_ridership()\n",
    "    >> filter(_.participant_id =='mst')\n",
    "    >> collect()\n",
    "    )"
   ]
  },
  {
   "cell_type": "markdown",
   "id": "6d5f21df-953f-4ead-8a6b-ade20ee94bd7",
   "metadata": {},
   "source": [
    "Turning `participant_mst` into a DataFrame"
   ]
  },
  {
   "cell_type": "code",
   "execution_count": 61,
   "id": "cc885b62-94a6-466d-b484-f5c74850dafd",
   "metadata": {},
   "outputs": [],
   "source": [
    "df = pd.DataFrame(participant_mst)"
   ]
  },
  {
   "cell_type": "markdown",
   "id": "75c9c62e-8bb6-49a3-be46-ceded0538491",
   "metadata": {},
   "source": [
    "Create new column `rel_to_nominal`, add values for the relation to 'nominal_amount`"
   ]
  },
  {
   "cell_type": "code",
   "execution_count": 62,
   "id": "719f53fc-4fbd-47a1-b6cd-f5c2c5b91f81",
   "metadata": {},
   "outputs": [],
   "source": [
    "conditions = [\n",
    "    (df['charge_amount'] < df['nominal_amount']),\n",
    "    (df['charge_amount'] == df['nominal_amount']),\n",
    "    (df['charge_amount'] > df['nominal_amount'])\n",
    "]\n",
    "values = ['paid_less', 'paid_the_same', 'paid_more']\n",
    "df['rel_to_nominal'] = np.select(conditions, values)"
   ]
  },
  {
   "cell_type": "markdown",
   "id": "aba3c3e5-00ff-4706-a979-cffa510c43b7",
   "metadata": {},
   "source": [
    "Counting the relations to nominal"
   ]
  },
  {
   "cell_type": "code",
   "execution_count": 63,
   "id": "50bf2b16-98d9-4c0a-96c4-07cdc21cc349",
   "metadata": {},
   "outputs": [
    {
     "data": {
      "text/html": [
       "<div>\n",
       "<style scoped>\n",
       "    .dataframe tbody tr th:only-of-type {\n",
       "        vertical-align: middle;\n",
       "    }\n",
       "\n",
       "    .dataframe tbody tr th {\n",
       "        vertical-align: top;\n",
       "    }\n",
       "\n",
       "    .dataframe thead th {\n",
       "        text-align: right;\n",
       "    }\n",
       "</style>\n",
       "<table border=\"1\" class=\"dataframe\">\n",
       "  <thead>\n",
       "    <tr style=\"text-align: right;\">\n",
       "      <th></th>\n",
       "      <th>rel_to_nominal</th>\n",
       "      <th>n</th>\n",
       "    </tr>\n",
       "  </thead>\n",
       "  <tbody>\n",
       "    <tr>\n",
       "      <th>0</th>\n",
       "      <td>paid_less</td>\n",
       "      <td>202</td>\n",
       "    </tr>\n",
       "    <tr>\n",
       "      <th>1</th>\n",
       "      <td>paid_the_same</td>\n",
       "      <td>32671</td>\n",
       "    </tr>\n",
       "  </tbody>\n",
       "</table>\n",
       "</div>"
      ],
      "text/plain": [
       "  rel_to_nominal      n\n",
       "0      paid_less    202\n",
       "1  paid_the_same  32671"
      ]
     },
     "execution_count": 63,
     "metadata": {},
     "output_type": "execute_result"
    }
   ],
   "source": [
    "(df\n",
    "    >> count(_.rel_to_nominal)\n",
    ")"
   ]
  },
  {
   "cell_type": "markdown",
   "id": "6bd15ec9-34cb-4ba3-81a0-5a50251ad628",
   "metadata": {},
   "source": [
    "Counting relations to nominal by charge type"
   ]
  },
  {
   "cell_type": "code",
   "execution_count": 64,
   "id": "b5234445-a686-4574-a609-b8a039490aa3",
   "metadata": {},
   "outputs": [
    {
     "data": {
      "text/html": [
       "<div>\n",
       "<style scoped>\n",
       "    .dataframe tbody tr th:only-of-type {\n",
       "        vertical-align: middle;\n",
       "    }\n",
       "\n",
       "    .dataframe tbody tr th {\n",
       "        vertical-align: top;\n",
       "    }\n",
       "\n",
       "    .dataframe thead th {\n",
       "        text-align: right;\n",
       "    }\n",
       "</style>\n",
       "<table border=\"1\" class=\"dataframe\">\n",
       "  <thead>\n",
       "    <tr style=\"text-align: right;\">\n",
       "      <th></th>\n",
       "      <th>charge_type</th>\n",
       "      <th>rel_to_nominal</th>\n",
       "      <th>n</th>\n",
       "    </tr>\n",
       "  </thead>\n",
       "  <tbody>\n",
       "    <tr>\n",
       "      <th>0</th>\n",
       "      <td>complete_variable_fare</td>\n",
       "      <td>paid_less</td>\n",
       "      <td>202</td>\n",
       "    </tr>\n",
       "    <tr>\n",
       "      <th>1</th>\n",
       "      <td>complete_variable_fare</td>\n",
       "      <td>paid_the_same</td>\n",
       "      <td>27854</td>\n",
       "    </tr>\n",
       "    <tr>\n",
       "      <th>2</th>\n",
       "      <td>flat_fare</td>\n",
       "      <td>paid_the_same</td>\n",
       "      <td>4817</td>\n",
       "    </tr>\n",
       "  </tbody>\n",
       "</table>\n",
       "</div>"
      ],
      "text/plain": [
       "              charge_type rel_to_nominal      n\n",
       "0  complete_variable_fare      paid_less    202\n",
       "1  complete_variable_fare  paid_the_same  27854\n",
       "2               flat_fare  paid_the_same   4817"
      ]
     },
     "execution_count": 64,
     "metadata": {},
     "output_type": "execute_result"
    }
   ],
   "source": [
    "(df\n",
    "    >> count(_.charge_type, _.rel_to_nominal)\n",
    ")"
   ]
  },
  {
   "cell_type": "markdown",
   "id": "b49e2374-2835-413e-9218-de7da1dc7e4f",
   "metadata": {},
   "source": [
    "Counting relation to nominal by charge amont and nominal amount"
   ]
  },
  {
   "cell_type": "code",
   "execution_count": 65,
   "id": "19a687af-56d8-4445-961f-608393e61afb",
   "metadata": {},
   "outputs": [
    {
     "data": {
      "text/html": [
       "<div>\n",
       "<style scoped>\n",
       "    .dataframe tbody tr th:only-of-type {\n",
       "        vertical-align: middle;\n",
       "    }\n",
       "\n",
       "    .dataframe tbody tr th {\n",
       "        vertical-align: top;\n",
       "    }\n",
       "\n",
       "    .dataframe thead th {\n",
       "        text-align: right;\n",
       "    }\n",
       "</style>\n",
       "<table border=\"1\" class=\"dataframe\">\n",
       "  <thead>\n",
       "    <tr style=\"text-align: right;\">\n",
       "      <th></th>\n",
       "      <th>rel_to_nominal</th>\n",
       "      <th>charge_amount</th>\n",
       "      <th>nominal_amount</th>\n",
       "      <th>n</th>\n",
       "    </tr>\n",
       "  </thead>\n",
       "  <tbody>\n",
       "    <tr>\n",
       "      <th>0</th>\n",
       "      <td>paid_less</td>\n",
       "      <td>0.0</td>\n",
       "      <td>1.5</td>\n",
       "      <td>34</td>\n",
       "    </tr>\n",
       "    <tr>\n",
       "      <th>1</th>\n",
       "      <td>paid_less</td>\n",
       "      <td>0.0</td>\n",
       "      <td>2.5</td>\n",
       "      <td>40</td>\n",
       "    </tr>\n",
       "    <tr>\n",
       "      <th>2</th>\n",
       "      <td>paid_less</td>\n",
       "      <td>0.0</td>\n",
       "      <td>3.5</td>\n",
       "      <td>2</td>\n",
       "    </tr>\n",
       "    <tr>\n",
       "      <th>3</th>\n",
       "      <td>paid_less</td>\n",
       "      <td>0.0</td>\n",
       "      <td>10.0</td>\n",
       "      <td>12</td>\n",
       "    </tr>\n",
       "    <tr>\n",
       "      <th>4</th>\n",
       "      <td>paid_less</td>\n",
       "      <td>0.5</td>\n",
       "      <td>1.5</td>\n",
       "      <td>6</td>\n",
       "    </tr>\n",
       "    <tr>\n",
       "      <th>5</th>\n",
       "      <td>paid_less</td>\n",
       "      <td>0.5</td>\n",
       "      <td>2.5</td>\n",
       "      <td>2</td>\n",
       "    </tr>\n",
       "    <tr>\n",
       "      <th>6</th>\n",
       "      <td>paid_less</td>\n",
       "      <td>1.0</td>\n",
       "      <td>1.5</td>\n",
       "      <td>16</td>\n",
       "    </tr>\n",
       "    <tr>\n",
       "      <th>7</th>\n",
       "      <td>paid_less</td>\n",
       "      <td>1.5</td>\n",
       "      <td>2.5</td>\n",
       "      <td>18</td>\n",
       "    </tr>\n",
       "    <tr>\n",
       "      <th>8</th>\n",
       "      <td>paid_less</td>\n",
       "      <td>1.5</td>\n",
       "      <td>3.5</td>\n",
       "      <td>10</td>\n",
       "    </tr>\n",
       "    <tr>\n",
       "      <th>9</th>\n",
       "      <td>paid_less</td>\n",
       "      <td>2.0</td>\n",
       "      <td>2.5</td>\n",
       "      <td>10</td>\n",
       "    </tr>\n",
       "    <tr>\n",
       "      <th>10</th>\n",
       "      <td>paid_less</td>\n",
       "      <td>2.5</td>\n",
       "      <td>3.5</td>\n",
       "      <td>6</td>\n",
       "    </tr>\n",
       "    <tr>\n",
       "      <th>11</th>\n",
       "      <td>paid_less</td>\n",
       "      <td>3.0</td>\n",
       "      <td>3.5</td>\n",
       "      <td>2</td>\n",
       "    </tr>\n",
       "    <tr>\n",
       "      <th>12</th>\n",
       "      <td>paid_less</td>\n",
       "      <td>5.0</td>\n",
       "      <td>10.0</td>\n",
       "      <td>4</td>\n",
       "    </tr>\n",
       "    <tr>\n",
       "      <th>13</th>\n",
       "      <td>paid_less</td>\n",
       "      <td>6.0</td>\n",
       "      <td>10.0</td>\n",
       "      <td>2</td>\n",
       "    </tr>\n",
       "    <tr>\n",
       "      <th>14</th>\n",
       "      <td>paid_less</td>\n",
       "      <td>6.5</td>\n",
       "      <td>7.0</td>\n",
       "      <td>2</td>\n",
       "    </tr>\n",
       "    <tr>\n",
       "      <th>15</th>\n",
       "      <td>paid_less</td>\n",
       "      <td>6.5</td>\n",
       "      <td>10.0</td>\n",
       "      <td>4</td>\n",
       "    </tr>\n",
       "    <tr>\n",
       "      <th>16</th>\n",
       "      <td>paid_less</td>\n",
       "      <td>7.0</td>\n",
       "      <td>10.0</td>\n",
       "      <td>2</td>\n",
       "    </tr>\n",
       "    <tr>\n",
       "      <th>17</th>\n",
       "      <td>paid_less</td>\n",
       "      <td>7.5</td>\n",
       "      <td>10.0</td>\n",
       "      <td>12</td>\n",
       "    </tr>\n",
       "    <tr>\n",
       "      <th>18</th>\n",
       "      <td>paid_less</td>\n",
       "      <td>8.5</td>\n",
       "      <td>10.0</td>\n",
       "      <td>18</td>\n",
       "    </tr>\n",
       "    <tr>\n",
       "      <th>19</th>\n",
       "      <td>paid_the_same</td>\n",
       "      <td>0.0</td>\n",
       "      <td>0.0</td>\n",
       "      <td>164</td>\n",
       "    </tr>\n",
       "    <tr>\n",
       "      <th>20</th>\n",
       "      <td>paid_the_same</td>\n",
       "      <td>1.5</td>\n",
       "      <td>1.5</td>\n",
       "      <td>14768</td>\n",
       "    </tr>\n",
       "    <tr>\n",
       "      <th>21</th>\n",
       "      <td>paid_the_same</td>\n",
       "      <td>2.5</td>\n",
       "      <td>2.5</td>\n",
       "      <td>11080</td>\n",
       "    </tr>\n",
       "    <tr>\n",
       "      <th>22</th>\n",
       "      <td>paid_the_same</td>\n",
       "      <td>3.5</td>\n",
       "      <td>3.5</td>\n",
       "      <td>6569</td>\n",
       "    </tr>\n",
       "    <tr>\n",
       "      <th>23</th>\n",
       "      <td>paid_the_same</td>\n",
       "      <td>7.0</td>\n",
       "      <td>7.0</td>\n",
       "      <td>8</td>\n",
       "    </tr>\n",
       "    <tr>\n",
       "      <th>24</th>\n",
       "      <td>paid_the_same</td>\n",
       "      <td>10.0</td>\n",
       "      <td>10.0</td>\n",
       "      <td>82</td>\n",
       "    </tr>\n",
       "  </tbody>\n",
       "</table>\n",
       "</div>"
      ],
      "text/plain": [
       "   rel_to_nominal  charge_amount  nominal_amount      n\n",
       "0       paid_less            0.0             1.5     34\n",
       "1       paid_less            0.0             2.5     40\n",
       "2       paid_less            0.0             3.5      2\n",
       "3       paid_less            0.0            10.0     12\n",
       "4       paid_less            0.5             1.5      6\n",
       "5       paid_less            0.5             2.5      2\n",
       "6       paid_less            1.0             1.5     16\n",
       "7       paid_less            1.5             2.5     18\n",
       "8       paid_less            1.5             3.5     10\n",
       "9       paid_less            2.0             2.5     10\n",
       "10      paid_less            2.5             3.5      6\n",
       "11      paid_less            3.0             3.5      2\n",
       "12      paid_less            5.0            10.0      4\n",
       "13      paid_less            6.0            10.0      2\n",
       "14      paid_less            6.5             7.0      2\n",
       "15      paid_less            6.5            10.0      4\n",
       "16      paid_less            7.0            10.0      2\n",
       "17      paid_less            7.5            10.0     12\n",
       "18      paid_less            8.5            10.0     18\n",
       "19  paid_the_same            0.0             0.0    164\n",
       "20  paid_the_same            1.5             1.5  14768\n",
       "21  paid_the_same            2.5             2.5  11080\n",
       "22  paid_the_same            3.5             3.5   6569\n",
       "23  paid_the_same            7.0             7.0      8\n",
       "24  paid_the_same           10.0            10.0     82"
      ]
     },
     "execution_count": 65,
     "metadata": {},
     "output_type": "execute_result"
    }
   ],
   "source": [
    "(df\n",
    "    >> count(_.rel_to_nominal, _.charge_amount, _.nominal_amount)\n",
    ")"
   ]
  },
  {
   "cell_type": "markdown",
   "id": "84a65611-19a7-4aea-9fb6-20963df4106c",
   "metadata": {},
   "source": [
    "How many paid more than the nominal amount? (0)"
   ]
  },
  {
   "cell_type": "code",
   "execution_count": 75,
   "id": "9f1ec109-d566-4df9-8790-a55efd5476ea",
   "metadata": {},
   "outputs": [
    {
     "data": {
      "text/html": [
       "<div>\n",
       "<style scoped>\n",
       "    .dataframe tbody tr th:only-of-type {\n",
       "        vertical-align: middle;\n",
       "    }\n",
       "\n",
       "    .dataframe tbody tr th {\n",
       "        vertical-align: top;\n",
       "    }\n",
       "\n",
       "    .dataframe thead th {\n",
       "        text-align: right;\n",
       "    }\n",
       "</style>\n",
       "<table border=\"1\" class=\"dataframe\">\n",
       "  <thead>\n",
       "    <tr style=\"text-align: right;\">\n",
       "      <th></th>\n",
       "      <th>paid_more_than</th>\n",
       "    </tr>\n",
       "  </thead>\n",
       "  <tbody>\n",
       "    <tr>\n",
       "      <th>0</th>\n",
       "      <td>0</td>\n",
       "    </tr>\n",
       "  </tbody>\n",
       "</table>\n",
       "</div>"
      ],
      "text/plain": [
       "   paid_more_than\n",
       "0               0"
      ]
     },
     "execution_count": 75,
     "metadata": {},
     "output_type": "execute_result"
    }
   ],
   "source": [
    "(df\n",
    "    >> filter(_.rel_to_nominal == \"paid_more_than\")\n",
    "    >> summarize(paid_more_than = _.rel_to_nominal.count()\n",
    "                )\n",
    ")"
   ]
  },
  {
   "cell_type": "markdown",
   "id": "ec04df5c-a2f2-41f2-877f-1ecf0e2541ca",
   "metadata": {},
   "source": [
    "How many paid less than the nominal amount?"
   ]
  },
  {
   "cell_type": "code",
   "execution_count": 80,
   "id": "0e146dc5-f5d7-44f8-967f-378fe68eb657",
   "metadata": {},
   "outputs": [
    {
     "data": {
      "text/html": [
       "<div>\n",
       "<style scoped>\n",
       "    .dataframe tbody tr th:only-of-type {\n",
       "        vertical-align: middle;\n",
       "    }\n",
       "\n",
       "    .dataframe tbody tr th {\n",
       "        vertical-align: top;\n",
       "    }\n",
       "\n",
       "    .dataframe thead th {\n",
       "        text-align: right;\n",
       "    }\n",
       "</style>\n",
       "<table border=\"1\" class=\"dataframe\">\n",
       "  <thead>\n",
       "    <tr style=\"text-align: right;\">\n",
       "      <th></th>\n",
       "      <th>n_fares</th>\n",
       "    </tr>\n",
       "  </thead>\n",
       "  <tbody>\n",
       "    <tr>\n",
       "      <th>0</th>\n",
       "      <td>202</td>\n",
       "    </tr>\n",
       "  </tbody>\n",
       "</table>\n",
       "</div>"
      ],
      "text/plain": [
       "   n_fares\n",
       "0      202"
      ]
     },
     "execution_count": 80,
     "metadata": {},
     "output_type": "execute_result"
    }
   ],
   "source": [
    "(df\n",
    "    >> filter(_.rel_to_nominal == \"paid_less\")\n",
    "    >> summarize(n_fares = _.rel_to_nominal.count())\n",
    ")"
   ]
  },
  {
   "cell_type": "markdown",
   "id": "12fd9ff7-ceab-435f-868c-b01d05b9a433",
   "metadata": {},
   "source": [
    "How many paid the same as the nominal amount?"
   ]
  },
  {
   "cell_type": "code",
   "execution_count": 81,
   "id": "75e4303a-5301-4bc9-85d8-93bbf781fe43",
   "metadata": {},
   "outputs": [
    {
     "data": {
      "text/html": [
       "<div>\n",
       "<style scoped>\n",
       "    .dataframe tbody tr th:only-of-type {\n",
       "        vertical-align: middle;\n",
       "    }\n",
       "\n",
       "    .dataframe tbody tr th {\n",
       "        vertical-align: top;\n",
       "    }\n",
       "\n",
       "    .dataframe thead th {\n",
       "        text-align: right;\n",
       "    }\n",
       "</style>\n",
       "<table border=\"1\" class=\"dataframe\">\n",
       "  <thead>\n",
       "    <tr style=\"text-align: right;\">\n",
       "      <th></th>\n",
       "      <th>n_fares</th>\n",
       "    </tr>\n",
       "  </thead>\n",
       "  <tbody>\n",
       "    <tr>\n",
       "      <th>0</th>\n",
       "      <td>32671</td>\n",
       "    </tr>\n",
       "  </tbody>\n",
       "</table>\n",
       "</div>"
      ],
      "text/plain": [
       "   n_fares\n",
       "0    32671"
      ]
     },
     "execution_count": 81,
     "metadata": {},
     "output_type": "execute_result"
    }
   ],
   "source": [
    "(df\n",
    "    >> filter(_.rel_to_nominal == \"paid_the_same\")\n",
    "    >> summarize(n_fares = _.rel_to_nominal.count()\n",
    "            )\n",
    ")"
   ]
  },
  {
   "cell_type": "markdown",
   "id": "91d262a4-e9b1-4a79-bad4-9137e2b8f08f",
   "metadata": {},
   "source": [
    "How many had a flat fare but paid less than the nominal amount?"
   ]
  },
  {
   "cell_type": "code",
   "execution_count": 82,
   "id": "3fdec95a-ae33-4027-b406-8d8ceba81ae0",
   "metadata": {},
   "outputs": [
    {
     "data": {
      "text/html": [
       "<div>\n",
       "<style scoped>\n",
       "    .dataframe tbody tr th:only-of-type {\n",
       "        vertical-align: middle;\n",
       "    }\n",
       "\n",
       "    .dataframe tbody tr th {\n",
       "        vertical-align: top;\n",
       "    }\n",
       "\n",
       "    .dataframe thead th {\n",
       "        text-align: right;\n",
       "    }\n",
       "</style>\n",
       "<table border=\"1\" class=\"dataframe\">\n",
       "  <thead>\n",
       "    <tr style=\"text-align: right;\">\n",
       "      <th></th>\n",
       "      <th>n_fares</th>\n",
       "    </tr>\n",
       "  </thead>\n",
       "  <tbody>\n",
       "    <tr>\n",
       "      <th>0</th>\n",
       "      <td>0</td>\n",
       "    </tr>\n",
       "  </tbody>\n",
       "</table>\n",
       "</div>"
      ],
      "text/plain": [
       "   n_fares\n",
       "0        0"
      ]
     },
     "execution_count": 82,
     "metadata": {},
     "output_type": "execute_result"
    }
   ],
   "source": [
    "(df\n",
    "    >> filter(_.rel_to_nominal == \"paid_less\", _.charge_type == \"flat_fare\")\n",
    "    >> summarize(n_fares = _.charge_type.count()\n",
    "                )\n",
    ")"
   ]
  },
  {
   "cell_type": "markdown",
   "id": "07219fff-ea12-4687-97df-8a673dcf4343",
   "metadata": {},
   "source": [
    "How many paid $0"
   ]
  },
  {
   "cell_type": "code",
   "execution_count": 83,
   "id": "a14b6eb8-b62b-47d3-bc90-3b3694aa29e4",
   "metadata": {},
   "outputs": [
    {
     "data": {
      "text/html": [
       "<div>\n",
       "<style scoped>\n",
       "    .dataframe tbody tr th:only-of-type {\n",
       "        vertical-align: middle;\n",
       "    }\n",
       "\n",
       "    .dataframe tbody tr th {\n",
       "        vertical-align: top;\n",
       "    }\n",
       "\n",
       "    .dataframe thead th {\n",
       "        text-align: right;\n",
       "    }\n",
       "</style>\n",
       "<table border=\"1\" class=\"dataframe\">\n",
       "  <thead>\n",
       "    <tr style=\"text-align: right;\">\n",
       "      <th></th>\n",
       "      <th>n_fares</th>\n",
       "    </tr>\n",
       "  </thead>\n",
       "  <tbody>\n",
       "    <tr>\n",
       "      <th>0</th>\n",
       "      <td>252</td>\n",
       "    </tr>\n",
       "  </tbody>\n",
       "</table>\n",
       "</div>"
      ],
      "text/plain": [
       "   n_fares\n",
       "0      252"
      ]
     },
     "execution_count": 83,
     "metadata": {},
     "output_type": "execute_result"
    }
   ],
   "source": [
    "(df\n",
    "    >> filter(_.charge_amount == 0.0)\n",
    "    >> summarize(n_fares = _.charge_amount.count()\n",
    "                )\n",
    ")"
   ]
  },
  {
   "cell_type": "markdown",
   "id": "44ec18c6-607a-4c86-8c8e-b4fb7dca6930",
   "metadata": {},
   "source": [
    "How many paid less than the nominal amount, and paid $0"
   ]
  },
  {
   "cell_type": "code",
   "execution_count": 71,
   "id": "798fb906-8335-4128-ad73-33237aa7dcb0",
   "metadata": {},
   "outputs": [
    {
     "data": {
      "text/html": [
       "<div>\n",
       "<style scoped>\n",
       "    .dataframe tbody tr th:only-of-type {\n",
       "        vertical-align: middle;\n",
       "    }\n",
       "\n",
       "    .dataframe tbody tr th {\n",
       "        vertical-align: top;\n",
       "    }\n",
       "\n",
       "    .dataframe thead th {\n",
       "        text-align: right;\n",
       "    }\n",
       "</style>\n",
       "<table border=\"1\" class=\"dataframe\">\n",
       "  <thead>\n",
       "    <tr style=\"text-align: right;\">\n",
       "      <th></th>\n",
       "      <th>n_fares</th>\n",
       "    </tr>\n",
       "  </thead>\n",
       "  <tbody>\n",
       "    <tr>\n",
       "      <th>0</th>\n",
       "      <td>88</td>\n",
       "    </tr>\n",
       "  </tbody>\n",
       "</table>\n",
       "</div>"
      ],
      "text/plain": [
       "   n_fares\n",
       "0       88"
      ]
     },
     "execution_count": 71,
     "metadata": {},
     "output_type": "execute_result"
    }
   ],
   "source": [
    "(df\n",
    "    >> filter(_.rel_to_nominal == \"paid_less\", _.charge_amount == 0.0)\n",
    "    >> summarize(n_fares = _.charge_amount.count()\n",
    "                )\n",
    ")"
   ]
  },
  {
   "cell_type": "markdown",
   "id": "702965e7-7f30-41e1-a52c-d9210c46ae06",
   "metadata": {},
   "source": [
    "How many paid the same as the nominal amount, and paid $0"
   ]
  },
  {
   "cell_type": "code",
   "execution_count": 84,
   "id": "a872c5e0-1e52-41f9-8a88-f487b1ff055b",
   "metadata": {},
   "outputs": [
    {
     "data": {
      "text/html": [
       "<div>\n",
       "<style scoped>\n",
       "    .dataframe tbody tr th:only-of-type {\n",
       "        vertical-align: middle;\n",
       "    }\n",
       "\n",
       "    .dataframe tbody tr th {\n",
       "        vertical-align: top;\n",
       "    }\n",
       "\n",
       "    .dataframe thead th {\n",
       "        text-align: right;\n",
       "    }\n",
       "</style>\n",
       "<table border=\"1\" class=\"dataframe\">\n",
       "  <thead>\n",
       "    <tr style=\"text-align: right;\">\n",
       "      <th></th>\n",
       "      <th>n_fares</th>\n",
       "    </tr>\n",
       "  </thead>\n",
       "  <tbody>\n",
       "    <tr>\n",
       "      <th>0</th>\n",
       "      <td>164</td>\n",
       "    </tr>\n",
       "  </tbody>\n",
       "</table>\n",
       "</div>"
      ],
      "text/plain": [
       "   n_fares\n",
       "0      164"
      ]
     },
     "execution_count": 84,
     "metadata": {},
     "output_type": "execute_result"
    }
   ],
   "source": [
    "(df\n",
    "    >> filter(_.rel_to_nominal==\"paid_the_same\", _.nominal_amount==0.0, _.charge_amount==0.0)\n",
    "    >> summarize(n_fares = _.charge_amount.count()\n",
    "                )\n",
    ")"
   ]
  },
  {
   "cell_type": "markdown",
   "id": "900bd99e-2e31-4516-998f-40a740c6fa11",
   "metadata": {},
   "source": [
    "How many paid $0 by charge_type and rel_to_nominal"
   ]
  },
  {
   "cell_type": "code",
   "execution_count": 73,
   "id": "081db5e2-91e5-4635-8617-14077fd4f5ff",
   "metadata": {},
   "outputs": [
    {
     "data": {
      "text/html": [
       "<div>\n",
       "<style scoped>\n",
       "    .dataframe tbody tr th:only-of-type {\n",
       "        vertical-align: middle;\n",
       "    }\n",
       "\n",
       "    .dataframe tbody tr th {\n",
       "        vertical-align: top;\n",
       "    }\n",
       "\n",
       "    .dataframe thead th {\n",
       "        text-align: right;\n",
       "    }\n",
       "</style>\n",
       "<table border=\"1\" class=\"dataframe\">\n",
       "  <thead>\n",
       "    <tr style=\"text-align: right;\">\n",
       "      <th></th>\n",
       "      <th>charge_amount</th>\n",
       "      <th>charge_type</th>\n",
       "      <th>rel_to_nominal</th>\n",
       "      <th>n</th>\n",
       "    </tr>\n",
       "  </thead>\n",
       "  <tbody>\n",
       "    <tr>\n",
       "      <th>0</th>\n",
       "      <td>0.0</td>\n",
       "      <td>complete_variable_fare</td>\n",
       "      <td>paid_less</td>\n",
       "      <td>88</td>\n",
       "    </tr>\n",
       "    <tr>\n",
       "      <th>1</th>\n",
       "      <td>0.0</td>\n",
       "      <td>complete_variable_fare</td>\n",
       "      <td>paid_the_same</td>\n",
       "      <td>164</td>\n",
       "    </tr>\n",
       "  </tbody>\n",
       "</table>\n",
       "</div>"
      ],
      "text/plain": [
       "   charge_amount             charge_type rel_to_nominal    n\n",
       "0            0.0  complete_variable_fare      paid_less   88\n",
       "1            0.0  complete_variable_fare  paid_the_same  164"
      ]
     },
     "execution_count": 73,
     "metadata": {},
     "output_type": "execute_result"
    }
   ],
   "source": [
    "(df\n",
    "    >> filter(_.charge_amount==0.0)\n",
    "    >> count(_.charge_amount, _.charge_type, _.rel_to_nominal)\n",
    ")"
   ]
  },
  {
   "cell_type": "markdown",
   "id": "cf737733-5ada-4ec4-933e-999dfdeff8cd",
   "metadata": {},
   "source": [
    "How many paid less than the nominal amount, but paid more than $0"
   ]
  },
  {
   "cell_type": "code",
   "execution_count": 85,
   "id": "cdc5af7b-005b-466b-b423-b05900da1703",
   "metadata": {},
   "outputs": [
    {
     "data": {
      "text/html": [
       "<div>\n",
       "<style scoped>\n",
       "    .dataframe tbody tr th:only-of-type {\n",
       "        vertical-align: middle;\n",
       "    }\n",
       "\n",
       "    .dataframe tbody tr th {\n",
       "        vertical-align: top;\n",
       "    }\n",
       "\n",
       "    .dataframe thead th {\n",
       "        text-align: right;\n",
       "    }\n",
       "</style>\n",
       "<table border=\"1\" class=\"dataframe\">\n",
       "  <thead>\n",
       "    <tr style=\"text-align: right;\">\n",
       "      <th></th>\n",
       "      <th>n_fares</th>\n",
       "    </tr>\n",
       "  </thead>\n",
       "  <tbody>\n",
       "    <tr>\n",
       "      <th>0</th>\n",
       "      <td>114</td>\n",
       "    </tr>\n",
       "  </tbody>\n",
       "</table>\n",
       "</div>"
      ],
      "text/plain": [
       "   n_fares\n",
       "0      114"
      ]
     },
     "execution_count": 85,
     "metadata": {},
     "output_type": "execute_result"
    }
   ],
   "source": [
    "(df\n",
    "    >> filter(_.rel_to_nominal==\"paid_less\", _.charge_amount!=0.0)\n",
    "    >> summarize(n_fares = _.rel_to_nominal.count()\n",
    "                )\n",
    ")"
   ]
  },
  {
   "cell_type": "markdown",
   "id": "29ada53a-14e6-4a07-9587-c7f32290ed00",
   "metadata": {},
   "source": [
    "Fare Tables - Route Type"
   ]
  },
  {
   "cell_type": "markdown",
   "id": "993199ca-8e90-4bd0-9534-5ef48e008493",
   "metadata": {
    "tags": []
   },
   "source": [
    "| Route Type | Regular Fare | Discount Fare |\n",
    "| ----------- | ----------- | --- |\n",
    "| Local | 1.50 | 0.75 |\n",
    "| Primary | 2.50 | 1.25 |\n",
    "| Regional | 3.50 | 1.75 |\n",
    "| Commuter | 12.00 | 6.00 |"
   ]
  },
  {
   "cell_type": "markdown",
   "id": "7cd95ca6-d0a8-487d-9b40-ba95bbdbd7ae",
   "metadata": {},
   "source": [
    "Fare Tables - Distance"
   ]
  },
  {
   "cell_type": "markdown",
   "id": "c0c51669-a13d-4347-9d5c-29fe2499505a",
   "metadata": {
    "tags": []
   },
   "source": [
    "| Distance | Regular Contactless Fare | \n",
    "| ----------- | ----------- | \n",
    "| Up to 2.7 miles | 1.50 | \n",
    "| Between 2.7 and 14 miles | 2.50 |\n",
    "| 14 – 50 miles | 3.50 | \n",
    "| 50 – 77 miles | 7.00 |\n",
    "| 77 miles or more | 10.00 |\n"
   ]
  }
 ],
 "metadata": {
  "kernelspec": {
   "display_name": "Python 3 (ipykernel)",
   "language": "python",
   "name": "python3"
  },
  "language_info": {
   "codemirror_mode": {
    "name": "ipython",
    "version": 3
   },
   "file_extension": ".py",
   "mimetype": "text/x-python",
   "name": "python",
   "nbconvert_exporter": "python",
   "pygments_lexer": "ipython3",
   "version": "3.9.7"
  }
 },
 "nbformat": 4,
 "nbformat_minor": 5
}
