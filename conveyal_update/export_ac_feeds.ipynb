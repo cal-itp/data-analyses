{
 "cells": [
  {
   "cell_type": "code",
   "execution_count": 1,
   "id": "7cacae42-6ae9-4c49-b44f-8ec2d24abd00",
   "metadata": {},
   "outputs": [],
   "source": [
    "from siuba import *\n",
    "import pandas as pd\n",
    "import datetime as dt\n",
    "\n",
    "import download_data\n",
    "import conveyal_vars\n",
    "import json"
   ]
  },
  {
   "cell_type": "code",
   "execution_count": 2,
   "id": "b229c262-6a7e-4373-b09a-5e2d5cd91371",
   "metadata": {},
   "outputs": [],
   "source": [
    "import os\n",
    "os.environ[\"CALITP_BQ_MAX_BYTES\"] = str(800_000_000_000)"
   ]
  },
  {
   "cell_type": "code",
   "execution_count": 3,
   "id": "9b1b35d5-c2a7-49cb-b4a1-0368a0c78d9e",
   "metadata": {},
   "outputs": [],
   "source": [
    "from calitp_data_analysis.tables import tbls"
   ]
  },
  {
   "cell_type": "code",
   "execution_count": 4,
   "id": "03d0398e-54b0-4964-8ade-03ebb9c3ecd8",
   "metadata": {},
   "outputs": [],
   "source": [
    "import zipfile\n",
    "import numpy as np"
   ]
  },
  {
   "cell_type": "code",
   "execution_count": 5,
   "id": "752715b0-b61c-4f13-9465-5c245b5e78ef",
   "metadata": {},
   "outputs": [],
   "source": [
    "from conveyal_vars import GCS_PATH"
   ]
  },
  {
   "cell_type": "code",
   "execution_count": 6,
   "id": "359bda7a-8749-41a0-bed5-e4773f1a7fbc",
   "metadata": {},
   "outputs": [],
   "source": [
    "from shared_utils import gtfs_utils_v2"
   ]
  },
  {
   "cell_type": "code",
   "execution_count": 27,
   "id": "d912990f-6bbc-466b-87be-212231fe067e",
   "metadata": {},
   "outputs": [],
   "source": [
    "from calitp_data_analysis import get_fs\n",
    "fs = get_fs()\n"
   ]
  },
  {
   "cell_type": "markdown",
   "id": "043cbc0d-a114-47ae-a7a9-f4838921ec05",
   "metadata": {},
   "source": [
    "# Exporting AC Transit Feeds\n",
    "\n",
    "Ad-hoc for GenAI request July 2024, but maybe a useful example for the future.\n",
    "\n",
    "\"Get every unique version of a GTFS feed across a date range, in original GTFS zip format\""
   ]
  },
  {
   "cell_type": "code",
   "execution_count": 7,
   "id": "4f8eb577-4fe5-49ed-ab9c-b8cd0a94660c",
   "metadata": {},
   "outputs": [
    {
     "data": {
      "text/plain": [
       "'gs://calitp-analytics-data/data-analyses/conveyal_update/'"
      ]
     },
     "execution_count": 7,
     "metadata": {},
     "output_type": "execute_result"
    }
   ],
   "source": [
    "GCS_PATH"
   ]
  },
  {
   "cell_type": "code",
   "execution_count": 8,
   "id": "8fb394e4-9606-4390-b0af-32ad036fab20",
   "metadata": {},
   "outputs": [],
   "source": [
    "feeds_on_target = gtfs_utils_v2.schedule_daily_feed_to_gtfs_dataset_name(selected_date=conveyal_vars.TARGET_DATE)"
   ]
  },
  {
   "cell_type": "code",
   "execution_count": 9,
   "id": "bd4e4811-1a9c-4e87-8335-2cb39399ed17",
   "metadata": {},
   "outputs": [
    {
     "data": {
      "text/html": [
       "<div>\n",
       "<style scoped>\n",
       "    .dataframe tbody tr th:only-of-type {\n",
       "        vertical-align: middle;\n",
       "    }\n",
       "\n",
       "    .dataframe tbody tr th {\n",
       "        vertical-align: top;\n",
       "    }\n",
       "\n",
       "    .dataframe thead th {\n",
       "        text-align: right;\n",
       "    }\n",
       "</style>\n",
       "<table border=\"1\" class=\"dataframe\">\n",
       "  <thead>\n",
       "    <tr style=\"text-align: right;\">\n",
       "      <th></th>\n",
       "      <th>key</th>\n",
       "      <th>date</th>\n",
       "      <th>feed_key</th>\n",
       "      <th>feed_timezone</th>\n",
       "      <th>base64_url</th>\n",
       "      <th>gtfs_dataset_key</th>\n",
       "      <th>name</th>\n",
       "      <th>regional_feed_type</th>\n",
       "      <th>type</th>\n",
       "    </tr>\n",
       "  </thead>\n",
       "  <tbody>\n",
       "    <tr>\n",
       "      <th>180</th>\n",
       "      <td>0a1483f02bc6d02b38bd5ef7d106ec96</td>\n",
       "      <td>2023-10-18</td>\n",
       "      <td>d56477a57ef86563ebb8eda6ed509653</td>\n",
       "      <td>US/Pacific</td>\n",
       "      <td>aHR0cHM6Ly9hcGkuNTExLm9yZy90cmFuc2l0L2RhdGFmZW...</td>\n",
       "      <td>c499f905e33929a641f083dad55c521e</td>\n",
       "      <td>Bay Area 511 AC Transit Schedule</td>\n",
       "      <td>Regional Subfeed</td>\n",
       "      <td>schedule</td>\n",
       "    </tr>\n",
       "  </tbody>\n",
       "</table>\n",
       "</div>"
      ],
      "text/plain": [
       "                                  key       date  \\\n",
       "180  0a1483f02bc6d02b38bd5ef7d106ec96 2023-10-18   \n",
       "\n",
       "                             feed_key feed_timezone  \\\n",
       "180  d56477a57ef86563ebb8eda6ed509653    US/Pacific   \n",
       "\n",
       "                                            base64_url  \\\n",
       "180  aHR0cHM6Ly9hcGkuNTExLm9yZy90cmFuc2l0L2RhdGFmZW...   \n",
       "\n",
       "                     gtfs_dataset_key                              name  \\\n",
       "180  c499f905e33929a641f083dad55c521e  Bay Area 511 AC Transit Schedule   \n",
       "\n",
       "    regional_feed_type      type  \n",
       "180   Regional Subfeed  schedule  "
      ]
     },
     "execution_count": 9,
     "metadata": {},
     "output_type": "execute_result"
    }
   ],
   "source": [
    "feeds_on_target >> filter(_.name.str.contains('511 AC T'))"
   ]
  },
  {
   "cell_type": "code",
   "execution_count": 23,
   "id": "4f0c83e2-24ae-4125-95b7-42bc6de315d8",
   "metadata": {},
   "outputs": [],
   "source": [
    "ac_23_feeds = (tbls.mart_gtfs.fct_scheduled_trips()\n",
    " >> filter(_.gtfs_dataset_key == 'c499f905e33929a641f083dad55c521e')\n",
    " >> filter(_.service_date > '2022-12-31')\n",
    " >> filter(_.service_date < '2024-01-01')\n",
    " >> distinct(_.feed_key, _.base64_url, _.service_date)\n",
    " >> collect()\n",
    " # >> head(1)\n",
    ")"
   ]
  },
  {
   "cell_type": "code",
   "execution_count": 24,
   "id": "651e4d54-108d-4fe7-8512-021abe7fee39",
   "metadata": {},
   "outputs": [
    {
     "data": {
      "text/html": [
       "<div>\n",
       "<style scoped>\n",
       "    .dataframe tbody tr th:only-of-type {\n",
       "        vertical-align: middle;\n",
       "    }\n",
       "\n",
       "    .dataframe tbody tr th {\n",
       "        vertical-align: top;\n",
       "    }\n",
       "\n",
       "    .dataframe thead th {\n",
       "        text-align: right;\n",
       "    }\n",
       "</style>\n",
       "<table border=\"1\" class=\"dataframe\">\n",
       "  <thead>\n",
       "    <tr style=\"text-align: right;\">\n",
       "      <th></th>\n",
       "      <th>feed_key</th>\n",
       "      <th>base64_url</th>\n",
       "      <th>service_date</th>\n",
       "    </tr>\n",
       "  </thead>\n",
       "  <tbody>\n",
       "    <tr>\n",
       "      <th>0</th>\n",
       "      <td>d56477a57ef86563ebb8eda6ed509653</td>\n",
       "      <td>aHR0cHM6Ly9hcGkuNTExLm9yZy90cmFuc2l0L2RhdGFmZW...</td>\n",
       "      <td>2023-10-25</td>\n",
       "    </tr>\n",
       "    <tr>\n",
       "      <th>1</th>\n",
       "      <td>026ed9b585ddcd860d59a367139d7429</td>\n",
       "      <td>aHR0cHM6Ly9hcGkuNTExLm9yZy90cmFuc2l0L2RhdGFmZW...</td>\n",
       "      <td>2023-04-27</td>\n",
       "    </tr>\n",
       "    <tr>\n",
       "      <th>2</th>\n",
       "      <td>026ed9b585ddcd860d59a367139d7429</td>\n",
       "      <td>aHR0cHM6Ly9hcGkuNTExLm9yZy90cmFuc2l0L2RhdGFmZW...</td>\n",
       "      <td>2023-04-04</td>\n",
       "    </tr>\n",
       "    <tr>\n",
       "      <th>3</th>\n",
       "      <td>d56477a57ef86563ebb8eda6ed509653</td>\n",
       "      <td>aHR0cHM6Ly9hcGkuNTExLm9yZy90cmFuc2l0L2RhdGFmZW...</td>\n",
       "      <td>2023-08-15</td>\n",
       "    </tr>\n",
       "    <tr>\n",
       "      <th>4</th>\n",
       "      <td>d56477a57ef86563ebb8eda6ed509653</td>\n",
       "      <td>aHR0cHM6Ly9hcGkuNTExLm9yZy90cmFuc2l0L2RhdGFmZW...</td>\n",
       "      <td>2023-09-04</td>\n",
       "    </tr>\n",
       "    <tr>\n",
       "      <th>...</th>\n",
       "      <td>...</td>\n",
       "      <td>...</td>\n",
       "      <td>...</td>\n",
       "    </tr>\n",
       "    <tr>\n",
       "      <th>269</th>\n",
       "      <td>af5d0cf0af941d169873cca44fedc3ad</td>\n",
       "      <td>aHR0cHM6Ly9hcGkuNTExLm9yZy90cmFuc2l0L2RhdGFmZW...</td>\n",
       "      <td>2023-07-04</td>\n",
       "    </tr>\n",
       "    <tr>\n",
       "      <th>270</th>\n",
       "      <td>d56477a57ef86563ebb8eda6ed509653</td>\n",
       "      <td>aHR0cHM6Ly9hcGkuNTExLm9yZy90cmFuc2l0L2RhdGFmZW...</td>\n",
       "      <td>2023-09-13</td>\n",
       "    </tr>\n",
       "    <tr>\n",
       "      <th>271</th>\n",
       "      <td>d56477a57ef86563ebb8eda6ed509653</td>\n",
       "      <td>aHR0cHM6Ly9hcGkuNTExLm9yZy90cmFuc2l0L2RhdGFmZW...</td>\n",
       "      <td>2023-08-13</td>\n",
       "    </tr>\n",
       "    <tr>\n",
       "      <th>272</th>\n",
       "      <td>af5d0cf0af941d169873cca44fedc3ad</td>\n",
       "      <td>aHR0cHM6Ly9hcGkuNTExLm9yZy90cmFuc2l0L2RhdGFmZW...</td>\n",
       "      <td>2023-07-29</td>\n",
       "    </tr>\n",
       "    <tr>\n",
       "      <th>273</th>\n",
       "      <td>af5d0cf0af941d169873cca44fedc3ad</td>\n",
       "      <td>aHR0cHM6Ly9hcGkuNTExLm9yZy90cmFuc2l0L2RhdGFmZW...</td>\n",
       "      <td>2023-07-30</td>\n",
       "    </tr>\n",
       "  </tbody>\n",
       "</table>\n",
       "<p>274 rows × 3 columns</p>\n",
       "</div>"
      ],
      "text/plain": [
       "                             feed_key  \\\n",
       "0    d56477a57ef86563ebb8eda6ed509653   \n",
       "1    026ed9b585ddcd860d59a367139d7429   \n",
       "2    026ed9b585ddcd860d59a367139d7429   \n",
       "3    d56477a57ef86563ebb8eda6ed509653   \n",
       "4    d56477a57ef86563ebb8eda6ed509653   \n",
       "..                                ...   \n",
       "269  af5d0cf0af941d169873cca44fedc3ad   \n",
       "270  d56477a57ef86563ebb8eda6ed509653   \n",
       "271  d56477a57ef86563ebb8eda6ed509653   \n",
       "272  af5d0cf0af941d169873cca44fedc3ad   \n",
       "273  af5d0cf0af941d169873cca44fedc3ad   \n",
       "\n",
       "                                            base64_url service_date  \n",
       "0    aHR0cHM6Ly9hcGkuNTExLm9yZy90cmFuc2l0L2RhdGFmZW...   2023-10-25  \n",
       "1    aHR0cHM6Ly9hcGkuNTExLm9yZy90cmFuc2l0L2RhdGFmZW...   2023-04-27  \n",
       "2    aHR0cHM6Ly9hcGkuNTExLm9yZy90cmFuc2l0L2RhdGFmZW...   2023-04-04  \n",
       "3    aHR0cHM6Ly9hcGkuNTExLm9yZy90cmFuc2l0L2RhdGFmZW...   2023-08-15  \n",
       "4    aHR0cHM6Ly9hcGkuNTExLm9yZy90cmFuc2l0L2RhdGFmZW...   2023-09-04  \n",
       "..                                                 ...          ...  \n",
       "269  aHR0cHM6Ly9hcGkuNTExLm9yZy90cmFuc2l0L2RhdGFmZW...   2023-07-04  \n",
       "270  aHR0cHM6Ly9hcGkuNTExLm9yZy90cmFuc2l0L2RhdGFmZW...   2023-09-13  \n",
       "271  aHR0cHM6Ly9hcGkuNTExLm9yZy90cmFuc2l0L2RhdGFmZW...   2023-08-13  \n",
       "272  aHR0cHM6Ly9hcGkuNTExLm9yZy90cmFuc2l0L2RhdGFmZW...   2023-07-29  \n",
       "273  aHR0cHM6Ly9hcGkuNTExLm9yZy90cmFuc2l0L2RhdGFmZW...   2023-07-30  \n",
       "\n",
       "[274 rows x 3 columns]"
      ]
     },
     "execution_count": 24,
     "metadata": {},
     "output_type": "execute_result"
    }
   ],
   "source": [
    "ac_23_feeds"
   ]
  },
  {
   "cell_type": "code",
   "execution_count": 25,
   "id": "e1c8d18a-ee0d-46dd-896e-cf83931dfeed",
   "metadata": {},
   "outputs": [],
   "source": [
    "df2 = ac_23_feeds >> distinct(_.feed_key, _keep_all=True)"
   ]
  },
  {
   "cell_type": "code",
   "execution_count": 26,
   "id": "ab79f3e5-33c2-48e3-8f86-9d72c27d2abe",
   "metadata": {},
   "outputs": [
    {
     "data": {
      "text/html": [
       "<div>\n",
       "<style scoped>\n",
       "    .dataframe tbody tr th:only-of-type {\n",
       "        vertical-align: middle;\n",
       "    }\n",
       "\n",
       "    .dataframe tbody tr th {\n",
       "        vertical-align: top;\n",
       "    }\n",
       "\n",
       "    .dataframe thead th {\n",
       "        text-align: right;\n",
       "    }\n",
       "</style>\n",
       "<table border=\"1\" class=\"dataframe\">\n",
       "  <thead>\n",
       "    <tr style=\"text-align: right;\">\n",
       "      <th></th>\n",
       "      <th>feed_key</th>\n",
       "      <th>base64_url</th>\n",
       "      <th>service_date</th>\n",
       "    </tr>\n",
       "  </thead>\n",
       "  <tbody>\n",
       "    <tr>\n",
       "      <th>0</th>\n",
       "      <td>d56477a57ef86563ebb8eda6ed509653</td>\n",
       "      <td>aHR0cHM6Ly9hcGkuNTExLm9yZy90cmFuc2l0L2RhdGFmZW...</td>\n",
       "      <td>2023-10-25</td>\n",
       "    </tr>\n",
       "    <tr>\n",
       "      <th>1</th>\n",
       "      <td>026ed9b585ddcd860d59a367139d7429</td>\n",
       "      <td>aHR0cHM6Ly9hcGkuNTExLm9yZy90cmFuc2l0L2RhdGFmZW...</td>\n",
       "      <td>2023-04-27</td>\n",
       "    </tr>\n",
       "    <tr>\n",
       "      <th>2</th>\n",
       "      <td>f63db5ffe22c8a846885a1f68ec7113b</td>\n",
       "      <td>aHR0cHM6Ly9hcGkuNTExLm9yZy90cmFuc2l0L2RhdGFmZW...</td>\n",
       "      <td>2023-12-03</td>\n",
       "    </tr>\n",
       "    <tr>\n",
       "      <th>3</th>\n",
       "      <td>af5d0cf0af941d169873cca44fedc3ad</td>\n",
       "      <td>aHR0cHM6Ly9hcGkuNTExLm9yZy90cmFuc2l0L2RhdGFmZW...</td>\n",
       "      <td>2023-08-03</td>\n",
       "    </tr>\n",
       "    <tr>\n",
       "      <th>4</th>\n",
       "      <td>3ed66c11d38d2d3e5a610c6d1b34ec2a</td>\n",
       "      <td>aHR0cHM6Ly9hcGkuNTExLm9yZy90cmFuc2l0L2RhdGFmZW...</td>\n",
       "      <td>2023-12-18</td>\n",
       "    </tr>\n",
       "    <tr>\n",
       "      <th>5</th>\n",
       "      <td>afabb460d8101af466bb52abdd6a4b71</td>\n",
       "      <td>aHR0cHM6Ly9hcGkuNTExLm9yZy90cmFuc2l0L2RhdGFmZW...</td>\n",
       "      <td>2023-05-19</td>\n",
       "    </tr>\n",
       "    <tr>\n",
       "      <th>6</th>\n",
       "      <td>a746bce335fb8477339a910e5ecfa2eb</td>\n",
       "      <td>aHR0cHM6Ly9hcGkuNTExLm9yZy90cmFuc2l0L2RhdGFmZW...</td>\n",
       "      <td>2023-08-06</td>\n",
       "    </tr>\n",
       "    <tr>\n",
       "      <th>7</th>\n",
       "      <td>84eb243b2456b2d4a0b57d4eefe31000</td>\n",
       "      <td>aHR0cHM6Ly9hcGkuNTExLm9yZy90cmFuc2l0L2RhdGFmZW...</td>\n",
       "      <td>2023-03-29</td>\n",
       "    </tr>\n",
       "    <tr>\n",
       "      <th>8</th>\n",
       "      <td>04bc8a2bf207378727371a9253eb12f2</td>\n",
       "      <td>aHR0cHM6Ly9hcGkuNTExLm9yZy90cmFuc2l0L2RhdGFmZW...</td>\n",
       "      <td>2023-06-11</td>\n",
       "    </tr>\n",
       "  </tbody>\n",
       "</table>\n",
       "</div>"
      ],
      "text/plain": [
       "                           feed_key  \\\n",
       "0  d56477a57ef86563ebb8eda6ed509653   \n",
       "1  026ed9b585ddcd860d59a367139d7429   \n",
       "2  f63db5ffe22c8a846885a1f68ec7113b   \n",
       "3  af5d0cf0af941d169873cca44fedc3ad   \n",
       "4  3ed66c11d38d2d3e5a610c6d1b34ec2a   \n",
       "5  afabb460d8101af466bb52abdd6a4b71   \n",
       "6  a746bce335fb8477339a910e5ecfa2eb   \n",
       "7  84eb243b2456b2d4a0b57d4eefe31000   \n",
       "8  04bc8a2bf207378727371a9253eb12f2   \n",
       "\n",
       "                                          base64_url service_date  \n",
       "0  aHR0cHM6Ly9hcGkuNTExLm9yZy90cmFuc2l0L2RhdGFmZW...   2023-10-25  \n",
       "1  aHR0cHM6Ly9hcGkuNTExLm9yZy90cmFuc2l0L2RhdGFmZW...   2023-04-27  \n",
       "2  aHR0cHM6Ly9hcGkuNTExLm9yZy90cmFuc2l0L2RhdGFmZW...   2023-12-03  \n",
       "3  aHR0cHM6Ly9hcGkuNTExLm9yZy90cmFuc2l0L2RhdGFmZW...   2023-08-03  \n",
       "4  aHR0cHM6Ly9hcGkuNTExLm9yZy90cmFuc2l0L2RhdGFmZW...   2023-12-18  \n",
       "5  aHR0cHM6Ly9hcGkuNTExLm9yZy90cmFuc2l0L2RhdGFmZW...   2023-05-19  \n",
       "6  aHR0cHM6Ly9hcGkuNTExLm9yZy90cmFuc2l0L2RhdGFmZW...   2023-08-06  \n",
       "7  aHR0cHM6Ly9hcGkuNTExLm9yZy90cmFuc2l0L2RhdGFmZW...   2023-03-29  \n",
       "8  aHR0cHM6Ly9hcGkuNTExLm9yZy90cmFuc2l0L2RhdGFmZW...   2023-06-11  "
      ]
     },
     "execution_count": 26,
     "metadata": {},
     "output_type": "execute_result"
    }
   ],
   "source": [
    "df2"
   ]
  },
  {
   "cell_type": "code",
   "execution_count": 30,
   "id": "31e42271-6396-4125-a585-35be1e94142e",
   "metadata": {},
   "outputs": [],
   "source": [
    "def download_feed(row):\n",
    "    # need wildcard for file too -- not all are gtfs.zip!\n",
    "    uri = f'gs://calitp-gtfs-schedule-raw-v2/schedule/dt={row.service_date.strftime(\"%Y-%m-%d\")}/*/base64_url={row.base64_url}/*.zip'\n",
    "    print(uri)\n",
    "    fs.get(uri, f'./{row.feed_key}_gtfs.zip')\n",
    "    # fs.get(uri, f'./{row.gtfs_dataset_name.replace(\" \", \"_\")}_{row.feed_key}_gtfs.zip')\n",
    "    # print(f'downloaded {row.path}/{row.feed_key}_gtfs.zip')"
   ]
  },
  {
   "cell_type": "code",
   "execution_count": 31,
   "id": "2c9e6f50-a8c5-45d2-aa94-926870613584",
   "metadata": {},
   "outputs": [
    {
     "name": "stdout",
     "output_type": "stream",
     "text": [
      "gs://calitp-gtfs-schedule-raw-v2/schedule/dt=2023-10-25/*/base64_url=aHR0cHM6Ly9hcGkuNTExLm9yZy90cmFuc2l0L2RhdGFmZWVkcz9vcGVyYXRvcl9pZD1BQw==/*.zip\n",
      "gs://calitp-gtfs-schedule-raw-v2/schedule/dt=2023-04-27/*/base64_url=aHR0cHM6Ly9hcGkuNTExLm9yZy90cmFuc2l0L2RhdGFmZWVkcz9vcGVyYXRvcl9pZD1BQw==/*.zip\n",
      "gs://calitp-gtfs-schedule-raw-v2/schedule/dt=2023-12-03/*/base64_url=aHR0cHM6Ly9hcGkuNTExLm9yZy90cmFuc2l0L2RhdGFmZWVkcz9vcGVyYXRvcl9pZD1BQw==/*.zip\n",
      "gs://calitp-gtfs-schedule-raw-v2/schedule/dt=2023-08-03/*/base64_url=aHR0cHM6Ly9hcGkuNTExLm9yZy90cmFuc2l0L2RhdGFmZWVkcz9vcGVyYXRvcl9pZD1BQw==/*.zip\n",
      "gs://calitp-gtfs-schedule-raw-v2/schedule/dt=2023-12-18/*/base64_url=aHR0cHM6Ly9hcGkuNTExLm9yZy90cmFuc2l0L2RhdGFmZWVkcz9vcGVyYXRvcl9pZD1BQw==/*.zip\n",
      "gs://calitp-gtfs-schedule-raw-v2/schedule/dt=2023-05-19/*/base64_url=aHR0cHM6Ly9hcGkuNTExLm9yZy90cmFuc2l0L2RhdGFmZWVkcz9vcGVyYXRvcl9pZD1BQw==/*.zip\n",
      "gs://calitp-gtfs-schedule-raw-v2/schedule/dt=2023-08-06/*/base64_url=aHR0cHM6Ly9hcGkuNTExLm9yZy90cmFuc2l0L2RhdGFmZWVkcz9vcGVyYXRvcl9pZD1BQw==/*.zip\n",
      "gs://calitp-gtfs-schedule-raw-v2/schedule/dt=2023-03-29/*/base64_url=aHR0cHM6Ly9hcGkuNTExLm9yZy90cmFuc2l0L2RhdGFmZWVkcz9vcGVyYXRvcl9pZD1BQw==/*.zip\n",
      "gs://calitp-gtfs-schedule-raw-v2/schedule/dt=2023-06-11/*/base64_url=aHR0cHM6Ly9hcGkuNTExLm9yZy90cmFuc2l0L2RhdGFmZWVkcz9vcGVyYXRvcl9pZD1BQw==/*.zip\n"
     ]
    },
    {
     "data": {
      "text/plain": [
       "0    None\n",
       "1    None\n",
       "2    None\n",
       "3    None\n",
       "4    None\n",
       "5    None\n",
       "6    None\n",
       "7    None\n",
       "8    None\n",
       "dtype: object"
      ]
     },
     "execution_count": 31,
     "metadata": {},
     "output_type": "execute_result"
    }
   ],
   "source": [
    "df2.apply(download_feed, axis = 1)"
   ]
  },
  {
   "cell_type": "code",
   "execution_count": null,
   "id": "374e997d-803c-4a32-86c1-ac8c6e06a7bf",
   "metadata": {},
   "outputs": [],
   "source": []
  }
 ],
 "metadata": {
  "kernelspec": {
   "display_name": "Python 3 (ipykernel)",
   "language": "python",
   "name": "python3"
  },
  "language_info": {
   "codemirror_mode": {
    "name": "ipython",
    "version": 3
   },
   "file_extension": ".py",
   "mimetype": "text/x-python",
   "name": "python",
   "nbconvert_exporter": "python",
   "pygments_lexer": "ipython3",
   "version": "3.9.13"
  },
  "widgets": {
   "application/vnd.jupyter.widget-state+json": {
    "state": {},
    "version_major": 2,
    "version_minor": 0
   }
  }
 },
 "nbformat": 4,
 "nbformat_minor": 5
}
