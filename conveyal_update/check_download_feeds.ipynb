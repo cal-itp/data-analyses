{
 "cells": [
  {
   "cell_type": "code",
   "execution_count": 1,
   "id": "8ddfc58a-d984-4f20-88f8-b0be5e801753",
   "metadata": {},
   "outputs": [
    {
     "name": "stderr",
     "output_type": "stream",
     "text": [
      "/opt/conda/lib/python3.9/site-packages/geopandas/_compat.py:124: UserWarning: The Shapely GEOS version (3.11.1-CAPI-1.17.1) is incompatible with the GEOS version PyGEOS was compiled with (3.10.1-CAPI-1.16.0). Conversions between both will be slow.\n",
      "  warnings.warn(\n"
     ]
    }
   ],
   "source": [
    "import os\n",
    "os.environ[\"CALITP_BQ_MAX_BYTES\"] = str(800_000_000_000)\n",
    "import shared_utils\n",
    "\n",
    "from calitp_data_analysis import get_fs\n",
    "from calitp_data_analysis.tables import tbls\n",
    "import calitp_data_analysis.magics\n",
    "\n",
    "from siuba import *\n",
    "import pandas as pd\n",
    "import geopandas as gpd\n",
    "\n",
    "import datetime as dt"
   ]
  },
  {
   "cell_type": "markdown",
   "id": "5b998348-8988-48f2-93b0-a0abf917f02e",
   "metadata": {},
   "source": [
    "# Updating procedure for updating Conveyal network bundles\n",
    "\n",
    "* much of this could be in DBT?"
   ]
  },
  {
   "cell_type": "code",
   "execution_count": 47,
   "id": "296bfae5-a830-4b35-a202-87f0c3143c83",
   "metadata": {},
   "outputs": [],
   "source": [
    "target_date = dt.date(2023, 8, 30)"
   ]
  },
  {
   "cell_type": "code",
   "execution_count": 48,
   "id": "f73da205-2eea-4acf-a649-c1f1e2441ac3",
   "metadata": {},
   "outputs": [],
   "source": [
    "feeds_on_target = shared_utils.gtfs_utils_v2.schedule_daily_feed_to_gtfs_dataset_name(selected_date=target_date)\n",
    "# default will use mtc subfeeds (prev Conveyal behavior), can spec customer facing if we wanna switch"
   ]
  },
  {
   "cell_type": "code",
   "execution_count": 49,
   "id": "d2119c99-4e57-4896-909e-4fc0e7c420f7",
   "metadata": {},
   "outputs": [
    {
     "data": {
      "text/html": [
       "<div>\n",
       "<style scoped>\n",
       "    .dataframe tbody tr th:only-of-type {\n",
       "        vertical-align: middle;\n",
       "    }\n",
       "\n",
       "    .dataframe tbody tr th {\n",
       "        vertical-align: top;\n",
       "    }\n",
       "\n",
       "    .dataframe thead th {\n",
       "        text-align: right;\n",
       "    }\n",
       "</style>\n",
       "<table border=\"1\" class=\"dataframe\">\n",
       "  <thead>\n",
       "    <tr style=\"text-align: right;\">\n",
       "      <th></th>\n",
       "      <th>key</th>\n",
       "      <th>date</th>\n",
       "      <th>feed_key</th>\n",
       "      <th>feed_timezone</th>\n",
       "      <th>base64_url</th>\n",
       "      <th>gtfs_dataset_key</th>\n",
       "      <th>gtfs_dataset_name</th>\n",
       "      <th>name</th>\n",
       "      <th>regional_feed_type</th>\n",
       "      <th>type</th>\n",
       "    </tr>\n",
       "  </thead>\n",
       "  <tbody>\n",
       "    <tr>\n",
       "      <th>0</th>\n",
       "      <td>976d47278b5ef81c33c7e7564e05c325</td>\n",
       "      <td>2023-08-30</td>\n",
       "      <td>e988dc0748d7a4533481e55ad98c9cf2</td>\n",
       "      <td>America/Los_Angeles</td>\n",
       "      <td>aHR0cHM6Ly90Y3J0YS50cmlwc2hvdC5jb20vdjEvZ3Rmcy...</td>\n",
       "      <td>0139b1253130b33adcd4b3a4490530d2</td>\n",
       "      <td>TCRTA TripShot Schedule</td>\n",
       "      <td>TCRTA TripShot Schedule</td>\n",
       "      <td>None</td>\n",
       "      <td>schedule</td>\n",
       "    </tr>\n",
       "    <tr>\n",
       "      <th>1</th>\n",
       "      <td>4a3f91a05acc9f21377ee732a62d97f3</td>\n",
       "      <td>2023-08-30</td>\n",
       "      <td>4ca29da6f3017b5f6cacf687e0572543</td>\n",
       "      <td>America/Los_Angeles</td>\n",
       "      <td>aHR0cHM6Ly9hcGkuNTExLm9yZy90cmFuc2l0L2RhdGFmZW...</td>\n",
       "      <td>015d67d5b75b5cf2b710bbadadfb75f5</td>\n",
       "      <td>Bay Area 511 Marin Schedule</td>\n",
       "      <td>Bay Area 511 Marin Schedule</td>\n",
       "      <td>Regional Subfeed</td>\n",
       "      <td>schedule</td>\n",
       "    </tr>\n",
       "    <tr>\n",
       "      <th>2</th>\n",
       "      <td>2e19a204d9c5d723bef5d31979c6a535</td>\n",
       "      <td>2023-08-30</td>\n",
       "      <td>5e1be3854cae4470eccf4a1323526e3a</td>\n",
       "      <td>America/Los_Angeles</td>\n",
       "      <td>aHR0cHM6Ly9naXRodWIuY29tL0xBQ01UQS9sb3MtYW5nZW...</td>\n",
       "      <td>04540587c205fb3b1a86b76badacb919</td>\n",
       "      <td>Playa Vista Schedule</td>\n",
       "      <td>Playa Vista Schedule</td>\n",
       "      <td>None</td>\n",
       "      <td>schedule</td>\n",
       "    </tr>\n",
       "  </tbody>\n",
       "</table>\n",
       "</div>"
      ],
      "text/plain": [
       "                                key       date  \\\n",
       "0  976d47278b5ef81c33c7e7564e05c325 2023-08-30   \n",
       "1  4a3f91a05acc9f21377ee732a62d97f3 2023-08-30   \n",
       "2  2e19a204d9c5d723bef5d31979c6a535 2023-08-30   \n",
       "\n",
       "                           feed_key        feed_timezone  \\\n",
       "0  e988dc0748d7a4533481e55ad98c9cf2  America/Los_Angeles   \n",
       "1  4ca29da6f3017b5f6cacf687e0572543  America/Los_Angeles   \n",
       "2  5e1be3854cae4470eccf4a1323526e3a  America/Los_Angeles   \n",
       "\n",
       "                                          base64_url  \\\n",
       "0  aHR0cHM6Ly90Y3J0YS50cmlwc2hvdC5jb20vdjEvZ3Rmcy...   \n",
       "1  aHR0cHM6Ly9hcGkuNTExLm9yZy90cmFuc2l0L2RhdGFmZW...   \n",
       "2  aHR0cHM6Ly9naXRodWIuY29tL0xBQ01UQS9sb3MtYW5nZW...   \n",
       "\n",
       "                   gtfs_dataset_key            gtfs_dataset_name  \\\n",
       "0  0139b1253130b33adcd4b3a4490530d2      TCRTA TripShot Schedule   \n",
       "1  015d67d5b75b5cf2b710bbadadfb75f5  Bay Area 511 Marin Schedule   \n",
       "2  04540587c205fb3b1a86b76badacb919         Playa Vista Schedule   \n",
       "\n",
       "                          name regional_feed_type      type  \n",
       "0      TCRTA TripShot Schedule               None  schedule  \n",
       "1  Bay Area 511 Marin Schedule   Regional Subfeed  schedule  \n",
       "2         Playa Vista Schedule               None  schedule  "
      ]
     },
     "execution_count": 49,
     "metadata": {},
     "output_type": "execute_result"
    }
   ],
   "source": [
    "feeds_on_target >> head(3)"
   ]
  },
  {
   "cell_type": "code",
   "execution_count": 56,
   "id": "467b6dbb-6c7c-4a8e-8a34-e5d2f478524a",
   "metadata": {},
   "outputs": [
    {
     "data": {
      "text/plain": [
       "(204, 10)"
      ]
     },
     "execution_count": 56,
     "metadata": {},
     "output_type": "execute_result"
    }
   ],
   "source": [
    "feeds_on_target.shape"
   ]
  },
  {
   "cell_type": "code",
   "execution_count": 51,
   "id": "fbdae203-2f11-4c14-a5d4-2320d5844847",
   "metadata": {},
   "outputs": [],
   "source": [
    "metro_test = (feeds_on_target >> filter(_.gtfs_dataset_name.str.contains('LA Metro'))).base64_url.iloc[0]"
   ]
  },
  {
   "cell_type": "markdown",
   "id": "33cedf86-ce2e-48c9-b496-3c9e42693aca",
   "metadata": {},
   "source": [
    "## Stops --> Region matching"
   ]
  },
  {
   "cell_type": "code",
   "execution_count": 7,
   "id": "3cd49887-58bb-483f-8930-a4ab58688897",
   "metadata": {},
   "outputs": [],
   "source": [
    "regions = {}\n",
    "# Set bounds for northern california\n",
    "regions['norcal'] = {'north': 42.03909, 'south': 39.07038, 'east': -119.60541, 'west': -124.49158}\n",
    "regions['central'] = {'north': 39.64165, 'south': 35.87347, 'east': -117.53174, 'west': -123.83789}\n",
    "regions['socal'] = {'north': 35.8935, 'south': 32.5005, 'east': -114.13121, 'west': -121.46759}\n",
    "regions['mojave'] = {'north': 37.81629, 'south': 34.89945, 'east': -114.59015, 'west': -118.38043}"
   ]
  },
  {
   "cell_type": "code",
   "execution_count": 8,
   "id": "1f021355-1f40-4121-8a6d-32eeb4a1c52e",
   "metadata": {},
   "outputs": [],
   "source": [
    "import shapely"
   ]
  },
  {
   "cell_type": "code",
   "execution_count": 45,
   "id": "87642e47-80eb-4a21-81c4-e41f467a7c8d",
   "metadata": {},
   "outputs": [],
   "source": [
    "# https://shapely.readthedocs.io/en/stable/reference/shapely.box.html#shapely.box\n",
    "# xmin, ymin, xmax, ymax\n",
    "to_bbox = lambda x: [x['west'], x['south'], x['east'], x['north']]"
   ]
  },
  {
   "cell_type": "code",
   "execution_count": 38,
   "id": "328b7a62-e5b7-47b8-b0e2-21f971b8e9e0",
   "metadata": {},
   "outputs": [],
   "source": [
    "df = pd.DataFrame(regions).transpose().reset_index().rename(columns={'index':'region'})"
   ]
  },
  {
   "cell_type": "code",
   "execution_count": 39,
   "id": "5b8d6fd6-6847-4121-a6c8-212a7d01f5b7",
   "metadata": {},
   "outputs": [],
   "source": [
    "df['bbox'] = df.apply(to_bbox, axis=1)"
   ]
  },
  {
   "cell_type": "code",
   "execution_count": 40,
   "id": "4a3502e5-7240-4bb1-bf33-28c96c316c3a",
   "metadata": {},
   "outputs": [
    {
     "data": {
      "text/html": [
       "<div>\n",
       "<style scoped>\n",
       "    .dataframe tbody tr th:only-of-type {\n",
       "        vertical-align: middle;\n",
       "    }\n",
       "\n",
       "    .dataframe tbody tr th {\n",
       "        vertical-align: top;\n",
       "    }\n",
       "\n",
       "    .dataframe thead th {\n",
       "        text-align: right;\n",
       "    }\n",
       "</style>\n",
       "<table border=\"1\" class=\"dataframe\">\n",
       "  <thead>\n",
       "    <tr style=\"text-align: right;\">\n",
       "      <th></th>\n",
       "      <th>region</th>\n",
       "      <th>north</th>\n",
       "      <th>south</th>\n",
       "      <th>east</th>\n",
       "      <th>west</th>\n",
       "      <th>bbox</th>\n",
       "    </tr>\n",
       "  </thead>\n",
       "  <tbody>\n",
       "    <tr>\n",
       "      <th>0</th>\n",
       "      <td>norcal</td>\n",
       "      <td>42.03909</td>\n",
       "      <td>39.07038</td>\n",
       "      <td>-119.60541</td>\n",
       "      <td>-124.49158</td>\n",
       "      <td>[-124.49158, 39.07038, -119.60541, 42.03909]</td>\n",
       "    </tr>\n",
       "    <tr>\n",
       "      <th>1</th>\n",
       "      <td>central</td>\n",
       "      <td>39.64165</td>\n",
       "      <td>35.87347</td>\n",
       "      <td>-117.53174</td>\n",
       "      <td>-123.83789</td>\n",
       "      <td>[-123.83789, 35.87347, -117.53174, 39.64165]</td>\n",
       "    </tr>\n",
       "    <tr>\n",
       "      <th>2</th>\n",
       "      <td>socal</td>\n",
       "      <td>35.89350</td>\n",
       "      <td>32.50050</td>\n",
       "      <td>-114.13121</td>\n",
       "      <td>-121.46759</td>\n",
       "      <td>[-121.46759, 32.5005, -114.13121, 35.8935]</td>\n",
       "    </tr>\n",
       "    <tr>\n",
       "      <th>3</th>\n",
       "      <td>mojave</td>\n",
       "      <td>37.81629</td>\n",
       "      <td>34.89945</td>\n",
       "      <td>-114.59015</td>\n",
       "      <td>-118.38043</td>\n",
       "      <td>[-118.38043, 34.89945, -114.59015, 37.81629]</td>\n",
       "    </tr>\n",
       "  </tbody>\n",
       "</table>\n",
       "</div>"
      ],
      "text/plain": [
       "    region     north     south       east       west  \\\n",
       "0   norcal  42.03909  39.07038 -119.60541 -124.49158   \n",
       "1  central  39.64165  35.87347 -117.53174 -123.83789   \n",
       "2    socal  35.89350  32.50050 -114.13121 -121.46759   \n",
       "3   mojave  37.81629  34.89945 -114.59015 -118.38043   \n",
       "\n",
       "                                           bbox  \n",
       "0  [-124.49158, 39.07038, -119.60541, 42.03909]  \n",
       "1  [-123.83789, 35.87347, -117.53174, 39.64165]  \n",
       "2    [-121.46759, 32.5005, -114.13121, 35.8935]  \n",
       "3  [-118.38043, 34.89945, -114.59015, 37.81629]  "
      ]
     },
     "execution_count": 40,
     "metadata": {},
     "output_type": "execute_result"
    }
   ],
   "source": [
    "df"
   ]
  },
  {
   "cell_type": "code",
   "execution_count": 42,
   "id": "97d117b1-8835-473a-893b-ead256f4fba5",
   "metadata": {},
   "outputs": [],
   "source": [
    "df['geometry'] = df.apply(lambda x: shapely.geometry.box(*x.bbox), axis = 1)"
   ]
  },
  {
   "cell_type": "code",
   "execution_count": 43,
   "id": "6b9402e0-24de-43c4-b04e-0c903a4657d6",
   "metadata": {},
   "outputs": [],
   "source": [
    "gdf = gpd.GeoDataFrame(df, crs=shared_utils.geography_utils.WGS84)"
   ]
  },
  {
   "cell_type": "code",
   "execution_count": 46,
   "id": "01160e41-81f6-45b8-ae76-86041b8f478f",
   "metadata": {},
   "outputs": [],
   "source": [
    "# gdf.explore()"
   ]
  },
  {
   "cell_type": "markdown",
   "id": "1b42f3f8-c14a-41ff-ab0f-9cc63129a3f1",
   "metadata": {},
   "source": [
    "## Validation steps here!"
   ]
  },
  {
   "cell_type": "code",
   "execution_count": 52,
   "id": "919ebd9e-e64f-445f-965d-faacb29b4190",
   "metadata": {},
   "outputs": [],
   "source": [
    "validation_tbl = tbls.mart_gtfs_quality.fct_daily_schedule_feed_validation_notices()"
   ]
  },
  {
   "cell_type": "code",
   "execution_count": 74,
   "id": "261411ad-4e8e-4fbd-a1c9-a87a1c1b48a4",
   "metadata": {},
   "outputs": [],
   "source": [
    "# confirm no errors in source table -- check reports?\n",
    "\n",
    "# smart = (feeds_on_target >> filter(_.gtfs_dataset_name.str.contains('Sono'))).base64_url.iloc[0]\n",
    "\n",
    "# ## apparently busted since moving to v4.1 on Sep 1??\n",
    "# validation_df = (validation_tbl >> filter(_.date == '2023-07-18')\n",
    "#                                 >> filter(_.total_notices > 0)\n",
    "#                                 >> filter(_.severity == 'ERROR')\n",
    "#                                 >> filter(_.base64_url == smart)\n",
    "#                                 # >> distinct(_.date, _.base64_url, _.severity)\n",
    "#                             ) >> collect()\n",
    "\n",
    "# validation_df"
   ]
  },
  {
   "cell_type": "code",
   "execution_count": 82,
   "id": "6a43714b-6eb2-46b0-96a4-46878022c5f1",
   "metadata": {},
   "outputs": [],
   "source": [
    "## apparently busted since moving to v4.1 on Sep 1??\n",
    "validation_df = (validation_tbl >> filter(_.date == target_date)\n",
    "                                >> filter(_.severity == 'ERROR',\n",
    "                                         _.total_notices > 0)\n",
    "                                >> distinct(_.date, _.base64_url, _.severity,\n",
    "                                            _.total_notices)\n",
    "                            ) >> collect()"
   ]
  },
  {
   "cell_type": "code",
   "execution_count": 83,
   "id": "26fe6c3b-7533-4a91-ae84-236c8f29320b",
   "metadata": {},
   "outputs": [
    {
     "data": {
      "text/html": [
       "<div>\n",
       "<style scoped>\n",
       "    .dataframe tbody tr th:only-of-type {\n",
       "        vertical-align: middle;\n",
       "    }\n",
       "\n",
       "    .dataframe tbody tr th {\n",
       "        vertical-align: top;\n",
       "    }\n",
       "\n",
       "    .dataframe thead th {\n",
       "        text-align: right;\n",
       "    }\n",
       "</style>\n",
       "<table border=\"1\" class=\"dataframe\">\n",
       "  <thead>\n",
       "    <tr style=\"text-align: right;\">\n",
       "      <th></th>\n",
       "      <th>date</th>\n",
       "      <th>base64_url</th>\n",
       "      <th>severity</th>\n",
       "      <th>total_notices</th>\n",
       "    </tr>\n",
       "  </thead>\n",
       "  <tbody>\n",
       "    <tr>\n",
       "      <th>0</th>\n",
       "      <td>2023-08-30</td>\n",
       "      <td>aHR0cHM6Ly9ndGZzLmNhbGl0cC5vcmcvcHJvZHVjdGlvbi...</td>\n",
       "      <td>ERROR</td>\n",
       "      <td>20</td>\n",
       "    </tr>\n",
       "    <tr>\n",
       "      <th>1</th>\n",
       "      <td>2023-08-30</td>\n",
       "      <td>aHR0cHM6Ly9kYXRhLnRyaWxsaXVtdHJhbnNpdC5jb20vZ3...</td>\n",
       "      <td>ERROR</td>\n",
       "      <td>3</td>\n",
       "    </tr>\n",
       "    <tr>\n",
       "      <th>2</th>\n",
       "      <td>2023-08-30</td>\n",
       "      <td>aHR0cHM6Ly9ndGZzLmNhbGl0cC5vcmcvcHJvZHVjdGlvbi...</td>\n",
       "      <td>ERROR</td>\n",
       "      <td>12</td>\n",
       "    </tr>\n",
       "    <tr>\n",
       "      <th>3</th>\n",
       "      <td>2023-08-30</td>\n",
       "      <td>aHR0cHM6Ly9hcGkuNTExLm9yZy90cmFuc2l0L2RhdGFmZW...</td>\n",
       "      <td>ERROR</td>\n",
       "      <td>612</td>\n",
       "    </tr>\n",
       "    <tr>\n",
       "      <th>4</th>\n",
       "      <td>2023-08-30</td>\n",
       "      <td>aHR0cHM6Ly9kYXRhLnRyaWxsaXVtdHJhbnNpdC5jb20vZ3...</td>\n",
       "      <td>ERROR</td>\n",
       "      <td>8</td>\n",
       "    </tr>\n",
       "    <tr>\n",
       "      <th>...</th>\n",
       "      <td>...</td>\n",
       "      <td>...</td>\n",
       "      <td>...</td>\n",
       "      <td>...</td>\n",
       "    </tr>\n",
       "    <tr>\n",
       "      <th>109</th>\n",
       "      <td>2023-08-30</td>\n",
       "      <td>aHR0cHM6Ly9kYXRhLnRyaWxsaXVtdHJhbnNpdC5jb20vZ3...</td>\n",
       "      <td>ERROR</td>\n",
       "      <td>46</td>\n",
       "    </tr>\n",
       "    <tr>\n",
       "      <th>110</th>\n",
       "      <td>2023-08-30</td>\n",
       "      <td>aHR0cHM6Ly9ndGZzLmNhbGl0cC5vcmcvcHJvZHVjdGlvbi...</td>\n",
       "      <td>ERROR</td>\n",
       "      <td>24</td>\n",
       "    </tr>\n",
       "    <tr>\n",
       "      <th>111</th>\n",
       "      <td>2023-08-30</td>\n",
       "      <td>aHR0cHM6Ly9naXRodWIuY29tL0xBQ01UQS9sb3MtYW5nZW...</td>\n",
       "      <td>ERROR</td>\n",
       "      <td>6</td>\n",
       "    </tr>\n",
       "    <tr>\n",
       "      <th>112</th>\n",
       "      <td>2023-08-30</td>\n",
       "      <td>aHR0cHM6Ly9ndGZzLmNhbGl0cC5vcmcvcHJvZHVjdGlvbi...</td>\n",
       "      <td>ERROR</td>\n",
       "      <td>28</td>\n",
       "    </tr>\n",
       "    <tr>\n",
       "      <th>113</th>\n",
       "      <td>2023-08-30</td>\n",
       "      <td>aHR0cHM6Ly9tamNhY3Rpb24uY29tL01KQ19HVEZTX1B1Ym...</td>\n",
       "      <td>ERROR</td>\n",
       "      <td>6</td>\n",
       "    </tr>\n",
       "  </tbody>\n",
       "</table>\n",
       "<p>114 rows × 4 columns</p>\n",
       "</div>"
      ],
      "text/plain": [
       "          date                                         base64_url severity  \\\n",
       "0   2023-08-30  aHR0cHM6Ly9ndGZzLmNhbGl0cC5vcmcvcHJvZHVjdGlvbi...    ERROR   \n",
       "1   2023-08-30  aHR0cHM6Ly9kYXRhLnRyaWxsaXVtdHJhbnNpdC5jb20vZ3...    ERROR   \n",
       "2   2023-08-30  aHR0cHM6Ly9ndGZzLmNhbGl0cC5vcmcvcHJvZHVjdGlvbi...    ERROR   \n",
       "3   2023-08-30  aHR0cHM6Ly9hcGkuNTExLm9yZy90cmFuc2l0L2RhdGFmZW...    ERROR   \n",
       "4   2023-08-30  aHR0cHM6Ly9kYXRhLnRyaWxsaXVtdHJhbnNpdC5jb20vZ3...    ERROR   \n",
       "..         ...                                                ...      ...   \n",
       "109 2023-08-30  aHR0cHM6Ly9kYXRhLnRyaWxsaXVtdHJhbnNpdC5jb20vZ3...    ERROR   \n",
       "110 2023-08-30  aHR0cHM6Ly9ndGZzLmNhbGl0cC5vcmcvcHJvZHVjdGlvbi...    ERROR   \n",
       "111 2023-08-30  aHR0cHM6Ly9naXRodWIuY29tL0xBQ01UQS9sb3MtYW5nZW...    ERROR   \n",
       "112 2023-08-30  aHR0cHM6Ly9ndGZzLmNhbGl0cC5vcmcvcHJvZHVjdGlvbi...    ERROR   \n",
       "113 2023-08-30  aHR0cHM6Ly9tamNhY3Rpb24uY29tL01KQ19HVEZTX1B1Ym...    ERROR   \n",
       "\n",
       "     total_notices  \n",
       "0               20  \n",
       "1                3  \n",
       "2               12  \n",
       "3              612  \n",
       "4                8  \n",
       "..             ...  \n",
       "109             46  \n",
       "110             24  \n",
       "111              6  \n",
       "112             28  \n",
       "113              6  \n",
       "\n",
       "[114 rows x 4 columns]"
      ]
     },
     "execution_count": 83,
     "metadata": {},
     "output_type": "execute_result"
    }
   ],
   "source": [
    "validation_df"
   ]
  },
  {
   "cell_type": "code",
   "execution_count": 84,
   "id": "6428e781-d345-4379-990c-4cae27e6a9a2",
   "metadata": {},
   "outputs": [],
   "source": [
    "with_notices = feeds_on_target >> left_join(_, validation_df, on =['base64_url', 'date'])"
   ]
  },
  {
   "cell_type": "code",
   "execution_count": 86,
   "id": "8d888e61-816e-45a5-9365-d0fcff13ba1b",
   "metadata": {},
   "outputs": [
    {
     "data": {
      "text/html": [
       "<div>\n",
       "<style scoped>\n",
       "    .dataframe tbody tr th:only-of-type {\n",
       "        vertical-align: middle;\n",
       "    }\n",
       "\n",
       "    .dataframe tbody tr th {\n",
       "        vertical-align: top;\n",
       "    }\n",
       "\n",
       "    .dataframe thead th {\n",
       "        text-align: right;\n",
       "    }\n",
       "</style>\n",
       "<table border=\"1\" class=\"dataframe\">\n",
       "  <thead>\n",
       "    <tr style=\"text-align: right;\">\n",
       "      <th></th>\n",
       "      <th>key</th>\n",
       "      <th>date</th>\n",
       "      <th>feed_key</th>\n",
       "      <th>feed_timezone</th>\n",
       "      <th>base64_url</th>\n",
       "      <th>gtfs_dataset_key</th>\n",
       "      <th>gtfs_dataset_name</th>\n",
       "      <th>name</th>\n",
       "      <th>regional_feed_type</th>\n",
       "      <th>type</th>\n",
       "      <th>severity</th>\n",
       "      <th>total_notices</th>\n",
       "    </tr>\n",
       "  </thead>\n",
       "  <tbody>\n",
       "    <tr>\n",
       "      <th>222</th>\n",
       "      <td>5a944928eeda308d3b7df42e5ef5ae99</td>\n",
       "      <td>2023-08-30</td>\n",
       "      <td>55407fafa4579761cd7481c32f0d73df</td>\n",
       "      <td>America/Los_Angeles</td>\n",
       "      <td>aHR0cHM6Ly9kYXRhLnRyaWxsaXVtdHJhbnNpdC5jb20vZ3...</td>\n",
       "      <td>e524db270831632bdcf71df1d7e74d25</td>\n",
       "      <td>Lassen Schedule</td>\n",
       "      <td>Lassen Schedule</td>\n",
       "      <td>None</td>\n",
       "      <td>schedule</td>\n",
       "      <td>ERROR</td>\n",
       "      <td>3284.0</td>\n",
       "    </tr>\n",
       "    <tr>\n",
       "      <th>205</th>\n",
       "      <td>9f9cd105ae8cdc6467c7eacbe3a0ae2e</td>\n",
       "      <td>2023-08-30</td>\n",
       "      <td>fe662c95bddfb6e5fd75cb0afbb85cd8</td>\n",
       "      <td>America/Los_Angeles</td>\n",
       "      <td>aHR0cHM6Ly9ndGZzLmNhbGl0cC5vcmcvcHJvZHVjdGlvbi...</td>\n",
       "      <td>cde2b7a63ab7bb33141c8b02b001ea0f</td>\n",
       "      <td>TCAT Flex</td>\n",
       "      <td>TCAT Flex</td>\n",
       "      <td>None</td>\n",
       "      <td>schedule</td>\n",
       "      <td>ERROR</td>\n",
       "      <td>3105.0</td>\n",
       "    </tr>\n",
       "    <tr>\n",
       "      <th>206</th>\n",
       "      <td>9f9cd105ae8cdc6467c7eacbe3a0ae2e</td>\n",
       "      <td>2023-08-30</td>\n",
       "      <td>fe662c95bddfb6e5fd75cb0afbb85cd8</td>\n",
       "      <td>America/Los_Angeles</td>\n",
       "      <td>aHR0cHM6Ly9ndGZzLmNhbGl0cC5vcmcvcHJvZHVjdGlvbi...</td>\n",
       "      <td>cde2b7a63ab7bb33141c8b02b001ea0f</td>\n",
       "      <td>TCAT Flex</td>\n",
       "      <td>TCAT Flex</td>\n",
       "      <td>None</td>\n",
       "      <td>schedule</td>\n",
       "      <td>ERROR</td>\n",
       "      <td>3099.0</td>\n",
       "    </tr>\n",
       "    <tr>\n",
       "      <th>104</th>\n",
       "      <td>2aba7b8a16754bcf57ec6d58ed907c13</td>\n",
       "      <td>2023-08-30</td>\n",
       "      <td>c14e920eaf0dba1815ec801c4ac51775</td>\n",
       "      <td>America/Los_Angeles</td>\n",
       "      <td>aHR0cHM6Ly9kYXRhLnRyaWxsaXVtdHJhbnNpdC5jb20vZ3...</td>\n",
       "      <td>6fa88692b54f9ce98d2b95ae6804fa43</td>\n",
       "      <td>Merced Schedule</td>\n",
       "      <td>Merced Schedule</td>\n",
       "      <td>None</td>\n",
       "      <td>schedule</td>\n",
       "      <td>ERROR</td>\n",
       "      <td>2292.0</td>\n",
       "    </tr>\n",
       "    <tr>\n",
       "      <th>95</th>\n",
       "      <td>94a09768998b6c79c22abaebb65edfde</td>\n",
       "      <td>2023-08-30</td>\n",
       "      <td>598ff5ab409c5158804e68abfc5698fa</td>\n",
       "      <td>America/Los_Angeles</td>\n",
       "      <td>aHR0cHM6Ly9kYXRhLnRyaWxsaXVtdHJhbnNpdC5jb20vZ3...</td>\n",
       "      <td>6a74a120fe2da801e778ac523b354e2b</td>\n",
       "      <td>Trinity Schedule</td>\n",
       "      <td>Trinity Schedule</td>\n",
       "      <td>None</td>\n",
       "      <td>schedule</td>\n",
       "      <td>ERROR</td>\n",
       "      <td>2069.0</td>\n",
       "    </tr>\n",
       "  </tbody>\n",
       "</table>\n",
       "</div>"
      ],
      "text/plain": [
       "                                  key       date  \\\n",
       "222  5a944928eeda308d3b7df42e5ef5ae99 2023-08-30   \n",
       "205  9f9cd105ae8cdc6467c7eacbe3a0ae2e 2023-08-30   \n",
       "206  9f9cd105ae8cdc6467c7eacbe3a0ae2e 2023-08-30   \n",
       "104  2aba7b8a16754bcf57ec6d58ed907c13 2023-08-30   \n",
       "95   94a09768998b6c79c22abaebb65edfde 2023-08-30   \n",
       "\n",
       "                             feed_key        feed_timezone  \\\n",
       "222  55407fafa4579761cd7481c32f0d73df  America/Los_Angeles   \n",
       "205  fe662c95bddfb6e5fd75cb0afbb85cd8  America/Los_Angeles   \n",
       "206  fe662c95bddfb6e5fd75cb0afbb85cd8  America/Los_Angeles   \n",
       "104  c14e920eaf0dba1815ec801c4ac51775  America/Los_Angeles   \n",
       "95   598ff5ab409c5158804e68abfc5698fa  America/Los_Angeles   \n",
       "\n",
       "                                            base64_url  \\\n",
       "222  aHR0cHM6Ly9kYXRhLnRyaWxsaXVtdHJhbnNpdC5jb20vZ3...   \n",
       "205  aHR0cHM6Ly9ndGZzLmNhbGl0cC5vcmcvcHJvZHVjdGlvbi...   \n",
       "206  aHR0cHM6Ly9ndGZzLmNhbGl0cC5vcmcvcHJvZHVjdGlvbi...   \n",
       "104  aHR0cHM6Ly9kYXRhLnRyaWxsaXVtdHJhbnNpdC5jb20vZ3...   \n",
       "95   aHR0cHM6Ly9kYXRhLnRyaWxsaXVtdHJhbnNpdC5jb20vZ3...   \n",
       "\n",
       "                     gtfs_dataset_key gtfs_dataset_name              name  \\\n",
       "222  e524db270831632bdcf71df1d7e74d25   Lassen Schedule   Lassen Schedule   \n",
       "205  cde2b7a63ab7bb33141c8b02b001ea0f         TCAT Flex         TCAT Flex   \n",
       "206  cde2b7a63ab7bb33141c8b02b001ea0f         TCAT Flex         TCAT Flex   \n",
       "104  6fa88692b54f9ce98d2b95ae6804fa43   Merced Schedule   Merced Schedule   \n",
       "95   6a74a120fe2da801e778ac523b354e2b  Trinity Schedule  Trinity Schedule   \n",
       "\n",
       "    regional_feed_type      type severity  total_notices  \n",
       "222               None  schedule    ERROR         3284.0  \n",
       "205               None  schedule    ERROR         3105.0  \n",
       "206               None  schedule    ERROR         3099.0  \n",
       "104               None  schedule    ERROR         2292.0  \n",
       "95                None  schedule    ERROR         2069.0  "
      ]
     },
     "execution_count": 86,
     "metadata": {},
     "output_type": "execute_result"
    }
   ],
   "source": [
    "with_notices >> arrange(-_.total_notices) >> head(5)"
   ]
  },
  {
   "cell_type": "markdown",
   "id": "6e9862a5-acc7-4d65-882c-530390726ec5",
   "metadata": {},
   "source": [
    "## Download raw from GCS (for Conveyal)"
   ]
  },
  {
   "cell_type": "code",
   "execution_count": 8,
   "id": "2befb3c9-36ff-4128-8561-31f2d7aea1cd",
   "metadata": {},
   "outputs": [],
   "source": [
    "fs = get_fs()"
   ]
  },
  {
   "cell_type": "code",
   "execution_count": 30,
   "id": "cbd10800-3d10-4c2d-9d1a-f68205bed3a9",
   "metadata": {},
   "outputs": [],
   "source": [
    "base64_url = metro_test"
   ]
  },
  {
   "cell_type": "code",
   "execution_count": 31,
   "id": "d7d488eb-a937-4f93-acb2-4d2f67c06e9c",
   "metadata": {},
   "outputs": [],
   "source": [
    "# need wildcard for file too -- not all are gtfs.zip!\n",
    "uri = f'gs://calitp-gtfs-schedule-raw-v2/schedule/dt={target_date}/*/base64_url={base64_url}/*.zip'"
   ]
  },
  {
   "cell_type": "code",
   "execution_count": 32,
   "id": "3963e90d-87ad-4bf7-8e8f-2657648b10cd",
   "metadata": {},
   "outputs": [
    {
     "data": {
      "text/plain": [
       "[None]"
      ]
     },
     "execution_count": 32,
     "metadata": {},
     "output_type": "execute_result"
    }
   ],
   "source": [
    "fs.get(uri, './gtfs.zip')"
   ]
  },
  {
   "cell_type": "code",
   "execution_count": null,
   "id": "c88007b8-d075-402d-80af-a317e18a112e",
   "metadata": {},
   "outputs": [],
   "source": [
    "def "
   ]
  }
 ],
 "metadata": {
  "kernelspec": {
   "display_name": "Python 3 (ipykernel)",
   "language": "python",
   "name": "python3"
  },
  "language_info": {
   "codemirror_mode": {
    "name": "ipython",
    "version": 3
   },
   "file_extension": ".py",
   "mimetype": "text/x-python",
   "name": "python",
   "nbconvert_exporter": "python",
   "pygments_lexer": "ipython3",
   "version": "3.9.13"
  },
  "widgets": {
   "application/vnd.jupyter.widget-state+json": {
    "state": {},
    "version_major": 2,
    "version_minor": 0
   }
  }
 },
 "nbformat": 4,
 "nbformat_minor": 5
}
