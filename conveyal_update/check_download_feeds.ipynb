{
 "cells": [
  {
   "cell_type": "code",
   "execution_count": 1,
   "id": "8ddfc58a-d984-4f20-88f8-b0be5e801753",
   "metadata": {},
   "outputs": [
    {
     "name": "stderr",
     "output_type": "stream",
     "text": [
      "/opt/conda/lib/python3.9/site-packages/geopandas/_compat.py:124: UserWarning: The Shapely GEOS version (3.11.1-CAPI-1.17.1) is incompatible with the GEOS version PyGEOS was compiled with (3.10.1-CAPI-1.16.0). Conversions between both will be slow.\n",
      "  warnings.warn(\n"
     ]
    }
   ],
   "source": [
    "import os\n",
    "os.environ[\"CALITP_BQ_MAX_BYTES\"] = str(800_000_000_000)\n",
    "import shared_utils\n",
    "\n",
    "from calitp_data_analysis import get_fs\n",
    "from calitp_data_analysis.tables import tbls\n",
    "import calitp_data_analysis.magics\n",
    "\n",
    "from siuba import *\n",
    "import pandas as pd\n",
    "import geopandas as gpd\n",
    "\n",
    "import datetime as dt"
   ]
  },
  {
   "cell_type": "markdown",
   "id": "5b998348-8988-48f2-93b0-a0abf917f02e",
   "metadata": {},
   "source": [
    "# Updating procedure for updating Conveyal network bundles\n",
    "\n",
    "* much of this could be in DBT?"
   ]
  },
  {
   "cell_type": "code",
   "execution_count": 2,
   "id": "296bfae5-a830-4b35-a202-87f0c3143c83",
   "metadata": {},
   "outputs": [],
   "source": [
    "target_date = dt.date(2023, 9, 1)"
   ]
  },
  {
   "cell_type": "code",
   "execution_count": 3,
   "id": "f73da205-2eea-4acf-a649-c1f1e2441ac3",
   "metadata": {},
   "outputs": [],
   "source": [
    "feeds_on_target = shared_utils.gtfs_utils_v2.schedule_daily_feed_to_gtfs_dataset_name(selected_date=target_date)\n",
    "# default will use mtc subfeeds (prev Conveyal behavior), can spec customer facing if we wanna switch"
   ]
  },
  {
   "cell_type": "code",
   "execution_count": 4,
   "id": "d2119c99-4e57-4896-909e-4fc0e7c420f7",
   "metadata": {},
   "outputs": [
    {
     "data": {
      "text/html": [
       "<div>\n",
       "<style scoped>\n",
       "    .dataframe tbody tr th:only-of-type {\n",
       "        vertical-align: middle;\n",
       "    }\n",
       "\n",
       "    .dataframe tbody tr th {\n",
       "        vertical-align: top;\n",
       "    }\n",
       "\n",
       "    .dataframe thead th {\n",
       "        text-align: right;\n",
       "    }\n",
       "</style>\n",
       "<table border=\"1\" class=\"dataframe\">\n",
       "  <thead>\n",
       "    <tr style=\"text-align: right;\">\n",
       "      <th></th>\n",
       "      <th>key</th>\n",
       "      <th>date</th>\n",
       "      <th>feed_key</th>\n",
       "      <th>feed_timezone</th>\n",
       "      <th>base64_url</th>\n",
       "      <th>gtfs_dataset_key</th>\n",
       "      <th>gtfs_dataset_name</th>\n",
       "      <th>name</th>\n",
       "      <th>regional_feed_type</th>\n",
       "      <th>type</th>\n",
       "    </tr>\n",
       "  </thead>\n",
       "  <tbody>\n",
       "    <tr>\n",
       "      <th>0</th>\n",
       "      <td>f95a4142a38ae102a7a07cbad9de37fe</td>\n",
       "      <td>2023-09-01</td>\n",
       "      <td>e34cf65857aa8ad042e2446d053264c1</td>\n",
       "      <td>America/Los_Angeles</td>\n",
       "      <td>aHR0cHM6Ly90Y3J0YS50cmlwc2hvdC5jb20vdjEvZ3Rmcy...</td>\n",
       "      <td>0139b1253130b33adcd4b3a4490530d2</td>\n",
       "      <td>TCRTA TripShot Schedule</td>\n",
       "      <td>TCRTA TripShot Schedule</td>\n",
       "      <td>None</td>\n",
       "      <td>schedule</td>\n",
       "    </tr>\n",
       "    <tr>\n",
       "      <th>1</th>\n",
       "      <td>cccf568bbb9014e54866541b3c3d43cc</td>\n",
       "      <td>2023-09-01</td>\n",
       "      <td>4ca29da6f3017b5f6cacf687e0572543</td>\n",
       "      <td>America/Los_Angeles</td>\n",
       "      <td>aHR0cHM6Ly9hcGkuNTExLm9yZy90cmFuc2l0L2RhdGFmZW...</td>\n",
       "      <td>015d67d5b75b5cf2b710bbadadfb75f5</td>\n",
       "      <td>Bay Area 511 Marin Schedule</td>\n",
       "      <td>Bay Area 511 Marin Schedule</td>\n",
       "      <td>Regional Subfeed</td>\n",
       "      <td>schedule</td>\n",
       "    </tr>\n",
       "    <tr>\n",
       "      <th>2</th>\n",
       "      <td>3b5ba7d9f7885aef7a7e29de98f6afb0</td>\n",
       "      <td>2023-09-01</td>\n",
       "      <td>5e1be3854cae4470eccf4a1323526e3a</td>\n",
       "      <td>America/Los_Angeles</td>\n",
       "      <td>aHR0cHM6Ly9naXRodWIuY29tL0xBQ01UQS9sb3MtYW5nZW...</td>\n",
       "      <td>04540587c205fb3b1a86b76badacb919</td>\n",
       "      <td>Playa Vista Schedule</td>\n",
       "      <td>Playa Vista Schedule</td>\n",
       "      <td>None</td>\n",
       "      <td>schedule</td>\n",
       "    </tr>\n",
       "  </tbody>\n",
       "</table>\n",
       "</div>"
      ],
      "text/plain": [
       "                                key       date  \\\n",
       "0  f95a4142a38ae102a7a07cbad9de37fe 2023-09-01   \n",
       "1  cccf568bbb9014e54866541b3c3d43cc 2023-09-01   \n",
       "2  3b5ba7d9f7885aef7a7e29de98f6afb0 2023-09-01   \n",
       "\n",
       "                           feed_key        feed_timezone  \\\n",
       "0  e34cf65857aa8ad042e2446d053264c1  America/Los_Angeles   \n",
       "1  4ca29da6f3017b5f6cacf687e0572543  America/Los_Angeles   \n",
       "2  5e1be3854cae4470eccf4a1323526e3a  America/Los_Angeles   \n",
       "\n",
       "                                          base64_url  \\\n",
       "0  aHR0cHM6Ly90Y3J0YS50cmlwc2hvdC5jb20vdjEvZ3Rmcy...   \n",
       "1  aHR0cHM6Ly9hcGkuNTExLm9yZy90cmFuc2l0L2RhdGFmZW...   \n",
       "2  aHR0cHM6Ly9naXRodWIuY29tL0xBQ01UQS9sb3MtYW5nZW...   \n",
       "\n",
       "                   gtfs_dataset_key            gtfs_dataset_name  \\\n",
       "0  0139b1253130b33adcd4b3a4490530d2      TCRTA TripShot Schedule   \n",
       "1  015d67d5b75b5cf2b710bbadadfb75f5  Bay Area 511 Marin Schedule   \n",
       "2  04540587c205fb3b1a86b76badacb919         Playa Vista Schedule   \n",
       "\n",
       "                          name regional_feed_type      type  \n",
       "0      TCRTA TripShot Schedule               None  schedule  \n",
       "1  Bay Area 511 Marin Schedule   Regional Subfeed  schedule  \n",
       "2         Playa Vista Schedule               None  schedule  "
      ]
     },
     "execution_count": 4,
     "metadata": {},
     "output_type": "execute_result"
    }
   ],
   "source": [
    "feeds_on_target >> head(3)"
   ]
  },
  {
   "cell_type": "code",
   "execution_count": 5,
   "id": "af8e77b7-c211-4ed5-84df-0bb94a6ab0f6",
   "metadata": {},
   "outputs": [
    {
     "data": {
      "text/html": [
       "<div>\n",
       "<style scoped>\n",
       "    .dataframe tbody tr th:only-of-type {\n",
       "        vertical-align: middle;\n",
       "    }\n",
       "\n",
       "    .dataframe tbody tr th {\n",
       "        vertical-align: top;\n",
       "    }\n",
       "\n",
       "    .dataframe thead th {\n",
       "        text-align: right;\n",
       "    }\n",
       "</style>\n",
       "<table border=\"1\" class=\"dataframe\">\n",
       "  <thead>\n",
       "    <tr style=\"text-align: right;\">\n",
       "      <th></th>\n",
       "      <th>key</th>\n",
       "      <th>date</th>\n",
       "      <th>feed_key</th>\n",
       "      <th>feed_timezone</th>\n",
       "      <th>base64_url</th>\n",
       "      <th>gtfs_dataset_key</th>\n",
       "      <th>gtfs_dataset_name</th>\n",
       "      <th>name</th>\n",
       "      <th>regional_feed_type</th>\n",
       "      <th>type</th>\n",
       "    </tr>\n",
       "  </thead>\n",
       "  <tbody>\n",
       "    <tr>\n",
       "      <th>35</th>\n",
       "      <td>d57a52a00f514304f3fd226839193df1</td>\n",
       "      <td>2023-09-01</td>\n",
       "      <td>92d57c4c4cbc31f075583e14153cb9be</td>\n",
       "      <td>America/Los_Angeles</td>\n",
       "      <td>aHR0cHM6Ly9naXRsYWIuY29tL0xBQ01UQS9ndGZzX3JhaW...</td>\n",
       "      <td>2a0571758141f412b6a546fd70a65bf3</td>\n",
       "      <td>LA Metro Rail Schedule</td>\n",
       "      <td>LA Metro Rail Schedule</td>\n",
       "      <td>None</td>\n",
       "      <td>schedule</td>\n",
       "    </tr>\n",
       "    <tr>\n",
       "      <th>48</th>\n",
       "      <td>c9acd8fa8862ed4d6b7535b236f8e0fb</td>\n",
       "      <td>2023-09-01</td>\n",
       "      <td>edb0fd72b98a7f739407ceca3fae9034</td>\n",
       "      <td>America/Los_Angeles</td>\n",
       "      <td>aHR0cHM6Ly9naXRsYWIuY29tL0xBQ01UQS9ndGZzX2J1cy...</td>\n",
       "      <td>3f3f36b4c41cc6b5df3eb7f5d8ea6e3c</td>\n",
       "      <td>LA Metro Bus Schedule</td>\n",
       "      <td>LA Metro Bus Schedule</td>\n",
       "      <td>None</td>\n",
       "      <td>schedule</td>\n",
       "    </tr>\n",
       "  </tbody>\n",
       "</table>\n",
       "</div>"
      ],
      "text/plain": [
       "                                 key       date  \\\n",
       "35  d57a52a00f514304f3fd226839193df1 2023-09-01   \n",
       "48  c9acd8fa8862ed4d6b7535b236f8e0fb 2023-09-01   \n",
       "\n",
       "                            feed_key        feed_timezone  \\\n",
       "35  92d57c4c4cbc31f075583e14153cb9be  America/Los_Angeles   \n",
       "48  edb0fd72b98a7f739407ceca3fae9034  America/Los_Angeles   \n",
       "\n",
       "                                           base64_url  \\\n",
       "35  aHR0cHM6Ly9naXRsYWIuY29tL0xBQ01UQS9ndGZzX3JhaW...   \n",
       "48  aHR0cHM6Ly9naXRsYWIuY29tL0xBQ01UQS9ndGZzX2J1cy...   \n",
       "\n",
       "                    gtfs_dataset_key       gtfs_dataset_name  \\\n",
       "35  2a0571758141f412b6a546fd70a65bf3  LA Metro Rail Schedule   \n",
       "48  3f3f36b4c41cc6b5df3eb7f5d8ea6e3c   LA Metro Bus Schedule   \n",
       "\n",
       "                      name regional_feed_type      type  \n",
       "35  LA Metro Rail Schedule               None  schedule  \n",
       "48   LA Metro Bus Schedule               None  schedule  "
      ]
     },
     "execution_count": 5,
     "metadata": {},
     "output_type": "execute_result"
    }
   ],
   "source": [
    "feeds_on_target >> filter(_.gtfs_dataset_name.str.contains('LA Metro'))"
   ]
  },
  {
   "cell_type": "code",
   "execution_count": 6,
   "id": "fbdae203-2f11-4c14-a5d4-2320d5844847",
   "metadata": {},
   "outputs": [],
   "source": [
    "metro_test = (feeds_on_target >> filter(_.gtfs_dataset_name.str.contains('LA Metro'))).base64_url.iloc[0]"
   ]
  },
  {
   "cell_type": "markdown",
   "id": "33cedf86-ce2e-48c9-b496-3c9e42693aca",
   "metadata": {},
   "source": [
    "## Stops --> Region matching"
   ]
  },
  {
   "cell_type": "code",
   "execution_count": 7,
   "id": "3cd49887-58bb-483f-8930-a4ab58688897",
   "metadata": {},
   "outputs": [],
   "source": [
    "regions = {}\n",
    "# Set bounds for northern california\n",
    "regions['norcal'] = {'north': 42.03909, 'south': 39.07038, 'east': -119.60541, 'west': -124.49158}\n",
    "regions['central'] = {'north': 39.64165, 'south': 35.87347, 'east': -117.53174, 'west': -123.83789}\n",
    "regions['socal'] = {'north': 35.8935, 'south': 32.5005, 'east': -114.13121, 'west': -121.46759}\n",
    "regions['mojave'] = {'north': 37.81629, 'south': 34.89945, 'east': -114.59015, 'west': -118.38043}"
   ]
  },
  {
   "cell_type": "code",
   "execution_count": 8,
   "id": "1f021355-1f40-4121-8a6d-32eeb4a1c52e",
   "metadata": {},
   "outputs": [],
   "source": [
    "import shapely"
   ]
  },
  {
   "cell_type": "code",
   "execution_count": 45,
   "id": "87642e47-80eb-4a21-81c4-e41f467a7c8d",
   "metadata": {},
   "outputs": [],
   "source": [
    "# https://shapely.readthedocs.io/en/stable/reference/shapely.box.html#shapely.box\n",
    "# xmin, ymin, xmax, ymax\n",
    "to_bbox = lambda x: [x['west'], x['south'], x['east'], x['north']]"
   ]
  },
  {
   "cell_type": "code",
   "execution_count": 38,
   "id": "328b7a62-e5b7-47b8-b0e2-21f971b8e9e0",
   "metadata": {},
   "outputs": [],
   "source": [
    "df = pd.DataFrame(regions).transpose().reset_index().rename(columns={'index':'region'})"
   ]
  },
  {
   "cell_type": "code",
   "execution_count": 39,
   "id": "5b8d6fd6-6847-4121-a6c8-212a7d01f5b7",
   "metadata": {},
   "outputs": [],
   "source": [
    "df['bbox'] = df.apply(to_bbox, axis=1)"
   ]
  },
  {
   "cell_type": "code",
   "execution_count": 40,
   "id": "4a3502e5-7240-4bb1-bf33-28c96c316c3a",
   "metadata": {},
   "outputs": [
    {
     "data": {
      "text/html": [
       "<div>\n",
       "<style scoped>\n",
       "    .dataframe tbody tr th:only-of-type {\n",
       "        vertical-align: middle;\n",
       "    }\n",
       "\n",
       "    .dataframe tbody tr th {\n",
       "        vertical-align: top;\n",
       "    }\n",
       "\n",
       "    .dataframe thead th {\n",
       "        text-align: right;\n",
       "    }\n",
       "</style>\n",
       "<table border=\"1\" class=\"dataframe\">\n",
       "  <thead>\n",
       "    <tr style=\"text-align: right;\">\n",
       "      <th></th>\n",
       "      <th>region</th>\n",
       "      <th>north</th>\n",
       "      <th>south</th>\n",
       "      <th>east</th>\n",
       "      <th>west</th>\n",
       "      <th>bbox</th>\n",
       "    </tr>\n",
       "  </thead>\n",
       "  <tbody>\n",
       "    <tr>\n",
       "      <th>0</th>\n",
       "      <td>norcal</td>\n",
       "      <td>42.03909</td>\n",
       "      <td>39.07038</td>\n",
       "      <td>-119.60541</td>\n",
       "      <td>-124.49158</td>\n",
       "      <td>[-124.49158, 39.07038, -119.60541, 42.03909]</td>\n",
       "    </tr>\n",
       "    <tr>\n",
       "      <th>1</th>\n",
       "      <td>central</td>\n",
       "      <td>39.64165</td>\n",
       "      <td>35.87347</td>\n",
       "      <td>-117.53174</td>\n",
       "      <td>-123.83789</td>\n",
       "      <td>[-123.83789, 35.87347, -117.53174, 39.64165]</td>\n",
       "    </tr>\n",
       "    <tr>\n",
       "      <th>2</th>\n",
       "      <td>socal</td>\n",
       "      <td>35.89350</td>\n",
       "      <td>32.50050</td>\n",
       "      <td>-114.13121</td>\n",
       "      <td>-121.46759</td>\n",
       "      <td>[-121.46759, 32.5005, -114.13121, 35.8935]</td>\n",
       "    </tr>\n",
       "    <tr>\n",
       "      <th>3</th>\n",
       "      <td>mojave</td>\n",
       "      <td>37.81629</td>\n",
       "      <td>34.89945</td>\n",
       "      <td>-114.59015</td>\n",
       "      <td>-118.38043</td>\n",
       "      <td>[-118.38043, 34.89945, -114.59015, 37.81629]</td>\n",
       "    </tr>\n",
       "  </tbody>\n",
       "</table>\n",
       "</div>"
      ],
      "text/plain": [
       "    region     north     south       east       west  \\\n",
       "0   norcal  42.03909  39.07038 -119.60541 -124.49158   \n",
       "1  central  39.64165  35.87347 -117.53174 -123.83789   \n",
       "2    socal  35.89350  32.50050 -114.13121 -121.46759   \n",
       "3   mojave  37.81629  34.89945 -114.59015 -118.38043   \n",
       "\n",
       "                                           bbox  \n",
       "0  [-124.49158, 39.07038, -119.60541, 42.03909]  \n",
       "1  [-123.83789, 35.87347, -117.53174, 39.64165]  \n",
       "2    [-121.46759, 32.5005, -114.13121, 35.8935]  \n",
       "3  [-118.38043, 34.89945, -114.59015, 37.81629]  "
      ]
     },
     "execution_count": 40,
     "metadata": {},
     "output_type": "execute_result"
    }
   ],
   "source": [
    "df"
   ]
  },
  {
   "cell_type": "code",
   "execution_count": 42,
   "id": "97d117b1-8835-473a-893b-ead256f4fba5",
   "metadata": {},
   "outputs": [],
   "source": [
    "df['geometry'] = df.apply(lambda x: shapely.geometry.box(*x.bbox), axis = 1)"
   ]
  },
  {
   "cell_type": "code",
   "execution_count": 43,
   "id": "6b9402e0-24de-43c4-b04e-0c903a4657d6",
   "metadata": {},
   "outputs": [],
   "source": [
    "gdf = gpd.GeoDataFrame(df, crs=shared_utils.geography_utils.WGS84)"
   ]
  },
  {
   "cell_type": "code",
   "execution_count": 44,
   "id": "01160e41-81f6-45b8-ae76-86041b8f478f",
   "metadata": {},
   "outputs": [
    {
     "data": {
      "text/html": [
       "<div style=\"width:100%;\"><div style=\"position:relative;width:100%;height:0;padding-bottom:60%;\"><span style=\"color:#565656\">Make this Notebook Trusted to load map: File -> Trust Notebook</span><iframe src=\"about:blank\" style=\"position:absolute;width:100%;height:100%;left:0;top:0;border:none !important;\" data-html=%3C%21DOCTYPE%20html%3E%0A%3Chead%3E%20%20%20%20%0A%20%20%20%20%3Cmeta%20http-equiv%3D%22content-type%22%20content%3D%22text/html%3B%20charset%3DUTF-8%22%20/%3E%0A%20%20%20%20%0A%20%20%20%20%20%20%20%20%3Cscript%3E%0A%20%20%20%20%20%20%20%20%20%20%20%20L_NO_TOUCH%20%3D%20false%3B%0A%20%20%20%20%20%20%20%20%20%20%20%20L_DISABLE_3D%20%3D%20false%3B%0A%20%20%20%20%20%20%20%20%3C/script%3E%0A%20%20%20%20%0A%20%20%20%20%3Cstyle%3Ehtml%2C%20body%20%7Bwidth%3A%20100%25%3Bheight%3A%20100%25%3Bmargin%3A%200%3Bpadding%3A%200%3B%7D%3C/style%3E%0A%20%20%20%20%3Cstyle%3E%23map%20%7Bposition%3Aabsolute%3Btop%3A0%3Bbottom%3A0%3Bright%3A0%3Bleft%3A0%3B%7D%3C/style%3E%0A%20%20%20%20%3Cscript%20src%3D%22https%3A//cdn.jsdelivr.net/npm/leaflet%401.6.0/dist/leaflet.js%22%3E%3C/script%3E%0A%20%20%20%20%3Cscript%20src%3D%22https%3A//code.jquery.com/jquery-1.12.4.min.js%22%3E%3C/script%3E%0A%20%20%20%20%3Cscript%20src%3D%22https%3A//maxcdn.bootstrapcdn.com/bootstrap/3.2.0/js/bootstrap.min.js%22%3E%3C/script%3E%0A%20%20%20%20%3Cscript%20src%3D%22https%3A//cdnjs.cloudflare.com/ajax/libs/Leaflet.awesome-markers/2.0.2/leaflet.awesome-markers.js%22%3E%3C/script%3E%0A%20%20%20%20%3Clink%20rel%3D%22stylesheet%22%20href%3D%22https%3A//cdn.jsdelivr.net/npm/leaflet%401.6.0/dist/leaflet.css%22/%3E%0A%20%20%20%20%3Clink%20rel%3D%22stylesheet%22%20href%3D%22https%3A//maxcdn.bootstrapcdn.com/bootstrap/3.2.0/css/bootstrap.min.css%22/%3E%0A%20%20%20%20%3Clink%20rel%3D%22stylesheet%22%20href%3D%22https%3A//maxcdn.bootstrapcdn.com/bootstrap/3.2.0/css/bootstrap-theme.min.css%22/%3E%0A%20%20%20%20%3Clink%20rel%3D%22stylesheet%22%20href%3D%22https%3A//maxcdn.bootstrapcdn.com/font-awesome/4.6.3/css/font-awesome.min.css%22/%3E%0A%20%20%20%20%3Clink%20rel%3D%22stylesheet%22%20href%3D%22https%3A//cdnjs.cloudflare.com/ajax/libs/Leaflet.awesome-markers/2.0.2/leaflet.awesome-markers.css%22/%3E%0A%20%20%20%20%3Clink%20rel%3D%22stylesheet%22%20href%3D%22https%3A//cdn.jsdelivr.net/gh/python-visualization/folium/folium/templates/leaflet.awesome.rotate.min.css%22/%3E%0A%20%20%20%20%0A%20%20%20%20%20%20%20%20%20%20%20%20%3Cmeta%20name%3D%22viewport%22%20content%3D%22width%3Ddevice-width%2C%0A%20%20%20%20%20%20%20%20%20%20%20%20%20%20%20%20initial-scale%3D1.0%2C%20maximum-scale%3D1.0%2C%20user-scalable%3Dno%22%20/%3E%0A%20%20%20%20%20%20%20%20%20%20%20%20%3Cstyle%3E%0A%20%20%20%20%20%20%20%20%20%20%20%20%20%20%20%20%23map_5a029864817d44729a6e57e310d749fd%20%7B%0A%20%20%20%20%20%20%20%20%20%20%20%20%20%20%20%20%20%20%20%20position%3A%20relative%3B%0A%20%20%20%20%20%20%20%20%20%20%20%20%20%20%20%20%20%20%20%20width%3A%20100.0%25%3B%0A%20%20%20%20%20%20%20%20%20%20%20%20%20%20%20%20%20%20%20%20height%3A%20100.0%25%3B%0A%20%20%20%20%20%20%20%20%20%20%20%20%20%20%20%20%20%20%20%20left%3A%200.0%25%3B%0A%20%20%20%20%20%20%20%20%20%20%20%20%20%20%20%20%20%20%20%20top%3A%200.0%25%3B%0A%20%20%20%20%20%20%20%20%20%20%20%20%20%20%20%20%7D%0A%20%20%20%20%20%20%20%20%20%20%20%20%3C/style%3E%0A%20%20%20%20%20%20%20%20%0A%20%20%20%20%0A%20%20%20%20%20%20%20%20%20%20%20%20%20%20%20%20%20%20%20%20%3Cstyle%3E%0A%20%20%20%20%20%20%20%20%20%20%20%20%20%20%20%20%20%20%20%20%20%20%20%20.foliumtooltip%20%7B%0A%20%20%20%20%20%20%20%20%20%20%20%20%20%20%20%20%20%20%20%20%20%20%20%20%20%20%20%20%0A%20%20%20%20%20%20%20%20%20%20%20%20%20%20%20%20%20%20%20%20%20%20%20%20%7D%0A%20%20%20%20%20%20%20%20%20%20%20%20%20%20%20%20%20%20%20%20%20%20%20.foliumtooltip%20table%7B%0A%20%20%20%20%20%20%20%20%20%20%20%20%20%20%20%20%20%20%20%20%20%20%20%20%20%20%20%20margin%3A%20auto%3B%0A%20%20%20%20%20%20%20%20%20%20%20%20%20%20%20%20%20%20%20%20%20%20%20%20%7D%0A%20%20%20%20%20%20%20%20%20%20%20%20%20%20%20%20%20%20%20%20%20%20%20%20.foliumtooltip%20tr%7B%0A%20%20%20%20%20%20%20%20%20%20%20%20%20%20%20%20%20%20%20%20%20%20%20%20%20%20%20%20text-align%3A%20left%3B%0A%20%20%20%20%20%20%20%20%20%20%20%20%20%20%20%20%20%20%20%20%20%20%20%20%7D%0A%20%20%20%20%20%20%20%20%20%20%20%20%20%20%20%20%20%20%20%20%20%20%20%20.foliumtooltip%20th%7B%0A%20%20%20%20%20%20%20%20%20%20%20%20%20%20%20%20%20%20%20%20%20%20%20%20%20%20%20%20padding%3A%202px%3B%20padding-right%3A%208px%3B%0A%20%20%20%20%20%20%20%20%20%20%20%20%20%20%20%20%20%20%20%20%20%20%20%20%7D%0A%20%20%20%20%20%20%20%20%20%20%20%20%20%20%20%20%20%20%20%20%3C/style%3E%0A%20%20%20%20%20%20%20%20%20%20%20%20%0A%3C/head%3E%0A%3Cbody%3E%20%20%20%20%0A%20%20%20%20%0A%20%20%20%20%20%20%20%20%20%20%20%20%3Cdiv%20class%3D%22folium-map%22%20id%3D%22map_5a029864817d44729a6e57e310d749fd%22%20%3E%3C/div%3E%0A%20%20%20%20%20%20%20%20%0A%3C/body%3E%0A%3Cscript%3E%20%20%20%20%0A%20%20%20%20%0A%20%20%20%20%20%20%20%20%20%20%20%20var%20map_5a029864817d44729a6e57e310d749fd%20%3D%20L.map%28%0A%20%20%20%20%20%20%20%20%20%20%20%20%20%20%20%20%22map_5a029864817d44729a6e57e310d749fd%22%2C%0A%20%20%20%20%20%20%20%20%20%20%20%20%20%20%20%20%7B%0A%20%20%20%20%20%20%20%20%20%20%20%20%20%20%20%20%20%20%20%20center%3A%20%5B37.269795%2C%20-119.311395%5D%2C%0A%20%20%20%20%20%20%20%20%20%20%20%20%20%20%20%20%20%20%20%20crs%3A%20L.CRS.EPSG3857%2C%0A%20%20%20%20%20%20%20%20%20%20%20%20%20%20%20%20%20%20%20%20zoom%3A%2010%2C%0A%20%20%20%20%20%20%20%20%20%20%20%20%20%20%20%20%20%20%20%20zoomControl%3A%20true%2C%0A%20%20%20%20%20%20%20%20%20%20%20%20%20%20%20%20%20%20%20%20preferCanvas%3A%20false%2C%0A%20%20%20%20%20%20%20%20%20%20%20%20%20%20%20%20%7D%0A%20%20%20%20%20%20%20%20%20%20%20%20%29%3B%0A%20%20%20%20%20%20%20%20%20%20%20%20L.control.scale%28%29.addTo%28map_5a029864817d44729a6e57e310d749fd%29%3B%0A%0A%20%20%20%20%20%20%20%20%20%20%20%20%0A%0A%20%20%20%20%20%20%20%20%0A%20%20%20%20%0A%20%20%20%20%20%20%20%20%20%20%20%20var%20tile_layer_69d0c21d484d48818e8c19826febdb4f%20%3D%20L.tileLayer%28%0A%20%20%20%20%20%20%20%20%20%20%20%20%20%20%20%20%22https%3A//%7Bs%7D.tile.openstreetmap.org/%7Bz%7D/%7Bx%7D/%7By%7D.png%22%2C%0A%20%20%20%20%20%20%20%20%20%20%20%20%20%20%20%20%7B%22attribution%22%3A%20%22Data%20by%20%5Cu0026copy%3B%20%5Cu003ca%20href%3D%5C%22http%3A//openstreetmap.org%5C%22%5Cu003eOpenStreetMap%5Cu003c/a%5Cu003e%2C%20under%20%5Cu003ca%20href%3D%5C%22http%3A//www.openstreetmap.org/copyright%5C%22%5Cu003eODbL%5Cu003c/a%5Cu003e.%22%2C%20%22detectRetina%22%3A%20false%2C%20%22maxNativeZoom%22%3A%2018%2C%20%22maxZoom%22%3A%2018%2C%20%22minZoom%22%3A%200%2C%20%22noWrap%22%3A%20false%2C%20%22opacity%22%3A%201%2C%20%22subdomains%22%3A%20%22abc%22%2C%20%22tms%22%3A%20false%7D%0A%20%20%20%20%20%20%20%20%20%20%20%20%29.addTo%28map_5a029864817d44729a6e57e310d749fd%29%3B%0A%20%20%20%20%20%20%20%20%0A%20%20%20%20%0A%20%20%20%20%20%20%20%20%20%20%20%20map_5a029864817d44729a6e57e310d749fd.fitBounds%28%0A%20%20%20%20%20%20%20%20%20%20%20%20%20%20%20%20%5B%5B32.5005%2C%20-124.49158%5D%2C%20%5B42.03909%2C%20-114.13121%5D%5D%2C%0A%20%20%20%20%20%20%20%20%20%20%20%20%20%20%20%20%7B%7D%0A%20%20%20%20%20%20%20%20%20%20%20%20%29%3B%0A%20%20%20%20%20%20%20%20%0A%20%20%20%20%0A%20%20%20%20%20%20%20%20function%20geo_json_122aaf42f50b457b9c067af3287c38fe_styler%28feature%29%20%7B%0A%20%20%20%20%20%20%20%20%20%20%20%20switch%28feature.id%29%20%7B%0A%20%20%20%20%20%20%20%20%20%20%20%20%20%20%20%20default%3A%0A%20%20%20%20%20%20%20%20%20%20%20%20%20%20%20%20%20%20%20%20return%20%7B%22fillOpacity%22%3A%200.5%2C%20%22weight%22%3A%202%7D%3B%0A%20%20%20%20%20%20%20%20%20%20%20%20%7D%0A%20%20%20%20%20%20%20%20%7D%0A%20%20%20%20%20%20%20%20function%20geo_json_122aaf42f50b457b9c067af3287c38fe_highlighter%28feature%29%20%7B%0A%20%20%20%20%20%20%20%20%20%20%20%20switch%28feature.id%29%20%7B%0A%20%20%20%20%20%20%20%20%20%20%20%20%20%20%20%20default%3A%0A%20%20%20%20%20%20%20%20%20%20%20%20%20%20%20%20%20%20%20%20return%20%7B%22fillOpacity%22%3A%200.75%7D%3B%0A%20%20%20%20%20%20%20%20%20%20%20%20%7D%0A%20%20%20%20%20%20%20%20%7D%0A%20%20%20%20%20%20%20%20function%20geo_json_122aaf42f50b457b9c067af3287c38fe_pointToLayer%28feature%2C%20latlng%29%20%7B%0A%20%20%20%20%20%20%20%20%20%20%20%20var%20opts%20%3D%20%7B%22bubblingMouseEvents%22%3A%20true%2C%20%22color%22%3A%20%22%233388ff%22%2C%20%22dashArray%22%3A%20null%2C%20%22dashOffset%22%3A%20null%2C%20%22fill%22%3A%20true%2C%20%22fillColor%22%3A%20%22%233388ff%22%2C%20%22fillOpacity%22%3A%200.2%2C%20%22fillRule%22%3A%20%22evenodd%22%2C%20%22lineCap%22%3A%20%22round%22%2C%20%22lineJoin%22%3A%20%22round%22%2C%20%22opacity%22%3A%201.0%2C%20%22radius%22%3A%202%2C%20%22stroke%22%3A%20true%2C%20%22weight%22%3A%203%7D%3B%0A%20%20%20%20%20%20%20%20%20%20%20%20%0A%20%20%20%20%20%20%20%20%20%20%20%20let%20style%20%3D%20geo_json_122aaf42f50b457b9c067af3287c38fe_styler%28feature%29%0A%20%20%20%20%20%20%20%20%20%20%20%20Object.assign%28opts%2C%20style%29%0A%20%20%20%20%20%20%20%20%20%20%20%20%0A%20%20%20%20%20%20%20%20%20%20%20%20return%20new%20L.CircleMarker%28latlng%2C%20opts%29%0A%20%20%20%20%20%20%20%20%7D%0A%0A%20%20%20%20%20%20%20%20function%20geo_json_122aaf42f50b457b9c067af3287c38fe_onEachFeature%28feature%2C%20layer%29%20%7B%0A%20%20%20%20%20%20%20%20%20%20%20%20layer.on%28%7B%0A%20%20%20%20%20%20%20%20%20%20%20%20%20%20%20%20mouseout%3A%20function%28e%29%20%7B%0A%20%20%20%20%20%20%20%20%20%20%20%20%20%20%20%20%20%20%20%20if%28typeof%20e.target.setStyle%20%3D%3D%3D%20%22function%22%29%7B%0A%20%20%20%20%20%20%20%20%20%20%20%20%20%20%20%20%20%20%20%20%20%20%20%20geo_json_122aaf42f50b457b9c067af3287c38fe.resetStyle%28e.target%29%3B%0A%20%20%20%20%20%20%20%20%20%20%20%20%20%20%20%20%20%20%20%20%7D%0A%20%20%20%20%20%20%20%20%20%20%20%20%20%20%20%20%7D%2C%0A%20%20%20%20%20%20%20%20%20%20%20%20%20%20%20%20mouseover%3A%20function%28e%29%20%7B%0A%20%20%20%20%20%20%20%20%20%20%20%20%20%20%20%20%20%20%20%20if%28typeof%20e.target.setStyle%20%3D%3D%3D%20%22function%22%29%7B%0A%20%20%20%20%20%20%20%20%20%20%20%20%20%20%20%20%20%20%20%20%20%20%20%20const%20highlightStyle%20%3D%20geo_json_122aaf42f50b457b9c067af3287c38fe_highlighter%28e.target.feature%29%0A%20%20%20%20%20%20%20%20%20%20%20%20%20%20%20%20%20%20%20%20%20%20%20%20e.target.setStyle%28highlightStyle%29%3B%0A%20%20%20%20%20%20%20%20%20%20%20%20%20%20%20%20%20%20%20%20%7D%0A%20%20%20%20%20%20%20%20%20%20%20%20%20%20%20%20%7D%2C%0A%20%20%20%20%20%20%20%20%20%20%20%20%7D%29%3B%0A%20%20%20%20%20%20%20%20%7D%3B%0A%20%20%20%20%20%20%20%20var%20geo_json_122aaf42f50b457b9c067af3287c38fe%20%3D%20L.geoJson%28null%2C%20%7B%0A%20%20%20%20%20%20%20%20%20%20%20%20%20%20%20%20onEachFeature%3A%20geo_json_122aaf42f50b457b9c067af3287c38fe_onEachFeature%2C%0A%20%20%20%20%20%20%20%20%20%20%20%20%0A%20%20%20%20%20%20%20%20%20%20%20%20%20%20%20%20style%3A%20geo_json_122aaf42f50b457b9c067af3287c38fe_styler%2C%0A%20%20%20%20%20%20%20%20%20%20%20%20%20%20%20%20pointToLayer%3A%20geo_json_122aaf42f50b457b9c067af3287c38fe_pointToLayer%0A%20%20%20%20%20%20%20%20%7D%29%3B%0A%0A%20%20%20%20%20%20%20%20function%20geo_json_122aaf42f50b457b9c067af3287c38fe_add%20%28data%29%20%7B%0A%20%20%20%20%20%20%20%20%20%20%20%20geo_json_122aaf42f50b457b9c067af3287c38fe%0A%20%20%20%20%20%20%20%20%20%20%20%20%20%20%20%20.addData%28data%29%0A%20%20%20%20%20%20%20%20%20%20%20%20%20%20%20%20.addTo%28map_5a029864817d44729a6e57e310d749fd%29%3B%0A%20%20%20%20%20%20%20%20%7D%0A%20%20%20%20%20%20%20%20%20%20%20%20geo_json_122aaf42f50b457b9c067af3287c38fe_add%28%7B%22bbox%22%3A%20%5B-124.49158%2C%2032.5005%2C%20-114.13121%2C%2042.03909%5D%2C%20%22features%22%3A%20%5B%7B%22bbox%22%3A%20%5B-124.49158%2C%2039.07038%2C%20-119.60541%2C%2042.03909%5D%2C%20%22geometry%22%3A%20%7B%22coordinates%22%3A%20%5B%5B%5B-119.60541%2C%2039.07038%5D%2C%20%5B-119.60541%2C%2042.03909%5D%2C%20%5B-124.49158%2C%2042.03909%5D%2C%20%5B-124.49158%2C%2039.07038%5D%2C%20%5B-119.60541%2C%2039.07038%5D%5D%5D%2C%20%22type%22%3A%20%22Polygon%22%7D%2C%20%22id%22%3A%20%220%22%2C%20%22properties%22%3A%20%7B%22bbox%22%3A%20%5B-124.49158%2C%2039.07038%2C%20-119.60541%2C%2042.03909%5D%2C%20%22east%22%3A%20-119.60541%2C%20%22north%22%3A%2042.03909%2C%20%22region%22%3A%20%22norcal%22%2C%20%22south%22%3A%2039.07038%2C%20%22west%22%3A%20-124.49158%7D%2C%20%22type%22%3A%20%22Feature%22%7D%2C%20%7B%22bbox%22%3A%20%5B-123.83789%2C%2035.87347%2C%20-117.53174%2C%2039.64165%5D%2C%20%22geometry%22%3A%20%7B%22coordinates%22%3A%20%5B%5B%5B-117.53174%2C%2035.87347%5D%2C%20%5B-117.53174%2C%2039.64165%5D%2C%20%5B-123.83789%2C%2039.64165%5D%2C%20%5B-123.83789%2C%2035.87347%5D%2C%20%5B-117.53174%2C%2035.87347%5D%5D%5D%2C%20%22type%22%3A%20%22Polygon%22%7D%2C%20%22id%22%3A%20%221%22%2C%20%22properties%22%3A%20%7B%22bbox%22%3A%20%5B-123.83789%2C%2035.87347%2C%20-117.53174%2C%2039.64165%5D%2C%20%22east%22%3A%20-117.53174%2C%20%22north%22%3A%2039.64165%2C%20%22region%22%3A%20%22central%22%2C%20%22south%22%3A%2035.87347%2C%20%22west%22%3A%20-123.83789%7D%2C%20%22type%22%3A%20%22Feature%22%7D%2C%20%7B%22bbox%22%3A%20%5B-121.46759%2C%2032.5005%2C%20-114.13121%2C%2035.8935%5D%2C%20%22geometry%22%3A%20%7B%22coordinates%22%3A%20%5B%5B%5B-114.13121%2C%2032.5005%5D%2C%20%5B-114.13121%2C%2035.8935%5D%2C%20%5B-121.46759%2C%2035.8935%5D%2C%20%5B-121.46759%2C%2032.5005%5D%2C%20%5B-114.13121%2C%2032.5005%5D%5D%5D%2C%20%22type%22%3A%20%22Polygon%22%7D%2C%20%22id%22%3A%20%222%22%2C%20%22properties%22%3A%20%7B%22bbox%22%3A%20%5B-121.46759%2C%2032.5005%2C%20-114.13121%2C%2035.8935%5D%2C%20%22east%22%3A%20-114.13121%2C%20%22north%22%3A%2035.8935%2C%20%22region%22%3A%20%22socal%22%2C%20%22south%22%3A%2032.5005%2C%20%22west%22%3A%20-121.46759%7D%2C%20%22type%22%3A%20%22Feature%22%7D%2C%20%7B%22bbox%22%3A%20%5B-118.38043%2C%2034.89945%2C%20-114.59015%2C%2037.81629%5D%2C%20%22geometry%22%3A%20%7B%22coordinates%22%3A%20%5B%5B%5B-114.59015%2C%2034.89945%5D%2C%20%5B-114.59015%2C%2037.81629%5D%2C%20%5B-118.38043%2C%2037.81629%5D%2C%20%5B-118.38043%2C%2034.89945%5D%2C%20%5B-114.59015%2C%2034.89945%5D%5D%5D%2C%20%22type%22%3A%20%22Polygon%22%7D%2C%20%22id%22%3A%20%223%22%2C%20%22properties%22%3A%20%7B%22bbox%22%3A%20%5B-118.38043%2C%2034.89945%2C%20-114.59015%2C%2037.81629%5D%2C%20%22east%22%3A%20-114.59015%2C%20%22north%22%3A%2037.81629%2C%20%22region%22%3A%20%22mojave%22%2C%20%22south%22%3A%2034.89945%2C%20%22west%22%3A%20-118.38043%7D%2C%20%22type%22%3A%20%22Feature%22%7D%5D%2C%20%22type%22%3A%20%22FeatureCollection%22%7D%29%3B%0A%0A%20%20%20%20%20%20%20%20%0A%20%20%20%20%0A%20%20%20%20geo_json_122aaf42f50b457b9c067af3287c38fe.bindTooltip%28%0A%20%20%20%20function%28layer%29%7B%0A%20%20%20%20let%20div%20%3D%20L.DomUtil.create%28%27div%27%29%3B%0A%20%20%20%20%0A%20%20%20%20let%20handleObject%20%3D%20feature%3D%3Etypeof%28feature%29%3D%3D%27object%27%20%3F%20JSON.stringify%28feature%29%20%3A%20feature%3B%0A%20%20%20%20let%20fields%20%3D%20%5B%22region%22%2C%20%22north%22%2C%20%22south%22%2C%20%22east%22%2C%20%22west%22%2C%20%22bbox%22%5D%3B%0A%20%20%20%20let%20aliases%20%3D%20%5B%22region%22%2C%20%22north%22%2C%20%22south%22%2C%20%22east%22%2C%20%22west%22%2C%20%22bbox%22%5D%3B%0A%20%20%20%20let%20table%20%3D%20%27%3Ctable%3E%27%20%2B%0A%20%20%20%20%20%20%20%20String%28%0A%20%20%20%20%20%20%20%20fields.map%28%0A%20%20%20%20%20%20%20%20%28v%2Ci%29%3D%3E%0A%20%20%20%20%20%20%20%20%60%3Ctr%3E%0A%20%20%20%20%20%20%20%20%20%20%20%20%3Cth%3E%24%7Baliases%5Bi%5D%7D%3C/th%3E%0A%20%20%20%20%20%20%20%20%20%20%20%20%0A%20%20%20%20%20%20%20%20%20%20%20%20%3Ctd%3E%24%7BhandleObject%28layer.feature.properties%5Bv%5D%29%7D%3C/td%3E%0A%20%20%20%20%20%20%20%20%3C/tr%3E%60%29.join%28%27%27%29%29%0A%20%20%20%20%2B%27%3C/table%3E%27%3B%0A%20%20%20%20div.innerHTML%3Dtable%3B%0A%20%20%20%20%0A%20%20%20%20return%20div%0A%20%20%20%20%7D%0A%20%20%20%20%2C%7B%22className%22%3A%20%22foliumtooltip%22%2C%20%22sticky%22%3A%20true%7D%29%3B%0A%20%20%20%20%20%20%20%20%20%20%20%20%20%20%20%20%20%20%20%20%20%0A%3C/script%3E onload=\"this.contentDocument.open();this.contentDocument.write(    decodeURIComponent(this.getAttribute('data-html')));this.contentDocument.close();\" allowfullscreen webkitallowfullscreen mozallowfullscreen></iframe></div></div>"
      ],
      "text/plain": [
       "<folium.folium.Map at 0x7f0217432220>"
      ]
     },
     "execution_count": 44,
     "metadata": {},
     "output_type": "execute_result"
    }
   ],
   "source": [
    "gdf.explore()"
   ]
  },
  {
   "cell_type": "code",
   "execution_count": 35,
   "id": "179531f2-7e4f-4c96-934e-05b550253fa5",
   "metadata": {},
   "outputs": [
    {
     "data": {
      "image/svg+xml": [
       "<svg xmlns=\"http://www.w3.org/2000/svg\" xmlns:xlink=\"http://www.w3.org/1999/xlink\" width=\"100.0\" height=\"100.0\" viewBox=\"34.747838800000004 -118.53204120000001 3.220062399999996 4.09350240000002\" preserveAspectRatio=\"xMinYMin meet\"><g transform=\"matrix(1,0,0,-1,0,-232.97057999999998)\"><path fill-rule=\"evenodd\" fill=\"#66cc99\" stroke=\"#555555\" stroke-width=\"0.08187004800000039\" opacity=\"0.6\" d=\"M 34.89945,-114.59015 L 34.89945,-118.38043 L 37.81629,-118.38043 L 37.81629,-114.59015 L 34.89945,-114.59015 z\" /></g></svg>"
      ],
      "text/plain": [
       "<POLYGON ((34.899 -114.59, 34.899 -118.38, 37.816 -118.38, 37.816 -114.59, 3...>"
      ]
     },
     "execution_count": 35,
     "metadata": {},
     "output_type": "execute_result"
    }
   ],
   "source": [
    "gdf.geometry.iloc[3]"
   ]
  },
  {
   "cell_type": "markdown",
   "id": "1b42f3f8-c14a-41ff-ab0f-9cc63129a3f1",
   "metadata": {},
   "source": [
    "## Validation steps here!"
   ]
  },
  {
   "cell_type": "code",
   "execution_count": 35,
   "id": "919ebd9e-e64f-445f-965d-faacb29b4190",
   "metadata": {},
   "outputs": [],
   "source": [
    "validation_tbl = tbls.mart_gtfs_quality.fct_daily_schedule_feed_validation_notices()"
   ]
  },
  {
   "cell_type": "code",
   "execution_count": 52,
   "id": "6a43714b-6eb2-46b0-96a4-46878022c5f1",
   "metadata": {},
   "outputs": [],
   "source": [
    "## apparently busted since moving to v4.1 on Sep 1??\n",
    "validation_df = (validation_tbl >> filter(_.date == '2023-09-01')\n",
    "                                # >> distinct(_.base64_url, _.severity)\n",
    "                            ) >> collect()"
   ]
  },
  {
   "cell_type": "code",
   "execution_count": 54,
   "id": "26fe6c3b-7533-4a91-ae84-236c8f29320b",
   "metadata": {},
   "outputs": [],
   "source": [
    "# validation_df"
   ]
  },
  {
   "cell_type": "code",
   "execution_count": 56,
   "id": "6428e781-d345-4379-990c-4cae27e6a9a2",
   "metadata": {},
   "outputs": [],
   "source": [
    "# validation_df.severity.value_counts()"
   ]
  },
  {
   "cell_type": "markdown",
   "id": "6e9862a5-acc7-4d65-882c-530390726ec5",
   "metadata": {},
   "source": [
    "## Download raw from GCS (for Conveyal)"
   ]
  },
  {
   "cell_type": "code",
   "execution_count": 8,
   "id": "2befb3c9-36ff-4128-8561-31f2d7aea1cd",
   "metadata": {},
   "outputs": [],
   "source": [
    "fs = get_fs()"
   ]
  },
  {
   "cell_type": "code",
   "execution_count": 30,
   "id": "cbd10800-3d10-4c2d-9d1a-f68205bed3a9",
   "metadata": {},
   "outputs": [],
   "source": [
    "base64_url = metro_test"
   ]
  },
  {
   "cell_type": "code",
   "execution_count": 31,
   "id": "d7d488eb-a937-4f93-acb2-4d2f67c06e9c",
   "metadata": {},
   "outputs": [],
   "source": [
    "# need wildcard for file too -- not all are gtfs.zip!\n",
    "uri = f'gs://calitp-gtfs-schedule-raw-v2/schedule/dt={target_date}/*/base64_url={base64_url}/*.zip'"
   ]
  },
  {
   "cell_type": "code",
   "execution_count": 32,
   "id": "3963e90d-87ad-4bf7-8e8f-2657648b10cd",
   "metadata": {},
   "outputs": [
    {
     "data": {
      "text/plain": [
       "[None]"
      ]
     },
     "execution_count": 32,
     "metadata": {},
     "output_type": "execute_result"
    }
   ],
   "source": [
    "fs.get(uri, './gtfs.zip')"
   ]
  },
  {
   "cell_type": "code",
   "execution_count": null,
   "id": "c88007b8-d075-402d-80af-a317e18a112e",
   "metadata": {},
   "outputs": [],
   "source": [
    "def "
   ]
  }
 ],
 "metadata": {
  "kernelspec": {
   "display_name": "Python 3 (ipykernel)",
   "language": "python",
   "name": "python3"
  },
  "language_info": {
   "codemirror_mode": {
    "name": "ipython",
    "version": 3
   },
   "file_extension": ".py",
   "mimetype": "text/x-python",
   "name": "python",
   "nbconvert_exporter": "python",
   "pygments_lexer": "ipython3",
   "version": "3.9.13"
  },
  "widgets": {
   "application/vnd.jupyter.widget-state+json": {
    "state": {},
    "version_major": 2,
    "version_minor": 0
   }
  }
 },
 "nbformat": 4,
 "nbformat_minor": 5
}
