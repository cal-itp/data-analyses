{
 "cells": [
  {
   "cell_type": "code",
   "execution_count": 1,
   "id": "c66b1132-56b5-4b11-9318-b8f268ecab30",
   "metadata": {},
   "outputs": [
    {
     "name": "stderr",
     "output_type": "stream",
     "text": [
      "/opt/conda/lib/python3.9/site-packages/geopandas/_compat.py:124: UserWarning: The Shapely GEOS version (3.11.1-CAPI-1.17.1) is incompatible with the GEOS version PyGEOS was compiled with (3.10.1-CAPI-1.16.0). Conversions between both will be slow.\n",
      "  warnings.warn(\n"
     ]
    }
   ],
   "source": [
    "import os\n",
    "os.environ[\"CALITP_BQ_MAX_BYTES\"] = str(800_000_000_000)\n",
    "from shared_utils import gtfs_utils_v2\n",
    "\n",
    "from calitp_data_analysis import get_fs\n",
    "from calitp_data_analysis.tables import tbls\n",
    "import calitp_data_analysis.magics\n",
    "\n",
    "from siuba import *\n",
    "import pandas as pd\n",
    "import geopandas as gpd\n",
    "\n",
    "import datetime as dt\n",
    "\n",
    "from shared_utils.geography_utils import WGS84, CA_NAD83Albers\n",
    "\n",
    "from tqdm.notebook import tqdm\n",
    "tqdm.pandas()"
   ]
  },
  {
   "cell_type": "markdown",
   "id": "5b998348-8988-48f2-93b0-a0abf917f02e",
   "metadata": {},
   "source": [
    "# Updating procedure for updating Conveyal network bundles\n",
    "\n",
    "* much of this could be in DBT?\n",
    "* First, select a date (download feeds ingested by the warehouse for that date)\n",
    "* Then match all stops to the four Conveyal analysis regions\n",
    "* Download _raw_ gtfs schedule feeds (individual feeds), and save them in nested output folder, zipped for download\n",
    "* (on local pc) Unzip and upload appropriate region using Conveyal's create network bundle tool"
   ]
  },
  {
   "cell_type": "code",
   "execution_count": 2,
   "id": "296bfae5-a830-4b35-a202-87f0c3143c83",
   "metadata": {},
   "outputs": [],
   "source": [
    "target_date = dt.date(2023, 9, 13)"
   ]
  },
  {
   "cell_type": "code",
   "execution_count": 3,
   "id": "f73da205-2eea-4acf-a649-c1f1e2441ac3",
   "metadata": {},
   "outputs": [],
   "source": [
    "feeds_on_target = gtfs_utils_v2.schedule_daily_feed_to_gtfs_dataset_name(selected_date=target_date)\n",
    "# default will use mtc subfeeds (prev Conveyal behavior), can spec customer facing if we wanna switch"
   ]
  },
  {
   "cell_type": "code",
   "execution_count": 4,
   "id": "d2119c99-4e57-4896-909e-4fc0e7c420f7",
   "metadata": {},
   "outputs": [
    {
     "data": {
      "text/html": [
       "<div>\n",
       "<style scoped>\n",
       "    .dataframe tbody tr th:only-of-type {\n",
       "        vertical-align: middle;\n",
       "    }\n",
       "\n",
       "    .dataframe tbody tr th {\n",
       "        vertical-align: top;\n",
       "    }\n",
       "\n",
       "    .dataframe thead th {\n",
       "        text-align: right;\n",
       "    }\n",
       "</style>\n",
       "<table border=\"1\" class=\"dataframe\">\n",
       "  <thead>\n",
       "    <tr style=\"text-align: right;\">\n",
       "      <th></th>\n",
       "      <th>key</th>\n",
       "      <th>date</th>\n",
       "      <th>feed_key</th>\n",
       "      <th>feed_timezone</th>\n",
       "      <th>base64_url</th>\n",
       "      <th>gtfs_dataset_key</th>\n",
       "      <th>gtfs_dataset_name</th>\n",
       "      <th>type</th>\n",
       "      <th>regional_feed_type</th>\n",
       "      <th>name</th>\n",
       "    </tr>\n",
       "  </thead>\n",
       "  <tbody>\n",
       "    <tr>\n",
       "      <th>0</th>\n",
       "      <td>23f051077b6cd93dd69c310715d0163c</td>\n",
       "      <td>2023-09-13</td>\n",
       "      <td>2d1d563676bfb98dd46384e08917b54e</td>\n",
       "      <td>America/Los_Angeles</td>\n",
       "      <td>aHR0cHM6Ly90Y3J0YS50cmlwc2hvdC5jb20vdjEvZ3Rmcy...</td>\n",
       "      <td>0139b1253130b33adcd4b3a4490530d2</td>\n",
       "      <td>TCRTA TripShot Schedule</td>\n",
       "      <td>schedule</td>\n",
       "      <td>None</td>\n",
       "      <td>TCRTA TripShot Schedule</td>\n",
       "    </tr>\n",
       "    <tr>\n",
       "      <th>1</th>\n",
       "      <td>8098185cd85182fabca8ed44a2bb468f</td>\n",
       "      <td>2023-09-13</td>\n",
       "      <td>4f186e9c17acba5c1129db8a5c9b5ec6</td>\n",
       "      <td>America/Los_Angeles</td>\n",
       "      <td>aHR0cHM6Ly9hcGkuNTExLm9yZy90cmFuc2l0L2RhdGFmZW...</td>\n",
       "      <td>015d67d5b75b5cf2b710bbadadfb75f5</td>\n",
       "      <td>Bay Area 511 Marin Schedule</td>\n",
       "      <td>schedule</td>\n",
       "      <td>Regional Subfeed</td>\n",
       "      <td>Bay Area 511 Marin Schedule</td>\n",
       "    </tr>\n",
       "    <tr>\n",
       "      <th>2</th>\n",
       "      <td>40d243c55619eb784bdfc012d9ac5463</td>\n",
       "      <td>2023-09-13</td>\n",
       "      <td>0b53dbabeda04060bbe7c94e21b28a79</td>\n",
       "      <td>America/Los_Angeles</td>\n",
       "      <td>aHR0cHM6Ly9hcGkuNTExLm9yZy90cmFuc2l0L2RhdGFmZW...</td>\n",
       "      <td>04d1db905ac689e17a97ce414cf393a6</td>\n",
       "      <td>Bay Area 511 Angel Island-Tiburon Ferry Schedule</td>\n",
       "      <td>schedule</td>\n",
       "      <td>Regional Subfeed</td>\n",
       "      <td>Bay Area 511 Angel Island-Tiburon Ferry Schedule</td>\n",
       "    </tr>\n",
       "  </tbody>\n",
       "</table>\n",
       "</div>"
      ],
      "text/plain": [
       "                                key       date  \\\n",
       "0  23f051077b6cd93dd69c310715d0163c 2023-09-13   \n",
       "1  8098185cd85182fabca8ed44a2bb468f 2023-09-13   \n",
       "2  40d243c55619eb784bdfc012d9ac5463 2023-09-13   \n",
       "\n",
       "                           feed_key        feed_timezone  \\\n",
       "0  2d1d563676bfb98dd46384e08917b54e  America/Los_Angeles   \n",
       "1  4f186e9c17acba5c1129db8a5c9b5ec6  America/Los_Angeles   \n",
       "2  0b53dbabeda04060bbe7c94e21b28a79  America/Los_Angeles   \n",
       "\n",
       "                                          base64_url  \\\n",
       "0  aHR0cHM6Ly90Y3J0YS50cmlwc2hvdC5jb20vdjEvZ3Rmcy...   \n",
       "1  aHR0cHM6Ly9hcGkuNTExLm9yZy90cmFuc2l0L2RhdGFmZW...   \n",
       "2  aHR0cHM6Ly9hcGkuNTExLm9yZy90cmFuc2l0L2RhdGFmZW...   \n",
       "\n",
       "                   gtfs_dataset_key  \\\n",
       "0  0139b1253130b33adcd4b3a4490530d2   \n",
       "1  015d67d5b75b5cf2b710bbadadfb75f5   \n",
       "2  04d1db905ac689e17a97ce414cf393a6   \n",
       "\n",
       "                                  gtfs_dataset_name      type  \\\n",
       "0                           TCRTA TripShot Schedule  schedule   \n",
       "1                       Bay Area 511 Marin Schedule  schedule   \n",
       "2  Bay Area 511 Angel Island-Tiburon Ferry Schedule  schedule   \n",
       "\n",
       "  regional_feed_type                                              name  \n",
       "0               None                           TCRTA TripShot Schedule  \n",
       "1   Regional Subfeed                       Bay Area 511 Marin Schedule  \n",
       "2   Regional Subfeed  Bay Area 511 Angel Island-Tiburon Ferry Schedule  "
      ]
     },
     "execution_count": 4,
     "metadata": {},
     "output_type": "execute_result"
    }
   ],
   "source": [
    "feeds_on_target >> head(3)"
   ]
  },
  {
   "cell_type": "code",
   "execution_count": 5,
   "id": "467b6dbb-6c7c-4a8e-8a34-e5d2f478524a",
   "metadata": {},
   "outputs": [
    {
     "data": {
      "text/plain": [
       "(201, 10)"
      ]
     },
     "execution_count": 5,
     "metadata": {},
     "output_type": "execute_result"
    }
   ],
   "source": [
    "feeds_on_target.shape"
   ]
  },
  {
   "cell_type": "code",
   "execution_count": 6,
   "id": "fbdae203-2f11-4c14-a5d4-2320d5844847",
   "metadata": {},
   "outputs": [],
   "source": [
    "metro_test = (feeds_on_target >> filter(_.gtfs_dataset_name.str.contains('LA Metro'))).base64_url.iloc[0]"
   ]
  },
  {
   "cell_type": "markdown",
   "id": "33cedf86-ce2e-48c9-b496-3c9e42693aca",
   "metadata": {},
   "source": [
    "## Stops --> Region matching\n",
    "\n",
    "* many to many OK -- feeds crossing boundaries shall appear in both regions"
   ]
  },
  {
   "cell_type": "code",
   "execution_count": 7,
   "id": "3cd49887-58bb-483f-8930-a4ab58688897",
   "metadata": {},
   "outputs": [],
   "source": [
    "regions = {}\n",
    "# Set bounds for northern california\n",
    "regions['norcal'] = {'north': 42.03909, 'south': 39.07038, 'east': -119.60541, 'west': -124.49158}\n",
    "regions['central'] = {'north': 39.64165, 'south': 35.87347, 'east': -117.53174, 'west': -123.83789}\n",
    "regions['socal'] = {'north': 35.8935, 'south': 32.5005, 'east': -114.13121, 'west': -121.46759}\n",
    "regions['mojave'] = {'north': 37.81629, 'south': 34.89945, 'east': -114.59015, 'west': -118.38043}"
   ]
  },
  {
   "cell_type": "code",
   "execution_count": 8,
   "id": "1f021355-1f40-4121-8a6d-32eeb4a1c52e",
   "metadata": {},
   "outputs": [],
   "source": [
    "import shapely"
   ]
  },
  {
   "cell_type": "code",
   "execution_count": 9,
   "id": "87642e47-80eb-4a21-81c4-e41f467a7c8d",
   "metadata": {},
   "outputs": [],
   "source": [
    "# https://shapely.readthedocs.io/en/stable/reference/shapely.box.html#shapely.box\n",
    "# xmin, ymin, xmax, ymax\n",
    "to_bbox = lambda x: [x['west'], x['south'], x['east'], x['north']]"
   ]
  },
  {
   "cell_type": "code",
   "execution_count": 10,
   "id": "328b7a62-e5b7-47b8-b0e2-21f971b8e9e0",
   "metadata": {},
   "outputs": [],
   "source": [
    "df = pd.DataFrame(regions).transpose().reset_index().rename(columns={'index':'region'})"
   ]
  },
  {
   "cell_type": "code",
   "execution_count": 11,
   "id": "5b8d6fd6-6847-4121-a6c8-212a7d01f5b7",
   "metadata": {},
   "outputs": [],
   "source": [
    "df['bbox'] = df.apply(to_bbox, axis=1)"
   ]
  },
  {
   "cell_type": "code",
   "execution_count": 12,
   "id": "4a3502e5-7240-4bb1-bf33-28c96c316c3a",
   "metadata": {},
   "outputs": [
    {
     "data": {
      "text/html": [
       "<div>\n",
       "<style scoped>\n",
       "    .dataframe tbody tr th:only-of-type {\n",
       "        vertical-align: middle;\n",
       "    }\n",
       "\n",
       "    .dataframe tbody tr th {\n",
       "        vertical-align: top;\n",
       "    }\n",
       "\n",
       "    .dataframe thead th {\n",
       "        text-align: right;\n",
       "    }\n",
       "</style>\n",
       "<table border=\"1\" class=\"dataframe\">\n",
       "  <thead>\n",
       "    <tr style=\"text-align: right;\">\n",
       "      <th></th>\n",
       "      <th>region</th>\n",
       "      <th>north</th>\n",
       "      <th>south</th>\n",
       "      <th>east</th>\n",
       "      <th>west</th>\n",
       "      <th>bbox</th>\n",
       "    </tr>\n",
       "  </thead>\n",
       "  <tbody>\n",
       "    <tr>\n",
       "      <th>0</th>\n",
       "      <td>norcal</td>\n",
       "      <td>42.03909</td>\n",
       "      <td>39.07038</td>\n",
       "      <td>-119.60541</td>\n",
       "      <td>-124.49158</td>\n",
       "      <td>[-124.49158, 39.07038, -119.60541, 42.03909]</td>\n",
       "    </tr>\n",
       "    <tr>\n",
       "      <th>1</th>\n",
       "      <td>central</td>\n",
       "      <td>39.64165</td>\n",
       "      <td>35.87347</td>\n",
       "      <td>-117.53174</td>\n",
       "      <td>-123.83789</td>\n",
       "      <td>[-123.83789, 35.87347, -117.53174, 39.64165]</td>\n",
       "    </tr>\n",
       "    <tr>\n",
       "      <th>2</th>\n",
       "      <td>socal</td>\n",
       "      <td>35.89350</td>\n",
       "      <td>32.50050</td>\n",
       "      <td>-114.13121</td>\n",
       "      <td>-121.46759</td>\n",
       "      <td>[-121.46759, 32.5005, -114.13121, 35.8935]</td>\n",
       "    </tr>\n",
       "    <tr>\n",
       "      <th>3</th>\n",
       "      <td>mojave</td>\n",
       "      <td>37.81629</td>\n",
       "      <td>34.89945</td>\n",
       "      <td>-114.59015</td>\n",
       "      <td>-118.38043</td>\n",
       "      <td>[-118.38043, 34.89945, -114.59015, 37.81629]</td>\n",
       "    </tr>\n",
       "  </tbody>\n",
       "</table>\n",
       "</div>"
      ],
      "text/plain": [
       "    region     north     south       east       west  \\\n",
       "0   norcal  42.03909  39.07038 -119.60541 -124.49158   \n",
       "1  central  39.64165  35.87347 -117.53174 -123.83789   \n",
       "2    socal  35.89350  32.50050 -114.13121 -121.46759   \n",
       "3   mojave  37.81629  34.89945 -114.59015 -118.38043   \n",
       "\n",
       "                                           bbox  \n",
       "0  [-124.49158, 39.07038, -119.60541, 42.03909]  \n",
       "1  [-123.83789, 35.87347, -117.53174, 39.64165]  \n",
       "2    [-121.46759, 32.5005, -114.13121, 35.8935]  \n",
       "3  [-118.38043, 34.89945, -114.59015, 37.81629]  "
      ]
     },
     "execution_count": 12,
     "metadata": {},
     "output_type": "execute_result"
    }
   ],
   "source": [
    "df"
   ]
  },
  {
   "cell_type": "code",
   "execution_count": 13,
   "id": "97d117b1-8835-473a-893b-ead256f4fba5",
   "metadata": {},
   "outputs": [],
   "source": [
    "df['geometry'] = df.apply(lambda x: shapely.geometry.box(*x.bbox), axis = 1)"
   ]
  },
  {
   "cell_type": "code",
   "execution_count": 14,
   "id": "6b9402e0-24de-43c4-b04e-0c903a4657d6",
   "metadata": {},
   "outputs": [],
   "source": [
    "region_gdf = gpd.GeoDataFrame(df, crs=WGS84).to_crs(CA_NAD83Albers)"
   ]
  },
  {
   "cell_type": "code",
   "execution_count": 15,
   "id": "01160e41-81f6-45b8-ae76-86041b8f478f",
   "metadata": {},
   "outputs": [],
   "source": [
    "# region_gdf.explore()"
   ]
  },
  {
   "cell_type": "code",
   "execution_count": 16,
   "id": "98644c75-cd9c-4032-8406-2f4a14a6edfd",
   "metadata": {},
   "outputs": [
    {
     "name": "stderr",
     "output_type": "stream",
     "text": [
      "/opt/conda/lib/python3.9/site-packages/sqlalchemy_bigquery/_types.py:101: SAWarning: Did not recognize type 'GEOGRAPHY' of column 'pt_geom'\n",
      "  sqlalchemy.util.warn(\n"
     ]
    }
   ],
   "source": [
    "all_stops = gtfs_utils_v2.get_stops(selected_date=target_date, operator_feeds=feeds_on_target.feed_key).to_crs(CA_NAD83Albers)"
   ]
  },
  {
   "cell_type": "code",
   "execution_count": 17,
   "id": "64a57fbd-26da-47d0-b549-254961afd70d",
   "metadata": {},
   "outputs": [],
   "source": [
    "all_stops = all_stops >> select(_.key, _.feed_key, _.stop_id, _.geometry, _.stop_name)"
   ]
  },
  {
   "cell_type": "code",
   "execution_count": 18,
   "id": "d1f999fc-9295-4478-85cf-d5cc6e0b5956",
   "metadata": {},
   "outputs": [
    {
     "data": {
      "text/plain": [
       "(85555, 5)"
      ]
     },
     "execution_count": 18,
     "metadata": {},
     "output_type": "execute_result"
    }
   ],
   "source": [
    "all_stops.shape"
   ]
  },
  {
   "cell_type": "code",
   "execution_count": 19,
   "id": "9a15d156-683f-4f15-8638-67054462baa0",
   "metadata": {},
   "outputs": [],
   "source": [
    "test_join = gpd.sjoin(region_gdf, all_stops)"
   ]
  },
  {
   "cell_type": "code",
   "execution_count": 20,
   "id": "306c2065-0c23-43a5-aa47-c2950615cccf",
   "metadata": {},
   "outputs": [],
   "source": [
    "# confirm that overlaps are counted\n",
    "# overlaps = test_join >> count(_.key) >> filter(_.n > 1)\n",
    "# (all_stops >> inner_join(_, overlaps, on = 'key')).explore()"
   ]
  },
  {
   "cell_type": "code",
   "execution_count": 21,
   "id": "02847606-a347-4f48-827a-eca90ae45207",
   "metadata": {},
   "outputs": [
    {
     "data": {
      "text/html": [
       "<div>\n",
       "<style scoped>\n",
       "    .dataframe tbody tr th:only-of-type {\n",
       "        vertical-align: middle;\n",
       "    }\n",
       "\n",
       "    .dataframe tbody tr th {\n",
       "        vertical-align: top;\n",
       "    }\n",
       "\n",
       "    .dataframe thead th {\n",
       "        text-align: right;\n",
       "    }\n",
       "</style>\n",
       "<table border=\"1\" class=\"dataframe\">\n",
       "  <thead>\n",
       "    <tr style=\"text-align: right;\">\n",
       "      <th></th>\n",
       "      <th>region</th>\n",
       "      <th>north</th>\n",
       "      <th>south</th>\n",
       "      <th>east</th>\n",
       "      <th>west</th>\n",
       "      <th>bbox</th>\n",
       "      <th>geometry</th>\n",
       "      <th>index_right</th>\n",
       "      <th>key</th>\n",
       "      <th>feed_key</th>\n",
       "      <th>stop_id</th>\n",
       "      <th>stop_name</th>\n",
       "    </tr>\n",
       "  </thead>\n",
       "  <tbody>\n",
       "    <tr>\n",
       "      <th>0</th>\n",
       "      <td>norcal</td>\n",
       "      <td>42.03909</td>\n",
       "      <td>39.07038</td>\n",
       "      <td>-119.60541</td>\n",
       "      <td>-124.49158</td>\n",
       "      <td>[-124.49158, 39.07038, -119.60541, 42.03909]</td>\n",
       "      <td>POLYGON ((34109.459 117232.679, 32737.676 4468...</td>\n",
       "      <td>63790</td>\n",
       "      <td>87d5bfe86ca395b5437686424e71e323</td>\n",
       "      <td>f7a2121f01eef823fb9018028a5c7f41</td>\n",
       "      <td>2558793</td>\n",
       "      <td>Rough and Ready Hwy at Grubstake Trl</td>\n",
       "    </tr>\n",
       "    <tr>\n",
       "      <th>1</th>\n",
       "      <td>central</td>\n",
       "      <td>39.64165</td>\n",
       "      <td>35.87347</td>\n",
       "      <td>-117.53174</td>\n",
       "      <td>-123.83789</td>\n",
       "      <td>[-123.83789, 35.87347, -117.53174, 39.64165]</td>\n",
       "      <td>POLYGON ((222589.608 -235276.505, 211687.216 1...</td>\n",
       "      <td>63790</td>\n",
       "      <td>87d5bfe86ca395b5437686424e71e323</td>\n",
       "      <td>f7a2121f01eef823fb9018028a5c7f41</td>\n",
       "      <td>2558793</td>\n",
       "      <td>Rough and Ready Hwy at Grubstake Trl</td>\n",
       "    </tr>\n",
       "    <tr>\n",
       "      <th>0</th>\n",
       "      <td>norcal</td>\n",
       "      <td>42.03909</td>\n",
       "      <td>39.07038</td>\n",
       "      <td>-119.60541</td>\n",
       "      <td>-124.49158</td>\n",
       "      <td>[-124.49158, 39.07038, -119.60541, 42.03909]</td>\n",
       "      <td>POLYGON ((34109.459 117232.679, 32737.676 4468...</td>\n",
       "      <td>63824</td>\n",
       "      <td>7b2962ad52dc69eb89dc21bb5aa353d1</td>\n",
       "      <td>f7a2121f01eef823fb9018028a5c7f41</td>\n",
       "      <td>2558785</td>\n",
       "      <td>Rough and Ready Hwy at Valley Rd</td>\n",
       "    </tr>\n",
       "  </tbody>\n",
       "</table>\n",
       "</div>"
      ],
      "text/plain": [
       "    region     north     south       east       west  \\\n",
       "0   norcal  42.03909  39.07038 -119.60541 -124.49158   \n",
       "1  central  39.64165  35.87347 -117.53174 -123.83789   \n",
       "0   norcal  42.03909  39.07038 -119.60541 -124.49158   \n",
       "\n",
       "                                           bbox  \\\n",
       "0  [-124.49158, 39.07038, -119.60541, 42.03909]   \n",
       "1  [-123.83789, 35.87347, -117.53174, 39.64165]   \n",
       "0  [-124.49158, 39.07038, -119.60541, 42.03909]   \n",
       "\n",
       "                                            geometry  index_right  \\\n",
       "0  POLYGON ((34109.459 117232.679, 32737.676 4468...        63790   \n",
       "1  POLYGON ((222589.608 -235276.505, 211687.216 1...        63790   \n",
       "0  POLYGON ((34109.459 117232.679, 32737.676 4468...        63824   \n",
       "\n",
       "                                key                          feed_key  \\\n",
       "0  87d5bfe86ca395b5437686424e71e323  f7a2121f01eef823fb9018028a5c7f41   \n",
       "1  87d5bfe86ca395b5437686424e71e323  f7a2121f01eef823fb9018028a5c7f41   \n",
       "0  7b2962ad52dc69eb89dc21bb5aa353d1  f7a2121f01eef823fb9018028a5c7f41   \n",
       "\n",
       "   stop_id                             stop_name  \n",
       "0  2558793  Rough and Ready Hwy at Grubstake Trl  \n",
       "1  2558793  Rough and Ready Hwy at Grubstake Trl  \n",
       "0  2558785      Rough and Ready Hwy at Valley Rd  "
      ]
     },
     "execution_count": 21,
     "metadata": {},
     "output_type": "execute_result"
    }
   ],
   "source": [
    "test_join >> head(3)"
   ]
  },
  {
   "cell_type": "code",
   "execution_count": 22,
   "id": "40afc409-7952-4a92-8f6c-0e4757d14b61",
   "metadata": {},
   "outputs": [],
   "source": [
    "regions_and_feeds = test_join >> distinct(_.region, _.feed_key)"
   ]
  },
  {
   "cell_type": "code",
   "execution_count": 23,
   "id": "85306aab-a9cf-4141-aa4b-5a4aa937e6ec",
   "metadata": {},
   "outputs": [
    {
     "data": {
      "text/plain": [
       "(193, 2)"
      ]
     },
     "execution_count": 23,
     "metadata": {},
     "output_type": "execute_result"
    }
   ],
   "source": [
    "regions_and_feeds.shape"
   ]
  },
  {
   "cell_type": "code",
   "execution_count": 24,
   "id": "83802555-c94e-4c19-a842-6c0e5d033790",
   "metadata": {},
   "outputs": [],
   "source": [
    "regions_and_feeds = regions_and_feeds >> inner_join(_, feeds_on_target >> select(_.feed_key, _.gtfs_dataset_name, _.base64_url,\n",
    "                                                                                _.date), on = 'feed_key')"
   ]
  },
  {
   "cell_type": "code",
   "execution_count": 25,
   "id": "457f1e27-5c02-4a29-a524-fbc62984bf27",
   "metadata": {},
   "outputs": [
    {
     "data": {
      "text/html": [
       "<div>\n",
       "<style scoped>\n",
       "    .dataframe tbody tr th:only-of-type {\n",
       "        vertical-align: middle;\n",
       "    }\n",
       "\n",
       "    .dataframe tbody tr th {\n",
       "        vertical-align: top;\n",
       "    }\n",
       "\n",
       "    .dataframe thead th {\n",
       "        text-align: right;\n",
       "    }\n",
       "</style>\n",
       "<table border=\"1\" class=\"dataframe\">\n",
       "  <thead>\n",
       "    <tr style=\"text-align: right;\">\n",
       "      <th></th>\n",
       "      <th>region</th>\n",
       "      <th>feed_key</th>\n",
       "      <th>gtfs_dataset_name</th>\n",
       "      <th>base64_url</th>\n",
       "      <th>date</th>\n",
       "    </tr>\n",
       "  </thead>\n",
       "  <tbody>\n",
       "    <tr>\n",
       "      <th>0</th>\n",
       "      <td>norcal</td>\n",
       "      <td>f7a2121f01eef823fb9018028a5c7f41</td>\n",
       "      <td>Nevada County Schedule</td>\n",
       "      <td>aHR0cHM6Ly9kYXRhLnRyaWxsaXVtdHJhbnNpdC5jb20vZ3...</td>\n",
       "      <td>2023-09-13</td>\n",
       "    </tr>\n",
       "    <tr>\n",
       "      <th>1</th>\n",
       "      <td>central</td>\n",
       "      <td>f7a2121f01eef823fb9018028a5c7f41</td>\n",
       "      <td>Nevada County Schedule</td>\n",
       "      <td>aHR0cHM6Ly9kYXRhLnRyaWxsaXVtdHJhbnNpdC5jb20vZ3...</td>\n",
       "      <td>2023-09-13</td>\n",
       "    </tr>\n",
       "    <tr>\n",
       "      <th>2</th>\n",
       "      <td>norcal</td>\n",
       "      <td>1b2a9ad705c963c7b44931ffd2280e09</td>\n",
       "      <td>TART, North Lake Tahoe Schedule</td>\n",
       "      <td>aHR0cHM6Ly9kYXRhLnRyaWxsaXVtdHJhbnNpdC5jb20vZ3...</td>\n",
       "      <td>2023-09-13</td>\n",
       "    </tr>\n",
       "  </tbody>\n",
       "</table>\n",
       "</div>"
      ],
      "text/plain": [
       "    region                          feed_key                gtfs_dataset_name  \\\n",
       "0   norcal  f7a2121f01eef823fb9018028a5c7f41           Nevada County Schedule   \n",
       "1  central  f7a2121f01eef823fb9018028a5c7f41           Nevada County Schedule   \n",
       "2   norcal  1b2a9ad705c963c7b44931ffd2280e09  TART, North Lake Tahoe Schedule   \n",
       "\n",
       "                                          base64_url       date  \n",
       "0  aHR0cHM6Ly9kYXRhLnRyaWxsaXVtdHJhbnNpdC5jb20vZ3... 2023-09-13  \n",
       "1  aHR0cHM6Ly9kYXRhLnRyaWxsaXVtdHJhbnNpdC5jb20vZ3... 2023-09-13  \n",
       "2  aHR0cHM6Ly9kYXRhLnRyaWxsaXVtdHJhbnNpdC5jb20vZ3... 2023-09-13  "
      ]
     },
     "execution_count": 25,
     "metadata": {},
     "output_type": "execute_result"
    }
   ],
   "source": [
    "regions_and_feeds >> head(3)"
   ]
  },
  {
   "cell_type": "markdown",
   "id": "1b42f3f8-c14a-41ff-ab0f-9cc63129a3f1",
   "metadata": {
    "jp-MarkdownHeadingCollapsed": true,
    "tags": []
   },
   "source": [
    "## Validation steps here!\n",
    "\n",
    "* try loading all feeds without validating for now, circle back once we know what Conveyal errors on?"
   ]
  },
  {
   "cell_type": "code",
   "execution_count": 26,
   "id": "919ebd9e-e64f-445f-965d-faacb29b4190",
   "metadata": {},
   "outputs": [],
   "source": [
    "validation_tbl = tbls.mart_gtfs_quality.fct_daily_schedule_feed_validation_notices()"
   ]
  },
  {
   "cell_type": "code",
   "execution_count": 27,
   "id": "d6aef82c-2ada-4cd4-80fa-1a0edae7d056",
   "metadata": {},
   "outputs": [
    {
     "data": {
      "text/plain": [
       "datetime.date(2023, 9, 13)"
      ]
     },
     "execution_count": 27,
     "metadata": {},
     "output_type": "execute_result"
    }
   ],
   "source": [
    "target_date"
   ]
  },
  {
   "cell_type": "code",
   "execution_count": 28,
   "id": "6a43714b-6eb2-46b0-96a4-46878022c5f1",
   "metadata": {},
   "outputs": [],
   "source": [
    "## apparently busted since moving to v4.1 on Sep 1??\n",
    "validation_df = (validation_tbl >> filter(_.date == target_date)\n",
    "                                >> filter(_.severity == 'ERROR',\n",
    "                                         _.total_notices > 0)\n",
    "                                >> distinct(_.date, _.base64_url, _.severity,\n",
    "                                            _.total_notices)\n",
    "                            ) >> collect()"
   ]
  },
  {
   "cell_type": "code",
   "execution_count": 29,
   "id": "26fe6c3b-7533-4a91-ae84-236c8f29320b",
   "metadata": {},
   "outputs": [
    {
     "data": {
      "text/html": [
       "<div>\n",
       "<style scoped>\n",
       "    .dataframe tbody tr th:only-of-type {\n",
       "        vertical-align: middle;\n",
       "    }\n",
       "\n",
       "    .dataframe tbody tr th {\n",
       "        vertical-align: top;\n",
       "    }\n",
       "\n",
       "    .dataframe thead th {\n",
       "        text-align: right;\n",
       "    }\n",
       "</style>\n",
       "<table border=\"1\" class=\"dataframe\">\n",
       "  <thead>\n",
       "    <tr style=\"text-align: right;\">\n",
       "      <th></th>\n",
       "      <th>date</th>\n",
       "      <th>base64_url</th>\n",
       "      <th>severity</th>\n",
       "      <th>total_notices</th>\n",
       "    </tr>\n",
       "  </thead>\n",
       "  <tbody>\n",
       "    <tr>\n",
       "      <th>0</th>\n",
       "      <td>2023-09-13</td>\n",
       "      <td>aHR0cHM6Ly9ndGZzLmNhbGl0cC5vcmcvcHJvZHVjdGlvbi...</td>\n",
       "      <td>ERROR</td>\n",
       "      <td>176</td>\n",
       "    </tr>\n",
       "    <tr>\n",
       "      <th>1</th>\n",
       "      <td>2023-09-13</td>\n",
       "      <td>aHR0cHM6Ly9ndGZzLmNhbGl0cC5vcmcvcHJvZHVjdGlvbi...</td>\n",
       "      <td>ERROR</td>\n",
       "      <td>772</td>\n",
       "    </tr>\n",
       "    <tr>\n",
       "      <th>2</th>\n",
       "      <td>2023-09-13</td>\n",
       "      <td>aHR0cHM6Ly9hcnQudHJpcHNob3QuY29tL3YxL2d0ZnMuem...</td>\n",
       "      <td>ERROR</td>\n",
       "      <td>1</td>\n",
       "    </tr>\n",
       "    <tr>\n",
       "      <th>3</th>\n",
       "      <td>2023-09-13</td>\n",
       "      <td>aHR0cHM6Ly9ndGZzLmNhbGl0cC5vcmcvcHJvZHVjdGlvbi...</td>\n",
       "      <td>ERROR</td>\n",
       "      <td>8</td>\n",
       "    </tr>\n",
       "    <tr>\n",
       "      <th>4</th>\n",
       "      <td>2023-09-13</td>\n",
       "      <td>aHR0cHM6Ly9ndGZzLmNhbGl0cC5vcmcvcHJvZHVjdGlvbi...</td>\n",
       "      <td>ERROR</td>\n",
       "      <td>3</td>\n",
       "    </tr>\n",
       "    <tr>\n",
       "      <th>...</th>\n",
       "      <td>...</td>\n",
       "      <td>...</td>\n",
       "      <td>...</td>\n",
       "      <td>...</td>\n",
       "    </tr>\n",
       "    <tr>\n",
       "      <th>165</th>\n",
       "      <td>2023-09-13</td>\n",
       "      <td>aHR0cHM6Ly9ndGZzLmNhbGl0cC5vcmcvcHJvZHVjdGlvbi...</td>\n",
       "      <td>ERROR</td>\n",
       "      <td>18</td>\n",
       "    </tr>\n",
       "    <tr>\n",
       "      <th>166</th>\n",
       "      <td>2023-09-13</td>\n",
       "      <td>aHR0cHM6Ly91bml0cmFucy51Y2RhdmlzLmVkdS9tZWRpYS...</td>\n",
       "      <td>ERROR</td>\n",
       "      <td>8</td>\n",
       "    </tr>\n",
       "    <tr>\n",
       "      <th>167</th>\n",
       "      <td>2023-09-13</td>\n",
       "      <td>aHR0cHM6Ly9hcGkuNTExLm9yZy90cmFuc2l0L2RhdGFmZW...</td>\n",
       "      <td>ERROR</td>\n",
       "      <td>112</td>\n",
       "    </tr>\n",
       "    <tr>\n",
       "      <th>168</th>\n",
       "      <td>2023-09-13</td>\n",
       "      <td>aHR0cHM6Ly9hcGkuNTExLm9yZy90cmFuc2l0L2RhdGFmZW...</td>\n",
       "      <td>ERROR</td>\n",
       "      <td>22</td>\n",
       "    </tr>\n",
       "    <tr>\n",
       "      <th>169</th>\n",
       "      <td>2023-09-13</td>\n",
       "      <td>aHR0cHM6Ly93ZWJzZXJ2aWNlcy51bW9pcS5jb20vYXBpL2...</td>\n",
       "      <td>ERROR</td>\n",
       "      <td>1</td>\n",
       "    </tr>\n",
       "  </tbody>\n",
       "</table>\n",
       "<p>170 rows × 4 columns</p>\n",
       "</div>"
      ],
      "text/plain": [
       "          date                                         base64_url severity  \\\n",
       "0   2023-09-13  aHR0cHM6Ly9ndGZzLmNhbGl0cC5vcmcvcHJvZHVjdGlvbi...    ERROR   \n",
       "1   2023-09-13  aHR0cHM6Ly9ndGZzLmNhbGl0cC5vcmcvcHJvZHVjdGlvbi...    ERROR   \n",
       "2   2023-09-13  aHR0cHM6Ly9hcnQudHJpcHNob3QuY29tL3YxL2d0ZnMuem...    ERROR   \n",
       "3   2023-09-13  aHR0cHM6Ly9ndGZzLmNhbGl0cC5vcmcvcHJvZHVjdGlvbi...    ERROR   \n",
       "4   2023-09-13  aHR0cHM6Ly9ndGZzLmNhbGl0cC5vcmcvcHJvZHVjdGlvbi...    ERROR   \n",
       "..         ...                                                ...      ...   \n",
       "165 2023-09-13  aHR0cHM6Ly9ndGZzLmNhbGl0cC5vcmcvcHJvZHVjdGlvbi...    ERROR   \n",
       "166 2023-09-13  aHR0cHM6Ly91bml0cmFucy51Y2RhdmlzLmVkdS9tZWRpYS...    ERROR   \n",
       "167 2023-09-13  aHR0cHM6Ly9hcGkuNTExLm9yZy90cmFuc2l0L2RhdGFmZW...    ERROR   \n",
       "168 2023-09-13  aHR0cHM6Ly9hcGkuNTExLm9yZy90cmFuc2l0L2RhdGFmZW...    ERROR   \n",
       "169 2023-09-13  aHR0cHM6Ly93ZWJzZXJ2aWNlcy51bW9pcS5jb20vYXBpL2...    ERROR   \n",
       "\n",
       "     total_notices  \n",
       "0              176  \n",
       "1              772  \n",
       "2                1  \n",
       "3                8  \n",
       "4                3  \n",
       "..             ...  \n",
       "165             18  \n",
       "166              8  \n",
       "167            112  \n",
       "168             22  \n",
       "169              1  \n",
       "\n",
       "[170 rows x 4 columns]"
      ]
     },
     "execution_count": 29,
     "metadata": {},
     "output_type": "execute_result"
    }
   ],
   "source": [
    "validation_df"
   ]
  },
  {
   "cell_type": "code",
   "execution_count": 30,
   "id": "6428e781-d345-4379-990c-4cae27e6a9a2",
   "metadata": {},
   "outputs": [],
   "source": [
    "with_notices = feeds_on_target >> left_join(_, validation_df, on =['base64_url', 'date'])"
   ]
  },
  {
   "cell_type": "code",
   "execution_count": 31,
   "id": "8d888e61-816e-45a5-9365-d0fcff13ba1b",
   "metadata": {},
   "outputs": [
    {
     "data": {
      "text/html": [
       "<div>\n",
       "<style scoped>\n",
       "    .dataframe tbody tr th:only-of-type {\n",
       "        vertical-align: middle;\n",
       "    }\n",
       "\n",
       "    .dataframe tbody tr th {\n",
       "        vertical-align: top;\n",
       "    }\n",
       "\n",
       "    .dataframe thead th {\n",
       "        text-align: right;\n",
       "    }\n",
       "</style>\n",
       "<table border=\"1\" class=\"dataframe\">\n",
       "  <thead>\n",
       "    <tr style=\"text-align: right;\">\n",
       "      <th></th>\n",
       "      <th>key</th>\n",
       "      <th>date</th>\n",
       "      <th>feed_key</th>\n",
       "      <th>feed_timezone</th>\n",
       "      <th>base64_url</th>\n",
       "      <th>gtfs_dataset_key</th>\n",
       "      <th>gtfs_dataset_name</th>\n",
       "      <th>type</th>\n",
       "      <th>regional_feed_type</th>\n",
       "      <th>name</th>\n",
       "      <th>severity</th>\n",
       "      <th>total_notices</th>\n",
       "    </tr>\n",
       "  </thead>\n",
       "  <tbody>\n",
       "    <tr>\n",
       "      <th>229</th>\n",
       "      <td>a35f0497a5339c81027045e76c3baadb</td>\n",
       "      <td>2023-09-13</td>\n",
       "      <td>4fd4c630d0a1a588ef7934cc55c338bb</td>\n",
       "      <td>America/Los_Angeles</td>\n",
       "      <td>aHR0cHM6Ly9hcGkuNTExLm9yZy90cmFuc2l0L2RhdGFmZW...</td>\n",
       "      <td>dcb6fb26f2d08393f9b0b1c14dc8775c</td>\n",
       "      <td>Bay Area 511 Tri-Valley Wheels Schedule</td>\n",
       "      <td>schedule</td>\n",
       "      <td>Regional Subfeed</td>\n",
       "      <td>Bay Area 511 Tri-Valley Wheels Schedule</td>\n",
       "      <td>ERROR</td>\n",
       "      <td>3888.0</td>\n",
       "    </tr>\n",
       "    <tr>\n",
       "      <th>257</th>\n",
       "      <td>baba29dc5d70db76aa154d21034284bb</td>\n",
       "      <td>2023-09-13</td>\n",
       "      <td>0acb41ac5426e39f694c65f839d32c9c</td>\n",
       "      <td>America/Los_Angeles</td>\n",
       "      <td>aHR0cHM6Ly9kYXRhLnRyaWxsaXVtdHJhbnNpdC5jb20vZ3...</td>\n",
       "      <td>f91395e3131f298c6965235903e07b9b</td>\n",
       "      <td>YARTS Schedule</td>\n",
       "      <td>schedule</td>\n",
       "      <td>None</td>\n",
       "      <td>YARTS Schedule</td>\n",
       "      <td>ERROR</td>\n",
       "      <td>3538.0</td>\n",
       "    </tr>\n",
       "    <tr>\n",
       "      <th>199</th>\n",
       "      <td>3a16ab862ef89719a7da380069ca8867</td>\n",
       "      <td>2023-09-13</td>\n",
       "      <td>de92bc3c6f71c498611c06e07c5a381f</td>\n",
       "      <td>America/Los_Angeles</td>\n",
       "      <td>aHR0cHM6Ly9kYXRhLnRyaWxsaXVtdHJhbnNpdC5jb20vZ3...</td>\n",
       "      <td>c5790c908973d410e5a5cf3ee121ecca</td>\n",
       "      <td>Mountain Transit Schedule</td>\n",
       "      <td>schedule</td>\n",
       "      <td>None</td>\n",
       "      <td>Mountain Transit Schedule</td>\n",
       "      <td>ERROR</td>\n",
       "      <td>3372.0</td>\n",
       "    </tr>\n",
       "    <tr>\n",
       "      <th>213</th>\n",
       "      <td>694480a725e046f95b8428f529728409</td>\n",
       "      <td>2023-09-13</td>\n",
       "      <td>fe662c95bddfb6e5fd75cb0afbb85cd8</td>\n",
       "      <td>America/Los_Angeles</td>\n",
       "      <td>aHR0cHM6Ly9ndGZzLmNhbGl0cC5vcmcvcHJvZHVjdGlvbi...</td>\n",
       "      <td>cde2b7a63ab7bb33141c8b02b001ea0f</td>\n",
       "      <td>TCAT Flex</td>\n",
       "      <td>schedule</td>\n",
       "      <td>None</td>\n",
       "      <td>TCAT Flex</td>\n",
       "      <td>ERROR</td>\n",
       "      <td>3105.0</td>\n",
       "    </tr>\n",
       "    <tr>\n",
       "      <th>214</th>\n",
       "      <td>694480a725e046f95b8428f529728409</td>\n",
       "      <td>2023-09-13</td>\n",
       "      <td>fe662c95bddfb6e5fd75cb0afbb85cd8</td>\n",
       "      <td>America/Los_Angeles</td>\n",
       "      <td>aHR0cHM6Ly9ndGZzLmNhbGl0cC5vcmcvcHJvZHVjdGlvbi...</td>\n",
       "      <td>cde2b7a63ab7bb33141c8b02b001ea0f</td>\n",
       "      <td>TCAT Flex</td>\n",
       "      <td>schedule</td>\n",
       "      <td>None</td>\n",
       "      <td>TCAT Flex</td>\n",
       "      <td>ERROR</td>\n",
       "      <td>3099.0</td>\n",
       "    </tr>\n",
       "  </tbody>\n",
       "</table>\n",
       "</div>"
      ],
      "text/plain": [
       "                                  key       date  \\\n",
       "229  a35f0497a5339c81027045e76c3baadb 2023-09-13   \n",
       "257  baba29dc5d70db76aa154d21034284bb 2023-09-13   \n",
       "199  3a16ab862ef89719a7da380069ca8867 2023-09-13   \n",
       "213  694480a725e046f95b8428f529728409 2023-09-13   \n",
       "214  694480a725e046f95b8428f529728409 2023-09-13   \n",
       "\n",
       "                             feed_key        feed_timezone  \\\n",
       "229  4fd4c630d0a1a588ef7934cc55c338bb  America/Los_Angeles   \n",
       "257  0acb41ac5426e39f694c65f839d32c9c  America/Los_Angeles   \n",
       "199  de92bc3c6f71c498611c06e07c5a381f  America/Los_Angeles   \n",
       "213  fe662c95bddfb6e5fd75cb0afbb85cd8  America/Los_Angeles   \n",
       "214  fe662c95bddfb6e5fd75cb0afbb85cd8  America/Los_Angeles   \n",
       "\n",
       "                                            base64_url  \\\n",
       "229  aHR0cHM6Ly9hcGkuNTExLm9yZy90cmFuc2l0L2RhdGFmZW...   \n",
       "257  aHR0cHM6Ly9kYXRhLnRyaWxsaXVtdHJhbnNpdC5jb20vZ3...   \n",
       "199  aHR0cHM6Ly9kYXRhLnRyaWxsaXVtdHJhbnNpdC5jb20vZ3...   \n",
       "213  aHR0cHM6Ly9ndGZzLmNhbGl0cC5vcmcvcHJvZHVjdGlvbi...   \n",
       "214  aHR0cHM6Ly9ndGZzLmNhbGl0cC5vcmcvcHJvZHVjdGlvbi...   \n",
       "\n",
       "                     gtfs_dataset_key  \\\n",
       "229  dcb6fb26f2d08393f9b0b1c14dc8775c   \n",
       "257  f91395e3131f298c6965235903e07b9b   \n",
       "199  c5790c908973d410e5a5cf3ee121ecca   \n",
       "213  cde2b7a63ab7bb33141c8b02b001ea0f   \n",
       "214  cde2b7a63ab7bb33141c8b02b001ea0f   \n",
       "\n",
       "                           gtfs_dataset_name      type regional_feed_type  \\\n",
       "229  Bay Area 511 Tri-Valley Wheels Schedule  schedule   Regional Subfeed   \n",
       "257                           YARTS Schedule  schedule               None   \n",
       "199                Mountain Transit Schedule  schedule               None   \n",
       "213                                TCAT Flex  schedule               None   \n",
       "214                                TCAT Flex  schedule               None   \n",
       "\n",
       "                                        name severity  total_notices  \n",
       "229  Bay Area 511 Tri-Valley Wheels Schedule    ERROR         3888.0  \n",
       "257                           YARTS Schedule    ERROR         3538.0  \n",
       "199                Mountain Transit Schedule    ERROR         3372.0  \n",
       "213                                TCAT Flex    ERROR         3105.0  \n",
       "214                                TCAT Flex    ERROR         3099.0  "
      ]
     },
     "execution_count": 31,
     "metadata": {},
     "output_type": "execute_result"
    }
   ],
   "source": [
    "with_notices >> arrange(-_.total_notices) >> head(5)"
   ]
  },
  {
   "cell_type": "markdown",
   "id": "6e9862a5-acc7-4d65-882c-530390726ec5",
   "metadata": {},
   "source": [
    "## Download raw from GCS (for Conveyal)"
   ]
  },
  {
   "cell_type": "code",
   "execution_count": 32,
   "id": "2befb3c9-36ff-4128-8561-31f2d7aea1cd",
   "metadata": {},
   "outputs": [],
   "source": [
    "fs = get_fs()"
   ]
  },
  {
   "cell_type": "code",
   "execution_count": 33,
   "id": "5b6d7cb9-8557-4f48-befb-8522efaea5df",
   "metadata": {},
   "outputs": [
    {
     "data": {
      "text/plain": [
       "dict_keys(['norcal', 'central', 'socal', 'mojave'])"
      ]
     },
     "execution_count": 33,
     "metadata": {},
     "output_type": "execute_result"
    }
   ],
   "source": [
    "regions.keys()"
   ]
  },
  {
   "cell_type": "code",
   "execution_count": 39,
   "id": "56df1e83-9887-4aaf-9fc3-4bf2ec794a0f",
   "metadata": {},
   "outputs": [],
   "source": [
    "def download_feed(row):\n",
    "    # need wildcard for file too -- not all are gtfs.zip!\n",
    "    uri = f'gs://calitp-gtfs-schedule-raw-v2/schedule/dt={row.date.strftime(\"%Y-%m-%d\")}/*/base64_url={row.base64_url}/*.zip'\n",
    "    fs.get(uri, f'{row.path}/{row.feed_key}_gtfs.zip')\n",
    "    # print(f'downloaded {row.path}/{row.feed_key}_gtfs.zip')"
   ]
  },
  {
   "cell_type": "code",
   "execution_count": 40,
   "id": "c88007b8-d075-402d-80af-a317e18a112e",
   "metadata": {},
   "outputs": [],
   "source": [
    "def download_region(feeds_df, region: str):\n",
    "    \n",
    "    assert region in regions.keys()\n",
    "    path = f'./feeds_{feeds_df.date.iloc[0].strftime(\"%Y-%m-%d\")}/{region}'\n",
    "    if not os.path.exists(path): os.makedirs(path)\n",
    "    region = (feeds_df >> filter(_.region == region)).copy()\n",
    "    region['path'] = path\n",
    "    region.progress_apply(download_feed, axis = 1)"
   ]
  },
  {
   "cell_type": "code",
   "execution_count": 41,
   "id": "492a57c5-d64f-4293-88fe-bd8febb3ef2d",
   "metadata": {},
   "outputs": [
    {
     "data": {
      "text/html": [
       "<div>\n",
       "<style scoped>\n",
       "    .dataframe tbody tr th:only-of-type {\n",
       "        vertical-align: middle;\n",
       "    }\n",
       "\n",
       "    .dataframe tbody tr th {\n",
       "        vertical-align: top;\n",
       "    }\n",
       "\n",
       "    .dataframe thead th {\n",
       "        text-align: right;\n",
       "    }\n",
       "</style>\n",
       "<table border=\"1\" class=\"dataframe\">\n",
       "  <thead>\n",
       "    <tr style=\"text-align: right;\">\n",
       "      <th></th>\n",
       "      <th>region</th>\n",
       "      <th>n</th>\n",
       "    </tr>\n",
       "  </thead>\n",
       "  <tbody>\n",
       "    <tr>\n",
       "      <th>0</th>\n",
       "      <td>central</td>\n",
       "      <td>81</td>\n",
       "    </tr>\n",
       "    <tr>\n",
       "      <th>1</th>\n",
       "      <td>mojave</td>\n",
       "      <td>6</td>\n",
       "    </tr>\n",
       "    <tr>\n",
       "      <th>2</th>\n",
       "      <td>norcal</td>\n",
       "      <td>24</td>\n",
       "    </tr>\n",
       "    <tr>\n",
       "      <th>3</th>\n",
       "      <td>socal</td>\n",
       "      <td>82</td>\n",
       "    </tr>\n",
       "  </tbody>\n",
       "</table>\n",
       "</div>"
      ],
      "text/plain": [
       "    region   n\n",
       "0  central  81\n",
       "1   mojave   6\n",
       "2   norcal  24\n",
       "3    socal  82"
      ]
     },
     "execution_count": 41,
     "metadata": {},
     "output_type": "execute_result"
    }
   ],
   "source": [
    "regions_and_feeds >> count(_.region)"
   ]
  },
  {
   "cell_type": "code",
   "execution_count": 42,
   "id": "5fc9e426-e1ca-44fb-a0d3-107c145b0fec",
   "metadata": {
    "tags": []
   },
   "outputs": [
    {
     "data": {
      "application/vnd.jupyter.widget-view+json": {
       "model_id": "4655f1e7dab84972a8a246c46f19dbab",
       "version_major": 2,
       "version_minor": 0
      },
      "text/plain": [
       "  0%|          | 0/4 [00:00<?, ?it/s]"
      ]
     },
     "metadata": {},
     "output_type": "display_data"
    },
    {
     "data": {
      "application/vnd.jupyter.widget-view+json": {
       "model_id": "ddf87baaef154016bd72a7d7919737d5",
       "version_major": 2,
       "version_minor": 0
      },
      "text/plain": [
       "  0%|          | 0/24 [00:00<?, ?it/s]"
      ]
     },
     "metadata": {},
     "output_type": "display_data"
    },
    {
     "data": {
      "application/vnd.jupyter.widget-view+json": {
       "model_id": "5be09cda4c8c4cb1ac7705e95d473ae5",
       "version_major": 2,
       "version_minor": 0
      },
      "text/plain": [
       "  0%|          | 0/81 [00:00<?, ?it/s]"
      ]
     },
     "metadata": {},
     "output_type": "display_data"
    },
    {
     "data": {
      "application/vnd.jupyter.widget-view+json": {
       "model_id": "b3e2a4c67559489daafe733e20c9a925",
       "version_major": 2,
       "version_minor": 0
      },
      "text/plain": [
       "  0%|          | 0/82 [00:00<?, ?it/s]"
      ]
     },
     "metadata": {},
     "output_type": "display_data"
    },
    {
     "data": {
      "application/vnd.jupyter.widget-view+json": {
       "model_id": "7d76f736f7a545658e6b252a0fbb1cd5",
       "version_major": 2,
       "version_minor": 0
      },
      "text/plain": [
       "  0%|          | 0/6 [00:00<?, ?it/s]"
      ]
     },
     "metadata": {},
     "output_type": "display_data"
    }
   ],
   "source": [
    "for region in tqdm(regions.keys()):\n",
    "    download_region(regions_and_feeds, region)"
   ]
  },
  {
   "cell_type": "code",
   "execution_count": 43,
   "id": "8f4888a0-66d5-45d1-a9f5-e9092b81a8bb",
   "metadata": {},
   "outputs": [
    {
     "data": {
      "text/plain": [
       "'/home/jovyan/data-analyses/conveyal_update/feeds_2023-09-13.zip'"
      ]
     },
     "execution_count": 43,
     "metadata": {},
     "output_type": "execute_result"
    }
   ],
   "source": [
    "import shutil\n",
    "\n",
    "shutil.make_archive(f'feeds_{target_date}', 'zip', f'./feeds_{target_date}/')"
   ]
  }
 ],
 "metadata": {
  "kernelspec": {
   "display_name": "Python 3 (ipykernel)",
   "language": "python",
   "name": "python3"
  },
  "language_info": {
   "codemirror_mode": {
    "name": "ipython",
    "version": 3
   },
   "file_extension": ".py",
   "mimetype": "text/x-python",
   "name": "python",
   "nbconvert_exporter": "python",
   "pygments_lexer": "ipython3",
   "version": "3.9.13"
  },
  "widgets": {
   "application/vnd.jupyter.widget-state+json": {
    "state": {
     "02baab67761944e1b64f8be390690384": {
      "model_module": "@jupyter-widgets/controls",
      "model_module_version": "1.5.0",
      "model_name": "FloatProgressModel",
      "state": {
       "bar_style": "success",
       "layout": "IPY_MODEL_e8f55121c7354bf0a972b1875fc857a6",
       "max": 6,
       "style": "IPY_MODEL_be74183127b24961a071b0bc445be1db",
       "value": 6
      }
     },
     "060d5ad925314be0879a77b2c84b9504": {
      "model_module": "@jupyter-widgets/controls",
      "model_module_version": "1.5.0",
      "model_name": "DescriptionStyleModel",
      "state": {
       "description_width": ""
      }
     },
     "07b42a250ff44b3cb4959f37f4a8961b": {
      "model_module": "@jupyter-widgets/controls",
      "model_module_version": "1.5.0",
      "model_name": "DescriptionStyleModel",
      "state": {
       "description_width": ""
      }
     },
     "14adc85218324b70af073785a6118726": {
      "model_module": "@jupyter-widgets/controls",
      "model_module_version": "1.5.0",
      "model_name": "ProgressStyleModel",
      "state": {
       "description_width": ""
      }
     },
     "1802931c33014acba577a78b9bbb213e": {
      "model_module": "@jupyter-widgets/controls",
      "model_module_version": "1.5.0",
      "model_name": "DescriptionStyleModel",
      "state": {
       "description_width": ""
      }
     },
     "188ebfed43104ba084bedc908c2b6262": {
      "model_module": "@jupyter-widgets/base",
      "model_module_version": "1.2.0",
      "model_name": "LayoutModel",
      "state": {}
     },
     "21d2bce89b42482d9debb9de788aed5c": {
      "model_module": "@jupyter-widgets/controls",
      "model_module_version": "1.5.0",
      "model_name": "HTMLModel",
      "state": {
       "layout": "IPY_MODEL_6eba9f1dd95b415d8374a707453ea327",
       "style": "IPY_MODEL_bc241028cf49459690cc78ad8e150231",
       "value": " 6/6 [00:03&lt;00:00,  2.01it/s]"
      }
     },
     "2472249ce67d45ad8d2dc0e505bdf878": {
      "model_module": "@jupyter-widgets/base",
      "model_module_version": "1.2.0",
      "model_name": "LayoutModel",
      "state": {}
     },
     "28a59c20c4b8402da2f4a4a6ee4ad6c2": {
      "model_module": "@jupyter-widgets/base",
      "model_module_version": "1.2.0",
      "model_name": "LayoutModel",
      "state": {}
     },
     "28fe720154014ab4a610ad73ea5f6639": {
      "model_module": "@jupyter-widgets/controls",
      "model_module_version": "1.5.0",
      "model_name": "HBoxModel",
      "state": {
       "children": [
        "IPY_MODEL_e0e418eaaf80454f994a5d41399da789",
        "IPY_MODEL_ae2ffea4b81f4d809616c6d365bfd1d5",
        "IPY_MODEL_51f1a1ead3ec46a7aa76aba8d0ad403c"
       ],
       "layout": "IPY_MODEL_9c4b0442a6954a198584c219db6117ea"
      }
     },
     "2c90096b6e904c50a124dc72e4c72d53": {
      "model_module": "@jupyter-widgets/controls",
      "model_module_version": "1.5.0",
      "model_name": "ProgressStyleModel",
      "state": {
       "description_width": ""
      }
     },
     "2cc8918c0b6a4654b37396f623a09533": {
      "model_module": "@jupyter-widgets/controls",
      "model_module_version": "1.5.0",
      "model_name": "DescriptionStyleModel",
      "state": {
       "description_width": ""
      }
     },
     "2db346c3fef34448b0b1c0e43c556063": {
      "model_module": "@jupyter-widgets/base",
      "model_module_version": "1.2.0",
      "model_name": "LayoutModel",
      "state": {}
     },
     "3098676098ea43b29830ffb4dd2ee6f3": {
      "model_module": "@jupyter-widgets/base",
      "model_module_version": "1.2.0",
      "model_name": "LayoutModel",
      "state": {}
     },
     "3192a6e0507649b69e11fb7f1c12e5a7": {
      "model_module": "@jupyter-widgets/controls",
      "model_module_version": "1.5.0",
      "model_name": "HTMLModel",
      "state": {
       "layout": "IPY_MODEL_b15ca3b717ee41f0a689f14e0a98bd70",
       "style": "IPY_MODEL_4ba7a2cca14d41e58bbe5a08463fbce7",
       "value": " 24/24 [00:10&lt;00:00,  3.06it/s]"
      }
     },
     "31b4ff3accec4a1b915e329755a020d5": {
      "model_module": "@jupyter-widgets/controls",
      "model_module_version": "1.5.0",
      "model_name": "DescriptionStyleModel",
      "state": {
       "description_width": ""
      }
     },
     "332fe3a1c0bb4f80a4c61c1445d74e7d": {
      "model_module": "@jupyter-widgets/controls",
      "model_module_version": "1.5.0",
      "model_name": "DescriptionStyleModel",
      "state": {
       "description_width": ""
      }
     },
     "39d66a659e054ef2807b95e1dcee5a94": {
      "model_module": "@jupyter-widgets/base",
      "model_module_version": "1.2.0",
      "model_name": "LayoutModel",
      "state": {}
     },
     "3ad6f3bde2cf4957a75b501032598461": {
      "model_module": "@jupyter-widgets/base",
      "model_module_version": "1.2.0",
      "model_name": "LayoutModel",
      "state": {}
     },
     "3b60f7c0a56a47db90878bc885337e34": {
      "model_module": "@jupyter-widgets/controls",
      "model_module_version": "1.5.0",
      "model_name": "DescriptionStyleModel",
      "state": {
       "description_width": ""
      }
     },
     "402d8144169f4592b0192789b4bd2930": {
      "model_module": "@jupyter-widgets/base",
      "model_module_version": "1.2.0",
      "model_name": "LayoutModel",
      "state": {}
     },
     "40ba317de534482faed5a0298b4ec5d0": {
      "model_module": "@jupyter-widgets/base",
      "model_module_version": "1.2.0",
      "model_name": "LayoutModel",
      "state": {}
     },
     "42e3609d032645e2b3cf7ca703f6edf8": {
      "model_module": "@jupyter-widgets/controls",
      "model_module_version": "1.5.0",
      "model_name": "HBoxModel",
      "state": {
       "children": [
        "IPY_MODEL_8852f0ca74b8486c9020baa09a5eb74f",
        "IPY_MODEL_532d899e4c7f491d87e07602d18115e7",
        "IPY_MODEL_3192a6e0507649b69e11fb7f1c12e5a7"
       ],
       "layout": "IPY_MODEL_188ebfed43104ba084bedc908c2b6262"
      }
     },
     "4514c56e479847ce8ed02d36b6c6d84c": {
      "model_module": "@jupyter-widgets/controls",
      "model_module_version": "1.5.0",
      "model_name": "HBoxModel",
      "state": {
       "children": [
        "IPY_MODEL_8e3f489600e94a1db3477b1d8810d714",
        "IPY_MODEL_a33e86bafe2f4bb59e3593c56e3234b4",
        "IPY_MODEL_f5c9da6b3aba41969745c2d3d7bd1e9b"
       ],
       "layout": "IPY_MODEL_ac2323c5bab646ceb76c03f2b3aecdf3"
      }
     },
     "4655f1e7dab84972a8a246c46f19dbab": {
      "model_module": "@jupyter-widgets/controls",
      "model_module_version": "1.5.0",
      "model_name": "HBoxModel",
      "state": {
       "children": [
        "IPY_MODEL_6aaf1538c9284052b4d4489559abed67",
        "IPY_MODEL_6bdb3f8e931546c08f7033eb96aadc06",
        "IPY_MODEL_c1278358e4ef4b8aa9a1d7b0559f209f"
       ],
       "layout": "IPY_MODEL_2472249ce67d45ad8d2dc0e505bdf878"
      }
     },
     "46af820c2a1942c4b0767bd3ee83507b": {
      "model_module": "@jupyter-widgets/base",
      "model_module_version": "1.2.0",
      "model_name": "LayoutModel",
      "state": {}
     },
     "472927aaa8184ef18e3c81c929b154e6": {
      "model_module": "@jupyter-widgets/base",
      "model_module_version": "1.2.0",
      "model_name": "LayoutModel",
      "state": {}
     },
     "4a9aec0b69fe498bae0644e3aaa58b11": {
      "model_module": "@jupyter-widgets/controls",
      "model_module_version": "1.5.0",
      "model_name": "HTMLModel",
      "state": {
       "layout": "IPY_MODEL_472927aaa8184ef18e3c81c929b154e6",
       "style": "IPY_MODEL_07b42a250ff44b3cb4959f37f4a8961b",
       "value": "100%"
      }
     },
     "4ba7a2cca14d41e58bbe5a08463fbce7": {
      "model_module": "@jupyter-widgets/controls",
      "model_module_version": "1.5.0",
      "model_name": "DescriptionStyleModel",
      "state": {
       "description_width": ""
      }
     },
     "4d0da1f267804c9db359643dd6ed4f50": {
      "model_module": "@jupyter-widgets/controls",
      "model_module_version": "1.5.0",
      "model_name": "HBoxModel",
      "state": {
       "children": [
        "IPY_MODEL_9154722c9537438cba37230b40fa63d6",
        "IPY_MODEL_57110b0819a7480d91bebf73e11a66fe",
        "IPY_MODEL_8c213990f3084659b35a6de50fe8a340"
       ],
       "layout": "IPY_MODEL_f17555849357438db7402bf059721521"
      }
     },
     "51f1a1ead3ec46a7aa76aba8d0ad403c": {
      "model_module": "@jupyter-widgets/controls",
      "model_module_version": "1.5.0",
      "model_name": "HTMLModel",
      "state": {
       "layout": "IPY_MODEL_ecd972aa789d443a80480e46daf08cf0",
       "style": "IPY_MODEL_e2532481e17a49e8b9b26ea3975d192f",
       "value": " 81/81 [00:29&lt;00:00,  3.64it/s]"
      }
     },
     "532d899e4c7f491d87e07602d18115e7": {
      "model_module": "@jupyter-widgets/controls",
      "model_module_version": "1.5.0",
      "model_name": "FloatProgressModel",
      "state": {
       "bar_style": "success",
       "layout": "IPY_MODEL_6a8f64eafc684546b04f39aa93aaf926",
       "max": 24,
       "style": "IPY_MODEL_c0bcea5656e747b68e176cc350668506",
       "value": 24
      }
     },
     "553f29634b374f77bf57be9051452838": {
      "model_module": "@jupyter-widgets/controls",
      "model_module_version": "1.5.0",
      "model_name": "DescriptionStyleModel",
      "state": {
       "description_width": ""
      }
     },
     "56543401248d4147ab0c3c9b9f2eef20": {
      "model_module": "@jupyter-widgets/controls",
      "model_module_version": "1.5.0",
      "model_name": "DescriptionStyleModel",
      "state": {
       "description_width": ""
      }
     },
     "56fe85fbc2a047a99a5ecb45c54b0975": {
      "model_module": "@jupyter-widgets/base",
      "model_module_version": "1.2.0",
      "model_name": "LayoutModel",
      "state": {}
     },
     "57110b0819a7480d91bebf73e11a66fe": {
      "model_module": "@jupyter-widgets/controls",
      "model_module_version": "1.5.0",
      "model_name": "FloatProgressModel",
      "state": {
       "bar_style": "success",
       "layout": "IPY_MODEL_ab6aca47e7604dc0b99cfc5a92f5be09",
       "max": 6,
       "style": "IPY_MODEL_65a2eb1a621047559922d81b528bc755",
       "value": 6
      }
     },
     "57715ffd7b9b497cab65d1f621d7fe78": {
      "model_module": "@jupyter-widgets/controls",
      "model_module_version": "1.5.0",
      "model_name": "DescriptionStyleModel",
      "state": {
       "description_width": ""
      }
     },
     "57b4ef05fb4e4d92991f0cf4979880f8": {
      "model_module": "@jupyter-widgets/controls",
      "model_module_version": "1.5.0",
      "model_name": "ProgressStyleModel",
      "state": {
       "description_width": ""
      }
     },
     "5b72acd9dfe44126a600d3f664ef6e56": {
      "model_module": "@jupyter-widgets/base",
      "model_module_version": "1.2.0",
      "model_name": "LayoutModel",
      "state": {}
     },
     "5be09cda4c8c4cb1ac7705e95d473ae5": {
      "model_module": "@jupyter-widgets/controls",
      "model_module_version": "1.5.0",
      "model_name": "HBoxModel",
      "state": {
       "children": [
        "IPY_MODEL_7d345c3d460a42c6b34ff40f90ae780a",
        "IPY_MODEL_7d736f2edf8748b994734ec8b71442fc",
        "IPY_MODEL_a6b99b65dae445119ffc1f5329382fc3"
       ],
       "layout": "IPY_MODEL_a024cd1f0b0f4ef2a6c7ae0e15aa1edc"
      }
     },
     "6321458563b041e8a4a9a372f81ab7a9": {
      "model_module": "@jupyter-widgets/base",
      "model_module_version": "1.2.0",
      "model_name": "LayoutModel",
      "state": {}
     },
     "64adb3d90cff429ba524232dac909ecc": {
      "model_module": "@jupyter-widgets/base",
      "model_module_version": "1.2.0",
      "model_name": "LayoutModel",
      "state": {}
     },
     "65a2eb1a621047559922d81b528bc755": {
      "model_module": "@jupyter-widgets/controls",
      "model_module_version": "1.5.0",
      "model_name": "ProgressStyleModel",
      "state": {
       "description_width": ""
      }
     },
     "66f6b793ed444fae82c3593367252c81": {
      "model_module": "@jupyter-widgets/base",
      "model_module_version": "1.2.0",
      "model_name": "LayoutModel",
      "state": {}
     },
     "69eb0a9bced34b6e970e9d3f4202c90a": {
      "model_module": "@jupyter-widgets/base",
      "model_module_version": "1.2.0",
      "model_name": "LayoutModel",
      "state": {}
     },
     "6a8f64eafc684546b04f39aa93aaf926": {
      "model_module": "@jupyter-widgets/base",
      "model_module_version": "1.2.0",
      "model_name": "LayoutModel",
      "state": {}
     },
     "6aaf1538c9284052b4d4489559abed67": {
      "model_module": "@jupyter-widgets/controls",
      "model_module_version": "1.5.0",
      "model_name": "HTMLModel",
      "state": {
       "layout": "IPY_MODEL_402d8144169f4592b0192789b4bd2930",
       "style": "IPY_MODEL_1802931c33014acba577a78b9bbb213e",
       "value": "100%"
      }
     },
     "6bdb3f8e931546c08f7033eb96aadc06": {
      "model_module": "@jupyter-widgets/controls",
      "model_module_version": "1.5.0",
      "model_name": "FloatProgressModel",
      "state": {
       "bar_style": "success",
       "layout": "IPY_MODEL_66f6b793ed444fae82c3593367252c81",
       "max": 4,
       "style": "IPY_MODEL_c34aa2dcf949438a85e5e6d1545a0de5",
       "value": 4
      }
     },
     "6eba9f1dd95b415d8374a707453ea327": {
      "model_module": "@jupyter-widgets/base",
      "model_module_version": "1.2.0",
      "model_name": "LayoutModel",
      "state": {}
     },
     "74568bb208254eca83020ae2993624c1": {
      "model_module": "@jupyter-widgets/base",
      "model_module_version": "1.2.0",
      "model_name": "LayoutModel",
      "state": {}
     },
     "7d345c3d460a42c6b34ff40f90ae780a": {
      "model_module": "@jupyter-widgets/controls",
      "model_module_version": "1.5.0",
      "model_name": "HTMLModel",
      "state": {
       "layout": "IPY_MODEL_40ba317de534482faed5a0298b4ec5d0",
       "style": "IPY_MODEL_57715ffd7b9b497cab65d1f621d7fe78",
       "value": "100%"
      }
     },
     "7d736f2edf8748b994734ec8b71442fc": {
      "model_module": "@jupyter-widgets/controls",
      "model_module_version": "1.5.0",
      "model_name": "FloatProgressModel",
      "state": {
       "bar_style": "success",
       "layout": "IPY_MODEL_9050e7917dab4e1bae45cfc3fcf3a2e4",
       "max": 81,
       "style": "IPY_MODEL_89bad883fff14046b86974fedb9189c7",
       "value": 81
      }
     },
     "7d76f736f7a545658e6b252a0fbb1cd5": {
      "model_module": "@jupyter-widgets/controls",
      "model_module_version": "1.5.0",
      "model_name": "HBoxModel",
      "state": {
       "children": [
        "IPY_MODEL_c52760ebe59c46d59f6edb78d2866cbe",
        "IPY_MODEL_02baab67761944e1b64f8be390690384",
        "IPY_MODEL_21d2bce89b42482d9debb9de788aed5c"
       ],
       "layout": "IPY_MODEL_9f6fac5894b2470a84deb350801b3cc9"
      }
     },
     "7e6357ebe3574c30b0b73b52c8fd9748": {
      "model_module": "@jupyter-widgets/controls",
      "model_module_version": "1.5.0",
      "model_name": "HTMLModel",
      "state": {
       "layout": "IPY_MODEL_f25ecfcb4afd4d1fb2129fe5bc3affef",
       "style": "IPY_MODEL_3b60f7c0a56a47db90878bc885337e34",
       "value": "100%"
      }
     },
     "8852f0ca74b8486c9020baa09a5eb74f": {
      "model_module": "@jupyter-widgets/controls",
      "model_module_version": "1.5.0",
      "model_name": "HTMLModel",
      "state": {
       "layout": "IPY_MODEL_69eb0a9bced34b6e970e9d3f4202c90a",
       "style": "IPY_MODEL_dde86cfa2f9547b2a8fe86952b40c271",
       "value": "100%"
      }
     },
     "88cc3f84e337425491ebd63940785536": {
      "model_module": "@jupyter-widgets/base",
      "model_module_version": "1.2.0",
      "model_name": "LayoutModel",
      "state": {}
     },
     "89bad883fff14046b86974fedb9189c7": {
      "model_module": "@jupyter-widgets/controls",
      "model_module_version": "1.5.0",
      "model_name": "ProgressStyleModel",
      "state": {
       "description_width": ""
      }
     },
     "8c213990f3084659b35a6de50fe8a340": {
      "model_module": "@jupyter-widgets/controls",
      "model_module_version": "1.5.0",
      "model_name": "HTMLModel",
      "state": {
       "layout": "IPY_MODEL_88cc3f84e337425491ebd63940785536",
       "style": "IPY_MODEL_c892e79c58c445688c845cc9a22da85c",
       "value": " 6/6 [00:04&lt;00:00,  1.56it/s]"
      }
     },
     "8e3f489600e94a1db3477b1d8810d714": {
      "model_module": "@jupyter-widgets/controls",
      "model_module_version": "1.5.0",
      "model_name": "HTMLModel",
      "state": {
       "layout": "IPY_MODEL_64adb3d90cff429ba524232dac909ecc",
       "style": "IPY_MODEL_060d5ad925314be0879a77b2c84b9504",
       "value": "100%"
      }
     },
     "9050e7917dab4e1bae45cfc3fcf3a2e4": {
      "model_module": "@jupyter-widgets/base",
      "model_module_version": "1.2.0",
      "model_name": "LayoutModel",
      "state": {}
     },
     "9154722c9537438cba37230b40fa63d6": {
      "model_module": "@jupyter-widgets/controls",
      "model_module_version": "1.5.0",
      "model_name": "HTMLModel",
      "state": {
       "layout": "IPY_MODEL_39d66a659e054ef2807b95e1dcee5a94",
       "style": "IPY_MODEL_56543401248d4147ab0c3c9b9f2eef20",
       "value": "100%"
      }
     },
     "9a011ece4547418585625a5976782cf1": {
      "model_module": "@jupyter-widgets/controls",
      "model_module_version": "1.5.0",
      "model_name": "HTMLModel",
      "state": {
       "layout": "IPY_MODEL_74568bb208254eca83020ae2993624c1",
       "style": "IPY_MODEL_c33d6230ecfc432cac5ee73ae9286d75",
       "value": " 24/24 [00:09&lt;00:00,  3.26it/s]"
      }
     },
     "9c4b0442a6954a198584c219db6117ea": {
      "model_module": "@jupyter-widgets/base",
      "model_module_version": "1.2.0",
      "model_name": "LayoutModel",
      "state": {}
     },
     "9f6fac5894b2470a84deb350801b3cc9": {
      "model_module": "@jupyter-widgets/base",
      "model_module_version": "1.2.0",
      "model_name": "LayoutModel",
      "state": {}
     },
     "a024cd1f0b0f4ef2a6c7ae0e15aa1edc": {
      "model_module": "@jupyter-widgets/base",
      "model_module_version": "1.2.0",
      "model_name": "LayoutModel",
      "state": {}
     },
     "a33e86bafe2f4bb59e3593c56e3234b4": {
      "model_module": "@jupyter-widgets/controls",
      "model_module_version": "1.5.0",
      "model_name": "FloatProgressModel",
      "state": {
       "bar_style": "success",
       "layout": "IPY_MODEL_3ad6f3bde2cf4957a75b501032598461",
       "max": 82,
       "style": "IPY_MODEL_14adc85218324b70af073785a6118726",
       "value": 82
      }
     },
     "a6b99b65dae445119ffc1f5329382fc3": {
      "model_module": "@jupyter-widgets/controls",
      "model_module_version": "1.5.0",
      "model_name": "HTMLModel",
      "state": {
       "layout": "IPY_MODEL_3098676098ea43b29830ffb4dd2ee6f3",
       "style": "IPY_MODEL_2cc8918c0b6a4654b37396f623a09533",
       "value": " 81/81 [00:26&lt;00:00,  3.34it/s]"
      }
     },
     "a6bab0c4186846ff9f33034e549aa626": {
      "model_module": "@jupyter-widgets/controls",
      "model_module_version": "1.5.0",
      "model_name": "ProgressStyleModel",
      "state": {
       "description_width": ""
      }
     },
     "a8d4154cdc964c91aefdca54da5c4403": {
      "model_module": "@jupyter-widgets/base",
      "model_module_version": "1.2.0",
      "model_name": "LayoutModel",
      "state": {}
     },
     "ab6aca47e7604dc0b99cfc5a92f5be09": {
      "model_module": "@jupyter-widgets/base",
      "model_module_version": "1.2.0",
      "model_name": "LayoutModel",
      "state": {}
     },
     "ab6de5e5755142be823a0bf3329aa208": {
      "model_module": "@jupyter-widgets/controls",
      "model_module_version": "1.5.0",
      "model_name": "DescriptionStyleModel",
      "state": {
       "description_width": ""
      }
     },
     "ac2323c5bab646ceb76c03f2b3aecdf3": {
      "model_module": "@jupyter-widgets/base",
      "model_module_version": "1.2.0",
      "model_name": "LayoutModel",
      "state": {}
     },
     "ae2ffea4b81f4d809616c6d365bfd1d5": {
      "model_module": "@jupyter-widgets/controls",
      "model_module_version": "1.5.0",
      "model_name": "FloatProgressModel",
      "state": {
       "bar_style": "success",
       "layout": "IPY_MODEL_eb0daafba5b9408c824965dadc71e34d",
       "max": 81,
       "style": "IPY_MODEL_57b4ef05fb4e4d92991f0cf4979880f8",
       "value": 81
      }
     },
     "b15ca3b717ee41f0a689f14e0a98bd70": {
      "model_module": "@jupyter-widgets/base",
      "model_module_version": "1.2.0",
      "model_name": "LayoutModel",
      "state": {}
     },
     "b3e2a4c67559489daafe733e20c9a925": {
      "model_module": "@jupyter-widgets/controls",
      "model_module_version": "1.5.0",
      "model_name": "HBoxModel",
      "state": {
       "children": [
        "IPY_MODEL_4a9aec0b69fe498bae0644e3aaa58b11",
        "IPY_MODEL_e32797b5e1d94fcab029512212f2a772",
        "IPY_MODEL_c025a329f9114288b885296f0395e2d7"
       ],
       "layout": "IPY_MODEL_daa8e6c68c104b879eac4dde9adc3bed"
      }
     },
     "bc241028cf49459690cc78ad8e150231": {
      "model_module": "@jupyter-widgets/controls",
      "model_module_version": "1.5.0",
      "model_name": "DescriptionStyleModel",
      "state": {
       "description_width": ""
      }
     },
     "be74183127b24961a071b0bc445be1db": {
      "model_module": "@jupyter-widgets/controls",
      "model_module_version": "1.5.0",
      "model_name": "ProgressStyleModel",
      "state": {
       "description_width": ""
      }
     },
     "c025a329f9114288b885296f0395e2d7": {
      "model_module": "@jupyter-widgets/controls",
      "model_module_version": "1.5.0",
      "model_name": "HTMLModel",
      "state": {
       "layout": "IPY_MODEL_56fe85fbc2a047a99a5ecb45c54b0975",
       "style": "IPY_MODEL_ab6de5e5755142be823a0bf3329aa208",
       "value": " 82/82 [00:25&lt;00:00,  3.91it/s]"
      }
     },
     "c0bcea5656e747b68e176cc350668506": {
      "model_module": "@jupyter-widgets/controls",
      "model_module_version": "1.5.0",
      "model_name": "ProgressStyleModel",
      "state": {
       "description_width": ""
      }
     },
     "c1278358e4ef4b8aa9a1d7b0559f209f": {
      "model_module": "@jupyter-widgets/controls",
      "model_module_version": "1.5.0",
      "model_name": "HTMLModel",
      "state": {
       "layout": "IPY_MODEL_28a59c20c4b8402da2f4a4a6ee4ad6c2",
       "style": "IPY_MODEL_553f29634b374f77bf57be9051452838",
       "value": " 4/4 [01:05&lt;00:00, 15.01s/it]"
      }
     },
     "c13ac8871e6441cf9ee8cefaa0d7dbf5": {
      "model_module": "@jupyter-widgets/controls",
      "model_module_version": "1.5.0",
      "model_name": "FloatProgressModel",
      "state": {
       "bar_style": "success",
       "layout": "IPY_MODEL_5b72acd9dfe44126a600d3f664ef6e56",
       "max": 24,
       "style": "IPY_MODEL_2c90096b6e904c50a124dc72e4c72d53",
       "value": 24
      }
     },
     "c33d6230ecfc432cac5ee73ae9286d75": {
      "model_module": "@jupyter-widgets/controls",
      "model_module_version": "1.5.0",
      "model_name": "DescriptionStyleModel",
      "state": {
       "description_width": ""
      }
     },
     "c34aa2dcf949438a85e5e6d1545a0de5": {
      "model_module": "@jupyter-widgets/controls",
      "model_module_version": "1.5.0",
      "model_name": "ProgressStyleModel",
      "state": {
       "description_width": ""
      }
     },
     "c52760ebe59c46d59f6edb78d2866cbe": {
      "model_module": "@jupyter-widgets/controls",
      "model_module_version": "1.5.0",
      "model_name": "HTMLModel",
      "state": {
       "layout": "IPY_MODEL_2db346c3fef34448b0b1c0e43c556063",
       "style": "IPY_MODEL_d8bc3485a693491a9d3f96fcef0ee89d",
       "value": "100%"
      }
     },
     "c892e79c58c445688c845cc9a22da85c": {
      "model_module": "@jupyter-widgets/controls",
      "model_module_version": "1.5.0",
      "model_name": "DescriptionStyleModel",
      "state": {
       "description_width": ""
      }
     },
     "d8bc3485a693491a9d3f96fcef0ee89d": {
      "model_module": "@jupyter-widgets/controls",
      "model_module_version": "1.5.0",
      "model_name": "DescriptionStyleModel",
      "state": {
       "description_width": ""
      }
     },
     "daa8e6c68c104b879eac4dde9adc3bed": {
      "model_module": "@jupyter-widgets/base",
      "model_module_version": "1.2.0",
      "model_name": "LayoutModel",
      "state": {}
     },
     "dcb67bb87691401c965312283768882f": {
      "model_module": "@jupyter-widgets/base",
      "model_module_version": "1.2.0",
      "model_name": "LayoutModel",
      "state": {}
     },
     "dde86cfa2f9547b2a8fe86952b40c271": {
      "model_module": "@jupyter-widgets/controls",
      "model_module_version": "1.5.0",
      "model_name": "DescriptionStyleModel",
      "state": {
       "description_width": ""
      }
     },
     "ddf87baaef154016bd72a7d7919737d5": {
      "model_module": "@jupyter-widgets/controls",
      "model_module_version": "1.5.0",
      "model_name": "HBoxModel",
      "state": {
       "children": [
        "IPY_MODEL_7e6357ebe3574c30b0b73b52c8fd9748",
        "IPY_MODEL_c13ac8871e6441cf9ee8cefaa0d7dbf5",
        "IPY_MODEL_9a011ece4547418585625a5976782cf1"
       ],
       "layout": "IPY_MODEL_6321458563b041e8a4a9a372f81ab7a9"
      }
     },
     "e0e418eaaf80454f994a5d41399da789": {
      "model_module": "@jupyter-widgets/controls",
      "model_module_version": "1.5.0",
      "model_name": "HTMLModel",
      "state": {
       "layout": "IPY_MODEL_a8d4154cdc964c91aefdca54da5c4403",
       "style": "IPY_MODEL_332fe3a1c0bb4f80a4c61c1445d74e7d",
       "value": "100%"
      }
     },
     "e2532481e17a49e8b9b26ea3975d192f": {
      "model_module": "@jupyter-widgets/controls",
      "model_module_version": "1.5.0",
      "model_name": "DescriptionStyleModel",
      "state": {
       "description_width": ""
      }
     },
     "e32797b5e1d94fcab029512212f2a772": {
      "model_module": "@jupyter-widgets/controls",
      "model_module_version": "1.5.0",
      "model_name": "FloatProgressModel",
      "state": {
       "bar_style": "success",
       "layout": "IPY_MODEL_dcb67bb87691401c965312283768882f",
       "max": 82,
       "style": "IPY_MODEL_a6bab0c4186846ff9f33034e549aa626",
       "value": 82
      }
     },
     "e8f55121c7354bf0a972b1875fc857a6": {
      "model_module": "@jupyter-widgets/base",
      "model_module_version": "1.2.0",
      "model_name": "LayoutModel",
      "state": {}
     },
     "eb0daafba5b9408c824965dadc71e34d": {
      "model_module": "@jupyter-widgets/base",
      "model_module_version": "1.2.0",
      "model_name": "LayoutModel",
      "state": {}
     },
     "ecd972aa789d443a80480e46daf08cf0": {
      "model_module": "@jupyter-widgets/base",
      "model_module_version": "1.2.0",
      "model_name": "LayoutModel",
      "state": {}
     },
     "f17555849357438db7402bf059721521": {
      "model_module": "@jupyter-widgets/base",
      "model_module_version": "1.2.0",
      "model_name": "LayoutModel",
      "state": {}
     },
     "f25ecfcb4afd4d1fb2129fe5bc3affef": {
      "model_module": "@jupyter-widgets/base",
      "model_module_version": "1.2.0",
      "model_name": "LayoutModel",
      "state": {}
     },
     "f5c9da6b3aba41969745c2d3d7bd1e9b": {
      "model_module": "@jupyter-widgets/controls",
      "model_module_version": "1.5.0",
      "model_name": "HTMLModel",
      "state": {
       "layout": "IPY_MODEL_46af820c2a1942c4b0767bd3ee83507b",
       "style": "IPY_MODEL_31b4ff3accec4a1b915e329755a020d5",
       "value": " 82/82 [00:28&lt;00:00,  3.54it/s]"
      }
     }
    },
    "version_major": 2,
    "version_minor": 0
   }
  }
 },
 "nbformat": 4,
 "nbformat_minor": 5
}
