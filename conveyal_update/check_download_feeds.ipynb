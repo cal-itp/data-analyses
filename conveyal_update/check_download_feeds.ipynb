{
 "cells": [
  {
   "cell_type": "code",
   "execution_count": 7,
   "id": "8ddfc58a-d984-4f20-88f8-b0be5e801753",
   "metadata": {},
   "outputs": [],
   "source": [
    "import os\n",
    "os.environ[\"CALITP_BQ_MAX_BYTES\"] = str(800_000_000_000)\n",
    "import shared_utils\n",
    "\n",
    "from calitp_data_analysis import get_fs\n",
    "from calitp_data_analysis.tables import tbls\n",
    "import calitp_data_analysis.magics\n",
    "\n",
    "from siuba import *\n",
    "import pandas as pd\n",
    "import geopandas as gpd\n",
    "\n",
    "import datetime as dt"
   ]
  },
  {
   "cell_type": "markdown",
   "id": "5b998348-8988-48f2-93b0-a0abf917f02e",
   "metadata": {},
   "source": [
    "# Updating procedure for updating Conveyal network bundles\n",
    "\n",
    "* much of this could be in DBT?"
   ]
  },
  {
   "cell_type": "code",
   "execution_count": 2,
   "id": "296bfae5-a830-4b35-a202-87f0c3143c83",
   "metadata": {},
   "outputs": [],
   "source": [
    "target_date = dt.date(2023, 9, 1)"
   ]
  },
  {
   "cell_type": "code",
   "execution_count": 4,
   "id": "f73da205-2eea-4acf-a649-c1f1e2441ac3",
   "metadata": {},
   "outputs": [],
   "source": [
    "feeds_on_target = shared_utils.gtfs_utils_v2.schedule_daily_feed_to_gtfs_dataset_name(selected_date=target_date)\n",
    "# default will use mtc subfeeds (prev Conveyal behavior), can spec customer facing if we wanna switch"
   ]
  },
  {
   "cell_type": "code",
   "execution_count": 5,
   "id": "d2119c99-4e57-4896-909e-4fc0e7c420f7",
   "metadata": {},
   "outputs": [
    {
     "data": {
      "text/html": [
       "<div>\n",
       "<style scoped>\n",
       "    .dataframe tbody tr th:only-of-type {\n",
       "        vertical-align: middle;\n",
       "    }\n",
       "\n",
       "    .dataframe tbody tr th {\n",
       "        vertical-align: top;\n",
       "    }\n",
       "\n",
       "    .dataframe thead th {\n",
       "        text-align: right;\n",
       "    }\n",
       "</style>\n",
       "<table border=\"1\" class=\"dataframe\">\n",
       "  <thead>\n",
       "    <tr style=\"text-align: right;\">\n",
       "      <th></th>\n",
       "      <th>key</th>\n",
       "      <th>date</th>\n",
       "      <th>feed_key</th>\n",
       "      <th>feed_timezone</th>\n",
       "      <th>base64_url</th>\n",
       "      <th>gtfs_dataset_key</th>\n",
       "      <th>gtfs_dataset_name</th>\n",
       "      <th>name</th>\n",
       "      <th>regional_feed_type</th>\n",
       "      <th>type</th>\n",
       "    </tr>\n",
       "  </thead>\n",
       "  <tbody>\n",
       "    <tr>\n",
       "      <th>0</th>\n",
       "      <td>f95a4142a38ae102a7a07cbad9de37fe</td>\n",
       "      <td>2023-09-01</td>\n",
       "      <td>e34cf65857aa8ad042e2446d053264c1</td>\n",
       "      <td>America/Los_Angeles</td>\n",
       "      <td>aHR0cHM6Ly90Y3J0YS50cmlwc2hvdC5jb20vdjEvZ3Rmcy...</td>\n",
       "      <td>0139b1253130b33adcd4b3a4490530d2</td>\n",
       "      <td>TCRTA TripShot Schedule</td>\n",
       "      <td>TCRTA TripShot Schedule</td>\n",
       "      <td>None</td>\n",
       "      <td>schedule</td>\n",
       "    </tr>\n",
       "    <tr>\n",
       "      <th>1</th>\n",
       "      <td>cccf568bbb9014e54866541b3c3d43cc</td>\n",
       "      <td>2023-09-01</td>\n",
       "      <td>4ca29da6f3017b5f6cacf687e0572543</td>\n",
       "      <td>America/Los_Angeles</td>\n",
       "      <td>aHR0cHM6Ly9hcGkuNTExLm9yZy90cmFuc2l0L2RhdGFmZW...</td>\n",
       "      <td>015d67d5b75b5cf2b710bbadadfb75f5</td>\n",
       "      <td>Bay Area 511 Marin Schedule</td>\n",
       "      <td>Bay Area 511 Marin Schedule</td>\n",
       "      <td>Regional Subfeed</td>\n",
       "      <td>schedule</td>\n",
       "    </tr>\n",
       "    <tr>\n",
       "      <th>2</th>\n",
       "      <td>3b5ba7d9f7885aef7a7e29de98f6afb0</td>\n",
       "      <td>2023-09-01</td>\n",
       "      <td>5e1be3854cae4470eccf4a1323526e3a</td>\n",
       "      <td>America/Los_Angeles</td>\n",
       "      <td>aHR0cHM6Ly9naXRodWIuY29tL0xBQ01UQS9sb3MtYW5nZW...</td>\n",
       "      <td>04540587c205fb3b1a86b76badacb919</td>\n",
       "      <td>Playa Vista Schedule</td>\n",
       "      <td>Playa Vista Schedule</td>\n",
       "      <td>None</td>\n",
       "      <td>schedule</td>\n",
       "    </tr>\n",
       "  </tbody>\n",
       "</table>\n",
       "</div>"
      ],
      "text/plain": [
       "                                key       date  \\\n",
       "0  f95a4142a38ae102a7a07cbad9de37fe 2023-09-01   \n",
       "1  cccf568bbb9014e54866541b3c3d43cc 2023-09-01   \n",
       "2  3b5ba7d9f7885aef7a7e29de98f6afb0 2023-09-01   \n",
       "\n",
       "                           feed_key        feed_timezone  \\\n",
       "0  e34cf65857aa8ad042e2446d053264c1  America/Los_Angeles   \n",
       "1  4ca29da6f3017b5f6cacf687e0572543  America/Los_Angeles   \n",
       "2  5e1be3854cae4470eccf4a1323526e3a  America/Los_Angeles   \n",
       "\n",
       "                                          base64_url  \\\n",
       "0  aHR0cHM6Ly90Y3J0YS50cmlwc2hvdC5jb20vdjEvZ3Rmcy...   \n",
       "1  aHR0cHM6Ly9hcGkuNTExLm9yZy90cmFuc2l0L2RhdGFmZW...   \n",
       "2  aHR0cHM6Ly9naXRodWIuY29tL0xBQ01UQS9sb3MtYW5nZW...   \n",
       "\n",
       "                   gtfs_dataset_key            gtfs_dataset_name  \\\n",
       "0  0139b1253130b33adcd4b3a4490530d2      TCRTA TripShot Schedule   \n",
       "1  015d67d5b75b5cf2b710bbadadfb75f5  Bay Area 511 Marin Schedule   \n",
       "2  04540587c205fb3b1a86b76badacb919         Playa Vista Schedule   \n",
       "\n",
       "                          name regional_feed_type      type  \n",
       "0      TCRTA TripShot Schedule               None  schedule  \n",
       "1  Bay Area 511 Marin Schedule   Regional Subfeed  schedule  \n",
       "2         Playa Vista Schedule               None  schedule  "
      ]
     },
     "execution_count": 5,
     "metadata": {},
     "output_type": "execute_result"
    }
   ],
   "source": [
    "feeds_on_target >> head(3)"
   ]
  },
  {
   "cell_type": "code",
   "execution_count": 6,
   "id": "af8e77b7-c211-4ed5-84df-0bb94a6ab0f6",
   "metadata": {},
   "outputs": [
    {
     "data": {
      "text/html": [
       "<div>\n",
       "<style scoped>\n",
       "    .dataframe tbody tr th:only-of-type {\n",
       "        vertical-align: middle;\n",
       "    }\n",
       "\n",
       "    .dataframe tbody tr th {\n",
       "        vertical-align: top;\n",
       "    }\n",
       "\n",
       "    .dataframe thead th {\n",
       "        text-align: right;\n",
       "    }\n",
       "</style>\n",
       "<table border=\"1\" class=\"dataframe\">\n",
       "  <thead>\n",
       "    <tr style=\"text-align: right;\">\n",
       "      <th></th>\n",
       "      <th>key</th>\n",
       "      <th>date</th>\n",
       "      <th>feed_key</th>\n",
       "      <th>feed_timezone</th>\n",
       "      <th>base64_url</th>\n",
       "      <th>gtfs_dataset_key</th>\n",
       "      <th>gtfs_dataset_name</th>\n",
       "      <th>name</th>\n",
       "      <th>regional_feed_type</th>\n",
       "      <th>type</th>\n",
       "    </tr>\n",
       "  </thead>\n",
       "  <tbody>\n",
       "    <tr>\n",
       "      <th>35</th>\n",
       "      <td>d57a52a00f514304f3fd226839193df1</td>\n",
       "      <td>2023-09-01</td>\n",
       "      <td>92d57c4c4cbc31f075583e14153cb9be</td>\n",
       "      <td>America/Los_Angeles</td>\n",
       "      <td>aHR0cHM6Ly9naXRsYWIuY29tL0xBQ01UQS9ndGZzX3JhaW...</td>\n",
       "      <td>2a0571758141f412b6a546fd70a65bf3</td>\n",
       "      <td>LA Metro Rail Schedule</td>\n",
       "      <td>LA Metro Rail Schedule</td>\n",
       "      <td>None</td>\n",
       "      <td>schedule</td>\n",
       "    </tr>\n",
       "    <tr>\n",
       "      <th>48</th>\n",
       "      <td>c9acd8fa8862ed4d6b7535b236f8e0fb</td>\n",
       "      <td>2023-09-01</td>\n",
       "      <td>edb0fd72b98a7f739407ceca3fae9034</td>\n",
       "      <td>America/Los_Angeles</td>\n",
       "      <td>aHR0cHM6Ly9naXRsYWIuY29tL0xBQ01UQS9ndGZzX2J1cy...</td>\n",
       "      <td>3f3f36b4c41cc6b5df3eb7f5d8ea6e3c</td>\n",
       "      <td>LA Metro Bus Schedule</td>\n",
       "      <td>LA Metro Bus Schedule</td>\n",
       "      <td>None</td>\n",
       "      <td>schedule</td>\n",
       "    </tr>\n",
       "  </tbody>\n",
       "</table>\n",
       "</div>"
      ],
      "text/plain": [
       "                                 key       date  \\\n",
       "35  d57a52a00f514304f3fd226839193df1 2023-09-01   \n",
       "48  c9acd8fa8862ed4d6b7535b236f8e0fb 2023-09-01   \n",
       "\n",
       "                            feed_key        feed_timezone  \\\n",
       "35  92d57c4c4cbc31f075583e14153cb9be  America/Los_Angeles   \n",
       "48  edb0fd72b98a7f739407ceca3fae9034  America/Los_Angeles   \n",
       "\n",
       "                                           base64_url  \\\n",
       "35  aHR0cHM6Ly9naXRsYWIuY29tL0xBQ01UQS9ndGZzX3JhaW...   \n",
       "48  aHR0cHM6Ly9naXRsYWIuY29tL0xBQ01UQS9ndGZzX2J1cy...   \n",
       "\n",
       "                    gtfs_dataset_key       gtfs_dataset_name  \\\n",
       "35  2a0571758141f412b6a546fd70a65bf3  LA Metro Rail Schedule   \n",
       "48  3f3f36b4c41cc6b5df3eb7f5d8ea6e3c   LA Metro Bus Schedule   \n",
       "\n",
       "                      name regional_feed_type      type  \n",
       "35  LA Metro Rail Schedule               None  schedule  \n",
       "48   LA Metro Bus Schedule               None  schedule  "
      ]
     },
     "execution_count": 6,
     "metadata": {},
     "output_type": "execute_result"
    }
   ],
   "source": [
    "feeds_on_target >> filter(_.gtfs_dataset_name.str.contains('LA Metro'))"
   ]
  },
  {
   "cell_type": "code",
   "execution_count": 9,
   "id": "fbdae203-2f11-4c14-a5d4-2320d5844847",
   "metadata": {},
   "outputs": [],
   "source": [
    "metro_test = (feeds_on_target >> filter(_.gtfs_dataset_name.str.contains('LA Metro'))).base64_url.iloc[0]"
   ]
  },
  {
   "cell_type": "markdown",
   "id": "33cedf86-ce2e-48c9-b496-3c9e42693aca",
   "metadata": {},
   "source": [
    "## Stops --> Region matching"
   ]
  },
  {
   "cell_type": "code",
   "execution_count": null,
   "id": "3cd49887-58bb-483f-8930-a4ab58688897",
   "metadata": {},
   "outputs": [],
   "source": [
    "regions = {}\n",
    "# Set bounds for northern california\n",
    "regions['norcal'] = {'north': 42.03909, 'south': 39.07038, 'east': -119.60541, 'west': -124.49158}\n",
    "regions['central'] = {'north': 39.64165, 'south': 35.87347, 'east': -117.53174, 'west': -123.83789}\n",
    "regions['socal'] = {'north': 35.8935, 'south': 32.5005, 'east': -114.13121, 'west': -121.46759}\n",
    "regions['mojave'] = {'north': 37.81629, 'south': 34.89945, 'east': -114.59015, 'west': -118.38043}\n",
    "# ... or set bounds for southern california\n",
    "north = 35.8935\n",
    "south = 32.5005\n",
    "east = -114.13121\n",
    "west = -121.46759\n",
    "\n",
    "# ... or set bounds for mojave\n",
    "north = 37.81629\n",
    "south = 34.89945\n",
    "east = -114.59015\n",
    "west = -118.38043"
   ]
  },
  {
   "cell_type": "markdown",
   "id": "1b42f3f8-c14a-41ff-ab0f-9cc63129a3f1",
   "metadata": {},
   "source": [
    "## Validation steps here!"
   ]
  },
  {
   "cell_type": "code",
   "execution_count": 35,
   "id": "919ebd9e-e64f-445f-965d-faacb29b4190",
   "metadata": {},
   "outputs": [],
   "source": [
    "validation_tbl = tbls.mart_gtfs_quality.fct_daily_schedule_feed_validation_notices()"
   ]
  },
  {
   "cell_type": "code",
   "execution_count": 52,
   "id": "6a43714b-6eb2-46b0-96a4-46878022c5f1",
   "metadata": {},
   "outputs": [],
   "source": [
    "## apparently busted since moving to v4.1 on Sep 1??\n",
    "validation_df = (validation_tbl >> filter(_.date == '2023-09-01')\n",
    "                                # >> distinct(_.base64_url, _.severity)\n",
    "                            ) >> collect()"
   ]
  },
  {
   "cell_type": "code",
   "execution_count": 54,
   "id": "26fe6c3b-7533-4a91-ae84-236c8f29320b",
   "metadata": {},
   "outputs": [],
   "source": [
    "# validation_df"
   ]
  },
  {
   "cell_type": "code",
   "execution_count": 56,
   "id": "6428e781-d345-4379-990c-4cae27e6a9a2",
   "metadata": {},
   "outputs": [],
   "source": [
    "# validation_df.severity.value_counts()"
   ]
  },
  {
   "cell_type": "markdown",
   "id": "6e9862a5-acc7-4d65-882c-530390726ec5",
   "metadata": {},
   "source": [
    "## Download raw from GCS (for Conveyal)"
   ]
  },
  {
   "cell_type": "code",
   "execution_count": 8,
   "id": "2befb3c9-36ff-4128-8561-31f2d7aea1cd",
   "metadata": {},
   "outputs": [],
   "source": [
    "fs = get_fs()"
   ]
  },
  {
   "cell_type": "code",
   "execution_count": 30,
   "id": "cbd10800-3d10-4c2d-9d1a-f68205bed3a9",
   "metadata": {},
   "outputs": [],
   "source": [
    "base64_url = metro_test"
   ]
  },
  {
   "cell_type": "code",
   "execution_count": 31,
   "id": "d7d488eb-a937-4f93-acb2-4d2f67c06e9c",
   "metadata": {},
   "outputs": [],
   "source": [
    "# need wildcard for file too -- not all are gtfs.zip!\n",
    "uri = f'gs://calitp-gtfs-schedule-raw-v2/schedule/dt={target_date}/*/base64_url={base64_url}/*.zip'"
   ]
  },
  {
   "cell_type": "code",
   "execution_count": 32,
   "id": "3963e90d-87ad-4bf7-8e8f-2657648b10cd",
   "metadata": {},
   "outputs": [
    {
     "data": {
      "text/plain": [
       "[None]"
      ]
     },
     "execution_count": 32,
     "metadata": {},
     "output_type": "execute_result"
    }
   ],
   "source": [
    "fs.get(uri, './gtfs.zip')"
   ]
  },
  {
   "cell_type": "code",
   "execution_count": null,
   "id": "c88007b8-d075-402d-80af-a317e18a112e",
   "metadata": {},
   "outputs": [],
   "source": [
    "def "
   ]
  }
 ],
 "metadata": {
  "kernelspec": {
   "display_name": "Python 3 (ipykernel)",
   "language": "python",
   "name": "python3"
  },
  "language_info": {
   "codemirror_mode": {
    "name": "ipython",
    "version": 3
   },
   "file_extension": ".py",
   "mimetype": "text/x-python",
   "name": "python",
   "nbconvert_exporter": "python",
   "pygments_lexer": "ipython3",
   "version": "3.9.13"
  },
  "widgets": {
   "application/vnd.jupyter.widget-state+json": {
    "state": {},
    "version_major": 2,
    "version_minor": 0
   }
  }
 },
 "nbformat": 4,
 "nbformat_minor": 5
}
