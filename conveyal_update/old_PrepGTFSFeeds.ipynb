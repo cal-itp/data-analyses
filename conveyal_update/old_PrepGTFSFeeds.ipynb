{
 "cells": [
  {
   "cell_type": "markdown",
   "id": "2c980ecf-1262-4099-b4e2-f66622ae8f9b",
   "metadata": {},
   "source": [
    "# Old script from Conveyal for reference!\n",
    "\n",
    "* aka the hard way"
   ]
  },
  {
   "cell_type": "code",
   "execution_count": null,
   "id": "af2089fa",
   "metadata": {},
   "outputs": [],
   "source": [
    "import os\n",
    "import pandas\n",
    "import requests\n",
    "import yaml\n",
    "import math\n",
    "from zipfile import ZipFile\n",
    "\n",
    "# Download composite GTFS files from data.ca.gov (note: schema has since changed)\n",
    "prefix = 'https://urldefense.com/v3/__https://data.ca.gov/dataset/de6f1544-b162-4d16-997b-c183912c8e62/resource/'*5Cn__;JQ!!LWi6xHDyrA!74r966TgmHqnpM1IjGtbx-Gy1A31nIfAmlQa0JWgflqOPTrP4A4pPHr1ApHdB3iKkcnkBmZ11Aflg-QpRykoAbMhUw$ sourceFiles = {\n",
    "    'agency': 'e8f9d49e-2bb6-400b-b01f-28bc2e0e7df2/download/agency.csv',\n",
    "    'routes': 'c6bbb637-988f-431c-8444-aef7277297f8/download/routes.csv',\n",
    "    'stops': '8c876204-e12b-48a2-8299-10f6ae3d4f2b/download/stops.csv',\n",
    "    'stop_times': 'd31eef2f-e223-4ca4-a86b-170acc6b2590/download/stop_times.csv',\n",
    "    'trips': '0e4da89e-9330-43f8-8de9-305cb7d4918f/download/trips.csv',\n",
    "    'calendar': 'a79f10b8-b322-43f3-b3f4-ba46a8dbe9ab/download/calendar.csv',\n",
    "    'calendar_dates': '06a21a8e-dba3-4e7e-8726-f2e992cc1a80/download/calendar_dates.csv',\n",
    "    'feed_info': '50d12559-635e-4222-ac25-3706c066902d/download/feed_info.csv',\n",
    "    'frequencies': '48542c8f-8ce1-43e3-a965-6c68771d6fe5/download/frequencies.csv',\n",
    "    'shapes': '2f5e7bdb-33e8-4633-b163-6bab42ad0951/download/shapes.csv'\n",
    "}\n",
    "\n",
    "# Formatting issue: data.ca.gov adds dashes to dates.\n",
    "dateColumns = ['date', 'start_date', 'end_date', 'feed_start_date', 'feed_end_date']\n",
    "intColumns = ['pickup_type', 'drop_off_type', 'timepoint', 'direction_id', 'location_type', 'wheelchair_accessible', 'bikes_allowed', 'exact_times']\n",
    "\n",
    "multiFeedAgencies = [182] # LA Metro\n",
    "ignoredAgencies = [200] # MTC regional feed\n",
    "\n",
    "# TODO skip repeated URLs in agencies.yml file"
   ]
  },
  {
   "cell_type": "code",
   "execution_count": null,
   "id": "1df7d6ba",
   "metadata": {},
   "outputs": [],
   "source": [
    "for fileName in sourceFiles:\n",
    "    fileUrl = prefix + sourceFiles[fileName]\n",
    "    fileLoc = fileName + '.txt'\n",
    "    file = requests.get(fileUrl)\n",
    "    open(fileLoc, 'wb').write(file.content)\n",
    "    print('Downloaded source ' + fileName + ' file.')"
   ]
  },
  {
   "cell_type": "code",
   "execution_count": null,
   "id": "299c3d61-baba-4630-b2e3-83136e250d7e",
   "metadata": {},
   "outputs": [],
   "source": [
    "# Set bounds for northern california\n",
    "north = 42.03909\n",
    "south = 39.07038\n",
    "east = -119.60541\n",
    "west = -124.49158\n",
    "\n",
    "# ... or set bounds for central california\n",
    "north = 39.64165\n",
    "south = 35.87347\n",
    "east = -117.53174\n",
    "west = -123.83789\n",
    "\n",
    "# ... or set bounds for southern california\n",
    "north = 35.8935\n",
    "south = 32.5005\n",
    "east = -114.13121\n",
    "west = -121.46759\n",
    "\n",
    "# ... or set bounds for mojave\n",
    "north = 37.81629\n",
    "south = 34.89945\n",
    "east = -114.59015\n",
    "west = -118.38043"
   ]
  },
  {
   "cell_type": "code",
   "execution_count": null,
   "id": "6f6dc9d3",
   "metadata": {},
   "outputs": [],
   "source": [
    "stops = pandas.read_csv('stops.txt')\n",
    "\n",
    "keysToTrack = set()\n",
    "\n",
    "for index, stop in stops.iterrows():\n",
    "    if (stop.calitp_itp_id not in ignoredAgencies and (stop.calitp_url_number == 0 or stop.calitp_itp_id in multiFeedAgencies)):\n",
    "        if (stop.stop_lat > south and stop.stop_lat < north and stop.stop_lon > west and stop.stop_lon < east): \n",
    "            keysToTrack.add((stop.calitp_itp_id, stop.calitp_url_number))\n",
    "            \n",
    "for key in keysToTrack:\n",
    "    stringKey = str(key[0]) + '_' + str(key[1])\n",
    "    if (not os.path.isdir('out/' + stringKey)):\n",
    "        os.mkdir('out/' + stringKey)"
   ]
  },
  {
   "cell_type": "code",
   "execution_count": null,
   "id": "4bd9be97",
   "metadata": {},
   "outputs": [],
   "source": [
    "for file in sourceFiles:\n",
    "    print('Processing ' + file + ' file.')\n",
    "    df1 = pandas.read_csv(file + '.txt')\n",
    "    for key in keysToTrack:\n",
    "        outputFilename = 'out/'+ str(key[0]) + '_' + str(key[1]) + '/' + file + '.txt'\n",
    "        df = df1[(df1['calitp_itp_id'] == key[0]) & (df1['calitp_url_number'] == key[1])].copy()\n",
    "        # TODO filter out rows with missing id values (e.g. Tuolumne)\n",
    "        for col in dateColumns:\n",
    "            if(col in df.columns):\n",
    "                df[col] = df[col].str.replace('-','')\n",
    "        for col in intColumns:\n",
    "            if(col in df.columns):\n",
    "                df[col] = df[col].fillna(0).astype(int)\n",
    "        if (len(df) > 0):\n",
    "            df.to_csv(outputFilename, index=False)        "
   ]
  },
  {
   "cell_type": "code",
   "execution_count": null,
   "id": "d9f9296a",
   "metadata": {},
   "outputs": [],
   "source": [
    "for key in keysToTrack:\n",
    "    stringKey = str(key[0]) + '_' + str(key[1])\n",
    "    with ZipFile('out/' + stringKey + '.zip', 'w') as zip:\n",
    "        for file in sourceFiles:\n",
    "            try:\n",
    "                zip.write('out/' + stringKey + '/' + file + '.txt', arcname=(file.split('/')[-1] + '.txt'))\n",
    "            except FileNotFoundError:\n",
    "                pass"
   ]
  },
  {
   "cell_type": "code",
   "execution_count": null,
   "id": "b0c8270e",
   "metadata": {},
   "outputs": [],
   "source": [
    "# Check for feeds that don't overlap the target date in calendar.txt or calendar_dates.txt\n",
    "# Note that Conveyal bundle details show dates from feed_info, which may not reflect service accurately.\n",
    "targetDate = '2022-11-30'\n",
    "calitpAgences = {}\n",
    "\n",
    "with open('agencies.yml', 'r') as file:\n",
    "    agencies = yaml.safe_load(file)\n",
    "    \n",
    "for agency in agencies:\n",
    "    calitpAgences[agencies[agency]['itp_id']] = agency\n",
    "\n",
    "calendar = pandas.read_csv('calendar.txt')\n",
    "calendarDates = pandas.read_csv('calendar_dates.txt')\n",
    "\n",
    "dateRange = pandas.DataFrame(columns = ['key', 'c_start', 'c_end', 'cd_start', 'cd_end'])\n",
    "dateRange.set_index('key', inplace=True)\n",
    "\n",
    "for index, row in calendar.iterrows():\n",
    "    if (row.calitp_itp_id not in ignoredAgencies and (row.calitp_url_number == 0 or row.calitp_itp_id in multiFeedAgencies)):\n",
    "        key = str(row.calitp_itp_id) + '_' + str(row.calitp_url_number)\n",
    "        if key in dateRange.index:\n",
    "            dateRange.at[key, 'c_start'] = min(dateRange.at[key, 'c_start'], row.start_date)\n",
    "            dateRange.at[key, 'c_end'] = max(dateRange.at[key, 'c_end'], row.end_date)\n",
    "        else:\n",
    "            dateRange.at[key, 'c_start'] = row.start_date\n",
    "            dateRange.at[key, 'c_end'] = row.end_date\n",
    "            dateRange.at[key, 'cd_start'] = '9999-99-99'\n",
    "            dateRange.at[key, 'cd_end'] = '0000-00-00'\n",
    "\n",
    "for index, row in calendarDates.iterrows():\n",
    "    if (row.calitp_itp_id not in ignoredAgencies and (row.calitp_url_number == 0 or row.calitp_itp_id in multiFeedAgencies)):\n",
    "        key = str(row.calitp_itp_id) + '_' + str(row.calitp_url_number)\n",
    "        if key in dateRange.index:\n",
    "            dateRange.at[key, 'cd_start'] = min(dateRange.at[key, 'cd_start'], row.date)\n",
    "            dateRange.at[key, 'cd_end'] = max(dateRange.at[key, 'cd_end'], row.date)\n",
    "        else:\n",
    "            dateRange.at[key, 'cd_start'] = '9999-99-99'\n",
    "            dateRange.at[key, 'cd_end'] = '0000-00-00'\n",
    "\n",
    "# log dates to manually check for overlap\n",
    "for index, row in dateRange.iterrows():\n",
    "    if row.c_start > targetDate or row.c_end < targetDate:\n",
    "        agency = calitpAgences[int(index.split('_')[0])]\n",
    "        print(agency + ', ' + index + ', ' + row.c_start + ', ' + row.c_end + ', ' + row.cd_start + ', ' + row.cd_end)"
   ]
  },
  {
   "cell_type": "code",
   "execution_count": null,
   "id": "06952d70",
   "metadata": {},
   "outputs": [],
   "source": [
    "# Scratch: read agency data\n",
    "\n",
    "# Prereq: ensure https://urldefense.com/v3/__https://github.com/cal-itp/data-infra/blob/main/airflow/data/agencies.yml__;!!LWi6xHDyrA!74r966TgmHqnpM1IjGtbx-Gy1A31nIfAmlQa0JWgflqOPTrP4A4pPHr1ApHdB3iKkcnkBmZ11Aflg-QpRykku6YuzQ$  has been downloaded\n",
    "\n",
    "# Load Cal-ITP agency id/name/URL info\n",
    "# Note most agencies only have one URL, but some have multiple (e.g. LA Metro has separate URLs for bus and rail)\n",
    "# So id and url number form a compound unique key\n",
    "with open('agencies.yml', 'r') as file:\n",
    "    agencies = yaml.safe_load(file)\n",
    "    \n",
    "for agency in agencies:\n",
    "    for urlNum in range(0, len(agencies[agency]['feeds'])):\n",
    "        os.mkdir('out/' + agency.replace('/','_') + '_' + str(urlNum))"
   ]
  }
 ],
 "metadata": {
  "kernelspec": {
   "display_name": "Python 3 (ipykernel)",
   "language": "python",
   "name": "python3"
  },
  "language_info": {
   "codemirror_mode": {
    "name": "ipython",
    "version": 3
   },
   "file_extension": ".py",
   "mimetype": "text/x-python",
   "name": "python",
   "nbconvert_exporter": "python",
   "pygments_lexer": "ipython3",
   "version": "3.9.13"
  },
  "widgets": {
   "application/vnd.jupyter.widget-state+json": {
    "state": {},
    "version_major": 2,
    "version_minor": 0
   }
  }
 },
 "nbformat": 4,
 "nbformat_minor": 5
}
