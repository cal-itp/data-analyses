{
 "cells": [
  {
   "cell_type": "code",
   "execution_count": 139,
   "id": "bdbd0a4a-fb4a-4b8c-ab23-47b7c07f614e",
   "metadata": {},
   "outputs": [],
   "source": [
    "from siuba import *\n",
    "import pandas as pd\n",
    "import datetime as dt\n",
    "\n",
    "import download_data\n",
    "import conveyal_vars\n",
    "import json"
   ]
  },
  {
   "cell_type": "code",
   "execution_count": 16,
   "id": "83b31583-0603-4118-a70b-4ed58da92455",
   "metadata": {},
   "outputs": [],
   "source": [
    "from calitp_data_analysis.tables import tbls"
   ]
  },
  {
   "cell_type": "markdown",
   "id": "255a49f8-7acb-47af-ac70-989aa473a0a0",
   "metadata": {},
   "source": [
    "# Matching our warehouse to Conveyal's feed ids..."
   ]
  },
  {
   "cell_type": "code",
   "execution_count": 2,
   "id": "deec5968-10aa-43bf-8e22-897f442e2b81",
   "metadata": {},
   "outputs": [],
   "source": [
    "## can't query directly since Hub instance won't be authenticated...\n",
    "\n",
    "# bundle_url = 'https://analysis.conveyal.com/api/db/bundles'"
   ]
  },
  {
   "cell_type": "markdown",
   "id": "f12d4d1d-53e6-43e4-b6ec-acbbb05bef95",
   "metadata": {},
   "source": [
    "https://analysis.conveyal.com/api/db/bundles"
   ]
  },
  {
   "cell_type": "code",
   "execution_count": 178,
   "id": "eed635ba-0133-4bef-93a8-ec248dad510e",
   "metadata": {},
   "outputs": [],
   "source": [
    "conveyal_region_ids = {'central': '6354939b305024caa2c50d7d',\n",
    "                      'norcal': '6352a1d5e1a8e551137301aa',\n",
    "                      'socal': '635602532d6ff920d83ff32a',\n",
    "                      'mojave': '639387380ef4e9793d1e86d3'}"
   ]
  },
  {
   "cell_type": "code",
   "execution_count": 188,
   "id": "fde8700f-1108-4d10-9cae-6d03b0c05b7d",
   "metadata": {},
   "outputs": [],
   "source": [
    "#  must now specify region, bundle name manually to capture possible revisions\n",
    "\n",
    "def import_conveyal_bundle_data(path, bundle_name, region_id):\n",
    "    with open(path) as file:\n",
    "        bundles = json.load(file)\n",
    "    current_bundle = [bundle for bundle in bundles\n",
    "        if bundle['name'] == bundle_name and bundle['regionId'] == region_id][0]\n",
    "    feeds = [\n",
    "        {key:val for key, val in bundle_feed.items() if key != 'errors'}\n",
    "        for bundle_feed in current_bundle['feeds']\n",
    "    ]\n",
    "    return feeds"
   ]
  },
  {
   "cell_type": "code",
   "execution_count": 187,
   "id": "f321f910-26dc-47cf-9e94-acf8b85e015e",
   "metadata": {
    "tags": []
   },
   "outputs": [],
   "source": [
    "conveyal_socal = import_conveyal_bundle_data('./bundles.json', '2023-10-18a', conveyal_region_ids['socal'])\n",
    "conveyal_norcal = import_conveyal_bundle_data('./bundles.json', '2023-10-18', conveyal_region_ids['norcal'])\n",
    "conveyal_central = import_conveyal_bundle_data('./bundles.json', '2023-10-18', conveyal_region_ids['central'])\n",
    "conveyal_mojave = import_conveyal_bundle_data('./bundles.json', '2023-10-18', conveyal_region_ids['mojave'])"
   ]
  },
  {
   "cell_type": "markdown",
   "id": "4aed3c88-4c64-428f-9e98-6843b7035ac9",
   "metadata": {},
   "source": [
    "## Deriving start and end dates from one of our feeds?"
   ]
  },
  {
   "cell_type": "code",
   "execution_count": 189,
   "id": "b550cd42-fea0-4b0b-9287-5ad7738be136",
   "metadata": {},
   "outputs": [],
   "source": [
    "regions_and_feeds = download_data.regions_and_feeds >> distinct(_.region, _.feed_key, _keep_all=True)"
   ]
  },
  {
   "cell_type": "code",
   "execution_count": 190,
   "id": "e90e0d5e-bbd7-4071-a0bc-66155efb6fc7",
   "metadata": {},
   "outputs": [
    {
     "data": {
      "text/html": [
       "<div>\n",
       "<style scoped>\n",
       "    .dataframe tbody tr th:only-of-type {\n",
       "        vertical-align: middle;\n",
       "    }\n",
       "\n",
       "    .dataframe tbody tr th {\n",
       "        vertical-align: top;\n",
       "    }\n",
       "\n",
       "    .dataframe thead th {\n",
       "        text-align: right;\n",
       "    }\n",
       "</style>\n",
       "<table border=\"1\" class=\"dataframe\">\n",
       "  <thead>\n",
       "    <tr style=\"text-align: right;\">\n",
       "      <th></th>\n",
       "      <th>region</th>\n",
       "      <th>feed_key</th>\n",
       "      <th>gtfs_dataset_name</th>\n",
       "      <th>base64_url</th>\n",
       "      <th>date</th>\n",
       "    </tr>\n",
       "  </thead>\n",
       "  <tbody>\n",
       "    <tr>\n",
       "      <th>0</th>\n",
       "      <td>norcal</td>\n",
       "      <td>7bd3d8c32eda4869c4d7f8bf2aec5bb0</td>\n",
       "      <td>Flixbus Schedule</td>\n",
       "      <td>aHR0cDovL2d0ZnMuZ2lzLmZsaXgudGVjaC9ndGZzX2dlbm...</td>\n",
       "      <td>2023-10-18</td>\n",
       "    </tr>\n",
       "    <tr>\n",
       "      <th>1</th>\n",
       "      <td>central</td>\n",
       "      <td>7bd3d8c32eda4869c4d7f8bf2aec5bb0</td>\n",
       "      <td>Flixbus Schedule</td>\n",
       "      <td>aHR0cDovL2d0ZnMuZ2lzLmZsaXgudGVjaC9ndGZzX2dlbm...</td>\n",
       "      <td>2023-10-18</td>\n",
       "    </tr>\n",
       "  </tbody>\n",
       "</table>\n",
       "</div>"
      ],
      "text/plain": [
       "    region                          feed_key gtfs_dataset_name  \\\n",
       "0   norcal  7bd3d8c32eda4869c4d7f8bf2aec5bb0  Flixbus Schedule   \n",
       "1  central  7bd3d8c32eda4869c4d7f8bf2aec5bb0  Flixbus Schedule   \n",
       "\n",
       "                                          base64_url       date  \n",
       "0  aHR0cDovL2d0ZnMuZ2lzLmZsaXgudGVjaC9ndGZzX2dlbm... 2023-10-18  \n",
       "1  aHR0cDovL2d0ZnMuZ2lzLmZsaXgudGVjaC9ndGZzX2dlbm... 2023-10-18  "
      ]
     },
     "execution_count": 190,
     "metadata": {},
     "output_type": "execute_result"
    }
   ],
   "source": [
    "regions_and_feeds >> head(2)"
   ]
  },
  {
   "cell_type": "code",
   "execution_count": 191,
   "id": "f67cd8f9-a7da-40cd-82f1-96b8c157de19",
   "metadata": {},
   "outputs": [],
   "source": [
    "def get_region_feed_spans(regions_feeds_df: pd.DataFrame, region: str):\n",
    "    '''\n",
    "    using combined span of calendar and calendar_dates,\n",
    "    get each feed's first and last service date.\n",
    "    useful for matching with Conveyal bundle feed_ids\n",
    "    '''\n",
    "    \n",
    "    region_filtered = regions_feeds_df >> filter(_.region == region)\n",
    "    filter_feeds = filter(_.feed_key.isin(region_filtered.feed_key))\n",
    "    \n",
    "    dim_cd = (tbls.mart_gtfs.dim_calendar_dates()\n",
    "              >> select(_.feed_key, _.date)\n",
    "              >> filter_feeds\n",
    "              >> group_by(_.feed_key)\n",
    "              >> summarize(min_cd = _.date.min(), max_cd = _.date.max())\n",
    "             )\n",
    "\n",
    "    dim_cal = (tbls.mart_gtfs.dim_calendar()\n",
    "               >> select(_.feed_key, _.start_date, _.end_date)\n",
    "               >> filter_feeds\n",
    "               >> group_by(_.feed_key)\n",
    "               >> summarize(min_cal = _.start_date.min(), max_cal = _.end_date.max())\n",
    "              )\n",
    "    \n",
    "    joined = (dim_cal\n",
    "               >> full_join(_, dim_cd, on = 'feed_key')\n",
    "               >> collect()\n",
    "             )\n",
    "    \n",
    "    joined = (joined >> collect()\n",
    "              >> inner_join(_, region_filtered, on = 'feed_key')\n",
    "             )\n",
    "    \n",
    "    #  cross-fill na calendar and calendar_dates values (only one is required)\n",
    "    joined.min_cal = joined.min_cal.fillna(joined.min_cd)\n",
    "    joined.max_cal = joined.max_cal.fillna(joined.max_cd)\n",
    "    joined.min_cd = joined.min_cd.fillna(joined.min_cal)\n",
    "    joined.max_cd = joined.max_cd.fillna(joined.max_cal)\n",
    "\n",
    "    joined['min_combined'] = joined[['min_cal', 'max_cal', 'max_cd', 'min_cd']].values.min(axis=1).astype(str)\n",
    "    joined['max_combined'] = joined[['min_cal', 'max_cal', 'max_cd', 'min_cd']].values.max(axis=1).astype(str)\n",
    "\n",
    "    joined['span'] = joined['min_combined'] + '_' + joined['max_combined']\n",
    "    \n",
    "    joined = joined >> select(-_.min_cal, -_.max_cal, -_.min_cd,\n",
    "                             -_.max_cd, -_.min_combined, -_.max_combined)\n",
    "    return joined"
   ]
  },
  {
   "cell_type": "code",
   "execution_count": 193,
   "id": "ab4eb04b-7201-4d6f-a4f6-aab1a1484aee",
   "metadata": {},
   "outputs": [
    {
     "data": {
      "text/html": [
       "<div>\n",
       "<style scoped>\n",
       "    .dataframe tbody tr th:only-of-type {\n",
       "        vertical-align: middle;\n",
       "    }\n",
       "\n",
       "    .dataframe tbody tr th {\n",
       "        vertical-align: top;\n",
       "    }\n",
       "\n",
       "    .dataframe thead th {\n",
       "        text-align: right;\n",
       "    }\n",
       "</style>\n",
       "<table border=\"1\" class=\"dataframe\">\n",
       "  <thead>\n",
       "    <tr style=\"text-align: right;\">\n",
       "      <th></th>\n",
       "      <th>feed_key</th>\n",
       "      <th>region</th>\n",
       "      <th>gtfs_dataset_name</th>\n",
       "      <th>base64_url</th>\n",
       "      <th>date</th>\n",
       "      <th>span</th>\n",
       "    </tr>\n",
       "  </thead>\n",
       "  <tbody>\n",
       "    <tr>\n",
       "      <th>0</th>\n",
       "      <td>f12e4782e7a1751f1c1e8dfb2a24861d</td>\n",
       "      <td>norcal</td>\n",
       "      <td>Siskiyou Schedule</td>\n",
       "      <td>aHR0cHM6Ly9kYXRhLnRyaWxsaXVtdHJhbnNpdC5jb20vZ3...</td>\n",
       "      <td>2023-10-18</td>\n",
       "      <td>2023-02-13_2029-12-31</td>\n",
       "    </tr>\n",
       "    <tr>\n",
       "      <th>1</th>\n",
       "      <td>598ff5ab409c5158804e68abfc5698fa</td>\n",
       "      <td>norcal</td>\n",
       "      <td>Trinity Schedule</td>\n",
       "      <td>aHR0cHM6Ly9kYXRhLnRyaWxsaXVtdHJhbnNpdC5jb20vZ3...</td>\n",
       "      <td>2023-10-18</td>\n",
       "      <td>2022-01-01_2023-12-31</td>\n",
       "    </tr>\n",
       "  </tbody>\n",
       "</table>\n",
       "</div>"
      ],
      "text/plain": [
       "                           feed_key  region  gtfs_dataset_name  \\\n",
       "0  f12e4782e7a1751f1c1e8dfb2a24861d  norcal  Siskiyou Schedule   \n",
       "1  598ff5ab409c5158804e68abfc5698fa  norcal   Trinity Schedule   \n",
       "\n",
       "                                          base64_url       date  \\\n",
       "0  aHR0cHM6Ly9kYXRhLnRyaWxsaXVtdHJhbnNpdC5jb20vZ3... 2023-10-18   \n",
       "1  aHR0cHM6Ly9kYXRhLnRyaWxsaXVtdHJhbnNpdC5jb20vZ3... 2023-10-18   \n",
       "\n",
       "                    span  \n",
       "0  2023-02-13_2029-12-31  \n",
       "1  2022-01-01_2023-12-31  "
      ]
     },
     "execution_count": 193,
     "metadata": {},
     "output_type": "execute_result"
    }
   ],
   "source": [
    "feed_spans_norcal = get_region_feed_spans(regions_and_feeds, 'norcal')\n",
    "feed_spans_norcal >> head(2)"
   ]
  },
  {
   "cell_type": "code",
   "execution_count": 194,
   "id": "120f309d-ec06-4018-833b-e9bc2d8f33e1",
   "metadata": {},
   "outputs": [],
   "source": [
    "def join_conveyal_by_span(conveyal_df: pd.DataFrame, feed_span_df: pd.DataFrame, exclude_feeds: list):\n",
    "    '''\n",
    "    exclude_feeds: list of feed_keys not used in conveyal upload\n",
    "    i.e. Lassen Flex, must remove to avoid duplicates\n",
    "    \n",
    "    it's possible to have a collision between two feeds that legitimately share\n",
    "    the same span, in that case implement a manual fix...\n",
    "    '''\n",
    "    conveyal_df['span'] = conveyal_df['serviceStart'] + '_' + conveyal_df['serviceEnd']\n",
    "    conveyal_joined = (conveyal_df\n",
    "                       >> inner_join(_, feed_span_df, on = 'span')\n",
    "                       >> filter(-_.feed_key.isin(exclude_feeds))\n",
    "                      )\n",
    "    assert conveyal_joined.span.is_unique, 'more than one feed shares the same span!'\n",
    "    assert len(conveyal_joined) == len(conveyal_df), 'at least one feed failed to join!'\n",
    "    \n",
    "    return conveyal_joined"
   ]
  },
  {
   "cell_type": "code",
   "execution_count": 195,
   "id": "e6c1a328-bef7-4486-a900-8555c793e883",
   "metadata": {},
   "outputs": [],
   "source": [
    "exclude_feeds = ['c7cea554a5e958c1a6dae5d4f6ccdd6a' # lassen flex\n",
    "                ]"
   ]
  },
  {
   "cell_type": "code",
   "execution_count": 196,
   "id": "a18466b2-0216-4985-9d18-ffce32019d17",
   "metadata": {},
   "outputs": [],
   "source": [
    "conveyal_df = pd.DataFrame(conveyal_norcal)"
   ]
  },
  {
   "cell_type": "code",
   "execution_count": 197,
   "id": "0fb5f1ec-0254-4fce-9563-439e6b6d2380",
   "metadata": {},
   "outputs": [],
   "source": [
    "conveyal_joined = join_conveyal_by_span(conveyal_df, feed_spans_norcal, exclude_feeds)"
   ]
  },
  {
   "cell_type": "code",
   "execution_count": 198,
   "id": "6f15716b-459e-45e4-8a75-2880e0257f07",
   "metadata": {},
   "outputs": [
    {
     "data": {
      "text/html": [
       "<div>\n",
       "<style scoped>\n",
       "    .dataframe tbody tr th:only-of-type {\n",
       "        vertical-align: middle;\n",
       "    }\n",
       "\n",
       "    .dataframe tbody tr th {\n",
       "        vertical-align: top;\n",
       "    }\n",
       "\n",
       "    .dataframe thead th {\n",
       "        text-align: right;\n",
       "    }\n",
       "</style>\n",
       "<table border=\"1\" class=\"dataframe\">\n",
       "  <thead>\n",
       "    <tr style=\"text-align: right;\">\n",
       "      <th></th>\n",
       "      <th>feedId</th>\n",
       "      <th>name</th>\n",
       "      <th>bundleScopedFeedId</th>\n",
       "      <th>serviceStart</th>\n",
       "      <th>serviceEnd</th>\n",
       "      <th>checksum</th>\n",
       "      <th>span</th>\n",
       "      <th>feed_key</th>\n",
       "      <th>region</th>\n",
       "      <th>gtfs_dataset_name</th>\n",
       "      <th>base64_url</th>\n",
       "      <th>date</th>\n",
       "    </tr>\n",
       "  </thead>\n",
       "  <tbody>\n",
       "    <tr>\n",
       "      <th>0</th>\n",
       "      <td>6541351adad1a760f30e32c2</td>\n",
       "      <td>Martz Trailways, Executive Transportation, Rou...</td>\n",
       "      <td>6541351adad1a760f30e32c2_6541351adad1a760f30e32c1</td>\n",
       "      <td>2023-10-15</td>\n",
       "      <td>2024-10-14</td>\n",
       "      <td>3610834750</td>\n",
       "      <td>2023-10-15_2024-10-14</td>\n",
       "      <td>b4970d6cc7e206d9e667796130394790</td>\n",
       "      <td>norcal</td>\n",
       "      <td>Amtrak Schedule</td>\n",
       "      <td>aHR0cHM6Ly9jb250ZW50LmFtdHJhay5jb20vY29udGVudC...</td>\n",
       "      <td>2023-10-18</td>\n",
       "    </tr>\n",
       "    <tr>\n",
       "      <th>1</th>\n",
       "      <td>65413534dad1a760f30e32c3</td>\n",
       "      <td>B-Line: 2023-08-20 to 2024-01-20</td>\n",
       "      <td>65413534dad1a760f30e32c3_6541351adad1a760f30e32c1</td>\n",
       "      <td>2023-08-20</td>\n",
       "      <td>2024-01-20</td>\n",
       "      <td>1559914972</td>\n",
       "      <td>2023-08-20_2024-01-20</td>\n",
       "      <td>13bfca2933608e72d6dc9bce01ccb536</td>\n",
       "      <td>norcal</td>\n",
       "      <td>B-Line Schedule</td>\n",
       "      <td>aHR0cDovL3d3dy5ibGluZXRyYW5zaXQuY29tL2RvY3VtZW...</td>\n",
       "      <td>2023-10-18</td>\n",
       "    </tr>\n",
       "  </tbody>\n",
       "</table>\n",
       "</div>"
      ],
      "text/plain": [
       "                     feedId  \\\n",
       "0  6541351adad1a760f30e32c2   \n",
       "1  65413534dad1a760f30e32c3   \n",
       "\n",
       "                                                name  \\\n",
       "0  Martz Trailways, Executive Transportation, Rou...   \n",
       "1                   B-Line: 2023-08-20 to 2024-01-20   \n",
       "\n",
       "                                  bundleScopedFeedId serviceStart  serviceEnd  \\\n",
       "0  6541351adad1a760f30e32c2_6541351adad1a760f30e32c1   2023-10-15  2024-10-14   \n",
       "1  65413534dad1a760f30e32c3_6541351adad1a760f30e32c1   2023-08-20  2024-01-20   \n",
       "\n",
       "     checksum                   span                          feed_key  \\\n",
       "0  3610834750  2023-10-15_2024-10-14  b4970d6cc7e206d9e667796130394790   \n",
       "1  1559914972  2023-08-20_2024-01-20  13bfca2933608e72d6dc9bce01ccb536   \n",
       "\n",
       "   region gtfs_dataset_name  \\\n",
       "0  norcal   Amtrak Schedule   \n",
       "1  norcal   B-Line Schedule   \n",
       "\n",
       "                                          base64_url       date  \n",
       "0  aHR0cHM6Ly9jb250ZW50LmFtdHJhay5jb20vY29udGVudC... 2023-10-18  \n",
       "1  aHR0cDovL3d3dy5ibGluZXRyYW5zaXQuY29tL2RvY3VtZW... 2023-10-18  "
      ]
     },
     "execution_count": 198,
     "metadata": {},
     "output_type": "execute_result"
    }
   ],
   "source": [
    "conveyal_joined >> head(2)"
   ]
  },
  {
   "cell_type": "code",
   "execution_count": 199,
   "id": "637c5bbc-b209-4559-af8f-19be04e60142",
   "metadata": {},
   "outputs": [],
   "source": [
    "central_feed_spans = get_region_feed_spans(df, 'central')"
   ]
  },
  {
   "cell_type": "code",
   "execution_count": 201,
   "id": "2e7b878b-7b14-41e2-a83c-c73129d26b52",
   "metadata": {},
   "outputs": [
    {
     "ename": "AssertionError",
     "evalue": "more than one feed shares the same span!",
     "output_type": "error",
     "traceback": [
      "\u001b[0;31m---------------------------------------------------------------------------\u001b[0m",
      "\u001b[0;31mAssertionError\u001b[0m                            Traceback (most recent call last)",
      "Cell \u001b[0;32mIn[201], line 1\u001b[0m\n\u001b[0;32m----> 1\u001b[0m central_conveyal_joined \u001b[38;5;241m=\u001b[39m \u001b[43mjoin_conveyal_by_span\u001b[49m\u001b[43m(\u001b[49m\u001b[43mpd\u001b[49m\u001b[38;5;241;43m.\u001b[39;49m\u001b[43mDataFrame\u001b[49m\u001b[43m(\u001b[49m\u001b[43mconveyal_central\u001b[49m\u001b[43m)\u001b[49m\u001b[43m,\u001b[49m\u001b[43m \u001b[49m\u001b[43mcentral_feed_spans\u001b[49m\u001b[43m,\u001b[49m\u001b[43m \u001b[49m\u001b[43mexclude_feeds\u001b[49m\u001b[43m)\u001b[49m\n",
      "Cell \u001b[0;32mIn[194], line 14\u001b[0m, in \u001b[0;36mjoin_conveyal_by_span\u001b[0;34m(conveyal_df, feed_span_df, exclude_feeds)\u001b[0m\n\u001b[1;32m      9\u001b[0m conveyal_df[\u001b[38;5;124m'\u001b[39m\u001b[38;5;124mspan\u001b[39m\u001b[38;5;124m'\u001b[39m] \u001b[38;5;241m=\u001b[39m conveyal_df[\u001b[38;5;124m'\u001b[39m\u001b[38;5;124mserviceStart\u001b[39m\u001b[38;5;124m'\u001b[39m] \u001b[38;5;241m+\u001b[39m \u001b[38;5;124m'\u001b[39m\u001b[38;5;124m_\u001b[39m\u001b[38;5;124m'\u001b[39m \u001b[38;5;241m+\u001b[39m conveyal_df[\u001b[38;5;124m'\u001b[39m\u001b[38;5;124mserviceEnd\u001b[39m\u001b[38;5;124m'\u001b[39m]\n\u001b[1;32m     10\u001b[0m conveyal_joined \u001b[38;5;241m=\u001b[39m (conveyal_df\n\u001b[1;32m     11\u001b[0m                    \u001b[38;5;241m>>\u001b[39m inner_join(_, feed_span_df, on \u001b[38;5;241m=\u001b[39m \u001b[38;5;124m'\u001b[39m\u001b[38;5;124mspan\u001b[39m\u001b[38;5;124m'\u001b[39m)\n\u001b[1;32m     12\u001b[0m                    \u001b[38;5;241m>>\u001b[39m \u001b[38;5;28mfilter\u001b[39m(\u001b[38;5;241m-\u001b[39m_\u001b[38;5;241m.\u001b[39mfeed_key\u001b[38;5;241m.\u001b[39misin(exclude_feeds))\n\u001b[1;32m     13\u001b[0m                   )\n\u001b[0;32m---> 14\u001b[0m \u001b[38;5;28;01massert\u001b[39;00m conveyal_joined\u001b[38;5;241m.\u001b[39mspan\u001b[38;5;241m.\u001b[39mis_unique, \u001b[38;5;124m'\u001b[39m\u001b[38;5;124mmore than one feed shares the same span!\u001b[39m\u001b[38;5;124m'\u001b[39m\n\u001b[1;32m     15\u001b[0m \u001b[38;5;28;01massert\u001b[39;00m \u001b[38;5;28mlen\u001b[39m(conveyal_joined) \u001b[38;5;241m==\u001b[39m \u001b[38;5;28mlen\u001b[39m(conveyal_df), \u001b[38;5;124m'\u001b[39m\u001b[38;5;124mat least one feed failed to join!\u001b[39m\u001b[38;5;124m'\u001b[39m\n\u001b[1;32m     17\u001b[0m \u001b[38;5;28;01mreturn\u001b[39;00m conveyal_joined\n",
      "\u001b[0;31mAssertionError\u001b[0m: more than one feed shares the same span!"
     ]
    }
   ],
   "source": [
    "central_conveyal_joined = join_conveyal_by_span(pd.DataFrame(conveyal_central), central_feed_spans, exclude_feeds)"
   ]
  },
  {
   "cell_type": "code",
   "execution_count": 202,
   "id": "c7e96d03-8665-4f8c-8d3d-321a114258d5",
   "metadata": {},
   "outputs": [
    {
     "data": {
      "text/plain": [
       "2020-06-17_2023-12-01    2\n",
       "2023-09-30_2099-12-31    2\n",
       "2023-09-10_2024-12-31    1\n",
       "2023-01-27_2023-12-31    1\n",
       "2020-05-26_2023-12-31    1\n",
       "                        ..\n",
       "2022-01-01_2024-01-01    1\n",
       "2021-10-18_2023-12-31    1\n",
       "2023-09-10_2024-01-13    1\n",
       "2021-09-01_2024-09-01    1\n",
       "2019-12-02_2024-02-01    1\n",
       "Name: span, Length: 80, dtype: int64"
      ]
     },
     "execution_count": 202,
     "metadata": {},
     "output_type": "execute_result"
    }
   ],
   "source": [
    "central_feed_spans.span.value_counts()"
   ]
  },
  {
   "cell_type": "code",
   "execution_count": 203,
   "id": "137cf8b1-ad35-48cc-b303-7726a9aaa3a7",
   "metadata": {},
   "outputs": [
    {
     "data": {
      "text/html": [
       "<div>\n",
       "<style scoped>\n",
       "    .dataframe tbody tr th:only-of-type {\n",
       "        vertical-align: middle;\n",
       "    }\n",
       "\n",
       "    .dataframe tbody tr th {\n",
       "        vertical-align: top;\n",
       "    }\n",
       "\n",
       "    .dataframe thead th {\n",
       "        text-align: right;\n",
       "    }\n",
       "</style>\n",
       "<table border=\"1\" class=\"dataframe\">\n",
       "  <thead>\n",
       "    <tr style=\"text-align: right;\">\n",
       "      <th></th>\n",
       "      <th>feed_key</th>\n",
       "      <th>region</th>\n",
       "      <th>gtfs_dataset_name</th>\n",
       "      <th>base64_url</th>\n",
       "      <th>date</th>\n",
       "      <th>span</th>\n",
       "    </tr>\n",
       "  </thead>\n",
       "  <tbody>\n",
       "    <tr>\n",
       "      <th>21</th>\n",
       "      <td>78a93342ee0ba8aacd951e5a5637fe06</td>\n",
       "      <td>central</td>\n",
       "      <td>Mission Bay Schedule</td>\n",
       "      <td>aHR0cHM6Ly9kYXRhLnRyaWxsaXVtdHJhbnNpdC5jb20vZ3...</td>\n",
       "      <td>2023-10-18</td>\n",
       "      <td>2020-06-17_2023-12-01</td>\n",
       "    </tr>\n",
       "    <tr>\n",
       "      <th>46</th>\n",
       "      <td>b2393e62001a4ceda7cc36d666c40bca</td>\n",
       "      <td>central</td>\n",
       "      <td>Bay Area 511 Mission Bay Schedule</td>\n",
       "      <td>aHR0cHM6Ly9hcGkuNTExLm9yZy90cmFuc2l0L2RhdGFmZW...</td>\n",
       "      <td>2023-10-18</td>\n",
       "      <td>2020-06-17_2023-12-01</td>\n",
       "    </tr>\n",
       "  </tbody>\n",
       "</table>\n",
       "</div>"
      ],
      "text/plain": [
       "                            feed_key   region  \\\n",
       "21  78a93342ee0ba8aacd951e5a5637fe06  central   \n",
       "46  b2393e62001a4ceda7cc36d666c40bca  central   \n",
       "\n",
       "                    gtfs_dataset_name  \\\n",
       "21               Mission Bay Schedule   \n",
       "46  Bay Area 511 Mission Bay Schedule   \n",
       "\n",
       "                                           base64_url       date  \\\n",
       "21  aHR0cHM6Ly9kYXRhLnRyaWxsaXVtdHJhbnNpdC5jb20vZ3... 2023-10-18   \n",
       "46  aHR0cHM6Ly9hcGkuNTExLm9yZy90cmFuc2l0L2RhdGFmZW... 2023-10-18   \n",
       "\n",
       "                     span  \n",
       "21  2020-06-17_2023-12-01  \n",
       "46  2020-06-17_2023-12-01  "
      ]
     },
     "execution_count": 203,
     "metadata": {},
     "output_type": "execute_result"
    }
   ],
   "source": [
    "#  can drop one\n",
    "central_feed_spans >> filter(_.span == '2020-06-17_2023-12-01')"
   ]
  },
  {
   "cell_type": "code",
   "execution_count": 204,
   "id": "770568fa-8044-4786-8a2b-4224e781256e",
   "metadata": {},
   "outputs": [
    {
     "data": {
      "text/html": [
       "<div>\n",
       "<style scoped>\n",
       "    .dataframe tbody tr th:only-of-type {\n",
       "        vertical-align: middle;\n",
       "    }\n",
       "\n",
       "    .dataframe tbody tr th {\n",
       "        vertical-align: top;\n",
       "    }\n",
       "\n",
       "    .dataframe thead th {\n",
       "        text-align: right;\n",
       "    }\n",
       "</style>\n",
       "<table border=\"1\" class=\"dataframe\">\n",
       "  <thead>\n",
       "    <tr style=\"text-align: right;\">\n",
       "      <th></th>\n",
       "      <th>feed_key</th>\n",
       "      <th>region</th>\n",
       "      <th>gtfs_dataset_name</th>\n",
       "      <th>base64_url</th>\n",
       "      <th>date</th>\n",
       "      <th>span</th>\n",
       "    </tr>\n",
       "  </thead>\n",
       "  <tbody>\n",
       "    <tr>\n",
       "      <th>70</th>\n",
       "      <td>ed7a212f2a38fd8734244030b40e4d07</td>\n",
       "      <td>central</td>\n",
       "      <td>Bay Area 511 Union City Transit Schedule</td>\n",
       "      <td>aHR0cHM6Ly9hcGkuNTExLm9yZy90cmFuc2l0L2RhdGFmZW...</td>\n",
       "      <td>2023-10-18</td>\n",
       "      <td>2023-09-30_2099-12-31</td>\n",
       "    </tr>\n",
       "    <tr>\n",
       "      <th>78</th>\n",
       "      <td>27b8abfcbdafb64f1bd516c4d065ab76</td>\n",
       "      <td>central</td>\n",
       "      <td>Bay Area 511 Santa Rosa CityBus Schedule</td>\n",
       "      <td>aHR0cHM6Ly9hcGkuNTExLm9yZy90cmFuc2l0L2RhdGFmZW...</td>\n",
       "      <td>2023-10-18</td>\n",
       "      <td>2023-09-30_2099-12-31</td>\n",
       "    </tr>\n",
       "  </tbody>\n",
       "</table>\n",
       "</div>"
      ],
      "text/plain": [
       "                            feed_key   region  \\\n",
       "70  ed7a212f2a38fd8734244030b40e4d07  central   \n",
       "78  27b8abfcbdafb64f1bd516c4d065ab76  central   \n",
       "\n",
       "                           gtfs_dataset_name  \\\n",
       "70  Bay Area 511 Union City Transit Schedule   \n",
       "78  Bay Area 511 Santa Rosa CityBus Schedule   \n",
       "\n",
       "                                           base64_url       date  \\\n",
       "70  aHR0cHM6Ly9hcGkuNTExLm9yZy90cmFuc2l0L2RhdGFmZW... 2023-10-18   \n",
       "78  aHR0cHM6Ly9hcGkuNTExLm9yZy90cmFuc2l0L2RhdGFmZW... 2023-10-18   \n",
       "\n",
       "                     span  \n",
       "70  2023-09-30_2099-12-31  \n",
       "78  2023-09-30_2099-12-31  "
      ]
     },
     "execution_count": 204,
     "metadata": {},
     "output_type": "execute_result"
    }
   ],
   "source": [
    "#  uh-oh, need manual override\n",
    "central_feed_spans >> filter(_.span == '2023-09-30_2099-12-31')"
   ]
  },
  {
   "cell_type": "code",
   "execution_count": null,
   "id": "e389be76-eb4d-44bf-9040-cc410d0af900",
   "metadata": {},
   "outputs": [],
   "source": []
  }
 ],
 "metadata": {
  "kernelspec": {
   "display_name": "Python 3 (ipykernel)",
   "language": "python",
   "name": "python3"
  },
  "language_info": {
   "codemirror_mode": {
    "name": "ipython",
    "version": 3
   },
   "file_extension": ".py",
   "mimetype": "text/x-python",
   "name": "python",
   "nbconvert_exporter": "python",
   "pygments_lexer": "ipython3",
   "version": "3.9.13"
  },
  "widgets": {
   "application/vnd.jupyter.widget-state+json": {
    "state": {},
    "version_major": 2,
    "version_minor": 0
   }
  }
 },
 "nbformat": 4,
 "nbformat_minor": 5
}
