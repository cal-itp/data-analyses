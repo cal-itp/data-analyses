{
 "cells": [
  {
   "cell_type": "markdown",
   "id": "05e855fb-6dd3-4794-9712-ba236e147c73",
   "metadata": {},
   "source": [
    "# First look/Clean Up"
   ]
  },
  {
   "cell_type": "code",
   "execution_count": null,
   "id": "48f6c75b-1f98-41cf-89bc-dd7c9f0ce840",
   "metadata": {},
   "outputs": [],
   "source": [
    "import numpy as np\n",
    "import pandas as pd\n",
    "from siuba import *\n",
    "from calitp import *\n",
    "from shared_utils import geography_utils\n",
    "\n",
    "#Formatting the nb \n",
    "pd.options.display.max_columns = 100\n",
    "pd.set_option(\"display.max_rows\", None)\n",
    "pd.set_option(\"display.max_colwidth\", None)\n",
    "pd.options.display.float_format = \"{:.2f}\".format"
   ]
  },
  {
   "cell_type": "code",
   "execution_count": null,
   "id": "0f5fe564-d93e-43f1-94fa-09ef723a0bc8",
   "metadata": {},
   "outputs": [],
   "source": [
    "GCS_FILE_PATH = \"gs://calitp-analytics-data/data-analyses/lctop/\"\n",
    "FILE_NAME = \"LCTOP_19_20.xlsx\""
   ]
  },
  {
   "cell_type": "code",
   "execution_count": null,
   "id": "8a712c90-4765-4afb-ba31-8d166d7b13c6",
   "metadata": {},
   "outputs": [],
   "source": [
    "df1 = to_snakecase(pd.read_excel(f\"{GCS_FILE_PATH}{FILE_NAME}\", sheet_name=\"LCTOP_Projects\"))"
   ]
  },
  {
   "cell_type": "code",
   "execution_count": null,
   "id": "b42eeb76-f9c0-435b-a574-f275847fb8ab",
   "metadata": {
    "scrolled": true,
    "tags": []
   },
   "outputs": [],
   "source": [
    "#Get percentages of how many null values per column\n",
    "percent_missing = df1.isnull().sum() * 100 / len(df1)\n",
    "percent_missing"
   ]
  },
  {
   "cell_type": "code",
   "execution_count": null,
   "id": "0cb0fbd3-c9a3-4770-b852-90cd43b4b5d3",
   "metadata": {},
   "outputs": [],
   "source": [
    "#Drop some columns especially those with a very low percentage of populated values \n",
    "df2 = df1.drop(columns = ['count', '#','column3',\n",
    "       'column4', 'column5','other_state_policies,_plans,_or_initiatives',\n",
    "       'describe_policies,_plans,_or_initiatives','#2','_d','contact_name','contact_phone_#','contact_e_mail',\n",
    "                         'authorized_agent_name','authorized_agent_title',\n",
    "                         'project_id#'])"
   ]
  },
  {
   "cell_type": "code",
   "execution_count": null,
   "id": "8a3644bd-b59d-4474-87ea-dfc3125bd49d",
   "metadata": {},
   "outputs": [],
   "source": [
    "df2[['lon', 'lat']] = df1['project_location'].str.split(' ', 1, expand=True)"
   ]
  },
  {
   "cell_type": "code",
   "execution_count": null,
   "id": "2b01efe2-4e65-4cb9-b3cc-8dd97ebc81af",
   "metadata": {},
   "outputs": [],
   "source": [
    "geo_list = ['lon','lat']"
   ]
  },
  {
   "cell_type": "code",
   "execution_count": null,
   "id": "76e16cf0-a956-4b41-85fd-61b58baea3c2",
   "metadata": {},
   "outputs": [],
   "source": [
    "for c in geo_list:\n",
    "    df2[c] = (df2[c]\n",
    "              .str.replace(\",\", \"\")\n",
    "              .str.replace(\";\",\" \")\n",
    "             )"
   ]
  },
  {
   "cell_type": "code",
   "execution_count": null,
   "id": "167217e8-ae4e-4e70-9586-a4cd9a0ef41b",
   "metadata": {},
   "outputs": [],
   "source": [
    "\n",
    "for c in geo_list:\n",
    "    df2[c] = df2[c].apply(pd.to_numeric, errors='coerce')\n",
    "    "
   ]
  },
  {
   "cell_type": "code",
   "execution_count": null,
   "id": "1189243d-902d-4d37-975c-8c353c6fc005",
   "metadata": {},
   "outputs": [],
   "source": [
    "df2[['lon','lat','project_location']].sample(5)"
   ]
  },
  {
   "cell_type": "code",
   "execution_count": null,
   "id": "a039091a-a2de-4f35-a0db-3d92ec2f9013",
   "metadata": {},
   "outputs": [],
   "source": [
    "#Coerce date-time columns to the write type\n",
    "date_columns = ['qm_tool__date_', 'completion_date','start_date']\n",
    "\n",
    "for c in date_columns:\n",
    "    df2[c] = df2[c].apply(pd.to_datetime, errors='coerce')\n",
    "    "
   ]
  },
  {
   "cell_type": "code",
   "execution_count": null,
   "id": "a09102ba-cdf6-4b88-bd10-098f218b6040",
   "metadata": {},
   "outputs": [],
   "source": [
    "df2 = df2.fillna(df2.dtypes.replace({'float64': 0.0, 'object': 'None'}))"
   ]
  },
  {
   "cell_type": "code",
   "execution_count": null,
   "id": "ab2e25b1-bdbc-43cf-bf93-a5dc4f08779d",
   "metadata": {
    "scrolled": true,
    "tags": []
   },
   "outputs": [],
   "source": [
    "df2.info()"
   ]
  },
  {
   "cell_type": "code",
   "execution_count": null,
   "id": "d33b3e2c-ebb1-49ed-9ee4-e6e0ef266e9e",
   "metadata": {},
   "outputs": [],
   "source": [
    "df2.head()"
   ]
  },
  {
   "cell_type": "code",
   "execution_count": null,
   "id": "907f503c-0b78-4fea-92ee-7681f2ffcfb7",
   "metadata": {
    "scrolled": true,
    "tags": []
   },
   "outputs": [],
   "source": [
    "df2.groupby(['distr_', 'project_sub_type_ii', 'project_sub_type']).agg({\n",
    "    'total_project_cost':'sum',\n",
    "    'total_lctop_funds':'sum'})\n",
    "    "
   ]
  },
  {
   "cell_type": "code",
   "execution_count": null,
   "id": "4cbfc7de-16bc-4745-bc3b-b74e1a2ad9b1",
   "metadata": {},
   "outputs": [],
   "source": [
    "district_list = list(df2['distr_'].unique())"
   ]
  },
  {
   "cell_type": "code",
   "execution_count": null,
   "id": "4e67a467-aa68-4eb5-84b6-40d5e7a8f448",
   "metadata": {},
   "outputs": [],
   "source": [
    "with pd.ExcelWriter(f\"{GCS_FILE_PATH}LCTOP_cleaned.xlsx\") as writer:\n",
    "    df2.to_excel(writer, sheet_name=\"cleaned\", index=False)"
   ]
  },
  {
   "cell_type": "markdown",
   "id": "2c38daca-ba85-4396-b12a-5a376657296f",
   "metadata": {},
   "source": [
    "## Geodataframe"
   ]
  },
  {
   "cell_type": "code",
   "execution_count": null,
   "id": "1f90a012-b1d5-4406-9f5c-6b1af1699194",
   "metadata": {},
   "outputs": [],
   "source": [
    "#Subset for geodataframe\n",
    "df3 = df2[['funding_year', 'distr_','project_name', 'project_type',\n",
    "       'project_sub_type', 'project_sub_type_ii',\n",
    "       'project_description__short_','lon',\n",
    "       'lat','total_lctop_funds',\n",
    "       'total_cci_funds', 'total_project_cost',]]"
   ]
  },
  {
   "cell_type": "code",
   "execution_count": null,
   "id": "54d0b4f8-364d-4437-9942-8516420665d8",
   "metadata": {},
   "outputs": [],
   "source": [
    "df3 = df3[(df3['lon'] != 0.00) & (df3['lat'] != 0.00)]"
   ]
  },
  {
   "cell_type": "code",
   "execution_count": null,
   "id": "92e9cc12-fda1-4a64-b54e-b2fbdbcafd18",
   "metadata": {},
   "outputs": [],
   "source": [
    "gdf1 = geography_utils.create_point_geometry(df3, 'lon','lat')"
   ]
  },
  {
   "cell_type": "code",
   "execution_count": null,
   "id": "7ac8a1c7-ac73-458d-a3e3-1b9a7af7c373",
   "metadata": {},
   "outputs": [],
   "source": [
    "#gdf1.to_file(f\"./test_gdf.geojson\", driver=\"GeoJSON\")"
   ]
  }
 ],
 "metadata": {
  "kernelspec": {
   "display_name": "Python 3 (ipykernel)",
   "language": "python",
   "name": "python3"
  },
  "language_info": {
   "codemirror_mode": {
    "name": "ipython",
    "version": 3
   },
   "file_extension": ".py",
   "mimetype": "text/x-python",
   "name": "python",
   "nbconvert_exporter": "python",
   "pygments_lexer": "ipython3",
   "version": "3.10.4"
  }
 },
 "nbformat": 4,
 "nbformat_minor": 5
}
