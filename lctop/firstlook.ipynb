{
 "cells": [
  {
   "cell_type": "markdown",
   "id": "05e855fb-6dd3-4794-9712-ba236e147c73",
   "metadata": {},
   "source": [
    "# First look\n",
    "\n",
    "* [Priority Population/DAC](https://dot.ca.gov/programs/rail-and-mass-transportation/priority-populations-and-disadvantaged-communities)"
   ]
  },
  {
   "cell_type": "code",
   "execution_count": 1,
   "id": "48f6c75b-1f98-41cf-89bc-dd7c9f0ce840",
   "metadata": {},
   "outputs": [
    {
     "name": "stderr",
     "output_type": "stream",
     "text": [
      "/opt/conda/lib/python3.10/site-packages/geopandas/_compat.py:112: UserWarning: The Shapely GEOS version (3.10.3-CAPI-1.16.1) is incompatible with the GEOS version PyGEOS was compiled with (3.10.1-CAPI-1.16.0). Conversions between both will be slow.\n",
      "  warnings.warn(\n"
     ]
    }
   ],
   "source": [
    "import geopandas as gpd\n",
    "import numpy as np\n",
    "import pandas as pd\n",
    "from calitp import *\n",
    "from calitp.storage import get_fs\n",
    "from shared_utils import geography_utils, utils\n",
    "\n",
    "fs = get_fs()\n",
    "import os\n",
    "\n",
    "# Formatting the nb\n",
    "pd.options.display.max_columns = 100\n",
    "pd.set_option(\"display.max_rows\", None)\n",
    "pd.set_option(\"display.max_colwidth\", None)\n",
    "\n",
    "# Scripts\n",
    "import A1_data_prep as data_prep"
   ]
  },
  {
   "cell_type": "markdown",
   "id": "4f6f57c4-efe7-40b8-b509-57b646d3c5e7",
   "metadata": {},
   "source": [
    "## Loading in the script"
   ]
  },
  {
   "cell_type": "code",
   "execution_count": 2,
   "id": "0f5fe564-d93e-43f1-94fa-09ef723a0bc8",
   "metadata": {},
   "outputs": [],
   "source": [
    "GCS_FILE_PATH = \"gs://calitp-analytics-data/data-analyses/lctop/\"\n",
    "FILE_NAME = \"LCTOP_allyears.xlsx\""
   ]
  },
  {
   "cell_type": "code",
   "execution_count": 3,
   "id": "8a712c90-4765-4afb-ba31-8d166d7b13c6",
   "metadata": {},
   "outputs": [],
   "source": [
    "#Original df \n",
    "df1 = to_snakecase(\n",
    "    pd.read_excel(f\"{GCS_FILE_PATH}{FILE_NAME}\", sheet_name=\"LCTOP_Projects\")\n",
    ")"
   ]
  },
  {
   "cell_type": "code",
   "execution_count": 4,
   "id": "cb9c425c-e2bb-4d4b-ba8a-75a4ec901263",
   "metadata": {},
   "outputs": [
    {
     "name": "stderr",
     "output_type": "stream",
     "text": [
      "/home/jovyan/data-analyses/lctop/A1_data_prep.py:73: FutureWarning: The default value of regex will change from True to False in a future version.\n"
     ]
    }
   ],
   "source": [
    "#Cleaned df\n",
    "df2 = data_prep.clean_lctop()"
   ]
  },
  {
   "cell_type": "code",
   "execution_count": 5,
   "id": "f590cf5d-6492-4d10-ab88-5d76b95489f6",
   "metadata": {},
   "outputs": [
    {
     "name": "stderr",
     "output_type": "stream",
     "text": [
      "/home/jovyan/data-analyses/lctop/A1_data_prep.py:73: FutureWarning: The default value of regex will change from True to False in a future version.\n",
      "/home/jovyan/data-analyses/lctop/A1_data_prep.py:87: FutureWarning: The default value of regex will change from True to False in a future version.\n"
     ]
    }
   ],
   "source": [
    "district_summary, gdf_dist = data_prep.district_fy_summary()"
   ]
  },
  {
   "cell_type": "code",
   "execution_count": 6,
   "id": "0e349f47-0924-4829-a5b6-86f252eea6e2",
   "metadata": {
    "scrolled": true,
    "tags": []
   },
   "outputs": [],
   "source": [
    "#df2['lead_agency'].sort_values().unique()"
   ]
  },
  {
   "cell_type": "code",
   "execution_count": 7,
   "id": "bb8a5ed7-3872-4267-918d-90ed0f39a2b0",
   "metadata": {},
   "outputs": [
    {
     "data": {
      "text/plain": [
       "175"
      ]
     },
     "execution_count": 7,
     "metadata": {},
     "output_type": "execute_result"
    }
   ],
   "source": [
    "df2['lead_agency'].nunique()"
   ]
  },
  {
   "cell_type": "markdown",
   "id": "ecf1dc3e-9185-46d8-a94a-275196cb7f0c",
   "metadata": {},
   "source": [
    "## Checking out the raw data"
   ]
  },
  {
   "cell_type": "code",
   "execution_count": 8,
   "id": "28f7bfa5-f468-4d8a-9707-f897bed0f888",
   "metadata": {},
   "outputs": [
    {
     "data": {
      "text/plain": [
       "(857, 74)"
      ]
     },
     "execution_count": 8,
     "metadata": {},
     "output_type": "execute_result"
    }
   ],
   "source": [
    "df1.shape"
   ]
  },
  {
   "cell_type": "code",
   "execution_count": 9,
   "id": "b42eeb76-f9c0-435b-a574-f275847fb8ab",
   "metadata": {
    "scrolled": true,
    "tags": []
   },
   "outputs": [
    {
     "data": {
      "text/plain": [
       "count                                               0.700117\n",
       "#                                                   0.700117\n",
       "funding_year                                        0.700117\n",
       "_d                                                  0.700117\n",
       "distr_                                              0.700117\n",
       "project_id#                                         0.700117\n",
       "lead_agency                                         0.700117\n",
       "project_name                                        0.700117\n",
       "project_type                                        0.583431\n",
       "project_sub_type                                   27.421237\n",
       "project_sub_type_ii                                 0.700117\n",
       "#2                                                 99.533256\n",
       "project_description__short_                        11.785298\n",
       "project_location                                   28.121354\n",
       "start_date                                         12.018670\n",
       "completion_date                                    27.304551\n",
       "contact_name                                        1.050175\n",
       "contact_phone_#                                     1.050175\n",
       "contact_e_mail                                     26.954492\n",
       "authorized_agent_name                              12.018670\n",
       "authorized_agent_title                             12.252042\n",
       "address                                            12.252042\n",
       "city,_state,_zip_code                              37.922987\n",
       "county                                             79.346558\n",
       "contributing_sponsor                               26.371062\n",
       "puc_99313_funds                                     3.500583\n",
       "puc_99314_funds                                     4.900817\n",
       "total_project_request_99314_+_99313                 0.583431\n",
       "total_lctop_funds                                  27.187865\n",
       "total_cci_funds                                    27.187865\n",
       "total_project_cost                                 11.901984\n",
       "lctop_%_of_total_project_funds                     11.901984\n",
       "rollover_project                                   52.158693\n",
       "has_project_received_other_ggrf_funds              41.890315\n",
       "qm_tool__date_                                     41.890315\n",
       "project_life                                       41.890315\n",
       "ridership_increase                                 27.654609\n",
       "vmt_reduction                                      29.521587\n",
       "ghg_reduction__mtco2e_                             26.137690\n",
       "date_ghg_reductions_begin                          63.010502\n",
       "diesel_pm_reductions__lbs_                         43.173862\n",
       "nox_reductions__lbs_                               43.173862\n",
       "pm_2_5_reductions__lbs_                            43.173862\n",
       "reactive_organic_gas_reduction__lbs_               43.290548\n",
       "fossil_fuel_use_reduction__transportation_         55.309218\n",
       "fossil_fuel_use_reduction__energy_                 80.163361\n",
       "renewable_energy_generation__kwh_                  80.396733\n",
       "governors_pillars                                  41.890315\n",
       "other_state_policies,_plans,_or_initiatives       100.000000\n",
       "describe_policies,_plans,_or_initiatives          100.000000\n",
       "support_scoping_plan                               41.890315\n",
       "co_benefits                                        41.890315\n",
       "calenviroscreen_version                             0.700117\n",
       "agency_service_area_has_a_dac                       0.700117\n",
       "does_project_benefit_an_ab_1550_dac                 0.583431\n",
       "dac_data                                            0.700117\n",
       "ab_1550_low_income_community__household            41.773629\n",
       "ab_1550_1_2_mile_low_income_buffer_region          41.773629\n",
       "ab_1550_benefit_criteria_table                     42.007001\n",
       "ab_1550_benefit_selected                           53.092182\n",
       "identify_specific_ab_1550_group_needs_approach     22.287048\n",
       "description_of_ab_1550_community_need              32.555426\n",
       "ab_1550_benefit_criteria_met                       51.458576\n",
       "description_of_ab_1550_criteria                    33.488915\n",
       "qualifying_disadvantaged_community_benefit         41.773629\n",
       "funds_to_benefit_dac                                0.350058\n",
       "qualifying_low_income_benefit_                     27.187865\n",
       "funds_to_benefit_lichh_                            27.071179\n",
       "qualifying_1_2_mile_low_income_buffer_             27.304551\n",
       "funds_to_benefit_lichh_w_n_1_2_mile_of_a_dac_      27.187865\n",
       "status                                             37.339557\n",
       "column3                                            62.427071\n",
       "column4                                            62.427071\n",
       "column5                                            78.996499\n",
       "dtype: float64"
      ]
     },
     "execution_count": 9,
     "metadata": {},
     "output_type": "execute_result"
    }
   ],
   "source": [
    "# Get percentages of how many null values per column\n",
    "df1.isnull().sum() * 100 / len(df1)"
   ]
  },
  {
   "cell_type": "code",
   "execution_count": 10,
   "id": "577a255f-5118-4b57-ad7a-6f6ebc6fcee6",
   "metadata": {},
   "outputs": [],
   "source": [
    "# Check out that values are what I expect for certain columns\n",
    "value_count_cols = [\n",
    "    \"project_type\",\n",
    "    \"lead_agency\",\n",
    "    \"distr_\",\n",
    "    \"project_name\",\n",
    "    \"project_id#\",\n",
    "    \"project_sub_type_ii\",\n",
    "]"
   ]
  },
  {
   "cell_type": "code",
   "execution_count": 11,
   "id": "b87580c8-13d6-4057-9204-5ab7a22f899e",
   "metadata": {
    "tags": []
   },
   "outputs": [
    {
     "data": {
      "text/plain": [
       "'\\nfor column in df1[value_count_cols]:\\n    print(\"\\n\" + column)\\n    print(df1[column].value_counts())\\n    \\n'"
      ]
     },
     "execution_count": 11,
     "metadata": {},
     "output_type": "execute_result"
    }
   ],
   "source": [
    "# https://stackoverflow.com/questions/32589829/how-to-get-value-counts-for-multiple-columns-at-once-in-pandas-dataframe\n",
    "\"\"\"\n",
    "for column in df1[value_count_cols]:\n",
    "    print(\"\\n\" + column)\n",
    "    print(df1[column].value_counts())\n",
    "    \n",
    "\"\"\""
   ]
  },
  {
   "cell_type": "code",
   "execution_count": 12,
   "id": "e6d8a75c-ee4c-4ffa-b1dd-f6e8a15cce06",
   "metadata": {},
   "outputs": [
    {
     "name": "stdout",
     "output_type": "stream",
     "text": [
      "\n",
      "project_type\n",
      "3\n",
      "\n",
      "lead_agency\n",
      "213\n",
      "\n",
      "distr_\n",
      "12\n",
      "\n",
      "project_name\n",
      "714\n",
      "\n",
      "project_id#\n",
      "851\n",
      "\n",
      "project_sub_type_ii\n",
      "12\n"
     ]
    }
   ],
   "source": [
    "# Find nunique values\n",
    "for column in df1[value_count_cols]:\n",
    "    print(\"\\n\" + column)\n",
    "    print(df1[column].nunique())"
   ]
  },
  {
   "cell_type": "markdown",
   "id": "53e8c6f2-5769-4e73-ab84-77d5e52ecbe1",
   "metadata": {},
   "source": [
    "### Double checking monetary columns\n"
   ]
  },
  {
   "cell_type": "code",
   "execution_count": 13,
   "id": "a6c4d3b9-5094-4325-be73-4d0f20d6d30b",
   "metadata": {},
   "outputs": [],
   "source": [
    "monetary_cols = [\n",
    "    \"puc_99313_funds\",\n",
    "    \"puc_99314_funds\",\n",
    "    \"total_project_request_99314_+_99313\",\n",
    "    \"total_lctop_funds\",\n",
    "    \"total_cci_funds\",\n",
    "    \"total_project_cost\",\n",
    "    \"lctop_%_of_total_project_funds\",\n",
    "]"
   ]
  },
  {
   "cell_type": "code",
   "execution_count": 14,
   "id": "18f7572f-2f1c-4899-bdd0-bfe043bd32a2",
   "metadata": {},
   "outputs": [],
   "source": [
    "subset = df1[monetary_cols].fillna(0)"
   ]
  },
  {
   "cell_type": "code",
   "execution_count": 15,
   "id": "49146b58-4645-49ed-b78d-c593e850dd69",
   "metadata": {},
   "outputs": [],
   "source": [
    "# https://stackoverflow.com/questions/42405572/how-to-compare-two-columns-of-the-same-dataframe\n",
    "# Compare if PUC 99313 + PUC 99314 equal to total LCTOP Fund\n",
    "subset[\"total_project_comp_to_total_LCTOP_funds\"] = np.where(\n",
    "    subset[\"total_project_request_99314_+_99313\"] == subset[\"total_lctop_funds\"],\n",
    "    \"same\",\n",
    "    \"different\",\n",
    ")"
   ]
  },
  {
   "cell_type": "code",
   "execution_count": 16,
   "id": "5e402250-32a3-45a8-a08c-13192c0706ca",
   "metadata": {},
   "outputs": [],
   "source": [
    "# Comapre if LCTOP equals CCI\n",
    "subset[\"total_lctop_cci\"] = np.where(\n",
    "    subset[\"total_lctop_funds\"] == subset[\"total_cci_funds\"], \"same\", \"different\"\n",
    ")"
   ]
  },
  {
   "cell_type": "code",
   "execution_count": 17,
   "id": "39517162-3f73-42bc-948d-0870704195cb",
   "metadata": {},
   "outputs": [],
   "source": [
    "# Calculate out total_project_request_99314_+_99313 and see if the results equal what was provided to me.\n",
    "subset[\"99314_and_99313\"] = subset[\"puc_99313_funds\"] + subset[\"puc_99314_funds\"]\n",
    "subset[\"my_calc_vs_og_cal\"] = np.where(\n",
    "    subset[\"99314_and_99313\"] == subset[\"total_project_request_99314_+_99313\"],\n",
    "    \"same\",\n",
    "    \"different\",\n",
    ")"
   ]
  },
  {
   "cell_type": "code",
   "execution_count": 18,
   "id": "dc867b48-767f-4d2d-adb4-e669b5ecf703",
   "metadata": {},
   "outputs": [],
   "source": [
    "# Compare total_project_request_99314_+_99313 with total CCI funds\n",
    "subset[\"CCI_99313_99314\"] = np.where(\n",
    "    subset[\"total_project_request_99314_+_99313\"] == subset[\"total_cci_funds\"],\n",
    "    \"same\",\n",
    "    \"different\",\n",
    ")"
   ]
  },
  {
   "cell_type": "code",
   "execution_count": 19,
   "id": "bfe084e6-0409-4851-ac9c-c7cf5c754fd6",
   "metadata": {},
   "outputs": [
    {
     "name": "stdout",
     "output_type": "stream",
     "text": [
      "\n",
      "total_project_comp_to_total_LCTOP_funds\n",
      "different    435\n",
      "same         422\n",
      "Name: total_project_comp_to_total_LCTOP_funds, dtype: int64\n",
      "\n",
      "total_lctop_cci\n",
      "same         813\n",
      "different     44\n",
      "Name: total_lctop_cci, dtype: int64\n",
      "\n",
      "my_calc_vs_og_cal\n",
      "same         856\n",
      "different      1\n",
      "Name: my_calc_vs_og_cal, dtype: int64\n",
      "\n",
      "CCI_99313_99314\n",
      "different    446\n",
      "same         411\n",
      "Name: CCI_99313_99314, dtype: int64\n"
     ]
    }
   ],
   "source": [
    "# Find value_counts\n",
    "value_count_cols_2 = [\n",
    "    \"total_project_comp_to_total_LCTOP_funds\",\n",
    "    \"total_lctop_cci\",\n",
    "    \"my_calc_vs_og_cal\",\n",
    "    \"CCI_99313_99314\",\n",
    "]\n",
    "for column in subset[value_count_cols_2]:\n",
    "    print(\"\\n\" + column)\n",
    "    print(subset[column].value_counts())"
   ]
  },
  {
   "cell_type": "code",
   "execution_count": 20,
   "id": "900c2fc2-cf63-475f-9751-eb67b5893203",
   "metadata": {
    "scrolled": true,
    "tags": []
   },
   "outputs": [],
   "source": [
    "# subset.loc[subset['my_calc_vs_og_cal'] == 'different']"
   ]
  },
  {
   "cell_type": "markdown",
   "id": "6735ee49-b28f-4e59-b6cd-f5dbd56019ac",
   "metadata": {},
   "source": [
    "### Other Cleaning Steps\n",
    "* Double check that agencies are only spelled in ONE way, not in multiple ways.\n",
    "* Change any yes/no open/close columns to lower and strip spaces, so there aren't diffrent options.\n",
    "* Removed county.\n",
    "* Make sure all cols are the same data type"
   ]
  },
  {
   "cell_type": "code",
   "execution_count": 21,
   "id": "18f382cf-6a55-494f-bbb4-bf5880ec59c3",
   "metadata": {
    "scrolled": true,
    "tags": []
   },
   "outputs": [],
   "source": [
    "#Check values manually \n",
    "#df2['lead_agency'].sort_values().unique()"
   ]
  },
  {
   "cell_type": "markdown",
   "id": "160de0bc-7b6d-410c-be01-d3910e3149ec",
   "metadata": {},
   "source": [
    "## Initial insights"
   ]
  },
  {
   "cell_type": "markdown",
   "id": "c78d7ff0-b14c-4d05-ab05-fd2737c3643a",
   "metadata": {},
   "source": [
    "### How are projects benefitting DAC, are they finished or in progress, how many null values are present, etc?\n",
    "* [Disadvantaged Communities](https://dot.ca.gov/programs/rail-and-mass-transportation/priority-populations-and-disadvantaged-communities)\n",
    "* Most projects benefit DAC.\n",
    "* Most agencies have a service area with DAC."
   ]
  },
  {
   "cell_type": "code",
   "execution_count": 22,
   "id": "da650c91-98e7-4a8c-a9d3-3899452d89fe",
   "metadata": {
    "scrolled": true,
    "tags": []
   },
   "outputs": [],
   "source": [
    "# count\n",
    "# https://pandas.pydata.org/docs/reference/api/pandas.DataFrame.from_dict.html\n",
    "result = {}\n",
    "for i in df2[data_prep.boolean_cols]:\n",
    "    result[i] = df2[i].value_counts()"
   ]
  },
  {
   "cell_type": "code",
   "execution_count": 23,
   "id": "f662370c-8874-4c6e-8a1d-99c2d72d8d94",
   "metadata": {},
   "outputs": [],
   "source": [
    "result_df = (\n",
    "    pd.DataFrame.from_dict(result).fillna(0).rename(columns={\"index\": \"Boolean Values\"})\n",
    ")\n",
    "\n",
    "result_df = result_df.div(result_df.sum(axis=0), axis=1)"
   ]
  },
  {
   "cell_type": "code",
   "execution_count": 24,
   "id": "b61d6b07-4a03-412e-9e8a-2c697c4ebcc6",
   "metadata": {},
   "outputs": [
    {
     "data": {
      "text/html": [
       "<style type=\"text/css\">\n",
       "#T_7d246_row0_col0, #T_7d246_row0_col1, #T_7d246_row0_col2, #T_7d246_row0_col4, #T_7d246_row1_col0, #T_7d246_row1_col1, #T_7d246_row1_col2, #T_7d246_row1_col4, #T_7d246_row2_col0, #T_7d246_row2_col1, #T_7d246_row3_col0, #T_7d246_row3_col1, #T_7d246_row3_col3, #T_7d246_row3_col4, #T_7d246_row4_col2, #T_7d246_row5_col0, #T_7d246_row5_col1, #T_7d246_row5_col3, #T_7d246_row5_col4, #T_7d246_row6_col2, #T_7d246_row6_col3 {\n",
       "  background-color: #fff7fb;\n",
       "  color: #000000;\n",
       "}\n",
       "#T_7d246_row0_col3 {\n",
       "  background-color: #a5bddb;\n",
       "  color: #000000;\n",
       "}\n",
       "#T_7d246_row1_col3 {\n",
       "  background-color: #9ebad9;\n",
       "  color: #000000;\n",
       "}\n",
       "#T_7d246_row2_col2 {\n",
       "  background-color: #3f93c2;\n",
       "  color: #f1f1f1;\n",
       "}\n",
       "#T_7d246_row2_col3, #T_7d246_row5_col2, #T_7d246_row6_col0, #T_7d246_row6_col1, #T_7d246_row6_col4 {\n",
       "  background-color: #023858;\n",
       "  color: #f1f1f1;\n",
       "}\n",
       "#T_7d246_row2_col4 {\n",
       "  background-color: #056ead;\n",
       "  color: #f1f1f1;\n",
       "}\n",
       "#T_7d246_row3_col2 {\n",
       "  background-color: #faf3f9;\n",
       "  color: #000000;\n",
       "}\n",
       "#T_7d246_row4_col0 {\n",
       "  background-color: #91b5d6;\n",
       "  color: #000000;\n",
       "}\n",
       "#T_7d246_row4_col1 {\n",
       "  background-color: #6da6cd;\n",
       "  color: #f1f1f1;\n",
       "}\n",
       "#T_7d246_row4_col3 {\n",
       "  background-color: #bbc7e0;\n",
       "  color: #000000;\n",
       "}\n",
       "#T_7d246_row4_col4 {\n",
       "  background-color: #f1ebf5;\n",
       "  color: #000000;\n",
       "}\n",
       "</style>\n",
       "<table id=\"T_7d246\">\n",
       "  <thead>\n",
       "    <tr>\n",
       "      <th class=\"blank level0\" >&nbsp;</th>\n",
       "      <th id=\"T_7d246_level0_col0\" class=\"col_heading level0 col0\" >agency_service_area_has_a_dac</th>\n",
       "      <th id=\"T_7d246_level0_col1\" class=\"col_heading level0 col1\" >does_project_benefit_an_ab_1550_dac</th>\n",
       "      <th id=\"T_7d246_level0_col2\" class=\"col_heading level0 col2\" >status</th>\n",
       "      <th id=\"T_7d246_level0_col3\" class=\"col_heading level0 col3\" >qualifying_1_2_mile_low_income_buffer_</th>\n",
       "      <th id=\"T_7d246_level0_col4\" class=\"col_heading level0 col4\" >ab_1550_low_income_community__household</th>\n",
       "    </tr>\n",
       "  </thead>\n",
       "  <tbody>\n",
       "    <tr>\n",
       "      <th id=\"T_7d246_level0_row0\" class=\"row_heading level0 row0\" >0</th>\n",
       "      <td id=\"T_7d246_row0_col0\" class=\"data row0 col0\" >0.000000</td>\n",
       "      <td id=\"T_7d246_row0_col1\" class=\"data row0 col1\" >0.000000</td>\n",
       "      <td id=\"T_7d246_row0_col2\" class=\"data row0 col2\" >0.000000</td>\n",
       "      <td id=\"T_7d246_row0_col3\" class=\"data row0 col3\" >0.180000</td>\n",
       "      <td id=\"T_7d246_row0_col4\" class=\"data row0 col4\" >0.000000</td>\n",
       "    </tr>\n",
       "    <tr>\n",
       "      <th id=\"T_7d246_level0_row1\" class=\"row_heading level0 row1\" >1</th>\n",
       "      <td id=\"T_7d246_row1_col0\" class=\"data row1 col0\" >0.000000</td>\n",
       "      <td id=\"T_7d246_row1_col1\" class=\"data row1 col1\" >0.000000</td>\n",
       "      <td id=\"T_7d246_row1_col2\" class=\"data row1 col2\" >0.000000</td>\n",
       "      <td id=\"T_7d246_row1_col3\" class=\"data row1 col3\" >0.190000</td>\n",
       "      <td id=\"T_7d246_row1_col4\" class=\"data row1 col4\" >0.000000</td>\n",
       "    </tr>\n",
       "    <tr>\n",
       "      <th id=\"T_7d246_level0_row2\" class=\"row_heading level0 row2\" >None</th>\n",
       "      <td id=\"T_7d246_row2_col0\" class=\"data row2 col0\" >0.000000</td>\n",
       "      <td id=\"T_7d246_row2_col1\" class=\"data row2 col1\" >0.000000</td>\n",
       "      <td id=\"T_7d246_row2_col2\" class=\"data row2 col2\" >0.370000</td>\n",
       "      <td id=\"T_7d246_row2_col3\" class=\"data row2 col3\" >0.480000</td>\n",
       "      <td id=\"T_7d246_row2_col4\" class=\"data row2 col4\" >0.410000</td>\n",
       "    </tr>\n",
       "    <tr>\n",
       "      <th id=\"T_7d246_level0_row3\" class=\"row_heading level0 row3\" >closed</th>\n",
       "      <td id=\"T_7d246_row3_col0\" class=\"data row3 col0\" >0.000000</td>\n",
       "      <td id=\"T_7d246_row3_col1\" class=\"data row3 col1\" >0.000000</td>\n",
       "      <td id=\"T_7d246_row3_col2\" class=\"data row3 col2\" >0.020000</td>\n",
       "      <td id=\"T_7d246_row3_col3\" class=\"data row3 col3\" >0.000000</td>\n",
       "      <td id=\"T_7d246_row3_col4\" class=\"data row3 col4\" >0.000000</td>\n",
       "    </tr>\n",
       "    <tr>\n",
       "      <th id=\"T_7d246_level0_row4\" class=\"row_heading level0 row4\" >no</th>\n",
       "      <td id=\"T_7d246_row4_col0\" class=\"data row4 col0\" >0.300000</td>\n",
       "      <td id=\"T_7d246_row4_col1\" class=\"data row4 col1\" >0.340000</td>\n",
       "      <td id=\"T_7d246_row4_col2\" class=\"data row4 col2\" >0.000000</td>\n",
       "      <td id=\"T_7d246_row4_col3\" class=\"data row4 col3\" >0.150000</td>\n",
       "      <td id=\"T_7d246_row4_col4\" class=\"data row4 col4\" >0.050000</td>\n",
       "    </tr>\n",
       "    <tr>\n",
       "      <th id=\"T_7d246_level0_row5\" class=\"row_heading level0 row5\" >open</th>\n",
       "      <td id=\"T_7d246_row5_col0\" class=\"data row5 col0\" >0.000000</td>\n",
       "      <td id=\"T_7d246_row5_col1\" class=\"data row5 col1\" >0.000000</td>\n",
       "      <td id=\"T_7d246_row5_col2\" class=\"data row5 col2\" >0.610000</td>\n",
       "      <td id=\"T_7d246_row5_col3\" class=\"data row5 col3\" >0.000000</td>\n",
       "      <td id=\"T_7d246_row5_col4\" class=\"data row5 col4\" >0.000000</td>\n",
       "    </tr>\n",
       "    <tr>\n",
       "      <th id=\"T_7d246_level0_row6\" class=\"row_heading level0 row6\" >yes</th>\n",
       "      <td id=\"T_7d246_row6_col0\" class=\"data row6 col0\" >0.700000</td>\n",
       "      <td id=\"T_7d246_row6_col1\" class=\"data row6 col1\" >0.660000</td>\n",
       "      <td id=\"T_7d246_row6_col2\" class=\"data row6 col2\" >0.000000</td>\n",
       "      <td id=\"T_7d246_row6_col3\" class=\"data row6 col3\" >0.000000</td>\n",
       "      <td id=\"T_7d246_row6_col4\" class=\"data row6 col4\" >0.540000</td>\n",
       "    </tr>\n",
       "  </tbody>\n",
       "</table>\n"
      ],
      "text/plain": [
       "<pandas.io.formats.style.Styler at 0x7f92ee8494b0>"
      ]
     },
     "execution_count": 24,
     "metadata": {},
     "output_type": "execute_result"
    }
   ],
   "source": [
    "result_df.round(2).style.background_gradient()"
   ]
  },
  {
   "cell_type": "markdown",
   "id": "0b19d7c5-088f-46b5-b59b-58484e1b6731",
   "metadata": {},
   "source": [
    "### Summary Tables"
   ]
  },
  {
   "cell_type": "code",
   "execution_count": 25,
   "id": "b9d57eeb-5b72-4324-baf7-8f9a24022b64",
   "metadata": {},
   "outputs": [],
   "source": [
    "sum_cols = [\n",
    "    \"funds_to_benefit_dac\",\n",
    "    \"total_project_request_99314_+_99313\",\n",
    "    \"total_project_cost\",\n",
    "    \"vmt_reduction\",\n",
    "    \"ghg_reduction__mtco2e_\",\n",
    "    \"diesel_pm_reductions__lbs_\",\n",
    "    \"nox_reductions__lbs_\",\n",
    "    \"pm_2_5_reductions__lbs_\",\n",
    "    \"reactive_organic_gas_reduction__lbs_\",\n",
    "    \"fossil_fuel_use_reduction__transportation_\",\n",
    "    \"ridership_increase\",\n",
    "    \"fossil_fuel_use_reduction__energy_\",\n",
    "    \"renewable_energy_generation__kwh_\",\n",
    "]\n",
    "nunique_cols = [\"project_id#\", \"lead_agency\"]"
   ]
  },
  {
   "cell_type": "code",
   "execution_count": 26,
   "id": "dc6f93c2-b847-4efa-9658-4d7c4bc54804",
   "metadata": {},
   "outputs": [
    {
     "name": "stderr",
     "output_type": "stream",
     "text": [
      "/home/jovyan/data-analyses/lctop/A1_data_prep.py:87: FutureWarning: The default value of regex will change from True to False in a future version.\n"
     ]
    }
   ],
   "source": [
    "funding_year_summary = geography_utils.aggregate_by_geography(\n",
    "    df2, group_cols=[\"funding_year\"], nunique_cols=nunique_cols, sum_cols=sum_cols\n",
    ")\n",
    "\n",
    "funding_year_summary = (\n",
    "    data_prep.cols_cleanup(funding_year_summary)\n",
    "    .sort_values(\"Funding Year\")\n",
    "    .rename(columns={\"Lead Agency\": \"# of Agencies\", \"Project Id#\": \"# of Projects\"})\n",
    ")"
   ]
  },
  {
   "cell_type": "code",
   "execution_count": 27,
   "id": "5358f6a4-787b-41f6-a2e7-cd776a132bbd",
   "metadata": {},
   "outputs": [
    {
     "data": {
      "text/html": [
       "<div>\n",
       "<style scoped>\n",
       "    .dataframe tbody tr th:only-of-type {\n",
       "        vertical-align: middle;\n",
       "    }\n",
       "\n",
       "    .dataframe tbody tr th {\n",
       "        vertical-align: top;\n",
       "    }\n",
       "\n",
       "    .dataframe thead th {\n",
       "        text-align: right;\n",
       "    }\n",
       "</style>\n",
       "<table border=\"1\" class=\"dataframe\">\n",
       "  <thead>\n",
       "    <tr style=\"text-align: right;\">\n",
       "      <th></th>\n",
       "      <th>Funding Year</th>\n",
       "      <th>Diesel Pm Reductions  Lbs</th>\n",
       "      <th>Fossil Fuel Use Reduction  Energy</th>\n",
       "      <th>Fossil Fuel Use Reduction  Transportation</th>\n",
       "      <th>Funds To Benefit Dac</th>\n",
       "      <th>Ghg Reduction  Mtco2E</th>\n",
       "      <th>Nox Reductions  Lbs</th>\n",
       "      <th>Pm 2 5 Reductions  Lbs</th>\n",
       "      <th>Reactive Organic Gas Reduction  Lbs</th>\n",
       "      <th>Renewable Energy Generation  Kwh</th>\n",
       "      <th>Ridership Increase</th>\n",
       "      <th>Total Project Cost</th>\n",
       "      <th>Total Project Request 99314 + 99313</th>\n",
       "      <th>Vmt Reduction</th>\n",
       "      <th># of Agencies</th>\n",
       "      <th># of Projects</th>\n",
       "    </tr>\n",
       "  </thead>\n",
       "  <tbody>\n",
       "    <tr>\n",
       "      <th>0</th>\n",
       "      <td>14-15</td>\n",
       "      <td>0.000000e+00</td>\n",
       "      <td>0.000000e+00</td>\n",
       "      <td>0.000000e+00</td>\n",
       "      <td>22753617.00</td>\n",
       "      <td>0.000000e+00</td>\n",
       "      <td>0.000000e+00</td>\n",
       "      <td>0.000000e+00</td>\n",
       "      <td>0.000000e+00</td>\n",
       "      <td>0.0</td>\n",
       "      <td>0.000000e+00</td>\n",
       "      <td>0.000000e+00</td>\n",
       "      <td>24165593.0</td>\n",
       "      <td>0.000000e+00</td>\n",
       "      <td>83</td>\n",
       "      <td>95</td>\n",
       "    </tr>\n",
       "    <tr>\n",
       "      <th>1</th>\n",
       "      <td>15-16</td>\n",
       "      <td>0.000000e+00</td>\n",
       "      <td>0.000000e+00</td>\n",
       "      <td>0.000000e+00</td>\n",
       "      <td>69453304.00</td>\n",
       "      <td>1.073481e+04</td>\n",
       "      <td>0.000000e+00</td>\n",
       "      <td>0.000000e+00</td>\n",
       "      <td>0.000000e+00</td>\n",
       "      <td>0.0</td>\n",
       "      <td>2.368380e+05</td>\n",
       "      <td>5.328010e+08</td>\n",
       "      <td>74700760.0</td>\n",
       "      <td>1.193036e+06</td>\n",
       "      <td>107</td>\n",
       "      <td>132</td>\n",
       "    </tr>\n",
       "    <tr>\n",
       "      <th>2</th>\n",
       "      <td>16-17</td>\n",
       "      <td>0.000000e+00</td>\n",
       "      <td>0.000000e+00</td>\n",
       "      <td>0.000000e+00</td>\n",
       "      <td>29652105.00</td>\n",
       "      <td>4.161658e+06</td>\n",
       "      <td>0.000000e+00</td>\n",
       "      <td>0.000000e+00</td>\n",
       "      <td>0.000000e+00</td>\n",
       "      <td>0.0</td>\n",
       "      <td>7.265336e+08</td>\n",
       "      <td>2.625839e+09</td>\n",
       "      <td>34539105.0</td>\n",
       "      <td>1.018104e+10</td>\n",
       "      <td>105</td>\n",
       "      <td>126</td>\n",
       "    </tr>\n",
       "    <tr>\n",
       "      <th>3</th>\n",
       "      <td>17-18</td>\n",
       "      <td>7.274582e+04</td>\n",
       "      <td>3.110295e+06</td>\n",
       "      <td>0.000000e+00</td>\n",
       "      <td>66033836.71</td>\n",
       "      <td>3.615715e+06</td>\n",
       "      <td>1.796139e+07</td>\n",
       "      <td>6.073385e+05</td>\n",
       "      <td>1.143040e+06</td>\n",
       "      <td>0.0</td>\n",
       "      <td>1.728538e+09</td>\n",
       "      <td>2.526653e+09</td>\n",
       "      <td>96864564.5</td>\n",
       "      <td>7.682500e+09</td>\n",
       "      <td>109</td>\n",
       "      <td>152</td>\n",
       "    </tr>\n",
       "    <tr>\n",
       "      <th>4</th>\n",
       "      <td>18-19</td>\n",
       "      <td>3.431726e+05</td>\n",
       "      <td>0.000000e+00</td>\n",
       "      <td>7.416759e+07</td>\n",
       "      <td>91638903.30</td>\n",
       "      <td>3.062603e+06</td>\n",
       "      <td>1.141796e+07</td>\n",
       "      <td>4.694226e+05</td>\n",
       "      <td>1.476528e+06</td>\n",
       "      <td>0.0</td>\n",
       "      <td>7.098338e+08</td>\n",
       "      <td>4.137513e+09</td>\n",
       "      <td>146949406.0</td>\n",
       "      <td>4.593430e+09</td>\n",
       "      <td>120</td>\n",
       "      <td>180</td>\n",
       "    </tr>\n",
       "    <tr>\n",
       "      <th>5</th>\n",
       "      <td>19-20</td>\n",
       "      <td>1.428119e+06</td>\n",
       "      <td>-5.766985e+08</td>\n",
       "      <td>8.623977e+07</td>\n",
       "      <td>79344810.00</td>\n",
       "      <td>2.431934e+06</td>\n",
       "      <td>1.155675e+07</td>\n",
       "      <td>1.408619e+06</td>\n",
       "      <td>4.032265e+06</td>\n",
       "      <td>3360000.0</td>\n",
       "      <td>2.058798e+08</td>\n",
       "      <td>2.889874e+09</td>\n",
       "      <td>146054354.0</td>\n",
       "      <td>3.096126e+09</td>\n",
       "      <td>110</td>\n",
       "      <td>166</td>\n",
       "    </tr>\n",
       "  </tbody>\n",
       "</table>\n",
       "</div>"
      ],
      "text/plain": [
       "  Funding Year  Diesel Pm Reductions  Lbs  Fossil Fuel Use Reduction  Energy  \\\n",
       "0        14-15               0.000000e+00                       0.000000e+00   \n",
       "1        15-16               0.000000e+00                       0.000000e+00   \n",
       "2        16-17               0.000000e+00                       0.000000e+00   \n",
       "3        17-18               7.274582e+04                       3.110295e+06   \n",
       "4        18-19               3.431726e+05                       0.000000e+00   \n",
       "5        19-20               1.428119e+06                      -5.766985e+08   \n",
       "\n",
       "   Fossil Fuel Use Reduction  Transportation  Funds To Benefit Dac  \\\n",
       "0                               0.000000e+00           22753617.00   \n",
       "1                               0.000000e+00           69453304.00   \n",
       "2                               0.000000e+00           29652105.00   \n",
       "3                               0.000000e+00           66033836.71   \n",
       "4                               7.416759e+07           91638903.30   \n",
       "5                               8.623977e+07           79344810.00   \n",
       "\n",
       "   Ghg Reduction  Mtco2E  Nox Reductions  Lbs  Pm 2 5 Reductions  Lbs  \\\n",
       "0           0.000000e+00         0.000000e+00            0.000000e+00   \n",
       "1           1.073481e+04         0.000000e+00            0.000000e+00   \n",
       "2           4.161658e+06         0.000000e+00            0.000000e+00   \n",
       "3           3.615715e+06         1.796139e+07            6.073385e+05   \n",
       "4           3.062603e+06         1.141796e+07            4.694226e+05   \n",
       "5           2.431934e+06         1.155675e+07            1.408619e+06   \n",
       "\n",
       "   Reactive Organic Gas Reduction  Lbs  Renewable Energy Generation  Kwh  \\\n",
       "0                         0.000000e+00                               0.0   \n",
       "1                         0.000000e+00                               0.0   \n",
       "2                         0.000000e+00                               0.0   \n",
       "3                         1.143040e+06                               0.0   \n",
       "4                         1.476528e+06                               0.0   \n",
       "5                         4.032265e+06                         3360000.0   \n",
       "\n",
       "   Ridership Increase  Total Project Cost  \\\n",
       "0        0.000000e+00        0.000000e+00   \n",
       "1        2.368380e+05        5.328010e+08   \n",
       "2        7.265336e+08        2.625839e+09   \n",
       "3        1.728538e+09        2.526653e+09   \n",
       "4        7.098338e+08        4.137513e+09   \n",
       "5        2.058798e+08        2.889874e+09   \n",
       "\n",
       "   Total Project Request 99314 + 99313  Vmt Reduction  # of Agencies  \\\n",
       "0                           24165593.0   0.000000e+00             83   \n",
       "1                           74700760.0   1.193036e+06            107   \n",
       "2                           34539105.0   1.018104e+10            105   \n",
       "3                           96864564.5   7.682500e+09            109   \n",
       "4                          146949406.0   4.593430e+09            120   \n",
       "5                          146054354.0   3.096126e+09            110   \n",
       "\n",
       "   # of Projects  \n",
       "0             95  \n",
       "1            132  \n",
       "2            126  \n",
       "3            152  \n",
       "4            180  \n",
       "5            166  "
      ]
     },
     "execution_count": 27,
     "metadata": {},
     "output_type": "execute_result"
    }
   ],
   "source": [
    "funding_year_summary"
   ]
  },
  {
   "cell_type": "code",
   "execution_count": 28,
   "id": "d24c9818-2a42-43a0-9cd4-87ce759f5c27",
   "metadata": {
    "tags": []
   },
   "outputs": [
    {
     "name": "stderr",
     "output_type": "stream",
     "text": [
      "/home/jovyan/data-analyses/lctop/A1_data_prep.py:87: FutureWarning: The default value of regex will change from True to False in a future version.\n"
     ]
    }
   ],
   "source": [
    "project_type_summary = geography_utils.aggregate_by_geography(\n",
    "    df2,\n",
    "    group_cols=[\"project_sub_type_ii\"],\n",
    "    nunique_cols=nunique_cols,\n",
    "    sum_cols=sum_cols,\n",
    ")\n",
    "\n",
    "project_type_summary = (\n",
    "    data_prep.cols_cleanup(project_type_summary)\n",
    "    .sort_values(\"Lead Agency\")\n",
    "    .rename(columns={\"Lead Agency\": \"# of Agencies\", \"Project Id#\": \"# of Projects\"})\n",
    ")"
   ]
  },
  {
   "cell_type": "code",
   "execution_count": 29,
   "id": "d915bc61-cc39-4347-83a3-ee8a3895c303",
   "metadata": {
    "tags": []
   },
   "outputs": [
    {
     "data": {
      "text/plain": [
       "851"
      ]
     },
     "execution_count": 29,
     "metadata": {},
     "output_type": "execute_result"
    }
   ],
   "source": [
    "project_type_summary['# of Projects'].sum()"
   ]
  },
  {
   "cell_type": "code",
   "execution_count": 30,
   "id": "2a7c8040-e646-4c12-879a-3001277cee2c",
   "metadata": {},
   "outputs": [
    {
     "data": {
      "text/plain": [
       "358876576.01"
      ]
     },
     "execution_count": 30,
     "metadata": {},
     "output_type": "execute_result"
    }
   ],
   "source": [
    "project_type_summary['Funds To Benefit Dac'].sum()"
   ]
  },
  {
   "cell_type": "code",
   "execution_count": 31,
   "id": "be339179-d913-433c-86ae-333750eaef4e",
   "metadata": {
    "tags": []
   },
   "outputs": [
    {
     "data": {
      "text/plain": [
       "358876576.01"
      ]
     },
     "execution_count": 31,
     "metadata": {},
     "output_type": "execute_result"
    }
   ],
   "source": [
    "district_summary['Funds To Benefit Dac'].sum()"
   ]
  },
  {
   "cell_type": "code",
   "execution_count": 32,
   "id": "b183c38c-6b62-4806-b707-6c5eac296ff1",
   "metadata": {},
   "outputs": [
    {
     "data": {
      "text/plain": [
       "851"
      ]
     },
     "execution_count": 32,
     "metadata": {},
     "output_type": "execute_result"
    }
   ],
   "source": [
    "district_summary['# of Projects'].sum()"
   ]
  },
  {
   "cell_type": "markdown",
   "id": "39e1a14d-76f6-492c-b445-646acb7f55e3",
   "metadata": {},
   "source": [
    "## Lat Lon\n",
    "\n",
    "* https://geopandas.org/en/stable/docs/user_guide/mapping.html"
   ]
  },
  {
   "cell_type": "code",
   "execution_count": 33,
   "id": "3591b387-cdb0-448d-985c-d59b7a291348",
   "metadata": {},
   "outputs": [],
   "source": [
    "# Get only values w/ lon and lat\n",
    "df3 = df2.loc[df2[\"project_location\"] != \"None\"]"
   ]
  },
  {
   "cell_type": "code",
   "execution_count": 34,
   "id": "8739a0f5-651f-4278-b6a0-974be6ee06cb",
   "metadata": {},
   "outputs": [
    {
     "name": "stderr",
     "output_type": "stream",
     "text": [
      "/tmp/ipykernel_1856/753434518.py:3: SettingWithCopyWarning: \n",
      "A value is trying to be set on a copy of a slice from a DataFrame.\n",
      "Try using .loc[row_indexer,col_indexer] = value instead\n",
      "\n",
      "See the caveats in the documentation: https://pandas.pydata.org/pandas-docs/stable/user_guide/indexing.html#returning-a-view-versus-a-copy\n"
     ]
    }
   ],
   "source": [
    "#Some rows have tons of coordinates such as 37.37364, -118.39187; 37.41964, -118.55522; 37.5613, -118.6812; 37.56543, -118.74272; 37.63860, -118.96520\n",
    "#keep only first one.\n",
    "df3[\"project_location_2\"] = df1[\"project_location\"].str.split(\";\").str[0]"
   ]
  },
  {
   "cell_type": "code",
   "execution_count": 35,
   "id": "dd6890f4-44a9-4fbc-9af4-4974225e7539",
   "metadata": {},
   "outputs": [
    {
     "name": "stderr",
     "output_type": "stream",
     "text": [
      "/tmp/ipykernel_1856/2233626924.py:1: SettingWithCopyWarning: \n",
      "A value is trying to be set on a copy of a slice from a DataFrame.\n",
      "Try using .loc[row_indexer,col_indexer] = value instead\n",
      "\n",
      "See the caveats in the documentation: https://pandas.pydata.org/pandas-docs/stable/user_guide/indexing.html#returning-a-view-versus-a-copy\n",
      "/tmp/ipykernel_1856/2233626924.py:1: SettingWithCopyWarning: \n",
      "A value is trying to be set on a copy of a slice from a DataFrame.\n",
      "Try using .loc[row_indexer,col_indexer] = value instead\n",
      "\n",
      "See the caveats in the documentation: https://pandas.pydata.org/pandas-docs/stable/user_guide/indexing.html#returning-a-view-versus-a-copy\n"
     ]
    }
   ],
   "source": [
    "df3[[\"lat\",\"lon\"]] = (\n",
    "    df3[\"project_location_2\"]\n",
    "    .str.split(\",\", 1, expand=True)\n",
    "    .apply(pd.to_numeric, errors=\"coerce\")\n",
    "    .fillna(0)\n",
    "    .astype('float')\n",
    ")"
   ]
  },
  {
   "cell_type": "code",
   "execution_count": 36,
   "id": "e877e0df-ba9c-46f4-a955-5fc9b5513276",
   "metadata": {},
   "outputs": [
    {
     "data": {
      "text/plain": [
       "371"
      ]
     },
     "execution_count": 36,
     "metadata": {},
     "output_type": "execute_result"
    }
   ],
   "source": [
    "#Only get values that are populated\n",
    "df3 = df3[(df3[\"lon\"] != 0) & (df3[\"lat\"] != 0)]\n",
    "len(df3)"
   ]
  },
  {
   "cell_type": "code",
   "execution_count": 37,
   "id": "44b5f232-dd31-4ffb-bb58-281285ad9d4c",
   "metadata": {},
   "outputs": [
    {
     "data": {
      "text/html": [
       "<div>\n",
       "<style scoped>\n",
       "    .dataframe tbody tr th:only-of-type {\n",
       "        vertical-align: middle;\n",
       "    }\n",
       "\n",
       "    .dataframe tbody tr th {\n",
       "        vertical-align: top;\n",
       "    }\n",
       "\n",
       "    .dataframe thead th {\n",
       "        text-align: right;\n",
       "    }\n",
       "</style>\n",
       "<table border=\"1\" class=\"dataframe\">\n",
       "  <thead>\n",
       "    <tr style=\"text-align: right;\">\n",
       "      <th></th>\n",
       "      <th>project_location</th>\n",
       "      <th>project_location_2</th>\n",
       "      <th>lon</th>\n",
       "      <th>lat</th>\n",
       "    </tr>\n",
       "  </thead>\n",
       "  <tbody>\n",
       "    <tr>\n",
       "      <th>398</th>\n",
       "      <td>38.246659, -122.054503</td>\n",
       "      <td>38.246659, -122.054503</td>\n",
       "      <td>-122.054503</td>\n",
       "      <td>38.246659</td>\n",
       "    </tr>\n",
       "    <tr>\n",
       "      <th>356</th>\n",
       "      <td>39.046861, -122.914917</td>\n",
       "      <td>39.046861, -122.914917</td>\n",
       "      <td>-122.914917</td>\n",
       "      <td>39.046861</td>\n",
       "    </tr>\n",
       "    <tr>\n",
       "      <th>757</th>\n",
       "      <td>36.666302, -121.804033;</td>\n",
       "      <td>36.666302, -121.804033</td>\n",
       "      <td>-121.804033</td>\n",
       "      <td>36.666302</td>\n",
       "    </tr>\n",
       "    <tr>\n",
       "      <th>407</th>\n",
       "      <td>37.7667669329, -122.387821782</td>\n",
       "      <td>37.7667669329, -122.387821782</td>\n",
       "      <td>-122.387822</td>\n",
       "      <td>37.766767</td>\n",
       "    </tr>\n",
       "    <tr>\n",
       "      <th>96</th>\n",
       "      <td>40.598805, -124.155266; 40.954692, -124.110337</td>\n",
       "      <td>40.598805, -124.155266</td>\n",
       "      <td>-124.155266</td>\n",
       "      <td>40.598805</td>\n",
       "    </tr>\n",
       "  </tbody>\n",
       "</table>\n",
       "</div>"
      ],
      "text/plain": [
       "                                   project_location  \\\n",
       "398                          38.246659, -122.054503   \n",
       "356                          39.046861, -122.914917   \n",
       "757                         36.666302, -121.804033;   \n",
       "407                   37.7667669329, -122.387821782   \n",
       "96   40.598805, -124.155266; 40.954692, -124.110337   \n",
       "\n",
       "                project_location_2         lon        lat  \n",
       "398         38.246659, -122.054503 -122.054503  38.246659  \n",
       "356         39.046861, -122.914917 -122.914917  39.046861  \n",
       "757         36.666302, -121.804033 -121.804033  36.666302  \n",
       "407  37.7667669329, -122.387821782 -122.387822  37.766767  \n",
       "96          40.598805, -124.155266 -124.155266  40.598805  "
      ]
     },
     "execution_count": 37,
     "metadata": {},
     "output_type": "execute_result"
    }
   ],
   "source": [
    "df3[['project_location','project_location_2','lon','lat']].sample(5)"
   ]
  },
  {
   "cell_type": "code",
   "execution_count": 38,
   "id": "30d9b442-7d7b-4059-89c8-44bba8fa82c1",
   "metadata": {},
   "outputs": [],
   "source": [
    "gdf1 = geography_utils.create_point_geometry(df3, 'lon', 'lat')"
   ]
  },
  {
   "cell_type": "code",
   "execution_count": 39,
   "id": "d4fb7a5b-7983-430b-b6b1-68c6cee620a0",
   "metadata": {},
   "outputs": [
    {
     "data": {
      "text/plain": [
       "geopandas.geodataframe.GeoDataFrame"
      ]
     },
     "execution_count": 39,
     "metadata": {},
     "output_type": "execute_result"
    }
   ],
   "source": [
    "type(gdf1)"
   ]
  },
  {
   "cell_type": "code",
   "execution_count": 40,
   "id": "c8ddc52b-0697-47e3-9647-26a496f2fd22",
   "metadata": {},
   "outputs": [
    {
     "data": {
      "text/plain": [
       "(-121.4860583, 41.909209)"
      ]
     },
     "execution_count": 40,
     "metadata": {},
     "output_type": "execute_result"
    }
   ],
   "source": [
    "gdf1.lat.min(), gdf1.lat.max()"
   ]
  },
  {
   "cell_type": "code",
   "execution_count": 41,
   "id": "8fbb00a5-ed73-4e0a-bcd0-c06439f5de70",
   "metadata": {},
   "outputs": [
    {
     "data": {
      "text/plain": [
       "(-117926838.0, 119.573668)"
      ]
     },
     "execution_count": 41,
     "metadata": {},
     "output_type": "execute_result"
    }
   ],
   "source": [
    "gdf1.lon.min(), gdf1.lon.max()"
   ]
  },
  {
   "cell_type": "code",
   "execution_count": 42,
   "id": "c66b31f6-f6f7-40e3-a894-8d6a75bd1e79",
   "metadata": {},
   "outputs": [],
   "source": [
    "#Replace the longtitude manually that is out of bounds \n",
    "#Didn't work.\n",
    "#gdf1.loc[(gdf1[\"project_id#\"] == \"18-19-D12-181\"), \"lon\"] = -117.923638"
   ]
  },
  {
   "cell_type": "code",
   "execution_count": 43,
   "id": "5a4f9131-7afb-4cc0-a495-0ad01dfa6427",
   "metadata": {},
   "outputs": [],
   "source": [
    "gdf1 = gdf1.loc[gdf1[\"lon\"] > -180]"
   ]
  },
  {
   "cell_type": "code",
   "execution_count": 44,
   "id": "18af4065-7d41-4fe8-93c3-3697cd6027c5",
   "metadata": {},
   "outputs": [
    {
     "data": {
      "text/plain": [
       "(370, 63)"
      ]
     },
     "execution_count": 44,
     "metadata": {},
     "output_type": "execute_result"
    }
   ],
   "source": [
    "gdf1.shape"
   ]
  },
  {
   "cell_type": "code",
   "execution_count": 45,
   "id": "7672eb02-593f-4b63-ba77-4baf4d26593f",
   "metadata": {
    "tags": []
   },
   "outputs": [
    {
     "data": {
      "text/plain": [
       "<Geographic 2D CRS: EPSG:4326>\n",
       "Name: WGS 84\n",
       "Axis Info [ellipsoidal]:\n",
       "- Lat[north]: Geodetic latitude (degree)\n",
       "- Lon[east]: Geodetic longitude (degree)\n",
       "Area of Use:\n",
       "- name: World.\n",
       "- bounds: (-180.0, -90.0, 180.0, 90.0)\n",
       "Datum: World Geodetic System 1984 ensemble\n",
       "- Ellipsoid: WGS 84\n",
       "- Prime Meridian: Greenwich"
      ]
     },
     "execution_count": 45,
     "metadata": {},
     "output_type": "execute_result"
    }
   ],
   "source": [
    "gdf1.crs"
   ]
  },
  {
   "cell_type": "code",
   "execution_count": 46,
   "id": "d16ac900-d6be-4580-8f82-8c18143b7b18",
   "metadata": {},
   "outputs": [
    {
     "data": {
      "text/plain": [
       "<AxesSubplot:>"
      ]
     },
     "execution_count": 46,
     "metadata": {},
     "output_type": "execute_result"
    },
    {
     "data": {
      "image/png": "[encoded data removed]",
      "text/plain": [
       "<Figure size 640x480 with 1 Axes>"
      ]
     },
     "metadata": {},
     "output_type": "display_data"
    }
   ],
   "source": [
    "gdf1[['geometry']].plot()"
   ]
  },
  {
   "cell_type": "code",
   "execution_count": 47,
   "id": "fa4633b9-444f-4c6b-bc37-977a00508084",
   "metadata": {},
   "outputs": [
    {
     "data": {
      "image/png": "[encoded data removed]",
      "text/plain": [
       "<Figure size 640x480 with 1 Axes>"
      ]
     },
     "metadata": {},
     "output_type": "display_data"
    }
   ],
   "source": [
    "base = gdf_dist.plot(color='white', edgecolor='black')"
   ]
  },
  {
   "cell_type": "code",
   "execution_count": 48,
   "id": "0b9e86c7-9f44-4ee1-8811-7b83dd689483",
   "metadata": {},
   "outputs": [],
   "source": [
    "gdf1 = gdf1.to_crs(gdf_dist.crs)"
   ]
  },
  {
   "cell_type": "code",
   "execution_count": 49,
   "id": "b47cfa5f-ea12-4d5e-8f20-8903526824c3",
   "metadata": {},
   "outputs": [
    {
     "data": {
      "text/plain": [
       "<Figure size 640x480 with 0 Axes>"
      ]
     },
     "metadata": {},
     "output_type": "display_data"
    }
   ],
   "source": [
    "gdf1.plot(ax=base,  color='red', markersize=5);"
   ]
  }
 ],
 "metadata": {
  "kernelspec": {
   "display_name": "Python 3 (ipykernel)",
   "language": "python",
   "name": "python3"
  },
  "language_info": {
   "codemirror_mode": {
    "name": "ipython",
    "version": 3
   },
   "file_extension": ".py",
   "mimetype": "text/x-python",
   "name": "python",
   "nbconvert_exporter": "python",
   "pygments_lexer": "ipython3",
   "version": "3.10.5"
  }
 },
 "nbformat": 4,
 "nbformat_minor": 5
}
