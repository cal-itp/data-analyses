{
 "cells": [
  {
   "cell_type": "markdown",
   "id": "05e855fb-6dd3-4794-9712-ba236e147c73",
   "metadata": {},
   "source": [
    "# First look/Clean Up\n",
    "\n",
    "* Helpful Links\n",
    "* [Priority Population/DAC](https://dot.ca.gov/programs/rail-and-mass-transportation/priority-populations-and-disadvantaged-communities)"
   ]
  },
  {
   "cell_type": "code",
   "execution_count": null,
   "id": "48f6c75b-1f98-41cf-89bc-dd7c9f0ce840",
   "metadata": {},
   "outputs": [],
   "source": [
    "import numpy as np\n",
    "import pandas as pd\n",
    "import geopandas as gpd\n",
    "from siuba import *\n",
    "from calitp import *\n",
    "from shared_utils import geography_utils, utils\n",
    "import difflib\n",
    "from calitp.storage import get_fs\n",
    "fs = get_fs()\n",
    "import os\n",
    "\n",
    "#Formatting the nb \n",
    "pd.options.display.max_columns = 100\n",
    "pd.set_option(\"display.max_rows\", None)\n",
    "pd.set_option(\"display.max_colwidth\", None)\n",
    "pd.options.display.float_format = \"{:.2f}\".format"
   ]
  },
  {
   "cell_type": "code",
   "execution_count": null,
   "id": "0f5fe564-d93e-43f1-94fa-09ef723a0bc8",
   "metadata": {},
   "outputs": [],
   "source": [
    "GCS_FILE_PATH = \"gs://calitp-analytics-data/data-analyses/lctop/\"\n",
    "Caltrans_shape = \"https://gis.data.ca.gov/datasets/0144574f750f4ccc88749004aca6eb0c_0.geojson?outSR=%7B%22latestWkid%22%3A3857%2C%22wkid%22%3A102100%7D\"\n",
    "FILE_NAME = \"LCTOP_allyears.xlsx\""
   ]
  },
  {
   "cell_type": "code",
   "execution_count": null,
   "id": "8a712c90-4765-4afb-ba31-8d166d7b13c6",
   "metadata": {},
   "outputs": [],
   "source": [
    "df1 = to_snakecase(pd.read_excel(f\"{GCS_FILE_PATH}{FILE_NAME}\", sheet_name=\"LCTOP_Projects\"))"
   ]
  },
  {
   "cell_type": "markdown",
   "id": "ecf1dc3e-9185-46d8-a94a-275196cb7f0c",
   "metadata": {},
   "source": [
    "## Checking out the raw data"
   ]
  },
  {
   "cell_type": "code",
   "execution_count": null,
   "id": "28f7bfa5-f468-4d8a-9707-f897bed0f888",
   "metadata": {},
   "outputs": [],
   "source": [
    "df1.shape"
   ]
  },
  {
   "cell_type": "code",
   "execution_count": null,
   "id": "f8e0d5ba-ca41-4949-b4dd-efc8fff34c28",
   "metadata": {
    "scrolled": true,
    "tags": []
   },
   "outputs": [],
   "source": [
    "df1.info()"
   ]
  },
  {
   "cell_type": "code",
   "execution_count": null,
   "id": "b42eeb76-f9c0-435b-a574-f275847fb8ab",
   "metadata": {
    "scrolled": true,
    "tags": []
   },
   "outputs": [],
   "source": [
    "#Get percentages of how many null values per column\n",
    "df1.isnull().sum() * 100 / len(df1)"
   ]
  },
  {
   "cell_type": "code",
   "execution_count": null,
   "id": "577a255f-5118-4b57-ad7a-6f6ebc6fcee6",
   "metadata": {},
   "outputs": [],
   "source": [
    "#Check out that values are what I expect for certain columns\n",
    "value_count_cols = [\n",
    "    \"project_type\",\"lead_agency\",\"distr_\", \"project_name\", \"project_id#\", \"project_sub_type_ii\"]"
   ]
  },
  {
   "cell_type": "code",
   "execution_count": null,
   "id": "b87580c8-13d6-4057-9204-5ab7a22f899e",
   "metadata": {
    "scrolled": true,
    "tags": []
   },
   "outputs": [],
   "source": [
    "# https://stackoverflow.com/questions/32589829/how-to-get-value-counts-for-multiple-columns-at-once-in-pandas-dataframe\n",
    "'''\n",
    "for column in df1[value_count_cols]:\n",
    "    print(\"\\n\" + column)\n",
    "    print(df1[column].value_counts())\n",
    "    \n",
    "''' "
   ]
  },
  {
   "cell_type": "code",
   "execution_count": null,
   "id": "e6d8a75c-ee4c-4ffa-b1dd-f6e8a15cce06",
   "metadata": {},
   "outputs": [],
   "source": [
    "#Find nunique values \n",
    "for column in df1[value_count_cols]:\n",
    "    print(\"\\n\" + column)\n",
    "    print(df1[column].nunique())"
   ]
  },
  {
   "cell_type": "markdown",
   "id": "53e8c6f2-5769-4e73-ab84-77d5e52ecbe1",
   "metadata": {},
   "source": [
    "### Some of the monetary columns aren't filled - double check \n",
    "* Re calculate the percentage cols: lctop % of total project funds \n",
    "* Re calc that total project request 993414+9913 equals PUC 99314\n",
    "    * Yes they do."
   ]
  },
  {
   "cell_type": "code",
   "execution_count": null,
   "id": "a6c4d3b9-5094-4325-be73-4d0f20d6d30b",
   "metadata": {},
   "outputs": [],
   "source": [
    "monetary_cols = [ 'puc_99313_funds', 'puc_99314_funds',\n",
    "       'total_project_request_99314_+_99313', 'total_lctop_funds',\n",
    "       'total_cci_funds', 'total_project_cost',\n",
    "       'lctop_%_of_total_project_funds']"
   ]
  },
  {
   "cell_type": "code",
   "execution_count": null,
   "id": "18f7572f-2f1c-4899-bdd0-bfe043bd32a2",
   "metadata": {},
   "outputs": [],
   "source": [
    "subset = df1[monetary_cols].fillna(0)"
   ]
  },
  {
   "cell_type": "code",
   "execution_count": null,
   "id": "49146b58-4645-49ed-b78d-c593e850dd69",
   "metadata": {},
   "outputs": [],
   "source": [
    "#https://stackoverflow.com/questions/42405572/how-to-compare-two-columns-of-the-same-dataframe\n",
    "#Compare if PUC 99313 + PUC 99314 equal to total LCTOP Fund\n",
    "subset['total_project_comp_to_total_LCTOP_funds'] = np.where(subset['total_project_request_99314_+_99313'] == subset['total_lctop_funds'], \n",
    "                                           'same','different')"
   ]
  },
  {
   "cell_type": "code",
   "execution_count": null,
   "id": "5e402250-32a3-45a8-a08c-13192c0706ca",
   "metadata": {},
   "outputs": [],
   "source": [
    "#Comapre if LCTOP equals CCI \n",
    "subset['total_lctop_cci'] = np.where(subset['total_lctop_funds'] == subset['total_cci_funds'], \n",
    "                                           'same','different')"
   ]
  },
  {
   "cell_type": "code",
   "execution_count": null,
   "id": "39517162-3f73-42bc-948d-0870704195cb",
   "metadata": {},
   "outputs": [],
   "source": [
    "#Calculate out total_project_request_99314_+_99313 and see if the results equal what was provided to me.\n",
    "subset['99314_and_99313'] = subset['puc_99313_funds'] + subset['puc_99314_funds']\n",
    "subset['my_calc_vs_og_cal'] = np.where(subset['99314_and_99313'] == subset['total_project_request_99314_+_99313'], \n",
    "                                           'same','different')"
   ]
  },
  {
   "cell_type": "code",
   "execution_count": null,
   "id": "dc867b48-767f-4d2d-adb4-e669b5ecf703",
   "metadata": {},
   "outputs": [],
   "source": [
    "#Compare total_project_request_99314_+_99313 with total CCI funds\n",
    "subset['CCI_99313_99314'] = np.where(subset['total_project_request_99314_+_99313'] == subset['total_cci_funds'], 'same',\n",
    "                                     'different')"
   ]
  },
  {
   "cell_type": "code",
   "execution_count": null,
   "id": "bfe084e6-0409-4851-ac9c-c7cf5c754fd6",
   "metadata": {},
   "outputs": [],
   "source": [
    "#Find value_counts\n",
    "value_count_cols_2 = ['total_project_comp_to_total_LCTOP_funds', 'total_lctop_cci', 'my_calc_vs_og_cal', 'CCI_99313_99314'] \n",
    "for column in subset[value_count_cols_2]:\n",
    "    print(\"\\n\" + column)\n",
    "    print(subset[column].value_counts())"
   ]
  },
  {
   "cell_type": "code",
   "execution_count": null,
   "id": "81617abc-7739-4a3a-90c0-baf43477bca0",
   "metadata": {},
   "outputs": [],
   "source": [
    "subset.sample(5)"
   ]
  },
  {
   "cell_type": "code",
   "execution_count": null,
   "id": "900c2fc2-cf63-475f-9751-eb67b5893203",
   "metadata": {
    "scrolled": true,
    "tags": []
   },
   "outputs": [],
   "source": [
    "#subset.loc[subset['my_calc_vs_og_cal'] == 'different'] "
   ]
  },
  {
   "cell_type": "markdown",
   "id": "f82685fc-acf4-41c7-8c8e-281267a0c2bd",
   "metadata": {},
   "source": [
    "## Clean Up\n",
    "* Make sure columns are the right data type\n",
    "* Find which col represents allocated amounts\n"
   ]
  },
  {
   "cell_type": "markdown",
   "id": "bbd1f85e-38f3-4b09-9ec5-0cdc0f0d2d18",
   "metadata": {},
   "source": [
    "### Drop rows with a ton of N/As"
   ]
  },
  {
   "cell_type": "code",
   "execution_count": null,
   "id": "a9300d86-bcd3-4f6b-9b46-e2d5504c750d",
   "metadata": {},
   "outputs": [],
   "source": [
    "\n",
    "df2 = df1.dropna(subset=['lead_agency', 'project_id#','project_name', 'distr_'])"
   ]
  },
  {
   "cell_type": "code",
   "execution_count": null,
   "id": "df010433-2bd3-4e84-8e16-3cfb0fccef6d",
   "metadata": {},
   "outputs": [],
   "source": [
    "f'The original dataframe is {len(df1)}  rows long but after dropping some rows with missing values, the dataframe is {len(df2)} rows long.'"
   ]
  },
  {
   "cell_type": "code",
   "execution_count": null,
   "id": "0371239e-52cd-4793-9e52-b3b6b34e1ee9",
   "metadata": {},
   "outputs": [],
   "source": [
    "df2.head(1)"
   ]
  },
  {
   "cell_type": "code",
   "execution_count": null,
   "id": "29a20f7e-237a-4e8e-933e-27a32065b209",
   "metadata": {},
   "outputs": [],
   "source": [
    "f\"There are {df2['project_id#'].nunique()} unique project IDS\""
   ]
  },
  {
   "cell_type": "markdown",
   "id": "6735ee49-b28f-4e59-b6cd-f5dbd56019ac",
   "metadata": {},
   "source": [
    "### Change Agency Names\n",
    "* Some agencies have multiple spellings of its name, clean it up"
   ]
  },
  {
   "cell_type": "code",
   "execution_count": null,
   "id": "2e095758-0e20-45ef-9563-5b5b817690ab",
   "metadata": {
    "tags": []
   },
   "outputs": [],
   "source": [
    "#Many of the same agencies are spelled slightly different ways \n",
    "#Rewrite later \n",
    "#https://stackoverflow.com/questions/24554723/str-replace-for-multiple-value-replacement\n",
    "df2['lead_agency'] = (df2['lead_agency']\n",
    "                      .str.split(\"(\")\n",
    "                      .str[0]\n",
    "                      .str.replace('[^A-Za-z\\s]+', '')\n",
    "                      .str.replace(\"Publlic\",\"Public\")\n",
    "                      .str.replace(\"Regional Transit Authority\",\"\")\n",
    "                      .str.replace(\"Agency\",\"\")\n",
    "                      .str.replace(\"Commision\",\"Commission\")\n",
    "                      .str.replace(\"Division\",\"\")\n",
    "                      .str.split(\",\")\n",
    "                      .str[0]\n",
    "                      .str.strip()\n",
    "                     )"
   ]
  },
  {
   "cell_type": "code",
   "execution_count": null,
   "id": "5092d5c5-495f-43e6-bf93-c9c4ba7e90d7",
   "metadata": {},
   "outputs": [],
   "source": [
    "df2[\"lead_agency\"] = df2[\"lead_agency\"].replace(\n",
    "    {\n",
    "        'Stanislaus County Public Works   Transit': 'Stanislaus County Public Works Transit',\n",
    "        'Stanislaus County Public Works  Transit':  'Stanislaus County Public Works Transit',\n",
    "        'Stanislaus County Public WorksTransit':  'Stanislaus County Public Works Transit',\n",
    "        'Victor ValleyTransit Authority': 'Victor Valley Transit Authority',\n",
    "        'YubaSutter Transit Authority':'Yuba Sutter Transit Authority',\n",
    "        'YubaSutter Transit':'Yuba Sutter Transit Authority',\n",
    "        'Plumas County Transportation  Commission': 'Plumas County Transportation  Commission',\n",
    "        'Modoc Transportation':'Modoc County Transportation Commission',\n",
    "         'Los Angeles County Metoropolitan Transportation Authority': 'Los Angeles County Metropolitan Transportation Authority',\n",
    "        'Calaveras Transit': 'Calaveras Transit Agnecy',\n",
    "    }\n",
    ")"
   ]
  },
  {
   "cell_type": "code",
   "execution_count": null,
   "id": "effbb823-408c-4e4b-907c-79e854b1648f",
   "metadata": {},
   "outputs": [],
   "source": [
    "\n",
    "df2['lead_agency'].nunique()"
   ]
  },
  {
   "cell_type": "code",
   "execution_count": null,
   "id": "18f382cf-6a55-494f-bbb4-bf5880ec59c3",
   "metadata": {
    "scrolled": true,
    "tags": []
   },
   "outputs": [],
   "source": [
    "#df2['lead_agency'].sort_values().unique()"
   ]
  },
  {
   "cell_type": "markdown",
   "id": "70236312-6025-4bee-9cc7-8233f1feafdb",
   "metadata": {},
   "source": [
    "### Change additional values\n",
    "* Some values are spelled YES/yes/no/No etc so lower all the characters"
   ]
  },
  {
   "cell_type": "code",
   "execution_count": null,
   "id": "0ba4059e-657d-4029-9131-1197dc3e31e9",
   "metadata": {},
   "outputs": [],
   "source": [
    "boolean_cols = ['agency_service_area_has_a_dac',\n",
    "              'does_project_benefit_an_ab_1550_dac',\n",
    "              'status',\n",
    "              'qualifying_1_2_mile_low_income_buffer_',\n",
    "               'ab_1550_low_income_community__household',\n",
    "              'does_project_benefit_an_ab_1550_dac',]"
   ]
  },
  {
   "cell_type": "code",
   "execution_count": null,
   "id": "3a531b06-785b-4392-930f-56ad2a06fb41",
   "metadata": {},
   "outputs": [],
   "source": [
    "for i in boolean_cols:\n",
    "    df2[i] = (df2[i]\n",
    "               .str.strip()\n",
    "               .str.lower()\n",
    "               .str.replace('close','closed')\n",
    "               .str.replace('closedd','closed')\n",
    "                        )"
   ]
  },
  {
   "cell_type": "markdown",
   "id": "4da09e5f-7d85-4ac2-b021-5fef707f38f8",
   "metadata": {},
   "source": [
    "### Change Counties "
   ]
  },
  {
   "cell_type": "code",
   "execution_count": null,
   "id": "db65e09b-f690-4c1b-8e06-5884b54b572b",
   "metadata": {},
   "outputs": [],
   "source": [
    "df2['county'] = df2['county'].str.replace('County','')\n"
   ]
  },
  {
   "cell_type": "markdown",
   "id": "86166bb2-0566-4e0d-a50b-03fb0ff261a9",
   "metadata": {},
   "source": [
    "### Change data types"
   ]
  },
  {
   "cell_type": "code",
   "execution_count": null,
   "id": "0cb0fbd3-c9a3-4770-b852-90cd43b4b5d3",
   "metadata": {},
   "outputs": [],
   "source": [
    "#Drop some columns especially those with a very low percentage of populated values \n",
    "df2 = df2.drop(columns = ['count', '#','column3',\n",
    "       'column4', 'column5','other_state_policies,_plans,_or_initiatives',\n",
    "       'describe_policies,_plans,_or_initiatives','#2','_d','contact_name','contact_phone_#','contact_e_mail',\n",
    "       'authorized_agent_name','authorized_agent_title','project_description__short_','project_sub_type'])"
   ]
  },
  {
   "cell_type": "code",
   "execution_count": null,
   "id": "a039091a-a2de-4f35-a0db-3d92ec2f9013",
   "metadata": {},
   "outputs": [],
   "source": [
    "#Coerce date-time columns to the correct type\n",
    "date_columns = ['qm_tool__date_', 'completion_date','start_date']\n",
    "\n",
    "for c in date_columns:\n",
    "    df2[c] = df2[c].apply(pd.to_datetime, errors='coerce')\n",
    "    "
   ]
  },
  {
   "cell_type": "code",
   "execution_count": null,
   "id": "89a69695-603f-4629-9db5-c99a570dab72",
   "metadata": {},
   "outputs": [],
   "source": [
    "missing_date = pd.to_datetime('2100-01-01')\n",
    "for i in date_columns:\n",
    "    df2[i] = (df2[i]\n",
    "            .fillna(missing_date)\n",
    "            .apply(pd.to_datetime)\n",
    "                    )"
   ]
  },
  {
   "cell_type": "code",
   "execution_count": null,
   "id": "8cecbe50-2615-4d3e-be24-08c9ead2a98c",
   "metadata": {},
   "outputs": [],
   "source": [
    "#Coerce columns from object to flat\n",
    "float_columns = ['ridership_increase','fossil_fuel_use_reduction__transportation_']\n",
    "\n",
    "for c in float_columns:\n",
    "    df2[c] = df2[c].apply(pd.to_numeric, errors = 'coerce')\n",
    "    "
   ]
  },
  {
   "cell_type": "code",
   "execution_count": null,
   "id": "a09102ba-cdf6-4b88-bd10-098f218b6040",
   "metadata": {},
   "outputs": [],
   "source": [
    "df2 = df2.fillna(df2.dtypes.replace({'float64': 0.0, 'object': 'None'}))"
   ]
  },
  {
   "cell_type": "markdown",
   "id": "ccc896ca-4dbf-4049-96e0-6fe0d8a1ce78",
   "metadata": {},
   "source": [
    "### Check negative values"
   ]
  },
  {
   "cell_type": "code",
   "execution_count": null,
   "id": "afe0e71e-a801-461f-9cd9-44db6e0caa2a",
   "metadata": {},
   "outputs": [],
   "source": [
    "env_cols = ['vmt_reduction',\n",
    "       'ghg_reduction__mtco2e_', \n",
    "       'diesel_pm_reductions__lbs_', 'nox_reductions__lbs_',\n",
    "       'pm_2_5_reductions__lbs_', 'reactive_organic_gas_reduction__lbs_',\n",
    "       'fossil_fuel_use_reduction__transportation_',\n",
    "       'fossil_fuel_use_reduction__energy_',\n",
    "       'renewable_energy_generation__kwh_',]"
   ]
  },
  {
   "cell_type": "code",
   "execution_count": null,
   "id": "492190d7-c7dc-411c-a595-7cf8deadfe4a",
   "metadata": {
    "scrolled": true,
    "tags": []
   },
   "outputs": [],
   "source": [
    "subset_env = df2[env_cols]"
   ]
  },
  {
   "cell_type": "code",
   "execution_count": null,
   "id": "03eaf03e-78ff-4ddd-ab6e-575e194a364e",
   "metadata": {},
   "outputs": [],
   "source": [
    "subset_env.lt(0).sum()"
   ]
  },
  {
   "cell_type": "code",
   "execution_count": null,
   "id": "0d796d54-1701-4b69-9d44-edeb1e91cfc0",
   "metadata": {},
   "outputs": [],
   "source": [
    "#Find nunique values \n",
    "for column in df2[value_count_cols]:\n",
    "    print(\"\\n\" + column)\n",
    "    print(df2[column].nunique())"
   ]
  },
  {
   "cell_type": "markdown",
   "id": "de2331cf-faa6-4654-8fa4-b2cbd942b982",
   "metadata": {},
   "source": [
    "### Save it"
   ]
  },
  {
   "cell_type": "code",
   "execution_count": null,
   "id": "fc969517-e183-4c89-965c-4bc276a51486",
   "metadata": {},
   "outputs": [],
   "source": [
    "'''\n",
    "with pd.ExcelWriter(f\"{GCS_FILE_PATH}LCTOP_cleaned.xlsx\") as writer:\n",
    "    df2.to_excel(writer, sheet_name=\"cleaned\", index=False)\n",
    " '''"
   ]
  },
  {
   "cell_type": "markdown",
   "id": "160de0bc-7b6d-410c-be01-d3910e3149ec",
   "metadata": {},
   "source": [
    "## Initial insights"
   ]
  },
  {
   "cell_type": "markdown",
   "id": "c78d7ff0-b14c-4d05-ab05-fd2737c3643a",
   "metadata": {},
   "source": [
    "### [Disadvantaged Communities](https://dot.ca.gov/programs/rail-and-mass-transportation/priority-populations-and-disadvantaged-communities)\n",
    "* Most projects benefit DAC.\n",
    "* Most agencies have a service area with DAC."
   ]
  },
  {
   "cell_type": "code",
   "execution_count": null,
   "id": "da650c91-98e7-4a8c-a9d3-3899452d89fe",
   "metadata": {
    "scrolled": true,
    "tags": []
   },
   "outputs": [],
   "source": [
    "#count \n",
    "#https://pandas.pydata.org/docs/reference/api/pandas.DataFrame.from_dict.html\n",
    "result = {}\n",
    "for i in df2[boolean_cols]:\n",
    "    result[i] = (df2[i].value_counts()) "
   ]
  },
  {
   "cell_type": "code",
   "execution_count": null,
   "id": "f662370c-8874-4c6e-8a1d-99c2d72d8d94",
   "metadata": {},
   "outputs": [],
   "source": [
    "result_df = (pd.DataFrame.from_dict(result)\n",
    "             .fillna(0)\n",
    "             .rename(columns =\n",
    "                     {'index':'Boolean Values'})\n",
    "             .div(result_df.sum(axis=0), axis=1)\n",
    "        \n",
    "            )\n",
    "\n"
   ]
  },
  {
   "cell_type": "code",
   "execution_count": null,
   "id": "b61d6b07-4a03-412e-9e8a-2c697c4ebcc6",
   "metadata": {},
   "outputs": [],
   "source": [
    "result_df.round(2).style.background_gradient()"
   ]
  },
  {
   "cell_type": "markdown",
   "id": "0b19d7c5-088f-46b5-b59b-58484e1b6731",
   "metadata": {},
   "source": [
    "### Summary Tables"
   ]
  },
  {
   "cell_type": "code",
   "execution_count": null,
   "id": "a3db8fa5-7f32-424b-9e80-c65b4ab37061",
   "metadata": {},
   "outputs": [],
   "source": [
    "#Clean column titles\n",
    "def cols_cleanup(df):\n",
    "    df.columns = (df.columns\n",
    "                  .str.replace('[_]', ' ')\n",
    "                  .str.title()\n",
    "                  .str.strip()\n",
    "                 )\n",
    "    return df"
   ]
  },
  {
   "cell_type": "code",
   "execution_count": null,
   "id": "b9d57eeb-5b72-4324-baf7-8f9a24022b64",
   "metadata": {},
   "outputs": [],
   "source": [
    "sum_cols = ['funds_to_benefit_dac','total_project_request_99314_+_99313', 'total_project_cost','vmt_reduction',\n",
    "       'ghg_reduction__mtco2e_', \n",
    "       'diesel_pm_reductions__lbs_', 'nox_reductions__lbs_',\n",
    "       'pm_2_5_reductions__lbs_', 'reactive_organic_gas_reduction__lbs_',\n",
    "       'fossil_fuel_use_reduction__transportation_','ridership_increase',\n",
    "       'fossil_fuel_use_reduction__energy_', 'renewable_energy_generation__kwh_']\n",
    "nunique_cols = ['project_id#', 'lead_agency']"
   ]
  },
  {
   "cell_type": "code",
   "execution_count": null,
   "id": "dc6f93c2-b847-4efa-9658-4d7c4bc54804",
   "metadata": {},
   "outputs": [],
   "source": [
    "funding_year_summary = geography_utils.aggregate_by_geography(\n",
    "    df2, \n",
    "    group_cols=['funding_year'],\n",
    "    nunique_cols = nunique_cols,\n",
    "    sum_cols = sum_cols)\n",
    "\n",
    "funding_year_summary = (cols_cleanup(funding_year_summary)\n",
    "                        .sort_values('Funding Year')\n",
    "                        .rename(columns = {'Lead Agency':'# of Agencies',\n",
    "                                           'Project Id#': '# of Projects'})\n",
    "                                           )"
   ]
  },
  {
   "cell_type": "code",
   "execution_count": null,
   "id": "5358f6a4-787b-41f6-a2e7-cd776a132bbd",
   "metadata": {},
   "outputs": [],
   "source": [
    "funding_year_summary"
   ]
  },
  {
   "cell_type": "code",
   "execution_count": null,
   "id": "04904597-1cae-4234-a3d3-ee7812933c9c",
   "metadata": {},
   "outputs": [],
   "source": [
    "district_summary = geography_utils.aggregate_by_geography(\n",
    "    df2, \n",
    "    group_cols= ['distr_'],\n",
    "    nunique_cols = nunique_cols,\n",
    "    sum_cols = sum_cols,)\n",
    "district_summary = (cols_cleanup(district_summary)\n",
    "                        .sort_values('Distr')\n",
    "                        .rename(columns = {'Lead Agency':'# of Agencies',\n",
    "                                           'Project Id#': '# of Projects'})\n",
    "                                           )\n",
    "district_summary"
   ]
  },
  {
   "cell_type": "code",
   "execution_count": null,
   "id": "65d6aab9-9b79-438f-b760-7f40c2b85dc7",
   "metadata": {
    "scrolled": true,
    "tags": []
   },
   "outputs": [],
   "source": [
    "project_type_summary = geography_utils.aggregate_by_geography(\n",
    "    df2, \n",
    "    group_cols= ['project_sub_type_ii'],\n",
    "    nunique_cols = nunique_cols,\n",
    "    sum_cols = sum_cols,)\n",
    "\n",
    "project_type_summary = (cols_cleanup(project_type_summary)\n",
    "                        .sort_values('Lead Agency')\n",
    "                        .rename(columns = {'Lead Agency':'# of Agencies',\n",
    "                                           'Project Id#': '# of Projects'})\n",
    "                                           )\n",
    "project_type_summary"
   ]
  },
  {
   "cell_type": "markdown",
   "id": "2c38daca-ba85-4396-b12a-5a376657296f",
   "metadata": {},
   "source": [
    "## Geodataframe"
   ]
  },
  {
   "cell_type": "code",
   "execution_count": null,
   "id": "863de563-8e2b-4aec-a621-7309f74dc27e",
   "metadata": {},
   "outputs": [],
   "source": [
    "geojson = (gpd.read_file(f'{Caltrans_shape}')\n",
    "               .to_crs(epsg=4326))\n",
    "#Keep only the columns of interest \n",
    "geojson = geojson[[\"DISTRICT\", \"Shape_Length\", \"Shape_Area\", \"geometry\"]]"
   ]
  },
  {
   "cell_type": "code",
   "execution_count": null,
   "id": "6ed8f863-291a-406e-a48a-93a473536358",
   "metadata": {},
   "outputs": [],
   "source": [
    "#Merge geojson with the summarized df\n",
    "gdf1 = geojson.merge(\n",
    "    district_summary, how=\"inner\", left_on=\"DISTRICT\", right_on=\"Distr\") \n",
    "  "
   ]
  },
  {
   "cell_type": "code",
   "execution_count": null,
   "id": "e0162b81-1ebb-46ad-89b7-ef190f20a5e5",
   "metadata": {
    "tags": []
   },
   "outputs": [],
   "source": [
    "(gdf1\n",
    " .plot(figsize=(12, 6), column=\"# of Projects\", legend=True)\n",
    " .axis(\"off\")\n",
    ")"
   ]
  },
  {
   "cell_type": "code",
   "execution_count": null,
   "id": "45cee9ac-581c-4f8a-af2a-625754b791d4",
   "metadata": {},
   "outputs": [],
   "source": [
    "(gdf1\n",
    " .plot(figsize=(12, 6), column=\"Total Project Request 99314 + 99313\", legend=True)\n",
    " .axis(\"off\")\n",
    ")"
   ]
  },
  {
   "cell_type": "markdown",
   "id": "39e1a14d-76f6-492c-b445-646acb7f55e3",
   "metadata": {},
   "source": [
    "### Lat Lon"
   ]
  },
  {
   "cell_type": "code",
   "execution_count": null,
   "id": "e6e1eecd-16ac-4fb1-976f-cacf060dd1cd",
   "metadata": {},
   "outputs": [],
   "source": [
    "# save to GCS\n",
    "def geojson_gcs_export(gdf, GCS_FILE_PATH, FILE_NAME):\n",
    "    \"\"\"\n",
    "    Save geodataframe as parquet locally,\n",
    "    then move to GCS bucket and delete local file.\n",
    "\n",
    "    gdf: geopandas.GeoDataFrame\n",
    "    GCS_FILE_PATH: str. Ex: gs://calitp-analytics-data/data-analyses/my-folder/\n",
    "    FILE_NAME: str. Filename.\n",
    "    \"\"\"\n",
    "    gdf.to_file(f\"./{FILE_NAME}.geojson\", driver=\"GeoJSON\")\n",
    "    fs.put(f\"./{FILE_NAME}.geojson\", f\"{GCS_FILE_PATH}{FILE_NAME}.geojson\")\n",
    "    os.remove(f\"./{FILE_NAME}.geojson\")"
   ]
  },
  {
   "cell_type": "code",
   "execution_count": null,
   "id": "af026566-f44a-43d3-9590-c80b86524de3",
   "metadata": {},
   "outputs": [],
   "source": [
    "# call the function\n",
    "geojson_gcs_export(\n",
    "    gdf1,\n",
    "    \"gs://calitp-analytics-data/data-analyses/lctop/\",\n",
    "    \"lctop_geojson\",\n",
    ")"
   ]
  },
  {
   "cell_type": "code",
   "execution_count": null,
   "id": "3591b387-cdb0-448d-985c-d59b7a291348",
   "metadata": {},
   "outputs": [],
   "source": [
    "#Get only values w/ lon and lat\n",
    "df3 = (df2.loc[df2[\"project_location\"] != 'None'])"
   ]
  },
  {
   "cell_type": "code",
   "execution_count": null,
   "id": "8739a0f5-651f-4278-b6a0-974be6ee06cb",
   "metadata": {},
   "outputs": [],
   "source": [
    "df3[['lon', 'lat']] = df1['project_location'].str.split(' ', 1, expand=True)"
   ]
  },
  {
   "cell_type": "code",
   "execution_count": null,
   "id": "d191f386-9b21-4e6e-a025-9a8246e68f67",
   "metadata": {},
   "outputs": [],
   "source": [
    "geo_list = ['lon','lat']\n",
    "for c in geo_list:\n",
    "    df3[c] = (df3[c]\n",
    "              .str.replace(\",\", \"\")\n",
    "              .str.replace(\";\",\"\n",
    "              \n",
    "             \"))"
   ]
  },
  {
   "cell_type": "code",
   "execution_count": null,
   "id": "cfc34961-57d5-49b8-a10c-2af765cf13dd",
   "metadata": {},
   "outputs": [],
   "source": [
    "df3.head(2)"
   ]
  },
  {
   "cell_type": "code",
   "execution_count": null,
   "id": "38d930eb-7186-499f-bb19-7d5ad2f6539a",
   "metadata": {},
   "outputs": [],
   "source": [
    "#gdf2 = geography_utils.create_point_geometry(df3, 'lon','lat')"
   ]
  },
  {
   "cell_type": "code",
   "execution_count": null,
   "id": "f8ebe8f1-05f7-40f4-96fc-5cee213cfa2f",
   "metadata": {},
   "outputs": [],
   "source": [
    "airtable = to_snakecase(pd.read_csv('gs://calitp-analytics-data/data-analyses/5311 /organizations-AllOrganizations_1.csv'))\n"
   ]
  },
  {
   "cell_type": "code",
   "execution_count": null,
   "id": "f352d4a4-f955-45ee-9c15-3a98e80fafaf",
   "metadata": {},
   "outputs": [],
   "source": [
    "airtable.head(2)"
   ]
  }
 ],
 "metadata": {
  "kernelspec": {
   "display_name": "Python 3 (ipykernel)",
   "language": "python",
   "name": "python3"
  },
  "language_info": {
   "codemirror_mode": {
    "name": "ipython",
    "version": 3
   },
   "file_extension": ".py",
   "mimetype": "text/x-python",
   "name": "python",
   "nbconvert_exporter": "python",
   "pygments_lexer": "ipython3",
   "version": "3.10.4"
  }
 },
 "nbformat": 4,
 "nbformat_minor": 5
}
