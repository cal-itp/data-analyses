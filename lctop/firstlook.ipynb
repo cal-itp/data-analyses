{
 "cells": [
  {
   "cell_type": "markdown",
   "id": "05e855fb-6dd3-4794-9712-ba236e147c73",
   "metadata": {},
   "source": [
    "# First look/Clean Up\n",
    "\n",
    "* Helpful Links\n",
    "* [Priority Population/DAC](https://dot.ca.gov/programs/rail-and-mass-transportation/priority-populations-and-disadvantaged-communities)"
   ]
  },
  {
   "cell_type": "code",
   "execution_count": 1,
   "id": "48f6c75b-1f98-41cf-89bc-dd7c9f0ce840",
   "metadata": {},
   "outputs": [
    {
     "name": "stderr",
     "output_type": "stream",
     "text": [
      "/opt/conda/lib/python3.10/site-packages/geopandas/_compat.py:111: UserWarning: The Shapely GEOS version (3.10.2-CAPI-1.16.0) is incompatible with the GEOS version PyGEOS was compiled with (3.10.1-CAPI-1.16.0). Conversions between both will be slow.\n",
      "  warnings.warn(\n"
     ]
    }
   ],
   "source": [
    "import numpy as np\n",
    "import pandas as pd\n",
    "import geopandas as gpd\n",
    "from siuba import *\n",
    "from calitp import *\n",
    "from shared_utils import geography_utils, utils\n",
    "import difflib\n",
    "from calitp.storage import get_fs\n",
    "fs = get_fs()\n",
    "import os\n",
    "\n",
    "#Formatting the nb \n",
    "pd.options.display.max_columns = 100\n",
    "pd.set_option(\"display.max_rows\", None)\n",
    "pd.set_option(\"display.max_colwidth\", None)\n",
    "pd.options.display.float_format = \"{:.2f}\".format"
   ]
  },
  {
   "cell_type": "code",
   "execution_count": 2,
   "id": "0f5fe564-d93e-43f1-94fa-09ef723a0bc8",
   "metadata": {},
   "outputs": [],
   "source": [
    "GCS_FILE_PATH = \"gs://calitp-analytics-data/data-analyses/lctop/\"\n",
    "Caltrans_shape = \"https://gis.data.ca.gov/datasets/0144574f750f4ccc88749004aca6eb0c_0.geojson?outSR=%7B%22latestWkid%22%3A3857%2C%22wkid%22%3A102100%7D\"\n",
    "FILE_NAME = \"LCTOP_allyears.xlsx\""
   ]
  },
  {
   "cell_type": "code",
   "execution_count": 3,
   "id": "8a712c90-4765-4afb-ba31-8d166d7b13c6",
   "metadata": {},
   "outputs": [],
   "source": [
    "df1 = to_snakecase(pd.read_excel(f\"{GCS_FILE_PATH}{FILE_NAME}\", sheet_name=\"LCTOP_Projects\"))"
   ]
  },
  {
   "cell_type": "markdown",
   "id": "ecf1dc3e-9185-46d8-a94a-275196cb7f0c",
   "metadata": {},
   "source": [
    "## Checking out the raw data"
   ]
  },
  {
   "cell_type": "code",
   "execution_count": 4,
   "id": "28f7bfa5-f468-4d8a-9707-f897bed0f888",
   "metadata": {},
   "outputs": [
    {
     "data": {
      "text/plain": [
       "(857, 74)"
      ]
     },
     "execution_count": 4,
     "metadata": {},
     "output_type": "execute_result"
    }
   ],
   "source": [
    "df1.shape"
   ]
  },
  {
   "cell_type": "code",
   "execution_count": 5,
   "id": "b42eeb76-f9c0-435b-a574-f275847fb8ab",
   "metadata": {
    "scrolled": true,
    "tags": []
   },
   "outputs": [
    {
     "data": {
      "text/plain": [
       "count                                              0.70\n",
       "#                                                  0.70\n",
       "funding_year                                       0.70\n",
       "_d                                                 0.70\n",
       "distr_                                             0.70\n",
       "project_id#                                        0.70\n",
       "lead_agency                                        0.70\n",
       "project_name                                       0.70\n",
       "project_type                                       0.58\n",
       "project_sub_type                                  27.42\n",
       "project_sub_type_ii                                0.70\n",
       "#2                                                99.53\n",
       "project_description__short_                       11.79\n",
       "project_location                                  28.12\n",
       "start_date                                        12.02\n",
       "completion_date                                   27.30\n",
       "contact_name                                       1.05\n",
       "contact_phone_#                                    1.05\n",
       "contact_e_mail                                    26.95\n",
       "authorized_agent_name                             12.02\n",
       "authorized_agent_title                            12.25\n",
       "address                                           12.25\n",
       "city,_state,_zip_code                             37.92\n",
       "county                                            79.35\n",
       "contributing_sponsor                              26.37\n",
       "puc_99313_funds                                    3.50\n",
       "puc_99314_funds                                    4.90\n",
       "total_project_request_99314_+_99313                0.58\n",
       "total_lctop_funds                                 27.19\n",
       "total_cci_funds                                   27.19\n",
       "total_project_cost                                11.90\n",
       "lctop_%_of_total_project_funds                    11.90\n",
       "rollover_project                                  52.16\n",
       "has_project_received_other_ggrf_funds             41.89\n",
       "qm_tool__date_                                    41.89\n",
       "project_life                                      41.89\n",
       "ridership_increase                                27.65\n",
       "vmt_reduction                                     29.52\n",
       "ghg_reduction__mtco2e_                            26.14\n",
       "date_ghg_reductions_begin                         63.01\n",
       "diesel_pm_reductions__lbs_                        43.17\n",
       "nox_reductions__lbs_                              43.17\n",
       "pm_2_5_reductions__lbs_                           43.17\n",
       "reactive_organic_gas_reduction__lbs_              43.29\n",
       "fossil_fuel_use_reduction__transportation_        55.31\n",
       "fossil_fuel_use_reduction__energy_                80.16\n",
       "renewable_energy_generation__kwh_                 80.40\n",
       "governors_pillars                                 41.89\n",
       "other_state_policies,_plans,_or_initiatives      100.00\n",
       "describe_policies,_plans,_or_initiatives         100.00\n",
       "support_scoping_plan                              41.89\n",
       "co_benefits                                       41.89\n",
       "calenviroscreen_version                            0.70\n",
       "agency_service_area_has_a_dac                      0.70\n",
       "does_project_benefit_an_ab_1550_dac                0.58\n",
       "dac_data                                           0.70\n",
       "ab_1550_low_income_community__household           41.77\n",
       "ab_1550_1_2_mile_low_income_buffer_region         41.77\n",
       "ab_1550_benefit_criteria_table                    42.01\n",
       "ab_1550_benefit_selected                          53.09\n",
       "identify_specific_ab_1550_group_needs_approach    22.29\n",
       "description_of_ab_1550_community_need             32.56\n",
       "ab_1550_benefit_criteria_met                      51.46\n",
       "description_of_ab_1550_criteria                   33.49\n",
       "qualifying_disadvantaged_community_benefit        41.77\n",
       "funds_to_benefit_dac                               0.35\n",
       "qualifying_low_income_benefit_                    27.19\n",
       "funds_to_benefit_lichh_                           27.07\n",
       "qualifying_1_2_mile_low_income_buffer_            27.30\n",
       "funds_to_benefit_lichh_w_n_1_2_mile_of_a_dac_     27.19\n",
       "status                                            37.34\n",
       "column3                                           62.43\n",
       "column4                                           62.43\n",
       "column5                                           79.00\n",
       "dtype: float64"
      ]
     },
     "execution_count": 5,
     "metadata": {},
     "output_type": "execute_result"
    }
   ],
   "source": [
    "#Get percentages of how many null values per column\n",
    "df1.isnull().sum() * 100 / len(df1)"
   ]
  },
  {
   "cell_type": "code",
   "execution_count": 6,
   "id": "577a255f-5118-4b57-ad7a-6f6ebc6fcee6",
   "metadata": {},
   "outputs": [],
   "source": [
    "#Check out that values are what I expect for certain columns\n",
    "value_count_cols = [\n",
    "    \"project_type\",\"lead_agency\",\"distr_\", \"project_name\", \"project_id#\", \"project_sub_type_ii\"]"
   ]
  },
  {
   "cell_type": "code",
   "execution_count": 7,
   "id": "b87580c8-13d6-4057-9204-5ab7a22f899e",
   "metadata": {
    "scrolled": true,
    "tags": []
   },
   "outputs": [
    {
     "data": {
      "text/plain": [
       "'\\nfor column in df1[value_count_cols]:\\n    print(\"\\n\" + column)\\n    print(df1[column].value_counts())\\n    \\n'"
      ]
     },
     "execution_count": 7,
     "metadata": {},
     "output_type": "execute_result"
    }
   ],
   "source": [
    "# https://stackoverflow.com/questions/32589829/how-to-get-value-counts-for-multiple-columns-at-once-in-pandas-dataframe\n",
    "'''\n",
    "for column in df1[value_count_cols]:\n",
    "    print(\"\\n\" + column)\n",
    "    print(df1[column].value_counts())\n",
    "    \n",
    "''' "
   ]
  },
  {
   "cell_type": "code",
   "execution_count": 8,
   "id": "e6d8a75c-ee4c-4ffa-b1dd-f6e8a15cce06",
   "metadata": {},
   "outputs": [
    {
     "name": "stdout",
     "output_type": "stream",
     "text": [
      "\n",
      "project_type\n",
      "3\n",
      "\n",
      "lead_agency\n",
      "213\n",
      "\n",
      "distr_\n",
      "12\n",
      "\n",
      "project_name\n",
      "714\n",
      "\n",
      "project_id#\n",
      "851\n",
      "\n",
      "project_sub_type_ii\n",
      "12\n"
     ]
    }
   ],
   "source": [
    "#Find nunique values \n",
    "for column in df1[value_count_cols]:\n",
    "    print(\"\\n\" + column)\n",
    "    print(df1[column].nunique())"
   ]
  },
  {
   "cell_type": "markdown",
   "id": "53e8c6f2-5769-4e73-ab84-77d5e52ecbe1",
   "metadata": {},
   "source": [
    "### Some of the monetary columns aren't filled - double check \n",
    "* Re calculate the percentage cols: lctop % of total project funds \n",
    "* Re calc that total project request 993414+9913 equals PUC 99314\n",
    "    * Yes they do."
   ]
  },
  {
   "cell_type": "code",
   "execution_count": 9,
   "id": "a6c4d3b9-5094-4325-be73-4d0f20d6d30b",
   "metadata": {},
   "outputs": [],
   "source": [
    "monetary_cols = [ 'puc_99313_funds', 'puc_99314_funds',\n",
    "       'total_project_request_99314_+_99313', 'total_lctop_funds',\n",
    "       'total_cci_funds', 'total_project_cost',\n",
    "       'lctop_%_of_total_project_funds']"
   ]
  },
  {
   "cell_type": "code",
   "execution_count": 10,
   "id": "18f7572f-2f1c-4899-bdd0-bfe043bd32a2",
   "metadata": {},
   "outputs": [],
   "source": [
    "subset = df1[monetary_cols].fillna(0)"
   ]
  },
  {
   "cell_type": "code",
   "execution_count": 11,
   "id": "49146b58-4645-49ed-b78d-c593e850dd69",
   "metadata": {},
   "outputs": [],
   "source": [
    "#https://stackoverflow.com/questions/42405572/how-to-compare-two-columns-of-the-same-dataframe\n",
    "#Compare if PUC 99313 + PUC 99314 equal to total LCTOP Fund\n",
    "subset['total_project_comp_to_total_LCTOP_funds'] = np.where(subset['total_project_request_99314_+_99313'] == subset['total_lctop_funds'], \n",
    "                                           'same','different')"
   ]
  },
  {
   "cell_type": "code",
   "execution_count": 12,
   "id": "5e402250-32a3-45a8-a08c-13192c0706ca",
   "metadata": {},
   "outputs": [],
   "source": [
    "#Comapre if LCTOP equals CCI \n",
    "subset['total_lctop_cci'] = np.where(subset['total_lctop_funds'] == subset['total_cci_funds'], \n",
    "                                           'same','different')"
   ]
  },
  {
   "cell_type": "code",
   "execution_count": 13,
   "id": "39517162-3f73-42bc-948d-0870704195cb",
   "metadata": {},
   "outputs": [],
   "source": [
    "#Calculate out total_project_request_99314_+_99313 and see if the results equal what was provided to me.\n",
    "subset['99314_and_99313'] = subset['puc_99313_funds'] + subset['puc_99314_funds']\n",
    "subset['my_calc_vs_og_cal'] = np.where(subset['99314_and_99313'] == subset['total_project_request_99314_+_99313'], \n",
    "                                           'same','different')"
   ]
  },
  {
   "cell_type": "code",
   "execution_count": 14,
   "id": "dc867b48-767f-4d2d-adb4-e669b5ecf703",
   "metadata": {},
   "outputs": [],
   "source": [
    "#Compare total_project_request_99314_+_99313 with total CCI funds\n",
    "subset['CCI_99313_99314'] = np.where(subset['total_project_request_99314_+_99313'] == subset['total_cci_funds'], 'same',\n",
    "                                     'different')"
   ]
  },
  {
   "cell_type": "code",
   "execution_count": 15,
   "id": "bfe084e6-0409-4851-ac9c-c7cf5c754fd6",
   "metadata": {},
   "outputs": [
    {
     "name": "stdout",
     "output_type": "stream",
     "text": [
      "\n",
      "total_project_comp_to_total_LCTOP_funds\n",
      "different    435\n",
      "same         422\n",
      "Name: total_project_comp_to_total_LCTOP_funds, dtype: int64\n",
      "\n",
      "total_lctop_cci\n",
      "same         813\n",
      "different     44\n",
      "Name: total_lctop_cci, dtype: int64\n",
      "\n",
      "my_calc_vs_og_cal\n",
      "same         856\n",
      "different      1\n",
      "Name: my_calc_vs_og_cal, dtype: int64\n",
      "\n",
      "CCI_99313_99314\n",
      "different    446\n",
      "same         411\n",
      "Name: CCI_99313_99314, dtype: int64\n"
     ]
    }
   ],
   "source": [
    "#Find value_counts\n",
    "value_count_cols_2 = ['total_project_comp_to_total_LCTOP_funds', 'total_lctop_cci', 'my_calc_vs_og_cal', 'CCI_99313_99314'] \n",
    "for column in subset[value_count_cols_2]:\n",
    "    print(\"\\n\" + column)\n",
    "    print(subset[column].value_counts())"
   ]
  },
  {
   "cell_type": "code",
   "execution_count": 16,
   "id": "900c2fc2-cf63-475f-9751-eb67b5893203",
   "metadata": {
    "scrolled": true,
    "tags": []
   },
   "outputs": [],
   "source": [
    "#subset.loc[subset['my_calc_vs_og_cal'] == 'different'] "
   ]
  },
  {
   "cell_type": "markdown",
   "id": "f82685fc-acf4-41c7-8c8e-281267a0c2bd",
   "metadata": {},
   "source": [
    "## Clean Up\n",
    "* Make sure columns are the right data type\n",
    "* Find which col represents allocated amounts\n"
   ]
  },
  {
   "cell_type": "markdown",
   "id": "bbd1f85e-38f3-4b09-9ec5-0cdc0f0d2d18",
   "metadata": {},
   "source": [
    "### Drop rows with a ton of N/As"
   ]
  },
  {
   "cell_type": "code",
   "execution_count": 17,
   "id": "a9300d86-bcd3-4f6b-9b46-e2d5504c750d",
   "metadata": {},
   "outputs": [],
   "source": [
    "\n",
    "df2 = df1.dropna(subset=['lead_agency', 'project_id#','project_name', 'distr_'])"
   ]
  },
  {
   "cell_type": "code",
   "execution_count": 18,
   "id": "df010433-2bd3-4e84-8e16-3cfb0fccef6d",
   "metadata": {},
   "outputs": [
    {
     "data": {
      "text/plain": [
       "'The original dataframe is 857  rows long but after dropping some rows with missing values, the dataframe is 851 rows long.'"
      ]
     },
     "execution_count": 18,
     "metadata": {},
     "output_type": "execute_result"
    }
   ],
   "source": [
    "f'The original dataframe is {len(df1)}  rows long but after dropping some rows with missing values, the dataframe is {len(df2)} rows long.'"
   ]
  },
  {
   "cell_type": "code",
   "execution_count": 20,
   "id": "29a20f7e-237a-4e8e-933e-27a32065b209",
   "metadata": {},
   "outputs": [
    {
     "data": {
      "text/plain": [
       "'There are 851 unique project IDS'"
      ]
     },
     "execution_count": 20,
     "metadata": {},
     "output_type": "execute_result"
    }
   ],
   "source": [
    "f\"There are {df2['project_id#'].nunique()} unique project IDS\""
   ]
  },
  {
   "cell_type": "markdown",
   "id": "6735ee49-b28f-4e59-b6cd-f5dbd56019ac",
   "metadata": {},
   "source": [
    "### Change Agency Names\n",
    "* Some agencies have multiple spellings of its name, clean it up"
   ]
  },
  {
   "cell_type": "code",
   "execution_count": 21,
   "id": "2e095758-0e20-45ef-9563-5b5b817690ab",
   "metadata": {
    "tags": []
   },
   "outputs": [
    {
     "name": "stderr",
     "output_type": "stream",
     "text": [
      "/tmp/ipykernel_1219/3075006119.py:7: FutureWarning: The default value of regex will change from True to False in a future version.\n",
      "/tmp/ipykernel_1219/3075006119.py:4: SettingWithCopyWarning: \n",
      "A value is trying to be set on a copy of a slice from a DataFrame.\n",
      "Try using .loc[row_indexer,col_indexer] = value instead\n",
      "\n",
      "See the caveats in the documentation: https://pandas.pydata.org/pandas-docs/stable/user_guide/indexing.html#returning-a-view-versus-a-copy\n"
     ]
    }
   ],
   "source": [
    "#Many of the same agencies are spelled slightly different ways \n",
    "#Rewrite later \n",
    "#https://stackoverflow.com/questions/24554723/str-replace-for-multiple-value-replacement\n",
    "df2['lead_agency'] = (df2['lead_agency']\n",
    "                      .str.split(\"(\")\n",
    "                      .str[0]\n",
    "                      .str.replace('[^A-Za-z\\s]+', '')\n",
    "                      .str.replace(\"Publlic\",\"Public\")\n",
    "                      .str.replace(\"Regional Transit Authority\",\"\")\n",
    "                      .str.replace(\"Agency\",\"\")\n",
    "                      .str.replace(\"Commision\",\"Commission\")\n",
    "                      .str.replace(\"Division\",\"\")\n",
    "                      .str.split(\",\")\n",
    "                      .str[0]\n",
    "                      .str.strip()\n",
    "                     )"
   ]
  },
  {
   "cell_type": "code",
   "execution_count": 22,
   "id": "5092d5c5-495f-43e6-bf93-c9c4ba7e90d7",
   "metadata": {},
   "outputs": [
    {
     "name": "stderr",
     "output_type": "stream",
     "text": [
      "/tmp/ipykernel_1219/231900255.py:1: SettingWithCopyWarning: \n",
      "A value is trying to be set on a copy of a slice from a DataFrame.\n",
      "Try using .loc[row_indexer,col_indexer] = value instead\n",
      "\n",
      "See the caveats in the documentation: https://pandas.pydata.org/pandas-docs/stable/user_guide/indexing.html#returning-a-view-versus-a-copy\n"
     ]
    }
   ],
   "source": [
    "df2[\"lead_agency\"] = df2[\"lead_agency\"].replace(\n",
    "    {\n",
    "        'Stanislaus County Public Works   Transit': 'Stanislaus County Public Works Transit',\n",
    "        'Stanislaus County Public Works  Transit':  'Stanislaus County Public Works Transit',\n",
    "        'Stanislaus County Public WorksTransit':  'Stanislaus County Public Works Transit',\n",
    "        'Victor ValleyTransit Authority': 'Victor Valley Transit Authority',\n",
    "        'YubaSutter Transit Authority':'Yuba Sutter Transit Authority',\n",
    "        'YubaSutter Transit':'Yuba Sutter Transit Authority',\n",
    "        'Plumas County Transportation  Commission': 'Plumas County Transportation  Commission',\n",
    "        'Modoc Transportation':'Modoc County Transportation Commission',\n",
    "         'Los Angeles County Metoropolitan Transportation Authority': 'Los Angeles County Metropolitan Transportation Authority',\n",
    "        'Calaveras Transit': 'Calaveras Transit Agnecy',\n",
    "    }\n",
    ")"
   ]
  },
  {
   "cell_type": "code",
   "execution_count": 23,
   "id": "effbb823-408c-4e4b-907c-79e854b1648f",
   "metadata": {},
   "outputs": [
    {
     "data": {
      "text/plain": [
       "181"
      ]
     },
     "execution_count": 23,
     "metadata": {},
     "output_type": "execute_result"
    }
   ],
   "source": [
    "\n",
    "df2['lead_agency'].nunique()"
   ]
  },
  {
   "cell_type": "code",
   "execution_count": 24,
   "id": "18f382cf-6a55-494f-bbb4-bf5880ec59c3",
   "metadata": {
    "scrolled": true,
    "tags": []
   },
   "outputs": [],
   "source": [
    "#df2['lead_agency'].sort_values().unique()"
   ]
  },
  {
   "cell_type": "markdown",
   "id": "70236312-6025-4bee-9cc7-8233f1feafdb",
   "metadata": {},
   "source": [
    "### Change additional values\n",
    "* Some values are spelled YES/yes/no/No etc so lower all the characters"
   ]
  },
  {
   "cell_type": "code",
   "execution_count": 25,
   "id": "0ba4059e-657d-4029-9131-1197dc3e31e9",
   "metadata": {},
   "outputs": [],
   "source": [
    "boolean_cols = ['agency_service_area_has_a_dac',\n",
    "              'does_project_benefit_an_ab_1550_dac',\n",
    "              'status',\n",
    "              'qualifying_1_2_mile_low_income_buffer_',\n",
    "               'ab_1550_low_income_community__household',\n",
    "              'does_project_benefit_an_ab_1550_dac',]"
   ]
  },
  {
   "cell_type": "code",
   "execution_count": 26,
   "id": "3a531b06-785b-4392-930f-56ad2a06fb41",
   "metadata": {},
   "outputs": [
    {
     "name": "stderr",
     "output_type": "stream",
     "text": [
      "/tmp/ipykernel_1219/775691532.py:2: SettingWithCopyWarning: \n",
      "A value is trying to be set on a copy of a slice from a DataFrame.\n",
      "Try using .loc[row_indexer,col_indexer] = value instead\n",
      "\n",
      "See the caveats in the documentation: https://pandas.pydata.org/pandas-docs/stable/user_guide/indexing.html#returning-a-view-versus-a-copy\n"
     ]
    }
   ],
   "source": [
    "for i in boolean_cols:\n",
    "    df2[i] = (df2[i]\n",
    "               .str.strip()\n",
    "               .str.lower()\n",
    "               .str.replace('close','closed')\n",
    "               .str.replace('closedd','closed')\n",
    "                        )"
   ]
  },
  {
   "cell_type": "markdown",
   "id": "4da09e5f-7d85-4ac2-b021-5fef707f38f8",
   "metadata": {},
   "source": [
    "### Change Counties "
   ]
  },
  {
   "cell_type": "code",
   "execution_count": 27,
   "id": "db65e09b-f690-4c1b-8e06-5884b54b572b",
   "metadata": {},
   "outputs": [
    {
     "name": "stderr",
     "output_type": "stream",
     "text": [
      "/tmp/ipykernel_1219/3541952537.py:1: SettingWithCopyWarning: \n",
      "A value is trying to be set on a copy of a slice from a DataFrame.\n",
      "Try using .loc[row_indexer,col_indexer] = value instead\n",
      "\n",
      "See the caveats in the documentation: https://pandas.pydata.org/pandas-docs/stable/user_guide/indexing.html#returning-a-view-versus-a-copy\n"
     ]
    }
   ],
   "source": [
    "df2['county'] = df2['county'].str.replace('County','')\n"
   ]
  },
  {
   "cell_type": "markdown",
   "id": "86166bb2-0566-4e0d-a50b-03fb0ff261a9",
   "metadata": {},
   "source": [
    "### Change data types"
   ]
  },
  {
   "cell_type": "code",
   "execution_count": 28,
   "id": "0cb0fbd3-c9a3-4770-b852-90cd43b4b5d3",
   "metadata": {},
   "outputs": [],
   "source": [
    "#Drop some columns especially those with a very low percentage of populated values \n",
    "df2 = df2.drop(columns = ['count', '#','column3',\n",
    "       'column4', 'column5','other_state_policies,_plans,_or_initiatives',\n",
    "       'describe_policies,_plans,_or_initiatives','#2','_d','contact_name','contact_phone_#','contact_e_mail',\n",
    "       'authorized_agent_name','authorized_agent_title','project_description__short_','project_sub_type'])"
   ]
  },
  {
   "cell_type": "code",
   "execution_count": 29,
   "id": "a039091a-a2de-4f35-a0db-3d92ec2f9013",
   "metadata": {},
   "outputs": [],
   "source": [
    "#Coerce date-time columns to the correct type\n",
    "date_columns = ['qm_tool__date_', 'completion_date','start_date']\n",
    "\n",
    "for c in date_columns:\n",
    "    df2[c] = df2[c].apply(pd.to_datetime, errors='coerce')\n",
    "    "
   ]
  },
  {
   "cell_type": "code",
   "execution_count": 30,
   "id": "89a69695-603f-4629-9db5-c99a570dab72",
   "metadata": {},
   "outputs": [],
   "source": [
    "missing_date = pd.to_datetime('2100-01-01')\n",
    "for i in date_columns:\n",
    "    df2[i] = (df2[i]\n",
    "            .fillna(missing_date)\n",
    "            .apply(pd.to_datetime)\n",
    "                    )"
   ]
  },
  {
   "cell_type": "code",
   "execution_count": 31,
   "id": "8cecbe50-2615-4d3e-be24-08c9ead2a98c",
   "metadata": {},
   "outputs": [],
   "source": [
    "#Coerce columns from object to flat\n",
    "float_columns = ['ridership_increase','fossil_fuel_use_reduction__transportation_']\n",
    "\n",
    "for c in float_columns:\n",
    "    df2[c] = df2[c].apply(pd.to_numeric, errors = 'coerce')\n",
    "    "
   ]
  },
  {
   "cell_type": "code",
   "execution_count": 32,
   "id": "a09102ba-cdf6-4b88-bd10-098f218b6040",
   "metadata": {},
   "outputs": [],
   "source": [
    "df2 = df2.fillna(df2.dtypes.replace({'float64': 0.0, 'object': 'None'}))"
   ]
  },
  {
   "cell_type": "markdown",
   "id": "ccc896ca-4dbf-4049-96e0-6fe0d8a1ce78",
   "metadata": {},
   "source": [
    "### Check negative values"
   ]
  },
  {
   "cell_type": "code",
   "execution_count": 33,
   "id": "afe0e71e-a801-461f-9cd9-44db6e0caa2a",
   "metadata": {},
   "outputs": [],
   "source": [
    "env_cols = ['vmt_reduction',\n",
    "       'ghg_reduction__mtco2e_', \n",
    "       'diesel_pm_reductions__lbs_', 'nox_reductions__lbs_',\n",
    "       'pm_2_5_reductions__lbs_', 'reactive_organic_gas_reduction__lbs_',\n",
    "       'fossil_fuel_use_reduction__transportation_',\n",
    "       'fossil_fuel_use_reduction__energy_',\n",
    "       'renewable_energy_generation__kwh_',]"
   ]
  },
  {
   "cell_type": "code",
   "execution_count": 34,
   "id": "492190d7-c7dc-411c-a595-7cf8deadfe4a",
   "metadata": {
    "scrolled": true,
    "tags": []
   },
   "outputs": [],
   "source": [
    "subset_env = df2[env_cols]"
   ]
  },
  {
   "cell_type": "code",
   "execution_count": 35,
   "id": "03eaf03e-78ff-4ddd-ab6e-575e194a364e",
   "metadata": {},
   "outputs": [
    {
     "data": {
      "text/plain": [
       "vmt_reduction                                  0\n",
       "ghg_reduction__mtco2e_                         0\n",
       "diesel_pm_reductions__lbs_                    17\n",
       "nox_reductions__lbs_                          54\n",
       "pm_2_5_reductions__lbs_                       19\n",
       "reactive_organic_gas_reduction__lbs_          11\n",
       "fossil_fuel_use_reduction__transportation_     9\n",
       "fossil_fuel_use_reduction__energy_            43\n",
       "renewable_energy_generation__kwh_              0\n",
       "dtype: int64"
      ]
     },
     "execution_count": 35,
     "metadata": {},
     "output_type": "execute_result"
    }
   ],
   "source": [
    "subset_env.lt(0).sum()"
   ]
  },
  {
   "cell_type": "code",
   "execution_count": 36,
   "id": "0d796d54-1701-4b69-9d44-edeb1e91cfc0",
   "metadata": {},
   "outputs": [
    {
     "name": "stdout",
     "output_type": "stream",
     "text": [
      "\n",
      "project_type\n",
      "2\n",
      "\n",
      "lead_agency\n",
      "181\n",
      "\n",
      "distr_\n",
      "12\n",
      "\n",
      "project_name\n",
      "714\n",
      "\n",
      "project_id#\n",
      "851\n",
      "\n",
      "project_sub_type_ii\n",
      "12\n"
     ]
    }
   ],
   "source": [
    "#Find nunique values \n",
    "for column in df2[value_count_cols]:\n",
    "    print(\"\\n\" + column)\n",
    "    print(df2[column].nunique())"
   ]
  },
  {
   "cell_type": "markdown",
   "id": "de2331cf-faa6-4654-8fa4-b2cbd942b982",
   "metadata": {},
   "source": [
    "### Save it"
   ]
  },
  {
   "cell_type": "code",
   "execution_count": 37,
   "id": "fc969517-e183-4c89-965c-4bc276a51486",
   "metadata": {},
   "outputs": [
    {
     "data": {
      "text/plain": [
       "'\\nwith pd.ExcelWriter(f\"{GCS_FILE_PATH}LCTOP_cleaned.xlsx\") as writer:\\n    df2.to_excel(writer, sheet_name=\"cleaned\", index=False)\\n '"
      ]
     },
     "execution_count": 37,
     "metadata": {},
     "output_type": "execute_result"
    }
   ],
   "source": [
    "'''\n",
    "with pd.ExcelWriter(f\"{GCS_FILE_PATH}LCTOP_cleaned.xlsx\") as writer:\n",
    "    df2.to_excel(writer, sheet_name=\"cleaned\", index=False)\n",
    " '''"
   ]
  },
  {
   "cell_type": "markdown",
   "id": "160de0bc-7b6d-410c-be01-d3910e3149ec",
   "metadata": {},
   "source": [
    "## Initial insights"
   ]
  },
  {
   "cell_type": "markdown",
   "id": "c78d7ff0-b14c-4d05-ab05-fd2737c3643a",
   "metadata": {},
   "source": [
    "### [Disadvantaged Communities](https://dot.ca.gov/programs/rail-and-mass-transportation/priority-populations-and-disadvantaged-communities)\n",
    "* Most projects benefit DAC.\n",
    "* Most agencies have a service area with DAC."
   ]
  },
  {
   "cell_type": "code",
   "execution_count": 38,
   "id": "da650c91-98e7-4a8c-a9d3-3899452d89fe",
   "metadata": {
    "scrolled": true,
    "tags": []
   },
   "outputs": [],
   "source": [
    "#count \n",
    "#https://pandas.pydata.org/docs/reference/api/pandas.DataFrame.from_dict.html\n",
    "result = {}\n",
    "for i in df2[boolean_cols]:\n",
    "    result[i] = (df2[i].value_counts()) "
   ]
  },
  {
   "cell_type": "code",
   "execution_count": 39,
   "id": "f662370c-8874-4c6e-8a1d-99c2d72d8d94",
   "metadata": {},
   "outputs": [],
   "source": [
    "result_df = (pd.DataFrame.from_dict(result)\n",
    "             .fillna(0)\n",
    "             .rename(columns =\n",
    "                     {'index':'Boolean Values'})\n",
    "            )\n",
    "\n",
    "result_df = result_df.div(result_df.sum(axis=0), axis=1)\n",
    "        "
   ]
  },
  {
   "cell_type": "code",
   "execution_count": 40,
   "id": "b61d6b07-4a03-412e-9e8a-2c697c4ebcc6",
   "metadata": {},
   "outputs": [
    {
     "data": {
      "text/html": [
       "<style type=\"text/css\">\n",
       "#T_76f04_row0_col0, #T_76f04_row0_col1, #T_76f04_row0_col2, #T_76f04_row0_col4, #T_76f04_row1_col0, #T_76f04_row1_col1, #T_76f04_row1_col2, #T_76f04_row1_col4, #T_76f04_row2_col0, #T_76f04_row2_col1, #T_76f04_row3_col0, #T_76f04_row3_col1, #T_76f04_row3_col3, #T_76f04_row3_col4, #T_76f04_row4_col2, #T_76f04_row5_col0, #T_76f04_row5_col1, #T_76f04_row5_col3, #T_76f04_row5_col4, #T_76f04_row6_col2, #T_76f04_row6_col3 {\n",
       "  background-color: #fff7fb;\n",
       "  color: #000000;\n",
       "}\n",
       "#T_76f04_row0_col3 {\n",
       "  background-color: #a5bddb;\n",
       "  color: #000000;\n",
       "}\n",
       "#T_76f04_row1_col3 {\n",
       "  background-color: #9ebad9;\n",
       "  color: #000000;\n",
       "}\n",
       "#T_76f04_row2_col2 {\n",
       "  background-color: #3f93c2;\n",
       "  color: #f1f1f1;\n",
       "}\n",
       "#T_76f04_row2_col3, #T_76f04_row5_col2, #T_76f04_row6_col0, #T_76f04_row6_col1, #T_76f04_row6_col4 {\n",
       "  background-color: #023858;\n",
       "  color: #f1f1f1;\n",
       "}\n",
       "#T_76f04_row2_col4 {\n",
       "  background-color: #056ead;\n",
       "  color: #f1f1f1;\n",
       "}\n",
       "#T_76f04_row3_col2 {\n",
       "  background-color: #faf3f9;\n",
       "  color: #000000;\n",
       "}\n",
       "#T_76f04_row4_col0 {\n",
       "  background-color: #91b5d6;\n",
       "  color: #000000;\n",
       "}\n",
       "#T_76f04_row4_col1 {\n",
       "  background-color: #6da6cd;\n",
       "  color: #f1f1f1;\n",
       "}\n",
       "#T_76f04_row4_col3 {\n",
       "  background-color: #bbc7e0;\n",
       "  color: #000000;\n",
       "}\n",
       "#T_76f04_row4_col4 {\n",
       "  background-color: #f1ebf5;\n",
       "  color: #000000;\n",
       "}\n",
       "</style>\n",
       "<table id=\"T_76f04\">\n",
       "  <thead>\n",
       "    <tr>\n",
       "      <th class=\"blank level0\" >&nbsp;</th>\n",
       "      <th id=\"T_76f04_level0_col0\" class=\"col_heading level0 col0\" >agency_service_area_has_a_dac</th>\n",
       "      <th id=\"T_76f04_level0_col1\" class=\"col_heading level0 col1\" >does_project_benefit_an_ab_1550_dac</th>\n",
       "      <th id=\"T_76f04_level0_col2\" class=\"col_heading level0 col2\" >status</th>\n",
       "      <th id=\"T_76f04_level0_col3\" class=\"col_heading level0 col3\" >qualifying_1_2_mile_low_income_buffer_</th>\n",
       "      <th id=\"T_76f04_level0_col4\" class=\"col_heading level0 col4\" >ab_1550_low_income_community__household</th>\n",
       "    </tr>\n",
       "  </thead>\n",
       "  <tbody>\n",
       "    <tr>\n",
       "      <th id=\"T_76f04_level0_row0\" class=\"row_heading level0 row0\" >0</th>\n",
       "      <td id=\"T_76f04_row0_col0\" class=\"data row0 col0\" >0.000000</td>\n",
       "      <td id=\"T_76f04_row0_col1\" class=\"data row0 col1\" >0.000000</td>\n",
       "      <td id=\"T_76f04_row0_col2\" class=\"data row0 col2\" >0.000000</td>\n",
       "      <td id=\"T_76f04_row0_col3\" class=\"data row0 col3\" >0.180000</td>\n",
       "      <td id=\"T_76f04_row0_col4\" class=\"data row0 col4\" >0.000000</td>\n",
       "    </tr>\n",
       "    <tr>\n",
       "      <th id=\"T_76f04_level0_row1\" class=\"row_heading level0 row1\" >1</th>\n",
       "      <td id=\"T_76f04_row1_col0\" class=\"data row1 col0\" >0.000000</td>\n",
       "      <td id=\"T_76f04_row1_col1\" class=\"data row1 col1\" >0.000000</td>\n",
       "      <td id=\"T_76f04_row1_col2\" class=\"data row1 col2\" >0.000000</td>\n",
       "      <td id=\"T_76f04_row1_col3\" class=\"data row1 col3\" >0.190000</td>\n",
       "      <td id=\"T_76f04_row1_col4\" class=\"data row1 col4\" >0.000000</td>\n",
       "    </tr>\n",
       "    <tr>\n",
       "      <th id=\"T_76f04_level0_row2\" class=\"row_heading level0 row2\" >None</th>\n",
       "      <td id=\"T_76f04_row2_col0\" class=\"data row2 col0\" >0.000000</td>\n",
       "      <td id=\"T_76f04_row2_col1\" class=\"data row2 col1\" >0.000000</td>\n",
       "      <td id=\"T_76f04_row2_col2\" class=\"data row2 col2\" >0.370000</td>\n",
       "      <td id=\"T_76f04_row2_col3\" class=\"data row2 col3\" >0.480000</td>\n",
       "      <td id=\"T_76f04_row2_col4\" class=\"data row2 col4\" >0.410000</td>\n",
       "    </tr>\n",
       "    <tr>\n",
       "      <th id=\"T_76f04_level0_row3\" class=\"row_heading level0 row3\" >closed</th>\n",
       "      <td id=\"T_76f04_row3_col0\" class=\"data row3 col0\" >0.000000</td>\n",
       "      <td id=\"T_76f04_row3_col1\" class=\"data row3 col1\" >0.000000</td>\n",
       "      <td id=\"T_76f04_row3_col2\" class=\"data row3 col2\" >0.020000</td>\n",
       "      <td id=\"T_76f04_row3_col3\" class=\"data row3 col3\" >0.000000</td>\n",
       "      <td id=\"T_76f04_row3_col4\" class=\"data row3 col4\" >0.000000</td>\n",
       "    </tr>\n",
       "    <tr>\n",
       "      <th id=\"T_76f04_level0_row4\" class=\"row_heading level0 row4\" >no</th>\n",
       "      <td id=\"T_76f04_row4_col0\" class=\"data row4 col0\" >0.300000</td>\n",
       "      <td id=\"T_76f04_row4_col1\" class=\"data row4 col1\" >0.340000</td>\n",
       "      <td id=\"T_76f04_row4_col2\" class=\"data row4 col2\" >0.000000</td>\n",
       "      <td id=\"T_76f04_row4_col3\" class=\"data row4 col3\" >0.150000</td>\n",
       "      <td id=\"T_76f04_row4_col4\" class=\"data row4 col4\" >0.050000</td>\n",
       "    </tr>\n",
       "    <tr>\n",
       "      <th id=\"T_76f04_level0_row5\" class=\"row_heading level0 row5\" >open</th>\n",
       "      <td id=\"T_76f04_row5_col0\" class=\"data row5 col0\" >0.000000</td>\n",
       "      <td id=\"T_76f04_row5_col1\" class=\"data row5 col1\" >0.000000</td>\n",
       "      <td id=\"T_76f04_row5_col2\" class=\"data row5 col2\" >0.610000</td>\n",
       "      <td id=\"T_76f04_row5_col3\" class=\"data row5 col3\" >0.000000</td>\n",
       "      <td id=\"T_76f04_row5_col4\" class=\"data row5 col4\" >0.000000</td>\n",
       "    </tr>\n",
       "    <tr>\n",
       "      <th id=\"T_76f04_level0_row6\" class=\"row_heading level0 row6\" >yes</th>\n",
       "      <td id=\"T_76f04_row6_col0\" class=\"data row6 col0\" >0.700000</td>\n",
       "      <td id=\"T_76f04_row6_col1\" class=\"data row6 col1\" >0.660000</td>\n",
       "      <td id=\"T_76f04_row6_col2\" class=\"data row6 col2\" >0.000000</td>\n",
       "      <td id=\"T_76f04_row6_col3\" class=\"data row6 col3\" >0.000000</td>\n",
       "      <td id=\"T_76f04_row6_col4\" class=\"data row6 col4\" >0.540000</td>\n",
       "    </tr>\n",
       "  </tbody>\n",
       "</table>\n"
      ],
      "text/plain": [
       "<pandas.io.formats.style.Styler at 0x7f3ca88fd360>"
      ]
     },
     "execution_count": 40,
     "metadata": {},
     "output_type": "execute_result"
    }
   ],
   "source": [
    "result_df.round(2).style.background_gradient()"
   ]
  },
  {
   "cell_type": "markdown",
   "id": "0b19d7c5-088f-46b5-b59b-58484e1b6731",
   "metadata": {},
   "source": [
    "### Summary Tables"
   ]
  },
  {
   "cell_type": "code",
   "execution_count": 41,
   "id": "a3db8fa5-7f32-424b-9e80-c65b4ab37061",
   "metadata": {},
   "outputs": [],
   "source": [
    "#Clean column titles\n",
    "def cols_cleanup(df):\n",
    "    df.columns = (df.columns\n",
    "                  .str.replace('[_]', ' ')\n",
    "                  .str.title()\n",
    "                  .str.strip()\n",
    "                 )\n",
    "    return df"
   ]
  },
  {
   "cell_type": "code",
   "execution_count": 42,
   "id": "b9d57eeb-5b72-4324-baf7-8f9a24022b64",
   "metadata": {},
   "outputs": [],
   "source": [
    "sum_cols = ['funds_to_benefit_dac','total_project_request_99314_+_99313', 'total_project_cost','vmt_reduction',\n",
    "       'ghg_reduction__mtco2e_', \n",
    "       'diesel_pm_reductions__lbs_', 'nox_reductions__lbs_',\n",
    "       'pm_2_5_reductions__lbs_', 'reactive_organic_gas_reduction__lbs_',\n",
    "       'fossil_fuel_use_reduction__transportation_','ridership_increase',\n",
    "       'fossil_fuel_use_reduction__energy_', 'renewable_energy_generation__kwh_']\n",
    "nunique_cols = ['project_id#', 'lead_agency']"
   ]
  },
  {
   "cell_type": "code",
   "execution_count": 43,
   "id": "dc6f93c2-b847-4efa-9658-4d7c4bc54804",
   "metadata": {},
   "outputs": [
    {
     "name": "stderr",
     "output_type": "stream",
     "text": [
      "/tmp/ipykernel_1219/3875248575.py:4: FutureWarning: The default value of regex will change from True to False in a future version.\n"
     ]
    }
   ],
   "source": [
    "funding_year_summary = geography_utils.aggregate_by_geography(\n",
    "    df2, \n",
    "    group_cols=['funding_year'],\n",
    "    nunique_cols = nunique_cols,\n",
    "    sum_cols = sum_cols)\n",
    "\n",
    "funding_year_summary = (cols_cleanup(funding_year_summary)\n",
    "                        .sort_values('Funding Year')\n",
    "                        .rename(columns = {'Lead Agency':'# of Agencies',\n",
    "                                           'Project Id#': '# of Projects'})\n",
    "                                           )"
   ]
  },
  {
   "cell_type": "code",
   "execution_count": 44,
   "id": "5358f6a4-787b-41f6-a2e7-cd776a132bbd",
   "metadata": {},
   "outputs": [
    {
     "data": {
      "text/html": [
       "<div>\n",
       "<style scoped>\n",
       "    .dataframe tbody tr th:only-of-type {\n",
       "        vertical-align: middle;\n",
       "    }\n",
       "\n",
       "    .dataframe tbody tr th {\n",
       "        vertical-align: top;\n",
       "    }\n",
       "\n",
       "    .dataframe thead th {\n",
       "        text-align: right;\n",
       "    }\n",
       "</style>\n",
       "<table border=\"1\" class=\"dataframe\">\n",
       "  <thead>\n",
       "    <tr style=\"text-align: right;\">\n",
       "      <th></th>\n",
       "      <th>Funding Year</th>\n",
       "      <th>Diesel Pm Reductions  Lbs</th>\n",
       "      <th>Fossil Fuel Use Reduction  Energy</th>\n",
       "      <th>Fossil Fuel Use Reduction  Transportation</th>\n",
       "      <th>Funds To Benefit Dac</th>\n",
       "      <th>Ghg Reduction  Mtco2E</th>\n",
       "      <th>Nox Reductions  Lbs</th>\n",
       "      <th>Pm 2 5 Reductions  Lbs</th>\n",
       "      <th>Reactive Organic Gas Reduction  Lbs</th>\n",
       "      <th>Renewable Energy Generation  Kwh</th>\n",
       "      <th>Ridership Increase</th>\n",
       "      <th>Total Project Cost</th>\n",
       "      <th>Total Project Request 99314 + 99313</th>\n",
       "      <th>Vmt Reduction</th>\n",
       "      <th># of Agencies</th>\n",
       "      <th># of Projects</th>\n",
       "    </tr>\n",
       "  </thead>\n",
       "  <tbody>\n",
       "    <tr>\n",
       "      <th>0</th>\n",
       "      <td>14-15</td>\n",
       "      <td>0.00</td>\n",
       "      <td>0.00</td>\n",
       "      <td>0.00</td>\n",
       "      <td>22753617.00</td>\n",
       "      <td>0.00</td>\n",
       "      <td>0.00</td>\n",
       "      <td>0.00</td>\n",
       "      <td>0.00</td>\n",
       "      <td>0.00</td>\n",
       "      <td>0.00</td>\n",
       "      <td>0.00</td>\n",
       "      <td>24165593.00</td>\n",
       "      <td>0.00</td>\n",
       "      <td>83</td>\n",
       "      <td>95</td>\n",
       "    </tr>\n",
       "    <tr>\n",
       "      <th>1</th>\n",
       "      <td>15-16</td>\n",
       "      <td>0.00</td>\n",
       "      <td>0.00</td>\n",
       "      <td>0.00</td>\n",
       "      <td>69453304.00</td>\n",
       "      <td>10734.81</td>\n",
       "      <td>0.00</td>\n",
       "      <td>0.00</td>\n",
       "      <td>0.00</td>\n",
       "      <td>0.00</td>\n",
       "      <td>236838.00</td>\n",
       "      <td>532800958.42</td>\n",
       "      <td>74700760.00</td>\n",
       "      <td>1193035.95</td>\n",
       "      <td>107</td>\n",
       "      <td>132</td>\n",
       "    </tr>\n",
       "    <tr>\n",
       "      <th>2</th>\n",
       "      <td>16-17</td>\n",
       "      <td>0.00</td>\n",
       "      <td>0.00</td>\n",
       "      <td>0.00</td>\n",
       "      <td>29652105.00</td>\n",
       "      <td>4161658.31</td>\n",
       "      <td>0.00</td>\n",
       "      <td>0.00</td>\n",
       "      <td>0.00</td>\n",
       "      <td>0.00</td>\n",
       "      <td>726533623.50</td>\n",
       "      <td>2625839228.00</td>\n",
       "      <td>34539105.00</td>\n",
       "      <td>10181040666.00</td>\n",
       "      <td>105</td>\n",
       "      <td>126</td>\n",
       "    </tr>\n",
       "    <tr>\n",
       "      <th>3</th>\n",
       "      <td>17-18</td>\n",
       "      <td>72745.82</td>\n",
       "      <td>3110295.00</td>\n",
       "      <td>0.00</td>\n",
       "      <td>66033836.71</td>\n",
       "      <td>3615714.54</td>\n",
       "      <td>17961394.95</td>\n",
       "      <td>607338.50</td>\n",
       "      <td>1143040.39</td>\n",
       "      <td>0.00</td>\n",
       "      <td>1728538312.51</td>\n",
       "      <td>2526653147.52</td>\n",
       "      <td>96864564.50</td>\n",
       "      <td>7682500431.24</td>\n",
       "      <td>109</td>\n",
       "      <td>152</td>\n",
       "    </tr>\n",
       "    <tr>\n",
       "      <th>4</th>\n",
       "      <td>18-19</td>\n",
       "      <td>343172.65</td>\n",
       "      <td>0.00</td>\n",
       "      <td>74167587.23</td>\n",
       "      <td>91638903.30</td>\n",
       "      <td>3062602.71</td>\n",
       "      <td>11417960.94</td>\n",
       "      <td>469422.60</td>\n",
       "      <td>1476528.45</td>\n",
       "      <td>0.00</td>\n",
       "      <td>709833819.75</td>\n",
       "      <td>4137512637.19</td>\n",
       "      <td>146949406.00</td>\n",
       "      <td>4593429702.34</td>\n",
       "      <td>120</td>\n",
       "      <td>180</td>\n",
       "    </tr>\n",
       "    <tr>\n",
       "      <th>5</th>\n",
       "      <td>19-20</td>\n",
       "      <td>1428119.23</td>\n",
       "      <td>-576698452.72</td>\n",
       "      <td>86239774.74</td>\n",
       "      <td>79344810.00</td>\n",
       "      <td>2431934.00</td>\n",
       "      <td>11556745.30</td>\n",
       "      <td>1408618.81</td>\n",
       "      <td>4032264.90</td>\n",
       "      <td>3360000.00</td>\n",
       "      <td>205879775.19</td>\n",
       "      <td>2889873923.16</td>\n",
       "      <td>146054354.00</td>\n",
       "      <td>3096126163.97</td>\n",
       "      <td>110</td>\n",
       "      <td>166</td>\n",
       "    </tr>\n",
       "  </tbody>\n",
       "</table>\n",
       "</div>"
      ],
      "text/plain": [
       "  Funding Year  Diesel Pm Reductions  Lbs  Fossil Fuel Use Reduction  Energy  \\\n",
       "0        14-15                       0.00                               0.00   \n",
       "1        15-16                       0.00                               0.00   \n",
       "2        16-17                       0.00                               0.00   \n",
       "3        17-18                   72745.82                         3110295.00   \n",
       "4        18-19                  343172.65                               0.00   \n",
       "5        19-20                 1428119.23                      -576698452.72   \n",
       "\n",
       "   Fossil Fuel Use Reduction  Transportation  Funds To Benefit Dac  \\\n",
       "0                                       0.00           22753617.00   \n",
       "1                                       0.00           69453304.00   \n",
       "2                                       0.00           29652105.00   \n",
       "3                                       0.00           66033836.71   \n",
       "4                                74167587.23           91638903.30   \n",
       "5                                86239774.74           79344810.00   \n",
       "\n",
       "   Ghg Reduction  Mtco2E  Nox Reductions  Lbs  Pm 2 5 Reductions  Lbs  \\\n",
       "0                   0.00                 0.00                    0.00   \n",
       "1               10734.81                 0.00                    0.00   \n",
       "2             4161658.31                 0.00                    0.00   \n",
       "3             3615714.54          17961394.95               607338.50   \n",
       "4             3062602.71          11417960.94               469422.60   \n",
       "5             2431934.00          11556745.30              1408618.81   \n",
       "\n",
       "   Reactive Organic Gas Reduction  Lbs  Renewable Energy Generation  Kwh  \\\n",
       "0                                 0.00                              0.00   \n",
       "1                                 0.00                              0.00   \n",
       "2                                 0.00                              0.00   \n",
       "3                           1143040.39                              0.00   \n",
       "4                           1476528.45                              0.00   \n",
       "5                           4032264.90                        3360000.00   \n",
       "\n",
       "   Ridership Increase  Total Project Cost  \\\n",
       "0                0.00                0.00   \n",
       "1           236838.00        532800958.42   \n",
       "2        726533623.50       2625839228.00   \n",
       "3       1728538312.51       2526653147.52   \n",
       "4        709833819.75       4137512637.19   \n",
       "5        205879775.19       2889873923.16   \n",
       "\n",
       "   Total Project Request 99314 + 99313  Vmt Reduction  # of Agencies  \\\n",
       "0                          24165593.00           0.00             83   \n",
       "1                          74700760.00     1193035.95            107   \n",
       "2                          34539105.00 10181040666.00            105   \n",
       "3                          96864564.50  7682500431.24            109   \n",
       "4                         146949406.00  4593429702.34            120   \n",
       "5                         146054354.00  3096126163.97            110   \n",
       "\n",
       "   # of Projects  \n",
       "0             95  \n",
       "1            132  \n",
       "2            126  \n",
       "3            152  \n",
       "4            180  \n",
       "5            166  "
      ]
     },
     "execution_count": 44,
     "metadata": {},
     "output_type": "execute_result"
    }
   ],
   "source": [
    "funding_year_summary"
   ]
  },
  {
   "cell_type": "code",
   "execution_count": 45,
   "id": "04904597-1cae-4234-a3d3-ee7812933c9c",
   "metadata": {},
   "outputs": [
    {
     "name": "stderr",
     "output_type": "stream",
     "text": [
      "/tmp/ipykernel_1219/3875248575.py:4: FutureWarning: The default value of regex will change from True to False in a future version.\n"
     ]
    },
    {
     "data": {
      "text/html": [
       "<div>\n",
       "<style scoped>\n",
       "    .dataframe tbody tr th:only-of-type {\n",
       "        vertical-align: middle;\n",
       "    }\n",
       "\n",
       "    .dataframe tbody tr th {\n",
       "        vertical-align: top;\n",
       "    }\n",
       "\n",
       "    .dataframe thead th {\n",
       "        text-align: right;\n",
       "    }\n",
       "</style>\n",
       "<table border=\"1\" class=\"dataframe\">\n",
       "  <thead>\n",
       "    <tr style=\"text-align: right;\">\n",
       "      <th></th>\n",
       "      <th>Distr</th>\n",
       "      <th>Diesel Pm Reductions  Lbs</th>\n",
       "      <th>Fossil Fuel Use Reduction  Energy</th>\n",
       "      <th>Fossil Fuel Use Reduction  Transportation</th>\n",
       "      <th>Funds To Benefit Dac</th>\n",
       "      <th>Ghg Reduction  Mtco2E</th>\n",
       "      <th>Nox Reductions  Lbs</th>\n",
       "      <th>Pm 2 5 Reductions  Lbs</th>\n",
       "      <th>Reactive Organic Gas Reduction  Lbs</th>\n",
       "      <th>Renewable Energy Generation  Kwh</th>\n",
       "      <th>Ridership Increase</th>\n",
       "      <th>Total Project Cost</th>\n",
       "      <th>Total Project Request 99314 + 99313</th>\n",
       "      <th>Vmt Reduction</th>\n",
       "      <th># of Agencies</th>\n",
       "      <th># of Projects</th>\n",
       "    </tr>\n",
       "  </thead>\n",
       "  <tbody>\n",
       "    <tr>\n",
       "      <th>0</th>\n",
       "      <td>1.00</td>\n",
       "      <td>103.36</td>\n",
       "      <td>-141055.15</td>\n",
       "      <td>70484.00</td>\n",
       "      <td>0.00</td>\n",
       "      <td>18488.67</td>\n",
       "      <td>1301.34</td>\n",
       "      <td>47.65</td>\n",
       "      <td>225.51</td>\n",
       "      <td>0.00</td>\n",
       "      <td>753107.00</td>\n",
       "      <td>4180995.00</td>\n",
       "      <td>2301045.00</td>\n",
       "      <td>15128514.51</td>\n",
       "      <td>7</td>\n",
       "      <td>32</td>\n",
       "    </tr>\n",
       "    <tr>\n",
       "      <th>1</th>\n",
       "      <td>2.00</td>\n",
       "      <td>139.31</td>\n",
       "      <td>-258294.70</td>\n",
       "      <td>103247.40</td>\n",
       "      <td>97165.50</td>\n",
       "      <td>3280.63</td>\n",
       "      <td>2732.16</td>\n",
       "      <td>60.49</td>\n",
       "      <td>295.87</td>\n",
       "      <td>0.00</td>\n",
       "      <td>251690.00</td>\n",
       "      <td>3951858.00</td>\n",
       "      <td>2403382.00</td>\n",
       "      <td>3959178.92</td>\n",
       "      <td>10</td>\n",
       "      <td>37</td>\n",
       "    </tr>\n",
       "    <tr>\n",
       "      <th>2</th>\n",
       "      <td>3.00</td>\n",
       "      <td>844.58</td>\n",
       "      <td>-12565575.56</td>\n",
       "      <td>2646770.76</td>\n",
       "      <td>13721967.00</td>\n",
       "      <td>92223.21</td>\n",
       "      <td>271577.44</td>\n",
       "      <td>2916.76</td>\n",
       "      <td>18180.12</td>\n",
       "      <td>0.00</td>\n",
       "      <td>19075842.00</td>\n",
       "      <td>92313849.71</td>\n",
       "      <td>24354724.00</td>\n",
       "      <td>88488520.52</td>\n",
       "      <td>27</td>\n",
       "      <td>138</td>\n",
       "    </tr>\n",
       "    <tr>\n",
       "      <th>3</th>\n",
       "      <td>4.00</td>\n",
       "      <td>1819284.32</td>\n",
       "      <td>-456283278.93</td>\n",
       "      <td>131625537.61</td>\n",
       "      <td>129089347.20</td>\n",
       "      <td>12397941.69</td>\n",
       "      <td>38003101.51</td>\n",
       "      <td>2408985.14</td>\n",
       "      <td>6513817.31</td>\n",
       "      <td>0.00</td>\n",
       "      <td>3164125991.04</td>\n",
       "      <td>11424595473.00</td>\n",
       "      <td>191992875.00</td>\n",
       "      <td>23359678150.08</td>\n",
       "      <td>29</td>\n",
       "      <td>155</td>\n",
       "    </tr>\n",
       "    <tr>\n",
       "      <th>4</th>\n",
       "      <td>5.00</td>\n",
       "      <td>7601.57</td>\n",
       "      <td>-6142167.96</td>\n",
       "      <td>1569921.26</td>\n",
       "      <td>6678624.50</td>\n",
       "      <td>46010.35</td>\n",
       "      <td>294845.01</td>\n",
       "      <td>7229.38</td>\n",
       "      <td>13245.50</td>\n",
       "      <td>3360000.00</td>\n",
       "      <td>5592813.42</td>\n",
       "      <td>41062474.00</td>\n",
       "      <td>13469015.00</td>\n",
       "      <td>23483066.77</td>\n",
       "      <td>13</td>\n",
       "      <td>68</td>\n",
       "    </tr>\n",
       "    <tr>\n",
       "      <th>5</th>\n",
       "      <td>6.00</td>\n",
       "      <td>612.94</td>\n",
       "      <td>-2333163.16</td>\n",
       "      <td>839596.56</td>\n",
       "      <td>15737590.76</td>\n",
       "      <td>36642.95</td>\n",
       "      <td>17759.43</td>\n",
       "      <td>411.95</td>\n",
       "      <td>1649.78</td>\n",
       "      <td>0.00</td>\n",
       "      <td>4392314.21</td>\n",
       "      <td>51279701.74</td>\n",
       "      <td>19597846.00</td>\n",
       "      <td>41941021.10</td>\n",
       "      <td>31</td>\n",
       "      <td>126</td>\n",
       "    </tr>\n",
       "    <tr>\n",
       "      <th>6</th>\n",
       "      <td>7.00</td>\n",
       "      <td>4088.65</td>\n",
       "      <td>-76712805.83</td>\n",
       "      <td>14436420.95</td>\n",
       "      <td>121804166.20</td>\n",
       "      <td>329208.21</td>\n",
       "      <td>372677.41</td>\n",
       "      <td>7514.35</td>\n",
       "      <td>39588.94</td>\n",
       "      <td>0.00</td>\n",
       "      <td>50162987.75</td>\n",
       "      <td>409086897.76</td>\n",
       "      <td>164605685.00</td>\n",
       "      <td>370945504.51</td>\n",
       "      <td>21</td>\n",
       "      <td>95</td>\n",
       "    </tr>\n",
       "    <tr>\n",
       "      <th>7</th>\n",
       "      <td>8.00</td>\n",
       "      <td>2289.36</td>\n",
       "      <td>-5313608.14</td>\n",
       "      <td>4523462.18</td>\n",
       "      <td>23838154.85</td>\n",
       "      <td>110781.08</td>\n",
       "      <td>1576223.73</td>\n",
       "      <td>48751.96</td>\n",
       "      <td>32425.84</td>\n",
       "      <td>0.00</td>\n",
       "      <td>73950573.53</td>\n",
       "      <td>299223477.92</td>\n",
       "      <td>33023402.00</td>\n",
       "      <td>1087298714.26</td>\n",
       "      <td>12</td>\n",
       "      <td>82</td>\n",
       "    </tr>\n",
       "    <tr>\n",
       "      <th>8</th>\n",
       "      <td>9.00</td>\n",
       "      <td>21.53</td>\n",
       "      <td>-61553.50</td>\n",
       "      <td>11903.34</td>\n",
       "      <td>0.00</td>\n",
       "      <td>444.14</td>\n",
       "      <td>277.04</td>\n",
       "      <td>24.34</td>\n",
       "      <td>86.55</td>\n",
       "      <td>0.00</td>\n",
       "      <td>20604.00</td>\n",
       "      <td>935496.00</td>\n",
       "      <td>362380.00</td>\n",
       "      <td>386370.79</td>\n",
       "      <td>4</td>\n",
       "      <td>15</td>\n",
       "    </tr>\n",
       "    <tr>\n",
       "      <th>9</th>\n",
       "      <td>10.00</td>\n",
       "      <td>7528.09</td>\n",
       "      <td>-139669.98</td>\n",
       "      <td>413605.66</td>\n",
       "      <td>9849847.00</td>\n",
       "      <td>82335.34</td>\n",
       "      <td>156497.16</td>\n",
       "      <td>6160.99</td>\n",
       "      <td>11867.28</td>\n",
       "      <td>0.00</td>\n",
       "      <td>6701268.50</td>\n",
       "      <td>30664161.16</td>\n",
       "      <td>13235978.50</td>\n",
       "      <td>234371667.56</td>\n",
       "      <td>24</td>\n",
       "      <td>64</td>\n",
       "    </tr>\n",
       "    <tr>\n",
       "      <th>10</th>\n",
       "      <td>11.00</td>\n",
       "      <td>1369.59</td>\n",
       "      <td>-7248795.34</td>\n",
       "      <td>1927443.79</td>\n",
       "      <td>19203739.00</td>\n",
       "      <td>126157.69</td>\n",
       "      <td>228802.58</td>\n",
       "      <td>1602.73</td>\n",
       "      <td>19125.79</td>\n",
       "      <td>0.00</td>\n",
       "      <td>34908680.00</td>\n",
       "      <td>306428906.00</td>\n",
       "      <td>32311113.00</td>\n",
       "      <td>260716705.43</td>\n",
       "      <td>4</td>\n",
       "      <td>23</td>\n",
       "    </tr>\n",
       "    <tr>\n",
       "      <th>11</th>\n",
       "      <td>12.00</td>\n",
       "      <td>154.40</td>\n",
       "      <td>-6388189.46</td>\n",
       "      <td>2238968.47</td>\n",
       "      <td>18855974.00</td>\n",
       "      <td>39130.42</td>\n",
       "      <td>10306.38</td>\n",
       "      <td>1674.16</td>\n",
       "      <td>1325.24</td>\n",
       "      <td>0.00</td>\n",
       "      <td>11086497.50</td>\n",
       "      <td>48956604.00</td>\n",
       "      <td>25616337.00</td>\n",
       "      <td>67892585.06</td>\n",
       "      <td>1</td>\n",
       "      <td>16</td>\n",
       "    </tr>\n",
       "  </tbody>\n",
       "</table>\n",
       "</div>"
      ],
      "text/plain": [
       "    Distr  Diesel Pm Reductions  Lbs  Fossil Fuel Use Reduction  Energy  \\\n",
       "0    1.00                     103.36                         -141055.15   \n",
       "1    2.00                     139.31                         -258294.70   \n",
       "2    3.00                     844.58                       -12565575.56   \n",
       "3    4.00                 1819284.32                      -456283278.93   \n",
       "4    5.00                    7601.57                        -6142167.96   \n",
       "5    6.00                     612.94                        -2333163.16   \n",
       "6    7.00                    4088.65                       -76712805.83   \n",
       "7    8.00                    2289.36                        -5313608.14   \n",
       "8    9.00                      21.53                          -61553.50   \n",
       "9   10.00                    7528.09                         -139669.98   \n",
       "10  11.00                    1369.59                        -7248795.34   \n",
       "11  12.00                     154.40                        -6388189.46   \n",
       "\n",
       "    Fossil Fuel Use Reduction  Transportation  Funds To Benefit Dac  \\\n",
       "0                                    70484.00                  0.00   \n",
       "1                                   103247.40              97165.50   \n",
       "2                                  2646770.76           13721967.00   \n",
       "3                                131625537.61          129089347.20   \n",
       "4                                  1569921.26            6678624.50   \n",
       "5                                   839596.56           15737590.76   \n",
       "6                                 14436420.95          121804166.20   \n",
       "7                                  4523462.18           23838154.85   \n",
       "8                                    11903.34                  0.00   \n",
       "9                                   413605.66            9849847.00   \n",
       "10                                 1927443.79           19203739.00   \n",
       "11                                 2238968.47           18855974.00   \n",
       "\n",
       "    Ghg Reduction  Mtco2E  Nox Reductions  Lbs  Pm 2 5 Reductions  Lbs  \\\n",
       "0                18488.67              1301.34                   47.65   \n",
       "1                 3280.63              2732.16                   60.49   \n",
       "2                92223.21            271577.44                 2916.76   \n",
       "3             12397941.69          38003101.51              2408985.14   \n",
       "4                46010.35            294845.01                 7229.38   \n",
       "5                36642.95             17759.43                  411.95   \n",
       "6               329208.21            372677.41                 7514.35   \n",
       "7               110781.08           1576223.73                48751.96   \n",
       "8                  444.14               277.04                   24.34   \n",
       "9                82335.34            156497.16                 6160.99   \n",
       "10              126157.69            228802.58                 1602.73   \n",
       "11               39130.42             10306.38                 1674.16   \n",
       "\n",
       "    Reactive Organic Gas Reduction  Lbs  Renewable Energy Generation  Kwh  \\\n",
       "0                                225.51                              0.00   \n",
       "1                                295.87                              0.00   \n",
       "2                              18180.12                              0.00   \n",
       "3                            6513817.31                              0.00   \n",
       "4                              13245.50                        3360000.00   \n",
       "5                               1649.78                              0.00   \n",
       "6                              39588.94                              0.00   \n",
       "7                              32425.84                              0.00   \n",
       "8                                 86.55                              0.00   \n",
       "9                              11867.28                              0.00   \n",
       "10                             19125.79                              0.00   \n",
       "11                              1325.24                              0.00   \n",
       "\n",
       "    Ridership Increase  Total Project Cost  \\\n",
       "0            753107.00          4180995.00   \n",
       "1            251690.00          3951858.00   \n",
       "2          19075842.00         92313849.71   \n",
       "3        3164125991.04      11424595473.00   \n",
       "4           5592813.42         41062474.00   \n",
       "5           4392314.21         51279701.74   \n",
       "6          50162987.75        409086897.76   \n",
       "7          73950573.53        299223477.92   \n",
       "8             20604.00           935496.00   \n",
       "9           6701268.50         30664161.16   \n",
       "10         34908680.00        306428906.00   \n",
       "11         11086497.50         48956604.00   \n",
       "\n",
       "    Total Project Request 99314 + 99313  Vmt Reduction  # of Agencies  \\\n",
       "0                            2301045.00    15128514.51              7   \n",
       "1                            2403382.00     3959178.92             10   \n",
       "2                           24354724.00    88488520.52             27   \n",
       "3                          191992875.00 23359678150.08             29   \n",
       "4                           13469015.00    23483066.77             13   \n",
       "5                           19597846.00    41941021.10             31   \n",
       "6                          164605685.00   370945504.51             21   \n",
       "7                           33023402.00  1087298714.26             12   \n",
       "8                             362380.00      386370.79              4   \n",
       "9                           13235978.50   234371667.56             24   \n",
       "10                          32311113.00   260716705.43              4   \n",
       "11                          25616337.00    67892585.06              1   \n",
       "\n",
       "    # of Projects  \n",
       "0              32  \n",
       "1              37  \n",
       "2             138  \n",
       "3             155  \n",
       "4              68  \n",
       "5             126  \n",
       "6              95  \n",
       "7              82  \n",
       "8              15  \n",
       "9              64  \n",
       "10             23  \n",
       "11             16  "
      ]
     },
     "execution_count": 45,
     "metadata": {},
     "output_type": "execute_result"
    }
   ],
   "source": [
    "district_summary = geography_utils.aggregate_by_geography(\n",
    "    df2, \n",
    "    group_cols= ['distr_'],\n",
    "    nunique_cols = nunique_cols,\n",
    "    sum_cols = sum_cols,)\n",
    "district_summary = (cols_cleanup(district_summary)\n",
    "                        .sort_values('Distr')\n",
    "                        .rename(columns = {'Lead Agency':'# of Agencies',\n",
    "                                           'Project Id#': '# of Projects'})\n",
    "                                           )\n",
    "district_summary"
   ]
  },
  {
   "cell_type": "code",
   "execution_count": 46,
   "id": "65d6aab9-9b79-438f-b760-7f40c2b85dc7",
   "metadata": {
    "scrolled": true,
    "tags": []
   },
   "outputs": [
    {
     "name": "stderr",
     "output_type": "stream",
     "text": [
      "/tmp/ipykernel_1219/3875248575.py:4: FutureWarning: The default value of regex will change from True to False in a future version.\n"
     ]
    },
    {
     "data": {
      "text/html": [
       "<div>\n",
       "<style scoped>\n",
       "    .dataframe tbody tr th:only-of-type {\n",
       "        vertical-align: middle;\n",
       "    }\n",
       "\n",
       "    .dataframe tbody tr th {\n",
       "        vertical-align: top;\n",
       "    }\n",
       "\n",
       "    .dataframe thead th {\n",
       "        text-align: right;\n",
       "    }\n",
       "</style>\n",
       "<table border=\"1\" class=\"dataframe\">\n",
       "  <thead>\n",
       "    <tr style=\"text-align: right;\">\n",
       "      <th></th>\n",
       "      <th>Project Sub Type Ii</th>\n",
       "      <th>Diesel Pm Reductions  Lbs</th>\n",
       "      <th>Fossil Fuel Use Reduction  Energy</th>\n",
       "      <th>Fossil Fuel Use Reduction  Transportation</th>\n",
       "      <th>Funds To Benefit Dac</th>\n",
       "      <th>Ghg Reduction  Mtco2E</th>\n",
       "      <th>Nox Reductions  Lbs</th>\n",
       "      <th>Pm 2 5 Reductions  Lbs</th>\n",
       "      <th>Reactive Organic Gas Reduction  Lbs</th>\n",
       "      <th>Renewable Energy Generation  Kwh</th>\n",
       "      <th>Ridership Increase</th>\n",
       "      <th>Total Project Cost</th>\n",
       "      <th>Total Project Request 99314 + 99313</th>\n",
       "      <th>Vmt Reduction</th>\n",
       "      <th># of Agencies</th>\n",
       "      <th># of Projects</th>\n",
       "    </tr>\n",
       "  </thead>\n",
       "  <tbody>\n",
       "    <tr>\n",
       "      <th>11</th>\n",
       "      <td>Vehicles upgrades to support new expanded/enhanced transit service</td>\n",
       "      <td>859.88</td>\n",
       "      <td>0.00</td>\n",
       "      <td>826647.11</td>\n",
       "      <td>1571622.00</td>\n",
       "      <td>12803.34</td>\n",
       "      <td>37990.82</td>\n",
       "      <td>586.47</td>\n",
       "      <td>2126.01</td>\n",
       "      <td>0.00</td>\n",
       "      <td>750533.00</td>\n",
       "      <td>3504000.00</td>\n",
       "      <td>3143244.00</td>\n",
       "      <td>21802983.65</td>\n",
       "      <td>1</td>\n",
       "      <td>1</td>\n",
       "    </tr>\n",
       "    <tr>\n",
       "      <th>9</th>\n",
       "      <td>Alternative transportation services</td>\n",
       "      <td>19.89</td>\n",
       "      <td>0.00</td>\n",
       "      <td>0.00</td>\n",
       "      <td>100526.00</td>\n",
       "      <td>1110.97</td>\n",
       "      <td>331.60</td>\n",
       "      <td>9.99</td>\n",
       "      <td>66.17</td>\n",
       "      <td>0.00</td>\n",
       "      <td>360170.00</td>\n",
       "      <td>256174.74</td>\n",
       "      <td>90977.00</td>\n",
       "      <td>3224984.00</td>\n",
       "      <td>2</td>\n",
       "      <td>2</td>\n",
       "    </tr>\n",
       "    <tr>\n",
       "      <th>10</th>\n",
       "      <td>New Transit related amenities</td>\n",
       "      <td>3.25</td>\n",
       "      <td>0.00</td>\n",
       "      <td>0.00</td>\n",
       "      <td>0.00</td>\n",
       "      <td>60.87</td>\n",
       "      <td>37.57</td>\n",
       "      <td>3.00</td>\n",
       "      <td>8.02</td>\n",
       "      <td>0.00</td>\n",
       "      <td>43432.50</td>\n",
       "      <td>357764.00</td>\n",
       "      <td>126065.00</td>\n",
       "      <td>140883.79</td>\n",
       "      <td>3</td>\n",
       "      <td>3</td>\n",
       "    </tr>\n",
       "    <tr>\n",
       "      <th>7</th>\n",
       "      <td>Renewable energy/fuel for transit service</td>\n",
       "      <td>0.00</td>\n",
       "      <td>0.00</td>\n",
       "      <td>23415.71</td>\n",
       "      <td>826620.00</td>\n",
       "      <td>13800.06</td>\n",
       "      <td>750825.94</td>\n",
       "      <td>2830.66</td>\n",
       "      <td>21082.87</td>\n",
       "      <td>0.00</td>\n",
       "      <td>29392.00</td>\n",
       "      <td>3469886.00</td>\n",
       "      <td>2040465.00</td>\n",
       "      <td>12271180.00</td>\n",
       "      <td>9</td>\n",
       "      <td>9</td>\n",
       "    </tr>\n",
       "    <tr>\n",
       "      <th>5</th>\n",
       "      <td>Infrastructure to support new expanded/enhanced transit service</td>\n",
       "      <td>10890.61</td>\n",
       "      <td>-9878941.98</td>\n",
       "      <td>21844147.90</td>\n",
       "      <td>14348902.00</td>\n",
       "      <td>1301255.19</td>\n",
       "      <td>134260.97</td>\n",
       "      <td>5069.71</td>\n",
       "      <td>27306.69</td>\n",
       "      <td>3360000.00</td>\n",
       "      <td>658532776.50</td>\n",
       "      <td>564914743.00</td>\n",
       "      <td>19488007.00</td>\n",
       "      <td>4269784558.71</td>\n",
       "      <td>10</td>\n",
       "      <td>16</td>\n",
       "    </tr>\n",
       "    <tr>\n",
       "      <th>3</th>\n",
       "      <td>Network/fare integration</td>\n",
       "      <td>141.43</td>\n",
       "      <td>0.00</td>\n",
       "      <td>1353.83</td>\n",
       "      <td>9931075.00</td>\n",
       "      <td>2030247.88</td>\n",
       "      <td>1067.91</td>\n",
       "      <td>22.30</td>\n",
       "      <td>228.45</td>\n",
       "      <td>0.00</td>\n",
       "      <td>631382424.90</td>\n",
       "      <td>85352573.00</td>\n",
       "      <td>11422334.00</td>\n",
       "      <td>5496118120.35</td>\n",
       "      <td>12</td>\n",
       "      <td>24</td>\n",
       "    </tr>\n",
       "    <tr>\n",
       "      <th>6</th>\n",
       "      <td>New vehicles for new expanded/enhanced transit service</td>\n",
       "      <td>486037.70</td>\n",
       "      <td>-8125021.57</td>\n",
       "      <td>16371837.41</td>\n",
       "      <td>13733702.20</td>\n",
       "      <td>363567.19</td>\n",
       "      <td>7026295.15</td>\n",
       "      <td>445024.89</td>\n",
       "      <td>1116212.43</td>\n",
       "      <td>0.00</td>\n",
       "      <td>46558509.55</td>\n",
       "      <td>441429147.00</td>\n",
       "      <td>16491919.50</td>\n",
       "      <td>774848041.60</td>\n",
       "      <td>19</td>\n",
       "      <td>29</td>\n",
       "    </tr>\n",
       "    <tr>\n",
       "      <th>4</th>\n",
       "      <td>Infrastructure to support zero-emission vehicle(s)</td>\n",
       "      <td>1265107.83</td>\n",
       "      <td>-452383553.46</td>\n",
       "      <td>65896062.88</td>\n",
       "      <td>26065848.50</td>\n",
       "      <td>2249649.01</td>\n",
       "      <td>10881736.22</td>\n",
       "      <td>1241590.99</td>\n",
       "      <td>4046528.51</td>\n",
       "      <td>0.00</td>\n",
       "      <td>138530447.00</td>\n",
       "      <td>2067255898.00</td>\n",
       "      <td>49612423.00</td>\n",
       "      <td>2570415354.34</td>\n",
       "      <td>25</td>\n",
       "      <td>34</td>\n",
       "    </tr>\n",
       "    <tr>\n",
       "      <th>8</th>\n",
       "      <td>New zero-emission vehicles</td>\n",
       "      <td>22940.69</td>\n",
       "      <td>-43045091.03</td>\n",
       "      <td>34751922.33</td>\n",
       "      <td>60061316.16</td>\n",
       "      <td>4743018.64</td>\n",
       "      <td>21518762.42</td>\n",
       "      <td>759207.72</td>\n",
       "      <td>1309086.95</td>\n",
       "      <td>0.00</td>\n",
       "      <td>1019841443.35</td>\n",
       "      <td>6497621200.98</td>\n",
       "      <td>102732493.00</td>\n",
       "      <td>5189093150.28</td>\n",
       "      <td>58</td>\n",
       "      <td>123</td>\n",
       "    </tr>\n",
       "    <tr>\n",
       "      <th>2</th>\n",
       "      <td>New transit related amenities</td>\n",
       "      <td>50872.82</td>\n",
       "      <td>-59379516.69</td>\n",
       "      <td>8282129.82</td>\n",
       "      <td>30748117.20</td>\n",
       "      <td>2247707.23</td>\n",
       "      <td>604755.18</td>\n",
       "      <td>24038.63</td>\n",
       "      <td>115757.76</td>\n",
       "      <td>0.00</td>\n",
       "      <td>814799070.94</td>\n",
       "      <td>2401306189.00</td>\n",
       "      <td>42217131.00</td>\n",
       "      <td>6389424102.78</td>\n",
       "      <td>66</td>\n",
       "      <td>141</td>\n",
       "    </tr>\n",
       "    <tr>\n",
       "      <th>0</th>\n",
       "      <td>Free or reduced fares</td>\n",
       "      <td>1458.49</td>\n",
       "      <td>0.00</td>\n",
       "      <td>1228966.45</td>\n",
       "      <td>34896546.70</td>\n",
       "      <td>42546.87</td>\n",
       "      <td>16840.26</td>\n",
       "      <td>1566.03</td>\n",
       "      <td>3583.80</td>\n",
       "      <td>0.00</td>\n",
       "      <td>13064904.58</td>\n",
       "      <td>101055635.00</td>\n",
       "      <td>58659969.00</td>\n",
       "      <td>75083587.18</td>\n",
       "      <td>88</td>\n",
       "      <td>186</td>\n",
       "    </tr>\n",
       "    <tr>\n",
       "      <th>1</th>\n",
       "      <td>New expanded/enhanced transit service</td>\n",
       "      <td>5705.12</td>\n",
       "      <td>-776032.98</td>\n",
       "      <td>11180878.51</td>\n",
       "      <td>166592300.25</td>\n",
       "      <td>276877.11</td>\n",
       "      <td>-36802.83</td>\n",
       "      <td>5429.52</td>\n",
       "      <td>9846.07</td>\n",
       "      <td>0.00</td>\n",
       "      <td>47129264.63</td>\n",
       "      <td>546156683.57</td>\n",
       "      <td>217248755.00</td>\n",
       "      <td>752083052.83</td>\n",
       "      <td>90</td>\n",
       "      <td>283</td>\n",
       "    </tr>\n",
       "  </tbody>\n",
       "</table>\n",
       "</div>"
      ],
      "text/plain": [
       "                                                   Project Sub Type Ii  \\\n",
       "11  Vehicles upgrades to support new expanded/enhanced transit service   \n",
       "9                                  Alternative transportation services   \n",
       "10                                       New Transit related amenities   \n",
       "7                           Renewable energy/fuel for transit service    \n",
       "5      Infrastructure to support new expanded/enhanced transit service   \n",
       "3                                             Network/fare integration   \n",
       "6               New vehicles for new expanded/enhanced transit service   \n",
       "4                   Infrastructure to support zero-emission vehicle(s)   \n",
       "8                                           New zero-emission vehicles   \n",
       "2                                        New transit related amenities   \n",
       "0                                                Free or reduced fares   \n",
       "1                                New expanded/enhanced transit service   \n",
       "\n",
       "    Diesel Pm Reductions  Lbs  Fossil Fuel Use Reduction  Energy  \\\n",
       "11                     859.88                               0.00   \n",
       "9                       19.89                               0.00   \n",
       "10                       3.25                               0.00   \n",
       "7                        0.00                               0.00   \n",
       "5                    10890.61                        -9878941.98   \n",
       "3                      141.43                               0.00   \n",
       "6                   486037.70                        -8125021.57   \n",
       "4                  1265107.83                      -452383553.46   \n",
       "8                    22940.69                       -43045091.03   \n",
       "2                    50872.82                       -59379516.69   \n",
       "0                     1458.49                               0.00   \n",
       "1                     5705.12                         -776032.98   \n",
       "\n",
       "    Fossil Fuel Use Reduction  Transportation  Funds To Benefit Dac  \\\n",
       "11                                  826647.11            1571622.00   \n",
       "9                                        0.00             100526.00   \n",
       "10                                       0.00                  0.00   \n",
       "7                                    23415.71             826620.00   \n",
       "5                                 21844147.90           14348902.00   \n",
       "3                                     1353.83            9931075.00   \n",
       "6                                 16371837.41           13733702.20   \n",
       "4                                 65896062.88           26065848.50   \n",
       "8                                 34751922.33           60061316.16   \n",
       "2                                  8282129.82           30748117.20   \n",
       "0                                  1228966.45           34896546.70   \n",
       "1                                 11180878.51          166592300.25   \n",
       "\n",
       "    Ghg Reduction  Mtco2E  Nox Reductions  Lbs  Pm 2 5 Reductions  Lbs  \\\n",
       "11               12803.34             37990.82                  586.47   \n",
       "9                 1110.97               331.60                    9.99   \n",
       "10                  60.87                37.57                    3.00   \n",
       "7                13800.06            750825.94                 2830.66   \n",
       "5              1301255.19            134260.97                 5069.71   \n",
       "3              2030247.88              1067.91                   22.30   \n",
       "6               363567.19           7026295.15               445024.89   \n",
       "4              2249649.01          10881736.22              1241590.99   \n",
       "8              4743018.64          21518762.42               759207.72   \n",
       "2              2247707.23            604755.18                24038.63   \n",
       "0                42546.87             16840.26                 1566.03   \n",
       "1               276877.11            -36802.83                 5429.52   \n",
       "\n",
       "    Reactive Organic Gas Reduction  Lbs  Renewable Energy Generation  Kwh  \\\n",
       "11                              2126.01                              0.00   \n",
       "9                                 66.17                              0.00   \n",
       "10                                 8.02                              0.00   \n",
       "7                              21082.87                              0.00   \n",
       "5                              27306.69                        3360000.00   \n",
       "3                                228.45                              0.00   \n",
       "6                            1116212.43                              0.00   \n",
       "4                            4046528.51                              0.00   \n",
       "8                            1309086.95                              0.00   \n",
       "2                             115757.76                              0.00   \n",
       "0                               3583.80                              0.00   \n",
       "1                               9846.07                              0.00   \n",
       "\n",
       "    Ridership Increase  Total Project Cost  \\\n",
       "11           750533.00          3504000.00   \n",
       "9            360170.00           256174.74   \n",
       "10            43432.50           357764.00   \n",
       "7             29392.00          3469886.00   \n",
       "5         658532776.50        564914743.00   \n",
       "3         631382424.90         85352573.00   \n",
       "6          46558509.55        441429147.00   \n",
       "4         138530447.00       2067255898.00   \n",
       "8        1019841443.35       6497621200.98   \n",
       "2         814799070.94       2401306189.00   \n",
       "0          13064904.58        101055635.00   \n",
       "1          47129264.63        546156683.57   \n",
       "\n",
       "    Total Project Request 99314 + 99313  Vmt Reduction  # of Agencies  \\\n",
       "11                           3143244.00    21802983.65              1   \n",
       "9                              90977.00     3224984.00              2   \n",
       "10                            126065.00      140883.79              3   \n",
       "7                            2040465.00    12271180.00              9   \n",
       "5                           19488007.00  4269784558.71             10   \n",
       "3                           11422334.00  5496118120.35             12   \n",
       "6                           16491919.50   774848041.60             19   \n",
       "4                           49612423.00  2570415354.34             25   \n",
       "8                          102732493.00  5189093150.28             58   \n",
       "2                           42217131.00  6389424102.78             66   \n",
       "0                           58659969.00    75083587.18             88   \n",
       "1                          217248755.00   752083052.83             90   \n",
       "\n",
       "    # of Projects  \n",
       "11              1  \n",
       "9               2  \n",
       "10              3  \n",
       "7               9  \n",
       "5              16  \n",
       "3              24  \n",
       "6              29  \n",
       "4              34  \n",
       "8             123  \n",
       "2             141  \n",
       "0             186  \n",
       "1             283  "
      ]
     },
     "execution_count": 46,
     "metadata": {},
     "output_type": "execute_result"
    }
   ],
   "source": [
    "project_type_summary = geography_utils.aggregate_by_geography(\n",
    "    df2, \n",
    "    group_cols= ['project_sub_type_ii'],\n",
    "    nunique_cols = nunique_cols,\n",
    "    sum_cols = sum_cols,)\n",
    "\n",
    "project_type_summary = (cols_cleanup(project_type_summary)\n",
    "                        .sort_values('Lead Agency')\n",
    "                        .rename(columns = {'Lead Agency':'# of Agencies',\n",
    "                                           'Project Id#': '# of Projects'})\n",
    "                                           )\n",
    "project_type_summary"
   ]
  },
  {
   "cell_type": "markdown",
   "id": "2c38daca-ba85-4396-b12a-5a376657296f",
   "metadata": {},
   "source": [
    "### Maps"
   ]
  },
  {
   "cell_type": "code",
   "execution_count": 47,
   "id": "863de563-8e2b-4aec-a621-7309f74dc27e",
   "metadata": {},
   "outputs": [],
   "source": [
    "geojson = (gpd.read_file(f'{Caltrans_shape}')\n",
    "               .to_crs(epsg=4326))\n",
    "#Keep only the columns of interest \n",
    "geojson = geojson[[\"DISTRICT\", \"Shape_Length\", \"Shape_Area\", \"geometry\"]]"
   ]
  },
  {
   "cell_type": "code",
   "execution_count": 48,
   "id": "6ed8f863-291a-406e-a48a-93a473536358",
   "metadata": {},
   "outputs": [],
   "source": [
    "#Merge geojson with the summarized df\n",
    "gdf1 = geojson.merge(\n",
    "    district_summary, how=\"inner\", left_on=\"DISTRICT\", right_on=\"Distr\") \n",
    "  "
   ]
  },
  {
   "cell_type": "code",
   "execution_count": 84,
   "id": "e0162b81-1ebb-46ad-89b7-ef190f20a5e5",
   "metadata": {
    "tags": []
   },
   "outputs": [
    {
     "data": {
      "text/plain": [
       "(-124.92362879654993,\n",
       " -113.61729836444997,\n",
       " 32.06046296725004,\n",
       " 42.48325525375008)"
      ]
     },
     "execution_count": 84,
     "metadata": {},
     "output_type": "execute_result"
    },
    {
     "data": {
      "image/png": "[encoded data removed]",
      "text/plain": [
       "<Figure size 864x432 with 2 Axes>"
      ]
     },
     "metadata": {
      "needs_background": "light"
     },
     "output_type": "display_data"
    }
   ],
   "source": [
    "(gdf1.plot(figsize=(12, 6), cmap='Spectral', column=\"# of Projects\", legend=True).axis(\"off\"))"
   ]
  },
  {
   "cell_type": "code",
   "execution_count": 83,
   "id": "45cee9ac-581c-4f8a-af2a-625754b791d4",
   "metadata": {},
   "outputs": [
    {
     "data": {
      "text/plain": [
       "(-124.92362879654993,\n",
       " -113.61729836444997,\n",
       " 32.06046296725004,\n",
       " 42.48325525375008)"
      ]
     },
     "execution_count": 83,
     "metadata": {},
     "output_type": "execute_result"
    },
    {
     "data": {
      "image/png": "[encoded data removed]",
      "text/plain": [
       "<Figure size 864x432 with 2 Axes>"
      ]
     },
     "metadata": {
      "needs_background": "light"
     },
     "output_type": "display_data"
    }
   ],
   "source": [
    "(gdf1\n",
    " .plot(figsize=(12, 6), cmap='Spectral', column=\"Total Project Request 99314 + 99313\", legend=True)\n",
    " .axis(\"off\")\n",
    ")"
   ]
  },
  {
   "cell_type": "code",
   "execution_count": 51,
   "id": "e6e1eecd-16ac-4fb1-976f-cacf060dd1cd",
   "metadata": {},
   "outputs": [],
   "source": [
    "# save to GCS\n",
    "def geojson_gcs_export(gdf, GCS_FILE_PATH, FILE_NAME):\n",
    "    \"\"\"\n",
    "    Save geodataframe as parquet locally,\n",
    "    then move to GCS bucket and delete local file.\n",
    "\n",
    "    gdf: geopandas.GeoDataFrame\n",
    "    GCS_FILE_PATH: str. Ex: gs://calitp-analytics-data/data-analyses/my-folder/\n",
    "    FILE_NAME: str. Filename.\n",
    "    \"\"\"\n",
    "    gdf.to_file(f\"./{FILE_NAME}.geojson\", driver=\"GeoJSON\")\n",
    "    fs.put(f\"./{FILE_NAME}.geojson\", f\"{GCS_FILE_PATH}{FILE_NAME}.geojson\")\n",
    "    os.remove(f\"./{FILE_NAME}.geojson\")"
   ]
  },
  {
   "cell_type": "code",
   "execution_count": 52,
   "id": "af026566-f44a-43d3-9590-c80b86524de3",
   "metadata": {},
   "outputs": [
    {
     "data": {
      "text/plain": [
       "'\\n# call the function\\ngeojson_gcs_export(\\n    gdf1,\\n    \"gs://calitp-analytics-data/data-analyses/lctop/\",\\n    \"lctop_geojson\",\\n)\\n'"
      ]
     },
     "execution_count": 52,
     "metadata": {},
     "output_type": "execute_result"
    }
   ],
   "source": [
    "'''\n",
    "# call the function\n",
    "geojson_gcs_export(\n",
    "    gdf1,\n",
    "    \"gs://calitp-analytics-data/data-analyses/lctop/\",\n",
    "    \"lctop_geojson\",\n",
    ")\n",
    "'''"
   ]
  },
  {
   "cell_type": "markdown",
   "id": "39e1a14d-76f6-492c-b445-646acb7f55e3",
   "metadata": {},
   "source": [
    "## Lat Lon"
   ]
  },
  {
   "cell_type": "code",
   "execution_count": 53,
   "id": "3591b387-cdb0-448d-985c-d59b7a291348",
   "metadata": {},
   "outputs": [],
   "source": [
    "#Get only values w/ lon and lat\n",
    "df3 = (df2.loc[df2[\"project_location\"] != 'None'])"
   ]
  },
  {
   "cell_type": "code",
   "execution_count": 55,
   "id": "8739a0f5-651f-4278-b6a0-974be6ee06cb",
   "metadata": {},
   "outputs": [
    {
     "name": "stderr",
     "output_type": "stream",
     "text": [
      "/tmp/ipykernel_1219/1287530581.py:1: SettingWithCopyWarning: \n",
      "A value is trying to be set on a copy of a slice from a DataFrame.\n",
      "Try using .loc[row_indexer,col_indexer] = value instead\n",
      "\n",
      "See the caveats in the documentation: https://pandas.pydata.org/pandas-docs/stable/user_guide/indexing.html#returning-a-view-versus-a-copy\n"
     ]
    }
   ],
   "source": [
    "df3['project_location_2'] = (df1['project_location']\n",
    "                             .str.split(\";\").str[0])"
   ]
  },
  {
   "cell_type": "code",
   "execution_count": 56,
   "id": "dd6890f4-44a9-4fbc-9af4-4974225e7539",
   "metadata": {},
   "outputs": [
    {
     "name": "stderr",
     "output_type": "stream",
     "text": [
      "/tmp/ipykernel_1219/1896286892.py:1: SettingWithCopyWarning: \n",
      "A value is trying to be set on a copy of a slice from a DataFrame.\n",
      "Try using .loc[row_indexer,col_indexer] = value instead\n",
      "\n",
      "See the caveats in the documentation: https://pandas.pydata.org/pandas-docs/stable/user_guide/indexing.html#returning-a-view-versus-a-copy\n",
      "/tmp/ipykernel_1219/1896286892.py:1: SettingWithCopyWarning: \n",
      "A value is trying to be set on a copy of a slice from a DataFrame.\n",
      "Try using .loc[row_indexer,col_indexer] = value instead\n",
      "\n",
      "See the caveats in the documentation: https://pandas.pydata.org/pandas-docs/stable/user_guide/indexing.html#returning-a-view-versus-a-copy\n"
     ]
    }
   ],
   "source": [
    "df3[['lon', 'lat']] = (df3['project_location_2']\n",
    "                       .str.split(',', 1, expand=True)\n",
    "                       .apply(pd.to_numeric, errors = 'coerce')\n",
    "                       .fillna(0)\n",
    "                      ) "
   ]
  },
  {
   "cell_type": "code",
   "execution_count": 57,
   "id": "e877e0df-ba9c-46f4-a955-5fc9b5513276",
   "metadata": {},
   "outputs": [],
   "source": [
    "df3 = (df3[(df3['lon'] != 0) & (df3['lat'] != 0)])\n",
    "len(df3)"
   ]
  },
  {
   "cell_type": "code",
   "execution_count": 61,
   "id": "38d930eb-7186-499f-bb19-7d5ad2f6539a",
   "metadata": {},
   "outputs": [],
   "source": [
    "gdf2 = geography_utils.create_point_geometry(df3, 'lon','lat')"
   ]
  },
  {
   "cell_type": "code",
   "execution_count": 90,
   "id": "c5f1dd26-0686-461f-9d5f-becd4632df1a",
   "metadata": {},
   "outputs": [],
   "source": [
    "cols_to_keep = ['funding_year', 'distr_', 'project_id#', 'lead_agency', 'project_name',\n",
    "       'project_type', 'project_sub_type_ii', 'start_date', 'completion_date',\n",
    "        'puc_99313_funds','puc_99314_funds', 'total_project_request_99314_+_99313',\n",
    "       'total_lctop_funds', 'total_cci_funds', 'total_project_cost',\n",
    "       'lctop_%_of_total_project_funds', 'agency_service_area_has_a_dac', 'does_project_benefit_an_ab_1550_dac',\n",
    "        'status', 'lon', 'lat',\n",
    "       'geometry']"
   ]
  },
  {
   "cell_type": "code",
   "execution_count": 91,
   "id": "fddc75b3-41d1-4390-bd49-a055d312a629",
   "metadata": {},
   "outputs": [],
   "source": [
    "gdf2 = gdf2[cols_to_keep]"
   ]
  },
  {
   "cell_type": "code",
   "execution_count": 104,
   "id": "7d58413e-8098-4b69-9255-001b3c11bb0d",
   "metadata": {},
   "outputs": [
    {
     "data": {
      "text/plain": [
       "geopandas.geodataframe.GeoDataFrame"
      ]
     },
     "execution_count": 104,
     "metadata": {},
     "output_type": "execute_result"
    }
   ],
   "source": [
    "type(gdf2)"
   ]
  },
  {
   "cell_type": "code",
   "execution_count": 108,
   "id": "2e51dc0b-c58f-4999-bcb1-d5f5cf1dae4d",
   "metadata": {},
   "outputs": [
    {
     "name": "stderr",
     "output_type": "stream",
     "text": [
      "/opt/conda/lib/python3.10/site-packages/geopandas/io/file.py:362: FutureWarning: pandas.Int64Index is deprecated and will be removed from pandas in a future version. Use pandas.Index with the appropriate dtype instead.\n"
     ]
    }
   ],
   "source": [
    "'''\n",
    "geojson_gcs_export(\n",
    "    gdf2,\n",
    "    \"gs://calitp-analytics-data/data-analyses/lctop/\",\n",
    "    \"lctop_geojson2\")\n",
    "    '''"
   ]
  }
 ],
 "metadata": {
  "kernelspec": {
   "display_name": "Python 3 (ipykernel)",
   "language": "python",
   "name": "python3"
  },
  "language_info": {
   "codemirror_mode": {
    "name": "ipython",
    "version": 3
   },
   "file_extension": ".py",
   "mimetype": "text/x-python",
   "name": "python",
   "nbconvert_exporter": "python",
   "pygments_lexer": "ipython3",
   "version": "3.10.4"
  }
 },
 "nbformat": 4,
 "nbformat_minor": 5
}
