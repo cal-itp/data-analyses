{
 "cells": [
  {
   "cell_type": "markdown",
   "id": "05e855fb-6dd3-4794-9712-ba236e147c73",
   "metadata": {},
   "source": [
    "# First look\n",
    "\n",
    "* [Priority Population/DAC](https://dot.ca.gov/programs/rail-and-mass-transportation/priority-populations-and-disadvantaged-communities)"
   ]
  },
  {
   "cell_type": "code",
   "execution_count": 1,
   "id": "48f6c75b-1f98-41cf-89bc-dd7c9f0ce840",
   "metadata": {},
   "outputs": [
    {
     "name": "stderr",
     "output_type": "stream",
     "text": [
      "/opt/conda/lib/python3.10/site-packages/geopandas/_compat.py:111: UserWarning: The Shapely GEOS version (3.10.2-CAPI-1.16.0) is incompatible with the GEOS version PyGEOS was compiled with (3.10.1-CAPI-1.16.0). Conversions between both will be slow.\n",
      "  warnings.warn(\n"
     ]
    }
   ],
   "source": [
    "import geopandas as gpd\n",
    "import numpy as np\n",
    "import pandas as pd\n",
    "from calitp import *\n",
    "from calitp.storage import get_fs\n",
    "from shared_utils import geography_utils, utils\n",
    "\n",
    "fs = get_fs()\n",
    "import os\n",
    "\n",
    "# Formatting the nb\n",
    "pd.options.display.max_columns = 100\n",
    "pd.set_option(\"display.max_rows\", None)\n",
    "pd.set_option(\"display.max_colwidth\", None)\n",
    "pd.options.display.float_format = \"{:.2f}\".format\n",
    "\n",
    "# Scripts\n",
    "import A1_data_prep as data_prep"
   ]
  },
  {
   "cell_type": "markdown",
   "id": "4f6f57c4-efe7-40b8-b509-57b646d3c5e7",
   "metadata": {},
   "source": [
    "## Loading in the script"
   ]
  },
  {
   "cell_type": "code",
   "execution_count": 2,
   "id": "0f5fe564-d93e-43f1-94fa-09ef723a0bc8",
   "metadata": {},
   "outputs": [],
   "source": [
    "GCS_FILE_PATH = \"gs://calitp-analytics-data/data-analyses/lctop/\"\n",
    "FILE_NAME = \"LCTOP_allyears.xlsx\""
   ]
  },
  {
   "cell_type": "code",
   "execution_count": 3,
   "id": "8a712c90-4765-4afb-ba31-8d166d7b13c6",
   "metadata": {},
   "outputs": [],
   "source": [
    "#Original df \n",
    "df1 = to_snakecase(\n",
    "    pd.read_excel(f\"{GCS_FILE_PATH}{FILE_NAME}\", sheet_name=\"LCTOP_Projects\")\n",
    ")"
   ]
  },
  {
   "cell_type": "code",
   "execution_count": 4,
   "id": "cb9c425c-e2bb-4d4b-ba8a-75a4ec901263",
   "metadata": {},
   "outputs": [
    {
     "name": "stderr",
     "output_type": "stream",
     "text": [
      "/home/jovyan/data-analyses/lctop/A1_data_prep.py:74: FutureWarning: The default value of regex will change from True to False in a future version.\n"
     ]
    }
   ],
   "source": [
    "#Cleaned df\n",
    "df2 = data_prep.clean_lctop()"
   ]
  },
  {
   "cell_type": "code",
   "execution_count": 5,
   "id": "f590cf5d-6492-4d10-ab88-5d76b95489f6",
   "metadata": {},
   "outputs": [
    {
     "name": "stderr",
     "output_type": "stream",
     "text": [
      "/home/jovyan/data-analyses/lctop/A1_data_prep.py:74: FutureWarning: The default value of regex will change from True to False in a future version.\n",
      "/home/jovyan/data-analyses/lctop/A1_data_prep.py:88: FutureWarning: The default value of regex will change from True to False in a future version.\n",
      "/opt/conda/lib/python3.10/site-packages/geopandas/io/file.py:362: FutureWarning: pandas.Int64Index is deprecated and will be removed from pandas in a future version. Use pandas.Index with the appropriate dtype instead.\n"
     ]
    }
   ],
   "source": [
    "district_summary, gdf_dist = data_prep.district_fy_summary()"
   ]
  },
  {
   "cell_type": "code",
   "execution_count": 39,
   "id": "0e349f47-0924-4829-a5b6-86f252eea6e2",
   "metadata": {
    "scrolled": true,
    "tags": []
   },
   "outputs": [],
   "source": [
    "#df2['lead_agency'].sort_values().unique()"
   ]
  },
  {
   "cell_type": "code",
   "execution_count": 38,
   "id": "bb8a5ed7-3872-4267-918d-90ed0f39a2b0",
   "metadata": {},
   "outputs": [
    {
     "data": {
      "text/plain": [
       "175"
      ]
     },
     "execution_count": 38,
     "metadata": {},
     "output_type": "execute_result"
    }
   ],
   "source": [
    "df2['lead_agency'].nunique()"
   ]
  },
  {
   "cell_type": "markdown",
   "id": "ecf1dc3e-9185-46d8-a94a-275196cb7f0c",
   "metadata": {},
   "source": [
    "## Checking out the raw data"
   ]
  },
  {
   "cell_type": "code",
   "execution_count": 7,
   "id": "28f7bfa5-f468-4d8a-9707-f897bed0f888",
   "metadata": {},
   "outputs": [
    {
     "data": {
      "text/plain": [
       "(857, 74)"
      ]
     },
     "execution_count": 7,
     "metadata": {},
     "output_type": "execute_result"
    }
   ],
   "source": [
    "df1.shape"
   ]
  },
  {
   "cell_type": "code",
   "execution_count": 8,
   "id": "b42eeb76-f9c0-435b-a574-f275847fb8ab",
   "metadata": {
    "scrolled": true,
    "tags": []
   },
   "outputs": [
    {
     "data": {
      "text/plain": [
       "count                                              0.70\n",
       "#                                                  0.70\n",
       "funding_year                                       0.70\n",
       "_d                                                 0.70\n",
       "distr_                                             0.70\n",
       "project_id#                                        0.70\n",
       "lead_agency                                        0.70\n",
       "project_name                                       0.70\n",
       "project_type                                       0.58\n",
       "project_sub_type                                  27.42\n",
       "project_sub_type_ii                                0.70\n",
       "#2                                                99.53\n",
       "project_description__short_                       11.79\n",
       "project_location                                  28.12\n",
       "start_date                                        12.02\n",
       "completion_date                                   27.30\n",
       "contact_name                                       1.05\n",
       "contact_phone_#                                    1.05\n",
       "contact_e_mail                                    26.95\n",
       "authorized_agent_name                             12.02\n",
       "authorized_agent_title                            12.25\n",
       "address                                           12.25\n",
       "city,_state,_zip_code                             37.92\n",
       "county                                            79.35\n",
       "contributing_sponsor                              26.37\n",
       "puc_99313_funds                                    3.50\n",
       "puc_99314_funds                                    4.90\n",
       "total_project_request_99314_+_99313                0.58\n",
       "total_lctop_funds                                 27.19\n",
       "total_cci_funds                                   27.19\n",
       "total_project_cost                                11.90\n",
       "lctop_%_of_total_project_funds                    11.90\n",
       "rollover_project                                  52.16\n",
       "has_project_received_other_ggrf_funds             41.89\n",
       "qm_tool__date_                                    41.89\n",
       "project_life                                      41.89\n",
       "ridership_increase                                27.65\n",
       "vmt_reduction                                     29.52\n",
       "ghg_reduction__mtco2e_                            26.14\n",
       "date_ghg_reductions_begin                         63.01\n",
       "diesel_pm_reductions__lbs_                        43.17\n",
       "nox_reductions__lbs_                              43.17\n",
       "pm_2_5_reductions__lbs_                           43.17\n",
       "reactive_organic_gas_reduction__lbs_              43.29\n",
       "fossil_fuel_use_reduction__transportation_        55.31\n",
       "fossil_fuel_use_reduction__energy_                80.16\n",
       "renewable_energy_generation__kwh_                 80.40\n",
       "governors_pillars                                 41.89\n",
       "other_state_policies,_plans,_or_initiatives      100.00\n",
       "describe_policies,_plans,_or_initiatives         100.00\n",
       "support_scoping_plan                              41.89\n",
       "co_benefits                                       41.89\n",
       "calenviroscreen_version                            0.70\n",
       "agency_service_area_has_a_dac                      0.70\n",
       "does_project_benefit_an_ab_1550_dac                0.58\n",
       "dac_data                                           0.70\n",
       "ab_1550_low_income_community__household           41.77\n",
       "ab_1550_1_2_mile_low_income_buffer_region         41.77\n",
       "ab_1550_benefit_criteria_table                    42.01\n",
       "ab_1550_benefit_selected                          53.09\n",
       "identify_specific_ab_1550_group_needs_approach    22.29\n",
       "description_of_ab_1550_community_need             32.56\n",
       "ab_1550_benefit_criteria_met                      51.46\n",
       "description_of_ab_1550_criteria                   33.49\n",
       "qualifying_disadvantaged_community_benefit        41.77\n",
       "funds_to_benefit_dac                               0.35\n",
       "qualifying_low_income_benefit_                    27.19\n",
       "funds_to_benefit_lichh_                           27.07\n",
       "qualifying_1_2_mile_low_income_buffer_            27.30\n",
       "funds_to_benefit_lichh_w_n_1_2_mile_of_a_dac_     27.19\n",
       "status                                            37.34\n",
       "column3                                           62.43\n",
       "column4                                           62.43\n",
       "column5                                           79.00\n",
       "dtype: float64"
      ]
     },
     "execution_count": 8,
     "metadata": {},
     "output_type": "execute_result"
    }
   ],
   "source": [
    "# Get percentages of how many null values per column\n",
    "df1.isnull().sum() * 100 / len(df1)"
   ]
  },
  {
   "cell_type": "code",
   "execution_count": 9,
   "id": "577a255f-5118-4b57-ad7a-6f6ebc6fcee6",
   "metadata": {},
   "outputs": [],
   "source": [
    "# Check out that values are what I expect for certain columns\n",
    "value_count_cols = [\n",
    "    \"project_type\",\n",
    "    \"lead_agency\",\n",
    "    \"distr_\",\n",
    "    \"project_name\",\n",
    "    \"project_id#\",\n",
    "    \"project_sub_type_ii\",\n",
    "]"
   ]
  },
  {
   "cell_type": "code",
   "execution_count": 10,
   "id": "b87580c8-13d6-4057-9204-5ab7a22f899e",
   "metadata": {
    "tags": []
   },
   "outputs": [
    {
     "data": {
      "text/plain": [
       "'\\nfor column in df1[value_count_cols]:\\n    print(\"\\n\" + column)\\n    print(df1[column].value_counts())\\n    \\n'"
      ]
     },
     "execution_count": 10,
     "metadata": {},
     "output_type": "execute_result"
    }
   ],
   "source": [
    "# https://stackoverflow.com/questions/32589829/how-to-get-value-counts-for-multiple-columns-at-once-in-pandas-dataframe\n",
    "\"\"\"\n",
    "for column in df1[value_count_cols]:\n",
    "    print(\"\\n\" + column)\n",
    "    print(df1[column].value_counts())\n",
    "    \n",
    "\"\"\""
   ]
  },
  {
   "cell_type": "code",
   "execution_count": 11,
   "id": "e6d8a75c-ee4c-4ffa-b1dd-f6e8a15cce06",
   "metadata": {},
   "outputs": [
    {
     "name": "stdout",
     "output_type": "stream",
     "text": [
      "\n",
      "project_type\n",
      "3\n",
      "\n",
      "lead_agency\n",
      "213\n",
      "\n",
      "distr_\n",
      "12\n",
      "\n",
      "project_name\n",
      "714\n",
      "\n",
      "project_id#\n",
      "851\n",
      "\n",
      "project_sub_type_ii\n",
      "12\n"
     ]
    }
   ],
   "source": [
    "# Find nunique values\n",
    "for column in df1[value_count_cols]:\n",
    "    print(\"\\n\" + column)\n",
    "    print(df1[column].nunique())"
   ]
  },
  {
   "cell_type": "markdown",
   "id": "53e8c6f2-5769-4e73-ab84-77d5e52ecbe1",
   "metadata": {},
   "source": [
    "### Double checking monetary columns\n"
   ]
  },
  {
   "cell_type": "code",
   "execution_count": 13,
   "id": "a6c4d3b9-5094-4325-be73-4d0f20d6d30b",
   "metadata": {},
   "outputs": [],
   "source": [
    "monetary_cols = [\n",
    "    \"puc_99313_funds\",\n",
    "    \"puc_99314_funds\",\n",
    "    \"total_project_request_99314_+_99313\",\n",
    "    \"total_lctop_funds\",\n",
    "    \"total_cci_funds\",\n",
    "    \"total_project_cost\",\n",
    "    \"lctop_%_of_total_project_funds\",\n",
    "]"
   ]
  },
  {
   "cell_type": "code",
   "execution_count": 14,
   "id": "18f7572f-2f1c-4899-bdd0-bfe043bd32a2",
   "metadata": {},
   "outputs": [],
   "source": [
    "subset = df1[monetary_cols].fillna(0)"
   ]
  },
  {
   "cell_type": "code",
   "execution_count": 15,
   "id": "49146b58-4645-49ed-b78d-c593e850dd69",
   "metadata": {},
   "outputs": [],
   "source": [
    "# https://stackoverflow.com/questions/42405572/how-to-compare-two-columns-of-the-same-dataframe\n",
    "# Compare if PUC 99313 + PUC 99314 equal to total LCTOP Fund\n",
    "subset[\"total_project_comp_to_total_LCTOP_funds\"] = np.where(\n",
    "    subset[\"total_project_request_99314_+_99313\"] == subset[\"total_lctop_funds\"],\n",
    "    \"same\",\n",
    "    \"different\",\n",
    ")"
   ]
  },
  {
   "cell_type": "code",
   "execution_count": 16,
   "id": "5e402250-32a3-45a8-a08c-13192c0706ca",
   "metadata": {},
   "outputs": [],
   "source": [
    "# Comapre if LCTOP equals CCI\n",
    "subset[\"total_lctop_cci\"] = np.where(\n",
    "    subset[\"total_lctop_funds\"] == subset[\"total_cci_funds\"], \"same\", \"different\"\n",
    ")"
   ]
  },
  {
   "cell_type": "code",
   "execution_count": 17,
   "id": "39517162-3f73-42bc-948d-0870704195cb",
   "metadata": {},
   "outputs": [],
   "source": [
    "# Calculate out total_project_request_99314_+_99313 and see if the results equal what was provided to me.\n",
    "subset[\"99314_and_99313\"] = subset[\"puc_99313_funds\"] + subset[\"puc_99314_funds\"]\n",
    "subset[\"my_calc_vs_og_cal\"] = np.where(\n",
    "    subset[\"99314_and_99313\"] == subset[\"total_project_request_99314_+_99313\"],\n",
    "    \"same\",\n",
    "    \"different\",\n",
    ")"
   ]
  },
  {
   "cell_type": "code",
   "execution_count": 18,
   "id": "dc867b48-767f-4d2d-adb4-e669b5ecf703",
   "metadata": {},
   "outputs": [],
   "source": [
    "# Compare total_project_request_99314_+_99313 with total CCI funds\n",
    "subset[\"CCI_99313_99314\"] = np.where(\n",
    "    subset[\"total_project_request_99314_+_99313\"] == subset[\"total_cci_funds\"],\n",
    "    \"same\",\n",
    "    \"different\",\n",
    ")"
   ]
  },
  {
   "cell_type": "code",
   "execution_count": 19,
   "id": "bfe084e6-0409-4851-ac9c-c7cf5c754fd6",
   "metadata": {},
   "outputs": [
    {
     "name": "stdout",
     "output_type": "stream",
     "text": [
      "\n",
      "total_project_comp_to_total_LCTOP_funds\n",
      "different    435\n",
      "same         422\n",
      "Name: total_project_comp_to_total_LCTOP_funds, dtype: int64\n",
      "\n",
      "total_lctop_cci\n",
      "same         813\n",
      "different     44\n",
      "Name: total_lctop_cci, dtype: int64\n",
      "\n",
      "my_calc_vs_og_cal\n",
      "same         856\n",
      "different      1\n",
      "Name: my_calc_vs_og_cal, dtype: int64\n",
      "\n",
      "CCI_99313_99314\n",
      "different    446\n",
      "same         411\n",
      "Name: CCI_99313_99314, dtype: int64\n"
     ]
    }
   ],
   "source": [
    "# Find value_counts\n",
    "value_count_cols_2 = [\n",
    "    \"total_project_comp_to_total_LCTOP_funds\",\n",
    "    \"total_lctop_cci\",\n",
    "    \"my_calc_vs_og_cal\",\n",
    "    \"CCI_99313_99314\",\n",
    "]\n",
    "for column in subset[value_count_cols_2]:\n",
    "    print(\"\\n\" + column)\n",
    "    print(subset[column].value_counts())"
   ]
  },
  {
   "cell_type": "code",
   "execution_count": 20,
   "id": "900c2fc2-cf63-475f-9751-eb67b5893203",
   "metadata": {
    "scrolled": true,
    "tags": []
   },
   "outputs": [],
   "source": [
    "# subset.loc[subset['my_calc_vs_og_cal'] == 'different']"
   ]
  },
  {
   "cell_type": "markdown",
   "id": "6735ee49-b28f-4e59-b6cd-f5dbd56019ac",
   "metadata": {},
   "source": [
    "### Other steps\n",
    "* Double check that agencies are only spelled in ONE way, not in multiple ways.\n",
    "* Change any yes/no open/close columns to lower and strip spaces, so there aren't diffrent options.\n",
    "* Removed county.\n",
    "* Make sure all cols are the same data type"
   ]
  },
  {
   "cell_type": "code",
   "execution_count": 21,
   "id": "18f382cf-6a55-494f-bbb4-bf5880ec59c3",
   "metadata": {
    "scrolled": true,
    "tags": []
   },
   "outputs": [],
   "source": [
    "#Check values manually \n",
    "#df2['lead_agency'].sort_values().unique()"
   ]
  },
  {
   "cell_type": "markdown",
   "id": "160de0bc-7b6d-410c-be01-d3910e3149ec",
   "metadata": {},
   "source": [
    "## Initial insights"
   ]
  },
  {
   "cell_type": "markdown",
   "id": "c78d7ff0-b14c-4d05-ab05-fd2737c3643a",
   "metadata": {},
   "source": [
    "### How are projects benefitting DAC, are they finished or in progress, how many null values are present, etc?\n",
    "* [Disadvantaged Communities](https://dot.ca.gov/programs/rail-and-mass-transportation/priority-populations-and-disadvantaged-communities)\n",
    "* Most projects benefit DAC.\n",
    "* Most agencies have a service area with DAC."
   ]
  },
  {
   "cell_type": "code",
   "execution_count": 22,
   "id": "da650c91-98e7-4a8c-a9d3-3899452d89fe",
   "metadata": {
    "scrolled": true,
    "tags": []
   },
   "outputs": [],
   "source": [
    "# count\n",
    "# https://pandas.pydata.org/docs/reference/api/pandas.DataFrame.from_dict.html\n",
    "result = {}\n",
    "for i in df2[data_prep.boolean_cols]:\n",
    "    result[i] = df2[i].value_counts()"
   ]
  },
  {
   "cell_type": "code",
   "execution_count": 23,
   "id": "f662370c-8874-4c6e-8a1d-99c2d72d8d94",
   "metadata": {},
   "outputs": [],
   "source": [
    "result_df = (\n",
    "    pd.DataFrame.from_dict(result).fillna(0).rename(columns={\"index\": \"Boolean Values\"})\n",
    ")\n",
    "\n",
    "result_df = result_df.div(result_df.sum(axis=0), axis=1)"
   ]
  },
  {
   "cell_type": "code",
   "execution_count": 24,
   "id": "b61d6b07-4a03-412e-9e8a-2c697c4ebcc6",
   "metadata": {},
   "outputs": [
    {
     "data": {
      "text/html": [
       "<style type=\"text/css\">\n",
       "#T_40457_row0_col0, #T_40457_row0_col1, #T_40457_row0_col2, #T_40457_row0_col4, #T_40457_row1_col0, #T_40457_row1_col1, #T_40457_row1_col2, #T_40457_row1_col4, #T_40457_row2_col0, #T_40457_row2_col1, #T_40457_row3_col0, #T_40457_row3_col1, #T_40457_row3_col3, #T_40457_row3_col4, #T_40457_row4_col2, #T_40457_row5_col0, #T_40457_row5_col1, #T_40457_row5_col3, #T_40457_row5_col4, #T_40457_row6_col2, #T_40457_row6_col3 {\n",
       "  background-color: #fff7fb;\n",
       "  color: #000000;\n",
       "}\n",
       "#T_40457_row0_col3 {\n",
       "  background-color: #a5bddb;\n",
       "  color: #000000;\n",
       "}\n",
       "#T_40457_row1_col3 {\n",
       "  background-color: #9ebad9;\n",
       "  color: #000000;\n",
       "}\n",
       "#T_40457_row2_col2 {\n",
       "  background-color: #3f93c2;\n",
       "  color: #f1f1f1;\n",
       "}\n",
       "#T_40457_row2_col3, #T_40457_row5_col2, #T_40457_row6_col0, #T_40457_row6_col1, #T_40457_row6_col4 {\n",
       "  background-color: #023858;\n",
       "  color: #f1f1f1;\n",
       "}\n",
       "#T_40457_row2_col4 {\n",
       "  background-color: #056ead;\n",
       "  color: #f1f1f1;\n",
       "}\n",
       "#T_40457_row3_col2 {\n",
       "  background-color: #faf3f9;\n",
       "  color: #000000;\n",
       "}\n",
       "#T_40457_row4_col0 {\n",
       "  background-color: #91b5d6;\n",
       "  color: #000000;\n",
       "}\n",
       "#T_40457_row4_col1 {\n",
       "  background-color: #6da6cd;\n",
       "  color: #f1f1f1;\n",
       "}\n",
       "#T_40457_row4_col3 {\n",
       "  background-color: #bbc7e0;\n",
       "  color: #000000;\n",
       "}\n",
       "#T_40457_row4_col4 {\n",
       "  background-color: #f1ebf5;\n",
       "  color: #000000;\n",
       "}\n",
       "</style>\n",
       "<table id=\"T_40457\">\n",
       "  <thead>\n",
       "    <tr>\n",
       "      <th class=\"blank level0\" >&nbsp;</th>\n",
       "      <th id=\"T_40457_level0_col0\" class=\"col_heading level0 col0\" >agency_service_area_has_a_dac</th>\n",
       "      <th id=\"T_40457_level0_col1\" class=\"col_heading level0 col1\" >does_project_benefit_an_ab_1550_dac</th>\n",
       "      <th id=\"T_40457_level0_col2\" class=\"col_heading level0 col2\" >status</th>\n",
       "      <th id=\"T_40457_level0_col3\" class=\"col_heading level0 col3\" >qualifying_1_2_mile_low_income_buffer_</th>\n",
       "      <th id=\"T_40457_level0_col4\" class=\"col_heading level0 col4\" >ab_1550_low_income_community__household</th>\n",
       "    </tr>\n",
       "  </thead>\n",
       "  <tbody>\n",
       "    <tr>\n",
       "      <th id=\"T_40457_level0_row0\" class=\"row_heading level0 row0\" >0</th>\n",
       "      <td id=\"T_40457_row0_col0\" class=\"data row0 col0\" >0.000000</td>\n",
       "      <td id=\"T_40457_row0_col1\" class=\"data row0 col1\" >0.000000</td>\n",
       "      <td id=\"T_40457_row0_col2\" class=\"data row0 col2\" >0.000000</td>\n",
       "      <td id=\"T_40457_row0_col3\" class=\"data row0 col3\" >0.180000</td>\n",
       "      <td id=\"T_40457_row0_col4\" class=\"data row0 col4\" >0.000000</td>\n",
       "    </tr>\n",
       "    <tr>\n",
       "      <th id=\"T_40457_level0_row1\" class=\"row_heading level0 row1\" >1</th>\n",
       "      <td id=\"T_40457_row1_col0\" class=\"data row1 col0\" >0.000000</td>\n",
       "      <td id=\"T_40457_row1_col1\" class=\"data row1 col1\" >0.000000</td>\n",
       "      <td id=\"T_40457_row1_col2\" class=\"data row1 col2\" >0.000000</td>\n",
       "      <td id=\"T_40457_row1_col3\" class=\"data row1 col3\" >0.190000</td>\n",
       "      <td id=\"T_40457_row1_col4\" class=\"data row1 col4\" >0.000000</td>\n",
       "    </tr>\n",
       "    <tr>\n",
       "      <th id=\"T_40457_level0_row2\" class=\"row_heading level0 row2\" >None</th>\n",
       "      <td id=\"T_40457_row2_col0\" class=\"data row2 col0\" >0.000000</td>\n",
       "      <td id=\"T_40457_row2_col1\" class=\"data row2 col1\" >0.000000</td>\n",
       "      <td id=\"T_40457_row2_col2\" class=\"data row2 col2\" >0.370000</td>\n",
       "      <td id=\"T_40457_row2_col3\" class=\"data row2 col3\" >0.480000</td>\n",
       "      <td id=\"T_40457_row2_col4\" class=\"data row2 col4\" >0.410000</td>\n",
       "    </tr>\n",
       "    <tr>\n",
       "      <th id=\"T_40457_level0_row3\" class=\"row_heading level0 row3\" >closed</th>\n",
       "      <td id=\"T_40457_row3_col0\" class=\"data row3 col0\" >0.000000</td>\n",
       "      <td id=\"T_40457_row3_col1\" class=\"data row3 col1\" >0.000000</td>\n",
       "      <td id=\"T_40457_row3_col2\" class=\"data row3 col2\" >0.020000</td>\n",
       "      <td id=\"T_40457_row3_col3\" class=\"data row3 col3\" >0.000000</td>\n",
       "      <td id=\"T_40457_row3_col4\" class=\"data row3 col4\" >0.000000</td>\n",
       "    </tr>\n",
       "    <tr>\n",
       "      <th id=\"T_40457_level0_row4\" class=\"row_heading level0 row4\" >no</th>\n",
       "      <td id=\"T_40457_row4_col0\" class=\"data row4 col0\" >0.300000</td>\n",
       "      <td id=\"T_40457_row4_col1\" class=\"data row4 col1\" >0.340000</td>\n",
       "      <td id=\"T_40457_row4_col2\" class=\"data row4 col2\" >0.000000</td>\n",
       "      <td id=\"T_40457_row4_col3\" class=\"data row4 col3\" >0.150000</td>\n",
       "      <td id=\"T_40457_row4_col4\" class=\"data row4 col4\" >0.050000</td>\n",
       "    </tr>\n",
       "    <tr>\n",
       "      <th id=\"T_40457_level0_row5\" class=\"row_heading level0 row5\" >open</th>\n",
       "      <td id=\"T_40457_row5_col0\" class=\"data row5 col0\" >0.000000</td>\n",
       "      <td id=\"T_40457_row5_col1\" class=\"data row5 col1\" >0.000000</td>\n",
       "      <td id=\"T_40457_row5_col2\" class=\"data row5 col2\" >0.610000</td>\n",
       "      <td id=\"T_40457_row5_col3\" class=\"data row5 col3\" >0.000000</td>\n",
       "      <td id=\"T_40457_row5_col4\" class=\"data row5 col4\" >0.000000</td>\n",
       "    </tr>\n",
       "    <tr>\n",
       "      <th id=\"T_40457_level0_row6\" class=\"row_heading level0 row6\" >yes</th>\n",
       "      <td id=\"T_40457_row6_col0\" class=\"data row6 col0\" >0.700000</td>\n",
       "      <td id=\"T_40457_row6_col1\" class=\"data row6 col1\" >0.660000</td>\n",
       "      <td id=\"T_40457_row6_col2\" class=\"data row6 col2\" >0.000000</td>\n",
       "      <td id=\"T_40457_row6_col3\" class=\"data row6 col3\" >0.000000</td>\n",
       "      <td id=\"T_40457_row6_col4\" class=\"data row6 col4\" >0.540000</td>\n",
       "    </tr>\n",
       "  </tbody>\n",
       "</table>\n"
      ],
      "text/plain": [
       "<pandas.io.formats.style.Styler at 0x7fa23b167880>"
      ]
     },
     "execution_count": 24,
     "metadata": {},
     "output_type": "execute_result"
    }
   ],
   "source": [
    "result_df.round(2).style.background_gradient()"
   ]
  },
  {
   "cell_type": "markdown",
   "id": "0b19d7c5-088f-46b5-b59b-58484e1b6731",
   "metadata": {},
   "source": [
    "### Summary Tables"
   ]
  },
  {
   "cell_type": "code",
   "execution_count": 25,
   "id": "b9d57eeb-5b72-4324-baf7-8f9a24022b64",
   "metadata": {},
   "outputs": [],
   "source": [
    "sum_cols = [\n",
    "    \"funds_to_benefit_dac\",\n",
    "    \"total_project_request_99314_+_99313\",\n",
    "    \"total_project_cost\",\n",
    "    \"vmt_reduction\",\n",
    "    \"ghg_reduction__mtco2e_\",\n",
    "    \"diesel_pm_reductions__lbs_\",\n",
    "    \"nox_reductions__lbs_\",\n",
    "    \"pm_2_5_reductions__lbs_\",\n",
    "    \"reactive_organic_gas_reduction__lbs_\",\n",
    "    \"fossil_fuel_use_reduction__transportation_\",\n",
    "    \"ridership_increase\",\n",
    "    \"fossil_fuel_use_reduction__energy_\",\n",
    "    \"renewable_energy_generation__kwh_\",\n",
    "]\n",
    "nunique_cols = [\"project_id#\", \"lead_agency\"]"
   ]
  },
  {
   "cell_type": "code",
   "execution_count": 26,
   "id": "dc6f93c2-b847-4efa-9658-4d7c4bc54804",
   "metadata": {},
   "outputs": [
    {
     "name": "stderr",
     "output_type": "stream",
     "text": [
      "/home/jovyan/data-analyses/lctop/A1_data_prep.py:88: FutureWarning: The default value of regex will change from True to False in a future version.\n"
     ]
    }
   ],
   "source": [
    "funding_year_summary = geography_utils.aggregate_by_geography(\n",
    "    df2, group_cols=[\"funding_year\"], nunique_cols=nunique_cols, sum_cols=sum_cols\n",
    ")\n",
    "\n",
    "funding_year_summary = (\n",
    "    data_prep.cols_cleanup(funding_year_summary)\n",
    "    .sort_values(\"Funding Year\")\n",
    "    .rename(columns={\"Lead Agency\": \"# of Agencies\", \"Project Id#\": \"# of Projects\"})\n",
    ")"
   ]
  },
  {
   "cell_type": "code",
   "execution_count": 27,
   "id": "5358f6a4-787b-41f6-a2e7-cd776a132bbd",
   "metadata": {},
   "outputs": [
    {
     "data": {
      "text/html": [
       "<div>\n",
       "<style scoped>\n",
       "    .dataframe tbody tr th:only-of-type {\n",
       "        vertical-align: middle;\n",
       "    }\n",
       "\n",
       "    .dataframe tbody tr th {\n",
       "        vertical-align: top;\n",
       "    }\n",
       "\n",
       "    .dataframe thead th {\n",
       "        text-align: right;\n",
       "    }\n",
       "</style>\n",
       "<table border=\"1\" class=\"dataframe\">\n",
       "  <thead>\n",
       "    <tr style=\"text-align: right;\">\n",
       "      <th></th>\n",
       "      <th>Funding Year</th>\n",
       "      <th>Diesel Pm Reductions  Lbs</th>\n",
       "      <th>Fossil Fuel Use Reduction  Energy</th>\n",
       "      <th>Fossil Fuel Use Reduction  Transportation</th>\n",
       "      <th>Funds To Benefit Dac</th>\n",
       "      <th>Ghg Reduction  Mtco2E</th>\n",
       "      <th>Nox Reductions  Lbs</th>\n",
       "      <th>Pm 2 5 Reductions  Lbs</th>\n",
       "      <th>Reactive Organic Gas Reduction  Lbs</th>\n",
       "      <th>Renewable Energy Generation  Kwh</th>\n",
       "      <th>Ridership Increase</th>\n",
       "      <th>Total Project Cost</th>\n",
       "      <th>Total Project Request 99314 + 99313</th>\n",
       "      <th>Vmt Reduction</th>\n",
       "      <th># of Agencies</th>\n",
       "      <th># of Projects</th>\n",
       "    </tr>\n",
       "  </thead>\n",
       "  <tbody>\n",
       "    <tr>\n",
       "      <th>0</th>\n",
       "      <td>14-15</td>\n",
       "      <td>0.00</td>\n",
       "      <td>0.00</td>\n",
       "      <td>0.00</td>\n",
       "      <td>22753617.00</td>\n",
       "      <td>0.00</td>\n",
       "      <td>0.00</td>\n",
       "      <td>0.00</td>\n",
       "      <td>0.00</td>\n",
       "      <td>0.00</td>\n",
       "      <td>0.00</td>\n",
       "      <td>0.00</td>\n",
       "      <td>24165593.00</td>\n",
       "      <td>0.00</td>\n",
       "      <td>83</td>\n",
       "      <td>95</td>\n",
       "    </tr>\n",
       "    <tr>\n",
       "      <th>1</th>\n",
       "      <td>15-16</td>\n",
       "      <td>0.00</td>\n",
       "      <td>0.00</td>\n",
       "      <td>0.00</td>\n",
       "      <td>69453304.00</td>\n",
       "      <td>10734.81</td>\n",
       "      <td>0.00</td>\n",
       "      <td>0.00</td>\n",
       "      <td>0.00</td>\n",
       "      <td>0.00</td>\n",
       "      <td>236838.00</td>\n",
       "      <td>532800958.42</td>\n",
       "      <td>74700760.00</td>\n",
       "      <td>1193035.95</td>\n",
       "      <td>107</td>\n",
       "      <td>132</td>\n",
       "    </tr>\n",
       "    <tr>\n",
       "      <th>2</th>\n",
       "      <td>16-17</td>\n",
       "      <td>0.00</td>\n",
       "      <td>0.00</td>\n",
       "      <td>0.00</td>\n",
       "      <td>29652105.00</td>\n",
       "      <td>4161658.31</td>\n",
       "      <td>0.00</td>\n",
       "      <td>0.00</td>\n",
       "      <td>0.00</td>\n",
       "      <td>0.00</td>\n",
       "      <td>726533623.50</td>\n",
       "      <td>2625839228.00</td>\n",
       "      <td>34539105.00</td>\n",
       "      <td>10181040666.00</td>\n",
       "      <td>105</td>\n",
       "      <td>126</td>\n",
       "    </tr>\n",
       "    <tr>\n",
       "      <th>3</th>\n",
       "      <td>17-18</td>\n",
       "      <td>72745.82</td>\n",
       "      <td>3110295.00</td>\n",
       "      <td>0.00</td>\n",
       "      <td>66033836.71</td>\n",
       "      <td>3615714.54</td>\n",
       "      <td>17961394.95</td>\n",
       "      <td>607338.50</td>\n",
       "      <td>1143040.39</td>\n",
       "      <td>0.00</td>\n",
       "      <td>1728538312.51</td>\n",
       "      <td>2526653147.52</td>\n",
       "      <td>96864564.50</td>\n",
       "      <td>7682500431.24</td>\n",
       "      <td>109</td>\n",
       "      <td>152</td>\n",
       "    </tr>\n",
       "    <tr>\n",
       "      <th>4</th>\n",
       "      <td>18-19</td>\n",
       "      <td>343172.65</td>\n",
       "      <td>0.00</td>\n",
       "      <td>74167587.23</td>\n",
       "      <td>91638903.30</td>\n",
       "      <td>3062602.71</td>\n",
       "      <td>11417960.94</td>\n",
       "      <td>469422.60</td>\n",
       "      <td>1476528.45</td>\n",
       "      <td>0.00</td>\n",
       "      <td>709833819.75</td>\n",
       "      <td>4137512637.19</td>\n",
       "      <td>146949406.00</td>\n",
       "      <td>4593429702.34</td>\n",
       "      <td>120</td>\n",
       "      <td>180</td>\n",
       "    </tr>\n",
       "    <tr>\n",
       "      <th>5</th>\n",
       "      <td>19-20</td>\n",
       "      <td>1428119.23</td>\n",
       "      <td>-576698452.72</td>\n",
       "      <td>86239774.74</td>\n",
       "      <td>79344810.00</td>\n",
       "      <td>2431934.00</td>\n",
       "      <td>11556745.30</td>\n",
       "      <td>1408618.81</td>\n",
       "      <td>4032264.90</td>\n",
       "      <td>3360000.00</td>\n",
       "      <td>205879775.19</td>\n",
       "      <td>2889873923.16</td>\n",
       "      <td>146054354.00</td>\n",
       "      <td>3096126163.97</td>\n",
       "      <td>110</td>\n",
       "      <td>166</td>\n",
       "    </tr>\n",
       "  </tbody>\n",
       "</table>\n",
       "</div>"
      ],
      "text/plain": [
       "  Funding Year  Diesel Pm Reductions  Lbs  Fossil Fuel Use Reduction  Energy  \\\n",
       "0        14-15                       0.00                               0.00   \n",
       "1        15-16                       0.00                               0.00   \n",
       "2        16-17                       0.00                               0.00   \n",
       "3        17-18                   72745.82                         3110295.00   \n",
       "4        18-19                  343172.65                               0.00   \n",
       "5        19-20                 1428119.23                      -576698452.72   \n",
       "\n",
       "   Fossil Fuel Use Reduction  Transportation  Funds To Benefit Dac  \\\n",
       "0                                       0.00           22753617.00   \n",
       "1                                       0.00           69453304.00   \n",
       "2                                       0.00           29652105.00   \n",
       "3                                       0.00           66033836.71   \n",
       "4                                74167587.23           91638903.30   \n",
       "5                                86239774.74           79344810.00   \n",
       "\n",
       "   Ghg Reduction  Mtco2E  Nox Reductions  Lbs  Pm 2 5 Reductions  Lbs  \\\n",
       "0                   0.00                 0.00                    0.00   \n",
       "1               10734.81                 0.00                    0.00   \n",
       "2             4161658.31                 0.00                    0.00   \n",
       "3             3615714.54          17961394.95               607338.50   \n",
       "4             3062602.71          11417960.94               469422.60   \n",
       "5             2431934.00          11556745.30              1408618.81   \n",
       "\n",
       "   Reactive Organic Gas Reduction  Lbs  Renewable Energy Generation  Kwh  \\\n",
       "0                                 0.00                              0.00   \n",
       "1                                 0.00                              0.00   \n",
       "2                                 0.00                              0.00   \n",
       "3                           1143040.39                              0.00   \n",
       "4                           1476528.45                              0.00   \n",
       "5                           4032264.90                        3360000.00   \n",
       "\n",
       "   Ridership Increase  Total Project Cost  \\\n",
       "0                0.00                0.00   \n",
       "1           236838.00        532800958.42   \n",
       "2        726533623.50       2625839228.00   \n",
       "3       1728538312.51       2526653147.52   \n",
       "4        709833819.75       4137512637.19   \n",
       "5        205879775.19       2889873923.16   \n",
       "\n",
       "   Total Project Request 99314 + 99313  Vmt Reduction  # of Agencies  \\\n",
       "0                          24165593.00           0.00             83   \n",
       "1                          74700760.00     1193035.95            107   \n",
       "2                          34539105.00 10181040666.00            105   \n",
       "3                          96864564.50  7682500431.24            109   \n",
       "4                         146949406.00  4593429702.34            120   \n",
       "5                         146054354.00  3096126163.97            110   \n",
       "\n",
       "   # of Projects  \n",
       "0             95  \n",
       "1            132  \n",
       "2            126  \n",
       "3            152  \n",
       "4            180  \n",
       "5            166  "
      ]
     },
     "execution_count": 27,
     "metadata": {},
     "output_type": "execute_result"
    }
   ],
   "source": [
    "funding_year_summary"
   ]
  },
  {
   "cell_type": "code",
   "execution_count": 28,
   "id": "d24c9818-2a42-43a0-9cd4-87ce759f5c27",
   "metadata": {
    "tags": []
   },
   "outputs": [
    {
     "name": "stderr",
     "output_type": "stream",
     "text": [
      "/home/jovyan/data-analyses/lctop/A1_data_prep.py:88: FutureWarning: The default value of regex will change from True to False in a future version.\n"
     ]
    }
   ],
   "source": [
    "project_type_summary = geography_utils.aggregate_by_geography(\n",
    "    df2,\n",
    "    group_cols=[\"project_sub_type_ii\"],\n",
    "    nunique_cols=nunique_cols,\n",
    "    sum_cols=sum_cols,\n",
    ")\n",
    "\n",
    "project_type_summary = (\n",
    "    data_prep.cols_cleanup(project_type_summary)\n",
    "    .sort_values(\"Lead Agency\")\n",
    "    .rename(columns={\"Lead Agency\": \"# of Agencies\", \"Project Id#\": \"# of Projects\"})\n",
    ")"
   ]
  },
  {
   "cell_type": "code",
   "execution_count": 29,
   "id": "d915bc61-cc39-4347-83a3-ee8a3895c303",
   "metadata": {
    "tags": []
   },
   "outputs": [
    {
     "data": {
      "text/plain": [
       "851"
      ]
     },
     "execution_count": 29,
     "metadata": {},
     "output_type": "execute_result"
    }
   ],
   "source": [
    "project_type_summary['# of Projects'].sum()"
   ]
  },
  {
   "cell_type": "code",
   "execution_count": 30,
   "id": "2a7c8040-e646-4c12-879a-3001277cee2c",
   "metadata": {},
   "outputs": [
    {
     "data": {
      "text/plain": [
       "358876576.01"
      ]
     },
     "execution_count": 30,
     "metadata": {},
     "output_type": "execute_result"
    }
   ],
   "source": [
    "project_type_summary['Funds To Benefit Dac'].sum()"
   ]
  },
  {
   "cell_type": "code",
   "execution_count": 31,
   "id": "be339179-d913-433c-86ae-333750eaef4e",
   "metadata": {
    "tags": []
   },
   "outputs": [
    {
     "data": {
      "text/plain": [
       "358876576.01"
      ]
     },
     "execution_count": 31,
     "metadata": {},
     "output_type": "execute_result"
    }
   ],
   "source": [
    "district_summary['Funds To Benefit Dac'].sum()"
   ]
  },
  {
   "cell_type": "code",
   "execution_count": 32,
   "id": "b183c38c-6b62-4806-b707-6c5eac296ff1",
   "metadata": {},
   "outputs": [
    {
     "data": {
      "text/plain": [
       "851"
      ]
     },
     "execution_count": 32,
     "metadata": {},
     "output_type": "execute_result"
    }
   ],
   "source": [
    "district_summary['# of Projects'].sum()"
   ]
  },
  {
   "cell_type": "markdown",
   "id": "39e1a14d-76f6-492c-b445-646acb7f55e3",
   "metadata": {},
   "source": [
    "## Lat Lon"
   ]
  },
  {
   "cell_type": "code",
   "execution_count": 33,
   "id": "3591b387-cdb0-448d-985c-d59b7a291348",
   "metadata": {},
   "outputs": [],
   "source": [
    "# Get only values w/ lon and lat\n",
    "df3 = df2.loc[df2[\"project_location\"] != \"None\"]"
   ]
  },
  {
   "cell_type": "code",
   "execution_count": 34,
   "id": "8739a0f5-651f-4278-b6a0-974be6ee06cb",
   "metadata": {},
   "outputs": [
    {
     "name": "stderr",
     "output_type": "stream",
     "text": [
      "/tmp/ipykernel_1204/3693640767.py:1: SettingWithCopyWarning: \n",
      "A value is trying to be set on a copy of a slice from a DataFrame.\n",
      "Try using .loc[row_indexer,col_indexer] = value instead\n",
      "\n",
      "See the caveats in the documentation: https://pandas.pydata.org/pandas-docs/stable/user_guide/indexing.html#returning-a-view-versus-a-copy\n"
     ]
    }
   ],
   "source": [
    "df3[\"project_location_2\"] = df1[\"project_location\"].str.split(\";\").str[0]"
   ]
  },
  {
   "cell_type": "code",
   "execution_count": 35,
   "id": "dd6890f4-44a9-4fbc-9af4-4974225e7539",
   "metadata": {},
   "outputs": [
    {
     "name": "stderr",
     "output_type": "stream",
     "text": [
      "/tmp/ipykernel_1204/1674458213.py:1: SettingWithCopyWarning: \n",
      "A value is trying to be set on a copy of a slice from a DataFrame.\n",
      "Try using .loc[row_indexer,col_indexer] = value instead\n",
      "\n",
      "See the caveats in the documentation: https://pandas.pydata.org/pandas-docs/stable/user_guide/indexing.html#returning-a-view-versus-a-copy\n",
      "/tmp/ipykernel_1204/1674458213.py:1: SettingWithCopyWarning: \n",
      "A value is trying to be set on a copy of a slice from a DataFrame.\n",
      "Try using .loc[row_indexer,col_indexer] = value instead\n",
      "\n",
      "See the caveats in the documentation: https://pandas.pydata.org/pandas-docs/stable/user_guide/indexing.html#returning-a-view-versus-a-copy\n"
     ]
    }
   ],
   "source": [
    "df3[[\"lon\", \"lat\"]] = (\n",
    "    df3[\"project_location_2\"]\n",
    "    .str.split(\",\", 1, expand=True)\n",
    "    .apply(pd.to_numeric, errors=\"coerce\")\n",
    "    .fillna(0)\n",
    ")"
   ]
  },
  {
   "cell_type": "code",
   "execution_count": 36,
   "id": "e877e0df-ba9c-46f4-a955-5fc9b5513276",
   "metadata": {},
   "outputs": [
    {
     "data": {
      "text/plain": [
       "371"
      ]
     },
     "execution_count": 36,
     "metadata": {},
     "output_type": "execute_result"
    }
   ],
   "source": [
    "df3 = df3[(df3[\"lon\"] != 0) & (df3[\"lat\"] != 0)]\n",
    "len(df3)"
   ]
  }
 ],
 "metadata": {
  "kernelspec": {
   "display_name": "Python 3 (ipykernel)",
   "language": "python",
   "name": "python3"
  },
  "language_info": {
   "codemirror_mode": {
    "name": "ipython",
    "version": 3
   },
   "file_extension": ".py",
   "mimetype": "text/x-python",
   "name": "python",
   "nbconvert_exporter": "python",
   "pygments_lexer": "ipython3",
   "version": "3.10.4"
  }
 },
 "nbformat": 4,
 "nbformat_minor": 5
}
