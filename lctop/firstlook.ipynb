{
 "cells": [
  {
   "cell_type": "markdown",
   "id": "05e855fb-6dd3-4794-9712-ba236e147c73",
   "metadata": {},
   "source": [
    "# First look\n",
    "\n",
    "* [Priority Population/DAC](https://dot.ca.gov/programs/rail-and-mass-transportation/priority-populations-and-disadvantaged-communities)"
   ]
  },
  {
   "cell_type": "code",
   "execution_count": null,
   "id": "48f6c75b-1f98-41cf-89bc-dd7c9f0ce840",
   "metadata": {},
   "outputs": [],
   "source": [
    "import geopandas as gpd\n",
    "import numpy as np\n",
    "import pandas as pd\n",
    "from calitp import *\n",
    "from calitp.storage import get_fs\n",
    "from shared_utils import geography_utils, utils\n",
    "\n",
    "fs = get_fs()\n",
    "import os\n",
    "\n",
    "# Formatting the nb\n",
    "pd.options.display.max_columns = 100\n",
    "pd.set_option(\"display.max_rows\", None)\n",
    "pd.set_option(\"display.max_colwidth\", None)\n",
    "pd.options.display.float_format = \"{:.2f}\".format\n",
    "\n",
    "# Scripts\n",
    "import A1_data_prep as data_prep"
   ]
  },
  {
   "cell_type": "code",
   "execution_count": null,
   "id": "0f5fe564-d93e-43f1-94fa-09ef723a0bc8",
   "metadata": {},
   "outputs": [],
   "source": [
    "GCS_FILE_PATH = \"gs://calitp-analytics-data/data-analyses/lctop/\"\n",
    "FILE_NAME = \"LCTOP_allyears.xlsx\""
   ]
  },
  {
   "cell_type": "code",
   "execution_count": null,
   "id": "8a712c90-4765-4afb-ba31-8d166d7b13c6",
   "metadata": {},
   "outputs": [],
   "source": [
    "#Original df \n",
    "df1 = to_snakecase(\n",
    "    pd.read_excel(f\"{GCS_FILE_PATH}{FILE_NAME}\", sheet_name=\"LCTOP_Projects\")\n",
    ")"
   ]
  },
  {
   "cell_type": "code",
   "execution_count": null,
   "id": "cb9c425c-e2bb-4d4b-ba8a-75a4ec901263",
   "metadata": {},
   "outputs": [],
   "source": [
    "#Cleaned df\n",
    "df2 = data_prep.clean_lctop()"
   ]
  },
  {
   "cell_type": "code",
   "execution_count": null,
   "id": "f590cf5d-6492-4d10-ab88-5d76b95489f6",
   "metadata": {},
   "outputs": [],
   "source": [
    "district_summary, gdf_dist = data_prep.district_fy_summary()"
   ]
  },
  {
   "cell_type": "markdown",
   "id": "ecf1dc3e-9185-46d8-a94a-275196cb7f0c",
   "metadata": {},
   "source": [
    "## Checking out the raw data"
   ]
  },
  {
   "cell_type": "code",
   "execution_count": null,
   "id": "28f7bfa5-f468-4d8a-9707-f897bed0f888",
   "metadata": {},
   "outputs": [],
   "source": [
    "df1.shape"
   ]
  },
  {
   "cell_type": "code",
   "execution_count": null,
   "id": "b42eeb76-f9c0-435b-a574-f275847fb8ab",
   "metadata": {
    "scrolled": true,
    "tags": []
   },
   "outputs": [],
   "source": [
    "# Get percentages of how many null values per column\n",
    "df1.isnull().sum() * 100 / len(df1)"
   ]
  },
  {
   "cell_type": "code",
   "execution_count": null,
   "id": "577a255f-5118-4b57-ad7a-6f6ebc6fcee6",
   "metadata": {},
   "outputs": [],
   "source": [
    "# Check out that values are what I expect for certain columns\n",
    "value_count_cols = [\n",
    "    \"project_type\",\n",
    "    \"lead_agency\",\n",
    "    \"distr_\",\n",
    "    \"project_name\",\n",
    "    \"project_id#\",\n",
    "    \"project_sub_type_ii\",\n",
    "]"
   ]
  },
  {
   "cell_type": "code",
   "execution_count": null,
   "id": "b87580c8-13d6-4057-9204-5ab7a22f899e",
   "metadata": {
    "tags": []
   },
   "outputs": [],
   "source": [
    "# https://stackoverflow.com/questions/32589829/how-to-get-value-counts-for-multiple-columns-at-once-in-pandas-dataframe\n",
    "\"\"\"\n",
    "for column in df1[value_count_cols]:\n",
    "    print(\"\\n\" + column)\n",
    "    print(df1[column].value_counts())\n",
    "    \n",
    "\"\"\""
   ]
  },
  {
   "cell_type": "code",
   "execution_count": null,
   "id": "e6d8a75c-ee4c-4ffa-b1dd-f6e8a15cce06",
   "metadata": {},
   "outputs": [],
   "source": [
    "# Find nunique values\n",
    "for column in df1[value_count_cols]:\n",
    "    print(\"\\n\" + column)\n",
    "    print(df1[column].nunique())"
   ]
  },
  {
   "cell_type": "code",
   "execution_count": null,
   "id": "3656c6f1-16e8-42fa-b6be-d76046b0f7fb",
   "metadata": {},
   "outputs": [],
   "source": [
    "#Check that there aren't multiple spellings of the same agency\n",
    "#df1['lead_agency'].sort_values().unique()"
   ]
  },
  {
   "cell_type": "markdown",
   "id": "53e8c6f2-5769-4e73-ab84-77d5e52ecbe1",
   "metadata": {},
   "source": [
    "### Double checking monetary columns\n"
   ]
  },
  {
   "cell_type": "code",
   "execution_count": null,
   "id": "a6c4d3b9-5094-4325-be73-4d0f20d6d30b",
   "metadata": {},
   "outputs": [],
   "source": [
    "monetary_cols = [\n",
    "    \"puc_99313_funds\",\n",
    "    \"puc_99314_funds\",\n",
    "    \"total_project_request_99314_+_99313\",\n",
    "    \"total_lctop_funds\",\n",
    "    \"total_cci_funds\",\n",
    "    \"total_project_cost\",\n",
    "    \"lctop_%_of_total_project_funds\",\n",
    "]"
   ]
  },
  {
   "cell_type": "code",
   "execution_count": null,
   "id": "18f7572f-2f1c-4899-bdd0-bfe043bd32a2",
   "metadata": {},
   "outputs": [],
   "source": [
    "subset = df1[monetary_cols].fillna(0)"
   ]
  },
  {
   "cell_type": "code",
   "execution_count": null,
   "id": "49146b58-4645-49ed-b78d-c593e850dd69",
   "metadata": {},
   "outputs": [],
   "source": [
    "# https://stackoverflow.com/questions/42405572/how-to-compare-two-columns-of-the-same-dataframe\n",
    "# Compare if PUC 99313 + PUC 99314 equal to total LCTOP Fund\n",
    "subset[\"total_project_comp_to_total_LCTOP_funds\"] = np.where(\n",
    "    subset[\"total_project_request_99314_+_99313\"] == subset[\"total_lctop_funds\"],\n",
    "    \"same\",\n",
    "    \"different\",\n",
    ")"
   ]
  },
  {
   "cell_type": "code",
   "execution_count": null,
   "id": "5e402250-32a3-45a8-a08c-13192c0706ca",
   "metadata": {},
   "outputs": [],
   "source": [
    "# Comapre if LCTOP equals CCI\n",
    "subset[\"total_lctop_cci\"] = np.where(\n",
    "    subset[\"total_lctop_funds\"] == subset[\"total_cci_funds\"], \"same\", \"different\"\n",
    ")"
   ]
  },
  {
   "cell_type": "code",
   "execution_count": null,
   "id": "39517162-3f73-42bc-948d-0870704195cb",
   "metadata": {},
   "outputs": [],
   "source": [
    "# Calculate out total_project_request_99314_+_99313 and see if the results equal what was provided to me.\n",
    "subset[\"99314_and_99313\"] = subset[\"puc_99313_funds\"] + subset[\"puc_99314_funds\"]\n",
    "subset[\"my_calc_vs_og_cal\"] = np.where(\n",
    "    subset[\"99314_and_99313\"] == subset[\"total_project_request_99314_+_99313\"],\n",
    "    \"same\",\n",
    "    \"different\",\n",
    ")"
   ]
  },
  {
   "cell_type": "code",
   "execution_count": null,
   "id": "dc867b48-767f-4d2d-adb4-e669b5ecf703",
   "metadata": {},
   "outputs": [],
   "source": [
    "# Compare total_project_request_99314_+_99313 with total CCI funds\n",
    "subset[\"CCI_99313_99314\"] = np.where(\n",
    "    subset[\"total_project_request_99314_+_99313\"] == subset[\"total_cci_funds\"],\n",
    "    \"same\",\n",
    "    \"different\",\n",
    ")"
   ]
  },
  {
   "cell_type": "code",
   "execution_count": null,
   "id": "bfe084e6-0409-4851-ac9c-c7cf5c754fd6",
   "metadata": {},
   "outputs": [],
   "source": [
    "# Find value_counts\n",
    "value_count_cols_2 = [\n",
    "    \"total_project_comp_to_total_LCTOP_funds\",\n",
    "    \"total_lctop_cci\",\n",
    "    \"my_calc_vs_og_cal\",\n",
    "    \"CCI_99313_99314\",\n",
    "]\n",
    "for column in subset[value_count_cols_2]:\n",
    "    print(\"\\n\" + column)\n",
    "    print(subset[column].value_counts())"
   ]
  },
  {
   "cell_type": "code",
   "execution_count": null,
   "id": "900c2fc2-cf63-475f-9751-eb67b5893203",
   "metadata": {
    "scrolled": true,
    "tags": []
   },
   "outputs": [],
   "source": [
    "# subset.loc[subset['my_calc_vs_og_cal'] == 'different']"
   ]
  },
  {
   "cell_type": "markdown",
   "id": "ccc896ca-4dbf-4049-96e0-6fe0d8a1ce78",
   "metadata": {
    "tags": []
   },
   "source": [
    "### Check negative values"
   ]
  },
  {
   "cell_type": "code",
   "execution_count": null,
   "id": "afe0e71e-a801-461f-9cd9-44db6e0caa2a",
   "metadata": {},
   "outputs": [],
   "source": [
    "env_cols = [\n",
    "    \"vmt_reduction\",\n",
    "    \"ghg_reduction__mtco2e_\",\n",
    "    \"diesel_pm_reductions__lbs_\",\n",
    "    \"nox_reductions__lbs_\",\n",
    "    \"pm_2_5_reductions__lbs_\",\n",
    "    \"reactive_organic_gas_reduction__lbs_\",\n",
    "    \"fossil_fuel_use_reduction__transportation_\",\n",
    "    \"fossil_fuel_use_reduction__energy_\",\n",
    "    \"renewable_energy_generation__kwh_\",\n",
    "]"
   ]
  },
  {
   "cell_type": "code",
   "execution_count": null,
   "id": "492190d7-c7dc-411c-a595-7cf8deadfe4a",
   "metadata": {
    "scrolled": true,
    "tags": []
   },
   "outputs": [],
   "source": [
    "subset_env = df1[env_cols]"
   ]
  },
  {
   "cell_type": "code",
   "execution_count": null,
   "id": "03eaf03e-78ff-4ddd-ab6e-575e194a364e",
   "metadata": {},
   "outputs": [],
   "source": [
    "subset_env.lt(0).sum()"
   ]
  },
  {
   "cell_type": "code",
   "execution_count": null,
   "id": "0d796d54-1701-4b69-9d44-edeb1e91cfc0",
   "metadata": {},
   "outputs": [],
   "source": [
    "# Find nunique values\n",
    "for column in df1[value_count_cols]:\n",
    "    print(\"\\n\" + column)\n",
    "    print(df2[column].nunique())"
   ]
  },
  {
   "cell_type": "markdown",
   "id": "6735ee49-b28f-4e59-b6cd-f5dbd56019ac",
   "metadata": {},
   "source": [
    "### Other steps\n",
    "* Double check that agencies are only spelled in ONE way, not in multiple ways.\n",
    "* Change any yes/no open/close columns to lower and strip spaces, so there aren't diffrent options.\n",
    "* Removed county.\n",
    "* Make sure all cols are the same data type"
   ]
  },
  {
   "cell_type": "code",
   "execution_count": null,
   "id": "18f382cf-6a55-494f-bbb4-bf5880ec59c3",
   "metadata": {
    "scrolled": true,
    "tags": []
   },
   "outputs": [],
   "source": [
    "#Check values manually \n",
    "#df2['lead_agency'].sort_values().unique()"
   ]
  },
  {
   "cell_type": "markdown",
   "id": "160de0bc-7b6d-410c-be01-d3910e3149ec",
   "metadata": {},
   "source": [
    "## Initial insights"
   ]
  },
  {
   "cell_type": "markdown",
   "id": "c78d7ff0-b14c-4d05-ab05-fd2737c3643a",
   "metadata": {},
   "source": [
    "### How are projects benefitting DAC, are they finished or in progress, how many null values are present, etc?\n",
    "* [Disadvantaged Communities](https://dot.ca.gov/programs/rail-and-mass-transportation/priority-populations-and-disadvantaged-communities)\n",
    "* Most projects benefit DAC.\n",
    "* Most agencies have a service area with DAC."
   ]
  },
  {
   "cell_type": "code",
   "execution_count": null,
   "id": "da650c91-98e7-4a8c-a9d3-3899452d89fe",
   "metadata": {
    "scrolled": true,
    "tags": []
   },
   "outputs": [],
   "source": [
    "# count\n",
    "# https://pandas.pydata.org/docs/reference/api/pandas.DataFrame.from_dict.html\n",
    "result = {}\n",
    "for i in df2[boolean_cols]:\n",
    "    result[i] = df2[i].value_counts()"
   ]
  },
  {
   "cell_type": "code",
   "execution_count": null,
   "id": "f662370c-8874-4c6e-8a1d-99c2d72d8d94",
   "metadata": {},
   "outputs": [],
   "source": [
    "result_df = (\n",
    "    pd.DataFrame.from_dict(result).fillna(0).rename(columns={\"index\": \"Boolean Values\"})\n",
    ")\n",
    "\n",
    "result_df = result_df.div(result_df.sum(axis=0), axis=1)"
   ]
  },
  {
   "cell_type": "code",
   "execution_count": null,
   "id": "b61d6b07-4a03-412e-9e8a-2c697c4ebcc6",
   "metadata": {},
   "outputs": [],
   "source": [
    "result_df.round(2).style.background_gradient()"
   ]
  },
  {
   "cell_type": "markdown",
   "id": "0b19d7c5-088f-46b5-b59b-58484e1b6731",
   "metadata": {},
   "source": [
    "### Summary Tables"
   ]
  },
  {
   "cell_type": "code",
   "execution_count": null,
   "id": "b9d57eeb-5b72-4324-baf7-8f9a24022b64",
   "metadata": {},
   "outputs": [],
   "source": [
    "sum_cols = [\n",
    "    \"funds_to_benefit_dac\",\n",
    "    \"total_project_request_99314_+_99313\",\n",
    "    \"total_project_cost\",\n",
    "    \"vmt_reduction\",\n",
    "    \"ghg_reduction__mtco2e_\",\n",
    "    \"diesel_pm_reductions__lbs_\",\n",
    "    \"nox_reductions__lbs_\",\n",
    "    \"pm_2_5_reductions__lbs_\",\n",
    "    \"reactive_organic_gas_reduction__lbs_\",\n",
    "    \"fossil_fuel_use_reduction__transportation_\",\n",
    "    \"ridership_increase\",\n",
    "    \"fossil_fuel_use_reduction__energy_\",\n",
    "    \"renewable_energy_generation__kwh_\",\n",
    "]\n",
    "nunique_cols = [\"project_id#\", \"lead_agency\"]"
   ]
  },
  {
   "cell_type": "code",
   "execution_count": null,
   "id": "dc6f93c2-b847-4efa-9658-4d7c4bc54804",
   "metadata": {},
   "outputs": [],
   "source": [
    "funding_year_summary = geography_utils.aggregate_by_geography(\n",
    "    df2, group_cols=[\"funding_year\"], nunique_cols=nunique_cols, sum_cols=sum_cols\n",
    ")\n",
    "\n",
    "funding_year_summary = (\n",
    "    cols_cleanup(funding_year_summary)\n",
    "    .sort_values(\"Funding Year\")\n",
    "    .rename(columns={\"Lead Agency\": \"# of Agencies\", \"Project Id#\": \"# of Projects\"})\n",
    ")"
   ]
  },
  {
   "cell_type": "code",
   "execution_count": null,
   "id": "5358f6a4-787b-41f6-a2e7-cd776a132bbd",
   "metadata": {},
   "outputs": [],
   "source": [
    "funding_year_summary"
   ]
  },
  {
   "cell_type": "code",
   "execution_count": null,
   "id": "d24c9818-2a42-43a0-9cd4-87ce759f5c27",
   "metadata": {
    "scrolled": true,
    "tags": []
   },
   "outputs": [],
   "source": [
    "project_type_summary = geography_utils.aggregate_by_geography(\n",
    "    df2,\n",
    "    group_cols=[\"project_sub_type_ii\"],\n",
    "    nunique_cols=nunique_cols,\n",
    "    sum_cols=sum_cols,\n",
    ")\n",
    "\n",
    "project_type_summary = (\n",
    "    cols_cleanup(project_type_summary)\n",
    "    .sort_values(\"Lead Agency\")\n",
    "    .rename(columns={\"Lead Agency\": \"# of Agencies\", \"Project Id#\": \"# of Projects\"})\n",
    ")"
   ]
  },
  {
   "cell_type": "code",
   "execution_count": null,
   "id": "d915bc61-cc39-4347-83a3-ee8a3895c303",
   "metadata": {
    "tags": []
   },
   "outputs": [],
   "source": [
    "project_type_summary['# of Projects'].sum()"
   ]
  },
  {
   "cell_type": "code",
   "execution_count": null,
   "id": "2a7c8040-e646-4c12-879a-3001277cee2c",
   "metadata": {},
   "outputs": [],
   "source": [
    "project_type_summary['Funds To Benefit Dac'].sum()"
   ]
  },
  {
   "cell_type": "code",
   "execution_count": null,
   "id": "be339179-d913-433c-86ae-333750eaef4e",
   "metadata": {
    "tags": []
   },
   "outputs": [],
   "source": [
    "district_summary['Funds To Benefit Dac'].sum()"
   ]
  },
  {
   "cell_type": "code",
   "execution_count": null,
   "id": "b183c38c-6b62-4806-b707-6c5eac296ff1",
   "metadata": {},
   "outputs": [],
   "source": [
    "district_summary['# of Projects'].sum()"
   ]
  },
  {
   "cell_type": "markdown",
   "id": "39e1a14d-76f6-492c-b445-646acb7f55e3",
   "metadata": {},
   "source": [
    "## Lat Lon"
   ]
  },
  {
   "cell_type": "code",
   "execution_count": null,
   "id": "3591b387-cdb0-448d-985c-d59b7a291348",
   "metadata": {},
   "outputs": [],
   "source": [
    "# Get only values w/ lon and lat\n",
    "df3 = df2.loc[df2[\"project_location\"] != \"None\"]"
   ]
  },
  {
   "cell_type": "code",
   "execution_count": null,
   "id": "8739a0f5-651f-4278-b6a0-974be6ee06cb",
   "metadata": {},
   "outputs": [],
   "source": [
    "df3[\"project_location_2\"] = df1[\"project_location\"].str.split(\";\").str[0]"
   ]
  },
  {
   "cell_type": "code",
   "execution_count": null,
   "id": "dd6890f4-44a9-4fbc-9af4-4974225e7539",
   "metadata": {},
   "outputs": [],
   "source": [
    "df3[[\"lon\", \"lat\"]] = (\n",
    "    df3[\"project_location_2\"]\n",
    "    .str.split(\",\", 1, expand=True)\n",
    "    .apply(pd.to_numeric, errors=\"coerce\")\n",
    "    .fillna(0)\n",
    ")"
   ]
  },
  {
   "cell_type": "code",
   "execution_count": null,
   "id": "e877e0df-ba9c-46f4-a955-5fc9b5513276",
   "metadata": {},
   "outputs": [],
   "source": [
    "df3 = df3[(df3[\"lon\"] != 0) & (df3[\"lat\"] != 0)]\n",
    "len(df3)"
   ]
  },
  {
   "cell_type": "code",
   "execution_count": null,
   "id": "7d58413e-8098-4b69-9255-001b3c11bb0d",
   "metadata": {},
   "outputs": [],
   "source": [
    "type(gdf2)"
   ]
  }
 ],
 "metadata": {
  "kernelspec": {
   "display_name": "Python 3 (ipykernel)",
   "language": "python",
   "name": "python3"
  },
  "language_info": {
   "codemirror_mode": {
    "name": "ipython",
    "version": 3
   },
   "file_extension": ".py",
   "mimetype": "text/x-python",
   "name": "python",
   "nbconvert_exporter": "python",
   "pygments_lexer": "ipython3",
   "version": "3.10.4"
  }
 },
 "nbformat": 4,
 "nbformat_minor": 5
}
