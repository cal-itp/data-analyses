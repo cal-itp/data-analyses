{
 "cells": [
  {
   "cell_type": "code",
   "execution_count": 1,
   "id": "873ef61b-098a-49da-9c28-2667af4ffd64",
   "metadata": {},
   "outputs": [
    {
     "name": "stdout",
     "output_type": "stream",
     "text": [
      "Requirement already satisfied: shared_utils in /opt/conda/lib/python3.11/site-packages (4.2)\n",
      "Note: you may need to restart the kernel to use updated packages.\n"
     ]
    }
   ],
   "source": [
    "pip install shared_utils"
   ]
  },
  {
   "cell_type": "code",
   "execution_count": 2,
   "id": "0cdda776-857c-4e47-8ce8-940bfc49bb29",
   "metadata": {
    "tags": []
   },
   "outputs": [
    {
     "name": "stdout",
     "output_type": "stream",
     "text": [
      "Requirement already satisfied: pygris in /opt/conda/lib/python3.11/site-packages (0.2.0)\n",
      "Requirement already satisfied: geopandas>=0.9 in /opt/conda/lib/python3.11/site-packages (from pygris) (0.14.4)\n",
      "Requirement already satisfied: requests in /opt/conda/lib/python3.11/site-packages (from pygris) (2.32.5)\n",
      "Requirement already satisfied: appdirs in /opt/conda/lib/python3.11/site-packages (from pygris) (1.4.4)\n",
      "Requirement already satisfied: fiona>=1.8.21 in /opt/conda/lib/python3.11/site-packages (from geopandas>=0.9->pygris) (1.10.1)\n",
      "Requirement already satisfied: numpy>=1.22 in /opt/conda/lib/python3.11/site-packages (from geopandas>=0.9->pygris) (1.26.4)\n",
      "Requirement already satisfied: packaging in /opt/conda/lib/python3.11/site-packages (from geopandas>=0.9->pygris) (25.0)\n",
      "Requirement already satisfied: pandas>=1.4.0 in /opt/conda/lib/python3.11/site-packages (from geopandas>=0.9->pygris) (1.5.3)\n",
      "Requirement already satisfied: pyproj>=3.3.0 in /opt/conda/lib/python3.11/site-packages (from geopandas>=0.9->pygris) (3.7.2)\n",
      "Requirement already satisfied: shapely>=1.8.0 in /opt/conda/lib/python3.11/site-packages (from geopandas>=0.9->pygris) (2.1.1)\n",
      "Requirement already satisfied: charset_normalizer<4,>=2 in /opt/conda/lib/python3.11/site-packages (from requests->pygris) (3.4.3)\n",
      "Requirement already satisfied: idna<4,>=2.5 in /opt/conda/lib/python3.11/site-packages (from requests->pygris) (3.10)\n",
      "Requirement already satisfied: urllib3<3,>=1.21.1 in /opt/conda/lib/python3.11/site-packages (from requests->pygris) (2.5.0)\n",
      "Requirement already satisfied: certifi>=2017.4.17 in /opt/conda/lib/python3.11/site-packages (from requests->pygris) (2025.8.3)\n",
      "Requirement already satisfied: attrs>=19.2.0 in /opt/conda/lib/python3.11/site-packages (from fiona>=1.8.21->geopandas>=0.9->pygris) (25.3.0)\n",
      "Requirement already satisfied: click~=8.0 in /opt/conda/lib/python3.11/site-packages (from fiona>=1.8.21->geopandas>=0.9->pygris) (8.2.1)\n",
      "Requirement already satisfied: click-plugins>=1.0 in /opt/conda/lib/python3.11/site-packages (from fiona>=1.8.21->geopandas>=0.9->pygris) (1.1.1.2)\n",
      "Requirement already satisfied: cligj>=0.5 in /opt/conda/lib/python3.11/site-packages (from fiona>=1.8.21->geopandas>=0.9->pygris) (0.7.2)\n",
      "Requirement already satisfied: python-dateutil>=2.8.1 in /opt/conda/lib/python3.11/site-packages (from pandas>=1.4.0->geopandas>=0.9->pygris) (2.9.0.post0)\n",
      "Requirement already satisfied: pytz>=2020.1 in /opt/conda/lib/python3.11/site-packages (from pandas>=1.4.0->geopandas>=0.9->pygris) (2025.2)\n",
      "Requirement already satisfied: six>=1.5 in /opt/conda/lib/python3.11/site-packages (from python-dateutil>=2.8.1->pandas>=1.4.0->geopandas>=0.9->pygris) (1.17.0)\n",
      "Note: you may need to restart the kernel to use updated packages.\n"
     ]
    }
   ],
   "source": [
    "pip install pygris"
   ]
  },
  {
   "cell_type": "code",
   "execution_count": 3,
   "id": "94b52594-1c8e-45e0-bedc-957467ef9959",
   "metadata": {
    "tags": []
   },
   "outputs": [],
   "source": [
    "import sys\n",
    "sys.path.append('../ahsc_grant')"
   ]
  },
  {
   "cell_type": "code",
   "execution_count": 4,
   "id": "dfd19a35-4791-4c64-a90a-88ec37c3b4b9",
   "metadata": {
    "tags": []
   },
   "outputs": [],
   "source": [
    "import pandas as pd \n",
    "import geopandas as gpd\n",
    "import google.auth\n",
    "import os\n",
    "import gcsfs\n",
    "import requests\n",
    "from pygris import tracts \n",
    "from calitp_data_analysis.sql import get_engine\n",
    "from shared_utils import schedule_rt_utils \n",
    "from gtfs_key_ntd_crosswalk import filter_to_valid_dates\n",
    "db_engine = get_engine()\n",
    "credentials, project = google.auth.default()\n",
    "fs = gcsfs.GCSFileSystem()\n",
    "\n",
    "pd.set_option('display.max_columns', None)"
   ]
  },
  {
   "cell_type": "code",
   "execution_count": 5,
   "id": "af0504b4-642c-4977-b166-d800acfc82a0",
   "metadata": {},
   "outputs": [],
   "source": [
    "GCS_FILE_PATH  = 'gs://calitp-analytics-data/data-analyses'\n",
    "analysis_date = \"2025-08-20\""
   ]
  },
  {
   "cell_type": "code",
   "execution_count": 6,
   "id": "bcece4ad-cb36-47e5-8ec9-1ab7d909f472",
   "metadata": {
    "tags": []
   },
   "outputs": [],
   "source": [
    "with open (\"ACS_apikey\", \"r\") as file:\n",
    "    api_key = file.read().strip()"
   ]
  },
  {
   "cell_type": "code",
   "execution_count": 7,
   "id": "2fc77411-cfa0-45b8-9103-f1972f92e9ad",
   "metadata": {
    "tags": []
   },
   "outputs": [],
   "source": [
    "# County Level Metrics required: \"Total Population\", \"Total Veteran Population\", \"Total Senior Population\", \"Total Low Income Population\"\n",
    "variables = [\n",
    "    \"B01003_001E\",                                                                            # Total Population\n",
    "    \"B17001_002E\",                                                                            # Population with Income in the past 12 months below poverty level\n",
    "    \"B16008_037E\",                                                                            # Non US Citizen Population\n",
    "    \"B01001_020E\", \"B01001_021E\", \"B01001_022E\", \"B01001_023E\", \"B01001_024E\", \"B01001_025E\", # Male senior population : 65 and above\n",
    "    \"B01001_044E\", \"B01001_045E\", \"B01001_046E\", \"B01001_047E\", \"B01001_048E\", \"B01001_049E\", # Female senior population : 65 and above\n",
    "    \"B06010_004E\", \"B06010_005E\", \"B06010_006E\",                                              # Population with extremely low income\n",
    "    \"B06010_007E\", \"B06010_008E\",                                                             # Population with very low income\n",
    "    \"B06010_009E\", \"B06010_010E\",                                                             # Population with low income \n",
    "    \"B08014_002E\", \"B08201_002E\",                                                             # Workers and Households with no cars\n",
    "    \"B18101_001E\",                                                                            # Total Population with Disability\n",
    "    \"B19058_001E\"                                                                             # Public Assistance Income or Food Stamps/SNAP in past 12 months for Households\n",
    "]\n",
    "\n",
    "             "
   ]
  },
  {
   "cell_type": "code",
   "execution_count": 8,
   "id": "5b08cfbf-e7ed-4b4a-8e38-68e66a760086",
   "metadata": {},
   "outputs": [],
   "source": [
    "variable_str = \"NAME,\" + \",\".join(variables)"
   ]
  },
  {
   "cell_type": "code",
   "execution_count": 9,
   "id": "ad038c7f-7aef-4a3d-a878-00190d1b9fb9",
   "metadata": {
    "tags": []
   },
   "outputs": [],
   "source": [
    "url = f\"https://api.census.gov/data/2023/acs/acs5?get={variable_str}&for=tract:*&in=state:06&key={api_key}\""
   ]
  },
  {
   "cell_type": "code",
   "execution_count": 10,
   "id": "00b4b017-18de-42fa-98b0-6d91950a9474",
   "metadata": {
    "tags": []
   },
   "outputs": [],
   "source": [
    "response = requests.get(url)"
   ]
  },
  {
   "cell_type": "code",
   "execution_count": 11,
   "id": "94684cc6-092a-4ed3-8872-76e3e7a4ef33",
   "metadata": {
    "tags": []
   },
   "outputs": [],
   "source": [
    "if response.status_code == 200:\n",
    "    data = response.json()\n",
    "    census_data = pd.DataFrame(data[1:], columns=data[0])\n",
    "    \n",
    "    # Create GEOID column\n",
    "    census_data[\"GEOID\"] = census_data[\"state\"] + census_data[\"county\"] + census_data[\"tract\"]"
   ]
  },
  {
   "cell_type": "code",
   "execution_count": 12,
   "id": "b69bf253-d227-4ef5-9601-f4f3605f1877",
   "metadata": {
    "tags": []
   },
   "outputs": [],
   "source": [
    "census_data['county_name'] = census_data['NAME'].str.extract(r';\\s*([A-Za-z\\s]+) County;')"
   ]
  },
  {
   "cell_type": "code",
   "execution_count": 13,
   "id": "5a03871e-f6b4-46fc-99d2-0dbfa04d1f38",
   "metadata": {
    "tags": []
   },
   "outputs": [],
   "source": [
    "census_data = census_data.drop(columns=['NAME'])"
   ]
  },
  {
   "cell_type": "code",
   "execution_count": 14,
   "id": "a0808315-79b0-42ee-8653-222785770048",
   "metadata": {
    "tags": []
   },
   "outputs": [],
   "source": [
    "census_data = census_data.rename(columns = {\n",
    "    'B01003_001E': 'total_pop',\n",
    "    'B17001_002E': 'poverty_pop',\n",
    "    'B16008_037E': 'non_us_citizen',\n",
    "    'B01001_020E': 'male_65_to_66', 'B01001_021E': 'male_67_to_69', 'B01001_022E': 'male_70_to_74', \n",
    "    'B01001_023E': 'male_75_to_79', 'B01001_024E': 'male_80_to_84', 'B01001_025E': 'male_85_and_over',\n",
    "    'B01001_044E': 'female_65_to_66', 'B01001_045E': 'female_67_to_69', 'B01001_046E': 'female_70_to_74', \n",
    "    'B01001_047E': 'female_75_to_79', 'B01001_048E': 'female_80_to_84', 'B01001_049E': 'female_85_and_over',\n",
    "    'B06010_004E': 'income_less_10000', 'B06010_005E': 'income_10000_14999', 'B06010_006E': 'income_15000_24999', \n",
    "    'B06010_007E': 'income_25000_34999', 'B06010_008E': 'income_35000_49999',\n",
    "    'B06010_009E': 'income_50000_64999', 'B06010_010E': 'income_65000_74999',\n",
    "    'B08014_002E': 'workers_with_no_car', 'B08201_002E': 'households_with_no_cars',\n",
    "    'B18101_001E': 'disabled_pop',\n",
    "    'B19058_001E': 'public_asst_pop'\n",
    "})"
   ]
  },
  {
   "cell_type": "code",
   "execution_count": 15,
   "id": "e3ddd869-a418-4bbd-9349-92bdba346012",
   "metadata": {
    "tags": []
   },
   "outputs": [],
   "source": [
    "exclude = ['state', 'county', 'tract', 'county_name', 'GEOID']\n",
    "cols_to_numeric = [col for col in census_data.columns if col not in exclude]\n",
    "census_data[cols_to_numeric] = census_data[cols_to_numeric].apply(pd.to_numeric, errors='coerce')"
   ]
  },
  {
   "cell_type": "code",
   "execution_count": 16,
   "id": "6c08efd5-8cf5-4333-bd86-94c515ecfb07",
   "metadata": {
    "tags": []
   },
   "outputs": [
    {
     "data": {
      "text/html": [
       "<div>\n",
       "<style scoped>\n",
       "    .dataframe tbody tr th:only-of-type {\n",
       "        vertical-align: middle;\n",
       "    }\n",
       "\n",
       "    .dataframe tbody tr th {\n",
       "        vertical-align: top;\n",
       "    }\n",
       "\n",
       "    .dataframe thead th {\n",
       "        text-align: right;\n",
       "    }\n",
       "</style>\n",
       "<table border=\"1\" class=\"dataframe\">\n",
       "  <thead>\n",
       "    <tr style=\"text-align: right;\">\n",
       "      <th></th>\n",
       "      <th>total_pop</th>\n",
       "      <th>poverty_pop</th>\n",
       "      <th>non_us_citizen</th>\n",
       "      <th>male_65_to_66</th>\n",
       "      <th>male_67_to_69</th>\n",
       "      <th>male_70_to_74</th>\n",
       "      <th>male_75_to_79</th>\n",
       "      <th>male_80_to_84</th>\n",
       "      <th>male_85_and_over</th>\n",
       "      <th>female_65_to_66</th>\n",
       "      <th>female_67_to_69</th>\n",
       "      <th>female_70_to_74</th>\n",
       "      <th>female_75_to_79</th>\n",
       "      <th>female_80_to_84</th>\n",
       "      <th>female_85_and_over</th>\n",
       "      <th>income_less_10000</th>\n",
       "      <th>income_10000_14999</th>\n",
       "      <th>income_15000_24999</th>\n",
       "      <th>income_25000_34999</th>\n",
       "      <th>income_35000_49999</th>\n",
       "      <th>income_50000_64999</th>\n",
       "      <th>income_65000_74999</th>\n",
       "      <th>workers_with_no_car</th>\n",
       "      <th>households_with_no_cars</th>\n",
       "      <th>disabled_pop</th>\n",
       "      <th>public_asst_pop</th>\n",
       "      <th>state</th>\n",
       "      <th>county</th>\n",
       "      <th>tract</th>\n",
       "      <th>GEOID</th>\n",
       "      <th>county_name</th>\n",
       "    </tr>\n",
       "  </thead>\n",
       "  <tbody>\n",
       "    <tr>\n",
       "      <th>0</th>\n",
       "      <td>3094</td>\n",
       "      <td>134</td>\n",
       "      <td>264</td>\n",
       "      <td>47</td>\n",
       "      <td>84</td>\n",
       "      <td>119</td>\n",
       "      <td>49</td>\n",
       "      <td>46</td>\n",
       "      <td>78</td>\n",
       "      <td>52</td>\n",
       "      <td>70</td>\n",
       "      <td>72</td>\n",
       "      <td>85</td>\n",
       "      <td>105</td>\n",
       "      <td>107</td>\n",
       "      <td>188</td>\n",
       "      <td>75</td>\n",
       "      <td>134</td>\n",
       "      <td>157</td>\n",
       "      <td>87</td>\n",
       "      <td>129</td>\n",
       "      <td>70</td>\n",
       "      <td>28</td>\n",
       "      <td>85</td>\n",
       "      <td>3094</td>\n",
       "      <td>1316</td>\n",
       "      <td>06</td>\n",
       "      <td>001</td>\n",
       "      <td>400100</td>\n",
       "      <td>06001400100</td>\n",
       "      <td>Alameda</td>\n",
       "    </tr>\n",
       "    <tr>\n",
       "      <th>1</th>\n",
       "      <td>2093</td>\n",
       "      <td>164</td>\n",
       "      <td>96</td>\n",
       "      <td>18</td>\n",
       "      <td>60</td>\n",
       "      <td>59</td>\n",
       "      <td>58</td>\n",
       "      <td>28</td>\n",
       "      <td>26</td>\n",
       "      <td>40</td>\n",
       "      <td>35</td>\n",
       "      <td>67</td>\n",
       "      <td>96</td>\n",
       "      <td>34</td>\n",
       "      <td>13</td>\n",
       "      <td>75</td>\n",
       "      <td>70</td>\n",
       "      <td>89</td>\n",
       "      <td>12</td>\n",
       "      <td>207</td>\n",
       "      <td>77</td>\n",
       "      <td>32</td>\n",
       "      <td>92</td>\n",
       "      <td>95</td>\n",
       "      <td>2093</td>\n",
       "      <td>861</td>\n",
       "      <td>06</td>\n",
       "      <td>001</td>\n",
       "      <td>400200</td>\n",
       "      <td>06001400200</td>\n",
       "      <td>Alameda</td>\n",
       "    </tr>\n",
       "    <tr>\n",
       "      <th>2</th>\n",
       "      <td>5727</td>\n",
       "      <td>310</td>\n",
       "      <td>306</td>\n",
       "      <td>23</td>\n",
       "      <td>47</td>\n",
       "      <td>113</td>\n",
       "      <td>100</td>\n",
       "      <td>24</td>\n",
       "      <td>25</td>\n",
       "      <td>108</td>\n",
       "      <td>62</td>\n",
       "      <td>194</td>\n",
       "      <td>158</td>\n",
       "      <td>13</td>\n",
       "      <td>142</td>\n",
       "      <td>383</td>\n",
       "      <td>201</td>\n",
       "      <td>300</td>\n",
       "      <td>251</td>\n",
       "      <td>400</td>\n",
       "      <td>148</td>\n",
       "      <td>291</td>\n",
       "      <td>157</td>\n",
       "      <td>416</td>\n",
       "      <td>5727</td>\n",
       "      <td>2713</td>\n",
       "      <td>06</td>\n",
       "      <td>001</td>\n",
       "      <td>400300</td>\n",
       "      <td>06001400300</td>\n",
       "      <td>Alameda</td>\n",
       "    </tr>\n",
       "    <tr>\n",
       "      <th>3</th>\n",
       "      <td>4395</td>\n",
       "      <td>343</td>\n",
       "      <td>185</td>\n",
       "      <td>31</td>\n",
       "      <td>70</td>\n",
       "      <td>89</td>\n",
       "      <td>19</td>\n",
       "      <td>26</td>\n",
       "      <td>36</td>\n",
       "      <td>55</td>\n",
       "      <td>105</td>\n",
       "      <td>104</td>\n",
       "      <td>43</td>\n",
       "      <td>23</td>\n",
       "      <td>30</td>\n",
       "      <td>187</td>\n",
       "      <td>105</td>\n",
       "      <td>287</td>\n",
       "      <td>215</td>\n",
       "      <td>207</td>\n",
       "      <td>178</td>\n",
       "      <td>87</td>\n",
       "      <td>134</td>\n",
       "      <td>204</td>\n",
       "      <td>4376</td>\n",
       "      <td>1803</td>\n",
       "      <td>06</td>\n",
       "      <td>001</td>\n",
       "      <td>400400</td>\n",
       "      <td>06001400400</td>\n",
       "      <td>Alameda</td>\n",
       "    </tr>\n",
       "    <tr>\n",
       "      <th>4</th>\n",
       "      <td>3822</td>\n",
       "      <td>397</td>\n",
       "      <td>231</td>\n",
       "      <td>41</td>\n",
       "      <td>32</td>\n",
       "      <td>56</td>\n",
       "      <td>41</td>\n",
       "      <td>4</td>\n",
       "      <td>0</td>\n",
       "      <td>19</td>\n",
       "      <td>47</td>\n",
       "      <td>51</td>\n",
       "      <td>50</td>\n",
       "      <td>60</td>\n",
       "      <td>203</td>\n",
       "      <td>256</td>\n",
       "      <td>91</td>\n",
       "      <td>244</td>\n",
       "      <td>213</td>\n",
       "      <td>385</td>\n",
       "      <td>387</td>\n",
       "      <td>244</td>\n",
       "      <td>74</td>\n",
       "      <td>169</td>\n",
       "      <td>3822</td>\n",
       "      <td>1655</td>\n",
       "      <td>06</td>\n",
       "      <td>001</td>\n",
       "      <td>400500</td>\n",
       "      <td>06001400500</td>\n",
       "      <td>Alameda</td>\n",
       "    </tr>\n",
       "  </tbody>\n",
       "</table>\n",
       "</div>"
      ],
      "text/plain": [
       "   total_pop  poverty_pop  non_us_citizen  male_65_to_66  male_67_to_69  \\\n",
       "0       3094          134             264             47             84   \n",
       "1       2093          164              96             18             60   \n",
       "2       5727          310             306             23             47   \n",
       "3       4395          343             185             31             70   \n",
       "4       3822          397             231             41             32   \n",
       "\n",
       "   male_70_to_74  male_75_to_79  male_80_to_84  male_85_and_over  \\\n",
       "0            119             49             46                78   \n",
       "1             59             58             28                26   \n",
       "2            113            100             24                25   \n",
       "3             89             19             26                36   \n",
       "4             56             41              4                 0   \n",
       "\n",
       "   female_65_to_66  female_67_to_69  female_70_to_74  female_75_to_79  \\\n",
       "0               52               70               72               85   \n",
       "1               40               35               67               96   \n",
       "2              108               62              194              158   \n",
       "3               55              105              104               43   \n",
       "4               19               47               51               50   \n",
       "\n",
       "   female_80_to_84  female_85_and_over  income_less_10000  income_10000_14999  \\\n",
       "0              105                 107                188                  75   \n",
       "1               34                  13                 75                  70   \n",
       "2               13                 142                383                 201   \n",
       "3               23                  30                187                 105   \n",
       "4               60                 203                256                  91   \n",
       "\n",
       "   income_15000_24999  income_25000_34999  income_35000_49999  \\\n",
       "0                 134                 157                  87   \n",
       "1                  89                  12                 207   \n",
       "2                 300                 251                 400   \n",
       "3                 287                 215                 207   \n",
       "4                 244                 213                 385   \n",
       "\n",
       "   income_50000_64999  income_65000_74999  workers_with_no_car  \\\n",
       "0                 129                  70                   28   \n",
       "1                  77                  32                   92   \n",
       "2                 148                 291                  157   \n",
       "3                 178                  87                  134   \n",
       "4                 387                 244                   74   \n",
       "\n",
       "   households_with_no_cars  disabled_pop  public_asst_pop state county  \\\n",
       "0                       85          3094             1316    06    001   \n",
       "1                       95          2093              861    06    001   \n",
       "2                      416          5727             2713    06    001   \n",
       "3                      204          4376             1803    06    001   \n",
       "4                      169          3822             1655    06    001   \n",
       "\n",
       "    tract        GEOID county_name  \n",
       "0  400100  06001400100     Alameda  \n",
       "1  400200  06001400200     Alameda  \n",
       "2  400300  06001400300     Alameda  \n",
       "3  400400  06001400400     Alameda  \n",
       "4  400500  06001400500     Alameda  "
      ]
     },
     "execution_count": 16,
     "metadata": {},
     "output_type": "execute_result"
    }
   ],
   "source": [
    "census_data.head(5)"
   ]
  },
  {
   "cell_type": "code",
   "execution_count": 17,
   "id": "6647104f-db0a-4cb5-9908-c30d009e568e",
   "metadata": {
    "tags": []
   },
   "outputs": [],
   "source": [
    "#Creating custom income variables \n",
    "census_data['inc_extremelylow'] = census_data['income_less_10000'] + census_data['income_10000_14999'] + census_data['income_15000_24999']\n",
    "census_data['inc_verylow'] = census_data['income_25000_34999'] + census_data['income_35000_49999']\n",
    "census_data['inc_low'] = census_data['income_50000_64999'] + census_data['income_65000_74999']"
   ]
  },
  {
   "cell_type": "code",
   "execution_count": 18,
   "id": "5b637751-060f-46ce-9b8c-41c94dd07620",
   "metadata": {
    "tags": []
   },
   "outputs": [],
   "source": [
    "census_data['male_seniors'] = census_data.loc[:, \"male_65_to_66\":\"male_85_and_over\"].sum(axis=1)\n",
    "census_data['female_seniors'] = census_data.loc[:, \"female_65_to_66\":\"female_85_and_over\"].sum(axis=1)"
   ]
  },
  {
   "cell_type": "code",
   "execution_count": 19,
   "id": "55013195-b315-4889-abf6-951091d09e05",
   "metadata": {},
   "outputs": [
    {
     "name": "stdout",
     "output_type": "stream",
     "text": [
      "Using FIPS code '06' for input 'CA'\n"
     ]
    }
   ],
   "source": [
    "#Retrieving Tract Geometries for California\n",
    "ca_tracts = tracts(state = \"CA\", cb = True,\n",
    "                    year = 2023, cache = True)"
   ]
  },
  {
   "cell_type": "code",
   "execution_count": 20,
   "id": "986d2bcf-3e7f-4746-abe4-627460f68406",
   "metadata": {},
   "outputs": [],
   "source": [
    "# Merging the census tract geometries with the census data based on the GEOID\n",
    "tracts_ca_acs = ca_tracts.merge(census_data, how=\"inner\", on=\"GEOID\")"
   ]
  },
  {
   "cell_type": "code",
   "execution_count": 21,
   "id": "0381662d-9cfe-4efd-a971-47fda3567c85",
   "metadata": {
    "tags": []
   },
   "outputs": [],
   "source": [
    "tracts_ca_acs.to_crs(crs=3310, inplace=True)"
   ]
  },
  {
   "cell_type": "code",
   "execution_count": 22,
   "id": "0bd06747-c70c-4418-b136-eb34f8a1fd7d",
   "metadata": {
    "tags": []
   },
   "outputs": [],
   "source": [
    "tracts_ca_acs[\"area_m2\"] = tracts_ca_acs.geometry.area"
   ]
  },
  {
   "cell_type": "code",
   "execution_count": 23,
   "id": "1a89c9b5-4b7c-45c8-9d1e-632e1006b653",
   "metadata": {
    "tags": []
   },
   "outputs": [],
   "source": [
    "# Querying dim organization\n",
    "with db_engine.connect() as connection:\n",
    "    query = \"\"\"\n",
    "        SELECT\n",
    "            key, name, organization_type, ntd_id, ntd_agency_info_key, \n",
    "            public_currently_operating, _is_current, _valid_from, _valid_to\n",
    "        FROM \n",
    "            cal-itp-data-infra.mart_transit_database.dim_organizations\n",
    "    \"\"\"\n",
    "    \n",
    "    #localize timestamps\n",
    "    dim_orgs = (\n",
    "        pd.read_sql(query, connection)\n",
    "        .pipe(schedule_rt_utils.localize_timestamp_col, [\"_valid_from\", \"_valid_to\"])\n",
    "    )\n",
    "    \n",
    "    \n",
    "    dim_orgs = dim_orgs[\n",
    "        (dim_orgs['public_currently_operating'] == True) & \n",
    "        (dim_orgs['_is_current'] == True)\n",
    "    ].reset_index(drop=True)\n"
   ]
  },
  {
   "cell_type": "code",
   "execution_count": 24,
   "id": "4211d3bf-0742-4a8f-9fd3-5ab435168ddf",
   "metadata": {
    "tags": []
   },
   "outputs": [],
   "source": [
    "# Filtering the provider gtfs data to valid dates \n",
    "valid_organization_full = filter_to_valid_dates(dim_orgs, [analysis_date])"
   ]
  },
  {
   "cell_type": "code",
   "execution_count": 25,
   "id": "ca225047-9991-4ab1-bbde-e5e720418782",
   "metadata": {
    "tags": []
   },
   "outputs": [
    {
     "data": {
      "text/html": [
       "<div>\n",
       "<style scoped>\n",
       "    .dataframe tbody tr th:only-of-type {\n",
       "        vertical-align: middle;\n",
       "    }\n",
       "\n",
       "    .dataframe tbody tr th {\n",
       "        vertical-align: top;\n",
       "    }\n",
       "\n",
       "    .dataframe thead th {\n",
       "        text-align: right;\n",
       "    }\n",
       "</style>\n",
       "<table border=\"1\" class=\"dataframe\">\n",
       "  <thead>\n",
       "    <tr style=\"text-align: right;\">\n",
       "      <th></th>\n",
       "      <th>key</th>\n",
       "      <th>name</th>\n",
       "      <th>organization_type</th>\n",
       "      <th>ntd_id</th>\n",
       "      <th>ntd_agency_info_key</th>\n",
       "      <th>public_currently_operating</th>\n",
       "      <th>_is_current</th>\n",
       "      <th>_valid_from</th>\n",
       "      <th>_valid_to</th>\n",
       "      <th>_valid_from_local</th>\n",
       "      <th>_valid_to_local</th>\n",
       "    </tr>\n",
       "  </thead>\n",
       "  <tbody>\n",
       "    <tr>\n",
       "      <th>0</th>\n",
       "      <td>9b5971d16d58e4fcafa694ee7fa33b12</td>\n",
       "      <td>Alpine County</td>\n",
       "      <td>County</td>\n",
       "      <td>9R02-91116</td>\n",
       "      <td>rec02Is8jSIBDkwM0</td>\n",
       "      <td>True</td>\n",
       "      <td>True</td>\n",
       "      <td>2025-03-06 00:00:00+00:00</td>\n",
       "      <td>2098-12-31 23:59:59.999999+00:00</td>\n",
       "      <td>2025-03-05 16:00:00</td>\n",
       "      <td>2098-12-31 15:59:59.999999</td>\n",
       "    </tr>\n",
       "    <tr>\n",
       "      <th>1</th>\n",
       "      <td>73ed19bf64f9ba305091973b3f45d553</td>\n",
       "      <td>Camarillo Health Care District</td>\n",
       "      <td>Independent Agency</td>\n",
       "      <td>None</td>\n",
       "      <td>None</td>\n",
       "      <td>True</td>\n",
       "      <td>True</td>\n",
       "      <td>2025-03-06 00:00:00+00:00</td>\n",
       "      <td>2098-12-31 23:59:59.999999+00:00</td>\n",
       "      <td>2025-03-05 16:00:00</td>\n",
       "      <td>2098-12-31 15:59:59.999999</td>\n",
       "    </tr>\n",
       "    <tr>\n",
       "      <th>2</th>\n",
       "      <td>402b2852ff46b95557801fbf3038ae7c</td>\n",
       "      <td>Chemehuevi Indian Tribe</td>\n",
       "      <td>Tribe</td>\n",
       "      <td>99316</td>\n",
       "      <td>reclUB9NcCQrSImfd</td>\n",
       "      <td>True</td>\n",
       "      <td>True</td>\n",
       "      <td>2025-03-06 00:00:00+00:00</td>\n",
       "      <td>2098-12-31 23:59:59.999999+00:00</td>\n",
       "      <td>2025-03-05 16:00:00</td>\n",
       "      <td>2098-12-31 15:59:59.999999</td>\n",
       "    </tr>\n",
       "    <tr>\n",
       "      <th>3</th>\n",
       "      <td>3a93c944381ee6c34646fa2dbf8b3d8f</td>\n",
       "      <td>City of Atascadero</td>\n",
       "      <td>City/Town</td>\n",
       "      <td>90194</td>\n",
       "      <td>recMmQSjQCzABlmh1</td>\n",
       "      <td>True</td>\n",
       "      <td>True</td>\n",
       "      <td>2025-03-06 00:00:00+00:00</td>\n",
       "      <td>2098-12-31 23:59:59.999999+00:00</td>\n",
       "      <td>2025-03-05 16:00:00</td>\n",
       "      <td>2098-12-31 15:59:59.999999</td>\n",
       "    </tr>\n",
       "    <tr>\n",
       "      <th>4</th>\n",
       "      <td>e56f748b8cf235ca2acee940b9f60d64</td>\n",
       "      <td>City of Azusa</td>\n",
       "      <td>City/Town</td>\n",
       "      <td>90250</td>\n",
       "      <td>recbLanAuzm5QituE</td>\n",
       "      <td>True</td>\n",
       "      <td>True</td>\n",
       "      <td>2025-03-06 00:00:00+00:00</td>\n",
       "      <td>2098-12-31 23:59:59.999999+00:00</td>\n",
       "      <td>2025-03-05 16:00:00</td>\n",
       "      <td>2098-12-31 15:59:59.999999</td>\n",
       "    </tr>\n",
       "  </tbody>\n",
       "</table>\n",
       "</div>"
      ],
      "text/plain": [
       "                                key                            name  \\\n",
       "0  9b5971d16d58e4fcafa694ee7fa33b12                   Alpine County   \n",
       "1  73ed19bf64f9ba305091973b3f45d553  Camarillo Health Care District   \n",
       "2  402b2852ff46b95557801fbf3038ae7c         Chemehuevi Indian Tribe   \n",
       "3  3a93c944381ee6c34646fa2dbf8b3d8f              City of Atascadero   \n",
       "4  e56f748b8cf235ca2acee940b9f60d64                   City of Azusa   \n",
       "\n",
       "    organization_type      ntd_id ntd_agency_info_key  \\\n",
       "0              County  9R02-91116   rec02Is8jSIBDkwM0   \n",
       "1  Independent Agency        None                None   \n",
       "2               Tribe       99316   reclUB9NcCQrSImfd   \n",
       "3           City/Town       90194   recMmQSjQCzABlmh1   \n",
       "4           City/Town       90250   recbLanAuzm5QituE   \n",
       "\n",
       "  public_currently_operating  _is_current               _valid_from  \\\n",
       "0                       True         True 2025-03-06 00:00:00+00:00   \n",
       "1                       True         True 2025-03-06 00:00:00+00:00   \n",
       "2                       True         True 2025-03-06 00:00:00+00:00   \n",
       "3                       True         True 2025-03-06 00:00:00+00:00   \n",
       "4                       True         True 2025-03-06 00:00:00+00:00   \n",
       "\n",
       "                         _valid_to   _valid_from_local  \\\n",
       "0 2098-12-31 23:59:59.999999+00:00 2025-03-05 16:00:00   \n",
       "1 2098-12-31 23:59:59.999999+00:00 2025-03-05 16:00:00   \n",
       "2 2098-12-31 23:59:59.999999+00:00 2025-03-05 16:00:00   \n",
       "3 2098-12-31 23:59:59.999999+00:00 2025-03-05 16:00:00   \n",
       "4 2098-12-31 23:59:59.999999+00:00 2025-03-05 16:00:00   \n",
       "\n",
       "             _valid_to_local  \n",
       "0 2098-12-31 15:59:59.999999  \n",
       "1 2098-12-31 15:59:59.999999  \n",
       "2 2098-12-31 15:59:59.999999  \n",
       "3 2098-12-31 15:59:59.999999  \n",
       "4 2098-12-31 15:59:59.999999  "
      ]
     },
     "execution_count": 25,
     "metadata": {},
     "output_type": "execute_result"
    }
   ],
   "source": [
    "valid_organization_full.head(5)"
   ]
  },
  {
   "cell_type": "code",
   "execution_count": 26,
   "id": "ed1cd1ac-5a21-4a5d-9b1a-5522564896c1",
   "metadata": {
    "tags": []
   },
   "outputs": [],
   "source": [
    "# Querying bridge organizations and gtfs_datasets\n",
    "with db_engine.connect() as connection:\n",
    "    query = \"\"\"\n",
    "        SELECT\n",
    "            organization_key, gtfs_dataset_key, organization_name\n",
    "        FROM\n",
    "            cal-itp-data-infra.mart_transit_database.bridge_organizations_x_gtfs_datasets_produced\n",
    "    \"\"\"\n",
    "    dim_orgs_GTFS= pd.read_sql(query, connection)"
   ]
  },
  {
   "cell_type": "code",
   "execution_count": 27,
   "id": "d28f4c79-d5b4-46ba-9c3c-54f1bd6e9d89",
   "metadata": {
    "tags": []
   },
   "outputs": [],
   "source": [
    "dim_orgs_merged = pd.merge(\n",
    "    dim_orgs.dropna(subset=['key', 'name']),\n",
    "    dim_orgs_GTFS.dropna(subset=['organization_key', 'organization_name']),\n",
    "    left_on=['key', 'name'],\n",
    "    right_on=['organization_key', 'organization_name'],\n",
    "    how='left'\n",
    ")   "
   ]
  },
  {
   "cell_type": "code",
   "execution_count": 28,
   "id": "c66cf805-de18-4723-b46b-be7bf84fa2b1",
   "metadata": {
    "tags": []
   },
   "outputs": [],
   "source": [
    "dim_orgs_merged = dim_orgs_merged.dropna(subset=['organization_key', 'gtfs_dataset_key'])"
   ]
  },
  {
   "cell_type": "code",
   "execution_count": 29,
   "id": "01eccdb1-4bd8-4670-8f9c-3a2a0e94948d",
   "metadata": {
    "tags": []
   },
   "outputs": [],
   "source": [
    "dim_orgs_final = dim_orgs_merged[['key', 'name', 'organization_type', 'gtfs_dataset_key', 'ntd_id', 'ntd_agency_info_key']]"
   ]
  },
  {
   "cell_type": "code",
   "execution_count": 30,
   "id": "457b636a-705d-4085-91f8-db64d0142ef1",
   "metadata": {
    "tags": []
   },
   "outputs": [
    {
     "data": {
      "text/html": [
       "<div>\n",
       "<style scoped>\n",
       "    .dataframe tbody tr th:only-of-type {\n",
       "        vertical-align: middle;\n",
       "    }\n",
       "\n",
       "    .dataframe tbody tr th {\n",
       "        vertical-align: top;\n",
       "    }\n",
       "\n",
       "    .dataframe thead th {\n",
       "        text-align: right;\n",
       "    }\n",
       "</style>\n",
       "<table border=\"1\" class=\"dataframe\">\n",
       "  <thead>\n",
       "    <tr style=\"text-align: right;\">\n",
       "      <th></th>\n",
       "      <th>key</th>\n",
       "      <th>name</th>\n",
       "      <th>organization_type</th>\n",
       "      <th>gtfs_dataset_key</th>\n",
       "      <th>ntd_id</th>\n",
       "      <th>ntd_agency_info_key</th>\n",
       "    </tr>\n",
       "  </thead>\n",
       "  <tbody>\n",
       "    <tr>\n",
       "      <th>16</th>\n",
       "      <td>306bafde22fe614e0a6af2269625d8f6</td>\n",
       "      <td>City of Menlo Park</td>\n",
       "      <td>City/Town</td>\n",
       "      <td>b76861f44c68f440d922c54ac1231d31</td>\n",
       "      <td>None</td>\n",
       "      <td>None</td>\n",
       "    </tr>\n",
       "    <tr>\n",
       "      <th>21</th>\n",
       "      <td>50e751fbc179dae727bb433686f934ac</td>\n",
       "      <td>City of Newport Beach</td>\n",
       "      <td>City/Town</td>\n",
       "      <td>f1f6de14d52cf6ea1b24e87e494063c9</td>\n",
       "      <td>None</td>\n",
       "      <td>None</td>\n",
       "    </tr>\n",
       "    <tr>\n",
       "      <th>22</th>\n",
       "      <td>50e751fbc179dae727bb433686f934ac</td>\n",
       "      <td>City of Newport Beach</td>\n",
       "      <td>City/Town</td>\n",
       "      <td>aa3f2efbc6864841e4c6103dd1cbe7f4</td>\n",
       "      <td>None</td>\n",
       "      <td>None</td>\n",
       "    </tr>\n",
       "    <tr>\n",
       "      <th>23</th>\n",
       "      <td>50e751fbc179dae727bb433686f934ac</td>\n",
       "      <td>City of Newport Beach</td>\n",
       "      <td>City/Town</td>\n",
       "      <td>8c3c59f936e34fe19396593f08436c55</td>\n",
       "      <td>None</td>\n",
       "      <td>None</td>\n",
       "    </tr>\n",
       "    <tr>\n",
       "      <th>24</th>\n",
       "      <td>50e751fbc179dae727bb433686f934ac</td>\n",
       "      <td>City of Newport Beach</td>\n",
       "      <td>City/Town</td>\n",
       "      <td>f47fca258cc9089401297e36ced29101</td>\n",
       "      <td>None</td>\n",
       "      <td>None</td>\n",
       "    </tr>\n",
       "  </tbody>\n",
       "</table>\n",
       "</div>"
      ],
      "text/plain": [
       "                                 key                   name organization_type  \\\n",
       "16  306bafde22fe614e0a6af2269625d8f6     City of Menlo Park         City/Town   \n",
       "21  50e751fbc179dae727bb433686f934ac  City of Newport Beach         City/Town   \n",
       "22  50e751fbc179dae727bb433686f934ac  City of Newport Beach         City/Town   \n",
       "23  50e751fbc179dae727bb433686f934ac  City of Newport Beach         City/Town   \n",
       "24  50e751fbc179dae727bb433686f934ac  City of Newport Beach         City/Town   \n",
       "\n",
       "                    gtfs_dataset_key ntd_id ntd_agency_info_key  \n",
       "16  b76861f44c68f440d922c54ac1231d31   None                None  \n",
       "21  f1f6de14d52cf6ea1b24e87e494063c9   None                None  \n",
       "22  aa3f2efbc6864841e4c6103dd1cbe7f4   None                None  \n",
       "23  8c3c59f936e34fe19396593f08436c55   None                None  \n",
       "24  f47fca258cc9089401297e36ced29101   None                None  "
      ]
     },
     "execution_count": 30,
     "metadata": {},
     "output_type": "execute_result"
    }
   ],
   "source": [
    "dim_orgs_final.head(5)"
   ]
  },
  {
   "cell_type": "code",
   "execution_count": 31,
   "id": "b7292811-58ec-4672-a2e3-b9c133e79723",
   "metadata": {
    "tags": []
   },
   "outputs": [
    {
     "name": "stdout",
     "output_type": "stream",
     "text": [
      "<class 'pandas.core.frame.DataFrame'>\n",
      "Int64Index: 461 entries, 16 to 543\n",
      "Data columns (total 6 columns):\n",
      " #   Column               Non-Null Count  Dtype \n",
      "---  ------               --------------  ----- \n",
      " 0   key                  461 non-null    object\n",
      " 1   name                 461 non-null    object\n",
      " 2   organization_type    461 non-null    object\n",
      " 3   gtfs_dataset_key     461 non-null    object\n",
      " 4   ntd_id               433 non-null    object\n",
      " 5   ntd_agency_info_key  383 non-null    object\n",
      "dtypes: object(6)\n",
      "memory usage: 25.2+ KB\n"
     ]
    }
   ],
   "source": [
    "dim_orgs_final.info()"
   ]
  },
  {
   "cell_type": "code",
   "execution_count": 32,
   "id": "dc862f09-81a6-4748-93d3-29a84ada4c8d",
   "metadata": {
    "tags": []
   },
   "outputs": [
    {
     "data": {
      "text/html": [
       "<div>\n",
       "<style scoped>\n",
       "    .dataframe tbody tr th:only-of-type {\n",
       "        vertical-align: middle;\n",
       "    }\n",
       "\n",
       "    .dataframe tbody tr th {\n",
       "        vertical-align: top;\n",
       "    }\n",
       "\n",
       "    .dataframe thead th {\n",
       "        text-align: right;\n",
       "    }\n",
       "</style>\n",
       "<table border=\"1\" class=\"dataframe\">\n",
       "  <thead>\n",
       "    <tr style=\"text-align: right;\">\n",
       "      <th></th>\n",
       "      <th>key</th>\n",
       "      <th>name</th>\n",
       "      <th>organization_type</th>\n",
       "      <th>gtfs_dataset_key</th>\n",
       "      <th>ntd_id</th>\n",
       "      <th>ntd_agency_info_key</th>\n",
       "    </tr>\n",
       "  </thead>\n",
       "  <tbody>\n",
       "    <tr>\n",
       "      <th>16</th>\n",
       "      <td>306bafde22fe614e0a6af2269625d8f6</td>\n",
       "      <td>City of Menlo Park</td>\n",
       "      <td>City/Town</td>\n",
       "      <td>b76861f44c68f440d922c54ac1231d31</td>\n",
       "      <td>None</td>\n",
       "      <td>None</td>\n",
       "    </tr>\n",
       "    <tr>\n",
       "      <th>21</th>\n",
       "      <td>50e751fbc179dae727bb433686f934ac</td>\n",
       "      <td>City of Newport Beach</td>\n",
       "      <td>City/Town</td>\n",
       "      <td>f1f6de14d52cf6ea1b24e87e494063c9</td>\n",
       "      <td>None</td>\n",
       "      <td>None</td>\n",
       "    </tr>\n",
       "    <tr>\n",
       "      <th>22</th>\n",
       "      <td>50e751fbc179dae727bb433686f934ac</td>\n",
       "      <td>City of Newport Beach</td>\n",
       "      <td>City/Town</td>\n",
       "      <td>aa3f2efbc6864841e4c6103dd1cbe7f4</td>\n",
       "      <td>None</td>\n",
       "      <td>None</td>\n",
       "    </tr>\n",
       "    <tr>\n",
       "      <th>23</th>\n",
       "      <td>50e751fbc179dae727bb433686f934ac</td>\n",
       "      <td>City of Newport Beach</td>\n",
       "      <td>City/Town</td>\n",
       "      <td>8c3c59f936e34fe19396593f08436c55</td>\n",
       "      <td>None</td>\n",
       "      <td>None</td>\n",
       "    </tr>\n",
       "    <tr>\n",
       "      <th>24</th>\n",
       "      <td>50e751fbc179dae727bb433686f934ac</td>\n",
       "      <td>City of Newport Beach</td>\n",
       "      <td>City/Town</td>\n",
       "      <td>f47fca258cc9089401297e36ced29101</td>\n",
       "      <td>None</td>\n",
       "      <td>None</td>\n",
       "    </tr>\n",
       "  </tbody>\n",
       "</table>\n",
       "</div>"
      ],
      "text/plain": [
       "                                 key                   name organization_type  \\\n",
       "16  306bafde22fe614e0a6af2269625d8f6     City of Menlo Park         City/Town   \n",
       "21  50e751fbc179dae727bb433686f934ac  City of Newport Beach         City/Town   \n",
       "22  50e751fbc179dae727bb433686f934ac  City of Newport Beach         City/Town   \n",
       "23  50e751fbc179dae727bb433686f934ac  City of Newport Beach         City/Town   \n",
       "24  50e751fbc179dae727bb433686f934ac  City of Newport Beach         City/Town   \n",
       "\n",
       "                    gtfs_dataset_key ntd_id ntd_agency_info_key  \n",
       "16  b76861f44c68f440d922c54ac1231d31   None                None  \n",
       "21  f1f6de14d52cf6ea1b24e87e494063c9   None                None  \n",
       "22  aa3f2efbc6864841e4c6103dd1cbe7f4   None                None  \n",
       "23  8c3c59f936e34fe19396593f08436c55   None                None  \n",
       "24  f47fca258cc9089401297e36ced29101   None                None  "
      ]
     },
     "execution_count": 32,
     "metadata": {},
     "output_type": "execute_result"
    }
   ],
   "source": [
    "dim_orgs_final.head(5)"
   ]
  },
  {
   "cell_type": "code",
   "execution_count": 33,
   "id": "b826d41d-720f-49ba-9b77-b7186dd95bf6",
   "metadata": {},
   "outputs": [],
   "source": [
    "def prep_stops(analysis_date: str):\n",
    "    stops = gpd.read_parquet(\n",
    "        f\"{GCS_FILE_PATH}/rt_vs_schedule/stop_times_direction_{analysis_date}.parquet\",\n",
    "        columns=[\"schedule_gtfs_dataset_key\", \"feed_key\", \"stop_id\", \"stop_name\", \"geometry\"],\n",
    "        storage_options={'token': credentials.token}\n",
    "    )\n",
    "\n",
    "    return stops"
   ]
  },
  {
   "cell_type": "code",
   "execution_count": 34,
   "id": "f1cd0c41-8577-4733-b67c-7d1fe08f9aa1",
   "metadata": {
    "tags": []
   },
   "outputs": [
    {
     "name": "stdout",
     "output_type": "stream",
     "text": [
      "<class 'geopandas.geodataframe.GeoDataFrame'>\n",
      "RangeIndex: 4595211 entries, 0 to 4595210\n",
      "Data columns (total 5 columns):\n",
      " #   Column                     Dtype   \n",
      "---  ------                     -----   \n",
      " 0   schedule_gtfs_dataset_key  object  \n",
      " 1   feed_key                   object  \n",
      " 2   stop_id                    object  \n",
      " 3   stop_name                  object  \n",
      " 4   geometry                   geometry\n",
      "dtypes: geometry(1), object(4)\n",
      "memory usage: 175.3+ MB\n"
     ]
    }
   ],
   "source": [
    "stops = prep_stops(analysis_date)\n",
    "stops.info()"
   ]
  },
  {
   "cell_type": "code",
   "execution_count": 35,
   "id": "160c660b-d683-4eb2-ae38-7f9d1a412cda",
   "metadata": {
    "tags": []
   },
   "outputs": [
    {
     "data": {
      "text/html": [
       "<div>\n",
       "<style scoped>\n",
       "    .dataframe tbody tr th:only-of-type {\n",
       "        vertical-align: middle;\n",
       "    }\n",
       "\n",
       "    .dataframe tbody tr th {\n",
       "        vertical-align: top;\n",
       "    }\n",
       "\n",
       "    .dataframe thead th {\n",
       "        text-align: right;\n",
       "    }\n",
       "</style>\n",
       "<table border=\"1\" class=\"dataframe\">\n",
       "  <thead>\n",
       "    <tr style=\"text-align: right;\">\n",
       "      <th></th>\n",
       "      <th>schedule_gtfs_dataset_key</th>\n",
       "      <th>feed_key</th>\n",
       "      <th>stop_id</th>\n",
       "      <th>stop_name</th>\n",
       "      <th>geometry</th>\n",
       "    </tr>\n",
       "  </thead>\n",
       "  <tbody>\n",
       "    <tr>\n",
       "      <th>0</th>\n",
       "      <td>723210f3a6d61ee3936df401e18a5636</td>\n",
       "      <td>15b542ef6dbfd2903710095179e84b25</td>\n",
       "      <td>TL-3</td>\n",
       "      <td>Terminal 1</td>\n",
       "      <td>POINT (147834.197 -450957.957)</td>\n",
       "    </tr>\n",
       "    <tr>\n",
       "      <th>1</th>\n",
       "      <td>723210f3a6d61ee3936df401e18a5636</td>\n",
       "      <td>15b542ef6dbfd2903710095179e84b25</td>\n",
       "      <td>TL-4</td>\n",
       "      <td>Terminal 2</td>\n",
       "      <td>POINT (147598.785 -450990.106)</td>\n",
       "    </tr>\n",
       "    <tr>\n",
       "      <th>2</th>\n",
       "      <td>723210f3a6d61ee3936df401e18a5636</td>\n",
       "      <td>15b542ef6dbfd2903710095179e84b25</td>\n",
       "      <td>TL-5</td>\n",
       "      <td>Terminal 3</td>\n",
       "      <td>POINT (147265.199 -451037.318)</td>\n",
       "    </tr>\n",
       "    <tr>\n",
       "      <th>3</th>\n",
       "      <td>723210f3a6d61ee3936df401e18a5636</td>\n",
       "      <td>15b542ef6dbfd2903710095179e84b25</td>\n",
       "      <td>TL-6</td>\n",
       "      <td>International Terminal</td>\n",
       "      <td>POINT (147144.316 -451145.363)</td>\n",
       "    </tr>\n",
       "    <tr>\n",
       "      <th>4</th>\n",
       "      <td>723210f3a6d61ee3936df401e18a5636</td>\n",
       "      <td>15b542ef6dbfd2903710095179e84b25</td>\n",
       "      <td>TL-7</td>\n",
       "      <td>Terminal 4</td>\n",
       "      <td>POINT (147272.606 -451317.665)</td>\n",
       "    </tr>\n",
       "  </tbody>\n",
       "</table>\n",
       "</div>"
      ],
      "text/plain": [
       "          schedule_gtfs_dataset_key                          feed_key stop_id  \\\n",
       "0  723210f3a6d61ee3936df401e18a5636  15b542ef6dbfd2903710095179e84b25    TL-3   \n",
       "1  723210f3a6d61ee3936df401e18a5636  15b542ef6dbfd2903710095179e84b25    TL-4   \n",
       "2  723210f3a6d61ee3936df401e18a5636  15b542ef6dbfd2903710095179e84b25    TL-5   \n",
       "3  723210f3a6d61ee3936df401e18a5636  15b542ef6dbfd2903710095179e84b25    TL-6   \n",
       "4  723210f3a6d61ee3936df401e18a5636  15b542ef6dbfd2903710095179e84b25    TL-7   \n",
       "\n",
       "                stop_name                        geometry  \n",
       "0              Terminal 1  POINT (147834.197 -450957.957)  \n",
       "1              Terminal 2  POINT (147598.785 -450990.106)  \n",
       "2              Terminal 3  POINT (147265.199 -451037.318)  \n",
       "3  International Terminal  POINT (147144.316 -451145.363)  \n",
       "4              Terminal 4  POINT (147272.606 -451317.665)  "
      ]
     },
     "execution_count": 35,
     "metadata": {},
     "output_type": "execute_result"
    }
   ],
   "source": [
    "stops.head(5)"
   ]
  },
  {
   "cell_type": "code",
   "execution_count": 36,
   "id": "1f77a566-31f2-4f9e-9dda-d8d74b79487a",
   "metadata": {
    "tags": []
   },
   "outputs": [],
   "source": [
    "orgs_stops = stops.dropna(subset = ['stop_id', 'stop_name']).merge(\n",
    "    dim_orgs_final,\n",
    "    right_on = 'gtfs_dataset_key',\n",
    "    left_on = 'schedule_gtfs_dataset_key',\n",
    "    how = 'inner'\n",
    ")"
   ]
  },
  {
   "cell_type": "code",
   "execution_count": 37,
   "id": "7d76cc04-e782-46b8-a748-1c9e43e077df",
   "metadata": {
    "tags": []
   },
   "outputs": [],
   "source": [
    "orgs_stops = orgs_stops.drop_duplicates()"
   ]
  },
  {
   "cell_type": "code",
   "execution_count": 38,
   "id": "2ac56dc1-0c04-48e6-9114-04535ed00c76",
   "metadata": {},
   "outputs": [
    {
     "name": "stdout",
     "output_type": "stream",
     "text": [
      "<class 'geopandas.geodataframe.GeoDataFrame'>\n",
      "Int64Index: 53511 entries, 0 to 2788870\n",
      "Data columns (total 11 columns):\n",
      " #   Column                     Non-Null Count  Dtype   \n",
      "---  ------                     --------------  -----   \n",
      " 0   schedule_gtfs_dataset_key  53511 non-null  object  \n",
      " 1   feed_key                   53511 non-null  object  \n",
      " 2   stop_id                    53511 non-null  object  \n",
      " 3   stop_name                  53511 non-null  object  \n",
      " 4   geometry                   53511 non-null  geometry\n",
      " 5   key                        53511 non-null  object  \n",
      " 6   name                       53511 non-null  object  \n",
      " 7   organization_type          53511 non-null  object  \n",
      " 8   gtfs_dataset_key           53511 non-null  object  \n",
      " 9   ntd_id                     52343 non-null  object  \n",
      " 10  ntd_agency_info_key        48936 non-null  object  \n",
      "dtypes: geometry(1), object(10)\n",
      "memory usage: 4.9+ MB\n"
     ]
    }
   ],
   "source": [
    "orgs_stops.info()"
   ]
  },
  {
   "cell_type": "code",
   "execution_count": 39,
   "id": "c8563478-a79b-4aef-9dff-225472a79fda",
   "metadata": {
    "tags": []
   },
   "outputs": [],
   "source": [
    "orgs_stops = orgs_stops.to_crs(tracts_ca_acs.crs)"
   ]
  },
  {
   "cell_type": "code",
   "execution_count": 40,
   "id": "806da12f-9cf6-4306-81c0-dd057f31d8a9",
   "metadata": {
    "tags": []
   },
   "outputs": [],
   "source": [
    "orgs_stop_buffered = gpd.GeoDataFrame(\n",
    "    orgs_stops.copy(),                \n",
    "    geometry=orgs_stops.geometry.buffer(500),\n",
    "    crs=orgs_stops.crs\n",
    ")"
   ]
  },
  {
   "cell_type": "code",
   "execution_count": 41,
   "id": "2e231b7d-d744-419d-b442-810b166fcd3d",
   "metadata": {
    "tags": []
   },
   "outputs": [],
   "source": [
    "geometry_intersect = gpd.overlay(orgs_stop_buffered, tracts_ca_acs, how = 'intersection', keep_geom_type=True)"
   ]
  },
  {
   "cell_type": "code",
   "execution_count": 42,
   "id": "fa657799-42aa-46d7-a789-c4d86b226c13",
   "metadata": {
    "tags": []
   },
   "outputs": [],
   "source": [
    "geometry_intersect['area_2'] = geometry_intersect.geometry.area"
   ]
  },
  {
   "cell_type": "code",
   "execution_count": 43,
   "id": "59ce3254-f021-40cd-869b-3c7a21f9002e",
   "metadata": {
    "tags": []
   },
   "outputs": [
    {
     "data": {
      "text/html": [
       "<div>\n",
       "<style scoped>\n",
       "    .dataframe tbody tr th:only-of-type {\n",
       "        vertical-align: middle;\n",
       "    }\n",
       "\n",
       "    .dataframe tbody tr th {\n",
       "        vertical-align: top;\n",
       "    }\n",
       "\n",
       "    .dataframe thead th {\n",
       "        text-align: right;\n",
       "    }\n",
       "</style>\n",
       "<table border=\"1\" class=\"dataframe\">\n",
       "  <thead>\n",
       "    <tr style=\"text-align: right;\">\n",
       "      <th></th>\n",
       "      <th>schedule_gtfs_dataset_key</th>\n",
       "      <th>feed_key</th>\n",
       "      <th>stop_id</th>\n",
       "      <th>stop_name</th>\n",
       "      <th>key</th>\n",
       "      <th>name</th>\n",
       "      <th>organization_type</th>\n",
       "      <th>gtfs_dataset_key</th>\n",
       "      <th>ntd_id</th>\n",
       "      <th>ntd_agency_info_key</th>\n",
       "      <th>STATEFP</th>\n",
       "      <th>COUNTYFP</th>\n",
       "      <th>TRACTCE</th>\n",
       "      <th>GEOIDFQ</th>\n",
       "      <th>GEOID</th>\n",
       "      <th>NAME</th>\n",
       "      <th>NAMELSAD</th>\n",
       "      <th>STUSPS</th>\n",
       "      <th>NAMELSADCO</th>\n",
       "      <th>STATE_NAME</th>\n",
       "      <th>LSAD</th>\n",
       "      <th>ALAND</th>\n",
       "      <th>AWATER</th>\n",
       "      <th>total_pop</th>\n",
       "      <th>poverty_pop</th>\n",
       "      <th>non_us_citizen</th>\n",
       "      <th>male_65_to_66</th>\n",
       "      <th>male_67_to_69</th>\n",
       "      <th>male_70_to_74</th>\n",
       "      <th>male_75_to_79</th>\n",
       "      <th>male_80_to_84</th>\n",
       "      <th>male_85_and_over</th>\n",
       "      <th>female_65_to_66</th>\n",
       "      <th>female_67_to_69</th>\n",
       "      <th>female_70_to_74</th>\n",
       "      <th>female_75_to_79</th>\n",
       "      <th>female_80_to_84</th>\n",
       "      <th>female_85_and_over</th>\n",
       "      <th>income_less_10000</th>\n",
       "      <th>income_10000_14999</th>\n",
       "      <th>income_15000_24999</th>\n",
       "      <th>income_25000_34999</th>\n",
       "      <th>income_35000_49999</th>\n",
       "      <th>income_50000_64999</th>\n",
       "      <th>income_65000_74999</th>\n",
       "      <th>workers_with_no_car</th>\n",
       "      <th>households_with_no_cars</th>\n",
       "      <th>disabled_pop</th>\n",
       "      <th>public_asst_pop</th>\n",
       "      <th>state</th>\n",
       "      <th>county</th>\n",
       "      <th>tract</th>\n",
       "      <th>county_name</th>\n",
       "      <th>inc_extremelylow</th>\n",
       "      <th>inc_verylow</th>\n",
       "      <th>inc_low</th>\n",
       "      <th>male_seniors</th>\n",
       "      <th>female_seniors</th>\n",
       "      <th>area_m2</th>\n",
       "      <th>geometry</th>\n",
       "      <th>area_2</th>\n",
       "    </tr>\n",
       "  </thead>\n",
       "  <tbody>\n",
       "    <tr>\n",
       "      <th>0</th>\n",
       "      <td>cc53a0dbf5df90e3009b9cb5d89d80ba</td>\n",
       "      <td>49f469dcf8712b562e3c970aa1b89731</td>\n",
       "      <td>5961046</td>\n",
       "      <td>Echo Park Ave &amp; Donaldson St (Southbound)</td>\n",
       "      <td>123beaa13b8cfbd650a48cdfd4647088</td>\n",
       "      <td>City of Los Angeles</td>\n",
       "      <td>City/Town</td>\n",
       "      <td>cc53a0dbf5df90e3009b9cb5d89d80ba</td>\n",
       "      <td>90147</td>\n",
       "      <td>reccTizvO7pe1k1CS</td>\n",
       "      <td>06</td>\n",
       "      <td>037</td>\n",
       "      <td>197410</td>\n",
       "      <td>1400000US06037197410</td>\n",
       "      <td>06037197410</td>\n",
       "      <td>1974.10</td>\n",
       "      <td>Census Tract 1974.10</td>\n",
       "      <td>CA</td>\n",
       "      <td>Los Angeles County</td>\n",
       "      <td>California</td>\n",
       "      <td>CT</td>\n",
       "      <td>1393312</td>\n",
       "      <td>0</td>\n",
       "      <td>3805</td>\n",
       "      <td>239</td>\n",
       "      <td>429</td>\n",
       "      <td>25</td>\n",
       "      <td>25</td>\n",
       "      <td>53</td>\n",
       "      <td>75</td>\n",
       "      <td>8</td>\n",
       "      <td>32</td>\n",
       "      <td>0</td>\n",
       "      <td>49</td>\n",
       "      <td>71</td>\n",
       "      <td>77</td>\n",
       "      <td>35</td>\n",
       "      <td>27</td>\n",
       "      <td>288</td>\n",
       "      <td>138</td>\n",
       "      <td>288</td>\n",
       "      <td>226</td>\n",
       "      <td>426</td>\n",
       "      <td>402</td>\n",
       "      <td>151</td>\n",
       "      <td>29</td>\n",
       "      <td>51</td>\n",
       "      <td>3805</td>\n",
       "      <td>1701</td>\n",
       "      <td>06</td>\n",
       "      <td>037</td>\n",
       "      <td>197410</td>\n",
       "      <td>Los Angeles</td>\n",
       "      <td>714</td>\n",
       "      <td>652</td>\n",
       "      <td>553</td>\n",
       "      <td>218</td>\n",
       "      <td>259</td>\n",
       "      <td>1.406431e+06</td>\n",
       "      <td>POLYGON ((162046.722 -434622.218, 162034.799 -...</td>\n",
       "      <td>725281.427873</td>\n",
       "    </tr>\n",
       "    <tr>\n",
       "      <th>1</th>\n",
       "      <td>cc53a0dbf5df90e3009b9cb5d89d80ba</td>\n",
       "      <td>49f469dcf8712b562e3c970aa1b89731</td>\n",
       "      <td>5797231</td>\n",
       "      <td>Echo Park Ave &amp; Baxter St (Southbound) (4052)</td>\n",
       "      <td>123beaa13b8cfbd650a48cdfd4647088</td>\n",
       "      <td>City of Los Angeles</td>\n",
       "      <td>City/Town</td>\n",
       "      <td>cc53a0dbf5df90e3009b9cb5d89d80ba</td>\n",
       "      <td>90147</td>\n",
       "      <td>reccTizvO7pe1k1CS</td>\n",
       "      <td>06</td>\n",
       "      <td>037</td>\n",
       "      <td>197410</td>\n",
       "      <td>1400000US06037197410</td>\n",
       "      <td>06037197410</td>\n",
       "      <td>1974.10</td>\n",
       "      <td>Census Tract 1974.10</td>\n",
       "      <td>CA</td>\n",
       "      <td>Los Angeles County</td>\n",
       "      <td>California</td>\n",
       "      <td>CT</td>\n",
       "      <td>1393312</td>\n",
       "      <td>0</td>\n",
       "      <td>3805</td>\n",
       "      <td>239</td>\n",
       "      <td>429</td>\n",
       "      <td>25</td>\n",
       "      <td>25</td>\n",
       "      <td>53</td>\n",
       "      <td>75</td>\n",
       "      <td>8</td>\n",
       "      <td>32</td>\n",
       "      <td>0</td>\n",
       "      <td>49</td>\n",
       "      <td>71</td>\n",
       "      <td>77</td>\n",
       "      <td>35</td>\n",
       "      <td>27</td>\n",
       "      <td>288</td>\n",
       "      <td>138</td>\n",
       "      <td>288</td>\n",
       "      <td>226</td>\n",
       "      <td>426</td>\n",
       "      <td>402</td>\n",
       "      <td>151</td>\n",
       "      <td>29</td>\n",
       "      <td>51</td>\n",
       "      <td>3805</td>\n",
       "      <td>1701</td>\n",
       "      <td>06</td>\n",
       "      <td>037</td>\n",
       "      <td>197410</td>\n",
       "      <td>Los Angeles</td>\n",
       "      <td>714</td>\n",
       "      <td>652</td>\n",
       "      <td>553</td>\n",
       "      <td>218</td>\n",
       "      <td>259</td>\n",
       "      <td>1.406431e+06</td>\n",
       "      <td>POLYGON ((161975.618 -434794.073, 161968.418 -...</td>\n",
       "      <td>590112.226428</td>\n",
       "    </tr>\n",
       "  </tbody>\n",
       "</table>\n",
       "</div>"
      ],
      "text/plain": [
       "          schedule_gtfs_dataset_key                          feed_key  \\\n",
       "0  cc53a0dbf5df90e3009b9cb5d89d80ba  49f469dcf8712b562e3c970aa1b89731   \n",
       "1  cc53a0dbf5df90e3009b9cb5d89d80ba  49f469dcf8712b562e3c970aa1b89731   \n",
       "\n",
       "   stop_id                                      stop_name  \\\n",
       "0  5961046      Echo Park Ave & Donaldson St (Southbound)   \n",
       "1  5797231  Echo Park Ave & Baxter St (Southbound) (4052)   \n",
       "\n",
       "                                key                 name organization_type  \\\n",
       "0  123beaa13b8cfbd650a48cdfd4647088  City of Los Angeles         City/Town   \n",
       "1  123beaa13b8cfbd650a48cdfd4647088  City of Los Angeles         City/Town   \n",
       "\n",
       "                   gtfs_dataset_key ntd_id ntd_agency_info_key STATEFP  \\\n",
       "0  cc53a0dbf5df90e3009b9cb5d89d80ba  90147   reccTizvO7pe1k1CS      06   \n",
       "1  cc53a0dbf5df90e3009b9cb5d89d80ba  90147   reccTizvO7pe1k1CS      06   \n",
       "\n",
       "  COUNTYFP TRACTCE               GEOIDFQ        GEOID     NAME  \\\n",
       "0      037  197410  1400000US06037197410  06037197410  1974.10   \n",
       "1      037  197410  1400000US06037197410  06037197410  1974.10   \n",
       "\n",
       "               NAMELSAD STUSPS          NAMELSADCO  STATE_NAME LSAD    ALAND  \\\n",
       "0  Census Tract 1974.10     CA  Los Angeles County  California   CT  1393312   \n",
       "1  Census Tract 1974.10     CA  Los Angeles County  California   CT  1393312   \n",
       "\n",
       "   AWATER  total_pop  poverty_pop  non_us_citizen  male_65_to_66  \\\n",
       "0       0       3805          239             429             25   \n",
       "1       0       3805          239             429             25   \n",
       "\n",
       "   male_67_to_69  male_70_to_74  male_75_to_79  male_80_to_84  \\\n",
       "0             25             53             75              8   \n",
       "1             25             53             75              8   \n",
       "\n",
       "   male_85_and_over  female_65_to_66  female_67_to_69  female_70_to_74  \\\n",
       "0                32                0               49               71   \n",
       "1                32                0               49               71   \n",
       "\n",
       "   female_75_to_79  female_80_to_84  female_85_and_over  income_less_10000  \\\n",
       "0               77               35                  27                288   \n",
       "1               77               35                  27                288   \n",
       "\n",
       "   income_10000_14999  income_15000_24999  income_25000_34999  \\\n",
       "0                 138                 288                 226   \n",
       "1                 138                 288                 226   \n",
       "\n",
       "   income_35000_49999  income_50000_64999  income_65000_74999  \\\n",
       "0                 426                 402                 151   \n",
       "1                 426                 402                 151   \n",
       "\n",
       "   workers_with_no_car  households_with_no_cars  disabled_pop  \\\n",
       "0                   29                       51          3805   \n",
       "1                   29                       51          3805   \n",
       "\n",
       "   public_asst_pop state county   tract  county_name  inc_extremelylow  \\\n",
       "0             1701    06    037  197410  Los Angeles               714   \n",
       "1             1701    06    037  197410  Los Angeles               714   \n",
       "\n",
       "   inc_verylow  inc_low  male_seniors  female_seniors       area_m2  \\\n",
       "0          652      553           218             259  1.406431e+06   \n",
       "1          652      553           218             259  1.406431e+06   \n",
       "\n",
       "                                            geometry         area_2  \n",
       "0  POLYGON ((162046.722 -434622.218, 162034.799 -...  725281.427873  \n",
       "1  POLYGON ((161975.618 -434794.073, 161968.418 -...  590112.226428  "
      ]
     },
     "execution_count": 43,
     "metadata": {},
     "output_type": "execute_result"
    }
   ],
   "source": [
    "geometry_intersect.head(2)"
   ]
  },
  {
   "cell_type": "code",
   "execution_count": 74,
   "id": "ed44c28b-0eb9-4d7c-b9a5-3739ea9f5133",
   "metadata": {
    "tags": []
   },
   "outputs": [],
   "source": [
    "geometry_intersect['adjusted_total_pop'] = geometry_intersect['total_pop'] * (geometry_intersect['area_2'] / geometry_intersect['area_m2'])"
   ]
  },
  {
   "cell_type": "code",
   "execution_count": null,
   "id": "8653de80-582e-435a-9642-69ac80089dba",
   "metadata": {},
   "outputs": [],
   "source": []
  }
 ],
 "metadata": {
  "kernelspec": {
   "display_name": "Python 3 (ipykernel)",
   "language": "python",
   "name": "python3"
  },
  "language_info": {
   "codemirror_mode": {
    "name": "ipython",
    "version": 3
   },
   "file_extension": ".py",
   "mimetype": "text/x-python",
   "name": "python",
   "nbconvert_exporter": "python",
   "pygments_lexer": "ipython3",
   "version": "3.11.10"
  }
 },
 "nbformat": 4,
 "nbformat_minor": 5
}
