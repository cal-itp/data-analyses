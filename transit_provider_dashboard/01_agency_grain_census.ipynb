{
 "cells": [
  {
   "cell_type": "code",
   "execution_count": 1,
   "id": "0cdda776-857c-4e47-8ce8-940bfc49bb29",
   "metadata": {
    "tags": []
   },
   "outputs": [],
   "source": [
    "#pip install pygris"
   ]
  },
  {
   "cell_type": "code",
   "execution_count": 20,
   "id": "dfd19a35-4791-4c64-a90a-88ec37c3b4b9",
   "metadata": {
    "tags": []
   },
   "outputs": [],
   "source": [
    "import pandas as pd \n",
    "import geopandas as gpd\n",
    "import google.auth\n",
    "import os\n",
    "import gcsfs\n",
    "import requests\n",
    "from pygris import tracts \n",
    "from calitp_data_analysis.sql import get_engine\n",
    "db_engine = get_engine()\n",
    "credentials, project = google.auth.default()\n",
    "fs = gcsfs.GCSFileSystem()\n",
    "\n",
    "pd.set_option('display.max_columns', None)"
   ]
  },
  {
   "cell_type": "code",
   "execution_count": 3,
   "id": "bcece4ad-cb36-47e5-8ec9-1ab7d909f472",
   "metadata": {
    "tags": []
   },
   "outputs": [],
   "source": [
    "with open (\"ACS_apikey\", \"r\") as file:\n",
    "    api_key = file.read().strip()"
   ]
  },
  {
   "cell_type": "code",
   "execution_count": 4,
   "id": "2fc77411-cfa0-45b8-9103-f1972f92e9ad",
   "metadata": {
    "tags": []
   },
   "outputs": [],
   "source": [
    "# County Level Metrics required: \"Total Population\", \"Total Veteran Population\", \"Total Senior Population\", \"Total Low Income Population\"\n",
    "variables = [\n",
    "    \"B01003_001E\",                                                                            # Total Population\n",
    "    \"B17001_002E\",                                                                            # Population with Income in the past 12 months below poverty level\n",
    "    \"B16008_037E\",                                                                            # Non US Citizen Population\n",
    "    \"B01001_020E\", \"B01001_021E\", \"B01001_022E\", \"B01001_023E\", \"B01001_024E\", \"B01001_025E\", # Male senior population : 65 and above\n",
    "    \"B01001_044E\", \"B01001_045E\", \"B01001_046E\", \"B01001_047E\", \"B01001_048E\", \"B01001_049E\", # Female senior population : 65 and above\n",
    "    \"B06010_004E\", \"B06010_005E\", \"B06010_006E\",                                              # Population with extremely low income\n",
    "    \"B06010_007E\", \"B06010_008E\",                                                             # Population with very low income\n",
    "    \"B06010_009E\", \"B06010_010E\",                                                             # Population with low income \n",
    "    \"B08014_002E\", \"B08201_002E\",                                                             # Workers and Households with no cars\n",
    "    \"B18101_001E\",                                                                            # Total Population with Disability\n",
    "    \"B19058_001E\"                                                                             # Public Assistance Income or Food Stamps/SNAP in past 12 months for Households\n",
    "]\n",
    "\n",
    "             "
   ]
  },
  {
   "cell_type": "code",
   "execution_count": 5,
   "id": "5b08cfbf-e7ed-4b4a-8e38-68e66a760086",
   "metadata": {},
   "outputs": [],
   "source": [
    "variable_str = \"NAME,\" + \",\".join(variables)"
   ]
  },
  {
   "cell_type": "code",
   "execution_count": 6,
   "id": "ad038c7f-7aef-4a3d-a878-00190d1b9fb9",
   "metadata": {
    "tags": []
   },
   "outputs": [],
   "source": [
    "url = f\"https://api.census.gov/data/2023/acs/acs5?get={variable_str}&for=tract:*&in=state:06&key={api_key}\""
   ]
  },
  {
   "cell_type": "code",
   "execution_count": 7,
   "id": "00b4b017-18de-42fa-98b0-6d91950a9474",
   "metadata": {
    "tags": []
   },
   "outputs": [],
   "source": [
    "response = requests.get(url)"
   ]
  },
  {
   "cell_type": "code",
   "execution_count": 8,
   "id": "94684cc6-092a-4ed3-8872-76e3e7a4ef33",
   "metadata": {
    "tags": []
   },
   "outputs": [],
   "source": [
    "if response.status_code == 200:\n",
    "    data = response.json()\n",
    "    census_data = pd.DataFrame(data[1:], columns=data[0])\n",
    "    \n",
    "    # Create GEOID column\n",
    "    census_data[\"GEOID\"] = census_data[\"state\"] + census_data[\"county\"] + census_data[\"tract\"]"
   ]
  },
  {
   "cell_type": "code",
   "execution_count": 9,
   "id": "b69bf253-d227-4ef5-9601-f4f3605f1877",
   "metadata": {
    "tags": []
   },
   "outputs": [],
   "source": [
    "census_data['county_name'] = census_data['NAME'].str.extract(r';\\s*([A-Za-z\\s]+) County;')"
   ]
  },
  {
   "cell_type": "code",
   "execution_count": 10,
   "id": "5a03871e-f6b4-46fc-99d2-0dbfa04d1f38",
   "metadata": {
    "tags": []
   },
   "outputs": [],
   "source": [
    "census_data = census_data.drop(columns=['NAME'])"
   ]
  },
  {
   "cell_type": "code",
   "execution_count": 11,
   "id": "a0808315-79b0-42ee-8653-222785770048",
   "metadata": {
    "tags": []
   },
   "outputs": [],
   "source": [
    "census_data = census_data.rename(columns = {\n",
    "    'B01003_001E': 'total_pop',\n",
    "    'B17001_002E': 'poverty_pop',\n",
    "    'B16008_037E': 'non_us_citizen',\n",
    "    'B01001_020E': 'male_65_to_66', 'B01001_021E': 'male_67_to_69', 'B01001_022E': 'male_70_to_74', \n",
    "    'B01001_023E': 'male_75_to_79', 'B01001_024E': 'male_80_to_84', 'B01001_025E': 'male_85_and_over',\n",
    "    'B01001_044E': 'female_65_to_66', 'B01001_045E': 'female_67_to_69', 'B01001_046E': 'female_70_to_74', \n",
    "    'B01001_047E': 'female_75_to_79', 'B01001_048E': 'female_80_to_84', 'B01001_049E': 'female_85_and_over',\n",
    "    'B06010_004E': 'income_less_10000', 'B06010_005E': 'income_10000_14999', 'B06010_006E': 'income_15000_24999', \n",
    "    'B06010_007E': 'income_25000_34999', 'B06010_008E': 'income_35000_49999',\n",
    "    'B06010_009E': 'income_50000_64999', 'B06010_010E': 'income_65000_74999',\n",
    "    'B08014_002E': 'workers_with_no_car', 'B08201_002E': 'households_with_no_cars',\n",
    "    'B18101_001E': 'disabled_pop',\n",
    "    'B19058_001E': 'public_asst_pop'\n",
    "})"
   ]
  },
  {
   "cell_type": "code",
   "execution_count": 12,
   "id": "e3ddd869-a418-4bbd-9349-92bdba346012",
   "metadata": {
    "tags": []
   },
   "outputs": [],
   "source": [
    "exclude = ['state', 'county', 'tract', 'county_name', 'GEOID']\n",
    "cols_to_numeric = [col for col in census_data.columns if col not in exclude]\n",
    "census_data[cols_to_numeric] = census_data[cols_to_numeric].apply(pd.to_numeric, errors='coerce')"
   ]
  },
  {
   "cell_type": "code",
   "execution_count": 13,
   "id": "6c08efd5-8cf5-4333-bd86-94c515ecfb07",
   "metadata": {
    "tags": []
   },
   "outputs": [
    {
     "data": {
      "text/html": [
       "<div>\n",
       "<style scoped>\n",
       "    .dataframe tbody tr th:only-of-type {\n",
       "        vertical-align: middle;\n",
       "    }\n",
       "\n",
       "    .dataframe tbody tr th {\n",
       "        vertical-align: top;\n",
       "    }\n",
       "\n",
       "    .dataframe thead th {\n",
       "        text-align: right;\n",
       "    }\n",
       "</style>\n",
       "<table border=\"1\" class=\"dataframe\">\n",
       "  <thead>\n",
       "    <tr style=\"text-align: right;\">\n",
       "      <th></th>\n",
       "      <th>total_pop</th>\n",
       "      <th>poverty_pop</th>\n",
       "      <th>non_us_citizen</th>\n",
       "      <th>male_65_to_66</th>\n",
       "      <th>male_67_to_69</th>\n",
       "      <th>male_70_to_74</th>\n",
       "      <th>male_75_to_79</th>\n",
       "      <th>male_80_to_84</th>\n",
       "      <th>male_85_and_over</th>\n",
       "      <th>female_65_to_66</th>\n",
       "      <th>female_67_to_69</th>\n",
       "      <th>female_70_to_74</th>\n",
       "      <th>female_75_to_79</th>\n",
       "      <th>female_80_to_84</th>\n",
       "      <th>female_85_and_over</th>\n",
       "      <th>income_less_10000</th>\n",
       "      <th>income_10000_14999</th>\n",
       "      <th>income_15000_24999</th>\n",
       "      <th>income_25000_34999</th>\n",
       "      <th>income_35000_49999</th>\n",
       "      <th>income_50000_64999</th>\n",
       "      <th>income_65000_74999</th>\n",
       "      <th>workers_with_no_car</th>\n",
       "      <th>households_with_no_cars</th>\n",
       "      <th>disabled_pop</th>\n",
       "      <th>public_asst_pop</th>\n",
       "      <th>state</th>\n",
       "      <th>county</th>\n",
       "      <th>tract</th>\n",
       "      <th>GEOID</th>\n",
       "      <th>county_name</th>\n",
       "    </tr>\n",
       "  </thead>\n",
       "  <tbody>\n",
       "    <tr>\n",
       "      <th>0</th>\n",
       "      <td>3094</td>\n",
       "      <td>134</td>\n",
       "      <td>264</td>\n",
       "      <td>47</td>\n",
       "      <td>84</td>\n",
       "      <td>119</td>\n",
       "      <td>49</td>\n",
       "      <td>46</td>\n",
       "      <td>78</td>\n",
       "      <td>52</td>\n",
       "      <td>70</td>\n",
       "      <td>72</td>\n",
       "      <td>85</td>\n",
       "      <td>105</td>\n",
       "      <td>107</td>\n",
       "      <td>188</td>\n",
       "      <td>75</td>\n",
       "      <td>134</td>\n",
       "      <td>157</td>\n",
       "      <td>87</td>\n",
       "      <td>129</td>\n",
       "      <td>70</td>\n",
       "      <td>28</td>\n",
       "      <td>85</td>\n",
       "      <td>3094</td>\n",
       "      <td>1316</td>\n",
       "      <td>06</td>\n",
       "      <td>001</td>\n",
       "      <td>400100</td>\n",
       "      <td>06001400100</td>\n",
       "      <td>Alameda</td>\n",
       "    </tr>\n",
       "    <tr>\n",
       "      <th>1</th>\n",
       "      <td>2093</td>\n",
       "      <td>164</td>\n",
       "      <td>96</td>\n",
       "      <td>18</td>\n",
       "      <td>60</td>\n",
       "      <td>59</td>\n",
       "      <td>58</td>\n",
       "      <td>28</td>\n",
       "      <td>26</td>\n",
       "      <td>40</td>\n",
       "      <td>35</td>\n",
       "      <td>67</td>\n",
       "      <td>96</td>\n",
       "      <td>34</td>\n",
       "      <td>13</td>\n",
       "      <td>75</td>\n",
       "      <td>70</td>\n",
       "      <td>89</td>\n",
       "      <td>12</td>\n",
       "      <td>207</td>\n",
       "      <td>77</td>\n",
       "      <td>32</td>\n",
       "      <td>92</td>\n",
       "      <td>95</td>\n",
       "      <td>2093</td>\n",
       "      <td>861</td>\n",
       "      <td>06</td>\n",
       "      <td>001</td>\n",
       "      <td>400200</td>\n",
       "      <td>06001400200</td>\n",
       "      <td>Alameda</td>\n",
       "    </tr>\n",
       "    <tr>\n",
       "      <th>2</th>\n",
       "      <td>5727</td>\n",
       "      <td>310</td>\n",
       "      <td>306</td>\n",
       "      <td>23</td>\n",
       "      <td>47</td>\n",
       "      <td>113</td>\n",
       "      <td>100</td>\n",
       "      <td>24</td>\n",
       "      <td>25</td>\n",
       "      <td>108</td>\n",
       "      <td>62</td>\n",
       "      <td>194</td>\n",
       "      <td>158</td>\n",
       "      <td>13</td>\n",
       "      <td>142</td>\n",
       "      <td>383</td>\n",
       "      <td>201</td>\n",
       "      <td>300</td>\n",
       "      <td>251</td>\n",
       "      <td>400</td>\n",
       "      <td>148</td>\n",
       "      <td>291</td>\n",
       "      <td>157</td>\n",
       "      <td>416</td>\n",
       "      <td>5727</td>\n",
       "      <td>2713</td>\n",
       "      <td>06</td>\n",
       "      <td>001</td>\n",
       "      <td>400300</td>\n",
       "      <td>06001400300</td>\n",
       "      <td>Alameda</td>\n",
       "    </tr>\n",
       "    <tr>\n",
       "      <th>3</th>\n",
       "      <td>4395</td>\n",
       "      <td>343</td>\n",
       "      <td>185</td>\n",
       "      <td>31</td>\n",
       "      <td>70</td>\n",
       "      <td>89</td>\n",
       "      <td>19</td>\n",
       "      <td>26</td>\n",
       "      <td>36</td>\n",
       "      <td>55</td>\n",
       "      <td>105</td>\n",
       "      <td>104</td>\n",
       "      <td>43</td>\n",
       "      <td>23</td>\n",
       "      <td>30</td>\n",
       "      <td>187</td>\n",
       "      <td>105</td>\n",
       "      <td>287</td>\n",
       "      <td>215</td>\n",
       "      <td>207</td>\n",
       "      <td>178</td>\n",
       "      <td>87</td>\n",
       "      <td>134</td>\n",
       "      <td>204</td>\n",
       "      <td>4376</td>\n",
       "      <td>1803</td>\n",
       "      <td>06</td>\n",
       "      <td>001</td>\n",
       "      <td>400400</td>\n",
       "      <td>06001400400</td>\n",
       "      <td>Alameda</td>\n",
       "    </tr>\n",
       "    <tr>\n",
       "      <th>4</th>\n",
       "      <td>3822</td>\n",
       "      <td>397</td>\n",
       "      <td>231</td>\n",
       "      <td>41</td>\n",
       "      <td>32</td>\n",
       "      <td>56</td>\n",
       "      <td>41</td>\n",
       "      <td>4</td>\n",
       "      <td>0</td>\n",
       "      <td>19</td>\n",
       "      <td>47</td>\n",
       "      <td>51</td>\n",
       "      <td>50</td>\n",
       "      <td>60</td>\n",
       "      <td>203</td>\n",
       "      <td>256</td>\n",
       "      <td>91</td>\n",
       "      <td>244</td>\n",
       "      <td>213</td>\n",
       "      <td>385</td>\n",
       "      <td>387</td>\n",
       "      <td>244</td>\n",
       "      <td>74</td>\n",
       "      <td>169</td>\n",
       "      <td>3822</td>\n",
       "      <td>1655</td>\n",
       "      <td>06</td>\n",
       "      <td>001</td>\n",
       "      <td>400500</td>\n",
       "      <td>06001400500</td>\n",
       "      <td>Alameda</td>\n",
       "    </tr>\n",
       "  </tbody>\n",
       "</table>\n",
       "</div>"
      ],
      "text/plain": [
       "   total_pop  poverty_pop  non_us_citizen  male_65_to_66  male_67_to_69  \\\n",
       "0       3094          134             264             47             84   \n",
       "1       2093          164              96             18             60   \n",
       "2       5727          310             306             23             47   \n",
       "3       4395          343             185             31             70   \n",
       "4       3822          397             231             41             32   \n",
       "\n",
       "   male_70_to_74  male_75_to_79  male_80_to_84  male_85_and_over  \\\n",
       "0            119             49             46                78   \n",
       "1             59             58             28                26   \n",
       "2            113            100             24                25   \n",
       "3             89             19             26                36   \n",
       "4             56             41              4                 0   \n",
       "\n",
       "   female_65_to_66  female_67_to_69  female_70_to_74  female_75_to_79  \\\n",
       "0               52               70               72               85   \n",
       "1               40               35               67               96   \n",
       "2              108               62              194              158   \n",
       "3               55              105              104               43   \n",
       "4               19               47               51               50   \n",
       "\n",
       "   female_80_to_84  female_85_and_over  income_less_10000  income_10000_14999  \\\n",
       "0              105                 107                188                  75   \n",
       "1               34                  13                 75                  70   \n",
       "2               13                 142                383                 201   \n",
       "3               23                  30                187                 105   \n",
       "4               60                 203                256                  91   \n",
       "\n",
       "   income_15000_24999  income_25000_34999  income_35000_49999  \\\n",
       "0                 134                 157                  87   \n",
       "1                  89                  12                 207   \n",
       "2                 300                 251                 400   \n",
       "3                 287                 215                 207   \n",
       "4                 244                 213                 385   \n",
       "\n",
       "   income_50000_64999  income_65000_74999  workers_with_no_car  \\\n",
       "0                 129                  70                   28   \n",
       "1                  77                  32                   92   \n",
       "2                 148                 291                  157   \n",
       "3                 178                  87                  134   \n",
       "4                 387                 244                   74   \n",
       "\n",
       "   households_with_no_cars  disabled_pop  public_asst_pop state county  \\\n",
       "0                       85          3094             1316    06    001   \n",
       "1                       95          2093              861    06    001   \n",
       "2                      416          5727             2713    06    001   \n",
       "3                      204          4376             1803    06    001   \n",
       "4                      169          3822             1655    06    001   \n",
       "\n",
       "    tract        GEOID county_name  \n",
       "0  400100  06001400100     Alameda  \n",
       "1  400200  06001400200     Alameda  \n",
       "2  400300  06001400300     Alameda  \n",
       "3  400400  06001400400     Alameda  \n",
       "4  400500  06001400500     Alameda  "
      ]
     },
     "execution_count": 13,
     "metadata": {},
     "output_type": "execute_result"
    }
   ],
   "source": [
    "census_data.head(5)"
   ]
  },
  {
   "cell_type": "code",
   "execution_count": 14,
   "id": "6647104f-db0a-4cb5-9908-c30d009e568e",
   "metadata": {
    "tags": []
   },
   "outputs": [],
   "source": [
    "#Creating custom income variables \n",
    "census_data['inc_extremelylow'] = census_data['income_less_10000'] + census_data['income_10000_14999'] + census_data['income_15000_24999']\n",
    "census_data['inc_verylow'] = census_data['income_25000_34999'] + census_data['income_35000_49999']\n",
    "census_data['inc_low'] = census_data['income_50000_64999'] + census_data['income_65000_74999']"
   ]
  },
  {
   "cell_type": "code",
   "execution_count": 15,
   "id": "5b637751-060f-46ce-9b8c-41c94dd07620",
   "metadata": {
    "tags": []
   },
   "outputs": [],
   "source": [
    "census_data['male_seniors'] = census_data.loc[:, \"male_65_to_66\":\"male_85_and_over\"].sum(axis=1)\n",
    "census_data['female_seniors'] = census_data.loc[:, \"female_65_to_66\":\"female_85_and_over\"].sum(axis=1)"
   ]
  },
  {
   "cell_type": "code",
   "execution_count": 16,
   "id": "55013195-b315-4889-abf6-951091d09e05",
   "metadata": {},
   "outputs": [
    {
     "name": "stdout",
     "output_type": "stream",
     "text": [
      "Using FIPS code '06' for input 'CA'\n"
     ]
    }
   ],
   "source": [
    "#Retrieving Tract Geometries for California\n",
    "ca_tracts = tracts(state = \"CA\", cb = True,\n",
    "                    year = 2023, cache = True)"
   ]
  },
  {
   "cell_type": "code",
   "execution_count": 18,
   "id": "986d2bcf-3e7f-4746-abe4-627460f68406",
   "metadata": {},
   "outputs": [],
   "source": [
    "# Merging the census tract geometries with the census data based on the GEOID\n",
    "tracts_ca_acs = ca_tracts.merge(census_data, how=\"inner\", on=\"GEOID\")"
   ]
  },
  {
   "cell_type": "code",
   "execution_count": 21,
   "id": "1a89c9b5-4b7c-45c8-9d1e-632e1006b653",
   "metadata": {
    "tags": []
   },
   "outputs": [],
   "source": [
    "# Querying dim organization\n",
    "with db_engine.connect() as connection:\n",
    "    query = \"\"\"\n",
    "        SELECT\n",
    "            source_record_id, organization_type, ntd_id, ntd_agency_info_key, \n",
    "            public_currently_operating, _is_current,_valid_from,  _valid_to\n",
    "        FROM \n",
    "            cal-itp-data-infra.mart_transit_database.dim_organizations\n",
    "    \"\"\"\n",
    "    dim_orgs= pd.read_sql(query, connection)"
   ]
  },
  {
   "cell_type": "code",
   "execution_count": null,
   "id": "5763be02-ce61-46fe-aeba-9fd273e9ca81",
   "metadata": {},
   "outputs": [],
   "source": []
  }
 ],
 "metadata": {
  "kernelspec": {
   "display_name": "Python 3 (ipykernel)",
   "language": "python",
   "name": "python3"
  },
  "language_info": {
   "codemirror_mode": {
    "name": "ipython",
    "version": 3
   },
   "file_extension": ".py",
   "mimetype": "text/x-python",
   "name": "python",
   "nbconvert_exporter": "python",
   "pygments_lexer": "ipython3",
   "version": "3.11.10"
  }
 },
 "nbformat": 4,
 "nbformat_minor": 5
}
