{
 "cells": [
  {
   "cell_type": "markdown",
   "id": "feabb244-6d63-48af-b8ec-8a93cad670f8",
   "metadata": {},
   "source": [
    "# Desired order for setting up `gtfs_utils_v2`"
   ]
  },
  {
   "cell_type": "code",
   "execution_count": 1,
   "id": "6a6fbd6d-cb9e-4ff8-bfaf-88b8b8489d02",
   "metadata": {},
   "outputs": [
    {
     "name": "stderr",
     "output_type": "stream",
     "text": [
      "/opt/conda/lib/python3.9/site-packages/geopandas/_compat.py:123: UserWarning: The Shapely GEOS version (3.10.3-CAPI-1.16.1) is incompatible with the GEOS version PyGEOS was compiled with (3.10.1-CAPI-1.16.0). Conversions between both will be slow.\n",
      "  warnings.warn(\n"
     ]
    }
   ],
   "source": [
    "import os\n",
    "os.environ[\"CALITP_BQ_MAX_BYTES\"] = str(200_000_000_000)\n",
    "\n",
    "import datetime\n",
    "import pandas as pd\n",
    "import siuba # type hint\n",
    "\n",
    "from calitp.tables import tbls\n",
    "from siuba import *\n",
    "from typing import Union\n",
    "\n",
    "import gtfs_utils_v2\n",
    "analysis_date = datetime.date(2023, 1, 12)"
   ]
  },
  {
   "cell_type": "markdown",
   "id": "dec96d78-5d93-4835-9dcc-654ae06edd97",
   "metadata": {},
   "source": [
    "## Step 1: Airtable's `dim_gtfs_datasets` with `fct_daily_scheduled_feeds`\n",
    "\n",
    "* Filter out ones that are not deprecated (use `data_quality_pipeline`)\n",
    "* Allow any other custom filtering to be done, such as the default of getting scheduled data only\n",
    "* Analysts now should look at output and decide if there's additional filtering needed. \n",
    "* Once filtering is done, input the df in to merge with `fct_daily_feeds` to get `feed_keys`\n",
    "* Use `feed_key` to traverse all the other tables"
   ]
  },
  {
   "cell_type": "code",
   "execution_count": null,
   "id": "b696aa47-c06a-4cd8-b52b-605e481e57fe",
   "metadata": {},
   "outputs": [],
   "source": [
    "'''\n",
    "# downloaded 1/3/23\n",
    "dim_gtfs_datasets = (tbls.mart_transit_database.dim_gtfs_datasets()\n",
    ">> filter(_.data_quality_pipeline == True) # if True, we can use\n",
    ">> rename(date = _.calitp_extracted_at)\n",
    ">> collect()\n",
    ")\n",
    "\n",
    "# the date is the date extracted, not the date for which we're running things\n",
    "dim_gtfs_datasets.to_parquet(\"dim_gtfs_datasets.parquet\")\n",
    "'''\n",
    "\n",
    "\n",
    "'''\n",
    "fact_daily_schedule_feeds = (tbls.mart_gtfs.fct_daily_schedule_feeds()\n",
    "                             >> filter(_.date==analysis_date)\n",
    "                             >> collect()\n",
    "                            )\n",
    "\n",
    "fact_daily_schedule_feeds.to_parquet(\"fct_daily_schedule_feeds.parquet\")\n",
    "'''"
   ]
  },
  {
   "cell_type": "code",
   "execution_count": null,
   "id": "014e7ef1-093e-48f3-bf12-adef79cc85a3",
   "metadata": {},
   "outputs": [],
   "source": [
    "dim_gtfs_datasets = pd.read_parquet(\"dim_gtfs_datasets.parquet\")"
   ]
  },
  {
   "cell_type": "markdown",
   "id": "04d96ffc-b544-4105-9883-1c52cfb409e6",
   "metadata": {},
   "source": [
    "## Test feed options\n",
    "\n",
    "[\"customer_facing\", \"use_subfeeds\", \n",
    "                          \"current_feeds\", \"include_precursor\", \n",
    "                          \"include_precursor_and_future\",\n",
    "                         ] "
   ]
  },
  {
   "cell_type": "code",
   "execution_count": null,
   "id": "c7293b89-5f67-400d-9015-5a245004dc24",
   "metadata": {},
   "outputs": [],
   "source": [
    "full_df = gtfs_utils_v2.schedule_daily_feed_to_organization(\n",
    "    selected_date = analysis_date,\n",
    "    keep_cols = None,\n",
    "    get_df = True,\n",
    "    feed_option = \"\")"
   ]
  },
  {
   "cell_type": "code",
   "execution_count": null,
   "id": "5e47504b-dac6-44c9-b15a-2fadd43bd37c",
   "metadata": {},
   "outputs": [],
   "source": [
    "full_df.shape"
   ]
  },
  {
   "cell_type": "code",
   "execution_count": null,
   "id": "7d6a9cb5-9ebe-41b6-8a60-9f16599e6bdb",
   "metadata": {},
   "outputs": [],
   "source": [
    "def num_rows_and_other_stats(df: pd.DataFrame, feed_option: str):\n",
    "    \"\"\"\n",
    "    Get stats for different filtering to double check.\n",
    "    \"\"\"\n",
    "    subset_df = df >> gtfs_utils_v2.filter_feed_options(feed_option) \n",
    "    \n",
    "    print(f\"# rows: {len(subset_df)}\")\n",
    "    print(\"---------------\")\n",
    "    print(f\"regional_feed_type: {subset_df.regional_feed_type.value_counts()}\")\n",
    "    print(\"---------------\")\n",
    "    print(f\"is_future: {subset_df.is_future.value_counts()}\")"
   ]
  },
  {
   "cell_type": "code",
   "execution_count": null,
   "id": "00602b6a-d3fe-42ad-8d9e-0786465b0a1c",
   "metadata": {},
   "outputs": [],
   "source": [
    "num_rows_and_other_stats(full_df, \"customer_facing\")"
   ]
  },
  {
   "cell_type": "code",
   "execution_count": null,
   "id": "e53edcbd-e414-4069-9528-684f3478acd7",
   "metadata": {},
   "outputs": [],
   "source": [
    "num_rows_and_other_stats(full_df, \"use_subfeeds\")"
   ]
  },
  {
   "cell_type": "code",
   "execution_count": null,
   "id": "d5097748-b6d2-4349-9e5e-93a57b541b58",
   "metadata": {},
   "outputs": [],
   "source": [
    "num_rows_and_other_stats(full_df, \"current_feeds\")"
   ]
  },
  {
   "cell_type": "code",
   "execution_count": null,
   "id": "5c1f312a-c5aa-49ef-a204-d9888be7bc51",
   "metadata": {},
   "outputs": [],
   "source": [
    "num_rows_and_other_stats(full_df, \"include_precursor\") "
   ]
  },
  {
   "cell_type": "code",
   "execution_count": null,
   "id": "af87d366-448e-4bb2-807b-532ed87a0038",
   "metadata": {},
   "outputs": [],
   "source": [
    "num_rows_and_other_stats(full_df, \"include_precursor_and_future\") "
   ]
  },
  {
   "cell_type": "code",
   "execution_count": 2,
   "id": "2bf836cc-d19c-49ee-93b8-e1e33437b4b3",
   "metadata": {},
   "outputs": [],
   "source": [
    "test_cases = [\n",
    "    \"Big Blue Bus Schedule\", \n",
    "    \"Metrolink Schedule\"\n",
    "]\n",
    "\n",
    "test_feed_keys = [\n",
    "    \"008d5112a7e531d0562d26e34d77869d\", # Sacramento Schedule\n",
    "    \"f8d3bfd9e780aa3b3ce1340b2116513f\" # Long Beach Schedule\n",
    "]\n",
    "\n",
    "test_gtfs_dataset_keys = [\"reccgBgsKC5J7BD8K\"]"
   ]
  },
  {
   "cell_type": "code",
   "execution_count": 6,
   "id": "96d85754-99c6-4319-9d13-155387c91532",
   "metadata": {},
   "outputs": [
    {
     "data": {
      "text/html": [
       "<div><pre># Source: lazy query\n",
       "# DB Conn: Engine(bigquery://cal-itp-data-infra/?maximum_bytes_billed=200000000000)\n",
       "# Preview:\n",
       "</pre><div>\n",
       "<style scoped>\n",
       "    .dataframe tbody tr th:only-of-type {\n",
       "        vertical-align: middle;\n",
       "    }\n",
       "\n",
       "    .dataframe tbody tr th {\n",
       "        vertical-align: top;\n",
       "    }\n",
       "\n",
       "    .dataframe thead th {\n",
       "        text-align: right;\n",
       "    }\n",
       "</style>\n",
       "<table border=\"1\" class=\"dataframe\">\n",
       "  <thead>\n",
       "    <tr style=\"text-align: right;\">\n",
       "      <th></th>\n",
       "      <th>key</th>\n",
       "      <th>date</th>\n",
       "      <th>feed_key</th>\n",
       "      <th>base64_url</th>\n",
       "      <th>gtfs_dataset_key</th>\n",
       "      <th>is_future</th>\n",
       "      <th>type</th>\n",
       "      <th>regional_feed_type</th>\n",
       "      <th>name</th>\n",
       "    </tr>\n",
       "  </thead>\n",
       "  <tbody>\n",
       "    <tr>\n",
       "      <th>0</th>\n",
       "      <td>9ab28255efd3800d0929e7e6fe71d682</td>\n",
       "      <td>2023-01-12</td>\n",
       "      <td>008d5112a7e531d0562d26e34d77869d</td>\n",
       "      <td>aHR0cHM6Ly9pcG9ydGFsLnNhY3J0LmNvbS9HVEZTL1NSVE...</td>\n",
       "      <td>recbzZQUIdMmFvm1r</td>\n",
       "      <td>False</td>\n",
       "      <td>schedule</td>\n",
       "      <td>None</td>\n",
       "      <td>Sacramento Schedule</td>\n",
       "    </tr>\n",
       "    <tr>\n",
       "      <th>1</th>\n",
       "      <td>939b1adb1fba85994b3728a7127d8098</td>\n",
       "      <td>2023-01-12</td>\n",
       "      <td>00ce39f3ecbd4c8a065b006e550bdf78</td>\n",
       "      <td>aHR0cHM6Ly9kYXRhLnRyaWxsaXVtdHJhbnNpdC5jb20vZ3...</td>\n",
       "      <td>recI7kYNWSEKTMMiq</td>\n",
       "      <td>False</td>\n",
       "      <td>schedule</td>\n",
       "      <td>Regional Precursor Feed</td>\n",
       "      <td>Fairfield Schedule</td>\n",
       "    </tr>\n",
       "    <tr>\n",
       "      <th>2</th>\n",
       "      <td>66afc77ef0b3ca127a0c0ea60fd402b6</td>\n",
       "      <td>2023-01-12</td>\n",
       "      <td>04a2bb9727f58083d3622ca13e5ab97c</td>\n",
       "      <td>aHR0cHM6Ly9kYXRhLnRyaWxsaXVtdHJhbnNpdC5jb20vZ3...</td>\n",
       "      <td>rec2Irh2irjkQUoFt</td>\n",
       "      <td>False</td>\n",
       "      <td>schedule</td>\n",
       "      <td>None</td>\n",
       "      <td>Eastern Sierra Schedule</td>\n",
       "    </tr>\n",
       "    <tr>\n",
       "      <th>3</th>\n",
       "      <td>ed9ddfbbc11193641b990de62903618e</td>\n",
       "      <td>2023-01-12</td>\n",
       "      <td>062563b11ac99ddec6d3bec6f613b78d</td>\n",
       "      <td>aHR0cHM6Ly9tamNhY3Rpb24uY29tL01KQ19HVEZTX1B1Ym...</td>\n",
       "      <td>recakkevxj5vOACjk</td>\n",
       "      <td>False</td>\n",
       "      <td>schedule</td>\n",
       "      <td>None</td>\n",
       "      <td>Morro Bay Schedule</td>\n",
       "    </tr>\n",
       "    <tr>\n",
       "      <th>4</th>\n",
       "      <td>f60a157d1f4a11cda99c9bd8a55eea16</td>\n",
       "      <td>2023-01-12</td>\n",
       "      <td>071827dbd8e30629592144127920fdac</td>\n",
       "      <td>aHR0cHM6Ly90dWxhcmVjb2cub3JnL3RjYWcvZGF0YS1naX...</td>\n",
       "      <td>recQ1HOmLyzXsPnEU</td>\n",
       "      <td>False</td>\n",
       "      <td>schedule</td>\n",
       "      <td>None</td>\n",
       "      <td>TCRTA Schedule</td>\n",
       "    </tr>\n",
       "  </tbody>\n",
       "</table>\n",
       "</div><p># .. may have more rows</p></div>"
      ],
      "text/plain": [
       "# Source: lazy query\n",
       "# DB Conn: Engine(bigquery://cal-itp-data-infra/?maximum_bytes_billed=200000000000)\n",
       "# Preview:\n",
       "                                key       date  \\\n",
       "0  9ab28255efd3800d0929e7e6fe71d682 2023-01-12   \n",
       "1  939b1adb1fba85994b3728a7127d8098 2023-01-12   \n",
       "2  66afc77ef0b3ca127a0c0ea60fd402b6 2023-01-12   \n",
       "3  ed9ddfbbc11193641b990de62903618e 2023-01-12   \n",
       "4  f60a157d1f4a11cda99c9bd8a55eea16 2023-01-12   \n",
       "\n",
       "                           feed_key  \\\n",
       "0  008d5112a7e531d0562d26e34d77869d   \n",
       "1  00ce39f3ecbd4c8a065b006e550bdf78   \n",
       "2  04a2bb9727f58083d3622ca13e5ab97c   \n",
       "3  062563b11ac99ddec6d3bec6f613b78d   \n",
       "4  071827dbd8e30629592144127920fdac   \n",
       "\n",
       "                                          base64_url   gtfs_dataset_key  \\\n",
       "0  aHR0cHM6Ly9pcG9ydGFsLnNhY3J0LmNvbS9HVEZTL1NSVE...  recbzZQUIdMmFvm1r   \n",
       "1  aHR0cHM6Ly9kYXRhLnRyaWxsaXVtdHJhbnNpdC5jb20vZ3...  recI7kYNWSEKTMMiq   \n",
       "2  aHR0cHM6Ly9kYXRhLnRyaWxsaXVtdHJhbnNpdC5jb20vZ3...  rec2Irh2irjkQUoFt   \n",
       "3  aHR0cHM6Ly9tamNhY3Rpb24uY29tL01KQ19HVEZTX1B1Ym...  recakkevxj5vOACjk   \n",
       "4  aHR0cHM6Ly90dWxhcmVjb2cub3JnL3RjYWcvZGF0YS1naX...  recQ1HOmLyzXsPnEU   \n",
       "\n",
       "   is_future      type       regional_feed_type                     name  \n",
       "0      False  schedule                     None      Sacramento Schedule  \n",
       "1      False  schedule  Regional Precursor Feed       Fairfield Schedule  \n",
       "2      False  schedule                     None  Eastern Sierra Schedule  \n",
       "3      False  schedule                     None       Morro Bay Schedule  \n",
       "4      False  schedule                     None           TCRTA Schedule  \n",
       "# .. may have more rows"
      ]
     },
     "execution_count": 6,
     "metadata": {},
     "output_type": "execute_result"
    }
   ],
   "source": [
    " gtfs_utils_v2.schedule_daily_feed_to_organization(\n",
    "        selected_date = analysis_date,\n",
    "        keep_cols = None,\n",
    "        get_df = False,\n",
    "        feed_option = \"use_subfeeds\"\n",
    "    )"
   ]
  },
  {
   "cell_type": "code",
   "execution_count": 4,
   "id": "5e9af514-0102-4bc2-b352-2f14948bcad5",
   "metadata": {},
   "outputs": [
    {
     "data": {
      "text/html": [
       "<div>\n",
       "<style scoped>\n",
       "    .dataframe tbody tr th:only-of-type {\n",
       "        vertical-align: middle;\n",
       "    }\n",
       "\n",
       "    .dataframe tbody tr th {\n",
       "        vertical-align: top;\n",
       "    }\n",
       "\n",
       "    .dataframe thead th {\n",
       "        text-align: right;\n",
       "    }\n",
       "</style>\n",
       "<table border=\"1\" class=\"dataframe\">\n",
       "  <thead>\n",
       "    <tr style=\"text-align: right;\">\n",
       "      <th></th>\n",
       "      <th>key</th>\n",
       "      <th>date</th>\n",
       "      <th>feed_key</th>\n",
       "      <th>base64_url</th>\n",
       "      <th>gtfs_dataset_key</th>\n",
       "      <th>is_future</th>\n",
       "      <th>type</th>\n",
       "      <th>regional_feed_type</th>\n",
       "      <th>name</th>\n",
       "    </tr>\n",
       "  </thead>\n",
       "  <tbody>\n",
       "    <tr>\n",
       "      <th>0</th>\n",
       "      <td>bbf6e6f4ec56bfe600b34e0c1ef17a45</td>\n",
       "      <td>2023-01-12</td>\n",
       "      <td>90e78003416c5b09f77a9de8f266c2be</td>\n",
       "      <td>aHR0cHM6Ly93d3cubWV0cm9saW5rdHJhaW5zLmNvbS9nbG...</td>\n",
       "      <td>recR28oQlTW8GMJue</td>\n",
       "      <td>False</td>\n",
       "      <td>schedule</td>\n",
       "      <td>None</td>\n",
       "      <td>Metrolink Schedule</td>\n",
       "    </tr>\n",
       "    <tr>\n",
       "      <th>1</th>\n",
       "      <td>04ae8f26cbc038a49fb95f45a128124e</td>\n",
       "      <td>2023-01-12</td>\n",
       "      <td>9d4387dc55091d50c717582348508bae</td>\n",
       "      <td>aHR0cDovL2d0ZnMuYmlnYmx1ZWJ1cy5jb20vY3VycmVudC...</td>\n",
       "      <td>recpN1dPaxhZvZQV0</td>\n",
       "      <td>False</td>\n",
       "      <td>schedule</td>\n",
       "      <td>None</td>\n",
       "      <td>Big Blue Bus Schedule</td>\n",
       "    </tr>\n",
       "  </tbody>\n",
       "</table>\n",
       "</div>"
      ],
      "text/plain": [
       "                                key       date  \\\n",
       "0  bbf6e6f4ec56bfe600b34e0c1ef17a45 2023-01-12   \n",
       "1  04ae8f26cbc038a49fb95f45a128124e 2023-01-12   \n",
       "\n",
       "                           feed_key  \\\n",
       "0  90e78003416c5b09f77a9de8f266c2be   \n",
       "1  9d4387dc55091d50c717582348508bae   \n",
       "\n",
       "                                          base64_url   gtfs_dataset_key  \\\n",
       "0  aHR0cHM6Ly93d3cubWV0cm9saW5rdHJhaW5zLmNvbS9nbG...  recR28oQlTW8GMJue   \n",
       "1  aHR0cDovL2d0ZnMuYmlnYmx1ZWJ1cy5jb20vY3VycmVudC...  recpN1dPaxhZvZQV0   \n",
       "\n",
       "   is_future      type regional_feed_type                   name  \n",
       "0      False  schedule               None     Metrolink Schedule  \n",
       "1      False  schedule               None  Big Blue Bus Schedule  "
      ]
     },
     "execution_count": 4,
     "metadata": {},
     "output_type": "execute_result"
    }
   ],
   "source": [
    "df_filter_by_name = (\n",
    "    gtfs_utils_v2.schedule_daily_feed_to_organization(\n",
    "        selected_date = analysis_date,\n",
    "        keep_cols = None,\n",
    "        get_df = False,\n",
    "        feed_option = \"use_subfeeds\"\n",
    "    ) >> gtfs_utils_v2.filter_operator(test_cases)\n",
    "    >> collect()\n",
    ")\n",
    "\n",
    "df_filter_by_name"
   ]
  },
  {
   "cell_type": "code",
   "execution_count": 5,
   "id": "7068850a-9367-448f-a44c-efdf7165ddc9",
   "metadata": {},
   "outputs": [
    {
     "data": {
      "text/html": [
       "<div>\n",
       "<style scoped>\n",
       "    .dataframe tbody tr th:only-of-type {\n",
       "        vertical-align: middle;\n",
       "    }\n",
       "\n",
       "    .dataframe tbody tr th {\n",
       "        vertical-align: top;\n",
       "    }\n",
       "\n",
       "    .dataframe thead th {\n",
       "        text-align: right;\n",
       "    }\n",
       "</style>\n",
       "<table border=\"1\" class=\"dataframe\">\n",
       "  <thead>\n",
       "    <tr style=\"text-align: right;\">\n",
       "      <th></th>\n",
       "      <th>key</th>\n",
       "      <th>date</th>\n",
       "      <th>feed_key</th>\n",
       "      <th>base64_url</th>\n",
       "      <th>gtfs_dataset_key</th>\n",
       "      <th>is_future</th>\n",
       "      <th>type</th>\n",
       "      <th>regional_feed_type</th>\n",
       "      <th>name</th>\n",
       "    </tr>\n",
       "  </thead>\n",
       "  <tbody>\n",
       "    <tr>\n",
       "      <th>0</th>\n",
       "      <td>9ab28255efd3800d0929e7e6fe71d682</td>\n",
       "      <td>2023-01-12</td>\n",
       "      <td>008d5112a7e531d0562d26e34d77869d</td>\n",
       "      <td>aHR0cHM6Ly9pcG9ydGFsLnNhY3J0LmNvbS9HVEZTL1NSVE...</td>\n",
       "      <td>recbzZQUIdMmFvm1r</td>\n",
       "      <td>False</td>\n",
       "      <td>schedule</td>\n",
       "      <td>None</td>\n",
       "      <td>Sacramento Schedule</td>\n",
       "    </tr>\n",
       "    <tr>\n",
       "      <th>1</th>\n",
       "      <td>01314dde88fa8e00f917833b1f1e2513</td>\n",
       "      <td>2023-01-12</td>\n",
       "      <td>f8d3bfd9e780aa3b3ce1340b2116513f</td>\n",
       "      <td>aHR0cHM6Ly9sYnRyYW5zaXQuYm94LmNvbS9zaGFyZWQvc3...</td>\n",
       "      <td>recCv3CF4elAx0dUg</td>\n",
       "      <td>False</td>\n",
       "      <td>schedule</td>\n",
       "      <td>None</td>\n",
       "      <td>Long Beach Schedule</td>\n",
       "    </tr>\n",
       "  </tbody>\n",
       "</table>\n",
       "</div>"
      ],
      "text/plain": [
       "                                key       date  \\\n",
       "0  9ab28255efd3800d0929e7e6fe71d682 2023-01-12   \n",
       "1  01314dde88fa8e00f917833b1f1e2513 2023-01-12   \n",
       "\n",
       "                           feed_key  \\\n",
       "0  008d5112a7e531d0562d26e34d77869d   \n",
       "1  f8d3bfd9e780aa3b3ce1340b2116513f   \n",
       "\n",
       "                                          base64_url   gtfs_dataset_key  \\\n",
       "0  aHR0cHM6Ly9pcG9ydGFsLnNhY3J0LmNvbS9HVEZTL1NSVE...  recbzZQUIdMmFvm1r   \n",
       "1  aHR0cHM6Ly9sYnRyYW5zaXQuYm94LmNvbS9zaGFyZWQvc3...  recCv3CF4elAx0dUg   \n",
       "\n",
       "   is_future      type regional_feed_type                 name  \n",
       "0      False  schedule               None  Sacramento Schedule  \n",
       "1      False  schedule               None  Long Beach Schedule  "
      ]
     },
     "execution_count": 5,
     "metadata": {},
     "output_type": "execute_result"
    }
   ],
   "source": [
    "df_filter_by_feed_key = (\n",
    "    gtfs_utils_v2.schedule_daily_feed_to_organization(\n",
    "        selected_date = analysis_date,\n",
    "        keep_cols = None,\n",
    "        get_df = False,\n",
    "        feed_option = \"use_subfeeds\"\n",
    "    ) >> gtfs_utils_v2.filter_operator(test_feed_keys)\n",
    "    >> collect()\n",
    ")\n",
    "\n",
    "df_filter_by_feed_key"
   ]
  },
  {
   "cell_type": "code",
   "execution_count": null,
   "id": "ded0a5be-e8f5-475f-b63b-ff3576014ffd",
   "metadata": {},
   "outputs": [],
   "source": []
  },
  {
   "cell_type": "code",
   "execution_count": null,
   "id": "ae9d89cd-2ec1-4dd1-aab7-6f80793f7869",
   "metadata": {},
   "outputs": [],
   "source": []
  },
  {
   "cell_type": "code",
   "execution_count": null,
   "id": "2bb3717f-751e-4bea-9156-e75005fb20a9",
   "metadata": {},
   "outputs": [],
   "source": [
    "test_keys = dim_gtfs_datasets[dim_gtfs_datasets.name.isin(test_cases)\n",
    "                 ].key.unique().tolist()"
   ]
  },
  {
   "cell_type": "code",
   "execution_count": null,
   "id": "5e82a89a-2459-48ec-af10-145752e25d61",
   "metadata": {},
   "outputs": [],
   "source": [
    "fact_daily_feeds = pd.read_parquet(\"fct_daily_schedule_feeds.parquet\")"
   ]
  },
  {
   "cell_type": "code",
   "execution_count": null,
   "id": "14c2e413-4c2a-4fe9-bd36-388fd6155ec7",
   "metadata": {},
   "outputs": [],
   "source": [
    "test_feeds = fact_daily_feeds[\n",
    "    fact_daily_feeds.gtfs_dataset_key.isin(test_keys)\n",
    "].feed_key.unique().tolist()"
   ]
  },
  {
   "cell_type": "code",
   "execution_count": null,
   "id": "e486d076-f89e-4693-8e02-d74e3f0a8213",
   "metadata": {},
   "outputs": [],
   "source": [
    "'''\n",
    "schedule_datasets = gtfs_utils_v2.schedule_daily_feed_to_organization(\n",
    "    selected_date = analysis_date, \n",
    "    keep_cols = [\"date\", \"feed_key\", \"type\", \n",
    "                 \"regional_feed_type\", \"name\"],\n",
    "    get_df = True,\n",
    ")\n",
    "\n",
    "feed_types = [None, \"Regional Subfeed\"]\n",
    "cols = [\"date\", \"feed_key\", \"type\", \n",
    "                 \"regional_feed_type\", \"name\"]\n",
    "\n",
    "(schedule_datasets\n",
    " >> filter(_.regional_feed_type.isin(feed_types))\n",
    ")[cols]\n",
    "'''"
   ]
  },
  {
   "cell_type": "markdown",
   "id": "d86cc78a-c0d9-400b-9cac-3b9b0f1cf106",
   "metadata": {},
   "source": [
    "## Step 2: trips"
   ]
  },
  {
   "cell_type": "code",
   "execution_count": null,
   "id": "9cf07d94-d318-4635-af1d-31d3c4d26c59",
   "metadata": {},
   "outputs": [],
   "source": [
    "# Don't test Metrolink yet\n",
    "# relies on columns in the dbt table not yet available\n",
    "'''\n",
    "trips_test1 = gtfs_utils_v2.get_trips(\n",
    "    selected_date = analysis_date,\n",
    "    operator_feeds= test_feeds,\n",
    "    trip_cols = [\"feed_key\", \"trip_id\", \"trip_key\", \n",
    "                 \"route_id\", \"route_key\", \n",
    "                 \"shape_array_key\", #direction_id,\n",
    "                 \"service_hours\", \"trip_first_departure_sec\", \n",
    "                 \"trip_last_arrival_sec\"\n",
    "                ],\n",
    "    get_df = True,\n",
    ")\n",
    "trips_test1.to_parquet(\"trips_test1.parquet\")\n",
    "'''"
   ]
  },
  {
   "cell_type": "code",
   "execution_count": null,
   "id": "90250092-e13d-4866-a0f2-7c412908da90",
   "metadata": {},
   "outputs": [],
   "source": [
    "trips_test1 = pd.read_parquet(\"trips_test1.parquet\")"
   ]
  },
  {
   "cell_type": "markdown",
   "id": "cdd4aa8c-275e-4c8f-b98f-b553393aa9e5",
   "metadata": {},
   "source": [
    "## Step 2: stops"
   ]
  },
  {
   "cell_type": "code",
   "execution_count": null,
   "id": "bb10b7cb-1e11-4ee0-9eb5-4e900d5c00b8",
   "metadata": {},
   "outputs": [],
   "source": [
    "# wait til dbt new table ready"
   ]
  },
  {
   "cell_type": "markdown",
   "id": "2e9cfe55-e9da-44c0-8144-2398a192bee9",
   "metadata": {},
   "source": [
    "## Step 3: shapes"
   ]
  },
  {
   "cell_type": "code",
   "execution_count": null,
   "id": "1d39c850-b960-48ab-b31a-8d310b808532",
   "metadata": {},
   "outputs": [],
   "source": [
    "# wait til dbt new table ready"
   ]
  },
  {
   "cell_type": "markdown",
   "id": "1b0f54e1-aae0-428e-aedd-3689f5e0ce3e",
   "metadata": {},
   "source": [
    "## Step 4: stop_times"
   ]
  },
  {
   "cell_type": "code",
   "execution_count": null,
   "id": "47af40c2-2fda-4c96-be46-74436c7c3c4e",
   "metadata": {},
   "outputs": [],
   "source": [
    "test_trips = trips_test1.trip_id.unique().tolist()[:5]"
   ]
  },
  {
   "cell_type": "code",
   "execution_count": null,
   "id": "b54d684f-2df5-4b18-bf9d-70e168a2a3ce",
   "metadata": {},
   "outputs": [],
   "source": [
    "sample_trips = trips_test1[trips_test1.trip_id.isin(test_trips)]"
   ]
  },
  {
   "cell_type": "code",
   "execution_count": null,
   "id": "b6590b6e-80a8-489d-81e6-e4589b7ca6a2",
   "metadata": {},
   "outputs": [],
   "source": [
    "'''\n",
    "st_test1 = gtfs_utils_v2.get_stop_times(\n",
    "    selected_date = analysis_date,\n",
    "    operator_feeds= test_feeds,\n",
    "    stop_time_cols = [\"feed_key\", \"trip_id\", \"stop_id\", \n",
    "                      \"stop_sequence\", \n",
    "                      \"arrival_sec\", \"departure_sec\"\n",
    "                ],\n",
    "    get_df = True,\n",
    "    trip_df = sample_trips\n",
    ")\n",
    "st_test1.to_parquet(\"st_test1.parquet\")\n",
    "'''"
   ]
  },
  {
   "cell_type": "code",
   "execution_count": null,
   "id": "c8ee3af1-ab65-4c76-924d-7c5a178467d1",
   "metadata": {},
   "outputs": [],
   "source": []
  },
  {
   "cell_type": "code",
   "execution_count": null,
   "id": "b604ecee-bae3-444c-83b8-29a01211e066",
   "metadata": {},
   "outputs": [],
   "source": [
    "st_test1.arrival_sec.min()/3600"
   ]
  },
  {
   "cell_type": "code",
   "execution_count": null,
   "id": "13b23404-8d72-48ac-b391-2a5a4882a2d8",
   "metadata": {},
   "outputs": [],
   "source": [
    "st_test1.arrival_sec.max()/3600"
   ]
  },
  {
   "cell_type": "code",
   "execution_count": null,
   "id": "e9325444-cc21-4e28-893f-da1e455ca8f3",
   "metadata": {},
   "outputs": [],
   "source": []
  }
 ],
 "metadata": {
  "kernelspec": {
   "display_name": "Python 3 (ipykernel)",
   "language": "python",
   "name": "python3"
  },
  "language_info": {
   "codemirror_mode": {
    "name": "ipython",
    "version": 3
   },
   "file_extension": ".py",
   "mimetype": "text/x-python",
   "name": "python",
   "nbconvert_exporter": "python",
   "pygments_lexer": "ipython3",
   "version": "3.9.13"
  }
 },
 "nbformat": 4,
 "nbformat_minor": 5
}
