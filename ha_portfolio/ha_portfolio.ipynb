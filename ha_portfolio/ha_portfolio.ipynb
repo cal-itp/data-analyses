{
 "cells": [
  {
   "cell_type": "code",
   "execution_count": null,
   "id": "260ba8f3-dd02-4fdc-945d-450db01d188e",
   "metadata": {},
   "outputs": [],
   "source": [
    "%%capture\n",
    "\n",
    "import warnings\n",
    "warnings.filterwarnings('ignore')\n",
    "\n",
    "import calitp_data_analysis.magics\n",
    "\n",
    "# All your other packages go here\n",
    "# Here I just want pandas and my own utils.\n",
    "import pandas as pd\n",
    "import _starterkit_utils "
   ]
  },
  {
   "cell_type": "code",
   "execution_count": null,
   "id": "2a2996fd-29d0-4a19-ac48-a6957d9f8140",
   "metadata": {},
   "outputs": [],
   "source": [
    "pd.options.display.max_columns = 100\n",
    "pd.options.display.float_format = \"{:.2f}\".format\n",
    "pd.set_option(\"display.max_rows\", None)\n",
    "pd.set_option(\"display.max_colwidth\", None)"
   ]
  },
  {
   "cell_type": "code",
   "execution_count": null,
   "id": "5d82c9a8-6f8f-485b-ace5-957f1b80c2f3",
   "metadata": {
    "tags": [
     "parameters"
    ]
   },
   "outputs": [],
   "source": [
    "# district = 1"
   ]
  },
  {
   "cell_type": "code",
   "execution_count": null,
   "id": "43a07a8c-567d-471d-be10-a547cd0b3a13",
   "metadata": {},
   "outputs": [],
   "source": [
    "%%capture_parameters\n",
    "district"
   ]
  },
  {
   "cell_type": "markdown",
   "id": "cb5a0cc4-3e7e-4aea-81f2-c5e858fb315b",
   "metadata": {},
   "source": [
    "# District {district} Analysis "
   ]
  },
  {
   "cell_type": "code",
   "execution_count": null,
   "id": "c91049e1-107d-47d9-9cda-63aa4fbf554b",
   "metadata": {},
   "outputs": [],
   "source": [
    "df = _starterkit_utils.load_dataset()"
   ]
  },
  {
   "cell_type": "code",
   "execution_count": null,
   "id": "bd1509c0-b435-456e-ad1c-b583a991f1e2",
   "metadata": {},
   "outputs": [],
   "source": [
    "_starterkit_utils.create_district_summary(df, district)"
   ]
  }
 ],
 "metadata": {
  "kernelspec": {
   "display_name": "Python 3 (ipykernel)",
   "language": "python",
   "name": "python3"
  },
  "language_info": {
   "codemirror_mode": {
    "name": "ipython",
    "version": 3
   },
   "file_extension": ".py",
   "mimetype": "text/x-python",
   "name": "python",
   "nbconvert_exporter": "python",
   "pygments_lexer": "ipython3",
   "version": "3.9.13"
  }
 },
 "nbformat": 4,
 "nbformat_minor": 5
}
