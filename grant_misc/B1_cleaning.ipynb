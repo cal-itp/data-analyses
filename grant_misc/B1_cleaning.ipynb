{
 "cells": [
  {
   "cell_type": "markdown",
   "id": "581e214d-4637-4e33-9ccf-84c8f54c8eb3",
   "metadata": {},
   "source": [
    "# Grants Overview\n",
    "***\n",
    "* [Cleaning up and checking the data entered.](https://docs.google.com/spreadsheets/d/12pw6_2OSHKGksnLQlvwvo6P8VljzQ9pse7E9zGDSpg4/edit#gid=0)"
   ]
  },
  {
   "cell_type": "code",
   "execution_count": 1,
   "id": "f2c063c3-d86e-4028-88c7-5fb7baf70584",
   "metadata": {},
   "outputs": [],
   "source": [
    "import pandas as pd\n",
    "from calitp_data_analysis.sql import to_snakecase\n",
    "\n",
    "pd.options.display.max_columns = 100\n",
    "pd.options.display.max_rows = 100\n",
    "pd.set_option(\"display.max_colwidth\", None)"
   ]
  },
  {
   "cell_type": "code",
   "execution_count": 2,
   "id": "81bc7eb2-de23-4a16-9279-3690077c3595",
   "metadata": {},
   "outputs": [],
   "source": [
    "sheet_id = \"12pw6_2OSHKGksnLQlvwvo6P8VljzQ9pse7E9zGDSpg4\"\n",
    "sheet_name = \"current_grants\"\n",
    "url = f\"https://docs.google.com/spreadsheets/d/{sheet_id}/gviz/tq?tqx=out:csv&sheet={sheet_name}\"\n",
    "df = to_snakecase(pd.read_csv(url))"
   ]
  },
  {
   "cell_type": "code",
   "execution_count": 3,
   "id": "0cac35d7-dc45-49fc-b5b4-aa68051f8194",
   "metadata": {},
   "outputs": [],
   "source": [
    "# Delete unnecessary columns\n",
    "df = df.iloc[:, 1:26]"
   ]
  },
  {
   "cell_type": "code",
   "execution_count": 4,
   "id": "7055fff6-eebd-4970-a6b6-c56a575270e2",
   "metadata": {},
   "outputs": [],
   "source": [
    "# Fill in missing values for eligiblity that are null with 0\n",
    "eligiblity = [\n",
    "    \"eligibility:_transit\",\n",
    "    \"eligibility:_municipality\",\n",
    "    \"eligibility:_school_district\",\n",
    "    \"eligibility:_mpo\",\n",
    "    \"eligibility:_county_regional_govt__not_mpo\",\n",
    "    \"eligibility:_other_local_entity__non_municipality_\",\n",
    "    \"eligibility:_state_public_lands\",\n",
    "    \"eligibility:_federal_public_lands\",\n",
    "    \"eligibility:_tribal_government\",\n",
    "    \"eligibility:_non_profit\",\n",
    "    \"eligibility:_state_department_\",\n",
    "    \"eligibility:_for_profit_companies\",\n",
    "]\n",
    "\n",
    "df[eligiblity] = df[eligiblity].fillna(0)"
   ]
  },
  {
   "cell_type": "code",
   "execution_count": 5,
   "id": "7d1e5baf-521e-4f93-a8d1-5853c34bc081",
   "metadata": {},
   "outputs": [
    {
     "data": {
      "text/plain": [
       "39"
      ]
     },
     "execution_count": 5,
     "metadata": {},
     "output_type": "execute_result"
    }
   ],
   "source": [
    "# Make sure grant programs are unique\n",
    "df[\"grant_program\"].nunique()"
   ]
  },
  {
   "cell_type": "code",
   "execution_count": 6,
   "id": "2a2b86d6-e026-4514-9898-a7a393290a0e",
   "metadata": {},
   "outputs": [
    {
     "data": {
      "text/plain": [
       "39"
      ]
     },
     "execution_count": 6,
     "metadata": {},
     "output_type": "execute_result"
    }
   ],
   "source": [
    "# Make sure length of df matches unique programs\n",
    "len(df)"
   ]
  },
  {
   "cell_type": "code",
   "execution_count": 7,
   "id": "23a56d5c-00f5-4982-904c-17ed7a51b506",
   "metadata": {},
   "outputs": [
    {
     "data": {
      "text/plain": [
       "Capital Investment Grants - 5309                                                            1\n",
       "Prioritization Process Pilot Program                                                        1\n",
       "Statewide Transportation Planning                                                           1\n",
       "Urbanized Area Passenger Ferry Program                                                      1\n",
       "Pilot Program for Transit Oriented Development                                              1\n",
       "Public Transportation Technical Assistance and Workforce Development                        1\n",
       "Public Transportation on Indian Reservations Competitive                                    1\n",
       "National Rural Transportation Assistance Program\\r                                          1\n",
       "Pilot Program for Enhanced Mobility                                                         1\n",
       "Tribal Transportation Facility Bridges\\r\\n(Bridge Formula Funding Set-Aside)\\r              1\n",
       "Rail Vehicle Replacement Grants                                                             1\n",
       "Tribal Transportation Facility Bridge\\r\\n(Set-aside)\\r                                      1\n",
       "Grants for Planning, Feasibility Analysis, and\\nRevenue Forecasting                         1\n",
       "Strategic Innovation for Revenue Collection\\r\\n(Set-aside)                                  1\n",
       "Bus Exportable Power Systems                                                                1\n",
       "Enhancing Mobility Innovation                                                               1\n",
       "Public Transportation on Indian Reservations Program; Tribal Transit Competitive Program    1\n",
       "Areas of Persistent Poverty Program                                                         1\n",
       "Public Transportation on Indian Reservations Formula                                        1\n",
       "Bus and Bus Facilities Competitive Grants                                                   1\n",
       "5307 Urbanized Area Formula Grants                                                          1\n",
       "National Culvert Removal, Replacement, and Restoration Grant Program                        1\n",
       "Rural Transit & Intercity Bus  5311 & 5311f (already in Consolidated Application)           1\n",
       "Federal CMAQ (already in Consolidated Application)                                          1\n",
       "Low or No Emission Vehicle Program 5339 (already in Consolidated Application)               1\n",
       "Railroad Crossing Elimination Program                                                       1\n",
       "Ferry Programs: Electric or Low Emitting Ferry Program                                      1\n",
       "Reconnecting Communities Pilot Program                                                      1\n",
       "All Stations Accessibility Program                                                          1\n",
       "Consolidated Rail Infrastructure & Safety Improvements Grant Program                        1\n",
       "Tribal High Priority Projects Program                                                       1\n",
       "Local and Regional Project Assistance Grants (RAISE)                                        1\n",
       "National Infrastructure Project Assistance (Megaprojects)                                   1\n",
       "Tribal Transportation Program                                                               1\n",
       "Rural Surface Transportation Grant Program\\r                                                1\n",
       "Advanced Transportation Technologies & Innovative Mobility Deployment                       1\n",
       "Highway Research & Development Program                                                      1\n",
       "Congestion Relief Program                                                                   1\n",
       "Fixing America's Surface Transportation (FAST) ACT                                          1\n",
       "Name: grant_program, dtype: int64"
      ]
     },
     "execution_count": 7,
     "metadata": {},
     "output_type": "execute_result"
    }
   ],
   "source": [
    "# Make sure each grant only has one value\n",
    "df[\"grant_program\"].value_counts()"
   ]
  },
  {
   "cell_type": "code",
   "execution_count": 8,
   "id": "cb928f15-afb6-42b3-91ec-f353a4a55982",
   "metadata": {},
   "outputs": [
    {
     "data": {
      "text/html": [
       "<div>\n",
       "<style scoped>\n",
       "    .dataframe tbody tr th:only-of-type {\n",
       "        vertical-align: middle;\n",
       "    }\n",
       "\n",
       "    .dataframe tbody tr th {\n",
       "        vertical-align: top;\n",
       "    }\n",
       "\n",
       "    .dataframe thead th {\n",
       "        text-align: right;\n",
       "    }\n",
       "</style>\n",
       "<table border=\"1\" class=\"dataframe\">\n",
       "  <thead>\n",
       "    <tr style=\"text-align: right;\">\n",
       "      <th></th>\n",
       "      <th>division</th>\n",
       "      <th>grant_program</th>\n",
       "      <th>notice_of_funding</th>\n",
       "      <th>fy_due_date</th>\n",
       "      <th>weeks_to_apply__c_d_</th>\n",
       "      <th>fy_cycle</th>\n",
       "      <th>funding_amount_available</th>\n",
       "      <th>flags</th>\n",
       "      <th>agency_eligibility</th>\n",
       "      <th>grant_type</th>\n",
       "      <th>federal_or_state_funded</th>\n",
       "      <th>eligibility_restrictions</th>\n",
       "      <th>current__in_this_fy_2022__or_expired</th>\n",
       "      <th>eligibility:_transit</th>\n",
       "      <th>eligibility:_municipality</th>\n",
       "      <th>eligibility:_school_district</th>\n",
       "      <th>eligibility:_mpo</th>\n",
       "      <th>eligibility:_county_regional_govt__not_mpo</th>\n",
       "      <th>eligibility:_other_local_entity__non_municipality_</th>\n",
       "      <th>eligibility:_state_public_lands</th>\n",
       "      <th>eligibility:_federal_public_lands</th>\n",
       "      <th>eligibility:_tribal_government</th>\n",
       "      <th>eligibility:_non_profit</th>\n",
       "      <th>eligibility:_state_department_</th>\n",
       "      <th>eligibility:_for_profit_companies</th>\n",
       "    </tr>\n",
       "  </thead>\n",
       "  <tbody>\n",
       "    <tr>\n",
       "      <th>0</th>\n",
       "      <td>Caltrans - Unknown Division</td>\n",
       "      <td>Capital Investment Grants - 5309</td>\n",
       "      <td>Missing</td>\n",
       "      <td>Missing</td>\n",
       "      <td>Missing</td>\n",
       "      <td>1 Year</td>\n",
       "      <td>2300000000</td>\n",
       "      <td>Nationwide</td>\n",
       "      <td>Large Urban MPOs and Transit Agencies</td>\n",
       "      <td>Competitive</td>\n",
       "      <td>Federal</td>\n",
       "      <td>Missing</td>\n",
       "      <td>Current</td>\n",
       "      <td>1.0</td>\n",
       "      <td>0.0</td>\n",
       "      <td>0.0</td>\n",
       "      <td>1.0</td>\n",
       "      <td>0.0</td>\n",
       "      <td>0.0</td>\n",
       "      <td>0.0</td>\n",
       "      <td>0.0</td>\n",
       "      <td>0.0</td>\n",
       "      <td>0.0</td>\n",
       "      <td>0.0</td>\n",
       "      <td>0.0</td>\n",
       "    </tr>\n",
       "  </tbody>\n",
       "</table>\n",
       "</div>"
      ],
      "text/plain": [
       "                      division                     grant_program  \\\n",
       "0  Caltrans - Unknown Division  Capital Investment Grants - 5309   \n",
       "\n",
       "  notice_of_funding fy_due_date weeks_to_apply__c_d_ fy_cycle  \\\n",
       "0           Missing     Missing              Missing   1 Year   \n",
       "\n",
       "   funding_amount_available       flags  \\\n",
       "0                2300000000  Nationwide   \n",
       "\n",
       "                       agency_eligibility   grant_type  \\\n",
       "0   Large Urban MPOs and Transit Agencies  Competitive   \n",
       "\n",
       "  federal_or_state_funded eligibility_restrictions  \\\n",
       "0                 Federal                  Missing   \n",
       "\n",
       "  current__in_this_fy_2022__or_expired  eligibility:_transit  \\\n",
       "0                              Current                   1.0   \n",
       "\n",
       "   eligibility:_municipality  eligibility:_school_district  eligibility:_mpo  \\\n",
       "0                        0.0                           0.0               1.0   \n",
       "\n",
       "   eligibility:_county_regional_govt__not_mpo  \\\n",
       "0                                         0.0   \n",
       "\n",
       "   eligibility:_other_local_entity__non_municipality_  \\\n",
       "0                                                 0.0   \n",
       "\n",
       "   eligibility:_state_public_lands  eligibility:_federal_public_lands  \\\n",
       "0                              0.0                                0.0   \n",
       "\n",
       "   eligibility:_tribal_government  eligibility:_non_profit  \\\n",
       "0                             0.0                      0.0   \n",
       "\n",
       "   eligibility:_state_department_  eligibility:_for_profit_companies  \n",
       "0                             0.0                                0.0  "
      ]
     },
     "execution_count": 8,
     "metadata": {},
     "output_type": "execute_result"
    }
   ],
   "source": [
    "df.head(1)"
   ]
  },
  {
   "cell_type": "code",
   "execution_count": 9,
   "id": "de6ecb99-60ee-4eee-b049-7fac48c2d664",
   "metadata": {},
   "outputs": [
    {
     "data": {
      "text/plain": [
       "Index(['division', 'grant_program', 'notice_of_funding', 'fy_due_date',\n",
       "       'weeks_to_apply__c_d_', 'fy_cycle', 'funding_amount_available', 'flags',\n",
       "       'agency_eligibility', 'grant_type', 'federal_or_state_funded',\n",
       "       'eligibility_restrictions', 'current__in_this_fy_2022__or_expired',\n",
       "       'eligibility:_transit', 'eligibility:_municipality',\n",
       "       'eligibility:_school_district', 'eligibility:_mpo',\n",
       "       'eligibility:_county_regional_govt__not_mpo',\n",
       "       'eligibility:_other_local_entity__non_municipality_',\n",
       "       'eligibility:_state_public_lands', 'eligibility:_federal_public_lands',\n",
       "       'eligibility:_tribal_government', 'eligibility:_non_profit',\n",
       "       'eligibility:_state_department_', 'eligibility:_for_profit_companies'],\n",
       "      dtype='object')"
      ]
     },
     "execution_count": 9,
     "metadata": {},
     "output_type": "execute_result"
    }
   ],
   "source": [
    "df.columns"
   ]
  },
  {
   "cell_type": "code",
   "execution_count": 10,
   "id": "d0ca6ad0-516a-4321-b2b0-e82e2a458572",
   "metadata": {},
   "outputs": [
    {
     "name": "stdout",
     "output_type": "stream",
     "text": [
      "<class 'pandas.core.frame.DataFrame'>\n",
      "RangeIndex: 39 entries, 0 to 38\n",
      "Data columns (total 25 columns):\n",
      " #   Column                                              Non-Null Count  Dtype  \n",
      "---  ------                                              --------------  -----  \n",
      " 0   division                                            39 non-null     object \n",
      " 1   grant_program                                       39 non-null     object \n",
      " 2   notice_of_funding                                   39 non-null     object \n",
      " 3   fy_due_date                                         39 non-null     object \n",
      " 4   weeks_to_apply__c_d_                                39 non-null     object \n",
      " 5   fy_cycle                                            39 non-null     object \n",
      " 6   funding_amount_available                            39 non-null     int64  \n",
      " 7   flags                                               39 non-null     object \n",
      " 8   agency_eligibility                                  39 non-null     object \n",
      " 9   grant_type                                          39 non-null     object \n",
      " 10  federal_or_state_funded                             39 non-null     object \n",
      " 11  eligibility_restrictions                            39 non-null     object \n",
      " 12  current__in_this_fy_2022__or_expired                39 non-null     object \n",
      " 13  eligibility:_transit                                39 non-null     float64\n",
      " 14  eligibility:_municipality                           39 non-null     float64\n",
      " 15  eligibility:_school_district                        39 non-null     float64\n",
      " 16  eligibility:_mpo                                    39 non-null     float64\n",
      " 17  eligibility:_county_regional_govt__not_mpo          39 non-null     float64\n",
      " 18  eligibility:_other_local_entity__non_municipality_  39 non-null     float64\n",
      " 19  eligibility:_state_public_lands                     39 non-null     float64\n",
      " 20  eligibility:_federal_public_lands                   39 non-null     float64\n",
      " 21  eligibility:_tribal_government                      39 non-null     float64\n",
      " 22  eligibility:_non_profit                             39 non-null     float64\n",
      " 23  eligibility:_state_department_                      39 non-null     float64\n",
      " 24  eligibility:_for_profit_companies                   39 non-null     float64\n",
      "dtypes: float64(12), int64(1), object(12)\n",
      "memory usage: 7.7+ KB\n"
     ]
    }
   ],
   "source": [
    "df.info()"
   ]
  },
  {
   "cell_type": "markdown",
   "id": "7f63b1eb-0973-47b6-a1ab-2ed215dd7397",
   "metadata": {},
   "source": [
    "## Looking at value counts to ensure the entered data makes sense\n",
    "***"
   ]
  },
  {
   "cell_type": "code",
   "execution_count": 11,
   "id": "d9ffde0e-d2b2-495b-8f62-7d3f81af17ec",
   "metadata": {},
   "outputs": [],
   "source": [
    "value_count_cols = [\n",
    "    \"division\",\n",
    "    \"weeks_to_apply__c_d_\",\n",
    "    \"fy_cycle\",\n",
    "    \"grant_type\",\n",
    "    \"federal_or_state_funded\",\n",
    "    \"flags\",\n",
    "    \"notice_of_funding\",\n",
    "    \"fy_due_date\",\n",
    "]"
   ]
  },
  {
   "cell_type": "code",
   "execution_count": 12,
   "id": "97a10ce4-ae86-4233-84dd-4818413eb59a",
   "metadata": {
    "scrolled": true,
    "tags": []
   },
   "outputs": [
    {
     "name": "stdout",
     "output_type": "stream",
     "text": [
      "\n",
      "division\n",
      "Federal Transit Administration (DOT)     16\n",
      "Federal Highway Administration (DOT)     14\n",
      "DRMT                                      4\n",
      "US Department of Transportation (DOT)     3\n",
      "Caltrans - Unknown Division               1\n",
      "Federal Railroad Administration (DOT)     1\n",
      "Name: division, dtype: int64\n",
      "\n",
      "weeks_to_apply__c_d_\n",
      "Missing    29\n",
      "9           4\n",
      "8           3\n",
      "17          1\n",
      "11          1\n",
      "14          1\n",
      "Name: weeks_to_apply__c_d_, dtype: int64\n",
      "\n",
      "fy_cycle\n",
      "1 Year                                    13\n",
      "Available until expended                   5\n",
      "Period of Availability: 4 year\\r           3\n",
      "Year of Apportionment plus three years     3\n",
      "Period of Availability: 4 year             3\n",
      "Year of Apportionment plus two years\\r     2\n",
      "Available until expended\\r                 2\n",
      "Year of allocation plus two years          2\n",
      "One-time only                              2\n",
      "2 Years                                    1\n",
      "1 Year/Until Expended                      1\n",
      "Year of Allocation plus five years\\r       1\n",
      "4 year                                     1\n",
      "Name: fy_cycle, dtype: int64\n",
      "\n",
      "grant_type\n",
      "Competitive                                                    25\n",
      "Formula                                                         5\n",
      "Grant                                                           2\n",
      "Cooperative Agreement or Interagency Agreemen                   2\n",
      "Both                                                            1\n",
      "Competitive Grants, Cooperative Agreements, other contracts     1\n",
      "Distributed through the Tribal Transportation Program           1\n",
      "Grants, Cooperative Agreements, other contracts\\r               1\n",
      "Missing                                                         1\n",
      "Name: grant_type, dtype: int64\n",
      "\n",
      "federal_or_state_funded\n",
      "Federal    39\n",
      "Name: federal_or_state_funded, dtype: int64\n",
      "\n",
      "flags\n",
      "Nationwide    38\n",
      "No Flags       1\n",
      "Name: flags, dtype: int64\n",
      "\n",
      "notice_of_funding\n",
      "Missing                                                              13\n",
      "TBD                                                                   5\n",
      "March 1, 2022                                                         3\n",
      "1st Quarter of 2022                                                   2\n",
      "Formula funds are apportioned after appropriations are received.      2\n",
      "2nd Quarter of 2022                                                   2\n",
      "February 16, 2022                                                     1\n",
      "November 12, 2021                                                     1\n",
      "April 12, 2022                                                        1\n",
      "May 26, 2022                                                          1\n",
      "August 23, 2021                                                       1\n",
      "March 22, 2022                                                        1\n",
      "June 7, 2022                                                          1\n",
      "February 1, 2022                                                      1\n",
      "January 28, 2022                                                      1\n",
      "August 1, 2021                                                        1\n",
      "June 1, 2022                                                          1\n",
      "June 22, 2021                                                         1\n",
      "Name: notice_of_funding, dtype: int64\n",
      "\n",
      "fy_due_date\n",
      "Missing               27\n",
      "April 29, 2022         3\n",
      "June 30, 2022          1\n",
      "November 29, 2021      1\n",
      "April 14, 2022         1\n",
      "July 25, 2022          1\n",
      "June 13, 2022          1\n",
      "January 11, 2022       1\n",
      "May 25, 2022           1\n",
      "September 13, 2021     1\n",
      "August 23, 2021        1\n",
      "Name: fy_due_date, dtype: int64\n"
     ]
    }
   ],
   "source": [
    "# https://stackoverflow.com/questions/32589829/how-to-get-value-counts-for-multiple-columns-at-once-in-pandas-dataframe\n",
    "for column in df[value_count_cols]:\n",
    "    print(\"\\n\" + column)\n",
    "    print(df[column].value_counts())"
   ]
  },
  {
   "cell_type": "markdown",
   "id": "f939f4df-7dc1-42c8-8809-5da149a8c452",
   "metadata": {},
   "source": [
    "## Analyze how many grants available to organization types \n",
    "***"
   ]
  },
  {
   "cell_type": "code",
   "execution_count": 13,
   "id": "7e37100b-bd84-4ab6-8954-26a26d91acad",
   "metadata": {},
   "outputs": [],
   "source": [
    "# Subset dataframe for only eligibility cols\n",
    "eligibility = df[\n",
    "    [\n",
    "        \"eligibility:_transit\",\n",
    "        \"eligibility:_municipality\",\n",
    "        \"eligibility:_school_district\",\n",
    "        \"eligibility:_mpo\",\n",
    "        \"eligibility:_county_regional_govt__not_mpo\",\n",
    "        \"eligibility:_other_local_entity__non_municipality_\",\n",
    "        \"eligibility:_state_public_lands\",\n",
    "        \"eligibility:_federal_public_lands\",\n",
    "        \"eligibility:_tribal_government\",\n",
    "        \"eligibility:_non_profit\",\n",
    "        \"eligibility:_state_department_\",\n",
    "        \"eligibility:_for_profit_companies\",\n",
    "    ]\n",
    "]"
   ]
  },
  {
   "cell_type": "code",
   "execution_count": 14,
   "id": "8df1c7f6-5e65-451b-aa04-673aed954c51",
   "metadata": {},
   "outputs": [],
   "source": [
    "# Sum up the eligibility across\n",
    "# Clean up values by removing _ and below removing eligiblity: \n",
    "eligibility = (\n",
    "    df[eligiblity]\n",
    "    .sum()\n",
    "    .sort_values()\n",
    "    .to_frame()\n",
    "    .reset_index()\n",
    "    .rename(columns={\"index\": \"Entity\", 0: \"# of Grants\"})\n",
    "    .replace(r\"_\", \" \", regex=True)\n",
    ")"
   ]
  },
  {
   "cell_type": "code",
   "execution_count": 15,
   "id": "0d6c9778-7c98-4640-aaf0-b32179a02a5f",
   "metadata": {},
   "outputs": [],
   "source": [
    "eligibility[\"Entity\"] = (\n",
    "    eligibility[\"Entity\"].replace(r\"eligibility:\", \"\", regex=True).str.title()\n",
    ")"
   ]
  },
  {
   "cell_type": "code",
   "execution_count": 16,
   "id": "8b77bf33-9d0c-4a96-ade5-fca00914b375",
   "metadata": {},
   "outputs": [
    {
     "data": {
      "text/html": [
       "<style type=\"text/css\">\n",
       "#T_d758f th {\n",
       "  text-align: center;\n",
       "}\n",
       "#T_d758f_row0_col0, #T_d758f_row0_col1, #T_d758f_row1_col0, #T_d758f_row1_col1, #T_d758f_row2_col0, #T_d758f_row2_col1, #T_d758f_row3_col0, #T_d758f_row3_col1, #T_d758f_row4_col0, #T_d758f_row4_col1, #T_d758f_row5_col0, #T_d758f_row5_col1, #T_d758f_row6_col0, #T_d758f_row6_col1, #T_d758f_row7_col0, #T_d758f_row7_col1, #T_d758f_row8_col0, #T_d758f_row8_col1, #T_d758f_row9_col0, #T_d758f_row9_col1, #T_d758f_row10_col0, #T_d758f_row10_col1, #T_d758f_row11_col0, #T_d758f_row11_col1 {\n",
       "  background-color: white;\n",
       "  text-align: center;\n",
       "}\n",
       "</style>\n",
       "<table id=\"T_d758f\">\n",
       "  <thead>\n",
       "    <tr>\n",
       "      <th id=\"T_d758f_level0_col0\" class=\"col_heading level0 col0\" >Entity</th>\n",
       "      <th id=\"T_d758f_level0_col1\" class=\"col_heading level0 col1\" ># of Grants</th>\n",
       "    </tr>\n",
       "  </thead>\n",
       "  <tbody>\n",
       "    <tr>\n",
       "      <td id=\"T_d758f_row0_col0\" class=\"data row0 col0\" > School District</td>\n",
       "      <td id=\"T_d758f_row0_col1\" class=\"data row0 col1\" >0.000000</td>\n",
       "    </tr>\n",
       "    <tr>\n",
       "      <td id=\"T_d758f_row1_col0\" class=\"data row1 col0\" > Federal Public Lands</td>\n",
       "      <td id=\"T_d758f_row1_col1\" class=\"data row1 col1\" >0.000000</td>\n",
       "    </tr>\n",
       "    <tr>\n",
       "      <td id=\"T_d758f_row2_col0\" class=\"data row2 col0\" > For Profit Companies</td>\n",
       "      <td id=\"T_d758f_row2_col1\" class=\"data row2 col1\" >2.000000</td>\n",
       "    </tr>\n",
       "    <tr>\n",
       "      <td id=\"T_d758f_row3_col0\" class=\"data row3 col0\" > State Public Lands</td>\n",
       "      <td id=\"T_d758f_row3_col1\" class=\"data row3 col1\" >3.000000</td>\n",
       "    </tr>\n",
       "    <tr>\n",
       "      <td id=\"T_d758f_row4_col0\" class=\"data row4 col0\" > Non Profit</td>\n",
       "      <td id=\"T_d758f_row4_col1\" class=\"data row4 col1\" >9.000000</td>\n",
       "    </tr>\n",
       "    <tr>\n",
       "      <td id=\"T_d758f_row5_col0\" class=\"data row5 col0\" > Transit</td>\n",
       "      <td id=\"T_d758f_row5_col1\" class=\"data row5 col1\" >11.000000</td>\n",
       "    </tr>\n",
       "    <tr>\n",
       "      <td id=\"T_d758f_row6_col0\" class=\"data row6 col0\" > Other Local Entity  Non Municipality </td>\n",
       "      <td id=\"T_d758f_row6_col1\" class=\"data row6 col1\" >11.000000</td>\n",
       "    </tr>\n",
       "    <tr>\n",
       "      <td id=\"T_d758f_row7_col0\" class=\"data row7 col0\" > Mpo</td>\n",
       "      <td id=\"T_d758f_row7_col1\" class=\"data row7 col1\" >17.000000</td>\n",
       "    </tr>\n",
       "    <tr>\n",
       "      <td id=\"T_d758f_row8_col0\" class=\"data row8 col0\" > Municipality</td>\n",
       "      <td id=\"T_d758f_row8_col1\" class=\"data row8 col1\" >18.000000</td>\n",
       "    </tr>\n",
       "    <tr>\n",
       "      <td id=\"T_d758f_row9_col0\" class=\"data row9 col0\" > County Regional Govt  Not Mpo</td>\n",
       "      <td id=\"T_d758f_row9_col1\" class=\"data row9 col1\" >19.000000</td>\n",
       "    </tr>\n",
       "    <tr>\n",
       "      <td id=\"T_d758f_row10_col0\" class=\"data row10 col0\" > Tribal Government</td>\n",
       "      <td id=\"T_d758f_row10_col1\" class=\"data row10 col1\" >21.000000</td>\n",
       "    </tr>\n",
       "    <tr>\n",
       "      <td id=\"T_d758f_row11_col0\" class=\"data row11 col0\" > State Department </td>\n",
       "      <td id=\"T_d758f_row11_col1\" class=\"data row11 col1\" >24.000000</td>\n",
       "    </tr>\n",
       "  </tbody>\n",
       "</table>\n"
      ],
      "text/plain": [
       "<pandas.io.formats.style.Styler at 0x7f14ced78eb0>"
      ]
     },
     "execution_count": 16,
     "metadata": {},
     "output_type": "execute_result"
    }
   ],
   "source": [
    "eligibility.style.hide(axis=\"index\").set_properties(\n",
    "    **{\"background-color\": \"white\"}\n",
    ").set_table_styles(\n",
    "    [dict(selector=\"th\", props=[(\"text-align\", \"center\")])]\n",
    ").set_properties(\n",
    "    **{\"text-align\": \"center\"}\n",
    ")"
   ]
  },
  {
   "cell_type": "markdown",
   "id": "d563f734-b173-489d-a7f0-52b888509006",
   "metadata": {
    "tags": []
   },
   "source": [
    "## How much 'competition' for grants?\n",
    "***\n",
    "* Count number of eligible applicants per grant. \n"
   ]
  },
  {
   "cell_type": "code",
   "execution_count": 17,
   "id": "fdb80bd6-bb8c-4857-8e39-c76e67323f78",
   "metadata": {},
   "outputs": [],
   "source": [
    "# Subset dataframe\n",
    "df_elgibility = df[\n",
    "    [\n",
    "        \"grant_program\",\n",
    "        \"eligibility:_transit\",\n",
    "        \"eligibility:_municipality\",\n",
    "        \"eligibility:_school_district\",\n",
    "        \"eligibility:_mpo\",\n",
    "        \"eligibility:_county_regional_govt__not_mpo\",\n",
    "        \"eligibility:_other_local_entity__non_municipality_\",\n",
    "        \"eligibility:_state_public_lands\",\n",
    "        \"eligibility:_federal_public_lands\",\n",
    "        \"eligibility:_tribal_government\",\n",
    "        \"eligibility:_non_profit\",\n",
    "        \"eligibility:_state_department_\",\n",
    "        \"eligibility:_for_profit_companies\",\n",
    "    ]\n",
    "]"
   ]
  },
  {
   "cell_type": "code",
   "execution_count": 18,
   "id": "1a5be763-e74e-46ae-a851-dad465dc1a68",
   "metadata": {
    "tags": []
   },
   "outputs": [
    {
     "name": "stderr",
     "output_type": "stream",
     "text": [
      "/tmp/ipykernel_1165/2144797439.py:2: SettingWithCopyWarning: \n",
      "A value is trying to be set on a copy of a slice from a DataFrame.\n",
      "Try using .loc[row_indexer,col_indexer] = value instead\n",
      "\n",
      "See the caveats in the documentation: https://pandas.pydata.org/pandas-docs/stable/user_guide/indexing.html#returning-a-view-versus-a-copy\n",
      "  df_elgibility[\"total_eligible_applicants\"] = df_elgibility.iloc[:, 1:13].sum(axis=1)\n"
     ]
    }
   ],
   "source": [
    "# Sum up eligibility\n",
    "df_elgibility[\"total_eligible_applicants\"] = df_elgibility.iloc[:, 1:13].sum(axis=1)\n",
    "\n",
    "# Drop old columns to simplify dataframe\n",
    "df_elgibility = df_elgibility[[\"grant_program\", \"total_eligible_applicants\"]]"
   ]
  },
  {
   "cell_type": "code",
   "execution_count": 19,
   "id": "36add810-ccf9-4280-8fd4-5af65af580ac",
   "metadata": {
    "tags": []
   },
   "outputs": [
    {
     "data": {
      "text/html": [
       "<div>\n",
       "<style scoped>\n",
       "    .dataframe tbody tr th:only-of-type {\n",
       "        vertical-align: middle;\n",
       "    }\n",
       "\n",
       "    .dataframe tbody tr th {\n",
       "        vertical-align: top;\n",
       "    }\n",
       "\n",
       "    .dataframe thead th {\n",
       "        text-align: right;\n",
       "    }\n",
       "</style>\n",
       "<table border=\"1\" class=\"dataframe\">\n",
       "  <thead>\n",
       "    <tr style=\"text-align: right;\">\n",
       "      <th></th>\n",
       "      <th>grant_program</th>\n",
       "      <th>total_eligible_applicants</th>\n",
       "    </tr>\n",
       "  </thead>\n",
       "  <tbody>\n",
       "    <tr>\n",
       "      <th>3</th>\n",
       "      <td>Federal CMAQ (already in Consolidated Application)</td>\n",
       "      <td>3.0</td>\n",
       "    </tr>\n",
       "    <tr>\n",
       "      <th>19</th>\n",
       "      <td>Bus and Bus Facilities Competitive Grants</td>\n",
       "      <td>5.0</td>\n",
       "    </tr>\n",
       "    <tr>\n",
       "      <th>6</th>\n",
       "      <td>Ferry Programs: Electric or Low Emitting Ferry Program</td>\n",
       "      <td>0.0</td>\n",
       "    </tr>\n",
       "  </tbody>\n",
       "</table>\n",
       "</div>"
      ],
      "text/plain": [
       "                                             grant_program  \\\n",
       "3       Federal CMAQ (already in Consolidated Application)   \n",
       "19               Bus and Bus Facilities Competitive Grants   \n",
       "6   Ferry Programs: Electric or Low Emitting Ferry Program   \n",
       "\n",
       "    total_eligible_applicants  \n",
       "3                         3.0  \n",
       "19                        5.0  \n",
       "6                         0.0  "
      ]
     },
     "execution_count": 19,
     "metadata": {},
     "output_type": "execute_result"
    }
   ],
   "source": [
    "df_elgibility.sample(3)"
   ]
  },
  {
   "cell_type": "code",
   "execution_count": 20,
   "id": "2ed89105-0694-4e35-bb22-5ea096fcf7d9",
   "metadata": {},
   "outputs": [
    {
     "data": {
      "text/plain": [
       "1.0     10\n",
       "5.0      9\n",
       "2.0      6\n",
       "6.0      4\n",
       "3.0      3\n",
       "0.0      2\n",
       "4.0      2\n",
       "10.0     2\n",
       "7.0      1\n",
       "Name: total_eligible_applicants, dtype: int64"
      ]
     },
     "execution_count": 20,
     "metadata": {},
     "output_type": "execute_result"
    }
   ],
   "source": [
    "df_elgibility[\"total_eligible_applicants\"].value_counts()"
   ]
  },
  {
   "cell_type": "code",
   "execution_count": 21,
   "id": "22f37c6b-93a5-40fa-b46a-90efa8281033",
   "metadata": {},
   "outputs": [
    {
     "data": {
      "text/plain": [
       "3.0"
      ]
     },
     "execution_count": 21,
     "metadata": {},
     "output_type": "execute_result"
    }
   ],
   "source": [
    "df_elgibility[\"total_eligible_applicants\"].median()"
   ]
  },
  {
   "cell_type": "markdown",
   "id": "aa1bb3e7-7311-4349-b2f7-de4230b6d465",
   "metadata": {},
   "source": [
    "## Sums\n",
    "***"
   ]
  },
  {
   "cell_type": "code",
   "execution_count": 22,
   "id": "a712c01d-0abc-4c4c-bb37-dd06f1dbbc1a",
   "metadata": {},
   "outputs": [
    {
     "data": {
      "text/plain": [
       "28424926921"
      ]
     },
     "execution_count": 22,
     "metadata": {},
     "output_type": "execute_result"
    }
   ],
   "source": [
    "df[\"funding_amount_available\"].sum()"
   ]
  },
  {
   "cell_type": "code",
   "execution_count": 23,
   "id": "5341ff13-95f7-446c-a55f-f35d0185c930",
   "metadata": {},
   "outputs": [],
   "source": [
    "sum_df = df.groupby(\n",
    "    [\n",
    "        \"division\",\n",
    "        \"flags\",\n",
    "    ]\n",
    ").agg({\"funding_amount_available\": \"sum\"})"
   ]
  },
  {
   "cell_type": "code",
   "execution_count": 24,
   "id": "9b2f0380-8532-49a2-abd0-a110977af5a3",
   "metadata": {},
   "outputs": [],
   "source": [
    "sum_df[\"funding_amount_available\"] = (\n",
    "    \"$\"\n",
    "    + (sum_df[\"funding_amount_available\"].astype(float) / 1000000000)\n",
    "    .round()\n",
    "    .astype(str)\n",
    "    + \"B\"\n",
    ")"
   ]
  },
  {
   "cell_type": "code",
   "execution_count": 25,
   "id": "b5363dca-d669-4a06-b1d2-3d8f72f5d8fd",
   "metadata": {},
   "outputs": [
    {
     "data": {
      "text/html": [
       "<div>\n",
       "<style scoped>\n",
       "    .dataframe tbody tr th:only-of-type {\n",
       "        vertical-align: middle;\n",
       "    }\n",
       "\n",
       "    .dataframe tbody tr th {\n",
       "        vertical-align: top;\n",
       "    }\n",
       "\n",
       "    .dataframe thead th {\n",
       "        text-align: right;\n",
       "    }\n",
       "</style>\n",
       "<table border=\"1\" class=\"dataframe\">\n",
       "  <thead>\n",
       "    <tr style=\"text-align: right;\">\n",
       "      <th></th>\n",
       "      <th></th>\n",
       "      <th>funding_amount_available</th>\n",
       "    </tr>\n",
       "    <tr>\n",
       "      <th>division</th>\n",
       "      <th>flags</th>\n",
       "      <th></th>\n",
       "    </tr>\n",
       "  </thead>\n",
       "  <tbody>\n",
       "    <tr>\n",
       "      <th>Caltrans - Unknown Division</th>\n",
       "      <th>Nationwide</th>\n",
       "      <td>$2.0B</td>\n",
       "    </tr>\n",
       "    <tr>\n",
       "      <th>DRMT</th>\n",
       "      <th>Nationwide</th>\n",
       "      <td>$9.0B</td>\n",
       "    </tr>\n",
       "    <tr>\n",
       "      <th rowspan=\"2\" valign=\"top\">Federal Highway Administration (DOT)</th>\n",
       "      <th>Nationwide</th>\n",
       "      <td>$4.0B</td>\n",
       "    </tr>\n",
       "    <tr>\n",
       "      <th>No Flags</th>\n",
       "      <td>$0.0B</td>\n",
       "    </tr>\n",
       "    <tr>\n",
       "      <th>Federal Railroad Administration (DOT)</th>\n",
       "      <th>Nationwide</th>\n",
       "      <td>$1.0B</td>\n",
       "    </tr>\n",
       "    <tr>\n",
       "      <th>Federal Transit Administration (DOT)</th>\n",
       "      <th>Nationwide</th>\n",
       "      <td>$6.0B</td>\n",
       "    </tr>\n",
       "    <tr>\n",
       "      <th>US Department of Transportation (DOT)</th>\n",
       "      <th>Nationwide</th>\n",
       "      <td>$7.0B</td>\n",
       "    </tr>\n",
       "  </tbody>\n",
       "</table>\n",
       "</div>"
      ],
      "text/plain": [
       "                                                 funding_amount_available\n",
       "division                              flags                              \n",
       "Caltrans - Unknown Division           Nationwide                    $2.0B\n",
       "DRMT                                  Nationwide                    $9.0B\n",
       "Federal Highway Administration (DOT)  Nationwide                    $4.0B\n",
       "                                      No Flags                      $0.0B\n",
       "Federal Railroad Administration (DOT) Nationwide                    $1.0B\n",
       "Federal Transit Administration (DOT)  Nationwide                    $6.0B\n",
       "US Department of Transportation (DOT) Nationwide                    $7.0B"
      ]
     },
     "execution_count": 25,
     "metadata": {},
     "output_type": "execute_result"
    }
   ],
   "source": [
    "sum_df"
   ]
  },
  {
   "cell_type": "code",
   "execution_count": 26,
   "id": "d8dabe52-f8f3-4378-894e-7079ec1d77cb",
   "metadata": {},
   "outputs": [],
   "source": [
    "fed_state = df.groupby(\"federal_or_state_funded\").agg(\n",
    "    {\"funding_amount_available\": \"sum\"}\n",
    ")\n",
    "fed_state[\"funding_amount_available\"] = (\n",
    "    \"$\"\n",
    "    + (fed_state[\"funding_amount_available\"].astype(float) / 1000000000)\n",
    "    .round()\n",
    "    .astype(str)\n",
    "    + \"B\"\n",
    ")"
   ]
  },
  {
   "cell_type": "code",
   "execution_count": 27,
   "id": "d0a57066-9508-45e6-b45c-47db4d7debd2",
   "metadata": {},
   "outputs": [
    {
     "data": {
      "text/html": [
       "<div>\n",
       "<style scoped>\n",
       "    .dataframe tbody tr th:only-of-type {\n",
       "        vertical-align: middle;\n",
       "    }\n",
       "\n",
       "    .dataframe tbody tr th {\n",
       "        vertical-align: top;\n",
       "    }\n",
       "\n",
       "    .dataframe thead th {\n",
       "        text-align: right;\n",
       "    }\n",
       "</style>\n",
       "<table border=\"1\" class=\"dataframe\">\n",
       "  <thead>\n",
       "    <tr style=\"text-align: right;\">\n",
       "      <th></th>\n",
       "      <th>funding_amount_available</th>\n",
       "    </tr>\n",
       "    <tr>\n",
       "      <th>federal_or_state_funded</th>\n",
       "      <th></th>\n",
       "    </tr>\n",
       "  </thead>\n",
       "  <tbody>\n",
       "    <tr>\n",
       "      <th>Federal</th>\n",
       "      <td>$28.0B</td>\n",
       "    </tr>\n",
       "  </tbody>\n",
       "</table>\n",
       "</div>"
      ],
      "text/plain": [
       "                        funding_amount_available\n",
       "federal_or_state_funded                         \n",
       "Federal                                   $28.0B"
      ]
     },
     "execution_count": 27,
     "metadata": {},
     "output_type": "execute_result"
    }
   ],
   "source": [
    "fed_state"
   ]
  },
  {
   "cell_type": "markdown",
   "id": "93dabd92-8d71-433b-92c4-57fbc24f819d",
   "metadata": {},
   "source": [
    "## NOFO/Open Date and Due Dates\n"
   ]
  },
  {
   "cell_type": "code",
   "execution_count": 28,
   "id": "824db3a0-94cf-4f40-8004-5640f7704f47",
   "metadata": {},
   "outputs": [],
   "source": [
    "# New subsetted df that excludes any missing and rolling dates\n",
    "populated_dates = df[\n",
    "    (df[\"notice_of_funding\"] != \"Missing\")\n",
    "    & (df[\"fy_due_date\"] != \"Missing\")\n",
    "    & (df[\"fy_due_date\"] != \"Rolling\")\n",
    "]"
   ]
  },
  {
   "cell_type": "code",
   "execution_count": 29,
   "id": "282020a0-cf19-4c12-82b7-4174756bf5d8",
   "metadata": {},
   "outputs": [
    {
     "data": {
      "text/plain": [
       "'Only 10 or  0.2564102564102564  rows have a complete date information'"
      ]
     },
     "execution_count": 29,
     "metadata": {},
     "output_type": "execute_result"
    }
   ],
   "source": [
    "f\"Only {len(populated_dates)} or  {(len(populated_dates)/len(df))}  rows have a complete date information\""
   ]
  },
  {
   "cell_type": "code",
   "execution_count": 30,
   "id": "8118dc64-2d78-491c-ad74-b30fb4923727",
   "metadata": {
    "scrolled": true,
    "tags": []
   },
   "outputs": [],
   "source": [
    "populated_dates = populated_dates[\n",
    "    [\n",
    "        \"division\",\n",
    "        \"grant_program\",\n",
    "        \"notice_of_funding\",\n",
    "        \"fy_due_date\",\n",
    "        \"weeks_to_apply__c_d_\",\n",
    "    ]\n",
    "]"
   ]
  },
  {
   "cell_type": "code",
   "execution_count": 31,
   "id": "6d9e18e2-7775-47c9-b10d-a2d84414b273",
   "metadata": {
    "scrolled": true,
    "tags": []
   },
   "outputs": [
    {
     "data": {
      "text/html": [
       "<div>\n",
       "<style scoped>\n",
       "    .dataframe tbody tr th:only-of-type {\n",
       "        vertical-align: middle;\n",
       "    }\n",
       "\n",
       "    .dataframe tbody tr th {\n",
       "        vertical-align: top;\n",
       "    }\n",
       "\n",
       "    .dataframe thead th {\n",
       "        text-align: right;\n",
       "    }\n",
       "</style>\n",
       "<table border=\"1\" class=\"dataframe\">\n",
       "  <thead>\n",
       "    <tr style=\"text-align: right;\">\n",
       "      <th></th>\n",
       "      <th>division</th>\n",
       "      <th>grant_program</th>\n",
       "      <th>notice_of_funding</th>\n",
       "      <th>fy_due_date</th>\n",
       "      <th>weeks_to_apply__c_d_</th>\n",
       "    </tr>\n",
       "  </thead>\n",
       "  <tbody>\n",
       "    <tr>\n",
       "      <th>11</th>\n",
       "      <td>US Department of Transportation (DOT)</td>\n",
       "      <td>Local and Regional Project Assistance Grants (RAISE)</td>\n",
       "      <td>January 28, 2022</td>\n",
       "      <td>April 14, 2022</td>\n",
       "      <td>11</td>\n",
       "    </tr>\n",
       "    <tr>\n",
       "      <th>36</th>\n",
       "      <td>Federal Transit Administration (DOT)</td>\n",
       "      <td>Public Transportation on Indian Reservations Program; Tribal Transit Competitive Program</td>\n",
       "      <td>February 16, 2022</td>\n",
       "      <td>May 25, 2022</td>\n",
       "      <td>14</td>\n",
       "    </tr>\n",
       "    <tr>\n",
       "      <th>10</th>\n",
       "      <td>Federal Railroad Administration (DOT)</td>\n",
       "      <td>Consolidated Rail Infrastructure &amp; Safety Improvements Grant Program</td>\n",
       "      <td>August 1, 2021</td>\n",
       "      <td>November 29, 2021</td>\n",
       "      <td>17</td>\n",
       "    </tr>\n",
       "    <tr>\n",
       "      <th>2</th>\n",
       "      <td>DRMT</td>\n",
       "      <td>Rural Transit &amp; Intercity Bus  5311 &amp; 5311f (already in Consolidated Application)</td>\n",
       "      <td>March 1, 2022</td>\n",
       "      <td>April 29, 2022</td>\n",
       "      <td>8</td>\n",
       "    </tr>\n",
       "    <tr>\n",
       "      <th>3</th>\n",
       "      <td>DRMT</td>\n",
       "      <td>Federal CMAQ (already in Consolidated Application)</td>\n",
       "      <td>March 1, 2022</td>\n",
       "      <td>April 29, 2022</td>\n",
       "      <td>8</td>\n",
       "    </tr>\n",
       "    <tr>\n",
       "      <th>4</th>\n",
       "      <td>DRMT</td>\n",
       "      <td>Low or No Emission Vehicle Program 5339 (already in Consolidated Application)</td>\n",
       "      <td>March 1, 2022</td>\n",
       "      <td>April 29, 2022</td>\n",
       "      <td>8</td>\n",
       "    </tr>\n",
       "    <tr>\n",
       "      <th>24</th>\n",
       "      <td>Federal Transit Administration (DOT)</td>\n",
       "      <td>Pilot Program for Transit Oriented Development</td>\n",
       "      <td>May 26, 2022</td>\n",
       "      <td>July 25, 2022</td>\n",
       "      <td>9</td>\n",
       "    </tr>\n",
       "    <tr>\n",
       "      <th>34</th>\n",
       "      <td>Federal Transit Administration (DOT)</td>\n",
       "      <td>Bus Exportable Power Systems</td>\n",
       "      <td>April 12, 2022</td>\n",
       "      <td>June 13, 2022</td>\n",
       "      <td>9</td>\n",
       "    </tr>\n",
       "    <tr>\n",
       "      <th>35</th>\n",
       "      <td>Federal Transit Administration (DOT)</td>\n",
       "      <td>Enhancing Mobility Innovation</td>\n",
       "      <td>November 12, 2021</td>\n",
       "      <td>January 11, 2022</td>\n",
       "      <td>9</td>\n",
       "    </tr>\n",
       "    <tr>\n",
       "      <th>38</th>\n",
       "      <td>Federal Highway Administration (DOT)</td>\n",
       "      <td>Fixing America's Surface Transportation (FAST) ACT</td>\n",
       "      <td>June 22, 2021</td>\n",
       "      <td>August 23, 2021</td>\n",
       "      <td>9</td>\n",
       "    </tr>\n",
       "  </tbody>\n",
       "</table>\n",
       "</div>"
      ],
      "text/plain": [
       "                                 division  \\\n",
       "11  US Department of Transportation (DOT)   \n",
       "36   Federal Transit Administration (DOT)   \n",
       "10  Federal Railroad Administration (DOT)   \n",
       "2                                    DRMT   \n",
       "3                                    DRMT   \n",
       "4                                    DRMT   \n",
       "24   Federal Transit Administration (DOT)   \n",
       "34   Federal Transit Administration (DOT)   \n",
       "35   Federal Transit Administration (DOT)   \n",
       "38   Federal Highway Administration (DOT)   \n",
       "\n",
       "                                                                               grant_program  \\\n",
       "11                                      Local and Regional Project Assistance Grants (RAISE)   \n",
       "36  Public Transportation on Indian Reservations Program; Tribal Transit Competitive Program   \n",
       "10                      Consolidated Rail Infrastructure & Safety Improvements Grant Program   \n",
       "2          Rural Transit & Intercity Bus  5311 & 5311f (already in Consolidated Application)   \n",
       "3                                         Federal CMAQ (already in Consolidated Application)   \n",
       "4             Low or No Emission Vehicle Program 5339 (already in Consolidated Application)    \n",
       "24                                            Pilot Program for Transit Oriented Development   \n",
       "34                                                              Bus Exportable Power Systems   \n",
       "35                                                             Enhancing Mobility Innovation   \n",
       "38                                        Fixing America's Surface Transportation (FAST) ACT   \n",
       "\n",
       "    notice_of_funding        fy_due_date weeks_to_apply__c_d_  \n",
       "11   January 28, 2022     April 14, 2022                   11  \n",
       "36  February 16, 2022       May 25, 2022                   14  \n",
       "10     August 1, 2021  November 29, 2021                   17  \n",
       "2       March 1, 2022     April 29, 2022                    8  \n",
       "3       March 1, 2022     April 29, 2022                    8  \n",
       "4       March 1, 2022     April 29, 2022                    8  \n",
       "24       May 26, 2022      July 25, 2022                    9  \n",
       "34     April 12, 2022      June 13, 2022                    9  \n",
       "35  November 12, 2021   January 11, 2022                    9  \n",
       "38      June 22, 2021    August 23, 2021                    9  "
      ]
     },
     "execution_count": 31,
     "metadata": {},
     "output_type": "execute_result"
    }
   ],
   "source": [
    "populated_dates.sort_values(\"weeks_to_apply__c_d_\")"
   ]
  },
  {
   "cell_type": "code",
   "execution_count": 32,
   "id": "730a727a-506c-492c-a390-2c658c8e9a6c",
   "metadata": {
    "tags": []
   },
   "outputs": [
    {
     "data": {
      "text/plain": [
       "9     4\n",
       "8     3\n",
       "17    1\n",
       "11    1\n",
       "14    1\n",
       "Name: weeks_to_apply__c_d_, dtype: int64"
      ]
     },
     "execution_count": 32,
     "metadata": {},
     "output_type": "execute_result"
    }
   ],
   "source": [
    "populated_dates[\"weeks_to_apply__c_d_\"].value_counts()"
   ]
  },
  {
   "cell_type": "code",
   "execution_count": 33,
   "id": "4acefd3f-f0be-442e-84ce-7c47fc7c033b",
   "metadata": {},
   "outputs": [
    {
     "data": {
      "text/plain": [
       "9.0"
      ]
     },
     "execution_count": 33,
     "metadata": {},
     "output_type": "execute_result"
    }
   ],
   "source": [
    "populated_dates[\"weeks_to_apply__c_d_\"].median()"
   ]
  }
 ],
 "metadata": {
  "kernelspec": {
   "display_name": "Python 3 (ipykernel)",
   "language": "python",
   "name": "python3"
  },
  "language_info": {
   "codemirror_mode": {
    "name": "ipython",
    "version": 3
   },
   "file_extension": ".py",
   "mimetype": "text/x-python",
   "name": "python",
   "nbconvert_exporter": "python",
   "pygments_lexer": "ipython3",
   "version": "3.9.13"
  }
 },
 "nbformat": 4,
 "nbformat_minor": 5
}
