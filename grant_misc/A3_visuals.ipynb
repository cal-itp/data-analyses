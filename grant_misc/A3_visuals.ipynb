{
 "cells": [
  {
   "cell_type": "markdown",
   "id": "ba6bf00e-6be6-4c7e-b50f-2f298fa67c04",
   "metadata": {},
   "source": [
    "## Visuals"
   ]
  },
  {
   "cell_type": "code",
   "execution_count": 49,
   "id": "8374efac-7914-4869-96c2-442663e0292c",
   "metadata": {},
   "outputs": [],
   "source": [
    "import altair as alt\n",
    "import altair_saver\n",
    "import pandas as pd\n",
    "import shared_utils\n",
    "from calitp import *\n",
    "from shared_utils import altair_utils\n",
    "from shared_utils import styleguide"
   ]
  },
  {
   "cell_type": "code",
   "execution_count": 50,
   "id": "3aa5ec7f-0320-45b7-8009-67ae8042a4c2",
   "metadata": {},
   "outputs": [],
   "source": [
    "parquet = pd.read_parquet(\n",
    "    \"gs://calitp-analytics-data/data-analyses/grant_misc/BlackCat_TIRCP_DLA.parquet\",\n",
    "    engine=\"auto\",\n",
    ")"
   ]
  },
  {
   "cell_type": "code",
   "execution_count": 51,
   "id": "18033925-2de7-4339-83a3-9d93dace30c3",
   "metadata": {},
   "outputs": [
    {
     "data": {
      "text/html": [
       "<div>\n",
       "<style scoped>\n",
       "    .dataframe tbody tr th:only-of-type {\n",
       "        vertical-align: middle;\n",
       "    }\n",
       "\n",
       "    .dataframe tbody tr th {\n",
       "        vertical-align: top;\n",
       "    }\n",
       "\n",
       "    .dataframe thead th {\n",
       "        text-align: right;\n",
       "    }\n",
       "</style>\n",
       "<table border=\"1\" class=\"dataframe\">\n",
       "  <thead>\n",
       "    <tr style=\"text-align: right;\">\n",
       "      <th></th>\n",
       "      <th>locode</th>\n",
       "      <th>name</th>\n",
       "      <th>BC_TIRCP_DLA_merge</th>\n",
       "    </tr>\n",
       "  </thead>\n",
       "  <tbody>\n",
       "    <tr>\n",
       "      <th>0</th>\n",
       "      <td>6302.0</td>\n",
       "      <td>Humboldt Bay Harbor Recreation &amp; Conservation ...</td>\n",
       "      <td>DLA Only</td>\n",
       "    </tr>\n",
       "    <tr>\n",
       "      <th>1</th>\n",
       "      <td>6330.0</td>\n",
       "      <td>Willow Creek Community Services District</td>\n",
       "      <td>DLA Only</td>\n",
       "    </tr>\n",
       "    <tr>\n",
       "      <th>2</th>\n",
       "      <td>5036.0</td>\n",
       "      <td>Trinidad</td>\n",
       "      <td>DLA Only</td>\n",
       "    </tr>\n",
       "    <tr>\n",
       "      <th>3</th>\n",
       "      <td>5049.0</td>\n",
       "      <td>Ukiah</td>\n",
       "      <td>DLA Only</td>\n",
       "    </tr>\n",
       "    <tr>\n",
       "      <th>4</th>\n",
       "      <td>5082.0</td>\n",
       "      <td>Willits</td>\n",
       "      <td>DLA Only</td>\n",
       "    </tr>\n",
       "  </tbody>\n",
       "</table>\n",
       "</div>"
      ],
      "text/plain": [
       "   locode                                               name  \\\n",
       "0  6302.0  Humboldt Bay Harbor Recreation & Conservation ...   \n",
       "1  6330.0           Willow Creek Community Services District   \n",
       "2  5036.0                                           Trinidad   \n",
       "3  5049.0                                              Ukiah   \n",
       "4  5082.0                                            Willits   \n",
       "\n",
       "  BC_TIRCP_DLA_merge  \n",
       "0           DLA Only  \n",
       "1           DLA Only  \n",
       "2           DLA Only  \n",
       "3           DLA Only  \n",
       "4           DLA Only  "
      ]
     },
     "execution_count": 51,
     "metadata": {},
     "output_type": "execute_result"
    }
   ],
   "source": [
    "parquet.head()"
   ]
  },
  {
   "cell_type": "code",
   "execution_count": 52,
   "id": "e48491e3-fe05-4179-afe9-74120793d233",
   "metadata": {},
   "outputs": [],
   "source": [
    "#Aggregating\n",
    "agg = (\n",
    "    parquet.drop_duplicates()\n",
    "    .groupby([\"BC_TIRCP_DLA_merge\", \"name\"])\n",
    "    .agg({\"locode\": \"max\"})\n",
    "    .drop( columns = ['locode']) \n",
    ")"
   ]
  },
  {
   "cell_type": "code",
   "execution_count": 53,
   "id": "78c26470-987a-4332-aa70-a91bc895da89",
   "metadata": {},
   "outputs": [
    {
     "data": {
      "text/html": [
       "<div>\n",
       "<style scoped>\n",
       "    .dataframe tbody tr th:only-of-type {\n",
       "        vertical-align: middle;\n",
       "    }\n",
       "\n",
       "    .dataframe tbody tr th {\n",
       "        vertical-align: top;\n",
       "    }\n",
       "\n",
       "    .dataframe thead th {\n",
       "        text-align: right;\n",
       "    }\n",
       "</style>\n",
       "<table border=\"1\" class=\"dataframe\">\n",
       "  <thead>\n",
       "    <tr style=\"text-align: right;\">\n",
       "      <th></th>\n",
       "      <th></th>\n",
       "    </tr>\n",
       "    <tr>\n",
       "      <th>BC_TIRCP_DLA_merge</th>\n",
       "      <th>name</th>\n",
       "    </tr>\n",
       "  </thead>\n",
       "  <tbody>\n",
       "    <tr>\n",
       "      <th rowspan=\"5\" valign=\"top\">BlackCat Only</th>\n",
       "      <th>ARC Bakersfield</th>\n",
       "    </tr>\n",
       "    <tr>\n",
       "      <th>ARC Imperial Valley</th>\n",
       "    </tr>\n",
       "    <tr>\n",
       "      <th>Able Industries</th>\n",
       "    </tr>\n",
       "    <tr>\n",
       "      <th>Alegria Community Living</th>\n",
       "    </tr>\n",
       "    <tr>\n",
       "      <th>Alpine County Community Development</th>\n",
       "    </tr>\n",
       "    <tr>\n",
       "      <th>...</th>\n",
       "      <th>...</th>\n",
       "    </tr>\n",
       "    <tr>\n",
       "      <th rowspan=\"5\" valign=\"top\">TIRCP_Only</th>\n",
       "      <th>Santa Monica Big Blue Bus</th>\n",
       "    </tr>\n",
       "    <tr>\n",
       "      <th>Sonoma-Marin Area Rail Transit District</th>\n",
       "    </tr>\n",
       "    <tr>\n",
       "      <th>Southern California  Regional Rail Authority</th>\n",
       "    </tr>\n",
       "    <tr>\n",
       "      <th>Torrance Transit Department</th>\n",
       "    </tr>\n",
       "    <tr>\n",
       "      <th>Transit Joint Powers Authority of Merced County</th>\n",
       "    </tr>\n",
       "  </tbody>\n",
       "</table>\n",
       "<p>1217 rows × 0 columns</p>\n",
       "</div>"
      ],
      "text/plain": [
       "Empty DataFrame\n",
       "Columns: []\n",
       "Index: [(BlackCat Only, ARC Bakersfield), (BlackCat Only, ARC Imperial Valley), (BlackCat Only, Able Industries), (BlackCat Only, Alegria Community Living), (BlackCat Only, Alpine County Community Development), (BlackCat Only, Amador Transit), (BlackCat Only, Angel View, Inc.), (BlackCat Only, Area 1 Agency on Aging), (BlackCat Only, Asian Community Center of Sacramento Valley, Inc. DBA ACC Senior Services), (BlackCat Only, Avenidas ), (BlackCat Only, Bay Area Outreach & Recreation Program, Inc), (BlackCat Only, Big Valley 50 Plus), (BlackCat Only, Butte County Association of Governments/ Butte Regional Transit), (BlackCat Only, Calaveras County Public Works), (BlackCat Only, Calaveras Transit Agency ), (BlackCat Only, Care-A-Van Transit Systems, Inc.), (BlackCat Only, Casa Allegra Community Services), (BlackCat Only, Catholic Charities of the Diocese of Stockton), (BlackCat Only, Center for Elders' Independence ), (BlackCat Only, Choice in Aging), (BlackCat Only, City of Arcata), (BlackCat Only, City of Arvin), (BlackCat Only, City of Auburn), (BlackCat Only, City of California City), (BlackCat Only, City of Chowchilla ), (BlackCat Only, City of Corcoran - Corcoran Area Transit), (BlackCat Only, City of Dinuba ), (BlackCat Only, City of Dixon), (BlackCat Only, City of Escalon ), (BlackCat Only, City of Fairfield), (BlackCat Only, City of Fontana), (BlackCat Only, City of Guadalupe), (BlackCat Only, City of Lafayette: Lamorinda Sprit Van Program), (BlackCat Only, City of McFarland), (BlackCat Only, City of Needles), (BlackCat Only, City of Ojai), (BlackCat Only, City of Petaluma), (BlackCat Only, City of Porterville), (BlackCat Only, City of Ridgecrest), (BlackCat Only, City of Rio Vista), (BlackCat Only, City of Roseville), (BlackCat Only, City of Santa Maria), (BlackCat Only, City of Santa Rosa), (BlackCat Only, City of Shafter), (BlackCat Only, City of Solvang), (BlackCat Only, City of Taft), (BlackCat Only, City of Tehachapi), (BlackCat Only, City of Visalia), (BlackCat Only, City of Vista ), (BlackCat Only, City of Wasco), (BlackCat Only, City of Woodlake), (BlackCat Only, Coastal Seniors, Inc.), (BlackCat Only, Colusa County Transit Agency), (BlackCat Only, Common Ground Senior Services), (BlackCat Only, Community Bridges/Liftline), (BlackCat Only, Community Partners In Caring), (BlackCat Only, Consolidated Tribal Health Project, Inc.), (BlackCat Only, Contra Costa ARC), (BlackCat Only, County Connection), (BlackCat Only, County of Los Angeles - Department of Public Works), (BlackCat Only, County of Mariposa), (BlackCat Only, County of Nevada Public Works, Transit Services Division), (BlackCat Only, County of Sacramento Department of Child, Family and Adult Services), (BlackCat Only, County of Sacramento Department of Transportation), (BlackCat Only, County of Shasta Department of Public Works), (BlackCat Only, County of Siskiyou), (BlackCat Only, County of Sonoma, Human Services Department, Adult and Aging Division), (BlackCat Only, County of Tulare), (BlackCat Only, County of Ventura, Health Services Agency), (BlackCat Only, Delano Association for the Developmentally Disabled, Inc.), (BlackCat Only, Desert ARC), (BlackCat Only, Desert Access and Mobility, Inc), (BlackCat Only, Desert Area Resources and Training), (BlackCat Only, Dignity Community Care), (BlackCat Only, Dignity Health Connected Living), (BlackCat Only, Drivers for Survivors, Inc.), (BlackCat Only, East Bay Services to the Developmentally Disabled ), (BlackCat Only, Eastern Contra Costa Transit Authority), (BlackCat Only, Eastern Sierra Transit Authority), (BlackCat Only, Easy Lift Transportation, Inc.), (BlackCat Only, Eden I&R, INC.), (BlackCat Only, ElderHelp of San Diego), (BlackCat Only, Eureka Transit Service), (BlackCat Only, Faith in Action), (BlackCat Only, Family Bridges, Inc.), (BlackCat Only, Foothill AIDS Project), (BlackCat Only, Friends of Adult Day Health Care Centers), (BlackCat Only, Friends of Children with Special Needs), (BlackCat Only, Full Access & Coordinated Transportation, Inc.), (BlackCat Only, Futures Explored, Inc.), (BlackCat Only, Golden Rain Foundation of Walnut Creek), (BlackCat Only, Greyhound Lines, Inc.), (BlackCat Only, Help Central Inc), (BlackCat Only, Howard Prep), (BlackCat Only, Humboldt Medi-Trans), (BlackCat Only, Humboldt Senior Resource Center), (BlackCat Only, Independent Living Partnership), (BlackCat Only, Inland Empire United Way), (BlackCat Only, Institute on Aging ), (BlackCat Only, Inyo-Mono Association for the Handicapped), ...]\n",
       "\n",
       "[1217 rows x 0 columns]"
      ]
     },
     "execution_count": 53,
     "metadata": {},
     "output_type": "execute_result"
    }
   ],
   "source": [
    "agg"
   ]
  },
  {
   "cell_type": "code",
   "execution_count": 54,
   "id": "1f7c6cdf-0d6c-43d9-8bc1-b8065d130f05",
   "metadata": {},
   "outputs": [],
   "source": [
    "with pd.ExcelWriter(\"./Master_Agreement_Overlaps.xlsx\") as writer:\n",
    "    agg.to_excel(writer, sheet_name=\"Organizations\", index=True)"
   ]
  },
  {
   "cell_type": "code",
   "execution_count": 55,
   "id": "f125fd38-2429-4dcc-a089-729e3b005b25",
   "metadata": {},
   "outputs": [
    {
     "data": {
      "text/plain": [
       "1217"
      ]
     },
     "execution_count": 55,
     "metadata": {},
     "output_type": "execute_result"
    }
   ],
   "source": [
    "parquet.name.nunique()"
   ]
  },
  {
   "cell_type": "code",
   "execution_count": 56,
   "id": "f4f8241d-9dc2-4121-8f5e-5ef6064a12a5",
   "metadata": {},
   "outputs": [],
   "source": [
    "summary = (\n",
    "    parquet.BC_TIRCP_DLA_merge.value_counts()\n",
    "    .to_frame()\n",
    "    .reset_index()\n",
    "    .rename(columns={\"index\": \"Grants\",\n",
    "                    \"BC_TIRCP_DLA_merge\": \"Count_of_Organizations\"})\n",
    ")"
   ]
  },
  {
   "cell_type": "code",
   "execution_count": 57,
   "id": "26dcf044-1c9c-4738-89fd-821d08bc6d64",
   "metadata": {},
   "outputs": [
    {
     "data": {
      "text/html": [
       "<div>\n",
       "<style scoped>\n",
       "    .dataframe tbody tr th:only-of-type {\n",
       "        vertical-align: middle;\n",
       "    }\n",
       "\n",
       "    .dataframe tbody tr th {\n",
       "        vertical-align: top;\n",
       "    }\n",
       "\n",
       "    .dataframe thead th {\n",
       "        text-align: right;\n",
       "    }\n",
       "</style>\n",
       "<table border=\"1\" class=\"dataframe\">\n",
       "  <thead>\n",
       "    <tr style=\"text-align: right;\">\n",
       "      <th></th>\n",
       "      <th>Grants</th>\n",
       "      <th>Count_of_Organizations</th>\n",
       "    </tr>\n",
       "  </thead>\n",
       "  <tbody>\n",
       "    <tr>\n",
       "      <th>0</th>\n",
       "      <td>DLA Only</td>\n",
       "      <td>991</td>\n",
       "    </tr>\n",
       "    <tr>\n",
       "      <th>1</th>\n",
       "      <td>BlackCat Only</td>\n",
       "      <td>168</td>\n",
       "    </tr>\n",
       "    <tr>\n",
       "      <th>2</th>\n",
       "      <td>BlackCat and DLA</td>\n",
       "      <td>33</td>\n",
       "    </tr>\n",
       "    <tr>\n",
       "      <th>3</th>\n",
       "      <td>TIRCP_Only</td>\n",
       "      <td>21</td>\n",
       "    </tr>\n",
       "    <tr>\n",
       "      <th>4</th>\n",
       "      <td>TIRCP, BlackCat and DLA</td>\n",
       "      <td>17</td>\n",
       "    </tr>\n",
       "    <tr>\n",
       "      <th>5</th>\n",
       "      <td>TIRCP and BlackCat</td>\n",
       "      <td>1</td>\n",
       "    </tr>\n",
       "  </tbody>\n",
       "</table>\n",
       "</div>"
      ],
      "text/plain": [
       "                    Grants  Count_of_Organizations\n",
       "0                 DLA Only                     991\n",
       "1            BlackCat Only                     168\n",
       "2         BlackCat and DLA                      33\n",
       "3               TIRCP_Only                      21\n",
       "4  TIRCP, BlackCat and DLA                      17\n",
       "5       TIRCP and BlackCat                       1"
      ]
     },
     "execution_count": 57,
     "metadata": {},
     "output_type": "execute_result"
    }
   ],
   "source": [
    "summary"
   ]
  },
  {
   "cell_type": "code",
   "execution_count": 58,
   "id": "340fb828-60b2-4d12-aa46-1ec3b38b45de",
   "metadata": {},
   "outputs": [],
   "source": [
    "legend = ['DLA Only', 'BlackCat Only', 'BlackCat and DLA', 'TIRCP Only', 'TIRCP, BlackCat, and DLA', 'TIRCP and BlackCat']"
   ]
  },
  {
   "cell_type": "code",
   "execution_count": 59,
   "id": "e7325a3c-b392-4209-a817-4571ff2d9fe7",
   "metadata": {},
   "outputs": [],
   "source": [
    "# Advanced bar chart: label the bars & re order the legend.\n",
    "def labeling(word):\n",
    "    # Add specific use cases where it's not just first letter capitalized\n",
    "    LABEL_DICT = { \"prepared_y\": \"Year\",\n",
    "              \"dist\": \"District\",\n",
    "              \"nunique\":\"Number of Unique\",\n",
    "              \"project_no\": \"Project Number\"}\n",
    "    \n",
    "    if (word == \"mpo\") or (word == \"rtpa\"):\n",
    "        word = word.upper()\n",
    "    elif word in LABEL_DICT.keys():\n",
    "        word = LABEL_DICT[word]\n",
    "    else:\n",
    "        #word = word.replace('n_', 'Number of ').title()\n",
    "        word = word.replace('unique_', \"Number of Unique \").title()\n",
    "        word = word.replace('_', ' ').title()\n",
    "    \n",
    "    return word\n",
    "\n",
    "def base_bar(df):\n",
    "    chart = alt.Chart(df).mark_bar()\n",
    "    return chart\n",
    "\n",
    "\n",
    "# Function\n",
    "def make_bar(\n",
    "    df, y_col, x_col, label_col, chart_title=\"\"\n",
    "):  # label_col is the column I want the bar graph to be labeled by.\n",
    "\n",
    "    if chart_title == \"\":\n",
    "        chart_title = (\n",
    "            f\"{labeling(x_col)} by {labeling(y_col)}\"  # Allows me to customize title.\n",
    "        )\n",
    "\n",
    "    bar = base_bar(df)\n",
    "\n",
    "    bar = bar.encode(\n",
    "        x=alt.X(x_col, title=labeling(x_col)),\n",
    "        y=alt.Y(\n",
    "            y_col, title=labeling(y_col), sort=(\"-x\")\n",
    "        ),  # Sorts chart with X column from descending.\n",
    "        color=alt.Color(\n",
    "            y_col,\n",
    "            scale=alt.Scale(\n",
    "                domain=legend,  # List that specifies the order of the legend.\n",
    "                range=altair_utils.CALITP_CATEGORY_BRIGHT_COLORS,\n",
    "            ),\n",
    "        ),\n",
    "    )\n",
    "    # https://stackoverflow.com/questions/54015250/altair-setting-constant-label-color-for-bar-chart\n",
    "    text = bar.mark_text(align=\"left\", baseline=\"middle\", color=\"black\", dy=3).encode(\n",
    "        text=label_col,\n",
    "        # Set color here, because encoding for mark_text gets\n",
    "        # superseded by alt.Color\n",
    "        color=alt.value(\"black\"),\n",
    "    )\n",
    "\n",
    "    chart = bar + text\n",
    "\n",
    "    chart = (\n",
    "        styleguide.preset_chart_config(chart)\n",
    "        .properties(title=chart_title)\n",
    "        .configure_axis(grid=False)\n",
    "    )\n",
    "\n",
    "    display(chart)"
   ]
  },
  {
   "cell_type": "code",
   "execution_count": 60,
   "id": "9e9ec447-d576-480f-b4b9-612309e286b1",
   "metadata": {},
   "outputs": [
    {
     "data": {
      "text/html": [
       "\n",
       "<div id=\"altair-viz-5abae557297142bca31b2ea23191e449\"></div>\n",
       "<script type=\"text/javascript\">\n",
       "  var VEGA_DEBUG = (typeof VEGA_DEBUG == \"undefined\") ? {} : VEGA_DEBUG;\n",
       "  (function(spec, embedOpt){\n",
       "    let outputDiv = document.currentScript.previousElementSibling;\n",
       "    if (outputDiv.id !== \"altair-viz-5abae557297142bca31b2ea23191e449\") {\n",
       "      outputDiv = document.getElementById(\"altair-viz-5abae557297142bca31b2ea23191e449\");\n",
       "    }\n",
       "    const paths = {\n",
       "      \"vega\": \"https://cdn.jsdelivr.net/npm//vega@5?noext\",\n",
       "      \"vega-lib\": \"https://cdn.jsdelivr.net/npm//vega-lib?noext\",\n",
       "      \"vega-lite\": \"https://cdn.jsdelivr.net/npm//vega-lite@4.17.0?noext\",\n",
       "      \"vega-embed\": \"https://cdn.jsdelivr.net/npm//vega-embed@6?noext\",\n",
       "    };\n",
       "\n",
       "    function maybeLoadScript(lib, version) {\n",
       "      var key = `${lib.replace(\"-\", \"\")}_version`;\n",
       "      return (VEGA_DEBUG[key] == version) ?\n",
       "        Promise.resolve(paths[lib]) :\n",
       "        new Promise(function(resolve, reject) {\n",
       "          var s = document.createElement('script');\n",
       "          document.getElementsByTagName(\"head\")[0].appendChild(s);\n",
       "          s.async = true;\n",
       "          s.onload = () => {\n",
       "            VEGA_DEBUG[key] = version;\n",
       "            return resolve(paths[lib]);\n",
       "          };\n",
       "          s.onerror = () => reject(`Error loading script: ${paths[lib]}`);\n",
       "          s.src = paths[lib];\n",
       "        });\n",
       "    }\n",
       "\n",
       "    function showError(err) {\n",
       "      outputDiv.innerHTML = `<div class=\"error\" style=\"color:red;\">${err}</div>`;\n",
       "      throw err;\n",
       "    }\n",
       "\n",
       "    function displayChart(vegaEmbed) {\n",
       "      vegaEmbed(outputDiv, spec, embedOpt)\n",
       "        .catch(err => showError(`Javascript Error: ${err.message}<br>This usually means there's a typo in your chart specification. See the javascript console for the full traceback.`));\n",
       "    }\n",
       "\n",
       "    if(typeof define === \"function\" && define.amd) {\n",
       "      requirejs.config({paths});\n",
       "      require([\"vega-embed\"], displayChart, err => showError(`Error loading script: ${err.message}`));\n",
       "    } else {\n",
       "      maybeLoadScript(\"vega\", \"5\")\n",
       "        .then(() => maybeLoadScript(\"vega-lite\", \"4.17.0\"))\n",
       "        .then(() => maybeLoadScript(\"vega-embed\", \"6\"))\n",
       "        .catch(showError)\n",
       "        .then(() => displayChart(vegaEmbed));\n",
       "    }\n",
       "  })({\"config\": {\"view\": {\"continuousWidth\": 400, \"continuousHeight\": 300}, \"axis\": {\"grid\": false}, \"axisBand\": {\"grid\": false}, \"background\": \"white\", \"font\": \"Raleway\", \"header\": {\"labelFont\": \"Nunito Sans\", \"titleFont\": \"Raleway\"}, \"legend\": {\"labelColor\": \"#333\", \"labelFont\": \"Nunito Sans\", \"labelFontSize\": 11, \"labelLimit\": 0, \"padding\": 1, \"symbolSize\": 30, \"symbolType\": \"square\", \"titleColor\": \"#333\", \"titleFont\": \"Raleway\", \"titleFontSize\": 14, \"titlePadding\": 10}, \"title\": {\"anchor\": \"middle\", \"font\": \"Raleway\", \"fontSize\": 18, \"fontWeight\": 300, \"offset\": 20}}, \"layer\": [{\"mark\": \"bar\", \"encoding\": {\"color\": {\"field\": \"Grants\", \"scale\": {\"domain\": [\"DLA Only\", \"BlackCat Only\", \"BlackCat and DLA\", \"TIRCP Only\", \"TIRCP, BlackCat, and DLA\", \"TIRCP and BlackCat\"], \"range\": [\"#2EA8CE\", \"#EB9F3C\", \"#F4D837\", \"#51BF9D\", \"#8CBCCB\", \"#9487C0\"]}, \"type\": \"nominal\"}, \"x\": {\"field\": \"Count_of_Organizations\", \"title\": \"Count Of Organizations\", \"type\": \"quantitative\"}, \"y\": {\"field\": \"Grants\", \"sort\": \"-x\", \"title\": \"Grants\", \"type\": \"nominal\"}}}, {\"mark\": {\"type\": \"text\", \"align\": \"left\", \"baseline\": \"middle\", \"color\": \"black\", \"dy\": 3}, \"encoding\": {\"color\": {\"value\": \"black\"}, \"text\": {\"field\": \"Count_of_Organizations\", \"type\": \"quantitative\"}, \"x\": {\"field\": \"Count_of_Organizations\", \"title\": \"Count Of Organizations\", \"type\": \"quantitative\"}, \"y\": {\"field\": \"Grants\", \"sort\": \"-x\", \"title\": \"Grants\", \"type\": \"nominal\"}}}], \"data\": {\"name\": \"data-ba6eb3f2136400579250beb2ee10200b\"}, \"height\": 250, \"title\": \"# of Organizations by Grant\", \"width\": 400, \"$schema\": \"https://vega.github.io/schema/vega-lite/v4.17.0.json\", \"datasets\": {\"data-ba6eb3f2136400579250beb2ee10200b\": [{\"Grants\": \"DLA Only\", \"Count_of_Organizations\": 991}, {\"Grants\": \"BlackCat Only\", \"Count_of_Organizations\": 168}, {\"Grants\": \"BlackCat and DLA\", \"Count_of_Organizations\": 33}, {\"Grants\": \"TIRCP_Only\", \"Count_of_Organizations\": 21}, {\"Grants\": \"TIRCP, BlackCat and DLA\", \"Count_of_Organizations\": 17}, {\"Grants\": \"TIRCP and BlackCat\", \"Count_of_Organizations\": 1}]}}, {\"mode\": \"vega-lite\"});\n",
       "</script>"
      ],
      "text/plain": [
       "alt.LayerChart(...)"
      ]
     },
     "metadata": {},
     "output_type": "display_data"
    }
   ],
   "source": [
    "make_bar(summary, 'Grants','Count_of_Organizations','Count_of_Organizations', '# of Organizations by Grant')"
   ]
  }
 ],
 "metadata": {
  "kernelspec": {
   "display_name": "Python 3 (ipykernel)",
   "language": "python",
   "name": "python3"
  },
  "language_info": {
   "codemirror_mode": {
    "name": "ipython",
    "version": 3
   },
   "file_extension": ".py",
   "mimetype": "text/x-python",
   "name": "python",
   "nbconvert_exporter": "python",
   "pygments_lexer": "ipython3",
   "version": "3.10.4"
  }
 },
 "nbformat": 4,
 "nbformat_minor": 5
}
