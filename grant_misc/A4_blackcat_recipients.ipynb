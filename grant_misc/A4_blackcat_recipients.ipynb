{
 "cells": [
  {
   "cell_type": "markdown",
   "id": "f4ef8520-3087-4a0d-a347-a4058fa76dda",
   "metadata": {},
   "source": [
    "## BlackCat Organizations\n",
    "5/19\n",
    "* Most recent records\n",
    "* Transit agencies that have fixed-route services (more than the vendors contracted to  provide dial-a-ride / paratransit services—I recall there being a bunch of those in the  BlackCat export I got last year).\n",
    "* 5311, SGR then + Clovis"
   ]
  },
  {
   "cell_type": "code",
   "execution_count": null,
   "id": "1c846d88-a056-4de3-be10-cd1ff524365e",
   "metadata": {},
   "outputs": [],
   "source": [
    "import fuzzywuzzy\n",
    "import pandas as pd\n",
    "import siuba  # need this to do type hint in functions\n",
    "from calitp_data_analysis.sql import to_snakecase\n",
    "from calitp_data_analysis.tables import tbls\n",
    "from fuzzywuzzy import process\n",
    "from siuba import *"
   ]
  },
  {
   "cell_type": "code",
   "execution_count": null,
   "id": "9966ce0b-b18d-4785-b5d4-9c46e1c2339a",
   "metadata": {},
   "outputs": [],
   "source": [
    "pd.options.display.max_columns = 100\n",
    "pd.options.display.float_format = \"{:.2f}\".format\n",
    "pd.set_option(\"display.max_rows\", None)\n",
    "pd.set_option(\"display.max_colwidth\", None)"
   ]
  },
  {
   "cell_type": "code",
   "execution_count": null,
   "id": "29efcbc3-ebbb-468a-bf05-66cfb25d1a66",
   "metadata": {},
   "outputs": [],
   "source": [
    "gcs_path = \"gs://calitp-analytics-data/data-analyses/grant_misc/\""
   ]
  },
  {
   "cell_type": "markdown",
   "id": "b4058e34-d9d7-4fd0-8928-d7a41534c515",
   "metadata": {},
   "source": [
    "### Blackcat"
   ]
  },
  {
   "cell_type": "code",
   "execution_count": null,
   "id": "48231255-5d18-4dae-a731-e2ac89ba8b11",
   "metadata": {},
   "outputs": [],
   "source": [
    "blackcat = to_snakecase(\n",
    "    pd.read_excel(f\"{gcs_path}BlackCat_Grants_Projects_5_22_23.xlsx\")\n",
    ")"
   ]
  },
  {
   "cell_type": "code",
   "execution_count": null,
   "id": "3bc9df48-cb48-4d30-90f6-205e6bc27160",
   "metadata": {},
   "outputs": [],
   "source": [
    "blackcat.sample()"
   ]
  },
  {
   "cell_type": "code",
   "execution_count": null,
   "id": "388124a8-cb7f-4aef-be38-c916515a2c16",
   "metadata": {},
   "outputs": [],
   "source": [
    "blackcat.shape"
   ]
  },
  {
   "cell_type": "code",
   "execution_count": null,
   "id": "83395988-075e-4fc6-90b9-765f91b7f18d",
   "metadata": {},
   "outputs": [],
   "source": [
    "# Filter grant fiscal year\n",
    "blackcat2 = blackcat[blackcat.grant_fiscal_year >= 2018].reset_index(drop=True)"
   ]
  },
  {
   "cell_type": "code",
   "execution_count": null,
   "id": "58a81789-028f-4d29-8834-c4e3ef1f8715",
   "metadata": {},
   "outputs": [],
   "source": [
    "blackcat2.shape, blackcat2.grant_fiscal_year.value_counts()"
   ]
  },
  {
   "cell_type": "code",
   "execution_count": null,
   "id": "38b67551-c803-45c9-8be6-a25e6150cf10",
   "metadata": {},
   "outputs": [],
   "source": [
    "blackcat2.columns"
   ]
  },
  {
   "cell_type": "code",
   "execution_count": null,
   "id": "f23e4dfa-825e-499c-b143-06171269b73d",
   "metadata": {},
   "outputs": [],
   "source": [
    "grants_subset = [\n",
    "    \"5311(f) Cont\",\n",
    "    \"CMAQ (FTA 5311)\",\n",
    "    \"Section 5311\",\n",
    "    \"5311(f) Round 2\",\n",
    "    \"5339 (State)\",\n",
    "    \"Section 5311(f)\",\n",
    "]"
   ]
  },
  {
   "cell_type": "code",
   "execution_count": null,
   "id": "938432ce-3c02-45bf-8423-731eebf12c25",
   "metadata": {},
   "outputs": [],
   "source": [
    "blackcat2 = blackcat2[blackcat2.funding_program.isin(grants_subset)]"
   ]
  },
  {
   "cell_type": "code",
   "execution_count": null,
   "id": "c4a15cc9-2cb1-4136-9a65-78366231bf9a",
   "metadata": {},
   "outputs": [],
   "source": [
    "# Subset to only organizations\n",
    "organizations = (\n",
    "    blackcat2[[\"organization_name\", \"grant_fiscal_year\", \"funding_program\"]]\n",
    "    .sort_values(by=[\"organization_name\", \"grant_fiscal_year\"], ascending=[True, False])\n",
    "    .drop_duplicates(subset=[\"organization_name\", \"funding_program\"])\n",
    "    .reset_index(drop=True)\n",
    ")"
   ]
  },
  {
   "cell_type": "code",
   "execution_count": null,
   "id": "88a62cec-6aba-428f-9f9b-7b25d9332962",
   "metadata": {},
   "outputs": [],
   "source": [
    "len(organizations)"
   ]
  },
  {
   "cell_type": "code",
   "execution_count": null,
   "id": "cc63bcf6-5e2d-44e5-8aa8-7027a70f0d43",
   "metadata": {},
   "outputs": [],
   "source": [
    "def summarize_rows(df, col_to_group: str, col_to_summarize: str) -> pd.DataFrame:\n",
    "    \"\"\"\n",
    "    Puts all the elements in the column \"col to summarize\"\n",
    "    onto one line and separates them by commas.\n",
    "    \"\"\"\n",
    "    df = df.groupby(col_to_group)[col_to_summarize].apply(\",\".join).reset_index()\n",
    "    return df"
   ]
  },
  {
   "cell_type": "code",
   "execution_count": null,
   "id": "f0a9fc24-3a01-4aa6-bdb6-a0837c9cf714",
   "metadata": {
    "scrolled": true,
    "tags": []
   },
   "outputs": [],
   "source": [
    "organizations = summarize_rows(\n",
    "    organizations, [\"organization_name\", \"grant_fiscal_year\"], \"funding_program\"\n",
    ")"
   ]
  },
  {
   "cell_type": "code",
   "execution_count": null,
   "id": "fccd9919-a1b8-4ec3-81a0-c2f9624cf7ad",
   "metadata": {
    "scrolled": true,
    "tags": []
   },
   "outputs": [],
   "source": [
    "organizations = (\n",
    "    organizations.sort_values(\n",
    "        by=[\"organization_name\", \"grant_fiscal_year\"], ascending=[True, False]\n",
    "    )\n",
    "    .drop_duplicates(subset=[\"organization_name\"])\n",
    "    .reset_index(drop=True)\n",
    ")"
   ]
  },
  {
   "cell_type": "code",
   "execution_count": null,
   "id": "f648fd42-8a29-468a-9788-349f01495414",
   "metadata": {},
   "outputs": [],
   "source": [
    "organizations.shape, organizations.organization_name.nunique()"
   ]
  },
  {
   "cell_type": "code",
   "execution_count": null,
   "id": "b1308bac-8c3f-496b-babf-f7a62c074719",
   "metadata": {
    "scrolled": true,
    "tags": []
   },
   "outputs": [],
   "source": [
    "organizations"
   ]
  },
  {
   "cell_type": "markdown",
   "id": "386ab51c-4f63-4429-9af4-9e5b3cdf87ec",
   "metadata": {},
   "source": [
    "### State of Good Repair"
   ]
  },
  {
   "cell_type": "code",
   "execution_count": null,
   "id": "8c6f3dbc-7ef4-4152-b474-e2085573a0da",
   "metadata": {},
   "outputs": [],
   "source": [
    "sgr = to_snakecase(pd.read_excel(f\"{gcs_path}SGR Calsmart-user-list request.xls\"))"
   ]
  },
  {
   "cell_type": "code",
   "execution_count": null,
   "id": "c7429fa5-6cce-46d9-b2c0-33978672f2e8",
   "metadata": {},
   "outputs": [],
   "source": [
    "sgr_subset = [\"first_name\", \"last_name\", \"email\", \"phone\", \"title\", \"agency\"]"
   ]
  },
  {
   "cell_type": "code",
   "execution_count": null,
   "id": "9a20897e-822a-44d7-aff3-01370a07c1e7",
   "metadata": {},
   "outputs": [],
   "source": [
    "sgr2 = sgr[sgr_subset]"
   ]
  },
  {
   "cell_type": "code",
   "execution_count": null,
   "id": "4ba034d8-8df2-43b9-9020-a82c1d6808ec",
   "metadata": {},
   "outputs": [],
   "source": [
    "sgr2 = sgr2.drop_duplicates(\"agency\").reset_index(drop=True)"
   ]
  },
  {
   "cell_type": "code",
   "execution_count": null,
   "id": "b9150335-440d-4e63-9536-11fb1686fbbf",
   "metadata": {
    "tags": []
   },
   "outputs": [],
   "source": [
    "sgr2.agency.value_counts().head()"
   ]
  },
  {
   "cell_type": "code",
   "execution_count": null,
   "id": "2ab29610-6571-4ad6-8aec-e8d72318758b",
   "metadata": {},
   "outputs": [],
   "source": [
    "len(sgr2), len(sgr)"
   ]
  },
  {
   "cell_type": "code",
   "execution_count": null,
   "id": "f69dbeb7-1dee-44fc-8773-bc6655a6e889",
   "metadata": {},
   "outputs": [],
   "source": [
    "sgr2[\"funding_program\"] = \"State of Good Repair\""
   ]
  },
  {
   "cell_type": "code",
   "execution_count": null,
   "id": "3175f448-885d-4661-809c-bb586a0e894d",
   "metadata": {},
   "outputs": [],
   "source": [
    "sgr2.shape, sgr.agency.nunique()"
   ]
  },
  {
   "cell_type": "markdown",
   "id": "8e315b55-0400-45f9-ada9-d21de6ac2a11",
   "metadata": {},
   "source": [
    "### Merge BlackCat w/ SGR"
   ]
  },
  {
   "cell_type": "code",
   "execution_count": null,
   "id": "761339eb-24bc-4ba6-a130-64f494fd4c9e",
   "metadata": {},
   "outputs": [],
   "source": [
    "def clean_punctuation(df, agency_col: str) -> pd.DataFrame:\n",
    "    \"\"\"\n",
    "    Cleans up agency names. Assume anything after comma/()/\n",
    "    ; are acronyms and delete them. Correct certain mispellings.\n",
    "    Change agency names to title case. Clean whitespaces.\n",
    "    \"\"\"\n",
    "    df[agency_col] = (\n",
    "        df[agency_col]\n",
    "        .str.strip()\n",
    "        .str.split(\",\")\n",
    "        .str[0]\n",
    "        .str.replace(\"/\", \"\")\n",
    "        .str.split(\"(\")\n",
    "        .str[0]\n",
    "        .str.split(\"/\")\n",
    "        .str[0]\n",
    "        .str.split(\";\")\n",
    "        .str[0]\n",
    "        .str.title()\n",
    "        .str.replace(\"Trasit\", \"Transit\")\n",
    "        .str.replace(\"*\", \"\")\n",
    "        .str.replace(\"Agency\", \"\")\n",
    "        .str.strip()  # strip whitespaces again after getting rid of certain things\n",
    "    )\n",
    "    return df"
   ]
  },
  {
   "cell_type": "code",
   "execution_count": null,
   "id": "bcf7f94d-9b09-4d02-85b0-289938edff15",
   "metadata": {},
   "outputs": [],
   "source": [
    "def flip_county_city(df, agency_col: str):\n",
    "    # https://github.com/cal-itp/data-analyses/blob/main/Agreement_Overlap/add_dla.ipynb\n",
    "    to_correct = df[\n",
    "        (df[agency_col].str.contains(\"County\")) | (df[agency_col].str.contains(\"City\"))\n",
    "    ]\n",
    "    to_correct = to_correct[[agency_col]].drop_duplicates().reset_index(drop=True)\n",
    "    to_correct[\"str_len\"] = to_correct[agency_col].str.split().str.len()\n",
    "    to_correct = to_correct[to_correct.str_len <= 5].reset_index(drop=True)\n",
    "    to_correct[[\"name_pt1\", \"name_pt2\"]] = to_correct[agency_col].str.split(\n",
    "        \" Of \", 1, expand=True\n",
    "    )\n",
    "    to_correct[\"new_name\"] = to_correct[\"name_pt2\"] + \" \" + to_correct[\"name_pt1\"]\n",
    "\n",
    "    new_names_dictionary = dict(to_correct[[agency_col, \"new_name\"]].values)\n",
    "    df[\"agency_corrected\"] = df[agency_col].map(new_names_dictionary)\n",
    "    df[\"agency_corrected\"] = df[\"agency_corrected\"].fillna(df[agency_col])\n",
    "\n",
    "    df = df.drop(columns=[agency_col])\n",
    "    df = df.rename(columns={\"agency_corrected\": agency_col})\n",
    "\n",
    "    return df"
   ]
  },
  {
   "cell_type": "code",
   "execution_count": null,
   "id": "d5d6a9cb-c457-4dcc-9172-1c6dc30eef9d",
   "metadata": {},
   "outputs": [],
   "source": [
    "def clean_organization_names(df, agency_col: str):\n",
    "    df = clean_punctuation(df, agency_col)\n",
    "    df = flip_county_city(df, agency_col)\n",
    "    return df"
   ]
  },
  {
   "cell_type": "code",
   "execution_count": null,
   "id": "c1db1302-7133-478a-bfa3-59cf911deaf0",
   "metadata": {},
   "outputs": [],
   "source": [
    "organizations = clean_organization_names(organizations, \"organization_name\")"
   ]
  },
  {
   "cell_type": "code",
   "execution_count": null,
   "id": "a4d2732f-a102-484b-a456-fbc6b9dfa450",
   "metadata": {},
   "outputs": [],
   "source": [
    "len(organizations)"
   ]
  },
  {
   "cell_type": "code",
   "execution_count": null,
   "id": "e34c40f6-f561-44a4-a0ec-ff4e57642896",
   "metadata": {},
   "outputs": [],
   "source": [
    "sgr2 = clean_organization_names(sgr2, \"agency\")"
   ]
  },
  {
   "cell_type": "code",
   "execution_count": null,
   "id": "5a160d90-85a1-4d93-ae67-1baf1cb216f0",
   "metadata": {},
   "outputs": [],
   "source": [
    "def replace_matches_set_ratio(df, column, new_col_name, string_to_match, min_ratio):\n",
    "    # Get a list of unique strings\n",
    "    strings = df[column].unique()\n",
    "\n",
    "    # Get the top 10 closest matches to our input string\n",
    "    matches = fuzzywuzzy.process.extract(\n",
    "        string_to_match, strings, limit=10, scorer=fuzzywuzzy.fuzz.token_set_ratio\n",
    "    )\n",
    "\n",
    "    # Only get matches with a  min ratio\n",
    "    close_matches = [matches[0] for matches in matches if matches[1] > min_ratio]\n",
    "\n",
    "    # Get the rows of all the close matches in our dataframe\n",
    "    rows_with_matches = df[column].isin(close_matches)\n",
    "\n",
    "    # replace all rows with close matches with the input matches\n",
    "    df.loc[rows_with_matches, new_col_name] = string_to_match"
   ]
  },
  {
   "cell_type": "code",
   "execution_count": null,
   "id": "2776f784-07d9-4d4c-b79e-f78054d9e991",
   "metadata": {},
   "outputs": [],
   "source": [
    "def find_fuzzy_match(\n",
    "    df1,\n",
    "    df2,\n",
    "    df1_fuzzy_column: str,\n",
    "    df2_fuzzy_column: str,\n",
    "    new_column: str,\n",
    "    min_ratio: int,\n",
    "):\n",
    "    unique_values = df1[df1_fuzzy_column].unique().tolist()\n",
    "    for i in unique_values:\n",
    "        replace_matches_set_ratio(df2, df2_fuzzy_column, new_column, i, min_ratio)\n",
    "    return df2"
   ]
  },
  {
   "cell_type": "code",
   "execution_count": null,
   "id": "b1f1be48-f24b-437e-ab64-6369e20becc7",
   "metadata": {},
   "outputs": [],
   "source": [
    "organizations = find_fuzzy_match(\n",
    "    sgr, organizations, \"agency\", \"organization_name\", \"fuzzy_match_agency\", 95\n",
    ")"
   ]
  },
  {
   "cell_type": "code",
   "execution_count": null,
   "id": "030310f0-3b56-4c27-b718-abc2e29fec84",
   "metadata": {
    "scrolled": true,
    "tags": []
   },
   "outputs": [],
   "source": [
    "organizations"
   ]
  },
  {
   "cell_type": "code",
   "execution_count": null,
   "id": "9c0a208a-90d6-4e20-8da0-28b5fafc8d58",
   "metadata": {},
   "outputs": [],
   "source": [
    "fuzzy_to_del = [\n",
    "    \"Amador Transit\",\n",
    "    \"Eastern Contra Costa Transit Authority\",\n",
    "    \"Madera County\",\n",
    "]"
   ]
  },
  {
   "cell_type": "code",
   "execution_count": null,
   "id": "71e6b065-3120-450e-b2ea-10eaeb4f47a1",
   "metadata": {},
   "outputs": [],
   "source": [
    "for i in fuzzy_to_del:\n",
    "    organizations.loc[\n",
    "        organizations[\"organization_name\"].eq(i), \"fuzzy_match_agency\"\n",
    "    ] = None"
   ]
  },
  {
   "cell_type": "code",
   "execution_count": null,
   "id": "d6229eee-8f36-4414-bf7d-f7f5f8598a2f",
   "metadata": {
    "scrolled": true,
    "tags": []
   },
   "outputs": [],
   "source": [
    "organizations.fuzzy_match_agency = organizations.fuzzy_match_agency.fillna(\n",
    "    organizations.organization_name\n",
    ")"
   ]
  },
  {
   "cell_type": "code",
   "execution_count": null,
   "id": "b36cba82-f092-4e1c-9789-bc9d04ed5eb4",
   "metadata": {
    "scrolled": true,
    "tags": []
   },
   "outputs": [],
   "source": [
    "# organizations.sort_values(by = ['organization_name'])"
   ]
  },
  {
   "cell_type": "code",
   "execution_count": null,
   "id": "5b338202-a184-44f3-a305-f4b2f85e6d13",
   "metadata": {},
   "outputs": [],
   "source": [
    "# organizations = organizations.drop(columns = ['organization_name']).rename(columns = {'fuzzy_match_agency':'organization_name'})"
   ]
  },
  {
   "cell_type": "code",
   "execution_count": null,
   "id": "1032d71f-d47b-461d-b7fe-5d95652f98c9",
   "metadata": {},
   "outputs": [],
   "source": [
    "m1 = pd.merge(\n",
    "    organizations,\n",
    "    sgr2,\n",
    "    left_on=[\"fuzzy_match_agency\"],\n",
    "    right_on=[\"agency\"],\n",
    "    how=\"outer\",\n",
    "    indicator=True,\n",
    ")"
   ]
  },
  {
   "cell_type": "code",
   "execution_count": null,
   "id": "7943021b-0748-42e1-a2f8-4f4dd4266dad",
   "metadata": {},
   "outputs": [],
   "source": [
    "m1._merge.value_counts()"
   ]
  },
  {
   "cell_type": "code",
   "execution_count": null,
   "id": "92bea155-3997-41ad-a098-f68266b2df07",
   "metadata": {},
   "outputs": [],
   "source": [
    "m1.funding_program_x = m1.funding_program_x.fillna(\"State of Good Repair\")"
   ]
  },
  {
   "cell_type": "code",
   "execution_count": null,
   "id": "a7fd387f-83da-4d6a-bf84-a98396e304ed",
   "metadata": {
    "scrolled": true,
    "tags": []
   },
   "outputs": [],
   "source": [
    "m1.funding_program_y = m1.funding_program_y.fillna(m1.funding_program_x)"
   ]
  },
  {
   "cell_type": "code",
   "execution_count": null,
   "id": "592ecb62-8cdd-4cf1-b778-5e21af1ffcfa",
   "metadata": {
    "scrolled": true,
    "tags": []
   },
   "outputs": [],
   "source": [
    "m1[\"funding_program\"] = m1.funding_program_x + \",\" + m1.funding_program_y"
   ]
  },
  {
   "cell_type": "code",
   "execution_count": null,
   "id": "fcd17a49-1f06-4f9b-9f2c-3b42e3c8b1b1",
   "metadata": {
    "tags": []
   },
   "outputs": [],
   "source": [
    "m1.shape, m1.organization_name.nunique()"
   ]
  },
  {
   "cell_type": "code",
   "execution_count": null,
   "id": "acc618eb-622b-4e13-b128-83593db973cc",
   "metadata": {},
   "outputs": [],
   "source": [
    "m1.organization_name = m1.organization_name.fillna(m1.agency)"
   ]
  },
  {
   "cell_type": "code",
   "execution_count": null,
   "id": "00a81576-0989-4af0-b302-d64d816fa180",
   "metadata": {
    "scrolled": true,
    "tags": []
   },
   "outputs": [],
   "source": [
    "m1.sort_values(by = ['organization_name', 'agency'])"
   ]
  },
  {
   "cell_type": "code",
   "execution_count": null,
   "id": "233bf8c1-a9cd-418d-a3aa-a60787ed16d4",
   "metadata": {
    "scrolled": true,
    "tags": []
   },
   "outputs": [],
   "source": [
    "m1.funding_program = m1.funding_program.fillna(m1.funding_program_y)"
   ]
  },
  {
   "cell_type": "code",
   "execution_count": null,
   "id": "a0de21b6-d555-4ac3-a933-78180a293354",
   "metadata": {},
   "outputs": [],
   "source": [
    "cols_to_drop = [\n",
    "    \"funding_program_x\",\n",
    "    \"funding_program_y\",\n",
    "    \"fuzzy_match_agency\",\n",
    "    \"agency\",\n",
    "    \"grant_fiscal_year\",\n",
    "]"
   ]
  },
  {
   "cell_type": "code",
   "execution_count": null,
   "id": "80abb9d9-ba5d-4f07-9187-56890ca21579",
   "metadata": {
    "scrolled": true,
    "tags": []
   },
   "outputs": [],
   "source": [
    "m1 = m1.drop(columns=cols_to_drop)"
   ]
  },
  {
   "cell_type": "code",
   "execution_count": null,
   "id": "fbb14a0d-2737-4b16-8fba-269418145903",
   "metadata": {},
   "outputs": [],
   "source": [
    "m1.organization_name.nunique(), m1.shape"
   ]
  },
  {
   "cell_type": "code",
   "execution_count": null,
   "id": "0a119246-7db6-4f3a-a54c-da639eeb5e67",
   "metadata": {
    "tags": []
   },
   "outputs": [],
   "source": [
    "m2 = summarize_rows(\n",
    "    m1,\n",
    "    [\"organization_name\"],\n",
    "    \"funding_program\",\n",
    ")"
   ]
  },
  {
   "cell_type": "code",
   "execution_count": null,
   "id": "2ae46909-9964-44df-b860-f4f98766b400",
   "metadata": {
    "scrolled": true,
    "tags": []
   },
   "outputs": [],
   "source": [
    "m2 = pd.merge(m2, m1.drop(columns = ['funding_program']), on = ['organization_name'], how = \"left\")"
   ]
  },
  {
   "cell_type": "code",
   "execution_count": null,
   "id": "f082dc0f-1478-4c46-bc6b-98d47ec7acc9",
   "metadata": {
    "scrolled": true,
    "tags": []
   },
   "outputs": [],
   "source": [
    "m2 = m2.sort_values(['organization_name']).drop_duplicates(subset = ['organization_name'])"
   ]
  },
  {
   "cell_type": "code",
   "execution_count": null,
   "id": "acaace56-0933-40d0-9234-e3b1e1c16021",
   "metadata": {},
   "outputs": [],
   "source": [
    "m2.organization_name.nunique(), m2.shape"
   ]
  },
  {
   "cell_type": "markdown",
   "id": "46e5cdab-f5d1-4a0f-ae34-34d0fcadedc8",
   "metadata": {},
   "source": [
    "### Airtable\n",
    "* Grab only fixed route providers."
   ]
  },
  {
   "cell_type": "code",
   "execution_count": null,
   "id": "189d0256-5a21-469c-8746-0da00c242923",
   "metadata": {},
   "outputs": [],
   "source": [
    "airtable = tbls.external_airtable.california_transit__services() >> collect()"
   ]
  },
  {
   "cell_type": "code",
   "execution_count": null,
   "id": "305b3bb0-3ded-49d4-bba2-3ab8afa6ca22",
   "metadata": {},
   "outputs": [],
   "source": [
    "# airtable.columns"
   ]
  },
  {
   "cell_type": "code",
   "execution_count": null,
   "id": "3554357d-08fb-4028-9c90-7ef508f478ee",
   "metadata": {},
   "outputs": [],
   "source": [
    "# ['name','service_type', 'service_operator_type', 'operator_organization_type']\n",
    "airtable_subset = [\"name\", \"service_type\"]"
   ]
  },
  {
   "cell_type": "code",
   "execution_count": null,
   "id": "f7add568-f19b-42e1-89ec-d570c7873760",
   "metadata": {},
   "outputs": [],
   "source": [
    "airtable2 = airtable[airtable_subset]"
   ]
  },
  {
   "cell_type": "code",
   "execution_count": null,
   "id": "a242ebff-a484-4d6a-9206-f27c9fc3a3be",
   "metadata": {},
   "outputs": [],
   "source": [
    "airtable2.name.nunique()"
   ]
  },
  {
   "cell_type": "code",
   "execution_count": null,
   "id": "58d547be-66a7-4d92-b81c-bd6273da3ebc",
   "metadata": {},
   "outputs": [],
   "source": [
    "airtable2.info()"
   ]
  },
  {
   "cell_type": "code",
   "execution_count": null,
   "id": "4f5f7aed-378e-4199-9fa0-3907c101bc87",
   "metadata": {},
   "outputs": [],
   "source": [
    "airtable2.sort_values([\"name\"]).head()"
   ]
  },
  {
   "cell_type": "code",
   "execution_count": null,
   "id": "92c44c72-3e9c-4bb9-a41c-9b03dc95d9ef",
   "metadata": {},
   "outputs": [],
   "source": [
    "airtable3 = airtable2.explode(\"service_type\").reset_index(drop=True)"
   ]
  },
  {
   "cell_type": "code",
   "execution_count": null,
   "id": "db380ee3-0434-441e-9b57-1bed1d527bd8",
   "metadata": {},
   "outputs": [],
   "source": [
    "airtable3.head()"
   ]
  },
  {
   "cell_type": "code",
   "execution_count": null,
   "id": "8ff8f31b-8e84-4c9e-8b83-6ff5f4252538",
   "metadata": {},
   "outputs": [],
   "source": [
    "airtable3.service_type = airtable3.service_type.fillna(\"NA\")"
   ]
  },
  {
   "cell_type": "code",
   "execution_count": null,
   "id": "8b5e207e-441e-45f3-ac42-f8efcce39b0b",
   "metadata": {},
   "outputs": [],
   "source": [
    "# fixed route only\n",
    "#airtable4 = airtable3[airtable3.service_type.str.lower().str.contains(\"fixed\")]"
   ]
  },
  {
   "cell_type": "code",
   "execution_count": null,
   "id": "f4d73d37-89d9-445c-863b-dfbc767edb16",
   "metadata": {},
   "outputs": [],
   "source": [
    "airtable5 = (\n",
    "    airtable3.drop_duplicates([\"name\"]).sort_values(by=[\"name\"]).reset_index(drop=True)\n",
    ")"
   ]
  },
  {
   "cell_type": "code",
   "execution_count": null,
   "id": "d4639c8f-4958-4c21-bfb8-2390835aadfc",
   "metadata": {},
   "outputs": [],
   "source": [
    "len(airtable5)"
   ]
  },
  {
   "cell_type": "code",
   "execution_count": null,
   "id": "09473d4d-a253-42f0-aef2-2be4246b362b",
   "metadata": {},
   "outputs": [],
   "source": [
    "airtable5.name.nunique()"
   ]
  },
  {
   "cell_type": "code",
   "execution_count": null,
   "id": "07fa6d27-e5b3-4bb7-9e24-ab5647b1ccef",
   "metadata": {},
   "outputs": [],
   "source": [
    "airtable5 = airtable5.fillna('NA')"
   ]
  },
  {
   "cell_type": "code",
   "execution_count": null,
   "id": "9099c8df-8fad-4659-a92c-afef28824b43",
   "metadata": {},
   "outputs": [],
   "source": [
    "airtable5.info()"
   ]
  },
  {
   "cell_type": "markdown",
   "id": "00fe5ba0-e7b7-49ac-a0b1-fe0e7d0bdcbd",
   "metadata": {},
   "source": [
    "### Merge"
   ]
  },
  {
   "cell_type": "code",
   "execution_count": null,
   "id": "08f27268-fb3d-4e8b-96ba-0ddaef547525",
   "metadata": {},
   "outputs": [],
   "source": [
    "airtable5 = clean_organization_names(airtable5, \"name\")"
   ]
  },
  {
   "cell_type": "code",
   "execution_count": null,
   "id": "a2b9b3e6-dc3a-4acd-b4bd-7a0daba4a35d",
   "metadata": {
    "scrolled": true,
    "tags": []
   },
   "outputs": [],
   "source": [
    "#airtable5.sort_values('name').head(20)"
   ]
  },
  {
   "cell_type": "code",
   "execution_count": null,
   "id": "bb9870e9-17bc-4496-b2ee-ff14e384cbd2",
   "metadata": {
    "scrolled": true,
    "tags": []
   },
   "outputs": [],
   "source": [
    "m2 = find_fuzzy_match(airtable5, m2, \"name\", \"organization_name\", \"fuzzy_agency\", 95)"
   ]
  },
  {
   "cell_type": "code",
   "execution_count": null,
   "id": "a4c3faa0-d664-4acf-afde-1da805e588ec",
   "metadata": {
    "scrolled": true,
    "tags": []
   },
   "outputs": [],
   "source": [
    "for i in [\n",
    "    \"Eastern Contra Costa Transit Authority\",\n",
    "    \"Fresno County\",\n",
    "    \"Livermore Amador Valley Transit Authority\",\n",
    "    \"Eastern Sierra Transit Authority\",\n",
    "    \"Alpine County Local Transportation Commission\"\n",
    "]:\n",
    "    m2.loc[m2[\"organization_name\"].eq(i), \"fuzzy_agency\"] = None"
   ]
  },
  {
   "cell_type": "code",
   "execution_count": null,
   "id": "0ab9a6b7-fb87-4d62-9564-87570f759ef1",
   "metadata": {
    "scrolled": true,
    "tags": []
   },
   "outputs": [],
   "source": [
    "m2.loc[m2.fuzzy_agency.notna()][[\"organization_name\", \"fuzzy_agency\"]].sort_values(\n",
    "    [\"organization_name\"]\n",
    ")"
   ]
  },
  {
   "cell_type": "code",
   "execution_count": null,
   "id": "f87e5a94-e175-4d89-bbfe-a2c6357f55bb",
   "metadata": {},
   "outputs": [],
   "source": [
    "# Reverse -> replace\n",
    "\"\"\"\n",
    "for i in airtable5.name.unique().tolist():\n",
    "       replace_matches_set_ratio(\n",
    "        organizations, \"organization_name\", \"project_name_fuzzy\", i, 95) \"\"\""
   ]
  },
  {
   "cell_type": "code",
   "execution_count": null,
   "id": "74128098-bb44-4288-a5ba-aaa405b4da67",
   "metadata": {},
   "outputs": [],
   "source": [
    "# Fuzzy matches that didn't work\n",
    "# Use organization name\n",
    "fuzzy_matches_to_filter = [\n",
    "    \"Eastern Contra Costa Transit Authority\",\n",
    "    \"Livermore Amador Valley Transit Authority\",\n",
    "    \"Calaveras Transit\",\n",
    "    \"City Of Corcoran - Corcoran Area Transit\",\n",
    "]"
   ]
  },
  {
   "cell_type": "code",
   "execution_count": null,
   "id": "9d0a2404-2376-4bf0-a6a5-d723d9b5adb5",
   "metadata": {},
   "outputs": [],
   "source": [
    "len(m2)"
   ]
  },
  {
   "cell_type": "code",
   "execution_count": null,
   "id": "48283f01-fbc5-419f-8547-77d78e199c09",
   "metadata": {},
   "outputs": [],
   "source": [
    "# These are the fuzzy matches that worked.\n",
    "found_matches = (\n",
    "    m2[((~m2.fuzzy_agency.isna()) & (~m2.fuzzy_agency.isin(fuzzy_matches_to_filter)))]\n",
    ").reset_index(drop=True)"
   ]
  },
  {
   "cell_type": "code",
   "execution_count": null,
   "id": "8d6fe94b-3291-45c7-831a-f3df3b1edc29",
   "metadata": {
    "tags": []
   },
   "outputs": [],
   "source": [
    "len(found_matches)"
   ]
  },
  {
   "cell_type": "code",
   "execution_count": null,
   "id": "e26b999d-e14f-4417-b76b-0771ff8b79dc",
   "metadata": {
    "scrolled": true,
    "tags": []
   },
   "outputs": [],
   "source": [
    "still_need_matches = m2[(~m2.organization_name.isin(found_matches.organization_name.tolist()))]"
   ]
  },
  {
   "cell_type": "code",
   "execution_count": null,
   "id": "add64cdd-2571-4449-9027-e6d08678f7b3",
   "metadata": {
    "scrolled": true,
    "tags": []
   },
   "outputs": [],
   "source": [
    "found_matches = found_matches.drop(columns = ['organization_name']).rename(columns = {'fuzzy_agency':'organization_name'})"
   ]
  },
  {
   "cell_type": "code",
   "execution_count": null,
   "id": "cac09f3a-3fdf-48b2-9a4a-1cfc554d9603",
   "metadata": {
    "scrolled": true,
    "tags": []
   },
   "outputs": [],
   "source": [
    "found_matches"
   ]
  },
  {
   "cell_type": "markdown",
   "id": "579ef96a-9ede-4829-872c-7eb0e145f55b",
   "metadata": {},
   "source": [
    "* Calaveras Transit change to Calaveras Connect\n",
    "* Arvin City  Arvin Transit\n",
    "* Auburn City Auburn Transit\n",
    "* County Of Los Angeles - Department Of Public Works, Los Angeles County Transit Services\n",
    "* 34\tCounty Of Sacramento Department Of Transportation Sacrt Bus\n",
    "* County Of Shasta Department Of Public Works\n",
    "* Dinuba City Dinuba Connection\n",
    "* Lassen Transit Service Lassen Rural Bus\n",
    "* Needles City  Needles Area Transit\n",
    "* Nevada Public Works County Nevada County Connects\n",
    "* Ojai City Ojai Trolley\n",
    "* Palo Verde Valley Transit Palos Verdes Peninsula Transit Authority\n",
    "* Placer County Public Works Placer County Transit\n",
    "* Plumas County Transportation Commission Plumas Transit Systems\n",
    "* Porterville City  Porterville Transit\n",
    "* Ridgecrest City Ridgecrest Transit\n",
    "* Rio Vista City Rio Vista Delta Breeze\n",
    "* Santa Maria City Santa Maria Regional Transit\n",
    "* Siskiyou County Siskiyou Transit And General Express\n",
    "* Stanislaus County Public Works - Transit Division  Stanislaus Regional Transit Authority\n",
    "* Taft City Taft Area Transit\n",
    "* Tehama County Transit  Tehama Rural Area Express\n",
    "* Transportation Trinity County Department Trinity Transit\n",
    "* Transit Joint Powers Authority For Merced County Merced The Bus\n",
    "* Visalia City Visilia Transit\n",
    "* Yolo County Transportation District Yolobus\n"
   ]
  },
  {
   "cell_type": "code",
   "execution_count": null,
   "id": "19af782c-8cf1-443c-9d32-c88c45e0ac6b",
   "metadata": {},
   "outputs": [],
   "source": [
    "to_map = {\n",
    "    \"Tulare County\": \"Tuolumne County Transit\",\n",
    "    \"Turlock City\": \"Turlock Transit\",\n",
    "    \"Union City City\": \"Union City Transit\",\n",
    "    \"Calaveras Transit\": \"Calaveras Connect\",\n",
    "    \"Alameda-Contra Costa Transit District\": \"Ac Transit\",\n",
    "    \"Arcadia City\": \"Arcadia Transit\",\n",
    "    \"Banning City\": \"Banning Pass Transit\",\n",
    "    \"Beaumont City\": \"Beaumont Pass Transit\",\n",
    "    \"Calaveras Council Of Governments\": \"Calaveras Connect\",\n",
    "    \"Camarillo City\": \"Camarillo Area Transit\",\n",
    "    \"Commerce City\": \"Commerce Municipal Bus Lines\",\n",
    "    \"Corona City\": \"Corona Cruiser\",\n",
    "    \"Delano City\": \"Delano Area Rapid Transit\",\n",
    "    \"Eastern Sierra Transit Authority\": \"Eastern Sierra Transit Authority Community Routes\",\n",
    "    \"Elk Grove City\": \"Elk Grove Transit Services\",\n",
    "    \"Fairfield City\": \"Fairfield And Suisun Transit\",\n",
    "    \"Folsom City\": \"Folsom Stage Line\",\n",
    "    \"Glenn County\": \"Glenn Ride\",\n",
    "    \"Guadalupe City\": \"Guadalupe Flyer\",\n",
    "    \"Lassen County\": \"Lassen Rural Bus\",\n",
    "    \"Marin County Transit District\": \"Marin Transit\",\n",
    "    \"Madera County\": \"Madera Metro\",\n",
    "    \"Mariposa County\": \"Mariposa Grove Shuttle\",\n",
    "    \"Morro Bay City\": \"Morro Bay Transit\",\n",
    "    \"Norwalk City\": \"Norwalk Transit System\",\n",
    "    \"Roseville City\": \"Roseville Transit\",\n",
    "    \"Sacramento Regional Transit District\": \"Sacramento Regional Transit District Bus\",\n",
    "    \"San Diego City\": \"San Diego Trolley\",\n",
    "    \"San Francisco City\": \"Muni Bus\",\n",
    "    \"Santa Rosa City\": \"Santa Rosa Citybus\",\n",
    "    \"Shafter City\": \"Shafter Dial-A-Ride\",\n",
    "    \"Sierra County\": \"Sierra Point Shuttle\",\n",
    "    \"Simi Valley City\": \"Simi Valley Transit\",\n",
    "    \"Sonoma Marin Area Rail Transit\": \"Sonoma-Marin Area Rail Transit\",\n",
    "    \"Arvin City\": \"Arvin Transit\",\n",
    "    \"Auburn City\": \"Auburn Transit\",\n",
    "    \"County Of Los Angeles - Department Of Public Works\": \"Los Angeles County Transit Services\",\n",
    "    \"County Of Sacramento Department Of Transportation\": \"Sacrt Bus\",\n",
    "    \"Dinuba City\": \"Dinuba Connection\",\n",
    "    \"Lassen Transit Service\": \"Lassen Rural Bus\",\n",
    "    \"Needles City\": \"Needles Area Transit\",\n",
    "    \"Nevada Public Works\": \"County Nevada County Connects\",\n",
    "    \"Ojai City\": \"Ojai Trolley\",\n",
    "    \"Palo Verde Valley Transit\": \"Palos Verdes Peninsula Transit Authority\",\n",
    "    \"Placer County Public Works\": \"Placer County Transit\",\n",
    "    \"Plumas County Transportation Commission\": \"Plumas Transit Systems\",\n",
    "    \"Porterville City\": \"Porterville Transit\",\n",
    "    \"Ridgecrest City\": \"Ridgecrest Transit\",\n",
    "    \"Rio Vista City\": \"Rio Vista Delta Breeze\",\n",
    "    \"Santa Maria City\": \"Santa Maria Regional Transit\",\n",
    "    \"Siskiyou County\": \"Siskiyou Transit And General Express\",\n",
    "    \"Taft City\": \"Taft Area Transit\",\n",
    "    \"Tehama County Transit\": \"Tehama Rural Area Express\",\n",
    "    \"Transportation Trinity County Department\": \"Trinity Transit\",\n",
    "    \"Transit Joint Powers Authority For Merced\": \"County Merced The Bus\",\n",
    "    \"Visalia City\": \"Visilia Transit\",\n",
    "    \"Yolo County Transportation District\": \"Yolobus\",\n",
    "}"
   ]
  },
  {
   "cell_type": "code",
   "execution_count": null,
   "id": "ef38d45c-80c6-493d-8c51-8964c9931a6f",
   "metadata": {
    "tags": []
   },
   "outputs": [],
   "source": [
    "still_need_matches.organization_name = still_need_matches.organization_name.replace(\n",
    "    to_map\n",
    ")"
   ]
  },
  {
   "cell_type": "code",
   "execution_count": null,
   "id": "97a3f907-857a-4aa0-b073-d4fcf28e28e1",
   "metadata": {},
   "outputs": [],
   "source": [
    "still_need_matches.head()"
   ]
  },
  {
   "cell_type": "code",
   "execution_count": null,
   "id": "850e0e98-bf95-404e-a99d-65692f614663",
   "metadata": {},
   "outputs": [],
   "source": [
    "# Concat\n",
    "blackcat_cleaned = pd.concat([found_matches, still_need_matches], axis=0)"
   ]
  },
  {
   "cell_type": "code",
   "execution_count": null,
   "id": "a1eb6f90-c13b-4667-b050-c2c965b2925b",
   "metadata": {
    "tags": []
   },
   "outputs": [],
   "source": [
    "len(blackcat_cleaned)"
   ]
  },
  {
   "cell_type": "code",
   "execution_count": null,
   "id": "45cd063a-4909-4d68-b408-a5061b1d0550",
   "metadata": {},
   "outputs": [],
   "source": [
    "blackcat_cleaned.organization_name = blackcat_cleaned.organization_name.replace(\n",
    "    to_map\n",
    ")"
   ]
  },
  {
   "cell_type": "code",
   "execution_count": null,
   "id": "a8a0ef05-d313-42c9-b518-914612bfd4e7",
   "metadata": {},
   "outputs": [],
   "source": [
    "m3 = pd.merge(\n",
    "    blackcat_cleaned,\n",
    "    airtable5,\n",
    "    how=\"left\",\n",
    "    left_on=\"organization_name\",\n",
    "    right_on=\"name\",\n",
    ")"
   ]
  },
  {
   "cell_type": "code",
   "execution_count": null,
   "id": "646ff258-5f2a-4805-ba24-e01ea19578bf",
   "metadata": {
    "scrolled": true,
    "tags": []
   },
   "outputs": [],
   "source": [
    "m3.service_type = m3.service_type.fillna(\"no service info\")"
   ]
  },
  {
   "cell_type": "code",
   "execution_count": null,
   "id": "c3a3fc82-ff92-43fe-96cc-76feda26600b",
   "metadata": {},
   "outputs": [],
   "source": [
    "m3 = m3.drop(columns=[\"name\"])"
   ]
  },
  {
   "cell_type": "code",
   "execution_count": null,
   "id": "2e0b54ad-8717-4bcd-97e9-b02abd505d84",
   "metadata": {
    "tags": []
   },
   "outputs": [],
   "source": [
    "m3.service_type.value_counts()"
   ]
  },
  {
   "cell_type": "code",
   "execution_count": null,
   "id": "bc5123d0-91fb-4bc9-a14b-5c39d0f977b9",
   "metadata": {
    "scrolled": true,
    "tags": []
   },
   "outputs": [],
   "source": [
    "m3 = m3.fillna(\"NA\")"
   ]
  },
  {
   "cell_type": "code",
   "execution_count": null,
   "id": "078d7f0c-89cd-42f0-b7ac-ec0d0fff3f7a",
   "metadata": {},
   "outputs": [],
   "source": [
    "final_subset = [\n",
    "    \"funding_program\",\n",
    "    \"organization_name\",\n",
    "    \"first_name\",\n",
    "    \"last_name\",\n",
    "    \"email\",\n",
    "    \"phone\",\n",
    "    \"title\",\n",
    "    \"service_type\",\n",
    "]"
   ]
  },
  {
   "cell_type": "code",
   "execution_count": null,
   "id": "f14c0a08-2bd9-4d33-ba96-b51bc5d659cf",
   "metadata": {},
   "outputs": [],
   "source": [
    "m3 = m3[final_subset]"
   ]
  },
  {
   "cell_type": "code",
   "execution_count": null,
   "id": "31d3b68d-fded-475d-9a8d-c7594f82307d",
   "metadata": {},
   "outputs": [],
   "source": [
    "def delete_repeated_element(df, col: str):\n",
    "    df[col] = (\n",
    "        df[col]\n",
    "        .apply(lambda x: \", \".join(set([y.strip() for y in x.split(\",\")])))\n",
    "        .str.strip()\n",
    "    )\n",
    "    return df"
   ]
  },
  {
   "cell_type": "code",
   "execution_count": null,
   "id": "7ab6a273-1f89-4c69-aa0d-ea27bdecdf84",
   "metadata": {},
   "outputs": [],
   "source": [
    "m3.service_type = m3.service_type.str.title()"
   ]
  },
  {
   "cell_type": "code",
   "execution_count": null,
   "id": "b9cf8c61-0be9-4662-b118-8005f50716ce",
   "metadata": {
    "scrolled": true,
    "tags": []
   },
   "outputs": [],
   "source": [
    "m3 = delete_repeated_element(m3, \"funding_program\")"
   ]
  },
  {
   "cell_type": "code",
   "execution_count": null,
   "id": "30becd79-77f3-4316-a715-93e3146c48ae",
   "metadata": {},
   "outputs": [],
   "source": [
    "m3 = m3.drop_duplicates(subset = ['organization_name']).sort_values([\"organization_name\"]).reset_index(drop=True)"
   ]
  },
  {
   "cell_type": "code",
   "execution_count": null,
   "id": "195246bd-cc2c-480d-aed0-1dcf608aeccb",
   "metadata": {},
   "outputs": [],
   "source": [
    "m3.shape, m3.organization_name.nunique()"
   ]
  },
  {
   "cell_type": "code",
   "execution_count": null,
   "id": "5714137a-555b-4ca7-af92-440b6462d71a",
   "metadata": {},
   "outputs": [],
   "source": [
    "m3.head()"
   ]
  },
  {
   "cell_type": "code",
   "execution_count": null,
   "id": "1b31f346-3a43-4a74-bda5-7ecf387d6bd1",
   "metadata": {
    "scrolled": true,
    "tags": []
   },
   "outputs": [],
   "source": [
    "m3.to_excel(f\"{gcs_path}5311_SGR_Recipients.xlsx\")"
   ]
  },
  {
   "cell_type": "code",
   "execution_count": null,
   "id": "aa889b15-faef-453b-a06a-af0382b7a0f4",
   "metadata": {
    "scrolled": true,
    "tags": []
   },
   "outputs": [],
   "source": [
    "m3.organization_name.tolist()"
   ]
  }
 ],
 "metadata": {
  "kernelspec": {
   "display_name": "Python 3 (ipykernel)",
   "language": "python",
   "name": "python3"
  },
  "language_info": {
   "codemirror_mode": {
    "name": "ipython",
    "version": 3
   },
   "file_extension": ".py",
   "mimetype": "text/x-python",
   "name": "python",
   "nbconvert_exporter": "python",
   "pygments_lexer": "ipython3",
   "version": "3.9.13"
  }
 },
 "nbformat": 4,
 "nbformat_minor": 5
}
