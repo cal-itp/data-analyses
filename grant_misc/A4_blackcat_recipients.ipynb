{
 "cells": [
  {
   "cell_type": "markdown",
   "id": "f4ef8520-3087-4a0d-a347-a4058fa76dda",
   "metadata": {},
   "source": [
    "## BlackCat Organizations\n",
    "5/19\n",
    "* Most recent records\n",
    "* Transit agencies that have fixed-route services (more than the vendors contracted to  provide dial-a-ride / paratransit services—I recall there being a bunch of those in the  BlackCat export I got last year).\n",
    "* 5311, SGR then + Clovis"
   ]
  },
  {
   "cell_type": "code",
   "execution_count": 2,
   "id": "1c846d88-a056-4de3-be10-cd1ff524365e",
   "metadata": {},
   "outputs": [
    {
     "name": "stderr",
     "output_type": "stream",
     "text": [
      "/opt/conda/lib/python3.9/site-packages/geopandas/_compat.py:123: UserWarning: The Shapely GEOS version (3.11.1-CAPI-1.17.1) is incompatible with the GEOS version PyGEOS was compiled with (3.10.1-CAPI-1.16.0). Conversions between both will be slow.\n",
      "  warnings.warn(\n",
      "/opt/conda/lib/python3.9/site-packages/google/cloud/bigquery/table.py:43: UserWarning: Shapely 2.0 is installed, but because PyGEOS is also installed, GeoPandas will still use PyGEOS by default for now. To force to use and test Shapely 2.0, you have to set the environment variable USE_PYGEOS=0. You can do this before starting the Python process, or in your code before importing geopandas:\n",
      "\n",
      "import os\n",
      "os.environ['USE_PYGEOS'] = '0'\n",
      "import geopandas\n",
      "\n",
      "In a future release, GeoPandas will switch to using Shapely by default. If you are using PyGEOS directly (calling PyGEOS functions on geometries from GeoPandas), this will then stop working and you are encouraged to migrate from PyGEOS to Shapely 2.0 (https://shapely.readthedocs.io/en/latest/migration_pygeos.html).\n",
      "  import geopandas  # type: ignore\n",
      "/opt/conda/lib/python3.9/site-packages/fuzzywuzzy/fuzz.py:11: UserWarning: Using slow pure-python SequenceMatcher. Install python-Levenshtein to remove this warning\n",
      "  warnings.warn('Using slow pure-python SequenceMatcher. Install python-Levenshtein to remove this warning')\n"
     ]
    }
   ],
   "source": [
    "import pandas as pd\n",
    "from calitp_data_analysis.sql import to_snakecase\n",
    "import siuba  # need this to do type hint in functions\n",
    "from calitp_data_analysis.tables import tbls\n",
    "from siuba import *\n",
    "import fuzzywuzzy\n",
    "from fuzzywuzzy import process"
   ]
  },
  {
   "cell_type": "code",
   "execution_count": null,
   "id": "7431e6ff-1189-4e16-8e99-f9cd422263fd",
   "metadata": {},
   "outputs": [],
   "source": []
  },
  {
   "cell_type": "code",
   "execution_count": 3,
   "id": "9966ce0b-b18d-4785-b5d4-9c46e1c2339a",
   "metadata": {},
   "outputs": [],
   "source": [
    "pd.options.display.max_columns = 100\n",
    "pd.options.display.float_format = \"{:.2f}\".format\n",
    "pd.set_option(\"display.max_rows\", None)\n",
    "pd.set_option(\"display.max_colwidth\", None)"
   ]
  },
  {
   "cell_type": "code",
   "execution_count": 4,
   "id": "29efcbc3-ebbb-468a-bf05-66cfb25d1a66",
   "metadata": {},
   "outputs": [],
   "source": [
    "gcs_path = \"gs://calitp-analytics-data/data-analyses/grant_misc/\""
   ]
  },
  {
   "cell_type": "code",
   "execution_count": 5,
   "id": "48231255-5d18-4dae-a731-e2ac89ba8b11",
   "metadata": {},
   "outputs": [],
   "source": [
    "blackcat = to_snakecase(pd.read_excel(f\"{gcs_path}BlackCat_Grants_Projects_5_22_23.xlsx\"))"
   ]
  },
  {
   "cell_type": "code",
   "execution_count": 6,
   "id": "3bc9df48-cb48-4d30-90f6-205e6bc27160",
   "metadata": {},
   "outputs": [
    {
     "data": {
      "text/html": [
       "<div>\n",
       "<style scoped>\n",
       "    .dataframe tbody tr th:only-of-type {\n",
       "        vertical-align: middle;\n",
       "    }\n",
       "\n",
       "    .dataframe tbody tr th {\n",
       "        vertical-align: top;\n",
       "    }\n",
       "\n",
       "    .dataframe thead th {\n",
       "        text-align: right;\n",
       "    }\n",
       "</style>\n",
       "<table border=\"1\" class=\"dataframe\">\n",
       "  <thead>\n",
       "    <tr style=\"text-align: right;\">\n",
       "      <th></th>\n",
       "      <th>grant_fiscal_year</th>\n",
       "      <th>funding_program</th>\n",
       "      <th>grant_number</th>\n",
       "      <th>project_year</th>\n",
       "      <th>organization_name</th>\n",
       "      <th>upin</th>\n",
       "      <th>description</th>\n",
       "      <th>ali</th>\n",
       "      <th>contract_number</th>\n",
       "      <th>allocationamount</th>\n",
       "      <th>grant_encumbered_amount</th>\n",
       "      <th>local_encumbered_amount</th>\n",
       "      <th>total_encumbered_amount</th>\n",
       "      <th>expendedamount</th>\n",
       "      <th>activebalance</th>\n",
       "      <th>closedoutbalance</th>\n",
       "      <th>project_status</th>\n",
       "      <th>project_closed_by</th>\n",
       "      <th>project_closed_date</th>\n",
       "      <th>project_closed_time</th>\n",
       "    </tr>\n",
       "  </thead>\n",
       "  <tbody>\n",
       "    <tr>\n",
       "      <th>1031</th>\n",
       "      <td>2018</td>\n",
       "      <td>Section 5311</td>\n",
       "      <td>CA-2018-114 | 0019000012</td>\n",
       "      <td>2018</td>\n",
       "      <td>Yuba-Sutter Transit Authority</td>\n",
       "      <td>BCG0001250</td>\n",
       "      <td>Operating Assistance Sliding Scale</td>\n",
       "      <td>300902</td>\n",
       "      <td>64BO19-00828</td>\n",
       "      <td>200000.00</td>\n",
       "      <td>200000.00</td>\n",
       "      <td>161475.00</td>\n",
       "      <td>361475.00</td>\n",
       "      <td>200000.00</td>\n",
       "      <td>0.00</td>\n",
       "      <td>0.00</td>\n",
       "      <td>Open</td>\n",
       "      <td>NaN</td>\n",
       "      <td>NaN</td>\n",
       "      <td>NaN</td>\n",
       "    </tr>\n",
       "  </tbody>\n",
       "</table>\n",
       "</div>"
      ],
      "text/plain": [
       "      grant_fiscal_year funding_program              grant_number  \\\n",
       "1031               2018    Section 5311  CA-2018-114 | 0019000012   \n",
       "\n",
       "      project_year              organization_name        upin  \\\n",
       "1031          2018  Yuba-Sutter Transit Authority  BCG0001250   \n",
       "\n",
       "                              description     ali contract_number  \\\n",
       "1031  Operating Assistance Sliding Scale   300902    64BO19-00828   \n",
       "\n",
       "      allocationamount  grant_encumbered_amount  local_encumbered_amount  \\\n",
       "1031         200000.00                200000.00                161475.00   \n",
       "\n",
       "      total_encumbered_amount  expendedamount  activebalance  \\\n",
       "1031                361475.00       200000.00           0.00   \n",
       "\n",
       "      closedoutbalance project_status  project_closed_by  project_closed_date  \\\n",
       "1031              0.00           Open                NaN                  NaN   \n",
       "\n",
       "      project_closed_time  \n",
       "1031                  NaN  "
      ]
     },
     "execution_count": 6,
     "metadata": {},
     "output_type": "execute_result"
    }
   ],
   "source": [
    "blackcat.sample()"
   ]
  },
  {
   "cell_type": "code",
   "execution_count": 7,
   "id": "388124a8-cb7f-4aef-be38-c916515a2c16",
   "metadata": {},
   "outputs": [
    {
     "data": {
      "text/plain": [
       "(3145, 20)"
      ]
     },
     "execution_count": 7,
     "metadata": {},
     "output_type": "execute_result"
    }
   ],
   "source": [
    "blackcat.shape"
   ]
  },
  {
   "cell_type": "code",
   "execution_count": 8,
   "id": "83395988-075e-4fc6-90b9-765f91b7f18d",
   "metadata": {},
   "outputs": [],
   "source": [
    "# Filter grant fiscal year\n",
    "blackcat2 = blackcat[blackcat.grant_fiscal_year >= 2018].reset_index(drop = True)"
   ]
  },
  {
   "cell_type": "code",
   "execution_count": 9,
   "id": "58a81789-028f-4d29-8834-c4e3ef1f8715",
   "metadata": {},
   "outputs": [
    {
     "data": {
      "text/plain": [
       "((2265, 20),\n",
       " 2019    885\n",
       " 2021    672\n",
       " 2020    339\n",
       " 2022    207\n",
       " 2018    162\n",
       " Name: grant_fiscal_year, dtype: int64)"
      ]
     },
     "execution_count": 9,
     "metadata": {},
     "output_type": "execute_result"
    }
   ],
   "source": [
    "blackcat2.shape, blackcat2.grant_fiscal_year.value_counts()"
   ]
  },
  {
   "cell_type": "code",
   "execution_count": 10,
   "id": "38b67551-c803-45c9-8be6-a25e6150cf10",
   "metadata": {},
   "outputs": [
    {
     "data": {
      "text/plain": [
       "Index(['grant_fiscal_year', 'funding_program', 'grant_number', 'project_year',\n",
       "       'organization_name', 'upin', 'description', 'ali', 'contract_number',\n",
       "       'allocationamount', 'grant_encumbered_amount',\n",
       "       'local_encumbered_amount', 'total_encumbered_amount', 'expendedamount',\n",
       "       'activebalance', 'closedoutbalance', 'project_status',\n",
       "       'project_closed_by', 'project_closed_date', 'project_closed_time'],\n",
       "      dtype='object')"
      ]
     },
     "execution_count": 10,
     "metadata": {},
     "output_type": "execute_result"
    }
   ],
   "source": [
    "blackcat2.columns"
   ]
  },
  {
   "cell_type": "code",
   "execution_count": 11,
   "id": "f23e4dfa-825e-499c-b143-06171269b73d",
   "metadata": {},
   "outputs": [],
   "source": [
    "grants_subset = ['5311(f) Cont',  'CMAQ (FTA 5311)',\n",
    "       'Section 5311', '5311(f) Round 2',\n",
    "       '5339 (State)', 'Section 5311(f)']"
   ]
  },
  {
   "cell_type": "code",
   "execution_count": 12,
   "id": "938432ce-3c02-45bf-8423-731eebf12c25",
   "metadata": {},
   "outputs": [],
   "source": [
    "blackcat2 = blackcat2[blackcat2.funding_program.isin(grants_subset)]"
   ]
  },
  {
   "cell_type": "code",
   "execution_count": 13,
   "id": "c4a15cc9-2cb1-4136-9a65-78366231bf9a",
   "metadata": {},
   "outputs": [],
   "source": [
    "# Subset to only organizations\n",
    "organizations = blackcat2[['organization_name']].sort_values(by = ['organization_name']).drop_duplicates().reset_index(drop = True)"
   ]
  },
  {
   "cell_type": "code",
   "execution_count": 14,
   "id": "88a62cec-6aba-428f-9f9b-7b25d9332962",
   "metadata": {},
   "outputs": [
    {
     "data": {
      "text/plain": [
       "92"
      ]
     },
     "execution_count": 14,
     "metadata": {},
     "output_type": "execute_result"
    }
   ],
   "source": [
    "len(organizations)"
   ]
  },
  {
   "cell_type": "markdown",
   "id": "46e5cdab-f5d1-4a0f-ae34-34d0fcadedc8",
   "metadata": {},
   "source": [
    "### Airtable\n",
    "* Grab only fixed route providers."
   ]
  },
  {
   "cell_type": "code",
   "execution_count": 15,
   "id": "189d0256-5a21-469c-8746-0da00c242923",
   "metadata": {},
   "outputs": [],
   "source": [
    "airtable = (tbls.external_airtable.california_transit__services() >> collect () )"
   ]
  },
  {
   "cell_type": "code",
   "execution_count": 16,
   "id": "305b3bb0-3ded-49d4-bba2-3ab8afa6ca22",
   "metadata": {},
   "outputs": [],
   "source": [
    "# airtable.columns"
   ]
  },
  {
   "cell_type": "code",
   "execution_count": 17,
   "id": "3554357d-08fb-4028-9c90-7ef508f478ee",
   "metadata": {},
   "outputs": [],
   "source": [
    "# ['name','service_type', 'service_operator_type', 'operator_organization_type']\n",
    "airtable_subset = ['name','service_type']"
   ]
  },
  {
   "cell_type": "code",
   "execution_count": 18,
   "id": "f7add568-f19b-42e1-89ec-d570c7873760",
   "metadata": {},
   "outputs": [],
   "source": [
    "airtable2 = airtable[airtable_subset]"
   ]
  },
  {
   "cell_type": "code",
   "execution_count": 19,
   "id": "a242ebff-a484-4d6a-9206-f27c9fc3a3be",
   "metadata": {},
   "outputs": [
    {
     "data": {
      "text/plain": [
       "994"
      ]
     },
     "execution_count": 19,
     "metadata": {},
     "output_type": "execute_result"
    }
   ],
   "source": [
    "airtable2.name.nunique()"
   ]
  },
  {
   "cell_type": "code",
   "execution_count": 20,
   "id": "58d547be-66a7-4d92-b81c-bd6273da3ebc",
   "metadata": {},
   "outputs": [
    {
     "name": "stdout",
     "output_type": "stream",
     "text": [
      "<class 'pandas.core.frame.DataFrame'>\n",
      "RangeIndex: 290450 entries, 0 to 290449\n",
      "Data columns (total 2 columns):\n",
      " #   Column        Non-Null Count   Dtype \n",
      "---  ------        --------------   ----- \n",
      " 0   name          290449 non-null  object\n",
      " 1   service_type  290450 non-null  object\n",
      "dtypes: object(2)\n",
      "memory usage: 4.4+ MB\n"
     ]
    }
   ],
   "source": [
    "airtable2.info()"
   ]
  },
  {
   "cell_type": "code",
   "execution_count": 21,
   "id": "4f5f7aed-378e-4199-9fa0-3907c101bc87",
   "metadata": {},
   "outputs": [
    {
     "data": {
      "text/html": [
       "<div>\n",
       "<style scoped>\n",
       "    .dataframe tbody tr th:only-of-type {\n",
       "        vertical-align: middle;\n",
       "    }\n",
       "\n",
       "    .dataframe tbody tr th {\n",
       "        vertical-align: top;\n",
       "    }\n",
       "\n",
       "    .dataframe thead th {\n",
       "        text-align: right;\n",
       "    }\n",
       "</style>\n",
       "<table border=\"1\" class=\"dataframe\">\n",
       "  <thead>\n",
       "    <tr style=\"text-align: right;\">\n",
       "      <th></th>\n",
       "      <th>name</th>\n",
       "      <th>service_type</th>\n",
       "    </tr>\n",
       "  </thead>\n",
       "  <tbody>\n",
       "    <tr>\n",
       "      <th>14497</th>\n",
       "      <td>Laguna Niguel Senior Mobility Program</td>\n",
       "      <td>[on-demand, NEMT]</td>\n",
       "    </tr>\n",
       "    <tr>\n",
       "      <th>107385</th>\n",
       "      <td>Laguna Niguel Senior Mobility Program</td>\n",
       "      <td>[on-demand, NEMT]</td>\n",
       "    </tr>\n",
       "    <tr>\n",
       "      <th>9415</th>\n",
       "      <td>Laguna Niguel Senior Mobility Program</td>\n",
       "      <td>[on-demand, NEMT]</td>\n",
       "    </tr>\n",
       "    <tr>\n",
       "      <th>22961</th>\n",
       "      <td>Laguna Niguel Senior Mobility Program</td>\n",
       "      <td>[on-demand, NEMT]</td>\n",
       "    </tr>\n",
       "    <tr>\n",
       "      <th>185196</th>\n",
       "      <td>Laguna Niguel Senior Mobility Program</td>\n",
       "      <td>[on-demand, NEMT]</td>\n",
       "    </tr>\n",
       "  </tbody>\n",
       "</table>\n",
       "</div>"
      ],
      "text/plain": [
       "                                          name       service_type\n",
       "14497    Laguna Niguel Senior Mobility Program  [on-demand, NEMT]\n",
       "107385   Laguna Niguel Senior Mobility Program  [on-demand, NEMT]\n",
       "9415     Laguna Niguel Senior Mobility Program  [on-demand, NEMT]\n",
       "22961    Laguna Niguel Senior Mobility Program  [on-demand, NEMT]\n",
       "185196   Laguna Niguel Senior Mobility Program  [on-demand, NEMT]"
      ]
     },
     "execution_count": 21,
     "metadata": {},
     "output_type": "execute_result"
    }
   ],
   "source": [
    "airtable2.sort_values(['name']).head()"
   ]
  },
  {
   "cell_type": "code",
   "execution_count": 22,
   "id": "92c44c72-3e9c-4bb9-a41c-9b03dc95d9ef",
   "metadata": {},
   "outputs": [],
   "source": [
    "airtable3 = airtable2.explode('service_type').reset_index(drop = True)"
   ]
  },
  {
   "cell_type": "code",
   "execution_count": 23,
   "id": "db380ee3-0434-441e-9b57-1bed1d527bd8",
   "metadata": {},
   "outputs": [
    {
     "data": {
      "text/html": [
       "<div>\n",
       "<style scoped>\n",
       "    .dataframe tbody tr th:only-of-type {\n",
       "        vertical-align: middle;\n",
       "    }\n",
       "\n",
       "    .dataframe tbody tr th {\n",
       "        vertical-align: top;\n",
       "    }\n",
       "\n",
       "    .dataframe thead th {\n",
       "        text-align: right;\n",
       "    }\n",
       "</style>\n",
       "<table border=\"1\" class=\"dataframe\">\n",
       "  <thead>\n",
       "    <tr style=\"text-align: right;\">\n",
       "      <th></th>\n",
       "      <th>name</th>\n",
       "      <th>service_type</th>\n",
       "    </tr>\n",
       "  </thead>\n",
       "  <tbody>\n",
       "    <tr>\n",
       "      <th>0</th>\n",
       "      <td>Topanga Beach Bus</td>\n",
       "      <td>fixed-route</td>\n",
       "    </tr>\n",
       "    <tr>\n",
       "      <th>1</th>\n",
       "      <td>St Pauls PACE</td>\n",
       "      <td>NEMT</td>\n",
       "    </tr>\n",
       "    <tr>\n",
       "      <th>2</th>\n",
       "      <td>Dodge Ridge Ski Bus</td>\n",
       "      <td>deviated fixed-route</td>\n",
       "    </tr>\n",
       "    <tr>\n",
       "      <th>3</th>\n",
       "      <td>Dodge Ridge Ski Bus</td>\n",
       "      <td>reservations</td>\n",
       "    </tr>\n",
       "    <tr>\n",
       "      <th>4</th>\n",
       "      <td>SacRT GO</td>\n",
       "      <td>ADA paratransit</td>\n",
       "    </tr>\n",
       "  </tbody>\n",
       "</table>\n",
       "</div>"
      ],
      "text/plain": [
       "                  name          service_type\n",
       "0    Topanga Beach Bus           fixed-route\n",
       "1        St Pauls PACE                  NEMT\n",
       "2  Dodge Ridge Ski Bus  deviated fixed-route\n",
       "3  Dodge Ridge Ski Bus          reservations\n",
       "4             SacRT GO       ADA paratransit"
      ]
     },
     "execution_count": 23,
     "metadata": {},
     "output_type": "execute_result"
    }
   ],
   "source": [
    "airtable3.head()"
   ]
  },
  {
   "cell_type": "code",
   "execution_count": 24,
   "id": "8ff8f31b-8e84-4c9e-8b83-6ff5f4252538",
   "metadata": {},
   "outputs": [],
   "source": [
    "airtable3.service_type = airtable3.service_type.fillna('NA')"
   ]
  },
  {
   "cell_type": "code",
   "execution_count": 25,
   "id": "8b5e207e-441e-45f3-ac42-f8efcce39b0b",
   "metadata": {},
   "outputs": [],
   "source": [
    "# fixed route only\n",
    "airtable4 = airtable3[airtable3.service_type.str.lower().str.contains('fixed')]"
   ]
  },
  {
   "cell_type": "code",
   "execution_count": 26,
   "id": "8c66dc12-d924-4c08-9f07-32087ee30cea",
   "metadata": {},
   "outputs": [
    {
     "data": {
      "text/plain": [
       "136164"
      ]
     },
     "execution_count": 26,
     "metadata": {},
     "output_type": "execute_result"
    }
   ],
   "source": [
    "len(airtable4)"
   ]
  },
  {
   "cell_type": "code",
   "execution_count": 27,
   "id": "f4d73d37-89d9-445c-863b-dfbc767edb16",
   "metadata": {},
   "outputs": [],
   "source": [
    "airtable5 = airtable4.drop_duplicates(['name']).sort_values(by = ['name']).reset_index(drop = True)"
   ]
  },
  {
   "cell_type": "markdown",
   "id": "00fe5ba0-e7b7-49ac-a0b1-fe0e7d0bdcbd",
   "metadata": {},
   "source": [
    "### Merge"
   ]
  },
  {
   "cell_type": "code",
   "execution_count": 28,
   "id": "761339eb-24bc-4ba6-a130-64f494fd4c9e",
   "metadata": {},
   "outputs": [],
   "source": [
    "def clean_punctuation(df, agency_col: str) -> pd.DataFrame:\n",
    "    \"\"\"\n",
    "    Cleans up agency names. Assume anything after comma/()/\n",
    "    ; are acronyms and delete them. Correct certain mispellings.\n",
    "    Change agency names to title case. Clean whitespaces.\n",
    "    \"\"\"\n",
    "    df[agency_col] = (\n",
    "        df[agency_col]\n",
    "        .str.strip()\n",
    "        .str.split(\",\")\n",
    "        .str[0]\n",
    "        .str.replace(\"/\", \"\")\n",
    "        .str.split(\"(\")\n",
    "        .str[0]\n",
    "        .str.split(\"/\")\n",
    "        .str[0]\n",
    "        .str.split(\";\")\n",
    "        .str[0]\n",
    "        .str.title()\n",
    "        .str.replace(\"Trasit\", \"Transit\")\n",
    "        .str.replace(\"*\",\"\")\n",
    "        .str.replace(\"Agency\",\"\")\n",
    "        .str.strip() #strip whitespaces again after getting rid of certain things\n",
    "    )\n",
    "    return df\n"
   ]
  },
  {
   "cell_type": "code",
   "execution_count": 29,
   "id": "bcf7f94d-9b09-4d02-85b0-289938edff15",
   "metadata": {},
   "outputs": [],
   "source": [
    "def flip_county_city(df, agency_col:str):\n",
    "    # https://github.com/cal-itp/data-analyses/blob/main/Agreement_Overlap/add_dla.ipynb\n",
    "    to_correct = df[(df[agency_col].str.contains('County')) | (df[agency_col].str.contains('City'))]\n",
    "    to_correct = to_correct[[agency_col]].drop_duplicates().reset_index(drop = True)\n",
    "    to_correct['str_len'] = to_correct[agency_col].str.split().str.len()\n",
    "    to_correct = to_correct[to_correct.str_len <= 5 ].reset_index(drop = True)\n",
    "    to_correct[['name_pt1', 'name_pt2']] = to_correct[agency_col].str.split(' Of ', 1, expand=True)\n",
    "    to_correct['new_name'] = to_correct['name_pt2'] + ' ' + to_correct['name_pt1']\n",
    "    \n",
    "    new_names_dictionary = (dict(to_correct[[agency_col, 'new_name']].values))\n",
    "    df['agency_corrected'] = df[agency_col].map(new_names_dictionary)\n",
    "    df['agency_corrected'] = df['agency_corrected'].fillna(df[agency_col])\n",
    "    \n",
    "    df = df.drop(columns = [agency_col])\n",
    "    df = df.rename(columns = {\"agency_corrected\":agency_col})\n",
    "    \n",
    "    return df "
   ]
  },
  {
   "cell_type": "code",
   "execution_count": 30,
   "id": "d5d6a9cb-c457-4dcc-9172-1c6dc30eef9d",
   "metadata": {},
   "outputs": [],
   "source": [
    "def clean_organization_names(df, agency_col:str):\n",
    "    df = clean_punctuation(df, agency_col)\n",
    "    df = flip_county_city(df, agency_col)\n",
    "    return df"
   ]
  },
  {
   "cell_type": "code",
   "execution_count": 31,
   "id": "08f27268-fb3d-4e8b-96ba-0ddaef547525",
   "metadata": {},
   "outputs": [
    {
     "name": "stderr",
     "output_type": "stream",
     "text": [
      "/tmp/ipykernel_873/471032557.py:8: FutureWarning: The default value of regex will change from True to False in a future version. In addition, single character regular expressions will *not* be treated as literal strings when regex=True.\n",
      "  df[agency_col]\n",
      "/tmp/ipykernel_873/4031254020.py:7: FutureWarning: In a future version of pandas all arguments of StringMethods.split except for the argument 'pat' will be keyword-only.\n",
      "  to_correct[['name_pt1', 'name_pt2']] = to_correct[agency_col].str.split(' Of ', 1, expand=True)\n"
     ]
    }
   ],
   "source": [
    "airtable5 = clean_organization_names(airtable5, 'name')"
   ]
  },
  {
   "cell_type": "code",
   "execution_count": 32,
   "id": "c1db1302-7133-478a-bfa3-59cf911deaf0",
   "metadata": {},
   "outputs": [
    {
     "name": "stderr",
     "output_type": "stream",
     "text": [
      "/tmp/ipykernel_873/471032557.py:8: FutureWarning: The default value of regex will change from True to False in a future version. In addition, single character regular expressions will *not* be treated as literal strings when regex=True.\n",
      "  df[agency_col]\n",
      "/tmp/ipykernel_873/4031254020.py:7: FutureWarning: In a future version of pandas all arguments of StringMethods.split except for the argument 'pat' will be keyword-only.\n",
      "  to_correct[['name_pt1', 'name_pt2']] = to_correct[agency_col].str.split(' Of ', 1, expand=True)\n"
     ]
    }
   ],
   "source": [
    "organizations = clean_organization_names(organizations, 'organization_name')"
   ]
  },
  {
   "cell_type": "code",
   "execution_count": 33,
   "id": "5a160d90-85a1-4d93-ae67-1baf1cb216f0",
   "metadata": {},
   "outputs": [],
   "source": [
    "def replace_matches_set_ratio(df, column, new_col_name, string_to_match, min_ratio):\n",
    "    # Get a list of unique strings\n",
    "    strings = df[column].unique()\n",
    "\n",
    "    # Get the top 10 closest matches to our input string\n",
    "    matches = fuzzywuzzy.process.extract(\n",
    "        string_to_match, strings, limit=10, scorer=fuzzywuzzy.fuzz.token_set_ratio\n",
    "    )\n",
    "\n",
    "    # Only get matches with a  min ratio\n",
    "    close_matches = [matches[0] for matches in matches if matches[1] > min_ratio]\n",
    "\n",
    "    # Get the rows of all the close matches in our dataframe\n",
    "    rows_with_matches = df[column].isin(close_matches)\n",
    "\n",
    "    # replace all rows with close matches with the input matches\n",
    "    df.loc[rows_with_matches, new_col_name] = string_to_match"
   ]
  },
  {
   "cell_type": "code",
   "execution_count": 42,
   "id": "2776f784-07d9-4d4c-b79e-f78054d9e991",
   "metadata": {},
   "outputs": [],
   "source": [
    "def find_fuzzy_match(df1, df2, df1_fuzzy_column:str, df2_fuzzy_column:str, new_column:str, min_ratio:int):\n",
    "    unique_values = df1[df1_fuzzy_column].unique().tolist()\n",
    "    for i in unique_values:\n",
    "        replace_matches_set_ratio(df2, df2_fuzzy_column, new_column, i, min_ratio)\n",
    "    return df2"
   ]
  },
  {
   "cell_type": "code",
   "execution_count": 46,
   "id": "bb9870e9-17bc-4496-b2ee-ff14e384cbd2",
   "metadata": {},
   "outputs": [],
   "source": [
    "organizations = find_fuzzy_match(airtable5, organizations, 'name', 'organization_name','fuzzy_agency', 95)"
   ]
  },
  {
   "cell_type": "code",
   "execution_count": 88,
   "id": "f87e5a94-e175-4d89-bbfe-a2c6357f55bb",
   "metadata": {},
   "outputs": [
    {
     "data": {
      "text/plain": [
       "'\\nfor i in airtable5.name.unique().tolist():\\n       replace_matches_set_ratio(\\n        organizations, \"organization_name\", \"project_name_fuzzy\", i, 95) '"
      ]
     },
     "execution_count": 88,
     "metadata": {},
     "output_type": "execute_result"
    }
   ],
   "source": [
    "# Reverse -> replace \n",
    "\"\"\"\n",
    "for i in airtable5.name.unique().tolist():\n",
    "       replace_matches_set_ratio(\n",
    "        organizations, \"organization_name\", \"project_name_fuzzy\", i, 95) \"\"\""
   ]
  },
  {
   "cell_type": "code",
   "execution_count": 89,
   "id": "74128098-bb44-4288-a5ba-aaa405b4da67",
   "metadata": {},
   "outputs": [],
   "source": [
    "#Fuzzy matches that didn't work\n",
    "# Use organization name\n",
    "fuzzy_matches_to_filter = ['Eastern Contra Costa Transit Authority', 'Livermore Amador Valley Transit Authority','Calaveras Transit' ,'City Of Corcoran - Corcoran Area Transit',]"
   ]
  },
  {
   "cell_type": "code",
   "execution_count": 90,
   "id": "48283f01-fbc5-419f-8547-77d78e199c09",
   "metadata": {},
   "outputs": [],
   "source": [
    "# These are the fuzzy matches that worked.\n",
    "found_matches = (organizations[((~organizations.fuzzy_agency.isna()) & ~(organizations.fuzzy_agency.isin(fuzzy_matches_to_filter)))]).reset_index(drop = True)"
   ]
  },
  {
   "cell_type": "code",
   "execution_count": 91,
   "id": "8d6fe94b-3291-45c7-831a-f3df3b1edc29",
   "metadata": {
    "tags": []
   },
   "outputs": [
    {
     "data": {
      "text/plain": [
       "(53, 2)"
      ]
     },
     "execution_count": 91,
     "metadata": {},
     "output_type": "execute_result"
    }
   ],
   "source": [
    "found_matches.shape"
   ]
  },
  {
   "cell_type": "code",
   "execution_count": 92,
   "id": "e26b999d-e14f-4417-b76b-0771ff8b79dc",
   "metadata": {
    "scrolled": true,
    "tags": []
   },
   "outputs": [],
   "source": [
    "still_need_matches = organizations[~organizations.organization_name.isin(found_matches.organization_name.tolist())][['organization_name']]"
   ]
  },
  {
   "cell_type": "markdown",
   "id": "579ef96a-9ede-4829-872c-7eb0e145f55b",
   "metadata": {},
   "source": [
    "* Calaveras Transit change to Calaveras Connect\n",
    "* Arvin City  Arvin Transit\n",
    "* Auburn City Auburn Transit\n",
    "* County Of Los Angeles - Department Of Public Works, Los Angeles County Transit Services\n",
    "* 34\tCounty Of Sacramento Department Of Transportation Sacrt Bus\n",
    "* County Of Shasta Department Of Public Works\n",
    "* Dinuba City Dinuba Connection\n",
    "* Lassen Transit Service Lassen Rural Bus\n",
    "* Needles City  Needles Area Transit\n",
    "* Nevada Public Works County Nevada County Connects\n",
    "* Ojai City Ojai Trolley\n",
    "* Palo Verde Valley Transit Palos Verdes Peninsula Transit Authority\n",
    "* Placer County Public Works Placer County Transit\n",
    "* Plumas County Transportation Commission Plumas Transit Systems\n",
    "* Porterville City  Porterville Transit\n",
    "* Ridgecrest City Ridgecrest Transit\n",
    "* Rio Vista City Rio Vista Delta Breeze\n",
    "* Santa Maria City Santa Maria Regional Transit\n",
    "* Siskiyou County Siskiyou Transit And General Express\n",
    "* Stanislaus County Public Works - Transit Division  Stanislaus Regional Transit Authority\n",
    "* Taft City Taft Area Transit\n",
    "* Tehama County Transit  Tehama Rural Area Express\n",
    "* Transportation Trinity County Department Trinity Transit\n",
    "* Transit Joint Powers Authority For Merced County Merced The Bus\n",
    "* Visalia City Visilia Transit\n",
    "* Yolo County Transportation District Yolobus\n"
   ]
  },
  {
   "cell_type": "code",
   "execution_count": 93,
   "id": "19af782c-8cf1-443c-9d32-c88c45e0ac6b",
   "metadata": {},
   "outputs": [],
   "source": [
    "to_map = {'Calaveras Transit':'Calaveras Connect',\n",
    "'Arvin City': 'Arvin Transit',\n",
    "'Auburn City': 'Auburn Transit',\n",
    "'County Of Los Angeles - Department Of Public Works': 'Los Angeles County Transit Services',\n",
    "'County Of Sacramento Department Of Transportation' :'Sacrt Bus',\n",
    "'Dinuba City': 'Dinuba Connection',\n",
    "'Lassen Transit Service' :'Lassen Rural Bus',\n",
    "'Needles City': 'Needles Area Transit',\n",
    "'Nevada Public Works' :'County Nevada County Connects',\n",
    "'Ojai City' :'Ojai Trolley',\n",
    "'Palo Verde Valley Transit': 'Palos Verdes Peninsula Transit Authority',\n",
    "'Placer County Public Works': 'Placer County Transit',\n",
    "'Plumas County Transportation Commission' :'Plumas Transit Systems',\n",
    "'Porterville City' :'Porterville Transit',\n",
    "'Ridgecrest City': 'Ridgecrest Transit',\n",
    "'Rio Vista City' :'Rio Vista Delta Breeze',\n",
    "'Santa Maria City' :'Santa Maria Regional Transit',\n",
    "'Siskiyou County': 'Siskiyou Transit And General Express',\n",
    "'Stanislaus County Public Works - Transit Division' :'Stanislaus Regional Transit Authority',\n",
    "'Taft City': 'Taft Area Transit',\n",
    "'Tehama County Transit'  :'Tehama Rural Area Express',\n",
    "'Transportation Trinity County Department' :'Trinity Transit',\n",
    "'Transit Joint Powers Authority For Merced' :'County Merced The Bus',\n",
    "'Visalia City': 'Visilia Transit',\n",
    "'Yolo County Transportation District' :'Yolobus'}"
   ]
  },
  {
   "cell_type": "code",
   "execution_count": 94,
   "id": "ef38d45c-80c6-493d-8c51-8964c9931a6f",
   "metadata": {
    "scrolled": true,
    "tags": []
   },
   "outputs": [],
   "source": [
    "still_need_matches.organization_name = still_need_matches.organization_name.replace(to_map)"
   ]
  },
  {
   "cell_type": "code",
   "execution_count": 95,
   "id": "4b84d044-9eb6-46ed-b510-ade4d0e3c352",
   "metadata": {},
   "outputs": [],
   "source": [
    "found_matches = found_matches.drop(columns = ['organization_name']).rename(columns = {'fuzzy_agency':'organization_name'}) "
   ]
  },
  {
   "cell_type": "code",
   "execution_count": 97,
   "id": "850e0e98-bf95-404e-a99d-65692f614663",
   "metadata": {},
   "outputs": [],
   "source": [
    "# Concat\n",
    "blackcat_cleaned = pd.concat([found_matches, still_need_matches], axis=0)"
   ]
  },
  {
   "cell_type": "code",
   "execution_count": 98,
   "id": "a1eb6f90-c13b-4667-b050-c2c965b2925b",
   "metadata": {
    "tags": []
   },
   "outputs": [
    {
     "data": {
      "text/plain": [
       "92"
      ]
     },
     "execution_count": 98,
     "metadata": {},
     "output_type": "execute_result"
    }
   ],
   "source": [
    "len(blackcat_cleaned)"
   ]
  },
  {
   "cell_type": "code",
   "execution_count": 99,
   "id": "a8a0ef05-d313-42c9-b518-914612bfd4e7",
   "metadata": {},
   "outputs": [],
   "source": [
    "m1 = pd.merge(blackcat_cleaned, airtable5, how = 'left', left_on = 'organization_name', right_on = 'name')"
   ]
  },
  {
   "cell_type": "code",
   "execution_count": 100,
   "id": "646ff258-5f2a-4805-ba24-e01ea19578bf",
   "metadata": {
    "scrolled": true,
    "tags": []
   },
   "outputs": [],
   "source": [
    "m1.service_type = m1.service_type.fillna('No Service Info')"
   ]
  },
  {
   "cell_type": "code",
   "execution_count": 101,
   "id": "c3a3fc82-ff92-43fe-96cc-76feda26600b",
   "metadata": {},
   "outputs": [],
   "source": [
    "m1 = m1.drop(columns = ['name'])"
   ]
  },
  {
   "cell_type": "code",
   "execution_count": 103,
   "id": "2e0b54ad-8717-4bcd-97e9-b02abd505d84",
   "metadata": {
    "tags": []
   },
   "outputs": [
    {
     "data": {
      "text/plain": [
       "fixed-route             56\n",
       "No Service Info         26\n",
       "deviated fixed-route    10\n",
       "Name: service_type, dtype: int64"
      ]
     },
     "execution_count": 103,
     "metadata": {},
     "output_type": "execute_result"
    }
   ],
   "source": [
    "m1.service_type.value_counts()"
   ]
  }
 ],
 "metadata": {
  "kernelspec": {
   "display_name": "Python 3 (ipykernel)",
   "language": "python",
   "name": "python3"
  },
  "language_info": {
   "codemirror_mode": {
    "name": "ipython",
    "version": 3
   },
   "file_extension": ".py",
   "mimetype": "text/x-python",
   "name": "python",
   "nbconvert_exporter": "python",
   "pygments_lexer": "ipython3",
   "version": "3.9.13"
  }
 },
 "nbformat": 4,
 "nbformat_minor": 5
}
