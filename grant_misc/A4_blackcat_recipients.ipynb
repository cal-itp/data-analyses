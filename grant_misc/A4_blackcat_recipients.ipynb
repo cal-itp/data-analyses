{
 "cells": [
  {
   "cell_type": "markdown",
   "id": "f4ef8520-3087-4a0d-a347-a4058fa76dda",
   "metadata": {},
   "source": [
    "## BlackCat Organizations\n",
    "5/19\n",
    "* Most recent records\n",
    "* Transit agencies that have fixed-route services (more than the vendors contracted to  provide dial-a-ride / paratransit services—I recall there being a bunch of those in the  BlackCat export I got last year).\n",
    "* 5311, SGR then + Clovis"
   ]
  },
  {
   "cell_type": "code",
   "execution_count": 1,
   "id": "1c846d88-a056-4de3-be10-cd1ff524365e",
   "metadata": {},
   "outputs": [
    {
     "name": "stderr",
     "output_type": "stream",
     "text": [
      "/opt/conda/lib/python3.9/site-packages/geopandas/_compat.py:123: UserWarning: The Shapely GEOS version (3.11.1-CAPI-1.17.1) is incompatible with the GEOS version PyGEOS was compiled with (3.10.1-CAPI-1.16.0). Conversions between both will be slow.\n",
      "  warnings.warn(\n",
      "/opt/conda/lib/python3.9/site-packages/google/cloud/bigquery/table.py:43: UserWarning: Shapely 2.0 is installed, but because PyGEOS is also installed, GeoPandas will still use PyGEOS by default for now. To force to use and test Shapely 2.0, you have to set the environment variable USE_PYGEOS=0. You can do this before starting the Python process, or in your code before importing geopandas:\n",
      "\n",
      "import os\n",
      "os.environ['USE_PYGEOS'] = '0'\n",
      "import geopandas\n",
      "\n",
      "In a future release, GeoPandas will switch to using Shapely by default. If you are using PyGEOS directly (calling PyGEOS functions on geometries from GeoPandas), this will then stop working and you are encouraged to migrate from PyGEOS to Shapely 2.0 (https://shapely.readthedocs.io/en/latest/migration_pygeos.html).\n",
      "  import geopandas  # type: ignore\n",
      "/opt/conda/lib/python3.9/site-packages/fuzzywuzzy/fuzz.py:11: UserWarning: Using slow pure-python SequenceMatcher. Install python-Levenshtein to remove this warning\n",
      "  warnings.warn('Using slow pure-python SequenceMatcher. Install python-Levenshtein to remove this warning')\n"
     ]
    }
   ],
   "source": [
    "import fuzzywuzzy\n",
    "import _utils\n",
    "import pandas as pd\n",
    "import siuba  # need this to do type hint in functions\n",
    "from calitp_data_analysis.sql import to_snakecase\n",
    "from calitp_data_analysis.tables import tbls\n",
    "from fuzzywuzzy import process\n",
    "from siuba import *"
   ]
  },
  {
   "cell_type": "code",
   "execution_count": 2,
   "id": "9966ce0b-b18d-4785-b5d4-9c46e1c2339a",
   "metadata": {},
   "outputs": [],
   "source": [
    "pd.options.display.max_columns = 100\n",
    "pd.options.display.float_format = \"{:.2f}\".format\n",
    "pd.set_option(\"display.max_rows\", None)\n",
    "pd.set_option(\"display.max_colwidth\", None)"
   ]
  },
  {
   "cell_type": "code",
   "execution_count": null,
   "id": "f23e4dfa-825e-499c-b143-06171269b73d",
   "metadata": {},
   "outputs": [],
   "source": []
  },
  {
   "cell_type": "markdown",
   "id": "8e315b55-0400-45f9-ada9-d21de6ac2a11",
   "metadata": {},
   "source": [
    "### Merge BlackCat w/ SGR"
   ]
  },
  {
   "cell_type": "code",
   "execution_count": 3,
   "id": "7df8c90f-95a2-479d-ac63-944e06714956",
   "metadata": {},
   "outputs": [],
   "source": [
    "def blackcat_sgr_service_type_final():\n",
    "    \n",
    "    grants_subset = [\n",
    "    \"5311(f) Cont\",\n",
    "    \"CMAQ (FTA 5311)\",\n",
    "    \"Section 5311\",\n",
    "    \"5311(f) Round 2\",\n",
    "    \"5339 (State)\",\n",
    "    \"Section 5311(f)\"]\n",
    "    \n",
    "    # Open up the files\n",
    "    blackcat = _utils.blackcat_orgs(file_name = \"BlackCat_Grants_Projects_5_22_23.xlsx\",\n",
    "                             year_wanted = 2018,\n",
    "                             grants_wanted = grants_subset)\n",
    "    \n",
    "    sgr = _utils.sgr_orgs(file_name = \"SGR Calsmart-user-list request.xls\")\n",
    "    \n",
    "    # Use fuzzywuzzy package to change the agency names\n",
    "    # in Blackcat to match names in SGR before merging\n",
    "    # if rerunning this in the future, look at results from\n",
    "    # fuzzy_match_sgr_bc() to see what else to delete\n",
    "    fuzzy_to_del = [\n",
    "    \"Amador Transit\",\n",
    "    \"Eastern Contra Costa Transit Authority\",\n",
    "    \"Madera County\"]\n",
    "    \n",
    "    blackcat = _utils.fuzzy_match_sgr_bc(blackcat, sgr, fuzzy_to_del)\n",
    "    blackcat_sgr = _utils.merge_blackcat_sgr(blackcat, sgr)\n",
    "    \n",
    "    # Use fuzzywuzzy package to change agency names\n",
    "    # from Blackcat and SGR to names in airtable\n",
    "    # before merging.\n",
    "    matches_to_del = [\n",
    "    \"Eastern Contra Costa Transit Authority\",\n",
    "    \"Fresno County\",\n",
    "    \"Eastern Sierra Transit Authority\",\n",
    "    \"Alpine County Local Transportation Commission\"\n",
    "    \"Livermore Amador Valley Transit Authority\",\n",
    "    \"Calaveras Transit\",\n",
    "    \"City Of Corcoran - Corcoran Area Transit\",]\n",
    " \n",
    "    blackcat_sgr_airtable = _utils.merge_blackcat_sgr_airtable(blackcat_sgr, matches_to_del)\n",
    "    \n",
    "    return blackcat_sgr_airtable"
   ]
  },
  {
   "cell_type": "code",
   "execution_count": 4,
   "id": "45cd063a-4909-4d68-b408-a5061b1d0550",
   "metadata": {
    "tags": []
   },
   "outputs": [
    {
     "name": "stderr",
     "output_type": "stream",
     "text": [
      "/home/jovyan/data-analyses/grant_misc/_utils.py:60: FutureWarning: The default value of regex will change from True to False in a future version. In addition, single character regular expressions will *not* be treated as literal strings when regex=True.\n",
      "  df[agency_col]\n",
      "/home/jovyan/data-analyses/grant_misc/_utils.py:96: FutureWarning: In a future version of pandas all arguments of StringMethods.split except for the argument 'pat' will be keyword-only.\n",
      "  to_correct[[\"name_pt1\", \"name_pt2\"]] = to_correct[agency_col].str.split(\n",
      "/home/jovyan/data-analyses/grant_misc/_utils.py:60: FutureWarning: The default value of regex will change from True to False in a future version. In addition, single character regular expressions will *not* be treated as literal strings when regex=True.\n",
      "  df[agency_col]\n",
      "/home/jovyan/data-analyses/grant_misc/_utils.py:96: FutureWarning: In a future version of pandas all arguments of StringMethods.split except for the argument 'pat' will be keyword-only.\n",
      "  to_correct[[\"name_pt1\", \"name_pt2\"]] = to_correct[agency_col].str.split(\n",
      "/home/jovyan/data-analyses/grant_misc/_utils.py:60: FutureWarning: The default value of regex will change from True to False in a future version. In addition, single character regular expressions will *not* be treated as literal strings when regex=True.\n",
      "  df[agency_col]\n",
      "/home/jovyan/data-analyses/grant_misc/_utils.py:96: FutureWarning: In a future version of pandas all arguments of StringMethods.split except for the argument 'pat' will be keyword-only.\n",
      "  to_correct[[\"name_pt1\", \"name_pt2\"]] = to_correct[agency_col].str.split(\n"
     ]
    }
   ],
   "source": [
    "final = blackcat_sgr_service_type_final()"
   ]
  },
  {
   "cell_type": "code",
   "execution_count": 8,
   "id": "ec65fb98-f479-43e3-8757-27ad3111badb",
   "metadata": {},
   "outputs": [
    {
     "data": {
      "text/html": [
       "<div>\n",
       "<style scoped>\n",
       "    .dataframe tbody tr th:only-of-type {\n",
       "        vertical-align: middle;\n",
       "    }\n",
       "\n",
       "    .dataframe tbody tr th {\n",
       "        vertical-align: top;\n",
       "    }\n",
       "\n",
       "    .dataframe thead th {\n",
       "        text-align: right;\n",
       "    }\n",
       "</style>\n",
       "<table border=\"1\" class=\"dataframe\">\n",
       "  <thead>\n",
       "    <tr style=\"text-align: right;\">\n",
       "      <th></th>\n",
       "      <th>funding_program</th>\n",
       "      <th>organization_name</th>\n",
       "      <th>first_name</th>\n",
       "      <th>last_name</th>\n",
       "      <th>email</th>\n",
       "      <th>phone</th>\n",
       "      <th>title</th>\n",
       "      <th>service_type</th>\n",
       "    </tr>\n",
       "  </thead>\n",
       "  <tbody>\n",
       "    <tr>\n",
       "      <th>180</th>\n",
       "      <td>Section 5311, State of Good Repair</td>\n",
       "      <td>Santa Clara Valley Transportation Authority</td>\n",
       "      <td>Lorena</td>\n",
       "      <td>Bernal-Vidal</td>\n",
       "      <td>lorena.bernal-vidal@vta.org</td>\n",
       "      <td>4089524235.00</td>\n",
       "      <td>Senior Transportation Planner</td>\n",
       "      <td>Fixed-Route</td>\n",
       "    </tr>\n",
       "    <tr>\n",
       "      <th>21</th>\n",
       "      <td>State of Good Repair</td>\n",
       "      <td>City Of California City</td>\n",
       "      <td>Joe</td>\n",
       "      <td>Barragan</td>\n",
       "      <td>jbarragan@californiacity-ca.gov</td>\n",
       "      <td>7603737162.00</td>\n",
       "      <td>Public Works Director</td>\n",
       "      <td>No Service Info</td>\n",
       "    </tr>\n",
       "    <tr>\n",
       "      <th>118</th>\n",
       "      <td>State of Good Repair</td>\n",
       "      <td>Lake Countycity Area Planning Council</td>\n",
       "      <td>James</td>\n",
       "      <td>Sookne</td>\n",
       "      <td>apedrotti@dbcteam.net</td>\n",
       "      <td>7072343314.00</td>\n",
       "      <td>Project Manager</td>\n",
       "      <td>No Service Info</td>\n",
       "    </tr>\n",
       "  </tbody>\n",
       "</table>\n",
       "</div>"
      ],
      "text/plain": [
       "                        funding_program  \\\n",
       "180  Section 5311, State of Good Repair   \n",
       "21                 State of Good Repair   \n",
       "118                State of Good Repair   \n",
       "\n",
       "                               organization_name first_name     last_name  \\\n",
       "180  Santa Clara Valley Transportation Authority     Lorena  Bernal-Vidal   \n",
       "21                       City Of California City        Joe      Barragan   \n",
       "118        Lake Countycity Area Planning Council      James        Sookne   \n",
       "\n",
       "                               email         phone  \\\n",
       "180      lorena.bernal-vidal@vta.org 4089524235.00   \n",
       "21   jbarragan@californiacity-ca.gov 7603737162.00   \n",
       "118            apedrotti@dbcteam.net 7072343314.00   \n",
       "\n",
       "                             title     service_type  \n",
       "180  Senior Transportation Planner      Fixed-Route  \n",
       "21           Public Works Director  No Service Info  \n",
       "118                Project Manager  No Service Info  "
      ]
     },
     "execution_count": 8,
     "metadata": {},
     "output_type": "execute_result"
    }
   ],
   "source": [
    "final.sample(3)"
   ]
  },
  {
   "cell_type": "code",
   "execution_count": 5,
   "id": "1b31f346-3a43-4a74-bda5-7ecf387d6bd1",
   "metadata": {
    "scrolled": true,
    "tags": []
   },
   "outputs": [],
   "source": [
    "# m3.to_excel(f\"{gcs_path}5311_SGR_Recipients.xlsx\")"
   ]
  }
 ],
 "metadata": {
  "kernelspec": {
   "display_name": "Python 3 (ipykernel)",
   "language": "python",
   "name": "python3"
  },
  "language_info": {
   "codemirror_mode": {
    "name": "ipython",
    "version": 3
   },
   "file_extension": ".py",
   "mimetype": "text/x-python",
   "name": "python",
   "nbconvert_exporter": "python",
   "pygments_lexer": "ipython3",
   "version": "3.9.13"
  }
 },
 "nbformat": 4,
 "nbformat_minor": 5
}
