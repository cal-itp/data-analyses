{
 "cells": [
  {
   "cell_type": "markdown",
   "id": "f4ef8520-3087-4a0d-a347-a4058fa76dda",
   "metadata": {},
   "source": [
    "## BlackCat Organizations\n",
    "5/19\n",
    "* Most recent records\n",
    "* Transit agencies that have fixed-route services (more than the vendors contracted to  provide dial-a-ride / paratransit services—I recall there being a bunch of those in the  BlackCat export I got last year).\n",
    "* 5311, SGR then + Clovis"
   ]
  },
  {
   "cell_type": "code",
   "execution_count": 104,
   "id": "1c846d88-a056-4de3-be10-cd1ff524365e",
   "metadata": {},
   "outputs": [],
   "source": [
    "import fuzzywuzzy\n",
    "import pandas as pd\n",
    "import siuba  # need this to do type hint in functions\n",
    "from calitp_data_analysis.sql import to_snakecase\n",
    "from calitp_data_analysis.tables import tbls\n",
    "from fuzzywuzzy import process\n",
    "from siuba import *"
   ]
  },
  {
   "cell_type": "code",
   "execution_count": 105,
   "id": "9966ce0b-b18d-4785-b5d4-9c46e1c2339a",
   "metadata": {},
   "outputs": [],
   "source": [
    "pd.options.display.max_columns = 100\n",
    "pd.options.display.float_format = \"{:.2f}\".format\n",
    "pd.set_option(\"display.max_rows\", None)\n",
    "pd.set_option(\"display.max_colwidth\", None)"
   ]
  },
  {
   "cell_type": "code",
   "execution_count": 106,
   "id": "29efcbc3-ebbb-468a-bf05-66cfb25d1a66",
   "metadata": {},
   "outputs": [],
   "source": [
    "gcs_path = \"gs://calitp-analytics-data/data-analyses/grant_misc/\""
   ]
  },
  {
   "cell_type": "code",
   "execution_count": 107,
   "id": "5f2702ef-8654-4a53-9959-aeeb986da4db",
   "metadata": {},
   "outputs": [],
   "source": [
    "#BlackCat_Grants_Projects_5_22_23.xlsx"
   ]
  },
  {
   "cell_type": "markdown",
   "id": "b4058e34-d9d7-4fd0-8928-d7a41534c515",
   "metadata": {},
   "source": [
    "### Blackcat"
   ]
  },
  {
   "cell_type": "code",
   "execution_count": 108,
   "id": "cc63bcf6-5e2d-44e5-8aa8-7027a70f0d43",
   "metadata": {},
   "outputs": [],
   "source": [
    "def summarize_rows(df, col_to_group: str, col_to_summarize: str) -> pd.DataFrame:\n",
    "    \"\"\"\n",
    "    Puts all the elements in the column \"col to summarize\"\n",
    "    onto one line and separates them by commas.\n",
    "    \"\"\"\n",
    "    df = df.groupby(col_to_group)[col_to_summarize].apply(\",\".join).reset_index()\n",
    "    return df"
   ]
  },
  {
   "cell_type": "code",
   "execution_count": 109,
   "id": "7ffa9bea-ecac-4039-b782-4141995a1c77",
   "metadata": {},
   "outputs": [],
   "source": [
    "def blackcat_orgs(file_name:str, year_wanted: int, grants_wanted: list)-> pd.DataFrame:\n",
    "    \"\"\"\n",
    "    Open and filter blackcat file for the grant applicants. \n",
    "    \n",
    "    Args:\n",
    "        file_name (str): include .xlsx extension\n",
    "        year_wanted (int): filter for records beyond a certain year\n",
    "        grants_wanted (list): list of grant programs to subset\n",
    "    \"\"\"\n",
    "    df = to_snakecase(pd.read_excel(f\"{gcs_path}{file_name}\"))\n",
    "    \n",
    "    # Filter grant fiscal year\n",
    "    df = df[df.grant_fiscal_year >= 2018].reset_index(drop=True)\n",
    "    \n",
    "    df = df[df.funding_program.isin(grants_subset)].reset_index(drop = True)\n",
    "    \n",
    "    # Cols\n",
    "    subset = [\"organization_name\", \"grant_fiscal_year\", \"funding_program\"]\n",
    "    sort_cols = [\"organization_name\", \"funding_program\"]\n",
    "    \n",
    "    # Summarize df so one row will correspond with one organization\n",
    "    df = (df[subset]\n",
    "    .sort_values(by=[\"organization_name\", \"grant_fiscal_year\"], ascending=[True, False])\n",
    "    .drop_duplicates(subset=sort_cols)\n",
    "    .reset_index(drop=True)\n",
    "    )\n",
    "    \n",
    "    df = summarize_rows(df, [\"organization_name\", \"grant_fiscal_year\"], \"funding_program\")\n",
    "    \n",
    "    # Drop extra rows\n",
    "    df = (df\n",
    "    .sort_values(by=sort_cols, ascending=[True, False])\n",
    "    .drop_duplicates(subset=[\"organization_name\"])\n",
    "    .reset_index(drop=True))\n",
    "    return df "
   ]
  },
  {
   "cell_type": "code",
   "execution_count": null,
   "id": "f0a9fc24-3a01-4aa6-bdb6-a0837c9cf714",
   "metadata": {
    "scrolled": true,
    "tags": []
   },
   "outputs": [],
   "source": []
  },
  {
   "cell_type": "code",
   "execution_count": 110,
   "id": "48231255-5d18-4dae-a731-e2ac89ba8b11",
   "metadata": {},
   "outputs": [],
   "source": [
    "#blackcat = to_snakecase(\n",
    " #   pd.read_excel(f\"{gcs_path}BlackCat_Grants_Projects_5_22_23.xlsx\")\n",
    "# )"
   ]
  },
  {
   "cell_type": "code",
   "execution_count": 111,
   "id": "3bc9df48-cb48-4d30-90f6-205e6bc27160",
   "metadata": {},
   "outputs": [],
   "source": [
    "#blackcat.sample()"
   ]
  },
  {
   "cell_type": "code",
   "execution_count": 112,
   "id": "388124a8-cb7f-4aef-be38-c916515a2c16",
   "metadata": {},
   "outputs": [],
   "source": [
    "#blackcat.shape"
   ]
  },
  {
   "cell_type": "code",
   "execution_count": 113,
   "id": "83395988-075e-4fc6-90b9-765f91b7f18d",
   "metadata": {},
   "outputs": [],
   "source": [
    "# Filter grant fiscal year\n",
    "#blackcat2 = blackcat[blackcat.grant_fiscal_year >= 2018].reset_index(drop=True)"
   ]
  },
  {
   "cell_type": "code",
   "execution_count": 114,
   "id": "58a81789-028f-4d29-8834-c4e3ef1f8715",
   "metadata": {},
   "outputs": [],
   "source": [
    "#blackcat2.shape, blackcat2.grant_fiscal_year.value_counts()"
   ]
  },
  {
   "cell_type": "code",
   "execution_count": 115,
   "id": "38b67551-c803-45c9-8be6-a25e6150cf10",
   "metadata": {},
   "outputs": [],
   "source": [
    "#blackcat2.columns"
   ]
  },
  {
   "cell_type": "code",
   "execution_count": 116,
   "id": "f23e4dfa-825e-499c-b143-06171269b73d",
   "metadata": {},
   "outputs": [],
   "source": [
    "grants_subset = [\n",
    "    \"5311(f) Cont\",\n",
    "    \"CMAQ (FTA 5311)\",\n",
    "    \"Section 5311\",\n",
    "    \"5311(f) Round 2\",\n",
    "    \"5339 (State)\",\n",
    "    \"Section 5311(f)\",\n",
    "]"
   ]
  },
  {
   "cell_type": "code",
   "execution_count": 117,
   "id": "938432ce-3c02-45bf-8423-731eebf12c25",
   "metadata": {},
   "outputs": [],
   "source": [
    "# blackcat2 = blackcat2[blackcat2.funding_program.isin(grants_subset)]"
   ]
  },
  {
   "cell_type": "code",
   "execution_count": 118,
   "id": "88a62cec-6aba-428f-9f9b-7b25d9332962",
   "metadata": {},
   "outputs": [],
   "source": [
    "# len(organizations)"
   ]
  },
  {
   "cell_type": "code",
   "execution_count": 119,
   "id": "fccd9919-a1b8-4ec3-81a0-c2f9624cf7ad",
   "metadata": {
    "scrolled": true,
    "tags": []
   },
   "outputs": [],
   "source": [
    "#organizations = (\n",
    "#    organizations.sort_values(\n",
    "#        by=[\"organization_name\", \"grant_fiscal_year\"], ascending=[True, False]\n",
    "#    )\n",
    "#    .drop_duplicates(subset=[\"organization_name\"])\n",
    "#    .reset_index(drop=True)\n",
    "#)"
   ]
  },
  {
   "cell_type": "code",
   "execution_count": 120,
   "id": "f648fd42-8a29-468a-9788-349f01495414",
   "metadata": {},
   "outputs": [],
   "source": [
    "#organizations.shape, organizations.organization_name.nunique()"
   ]
  },
  {
   "cell_type": "markdown",
   "id": "386ab51c-4f63-4429-9af4-9e5b3cdf87ec",
   "metadata": {},
   "source": [
    "### State of Good Repair"
   ]
  },
  {
   "cell_type": "code",
   "execution_count": 121,
   "id": "d6675f07-57b2-4bd9-92d1-c1c2d6ed5053",
   "metadata": {},
   "outputs": [],
   "source": [
    "def sgr_orgs(file_name:str) ->  pd.DataFrame:\n",
    "    \"\"\"\n",
    "    Open and filter State of Good Repair file for the grant applicants. \n",
    "    \n",
    "    Args:\n",
    "        file_name (str): include excel extension\n",
    "    \"\"\"\n",
    "    df = to_snakecase(pd.read_excel(f\"{gcs_path}{file_name}\"))\n",
    "    \n",
    "    # Subset\n",
    "    sgr_subset = [\"first_name\", \"last_name\", \"email\", \"phone\", \"title\", \"agency\"]\n",
    "    df = df[sgr_subset]\n",
    "    \n",
    "    # Keep only one row for each agency\n",
    "    df = df.drop_duplicates(\"agency\").reset_index(drop=True)\n",
    "    \n",
    "    # Col to specify this is State of Good Repair data\n",
    "    df[\"funding_program\"] = \"State of Good Repair\"\n",
    "    \n",
    "    return df"
   ]
  },
  {
   "cell_type": "code",
   "execution_count": 122,
   "id": "8c6f3dbc-7ef4-4152-b474-e2085573a0da",
   "metadata": {},
   "outputs": [],
   "source": [
    "#sgr = to_snakecase(pd.read_excel(f\"{gcs_path}SGR Calsmart-user-list request.xls\"))"
   ]
  },
  {
   "cell_type": "code",
   "execution_count": 123,
   "id": "c7429fa5-6cce-46d9-b2c0-33978672f2e8",
   "metadata": {},
   "outputs": [],
   "source": [
    "# sgr_subset = [\"first_name\", \"last_name\", \"email\", \"phone\", \"title\", \"agency\"]"
   ]
  },
  {
   "cell_type": "code",
   "execution_count": 124,
   "id": "9a20897e-822a-44d7-aff3-01370a07c1e7",
   "metadata": {},
   "outputs": [],
   "source": [
    "#sgr2 = sgr[sgr_subset]"
   ]
  },
  {
   "cell_type": "code",
   "execution_count": 125,
   "id": "4ba034d8-8df2-43b9-9020-a82c1d6808ec",
   "metadata": {},
   "outputs": [],
   "source": [
    "#sgr2 = sgr2.drop_duplicates(\"agency\").reset_index(drop=True)"
   ]
  },
  {
   "cell_type": "code",
   "execution_count": 126,
   "id": "b9150335-440d-4e63-9536-11fb1686fbbf",
   "metadata": {
    "tags": []
   },
   "outputs": [],
   "source": [
    "#sgr2.agency.value_counts().head()"
   ]
  },
  {
   "cell_type": "code",
   "execution_count": 127,
   "id": "2ab29610-6571-4ad6-8aec-e8d72318758b",
   "metadata": {},
   "outputs": [],
   "source": [
    "#len(sgr2), len(sgr)"
   ]
  },
  {
   "cell_type": "code",
   "execution_count": 128,
   "id": "f69dbeb7-1dee-44fc-8773-bc6655a6e889",
   "metadata": {},
   "outputs": [],
   "source": [
    "#sgr2[\"funding_program\"] = \"State of Good Repair\""
   ]
  },
  {
   "cell_type": "code",
   "execution_count": 129,
   "id": "3175f448-885d-4661-809c-bb586a0e894d",
   "metadata": {},
   "outputs": [],
   "source": [
    "#sgr2.shape, sgr.agency.nunique()"
   ]
  },
  {
   "cell_type": "markdown",
   "id": "8e315b55-0400-45f9-ada9-d21de6ac2a11",
   "metadata": {},
   "source": [
    "### Merge BlackCat w/ SGR"
   ]
  },
  {
   "cell_type": "code",
   "execution_count": 130,
   "id": "761339eb-24bc-4ba6-a130-64f494fd4c9e",
   "metadata": {},
   "outputs": [],
   "source": [
    "def clean_punctuation(df, agency_col: str) -> pd.DataFrame:\n",
    "    \"\"\"\n",
    "    Cleans up agency names. Assume anything after comma/()/\n",
    "    ; are acronyms and delete them. Correct certain mispellings.\n",
    "    Change agency names to title case. Clean whitespaces.\n",
    "    \"\"\"\n",
    "    df[agency_col] = (\n",
    "        df[agency_col]\n",
    "        .str.strip()\n",
    "        .str.split(\",\")\n",
    "        .str[0]\n",
    "        .str.replace(\"/\", \"\")\n",
    "        .str.split(\"(\")\n",
    "        .str[0]\n",
    "        .str.split(\"/\")\n",
    "        .str[0]\n",
    "        .str.split(\";\")\n",
    "        .str[0]\n",
    "        .str.title()\n",
    "        .str.replace(\"Trasit\", \"Transit\")\n",
    "        .str.replace(\"*\", \"\")\n",
    "        .str.replace(\"Agency\", \"\")\n",
    "        .str.strip()  # strip whitespaces again after getting rid of certain things\n",
    "    )\n",
    "    return df"
   ]
  },
  {
   "cell_type": "code",
   "execution_count": 131,
   "id": "bcf7f94d-9b09-4d02-85b0-289938edff15",
   "metadata": {},
   "outputs": [],
   "source": [
    "def flip_county_city(df, agency_col: str):\n",
    "    # https://github.com/cal-itp/data-analyses/blob/main/Agreement_Overlap/add_dla.ipynb\n",
    "    to_correct = df[\n",
    "        (df[agency_col].str.contains(\"County\")) | (df[agency_col].str.contains(\"City\"))\n",
    "    ]\n",
    "    to_correct = to_correct[[agency_col]].drop_duplicates().reset_index(drop=True)\n",
    "    to_correct[\"str_len\"] = to_correct[agency_col].str.split().str.len()\n",
    "    to_correct = to_correct[to_correct.str_len <= 5].reset_index(drop=True)\n",
    "    to_correct[[\"name_pt1\", \"name_pt2\"]] = to_correct[agency_col].str.split(\n",
    "        \" Of \", 1, expand=True\n",
    "    )\n",
    "    to_correct[\"new_name\"] = to_correct[\"name_pt2\"] + \" \" + to_correct[\"name_pt1\"]\n",
    "\n",
    "    new_names_dictionary = dict(to_correct[[agency_col, \"new_name\"]].values)\n",
    "    df[\"agency_corrected\"] = df[agency_col].map(new_names_dictionary)\n",
    "    df[\"agency_corrected\"] = df[\"agency_corrected\"].fillna(df[agency_col])\n",
    "\n",
    "    df = df.drop(columns=[agency_col])\n",
    "    df = df.rename(columns={\"agency_corrected\": agency_col})\n",
    "\n",
    "    return df"
   ]
  },
  {
   "cell_type": "code",
   "execution_count": 132,
   "id": "d5d6a9cb-c457-4dcc-9172-1c6dc30eef9d",
   "metadata": {},
   "outputs": [],
   "source": [
    "def clean_organization_names(df, agency_col: str):\n",
    "    df = clean_punctuation(df, agency_col)\n",
    "    df = flip_county_city(df, agency_col)\n",
    "    return df"
   ]
  },
  {
   "cell_type": "code",
   "execution_count": 133,
   "id": "c1db1302-7133-478a-bfa3-59cf911deaf0",
   "metadata": {},
   "outputs": [],
   "source": [
    "# organizations = clean_organization_names(organizations, \"organization_name\")"
   ]
  },
  {
   "cell_type": "code",
   "execution_count": 134,
   "id": "a4d2732f-a102-484b-a456-fbc6b9dfa450",
   "metadata": {},
   "outputs": [],
   "source": [
    "# len(organizations)"
   ]
  },
  {
   "cell_type": "code",
   "execution_count": 135,
   "id": "e34c40f6-f561-44a4-a0ec-ff4e57642896",
   "metadata": {},
   "outputs": [],
   "source": [
    "# sgr2 = clean_organization_names(sgr2, \"agency\")"
   ]
  },
  {
   "cell_type": "code",
   "execution_count": 136,
   "id": "5a160d90-85a1-4d93-ae67-1baf1cb216f0",
   "metadata": {},
   "outputs": [],
   "source": [
    "def replace_matches_set_ratio(df, column, new_col_name, string_to_match, min_ratio):\n",
    "    # Get a list of unique strings\n",
    "    strings = df[column].unique()\n",
    "\n",
    "    # Get the top 10 closest matches to our input string\n",
    "    matches = fuzzywuzzy.process.extract(\n",
    "        string_to_match, strings, limit=10, scorer=fuzzywuzzy.fuzz.token_set_ratio\n",
    "    )\n",
    "\n",
    "    # Only get matches with a  min ratio\n",
    "    close_matches = [matches[0] for matches in matches if matches[1] > min_ratio]\n",
    "\n",
    "    # Get the rows of all the close matches in our dataframe\n",
    "    rows_with_matches = df[column].isin(close_matches)\n",
    "\n",
    "    # replace all rows with close matches with the input matches\n",
    "    df.loc[rows_with_matches, new_col_name] = string_to_match"
   ]
  },
  {
   "cell_type": "code",
   "execution_count": 137,
   "id": "2776f784-07d9-4d4c-b79e-f78054d9e991",
   "metadata": {},
   "outputs": [],
   "source": [
    "def find_fuzzy_match(\n",
    "    df1,\n",
    "    df2,\n",
    "    df1_fuzzy_column: str,\n",
    "    df2_fuzzy_column: str,\n",
    "    new_column: str,\n",
    "    min_ratio: int)->pd.DataFrame:\n",
    "    \"\"\"\n",
    "    Match df2 values against df1 values in a new column\n",
    "    \"\"\"\n",
    "    unique_values = df1[df1_fuzzy_column].unique().tolist()\n",
    "    for i in unique_values:\n",
    "        replace_matches_set_ratio(df2, df2_fuzzy_column, new_column, i, min_ratio)\n",
    "    return df2"
   ]
  },
  {
   "cell_type": "code",
   "execution_count": 155,
   "id": "ca9f96ad-42d5-490a-91fc-54c6cb7cb8ae",
   "metadata": {},
   "outputs": [],
   "source": [
    "def fuzzy_match_sgr_bc(blackcat_df: pd.DataFrame, sgr_df:pd.DataFrame, matches_to_delete:list) -> pd.DataFrame:\n",
    "    blackcat_df = clean_organization_names(blackcat_df, \"organization_name\")\n",
    "    sgr_df = clean_organization_names(sgr_df, \"agency\")\n",
    "    \n",
    "    # sgr_df is the \"source of truth\" for organization name\n",
    "    # goal is to change the names within blackcat_df\n",
    "    matches = find_fuzzy_match(\n",
    "    sgr_df, blackcat_df, \"agency\", \"organization_name\", \"fuzzy_match_agency\", 95\n",
    "    )\n",
    "    \n",
    "    # Some matches are not correct, set them as none\n",
    "    for i in matches_to_delete:\n",
    "        matches.loc[matches[\"organization_name\"].eq(i), \"fuzzy_match_agency\"] = None\n",
    "    \n",
    "    # Fill in any organizations that didn't get a match\n",
    "    matches.fuzzy_match_agency = matches.fuzzy_match_agency.fillna(matches.organization_name)\n",
    "    \n",
    "    return matches"
   ]
  },
  {
   "cell_type": "code",
   "execution_count": 139,
   "id": "b1f1be48-f24b-437e-ab64-6369e20becc7",
   "metadata": {},
   "outputs": [],
   "source": [
    "#organizations = find_fuzzy_match(\n",
    "#    sgr, organizations, \"agency\", \"organization_name\", \"fuzzy_match_agency\", 95\n",
    "#)"
   ]
  },
  {
   "cell_type": "code",
   "execution_count": 140,
   "id": "030310f0-3b56-4c27-b718-abc2e29fec84",
   "metadata": {
    "scrolled": true,
    "tags": []
   },
   "outputs": [],
   "source": [
    "#organizations"
   ]
  },
  {
   "cell_type": "code",
   "execution_count": 141,
   "id": "71e6b065-3120-450e-b2ea-10eaeb4f47a1",
   "metadata": {},
   "outputs": [],
   "source": [
    "#for i in fuzzy_to_del:\n",
    "#    organizations.loc[\n",
    "#        organizations[\"organization_name\"].eq(i), \"fuzzy_match_agency\"\n",
    "#    ] = None"
   ]
  },
  {
   "cell_type": "code",
   "execution_count": 142,
   "id": "d6229eee-8f36-4414-bf7d-f7f5f8598a2f",
   "metadata": {
    "scrolled": true,
    "tags": []
   },
   "outputs": [],
   "source": [
    "#organizations.fuzzy_match_agency = organizations.fuzzy_match_agency.fillna(\n",
    " #   organizations.organization_name\n",
    "#)"
   ]
  },
  {
   "cell_type": "code",
   "execution_count": 143,
   "id": "b36cba82-f092-4e1c-9789-bc9d04ed5eb4",
   "metadata": {
    "scrolled": true,
    "tags": []
   },
   "outputs": [],
   "source": [
    "# organizations.sort_values(by = ['organization_name'])"
   ]
  },
  {
   "cell_type": "code",
   "execution_count": 144,
   "id": "5b338202-a184-44f3-a305-f4b2f85e6d13",
   "metadata": {},
   "outputs": [],
   "source": [
    "# organizations = organizations.drop(columns = ['organization_name']).rename(columns = {'fuzzy_match_agency':'organization_name'})"
   ]
  },
  {
   "cell_type": "code",
   "execution_count": 145,
   "id": "73e08454-395d-47ba-8f3c-2ad01232deb7",
   "metadata": {},
   "outputs": [],
   "source": [
    "blackcat = blackcat_orgs(file_name = \"BlackCat_Grants_Projects_5_22_23.xlsx\",\n",
    "                             year_wanted = 2018,\n",
    "                             grants_wanted = grants_subset)"
   ]
  },
  {
   "cell_type": "code",
   "execution_count": 146,
   "id": "723c11c6-afae-4614-afd2-1ec6a5c4fd89",
   "metadata": {
    "scrolled": true,
    "tags": []
   },
   "outputs": [
    {
     "data": {
      "text/html": [
       "<div>\n",
       "<style scoped>\n",
       "    .dataframe tbody tr th:only-of-type {\n",
       "        vertical-align: middle;\n",
       "    }\n",
       "\n",
       "    .dataframe tbody tr th {\n",
       "        vertical-align: top;\n",
       "    }\n",
       "\n",
       "    .dataframe thead th {\n",
       "        text-align: right;\n",
       "    }\n",
       "</style>\n",
       "<table border=\"1\" class=\"dataframe\">\n",
       "  <thead>\n",
       "    <tr style=\"text-align: right;\">\n",
       "      <th></th>\n",
       "      <th>organization_name</th>\n",
       "      <th>grant_fiscal_year</th>\n",
       "      <th>funding_program</th>\n",
       "    </tr>\n",
       "  </thead>\n",
       "  <tbody>\n",
       "    <tr>\n",
       "      <th>0</th>\n",
       "      <td>Alpine County Community Development</td>\n",
       "      <td>2022</td>\n",
       "      <td>Section 5311</td>\n",
       "    </tr>\n",
       "    <tr>\n",
       "      <th>1</th>\n",
       "      <td>Amador Transit</td>\n",
       "      <td>2020</td>\n",
       "      <td>CMAQ (FTA 5311)</td>\n",
       "    </tr>\n",
       "    <tr>\n",
       "      <th>2</th>\n",
       "      <td>Butte County Association of Governments/ Butte Regional Transit</td>\n",
       "      <td>2022</td>\n",
       "      <td>Section 5311,Section 5311(f)</td>\n",
       "    </tr>\n",
       "    <tr>\n",
       "      <th>3</th>\n",
       "      <td>Calaveras County Public Works</td>\n",
       "      <td>2018</td>\n",
       "      <td>5311(f) Cont</td>\n",
       "    </tr>\n",
       "    <tr>\n",
       "      <th>4</th>\n",
       "      <td>Calaveras Transit Agency</td>\n",
       "      <td>2022</td>\n",
       "      <td>Section 5311</td>\n",
       "    </tr>\n",
       "  </tbody>\n",
       "</table>\n",
       "</div>"
      ],
      "text/plain": [
       "                                                 organization_name  \\\n",
       "0                              Alpine County Community Development   \n",
       "1                                                   Amador Transit   \n",
       "2  Butte County Association of Governments/ Butte Regional Transit   \n",
       "3                                    Calaveras County Public Works   \n",
       "4                                        Calaveras Transit Agency    \n",
       "\n",
       "   grant_fiscal_year               funding_program  \n",
       "0               2022                  Section 5311  \n",
       "1               2020               CMAQ (FTA 5311)  \n",
       "2               2022  Section 5311,Section 5311(f)  \n",
       "3               2018                  5311(f) Cont  \n",
       "4               2022                  Section 5311  "
      ]
     },
     "execution_count": 146,
     "metadata": {},
     "output_type": "execute_result"
    }
   ],
   "source": [
    "blackcat.head()"
   ]
  },
  {
   "cell_type": "code",
   "execution_count": 150,
   "id": "dad12e11-36f3-4f5f-928e-7f9db0103927",
   "metadata": {},
   "outputs": [],
   "source": [
    " sgr = sgr_orgs(file_name = \"SGR Calsmart-user-list request.xls\")"
   ]
  },
  {
   "cell_type": "code",
   "execution_count": 151,
   "id": "38fbeaca-059c-4f24-90bd-929d7defd7e6",
   "metadata": {},
   "outputs": [
    {
     "data": {
      "text/html": [
       "<div>\n",
       "<style scoped>\n",
       "    .dataframe tbody tr th:only-of-type {\n",
       "        vertical-align: middle;\n",
       "    }\n",
       "\n",
       "    .dataframe tbody tr th {\n",
       "        vertical-align: top;\n",
       "    }\n",
       "\n",
       "    .dataframe thead th {\n",
       "        text-align: right;\n",
       "    }\n",
       "</style>\n",
       "<table border=\"1\" class=\"dataframe\">\n",
       "  <thead>\n",
       "    <tr style=\"text-align: right;\">\n",
       "      <th></th>\n",
       "      <th>first_name</th>\n",
       "      <th>last_name</th>\n",
       "      <th>email</th>\n",
       "      <th>phone</th>\n",
       "      <th>title</th>\n",
       "      <th>agency</th>\n",
       "      <th>funding_program</th>\n",
       "    </tr>\n",
       "  </thead>\n",
       "  <tbody>\n",
       "    <tr>\n",
       "      <th>0</th>\n",
       "      <td>Eve</td>\n",
       "      <td>Ng</td>\n",
       "      <td>grants@actransit.org</td>\n",
       "      <td>5108915405</td>\n",
       "      <td>Capital Planning and Grants Manager</td>\n",
       "      <td>Alameda-Contra Costa Transit District</td>\n",
       "      <td>State of Good Repair</td>\n",
       "    </tr>\n",
       "    <tr>\n",
       "      <th>1</th>\n",
       "      <td>Ethan</td>\n",
       "      <td>Gray</td>\n",
       "      <td>egray@alpinecountyca.gov</td>\n",
       "      <td>5306942140</td>\n",
       "      <td>Community Development Deputy Director</td>\n",
       "      <td>Alpine County</td>\n",
       "      <td>State of Good Repair</td>\n",
       "    </tr>\n",
       "    <tr>\n",
       "      <th>2</th>\n",
       "      <td>Scott</td>\n",
       "      <td>Maas</td>\n",
       "      <td>smaas@citlink.net</td>\n",
       "      <td>5302600991</td>\n",
       "      <td>Transportation Program Manager</td>\n",
       "      <td>Alpine County Local Transportation Commission</td>\n",
       "      <td>State of Good Repair</td>\n",
       "    </tr>\n",
       "    <tr>\n",
       "      <th>3</th>\n",
       "      <td>Patricia</td>\n",
       "      <td>Amarant</td>\n",
       "      <td>maggie@amadortransit.com</td>\n",
       "      <td>2092675079</td>\n",
       "      <td>General Manager</td>\n",
       "      <td>Amador Transit</td>\n",
       "      <td>State of Good Repair</td>\n",
       "    </tr>\n",
       "    <tr>\n",
       "      <th>4</th>\n",
       "      <td>Judy</td>\n",
       "      <td>Fry</td>\n",
       "      <td>jfry@avta.com</td>\n",
       "      <td>6617292234</td>\n",
       "      <td>Chief Financial Officer</td>\n",
       "      <td>Antelope Valley Transit Authority</td>\n",
       "      <td>State of Good Repair</td>\n",
       "    </tr>\n",
       "  </tbody>\n",
       "</table>\n",
       "</div>"
      ],
      "text/plain": [
       "  first_name last_name                     email       phone  \\\n",
       "0        Eve        Ng      grants@actransit.org  5108915405   \n",
       "1      Ethan      Gray  egray@alpinecountyca.gov  5306942140   \n",
       "2      Scott      Maas         smaas@citlink.net  5302600991   \n",
       "3   Patricia   Amarant  maggie@amadortransit.com  2092675079   \n",
       "4       Judy       Fry             jfry@avta.com  6617292234   \n",
       "\n",
       "                                   title  \\\n",
       "0    Capital Planning and Grants Manager   \n",
       "1  Community Development Deputy Director   \n",
       "2         Transportation Program Manager   \n",
       "3                        General Manager   \n",
       "4                Chief Financial Officer   \n",
       "\n",
       "                                          agency       funding_program  \n",
       "0          Alameda-Contra Costa Transit District  State of Good Repair  \n",
       "1                                  Alpine County  State of Good Repair  \n",
       "2  Alpine County Local Transportation Commission  State of Good Repair  \n",
       "3                                 Amador Transit  State of Good Repair  \n",
       "4              Antelope Valley Transit Authority  State of Good Repair  "
      ]
     },
     "execution_count": 151,
     "metadata": {},
     "output_type": "execute_result"
    }
   ],
   "source": [
    "sgr.head()"
   ]
  },
  {
   "cell_type": "code",
   "execution_count": 164,
   "id": "0deacd96-2440-438e-ae54-97dac4dbf3f6",
   "metadata": {},
   "outputs": [],
   "source": [
    "fuzzy_to_del = [\n",
    "    \"Amador Transit\",\n",
    "    \"Eastern Contra Costa Transit Authority\",\n",
    "    \"Madera County\",\n",
    "]"
   ]
  },
  {
   "cell_type": "code",
   "execution_count": 165,
   "id": "ea8267ca-9eb1-4d23-9248-f18306c3e5b9",
   "metadata": {},
   "outputs": [
    {
     "name": "stderr",
     "output_type": "stream",
     "text": [
      "/tmp/ipykernel_1587/773668803.py:8: FutureWarning: The default value of regex will change from True to False in a future version. In addition, single character regular expressions will *not* be treated as literal strings when regex=True.\n",
      "  df[agency_col]\n",
      "/tmp/ipykernel_1587/3797718921.py:9: FutureWarning: In a future version of pandas all arguments of StringMethods.split except for the argument 'pat' will be keyword-only.\n",
      "  to_correct[[\"name_pt1\", \"name_pt2\"]] = to_correct[agency_col].str.split(\n",
      "/tmp/ipykernel_1587/773668803.py:8: FutureWarning: The default value of regex will change from True to False in a future version. In addition, single character regular expressions will *not* be treated as literal strings when regex=True.\n",
      "  df[agency_col]\n",
      "/tmp/ipykernel_1587/3797718921.py:9: FutureWarning: In a future version of pandas all arguments of StringMethods.split except for the argument 'pat' will be keyword-only.\n",
      "  to_correct[[\"name_pt1\", \"name_pt2\"]] = to_correct[agency_col].str.split(\n"
     ]
    }
   ],
   "source": [
    "blackcat = fuzzy_match_sgr_bc(blackcat, sgr, fuzzy_to_del)"
   ]
  },
  {
   "cell_type": "code",
   "execution_count": 166,
   "id": "0021f29d-3ade-4a0c-b2cc-9d0d240f189b",
   "metadata": {},
   "outputs": [],
   "source": [
    "def merge_blackcat_sgr(blackcat_df:pd.DataFrame, sgr_df:pd.DataFrame)->pd.DataFrame:\n",
    "   \n",
    "    # Merge\n",
    "    m1 = pd.merge(\n",
    "    blackcat,\n",
    "    sgr,\n",
    "    left_on=[\"fuzzy_match_agency\"],\n",
    "    right_on=[\"agency\"],\n",
    "    how=\"outer\",\n",
    "    indicator=True,)\n",
    "    \n",
    "    # Fill the funding programs that are empty\n",
    "    m1.funding_program_x = m1.funding_program_x.fillna(\"State of Good Repair\")\n",
    "    m1.funding_program_y = m1.funding_program_y.fillna(m1.funding_program_x)\n",
    "    \n",
    "    # Combine the two funding programs since an applicant\n",
    "    # can appear in both Blackcat and SGR\n",
    "    m1[\"funding_program\"] = m1.funding_program_x + \",\" + m1.funding_program_y\n",
    "    m1.funding_program = m1.funding_program.fillna(m1.funding_program_y)\n",
    "    \n",
    "    # Fill in organization name that are null. These rows are SGR ones\n",
    "    m1.organization_name = m1.organization_name.fillna(m1.agency)\n",
    "    \n",
    "    # Subset\n",
    "    cols_to_drop = [\n",
    "    \"funding_program_x\",\n",
    "    \"funding_program_y\",\n",
    "    \"fuzzy_match_agency\",\n",
    "    \"agency\",\n",
    "    \"grant_fiscal_year\"]\n",
    "    \n",
    "    m1 = m1.drop(columns=cols_to_drop)\n",
    "    \n",
    "    # Summarize so one row contains one organization and all funding programs\n",
    "    # it has applied for.\n",
    "    m2 = summarize_rows(m1,\n",
    "    [\"organization_name\"],\n",
    "    \"funding_program\")\n",
    "    \n",
    "    m2 = pd.merge(m2, m1.drop(columns = ['funding_program']), on = ['organization_name'], how = \"left\")\n",
    "    m2 = m2.sort_values(['organization_name']).drop_duplicates(subset = ['organization_name'])\n",
    "    return m2\n",
    "    "
   ]
  },
  {
   "cell_type": "code",
   "execution_count": 167,
   "id": "fe706a78-d17d-43e3-8152-68cb7efd57e2",
   "metadata": {
    "scrolled": true,
    "tags": []
   },
   "outputs": [],
   "source": [
    "test = merge_blackcat_sgr(blackcat, sgr)"
   ]
  },
  {
   "cell_type": "markdown",
   "id": "46e5cdab-f5d1-4a0f-ae34-34d0fcadedc8",
   "metadata": {},
   "source": [
    "### Airtable\n",
    "* Grab only fixed route providers."
   ]
  },
  {
   "cell_type": "code",
   "execution_count": 179,
   "id": "f6523234-e744-4cda-bbe4-8549efa9770e",
   "metadata": {},
   "outputs": [],
   "source": [
    "def airtable_orgs()->pd.DataFrame:\n",
    "    df = tbls.external_airtable.california_transit__services() >> collect()\n",
    "    \n",
    "    airtable_subset = [\"name\", \"service_type\"]\n",
    "    \n",
    "    df = df[airtable_subset]\n",
    "    \n",
    "    # Service types nested in a list. explode out\n",
    "    df = df.explode(\"service_type\").reset_index(drop=True)\n",
    "    \n",
    "    df = df.drop_duplicates().reset_index(drop = True)\n",
    "    \n",
    "    # Summarize so one row contains one organization and all funding programs\n",
    "    # it has applied for.\n",
    "    df = df.fillna('No Service Info')\n",
    "    df = summarize_rows(df, [\"name\"], \"service_type\")\n",
    "    \n",
    "    return df"
   ]
  },
  {
   "cell_type": "code",
   "execution_count": 180,
   "id": "3f860fdf-c44e-4003-aaa8-4fc5fca7935f",
   "metadata": {},
   "outputs": [],
   "source": [
    "airtable = airtable_orgs()"
   ]
  },
  {
   "cell_type": "code",
   "execution_count": 178,
   "id": "b755ef9b-0cd4-4175-964c-a47ff47fd21b",
   "metadata": {},
   "outputs": [
    {
     "data": {
      "text/plain": [
       "((995, 2), 995)"
      ]
     },
     "execution_count": 178,
     "metadata": {},
     "output_type": "execute_result"
    }
   ],
   "source": [
    "airtable.shape, airtable.name.nunique()"
   ]
  },
  {
   "cell_type": "code",
   "execution_count": null,
   "id": "189d0256-5a21-469c-8746-0da00c242923",
   "metadata": {},
   "outputs": [],
   "source": [
    "# airtable = tbls.external_airtable.california_transit__services() >> collect()"
   ]
  },
  {
   "cell_type": "code",
   "execution_count": null,
   "id": "305b3bb0-3ded-49d4-bba2-3ab8afa6ca22",
   "metadata": {},
   "outputs": [],
   "source": [
    "# airtable.columns"
   ]
  },
  {
   "cell_type": "code",
   "execution_count": null,
   "id": "3554357d-08fb-4028-9c90-7ef508f478ee",
   "metadata": {},
   "outputs": [],
   "source": [
    "# ['name','service_type', 'service_operator_type', 'operator_organization_type']\n",
    "# airtable_subset = [\"name\", \"service_type\"]"
   ]
  },
  {
   "cell_type": "code",
   "execution_count": null,
   "id": "f7add568-f19b-42e1-89ec-d570c7873760",
   "metadata": {},
   "outputs": [],
   "source": [
    "# airtable2 = airtable[airtable_subset]"
   ]
  },
  {
   "cell_type": "code",
   "execution_count": null,
   "id": "a242ebff-a484-4d6a-9206-f27c9fc3a3be",
   "metadata": {},
   "outputs": [],
   "source": [
    "# airtable2.name.nunique()"
   ]
  },
  {
   "cell_type": "code",
   "execution_count": null,
   "id": "58d547be-66a7-4d92-b81c-bd6273da3ebc",
   "metadata": {},
   "outputs": [],
   "source": [
    "# airtable2.info()"
   ]
  },
  {
   "cell_type": "code",
   "execution_count": null,
   "id": "4f5f7aed-378e-4199-9fa0-3907c101bc87",
   "metadata": {},
   "outputs": [],
   "source": [
    "# airtable2.sort_values([\"name\"]).head()"
   ]
  },
  {
   "cell_type": "code",
   "execution_count": null,
   "id": "92c44c72-3e9c-4bb9-a41c-9b03dc95d9ef",
   "metadata": {},
   "outputs": [],
   "source": [
    "# airtable3 = airtable2.explode(\"service_type\").reset_index(drop=True)"
   ]
  },
  {
   "cell_type": "code",
   "execution_count": null,
   "id": "db380ee3-0434-441e-9b57-1bed1d527bd8",
   "metadata": {},
   "outputs": [],
   "source": [
    "# airtable3.head()"
   ]
  },
  {
   "cell_type": "code",
   "execution_count": null,
   "id": "8ff8f31b-8e84-4c9e-8b83-6ff5f4252538",
   "metadata": {},
   "outputs": [],
   "source": [
    "# airtable3.service_type = airtable3.service_type.fillna(\"NA\")"
   ]
  },
  {
   "cell_type": "code",
   "execution_count": null,
   "id": "8b5e207e-441e-45f3-ac42-f8efcce39b0b",
   "metadata": {},
   "outputs": [],
   "source": [
    "# fixed route only\n",
    "#airtable4 = airtable3[airtable3.service_type.str.lower().str.contains(\"fixed\")]"
   ]
  },
  {
   "cell_type": "markdown",
   "id": "00fe5ba0-e7b7-49ac-a0b1-fe0e7d0bdcbd",
   "metadata": {},
   "source": [
    "### Merge"
   ]
  },
  {
   "cell_type": "code",
   "execution_count": 184,
   "id": "2b0e0791-7a56-4e0f-a6aa-ba961ed484c0",
   "metadata": {},
   "outputs": [],
   "source": [
    "def fuzzy_match_airtable_bc(merged_blackcat_sgr:pd.DataFrame)->pd.DataFrame:\n",
    "    \n",
    "    airtable = airtable_orgs()\n",
    "    airtable = clean_organization_names(airtable5, \"name\")\n",
    "    \n",
    "    merged_blackcat_sgr = find_fuzzy_match(airtable5, merged_blackcat_sgr, \"name\", \"organization_name\", \"fuzzy_agency\", 95)\n",
    "    \n",
    "    wrong_matches = [\n",
    "    \"Eastern Contra Costa Transit Authority\",\n",
    "    \"Fresno County\",\n",
    "    \"Eastern Sierra Transit Authority\",\n",
    "    \"Alpine County Local Transportation Commission\"\n",
    "    \"Livermore Amador Valley Transit Authority\",\n",
    "    \"Calaveras Transit\",\n",
    "    \"City Of Corcoran - Corcoran Area Transit\",]\n",
    "    \n",
    "    for i in wrong_matches:\n",
    "        merged_blackcat_sgr.loc[merged_blackcat_sgr[\"organization_name\"].eq(i), \"fuzzy_agency\"] = None\n",
    "        \n",
    "    # These are the fuzzy matches that worked.\n",
    "    found_matches = (merged_blackcat_sgr[((~merged_blackcat_sgr.fuzzy_agency.isna()) \n",
    "                    & (~merged_blackcat_sgr.fuzzy_agency.isin(fuzzy_matches_to_filter)))]).reset_index(drop=True)\n",
    "    \n",
    "    # Organizations that still need matches\n",
    "    still_need_matches = merged_blackcat_sgr[(~merged_blackcat_sgr.organization_name.isin(found_matches.organization_name.tolist()))]\n",
    "    \n",
    "    # Clean up\n",
    "    found_matches = found_matches.drop(columns = ['organization_name']).rename(columns = {'fuzzy_agency':'organization_name'})\n",
    "    \n",
    "    return found_matches, still_need_matches"
   ]
  },
  {
   "cell_type": "code",
   "execution_count": 181,
   "id": "08f27268-fb3d-4e8b-96ba-0ddaef547525",
   "metadata": {},
   "outputs": [],
   "source": [
    "# airtable5 = clean_organization_names(airtable5, \"name\")"
   ]
  },
  {
   "cell_type": "code",
   "execution_count": null,
   "id": "a2b9b3e6-dc3a-4acd-b4bd-7a0daba4a35d",
   "metadata": {
    "scrolled": true,
    "tags": []
   },
   "outputs": [],
   "source": [
    "#airtable5.sort_values('name').head(20)"
   ]
  },
  {
   "cell_type": "code",
   "execution_count": 182,
   "id": "bb9870e9-17bc-4496-b2ee-ff14e384cbd2",
   "metadata": {
    "scrolled": true,
    "tags": []
   },
   "outputs": [],
   "source": [
    "# m2 = find_fuzzy_match(airtable5, m2, \"name\", \"organization_name\", \"fuzzy_agency\", 95)"
   ]
  },
  {
   "cell_type": "code",
   "execution_count": null,
   "id": "a4c3faa0-d664-4acf-afde-1da805e588ec",
   "metadata": {
    "scrolled": true,
    "tags": []
   },
   "outputs": [],
   "source": [
    "for i in [\n",
    "    \"Eastern Contra Costa Transit Authority\",\n",
    "    \"Fresno County\",\n",
    "    \"Livermore Amador Valley Transit Authority\",\n",
    "    \"Eastern Sierra Transit Authority\",\n",
    "    \"Alpine County Local Transportation Commission\"\n",
    "]:\n",
    "    m2.loc[m2[\"organization_name\"].eq(i), \"fuzzy_agency\"] = None"
   ]
  },
  {
   "cell_type": "code",
   "execution_count": null,
   "id": "0ab9a6b7-fb87-4d62-9564-87570f759ef1",
   "metadata": {
    "scrolled": true,
    "tags": []
   },
   "outputs": [],
   "source": [
    "m2.loc[m2.fuzzy_agency.notna()][[\"organization_name\", \"fuzzy_agency\"]].sort_values(\n",
    "    [\"organization_name\"]\n",
    ")"
   ]
  },
  {
   "cell_type": "code",
   "execution_count": null,
   "id": "f87e5a94-e175-4d89-bbfe-a2c6357f55bb",
   "metadata": {},
   "outputs": [],
   "source": [
    "# Reverse -> replace\n",
    "\"\"\"\n",
    "for i in airtable5.name.unique().tolist():\n",
    "       replace_matches_set_ratio(\n",
    "        organizations, \"organization_name\", \"project_name_fuzzy\", i, 95) \"\"\""
   ]
  },
  {
   "cell_type": "code",
   "execution_count": null,
   "id": "74128098-bb44-4288-a5ba-aaa405b4da67",
   "metadata": {},
   "outputs": [],
   "source": [
    "# Fuzzy matches that didn't work\n",
    "# Use organization name\n",
    "fuzzy_matches_to_filter = [\n",
    "    \"Eastern Contra Costa Transit Authority\",\n",
    "    \"Livermore Amador Valley Transit Authority\",\n",
    "    \"Calaveras Transit\",\n",
    "    \"City Of Corcoran - Corcoran Area Transit\",\n",
    "]"
   ]
  },
  {
   "cell_type": "code",
   "execution_count": null,
   "id": "9d0a2404-2376-4bf0-a6a5-d723d9b5adb5",
   "metadata": {},
   "outputs": [],
   "source": [
    "len(m2)"
   ]
  },
  {
   "cell_type": "code",
   "execution_count": null,
   "id": "48283f01-fbc5-419f-8547-77d78e199c09",
   "metadata": {},
   "outputs": [],
   "source": [
    "# These are the fuzzy matches that worked.\n",
    "found_matches = (\n",
    "    m2[((~m2.fuzzy_agency.isna()) & (~m2.fuzzy_agency.isin(fuzzy_matches_to_filter)))]\n",
    ").reset_index(drop=True)"
   ]
  },
  {
   "cell_type": "code",
   "execution_count": null,
   "id": "8d6fe94b-3291-45c7-831a-f3df3b1edc29",
   "metadata": {
    "tags": []
   },
   "outputs": [],
   "source": [
    "len(found_matches)"
   ]
  },
  {
   "cell_type": "code",
   "execution_count": null,
   "id": "e26b999d-e14f-4417-b76b-0771ff8b79dc",
   "metadata": {
    "scrolled": true,
    "tags": []
   },
   "outputs": [],
   "source": [
    "still_need_matches = m2[(~m2.organization_name.isin(found_matches.organization_name.tolist()))]"
   ]
  },
  {
   "cell_type": "code",
   "execution_count": null,
   "id": "add64cdd-2571-4449-9027-e6d08678f7b3",
   "metadata": {
    "scrolled": true,
    "tags": []
   },
   "outputs": [],
   "source": [
    "found_matches = found_matches.drop(columns = ['organization_name']).rename(columns = {'fuzzy_agency':'organization_name'})"
   ]
  },
  {
   "cell_type": "code",
   "execution_count": null,
   "id": "cac09f3a-3fdf-48b2-9a4a-1cfc554d9603",
   "metadata": {
    "scrolled": true,
    "tags": []
   },
   "outputs": [],
   "source": [
    "found_matches"
   ]
  },
  {
   "cell_type": "markdown",
   "id": "579ef96a-9ede-4829-872c-7eb0e145f55b",
   "metadata": {},
   "source": [
    "* Calaveras Transit change to Calaveras Connect\n",
    "* Arvin City  Arvin Transit\n",
    "* Auburn City Auburn Transit\n",
    "* County Of Los Angeles - Department Of Public Works, Los Angeles County Transit Services\n",
    "* 34\tCounty Of Sacramento Department Of Transportation Sacrt Bus\n",
    "* County Of Shasta Department Of Public Works\n",
    "* Dinuba City Dinuba Connection\n",
    "* Lassen Transit Service Lassen Rural Bus\n",
    "* Needles City  Needles Area Transit\n",
    "* Nevada Public Works County Nevada County Connects\n",
    "* Ojai City Ojai Trolley\n",
    "* Palo Verde Valley Transit Palos Verdes Peninsula Transit Authority\n",
    "* Placer County Public Works Placer County Transit\n",
    "* Plumas County Transportation Commission Plumas Transit Systems\n",
    "* Porterville City  Porterville Transit\n",
    "* Ridgecrest City Ridgecrest Transit\n",
    "* Rio Vista City Rio Vista Delta Breeze\n",
    "* Santa Maria City Santa Maria Regional Transit\n",
    "* Siskiyou County Siskiyou Transit And General Express\n",
    "* Stanislaus County Public Works - Transit Division  Stanislaus Regional Transit Authority\n",
    "* Taft City Taft Area Transit\n",
    "* Tehama County Transit  Tehama Rural Area Express\n",
    "* Transportation Trinity County Department Trinity Transit\n",
    "* Transit Joint Powers Authority For Merced County Merced The Bus\n",
    "* Visalia City Visilia Transit\n",
    "* Yolo County Transportation District Yolobus\n"
   ]
  },
  {
   "cell_type": "code",
   "execution_count": null,
   "id": "19af782c-8cf1-443c-9d32-c88c45e0ac6b",
   "metadata": {},
   "outputs": [],
   "source": [
    "to_map = {\n",
    "    \"Tulare County\": \"Tuolumne County Transit\",\n",
    "    \"Turlock City\": \"Turlock Transit\",\n",
    "    \"Union City City\": \"Union City Transit\",\n",
    "    \"Calaveras Transit\": \"Calaveras Connect\",\n",
    "    \"Alameda-Contra Costa Transit District\": \"Ac Transit\",\n",
    "    \"Arcadia City\": \"Arcadia Transit\",\n",
    "    \"Banning City\": \"Banning Pass Transit\",\n",
    "    \"Beaumont City\": \"Beaumont Pass Transit\",\n",
    "    \"Calaveras Council Of Governments\": \"Calaveras Connect\",\n",
    "    \"Camarillo City\": \"Camarillo Area Transit\",\n",
    "    \"Commerce City\": \"Commerce Municipal Bus Lines\",\n",
    "    \"Corona City\": \"Corona Cruiser\",\n",
    "    \"Delano City\": \"Delano Area Rapid Transit\",\n",
    "    \"Eastern Sierra Transit Authority\": \"Eastern Sierra Transit Authority Community Routes\",\n",
    "    \"Elk Grove City\": \"Elk Grove Transit Services\",\n",
    "    \"Fairfield City\": \"Fairfield And Suisun Transit\",\n",
    "    \"Folsom City\": \"Folsom Stage Line\",\n",
    "    \"Glenn County\": \"Glenn Ride\",\n",
    "    \"Guadalupe City\": \"Guadalupe Flyer\",\n",
    "    \"Lassen County\": \"Lassen Rural Bus\",\n",
    "    \"Marin County Transit District\": \"Marin Transit\",\n",
    "    \"Madera County\": \"Madera Metro\",\n",
    "    \"Mariposa County\": \"Mariposa Grove Shuttle\",\n",
    "    \"Morro Bay City\": \"Morro Bay Transit\",\n",
    "    \"Norwalk City\": \"Norwalk Transit System\",\n",
    "    \"Roseville City\": \"Roseville Transit\",\n",
    "    \"Sacramento Regional Transit District\": \"Sacramento Regional Transit District Bus\",\n",
    "    \"San Diego City\": \"San Diego Trolley\",\n",
    "    \"San Francisco City\": \"Muni Bus\",\n",
    "    \"Santa Rosa City\": \"Santa Rosa Citybus\",\n",
    "    \"Shafter City\": \"Shafter Dial-A-Ride\",\n",
    "    \"Sierra County\": \"Sierra Point Shuttle\",\n",
    "    \"Simi Valley City\": \"Simi Valley Transit\",\n",
    "    \"Sonoma Marin Area Rail Transit\": \"Sonoma-Marin Area Rail Transit\",\n",
    "    \"Arvin City\": \"Arvin Transit\",\n",
    "    \"Auburn City\": \"Auburn Transit\",\n",
    "    \"County Of Los Angeles - Department Of Public Works\": \"Los Angeles County Transit Services\",\n",
    "    \"County Of Sacramento Department Of Transportation\": \"Sacrt Bus\",\n",
    "    \"Dinuba City\": \"Dinuba Connection\",\n",
    "    \"Lassen Transit Service\": \"Lassen Rural Bus\",\n",
    "    \"Needles City\": \"Needles Area Transit\",\n",
    "    \"Nevada Public Works\": \"County Nevada County Connects\",\n",
    "    \"Ojai City\": \"Ojai Trolley\",\n",
    "    \"Palo Verde Valley Transit\": \"Palos Verdes Peninsula Transit Authority\",\n",
    "    \"Placer County Public Works\": \"Placer County Transit\",\n",
    "    \"Plumas County Transportation Commission\": \"Plumas Transit Systems\",\n",
    "    \"Porterville City\": \"Porterville Transit\",\n",
    "    \"Ridgecrest City\": \"Ridgecrest Transit\",\n",
    "    \"Rio Vista City\": \"Rio Vista Delta Breeze\",\n",
    "    \"Santa Maria City\": \"Santa Maria Regional Transit\",\n",
    "    \"Siskiyou County\": \"Siskiyou Transit And General Express\",\n",
    "    \"Taft City\": \"Taft Area Transit\",\n",
    "    \"Tehama County Transit\": \"Tehama Rural Area Express\",\n",
    "    \"Transportation Trinity County Department\": \"Trinity Transit\",\n",
    "    \"Transit Joint Powers Authority For Merced\": \"County Merced The Bus\",\n",
    "    \"Visalia City\": \"Visilia Transit\",\n",
    "    \"Yolo County Transportation District\": \"Yolobus\",\n",
    "}"
   ]
  },
  {
   "cell_type": "code",
   "execution_count": null,
   "id": "ef38d45c-80c6-493d-8c51-8964c9931a6f",
   "metadata": {
    "tags": []
   },
   "outputs": [],
   "source": [
    "still_need_matches.organization_name = still_need_matches.organization_name.replace(\n",
    "    to_map\n",
    ")"
   ]
  },
  {
   "cell_type": "code",
   "execution_count": null,
   "id": "97a3f907-857a-4aa0-b073-d4fcf28e28e1",
   "metadata": {},
   "outputs": [],
   "source": [
    "still_need_matches.head()"
   ]
  },
  {
   "cell_type": "code",
   "execution_count": null,
   "id": "850e0e98-bf95-404e-a99d-65692f614663",
   "metadata": {},
   "outputs": [],
   "source": [
    "# Concat\n",
    "blackcat_cleaned = pd.concat([found_matches, still_need_matches], axis=0)"
   ]
  },
  {
   "cell_type": "code",
   "execution_count": null,
   "id": "a1eb6f90-c13b-4667-b050-c2c965b2925b",
   "metadata": {
    "tags": []
   },
   "outputs": [],
   "source": [
    "len(blackcat_cleaned)"
   ]
  },
  {
   "cell_type": "code",
   "execution_count": null,
   "id": "45cd063a-4909-4d68-b408-a5061b1d0550",
   "metadata": {},
   "outputs": [],
   "source": [
    "blackcat_cleaned.organization_name = blackcat_cleaned.organization_name.replace(\n",
    "    to_map\n",
    ")"
   ]
  },
  {
   "cell_type": "code",
   "execution_count": null,
   "id": "a8a0ef05-d313-42c9-b518-914612bfd4e7",
   "metadata": {},
   "outputs": [],
   "source": [
    "m3 = pd.merge(\n",
    "    blackcat_cleaned,\n",
    "    airtable5,\n",
    "    how=\"left\",\n",
    "    left_on=\"organization_name\",\n",
    "    right_on=\"name\",\n",
    ")"
   ]
  },
  {
   "cell_type": "code",
   "execution_count": null,
   "id": "646ff258-5f2a-4805-ba24-e01ea19578bf",
   "metadata": {
    "scrolled": true,
    "tags": []
   },
   "outputs": [],
   "source": [
    "m3.service_type = m3.service_type.fillna(\"no service info\")"
   ]
  },
  {
   "cell_type": "code",
   "execution_count": null,
   "id": "c3a3fc82-ff92-43fe-96cc-76feda26600b",
   "metadata": {},
   "outputs": [],
   "source": [
    "m3 = m3.drop(columns=[\"name\"])"
   ]
  },
  {
   "cell_type": "code",
   "execution_count": null,
   "id": "2e0b54ad-8717-4bcd-97e9-b02abd505d84",
   "metadata": {
    "tags": []
   },
   "outputs": [],
   "source": [
    "m3.service_type.value_counts()"
   ]
  },
  {
   "cell_type": "code",
   "execution_count": null,
   "id": "bc5123d0-91fb-4bc9-a14b-5c39d0f977b9",
   "metadata": {
    "scrolled": true,
    "tags": []
   },
   "outputs": [],
   "source": [
    "m3 = m3.fillna(\"NA\")"
   ]
  },
  {
   "cell_type": "code",
   "execution_count": null,
   "id": "078d7f0c-89cd-42f0-b7ac-ec0d0fff3f7a",
   "metadata": {},
   "outputs": [],
   "source": [
    "final_subset = [\n",
    "    \"funding_program\",\n",
    "    \"organization_name\",\n",
    "    \"first_name\",\n",
    "    \"last_name\",\n",
    "    \"email\",\n",
    "    \"phone\",\n",
    "    \"title\",\n",
    "    \"service_type\",\n",
    "]"
   ]
  },
  {
   "cell_type": "code",
   "execution_count": null,
   "id": "f14c0a08-2bd9-4d33-ba96-b51bc5d659cf",
   "metadata": {},
   "outputs": [],
   "source": [
    "m3 = m3[final_subset]"
   ]
  },
  {
   "cell_type": "code",
   "execution_count": null,
   "id": "31d3b68d-fded-475d-9a8d-c7594f82307d",
   "metadata": {},
   "outputs": [],
   "source": [
    "def delete_repeated_element(df, col: str):\n",
    "    df[col] = (\n",
    "        df[col]\n",
    "        .apply(lambda x: \", \".join(set([y.strip() for y in x.split(\",\")])))\n",
    "        .str.strip()\n",
    "    )\n",
    "    return df"
   ]
  },
  {
   "cell_type": "code",
   "execution_count": null,
   "id": "7ab6a273-1f89-4c69-aa0d-ea27bdecdf84",
   "metadata": {},
   "outputs": [],
   "source": [
    "m3.service_type = m3.service_type.str.title()"
   ]
  },
  {
   "cell_type": "code",
   "execution_count": null,
   "id": "b9cf8c61-0be9-4662-b118-8005f50716ce",
   "metadata": {
    "scrolled": true,
    "tags": []
   },
   "outputs": [],
   "source": [
    "m3 = delete_repeated_element(m3, \"funding_program\")"
   ]
  },
  {
   "cell_type": "code",
   "execution_count": null,
   "id": "30becd79-77f3-4316-a715-93e3146c48ae",
   "metadata": {},
   "outputs": [],
   "source": [
    "m3 = m3.drop_duplicates(subset = ['organization_name']).sort_values([\"organization_name\"]).reset_index(drop=True)"
   ]
  },
  {
   "cell_type": "code",
   "execution_count": null,
   "id": "195246bd-cc2c-480d-aed0-1dcf608aeccb",
   "metadata": {},
   "outputs": [],
   "source": [
    "m3.shape, m3.organization_name.nunique()"
   ]
  },
  {
   "cell_type": "code",
   "execution_count": null,
   "id": "5714137a-555b-4ca7-af92-440b6462d71a",
   "metadata": {},
   "outputs": [],
   "source": [
    "m3.head()"
   ]
  },
  {
   "cell_type": "code",
   "execution_count": null,
   "id": "1b31f346-3a43-4a74-bda5-7ecf387d6bd1",
   "metadata": {
    "scrolled": true,
    "tags": []
   },
   "outputs": [],
   "source": [
    "m3.to_excel(f\"{gcs_path}5311_SGR_Recipients.xlsx\")"
   ]
  },
  {
   "cell_type": "code",
   "execution_count": null,
   "id": "aa889b15-faef-453b-a06a-af0382b7a0f4",
   "metadata": {
    "scrolled": true,
    "tags": []
   },
   "outputs": [],
   "source": [
    "m3.organization_name.tolist()"
   ]
  }
 ],
 "metadata": {
  "kernelspec": {
   "display_name": "Python 3 (ipykernel)",
   "language": "python",
   "name": "python3"
  },
  "language_info": {
   "codemirror_mode": {
    "name": "ipython",
    "version": 3
   },
   "file_extension": ".py",
   "mimetype": "text/x-python",
   "name": "python",
   "nbconvert_exporter": "python",
   "pygments_lexer": "ipython3",
   "version": "3.9.13"
  }
 },
 "nbformat": 4,
 "nbformat_minor": 5
}
