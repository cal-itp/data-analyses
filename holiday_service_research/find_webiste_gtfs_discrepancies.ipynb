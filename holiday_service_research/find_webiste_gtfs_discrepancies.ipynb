{
 "cells": [
  {
   "cell_type": "code",
   "execution_count": 1,
   "id": "5dd27eac-5c1b-486d-b3ee-7424d348b7b4",
   "metadata": {},
   "outputs": [],
   "source": [
    "# A script to try to find all transit agencies that have service in the GTFS feed \n",
    "# that differs from what is stated on their Holiday Service website."
   ]
  },
  {
   "cell_type": "code",
   "execution_count": 3,
   "id": "338b4c03-75b0-41ff-92db-69a09ec1af7d",
   "metadata": {},
   "outputs": [],
   "source": [
    "import json\n",
    "import siuba\n",
    "from calitp_data_analysis.tables import tbls\n",
    "from siuba import *"
   ]
  },
  {
   "cell_type": "code",
   "execution_count": 58,
   "id": "f50cff68-26ae-489a-a484-8e4a3f40c7d9",
   "metadata": {},
   "outputs": [],
   "source": [
    "# Get data from airtable\n",
    "orgs_df = (\n",
    "    tbls.mart_transit_database.dim_organizations()\n",
    "        >> filter(_._is_current == True)\n",
    "        >> filter(_.public_currently_operating_fixed_route == True)\n",
    "        >> collect()\n",
    ")\n",
    "\n",
    "services_df = (\n",
    "    tbls.mart_transit_database.dim_services()\n",
    "        >> filter(_._is_current == True)\n",
    "        >> filter(_.public_currently_operating_fixed_route == True)\n",
    "        >> collect()\n",
    ")"
   ]
  },
  {
   "cell_type": "code",
   "execution_count": 23,
   "id": "41cc9b19-96fd-4fda-a423-6ac60f684304",
   "metadata": {},
   "outputs": [],
   "source": [
    "# Get list of holiday service from Airtable extract since it won't be in the mart\n",
    "with open('./services.json') as f:\n",
    "    services_json = json.loads(f.read())"
   ]
  },
  {
   "cell_type": "code",
   "execution_count": 53,
   "id": "b0757137-b5bc-47e1-ab9f-c1f360a48654",
   "metadata": {},
   "outputs": [],
   "source": [
    "# refactor services_json so it can be looked up by key\n",
    "services_by_name = {}\n",
    "for service in services_json:\n",
    "    services_by_name[service['name'].strip()] = service"
   ]
  },
  {
   "cell_type": "code",
   "execution_count": 44,
   "id": "b33afa38-056e-4f7d-afc1-489cc9970933",
   "metadata": {},
   "outputs": [],
   "source": [
    "# Define holidays\n",
    "holidays = [\n",
    "    {\n",
    "        'name': \"Veteran's Day (Observed)\",\n",
    "        'date': '2023-11-10',\n",
    "        'airtable_column': 'holiday_schedule___veterans_day__observed_'\n",
    "    }, {\n",
    "        'name': \"Veteran's Day\",\n",
    "        'date': '2023-11-11',\n",
    "        'airtable_column': 'holiday_schedule___veterans_day'\n",
    "    }, {\n",
    "        'name': \"Thanksgiving Day\",\n",
    "        'date': '2023-11-23',\n",
    "        'airtable_column': 'holiday_schedule___thanksgiving_day'\n",
    "    }, {\n",
    "        'name': \"Day After Thanksgiving\",\n",
    "        'date': '2023-11-24',\n",
    "        'airtable_column': 'holiday_schedule___day_after_thanksgiving_day'\n",
    "    }, {\n",
    "        'name': \"Christmas Eve\",\n",
    "        'date': '2023-12-24',\n",
    "        'airtable_column': 'holiday_schedule___christmas_eve'\n",
    "    }, {\n",
    "        'name': \"Christmas Day\",\n",
    "        'date': '2023-12-25',\n",
    "        'airtable_column': 'holiday_schedule___christmas_day'\n",
    "    }, {\n",
    "        'name': \"New Year's Eve\",\n",
    "        'date': '2023-12-31',\n",
    "        'airtable_column': 'holiday_schedule___new_year_s_eve'\n",
    "    }, {\n",
    "        'name': \"New Year's Day\",\n",
    "        'date': '2024-01-01',\n",
    "        'airtable_column': 'holiday_schedule___new_year_s_day'\n",
    "    }, {\n",
    "        'name': \"MLK Day\",\n",
    "        'date': '2024-01-15',\n",
    "        'airtable_column': 'holiday_schedule___mlk_day'\n",
    "    }        \n",
    "]"
   ]
  },
  {
   "cell_type": "code",
   "execution_count": 70,
   "id": "8e9c3fad-f785-4fc8-b8bf-5727edb904bd",
   "metadata": {},
   "outputs": [],
   "source": [
    "services_holiday_analysis = []\n",
    "\n",
    "# for each active service\n",
    "for i, r in services_df.iterrows():\n",
    "    # TODO: skip services that are seasonal outside of analysis period\n",
    "    \n",
    "    # initialize output variable\n",
    "    result = {\n",
    "        'Service': r['name']\n",
    "    }\n",
    "    \n",
    "    # match to raw services\n",
    "    services_with_holiday_info = services_by_name[r['name']]\n",
    "    \n",
    "    # TODO: get GTFS Schedule for service (number of trips per day)\n",
    "    \n",
    "    # for each holiday type\n",
    "    for holiday in holidays:\n",
    "        # obtain reference non-holiday number of trips per day from GTFS\n",
    "        num_trips_non_holiday = 0\n",
    "        \n",
    "        # obtain number of trips on holiday day from GTFS\n",
    "        num_trips_on_holiday = 0\n",
    "        \n",
    "        # do gtfs comparison\n",
    "        gtfs_holiday_schedule = 'Regular service'\n",
    "        if num_trips_on_holiday == 0:\n",
    "            gtfs_holiday_schedule = 'No service'\n",
    "        elif num_trips_on_holiday < num_trips_non_holiday:\n",
    "            gtfs_holiday_schedule = 'Reduced service'\n",
    "        \n",
    "        # add website data\n",
    "        result[holiday['name']] = {\n",
    "            'gtfs_service': gtfs_holiday_schedule,\n",
    "            'website_service': services_with_holiday_info[holiday['airtable_column']]\n",
    "        }\n",
    "        \n",
    "    services_holiday_analysis.append(result)"
   ]
  },
  {
   "cell_type": "code",
   "execution_count": 69,
   "id": "e0cb61b6-0824-439d-b07f-ab85575c8028",
   "metadata": {},
   "outputs": [
    {
     "data": {
      "text/plain": [
       "{'Service': 'GTrans',\n",
       " \"Veteran's Day (Observed)\": {'gtfs_service': 'No service',\n",
       "  'website_service': 'Regular service'},\n",
       " \"Veteran's Day\": {'gtfs_service': 'No service',\n",
       "  'website_service': 'Regular service'},\n",
       " 'Thanksgiving Day': {'gtfs_service': 'No service',\n",
       "  'website_service': 'Reduced service'},\n",
       " 'Day After Thanksgiving': {'gtfs_service': 'No service',\n",
       "  'website_service': 'Regular service'},\n",
       " 'Christmas Eve': {'gtfs_service': 'No service',\n",
       "  'website_service': 'Regular service'},\n",
       " 'Christmas Day': {'gtfs_service': 'No service',\n",
       "  'website_service': 'Reduced service'},\n",
       " \"New Year's Eve\": {'gtfs_service': 'No service',\n",
       "  'website_service': 'Regular service'},\n",
       " \"New Year's Day\": {'gtfs_service': 'No service',\n",
       "  'website_service': 'Reduced service'},\n",
       " 'MLK Day': {'gtfs_service': 'No service',\n",
       "  'website_service': 'Regular service'}}"
      ]
     },
     "execution_count": 69,
     "metadata": {},
     "output_type": "execute_result"
    }
   ],
   "source": [
    "services_holiday_analysis[8]"
   ]
  },
  {
   "cell_type": "code",
   "execution_count": null,
   "id": "af317864-d8a1-465f-b596-273f59ae9a27",
   "metadata": {},
   "outputs": [],
   "source": []
  }
 ],
 "metadata": {
  "kernelspec": {
   "display_name": "Python 3 (ipykernel)",
   "language": "python",
   "name": "python3"
  },
  "language_info": {
   "codemirror_mode": {
    "name": "ipython",
    "version": 3
   },
   "file_extension": ".py",
   "mimetype": "text/x-python",
   "name": "python",
   "nbconvert_exporter": "python",
   "pygments_lexer": "ipython3",
   "version": "3.9.13"
  }
 },
 "nbformat": 4,
 "nbformat_minor": 5
}
