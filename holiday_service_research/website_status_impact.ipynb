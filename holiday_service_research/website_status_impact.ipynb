{
 "cells": [
  {
   "cell_type": "markdown",
   "id": "04566d29-48b9-4959-bf34-c09e6f3a7f4b",
   "metadata": {},
   "source": [
    "Notebook to produce data regarding 2023 Holiday Service:\n",
    "https://caltrans.sharepoint.com/:w:/s/DOTPMPHQ-DataandDigitalServices/EVEcAgAwsK1AhL7pQDa22TcBlLF5ZLF-SYOGORhrQrIOCA?e=BX6lkA\n",
    "\n",
    "Find the total org impact of having missing holiday information using the orgs table, not the services table."
   ]
  },
  {
   "cell_type": "code",
   "execution_count": 1,
   "id": "d592f475-1934-4dce-a238-7588cb0183cc",
   "metadata": {},
   "outputs": [],
   "source": [
    "%load_ext autoreload\n"
   ]
  },
  {
   "cell_type": "code",
   "execution_count": 2,
   "id": "e50e1057-525e-489f-8e26-9b5bdb58c6ce",
   "metadata": {},
   "outputs": [],
   "source": [
    "%autoreload 2\n",
    "\n",
    "from dotenv import load_dotenv\n",
    "import os\n",
    "\n",
    "import matplotlib.pyplot as plt\n",
    "import numpy as np\n",
    "import pandas as pd\n",
    "from pyairtable import Api\n",
    "from sklearn.metrics import confusion_matrix\n",
    "\n",
    "from funcs_vars import excel_col_order, holiday_columns, holidays_plus_ref, text_data_cols, plot_confusion_matrices\n",
    "\n",
    "load_dotenv()\n",
    "api = Api(os.getenv('AIRTABLE_TOKEN'))\n",
    "\n",
    "os.environ[\"CALITP_BQ_MAX_BYTES\"] = str(20_000_000_000)\n",
    "from calitp_data_analysis.sql import query_sql"
   ]
  },
  {
   "cell_type": "code",
   "execution_count": 3,
   "id": "edd2b5cc-e11b-4434-bee2-381fb3a91bc1",
   "metadata": {},
   "outputs": [],
   "source": [
    "# Trying to stay consistent with \n",
    "# https://github.com/cal-itp/data-infra/blob/main/airflow/plugins/operators/airtable_to_gcs.py\n",
    "def all_rows_as_df(base_id, table_name):\n",
    "    all_rows = api.table(base_id=base_id, table_name=table_name).all()\n",
    "\n",
    "    df = pd.DataFrame(\n",
    "        [\n",
    "            {\"id\":row[\"id\"], **row[\"fields\"]}\n",
    "            for row in all_rows\n",
    "        ]\n",
    "    )\n",
    "    return df\n",
    "\n",
    "def takeout_list(x):\n",
    "    if x is not np.nan:\n",
    "        return x[0]\n",
    "\n",
    "CALIFORNIA_TRANSIT_ID = \"appPnJWrQ7ui4UmIl\"\n",
    "ORGS_ID = 'tblFsd8D5oFRqep8Z'"
   ]
  },
  {
   "cell_type": "code",
   "execution_count": 4,
   "id": "26f5b815-f539-4d86-9fb9-97f1b1f5c93b",
   "metadata": {},
   "outputs": [],
   "source": [
    "orgs_df = all_rows_as_df(CALIFORNIA_TRANSIT_ID, ORGS_ID)\n",
    "orgs_df = orgs_df.loc[~orgs_df['ntd_id_2022'].isnull(),]\n",
    "orgs_df = orgs_df.loc[~orgs_df['Holiday Website Status'].isnull(),]"
   ]
  },
  {
   "cell_type": "code",
   "execution_count": 5,
   "id": "7a72be17-4122-47ef-a031-61a0144e42a7",
   "metadata": {},
   "outputs": [
    {
     "data": {
      "text/plain": [
       "160"
      ]
     },
     "execution_count": 5,
     "metadata": {},
     "output_type": "execute_result"
    }
   ],
   "source": [
    "orgs_df['ntd_id_2022'].nunique()"
   ]
  },
  {
   "cell_type": "code",
   "execution_count": 6,
   "id": "6dfef3f0-5de8-4b02-a956-c339afdafa81",
   "metadata": {},
   "outputs": [
    {
     "data": {
      "text/plain": [
       "Current       143\n",
       "Missing        12\n",
       "Old             3\n",
       "Off-Season      2\n",
       "Name: Holiday Website Status, dtype: int64"
      ]
     },
     "execution_count": 6,
     "metadata": {},
     "output_type": "execute_result"
    }
   ],
   "source": [
    "orgs_df['Holiday Website Status'].value_counts()"
   ]
  },
  {
   "cell_type": "code",
   "execution_count": 7,
   "id": "89be9a52-d326-4eb8-b4a4-388f25ae478b",
   "metadata": {},
   "outputs": [
    {
     "data": {
      "text/html": [
       "<div>\n",
       "<style scoped>\n",
       "    .dataframe tbody tr th:only-of-type {\n",
       "        vertical-align: middle;\n",
       "    }\n",
       "\n",
       "    .dataframe tbody tr th {\n",
       "        vertical-align: top;\n",
       "    }\n",
       "\n",
       "    .dataframe thead th {\n",
       "        text-align: right;\n",
       "    }\n",
       "</style>\n",
       "<table border=\"1\" class=\"dataframe\">\n",
       "  <thead>\n",
       "    <tr style=\"text-align: right;\">\n",
       "      <th></th>\n",
       "      <th>ntd_id_2022</th>\n",
       "      <th>Holiday Website Status</th>\n",
       "    </tr>\n",
       "  </thead>\n",
       "  <tbody>\n",
       "    <tr>\n",
       "      <th>1</th>\n",
       "      <td>90023</td>\n",
       "      <td>Current</td>\n",
       "    </tr>\n",
       "    <tr>\n",
       "      <th>7</th>\n",
       "      <td>90281</td>\n",
       "      <td>Missing</td>\n",
       "    </tr>\n",
       "    <tr>\n",
       "      <th>17</th>\n",
       "      <td>90027</td>\n",
       "      <td>Current</td>\n",
       "    </tr>\n",
       "    <tr>\n",
       "      <th>25</th>\n",
       "      <td>90267</td>\n",
       "      <td>Current</td>\n",
       "    </tr>\n",
       "    <tr>\n",
       "      <th>27</th>\n",
       "      <td>91088</td>\n",
       "      <td>Current</td>\n",
       "    </tr>\n",
       "    <tr>\n",
       "      <th>...</th>\n",
       "      <td>...</td>\n",
       "      <td>...</td>\n",
       "    </tr>\n",
       "    <tr>\n",
       "      <th>1349</th>\n",
       "      <td>90121</td>\n",
       "      <td>Current</td>\n",
       "    </tr>\n",
       "    <tr>\n",
       "      <th>1368</th>\n",
       "      <td>91093</td>\n",
       "      <td>Current</td>\n",
       "    </tr>\n",
       "    <tr>\n",
       "      <th>1381</th>\n",
       "      <td>99424</td>\n",
       "      <td>Current</td>\n",
       "    </tr>\n",
       "    <tr>\n",
       "      <th>1386</th>\n",
       "      <td>91059</td>\n",
       "      <td>Current</td>\n",
       "    </tr>\n",
       "    <tr>\n",
       "      <th>1393</th>\n",
       "      <td>91095</td>\n",
       "      <td>Current</td>\n",
       "    </tr>\n",
       "  </tbody>\n",
       "</table>\n",
       "<p>160 rows × 2 columns</p>\n",
       "</div>"
      ],
      "text/plain": [
       "     ntd_id_2022 Holiday Website Status\n",
       "1          90023                Current\n",
       "7          90281                Missing\n",
       "17         90027                Current\n",
       "25         90267                Current\n",
       "27         91088                Current\n",
       "...          ...                    ...\n",
       "1349       90121                Current\n",
       "1368       91093                Current\n",
       "1381       99424                Current\n",
       "1386       91059                Current\n",
       "1393       91095                Current\n",
       "\n",
       "[160 rows x 2 columns]"
      ]
     },
     "execution_count": 7,
     "metadata": {},
     "output_type": "execute_result"
    }
   ],
   "source": [
    "orgs_df[['ntd_id_2022','Holiday Website Status']]"
   ]
  },
  {
   "cell_type": "code",
   "execution_count": 8,
   "id": "ef055f55-13d7-42b0-9a33-c204e20896fa",
   "metadata": {},
   "outputs": [],
   "source": [
    "ntd_ids = list(set(orgs_df['ntd_id_2022'].dropna()))\n",
    "ntd_ids_for_query = ','.join(map(\"'{0}'\".format, ntd_ids))"
   ]
  },
  {
   "cell_type": "code",
   "execution_count": 9,
   "id": "357721d8-2a9c-4a9b-8cc0-64ae2ea6ba45",
   "metadata": {},
   "outputs": [
    {
     "data": {
      "text/html": [
       "<div>\n",
       "<style scoped>\n",
       "    .dataframe tbody tr th:only-of-type {\n",
       "        vertical-align: middle;\n",
       "    }\n",
       "\n",
       "    .dataframe tbody tr th {\n",
       "        vertical-align: top;\n",
       "    }\n",
       "\n",
       "    .dataframe thead th {\n",
       "        text-align: right;\n",
       "    }\n",
       "</style>\n",
       "<table border=\"1\" class=\"dataframe\">\n",
       "  <thead>\n",
       "    <tr style=\"text-align: right;\">\n",
       "      <th></th>\n",
       "      <th>year</th>\n",
       "      <th>ntd_id_2022</th>\n",
       "      <th>agency_name</th>\n",
       "      <th>reporter_type</th>\n",
       "      <th>time_period</th>\n",
       "      <th>sum_unlinked_passenger_trips_upt</th>\n",
       "    </tr>\n",
       "  </thead>\n",
       "  <tbody>\n",
       "    <tr>\n",
       "      <th>0</th>\n",
       "      <td>2022</td>\n",
       "      <td>90079</td>\n",
       "      <td>SunLine Transit Agency</td>\n",
       "      <td>Full Reporter</td>\n",
       "      <td>Annual Total</td>\n",
       "      <td>2298805.0</td>\n",
       "    </tr>\n",
       "    <tr>\n",
       "      <th>1</th>\n",
       "      <td>2022</td>\n",
       "      <td>90200</td>\n",
       "      <td>Kings County Area Public Transit Agency</td>\n",
       "      <td>Full Reporter</td>\n",
       "      <td>Annual Total</td>\n",
       "      <td>490448.0</td>\n",
       "    </tr>\n",
       "    <tr>\n",
       "      <th>2</th>\n",
       "      <td>2022</td>\n",
       "      <td>90196</td>\n",
       "      <td>County of Placer</td>\n",
       "      <td>Full Reporter</td>\n",
       "      <td>Annual Total</td>\n",
       "      <td>683109.0</td>\n",
       "    </tr>\n",
       "    <tr>\n",
       "      <th>3</th>\n",
       "      <td>2022</td>\n",
       "      <td>90233</td>\n",
       "      <td>Yuma County Intergovernmental Public Transport...</td>\n",
       "      <td>Full Reporter</td>\n",
       "      <td>Annual Total</td>\n",
       "      <td>354065.0</td>\n",
       "    </tr>\n",
       "    <tr>\n",
       "      <th>4</th>\n",
       "      <td>2022</td>\n",
       "      <td>90154</td>\n",
       "      <td>Los Angeles County Metropolitan Transportation...</td>\n",
       "      <td>Full Reporter</td>\n",
       "      <td>Annual Total</td>\n",
       "      <td>254688124.0</td>\n",
       "    </tr>\n",
       "  </tbody>\n",
       "</table>\n",
       "</div>"
      ],
      "text/plain": [
       "   year ntd_id_2022                                        agency_name  \\\n",
       "0  2022       90079                             SunLine Transit Agency   \n",
       "1  2022       90200            Kings County Area Public Transit Agency   \n",
       "2  2022       90196                                   County of Placer   \n",
       "3  2022       90233  Yuma County Intergovernmental Public Transport...   \n",
       "4  2022       90154  Los Angeles County Metropolitan Transportation...   \n",
       "\n",
       "   reporter_type   time_period  sum_unlinked_passenger_trips_upt  \n",
       "0  Full Reporter  Annual Total                         2298805.0  \n",
       "1  Full Reporter  Annual Total                          490448.0  \n",
       "2  Full Reporter  Annual Total                          683109.0  \n",
       "3  Full Reporter  Annual Total                          354065.0  \n",
       "4  Full Reporter  Annual Total                       254688124.0  "
      ]
     },
     "execution_count": 9,
     "metadata": {},
     "output_type": "execute_result"
    }
   ],
   "source": [
    "upt = query_sql(f\"\"\"\n",
    "SELECT year, ntd_id as ntd_id_2022, agency_name, reporter_type, time_period, sum(unlinked_passenger_trips__upt_) as sum_unlinked_passenger_trips_upt  \n",
    "FROM `cal-itp-data-infra.mart_ntd.dim_annual_ntd_agency_service` \n",
    "where ntd_id in ({ntd_ids_for_query})\n",
    "and time_period = 'Annual Total'\n",
    "and year = 2022\n",
    "group by 1,2,3,4,5;\n",
    "\"\"\", as_df=True)\n",
    "upt.head()"
   ]
  },
  {
   "cell_type": "code",
   "execution_count": 10,
   "id": "52f1673d-29ba-4504-b5ec-9a9ee30956a7",
   "metadata": {},
   "outputs": [],
   "source": [
    "df = pd.merge(orgs_df[['Name','ntd_id_2022','Holiday Website Status']], upt[['ntd_id_2022','agency_name','sum_unlinked_passenger_trips_upt']],how='left',indicator=True)"
   ]
  },
  {
   "cell_type": "code",
   "execution_count": 11,
   "id": "1bd1dd14-c025-475b-b63c-0875883e9428",
   "metadata": {},
   "outputs": [
    {
     "data": {
      "text/plain": [
       "6"
      ]
     },
     "execution_count": 11,
     "metadata": {},
     "output_type": "execute_result"
    }
   ],
   "source": [
    "df['sum_unlinked_passenger_trips_upt'].isnull().sum()"
   ]
  },
  {
   "cell_type": "code",
   "execution_count": 12,
   "id": "8afd75a6-392a-429b-ab98-0aca8900c22c",
   "metadata": {},
   "outputs": [
    {
     "data": {
      "text/plain": [
       "(160, 6)"
      ]
     },
     "execution_count": 12,
     "metadata": {},
     "output_type": "execute_result"
    }
   ],
   "source": [
    "df.shape"
   ]
  },
  {
   "cell_type": "code",
   "execution_count": 13,
   "id": "d59b3bc1-b284-47db-a22f-e117b0dcfe53",
   "metadata": {},
   "outputs": [
    {
     "data": {
      "text/html": [
       "<div>\n",
       "<style scoped>\n",
       "    .dataframe tbody tr th:only-of-type {\n",
       "        vertical-align: middle;\n",
       "    }\n",
       "\n",
       "    .dataframe tbody tr th {\n",
       "        vertical-align: top;\n",
       "    }\n",
       "\n",
       "    .dataframe thead th {\n",
       "        text-align: right;\n",
       "    }\n",
       "</style>\n",
       "<table border=\"1\" class=\"dataframe\">\n",
       "  <thead>\n",
       "    <tr style=\"text-align: right;\">\n",
       "      <th></th>\n",
       "      <th>Name</th>\n",
       "      <th>ntd_id_2022</th>\n",
       "      <th>Holiday Website Status</th>\n",
       "      <th>agency_name</th>\n",
       "      <th>sum_unlinked_passenger_trips_upt</th>\n",
       "      <th>_merge</th>\n",
       "    </tr>\n",
       "  </thead>\n",
       "  <tbody>\n",
       "    <tr>\n",
       "      <th>30</th>\n",
       "      <td>City of El Segundo</td>\n",
       "      <td>99449</td>\n",
       "      <td>Off-Season</td>\n",
       "      <td>NaN</td>\n",
       "      <td>NaN</td>\n",
       "      <td>left_only</td>\n",
       "    </tr>\n",
       "    <tr>\n",
       "      <th>66</th>\n",
       "      <td>Susanville Indian Rancheria</td>\n",
       "      <td>99256</td>\n",
       "      <td>Missing</td>\n",
       "      <td>NaN</td>\n",
       "      <td>NaN</td>\n",
       "      <td>left_only</td>\n",
       "    </tr>\n",
       "    <tr>\n",
       "      <th>105</th>\n",
       "      <td>City of Duarte</td>\n",
       "      <td>90264</td>\n",
       "      <td>Current</td>\n",
       "      <td>NaN</td>\n",
       "      <td>NaN</td>\n",
       "      <td>left_only</td>\n",
       "    </tr>\n",
       "    <tr>\n",
       "      <th>106</th>\n",
       "      <td>City of Elk Grove</td>\n",
       "      <td>90205</td>\n",
       "      <td>Current</td>\n",
       "      <td>NaN</td>\n",
       "      <td>NaN</td>\n",
       "      <td>left_only</td>\n",
       "    </tr>\n",
       "    <tr>\n",
       "      <th>112</th>\n",
       "      <td>City of Sierra Madre</td>\n",
       "      <td>99447</td>\n",
       "      <td>Missing</td>\n",
       "      <td>NaN</td>\n",
       "      <td>NaN</td>\n",
       "      <td>left_only</td>\n",
       "    </tr>\n",
       "    <tr>\n",
       "      <th>124</th>\n",
       "      <td>City of Lawndale</td>\n",
       "      <td>90280</td>\n",
       "      <td>Current</td>\n",
       "      <td>NaN</td>\n",
       "      <td>NaN</td>\n",
       "      <td>left_only</td>\n",
       "    </tr>\n",
       "  </tbody>\n",
       "</table>\n",
       "</div>"
      ],
      "text/plain": [
       "                            Name ntd_id_2022 Holiday Website Status  \\\n",
       "30            City of El Segundo       99449             Off-Season   \n",
       "66   Susanville Indian Rancheria       99256                Missing   \n",
       "105               City of Duarte       90264                Current   \n",
       "106            City of Elk Grove       90205                Current   \n",
       "112         City of Sierra Madre       99447                Missing   \n",
       "124             City of Lawndale       90280                Current   \n",
       "\n",
       "    agency_name  sum_unlinked_passenger_trips_upt     _merge  \n",
       "30          NaN                               NaN  left_only  \n",
       "66          NaN                               NaN  left_only  \n",
       "105         NaN                               NaN  left_only  \n",
       "106         NaN                               NaN  left_only  \n",
       "112         NaN                               NaN  left_only  \n",
       "124         NaN                               NaN  left_only  "
      ]
     },
     "execution_count": 13,
     "metadata": {},
     "output_type": "execute_result"
    }
   ],
   "source": [
    "df.loc[df['sum_unlinked_passenger_trips_upt'].isnull(),]"
   ]
  },
  {
   "cell_type": "code",
   "execution_count": 14,
   "id": "0288f733-a62a-4a47-b14a-22a16f9b5d44",
   "metadata": {},
   "outputs": [
    {
     "data": {
      "text/html": [
       "<div>\n",
       "<style scoped>\n",
       "    .dataframe tbody tr th:only-of-type {\n",
       "        vertical-align: middle;\n",
       "    }\n",
       "\n",
       "    .dataframe tbody tr th {\n",
       "        vertical-align: top;\n",
       "    }\n",
       "\n",
       "    .dataframe thead th {\n",
       "        text-align: right;\n",
       "    }\n",
       "</style>\n",
       "<table border=\"1\" class=\"dataframe\">\n",
       "  <thead>\n",
       "    <tr style=\"text-align: right;\">\n",
       "      <th></th>\n",
       "      <th>Name</th>\n",
       "      <th>ntd_id_2022</th>\n",
       "      <th>Holiday Website Status</th>\n",
       "      <th>agency_name</th>\n",
       "      <th>sum_unlinked_passenger_trips_upt</th>\n",
       "      <th>_merge</th>\n",
       "    </tr>\n",
       "  </thead>\n",
       "  <tbody>\n",
       "    <tr>\n",
       "      <th>0</th>\n",
       "      <td>Long Beach Transit</td>\n",
       "      <td>90023</td>\n",
       "      <td>Current</td>\n",
       "      <td>Long Beach Transit</td>\n",
       "      <td>17409861.0</td>\n",
       "      <td>both</td>\n",
       "    </tr>\n",
       "    <tr>\n",
       "      <th>1</th>\n",
       "      <td>City of Lynwood</td>\n",
       "      <td>90281</td>\n",
       "      <td>Missing</td>\n",
       "      <td>City of Lynwood</td>\n",
       "      <td>114161.0</td>\n",
       "      <td>both</td>\n",
       "    </tr>\n",
       "    <tr>\n",
       "      <th>2</th>\n",
       "      <td>City of Fresno</td>\n",
       "      <td>90027</td>\n",
       "      <td>Current</td>\n",
       "      <td>City of Fresno</td>\n",
       "      <td>7120464.0</td>\n",
       "      <td>both</td>\n",
       "    </tr>\n",
       "    <tr>\n",
       "      <th>3</th>\n",
       "      <td>City of Huntington Park</td>\n",
       "      <td>90267</td>\n",
       "      <td>Current</td>\n",
       "      <td>City of Huntington Park</td>\n",
       "      <td>143920.0</td>\n",
       "      <td>both</td>\n",
       "    </tr>\n",
       "    <tr>\n",
       "      <th>4</th>\n",
       "      <td>Glenn County</td>\n",
       "      <td>91088</td>\n",
       "      <td>Current</td>\n",
       "      <td>Glenn Transit Service</td>\n",
       "      <td>19210.0</td>\n",
       "      <td>both</td>\n",
       "    </tr>\n",
       "  </tbody>\n",
       "</table>\n",
       "</div>"
      ],
      "text/plain": [
       "                      Name ntd_id_2022 Holiday Website Status  \\\n",
       "0       Long Beach Transit       90023                Current   \n",
       "1          City of Lynwood       90281                Missing   \n",
       "2           City of Fresno       90027                Current   \n",
       "3  City of Huntington Park       90267                Current   \n",
       "4             Glenn County       91088                Current   \n",
       "\n",
       "               agency_name  sum_unlinked_passenger_trips_upt _merge  \n",
       "0       Long Beach Transit                        17409861.0   both  \n",
       "1          City of Lynwood                          114161.0   both  \n",
       "2           City of Fresno                         7120464.0   both  \n",
       "3  City of Huntington Park                          143920.0   both  \n",
       "4    Glenn Transit Service                           19210.0   both  "
      ]
     },
     "execution_count": 14,
     "metadata": {},
     "output_type": "execute_result"
    }
   ],
   "source": [
    "df.head()"
   ]
  },
  {
   "cell_type": "code",
   "execution_count": 15,
   "id": "76617c8b-3204-4eb1-9f74-291c7581e2ba",
   "metadata": {},
   "outputs": [
    {
     "data": {
      "text/html": [
       "<div>\n",
       "<style scoped>\n",
       "    .dataframe tbody tr th:only-of-type {\n",
       "        vertical-align: middle;\n",
       "    }\n",
       "\n",
       "    .dataframe tbody tr th {\n",
       "        vertical-align: top;\n",
       "    }\n",
       "\n",
       "    .dataframe thead th {\n",
       "        text-align: right;\n",
       "    }\n",
       "</style>\n",
       "<table border=\"1\" class=\"dataframe\">\n",
       "  <thead>\n",
       "    <tr style=\"text-align: right;\">\n",
       "      <th></th>\n",
       "      <th>sum_unlinked_passenger_trips_upt</th>\n",
       "    </tr>\n",
       "    <tr>\n",
       "      <th>Holiday Website Status</th>\n",
       "      <th></th>\n",
       "    </tr>\n",
       "  </thead>\n",
       "  <tbody>\n",
       "    <tr>\n",
       "      <th>Current</th>\n",
       "      <td>1881743</td>\n",
       "    </tr>\n",
       "    <tr>\n",
       "      <th>Missing</th>\n",
       "      <td>23468</td>\n",
       "    </tr>\n",
       "    <tr>\n",
       "      <th>Off-Season</th>\n",
       "      <td>67</td>\n",
       "    </tr>\n",
       "    <tr>\n",
       "      <th>Old</th>\n",
       "      <td>571</td>\n",
       "    </tr>\n",
       "  </tbody>\n",
       "</table>\n",
       "</div>"
      ],
      "text/plain": [
       "                        sum_unlinked_passenger_trips_upt\n",
       "Holiday Website Status                                  \n",
       "Current                                          1881743\n",
       "Missing                                            23468\n",
       "Off-Season                                            67\n",
       "Old                                                  571"
      ]
     },
     "execution_count": 15,
     "metadata": {},
     "output_type": "execute_result"
    }
   ],
   "source": [
    "df[['Holiday Website Status','sum_unlinked_passenger_trips_upt']].groupby('Holiday Website Status').sum().div(365).round().astype(int)\n",
    "# df[['Holiday Website Status','sum_unlinked_passenger_trips_upt']].groupby('Holiday Website Status').sum().plot.bar()"
   ]
  }
 ],
 "metadata": {
  "kernelspec": {
   "display_name": "Python 3 (ipykernel)",
   "language": "python",
   "name": "python3"
  },
  "language_info": {
   "codemirror_mode": {
    "name": "ipython",
    "version": 3
   },
   "file_extension": ".py",
   "mimetype": "text/x-python",
   "name": "python",
   "nbconvert_exporter": "python",
   "pygments_lexer": "ipython3",
   "version": "3.9.13"
  }
 },
 "nbformat": 4,
 "nbformat_minor": 5
}
