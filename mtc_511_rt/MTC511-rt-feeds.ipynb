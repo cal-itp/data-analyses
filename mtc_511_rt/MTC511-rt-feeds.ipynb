{
 "cells": [
  {
   "cell_type": "code",
   "execution_count": 1,
   "id": "b2863ba7-a448-4c8a-b315-f2fde861afd4",
   "metadata": {},
   "outputs": [
    {
     "name": "stderr",
     "output_type": "stream",
     "text": [
      "/opt/conda/lib/python3.9/site-packages/geopandas/_compat.py:123: UserWarning: The Shapely GEOS version (3.10.3-CAPI-1.16.1) is incompatible with the GEOS version PyGEOS was compiled with (3.10.1-CAPI-1.16.0). Conversions between both will be slow.\n",
      "  warnings.warn(\n"
     ]
    }
   ],
   "source": [
    "from calitp.tables import tbls\n",
    "\n",
    "import os\n",
    "os.environ[\"CALITP_BQ_MAX_BYTES\"] = str(20_000_000_000)"
   ]
  },
  {
   "cell_type": "code",
   "execution_count": 2,
   "id": "19a28099-a88a-4b9b-9c2d-523b2be4e8d4",
   "metadata": {},
   "outputs": [],
   "source": [
    "import calitp.magics"
   ]
  },
  {
   "cell_type": "code",
   "execution_count": 3,
   "id": "2fb31f04-e423-4a74-bea0-81e4b482666f",
   "metadata": {},
   "outputs": [],
   "source": [
    "from calitp import query_sql"
   ]
  },
  {
   "cell_type": "code",
   "execution_count": 4,
   "id": "ef56dac0-a339-496a-9c5a-fa42fa733155",
   "metadata": {},
   "outputs": [],
   "source": [
    "SELECTED_DATE = \"2022-11-08\"\n",
    "SELECTED_HOUR = 0\n",
    "ITP_ID_URL_NUM_LIST = [\n",
    "    [4,1],\n",
    "    [10,1],\n",
    "    [279,1],\n",
    "    [246,1],\n",
    "    [56,1],\n",
    "    [76,1],\n",
    "    [61,1],\n",
    "    [106,0],\n",
    "    [110,1],\n",
    "    [127,1],\n",
    "    [194,0],\n",
    "    [282,0],\n",
    "    [217,0],\n",
    "    [247,1],\n",
    "    [264,1],\n",
    "    [290,1],\n",
    "    [280,0],\n",
    "    [294,1],\n",
    "    [310,1],\n",
    "    [314,1],\n",
    "    [315,1],\n",
    "    [338,1],\n",
    "    [336,0],\n",
    "    [167,1],\n",
    "    [350,0],\n",
    "    [356,1],\n",
    "    [218,1],\n",
    "    [368,1],\n",
    "    [98,0],\n",
    "    [281,0],\n",
    "    [301,0],\n",
    "    [15,0],\n",
    "    [481,0],\n",
    "    [485,0]\n",
    "    \n",
    "]"
   ]
  },
  {
   "cell_type": "code",
   "execution_count": 5,
   "id": "19ad4e50-d379-41fa-b16f-cff7772fa1f4",
   "metadata": {},
   "outputs": [
    {
     "data": {
      "text/plain": [
       "\"\\nSELECT\\n    itp_id,\\n    url_number,\\n    count(vehicle)\\nfrom cal-itp-data-infra.external_gtfs_rt.vehicle_positions\\nwhere dt = '2022-11-08'\\nand hour = 0\\nand ((itp_id = 4 and url_number = 1) OR (itp_id = 10 and url_number = 1) OR (itp_id = 279 and url_number = 1) OR (itp_id = 246 and url_number = 1) OR (itp_id = 56 and url_number = 1) OR (itp_id = 76 and url_number = 1) OR (itp_id = 61 and url_number = 1) OR (itp_id = 106 and url_number = 0) OR (itp_id = 110 and url_number = 1) OR (itp_id = 127 and url_number = 1) OR (itp_id = 194 and url_number = 0) OR (itp_id = 282 and url_number = 0) OR (itp_id = 217 and url_number = 0) OR (itp_id = 247 and url_number = 1) OR (itp_id = 264 and url_number = 1) OR (itp_id = 290 and url_number = 1) OR (itp_id = 280 and url_number = 0) OR (itp_id = 294 and url_number = 1) OR (itp_id = 310 and url_number = 1) OR (itp_id = 314 and url_number = 1) OR (itp_id = 315 and url_number = 1) OR (itp_id = 338 and url_number = 1) OR (itp_id = 336 and url_number = 0) OR (itp_id = 167 and url_number = 1) OR (itp_id = 350 and url_number = 0) OR (itp_id = 356 and url_number = 1) OR (itp_id = 218 and url_number = 1) OR (itp_id = 368 and url_number = 1) OR (itp_id = 98 and url_number = 0) OR (itp_id = 281 and url_number = 0) OR (itp_id = 301 and url_number = 0) OR (itp_id = 15 and url_number = 0) OR (itp_id = 481 and url_number = 0) OR (itp_id = 485 and url_number = 0))\\ngroup by itp_id,url_number\\nLIMIT 100\""
      ]
     },
     "execution_count": 5,
     "metadata": {},
     "output_type": "execute_result"
    }
   ],
   "source": [
    "# Build out query of ITP IDs and URL Numbers for 511 feeds\n",
    "ITP_CLAUSE = \"(\"\n",
    "for id_url_combo in ITP_ID_URL_NUM_LIST:\n",
    "    # check if on second+ element\n",
    "    if ITP_CLAUSE != '(':\n",
    "        # this is on the second or more clause, so we need to add an \"OR\" statement\n",
    "        ITP_CLAUSE += ' OR '\n",
    "        \n",
    "    # main body of the subclause of ITP ID and URL Number combos\n",
    "    ITP_CLAUSE += '(itp_id = ' + str(id_url_combo[0]) + ' and url_number = ' + str(id_url_combo[1]) + ')'\n",
    "\n",
    "# Wrap up subclause with closing parenthesis    \n",
    "ITP_CLAUSE += ')'\n",
    "\n",
    "# Create overall query for vehicle positions\n",
    "RT_VEHICLES_QUERY = \"\"\"\n",
    "SELECT\n",
    "    itp_id,\n",
    "    url_number,\n",
    "    count(vehicle)\n",
    "from cal-itp-data-infra.external_gtfs_rt.vehicle_positions\n",
    "where dt = '\"\"\" + SELECTED_DATE + \"\"\"'\n",
    "and hour = \"\"\" + str(SELECTED_HOUR) + \"\"\"\n",
    "and \"\"\" + ITP_CLAUSE + \"\"\"\n",
    "group by itp_id,url_number\n",
    "LIMIT 100\"\"\"\n",
    "\n",
    "# print overall query\n",
    "RT_VEHICLES_QUERY"
   ]
  },
  {
   "cell_type": "code",
   "execution_count": 6,
   "id": "841e7723-0776-4e3a-982d-5e923250a54b",
   "metadata": {},
   "outputs": [],
   "source": [
    "df_vehicles = query_sql(RT_VEHICLES_QUERY, as_df=True)"
   ]
  },
  {
   "cell_type": "code",
   "execution_count": 7,
   "id": "3df79eb3-7f18-46e2-9cb3-fc4ab2f53356",
   "metadata": {},
   "outputs": [
    {
     "name": "stdout",
     "output_type": "stream",
     "text": [
      "ITP IDs with no RT vehicle data\n",
      "[10, 15, 56, 76, 264, 279, 281, 282, 338, 356, 368, 481, 485]\n"
     ]
    }
   ],
   "source": [
    "# convert dataframe to list because I, Evan, am not a pandas whiz\n",
    "itp_ids_with_rt = df_vehicles['itp_id'].tolist()\n",
    "\n",
    "# create placeholder list for itp_ids without RT\n",
    "itp_ids_without_rt_vehicles = []\n",
    "\n",
    "# iterate through input list to check if RT was found to exist\n",
    "for itp_id in ITP_ID_URL_NUM_LIST:\n",
    "    cur_id = itp_id[0]\n",
    "    if cur_id not in itp_ids_with_rt:\n",
    "        itp_ids_without_rt_vehicles.append(cur_id)\n",
    "        \n",
    "# print out ITP_IDs with no data\n",
    "print('ITP IDs with no RT vehicle data')\n",
    "print(sorted(itp_ids_without_rt_vehicles))"
   ]
  },
  {
   "cell_type": "code",
   "execution_count": 8,
   "id": "e22b0f03-7331-48e0-9918-f6c3789b13c6",
   "metadata": {},
   "outputs": [
    {
     "data": {
      "text/plain": [
       "\"\\nSELECT\\n    itp_id,\\n    url_number,\\n    count(tripUpdate)\\nFROM `cal-itp-data-infra.external_gtfs_rt.trip_updates`\\nwhere dt = '2022-11-08'\\nand hour = 0\\nand ((itp_id = 4 and url_number = 1) OR (itp_id = 10 and url_number = 1) OR (itp_id = 279 and url_number = 1) OR (itp_id = 246 and url_number = 1) OR (itp_id = 56 and url_number = 1) OR (itp_id = 76 and url_number = 1) OR (itp_id = 61 and url_number = 1) OR (itp_id = 106 and url_number = 0) OR (itp_id = 110 and url_number = 1) OR (itp_id = 127 and url_number = 1) OR (itp_id = 194 and url_number = 0) OR (itp_id = 282 and url_number = 0) OR (itp_id = 217 and url_number = 0) OR (itp_id = 247 and url_number = 1) OR (itp_id = 264 and url_number = 1) OR (itp_id = 290 and url_number = 1) OR (itp_id = 280 and url_number = 0) OR (itp_id = 294 and url_number = 1) OR (itp_id = 310 and url_number = 1) OR (itp_id = 314 and url_number = 1) OR (itp_id = 315 and url_number = 1) OR (itp_id = 338 and url_number = 1) OR (itp_id = 336 and url_number = 0) OR (itp_id = 167 and url_number = 1) OR (itp_id = 350 and url_number = 0) OR (itp_id = 356 and url_number = 1) OR (itp_id = 218 and url_number = 1) OR (itp_id = 368 and url_number = 1) OR (itp_id = 98 and url_number = 0) OR (itp_id = 281 and url_number = 0) OR (itp_id = 301 and url_number = 0) OR (itp_id = 15 and url_number = 0) OR (itp_id = 481 and url_number = 0) OR (itp_id = 485 and url_number = 0))\\ngroup by itp_id,url_number\\nLIMIT 100\""
      ]
     },
     "execution_count": 8,
     "metadata": {},
     "output_type": "execute_result"
    }
   ],
   "source": [
    "# Create overall query for trip updates\n",
    "RT_TRIPS_QUERY = \"\"\"\n",
    "SELECT\n",
    "    itp_id,\n",
    "    url_number,\n",
    "    count(tripUpdate)\n",
    "FROM `cal-itp-data-infra.external_gtfs_rt.trip_updates`\n",
    "where dt = '\"\"\" + SELECTED_DATE + \"\"\"'\n",
    "and hour = \"\"\" + str(SELECTED_HOUR) + \"\"\"\n",
    "and \"\"\" + ITP_CLAUSE + \"\"\"\n",
    "group by itp_id,url_number\n",
    "LIMIT 100\"\"\"\n",
    "\n",
    "# print overall query\n",
    "RT_TRIPS_QUERY"
   ]
  },
  {
   "cell_type": "code",
   "execution_count": 11,
   "id": "a303179e-c2b9-42de-88b1-e616c86627f1",
   "metadata": {},
   "outputs": [
    {
     "ename": "DatabaseError",
     "evalue": "(google.cloud.bigquery.dbapi.exceptions.DatabaseError) 500 Query exceeded limit for bytes billed: 5000000000. 5860491264 or higher required.\n\nLocation: us-west2\nJob ID: fdb12601-c582-4331-925d-572ec7d50123\n\n[SQL: \nSELECT\n    itp_id,\n    url_number,\n    count(tripUpdate)\nFROM `cal-itp-data-infra.external_gtfs_rt.trip_updates`\nwhere dt = '2022-11-08'\nand hour = 0\nand ((itp_id = 4 and url_number = 1) OR (itp_id = 10 and url_number = 1) OR (itp_id = 279 and url_number = 1) OR (itp_id = 246 and url_number = 1) OR (itp_id = 56 and url_number = 1) OR (itp_id = 76 and url_number = 1) OR (itp_id = 61 and url_number = 1) OR (itp_id = 106 and url_number = 0) OR (itp_id = 110 and url_number = 1) OR (itp_id = 127 and url_number = 1) OR (itp_id = 194 and url_number = 0) OR (itp_id = 282 and url_number = 0) OR (itp_id = 217 and url_number = 0) OR (itp_id = 247 and url_number = 1) OR (itp_id = 264 and url_number = 1) OR (itp_id = 290 and url_number = 1) OR (itp_id = 280 and url_number = 0) OR (itp_id = 294 and url_number = 1) OR (itp_id = 310 and url_number = 1) OR (itp_id = 314 and url_number = 1) OR (itp_id = 315 and url_number = 1) OR (itp_id = 338 and url_number = 1) OR (itp_id = 336 and url_number = 0) OR (itp_id = 167 and url_number = 1) OR (itp_id = 350 and url_number = 0) OR (itp_id = 356 and url_number = 1) OR (itp_id = 218 and url_number = 1) OR (itp_id = 368 and url_number = 1) OR (itp_id = 98 and url_number = 0) OR (itp_id = 281 and url_number = 0) OR (itp_id = 301 and url_number = 0) OR (itp_id = 15 and url_number = 0) OR (itp_id = 481 and url_number = 0) OR (itp_id = 485 and url_number = 0))\ngroup by itp_id,url_number\nLIMIT 100]\n(Background on this error at: https://sqlalche.me/e/14/4xp6)",
     "output_type": "error",
     "traceback": [
      "\u001b[0;31m---------------------------------------------------------------------------\u001b[0m",
      "\u001b[0;31mInternalServerError\u001b[0m                       Traceback (most recent call last)",
      "File \u001b[0;32m/opt/conda/lib/python3.9/site-packages/google/cloud/bigquery/dbapi/cursor.py:203\u001b[0m, in \u001b[0;36mCursor._execute\u001b[0;34m(self, formatted_operation, parameters, job_id, job_config, parameter_types)\u001b[0m\n\u001b[1;32m    202\u001b[0m \u001b[38;5;28;01mtry\u001b[39;00m:\n\u001b[0;32m--> 203\u001b[0m     \u001b[38;5;28;43mself\u001b[39;49m\u001b[38;5;241;43m.\u001b[39;49m\u001b[43m_query_job\u001b[49m\u001b[38;5;241;43m.\u001b[39;49m\u001b[43mresult\u001b[49m\u001b[43m(\u001b[49m\u001b[43m)\u001b[49m\n\u001b[1;32m    204\u001b[0m \u001b[38;5;28;01mexcept\u001b[39;00m google\u001b[38;5;241m.\u001b[39mcloud\u001b[38;5;241m.\u001b[39mexceptions\u001b[38;5;241m.\u001b[39mGoogleCloudError \u001b[38;5;28;01mas\u001b[39;00m exc:\n",
      "File \u001b[0;32m/opt/conda/lib/python3.9/site-packages/google/cloud/bigquery/job/query.py:1499\u001b[0m, in \u001b[0;36mQueryJob.result\u001b[0;34m(self, page_size, max_results, retry, timeout, start_index, job_retry)\u001b[0m\n\u001b[1;32m   1497\u001b[0m         do_get_result \u001b[38;5;241m=\u001b[39m job_retry(do_get_result)\n\u001b[0;32m-> 1499\u001b[0m     \u001b[43mdo_get_result\u001b[49m\u001b[43m(\u001b[49m\u001b[43m)\u001b[49m\n\u001b[1;32m   1501\u001b[0m \u001b[38;5;28;01mexcept\u001b[39;00m exceptions\u001b[38;5;241m.\u001b[39mGoogleAPICallError \u001b[38;5;28;01mas\u001b[39;00m exc:\n",
      "File \u001b[0;32m/opt/conda/lib/python3.9/site-packages/google/api_core/retry.py:283\u001b[0m, in \u001b[0;36mRetry.__call__.<locals>.retry_wrapped_func\u001b[0;34m(*args, **kwargs)\u001b[0m\n\u001b[1;32m    280\u001b[0m sleep_generator \u001b[38;5;241m=\u001b[39m exponential_sleep_generator(\n\u001b[1;32m    281\u001b[0m     \u001b[38;5;28mself\u001b[39m\u001b[38;5;241m.\u001b[39m_initial, \u001b[38;5;28mself\u001b[39m\u001b[38;5;241m.\u001b[39m_maximum, multiplier\u001b[38;5;241m=\u001b[39m\u001b[38;5;28mself\u001b[39m\u001b[38;5;241m.\u001b[39m_multiplier\n\u001b[1;32m    282\u001b[0m )\n\u001b[0;32m--> 283\u001b[0m \u001b[38;5;28;01mreturn\u001b[39;00m \u001b[43mretry_target\u001b[49m\u001b[43m(\u001b[49m\n\u001b[1;32m    284\u001b[0m \u001b[43m    \u001b[49m\u001b[43mtarget\u001b[49m\u001b[43m,\u001b[49m\n\u001b[1;32m    285\u001b[0m \u001b[43m    \u001b[49m\u001b[38;5;28;43mself\u001b[39;49m\u001b[38;5;241;43m.\u001b[39;49m\u001b[43m_predicate\u001b[49m\u001b[43m,\u001b[49m\n\u001b[1;32m    286\u001b[0m \u001b[43m    \u001b[49m\u001b[43msleep_generator\u001b[49m\u001b[43m,\u001b[49m\n\u001b[1;32m    287\u001b[0m \u001b[43m    \u001b[49m\u001b[38;5;28;43mself\u001b[39;49m\u001b[38;5;241;43m.\u001b[39;49m\u001b[43m_deadline\u001b[49m\u001b[43m,\u001b[49m\n\u001b[1;32m    288\u001b[0m \u001b[43m    \u001b[49m\u001b[43mon_error\u001b[49m\u001b[38;5;241;43m=\u001b[39;49m\u001b[43mon_error\u001b[49m\u001b[43m,\u001b[49m\n\u001b[1;32m    289\u001b[0m \u001b[43m\u001b[49m\u001b[43m)\u001b[49m\n",
      "File \u001b[0;32m/opt/conda/lib/python3.9/site-packages/google/api_core/retry.py:190\u001b[0m, in \u001b[0;36mretry_target\u001b[0;34m(target, predicate, sleep_generator, deadline, on_error)\u001b[0m\n\u001b[1;32m    189\u001b[0m \u001b[38;5;28;01mtry\u001b[39;00m:\n\u001b[0;32m--> 190\u001b[0m     \u001b[38;5;28;01mreturn\u001b[39;00m \u001b[43mtarget\u001b[49m\u001b[43m(\u001b[49m\u001b[43m)\u001b[49m\n\u001b[1;32m    192\u001b[0m \u001b[38;5;66;03m# pylint: disable=broad-except\u001b[39;00m\n\u001b[1;32m    193\u001b[0m \u001b[38;5;66;03m# This function explicitly must deal with broad exceptions.\u001b[39;00m\n",
      "File \u001b[0;32m/opt/conda/lib/python3.9/site-packages/google/cloud/bigquery/job/query.py:1489\u001b[0m, in \u001b[0;36mQueryJob.result.<locals>.do_get_result\u001b[0;34m()\u001b[0m\n\u001b[1;32m   1487\u001b[0m     \u001b[38;5;28mself\u001b[39m\u001b[38;5;241m.\u001b[39m_job_retry \u001b[38;5;241m=\u001b[39m job_retry\n\u001b[0;32m-> 1489\u001b[0m \u001b[38;5;28;43msuper\u001b[39;49m\u001b[43m(\u001b[49m\u001b[43mQueryJob\u001b[49m\u001b[43m,\u001b[49m\u001b[43m \u001b[49m\u001b[38;5;28;43mself\u001b[39;49m\u001b[43m)\u001b[49m\u001b[38;5;241;43m.\u001b[39;49m\u001b[43mresult\u001b[49m\u001b[43m(\u001b[49m\u001b[43mretry\u001b[49m\u001b[38;5;241;43m=\u001b[39;49m\u001b[43mretry\u001b[49m\u001b[43m,\u001b[49m\u001b[43m \u001b[49m\u001b[43mtimeout\u001b[49m\u001b[38;5;241;43m=\u001b[39;49m\u001b[43mtimeout\u001b[49m\u001b[43m)\u001b[49m\n\u001b[1;32m   1491\u001b[0m \u001b[38;5;66;03m# Since the job could already be \"done\" (e.g. got a finished job\u001b[39;00m\n\u001b[1;32m   1492\u001b[0m \u001b[38;5;66;03m# via client.get_job), the superclass call to done() might not\u001b[39;00m\n\u001b[1;32m   1493\u001b[0m \u001b[38;5;66;03m# set the self._query_results cache.\u001b[39;00m\n",
      "File \u001b[0;32m/opt/conda/lib/python3.9/site-packages/google/cloud/bigquery/job/base.py:728\u001b[0m, in \u001b[0;36m_AsyncJob.result\u001b[0;34m(self, retry, timeout)\u001b[0m\n\u001b[1;32m    727\u001b[0m kwargs \u001b[38;5;241m=\u001b[39m {} \u001b[38;5;28;01mif\u001b[39;00m retry \u001b[38;5;129;01mis\u001b[39;00m DEFAULT_RETRY \u001b[38;5;28;01melse\u001b[39;00m {\u001b[38;5;124m\"\u001b[39m\u001b[38;5;124mretry\u001b[39m\u001b[38;5;124m\"\u001b[39m: retry}\n\u001b[0;32m--> 728\u001b[0m \u001b[38;5;28;01mreturn\u001b[39;00m \u001b[38;5;28;43msuper\u001b[39;49m\u001b[43m(\u001b[49m\u001b[43m_AsyncJob\u001b[49m\u001b[43m,\u001b[49m\u001b[43m \u001b[49m\u001b[38;5;28;43mself\u001b[39;49m\u001b[43m)\u001b[49m\u001b[38;5;241;43m.\u001b[39;49m\u001b[43mresult\u001b[49m\u001b[43m(\u001b[49m\u001b[43mtimeout\u001b[49m\u001b[38;5;241;43m=\u001b[39;49m\u001b[43mtimeout\u001b[49m\u001b[43m,\u001b[49m\u001b[43m \u001b[49m\u001b[38;5;241;43m*\u001b[39;49m\u001b[38;5;241;43m*\u001b[39;49m\u001b[43mkwargs\u001b[49m\u001b[43m)\u001b[49m\n",
      "File \u001b[0;32m/opt/conda/lib/python3.9/site-packages/google/api_core/future/polling.py:137\u001b[0m, in \u001b[0;36mPollingFuture.result\u001b[0;34m(self, timeout, retry)\u001b[0m\n\u001b[1;32m    134\u001b[0m \u001b[38;5;28;01mif\u001b[39;00m \u001b[38;5;28mself\u001b[39m\u001b[38;5;241m.\u001b[39m_exception \u001b[38;5;129;01mis\u001b[39;00m \u001b[38;5;129;01mnot\u001b[39;00m \u001b[38;5;28;01mNone\u001b[39;00m:\n\u001b[1;32m    135\u001b[0m     \u001b[38;5;66;03m# pylint: disable=raising-bad-type\u001b[39;00m\n\u001b[1;32m    136\u001b[0m     \u001b[38;5;66;03m# Pylint doesn't recognize that this is valid in this case.\u001b[39;00m\n\u001b[0;32m--> 137\u001b[0m     \u001b[38;5;28;01mraise\u001b[39;00m \u001b[38;5;28mself\u001b[39m\u001b[38;5;241m.\u001b[39m_exception\n\u001b[1;32m    139\u001b[0m \u001b[38;5;28;01mreturn\u001b[39;00m \u001b[38;5;28mself\u001b[39m\u001b[38;5;241m.\u001b[39m_result\n",
      "\u001b[0;31mInternalServerError\u001b[0m: 500 Query exceeded limit for bytes billed: 5000000000. 5860491264 or higher required.\n\nLocation: us-west2\nJob ID: fdb12601-c582-4331-925d-572ec7d50123\n",
      "\nDuring handling of the above exception, another exception occurred:\n",
      "\u001b[0;31mDatabaseError\u001b[0m                             Traceback (most recent call last)",
      "File \u001b[0;32m/opt/conda/lib/python3.9/site-packages/sqlalchemy/engine/base.py:1802\u001b[0m, in \u001b[0;36mConnection._execute_context\u001b[0;34m(self, dialect, constructor, statement, parameters, execution_options, *args, **kw)\u001b[0m\n\u001b[1;32m   1801\u001b[0m     \u001b[38;5;28;01mif\u001b[39;00m \u001b[38;5;129;01mnot\u001b[39;00m evt_handled:\n\u001b[0;32m-> 1802\u001b[0m         \u001b[38;5;28;43mself\u001b[39;49m\u001b[38;5;241;43m.\u001b[39;49m\u001b[43mdialect\u001b[49m\u001b[38;5;241;43m.\u001b[39;49m\u001b[43mdo_execute\u001b[49m\u001b[43m(\u001b[49m\n\u001b[1;32m   1803\u001b[0m \u001b[43m            \u001b[49m\u001b[43mcursor\u001b[49m\u001b[43m,\u001b[49m\u001b[43m \u001b[49m\u001b[43mstatement\u001b[49m\u001b[43m,\u001b[49m\u001b[43m \u001b[49m\u001b[43mparameters\u001b[49m\u001b[43m,\u001b[49m\u001b[43m \u001b[49m\u001b[43mcontext\u001b[49m\n\u001b[1;32m   1804\u001b[0m \u001b[43m        \u001b[49m\u001b[43m)\u001b[49m\n\u001b[1;32m   1806\u001b[0m \u001b[38;5;28;01mif\u001b[39;00m \u001b[38;5;28mself\u001b[39m\u001b[38;5;241m.\u001b[39m_has_events \u001b[38;5;129;01mor\u001b[39;00m \u001b[38;5;28mself\u001b[39m\u001b[38;5;241m.\u001b[39mengine\u001b[38;5;241m.\u001b[39m_has_events:\n",
      "File \u001b[0;32m/opt/conda/lib/python3.9/site-packages/sqlalchemy/engine/default.py:719\u001b[0m, in \u001b[0;36mDefaultDialect.do_execute\u001b[0;34m(self, cursor, statement, parameters, context)\u001b[0m\n\u001b[1;32m    718\u001b[0m \u001b[38;5;28;01mdef\u001b[39;00m \u001b[38;5;21mdo_execute\u001b[39m(\u001b[38;5;28mself\u001b[39m, cursor, statement, parameters, context\u001b[38;5;241m=\u001b[39m\u001b[38;5;28;01mNone\u001b[39;00m):\n\u001b[0;32m--> 719\u001b[0m     \u001b[43mcursor\u001b[49m\u001b[38;5;241;43m.\u001b[39;49m\u001b[43mexecute\u001b[49m\u001b[43m(\u001b[49m\u001b[43mstatement\u001b[49m\u001b[43m,\u001b[49m\u001b[43m \u001b[49m\u001b[43mparameters\u001b[49m\u001b[43m)\u001b[49m\n",
      "File \u001b[0;32m/opt/conda/lib/python3.9/site-packages/google/cloud/bigquery/dbapi/_helpers.py:494\u001b[0m, in \u001b[0;36mraise_on_closed.<locals>._raise_on_closed.<locals>.with_closed_check\u001b[0;34m(self, *args, **kwargs)\u001b[0m\n\u001b[1;32m    493\u001b[0m     \u001b[38;5;28;01mraise\u001b[39;00m exc_class(exc_msg)\n\u001b[0;32m--> 494\u001b[0m \u001b[38;5;28;01mreturn\u001b[39;00m \u001b[43mmethod\u001b[49m\u001b[43m(\u001b[49m\u001b[38;5;28;43mself\u001b[39;49m\u001b[43m,\u001b[49m\u001b[43m \u001b[49m\u001b[38;5;241;43m*\u001b[39;49m\u001b[43margs\u001b[49m\u001b[43m,\u001b[49m\u001b[43m \u001b[49m\u001b[38;5;241;43m*\u001b[39;49m\u001b[38;5;241;43m*\u001b[39;49m\u001b[43mkwargs\u001b[49m\u001b[43m)\u001b[49m\n",
      "File \u001b[0;32m/opt/conda/lib/python3.9/site-packages/google/cloud/bigquery/dbapi/cursor.py:166\u001b[0m, in \u001b[0;36mCursor.execute\u001b[0;34m(self, operation, parameters, job_id, job_config)\u001b[0m\n\u001b[1;32m    165\u001b[0m formatted_operation, parameter_types \u001b[38;5;241m=\u001b[39m _format_operation(operation, parameters)\n\u001b[0;32m--> 166\u001b[0m \u001b[38;5;28;43mself\u001b[39;49m\u001b[38;5;241;43m.\u001b[39;49m\u001b[43m_execute\u001b[49m\u001b[43m(\u001b[49m\n\u001b[1;32m    167\u001b[0m \u001b[43m    \u001b[49m\u001b[43mformatted_operation\u001b[49m\u001b[43m,\u001b[49m\u001b[43m \u001b[49m\u001b[43mparameters\u001b[49m\u001b[43m,\u001b[49m\u001b[43m \u001b[49m\u001b[43mjob_id\u001b[49m\u001b[43m,\u001b[49m\u001b[43m \u001b[49m\u001b[43mjob_config\u001b[49m\u001b[43m,\u001b[49m\u001b[43m \u001b[49m\u001b[43mparameter_types\u001b[49m\n\u001b[1;32m    168\u001b[0m \u001b[43m\u001b[49m\u001b[43m)\u001b[49m\n",
      "File \u001b[0;32m/opt/conda/lib/python3.9/site-packages/google/cloud/bigquery/dbapi/cursor.py:205\u001b[0m, in \u001b[0;36mCursor._execute\u001b[0;34m(self, formatted_operation, parameters, job_id, job_config, parameter_types)\u001b[0m\n\u001b[1;32m    204\u001b[0m \u001b[38;5;28;01mexcept\u001b[39;00m google\u001b[38;5;241m.\u001b[39mcloud\u001b[38;5;241m.\u001b[39mexceptions\u001b[38;5;241m.\u001b[39mGoogleCloudError \u001b[38;5;28;01mas\u001b[39;00m exc:\n\u001b[0;32m--> 205\u001b[0m     \u001b[38;5;28;01mraise\u001b[39;00m exceptions\u001b[38;5;241m.\u001b[39mDatabaseError(exc)\n\u001b[1;32m    207\u001b[0m query_results \u001b[38;5;241m=\u001b[39m \u001b[38;5;28mself\u001b[39m\u001b[38;5;241m.\u001b[39m_query_job\u001b[38;5;241m.\u001b[39m_query_results\n",
      "\u001b[0;31mDatabaseError\u001b[0m: 500 Query exceeded limit for bytes billed: 5000000000. 5860491264 or higher required.\n\nLocation: us-west2\nJob ID: fdb12601-c582-4331-925d-572ec7d50123\n",
      "\nThe above exception was the direct cause of the following exception:\n",
      "\u001b[0;31mDatabaseError\u001b[0m                             Traceback (most recent call last)",
      "Cell \u001b[0;32mIn[11], line 1\u001b[0m\n\u001b[0;32m----> 1\u001b[0m df_trips \u001b[38;5;241m=\u001b[39m \u001b[43mquery_sql\u001b[49m\u001b[43m(\u001b[49m\u001b[43mRT_TRIPS_QUERY\u001b[49m\u001b[43m,\u001b[49m\u001b[43m \u001b[49m\u001b[43mas_df\u001b[49m\u001b[38;5;241;43m=\u001b[39;49m\u001b[38;5;28;43;01mTrue\u001b[39;49;00m\u001b[43m)\u001b[49m\n",
      "File \u001b[0;32m/opt/conda/lib/python3.9/site-packages/calitp/sql.py:141\u001b[0m, in \u001b[0;36mquery_sql\u001b[0;34m(fname, write_as, replace, dry_run, as_df)\u001b[0m\n\u001b[1;32m    138\u001b[0m engine \u001b[38;5;241m=\u001b[39m get_engine()\n\u001b[1;32m    140\u001b[0m \u001b[38;5;28;01mif\u001b[39;00m as_df:\n\u001b[0;32m--> 141\u001b[0m     \u001b[38;5;28;01mreturn\u001b[39;00m \u001b[43mpd\u001b[49m\u001b[38;5;241;43m.\u001b[39;49m\u001b[43mread_sql_query\u001b[49m\u001b[43m(\u001b[49m\u001b[43msql_code\u001b[49m\u001b[43m,\u001b[49m\u001b[43m \u001b[49m\u001b[43mengine\u001b[49m\u001b[43m)\u001b[49m\n\u001b[1;32m    143\u001b[0m \u001b[38;5;28;01mreturn\u001b[39;00m engine\u001b[38;5;241m.\u001b[39mexecute(sql_code)\n",
      "File \u001b[0;32m/opt/conda/lib/python3.9/site-packages/pandas/io/sql.py:436\u001b[0m, in \u001b[0;36mread_sql_query\u001b[0;34m(sql, con, index_col, coerce_float, params, parse_dates, chunksize, dtype)\u001b[0m\n\u001b[1;32m    378\u001b[0m \u001b[38;5;124;03m\"\"\"\u001b[39;00m\n\u001b[1;32m    379\u001b[0m \u001b[38;5;124;03mRead SQL query into a DataFrame.\u001b[39;00m\n\u001b[1;32m    380\u001b[0m \n\u001b[0;32m   (...)\u001b[0m\n\u001b[1;32m    433\u001b[0m \u001b[38;5;124;03mparameter will be converted to UTC.\u001b[39;00m\n\u001b[1;32m    434\u001b[0m \u001b[38;5;124;03m\"\"\"\u001b[39;00m\n\u001b[1;32m    435\u001b[0m pandas_sql \u001b[38;5;241m=\u001b[39m pandasSQL_builder(con)\n\u001b[0;32m--> 436\u001b[0m \u001b[38;5;28;01mreturn\u001b[39;00m \u001b[43mpandas_sql\u001b[49m\u001b[38;5;241;43m.\u001b[39;49m\u001b[43mread_query\u001b[49m\u001b[43m(\u001b[49m\n\u001b[1;32m    437\u001b[0m \u001b[43m    \u001b[49m\u001b[43msql\u001b[49m\u001b[43m,\u001b[49m\n\u001b[1;32m    438\u001b[0m \u001b[43m    \u001b[49m\u001b[43mindex_col\u001b[49m\u001b[38;5;241;43m=\u001b[39;49m\u001b[43mindex_col\u001b[49m\u001b[43m,\u001b[49m\n\u001b[1;32m    439\u001b[0m \u001b[43m    \u001b[49m\u001b[43mparams\u001b[49m\u001b[38;5;241;43m=\u001b[39;49m\u001b[43mparams\u001b[49m\u001b[43m,\u001b[49m\n\u001b[1;32m    440\u001b[0m \u001b[43m    \u001b[49m\u001b[43mcoerce_float\u001b[49m\u001b[38;5;241;43m=\u001b[39;49m\u001b[43mcoerce_float\u001b[49m\u001b[43m,\u001b[49m\n\u001b[1;32m    441\u001b[0m \u001b[43m    \u001b[49m\u001b[43mparse_dates\u001b[49m\u001b[38;5;241;43m=\u001b[39;49m\u001b[43mparse_dates\u001b[49m\u001b[43m,\u001b[49m\n\u001b[1;32m    442\u001b[0m \u001b[43m    \u001b[49m\u001b[43mchunksize\u001b[49m\u001b[38;5;241;43m=\u001b[39;49m\u001b[43mchunksize\u001b[49m\u001b[43m,\u001b[49m\n\u001b[1;32m    443\u001b[0m \u001b[43m    \u001b[49m\u001b[43mdtype\u001b[49m\u001b[38;5;241;43m=\u001b[39;49m\u001b[43mdtype\u001b[49m\u001b[43m,\u001b[49m\n\u001b[1;32m    444\u001b[0m \u001b[43m\u001b[49m\u001b[43m)\u001b[49m\n",
      "File \u001b[0;32m/opt/conda/lib/python3.9/site-packages/pandas/io/sql.py:1579\u001b[0m, in \u001b[0;36mSQLDatabase.read_query\u001b[0;34m(self, sql, index_col, coerce_float, parse_dates, params, chunksize, dtype)\u001b[0m\n\u001b[1;32m   1531\u001b[0m \u001b[38;5;124;03m\"\"\"\u001b[39;00m\n\u001b[1;32m   1532\u001b[0m \u001b[38;5;124;03mRead SQL query into a DataFrame.\u001b[39;00m\n\u001b[1;32m   1533\u001b[0m \n\u001b[0;32m   (...)\u001b[0m\n\u001b[1;32m   1575\u001b[0m \n\u001b[1;32m   1576\u001b[0m \u001b[38;5;124;03m\"\"\"\u001b[39;00m\n\u001b[1;32m   1577\u001b[0m args \u001b[38;5;241m=\u001b[39m _convert_params(sql, params)\n\u001b[0;32m-> 1579\u001b[0m result \u001b[38;5;241m=\u001b[39m \u001b[38;5;28;43mself\u001b[39;49m\u001b[38;5;241;43m.\u001b[39;49m\u001b[43mexecute\u001b[49m\u001b[43m(\u001b[49m\u001b[38;5;241;43m*\u001b[39;49m\u001b[43margs\u001b[49m\u001b[43m)\u001b[49m\n\u001b[1;32m   1580\u001b[0m columns \u001b[38;5;241m=\u001b[39m result\u001b[38;5;241m.\u001b[39mkeys()\n\u001b[1;32m   1582\u001b[0m \u001b[38;5;28;01mif\u001b[39;00m chunksize \u001b[38;5;129;01mis\u001b[39;00m \u001b[38;5;129;01mnot\u001b[39;00m \u001b[38;5;28;01mNone\u001b[39;00m:\n",
      "File \u001b[0;32m/opt/conda/lib/python3.9/site-packages/pandas/io/sql.py:1424\u001b[0m, in \u001b[0;36mSQLDatabase.execute\u001b[0;34m(self, *args, **kwargs)\u001b[0m\n\u001b[1;32m   1422\u001b[0m \u001b[38;5;28;01mdef\u001b[39;00m \u001b[38;5;21mexecute\u001b[39m(\u001b[38;5;28mself\u001b[39m, \u001b[38;5;241m*\u001b[39margs, \u001b[38;5;241m*\u001b[39m\u001b[38;5;241m*\u001b[39mkwargs):\n\u001b[1;32m   1423\u001b[0m     \u001b[38;5;124;03m\"\"\"Simple passthrough to SQLAlchemy connectable\"\"\"\u001b[39;00m\n\u001b[0;32m-> 1424\u001b[0m     \u001b[38;5;28;01mreturn\u001b[39;00m \u001b[38;5;28;43mself\u001b[39;49m\u001b[38;5;241;43m.\u001b[39;49m\u001b[43mconnectable\u001b[49m\u001b[38;5;241;43m.\u001b[39;49m\u001b[43mexecution_options\u001b[49m\u001b[43m(\u001b[49m\u001b[43m)\u001b[49m\u001b[38;5;241;43m.\u001b[39;49m\u001b[43mexecute\u001b[49m\u001b[43m(\u001b[49m\u001b[38;5;241;43m*\u001b[39;49m\u001b[43margs\u001b[49m\u001b[43m,\u001b[49m\u001b[43m \u001b[49m\u001b[38;5;241;43m*\u001b[39;49m\u001b[38;5;241;43m*\u001b[39;49m\u001b[43mkwargs\u001b[49m\u001b[43m)\u001b[49m\n",
      "File \u001b[0;32m<string>:2\u001b[0m, in \u001b[0;36mexecute\u001b[0;34m(self, statement, *multiparams, **params)\u001b[0m\n",
      "File \u001b[0;32m/opt/conda/lib/python3.9/site-packages/sqlalchemy/util/deprecations.py:401\u001b[0m, in \u001b[0;36m_decorate_with_warning.<locals>.warned\u001b[0;34m(fn, *args, **kwargs)\u001b[0m\n\u001b[1;32m    399\u001b[0m \u001b[38;5;28;01mif\u001b[39;00m \u001b[38;5;129;01mnot\u001b[39;00m skip_warning:\n\u001b[1;32m    400\u001b[0m     _warn_with_version(message, version, wtype, stacklevel\u001b[38;5;241m=\u001b[39m\u001b[38;5;241m3\u001b[39m)\n\u001b[0;32m--> 401\u001b[0m \u001b[38;5;28;01mreturn\u001b[39;00m \u001b[43mfn\u001b[49m\u001b[43m(\u001b[49m\u001b[38;5;241;43m*\u001b[39;49m\u001b[43margs\u001b[49m\u001b[43m,\u001b[49m\u001b[43m \u001b[49m\u001b[38;5;241;43m*\u001b[39;49m\u001b[38;5;241;43m*\u001b[39;49m\u001b[43mkwargs\u001b[49m\u001b[43m)\u001b[49m\n",
      "File \u001b[0;32m/opt/conda/lib/python3.9/site-packages/sqlalchemy/engine/base.py:3139\u001b[0m, in \u001b[0;36mEngine.execute\u001b[0;34m(self, statement, *multiparams, **params)\u001b[0m\n\u001b[1;32m   3121\u001b[0m \u001b[38;5;124;03m\"\"\"Executes the given construct and returns a\u001b[39;00m\n\u001b[1;32m   3122\u001b[0m \u001b[38;5;124;03m:class:`_engine.CursorResult`.\u001b[39;00m\n\u001b[1;32m   3123\u001b[0m \n\u001b[0;32m   (...)\u001b[0m\n\u001b[1;32m   3136\u001b[0m \n\u001b[1;32m   3137\u001b[0m \u001b[38;5;124;03m\"\"\"\u001b[39;00m\n\u001b[1;32m   3138\u001b[0m connection \u001b[38;5;241m=\u001b[39m \u001b[38;5;28mself\u001b[39m\u001b[38;5;241m.\u001b[39mconnect(close_with_result\u001b[38;5;241m=\u001b[39m\u001b[38;5;28;01mTrue\u001b[39;00m)\n\u001b[0;32m-> 3139\u001b[0m \u001b[38;5;28;01mreturn\u001b[39;00m \u001b[43mconnection\u001b[49m\u001b[38;5;241;43m.\u001b[39;49m\u001b[43mexecute\u001b[49m\u001b[43m(\u001b[49m\u001b[43mstatement\u001b[49m\u001b[43m,\u001b[49m\u001b[43m \u001b[49m\u001b[38;5;241;43m*\u001b[39;49m\u001b[43mmultiparams\u001b[49m\u001b[43m,\u001b[49m\u001b[43m \u001b[49m\u001b[38;5;241;43m*\u001b[39;49m\u001b[38;5;241;43m*\u001b[39;49m\u001b[43mparams\u001b[49m\u001b[43m)\u001b[49m\n",
      "File \u001b[0;32m/opt/conda/lib/python3.9/site-packages/sqlalchemy/engine/base.py:1274\u001b[0m, in \u001b[0;36mConnection.execute\u001b[0;34m(self, statement, *multiparams, **params)\u001b[0m\n\u001b[1;32m   1265\u001b[0m \u001b[38;5;28;01mif\u001b[39;00m \u001b[38;5;28misinstance\u001b[39m(statement, util\u001b[38;5;241m.\u001b[39mstring_types):\n\u001b[1;32m   1266\u001b[0m     util\u001b[38;5;241m.\u001b[39mwarn_deprecated_20(\n\u001b[1;32m   1267\u001b[0m         \u001b[38;5;124m\"\u001b[39m\u001b[38;5;124mPassing a string to Connection.execute() is \u001b[39m\u001b[38;5;124m\"\u001b[39m\n\u001b[1;32m   1268\u001b[0m         \u001b[38;5;124m\"\u001b[39m\u001b[38;5;124mdeprecated and will be removed in version 2.0.  Use the \u001b[39m\u001b[38;5;124m\"\u001b[39m\n\u001b[0;32m   (...)\u001b[0m\n\u001b[1;32m   1271\u001b[0m         \u001b[38;5;124m\"\u001b[39m\u001b[38;5;124mdriver-level SQL string.\u001b[39m\u001b[38;5;124m\"\u001b[39m\n\u001b[1;32m   1272\u001b[0m     )\n\u001b[0;32m-> 1274\u001b[0m     \u001b[38;5;28;01mreturn\u001b[39;00m \u001b[38;5;28;43mself\u001b[39;49m\u001b[38;5;241;43m.\u001b[39;49m\u001b[43m_exec_driver_sql\u001b[49m\u001b[43m(\u001b[49m\n\u001b[1;32m   1275\u001b[0m \u001b[43m        \u001b[49m\u001b[43mstatement\u001b[49m\u001b[43m,\u001b[49m\n\u001b[1;32m   1276\u001b[0m \u001b[43m        \u001b[49m\u001b[43mmultiparams\u001b[49m\u001b[43m,\u001b[49m\n\u001b[1;32m   1277\u001b[0m \u001b[43m        \u001b[49m\u001b[43mparams\u001b[49m\u001b[43m,\u001b[49m\n\u001b[1;32m   1278\u001b[0m \u001b[43m        \u001b[49m\u001b[43m_EMPTY_EXECUTION_OPTS\u001b[49m\u001b[43m,\u001b[49m\n\u001b[1;32m   1279\u001b[0m \u001b[43m        \u001b[49m\u001b[43mfuture\u001b[49m\u001b[38;5;241;43m=\u001b[39;49m\u001b[38;5;28;43;01mFalse\u001b[39;49;00m\u001b[43m,\u001b[49m\n\u001b[1;32m   1280\u001b[0m \u001b[43m    \u001b[49m\u001b[43m)\u001b[49m\n\u001b[1;32m   1282\u001b[0m \u001b[38;5;28;01mtry\u001b[39;00m:\n\u001b[1;32m   1283\u001b[0m     meth \u001b[38;5;241m=\u001b[39m statement\u001b[38;5;241m.\u001b[39m_execute_on_connection\n",
      "File \u001b[0;32m/opt/conda/lib/python3.9/site-packages/sqlalchemy/engine/base.py:1578\u001b[0m, in \u001b[0;36mConnection._exec_driver_sql\u001b[0;34m(self, statement, multiparams, params, execution_options, future)\u001b[0m\n\u001b[1;32m   1568\u001b[0m         (\n\u001b[1;32m   1569\u001b[0m             statement,\n\u001b[1;32m   1570\u001b[0m             distilled_params,\n\u001b[0;32m   (...)\u001b[0m\n\u001b[1;32m   1574\u001b[0m             statement, distilled_parameters, execution_options\n\u001b[1;32m   1575\u001b[0m         )\n\u001b[1;32m   1577\u001b[0m dialect \u001b[38;5;241m=\u001b[39m \u001b[38;5;28mself\u001b[39m\u001b[38;5;241m.\u001b[39mdialect\n\u001b[0;32m-> 1578\u001b[0m ret \u001b[38;5;241m=\u001b[39m \u001b[38;5;28;43mself\u001b[39;49m\u001b[38;5;241;43m.\u001b[39;49m\u001b[43m_execute_context\u001b[49m\u001b[43m(\u001b[49m\n\u001b[1;32m   1579\u001b[0m \u001b[43m    \u001b[49m\u001b[43mdialect\u001b[49m\u001b[43m,\u001b[49m\n\u001b[1;32m   1580\u001b[0m \u001b[43m    \u001b[49m\u001b[43mdialect\u001b[49m\u001b[38;5;241;43m.\u001b[39;49m\u001b[43mexecution_ctx_cls\u001b[49m\u001b[38;5;241;43m.\u001b[39;49m\u001b[43m_init_statement\u001b[49m\u001b[43m,\u001b[49m\n\u001b[1;32m   1581\u001b[0m \u001b[43m    \u001b[49m\u001b[43mstatement\u001b[49m\u001b[43m,\u001b[49m\n\u001b[1;32m   1582\u001b[0m \u001b[43m    \u001b[49m\u001b[43mdistilled_parameters\u001b[49m\u001b[43m,\u001b[49m\n\u001b[1;32m   1583\u001b[0m \u001b[43m    \u001b[49m\u001b[43mexecution_options\u001b[49m\u001b[43m,\u001b[49m\n\u001b[1;32m   1584\u001b[0m \u001b[43m    \u001b[49m\u001b[43mstatement\u001b[49m\u001b[43m,\u001b[49m\n\u001b[1;32m   1585\u001b[0m \u001b[43m    \u001b[49m\u001b[43mdistilled_parameters\u001b[49m\u001b[43m,\u001b[49m\n\u001b[1;32m   1586\u001b[0m \u001b[43m\u001b[49m\u001b[43m)\u001b[49m\n\u001b[1;32m   1588\u001b[0m \u001b[38;5;28;01mif\u001b[39;00m \u001b[38;5;129;01mnot\u001b[39;00m future:\n\u001b[1;32m   1589\u001b[0m     \u001b[38;5;28;01mif\u001b[39;00m \u001b[38;5;28mself\u001b[39m\u001b[38;5;241m.\u001b[39m_has_events \u001b[38;5;129;01mor\u001b[39;00m \u001b[38;5;28mself\u001b[39m\u001b[38;5;241m.\u001b[39mengine\u001b[38;5;241m.\u001b[39m_has_events:\n",
      "File \u001b[0;32m/opt/conda/lib/python3.9/site-packages/sqlalchemy/engine/base.py:1845\u001b[0m, in \u001b[0;36mConnection._execute_context\u001b[0;34m(self, dialect, constructor, statement, parameters, execution_options, *args, **kw)\u001b[0m\n\u001b[1;32m   1842\u001b[0m             branched\u001b[38;5;241m.\u001b[39mclose()\n\u001b[1;32m   1844\u001b[0m \u001b[38;5;28;01mexcept\u001b[39;00m \u001b[38;5;167;01mBaseException\u001b[39;00m \u001b[38;5;28;01mas\u001b[39;00m e:\n\u001b[0;32m-> 1845\u001b[0m     \u001b[38;5;28;43mself\u001b[39;49m\u001b[38;5;241;43m.\u001b[39;49m\u001b[43m_handle_dbapi_exception\u001b[49m\u001b[43m(\u001b[49m\n\u001b[1;32m   1846\u001b[0m \u001b[43m        \u001b[49m\u001b[43me\u001b[49m\u001b[43m,\u001b[49m\u001b[43m \u001b[49m\u001b[43mstatement\u001b[49m\u001b[43m,\u001b[49m\u001b[43m \u001b[49m\u001b[43mparameters\u001b[49m\u001b[43m,\u001b[49m\u001b[43m \u001b[49m\u001b[43mcursor\u001b[49m\u001b[43m,\u001b[49m\u001b[43m \u001b[49m\u001b[43mcontext\u001b[49m\n\u001b[1;32m   1847\u001b[0m \u001b[43m    \u001b[49m\u001b[43m)\u001b[49m\n\u001b[1;32m   1849\u001b[0m \u001b[38;5;28;01mreturn\u001b[39;00m result\n",
      "File \u001b[0;32m/opt/conda/lib/python3.9/site-packages/sqlalchemy/engine/base.py:2026\u001b[0m, in \u001b[0;36mConnection._handle_dbapi_exception\u001b[0;34m(self, e, statement, parameters, cursor, context)\u001b[0m\n\u001b[1;32m   2024\u001b[0m     util\u001b[38;5;241m.\u001b[39mraise_(newraise, with_traceback\u001b[38;5;241m=\u001b[39mexc_info[\u001b[38;5;241m2\u001b[39m], from_\u001b[38;5;241m=\u001b[39me)\n\u001b[1;32m   2025\u001b[0m \u001b[38;5;28;01melif\u001b[39;00m should_wrap:\n\u001b[0;32m-> 2026\u001b[0m     \u001b[43mutil\u001b[49m\u001b[38;5;241;43m.\u001b[39;49m\u001b[43mraise_\u001b[49m\u001b[43m(\u001b[49m\n\u001b[1;32m   2027\u001b[0m \u001b[43m        \u001b[49m\u001b[43msqlalchemy_exception\u001b[49m\u001b[43m,\u001b[49m\u001b[43m \u001b[49m\u001b[43mwith_traceback\u001b[49m\u001b[38;5;241;43m=\u001b[39;49m\u001b[43mexc_info\u001b[49m\u001b[43m[\u001b[49m\u001b[38;5;241;43m2\u001b[39;49m\u001b[43m]\u001b[49m\u001b[43m,\u001b[49m\u001b[43m \u001b[49m\u001b[43mfrom_\u001b[49m\u001b[38;5;241;43m=\u001b[39;49m\u001b[43me\u001b[49m\n\u001b[1;32m   2028\u001b[0m \u001b[43m    \u001b[49m\u001b[43m)\u001b[49m\n\u001b[1;32m   2029\u001b[0m \u001b[38;5;28;01melse\u001b[39;00m:\n\u001b[1;32m   2030\u001b[0m     util\u001b[38;5;241m.\u001b[39mraise_(exc_info[\u001b[38;5;241m1\u001b[39m], with_traceback\u001b[38;5;241m=\u001b[39mexc_info[\u001b[38;5;241m2\u001b[39m])\n",
      "File \u001b[0;32m/opt/conda/lib/python3.9/site-packages/sqlalchemy/util/compat.py:207\u001b[0m, in \u001b[0;36mraise_\u001b[0;34m(***failed resolving arguments***)\u001b[0m\n\u001b[1;32m    204\u001b[0m     exception\u001b[38;5;241m.\u001b[39m__cause__ \u001b[38;5;241m=\u001b[39m replace_context\n\u001b[1;32m    206\u001b[0m \u001b[38;5;28;01mtry\u001b[39;00m:\n\u001b[0;32m--> 207\u001b[0m     \u001b[38;5;28;01mraise\u001b[39;00m exception\n\u001b[1;32m    208\u001b[0m \u001b[38;5;28;01mfinally\u001b[39;00m:\n\u001b[1;32m    209\u001b[0m     \u001b[38;5;66;03m# credit to\u001b[39;00m\n\u001b[1;32m    210\u001b[0m     \u001b[38;5;66;03m# https://cosmicpercolator.com/2016/01/13/exception-leaks-in-python-2-and-3/\u001b[39;00m\n\u001b[1;32m    211\u001b[0m     \u001b[38;5;66;03m# as the __traceback__ object creates a cycle\u001b[39;00m\n\u001b[1;32m    212\u001b[0m     \u001b[38;5;28;01mdel\u001b[39;00m exception, replace_context, from_, with_traceback\n",
      "File \u001b[0;32m/opt/conda/lib/python3.9/site-packages/sqlalchemy/engine/base.py:1802\u001b[0m, in \u001b[0;36mConnection._execute_context\u001b[0;34m(self, dialect, constructor, statement, parameters, execution_options, *args, **kw)\u001b[0m\n\u001b[1;32m   1800\u001b[0m                 \u001b[38;5;28;01mbreak\u001b[39;00m\n\u001b[1;32m   1801\u001b[0m     \u001b[38;5;28;01mif\u001b[39;00m \u001b[38;5;129;01mnot\u001b[39;00m evt_handled:\n\u001b[0;32m-> 1802\u001b[0m         \u001b[38;5;28;43mself\u001b[39;49m\u001b[38;5;241;43m.\u001b[39;49m\u001b[43mdialect\u001b[49m\u001b[38;5;241;43m.\u001b[39;49m\u001b[43mdo_execute\u001b[49m\u001b[43m(\u001b[49m\n\u001b[1;32m   1803\u001b[0m \u001b[43m            \u001b[49m\u001b[43mcursor\u001b[49m\u001b[43m,\u001b[49m\u001b[43m \u001b[49m\u001b[43mstatement\u001b[49m\u001b[43m,\u001b[49m\u001b[43m \u001b[49m\u001b[43mparameters\u001b[49m\u001b[43m,\u001b[49m\u001b[43m \u001b[49m\u001b[43mcontext\u001b[49m\n\u001b[1;32m   1804\u001b[0m \u001b[43m        \u001b[49m\u001b[43m)\u001b[49m\n\u001b[1;32m   1806\u001b[0m \u001b[38;5;28;01mif\u001b[39;00m \u001b[38;5;28mself\u001b[39m\u001b[38;5;241m.\u001b[39m_has_events \u001b[38;5;129;01mor\u001b[39;00m \u001b[38;5;28mself\u001b[39m\u001b[38;5;241m.\u001b[39mengine\u001b[38;5;241m.\u001b[39m_has_events:\n\u001b[1;32m   1807\u001b[0m     \u001b[38;5;28mself\u001b[39m\u001b[38;5;241m.\u001b[39mdispatch\u001b[38;5;241m.\u001b[39mafter_cursor_execute(\n\u001b[1;32m   1808\u001b[0m         \u001b[38;5;28mself\u001b[39m,\n\u001b[1;32m   1809\u001b[0m         cursor,\n\u001b[0;32m   (...)\u001b[0m\n\u001b[1;32m   1813\u001b[0m         context\u001b[38;5;241m.\u001b[39mexecutemany,\n\u001b[1;32m   1814\u001b[0m     )\n",
      "File \u001b[0;32m/opt/conda/lib/python3.9/site-packages/sqlalchemy/engine/default.py:719\u001b[0m, in \u001b[0;36mDefaultDialect.do_execute\u001b[0;34m(self, cursor, statement, parameters, context)\u001b[0m\n\u001b[1;32m    718\u001b[0m \u001b[38;5;28;01mdef\u001b[39;00m \u001b[38;5;21mdo_execute\u001b[39m(\u001b[38;5;28mself\u001b[39m, cursor, statement, parameters, context\u001b[38;5;241m=\u001b[39m\u001b[38;5;28;01mNone\u001b[39;00m):\n\u001b[0;32m--> 719\u001b[0m     \u001b[43mcursor\u001b[49m\u001b[38;5;241;43m.\u001b[39;49m\u001b[43mexecute\u001b[49m\u001b[43m(\u001b[49m\u001b[43mstatement\u001b[49m\u001b[43m,\u001b[49m\u001b[43m \u001b[49m\u001b[43mparameters\u001b[49m\u001b[43m)\u001b[49m\n",
      "File \u001b[0;32m/opt/conda/lib/python3.9/site-packages/google/cloud/bigquery/dbapi/_helpers.py:494\u001b[0m, in \u001b[0;36mraise_on_closed.<locals>._raise_on_closed.<locals>.with_closed_check\u001b[0;34m(self, *args, **kwargs)\u001b[0m\n\u001b[1;32m    492\u001b[0m \u001b[38;5;28;01mif\u001b[39;00m \u001b[38;5;28mgetattr\u001b[39m(\u001b[38;5;28mself\u001b[39m, closed_attr_name):\n\u001b[1;32m    493\u001b[0m     \u001b[38;5;28;01mraise\u001b[39;00m exc_class(exc_msg)\n\u001b[0;32m--> 494\u001b[0m \u001b[38;5;28;01mreturn\u001b[39;00m \u001b[43mmethod\u001b[49m\u001b[43m(\u001b[49m\u001b[38;5;28;43mself\u001b[39;49m\u001b[43m,\u001b[49m\u001b[43m \u001b[49m\u001b[38;5;241;43m*\u001b[39;49m\u001b[43margs\u001b[49m\u001b[43m,\u001b[49m\u001b[43m \u001b[49m\u001b[38;5;241;43m*\u001b[39;49m\u001b[38;5;241;43m*\u001b[39;49m\u001b[43mkwargs\u001b[49m\u001b[43m)\u001b[49m\n",
      "File \u001b[0;32m/opt/conda/lib/python3.9/site-packages/google/cloud/bigquery/dbapi/cursor.py:166\u001b[0m, in \u001b[0;36mCursor.execute\u001b[0;34m(self, operation, parameters, job_id, job_config)\u001b[0m\n\u001b[1;32m    131\u001b[0m \u001b[38;5;124;03m\"\"\"Prepare and execute a database operation.\u001b[39;00m\n\u001b[1;32m    132\u001b[0m \n\u001b[1;32m    133\u001b[0m \u001b[38;5;124;03m.. note::\u001b[39;00m\n\u001b[0;32m   (...)\u001b[0m\n\u001b[1;32m    163\u001b[0m \u001b[38;5;124;03m        (Optional) Extra configuration options for the query job.\u001b[39;00m\n\u001b[1;32m    164\u001b[0m \u001b[38;5;124;03m\"\"\"\u001b[39;00m\n\u001b[1;32m    165\u001b[0m formatted_operation, parameter_types \u001b[38;5;241m=\u001b[39m _format_operation(operation, parameters)\n\u001b[0;32m--> 166\u001b[0m \u001b[38;5;28;43mself\u001b[39;49m\u001b[38;5;241;43m.\u001b[39;49m\u001b[43m_execute\u001b[49m\u001b[43m(\u001b[49m\n\u001b[1;32m    167\u001b[0m \u001b[43m    \u001b[49m\u001b[43mformatted_operation\u001b[49m\u001b[43m,\u001b[49m\u001b[43m \u001b[49m\u001b[43mparameters\u001b[49m\u001b[43m,\u001b[49m\u001b[43m \u001b[49m\u001b[43mjob_id\u001b[49m\u001b[43m,\u001b[49m\u001b[43m \u001b[49m\u001b[43mjob_config\u001b[49m\u001b[43m,\u001b[49m\u001b[43m \u001b[49m\u001b[43mparameter_types\u001b[49m\n\u001b[1;32m    168\u001b[0m \u001b[43m\u001b[49m\u001b[43m)\u001b[49m\n",
      "File \u001b[0;32m/opt/conda/lib/python3.9/site-packages/google/cloud/bigquery/dbapi/cursor.py:205\u001b[0m, in \u001b[0;36mCursor._execute\u001b[0;34m(self, formatted_operation, parameters, job_id, job_config, parameter_types)\u001b[0m\n\u001b[1;32m    203\u001b[0m     \u001b[38;5;28mself\u001b[39m\u001b[38;5;241m.\u001b[39m_query_job\u001b[38;5;241m.\u001b[39mresult()\n\u001b[1;32m    204\u001b[0m \u001b[38;5;28;01mexcept\u001b[39;00m google\u001b[38;5;241m.\u001b[39mcloud\u001b[38;5;241m.\u001b[39mexceptions\u001b[38;5;241m.\u001b[39mGoogleCloudError \u001b[38;5;28;01mas\u001b[39;00m exc:\n\u001b[0;32m--> 205\u001b[0m     \u001b[38;5;28;01mraise\u001b[39;00m exceptions\u001b[38;5;241m.\u001b[39mDatabaseError(exc)\n\u001b[1;32m    207\u001b[0m query_results \u001b[38;5;241m=\u001b[39m \u001b[38;5;28mself\u001b[39m\u001b[38;5;241m.\u001b[39m_query_job\u001b[38;5;241m.\u001b[39m_query_results\n\u001b[1;32m    208\u001b[0m \u001b[38;5;28mself\u001b[39m\u001b[38;5;241m.\u001b[39m_set_rowcount(query_results)\n",
      "\u001b[0;31mDatabaseError\u001b[0m: (google.cloud.bigquery.dbapi.exceptions.DatabaseError) 500 Query exceeded limit for bytes billed: 5000000000. 5860491264 or higher required.\n\nLocation: us-west2\nJob ID: fdb12601-c582-4331-925d-572ec7d50123\n\n[SQL: \nSELECT\n    itp_id,\n    url_number,\n    count(tripUpdate)\nFROM `cal-itp-data-infra.external_gtfs_rt.trip_updates`\nwhere dt = '2022-11-08'\nand hour = 0\nand ((itp_id = 4 and url_number = 1) OR (itp_id = 10 and url_number = 1) OR (itp_id = 279 and url_number = 1) OR (itp_id = 246 and url_number = 1) OR (itp_id = 56 and url_number = 1) OR (itp_id = 76 and url_number = 1) OR (itp_id = 61 and url_number = 1) OR (itp_id = 106 and url_number = 0) OR (itp_id = 110 and url_number = 1) OR (itp_id = 127 and url_number = 1) OR (itp_id = 194 and url_number = 0) OR (itp_id = 282 and url_number = 0) OR (itp_id = 217 and url_number = 0) OR (itp_id = 247 and url_number = 1) OR (itp_id = 264 and url_number = 1) OR (itp_id = 290 and url_number = 1) OR (itp_id = 280 and url_number = 0) OR (itp_id = 294 and url_number = 1) OR (itp_id = 310 and url_number = 1) OR (itp_id = 314 and url_number = 1) OR (itp_id = 315 and url_number = 1) OR (itp_id = 338 and url_number = 1) OR (itp_id = 336 and url_number = 0) OR (itp_id = 167 and url_number = 1) OR (itp_id = 350 and url_number = 0) OR (itp_id = 356 and url_number = 1) OR (itp_id = 218 and url_number = 1) OR (itp_id = 368 and url_number = 1) OR (itp_id = 98 and url_number = 0) OR (itp_id = 281 and url_number = 0) OR (itp_id = 301 and url_number = 0) OR (itp_id = 15 and url_number = 0) OR (itp_id = 481 and url_number = 0) OR (itp_id = 485 and url_number = 0))\ngroup by itp_id,url_number\nLIMIT 100]\n(Background on this error at: https://sqlalche.me/e/14/4xp6)"
     ]
    }
   ],
   "source": [
    "# TODO: this exceeds the query limit. \n",
    "# Might need to loop over each feed and make an individual query\n",
    "df_trips = query_sql(RT_TRIPS_QUERY, as_df=True)"
   ]
  },
  {
   "cell_type": "code",
   "execution_count": 12,
   "id": "3befd654-648e-4983-8ac8-0feaa2b52c96",
   "metadata": {},
   "outputs": [
    {
     "name": "stdout",
     "output_type": "stream",
     "text": [
      "ITP IDs with no RT trip data\n",
      "[10, 15, 56, 76, 264, 279, 281, 282, 338, 356, 368, 481, 485]\n"
     ]
    }
   ],
   "source": [
    "# convert dataframe to list because I, Evan, am not a pandas whiz\n",
    "itp_ids_with_rt = df_trips['itp_id'].tolist()\n",
    "\n",
    "# create placeholder list for itp_ids without RT\n",
    "itp_ids_without_rt_trips = []\n",
    "\n",
    "# iterate through input list to check if RT was found to exist\n",
    "for itp_id in ITP_ID_URL_NUM_LIST:\n",
    "    cur_id = itp_id[0]\n",
    "    if cur_id not in itp_ids_with_rt:\n",
    "        itp_ids_without_rt_trips.append(cur_id)\n",
    "        \n",
    "# print out ITP_IDs with no data\n",
    "print('ITP IDs with no RT trip data')\n",
    "print(sorted(itp_ids_without_rt_trips))"
   ]
  }
 ],
 "metadata": {
  "kernelspec": {
   "display_name": "Python 3 (ipykernel)",
   "language": "python",
   "name": "python3"
  },
  "language_info": {
   "codemirror_mode": {
    "name": "ipython",
    "version": 3
   },
   "file_extension": ".py",
   "mimetype": "text/x-python",
   "name": "python",
   "nbconvert_exporter": "python",
   "pygments_lexer": "ipython3",
   "version": "3.9.13"
  }
 },
 "nbformat": 4,
 "nbformat_minor": 5
}
