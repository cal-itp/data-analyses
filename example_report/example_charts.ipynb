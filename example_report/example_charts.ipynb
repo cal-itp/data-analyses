{
 "cells": [
  {
   "cell_type": "markdown",
   "id": "8028659e-0336-4e5e-99cb-31e83d198e69",
   "metadata": {},
   "source": [
    "# Sample Charts using shared utils\n",
    "\n",
    "You'll have to look at the docs for the specific charting packages for how to construct the chart. But, these examples show how to layer some pre-defined themes with additional colors to get as close to the FiveThirtyEight theme as possible. "
   ]
  },
  {
   "cell_type": "code",
   "execution_count": null,
   "id": "2b7a7863-4c38-4117-9d41-8ecb9e196858",
   "metadata": {},
   "outputs": [],
   "source": [
    "import altair as alt\n",
    "import altair_saver\n",
    "import matplotlib.pyplot as plt\n",
    "import pandas as pd\n",
    "import plotly.express as px\n",
    "import seaborn as sns\n",
    "\n",
    "from plotnine import *\n",
    "\n",
    "import shared_utils"
   ]
  },
  {
   "cell_type": "code",
   "execution_count": null,
   "id": "6bdc4df3-daed-4c1a-a49e-5b2d83759e38",
   "metadata": {},
   "outputs": [],
   "source": [
    "TABULAR_DATA = \"https://raw.githubusercontent.com/mwaskom/seaborn-data/master/taxis.csv\"\n",
    "df = pd.read_csv(TABULAR_DATA)"
   ]
  },
  {
   "cell_type": "code",
   "execution_count": null,
   "id": "40d27a77-e277-4438-9170-22b30bbae762",
   "metadata": {},
   "outputs": [],
   "source": [
    "df2 = shared_utils.geography_utils.aggregate_by_geography(\n",
    "    df[(df.payment.notna()) & (df.pickup_borough.notna())], \n",
    "    group_cols = [\"pickup_borough\", \"payment\"],\n",
    "    sum_cols = [\"passengers\", \"fare\"],\n",
    "    mean_cols = [\"distance\"],\n",
    "    count_cols = [],\n",
    "    nunique_cols = [\"pickup_zone\", \"dropoff_zone\"]\n",
    ")\n",
    "\n",
    "df2.head()"
   ]
  },
  {
   "cell_type": "markdown",
   "id": "c4c5accf-1e12-42b4-aebe-c466474709b6",
   "metadata": {},
   "source": [
    "## altair example\n",
    "\n",
    "* altair present themes: https://vega.github.io/vega-themes/\n",
    "* rendering in notebook is ok, but saving as PNG loses these chart configurations\n",
    "* use function to apply the `fivethirtyeight` theme again"
   ]
  },
  {
   "cell_type": "code",
   "execution_count": null,
   "id": "2bd98b18-5b53-47c9-a922-751281d4e7d8",
   "metadata": {},
   "outputs": [],
   "source": [
    "alt.themes.enable(\"fivethirtyeight\")\n",
    "\n",
    "chart = (alt.Chart(df2)\n",
    "         .mark_bar()\n",
    "         .encode(\n",
    "             x=alt.X(\"pickup_borough:N\", title=\"Origin Borough\"),\n",
    "             y=alt.Y(\"sum(fare):Q\", title=\"Total Fares\"),\n",
    "             column = \"payment:N\",\n",
    "             color = alt.Color(\"pickup_borough:N\", \n",
    "                              scale=alt.Scale(\n",
    "                                  range=shared_utils.altair_utils.FIVETHIRTYEIGHT_DIVERGING_COLORS\n",
    "                              )\n",
    "                              )\n",
    "         )\n",
    ")\n",
    "\n",
    "chart = shared_utils.altair_utils.preset_chart_config(chart)\n",
    "\n",
    "# Add further tweaks to configuration after\n",
    "chart = (chart\n",
    "         .properties(width = 100, height = 200, \n",
    "                     title=\"Fares by Payment Type\")\n",
    "        )\n",
    "chart.save(\"../example_report/altair_chart.png\")\n",
    "chart"
   ]
  },
  {
   "cell_type": "markdown",
   "id": "0cad7cc1-e165-4609-a586-e03b1f93373c",
   "metadata": {},
   "source": [
    "## matplotlib"
   ]
  },
  {
   "cell_type": "code",
   "execution_count": null,
   "id": "9999e795-504b-466d-9c77-186bbf5ff50a",
   "metadata": {},
   "outputs": [],
   "source": [
    "plt.style.use('fivethirtyeight')\n",
    "\n",
    "plt.bar(\"pickup_borough\", height=\"fare\", data=df2)\n",
    "plt.xlabel(\"Origin Borough\")\n",
    "plt.ylabel(\"Total Fares\")\n",
    "plt.title(\"Fares by Borough\")\n",
    "plt.savefig(\"../example_report/matplotlib_chart.png\")\n",
    "plt.close()"
   ]
  },
  {
   "cell_type": "markdown",
   "id": "0a098876-ad59-4472-99ac-000f61409972",
   "metadata": {},
   "source": [
    "## seaborn\n",
    "\n",
    "Set the `fivethirtyeight` color palette"
   ]
  },
  {
   "cell_type": "code",
   "execution_count": null,
   "id": "2a70002a-43f4-4bb8-81ad-5c746e963352",
   "metadata": {},
   "outputs": [],
   "source": [
    "sns.set(rc={'axes.facecolor':'white', 'figure.facecolor':'white'})"
   ]
  },
  {
   "cell_type": "code",
   "execution_count": null,
   "id": "03efb78c-c961-4872-afda-3c7046e720c3",
   "metadata": {},
   "outputs": [],
   "source": [
    "sns_plot = (sns.barplot(x=df2.pickup_borough, y=df2.fare, ci=None, \n",
    "                       palette=shared_utils.altair_utils.FIVETHIRTYEIGHT_CATEGORY_COLORS)\n",
    "            .set_title(\"Fares by Borough\")\n",
    "           )\n",
    "chart3 = sns_plot.get_figure()\n",
    "chart3.tight_layout()\n",
    "chart3.savefig(\"../example_report/seaborn_chart.png\")"
   ]
  },
  {
   "cell_type": "markdown",
   "id": "b10e0a69-01ab-4652-9aea-47545e2d2e89",
   "metadata": {},
   "source": [
    "## plotnine"
   ]
  },
  {
   "cell_type": "code",
   "execution_count": null,
   "id": "2856339c-50bc-4cc0-b50c-9cf7346e6d1b",
   "metadata": {},
   "outputs": [],
   "source": [
    "(ggplot(df2, aes(x='payment', y=\"distance\", fill='payment'))\n",
    " + geom_col()\n",
    " + theme_538()\n",
    " + theme(plot_background=element_rect(fill=\"white\"), \n",
    "         panel_background=element_rect(fill=\"white\"), \n",
    "        )\n",
    " + scale_fill_manual(values=shared_utils.altair_utils.FIVETHIRTYEIGHT_CATEGORY_COLORS)\n",
    " + labs(title = \"Distance by Payment Type\")\n",
    ")"
   ]
  },
  {
   "cell_type": "markdown",
   "id": "a79c90dd-29be-494b-b462-3fca9fd7ce85",
   "metadata": {},
   "source": [
    "## plotly"
   ]
  },
  {
   "cell_type": "code",
   "execution_count": null,
   "id": "b41b615d-7168-4b50-a552-a75156c91a9d",
   "metadata": {},
   "outputs": [],
   "source": [
    "fig = px.bar(df2, x=\"payment\", y=\"distance\", \n",
    "             color_discrete_sequence=shared_utils.altair_utils.FIVETHIRTYEIGHT_CATEGORY_COLORS,\n",
    "             template = \"plotly_white\",\n",
    "             title=\"Distance Traveled by Payment Type\"\n",
    "            )\n",
    "fig.show()"
   ]
  }
 ],
 "metadata": {
  "kernelspec": {
   "display_name": "Python 3 (ipykernel)",
   "language": "python",
   "name": "python3"
  },
  "language_info": {
   "codemirror_mode": {
    "name": "ipython",
    "version": 3
   },
   "file_extension": ".py",
   "mimetype": "text/x-python",
   "name": "python",
   "nbconvert_exporter": "python",
   "pygments_lexer": "ipython3",
   "version": "3.9.7"
  }
 },
 "nbformat": 4,
 "nbformat_minor": 5
}
