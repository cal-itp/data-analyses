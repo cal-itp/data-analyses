{
 "cells": [
  {
   "cell_type": "markdown",
   "id": "8028659e-0336-4e5e-99cb-31e83d198e69",
   "metadata": {},
   "source": [
    "# Sample Charts using shared utils"
   ]
  },
  {
   "cell_type": "code",
   "execution_count": 1,
   "id": "2b7a7863-4c38-4117-9d41-8ecb9e196858",
   "metadata": {},
   "outputs": [],
   "source": [
    "import altair as alt\n",
    "import altair_saver\n",
    "import matplotlib.pyplot as plt\n",
    "import pandas as pd\n",
    "import seaborn as sns\n",
    "\n",
    "import shared_utils"
   ]
  },
  {
   "cell_type": "code",
   "execution_count": 2,
   "id": "6bdc4df3-daed-4c1a-a49e-5b2d83759e38",
   "metadata": {},
   "outputs": [],
   "source": [
    "TABULAR_DATA = \"https://raw.githubusercontent.com/mwaskom/seaborn-data/master/taxis.csv\"\n",
    "df = pd.read_csv(TABULAR_DATA)"
   ]
  },
  {
   "cell_type": "markdown",
   "id": "c4c5accf-1e12-42b4-aebe-c466474709b6",
   "metadata": {},
   "source": [
    "## altair example\n",
    "\n",
    "* altair present themes: https://vega.github.io/vega-themes/\n",
    "* rendering in notebook is ok, but saving as PNG loses these chart configurations\n",
    "* use function to apply the `fivethirtyeight` theme again"
   ]
  },
  {
   "cell_type": "code",
   "execution_count": 3,
   "id": "40d27a77-e277-4438-9170-22b30bbae762",
   "metadata": {},
   "outputs": [
    {
     "data": {
      "text/html": [
       "<div>\n",
       "<style scoped>\n",
       "    .dataframe tbody tr th:only-of-type {\n",
       "        vertical-align: middle;\n",
       "    }\n",
       "\n",
       "    .dataframe tbody tr th {\n",
       "        vertical-align: top;\n",
       "    }\n",
       "\n",
       "    .dataframe thead th {\n",
       "        text-align: right;\n",
       "    }\n",
       "</style>\n",
       "<table border=\"1\" class=\"dataframe\">\n",
       "  <thead>\n",
       "    <tr style=\"text-align: right;\">\n",
       "      <th></th>\n",
       "      <th>pickup_borough</th>\n",
       "      <th>payment</th>\n",
       "      <th>fare</th>\n",
       "      <th>passengers</th>\n",
       "      <th>distance</th>\n",
       "      <th>dropoff_zone</th>\n",
       "      <th>pickup_zone</th>\n",
       "    </tr>\n",
       "  </thead>\n",
       "  <tbody>\n",
       "    <tr>\n",
       "      <th>0</th>\n",
       "      <td>Manhattan</td>\n",
       "      <td>credit card</td>\n",
       "      <td>44072.42</td>\n",
       "      <td>6016</td>\n",
       "      <td>2.460901</td>\n",
       "      <td>140</td>\n",
       "      <td>60</td>\n",
       "    </tr>\n",
       "    <tr>\n",
       "      <th>1</th>\n",
       "      <td>Manhattan</td>\n",
       "      <td>cash</td>\n",
       "      <td>14351.50</td>\n",
       "      <td>2199</td>\n",
       "      <td>2.052212</td>\n",
       "      <td>110</td>\n",
       "      <td>63</td>\n",
       "    </tr>\n",
       "    <tr>\n",
       "      <th>2</th>\n",
       "      <td>Queens</td>\n",
       "      <td>cash</td>\n",
       "      <td>5072.50</td>\n",
       "      <td>420</td>\n",
       "      <td>5.279135</td>\n",
       "      <td>87</td>\n",
       "      <td>24</td>\n",
       "    </tr>\n",
       "    <tr>\n",
       "      <th>3</th>\n",
       "      <td>Queens</td>\n",
       "      <td>credit card</td>\n",
       "      <td>11198.06</td>\n",
       "      <td>574</td>\n",
       "      <td>9.036292</td>\n",
       "      <td>130</td>\n",
       "      <td>46</td>\n",
       "    </tr>\n",
       "    <tr>\n",
       "      <th>4</th>\n",
       "      <td>Bronx</td>\n",
       "      <td>credit card</td>\n",
       "      <td>1842.91</td>\n",
       "      <td>80</td>\n",
       "      <td>6.944865</td>\n",
       "      <td>49</td>\n",
       "      <td>33</td>\n",
       "    </tr>\n",
       "  </tbody>\n",
       "</table>\n",
       "</div>"
      ],
      "text/plain": [
       "  pickup_borough      payment      fare  passengers  distance  dropoff_zone  \\\n",
       "0      Manhattan  credit card  44072.42        6016  2.460901           140   \n",
       "1      Manhattan         cash  14351.50        2199  2.052212           110   \n",
       "2         Queens         cash   5072.50         420  5.279135            87   \n",
       "3         Queens  credit card  11198.06         574  9.036292           130   \n",
       "4          Bronx  credit card   1842.91          80  6.944865            49   \n",
       "\n",
       "   pickup_zone  \n",
       "0           60  \n",
       "1           63  \n",
       "2           24  \n",
       "3           46  \n",
       "4           33  "
      ]
     },
     "execution_count": 3,
     "metadata": {},
     "output_type": "execute_result"
    }
   ],
   "source": [
    "df2 = shared_utils.geography_utils.aggregate_by_geography(\n",
    "    df[(df.payment.notna()) & (df.pickup_borough.notna())], \n",
    "    group_cols = [\"pickup_borough\", \"payment\"],\n",
    "    sum_cols = [\"passengers\", \"fare\"],\n",
    "    mean_cols = [\"distance\"],\n",
    "    count_cols = [],\n",
    "    nunique_cols = [\"pickup_zone\", \"dropoff_zone\"]\n",
    ")\n",
    "\n",
    "df2.head()"
   ]
  },
  {
   "cell_type": "code",
   "execution_count": 4,
   "id": "2bd98b18-5b53-47c9-a922-751281d4e7d8",
   "metadata": {},
   "outputs": [
    {
     "data": {
      "text/html": [
       "\n",
       "<div id=\"altair-viz-22f2c3d04b8e4a978dd9285bbc744184\"></div>\n",
       "<script type=\"text/javascript\">\n",
       "  (function(spec, embedOpt){\n",
       "    let outputDiv = document.currentScript.previousElementSibling;\n",
       "    if (outputDiv.id !== \"altair-viz-22f2c3d04b8e4a978dd9285bbc744184\") {\n",
       "      outputDiv = document.getElementById(\"altair-viz-22f2c3d04b8e4a978dd9285bbc744184\");\n",
       "    }\n",
       "    const paths = {\n",
       "      \"vega\": \"https://cdn.jsdelivr.net/npm//vega@5?noext\",\n",
       "      \"vega-lib\": \"https://cdn.jsdelivr.net/npm//vega-lib?noext\",\n",
       "      \"vega-lite\": \"https://cdn.jsdelivr.net/npm//vega-lite@4.8.1?noext\",\n",
       "      \"vega-embed\": \"https://cdn.jsdelivr.net/npm//vega-embed@6?noext\",\n",
       "    };\n",
       "\n",
       "    function loadScript(lib) {\n",
       "      return new Promise(function(resolve, reject) {\n",
       "        var s = document.createElement('script');\n",
       "        s.src = paths[lib];\n",
       "        s.async = true;\n",
       "        s.onload = () => resolve(paths[lib]);\n",
       "        s.onerror = () => reject(`Error loading script: ${paths[lib]}`);\n",
       "        document.getElementsByTagName(\"head\")[0].appendChild(s);\n",
       "      });\n",
       "    }\n",
       "\n",
       "    function showError(err) {\n",
       "      outputDiv.innerHTML = `<div class=\"error\" style=\"color:red;\">${err}</div>`;\n",
       "      throw err;\n",
       "    }\n",
       "\n",
       "    function displayChart(vegaEmbed) {\n",
       "      vegaEmbed(outputDiv, spec, embedOpt)\n",
       "        .catch(err => showError(`Javascript Error: ${err.message}<br>This usually means there's a typo in your chart specification. See the javascript console for the full traceback.`));\n",
       "    }\n",
       "\n",
       "    if(typeof define === \"function\" && define.amd) {\n",
       "      requirejs.config({paths});\n",
       "      require([\"vega-embed\"], displayChart, err => showError(`Error loading script: ${err.message}`));\n",
       "    } else if (typeof vegaEmbed === \"function\") {\n",
       "      displayChart(vegaEmbed);\n",
       "    } else {\n",
       "      loadScript(\"vega\")\n",
       "        .then(() => loadScript(\"vega-lite\"))\n",
       "        .then(() => loadScript(\"vega-embed\"))\n",
       "        .catch(showError)\n",
       "        .then(() => displayChart(vegaEmbed));\n",
       "    }\n",
       "  })({\"usermeta\": {\"embedOptions\": {\"theme\": \"fivethirtyeight\"}}, \"config\": {\"view\": {\"continuousWidth\": 400, \"continuousHeight\": 300}, \"axis\": {\"domainColor\": \"#cbcbcb\", \"grid\": true, \"gridColor\": \"#cbcbcb\", \"gridWidth\": 1, \"labelColor\": \"#999\", \"labelFont\": \"Arial\", \"labelFontSize\": 10, \"labelPadding\": 4, \"tickColor\": \"#cbcbcb\", \"tickSize\": 10, \"titleColor\": \"#333\", \"titleFont\": \"Arial\", \"titleFontSize\": 14, \"titlePadding\": 10}, \"axisBand\": {\"grid\": false}, \"background\": \"white\", \"font\": \"Arial\", \"header\": {\"labelFont\": \"Arial\", \"titleFont\": \"Arial\"}, \"legend\": {\"labelColor\": \"#333\", \"labelFont\": \"Arial\", \"labelFontSize\": 11, \"padding\": 1, \"symbolSize\": 30, \"symbolType\": \"square\", \"titleColor\": \"#333\", \"titleFont\": \"Arial\", \"titleFontSize\": 14, \"titlePadding\": 10}, \"title\": {\"anchor\": \"middle\", \"font\": \"Arial\", \"fontSize\": 16, \"fontWeight\": 300, \"offset\": 20}}, \"data\": {\"name\": \"data-124f9f2a49b27d5fc68dcd0d3eeb67a5\"}, \"mark\": \"bar\", \"encoding\": {\"color\": {\"type\": \"nominal\", \"field\": \"pickup_borough\", \"scale\": {\"range\": [\"#cc0020\", \"#e77866\", \"#f6e7e1\", \"#d6e8ed\", \"#91bfd9\", \"#1d78b5\"]}}, \"column\": {\"type\": \"nominal\", \"field\": \"payment\"}, \"x\": {\"type\": \"nominal\", \"field\": \"pickup_borough\", \"title\": \"Origin Borough\"}, \"y\": {\"type\": \"quantitative\", \"aggregate\": \"sum\", \"field\": \"fare\", \"title\": \"Total Fares\"}}, \"height\": 200, \"title\": \"Fares by Payment Type\", \"width\": 100, \"$schema\": \"https://vega.github.io/schema/vega-lite/v4.8.1.json\", \"datasets\": {\"data-124f9f2a49b27d5fc68dcd0d3eeb67a5\": [{\"pickup_borough\": \"Manhattan\", \"payment\": \"credit card\", \"fare\": 44072.42, \"passengers\": 6016, \"distance\": 2.460901276374056, \"dropoff_zone\": 140, \"pickup_zone\": 60}, {\"pickup_borough\": \"Manhattan\", \"payment\": \"cash\", \"fare\": 14351.5, \"passengers\": 2199, \"distance\": 2.0522118826055835, \"dropoff_zone\": 110, \"pickup_zone\": 63}, {\"pickup_borough\": \"Queens\", \"payment\": \"cash\", \"fare\": 5072.5, \"passengers\": 420, \"distance\": 5.279135338345864, \"dropoff_zone\": 87, \"pickup_zone\": 24}, {\"pickup_borough\": \"Queens\", \"payment\": \"credit card\", \"fare\": 11198.06, \"passengers\": 574, \"distance\": 9.036292428198434, \"dropoff_zone\": 130, \"pickup_zone\": 46}, {\"pickup_borough\": \"Bronx\", \"payment\": \"credit card\", \"fare\": 1842.91, \"passengers\": 80, \"distance\": 6.944864864864864, \"dropoff_zone\": 49, \"pickup_zone\": 33}, {\"pickup_borough\": \"Brooklyn\", \"payment\": \"credit card\", \"fare\": 4926.4800000000005, \"passengers\": 349, \"distance\": 4.891379310344828, \"dropoff_zone\": 99, \"pickup_zone\": 48}, {\"pickup_borough\": \"Brooklyn\", \"payment\": \"cash\", \"fare\": 1321.0, \"passengers\": 150, \"distance\": 2.322857142857143, \"dropoff_zone\": 49, \"pickup_zone\": 28}, {\"pickup_borough\": \"Bronx\", \"payment\": \"cash\", \"fare\": 236.0, \"passengers\": 38, \"distance\": 2.1176, \"dropoff_zone\": 14, \"pickup_zone\": 15}]}}, {\"mode\": \"vega-lite\"});\n",
       "</script>"
      ],
      "text/plain": [
       "alt.Chart(...)"
      ]
     },
     "execution_count": 4,
     "metadata": {},
     "output_type": "execute_result"
    }
   ],
   "source": [
    "alt.themes.enable(\"fivethirtyeight\")\n",
    "\n",
    "chart = (alt.Chart(df2)\n",
    "         .mark_bar()\n",
    "         .encode(\n",
    "             x=alt.X(\"pickup_borough:N\", title=\"Origin Borough\"),\n",
    "             y=alt.Y(\"sum(fare):Q\", title=\"Total Fares\"),\n",
    "             column = \"payment:N\",\n",
    "             color = alt.Color(\"pickup_borough:N\", \n",
    "                              scale=alt.Scale(\n",
    "                                  range=shared_utils.altair_utils.FIVETHIRTYEIGHT_DIVERGING_COLORS\n",
    "                              )\n",
    "                              )\n",
    "         )\n",
    ")\n",
    "\n",
    "chart = shared_utils.altair_utils.preset_chart_config(chart)\n",
    "\n",
    "# Add further tweaks to configuration after\n",
    "chart = (chart\n",
    "         .properties(width = 100, height = 200, \n",
    "                     title=\"Fares by Payment Type\")\n",
    "        )\n",
    "chart.save(\"../example_report/altair_chart.png\")\n",
    "chart"
   ]
  },
  {
   "cell_type": "markdown",
   "id": "0cad7cc1-e165-4609-a586-e03b1f93373c",
   "metadata": {},
   "source": [
    "## matplotlib"
   ]
  },
  {
   "cell_type": "code",
   "execution_count": 5,
   "id": "9999e795-504b-466d-9c77-186bbf5ff50a",
   "metadata": {},
   "outputs": [],
   "source": [
    "plt.style.use('fivethirtyeight')\n",
    "\n",
    "plt.bar(\"pickup_borough\", height=\"fare\", data=df2)\n",
    "plt.xlabel(\"Origin Borough\")\n",
    "plt.ylabel(\"Total Fares\")\n",
    "plt.title(\"Fares by Borough\")\n",
    "plt.savefig(\"../example_report/matplotlib_chart.png\")\n",
    "plt.close()"
   ]
  },
  {
   "cell_type": "markdown",
   "id": "0a098876-ad59-4472-99ac-000f61409972",
   "metadata": {},
   "source": [
    "## seaborn\n",
    "\n",
    "Set the `fivethirtyeight` color palette"
   ]
  },
  {
   "cell_type": "code",
   "execution_count": 6,
   "id": "2a70002a-43f4-4bb8-81ad-5c746e963352",
   "metadata": {},
   "outputs": [],
   "source": [
    "sns.set_palette(shared_utils.altair_utils.FIVETHIRTYEIGHT_CATEGORY_COLORS)"
   ]
  },
  {
   "cell_type": "code",
   "execution_count": 7,
   "id": "03efb78c-c961-4872-afda-3c7046e720c3",
   "metadata": {},
   "outputs": [
    {
     "data": {
      "image/png": "[encoded data removed]",
      "text/plain": [
       "<Figure size 432x288 with 1 Axes>"
      ]
     },
     "metadata": {},
     "output_type": "display_data"
    }
   ],
   "source": [
    "sns_plot = sns.barplot(x=df2.pickup_borough, y=df2.fare, ci=None).set_title(\"Fares by Borough\")\n",
    "chart3 = sns_plot.get_figure()\n",
    "chart3.tight_layout()\n",
    "chart3.savefig(\"../example_report/seaborn_chart.png\")"
   ]
  },
  {
   "cell_type": "code",
   "execution_count": null,
   "id": "b08a9a62-86a9-44eb-ba6b-c5568ea4c0b4",
   "metadata": {},
   "outputs": [],
   "source": []
  }
 ],
 "metadata": {
  "kernelspec": {
   "display_name": "Python 3 (ipykernel)",
   "language": "python",
   "name": "python3"
  },
  "language_info": {
   "codemirror_mode": {
    "name": "ipython",
    "version": 3
   },
   "file_extension": ".py",
   "mimetype": "text/x-python",
   "name": "python",
   "nbconvert_exporter": "python",
   "pygments_lexer": "ipython3",
   "version": "3.9.7"
  }
 },
 "nbformat": 4,
 "nbformat_minor": 5
}
