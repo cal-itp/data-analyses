{
 "cells": [
  {
   "cell_type": "markdown",
   "id": "be271b0b-3fc1-4b28-998f-6c3ee50140f3",
   "metadata": {},
   "source": [
    "## Exercise 5: Geospatial wrangling and making maps\n",
    "\n",
    "Skills: \n",
    "* More geospatial practice building on earlier skills\n",
    "* Make a map with `folium` or `ipyleaflet` using `shared_utils.map_utils`\n",
    "\n",
    "References: \n",
    "* https://cityoflosangeles.github.io/best-practices/data-analysis-intermediate.html\n",
    "* https://docs.calitp.org/data-infra/analytics_tools/python_libraries.html\n",
    "* https://docs.calitp.org/data-infra/analytics_examples/warehouse_tutorial.html\n",
    "* https://docs.calitp.org/data-infra/analytics_examples/new_tutorial.html"
   ]
  },
  {
   "cell_type": "code",
   "execution_count": null,
   "id": "cd857644-ccaa-4eb8-8e67-f506a46bbace",
   "metadata": {},
   "outputs": [],
   "source": [
    "import geopandas as gpd\n",
    "import intake\n",
    "import pandas as pd\n",
    "\n",
    "from calitp.tables import tbl\n",
    "from calitp import query_sql\n",
    "from siuba import *\n",
    "\n",
    "# Hint: if this doesn't import: refer to docs for correctly import\n",
    "# cd into _shared_utils folder, run the make setup_env command\n",
    "import shared_utils"
   ]
  },
  {
   "cell_type": "markdown",
   "id": "6c762aa7-15ac-4f6d-9867-e35b0b723a57",
   "metadata": {},
   "source": [
    "## Research Question\n",
    "\n",
    "What's the average number of trips per stop by operators in southern California? Show visualizations at the operator and county-level.\n",
    "<br>**Geographic scope:** southern California counties\n",
    "<br>**Deliverables:** chart(s) and map(s) showing metrics comparing across counties and also across operators. Make these visualizations using function(s).\n",
    "\n",
    "### Prep data\n",
    "\n",
    "* Use the same query, but grab a different set of operators. These are in southern California, so the map should zoom in counties ranging from LA to SD.\n",
    "* To find what ITP IDs are what operators:\n",
    "[agencies.yml](https://github.com/cal-itp/data-infra/blob/main/airflow/data/agencies.yml)\n",
    "* *Hint*: for some counties, there are multiple operators. Make sure the average trips per stop by counties is the weighted average.\n",
    "* Use the same [shapefile for CA counties](https://gis.data.ca.gov/datasets/CALFIRE-Forestry::california-county-boundaries/explore?location=37.246136%2C-119.002032%2C6.12) as in Exercise 4.\n",
    "* Join the data and only keep counties that have bus stops."
   ]
  },
  {
   "cell_type": "code",
   "execution_count": null,
   "id": "cb619ecd-d33d-4d77-b9d0-547958dd069f",
   "metadata": {},
   "outputs": [],
   "source": [
    "ITP_ID = [182, 183, 278, 154, 235, 232]\n",
    "stops = (\n",
    "    tbl.views.gtfs_schedule_dim_stops()\n",
    "    >> select(_.itp_id == _.calitp_itp_id, _.stop_id, \n",
    "             _.stop_lat, _.stop_lon, _.stop_name)\n",
    "    >> arrange(_.itp_id, _.stop_id, \n",
    "               _.stop_lat, _.stop_lon)\n",
    "    >> collect()\n",
    "    >> filter(_.itp_id.isin(ITP_ID))\n",
    ")"
   ]
  },
  {
   "cell_type": "markdown",
   "id": "893a7fff-a99e-4eed-ae04-1cf5f6549f9d",
   "metadata": {},
   "source": [
    "### Bring in a new table from BigQuery\n",
    "\n",
    "* In `transitstacks`, there's a table called `ntd_stats`. \n",
    "* Decide what columns to keep.\n",
    "* Merge `ntd_stats` with the `stops` table to create 1 df."
   ]
  },
  {
   "cell_type": "code",
   "execution_count": null,
   "id": "ddb28685-6404-4069-a434-f3dbd888c3d8",
   "metadata": {},
   "outputs": [],
   "source": []
  },
  {
   "cell_type": "markdown",
   "id": "e8f32be3-7e0e-4c51-affd-1c67b879b0ec",
   "metadata": {},
   "source": [
    "### Aggregate\n",
    "* Write a function to aggregate to the operator level or county level, add new columns for desired metrics.\n",
    "* Merge in CA shapefile to get a gdf.\n",
    "* Add another `geometry` column, called `centroid`, and grab the county's centroid.\n",
    "* Refer to [docs](https://geopandas.org/en/stable/docs/reference/api/geopandas.GeoDataFrame.set_geometry.html) to see how to pick which column to use as the `geometry` for the gdf, since technically, a gdf can handle multiple geometry columns."
   ]
  },
  {
   "cell_type": "code",
   "execution_count": null,
   "id": "34d6c962-a61a-4df2-9244-7bf4ca0415c4",
   "metadata": {},
   "outputs": [],
   "source": []
  },
  {
   "cell_type": "markdown",
   "id": "533611ec-f316-4459-9237-476e5fcbfee0",
   "metadata": {},
   "source": [
    "### Visualizations\n",
    "* Make one chart for comparing trips per stop by operators, and another chart for comparing it by counties. Use a function to do this.\n",
    "* Make 1 map for comparing trips per stop by counties. Use `shared_utils.map_utils` to do this.\n",
    "* Visualizations should follow the Cal-ITP style guide.\n",
    "* More on `folium` and `ipyleaflet`: https://github.com/jorisvandenbossche/geopandas-tutorial/blob/master/05-more-on-visualization.ipynb"
   ]
  },
  {
   "cell_type": "code",
   "execution_count": null,
   "id": "f2349ddd-8cb6-4452-95ab-8a0d1aca3b20",
   "metadata": {},
   "outputs": [],
   "source": []
  }
 ],
 "metadata": {
  "kernelspec": {
   "display_name": "Python 3 (ipykernel)",
   "language": "python",
   "name": "python3"
  },
  "language_info": {
   "codemirror_mode": {
    "name": "ipython",
    "version": 3
   },
   "file_extension": ".py",
   "mimetype": "text/x-python",
   "name": "python",
   "nbconvert_exporter": "python",
   "pygments_lexer": "ipython3",
   "version": "3.9.7"
  }
 },
 "nbformat": 4,
 "nbformat_minor": 5
}
