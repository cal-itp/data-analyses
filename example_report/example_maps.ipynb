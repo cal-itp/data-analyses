{
 "cells": [
  {
   "cell_type": "markdown",
   "id": "5c1ac93b-61a2-4ad9-bbea-0332240c090f",
   "metadata": {},
   "source": [
    "# Sample Maps with shared utils"
   ]
  },
  {
   "cell_type": "code",
   "execution_count": null,
   "id": "0c8904ca-a022-4fd5-b53e-c30ea5a40642",
   "metadata": {},
   "outputs": [],
   "source": [
    "import branca\n",
    "import geopandas as gpd\n",
    "import pandas as pd\n",
    "\n",
    "import shared_utils "
   ]
  },
  {
   "cell_type": "code",
   "execution_count": null,
   "id": "ed3f9bb9-c1e1-4028-b408-05d0170832ca",
   "metadata": {},
   "outputs": [],
   "source": [
    "shared_utils.geography_utils.CA_NAD83Albers"
   ]
  },
  {
   "cell_type": "code",
   "execution_count": null,
   "id": "1fab34f5-2bb5-46c6-9b30-4aa0d2d0be4d",
   "metadata": {},
   "outputs": [],
   "source": [
    "GEOSPATIAL_DATA = \"https://opendata.arcgis.com/datasets/a0f1da19bffe471ea89bd6a241e5604b_0.geojson\"\n",
    "gdf = gpd.read_file(GEOSPATIAL_DATA)\n",
    "gdf"
   ]
  },
  {
   "cell_type": "code",
   "execution_count": null,
   "id": "7c7ce8e2-ce1e-456a-bc0d-9cf5502ffd03",
   "metadata": {},
   "outputs": [],
   "source": [
    "print(f\"original CRS: {gdf.crs}\")\n",
    "gdf = gdf.to_crs(shared_utils.geography_utils.CA_StatePlane)\n",
    "print(f\"new CRS: {gdf.crs}\")"
   ]
  },
  {
   "cell_type": "code",
   "execution_count": null,
   "id": "2d5c3736-9f7b-4cca-b868-d16b2927e325",
   "metadata": {},
   "outputs": [],
   "source": [
    "shared_utils.utils.geoparquet_gcs_export?"
   ]
  },
  {
   "cell_type": "code",
   "execution_count": null,
   "id": "59c4e223-be90-4d70-9f6f-e86cf1b9d6f9",
   "metadata": {},
   "outputs": [],
   "source": [
    "GCS_FILE_PATH = \"gs://calitp-analytics-data/\"\n",
    "FILE_NAME = \"test_geoparquet\"\n",
    "shared_utils.utils.geoparquet_gcs_export(gdf, GCS_FILE_PATH, FILE_NAME)"
   ]
  },
  {
   "cell_type": "code",
   "execution_count": null,
   "id": "32e2bffb-3e47-4952-bf86-1c4b0b5b57bc",
   "metadata": {},
   "outputs": [],
   "source": [
    "popup_dict = {\n",
    "    \"DISTRICT\": \"Caltrans District\",\n",
    "    \"Region\": \"Caltrans Region\",\n",
    "}\n",
    "\n",
    "'''\n",
    "# Set your own step colormap and specify colors and cut-offs\n",
    "colorscale = branca.colormap.StepColormap(\n",
    "                colors=[\"gray\", \"green\", \"navy\"], \n",
    "                index=[2_000, 4_000, 8_000],\n",
    "                vmin=0, vmax=15_000,\n",
    ")\n",
    "\n",
    "# Set your own linear colormap and specify colors and cut-offs\n",
    "colorscale = branca.colormap.LinearColormap(\n",
    "                colors=[\"gray\", \"green\", \"navy\"], \n",
    "                index=[2_000, 4_000, 8_000],\n",
    "                vmin=0, vmax=15_000,\n",
    ")\n",
    "\n",
    "# Use preset step colormap\n",
    "colorscale = branca.colormap.step.Accent_03\n",
    "\n",
    "# Use preset linear colormap\n",
    "colorscale = branca.colormap.linear.Blues_06\n",
    "\n",
    "'''\n",
    "colorscale = (branca.colormap.step.Accent_07\n",
    "              .scale(vmin=gdf.DISTRICT.min(), \n",
    "                     vmax=gdf.DISTRICT.max())\n",
    "             )\n",
    "\n",
    "m = shared_utils.map_utils.make_folium_choropleth_map(\n",
    "    gdf,\n",
    "    plot_col = \"DISTRICT\",\n",
    "    popup_dict = popup_dict,\n",
    "    tooltip_dict = popup_dict,\n",
    "    colorscale = colorscale,\n",
    "    fig_width = 500, fig_height = 800,\n",
    "    zoom = shared_utils.map_utils.REGION_CENTROIDS[\"CA\"][1],\n",
    "    centroid = shared_utils.map_utils.REGION_CENTROIDS[\"CA\"][0],\n",
    "    title=\"CA Map\"\n",
    ")\n",
    "\n",
    "#m"
   ]
  },
  {
   "cell_type": "code",
   "execution_count": null,
   "id": "95c1f63a-6ebd-4657-91fa-138b0fb122bc",
   "metadata": {},
   "outputs": [],
   "source": [
    "import json\n",
    "\n",
    "gdf = gdf.to_crs(shared_utils.geography_utils.WGS84)\n",
    "\n",
    "geo_data = json.loads(gdf.set_index(\"DISTRICT\").to_json())\n",
    "choro_data = dict(zip(gdf[\"DISTRICT\"].tolist(), gdf[\"Shape_Area\"].tolist()))\n",
    "\n",
    "choropleth_dict = {\n",
    "    \"geo_data\": geo_data,\n",
    "    \"choro_data\": choro_data,\n",
    "    \"layer_name\": \"Area\",\n",
    "    \"MIN_VALUE\": gdf.Shape_Area.min(),\n",
    "    \"MAX_VALUE\": gdf.Shape_Area.max(),\n",
    "    \"plot_col_name\": \"Area (sq mi)\",\n",
    "    \"fig_width\": '100%',\n",
    "    \"fig_height\": '100%',\n",
    "    \"fig_min_width_px\": '400px',\n",
    "    \"fig_min_height_px\": '600px',\n",
    "}\n",
    "\n",
    "colorscale = branca.colormap.linear.Greens_09\n",
    "\n",
    "f = shared_utils.map_utils.make_ipyleaflet_choropleth_map(\n",
    "    choropleth_dict, \n",
    "    plot_col = \"Shape_Area\",\n",
    "    colorscale = colorscale\n",
    ")\n",
    "\n",
    "f"
   ]
  },
  {
   "cell_type": "code",
   "execution_count": null,
   "id": "4168a7c5-3e9b-4efb-95d3-fa898b79d3b8",
   "metadata": {},
   "outputs": [],
   "source": []
  }
 ],
 "metadata": {
  "kernelspec": {
   "display_name": "Python 3 (ipykernel)",
   "language": "python",
   "name": "python3"
  },
  "language_info": {
   "codemirror_mode": {
    "name": "ipython",
    "version": 3
   },
   "file_extension": ".py",
   "mimetype": "text/x-python",
   "name": "python",
   "nbconvert_exporter": "python",
   "pygments_lexer": "ipython3",
   "version": "3.9.7"
  }
 },
 "nbformat": 4,
 "nbformat_minor": 5
}
