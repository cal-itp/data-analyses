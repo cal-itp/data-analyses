{
 "cells": [
  {
   "cell_type": "markdown",
   "id": "5c1ac93b-61a2-4ad9-bbea-0332240c090f",
   "metadata": {},
   "source": [
    "# Sample Maps with shared utils"
   ]
  },
  {
   "cell_type": "code",
   "execution_count": null,
   "id": "24deb5a6-3267-48ac-942c-ad0df0696452",
   "metadata": {},
   "outputs": [],
   "source": [
    "# In terminal - try to get ipyleaflet to render (but this still doesn't work)\n",
    "#jupyter labextension install @jupyter-widgets/jupyterlab-manager jupyter-leaflet js"
   ]
  },
  {
   "cell_type": "code",
   "execution_count": 1,
   "id": "0c8904ca-a022-4fd5-b53e-c30ea5a40642",
   "metadata": {},
   "outputs": [],
   "source": [
    "import branca\n",
    "import geopandas as gpd\n",
    "import pandas as pd\n",
    "\n",
    "import shared_utils "
   ]
  },
  {
   "cell_type": "code",
   "execution_count": 2,
   "id": "ed3f9bb9-c1e1-4028-b408-05d0170832ca",
   "metadata": {},
   "outputs": [
    {
     "data": {
      "text/plain": [
       "'EPSG:3310'"
      ]
     },
     "execution_count": 2,
     "metadata": {},
     "output_type": "execute_result"
    }
   ],
   "source": [
    "shared_utils.geography_utils.CA_NAD83Albers"
   ]
  },
  {
   "cell_type": "code",
   "execution_count": 3,
   "id": "1fab34f5-2bb5-46c6-9b30-4aa0d2d0be4d",
   "metadata": {},
   "outputs": [
    {
     "data": {
      "text/html": [
       "<div>\n",
       "<style scoped>\n",
       "    .dataframe tbody tr th:only-of-type {\n",
       "        vertical-align: middle;\n",
       "    }\n",
       "\n",
       "    .dataframe tbody tr th {\n",
       "        vertical-align: top;\n",
       "    }\n",
       "\n",
       "    .dataframe thead th {\n",
       "        text-align: right;\n",
       "    }\n",
       "</style>\n",
       "<table border=\"1\" class=\"dataframe\">\n",
       "  <thead>\n",
       "    <tr style=\"text-align: right;\">\n",
       "      <th></th>\n",
       "      <th>OBJECTID</th>\n",
       "      <th>DISTRICT</th>\n",
       "      <th>Region</th>\n",
       "      <th>Shape_Length</th>\n",
       "      <th>Shape_Area</th>\n",
       "      <th>geometry</th>\n",
       "    </tr>\n",
       "  </thead>\n",
       "  <tbody>\n",
       "    <tr>\n",
       "      <th>0</th>\n",
       "      <td>1</td>\n",
       "      <td>1</td>\n",
       "      <td>North</td>\n",
       "      <td>1.913829e+06</td>\n",
       "      <td>4.188500e+10</td>\n",
       "      <td>POLYGON ((-123.51819 42.00031, -123.51794 42.0...</td>\n",
       "    </tr>\n",
       "    <tr>\n",
       "      <th>1</th>\n",
       "      <td>2</td>\n",
       "      <td>2</td>\n",
       "      <td>North</td>\n",
       "      <td>1.776128e+06</td>\n",
       "      <td>1.266855e+11</td>\n",
       "      <td>POLYGON ((-122.30683 42.00816, -122.32039 42.0...</td>\n",
       "    </tr>\n",
       "    <tr>\n",
       "      <th>2</th>\n",
       "      <td>3</td>\n",
       "      <td>3</td>\n",
       "      <td>North</td>\n",
       "      <td>1.467236e+06</td>\n",
       "      <td>5.459471e+10</td>\n",
       "      <td>POLYGON ((-121.40463 40.14665, -121.40452 40.1...</td>\n",
       "    </tr>\n",
       "    <tr>\n",
       "      <th>3</th>\n",
       "      <td>4</td>\n",
       "      <td>4</td>\n",
       "      <td></td>\n",
       "      <td>1.540172e+06</td>\n",
       "      <td>3.123284e+10</td>\n",
       "      <td>POLYGON ((-122.35190 38.83627, -122.35432 38.8...</td>\n",
       "    </tr>\n",
       "    <tr>\n",
       "      <th>4</th>\n",
       "      <td>5</td>\n",
       "      <td>5</td>\n",
       "      <td>Central</td>\n",
       "      <td>1.593306e+06</td>\n",
       "      <td>4.341220e+10</td>\n",
       "      <td>POLYGON ((-122.15057 37.27596, -122.15058 37.2...</td>\n",
       "    </tr>\n",
       "    <tr>\n",
       "      <th>5</th>\n",
       "      <td>6</td>\n",
       "      <td>6</td>\n",
       "      <td>Central</td>\n",
       "      <td>1.457489e+06</td>\n",
       "      <td>7.768882e+10</td>\n",
       "      <td>POLYGON ((-119.27249 37.73954, -119.27299 37.7...</td>\n",
       "    </tr>\n",
       "    <tr>\n",
       "      <th>6</th>\n",
       "      <td>7</td>\n",
       "      <td>8</td>\n",
       "      <td></td>\n",
       "      <td>1.365819e+06</td>\n",
       "      <td>1.049158e+11</td>\n",
       "      <td>POLYGON ((-115.66384 35.80924, -115.68169 35.8...</td>\n",
       "    </tr>\n",
       "    <tr>\n",
       "      <th>7</th>\n",
       "      <td>8</td>\n",
       "      <td>10</td>\n",
       "      <td>Central</td>\n",
       "      <td>1.199090e+06</td>\n",
       "      <td>4.591954e+10</td>\n",
       "      <td>POLYGON ((-119.88972 38.92320, -119.89712 38.9...</td>\n",
       "    </tr>\n",
       "    <tr>\n",
       "      <th>8</th>\n",
       "      <td>9</td>\n",
       "      <td>11</td>\n",
       "      <td></td>\n",
       "      <td>1.104659e+06</td>\n",
       "      <td>3.221576e+10</td>\n",
       "      <td>POLYGON ((-117.36428 33.50503, -117.43208 33.5...</td>\n",
       "    </tr>\n",
       "    <tr>\n",
       "      <th>9</th>\n",
       "      <td>10</td>\n",
       "      <td>12</td>\n",
       "      <td></td>\n",
       "      <td>3.611343e+05</td>\n",
       "      <td>2.983890e+09</td>\n",
       "      <td>MULTIPOLYGON (((-117.70373 33.46011, -117.7039...</td>\n",
       "    </tr>\n",
       "    <tr>\n",
       "      <th>10</th>\n",
       "      <td>11</td>\n",
       "      <td>7</td>\n",
       "      <td></td>\n",
       "      <td>9.060128e+05</td>\n",
       "      <td>2.205600e+10</td>\n",
       "      <td>MULTIPOLYGON (((-118.22272 33.76500, -118.2228...</td>\n",
       "    </tr>\n",
       "    <tr>\n",
       "      <th>11</th>\n",
       "      <td>12</td>\n",
       "      <td>9</td>\n",
       "      <td></td>\n",
       "      <td>1.955343e+06</td>\n",
       "      <td>6.623794e+10</td>\n",
       "      <td>POLYGON ((-119.52049 38.66832, -119.52723 38.6...</td>\n",
       "    </tr>\n",
       "  </tbody>\n",
       "</table>\n",
       "</div>"
      ],
      "text/plain": [
       "    OBJECTID  DISTRICT   Region  Shape_Length    Shape_Area  \\\n",
       "0          1         1    North  1.913829e+06  4.188500e+10   \n",
       "1          2         2    North  1.776128e+06  1.266855e+11   \n",
       "2          3         3    North  1.467236e+06  5.459471e+10   \n",
       "3          4         4           1.540172e+06  3.123284e+10   \n",
       "4          5         5  Central  1.593306e+06  4.341220e+10   \n",
       "5          6         6  Central  1.457489e+06  7.768882e+10   \n",
       "6          7         8           1.365819e+06  1.049158e+11   \n",
       "7          8        10  Central  1.199090e+06  4.591954e+10   \n",
       "8          9        11           1.104659e+06  3.221576e+10   \n",
       "9         10        12           3.611343e+05  2.983890e+09   \n",
       "10        11         7           9.060128e+05  2.205600e+10   \n",
       "11        12         9           1.955343e+06  6.623794e+10   \n",
       "\n",
       "                                             geometry  \n",
       "0   POLYGON ((-123.51819 42.00031, -123.51794 42.0...  \n",
       "1   POLYGON ((-122.30683 42.00816, -122.32039 42.0...  \n",
       "2   POLYGON ((-121.40463 40.14665, -121.40452 40.1...  \n",
       "3   POLYGON ((-122.35190 38.83627, -122.35432 38.8...  \n",
       "4   POLYGON ((-122.15057 37.27596, -122.15058 37.2...  \n",
       "5   POLYGON ((-119.27249 37.73954, -119.27299 37.7...  \n",
       "6   POLYGON ((-115.66384 35.80924, -115.68169 35.8...  \n",
       "7   POLYGON ((-119.88972 38.92320, -119.89712 38.9...  \n",
       "8   POLYGON ((-117.36428 33.50503, -117.43208 33.5...  \n",
       "9   MULTIPOLYGON (((-117.70373 33.46011, -117.7039...  \n",
       "10  MULTIPOLYGON (((-118.22272 33.76500, -118.2228...  \n",
       "11  POLYGON ((-119.52049 38.66832, -119.52723 38.6...  "
      ]
     },
     "execution_count": 3,
     "metadata": {},
     "output_type": "execute_result"
    }
   ],
   "source": [
    "GEOSPATIAL_DATA = \"https://opendata.arcgis.com/datasets/a0f1da19bffe471ea89bd6a241e5604b_0.geojson\"\n",
    "gdf = gpd.read_file(GEOSPATIAL_DATA)\n",
    "gdf"
   ]
  },
  {
   "cell_type": "code",
   "execution_count": null,
   "id": "7c7ce8e2-ce1e-456a-bc0d-9cf5502ffd03",
   "metadata": {},
   "outputs": [],
   "source": [
    "print(f\"original CRS: {gdf.crs}\")\n",
    "gdf = gdf.to_crs(shared_utils.geography_utils.CA_StatePlane)\n",
    "print(f\"new CRS: {gdf.crs}\")"
   ]
  },
  {
   "cell_type": "code",
   "execution_count": null,
   "id": "2d5c3736-9f7b-4cca-b868-d16b2927e325",
   "metadata": {},
   "outputs": [],
   "source": [
    "shared_utils.utils.geoparquet_gcs_export?"
   ]
  },
  {
   "cell_type": "code",
   "execution_count": null,
   "id": "59c4e223-be90-4d70-9f6f-e86cf1b9d6f9",
   "metadata": {},
   "outputs": [],
   "source": [
    "GCS_FILE_PATH = \"gs://calitp-analytics-data/\"\n",
    "FILE_NAME = \"test_geoparquet\"\n",
    "shared_utils.utils.geoparquet_gcs_export(gdf, GCS_FILE_PATH, FILE_NAME)"
   ]
  },
  {
   "cell_type": "code",
   "execution_count": null,
   "id": "32e2bffb-3e47-4952-bf86-1c4b0b5b57bc",
   "metadata": {},
   "outputs": [],
   "source": [
    "popup_dict = {\n",
    "    \"DISTRICT\": \"Caltrans District\",\n",
    "    \"Region\": \"Caltrans Region\",\n",
    "}\n",
    "\n",
    "'''\n",
    "# Set your own step colormap and specify colors and cut-offs\n",
    "colorscale = branca.colormap.StepColormap(\n",
    "                colors=[\"gray\", \"green\", \"navy\"], \n",
    "                index=[2_000, 4_000, 8_000],\n",
    "                vmin=0, vmax=15_000,\n",
    ")\n",
    "\n",
    "# Set your own linear colormap and specify colors and cut-offs\n",
    "colorscale = branca.colormap.LinearColormap(\n",
    "                colors=[\"gray\", \"green\", \"navy\"], \n",
    "                index=[2_000, 4_000, 8_000],\n",
    "                vmin=0, vmax=15_000,\n",
    ")\n",
    "\n",
    "# Use preset step colormap\n",
    "colorscale = branca.colormap.step.Accent_03\n",
    "\n",
    "# Use preset linear colormap\n",
    "colorscale = branca.colormap.linear.Blues_06\n",
    "\n",
    "'''\n",
    "colorscale = (branca.colormap.step.Accent_07\n",
    "              .scale(vmin=gdf.DISTRICT.min(), \n",
    "                     vmax=gdf.DISTRICT.max())\n",
    "             )\n",
    "\n",
    "m = shared_utils.map_utils.make_folium_choropleth_map(\n",
    "    gdf,\n",
    "    plot_col = \"DISTRICT\",\n",
    "    popup_dict = popup_dict,\n",
    "    tooltip_dict = popup_dict,\n",
    "    colorscale = colorscale,\n",
    "    fig_width = 500, fig_height = 800,\n",
    "    zoom = shared_utils.map_utils.REGION_CENTROIDS[\"CA\"][1],\n",
    "    centroid = shared_utils.map_utils.REGION_CENTROIDS[\"CA\"][0],\n",
    "    title=\"CA Map\"\n",
    ")\n",
    "\n",
    "#m"
   ]
  },
  {
   "cell_type": "code",
   "execution_count": 4,
   "id": "95c1f63a-6ebd-4657-91fa-138b0fb122bc",
   "metadata": {},
   "outputs": [
    {
     "data": {
      "application/vnd.jupyter.widget-view+json": {
       "model_id": "667c1de798674182b6e35158ff3db43f",
       "version_major": 2,
       "version_minor": 0
      },
      "text/plain": [
       "Map(center=[35.8, -119.4], controls=(ZoomControl(options=['position', 'zoom_in_text', 'zoom_in_title', 'zoom_o…"
      ]
     },
     "metadata": {},
     "output_type": "display_data"
    }
   ],
   "source": [
    "gdf = gdf.to_crs(shared_utils.geography_utils.WGS84)\n",
    "\n",
    "choropleth_dict = {\n",
    "    \"layer_name\": \"Area\",\n",
    "    \"MIN_VALUE\": gdf.Shape_Area.min(),\n",
    "    \"MAX_VALUE\": gdf.Shape_Area.max(),\n",
    "    \"plot_col_name\": \"Area (sq mi)\",\n",
    "    \"fig_width\": '100%',\n",
    "    \"fig_height\": '100%',\n",
    "    \"fig_min_width_px\": '400px',\n",
    "    \"fig_min_height_px\": '600px',\n",
    "}\n",
    "\n",
    "colorscale = branca.colormap.linear.Greens_09\n",
    "\n",
    "f = shared_utils.map_utils.make_ipyleaflet_choropleth_map(\n",
    "    gdf,\n",
    "    geometry_col = \"DISTRICT\", \n",
    "    plot_col = \"Shape_Area\",\n",
    "    choropleth_dict = choropleth_dict,\n",
    "    colorscale = colorscale\n",
    ")\n",
    "\n",
    "f"
   ]
  },
  {
   "cell_type": "code",
   "execution_count": null,
   "id": "ab9e1641-e332-481b-8422-6a9282865e5c",
   "metadata": {},
   "outputs": [],
   "source": []
  }
 ],
 "metadata": {
  "kernelspec": {
   "display_name": "Python 3 (ipykernel)",
   "language": "python",
   "name": "python3"
  },
  "language_info": {
   "codemirror_mode": {
    "name": "ipython",
    "version": 3
   },
   "file_extension": ".py",
   "mimetype": "text/x-python",
   "name": "python",
   "nbconvert_exporter": "python",
   "pygments_lexer": "ipython3",
   "version": "3.9.7"
  }
 },
 "nbformat": 4,
 "nbformat_minor": 5
}
