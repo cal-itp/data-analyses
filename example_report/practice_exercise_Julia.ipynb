{
 "cells": [
  {
   "cell_type": "markdown",
   "id": "a136f4a6-00a4-4697-bdb1-ac022a94eb38",
   "metadata": {},
   "source": [
    "# Exercise 1: Familiarize yourself with `pandas`\n",
    "\n",
    "Skills: \n",
    "* `pandas` is one of the base Python packages for working with tabular data.\n",
    "* Do some grouping and aggregation. Many ways to do this!\n",
    "* Export to Google Cloud Storage\n",
    "* Practice committing on GitHub\n",
    "\n",
    "References: \n",
    "* https://docs.calitp.org/data-infra/analytics_new_analysts/data-analysis-intro.html\n",
    "* https://docs.calitp.org/data-infra/analytics_tools/saving_code.html\n",
    "* https://docs.calitp.org/data-infra/analytics_examples/warehouse_tutorial.html"
   ]
  },
  {
   "cell_type": "code",
   "execution_count": 218,
   "id": "ca35b0dc-ff9d-41ce-9d24-0fb654ea91e6",
   "metadata": {},
   "outputs": [],
   "source": [
    "from siuba import *\n",
    "from siuba.data import mtcars\n",
    "\n",
    "import pandas as pd\n",
    "import numpy as np\n",
    "import matplotlib.pyplot as plt"
   ]
  },
  {
   "cell_type": "markdown",
   "id": "aeb604df-dd3f-4f6b-9b9a-172f01d9cbe1",
   "metadata": {},
   "source": [
    "## Groupby / Aggregation\n",
    "\n",
    "* By cylinder categories, calculate the average mpg and find difference between max and min weight.\n",
    "* Hint: for `pandas`: `groupby / agg`, `pivot_table`, `groupby / transform`\n",
    "* Hint: for `siuba`: `groupby`, `summarize`"
   ]
  },
  {
   "cell_type": "code",
   "execution_count": 62,
   "id": "1ffb5075-655e-4180-ba7b-d61c138bd6cf",
   "metadata": {},
   "outputs": [
    {
     "name": "stdout",
     "output_type": "stream",
     "text": [
      "The average mpg is 20.090624999999996.\n",
      "The difference between max and min weight is 3.9110000000000005.\n"
     ]
    }
   ],
   "source": [
    "#Average mpg\n",
    "\n",
    "print(f\"The average mpg is {mtcars.mpg.mean()}.\")\n",
    "print(f\"The difference between max and min weight is {mtcars.wt.max() - mtcars.wt.min()}.\")"
   ]
  },
  {
   "cell_type": "markdown",
   "id": "da313574-e4ba-4aec-9cbe-32df84828ebc",
   "metadata": {},
   "source": [
    "## Functions\n",
    "\n",
    "* Create a new column using a lambda function and tag 6 cylinder values with \"six\", and all other values as \"other\"\n",
    "* Write a function that tags each cylinder value with the word (ex: 6 as \"six\", 8 as \"eight\")"
   ]
  },
  {
   "cell_type": "code",
   "execution_count": 236,
   "id": "4df2f698-bf2d-41e9-b2da-2b21a21dac60",
   "metadata": {},
   "outputs": [
    {
     "data": {
      "text/html": [
       "<div>\n",
       "<style scoped>\n",
       "    .dataframe tbody tr th:only-of-type {\n",
       "        vertical-align: middle;\n",
       "    }\n",
       "\n",
       "    .dataframe tbody tr th {\n",
       "        vertical-align: top;\n",
       "    }\n",
       "\n",
       "    .dataframe thead th {\n",
       "        text-align: right;\n",
       "    }\n",
       "</style>\n",
       "<table border=\"1\" class=\"dataframe\">\n",
       "  <thead>\n",
       "    <tr style=\"text-align: right;\">\n",
       "      <th></th>\n",
       "      <th>mpg</th>\n",
       "      <th>cyl</th>\n",
       "      <th>disp</th>\n",
       "      <th>hp</th>\n",
       "      <th>drat</th>\n",
       "      <th>wt</th>\n",
       "      <th>qsec</th>\n",
       "      <th>vs</th>\n",
       "      <th>am</th>\n",
       "      <th>gear</th>\n",
       "      <th>carb</th>\n",
       "      <th>cylinder_flag1</th>\n",
       "    </tr>\n",
       "  </thead>\n",
       "  <tbody>\n",
       "    <tr>\n",
       "      <th>0</th>\n",
       "      <td>21.0</td>\n",
       "      <td>6</td>\n",
       "      <td>160.0</td>\n",
       "      <td>110</td>\n",
       "      <td>3.90</td>\n",
       "      <td>2.620</td>\n",
       "      <td>16.46</td>\n",
       "      <td>0</td>\n",
       "      <td>1</td>\n",
       "      <td>4</td>\n",
       "      <td>4</td>\n",
       "      <td>six</td>\n",
       "    </tr>\n",
       "    <tr>\n",
       "      <th>1</th>\n",
       "      <td>21.0</td>\n",
       "      <td>6</td>\n",
       "      <td>160.0</td>\n",
       "      <td>110</td>\n",
       "      <td>3.90</td>\n",
       "      <td>2.875</td>\n",
       "      <td>17.02</td>\n",
       "      <td>0</td>\n",
       "      <td>1</td>\n",
       "      <td>4</td>\n",
       "      <td>4</td>\n",
       "      <td>six</td>\n",
       "    </tr>\n",
       "    <tr>\n",
       "      <th>2</th>\n",
       "      <td>22.8</td>\n",
       "      <td>4</td>\n",
       "      <td>108.0</td>\n",
       "      <td>93</td>\n",
       "      <td>3.85</td>\n",
       "      <td>2.320</td>\n",
       "      <td>18.61</td>\n",
       "      <td>1</td>\n",
       "      <td>1</td>\n",
       "      <td>4</td>\n",
       "      <td>1</td>\n",
       "      <td>other</td>\n",
       "    </tr>\n",
       "    <tr>\n",
       "      <th>3</th>\n",
       "      <td>21.4</td>\n",
       "      <td>6</td>\n",
       "      <td>258.0</td>\n",
       "      <td>110</td>\n",
       "      <td>3.08</td>\n",
       "      <td>3.215</td>\n",
       "      <td>19.44</td>\n",
       "      <td>1</td>\n",
       "      <td>0</td>\n",
       "      <td>3</td>\n",
       "      <td>1</td>\n",
       "      <td>six</td>\n",
       "    </tr>\n",
       "    <tr>\n",
       "      <th>4</th>\n",
       "      <td>18.7</td>\n",
       "      <td>8</td>\n",
       "      <td>360.0</td>\n",
       "      <td>175</td>\n",
       "      <td>3.15</td>\n",
       "      <td>3.440</td>\n",
       "      <td>17.02</td>\n",
       "      <td>0</td>\n",
       "      <td>0</td>\n",
       "      <td>3</td>\n",
       "      <td>2</td>\n",
       "      <td>other</td>\n",
       "    </tr>\n",
       "  </tbody>\n",
       "</table>\n",
       "</div>"
      ],
      "text/plain": [
       "    mpg  cyl   disp   hp  drat     wt   qsec  vs  am  gear  carb  \\\n",
       "0  21.0    6  160.0  110  3.90  2.620  16.46   0   1     4     4   \n",
       "1  21.0    6  160.0  110  3.90  2.875  17.02   0   1     4     4   \n",
       "2  22.8    4  108.0   93  3.85  2.320  18.61   1   1     4     1   \n",
       "3  21.4    6  258.0  110  3.08  3.215  19.44   1   0     3     1   \n",
       "4  18.7    8  360.0  175  3.15  3.440  17.02   0   0     3     2   \n",
       "\n",
       "  cylinder_flag1  \n",
       "0            six  \n",
       "1            six  \n",
       "2          other  \n",
       "3            six  \n",
       "4          other  "
      ]
     },
     "execution_count": 236,
     "metadata": {},
     "output_type": "execute_result"
    }
   ],
   "source": [
    "# View type\n",
    "# type(mtcars)\n",
    "\n",
    "# Create new df\n",
    "mtcars2 = mtcars\n",
    "\n",
    "# Create new column with cylinders as a string\n",
    "mtcars2[\"cylinder_flag1\"] = mtcars.apply(lambda x: \"six\" if (x.cyl == 6)\n",
    "                else \"other\", axis = 1)\n",
    "\n",
    "mtcars2.head()"
   ]
  },
  {
   "cell_type": "code",
   "execution_count": 237,
   "id": "0b6b53a1-6914-49b0-ad3f-411c6cf1b1fb",
   "metadata": {},
   "outputs": [
    {
     "data": {
      "text/plain": [
       "0      six\n",
       "1      six\n",
       "2     four\n",
       "3      six\n",
       "4    eight\n",
       "dtype: object"
      ]
     },
     "execution_count": 237,
     "metadata": {},
     "output_type": "execute_result"
    }
   ],
   "source": [
    "# Define function cylinder_word to convert numeric 'cyl' column to text\n",
    "def cylinder_word(df):\n",
    "    if (df.cyl == 4):\n",
    "            return 'four'\n",
    "    if (df.cyl == 6):\n",
    "            return 'six'\n",
    "    elif (df.cyl == 8):\n",
    "            return 'eight'\n",
    "        \n",
    "function_tag = mtcars2.apply(cylinder_word, axis=1)\n",
    "\n",
    "function_tag.head()"
   ]
  },
  {
   "cell_type": "markdown",
   "id": "bfa7c0fc-5078-4678-a449-66f9cdc40381",
   "metadata": {},
   "source": [
    "## Export to Google Cloud Storage (GCS)\n",
    "\n",
    "* Make sure credential works\n",
    "* Use this path: \"gs://calitp-analytics-data/data-analyses/FILENAME\"\n",
    "* Export using `df.to_parquet()` and `df.to_csv()`"
   ]
  },
  {
   "cell_type": "code",
   "execution_count": 242,
   "id": "201e68ca-7e4e-4c0a-9ac0-ffabc57fb01a",
   "metadata": {},
   "outputs": [],
   "source": [
    "# Removed files after running from GCS\n",
    "mtcars2.to_parquet('gs://calitp-analytics-data/data-analyses/example_report/practice_exercise1_Julia.ipynb')\n",
    "mtcars2.to_csv('gs://calitp-analytics-data/data-analyses/example_report/practice_exercise1_Julia.csv')"
   ]
  },
  {
   "cell_type": "markdown",
   "id": "4db55ea3-d19d-4bf4-9564-4685064a5a4a",
   "metadata": {},
   "source": [
    "## Make a chart\n",
    "\n",
    "* Read in the parquet file from GCS.\n",
    "* Make a visualization using one of the charting packages.\n",
    "* Name this notebook `YOURNAME_exercise1.ipynb`\n",
    "    * If you need to rename because you already named it, do it within the terminal.\n",
    "    * `git mv OLDNAME.ipynb NEWNAME.ipynb`. \n",
    "    * The `mv` stands for move, and renaming a file is basically \"moving\" its path. Doing it this way retains the git history associated with the notebook. If you rename directly with right click, rename, you destroy the git history.\n",
    "* Use a descriptive commit message (ex: adding chart, etc). GitHub already tracks who makes the commit, the date, the timestamp of it, the files being affected, so your commit message should be more descriptive than the metadata already stored."
   ]
  },
  {
   "cell_type": "code",
   "execution_count": 244,
   "id": "8064ad3e-afa7-41fa-b833-4d5182085933",
   "metadata": {},
   "outputs": [
    {
     "data": {
      "text/html": [
       "<div>\n",
       "<style scoped>\n",
       "    .dataframe tbody tr th:only-of-type {\n",
       "        vertical-align: middle;\n",
       "    }\n",
       "\n",
       "    .dataframe tbody tr th {\n",
       "        vertical-align: top;\n",
       "    }\n",
       "\n",
       "    .dataframe thead th {\n",
       "        text-align: right;\n",
       "    }\n",
       "</style>\n",
       "<table border=\"1\" class=\"dataframe\">\n",
       "  <thead>\n",
       "    <tr style=\"text-align: right;\">\n",
       "      <th></th>\n",
       "      <th>mpg</th>\n",
       "      <th>cyl</th>\n",
       "      <th>disp</th>\n",
       "      <th>hp</th>\n",
       "      <th>drat</th>\n",
       "      <th>wt</th>\n",
       "      <th>qsec</th>\n",
       "      <th>vs</th>\n",
       "      <th>am</th>\n",
       "      <th>gear</th>\n",
       "      <th>carb</th>\n",
       "      <th>cylinder_flag1</th>\n",
       "    </tr>\n",
       "  </thead>\n",
       "  <tbody>\n",
       "    <tr>\n",
       "      <th>0</th>\n",
       "      <td>21.0</td>\n",
       "      <td>6</td>\n",
       "      <td>160.0</td>\n",
       "      <td>110</td>\n",
       "      <td>3.90</td>\n",
       "      <td>2.620</td>\n",
       "      <td>16.46</td>\n",
       "      <td>0</td>\n",
       "      <td>1</td>\n",
       "      <td>4</td>\n",
       "      <td>4</td>\n",
       "      <td>six</td>\n",
       "    </tr>\n",
       "    <tr>\n",
       "      <th>1</th>\n",
       "      <td>21.0</td>\n",
       "      <td>6</td>\n",
       "      <td>160.0</td>\n",
       "      <td>110</td>\n",
       "      <td>3.90</td>\n",
       "      <td>2.875</td>\n",
       "      <td>17.02</td>\n",
       "      <td>0</td>\n",
       "      <td>1</td>\n",
       "      <td>4</td>\n",
       "      <td>4</td>\n",
       "      <td>six</td>\n",
       "    </tr>\n",
       "    <tr>\n",
       "      <th>2</th>\n",
       "      <td>22.8</td>\n",
       "      <td>4</td>\n",
       "      <td>108.0</td>\n",
       "      <td>93</td>\n",
       "      <td>3.85</td>\n",
       "      <td>2.320</td>\n",
       "      <td>18.61</td>\n",
       "      <td>1</td>\n",
       "      <td>1</td>\n",
       "      <td>4</td>\n",
       "      <td>1</td>\n",
       "      <td>other</td>\n",
       "    </tr>\n",
       "    <tr>\n",
       "      <th>3</th>\n",
       "      <td>21.4</td>\n",
       "      <td>6</td>\n",
       "      <td>258.0</td>\n",
       "      <td>110</td>\n",
       "      <td>3.08</td>\n",
       "      <td>3.215</td>\n",
       "      <td>19.44</td>\n",
       "      <td>1</td>\n",
       "      <td>0</td>\n",
       "      <td>3</td>\n",
       "      <td>1</td>\n",
       "      <td>six</td>\n",
       "    </tr>\n",
       "    <tr>\n",
       "      <th>4</th>\n",
       "      <td>18.7</td>\n",
       "      <td>8</td>\n",
       "      <td>360.0</td>\n",
       "      <td>175</td>\n",
       "      <td>3.15</td>\n",
       "      <td>3.440</td>\n",
       "      <td>17.02</td>\n",
       "      <td>0</td>\n",
       "      <td>0</td>\n",
       "      <td>3</td>\n",
       "      <td>2</td>\n",
       "      <td>other</td>\n",
       "    </tr>\n",
       "  </tbody>\n",
       "</table>\n",
       "</div>"
      ],
      "text/plain": [
       "    mpg  cyl   disp   hp  drat     wt   qsec  vs  am  gear  carb  \\\n",
       "0  21.0    6  160.0  110  3.90  2.620  16.46   0   1     4     4   \n",
       "1  21.0    6  160.0  110  3.90  2.875  17.02   0   1     4     4   \n",
       "2  22.8    4  108.0   93  3.85  2.320  18.61   1   1     4     1   \n",
       "3  21.4    6  258.0  110  3.08  3.215  19.44   1   0     3     1   \n",
       "4  18.7    8  360.0  175  3.15  3.440  17.02   0   0     3     2   \n",
       "\n",
       "  cylinder_flag1  \n",
       "0            six  \n",
       "1            six  \n",
       "2          other  \n",
       "3            six  \n",
       "4          other  "
      ]
     },
     "execution_count": 244,
     "metadata": {},
     "output_type": "execute_result"
    }
   ],
   "source": [
    "pd.read_parquet('gs://calitp-analytics-data/data-analyses/example_report/practice_exercise1_Julia.ipynb').head()"
   ]
  },
  {
   "cell_type": "code",
   "execution_count": 252,
   "id": "bc631cba-30f7-4ad1-993e-46045ffa2966",
   "metadata": {},
   "outputs": [
    {
     "data": {
      "text/plain": [
       "<matplotlib.collections.PathCollection at 0x7f8c201ca5e0>"
      ]
     },
     "execution_count": 252,
     "metadata": {},
     "output_type": "execute_result"
    },
    {
     "data": {
      "image/png": "[encoded data removed]",
      "text/plain": [
       "<Figure size 640x480 with 1 Axes>"
      ]
     },
     "metadata": {},
     "output_type": "display_data"
    }
   ],
   "source": [
    "# Scatterplot of horsepower by cylinders\n",
    "plt.scatter(mtcars2.cyl, mtcars2.hp)"
   ]
  }
 ],
 "metadata": {
  "kernelspec": {
   "display_name": "Python 3 (ipykernel)",
   "language": "python",
   "name": "python3"
  },
  "language_info": {
   "codemirror_mode": {
    "name": "ipython",
    "version": 3
   },
   "file_extension": ".py",
   "mimetype": "text/x-python",
   "name": "python",
   "nbconvert_exporter": "python",
   "pygments_lexer": "ipython3",
   "version": "3.9.13"
  }
 },
 "nbformat": 4,
 "nbformat_minor": 5
}
