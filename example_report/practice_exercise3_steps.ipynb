{
 "cells": [
  {
   "cell_type": "markdown",
   "id": "9d8776b0-d2ea-4e3a-b46a-eabb048d89f7",
   "metadata": {},
   "source": [
    "# Exercise 3: More tabular data wrangling\n",
    "\n",
    "Skills:\n",
    "* Looping\n",
    "* Dictionary to map values\n",
    "* Dealing with duplicates\n",
    "* Make use of Markdown cells to write some narrative or commentary!\n",
    "\n",
    "References:\n",
    "* https://docs.calitp.org/data-infra/analytics_new_analysts/data-analysis-intermediate.html"
   ]
  },
  {
   "cell_type": "code",
   "execution_count": 1,
   "id": "99af77ce-7fd5-43b9-b0bb-239a58827555",
   "metadata": {},
   "outputs": [],
   "source": [
    "import pandas as pd"
   ]
  },
  {
   "cell_type": "code",
   "execution_count": 2,
   "id": "e0004ba4-2535-4aed-9b98-6e6c5339a937",
   "metadata": {},
   "outputs": [
    {
     "data": {
      "text/html": [
       "<div>\n",
       "<style scoped>\n",
       "    .dataframe tbody tr th:only-of-type {\n",
       "        vertical-align: middle;\n",
       "    }\n",
       "\n",
       "    .dataframe tbody tr th {\n",
       "        vertical-align: top;\n",
       "    }\n",
       "\n",
       "    .dataframe thead th {\n",
       "        text-align: right;\n",
       "    }\n",
       "</style>\n",
       "<table border=\"1\" class=\"dataframe\">\n",
       "  <thead>\n",
       "    <tr style=\"text-align: right;\">\n",
       "      <th></th>\n",
       "      <th>Agency</th>\n",
       "      <th>City</th>\n",
       "      <th>State</th>\n",
       "      <th>Legacy NTD ID</th>\n",
       "      <th>NTD ID</th>\n",
       "      <th>Organization Type</th>\n",
       "      <th>Reporter Type</th>\n",
       "      <th>Primary UZA\\n Population</th>\n",
       "      <th>Agency VOMS</th>\n",
       "      <th>Mode</th>\n",
       "      <th>...</th>\n",
       "      <th>Passenger Miles Questionable</th>\n",
       "      <th>Vehicle Revenue Miles</th>\n",
       "      <th>Vehicle Revenue Miles Questionable</th>\n",
       "      <th>Any data questionable?</th>\n",
       "      <th>Unnamed: 39</th>\n",
       "      <th>Unnamed: 40</th>\n",
       "      <th>Unnamed: 41</th>\n",
       "      <th>1</th>\n",
       "      <th>Unnamed: 43</th>\n",
       "      <th>Unnamed: 44</th>\n",
       "    </tr>\n",
       "  </thead>\n",
       "  <tbody>\n",
       "    <tr>\n",
       "      <th>0</th>\n",
       "      <td>MTA New York City Transit</td>\n",
       "      <td>New York</td>\n",
       "      <td>NY</td>\n",
       "      <td>2008</td>\n",
       "      <td>20008</td>\n",
       "      <td>Subsidiary Unit of a Transit Agency, Reporting...</td>\n",
       "      <td>Full Reporter</td>\n",
       "      <td>18,351,295</td>\n",
       "      <td>10,885</td>\n",
       "      <td>HR</td>\n",
       "      <td>...</td>\n",
       "      <td>NaN</td>\n",
       "      <td>354,616,371</td>\n",
       "      <td>NaN</td>\n",
       "      <td>No</td>\n",
       "      <td>NaN</td>\n",
       "      <td>NaN</td>\n",
       "      <td>NaN</td>\n",
       "      <td>Hide questionable data tags</td>\n",
       "      <td>NaN</td>\n",
       "      <td>NaN</td>\n",
       "    </tr>\n",
       "    <tr>\n",
       "      <th>1</th>\n",
       "      <td>MTA New York City Transit</td>\n",
       "      <td>New York</td>\n",
       "      <td>NY</td>\n",
       "      <td>2008</td>\n",
       "      <td>20008</td>\n",
       "      <td>Subsidiary Unit of a Transit Agency, Reporting...</td>\n",
       "      <td>Full Reporter</td>\n",
       "      <td>18,351,295</td>\n",
       "      <td>10,885</td>\n",
       "      <td>CB</td>\n",
       "      <td>...</td>\n",
       "      <td>NaN</td>\n",
       "      <td>9,866,807</td>\n",
       "      <td>NaN</td>\n",
       "      <td>No</td>\n",
       "      <td>NaN</td>\n",
       "      <td>NaN</td>\n",
       "      <td>NaN</td>\n",
       "      <td>Show questionable data tags</td>\n",
       "      <td>NaN</td>\n",
       "      <td>NaN</td>\n",
       "    </tr>\n",
       "  </tbody>\n",
       "</table>\n",
       "<p>2 rows × 45 columns</p>\n",
       "</div>"
      ],
      "text/plain": [
       "                      Agency      City State Legacy NTD ID NTD ID  \\\n",
       "0  MTA New York City Transit  New York    NY          2008  20008   \n",
       "1  MTA New York City Transit  New York    NY          2008  20008   \n",
       "\n",
       "                                   Organization Type  Reporter Type  \\\n",
       "0  Subsidiary Unit of a Transit Agency, Reporting...  Full Reporter   \n",
       "1  Subsidiary Unit of a Transit Agency, Reporting...  Full Reporter   \n",
       "\n",
       "  Primary UZA\\n Population Agency VOMS Mode  ... Passenger Miles Questionable  \\\n",
       "0              18,351,295       10,885   HR  ...                          NaN   \n",
       "1              18,351,295       10,885   CB  ...                          NaN   \n",
       "\n",
       "  Vehicle Revenue Miles  Vehicle Revenue Miles Questionable  \\\n",
       "0          354,616,371                                  NaN   \n",
       "1            9,866,807                                  NaN   \n",
       "\n",
       "  Any data questionable? Unnamed: 39 Unnamed: 40  Unnamed: 41  \\\n",
       "0                     No         NaN         NaN          NaN   \n",
       "1                     No         NaN         NaN          NaN   \n",
       "\n",
       "                             1 Unnamed: 43 Unnamed: 44  \n",
       "0  Hide questionable data tags         NaN         NaN  \n",
       "1  Show questionable data tags         NaN         NaN  \n",
       "\n",
       "[2 rows x 45 columns]"
      ]
     },
     "execution_count": 2,
     "metadata": {},
     "output_type": "execute_result"
    }
   ],
   "source": [
    "GCS_FILE_PATH = \"gs://calitp-analytics-data/data-analyses/bus_service_increase/\"\n",
    "FILE_NAME = \"ntd_metrics_2019.csv\"\n",
    "\n",
    "df = pd.read_csv(f\"{GCS_FILE_PATH}{FILE_NAME}\")\n",
    "df.head(2)"
   ]
  },
  {
   "cell_type": "code",
   "execution_count": 3,
   "id": "a3058b39-1f2e-4738-bf1d-456a074a5314",
   "metadata": {},
   "outputs": [],
   "source": [
    "df.columns = df.columns.str.replace('\\n', ' ').str.replace(' ', '_')"
   ]
  },
  {
   "cell_type": "code",
   "execution_count": 4,
   "id": "147f8d7f-8025-43b4-b380-92a2fa6cbed3",
   "metadata": {},
   "outputs": [
    {
     "name": "stdout",
     "output_type": "stream",
     "text": [
      "# obs: 3685\n",
      "# unique IDs: 2183\n"
     ]
    }
   ],
   "source": [
    "print(f\"# obs: {len(df)}\")\n",
    "print(f\"# unique IDs: {df.NTD_ID.nunique()}\")"
   ]
  },
  {
   "cell_type": "code",
   "execution_count": 5,
   "id": "86d87756-d7ff-495a-bbd4-4ac2f5ab88c8",
   "metadata": {},
   "outputs": [
    {
     "data": {
      "text/plain": [
       "MB    2\n",
       "FB    1\n",
       "DR    1\n",
       "CR    1\n",
       "RB    1\n",
       "HR    1\n",
       "TB    1\n",
       "LR    1\n",
       "Name: Mode, dtype: int64"
      ]
     },
     "execution_count": 5,
     "metadata": {},
     "output_type": "execute_result"
    }
   ],
   "source": [
    "# Pick an example -- see that agency provides service for different modes\n",
    "# df.NTD_ID.value_counts()\n",
    "df[df.NTD_ID==\"10003\"].Mode.value_counts()"
   ]
  },
  {
   "cell_type": "markdown",
   "id": "33f4a313-a62a-46ff-a877-d9d4e54a029f",
   "metadata": {},
   "source": [
    "### Dealing with Duplicates\n",
    "\n",
    "* Explore why there are duplicates\n",
    "* What's the analysis about? What should the unit of analysis be?\n",
    "* Should duplicates be dropped? Should duplicates be aggregated into 1 entry?\n",
    "* Hint: It depends on the analysis, and there might be a bit of both. Sometimes, aggregation makes sense. Duplicates require further investigation -- why do they appear in the dataset multiple times? Unless it's completely duplicate information, it doesn't make sense to just drop. It may show that the analysis can be more disaggregate than previously thought."
   ]
  },
  {
   "cell_type": "code",
   "execution_count": 6,
   "id": "e6b0a390-ebc9-4ad7-9290-6af1e7392fe2",
   "metadata": {},
   "outputs": [
    {
     "data": {
      "text/plain": [
       "MB    2\n",
       "HR    1\n",
       "RB    1\n",
       "LR    1\n",
       "VP    1\n",
       "Name: Mode, dtype: int64"
      ]
     },
     "execution_count": 6,
     "metadata": {},
     "output_type": "execute_result"
    }
   ],
   "source": [
    "# But what about this case?\n",
    "df[(df.Agency.str.contains(\"Los Angeles County Metropolitan Transportation Authority \")) \n",
    "   & (df.Agency.notna())].Mode.value_counts()"
   ]
  },
  {
   "cell_type": "code",
   "execution_count": 7,
   "id": "05b3ef21-8bb7-421d-a18e-b6257b818d44",
   "metadata": {},
   "outputs": [
    {
     "data": {
      "text/html": [
       "<div>\n",
       "<style scoped>\n",
       "    .dataframe tbody tr th:only-of-type {\n",
       "        vertical-align: middle;\n",
       "    }\n",
       "\n",
       "    .dataframe tbody tr th {\n",
       "        vertical-align: top;\n",
       "    }\n",
       "\n",
       "    .dataframe thead th {\n",
       "        text-align: right;\n",
       "    }\n",
       "</style>\n",
       "<table border=\"1\" class=\"dataframe\">\n",
       "  <thead>\n",
       "    <tr style=\"text-align: right;\">\n",
       "      <th></th>\n",
       "      <th>Agency</th>\n",
       "      <th>City</th>\n",
       "      <th>State</th>\n",
       "      <th>Legacy_NTD_ID</th>\n",
       "      <th>NTD_ID</th>\n",
       "      <th>Organization_Type</th>\n",
       "      <th>Reporter_Type</th>\n",
       "      <th>Primary_UZA__Population</th>\n",
       "      <th>Agency_VOMS</th>\n",
       "      <th>Mode</th>\n",
       "      <th>...</th>\n",
       "      <th>Passenger_Miles_Questionable</th>\n",
       "      <th>Vehicle_Revenue_Miles</th>\n",
       "      <th>Vehicle_Revenue_Miles_Questionable</th>\n",
       "      <th>Any_data_questionable?</th>\n",
       "      <th>Unnamed:_39</th>\n",
       "      <th>Unnamed:_40</th>\n",
       "      <th>Unnamed:_41</th>\n",
       "      <th>1</th>\n",
       "      <th>Unnamed:_43</th>\n",
       "      <th>Unnamed:_44</th>\n",
       "    </tr>\n",
       "  </thead>\n",
       "  <tbody>\n",
       "    <tr>\n",
       "      <th>16</th>\n",
       "      <td>Los Angeles County Metropolitan Transportation...</td>\n",
       "      <td>Los Angeles</td>\n",
       "      <td>CA</td>\n",
       "      <td>9154</td>\n",
       "      <td>90154</td>\n",
       "      <td>Independent Public Agency or Authority of Tran...</td>\n",
       "      <td>Full Reporter</td>\n",
       "      <td>12,150,996</td>\n",
       "      <td>3,469</td>\n",
       "      <td>MB</td>\n",
       "      <td>...</td>\n",
       "      <td>NaN</td>\n",
       "      <td>65,595,822</td>\n",
       "      <td>NaN</td>\n",
       "      <td>No</td>\n",
       "      <td>NaN</td>\n",
       "      <td>NaN</td>\n",
       "      <td>NaN</td>\n",
       "      <td>NaN</td>\n",
       "      <td>NaN</td>\n",
       "      <td>NaN</td>\n",
       "    </tr>\n",
       "    <tr>\n",
       "      <th>17</th>\n",
       "      <td>Los Angeles County Metropolitan Transportation...</td>\n",
       "      <td>Los Angeles</td>\n",
       "      <td>CA</td>\n",
       "      <td>9154</td>\n",
       "      <td>90154</td>\n",
       "      <td>Independent Public Agency or Authority of Tran...</td>\n",
       "      <td>Full Reporter</td>\n",
       "      <td>12,150,996</td>\n",
       "      <td>3,469</td>\n",
       "      <td>MB</td>\n",
       "      <td>...</td>\n",
       "      <td>NaN</td>\n",
       "      <td>5,775,759</td>\n",
       "      <td>NaN</td>\n",
       "      <td>No</td>\n",
       "      <td>NaN</td>\n",
       "      <td>NaN</td>\n",
       "      <td>NaN</td>\n",
       "      <td>NaN</td>\n",
       "      <td>NaN</td>\n",
       "      <td>NaN</td>\n",
       "    </tr>\n",
       "  </tbody>\n",
       "</table>\n",
       "<p>2 rows × 45 columns</p>\n",
       "</div>"
      ],
      "text/plain": [
       "                                               Agency         City State  \\\n",
       "16  Los Angeles County Metropolitan Transportation...  Los Angeles    CA   \n",
       "17  Los Angeles County Metropolitan Transportation...  Los Angeles    CA   \n",
       "\n",
       "   Legacy_NTD_ID NTD_ID                                  Organization_Type  \\\n",
       "16          9154  90154  Independent Public Agency or Authority of Tran...   \n",
       "17          9154  90154  Independent Public Agency or Authority of Tran...   \n",
       "\n",
       "    Reporter_Type Primary_UZA__Population Agency_VOMS Mode  ...  \\\n",
       "16  Full Reporter             12,150,996        3,469   MB  ...   \n",
       "17  Full Reporter             12,150,996        3,469   MB  ...   \n",
       "\n",
       "   Passenger_Miles_Questionable Vehicle_Revenue_Miles  \\\n",
       "16                          NaN           65,595,822    \n",
       "17                          NaN            5,775,759    \n",
       "\n",
       "    Vehicle_Revenue_Miles_Questionable Any_data_questionable? Unnamed:_39  \\\n",
       "16                                 NaN                     No         NaN   \n",
       "17                                 NaN                     No         NaN   \n",
       "\n",
       "   Unnamed:_40  Unnamed:_41    1 Unnamed:_43 Unnamed:_44  \n",
       "16         NaN          NaN  NaN         NaN         NaN  \n",
       "17         NaN          NaN  NaN         NaN         NaN  \n",
       "\n",
       "[2 rows x 45 columns]"
      ]
     },
     "execution_count": 7,
     "metadata": {},
     "output_type": "execute_result"
    }
   ],
   "source": [
    "# Find the column that has different values\n",
    "df[(df.Agency.str.contains(\"Los Angeles County Metropolitan Transportation Authority \")) \n",
    "   & (df.Agency.notna()) & \n",
    "   (df.Mode==\"MB\")\n",
    "  ]"
   ]
  },
  {
   "cell_type": "code",
   "execution_count": 8,
   "id": "45f8ddce-719b-472c-bcc3-ad9426b65066",
   "metadata": {},
   "outputs": [
    {
     "name": "stdout",
     "output_type": "stream",
     "text": [
      "# obs: 3685\n",
      "# obs after dropping dups: 3553\n"
     ]
    }
   ],
   "source": [
    "subset_cols = [\n",
    "    'Agency', 'City', 'State', 'Legacy_NTD_ID', 'NTD_ID',\n",
    "    'Organization_Type', 'Reporter_Type', 'Mode'\n",
    "]\n",
    "\n",
    "print(f\"# obs: {len(df)}\")\n",
    "print(f\"# obs after dropping dups: {len(df.drop_duplicates(subset=subset_cols))}\")\n",
    "\n",
    "# What does this indicate? Use Markdown cell and jot down some of the logic."
   ]
  },
  {
   "cell_type": "markdown",
   "id": "df5fd3fa-5430-4f4f-853f-f0f2aa535e67",
   "metadata": {},
   "source": [
    "[Markdown reference](https://www.datacamp.com/community/tutorials/markdown-in-jupyter-notebook)"
   ]
  },
  {
   "cell_type": "code",
   "execution_count": null,
   "id": "5f7a0188-d52d-4c81-a17d-0fe292ded2e9",
   "metadata": {},
   "outputs": [],
   "source": []
  },
  {
   "cell_type": "code",
   "execution_count": null,
   "id": "a60c3ad8-c009-48cb-92dc-2c6af7edfb44",
   "metadata": {},
   "outputs": [],
   "source": []
  },
  {
   "cell_type": "markdown",
   "id": "023ef8e9-cff2-454c-807f-fe5ec15b4d7b",
   "metadata": {},
   "source": [
    "### Changing values by using a dictionary to map"
   ]
  },
  {
   "cell_type": "code",
   "execution_count": null,
   "id": "c5fe97d9-e02b-495b-bd74-33ab967ab195",
   "metadata": {},
   "outputs": [],
   "source": [
    "# Transit mode uses a code, \n",
    "# Use a dictionary to map those codes to its full name\n",
    "MODE_NAMES = {\n",
    "    'MB': 'Bus', \n",
    "    'LR': 'Light Rail',\n",
    "    'CB': 'Commuter Bus',\n",
    "}\n",
    "\n",
    "# What happens to the ones that aren't specified in MODE_NAMES?\n",
    "df = df.assign(\n",
    "    mode_full_name = df.Mode.map(MODE_NAMES)\n",
    ")"
   ]
  },
  {
   "cell_type": "code",
   "execution_count": null,
   "id": "3caa3075-532f-4a2d-93a0-740cb62a6483",
   "metadata": {},
   "outputs": [],
   "source": [
    "df.mode_full_name.value_counts()"
   ]
  },
  {
   "cell_type": "code",
   "execution_count": null,
   "id": "70836fe4-d5f1-4414-8646-2a2a68368bdd",
   "metadata": {},
   "outputs": [],
   "source": [
    "df[df.mode_full_name.isna()].Mode.value_counts()"
   ]
  },
  {
   "cell_type": "markdown",
   "id": "27c6f026-7e82-4b96-9921-44be7f612214",
   "metadata": {},
   "source": [
    "Map values from `Mode` to these categories: rail, bus, and other. \n",
    "\n",
    "Use `assign` and `map`."
   ]
  },
  {
   "cell_type": "code",
   "execution_count": null,
   "id": "04cd1881-1493-49b4-8faa-d9903f717ba8",
   "metadata": {},
   "outputs": [],
   "source": []
  },
  {
   "cell_type": "markdown",
   "id": "10e9ef19-1b35-46fa-86c7-b4e0fbc4bd1f",
   "metadata": {},
   "source": [
    "### Looping\n",
    "\n",
    "Can loop across columns or loop across subsets of data.\n",
    "\n",
    "Sometimes, looping can make sense if you're repeating certain steps. Use it if it makes sense."
   ]
  },
  {
   "cell_type": "markdown",
   "id": "f9c493d6-e2f9-4283-b91b-15a8f41448e1",
   "metadata": {},
   "source": [
    "Here, for 2 different columns, `Agency_VOMS` and `Mode_VOMS`, the values show up as strings.\n",
    "\n",
    "Print the dtypes out for all the columns. "
   ]
  },
  {
   "cell_type": "code",
   "execution_count": null,
   "id": "59d9e03c-f8d7-4e35-9ffb-203f97ff644e",
   "metadata": {},
   "outputs": [],
   "source": []
  },
  {
   "cell_type": "markdown",
   "id": "708e4d41-75a0-42ec-b412-224ec48d8220",
   "metadata": {},
   "source": [
    "Print `value_counts()` for `Agency_VOMS` and `Mode_VOMS`. What is making these values appear as strings?"
   ]
  },
  {
   "cell_type": "code",
   "execution_count": null,
   "id": "2e09241f-a16b-4ec2-9888-8531864b947b",
   "metadata": {},
   "outputs": [],
   "source": []
  },
  {
   "cell_type": "markdown",
   "id": "f9979aee-8e72-408a-ad7d-b4fc0ea0962e",
   "metadata": {},
   "source": [
    "For those 2 columns, replace the commas with blanks and fill in missing values with `\"0\"` (zero, but with quotation marks to make it a string). \n",
    "\n",
    "Coerce these columns to be numeric."
   ]
  },
  {
   "cell_type": "code",
   "execution_count": null,
   "id": "c54fe3d6-16c8-4daa-ad9d-05858f8c1430",
   "metadata": {},
   "outputs": [],
   "source": [
    "for c in [\"Agency_VOMS\", \"Mode_VOMS\"]:\n",
    "    df[c] = df[c].str.replace(',', '').fillna('0').astype({c: int})"
   ]
  },
  {
   "cell_type": "code",
   "execution_count": 9,
   "id": "acacd833-419a-4249-9c89-588f7e5c6d8a",
   "metadata": {},
   "outputs": [
    {
     "data": {
      "text/html": [
       "<div>\n",
       "<style scoped>\n",
       "    .dataframe tbody tr th:only-of-type {\n",
       "        vertical-align: middle;\n",
       "    }\n",
       "\n",
       "    .dataframe tbody tr th {\n",
       "        vertical-align: top;\n",
       "    }\n",
       "\n",
       "    .dataframe thead th {\n",
       "        text-align: right;\n",
       "    }\n",
       "</style>\n",
       "<table border=\"1\" class=\"dataframe\">\n",
       "  <thead>\n",
       "    <tr style=\"text-align: right;\">\n",
       "      <th></th>\n",
       "      <th>Agency</th>\n",
       "      <th>City</th>\n",
       "    </tr>\n",
       "  </thead>\n",
       "  <tbody>\n",
       "    <tr>\n",
       "      <th>13</th>\n",
       "      <td>Los Angeles County Metropolitan Transportation...</td>\n",
       "      <td>Los Angeles</td>\n",
       "    </tr>\n",
       "    <tr>\n",
       "      <th>72</th>\n",
       "      <td>Orange County Transportation Authority</td>\n",
       "      <td>Orange</td>\n",
       "    </tr>\n",
       "    <tr>\n",
       "      <th>94</th>\n",
       "      <td>Access Services</td>\n",
       "      <td>El Monte</td>\n",
       "    </tr>\n",
       "    <tr>\n",
       "      <th>120</th>\n",
       "      <td>City and County of San Francisco, dba: San Fra...</td>\n",
       "      <td>San Francisco</td>\n",
       "    </tr>\n",
       "    <tr>\n",
       "      <th>131</th>\n",
       "      <td>San Diego Metropolitan Transit System</td>\n",
       "      <td>San Diego</td>\n",
       "    </tr>\n",
       "  </tbody>\n",
       "</table>\n",
       "</div>"
      ],
      "text/plain": [
       "                                                Agency           City\n",
       "13   Los Angeles County Metropolitan Transportation...    Los Angeles\n",
       "72              Orange County Transportation Authority         Orange\n",
       "94                                   Access Services         El Monte\n",
       "120  City and County of San Francisco, dba: San Fra...  San Francisco\n",
       "131              San Diego Metropolitan Transit System      San Diego"
      ]
     },
     "metadata": {},
     "output_type": "display_data"
    },
    {
     "data": {
      "text/html": [
       "<div>\n",
       "<style scoped>\n",
       "    .dataframe tbody tr th:only-of-type {\n",
       "        vertical-align: middle;\n",
       "    }\n",
       "\n",
       "    .dataframe tbody tr th {\n",
       "        vertical-align: top;\n",
       "    }\n",
       "\n",
       "    .dataframe thead th {\n",
       "        text-align: right;\n",
       "    }\n",
       "</style>\n",
       "<table border=\"1\" class=\"dataframe\">\n",
       "  <thead>\n",
       "    <tr style=\"text-align: right;\">\n",
       "      <th></th>\n",
       "      <th>Agency</th>\n",
       "      <th>City</th>\n",
       "    </tr>\n",
       "  </thead>\n",
       "  <tbody>\n",
       "    <tr>\n",
       "      <th>703</th>\n",
       "      <td>Ada County Highway District, dba: ACHD Commute...</td>\n",
       "      <td>Boise</td>\n",
       "    </tr>\n",
       "    <tr>\n",
       "      <th>778</th>\n",
       "      <td>Valley Regional Transit</td>\n",
       "      <td>Meridian</td>\n",
       "    </tr>\n",
       "    <tr>\n",
       "      <th>1440</th>\n",
       "      <td>City of Pocatello, dba: Pocatello Regional Tra...</td>\n",
       "      <td>Pocatello</td>\n",
       "    </tr>\n",
       "    <tr>\n",
       "      <th>1482</th>\n",
       "      <td>Mountain Rides Transportation Authority</td>\n",
       "      <td>Ketchum</td>\n",
       "    </tr>\n",
       "    <tr>\n",
       "      <th>1598</th>\n",
       "      <td>Treasure Valley Transit</td>\n",
       "      <td>Nampa</td>\n",
       "    </tr>\n",
       "  </tbody>\n",
       "</table>\n",
       "</div>"
      ],
      "text/plain": [
       "                                                 Agency       City\n",
       "703   Ada County Highway District, dba: ACHD Commute...      Boise\n",
       "778                             Valley Regional Transit   Meridian\n",
       "1440  City of Pocatello, dba: Pocatello Regional Tra...  Pocatello\n",
       "1482            Mountain Rides Transportation Authority    Ketchum\n",
       "1598                            Treasure Valley Transit      Nampa"
      ]
     },
     "metadata": {},
     "output_type": "display_data"
    }
   ],
   "source": [
    "for s in [\"CA\", \"ID\"]:\n",
    "    subset_df = df[df.State==s]\n",
    "    display(subset_df[[\"Agency\", \"City\"]].drop_duplicates().head())"
   ]
  },
  {
   "cell_type": "markdown",
   "id": "2b3984d3-a1fd-4aa3-9218-f045e0692f36",
   "metadata": {},
   "source": [
    "### To Do:\n",
    "* Keep a subset of columns and clean up column names (no spaces, newlines, etc):\n",
    "    * columns related to identifying the agency\n",
    "    * population, passenger trips\n",
    "    * transit mode\n",
    "    * at least 3 service metric variables, normalized and not normalized\n",
    "* Deal with duplicates - what is the unit for each row? What is the unit for desired analysis? Should an agency appear multiple times, and if so, why?\n",
    "* Aggregate at least 2 ways and show an interesting comparison, after dealing with duplicates somehow (either aggregation and/or defining what the unit of analysis is)\n",
    "* Calculate weighted average after the aggregation for the service metrics\n",
    "* Decide on one type of chart to visualize, and generalize it as a function\n",
    "* Make charts using the function"
   ]
  },
  {
   "cell_type": "markdown",
   "id": "2ec9920f-c240-4e23-95a7-ecc81723aa13",
   "metadata": {},
   "source": [
    "\n",
    "### Step by Step\n",
    "\n",
    "These are the 3 service metrics columns to keep (in addition to the columns listed above):\n",
    "1. Fare Revenues  \n",
    "1. Total Operating Expenses \n",
    "1. Vehicle Revenue Miles\n",
    "\n",
    "The normalized columns are the ones adjusted by population or volume. \n",
    "* Instead of total fare revenues, it's the fare revenues per unlinked trip.\n",
    "* Instead of total cost, it's cost per passenger or cost per hour."
   ]
  },
  {
   "cell_type": "code",
   "execution_count": null,
   "id": "2034b162-ca0c-4b5c-a52c-220cd624a8b6",
   "metadata": {},
   "outputs": [],
   "source": []
  },
  {
   "cell_type": "markdown",
   "id": "93f9f00d-4167-4b2d-9d3e-c4f2e15cf07b",
   "metadata": {},
   "source": [
    "Deal with duplicates. \n",
    "\n",
    "For an agency with multiple modes, aggregate it across modes and get the sum for the service metrics.\n",
    "\n",
    "Ex: sum up the total fare revenues for an agency with rail, bus, and ferry modes. sum across the modes."
   ]
  },
  {
   "cell_type": "code",
   "execution_count": null,
   "id": "432adb6f-493d-45f2-abd7-b3c392b7d72d",
   "metadata": {},
   "outputs": [],
   "source": []
  },
  {
   "cell_type": "markdown",
   "id": "d9c079d9-5e7d-4248-8bb6-b15bf1cf7f16",
   "metadata": {},
   "source": [
    "Does it make sense to sum up the normalized metrics?\n",
    "\n",
    "For an agency with 3 modes (rail, bus, ferry) it make sense to sum up `fares_per_passenger` across those 3 modes? Why or why not?\n",
    "\n",
    "If bus passengers make up 80% of the agency's passengers (rail 15%, ferry 5%), how do we make sure the normalized metric accounts for this? Bus fares are significantly lower than rail and ferry fares, in this scenario. How do we make sure that `fares_per_passenger` metric reflects this mix?"
   ]
  },
  {
   "cell_type": "code",
   "execution_count": null,
   "id": "cc0e42ed-1835-4908-980d-b4aa1b128450",
   "metadata": {},
   "outputs": [],
   "source": []
  },
  {
   "cell_type": "markdown",
   "id": "c5b31de2-b528-405e-8fff-ffe200205fb8",
   "metadata": {},
   "source": [
    "What is the correct way to calculate `fares_per_passenger` across modes for the same operator?\n",
    "\n",
    "Show the correct way. Drop the existing normalized metrics and calculate it across modes for the agency. The resulting dataframe should be 1 row for each agency, with the service metrics aggregated to that agency across modes, as well as normalized metrics(per passenger or per passenger trip) across modes."
   ]
  },
  {
   "cell_type": "code",
   "execution_count": null,
   "id": "d31df185-66b2-460b-ad63-0b999a0c3068",
   "metadata": {},
   "outputs": [],
   "source": []
  },
  {
   "cell_type": "markdown",
   "id": "dd1c9849-548d-4611-ae1c-7543fca1be11",
   "metadata": {},
   "source": [
    "Make a bar chart for one service metric for 5 agencies (show both normalized and not normalized).\n",
    "\n",
    "Ex: if you choose fare revenues, make a bar chart for total fare revenues and fare revenues per passenger trip. The 5 agencies should appear together on a single bar chart.\n"
   ]
  },
  {
   "cell_type": "code",
   "execution_count": null,
   "id": "aee3636d-dab2-4e8e-8f8c-e6cefe8f8a5b",
   "metadata": {},
   "outputs": [],
   "source": []
  },
  {
   "cell_type": "markdown",
   "id": "bf71f234-6728-436e-8f1f-c78799cb5d90",
   "metadata": {},
   "source": [
    "### Helpful Hints for Functions\n",
    "* Opportunities are from components that are generalizable in making a chart\n",
    "* Maybe these components need the same lines of code to clean them\n",
    "* You can always further define variables within a function\n",
    "* You can always use f-strings within functions to make slight modifications to the parameters you pass"
   ]
  },
  {
   "cell_type": "code",
   "execution_count": null,
   "id": "ca6f8f9d-43a0-4a88-b19c-98ecff7e4a40",
   "metadata": {},
   "outputs": [],
   "source": [
    "# Sample function\n",
    "import altair as alt\n",
    "\n",
    "def make_bar_chart(df, x_col, y_col):\n",
    "    x_title = f\"{x_col.title()}\"\n",
    "    \n",
    "    chart = (alt.Chart(df)\n",
    "             .mark_bar()\n",
    "             .encode(\n",
    "                 x=alt.X(x_col, title=x_title),\n",
    "                 y=alt.Y(y_col, title=\"\"),\n",
    "             )\n",
    "            )\n",
    "    return chart\n"
   ]
  },
  {
   "cell_type": "code",
   "execution_count": null,
   "id": "2c1cccfb-e8c4-4116-91e3-d887c5165515",
   "metadata": {},
   "outputs": [],
   "source": []
  }
 ],
 "metadata": {
  "kernelspec": {
   "display_name": "Python 3 (ipykernel)",
   "language": "python",
   "name": "python3"
  },
  "language_info": {
   "codemirror_mode": {
    "name": "ipython",
    "version": 3
   },
   "file_extension": ".py",
   "mimetype": "text/x-python",
   "name": "python",
   "nbconvert_exporter": "python",
   "pygments_lexer": "ipython3",
   "version": "3.9.13"
  },
  "toc-autonumbering": false,
  "toc-showmarkdowntxt": false
 },
 "nbformat": 4,
 "nbformat_minor": 5
}
