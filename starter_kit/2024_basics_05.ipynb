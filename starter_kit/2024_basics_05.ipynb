{
 "cells": [
  {
   "cell_type": "markdown",
   "id": "36c5c03c-164a-4530-9fc6-43f5d1abbf7e",
   "metadata": {
    "tags": []
   },
   "source": [
    "# Portfolio\n",
    "* You might have seen DDS's [portfolio](https://analysis.calitp.org/).\n",
    "* We often present our work on our portfolio because it retains the interactivity of the `Altair` charts and `Geopandas` maps we make.\n",
    "* Additionally, it is very streamlined to update our work when it needs to be updated. \n",
    "* Spend some time exploring our portfolio above. \n",
    "\n",
    "**How does the portfolio work?**\n",
    "* For the majority of the sites on the portfolio are using **one** notebook essentially as a template that is looped over several parameters. \n",
    "    * This [National Transit Dataset Monthly Ridership by Regional Transit Planning Authority (RTPA)](https://ntd-monthly-ridership--cal-itp-data-analyses.netlify.app/readme) takes [this notebook](https://github.com/cal-itp/data-analyses/blob/main/ntd/monthly_ridership_report.ipynb) and reruns it for every \n",
    "RTPA in this [yml file](https://github.com/cal-itp/data-analyses/blob/main/portfolio/sites/ntd_monthly_ridership.yml). \n",
    "\n",
    "**Let's make a portfolio**\n",
    "* Please read the instructions very carefully.\n",
    "* Delete any Markdown cells prefixed with <i>delete</i> once you have completed a step.\n",
    "\n",
    "**Resources**\n",
    "* You may wish to read these resources before making the portfolio.\n",
    "* [Preparing notebooks for the portfolio](https://docs.calitp.org/data-infra/publishing/sections/4_notebooks_styling.html)\n",
    "* [Publishing to the portfolio](https://docs.calitp.org/data-infra/publishing/sections/5_analytics_portfolio_site.html)"
   ]
  },
  {
   "cell_type": "markdown",
   "id": "4dc7d9d1-5722-467f-8e2f-d1e2b8d7e566",
   "metadata": {},
   "source": [
    "## (Delete) Step 1: Move this notebook\n",
    "* Create a new folder in the `data-analyses` repo called `lastname_portfolio`.\n",
    "* Right click -> copy to copy this notebook to the new folder.\n",
    "* Rename this notebook using as `lastname_portfolio.ipynb`\n",
    "* Use `git mv` to move the Python file that holds your functions to the new folder.\n",
    "* Right click -> copy the `starterkit_district.yml` file to the new folder. \n",
    "* Close this original `2024_basics_05.ipynb` and begin working on your new `lastname_portfolio.ipynb`"
   ]
  },
  {
   "cell_type": "markdown",
   "id": "8cb15ca0-580e-4a0d-9dbc-accb761d77d1",
   "metadata": {},
   "source": [
    "## (Delete) Step 2: Netlify Setup \n",
    "* Follow the instructions [here](https://docs.calitp.org/data-infra/publishing/sections/5_analytics_portfolio_site.html#netlify-setup).\n",
    "* You only need to do this step **once** for the entirety of your career at DDS. \n",
    "* Once you have your key setup, you can publish limitless portfolios."
   ]
  },
  {
   "cell_type": "code",
   "execution_count": null,
   "id": "0f6cc688-c077-4b6d-9b11-bc6d99cff82f",
   "metadata": {},
   "outputs": [],
   "source": []
  }
 ],
 "metadata": {
  "kernelspec": {
   "display_name": "Python 3 (ipykernel)",
   "language": "python",
   "name": "python3"
  },
  "language_info": {
   "codemirror_mode": {
    "name": "ipython",
    "version": 3
   },
   "file_extension": ".py",
   "mimetype": "text/x-python",
   "name": "python",
   "nbconvert_exporter": "python",
   "pygments_lexer": "ipython3",
   "version": "3.9.13"
  }
 },
 "nbformat": 4,
 "nbformat_minor": 5
}
