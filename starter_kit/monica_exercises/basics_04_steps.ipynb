{
 "cells": [
  {
   "cell_type": "markdown",
   "id": "8ccf5809-6ac9-4446-9258-cd1dea4ba3a4",
   "metadata": {},
   "source": [
    "## Exercise 4: Data Warehouse Querying and Basic Geospatial Operations\n",
    "\n",
    "Skills: \n",
    "* Query data warehouse table\n",
    "* Use dictionary to map values\n",
    "\n",
    "References: \n",
    "* https://docs.calitp.org/data-infra/analytics_new_analysts/05-spatial-analysis-basics.html\n",
    "* https://docs.calitp.org/data-infra/analytics_new_analysts/06-spatial-analysis-intro.html\n",
    "* https://docs.calitp.org/data-infra/analytics_new_analysts/07-spatial-analysis-intermediate.html\n",
    "* https://github.com/jorisvandenbossche/geopandas-tutorial\n",
    "\n",
    "To use `shared_utils`: \n",
    "\n",
    "> In the terminal: `cd ..` to be in the `_shared_utils` sub-folder, run `make setup_env`, then `cd` back into your task > sub-folder (e.g., `bus_service_increase` or `example_report`). "
   ]
  },
  {
   "cell_type": "code",
   "execution_count": 6,
   "id": "9305f4e1-446d-432f-bc0e-e69284fdce71",
   "metadata": {},
   "outputs": [],
   "source": [
    "import geopandas as gpd\n",
    "import pandas as pd\n",
    "import os\n",
    "\n",
    "#os.environ[\"CALITP_BQ_MAX_BYTES\"] = str(100_000_000_000)\n",
    "pd.set_option(\"display.max_rows\", 20)\n",
    "\n",
    "from siuba import *\n",
    "FOLDER = \"../data/\"\n",
    "FILE_NAME = \"exercise_4_stops_sample.parquet\"\n",
    "tbls=pd.read_parquet(f\"{FOLDER}{FILE_NAME}\")"
   ]
  },
  {
   "cell_type": "code",
   "execution_count": 7,
   "id": "0e4cc814-de2b-4484-a702-b20166587024",
   "metadata": {},
   "outputs": [
    {
     "data": {
      "text/html": [
       "<div>\n",
       "<style scoped>\n",
       "    .dataframe tbody tr th:only-of-type {\n",
       "        vertical-align: middle;\n",
       "    }\n",
       "\n",
       "    .dataframe tbody tr th {\n",
       "        vertical-align: top;\n",
       "    }\n",
       "\n",
       "    .dataframe thead th {\n",
       "        text-align: right;\n",
       "    }\n",
       "</style>\n",
       "<table border=\"1\" class=\"dataframe\">\n",
       "  <thead>\n",
       "    <tr style=\"text-align: right;\">\n",
       "      <th></th>\n",
       "      <th>feed_key</th>\n",
       "      <th>stop_id</th>\n",
       "      <th>stop_lat</th>\n",
       "      <th>stop_lon</th>\n",
       "      <th>stop_name</th>\n",
       "    </tr>\n",
       "  </thead>\n",
       "  <tbody>\n",
       "    <tr>\n",
       "      <th>0</th>\n",
       "      <td>52639f09eb535f75b33d2c6a654cb89e</td>\n",
       "      <td>768641</td>\n",
       "      <td>37.228400</td>\n",
       "      <td>-120.248000</td>\n",
       "      <td>Le Grand @ Washington</td>\n",
       "    </tr>\n",
       "    <tr>\n",
       "      <th>1</th>\n",
       "      <td>25c6505166c01099b2f6f2de173e20b9</td>\n",
       "      <td>70042</td>\n",
       "      <td>37.655942</td>\n",
       "      <td>-122.404980</td>\n",
       "      <td>South San Francisco Caltrain Station</td>\n",
       "    </tr>\n",
       "    <tr>\n",
       "      <th>2</th>\n",
       "      <td>52639f09eb535f75b33d2c6a654cb89e</td>\n",
       "      <td>768584</td>\n",
       "      <td>37.301969</td>\n",
       "      <td>-120.488180</td>\n",
       "      <td>Transpo (Outside)</td>\n",
       "    </tr>\n",
       "    <tr>\n",
       "      <th>3</th>\n",
       "      <td>52639f09eb535f75b33d2c6a654cb89e</td>\n",
       "      <td>781926</td>\n",
       "      <td>37.330848</td>\n",
       "      <td>-120.558976</td>\n",
       "      <td>Gurr Rd @ Valley Dr</td>\n",
       "    </tr>\n",
       "    <tr>\n",
       "      <th>4</th>\n",
       "      <td>52639f09eb535f75b33d2c6a654cb89e</td>\n",
       "      <td>768416</td>\n",
       "      <td>37.349600</td>\n",
       "      <td>-120.587000</td>\n",
       "      <td>Juniper Ave @ Valley St (eastbound)</td>\n",
       "    </tr>\n",
       "  </tbody>\n",
       "</table>\n",
       "</div>"
      ],
      "text/plain": [
       "                           feed_key stop_id   stop_lat    stop_lon  \\\n",
       "0  52639f09eb535f75b33d2c6a654cb89e  768641  37.228400 -120.248000   \n",
       "1  25c6505166c01099b2f6f2de173e20b9   70042  37.655942 -122.404980   \n",
       "2  52639f09eb535f75b33d2c6a654cb89e  768584  37.301969 -120.488180   \n",
       "3  52639f09eb535f75b33d2c6a654cb89e  781926  37.330848 -120.558976   \n",
       "4  52639f09eb535f75b33d2c6a654cb89e  768416  37.349600 -120.587000   \n",
       "\n",
       "                              stop_name  \n",
       "0                 Le Grand @ Washington  \n",
       "1  South San Francisco Caltrain Station  \n",
       "2                     Transpo (Outside)  \n",
       "3                   Gurr Rd @ Valley Dr  \n",
       "4   Juniper Ave @ Valley St (eastbound)  "
      ]
     },
     "execution_count": 7,
     "metadata": {},
     "output_type": "execute_result"
    }
   ],
   "source": [
    "tbls.head()"
   ]
  },
  {
   "cell_type": "markdown",
   "id": "65f82fe5-b52d-4f19-b670-5a9b96200e58",
   "metadata": {},
   "source": [
    "## Query a table, turn it into a gdf\n",
    "\n",
    "You will query the warehouse table for 2 operators, Caltrain and Merced. A `feed_key` is a hash identifier, there's no real meaning to it, but it uniquely identifies a feed for that day.\n",
    "\n",
    "The `feed_key` values for those 2 operators for 6/1/2022 are provided. \n",
    "\n",
    "* Query `mart_gtfs.dim_stops`\n",
    "* Filter to the feed keys of interest\n",
    "* Select these columns: `feed_key`, `stop_id`, `stop_lat`, `stop_lon`, `stop_name`\n",
    "* Return as a dataframe using `collect()`\n",
    "* Turn the point data into geometry with `geopandas`: [docs](https://geopandas.org/en/stable/docs/reference/api/geopandas.points_from_xy.html)"
   ]
  },
  {
   "cell_type": "code",
   "execution_count": 8,
   "id": "a83cda9e-c642-4acf-8668-d5626dd7d948",
   "metadata": {},
   "outputs": [],
   "source": [
    "FEEDS = [\n",
    "    \"25c6505166c01099b2f6f2de173e20b9\", # Caltrain\n",
    "    \"52639f09eb535f75b33d2c6a654cb89e\", # Merced\n",
    "]\n",
    "\n",
    "stops = (\n",
    "    tbls\n",
    "    >> filter(_.feed_key.isin(FEEDS))\n",
    "    >> select(_.feed_key, _.stop_id, \n",
    "             _.stop_lat, _.stop_lon, _.stop_name)\n",
    "    >> arrange(_.feed_key, _.stop_id, \n",
    "               _.stop_lat, _.stop_lon)\n",
    "    >> collect() \n",
    ")"
   ]
  },
  {
   "cell_type": "code",
   "execution_count": 9,
   "id": "4fd01576-1163-421b-b7d1-02e6d5c065e2",
   "metadata": {},
   "outputs": [
    {
     "data": {
      "text/html": [
       "<div>\n",
       "<style scoped>\n",
       "    .dataframe tbody tr th:only-of-type {\n",
       "        vertical-align: middle;\n",
       "    }\n",
       "\n",
       "    .dataframe tbody tr th {\n",
       "        vertical-align: top;\n",
       "    }\n",
       "\n",
       "    .dataframe thead th {\n",
       "        text-align: right;\n",
       "    }\n",
       "</style>\n",
       "<table border=\"1\" class=\"dataframe\">\n",
       "  <thead>\n",
       "    <tr style=\"text-align: right;\">\n",
       "      <th></th>\n",
       "      <th>feed_key</th>\n",
       "      <th>stop_id</th>\n",
       "      <th>stop_lat</th>\n",
       "      <th>stop_lon</th>\n",
       "      <th>stop_name</th>\n",
       "    </tr>\n",
       "  </thead>\n",
       "  <tbody>\n",
       "    <tr>\n",
       "      <th>134</th>\n",
       "      <td>25c6505166c01099b2f6f2de173e20b9</td>\n",
       "      <td>22nd_street</td>\n",
       "      <td>37.756972</td>\n",
       "      <td>-122.392492</td>\n",
       "      <td>22nd Street</td>\n",
       "    </tr>\n",
       "    <tr>\n",
       "      <th>50</th>\n",
       "      <td>25c6505166c01099b2f6f2de173e20b9</td>\n",
       "      <td>70021</td>\n",
       "      <td>37.757599</td>\n",
       "      <td>-122.391880</td>\n",
       "      <td>22nd Street Caltrain Station</td>\n",
       "    </tr>\n",
       "    <tr>\n",
       "      <th>58</th>\n",
       "      <td>25c6505166c01099b2f6f2de173e20b9</td>\n",
       "      <td>70031</td>\n",
       "      <td>37.709537</td>\n",
       "      <td>-122.401586</td>\n",
       "      <td>Bayshore Caltrain Station</td>\n",
       "    </tr>\n",
       "    <tr>\n",
       "      <th>1</th>\n",
       "      <td>25c6505166c01099b2f6f2de173e20b9</td>\n",
       "      <td>70042</td>\n",
       "      <td>37.655942</td>\n",
       "      <td>-122.404980</td>\n",
       "      <td>South San Francisco Caltrain Station</td>\n",
       "    </tr>\n",
       "    <tr>\n",
       "      <th>52</th>\n",
       "      <td>25c6505166c01099b2f6f2de173e20b9</td>\n",
       "      <td>70052</td>\n",
       "      <td>37.630461</td>\n",
       "      <td>-122.411709</td>\n",
       "      <td>San Bruno Caltrain Station</td>\n",
       "    </tr>\n",
       "  </tbody>\n",
       "</table>\n",
       "</div>"
      ],
      "text/plain": [
       "                             feed_key      stop_id   stop_lat    stop_lon  \\\n",
       "134  25c6505166c01099b2f6f2de173e20b9  22nd_street  37.756972 -122.392492   \n",
       "50   25c6505166c01099b2f6f2de173e20b9        70021  37.757599 -122.391880   \n",
       "58   25c6505166c01099b2f6f2de173e20b9        70031  37.709537 -122.401586   \n",
       "1    25c6505166c01099b2f6f2de173e20b9        70042  37.655942 -122.404980   \n",
       "52   25c6505166c01099b2f6f2de173e20b9        70052  37.630461 -122.411709   \n",
       "\n",
       "                                stop_name  \n",
       "134                           22nd Street  \n",
       "50           22nd Street Caltrain Station  \n",
       "58              Bayshore Caltrain Station  \n",
       "1    South San Francisco Caltrain Station  \n",
       "52             San Bruno Caltrain Station  "
      ]
     },
     "execution_count": 9,
     "metadata": {},
     "output_type": "execute_result"
    }
   ],
   "source": [
    "stops.head()"
   ]
  },
  {
   "cell_type": "markdown",
   "id": "8e38ba6d-0461-4910-8991-05283ecd4a2f",
   "metadata": {},
   "source": [
    "## Use a dictionary to map values\n",
    "\n",
    "* Create a new column called `operator` where `feed_key` is associated with its operator name.\n",
    "* First, write a function to do it.\n",
    "* Then, use a dictionary to do it (create new column called `agency`).\n",
    "* Double check that `operator` and `agency` show the same values. Use `assert` to check.\n",
    "    * `df.operator == df.agency` returns a series containing True/False for each row\n",
    "    * `assert (df.operator == df.agency).all()` returns one result, False if it's not true, and nothing if it is True.\n",
    "* Hint: https://docs.calitp.org/data-infra/analytics_new_analysts/02-data-analysis-intermediate.html"
   ]
  },
  {
   "cell_type": "code",
   "execution_count": null,
   "id": "7b83b31c-3fde-4933-a3d1-f4e97be2cd4f",
   "metadata": {},
   "outputs": [],
   "source": []
  },
  {
   "cell_type": "markdown",
   "id": "43c9198e-9cff-4025-9535-fa899b7a2a2d",
   "metadata": {},
   "source": [
    "## Turn lat/lon into point geometry\n",
    "\n",
    "* There is a [function in shared_utils](https://github.com/cal-itp/data-analyses/blob/main/_shared_utils/shared_utils/geography_utils.py#L170-L192) that does it. Show the steps within the function (the long way), and also create the `geometry` column using `shared_utils`.\n",
    "* Use `geography_utils.create_point_geometry??` to see what goes into that function, and what that function looks like under the hood."
   ]
  },
  {
   "cell_type": "code",
   "execution_count": null,
   "id": "6c845296-73bc-4a82-9e4a-5e88f2343f4c",
   "metadata": {},
   "outputs": [],
   "source": []
  },
  {
   "cell_type": "markdown",
   "id": "8a21eac3-ac67-47d8-b4c8-694192fdd796",
   "metadata": {},
   "source": [
    "Basic stuff about a geodataframe.\n",
    "\n",
    "A gdf would have a coordinate reference system that converts the points or lines into a place on the spherical Earth. The most common CRS is called `WGS 84`, and its code is `EPSG:4326`. This is what you'd see when you use Google Maps to find lat/lon of a place.\n",
    "\n",
    "[Read](https://desktop.arcgis.com/en/arcmap/latest/map/projections/about-geographic-coordinate-systems.htm) about the `WGS 84` geographic coordinate system.\n",
    "\n",
    "[Read](https://desktop.arcgis.com/en/arcmap/latest/map/projections/about-projected-coordinate-systems.htm) about projected coordinate reference systems, which is essentially about flattening our spherical Earth into a 2D plane so we can measure distances and whatnot.\n",
    "\n",
    "* Is it a pandas dataframe or a geopandas geodataframe?: `type(gdf)`\n",
    "* Coordinate reference system: `gdf.crs`\n",
    "* gdfs must have a geometry column. Find the name of the column that is geometry: `gdf.geometry.name`\n",
    "* Project the coordinate reference system to something else: `gdf = gdf.to_crs(\"EPSG:2229\")` and check."
   ]
  },
  {
   "cell_type": "code",
   "execution_count": null,
   "id": "5b2a3ed0-40f8-4fc6-a46e-9480293e81f2",
   "metadata": {},
   "outputs": [],
   "source": []
  },
  {
   "cell_type": "markdown",
   "id": "d242e5b6-90f9-44ac-bb9f-fd1139e795f2",
   "metadata": {},
   "source": [
    "* This GitHub repo has several `geopandas` tutorials that covers basic spatial concepts: https://github.com/jorisvandenbossche/geopandas-tutorial. \n",
    "* Skim through the notebooks to see some of the concepts demonstrated, although to actually run the notebooks, you can click on `launch binder` in the repo's README to do so."
   ]
  },
  {
   "cell_type": "code",
   "execution_count": null,
   "id": "bae3994c-b46c-4ef8-a479-c84214953040",
   "metadata": {},
   "outputs": [],
   "source": []
  },
  {
   "cell_type": "markdown",
   "id": "5b9dc620-41f2-4d69-9d69-00e8d90276f9",
   "metadata": {},
   "source": [
    "## Spatial Join (which points fall into which polygon)\n",
    "\n",
    "This URL gives you CA county boundaries: https://gis.data.ca.gov/datasets/CALFIRE-Forestry::california-county-boundaries/explore?location=37.246136%2C-119.002032%2C6.12\n",
    "\n",
    "* Go to \"I want to use this\" > View API Resources > copy link for geojson\n",
    "* Read in the geojson with `geopandas` and make it a geodataframe: `gpd.read_file(LONG_URL_PATH)`\n",
    "* Double check that the coordinate reference system is the same for both gdfs using `gdf.crs`. If not, change it so they are the same.\n",
    "* Spatial join stops to counties: [docs](https://geopandas.org/en/stable/docs/reference/api/geopandas.sjoin.html)\n",
    "    * Play with inner join or left join, what's the difference? Which one do you want?\n",
    "    * Play with switching around the left_df and right_df, what's the right order?\n",
    "* By county: count number of stops and stops per sq_mi.\n",
    "    * Hint 1: Start with a CRS with units in feet or meters, then do a conversion to sq mi. [CRS in shared_utils](https://github.com/cal-itp/data-analyses/blob/main/_shared_utils/shared_utils/geography_utils.py)\n",
    "    * Hint 2: to find area, you can create a new column and calculate `gdf.geometry.area`. [geometry manipulations docs](https://geopandas.org/en/stable/docs/user_guide/geometric_manipulations.html)"
   ]
  },
  {
   "cell_type": "markdown",
   "id": "dc57f937-8c30-4435-ae47-3c9aa72de5c2",
   "metadata": {},
   "source": []
  }
 ],
 "metadata": {
  "kernelspec": {
   "display_name": "Python 3 (ipykernel)",
   "language": "python",
   "name": "python3"
  },
  "language_info": {
   "codemirror_mode": {
    "name": "ipython",
    "version": 3
   },
   "file_extension": ".py",
   "mimetype": "text/x-python",
   "name": "python",
   "nbconvert_exporter": "python",
   "pygments_lexer": "ipython3",
   "version": "3.9.13"
  }
 },
 "nbformat": 4,
 "nbformat_minor": 5
}
