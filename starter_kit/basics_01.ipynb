{
 "cells": [
  {
   "cell_type": "markdown",
   "id": "a136f4a6-00a4-4697-bdb1-ac022a94eb38",
   "metadata": {},
   "source": [
    "# Exercise 1: Familiarize yourself with `pandas`\n",
    "If you are new to Python, check out the introductory Python courses available through Caltrans's LinkedIn Learning Library:\n",
    "* https://www.linkedin.com/learning/search?keywords=python&u=36029164\n",
    "\n",
    "Skills: \n",
    "* `pandas` is one of the base Python packages for working with tabular data.\n",
    "* Do some grouping and aggregation. Many ways to do this!\n",
    "* Export to Google Cloud Storage\n",
    "* Practice committing on GitHub\n",
    "\n",
    "References: \n",
    "* https://docs.calitp.org/data-infra/analytics_new_analysts/01-data-analysis-intro.html\n",
    "* https://docs.calitp.org/data-infra/analytics_tools/saving_code.html"
   ]
  },
  {
   "cell_type": "code",
   "execution_count": null,
   "id": "ca35b0dc-ff9d-41ce-9d24-0fb654ea91e6",
   "metadata": {},
   "outputs": [],
   "source": [
    "from siuba import *\n",
    "from siuba.data import mtcars\n",
    "\n",
    "import pandas as pd"
   ]
  },
  {
   "cell_type": "markdown",
   "id": "aeb604df-dd3f-4f6b-9b9a-172f01d9cbe1",
   "metadata": {},
   "source": [
    "## Groupby / Aggregation\n",
    "\n",
    "* By cylinder categories, calculate the average mpg and find difference between max and min weight.\n",
    "* Hint: for `pandas`: `groupby / agg`, `pivot_table`, `groupby / transform`\n",
    "* Hint: for `siuba`: `groupby`, `summarize`"
   ]
  },
  {
   "cell_type": "code",
   "execution_count": null,
   "id": "1ffb5075-655e-4180-ba7b-d61c138bd6cf",
   "metadata": {},
   "outputs": [],
   "source": []
  },
  {
   "cell_type": "markdown",
   "id": "da313574-e4ba-4aec-9cbe-32df84828ebc",
   "metadata": {},
   "source": [
    "## Functions\n",
    "\n",
    "* Create a new column using a lambda function and tag 6 cylinder values with \"six\", and all other values as \"other\"\n",
    "* Write a function that tags each cylinder value with the word (ex: 6 as \"six\", 8 as \"eight\")"
   ]
  },
  {
   "cell_type": "code",
   "execution_count": null,
   "id": "4df2f698-bf2d-41e9-b2da-2b21a21dac60",
   "metadata": {},
   "outputs": [],
   "source": []
  },
  {
   "cell_type": "markdown",
   "id": "bfa7c0fc-5078-4678-a449-66f9cdc40381",
   "metadata": {},
   "source": [
    "## Export to Google Cloud Storage (GCS)\n",
    "\n",
    "* Make sure credential works\n",
    "* Use this path: \"gs://calitp-analytics-data/data-analyses/FILENAME\"\n",
    "* Export using `df.to_parquet()` and `df.to_csv()`"
   ]
  },
  {
   "cell_type": "code",
   "execution_count": null,
   "id": "201e68ca-7e4e-4c0a-9ac0-ffabc57fb01a",
   "metadata": {},
   "outputs": [],
   "source": []
  },
  {
   "cell_type": "markdown",
   "id": "4db55ea3-d19d-4bf4-9564-4685064a5a4a",
   "metadata": {},
   "source": [
    "## Make a chart\n",
    "\n",
    "* Read in the parquet file from GCS.\n",
    "* Make a visualization using one of the charting packages.\n",
    "* Name this notebook `YOURNAME_exercise1.ipynb`\n",
    "    * If you need to rename because you already named it, do it within the terminal.\n",
    "    * `git mv OLDNAME.ipynb NEWNAME.ipynb`. \n",
    "    * The `mv` stands for move, and renaming a file is basically \"moving\" its path. Doing it this way retains the git history associated with the notebook. If you rename directly with right click, rename, you destroy the git history.\n",
    "* Use a descriptive commit message (ex: adding chart, etc). GitHub already tracks who makes the commit, the date, the timestamp of it, the files being affected, so your commit message should be more descriptive than the metadata already stored."
   ]
  },
  {
   "cell_type": "code",
   "execution_count": null,
   "id": "8064ad3e-afa7-41fa-b833-4d5182085933",
   "metadata": {},
   "outputs": [],
   "source": []
  }
 ],
 "metadata": {
  "kernelspec": {
   "display_name": "Python 3 (ipykernel)",
   "language": "python",
   "name": "python3"
  },
  "language_info": {
   "codemirror_mode": {
    "name": "ipython",
    "version": 3
   },
   "file_extension": ".py",
   "mimetype": "text/x-python",
   "name": "python",
   "nbconvert_exporter": "python",
   "pygments_lexer": "ipython3",
   "version": "3.9.13"
  }
 },
 "nbformat": 4,
 "nbformat_minor": 5
}
