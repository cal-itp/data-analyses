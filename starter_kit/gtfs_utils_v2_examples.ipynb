{
 "cells": [
  {
   "cell_type": "markdown",
   "id": "feabb244-6d63-48af-b8ec-8a93cad670f8",
   "metadata": {},
   "source": [
    "# How to use `gtfs_utils_v2`"
   ]
  },
  {
   "cell_type": "code",
   "execution_count": 1,
   "id": "6a6fbd6d-cb9e-4ff8-bfaf-88b8b8489d02",
   "metadata": {},
   "outputs": [
    {
     "name": "stderr",
     "output_type": "stream",
     "text": [
      "/opt/conda/lib/python3.9/site-packages/geopandas/_compat.py:123: UserWarning: The Shapely GEOS version (3.10.3-CAPI-1.16.1) is incompatible with the GEOS version PyGEOS was compiled with (3.10.1-CAPI-1.16.0). Conversions between both will be slow.\n",
      "  warnings.warn(\n"
     ]
    }
   ],
   "source": [
    "import os\n",
    "os.environ[\"CALITP_BQ_MAX_BYTES\"] = str(400_000_000_000)\n",
    "\n",
    "import datetime\n",
    "import geopandas as gpd\n",
    "import pandas as pd\n",
    "\n",
    "from siuba import *\n",
    "\n",
    "from shared_utils import gtfs_utils_v2\n",
    "analysis_date = datetime.date(2023, 1, 17)"
   ]
  },
  {
   "cell_type": "markdown",
   "id": "dec96d78-5d93-4835-9dcc-654ae06edd97",
   "metadata": {},
   "source": [
    "## Step 1: Airtable's `dim_gtfs_datasets` with `fct_daily_scheduled_feeds`\n",
    "\n",
    "* Filter out ones that are not deprecated (use `data_quality_pipeline`)\n",
    "* Allow any other custom filtering to be done, such as the default of getting scheduled data only\n",
    "* Analysts now should look at output and decide if there's additional filtering needed. \n",
    "* Once filtering is done, input the df in to merge with `fct_daily_feeds` to get `feed_keys`\n",
    "* Use `feed_key` to traverse all the other tables"
   ]
  },
  {
   "cell_type": "markdown",
   "id": "04d96ffc-b544-4105-9883-1c52cfb409e6",
   "metadata": {},
   "source": [
    "## `feed_options`\n",
    "* \"customer_facing\"\n",
    "* \"use_subfeeds\", \n",
    "* \"current_feeds\"\n",
    "* \"include_precursor\"\n",
    "* \"include_precursor_and_future\""
   ]
  },
  {
   "cell_type": "code",
   "execution_count": 2,
   "id": "c7293b89-5f67-400d-9015-5a245004dc24",
   "metadata": {},
   "outputs": [],
   "source": [
    "full_df = gtfs_utils_v2.schedule_daily_feed_to_organization(\n",
    "    selected_date = analysis_date,\n",
    "    keep_cols = None,\n",
    "    get_df = True,\n",
    "    feed_option = \"\")"
   ]
  },
  {
   "cell_type": "code",
   "execution_count": 3,
   "id": "5e47504b-dac6-44c9-b15a-2fadd43bd37c",
   "metadata": {},
   "outputs": [
    {
     "data": {
      "text/plain": [
       "(227, 9)"
      ]
     },
     "execution_count": 3,
     "metadata": {},
     "output_type": "execute_result"
    }
   ],
   "source": [
    "full_df.shape"
   ]
  },
  {
   "cell_type": "code",
   "execution_count": 4,
   "id": "7d6a9cb5-9ebe-41b6-8a60-9f16599e6bdb",
   "metadata": {},
   "outputs": [],
   "source": [
    "def num_rows_and_other_stats(df: pd.DataFrame, feed_option: str):\n",
    "    \"\"\"\n",
    "    Get stats for different filtering to double check.\n",
    "    \"\"\"\n",
    "    subset_df = df >> gtfs_utils_v2.filter_feed_options(feed_option) \n",
    "    \n",
    "    print(f\"# rows: {len(subset_df)}\")\n",
    "    print(\"---------------\")\n",
    "    print(f\"regional_feed_type: {subset_df.regional_feed_type.value_counts()}\")\n",
    "    print(\"---------------\")\n",
    "    print(f\"is_future: {subset_df.is_future.value_counts()}\")"
   ]
  },
  {
   "cell_type": "code",
   "execution_count": 5,
   "id": "00602b6a-d3fe-42ad-8d9e-0786465b0a1c",
   "metadata": {},
   "outputs": [
    {
     "name": "stdout",
     "output_type": "stream",
     "text": [
      "# rows: 152\n",
      "---------------\n",
      "regional_feed_type: Combined Regional Feed    2\n",
      "Name: regional_feed_type, dtype: int64\n",
      "---------------\n",
      "is_future: False    152\n",
      "Name: is_future, dtype: int64\n"
     ]
    }
   ],
   "source": [
    "num_rows_and_other_stats(full_df, \"customer_facing\")"
   ]
  },
  {
   "cell_type": "code",
   "execution_count": 6,
   "id": "e53edcbd-e414-4069-9528-684f3478acd7",
   "metadata": {},
   "outputs": [
    {
     "name": "stdout",
     "output_type": "stream",
     "text": [
      "# rows: 186\n",
      "---------------\n",
      "regional_feed_type: Regional Subfeed          35\n",
      "Combined Regional Feed     1\n",
      "Name: regional_feed_type, dtype: int64\n",
      "---------------\n",
      "is_future: False    186\n",
      "Name: is_future, dtype: int64\n"
     ]
    }
   ],
   "source": [
    "num_rows_and_other_stats(full_df, \"use_subfeeds\")"
   ]
  },
  {
   "cell_type": "code",
   "execution_count": 7,
   "id": "d5097748-b6d2-4349-9e5e-93a57b541b58",
   "metadata": {},
   "outputs": [
    {
     "name": "stdout",
     "output_type": "stream",
     "text": [
      "# rows: 187\n",
      "---------------\n",
      "regional_feed_type: Regional Subfeed          35\n",
      "Combined Regional Feed     2\n",
      "Name: regional_feed_type, dtype: int64\n",
      "---------------\n",
      "is_future: False    187\n",
      "Name: is_future, dtype: int64\n"
     ]
    }
   ],
   "source": [
    "num_rows_and_other_stats(full_df, \"current_feeds\")"
   ]
  },
  {
   "cell_type": "code",
   "execution_count": 8,
   "id": "5c1f312a-c5aa-49ef-a204-d9888be7bc51",
   "metadata": {},
   "outputs": [
    {
     "name": "stdout",
     "output_type": "stream",
     "text": [
      "# rows: 227\n",
      "---------------\n",
      "regional_feed_type: Regional Precursor Feed    40\n",
      "Regional Subfeed           35\n",
      "Combined Regional Feed      2\n",
      "Name: regional_feed_type, dtype: int64\n",
      "---------------\n",
      "is_future: False    227\n",
      "Name: is_future, dtype: int64\n"
     ]
    }
   ],
   "source": [
    "num_rows_and_other_stats(full_df, \"include_precursor\") "
   ]
  },
  {
   "cell_type": "code",
   "execution_count": 9,
   "id": "af87d366-448e-4bb2-807b-532ed87a0038",
   "metadata": {},
   "outputs": [
    {
     "name": "stdout",
     "output_type": "stream",
     "text": [
      "# rows: 227\n",
      "---------------\n",
      "regional_feed_type: Regional Precursor Feed    40\n",
      "Regional Subfeed           35\n",
      "Combined Regional Feed      2\n",
      "Name: regional_feed_type, dtype: int64\n",
      "---------------\n",
      "is_future: False    227\n",
      "Name: is_future, dtype: int64\n"
     ]
    }
   ],
   "source": [
    "num_rows_and_other_stats(full_df, \"include_precursor_and_future\") "
   ]
  },
  {
   "cell_type": "code",
   "execution_count": 10,
   "id": "173abc5e-c8f8-47e1-9eb2-af0a83115182",
   "metadata": {},
   "outputs": [],
   "source": [
    "def display_outputs(df):\n",
    "    display(df.head())\n",
    "    print(f\"shape: {df.shape}\")\n",
    "    print(f\"columns: {df.columns}\")\n",
    "    \n",
    "    if isinstance(df, gpd.GeoDataFrame):\n",
    "        print(f\"CRS: {df.crs}\")"
   ]
  },
  {
   "cell_type": "markdown",
   "id": "614f9482-8a29-4d6e-be98-8e1c571c446e",
   "metadata": {},
   "source": [
    "## Step 1: get feeds and orgs for the day"
   ]
  },
  {
   "cell_type": "code",
   "execution_count": 11,
   "id": "5b382c6e-b7e5-476a-837f-a18f5b592e0b",
   "metadata": {},
   "outputs": [
    {
     "data": {
      "text/html": [
       "<div>\n",
       "<style scoped>\n",
       "    .dataframe tbody tr th:only-of-type {\n",
       "        vertical-align: middle;\n",
       "    }\n",
       "\n",
       "    .dataframe tbody tr th {\n",
       "        vertical-align: top;\n",
       "    }\n",
       "\n",
       "    .dataframe thead th {\n",
       "        text-align: right;\n",
       "    }\n",
       "</style>\n",
       "<table border=\"1\" class=\"dataframe\">\n",
       "  <thead>\n",
       "    <tr style=\"text-align: right;\">\n",
       "      <th></th>\n",
       "      <th>date</th>\n",
       "      <th>feed_key</th>\n",
       "      <th>type</th>\n",
       "      <th>regional_feed_type</th>\n",
       "      <th>name</th>\n",
       "    </tr>\n",
       "  </thead>\n",
       "  <tbody>\n",
       "    <tr>\n",
       "      <th>0</th>\n",
       "      <td>2023-01-17</td>\n",
       "      <td>1523384dc06c3d8147eeffadbcfad049</td>\n",
       "      <td>schedule</td>\n",
       "      <td>Regional Subfeed</td>\n",
       "      <td>Bay Area 511 Vacaville City Coach Schedule</td>\n",
       "    </tr>\n",
       "    <tr>\n",
       "      <th>1</th>\n",
       "      <td>2023-01-17</td>\n",
       "      <td>1c78afa6c7ce96a5f5aefca2e0a07d78</td>\n",
       "      <td>schedule</td>\n",
       "      <td>Regional Subfeed</td>\n",
       "      <td>Bay Area 511 SamTrans Schedule</td>\n",
       "    </tr>\n",
       "    <tr>\n",
       "      <th>2</th>\n",
       "      <td>2023-01-17</td>\n",
       "      <td>21214a8a56b33b94a05cfe2ec211410a</td>\n",
       "      <td>schedule</td>\n",
       "      <td>Regional Subfeed</td>\n",
       "      <td>Bay Area 511 Commute.org Schedule</td>\n",
       "    </tr>\n",
       "    <tr>\n",
       "      <th>3</th>\n",
       "      <td>2023-01-17</td>\n",
       "      <td>227c21ddaeb14e27fc2e6ba1076d9d5e</td>\n",
       "      <td>schedule</td>\n",
       "      <td>Regional Subfeed</td>\n",
       "      <td>Bay Area 511 Tri-Valley Wheels Schedule</td>\n",
       "    </tr>\n",
       "    <tr>\n",
       "      <th>4</th>\n",
       "      <td>2023-01-17</td>\n",
       "      <td>2e0478675d2b2bcd6c93da9354d92755</td>\n",
       "      <td>schedule</td>\n",
       "      <td>Regional Subfeed</td>\n",
       "      <td>Bay Area 511 AC Transit Schedule</td>\n",
       "    </tr>\n",
       "  </tbody>\n",
       "</table>\n",
       "</div>"
      ],
      "text/plain": [
       "        date                          feed_key      type regional_feed_type  \\\n",
       "0 2023-01-17  1523384dc06c3d8147eeffadbcfad049  schedule   Regional Subfeed   \n",
       "1 2023-01-17  1c78afa6c7ce96a5f5aefca2e0a07d78  schedule   Regional Subfeed   \n",
       "2 2023-01-17  21214a8a56b33b94a05cfe2ec211410a  schedule   Regional Subfeed   \n",
       "3 2023-01-17  227c21ddaeb14e27fc2e6ba1076d9d5e  schedule   Regional Subfeed   \n",
       "4 2023-01-17  2e0478675d2b2bcd6c93da9354d92755  schedule   Regional Subfeed   \n",
       "\n",
       "                                         name  \n",
       "0  Bay Area 511 Vacaville City Coach Schedule  \n",
       "1              Bay Area 511 SamTrans Schedule  \n",
       "2           Bay Area 511 Commute.org Schedule  \n",
       "3     Bay Area 511 Tri-Valley Wheels Schedule  \n",
       "4            Bay Area 511 AC Transit Schedule  "
      ]
     },
     "metadata": {},
     "output_type": "display_data"
    },
    {
     "name": "stdout",
     "output_type": "stream",
     "text": [
      "shape: (36, 5)\n",
      "columns: Index(['date', 'feed_key', 'type', 'regional_feed_type', 'name'], dtype='object')\n",
      "Regional Subfeed          35\n",
      "Combined Regional Feed     1\n",
      "Name: regional_feed_type, dtype: int64\n"
     ]
    }
   ],
   "source": [
    "schedule_datasets = gtfs_utils_v2.schedule_daily_feed_to_organization(\n",
    "    selected_date = analysis_date,\n",
    "    keep_cols = [\"date\", \"feed_key\", \"type\", \n",
    "                 \"regional_feed_type\", \"name\"],\n",
    "    get_df = True,\n",
    "    feed_option = \"use_subfeeds\",\n",
    ") \n",
    "\n",
    "display_outputs(schedule_datasets)\n",
    "print(schedule_datasets.regional_feed_type.value_counts())\n"
   ]
  },
  {
   "cell_type": "code",
   "execution_count": 12,
   "id": "084d68fe-108e-45b9-8ae4-6568939cb0e0",
   "metadata": {},
   "outputs": [
    {
     "data": {
      "text/plain": [
       "Regional Subfeed          35\n",
       "Combined Regional Feed     1\n",
       "Name: regional_feed_type, dtype: int64"
      ]
     },
     "execution_count": 12,
     "metadata": {},
     "output_type": "execute_result"
    }
   ],
   "source": [
    "schedule_datasets.regional_feed_type.value_counts()"
   ]
  },
  {
   "cell_type": "markdown",
   "id": "d08e6d0a-6d91-4e43-80e3-0146b2799d5c",
   "metadata": {},
   "source": [
    "### Set test cases for filtering"
   ]
  },
  {
   "cell_type": "code",
   "execution_count": 13,
   "id": "2bf836cc-d19c-49ee-93b8-e1e33437b4b3",
   "metadata": {},
   "outputs": [],
   "source": [
    "test_cases = [\n",
    "    \"Big Blue Bus Schedule\", \n",
    "    \"Metrolink Schedule\"\n",
    "]\n",
    "\n",
    "test_feed_keys = [\n",
    "    \"008d5112a7e531d0562d26e34d77869d\", # Sacramento Schedule\n",
    "    \"f8d3bfd9e780aa3b3ce1340b2116513f\" # Long Beach Schedule\n",
    "]"
   ]
  },
  {
   "cell_type": "code",
   "execution_count": 14,
   "id": "5e9af514-0102-4bc2-b352-2f14948bcad5",
   "metadata": {},
   "outputs": [
    {
     "data": {
      "text/html": [
       "<div>\n",
       "<style scoped>\n",
       "    .dataframe tbody tr th:only-of-type {\n",
       "        vertical-align: middle;\n",
       "    }\n",
       "\n",
       "    .dataframe tbody tr th {\n",
       "        vertical-align: top;\n",
       "    }\n",
       "\n",
       "    .dataframe thead th {\n",
       "        text-align: right;\n",
       "    }\n",
       "</style>\n",
       "<table border=\"1\" class=\"dataframe\">\n",
       "  <thead>\n",
       "    <tr style=\"text-align: right;\">\n",
       "      <th></th>\n",
       "      <th>key</th>\n",
       "      <th>date</th>\n",
       "      <th>feed_key</th>\n",
       "      <th>base64_url</th>\n",
       "      <th>gtfs_dataset_key</th>\n",
       "      <th>is_future</th>\n",
       "      <th>type</th>\n",
       "      <th>name</th>\n",
       "      <th>regional_feed_type</th>\n",
       "    </tr>\n",
       "  </thead>\n",
       "  <tbody>\n",
       "    <tr>\n",
       "      <th>0</th>\n",
       "      <td>7ab7457165b694acaa4e0e7114fe386c</td>\n",
       "      <td>2023-01-17</td>\n",
       "      <td>90e78003416c5b09f77a9de8f266c2be</td>\n",
       "      <td>aHR0cHM6Ly93d3cubWV0cm9saW5rdHJhaW5zLmNvbS9nbG...</td>\n",
       "      <td>recR28oQlTW8GMJue</td>\n",
       "      <td>False</td>\n",
       "      <td>schedule</td>\n",
       "      <td>Metrolink Schedule</td>\n",
       "      <td>None</td>\n",
       "    </tr>\n",
       "    <tr>\n",
       "      <th>1</th>\n",
       "      <td>c908315e18a11ca09e5ead11595ee15c</td>\n",
       "      <td>2023-01-17</td>\n",
       "      <td>9d4387dc55091d50c717582348508bae</td>\n",
       "      <td>aHR0cDovL2d0ZnMuYmlnYmx1ZWJ1cy5jb20vY3VycmVudC...</td>\n",
       "      <td>recpN1dPaxhZvZQV0</td>\n",
       "      <td>False</td>\n",
       "      <td>schedule</td>\n",
       "      <td>Big Blue Bus Schedule</td>\n",
       "      <td>None</td>\n",
       "    </tr>\n",
       "  </tbody>\n",
       "</table>\n",
       "</div>"
      ],
      "text/plain": [
       "                                key       date  \\\n",
       "0  7ab7457165b694acaa4e0e7114fe386c 2023-01-17   \n",
       "1  c908315e18a11ca09e5ead11595ee15c 2023-01-17   \n",
       "\n",
       "                           feed_key  \\\n",
       "0  90e78003416c5b09f77a9de8f266c2be   \n",
       "1  9d4387dc55091d50c717582348508bae   \n",
       "\n",
       "                                          base64_url   gtfs_dataset_key  \\\n",
       "0  aHR0cHM6Ly93d3cubWV0cm9saW5rdHJhaW5zLmNvbS9nbG...  recR28oQlTW8GMJue   \n",
       "1  aHR0cDovL2d0ZnMuYmlnYmx1ZWJ1cy5jb20vY3VycmVudC...  recpN1dPaxhZvZQV0   \n",
       "\n",
       "   is_future      type                   name regional_feed_type  \n",
       "0      False  schedule     Metrolink Schedule               None  \n",
       "1      False  schedule  Big Blue Bus Schedule               None  "
      ]
     },
     "execution_count": 14,
     "metadata": {},
     "output_type": "execute_result"
    }
   ],
   "source": [
    "df_filter_by_name = (\n",
    "    gtfs_utils_v2.schedule_daily_feed_to_organization(\n",
    "        selected_date = analysis_date,\n",
    "        keep_cols = None,\n",
    "        get_df = False,\n",
    "        feed_option = \"use_subfeeds\"\n",
    "    ) >> gtfs_utils_v2.filter_operator(test_cases, include_name = True)\n",
    "    >> collect()\n",
    ")\n",
    "\n",
    "df_filter_by_name"
   ]
  },
  {
   "cell_type": "code",
   "execution_count": 15,
   "id": "7068850a-9367-448f-a44c-efdf7165ddc9",
   "metadata": {},
   "outputs": [
    {
     "data": {
      "text/html": [
       "<div>\n",
       "<style scoped>\n",
       "    .dataframe tbody tr th:only-of-type {\n",
       "        vertical-align: middle;\n",
       "    }\n",
       "\n",
       "    .dataframe tbody tr th {\n",
       "        vertical-align: top;\n",
       "    }\n",
       "\n",
       "    .dataframe thead th {\n",
       "        text-align: right;\n",
       "    }\n",
       "</style>\n",
       "<table border=\"1\" class=\"dataframe\">\n",
       "  <thead>\n",
       "    <tr style=\"text-align: right;\">\n",
       "      <th></th>\n",
       "      <th>key</th>\n",
       "      <th>date</th>\n",
       "      <th>feed_key</th>\n",
       "      <th>base64_url</th>\n",
       "      <th>gtfs_dataset_key</th>\n",
       "      <th>is_future</th>\n",
       "      <th>type</th>\n",
       "      <th>name</th>\n",
       "      <th>regional_feed_type</th>\n",
       "    </tr>\n",
       "  </thead>\n",
       "  <tbody>\n",
       "    <tr>\n",
       "      <th>0</th>\n",
       "      <td>58d22b05010728b166883376ae9763b2</td>\n",
       "      <td>2023-01-17</td>\n",
       "      <td>008d5112a7e531d0562d26e34d77869d</td>\n",
       "      <td>aHR0cHM6Ly9pcG9ydGFsLnNhY3J0LmNvbS9HVEZTL1NSVE...</td>\n",
       "      <td>recbzZQUIdMmFvm1r</td>\n",
       "      <td>False</td>\n",
       "      <td>schedule</td>\n",
       "      <td>Sacramento Schedule</td>\n",
       "      <td>None</td>\n",
       "    </tr>\n",
       "    <tr>\n",
       "      <th>1</th>\n",
       "      <td>8e384ef2a07eeb0e0a30884acf7f7409</td>\n",
       "      <td>2023-01-17</td>\n",
       "      <td>f8d3bfd9e780aa3b3ce1340b2116513f</td>\n",
       "      <td>aHR0cHM6Ly9sYnRyYW5zaXQuYm94LmNvbS9zaGFyZWQvc3...</td>\n",
       "      <td>recCv3CF4elAx0dUg</td>\n",
       "      <td>False</td>\n",
       "      <td>schedule</td>\n",
       "      <td>Long Beach Schedule</td>\n",
       "      <td>None</td>\n",
       "    </tr>\n",
       "  </tbody>\n",
       "</table>\n",
       "</div>"
      ],
      "text/plain": [
       "                                key       date  \\\n",
       "0  58d22b05010728b166883376ae9763b2 2023-01-17   \n",
       "1  8e384ef2a07eeb0e0a30884acf7f7409 2023-01-17   \n",
       "\n",
       "                           feed_key  \\\n",
       "0  008d5112a7e531d0562d26e34d77869d   \n",
       "1  f8d3bfd9e780aa3b3ce1340b2116513f   \n",
       "\n",
       "                                          base64_url   gtfs_dataset_key  \\\n",
       "0  aHR0cHM6Ly9pcG9ydGFsLnNhY3J0LmNvbS9HVEZTL1NSVE...  recbzZQUIdMmFvm1r   \n",
       "1  aHR0cHM6Ly9sYnRyYW5zaXQuYm94LmNvbS9zaGFyZWQvc3...  recCv3CF4elAx0dUg   \n",
       "\n",
       "   is_future      type                 name regional_feed_type  \n",
       "0      False  schedule  Sacramento Schedule               None  \n",
       "1      False  schedule  Long Beach Schedule               None  "
      ]
     },
     "execution_count": 15,
     "metadata": {},
     "output_type": "execute_result"
    }
   ],
   "source": [
    "df_filter_by_feed_key = (\n",
    "    gtfs_utils_v2.schedule_daily_feed_to_organization(\n",
    "        selected_date = analysis_date,\n",
    "        keep_cols = None,\n",
    "        get_df = False,\n",
    "        feed_option = \"use_subfeeds\"\n",
    "    ) >> gtfs_utils_v2.filter_operator(test_feed_keys, include_name = False)\n",
    "    >> collect()\n",
    ")\n",
    "\n",
    "df_filter_by_feed_key"
   ]
  },
  {
   "cell_type": "markdown",
   "id": "d86cc78a-c0d9-400b-9cac-3b9b0f1cf106",
   "metadata": {},
   "source": [
    "## Step 2: trips"
   ]
  },
  {
   "cell_type": "code",
   "execution_count": 16,
   "id": "9cf07d94-d318-4635-af1d-31d3c4d26c59",
   "metadata": {},
   "outputs": [],
   "source": [
    "trips = gtfs_utils_v2.get_trips(\n",
    "    selected_date = analysis_date,\n",
    "    operator_feeds = test_feed_keys,\n",
    "    trip_cols = [\"feed_key\", \"trip_id\", \"trip_key\", \n",
    "                 \"route_id\", \"route_key\", \n",
    "                 \"shape_array_key\", \"direction_id\",\n",
    "                 \"service_hours\", \"trip_first_departure_sec\", \n",
    "                 \"trip_last_arrival_sec\"\n",
    "                ],\n",
    "    get_df = True,\n",
    ")"
   ]
  },
  {
   "cell_type": "code",
   "execution_count": 17,
   "id": "7954df6f-5ef1-4788-9aed-942001b99018",
   "metadata": {},
   "outputs": [
    {
     "data": {
      "text/html": [
       "<div>\n",
       "<style scoped>\n",
       "    .dataframe tbody tr th:only-of-type {\n",
       "        vertical-align: middle;\n",
       "    }\n",
       "\n",
       "    .dataframe tbody tr th {\n",
       "        vertical-align: top;\n",
       "    }\n",
       "\n",
       "    .dataframe thead th {\n",
       "        text-align: right;\n",
       "    }\n",
       "</style>\n",
       "<table border=\"1\" class=\"dataframe\">\n",
       "  <thead>\n",
       "    <tr style=\"text-align: right;\">\n",
       "      <th></th>\n",
       "      <th>feed_key</th>\n",
       "      <th>trip_id</th>\n",
       "      <th>trip_key</th>\n",
       "      <th>route_id</th>\n",
       "      <th>route_key</th>\n",
       "      <th>shape_array_key</th>\n",
       "      <th>direction_id</th>\n",
       "      <th>service_hours</th>\n",
       "      <th>trip_first_departure_sec</th>\n",
       "      <th>trip_last_arrival_sec</th>\n",
       "    </tr>\n",
       "  </thead>\n",
       "  <tbody>\n",
       "    <tr>\n",
       "      <th>0</th>\n",
       "      <td>f8d3bfd9e780aa3b3ce1340b2116513f</td>\n",
       "      <td>9646473</td>\n",
       "      <td>b578166ecbdb0aa3882bb506e30a5149</td>\n",
       "      <td>21</td>\n",
       "      <td>6784353a6261afbdf38872fd8153e229</td>\n",
       "      <td>5baab14baacdde9bac9eee94ef2d8999</td>\n",
       "      <td>0</td>\n",
       "      <td>0.800000</td>\n",
       "      <td>22020</td>\n",
       "      <td>24900</td>\n",
       "    </tr>\n",
       "    <tr>\n",
       "      <th>1</th>\n",
       "      <td>f8d3bfd9e780aa3b3ce1340b2116513f</td>\n",
       "      <td>9646121</td>\n",
       "      <td>8f58aa7959e9375f8fd22d31d9838d06</td>\n",
       "      <td>46</td>\n",
       "      <td>07f6f7fac93f37eede3c6a2be52ae649</td>\n",
       "      <td>66cd904df7d5ec775c2ce3afa1545bae</td>\n",
       "      <td>1</td>\n",
       "      <td>0.583333</td>\n",
       "      <td>74100</td>\n",
       "      <td>76200</td>\n",
       "    </tr>\n",
       "    <tr>\n",
       "      <th>2</th>\n",
       "      <td>f8d3bfd9e780aa3b3ce1340b2116513f</td>\n",
       "      <td>9645953</td>\n",
       "      <td>27c37a1bf0e7ada069d2d95847ff7e21</td>\n",
       "      <td>46</td>\n",
       "      <td>07f6f7fac93f37eede3c6a2be52ae649</td>\n",
       "      <td>939fc9637f6c1bc24ac92fb846f0fdd4</td>\n",
       "      <td>0</td>\n",
       "      <td>0.450000</td>\n",
       "      <td>28080</td>\n",
       "      <td>29700</td>\n",
       "    </tr>\n",
       "    <tr>\n",
       "      <th>3</th>\n",
       "      <td>f8d3bfd9e780aa3b3ce1340b2116513f</td>\n",
       "      <td>9645514</td>\n",
       "      <td>599b3be786dc4bdf4fe2e8206cdb73c3</td>\n",
       "      <td>111</td>\n",
       "      <td>841ef90324f0def61a0ff91e53a0bae7</td>\n",
       "      <td>0399356a52aa382aa95f00fd47c6d28f</td>\n",
       "      <td>0</td>\n",
       "      <td>1.033333</td>\n",
       "      <td>49980</td>\n",
       "      <td>53700</td>\n",
       "    </tr>\n",
       "    <tr>\n",
       "      <th>4</th>\n",
       "      <td>008d5112a7e531d0562d26e34d77869d</td>\n",
       "      <td>1083910</td>\n",
       "      <td>c584eef754ab0427874f57a3f4d8948e</td>\n",
       "      <td>103</td>\n",
       "      <td>120f08a3de93a86678e9092bb3da5668</td>\n",
       "      <td>6d11e595080e640abf6c5cb7c77bd46f</td>\n",
       "      <td>1</td>\n",
       "      <td>0.683333</td>\n",
       "      <td>59640</td>\n",
       "      <td>62100</td>\n",
       "    </tr>\n",
       "  </tbody>\n",
       "</table>\n",
       "</div>"
      ],
      "text/plain": [
       "                           feed_key  trip_id  \\\n",
       "0  f8d3bfd9e780aa3b3ce1340b2116513f  9646473   \n",
       "1  f8d3bfd9e780aa3b3ce1340b2116513f  9646121   \n",
       "2  f8d3bfd9e780aa3b3ce1340b2116513f  9645953   \n",
       "3  f8d3bfd9e780aa3b3ce1340b2116513f  9645514   \n",
       "4  008d5112a7e531d0562d26e34d77869d  1083910   \n",
       "\n",
       "                           trip_key route_id  \\\n",
       "0  b578166ecbdb0aa3882bb506e30a5149       21   \n",
       "1  8f58aa7959e9375f8fd22d31d9838d06       46   \n",
       "2  27c37a1bf0e7ada069d2d95847ff7e21       46   \n",
       "3  599b3be786dc4bdf4fe2e8206cdb73c3      111   \n",
       "4  c584eef754ab0427874f57a3f4d8948e      103   \n",
       "\n",
       "                          route_key                   shape_array_key  \\\n",
       "0  6784353a6261afbdf38872fd8153e229  5baab14baacdde9bac9eee94ef2d8999   \n",
       "1  07f6f7fac93f37eede3c6a2be52ae649  66cd904df7d5ec775c2ce3afa1545bae   \n",
       "2  07f6f7fac93f37eede3c6a2be52ae649  939fc9637f6c1bc24ac92fb846f0fdd4   \n",
       "3  841ef90324f0def61a0ff91e53a0bae7  0399356a52aa382aa95f00fd47c6d28f   \n",
       "4  120f08a3de93a86678e9092bb3da5668  6d11e595080e640abf6c5cb7c77bd46f   \n",
       "\n",
       "   direction_id  service_hours  trip_first_departure_sec  \\\n",
       "0             0       0.800000                     22020   \n",
       "1             1       0.583333                     74100   \n",
       "2             0       0.450000                     28080   \n",
       "3             0       1.033333                     49980   \n",
       "4             1       0.683333                     59640   \n",
       "\n",
       "   trip_last_arrival_sec  \n",
       "0                  24900  \n",
       "1                  76200  \n",
       "2                  29700  \n",
       "3                  53700  \n",
       "4                  62100  "
      ]
     },
     "metadata": {},
     "output_type": "display_data"
    },
    {
     "name": "stdout",
     "output_type": "stream",
     "text": [
      "shape: (4245, 10)\n",
      "columns: Index(['feed_key', 'trip_id', 'trip_key', 'route_id', 'route_key',\n",
      "       'shape_array_key', 'direction_id', 'service_hours',\n",
      "       'trip_first_departure_sec', 'trip_last_arrival_sec'],\n",
      "      dtype='object')\n"
     ]
    }
   ],
   "source": [
    "display_outputs(trips)"
   ]
  },
  {
   "cell_type": "code",
   "execution_count": 18,
   "id": "618f57d3-94df-4e5a-8153-0b5d79e680d4",
   "metadata": {},
   "outputs": [],
   "source": [
    "trips2 = gtfs_utils_v2.get_trips(\n",
    "    selected_date = analysis_date,\n",
    "    operator_feeds = test_cases,\n",
    "    trip_cols = [\"feed_key\", \"name\", \"trip_id\",  \n",
    "                 \"route_id\", \n",
    "                 \"shape_id\", \"shape_array_key\", \n",
    "                 \"direction_id\",\n",
    "                ],\n",
    "    get_df = True,\n",
    ")"
   ]
  },
  {
   "cell_type": "code",
   "execution_count": 19,
   "id": "960b7dfc-ce08-4041-9e9c-02429f55d6c9",
   "metadata": {},
   "outputs": [
    {
     "data": {
      "text/html": [
       "<div>\n",
       "<style scoped>\n",
       "    .dataframe tbody tr th:only-of-type {\n",
       "        vertical-align: middle;\n",
       "    }\n",
       "\n",
       "    .dataframe tbody tr th {\n",
       "        vertical-align: top;\n",
       "    }\n",
       "\n",
       "    .dataframe thead th {\n",
       "        text-align: right;\n",
       "    }\n",
       "</style>\n",
       "<table border=\"1\" class=\"dataframe\">\n",
       "  <thead>\n",
       "    <tr style=\"text-align: right;\">\n",
       "      <th></th>\n",
       "      <th>feed_key</th>\n",
       "      <th>name</th>\n",
       "      <th>trip_id</th>\n",
       "      <th>route_id</th>\n",
       "      <th>shape_id</th>\n",
       "      <th>shape_array_key</th>\n",
       "      <th>direction_id</th>\n",
       "    </tr>\n",
       "  </thead>\n",
       "  <tbody>\n",
       "    <tr>\n",
       "      <th>0</th>\n",
       "      <td>9d4387dc55091d50c717582348508bae</td>\n",
       "      <td>Big Blue Bus Schedule</td>\n",
       "      <td>893177</td>\n",
       "      <td>3554</td>\n",
       "      <td>26164</td>\n",
       "      <td>c6100a0effdfa54bdbed6bffdd594fe5</td>\n",
       "      <td>1</td>\n",
       "    </tr>\n",
       "    <tr>\n",
       "      <th>1</th>\n",
       "      <td>9d4387dc55091d50c717582348508bae</td>\n",
       "      <td>Big Blue Bus Schedule</td>\n",
       "      <td>893708</td>\n",
       "      <td>3556</td>\n",
       "      <td>26171</td>\n",
       "      <td>80e0378df44a749a23d291f5404bf481</td>\n",
       "      <td>0</td>\n",
       "    </tr>\n",
       "    <tr>\n",
       "      <th>2</th>\n",
       "      <td>9d4387dc55091d50c717582348508bae</td>\n",
       "      <td>Big Blue Bus Schedule</td>\n",
       "      <td>894198</td>\n",
       "      <td>3560</td>\n",
       "      <td>26176</td>\n",
       "      <td>390a22dccf019ec6254bbecf01748f17</td>\n",
       "      <td>0</td>\n",
       "    </tr>\n",
       "    <tr>\n",
       "      <th>3</th>\n",
       "      <td>9d4387dc55091d50c717582348508bae</td>\n",
       "      <td>Big Blue Bus Schedule</td>\n",
       "      <td>894423</td>\n",
       "      <td>3561</td>\n",
       "      <td>26183</td>\n",
       "      <td>fd89b9cc6b5bedd99d9fabffaf3dc7c7</td>\n",
       "      <td>0</td>\n",
       "    </tr>\n",
       "    <tr>\n",
       "      <th>4</th>\n",
       "      <td>9d4387dc55091d50c717582348508bae</td>\n",
       "      <td>Big Blue Bus Schedule</td>\n",
       "      <td>895086</td>\n",
       "      <td>3565</td>\n",
       "      <td>26200</td>\n",
       "      <td>07bd7a677d359d367968ebb6e2da3d93</td>\n",
       "      <td>0</td>\n",
       "    </tr>\n",
       "  </tbody>\n",
       "</table>\n",
       "</div>"
      ],
      "text/plain": [
       "                           feed_key                   name trip_id route_id  \\\n",
       "0  9d4387dc55091d50c717582348508bae  Big Blue Bus Schedule  893177     3554   \n",
       "1  9d4387dc55091d50c717582348508bae  Big Blue Bus Schedule  893708     3556   \n",
       "2  9d4387dc55091d50c717582348508bae  Big Blue Bus Schedule  894198     3560   \n",
       "3  9d4387dc55091d50c717582348508bae  Big Blue Bus Schedule  894423     3561   \n",
       "4  9d4387dc55091d50c717582348508bae  Big Blue Bus Schedule  895086     3565   \n",
       "\n",
       "  shape_id                   shape_array_key  direction_id  \n",
       "0    26164  c6100a0effdfa54bdbed6bffdd594fe5             1  \n",
       "1    26171  80e0378df44a749a23d291f5404bf481             0  \n",
       "2    26176  390a22dccf019ec6254bbecf01748f17             0  \n",
       "3    26183  fd89b9cc6b5bedd99d9fabffaf3dc7c7             0  \n",
       "4    26200  07bd7a677d359d367968ebb6e2da3d93             0  "
      ]
     },
     "metadata": {},
     "output_type": "display_data"
    },
    {
     "name": "stdout",
     "output_type": "stream",
     "text": [
      "shape: (1530, 7)\n",
      "columns: Index(['feed_key', 'name', 'trip_id', 'route_id', 'shape_id',\n",
      "       'shape_array_key', 'direction_id'],\n",
      "      dtype='object')\n"
     ]
    }
   ],
   "source": [
    "display_outputs(trips2)"
   ]
  },
  {
   "cell_type": "markdown",
   "id": "cdd4aa8c-275e-4c8f-b98f-b553393aa9e5",
   "metadata": {},
   "source": [
    "## Step 2: stops"
   ]
  },
  {
   "cell_type": "code",
   "execution_count": 20,
   "id": "bb10b7cb-1e11-4ee0-9eb5-4e900d5c00b8",
   "metadata": {},
   "outputs": [],
   "source": [
    "stops = gtfs_utils_v2.get_stops(\n",
    "    selected_date = analysis_date,\n",
    "    operator_feeds = test_feed_keys,\n",
    "    stop_cols = [\"feed_key\", \"stop_id\", \"stop_name\", \n",
    "                 \"route_type_3\", ],\n",
    "    get_df = True,\n",
    "    crs = \"EPSG:2229\",\n",
    ")"
   ]
  },
  {
   "cell_type": "code",
   "execution_count": 21,
   "id": "0916545a-cc63-47c2-98db-143bae507e27",
   "metadata": {},
   "outputs": [
    {
     "data": {
      "text/html": [
       "<div>\n",
       "<style scoped>\n",
       "    .dataframe tbody tr th:only-of-type {\n",
       "        vertical-align: middle;\n",
       "    }\n",
       "\n",
       "    .dataframe tbody tr th {\n",
       "        vertical-align: top;\n",
       "    }\n",
       "\n",
       "    .dataframe thead th {\n",
       "        text-align: right;\n",
       "    }\n",
       "</style>\n",
       "<table border=\"1\" class=\"dataframe\">\n",
       "  <thead>\n",
       "    <tr style=\"text-align: right;\">\n",
       "      <th></th>\n",
       "      <th>feed_key</th>\n",
       "      <th>stop_id</th>\n",
       "      <th>stop_name</th>\n",
       "      <th>route_type_3</th>\n",
       "      <th>geometry</th>\n",
       "    </tr>\n",
       "  </thead>\n",
       "  <tbody>\n",
       "    <tr>\n",
       "      <th>0</th>\n",
       "      <td>f8d3bfd9e780aa3b3ce1340b2116513f</td>\n",
       "      <td>1014</td>\n",
       "      <td>7TH &amp; REDONDO SE</td>\n",
       "      <td>77.0</td>\n",
       "      <td>POINT (6515419.340 1740634.671)</td>\n",
       "    </tr>\n",
       "    <tr>\n",
       "      <th>1</th>\n",
       "      <td>f8d3bfd9e780aa3b3ce1340b2116513f</td>\n",
       "      <td>1631</td>\n",
       "      <td>STUDEBAKER &amp; AUTO SQUARE NE</td>\n",
       "      <td>83.0</td>\n",
       "      <td>POINT (6531454.224 1772274.779)</td>\n",
       "    </tr>\n",
       "    <tr>\n",
       "      <th>2</th>\n",
       "      <td>f8d3bfd9e780aa3b3ce1340b2116513f</td>\n",
       "      <td>1772</td>\n",
       "      <td>ATHERTON &amp; XIMENO SE</td>\n",
       "      <td>104.0</td>\n",
       "      <td>POINT (6519565.316 1745900.909)</td>\n",
       "    </tr>\n",
       "    <tr>\n",
       "      <th>3</th>\n",
       "      <td>008d5112a7e531d0562d26e34d77869d</td>\n",
       "      <td>11202</td>\n",
       "      <td>NATOMA ST &amp; WALES DR (WB)</td>\n",
       "      <td>9.0</td>\n",
       "      <td>POINT (5656698.628 3542050.189)</td>\n",
       "    </tr>\n",
       "    <tr>\n",
       "      <th>4</th>\n",
       "      <td>f8d3bfd9e780aa3b3ce1340b2116513f</td>\n",
       "      <td>0540</td>\n",
       "      <td>BELLFLOWER &amp; ANAHEIM RD NW</td>\n",
       "      <td>48.0</td>\n",
       "      <td>POINT (6524426.217 1742169.788)</td>\n",
       "    </tr>\n",
       "  </tbody>\n",
       "</table>\n",
       "</div>"
      ],
      "text/plain": [
       "                           feed_key stop_id                    stop_name  \\\n",
       "0  f8d3bfd9e780aa3b3ce1340b2116513f    1014             7TH & REDONDO SE   \n",
       "1  f8d3bfd9e780aa3b3ce1340b2116513f    1631  STUDEBAKER & AUTO SQUARE NE   \n",
       "2  f8d3bfd9e780aa3b3ce1340b2116513f    1772         ATHERTON & XIMENO SE   \n",
       "3  008d5112a7e531d0562d26e34d77869d   11202    NATOMA ST & WALES DR (WB)   \n",
       "4  f8d3bfd9e780aa3b3ce1340b2116513f    0540   BELLFLOWER & ANAHEIM RD NW   \n",
       "\n",
       "   route_type_3                         geometry  \n",
       "0          77.0  POINT (6515419.340 1740634.671)  \n",
       "1          83.0  POINT (6531454.224 1772274.779)  \n",
       "2         104.0  POINT (6519565.316 1745900.909)  \n",
       "3           9.0  POINT (5656698.628 3542050.189)  \n",
       "4          48.0  POINT (6524426.217 1742169.788)  "
      ]
     },
     "metadata": {},
     "output_type": "display_data"
    },
    {
     "name": "stdout",
     "output_type": "stream",
     "text": [
      "shape: (4718, 5)\n",
      "columns: Index(['feed_key', 'stop_id', 'stop_name', 'route_type_3', 'geometry'], dtype='object')\n",
      "CRS: {\"$schema\": \"https://proj.org/schemas/v0.5/projjson.schema.json\", \"type\": \"ProjectedCRS\", \"name\": \"NAD83 / California zone 5 (ftUS)\", \"base_crs\": {\"name\": \"NAD83\", \"datum\": {\"type\": \"GeodeticReferenceFrame\", \"name\": \"North American Datum 1983\", \"ellipsoid\": {\"name\": \"GRS 1980\", \"semi_major_axis\": 6378137, \"inverse_flattening\": 298.257222101}}, \"coordinate_system\": {\"subtype\": \"ellipsoidal\", \"axis\": [{\"name\": \"Geodetic latitude\", \"abbreviation\": \"Lat\", \"direction\": \"north\", \"unit\": \"degree\"}, {\"name\": \"Geodetic longitude\", \"abbreviation\": \"Lon\", \"direction\": \"east\", \"unit\": \"degree\"}]}, \"id\": {\"authority\": \"EPSG\", \"code\": 4269}}, \"conversion\": {\"name\": \"SPCS83 California zone 5 (US Survey feet)\", \"method\": {\"name\": \"Lambert Conic Conformal (2SP)\", \"id\": {\"authority\": \"EPSG\", \"code\": 9802}}, \"parameters\": [{\"name\": \"Latitude of false origin\", \"value\": 33.5, \"unit\": \"degree\", \"id\": {\"authority\": \"EPSG\", \"code\": 8821}}, {\"name\": \"Longitude of false origin\", \"value\": -118, \"unit\": \"degree\", \"id\": {\"authority\": \"EPSG\", \"code\": 8822}}, {\"name\": \"Latitude of 1st standard parallel\", \"value\": 35.4666666666667, \"unit\": \"degree\", \"id\": {\"authority\": \"EPSG\", \"code\": 8823}}, {\"name\": \"Latitude of 2nd standard parallel\", \"value\": 34.0333333333333, \"unit\": \"degree\", \"id\": {\"authority\": \"EPSG\", \"code\": 8824}}, {\"name\": \"Easting at false origin\", \"value\": 6561666.667, \"unit\": {\"type\": \"LinearUnit\", \"name\": \"US survey foot\", \"conversion_factor\": 0.304800609601219}, \"id\": {\"authority\": \"EPSG\", \"code\": 8826}}, {\"name\": \"Northing at false origin\", \"value\": 1640416.667, \"unit\": {\"type\": \"LinearUnit\", \"name\": \"US survey foot\", \"conversion_factor\": 0.304800609601219}, \"id\": {\"authority\": \"EPSG\", \"code\": 8827}}]}, \"coordinate_system\": {\"subtype\": \"Cartesian\", \"axis\": [{\"name\": \"Easting\", \"abbreviation\": \"X\", \"direction\": \"east\", \"unit\": {\"type\": \"LinearUnit\", \"name\": \"US survey foot\", \"conversion_factor\": 0.304800609601219}}, {\"name\": \"Northing\", \"abbreviation\": \"Y\", \"direction\": \"north\", \"unit\": {\"type\": \"LinearUnit\", \"name\": \"US survey foot\", \"conversion_factor\": 0.304800609601219}}]}, \"scope\": \"Engineering survey, topographic mapping.\", \"area\": \"United States (USA) - California - counties Kern; Los Angeles; San Bernardino; San Luis Obispo; Santa Barbara; Ventura.\", \"bbox\": {\"south_latitude\": 32.76, \"west_longitude\": -121.42, \"north_latitude\": 35.81, \"east_longitude\": -114.12}, \"id\": {\"authority\": \"EPSG\", \"code\": 2229}}\n"
     ]
    }
   ],
   "source": [
    "display_outputs(stops)"
   ]
  },
  {
   "cell_type": "markdown",
   "id": "2e9cfe55-e9da-44c0-8144-2398a192bee9",
   "metadata": {},
   "source": [
    "## Step 3: shapes"
   ]
  },
  {
   "cell_type": "code",
   "execution_count": 24,
   "id": "1d39c850-b960-48ab-b31a-8d310b808532",
   "metadata": {},
   "outputs": [],
   "source": [
    "shapes = gtfs_utils_v2.get_shapes(\n",
    "    selected_date = analysis_date,\n",
    "    operator_feeds = [test_feed_keys[0]],\n",
    "    shape_cols = [\"feed_key\", \"shape_id\", \"shape_array_key\",\n",
    "                 \"n_trips\"],\n",
    "    get_df = True,\n",
    "    crs = \"EPSG:3310\",\n",
    ")"
   ]
  },
  {
   "cell_type": "code",
   "execution_count": 25,
   "id": "77e9a60c-3911-4f01-a8fc-6a9a6bf9c500",
   "metadata": {},
   "outputs": [
    {
     "data": {
      "text/html": [
       "<div>\n",
       "<style scoped>\n",
       "    .dataframe tbody tr th:only-of-type {\n",
       "        vertical-align: middle;\n",
       "    }\n",
       "\n",
       "    .dataframe tbody tr th {\n",
       "        vertical-align: top;\n",
       "    }\n",
       "\n",
       "    .dataframe thead th {\n",
       "        text-align: right;\n",
       "    }\n",
       "</style>\n",
       "<table border=\"1\" class=\"dataframe\">\n",
       "  <thead>\n",
       "    <tr style=\"text-align: right;\">\n",
       "      <th></th>\n",
       "      <th>feed_key</th>\n",
       "      <th>shape_id</th>\n",
       "      <th>shape_array_key</th>\n",
       "      <th>n_trips</th>\n",
       "      <th>geometry</th>\n",
       "    </tr>\n",
       "  </thead>\n",
       "  <tbody>\n",
       "    <tr>\n",
       "      <th>0</th>\n",
       "      <td>008d5112a7e531d0562d26e34d77869d</td>\n",
       "      <td>45077</td>\n",
       "      <td>9addaaaaf4f08ca6e5074b3c3f2413b3</td>\n",
       "      <td>1</td>\n",
       "      <td>LINESTRING (-116557.927 59531.520, -116593.664...</td>\n",
       "    </tr>\n",
       "    <tr>\n",
       "      <th>1</th>\n",
       "      <td>008d5112a7e531d0562d26e34d77869d</td>\n",
       "      <td>45059</td>\n",
       "      <td>0a7e09807dc6920b21634f6fe7ad9768</td>\n",
       "      <td>1</td>\n",
       "      <td>LINESTRING (-123256.003 56118.691, -123255.778...</td>\n",
       "    </tr>\n",
       "    <tr>\n",
       "      <th>2</th>\n",
       "      <td>008d5112a7e531d0562d26e34d77869d</td>\n",
       "      <td>45082</td>\n",
       "      <td>b62192d1e8356ce4370997b39d968507</td>\n",
       "      <td>1</td>\n",
       "      <td>LINESTRING (-100598.776 75674.582, -100599.672...</td>\n",
       "    </tr>\n",
       "    <tr>\n",
       "      <th>3</th>\n",
       "      <td>008d5112a7e531d0562d26e34d77869d</td>\n",
       "      <td>44923</td>\n",
       "      <td>a8cc37ec5556191157afe820e4db37ac</td>\n",
       "      <td>1</td>\n",
       "      <td>LINESTRING (-129506.802 64236.820, -129558.723...</td>\n",
       "    </tr>\n",
       "    <tr>\n",
       "      <th>4</th>\n",
       "      <td>008d5112a7e531d0562d26e34d77869d</td>\n",
       "      <td>45075</td>\n",
       "      <td>592927d68b4755462ee870d2ebce53af</td>\n",
       "      <td>1</td>\n",
       "      <td>LINESTRING (-129688.400 60095.833, -129694.646...</td>\n",
       "    </tr>\n",
       "  </tbody>\n",
       "</table>\n",
       "</div>"
      ],
      "text/plain": [
       "                           feed_key shape_id  \\\n",
       "0  008d5112a7e531d0562d26e34d77869d    45077   \n",
       "1  008d5112a7e531d0562d26e34d77869d    45059   \n",
       "2  008d5112a7e531d0562d26e34d77869d    45082   \n",
       "3  008d5112a7e531d0562d26e34d77869d    44923   \n",
       "4  008d5112a7e531d0562d26e34d77869d    45075   \n",
       "\n",
       "                    shape_array_key  n_trips  \\\n",
       "0  9addaaaaf4f08ca6e5074b3c3f2413b3        1   \n",
       "1  0a7e09807dc6920b21634f6fe7ad9768        1   \n",
       "2  b62192d1e8356ce4370997b39d968507        1   \n",
       "3  a8cc37ec5556191157afe820e4db37ac        1   \n",
       "4  592927d68b4755462ee870d2ebce53af        1   \n",
       "\n",
       "                                            geometry  \n",
       "0  LINESTRING (-116557.927 59531.520, -116593.664...  \n",
       "1  LINESTRING (-123256.003 56118.691, -123255.778...  \n",
       "2  LINESTRING (-100598.776 75674.582, -100599.672...  \n",
       "3  LINESTRING (-129506.802 64236.820, -129558.723...  \n",
       "4  LINESTRING (-129688.400 60095.833, -129694.646...  "
      ]
     },
     "metadata": {},
     "output_type": "display_data"
    },
    {
     "name": "stdout",
     "output_type": "stream",
     "text": [
      "shape: (164, 5)\n",
      "columns: Index(['feed_key', 'shape_id', 'shape_array_key', 'n_trips', 'geometry'], dtype='object')\n",
      "CRS: {\"$schema\": \"https://proj.org/schemas/v0.5/projjson.schema.json\", \"type\": \"ProjectedCRS\", \"name\": \"NAD83 / California Albers\", \"base_crs\": {\"name\": \"NAD83\", \"datum\": {\"type\": \"GeodeticReferenceFrame\", \"name\": \"North American Datum 1983\", \"ellipsoid\": {\"name\": \"GRS 1980\", \"semi_major_axis\": 6378137, \"inverse_flattening\": 298.257222101}}, \"coordinate_system\": {\"subtype\": \"ellipsoidal\", \"axis\": [{\"name\": \"Geodetic latitude\", \"abbreviation\": \"Lat\", \"direction\": \"north\", \"unit\": \"degree\"}, {\"name\": \"Geodetic longitude\", \"abbreviation\": \"Lon\", \"direction\": \"east\", \"unit\": \"degree\"}]}, \"id\": {\"authority\": \"EPSG\", \"code\": 4269}}, \"conversion\": {\"name\": \"California Albers\", \"method\": {\"name\": \"Albers Equal Area\", \"id\": {\"authority\": \"EPSG\", \"code\": 9822}}, \"parameters\": [{\"name\": \"Latitude of false origin\", \"value\": 0, \"unit\": \"degree\", \"id\": {\"authority\": \"EPSG\", \"code\": 8821}}, {\"name\": \"Longitude of false origin\", \"value\": -120, \"unit\": \"degree\", \"id\": {\"authority\": \"EPSG\", \"code\": 8822}}, {\"name\": \"Latitude of 1st standard parallel\", \"value\": 34, \"unit\": \"degree\", \"id\": {\"authority\": \"EPSG\", \"code\": 8823}}, {\"name\": \"Latitude of 2nd standard parallel\", \"value\": 40.5, \"unit\": \"degree\", \"id\": {\"authority\": \"EPSG\", \"code\": 8824}}, {\"name\": \"Easting at false origin\", \"value\": 0, \"unit\": \"metre\", \"id\": {\"authority\": \"EPSG\", \"code\": 8826}}, {\"name\": \"Northing at false origin\", \"value\": -4000000, \"unit\": \"metre\", \"id\": {\"authority\": \"EPSG\", \"code\": 8827}}]}, \"coordinate_system\": {\"subtype\": \"Cartesian\", \"axis\": [{\"name\": \"Easting\", \"abbreviation\": \"X\", \"direction\": \"east\", \"unit\": \"metre\"}, {\"name\": \"Northing\", \"abbreviation\": \"Y\", \"direction\": \"north\", \"unit\": \"metre\"}]}, \"scope\": \"State-wide spatial data management.\", \"area\": \"United States (USA) - California.\", \"bbox\": {\"south_latitude\": 32.53, \"west_longitude\": -124.45, \"north_latitude\": 42.01, \"east_longitude\": -114.12}, \"id\": {\"authority\": \"EPSG\", \"code\": 3310}}\n"
     ]
    }
   ],
   "source": [
    "display_outputs(shapes)"
   ]
  },
  {
   "cell_type": "markdown",
   "id": "1b0f54e1-aae0-428e-aedd-3689f5e0ce3e",
   "metadata": {},
   "source": [
    "## Step 4: stop_times"
   ]
  },
  {
   "cell_type": "code",
   "execution_count": 26,
   "id": "47af40c2-2fda-4c96-be46-74436c7c3c4e",
   "metadata": {},
   "outputs": [],
   "source": [
    "# Select from the 2 test cases, the first 5 trip_ids\n",
    "test_trips = trips[trips.name.isin(test_cases)\n",
    "                  ].trip_id.unique().tolist()[:5]"
   ]
  },
  {
   "cell_type": "code",
   "execution_count": 27,
   "id": "b54d684f-2df5-4b18-bf9d-70e168a2a3ce",
   "metadata": {},
   "outputs": [],
   "source": [
    "# Input this as our trip_df\n",
    "sample_trips = trips[trips.trip_id.isin(test_trips)]"
   ]
  },
  {
   "cell_type": "code",
   "execution_count": 28,
   "id": "28b9c3e8-b793-4cc8-9dbc-b1dabd579900",
   "metadata": {},
   "outputs": [
    {
     "data": {
      "text/plain": [
       "['9d4387dc55091d50c717582348508bae']"
      ]
     },
     "execution_count": 28,
     "metadata": {},
     "output_type": "execute_result"
    }
   ],
   "source": [
    "# Grab feed key, or else can't subset...\n",
    "feed_key_for_sample_trips = sample_trips.feed_key.unique().tolist()\n",
    "feed_key_for_sample_trips"
   ]
  },
  {
   "cell_type": "code",
   "execution_count": 29,
   "id": "b6590b6e-80a8-489d-81e6-e4589b7ca6a2",
   "metadata": {},
   "outputs": [],
   "source": [
    "stop_times = gtfs_utils_v2.get_stop_times(\n",
    "    selected_date = analysis_date,\n",
    "    operator_feeds = feed_key_for_sample_trips,\n",
    "    stop_time_cols = [\"feed_key\", \"trip_id\", \"stop_id\", \n",
    "                      \"stop_sequence\", \n",
    "                      \"arrival_sec\", \"departure_sec\"\n",
    "                ],\n",
    "    get_df = True,\n",
    "    trip_df = sample_trips\n",
    ")"
   ]
  },
  {
   "cell_type": "code",
   "execution_count": 30,
   "id": "2229f949-a4d1-4cac-8b76-b36a9503e76a",
   "metadata": {},
   "outputs": [
    {
     "data": {
      "text/html": [
       "<div>\n",
       "<style scoped>\n",
       "    .dataframe tbody tr th:only-of-type {\n",
       "        vertical-align: middle;\n",
       "    }\n",
       "\n",
       "    .dataframe tbody tr th {\n",
       "        vertical-align: top;\n",
       "    }\n",
       "\n",
       "    .dataframe thead th {\n",
       "        text-align: right;\n",
       "    }\n",
       "</style>\n",
       "<table border=\"1\" class=\"dataframe\">\n",
       "  <thead>\n",
       "    <tr style=\"text-align: right;\">\n",
       "      <th></th>\n",
       "      <th>feed_key</th>\n",
       "      <th>trip_id</th>\n",
       "      <th>stop_id</th>\n",
       "      <th>stop_sequence</th>\n",
       "      <th>arrival_sec</th>\n",
       "      <th>departure_sec</th>\n",
       "      <th>arrival_hour</th>\n",
       "      <th>departure_hour</th>\n",
       "    </tr>\n",
       "  </thead>\n",
       "  <tbody>\n",
       "    <tr>\n",
       "      <th>0</th>\n",
       "      <td>9d4387dc55091d50c717582348508bae</td>\n",
       "      <td>893177</td>\n",
       "      <td>34</td>\n",
       "      <td>32</td>\n",
       "      <td>51076</td>\n",
       "      <td>51076</td>\n",
       "      <td>14</td>\n",
       "      <td>14</td>\n",
       "    </tr>\n",
       "    <tr>\n",
       "      <th>1</th>\n",
       "      <td>9d4387dc55091d50c717582348508bae</td>\n",
       "      <td>894198</td>\n",
       "      <td>355</td>\n",
       "      <td>16</td>\n",
       "      <td>69036</td>\n",
       "      <td>69036</td>\n",
       "      <td>19</td>\n",
       "      <td>19</td>\n",
       "    </tr>\n",
       "    <tr>\n",
       "      <th>2</th>\n",
       "      <td>9d4387dc55091d50c717582348508bae</td>\n",
       "      <td>893708</td>\n",
       "      <td>541</td>\n",
       "      <td>12</td>\n",
       "      <td>78027</td>\n",
       "      <td>78027</td>\n",
       "      <td>21</td>\n",
       "      <td>21</td>\n",
       "    </tr>\n",
       "    <tr>\n",
       "      <th>3</th>\n",
       "      <td>9d4387dc55091d50c717582348508bae</td>\n",
       "      <td>895086</td>\n",
       "      <td>1097</td>\n",
       "      <td>20</td>\n",
       "      <td>22500</td>\n",
       "      <td>22500</td>\n",
       "      <td>6</td>\n",
       "      <td>6</td>\n",
       "    </tr>\n",
       "    <tr>\n",
       "      <th>4</th>\n",
       "      <td>9d4387dc55091d50c717582348508bae</td>\n",
       "      <td>894423</td>\n",
       "      <td>214</td>\n",
       "      <td>29</td>\n",
       "      <td>80154</td>\n",
       "      <td>80154</td>\n",
       "      <td>22</td>\n",
       "      <td>22</td>\n",
       "    </tr>\n",
       "  </tbody>\n",
       "</table>\n",
       "</div>"
      ],
      "text/plain": [
       "                           feed_key trip_id stop_id  stop_sequence  \\\n",
       "0  9d4387dc55091d50c717582348508bae  893177      34             32   \n",
       "1  9d4387dc55091d50c717582348508bae  894198     355             16   \n",
       "2  9d4387dc55091d50c717582348508bae  893708     541             12   \n",
       "3  9d4387dc55091d50c717582348508bae  895086    1097             20   \n",
       "4  9d4387dc55091d50c717582348508bae  894423     214             29   \n",
       "\n",
       "   arrival_sec  departure_sec  arrival_hour  departure_hour  \n",
       "0        51076          51076            14              14  \n",
       "1        69036          69036            19              19  \n",
       "2        78027          78027            21              21  \n",
       "3        22500          22500             6               6  \n",
       "4        80154          80154            22              22  "
      ]
     },
     "metadata": {},
     "output_type": "display_data"
    },
    {
     "name": "stdout",
     "output_type": "stream",
     "text": [
      "shape: (217, 8)\n",
      "columns: Index(['feed_key', 'trip_id', 'stop_id', 'stop_sequence', 'arrival_sec',\n",
      "       'departure_sec', 'arrival_hour', 'departure_hour'],\n",
      "      dtype='object')\n"
     ]
    }
   ],
   "source": [
    "display_outputs(stop_times)"
   ]
  },
  {
   "cell_type": "code",
   "execution_count": 31,
   "id": "e9325444-cc21-4e28-893f-da1e455ca8f3",
   "metadata": {},
   "outputs": [
    {
     "name": "stdout",
     "output_type": "stream",
     "text": [
      "19    49\n",
      "22    46\n",
      "21    35\n",
      "6     32\n",
      "14    23\n",
      "13    22\n",
      "5      6\n",
      "18     4\n",
      "Name: arrival_hour, dtype: int64\n",
      "19    49\n",
      "22    46\n",
      "21    35\n",
      "6     32\n",
      "14    23\n",
      "13    22\n",
      "5      6\n",
      "18     4\n",
      "Name: departure_hour, dtype: int64\n"
     ]
    }
   ],
   "source": [
    "print(stop_times.arrival_hour.value_counts())\n",
    "print(stop_times.departure_hour.value_counts())"
   ]
  },
  {
   "cell_type": "code",
   "execution_count": null,
   "id": "3c0516b7-73a9-4736-992e-fa9f7eb52b9b",
   "metadata": {},
   "outputs": [],
   "source": []
  }
 ],
 "metadata": {
  "kernelspec": {
   "display_name": "Python 3 (ipykernel)",
   "language": "python",
   "name": "python3"
  },
  "language_info": {
   "codemirror_mode": {
    "name": "ipython",
    "version": 3
   },
   "file_extension": ".py",
   "mimetype": "text/x-python",
   "name": "python",
   "nbconvert_exporter": "python",
   "pygments_lexer": "ipython3",
   "version": "3.9.13"
  }
 },
 "nbformat": 4,
 "nbformat_minor": 5
}
