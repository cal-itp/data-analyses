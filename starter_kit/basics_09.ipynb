{
 "cells": [
  {
   "cell_type": "markdown",
   "id": "84872c99-cfe4-4298-b2c1-e968dae374ab",
   "metadata": {},
   "source": [
    "# Exercise 9: series\n",
    "\n",
    "* pandas series vs numpy arrays [explanation](https://jakevdp.github.io/PythonDataScienceHandbook/03.01-introducing-pandas-objects.html)\n",
    "\n",
    "### Common series operations\n",
    "These are the most common series operations we use. Refer to the `pandas` docs for even more!\n",
    "\n",
    "* Getting dates, hours, minutes from datetime types (`df.datetime_col.dt.date`)\n",
    "* Parsing strings (`df.string_col.str.split('_')`)\n",
    "\n",
    "### Common geoseries operations\n",
    "These are the most common. Refer to the `geopandas` docs for even more!\n",
    "\n",
    "* `distance` between 2 points or a point to a polygon or line [docs](https://geopandas.org/en/stable/docs/reference/api/geopandas.GeoSeries.distance.html)\n",
    "* `intersects`: [docs](https://geopandas.org/en/stable/docs/reference/api/geopandas.GeoSeries.intersects.html)\n",
    "* `within`: [docs](https://geopandas.org/en/stable/docs/reference/api/geopandas.GeoSeries.within.html)\n",
    "* `contains`: [docs](https://geopandas.org/en/stable/docs/reference/api/geopandas.GeoSeries.contains.html)\n",
    "\n",
    "In fact, we've often used geoseries methods without even realizing it. Often, we'd create a new column that stores either the line's length or a polygon's area. `gdf.geometry` is a geoseries, and we call methods on that geoseries, and add that as a new column.\n",
    "\n",
    "For calculations like `length`, `area`, and `distance`, we need to use a projected CRS that has units like meters or feet. We cannot use decimal degrees (do not use WGS 84 / `EPSG:4326`)! Distance calculations must be done only once the spherical 3D Earth has been converted into a 2D plane.\n",
    "\n",
    "* `length`: get the length of a line (`gdf.geometry.length`)\n",
    "* `area`: get the area of a polygon (`gdf.geometry.area`)\n",
    "* `centroid`: get the centroid of a polygon (`gdf.geometry.centroid`)\n",
    "* `x`: get the x coordinate of a point (`gdf.geometry.x`)\n",
    "* `y`: get the y coordinate of a point (`gdf.geometry.y`)\n",
    "\n",
    "### Arrays\n",
    "* Occasionally, we may even use arrays, especially when the datasets get even larger but we have simple mathematical calculations\n",
    "* If we need to apply an exponential decay function to a distance column, we essentially want to multiple `distance` by some number\n",
    "* Since this exponential decay function is somewhat custom and requires us to write our own formula, we would extract the column as a series (`df.distance`) and multiply each value by some other number.\n",
    "* Even quicker is to use `numpy` with `distance_array = np.array(df.distance)` and get `exponential_array = distance_array*some_number`"
   ]
  },
  {
   "cell_type": "code",
   "execution_count": null,
   "id": "857e8b4d-efc3-4919-85da-6af600d4a39c",
   "metadata": {},
   "outputs": [],
   "source": [
    "import geopandas as gpd\n",
    "import intake\n",
    "import numpy as np\n",
    "import pandas as pd\n",
    "\n",
    "catalog = intake.open_catalog(\n",
    "    \"../_shared_utils/shared_utils/shared_data_catalog.yml\")"
   ]
  },
  {
   "cell_type": "markdown",
   "id": "0aac8643-45b0-47c6-af66-7e718942f82d",
   "metadata": {},
   "source": [
    "If you're asking how far is a transit stop from the interstate, you'd want the distance of every point (every row) compared to an interstate highway geometry.\n",
    "\n",
    "Let's prep the datasets to use series / geoseries to do this."
   ]
  },
  {
   "cell_type": "code",
   "execution_count": null,
   "id": "4769438c-5b5d-4e94-b214-cda4fbedd13e",
   "metadata": {},
   "outputs": [],
   "source": [
    "stops = catalog.ca_transit_stops.read()[[\"agency\", \"stop_id\", \n",
    "                                         \"stop_name\", \"geometry\"]]\n",
    "highways = catalog.state_highway_network.read()"
   ]
  },
  {
   "cell_type": "markdown",
   "id": "2e8d2b6e-8f36-4469-8e44-17ac5c17002b",
   "metadata": {},
   "source": [
    "Since we want to know the distance from a stop's point to the interstate generally, we need a dissolve. We don't want to compare the distance against the I-5, the I-10 individually, but to the interstate system as a whole."
   ]
  },
  {
   "cell_type": "code",
   "execution_count": null,
   "id": "87324210-da50-4973-b652-703355bc8407",
   "metadata": {},
   "outputs": [],
   "source": [
    "interstates = (highways[highways.RouteType==\"Interstate\"]\n",
    "               .dissolve()\n",
    "               .reset_index()\n",
    "               [[\"geometry\"]]\n",
    "              )"
   ]
  },
  {
   "cell_type": "code",
   "execution_count": null,
   "id": "93b966ed-3115-425d-8521-1d98403a526c",
   "metadata": {},
   "outputs": [],
   "source": [
    "# This is still a gdf, just with 1 column\n",
    "type(interstates)"
   ]
  },
  {
   "cell_type": "code",
   "execution_count": null,
   "id": "6d77f3c0-d520-4d90-a7ee-8466b26daf28",
   "metadata": {},
   "outputs": [],
   "source": [
    "# Pulling out the individual column, it becomes a series/geoseries.\n",
    "# It's a geoseries here because we had a gdf. \n",
    "# If it was a df, it would be a series.\n",
    "print(type(stops.geometry))\n",
    "print(type(interstates.geometry))"
   ]
  },
  {
   "cell_type": "markdown",
   "id": "76e590eb-aeaf-437f-a5b7-5b6947dd34cc",
   "metadata": {},
   "source": [
    "Distance is something you can calculate using `geopandas`.\n",
    "\n",
    "Specifically, it takes a geoseries on the left, and either a geoseries or a single geometry on the right.\n",
    "\n",
    "An example of having 2 geoseries would be comparing the distance between 2 points. On the left, it would be a geoseries of the origin points and on the right, destination points."
   ]
  },
  {
   "cell_type": "code",
   "execution_count": null,
   "id": "98652a57-47f1-4fce-940d-01530e6c112d",
   "metadata": {},
   "outputs": [],
   "source": [
    "# We get a warning if we leave it in EPSG:4326!\n",
    "stops.geometry.distance(interstates.geometry.iloc[0])"
   ]
  },
  {
   "cell_type": "code",
   "execution_count": null,
   "id": "01f76443-ff98-4340-bc40-5ee42c5534be",
   "metadata": {},
   "outputs": [],
   "source": [
    "stops_geom = stops.to_crs(\"EPSG:2229\").geometry\n",
    "interstates_geom = interstates.to_crs(\"EPSG:2229\").geometry.iloc[0]"
   ]
  },
  {
   "cell_type": "code",
   "execution_count": null,
   "id": "1cc464f7-3f5f-4b60-9ab8-0e24cbf02c5d",
   "metadata": {},
   "outputs": [],
   "source": [
    "distance_series = stops_geom.distance(interstates_geom)"
   ]
  },
  {
   "cell_type": "code",
   "execution_count": null,
   "id": "f7aff458-964e-4b07-aed7-49bad17a90a1",
   "metadata": {},
   "outputs": [],
   "source": [
    "# Let's make sure that for every stop, a distance is calculated\n",
    "print(f\"# rows in stops: {len(stops_geom)}\")\n",
    "print(f\"# rows in stops: {len(distance_series)}\")"
   ]
  },
  {
   "cell_type": "code",
   "execution_count": null,
   "id": "0dd7a990-e28b-4927-8215-b7255e450730",
   "metadata": {},
   "outputs": [],
   "source": [
    "# distance is numeric, not a geometry, so we're back to being a series\n",
    "type(distance_series)"
   ]
  },
  {
   "cell_type": "markdown",
   "id": "c264d096-fbc3-4450-9f9c-1bf11b805267",
   "metadata": {},
   "source": [
    "What can we do with this? \n",
    "\n",
    "We usually add it as a new column. Since we did nothing to shift the index, we can just attach the series back to our gdf.\n",
    "\n",
    "Getting a distance calculation using geoseries is much quicker than a row-wise lambda function where you calculate the distance.\n",
    "\n",
    "```\n",
    "Alternative method that's slower:\n",
    "      \n",
    "interstate_geom = interstates.geometry.iloc[0]\n",
    "\n",
    "stops = stops.assign(\n",
    "   distance = stops.geometry.apply(\n",
    "         lambda x: x.distance(interstate_geom))\n",
    ")   \n",
    "```"
   ]
  },
  {
   "cell_type": "code",
   "execution_count": null,
   "id": "7609c11a-be1d-491d-a6ef-a6418b90d821",
   "metadata": {},
   "outputs": [],
   "source": [
    "stops = stops.assign(\n",
    "    distance_to_interstate = distance_series\n",
    ")"
   ]
  },
  {
   "cell_type": "code",
   "execution_count": null,
   "id": "4990dead-00a1-482f-ac6b-26b31e7289fb",
   "metadata": {},
   "outputs": [],
   "source": [
    "%%timeit\n",
    "distance_series = stops_geom.distance(interstates_geom)"
   ]
  },
  {
   "cell_type": "code",
   "execution_count": null,
   "id": "955c45f0-bf8b-41f5-a2c8-7dfcc2513463",
   "metadata": {},
   "outputs": [],
   "source": [
    "%%timeit\n",
    "stops.assign(\n",
    "   distance = stops.geometry.apply(\n",
    "         lambda x: x.distance(interstates_geom))\n",
    ")   "
   ]
  },
  {
   "cell_type": "code",
   "execution_count": null,
   "id": "9ef4ec02-0486-4103-87a0-4d41a1520318",
   "metadata": {},
   "outputs": [],
   "source": [
    "import dask_geopandas as dg\n",
    "\n",
    "stops_gddf = dg.from_geopandas(stops, npartitions=2)\n",
    "stops_geom_dg = stops_gddf.to_crs(\"EPSG:2229\").geometry"
   ]
  },
  {
   "cell_type": "code",
   "execution_count": null,
   "id": "6a486f4a-4ddf-4a2a-83d0-454fd4684e73",
   "metadata": {},
   "outputs": [],
   "source": [
    "%%timeit\n",
    "\n",
    "distance_series = stops_geom_dg.distance(interstates_geom)"
   ]
  },
  {
   "cell_type": "markdown",
   "id": "fd487060-64f6-46f0-b600-f0856957077b",
   "metadata": {},
   "source": [
    "## To Do\n",
    "\n",
    "* Use the `stop_times` table and `stops` table.\n",
    "* Calculate the straight line distance between the first and last stop for each trip. Call this column `trip_distance`\n",
    "* Calculate the distance between each stop to the nearest interstate. For each trip, keep the value for the stop that's the closest to the interstate. Call this column `shortest_distance_hwy`.\n",
    "* For each trip, add these 2 new columns, but use series, geoseries, and/or arrays to assign it.\n",
    "* Provide a preview of the resulting df (do not export)"
   ]
  },
  {
   "cell_type": "code",
   "execution_count": null,
   "id": "9382c83d-d0d7-462d-bd64-3854d6f5325e",
   "metadata": {},
   "outputs": [],
   "source": [
    "GCS_FILE_PATH = (\"gs://calitp-analytics-data/data-analyses/\"\n",
    "                 \"rt_delay/compiled_cached_views/\"\n",
    "                )\n",
    "\n",
    "analysis_date = \"2023-01-18\"\n",
    "STOP_TIMES_FILE = f\"{GCS_FILE_PATH}st_{analysis_date}.parquet\"\n",
    "STOPS_FILE = f\"{GCS_FILE_PATH}stops_{analysis_date}.parquet\"\n",
    "highways = catalog.state_highway_network.read()"
   ]
  },
  {
   "cell_type": "code",
   "execution_count": null,
   "id": "40679d08-9805-4da3-bca4-9c00cee7a551",
   "metadata": {},
   "outputs": [],
   "source": []
  }
 ],
 "metadata": {
  "kernelspec": {
   "display_name": "Python 3 (ipykernel)",
   "language": "python",
   "name": "python3"
  },
  "language_info": {
   "codemirror_mode": {
    "name": "ipython",
    "version": 3
   },
   "file_extension": ".py",
   "mimetype": "text/x-python",
   "name": "python",
   "nbconvert_exporter": "python",
   "pygments_lexer": "ipython3",
   "version": "3.9.13"
  }
 },
 "nbformat": 4,
 "nbformat_minor": 5
}
