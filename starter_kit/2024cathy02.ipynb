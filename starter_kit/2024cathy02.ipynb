{
 "cells": [
  {
   "cell_type": "markdown",
   "id": "685c09c1-4d11-42a8-a213-8267137eede8",
   "metadata": {},
   "source": [
    "# Exercise 2: Merging, Aggregating, Filtering, and Visualizing"
   ]
  },
  {
   "cell_type": "code",
   "execution_count": 1,
   "id": "6cbbfb96-1e9e-400a-9884-72f08d1191f3",
   "metadata": {},
   "outputs": [],
   "source": [
    "import altair as alt\n",
    "import pandas as pd\n",
    "from calitp_data_analysis.sql import to_snakecase"
   ]
  },
  {
   "cell_type": "code",
   "execution_count": 2,
   "id": "3da62b06-24b4-4791-a073-185ee3765152",
   "metadata": {},
   "outputs": [],
   "source": [
    "pd.options.display.max_columns = 100\n",
    "pd.options.display.float_format = \"{:.2f}\".format\n",
    "pd.set_option(\"display.max_rows\", None)\n",
    "pd.set_option(\"display.max_colwidth\", None)"
   ]
  },
  {
   "cell_type": "markdown",
   "id": "616f1aed-d082-4e49-8eae-5c3acf87155f",
   "metadata": {},
   "source": [
    "* Read back in the `parquet` file with the `overall_score` you created from exercise 1.\n",
    "* Read the Excel sheet containing the project information (scope of work, district, and project name).\n",
    "* **Use f-strings.**"
   ]
  },
  {
   "cell_type": "code",
   "execution_count": 3,
   "id": "8729b791-8e40-4c31-bd58-185ac468fad4",
   "metadata": {},
   "outputs": [],
   "source": [
    "FOLDER = \"../starter_kit/\"\n",
    "FILE_NAME = \"overall_score.parquet\"\n",
    "score = pd.read_parquet(f\"{FOLDER}{FILE_NAME}\")"
   ]
  },
  {
   "cell_type": "code",
   "execution_count": 4,
   "id": "9737aaf4-a8d5-42dd-b8fd-9bef44113097",
   "metadata": {},
   "outputs": [],
   "source": [
    "FOLDER = \"../starter_kit/\"\n",
    "FILE_NAME = \"starter_kit_csis_scoring_workbook.xlsx\"\n",
    "\n",
    "my_sheets = [\"projects_auto\", \"overall_score\"]\n",
    "workbook = pd.read_excel(f\"{FOLDER}{FILE_NAME}\", sheet_name=my_sheets)\n",
    "\n",
    "project = to_snakecase(workbook.get(my_sheets[0]))"
   ]
  },
  {
   "cell_type": "code",
   "execution_count": null,
   "id": "ba8a6042-2ad9-44a6-8e5f-455d6753ec36",
   "metadata": {},
   "outputs": [],
   "source": [
    "#keep_col = ['ct_district', 'project_name', 'scope_of_work']\n",
    "#sub_project = project[keep_col]"
   ]
  },
  {
   "cell_type": "code",
   "execution_count": null,
   "id": "e7e4cafe-eb24-477b-a45c-88bfcaff37f3",
   "metadata": {},
   "outputs": [],
   "source": [
    "#GCS_FILE_PATH = \"gs://calitp-analytics-data/data-analyses/starter_kit/\""
   ]
  },
  {
   "cell_type": "code",
   "execution_count": null,
   "id": "a524d6a5-ecda-4ac6-80f2-2399e63cb6f0",
   "metadata": {},
   "outputs": [],
   "source": [
    "score['project_name'].nunique()"
   ]
  },
  {
   "cell_type": "code",
   "execution_count": null,
   "id": "99d798d9-38fa-44bb-8620-66fc93fc751c",
   "metadata": {},
   "outputs": [],
   "source": [
    "score.shape"
   ]
  },
  {
   "cell_type": "code",
   "execution_count": null,
   "id": "fe5e192a-5251-4ecf-ac0f-5db4a9fda1eb",
   "metadata": {},
   "outputs": [],
   "source": [
    "project['project_name'].nunique()"
   ]
  },
  {
   "cell_type": "code",
   "execution_count": null,
   "id": "5ffc3d9d-1a2d-49d3-98a7-0afa6036114d",
   "metadata": {},
   "outputs": [],
   "source": [
    "project.shape"
   ]
  },
  {
   "cell_type": "code",
   "execution_count": null,
   "id": "18c3157c-87ca-44fb-8abb-c61cd81bc1f9",
   "metadata": {},
   "outputs": [],
   "source": [
    "project['ct_district'].nunique()"
   ]
  },
  {
   "cell_type": "code",
   "execution_count": null,
   "id": "fd47e6de-8e1d-47aa-b806-8bda44e89350",
   "metadata": {},
   "outputs": [],
   "source": [
    "project.ct_district.value_counts()"
   ]
  },
  {
   "cell_type": "markdown",
   "id": "4c2dd160-ec10-41ce-b5c0-a9be5934d6ee",
   "metadata": {},
   "source": [
    "## Merging \n",
    "* **Goal**: Your manager asks you to aggregate the dataframe by the Caltrans District grain to find\n",
    "    * Median overall score\n",
    "    * Max overall score \n",
    "    * Min overall score\n",
    "    * Number of unique projects\n",
    "* Annoyingly enough, the `overall_score` column and the `ct_district` are in two different dataframes. \n",
    "* You'll have to <b>merge</b> the dataframes on the common column(s) the two dataframes share.\n",
    "* Welcome to DDS! This will happen to you all the time starting now. \n",
    "\n",
    "### Relevant Resources\n",
    "* Read about and practice merges before continuing on the exercise. \n",
    "    * [Resource #1 is a great tutorial for beginners](https://www.practicalpythonfordatascience.com/03_cleaning_data.html?highlight=merge#merging-dataframes-together).\n",
    "    * [Resource #2 is written by our own Tiffany Ku, but it contains some geospatial references so it's a bit more to digest](https://docs.calitp.org/data-infra/analytics_new_analysts/01-data-analysis-intro.html#merge-tabular-and-geospatial-data-for-data-analysis).\n",
    "    "
   ]
  },
  {
   "cell_type": "code",
   "execution_count": null,
   "id": "2d356494-a12a-4f67-beb3-b6ba92c8135f",
   "metadata": {},
   "outputs": [],
   "source": [
    "# Practice Here"
   ]
  },
  {
   "cell_type": "code",
   "execution_count": null,
   "id": "8243ee66-6442-425e-be74-6c2aea7f122c",
   "metadata": {},
   "outputs": [],
   "source": [
    "score.head(2)"
   ]
  },
  {
   "cell_type": "code",
   "execution_count": null,
   "id": "727f18a8-8c41-46a8-a2f4-502a6a7ff401",
   "metadata": {},
   "outputs": [],
   "source": [
    "project.head(2)"
   ]
  },
  {
   "cell_type": "markdown",
   "id": "e60cf03f-6de0-4b30-b879-080c9ab7a22f",
   "metadata": {},
   "source": [
    "### Now merge your two CSIS dataframes\n",
    "**Food for Thought**\n",
    "* Which columns do the two dataframes have in common?\n",
    "* What type of merge will achieve my goal?\n",
    "    * Inner, outer, left, or right?\n",
    "* What do I expect out of the merge?\n",
    "    * Do I expect all the values of the merge keys to be 1:1? Or m:1? \n",
    "    * Do I expect a project to correspond with multiple districts? Maybe, projects can and do cross multiple boundaries.\n",
    "    * Do I expect a project to correspond with only one total cost estimate value? Yes, there shouldn't be multiple cost estimates for the same project!\n",
    "* How do I go about checking the data after the merge?\n",
    "    * Which arguments are available to help me per the [docs](https://pandas.pydata.org/pandas-docs/stable/reference/api/pandas.DataFrame.merge.html)?"
   ]
  },
  {
   "cell_type": "markdown",
   "id": "8ddf0077-061c-4d67-8881-36c9792d6e62",
   "metadata": {},
   "source": [
    "### Double Checking\n",
    "* How many rows do you expect?\n",
    "* How many unique projects are there? \n",
    "* <b>Hint</b>: check the lengths of your original dataframes as well"
   ]
  },
  {
   "cell_type": "markdown",
   "id": "94e866f0-bc46-43d3-92b7-dce71dc31c02",
   "metadata": {},
   "source": [
    "### The Beauty of Outer Joins \n",
    "* As you have noticed, we are missing a couple of projects.\n",
    "* This is where `outer` joins are very useful.\n",
    "* Merge your dataframes again using an `outer` join and with `indicator = True` on.\n",
    "    * `m2 = pd.merge(df1, df2, on=[column], indicator=True, how=\"outer\")`\n",
    "* Using `.value_counts()` on the column named `_merge` created by `indicator=True` to check out how many rows are found in both dataframes, the left only, and the right only"
   ]
  },
  {
   "cell_type": "code",
   "execution_count": 5,
   "id": "dcfb00b5-a08a-49b2-8978-e42abf4538fe",
   "metadata": {},
   "outputs": [],
   "source": [
    "m = pd.merge(project, score, on='project_name', indicator=True, how=\"outer\", validate = 'm:1')\n",
    "#m.head(2)"
   ]
  },
  {
   "cell_type": "code",
   "execution_count": 6,
   "id": "53037576-3d4f-4a95-8f18-41b38b555992",
   "metadata": {},
   "outputs": [
    {
     "data": {
      "text/plain": [
       "(47, 20)"
      ]
     },
     "execution_count": 6,
     "metadata": {},
     "output_type": "execute_result"
    }
   ],
   "source": [
    "m.shape"
   ]
  },
  {
   "cell_type": "code",
   "execution_count": 7,
   "id": "546015af-1c7f-4e7f-b758-1aa47af3d893",
   "metadata": {},
   "outputs": [
    {
     "data": {
      "text/plain": [
       "both          41\n",
       "left_only      3\n",
       "right_only     3\n",
       "Name: _merge, dtype: int64"
      ]
     },
     "execution_count": 7,
     "metadata": {},
     "output_type": "execute_result"
    }
   ],
   "source": [
    "m._merge.value_counts()"
   ]
  },
  {
   "cell_type": "markdown",
   "id": "aa04599b-805e-4813-ab1a-c4b9fe77cc9e",
   "metadata": {},
   "source": [
    "### Filtering\n",
    "* Filter out for only the `left_only` and `right_only` values.\n",
    "    * `!=` means does not equal to. \n",
    "    * `==` means equal to."
   ]
  },
  {
   "cell_type": "code",
   "execution_count": null,
   "id": "97144120-29b6-4948-aa68-736ddbeb8d38",
   "metadata": {},
   "outputs": [],
   "source": []
  },
  {
   "cell_type": "markdown",
   "id": "044330d9-8562-4510-ae62-268f240ec3bc",
   "metadata": {},
   "source": [
    "* You could also use `isin([list of elements you want to keep])` to retain multiple elements you want."
   ]
  },
  {
   "cell_type": "code",
   "execution_count": 8,
   "id": "121e64fa-cf65-4a3b-9a53-43994223d150",
   "metadata": {},
   "outputs": [
    {
     "data": {
      "text/plain": [
       "(3, 20)"
      ]
     },
     "execution_count": 8,
     "metadata": {},
     "output_type": "execute_result"
    }
   ],
   "source": [
    "keep_left = [\"left_only\"]\n",
    "m_left = m[m._merge.isin(keep_left)]\n",
    "#m_left.head()\n",
    "m_left.shape"
   ]
  },
  {
   "cell_type": "code",
   "execution_count": 9,
   "id": "a24d8e38-b642-4e27-9041-4ff339e2c454",
   "metadata": {},
   "outputs": [
    {
     "data": {
      "text/plain": [
       "(3, 20)"
      ]
     },
     "execution_count": 9,
     "metadata": {},
     "output_type": "execute_result"
    }
   ],
   "source": [
    "keep_right = [\"right_only\"]\n",
    "m_right = m[m._merge.isin(keep_right)]\n",
    "#m_right.head()\n",
    "m_right.shape"
   ]
  },
  {
   "cell_type": "markdown",
   "id": "1c2b7437-f767-497c-a53a-26aeef9a3b0f",
   "metadata": {},
   "source": [
    "* If you want to filter out multiple elements use `~df.column.isin([list of elements you don't want to keep])`"
   ]
  },
  {
   "cell_type": "code",
   "execution_count": 10,
   "id": "a1ffc2fe-e611-4cd1-8491-957a8f50b523",
   "metadata": {},
   "outputs": [
    {
     "data": {
      "text/plain": [
       "(47,)"
      ]
     },
     "execution_count": 10,
     "metadata": {},
     "output_type": "execute_result"
    }
   ],
   "source": [
    "# ??? Is this for deleting multiple columns. not rows???\n",
    "test_left = ~m._merge.isin(['both', 'right'])\n",
    "test_left.shape"
   ]
  },
  {
   "cell_type": "markdown",
   "id": "e0a6bd58-734e-4f96-b150-9a53bef7d1aa",
   "metadata": {
    "jp-MarkdownHeadingCollapsed": true,
    "tags": []
   },
   "source": [
    "### Dictionaries\n",
    "* String data is often entered in many different ways. \n",
    "    * BART can be entered in as bart, Bay Area Rapid Transit, BaRT, and more. \n",
    "* Often, differing strings between two dataframes are the reason why your dataframe is not merging properly.\n",
    "* In Excel, it's easy to go in and manually tweak everything. However, that is not reproducible and time consuming. \n",
    "* Luckily with Python we can automate this. \n",
    "* Since there are only a couple of names to replace, we can do it using a <b>dictionary</b>.\n",
    "\n",
    "#### What is a dictionary?\n",
    "* Per Practical Python for Data Science, a dictionary is <i>Dictionaries are used to store data values in key:value pairs. Similar to the list, a dictionary is a collection of objects. It is also mutable, meaning that you can add, remove, change values inside of it...With the list, we access elements using the index. With the dictionary, we access elements using keys.</i>\n",
    "* Dictionaries are very important.\n",
    "* Read more [here](https://www.practicalpythonfordatascience.com/00_python_crash_course_datatypes.html?highlight=dictionary#dictionary) and **follow its example in the cells below.**\n",
    "    "
   ]
  },
  {
   "cell_type": "code",
   "execution_count": null,
   "id": "df6fa95e-cc25-4142-8c2b-ee254863e609",
   "metadata": {},
   "outputs": [],
   "source": [
    "# Practice Here"
   ]
  },
  {
   "cell_type": "markdown",
   "id": "76e42f11-fdcb-48f3-8951-2f2cea0384c0",
   "metadata": {},
   "source": [
    "#### Application of Dictionaries: Replacing Values\n",
    "* [Resource](https://www.practicalpythonfordatascience.com/03_cleaning_data#recoding-column-values)\n",
    "* **Step 1**: Filter out for the rows that <b>didn't</b> merge. Find the unique values of the `project_name` column using `.unique()`\n",
    "* Take a look at elements using \n",
    "    * Trailing white spaces\n",
    "    * Capitalization\n",
    "    * Spelling\n",
    "    * Symbols"
   ]
  },
  {
   "cell_type": "code",
   "execution_count": null,
   "id": "ec0a9021-0dc1-4dbc-8617-98f6056daaed",
   "metadata": {},
   "outputs": [],
   "source": [
    "#df_filtered['neighborhood'] = df_filtered['neighborhood'].apply(lambda x: x.title())\n",
    "\n",
    "#neighborhood = 'ALPHABET CITY'\n",
    "#print(f\"neighborhood.title() : {neighborhood.title()}\")\n",
    "#print(f\"neighborhood.capitalize() : {neighborhood.capitalize()}\")"
   ]
  },
  {
   "cell_type": "code",
   "execution_count": 11,
   "id": "c1b671d0-184e-4bb1-9612-38192ead4265",
   "metadata": {},
   "outputs": [
    {
     "data": {
      "text/plain": [
       "47"
      ]
     },
     "execution_count": 11,
     "metadata": {},
     "output_type": "execute_result"
    }
   ],
   "source": [
    "m.project_name.nunique()"
   ]
  },
  {
   "cell_type": "code",
   "execution_count": 12,
   "id": "5cdc18c4-2312-41ae-a027-8c0fe164018b",
   "metadata": {},
   "outputs": [],
   "source": [
    "keep_row = [\"right_only\", \"left_only\"]\n",
    "m_keep = m[m._merge.isin(keep_row)]"
   ]
  },
  {
   "cell_type": "code",
   "execution_count": 13,
   "id": "8a163659-2039-423d-99fb-159bb4a7af5f",
   "metadata": {},
   "outputs": [
    {
     "data": {
      "text/plain": [
       "array(['Rainbow Rush hot  Lanes', 'Bunny Lane HOV+2 heaven',\n",
       "       'main street muffin top ', 'Rainbow Rush HOT Lanes',\n",
       "       'Bunny Lane HOV+2 Haven', 'Main Street Muffin Top Revitalization'],\n",
       "      dtype=object)"
      ]
     },
     "execution_count": 13,
     "metadata": {},
     "output_type": "execute_result"
    }
   ],
   "source": [
    "# method 1\n",
    "m_keep.project_name.unique()"
   ]
  },
  {
   "cell_type": "code",
   "execution_count": null,
   "id": "66019455-ef49-42a3-8977-34e87e84a503",
   "metadata": {},
   "outputs": [],
   "source": [
    "# method 2\n",
    "keep_col = ['project_name', '_merge']\n",
    "m_keep = m_keep[keep_col]\n",
    "\n",
    "#m_keep.shape\n",
    "m_keep.head(6)"
   ]
  },
  {
   "cell_type": "markdown",
   "id": "21f38614-3b49-45fd-97f6-7161a59ab367",
   "metadata": {},
   "source": [
    "* **Step 2:** Decide whether you want to rename the values in the left dataframe or the right one. \n",
    "* **Step 3:** The <b>keys</b>, are the values you want to replace. The <b>values</b>, are what you want to replace these values with. \n",
    "    * Let's say my left value is \"AC Transit\" but I want it to be \"Alameda Contra Costa County Transit\", my dictionary would be \n",
    "    * `my_dict = {\"AC Transit\":\"Alameda Contra Costa County Transit\"}`"
   ]
  },
  {
   "cell_type": "code",
   "execution_count": 14,
   "id": "9dad92fe-87a6-434d-a62f-d269f3ad1054",
   "metadata": {},
   "outputs": [],
   "source": [
    "my_dict = {\"Rainbow Rush hot  Lanes\":\"Rainbow Rush HOT Lanes\",\n",
    "           \"Bunny Lane HOV+2 heaven\":\"Bunny Lane HOV+2 Haven\",\n",
    "          \"main street muffin top \":\"Main Street Muffin Top Revitalization\"}"
   ]
  },
  {
   "cell_type": "markdown",
   "id": "abe24864-66bd-4ce4-bb46-38a13c8bb64a",
   "metadata": {},
   "source": [
    "* **Step 4**: Use your dictionary in `.replace()` to recode the values."
   ]
  },
  {
   "cell_type": "code",
   "execution_count": 15,
   "id": "7d8205a4-fa95-4a49-9c1f-14417d744003",
   "metadata": {},
   "outputs": [],
   "source": [
    "project.project_name = project.project_name.replace(my_dict)"
   ]
  },
  {
   "cell_type": "code",
   "execution_count": null,
   "id": "d8532992-771e-446a-b419-55ad757ff45f",
   "metadata": {},
   "outputs": [],
   "source": [
    "#df.project_name = df.project_name.replace(your_dictionary)"
   ]
  },
  {
   "cell_type": "code",
   "execution_count": null,
   "id": "7a88b8cf-3eae-4633-b42e-f73015f35a73",
   "metadata": {},
   "outputs": [],
   "source": [
    "project.project_name.value_counts()"
   ]
  },
  {
   "cell_type": "markdown",
   "id": "68562b10-b9bd-4892-8780-a66cad1a06d4",
   "metadata": {},
   "source": [
    "#### Merge your dataframes again. \n",
    "* This time the number of unique project names should match the rows of the merged dataframe perfectly.\n",
    "* Make sure to double check that!"
   ]
  },
  {
   "cell_type": "code",
   "execution_count": 16,
   "id": "db09aa04-7a94-4b94-9ade-10b1a987e006",
   "metadata": {},
   "outputs": [
    {
     "data": {
      "text/plain": [
       "(44, 20)"
      ]
     },
     "execution_count": 16,
     "metadata": {},
     "output_type": "execute_result"
    }
   ],
   "source": [
    "m2 = pd.merge(project, score, on='project_name', indicator=True, how=\"outer\", validate = '1:1')\n",
    "#m2.head(2)\n",
    "m2.shape"
   ]
  },
  {
   "cell_type": "code",
   "execution_count": null,
   "id": "39d74f54-a72b-4acc-91b0-b3dcb4539a92",
   "metadata": {},
   "outputs": [],
   "source": []
  },
  {
   "cell_type": "markdown",
   "id": "3965dc2d-9603-4a95-a1fd-ef0b7a80eaaa",
   "metadata": {},
   "source": [
    "#### Save this dataframe as a parquet to GCS under a new name\n",
    "* Use a `f-string`"
   ]
  },
  {
   "cell_type": "code",
   "execution_count": 17,
   "id": "70410a43-62c9-467c-b777-3415f22abe01",
   "metadata": {},
   "outputs": [],
   "source": [
    "FOLDER = \"../starter_kit/\"\n",
    "FILE_NAME = \"merged.parquet\"\n",
    "\n",
    "m2.to_parquet(f\"{FOLDER}{FILE_NAME}\")"
   ]
  },
  {
   "cell_type": "code",
   "execution_count": 18,
   "id": "637db084-6e9f-4907-b172-bd8e8fb0fde3",
   "metadata": {},
   "outputs": [
    {
     "data": {
      "text/html": [
       "<div>\n",
       "<style scoped>\n",
       "    .dataframe tbody tr th:only-of-type {\n",
       "        vertical-align: middle;\n",
       "    }\n",
       "\n",
       "    .dataframe tbody tr th {\n",
       "        vertical-align: top;\n",
       "    }\n",
       "\n",
       "    .dataframe thead th {\n",
       "        text-align: right;\n",
       "    }\n",
       "</style>\n",
       "<table border=\"1\" class=\"dataframe\">\n",
       "  <thead>\n",
       "    <tr style=\"text-align: right;\">\n",
       "      <th></th>\n",
       "      <th>ct_district</th>\n",
       "      <th>project_name</th>\n",
       "      <th>scope_of_work</th>\n",
       "      <th>project_cost</th>\n",
       "      <th>lead_agency</th>\n",
       "      <th>accessibility_score</th>\n",
       "      <th>dac_accessibility_score</th>\n",
       "      <th>dac_traffic_impacts_score</th>\n",
       "      <th>freight_efficiency_score</th>\n",
       "      <th>freight_sustainability_score</th>\n",
       "      <th>mode_shift_score</th>\n",
       "      <th>lu_natural_resources_score</th>\n",
       "      <th>safety_score</th>\n",
       "      <th>vmt_score</th>\n",
       "      <th>zev_score</th>\n",
       "      <th>public_engagement_score</th>\n",
       "      <th>climate_resilience_score</th>\n",
       "      <th>program_fit_score</th>\n",
       "      <th>overall_score</th>\n",
       "      <th>_merge</th>\n",
       "    </tr>\n",
       "  </thead>\n",
       "  <tbody>\n",
       "    <tr>\n",
       "      <th>0</th>\n",
       "      <td>8</td>\n",
       "      <td>Meadow Magic Multi-Use Path</td>\n",
       "      <td>A 2-mile Class I bike lane and multi-use path through a scenic meadow, featuring wildflower plantings, public art installations, and educational signage highlighting local wildlife.</td>\n",
       "      <td>4189348</td>\n",
       "      <td>Meadow Bunny Public Transportation (MBPT)</td>\n",
       "      <td>10</td>\n",
       "      <td>6</td>\n",
       "      <td>1</td>\n",
       "      <td>5</td>\n",
       "      <td>9</td>\n",
       "      <td>7</td>\n",
       "      <td>5</td>\n",
       "      <td>2</td>\n",
       "      <td>9</td>\n",
       "      <td>5</td>\n",
       "      <td>8</td>\n",
       "      <td>7</td>\n",
       "      <td>8</td>\n",
       "      <td>82</td>\n",
       "      <td>both</td>\n",
       "    </tr>\n",
       "    <tr>\n",
       "      <th>1</th>\n",
       "      <td>2</td>\n",
       "      <td>Bunny Hop Bike Boulevard</td>\n",
       "      <td>A Class II bike lane with charming streetlights, benches, and bike racks designed to resemble carrot sticks, connecting residential neighborhoods to local schools and parks.</td>\n",
       "      <td>8647685</td>\n",
       "      <td>Unicorn Fairy Express Bus (UFX)</td>\n",
       "      <td>2</td>\n",
       "      <td>3</td>\n",
       "      <td>1</td>\n",
       "      <td>6</td>\n",
       "      <td>5</td>\n",
       "      <td>3</td>\n",
       "      <td>9</td>\n",
       "      <td>7</td>\n",
       "      <td>5</td>\n",
       "      <td>8</td>\n",
       "      <td>2</td>\n",
       "      <td>9</td>\n",
       "      <td>5</td>\n",
       "      <td>65</td>\n",
       "      <td>both</td>\n",
       "    </tr>\n",
       "  </tbody>\n",
       "</table>\n",
       "</div>"
      ],
      "text/plain": [
       "   ct_district                 project_name  \\\n",
       "0            8  Meadow Magic Multi-Use Path   \n",
       "1            2     Bunny Hop Bike Boulevard   \n",
       "\n",
       "                                                                                                                                                                            scope_of_work  \\\n",
       "0   A 2-mile Class I bike lane and multi-use path through a scenic meadow, featuring wildflower plantings, public art installations, and educational signage highlighting local wildlife.   \n",
       "1           A Class II bike lane with charming streetlights, benches, and bike racks designed to resemble carrot sticks, connecting residential neighborhoods to local schools and parks.   \n",
       "\n",
       "   project_cost                                lead_agency  \\\n",
       "0       4189348  Meadow Bunny Public Transportation (MBPT)   \n",
       "1       8647685            Unicorn Fairy Express Bus (UFX)   \n",
       "\n",
       "   accessibility_score  dac_accessibility_score  dac_traffic_impacts_score  \\\n",
       "0                   10                        6                          1   \n",
       "1                    2                        3                          1   \n",
       "\n",
       "   freight_efficiency_score  freight_sustainability_score  mode_shift_score  \\\n",
       "0                         5                             9                 7   \n",
       "1                         6                             5                 3   \n",
       "\n",
       "   lu_natural_resources_score  safety_score  vmt_score  zev_score  \\\n",
       "0                           5             2          9          5   \n",
       "1                           9             7          5          8   \n",
       "\n",
       "   public_engagement_score  climate_resilience_score  program_fit_score  \\\n",
       "0                        8                         7                  8   \n",
       "1                        2                         9                  5   \n",
       "\n",
       "   overall_score _merge  \n",
       "0             82   both  \n",
       "1             65   both  "
      ]
     },
     "execution_count": 18,
     "metadata": {},
     "output_type": "execute_result"
    }
   ],
   "source": [
    "m2.head(2)"
   ]
  },
  {
   "cell_type": "markdown",
   "id": "8231c525-ec3a-4e91-b378-1ca51a5f4de8",
   "metadata": {},
   "source": [
    "## Groupby\n",
    "* You're done merging...Oh wait, that wasn't even part of your manager's request. You still need to aggregate. \n",
    "* By Caltrans District to find\n",
    "    * Median overall score\n",
    "    * Max overall score \n",
    "    * Min overall score\n",
    "    * Number of unique projects\n",
    "* There are many options Some are `groupby / agg`, `pivot_table`, `groupby / transform`\n",
    "* <b>Resource</b>: \n",
    "    * [DDS Docs](https://docs.calitp.org/data-infra/analytics_new_analysts/01-data-analysis-intro.html#aggregating)"
   ]
  },
  {
   "cell_type": "code",
   "execution_count": null,
   "id": "02f34bdf-3c17-4674-bdf0-f9982e7fac0a",
   "metadata": {},
   "outputs": [],
   "source": [
    "# Practice tutorial linked above here"
   ]
  },
  {
   "cell_type": "markdown",
   "id": "849f8fc8-b356-4169-9398-dafd72956afe",
   "metadata": {},
   "source": [
    "### Apply your new knowledge to the prompt above.\n",
    "* Hint: After aggregating, some of the column names will no longer be relevant. \n",
    "* For example, if you use `scope_of_work` to count the number of projects, this column no longer represents `scope_of_work`.\n",
    "* It should be renamed something like `n_projects`.\n",
    "* Rename your columns using this `df.rename(columns={\"old_column_name\":\"new_column_name\"})`"
   ]
  },
  {
   "cell_type": "code",
   "execution_count": 63,
   "id": "70178e81-0d11-4d19-9001-96e466d6dced",
   "metadata": {},
   "outputs": [],
   "source": [
    "pivot = (m2.groupby(['ct_district'])\n",
    "        .agg({'overall_score': ['median', 'max', 'min'], \n",
    "              'project_name': 'count'}\n",
    "             ).reset_index()\n",
    "        )"
   ]
  },
  {
   "cell_type": "code",
   "execution_count": 64,
   "id": "6e63770f-5095-420d-8910-29b7d9790ee0",
   "metadata": {},
   "outputs": [
    {
     "name": "stdout",
     "output_type": "stream",
     "text": [
      "   ct_district overall_score         project_name\n",
      "                      median max min        count\n",
      "0            2         64.50  79  61            6\n",
      "1            3         76.00  92  60            2\n",
      "2            4         76.00  78  66            5\n",
      "3            5         74.00  86  63            6\n",
      "4            6         76.00  76  76            1\n",
      "5            7         78.00  93  68            5\n",
      "6            8         74.50  82  64            4\n",
      "7            9         67.00  71  63            2\n",
      "8           10         65.00  72  65            3\n",
      "9           11         68.00  88  56            8\n",
      "10          12         62.00  68  56            2\n"
     ]
    }
   ],
   "source": [
    "print(pivot)"
   ]
  },
  {
   "cell_type": "code",
   "execution_count": null,
   "id": "ff1c4fb8-43d8-4b4d-8931-a75eedc14f5e",
   "metadata": {},
   "outputs": [],
   "source": [
    "#pivot.rename(columns={\"project_name\":\"number_of_projects\"})"
   ]
  },
  {
   "cell_type": "code",
   "execution_count": 72,
   "id": "fc96c572-bea0-45e0-afa8-0a4c054991b4",
   "metadata": {},
   "outputs": [
    {
     "name": "stdout",
     "output_type": "stream",
     "text": [
      "0     6\n",
      "1     2\n",
      "2     5\n",
      "3     6\n",
      "4     1\n",
      "5     5\n",
      "6     4\n",
      "7     2\n",
      "8     3\n",
      "9     8\n",
      "10    2\n",
      "Name: (project_name, count), dtype: int64\n"
     ]
    }
   ],
   "source": [
    "# How to read sub column\n",
    "print(pivot[\"project_name\", \"count\"])"
   ]
  },
  {
   "cell_type": "markdown",
   "id": "452b850a-7e15-473f-93d8-0133d496fa96",
   "metadata": {},
   "source": [
    "## Visualizing \n",
    "* You're done aggregating, but the dataframe looks objectively plain.\n",
    "* Let's explore a couple of ways to present your data."
   ]
  },
  {
   "cell_type": "markdown",
   "id": "ba703a21-6e54-4667-8607-d4b8900f6371",
   "metadata": {},
   "source": [
    "### Styling a Dataframe\n",
    "* `pandas` has quite a few options that allow you to style your dataframe.\n",
    "* [This tutorial](https://betterdatascience.com/style-pandas-dataframes/) offers some great ways to jazz up your dataframe.\n",
    "* You can always read the [pandas documentation](https://pandas.pydata.org/pandas-docs/stable/user_guide/style.html) for more ideas.\n",
    "* Some ideas:\n",
    "    * Change the font\n",
    "    * Turn off the index\n",
    "    * Use colors to code low-high values\n",
    "    * Change the alignment of the values"
   ]
  },
  {
   "cell_type": "code",
   "execution_count": null,
   "id": "a0d8b97b-0f34-495a-8dfb-61642c44879a",
   "metadata": {},
   "outputs": [],
   "source": [
    "# Practice here "
   ]
  },
  {
   "cell_type": "markdown",
   "id": "c251617a-1936-4df1-b461-cc63f4be5e37",
   "metadata": {},
   "source": [
    "### Altair\n",
    "* While a table is great, sometimes a chart is a better way to display an insight.\n",
    "* Our preferred visualization library is `Altair`.\n",
    "    * Docs page is [here](https://altair-viz.github.io/).\n",
    "* The code to create a simple bar chart goes something like this. \n",
    "    * `alt.Chart(source).mark_bar().encode(x='a',y='b')`\n",
    "    * `source` is the dataframe you want to use for your chart.\n",
    "    * `x` denotes the column you are plotting on the X-axis. Make sure your column name has quotation marks around it. \n",
    "    * `y` denotes the column you are plotting on the Y-axis. \n",
    "* <b>Make your first chart below.</b>"
   ]
  },
  {
   "cell_type": "code",
   "execution_count": 101,
   "id": "fdcece32-d053-4b32-9e76-0f5ffed9ff52",
   "metadata": {},
   "outputs": [
    {
     "ename": "SyntaxError",
     "evalue": "invalid syntax (3015660896.py, line 1)",
     "output_type": "error",
     "traceback": [
      "\u001b[0;36m  Cell \u001b[0;32mIn[101], line 1\u001b[0;36m\u001b[0m\n\u001b[0;31m    alt.Chart(pivot).mark_bar().encode(x=\"ct_district\", y= \"[\"project_name\", \"count\"]\")\u001b[0m\n\u001b[0m                                                              ^\u001b[0m\n\u001b[0;31mSyntaxError\u001b[0m\u001b[0;31m:\u001b[0m invalid syntax\n"
     ]
    }
   ],
   "source": [
    "alt.Chart(pivot).mark_bar().encode(x=\"ct_district\", y= \"[\"project_name\", \"count\"]\")"
   ]
  },
  {
   "cell_type": "code",
   "execution_count": null,
   "id": "85e9f8e7-3175-462f-82b9-d8d76417176a",
   "metadata": {},
   "outputs": [],
   "source": []
  },
  {
   "cell_type": "code",
   "execution_count": null,
   "id": "30f0d169-ec8d-495b-a936-91c784d5fff5",
   "metadata": {},
   "outputs": [],
   "source": []
  },
  {
   "cell_type": "code",
   "execution_count": null,
   "id": "2420c465-0ec1-4640-9a85-095c50e6d955",
   "metadata": {},
   "outputs": [],
   "source": []
  },
  {
   "cell_type": "code",
   "execution_count": 105,
   "id": "5b5e2235-e936-42f9-98dd-d335504d87aa",
   "metadata": {},
   "outputs": [],
   "source": [
    "pivot_median = (m2.groupby(['ct_district'])\n",
    "        .agg({'overall_score': 'median', \n",
    "              'project_name': 'count'}\n",
    "             ).reset_index()\n",
    "        )\n",
    "pivot_median = pivot_median.rename(columns={\"project_name\": \"number_of_projects\",\n",
    "                             \"overall_score\": \"median\"})\n",
    "print(pivot_median)"
   ]
  },
  {
   "cell_type": "code",
   "execution_count": 113,
   "id": "0303f4b3-1a37-4238-9875-9bc955166ce8",
   "metadata": {},
   "outputs": [
    {
     "data": {
      "text/html": [
       "\n",
       "<style>\n",
       "  #altair-viz-bbc50d90614946f1a25c397d37eaed6b.vega-embed {\n",
       "    width: 100%;\n",
       "    display: flex;\n",
       "  }\n",
       "\n",
       "  #altair-viz-bbc50d90614946f1a25c397d37eaed6b.vega-embed details,\n",
       "  #altair-viz-bbc50d90614946f1a25c397d37eaed6b.vega-embed details summary {\n",
       "    position: relative;\n",
       "  }\n",
       "</style>\n",
       "<div id=\"altair-viz-bbc50d90614946f1a25c397d37eaed6b\"></div>\n",
       "<script type=\"text/javascript\">\n",
       "  var VEGA_DEBUG = (typeof VEGA_DEBUG == \"undefined\") ? {} : VEGA_DEBUG;\n",
       "  (function(spec, embedOpt){\n",
       "    let outputDiv = document.currentScript.previousElementSibling;\n",
       "    if (outputDiv.id !== \"altair-viz-bbc50d90614946f1a25c397d37eaed6b\") {\n",
       "      outputDiv = document.getElementById(\"altair-viz-bbc50d90614946f1a25c397d37eaed6b\");\n",
       "    }\n",
       "    const paths = {\n",
       "      \"vega\": \"https://cdn.jsdelivr.net/npm/vega@5?noext\",\n",
       "      \"vega-lib\": \"https://cdn.jsdelivr.net/npm/vega-lib?noext\",\n",
       "      \"vega-lite\": \"https://cdn.jsdelivr.net/npm/vega-lite@5.14.1?noext\",\n",
       "      \"vega-embed\": \"https://cdn.jsdelivr.net/npm/vega-embed@6?noext\",\n",
       "    };\n",
       "\n",
       "    function maybeLoadScript(lib, version) {\n",
       "      var key = `${lib.replace(\"-\", \"\")}_version`;\n",
       "      return (VEGA_DEBUG[key] == version) ?\n",
       "        Promise.resolve(paths[lib]) :\n",
       "        new Promise(function(resolve, reject) {\n",
       "          var s = document.createElement('script');\n",
       "          document.getElementsByTagName(\"head\")[0].appendChild(s);\n",
       "          s.async = true;\n",
       "          s.onload = () => {\n",
       "            VEGA_DEBUG[key] = version;\n",
       "            return resolve(paths[lib]);\n",
       "          };\n",
       "          s.onerror = () => reject(`Error loading script: ${paths[lib]}`);\n",
       "          s.src = paths[lib];\n",
       "        });\n",
       "    }\n",
       "\n",
       "    function showError(err) {\n",
       "      outputDiv.innerHTML = `<div class=\"error\" style=\"color:red;\">${err}</div>`;\n",
       "      throw err;\n",
       "    }\n",
       "\n",
       "    function displayChart(vegaEmbed) {\n",
       "      vegaEmbed(outputDiv, spec, embedOpt)\n",
       "        .catch(err => showError(`Javascript Error: ${err.message}<br>This usually means there's a typo in your chart specification. See the javascript console for the full traceback.`));\n",
       "    }\n",
       "\n",
       "    if(typeof define === \"function\" && define.amd) {\n",
       "      requirejs.config({paths});\n",
       "      require([\"vega-embed\"], displayChart, err => showError(`Error loading script: ${err.message}`));\n",
       "    } else {\n",
       "      maybeLoadScript(\"vega\", \"5\")\n",
       "        .then(() => maybeLoadScript(\"vega-lite\", \"5.14.1\"))\n",
       "        .then(() => maybeLoadScript(\"vega-embed\", \"6\"))\n",
       "        .catch(showError)\n",
       "        .then(() => displayChart(vegaEmbed));\n",
       "    }\n",
       "  })({\"config\": {\"view\": {\"continuousWidth\": 300, \"continuousHeight\": 300}}, \"data\": {\"name\": \"data-9b04d3590f74ac1a3c351c2b684fca70\"}, \"mark\": {\"type\": \"bar\"}, \"encoding\": {\"x\": {\"field\": \"ct_district\", \"type\": \"quantitative\"}, \"y\": {\"field\": \"number_of_projects\", \"type\": \"quantitative\"}}, \"$schema\": \"https://vega.github.io/schema/vega-lite/v5.14.1.json\", \"datasets\": {\"data-9b04d3590f74ac1a3c351c2b684fca70\": [{\"ct_district\": 2, \"median\": 64.5, \"number_of_projects\": 6}, {\"ct_district\": 3, \"median\": 76.0, \"number_of_projects\": 2}, {\"ct_district\": 4, \"median\": 76.0, \"number_of_projects\": 5}, {\"ct_district\": 5, \"median\": 74.0, \"number_of_projects\": 6}, {\"ct_district\": 6, \"median\": 76.0, \"number_of_projects\": 1}, {\"ct_district\": 7, \"median\": 78.0, \"number_of_projects\": 5}, {\"ct_district\": 8, \"median\": 74.5, \"number_of_projects\": 4}, {\"ct_district\": 9, \"median\": 67.0, \"number_of_projects\": 2}, {\"ct_district\": 10, \"median\": 65.0, \"number_of_projects\": 3}, {\"ct_district\": 11, \"median\": 68.0, \"number_of_projects\": 8}, {\"ct_district\": 12, \"median\": 62.0, \"number_of_projects\": 2}]}}, {\"mode\": \"vega-lite\"});\n",
       "</script>"
      ],
      "text/plain": [
       "alt.Chart(...)"
      ]
     },
     "execution_count": 113,
     "metadata": {},
     "output_type": "execute_result"
    }
   ],
   "source": [
    "alt.Chart(pivot_median).mark_bar().encode(x=\"ct_district\", y= \"number_of_projects\")"
   ]
  },
  {
   "cell_type": "markdown",
   "id": "ff3cf65e-174c-4ee2-bdc3-ca07f3bb951f",
   "metadata": {},
   "source": [
    "#### Customizing\n",
    "* `altair` offers an endless ways to amp up the personality of your chart.\n",
    "* Additionally, the chart above without a title and legend is a data visualization \"taboo\" and the dull blue is uninspiring. \n",
    "\n",
    "#### Add a title\n",
    "* You can do so within  `.Chart()`\n",
    "`alt.Chart(source,  title=\"your_title_here\").mark_bar().encode(x='a',y='b')`"
   ]
  },
  {
   "cell_type": "code",
   "execution_count": 115,
   "id": "fc691315-e545-4120-971e-7a8f295a7c19",
   "metadata": {},
   "outputs": [
    {
     "data": {
      "text/html": [
       "\n",
       "<style>\n",
       "  #altair-viz-ea5964429b4c4afb90e060d377397f4e.vega-embed {\n",
       "    width: 100%;\n",
       "    display: flex;\n",
       "  }\n",
       "\n",
       "  #altair-viz-ea5964429b4c4afb90e060d377397f4e.vega-embed details,\n",
       "  #altair-viz-ea5964429b4c4afb90e060d377397f4e.vega-embed details summary {\n",
       "    position: relative;\n",
       "  }\n",
       "</style>\n",
       "<div id=\"altair-viz-ea5964429b4c4afb90e060d377397f4e\"></div>\n",
       "<script type=\"text/javascript\">\n",
       "  var VEGA_DEBUG = (typeof VEGA_DEBUG == \"undefined\") ? {} : VEGA_DEBUG;\n",
       "  (function(spec, embedOpt){\n",
       "    let outputDiv = document.currentScript.previousElementSibling;\n",
       "    if (outputDiv.id !== \"altair-viz-ea5964429b4c4afb90e060d377397f4e\") {\n",
       "      outputDiv = document.getElementById(\"altair-viz-ea5964429b4c4afb90e060d377397f4e\");\n",
       "    }\n",
       "    const paths = {\n",
       "      \"vega\": \"https://cdn.jsdelivr.net/npm/vega@5?noext\",\n",
       "      \"vega-lib\": \"https://cdn.jsdelivr.net/npm/vega-lib?noext\",\n",
       "      \"vega-lite\": \"https://cdn.jsdelivr.net/npm/vega-lite@5.14.1?noext\",\n",
       "      \"vega-embed\": \"https://cdn.jsdelivr.net/npm/vega-embed@6?noext\",\n",
       "    };\n",
       "\n",
       "    function maybeLoadScript(lib, version) {\n",
       "      var key = `${lib.replace(\"-\", \"\")}_version`;\n",
       "      return (VEGA_DEBUG[key] == version) ?\n",
       "        Promise.resolve(paths[lib]) :\n",
       "        new Promise(function(resolve, reject) {\n",
       "          var s = document.createElement('script');\n",
       "          document.getElementsByTagName(\"head\")[0].appendChild(s);\n",
       "          s.async = true;\n",
       "          s.onload = () => {\n",
       "            VEGA_DEBUG[key] = version;\n",
       "            return resolve(paths[lib]);\n",
       "          };\n",
       "          s.onerror = () => reject(`Error loading script: ${paths[lib]}`);\n",
       "          s.src = paths[lib];\n",
       "        });\n",
       "    }\n",
       "\n",
       "    function showError(err) {\n",
       "      outputDiv.innerHTML = `<div class=\"error\" style=\"color:red;\">${err}</div>`;\n",
       "      throw err;\n",
       "    }\n",
       "\n",
       "    function displayChart(vegaEmbed) {\n",
       "      vegaEmbed(outputDiv, spec, embedOpt)\n",
       "        .catch(err => showError(`Javascript Error: ${err.message}<br>This usually means there's a typo in your chart specification. See the javascript console for the full traceback.`));\n",
       "    }\n",
       "\n",
       "    if(typeof define === \"function\" && define.amd) {\n",
       "      requirejs.config({paths});\n",
       "      require([\"vega-embed\"], displayChart, err => showError(`Error loading script: ${err.message}`));\n",
       "    } else {\n",
       "      maybeLoadScript(\"vega\", \"5\")\n",
       "        .then(() => maybeLoadScript(\"vega-lite\", \"5.14.1\"))\n",
       "        .then(() => maybeLoadScript(\"vega-embed\", \"6\"))\n",
       "        .catch(showError)\n",
       "        .then(() => displayChart(vegaEmbed));\n",
       "    }\n",
       "  })({\"config\": {\"view\": {\"continuousWidth\": 300, \"continuousHeight\": 300}}, \"data\": {\"name\": \"data-9b04d3590f74ac1a3c351c2b684fca70\"}, \"mark\": {\"type\": \"bar\"}, \"encoding\": {\"x\": {\"field\": \"ct_district\", \"type\": \"quantitative\"}, \"y\": {\"field\": \"number_of_projects\", \"type\": \"quantitative\"}}, \"title\": \"Project Count by District\", \"$schema\": \"https://vega.github.io/schema/vega-lite/v5.14.1.json\", \"datasets\": {\"data-9b04d3590f74ac1a3c351c2b684fca70\": [{\"ct_district\": 2, \"median\": 64.5, \"number_of_projects\": 6}, {\"ct_district\": 3, \"median\": 76.0, \"number_of_projects\": 2}, {\"ct_district\": 4, \"median\": 76.0, \"number_of_projects\": 5}, {\"ct_district\": 5, \"median\": 74.0, \"number_of_projects\": 6}, {\"ct_district\": 6, \"median\": 76.0, \"number_of_projects\": 1}, {\"ct_district\": 7, \"median\": 78.0, \"number_of_projects\": 5}, {\"ct_district\": 8, \"median\": 74.5, \"number_of_projects\": 4}, {\"ct_district\": 9, \"median\": 67.0, \"number_of_projects\": 2}, {\"ct_district\": 10, \"median\": 65.0, \"number_of_projects\": 3}, {\"ct_district\": 11, \"median\": 68.0, \"number_of_projects\": 8}, {\"ct_district\": 12, \"median\": 62.0, \"number_of_projects\": 2}]}}, {\"mode\": \"vega-lite\"});\n",
       "</script>"
      ],
      "text/plain": [
       "alt.Chart(...)"
      ]
     },
     "execution_count": 115,
     "metadata": {},
     "output_type": "execute_result"
    }
   ],
   "source": [
    "alt.Chart(pivot_median, title=\"Project Count by District\").mark_bar().encode(\n",
    "    x=\"ct_district\", y=\"number_of_projects\"\n",
    ")"
   ]
  },
  {
   "cell_type": "markdown",
   "id": "03fa6313-cbf7-4c3a-af76-8012b0a927ef",
   "metadata": {},
   "source": [
    "#### Different Charts\n",
    "* If you want something that isn't a bar chart, simply swap out `.mark_bar()` for `.mark_line` or `mark_circle`.\n"
   ]
  },
  {
   "cell_type": "code",
   "execution_count": 119,
   "id": "9b94c3f2-af01-43d4-9f17-98cd863511a3",
   "metadata": {},
   "outputs": [
    {
     "data": {
      "text/html": [
       "\n",
       "<style>\n",
       "  #altair-viz-c5c5714d4d4a4196b08af491ba6b2d17.vega-embed {\n",
       "    width: 100%;\n",
       "    display: flex;\n",
       "  }\n",
       "\n",
       "  #altair-viz-c5c5714d4d4a4196b08af491ba6b2d17.vega-embed details,\n",
       "  #altair-viz-c5c5714d4d4a4196b08af491ba6b2d17.vega-embed details summary {\n",
       "    position: relative;\n",
       "  }\n",
       "</style>\n",
       "<div id=\"altair-viz-c5c5714d4d4a4196b08af491ba6b2d17\"></div>\n",
       "<script type=\"text/javascript\">\n",
       "  var VEGA_DEBUG = (typeof VEGA_DEBUG == \"undefined\") ? {} : VEGA_DEBUG;\n",
       "  (function(spec, embedOpt){\n",
       "    let outputDiv = document.currentScript.previousElementSibling;\n",
       "    if (outputDiv.id !== \"altair-viz-c5c5714d4d4a4196b08af491ba6b2d17\") {\n",
       "      outputDiv = document.getElementById(\"altair-viz-c5c5714d4d4a4196b08af491ba6b2d17\");\n",
       "    }\n",
       "    const paths = {\n",
       "      \"vega\": \"https://cdn.jsdelivr.net/npm/vega@5?noext\",\n",
       "      \"vega-lib\": \"https://cdn.jsdelivr.net/npm/vega-lib?noext\",\n",
       "      \"vega-lite\": \"https://cdn.jsdelivr.net/npm/vega-lite@5.14.1?noext\",\n",
       "      \"vega-embed\": \"https://cdn.jsdelivr.net/npm/vega-embed@6?noext\",\n",
       "    };\n",
       "\n",
       "    function maybeLoadScript(lib, version) {\n",
       "      var key = `${lib.replace(\"-\", \"\")}_version`;\n",
       "      return (VEGA_DEBUG[key] == version) ?\n",
       "        Promise.resolve(paths[lib]) :\n",
       "        new Promise(function(resolve, reject) {\n",
       "          var s = document.createElement('script');\n",
       "          document.getElementsByTagName(\"head\")[0].appendChild(s);\n",
       "          s.async = true;\n",
       "          s.onload = () => {\n",
       "            VEGA_DEBUG[key] = version;\n",
       "            return resolve(paths[lib]);\n",
       "          };\n",
       "          s.onerror = () => reject(`Error loading script: ${paths[lib]}`);\n",
       "          s.src = paths[lib];\n",
       "        });\n",
       "    }\n",
       "\n",
       "    function showError(err) {\n",
       "      outputDiv.innerHTML = `<div class=\"error\" style=\"color:red;\">${err}</div>`;\n",
       "      throw err;\n",
       "    }\n",
       "\n",
       "    function displayChart(vegaEmbed) {\n",
       "      vegaEmbed(outputDiv, spec, embedOpt)\n",
       "        .catch(err => showError(`Javascript Error: ${err.message}<br>This usually means there's a typo in your chart specification. See the javascript console for the full traceback.`));\n",
       "    }\n",
       "\n",
       "    if(typeof define === \"function\" && define.amd) {\n",
       "      requirejs.config({paths});\n",
       "      require([\"vega-embed\"], displayChart, err => showError(`Error loading script: ${err.message}`));\n",
       "    } else {\n",
       "      maybeLoadScript(\"vega\", \"5\")\n",
       "        .then(() => maybeLoadScript(\"vega-lite\", \"5.14.1\"))\n",
       "        .then(() => maybeLoadScript(\"vega-embed\", \"6\"))\n",
       "        .catch(showError)\n",
       "        .then(() => displayChart(vegaEmbed));\n",
       "    }\n",
       "  })({\"config\": {\"view\": {\"continuousWidth\": 300, \"continuousHeight\": 300}}, \"data\": {\"name\": \"data-9b04d3590f74ac1a3c351c2b684fca70\"}, \"mark\": {\"type\": \"line\"}, \"encoding\": {\"x\": {\"field\": \"ct_district\", \"type\": \"quantitative\"}, \"y\": {\"field\": \"number_of_projects\", \"type\": \"quantitative\"}}, \"title\": \"Project Count by District\", \"$schema\": \"https://vega.github.io/schema/vega-lite/v5.14.1.json\", \"datasets\": {\"data-9b04d3590f74ac1a3c351c2b684fca70\": [{\"ct_district\": 2, \"median\": 64.5, \"number_of_projects\": 6}, {\"ct_district\": 3, \"median\": 76.0, \"number_of_projects\": 2}, {\"ct_district\": 4, \"median\": 76.0, \"number_of_projects\": 5}, {\"ct_district\": 5, \"median\": 74.0, \"number_of_projects\": 6}, {\"ct_district\": 6, \"median\": 76.0, \"number_of_projects\": 1}, {\"ct_district\": 7, \"median\": 78.0, \"number_of_projects\": 5}, {\"ct_district\": 8, \"median\": 74.5, \"number_of_projects\": 4}, {\"ct_district\": 9, \"median\": 67.0, \"number_of_projects\": 2}, {\"ct_district\": 10, \"median\": 65.0, \"number_of_projects\": 3}, {\"ct_district\": 11, \"median\": 68.0, \"number_of_projects\": 8}, {\"ct_district\": 12, \"median\": 62.0, \"number_of_projects\": 2}]}}, {\"mode\": \"vega-lite\"});\n",
       "</script>"
      ],
      "text/plain": [
       "alt.Chart(...)"
      ]
     },
     "execution_count": 119,
     "metadata": {},
     "output_type": "execute_result"
    }
   ],
   "source": [
    "alt.Chart(pivot_median, title=\"Project Count by District\").mark_line().encode(\n",
    "    x=\"ct_district\", y=\"number_of_projects\"\n",
    ")"
   ]
  },
  {
   "cell_type": "markdown",
   "id": "1d7073ac-6528-4999-9c9c-94c8147c0ac6",
   "metadata": {},
   "source": [
    "#### Add some color/DDS's Python Library\n",
    "* We have some default color palettes that are already in our [internal library of functions](https://docs.calitp.org/data-infra/analytics_tools/python_libraries.html#calitp-data-analysis)."
   ]
  },
  {
   "cell_type": "code",
   "execution_count": 117,
   "id": "cb8df2a3-bf37-4fe4-833e-1259a6ad7f15",
   "metadata": {},
   "outputs": [],
   "source": [
    "# Import the color palettes\n",
    "from calitp_data_analysis import calitp_color_palette"
   ]
  },
  {
   "cell_type": "markdown",
   "id": "102dac58-605a-4bfb-88f8-b9a11ea86b83",
   "metadata": {},
   "source": [
    "* To see what is inside a module,  put two question marks behind it.\n",
    "* From here, you can choose another color palette."
   ]
  },
  {
   "cell_type": "code",
   "execution_count": 118,
   "id": "aa21d088-3360-4d3e-811c-8cc5bdb2d3a8",
   "metadata": {
    "scrolled": true,
    "tags": []
   },
   "outputs": [
    {
     "data": {
      "text/plain": [
       "\u001b[0;31mType:\u001b[0m        module\n",
       "\u001b[0;31mString form:\u001b[0m <module 'calitp_data_analysis.calitp_color_palette' from '/opt/conda/lib/python3.9/site-packages/calitp_data_analysis/calitp_color_palette.py'>\n",
       "\u001b[0;31mFile:\u001b[0m        /opt/conda/lib/python3.9/site-packages/calitp_data_analysis/calitp_color_palette.py\n",
       "\u001b[0;31mSource:\u001b[0m     \n",
       "\u001b[0;31m# --------------------------------------------------------------#\u001b[0m\u001b[0;34m\u001b[0m\n",
       "\u001b[0;34m\u001b[0m\u001b[0;31m# Cal-ITP style guide\u001b[0m\u001b[0;34m\u001b[0m\n",
       "\u001b[0;34m\u001b[0m\u001b[0;31m# Google Drive > Cal-ITP Team > Project Resources >\u001b[0m\u001b[0;34m\u001b[0m\n",
       "\u001b[0;34m\u001b[0m\u001b[0;31m# Branded Resources and External Comms Guidelines > Branded Resources > Style Guide\u001b[0m\u001b[0;34m\u001b[0m\n",
       "\u001b[0;34m\u001b[0m\u001b[0;31m# --------------------------------------------------------------#\u001b[0m\u001b[0;34m\u001b[0m\n",
       "\u001b[0;34m\u001b[0m\u001b[0mCALITP_CATEGORY_BRIGHT_COLORS\u001b[0m \u001b[0;34m=\u001b[0m \u001b[0;34m[\u001b[0m\u001b[0;34m\u001b[0m\n",
       "\u001b[0;34m\u001b[0m    \u001b[0;34m\"#2EA8CE\"\u001b[0m\u001b[0;34m,\u001b[0m  \u001b[0;31m# darker blue\u001b[0m\u001b[0;34m\u001b[0m\n",
       "\u001b[0;34m\u001b[0m    \u001b[0;34m\"#EB9F3C\"\u001b[0m\u001b[0;34m,\u001b[0m  \u001b[0;31m# orange\u001b[0m\u001b[0;34m\u001b[0m\n",
       "\u001b[0;34m\u001b[0m    \u001b[0;34m\"#F4D837\"\u001b[0m\u001b[0;34m,\u001b[0m  \u001b[0;31m# yellow\u001b[0m\u001b[0;34m\u001b[0m\n",
       "\u001b[0;34m\u001b[0m    \u001b[0;34m\"#51BF9D\"\u001b[0m\u001b[0;34m,\u001b[0m  \u001b[0;31m# green\u001b[0m\u001b[0;34m\u001b[0m\n",
       "\u001b[0;34m\u001b[0m    \u001b[0;34m\"#8CBCCB\"\u001b[0m\u001b[0;34m,\u001b[0m  \u001b[0;31m# lighter blue\u001b[0m\u001b[0;34m\u001b[0m\n",
       "\u001b[0;34m\u001b[0m    \u001b[0;34m\"#9487C0\"\u001b[0m\u001b[0;34m,\u001b[0m  \u001b[0;31m# purple\u001b[0m\u001b[0;34m\u001b[0m\n",
       "\u001b[0;34m\u001b[0m\u001b[0;34m]\u001b[0m\u001b[0;34m\u001b[0m\n",
       "\u001b[0;34m\u001b[0m\u001b[0;34m\u001b[0m\n",
       "\u001b[0;34m\u001b[0m\u001b[0mCALITP_CATEGORY_BOLD_COLORS\u001b[0m \u001b[0;34m=\u001b[0m \u001b[0;34m[\u001b[0m\u001b[0;34m\u001b[0m\n",
       "\u001b[0;34m\u001b[0m    \u001b[0;34m\"#136C97\"\u001b[0m\u001b[0;34m,\u001b[0m  \u001b[0;31m# darker blue\u001b[0m\u001b[0;34m\u001b[0m\n",
       "\u001b[0;34m\u001b[0m    \u001b[0;34m\"#E16B26\"\u001b[0m\u001b[0;34m,\u001b[0m  \u001b[0;31m# orange\u001b[0m\u001b[0;34m\u001b[0m\n",
       "\u001b[0;34m\u001b[0m    \u001b[0;34m\"#F6BF16\"\u001b[0m\u001b[0;34m,\u001b[0m  \u001b[0;31m# yellow\u001b[0m\u001b[0;34m\u001b[0m\n",
       "\u001b[0;34m\u001b[0m    \u001b[0;34m\"#00896B\"\u001b[0m\u001b[0;34m,\u001b[0m  \u001b[0;31m# green\u001b[0m\u001b[0;34m\u001b[0m\n",
       "\u001b[0;34m\u001b[0m    \u001b[0;34m\"#7790A3\"\u001b[0m\u001b[0;34m,\u001b[0m  \u001b[0;31m# lighter blue\u001b[0m\u001b[0;34m\u001b[0m\n",
       "\u001b[0;34m\u001b[0m    \u001b[0;34m\"#5B559C\"\u001b[0m\u001b[0;34m,\u001b[0m  \u001b[0;31m# purple\u001b[0m\u001b[0;34m\u001b[0m\n",
       "\u001b[0;34m\u001b[0m\u001b[0;34m]\u001b[0m\u001b[0;34m\u001b[0m\n",
       "\u001b[0;34m\u001b[0m\u001b[0;34m\u001b[0m\n",
       "\u001b[0;34m\u001b[0m\u001b[0mCALITP_DIVERGING_COLORS\u001b[0m \u001b[0;34m=\u001b[0m \u001b[0;34m[\u001b[0m\u001b[0;34m\u001b[0m\n",
       "\u001b[0;34m\u001b[0m    \u001b[0;34m\"#E16B26\"\u001b[0m\u001b[0;34m,\u001b[0m\u001b[0;34m\u001b[0m\n",
       "\u001b[0;34m\u001b[0m    \u001b[0;34m\"#EB9F3C\"\u001b[0m\u001b[0;34m,\u001b[0m  \u001b[0;31m# oranges\u001b[0m\u001b[0;34m\u001b[0m\n",
       "\u001b[0;34m\u001b[0m    \u001b[0;34m\"#f6e7e1\"\u001b[0m\u001b[0;34m,\u001b[0m  \u001b[0;31m# linen\u001b[0m\u001b[0;34m\u001b[0m\n",
       "\u001b[0;34m\u001b[0m    \u001b[0;34m\"#8CBCCB\"\u001b[0m\u001b[0;34m,\u001b[0m\u001b[0;34m\u001b[0m\n",
       "\u001b[0;34m\u001b[0m    \u001b[0;34m\"#2EA8CE\"\u001b[0m\u001b[0;34m,\u001b[0m\u001b[0;34m\u001b[0m\n",
       "\u001b[0;34m\u001b[0m    \u001b[0;34m\"#136C97\"\u001b[0m\u001b[0;34m,\u001b[0m  \u001b[0;31m# blues\u001b[0m\u001b[0;34m\u001b[0m\n",
       "\u001b[0;34m\u001b[0m\u001b[0;34m]\u001b[0m\u001b[0;34m\u001b[0m\n",
       "\u001b[0;34m\u001b[0m\u001b[0;34m\u001b[0m\n",
       "\u001b[0;34m\u001b[0m\u001b[0;34m\u001b[0m\n",
       "\u001b[0;34m\u001b[0m\u001b[0mCALITP_SEQUENTIAL_COLORS\u001b[0m \u001b[0;34m=\u001b[0m \u001b[0;34m[\u001b[0m\u001b[0;34m\u001b[0m\n",
       "\u001b[0;34m\u001b[0m    \u001b[0;34m\"#B9D6DF\"\u001b[0m\u001b[0;34m,\u001b[0m  \u001b[0;31m# light blue (lightest)\u001b[0m\u001b[0;34m\u001b[0m\n",
       "\u001b[0;34m\u001b[0m    \u001b[0;34m\"#8CBCCB\"\u001b[0m\u001b[0;34m,\u001b[0m  \u001b[0;31m# lighter blue bright\u001b[0m\u001b[0;34m\u001b[0m\n",
       "\u001b[0;34m\u001b[0m    \u001b[0;34m\"#2EA8CE\"\u001b[0m\u001b[0;34m,\u001b[0m  \u001b[0;31m# darker blue bright\u001b[0m\u001b[0;34m\u001b[0m\n",
       "\u001b[0;34m\u001b[0m    \u001b[0;34m\"#136C97\"\u001b[0m\u001b[0;34m,\u001b[0m  \u001b[0;31m# darker blue bold\u001b[0m\u001b[0;34m\u001b[0m\n",
       "\u001b[0;34m\u001b[0m    \u001b[0;34m\"#0B405B\"\u001b[0m\u001b[0;34m,\u001b[0m  \u001b[0;31m# indigo dye (darkest)\u001b[0m\u001b[0;34m\u001b[0m\n",
       "\u001b[0;34m\u001b[0m\u001b[0;34m]\u001b[0m\u001b[0;34m\u001b[0m\u001b[0;34m\u001b[0m\u001b[0m"
      ]
     },
     "metadata": {},
     "output_type": "display_data"
    }
   ],
   "source": [
    "calitp_color_palette??"
   ]
  },
  {
   "cell_type": "markdown",
   "id": "f3971ba8-1c8f-4003-8e34-c3fd31f3f585",
   "metadata": {},
   "source": [
    "* Place the column you want the colors to be based on in `color=alt.Color(column)`\n",
    "* Place your color palette in the `scale` argument `scale=alt.Scale(range=your_color_palette)`."
   ]
  },
  {
   "cell_type": "code",
   "execution_count": 121,
   "id": "c629f242-9b1b-49d1-b4b0-1bb956782d69",
   "metadata": {},
   "outputs": [
    {
     "data": {
      "text/html": [
       "\n",
       "<style>\n",
       "  #altair-viz-c8a4f9b7a0c943379ed84431552740ec.vega-embed {\n",
       "    width: 100%;\n",
       "    display: flex;\n",
       "  }\n",
       "\n",
       "  #altair-viz-c8a4f9b7a0c943379ed84431552740ec.vega-embed details,\n",
       "  #altair-viz-c8a4f9b7a0c943379ed84431552740ec.vega-embed details summary {\n",
       "    position: relative;\n",
       "  }\n",
       "</style>\n",
       "<div id=\"altair-viz-c8a4f9b7a0c943379ed84431552740ec\"></div>\n",
       "<script type=\"text/javascript\">\n",
       "  var VEGA_DEBUG = (typeof VEGA_DEBUG == \"undefined\") ? {} : VEGA_DEBUG;\n",
       "  (function(spec, embedOpt){\n",
       "    let outputDiv = document.currentScript.previousElementSibling;\n",
       "    if (outputDiv.id !== \"altair-viz-c8a4f9b7a0c943379ed84431552740ec\") {\n",
       "      outputDiv = document.getElementById(\"altair-viz-c8a4f9b7a0c943379ed84431552740ec\");\n",
       "    }\n",
       "    const paths = {\n",
       "      \"vega\": \"https://cdn.jsdelivr.net/npm/vega@5?noext\",\n",
       "      \"vega-lib\": \"https://cdn.jsdelivr.net/npm/vega-lib?noext\",\n",
       "      \"vega-lite\": \"https://cdn.jsdelivr.net/npm/vega-lite@5.14.1?noext\",\n",
       "      \"vega-embed\": \"https://cdn.jsdelivr.net/npm/vega-embed@6?noext\",\n",
       "    };\n",
       "\n",
       "    function maybeLoadScript(lib, version) {\n",
       "      var key = `${lib.replace(\"-\", \"\")}_version`;\n",
       "      return (VEGA_DEBUG[key] == version) ?\n",
       "        Promise.resolve(paths[lib]) :\n",
       "        new Promise(function(resolve, reject) {\n",
       "          var s = document.createElement('script');\n",
       "          document.getElementsByTagName(\"head\")[0].appendChild(s);\n",
       "          s.async = true;\n",
       "          s.onload = () => {\n",
       "            VEGA_DEBUG[key] = version;\n",
       "            return resolve(paths[lib]);\n",
       "          };\n",
       "          s.onerror = () => reject(`Error loading script: ${paths[lib]}`);\n",
       "          s.src = paths[lib];\n",
       "        });\n",
       "    }\n",
       "\n",
       "    function showError(err) {\n",
       "      outputDiv.innerHTML = `<div class=\"error\" style=\"color:red;\">${err}</div>`;\n",
       "      throw err;\n",
       "    }\n",
       "\n",
       "    function displayChart(vegaEmbed) {\n",
       "      vegaEmbed(outputDiv, spec, embedOpt)\n",
       "        .catch(err => showError(`Javascript Error: ${err.message}<br>This usually means there's a typo in your chart specification. See the javascript console for the full traceback.`));\n",
       "    }\n",
       "\n",
       "    if(typeof define === \"function\" && define.amd) {\n",
       "      requirejs.config({paths});\n",
       "      require([\"vega-embed\"], displayChart, err => showError(`Error loading script: ${err.message}`));\n",
       "    } else {\n",
       "      maybeLoadScript(\"vega\", \"5\")\n",
       "        .then(() => maybeLoadScript(\"vega-lite\", \"5.14.1\"))\n",
       "        .then(() => maybeLoadScript(\"vega-embed\", \"6\"))\n",
       "        .catch(showError)\n",
       "        .then(() => displayChart(vegaEmbed));\n",
       "    }\n",
       "  })({\"config\": {\"view\": {\"continuousWidth\": 300, \"continuousHeight\": 300}}, \"data\": {\"name\": \"data-9b04d3590f74ac1a3c351c2b684fca70\"}, \"mark\": {\"type\": \"bar\"}, \"encoding\": {\"color\": {\"field\": \"number_of_projects\", \"scale\": {\"range\": [\"#E16B26\", \"#EB9F3C\", \"#f6e7e1\", \"#8CBCCB\", \"#2EA8CE\", \"#136C97\"]}, \"title\": \"Count\", \"type\": \"quantitative\"}, \"x\": {\"field\": \"ct_district\", \"type\": \"quantitative\"}, \"y\": {\"field\": \"number_of_projects\", \"type\": \"quantitative\"}}, \"title\": \"Project Count by District\", \"$schema\": \"https://vega.github.io/schema/vega-lite/v5.14.1.json\", \"datasets\": {\"data-9b04d3590f74ac1a3c351c2b684fca70\": [{\"ct_district\": 2, \"median\": 64.5, \"number_of_projects\": 6}, {\"ct_district\": 3, \"median\": 76.0, \"number_of_projects\": 2}, {\"ct_district\": 4, \"median\": 76.0, \"number_of_projects\": 5}, {\"ct_district\": 5, \"median\": 74.0, \"number_of_projects\": 6}, {\"ct_district\": 6, \"median\": 76.0, \"number_of_projects\": 1}, {\"ct_district\": 7, \"median\": 78.0, \"number_of_projects\": 5}, {\"ct_district\": 8, \"median\": 74.5, \"number_of_projects\": 4}, {\"ct_district\": 9, \"median\": 67.0, \"number_of_projects\": 2}, {\"ct_district\": 10, \"median\": 65.0, \"number_of_projects\": 3}, {\"ct_district\": 11, \"median\": 68.0, \"number_of_projects\": 8}, {\"ct_district\": 12, \"median\": 62.0, \"number_of_projects\": 2}]}}, {\"mode\": \"vega-lite\"});\n",
       "</script>"
      ],
      "text/plain": [
       "alt.Chart(...)"
      ]
     },
     "execution_count": 121,
     "metadata": {},
     "output_type": "execute_result"
    }
   ],
   "source": [
    "alt.Chart(pivot_median, title=\"Project Count by District\").mark_bar().encode(\n",
    "    x=\"ct_district\",\n",
    "    y=\"number_of_projects\",\n",
    "    color=alt.Color(\n",
    "        \"number_of_projects\",  # This is the column you want the color of your bar to be based on\n",
    "        title=\"Count\",  # This is the legend of your title\n",
    "        scale=alt.Scale(\n",
    "            range=calitp_color_palette.CALITP_DIVERGING_COLORS  # This is where you can customize the colors,\n",
    "        ),\n",
    "    ),\n",
    ")"
   ]
  },
  {
   "cell_type": "markdown",
   "id": "565ba059-6e2c-4d2b-99a4-665e39c0a0e5",
   "metadata": {},
   "source": [
    "#### Adjusting the Axis\n",
    "* Sometimes, we want to adjust the axis to have a min and max value.\n",
    "* You do so using the `scale=alt.Scale(domain=[min_value, max_value]))` argument behind the X and Y axis."
   ]
  },
  {
   "cell_type": "code",
   "execution_count": 122,
   "id": "9832f9fc-53a3-4c5e-ba87-4b346d6f6985",
   "metadata": {},
   "outputs": [
    {
     "data": {
      "text/html": [
       "\n",
       "<style>\n",
       "  #altair-viz-71335f807b04433db98e9b5716c6f0fb.vega-embed {\n",
       "    width: 100%;\n",
       "    display: flex;\n",
       "  }\n",
       "\n",
       "  #altair-viz-71335f807b04433db98e9b5716c6f0fb.vega-embed details,\n",
       "  #altair-viz-71335f807b04433db98e9b5716c6f0fb.vega-embed details summary {\n",
       "    position: relative;\n",
       "  }\n",
       "</style>\n",
       "<div id=\"altair-viz-71335f807b04433db98e9b5716c6f0fb\"></div>\n",
       "<script type=\"text/javascript\">\n",
       "  var VEGA_DEBUG = (typeof VEGA_DEBUG == \"undefined\") ? {} : VEGA_DEBUG;\n",
       "  (function(spec, embedOpt){\n",
       "    let outputDiv = document.currentScript.previousElementSibling;\n",
       "    if (outputDiv.id !== \"altair-viz-71335f807b04433db98e9b5716c6f0fb\") {\n",
       "      outputDiv = document.getElementById(\"altair-viz-71335f807b04433db98e9b5716c6f0fb\");\n",
       "    }\n",
       "    const paths = {\n",
       "      \"vega\": \"https://cdn.jsdelivr.net/npm/vega@5?noext\",\n",
       "      \"vega-lib\": \"https://cdn.jsdelivr.net/npm/vega-lib?noext\",\n",
       "      \"vega-lite\": \"https://cdn.jsdelivr.net/npm/vega-lite@5.14.1?noext\",\n",
       "      \"vega-embed\": \"https://cdn.jsdelivr.net/npm/vega-embed@6?noext\",\n",
       "    };\n",
       "\n",
       "    function maybeLoadScript(lib, version) {\n",
       "      var key = `${lib.replace(\"-\", \"\")}_version`;\n",
       "      return (VEGA_DEBUG[key] == version) ?\n",
       "        Promise.resolve(paths[lib]) :\n",
       "        new Promise(function(resolve, reject) {\n",
       "          var s = document.createElement('script');\n",
       "          document.getElementsByTagName(\"head\")[0].appendChild(s);\n",
       "          s.async = true;\n",
       "          s.onload = () => {\n",
       "            VEGA_DEBUG[key] = version;\n",
       "            return resolve(paths[lib]);\n",
       "          };\n",
       "          s.onerror = () => reject(`Error loading script: ${paths[lib]}`);\n",
       "          s.src = paths[lib];\n",
       "        });\n",
       "    }\n",
       "\n",
       "    function showError(err) {\n",
       "      outputDiv.innerHTML = `<div class=\"error\" style=\"color:red;\">${err}</div>`;\n",
       "      throw err;\n",
       "    }\n",
       "\n",
       "    function displayChart(vegaEmbed) {\n",
       "      vegaEmbed(outputDiv, spec, embedOpt)\n",
       "        .catch(err => showError(`Javascript Error: ${err.message}<br>This usually means there's a typo in your chart specification. See the javascript console for the full traceback.`));\n",
       "    }\n",
       "\n",
       "    if(typeof define === \"function\" && define.amd) {\n",
       "      requirejs.config({paths});\n",
       "      require([\"vega-embed\"], displayChart, err => showError(`Error loading script: ${err.message}`));\n",
       "    } else {\n",
       "      maybeLoadScript(\"vega\", \"5\")\n",
       "        .then(() => maybeLoadScript(\"vega-lite\", \"5.14.1\"))\n",
       "        .then(() => maybeLoadScript(\"vega-embed\", \"6\"))\n",
       "        .catch(showError)\n",
       "        .then(() => displayChart(vegaEmbed));\n",
       "    }\n",
       "  })({\"config\": {\"view\": {\"continuousWidth\": 300, \"continuousHeight\": 300}}, \"data\": {\"name\": \"data-9b04d3590f74ac1a3c351c2b684fca70\"}, \"mark\": {\"type\": \"bar\"}, \"encoding\": {\"color\": {\"field\": \"number_of_projects\", \"scale\": {\"range\": [\"#E16B26\", \"#EB9F3C\", \"#f6e7e1\", \"#8CBCCB\", \"#2EA8CE\", \"#136C97\"]}, \"title\": \"Count\", \"type\": \"quantitative\"}, \"x\": {\"field\": \"ct_district\", \"scale\": {\"domain\": [1, 12]}, \"type\": \"quantitative\"}, \"y\": {\"field\": \"number_of_projects\", \"scale\": {\"domain\": [0, 10]}, \"type\": \"quantitative\"}}, \"title\": \"Project Count by District\", \"$schema\": \"https://vega.github.io/schema/vega-lite/v5.14.1.json\", \"datasets\": {\"data-9b04d3590f74ac1a3c351c2b684fca70\": [{\"ct_district\": 2, \"median\": 64.5, \"number_of_projects\": 6}, {\"ct_district\": 3, \"median\": 76.0, \"number_of_projects\": 2}, {\"ct_district\": 4, \"median\": 76.0, \"number_of_projects\": 5}, {\"ct_district\": 5, \"median\": 74.0, \"number_of_projects\": 6}, {\"ct_district\": 6, \"median\": 76.0, \"number_of_projects\": 1}, {\"ct_district\": 7, \"median\": 78.0, \"number_of_projects\": 5}, {\"ct_district\": 8, \"median\": 74.5, \"number_of_projects\": 4}, {\"ct_district\": 9, \"median\": 67.0, \"number_of_projects\": 2}, {\"ct_district\": 10, \"median\": 65.0, \"number_of_projects\": 3}, {\"ct_district\": 11, \"median\": 68.0, \"number_of_projects\": 8}, {\"ct_district\": 12, \"median\": 62.0, \"number_of_projects\": 2}]}}, {\"mode\": \"vega-lite\"});\n",
       "</script>"
      ],
      "text/plain": [
       "alt.Chart(...)"
      ]
     },
     "execution_count": 122,
     "metadata": {},
     "output_type": "execute_result"
    }
   ],
   "source": [
    "alt.Chart(pivot_median, title=\"Project Count by District\").mark_bar().encode(\n",
    "    x=alt.X(\"ct_district\", scale=alt.Scale(domain=[1, 12])),\n",
    "    y=alt.Y(\"number_of_projects\", scale=alt.Scale(domain=[0, 10])),\n",
    "    color=alt.Color(\n",
    "        \"number_of_projects\",\n",
    "        title=\"Count\",\n",
    "        scale=alt.Scale(range=calitp_color_palette.CALITP_DIVERGING_COLORS),\n",
    "    ),\n",
    ")"
   ]
  },
  {
   "cell_type": "markdown",
   "id": "1cf6657c-f0ab-4c6f-9f83-f5cf16f84e9e",
   "metadata": {},
   "source": [
    "### Finishing Touches \n",
    "* `.properties(width=400, height=250)` adjusts the size of your chart. \n",
    "* `tooltip=[columns you want]` allows you to create a tooltip that pops up when you hover over each bar/circle/etc.\n",
    "* `.mark_bar(size=10)` adjusts the size of the bar/circle/etc."
   ]
  },
  {
   "cell_type": "code",
   "execution_count": 127,
   "id": "8b85dd29-88cb-4b4b-b3b7-20ee1851335e",
   "metadata": {},
   "outputs": [
    {
     "data": {
      "text/html": [
       "\n",
       "<style>\n",
       "  #altair-viz-ecc22486a612490cb703846d3ff0889e.vega-embed {\n",
       "    width: 100%;\n",
       "    display: flex;\n",
       "  }\n",
       "\n",
       "  #altair-viz-ecc22486a612490cb703846d3ff0889e.vega-embed details,\n",
       "  #altair-viz-ecc22486a612490cb703846d3ff0889e.vega-embed details summary {\n",
       "    position: relative;\n",
       "  }\n",
       "</style>\n",
       "<div id=\"altair-viz-ecc22486a612490cb703846d3ff0889e\"></div>\n",
       "<script type=\"text/javascript\">\n",
       "  var VEGA_DEBUG = (typeof VEGA_DEBUG == \"undefined\") ? {} : VEGA_DEBUG;\n",
       "  (function(spec, embedOpt){\n",
       "    let outputDiv = document.currentScript.previousElementSibling;\n",
       "    if (outputDiv.id !== \"altair-viz-ecc22486a612490cb703846d3ff0889e\") {\n",
       "      outputDiv = document.getElementById(\"altair-viz-ecc22486a612490cb703846d3ff0889e\");\n",
       "    }\n",
       "    const paths = {\n",
       "      \"vega\": \"https://cdn.jsdelivr.net/npm/vega@5?noext\",\n",
       "      \"vega-lib\": \"https://cdn.jsdelivr.net/npm/vega-lib?noext\",\n",
       "      \"vega-lite\": \"https://cdn.jsdelivr.net/npm/vega-lite@5.14.1?noext\",\n",
       "      \"vega-embed\": \"https://cdn.jsdelivr.net/npm/vega-embed@6?noext\",\n",
       "    };\n",
       "\n",
       "    function maybeLoadScript(lib, version) {\n",
       "      var key = `${lib.replace(\"-\", \"\")}_version`;\n",
       "      return (VEGA_DEBUG[key] == version) ?\n",
       "        Promise.resolve(paths[lib]) :\n",
       "        new Promise(function(resolve, reject) {\n",
       "          var s = document.createElement('script');\n",
       "          document.getElementsByTagName(\"head\")[0].appendChild(s);\n",
       "          s.async = true;\n",
       "          s.onload = () => {\n",
       "            VEGA_DEBUG[key] = version;\n",
       "            return resolve(paths[lib]);\n",
       "          };\n",
       "          s.onerror = () => reject(`Error loading script: ${paths[lib]}`);\n",
       "          s.src = paths[lib];\n",
       "        });\n",
       "    }\n",
       "\n",
       "    function showError(err) {\n",
       "      outputDiv.innerHTML = `<div class=\"error\" style=\"color:red;\">${err}</div>`;\n",
       "      throw err;\n",
       "    }\n",
       "\n",
       "    function displayChart(vegaEmbed) {\n",
       "      vegaEmbed(outputDiv, spec, embedOpt)\n",
       "        .catch(err => showError(`Javascript Error: ${err.message}<br>This usually means there's a typo in your chart specification. See the javascript console for the full traceback.`));\n",
       "    }\n",
       "\n",
       "    if(typeof define === \"function\" && define.amd) {\n",
       "      requirejs.config({paths});\n",
       "      require([\"vega-embed\"], displayChart, err => showError(`Error loading script: ${err.message}`));\n",
       "    } else {\n",
       "      maybeLoadScript(\"vega\", \"5\")\n",
       "        .then(() => maybeLoadScript(\"vega-lite\", \"5.14.1\"))\n",
       "        .then(() => maybeLoadScript(\"vega-embed\", \"6\"))\n",
       "        .catch(showError)\n",
       "        .then(() => displayChart(vegaEmbed));\n",
       "    }\n",
       "  })({\"config\": {\"view\": {\"continuousWidth\": 300, \"continuousHeight\": 300}}, \"data\": {\"name\": \"data-9b04d3590f74ac1a3c351c2b684fca70\"}, \"mark\": {\"type\": \"bar\", \"size\": 10}, \"encoding\": {\"color\": {\"field\": \"number_of_projects\", \"scale\": {\"range\": [\"#E16B26\", \"#EB9F3C\", \"#f6e7e1\", \"#8CBCCB\", \"#2EA8CE\", \"#136C97\"]}, \"title\": \"Count\", \"type\": \"quantitative\"}, \"tooltip\": [{\"field\": \"ct_district\", \"type\": \"quantitative\"}, {\"field\": \"number_of_projects\", \"type\": \"quantitative\"}], \"x\": {\"field\": \"ct_district\", \"scale\": {\"domain\": [1, 12]}, \"type\": \"quantitative\"}, \"y\": {\"field\": \"number_of_projects\", \"scale\": {\"domain\": [0, 10]}, \"type\": \"quantitative\"}}, \"height\": 250, \"title\": \"Project Count by District\", \"width\": 400, \"$schema\": \"https://vega.github.io/schema/vega-lite/v5.14.1.json\", \"datasets\": {\"data-9b04d3590f74ac1a3c351c2b684fca70\": [{\"ct_district\": 2, \"median\": 64.5, \"number_of_projects\": 6}, {\"ct_district\": 3, \"median\": 76.0, \"number_of_projects\": 2}, {\"ct_district\": 4, \"median\": 76.0, \"number_of_projects\": 5}, {\"ct_district\": 5, \"median\": 74.0, \"number_of_projects\": 6}, {\"ct_district\": 6, \"median\": 76.0, \"number_of_projects\": 1}, {\"ct_district\": 7, \"median\": 78.0, \"number_of_projects\": 5}, {\"ct_district\": 8, \"median\": 74.5, \"number_of_projects\": 4}, {\"ct_district\": 9, \"median\": 67.0, \"number_of_projects\": 2}, {\"ct_district\": 10, \"median\": 65.0, \"number_of_projects\": 3}, {\"ct_district\": 11, \"median\": 68.0, \"number_of_projects\": 8}, {\"ct_district\": 12, \"median\": 62.0, \"number_of_projects\": 2}]}}, {\"mode\": \"vega-lite\"});\n",
       "</script>"
      ],
      "text/plain": [
       "alt.Chart(...)"
      ]
     },
     "execution_count": 127,
     "metadata": {},
     "output_type": "execute_result"
    }
   ],
   "source": [
    "alt.Chart(pivot_median, title=\"Project Count by District\").mark_bar(size=10).encode(\n",
    "    x=alt.X(\"ct_district\", scale=alt.Scale(domain=[1, 12])),\n",
    "    y=alt.Y(\"number_of_projects\", scale=alt.Scale(domain=[0, 10])),\n",
    "    color=alt.Color(\n",
    "        \"number_of_projects\",\n",
    "        title=\"Count\",\n",
    "        scale=alt.Scale(range=calitp_color_palette.CALITP_DIVERGING_COLORS),\n",
    "    ),\n",
    "    tooltip=[\"ct_district\", \"number_of_projects\"],\n",
    "    #ascending = True ???\n",
    ").properties(width=400, height=250)"
   ]
  },
  {
   "cell_type": "markdown",
   "id": "281e37d9-8ece-471d-abc2-38e4ad9f9e83",
   "metadata": {
    "tags": []
   },
   "source": [
    "### We have only visualized one column of data. \n",
    "* We have only visualized one column of data, but we have a couple of columns above. \n",
    "* Try to customize your graph. If you can dream it, you can probably do it with Altair. \n",
    "    * You can turn off the grid lines, rotate the axis labels by various degrees, label the bars, add a dropdown menu to change the axis, and more. \n",
    "* Make a few other charts in different styles.\n",
    "* Inspiration\n",
    "    * Altair's [gallery](https://altair-viz.github.io/gallery/index.html)\n",
    "    * DDS's [portfolio](https://analysis.calitp.org/)\n"
   ]
  },
  {
   "cell_type": "code",
   "execution_count": 135,
   "id": "ffbfbafb-1055-448c-a889-18d1fe508cab",
   "metadata": {},
   "outputs": [
    {
     "data": {
      "text/html": [
       "\n",
       "<style>\n",
       "  #altair-viz-8d51e9e67809498ab2c4d433700793b4.vega-embed {\n",
       "    width: 100%;\n",
       "    display: flex;\n",
       "  }\n",
       "\n",
       "  #altair-viz-8d51e9e67809498ab2c4d433700793b4.vega-embed details,\n",
       "  #altair-viz-8d51e9e67809498ab2c4d433700793b4.vega-embed details summary {\n",
       "    position: relative;\n",
       "  }\n",
       "</style>\n",
       "<div id=\"altair-viz-8d51e9e67809498ab2c4d433700793b4\"></div>\n",
       "<script type=\"text/javascript\">\n",
       "  var VEGA_DEBUG = (typeof VEGA_DEBUG == \"undefined\") ? {} : VEGA_DEBUG;\n",
       "  (function(spec, embedOpt){\n",
       "    let outputDiv = document.currentScript.previousElementSibling;\n",
       "    if (outputDiv.id !== \"altair-viz-8d51e9e67809498ab2c4d433700793b4\") {\n",
       "      outputDiv = document.getElementById(\"altair-viz-8d51e9e67809498ab2c4d433700793b4\");\n",
       "    }\n",
       "    const paths = {\n",
       "      \"vega\": \"https://cdn.jsdelivr.net/npm/vega@5?noext\",\n",
       "      \"vega-lib\": \"https://cdn.jsdelivr.net/npm/vega-lib?noext\",\n",
       "      \"vega-lite\": \"https://cdn.jsdelivr.net/npm/vega-lite@5.14.1?noext\",\n",
       "      \"vega-embed\": \"https://cdn.jsdelivr.net/npm/vega-embed@6?noext\",\n",
       "    };\n",
       "\n",
       "    function maybeLoadScript(lib, version) {\n",
       "      var key = `${lib.replace(\"-\", \"\")}_version`;\n",
       "      return (VEGA_DEBUG[key] == version) ?\n",
       "        Promise.resolve(paths[lib]) :\n",
       "        new Promise(function(resolve, reject) {\n",
       "          var s = document.createElement('script');\n",
       "          document.getElementsByTagName(\"head\")[0].appendChild(s);\n",
       "          s.async = true;\n",
       "          s.onload = () => {\n",
       "            VEGA_DEBUG[key] = version;\n",
       "            return resolve(paths[lib]);\n",
       "          };\n",
       "          s.onerror = () => reject(`Error loading script: ${paths[lib]}`);\n",
       "          s.src = paths[lib];\n",
       "        });\n",
       "    }\n",
       "\n",
       "    function showError(err) {\n",
       "      outputDiv.innerHTML = `<div class=\"error\" style=\"color:red;\">${err}</div>`;\n",
       "      throw err;\n",
       "    }\n",
       "\n",
       "    function displayChart(vegaEmbed) {\n",
       "      vegaEmbed(outputDiv, spec, embedOpt)\n",
       "        .catch(err => showError(`Javascript Error: ${err.message}<br>This usually means there's a typo in your chart specification. See the javascript console for the full traceback.`));\n",
       "    }\n",
       "\n",
       "    if(typeof define === \"function\" && define.amd) {\n",
       "      requirejs.config({paths});\n",
       "      require([\"vega-embed\"], displayChart, err => showError(`Error loading script: ${err.message}`));\n",
       "    } else {\n",
       "      maybeLoadScript(\"vega\", \"5\")\n",
       "        .then(() => maybeLoadScript(\"vega-lite\", \"5.14.1\"))\n",
       "        .then(() => maybeLoadScript(\"vega-embed\", \"6\"))\n",
       "        .catch(showError)\n",
       "        .then(() => displayChart(vegaEmbed));\n",
       "    }\n",
       "  })({\"config\": {\"view\": {\"continuousWidth\": 300, \"continuousHeight\": 300}}, \"data\": {\"name\": \"data-9b04d3590f74ac1a3c351c2b684fca70\"}, \"mark\": {\"type\": \"bar\", \"size\": 15}, \"encoding\": {\"color\": {\"field\": \"median\", \"scale\": {\"range\": [\"#B9D6DF\", \"#8CBCCB\", \"#2EA8CE\", \"#136C97\", \"#0B405B\"]}, \"title\": \"Count\", \"type\": \"quantitative\"}, \"tooltip\": [{\"field\": \"ct_district\", \"type\": \"quantitative\"}, {\"field\": \"median\", \"type\": \"quantitative\"}], \"x\": {\"field\": \"ct_district\", \"scale\": {\"domain\": [1, 12]}, \"type\": \"quantitative\"}, \"y\": {\"field\": \"median\", \"scale\": {\"domain\": [0, 90]}, \"type\": \"quantitative\"}}, \"height\": 250, \"title\": \"Project Count by District\", \"width\": 400, \"$schema\": \"https://vega.github.io/schema/vega-lite/v5.14.1.json\", \"datasets\": {\"data-9b04d3590f74ac1a3c351c2b684fca70\": [{\"ct_district\": 2, \"median\": 64.5, \"number_of_projects\": 6}, {\"ct_district\": 3, \"median\": 76.0, \"number_of_projects\": 2}, {\"ct_district\": 4, \"median\": 76.0, \"number_of_projects\": 5}, {\"ct_district\": 5, \"median\": 74.0, \"number_of_projects\": 6}, {\"ct_district\": 6, \"median\": 76.0, \"number_of_projects\": 1}, {\"ct_district\": 7, \"median\": 78.0, \"number_of_projects\": 5}, {\"ct_district\": 8, \"median\": 74.5, \"number_of_projects\": 4}, {\"ct_district\": 9, \"median\": 67.0, \"number_of_projects\": 2}, {\"ct_district\": 10, \"median\": 65.0, \"number_of_projects\": 3}, {\"ct_district\": 11, \"median\": 68.0, \"number_of_projects\": 8}, {\"ct_district\": 12, \"median\": 62.0, \"number_of_projects\": 2}]}}, {\"mode\": \"vega-lite\"});\n",
       "</script>"
      ],
      "text/plain": [
       "alt.Chart(...)"
      ]
     },
     "execution_count": 135,
     "metadata": {},
     "output_type": "execute_result"
    }
   ],
   "source": [
    "alt.Chart(pivot_median, title=\"Project Count by District\").mark_bar(size=15).encode(\n",
    "    x=alt.X(\"ct_district\", scale=alt.Scale(domain=[1, 12])),\n",
    "    y=alt.Y(\"median\", scale=alt.Scale(domain=[0, 90])),\n",
    "    color=alt.Color(\n",
    "        \"median\",\n",
    "        title=\"Count\",\n",
    "        scale=alt.Scale(range=calitp_color_palette.CALITP_SEQUENTIAL_COLORS),\n",
    "    ),\n",
    "    tooltip=[\"ct_district\", \"median\"]\n",
    ").properties(width=400, height=250)"
   ]
  },
  {
   "cell_type": "code",
   "execution_count": null,
   "id": "4892ac0c-e420-444d-8ff1-2ee836111bf1",
   "metadata": {},
   "outputs": [],
   "source": []
  }
 ],
 "metadata": {
  "kernelspec": {
   "display_name": "Python 3 (ipykernel)",
   "language": "python",
   "name": "python3"
  },
  "language_info": {
   "codemirror_mode": {
    "name": "ipython",
    "version": 3
   },
   "file_extension": ".py",
   "mimetype": "text/x-python",
   "name": "python",
   "nbconvert_exporter": "python",
   "pygments_lexer": "ipython3",
   "version": "3.9.13"
  },
  "widgets": {
   "application/vnd.jupyter.widget-state+json": {
    "state": {},
    "version_major": 2,
    "version_minor": 0
   }
  }
 },
 "nbformat": 4,
 "nbformat_minor": 5
}
