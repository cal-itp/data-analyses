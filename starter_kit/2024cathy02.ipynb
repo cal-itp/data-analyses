{
 "cells": [
  {
   "cell_type": "markdown",
   "id": "685c09c1-4d11-42a8-a213-8267137eede8",
   "metadata": {},
   "source": [
    "# Exercise 2: Merging, Aggregating, Filtering, and Visualizing"
   ]
  },
  {
   "cell_type": "code",
   "execution_count": 1,
   "id": "6cbbfb96-1e9e-400a-9884-72f08d1191f3",
   "metadata": {},
   "outputs": [],
   "source": [
    "import altair as alt\n",
    "import pandas as pd\n",
    "from calitp_data_analysis.sql import to_snakecase"
   ]
  },
  {
   "cell_type": "code",
   "execution_count": 2,
   "id": "3da62b06-24b4-4791-a073-185ee3765152",
   "metadata": {},
   "outputs": [],
   "source": [
    "pd.options.display.max_columns = 100\n",
    "pd.options.display.float_format = \"{:.2f}\".format\n",
    "pd.set_option(\"display.max_rows\", None)\n",
    "pd.set_option(\"display.max_colwidth\", None)"
   ]
  },
  {
   "cell_type": "markdown",
   "id": "616f1aed-d082-4e49-8eae-5c3acf87155f",
   "metadata": {},
   "source": [
    "* Read back in the `parquet` file with the `overall_score` you created from exercise 1.\n",
    "* Read the Excel sheet containing the project information (scope of work, district, and project name).\n",
    "* **Use f-strings.**"
   ]
  },
  {
   "cell_type": "code",
   "execution_count": 3,
   "id": "8729b791-8e40-4c31-bd58-185ac468fad4",
   "metadata": {},
   "outputs": [],
   "source": [
    "FOLDER = \"../starter_kit/\"\n",
    "FILE_NAME = \"overall_score.parquet\"\n",
    "score = pd.read_parquet(f\"{FOLDER}{FILE_NAME}\")"
   ]
  },
  {
   "cell_type": "code",
   "execution_count": 4,
   "id": "9737aaf4-a8d5-42dd-b8fd-9bef44113097",
   "metadata": {},
   "outputs": [],
   "source": [
    "FOLDER = \"../starter_kit/\"\n",
    "FILE_NAME = \"starter_kit_csis_scoring_workbook.xlsx\"\n",
    "\n",
    "my_sheets = [\"projects_auto\", \"overall_score\"]\n",
    "workbook = pd.read_excel(f\"{FOLDER}{FILE_NAME}\", sheet_name=my_sheets)\n",
    "\n",
    "project = to_snakecase(workbook.get(my_sheets[0]))"
   ]
  },
  {
   "cell_type": "code",
   "execution_count": null,
   "id": "ba8a6042-2ad9-44a6-8e5f-455d6753ec36",
   "metadata": {},
   "outputs": [],
   "source": [
    "#keep_col = ['ct_district', 'project_name', 'scope_of_work']\n",
    "#sub_project = project[keep_col]"
   ]
  },
  {
   "cell_type": "code",
   "execution_count": null,
   "id": "e7e4cafe-eb24-477b-a45c-88bfcaff37f3",
   "metadata": {},
   "outputs": [],
   "source": [
    "#GCS_FILE_PATH = \"gs://calitp-analytics-data/data-analyses/starter_kit/\""
   ]
  },
  {
   "cell_type": "code",
   "execution_count": 5,
   "id": "a524d6a5-ecda-4ac6-80f2-2399e63cb6f0",
   "metadata": {},
   "outputs": [
    {
     "data": {
      "text/plain": [
       "44"
      ]
     },
     "execution_count": 5,
     "metadata": {},
     "output_type": "execute_result"
    }
   ],
   "source": [
    "score['project_name'].nunique()"
   ]
  },
  {
   "cell_type": "code",
   "execution_count": 6,
   "id": "99d798d9-38fa-44bb-8620-66fc93fc751c",
   "metadata": {},
   "outputs": [
    {
     "data": {
      "text/plain": [
       "(44, 15)"
      ]
     },
     "execution_count": 6,
     "metadata": {},
     "output_type": "execute_result"
    }
   ],
   "source": [
    "score.shape"
   ]
  },
  {
   "cell_type": "code",
   "execution_count": 7,
   "id": "fe5e192a-5251-4ecf-ac0f-5db4a9fda1eb",
   "metadata": {},
   "outputs": [
    {
     "data": {
      "text/plain": [
       "44"
      ]
     },
     "execution_count": 7,
     "metadata": {},
     "output_type": "execute_result"
    }
   ],
   "source": [
    "project['project_name'].nunique()"
   ]
  },
  {
   "cell_type": "code",
   "execution_count": 8,
   "id": "5ffc3d9d-1a2d-49d3-98a7-0afa6036114d",
   "metadata": {},
   "outputs": [
    {
     "data": {
      "text/plain": [
       "(44, 5)"
      ]
     },
     "execution_count": 8,
     "metadata": {},
     "output_type": "execute_result"
    }
   ],
   "source": [
    "project.shape"
   ]
  },
  {
   "cell_type": "code",
   "execution_count": 9,
   "id": "18c3157c-87ca-44fb-8abb-c61cd81bc1f9",
   "metadata": {},
   "outputs": [
    {
     "data": {
      "text/plain": [
       "11"
      ]
     },
     "execution_count": 9,
     "metadata": {},
     "output_type": "execute_result"
    }
   ],
   "source": [
    "project['ct_district'].nunique()"
   ]
  },
  {
   "cell_type": "code",
   "execution_count": 10,
   "id": "fd47e6de-8e1d-47aa-b806-8bda44e89350",
   "metadata": {},
   "outputs": [
    {
     "data": {
      "text/plain": [
       "11    8\n",
       "2     6\n",
       "5     6\n",
       "4     5\n",
       "7     5\n",
       "8     4\n",
       "10    3\n",
       "12    2\n",
       "3     2\n",
       "9     2\n",
       "6     1\n",
       "Name: ct_district, dtype: int64"
      ]
     },
     "execution_count": 10,
     "metadata": {},
     "output_type": "execute_result"
    }
   ],
   "source": [
    "project.ct_district.value_counts()"
   ]
  },
  {
   "cell_type": "markdown",
   "id": "4c2dd160-ec10-41ce-b5c0-a9be5934d6ee",
   "metadata": {},
   "source": [
    "## Merging \n",
    "* **Goal**: Your manager asks you to aggregate the dataframe by the Caltrans District grain to find\n",
    "    * Median overall score\n",
    "    * Max overall score \n",
    "    * Min overall score\n",
    "    * Number of unique projects\n",
    "* Annoyingly enough, the `overall_score` column and the `ct_district` are in two different dataframes. \n",
    "* You'll have to <b>merge</b> the dataframes on the common column(s) the two dataframes share.\n",
    "* Welcome to DDS! This will happen to you all the time starting now. \n",
    "\n",
    "### Relevant Resources\n",
    "* Read about and practice merges before continuing on the exercise. \n",
    "    * [Resource #1 is a great tutorial for beginners](https://www.practicalpythonfordatascience.com/03_cleaning_data.html?highlight=merge#merging-dataframes-together).\n",
    "    * [Resource #2 is written by our own Tiffany Ku, but it contains some geospatial references so it's a bit more to digest](https://docs.calitp.org/data-infra/analytics_new_analysts/01-data-analysis-intro.html#merge-tabular-and-geospatial-data-for-data-analysis).\n",
    "    "
   ]
  },
  {
   "cell_type": "code",
   "execution_count": null,
   "id": "2d356494-a12a-4f67-beb3-b6ba92c8135f",
   "metadata": {},
   "outputs": [],
   "source": [
    "# Practice Here"
   ]
  },
  {
   "cell_type": "code",
   "execution_count": 11,
   "id": "8243ee66-6442-425e-be74-6c2aea7f122c",
   "metadata": {},
   "outputs": [
    {
     "data": {
      "text/html": [
       "<div>\n",
       "<style scoped>\n",
       "    .dataframe tbody tr th:only-of-type {\n",
       "        vertical-align: middle;\n",
       "    }\n",
       "\n",
       "    .dataframe tbody tr th {\n",
       "        vertical-align: top;\n",
       "    }\n",
       "\n",
       "    .dataframe thead th {\n",
       "        text-align: right;\n",
       "    }\n",
       "</style>\n",
       "<table border=\"1\" class=\"dataframe\">\n",
       "  <thead>\n",
       "    <tr style=\"text-align: right;\">\n",
       "      <th></th>\n",
       "      <th>project_name</th>\n",
       "      <th>accessibility_score</th>\n",
       "      <th>dac_accessibility_score</th>\n",
       "      <th>dac_traffic_impacts_score</th>\n",
       "      <th>freight_efficiency_score</th>\n",
       "      <th>freight_sustainability_score</th>\n",
       "      <th>mode_shift_score</th>\n",
       "      <th>lu_natural_resources_score</th>\n",
       "      <th>safety_score</th>\n",
       "      <th>vmt_score</th>\n",
       "      <th>zev_score</th>\n",
       "      <th>public_engagement_score</th>\n",
       "      <th>climate_resilience_score</th>\n",
       "      <th>program_fit_score</th>\n",
       "      <th>overall_score</th>\n",
       "    </tr>\n",
       "  </thead>\n",
       "  <tbody>\n",
       "    <tr>\n",
       "      <th>0</th>\n",
       "      <td>Meadow Magic Multi-Use Path</td>\n",
       "      <td>10</td>\n",
       "      <td>6</td>\n",
       "      <td>1</td>\n",
       "      <td>5</td>\n",
       "      <td>9</td>\n",
       "      <td>7</td>\n",
       "      <td>5</td>\n",
       "      <td>2</td>\n",
       "      <td>9</td>\n",
       "      <td>5</td>\n",
       "      <td>8</td>\n",
       "      <td>7</td>\n",
       "      <td>8</td>\n",
       "      <td>82</td>\n",
       "    </tr>\n",
       "    <tr>\n",
       "      <th>1</th>\n",
       "      <td>Bunny Hop Bike Boulevard</td>\n",
       "      <td>2</td>\n",
       "      <td>3</td>\n",
       "      <td>1</td>\n",
       "      <td>6</td>\n",
       "      <td>5</td>\n",
       "      <td>3</td>\n",
       "      <td>9</td>\n",
       "      <td>7</td>\n",
       "      <td>5</td>\n",
       "      <td>8</td>\n",
       "      <td>2</td>\n",
       "      <td>9</td>\n",
       "      <td>5</td>\n",
       "      <td>65</td>\n",
       "    </tr>\n",
       "  </tbody>\n",
       "</table>\n",
       "</div>"
      ],
      "text/plain": [
       "                  project_name  accessibility_score  dac_accessibility_score  \\\n",
       "0  Meadow Magic Multi-Use Path                   10                        6   \n",
       "1     Bunny Hop Bike Boulevard                    2                        3   \n",
       "\n",
       "   dac_traffic_impacts_score  freight_efficiency_score  \\\n",
       "0                          1                         5   \n",
       "1                          1                         6   \n",
       "\n",
       "   freight_sustainability_score  mode_shift_score  lu_natural_resources_score  \\\n",
       "0                             9                 7                           5   \n",
       "1                             5                 3                           9   \n",
       "\n",
       "   safety_score  vmt_score  zev_score  public_engagement_score  \\\n",
       "0             2          9          5                        8   \n",
       "1             7          5          8                        2   \n",
       "\n",
       "   climate_resilience_score  program_fit_score  overall_score  \n",
       "0                         7                  8             82  \n",
       "1                         9                  5             65  "
      ]
     },
     "execution_count": 11,
     "metadata": {},
     "output_type": "execute_result"
    }
   ],
   "source": [
    "score.head(2)"
   ]
  },
  {
   "cell_type": "code",
   "execution_count": 12,
   "id": "727f18a8-8c41-46a8-a2f4-502a6a7ff401",
   "metadata": {},
   "outputs": [
    {
     "data": {
      "text/html": [
       "<div>\n",
       "<style scoped>\n",
       "    .dataframe tbody tr th:only-of-type {\n",
       "        vertical-align: middle;\n",
       "    }\n",
       "\n",
       "    .dataframe tbody tr th {\n",
       "        vertical-align: top;\n",
       "    }\n",
       "\n",
       "    .dataframe thead th {\n",
       "        text-align: right;\n",
       "    }\n",
       "</style>\n",
       "<table border=\"1\" class=\"dataframe\">\n",
       "  <thead>\n",
       "    <tr style=\"text-align: right;\">\n",
       "      <th></th>\n",
       "      <th>ct_district</th>\n",
       "      <th>project_name</th>\n",
       "      <th>scope_of_work</th>\n",
       "      <th>project_cost</th>\n",
       "      <th>lead_agency</th>\n",
       "    </tr>\n",
       "  </thead>\n",
       "  <tbody>\n",
       "    <tr>\n",
       "      <th>0</th>\n",
       "      <td>8</td>\n",
       "      <td>Meadow Magic Multi-Use Path</td>\n",
       "      <td>A 2-mile Class I bike lane and multi-use path through a scenic meadow, featuring wildflower plantings, public art installations, and educational signage highlighting local wildlife.</td>\n",
       "      <td>4189348</td>\n",
       "      <td>Meadow Bunny Public Transportation (MBPT)</td>\n",
       "    </tr>\n",
       "    <tr>\n",
       "      <th>1</th>\n",
       "      <td>2</td>\n",
       "      <td>Bunny Hop Bike Boulevard</td>\n",
       "      <td>A Class II bike lane with charming streetlights, benches, and bike racks designed to resemble carrot sticks, connecting residential neighborhoods to local schools and parks.</td>\n",
       "      <td>8647685</td>\n",
       "      <td>Unicorn Fairy Express Bus (UFX)</td>\n",
       "    </tr>\n",
       "  </tbody>\n",
       "</table>\n",
       "</div>"
      ],
      "text/plain": [
       "   ct_district                 project_name  \\\n",
       "0            8  Meadow Magic Multi-Use Path   \n",
       "1            2     Bunny Hop Bike Boulevard   \n",
       "\n",
       "                                                                                                                                                                            scope_of_work  \\\n",
       "0   A 2-mile Class I bike lane and multi-use path through a scenic meadow, featuring wildflower plantings, public art installations, and educational signage highlighting local wildlife.   \n",
       "1           A Class II bike lane with charming streetlights, benches, and bike racks designed to resemble carrot sticks, connecting residential neighborhoods to local schools and parks.   \n",
       "\n",
       "   project_cost                                lead_agency  \n",
       "0       4189348  Meadow Bunny Public Transportation (MBPT)  \n",
       "1       8647685            Unicorn Fairy Express Bus (UFX)  "
      ]
     },
     "execution_count": 12,
     "metadata": {},
     "output_type": "execute_result"
    }
   ],
   "source": [
    "project.head(2)"
   ]
  },
  {
   "cell_type": "markdown",
   "id": "e60cf03f-6de0-4b30-b879-080c9ab7a22f",
   "metadata": {},
   "source": [
    "### Now merge your two CSIS dataframes\n",
    "**Food for Thought**\n",
    "* Which columns do the two dataframes have in common?\n",
    "* What type of merge will achieve my goal?\n",
    "    * Inner, outer, left, or right?\n",
    "* What do I expect out of the merge?\n",
    "    * Do I expect all the values of the merge keys to be 1:1? Or m:1? \n",
    "    * Do I expect a project to correspond with multiple districts? Maybe, projects can and do cross multiple boundaries.\n",
    "    * Do I expect a project to correspond with only one total cost estimate value? Yes, there shouldn't be multiple cost estimates for the same project!\n",
    "* How do I go about checking the data after the merge?\n",
    "    * Which arguments are available to help me per the [docs](https://pandas.pydata.org/pandas-docs/stable/reference/api/pandas.DataFrame.merge.html)?"
   ]
  },
  {
   "cell_type": "markdown",
   "id": "8ddf0077-061c-4d67-8881-36c9792d6e62",
   "metadata": {},
   "source": [
    "### Double Checking\n",
    "* How many rows do you expect?\n",
    "* How many unique projects are there? \n",
    "* <b>Hint</b>: check the lengths of your original dataframes as well"
   ]
  },
  {
   "cell_type": "markdown",
   "id": "94e866f0-bc46-43d3-92b7-dce71dc31c02",
   "metadata": {},
   "source": [
    "### The Beauty of Outer Joins \n",
    "* As you have noticed, we are missing a couple of projects.\n",
    "* This is where `outer` joins are very useful.\n",
    "* Merge your dataframes again using an `outer` join and with `indicator = True` on.\n",
    "    * `m2 = pd.merge(df1, df2, on=[column], indicator=True, how=\"outer\")`\n",
    "* Using `.value_counts()` on the column named `_merge` created by `indicator=True` to check out how many rows are found in both dataframes, the left only, and the right only"
   ]
  },
  {
   "cell_type": "code",
   "execution_count": 20,
   "id": "dcfb00b5-a08a-49b2-8978-e42abf4538fe",
   "metadata": {},
   "outputs": [],
   "source": [
    "m = pd.merge(project, score, on='project_name', indicator=True, how=\"outer\", validate = 'm:1')\n",
    "#m.head(2)"
   ]
  },
  {
   "cell_type": "code",
   "execution_count": 21,
   "id": "53037576-3d4f-4a95-8f18-41b38b555992",
   "metadata": {},
   "outputs": [
    {
     "data": {
      "text/plain": [
       "(47, 20)"
      ]
     },
     "execution_count": 21,
     "metadata": {},
     "output_type": "execute_result"
    }
   ],
   "source": [
    "m.shape"
   ]
  },
  {
   "cell_type": "code",
   "execution_count": 24,
   "id": "546015af-1c7f-4e7f-b758-1aa47af3d893",
   "metadata": {},
   "outputs": [
    {
     "data": {
      "text/plain": [
       "both          41\n",
       "left_only      3\n",
       "right_only     3\n",
       "Name: _merge, dtype: int64"
      ]
     },
     "execution_count": 24,
     "metadata": {},
     "output_type": "execute_result"
    }
   ],
   "source": [
    "m._merge.value_counts()"
   ]
  },
  {
   "cell_type": "markdown",
   "id": "aa04599b-805e-4813-ab1a-c4b9fe77cc9e",
   "metadata": {},
   "source": [
    "### Filtering\n",
    "* Filter out for only the `left_only` and `right_only` values.\n",
    "    * `!=` means does not equal to. \n",
    "    * `==` means equal to."
   ]
  },
  {
   "cell_type": "code",
   "execution_count": null,
   "id": "97144120-29b6-4948-aa68-736ddbeb8d38",
   "metadata": {},
   "outputs": [],
   "source": []
  },
  {
   "cell_type": "markdown",
   "id": "044330d9-8562-4510-ae62-268f240ec3bc",
   "metadata": {},
   "source": [
    "* You could also use `isin([list of elements you want to keep])` to retain multiple elements you want."
   ]
  },
  {
   "cell_type": "code",
   "execution_count": 30,
   "id": "121e64fa-cf65-4a3b-9a53-43994223d150",
   "metadata": {},
   "outputs": [
    {
     "data": {
      "text/plain": [
       "(3, 20)"
      ]
     },
     "execution_count": 30,
     "metadata": {},
     "output_type": "execute_result"
    }
   ],
   "source": [
    "keep_left = [\"left_only\"]\n",
    "m_left = m[m._merge.isin(keep_left)]\n",
    "#m_left.head()\n",
    "m_left.shape"
   ]
  },
  {
   "cell_type": "code",
   "execution_count": 29,
   "id": "a24d8e38-b642-4e27-9041-4ff339e2c454",
   "metadata": {},
   "outputs": [
    {
     "data": {
      "text/plain": [
       "(3, 20)"
      ]
     },
     "execution_count": 29,
     "metadata": {},
     "output_type": "execute_result"
    }
   ],
   "source": [
    "keep_right = [\"right_only\"]\n",
    "m_right = m[m._merge.isin(keep_right)]\n",
    "#m_right.head()\n",
    "m_right.shape"
   ]
  },
  {
   "cell_type": "markdown",
   "id": "1c2b7437-f767-497c-a53a-26aeef9a3b0f",
   "metadata": {},
   "source": [
    "* If you want to filter out multiple elements use `~df.column.isin([list of elements you don't want to keep])`"
   ]
  },
  {
   "cell_type": "code",
   "execution_count": 34,
   "id": "a1ffc2fe-e611-4cd1-8491-957a8f50b523",
   "metadata": {},
   "outputs": [
    {
     "data": {
      "text/plain": [
       "(47,)"
      ]
     },
     "execution_count": 34,
     "metadata": {},
     "output_type": "execute_result"
    }
   ],
   "source": [
    "# ??? Is this for deleting multiple columns. not rows???\n",
    "test_left = ~m._merge.isin(['both', 'right'])\n",
    "test_left.shape"
   ]
  },
  {
   "cell_type": "markdown",
   "id": "e0a6bd58-734e-4f96-b150-9a53bef7d1aa",
   "metadata": {},
   "source": [
    "### Dictionaries\n",
    "* String data is often entered in many different ways. \n",
    "    * BART can be entered in as bart, Bay Area Rapid Transit, BaRT, and more. \n",
    "* Often, differing strings between two dataframes are the reason why your dataframe is not merging properly.\n",
    "* In Excel, it's easy to go in and manually tweak everything. However, that is not reproducible and time consuming. \n",
    "* Luckily with Python we can automate this. \n",
    "* Since there are only a couple of names to replace, we can do it using a <b>dictionary</b>.\n",
    "\n",
    "#### What is a dictionary?\n",
    "* Per Practical Python for Data Science, a dictionary is <i>Dictionaries are used to store data values in key:value pairs. Similar to the list, a dictionary is a collection of objects. It is also mutable, meaning that you can add, remove, change values inside of it...With the list, we access elements using the index. With the dictionary, we access elements using keys.</i>\n",
    "* Dictionaries are very important.\n",
    "* Read more [here](https://www.practicalpythonfordatascience.com/00_python_crash_course_datatypes.html?highlight=dictionary#dictionary) and **follow its example in the cells below.**\n",
    "    "
   ]
  },
  {
   "cell_type": "code",
   "execution_count": null,
   "id": "df6fa95e-cc25-4142-8c2b-ee254863e609",
   "metadata": {},
   "outputs": [],
   "source": [
    "# Practice Here"
   ]
  },
  {
   "cell_type": "markdown",
   "id": "76e42f11-fdcb-48f3-8951-2f2cea0384c0",
   "metadata": {},
   "source": [
    "#### Application of Dictionaries: Replacing Values\n",
    "* [Resource](https://www.practicalpythonfordatascience.com/03_cleaning_data#recoding-column-values)\n",
    "* **Step 1**: Filter out for the rows that <b>didn't</b> merge. Find the unique values of the `project_name` column using `.unique()`\n",
    "* Take a look at elements using \n",
    "    * Trailing white spaces\n",
    "    * Capitalization\n",
    "    * Spelling\n",
    "    * Symbols"
   ]
  },
  {
   "cell_type": "code",
   "execution_count": 45,
   "id": "c1b671d0-184e-4bb1-9612-38192ead4265",
   "metadata": {},
   "outputs": [
    {
     "data": {
      "text/plain": [
       "47"
      ]
     },
     "execution_count": 45,
     "metadata": {},
     "output_type": "execute_result"
    }
   ],
   "source": [
    "m.project_name.nunique()"
   ]
  },
  {
   "cell_type": "code",
   "execution_count": 46,
   "id": "5cdc18c4-2312-41ae-a027-8c0fe164018b",
   "metadata": {},
   "outputs": [],
   "source": [
    "keep_row = [\"right_only\", \"left_only\"]\n",
    "m_keep = m[m._merge.isin(keep_row)]"
   ]
  },
  {
   "cell_type": "code",
   "execution_count": 47,
   "id": "8a163659-2039-423d-99fb-159bb4a7af5f",
   "metadata": {},
   "outputs": [
    {
     "data": {
      "text/plain": [
       "array(['Rainbow Rush hot  Lanes', 'Bunny Lane HOV+2 heaven',\n",
       "       'main street muffin top ', 'Rainbow Rush HOT Lanes',\n",
       "       'Bunny Lane HOV+2 Haven', 'Main Street Muffin Top Revitalization'],\n",
       "      dtype=object)"
      ]
     },
     "execution_count": 47,
     "metadata": {},
     "output_type": "execute_result"
    }
   ],
   "source": [
    "# method 1\n",
    "m_keep.project_name.unique()"
   ]
  },
  {
   "cell_type": "code",
   "execution_count": 48,
   "id": "66019455-ef49-42a3-8977-34e87e84a503",
   "metadata": {},
   "outputs": [
    {
     "data": {
      "text/html": [
       "<div>\n",
       "<style scoped>\n",
       "    .dataframe tbody tr th:only-of-type {\n",
       "        vertical-align: middle;\n",
       "    }\n",
       "\n",
       "    .dataframe tbody tr th {\n",
       "        vertical-align: top;\n",
       "    }\n",
       "\n",
       "    .dataframe thead th {\n",
       "        text-align: right;\n",
       "    }\n",
       "</style>\n",
       "<table border=\"1\" class=\"dataframe\">\n",
       "  <thead>\n",
       "    <tr style=\"text-align: right;\">\n",
       "      <th></th>\n",
       "      <th>project_name</th>\n",
       "      <th>_merge</th>\n",
       "    </tr>\n",
       "  </thead>\n",
       "  <tbody>\n",
       "    <tr>\n",
       "      <th>10</th>\n",
       "      <td>Rainbow Rush hot  Lanes</td>\n",
       "      <td>left_only</td>\n",
       "    </tr>\n",
       "    <tr>\n",
       "      <th>12</th>\n",
       "      <td>Bunny Lane HOV+2 heaven</td>\n",
       "      <td>left_only</td>\n",
       "    </tr>\n",
       "    <tr>\n",
       "      <th>26</th>\n",
       "      <td>main street muffin top</td>\n",
       "      <td>left_only</td>\n",
       "    </tr>\n",
       "    <tr>\n",
       "      <th>44</th>\n",
       "      <td>Rainbow Rush HOT Lanes</td>\n",
       "      <td>right_only</td>\n",
       "    </tr>\n",
       "    <tr>\n",
       "      <th>45</th>\n",
       "      <td>Bunny Lane HOV+2 Haven</td>\n",
       "      <td>right_only</td>\n",
       "    </tr>\n",
       "    <tr>\n",
       "      <th>46</th>\n",
       "      <td>Main Street Muffin Top Revitalization</td>\n",
       "      <td>right_only</td>\n",
       "    </tr>\n",
       "  </tbody>\n",
       "</table>\n",
       "</div>"
      ],
      "text/plain": [
       "                             project_name      _merge\n",
       "10                Rainbow Rush hot  Lanes   left_only\n",
       "12                Bunny Lane HOV+2 heaven   left_only\n",
       "26                main street muffin top    left_only\n",
       "44                 Rainbow Rush HOT Lanes  right_only\n",
       "45                 Bunny Lane HOV+2 Haven  right_only\n",
       "46  Main Street Muffin Top Revitalization  right_only"
      ]
     },
     "execution_count": 48,
     "metadata": {},
     "output_type": "execute_result"
    }
   ],
   "source": [
    "# method 2\n",
    "keep_col = ['project_name', '_merge']\n",
    "m_keep = m_keep[keep_col]\n",
    "\n",
    "#m_keep.shape\n",
    "m_keep.head(6)"
   ]
  },
  {
   "cell_type": "markdown",
   "id": "21f38614-3b49-45fd-97f6-7161a59ab367",
   "metadata": {},
   "source": [
    "* **Step 2:** Decide whether you want to rename the values in the left dataframe or the right one. \n",
    "* **Step 3:** The <b>keys</b>, are the values you want to replace. The <b>values</b>, are what you want to replace these values with. \n",
    "    * Let's say my left value is \"AC Transit\" but I want it to be \"Alameda Contra Costa County Transit\", my dictionary would be \n",
    "    * `my_dict = {\"AC Transit\":\"Alameda Contra Costa County Transit\"}`"
   ]
  },
  {
   "cell_type": "code",
   "execution_count": null,
   "id": "9dad92fe-87a6-434d-a62f-d269f3ad1054",
   "metadata": {},
   "outputs": [],
   "source": [
    "my_dict = {\"Rainbow Rush hot Lanes\":\"Rainbow Rush HOT Lanes\",\n",
    "           \"Bunny Lane HOV+2 heaven\":\"Bunny Lane HOV+2 Heaven\",\n",
    "          \"main street muffin top\":\"Main Street Muffin Top Revitalization\"}"
   ]
  },
  {
   "cell_type": "markdown",
   "id": "abe24864-66bd-4ce4-bb46-38a13c8bb64a",
   "metadata": {},
   "source": [
    "* **Step 4**: Use your dictionary in `.replace()` to recode the values."
   ]
  },
  {
   "cell_type": "code",
   "execution_count": 60,
   "id": "7d8205a4-fa95-4a49-9c1f-14417d744003",
   "metadata": {},
   "outputs": [],
   "source": [
    "project.project_name = project.project_name.replace({\"Rainbow Rush hot Lanes\":\"Rainbow Rush HOT Lanes\",\n",
    "           \"Bunny Lane HOV+2 heaven\":\"Bunny Lane HOV+2 Heaven\",\n",
    "          \"main street muffin top\":\"Main Street Muffin Top Revitalization\"})"
   ]
  },
  {
   "cell_type": "code",
   "execution_count": null,
   "id": "d8532992-771e-446a-b419-55ad757ff45f",
   "metadata": {},
   "outputs": [],
   "source": [
    "#df.project_name = df.project_name.replace(your_dictionary)"
   ]
  },
  {
   "cell_type": "code",
   "execution_count": 61,
   "id": "7a88b8cf-3eae-4633-b42e-f73015f35a73",
   "metadata": {},
   "outputs": [
    {
     "data": {
      "text/plain": [
       "Meadow Magic Multi-Use Path                  1\n",
       "Bunny Hop Bike Boulevard                     1\n",
       "Gingerbread Village Green Complete Street    1\n",
       "Trail of Treats and Transit Hub              1\n",
       "main street muffin top                       1\n",
       "Park and Ride Petal Paradise                 1\n",
       "Waterfront Waffle Walk and Bike              1\n",
       "Fairy Glen Boulevard                         1\n",
       "Pixie Pathway Reconstruction                 1\n",
       "Meadowbrook Magic Makeover                   1\n",
       "Elven Exchange Interchange                   1\n",
       "Riverbend Pixie Ramp                         1\n",
       "Larkspur Loop On-Ramp to Fairytop            1\n",
       "Mystic Meadow Managed Lane                   1\n",
       "Sagebrush SMART Lane of the Ancients         1\n",
       "Laurel Lane Enchanted Express                1\n",
       "Golden Gate Glimmer Express Lane             1\n",
       "Canyon Creek Sparkle Toll Lane               1\n",
       "Sunset Valley Twinkle Fast Lane              1\n",
       "Parkside Pixie Carpool Lane                  1\n",
       "Ridgewood Ride-Share Rainbow Lane            1\n",
       "Hydrogen Haven Honeycomb Fueling Station     1\n",
       "Electric Avenue Emerald Charging Stations    1\n",
       "Berry Best Bus Rapid Transit                 1\n",
       "Rainbow Rush hot  Lanes                      1\n",
       "Strawberry Shortcake Sidewalks               1\n",
       "River Ramble Rabbit Trail                    1\n",
       "Lilac Lane Dream Complete Street             1\n",
       "Unicorn Expressway                           1\n",
       "Sunflower Gables Intermodal Facility         1\n",
       "Seaside Strawberry Port Revitalization       1\n",
       "Countryside Clover Rail Connector            1\n",
       "Tranquil Truck Trot                          1\n",
       "Greenway Gables Managed Lanes                1\n",
       "Transit Treasure Transit Oasis               1\n",
       "Bunny Lane HOV+2 Heaven                      1\n",
       "Wildflower Wonders Highway Expansion         1\n",
       "Mountain View Mansion Interchange            1\n",
       "Passing Lane Paradise Found                  1\n",
       "Sparkle City Smart Streets Initiative        1\n",
       "Traffic Tamer Turtle Pace                    1\n",
       "Coastal Commuter Carousel                    1\n",
       "Rolling Renaissance Rabbit Express           1\n",
       "Brookside Bus Blossom Lane                   1\n",
       "Name: project_name, dtype: int64"
      ]
     },
     "execution_count": 61,
     "metadata": {},
     "output_type": "execute_result"
    }
   ],
   "source": [
    "project.project_name.value_counts()"
   ]
  },
  {
   "cell_type": "markdown",
   "id": "68562b10-b9bd-4892-8780-a66cad1a06d4",
   "metadata": {},
   "source": [
    "#### Merge your dataframes again. \n",
    "* This time the number of unique project names should match the rows of the merged dataframe perfectly.\n",
    "* Make sure to double check that!"
   ]
  },
  {
   "cell_type": "code",
   "execution_count": 58,
   "id": "db09aa04-7a94-4b94-9ade-10b1a987e006",
   "metadata": {},
   "outputs": [
    {
     "data": {
      "text/plain": [
       "(47, 20)"
      ]
     },
     "execution_count": 58,
     "metadata": {},
     "output_type": "execute_result"
    }
   ],
   "source": [
    "m2 = pd.merge(project, score, on='project_name', indicator=True, how=\"outer\", validate = 'm:1')\n",
    "#m2.head(2)\n",
    "m2.shape"
   ]
  },
  {
   "cell_type": "code",
   "execution_count": null,
   "id": "04f4f6d8-55b6-460c-8a52-8626dcfd1cb9",
   "metadata": {},
   "outputs": [],
   "source": []
  },
  {
   "cell_type": "code",
   "execution_count": null,
   "id": "39d74f54-a72b-4acc-91b0-b3dcb4539a92",
   "metadata": {},
   "outputs": [],
   "source": []
  },
  {
   "cell_type": "markdown",
   "id": "3965dc2d-9603-4a95-a1fd-ef0b7a80eaaa",
   "metadata": {},
   "source": [
    "#### Save this dataframe as a parquet to GCS under a new name\n",
    "* Use a `f-string`"
   ]
  },
  {
   "cell_type": "code",
   "execution_count": null,
   "id": "70410a43-62c9-467c-b777-3415f22abe01",
   "metadata": {},
   "outputs": [],
   "source": []
  },
  {
   "cell_type": "markdown",
   "id": "8231c525-ec3a-4e91-b378-1ca51a5f4de8",
   "metadata": {},
   "source": [
    "## Groupby\n",
    "* You're done merging...Oh wait, that wasn't even part of your manager's request. You still need to aggregate. \n",
    "* By Caltrans District to find\n",
    "    * Median overall score\n",
    "    * Max overall score \n",
    "    * Min overall score\n",
    "    * Number of unique projects\n",
    "* There are many options Some are `groupby / agg`, `pivot_table`, `groupby / transform`\n",
    "* <b>Resource</b>: \n",
    "    * [DDS Docs](https://docs.calitp.org/data-infra/analytics_new_analysts/01-data-analysis-intro.html#aggregating)"
   ]
  },
  {
   "cell_type": "code",
   "execution_count": null,
   "id": "02f34bdf-3c17-4674-bdf0-f9982e7fac0a",
   "metadata": {},
   "outputs": [],
   "source": [
    "# Practice tutorial linked above here"
   ]
  },
  {
   "cell_type": "markdown",
   "id": "849f8fc8-b356-4169-9398-dafd72956afe",
   "metadata": {},
   "source": [
    "### Apply your new knowledge to the prompt above.\n",
    "* Hint: After aggregating, some of the column names will no longer be relevant. \n",
    "* For example, if you use `scope_of_work` to count the number of projects, this column no longer represents `scope_of_work`.\n",
    "* It should be renamed something like `n_projects`.\n",
    "* Rename your columns using this `df.rename(columns={\"old_column_name\":\"new_column_name\"})`"
   ]
  },
  {
   "cell_type": "code",
   "execution_count": null,
   "id": "70178e81-0d11-4d19-9001-96e466d6dced",
   "metadata": {},
   "outputs": [],
   "source": []
  },
  {
   "cell_type": "markdown",
   "id": "452b850a-7e15-473f-93d8-0133d496fa96",
   "metadata": {},
   "source": [
    "## Visualizing \n",
    "* You're done aggregating, but the dataframe looks objectively plain.\n",
    "* Let's explore a couple of ways to present your data."
   ]
  },
  {
   "cell_type": "markdown",
   "id": "ba703a21-6e54-4667-8607-d4b8900f6371",
   "metadata": {},
   "source": [
    "### Styling a Dataframe\n",
    "* `pandas` has quite a few options that allow you to style your dataframe.\n",
    "* [This tutorial](https://betterdatascience.com/style-pandas-dataframes/) offers some great ways to jazz up your dataframe.\n",
    "* You can always read the [pandas documentation](https://pandas.pydata.org/pandas-docs/stable/user_guide/style.html) for more ideas.\n",
    "* Some ideas:\n",
    "    * Change the font\n",
    "    * Turn off the index\n",
    "    * Use colors to code low-high values\n",
    "    * Change the alignment of the values"
   ]
  },
  {
   "cell_type": "code",
   "execution_count": null,
   "id": "a0d8b97b-0f34-495a-8dfb-61642c44879a",
   "metadata": {},
   "outputs": [],
   "source": [
    "# Practice here "
   ]
  },
  {
   "cell_type": "markdown",
   "id": "c251617a-1936-4df1-b461-cc63f4be5e37",
   "metadata": {},
   "source": [
    "### Altair\n",
    "* While a table is great, sometimes a chart is a better way to display an insight.\n",
    "* Our preferred visualization library is `Altair`.\n",
    "    * Docs page is [here](https://altair-viz.github.io/).\n",
    "* The code to create a simple bar chart goes something like this. \n",
    "    * `alt.Chart(source).mark_bar().encode(x='a',y='b')`\n",
    "    * `source` is the dataframe you want to use for your chart.\n",
    "    * `x` denotes the column you are plotting on the X-axis. Make sure your column name has quotation marks around it. \n",
    "    * `y` denotes the column you are plotting on the Y-axis. \n",
    "* <b>Make your first chart below.</b>"
   ]
  },
  {
   "cell_type": "code",
   "execution_count": null,
   "id": "fdcece32-d053-4b32-9e76-0f5ffed9ff52",
   "metadata": {},
   "outputs": [],
   "source": [
    "alt.Chart(agg1).mark_bar().encode(\n",
    "    x=\"ct_district\", y=\"n_projects\"\n",
    ")"
   ]
  },
  {
   "cell_type": "markdown",
   "id": "ff3cf65e-174c-4ee2-bdc3-ca07f3bb951f",
   "metadata": {},
   "source": [
    "#### Customizing\n",
    "* `altair` offers an endless ways to amp up the personality of your chart.\n",
    "* Additionally, the chart above without a title and legend is a data visualization \"taboo\" and the dull blue is uninspiring. \n",
    "\n",
    "#### Add a title\n",
    "* You can do so within  `.Chart()`\n",
    "`alt.Chart(source,  title=\"your_title_here\").mark_bar().encode(x='a',y='b')`"
   ]
  },
  {
   "cell_type": "code",
   "execution_count": null,
   "id": "fc691315-e545-4120-971e-7a8f295a7c19",
   "metadata": {},
   "outputs": [],
   "source": [
    "alt.Chart(agg1, title=\"your_title_here\").mark_bar().encode(\n",
    "    x=\"ct_district\", y=\"n_projects\"\n",
    ")"
   ]
  },
  {
   "cell_type": "markdown",
   "id": "03fa6313-cbf7-4c3a-af76-8012b0a927ef",
   "metadata": {},
   "source": [
    "#### Different Charts\n",
    "* If you want something that isn't a bar chart, simply swap out `.mark_bar()` for `.mark_line` or `mark_circle`.\n"
   ]
  },
  {
   "cell_type": "code",
   "execution_count": null,
   "id": "9b94c3f2-af01-43d4-9f17-98cd863511a3",
   "metadata": {},
   "outputs": [],
   "source": [
    "alt.Chart(agg1, title=\"your_title_here\").mark_line().encode(\n",
    "    x=\"ct_district\", y=\"n_projects\"\n",
    ")"
   ]
  },
  {
   "cell_type": "markdown",
   "id": "1d7073ac-6528-4999-9c9c-94c8147c0ac6",
   "metadata": {},
   "source": [
    "#### Add some color/DDS's Python Library\n",
    "* We have some default color palettes that are already in our [internal library of functions](https://docs.calitp.org/data-infra/analytics_tools/python_libraries.html#calitp-data-analysis)."
   ]
  },
  {
   "cell_type": "code",
   "execution_count": null,
   "id": "cb8df2a3-bf37-4fe4-833e-1259a6ad7f15",
   "metadata": {},
   "outputs": [],
   "source": [
    "# Import the color palettes\n",
    "from calitp_data_analysis import calitp_color_palette"
   ]
  },
  {
   "cell_type": "markdown",
   "id": "102dac58-605a-4bfb-88f8-b9a11ea86b83",
   "metadata": {},
   "source": [
    "* To see what is inside a module,  put two question marks behind it.\n",
    "* From here, you can choose another color palette."
   ]
  },
  {
   "cell_type": "code",
   "execution_count": null,
   "id": "aa21d088-3360-4d3e-811c-8cc5bdb2d3a8",
   "metadata": {
    "scrolled": true,
    "tags": []
   },
   "outputs": [],
   "source": [
    "calitp_color_palette??"
   ]
  },
  {
   "cell_type": "markdown",
   "id": "f3971ba8-1c8f-4003-8e34-c3fd31f3f585",
   "metadata": {},
   "source": [
    "* Place the column you want the colors to be based on in `color=alt.Color(column)`\n",
    "* Place your color palette in the `scale` argument `scale=alt.Scale(range=your_color_palette)`."
   ]
  },
  {
   "cell_type": "code",
   "execution_count": null,
   "id": "c629f242-9b1b-49d1-b4b0-1bb956782d69",
   "metadata": {},
   "outputs": [],
   "source": [
    "alt.Chart(agg1, title=\"your_title_here\").mark_bar().encode(\n",
    "    x=\"ct_district\",\n",
    "    y=\"n_projects\",\n",
    "    color=alt.Color(\n",
    "        \"n_projects\",  # This is the column you want the color of your bar to be based on\n",
    "        title=\"legend_title_here\",  # This is the legend of your title\n",
    "        scale=alt.Scale(\n",
    "            range=calitp_color_palette.CALITP_DIVERGING_COLORS  # This is where you can customize the colors,\n",
    "        ),\n",
    "    ),\n",
    ")"
   ]
  },
  {
   "cell_type": "markdown",
   "id": "565ba059-6e2c-4d2b-99a4-665e39c0a0e5",
   "metadata": {},
   "source": [
    "#### Adjusting the Axis\n",
    "* Sometimes, we want to adjust the axis to have a min and max value.\n",
    "* You do so using the `scale=alt.Scale(domain=[min_value, max_value]))` argument behind the X and Y axis."
   ]
  },
  {
   "cell_type": "code",
   "execution_count": null,
   "id": "9832f9fc-53a3-4c5e-ba87-4b346d6f6985",
   "metadata": {},
   "outputs": [],
   "source": [
    "alt.Chart(agg1, title=\"your_title_here\").mark_bar().encode(\n",
    "    x=alt.X(\"ct_district\", scale=alt.Scale(domain=[1, 12])),\n",
    "    y=alt.Y(\"n_projects\", scale=alt.Scale(domain=[0, 10])),\n",
    "    color=alt.Color(\n",
    "        \"n_projects\",\n",
    "        title=\"legend_title_here\",\n",
    "        scale=alt.Scale(range=calitp_color_palette.CALITP_DIVERGING_COLORS),\n",
    "    ),\n",
    ")"
   ]
  },
  {
   "cell_type": "markdown",
   "id": "1cf6657c-f0ab-4c6f-9f83-f5cf16f84e9e",
   "metadata": {},
   "source": [
    "### Finishing Touches \n",
    "* `.properties(width=400, height=250)` adjusts the size of your chart. \n",
    "* `tooltip=[columns you want]` allows you to create a tooltip that pops up when you hover over each bar/circle/etc.\n",
    "* `.mark_bar(size=10)` adjusts the size of the bar/circle/etc."
   ]
  },
  {
   "cell_type": "code",
   "execution_count": null,
   "id": "8b85dd29-88cb-4b4b-b3b7-20ee1851335e",
   "metadata": {},
   "outputs": [],
   "source": [
    "alt.Chart(agg1, title=\"your_title_here\").mark_bar(size=10).encode(\n",
    "    x=alt.X(\"ct_district\", scale=alt.Scale(domain=[1, 12])),\n",
    "    y=alt.Y(\"n_projects\", scale=alt.Scale(domain=[0, 10])),\n",
    "    color=alt.Color(\n",
    "        \"n_projects\",\n",
    "        title=\"legend_title_here\",\n",
    "        scale=alt.Scale(range=calitp_color_palette.CALITP_DIVERGING_COLORS),\n",
    "    ),\n",
    "    tooltip=[\"ct_district\", \"n_projects\"],\n",
    ").properties(width=400, height=250)"
   ]
  },
  {
   "cell_type": "markdown",
   "id": "281e37d9-8ece-471d-abc2-38e4ad9f9e83",
   "metadata": {
    "tags": []
   },
   "source": [
    "### We have only visualized one column of data. \n",
    "* We have only visualized one column of data, but we have a couple of columns above. \n",
    "* Try to customize your graph. If you can dream it, you can probably do it with Altair. \n",
    "    * You can turn off the grid lines, rotate the axis labels by various degrees, label the bars, add a dropdown menu to change the axis, and more. \n",
    "* Make a few other charts in different styles.\n",
    "* Inspiration\n",
    "    * Altair's [gallery](https://altair-viz.github.io/gallery/index.html)\n",
    "    * DDS's [portfolio](https://analysis.calitp.org/)\n"
   ]
  },
  {
   "cell_type": "code",
   "execution_count": null,
   "id": "ffbfbafb-1055-448c-a889-18d1fe508cab",
   "metadata": {},
   "outputs": [],
   "source": []
  }
 ],
 "metadata": {
  "kernelspec": {
   "display_name": "Python 3 (ipykernel)",
   "language": "python",
   "name": "python3"
  },
  "language_info": {
   "codemirror_mode": {
    "name": "ipython",
    "version": 3
   },
   "file_extension": ".py",
   "mimetype": "text/x-python",
   "name": "python",
   "nbconvert_exporter": "python",
   "pygments_lexer": "ipython3",
   "version": "3.9.13"
  },
  "widgets": {
   "application/vnd.jupyter.widget-state+json": {
    "state": {},
    "version_major": 2,
    "version_minor": 0
   }
  }
 },
 "nbformat": 4,
 "nbformat_minor": 5
}
