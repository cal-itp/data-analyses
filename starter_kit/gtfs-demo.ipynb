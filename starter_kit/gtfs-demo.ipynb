{
 "cells": [
  {
   "cell_type": "markdown",
   "id": "b3bbbd03-a473-40ae-8dde-0e1b1281674b",
   "metadata": {},
   "source": [
    "# GTFS schedule tables demo\n",
    "\n",
    "* Take a look at 1 route for 1 operator, and see how `trips`, `shapes`, `stops`, and `stop_times` look"
   ]
  },
  {
   "cell_type": "code",
   "execution_count": null,
   "id": "03321531-5803-4eb2-959f-f7e83802841a",
   "metadata": {},
   "outputs": [],
   "source": [
    "import geopandas as gpd\n",
    "import pandas as pd\n",
    "\n",
    "date = \"2023-08-16\"\n",
    "GCS_FILE_PATH = (\"gs://calitp-analytics-data/data-analyses/\"\n",
    "                 \"rt_delay/compiled_cached_views/\")"
   ]
  },
  {
   "cell_type": "code",
   "execution_count": null,
   "id": "1f15d2a9-f918-4c6d-a62d-de65fd062701",
   "metadata": {},
   "outputs": [],
   "source": [
    "trips = pd.read_parquet(\n",
    "    f\"{GCS_FILE_PATH}trips_{date}.parquet\"\n",
    ")\n",
    "\n",
    "trips = trips[(trips.name == \"Sacramento Schedule\") &\n",
    "              (trips.route_id == \"507\")][\n",
    "    [\"feed_key\", \"name\", \"trip_id\", \n",
    "     \"route_id\", \"direction_id\", \n",
    "     \"shape_array_key\", \"shape_id\"]\n",
    "].reset_index(drop=True)"
   ]
  },
  {
   "cell_type": "code",
   "execution_count": null,
   "id": "4c194d7b-a77b-47eb-8746-a6c8847f8e1d",
   "metadata": {},
   "outputs": [],
   "source": [
    "sac_feed = trips.feed_key.iloc[0]\n",
    "sac_feed"
   ]
  },
  {
   "cell_type": "code",
   "execution_count": null,
   "id": "812dd154-133d-44e3-ba20-b4ab3ff1dab0",
   "metadata": {},
   "outputs": [],
   "source": [
    "sac_trips = trips.trip_id.unique().tolist()\n",
    "len(sac_trips)"
   ]
  },
  {
   "cell_type": "code",
   "execution_count": null,
   "id": "e37d3fb7-f578-4610-8a0d-0b4fb95fd7e4",
   "metadata": {},
   "outputs": [],
   "source": [
    "sac_shapes = trips.shape_array_key.unique().tolist()\n",
    "sac_shapes"
   ]
  },
  {
   "cell_type": "code",
   "execution_count": null,
   "id": "f78e619f-15fe-4e02-aaf1-afaca3a53a6b",
   "metadata": {},
   "outputs": [],
   "source": [
    "shapes = gpd.read_parquet(\n",
    "    f\"{GCS_FILE_PATH}routelines_{date}.parquet\"\n",
    ")\n",
    "\n",
    "shapes = shapes[\n",
    "    shapes.shape_array_key.isin(sac_shapes)][\n",
    "    [\"shape_array_key\", \"shape_id\", \"geometry\"]\n",
    "].reset_index(drop=True)"
   ]
  },
  {
   "cell_type": "code",
   "execution_count": null,
   "id": "a2dd5ca6-5caa-4491-9dba-b58ae9861951",
   "metadata": {},
   "outputs": [],
   "source": [
    "stop_times = pd.read_parquet(\n",
    "    f\"{GCS_FILE_PATH}st_{date}.parquet\"\n",
    ")\n",
    "\n",
    "stop_times = stop_times[(stop_times.feed_key == sac_feed) & \n",
    "                        (stop_times.trip_id.isin(sac_trips))\n",
    "                       ][[\"feed_key\", \"trip_id\", \n",
    "                          \"stop_id\", \"stop_sequence\", \n",
    "                          \"arrival_sec\"]]"
   ]
  },
  {
   "cell_type": "code",
   "execution_count": null,
   "id": "3195d387-c4cf-4b48-91bd-8ad63b762e1a",
   "metadata": {},
   "outputs": [],
   "source": [
    "sac_stops = stop_times.stop_id.unique().tolist()\n",
    "len(sac_stops)"
   ]
  },
  {
   "cell_type": "code",
   "execution_count": null,
   "id": "23d51574-9c1f-4ebb-abcc-5272d80025f5",
   "metadata": {},
   "outputs": [],
   "source": [
    "stops = gpd.read_parquet(\n",
    "    f\"{GCS_FILE_PATH}stops_{date}.parquet\"\n",
    ")\n",
    "\n",
    "stops = stops[(stops.feed_key==sac_feed) & \n",
    "              (stops.stop_id.isin(sac_stops))\n",
    "             ][\n",
    "    [\"feed_key\", \"stop_id\", \"geometry\"]\n",
    "].reset_index(drop=True)"
   ]
  },
  {
   "cell_type": "code",
   "execution_count": null,
   "id": "3016dea0-ef5a-4b82-a644-c8c433380b7b",
   "metadata": {},
   "outputs": [],
   "source": [
    "trips.shape, stops.shape, stop_times.shape, shapes.shape"
   ]
  },
  {
   "cell_type": "code",
   "execution_count": null,
   "id": "0065ba51-6644-4840-ac0a-3442d10d25ca",
   "metadata": {},
   "outputs": [],
   "source": [
    "trips.head()"
   ]
  },
  {
   "cell_type": "code",
   "execution_count": null,
   "id": "c730fc16-9071-41ad-8023-1e22cc0aa35c",
   "metadata": {},
   "outputs": [],
   "source": [
    "trips.direction_id.value_counts()"
   ]
  },
  {
   "cell_type": "code",
   "execution_count": null,
   "id": "ffa8460b-f57d-4848-ab12-6bea06975ced",
   "metadata": {},
   "outputs": [],
   "source": [
    "trips.shape_array_key.value_counts()"
   ]
  },
  {
   "cell_type": "code",
   "execution_count": null,
   "id": "822efc35-35dd-439b-9015-593f583630ad",
   "metadata": {},
   "outputs": [],
   "source": [
    "shapes.head(1).explore(\n",
    "    \"shape_id\",\n",
    "    tiles = \"CartoDB Positron\",\n",
    "    categorical = True\n",
    ")"
   ]
  },
  {
   "cell_type": "code",
   "execution_count": null,
   "id": "2970764f-f31a-4a36-8e01-887798e425e2",
   "metadata": {},
   "outputs": [],
   "source": [
    "shapes.tail(1).explore(\n",
    "    \"shape_id\",\n",
    "    tiles = \"CartoDB Positron\",\n",
    "    categorical = True\n",
    ")"
   ]
  },
  {
   "cell_type": "code",
   "execution_count": null,
   "id": "ade53467-de67-41b0-89ff-e6fdc254e3ab",
   "metadata": {},
   "outputs": [],
   "source": [
    "stops.head()"
   ]
  },
  {
   "cell_type": "code",
   "execution_count": null,
   "id": "0339fa59-dc93-4446-a4ac-4cbc451ec279",
   "metadata": {},
   "outputs": [],
   "source": [
    "stops.explore(\"stop_id\", tiles = \"CartoDB Positron\")"
   ]
  },
  {
   "cell_type": "code",
   "execution_count": null,
   "id": "f0e4ee35-67da-4080-a889-98a8ef0350fb",
   "metadata": {},
   "outputs": [],
   "source": [
    "stop_times.sort_values([\"trip_id\", \"stop_sequence\"]).head(20)"
   ]
  },
  {
   "cell_type": "code",
   "execution_count": null,
   "id": "e09b1d4a-b982-45ae-92c1-29321e793b7d",
   "metadata": {},
   "outputs": [],
   "source": [
    "pd.merge(\n",
    "    stop_times,\n",
    "    stops,\n",
    "    on = [\"feed_key\", \"stop_id\"]\n",
    ")[[\"feed_key\", \"trip_id\", \"stop_id\", \"geometry\"]].sort_values(\"trip_id\")"
   ]
  },
  {
   "cell_type": "code",
   "execution_count": null,
   "id": "65b680c5-03bb-40c2-821f-117a05825e0a",
   "metadata": {},
   "outputs": [],
   "source": [
    "pd.merge(\n",
    "    shapes,\n",
    "    trips,\n",
    "    on = [\"shape_array_key\", \"shape_id\"]\n",
    ")[[\"feed_key\", \"shape_array_key\", \"shape_id\", \"trip_id\", \"geometry\"]]"
   ]
  },
  {
   "cell_type": "code",
   "execution_count": null,
   "id": "09909118-6582-4134-9d7a-27eb79821bfa",
   "metadata": {},
   "outputs": [],
   "source": []
  }
 ],
 "metadata": {
  "kernelspec": {
   "display_name": "Python 3 (ipykernel)",
   "language": "python",
   "name": "python3"
  },
  "language_info": {
   "codemirror_mode": {
    "name": "ipython",
    "version": 3
   },
   "file_extension": ".py",
   "mimetype": "text/x-python",
   "name": "python",
   "nbconvert_exporter": "python",
   "pygments_lexer": "ipython3",
   "version": "3.9.13"
  }
 },
 "nbformat": 4,
 "nbformat_minor": 5
}
