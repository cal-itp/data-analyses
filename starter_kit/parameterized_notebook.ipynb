{
 "cells": [
  {
   "cell_type": "markdown",
   "id": "5dc82218-7670-440a-8c96-183ef1dc4918",
   "metadata": {},
   "source": [
    "# How to set up a parameterized notebook.\n",
    "* This notebook corresponds with [this page](https://docs.calitp.org/data-infra/publishing/sections/5_notebooks_styling.html#parameterized-titles) in our docs.\n",
    "* You must have all of these elements and do all these steps in order for the parameterization process to work."
   ]
  },
  {
   "cell_type": "markdown",
   "id": "46c39238-fb2c-42be-998c-81f8881e1f5e",
   "metadata": {},
   "source": [
    "# First cell\n",
    "* The first cell should contain the lines of code below in this <b>exact</b> order.\n",
    "* `import warnings` deletes the warning and error messages that display in your notebook. "
   ]
  },
  {
   "cell_type": "code",
   "execution_count": null,
   "id": "c7edb281-4538-4027-8524-e6280d30f637",
   "metadata": {},
   "outputs": [],
   "source": [
    "%%capture\n",
    "import calitp_data_analysis.magics\n",
    "import warnings\n",
    "warnings.filterwarnings(\"ignore\")\n"
   ]
  },
  {
   "cell_type": "markdown",
   "id": "eda8a18e-de15-4cf0-8f63-7b87264e5ca0",
   "metadata": {
    "tags": [
     "parameters"
    ]
   },
   "source": [
    "# Your Parameter\n",
    "* Let's say you want to use one Jupyter notebook as a template to display graphs and stats for every Caltrans District, so you need to populate the notebook with 12 unique values.\n",
    "    * You would set  \"project_name\" as your parameter since that is the column that we are going to loop through. \n",
    "* To set this up:\n",
    "    1. Tag the first cell (in this case `district = \"4\"` as a parameter.<br>\n",
    "        * Make sure to leave this cell commented out. \n",
    "        * Go to the upper right hand corner -> click on the gears -> go to \"Cell Tags\" -> Add Tag + -> add a tag called \"parameters\" -> click on the new \"parameters\" tag to ensure a checkmark shows up and it turns dark gray.<br>\n",
    "    <img src=\"./param_nb1.png\" width=\"30%\" height=\"30%\">\n",
    "    2. Leave the second cell as is. \n"
   ]
  },
  {
   "cell_type": "code",
   "execution_count": null,
   "id": "c2a60b32-91f4-436f-8fef-7def7742f4e3",
   "metadata": {
    "tags": [
     "parameters"
    ]
   },
   "outputs": [],
   "source": [
    "# district = \"4\""
   ]
  },
  {
   "cell_type": "code",
   "execution_count": null,
   "id": "cde62ae4-89a0-41f9-9f3d-1550c5bfda37",
   "metadata": {},
   "outputs": [],
   "source": [
    "%%capture_parameters\n",
    "district"
   ]
  },
  {
   "cell_type": "markdown",
   "id": "0b39dec3-eed9-4028-9caa-2e3938eaa085",
   "metadata": {},
   "source": [
    "# Table of Content\n",
    "* `{district}` below is the parameter above in a markdown cell.\n",
    "* This `{district}` creates the Table of Contents on the left hand side used to navigate your GitHub pages.<br>\n",
    "* Without a Table of Contents, the notebook will be created but then there'd be no index to list out the pages for people to see.\n",
    "* Note, any styling (italicizing, bolding, changing the colors) you use in the markdown cell below will reflect in the Table of Contents.<br>\n",
    "* Below, you can see District 1: Eureka is displayed as the first header and is also the page's name in the Table of Content<br>\n",
    "<img src=\"./param_nb2.png\" width=\"30%\" height=\"30%\">"
   ]
  },
  {
   "cell_type": "markdown",
   "id": "93362077-1b4a-4c53-a49a-531ce3c669cc",
   "metadata": {},
   "source": [
    "# {district}"
   ]
  },
  {
   "cell_type": "markdown",
   "id": "2921b8ef-de25-4b7b-9443-d7a54a62db8b",
   "metadata": {},
   "source": []
  },
  {
   "cell_type": "markdown",
   "id": "3acf4b9d-9f01-4f0c-a619-4578a4892646",
   "metadata": {},
   "source": [
    "# You're now finished setting up your parameterized notebook. \n",
    "* Create a yml file that contains all of the unique values to loop over.\n",
    "    * See examples in `data-analyses/portfolio/sites`\n",
    "* Navigate back to the `data-analyses` repo and install the portfolio requirements.\n",
    "    * `cd ../ && pip install -r portfolio/requirements.txt`\n",
    "* Generate your notebook\n",
    "    * Example, you create a yml file called districts_analysis.yml you'd run the line below\n",
    "    * `python portfolio/portfolio.py build districts_analysis  --deploy` \n",
    "* If you update your notebook\n",
    "    * Clean out the directory holding your old notebooks `python portfolio/portfolio.py clean districts_analysis`\n",
    "    * Run the line above again to regenerate the new pages. "
   ]
  }
 ],
 "metadata": {
  "kernelspec": {
   "display_name": "Python 3 (ipykernel)",
   "language": "python",
   "name": "python3"
  },
  "language_info": {
   "codemirror_mode": {
    "name": "ipython",
    "version": 3
   },
   "file_extension": ".py",
   "mimetype": "text/x-python",
   "name": "python",
   "nbconvert_exporter": "python",
   "pygments_lexer": "ipython3",
   "version": "3.9.13"
  }
 },
 "nbformat": 4,
 "nbformat_minor": 5
}
