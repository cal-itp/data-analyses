{
 "cells": [
  {
   "cell_type": "markdown",
   "id": "be271b0b-3fc1-4b28-998f-6c3ee50140f3",
   "metadata": {},
   "source": [
    "## Exercise 5: Geospatial wrangling and making maps\n",
    "\n",
    "Skills: \n",
    "* More geospatial practice building on earlier skills\n",
    "* Make a map with `geopandas`\n",
    "\n",
    "References: \n",
    "* https://docs.calitp.org/data-infra/analytics_new_analysts/data-analysis-intermediate.html\n",
    "* https://docs.calitp.org/data-infra/analytics_tools/python_libraries.html\n",
    "* https://docs.calitp.org/data-infra/analytics_examples/warehouse_tutorial.html\n",
    "* https://docs.calitp.org/data-infra/analytics_examples/new_tutorial.html"
   ]
  },
  {
   "cell_type": "code",
   "execution_count": 1,
   "id": "cd857644-ccaa-4eb8-8e67-f506a46bbace",
   "metadata": {},
   "outputs": [
    {
     "name": "stderr",
     "output_type": "stream",
     "text": [
      "/opt/conda/lib/python3.9/site-packages/geopandas/_compat.py:123: UserWarning: The Shapely GEOS version (3.10.3-CAPI-1.16.1) is incompatible with the GEOS version PyGEOS was compiled with (3.10.1-CAPI-1.16.0). Conversions between both will be slow.\n",
      "  warnings.warn(\n"
     ]
    }
   ],
   "source": [
    "import geopandas as gpd\n",
    "import intake\n",
    "import os\n",
    "import pandas as pd\n",
    "import shapely\n",
    "\n",
    "os.environ[\"CALITP_BQ_MAX_BYTES\"] = str(100_000_000_000)\n",
    "\n",
    "from calitp_data_analysis.tables import tbls\n",
    "from siuba import *\n",
    "\n",
    "# Hint: if this doesn't import: refer to docs for correctly import\n",
    "# cd into _shared_utils folder, run the make setup_env command\n",
    "import shared_utils"
   ]
  },
  {
   "cell_type": "markdown",
   "id": "6c762aa7-15ac-4f6d-9867-e35b0b723a57",
   "metadata": {},
   "source": [
    "## Research Question\n",
    "\n",
    "What's the average number of trips per stop by operators in southern California? Show visualizations at the operator and county-level.\n",
    "<br>**Geographic scope:** southern California counties\n",
    "<br>**Deliverables:** chart(s) and map(s) showing metrics comparing across counties and also across operators. Make these visualizations using function(s).\n",
    "\n",
    "### Prep data\n",
    "\n",
    "* Use the same query, but grab a different set of operators. These are in southern California, so the map should zoom in counties ranging from LA to SD.\n",
    "* *Hint*: for some counties, there are multiple operators. Make sure the average stop events per stop by counties is the weighted average.\n",
    "* Use the same [shapefile for CA counties](https://gis.data.ca.gov/datasets/CALFIRE-Forestry::california-county-boundaries/explore?location=37.246136%2C-119.002032%2C6.12) as in Exercise 4.\n",
    "* Join the data and only keep counties that have bus stops."
   ]
  },
  {
   "cell_type": "code",
   "execution_count": 3,
   "id": "3d11c71e-06f2-4419-827e-8a4e0876f412",
   "metadata": {},
   "outputs": [],
   "source": [
    "feeds_to_names = shared_utils.gtfs_utils_v2.schedule_daily_feed_to_organization(\n",
    "    selected_date = \"2022-06-01\",\n",
    "    get_df = True\n",
    ")[[\"feed_key\", \"name\"]].drop_duplicates()"
   ]
  },
  {
   "cell_type": "code",
   "execution_count": 4,
   "id": "277963d3-fb42-44db-83ae-9ba310e6c383",
   "metadata": {},
   "outputs": [],
   "source": [
    "OPERATORS = [\n",
    "    \"Alhambra Schedule\", \n",
    "    \"San Diego Schedule\",\n",
    "    \"Big Blue Bus Schedule\",\n",
    "    \"Culver City Schedule\",\n",
    "    \"OmniTrans Schedule\",\n",
    "    \"OCTA Schedule\"\n",
    "]\n",
    "\n",
    "SUBSET_FEEDS = feeds_to_names[\n",
    "    feeds_to_names.name.isin(OPERATORS)\n",
    "].feed_key.tolist()"
   ]
  },
  {
   "cell_type": "code",
   "execution_count": 5,
   "id": "cb619ecd-d33d-4d77-b9d0-547958dd069f",
   "metadata": {},
   "outputs": [
    {
     "name": "stderr",
     "output_type": "stream",
     "text": [
      "/opt/conda/lib/python3.9/site-packages/sqlalchemy_bigquery/_types.py:101: SAWarning: Did not recognize type 'GEOGRAPHY' of column 'pt_geom'\n"
     ]
    }
   ],
   "source": [
    "stops = (\n",
    "    tbls.mart_gtfs.fct_daily_scheduled_stops()\n",
    "    >> filter(_.feed_key.isin(SUBSET_FEEDS))\n",
    "    >> filter(_.activity_date == \"2022-06-01\")\n",
    "    >> select(_.feed_key, \n",
    "              _.stop_id, _.pt_geom)\n",
    "    >> collect()\n",
    ")"
   ]
  },
  {
   "cell_type": "markdown",
   "id": "8a89644b-4f56-40cc-b808-d5ddb7cfd1ef",
   "metadata": {},
   "source": [
    "Check the type of `stops`. Is it a pandas df or geopandas gdf?"
   ]
  },
  {
   "cell_type": "code",
   "execution_count": null,
   "id": "716059a9-55e4-4696-a6ae-26ae982b70ed",
   "metadata": {},
   "outputs": [],
   "source": []
  },
  {
   "cell_type": "code",
   "execution_count": 8,
   "id": "5d1b1ae2-84a6-4f0a-8635-6f8575bf842c",
   "metadata": {},
   "outputs": [],
   "source": [
    "# Turn stops into a gdf\n",
    "geom = [shapely.wkt.loads(x) for x in stops.pt_geom]\n",
    "\n",
    "stops = gpd.GeoDataFrame(\n",
    "    stops, \n",
    "    geometry=geom, \n",
    "    crs=\"EPSG:4326\"\n",
    ").drop(columns=\"pt_geom\")"
   ]
  },
  {
   "cell_type": "markdown",
   "id": "ea41dd6f-4e50-4dc3-a349-82ef1acdd621",
   "metadata": {},
   "source": [
    "Check the type of `stops`. Is it a pandas df or geopandas gdf?\n",
    "\n",
    "What is the CRS and geometry column name?"
   ]
  },
  {
   "cell_type": "code",
   "execution_count": null,
   "id": "2de7a91f-a372-4f58-b20c-51a039afb286",
   "metadata": {},
   "outputs": [],
   "source": []
  },
  {
   "cell_type": "markdown",
   "id": "893a7fff-a99e-4eed-ae04-1cf5f6549f9d",
   "metadata": {},
   "source": [
    "### Bring in a new table from BigQuery\n",
    "\n",
    "* In `mart_gtfs`, bring in the table called `fct_daily_scheduled_stops` for the subset of feeds defined above.\n",
    "* Modify the snippet below to:\n",
    "   * filter for the subset of operators\n",
    "   * only keep columns: `feed_key`, `stop_id`, `stop_event_count`"
   ]
  },
  {
   "cell_type": "code",
   "execution_count": null,
   "id": "14b70ab4-b500-4d89-b9bc-fbb9363b0ef3",
   "metadata": {},
   "outputs": [],
   "source": [
    "stop_counts = (\n",
    "    tbls.mart_gtfs.fct_daily_scheduled_stops()\n",
    "    >> filter(_.activity_date == \"2022-06-01\")\n",
    ")"
   ]
  },
  {
   "cell_type": "markdown",
   "id": "e8f32be3-7e0e-4c51-affd-1c67b879b0ec",
   "metadata": {},
   "source": [
    "### Aggregate\n",
    "* Write a function to aggregate to the operator level or county level, add new columns for desired metrics.\n",
    "* Merge in CA shapefile to get a gdf.\n",
    "* Add another `geometry` column, called `centroid`, and grab the county's centroid.\n",
    "* Refer to [docs](https://geopandas.org/en/stable/docs/reference/api/geopandas.GeoDataFrame.set_geometry.html) to see how to pick which column to use as the `geometry` for the gdf, since technically, a gdf can handle multiple geometry columns."
   ]
  },
  {
   "cell_type": "markdown",
   "id": "e0e929da-d4c9-46a5-8163-d4949489e039",
   "metadata": {},
   "source": [
    "### Step by Step\n",
    "* Merge the 2 dataframes (`stops` and `stop_counts`) so that for every stop, you have the stop counts and the point geometry.\n",
    "* Put the gdf on the left so that your resulting df is a gdf.\n",
    "* Check the `type()` and make sure your merged df is a gdf."
   ]
  },
  {
   "cell_type": "code",
   "execution_count": null,
   "id": "34d6c962-a61a-4df2-9244-7bf4ca0415c4",
   "metadata": {},
   "outputs": [],
   "source": []
  },
  {
   "cell_type": "markdown",
   "id": "9603d57c-8884-4338-ba4a-f4549d9da98b",
   "metadata": {},
   "source": [
    "Aggregate the merged stops gdf to the operator level.\n",
    "\n",
    "Find the number of stops an operator has and the total number of stop events that occurred for that operator."
   ]
  },
  {
   "cell_type": "code",
   "execution_count": null,
   "id": "77033424-da65-4828-941b-80d905f17c80",
   "metadata": {},
   "outputs": [],
   "source": []
  },
  {
   "cell_type": "markdown",
   "id": "ab3ac5ad-252a-4f1b-a154-85bb535e7038",
   "metadata": {},
   "source": [
    "Do a spatial join of stops to CA counties.\n",
    "\n",
    "This answers the question: which county does this stop fall in? \n",
    "```\n",
    "stops_in_counties = gpd.sjoin(\n",
    "   stops,\n",
    "   ca_counties,\n",
    "   how = \"inner\",\n",
    "   predicate = \"intersects\"\n",
    ")\n",
    "```\n",
    "\n",
    "Take a look at the result. What new column is added? What is the geometry column? Is it point or line or polygon?"
   ]
  },
  {
   "cell_type": "code",
   "execution_count": null,
   "id": "0047647f-6fb9-4b2f-b51c-1503c83b2aa0",
   "metadata": {},
   "outputs": [],
   "source": []
  },
  {
   "cell_type": "markdown",
   "id": "c5d1d666-d500-45b1-98e8-2426ddc92892",
   "metadata": {},
   "source": [
    "Only keep the counties that have stops with it. Adjust the spatial join `how=` parameter to do this."
   ]
  },
  {
   "cell_type": "code",
   "execution_count": null,
   "id": "23987693-1d41-416a-80bf-38748698021a",
   "metadata": {},
   "outputs": [],
   "source": []
  },
  {
   "cell_type": "markdown",
   "id": "e99649d7-afcf-47fa-a1e4-5ab2bff03a40",
   "metadata": {},
   "source": [
    "Aggregate the spatial join result to the county level. \n",
    "\n",
    "For each county, calculate the number of operators, stops, and stop events. "
   ]
  },
  {
   "cell_type": "code",
   "execution_count": null,
   "id": "3b2f54b0-7488-465f-af93-377d034ba166",
   "metadata": {},
   "outputs": [],
   "source": []
  },
  {
   "cell_type": "markdown",
   "id": "c1e701ed-e3b1-46f6-9298-0134cd4b8e86",
   "metadata": {},
   "source": [
    "Calculate the number of stop events per stop for each county. Add this as a new column."
   ]
  },
  {
   "cell_type": "code",
   "execution_count": null,
   "id": "cff1ae0b-6645-48d0-8983-808a65a6d8d5",
   "metadata": {},
   "outputs": [],
   "source": []
  },
  {
   "cell_type": "markdown",
   "id": "533611ec-f316-4459-9237-476e5fcbfee0",
   "metadata": {},
   "source": [
    "### Visualizations\n",
    "* Make one chart for comparing trips per stop by operators, and another chart for comparing it by counties. Use a function to do this.\n",
    "* Make 1 map for comparing trips per stop by counties. Use `gdf.explore()` to do this.\n",
    "* Visualizations should follow the Cal-ITP style guide: [styleguide example notebook](https://github.com/cal-itp/data-analyses/blob/main/example_report/style-guide-examples.ipynb)\n",
    "* More on `folium` and `ipyleaflet`: https://github.com/jorisvandenbossche/geopandas-tutorial/blob/master/05-more-on-visualization.ipynb"
   ]
  },
  {
   "cell_type": "code",
   "execution_count": null,
   "id": "f2349ddd-8cb6-4452-95ab-8a0d1aca3b20",
   "metadata": {},
   "outputs": [],
   "source": [
    "# To add styleguide\n",
    "from shared_utils import styleguide\n",
    "from shared_utils import calitp_color_palette as cp"
   ]
  },
  {
   "cell_type": "markdown",
   "id": "485b5fbc-ece4-49b6-a334-bde0ac1b1eec",
   "metadata": {},
   "source": [
    "Make a chart and a map of total stop events by county."
   ]
  },
  {
   "cell_type": "code",
   "execution_count": null,
   "id": "209e3570-2cfe-457d-a835-af0d4e5ed4da",
   "metadata": {},
   "outputs": [],
   "source": []
  },
  {
   "cell_type": "markdown",
   "id": "8e125ae4-cccf-4227-aa0d-588f8e7ce466",
   "metadata": {},
   "source": [
    "Make a chart and a map of stop events per stop by county."
   ]
  },
  {
   "cell_type": "code",
   "execution_count": null,
   "id": "666215a8-5bdb-4a0f-bb19-f8b2a0eb5469",
   "metadata": {},
   "outputs": [],
   "source": []
  },
  {
   "cell_type": "markdown",
   "id": "73ec7178-6143-4500-a54c-674739ce4fed",
   "metadata": {},
   "source": [
    "Use a Markdown cell and write how you would summarize and interpret the visualizations."
   ]
  },
  {
   "cell_type": "code",
   "execution_count": null,
   "id": "cf964e49-abad-456e-bec8-f8ffb7c934d0",
   "metadata": {},
   "outputs": [],
   "source": []
  }
 ],
 "metadata": {
  "kernelspec": {
   "display_name": "Python 3 (ipykernel)",
   "language": "python",
   "name": "python3"
  },
  "language_info": {
   "codemirror_mode": {
    "name": "ipython",
    "version": 3
   },
   "file_extension": ".py",
   "mimetype": "text/x-python",
   "name": "python",
   "nbconvert_exporter": "python",
   "pygments_lexer": "ipython3",
   "version": "3.9.13"
  }
 },
 "nbformat": 4,
 "nbformat_minor": 5
}
