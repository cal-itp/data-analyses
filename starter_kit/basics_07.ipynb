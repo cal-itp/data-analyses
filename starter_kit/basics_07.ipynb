{
 "cells": [
  {
   "cell_type": "markdown",
   "id": "a684938e-2c07-40c7-b9de-537c2e94de6a",
   "metadata": {},
   "source": [
    "# Exercise 7: Deeper dive into `geopandas`\n",
    "\n",
    "Skills:\n",
    "\n",
    "* Attributes to get from `geometry`\n",
    "* Buffering\n",
    "* Multiple `geometry` columns\n",
    "* Clipping\n",
    "* Spatial joins - more discussion on `how` and `predicate` arguments\n",
    "* Overlay - more discussion on `how` arguments\n",
    "\n",
    "References:\n",
    "* spatial join vs overlay [explanation](https://groups.google.com/g/geopandas/c/H_qzH2T5cCE)\n",
    "* `geopandas` tutorials by package creator: https://github.com/jorisvandenbossche/geopandas-tutorial\n",
    "* `geopandas` concepts, explanations, but datasets use Hebrew: https://geobgu.xyz/py/geopandas2.html\n",
    "* Advanced spatial modeling concepts: https://geographicdata.science/book/notebooks/01_geo_thinking.html\n",
    "* [PyGIS](https://pygis.io/docs/a_intro.html) Geospatial Tutorials (focus on ch 1-3)\n",
    "* 7 crucial geoprocessing [tools](https://gisgeography.com/geoprocessing-tools/)"
   ]
  },
  {
   "cell_type": "code",
   "execution_count": null,
   "id": "bc45eb22-3525-4d2b-82a5-8888936402a8",
   "metadata": {},
   "outputs": [],
   "source": [
    "import geopandas as gpd\n",
    "import intake\n",
    "import pandas as pd\n",
    "\n",
    "catalog = intake.open_catalog(\n",
    "    \"../_shared_utils/shared_utils/shared_data_catalog.yml\")"
   ]
  },
  {
   "cell_type": "code",
   "execution_count": null,
   "id": "8e0690d0-e42b-49c7-bcad-aab9bc96ec53",
   "metadata": {},
   "outputs": [],
   "source": [
    "districts = catalog.caltrans_districts.read()\n",
    "stops = catalog.ca_transit_stops.read()"
   ]
  },
  {
   "cell_type": "markdown",
   "id": "e7c16006-e26b-435b-a44c-8b06cab19ada",
   "metadata": {},
   "source": [
    "## Attributes to get from `geometry`\n",
    "\n",
    "A lot of information is stored in the `geometry` column. \n",
    "Take a look at each of the attributes for each of the datasets.\n",
    "\n",
    "For each gdf, look at:\n",
    "* its coordinate reference system (`gdf.crs`) \n",
    "* which column is its geometry (`gdf.geometry.name`)\n",
    "* for a point, get the x, y of the first row (`gdf.geometry.x`, `gdf.geometry.y`)\n",
    "* for a line, get the length of the first row (`gdf.geometry.length`)\n",
    "* for a polygon, get the area of the first row (`gdf.geometry.area`)\n",
    "* note: the length and area must be in units that can be interpreted, such as meters, feet, miles, etc and not decimal degrees."
   ]
  },
  {
   "cell_type": "code",
   "execution_count": null,
   "id": "cef011fc-bf96-4012-b504-8f110032c8ad",
   "metadata": {},
   "outputs": [],
   "source": [
    "districts.crs"
   ]
  },
  {
   "cell_type": "code",
   "execution_count": null,
   "id": "c179d045-adc1-4da7-b972-2fe0d3bcccbd",
   "metadata": {},
   "outputs": [],
   "source": [
    "districts[districts.DISTRICT==7].geometry.iloc[0]"
   ]
  },
  {
   "cell_type": "code",
   "execution_count": null,
   "id": "5eb61c15-2c0d-49de-8f87-6d8f04ef9750",
   "metadata": {},
   "outputs": [],
   "source": [
    "districts = districts.to_crs(\"EPSG:2229\") #unit in feet\n",
    "one_geom = districts[districts.DISTRICT==7].geometry.iloc[0]\n",
    "print(type(one_geom))"
   ]
  },
  {
   "cell_type": "code",
   "execution_count": null,
   "id": "cf168ca1-45f0-457e-b529-adf5e0385831",
   "metadata": {},
   "outputs": [],
   "source": [
    "one_geom.area"
   ]
  },
  {
   "cell_type": "markdown",
   "id": "e7657427-8c47-44b5-b461-537aa9b18d10",
   "metadata": {},
   "source": [
    "## Buffering\n",
    "\n",
    "Typically, you want to draw some radius around a geometry. This is buffering. It is most often used for points and lines, but occasionally, you'll use it for polygons too. The result of a buffer is always a polygon. \n",
    "\n",
    "Examples of questions you're asking:\n",
    "* how many destinations can I reach within 5 miles from my location? (my location is a point, and a 5 mile buffer should be drawn)\n",
    "* how many bus stops are on this road? Well, it's highly unlikely you'll have a bus stop (point) fall exactly on the road (line) in your dataset. Instead, you can draw a small buffer (maybe 20 meters) around the road and see how many bus stops fall within it."
   ]
  },
  {
   "cell_type": "markdown",
   "id": "0812145f-f287-4b14-90bd-04d6c35c22ae",
   "metadata": {},
   "source": [
    "Draw a buffer of 50 meters around the stop and set the `geometry` column to be the buffered geometry.\n",
    "\n",
    "gdfs can hold multiple geometry columns, and geoparquets and GeoJSONs can save files with multiple geometry columns."
   ]
  },
  {
   "cell_type": "code",
   "execution_count": null,
   "id": "810e651a-e164-4afd-bf3a-9dca48e64f0c",
   "metadata": {},
   "outputs": [],
   "source": [
    "stops = stops.to_crs(\"EPSG:3310\") # unit in meters\n",
    "stops = stops.assign(\n",
    "    geometry_buffered = stops.geometry.buffer(50)\n",
    ")\n",
    "\n",
    "stops[[\"agency\", \"stop_id\", \"stop_name\", \n",
    "       \"geometry\", \"geometry_buffered\"]].head(2)"
   ]
  },
  {
   "cell_type": "markdown",
   "id": "64cc74f3-821f-409f-a704-562347dd2a84",
   "metadata": {},
   "source": [
    "## Multiple `geometry` columns\n",
    "\n",
    "By default, the `geometry` column is used. But, if you have another `geometry` column you'd like to use, you can set it."
   ]
  },
  {
   "cell_type": "code",
   "execution_count": null,
   "id": "3ba76211-7713-4b4b-bb0b-ca29988a31e1",
   "metadata": {},
   "outputs": [],
   "source": [
    "stops2 = stops[stops.agency.str.contains(\"Big Blue\")\n",
    "].set_geometry(\"geometry_buffered\")\n",
    "\n",
    "print(f\"stops geometry: {stops.geometry.name}\")\n",
    "print(f\"stops2 geometry: {stops2.geometry.name}\")"
   ]
  },
  {
   "cell_type": "code",
   "execution_count": null,
   "id": "09cd2659-0579-4828-861f-ec9525b4301c",
   "metadata": {},
   "outputs": [],
   "source": [
    "stops2.head(10).explore(tiles=\"CartoDB Positron\")"
   ]
  },
  {
   "cell_type": "code",
   "execution_count": null,
   "id": "bf70eeb6-50b5-4a8d-ba07-6e6742fc626d",
   "metadata": {},
   "outputs": [],
   "source": [
    "# you can reset the geometry column on-the-fly just for mapping\n",
    "stops2.head(10).set_geometry(\"geometry\").explore(\n",
    "    tiles='CartoDB Positron')"
   ]
  },
  {
   "cell_type": "markdown",
   "id": "6161671c-febf-409a-8ecb-8cea85d418a5",
   "metadata": {},
   "source": [
    "## Dissolve\n",
    "\n",
    "Dissolve is a way to aggregate in the geospatial world. It's a way to combine multiple rows, and their geometries, into 1 row. You can also calculate statistics in the dissolve, such as `count`, `sum`, etc. "
   ]
  },
  {
   "cell_type": "code",
   "execution_count": null,
   "id": "73ca96ee-b525-4b20-b1cf-f8b91ef5b86c",
   "metadata": {},
   "outputs": [],
   "source": [
    "# There are 12 Caltrans districts\n",
    "# Use dissolve to combine the 12 district polygons into \n",
    "# 1 large CA polygon \n",
    "districts.plot()"
   ]
  },
  {
   "cell_type": "code",
   "execution_count": null,
   "id": "7c4768c1-9539-4cec-bc39-e665e8e88260",
   "metadata": {},
   "outputs": [],
   "source": [
    "ca = districts.dissolve()\n",
    "ca.plot()"
   ]
  },
  {
   "cell_type": "code",
   "execution_count": null,
   "id": "a790891c-1c87-4e46-b4ea-b5b8bc6e882c",
   "metadata": {},
   "outputs": [],
   "source": [
    "ca"
   ]
  },
  {
   "cell_type": "markdown",
   "id": "78a8b9be-ad3c-4af0-b9e9-dc25ea2f6164",
   "metadata": {},
   "source": [
    "Look at the gdf returned. Why does it say `DISTRICT==1`, yet the entire CA boundary is shown?\n",
    "\n",
    "[Docs explanation](https://geopandas.org/en/stable/docs/user_guide/aggregation_with_dissolve.html). By default, the first value is kept.\n",
    "\n",
    "Instead, let's count how many districts there are and sum up the area."
   ]
  },
  {
   "cell_type": "code",
   "execution_count": null,
   "id": "83cf8536-5541-4092-a477-113322489511",
   "metadata": {},
   "outputs": [],
   "source": [
    "districts2 = districts.assign(\n",
    "    state = \"CA\"\n",
    ") \n",
    "districts2.head(2)"
   ]
  },
  {
   "cell_type": "code",
   "execution_count": null,
   "id": "6a69df54-7623-4382-943f-3951be0d8315",
   "metadata": {},
   "outputs": [],
   "source": [
    "districts2[[\"state\", \"Shape__Area\", \"geometry\"]].head(2)"
   ]
  },
  {
   "cell_type": "code",
   "execution_count": null,
   "id": "88a41201-6d0b-48dc-a758-b8020928e9b6",
   "metadata": {},
   "outputs": [],
   "source": [
    "ca2 = (districts2[[\"state\", \"DISTRICT\", \"Shape__Area\", \"geometry\"]]\n",
    " .dissolve(\n",
    "    by=[\"state\"], \n",
    "     aggfunc={\n",
    "        \"DISTRICT\": \"count\",\n",
    "        \"Shape__Area\": \"sum\"})\n",
    " .reset_index()\n",
    ")\n",
    "\n",
    "ca2"
   ]
  },
  {
   "cell_type": "code",
   "execution_count": null,
   "id": "4f06ef5a-9d8c-401e-8378-6f0dd397c404",
   "metadata": {},
   "outputs": [],
   "source": [
    "ca2.plot()"
   ]
  },
  {
   "cell_type": "markdown",
   "id": "07746454-9b35-4421-bffe-9b9e74a8d4fb",
   "metadata": {},
   "source": [
    "## Clipping\n",
    "\n",
    "Clipping is a technique to narrow down one gdf by the boundaries of another gdf. The other gdf is called the mask. \n",
    "\n",
    "[Docs](https://geopandas.org/en/stable/gallery/plot_clip.html) here and [here](https://geopandas.org/en/stable/docs/reference/api/geopandas.clip.html).\n",
    "\n",
    "Examples:\n",
    "* which transit stops fall within District 7?\n",
    "* find Amtrak routes within CA (cut away the lines that fall outside of CA, but keep the lines that fall within CA)\n",
    "\n",
    "| current gdf | current geometry type | mask gdf    | \n",
    "|-------------|-----------------------|-------------|\n",
    "| stops       | point                 | district    | \n",
    "| routes      | line                  | state       |\n"
   ]
  },
  {
   "cell_type": "code",
   "execution_count": null,
   "id": "5490cdd9-065f-4b07-a513-2ee042e607e3",
   "metadata": {},
   "outputs": [],
   "source": [
    "amtrak_stops = (stops[\n",
    "    (stops.route_type.isin(['0', '1', '2'])) & \n",
    "    (stops.agency==\"Amtrak\")]    \n",
    "    [[\"agency\", \"stop_id\", \"stop_name\", \"geometry\"]]\n",
    "    .reset_index(drop=True)\n",
    ")"
   ]
  },
  {
   "cell_type": "code",
   "execution_count": null,
   "id": "806fd7e2-8533-4622-967a-63269c606bc1",
   "metadata": {},
   "outputs": [],
   "source": [
    "amtrak_stops.to_crs(\"EPSG:4326\").clip(\n",
    "    ca.to_crs(\"EPSG:4326\")\n",
    ").plot()"
   ]
  },
  {
   "cell_type": "markdown",
   "id": "84424da5-031d-415b-9d3c-1b6c0f108c73",
   "metadata": {},
   "source": [
    "## Spatial Join\n",
    "\n",
    "You are asking questions about your current gdf, but require information from another gdf. A spatial join allows you to attach columns from another gdf to the current gdf.\n",
    "\n",
    "Spatial joins do not change the **values** in the `geometry` column. The `how=` and `predicate=` arguments determine **which rows** are kept and **which geometry** column is kept. It does not change the contents of the geometry the way `gpd.overlay()` does.\n",
    "\n",
    "* Which county does this stop belong in?\n",
    "* Which bus routes run in District 7?\n",
    "* Which state does this district belong in? \n",
    "\n",
    "| current gdf | current geometry type | another gdf | concept            |\n",
    "|-------------|-----------------------|-------------|--------------------|\n",
    "| stops       | point                 | county      | point-in-polygon   |\n",
    "| highways    | line                  | district    | line-in-polygon    |\n",
    "| districts   | polygon               | state       | polygon-in-polygon |"
   ]
  },
  {
   "cell_type": "code",
   "execution_count": null,
   "id": "b2a02e2f-22b1-4846-82e8-6301c819cc87",
   "metadata": {},
   "outputs": [],
   "source": [
    "# There are 789 stops!\n",
    "amtrak_stops.shape"
   ]
  },
  {
   "cell_type": "code",
   "execution_count": null,
   "id": "3897ede5-1d80-4b35-b16b-8d14df784e16",
   "metadata": {},
   "outputs": [],
   "source": [
    "amtrak_stops.plot()"
   ]
  },
  {
   "cell_type": "markdown",
   "id": "89382940-73c5-4f2d-9721-4be7d26018c7",
   "metadata": {},
   "source": [
    "It looks like Amtrak stops across the US are shown.\n",
    "\n",
    "To find which ones are located in CA, we are asking a point-in-polygon question. Which Amtrak stop (point) falls in CA (polygon)?\n",
    "\n",
    "A spatial join can tell us this.\n",
    "\n",
    "### Explore the various `how=` and `predicate=` arguments\n",
    "* Read [docs](https://geopandas.org/en/stable/docs/user_guide/set_operations.html)\n",
    "* [predicate and how explanation](https://geopandas.org/en/stable/docs/user_guide/mergingdata.html)\n",
    "\n",
    "\n",
    "#### predicate = intersects / within \n",
    "* `predicate` specifies which spatial set operation you're using. Is it a point **within** a polygon? Is it a **point** that **intersects** a polygon? \n",
    "* `intersect` is the most common predicate. \n",
    "* For lines, `intersect` and `within` can give different results. \n",
    "* A line can intersect with the polygon even if it does not fall completely within a polygon.\n",
    "* For the other predicates, `contains`, `within`, `touches`, `crosses`, `overlaps`, there is a lot more nuance about how much of the interior and exterior interact. This would matter when comparing lines and polygons or polygons and polygons.\n",
    "\n",
    "#### how = inner / left / right\n",
    "* `inner`: inner join keeps only the rows of the left gdf that meets the predicate requirements (ex: point does intersect with the polygon. points that do not intersect are dropped in the resulting gdf).\n",
    "* `left`:\n",
    "* `right`: "
   ]
  },
  {
   "cell_type": "code",
   "execution_count": null,
   "id": "7cb635e6-26d4-4324-a904-46b12c1fea5c",
   "metadata": {},
   "outputs": [],
   "source": [
    "# spatial join can tell you which stop falls into which CA or not\n",
    "# make sure the CRS is the same for both gdfs\n",
    "s1 = gpd.sjoin(\n",
    "    amtrak_stops.to_crs(\"EPSG:2229\"),\n",
    "    ca2.to_crs(\"EPSG:2229\"),\n",
    "    how = \"inner\",\n",
    "    predicate = \"intersects\"\n",
    ")\n",
    "\n",
    "s1.shape"
   ]
  },
  {
   "cell_type": "code",
   "execution_count": null,
   "id": "46676f2e-e695-4c09-bd6d-9eb5e846fcb7",
   "metadata": {},
   "outputs": [],
   "source": [
    "s1.plot()"
   ]
  },
  {
   "cell_type": "code",
   "execution_count": null,
   "id": "e00d10a6-a113-4030-8403-d698f7e88958",
   "metadata": {},
   "outputs": [],
   "source": [
    "# spatial join can tell you which stop falls into which CA or not\n",
    "# if we do left join, then we keep all the points even if they\n",
    "# do not intersect with CA\n",
    "s2 = gpd.sjoin(\n",
    "    amtrak_stops.to_crs(\"EPSG:2229\"),\n",
    "    ca2.to_crs(\"EPSG:2229\"),\n",
    "    how = \"left\",\n",
    "    predicate = \"intersects\"\n",
    ")\n",
    "\n",
    "s2.shape"
   ]
  },
  {
   "cell_type": "code",
   "execution_count": null,
   "id": "181571f3-b7a7-459f-b7b9-32bb09a4acbc",
   "metadata": {},
   "outputs": [],
   "source": [
    "# Columns that do not intersect with CA are not populated for \n",
    "# `state` and `DISTRICT` and hold missing values\n",
    "# but columns that do intersect with CA hold non-missing values\n",
    "s2.tail()"
   ]
  },
  {
   "cell_type": "code",
   "execution_count": null,
   "id": "4b415cf8-5a4f-4810-ba32-259e7a2d2e7f",
   "metadata": {},
   "outputs": [],
   "source": [
    "s2.plot()"
   ]
  },
  {
   "cell_type": "code",
   "execution_count": null,
   "id": "29fd6866-2c67-42b5-b2ae-a7e6a7f1e310",
   "metadata": {},
   "outputs": [],
   "source": [
    "# A right join is used if you want to keep only the inner join rows \n",
    "# (stops that intersect with CA)\n",
    "# but use the geometry from the right\n",
    "\n",
    "s3 = gpd.sjoin(\n",
    "    amtrak_stops.to_crs(\"EPSG:2229\"),\n",
    "    ca2.to_crs(\"EPSG:2229\"),\n",
    "    how = \"right\",\n",
    "    predicate = \"intersects\"\n",
    ")\n",
    "\n",
    "s3.shape"
   ]
  },
  {
   "cell_type": "code",
   "execution_count": null,
   "id": "50f8c8f7-0521-42e5-afaa-f91413d00c4b",
   "metadata": {},
   "outputs": [],
   "source": [
    "s3.plot()"
   ]
  },
  {
   "cell_type": "markdown",
   "id": "eeb3cb96-7f00-4155-9c48-7ab02d4dd208",
   "metadata": {},
   "source": [
    "## Overlay\n",
    "\n",
    "**Recall**\n",
    "\n",
    "Spatial joins do not change the **values** in the `geometry` column. The `how=` and `predicate=` arguments determine **which rows** are kept and **which geometry** column is kept. It does not change the contents of the geometry the way `gpd.overlay()` does.\n",
    "\n",
    "Overlays **change the values** in the `geometry` column.\n",
    "\n",
    "Polygons are the easiest to demonstrate these concepts, but typically, `overlay` can be used with lines or polygons.\n",
    "\n",
    "#### how = intersection / symmetric difference / difference / identity\n",
    "* `intersection` is the most common.\n",
    "* `difference` might be of interest. \n",
    "* `symmetric_difference` is rare. This removes the middle intersection in the Venn Diagram.\n",
    "* `identity` is rare.\n",
    "* Look carefully at what columns are kept. If there are columns that aren't necessary, remove those columns."
   ]
  },
  {
   "cell_type": "code",
   "execution_count": null,
   "id": "5975bd76-cd49-4a4d-bccd-9c92e7be2005",
   "metadata": {},
   "outputs": [],
   "source": [
    "d7 = districts[districts.DISTRICT==7]\n",
    "\n",
    "intersection_overlay = gpd.overlay(\n",
    "    ca2,\n",
    "    d7,\n",
    "    how = \"intersection\", \n",
    "    keep_geom_type=True\n",
    ")\n",
    "\n",
    "display(intersection_overlay)\n",
    "intersection_overlay.plot()"
   ]
  },
  {
   "cell_type": "code",
   "execution_count": null,
   "id": "982cbed1-30da-4b94-9442-174d74224c88",
   "metadata": {},
   "outputs": [],
   "source": [
    "intersection_overlay2 = gpd.overlay(\n",
    "    ca2,\n",
    "    d7[[\"DISTRICT\", \"geometry\"]],\n",
    "    how = \"intersection\",\n",
    "    keep_geom_type=True\n",
    ")\n",
    "\n",
    "display(intersection_overlay2)\n",
    "intersection_overlay2.plot()"
   ]
  },
  {
   "cell_type": "code",
   "execution_count": null,
   "id": "89768d46-7281-43c9-8dbb-595302770287",
   "metadata": {},
   "outputs": [],
   "source": [
    "print(f\"area before overlay: {ca.geometry.iloc[0].area}\")\n",
    "print(f\"area after overlay: {intersection_overlay2.geometry.iloc[0].area}\")"
   ]
  },
  {
   "cell_type": "code",
   "execution_count": null,
   "id": "92f89a07-be9a-459c-a34f-596543fca0c4",
   "metadata": {},
   "outputs": [],
   "source": [
    "difference_overlay = gpd.overlay(\n",
    "    ca2,\n",
    "    d7[[\"DISTRICT\", \"geometry\"]],\n",
    "    how = \"difference\",\n",
    "    keep_geom_type=True\n",
    ")\n",
    "\n",
    "display(difference_overlay)\n",
    "difference_overlay.plot()"
   ]
  },
  {
   "cell_type": "code",
   "execution_count": null,
   "id": "2bd99fa6-5569-4bea-baa3-1a0b5b3df08c",
   "metadata": {},
   "outputs": [],
   "source": [
    "# From D7 polygon, remove the part that is CA..\n",
    "# this is why it's plotting basically nothing\n",
    "difference_overlay2 = gpd.overlay(\n",
    "    d7[[\"DISTRICT\", \"geometry\"]],\n",
    "    ca2,\n",
    "    how = \"difference\",\n",
    "    keep_geom_type=True\n",
    ")\n",
    "\n",
    "display(difference_overlay2)\n",
    "difference_overlay2.plot()"
   ]
  },
  {
   "cell_type": "code",
   "execution_count": null,
   "id": "4bd0b75c-4bf6-445b-b923-ecc9a876bd4c",
   "metadata": {},
   "outputs": [],
   "source": []
  }
 ],
 "metadata": {
  "kernelspec": {
   "display_name": "Python 3 (ipykernel)",
   "language": "python",
   "name": "python3"
  },
  "language_info": {
   "codemirror_mode": {
    "name": "ipython",
    "version": 3
   },
   "file_extension": ".py",
   "mimetype": "text/x-python",
   "name": "python",
   "nbconvert_exporter": "python",
   "pygments_lexer": "ipython3",
   "version": "3.9.13"
  }
 },
 "nbformat": 4,
 "nbformat_minor": 5
}
