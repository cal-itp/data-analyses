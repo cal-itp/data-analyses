{
 "cells": [
  {
   "cell_type": "markdown",
   "id": "36c5c03c-164a-4530-9fc6-43f5d1abbf7e",
   "metadata": {
    "tags": []
   },
   "source": [
    "**Portfolio**\n",
    "* You might have seen DDS's [portfolio](https://analysis.calitp.org/).\n",
    "* We often present our work on our portfolio because it retains the interactivity of the `Altair` charts and `Geopandas` maps we make.\n",
    "* Additionally, it is very streamlined to update our work when it needs to be updated. \n",
    "* Spend some time exploring our portfolio above. \n",
    "\n",
    "**How does the portfolio work?**\n",
    "* The majority of the sites on the portfolio use a single notebook essentially as a template that is looped one or more variables. \n",
    "    * This [National Transit Dataset Monthly Ridership by Regional Transit Planning Authority (RTPA) portfolio](https://ntd-monthly-ridership--cal-itp-data-analyses.netlify.app/readme) is generated from [this notebook](https://github.com/cal-itp/data-analyses/blob/main/ntd/monthly_ridership_report.ipynb) which is reran over every \n",
    "RTPA in this [yml file](https://github.com/cal-itp/data-analyses/blob/main/portfolio/sites/ntd_monthly_ridership.yml). \n",
    "    * This process of looping over variables to generate new notebooks is called parameterizing a notebook.\n",
    "    \n",
    "**Resources**\n",
    "* [Preparing notebooks for the portfolio](https://docs.calitp.org/data-infra/publishing/sections/4_notebooks_styling.html)\n",
    "* [Publishing to the portfolio](https://docs.calitp.org/data-infra/publishing/sections/5_analytics_portfolio_site.html)\n",
    "\n",
    "**Let's make a portfolio**\n",
    "* Spoiler alert! Your end result will look something like [this](https://ha-starterkit-district--cal-itp-data-analyses.netlify.app/readme)."
   ]
  },
  {
   "cell_type": "markdown",
   "id": "4dc7d9d1-5722-467f-8e2f-d1e2b8d7e566",
   "metadata": {},
   "source": [
    "**Step 1: Move this notebook**\n",
    "* Create a new folder in the `data-analyses` repo called `lastname_portfolio`.\n",
    "* Right click -> copy to move this notebook to the new folder.\n",
    "* Right click -> rename this notebook as `lastname_portfolio.ipynb`\n",
    "* Use `git mv` to move the Python file that holds your functions to the `lastname_portfolio`.\n",
    "* Right click -> copy the `starterkit_district.yml` file to the folder `data-analyses/portfolio/sites`. Rename `starterkit_district.yml` to `lastname_starterkit_district`\n",
    "* Close this original `2024_basics_05.ipynb` and begin working on your new `lastname_portfolio.ipynb`"
   ]
  },
  {
   "cell_type": "markdown",
   "id": "b507875b-269b-4aa4-9cac-e9470f68f9f6",
   "metadata": {},
   "source": [
    "Use git mv to move the Python file that holds your functions to the lastname_portfolio.\n",
    "\n",
    "git mv starter_kit/_2024cathy04.py lastname_portfolio"
   ]
  },
  {
   "cell_type": "markdown",
   "id": "8cb15ca0-580e-4a0d-9dbc-accb761d77d1",
   "metadata": {},
   "source": [
    "**Step 2: Netlify Setup**\n",
    "* Follow the instructions [here](https://docs.calitp.org/data-infra/publishing/sections/5_analytics_portfolio_site.html#netlify-setup).\n",
    "* You only need to do this step **once** for the entirety of your career at DDS. \n",
    "* Once you have your key setup, you can publish countless portfolios."
   ]
  },
  {
   "cell_type": "markdown",
   "id": "89858742-9a67-4f10-9f65-29770f955075",
   "metadata": {},
   "source": [
    "**Step 3: Create a `README.md`**\n",
    "* When you go to each site on our [portfolio](https://analysis.calitp.org/), you'll always go to the introduction.\n",
    "* Every portfolio must have a `README.md` file or else it won't build. \n",
    "* It also serves as our page to discuss our methodology, the datasets we used, and other details to give our viewers some context into what they are looking at. \n",
    "* We have a template for you to populate [here](https://github.com/cal-itp/data-analyses/blob/main/portfolio/template_README.md). \n",
    "    * Make sure to rename `template_README.md` as `README.md` in your folder. \n",
    "    * You cannot deviate from `README.md` such as `README_intro.md` because the portfolio will not build.\n",
    "* **Further Reading**: [DDS Docs](https://docs.calitp.org/data-infra/publishing/sections/5_analytics_portfolio_site.html#file-setup)"
   ]
  },
  {
   "cell_type": "markdown",
   "id": "2d62df5f-1608-4cf9-8e66-2686d4b9f5da",
   "metadata": {},
   "source": [
    "**Step 4: Update `starterkit_district.yml`**\n",
    "* You can think of this yml file as a \"Table of Contents.\"\n",
    "* We are taking this notebook you're currently reading and re-running it for every element that is listed in the yml file. After re-running a new notebook is generated for that element and published.\n",
    "* In the `starterkit_district.yml` please replace text in all all caps such as <i>REPLACE_WITH_YOUR_FOLDER_NAME</i> with the proper file/folder/notebook. \n",
    "* **Further Reading**: [DDS Docs on YML](https://docs.calitp.org/data-infra/publishing/sections/5_analytics_portfolio_site.html#yml)"
   ]
  },
  {
   "cell_type": "markdown",
   "id": "2986f064-d922-491a-846b-1d4f5e4ea9e4",
   "metadata": {},
   "source": [
    "**Step 6: Importing the right packages**\n",
    "* Making a parameterized notebook is extremely finicky.\n",
    "* For every notebook you make, **you must copy and paste this block of code below in this exact order.**  Otherwise, your notebook won't work.\n",
    "* What am I importing?\n",
    "    * `%%capture`: Captures the parameter/yml parts.\n",
    "    * `import warnings warnings.filterwarnings('ignore')`: Sometimes when you are analyzing data, harmless warnings pop up. These warnings are quite unattractive and we don't want them to be displayed in a portfolio so we turn off these warnings.\n",
    "    * `import calitp_data_analysis.magics`: the library that makes the parameterization magic happen.\n",
    "* **Resource**: [DDS Getting Notebooks Ready for Parameterization](https://docs.calitp.org/data-infra/publishing/sections/4_notebooks_styling.html#getting-ready-for-parameterization)"
   ]
  },
  {
   "cell_type": "code",
   "execution_count": null,
   "id": "260ba8f3-dd02-4fdc-945d-450db01d188e",
   "metadata": {},
   "outputs": [],
   "source": [
    "%%capture\n",
    "\n",
    "import warnings\n",
    "warnings.filterwarnings('ignore')\n",
    "\n",
    "import calitp_data_analysis.magics\n",
    "\n",
    "# All your other packages go here\n",
    "# Here I only need  pandas and my own utils.\n",
    "import pandas as pd\n",
    "import _starterkit_utils "
   ]
  },
  {
   "cell_type": "code",
   "execution_count": null,
   "id": "2a2996fd-29d0-4a19-ac48-a6957d9f8140",
   "metadata": {},
   "outputs": [],
   "source": [
    "pd.options.display.max_columns = 100\n",
    "pd.options.display.float_format = \"{:.2f}\".format\n",
    "pd.set_option(\"display.max_rows\", None)\n",
    "pd.set_option(\"display.max_colwidth\", None)"
   ]
  },
  {
   "cell_type": "markdown",
   "id": "b07ecdbc-a3a9-4183-80dc-57e71cf61fe6",
   "metadata": {},
   "source": [
    "**Step 7: Setting your parameters**\n",
    "* While these steps have already been done for you, it would still benefit you to re-do these steps and refer to the resource below. \n",
    "* **Resource**: [DDS Docs Capturing Parameters](https://docs.calitp.org/data-infra/publishing/sections/4_notebooks_styling.html#capturing-parameters).\n",
    "* **Parameter #1:** Set a cell that is commented out with your parameter. \n",
    "    * Our parameter is every district in the `yml` file. \n",
    "    * Turn on the parameter tag: go to the code cell go to the upper right hand corner -> click on the gears -> go to “Cell Tags” -> Add Tag + -> add a tag called “parameters” -> click on the new “parameters” tag to ensure a checkmark shows up and it turns dark gray"
   ]
  },
  {
   "cell_type": "code",
   "execution_count": null,
   "id": "5d82c9a8-6f8f-485b-ace5-957f1b80c2f3",
   "metadata": {
    "tags": [
     "parameters"
    ]
   },
   "outputs": [],
   "source": [
    "# district = 1"
   ]
  },
  {
   "cell_type": "markdown",
   "id": "2fca6082-1964-43d7-bcd8-8668c39afaac",
   "metadata": {},
   "source": [
    "**Parameter #2:** This second cell replaces each district as the notebook loops over each parameter in the `starter_kit.yml` file.\n",
    "* `%%capture_parameters` must be the first line of code in this block or else your notebook will fail to parameterize."
   ]
  },
  {
   "cell_type": "code",
   "execution_count": null,
   "id": "43a07a8c-567d-471d-be10-a547cd0b3a13",
   "metadata": {},
   "outputs": [],
   "source": [
    "%%capture_parameters\n",
    "district"
   ]
  },
  {
   "cell_type": "markdown",
   "id": "f9285e93-924d-4681-b526-97b8e46643b1",
   "metadata": {},
   "source": [
    "* **Parameter #3:** \n",
    "* The first markdown cell must include parameters to inject. \n",
    "* This line below generates the title <i>District 1 Analysis</i> when it is creating the notebook for District 1. Likewise, it'll say <i>District 2 Analysis</i> for District 2's page. \n",
    "* Feel free to change this to anything you wish, but make sure this stays a markdown cell.\n",
    "* This cell is extremely important and read why [here](https://docs.calitp.org/data-infra/publishing/sections/4_notebooks_styling.html#header)."
   ]
  },
  {
   "cell_type": "markdown",
   "id": "cb5a0cc4-3e7e-4aea-81f2-c5e858fb315b",
   "metadata": {},
   "source": [
    "# District {district} Analysis "
   ]
  },
  {
   "cell_type": "markdown",
   "id": "64615b63-3848-45b7-af2e-19c7b7346997",
   "metadata": {},
   "source": [
    "**Step 8: Input your functions that will create your report**\n",
    "* I am loading my dataset first.\n",
    "* Then I am adding in my dataset and the district parameter into `_starterkit_utils.create_district_summary`."
   ]
  },
  {
   "cell_type": "code",
   "execution_count": null,
   "id": "c91049e1-107d-47d9-9cda-63aa4fbf554b",
   "metadata": {},
   "outputs": [],
   "source": [
    "df = _starterkit_utils.load_dataset()"
   ]
  },
  {
   "cell_type": "code",
   "execution_count": null,
   "id": "bd1509c0-b435-456e-ad1c-b583a991f1e2",
   "metadata": {},
   "outputs": [],
   "source": [
    "_starterkit_utils.create_district_summary(df, district)"
   ]
  },
  {
   "cell_type": "markdown",
   "id": "76052780-3c27-405c-9379-13e82130eec7",
   "metadata": {},
   "source": [
    "**Step 9: Download the right packages**\n",
    "* Navigate back to the root of your repo which is `~/data-analyses`.\n",
    "* Once there, install the portfolio requirements using `pip install -r portfolio/requirements.txt`. This will take a bit.\n",
    "* **Resource**: [DDS Deploying Portfolio](https://docs.calitp.org/data-infra/publishing/sections/5_analytics_portfolio_site.html#building-and-deploying-your-report)"
   ]
  },
  {
   "cell_type": "markdown",
   "id": "c8fce487-015d-4e24-8444-d5c07ec17890",
   "metadata": {},
   "source": [
    "**Step 10: Build your portfolio**\n",
    "* Double check you that are at the root of your repo.\n",
    "* Replace `REPLACE_YML_NAME` with just the name of your `yml` file without the `.yml` extension into the command below.\n",
    "* Run `python portfolio/portfolio.py build REPLACE_YML_NAME --deploy` to build your portfolio.\n",
    "* Example: My yml is called `ha_starterkit_district.yml` so I would run `python portfolio/portfolio.py build ha_starterkit_district --deploy`."
   ]
  },
  {
   "cell_type": "markdown",
   "id": "36567eba-a5d4-4a38-b67e-ffbf8fe74035",
   "metadata": {},
   "source": [
    "**Step 11: View**\n",
    "* Your portfolio should be up and running. \n",
    "* You can view your portfolio using the draft URL. It'll look something like this: `https://your-site-name--cal-itp-data-analyses.netlify.app`.\n",
    "* If everything looks great, commit your work. \n",
    "    * Parameterizing a notebook creates a lot of new files. Make sure you've committed everything.\n",
    "    * This is tedious and will involve many directory changes."
   ]
  },
  {
   "cell_type": "markdown",
   "id": "41c923e8-4d79-424b-9e28-50ae4924cc24",
   "metadata": {},
   "source": [
    "**Step 12: Something not right?**\n",
    "* What if something is a little off? After updating your code, rerun this line of code to redo your portfolio. \n",
    "    * You must always `clean` your portfolio before regenerating new notebooks. \n",
    "`python portfolio/portfolio.py clean REPLACE_YML_NAME && python portfolio/portfolio.py build REPLACE_YML_NAME --deploy`\n",
    "* There are many other specifications you can add to `python portfolio/portfolio.py build`, detailed on [DDS Other Specifications](https://docs.calitp.org/data-infra/publishing/sections/5_analytics_portfolio_site.html#other-specifications). "
   ]
  },
  {
   "cell_type": "markdown",
   "id": "9c8f91a0-e0b5-465d-8f95-be8e3fc036ea",
   "metadata": {},
   "source": [
    "**Step 13: Run a Makefile**\n",
    "* You can generate all 12 of your notebooks in one swift line of code instead of running the same couple of lines over and over again using a `Makefile`. \n",
    "* You can think of a `Makefile` as a machine that does the same thing day in and day out. \n",
    "    * You  always install the same packages.\n",
    "    * You always clean out the repo.\n",
    "    * You generally will rerun the notebook in its entirety.\n",
    "    * You always add the `md,yml,ipynb` and other files that the parameterization process creates.\n",
    "\n",
    "**Instructions** \n",
    "* Make sure you are still at the root of our repo `~/data-analyses`.\n",
    "* Under `data-analyses` you'll see a file called `Makefile`.\n",
    "* Open up the `Makefile`. Scroll down to lines 68-72. \n",
    "* Copy and paste the entire block of 68-72. \n",
    "* Replace LASTNAME in `build_starterkit_LASTNAME:` with your name.\n",
    "* Replace YOUR_SITE_NAME with the name of your .yml file in `/portfolio/sites` in `$(eval export site = YOUR_SITE_NAME)`\n",
    "    * My `yml` is named `ha_starterkit_district.yml` so my line is `$(eval export site = ha_starterkit_district)`\n",
    "* Make sure you retain all the `\t` spaces! \n",
    "* At the root of the repo run `Make build_starterkit_LASTNAME`.\n"
   ]
  },
  {
   "cell_type": "markdown",
   "id": "847603b7-da59-4757-8302-08f1485dd2cd",
   "metadata": {},
   "source": [
    "**Step 14: Remove your Portfolio**\n",
    "* Let's remove your portfolio from analysis.calitp.org.\n",
    "* Make sure you're at the root of our repo.\n",
    "* Run `pip install -r portfolio/requirements.txt`. \n",
    "* Run `python portfolio/portfolio.py clean REPLACE_YML_NAME` to delete all the new notebooks.\n",
    "* Run `cd portfolio/sites` and `git rm REPLACE_YML_NAME.yml` to remove the yml file.\n",
    "* `cd ../..` back to the root of our repo.\n",
    "* Run `python portfolio/portfolio.py index --deploy --prod` which will refresh analysis.calitp.org."
   ]
  }
 ],
 "metadata": {
  "kernelspec": {
   "display_name": "Python 3 (ipykernel)",
   "language": "python",
   "name": "python3"
  },
  "language_info": {
   "codemirror_mode": {
    "name": "ipython",
    "version": 3
   },
   "file_extension": ".py",
   "mimetype": "text/x-python",
   "name": "python",
   "nbconvert_exporter": "python",
   "pygments_lexer": "ipython3",
   "version": "3.9.13"
  }
 },
 "nbformat": 4,
 "nbformat_minor": 5
}
