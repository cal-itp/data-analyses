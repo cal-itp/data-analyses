{
 "cells": [
  {
   "cell_type": "markdown",
   "id": "3f74a524-f90a-4ad5-8d98-368afc398b46",
   "metadata": {},
   "source": [
    "# Exercise 3: Strings, Functions, If Else, For Loops"
   ]
  },
  {
   "cell_type": "code",
   "execution_count": null,
   "id": "ba8a0d90-9d57-4d01-9eb4-0b255970995e",
   "metadata": {},
   "outputs": [],
   "source": [
    "import altair as alt\n",
    "import numpy as np\n",
    "import pandas as pd"
   ]
  },
  {
   "cell_type": "code",
   "execution_count": null,
   "id": "ddcdbbc1-2e1b-4797-bd34-07d9a1999cb6",
   "metadata": {},
   "outputs": [],
   "source": [
    "pd.options.display.max_columns = 100\n",
    "pd.options.display.float_format = \"{:.2f}\".format\n",
    "pd.set_option(\"display.max_rows\", None)\n",
    "pd.set_option(\"display.max_colwidth\", None)"
   ]
  },
  {
   "cell_type": "markdown",
   "id": "8eec9257-7578-422c-b6d1-afe496e8ca70",
   "metadata": {},
   "source": [
    "* Using a f-strings, load in your merged dataframe from Exercise 3."
   ]
  },
  {
   "cell_type": "code",
   "execution_count": null,
   "id": "7c52b09e-90b5-4a5d-8fda-ca19cb8fe3cd",
   "metadata": {},
   "outputs": [],
   "source": [
    "GCS_FILE_PATH = \"gs://calitp-analytics-data/data-analyses/starter_kit/\""
   ]
  },
  {
   "cell_type": "code",
   "execution_count": null,
   "id": "e0222b8c-0996-47bb-8639-fc703cfbd249",
   "metadata": {},
   "outputs": [],
   "source": [
    "FILE = \"starter_kit_merge.parquet\""
   ]
  },
  {
   "cell_type": "code",
   "execution_count": null,
   "id": "36bbc1d2-4285-4399-a0fd-1e02c5e5d5a1",
   "metadata": {},
   "outputs": [],
   "source": [
    "df = pd.read_parquet(f\"{GCS_FILE_PATH}{FILE}\")"
   ]
  },
  {
   "cell_type": "markdown",
   "id": "673fa239-dc06-4ef8-9513-ee167e80898e",
   "metadata": {},
   "source": [
    "## Categorizing\n",
    "* There are 30 projects. They all vary in themes, some are transit oriented while others are focused on Active Transportation (ATP).\n",
    "* Categorizing data is an important part of data cleaning and analyzing so we can present the data in a more succint and insightful way. \n",
    "* Let's organize projects into three categories.\n",
    "    * ATP\n",
    "    * Transit\n",
    "    * Everything else will go into \"Other\""
   ]
  },
  {
   "cell_type": "markdown",
   "id": "49486dc6-a686-47fa-8cef-e252d7ec349d",
   "metadata": {},
   "source": [
    "### Task 1: Strings\n",
    "* Below are some of the common keywords that fall into transit and Active Transportation in a `list`.\n",
    "* Feel free to add other terms you think are relevant. \n",
    "* We are going to search the `Scope of Work` column for these keywords. "
   ]
  },
  {
   "cell_type": "code",
   "execution_count": null,
   "id": "6a6b817f-15e2-4d1c-aeae-5d7e9661a6f0",
   "metadata": {},
   "outputs": [],
   "source": [
    "transit = [\"transit\", \"passenger rail\", \"bus\", \"ferry\"]\n",
    "atp = [\"bike\", \"pedestrian\", \"bicycle\", \"sidewalk\", \"path\"]"
   ]
  },
  {
   "cell_type": "markdown",
   "id": "6caf3a84-fcd7-4531-befe-11e76c01c8f1",
   "metadata": {},
   "source": [
    "#### Step 1: Cleaning\n",
    "* Remember in Exercise 2 some of the project names didn't merge between the two dataframes?\n",
    "* In the real world, a lot of string data can be spelled in different ways, different cases, abbreviated, and the like.\n",
    "* What if a coworker typed in \"HOV\" lane instead of \"hov\" lane? We know that's the same thing, but if we did `str.contains(\"HOV\")` we would miss out on any entry that says \"hov\" instead.\n",
    "* The easiest way to clean this up is by lowercasing, stripping the white spaces, and replacing characters."
   ]
  },
  {
   "cell_type": "code",
   "execution_count": null,
   "id": "ea4a4df7-61ec-430b-a827-302704857318",
   "metadata": {},
   "outputs": [],
   "source": [
    "df[\"Scope of Work\"] = (\n",
    "    df[\"Scope of Work\"]\n",
    "    .str.lower()\n",
    "    .str.strip()\n",
    "    .str.replace(\"-\", \" \")\n",
    "    .str.replace(\"+\", \" \")\n",
    ")"
   ]
  },
  {
   "cell_type": "markdown",
   "id": "c3da188c-2afe-49f4-bbbd-8fecd8dfe10f",
   "metadata": {},
   "source": [
    "* `str.contains()` allows you to search through the column. \n",
    "* Let's search for projects that have \"transit\" in their descriptions. \n",
    "* Pro-tip\n",
    "    * The data we work with tends to be pretty large. Scrolling vertically and horizontally isn't easy on the eyes.\n",
    "    * Placing all the columns you want to temporarily work within a `list` like `preview_subset` below is a good idea. "
   ]
  },
  {
   "cell_type": "code",
   "execution_count": null,
   "id": "315228d8-a72e-4f18-a0e7-2a254c87cc23",
   "metadata": {},
   "outputs": [],
   "source": [
    "preview_subset = [\"project_name\", \"Scope of Work\"]"
   ]
  },
  {
   "cell_type": "code",
   "execution_count": null,
   "id": "be843d6a-b751-4e9f-8820-b521089914d3",
   "metadata": {},
   "outputs": [],
   "source": [
    "transit_only_projects = df.loc[df[\"Scope of Work\"].str.contains(\"transit\")]"
   ]
  },
  {
   "cell_type": "code",
   "execution_count": null,
   "id": "0d9a6259-8748-41fe-a549-01bdf0e9c273",
   "metadata": {},
   "outputs": [],
   "source": [
    "# Let's see how many transit projects\n",
    "len(transit_only_projects)"
   ]
  },
  {
   "cell_type": "code",
   "execution_count": null,
   "id": "6789307c-5808-4501-a1a6-5a14a12b0219",
   "metadata": {},
   "outputs": [],
   "source": [
    "transit_only_projects[preview_subset]"
   ]
  },
  {
   "cell_type": "markdown",
   "id": "d3adfb74-5a24-47f8-88da-92fe5591821a",
   "metadata": {},
   "source": [
    "#### Step 2: Filtering\n",
    "* We've found all the projects that says \"transit\" somewhere in its description. \n",
    "* Now there are just 7 more elements to go. \n",
    "* However, the method we used above leaves us with 7 separate dataframes when we actually just want our one original dataframe tagged with categories. \n",
    "* A faster way: join all the keywords you want.\n",
    "* | designates \"or\".\n",
    "* You can read this as \"I want projects that contain the word bus, transit, or rail...\""
   ]
  },
  {
   "cell_type": "code",
   "execution_count": null,
   "id": "c2575f75-44ac-46ba-a334-fdf984546cd3",
   "metadata": {},
   "outputs": [],
   "source": [
    "transit_keywords = f\"({'|'.join(transit)})\""
   ]
  },
  {
   "cell_type": "code",
   "execution_count": null,
   "id": "f6a2a521-c0ae-4c2d-830d-4020a13855f2",
   "metadata": {},
   "outputs": [],
   "source": [
    "# Print it out\n",
    "transit_keywords"
   ]
  },
  {
   "cell_type": "markdown",
   "id": "937913db-407e-415c-aabb-31d3f511ef0b",
   "metadata": {},
   "source": [
    "* Filter again - notice the .loc after df and how there are brackets around `df`?"
   ]
  },
  {
   "cell_type": "code",
   "execution_count": null,
   "id": "e5e23b6f-98b8-4219-bc52-d847ea39d121",
   "metadata": {},
   "outputs": [],
   "source": [
    "df.loc[df[\"Scope of Work\"].str.contains(transit_keywords)][preview_subset]"
   ]
  },
  {
   "cell_type": "code",
   "execution_count": null,
   "id": "7b62f28d-7b28-4258-8efa-74d1f9a41d04",
   "metadata": {},
   "outputs": [],
   "source": [
    "# We can see there are actually a few more transit projects then if we just filtered for the word \"transit\"\n",
    "print(len(transit_only_projects))\n",
    "print(len(df.loc[df[\"Scope of Work\"].str.contains(transit_keywords)]))"
   ]
  },
  {
   "cell_type": "markdown",
   "id": "7c6717f8-4088-4c1f-9ec6-b9959fd6d283",
   "metadata": {},
   "source": [
    "### Task 2: Functions \n",
    "* Let's put this all together and categorize using `.map`."
   ]
  },
  {
   "cell_type": "code",
   "execution_count": null,
   "id": "47afb269-672f-44c1-8ab5-d70921c6e703",
   "metadata": {},
   "outputs": [],
   "source": [
    "df[\"Category\"] = (\n",
    "    df[\"Scope of Work\"].str.contains(transit_keywords).map({True: \"Transit\"})\n",
    ")"
   ]
  },
  {
   "cell_type": "code",
   "execution_count": null,
   "id": "c63f2ff8-3d2f-41c6-96d1-36d35159aef8",
   "metadata": {},
   "outputs": [],
   "source": [
    "df.Category.value_counts()"
   ]
  },
  {
   "cell_type": "markdown",
   "id": "d1f5fb9e-f8bd-4549-9e12-3f05dded1145",
   "metadata": {},
   "source": [
    "* It looks only the 9 transit projects were categorized.\n",
    "* We are missing 2 categories: ATP and Other.\n",
    "* We could repeat the steps above or we can use a function.\n",
    "* You can think of a function as a piece of code you write only once but reuse more than once.\n",
    "* In the long run, functions save you work and look neater when you present your work.\n",
    "* Let's build one together.\n",
    "* Start your function with def() and the name"
   ]
  },
  {
   "cell_type": "code",
   "execution_count": null,
   "id": "97e597a2-8625-4f2b-8646-760c0c011208",
   "metadata": {},
   "outputs": [],
   "source": [
    "\n",
    "def categorize():"
   ]
  },
  {
   "cell_type": "markdown",
   "id": "06ccd282-cf21-462b-8930-9a3148671ff1",
   "metadata": {},
   "source": [
    "* Now let's think of what are the two elements that we will repeat.\n",
    "* We merely want to substitute `transit_keywords` with ATP related keywords.\n",
    "* Instead of the `df[\"Category]\"==Transit`, we want our ATP projects to be categorized as \"ATP\".\n",
    "* Add the two elements that need to be substituted into the argument of your function.\n",
    "    * It's good practice to specify the argument should be: a string/list/dataframe. \n"
   ]
  },
  {
   "cell_type": "code",
   "execution_count": null,
   "id": "61973dc6-d99b-48f0-842f-a3c8fe74f064",
   "metadata": {},
   "outputs": [],
   "source": [
    "def categorize(df:pd.DataFrame, keywords:list, category:str):"
   ]
  },
  {
   "cell_type": "markdown",
   "id": "ae178f6d-0f76-419c-aab2-9924ba294605",
   "metadata": {},
   "source": [
    "* It's also a nice idea to document what your function will return.\n",
    "* In our case, it's a dataframe. "
   ]
  },
  {
   "cell_type": "code",
   "execution_count": null,
   "id": "a794693a-3bf2-48ba-b0a7-1ca3a41e03af",
   "metadata": {},
   "outputs": [],
   "source": [
    "def categorize(df:pd.DataFrame, keywords:list, category:str)->pd.DataFrame:"
   ]
  },
  {
   "cell_type": "markdown",
   "id": "be820c1a-a0d2-4b2f-bf01-70e753603291",
   "metadata": {},
   "source": [
    "* Think about the steps we took to categorize transit only.\n",
    "* Add the sections of the code we will be reusing and sub in the original variables for the arguments.\n",
    "    *  First, we joined the keywords from a list into a tuple.\n",
    "    *  Second, we searched through the Scope of Work column for the keywords and tagged it with the category"
   ]
  },
  {
   "cell_type": "code",
   "execution_count": null,
   "id": "c9ffb176-1f21-498f-9d78-dcd303ce4614",
   "metadata": {},
   "outputs": [],
   "source": [
    "df[\"Category\"] = np.nan"
   ]
  },
  {
   "cell_type": "code",
   "execution_count": null,
   "id": "4721b564-726a-4e05-9d27-8035609b5fcf",
   "metadata": {},
   "outputs": [],
   "source": [
    "def categorize(df: pd.DataFrame, keywords: list, category: str) -> pd.DataFrame:\n",
    "    joined_keywords = (\n",
    "        f\"({'|'.join(keywords)})\"  # Remember this used to be transit_keywords\n",
    "    )\n",
    "\n",
    "    df[\"Category\"] = (\n",
    "        df[\"Scope of Work\"].str.contains(joined_keywords).map({True: category})\n",
    "    )  # Remember this used to say \"Transit\". Now we want it to take whatever category is appropriate.\n",
    "\n",
    "    return df"
   ]
  },
  {
   "cell_type": "markdown",
   "id": "81bbb109-beef-452c-b8d9-eb13e7b9ee03",
   "metadata": {},
   "source": [
    "* Now let's use your function"
   ]
  },
  {
   "cell_type": "code",
   "execution_count": null,
   "id": "23e31c98-17b3-41e2-883a-14dae9d6da7e",
   "metadata": {},
   "outputs": [],
   "source": [
    "df = categorize(df, atp, \"ATP\")"
   ]
  },
  {
   "cell_type": "code",
   "execution_count": null,
   "id": "d5ec64cf-432c-45e2-b14d-f4ea7ca3de2a",
   "metadata": {},
   "outputs": [],
   "source": [
    "df.Category.value_counts()"
   ]
  },
  {
   "cell_type": "code",
   "execution_count": null,
   "id": "882a02a6-ce39-4da2-b2be-7e91322624e4",
   "metadata": {},
   "outputs": [],
   "source": [
    "df = categorize(df, transit, \"Transit\")"
   ]
  },
  {
   "cell_type": "code",
   "execution_count": null,
   "id": "ee56ee97-307c-44a4-a2d4-b02eff954f87",
   "metadata": {},
   "outputs": [],
   "source": [
    "df.Category.value_counts()"
   ]
  },
  {
   "cell_type": "markdown",
   "id": "405aac8e-4488-47fa-bbb1-a12121ed8d15",
   "metadata": {},
   "source": [
    "* Let's look at the categories again"
   ]
  },
  {
   "cell_type": "code",
   "execution_count": null,
   "id": "d2178925-c425-4711-ab68-37e32f98deb3",
   "metadata": {},
   "outputs": [],
   "source": [
    "df.Category.value_counts()"
   ]
  },
  {
   "cell_type": "markdown",
   "id": "1906639f-0769-484a-bd3d-9821e488a4c5",
   "metadata": {},
   "source": [
    "## If-Else\n",
    "* Now we have found all of the projects that need their scores adjusted, let's go ahead and adjust the scores. \n",
    "* We're going to do this with an `if-else` statement.\n",
    "* The first part of the logic is: <i>if</i> a project's `Scope of Work` column contains an ATP or transit element, their score gets bumped up by 3. \n"
   ]
  },
  {
   "cell_type": "code",
   "execution_count": null,
   "id": "1426a9ae-8227-4396-b7ac-28ac256c4ede",
   "metadata": {},
   "outputs": [],
   "source": []
  }
 ],
 "metadata": {
  "kernelspec": {
   "display_name": "Python 3 (ipykernel)",
   "language": "python",
   "name": "python3"
  },
  "language_info": {
   "codemirror_mode": {
    "name": "ipython",
    "version": 3
   },
   "file_extension": ".py",
   "mimetype": "text/x-python",
   "name": "python",
   "nbconvert_exporter": "python",
   "pygments_lexer": "ipython3",
   "version": "3.9.13"
  }
 },
 "nbformat": 4,
 "nbformat_minor": 5
}
