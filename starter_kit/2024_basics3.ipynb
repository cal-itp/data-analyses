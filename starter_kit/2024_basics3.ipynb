{
 "cells": [
  {
   "cell_type": "markdown",
   "id": "3f74a524-f90a-4ad5-8d98-368afc398b46",
   "metadata": {},
   "source": [
    "# Exercise 3: Strings, Functions, If Else, For Loops"
   ]
  },
  {
   "cell_type": "code",
   "execution_count": 1,
   "id": "ba8a0d90-9d57-4d01-9eb4-0b255970995e",
   "metadata": {},
   "outputs": [],
   "source": [
    "import altair as alt\n",
    "import numpy as np\n",
    "import pandas as pd"
   ]
  },
  {
   "cell_type": "code",
   "execution_count": 2,
   "id": "ddcdbbc1-2e1b-4797-bd34-07d9a1999cb6",
   "metadata": {},
   "outputs": [],
   "source": [
    "pd.options.display.max_columns = 100\n",
    "pd.options.display.float_format = \"{:.2f}\".format\n",
    "pd.set_option(\"display.max_rows\", None)\n",
    "pd.set_option(\"display.max_colwidth\", None)"
   ]
  },
  {
   "cell_type": "markdown",
   "id": "8eec9257-7578-422c-b6d1-afe496e8ca70",
   "metadata": {},
   "source": [
    "* Using a f-strings, load in your merged dataframe from Exercise 3."
   ]
  },
  {
   "cell_type": "code",
   "execution_count": 3,
   "id": "7c52b09e-90b5-4a5d-8fda-ca19cb8fe3cd",
   "metadata": {},
   "outputs": [],
   "source": [
    "GCS_FILE_PATH = \"gs://calitp-analytics-data/data-analyses/starter_kit/\""
   ]
  },
  {
   "cell_type": "code",
   "execution_count": 4,
   "id": "e0222b8c-0996-47bb-8639-fc703cfbd249",
   "metadata": {},
   "outputs": [],
   "source": [
    "FILE = \"starter_kit_merge.parquet\""
   ]
  },
  {
   "cell_type": "code",
   "execution_count": 5,
   "id": "36bbc1d2-4285-4399-a0fd-1e02c5e5d5a1",
   "metadata": {},
   "outputs": [],
   "source": [
    "df = pd.read_parquet(f\"{GCS_FILE_PATH}{FILE}\")"
   ]
  },
  {
   "cell_type": "markdown",
   "id": "7cef8684-7d90-4f7c-a4a9-3f856430662b",
   "metadata": {},
   "source": [
    "### Amanda, note to self why are there min and max scores here??"
   ]
  },
  {
   "cell_type": "code",
   "execution_count": 6,
   "id": "c97f0ec6-bea0-401a-bb27-f37984a762eb",
   "metadata": {},
   "outputs": [
    {
     "data": {
      "text/html": [
       "<div>\n",
       "<style scoped>\n",
       "    .dataframe tbody tr th:only-of-type {\n",
       "        vertical-align: middle;\n",
       "    }\n",
       "\n",
       "    .dataframe tbody tr th {\n",
       "        vertical-align: top;\n",
       "    }\n",
       "\n",
       "    .dataframe thead th {\n",
       "        text-align: right;\n",
       "    }\n",
       "</style>\n",
       "<table border=\"1\" class=\"dataframe\">\n",
       "  <thead>\n",
       "    <tr style=\"text-align: right;\">\n",
       "      <th></th>\n",
       "      <th>ct_district</th>\n",
       "      <th>project_name</th>\n",
       "      <th>Scope of Work</th>\n",
       "      <th>accessibility_score</th>\n",
       "      <th>dac_accessibility_score</th>\n",
       "      <th>dac_traffic_impacts_score</th>\n",
       "      <th>freight_efficiency_score</th>\n",
       "      <th>freight_sustainability_score</th>\n",
       "      <th>mode_shift_score</th>\n",
       "      <th>lu_natural_resources_score</th>\n",
       "      <th>safety_score</th>\n",
       "      <th>vmt_score</th>\n",
       "      <th>zev_score</th>\n",
       "      <th>public_engagement_score</th>\n",
       "      <th>climate_resilience_score</th>\n",
       "      <th>program_fit_score</th>\n",
       "      <th>overall_score</th>\n",
       "      <th>min_score</th>\n",
       "      <th>max_score</th>\n",
       "    </tr>\n",
       "  </thead>\n",
       "  <tbody>\n",
       "    <tr>\n",
       "      <th>0</th>\n",
       "      <td>10</td>\n",
       "      <td>Meadow Magic Multi-Use Path</td>\n",
       "      <td>A 2-mile Class I bike lane and multi-use path through a scenic meadow, featuring wildflower plantings, public art installations, and educational signage highlighting local wildlife.</td>\n",
       "      <td>10</td>\n",
       "      <td>3</td>\n",
       "      <td>4</td>\n",
       "      <td>8</td>\n",
       "      <td>3</td>\n",
       "      <td>6</td>\n",
       "      <td>10</td>\n",
       "      <td>9</td>\n",
       "      <td>2</td>\n",
       "      <td>4</td>\n",
       "      <td>5</td>\n",
       "      <td>2</td>\n",
       "      <td>2</td>\n",
       "      <td>68</td>\n",
       "      <td>68</td>\n",
       "      <td>68</td>\n",
       "    </tr>\n",
       "    <tr>\n",
       "      <th>1</th>\n",
       "      <td>8</td>\n",
       "      <td>Bunny Hop Bike Boulevard</td>\n",
       "      <td>A Class II bike lane with charming streetlights, benches, and bike racks designed to resemble carrot sticks, connecting residential neighborhoods to local schools and parks.</td>\n",
       "      <td>8</td>\n",
       "      <td>9</td>\n",
       "      <td>5</td>\n",
       "      <td>8</td>\n",
       "      <td>7</td>\n",
       "      <td>8</td>\n",
       "      <td>10</td>\n",
       "      <td>8</td>\n",
       "      <td>5</td>\n",
       "      <td>1</td>\n",
       "      <td>1</td>\n",
       "      <td>3</td>\n",
       "      <td>9</td>\n",
       "      <td>82</td>\n",
       "      <td>82</td>\n",
       "      <td>82</td>\n",
       "    </tr>\n",
       "    <tr>\n",
       "      <th>2</th>\n",
       "      <td>2</td>\n",
       "      <td>Strawberry Shortcake Sidewalks</td>\n",
       "      <td>Colorful, patterned sidewalks connecting local schools and parks, incorporating playful strawberry-themed crosswalks and decorative street furniture.</td>\n",
       "      <td>1</td>\n",
       "      <td>3</td>\n",
       "      <td>1</td>\n",
       "      <td>10</td>\n",
       "      <td>5</td>\n",
       "      <td>10</td>\n",
       "      <td>3</td>\n",
       "      <td>7</td>\n",
       "      <td>4</td>\n",
       "      <td>3</td>\n",
       "      <td>3</td>\n",
       "      <td>2</td>\n",
       "      <td>3</td>\n",
       "      <td>55</td>\n",
       "      <td>55</td>\n",
       "      <td>55</td>\n",
       "    </tr>\n",
       "    <tr>\n",
       "      <th>3</th>\n",
       "      <td>3</td>\n",
       "      <td>River Ramble Rabbit Trail</td>\n",
       "      <td>A 5-mile Class III bike lane along a picturesque riverfront, offering stunning views, river access points, and interpretive signage sharing the area's natural and cultural history.</td>\n",
       "      <td>4</td>\n",
       "      <td>2</td>\n",
       "      <td>9</td>\n",
       "      <td>9</td>\n",
       "      <td>9</td>\n",
       "      <td>10</td>\n",
       "      <td>9</td>\n",
       "      <td>4</td>\n",
       "      <td>7</td>\n",
       "      <td>1</td>\n",
       "      <td>3</td>\n",
       "      <td>5</td>\n",
       "      <td>2</td>\n",
       "      <td>74</td>\n",
       "      <td>74</td>\n",
       "      <td>74</td>\n",
       "    </tr>\n",
       "    <tr>\n",
       "      <th>4</th>\n",
       "      <td>10</td>\n",
       "      <td>Lilac Lane Dream Complete Street</td>\n",
       "      <td>A vibrant Complete Street featuring bike lanes, wide sidewalks, and ample green space, prioritizing pedestrian safety and community engagement through public events and programming.</td>\n",
       "      <td>10</td>\n",
       "      <td>10</td>\n",
       "      <td>9</td>\n",
       "      <td>4</td>\n",
       "      <td>9</td>\n",
       "      <td>10</td>\n",
       "      <td>7</td>\n",
       "      <td>2</td>\n",
       "      <td>1</td>\n",
       "      <td>7</td>\n",
       "      <td>1</td>\n",
       "      <td>3</td>\n",
       "      <td>3</td>\n",
       "      <td>76</td>\n",
       "      <td>76</td>\n",
       "      <td>76</td>\n",
       "    </tr>\n",
       "  </tbody>\n",
       "</table>\n",
       "</div>"
      ],
      "text/plain": [
       "   ct_district                      project_name  \\\n",
       "0           10       Meadow Magic Multi-Use Path   \n",
       "1            8          Bunny Hop Bike Boulevard   \n",
       "2            2    Strawberry Shortcake Sidewalks   \n",
       "3            3         River Ramble Rabbit Trail   \n",
       "4           10  Lilac Lane Dream Complete Street   \n",
       "\n",
       "                                                                                                                                                                            Scope of Work  \\\n",
       "0   A 2-mile Class I bike lane and multi-use path through a scenic meadow, featuring wildflower plantings, public art installations, and educational signage highlighting local wildlife.   \n",
       "1           A Class II bike lane with charming streetlights, benches, and bike racks designed to resemble carrot sticks, connecting residential neighborhoods to local schools and parks.   \n",
       "2                                   Colorful, patterned sidewalks connecting local schools and parks, incorporating playful strawberry-themed crosswalks and decorative street furniture.   \n",
       "3    A 5-mile Class III bike lane along a picturesque riverfront, offering stunning views, river access points, and interpretive signage sharing the area's natural and cultural history.   \n",
       "4   A vibrant Complete Street featuring bike lanes, wide sidewalks, and ample green space, prioritizing pedestrian safety and community engagement through public events and programming.   \n",
       "\n",
       "   accessibility_score  dac_accessibility_score  dac_traffic_impacts_score  \\\n",
       "0                   10                        3                          4   \n",
       "1                    8                        9                          5   \n",
       "2                    1                        3                          1   \n",
       "3                    4                        2                          9   \n",
       "4                   10                       10                          9   \n",
       "\n",
       "   freight_efficiency_score  freight_sustainability_score  mode_shift_score  \\\n",
       "0                         8                             3                 6   \n",
       "1                         8                             7                 8   \n",
       "2                        10                             5                10   \n",
       "3                         9                             9                10   \n",
       "4                         4                             9                10   \n",
       "\n",
       "   lu_natural_resources_score  safety_score  vmt_score  zev_score  \\\n",
       "0                          10             9          2          4   \n",
       "1                          10             8          5          1   \n",
       "2                           3             7          4          3   \n",
       "3                           9             4          7          1   \n",
       "4                           7             2          1          7   \n",
       "\n",
       "   public_engagement_score  climate_resilience_score  program_fit_score  \\\n",
       "0                        5                         2                  2   \n",
       "1                        1                         3                  9   \n",
       "2                        3                         2                  3   \n",
       "3                        3                         5                  2   \n",
       "4                        1                         3                  3   \n",
       "\n",
       "   overall_score  min_score  max_score  \n",
       "0             68         68         68  \n",
       "1             82         82         82  \n",
       "2             55         55         55  \n",
       "3             74         74         74  \n",
       "4             76         76         76  "
      ]
     },
     "execution_count": 6,
     "metadata": {},
     "output_type": "execute_result"
    }
   ],
   "source": [
    "df.head()"
   ]
  },
  {
   "cell_type": "markdown",
   "id": "673fa239-dc06-4ef8-9513-ee167e80898e",
   "metadata": {},
   "source": [
    "## Categorizing\n",
    "* There are 30 projects. They all vary in themes, some are transit oriented while others are focused on Active Transportation (ATP).\n",
    "* Categorizing data is an important part of data cleaning and analyzing so we can present the data in a more succint and insightful way. \n",
    "* Let's organize projects into three categories.\n",
    "    * ATP\n",
    "    * Transit\n",
    "    * General Lanes"
   ]
  },
  {
   "cell_type": "markdown",
   "id": "49486dc6-a686-47fa-8cef-e252d7ec349d",
   "metadata": {},
   "source": [
    "### Task 1: Strings\n",
    "* Below are some of the common keywords that fall into the categories detailed above. They are held in a `list`.\n",
    "* Feel free to add other terms you think are relevant. \n",
    "* We are going to search the `Scope of Work` column for these keywords. "
   ]
  },
  {
   "cell_type": "code",
   "execution_count": 7,
   "id": "6a6b817f-15e2-4d1c-aeae-5d7e9661a6f0",
   "metadata": {},
   "outputs": [],
   "source": [
    "transit = [\"transit\", \"passenger rail\", \"bus\", \"ferry\"]\n",
    "atp = [\"bike\", \"pedestrian\", \"bicycle\", \"sidewalk\", \"path\"]\n",
    "general_lanes = [\"general\", \"auxiliary\"]"
   ]
  },
  {
   "cell_type": "markdown",
   "id": "6caf3a84-fcd7-4531-befe-11e76c01c8f1",
   "metadata": {},
   "source": [
    "#### Step 1: Cleaning\n",
    "* Remember in Exercise 2 some of the project names didn't merge between the two dataframes?\n",
    "* In the real world, a lot of string data can be spelled in different ways, different cases, abbreviated, and the like.\n",
    "* The easiest way to clean this up is by lowercasing, stripping the white spaces, and replacing characters.\n",
    "* Also, by simplifying a string column, we can saerch through it easier. "
   ]
  },
  {
   "cell_type": "code",
   "execution_count": 8,
   "id": "ea4a4df7-61ec-430b-a827-302704857318",
   "metadata": {},
   "outputs": [
    {
     "name": "stderr",
     "output_type": "stream",
     "text": [
      "/tmp/ipykernel_2119/3727765838.py:2: FutureWarning: The default value of regex will change from True to False in a future version. In addition, single character regular expressions will *not* be treated as literal strings when regex=True.\n",
      "  df[\"Scope of Work\"]\n"
     ]
    }
   ],
   "source": [
    "df[\"Scope of Work\"] = (\n",
    "    df[\"Scope of Work\"]\n",
    "    .str.lower()\n",
    "    .str.strip()\n",
    "    .str.replace(\"-\", \" \")\n",
    "    .str.replace(\"+\", \" \")\n",
    "    .str.replace(\"_\", \" \")\n",
    ")"
   ]
  },
  {
   "cell_type": "markdown",
   "id": "c3da188c-2afe-49f4-bbbd-8fecd8dfe10f",
   "metadata": {},
   "source": [
    "* `str.contains()` allows you to search through the column. \n",
    "* Let's search for projects that have \"transit\" in their descriptions. \n",
    "* Tip\n",
    "    * The data we work with tends to be pretty wide. Scrolling horizontally gets tiresome.\n",
    "    * Placing all the columns you want to temporarily work within a `list` like `preview_subset` below is a good idea. "
   ]
  },
  {
   "cell_type": "code",
   "execution_count": 9,
   "id": "315228d8-a72e-4f18-a0e7-2a254c87cc23",
   "metadata": {},
   "outputs": [],
   "source": [
    "preview_subset = [\"project_name\", \"Scope of Work\"]"
   ]
  },
  {
   "cell_type": "code",
   "execution_count": 10,
   "id": "be843d6a-b751-4e9f-8820-b521089914d3",
   "metadata": {},
   "outputs": [],
   "source": [
    "transit_only_projects = df.loc[df[\"Scope of Work\"].str.contains(\"transit\")]"
   ]
  },
  {
   "cell_type": "code",
   "execution_count": 11,
   "id": "0d9a6259-8748-41fe-a549-01bdf0e9c273",
   "metadata": {},
   "outputs": [
    {
     "data": {
      "text/plain": [
       "6"
      ]
     },
     "execution_count": 11,
     "metadata": {},
     "output_type": "execute_result"
    }
   ],
   "source": [
    "# Let's see how many transit projects\n",
    "len(transit_only_projects)"
   ]
  },
  {
   "cell_type": "code",
   "execution_count": 12,
   "id": "6789307c-5808-4501-a1a6-5a14a12b0219",
   "metadata": {},
   "outputs": [
    {
     "data": {
      "text/html": [
       "<div>\n",
       "<style scoped>\n",
       "    .dataframe tbody tr th:only-of-type {\n",
       "        vertical-align: middle;\n",
       "    }\n",
       "\n",
       "    .dataframe tbody tr th {\n",
       "        vertical-align: top;\n",
       "    }\n",
       "\n",
       "    .dataframe thead th {\n",
       "        text-align: right;\n",
       "    }\n",
       "</style>\n",
       "<table border=\"1\" class=\"dataframe\">\n",
       "  <thead>\n",
       "    <tr style=\"text-align: right;\">\n",
       "      <th></th>\n",
       "      <th>project_name</th>\n",
       "      <th>Scope of Work</th>\n",
       "    </tr>\n",
       "  </thead>\n",
       "  <tbody>\n",
       "    <tr>\n",
       "      <th>11</th>\n",
       "      <td>Greenway Gables Managed Lanes</td>\n",
       "      <td>managed lanes prioritizing carpools, clean vehicles, and public transit, featuring real time traffic updates and incentives for sustainable transportation choices.</td>\n",
       "    </tr>\n",
       "    <tr>\n",
       "      <th>16</th>\n",
       "      <td>Sparkle City Smart Streets Initiative</td>\n",
       "      <td>an intelligent transportation system integrating traffic management, real time transit information, and smart parking solutions to enhance mobility and reduce congestion.</td>\n",
       "    </tr>\n",
       "    <tr>\n",
       "      <th>19</th>\n",
       "      <td>Rolling Renaissance Rabbit Express</td>\n",
       "      <td>new, eco friendly rolling stock for public transit, incorporating advanced propulsion systems, comfortable seating, and onboard amenities.</td>\n",
       "    </tr>\n",
       "    <tr>\n",
       "      <th>20</th>\n",
       "      <td>Transit Treasure Transit Oasis</td>\n",
       "      <td>transit supportive features, including shelters, wi fi, and real time information displays, prioritizing passenger convenience and accessibility.</td>\n",
       "    </tr>\n",
       "    <tr>\n",
       "      <th>25</th>\n",
       "      <td>Trail of Treats and Transit Hub</td>\n",
       "      <td>a multi use path connecting to public transit, featuring public art installations, wayfinding signage, and amenities like bike storage and repair stations.</td>\n",
       "    </tr>\n",
       "    <tr>\n",
       "      <th>27</th>\n",
       "      <td>Park and Ride Petal Paradise</td>\n",
       "      <td>an attractive park and ride facility with amenities like ev charging, wi fi, and convenient access to nearby transit options.</td>\n",
       "    </tr>\n",
       "  </tbody>\n",
       "</table>\n",
       "</div>"
      ],
      "text/plain": [
       "                             project_name  \\\n",
       "11          Greenway Gables Managed Lanes   \n",
       "16  Sparkle City Smart Streets Initiative   \n",
       "19     Rolling Renaissance Rabbit Express   \n",
       "20         Transit Treasure Transit Oasis   \n",
       "25        Trail of Treats and Transit Hub   \n",
       "27           Park and Ride Petal Paradise   \n",
       "\n",
       "                                                                                                                                                                 Scope of Work  \n",
       "11         managed lanes prioritizing carpools, clean vehicles, and public transit, featuring real time traffic updates and incentives for sustainable transportation choices.  \n",
       "16  an intelligent transportation system integrating traffic management, real time transit information, and smart parking solutions to enhance mobility and reduce congestion.  \n",
       "19                                  new, eco friendly rolling stock for public transit, incorporating advanced propulsion systems, comfortable seating, and onboard amenities.  \n",
       "20                           transit supportive features, including shelters, wi fi, and real time information displays, prioritizing passenger convenience and accessibility.  \n",
       "25                 a multi use path connecting to public transit, featuring public art installations, wayfinding signage, and amenities like bike storage and repair stations.  \n",
       "27                                               an attractive park and ride facility with amenities like ev charging, wi fi, and convenient access to nearby transit options.  "
      ]
     },
     "execution_count": 12,
     "metadata": {},
     "output_type": "execute_result"
    }
   ],
   "source": [
    "transit_only_projects[preview_subset]"
   ]
  },
  {
   "cell_type": "markdown",
   "id": "d3adfb74-5a24-47f8-88da-92fe5591821a",
   "metadata": {},
   "source": [
    "#### Step 2: Filtering\n",
    "* We've found all the projects that says \"transit\" somewhere in its description. \n",
    "* Now there are just 7 more elements to go. \n",
    "* However, the method we used above leaves us with 7 separate dataframes when we actually just want our one original dataframe tagged with categories. \n",
    "* A faster way: join all the keywords you want.\n",
    "* | designates \"or\".\n",
    "* You can read this as \"I want projects that contain the word bus, transit, or rail...\""
   ]
  },
  {
   "cell_type": "code",
   "execution_count": 13,
   "id": "c2575f75-44ac-46ba-a334-fdf984546cd3",
   "metadata": {},
   "outputs": [],
   "source": [
    "transit_keywords = f\"({'|'.join(transit)})\""
   ]
  },
  {
   "cell_type": "code",
   "execution_count": 14,
   "id": "f6a2a521-c0ae-4c2d-830d-4020a13855f2",
   "metadata": {},
   "outputs": [
    {
     "data": {
      "text/plain": [
       "'(transit|passenger rail|bus|ferry)'"
      ]
     },
     "execution_count": 14,
     "metadata": {},
     "output_type": "execute_result"
    }
   ],
   "source": [
    "# Print it out\n",
    "transit_keywords"
   ]
  },
  {
   "cell_type": "markdown",
   "id": "937913db-407e-415c-aabb-31d3f511ef0b",
   "metadata": {},
   "source": [
    "* Filter again - notice the .loc after df and how there are brackets around `df`?"
   ]
  },
  {
   "cell_type": "code",
   "execution_count": 15,
   "id": "e5e23b6f-98b8-4219-bc52-d847ea39d121",
   "metadata": {},
   "outputs": [
    {
     "name": "stderr",
     "output_type": "stream",
     "text": [
      "/tmp/ipykernel_2119/2441750228.py:1: UserWarning: This pattern is interpreted as a regular expression, and has match groups. To actually get the groups, use str.extract.\n",
      "  df.loc[df[\"Scope of Work\"].str.contains(transit_keywords)][preview_subset]\n"
     ]
    },
    {
     "data": {
      "text/html": [
       "<div>\n",
       "<style scoped>\n",
       "    .dataframe tbody tr th:only-of-type {\n",
       "        vertical-align: middle;\n",
       "    }\n",
       "\n",
       "    .dataframe tbody tr th {\n",
       "        vertical-align: top;\n",
       "    }\n",
       "\n",
       "    .dataframe thead th {\n",
       "        text-align: right;\n",
       "    }\n",
       "</style>\n",
       "<table border=\"1\" class=\"dataframe\">\n",
       "  <thead>\n",
       "    <tr style=\"text-align: right;\">\n",
       "      <th></th>\n",
       "      <th>project_name</th>\n",
       "      <th>Scope of Work</th>\n",
       "    </tr>\n",
       "  </thead>\n",
       "  <tbody>\n",
       "    <tr>\n",
       "      <th>11</th>\n",
       "      <td>Greenway Gables Managed Lanes</td>\n",
       "      <td>managed lanes prioritizing carpools, clean vehicles, and public transit, featuring real time traffic updates and incentives for sustainable transportation choices.</td>\n",
       "    </tr>\n",
       "    <tr>\n",
       "      <th>16</th>\n",
       "      <td>Sparkle City Smart Streets Initiative</td>\n",
       "      <td>an intelligent transportation system integrating traffic management, real time transit information, and smart parking solutions to enhance mobility and reduce congestion.</td>\n",
       "    </tr>\n",
       "    <tr>\n",
       "      <th>18</th>\n",
       "      <td>Coastal Commuter Carousel</td>\n",
       "      <td>a 30 mile passenger rail line connecting coastal towns, featuring modern train sets, enhanced station amenities, and scenic viewing cars.</td>\n",
       "    </tr>\n",
       "    <tr>\n",
       "      <th>19</th>\n",
       "      <td>Rolling Renaissance Rabbit Express</td>\n",
       "      <td>new, eco friendly rolling stock for public transit, incorporating advanced propulsion systems, comfortable seating, and onboard amenities.</td>\n",
       "    </tr>\n",
       "    <tr>\n",
       "      <th>20</th>\n",
       "      <td>Transit Treasure Transit Oasis</td>\n",
       "      <td>transit supportive features, including shelters, wi fi, and real time information displays, prioritizing passenger convenience and accessibility.</td>\n",
       "    </tr>\n",
       "    <tr>\n",
       "      <th>21</th>\n",
       "      <td>Berry Best Bus Rapid Transit</td>\n",
       "      <td>dedicated bus lanes with comfortable stops, featuring off board fare payment, priority traffic signals, and enhanced passenger amenities.</td>\n",
       "    </tr>\n",
       "    <tr>\n",
       "      <th>25</th>\n",
       "      <td>Trail of Treats and Transit Hub</td>\n",
       "      <td>a multi use path connecting to public transit, featuring public art installations, wayfinding signage, and amenities like bike storage and repair stations.</td>\n",
       "    </tr>\n",
       "    <tr>\n",
       "      <th>27</th>\n",
       "      <td>Park and Ride Petal Paradise</td>\n",
       "      <td>an attractive park and ride facility with amenities like ev charging, wi fi, and convenient access to nearby transit options.</td>\n",
       "    </tr>\n",
       "  </tbody>\n",
       "</table>\n",
       "</div>"
      ],
      "text/plain": [
       "                             project_name  \\\n",
       "11          Greenway Gables Managed Lanes   \n",
       "16  Sparkle City Smart Streets Initiative   \n",
       "18              Coastal Commuter Carousel   \n",
       "19     Rolling Renaissance Rabbit Express   \n",
       "20         Transit Treasure Transit Oasis   \n",
       "21           Berry Best Bus Rapid Transit   \n",
       "25        Trail of Treats and Transit Hub   \n",
       "27           Park and Ride Petal Paradise   \n",
       "\n",
       "                                                                                                                                                                 Scope of Work  \n",
       "11         managed lanes prioritizing carpools, clean vehicles, and public transit, featuring real time traffic updates and incentives for sustainable transportation choices.  \n",
       "16  an intelligent transportation system integrating traffic management, real time transit information, and smart parking solutions to enhance mobility and reduce congestion.  \n",
       "18                                   a 30 mile passenger rail line connecting coastal towns, featuring modern train sets, enhanced station amenities, and scenic viewing cars.  \n",
       "19                                  new, eco friendly rolling stock for public transit, incorporating advanced propulsion systems, comfortable seating, and onboard amenities.  \n",
       "20                           transit supportive features, including shelters, wi fi, and real time information displays, prioritizing passenger convenience and accessibility.  \n",
       "21                                   dedicated bus lanes with comfortable stops, featuring off board fare payment, priority traffic signals, and enhanced passenger amenities.  \n",
       "25                 a multi use path connecting to public transit, featuring public art installations, wayfinding signage, and amenities like bike storage and repair stations.  \n",
       "27                                               an attractive park and ride facility with amenities like ev charging, wi fi, and convenient access to nearby transit options.  "
      ]
     },
     "execution_count": 15,
     "metadata": {},
     "output_type": "execute_result"
    }
   ],
   "source": [
    "df.loc[df[\"Scope of Work\"].str.contains(transit_keywords)][preview_subset]"
   ]
  },
  {
   "cell_type": "code",
   "execution_count": 16,
   "id": "7b62f28d-7b28-4258-8efa-74d1f9a41d04",
   "metadata": {},
   "outputs": [
    {
     "name": "stdout",
     "output_type": "stream",
     "text": [
      "6\n",
      "8\n"
     ]
    },
    {
     "name": "stderr",
     "output_type": "stream",
     "text": [
      "/tmp/ipykernel_2119/1261237332.py:3: UserWarning: This pattern is interpreted as a regular expression, and has match groups. To actually get the groups, use str.extract.\n",
      "  print(len(df.loc[df[\"Scope of Work\"].str.contains(transit_keywords)]))\n"
     ]
    }
   ],
   "source": [
    "# We can see there are actually a few more transit projects then if we just filtered for the word \"transit\"\n",
    "print(len(transit_only_projects))\n",
    "print(len(df.loc[df[\"Scope of Work\"].str.contains(transit_keywords)]))"
   ]
  },
  {
   "cell_type": "markdown",
   "id": "7c6717f8-4088-4c1f-9ec6-b9959fd6d283",
   "metadata": {},
   "source": [
    "\n",
    "* Let's put this all together. \n",
    "* I want any project that contains a transit component to be tagged as \"Y\" in a column called  \"Transit\". If a project doesn't have a transit component, it gets tagged as a \"N\"."
   ]
  },
  {
   "cell_type": "code",
   "execution_count": 17,
   "id": "47afb269-672f-44c1-8ab5-d70921c6e703",
   "metadata": {},
   "outputs": [
    {
     "name": "stderr",
     "output_type": "stream",
     "text": [
      "/tmp/ipykernel_2119/1837788452.py:2: UserWarning: This pattern is interpreted as a regular expression, and has match groups. To actually get the groups, use str.extract.\n",
      "  (df[\"Scope of Work\"].str.contains(transit_keywords)),\n"
     ]
    }
   ],
   "source": [
    "df[\"Transit\"] = np.where(\n",
    "        (df[\"Scope of Work\"].str.contains(transit_keywords)),\n",
    "        \"Y\",\n",
    "        \"N\",\n",
    "    )"
   ]
  },
  {
   "cell_type": "markdown",
   "id": "dfe862f0-f77e-4bf5-8710-888d3a8d7a4c",
   "metadata": {},
   "source": [
    "* Using `value_counts()` we can see the breakdown of transit related projects."
   ]
  },
  {
   "cell_type": "code",
   "execution_count": 18,
   "id": "c63f2ff8-3d2f-41c6-96d1-36d35159aef8",
   "metadata": {},
   "outputs": [
    {
     "data": {
      "text/plain": [
       "N    21\n",
       "Y     8\n",
       "Name: Transit, dtype: int64"
      ]
     },
     "execution_count": 18,
     "metadata": {},
     "output_type": "execute_result"
    }
   ],
   "source": [
    "df.Transit.value_counts()"
   ]
  },
  {
   "cell_type": "markdown",
   "id": "d1f5fb9e-f8bd-4549-9e12-3f05dded1145",
   "metadata": {},
   "source": [
    "### Task 2: Functions \n",
    "* It looks only the 8 transit projects were categorized.\n",
    "* We are missing the 2 categories: ATP and Lane related projects.\n",
    "* We could repeat the steps above or we can use a function.\n",
    "    * You can think of a function as a piece of code you write only once but reuse more than once.\n",
    "    * In the long run, functions save you work and look neater when you present your work.\n",
    "    * [Please read this great tutorial.](https://www.practicalpythonfordatascience.com/00_python_crash_course_functions)\n",
    "    * [And refer to this page on our docs.](https://docs.calitp.org/data-infra/analytics_new_analysts/01-data-analysis-intro.html#functions)\n",
    "* Let's build one together.\n",
    "* Start your function with def(): and the name\n",
    "\n"
   ]
  },
  {
   "cell_type": "code",
   "execution_count": 19,
   "id": "97e597a2-8625-4f2b-8646-760c0c011208",
   "metadata": {},
   "outputs": [],
   "source": [
    "\n",
    "#def categorize():"
   ]
  },
  {
   "cell_type": "markdown",
   "id": "06ccd282-cf21-462b-8930-9a3148671ff1",
   "metadata": {},
   "source": [
    "* Now let's think of what are the two elements that we will repeat.\n",
    "* We merely want to substitute `transit_keywords` with ATP or Managed Lane related keywords.\n",
    "* Instead of the `df[\"Transit]\"`, we want to create two new columns called something like `df[\"ATP]\"` and `df[\"Managed_Lanes]\"` to hold our yes/no results.\n",
    "* Add the two elements that need to be substituted into the argument of your function.\n",
    "    * It's good practice to specify what exactly the parameter should be: a string/list/dataframe. \n"
   ]
  },
  {
   "cell_type": "code",
   "execution_count": 20,
   "id": "61973dc6-d99b-48f0-842f-a3c8fe74f064",
   "metadata": {},
   "outputs": [],
   "source": [
    "#def categorize(df:pd.DataFrame, keywords:list, new_column:str):"
   ]
  },
  {
   "cell_type": "markdown",
   "id": "ae178f6d-0f76-419c-aab2-9924ba294605",
   "metadata": {},
   "source": [
    "* It's also a nice idea to document what your function will return.\n",
    "* In our case, it's a dataframe. "
   ]
  },
  {
   "cell_type": "code",
   "execution_count": 21,
   "id": "a794693a-3bf2-48ba-b0a7-1ca3a41e03af",
   "metadata": {},
   "outputs": [],
   "source": [
    "#def categorize(df:pd.DataFrame, keywords:list, new_column:str)->pd.DataFrame:"
   ]
  },
  {
   "cell_type": "markdown",
   "id": "be820c1a-a0d2-4b2f-bf01-70e753603291",
   "metadata": {},
   "source": [
    "* Think about the steps we took to categorize transit only.\n",
    "* Add the sections of the code we will be reusing and sub in the original variables for the arguments.\n",
    "    *  First, we joined the keywords from a list into a tuple.\n",
    "    *  Second, we searched through the Scope of Work column for the keywords and tagged it with the category"
   ]
  },
  {
   "cell_type": "code",
   "execution_count": 22,
   "id": "4721b564-726a-4e05-9d27-8035609b5fcf",
   "metadata": {},
   "outputs": [],
   "source": [
    "def categorize(df: pd.DataFrame, keywords: list, new_column: str) -> pd.DataFrame:\n",
    "    joined_keywords = (\n",
    "        f\"({'|'.join(keywords)})\"  # Remember this used to be the list called transit_keywords, but it must be changed into a tuple.\n",
    "    )\n",
    "    \n",
    "    # We are now creating a new column: notice how parameters has no quotation marks. \n",
    "    df[new_column] = np.where(\n",
    "        (df[\"Scope of Work\"].str.contains(joined_keywords)), # Why do you think \"Scope of Work\" has quotation marks around it?\n",
    "        \"Y\",\n",
    "        \"N\",\n",
    "    )\n",
    "    \n",
    "    # We are returning the updated dataframe from this function\n",
    "    return df"
   ]
  },
  {
   "cell_type": "markdown",
   "id": "81bbb109-beef-452c-b8d9-eb13e7b9ee03",
   "metadata": {},
   "source": [
    "* Now let's use your function"
   ]
  },
  {
   "cell_type": "code",
   "execution_count": 23,
   "id": "23e31c98-17b3-41e2-883a-14dae9d6da7e",
   "metadata": {},
   "outputs": [
    {
     "name": "stderr",
     "output_type": "stream",
     "text": [
      "/tmp/ipykernel_2119/1955324842.py:8: UserWarning: This pattern is interpreted as a regular expression, and has match groups. To actually get the groups, use str.extract.\n",
      "  (df[\"Scope of Work\"].str.contains(joined_keywords)), # Why do you think \"Scope of Work\" has quotation marks around it?\n"
     ]
    }
   ],
   "source": [
    "df = categorize(df, atp, \"ATP\")"
   ]
  },
  {
   "cell_type": "code",
   "execution_count": 24,
   "id": "d5ec64cf-432c-45e2-b14d-f4ea7ca3de2a",
   "metadata": {},
   "outputs": [
    {
     "data": {
      "text/plain": [
       "N    19\n",
       "Y    10\n",
       "Name: ATP, dtype: int64"
      ]
     },
     "execution_count": 24,
     "metadata": {},
     "output_type": "execute_result"
    }
   ],
   "source": [
    "df.ATP.value_counts()"
   ]
  },
  {
   "cell_type": "code",
   "execution_count": 25,
   "id": "882a02a6-ce39-4da2-b2be-7e91322624e4",
   "metadata": {},
   "outputs": [
    {
     "name": "stderr",
     "output_type": "stream",
     "text": [
      "/tmp/ipykernel_2119/1955324842.py:8: UserWarning: This pattern is interpreted as a regular expression, and has match groups. To actually get the groups, use str.extract.\n",
      "  (df[\"Scope of Work\"].str.contains(joined_keywords)), # Why do you think \"Scope of Work\" has quotation marks around it?\n"
     ]
    }
   ],
   "source": [
    "df = categorize(df, transit, \"Transit\")"
   ]
  },
  {
   "cell_type": "code",
   "execution_count": 26,
   "id": "ee56ee97-307c-44a4-a2d4-b02eff954f87",
   "metadata": {},
   "outputs": [
    {
     "name": "stderr",
     "output_type": "stream",
     "text": [
      "/tmp/ipykernel_2119/1955324842.py:8: UserWarning: This pattern is interpreted as a regular expression, and has match groups. To actually get the groups, use str.extract.\n",
      "  (df[\"Scope of Work\"].str.contains(joined_keywords)), # Why do you think \"Scope of Work\" has quotation marks around it?\n"
     ]
    }
   ],
   "source": [
    "df = categorize(df, general_lanes, \"General_Lanes\")"
   ]
  },
  {
   "cell_type": "markdown",
   "id": "405aac8e-4488-47fa-bbb1-a12121ed8d15",
   "metadata": {},
   "source": [
    "* Use the `groupby` technique from Exercise 2 to get the total number of projects that fall in each of these 3 new columns"
   ]
  },
  {
   "cell_type": "markdown",
   "id": "5b28fc4f-2168-4c65-9395-b141a3895b3f",
   "metadata": {},
   "source": [
    "### Amanda: Add more random projects in the sample data related to general lanes."
   ]
  },
  {
   "cell_type": "code",
   "execution_count": 27,
   "id": "62115dcb-ea34-4bb1-9bd1-e678ec015b8c",
   "metadata": {},
   "outputs": [
    {
     "data": {
      "text/html": [
       "<div>\n",
       "<style scoped>\n",
       "    .dataframe tbody tr th:only-of-type {\n",
       "        vertical-align: middle;\n",
       "    }\n",
       "\n",
       "    .dataframe tbody tr th {\n",
       "        vertical-align: top;\n",
       "    }\n",
       "\n",
       "    .dataframe thead th {\n",
       "        text-align: right;\n",
       "    }\n",
       "</style>\n",
       "<table border=\"1\" class=\"dataframe\">\n",
       "  <thead>\n",
       "    <tr style=\"text-align: right;\">\n",
       "      <th></th>\n",
       "      <th></th>\n",
       "      <th></th>\n",
       "      <th>project_name</th>\n",
       "    </tr>\n",
       "    <tr>\n",
       "      <th>General_Lanes</th>\n",
       "      <th>Transit</th>\n",
       "      <th>ATP</th>\n",
       "      <th></th>\n",
       "    </tr>\n",
       "  </thead>\n",
       "  <tbody>\n",
       "    <tr>\n",
       "      <th rowspan=\"4\" valign=\"top\">N</th>\n",
       "      <th rowspan=\"2\" valign=\"top\">N</th>\n",
       "      <th>N</th>\n",
       "      <td>12</td>\n",
       "    </tr>\n",
       "    <tr>\n",
       "      <th>Y</th>\n",
       "      <td>9</td>\n",
       "    </tr>\n",
       "    <tr>\n",
       "      <th rowspan=\"2\" valign=\"top\">Y</th>\n",
       "      <th>N</th>\n",
       "      <td>7</td>\n",
       "    </tr>\n",
       "    <tr>\n",
       "      <th>Y</th>\n",
       "      <td>1</td>\n",
       "    </tr>\n",
       "  </tbody>\n",
       "</table>\n",
       "</div>"
      ],
      "text/plain": [
       "                           project_name\n",
       "General_Lanes Transit ATP              \n",
       "N             N       N              12\n",
       "                      Y               9\n",
       "              Y       N               7\n",
       "                      Y               1"
      ]
     },
     "execution_count": 27,
     "metadata": {},
     "output_type": "execute_result"
    }
   ],
   "source": [
    "df.groupby(['General_Lanes',\"Transit\", \"ATP\"]).aggregate({'project_name':'nunique'})"
   ]
  },
  {
   "cell_type": "code",
   "execution_count": 28,
   "id": "2203f4c7-80b8-4a20-97d8-b7b6e5795e8e",
   "metadata": {},
   "outputs": [
    {
     "data": {
      "text/html": [
       "<div>\n",
       "<style scoped>\n",
       "    .dataframe tbody tr th:only-of-type {\n",
       "        vertical-align: middle;\n",
       "    }\n",
       "\n",
       "    .dataframe tbody tr th {\n",
       "        vertical-align: top;\n",
       "    }\n",
       "\n",
       "    .dataframe thead th {\n",
       "        text-align: right;\n",
       "    }\n",
       "</style>\n",
       "<table border=\"1\" class=\"dataframe\">\n",
       "  <thead>\n",
       "    <tr style=\"text-align: right;\">\n",
       "      <th></th>\n",
       "      <th></th>\n",
       "      <th></th>\n",
       "      <th>overall_score</th>\n",
       "    </tr>\n",
       "    <tr>\n",
       "      <th>General_Lanes</th>\n",
       "      <th>Transit</th>\n",
       "      <th>ATP</th>\n",
       "      <th></th>\n",
       "    </tr>\n",
       "  </thead>\n",
       "  <tbody>\n",
       "    <tr>\n",
       "      <th rowspan=\"4\" valign=\"top\">N</th>\n",
       "      <th rowspan=\"2\" valign=\"top\">N</th>\n",
       "      <th>N</th>\n",
       "      <td>73.50</td>\n",
       "    </tr>\n",
       "    <tr>\n",
       "      <th>Y</th>\n",
       "      <td>76.00</td>\n",
       "    </tr>\n",
       "    <tr>\n",
       "      <th rowspan=\"2\" valign=\"top\">Y</th>\n",
       "      <th>N</th>\n",
       "      <td>72.00</td>\n",
       "    </tr>\n",
       "    <tr>\n",
       "      <th>Y</th>\n",
       "      <td>64.00</td>\n",
       "    </tr>\n",
       "  </tbody>\n",
       "</table>\n",
       "</div>"
      ],
      "text/plain": [
       "                           overall_score\n",
       "General_Lanes Transit ATP               \n",
       "N             N       N            73.50\n",
       "                      Y            76.00\n",
       "              Y       N            72.00\n",
       "                      Y            64.00"
      ]
     },
     "execution_count": 28,
     "metadata": {},
     "output_type": "execute_result"
    }
   ],
   "source": [
    "df.groupby(['General_Lanes',\"Transit\", \"ATP\"]).aggregate({'overall_score':'median'})"
   ]
  },
  {
   "cell_type": "markdown",
   "id": "bc935af0-4db0-4e83-92cb-0d8b34792097",
   "metadata": {},
   "source": [
    "## If-Else\n",
    "* Part of CSIS is to reward projects that create new infrastructure that isn't highway related. \n",
    "    * If a project contains at least one transit related element, we will add 10 points to its `overall_score`.\n",
    "    * If a project contains at least one ATP element, we will add 5 points.\n",
    "    * If a project contains a managed lane element, we will subtract 3 points.\n",
    "    * For everything else, we will leave the `overall_score` as is. \n",
    "    * We are going to use an `if-else` clause within another function. \n",
    "        * [Read about them here](https://docs.calitp.org/data-infra/analytics_new_analysts/01-data-analysis-intro.html#if-else-statements)"
   ]
  },
  {
   "cell_type": "markdown",
   "id": "3c2b98b1-a2b7-4e88-b3ae-909308ee0973",
   "metadata": {},
   "source": [
    "#### The first part of the logic is: <i>if</i> a project's `Scope of Work` column contains a transit element, their score gets bumped up by 10. "
   ]
  },
  {
   "cell_type": "code",
   "execution_count": 29,
   "id": "1426a9ae-8227-4396-b7ac-28ac256c4ede",
   "metadata": {},
   "outputs": [],
   "source": [
    "def alter_score(row):\n",
    "    if row.Transit == \"Y\":\n",
    "        row.overall_score += 10\n",
    "    elif row.ATP == \"Y\":\n",
    "        row.overall_score += 5\n",
    "    elif row.General_Lanes == \"Y\":\n",
    "        row.overall_score -= 3\n",
    "    return row"
   ]
  },
  {
   "cell_type": "code",
   "execution_count": 30,
   "id": "65c8493e-25ce-4784-91af-604d5ac372cf",
   "metadata": {},
   "outputs": [],
   "source": [
    "df = df.apply(alter_score, axis=1)"
   ]
  },
  {
   "cell_type": "code",
   "execution_count": 31,
   "id": "5b414d3f-71a4-4078-9d98-b9082114e2c5",
   "metadata": {},
   "outputs": [
    {
     "data": {
      "text/html": [
       "<div>\n",
       "<style scoped>\n",
       "    .dataframe tbody tr th:only-of-type {\n",
       "        vertical-align: middle;\n",
       "    }\n",
       "\n",
       "    .dataframe tbody tr th {\n",
       "        vertical-align: top;\n",
       "    }\n",
       "\n",
       "    .dataframe thead th {\n",
       "        text-align: right;\n",
       "    }\n",
       "</style>\n",
       "<table border=\"1\" class=\"dataframe\">\n",
       "  <thead>\n",
       "    <tr style=\"text-align: right;\">\n",
       "      <th></th>\n",
       "      <th></th>\n",
       "      <th></th>\n",
       "      <th>overall_score</th>\n",
       "    </tr>\n",
       "    <tr>\n",
       "      <th>General_Lanes</th>\n",
       "      <th>Transit</th>\n",
       "      <th>ATP</th>\n",
       "      <th></th>\n",
       "    </tr>\n",
       "  </thead>\n",
       "  <tbody>\n",
       "    <tr>\n",
       "      <th rowspan=\"4\" valign=\"top\">N</th>\n",
       "      <th rowspan=\"2\" valign=\"top\">N</th>\n",
       "      <th>N</th>\n",
       "      <td>73.50</td>\n",
       "    </tr>\n",
       "    <tr>\n",
       "      <th>Y</th>\n",
       "      <td>81.00</td>\n",
       "    </tr>\n",
       "    <tr>\n",
       "      <th rowspan=\"2\" valign=\"top\">Y</th>\n",
       "      <th>N</th>\n",
       "      <td>82.00</td>\n",
       "    </tr>\n",
       "    <tr>\n",
       "      <th>Y</th>\n",
       "      <td>74.00</td>\n",
       "    </tr>\n",
       "  </tbody>\n",
       "</table>\n",
       "</div>"
      ],
      "text/plain": [
       "                           overall_score\n",
       "General_Lanes Transit ATP               \n",
       "N             N       N            73.50\n",
       "                      Y            81.00\n",
       "              Y       N            82.00\n",
       "                      Y            74.00"
      ]
     },
     "execution_count": 31,
     "metadata": {},
     "output_type": "execute_result"
    }
   ],
   "source": [
    "df.groupby(['General_Lanes',\"Transit\", \"ATP\"]).aggregate({'overall_score':'median'})"
   ]
  },
  {
   "cell_type": "markdown",
   "id": "14ba020e-e2b3-4447-89e2-abdc0579fc6b",
   "metadata": {},
   "source": [
    "## For Loops + More Charts.\n",
    "* Tell them to make a chart that displays overall_scores for Transit projects.\n",
    "* Use a function to create the chart. \n",
    "* Use a for loop to filter the dataframe for Y for the two other categories and create the chart. "
   ]
  },
  {
   "cell_type": "code",
   "execution_count": null,
   "id": "ae6377db-e532-46ab-a3e0-d6d702b6deae",
   "metadata": {},
   "outputs": [],
   "source": []
  }
 ],
 "metadata": {
  "kernelspec": {
   "display_name": "Python 3 (ipykernel)",
   "language": "python",
   "name": "python3"
  },
  "language_info": {
   "codemirror_mode": {
    "name": "ipython",
    "version": 3
   },
   "file_extension": ".py",
   "mimetype": "text/x-python",
   "name": "python",
   "nbconvert_exporter": "python",
   "pygments_lexer": "ipython3",
   "version": "3.9.13"
  }
 },
 "nbformat": 4,
 "nbformat_minor": 5
}
