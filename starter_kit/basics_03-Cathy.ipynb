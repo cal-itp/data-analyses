{
 "cells": [
  {
   "cell_type": "markdown",
   "id": "9d8776b0-d2ea-4e3a-b46a-eabb048d89f7",
   "metadata": {},
   "source": [
    "# Exercise 3: More tabular data wrangling\n",
    "\n",
    "Skills:\n",
    "* Looping\n",
    "* Dictionary to map values\n",
    "* Dealing with duplicates\n",
    "* Make use of Markdown cells to write some narrative or commentary!\n",
    "\n",
    "References:\n",
    "* https://docs.calitp.org/data-infra/analytics_new_analysts/02-data-analysis-intermediate.html"
   ]
  },
  {
   "cell_type": "code",
   "execution_count": 1,
   "id": "99af77ce-7fd5-43b9-b0bb-239a58827555",
   "metadata": {},
   "outputs": [],
   "source": [
    "import pandas as pd"
   ]
  },
  {
   "cell_type": "code",
   "execution_count": 2,
   "id": "24ab1104-46e9-4aab-90de-b3cbc456189f",
   "metadata": {},
   "outputs": [
    {
     "data": {
      "text/html": [
       "<div>\n",
       "<style scoped>\n",
       "    .dataframe tbody tr th:only-of-type {\n",
       "        vertical-align: middle;\n",
       "    }\n",
       "\n",
       "    .dataframe tbody tr th {\n",
       "        vertical-align: top;\n",
       "    }\n",
       "\n",
       "    .dataframe thead th {\n",
       "        text-align: right;\n",
       "    }\n",
       "</style>\n",
       "<table border=\"1\" class=\"dataframe\">\n",
       "  <thead>\n",
       "    <tr style=\"text-align: right;\">\n",
       "      <th></th>\n",
       "      <th>Agency</th>\n",
       "      <th>City</th>\n",
       "      <th>State</th>\n",
       "      <th>Legacy NTD ID</th>\n",
       "      <th>NTD ID</th>\n",
       "      <th>Organization Type</th>\n",
       "      <th>Reporter Type</th>\n",
       "      <th>Primary UZA\\n Population</th>\n",
       "      <th>Agency VOMS</th>\n",
       "      <th>Mode</th>\n",
       "      <th>...</th>\n",
       "      <th>Passenger Miles Questionable</th>\n",
       "      <th>Vehicle Revenue Miles</th>\n",
       "      <th>Vehicle Revenue Miles Questionable</th>\n",
       "      <th>Any data questionable?</th>\n",
       "      <th>Unnamed: 39</th>\n",
       "      <th>Unnamed: 40</th>\n",
       "      <th>Unnamed: 41</th>\n",
       "      <th>1</th>\n",
       "      <th>Unnamed: 43</th>\n",
       "      <th>Unnamed: 44</th>\n",
       "    </tr>\n",
       "  </thead>\n",
       "  <tbody>\n",
       "    <tr>\n",
       "      <th>0</th>\n",
       "      <td>MTA New York City Transit</td>\n",
       "      <td>New York</td>\n",
       "      <td>NY</td>\n",
       "      <td>2008</td>\n",
       "      <td>20008</td>\n",
       "      <td>Subsidiary Unit of a Transit Agency, Reporting...</td>\n",
       "      <td>Full Reporter</td>\n",
       "      <td>18,351,295</td>\n",
       "      <td>10,885</td>\n",
       "      <td>HR</td>\n",
       "      <td>...</td>\n",
       "      <td>None</td>\n",
       "      <td>354,616,371</td>\n",
       "      <td>None</td>\n",
       "      <td>No</td>\n",
       "      <td>NaN</td>\n",
       "      <td>NaN</td>\n",
       "      <td>NaN</td>\n",
       "      <td>Hide questionable data tags</td>\n",
       "      <td>NaN</td>\n",
       "      <td>NaN</td>\n",
       "    </tr>\n",
       "    <tr>\n",
       "      <th>1</th>\n",
       "      <td>MTA New York City Transit</td>\n",
       "      <td>New York</td>\n",
       "      <td>NY</td>\n",
       "      <td>2008</td>\n",
       "      <td>20008</td>\n",
       "      <td>Subsidiary Unit of a Transit Agency, Reporting...</td>\n",
       "      <td>Full Reporter</td>\n",
       "      <td>18,351,295</td>\n",
       "      <td>10,885</td>\n",
       "      <td>CB</td>\n",
       "      <td>...</td>\n",
       "      <td>None</td>\n",
       "      <td>9,866,807</td>\n",
       "      <td>None</td>\n",
       "      <td>No</td>\n",
       "      <td>NaN</td>\n",
       "      <td>NaN</td>\n",
       "      <td>NaN</td>\n",
       "      <td>Show questionable data tags</td>\n",
       "      <td>NaN</td>\n",
       "      <td>NaN</td>\n",
       "    </tr>\n",
       "  </tbody>\n",
       "</table>\n",
       "<p>2 rows × 45 columns</p>\n",
       "</div>"
      ],
      "text/plain": [
       "                      Agency      City State Legacy NTD ID NTD ID  \\\n",
       "0  MTA New York City Transit  New York    NY          2008  20008   \n",
       "1  MTA New York City Transit  New York    NY          2008  20008   \n",
       "\n",
       "                                   Organization Type  Reporter Type  \\\n",
       "0  Subsidiary Unit of a Transit Agency, Reporting...  Full Reporter   \n",
       "1  Subsidiary Unit of a Transit Agency, Reporting...  Full Reporter   \n",
       "\n",
       "  Primary UZA\\n Population Agency VOMS Mode  ... Passenger Miles Questionable  \\\n",
       "0              18,351,295       10,885   HR  ...                         None   \n",
       "1              18,351,295       10,885   CB  ...                         None   \n",
       "\n",
       "  Vehicle Revenue Miles  Vehicle Revenue Miles Questionable  \\\n",
       "0          354,616,371                                 None   \n",
       "1            9,866,807                                 None   \n",
       "\n",
       "  Any data questionable? Unnamed: 39 Unnamed: 40  Unnamed: 41  \\\n",
       "0                     No         NaN         NaN          NaN   \n",
       "1                     No         NaN         NaN          NaN   \n",
       "\n",
       "                             1 Unnamed: 43 Unnamed: 44  \n",
       "0  Hide questionable data tags         NaN         NaN  \n",
       "1  Show questionable data tags         NaN         NaN  \n",
       "\n",
       "[2 rows x 45 columns]"
      ]
     },
     "execution_count": 2,
     "metadata": {},
     "output_type": "execute_result"
    }
   ],
   "source": [
    "FOLDER = \"./data/\"\n",
    "FILE_NAME = \"exercise_2_3_ntd_metrics_2019.parquet\"\n",
    "df = pd.read_parquet(f\"{FOLDER}{FILE_NAME}\")\n",
    "df.head(2)"
   ]
  },
  {
   "cell_type": "code",
   "execution_count": null,
   "id": "e0004ba4-2535-4aed-9b98-6e6c5339a937",
   "metadata": {},
   "outputs": [],
   "source": [
    "GCS_FILE_PATH = \"gs://calitp-analytics-data/data-analyses/bus_service_increase/\"\n",
    "FILE_NAME = \"ntd_metrics_2019.csv\"\n",
    "\n",
    "df = pd.read_csv(f\"{GCS_FILE_PATH}{FILE_NAME}\")\n",
    "df.head(2)"
   ]
  },
  {
   "cell_type": "code",
   "execution_count": 3,
   "id": "a3058b39-1f2e-4738-bf1d-456a074a5314",
   "metadata": {},
   "outputs": [
    {
     "data": {
      "text/html": [
       "<div>\n",
       "<style scoped>\n",
       "    .dataframe tbody tr th:only-of-type {\n",
       "        vertical-align: middle;\n",
       "    }\n",
       "\n",
       "    .dataframe tbody tr th {\n",
       "        vertical-align: top;\n",
       "    }\n",
       "\n",
       "    .dataframe thead th {\n",
       "        text-align: right;\n",
       "    }\n",
       "</style>\n",
       "<table border=\"1\" class=\"dataframe\">\n",
       "  <thead>\n",
       "    <tr style=\"text-align: right;\">\n",
       "      <th></th>\n",
       "      <th>Agency</th>\n",
       "      <th>City</th>\n",
       "      <th>State</th>\n",
       "      <th>Legacy_NTD_ID</th>\n",
       "      <th>NTD_ID</th>\n",
       "      <th>Organization_Type</th>\n",
       "      <th>Reporter_Type</th>\n",
       "      <th>Primary_UZA__Population</th>\n",
       "      <th>Agency_VOMS</th>\n",
       "      <th>Mode</th>\n",
       "      <th>...</th>\n",
       "      <th>Passenger_Miles_Questionable</th>\n",
       "      <th>Vehicle_Revenue_Miles</th>\n",
       "      <th>Vehicle_Revenue_Miles_Questionable</th>\n",
       "      <th>Any_data_questionable?</th>\n",
       "      <th>Unnamed:_39</th>\n",
       "      <th>Unnamed:_40</th>\n",
       "      <th>Unnamed:_41</th>\n",
       "      <th>1</th>\n",
       "      <th>Unnamed:_43</th>\n",
       "      <th>Unnamed:_44</th>\n",
       "    </tr>\n",
       "  </thead>\n",
       "  <tbody>\n",
       "    <tr>\n",
       "      <th>0</th>\n",
       "      <td>MTA New York City Transit</td>\n",
       "      <td>New York</td>\n",
       "      <td>NY</td>\n",
       "      <td>2008</td>\n",
       "      <td>20008</td>\n",
       "      <td>Subsidiary Unit of a Transit Agency, Reporting...</td>\n",
       "      <td>Full Reporter</td>\n",
       "      <td>18,351,295</td>\n",
       "      <td>10,885</td>\n",
       "      <td>HR</td>\n",
       "      <td>...</td>\n",
       "      <td>None</td>\n",
       "      <td>354,616,371</td>\n",
       "      <td>None</td>\n",
       "      <td>No</td>\n",
       "      <td>NaN</td>\n",
       "      <td>NaN</td>\n",
       "      <td>NaN</td>\n",
       "      <td>Hide questionable data tags</td>\n",
       "      <td>NaN</td>\n",
       "      <td>NaN</td>\n",
       "    </tr>\n",
       "    <tr>\n",
       "      <th>1</th>\n",
       "      <td>MTA New York City Transit</td>\n",
       "      <td>New York</td>\n",
       "      <td>NY</td>\n",
       "      <td>2008</td>\n",
       "      <td>20008</td>\n",
       "      <td>Subsidiary Unit of a Transit Agency, Reporting...</td>\n",
       "      <td>Full Reporter</td>\n",
       "      <td>18,351,295</td>\n",
       "      <td>10,885</td>\n",
       "      <td>CB</td>\n",
       "      <td>...</td>\n",
       "      <td>None</td>\n",
       "      <td>9,866,807</td>\n",
       "      <td>None</td>\n",
       "      <td>No</td>\n",
       "      <td>NaN</td>\n",
       "      <td>NaN</td>\n",
       "      <td>NaN</td>\n",
       "      <td>Show questionable data tags</td>\n",
       "      <td>NaN</td>\n",
       "      <td>NaN</td>\n",
       "    </tr>\n",
       "  </tbody>\n",
       "</table>\n",
       "<p>2 rows × 45 columns</p>\n",
       "</div>"
      ],
      "text/plain": [
       "                      Agency      City State Legacy_NTD_ID NTD_ID  \\\n",
       "0  MTA New York City Transit  New York    NY          2008  20008   \n",
       "1  MTA New York City Transit  New York    NY          2008  20008   \n",
       "\n",
       "                                   Organization_Type  Reporter_Type  \\\n",
       "0  Subsidiary Unit of a Transit Agency, Reporting...  Full Reporter   \n",
       "1  Subsidiary Unit of a Transit Agency, Reporting...  Full Reporter   \n",
       "\n",
       "  Primary_UZA__Population Agency_VOMS Mode  ... Passenger_Miles_Questionable  \\\n",
       "0             18,351,295       10,885   HR  ...                         None   \n",
       "1             18,351,295       10,885   CB  ...                         None   \n",
       "\n",
       "  Vehicle_Revenue_Miles  Vehicle_Revenue_Miles_Questionable  \\\n",
       "0          354,616,371                                 None   \n",
       "1            9,866,807                                 None   \n",
       "\n",
       "  Any_data_questionable? Unnamed:_39 Unnamed:_40  Unnamed:_41  \\\n",
       "0                     No         NaN         NaN          NaN   \n",
       "1                     No         NaN         NaN          NaN   \n",
       "\n",
       "                             1 Unnamed:_43 Unnamed:_44  \n",
       "0  Hide questionable data tags         NaN         NaN  \n",
       "1  Show questionable data tags         NaN         NaN  \n",
       "\n",
       "[2 rows x 45 columns]"
      ]
     },
     "execution_count": 3,
     "metadata": {},
     "output_type": "execute_result"
    }
   ],
   "source": [
    "#Keep a subset of columns and clean up column names (no spaces, newlines, etc)\n",
    "df.columns = df.columns.str.replace('\\n', ' ').str.replace(' ', '_')\n",
    "df.head(2)"
   ]
  },
  {
   "cell_type": "code",
   "execution_count": 4,
   "id": "147f8d7f-8025-43b4-b380-92a2fa6cbed3",
   "metadata": {},
   "outputs": [
    {
     "name": "stdout",
     "output_type": "stream",
     "text": [
      "# obs: 3685\n",
      "# unique IDs: 2183\n"
     ]
    }
   ],
   "source": [
    "print(f\"# obs: {len(df)}\")\n",
    "print(f\"# unique IDs: {df.NTD_ID.nunique()}\")"
   ]
  },
  {
   "cell_type": "code",
   "execution_count": 5,
   "id": "55ce8910-8195-40af-b9d3-4bb1ec725b6f",
   "metadata": {},
   "outputs": [
    {
     "data": {
      "text/plain": [
       "10003         9\n",
       "60008         8\n",
       "20080         8\n",
       "30034         8\n",
       "80001         8\n",
       "             ..\n",
       "55270         1\n",
       "5R01-50364    1\n",
       "90277         1\n",
       "8R01-80159    1\n",
       "2R02-20964    1\n",
       "Name: NTD_ID, Length: 2183, dtype: int64"
      ]
     },
     "execution_count": 5,
     "metadata": {},
     "output_type": "execute_result"
    }
   ],
   "source": [
    "df.NTD_ID.value_counts()"
   ]
  },
  {
   "cell_type": "code",
   "execution_count": 6,
   "id": "86d87756-d7ff-495a-bbd4-4ac2f5ab88c8",
   "metadata": {},
   "outputs": [
    {
     "data": {
      "text/plain": [
       "MB    2\n",
       "FB    1\n",
       "DR    1\n",
       "CR    1\n",
       "RB    1\n",
       "HR    1\n",
       "TB    1\n",
       "LR    1\n",
       "Name: Mode, dtype: int64"
      ]
     },
     "execution_count": 6,
     "metadata": {},
     "output_type": "execute_result"
    }
   ],
   "source": [
    "# Pick an example -- see that agency provides service for different modes\n",
    "# df.NTD_ID.value_counts()\n",
    "df[df.NTD_ID==\"10003\"].Mode.value_counts()"
   ]
  },
  {
   "cell_type": "code",
   "execution_count": 7,
   "id": "bd26a45b-4687-419b-ac17-cb1d534321f3",
   "metadata": {},
   "outputs": [
    {
     "data": {
      "text/plain": [
       "DR    1879\n",
       "MB    1244\n",
       "CB     177\n",
       "VP     112\n",
       "DT     103\n",
       "FB      40\n",
       "CR      27\n",
       "LR      23\n",
       "SR      22\n",
       "HR      15\n",
       "RB      13\n",
       "YR       6\n",
       "MG       6\n",
       "TB       5\n",
       "IP       3\n",
       "TR       2\n",
       "PB       1\n",
       "CC       1\n",
       "AR       1\n",
       "Name: Mode, dtype: int64"
      ]
     },
     "execution_count": 7,
     "metadata": {},
     "output_type": "execute_result"
    }
   ],
   "source": [
    "#what modes does it have\n",
    "df.Mode.value_counts()"
   ]
  },
  {
   "cell_type": "code",
   "execution_count": 8,
   "id": "80e9665e-e520-462e-965e-1c6115489967",
   "metadata": {},
   "outputs": [
    {
     "data": {
      "text/plain": [
       "['Agency',\n",
       " 'City',\n",
       " 'State',\n",
       " 'Legacy_NTD_ID',\n",
       " 'NTD_ID',\n",
       " 'Organization_Type',\n",
       " 'Reporter_Type',\n",
       " 'Primary_UZA__Population',\n",
       " 'Agency_VOMS',\n",
       " 'Mode',\n",
       " 'TOS',\n",
       " 'Mode_VOMS',\n",
       " 'Ratios:',\n",
       " 'Fare_Revenues_per_Unlinked_Passenger_Trip_',\n",
       " 'Fare_Revenues_per_Unlinked_Passenger_Trip_Questionable',\n",
       " 'Fare_Revenues_per_Total_Operating_Expense_(Recovery_Ratio)',\n",
       " 'Fare_Revenues_per_Total_Operating_Expense_(Recovery_Ratio)_Questionable',\n",
       " 'Cost_per__Hour',\n",
       " 'Cost_per_Hour_Questionable',\n",
       " 'Passengers_per_Hour',\n",
       " 'Passengers_per_Hour_Questionable',\n",
       " 'Cost_per_Passenger',\n",
       " 'Cost_per_Passenger_Questionable',\n",
       " 'Cost_per_Passenger_Mile',\n",
       " 'Cost_per_Passenger_Mile_Questionable',\n",
       " 'Source_Data:',\n",
       " 'Fare_Revenues_Earned',\n",
       " 'Fare_Revenues_Earned_Questionable',\n",
       " 'Total_Operating_Expenses',\n",
       " 'Total_Operating_Expenses_Questionable',\n",
       " 'Unlinked_Passenger_Trips',\n",
       " 'Unlinked_Passenger_Trips_Questionable',\n",
       " 'Vehicle_Revenue_Hours',\n",
       " 'Vehicle_Revenue_Hours_Questionable',\n",
       " 'Passenger_Miles',\n",
       " 'Passenger_Miles_Questionable',\n",
       " 'Vehicle_Revenue_Miles',\n",
       " 'Vehicle_Revenue_Miles_Questionable',\n",
       " 'Any_data_questionable?',\n",
       " 'Unnamed:_39',\n",
       " 'Unnamed:_40',\n",
       " 'Unnamed:_41',\n",
       " '1',\n",
       " 'Unnamed:_43',\n",
       " 'Unnamed:_44']"
      ]
     },
     "execution_count": 8,
     "metadata": {},
     "output_type": "execute_result"
    }
   ],
   "source": [
    "list(df.columns)"
   ]
  },
  {
   "cell_type": "code",
   "execution_count": 16,
   "id": "ba721822-4b13-48b4-a53f-be8d7ce2c253",
   "metadata": {},
   "outputs": [
    {
     "data": {
      "text/plain": [
       "['Agency',\n",
       " 'City',\n",
       " 'State',\n",
       " 'NTD_ID',\n",
       " 'Primary_UZA__Population',\n",
       " 'Mode',\n",
       " 'Fare_Revenues_Earned',\n",
       " 'Fare_Revenues_per_Unlinked_Passenger_Trip_',\n",
       " 'Total_Operating_Expenses',\n",
       " 'Cost_per_Passenger',\n",
       " 'Vehicle_Revenue_Miles']"
      ]
     },
     "execution_count": 16,
     "metadata": {},
     "output_type": "execute_result"
    }
   ],
   "source": [
    "list(df1.columns)"
   ]
  },
  {
   "cell_type": "code",
   "execution_count": 9,
   "id": "cdbb0dca-a713-459a-b58f-9a7c1a556c69",
   "metadata": {},
   "outputs": [],
   "source": [
    "#keep columns\n",
    "keep_col=['Agency','City','State','NTD_ID','Primary_UZA__Population','Mode','Fare_Revenues_Earned','Fare_Revenues_per_Unlinked_Passenger_Trip_','Total_Operating_Expenses','Cost_per_Passenger','Vehicle_Revenue_Miles']"
   ]
  },
  {
   "cell_type": "code",
   "execution_count": 10,
   "id": "d71f8d1a-daf9-40a8-8d42-09eb7b3ea1a2",
   "metadata": {},
   "outputs": [],
   "source": [
    "df1=df[keep_col]"
   ]
  },
  {
   "cell_type": "markdown",
   "id": "33f4a313-a62a-46ff-a877-d9d4e54a029f",
   "metadata": {},
   "source": [
    "### Dealing with Duplicates\n",
    "\n",
    "* Explore why there are duplicates\n",
    "* What's the analysis about? What should the unit of analysis be?\n",
    "* Should duplicates be dropped? Should duplicates be aggregated into 1 entry?\n",
    "* Hint: It depends on the analysis, and there might be a bit of both. Sometimes, aggregation makes sense. Duplicates require further investigation -- why do they appear in the dataset multiple times? Unless it's completely duplicate information, it doesn't make sense to just drop. It may show that the analysis can be more disaggregate than previously thought."
   ]
  },
  {
   "cell_type": "code",
   "execution_count": 11,
   "id": "e6b0a390-ebc9-4ad7-9290-6af1e7392fe2",
   "metadata": {},
   "outputs": [
    {
     "data": {
      "text/plain": [
       "MB    2\n",
       "HR    1\n",
       "RB    1\n",
       "LR    1\n",
       "VP    1\n",
       "Name: Mode, dtype: int64"
      ]
     },
     "execution_count": 11,
     "metadata": {},
     "output_type": "execute_result"
    }
   ],
   "source": [
    "# But what about this case?\n",
    "df[(df.Agency.str.contains(\"Los Angeles County Metropolitan Transportation Authority \")) \n",
    "   & (df.Agency.notna())].Mode.value_counts()"
   ]
  },
  {
   "cell_type": "code",
   "execution_count": 12,
   "id": "05b3ef21-8bb7-421d-a18e-b6257b818d44",
   "metadata": {},
   "outputs": [
    {
     "data": {
      "text/html": [
       "<div>\n",
       "<style scoped>\n",
       "    .dataframe tbody tr th:only-of-type {\n",
       "        vertical-align: middle;\n",
       "    }\n",
       "\n",
       "    .dataframe tbody tr th {\n",
       "        vertical-align: top;\n",
       "    }\n",
       "\n",
       "    .dataframe thead th {\n",
       "        text-align: right;\n",
       "    }\n",
       "</style>\n",
       "<table border=\"1\" class=\"dataframe\">\n",
       "  <thead>\n",
       "    <tr style=\"text-align: right;\">\n",
       "      <th></th>\n",
       "      <th>Agency</th>\n",
       "      <th>City</th>\n",
       "      <th>State</th>\n",
       "      <th>Legacy_NTD_ID</th>\n",
       "      <th>NTD_ID</th>\n",
       "      <th>Organization_Type</th>\n",
       "      <th>Reporter_Type</th>\n",
       "      <th>Primary_UZA__Population</th>\n",
       "      <th>Agency_VOMS</th>\n",
       "      <th>Mode</th>\n",
       "      <th>...</th>\n",
       "      <th>Passenger_Miles_Questionable</th>\n",
       "      <th>Vehicle_Revenue_Miles</th>\n",
       "      <th>Vehicle_Revenue_Miles_Questionable</th>\n",
       "      <th>Any_data_questionable?</th>\n",
       "      <th>Unnamed:_39</th>\n",
       "      <th>Unnamed:_40</th>\n",
       "      <th>Unnamed:_41</th>\n",
       "      <th>1</th>\n",
       "      <th>Unnamed:_43</th>\n",
       "      <th>Unnamed:_44</th>\n",
       "    </tr>\n",
       "  </thead>\n",
       "  <tbody>\n",
       "    <tr>\n",
       "      <th>16</th>\n",
       "      <td>Los Angeles County Metropolitan Transportation...</td>\n",
       "      <td>Los Angeles</td>\n",
       "      <td>CA</td>\n",
       "      <td>9154</td>\n",
       "      <td>90154</td>\n",
       "      <td>Independent Public Agency or Authority of Tran...</td>\n",
       "      <td>Full Reporter</td>\n",
       "      <td>12,150,996</td>\n",
       "      <td>3,469</td>\n",
       "      <td>MB</td>\n",
       "      <td>...</td>\n",
       "      <td>None</td>\n",
       "      <td>65,595,822</td>\n",
       "      <td>None</td>\n",
       "      <td>No</td>\n",
       "      <td>NaN</td>\n",
       "      <td>NaN</td>\n",
       "      <td>NaN</td>\n",
       "      <td>None</td>\n",
       "      <td>NaN</td>\n",
       "      <td>NaN</td>\n",
       "    </tr>\n",
       "    <tr>\n",
       "      <th>17</th>\n",
       "      <td>Los Angeles County Metropolitan Transportation...</td>\n",
       "      <td>Los Angeles</td>\n",
       "      <td>CA</td>\n",
       "      <td>9154</td>\n",
       "      <td>90154</td>\n",
       "      <td>Independent Public Agency or Authority of Tran...</td>\n",
       "      <td>Full Reporter</td>\n",
       "      <td>12,150,996</td>\n",
       "      <td>3,469</td>\n",
       "      <td>MB</td>\n",
       "      <td>...</td>\n",
       "      <td>None</td>\n",
       "      <td>5,775,759</td>\n",
       "      <td>None</td>\n",
       "      <td>No</td>\n",
       "      <td>NaN</td>\n",
       "      <td>NaN</td>\n",
       "      <td>NaN</td>\n",
       "      <td>None</td>\n",
       "      <td>NaN</td>\n",
       "      <td>NaN</td>\n",
       "    </tr>\n",
       "  </tbody>\n",
       "</table>\n",
       "<p>2 rows × 45 columns</p>\n",
       "</div>"
      ],
      "text/plain": [
       "                                               Agency         City State  \\\n",
       "16  Los Angeles County Metropolitan Transportation...  Los Angeles    CA   \n",
       "17  Los Angeles County Metropolitan Transportation...  Los Angeles    CA   \n",
       "\n",
       "   Legacy_NTD_ID NTD_ID                                  Organization_Type  \\\n",
       "16          9154  90154  Independent Public Agency or Authority of Tran...   \n",
       "17          9154  90154  Independent Public Agency or Authority of Tran...   \n",
       "\n",
       "    Reporter_Type Primary_UZA__Population Agency_VOMS Mode  ...  \\\n",
       "16  Full Reporter             12,150,996        3,469   MB  ...   \n",
       "17  Full Reporter             12,150,996        3,469   MB  ...   \n",
       "\n",
       "   Passenger_Miles_Questionable Vehicle_Revenue_Miles  \\\n",
       "16                         None           65,595,822    \n",
       "17                         None            5,775,759    \n",
       "\n",
       "    Vehicle_Revenue_Miles_Questionable Any_data_questionable? Unnamed:_39  \\\n",
       "16                                None                     No         NaN   \n",
       "17                                None                     No         NaN   \n",
       "\n",
       "   Unnamed:_40  Unnamed:_41     1 Unnamed:_43 Unnamed:_44  \n",
       "16         NaN          NaN  None         NaN         NaN  \n",
       "17         NaN          NaN  None         NaN         NaN  \n",
       "\n",
       "[2 rows x 45 columns]"
      ]
     },
     "execution_count": 12,
     "metadata": {},
     "output_type": "execute_result"
    }
   ],
   "source": [
    "# Find the column that has different values\n",
    "df[(df.Agency.str.contains(\"Los Angeles County Metropolitan Transportation Authority \")) \n",
    "   & (df.Agency.notna()) & \n",
    "   (df.Mode==\"MB\")\n",
    "  ]\n",
    "#has different Vehicle_Revenue_Miles, so I would not drop duplicate "
   ]
  },
  {
   "cell_type": "code",
   "execution_count": 13,
   "id": "45f8ddce-719b-472c-bcc3-ad9426b65066",
   "metadata": {},
   "outputs": [
    {
     "name": "stdout",
     "output_type": "stream",
     "text": [
      "# obs: 3685\n",
      "# obs after dropping dups: 3553\n"
     ]
    }
   ],
   "source": [
    "#Aggregate at least 2 ways and show an interesting comparison, after dealing with \n",
    "#duplicates somehow (either aggregation and/or defining what the unit of analysis is)\n",
    "subset_cols = [\n",
    "    'Agency', 'City', 'State', 'Legacy_NTD_ID', 'NTD_ID',\n",
    "    'Organization_Type', 'Reporter_Type', 'Mode'\n",
    "]\n",
    "\n",
    "print(f\"# obs: {len(df)}\")\n",
    "print(f\"# obs after dropping dups: {len(df.drop_duplicates(subset=subset_cols))}\")\n",
    "\n",
    "# What does this indicate? Use Markdown cell and jot down some of the logic."
   ]
  },
  {
   "cell_type": "markdown",
   "id": "f41ee385-6354-4d13-87b9-942e02556765",
   "metadata": {},
   "source": [
    "Keep a subset of columns. Drop duplicates. Compare how long the data is before and after dropping the duplicates. 3685-3553=132 duplicates"
   ]
  },
  {
   "cell_type": "markdown",
   "id": "df5fd3fa-5430-4f4f-853f-f0f2aa535e67",
   "metadata": {},
   "source": [
    "[Markdown reference](https://www.datacamp.com/community/tutorials/markdown-in-jupyter-notebook)"
   ]
  },
  {
   "cell_type": "code",
   "execution_count": 14,
   "id": "c31270ec-5120-4e2b-99be-861d09709c4a",
   "metadata": {},
   "outputs": [],
   "source": [
    "df2=df[subset_cols]"
   ]
  },
  {
   "cell_type": "code",
   "execution_count": 15,
   "id": "505cdabb-5cd1-460d-9bd4-193add571883",
   "metadata": {},
   "outputs": [
    {
     "data": {
      "text/html": [
       "<div>\n",
       "<style scoped>\n",
       "    .dataframe tbody tr th:only-of-type {\n",
       "        vertical-align: middle;\n",
       "    }\n",
       "\n",
       "    .dataframe tbody tr th {\n",
       "        vertical-align: top;\n",
       "    }\n",
       "\n",
       "    .dataframe thead th {\n",
       "        text-align: right;\n",
       "    }\n",
       "</style>\n",
       "<table border=\"1\" class=\"dataframe\">\n",
       "  <thead>\n",
       "    <tr style=\"text-align: right;\">\n",
       "      <th></th>\n",
       "      <th>Cost_per_Passenger</th>\n",
       "    </tr>\n",
       "  </thead>\n",
       "  <tbody>\n",
       "    <tr>\n",
       "      <th>0</th>\n",
       "      <td>$1.92</td>\n",
       "    </tr>\n",
       "    <tr>\n",
       "      <th>1</th>\n",
       "      <td>$21.13</td>\n",
       "    </tr>\n",
       "    <tr>\n",
       "      <th>2</th>\n",
       "      <td>$3.88</td>\n",
       "    </tr>\n",
       "    <tr>\n",
       "      <th>3</th>\n",
       "      <td>$106.96</td>\n",
       "    </tr>\n",
       "    <tr>\n",
       "      <th>4</th>\n",
       "      <td>$3.36</td>\n",
       "    </tr>\n",
       "  </tbody>\n",
       "</table>\n",
       "</div>"
      ],
      "text/plain": [
       "  Cost_per_Passenger\n",
       "0             $1.92 \n",
       "1            $21.13 \n",
       "2             $3.88 \n",
       "3           $106.96 \n",
       "4             $3.36 "
      ]
     },
     "execution_count": 15,
     "metadata": {},
     "output_type": "execute_result"
    }
   ],
   "source": [
    "df1[['Cost_per_Passenger']].head()"
   ]
  },
  {
   "cell_type": "code",
   "execution_count": 17,
   "id": "6e950338-a10b-4fcd-8522-33d8c34a2d8f",
   "metadata": {},
   "outputs": [
    {
     "name": "stderr",
     "output_type": "stream",
     "text": [
      "/tmp/ipykernel_89/3202734568.py:2: FutureWarning: The default value of regex will change from True to False in a future version. In addition, single character regular expressions will *not* be treated as literal strings when regex=True.\n",
      "  df1[c] = df1[c].str.replace('$', '').str.replace(',', '').fillna('0').astype({c: float})\n",
      "/tmp/ipykernel_89/3202734568.py:2: SettingWithCopyWarning: \n",
      "A value is trying to be set on a copy of a slice from a DataFrame.\n",
      "Try using .loc[row_indexer,col_indexer] = value instead\n",
      "\n",
      "See the caveats in the documentation: https://pandas.pydata.org/pandas-docs/stable/user_guide/indexing.html#returning-a-view-versus-a-copy\n",
      "  df1[c] = df1[c].str.replace('$', '').str.replace(',', '').fillna('0').astype({c: float})\n"
     ]
    }
   ],
   "source": [
    "for c in ['Cost_per_Passenger', 'Total_Operating_Expenses', 'Primary_UZA__Population']:\n",
    "    df1[c] = df1[c].str.replace('$', '').str.replace(',', '').fillna('0').astype({c: float})"
   ]
  },
  {
   "cell_type": "code",
   "execution_count": null,
   "id": "ee82e855-6fcd-4aa6-8370-1971a1b7b54e",
   "metadata": {},
   "outputs": [],
   "source": [
    "#df.Cost_per_Passenger=df.Cost_per_Passenger.astype('float')"
   ]
  },
  {
   "cell_type": "code",
   "execution_count": null,
   "id": "017d26e4-687d-449e-906e-4846f6c9e721",
   "metadata": {},
   "outputs": [],
   "source": [
    "#ignore. practice only\n",
    "df1 = (df1\n",
    "    .assign(\n",
    "        population = (df1['Cost_per_Passenger'].str.strip()\n",
    "                .str.replace(',', '')\n",
    "                     .str.replace('$', ''))\n",
    "        ).astype({\n",
    "        'cpp': float\n",
    "        })\n",
    "    )"
   ]
  },
  {
   "cell_type": "code",
   "execution_count": 18,
   "id": "7c762852-c448-4173-8d32-34b1695eca4c",
   "metadata": {},
   "outputs": [],
   "source": [
    "df3=df1.drop_duplicates(subset=keep_col)"
   ]
  },
  {
   "cell_type": "code",
   "execution_count": 19,
   "id": "18aea231-68c5-4642-ad4b-1a76ff4e80c3",
   "metadata": {},
   "outputs": [
    {
     "data": {
      "text/html": [
       "<div>\n",
       "<style scoped>\n",
       "    .dataframe tbody tr th:only-of-type {\n",
       "        vertical-align: middle;\n",
       "    }\n",
       "\n",
       "    .dataframe tbody tr th {\n",
       "        vertical-align: top;\n",
       "    }\n",
       "\n",
       "    .dataframe thead th {\n",
       "        text-align: right;\n",
       "    }\n",
       "</style>\n",
       "<table border=\"1\" class=\"dataframe\">\n",
       "  <thead>\n",
       "    <tr style=\"text-align: right;\">\n",
       "      <th></th>\n",
       "      <th>Agency</th>\n",
       "      <th>Cost_per_Passenger</th>\n",
       "    </tr>\n",
       "  </thead>\n",
       "  <tbody>\n",
       "    <tr>\n",
       "      <th>0</th>\n",
       "      <td>City of Gadsden</td>\n",
       "      <td>21.05</td>\n",
       "    </tr>\n",
       "    <tr>\n",
       "      <th>1</th>\n",
       "      <td>Sistersville Ferry</td>\n",
       "      <td>12.93</td>\n",
       "    </tr>\n",
       "    <tr>\n",
       "      <th>2</th>\n",
       "      <td>10-15 Regional Transit Agency</td>\n",
       "      <td>13.71</td>\n",
       "    </tr>\n",
       "    <tr>\n",
       "      <th>3</th>\n",
       "      <td>A&amp;C Bus Corporation &amp; Montgomery &amp; Westside Ow...</td>\n",
       "      <td>1.36</td>\n",
       "    </tr>\n",
       "    <tr>\n",
       "      <th>4</th>\n",
       "      <td>ALTRAN Transit Authority</td>\n",
       "      <td>8.54</td>\n",
       "    </tr>\n",
       "    <tr>\n",
       "      <th>...</th>\n",
       "      <td>...</td>\n",
       "      <td>...</td>\n",
       "    </tr>\n",
       "    <tr>\n",
       "      <th>2164</th>\n",
       "      <td>Yuba-Sutter Transit Authority</td>\n",
       "      <td>45.34</td>\n",
       "    </tr>\n",
       "    <tr>\n",
       "      <th>2165</th>\n",
       "      <td>Yuma County Intergovernmental Public Transport...</td>\n",
       "      <td>41.64</td>\n",
       "    </tr>\n",
       "    <tr>\n",
       "      <th>2166</th>\n",
       "      <td>Yurok Tribe</td>\n",
       "      <td>190.37</td>\n",
       "    </tr>\n",
       "    <tr>\n",
       "      <th>2167</th>\n",
       "      <td>Zia Therapy Center, Inc.</td>\n",
       "      <td>27.23</td>\n",
       "    </tr>\n",
       "    <tr>\n",
       "      <th>2168</th>\n",
       "      <td>Zuni Pueblo</td>\n",
       "      <td>8.44</td>\n",
       "    </tr>\n",
       "  </tbody>\n",
       "</table>\n",
       "<p>2169 rows × 2 columns</p>\n",
       "</div>"
      ],
      "text/plain": [
       "                                                 Agency  Cost_per_Passenger\n",
       "0                                       City of Gadsden               21.05\n",
       "1                                   Sistersville Ferry                12.93\n",
       "2                         10-15 Regional Transit Agency               13.71\n",
       "3     A&C Bus Corporation & Montgomery & Westside Ow...                1.36\n",
       "4                              ALTRAN Transit Authority                8.54\n",
       "...                                                 ...                 ...\n",
       "2164                      Yuba-Sutter Transit Authority               45.34\n",
       "2165  Yuma County Intergovernmental Public Transport...               41.64\n",
       "2166                                        Yurok Tribe              190.37\n",
       "2167                           Zia Therapy Center, Inc.               27.23\n",
       "2168                                        Zuni Pueblo                8.44\n",
       "\n",
       "[2169 rows x 2 columns]"
      ]
     },
     "execution_count": 19,
     "metadata": {},
     "output_type": "execute_result"
    }
   ],
   "source": [
    "#For an agency with multiple modes, aggregate it across modes and get the sum for the service metrics.\n",
    "df1.groupby(['Agency']).agg({'Cost_per_Passenger':'sum'}).reset_index()"
   ]
  },
  {
   "cell_type": "code",
   "execution_count": 21,
   "id": "7dd27454-57bd-441b-b38b-e886756a5387",
   "metadata": {},
   "outputs": [],
   "source": [
    "#Calculate weighted average after the aggregation for the service metrics\n",
    "#sum of cost and sum of passengers. then divide\n",
    "cost=df1.groupby(['Agency']).agg({'Total_Operating_Expenses':'sum'}).reset_index()\n",
    "passenger=df1.groupby(['Agency']).agg({'Primary_UZA__Population':'sum'}).reset_index()"
   ]
  },
  {
   "cell_type": "code",
   "execution_count": 26,
   "id": "73dfe59f-210c-469b-ab11-eff7b3866f1d",
   "metadata": {},
   "outputs": [
    {
     "data": {
      "text/html": [
       "<div>\n",
       "<style scoped>\n",
       "    .dataframe tbody tr th:only-of-type {\n",
       "        vertical-align: middle;\n",
       "    }\n",
       "\n",
       "    .dataframe tbody tr th {\n",
       "        vertical-align: top;\n",
       "    }\n",
       "\n",
       "    .dataframe thead th {\n",
       "        text-align: right;\n",
       "    }\n",
       "</style>\n",
       "<table border=\"1\" class=\"dataframe\">\n",
       "  <thead>\n",
       "    <tr style=\"text-align: right;\">\n",
       "      <th></th>\n",
       "      <th>Agency</th>\n",
       "      <th>Total_Operating_Expenses</th>\n",
       "    </tr>\n",
       "  </thead>\n",
       "  <tbody>\n",
       "    <tr>\n",
       "      <th>0</th>\n",
       "      <td>City of Gadsden</td>\n",
       "      <td>937473.0</td>\n",
       "    </tr>\n",
       "    <tr>\n",
       "      <th>1</th>\n",
       "      <td>Sistersville Ferry</td>\n",
       "      <td>47877.0</td>\n",
       "    </tr>\n",
       "    <tr>\n",
       "      <th>2</th>\n",
       "      <td>10-15 Regional Transit Agency</td>\n",
       "      <td>2903338.0</td>\n",
       "    </tr>\n",
       "    <tr>\n",
       "      <th>3</th>\n",
       "      <td>A&amp;C Bus Corporation &amp; Montgomery &amp; Westside Ow...</td>\n",
       "      <td>5498147.0</td>\n",
       "    </tr>\n",
       "    <tr>\n",
       "      <th>4</th>\n",
       "      <td>ALTRAN Transit Authority</td>\n",
       "      <td>839614.0</td>\n",
       "    </tr>\n",
       "    <tr>\n",
       "      <th>...</th>\n",
       "      <td>...</td>\n",
       "      <td>...</td>\n",
       "    </tr>\n",
       "    <tr>\n",
       "      <th>2164</th>\n",
       "      <td>Yuba-Sutter Transit Authority</td>\n",
       "      <td>7301375.0</td>\n",
       "    </tr>\n",
       "    <tr>\n",
       "      <th>2165</th>\n",
       "      <td>Yuma County Intergovernmental Public Transport...</td>\n",
       "      <td>4994351.0</td>\n",
       "    </tr>\n",
       "    <tr>\n",
       "      <th>2166</th>\n",
       "      <td>Yurok Tribe</td>\n",
       "      <td>536324.0</td>\n",
       "    </tr>\n",
       "    <tr>\n",
       "      <th>2167</th>\n",
       "      <td>Zia Therapy Center, Inc.</td>\n",
       "      <td>1205068.0</td>\n",
       "    </tr>\n",
       "    <tr>\n",
       "      <th>2168</th>\n",
       "      <td>Zuni Pueblo</td>\n",
       "      <td>367782.0</td>\n",
       "    </tr>\n",
       "  </tbody>\n",
       "</table>\n",
       "<p>2169 rows × 2 columns</p>\n",
       "</div>"
      ],
      "text/plain": [
       "                                                 Agency  \\\n",
       "0                                       City of Gadsden   \n",
       "1                                   Sistersville Ferry    \n",
       "2                         10-15 Regional Transit Agency   \n",
       "3     A&C Bus Corporation & Montgomery & Westside Ow...   \n",
       "4                              ALTRAN Transit Authority   \n",
       "...                                                 ...   \n",
       "2164                      Yuba-Sutter Transit Authority   \n",
       "2165  Yuma County Intergovernmental Public Transport...   \n",
       "2166                                        Yurok Tribe   \n",
       "2167                           Zia Therapy Center, Inc.   \n",
       "2168                                        Zuni Pueblo   \n",
       "\n",
       "      Total_Operating_Expenses  \n",
       "0                     937473.0  \n",
       "1                      47877.0  \n",
       "2                    2903338.0  \n",
       "3                    5498147.0  \n",
       "4                     839614.0  \n",
       "...                        ...  \n",
       "2164                 7301375.0  \n",
       "2165                 4994351.0  \n",
       "2166                  536324.0  \n",
       "2167                 1205068.0  \n",
       "2168                  367782.0  \n",
       "\n",
       "[2169 rows x 2 columns]"
      ]
     },
     "execution_count": 26,
     "metadata": {},
     "output_type": "execute_result"
    }
   ],
   "source": [
    "cost"
   ]
  },
  {
   "cell_type": "code",
   "execution_count": 29,
   "id": "4a8932e3-15b0-4aaa-9e6e-97a323a937b9",
   "metadata": {},
   "outputs": [
    {
     "data": {
      "text/plain": [
       "0        7.304377\n",
       "1             inf\n",
       "2             inf\n",
       "3        0.299605\n",
       "4             inf\n",
       "          ...    \n",
       "2164    20.851718\n",
       "2165    12.307390\n",
       "2166          inf\n",
       "2167     4.685334\n",
       "2168          inf\n",
       "Length: 2169, dtype: float64"
      ]
     },
     "execution_count": 29,
     "metadata": {},
     "output_type": "execute_result"
    }
   ],
   "source": [
    "cost.Total_Operating_Expenses/passenger.Primary_UZA__Population"
   ]
  },
  {
   "cell_type": "markdown",
   "id": "023ef8e9-cff2-454c-807f-fe5ec15b4d7b",
   "metadata": {},
   "source": [
    "### Changing values by using a dictionary to map"
   ]
  },
  {
   "cell_type": "code",
   "execution_count": 30,
   "id": "c5fe97d9-e02b-495b-bd74-33ab967ab195",
   "metadata": {},
   "outputs": [],
   "source": [
    "# Transit mode uses a code, \n",
    "# Use a dictionary to map those codes to its full name\n",
    "MODE_NAMES = {\n",
    "    'MB': 'Bus', \n",
    "    'LR': 'Light Rail',\n",
    "    'CB': 'Commuter Bus',\n",
    "}\n",
    "\n",
    "# What happens to the ones that aren't specified in MODE_NAMES?\n",
    "df = df.assign(\n",
    "    mode_full_name = df.Mode.map(MODE_NAMES)\n",
    ")"
   ]
  },
  {
   "cell_type": "code",
   "execution_count": 31,
   "id": "3caa3075-532f-4a2d-93a0-740cb62a6483",
   "metadata": {},
   "outputs": [
    {
     "data": {
      "text/plain": [
       "Bus             1244\n",
       "Commuter Bus     177\n",
       "Light Rail        23\n",
       "Name: mode_full_name, dtype: int64"
      ]
     },
     "execution_count": 31,
     "metadata": {},
     "output_type": "execute_result"
    }
   ],
   "source": [
    "df.mode_full_name.value_counts()"
   ]
  },
  {
   "cell_type": "code",
   "execution_count": 32,
   "id": "70836fe4-d5f1-4414-8646-2a2a68368bdd",
   "metadata": {},
   "outputs": [
    {
     "data": {
      "text/plain": [
       "DR    1879\n",
       "VP     112\n",
       "DT     103\n",
       "FB      40\n",
       "CR      27\n",
       "SR      22\n",
       "HR      15\n",
       "RB      13\n",
       "YR       6\n",
       "MG       6\n",
       "TB       5\n",
       "IP       3\n",
       "TR       2\n",
       "PB       1\n",
       "CC       1\n",
       "AR       1\n",
       "Name: Mode, dtype: int64"
      ]
     },
     "execution_count": 32,
     "metadata": {},
     "output_type": "execute_result"
    }
   ],
   "source": [
    "df[df.mode_full_name.isna()].Mode.value_counts()"
   ]
  },
  {
   "cell_type": "code",
   "execution_count": null,
   "id": "2bdbbed2-4131-46b7-8c64-f4ef677f5b67",
   "metadata": {},
   "outputs": [],
   "source": [
    "# Map values from Mode to rail, bus, and other "
   ]
  },
  {
   "cell_type": "code",
   "execution_count": null,
   "id": "04cd1881-1493-49b4-8faa-d9903f717ba8",
   "metadata": {},
   "outputs": [],
   "source": []
  },
  {
   "cell_type": "markdown",
   "id": "10e9ef19-1b35-46fa-86c7-b4e0fbc4bd1f",
   "metadata": {},
   "source": [
    "### Looping\n",
    "\n",
    "Can loop across columns or loop across subsets of data.\n",
    "\n",
    "Sometimes, looping can make sense if you're repeating certain steps. Use it if it makes sense."
   ]
  },
  {
   "cell_type": "code",
   "execution_count": 33,
   "id": "c54fe3d6-16c8-4daa-ad9d-05858f8c1430",
   "metadata": {},
   "outputs": [],
   "source": [
    "for c in [\"Agency_VOMS\", \"Mode_VOMS\"]:\n",
    "    df[c] = df[c].str.replace(',', '').fillna('0').astype({c: int})"
   ]
  },
  {
   "cell_type": "code",
   "execution_count": 34,
   "id": "acacd833-419a-4249-9c89-588f7e5c6d8a",
   "metadata": {},
   "outputs": [
    {
     "data": {
      "text/html": [
       "<div>\n",
       "<style scoped>\n",
       "    .dataframe tbody tr th:only-of-type {\n",
       "        vertical-align: middle;\n",
       "    }\n",
       "\n",
       "    .dataframe tbody tr th {\n",
       "        vertical-align: top;\n",
       "    }\n",
       "\n",
       "    .dataframe thead th {\n",
       "        text-align: right;\n",
       "    }\n",
       "</style>\n",
       "<table border=\"1\" class=\"dataframe\">\n",
       "  <thead>\n",
       "    <tr style=\"text-align: right;\">\n",
       "      <th></th>\n",
       "      <th>Agency</th>\n",
       "      <th>City</th>\n",
       "    </tr>\n",
       "  </thead>\n",
       "  <tbody>\n",
       "    <tr>\n",
       "      <th>13</th>\n",
       "      <td>Los Angeles County Metropolitan Transportation...</td>\n",
       "      <td>Los Angeles</td>\n",
       "    </tr>\n",
       "    <tr>\n",
       "      <th>72</th>\n",
       "      <td>Orange County Transportation Authority</td>\n",
       "      <td>Orange</td>\n",
       "    </tr>\n",
       "    <tr>\n",
       "      <th>94</th>\n",
       "      <td>Access Services</td>\n",
       "      <td>El Monte</td>\n",
       "    </tr>\n",
       "    <tr>\n",
       "      <th>120</th>\n",
       "      <td>City and County of San Francisco, dba: San Fra...</td>\n",
       "      <td>San Francisco</td>\n",
       "    </tr>\n",
       "    <tr>\n",
       "      <th>131</th>\n",
       "      <td>San Diego Metropolitan Transit System</td>\n",
       "      <td>San Diego</td>\n",
       "    </tr>\n",
       "  </tbody>\n",
       "</table>\n",
       "</div>"
      ],
      "text/plain": [
       "                                                Agency           City\n",
       "13   Los Angeles County Metropolitan Transportation...    Los Angeles\n",
       "72              Orange County Transportation Authority         Orange\n",
       "94                                   Access Services         El Monte\n",
       "120  City and County of San Francisco, dba: San Fra...  San Francisco\n",
       "131              San Diego Metropolitan Transit System      San Diego"
      ]
     },
     "metadata": {},
     "output_type": "display_data"
    },
    {
     "data": {
      "text/html": [
       "<div>\n",
       "<style scoped>\n",
       "    .dataframe tbody tr th:only-of-type {\n",
       "        vertical-align: middle;\n",
       "    }\n",
       "\n",
       "    .dataframe tbody tr th {\n",
       "        vertical-align: top;\n",
       "    }\n",
       "\n",
       "    .dataframe thead th {\n",
       "        text-align: right;\n",
       "    }\n",
       "</style>\n",
       "<table border=\"1\" class=\"dataframe\">\n",
       "  <thead>\n",
       "    <tr style=\"text-align: right;\">\n",
       "      <th></th>\n",
       "      <th>Agency</th>\n",
       "      <th>City</th>\n",
       "    </tr>\n",
       "  </thead>\n",
       "  <tbody>\n",
       "    <tr>\n",
       "      <th>703</th>\n",
       "      <td>Ada County Highway District, dba: ACHD Commute...</td>\n",
       "      <td>Boise</td>\n",
       "    </tr>\n",
       "    <tr>\n",
       "      <th>778</th>\n",
       "      <td>Valley Regional Transit</td>\n",
       "      <td>Meridian</td>\n",
       "    </tr>\n",
       "    <tr>\n",
       "      <th>1440</th>\n",
       "      <td>City of Pocatello, dba: Pocatello Regional Tra...</td>\n",
       "      <td>Pocatello</td>\n",
       "    </tr>\n",
       "    <tr>\n",
       "      <th>1482</th>\n",
       "      <td>Mountain Rides Transportation Authority</td>\n",
       "      <td>Ketchum</td>\n",
       "    </tr>\n",
       "    <tr>\n",
       "      <th>1598</th>\n",
       "      <td>Treasure Valley Transit</td>\n",
       "      <td>Nampa</td>\n",
       "    </tr>\n",
       "  </tbody>\n",
       "</table>\n",
       "</div>"
      ],
      "text/plain": [
       "                                                 Agency       City\n",
       "703   Ada County Highway District, dba: ACHD Commute...      Boise\n",
       "778                             Valley Regional Transit   Meridian\n",
       "1440  City of Pocatello, dba: Pocatello Regional Tra...  Pocatello\n",
       "1482            Mountain Rides Transportation Authority    Ketchum\n",
       "1598                            Treasure Valley Transit      Nampa"
      ]
     },
     "metadata": {},
     "output_type": "display_data"
    }
   ],
   "source": [
    "for s in [\"CA\", \"ID\"]:\n",
    "    subset_df = df[df.State==s]\n",
    "    display(subset_df[[\"Agency\", \"City\"]].drop_duplicates().head())"
   ]
  },
  {
   "cell_type": "markdown",
   "id": "2b3984d3-a1fd-4aa3-9218-f045e0692f36",
   "metadata": {},
   "source": [
    "### To Do:\n",
    "* Keep a subset of columns and clean up column names (no spaces, newlines, etc):\n",
    "    * columns related to identifying the agency\n",
    "    * population, passenger trips\n",
    "    * transit mode\n",
    "    * at least 3 service metric variables, normalized and not normalized\n",
    "* Deal with duplicates - what is the unit for each row? What is the unit for desired analysis? Should an agency appear multiple times, and if so, why?\n",
    "* Aggregate at least 2 ways and show an interesting comparison, after dealing with duplicates somehow (either aggregation and/or defining what the unit of analysis is)\n",
    "* Calculate weighted average after the aggregation for the service metrics. take the sum first, then divide by units\n",
    "* Decide on one type of chart to visualize, and generalize it as a function\n",
    "* Make charts using the function"
   ]
  },
  {
   "cell_type": "markdown",
   "id": "bf71f234-6728-436e-8f1f-c78799cb5d90",
   "metadata": {},
   "source": [
    "### Helpful Hints for Functions\n",
    "* Opportunities are from components that are generalizable in making a chart\n",
    "* Maybe these components need the same lines of code to clean them\n",
    "* You can always further define variables within a function\n",
    "* You can always use f-strings within functions to make slight modifications to the parameters you pass"
   ]
  },
  {
   "cell_type": "code",
   "execution_count": 35,
   "id": "d1526088-e7f5-4fc9-8ec0-1cbe9b79d74b",
   "metadata": {},
   "outputs": [
    {
     "data": {
      "text/plain": [
       "Massachusetts Bay Transportation Authority                           9\n",
       "New Jersey Transit Corporation                                       8\n",
       "King County Department of Metro Transit, dba: King County Metro      8\n",
       "Metropolitan Transit Authority of Harris County, Texas               8\n",
       "Maryland Transit Administration                                      8\n",
       "                                                                    ..\n",
       "City of Shafter                                                      1\n",
       "Class LTD                                                            1\n",
       "City of Onalaska, dba: Onalaska Shared Ride Taxi City of Onalaska    1\n",
       "City of Monrovia                                                     1\n",
       "City of Needles, dba: Needles Area Transit                           1\n",
       "Name: Agency, Length: 2169, dtype: int64"
      ]
     },
     "execution_count": 35,
     "metadata": {},
     "output_type": "execute_result"
    }
   ],
   "source": [
    "df.Agency.value_counts()"
   ]
  },
  {
   "cell_type": "code",
   "execution_count": 36,
   "id": "0f830280-d562-4ad8-8ac3-037957ab9a7d",
   "metadata": {},
   "outputs": [],
   "source": [
    "keep_me = ['New Jersey Transit Corporation', 'Massachusetts Bay Transportation Authority', 'City of Shafter', 'Class LTD', 'City of Monrovia']\n",
    "df4 = df1[df1.Agency.isin(keep_me)]"
   ]
  },
  {
   "cell_type": "code",
   "execution_count": null,
   "id": "ca6f8f9d-43a0-4a88-b19c-98ecff7e4a40",
   "metadata": {},
   "outputs": [],
   "source": [
    "# Sample function\n",
    "import altair as alt\n",
    "\n",
    "def make_bar_chart(df, x_col, y_col):\n",
    "    x_title = f\"{x_col.title()}\"\n",
    "    \n",
    "    chart = (alt.Chart(df)\n",
    "             .mark_bar()\n",
    "             .encode(\n",
    "                 x=alt.X(x_col, title=x_title),\n",
    "                 y=alt.Y(y_col, title=\"\"),\n",
    "             )\n",
    "            )\n",
    "    return chart\n"
   ]
  },
  {
   "cell_type": "code",
   "execution_count": null,
   "id": "2c1cccfb-e8c4-4116-91e3-d887c5165515",
   "metadata": {},
   "outputs": [],
   "source": [
    "#create a bar chart\n",
    "def make_bar_chart(df3, Mode, Cost_per_Passenger):\n",
    "    x_title = f\"{Mode.title()}\"\n",
    "    \n",
    "    chart = (alt.Chart(df)\n",
    "             .mark_bar()\n",
    "             .encode(\n",
    "                 x=alt.X(Mode, title=x_title),\n",
    "                 y=alt.Y(Cost_per_Passenger, title=\"\"),\n",
    "             )\n",
    "            )\n",
    "    return chart"
   ]
  },
  {
   "cell_type": "code",
   "execution_count": 38,
   "id": "65726b61-fb50-4d05-a09e-70a166782759",
   "metadata": {},
   "outputs": [
    {
     "data": {
      "text/plain": [
       "<AxesSubplot:xlabel='Agency'>"
      ]
     },
     "execution_count": 38,
     "metadata": {},
     "output_type": "execute_result"
    },
    {
     "data": {
      "image/png": "[encoded data removed]",
      "text/plain": [
       "<Figure size 640x480 with 1 Axes>"
      ]
     },
     "metadata": {},
     "output_type": "display_data"
    }
   ],
   "source": [
    "df4.plot(x='Agency', y='Cost_per_Passenger', kind='bar')\n",
    "#how to have it appear together on a single bar???"
   ]
  },
  {
   "cell_type": "code",
   "execution_count": null,
   "id": "be3e7f7b-c958-4d37-b245-f22de3f81c66",
   "metadata": {},
   "outputs": [],
   "source": [
    "#print chart\n",
    "#chart = make_bar_chart(df, \"x_col\", \"y_col\")\n",
    "#chart"
   ]
  },
  {
   "cell_type": "code",
   "execution_count": null,
   "id": "b7e510b6-28a2-49eb-9c1f-275807fdb4e0",
   "metadata": {},
   "outputs": [],
   "source": [
    "#make_bar_chart(df3, Mode, Cost_per_Passenger)"
   ]
  },
  {
   "cell_type": "code",
   "execution_count": null,
   "id": "14790c74-7ecf-49f2-a2c1-724d7d097598",
   "metadata": {},
   "outputs": [],
   "source": []
  }
 ],
 "metadata": {
  "kernelspec": {
   "display_name": "Python 3 (ipykernel)",
   "language": "python",
   "name": "python3"
  },
  "language_info": {
   "codemirror_mode": {
    "name": "ipython",
    "version": 3
   },
   "file_extension": ".py",
   "mimetype": "text/x-python",
   "name": "python",
   "nbconvert_exporter": "python",
   "pygments_lexer": "ipython3",
   "version": "3.9.13"
  },
  "toc-autonumbering": false,
  "toc-showmarkdowntxt": false
 },
 "nbformat": 4,
 "nbformat_minor": 5
}
