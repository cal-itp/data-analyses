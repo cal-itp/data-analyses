{
 "cells": [
  {
   "cell_type": "markdown",
   "id": "8ccf5809-6ac9-4446-9258-cd1dea4ba3a4",
   "metadata": {},
   "source": [
    "## Exercise 4: Data Warehouse Querying and Basic Geospatial Operations\n",
    "\n",
    "Skills: \n",
    "* Query data warehouse table\n",
    "* Use dictionary to map values\n",
    "\n",
    "References: \n",
    "* https://docs.calitp.org/data-infra/analytics_new_analysts/05-spatial-analysis-basics.html\n",
    "* https://docs.calitp.org/data-infra/analytics_new_analysts/06-spatial-analysis-intro.html\n",
    "* https://docs.calitp.org/data-infra/analytics_new_analysts/07-spatial-analysis-intermediate.html\n",
    "* https://github.com/jorisvandenbossche/geopandas-tutorial"
   ]
  },
  {
   "cell_type": "code",
   "execution_count": 32,
   "id": "9305f4e1-446d-432f-bc0e-e69284fdce71",
   "metadata": {},
   "outputs": [],
   "source": [
    "#gpd -- gdf, pd -- df(can change the name, like stops, or counties)\n",
    "import geopandas as gpd\n",
    "import pandas as pd\n",
    "import os\n",
    "\n",
    "#os.environ[\"CALITP_BQ_MAX_BYTES\"] = str(100_000_000_000)\n",
    "pd.set_option(\"display.max_rows\", 20)\n",
    "\n",
    "#from calitp_data_analysis.tables import tbls\n",
    "#from calitp_data_analysis.sql import query_sql\n",
    "from siuba import *\n",
    "FOLDER = \"./data/\"\n",
    "FILE_NAME = \"exercise_4_stops_sample.parquet\"\n",
    "stops=pd.read_parquet(f\"{FOLDER}{FILE_NAME}\")"
   ]
  },
  {
   "cell_type": "markdown",
   "id": "95d24d7b-17b2-481c-bdc5-d03a25facc11",
   "metadata": {},
   "source": [
    "## Query a table, turn it into a gdf\n",
    "\n",
    "You will query the warehouse table for 2 operators, Caltrain and Merced. A `feed_key` is a hash identifier, there's no real meaning to it, but it uniquely identifies a feed for that day.\n",
    "\n",
    "The `feed_key` values for those 2 operators for 6/1/2022 are provided. \n",
    "\n",
    "* Query `mart_gtfs.dim_stops`\n",
    "* Filter to the feed keys of interest\n",
    "* Select these columns: `feed_key`, `stop_id`, `stop_lat`, `stop_lon`, `stop_name`\n",
    "* Return as a dataframe using `collect()`\n",
    "* Turn the point data into geometry with `geopandas`: [docs](https://geopandas.org/en/stable/docs/reference/api/geopandas.points_from_xy.html)"
   ]
  },
  {
   "cell_type": "code",
   "execution_count": 2,
   "id": "a83cda9e-c642-4acf-8668-d5626dd7d948",
   "metadata": {},
   "outputs": [],
   "source": [
    "FEEDS = [\n",
    "    \"25c6505166c01099b2f6f2de173e20b9\", # Caltrain\n",
    "    \"52639f09eb535f75b33d2c6a654cb89e\", # Merced\n",
    "]\n",
    "\n",
    "stops = pd.read_parquet('./data/exercise_4_stops_sample.parquet')\n",
    "stops2 = (stops\n",
    "    #tbls.mart_gtfs.dim_stops()\n",
    "    >> filter(_.feed_key.isin(FEEDS))\n",
    "    >> select(_.feed_key, _.stop_id, \n",
    "             _.stop_lat, _.stop_lon, _.stop_name)\n",
    "    >> arrange(_.feed_key, _.stop_id, \n",
    "               _.stop_lat, _.stop_lon)\n",
    "    #>> collect() \n",
    ")"
   ]
  },
  {
   "cell_type": "code",
   "execution_count": 3,
   "id": "4fd01576-1163-421b-b7d1-02e6d5c065e2",
   "metadata": {},
   "outputs": [
    {
     "data": {
      "text/html": [
       "<div>\n",
       "<style scoped>\n",
       "    .dataframe tbody tr th:only-of-type {\n",
       "        vertical-align: middle;\n",
       "    }\n",
       "\n",
       "    .dataframe tbody tr th {\n",
       "        vertical-align: top;\n",
       "    }\n",
       "\n",
       "    .dataframe thead th {\n",
       "        text-align: right;\n",
       "    }\n",
       "</style>\n",
       "<table border=\"1\" class=\"dataframe\">\n",
       "  <thead>\n",
       "    <tr style=\"text-align: right;\">\n",
       "      <th></th>\n",
       "      <th>feed_key</th>\n",
       "      <th>stop_id</th>\n",
       "      <th>stop_lat</th>\n",
       "      <th>stop_lon</th>\n",
       "      <th>stop_name</th>\n",
       "    </tr>\n",
       "  </thead>\n",
       "  <tbody>\n",
       "    <tr>\n",
       "      <th>0</th>\n",
       "      <td>52639f09eb535f75b33d2c6a654cb89e</td>\n",
       "      <td>768319</td>\n",
       "      <td>37.067249</td>\n",
       "      <td>-120.855585</td>\n",
       "      <td>G St @ Davita Dialysis (southbound)</td>\n",
       "    </tr>\n",
       "    <tr>\n",
       "      <th>1</th>\n",
       "      <td>52639f09eb535f75b33d2c6a654cb89e</td>\n",
       "      <td>768398</td>\n",
       "      <td>37.345519</td>\n",
       "      <td>-120.608472</td>\n",
       "      <td>Atwater Transpo</td>\n",
       "    </tr>\n",
       "    <tr>\n",
       "      <th>2</th>\n",
       "      <td>25c6505166c01099b2f6f2de173e20b9</td>\n",
       "      <td>san_carlos</td>\n",
       "      <td>37.508033</td>\n",
       "      <td>-122.260200</td>\n",
       "      <td>San Carlos</td>\n",
       "    </tr>\n",
       "    <tr>\n",
       "      <th>3</th>\n",
       "      <td>52639f09eb535f75b33d2c6a654cb89e</td>\n",
       "      <td>768199</td>\n",
       "      <td>37.382422</td>\n",
       "      <td>-120.723304</td>\n",
       "      <td>Main St @ F St (northbound)</td>\n",
       "    </tr>\n",
       "    <tr>\n",
       "      <th>4</th>\n",
       "      <td>52639f09eb535f75b33d2c6a654cb89e</td>\n",
       "      <td>768413</td>\n",
       "      <td>37.353220</td>\n",
       "      <td>-120.613861</td>\n",
       "      <td>Winton @ Grove (southbound)</td>\n",
       "    </tr>\n",
       "  </tbody>\n",
       "</table>\n",
       "</div>"
      ],
      "text/plain": [
       "                           feed_key     stop_id   stop_lat    stop_lon  \\\n",
       "0  52639f09eb535f75b33d2c6a654cb89e      768319  37.067249 -120.855585   \n",
       "1  52639f09eb535f75b33d2c6a654cb89e      768398  37.345519 -120.608472   \n",
       "2  25c6505166c01099b2f6f2de173e20b9  san_carlos  37.508033 -122.260200   \n",
       "3  52639f09eb535f75b33d2c6a654cb89e      768199  37.382422 -120.723304   \n",
       "4  52639f09eb535f75b33d2c6a654cb89e      768413  37.353220 -120.613861   \n",
       "\n",
       "                             stop_name  \n",
       "0  G St @ Davita Dialysis (southbound)  \n",
       "1                      Atwater Transpo  \n",
       "2                           San Carlos  \n",
       "3          Main St @ F St (northbound)  \n",
       "4          Winton @ Grove (southbound)  "
      ]
     },
     "execution_count": 3,
     "metadata": {},
     "output_type": "execute_result"
    }
   ],
   "source": [
    "stops.head()"
   ]
  },
  {
   "cell_type": "code",
   "execution_count": 4,
   "id": "45d1481c-b06d-4f76-84bf-eda3edf35128",
   "metadata": {},
   "outputs": [],
   "source": [
    "#Turn the point data into geometry with geopandas???????\n",
    "\n",
    "stops_gdf = gpd.GeoDataFrame(\n",
    "    stops, \n",
    "    geometry=gpd.points_from_xy(stops['stop_lon'], stops['stop_lat']),\n",
    "    crs='EPSG:4326'\n",
    ")"
   ]
  },
  {
   "cell_type": "code",
   "execution_count": 5,
   "id": "0aa2e7fa-2542-42e1-ad64-4b481ddf73f2",
   "metadata": {},
   "outputs": [
    {
     "data": {
      "text/html": [
       "<div>\n",
       "<style scoped>\n",
       "    .dataframe tbody tr th:only-of-type {\n",
       "        vertical-align: middle;\n",
       "    }\n",
       "\n",
       "    .dataframe tbody tr th {\n",
       "        vertical-align: top;\n",
       "    }\n",
       "\n",
       "    .dataframe thead th {\n",
       "        text-align: right;\n",
       "    }\n",
       "</style>\n",
       "<table border=\"1\" class=\"dataframe\">\n",
       "  <thead>\n",
       "    <tr style=\"text-align: right;\">\n",
       "      <th></th>\n",
       "      <th>feed_key</th>\n",
       "      <th>stop_id</th>\n",
       "      <th>stop_lat</th>\n",
       "      <th>stop_lon</th>\n",
       "      <th>stop_name</th>\n",
       "      <th>geometry</th>\n",
       "    </tr>\n",
       "  </thead>\n",
       "  <tbody>\n",
       "    <tr>\n",
       "      <th>0</th>\n",
       "      <td>52639f09eb535f75b33d2c6a654cb89e</td>\n",
       "      <td>768319</td>\n",
       "      <td>37.067249</td>\n",
       "      <td>-120.855585</td>\n",
       "      <td>G St @ Davita Dialysis (southbound)</td>\n",
       "      <td>POINT (-120.85559 37.06725)</td>\n",
       "    </tr>\n",
       "    <tr>\n",
       "      <th>1</th>\n",
       "      <td>52639f09eb535f75b33d2c6a654cb89e</td>\n",
       "      <td>768398</td>\n",
       "      <td>37.345519</td>\n",
       "      <td>-120.608472</td>\n",
       "      <td>Atwater Transpo</td>\n",
       "      <td>POINT (-120.60847 37.34552)</td>\n",
       "    </tr>\n",
       "  </tbody>\n",
       "</table>\n",
       "</div>"
      ],
      "text/plain": [
       "                           feed_key stop_id   stop_lat    stop_lon  \\\n",
       "0  52639f09eb535f75b33d2c6a654cb89e  768319  37.067249 -120.855585   \n",
       "1  52639f09eb535f75b33d2c6a654cb89e  768398  37.345519 -120.608472   \n",
       "\n",
       "                             stop_name                     geometry  \n",
       "0  G St @ Davita Dialysis (southbound)  POINT (-120.85559 37.06725)  \n",
       "1                      Atwater Transpo  POINT (-120.60847 37.34552)  "
      ]
     },
     "execution_count": 5,
     "metadata": {},
     "output_type": "execute_result"
    }
   ],
   "source": [
    "stops_gdf.head(2)"
   ]
  },
  {
   "cell_type": "code",
   "execution_count": 6,
   "id": "1d1d8039-ee32-49a6-85ba-2691a25fbdab",
   "metadata": {},
   "outputs": [
    {
     "data": {
      "text/plain": [
       "<Geographic 2D CRS: EPSG:4326>\n",
       "Name: WGS 84\n",
       "Axis Info [ellipsoidal]:\n",
       "- Lat[north]: Geodetic latitude (degree)\n",
       "- Lon[east]: Geodetic longitude (degree)\n",
       "Area of Use:\n",
       "- name: World.\n",
       "- bounds: (-180.0, -90.0, 180.0, 90.0)\n",
       "Datum: World Geodetic System 1984 ensemble\n",
       "- Ellipsoid: WGS 84\n",
       "- Prime Meridian: Greenwich"
      ]
     },
     "execution_count": 6,
     "metadata": {},
     "output_type": "execute_result"
    }
   ],
   "source": [
    "stops_gdf.crs"
   ]
  },
  {
   "cell_type": "markdown",
   "id": "8e38ba6d-0461-4910-8991-05283ecd4a2f",
   "metadata": {},
   "source": [
    "## Use a dictionary to map values\n",
    "\n",
    "* Create a new column called `operator` where `feed_key` is associated with its operator name.\n",
    "* First, write a function to do it.\n",
    "* Then, use a dictionary to do it (create new column called `agency`).\n",
    "* Double check that `operator` and `agency` show the same values. Use `assert` to check.\n",
    "    * `assert df.operator == df.agency`\n",
    "* Hint: https://docs.calitp.org/data-infra/analytics_new_analysts/02-data-analysis-intermediate.html"
   ]
  },
  {
   "cell_type": "code",
   "execution_count": 7,
   "id": "6d7f5c24-ab94-46cb-bbf9-28e9aaa180ad",
   "metadata": {},
   "outputs": [
    {
     "data": {
      "text/plain": [
       "52639f09eb535f75b33d2c6a654cb89e    197\n",
       "25c6505166c01099b2f6f2de173e20b9     35\n",
       "Name: feed_key, dtype: int64"
      ]
     },
     "execution_count": 7,
     "metadata": {},
     "output_type": "execute_result"
    }
   ],
   "source": [
    "stops.feed_key.value_counts()"
   ]
  },
  {
   "cell_type": "code",
   "execution_count": 8,
   "id": "7b83b31c-3fde-4933-a3d1-f4e97be2cd4f",
   "metadata": {},
   "outputs": [],
   "source": [
    "def name1(row):\n",
    "    if row.feed_key == '52639f09eb535f75b33d2c6a654cb89e':\n",
    "        return 'a'\n",
    "    elif row.feed_key == '25c6505166c01099b2f6f2de173e20b9':\n",
    "        return 'b'\n",
    "    else:\n",
    "        return 'other'\n",
    "stops['operator'] = stops.apply(name1, axis = 1)"
   ]
  },
  {
   "cell_type": "code",
   "execution_count": 9,
   "id": "ca0e60ca-5905-4bb4-afaa-26e8508e0b0f",
   "metadata": {},
   "outputs": [],
   "source": [
    "#using a dictionary\n",
    "name2={'52639f09eb535f75b33d2c6a654cb89e': 'a', '25c6505166c01099b2f6f2de173e20b9': 'b'}\n",
    "\n",
    "stops['agency'] = stops.feed_key.map(name2)"
   ]
  },
  {
   "cell_type": "code",
   "execution_count": 10,
   "id": "f32b0bfa-7232-4a98-88af-2f3f936b2106",
   "metadata": {},
   "outputs": [
    {
     "data": {
      "text/plain": [
       "0      True\n",
       "1      True\n",
       "2      True\n",
       "3      True\n",
       "4      True\n",
       "       ... \n",
       "227    True\n",
       "228    True\n",
       "229    True\n",
       "230    True\n",
       "231    True\n",
       "Length: 232, dtype: bool"
      ]
     },
     "execution_count": 10,
     "metadata": {},
     "output_type": "execute_result"
    }
   ],
   "source": [
    "#two methods got the same answer. do i have to type 'assert' in the front???\n",
    "stops.operator == stops.agency"
   ]
  },
  {
   "cell_type": "code",
   "execution_count": 11,
   "id": "814a2d75-f129-4415-95a6-e0da87ebd095",
   "metadata": {},
   "outputs": [],
   "source": [
    "#another way to do this\n",
    "assert(stops.operator == stops.agency).all()"
   ]
  },
  {
   "cell_type": "markdown",
   "id": "43c9198e-9cff-4025-9535-fa899b7a2a2d",
   "metadata": {},
   "source": [
    "## Turn lat/lon into point geometry\n",
    "\n",
    "* There is a [function in shared_utils](https://github.com/cal-itp/data-analyses/blob/main/_shared_utils/shared_utils/geography_utils.py#L170-L192) that does it. Show the steps within the function (the long way), and also create the `geometry` column using `shared_utils`.\n",
    "* Use `geography_utils.create_point_geometry??` to see what goes into that function, and what that function looks like under the hood."
   ]
  },
  {
   "cell_type": "markdown",
   "id": "74170ef5-1eb4-4e32-bf73-82cec69b9f91",
   "metadata": {},
   "source": [
    "# Rename columns\n",
    "stops.rename(columns = {'stop_lon': 'longitude', 'stop_lat':'latitude'}, inplace=True)\n",
    "\n",
    "# Create geometry column\n",
    "stops_geo = gpd.points_from_xy(stops.longitude, stops.latitude, crs=\"EPSG:4326\")\n",
    "stops['geometry2']=stops_geo\n"
   ]
  },
  {
   "cell_type": "markdown",
   "id": "6c06326c-8271-4b9d-b35a-83e872551455",
   "metadata": {},
   "source": [
    "#another way to do this\n",
    "geometry = gpd.points_from_xy(stops.stop_lon, stops.stop_lat, crs=\"EPSG:4326\")"
   ]
  },
  {
   "cell_type": "markdown",
   "id": "3d4c0290-f964-4ad4-bb46-0531b566db3a",
   "metadata": {},
   "source": [
    "#Another way\n",
    "# Default CRS for stop_lon, stop_lat is WGS84\n",
    "stops = stops.assign(geometry=gpd.points_from_xy(df[stop_lon], df[stop_lat], crs=\"EPSG:4326\")"
   ]
  },
  {
   "cell_type": "markdown",
   "id": "d1093754-b484-4f5f-9aa9-3e49cbc4d7b2",
   "metadata": {},
   "source": [
    "# Another way: Use geography_utils.create_point_geometry?? to see what goes into that function,\n",
    "#and what that function looks like under the hood.\n",
    "def create_point_geometry(\n",
    "    stops: pd.DataFrame,\n",
    "    longitude_col: str = \"stop_lon\",\n",
    "    latitude_col: str = \"stop_lat\",\n",
    "    crs: str = crs=\"EPSG:4326\",\n",
    ") -> gpd.GeoDataFrame"
   ]
  },
  {
   "cell_type": "markdown",
   "id": "8a21eac3-ac67-47d8-b4c8-694192fdd796",
   "metadata": {},
   "source": [
    "Basic stuff about a geodataframe.\n",
    "\n",
    "A gdf would have a coordinate reference system that converts the points or lines into a place on the spherical Earth. The most common CRS is called `WGS 84`, and its code is `EPSG:4326`. This is what you'd see when you use Google Maps to find lat/lon of a place.\n",
    "\n",
    "[Read](https://desktop.arcgis.com/en/arcmap/latest/map/projections/about-geographic-coordinate-systems.htm) about the `WGS 84` geographic coordinate system.\n",
    "\n",
    "[Read](https://desktop.arcgis.com/en/arcmap/latest/map/projections/about-projected-coordinate-systems.htm) about projected coordinate reference systems, which is essentially about flattening our spherical Earth into a 2D plane so we can measure distances and whatnot.\n",
    "\n",
    "* Is it a pandas dataframe or a geopandas geodataframe?: `type(gdf)`\n",
    "* Coordinate reference system: `gdf.crs`\n",
    "* gdfs must have a geometry column. Find the name of the column that is geometry: `gdf.geometry.name`\n",
    "* Project the coordinate reference system to something else: `gdf = gdf.to_crs(\"EPSG:2229\")` and check."
   ]
  },
  {
   "cell_type": "code",
   "execution_count": 12,
   "id": "f917fcf6-5f52-4375-9b8b-48628abbfc49",
   "metadata": {},
   "outputs": [
    {
     "data": {
      "text/plain": [
       "'geometry'"
      ]
     },
     "execution_count": 12,
     "metadata": {},
     "output_type": "execute_result"
    }
   ],
   "source": [
    "stops_gdf.geometry.name"
   ]
  },
  {
   "cell_type": "code",
   "execution_count": null,
   "id": "5b2b4c07-c369-4e17-88ff-486047b3e8c5",
   "metadata": {},
   "outputs": [],
   "source": [
    "#gdf = gdf.to_crs(\"EPSG:2229\")"
   ]
  },
  {
   "cell_type": "code",
   "execution_count": null,
   "id": "c3823dfa-3891-4180-894f-d4fd467fa32f",
   "metadata": {},
   "outputs": [],
   "source": [
    "#gdf.crs"
   ]
  },
  {
   "cell_type": "markdown",
   "id": "d242e5b6-90f9-44ac-bb9f-fd1139e795f2",
   "metadata": {},
   "source": [
    "* This GitHub repo has several `geopandas` tutorials that covers basic spatial concepts: https://github.com/jorisvandenbossche/geopandas-tutorial. \n",
    "* Skim through the notebooks to see some of the concepts demonstrated, although to actually run the notebooks, you can click on `launch binder` in the repo's README to do so."
   ]
  },
  {
   "cell_type": "markdown",
   "id": "5b9dc620-41f2-4d69-9d69-00e8d90276f9",
   "metadata": {
    "tags": []
   },
   "source": [
    "## Spatial Join (which points fall into which polygon)\n",
    "\n",
    "This URL gives you CA county boundaries: https://gis.data.ca.gov/datasets/CALFIRE-Forestry::california-county-boundaries/explore?location=37.246136%2C-119.002032%2C6.12\n",
    "\n",
    "* Go to \"I want to use this\" > View API Resources > copy link for geojson\n",
    "* Read in the geojson with `geopandas` and make it a geodataframe: `gpd.read_file(LONG_URL_PATH)`\n",
    "* Double check that the coordinate reference system is the same for both gdfs using `gdf.crs`. If not, change it so they are the same.\n",
    "* Spatial join stops to counties: [docs](https://geopandas.org/en/stable/docs/reference/api/geopandas.sjoin.html)\n",
    "    * Play with inner join or left join, what's the difference? Which one do you want?\n",
    "    * Play with switching around the left_df and right_df, what's the right order?\n",
    "* By county: count number of stops and stops per sq_mi.\n",
    "    * Hint 1: Start with a CRS with units in feet or meters, then do a conversion to sq mi. [CRS in shared_utils](https://github.com/cal-itp/data-analyses/blob/main/_shared_utils/shared_utils/geography_utils.py)\n",
    "    * Hint 2: to find area, you can create a new column and calculate `gdf.geometry.area`. [geometry manipulations docs](https://geopandas.org/en/stable/docs/user_guide/geometric_manipulations.html)"
   ]
  },
  {
   "cell_type": "code",
   "execution_count": 13,
   "id": "20776a56-08e6-4bc4-a416-5fffbfcec96c",
   "metadata": {},
   "outputs": [],
   "source": [
    "counties = gpd.read_file('https://services1.arcgis.com/jUJYIo9tSA7EHvfZ/arcgis/rest/services/California_County_Boundaries/FeatureServer/0/query?outFields=*&where=1%3D1&f=geojson')"
   ]
  },
  {
   "cell_type": "code",
   "execution_count": 14,
   "id": "28980418-5399-40a1-9307-028aaabea353",
   "metadata": {},
   "outputs": [
    {
     "data": {
      "text/html": [
       "<div>\n",
       "<style scoped>\n",
       "    .dataframe tbody tr th:only-of-type {\n",
       "        vertical-align: middle;\n",
       "    }\n",
       "\n",
       "    .dataframe tbody tr th {\n",
       "        vertical-align: top;\n",
       "    }\n",
       "\n",
       "    .dataframe thead th {\n",
       "        text-align: right;\n",
       "    }\n",
       "</style>\n",
       "<table border=\"1\" class=\"dataframe\">\n",
       "  <thead>\n",
       "    <tr style=\"text-align: right;\">\n",
       "      <th></th>\n",
       "      <th>OBJECTID</th>\n",
       "      <th>COUNTY_NAME</th>\n",
       "      <th>COUNTY_ABBREV</th>\n",
       "      <th>COUNTY_NUM</th>\n",
       "      <th>COUNTY_CODE</th>\n",
       "      <th>COUNTY_FIPS</th>\n",
       "      <th>ISLAND</th>\n",
       "      <th>Shape__Area</th>\n",
       "      <th>Shape__Length</th>\n",
       "      <th>GlobalID</th>\n",
       "      <th>geometry</th>\n",
       "    </tr>\n",
       "  </thead>\n",
       "  <tbody>\n",
       "    <tr>\n",
       "      <th>0</th>\n",
       "      <td>1</td>\n",
       "      <td>Alameda</td>\n",
       "      <td>ALA</td>\n",
       "      <td>1</td>\n",
       "      <td>01</td>\n",
       "      <td>001</td>\n",
       "      <td>NaN</td>\n",
       "      <td>3.402787e+09</td>\n",
       "      <td>308998.650766</td>\n",
       "      <td>e6f92268-d2dd-4cfb-8b79-5b4b2f07c559</td>\n",
       "      <td>POLYGON ((-122.27125 37.90503, -122.27024 37.9...</td>\n",
       "    </tr>\n",
       "    <tr>\n",
       "      <th>1</th>\n",
       "      <td>2</td>\n",
       "      <td>Alpine</td>\n",
       "      <td>ALP</td>\n",
       "      <td>2</td>\n",
       "      <td>02</td>\n",
       "      <td>003</td>\n",
       "      <td>NaN</td>\n",
       "      <td>3.146939e+09</td>\n",
       "      <td>274888.492411</td>\n",
       "      <td>870479b2-480a-494b-8352-ad60578839c1</td>\n",
       "      <td>POLYGON ((-119.58667 38.71420, -119.58653 38.7...</td>\n",
       "    </tr>\n",
       "  </tbody>\n",
       "</table>\n",
       "</div>"
      ],
      "text/plain": [
       "   OBJECTID COUNTY_NAME COUNTY_ABBREV  COUNTY_NUM COUNTY_CODE COUNTY_FIPS  \\\n",
       "0         1     Alameda           ALA           1          01         001   \n",
       "1         2      Alpine           ALP           2          02         003   \n",
       "\n",
       "  ISLAND   Shape__Area  Shape__Length                              GlobalID  \\\n",
       "0    NaN  3.402787e+09  308998.650766  e6f92268-d2dd-4cfb-8b79-5b4b2f07c559   \n",
       "1    NaN  3.146939e+09  274888.492411  870479b2-480a-494b-8352-ad60578839c1   \n",
       "\n",
       "                                            geometry  \n",
       "0  POLYGON ((-122.27125 37.90503, -122.27024 37.9...  \n",
       "1  POLYGON ((-119.58667 38.71420, -119.58653 38.7...  "
      ]
     },
     "execution_count": 14,
     "metadata": {},
     "output_type": "execute_result"
    }
   ],
   "source": [
    "counties.head(2)"
   ]
  },
  {
   "cell_type": "code",
   "execution_count": null,
   "id": "106ffea3-1016-4786-9bcc-1a89fffdbf79",
   "metadata": {},
   "outputs": [],
   "source": [
    "# If the CRS is not set after checking it with gdf.crs\n",
    "\n",
    "#gdf = gdf.set_crs('EPSG:4326')\n"
   ]
  },
  {
   "cell_type": "code",
   "execution_count": 15,
   "id": "72e633f9-7fa6-4b84-b375-ba3f0e2d216e",
   "metadata": {},
   "outputs": [
    {
     "data": {
      "text/plain": [
       "<Geographic 2D CRS: EPSG:4326>\n",
       "Name: WGS 84\n",
       "Axis Info [ellipsoidal]:\n",
       "- Lat[north]: Geodetic latitude (degree)\n",
       "- Lon[east]: Geodetic longitude (degree)\n",
       "Area of Use:\n",
       "- name: World.\n",
       "- bounds: (-180.0, -90.0, 180.0, 90.0)\n",
       "Datum: World Geodetic System 1984 ensemble\n",
       "- Ellipsoid: WGS 84\n",
       "- Prime Meridian: Greenwich"
      ]
     },
     "execution_count": 15,
     "metadata": {},
     "output_type": "execute_result"
    }
   ],
   "source": [
    "counties.crs"
   ]
  },
  {
   "cell_type": "code",
   "execution_count": null,
   "id": "d3bf912e-4d4a-4cb7-afb6-495da4fc3ac6",
   "metadata": {},
   "outputs": [],
   "source": [
    "#counties = counties.set_crs('EPSG:4326')"
   ]
  },
  {
   "cell_type": "code",
   "execution_count": 16,
   "id": "03072cb4-5d92-4ea7-a715-7bb4293a8fe4",
   "metadata": {},
   "outputs": [],
   "source": [
    "counties = counties.to_crs('EPSG:4326')"
   ]
  },
  {
   "cell_type": "code",
   "execution_count": 17,
   "id": "2ab05358-8602-4998-8fad-53853993df8b",
   "metadata": {},
   "outputs": [
    {
     "data": {
      "text/plain": [
       "<Geographic 2D CRS: EPSG:4326>\n",
       "Name: WGS 84\n",
       "Axis Info [ellipsoidal]:\n",
       "- Lat[north]: Geodetic latitude (degree)\n",
       "- Lon[east]: Geodetic longitude (degree)\n",
       "Area of Use:\n",
       "- name: World.\n",
       "- bounds: (-180.0, -90.0, 180.0, 90.0)\n",
       "Datum: World Geodetic System 1984 ensemble\n",
       "- Ellipsoid: WGS 84\n",
       "- Prime Meridian: Greenwich"
      ]
     },
     "execution_count": 17,
     "metadata": {},
     "output_type": "execute_result"
    }
   ],
   "source": [
    "counties.crs"
   ]
  },
  {
   "cell_type": "code",
   "execution_count": 18,
   "id": "d42531b3-b8db-49d2-a75b-8a9f8438af59",
   "metadata": {},
   "outputs": [],
   "source": [
    "merge = gpd.sjoin(counties, stops_gdf, how = 'inner', predicate = 'intersects')"
   ]
  },
  {
   "cell_type": "code",
   "execution_count": null,
   "id": "382651db-2bb2-4dd9-8e3e-3bad9bd40676",
   "metadata": {},
   "outputs": [],
   "source": [
    "#merge1 = pd.merge(counties, stops, on = 'geometry',\n",
    "    #how = 'inner', validate = 'm:1')"
   ]
  },
  {
   "cell_type": "code",
   "execution_count": null,
   "id": "2f004814-3f3f-465c-a39f-bc7319859066",
   "metadata": {},
   "outputs": [],
   "source": [
    "#merge2 = pd.merge(counties, stops, left_on = 'COUNTY_NAME',\n",
    "    #right_on = 'geometry', how = 'left', validate = 'm:1')"
   ]
  },
  {
   "cell_type": "code",
   "execution_count": null,
   "id": "719269a0-cdc5-4bdf-9db2-8cb26abb44a5",
   "metadata": {},
   "outputs": [],
   "source": [
    "#merge3 = gpd.sjoin(counties, stops, how='left', predicate='intersects', lsuffix='left', rsuffix='right')"
   ]
  },
  {
   "cell_type": "code",
   "execution_count": null,
   "id": "57aad7cd-d613-4226-86ae-643b44fcefef",
   "metadata": {},
   "outputs": [],
   "source": [
    "#merge4 = pd.merge(gdf, df, left_on = 'District', right_on = 'CD')"
   ]
  },
  {
   "cell_type": "code",
   "execution_count": 19,
   "id": "c867da71-ac2f-4ca0-869d-a368a60e1e62",
   "metadata": {},
   "outputs": [
    {
     "data": {
      "text/html": [
       "<div>\n",
       "<style scoped>\n",
       "    .dataframe tbody tr th:only-of-type {\n",
       "        vertical-align: middle;\n",
       "    }\n",
       "\n",
       "    .dataframe tbody tr th {\n",
       "        vertical-align: top;\n",
       "    }\n",
       "\n",
       "    .dataframe thead th {\n",
       "        text-align: right;\n",
       "    }\n",
       "</style>\n",
       "<table border=\"1\" class=\"dataframe\">\n",
       "  <thead>\n",
       "    <tr style=\"text-align: right;\">\n",
       "      <th></th>\n",
       "      <th>OBJECTID</th>\n",
       "      <th>COUNTY_NAME</th>\n",
       "      <th>COUNTY_ABBREV</th>\n",
       "      <th>COUNTY_NUM</th>\n",
       "      <th>COUNTY_CODE</th>\n",
       "      <th>COUNTY_FIPS</th>\n",
       "      <th>ISLAND</th>\n",
       "      <th>Shape__Area</th>\n",
       "      <th>Shape__Length</th>\n",
       "      <th>GlobalID</th>\n",
       "      <th>geometry</th>\n",
       "      <th>index_right</th>\n",
       "      <th>feed_key</th>\n",
       "      <th>stop_id</th>\n",
       "      <th>stop_lat</th>\n",
       "      <th>stop_lon</th>\n",
       "      <th>stop_name</th>\n",
       "    </tr>\n",
       "  </thead>\n",
       "  <tbody>\n",
       "    <tr>\n",
       "      <th>23</th>\n",
       "      <td>24</td>\n",
       "      <td>Merced</td>\n",
       "      <td>MER</td>\n",
       "      <td>24</td>\n",
       "      <td>24</td>\n",
       "      <td>047</td>\n",
       "      <td>NaN</td>\n",
       "      <td>8.085829e+09</td>\n",
       "      <td>432954.410428</td>\n",
       "      <td>f3d6231c-c7fa-4340-b03f-23c1d0572979</td>\n",
       "      <td>POLYGON ((-120.37071 37.60543, -120.35414 37.5...</td>\n",
       "      <td>112</td>\n",
       "      <td>52639f09eb535f75b33d2c6a654cb89e</td>\n",
       "      <td>782479</td>\n",
       "      <td>36.964503</td>\n",
       "      <td>-120.653529</td>\n",
       "      <td>Kwik Serv (South Dos Palos)</td>\n",
       "    </tr>\n",
       "    <tr>\n",
       "      <th>23</th>\n",
       "      <td>24</td>\n",
       "      <td>Merced</td>\n",
       "      <td>MER</td>\n",
       "      <td>24</td>\n",
       "      <td>24</td>\n",
       "      <td>047</td>\n",
       "      <td>NaN</td>\n",
       "      <td>8.085829e+09</td>\n",
       "      <td>432954.410428</td>\n",
       "      <td>f3d6231c-c7fa-4340-b03f-23c1d0572979</td>\n",
       "      <td>POLYGON ((-120.37071 37.60543, -120.35414 37.5...</td>\n",
       "      <td>87</td>\n",
       "      <td>52639f09eb535f75b33d2c6a654cb89e</td>\n",
       "      <td>782486</td>\n",
       "      <td>36.981746</td>\n",
       "      <td>-120.627963</td>\n",
       "      <td>Golden Gate Ave &amp; Valeria St Stop</td>\n",
       "    </tr>\n",
       "  </tbody>\n",
       "</table>\n",
       "</div>"
      ],
      "text/plain": [
       "    OBJECTID COUNTY_NAME COUNTY_ABBREV  COUNTY_NUM COUNTY_CODE COUNTY_FIPS  \\\n",
       "23        24      Merced           MER          24          24         047   \n",
       "23        24      Merced           MER          24          24         047   \n",
       "\n",
       "   ISLAND   Shape__Area  Shape__Length                              GlobalID  \\\n",
       "23    NaN  8.085829e+09  432954.410428  f3d6231c-c7fa-4340-b03f-23c1d0572979   \n",
       "23    NaN  8.085829e+09  432954.410428  f3d6231c-c7fa-4340-b03f-23c1d0572979   \n",
       "\n",
       "                                             geometry  index_right  \\\n",
       "23  POLYGON ((-120.37071 37.60543, -120.35414 37.5...          112   \n",
       "23  POLYGON ((-120.37071 37.60543, -120.35414 37.5...           87   \n",
       "\n",
       "                            feed_key stop_id   stop_lat    stop_lon  \\\n",
       "23  52639f09eb535f75b33d2c6a654cb89e  782479  36.964503 -120.653529   \n",
       "23  52639f09eb535f75b33d2c6a654cb89e  782486  36.981746 -120.627963   \n",
       "\n",
       "                            stop_name  \n",
       "23        Kwik Serv (South Dos Palos)  \n",
       "23  Golden Gate Ave & Valeria St Stop  "
      ]
     },
     "execution_count": 19,
     "metadata": {},
     "output_type": "execute_result"
    }
   ],
   "source": [
    "merge.head(2)"
   ]
  },
  {
   "cell_type": "markdown",
   "id": "7dd8442b-f2be-4ffa-b3d7-ca4529a54179",
   "metadata": {},
   "source": [
    "#By county: count number of stops and stops per sq_mi.\n",
    "#Start with a CRS with units in feet or meters, then do a conversion to sq mi.\n",
    "WGS84 = \"EPSG:4326\"\n",
    "CA_StatePlane = \"EPSG:2229\"  # units are in feet\n",
    "CA_NAD83Albers = \"EPSG:3310\"  # units are in meters\n",
    "\n",
    "SQ_MI_PER_SQ_M = 3.86 * 10**-7\n",
    "FEET_PER_MI = 5_280\n",
    "SQ_FT_PER_SQ_MI = 2.788 * 10**7\n"
   ]
  },
  {
   "cell_type": "code",
   "execution_count": 20,
   "id": "0fabe876-87e5-488f-b733-1cee0510cc24",
   "metadata": {},
   "outputs": [],
   "source": [
    "counties1 = counties.assign(geometry=counties.geometry.to_crs('EPSG:2229'))"
   ]
  },
  {
   "cell_type": "code",
   "execution_count": 21,
   "id": "69abcb22-cd12-47d7-ae16-bd1a2c7bb0d7",
   "metadata": {},
   "outputs": [],
   "source": [
    "counties1['county_sq_ft'] = counties1.geometry.area"
   ]
  },
  {
   "cell_type": "code",
   "execution_count": 22,
   "id": "143ddd78-b132-4b07-9c1a-827e9ebb7a95",
   "metadata": {},
   "outputs": [
    {
     "data": {
      "text/html": [
       "<div>\n",
       "<style scoped>\n",
       "    .dataframe tbody tr th:only-of-type {\n",
       "        vertical-align: middle;\n",
       "    }\n",
       "\n",
       "    .dataframe tbody tr th {\n",
       "        vertical-align: top;\n",
       "    }\n",
       "\n",
       "    .dataframe thead th {\n",
       "        text-align: right;\n",
       "    }\n",
       "</style>\n",
       "<table border=\"1\" class=\"dataframe\">\n",
       "  <thead>\n",
       "    <tr style=\"text-align: right;\">\n",
       "      <th></th>\n",
       "      <th>OBJECTID</th>\n",
       "      <th>COUNTY_NAME</th>\n",
       "      <th>COUNTY_ABBREV</th>\n",
       "      <th>COUNTY_NUM</th>\n",
       "      <th>COUNTY_CODE</th>\n",
       "      <th>COUNTY_FIPS</th>\n",
       "      <th>ISLAND</th>\n",
       "      <th>Shape__Area</th>\n",
       "      <th>Shape__Length</th>\n",
       "      <th>GlobalID</th>\n",
       "      <th>geometry</th>\n",
       "      <th>county_sq_ft</th>\n",
       "    </tr>\n",
       "  </thead>\n",
       "  <tbody>\n",
       "    <tr>\n",
       "      <th>0</th>\n",
       "      <td>1</td>\n",
       "      <td>Alameda</td>\n",
       "      <td>ALA</td>\n",
       "      <td>1</td>\n",
       "      <td>01</td>\n",
       "      <td>001</td>\n",
       "      <td>NaN</td>\n",
       "      <td>3.402787e+09</td>\n",
       "      <td>308998.650766</td>\n",
       "      <td>e6f92268-d2dd-4cfb-8b79-5b4b2f07c559</td>\n",
       "      <td>POLYGON ((5327843.636 3270649.517, 5328125.534...</td>\n",
       "      <td>2.297674e+10</td>\n",
       "    </tr>\n",
       "    <tr>\n",
       "      <th>1</th>\n",
       "      <td>2</td>\n",
       "      <td>Alpine</td>\n",
       "      <td>ALP</td>\n",
       "      <td>2</td>\n",
       "      <td>02</td>\n",
       "      <td>003</td>\n",
       "      <td>NaN</td>\n",
       "      <td>3.146939e+09</td>\n",
       "      <td>274888.492411</td>\n",
       "      <td>870479b2-480a-494b-8352-ad60578839c1</td>\n",
       "      <td>POLYGON ((6107872.113 3543254.346, 6107910.593...</td>\n",
       "      <td>2.075032e+10</td>\n",
       "    </tr>\n",
       "  </tbody>\n",
       "</table>\n",
       "</div>"
      ],
      "text/plain": [
       "   OBJECTID COUNTY_NAME COUNTY_ABBREV  COUNTY_NUM COUNTY_CODE COUNTY_FIPS  \\\n",
       "0         1     Alameda           ALA           1          01         001   \n",
       "1         2      Alpine           ALP           2          02         003   \n",
       "\n",
       "  ISLAND   Shape__Area  Shape__Length                              GlobalID  \\\n",
       "0    NaN  3.402787e+09  308998.650766  e6f92268-d2dd-4cfb-8b79-5b4b2f07c559   \n",
       "1    NaN  3.146939e+09  274888.492411  870479b2-480a-494b-8352-ad60578839c1   \n",
       "\n",
       "                                            geometry  county_sq_ft  \n",
       "0  POLYGON ((5327843.636 3270649.517, 5328125.534...  2.297674e+10  \n",
       "1  POLYGON ((6107872.113 3543254.346, 6107910.593...  2.075032e+10  "
      ]
     },
     "execution_count": 22,
     "metadata": {},
     "output_type": "execute_result"
    }
   ],
   "source": [
    "counties1.head(2)"
   ]
  },
  {
   "cell_type": "code",
   "execution_count": 23,
   "id": "3ebead6a-69af-47ce-9a94-a21d3120afdc",
   "metadata": {},
   "outputs": [],
   "source": [
    "SQ_FT_PER_SQ_MI = 2.788 * 10**7"
   ]
  },
  {
   "cell_type": "code",
   "execution_count": 24,
   "id": "ea92ceba-8ade-42de-9f3f-aa2edb1a7074",
   "metadata": {},
   "outputs": [],
   "source": [
    "counties1['county_sq_mi'] = counties1['county_sq_ft']/SQ_FT_PER_SQ_MI"
   ]
  },
  {
   "cell_type": "code",
   "execution_count": 25,
   "id": "6ef0a0f1-c2be-4766-a52d-68792b747384",
   "metadata": {},
   "outputs": [
    {
     "data": {
      "text/html": [
       "<div>\n",
       "<style scoped>\n",
       "    .dataframe tbody tr th:only-of-type {\n",
       "        vertical-align: middle;\n",
       "    }\n",
       "\n",
       "    .dataframe tbody tr th {\n",
       "        vertical-align: top;\n",
       "    }\n",
       "\n",
       "    .dataframe thead th {\n",
       "        text-align: right;\n",
       "    }\n",
       "</style>\n",
       "<table border=\"1\" class=\"dataframe\">\n",
       "  <thead>\n",
       "    <tr style=\"text-align: right;\">\n",
       "      <th></th>\n",
       "      <th>OBJECTID</th>\n",
       "      <th>COUNTY_NAME</th>\n",
       "      <th>COUNTY_ABBREV</th>\n",
       "      <th>COUNTY_NUM</th>\n",
       "      <th>COUNTY_CODE</th>\n",
       "      <th>COUNTY_FIPS</th>\n",
       "      <th>ISLAND</th>\n",
       "      <th>Shape__Area</th>\n",
       "      <th>Shape__Length</th>\n",
       "      <th>GlobalID</th>\n",
       "      <th>geometry</th>\n",
       "      <th>county_sq_ft</th>\n",
       "      <th>county_sq_mi</th>\n",
       "    </tr>\n",
       "  </thead>\n",
       "  <tbody>\n",
       "    <tr>\n",
       "      <th>0</th>\n",
       "      <td>1</td>\n",
       "      <td>Alameda</td>\n",
       "      <td>ALA</td>\n",
       "      <td>1</td>\n",
       "      <td>01</td>\n",
       "      <td>001</td>\n",
       "      <td>NaN</td>\n",
       "      <td>3.402787e+09</td>\n",
       "      <td>308998.650766</td>\n",
       "      <td>e6f92268-d2dd-4cfb-8b79-5b4b2f07c559</td>\n",
       "      <td>POLYGON ((5327843.636 3270649.517, 5328125.534...</td>\n",
       "      <td>2.297674e+10</td>\n",
       "      <td>824.129820</td>\n",
       "    </tr>\n",
       "    <tr>\n",
       "      <th>1</th>\n",
       "      <td>2</td>\n",
       "      <td>Alpine</td>\n",
       "      <td>ALP</td>\n",
       "      <td>2</td>\n",
       "      <td>02</td>\n",
       "      <td>003</td>\n",
       "      <td>NaN</td>\n",
       "      <td>3.146939e+09</td>\n",
       "      <td>274888.492411</td>\n",
       "      <td>870479b2-480a-494b-8352-ad60578839c1</td>\n",
       "      <td>POLYGON ((6107872.113 3543254.346, 6107910.593...</td>\n",
       "      <td>2.075032e+10</td>\n",
       "      <td>744.272718</td>\n",
       "    </tr>\n",
       "  </tbody>\n",
       "</table>\n",
       "</div>"
      ],
      "text/plain": [
       "   OBJECTID COUNTY_NAME COUNTY_ABBREV  COUNTY_NUM COUNTY_CODE COUNTY_FIPS  \\\n",
       "0         1     Alameda           ALA           1          01         001   \n",
       "1         2      Alpine           ALP           2          02         003   \n",
       "\n",
       "  ISLAND   Shape__Area  Shape__Length                              GlobalID  \\\n",
       "0    NaN  3.402787e+09  308998.650766  e6f92268-d2dd-4cfb-8b79-5b4b2f07c559   \n",
       "1    NaN  3.146939e+09  274888.492411  870479b2-480a-494b-8352-ad60578839c1   \n",
       "\n",
       "                                            geometry  county_sq_ft  \\\n",
       "0  POLYGON ((5327843.636 3270649.517, 5328125.534...  2.297674e+10   \n",
       "1  POLYGON ((6107872.113 3543254.346, 6107910.593...  2.075032e+10   \n",
       "\n",
       "   county_sq_mi  \n",
       "0    824.129820  \n",
       "1    744.272718  "
      ]
     },
     "execution_count": 25,
     "metadata": {},
     "output_type": "execute_result"
    }
   ],
   "source": [
    "counties1.head(2)"
   ]
  },
  {
   "cell_type": "code",
   "execution_count": 26,
   "id": "2f727a08-97fa-4500-91e7-1fa0ff88a39a",
   "metadata": {},
   "outputs": [],
   "source": [
    "stops_per_county=merge.groupby(['COUNTY_NAME']).agg({'stop_id':'count'}).reset_index()"
   ]
  },
  {
   "cell_type": "code",
   "execution_count": 27,
   "id": "7ac551ac-81c0-49d8-a953-d6171fd00ebb",
   "metadata": {},
   "outputs": [],
   "source": [
    "final_stops = pd.merge(counties1, stops_per_county, on = 'COUNTY_NAME',\n",
    "    how = 'inner', validate = 'm:1')"
   ]
  },
  {
   "cell_type": "code",
   "execution_count": 28,
   "id": "e3aa665e-4e85-4afc-a477-1250e38c31b9",
   "metadata": {},
   "outputs": [
    {
     "data": {
      "text/html": [
       "<div>\n",
       "<style scoped>\n",
       "    .dataframe tbody tr th:only-of-type {\n",
       "        vertical-align: middle;\n",
       "    }\n",
       "\n",
       "    .dataframe tbody tr th {\n",
       "        vertical-align: top;\n",
       "    }\n",
       "\n",
       "    .dataframe thead th {\n",
       "        text-align: right;\n",
       "    }\n",
       "</style>\n",
       "<table border=\"1\" class=\"dataframe\">\n",
       "  <thead>\n",
       "    <tr style=\"text-align: right;\">\n",
       "      <th></th>\n",
       "      <th>OBJECTID</th>\n",
       "      <th>COUNTY_NAME</th>\n",
       "      <th>COUNTY_ABBREV</th>\n",
       "      <th>COUNTY_NUM</th>\n",
       "      <th>COUNTY_CODE</th>\n",
       "      <th>COUNTY_FIPS</th>\n",
       "      <th>ISLAND</th>\n",
       "      <th>Shape__Area</th>\n",
       "      <th>Shape__Length</th>\n",
       "      <th>GlobalID</th>\n",
       "      <th>geometry</th>\n",
       "      <th>county_sq_ft</th>\n",
       "      <th>county_sq_mi</th>\n",
       "      <th>stop_id</th>\n",
       "    </tr>\n",
       "  </thead>\n",
       "  <tbody>\n",
       "    <tr>\n",
       "      <th>0</th>\n",
       "      <td>24</td>\n",
       "      <td>Merced</td>\n",
       "      <td>MER</td>\n",
       "      <td>24</td>\n",
       "      <td>24</td>\n",
       "      <td>047</td>\n",
       "      <td>NaN</td>\n",
       "      <td>8.085829e+09</td>\n",
       "      <td>432954.410428</td>\n",
       "      <td>f3d6231c-c7fa-4340-b03f-23c1d0572979</td>\n",
       "      <td>POLYGON ((5874128.470 3143301.015, 5878700.520...</td>\n",
       "      <td>5.522343e+10</td>\n",
       "      <td>1980.754371</td>\n",
       "      <td>195</td>\n",
       "    </tr>\n",
       "    <tr>\n",
       "      <th>1</th>\n",
       "      <td>41</td>\n",
       "      <td>San Mateo</td>\n",
       "      <td>SMT</td>\n",
       "      <td>41</td>\n",
       "      <td>41</td>\n",
       "      <td>081</td>\n",
       "      <td>NaN</td>\n",
       "      <td>2.272024e+09</td>\n",
       "      <td>296746.203111</td>\n",
       "      <td>b4f387b3-07f1-43a1-b18a-a6d81c17e28b</td>\n",
       "      <td>POLYGON ((5289433.313 3200486.689, 5294453.059...</td>\n",
       "      <td>1.541602e+10</td>\n",
       "      <td>552.941880</td>\n",
       "      <td>17</td>\n",
       "    </tr>\n",
       "  </tbody>\n",
       "</table>\n",
       "</div>"
      ],
      "text/plain": [
       "   OBJECTID COUNTY_NAME COUNTY_ABBREV  COUNTY_NUM COUNTY_CODE COUNTY_FIPS  \\\n",
       "0        24      Merced           MER          24          24         047   \n",
       "1        41   San Mateo           SMT          41          41         081   \n",
       "\n",
       "  ISLAND   Shape__Area  Shape__Length                              GlobalID  \\\n",
       "0    NaN  8.085829e+09  432954.410428  f3d6231c-c7fa-4340-b03f-23c1d0572979   \n",
       "1    NaN  2.272024e+09  296746.203111  b4f387b3-07f1-43a1-b18a-a6d81c17e28b   \n",
       "\n",
       "                                            geometry  county_sq_ft  \\\n",
       "0  POLYGON ((5874128.470 3143301.015, 5878700.520...  5.522343e+10   \n",
       "1  POLYGON ((5289433.313 3200486.689, 5294453.059...  1.541602e+10   \n",
       "\n",
       "   county_sq_mi  stop_id  \n",
       "0   1980.754371      195  \n",
       "1    552.941880       17  "
      ]
     },
     "execution_count": 28,
     "metadata": {},
     "output_type": "execute_result"
    }
   ],
   "source": [
    "final_stops.head(2)"
   ]
  },
  {
   "cell_type": "code",
   "execution_count": 29,
   "id": "578e0acc-0b1d-48c4-bc7b-626410da55f6",
   "metadata": {},
   "outputs": [],
   "source": [
    "final_stops['stops_per_sqm'] = final_stops.stop_id/final_stops.county_sq_mi"
   ]
  },
  {
   "cell_type": "code",
   "execution_count": 30,
   "id": "0d5296f8-d57a-48a8-8fb0-10e44eea7c6b",
   "metadata": {},
   "outputs": [
    {
     "data": {
      "text/html": [
       "<div>\n",
       "<style scoped>\n",
       "    .dataframe tbody tr th:only-of-type {\n",
       "        vertical-align: middle;\n",
       "    }\n",
       "\n",
       "    .dataframe tbody tr th {\n",
       "        vertical-align: top;\n",
       "    }\n",
       "\n",
       "    .dataframe thead th {\n",
       "        text-align: right;\n",
       "    }\n",
       "</style>\n",
       "<table border=\"1\" class=\"dataframe\">\n",
       "  <thead>\n",
       "    <tr style=\"text-align: right;\">\n",
       "      <th></th>\n",
       "      <th>OBJECTID</th>\n",
       "      <th>COUNTY_NAME</th>\n",
       "      <th>COUNTY_ABBREV</th>\n",
       "      <th>COUNTY_NUM</th>\n",
       "      <th>COUNTY_CODE</th>\n",
       "      <th>COUNTY_FIPS</th>\n",
       "      <th>ISLAND</th>\n",
       "      <th>Shape__Area</th>\n",
       "      <th>Shape__Length</th>\n",
       "      <th>GlobalID</th>\n",
       "      <th>geometry</th>\n",
       "      <th>county_sq_ft</th>\n",
       "      <th>county_sq_mi</th>\n",
       "      <th>stop_id</th>\n",
       "      <th>stops_per_sqm</th>\n",
       "    </tr>\n",
       "  </thead>\n",
       "  <tbody>\n",
       "    <tr>\n",
       "      <th>0</th>\n",
       "      <td>24</td>\n",
       "      <td>Merced</td>\n",
       "      <td>MER</td>\n",
       "      <td>24</td>\n",
       "      <td>24</td>\n",
       "      <td>047</td>\n",
       "      <td>NaN</td>\n",
       "      <td>8.085829e+09</td>\n",
       "      <td>432954.410428</td>\n",
       "      <td>f3d6231c-c7fa-4340-b03f-23c1d0572979</td>\n",
       "      <td>POLYGON ((5874128.470 3143301.015, 5878700.520...</td>\n",
       "      <td>5.522343e+10</td>\n",
       "      <td>1980.754371</td>\n",
       "      <td>195</td>\n",
       "      <td>0.098447</td>\n",
       "    </tr>\n",
       "    <tr>\n",
       "      <th>1</th>\n",
       "      <td>41</td>\n",
       "      <td>San Mateo</td>\n",
       "      <td>SMT</td>\n",
       "      <td>41</td>\n",
       "      <td>41</td>\n",
       "      <td>081</td>\n",
       "      <td>NaN</td>\n",
       "      <td>2.272024e+09</td>\n",
       "      <td>296746.203111</td>\n",
       "      <td>b4f387b3-07f1-43a1-b18a-a6d81c17e28b</td>\n",
       "      <td>POLYGON ((5289433.313 3200486.689, 5294453.059...</td>\n",
       "      <td>1.541602e+10</td>\n",
       "      <td>552.941880</td>\n",
       "      <td>17</td>\n",
       "      <td>0.030745</td>\n",
       "    </tr>\n",
       "  </tbody>\n",
       "</table>\n",
       "</div>"
      ],
      "text/plain": [
       "   OBJECTID COUNTY_NAME COUNTY_ABBREV  COUNTY_NUM COUNTY_CODE COUNTY_FIPS  \\\n",
       "0        24      Merced           MER          24          24         047   \n",
       "1        41   San Mateo           SMT          41          41         081   \n",
       "\n",
       "  ISLAND   Shape__Area  Shape__Length                              GlobalID  \\\n",
       "0    NaN  8.085829e+09  432954.410428  f3d6231c-c7fa-4340-b03f-23c1d0572979   \n",
       "1    NaN  2.272024e+09  296746.203111  b4f387b3-07f1-43a1-b18a-a6d81c17e28b   \n",
       "\n",
       "                                            geometry  county_sq_ft  \\\n",
       "0  POLYGON ((5874128.470 3143301.015, 5878700.520...  5.522343e+10   \n",
       "1  POLYGON ((5289433.313 3200486.689, 5294453.059...  1.541602e+10   \n",
       "\n",
       "   county_sq_mi  stop_id  stops_per_sqm  \n",
       "0   1980.754371      195       0.098447  \n",
       "1    552.941880       17       0.030745  "
      ]
     },
     "execution_count": 30,
     "metadata": {},
     "output_type": "execute_result"
    }
   ],
   "source": [
    "final_stops.head(2)"
   ]
  },
  {
   "cell_type": "markdown",
   "id": "20d47cac-05fc-46b2-a133-67bb6f8cb9ae",
   "metadata": {},
   "source": [
    "#to find area, you can create a new column and calculate gdf.geometry.area\n",
    "gdf.geometry.area"
   ]
  },
  {
   "cell_type": "code",
   "execution_count": null,
   "id": "3fd2f7b4-672e-487c-86ea-f44738f639ad",
   "metadata": {},
   "outputs": [],
   "source": [
    "#counties.geometry.area"
   ]
  },
  {
   "cell_type": "code",
   "execution_count": 31,
   "id": "e689ffbe-e748-4e1b-9f3a-5de15dd10ab2",
   "metadata": {},
   "outputs": [
    {
     "name": "stderr",
     "output_type": "stream",
     "text": [
      "/tmp/ipykernel_177/1157395454.py:1: UserWarning: Geometry is in a geographic CRS. Results from 'area' are likely incorrect. Use 'GeoSeries.to_crs()' to re-project geometries to a projected CRS before this operation.\n",
      "\n",
      "  counties.geometry.area\n"
     ]
    },
    {
     "data": {
      "text/plain": [
       "0     0.217411\n",
       "1     0.198471\n",
       "2     0.161961\n",
       "3     0.455899\n",
       "4     0.275908\n",
       "        ...   \n",
       "64    0.000059\n",
       "65    0.000174\n",
       "66    0.000041\n",
       "67    0.014070\n",
       "68    0.018707\n",
       "Length: 69, dtype: float64"
      ]
     },
     "execution_count": 31,
     "metadata": {},
     "output_type": "execute_result"
    }
   ],
   "source": [
    "counties.geometry.area"
   ]
  },
  {
   "cell_type": "code",
   "execution_count": null,
   "id": "f6f184fa-6e2f-4e3a-80a9-2c420ccee9cb",
   "metadata": {},
   "outputs": [],
   "source": []
  }
 ],
 "metadata": {
  "kernelspec": {
   "display_name": "Python 3 (ipykernel)",
   "language": "python",
   "name": "python3"
  },
  "language_info": {
   "codemirror_mode": {
    "name": "ipython",
    "version": 3
   },
   "file_extension": ".py",
   "mimetype": "text/x-python",
   "name": "python",
   "nbconvert_exporter": "python",
   "pygments_lexer": "ipython3",
   "version": "3.9.13"
  }
 },
 "nbformat": 4,
 "nbformat_minor": 5
}
