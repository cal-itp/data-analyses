{
 "cells": [
  {
   "cell_type": "markdown",
   "id": "8ccf5809-6ac9-4446-9258-cd1dea4ba3a4",
   "metadata": {},
   "source": [
    "## Exercise 4: Data Warehouse Querying and Basic Geospatial Operations\n",
    "\n",
    "Skills: \n",
    "* Query data warehouse table\n",
    "* Use dictionary to map values\n",
    "\n",
    "References: \n",
    "* https://docs.calitp.org/data-infra/analytics_new_analysts/05-spatial-analysis-basics.html\n",
    "* https://docs.calitp.org/data-infra/analytics_new_analysts/06-spatial-analysis-intro.html\n",
    "* https://docs.calitp.org/data-infra/analytics_new_analysts/07-spatial-analysis-intermediate.html\n",
    "* https://github.com/jorisvandenbossche/geopandas-tutorial"
   ]
  },
  {
   "cell_type": "code",
   "execution_count": 1,
   "id": "9305f4e1-446d-432f-bc0e-e69284fdce71",
   "metadata": {},
   "outputs": [
    {
     "name": "stderr",
     "output_type": "stream",
     "text": [
      "/opt/conda/lib/python3.9/site-packages/geopandas/_compat.py:124: UserWarning: The Shapely GEOS version (3.11.1-CAPI-1.17.1) is incompatible with the GEOS version PyGEOS was compiled with (3.10.1-CAPI-1.16.0). Conversions between both will be slow.\n",
      "  warnings.warn(\n",
      "/tmp/ipykernel_117/433137083.py:1: DeprecationWarning: Shapely 2.0 is installed, but because PyGEOS is also installed, GeoPandas still uses PyGEOS by default. However, starting with version 0.14, the default will switch to Shapely. To force to use Shapely 2.0 now, you can either uninstall PyGEOS or set the environment variable USE_PYGEOS=0. You can do this before starting the Python process, or in your code before importing geopandas:\n",
      "\n",
      "import os\n",
      "os.environ['USE_PYGEOS'] = '0'\n",
      "import geopandas\n",
      "\n",
      "In the next release, GeoPandas will switch to using Shapely by default, even if PyGEOS is installed. If you only have PyGEOS installed to get speed-ups, this switch should be smooth. However, if you are using PyGEOS directly (calling PyGEOS functions on geometries from GeoPandas), this will then stop working and you are encouraged to migrate from PyGEOS to Shapely 2.0 (https://shapely.readthedocs.io/en/latest/migration_pygeos.html).\n",
      "  import geopandas as gpd\n"
     ]
    }
   ],
   "source": [
    "import geopandas as gpd\n",
    "import pandas as pd\n",
    "import os\n",
    "\n",
    "#os.environ[\"CALITP_BQ_MAX_BYTES\"] = str(100_000_000_000)\n",
    "pd.set_option(\"display.max_rows\", 20)\n",
    "\n",
    "#from calitp_data_analysis.tables import tbls\n",
    "#from calitp_data_analysis.sql import query_sql\n",
    "from siuba import *\n",
    "FOLDER = \"./data/\"\n",
    "FILE_NAME = \"exercise_4_stops_sample.parquet\"\n",
    "stops=pd.read_parquet(f\"{FOLDER}{FILE_NAME}\")"
   ]
  },
  {
   "cell_type": "markdown",
   "id": "95d24d7b-17b2-481c-bdc5-d03a25facc11",
   "metadata": {},
   "source": [
    "## Query a table, turn it into a gdf\n",
    "\n",
    "You will query the warehouse table for 2 operators, Caltrain and Merced. A `feed_key` is a hash identifier, there's no real meaning to it, but it uniquely identifies a feed for that day.\n",
    "\n",
    "The `feed_key` values for those 2 operators for 6/1/2022 are provided. \n",
    "\n",
    "* Query `mart_gtfs.dim_stops`\n",
    "* Filter to the feed keys of interest\n",
    "* Select these columns: `feed_key`, `stop_id`, `stop_lat`, `stop_lon`, `stop_name`\n",
    "* Return as a dataframe using `collect()`\n",
    "* Turn the point data into geometry with `geopandas`: [docs](https://geopandas.org/en/stable/docs/reference/api/geopandas.points_from_xy.html)"
   ]
  },
  {
   "cell_type": "code",
   "execution_count": null,
   "id": "a83cda9e-c642-4acf-8668-d5626dd7d948",
   "metadata": {},
   "outputs": [],
   "source": [
    "FEEDS = [\n",
    "    \"25c6505166c01099b2f6f2de173e20b9\", # Caltrain\n",
    "    \"52639f09eb535f75b33d2c6a654cb89e\", # Merced\n",
    "]\n",
    "\n",
    "stops = pd.read_parquet('./data/exercise_4_stops_sample.parquet')\n",
    "stops = (\n",
    "    tbls.mart_gtfs.dim_stops()\n",
    "    >> filter(_.feed_key.isin(FEEDS))\n",
    "    >> select(_.feed_key, _.stop_id, \n",
    "             _.stop_lat, _.stop_lon, _.stop_name)\n",
    "    >> arrange(_.feed_key, _.stop_id, \n",
    "               _.stop_lat, _.stop_lon)\n",
    "    >> collect() \n",
    ")"
   ]
  },
  {
   "cell_type": "code",
   "execution_count": 2,
   "id": "4fd01576-1163-421b-b7d1-02e6d5c065e2",
   "metadata": {},
   "outputs": [
    {
     "data": {
      "text/html": [
       "<div>\n",
       "<style scoped>\n",
       "    .dataframe tbody tr th:only-of-type {\n",
       "        vertical-align: middle;\n",
       "    }\n",
       "\n",
       "    .dataframe tbody tr th {\n",
       "        vertical-align: top;\n",
       "    }\n",
       "\n",
       "    .dataframe thead th {\n",
       "        text-align: right;\n",
       "    }\n",
       "</style>\n",
       "<table border=\"1\" class=\"dataframe\">\n",
       "  <thead>\n",
       "    <tr style=\"text-align: right;\">\n",
       "      <th></th>\n",
       "      <th>feed_key</th>\n",
       "      <th>stop_id</th>\n",
       "      <th>stop_lat</th>\n",
       "      <th>stop_lon</th>\n",
       "      <th>stop_name</th>\n",
       "    </tr>\n",
       "  </thead>\n",
       "  <tbody>\n",
       "    <tr>\n",
       "      <th>0</th>\n",
       "      <td>52639f09eb535f75b33d2c6a654cb89e</td>\n",
       "      <td>768319</td>\n",
       "      <td>37.067249</td>\n",
       "      <td>-120.855585</td>\n",
       "      <td>G St @ Davita Dialysis (southbound)</td>\n",
       "    </tr>\n",
       "    <tr>\n",
       "      <th>1</th>\n",
       "      <td>52639f09eb535f75b33d2c6a654cb89e</td>\n",
       "      <td>768398</td>\n",
       "      <td>37.345519</td>\n",
       "      <td>-120.608472</td>\n",
       "      <td>Atwater Transpo</td>\n",
       "    </tr>\n",
       "    <tr>\n",
       "      <th>2</th>\n",
       "      <td>25c6505166c01099b2f6f2de173e20b9</td>\n",
       "      <td>san_carlos</td>\n",
       "      <td>37.508033</td>\n",
       "      <td>-122.260200</td>\n",
       "      <td>San Carlos</td>\n",
       "    </tr>\n",
       "    <tr>\n",
       "      <th>3</th>\n",
       "      <td>52639f09eb535f75b33d2c6a654cb89e</td>\n",
       "      <td>768199</td>\n",
       "      <td>37.382422</td>\n",
       "      <td>-120.723304</td>\n",
       "      <td>Main St @ F St (northbound)</td>\n",
       "    </tr>\n",
       "    <tr>\n",
       "      <th>4</th>\n",
       "      <td>52639f09eb535f75b33d2c6a654cb89e</td>\n",
       "      <td>768413</td>\n",
       "      <td>37.353220</td>\n",
       "      <td>-120.613861</td>\n",
       "      <td>Winton @ Grove (southbound)</td>\n",
       "    </tr>\n",
       "  </tbody>\n",
       "</table>\n",
       "</div>"
      ],
      "text/plain": [
       "                           feed_key     stop_id   stop_lat    stop_lon  \\\n",
       "0  52639f09eb535f75b33d2c6a654cb89e      768319  37.067249 -120.855585   \n",
       "1  52639f09eb535f75b33d2c6a654cb89e      768398  37.345519 -120.608472   \n",
       "2  25c6505166c01099b2f6f2de173e20b9  san_carlos  37.508033 -122.260200   \n",
       "3  52639f09eb535f75b33d2c6a654cb89e      768199  37.382422 -120.723304   \n",
       "4  52639f09eb535f75b33d2c6a654cb89e      768413  37.353220 -120.613861   \n",
       "\n",
       "                             stop_name  \n",
       "0  G St @ Davita Dialysis (southbound)  \n",
       "1                      Atwater Transpo  \n",
       "2                           San Carlos  \n",
       "3          Main St @ F St (northbound)  \n",
       "4          Winton @ Grove (southbound)  "
      ]
     },
     "execution_count": 2,
     "metadata": {},
     "output_type": "execute_result"
    }
   ],
   "source": [
    "stops.head()"
   ]
  },
  {
   "cell_type": "code",
   "execution_count": 4,
   "id": "45d1481c-b06d-4f76-84bf-eda3edf35128",
   "metadata": {},
   "outputs": [],
   "source": [
    "#Turn the point data into geometry with geopandas???????\n",
    "\n",
    "gdf = gpd.GeoDataFrame(\n",
    "    stops, \n",
    "    geometry=gpd.points_from_xy(stops['stop_lon'], stops['stop_lat']),\n",
    "    crs='EPSG:4326'\n",
    ")"
   ]
  },
  {
   "cell_type": "code",
   "execution_count": 5,
   "id": "1d1d8039-ee32-49a6-85ba-2691a25fbdab",
   "metadata": {},
   "outputs": [
    {
     "data": {
      "text/plain": [
       "<Geographic 2D CRS: EPSG:4326>\n",
       "Name: WGS 84\n",
       "Axis Info [ellipsoidal]:\n",
       "- Lat[north]: Geodetic latitude (degree)\n",
       "- Lon[east]: Geodetic longitude (degree)\n",
       "Area of Use:\n",
       "- name: World.\n",
       "- bounds: (-180.0, -90.0, 180.0, 90.0)\n",
       "Datum: World Geodetic System 1984 ensemble\n",
       "- Ellipsoid: WGS 84\n",
       "- Prime Meridian: Greenwich"
      ]
     },
     "execution_count": 5,
     "metadata": {},
     "output_type": "execute_result"
    }
   ],
   "source": [
    "gdf.crs"
   ]
  },
  {
   "cell_type": "markdown",
   "id": "8e38ba6d-0461-4910-8991-05283ecd4a2f",
   "metadata": {},
   "source": [
    "## Use a dictionary to map values\n",
    "\n",
    "* Create a new column called `operator` where `feed_key` is associated with its operator name.\n",
    "* First, write a function to do it.\n",
    "* Then, use a dictionary to do it (create new column called `agency`).\n",
    "* Double check that `operator` and `agency` show the same values. Use `assert` to check.\n",
    "    * `assert df.operator == df.agency`\n",
    "* Hint: https://docs.calitp.org/data-infra/analytics_new_analysts/02-data-analysis-intermediate.html"
   ]
  },
  {
   "cell_type": "code",
   "execution_count": 6,
   "id": "6d7f5c24-ab94-46cb-bbf9-28e9aaa180ad",
   "metadata": {},
   "outputs": [
    {
     "data": {
      "text/plain": [
       "52639f09eb535f75b33d2c6a654cb89e    197\n",
       "25c6505166c01099b2f6f2de173e20b9     35\n",
       "Name: feed_key, dtype: int64"
      ]
     },
     "execution_count": 6,
     "metadata": {},
     "output_type": "execute_result"
    }
   ],
   "source": [
    "stops.feed_key.value_counts()"
   ]
  },
  {
   "cell_type": "code",
   "execution_count": 7,
   "id": "7b83b31c-3fde-4933-a3d1-f4e97be2cd4f",
   "metadata": {},
   "outputs": [],
   "source": [
    "def name1(row):\n",
    "    if row.feed_key == '52639f09eb535f75b33d2c6a654cb89e':\n",
    "        return 'a'\n",
    "    elif row.feed_key == '25c6505166c01099b2f6f2de173e20b9':\n",
    "        return 'b'\n",
    "    else:\n",
    "        return 'other'\n",
    "stops['operator'] = stops.apply(name1, axis = 1)"
   ]
  },
  {
   "cell_type": "code",
   "execution_count": 8,
   "id": "ca0e60ca-5905-4bb4-afaa-26e8508e0b0f",
   "metadata": {},
   "outputs": [],
   "source": [
    "#using a dictionary\n",
    "name2={'52639f09eb535f75b33d2c6a654cb89e': 'a', '25c6505166c01099b2f6f2de173e20b9': 'b'}\n",
    "\n",
    "stops['agency'] = stops.feed_key.map(name2)"
   ]
  },
  {
   "cell_type": "code",
   "execution_count": 9,
   "id": "f32b0bfa-7232-4a98-88af-2f3f936b2106",
   "metadata": {},
   "outputs": [
    {
     "data": {
      "text/plain": [
       "0      True\n",
       "1      True\n",
       "2      True\n",
       "3      True\n",
       "4      True\n",
       "       ... \n",
       "227    True\n",
       "228    True\n",
       "229    True\n",
       "230    True\n",
       "231    True\n",
       "Length: 232, dtype: bool"
      ]
     },
     "execution_count": 9,
     "metadata": {},
     "output_type": "execute_result"
    }
   ],
   "source": [
    "#two methods got the same answer. do i have to type 'assert' in the front???\n",
    "stops.operator == stops.agency"
   ]
  },
  {
   "cell_type": "code",
   "execution_count": 10,
   "id": "814a2d75-f129-4415-95a6-e0da87ebd095",
   "metadata": {},
   "outputs": [],
   "source": [
    "#another way to do this\n",
    "assert(stops.operator == stops.agency).all()"
   ]
  },
  {
   "cell_type": "markdown",
   "id": "43c9198e-9cff-4025-9535-fa899b7a2a2d",
   "metadata": {},
   "source": [
    "## Turn lat/lon into point geometry\n",
    "\n",
    "* There is a [function in shared_utils](https://github.com/cal-itp/data-analyses/blob/main/_shared_utils/shared_utils/geography_utils.py#L170-L192) that does it. Show the steps within the function (the long way), and also create the `geometry` column using `shared_utils`.\n",
    "* Use `geography_utils.create_point_geometry??` to see what goes into that function, and what that function looks like under the hood."
   ]
  },
  {
   "cell_type": "code",
   "execution_count": 13,
   "id": "64e9f2a4-7eaf-4c17-9813-444702bfb3aa",
   "metadata": {},
   "outputs": [],
   "source": [
    "# Rename columns\n",
    "stops.rename(columns = {'stop_lon': 'longitude', 'stop_lat':'latitude'}, inplace=True)\n",
    "\n",
    "# Create geometry column\n",
    "gdf = gpd.points_from_xy(stops.longitude, stops.latitude, crs=\"EPSG:4326\")\n",
    "stops['geometry']=gdf\n"
   ]
  },
  {
   "cell_type": "code",
   "execution_count": 14,
   "id": "004438a4-f642-4fa5-af42-5ff9c3724cd7",
   "metadata": {},
   "outputs": [
    {
     "data": {
      "text/html": [
       "<div>\n",
       "<style scoped>\n",
       "    .dataframe tbody tr th:only-of-type {\n",
       "        vertical-align: middle;\n",
       "    }\n",
       "\n",
       "    .dataframe tbody tr th {\n",
       "        vertical-align: top;\n",
       "    }\n",
       "\n",
       "    .dataframe thead th {\n",
       "        text-align: right;\n",
       "    }\n",
       "</style>\n",
       "<table border=\"1\" class=\"dataframe\">\n",
       "  <thead>\n",
       "    <tr style=\"text-align: right;\">\n",
       "      <th></th>\n",
       "      <th>feed_key</th>\n",
       "      <th>stop_id</th>\n",
       "      <th>latitude</th>\n",
       "      <th>longitude</th>\n",
       "      <th>stop_name</th>\n",
       "      <th>operator</th>\n",
       "      <th>agency</th>\n",
       "      <th>geometry</th>\n",
       "    </tr>\n",
       "  </thead>\n",
       "  <tbody>\n",
       "    <tr>\n",
       "      <th>0</th>\n",
       "      <td>52639f09eb535f75b33d2c6a654cb89e</td>\n",
       "      <td>768319</td>\n",
       "      <td>37.067249</td>\n",
       "      <td>-120.855585</td>\n",
       "      <td>G St @ Davita Dialysis (southbound)</td>\n",
       "      <td>a</td>\n",
       "      <td>a</td>\n",
       "      <td>POINT (-120.85559 37.06725)</td>\n",
       "    </tr>\n",
       "    <tr>\n",
       "      <th>1</th>\n",
       "      <td>52639f09eb535f75b33d2c6a654cb89e</td>\n",
       "      <td>768398</td>\n",
       "      <td>37.345519</td>\n",
       "      <td>-120.608472</td>\n",
       "      <td>Atwater Transpo</td>\n",
       "      <td>a</td>\n",
       "      <td>a</td>\n",
       "      <td>POINT (-120.60847 37.34552)</td>\n",
       "    </tr>\n",
       "    <tr>\n",
       "      <th>2</th>\n",
       "      <td>25c6505166c01099b2f6f2de173e20b9</td>\n",
       "      <td>san_carlos</td>\n",
       "      <td>37.508033</td>\n",
       "      <td>-122.260200</td>\n",
       "      <td>San Carlos</td>\n",
       "      <td>b</td>\n",
       "      <td>b</td>\n",
       "      <td>POINT (-122.26020 37.50803)</td>\n",
       "    </tr>\n",
       "    <tr>\n",
       "      <th>3</th>\n",
       "      <td>52639f09eb535f75b33d2c6a654cb89e</td>\n",
       "      <td>768199</td>\n",
       "      <td>37.382422</td>\n",
       "      <td>-120.723304</td>\n",
       "      <td>Main St @ F St (northbound)</td>\n",
       "      <td>a</td>\n",
       "      <td>a</td>\n",
       "      <td>POINT (-120.72330 37.38242)</td>\n",
       "    </tr>\n",
       "    <tr>\n",
       "      <th>4</th>\n",
       "      <td>52639f09eb535f75b33d2c6a654cb89e</td>\n",
       "      <td>768413</td>\n",
       "      <td>37.353220</td>\n",
       "      <td>-120.613861</td>\n",
       "      <td>Winton @ Grove (southbound)</td>\n",
       "      <td>a</td>\n",
       "      <td>a</td>\n",
       "      <td>POINT (-120.61386 37.35322)</td>\n",
       "    </tr>\n",
       "  </tbody>\n",
       "</table>\n",
       "</div>"
      ],
      "text/plain": [
       "                           feed_key     stop_id   latitude   longitude  \\\n",
       "0  52639f09eb535f75b33d2c6a654cb89e      768319  37.067249 -120.855585   \n",
       "1  52639f09eb535f75b33d2c6a654cb89e      768398  37.345519 -120.608472   \n",
       "2  25c6505166c01099b2f6f2de173e20b9  san_carlos  37.508033 -122.260200   \n",
       "3  52639f09eb535f75b33d2c6a654cb89e      768199  37.382422 -120.723304   \n",
       "4  52639f09eb535f75b33d2c6a654cb89e      768413  37.353220 -120.613861   \n",
       "\n",
       "                             stop_name operator agency  \\\n",
       "0  G St @ Davita Dialysis (southbound)        a      a   \n",
       "1                      Atwater Transpo        a      a   \n",
       "2                           San Carlos        b      b   \n",
       "3          Main St @ F St (northbound)        a      a   \n",
       "4          Winton @ Grove (southbound)        a      a   \n",
       "\n",
       "                      geometry  \n",
       "0  POINT (-120.85559 37.06725)  \n",
       "1  POINT (-120.60847 37.34552)  \n",
       "2  POINT (-122.26020 37.50803)  \n",
       "3  POINT (-120.72330 37.38242)  \n",
       "4  POINT (-120.61386 37.35322)  "
      ]
     },
     "execution_count": 14,
     "metadata": {},
     "output_type": "execute_result"
    }
   ],
   "source": [
    "stops.head()"
   ]
  },
  {
   "cell_type": "code",
   "execution_count": null,
   "id": "f27bde2b-bf4f-4eba-b5f9-d9f9c87ec678",
   "metadata": {},
   "outputs": [],
   "source": [
    "#Another way\n",
    "# Default CRS for stop_lon, stop_lat is WGS84\n",
    "stops = stops.assign(geometry=gpd.points_from_xy(df[stop_lon], df[stop_lat], crs=\"EPSG:4326\")"
   ]
  },
  {
   "cell_type": "code",
   "execution_count": null,
   "id": "0f4b94ec-fbc7-4058-9326-efc1367b0693",
   "metadata": {},
   "outputs": [],
   "source": [
    "# Another way: Use geography_utils.create_point_geometry?? to see what goes into that function,\n",
    "#and what that function looks like under the hood.\n",
    "def create_point_geometry(\n",
    "    stops: pd.DataFrame,\n",
    "    longitude_col: str = \"stop_lon\",\n",
    "    latitude_col: str = \"stop_lat\",\n",
    "    crs: str = crs=\"EPSG:4326\",\n",
    ") -> gpd.GeoDataFrame"
   ]
  },
  {
   "cell_type": "markdown",
   "id": "8a21eac3-ac67-47d8-b4c8-694192fdd796",
   "metadata": {},
   "source": [
    "Basic stuff about a geodataframe.\n",
    "\n",
    "A gdf would have a coordinate reference system that converts the points or lines into a place on the spherical Earth. The most common CRS is called `WGS 84`, and its code is `EPSG:4326`. This is what you'd see when you use Google Maps to find lat/lon of a place.\n",
    "\n",
    "[Read](https://desktop.arcgis.com/en/arcmap/latest/map/projections/about-geographic-coordinate-systems.htm) about the `WGS 84` geographic coordinate system.\n",
    "\n",
    "[Read](https://desktop.arcgis.com/en/arcmap/latest/map/projections/about-projected-coordinate-systems.htm) about projected coordinate reference systems, which is essentially about flattening our spherical Earth into a 2D plane so we can measure distances and whatnot.\n",
    "\n",
    "* Is it a pandas dataframe or a geopandas geodataframe?: `type(gdf)`\n",
    "* Coordinate reference system: `gdf.crs`\n",
    "* gdfs must have a geometry column. Find the name of the column that is geometry: `gdf.geometry.name`\n",
    "* Project the coordinate reference system to something else: `gdf = gdf.to_crs(\"EPSG:2229\")` and check."
   ]
  },
  {
   "cell_type": "code",
   "execution_count": 15,
   "id": "5b2a3ed0-40f8-4fc6-a46e-9480293e81f2",
   "metadata": {},
   "outputs": [
    {
     "data": {
      "text/plain": [
       "geopandas.array.GeometryArray"
      ]
     },
     "execution_count": 15,
     "metadata": {},
     "output_type": "execute_result"
    }
   ],
   "source": [
    "type(gdf)"
   ]
  },
  {
   "cell_type": "code",
   "execution_count": 16,
   "id": "9d917695-3557-479f-81fa-4a9e05761dcc",
   "metadata": {},
   "outputs": [
    {
     "data": {
      "text/plain": [
       "<Geographic 2D CRS: EPSG:4326>\n",
       "Name: WGS 84\n",
       "Axis Info [ellipsoidal]:\n",
       "- Lat[north]: Geodetic latitude (degree)\n",
       "- Lon[east]: Geodetic longitude (degree)\n",
       "Area of Use:\n",
       "- name: World.\n",
       "- bounds: (-180.0, -90.0, 180.0, 90.0)\n",
       "Datum: World Geodetic System 1984 ensemble\n",
       "- Ellipsoid: WGS 84\n",
       "- Prime Meridian: Greenwich"
      ]
     },
     "execution_count": 16,
     "metadata": {},
     "output_type": "execute_result"
    }
   ],
   "source": [
    "gdf.crs"
   ]
  },
  {
   "cell_type": "code",
   "execution_count": 18,
   "id": "f917fcf6-5f52-4375-9b8b-48628abbfc49",
   "metadata": {},
   "outputs": [
    {
     "data": {
      "text/plain": [
       "'geometry'"
      ]
     },
     "execution_count": 18,
     "metadata": {},
     "output_type": "execute_result"
    }
   ],
   "source": [
    "stops.geometry.name"
   ]
  },
  {
   "cell_type": "code",
   "execution_count": null,
   "id": "5b2b4c07-c369-4e17-88ff-486047b3e8c5",
   "metadata": {},
   "outputs": [],
   "source": [
    "gdf = gdf.to_crs(\"EPSG:2229\")"
   ]
  },
  {
   "cell_type": "markdown",
   "id": "d242e5b6-90f9-44ac-bb9f-fd1139e795f2",
   "metadata": {},
   "source": [
    "* This GitHub repo has several `geopandas` tutorials that covers basic spatial concepts: https://github.com/jorisvandenbossche/geopandas-tutorial. \n",
    "* Skim through the notebooks to see some of the concepts demonstrated, although to actually run the notebooks, you can click on `launch binder` in the repo's README to do so."
   ]
  },
  {
   "cell_type": "markdown",
   "id": "5b9dc620-41f2-4d69-9d69-00e8d90276f9",
   "metadata": {
    "tags": []
   },
   "source": [
    "## Spatial Join (which points fall into which polygon)\n",
    "\n",
    "This URL gives you CA county boundaries: https://gis.data.ca.gov/datasets/CALFIRE-Forestry::california-county-boundaries/explore?location=37.246136%2C-119.002032%2C6.12\n",
    "\n",
    "* Go to \"I want to use this\" > View API Resources > copy link for geojson\n",
    "* Read in the geojson with `geopandas` and make it a geodataframe: `gpd.read_file(LONG_URL_PATH)`\n",
    "* Double check that the coordinate reference system is the same for both gdfs using `gdf.crs`. If not, change it so they are the same.\n",
    "* Spatial join stops to counties: [docs](https://geopandas.org/en/stable/docs/reference/api/geopandas.sjoin.html)\n",
    "    * Play with inner join or left join, what's the difference? Which one do you want?\n",
    "    * Play with switching around the left_df and right_df, what's the right order?\n",
    "* By county: count number of stops and stops per sq_mi.\n",
    "    * Hint 1: Start with a CRS with units in feet or meters, then do a conversion to sq mi. [CRS in shared_utils](https://github.com/cal-itp/data-analyses/blob/main/_shared_utils/shared_utils/geography_utils.py)\n",
    "    * Hint 2: to find area, you can create a new column and calculate `gdf.geometry.area`. [geometry manipulations docs](https://geopandas.org/en/stable/docs/user_guide/geometric_manipulations.html)"
   ]
  },
  {
   "cell_type": "code",
   "execution_count": 19,
   "id": "20776a56-08e6-4bc4-a416-5fffbfcec96c",
   "metadata": {},
   "outputs": [],
   "source": [
    "counties = gpd.read_file('https://services1.arcgis.com/jUJYIo9tSA7EHvfZ/arcgis/rest/services/California_County_Boundaries/FeatureServer/0/query?outFields=*&where=1%3D1&f=geojson')"
   ]
  },
  {
   "cell_type": "code",
   "execution_count": 20,
   "id": "28980418-5399-40a1-9307-028aaabea353",
   "metadata": {},
   "outputs": [
    {
     "data": {
      "text/html": [
       "<div>\n",
       "<style scoped>\n",
       "    .dataframe tbody tr th:only-of-type {\n",
       "        vertical-align: middle;\n",
       "    }\n",
       "\n",
       "    .dataframe tbody tr th {\n",
       "        vertical-align: top;\n",
       "    }\n",
       "\n",
       "    .dataframe thead th {\n",
       "        text-align: right;\n",
       "    }\n",
       "</style>\n",
       "<table border=\"1\" class=\"dataframe\">\n",
       "  <thead>\n",
       "    <tr style=\"text-align: right;\">\n",
       "      <th></th>\n",
       "      <th>OBJECTID</th>\n",
       "      <th>COUNTY_NAME</th>\n",
       "      <th>COUNTY_ABBREV</th>\n",
       "      <th>COUNTY_NUM</th>\n",
       "      <th>COUNTY_CODE</th>\n",
       "      <th>COUNTY_FIPS</th>\n",
       "      <th>ISLAND</th>\n",
       "      <th>Shape__Area</th>\n",
       "      <th>Shape__Length</th>\n",
       "      <th>GlobalID</th>\n",
       "      <th>geometry</th>\n",
       "    </tr>\n",
       "  </thead>\n",
       "  <tbody>\n",
       "    <tr>\n",
       "      <th>0</th>\n",
       "      <td>1</td>\n",
       "      <td>Alameda</td>\n",
       "      <td>ALA</td>\n",
       "      <td>1</td>\n",
       "      <td>01</td>\n",
       "      <td>001</td>\n",
       "      <td>NaN</td>\n",
       "      <td>3.402787e+09</td>\n",
       "      <td>308998.650766</td>\n",
       "      <td>e6f92268-d2dd-4cfb-8b79-5b4b2f07c559</td>\n",
       "      <td>POLYGON ((-122.27125 37.90503, -122.27024 37.9...</td>\n",
       "    </tr>\n",
       "    <tr>\n",
       "      <th>1</th>\n",
       "      <td>2</td>\n",
       "      <td>Alpine</td>\n",
       "      <td>ALP</td>\n",
       "      <td>2</td>\n",
       "      <td>02</td>\n",
       "      <td>003</td>\n",
       "      <td>NaN</td>\n",
       "      <td>3.146939e+09</td>\n",
       "      <td>274888.492411</td>\n",
       "      <td>870479b2-480a-494b-8352-ad60578839c1</td>\n",
       "      <td>POLYGON ((-119.58667 38.71420, -119.58653 38.7...</td>\n",
       "    </tr>\n",
       "    <tr>\n",
       "      <th>2</th>\n",
       "      <td>3</td>\n",
       "      <td>Amador</td>\n",
       "      <td>AMA</td>\n",
       "      <td>3</td>\n",
       "      <td>03</td>\n",
       "      <td>005</td>\n",
       "      <td>NaN</td>\n",
       "      <td>2.562635e+09</td>\n",
       "      <td>361708.438013</td>\n",
       "      <td>4f45b3a6-be10-461c-8945-6b2aaa7119f6</td>\n",
       "      <td>POLYGON ((-120.07246 38.70276, -120.07249 38.6...</td>\n",
       "    </tr>\n",
       "    <tr>\n",
       "      <th>3</th>\n",
       "      <td>4</td>\n",
       "      <td>Butte</td>\n",
       "      <td>BUT</td>\n",
       "      <td>4</td>\n",
       "      <td>04</td>\n",
       "      <td>007</td>\n",
       "      <td>NaN</td>\n",
       "      <td>7.339348e+09</td>\n",
       "      <td>526547.115238</td>\n",
       "      <td>44fba680-aecc-4e04-a499-29d69affbd4a</td>\n",
       "      <td>POLYGON ((-121.07661 39.59729, -121.07945 39.5...</td>\n",
       "    </tr>\n",
       "    <tr>\n",
       "      <th>4</th>\n",
       "      <td>5</td>\n",
       "      <td>Calaveras</td>\n",
       "      <td>CAL</td>\n",
       "      <td>5</td>\n",
       "      <td>05</td>\n",
       "      <td>009</td>\n",
       "      <td>NaN</td>\n",
       "      <td>4.351069e+09</td>\n",
       "      <td>370637.578323</td>\n",
       "      <td>d11ef739-4a1e-414e-bfd1-e7dcd56cd61e</td>\n",
       "      <td>POLYGON ((-120.01792 38.43586, -120.01788 38.4...</td>\n",
       "    </tr>\n",
       "  </tbody>\n",
       "</table>\n",
       "</div>"
      ],
      "text/plain": [
       "   OBJECTID COUNTY_NAME COUNTY_ABBREV  COUNTY_NUM COUNTY_CODE COUNTY_FIPS  \\\n",
       "0         1     Alameda           ALA           1          01         001   \n",
       "1         2      Alpine           ALP           2          02         003   \n",
       "2         3      Amador           AMA           3          03         005   \n",
       "3         4       Butte           BUT           4          04         007   \n",
       "4         5   Calaveras           CAL           5          05         009   \n",
       "\n",
       "  ISLAND   Shape__Area  Shape__Length                              GlobalID  \\\n",
       "0    NaN  3.402787e+09  308998.650766  e6f92268-d2dd-4cfb-8b79-5b4b2f07c559   \n",
       "1    NaN  3.146939e+09  274888.492411  870479b2-480a-494b-8352-ad60578839c1   \n",
       "2    NaN  2.562635e+09  361708.438013  4f45b3a6-be10-461c-8945-6b2aaa7119f6   \n",
       "3    NaN  7.339348e+09  526547.115238  44fba680-aecc-4e04-a499-29d69affbd4a   \n",
       "4    NaN  4.351069e+09  370637.578323  d11ef739-4a1e-414e-bfd1-e7dcd56cd61e   \n",
       "\n",
       "                                            geometry  \n",
       "0  POLYGON ((-122.27125 37.90503, -122.27024 37.9...  \n",
       "1  POLYGON ((-119.58667 38.71420, -119.58653 38.7...  \n",
       "2  POLYGON ((-120.07246 38.70276, -120.07249 38.6...  \n",
       "3  POLYGON ((-121.07661 39.59729, -121.07945 39.5...  \n",
       "4  POLYGON ((-120.01792 38.43586, -120.01788 38.4...  "
      ]
     },
     "execution_count": 20,
     "metadata": {},
     "output_type": "execute_result"
    }
   ],
   "source": [
    "counties.head()"
   ]
  },
  {
   "cell_type": "code",
   "execution_count": null,
   "id": "106ffea3-1016-4786-9bcc-1a89fffdbf79",
   "metadata": {},
   "outputs": [],
   "source": [
    "# If the CRS is not set after checking it with gdf.crs\n",
    "\n",
    "#gdf = gdf.set_crs('EPSG:4326')\n"
   ]
  },
  {
   "cell_type": "code",
   "execution_count": 22,
   "id": "03072cb4-5d92-4ea7-a715-7bb4293a8fe4",
   "metadata": {},
   "outputs": [],
   "source": [
    "counties = counties.to_crs('EPSG:4326')"
   ]
  },
  {
   "cell_type": "code",
   "execution_count": 23,
   "id": "2ab05358-8602-4998-8fad-53853993df8b",
   "metadata": {},
   "outputs": [
    {
     "data": {
      "text/plain": [
       "<Geographic 2D CRS: EPSG:4326>\n",
       "Name: WGS 84\n",
       "Axis Info [ellipsoidal]:\n",
       "- Lat[north]: Geodetic latitude (degree)\n",
       "- Lon[east]: Geodetic longitude (degree)\n",
       "Area of Use:\n",
       "- name: World.\n",
       "- bounds: (-180.0, -90.0, 180.0, 90.0)\n",
       "Datum: World Geodetic System 1984 ensemble\n",
       "- Ellipsoid: WGS 84\n",
       "- Prime Meridian: Greenwich"
      ]
     },
     "execution_count": 23,
     "metadata": {},
     "output_type": "execute_result"
    }
   ],
   "source": [
    "gdf.crs"
   ]
  },
  {
   "cell_type": "code",
   "execution_count": 24,
   "id": "382651db-2bb2-4dd9-8e3e-3bad9bd40676",
   "metadata": {},
   "outputs": [],
   "source": [
    "merge1 = pd.merge(counties, stops, on = 'geometry',\n",
    "    how = 'inner', validate = 'm:1')"
   ]
  },
  {
   "cell_type": "code",
   "execution_count": 26,
   "id": "2f004814-3f3f-465c-a39f-bc7319859066",
   "metadata": {},
   "outputs": [],
   "source": [
    "merge2 = pd.merge(counties, stops, left_on = 'COUNTY_NAME',\n",
    "    right_on = 'geometry', how = 'left', validate = 'm:1')"
   ]
  },
  {
   "cell_type": "code",
   "execution_count": 30,
   "id": "05442cb0-93b0-4676-b5a2-25eac9a1b7f8",
   "metadata": {},
   "outputs": [
    {
     "ename": "ValueError",
     "evalue": "'left_df' should be GeoDataFrame, got <class 'pandas.core.frame.DataFrame'>",
     "output_type": "error",
     "traceback": [
      "\u001b[0;31m---------------------------------------------------------------------------\u001b[0m",
      "\u001b[0;31mValueError\u001b[0m                                Traceback (most recent call last)",
      "Cell \u001b[0;32mIn[30], line 1\u001b[0m\n\u001b[0;32m----> 1\u001b[0m \u001b[43mgpd\u001b[49m\u001b[38;5;241;43m.\u001b[39;49m\u001b[43msjoin\u001b[49m\u001b[43m(\u001b[49m\u001b[43mstops\u001b[49m\u001b[43m,\u001b[49m\u001b[43m \u001b[49m\u001b[43mcounties\u001b[49m\u001b[43m,\u001b[49m\u001b[43m \u001b[49m\u001b[43mhow\u001b[49m\u001b[38;5;241;43m=\u001b[39;49m\u001b[38;5;124;43m'\u001b[39;49m\u001b[38;5;124;43minner\u001b[39;49m\u001b[38;5;124;43m'\u001b[39;49m\u001b[43m,\u001b[49m\u001b[43m \u001b[49m\u001b[43mpredicate\u001b[49m\u001b[38;5;241;43m=\u001b[39;49m\u001b[38;5;124;43m'\u001b[39;49m\u001b[38;5;124;43mintersects\u001b[39;49m\u001b[38;5;124;43m'\u001b[39;49m\u001b[43m,\u001b[49m\u001b[43m \u001b[49m\u001b[43mlsuffix\u001b[49m\u001b[38;5;241;43m=\u001b[39;49m\u001b[38;5;124;43m'\u001b[39;49m\u001b[38;5;124;43mleft\u001b[39;49m\u001b[38;5;124;43m'\u001b[39;49m\u001b[43m,\u001b[49m\u001b[43m \u001b[49m\u001b[43mrsuffix\u001b[49m\u001b[38;5;241;43m=\u001b[39;49m\u001b[38;5;124;43m'\u001b[39;49m\u001b[38;5;124;43mright\u001b[39;49m\u001b[38;5;124;43m'\u001b[39;49m\u001b[43m)\u001b[49m\n",
      "File \u001b[0;32m/opt/conda/lib/python3.9/site-packages/geopandas/tools/sjoin.py:119\u001b[0m, in \u001b[0;36msjoin\u001b[0;34m(left_df, right_df, how, predicate, lsuffix, rsuffix, **kwargs)\u001b[0m\n\u001b[1;32m    116\u001b[0m     first \u001b[38;5;241m=\u001b[39m \u001b[38;5;28mnext\u001b[39m(\u001b[38;5;28miter\u001b[39m(kwargs\u001b[38;5;241m.\u001b[39mkeys()))\n\u001b[1;32m    117\u001b[0m     \u001b[38;5;28;01mraise\u001b[39;00m \u001b[38;5;167;01mTypeError\u001b[39;00m(\u001b[38;5;124mf\u001b[39m\u001b[38;5;124m\"\u001b[39m\u001b[38;5;124msjoin() got an unexpected keyword argument \u001b[39m\u001b[38;5;124m'\u001b[39m\u001b[38;5;132;01m{\u001b[39;00mfirst\u001b[38;5;132;01m}\u001b[39;00m\u001b[38;5;124m'\u001b[39m\u001b[38;5;124m\"\u001b[39m)\n\u001b[0;32m--> 119\u001b[0m \u001b[43m_basic_checks\u001b[49m\u001b[43m(\u001b[49m\u001b[43mleft_df\u001b[49m\u001b[43m,\u001b[49m\u001b[43m \u001b[49m\u001b[43mright_df\u001b[49m\u001b[43m,\u001b[49m\u001b[43m \u001b[49m\u001b[43mhow\u001b[49m\u001b[43m,\u001b[49m\u001b[43m \u001b[49m\u001b[43mlsuffix\u001b[49m\u001b[43m,\u001b[49m\u001b[43m \u001b[49m\u001b[43mrsuffix\u001b[49m\u001b[43m)\u001b[49m\n\u001b[1;32m    121\u001b[0m indices \u001b[38;5;241m=\u001b[39m _geom_predicate_query(left_df, right_df, predicate)\n\u001b[1;32m    123\u001b[0m joined \u001b[38;5;241m=\u001b[39m _frame_join(indices, left_df, right_df, how, lsuffix, rsuffix)\n",
      "File \u001b[0;32m/opt/conda/lib/python3.9/site-packages/geopandas/tools/sjoin.py:147\u001b[0m, in \u001b[0;36m_basic_checks\u001b[0;34m(left_df, right_df, how, lsuffix, rsuffix)\u001b[0m\n\u001b[1;32m    129\u001b[0m \u001b[38;5;250m\u001b[39m\u001b[38;5;124;03m\"\"\"Checks the validity of join input parameters.\u001b[39;00m\n\u001b[1;32m    130\u001b[0m \n\u001b[1;32m    131\u001b[0m \u001b[38;5;124;03m`how` must be one of the valid options.\u001b[39;00m\n\u001b[0;32m   (...)\u001b[0m\n\u001b[1;32m    144\u001b[0m \u001b[38;5;124;03m    right index suffix\u001b[39;00m\n\u001b[1;32m    145\u001b[0m \u001b[38;5;124;03m\"\"\"\u001b[39;00m\n\u001b[1;32m    146\u001b[0m \u001b[38;5;28;01mif\u001b[39;00m \u001b[38;5;129;01mnot\u001b[39;00m \u001b[38;5;28misinstance\u001b[39m(left_df, GeoDataFrame):\n\u001b[0;32m--> 147\u001b[0m     \u001b[38;5;28;01mraise\u001b[39;00m \u001b[38;5;167;01mValueError\u001b[39;00m(\n\u001b[1;32m    148\u001b[0m         \u001b[38;5;124m\"\u001b[39m\u001b[38;5;124m'\u001b[39m\u001b[38;5;124mleft_df\u001b[39m\u001b[38;5;124m'\u001b[39m\u001b[38;5;124m should be GeoDataFrame, got \u001b[39m\u001b[38;5;132;01m{}\u001b[39;00m\u001b[38;5;124m\"\u001b[39m\u001b[38;5;241m.\u001b[39mformat(\u001b[38;5;28mtype\u001b[39m(left_df))\n\u001b[1;32m    149\u001b[0m     )\n\u001b[1;32m    151\u001b[0m \u001b[38;5;28;01mif\u001b[39;00m \u001b[38;5;129;01mnot\u001b[39;00m \u001b[38;5;28misinstance\u001b[39m(right_df, GeoDataFrame):\n\u001b[1;32m    152\u001b[0m     \u001b[38;5;28;01mraise\u001b[39;00m \u001b[38;5;167;01mValueError\u001b[39;00m(\n\u001b[1;32m    153\u001b[0m         \u001b[38;5;124m\"\u001b[39m\u001b[38;5;124m'\u001b[39m\u001b[38;5;124mright_df\u001b[39m\u001b[38;5;124m'\u001b[39m\u001b[38;5;124m should be GeoDataFrame, got \u001b[39m\u001b[38;5;132;01m{}\u001b[39;00m\u001b[38;5;124m\"\u001b[39m\u001b[38;5;241m.\u001b[39mformat(\u001b[38;5;28mtype\u001b[39m(right_df))\n\u001b[1;32m    154\u001b[0m     )\n",
      "\u001b[0;31mValueError\u001b[0m: 'left_df' should be GeoDataFrame, got <class 'pandas.core.frame.DataFrame'>"
     ]
    }
   ],
   "source": [
    "gpd.sjoin(stops, counties, how='inner', predicate='intersects', lsuffix='left', rsuffix='right')"
   ]
  },
  {
   "cell_type": "code",
   "execution_count": null,
   "id": "d92bb250-e645-4812-9ebe-088d2f2da83d",
   "metadata": {},
   "outputs": [],
   "source": []
  }
 ],
 "metadata": {
  "kernelspec": {
   "display_name": "Python 3 (ipykernel)",
   "language": "python",
   "name": "python3"
  },
  "language_info": {
   "codemirror_mode": {
    "name": "ipython",
    "version": 3
   },
   "file_extension": ".py",
   "mimetype": "text/x-python",
   "name": "python",
   "nbconvert_exporter": "python",
   "pygments_lexer": "ipython3",
   "version": "3.9.13"
  }
 },
 "nbformat": 4,
 "nbformat_minor": 5
}
