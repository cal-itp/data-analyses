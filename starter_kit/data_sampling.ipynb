{
 "cells": [
  {
   "cell_type": "markdown",
   "id": "81ba1853-f817-432b-a6ed-56cdab1cd879",
   "metadata": {},
   "source": [
    "## Data Snippets"
   ]
  },
  {
   "cell_type": "code",
   "execution_count": 1,
   "id": "bb534a23-2315-42fc-b355-2d61a38956a7",
   "metadata": {},
   "outputs": [
    {
     "name": "stderr",
     "output_type": "stream",
     "text": [
      "/opt/conda/lib/python3.9/site-packages/geopandas/_compat.py:124: UserWarning: The Shapely GEOS version (3.11.1-CAPI-1.17.1) is incompatible with the GEOS version PyGEOS was compiled with (3.10.1-CAPI-1.16.0). Conversions between both will be slow.\n",
      "  warnings.warn(\n",
      "/tmp/ipykernel_852/2217861942.py:1: DeprecationWarning: Shapely 2.0 is installed, but because PyGEOS is also installed, GeoPandas still uses PyGEOS by default. However, starting with version 0.14, the default will switch to Shapely. To force to use Shapely 2.0 now, you can either uninstall PyGEOS or set the environment variable USE_PYGEOS=0. You can do this before starting the Python process, or in your code before importing geopandas:\n",
      "\n",
      "import os\n",
      "os.environ['USE_PYGEOS'] = '0'\n",
      "import geopandas\n",
      "\n",
      "In the next release, GeoPandas will switch to using Shapely by default, even if PyGEOS is installed. If you only have PyGEOS installed to get speed-ups, this switch should be smooth. However, if you are using PyGEOS directly (calling PyGEOS functions on geometries from GeoPandas), this will then stop working and you are encouraged to migrate from PyGEOS to Shapely 2.0 (https://shapely.readthedocs.io/en/latest/migration_pygeos.html).\n",
      "  import geopandas as gpd\n"
     ]
    }
   ],
   "source": [
    "import geopandas as gpd\n",
    "import numpy as np\n",
    "import pandas as pd\n",
    "import shared_utils\n",
    "from calitp_data_analysis.sql import to_snakecase"
   ]
  },
  {
   "cell_type": "code",
   "execution_count": 2,
   "id": "bf9ba672-b457-4a0c-91fa-51c2db300937",
   "metadata": {},
   "outputs": [],
   "source": [
    "from calitp_data_analysis.tables import tbls\n",
    "from calitp_data_analysis.sql import query_sql\n",
    "from siuba import *"
   ]
  },
  {
   "cell_type": "code",
   "execution_count": 3,
   "id": "7bbd9903-7f37-4bc8-9364-fcce6e52a257",
   "metadata": {},
   "outputs": [],
   "source": [
    "pd.options.display.max_columns = 100\n",
    "pd.options.display.float_format = \"{:.2f}\".format\n",
    "pd.set_option(\"display.max_rows\", None)\n",
    "pd.set_option(\"display.max_colwidth\", None)"
   ]
  },
  {
   "cell_type": "markdown",
   "id": "0fc75781-88b8-4e21-a717-d3ed78fc98b5",
   "metadata": {},
   "source": [
    "### Exercises 2 & 3"
   ]
  },
  {
   "cell_type": "code",
   "execution_count": 4,
   "id": "62f9de43-d8b0-4086-918d-f43688a62e1e",
   "metadata": {},
   "outputs": [],
   "source": [
    "GCS_FILE_PATH = \"gs://calitp-analytics-data/data-analyses/bus_service_increase/\"\n",
    "FILE_NAME = \"ntd_metrics_2019.csv\"\n",
    "\n",
    "metrics = pd.read_csv(f\"{GCS_FILE_PATH}{FILE_NAME}\")"
   ]
  },
  {
   "cell_type": "code",
   "execution_count": 5,
   "id": "afca4063-442a-415f-b306-95ba7634f9b3",
   "metadata": {},
   "outputs": [],
   "source": [
    "# metrics.to_parquet(\"./data/exercise_2_3_ntd_metrics_2019.parquet\")"
   ]
  },
  {
   "cell_type": "code",
   "execution_count": 6,
   "id": "3a74c482-cccb-4af4-9727-c1df5ec69a89",
   "metadata": {},
   "outputs": [],
   "source": [
    "FILE_NAME = \"ntd_vehicles_2019.csv\"\n",
    "vehicles = pd.read_csv(f\"{GCS_FILE_PATH}{FILE_NAME}\")\n"
   ]
  },
  {
   "cell_type": "code",
   "execution_count": 7,
   "id": "4bc98269-8eeb-482c-a1f0-adddc128a8f0",
   "metadata": {},
   "outputs": [],
   "source": [
    "# vehicles.to_parquet(\"./data/exercise_2_ntd_vehicles_2019.parquet\")"
   ]
  },
  {
   "cell_type": "markdown",
   "id": "c7a29948-9e4e-427f-afed-0b43569d4a30",
   "metadata": {},
   "source": [
    "### Exercise 4"
   ]
  },
  {
   "cell_type": "code",
   "execution_count": 8,
   "id": "d1468486-3812-4148-8f30-a94c368e02d7",
   "metadata": {},
   "outputs": [],
   "source": [
    "def sample_df(df, file_name:str):\n",
    "    rows_to_keep = int(len(df)*0.4)\n",
    "    \n",
    "    df = df.sample(rows_to_keep).reset_index(drop = True)\n",
    "    \n",
    "    df.to_parquet(f\"./data/{file_name}.parquet\")\n",
    "    return df"
   ]
  },
  {
   "cell_type": "code",
   "execution_count": 9,
   "id": "b2be0af2-e53a-42c6-9e2a-dee6a9a3abe8",
   "metadata": {},
   "outputs": [],
   "source": [
    "FEEDS = [\n",
    "    \"25c6505166c01099b2f6f2de173e20b9\", # Caltrain\n",
    "    \"52639f09eb535f75b33d2c6a654cb89e\", # Merced\n",
    "    #\"e1d7185ffb6f73f7d373787910f0bf30\" # Lodi\n",
    "]"
   ]
  },
  {
   "cell_type": "code",
   "execution_count": 10,
   "id": "a648eb0f-a455-495b-8fda-9f242be98fe1",
   "metadata": {},
   "outputs": [
    {
     "name": "stderr",
     "output_type": "stream",
     "text": [
      "/opt/conda/lib/python3.9/site-packages/sqlalchemy_bigquery/_types.py:101: SAWarning: Did not recognize type 'GEOGRAPHY' of column 'pt_geom'\n",
      "  sqlalchemy.util.warn(\n"
     ]
    }
   ],
   "source": [
    "stops = (\n",
    "    tbls.mart_gtfs.dim_stops()\n",
    "    >> filter(_.feed_key.isin(FEEDS))\n",
    "    >> select(_.feed_key, _.stop_id, \n",
    "             _.stop_lat, _.stop_lon, _.stop_name)\n",
    "    >> arrange(_.feed_key, _.stop_id, \n",
    "               _.stop_lat, _.stop_lon)\n",
    "    >> collect() \n",
    ")"
   ]
  },
  {
   "cell_type": "code",
   "execution_count": 11,
   "id": "dcbccb95-1810-4d83-9502-9aca08896e91",
   "metadata": {},
   "outputs": [],
   "source": [
    "stops_ex4 = sample_df(stops, \"exercise_4_stops_sample\")"
   ]
  },
  {
   "cell_type": "code",
   "execution_count": 12,
   "id": "b06fbd66-9f31-40ab-96ea-c301de69ca98",
   "metadata": {},
   "outputs": [
    {
     "data": {
      "text/html": [
       "<div>\n",
       "<style scoped>\n",
       "    .dataframe tbody tr th:only-of-type {\n",
       "        vertical-align: middle;\n",
       "    }\n",
       "\n",
       "    .dataframe tbody tr th {\n",
       "        vertical-align: top;\n",
       "    }\n",
       "\n",
       "    .dataframe thead th {\n",
       "        text-align: right;\n",
       "    }\n",
       "</style>\n",
       "<table border=\"1\" class=\"dataframe\">\n",
       "  <thead>\n",
       "    <tr style=\"text-align: right;\">\n",
       "      <th></th>\n",
       "      <th>feed_key</th>\n",
       "      <th>stop_id</th>\n",
       "      <th>stop_lat</th>\n",
       "      <th>stop_lon</th>\n",
       "      <th>stop_name</th>\n",
       "    </tr>\n",
       "  </thead>\n",
       "  <tbody>\n",
       "    <tr>\n",
       "      <th>0</th>\n",
       "      <td>52639f09eb535f75b33d2c6a654cb89e</td>\n",
       "      <td>768641</td>\n",
       "      <td>37.23</td>\n",
       "      <td>-120.25</td>\n",
       "      <td>Le Grand @ Washington</td>\n",
       "    </tr>\n",
       "    <tr>\n",
       "      <th>1</th>\n",
       "      <td>25c6505166c01099b2f6f2de173e20b9</td>\n",
       "      <td>70042</td>\n",
       "      <td>37.66</td>\n",
       "      <td>-122.40</td>\n",
       "      <td>South San Francisco Caltrain Station</td>\n",
       "    </tr>\n",
       "    <tr>\n",
       "      <th>2</th>\n",
       "      <td>52639f09eb535f75b33d2c6a654cb89e</td>\n",
       "      <td>768584</td>\n",
       "      <td>37.30</td>\n",
       "      <td>-120.49</td>\n",
       "      <td>Transpo (Outside)</td>\n",
       "    </tr>\n",
       "    <tr>\n",
       "      <th>3</th>\n",
       "      <td>52639f09eb535f75b33d2c6a654cb89e</td>\n",
       "      <td>781926</td>\n",
       "      <td>37.33</td>\n",
       "      <td>-120.56</td>\n",
       "      <td>Gurr Rd @ Valley Dr</td>\n",
       "    </tr>\n",
       "    <tr>\n",
       "      <th>4</th>\n",
       "      <td>52639f09eb535f75b33d2c6a654cb89e</td>\n",
       "      <td>768416</td>\n",
       "      <td>37.35</td>\n",
       "      <td>-120.59</td>\n",
       "      <td>Juniper Ave @ Valley St (eastbound)</td>\n",
       "    </tr>\n",
       "  </tbody>\n",
       "</table>\n",
       "</div>"
      ],
      "text/plain": [
       "                           feed_key stop_id  stop_lat  stop_lon  \\\n",
       "0  52639f09eb535f75b33d2c6a654cb89e  768641     37.23   -120.25   \n",
       "1  25c6505166c01099b2f6f2de173e20b9   70042     37.66   -122.40   \n",
       "2  52639f09eb535f75b33d2c6a654cb89e  768584     37.30   -120.49   \n",
       "3  52639f09eb535f75b33d2c6a654cb89e  781926     37.33   -120.56   \n",
       "4  52639f09eb535f75b33d2c6a654cb89e  768416     37.35   -120.59   \n",
       "\n",
       "                              stop_name  \n",
       "0                 Le Grand @ Washington  \n",
       "1  South San Francisco Caltrain Station  \n",
       "2                     Transpo (Outside)  \n",
       "3                   Gurr Rd @ Valley Dr  \n",
       "4   Juniper Ave @ Valley St (eastbound)  "
      ]
     },
     "execution_count": 12,
     "metadata": {},
     "output_type": "execute_result"
    }
   ],
   "source": [
    "stops_ex4.head()"
   ]
  },
  {
   "cell_type": "code",
   "execution_count": 13,
   "id": "ecb0b88a-e940-4fe0-8d99-990aa4c3de10",
   "metadata": {},
   "outputs": [
    {
     "data": {
      "text/plain": [
       "52639f09eb535f75b33d2c6a654cb89e    189\n",
       "25c6505166c01099b2f6f2de173e20b9     43\n",
       "Name: feed_key, dtype: int64"
      ]
     },
     "execution_count": 13,
     "metadata": {},
     "output_type": "execute_result"
    }
   ],
   "source": [
    "stops_ex4.feed_key.value_counts()"
   ]
  },
  {
   "cell_type": "markdown",
   "id": "606bb369-eabd-41db-a271-45f057261efc",
   "metadata": {},
   "source": [
    "### Exercise 5"
   ]
  },
  {
   "cell_type": "code",
   "execution_count": 14,
   "id": "603c9c09-2589-41ba-907b-0574e0f90bc5",
   "metadata": {},
   "outputs": [],
   "source": [
    "feeds_to_names = shared_utils.gtfs_utils_v2.schedule_daily_feed_to_gtfs_dataset_name(\n",
    "    selected_date = \"2023-03-15\",\n",
    "    get_df = True\n",
    ")[[\"feed_key\", \"name\"]].drop_duplicates()"
   ]
  },
  {
   "cell_type": "code",
   "execution_count": 15,
   "id": "ba94c305-c1f0-42fb-87db-136355a6df14",
   "metadata": {},
   "outputs": [],
   "source": [
    "OPERATORS = [\n",
    "    \"Alhambra Schedule\", \n",
    "    \"San Diego Schedule\",\n",
    "    \"Big Blue Bus Schedule\",\n",
    "    \"Culver City Schedule\",\n",
    "    \"OmniTrans Schedule\",\n",
    "    \"OCTA Schedule\"\n",
    "]\n",
    "\n",
    "SUBSET_FEEDS = feeds_to_names[\n",
    "    feeds_to_names.name.isin(OPERATORS)\n",
    "].feed_key.tolist()"
   ]
  },
  {
   "cell_type": "code",
   "execution_count": 16,
   "id": "47939907-8e88-44ad-82fc-4361c8f5820f",
   "metadata": {},
   "outputs": [],
   "source": [
    "# Select 5 other feeds to throw in for the sample\n",
    "OTHER_FEEDS = [i for i in feeds_to_names.feed_key \n",
    "               if i not in SUBSET_FEEDS][:5]"
   ]
  },
  {
   "cell_type": "code",
   "execution_count": 17,
   "id": "2c1bc284-e493-4df9-8a01-c0d67eb33f52",
   "metadata": {},
   "outputs": [
    {
     "data": {
      "text/plain": [
       "{'71d91d70ad6c07b1f9b0a618ffceef93': 'Alhambra Schedule',\n",
       " 'a7ba6f075198e9bf9152fab6c7faf0f6': 'San Diego Schedule',\n",
       " 'ae93a53469371fb3f9059d2097f66842': 'OmniTrans Schedule',\n",
       " '180d48eb03829594478082dca5782ccd': 'Culver City Schedule',\n",
       " '4f77ef02b983eccc0869c7540f98a7d0': 'Big Blue Bus Schedule',\n",
       " '8a47f5aa51f481e9ddc7c497bd72d264': 'OCTA Schedule'}"
      ]
     },
     "execution_count": 17,
     "metadata": {},
     "output_type": "execute_result"
    }
   ],
   "source": [
    "feeds_to_names[\n",
    "    feeds_to_names.name.isin(OPERATORS)\n",
    "][[\"feed_key\", \"name\"]].set_index(\"feed_key\").to_dict()[\"name\"]"
   ]
  },
  {
   "cell_type": "code",
   "execution_count": 18,
   "id": "5d4b85b7-1693-429a-8f8a-9becab1bf091",
   "metadata": {},
   "outputs": [],
   "source": [
    "stops_gcs = gpd.read_parquet(\"gs://calitp-analytics-data/data-analyses/rt_delay/compiled_cached_views/stops_2023-03-15.parquet\")"
   ]
  },
  {
   "cell_type": "code",
   "execution_count": 19,
   "id": "45bc8058-badd-48b3-bf65-3eaca687ad03",
   "metadata": {},
   "outputs": [],
   "source": [
    "stops_gcs_filtered = stops_gcs[\n",
    "    (stops_gcs.feed_key.isin(SUBSET_FEEDS)) |\n",
    "    (stops_gcs.feed_key.isin(OTHER_FEEDS))].reset_index(drop = True)"
   ]
  },
  {
   "cell_type": "code",
   "execution_count": 20,
   "id": "dcbb1dea-e7a9-4800-91d9-c2fd7764591b",
   "metadata": {},
   "outputs": [
    {
     "data": {
      "text/plain": [
       "8a47f5aa51f481e9ddc7c497bd72d264    5188\n",
       "a7ba6f075198e9bf9152fab6c7faf0f6    4241\n",
       "a9f08db1bc889c72499a14d329cd7260    2711\n",
       "ae93a53469371fb3f9059d2097f66842    2280\n",
       "4f77ef02b983eccc0869c7540f98a7d0     905\n",
       "180d48eb03829594478082dca5782ccd     431\n",
       "8086f0d4ae362ae545a4b96a41587e09     118\n",
       "5ef522e5d899e686fd1ba63de6103b25      85\n",
       "71d91d70ad6c07b1f9b0a618ffceef93      80\n",
       "5ccf86b4334e6c6db3eee03b9f65372c      24\n",
       "Name: feed_key, dtype: int64"
      ]
     },
     "execution_count": 20,
     "metadata": {},
     "output_type": "execute_result"
    }
   ],
   "source": [
    "stops_gcs_filtered.feed_key.value_counts()"
   ]
  },
  {
   "cell_type": "code",
   "execution_count": 21,
   "id": "d98b572a-8485-4595-b49b-52a0db360ea8",
   "metadata": {},
   "outputs": [],
   "source": [
    "stops_ex5 = sample_df(stops_gcs_filtered, \"exercise_5_stops_sample\")"
   ]
  },
  {
   "cell_type": "markdown",
   "id": "d46a8899-83fe-4cea-902f-f2e02ccc3270",
   "metadata": {},
   "source": [
    "### Exercise 9"
   ]
  },
  {
   "cell_type": "code",
   "execution_count": 22,
   "id": "ac0ab17f-c4b8-42ad-af52-1ccca7d03243",
   "metadata": {},
   "outputs": [],
   "source": [
    "import intake"
   ]
  },
  {
   "cell_type": "code",
   "execution_count": 23,
   "id": "14869cb4-ab43-45d2-948c-61193da80409",
   "metadata": {},
   "outputs": [],
   "source": [
    "catalog = intake.open_catalog(\n",
    "    \"../_shared_utils/shared_utils/shared_data_catalog.yml\")"
   ]
  },
  {
   "cell_type": "code",
   "execution_count": 24,
   "id": "9405a546-2f4d-4fbf-b7ef-02164fb0574f",
   "metadata": {},
   "outputs": [],
   "source": [
    "GCS_FILE_PATH = (\"gs://calitp-analytics-data/data-analyses/\"\n",
    "                 \"rt_delay/compiled_cached_views/\"\n",
    "                )\n",
    "\n",
    "analysis_date = \"2023-01-18\"\n",
    "STOP_TIMES_FILE = f\"{GCS_FILE_PATH}st_{analysis_date}.parquet\"\n",
    "STOPS_FILE = f\"{GCS_FILE_PATH}stops_{analysis_date}.parquet\"\n",
    "highways = catalog.state_highway_network.read()"
   ]
  },
  {
   "cell_type": "code",
   "execution_count": 25,
   "id": "713f0ac8-5b11-40f2-bc79-bfdeb92d4284",
   "metadata": {},
   "outputs": [
    {
     "data": {
      "text/plain": [
       "(1052, 6)"
      ]
     },
     "execution_count": 25,
     "metadata": {},
     "output_type": "execute_result"
    }
   ],
   "source": [
    "highways.shape"
   ]
  },
  {
   "cell_type": "code",
   "execution_count": 26,
   "id": "3ed66c63-82fd-4db1-8b6c-c85a48a602a5",
   "metadata": {},
   "outputs": [],
   "source": [
    "highways_ex9 = sample_df(highways, \"exercise_9_highway_sample\")"
   ]
  },
  {
   "cell_type": "code",
   "execution_count": 27,
   "id": "098e4cc0-b219-45b6-bbc2-a6591c41e4fb",
   "metadata": {
    "tags": []
   },
   "outputs": [
    {
     "data": {
      "text/plain": [
       "(420, 6)"
      ]
     },
     "execution_count": 27,
     "metadata": {},
     "output_type": "execute_result"
    }
   ],
   "source": [
    "highways_ex9.shape"
   ]
  },
  {
   "cell_type": "code",
   "execution_count": 28,
   "id": "8e409a42-0347-4296-980b-0b941aed7740",
   "metadata": {},
   "outputs": [],
   "source": [
    "stops = catalog.ca_transit_stops.read()[[\"agency\", \"stop_id\", \n",
    "                                         \"stop_name\", \"geometry\"]]"
   ]
  },
  {
   "cell_type": "code",
   "execution_count": 29,
   "id": "00887c7b-22d4-48d6-9c8d-a1c48514563e",
   "metadata": {},
   "outputs": [],
   "source": [
    "agencies = ['Tahoe Transportation District', 'Muni', 'Burbank']"
   ]
  },
  {
   "cell_type": "code",
   "execution_count": 30,
   "id": "18be738a-4bd0-43ca-9c90-9d02b7485b76",
   "metadata": {},
   "outputs": [],
   "source": [
    "stops2 = stops[stops.agency.isin(agencies)].reset_index()"
   ]
  },
  {
   "cell_type": "code",
   "execution_count": 31,
   "id": "3dd38214-6c5b-4fa2-b67c-35ab25fa073d",
   "metadata": {},
   "outputs": [
    {
     "data": {
      "text/plain": [
       "Tahoe Transportation District    149\n",
       "Name: agency, dtype: int64"
      ]
     },
     "execution_count": 31,
     "metadata": {},
     "output_type": "execute_result"
    }
   ],
   "source": [
    "stops2.agency.value_counts()"
   ]
  },
  {
   "cell_type": "code",
   "execution_count": 32,
   "id": "b44b41bc-06e3-48fc-97bf-1f9752ff3bc5",
   "metadata": {},
   "outputs": [],
   "source": [
    "stops_ex9 = sample_df(stops2, \"exercise_9_stops_sample\")"
   ]
  },
  {
   "cell_type": "markdown",
   "id": "7d7283f8-9a5a-4ef0-9660-ead1bd5d20fa",
   "metadata": {},
   "source": [
    "### Dask Delayed 02"
   ]
  },
  {
   "cell_type": "code",
   "execution_count": 33,
   "id": "9b4dc58b-b10d-4975-882d-700c32410a90",
   "metadata": {},
   "outputs": [],
   "source": [
    "GCS_FILE_PATH = (\"gs://calitp-analytics-data/data-analyses/\"\n",
    "                 \"rt_delay/v2_rt_trips/\"\n",
    "                )\n",
    "\n",
    "analysis_date = \"2023-03-15\"\n",
    "la_metro = 182\n",
    "big_blue_bus = 300\n",
    "muni = 282\n",
    "\n",
    "operators = [la_metro, big_blue_bus, muni]"
   ]
  },
  {
   "cell_type": "code",
   "execution_count": 34,
   "id": "c7821d0a-3319-4ff8-b2a4-1a2532a12d96",
   "metadata": {},
   "outputs": [],
   "source": [
    "big_blue_bus = pd.read_parquet(\n",
    "    f\"{GCS_FILE_PATH}{big_blue_bus}_{analysis_date}.parquet\")"
   ]
  },
  {
   "cell_type": "code",
   "execution_count": 35,
   "id": "0cc8e93c-d4cd-49c2-9ec1-a1954e7fd74e",
   "metadata": {},
   "outputs": [],
   "source": [
    "big_blue_bus_dask= sample_df(big_blue_bus, \"dask_02_delayed_big_blue_bus_sample\")"
   ]
  },
  {
   "cell_type": "code",
   "execution_count": 36,
   "id": "510d7b45-92de-4861-9079-a000e7854463",
   "metadata": {},
   "outputs": [],
   "source": [
    "la_metro = pd.read_parquet(\n",
    "    f\"{GCS_FILE_PATH}{la_metro}_{analysis_date}.parquet\")"
   ]
  },
  {
   "cell_type": "code",
   "execution_count": 37,
   "id": "ea3a9369-5c39-49c4-bb97-f72bbe95f258",
   "metadata": {},
   "outputs": [],
   "source": [
    "la_metro_dask= sample_df(la_metro, \"dask_02_delayed_la_metro_sample\")"
   ]
  },
  {
   "cell_type": "code",
   "execution_count": 38,
   "id": "47bf0602-f9d7-4114-8afd-932069111c12",
   "metadata": {},
   "outputs": [],
   "source": [
    "muni = pd.read_parquet(\n",
    "    f\"{GCS_FILE_PATH}{muni}_{analysis_date}.parquet\")"
   ]
  },
  {
   "cell_type": "code",
   "execution_count": 39,
   "id": "d0ac0135-0365-4e9e-9ca0-b86fac928281",
   "metadata": {},
   "outputs": [],
   "source": [
    "muni_dask= sample_df(muni, \"dask_02_delayed_muni_sample\")"
   ]
  }
 ],
 "metadata": {
  "kernelspec": {
   "display_name": "Python 3 (ipykernel)",
   "language": "python",
   "name": "python3"
  },
  "language_info": {
   "codemirror_mode": {
    "name": "ipython",
    "version": 3
   },
   "file_extension": ".py",
   "mimetype": "text/x-python",
   "name": "python",
   "nbconvert_exporter": "python",
   "pygments_lexer": "ipython3",
   "version": "3.9.13"
  }
 },
 "nbformat": 4,
 "nbformat_minor": 5
}
