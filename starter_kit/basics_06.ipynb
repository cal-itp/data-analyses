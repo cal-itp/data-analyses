{
 "cells": [
  {
   "cell_type": "markdown",
   "id": "be271b0b-3fc1-4b28-998f-6c3ee50140f3",
   "metadata": {},
   "source": [
    "## Exercise 6: Shared utility functions, data catalogs\n",
    "\n",
    "Skills: \n",
    "* Import shared utils\n",
    "* Data catalog\n",
    "* Use functions to repeat certain data cleaning steps\n",
    "\n",
    "References: \n",
    "* https://docs.calitp.org/data-infra/analytics_new_analysts/02-data-analysis-intermediate.html\n",
    "* https://docs.calitp.org/data-infra/analytics_tools/python_libraries.html\n",
    "* https://docs.calitp.org/data-infra/analytics_tools/data_catalogs.html"
   ]
  },
  {
   "cell_type": "code",
   "execution_count": null,
   "id": "cd857644-ccaa-4eb8-8e67-f506a46bbace",
   "metadata": {},
   "outputs": [],
   "source": [
    "import geopandas as gpd\n",
    "import intake\n",
    "import pandas as pd\n",
    "\n",
    "# Hint: if this doesn't import: refer to docs for correctly import\n",
    "# cd into _shared_utils folder, run the make setup_env command\n",
    "from calitp_data_analysis import geography_utils"
   ]
  },
  {
   "cell_type": "markdown",
   "id": "39dcaee8-e39e-4329-adc6-7f60b7000403",
   "metadata": {},
   "source": [
    "## Create a data catalog\n",
    "\n",
    "* Include one geospatial data source and one tabular (they should be related...your analysis depends on combining them)\n",
    "* Import your datasets using the catalog method"
   ]
  },
  {
   "cell_type": "code",
   "execution_count": null,
   "id": "cb619ecd-d33d-4d77-b9d0-547958dd069f",
   "metadata": {},
   "outputs": [],
   "source": []
  },
  {
   "cell_type": "markdown",
   "id": "ba0d95ef-6162-4d22-b579-0bed56349cc4",
   "metadata": {},
   "source": [
    "## Combine datasets\n",
    "* Do a merge or spatial join to combine the geospatial and tabular data\n",
    "* Create a new column of a summary statistic to visualize\n",
    "* Rely on `shared_utils` to do at least one operation (aggregation, re-projecting to a different CRS, exporting geoparquet, etc)"
   ]
  },
  {
   "cell_type": "code",
   "execution_count": null,
   "id": "fd9cf4a9-2832-4ae0-85bc-b0a29cac59e9",
   "metadata": {},
   "outputs": [],
   "source": []
  },
  {
   "cell_type": "markdown",
   "id": "2739e378-bd0b-402a-9b3b-f32351f4e70a",
   "metadata": {},
   "source": [
    "## Use functions to do parameterized visualizations\n",
    "* Use a function to create your chart\n",
    "* Within the function, the colors should use the Cal-ITP theme that is available in `styleguide`\n",
    "* Within the function, there should be at least 1 parameter that changes (ex: chart title reflects the correct county, legend title reflects the correct county, etc)\n",
    "* Produce 3 charts, using your function each time, and have the function correctly insert the parameters "
   ]
  },
  {
   "cell_type": "code",
   "execution_count": null,
   "id": "f7ba7e06-e70a-4f34-a6c4-072626720868",
   "metadata": {},
   "outputs": [],
   "source": []
  }
 ],
 "metadata": {
  "kernelspec": {
   "display_name": "Python 3 (ipykernel)",
   "language": "python",
   "name": "python3"
  },
  "language_info": {
   "codemirror_mode": {
    "name": "ipython",
    "version": 3
   },
   "file_extension": ".py",
   "mimetype": "text/x-python",
   "name": "python",
   "nbconvert_exporter": "python",
   "pygments_lexer": "ipython3",
   "version": "3.9.13"
  }
 },
 "nbformat": 4,
 "nbformat_minor": 5
}
