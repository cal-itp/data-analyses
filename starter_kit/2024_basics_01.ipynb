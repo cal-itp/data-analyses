{
 "cells": [
  {
   "cell_type": "markdown",
   "id": "247e773f-0e29-4ed6-ab4d-5856325611b4",
   "metadata": {},
   "source": [
    "# Exercise 1: Familiarize yourself with `pandas`\n",
    "If you are new to Python, check out the introductory Python courses available through Caltrans's LinkedIn Learning Library:\n",
    "* https://www.linkedin.com/learning/search?keywords=python&u=36029164\n",
    "\n",
    "Skills: \n",
    "* `pandas` is one of the base Python packages for working with tabular data.\n",
    "* Do some grouping and aggregation. Many ways to do this!\n",
    "* Export to Google Cloud Storage\n",
    "* Practice committing on GitHub\n",
    "\n",
    "References: \n",
    "* https://docs.calitp.org/data-infra/analytics_new_analysts/01-data-analysis-intro.html\n",
    "* https://docs.calitp.org/data-infra/analytics_tools/saving_code.html"
   ]
  },
  {
   "cell_type": "code",
   "execution_count": 4,
   "id": "50199af7-04a8-43c5-ba1b-4127940749bd",
   "metadata": {},
   "outputs": [],
   "source": [
    "import pandas as pd\n",
    "import altair as alt"
   ]
  },
  {
   "cell_type": "markdown",
   "id": "5d887390-b5b7-4032-b6c3-06142c847f40",
   "metadata": {},
   "source": [
    "## Read in an Excel file from GCS\n",
    "* F-String\n",
    "* How to open a workbook with multiple sheets"
   ]
  },
  {
   "cell_type": "code",
   "execution_count": 3,
   "id": "b3e2e69d-c8e6-45b7-ba98-fa5b3514e4a6",
   "metadata": {},
   "outputs": [],
   "source": [
    "GCS_FILE_PATH = \"gs://calitp-analytics-data/data-analyses/starter_kit/\""
   ]
  },
  {
   "cell_type": "code",
   "execution_count": null,
   "id": "24c414d7-3adb-4e68-82ac-ca5016178bc7",
   "metadata": {},
   "outputs": [],
   "source": [
    "FILE = \"starter_kit_csis_scoring_workbook.xlsx\""
   ]
  },
  {
   "cell_type": "code",
   "execution_count": null,
   "id": "f05337cd-4317-41c1-a911-35fc3872ef65",
   "metadata": {},
   "outputs": [],
   "source": [
    "# Combine to get the proper file name "
   ]
  },
  {
   "cell_type": "code",
   "execution_count": null,
   "id": "f2ea4704-b96e-4157-942a-15276a240bee",
   "metadata": {},
   "outputs": [],
   "source": [
    "sheet_names = []"
   ]
  },
  {
   "cell_type": "code",
   "execution_count": null,
   "id": "e09456e0-dfd2-4388-85de-eb9e95f983fa",
   "metadata": {},
   "outputs": [],
   "source": [
    "df = pd.read_excel()"
   ]
  },
  {
   "cell_type": "markdown",
   "id": "10bcfd10-f1d3-49a9-a46a-36c697c02cf4",
   "metadata": {},
   "source": [
    "## Merge"
   ]
  },
  {
   "cell_type": "markdown",
   "id": "e7367dc4-6380-445e-b486-903491927183",
   "metadata": {},
   "source": [
    "## Groupby / Aggregation\n",
    "\n",
    "* By Caltrans District, calculate the average CSIS score and find difference between max and min score.\n",
    "* Hint: for `pandas`: `groupby / agg`, `pivot_table`, `groupby / transform`."
   ]
  },
  {
   "cell_type": "markdown",
   "id": "cbded66f-05fc-4a1e-bc21-7c55e011df7f",
   "metadata": {},
   "source": [
    "## Export to Google Cloud Storage (GCS)\n",
    "\n",
    "* Make sure credential works\n",
    "* Use this path: \"gs://calitp-analytics-data/data-analyses/FILENAME\"\n",
    "* Export using `df.to_parquet()` and `df.to_csv()`"
   ]
  },
  {
   "cell_type": "markdown",
   "id": "00305dfc-4eb2-4c8e-bea0-e9d5021f20b6",
   "metadata": {},
   "source": [
    "## Make a Chart \n",
    "* Read in the parquet file from GCS using F Strings.\n",
    "* Make a visualization using one `Altair`\n",
    "    * Requirements: use a color palette from Cal-ITP\n",
    "    * The chart must be in Century-Gothic font.\n",
    "    * Size it to be 600 pixels wide, 400 pixels high"
   ]
  },
  {
   "cell_type": "markdown",
   "id": "69d211b4-89f0-4b2c-9093-1118114ba649",
   "metadata": {},
   "source": [
    "## You're almost done!\n",
    "* Name this notebook `YOURNAME_exercise1.ipynb`\n",
    "    * If you need to rename because you already named it, do it within the terminal.\n",
    "    * `git mv OLDNAME.ipynb NEWNAME.ipynb`. \n",
    "    * The `mv` stands for move, and renaming a file is basically \"moving\" its path. Doing it this way retains the git history associated with the notebook. If you rename directly with right click, rename, you destroy the git history.\n",
    "* Use a descriptive commit message (ex: adding chart, etc). GitHub already tracks who makes the commit, the date, the timestamp of it, the files being affected, so your commit message should be more descriptive than the metadata already stored."
   ]
  }
 ],
 "metadata": {
  "kernelspec": {
   "display_name": "Python 3 (ipykernel)",
   "language": "python",
   "name": "python3"
  },
  "language_info": {
   "codemirror_mode": {
    "name": "ipython",
    "version": 3
   },
   "file_extension": ".py",
   "mimetype": "text/x-python",
   "name": "python",
   "nbconvert_exporter": "python",
   "pygments_lexer": "ipython3",
   "version": "3.9.13"
  }
 },
 "nbformat": 4,
 "nbformat_minor": 5
}
