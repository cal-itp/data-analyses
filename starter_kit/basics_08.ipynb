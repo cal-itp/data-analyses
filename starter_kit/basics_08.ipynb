{
 "cells": [
  {
   "cell_type": "markdown",
   "id": "93e80df1-e5c7-4b91-82e8-7a83bcc7ae00",
   "metadata": {},
   "source": [
    "# Exercise 8: Put all the concepts in Exercise 7 together\n",
    "\n",
    "Skills:\n",
    "* Apply all the concepts covered in Exercise 7 for a research question. Know when to use what concept.\n",
    "\n",
    "References: \n",
    "* Exercise 7\n",
    "\n",
    "\n",
    "### To Do\n",
    "\n",
    "Narrow down the list of rail routes in CA to 3 groups. Use the SHN network to determine how much of the rail route runs near the SHN. We care only about rail routes that run entirely in CA (use stops to figure this out).\n",
    "\n",
    "**Near** the interstate, US highway, or state highway is defined by being within a quarter mile. For this exercise, the distinction between interstate, US highway, and state highway is not important; treat any road that shows up in the dataset as \"the SHN\".\n",
    "\n",
    "There are theoretically 3 groupings: \n",
    "* rail routes that are never within 0.25 miles of the SHN\n",
    "* rail routes with > 0 but less than half of its length near the SHN \n",
    "* rail routes with at least half of its length near the SHN\n",
    "\n",
    "Provide a table and a chart showing how many rail routes fall into each of the 3 groups by district.\n",
    "\n",
    "Use a Markdown cell at the end to connect which geospatial concept was applied to which step of the process. The concepts that should be used are `projecting CRS`, `buffering`, `dissolve`, `clipping`, `spatial join`, `overlay`. "
   ]
  },
  {
   "cell_type": "code",
   "execution_count": null,
   "id": "2bf3479c-9114-4bb7-be39-dad0127b2d8c",
   "metadata": {},
   "outputs": [],
   "source": [
    "import geopandas as gpd\n",
    "import intake\n",
    "import pandas as pd\n",
    "\n",
    "catalog = intake.open_catalog(\n",
    "    \"../_shared_utils/shared_utils/shared_data_catalog.yml\")"
   ]
  },
  {
   "cell_type": "code",
   "execution_count": null,
   "id": "4658193f-0de9-4287-8c33-cd21330ff8cb",
   "metadata": {},
   "outputs": [],
   "source": [
    "# Import data\n",
    "districts = catalog.caltrans_districts.read()\n",
    "highways = catalog.state_highway_network.read()\n",
    "\n",
    "rail_group = ['0', '1', '2']\n",
    "routes = catalog.ca_transit_routes.read()\n",
    "rail_routes = routes[routes.route_type.isin(rail_group)\n",
    "                    ].reset_index(drop=True)\n",
    "\n",
    "stops = catalog.ca_transit_stops.read()\n",
    "rail_stops = stops[stops.route_type.isin(rail_group)\n",
    "                  ].reset_index(drop=True)"
   ]
  },
  {
   "cell_type": "code",
   "execution_count": null,
   "id": "4ffaf1b2-d702-4e93-9e41-0c8083372f87",
   "metadata": {},
   "outputs": [],
   "source": []
  }
 ],
 "metadata": {
  "kernelspec": {
   "display_name": "Python 3 (ipykernel)",
   "language": "python",
   "name": "python3"
  },
  "language_info": {
   "codemirror_mode": {
    "name": "ipython",
    "version": 3
   },
   "file_extension": ".py",
   "mimetype": "text/x-python",
   "name": "python",
   "nbconvert_exporter": "python",
   "pygments_lexer": "ipython3",
   "version": "3.9.13"
  }
 },
 "nbformat": 4,
 "nbformat_minor": 5
}
