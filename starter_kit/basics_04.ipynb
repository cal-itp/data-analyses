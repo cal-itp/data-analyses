{
 "cells": [
  {
   "cell_type": "markdown",
   "id": "8ccf5809-6ac9-4446-9258-cd1dea4ba3a4",
   "metadata": {},
   "source": [
    "## Exercise 4: Data Warehouse Querying and Basic Geospatial Operations\n",
    "\n",
    "Skills: \n",
    "* Query data warehouse table\n",
    "* Use dictionary to map values\n",
    "\n",
    "References: \n",
    "* https://docs.calitp.org/data-infra/analytics_new_analysts/spatial-analysis-basics.html\n",
    "* https://docs.calitp.org/data-infra/analytics_new_analysts/spatial-analysis-intro.html\n",
    "* https://docs.calitp.org/data-infra/analytics_new_analysts/spatial-analysis-intermediate.html\n",
    "* https://docs.calitp.org/data-infra/analytics_examples/warehouse_tutorial.html\n",
    "* https://docs.calitp.org/data-infra/analytics_examples/new_tutorial.html\n",
    "* https://github.com/jorisvandenbossche/geopandas-tutorial"
   ]
  },
  {
   "cell_type": "code",
   "execution_count": null,
   "id": "9305f4e1-446d-432f-bc0e-e69284fdce71",
   "metadata": {},
   "outputs": [],
   "source": [
    "import geopandas as gpd\n",
    "import pandas as pd\n",
    "import os\n",
    "\n",
    "#os.environ[\"CALITP_BQ_MAX_BYTES\"] = str(100_000_000_000)\n",
    "pd.set_option(\"display.max_rows\", 20)\n",
    "\n",
    "from calitp_data_analysis.tables import tbls\n",
    "from calitp_data_analysis.sql import query_sql\n",
    "from siuba import *"
   ]
  },
  {
   "cell_type": "markdown",
   "id": "95d24d7b-17b2-481c-bdc5-d03a25facc11",
   "metadata": {},
   "source": [
    "## Query a table, turn it into a gdf\n",
    "\n",
    "You will query the warehouse table for 2 operators, Caltrain and Merced. A `feed_key` is a hash identifier, there's no real meaning to it, but it uniquely identifies a feed for that day.\n",
    "\n",
    "The `feed_key` values for those 2 operators for 6/1/2022 are provided. \n",
    "\n",
    "* Query `mart_gtfs.dim_stops`\n",
    "* Filter to the feed keys of interest\n",
    "* Select these columns: `feed_key`, `stop_id`, `stop_lat`, `stop_lon`, `stop_name`\n",
    "* Return as a dataframe using `collect()`\n",
    "* Turn the point data into geometry with `geopandas`: [docs](https://geopandas.org/en/stable/docs/reference/api/geopandas.points_from_xy.html)"
   ]
  },
  {
   "cell_type": "code",
   "execution_count": null,
   "id": "a83cda9e-c642-4acf-8668-d5626dd7d948",
   "metadata": {},
   "outputs": [],
   "source": [
    "FEEDS = [\n",
    "    \"25c6505166c01099b2f6f2de173e20b9\", # Caltrain\n",
    "    \"52639f09eb535f75b33d2c6a654cb89e\", # Merced\n",
    "]\n",
    "\n",
    "stops = (\n",
    "    tbls.mart_gtfs.dim_stops()\n",
    "    >> filter(_.feed_key.isin(FEEDS))\n",
    "    >> select(_.feed_key, _.stop_id, \n",
    "             _.stop_lat, _.stop_lon, _.stop_name)\n",
    "    >> arrange(_.feed_key, _.stop_id, \n",
    "               _.stop_lat, _.stop_lon)\n",
    "    >> collect() \n",
    ")"
   ]
  },
  {
   "cell_type": "code",
   "execution_count": null,
   "id": "4fd01576-1163-421b-b7d1-02e6d5c065e2",
   "metadata": {},
   "outputs": [],
   "source": [
    "stops.head()"
   ]
  },
  {
   "cell_type": "markdown",
   "id": "8e38ba6d-0461-4910-8991-05283ecd4a2f",
   "metadata": {},
   "source": [
    "## Use a dictionary to map values\n",
    "\n",
    "* Create a new column called `operator` where `feed_key` is associated with its operator name.\n",
    "* First, write a function to do it.\n",
    "* Then, use a dictionary to do it (create new column called `agency`).\n",
    "* Double check that `operator` and `agency` show the same values. Use `assert` to check.\n",
    "    * `assert df.operator == df.agency`\n",
    "* Hint: https://docs.calitp.org/data-infra/analytics_new_analysts/data-analysis-intermediate.html"
   ]
  },
  {
   "cell_type": "code",
   "execution_count": null,
   "id": "7b83b31c-3fde-4933-a3d1-f4e97be2cd4f",
   "metadata": {},
   "outputs": [],
   "source": []
  },
  {
   "cell_type": "markdown",
   "id": "43c9198e-9cff-4025-9535-fa899b7a2a2d",
   "metadata": {},
   "source": [
    "## Turn lat/lon into point geometry\n",
    "\n",
    "* There is a [function in shared_utils](https://github.com/cal-itp/data-analyses/blob/main/_shared_utils/shared_utils/geography_utils.py#L170-L192) that does it. Show the steps within the function (the long way), and also create the `geometry` column using `shared_utils`.\n",
    "* Use `geography_utils.create_point_geometry??` to see what goes into that function, and what that function looks like under the hood."
   ]
  },
  {
   "cell_type": "code",
   "execution_count": null,
   "id": "64e9f2a4-7eaf-4c17-9813-444702bfb3aa",
   "metadata": {},
   "outputs": [],
   "source": []
  },
  {
   "cell_type": "markdown",
   "id": "8a21eac3-ac67-47d8-b4c8-694192fdd796",
   "metadata": {},
   "source": [
    "Basic stuff about a geodataframe.\n",
    "\n",
    "A gdf would have a coordinate reference system that converts the points or lines into a place on the spherical Earth. The most common CRS is called `WGS 84`, and its code is `EPSG:4326`. This is what you'd see when you use Google Maps to find lat/lon of a place.\n",
    "\n",
    "[Read](https://desktop.arcgis.com/en/arcmap/latest/map/projections/about-geographic-coordinate-systems.htm) about the `WGS 84` geographic coordinate system.\n",
    "\n",
    "[Read](https://desktop.arcgis.com/en/arcmap/latest/map/projections/about-projected-coordinate-systems.htm) about projected coordinate reference systems, which is essentially about flattening our spherical Earth into a 2D plane so we can measure distances and whatnot.\n",
    "\n",
    "* Is it a pandas dataframe or a geopandas geodataframe?: `type(gdf)`\n",
    "* Coordinate reference system: `gdf.crs`\n",
    "* gdfs must have a geometry column. Find the name of the column that is geometry: `gdf.geometry.name`\n",
    "* Project the coordinate reference system to something else: `gdf = gdf.to_crs(\"EPSG:2229\")` and check."
   ]
  },
  {
   "cell_type": "code",
   "execution_count": null,
   "id": "5b2a3ed0-40f8-4fc6-a46e-9480293e81f2",
   "metadata": {},
   "outputs": [],
   "source": []
  },
  {
   "cell_type": "markdown",
   "id": "d242e5b6-90f9-44ac-bb9f-fd1139e795f2",
   "metadata": {},
   "source": [
    "* This GitHub repo has several `geopandas` tutorials that covers basic spatial concepts: https://github.com/jorisvandenbossche/geopandas-tutorial. \n",
    "* Skim through the notebooks to see some of the concepts demonstrated, although to actually run the notebooks, you can click on `launch binder` in the repo's README to do so."
   ]
  },
  {
   "cell_type": "code",
   "execution_count": null,
   "id": "bae3994c-b46c-4ef8-a479-c84214953040",
   "metadata": {},
   "outputs": [],
   "source": []
  },
  {
   "cell_type": "markdown",
   "id": "5b9dc620-41f2-4d69-9d69-00e8d90276f9",
   "metadata": {},
   "source": [
    "## Spatial Join (which points fall into which polygon)\n",
    "\n",
    "This URL gives you CA county boundaries: https://gis.data.ca.gov/datasets/CALFIRE-Forestry::california-county-boundaries/explore?location=37.246136%2C-119.002032%2C6.12\n",
    "\n",
    "* Go to \"I want to use this\" > View API Resources > copy link for geojson\n",
    "* Read in the geojson with `geopandas` and make it a geodataframe: `gpd.read_file(LONG_URL_PATH)`\n",
    "* Double check that the coordinate reference system is the same for both gdfs using `gdf.crs`. If not, change it so they are the same.\n",
    "* Spatial join stops to counties: [docs](https://geopandas.org/en/stable/docs/reference/api/geopandas.sjoin.html)\n",
    "    * Play with inner join or left join, what's the difference? Which one do you want?\n",
    "    * Play with switching around the left_df and right_df, what's the right order?\n",
    "* By county: count number of stops and stops per sq_mi.\n",
    "    * Hint 1: Start with a CRS with units in feet or meters, then do a conversion to sq mi. [CRS in shared_utils](https://github.com/cal-itp/data-analyses/blob/main/_shared_utils/shared_utils/geography_utils.py)\n",
    "    * Hint 2: to find area, you can create a new column and calculate `gdf.geometry.area`. [geometry manipulations docs](https://geopandas.org/en/stable/docs/user_guide/geometric_manipulations.html)"
   ]
  },
  {
   "cell_type": "markdown",
   "id": "dc57f937-8c30-4435-ae47-3c9aa72de5c2",
   "metadata": {},
   "source": []
  }
 ],
 "metadata": {
  "kernelspec": {
   "display_name": "Python 3 (ipykernel)",
   "language": "python",
   "name": "python3"
  },
  "language_info": {
   "codemirror_mode": {
    "name": "ipython",
    "version": 3
   },
   "file_extension": ".py",
   "mimetype": "text/x-python",
   "name": "python",
   "nbconvert_exporter": "python",
   "pygments_lexer": "ipython3",
   "version": "3.9.13"
  }
 },
 "nbformat": 4,
 "nbformat_minor": 5
}
