{
 "cells": [
  {
   "cell_type": "markdown",
   "id": "3f74a524-f90a-4ad5-8d98-368afc398b46",
   "metadata": {},
   "source": [
    "# Exercise 3: Strings, Functions, If Else, For Loops"
   ]
  },
  {
   "cell_type": "code",
   "execution_count": 58,
   "id": "ba8a0d90-9d57-4d01-9eb4-0b255970995e",
   "metadata": {},
   "outputs": [],
   "source": [
    "import altair as alt\n",
    "import numpy as np\n",
    "import pandas as pd\n",
    "from calitp_data_analysis import calitp_color_palette"
   ]
  },
  {
   "cell_type": "code",
   "execution_count": 2,
   "id": "ddcdbbc1-2e1b-4797-bd34-07d9a1999cb6",
   "metadata": {},
   "outputs": [],
   "source": [
    "pd.options.display.max_columns = 100\n",
    "pd.options.display.float_format = \"{:.2f}\".format\n",
    "pd.set_option(\"display.max_rows\", None)\n",
    "pd.set_option(\"display.max_colwidth\", None)"
   ]
  },
  {
   "cell_type": "markdown",
   "id": "8eec9257-7578-422c-b6d1-afe496e8ca70",
   "metadata": {},
   "source": [
    "* Using a f-strings, load in your merged dataframe from Exercise 3."
   ]
  },
  {
   "cell_type": "code",
   "execution_count": 3,
   "id": "7c52b09e-90b5-4a5d-8fda-ca19cb8fe3cd",
   "metadata": {},
   "outputs": [],
   "source": [
    "GCS_FILE_PATH = \"gs://calitp-analytics-data/data-analyses/starter_kit/\""
   ]
  },
  {
   "cell_type": "code",
   "execution_count": 4,
   "id": "e0222b8c-0996-47bb-8639-fc703cfbd249",
   "metadata": {},
   "outputs": [],
   "source": [
    "FILE = \"starter_kit_example_merge.parquet\""
   ]
  },
  {
   "cell_type": "code",
   "execution_count": 5,
   "id": "36bbc1d2-4285-4399-a0fd-1e02c5e5d5a1",
   "metadata": {},
   "outputs": [],
   "source": [
    "df = pd.read_parquet(f\"{GCS_FILE_PATH}{FILE}\")"
   ]
  },
  {
   "cell_type": "code",
   "execution_count": 7,
   "id": "c97f0ec6-bea0-401a-bb27-f37984a762eb",
   "metadata": {},
   "outputs": [
    {
     "data": {
      "text/html": [
       "<div>\n",
       "<style scoped>\n",
       "    .dataframe tbody tr th:only-of-type {\n",
       "        vertical-align: middle;\n",
       "    }\n",
       "\n",
       "    .dataframe tbody tr th {\n",
       "        vertical-align: top;\n",
       "    }\n",
       "\n",
       "    .dataframe thead th {\n",
       "        text-align: right;\n",
       "    }\n",
       "</style>\n",
       "<table border=\"1\" class=\"dataframe\">\n",
       "  <thead>\n",
       "    <tr style=\"text-align: right;\">\n",
       "      <th></th>\n",
       "      <th>ct_district</th>\n",
       "      <th>project_name</th>\n",
       "      <th>Scope of Work</th>\n",
       "      <th>Project Cost</th>\n",
       "      <th>accessibility_score</th>\n",
       "      <th>dac_accessibility_score</th>\n",
       "      <th>dac_traffic_impacts_score</th>\n",
       "      <th>freight_efficiency_score</th>\n",
       "      <th>freight_sustainability_score</th>\n",
       "      <th>mode_shift_score</th>\n",
       "      <th>lu_natural_resources_score</th>\n",
       "      <th>safety_score</th>\n",
       "      <th>vmt_score</th>\n",
       "      <th>zev_score</th>\n",
       "      <th>public_engagement_score</th>\n",
       "      <th>climate_resilience_score</th>\n",
       "      <th>program_fit_score</th>\n",
       "      <th>overall_score</th>\n",
       "    </tr>\n",
       "  </thead>\n",
       "  <tbody>\n",
       "    <tr>\n",
       "      <th>0</th>\n",
       "      <td>2</td>\n",
       "      <td>Meadow Magic Multi-Use Path</td>\n",
       "      <td>A 2-mile Class I bike lane and multi-use path through a scenic meadow, featuring wildflower plantings, public art installations, and educational signage highlighting local wildlife.</td>\n",
       "      <td>6265525</td>\n",
       "      <td>1</td>\n",
       "      <td>8</td>\n",
       "      <td>9</td>\n",
       "      <td>3</td>\n",
       "      <td>10</td>\n",
       "      <td>3</td>\n",
       "      <td>8</td>\n",
       "      <td>2</td>\n",
       "      <td>2</td>\n",
       "      <td>10</td>\n",
       "      <td>4</td>\n",
       "      <td>2</td>\n",
       "      <td>4</td>\n",
       "      <td>66</td>\n",
       "    </tr>\n",
       "  </tbody>\n",
       "</table>\n",
       "</div>"
      ],
      "text/plain": [
       "   ct_district                 project_name  \\\n",
       "0            2  Meadow Magic Multi-Use Path   \n",
       "\n",
       "                                                                                                                                                                            Scope of Work  \\\n",
       "0   A 2-mile Class I bike lane and multi-use path through a scenic meadow, featuring wildflower plantings, public art installations, and educational signage highlighting local wildlife.   \n",
       "\n",
       "   Project Cost  accessibility_score  dac_accessibility_score  \\\n",
       "0       6265525                    1                        8   \n",
       "\n",
       "   dac_traffic_impacts_score  freight_efficiency_score  \\\n",
       "0                          9                         3   \n",
       "\n",
       "   freight_sustainability_score  mode_shift_score  lu_natural_resources_score  \\\n",
       "0                            10                 3                           8   \n",
       "\n",
       "   safety_score  vmt_score  zev_score  public_engagement_score  \\\n",
       "0             2          2         10                        4   \n",
       "\n",
       "   climate_resilience_score  program_fit_score  overall_score  \n",
       "0                         2                  4             66  "
      ]
     },
     "execution_count": 7,
     "metadata": {},
     "output_type": "execute_result"
    }
   ],
   "source": [
    "df.head(1)"
   ]
  },
  {
   "cell_type": "markdown",
   "id": "673fa239-dc06-4ef8-9513-ee167e80898e",
   "metadata": {},
   "source": [
    "## Categorizing\n",
    "* There are 30 projects. They all vary in themes, some are transit oriented while others are focused on Active Transportation (ATP).\n",
    "* Categorizing data is an important part of data cleaning and analyzing so we can present the data in a more succint and insightful way. \n",
    "* Let's organize projects into three categories.\n",
    "    * ATP\n",
    "    * Transit\n",
    "    * General Lanes"
   ]
  },
  {
   "cell_type": "markdown",
   "id": "49486dc6-a686-47fa-8cef-e252d7ec349d",
   "metadata": {},
   "source": [
    "### Task 1: Strings\n",
    "* Below are some of the common keywords that fall into the categories detailed above. They are held in a `list`.\n",
    "* Feel free to add other terms you think are relevant. \n",
    "* We are going to search the `Scope of Work` column for these keywords. "
   ]
  },
  {
   "cell_type": "code",
   "execution_count": 8,
   "id": "6a6b817f-15e2-4d1c-aeae-5d7e9661a6f0",
   "metadata": {},
   "outputs": [],
   "source": [
    "transit = [\"transit\", \"passenger rail\", \"bus\", \"ferry\"]\n",
    "atp = [\"bike\", \"pedestrian\", \"bicycle\", \"sidewalk\", \"path\"]\n",
    "general_lanes = [\"general\", \"auxiliary\"]"
   ]
  },
  {
   "cell_type": "markdown",
   "id": "6caf3a84-fcd7-4531-befe-11e76c01c8f1",
   "metadata": {},
   "source": [
    "#### Step 1: Cleaning\n",
    "* Remember in Exercise 2 some of the project names didn't merge between the two dataframes?\n",
    "* In the real world, a lot of string data can be spelled in different ways, different cases, abbreviated, and the like.\n",
    "* The easiest way to clean this up is by lowercasing, stripping the white spaces, and replacing characters.\n",
    "* Also, by simplifying a string column, we can search through it easier. "
   ]
  },
  {
   "cell_type": "code",
   "execution_count": 9,
   "id": "ea4a4df7-61ec-430b-a827-302704857318",
   "metadata": {},
   "outputs": [
    {
     "name": "stderr",
     "output_type": "stream",
     "text": [
      "/tmp/ipykernel_359/3727765838.py:2: FutureWarning: The default value of regex will change from True to False in a future version. In addition, single character regular expressions will *not* be treated as literal strings when regex=True.\n",
      "  df[\"Scope of Work\"]\n"
     ]
    }
   ],
   "source": [
    "df[\"Scope of Work\"] = (\n",
    "    df[\"Scope of Work\"]\n",
    "    .str.lower()\n",
    "    .str.strip()\n",
    "    .str.replace(\"-\", \" \")\n",
    "    .str.replace(\"+\", \" \")\n",
    "    .str.replace(\"_\", \" \")\n",
    ")"
   ]
  },
  {
   "cell_type": "markdown",
   "id": "c3da188c-2afe-49f4-bbbd-8fecd8dfe10f",
   "metadata": {},
   "source": [
    "* `str.contains()` allows you to search through the column. \n",
    "* Let's search for projects that have \"transit\" in their descriptions. \n",
    "* <b>Tip</b>\n",
    "    * The data we work with tends to be pretty wide. Scrolling horizontally gets tiresome.\n",
    "    * Placing all the columns you want to temporarily work within a `list` like `preview_subset` below is a good idea. "
   ]
  },
  {
   "cell_type": "code",
   "execution_count": 10,
   "id": "315228d8-a72e-4f18-a0e7-2a254c87cc23",
   "metadata": {},
   "outputs": [],
   "source": [
    "preview_subset = [\"project_name\", \"Scope of Work\"]"
   ]
  },
  {
   "cell_type": "code",
   "execution_count": 11,
   "id": "be843d6a-b751-4e9f-8820-b521089914d3",
   "metadata": {},
   "outputs": [],
   "source": [
    "transit_only_projects = df.loc[df[\"Scope of Work\"].str.contains(\"transit\")]"
   ]
  },
  {
   "cell_type": "markdown",
   "id": "ec68f286-cdeb-4b7b-86ef-6d35c8ee9587",
   "metadata": {},
   "source": [
    "* Let's see how many transit projects are in this dataset.\n",
    "* Let's read through the Scope of Work to make sure it's what we expect."
   ]
  },
  {
   "cell_type": "code",
   "execution_count": 12,
   "id": "0d9a6259-8748-41fe-a549-01bdf0e9c273",
   "metadata": {},
   "outputs": [
    {
     "data": {
      "text/plain": [
       "7"
      ]
     },
     "execution_count": 12,
     "metadata": {},
     "output_type": "execute_result"
    }
   ],
   "source": [
    "len(transit_only_projects)"
   ]
  },
  {
   "cell_type": "code",
   "execution_count": 13,
   "id": "6789307c-5808-4501-a1a6-5a14a12b0219",
   "metadata": {},
   "outputs": [
    {
     "data": {
      "text/html": [
       "<div>\n",
       "<style scoped>\n",
       "    .dataframe tbody tr th:only-of-type {\n",
       "        vertical-align: middle;\n",
       "    }\n",
       "\n",
       "    .dataframe tbody tr th {\n",
       "        vertical-align: top;\n",
       "    }\n",
       "\n",
       "    .dataframe thead th {\n",
       "        text-align: right;\n",
       "    }\n",
       "</style>\n",
       "<table border=\"1\" class=\"dataframe\">\n",
       "  <thead>\n",
       "    <tr style=\"text-align: right;\">\n",
       "      <th></th>\n",
       "      <th>project_name</th>\n",
       "      <th>Scope of Work</th>\n",
       "    </tr>\n",
       "  </thead>\n",
       "  <tbody>\n",
       "    <tr>\n",
       "      <th>11</th>\n",
       "      <td>Greenway Gables Managed Lanes</td>\n",
       "      <td>managed lanes prioritizing carpools, clean vehicles, and public transit, featuring real time traffic updates and incentives for sustainable transportation choices.</td>\n",
       "    </tr>\n",
       "    <tr>\n",
       "      <th>16</th>\n",
       "      <td>Sparkle City Smart Streets Initiative</td>\n",
       "      <td>an intelligent transportation system integrating traffic management, real time transit information, and smart parking solutions to enhance mobility and reduce congestion.</td>\n",
       "    </tr>\n",
       "    <tr>\n",
       "      <th>19</th>\n",
       "      <td>Rolling Renaissance Rabbit Express</td>\n",
       "      <td>new, eco friendly rolling stock for public transit, incorporating advanced propulsion systems, comfortable seating, and onboard amenities.</td>\n",
       "    </tr>\n",
       "    <tr>\n",
       "      <th>20</th>\n",
       "      <td>Transit Treasure Transit Oasis</td>\n",
       "      <td>transit supportive features, including shelters, wi fi, and real time information displays, prioritizing passenger convenience and accessibility.</td>\n",
       "    </tr>\n",
       "    <tr>\n",
       "      <th>25</th>\n",
       "      <td>Trail of Treats and Transit Hub</td>\n",
       "      <td>a multi use path connecting to public transit, featuring public art installations, wayfinding signage, and amenities like bike storage and repair stations.</td>\n",
       "    </tr>\n",
       "    <tr>\n",
       "      <th>27</th>\n",
       "      <td>Park and Ride Petal Paradise</td>\n",
       "      <td>an attractive park and ride facility with amenities like ev charging, wi fi, and convenient access to nearby transit options.</td>\n",
       "    </tr>\n",
       "    <tr>\n",
       "      <th>43</th>\n",
       "      <td>Brookside Bus Blossom Lane</td>\n",
       "      <td>prioritize public transportation and enhance air quality by dedicating lanes to buses and hovs on brookside boulevard, integrating smart traffic signals and real time transit information inspired by the ancient elves.</td>\n",
       "    </tr>\n",
       "  </tbody>\n",
       "</table>\n",
       "</div>"
      ],
      "text/plain": [
       "                             project_name  \\\n",
       "11          Greenway Gables Managed Lanes   \n",
       "16  Sparkle City Smart Streets Initiative   \n",
       "19     Rolling Renaissance Rabbit Express   \n",
       "20         Transit Treasure Transit Oasis   \n",
       "25        Trail of Treats and Transit Hub   \n",
       "27           Park and Ride Petal Paradise   \n",
       "43             Brookside Bus Blossom Lane   \n",
       "\n",
       "                                                                                                                                                                                                                Scope of Work  \n",
       "11                                                        managed lanes prioritizing carpools, clean vehicles, and public transit, featuring real time traffic updates and incentives for sustainable transportation choices.  \n",
       "16                                                 an intelligent transportation system integrating traffic management, real time transit information, and smart parking solutions to enhance mobility and reduce congestion.  \n",
       "19                                                                                 new, eco friendly rolling stock for public transit, incorporating advanced propulsion systems, comfortable seating, and onboard amenities.  \n",
       "20                                                                          transit supportive features, including shelters, wi fi, and real time information displays, prioritizing passenger convenience and accessibility.  \n",
       "25                                                                a multi use path connecting to public transit, featuring public art installations, wayfinding signage, and amenities like bike storage and repair stations.  \n",
       "27                                                                                              an attractive park and ride facility with amenities like ev charging, wi fi, and convenient access to nearby transit options.  \n",
       "43  prioritize public transportation and enhance air quality by dedicating lanes to buses and hovs on brookside boulevard, integrating smart traffic signals and real time transit information inspired by the ancient elves.  "
      ]
     },
     "execution_count": 13,
     "metadata": {},
     "output_type": "execute_result"
    }
   ],
   "source": [
    "transit_only_projects[preview_subset]"
   ]
  },
  {
   "cell_type": "markdown",
   "id": "d3adfb74-5a24-47f8-88da-92fe5591821a",
   "metadata": {},
   "source": [
    "#### Step 2: Filtering\n",
    "* We've found all the projects that says \"transit\" somewhere in its description. \n",
    "* Now there are just many more elements to go. We forgot about bikes, bus, rail..\n",
    "* However, the method we used above leaves us with multiple dataframes. We actually just want our one original dataframe tagged with categories. \n",
    "* A faster way: join all the keywords you want.\n",
    "* | designates \"or\".\n",
    "* You can read this as \"I want projects that contain the word bus, transit, or rail...\""
   ]
  },
  {
   "cell_type": "code",
   "execution_count": 14,
   "id": "c2575f75-44ac-46ba-a334-fdf984546cd3",
   "metadata": {},
   "outputs": [],
   "source": [
    "transit_keywords = f\"({'|'.join(transit)})\""
   ]
  },
  {
   "cell_type": "code",
   "execution_count": 15,
   "id": "f6a2a521-c0ae-4c2d-830d-4020a13855f2",
   "metadata": {},
   "outputs": [
    {
     "data": {
      "text/plain": [
       "'(transit|passenger rail|bus|ferry)'"
      ]
     },
     "execution_count": 15,
     "metadata": {},
     "output_type": "execute_result"
    }
   ],
   "source": [
    "# Print it out\n",
    "transit_keywords"
   ]
  },
  {
   "cell_type": "markdown",
   "id": "937913db-407e-415c-aabb-31d3f511ef0b",
   "metadata": {},
   "source": [
    "* Filter again - notice the .loc after df and how there are brackets around `df`?\n",
    "* How many more projects appear when we filter for 3 additional transit related keywords, compared to only transit?"
   ]
  },
  {
   "cell_type": "code",
   "execution_count": 16,
   "id": "e5e23b6f-98b8-4219-bc52-d847ea39d121",
   "metadata": {},
   "outputs": [
    {
     "name": "stderr",
     "output_type": "stream",
     "text": [
      "/tmp/ipykernel_359/2441750228.py:1: UserWarning: This pattern is interpreted as a regular expression, and has match groups. To actually get the groups, use str.extract.\n",
      "  df.loc[df[\"Scope of Work\"].str.contains(transit_keywords)][preview_subset]\n"
     ]
    },
    {
     "data": {
      "text/html": [
       "<div>\n",
       "<style scoped>\n",
       "    .dataframe tbody tr th:only-of-type {\n",
       "        vertical-align: middle;\n",
       "    }\n",
       "\n",
       "    .dataframe tbody tr th {\n",
       "        vertical-align: top;\n",
       "    }\n",
       "\n",
       "    .dataframe thead th {\n",
       "        text-align: right;\n",
       "    }\n",
       "</style>\n",
       "<table border=\"1\" class=\"dataframe\">\n",
       "  <thead>\n",
       "    <tr style=\"text-align: right;\">\n",
       "      <th></th>\n",
       "      <th>project_name</th>\n",
       "      <th>Scope of Work</th>\n",
       "    </tr>\n",
       "  </thead>\n",
       "  <tbody>\n",
       "    <tr>\n",
       "      <th>11</th>\n",
       "      <td>Greenway Gables Managed Lanes</td>\n",
       "      <td>managed lanes prioritizing carpools, clean vehicles, and public transit, featuring real time traffic updates and incentives for sustainable transportation choices.</td>\n",
       "    </tr>\n",
       "    <tr>\n",
       "      <th>16</th>\n",
       "      <td>Sparkle City Smart Streets Initiative</td>\n",
       "      <td>an intelligent transportation system integrating traffic management, real time transit information, and smart parking solutions to enhance mobility and reduce congestion.</td>\n",
       "    </tr>\n",
       "    <tr>\n",
       "      <th>18</th>\n",
       "      <td>Coastal Commuter Carousel</td>\n",
       "      <td>a 30 mile passenger rail line connecting coastal towns, featuring modern train sets, enhanced station amenities, and scenic viewing cars.</td>\n",
       "    </tr>\n",
       "    <tr>\n",
       "      <th>19</th>\n",
       "      <td>Rolling Renaissance Rabbit Express</td>\n",
       "      <td>new, eco friendly rolling stock for public transit, incorporating advanced propulsion systems, comfortable seating, and onboard amenities.</td>\n",
       "    </tr>\n",
       "    <tr>\n",
       "      <th>20</th>\n",
       "      <td>Transit Treasure Transit Oasis</td>\n",
       "      <td>transit supportive features, including shelters, wi fi, and real time information displays, prioritizing passenger convenience and accessibility.</td>\n",
       "    </tr>\n",
       "    <tr>\n",
       "      <th>21</th>\n",
       "      <td>Berry Best Bus Rapid Transit</td>\n",
       "      <td>dedicated bus lanes with comfortable stops, featuring off board fare payment, priority traffic signals, and enhanced passenger amenities.</td>\n",
       "    </tr>\n",
       "    <tr>\n",
       "      <th>25</th>\n",
       "      <td>Trail of Treats and Transit Hub</td>\n",
       "      <td>a multi use path connecting to public transit, featuring public art installations, wayfinding signage, and amenities like bike storage and repair stations.</td>\n",
       "    </tr>\n",
       "    <tr>\n",
       "      <th>27</th>\n",
       "      <td>Park and Ride Petal Paradise</td>\n",
       "      <td>an attractive park and ride facility with amenities like ev charging, wi fi, and convenient access to nearby transit options.</td>\n",
       "    </tr>\n",
       "    <tr>\n",
       "      <th>43</th>\n",
       "      <td>Brookside Bus Blossom Lane</td>\n",
       "      <td>prioritize public transportation and enhance air quality by dedicating lanes to buses and hovs on brookside boulevard, integrating smart traffic signals and real time transit information inspired by the ancient elves.</td>\n",
       "    </tr>\n",
       "  </tbody>\n",
       "</table>\n",
       "</div>"
      ],
      "text/plain": [
       "                             project_name  \\\n",
       "11          Greenway Gables Managed Lanes   \n",
       "16  Sparkle City Smart Streets Initiative   \n",
       "18              Coastal Commuter Carousel   \n",
       "19     Rolling Renaissance Rabbit Express   \n",
       "20         Transit Treasure Transit Oasis   \n",
       "21           Berry Best Bus Rapid Transit   \n",
       "25        Trail of Treats and Transit Hub   \n",
       "27           Park and Ride Petal Paradise   \n",
       "43             Brookside Bus Blossom Lane   \n",
       "\n",
       "                                                                                                                                                                                                                Scope of Work  \n",
       "11                                                        managed lanes prioritizing carpools, clean vehicles, and public transit, featuring real time traffic updates and incentives for sustainable transportation choices.  \n",
       "16                                                 an intelligent transportation system integrating traffic management, real time transit information, and smart parking solutions to enhance mobility and reduce congestion.  \n",
       "18                                                                                  a 30 mile passenger rail line connecting coastal towns, featuring modern train sets, enhanced station amenities, and scenic viewing cars.  \n",
       "19                                                                                 new, eco friendly rolling stock for public transit, incorporating advanced propulsion systems, comfortable seating, and onboard amenities.  \n",
       "20                                                                          transit supportive features, including shelters, wi fi, and real time information displays, prioritizing passenger convenience and accessibility.  \n",
       "21                                                                                  dedicated bus lanes with comfortable stops, featuring off board fare payment, priority traffic signals, and enhanced passenger amenities.  \n",
       "25                                                                a multi use path connecting to public transit, featuring public art installations, wayfinding signage, and amenities like bike storage and repair stations.  \n",
       "27                                                                                              an attractive park and ride facility with amenities like ev charging, wi fi, and convenient access to nearby transit options.  \n",
       "43  prioritize public transportation and enhance air quality by dedicating lanes to buses and hovs on brookside boulevard, integrating smart traffic signals and real time transit information inspired by the ancient elves.  "
      ]
     },
     "execution_count": 16,
     "metadata": {},
     "output_type": "execute_result"
    }
   ],
   "source": [
    "df.loc[df[\"Scope of Work\"].str.contains(transit_keywords)][preview_subset]"
   ]
  },
  {
   "cell_type": "code",
   "execution_count": 17,
   "id": "7b62f28d-7b28-4258-8efa-74d1f9a41d04",
   "metadata": {},
   "outputs": [
    {
     "name": "stdout",
     "output_type": "stream",
     "text": [
      "7\n",
      "9\n"
     ]
    },
    {
     "name": "stderr",
     "output_type": "stream",
     "text": [
      "/tmp/ipykernel_359/1261237332.py:3: UserWarning: This pattern is interpreted as a regular expression, and has match groups. To actually get the groups, use str.extract.\n",
      "  print(len(df.loc[df[\"Scope of Work\"].str.contains(transit_keywords)]))\n"
     ]
    }
   ],
   "source": [
    "print(len(transit_only_projects))\n",
    "print(len(df.loc[df[\"Scope of Work\"].str.contains(transit_keywords)]))"
   ]
  },
  {
   "cell_type": "markdown",
   "id": "7c6717f8-4088-4c1f-9ec6-b9959fd6d283",
   "metadata": {},
   "source": [
    "\n",
    "* Let's put this all together. \n",
    "* I want any project that contains a transit component to be tagged as \"Y\" in a column called  \"Transit\". If a project doesn't have a transit component, it gets tagged as a \"N\"."
   ]
  },
  {
   "cell_type": "code",
   "execution_count": 18,
   "id": "47afb269-672f-44c1-8ab5-d70921c6e703",
   "metadata": {},
   "outputs": [
    {
     "name": "stderr",
     "output_type": "stream",
     "text": [
      "/tmp/ipykernel_359/1837788452.py:2: UserWarning: This pattern is interpreted as a regular expression, and has match groups. To actually get the groups, use str.extract.\n",
      "  (df[\"Scope of Work\"].str.contains(transit_keywords)),\n"
     ]
    }
   ],
   "source": [
    "df[\"Transit\"] = np.where(\n",
    "    (df[\"Scope of Work\"].str.contains(transit_keywords)),\n",
    "    \"Y\",\n",
    "    \"N\",\n",
    ")"
   ]
  },
  {
   "cell_type": "markdown",
   "id": "dfe862f0-f77e-4bf5-8710-888d3a8d7a4c",
   "metadata": {},
   "source": [
    "* Using `value_counts()` we can see the breakdown of transit related projects."
   ]
  },
  {
   "cell_type": "code",
   "execution_count": 19,
   "id": "c63f2ff8-3d2f-41c6-96d1-36d35159aef8",
   "metadata": {},
   "outputs": [
    {
     "data": {
      "text/plain": [
       "N    35\n",
       "Y     9\n",
       "Name: Transit, dtype: int64"
      ]
     },
     "execution_count": 19,
     "metadata": {},
     "output_type": "execute_result"
    }
   ],
   "source": [
    "df.Transit.value_counts()"
   ]
  },
  {
   "cell_type": "markdown",
   "id": "651cf0bd-3bb1-44a7-a436-8f9b4d90a488",
   "metadata": {
    "tags": []
   },
   "source": [
    "### Task 2: Functions \n",
    "* It looks only the 9 transit projects were categorized.\n",
    "* We are missing the 2 categories: ATP and General Lane related projects.\n",
    "* We could repeat the steps above or we can use a function.\n",
    "    * You can think of a function as a piece of code you write only once but reuse more than once.\n",
    "    * In the long run, functions save you work and look neater when you present your work.\n",
    "* <b> Resources</b>: Functions are incredibly important. Please spend more time than usual on this section and practice the tutorials linked.\n",
    "    * [Please read this great tutorial.](https://www.practicalpythonfordatascience.com/00_python_crash_course_functions)\n",
    "    * [And refer to this page on our docs.](https://docs.calitp.org/data-infra/analytics_new_analysts/01-data-analysis-intro.html#functions)"
   ]
  },
  {
   "cell_type": "code",
   "execution_count": null,
   "id": "00ead246-8879-4075-a632-d0ded58df558",
   "metadata": {},
   "outputs": [],
   "source": [
    "# Practice here"
   ]
  },
  {
   "cell_type": "markdown",
   "id": "463e13cf-7ba1-4499-bcd0-465a6457f856",
   "metadata": {
    "tags": []
   },
   "source": [
    "####  Let's build a function together.\n",
    "* This will be repetitive after the tutorials, but you will use functions all the time at DDS and it's one of the most critical concepts to grasp.\n",
    "* Start your function with `def():`` and the name you'd like."
   ]
  },
  {
   "cell_type": "code",
   "execution_count": null,
   "id": "97e597a2-8625-4f2b-8646-760c0c011208",
   "metadata": {},
   "outputs": [],
   "source": [
    "# def categorize():"
   ]
  },
  {
   "cell_type": "markdown",
   "id": "06ccd282-cf21-462b-8930-9a3148671ff1",
   "metadata": {},
   "source": [
    "* Now let's think of what are the two elements that we will repeat.\n",
    "* We merely want to substitute `transit_keywords` with ATP or General Lane related keywords.\n",
    "* Instead of the `df[\"Transit]\"`, we want to create two new columns called something like `df[\"ATP]\"` and `df[\"General_Lanes]\"` to hold our yes/no results.\n",
    "* Add the two elements that need to be substituted into the argument of your function.\n",
    "    * It's good practice to specify what exactly the parameter should be: a string/list/dataframe. "
   ]
  },
  {
   "cell_type": "code",
   "execution_count": null,
   "id": "61973dc6-d99b-48f0-842f-a3c8fe74f064",
   "metadata": {},
   "outputs": [],
   "source": [
    "# def categorize(df:pd.DataFrame, keywords:list, new_column:str):"
   ]
  },
  {
   "cell_type": "markdown",
   "id": "ae178f6d-0f76-419c-aab2-9924ba294605",
   "metadata": {},
   "source": [
    "* It's also a nice idea to document what your function will return.\n",
    "* In our case, it's a Pandas dataframe. "
   ]
  },
  {
   "cell_type": "code",
   "execution_count": null,
   "id": "a794693a-3bf2-48ba-b0a7-1ca3a41e03af",
   "metadata": {},
   "outputs": [],
   "source": [
    "# def categorize(df:pd.DataFrame, keywords:list, new_column:str)->pd.DataFrame:"
   ]
  },
  {
   "cell_type": "markdown",
   "id": "be820c1a-a0d2-4b2f-bf01-70e753603291",
   "metadata": {},
   "source": [
    "* Think about the steps we took to categorize transit only.\n",
    "* Add the sections of the code we will be reusing and sub in the original variables for the arguments.\n",
    "    *  First, we joined the keywords from a list into a tuple.\n",
    "    *  Second, we searched through the Scope of Work column for the keywords.\n",
    "    *  Third, if we find the keyword, we will tag the project as \"Y\" in the column \"new_column\". If the keyword isn't found, the project is tagged as \"N\"."
   ]
  },
  {
   "cell_type": "code",
   "execution_count": 20,
   "id": "4721b564-726a-4e05-9d27-8035609b5fcf",
   "metadata": {},
   "outputs": [],
   "source": [
    "def categorize(df: pd.DataFrame, keywords: list, new_column: str) -> pd.DataFrame:\n",
    "    joined_keywords = f\"({'|'.join(keywords)})\"  # Remember this used to be the list called transit_keywords, but it must be changed into a tuple.\n",
    "\n",
    "    # We are now creating a new column: notice how parameters has no quotation marks.\n",
    "    df[new_column] = np.where(\n",
    "                                        (df[\"Scope of Work\"].str.contains(joined_keywords)), # Why do you think \"Scope of Work\" has quotation marks around it?\n",
    "        \"Y\",\n",
    "        \"N\",\n",
    "    )\n",
    "\n",
    "    # We are returning the updated dataframe from this function\n",
    "    return df"
   ]
  },
  {
   "cell_type": "markdown",
   "id": "81bbb109-beef-452c-b8d9-eb13e7b9ee03",
   "metadata": {},
   "source": [
    "* Now let's use your function"
   ]
  },
  {
   "cell_type": "code",
   "execution_count": 21,
   "id": "23e31c98-17b3-41e2-883a-14dae9d6da7e",
   "metadata": {},
   "outputs": [
    {
     "name": "stderr",
     "output_type": "stream",
     "text": [
      "/tmp/ipykernel_359/1955324842.py:8: UserWarning: This pattern is interpreted as a regular expression, and has match groups. To actually get the groups, use str.extract.\n",
      "  (df[\"Scope of Work\"].str.contains(joined_keywords)), # Why do you think \"Scope of Work\" has quotation marks around it?\n"
     ]
    }
   ],
   "source": [
    "df = categorize(df, atp, \"ATP\")"
   ]
  },
  {
   "cell_type": "code",
   "execution_count": 22,
   "id": "d5ec64cf-432c-45e2-b14d-f4ea7ca3de2a",
   "metadata": {},
   "outputs": [
    {
     "data": {
      "text/plain": [
       "N    30\n",
       "Y    14\n",
       "Name: ATP, dtype: int64"
      ]
     },
     "execution_count": 22,
     "metadata": {},
     "output_type": "execute_result"
    }
   ],
   "source": [
    "df.ATP.value_counts()"
   ]
  },
  {
   "cell_type": "code",
   "execution_count": 23,
   "id": "882a02a6-ce39-4da2-b2be-7e91322624e4",
   "metadata": {},
   "outputs": [
    {
     "name": "stderr",
     "output_type": "stream",
     "text": [
      "/tmp/ipykernel_359/1955324842.py:8: UserWarning: This pattern is interpreted as a regular expression, and has match groups. To actually get the groups, use str.extract.\n",
      "  (df[\"Scope of Work\"].str.contains(joined_keywords)), # Why do you think \"Scope of Work\" has quotation marks around it?\n"
     ]
    }
   ],
   "source": [
    "df = categorize(df, transit, \"Transit\")"
   ]
  },
  {
   "cell_type": "code",
   "execution_count": 24,
   "id": "ee56ee97-307c-44a4-a2d4-b02eff954f87",
   "metadata": {},
   "outputs": [
    {
     "name": "stderr",
     "output_type": "stream",
     "text": [
      "/tmp/ipykernel_359/1955324842.py:8: UserWarning: This pattern is interpreted as a regular expression, and has match groups. To actually get the groups, use str.extract.\n",
      "  (df[\"Scope of Work\"].str.contains(joined_keywords)), # Why do you think \"Scope of Work\" has quotation marks around it?\n"
     ]
    }
   ],
   "source": [
    "df = categorize(df, general_lanes, \"General_Lanes\")"
   ]
  },
  {
   "cell_type": "code",
   "execution_count": 25,
   "id": "96f2efba-4179-4a8c-b969-fd2990f8a129",
   "metadata": {},
   "outputs": [
    {
     "data": {
      "text/plain": [
       "N    40\n",
       "Y     4\n",
       "Name: General_Lanes, dtype: int64"
      ]
     },
     "execution_count": 25,
     "metadata": {},
     "output_type": "execute_result"
    }
   ],
   "source": [
    "df.General_Lanes.value_counts()"
   ]
  },
  {
   "cell_type": "markdown",
   "id": "405aac8e-4488-47fa-bbb1-a12121ed8d15",
   "metadata": {},
   "source": [
    "* Use the `groupby` technique from Exercise 2 to get some descriptive statistics for these 3 new columns\n",
    "* Use `.reset_index()` after `aggregate()` to see what happens."
   ]
  },
  {
   "cell_type": "code",
   "execution_count": 39,
   "id": "62115dcb-ea34-4bb1-9bd1-e678ec015b8c",
   "metadata": {},
   "outputs": [
    {
     "data": {
      "text/html": [
       "<div>\n",
       "<style scoped>\n",
       "    .dataframe tbody tr th:only-of-type {\n",
       "        vertical-align: middle;\n",
       "    }\n",
       "\n",
       "    .dataframe tbody tr th {\n",
       "        vertical-align: top;\n",
       "    }\n",
       "\n",
       "    .dataframe thead th {\n",
       "        text-align: right;\n",
       "    }\n",
       "</style>\n",
       "<table border=\"1\" class=\"dataframe\">\n",
       "  <thead>\n",
       "    <tr style=\"text-align: right;\">\n",
       "      <th></th>\n",
       "      <th>General_Lanes</th>\n",
       "      <th>Transit</th>\n",
       "      <th>ATP</th>\n",
       "      <th>project_name</th>\n",
       "      <th>overall_score</th>\n",
       "    </tr>\n",
       "  </thead>\n",
       "  <tbody>\n",
       "    <tr>\n",
       "      <th>0</th>\n",
       "      <td>N</td>\n",
       "      <td>N</td>\n",
       "      <td>N</td>\n",
       "      <td>20</td>\n",
       "      <td>73.00</td>\n",
       "    </tr>\n",
       "    <tr>\n",
       "      <th>1</th>\n",
       "      <td>N</td>\n",
       "      <td>N</td>\n",
       "      <td>Y</td>\n",
       "      <td>11</td>\n",
       "      <td>75.00</td>\n",
       "    </tr>\n",
       "    <tr>\n",
       "      <th>2</th>\n",
       "      <td>N</td>\n",
       "      <td>Y</td>\n",
       "      <td>N</td>\n",
       "      <td>8</td>\n",
       "      <td>78.00</td>\n",
       "    </tr>\n",
       "    <tr>\n",
       "      <th>3</th>\n",
       "      <td>N</td>\n",
       "      <td>Y</td>\n",
       "      <td>Y</td>\n",
       "      <td>1</td>\n",
       "      <td>83.00</td>\n",
       "    </tr>\n",
       "    <tr>\n",
       "      <th>4</th>\n",
       "      <td>Y</td>\n",
       "      <td>N</td>\n",
       "      <td>N</td>\n",
       "      <td>2</td>\n",
       "      <td>65.50</td>\n",
       "    </tr>\n",
       "    <tr>\n",
       "      <th>5</th>\n",
       "      <td>Y</td>\n",
       "      <td>N</td>\n",
       "      <td>Y</td>\n",
       "      <td>2</td>\n",
       "      <td>88.00</td>\n",
       "    </tr>\n",
       "  </tbody>\n",
       "</table>\n",
       "</div>"
      ],
      "text/plain": [
       "  General_Lanes Transit ATP  project_name  overall_score\n",
       "0             N       N   N            20          73.00\n",
       "1             N       N   Y            11          75.00\n",
       "2             N       Y   N             8          78.00\n",
       "3             N       Y   Y             1          83.00\n",
       "4             Y       N   N             2          65.50\n",
       "5             Y       N   Y             2          88.00"
      ]
     },
     "execution_count": 39,
     "metadata": {},
     "output_type": "execute_result"
    }
   ],
   "source": [
    "df.groupby([\"General_Lanes\", \"Transit\", \"ATP\"]).aggregate(\n",
    "    {\"project_name\": \"nunique\", \"overall_score\": \"median\"}\n",
    ").reset_index()"
   ]
  },
  {
   "cell_type": "markdown",
   "id": "54c05583-16c9-4a3a-9dc0-36b4a709faee",
   "metadata": {},
   "source": [
    "## Function + If-Else\n",
    "* Above, we can see all types of combinations of categories a project can fall into. \n",
    "* Let's do away with these \"Y\" and \"N\" columns and create actual categories in an actual column called `categories`.\n",
    "* If a project has \"N\" for all 3 of the General Lane, Transit, and ATP columns, it should be `Other`. \n",
    "* If a project has \"Y\" for all 3, it should be categorized as \"General Lane, Transit, and ATP\".\n",
    "* If a project has \"Y\" for only ATP and Transit, it should be categorized as \"Transit and ATP\".\n",
    "* Yes this will be very tedious given all the combinations!\n",
    "* To write the function to create these categories, read these resources:\n",
    "    * [DDS Apply Docs](https://docs.calitp.org/data-infra/analytics_new_analysts/01-data-analysis-intro.html#functions)\n",
    "    * [DDS If-Else Tutorial](https://docs.calitp.org/data-infra/analytics_new_analysts/01-data-analysis-intro.html#if-else-statements)\n",
    "    * [Geeks for Geeks: if-else with multiple conditions](https://www.geeksforgeeks.org/check-multiple-conditions-in-if-statement-python/)"
   ]
  },
  {
   "cell_type": "code",
   "execution_count": 41,
   "id": "d560dad0-de03-4469-99f8-5fadd9b198dc",
   "metadata": {},
   "outputs": [],
   "source": [
    "def categorize(row):\n",
    "    if (row.General_Lanes == \"N\") & (row.Transit == \"N\") & (row.ATP == \"N\"):\n",
    "        return \"Other\"\n",
    "    elif (row.General_Lanes == \"N\") & (row.Transit == \"N\") & (row.ATP == \"Y\"):\n",
    "        return \"ATP\"\n",
    "    elif (row.General_Lanes == \"N\") & (row.Transit == \"Y\") & (row.ATP == \"N\"):\n",
    "        return \"Transit\"\n",
    "    elif (row.General_Lanes == \"N\") & (row.Transit == \"Y\") & (row.ATP == \"Y\"):\n",
    "        return \"Transit and ATP\"\n",
    "    elif (row.General_Lanes == \"Y\") & (row.Transit == \"N\") & (row.ATP == \"N\"):\n",
    "        return \"General Lanes\"\n",
    "    elif (row.General_Lanes == \"Y\") & (row.Transit == \"N\") & (row.ATP == \"Y\"):\n",
    "        return \"General Lanes and ATP\"\n",
    "    else:\n",
    "        return \"Transit, General Lanes, and ATP\""
   ]
  },
  {
   "cell_type": "code",
   "execution_count": 43,
   "id": "f8b7d946-c724-43cb-9a93-d1003f7f024f",
   "metadata": {},
   "outputs": [],
   "source": [
    "# Apply your function\n",
    "df[\"category\"] = df.apply(categorize, axis=1)"
   ]
  },
  {
   "cell_type": "markdown",
   "id": "df815f56-c2ed-43ff-9180-147beddcffe0",
   "metadata": {},
   "source": [
    "### Please export your output as a `.parquet` to GCS before moving onto the next step"
   ]
  },
  {
   "cell_type": "markdown",
   "id": "14ba020e-e2b3-4447-89e2-abdc0579fc6b",
   "metadata": {},
   "source": [
    "## For Loops \n",
    "* For Loops are one of the greatest gifts of Python. \n",
    "* Below is a simple for loop that prints out all the numbers in range of 10.\n"
   ]
  },
  {
   "cell_type": "code",
   "execution_count": 47,
   "id": "48495a9f-e29c-41eb-b3e7-de6371fbd182",
   "metadata": {},
   "outputs": [
    {
     "name": "stdout",
     "output_type": "stream",
     "text": [
      "0\n",
      "1\n",
      "2\n",
      "3\n",
      "4\n",
      "5\n",
      "6\n",
      "7\n",
      "8\n",
      "9\n"
     ]
    }
   ],
   "source": [
    "for i in range(10):\n",
    "    print(i)"
   ]
  },
  {
   "cell_type": "markdown",
   "id": "a8cdfc33-359c-4687-be4a-7f758c028640",
   "metadata": {},
   "source": [
    "* Here, I'm looping over a couple of columns in my dataframe and printing some descriptive statistics about it.\n",
    "* Notice how I have to use `print` and `display` to show the results.\n",
    "    * Try this same block of code without `print` and `display` to see the difference."
   ]
  },
  {
   "cell_type": "code",
   "execution_count": 93,
   "id": "fca9e430-a906-4d0e-8046-36a0687b0636",
   "metadata": {},
   "outputs": [
    {
     "name": "stdout",
     "output_type": "stream",
     "text": [
      "Statistics for zev_score\n"
     ]
    },
    {
     "data": {
      "text/plain": [
       "count   44.00\n",
       "mean     4.98\n",
       "std      2.96\n",
       "min      1.00\n",
       "25%      3.00\n",
       "50%      4.00\n",
       "75%      7.25\n",
       "max     10.00\n",
       "Name: zev_score, dtype: float64"
      ]
     },
     "metadata": {},
     "output_type": "display_data"
    },
    {
     "name": "stdout",
     "output_type": "stream",
     "text": [
      "Statistics for vmt_score\n"
     ]
    },
    {
     "data": {
      "text/plain": [
       "count   44.00\n",
       "mean     5.66\n",
       "std      3.04\n",
       "min      1.00\n",
       "25%      2.75\n",
       "50%      6.00\n",
       "75%      8.00\n",
       "max     10.00\n",
       "Name: vmt_score, dtype: float64"
      ]
     },
     "metadata": {},
     "output_type": "display_data"
    },
    {
     "name": "stdout",
     "output_type": "stream",
     "text": [
      "Statistics for accessibility_score\n"
     ]
    },
    {
     "data": {
      "text/plain": [
       "count   44.00\n",
       "mean     5.39\n",
       "std      3.14\n",
       "min      1.00\n",
       "25%      2.75\n",
       "50%      5.00\n",
       "75%      8.00\n",
       "max     10.00\n",
       "Name: accessibility_score, dtype: float64"
      ]
     },
     "metadata": {},
     "output_type": "display_data"
    }
   ],
   "source": [
    "for column in [\"zev_score\", \"vmt_score\", \"accessibility_score\"]:\n",
    "    print(f\"Statistics for {column}\")\n",
    "    display(df[column].describe())"
   ]
  },
  {
   "cell_type": "markdown",
   "id": "ded54884-4bad-46ae-a82f-2a67936c57dd",
   "metadata": {},
   "source": [
    "#### Using a For Loop\n",
    "* Below, I have already aggregated the dataframe for you."
   ]
  },
  {
   "cell_type": "code",
   "execution_count": 53,
   "id": "5b414d3f-71a4-4078-9d98-b9082114e2c5",
   "metadata": {},
   "outputs": [],
   "source": [
    "agg1 = (\n",
    "    df.groupby([\"category\"])\n",
    "    .aggregate(\n",
    "        {\"overall_score\": \"median\", \"Project Cost\": \"median\", \"project_name\": \"nunique\"}\n",
    "    )\n",
    "    .reset_index()\n",
    "    .rename(\n",
    "        columns={\n",
    "            \"overall_score\": \"median_score\",\n",
    "            \"Project Cost\": \"median_project_cost\",\n",
    "            \"project_name\": \"total_projects\",\n",
    "        }\n",
    "    )\n",
    ")"
   ]
  },
  {
   "cell_type": "code",
   "execution_count": 54,
   "id": "1698fe9c-6d1f-412b-a632-826aae1ffc65",
   "metadata": {},
   "outputs": [
    {
     "data": {
      "text/html": [
       "<div>\n",
       "<style scoped>\n",
       "    .dataframe tbody tr th:only-of-type {\n",
       "        vertical-align: middle;\n",
       "    }\n",
       "\n",
       "    .dataframe tbody tr th {\n",
       "        vertical-align: top;\n",
       "    }\n",
       "\n",
       "    .dataframe thead th {\n",
       "        text-align: right;\n",
       "    }\n",
       "</style>\n",
       "<table border=\"1\" class=\"dataframe\">\n",
       "  <thead>\n",
       "    <tr style=\"text-align: right;\">\n",
       "      <th></th>\n",
       "      <th>category</th>\n",
       "      <th>median_score</th>\n",
       "      <th>median_project_cost</th>\n",
       "      <th>total_projects</th>\n",
       "    </tr>\n",
       "  </thead>\n",
       "  <tbody>\n",
       "    <tr>\n",
       "      <th>0</th>\n",
       "      <td>ATP</td>\n",
       "      <td>75.00</td>\n",
       "      <td>6238994.00</td>\n",
       "      <td>11</td>\n",
       "    </tr>\n",
       "    <tr>\n",
       "      <th>1</th>\n",
       "      <td>General Lanes</td>\n",
       "      <td>65.50</td>\n",
       "      <td>4172279.00</td>\n",
       "      <td>2</td>\n",
       "    </tr>\n",
       "    <tr>\n",
       "      <th>2</th>\n",
       "      <td>General Lanes and ATP</td>\n",
       "      <td>88.00</td>\n",
       "      <td>8663951.00</td>\n",
       "      <td>2</td>\n",
       "    </tr>\n",
       "    <tr>\n",
       "      <th>3</th>\n",
       "      <td>Other</td>\n",
       "      <td>73.00</td>\n",
       "      <td>5232062.00</td>\n",
       "      <td>20</td>\n",
       "    </tr>\n",
       "    <tr>\n",
       "      <th>4</th>\n",
       "      <td>Transit</td>\n",
       "      <td>78.00</td>\n",
       "      <td>3510634.00</td>\n",
       "      <td>8</td>\n",
       "    </tr>\n",
       "    <tr>\n",
       "      <th>5</th>\n",
       "      <td>Transit and ATP</td>\n",
       "      <td>83.00</td>\n",
       "      <td>7285919.00</td>\n",
       "      <td>1</td>\n",
       "    </tr>\n",
       "  </tbody>\n",
       "</table>\n",
       "</div>"
      ],
      "text/plain": [
       "                category  median_score  median_project_cost  total_projects\n",
       "0                    ATP         75.00           6238994.00              11\n",
       "1          General Lanes         65.50           4172279.00               2\n",
       "2  General Lanes and ATP         88.00           8663951.00               2\n",
       "3                  Other         73.00           5232062.00              20\n",
       "4                Transit         78.00           3510634.00               8\n",
       "5        Transit and ATP         83.00           7285919.00               1"
      ]
     },
     "execution_count": 54,
     "metadata": {},
     "output_type": "execute_result"
    }
   ],
   "source": [
    "agg1"
   ]
  },
  {
   "cell_type": "markdown",
   "id": "345a87ee-0f09-43f2-ad3e-70debb7ab25c",
   "metadata": {},
   "source": [
    "* I have also prepared an Altair chart function. "
   ]
  },
  {
   "cell_type": "code",
   "execution_count": 85,
   "id": "320bd91e-b9ed-4423-80d4-c1a1aa5ba59f",
   "metadata": {},
   "outputs": [],
   "source": [
    "def create_chart(df: pd.DataFrame, column: str) -> alt.Chart:\n",
    "    title = column.replace(\"_\",\" \").title()\n",
    "    chart = (\n",
    "        alt.Chart(df, title=f\"{title} by Categories\")\n",
    "        .mark_bar(size=20)\n",
    "        .encode(\n",
    "            x=alt.X(column),\n",
    "            y=alt.Y(\"category\"),\n",
    "            color=alt.Color(\n",
    "                \"category\",\n",
    "                scale=alt.Scale(\n",
    "                    range=calitp_color_palette.CALITP_CATEGORY_BRIGHT_COLORS\n",
    "                ),\n",
    "            ),\n",
    "            tooltip=list(df.columns),\n",
    "        )\n",
    "        .properties(width=400, height=250)\n",
    "    )\n",
    "    return chart"
   ]
  },
  {
   "cell_type": "markdown",
   "id": "a47dc93c-ab8b-4be7-a90d-3ca941e94050",
   "metadata": {},
   "source": [
    "* Use the function to create a chart out of the aggregated dataset."
   ]
  },
  {
   "cell_type": "code",
   "execution_count": 86,
   "id": "a6103703-8131-4ed8-9482-314c7895c279",
   "metadata": {},
   "outputs": [
    {
     "data": {
      "text/html": [
       "\n",
       "<style>\n",
       "  #altair-viz-d514ea209962446e8261ee81a677b8d0.vega-embed {\n",
       "    width: 100%;\n",
       "    display: flex;\n",
       "  }\n",
       "\n",
       "  #altair-viz-d514ea209962446e8261ee81a677b8d0.vega-embed details,\n",
       "  #altair-viz-d514ea209962446e8261ee81a677b8d0.vega-embed details summary {\n",
       "    position: relative;\n",
       "  }\n",
       "</style>\n",
       "<div id=\"altair-viz-d514ea209962446e8261ee81a677b8d0\"></div>\n",
       "<script type=\"text/javascript\">\n",
       "  var VEGA_DEBUG = (typeof VEGA_DEBUG == \"undefined\") ? {} : VEGA_DEBUG;\n",
       "  (function(spec, embedOpt){\n",
       "    let outputDiv = document.currentScript.previousElementSibling;\n",
       "    if (outputDiv.id !== \"altair-viz-d514ea209962446e8261ee81a677b8d0\") {\n",
       "      outputDiv = document.getElementById(\"altair-viz-d514ea209962446e8261ee81a677b8d0\");\n",
       "    }\n",
       "    const paths = {\n",
       "      \"vega\": \"https://cdn.jsdelivr.net/npm/vega@5?noext\",\n",
       "      \"vega-lib\": \"https://cdn.jsdelivr.net/npm/vega-lib?noext\",\n",
       "      \"vega-lite\": \"https://cdn.jsdelivr.net/npm/vega-lite@5.14.1?noext\",\n",
       "      \"vega-embed\": \"https://cdn.jsdelivr.net/npm/vega-embed@6?noext\",\n",
       "    };\n",
       "\n",
       "    function maybeLoadScript(lib, version) {\n",
       "      var key = `${lib.replace(\"-\", \"\")}_version`;\n",
       "      return (VEGA_DEBUG[key] == version) ?\n",
       "        Promise.resolve(paths[lib]) :\n",
       "        new Promise(function(resolve, reject) {\n",
       "          var s = document.createElement('script');\n",
       "          document.getElementsByTagName(\"head\")[0].appendChild(s);\n",
       "          s.async = true;\n",
       "          s.onload = () => {\n",
       "            VEGA_DEBUG[key] = version;\n",
       "            return resolve(paths[lib]);\n",
       "          };\n",
       "          s.onerror = () => reject(`Error loading script: ${paths[lib]}`);\n",
       "          s.src = paths[lib];\n",
       "        });\n",
       "    }\n",
       "\n",
       "    function showError(err) {\n",
       "      outputDiv.innerHTML = `<div class=\"error\" style=\"color:red;\">${err}</div>`;\n",
       "      throw err;\n",
       "    }\n",
       "\n",
       "    function displayChart(vegaEmbed) {\n",
       "      vegaEmbed(outputDiv, spec, embedOpt)\n",
       "        .catch(err => showError(`Javascript Error: ${err.message}<br>This usually means there's a typo in your chart specification. See the javascript console for the full traceback.`));\n",
       "    }\n",
       "\n",
       "    if(typeof define === \"function\" && define.amd) {\n",
       "      requirejs.config({paths});\n",
       "      require([\"vega-embed\"], displayChart, err => showError(`Error loading script: ${err.message}`));\n",
       "    } else {\n",
       "      maybeLoadScript(\"vega\", \"5\")\n",
       "        .then(() => maybeLoadScript(\"vega-lite\", \"5.14.1\"))\n",
       "        .then(() => maybeLoadScript(\"vega-embed\", \"6\"))\n",
       "        .catch(showError)\n",
       "        .then(() => displayChart(vegaEmbed));\n",
       "    }\n",
       "  })({\"config\": {\"view\": {\"continuousWidth\": 300, \"continuousHeight\": 300}}, \"data\": {\"name\": \"data-40fa33db4fa0a4f36501281ebdc76bbe\"}, \"mark\": {\"type\": \"bar\", \"size\": 20}, \"encoding\": {\"color\": {\"field\": \"category\", \"scale\": {\"range\": [\"#2EA8CE\", \"#EB9F3C\", \"#F4D837\", \"#51BF9D\", \"#8CBCCB\", \"#9487C0\"]}, \"type\": \"nominal\"}, \"tooltip\": [{\"field\": \"category\", \"type\": \"nominal\"}, {\"field\": \"median_score\", \"type\": \"quantitative\"}, {\"field\": \"median_project_cost\", \"type\": \"quantitative\"}, {\"field\": \"total_projects\", \"type\": \"quantitative\"}], \"x\": {\"field\": \"median_score\", \"type\": \"quantitative\"}, \"y\": {\"field\": \"category\", \"type\": \"nominal\"}}, \"height\": 250, \"title\": \"Median Score by Categories\", \"width\": 400, \"$schema\": \"https://vega.github.io/schema/vega-lite/v5.14.1.json\", \"datasets\": {\"data-40fa33db4fa0a4f36501281ebdc76bbe\": [{\"category\": \"ATP\", \"median_score\": 75.0, \"median_project_cost\": 6238994.0, \"total_projects\": 11}, {\"category\": \"General Lanes\", \"median_score\": 65.5, \"median_project_cost\": 4172279.0, \"total_projects\": 2}, {\"category\": \"General Lanes and ATP\", \"median_score\": 88.0, \"median_project_cost\": 8663951.0, \"total_projects\": 2}, {\"category\": \"Other\", \"median_score\": 73.0, \"median_project_cost\": 5232062.0, \"total_projects\": 20}, {\"category\": \"Transit\", \"median_score\": 78.0, \"median_project_cost\": 3510634.0, \"total_projects\": 8}, {\"category\": \"Transit and ATP\", \"median_score\": 83.0, \"median_project_cost\": 7285919.0, \"total_projects\": 1}]}}, {\"mode\": \"vega-lite\"});\n",
       "</script>"
      ],
      "text/plain": [
       "alt.Chart(...)"
      ]
     },
     "execution_count": 86,
     "metadata": {},
     "output_type": "execute_result"
    }
   ],
   "source": [
    "create_chart(agg1, \"median_score\")"
   ]
  },
  {
   "cell_type": "markdown",
   "id": "eff3b0be-7091-4995-b2b8-63d62bf9b6c4",
   "metadata": {},
   "source": [
    "* We have a couple of other columns left that still need to be visualized. \n",
    "* This is the perfect case for using a for loop, since we all we want to do is replace the column above with the two remainig columns. \n",
    "* Try this below! \n",
    "    * Hint: you'll have to wrap the function with `display()` to get your results."
   ]
  },
  {
   "cell_type": "code",
   "execution_count": 87,
   "id": "ca8659f1-0842-4bb5-a544-9a2a5fb93c02",
   "metadata": {},
   "outputs": [
    {
     "data": {
      "text/html": [
       "\n",
       "<style>\n",
       "  #altair-viz-38c68e49fb4043eba1020fdd2c4fe20e.vega-embed {\n",
       "    width: 100%;\n",
       "    display: flex;\n",
       "  }\n",
       "\n",
       "  #altair-viz-38c68e49fb4043eba1020fdd2c4fe20e.vega-embed details,\n",
       "  #altair-viz-38c68e49fb4043eba1020fdd2c4fe20e.vega-embed details summary {\n",
       "    position: relative;\n",
       "  }\n",
       "</style>\n",
       "<div id=\"altair-viz-38c68e49fb4043eba1020fdd2c4fe20e\"></div>\n",
       "<script type=\"text/javascript\">\n",
       "  var VEGA_DEBUG = (typeof VEGA_DEBUG == \"undefined\") ? {} : VEGA_DEBUG;\n",
       "  (function(spec, embedOpt){\n",
       "    let outputDiv = document.currentScript.previousElementSibling;\n",
       "    if (outputDiv.id !== \"altair-viz-38c68e49fb4043eba1020fdd2c4fe20e\") {\n",
       "      outputDiv = document.getElementById(\"altair-viz-38c68e49fb4043eba1020fdd2c4fe20e\");\n",
       "    }\n",
       "    const paths = {\n",
       "      \"vega\": \"https://cdn.jsdelivr.net/npm/vega@5?noext\",\n",
       "      \"vega-lib\": \"https://cdn.jsdelivr.net/npm/vega-lib?noext\",\n",
       "      \"vega-lite\": \"https://cdn.jsdelivr.net/npm/vega-lite@5.14.1?noext\",\n",
       "      \"vega-embed\": \"https://cdn.jsdelivr.net/npm/vega-embed@6?noext\",\n",
       "    };\n",
       "\n",
       "    function maybeLoadScript(lib, version) {\n",
       "      var key = `${lib.replace(\"-\", \"\")}_version`;\n",
       "      return (VEGA_DEBUG[key] == version) ?\n",
       "        Promise.resolve(paths[lib]) :\n",
       "        new Promise(function(resolve, reject) {\n",
       "          var s = document.createElement('script');\n",
       "          document.getElementsByTagName(\"head\")[0].appendChild(s);\n",
       "          s.async = true;\n",
       "          s.onload = () => {\n",
       "            VEGA_DEBUG[key] = version;\n",
       "            return resolve(paths[lib]);\n",
       "          };\n",
       "          s.onerror = () => reject(`Error loading script: ${paths[lib]}`);\n",
       "          s.src = paths[lib];\n",
       "        });\n",
       "    }\n",
       "\n",
       "    function showError(err) {\n",
       "      outputDiv.innerHTML = `<div class=\"error\" style=\"color:red;\">${err}</div>`;\n",
       "      throw err;\n",
       "    }\n",
       "\n",
       "    function displayChart(vegaEmbed) {\n",
       "      vegaEmbed(outputDiv, spec, embedOpt)\n",
       "        .catch(err => showError(`Javascript Error: ${err.message}<br>This usually means there's a typo in your chart specification. See the javascript console for the full traceback.`));\n",
       "    }\n",
       "\n",
       "    if(typeof define === \"function\" && define.amd) {\n",
       "      requirejs.config({paths});\n",
       "      require([\"vega-embed\"], displayChart, err => showError(`Error loading script: ${err.message}`));\n",
       "    } else {\n",
       "      maybeLoadScript(\"vega\", \"5\")\n",
       "        .then(() => maybeLoadScript(\"vega-lite\", \"5.14.1\"))\n",
       "        .then(() => maybeLoadScript(\"vega-embed\", \"6\"))\n",
       "        .catch(showError)\n",
       "        .then(() => displayChart(vegaEmbed));\n",
       "    }\n",
       "  })({\"config\": {\"view\": {\"continuousWidth\": 300, \"continuousHeight\": 300}}, \"data\": {\"name\": \"data-40fa33db4fa0a4f36501281ebdc76bbe\"}, \"mark\": {\"type\": \"bar\", \"size\": 20}, \"encoding\": {\"color\": {\"field\": \"category\", \"scale\": {\"range\": [\"#2EA8CE\", \"#EB9F3C\", \"#F4D837\", \"#51BF9D\", \"#8CBCCB\", \"#9487C0\"]}, \"type\": \"nominal\"}, \"tooltip\": [{\"field\": \"category\", \"type\": \"nominal\"}, {\"field\": \"median_score\", \"type\": \"quantitative\"}, {\"field\": \"median_project_cost\", \"type\": \"quantitative\"}, {\"field\": \"total_projects\", \"type\": \"quantitative\"}], \"x\": {\"field\": \"median_score\", \"type\": \"quantitative\"}, \"y\": {\"field\": \"category\", \"type\": \"nominal\"}}, \"height\": 250, \"title\": \"Median Score by Categories\", \"width\": 400, \"$schema\": \"https://vega.github.io/schema/vega-lite/v5.14.1.json\", \"datasets\": {\"data-40fa33db4fa0a4f36501281ebdc76bbe\": [{\"category\": \"ATP\", \"median_score\": 75.0, \"median_project_cost\": 6238994.0, \"total_projects\": 11}, {\"category\": \"General Lanes\", \"median_score\": 65.5, \"median_project_cost\": 4172279.0, \"total_projects\": 2}, {\"category\": \"General Lanes and ATP\", \"median_score\": 88.0, \"median_project_cost\": 8663951.0, \"total_projects\": 2}, {\"category\": \"Other\", \"median_score\": 73.0, \"median_project_cost\": 5232062.0, \"total_projects\": 20}, {\"category\": \"Transit\", \"median_score\": 78.0, \"median_project_cost\": 3510634.0, \"total_projects\": 8}, {\"category\": \"Transit and ATP\", \"median_score\": 83.0, \"median_project_cost\": 7285919.0, \"total_projects\": 1}]}}, {\"mode\": \"vega-lite\"});\n",
       "</script>"
      ],
      "text/plain": [
       "alt.Chart(...)"
      ]
     },
     "metadata": {},
     "output_type": "display_data"
    },
    {
     "data": {
      "text/html": [
       "\n",
       "<style>\n",
       "  #altair-viz-5d7696d3e27a4feaa160a2d7e1367b53.vega-embed {\n",
       "    width: 100%;\n",
       "    display: flex;\n",
       "  }\n",
       "\n",
       "  #altair-viz-5d7696d3e27a4feaa160a2d7e1367b53.vega-embed details,\n",
       "  #altair-viz-5d7696d3e27a4feaa160a2d7e1367b53.vega-embed details summary {\n",
       "    position: relative;\n",
       "  }\n",
       "</style>\n",
       "<div id=\"altair-viz-5d7696d3e27a4feaa160a2d7e1367b53\"></div>\n",
       "<script type=\"text/javascript\">\n",
       "  var VEGA_DEBUG = (typeof VEGA_DEBUG == \"undefined\") ? {} : VEGA_DEBUG;\n",
       "  (function(spec, embedOpt){\n",
       "    let outputDiv = document.currentScript.previousElementSibling;\n",
       "    if (outputDiv.id !== \"altair-viz-5d7696d3e27a4feaa160a2d7e1367b53\") {\n",
       "      outputDiv = document.getElementById(\"altair-viz-5d7696d3e27a4feaa160a2d7e1367b53\");\n",
       "    }\n",
       "    const paths = {\n",
       "      \"vega\": \"https://cdn.jsdelivr.net/npm/vega@5?noext\",\n",
       "      \"vega-lib\": \"https://cdn.jsdelivr.net/npm/vega-lib?noext\",\n",
       "      \"vega-lite\": \"https://cdn.jsdelivr.net/npm/vega-lite@5.14.1?noext\",\n",
       "      \"vega-embed\": \"https://cdn.jsdelivr.net/npm/vega-embed@6?noext\",\n",
       "    };\n",
       "\n",
       "    function maybeLoadScript(lib, version) {\n",
       "      var key = `${lib.replace(\"-\", \"\")}_version`;\n",
       "      return (VEGA_DEBUG[key] == version) ?\n",
       "        Promise.resolve(paths[lib]) :\n",
       "        new Promise(function(resolve, reject) {\n",
       "          var s = document.createElement('script');\n",
       "          document.getElementsByTagName(\"head\")[0].appendChild(s);\n",
       "          s.async = true;\n",
       "          s.onload = () => {\n",
       "            VEGA_DEBUG[key] = version;\n",
       "            return resolve(paths[lib]);\n",
       "          };\n",
       "          s.onerror = () => reject(`Error loading script: ${paths[lib]}`);\n",
       "          s.src = paths[lib];\n",
       "        });\n",
       "    }\n",
       "\n",
       "    function showError(err) {\n",
       "      outputDiv.innerHTML = `<div class=\"error\" style=\"color:red;\">${err}</div>`;\n",
       "      throw err;\n",
       "    }\n",
       "\n",
       "    function displayChart(vegaEmbed) {\n",
       "      vegaEmbed(outputDiv, spec, embedOpt)\n",
       "        .catch(err => showError(`Javascript Error: ${err.message}<br>This usually means there's a typo in your chart specification. See the javascript console for the full traceback.`));\n",
       "    }\n",
       "\n",
       "    if(typeof define === \"function\" && define.amd) {\n",
       "      requirejs.config({paths});\n",
       "      require([\"vega-embed\"], displayChart, err => showError(`Error loading script: ${err.message}`));\n",
       "    } else {\n",
       "      maybeLoadScript(\"vega\", \"5\")\n",
       "        .then(() => maybeLoadScript(\"vega-lite\", \"5.14.1\"))\n",
       "        .then(() => maybeLoadScript(\"vega-embed\", \"6\"))\n",
       "        .catch(showError)\n",
       "        .then(() => displayChart(vegaEmbed));\n",
       "    }\n",
       "  })({\"config\": {\"view\": {\"continuousWidth\": 300, \"continuousHeight\": 300}}, \"data\": {\"name\": \"data-40fa33db4fa0a4f36501281ebdc76bbe\"}, \"mark\": {\"type\": \"bar\", \"size\": 20}, \"encoding\": {\"color\": {\"field\": \"category\", \"scale\": {\"range\": [\"#2EA8CE\", \"#EB9F3C\", \"#F4D837\", \"#51BF9D\", \"#8CBCCB\", \"#9487C0\"]}, \"type\": \"nominal\"}, \"tooltip\": [{\"field\": \"category\", \"type\": \"nominal\"}, {\"field\": \"median_score\", \"type\": \"quantitative\"}, {\"field\": \"median_project_cost\", \"type\": \"quantitative\"}, {\"field\": \"total_projects\", \"type\": \"quantitative\"}], \"x\": {\"field\": \"median_project_cost\", \"type\": \"quantitative\"}, \"y\": {\"field\": \"category\", \"type\": \"nominal\"}}, \"height\": 250, \"title\": \"Median Project Cost by Categories\", \"width\": 400, \"$schema\": \"https://vega.github.io/schema/vega-lite/v5.14.1.json\", \"datasets\": {\"data-40fa33db4fa0a4f36501281ebdc76bbe\": [{\"category\": \"ATP\", \"median_score\": 75.0, \"median_project_cost\": 6238994.0, \"total_projects\": 11}, {\"category\": \"General Lanes\", \"median_score\": 65.5, \"median_project_cost\": 4172279.0, \"total_projects\": 2}, {\"category\": \"General Lanes and ATP\", \"median_score\": 88.0, \"median_project_cost\": 8663951.0, \"total_projects\": 2}, {\"category\": \"Other\", \"median_score\": 73.0, \"median_project_cost\": 5232062.0, \"total_projects\": 20}, {\"category\": \"Transit\", \"median_score\": 78.0, \"median_project_cost\": 3510634.0, \"total_projects\": 8}, {\"category\": \"Transit and ATP\", \"median_score\": 83.0, \"median_project_cost\": 7285919.0, \"total_projects\": 1}]}}, {\"mode\": \"vega-lite\"});\n",
       "</script>"
      ],
      "text/plain": [
       "alt.Chart(...)"
      ]
     },
     "metadata": {},
     "output_type": "display_data"
    },
    {
     "data": {
      "text/html": [
       "\n",
       "<style>\n",
       "  #altair-viz-b31615e8785c464f992c8c29bb601833.vega-embed {\n",
       "    width: 100%;\n",
       "    display: flex;\n",
       "  }\n",
       "\n",
       "  #altair-viz-b31615e8785c464f992c8c29bb601833.vega-embed details,\n",
       "  #altair-viz-b31615e8785c464f992c8c29bb601833.vega-embed details summary {\n",
       "    position: relative;\n",
       "  }\n",
       "</style>\n",
       "<div id=\"altair-viz-b31615e8785c464f992c8c29bb601833\"></div>\n",
       "<script type=\"text/javascript\">\n",
       "  var VEGA_DEBUG = (typeof VEGA_DEBUG == \"undefined\") ? {} : VEGA_DEBUG;\n",
       "  (function(spec, embedOpt){\n",
       "    let outputDiv = document.currentScript.previousElementSibling;\n",
       "    if (outputDiv.id !== \"altair-viz-b31615e8785c464f992c8c29bb601833\") {\n",
       "      outputDiv = document.getElementById(\"altair-viz-b31615e8785c464f992c8c29bb601833\");\n",
       "    }\n",
       "    const paths = {\n",
       "      \"vega\": \"https://cdn.jsdelivr.net/npm/vega@5?noext\",\n",
       "      \"vega-lib\": \"https://cdn.jsdelivr.net/npm/vega-lib?noext\",\n",
       "      \"vega-lite\": \"https://cdn.jsdelivr.net/npm/vega-lite@5.14.1?noext\",\n",
       "      \"vega-embed\": \"https://cdn.jsdelivr.net/npm/vega-embed@6?noext\",\n",
       "    };\n",
       "\n",
       "    function maybeLoadScript(lib, version) {\n",
       "      var key = `${lib.replace(\"-\", \"\")}_version`;\n",
       "      return (VEGA_DEBUG[key] == version) ?\n",
       "        Promise.resolve(paths[lib]) :\n",
       "        new Promise(function(resolve, reject) {\n",
       "          var s = document.createElement('script');\n",
       "          document.getElementsByTagName(\"head\")[0].appendChild(s);\n",
       "          s.async = true;\n",
       "          s.onload = () => {\n",
       "            VEGA_DEBUG[key] = version;\n",
       "            return resolve(paths[lib]);\n",
       "          };\n",
       "          s.onerror = () => reject(`Error loading script: ${paths[lib]}`);\n",
       "          s.src = paths[lib];\n",
       "        });\n",
       "    }\n",
       "\n",
       "    function showError(err) {\n",
       "      outputDiv.innerHTML = `<div class=\"error\" style=\"color:red;\">${err}</div>`;\n",
       "      throw err;\n",
       "    }\n",
       "\n",
       "    function displayChart(vegaEmbed) {\n",
       "      vegaEmbed(outputDiv, spec, embedOpt)\n",
       "        .catch(err => showError(`Javascript Error: ${err.message}<br>This usually means there's a typo in your chart specification. See the javascript console for the full traceback.`));\n",
       "    }\n",
       "\n",
       "    if(typeof define === \"function\" && define.amd) {\n",
       "      requirejs.config({paths});\n",
       "      require([\"vega-embed\"], displayChart, err => showError(`Error loading script: ${err.message}`));\n",
       "    } else {\n",
       "      maybeLoadScript(\"vega\", \"5\")\n",
       "        .then(() => maybeLoadScript(\"vega-lite\", \"5.14.1\"))\n",
       "        .then(() => maybeLoadScript(\"vega-embed\", \"6\"))\n",
       "        .catch(showError)\n",
       "        .then(() => displayChart(vegaEmbed));\n",
       "    }\n",
       "  })({\"config\": {\"view\": {\"continuousWidth\": 300, \"continuousHeight\": 300}}, \"data\": {\"name\": \"data-40fa33db4fa0a4f36501281ebdc76bbe\"}, \"mark\": {\"type\": \"bar\", \"size\": 20}, \"encoding\": {\"color\": {\"field\": \"category\", \"scale\": {\"range\": [\"#2EA8CE\", \"#EB9F3C\", \"#F4D837\", \"#51BF9D\", \"#8CBCCB\", \"#9487C0\"]}, \"type\": \"nominal\"}, \"tooltip\": [{\"field\": \"category\", \"type\": \"nominal\"}, {\"field\": \"median_score\", \"type\": \"quantitative\"}, {\"field\": \"median_project_cost\", \"type\": \"quantitative\"}, {\"field\": \"total_projects\", \"type\": \"quantitative\"}], \"x\": {\"field\": \"total_projects\", \"type\": \"quantitative\"}, \"y\": {\"field\": \"category\", \"type\": \"nominal\"}}, \"height\": 250, \"title\": \"Total Projects by Categories\", \"width\": 400, \"$schema\": \"https://vega.github.io/schema/vega-lite/v5.14.1.json\", \"datasets\": {\"data-40fa33db4fa0a4f36501281ebdc76bbe\": [{\"category\": \"ATP\", \"median_score\": 75.0, \"median_project_cost\": 6238994.0, \"total_projects\": 11}, {\"category\": \"General Lanes\", \"median_score\": 65.5, \"median_project_cost\": 4172279.0, \"total_projects\": 2}, {\"category\": \"General Lanes and ATP\", \"median_score\": 88.0, \"median_project_cost\": 8663951.0, \"total_projects\": 2}, {\"category\": \"Other\", \"median_score\": 73.0, \"median_project_cost\": 5232062.0, \"total_projects\": 20}, {\"category\": \"Transit\", \"median_score\": 78.0, \"median_project_cost\": 3510634.0, \"total_projects\": 8}, {\"category\": \"Transit and ATP\", \"median_score\": 83.0, \"median_project_cost\": 7285919.0, \"total_projects\": 1}]}}, {\"mode\": \"vega-lite\"});\n",
       "</script>"
      ],
      "text/plain": [
       "alt.Chart(...)"
      ]
     },
     "metadata": {},
     "output_type": "display_data"
    }
   ],
   "source": [
    "for column in [\"median_score\", \"median_project_cost\", \"total_projects\"]:\n",
    "    display(create_chart(agg1, column))"
   ]
  }
 ],
 "metadata": {
  "kernelspec": {
   "display_name": "Python 3 (ipykernel)",
   "language": "python",
   "name": "python3"
  },
  "language_info": {
   "codemirror_mode": {
    "name": "ipython",
    "version": 3
   },
   "file_extension": ".py",
   "mimetype": "text/x-python",
   "name": "python",
   "nbconvert_exporter": "python",
   "pygments_lexer": "ipython3",
   "version": "3.9.13"
  }
 },
 "nbformat": 4,
 "nbformat_minor": 5
}
