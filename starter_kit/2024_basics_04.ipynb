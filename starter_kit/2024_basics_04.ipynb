{
 "cells": [
  {
   "cell_type": "markdown",
   "id": "05dd29e6-ec3f-4f9d-a595-d28b578c74e3",
   "metadata": {},
   "source": [
    "# Exercise 4: Python Scripts, Display, Markdown, Preparing for the Portfolio\n",
    "* Cleaning and analyzing data takes a lot of time, patience, and skill.\n",
    "* However, presenting the data to stakeholders is also equaly important.\n",
    "* At DDS, we often present our work in a Jupyter Notebook.\n",
    "* This exercise will walk you through how we do so. "
   ]
  },
  {
   "cell_type": "code",
   "execution_count": null,
   "id": "1d4e2cdf-a5b9-4ebb-aa2f-c7abe897a683",
   "metadata": {},
   "outputs": [],
   "source": [
    "import _starterkit_utils\n",
    "import altair as alt\n",
    "import numpy as np\n",
    "import pandas as pd\n",
    "from calitp_data_analysis import calitp_color_palette"
   ]
  },
  {
   "cell_type": "code",
   "execution_count": null,
   "id": "a0403b50-d81c-4499-9b69-e164eb38f8cd",
   "metadata": {},
   "outputs": [],
   "source": [
    "pd.options.display.max_columns = 100\n",
    "pd.options.display.float_format = \"{:.2f}\".format\n",
    "pd.set_option(\"display.max_rows\", None)\n",
    "pd.set_option(\"display.max_colwidth\", None)"
   ]
  },
  {
   "cell_type": "markdown",
   "id": "20bbcce9-b48c-4ab3-ae05-7229b97c141b",
   "metadata": {},
   "source": [
    "## Python Scripts\n",
    "* Up until now, we have been placing all of our code in the Jupyter Notebook.\n",
    "* While this is convenient, it's not the best practice. \n",
    "* A notebook full of code isn't easy to digest. \n",
    "* Jupyter notebooks are also very difficult for Git to version control. Everything gets jumbled. \n",
    "* The best solution is to move the bulk of your code when you have reached a stopping point to a Python Script. \n",
    "    * Read all about the benefits of scripts [here in our DDS docs](https://docs.calitp.org/data-infra/analytics_tools/scripts.html).\n",
    "    * Summary points from the docs page above:\n",
    "        * <i>Python scripts (.py) are plain text files. Git tracks plain text changes easily.</i>\n",
    "        * <i>Scripts are robust to scaling and reproducing work.</i>\n",
    "        * <i>Break out scripts by concepts / stages</i>\n",
    "        * <i>All functions used in scripts should have docstrings. Type hints are encouraged!</i>\n",
    "* Making Python scripts is an art and not straight forward.\n",
    "* I have already populated a `.py` file called `_starterkit_utils` with some sample functions.\n",
    "    * I have imported my Python Script just like how I imported my other dependencies (Pandas, Altair, Numpy).\n",
    "    * Read about dependencies [here](https://www.practicalpythonfordatascience.com/05_data_exploration)."
   ]
  },
  {
   "cell_type": "code",
   "execution_count": null,
   "id": "68d8980b-e857-491e-b03a-4648c5f4c5f3",
   "metadata": {},
   "outputs": [],
   "source": [
    "import _starterkit_utils"
   ]
  },
  {
   "cell_type": "markdown",
   "id": "6f37fc46-a49e-45b4-92bf-d5b3910b2325",
   "metadata": {},
   "source": [
    "### Breakdown of a Script.\n",
    "#### Function 1\n",
    "* Following what the DDS docs says, I am creating a new function every time I am processing the data in another stage.\n",
    "* I have one function that loads in my dataset.\n",
    "* Take a look at the column names: they are no longer in `snakecase` because I applied a function that capitalizes it properly.\n",
    "* To use a function in a Script, write `name_of_your_script.name_of_the_function(whatever arguments)`"
   ]
  },
  {
   "cell_type": "code",
   "execution_count": null,
   "id": "44467ccf-599f-4662-8164-8a58fac85711",
   "metadata": {},
   "outputs": [],
   "source": [
    "df = _starterkit_utils.load_dataset()"
   ]
  },
  {
   "cell_type": "markdown",
   "id": "422c3b29-822b-4957-bc5a-b9d0c55fa34c",
   "metadata": {},
   "source": [
    "#### Function 2:\n",
    "* After loading in the dataset from GCS, I am entering my second stage of processing the data.\n",
    "* I am aggregating my dataframe by Category, basically the same function in Exercise 3. "
   ]
  },
  {
   "cell_type": "code",
   "execution_count": null,
   "id": "f9635fe8-a6c7-4813-9f25-7ba555ce9726",
   "metadata": {},
   "outputs": [],
   "source": [
    "aggregated_df = _starterkit_utils.aggregate_by_category(df)"
   ]
  },
  {
   "cell_type": "code",
   "execution_count": null,
   "id": "2bdcb3e6-2add-4af6-a20a-9072b7ba075c",
   "metadata": {},
   "outputs": [],
   "source": [
    "aggregated_df"
   ]
  },
  {
   "cell_type": "markdown",
   "id": "c5567fc1-0f13-4913-8744-5568d85942f7",
   "metadata": {},
   "source": [
    "#### Function 3\n",
    "* I want to swap my dataframe from wide to long. \n",
    "* [Read about wide to long.](https://www.statology.org/long-vs-wide-data/)\n",
    "* [Pandas doc on melt](https://pandas.pydata.org/pandas-docs/stable/reference/api/pandas.melt.html)"
   ]
  },
  {
   "cell_type": "code",
   "execution_count": null,
   "id": "82172952-3d59-436e-b08c-7096454b6e04",
   "metadata": {},
   "outputs": [],
   "source": [
    "df2 = _starterkit_utils.wide_to_long(df)"
   ]
  },
  {
   "cell_type": "code",
   "execution_count": null,
   "id": "1bcac91b-b0a1-4efd-8a73-f019c376d030",
   "metadata": {},
   "outputs": [],
   "source": [
    "df2.head(2)"
   ]
  },
  {
   "cell_type": "markdown",
   "id": "55622831-2e94-4101-b531-611ff864a1a7",
   "metadata": {},
   "source": [
    "#### Function 4\n",
    "* Now that I have my aggregated data, I want to visualize my results,\n",
    "* `style_df` takes my pandas dataframe and makes it look a bit sleeker."
   ]
  },
  {
   "cell_type": "code",
   "execution_count": null,
   "id": "d69a4f91-4e37-4207-93e0-2eaa18f998ff",
   "metadata": {},
   "outputs": [],
   "source": [
    "_starterkit_utils.style_df(aggregated_df)"
   ]
  },
  {
   "cell_type": "markdown",
   "id": "f9836712-aecb-4d5e-ae50-895fdb3d427f",
   "metadata": {},
   "source": [
    "#### Function 5 \n",
    "* This is function that creates a chart that shows the scores by metric for each project."
   ]
  },
  {
   "cell_type": "code",
   "execution_count": null,
   "id": "cb9bee7d-62df-4a0d-8ab2-483bb0d977f2",
   "metadata": {},
   "outputs": [],
   "source": [
    "d2_wide_df = df2.loc[df2[\"CalTrans District\"] == 2].reset_index(drop=True)"
   ]
  },
  {
   "cell_type": "code",
   "execution_count": null,
   "id": "7f39ca4e-9fb9-497d-bee6-22be385a9d34",
   "metadata": {},
   "outputs": [],
   "source": [
    "_starterkit_utils.create_metric_chart(d2_wide_df)"
   ]
  },
  {
   "cell_type": "markdown",
   "id": "0f14c7d5-d9b7-40db-9e42-9dd1369971e2",
   "metadata": {},
   "source": [
    "### Your turn\n",
    "* Create your own `.py` file with your own functions. \n",
    "* Make sure to separate out functions by theme:\n",
    "    * One function that loads the dataset and does some light cleaning.\n",
    "    * One (or more) functions that transform your dataframe.\n",
    "        * `melt()`, `.T`, `.groupby()` are just some of the many options available through `pandas`.\n",
    "    * One (or more) functions that visualize your dataframe.\n",
    "        * Could be a chart, a styled dataframe, a wordcloud. \n",
    "* Other things to consider\n",
    "    * [CalTrans Districts are currently integers, but they have actual names that can be mapped.](https://cwwp2.dot.ca.gov/documentation/district-map-county-chart.htm) \n",
    "    * Are the currency columns formatted with $ and commas?\n",
    "    * Are all the scores formatted with the same number of decimals?\n",
    "    * Are the string columns formatted with the right punctuation and capitalization?\n",
    "* Please note, you will be using these functions for Exercise 5. Make sure your functions are on the <b>district</b> grain. "
   ]
  },
  {
   "cell_type": "markdown",
   "id": "7e1ff2d3-ae53-4682-b540-cb8a3c11e076",
   "metadata": {},
   "source": [
    "## Markdown/Display\n",
    "* Although our code is now neatly stored in a Python script, a Jupyter Notebook on its own is a bit plain, even when we have beautiful charts. \n",
    "* There are many ways to jazz it up.\n",
    "* AMANDA: Link some resources."
   ]
  },
  {
   "cell_type": "markdown",
   "id": "ed396a2f-c3f1-40be-aad2-64835be8431b",
   "metadata": {},
   "source": [
    "#### Images\n",
    "* You can add an image in a markdown cell\n",
    "`<img src=\"https://raw.githubusercontent.com/cal-itp/data-analyses/refs/heads/main/portfolio/Calitp_logo_MAIN.png\" width=100 height=100 />`<p>\n",
    "<img src=\"https://raw.githubusercontent.com/cal-itp/data-analyses/refs/heads/main/portfolio/Calitp_logo_MAIN.png\" width=100 height=100 />\n",
    "* You can add an image in a code cell if you import the packages below."
   ]
  },
  {
   "cell_type": "code",
   "execution_count": null,
   "id": "4ec41786-491f-46ad-963e-f380d8095ade",
   "metadata": {},
   "outputs": [],
   "source": [
    "from IPython.display import HTML, Image, Markdown, display, display_html"
   ]
  },
  {
   "cell_type": "code",
   "execution_count": null,
   "id": "8d0a6849-f178-46fc-919a-f45b5436c423",
   "metadata": {},
   "outputs": [],
   "source": [
    "display(Image(filename=\"./19319_en_1.jpg\", retina=True))"
   ]
  },
  {
   "cell_type": "markdown",
   "id": "2b26a0da-b23c-436a-b79a-9749b33ef554",
   "metadata": {},
   "source": [
    "### Display\n",
    "* Of course, you can write your narratives in a Markdown cell like what I'm doing right now.\n",
    "* However, what do you do if you want to incorporate values from your dataframe into the narrative?\n",
    "* Writing out the values isn't necessarily the best idea.If the values change, you'll have to rewrite your narrative.\n",
    "* The best way is to use `display` and `markdown` like below.\n",
    "* We are using District 3 as an example"
   ]
  },
  {
   "cell_type": "markdown",
   "id": "3ebd21f4-0779-48ea-9cfd-eb912d5fda96",
   "metadata": {},
   "source": [
    "#### No hard coding\n",
    "* Save out your desired value into a new variable if you are manipulating it."
   ]
  },
  {
   "cell_type": "code",
   "execution_count": null,
   "id": "caecab58-2d26-4604-a3f1-ab4a11400038",
   "metadata": {},
   "outputs": [],
   "source": [
    "d3_df = df.loc[df[\"CalTrans District\"] == 3].reset_index(drop=True)"
   ]
  },
  {
   "cell_type": "code",
   "execution_count": null,
   "id": "995eb899-0397-4f60-b587-18fcf8a4cb0e",
   "metadata": {},
   "outputs": [],
   "source": [
    "d3_median_score = d3_df[\"Overall Score\"].median()"
   ]
  },
  {
   "cell_type": "code",
   "execution_count": null,
   "id": "bc73cc66-911a-44bf-9710-920328b40609",
   "metadata": {},
   "outputs": [],
   "source": [
    "d3_total_projects = d3_df[\"Project Name\"].nunique()"
   ]
  },
  {
   "cell_type": "code",
   "execution_count": null,
   "id": "8a5dafba-c901-412c-bf53-e418dc558787",
   "metadata": {},
   "outputs": [],
   "source": [
    "d3_max_project = d3_df[\"Project Cost\"].max()"
   ]
  },
  {
   "cell_type": "code",
   "execution_count": null,
   "id": "e183e629-7f79-45e3-810b-294851ca9abf",
   "metadata": {},
   "outputs": [],
   "source": [
    "d3_max_project = f\"${d3_max_project:,.2f}\""
   ]
  },
  {
   "cell_type": "code",
   "execution_count": null,
   "id": "eb8e4a80-2eec-4db0-b919-7c3d4486d8e0",
   "metadata": {},
   "outputs": [],
   "source": [
    "d3_max_project"
   ]
  },
  {
   "cell_type": "markdown",
   "id": "241607df-d133-4fb1-ac13-f1a32454b815",
   "metadata": {},
   "source": [
    "\n",
    "* The f string has multiple quotation marks. This allows you to write a f-string that goes over multiple lines."
   ]
  },
  {
   "cell_type": "code",
   "execution_count": null,
   "id": "8d7e68ad-79dd-48b6-8e17-90496d470b69",
   "metadata": {},
   "outputs": [],
   "source": [
    "display(\n",
    "    Markdown(\n",
    "        f\"\"\"<h3>District 3</h3>\n",
    "        The median score for projects in District 3 is <b>{d3_median_score}</b><br> \n",
    "        The total number of projects is <b>{d3_total_projects}</b><br>\n",
    "        The most expensive project costs <b>{d3_max_project}</b>\n",
    "        \"\"\"\n",
    "    )\n",
    ")"
   ]
  },
  {
   "cell_type": "markdown",
   "id": "4aa41900-7dbf-4c61-b927-4f1e42f6b8da",
   "metadata": {},
   "source": [
    "* You can code in this cell. I'm filtering out for district 3 values.\n",
    "* Notice the header went from `<h3>` to `<h4>`. You can also swap it out for `<h2>` and `<h1>`"
   ]
  },
  {
   "cell_type": "code",
   "execution_count": null,
   "id": "38d84ed3-9626-4f91-9aea-e2449aef4cf8",
   "metadata": {},
   "outputs": [],
   "source": [
    "display(\n",
    "    Markdown(\n",
    "        f\"\"\"<h4>Metric Scores</h4>\n",
    "        \"\"\"\n",
    "    )\n",
    ")\n",
    "d3_wide_df = df2.loc[df2[\"CalTrans District\"] == 3].reset_index(drop=True)\n",
    "display(_starterkit_utils.create_metric_chart(d2_wide_df))"
   ]
  },
  {
   "cell_type": "markdown",
   "id": "fe45d252-1d46-4d34-98f4-7118afd96406",
   "metadata": {},
   "source": [
    "### This can be a function too\n",
    "* What if I wanted to generate these narratives for every district?\n",
    "* I can simply turn this into a function.\n",
    "* Remember to look at the code in `_starterkit_utils.py`"
   ]
  },
  {
   "cell_type": "markdown",
   "id": "674c3407-fd80-47fa-9402-d2e18419583b",
   "metadata": {},
   "source": [
    "* I only want to print out a couple of districts or else this notebook will become too large"
   ]
  },
  {
   "cell_type": "code",
   "execution_count": null,
   "id": "6d6f524a-d49b-4729-801f-ccc4bd800149",
   "metadata": {},
   "outputs": [],
   "source": [
    "for district in range(10,13):\n",
    "    _starterkit_utils.create_district_summary(df, district)"
   ]
  }
 ],
 "metadata": {
  "kernelspec": {
   "display_name": "Python 3 (ipykernel)",
   "language": "python",
   "name": "python3"
  },
  "language_info": {
   "codemirror_mode": {
    "name": "ipython",
    "version": 3
   },
   "file_extension": ".py",
   "mimetype": "text/x-python",
   "name": "python",
   "nbconvert_exporter": "python",
   "pygments_lexer": "ipython3",
   "version": "3.9.13"
  }
 },
 "nbformat": 4,
 "nbformat_minor": 5
}
