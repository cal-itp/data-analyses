{
 "cells": [
  {
   "cell_type": "markdown",
   "id": "05dd29e6-ec3f-4f9d-a595-d28b578c74e3",
   "metadata": {},
   "source": [
    "# Exercise 4: Python Scripts, Concept of Grains, Display, Markdown,\n",
    "* After cleaning and analyzing data, it's time to present the data in a beautifl fashion.\n",
    "* At DDS, we often present our work directly in a Jupyter Notebook, which has many benefits such as.\n",
    "    * We save the time it takes to copy and paste our graphs into a PowerPoint \n",
    "    * We ensure the accuracy of the data since we aren't manually retyping the data. "
   ]
  },
  {
   "cell_type": "code",
   "execution_count": null,
   "id": "1d4e2cdf-a5b9-4ebb-aa2f-c7abe897a683",
   "metadata": {},
   "outputs": [],
   "source": [
    "import _starterkit_utils\n",
    "import altair as alt\n",
    "import numpy as np\n",
    "import pandas as pd\n",
    "from calitp_data_analysis import calitp_color_palette"
   ]
  },
  {
   "cell_type": "code",
   "execution_count": null,
   "id": "a0403b50-d81c-4499-9b69-e164eb38f8cd",
   "metadata": {},
   "outputs": [],
   "source": [
    "pd.options.display.max_columns = 100\n",
    "pd.options.display.float_format = \"{:.2f}\".format\n",
    "pd.set_option(\"display.max_rows\", None)\n",
    "pd.set_option(\"display.max_colwidth\", None)"
   ]
  },
  {
   "cell_type": "markdown",
   "id": "20bbcce9-b48c-4ab3-ae05-7229b97c141b",
   "metadata": {},
   "source": [
    "## Python Scripts\n",
    "* Up until now, we have been placing all of our code in the Jupyter Notebook.\n",
    "* While this is convenient, it's not the best practice. \n",
    "* A notebook full of code also isn't easy for viewers - it gets chaotic, quickly! \n",
    "* **The best solution is to move the bulk of your code when you have reached a stopping point to a Python Script.**\n",
    "* Read all about the benefits of scripts [here in our DDS docs](https://docs.calitp.org/data-infra/analytics_tools/scripts.html). Summary points below: \n",
    "    * Summary points from the docs page above. What are Python scripts?\n",
    "        * <i>Python scripts (.py) are plain text files. Git tracks plain text changes easily.</i>\n",
    "        * <i>Scripts are robust to scaling and reproducing work.</i>\n",
    "        * <i>Break out scripts by concepts / stages</i>\n",
    "        * <i>All functions used in scripts should have docstrings. Type hints are encouraged!</i>\n",
    "    * Which components should a script contain?\n",
    "        * <i>1 script for importing external data and changing it from shapefile/geojson/csv to parquet/geoparquet\n",
    "        * <i>If only using warehouse data or upstream warehouse data cached in GCS, can skip this first script\n",
    "        * <i>At least 1 script for data processing to produce processed output for visualization\n",
    "        * <i>Break out scripts by concepts / stages\n",
    "        * <i>Include data catalog, README for the project\n",
    "        * <i>All functions used in scripts should have docstrings. Type hints are encouraged!\n",
    "### Sample Script \n",
    "* Making Python scripts is an art and not straight forward.\n",
    "* I have already populated a `.py` file called `_starterkit_utils` with some sample functions.\n",
    "* I imported my Python Script just like how I imported my other dependencies (Pandas, Altair, Numpy)."
   ]
  },
  {
   "cell_type": "code",
   "execution_count": null,
   "id": "68d8980b-e857-491e-b03a-4648c5f4c5f3",
   "metadata": {},
   "outputs": [],
   "source": [
    "import _starterkit_utils"
   ]
  },
  {
   "cell_type": "markdown",
   "id": "6f37fc46-a49e-45b4-92bf-d5b3910b2325",
   "metadata": {},
   "source": [
    "### Breakdown of the Sample Script\n",
    "#### Function 1\n",
    "* You can also preview what a function does by writing `script_name.function_name??`\n",
    "* Following what the DDS docs says, I am creating a new function every time I am processing the data in another stage.\n",
    "* I have one function that loads in my dataset."
   ]
  },
  {
   "cell_type": "code",
   "execution_count": null,
   "id": "3454fecc-0b6b-4f1f-b74d-17792165f990",
   "metadata": {},
   "outputs": [],
   "source": [
    "_starterkit_utils.load_dataset??"
   ]
  },
  {
   "cell_type": "markdown",
   "id": "a5effa3c-cdb4-4aa4-870f-75f78e8461ad",
   "metadata": {},
   "source": [
    "\n",
    "* To use a function in a Script, write `name_of_your_script.name_of_the_function(whatever arguments)`\n",
    "* Take a look at the column names: they are no longer in `snakecase` because I applied a function that capitalizes it properly."
   ]
  },
  {
   "cell_type": "code",
   "execution_count": null,
   "id": "44467ccf-599f-4662-8164-8a58fac85711",
   "metadata": {},
   "outputs": [],
   "source": [
    "df = _starterkit_utils.load_dataset()"
   ]
  },
  {
   "cell_type": "markdown",
   "id": "422c3b29-822b-4957-bc5a-b9d0c55fa34c",
   "metadata": {},
   "source": [
    "#### Function 2:\n",
    "* After loading in the dataset from GCS, I am entering my second stage of processing the data.\n",
    "* I am aggregating my dataframe by category. "
   ]
  },
  {
   "cell_type": "code",
   "execution_count": null,
   "id": "0d82c825-d789-469e-8ae2-c69a94984511",
   "metadata": {},
   "outputs": [],
   "source": [
    "_starterkit_utils.aggregate_by_category??"
   ]
  },
  {
   "cell_type": "code",
   "execution_count": null,
   "id": "f9635fe8-a6c7-4813-9f25-7ba555ce9726",
   "metadata": {},
   "outputs": [],
   "source": [
    "aggregated_df = _starterkit_utils.aggregate_by_category(df)"
   ]
  },
  {
   "cell_type": "code",
   "execution_count": null,
   "id": "2bdcb3e6-2add-4af6-a20a-9072b7ba075c",
   "metadata": {},
   "outputs": [],
   "source": [
    "aggregated_df"
   ]
  },
  {
   "cell_type": "markdown",
   "id": "c5567fc1-0f13-4913-8744-5568d85942f7",
   "metadata": {},
   "source": [
    "#### Function 3\n",
    "* I want process my data a second way by changing it from wide to long. \n",
    "* [Read about wide to long.](https://www.statology.org/long-vs-wide-data/)\n",
    "* [Pandas doc on melt](https://pandas.pydata.org/pandas-docs/stable/reference/api/pandas.melt.html)"
   ]
  },
  {
   "cell_type": "code",
   "execution_count": null,
   "id": "2b0231f0-eb97-46d4-9541-aee43b138755",
   "metadata": {},
   "outputs": [],
   "source": [
    "_starterkit_utils.wide_to_long??"
   ]
  },
  {
   "cell_type": "code",
   "execution_count": null,
   "id": "82172952-3d59-436e-b08c-7096454b6e04",
   "metadata": {},
   "outputs": [],
   "source": [
    "df2 = _starterkit_utils.wide_to_long(df)"
   ]
  },
  {
   "cell_type": "code",
   "execution_count": null,
   "id": "1bcac91b-b0a1-4efd-8a73-f019c376d030",
   "metadata": {},
   "outputs": [],
   "source": [
    "df2.head(2)"
   ]
  },
  {
   "cell_type": "markdown",
   "id": "55622831-2e94-4101-b531-611ff864a1a7",
   "metadata": {},
   "source": [
    "#### Function 4\n",
    "* Now that I have my aggregated data, I want to visualize my results,\n",
    "* `style_df` takes my pandas dataframe and makes it look a bit sleeker."
   ]
  },
  {
   "cell_type": "code",
   "execution_count": null,
   "id": "d69a4f91-4e37-4207-93e0-2eaa18f998ff",
   "metadata": {},
   "outputs": [],
   "source": [
    "_starterkit_utils.style_df(aggregated_df)"
   ]
  },
  {
   "cell_type": "markdown",
   "id": "f9836712-aecb-4d5e-ae50-895fdb3d427f",
   "metadata": {},
   "source": [
    "#### Function 5 \n",
    "* After aggregating and reshaping the data, the next function presents the data.\n",
    "* This is function that creates a chart that shows the scores by metric for each project."
   ]
  },
  {
   "cell_type": "code",
   "execution_count": null,
   "id": "1e2ec6b7-b494-4db5-a863-91882c77a7a8",
   "metadata": {},
   "outputs": [],
   "source": [
    "_starterkit_utils.create_metric_chart??"
   ]
  },
  {
   "cell_type": "code",
   "execution_count": null,
   "id": "7f39ca4e-9fb9-497d-bee6-22be385a9d34",
   "metadata": {},
   "outputs": [],
   "source": [
    "_starterkit_utils.create_metric_chart(df2)"
   ]
  },
  {
   "cell_type": "markdown",
   "id": "e268d5f7-30f6-4b36-bfa3-1391dfa772f9",
   "metadata": {},
   "source": [
    "## Grains\n",
    "* This is a light introduction to the concept of grains.\n",
    "* Grain means the level your dataset is presented at.\n",
    "* Basically, what does each row represent?\n",
    "* The original dataset is presented on the project-level grain because each row represents a unique project. "
   ]
  },
  {
   "cell_type": "code",
   "execution_count": null,
   "id": "bb228391-f907-4d76-a2b5-45b7fd188d21",
   "metadata": {},
   "outputs": [],
   "source": [
    "df[[\"Project Name\", \"Overall Score\"]].head()"
   ]
  },
  {
   "cell_type": "markdown",
   "id": "69b70b73-4dba-4280-a385-99d0c2d06018",
   "metadata": {},
   "source": [
    "* If we aggregate the dataset using Caltrans District, then this dataset would be on the district gain."
   ]
  },
  {
   "cell_type": "code",
   "execution_count": null,
   "id": "9a332009-4ac5-4eca-9632-6d45c03765a4",
   "metadata": {},
   "outputs": [],
   "source": [
    "df.groupby([\"Caltrans District\"]).agg({\"Project Name\": \"nunique\"}).reset_index().rename(\n",
    "    columns={\"Project Name\": \"Total Projects\"}\n",
    ")"
   ]
  },
  {
   "cell_type": "markdown",
   "id": "da0849c1-5f7e-417c-b321-e289fb46b262",
   "metadata": {},
   "source": [
    "* If we aggregate the dataset by lead agency, then this dataset would be on the agency gain."
   ]
  },
  {
   "cell_type": "code",
   "execution_count": null,
   "id": "c0f00432-60ca-4e8a-9c2a-45bba234dbd7",
   "metadata": {},
   "outputs": [],
   "source": [
    "df.groupby([\"Lead Agency\"]).agg({\"Project Name\": \"nunique\"}).reset_index().rename(\n",
    "    columns={\"Project Name\": \"Total Projects\"}\n",
    ")"
   ]
  },
  {
   "cell_type": "markdown",
   "id": "55137a34-1624-4d8a-8ee8-33c773868cde",
   "metadata": {},
   "source": [
    "* Grains can get very minute. The one below is Lead Agency and Category Grain. "
   ]
  },
  {
   "cell_type": "code",
   "execution_count": null,
   "id": "7892454f-5f70-4237-9f04-560405cf1775",
   "metadata": {},
   "outputs": [],
   "source": [
    "df.groupby([\"Lead Agency\", \"Category\"]).agg(\n",
    "    {\"Project Name\": \"nunique\"}\n",
    ").reset_index().rename(columns={\"Project Name\": \"Total Projects\"})"
   ]
  },
  {
   "cell_type": "markdown",
   "id": "6fc393e2-bfcf-40fc-b6f1-5aa90e0c9715",
   "metadata": {},
   "source": [
    "## Create your own Script\n",
    "* **Make sure your functions make sense for the district grain. You will be using these functions for Exercise 5.**\n",
    "* In your script, separate out functions by step like above. \n",
    "    * One function that loads the dataset and does some light cleaning.\n",
    "    * One (or more) functions that transform your dataframe.\n",
    "        * `melt()`, `.T`, `.groupby()` are just some of the many options available through `pandas`. \n",
    "    * One (or more) functions that visualize your dataframe.\n",
    "        * Could be a chart, a styled dataframe, a wordcloud. \n",
    "* Other things to consider\n",
    "    * Our [DDS Docs](https://docs.calitp.org/data-infra/publishing/sections/4_notebooks_styling.html#narrative) has a great guide on what \"checkboxes\" need to be \"checked\" when presenting data. The first 3 sections are the most relevant.\n",
    "    * To summarize the docs, double check:\n",
    "        * Are currency columns formatted with $ and commas?\n",
    "        * Are all the scores formatted with the same number of decimals?\n",
    "        * Are the string columns formatted with the right punctuation and capitalization?\n",
    "        * Are the column names formatted properly? While `snake_case` is very handy when we are analyzing the dataframe, it is not very nice when presenting the data. We typically reverse the `snake_case` back to something like `Project Name`.\n",
    "        * [Caltrans Districts are currently integers, but they have actual names that can be mapped.](https://cwwp2.dot.ca.gov/documentation/district-map-county-chart.htm) \n",
    "   "
   ]
  },
  {
   "cell_type": "markdown",
   "id": "7e1ff2d3-ae53-4682-b540-cb8a3c11e076",
   "metadata": {},
   "source": [
    "## Markdown/Display\n",
    "* Although our code is now neatly stored in a Python script, a Jupyter Notebook on its own is a bit plain, even when we have beautiful charts. \n",
    "* There are many ways to jazz it up.\n",
    "* **Resource**: [Data Camp's Markdown Tutorial](https://www.datacamp.com/tutorial/markdown-in-jupyter-notebook)\n",
    "### Images\n",
    "#### In a Markdown Cell\n",
    "* You can add an image in a markdown cell\n",
    "`<img src=\"https://raw.githubusercontent.com/cal-itp/data-analyses/refs/heads/main/portfolio/Calitp_logo_MAIN.png\" width=100 height=100 />`<p>\n",
    "<img src=\"https://raw.githubusercontent.com/cal-itp/data-analyses/refs/heads/main/portfolio/Calitp_logo_MAIN.png\" width=100 height=100 />\n",
    "#### In a Code Cell\n",
    "* You can add an image in a code cell if you import the packages below."
   ]
  },
  {
   "cell_type": "code",
   "execution_count": null,
   "id": "4ec41786-491f-46ad-963e-f380d8095ade",
   "metadata": {},
   "outputs": [],
   "source": [
    "from IPython.display import HTML, Image, Markdown, display, display_html"
   ]
  },
  {
   "cell_type": "code",
   "execution_count": null,
   "id": "8d0a6849-f178-46fc-919a-f45b5436c423",
   "metadata": {},
   "outputs": [],
   "source": [
    "display(Image(filename=\"./19319_en_1.jpg\", retina=True))"
   ]
  },
  {
   "cell_type": "markdown",
   "id": "2b26a0da-b23c-436a-b79a-9749b33ef554",
   "metadata": {},
   "source": [
    "### Display\n",
    "* Of course, you can write your narratives in a Markdown cell like what I'm doing right now.\n",
    "* However, what if you want to incorporate values from your dataframe into the narrative?\n",
    "* Writing out the values manually in markdown locks you in. If the values change, you'll have to rewrite your narrative which is timely and prone to inaccuracy.\n",
    "* The best way is to use `display` and `markdown` from  `from IPython.display`\n",
    "* We are using District 3 as an example"
   ]
  },
  {
   "cell_type": "markdown",
   "id": "3ebd21f4-0779-48ea-9cfd-eb912d5fda96",
   "metadata": {},
   "source": [
    "#### No hard coding\n",
    "* Save out your desired value into a new variable whenever you want to reference it in a narrative."
   ]
  },
  {
   "cell_type": "code",
   "execution_count": null,
   "id": "caecab58-2d26-4604-a3f1-ab4a11400038",
   "metadata": {},
   "outputs": [],
   "source": [
    "# Filter for D3\n",
    "d3_df = df.loc[df[\"Caltrans District\"] == 3].reset_index(drop=True)"
   ]
  },
  {
   "cell_type": "code",
   "execution_count": null,
   "id": "995eb899-0397-4f60-b587-18fcf8a4cb0e",
   "metadata": {},
   "outputs": [],
   "source": [
    "# Find the median overall score\n",
    "d3_median_score = d3_df[\"Overall Score\"].median()"
   ]
  },
  {
   "cell_type": "code",
   "execution_count": null,
   "id": "bc73cc66-911a-44bf-9710-920328b40609",
   "metadata": {},
   "outputs": [],
   "source": [
    "# Find total projects\n",
    "d3_total_projects = d3_df[\"Project Name\"].nunique()"
   ]
  },
  {
   "cell_type": "code",
   "execution_count": null,
   "id": "8a5dafba-c901-412c-bf53-e418dc558787",
   "metadata": {},
   "outputs": [],
   "source": [
    "# Find the most expensive project\n",
    "d3_max_project = d3_df[\"Project Cost\"].max()"
   ]
  },
  {
   "cell_type": "code",
   "execution_count": null,
   "id": "e183e629-7f79-45e3-810b-294851ca9abf",
   "metadata": {},
   "outputs": [],
   "source": [
    "# Format the cost so it's something like $1,000,000 instead of 1000000\n",
    "d3_max_project = f\"${d3_max_project:,.2f}\""
   ]
  },
  {
   "cell_type": "markdown",
   "id": "241607df-d133-4fb1-ac13-f1a32454b815",
   "metadata": {},
   "source": [
    "#### Long F-String + Headers\n",
    "* F-strings can have multiple quotation marks. This allows you to write a f-string that goes over multiple lines.\n",
    "* `<h3>` and `</h3>` displays District 3 in a header. \n",
    "    * Headers vary in size, 1 being the largest. \n",
    "* `<b></b>` bolds the text. \n",
    "    * `<s></s>` strikes the text.\n",
    "* Notice that you always have to **close** your HTML with `</whatever_you_are_doing>`"
   ]
  },
  {
   "cell_type": "code",
   "execution_count": null,
   "id": "8d7e68ad-79dd-48b6-8e17-90496d470b69",
   "metadata": {},
   "outputs": [],
   "source": [
    "display(\n",
    "    Markdown(\n",
    "        f\"\"\"<h3>District 3</h3>\n",
    "        The median score for projects in District 3 is <b>{d3_median_score}</b><br> \n",
    "        The total number of projects is <b>{d3_total_projects}</b><br>\n",
    "        <s>The most expensive project costs</s> <b>{d3_max_project}</b>\n",
    "        \"\"\"\n",
    "    )\n",
    ")"
   ]
  },
  {
   "cell_type": "markdown",
   "id": "4aa41900-7dbf-4c61-b927-4f1e42f6b8da",
   "metadata": {},
   "source": [
    "#### You can code in this cell. I'm filtering out for district 3 values.\n",
    "* Notice the header went from `<h3>` to `<h4>`. "
   ]
  },
  {
   "cell_type": "code",
   "execution_count": null,
   "id": "38d84ed3-9626-4f91-9aea-e2449aef4cf8",
   "metadata": {},
   "outputs": [],
   "source": [
    "display(\n",
    "    Markdown(\n",
    "        f\"\"\"<h5>Metric Scores</h5>\n",
    "        \"\"\"\n",
    "    )\n",
    ")\n",
    "display(_starterkit_utils.create_metric_chart(df2))"
   ]
  },
  {
   "cell_type": "markdown",
   "id": "fe45d252-1d46-4d34-98f4-7118afd96406",
   "metadata": {},
   "source": [
    "### `Markdown` and `Display` can be worked into functions \n",
    "* What if I wanted to generate these reports for every district?\n",
    "* I can simply turn this into a function."
   ]
  },
  {
   "cell_type": "code",
   "execution_count": null,
   "id": "8875a82f-2df3-4777-a115-87ba84ea96a3",
   "metadata": {},
   "outputs": [],
   "source": [
    "_starterkit_utils.create_district_summary??"
   ]
  },
  {
   "cell_type": "code",
   "execution_count": null,
   "id": "6d6f524a-d49b-4729-801f-ccc4bd800149",
   "metadata": {},
   "outputs": [],
   "source": [
    "for district in range(10, 12):\n",
    "    _starterkit_utils.create_district_summary(df, district)"
   ]
  },
  {
   "cell_type": "markdown",
   "id": "c5082a4a-2b6c-4e72-8e2d-267305ad06a4",
   "metadata": {},
   "source": [
    "## Your turn to combine all your functions into one function\n",
    "* Take some inspiration from ` _starterkit_utils.create_district_summary(df, district).`\n",
    "* Incorporate concepts from `markdown` and `display` to create a polished report. "
   ]
  }
 ],
 "metadata": {
  "kernelspec": {
   "display_name": "Python 3 (ipykernel)",
   "language": "python",
   "name": "python3"
  },
  "language_info": {
   "codemirror_mode": {
    "name": "ipython",
    "version": 3
   },
   "file_extension": ".py",
   "mimetype": "text/x-python",
   "name": "python",
   "nbconvert_exporter": "python",
   "pygments_lexer": "ipython3",
   "version": "3.9.13"
  },
  "widgets": {
   "application/vnd.jupyter.widget-state+json": {
    "state": {},
    "version_major": 2,
    "version_minor": 0
   }
  }
 },
 "nbformat": 4,
 "nbformat_minor": 5
}
