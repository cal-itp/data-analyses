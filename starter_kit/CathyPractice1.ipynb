{
 "cells": [
  {
   "cell_type": "markdown",
   "id": "359103e6-bf20-4b1f-abf6-b9f4891c8096",
   "metadata": {},
   "source": [
    "Subject 1\n",
    "# Heading 1\n",
    "## Heading 2\n",
    "This is a sentence\n",
    "\n",
    "* This is a bullet\n",
    "\n",
    "1. Numbering\n",
    "2. Yay"
   ]
  },
  {
   "cell_type": "code",
   "execution_count": 1,
   "id": "0520c884-8159-4b89-a44e-04efc1653239",
   "metadata": {},
   "outputs": [],
   "source": [
    "import pandas as pd"
   ]
  },
  {
   "cell_type": "code",
   "execution_count": null,
   "id": "d62283b9-77fd-426a-9362-da1fb3423ed2",
   "metadata": {},
   "outputs": [],
   "source": []
  }
 ],
 "metadata": {
  "kernelspec": {
   "display_name": "Python 3 (ipykernel)",
   "language": "python",
   "name": "python3"
  },
  "language_info": {
   "codemirror_mode": {
    "name": "ipython",
    "version": 3
   },
   "file_extension": ".py",
   "mimetype": "text/x-python",
   "name": "python",
   "nbconvert_exporter": "python",
   "pygments_lexer": "ipython3",
   "version": "3.9.13"
  }
 },
 "nbformat": 4,
 "nbformat_minor": 5
}
