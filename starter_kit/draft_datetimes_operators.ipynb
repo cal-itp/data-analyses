{
 "cells": [
  {
   "cell_type": "markdown",
   "id": "e1d75e42-d45a-4de1-a376-dde0ef911856",
   "metadata": {},
   "source": [
    "# https://docs.python.org/3/library/datetime.html\n",
    "\n",
    "* https://en.wikipedia.org/wiki/Modulo\n",
    "* https://python-reference.readthedocs.io/en/latest/docs/operators/addition_assignment.html"
   ]
  },
  {
   "cell_type": "code",
   "execution_count": 1,
   "id": "82308fc1-e4f0-4009-9290-e1439b83769b",
   "metadata": {},
   "outputs": [],
   "source": [
    "import datetime as dt"
   ]
  },
  {
   "cell_type": "code",
   "execution_count": 2,
   "id": "7f79c75d-07e5-4cf4-9b4b-7e86d11983d7",
   "metadata": {},
   "outputs": [],
   "source": [
    "analysis_date = '2022-05-20'"
   ]
  },
  {
   "cell_type": "code",
   "execution_count": 40,
   "id": "c4e04ec3-c2b1-4cdf-b4a4-acbe0a72db09",
   "metadata": {},
   "outputs": [],
   "source": [
    "analysis_date = dt.date.fromisoformat(analysis_date)"
   ]
  },
  {
   "cell_type": "code",
   "execution_count": 6,
   "id": "e03155dd-66b8-417e-b49f-444eeaf455a6",
   "metadata": {},
   "outputs": [
    {
     "data": {
      "text/plain": [
       "\u001b[0;31mInit signature:\u001b[0m \u001b[0mdt\u001b[0m\u001b[0;34m.\u001b[0m\u001b[0mtime\u001b[0m\u001b[0;34m(\u001b[0m\u001b[0mself\u001b[0m\u001b[0;34m,\u001b[0m \u001b[0;34m/\u001b[0m\u001b[0;34m,\u001b[0m \u001b[0;34m*\u001b[0m\u001b[0margs\u001b[0m\u001b[0;34m,\u001b[0m \u001b[0;34m**\u001b[0m\u001b[0mkwargs\u001b[0m\u001b[0;34m)\u001b[0m\u001b[0;34m\u001b[0m\u001b[0;34m\u001b[0m\u001b[0m\n",
       "\u001b[0;31mDocstring:\u001b[0m     \n",
       "time([hour[, minute[, second[, microsecond[, tzinfo]]]]]) --> a time object\n",
       "\n",
       "All arguments are optional. tzinfo may be None, or an instance of\n",
       "a tzinfo subclass. The remaining arguments may be ints.\n",
       "\u001b[0;31mFile:\u001b[0m           /opt/conda/lib/python3.9/datetime.py\n",
       "\u001b[0;31mType:\u001b[0m           type\n",
       "\u001b[0;31mSubclasses:\u001b[0m     "
      ]
     },
     "metadata": {},
     "output_type": "display_data"
    }
   ],
   "source": [
    "dt.time?"
   ]
  },
  {
   "cell_type": "code",
   "execution_count": 7,
   "id": "73742c76-3eb3-4915-a726-5900ab04bece",
   "metadata": {},
   "outputs": [],
   "source": [
    "secs_in_day = 86400\n",
    "wraparound = 89000\n",
    "under = 80000"
   ]
  },
  {
   "cell_type": "code",
   "execution_count": 10,
   "id": "153a62be-4ac7-4733-9f30-859d0d488751",
   "metadata": {},
   "outputs": [
    {
     "data": {
      "text/plain": [
       "\u001b[0;31mInit signature:\u001b[0m \u001b[0mdt\u001b[0m\u001b[0;34m.\u001b[0m\u001b[0mtime\u001b[0m\u001b[0;34m(\u001b[0m\u001b[0mself\u001b[0m\u001b[0;34m,\u001b[0m \u001b[0;34m/\u001b[0m\u001b[0;34m,\u001b[0m \u001b[0;34m*\u001b[0m\u001b[0margs\u001b[0m\u001b[0;34m,\u001b[0m \u001b[0;34m**\u001b[0m\u001b[0mkwargs\u001b[0m\u001b[0;34m)\u001b[0m\u001b[0;34m\u001b[0m\u001b[0;34m\u001b[0m\u001b[0m\n",
       "\u001b[0;31mDocstring:\u001b[0m     \n",
       "time([hour[, minute[, second[, microsecond[, tzinfo]]]]]) --> a time object\n",
       "\n",
       "All arguments are optional. tzinfo may be None, or an instance of\n",
       "a tzinfo subclass. The remaining arguments may be ints.\n",
       "\u001b[0;31mFile:\u001b[0m           /opt/conda/lib/python3.9/datetime.py\n",
       "\u001b[0;31mType:\u001b[0m           type\n",
       "\u001b[0;31mSubclasses:\u001b[0m     "
      ]
     },
     "metadata": {},
     "output_type": "display_data"
    }
   ],
   "source": [
    "dt.time?"
   ]
  },
  {
   "cell_type": "code",
   "execution_count": 24,
   "id": "7f64f31b-ba8a-4f10-a7eb-30f58eba258b",
   "metadata": {},
   "outputs": [
    {
     "data": {
      "text/plain": [
       "80000"
      ]
     },
     "execution_count": 24,
     "metadata": {},
     "output_type": "execute_result"
    }
   ],
   "source": [
    "under"
   ]
  },
  {
   "cell_type": "code",
   "execution_count": 18,
   "id": "8170c500-6456-4c55-9cbe-a264e13dd731",
   "metadata": {},
   "outputs": [
    {
     "data": {
      "text/plain": [
       "20"
      ]
     },
     "execution_count": 18,
     "metadata": {},
     "output_type": "execute_result"
    }
   ],
   "source": [
    "under % 60"
   ]
  },
  {
   "cell_type": "code",
   "execution_count": 20,
   "id": "c080ae41-479b-4a58-934a-3d5620f00216",
   "metadata": {},
   "outputs": [],
   "source": [
    "total_min = under // 60"
   ]
  },
  {
   "cell_type": "code",
   "execution_count": 22,
   "id": "1b56bd25-5882-45f4-a78e-6a853e4d08e2",
   "metadata": {},
   "outputs": [
    {
     "data": {
      "text/plain": [
       "13"
      ]
     },
     "execution_count": 22,
     "metadata": {},
     "output_type": "execute_result"
    }
   ],
   "source": [
    "total_min % 60"
   ]
  },
  {
   "cell_type": "code",
   "execution_count": 23,
   "id": "249cc944-5f82-4935-9118-3bac32400b96",
   "metadata": {},
   "outputs": [
    {
     "data": {
      "text/plain": [
       "22"
      ]
     },
     "execution_count": 23,
     "metadata": {},
     "output_type": "execute_result"
    }
   ],
   "source": [
    "total_min // 60"
   ]
  },
  {
   "cell_type": "code",
   "execution_count": 13,
   "id": "dfb978e3-cc52-4c66-8fce-27cf114ad2eb",
   "metadata": {},
   "outputs": [
    {
     "ename": "ValueError",
     "evalue": "second must be in 0..59",
     "output_type": "error",
     "traceback": [
      "\u001b[0;31m---------------------------------------------------------------------------\u001b[0m",
      "\u001b[0;31mValueError\u001b[0m                                Traceback (most recent call last)",
      "Cell \u001b[0;32mIn[13], line 1\u001b[0m\n\u001b[0;32m----> 1\u001b[0m \u001b[43mdt\u001b[49m\u001b[38;5;241;43m.\u001b[39;49m\u001b[43mtime\u001b[49m\u001b[43m(\u001b[49m\u001b[43msecond\u001b[49m\u001b[43m \u001b[49m\u001b[38;5;241;43m=\u001b[39;49m\u001b[43m \u001b[49m\u001b[43munder\u001b[49m\u001b[43m)\u001b[49m\n",
      "\u001b[0;31mValueError\u001b[0m: second must be in 0..59"
     ]
    }
   ],
   "source": [
    "dt.time(second = under)"
   ]
  },
  {
   "cell_type": "code",
   "execution_count": 25,
   "id": "1ef27bee-fa71-4166-91a6-aaddaaf00f0f",
   "metadata": {},
   "outputs": [],
   "source": [
    "def seconds_to_hms(seconds):\n",
    "    \n",
    "    return_secs = seconds % 60\n",
    "    total_min = seconds // 60\n",
    "    return_min = total_min % 60\n",
    "    return_hrs = total_min // 60\n",
    "    \n",
    "    return {'hour': return_hrs, 'minute': return_min, 'second': return_secs}"
   ]
  },
  {
   "cell_type": "code",
   "execution_count": 28,
   "id": "34bd6e0d-5e80-40bf-b1b6-fd9cca65c339",
   "metadata": {},
   "outputs": [],
   "source": [
    "converted = seconds_to_hms(under)"
   ]
  },
  {
   "cell_type": "code",
   "execution_count": 29,
   "id": "dc682911-80e5-48e6-8110-04208ac5e0af",
   "metadata": {},
   "outputs": [
    {
     "data": {
      "text/plain": [
       "{'hour': 22, 'minute': 13, 'second': 20}"
      ]
     },
     "execution_count": 29,
     "metadata": {},
     "output_type": "execute_result"
    }
   ],
   "source": [
    "converted"
   ]
  },
  {
   "cell_type": "code",
   "execution_count": 30,
   "id": "d849560a-d414-4081-a8b4-a499d4a68c7d",
   "metadata": {},
   "outputs": [
    {
     "data": {
      "text/plain": [
       "datetime.time(22, 13, 20)"
      ]
     },
     "execution_count": 30,
     "metadata": {},
     "output_type": "execute_result"
    }
   ],
   "source": [
    "dt.time(**converted)"
   ]
  },
  {
   "cell_type": "code",
   "execution_count": 32,
   "id": "a3481b11-c011-437a-a563-1f4aee3819e0",
   "metadata": {},
   "outputs": [
    {
     "data": {
      "text/plain": [
       "datetime.time(22, 13, 20)"
      ]
     },
     "execution_count": 32,
     "metadata": {},
     "output_type": "execute_result"
    }
   ],
   "source": [
    "dt.time(hour=converted['hour'], minute=converted['minute'], second = converted['second'])"
   ]
  },
  {
   "cell_type": "code",
   "execution_count": 34,
   "id": "1f7afe05-4387-438a-9df2-275376a75e9c",
   "metadata": {},
   "outputs": [
    {
     "data": {
      "text/plain": [
       "0"
      ]
     },
     "execution_count": 34,
     "metadata": {},
     "output_type": "execute_result"
    }
   ],
   "source": [
    "under // secs_in_day"
   ]
  },
  {
   "cell_type": "code",
   "execution_count": 35,
   "id": "23c2c3ed-31ac-456e-9817-91d36a3fdb00",
   "metadata": {},
   "outputs": [
    {
     "data": {
      "text/plain": [
       "1"
      ]
     },
     "execution_count": 35,
     "metadata": {},
     "output_type": "execute_result"
    }
   ],
   "source": [
    "wraparound // secs_in_day"
   ]
  },
  {
   "cell_type": "code",
   "execution_count": 36,
   "id": "053ab89a-4cc2-4d82-966b-0a9e6e887797",
   "metadata": {},
   "outputs": [
    {
     "data": {
      "text/plain": [
       "\u001b[0;31mDocstring:\u001b[0m date, time -> datetime with same date and time fields\n",
       "\u001b[0;31mType:\u001b[0m      builtin_function_or_method"
      ]
     },
     "metadata": {},
     "output_type": "display_data"
    }
   ],
   "source": [
    "dt.datetime.combine?"
   ]
  },
  {
   "cell_type": "code",
   "execution_count": 37,
   "id": "d1b4460b-73cb-4549-90a0-ac86c9b29cac",
   "metadata": {},
   "outputs": [
    {
     "data": {
      "text/plain": [
       "\u001b[0;31mInit signature:\u001b[0m \u001b[0mdt\u001b[0m\u001b[0;34m.\u001b[0m\u001b[0mtimedelta\u001b[0m\u001b[0;34m(\u001b[0m\u001b[0mself\u001b[0m\u001b[0;34m,\u001b[0m \u001b[0;34m/\u001b[0m\u001b[0;34m,\u001b[0m \u001b[0;34m*\u001b[0m\u001b[0margs\u001b[0m\u001b[0;34m,\u001b[0m \u001b[0;34m**\u001b[0m\u001b[0mkwargs\u001b[0m\u001b[0;34m)\u001b[0m\u001b[0;34m\u001b[0m\u001b[0;34m\u001b[0m\u001b[0m\n",
       "\u001b[0;31mDocstring:\u001b[0m     \n",
       "Difference between two datetime values.\n",
       "\n",
       "timedelta(days=0, seconds=0, microseconds=0, milliseconds=0, minutes=0, hours=0, weeks=0)\n",
       "\n",
       "All arguments are optional and default to 0.\n",
       "Arguments may be integers or floats, and may be positive or negative.\n",
       "\u001b[0;31mFile:\u001b[0m           /opt/conda/lib/python3.9/datetime.py\n",
       "\u001b[0;31mType:\u001b[0m           type\n",
       "\u001b[0;31mSubclasses:\u001b[0m     "
      ]
     },
     "metadata": {},
     "output_type": "display_data"
    }
   ],
   "source": [
    "dt.timedelta?"
   ]
  },
  {
   "cell_type": "code",
   "execution_count": 38,
   "id": "cf35a4dc-0664-48b1-891b-def1ef9645a9",
   "metadata": {},
   "outputs": [],
   "source": [
    "def add_time_to_date(date, gtfs_seconds):\n",
    "    \n",
    "    extra_day = gtfs_seconds // secs_in_day\n",
    "    normal_seconds = gtfs_seconds % secs_in_day\n",
    "    \n",
    "    normal_hms = seconds_to_hms(normal_seconds)\n",
    "    time = dt.time(**normal_hms)\n",
    "    \n",
    "    datetime = dt.datetime.combine(date, time)\n",
    "    \n",
    "    if extra_day:\n",
    "        datetime += dt.timedelta(days=extra_day)\n",
    "    \n",
    "    return datetime"
   ]
  },
  {
   "cell_type": "code",
   "execution_count": 44,
   "id": "7269636d-7c95-48e6-bba7-399c419c621f",
   "metadata": {},
   "outputs": [],
   "source": [
    "before_midnight = add_time_to_date(analysis_date, under)"
   ]
  },
  {
   "cell_type": "code",
   "execution_count": 46,
   "id": "ab892348-7a3a-4198-8a12-21b4c33216a4",
   "metadata": {},
   "outputs": [
    {
     "data": {
      "text/plain": [
       "datetime.datetime(2022, 5, 20, 22, 13, 20)"
      ]
     },
     "execution_count": 46,
     "metadata": {},
     "output_type": "execute_result"
    }
   ],
   "source": [
    "before_midnight"
   ]
  },
  {
   "cell_type": "code",
   "execution_count": 47,
   "id": "207aa8bb-7779-4f59-9a91-cd39851db624",
   "metadata": {},
   "outputs": [],
   "source": [
    "after_midnight = add_time_to_date(analysis_date, wraparound)"
   ]
  },
  {
   "cell_type": "code",
   "execution_count": 48,
   "id": "8754bca0-966a-4bec-a833-4b595e35cae1",
   "metadata": {},
   "outputs": [
    {
     "data": {
      "text/plain": [
       "datetime.datetime(2022, 5, 21, 0, 43, 20)"
      ]
     },
     "execution_count": 48,
     "metadata": {},
     "output_type": "execute_result"
    }
   ],
   "source": [
    "after_midnight"
   ]
  },
  {
   "cell_type": "code",
   "execution_count": 49,
   "id": "a7748ab1-aea5-4709-afb5-859a9d63f107",
   "metadata": {},
   "outputs": [],
   "source": [
    "td = after_midnight - before_midnight"
   ]
  },
  {
   "cell_type": "code",
   "execution_count": 50,
   "id": "e407e47a-7c7d-4dc1-ac39-d14267262deb",
   "metadata": {},
   "outputs": [
    {
     "data": {
      "text/plain": [
       "datetime.timedelta(seconds=9000)"
      ]
     },
     "execution_count": 50,
     "metadata": {},
     "output_type": "execute_result"
    }
   ],
   "source": [
    "td"
   ]
  },
  {
   "cell_type": "code",
   "execution_count": 54,
   "id": "06ce0476-faa5-4937-9f99-5a5145f20704",
   "metadata": {},
   "outputs": [
    {
     "data": {
      "text/plain": [
       "9000"
      ]
     },
     "execution_count": 54,
     "metadata": {},
     "output_type": "execute_result"
    }
   ],
   "source": [
    "td.seconds"
   ]
  },
  {
   "cell_type": "code",
   "execution_count": 53,
   "id": "d9acb2cf-37ff-471b-8b0c-9e1857fc70fa",
   "metadata": {},
   "outputs": [
    {
     "data": {
      "text/plain": [
       "9000.0"
      ]
     },
     "execution_count": 53,
     "metadata": {},
     "output_type": "execute_result"
    }
   ],
   "source": [
    "td.total_seconds()"
   ]
  }
 ],
 "metadata": {
  "kernelspec": {
   "display_name": "Python 3 (ipykernel)",
   "language": "python",
   "name": "python3"
  },
  "language_info": {
   "codemirror_mode": {
    "name": "ipython",
    "version": 3
   },
   "file_extension": ".py",
   "mimetype": "text/x-python",
   "name": "python",
   "nbconvert_exporter": "python",
   "pygments_lexer": "ipython3",
   "version": "3.9.13"
  },
  "widgets": {
   "application/vnd.jupyter.widget-state+json": {
    "state": {},
    "version_major": 2,
    "version_minor": 0
   }
  }
 },
 "nbformat": 4,
 "nbformat_minor": 5
}
