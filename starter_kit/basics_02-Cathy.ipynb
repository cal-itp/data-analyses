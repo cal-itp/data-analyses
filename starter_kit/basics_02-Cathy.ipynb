{
 "cells": [
  {
   "cell_type": "markdown",
   "id": "04af490c-5230-4b28-aeb4-d636f44a28ba",
   "metadata": {},
   "source": [
    "## Exercise 2: Merging and Deriving New Columns\n",
    "\n",
    "Skills: \n",
    "* Merge 2 dataframes\n",
    "* F-strings!\n",
    "* Markdown cells\n",
    "* Build on groupby/agg knowledge, derive new columns, exporting\n",
    "* Practice committing on GitHub\n",
    "\n",
    "References: \n",
    "* https://docs.calitp.org/data-infra/analytics_new_analysts/01-data-analysis-intro.html\n",
    "* https://docs.calitp.org/data-infra/analytics_tools/saving_code.html"
   ]
  },
  {
   "cell_type": "code",
   "execution_count": 48,
   "id": "940e12c5-6775-4aa1-b7df-c00ca89732af",
   "metadata": {},
   "outputs": [],
   "source": [
    "import pandas as pd"
   ]
  },
  {
   "cell_type": "markdown",
   "id": "f4487520-d005-4262-b19f-4433203b12df",
   "metadata": {},
   "source": [
    "Use of f-strings. [Read more on this](https://realpython.com/python-f-strings/#f-strings-a-new-and-improved-way-to-format-strings-in-python).\n",
    "\n",
    "Also, click on this Markdown cell and see how to do different formatting syntax within Markdown. [Reference this](https://www.datacamp.com/community/tutorials/markdown-in-jupyter-notebook).\n",
    "\n",
    "If you don't have access to Google Cloud Storage, change the path to pull from our truncated sample parquets stored in the repo.\n",
    "\n",
    "We use [relative paths](https://towardsthecloud.com/get-relative-path-python) rather than absolute paths. Since we are in the `starter_kit` directory, we just need to go one more level in to the `data` subfolder. To get one level outside of `starter_kit`, use `../` and you'll end up in `data-analyses`. \n",
    "\n",
    "```\n",
    "FOLDER = \"./data/\"\n",
    "FILE_NAME = \"exercise_2_3_ntd_metrics_2019.parquet\"\n",
    "df = pd.read_parquet(f\"{FOLDER}{FILE_NAME}\")\n",
    "\n",
    "```"
   ]
  },
  {
   "cell_type": "code",
   "execution_count": 49,
   "id": "5faca3d2-e22a-45b0-8043-88c3d06ec6ae",
   "metadata": {},
   "outputs": [],
   "source": [
    "FOLDER = \"./data/\"\n",
    "FILE_NAME = \"exercise_2_3_ntd_metrics_2019.parquet\"\n",
    "df = pd.read_parquet(f\"{FOLDER}{FILE_NAME}\")"
   ]
  },
  {
   "cell_type": "code",
   "execution_count": 50,
   "id": "219cdd58-a0d5-4251-b7e5-e9af49873fe7",
   "metadata": {},
   "outputs": [],
   "source": [
    "FOLDER = \"./data/\"\n",
    "FILE_NAME = \"exercise_2_ntd_vehicles_2019.parquet\"\n",
    "df2 = pd.read_parquet(f\"{FOLDER}{FILE_NAME}\")"
   ]
  },
  {
   "cell_type": "code",
   "execution_count": 10,
   "id": "79295ac3-ec07-47db-8b53-5b9a18607183",
   "metadata": {},
   "outputs": [
    {
     "data": {
      "text/html": [
       "<div>\n",
       "<style scoped>\n",
       "    .dataframe tbody tr th:only-of-type {\n",
       "        vertical-align: middle;\n",
       "    }\n",
       "\n",
       "    .dataframe tbody tr th {\n",
       "        vertical-align: top;\n",
       "    }\n",
       "\n",
       "    .dataframe thead th {\n",
       "        text-align: right;\n",
       "    }\n",
       "</style>\n",
       "<table border=\"1\" class=\"dataframe\">\n",
       "  <thead>\n",
       "    <tr style=\"text-align: right;\">\n",
       "      <th></th>\n",
       "      <th>Agency</th>\n",
       "      <th>City</th>\n",
       "      <th>State</th>\n",
       "      <th>Legacy NTD ID</th>\n",
       "      <th>NTD ID</th>\n",
       "      <th>Organization Type</th>\n",
       "      <th>Reporter Type</th>\n",
       "      <th>Primary UZA\\n Population</th>\n",
       "      <th>Agency VOMS</th>\n",
       "      <th>Mode</th>\n",
       "      <th>...</th>\n",
       "      <th>Passenger Miles Questionable</th>\n",
       "      <th>Vehicle Revenue Miles</th>\n",
       "      <th>Vehicle Revenue Miles Questionable</th>\n",
       "      <th>Any data questionable?</th>\n",
       "      <th>Unnamed: 39</th>\n",
       "      <th>Unnamed: 40</th>\n",
       "      <th>Unnamed: 41</th>\n",
       "      <th>1</th>\n",
       "      <th>Unnamed: 43</th>\n",
       "      <th>Unnamed: 44</th>\n",
       "    </tr>\n",
       "  </thead>\n",
       "  <tbody>\n",
       "    <tr>\n",
       "      <th>0</th>\n",
       "      <td>MTA New York City Transit</td>\n",
       "      <td>New York</td>\n",
       "      <td>NY</td>\n",
       "      <td>2008</td>\n",
       "      <td>20008</td>\n",
       "      <td>Subsidiary Unit of a Transit Agency, Reporting...</td>\n",
       "      <td>Full Reporter</td>\n",
       "      <td>18,351,295</td>\n",
       "      <td>10,885</td>\n",
       "      <td>HR</td>\n",
       "      <td>...</td>\n",
       "      <td>None</td>\n",
       "      <td>354,616,371</td>\n",
       "      <td>None</td>\n",
       "      <td>No</td>\n",
       "      <td>NaN</td>\n",
       "      <td>NaN</td>\n",
       "      <td>NaN</td>\n",
       "      <td>Hide questionable data tags</td>\n",
       "      <td>NaN</td>\n",
       "      <td>NaN</td>\n",
       "    </tr>\n",
       "    <tr>\n",
       "      <th>1</th>\n",
       "      <td>MTA New York City Transit</td>\n",
       "      <td>New York</td>\n",
       "      <td>NY</td>\n",
       "      <td>2008</td>\n",
       "      <td>20008</td>\n",
       "      <td>Subsidiary Unit of a Transit Agency, Reporting...</td>\n",
       "      <td>Full Reporter</td>\n",
       "      <td>18,351,295</td>\n",
       "      <td>10,885</td>\n",
       "      <td>CB</td>\n",
       "      <td>...</td>\n",
       "      <td>None</td>\n",
       "      <td>9,866,807</td>\n",
       "      <td>None</td>\n",
       "      <td>No</td>\n",
       "      <td>NaN</td>\n",
       "      <td>NaN</td>\n",
       "      <td>NaN</td>\n",
       "      <td>Show questionable data tags</td>\n",
       "      <td>NaN</td>\n",
       "      <td>NaN</td>\n",
       "    </tr>\n",
       "    <tr>\n",
       "      <th>2</th>\n",
       "      <td>MTA New York City Transit</td>\n",
       "      <td>New York</td>\n",
       "      <td>NY</td>\n",
       "      <td>2008</td>\n",
       "      <td>20008</td>\n",
       "      <td>Subsidiary Unit of a Transit Agency, Reporting...</td>\n",
       "      <td>Full Reporter</td>\n",
       "      <td>18,351,295</td>\n",
       "      <td>10,885</td>\n",
       "      <td>MB</td>\n",
       "      <td>...</td>\n",
       "      <td>None</td>\n",
       "      <td>86,233,591</td>\n",
       "      <td>None</td>\n",
       "      <td>No</td>\n",
       "      <td>NaN</td>\n",
       "      <td>2.0</td>\n",
       "      <td>NaN</td>\n",
       "      <td>1</td>\n",
       "      <td>NaN</td>\n",
       "      <td>2.0</td>\n",
       "    </tr>\n",
       "    <tr>\n",
       "      <th>3</th>\n",
       "      <td>MTA New York City Transit</td>\n",
       "      <td>New York</td>\n",
       "      <td>NY</td>\n",
       "      <td>2008</td>\n",
       "      <td>20008</td>\n",
       "      <td>Subsidiary Unit of a Transit Agency, Reporting...</td>\n",
       "      <td>Full Reporter</td>\n",
       "      <td>18,351,295</td>\n",
       "      <td>10,885</td>\n",
       "      <td>DR</td>\n",
       "      <td>...</td>\n",
       "      <td>None</td>\n",
       "      <td>37,759,280</td>\n",
       "      <td>None</td>\n",
       "      <td>No</td>\n",
       "      <td>NaN</td>\n",
       "      <td>NaN</td>\n",
       "      <td>NaN</td>\n",
       "      <td>None</td>\n",
       "      <td>NaN</td>\n",
       "      <td>NaN</td>\n",
       "    </tr>\n",
       "    <tr>\n",
       "      <th>4</th>\n",
       "      <td>MTA New York City Transit</td>\n",
       "      <td>New York</td>\n",
       "      <td>NY</td>\n",
       "      <td>2008</td>\n",
       "      <td>20008</td>\n",
       "      <td>Subsidiary Unit of a Transit Agency, Reporting...</td>\n",
       "      <td>Full Reporter</td>\n",
       "      <td>18,351,295</td>\n",
       "      <td>10,885</td>\n",
       "      <td>RB</td>\n",
       "      <td>...</td>\n",
       "      <td>None</td>\n",
       "      <td>3,382,426</td>\n",
       "      <td>None</td>\n",
       "      <td>No</td>\n",
       "      <td>NaN</td>\n",
       "      <td>NaN</td>\n",
       "      <td>NaN</td>\n",
       "      <td>None</td>\n",
       "      <td>NaN</td>\n",
       "      <td>NaN</td>\n",
       "    </tr>\n",
       "  </tbody>\n",
       "</table>\n",
       "<p>5 rows × 45 columns</p>\n",
       "</div>"
      ],
      "text/plain": [
       "                      Agency      City State Legacy NTD ID NTD ID  \\\n",
       "0  MTA New York City Transit  New York    NY          2008  20008   \n",
       "1  MTA New York City Transit  New York    NY          2008  20008   \n",
       "2  MTA New York City Transit  New York    NY          2008  20008   \n",
       "3  MTA New York City Transit  New York    NY          2008  20008   \n",
       "4  MTA New York City Transit  New York    NY          2008  20008   \n",
       "\n",
       "                                   Organization Type  Reporter Type  \\\n",
       "0  Subsidiary Unit of a Transit Agency, Reporting...  Full Reporter   \n",
       "1  Subsidiary Unit of a Transit Agency, Reporting...  Full Reporter   \n",
       "2  Subsidiary Unit of a Transit Agency, Reporting...  Full Reporter   \n",
       "3  Subsidiary Unit of a Transit Agency, Reporting...  Full Reporter   \n",
       "4  Subsidiary Unit of a Transit Agency, Reporting...  Full Reporter   \n",
       "\n",
       "  Primary UZA\\n Population Agency VOMS Mode  ... Passenger Miles Questionable  \\\n",
       "0              18,351,295       10,885   HR  ...                         None   \n",
       "1              18,351,295       10,885   CB  ...                         None   \n",
       "2              18,351,295       10,885   MB  ...                         None   \n",
       "3              18,351,295       10,885   DR  ...                         None   \n",
       "4              18,351,295       10,885   RB  ...                         None   \n",
       "\n",
       "  Vehicle Revenue Miles  Vehicle Revenue Miles Questionable  \\\n",
       "0          354,616,371                                 None   \n",
       "1            9,866,807                                 None   \n",
       "2           86,233,591                                 None   \n",
       "3           37,759,280                                 None   \n",
       "4            3,382,426                                 None   \n",
       "\n",
       "  Any data questionable? Unnamed: 39 Unnamed: 40  Unnamed: 41  \\\n",
       "0                     No         NaN         NaN          NaN   \n",
       "1                     No         NaN         NaN          NaN   \n",
       "2                     No         NaN         2.0          NaN   \n",
       "3                     No         NaN         NaN          NaN   \n",
       "4                     No         NaN         NaN          NaN   \n",
       "\n",
       "                             1 Unnamed: 43 Unnamed: 44  \n",
       "0  Hide questionable data tags         NaN         NaN  \n",
       "1  Show questionable data tags         NaN         NaN  \n",
       "2                            1         NaN         2.0  \n",
       "3                         None         NaN         NaN  \n",
       "4                         None         NaN         NaN  \n",
       "\n",
       "[5 rows x 45 columns]"
      ]
     },
     "execution_count": 10,
     "metadata": {},
     "output_type": "execute_result"
    }
   ],
   "source": [
    "df.head()"
   ]
  },
  {
   "cell_type": "code",
   "execution_count": 11,
   "id": "e2f20338-ef9b-4ec4-ac78-b78e2ea0bed6",
   "metadata": {},
   "outputs": [
    {
     "data": {
      "text/html": [
       "<div>\n",
       "<style scoped>\n",
       "    .dataframe tbody tr th:only-of-type {\n",
       "        vertical-align: middle;\n",
       "    }\n",
       "\n",
       "    .dataframe tbody tr th {\n",
       "        vertical-align: top;\n",
       "    }\n",
       "\n",
       "    .dataframe thead th {\n",
       "        text-align: right;\n",
       "    }\n",
       "</style>\n",
       "<table border=\"1\" class=\"dataframe\">\n",
       "  <thead>\n",
       "    <tr style=\"text-align: right;\">\n",
       "      <th></th>\n",
       "      <th>Agency</th>\n",
       "      <th>City</th>\n",
       "      <th>State</th>\n",
       "      <th>Legacy NTD ID</th>\n",
       "      <th>NTD ID</th>\n",
       "      <th>Organization Type</th>\n",
       "      <th>Reporter Type</th>\n",
       "      <th>Primary UZA Population</th>\n",
       "      <th>Agency VOMS</th>\n",
       "      <th>Bus</th>\n",
       "      <th>...</th>\n",
       "      <th>Trucks And Other Rubber Tire Vehicles</th>\n",
       "      <th>Trucks And Other Rubber Tire Vehicles  &gt;= ULB</th>\n",
       "      <th>Steel Wheel Vehicles</th>\n",
       "      <th>Steel Wheel Vehicles  &gt;= ULB</th>\n",
       "      <th>Total Service Vehicles</th>\n",
       "      <th>Total Service Vehicles  &gt;= ULB</th>\n",
       "      <th>Unnamed: 95</th>\n",
       "      <th>Unnamed: 96</th>\n",
       "      <th>Unnamed: 97</th>\n",
       "      <th>1</th>\n",
       "    </tr>\n",
       "  </thead>\n",
       "  <tbody>\n",
       "    <tr>\n",
       "      <th>0</th>\n",
       "      <td>MTA New York City Transit</td>\n",
       "      <td>New York</td>\n",
       "      <td>NY</td>\n",
       "      <td>2008</td>\n",
       "      <td>20008</td>\n",
       "      <td>Subsidiary Unit of a Transit Agency, Reporting...</td>\n",
       "      <td>Full Reporter</td>\n",
       "      <td>18,351,295</td>\n",
       "      <td>10,885</td>\n",
       "      <td>3,104</td>\n",
       "      <td>...</td>\n",
       "      <td>1,489</td>\n",
       "      <td>408</td>\n",
       "      <td>373</td>\n",
       "      <td>262</td>\n",
       "      <td>2,297</td>\n",
       "      <td>818</td>\n",
       "      <td>NaN</td>\n",
       "      <td>NaN</td>\n",
       "      <td>NaN</td>\n",
       "      <td>Hide Vehicles &gt;= ULB</td>\n",
       "    </tr>\n",
       "    <tr>\n",
       "      <th>1</th>\n",
       "      <td>New Jersey Transit Corporation</td>\n",
       "      <td>Newark</td>\n",
       "      <td>NJ</td>\n",
       "      <td>2080</td>\n",
       "      <td>20080</td>\n",
       "      <td>Other Publicly-Owned or Privately Chartered Co...</td>\n",
       "      <td>Full Reporter</td>\n",
       "      <td>18,351,295</td>\n",
       "      <td>3,645</td>\n",
       "      <td>1,234</td>\n",
       "      <td>...</td>\n",
       "      <td>787</td>\n",
       "      <td>374</td>\n",
       "      <td>89</td>\n",
       "      <td>21</td>\n",
       "      <td>975</td>\n",
       "      <td>477</td>\n",
       "      <td>NaN</td>\n",
       "      <td>NaN</td>\n",
       "      <td>NaN</td>\n",
       "      <td>Show Vehicles &gt;= ULB</td>\n",
       "    </tr>\n",
       "    <tr>\n",
       "      <th>2</th>\n",
       "      <td>Los Angeles County Metropolitan Transportation...</td>\n",
       "      <td>Los Angeles</td>\n",
       "      <td>CA</td>\n",
       "      <td>9154</td>\n",
       "      <td>90154</td>\n",
       "      <td>Independent Public Agency or Authority of Tran...</td>\n",
       "      <td>Full Reporter</td>\n",
       "      <td>12,150,996</td>\n",
       "      <td>3,469</td>\n",
       "      <td>1,962</td>\n",
       "      <td>...</td>\n",
       "      <td>934</td>\n",
       "      <td>384</td>\n",
       "      <td>9</td>\n",
       "      <td>4</td>\n",
       "      <td>1,420</td>\n",
       "      <td>518</td>\n",
       "      <td>NaN</td>\n",
       "      <td>NaN</td>\n",
       "      <td>NaN</td>\n",
       "      <td>1</td>\n",
       "    </tr>\n",
       "    <tr>\n",
       "      <th>3</th>\n",
       "      <td>Washington Metropolitan Area Transit Authority</td>\n",
       "      <td>Washington</td>\n",
       "      <td>DC</td>\n",
       "      <td>3030</td>\n",
       "      <td>30030</td>\n",
       "      <td>Independent Public Agency or Authority of Tran...</td>\n",
       "      <td>Full Reporter</td>\n",
       "      <td>4,586,770</td>\n",
       "      <td>3,391</td>\n",
       "      <td>1,607</td>\n",
       "      <td>...</td>\n",
       "      <td>1,522</td>\n",
       "      <td>472</td>\n",
       "      <td>199</td>\n",
       "      <td>24</td>\n",
       "      <td>1,938</td>\n",
       "      <td>571</td>\n",
       "      <td>NaN</td>\n",
       "      <td>NaN</td>\n",
       "      <td>NaN</td>\n",
       "      <td>None</td>\n",
       "    </tr>\n",
       "    <tr>\n",
       "      <th>4</th>\n",
       "      <td>King County Department of Metro Transit, dba: ...</td>\n",
       "      <td>Seattle</td>\n",
       "      <td>WA</td>\n",
       "      <td>0001</td>\n",
       "      <td>00001</td>\n",
       "      <td>City, County or Local Government Unit or Depar...</td>\n",
       "      <td>Full Reporter</td>\n",
       "      <td>3,059,393</td>\n",
       "      <td>3,233</td>\n",
       "      <td>551</td>\n",
       "      <td>...</td>\n",
       "      <td>396</td>\n",
       "      <td>106</td>\n",
       "      <td>0</td>\n",
       "      <td>0</td>\n",
       "      <td>522</td>\n",
       "      <td>142</td>\n",
       "      <td>NaN</td>\n",
       "      <td>NaN</td>\n",
       "      <td>NaN</td>\n",
       "      <td>None</td>\n",
       "    </tr>\n",
       "  </tbody>\n",
       "</table>\n",
       "<p>5 rows × 99 columns</p>\n",
       "</div>"
      ],
      "text/plain": [
       "                                              Agency         City State  \\\n",
       "0                          MTA New York City Transit     New York    NY   \n",
       "1                     New Jersey Transit Corporation       Newark    NJ   \n",
       "2  Los Angeles County Metropolitan Transportation...  Los Angeles    CA   \n",
       "3     Washington Metropolitan Area Transit Authority   Washington    DC   \n",
       "4  King County Department of Metro Transit, dba: ...      Seattle    WA   \n",
       "\n",
       "  Legacy NTD ID NTD ID                                  Organization Type  \\\n",
       "0          2008  20008  Subsidiary Unit of a Transit Agency, Reporting...   \n",
       "1          2080  20080  Other Publicly-Owned or Privately Chartered Co...   \n",
       "2          9154  90154  Independent Public Agency or Authority of Tran...   \n",
       "3          3030  30030  Independent Public Agency or Authority of Tran...   \n",
       "4          0001  00001  City, County or Local Government Unit or Depar...   \n",
       "\n",
       "   Reporter Type Primary UZA Population Agency VOMS    Bus  ...  \\\n",
       "0  Full Reporter             18,351,295      10,885  3,104  ...   \n",
       "1  Full Reporter             18,351,295       3,645  1,234  ...   \n",
       "2  Full Reporter             12,150,996       3,469  1,962  ...   \n",
       "3  Full Reporter              4,586,770       3,391  1,607  ...   \n",
       "4  Full Reporter              3,059,393       3,233    551  ...   \n",
       "\n",
       "  Trucks And Other Rubber Tire Vehicles  \\\n",
       "0                                 1,489   \n",
       "1                                   787   \n",
       "2                                   934   \n",
       "3                                 1,522   \n",
       "4                                   396   \n",
       "\n",
       "   Trucks And Other Rubber Tire Vehicles  >= ULB Steel Wheel Vehicles  \\\n",
       "0                                            408                  373   \n",
       "1                                            374                   89   \n",
       "2                                            384                    9   \n",
       "3                                            472                  199   \n",
       "4                                            106                    0   \n",
       "\n",
       "  Steel Wheel Vehicles  >= ULB  Total Service Vehicles  \\\n",
       "0                          262                   2,297   \n",
       "1                           21                     975   \n",
       "2                            4                   1,420   \n",
       "3                           24                   1,938   \n",
       "4                            0                     522   \n",
       "\n",
       "  Total Service Vehicles  >= ULB Unnamed: 95  Unnamed: 96  Unnamed: 97  \\\n",
       "0                            818         NaN          NaN          NaN   \n",
       "1                            477         NaN          NaN          NaN   \n",
       "2                            518         NaN          NaN          NaN   \n",
       "3                            571         NaN          NaN          NaN   \n",
       "4                            142         NaN          NaN          NaN   \n",
       "\n",
       "                       1  \n",
       "0  Hide Vehicles >= ULB   \n",
       "1   Show Vehicles >= ULB  \n",
       "2                      1  \n",
       "3                   None  \n",
       "4                   None  \n",
       "\n",
       "[5 rows x 99 columns]"
      ]
     },
     "execution_count": 11,
     "metadata": {},
     "output_type": "execute_result"
    }
   ],
   "source": [
    "df2.head()"
   ]
  },
  {
   "cell_type": "code",
   "execution_count": null,
   "id": "287cd877-e8a9-4db8-846d-3ba384e7979a",
   "metadata": {},
   "outputs": [],
   "source": [
    "GCS_FILE_PATH = \"gs://calitp-analytics-data/data-analyses/bus_service_increase/\"\n",
    "FILE_NAME = \"ntd_metrics_2019.csv\"\n",
    "\n",
    "df = pd.read_csv(f\"{GCS_FILE_PATH}{FILE_NAME}\")\n",
    "df.head(2)"
   ]
  },
  {
   "cell_type": "code",
   "execution_count": null,
   "id": "2fa36e5f-7ccd-4af0-9edb-f6e0ae96d542",
   "metadata": {},
   "outputs": [],
   "source": [
    "FILE_NAME = \"ntd_vehicles_2019.csv\"\n",
    "df2 = pd.read_csv(f\"{GCS_FILE_PATH}{FILE_NAME}\")\n",
    "\n",
    "df2.head(2)"
   ]
  },
  {
   "cell_type": "code",
   "execution_count": 5,
   "id": "5cfc1e31-12d8-490e-9473-1dffe0710047",
   "metadata": {},
   "outputs": [
    {
     "data": {
      "text/plain": [
       "3685"
      ]
     },
     "execution_count": 5,
     "metadata": {},
     "output_type": "execute_result"
    }
   ],
   "source": [
    "len(df)"
   ]
  },
  {
   "cell_type": "code",
   "execution_count": 6,
   "id": "3994dc75-80b3-4094-ad3f-d37c415587d4",
   "metadata": {},
   "outputs": [
    {
     "data": {
      "text/plain": [
       "2183"
      ]
     },
     "execution_count": 6,
     "metadata": {},
     "output_type": "execute_result"
    }
   ],
   "source": [
    "df[\"NTD ID\"].nunique()"
   ]
  },
  {
   "cell_type": "code",
   "execution_count": 7,
   "id": "e5b19028-cf65-4cd8-9bbb-e74076365374",
   "metadata": {},
   "outputs": [
    {
     "data": {
      "text/plain": [
       "2775"
      ]
     },
     "execution_count": 7,
     "metadata": {},
     "output_type": "execute_result"
    }
   ],
   "source": [
    "len(df2)\n",
    "df2[\"NTD ID\"].nunique()"
   ]
  },
  {
   "cell_type": "markdown",
   "id": "3aac90ed-cbf2-4ba8-bd2a-a603cb1c2b26",
   "metadata": {},
   "source": [
    "### To do:\n",
    "\n",
    "* Start with the `ntd_metrics_2019.csv` dataset.\n",
    "* Merge in the `ntd_vehicles_2019.csv` dataset from the same location within the GCS bucket, but only keep a couple of columns.\n",
    "* Print out what states there are using `value_counts`\n",
    "* Subset and only keep the following states: NY, CA, TX, ID, MS\n",
    "* Calculate some aggregate statistics grouping by states (the point of the exercise is to aggregate, less so on whether the stats make sense):\n",
    "    * Include: sum, mean, count (of operators), nunique (of city)\n",
    "    * Challenge: give a per capita measure, such as total service vehicles per 100,000 residents\n",
    "* Plot the per capita measure across the 5 states (some states are very populous and some are not...per capita hopefully normalizes pop differences)"
   ]
  },
  {
   "cell_type": "code",
   "execution_count": 12,
   "id": "3d8ee58a-a478-4ca0-931d-513729dff275",
   "metadata": {},
   "outputs": [
    {
     "data": {
      "text/plain": [
       "['Agency',\n",
       " 'City',\n",
       " 'State',\n",
       " 'Legacy NTD ID',\n",
       " 'NTD ID',\n",
       " 'Organization Type',\n",
       " 'Reporter Type',\n",
       " 'Primary UZA\\n Population',\n",
       " 'Agency VOMS',\n",
       " 'Mode',\n",
       " 'TOS',\n",
       " 'Mode VOMS',\n",
       " 'Ratios:',\n",
       " 'Fare Revenues per Unlinked Passenger Trip ',\n",
       " 'Fare Revenues per Unlinked Passenger Trip Questionable',\n",
       " 'Fare Revenues per Total Operating Expense (Recovery Ratio)',\n",
       " 'Fare Revenues per Total Operating Expense (Recovery Ratio) Questionable',\n",
       " 'Cost per\\n Hour',\n",
       " 'Cost per Hour Questionable',\n",
       " 'Passengers per Hour',\n",
       " 'Passengers per Hour Questionable',\n",
       " 'Cost per Passenger',\n",
       " 'Cost per Passenger Questionable',\n",
       " 'Cost per Passenger Mile',\n",
       " 'Cost per Passenger Mile Questionable',\n",
       " 'Source Data:',\n",
       " 'Fare Revenues Earned',\n",
       " 'Fare Revenues Earned Questionable',\n",
       " 'Total Operating Expenses',\n",
       " 'Total Operating Expenses Questionable',\n",
       " 'Unlinked Passenger Trips',\n",
       " 'Unlinked Passenger Trips Questionable',\n",
       " 'Vehicle Revenue Hours',\n",
       " 'Vehicle Revenue Hours Questionable',\n",
       " 'Passenger Miles',\n",
       " 'Passenger Miles Questionable',\n",
       " 'Vehicle Revenue Miles',\n",
       " 'Vehicle Revenue Miles Questionable',\n",
       " 'Any data questionable?',\n",
       " 'Unnamed: 39',\n",
       " 'Unnamed: 40',\n",
       " 'Unnamed: 41',\n",
       " '1',\n",
       " 'Unnamed: 43',\n",
       " 'Unnamed: 44']"
      ]
     },
     "execution_count": 12,
     "metadata": {},
     "output_type": "execute_result"
    }
   ],
   "source": [
    "list(df.columns)"
   ]
  },
  {
   "cell_type": "code",
   "execution_count": 8,
   "id": "1efbccff-2591-4658-b005-ea76d38cc4ce",
   "metadata": {},
   "outputs": [
    {
     "data": {
      "text/plain": [
       "Index(['Agency', 'City', 'State', 'Legacy NTD ID', 'NTD ID',\n",
       "       'Organization Type', 'Reporter Type', 'Primary UZA\\n Population',\n",
       "       'Agency VOMS', 'Mode', 'TOS', 'Mode VOMS', 'Ratios:',\n",
       "       'Fare Revenues per Unlinked Passenger Trip ',\n",
       "       'Fare Revenues per Unlinked Passenger Trip Questionable',\n",
       "       'Fare Revenues per Total Operating Expense (Recovery Ratio)',\n",
       "       'Fare Revenues per Total Operating Expense (Recovery Ratio) Questionable',\n",
       "       'Cost per\\n Hour', 'Cost per Hour Questionable', 'Passengers per Hour',\n",
       "       'Passengers per Hour Questionable', 'Cost per Passenger',\n",
       "       'Cost per Passenger Questionable', 'Cost per Passenger Mile',\n",
       "       'Cost per Passenger Mile Questionable', 'Source Data:',\n",
       "       'Fare Revenues Earned', 'Fare Revenues Earned Questionable',\n",
       "       'Total Operating Expenses', 'Total Operating Expenses Questionable',\n",
       "       'Unlinked Passenger Trips', 'Unlinked Passenger Trips Questionable',\n",
       "       'Vehicle Revenue Hours', 'Vehicle Revenue Hours Questionable',\n",
       "       'Passenger Miles', 'Passenger Miles Questionable',\n",
       "       'Vehicle Revenue Miles', 'Vehicle Revenue Miles Questionable',\n",
       "       'Any data questionable?', 'Unnamed: 39', 'Unnamed: 40', 'Unnamed: 41',\n",
       "       '1', 'Unnamed: 43', 'Unnamed: 44'],\n",
       "      dtype='object')"
      ]
     },
     "execution_count": 8,
     "metadata": {},
     "output_type": "execute_result"
    }
   ],
   "source": [
    "df.columns"
   ]
  },
  {
   "cell_type": "code",
   "execution_count": 13,
   "id": "6f668dfe-406d-4786-96bd-ea5df4810119",
   "metadata": {},
   "outputs": [
    {
     "data": {
      "text/plain": [
       "Massachusetts Bay Transportation Authority                           9\n",
       "New Jersey Transit Corporation                                       8\n",
       "King County Department of Metro Transit, dba: King County Metro      8\n",
       "Metropolitan Transit Authority of Harris County, Texas               8\n",
       "Maryland Transit Administration                                      8\n",
       "                                                                    ..\n",
       "City of Shafter                                                      1\n",
       "Class LTD                                                            1\n",
       "City of Onalaska, dba: Onalaska Shared Ride Taxi City of Onalaska    1\n",
       "City of Monrovia                                                     1\n",
       "City of Needles, dba: Needles Area Transit                           1\n",
       "Name: Agency, Length: 2169, dtype: int64"
      ]
     },
     "execution_count": 13,
     "metadata": {},
     "output_type": "execute_result"
    }
   ],
   "source": [
    "df.Agency.value_counts()"
   ]
  },
  {
   "cell_type": "markdown",
   "id": "62261f84-c908-4285-9a8c-a0e95f425629",
   "metadata": {},
   "source": [
    "### Helpful Hints and Best Practices\n",
    "\n",
    "* Start with comprehensive approach in writing down all the lines of code to clean data. \n",
    "* Once the data cleaning process is done, work on refining the code and tidying it to see what steps can be chained together, what steps are done repeatedly (use a function!), etc.\n",
    "\n",
    "#### Chaining\n",
    "Similar to **piping** in R, where you can pipe multiple operations in 1 line of code with `>>`, you can do a similar method of chaining in Python. There is also a `df.pipe` function, but that's slightly different.\n",
    "\n",
    "Make use of parentheses to do this. Also, use `df.assign` (see below) so you don't run into the `SettingWithCopyWarning`, which may pop up if you decide to subset your data. \n",
    "\n",
    "#### Assign \n",
    "You can create new columns in place, and the warning that comes up is mostly harmless. But, `assign` also lets you chain more operations after. [More clarification.](https://pythonguides.com/add-a-column-to-a-dataframe-in-python-pandas/)\n",
    "```\n",
    "states_clean = (states_clean\n",
    "    # Assign is similar to R dplyr's mutate\n",
    "    .assign(\n",
    "        # Strip leading or trailing blanks (slightly different than replace)\n",
    "        # Decide if you want to replace all blanks or just leading/trailing\n",
    "        Agency = (states_clean.Agency.str.strip()\n",
    "                .str.replace('(', '').str.replace(')', '')\n",
    "        ),\n",
    "        # Do something similar for City as above\n",
    "        City = states_clean.City.str.strip(),\n",
    "        # Replace blanks with nothing\n",
    "        State = states_clean.State.str.replace(' ', '')\n",
    "    ).astype({\n",
    "        \"Population\": int, \n",
    "        \"Fare_Revenues\": int,\n",
    "    })\n",
    ")\n",
    "```\n",
    "\n",
    "Alternatively, try it with a loop:\n",
    "\n",
    "```\n",
    "for c in [\"Agency\", \"City\"]:\n",
    "    df[c] = (df[c].str.strip()\n",
    "            .str.replace('(', '')\n",
    "            .str.replace(')', '')\n",
    "            .astype(int)\n",
    "            )\n",
    "```\n",
    "\n",
    "#### Using `str.contains` with some special characters\n",
    "Use backslash `\\` to \"escape\". [StackOverflow explanation](https://stackoverflow.com/questions/48699907/error-unbalanced-parenthesis-while-checking-if-an-item-presents-in-a-pandas-d)\n",
    "`states_clean[states_clean.Fare_Revenues.str.contains(\"\\(\")]`\n",
    "\n",
    "\n",
    "#### Merging\n",
    "If your merge results produces a `col_x` and `col_y`, add more columns to your list of merge columns, with `on = [\"col1\", \"col2\"]`.\n",
    "\n",
    "#### Use `isin` to filter by multiple conditions\n",
    "\n",
    "```\n",
    "keep_me = [\"CA\", \"NY\", \"TX\"]\n",
    "df2 = df[df.State.isin(keep_me)]\n",
    "```"
   ]
  },
  {
   "cell_type": "code",
   "execution_count": 51,
   "id": "2db26245-2188-41cd-bc31-4444f11162e2",
   "metadata": {},
   "outputs": [],
   "source": [
    "merge1 = pd.merge(df, df2, on = ['Agency','City', 'State', 'Legacy NTD ID', 'NTD ID'],\n",
    "    how = 'inner', validate = 'm:1')\n",
    "# think about which df has the duplicates (left or right), and\n",
    "# m:1, 1:m, 1:1, m:m\n",
    "# the one with duplicates should have the m, the other should have the 1"
   ]
  },
  {
   "cell_type": "code",
   "execution_count": 52,
   "id": "e1ef6177-5adb-4a99-a40a-77265fd5dd26",
   "metadata": {},
   "outputs": [],
   "source": [
    "keep_col=['Agency', 'City', 'State', 'Legacy NTD ID', 'NTD ID', 'Primary UZA\\n Population', 'Mode', 'TOS','Total Service Vehicles','Cost per\\n Hour','Passenger Miles','Total Operating Expenses']"
   ]
  },
  {
   "cell_type": "code",
   "execution_count": 53,
   "id": "13ec5920-1faa-4135-9914-ec8b6d95fdfd",
   "metadata": {},
   "outputs": [],
   "source": [
    "merge2=merge1[keep_col]"
   ]
  },
  {
   "cell_type": "code",
   "execution_count": 54,
   "id": "e6a37652-c016-449f-b58d-7196d0d29098",
   "metadata": {},
   "outputs": [
    {
     "data": {
      "text/plain": [
       "CA    436\n",
       "TX    167\n",
       "NC    160\n",
       "WA    148\n",
       "FL    144\n",
       "MI    130\n",
       "NY    128\n",
       "GA    120\n",
       "WI    114\n",
       "OH    106\n",
       "OR    106\n",
       "KS    104\n",
       "PA     96\n",
       "IL     94\n",
       "IN     90\n",
       "CO     87\n",
       "MN     87\n",
       "VA     73\n",
       "PR     70\n",
       "NE     68\n",
       "LA     60\n",
       "IA     58\n",
       "MT     57\n",
       "MA     55\n",
       "AZ     55\n",
       "OK     51\n",
       "KY     51\n",
       "MD     50\n",
       "AL     49\n",
       "TN     47\n",
       "NJ     46\n",
       "MO     45\n",
       "NM     42\n",
       "SC     39\n",
       "CT     38\n",
       "WV     35\n",
       "AK     34\n",
       "ND     34\n",
       "NV     34\n",
       "ME     32\n",
       "WY     32\n",
       "MS     29\n",
       "ID     28\n",
       "SD     26\n",
       "AR     26\n",
       "VT     25\n",
       "NH     20\n",
       "UT     19\n",
       "HI     12\n",
       "DC      8\n",
       "RI      5\n",
       "DE      4\n",
       "VI      2\n",
       "GU      2\n",
       "AS      2\n",
       "Name: State, dtype: int64"
      ]
     },
     "execution_count": 54,
     "metadata": {},
     "output_type": "execute_result"
    }
   ],
   "source": [
    "df.State.value_counts()"
   ]
  },
  {
   "cell_type": "code",
   "execution_count": 55,
   "id": "54b3ef01-8648-40d3-892f-f137acca3188",
   "metadata": {},
   "outputs": [],
   "source": [
    "keep_me = ['NY', 'CA', 'TX', 'ID', 'MS']"
   ]
  },
  {
   "cell_type": "code",
   "execution_count": 56,
   "id": "2be0dffa-1ff0-434c-a011-b7c0f3f20c4d",
   "metadata": {},
   "outputs": [],
   "source": [
    "merge3 = merge2[merge2.State.isin(keep_me)]"
   ]
  },
  {
   "cell_type": "code",
   "execution_count": 57,
   "id": "d1bc7e61-7e07-4027-84a7-c0f7338e4fef",
   "metadata": {},
   "outputs": [
    {
     "data": {
      "text/plain": [
       "Agency                      object\n",
       "City                        object\n",
       "State                       object\n",
       "Legacy NTD ID               object\n",
       "NTD ID                      object\n",
       "Primary UZA\\n Population    object\n",
       "Mode                        object\n",
       "TOS                         object\n",
       "Total Service Vehicles      object\n",
       "Cost per\\n Hour             object\n",
       "Passenger Miles             object\n",
       "Total Operating Expenses    object\n",
       "dtype: object"
      ]
     },
     "execution_count": 57,
     "metadata": {},
     "output_type": "execute_result"
    }
   ],
   "source": [
    "merge3.dtypes"
   ]
  },
  {
   "cell_type": "code",
   "execution_count": 58,
   "id": "1e27e8f9-82ee-4774-831e-5e42e82b6453",
   "metadata": {},
   "outputs": [
    {
     "data": {
      "text/plain": [
       "0              222\n",
       "12,150,996     134\n",
       "18,351,295      35\n",
       "3,281,212       32\n",
       "5,121,892       25\n",
       "              ... \n",
       "67,983           2\n",
       "583,681          1\n",
       "99,437           1\n",
       "61,900           1\n",
       "65,088           1\n",
       "Name: Primary UZA\\n Population, Length: 99, dtype: int64"
      ]
     },
     "execution_count": 58,
     "metadata": {},
     "output_type": "execute_result"
    }
   ],
   "source": [
    "merge3['Primary UZA\\n Population'].value_counts()"
   ]
  },
  {
   "cell_type": "code",
   "execution_count": 22,
   "id": "dc754a44-dba2-496a-8444-16c7adef783a",
   "metadata": {},
   "outputs": [
    {
     "data": {
      "text/plain": [
       "0      311\n",
       "1       70\n",
       "2       42\n",
       "3       30\n",
       "4       29\n",
       "      ... \n",
       "183      1\n",
       "825      1\n",
       "156      1\n",
       "54       1\n",
       "25       1\n",
       "Name: Total Service Vehicles, Length: 63, dtype: int64"
      ]
     },
     "execution_count": 22,
     "metadata": {},
     "output_type": "execute_result"
    }
   ],
   "source": [
    "merge3['Total Service Vehicles'].value_counts()"
   ]
  },
  {
   "cell_type": "code",
   "execution_count": 46,
   "id": "22524d48-7f1a-40a3-8242-e97d7f894621",
   "metadata": {},
   "outputs": [
    {
     "ename": "AttributeError",
     "evalue": "'tuple' object has no attribute 'assign'",
     "output_type": "error",
     "traceback": [
      "\u001b[0;31m---------------------------------------------------------------------------\u001b[0m",
      "\u001b[0;31mAttributeError\u001b[0m                            Traceback (most recent call last)",
      "Cell \u001b[0;32mIn[46], line 1\u001b[0m\n\u001b[0;32m----> 1\u001b[0m merge3 \u001b[38;5;241m=\u001b[39m (\u001b[43mmerge3\u001b[49m\n\u001b[1;32m      2\u001b[0m \u001b[43m    \u001b[49m\u001b[38;5;66;43;03m# Assign is similar to R dplyr's mutate\u001b[39;49;00m\n\u001b[1;32m      3\u001b[0m \u001b[43m    \u001b[49m\u001b[38;5;241;43m.\u001b[39;49m\u001b[43massign\u001b[49m(\n\u001b[1;32m      4\u001b[0m         \u001b[38;5;66;03m# Strip leading or trailing blanks (slightly different than replace)\u001b[39;00m\n\u001b[1;32m      5\u001b[0m         \u001b[38;5;66;03m# Decide if you want to replace all blanks or just leading/trailing\u001b[39;00m\n\u001b[1;32m      6\u001b[0m         population \u001b[38;5;241m=\u001b[39m (merge3[\u001b[38;5;124m'\u001b[39m\u001b[38;5;124mPrimary UZA\u001b[39m\u001b[38;5;130;01m\\n\u001b[39;00m\u001b[38;5;124m Population\u001b[39m\u001b[38;5;124m'\u001b[39m]\u001b[38;5;241m.\u001b[39mstr\u001b[38;5;241m.\u001b[39mstrip()\n\u001b[1;32m      7\u001b[0m                 \u001b[38;5;241m.\u001b[39mstr\u001b[38;5;241m.\u001b[39mreplace(\u001b[38;5;124m'\u001b[39m\u001b[38;5;124m(\u001b[39m\u001b[38;5;124m'\u001b[39m, \u001b[38;5;124m'\u001b[39m\u001b[38;5;124m'\u001b[39m)\u001b[38;5;241m.\u001b[39mstr\u001b[38;5;241m.\u001b[39mreplace(\u001b[38;5;124m'\u001b[39m\u001b[38;5;124m)\u001b[39m\u001b[38;5;124m'\u001b[39m, \u001b[38;5;124m'\u001b[39m\u001b[38;5;124m'\u001b[39m)\n\u001b[1;32m      8\u001b[0m         ),\n\u001b[1;32m      9\u001b[0m         \u001b[38;5;66;03m# Do something similar for City as above\u001b[39;00m\n\u001b[1;32m     10\u001b[0m        vehicles \u001b[38;5;241m=\u001b[39m (merge3[\u001b[38;5;124m'\u001b[39m\u001b[38;5;124mTotal Service Vehicles\u001b[39m\u001b[38;5;124m'\u001b[39m]\u001b[38;5;241m.\u001b[39mstr\u001b[38;5;241m.\u001b[39mstrip()\n\u001b[1;32m     11\u001b[0m                 \u001b[38;5;241m.\u001b[39mstr\u001b[38;5;241m.\u001b[39mreplace(\u001b[38;5;124m'\u001b[39m\u001b[38;5;124m(\u001b[39m\u001b[38;5;124m'\u001b[39m, \u001b[38;5;124m'\u001b[39m\u001b[38;5;124m'\u001b[39m)\u001b[38;5;241m.\u001b[39mstr\u001b[38;5;241m.\u001b[39mreplace(\u001b[38;5;124m'\u001b[39m\u001b[38;5;124m)\u001b[39m\u001b[38;5;124m'\u001b[39m, \u001b[38;5;124m'\u001b[39m\u001b[38;5;124m'\u001b[39m)\n\u001b[1;32m     12\u001b[0m         ),\n\u001b[1;32m     13\u001b[0m         \u001b[38;5;66;03m# Replace blanks with nothing\u001b[39;00m\n\u001b[1;32m     14\u001b[0m         State \u001b[38;5;241m=\u001b[39m merge3\u001b[38;5;241m.\u001b[39mState\u001b[38;5;241m.\u001b[39mstr\u001b[38;5;241m.\u001b[39mreplace(\u001b[38;5;124m'\u001b[39m\u001b[38;5;124m \u001b[39m\u001b[38;5;124m'\u001b[39m, \u001b[38;5;124m'\u001b[39m\u001b[38;5;124m'\u001b[39m)\n\u001b[1;32m     15\u001b[0m     )\n\u001b[1;32m     16\u001b[0m )\n",
      "\u001b[0;31mAttributeError\u001b[0m: 'tuple' object has no attribute 'assign'"
     ]
    }
   ],
   "source": [
    "#ignore. practice only\n",
    "merge3 = (merge3\n",
    "    # Assign is similar to R dplyr's mutate\n",
    "    .assign(\n",
    "        # Strip leading or trailing blanks (slightly different than replace)\n",
    "        # Decide if you want to replace all blanks or just leading/trailing\n",
    "        population = (merge3['Primary UZA\\n Population'].str.strip()\n",
    "                .str.replace('(', '').str.replace(')', '')\n",
    "        ),\n",
    "        # Do something similar for City as above\n",
    "       vehicles = (merge3['Total Service Vehicles'].str.strip()\n",
    "                .str.replace('(', '').str.replace(')', '')\n",
    "        ),\n",
    "        # Replace blanks with nothing\n",
    "        State = merge3.State.str.replace(' ', '')\n",
    "    )\n",
    ")"
   ]
  },
  {
   "cell_type": "code",
   "execution_count": 63,
   "id": "b04aee1a-04d3-444c-96a8-016b8d7c8b1f",
   "metadata": {},
   "outputs": [],
   "source": [
    "merge3 = (merge3\n",
    "    .assign(\n",
    "        population = (merge3['Primary UZA\\n Population'].str.strip()\n",
    "                .str.replace(',', ''))\n",
    "        ).astype({\n",
    "        \"population\": int\n",
    "        })\n",
    "    )\n",
    "\n",
    "#remove comma in between numbers. Change data type to int"
   ]
  },
  {
   "cell_type": "code",
   "execution_count": 64,
   "id": "9d59b819-6415-447c-aa73-deb5322a01bb",
   "metadata": {},
   "outputs": [
    {
     "data": {
      "text/plain": [
       "0           222\n",
       "12150996    134\n",
       "18351295     35\n",
       "3281212      32\n",
       "5121892      25\n",
       "           ... \n",
       "67983         2\n",
       "583681        1\n",
       "99437         1\n",
       "61900         1\n",
       "65088         1\n",
       "Name: population, Length: 99, dtype: int64"
      ]
     },
     "execution_count": 64,
     "metadata": {},
     "output_type": "execute_result"
    }
   ],
   "source": [
    "merge3.population.value_counts()"
   ]
  },
  {
   "cell_type": "code",
   "execution_count": 12,
   "id": "759392a0-fa72-4b9d-80ea-c4aac99823f2",
   "metadata": {},
   "outputs": [],
   "source": [
    "agg1=merge3.groupby(['State']).agg({'City':'count', 'Mode':'nunique'}).reset_index()"
   ]
  },
  {
   "cell_type": "code",
   "execution_count": 13,
   "id": "f601a1d2-d5c0-4d27-88c9-9081bb936b4d",
   "metadata": {},
   "outputs": [
    {
     "data": {
      "text/html": [
       "<div>\n",
       "<style scoped>\n",
       "    .dataframe tbody tr th:only-of-type {\n",
       "        vertical-align: middle;\n",
       "    }\n",
       "\n",
       "    .dataframe tbody tr th {\n",
       "        vertical-align: top;\n",
       "    }\n",
       "\n",
       "    .dataframe thead th {\n",
       "        text-align: right;\n",
       "    }\n",
       "</style>\n",
       "<table border=\"1\" class=\"dataframe\">\n",
       "  <thead>\n",
       "    <tr style=\"text-align: right;\">\n",
       "      <th></th>\n",
       "      <th>State</th>\n",
       "      <th>City</th>\n",
       "      <th>Mode</th>\n",
       "    </tr>\n",
       "  </thead>\n",
       "  <tbody>\n",
       "    <tr>\n",
       "      <th>0</th>\n",
       "      <td>CA</td>\n",
       "      <td>436</td>\n",
       "      <td>15</td>\n",
       "    </tr>\n",
       "    <tr>\n",
       "      <th>1</th>\n",
       "      <td>ID</td>\n",
       "      <td>28</td>\n",
       "      <td>3</td>\n",
       "    </tr>\n",
       "    <tr>\n",
       "      <th>2</th>\n",
       "      <td>MS</td>\n",
       "      <td>29</td>\n",
       "      <td>3</td>\n",
       "    </tr>\n",
       "    <tr>\n",
       "      <th>3</th>\n",
       "      <td>NY</td>\n",
       "      <td>128</td>\n",
       "      <td>10</td>\n",
       "    </tr>\n",
       "    <tr>\n",
       "      <th>4</th>\n",
       "      <td>TX</td>\n",
       "      <td>167</td>\n",
       "      <td>9</td>\n",
       "    </tr>\n",
       "  </tbody>\n",
       "</table>\n",
       "</div>"
      ],
      "text/plain": [
       "  State  City  Mode\n",
       "0    CA   436    15\n",
       "1    ID    28     3\n",
       "2    MS    29     3\n",
       "3    NY   128    10\n",
       "4    TX   167     9"
      ]
     },
     "execution_count": 13,
     "metadata": {},
     "output_type": "execute_result"
    }
   ],
   "source": [
    "agg1"
   ]
  },
  {
   "cell_type": "code",
   "execution_count": 15,
   "id": "e68fe226-a20d-4eec-b4d9-29d3e1be662a",
   "metadata": {},
   "outputs": [],
   "source": [
    "agg2=merge3.groupby(['State']).agg({'Total Operating Expenses':'sum'}).reset_index()"
   ]
  },
  {
   "cell_type": "code",
   "execution_count": 16,
   "id": "ecb53aa1-cc20-4e0d-8bf5-ebc29cb27825",
   "metadata": {},
   "outputs": [
    {
     "data": {
      "text/html": [
       "<div>\n",
       "<style scoped>\n",
       "    .dataframe tbody tr th:only-of-type {\n",
       "        vertical-align: middle;\n",
       "    }\n",
       "\n",
       "    .dataframe tbody tr th {\n",
       "        vertical-align: top;\n",
       "    }\n",
       "\n",
       "    .dataframe thead th {\n",
       "        text-align: right;\n",
       "    }\n",
       "</style>\n",
       "<table border=\"1\" class=\"dataframe\">\n",
       "  <thead>\n",
       "    <tr style=\"text-align: right;\">\n",
       "      <th></th>\n",
       "      <th>State</th>\n",
       "      <th>Total Operating Expenses</th>\n",
       "    </tr>\n",
       "  </thead>\n",
       "  <tbody>\n",
       "    <tr>\n",
       "      <th>0</th>\n",
       "      <td>CA</td>\n",
       "      <td>$168,453,369 $25,666,876 $446,368,668 $1,209,7...</td>\n",
       "    </tr>\n",
       "    <tr>\n",
       "      <th>1</th>\n",
       "      <td>ID</td>\n",
       "      <td>$976,859 $10,915,400 $4,314,550 $1,581,946 $89...</td>\n",
       "    </tr>\n",
       "    <tr>\n",
       "      <th>2</th>\n",
       "      <td>MS</td>\n",
       "      <td>$458,218 $4,619,813 $1,465,804 $1,699,690 $2,0...</td>\n",
       "    </tr>\n",
       "    <tr>\n",
       "      <th>3</th>\n",
       "      <td>NY</td>\n",
       "      <td>$5,206,727,193 $242,520,835 $2,685,918,268 $51...</td>\n",
       "    </tr>\n",
       "    <tr>\n",
       "      <th>4</th>\n",
       "      <td>TX</td>\n",
       "      <td>$53,373,690 $11,785,438 $305,824,660 $5,891,47...</td>\n",
       "    </tr>\n",
       "  </tbody>\n",
       "</table>\n",
       "</div>"
      ],
      "text/plain": [
       "  State                           Total Operating Expenses\n",
       "0    CA  $168,453,369 $25,666,876 $446,368,668 $1,209,7...\n",
       "1    ID  $976,859 $10,915,400 $4,314,550 $1,581,946 $89...\n",
       "2    MS  $458,218 $4,619,813 $1,465,804 $1,699,690 $2,0...\n",
       "3    NY  $5,206,727,193 $242,520,835 $2,685,918,268 $51...\n",
       "4    TX  $53,373,690 $11,785,438 $305,824,660 $5,891,47..."
      ]
     },
     "execution_count": 16,
     "metadata": {},
     "output_type": "execute_result"
    }
   ],
   "source": [
    "agg2"
   ]
  },
  {
   "cell_type": "code",
   "execution_count": 65,
   "id": "dbd69d8f-9b60-4677-8343-445875bc3a43",
   "metadata": {},
   "outputs": [],
   "source": [
    "agg3=merge3.groupby(['State']).agg({'population':'mean'}).reset_index()"
   ]
  },
  {
   "cell_type": "code",
   "execution_count": 66,
   "id": "53b973ee-9d72-41f7-b2b0-a3daed8bf361",
   "metadata": {},
   "outputs": [
    {
     "data": {
      "text/html": [
       "<div>\n",
       "<style scoped>\n",
       "    .dataframe tbody tr th:only-of-type {\n",
       "        vertical-align: middle;\n",
       "    }\n",
       "\n",
       "    .dataframe tbody tr th {\n",
       "        vertical-align: top;\n",
       "    }\n",
       "\n",
       "    .dataframe thead th {\n",
       "        text-align: right;\n",
       "    }\n",
       "</style>\n",
       "<table border=\"1\" class=\"dataframe\">\n",
       "  <thead>\n",
       "    <tr style=\"text-align: right;\">\n",
       "      <th></th>\n",
       "      <th>State</th>\n",
       "      <th>population</th>\n",
       "    </tr>\n",
       "  </thead>\n",
       "  <tbody>\n",
       "    <tr>\n",
       "      <th>0</th>\n",
       "      <td>CA</td>\n",
       "      <td>4.294451e+06</td>\n",
       "    </tr>\n",
       "    <tr>\n",
       "      <th>1</th>\n",
       "      <td>ID</td>\n",
       "      <td>8.001193e+04</td>\n",
       "    </tr>\n",
       "    <tr>\n",
       "      <th>2</th>\n",
       "      <td>MS</td>\n",
       "      <td>5.139710e+04</td>\n",
       "    </tr>\n",
       "    <tr>\n",
       "      <th>3</th>\n",
       "      <td>NY</td>\n",
       "      <td>5.141550e+06</td>\n",
       "    </tr>\n",
       "    <tr>\n",
       "      <th>4</th>\n",
       "      <td>TX</td>\n",
       "      <td>1.403881e+06</td>\n",
       "    </tr>\n",
       "  </tbody>\n",
       "</table>\n",
       "</div>"
      ],
      "text/plain": [
       "  State    population\n",
       "0    CA  4.294451e+06\n",
       "1    ID  8.001193e+04\n",
       "2    MS  5.139710e+04\n",
       "3    NY  5.141550e+06\n",
       "4    TX  1.403881e+06"
      ]
     },
     "execution_count": 66,
     "metadata": {},
     "output_type": "execute_result"
    }
   ],
   "source": [
    "agg3"
   ]
  },
  {
   "cell_type": "code",
   "execution_count": null,
   "id": "e5b74fde-6747-4db2-9a1f-6ae5bcc6342d",
   "metadata": {},
   "outputs": [],
   "source": []
  }
 ],
 "metadata": {
  "kernelspec": {
   "display_name": "Python 3 (ipykernel)",
   "language": "python",
   "name": "python3"
  },
  "language_info": {
   "codemirror_mode": {
    "name": "ipython",
    "version": 3
   },
   "file_extension": ".py",
   "mimetype": "text/x-python",
   "name": "python",
   "nbconvert_exporter": "python",
   "pygments_lexer": "ipython3",
   "version": "3.9.13"
  }
 },
 "nbformat": 4,
 "nbformat_minor": 5
}
