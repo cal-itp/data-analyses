{
 "cells": [
  {
   "cell_type": "markdown",
   "id": "685c09c1-4d11-42a8-a213-8267137eede8",
   "metadata": {},
   "source": [
    "# Exercise 2: Merging, Aggregating, Filtering, and Visualizing"
   ]
  },
  {
   "cell_type": "code",
   "execution_count": 1,
   "id": "6cbbfb96-1e9e-400a-9884-72f08d1191f3",
   "metadata": {},
   "outputs": [],
   "source": [
    "import altair as alt\n",
    "import pandas as pd"
   ]
  },
  {
   "cell_type": "code",
   "execution_count": 2,
   "id": "3da62b06-24b4-4791-a073-185ee3765152",
   "metadata": {},
   "outputs": [],
   "source": [
    "pd.options.display.max_columns = 100\n",
    "pd.options.display.float_format = \"{:.2f}\".format\n",
    "pd.set_option(\"display.max_rows\", None)\n",
    "pd.set_option(\"display.max_colwidth\", None)"
   ]
  },
  {
   "cell_type": "markdown",
   "id": "616f1aed-d082-4e49-8eae-5c3acf87155f",
   "metadata": {},
   "source": [
    "* Read back in the `parquet` file with the `overall_score` you created from exercise 1.\n",
    "* Read the Excel sheet containing the project information (scope of work, district, and project name).\n",
    "* Use f-strings."
   ]
  },
  {
   "cell_type": "code",
   "execution_count": 3,
   "id": "e7e4cafe-eb24-477b-a45c-88bfcaff37f3",
   "metadata": {},
   "outputs": [],
   "source": [
    "GCS_FILE_PATH = \"gs://calitp-analytics-data/data-analyses/starter_kit/\""
   ]
  },
  {
   "cell_type": "code",
   "execution_count": 4,
   "id": "2c4af22f-91ac-4e03-8b80-2121adc9a348",
   "metadata": {},
   "outputs": [],
   "source": [
    "EXCEL_FILE = \"starter_kit_csis_scoring_workbook.xlsx\""
   ]
  },
  {
   "cell_type": "code",
   "execution_count": 5,
   "id": "873bfb72-9b47-472c-a18b-248be7f8c694",
   "metadata": {},
   "outputs": [],
   "source": [
    "OVERALL_SCORE_FILE = \"starter_kit_example_final_scores.parquet\""
   ]
  },
  {
   "cell_type": "code",
   "execution_count": 6,
   "id": "6cf0c667-b81a-430f-afb8-68f4e0f0a147",
   "metadata": {},
   "outputs": [],
   "source": [
    "projects_df = pd.read_excel(f\"{GCS_FILE_PATH}{EXCEL_FILE}\")"
   ]
  },
  {
   "cell_type": "code",
   "execution_count": 7,
   "id": "7de4e3b1-15bb-4f37-a392-36c3c0d3e39d",
   "metadata": {},
   "outputs": [
    {
     "data": {
      "text/html": [
       "<div>\n",
       "<style scoped>\n",
       "    .dataframe tbody tr th:only-of-type {\n",
       "        vertical-align: middle;\n",
       "    }\n",
       "\n",
       "    .dataframe tbody tr th {\n",
       "        vertical-align: top;\n",
       "    }\n",
       "\n",
       "    .dataframe thead th {\n",
       "        text-align: right;\n",
       "    }\n",
       "</style>\n",
       "<table border=\"1\" class=\"dataframe\">\n",
       "  <thead>\n",
       "    <tr style=\"text-align: right;\">\n",
       "      <th></th>\n",
       "      <th>ct_district</th>\n",
       "      <th>project_name</th>\n",
       "      <th>Scope of Work</th>\n",
       "    </tr>\n",
       "  </thead>\n",
       "  <tbody>\n",
       "    <tr>\n",
       "      <th>0</th>\n",
       "      <td>10</td>\n",
       "      <td>Meadow Magic Multi-Use Path</td>\n",
       "      <td>A 2-mile Class I bike lane and multi-use path through a scenic meadow, featuring wildflower plantings, public art installations, and educational signage highlighting local wildlife.</td>\n",
       "    </tr>\n",
       "    <tr>\n",
       "      <th>1</th>\n",
       "      <td>8</td>\n",
       "      <td>Bunny Hop Bike Boulevard</td>\n",
       "      <td>A Class II bike lane with charming streetlights, benches, and bike racks designed to resemble carrot sticks, connecting residential neighborhoods to local schools and parks.</td>\n",
       "    </tr>\n",
       "  </tbody>\n",
       "</table>\n",
       "</div>"
      ],
      "text/plain": [
       "   ct_district                 project_name  \\\n",
       "0           10  Meadow Magic Multi-Use Path   \n",
       "1            8     Bunny Hop Bike Boulevard   \n",
       "\n",
       "                                                                                                                                                                            Scope of Work  \n",
       "0   A 2-mile Class I bike lane and multi-use path through a scenic meadow, featuring wildflower plantings, public art installations, and educational signage highlighting local wildlife.  \n",
       "1           A Class II bike lane with charming streetlights, benches, and bike racks designed to resemble carrot sticks, connecting residential neighborhoods to local schools and parks.  "
      ]
     },
     "execution_count": 7,
     "metadata": {},
     "output_type": "execute_result"
    }
   ],
   "source": [
    "projects_df.head(2)"
   ]
  },
  {
   "cell_type": "code",
   "execution_count": 8,
   "id": "8a5e10d5-f978-408d-87d9-05f930038a47",
   "metadata": {},
   "outputs": [],
   "source": [
    "overall_scores_df = pd.read_parquet(f\"{GCS_FILE_PATH}{OVERALL_SCORE_FILE}\")"
   ]
  },
  {
   "cell_type": "code",
   "execution_count": 9,
   "id": "898592ba-7655-41c9-a982-251491bd9083",
   "metadata": {},
   "outputs": [
    {
     "data": {
      "text/html": [
       "<div>\n",
       "<style scoped>\n",
       "    .dataframe tbody tr th:only-of-type {\n",
       "        vertical-align: middle;\n",
       "    }\n",
       "\n",
       "    .dataframe tbody tr th {\n",
       "        vertical-align: top;\n",
       "    }\n",
       "\n",
       "    .dataframe thead th {\n",
       "        text-align: right;\n",
       "    }\n",
       "</style>\n",
       "<table border=\"1\" class=\"dataframe\">\n",
       "  <thead>\n",
       "    <tr style=\"text-align: right;\">\n",
       "      <th></th>\n",
       "      <th>project_name</th>\n",
       "      <th>accessibility_score</th>\n",
       "      <th>dac_accessibility_score</th>\n",
       "      <th>dac_traffic_impacts_score</th>\n",
       "      <th>freight_efficiency_score</th>\n",
       "      <th>freight_sustainability_score</th>\n",
       "      <th>mode_shift_score</th>\n",
       "      <th>lu_natural_resources_score</th>\n",
       "      <th>safety_score</th>\n",
       "      <th>vmt_score</th>\n",
       "      <th>zev_score</th>\n",
       "      <th>public_engagement_score</th>\n",
       "      <th>climate_resilience_score</th>\n",
       "      <th>program_fit_score</th>\n",
       "      <th>overall_score</th>\n",
       "    </tr>\n",
       "  </thead>\n",
       "  <tbody>\n",
       "    <tr>\n",
       "      <th>0</th>\n",
       "      <td>Meadow Magic Multi-Use Path</td>\n",
       "      <td>10</td>\n",
       "      <td>3</td>\n",
       "      <td>4</td>\n",
       "      <td>8</td>\n",
       "      <td>3</td>\n",
       "      <td>6</td>\n",
       "      <td>10</td>\n",
       "      <td>9</td>\n",
       "      <td>2</td>\n",
       "      <td>4</td>\n",
       "      <td>5</td>\n",
       "      <td>2</td>\n",
       "      <td>2</td>\n",
       "      <td>68</td>\n",
       "    </tr>\n",
       "    <tr>\n",
       "      <th>1</th>\n",
       "      <td>Bunny Hop Bike Boulevard</td>\n",
       "      <td>8</td>\n",
       "      <td>9</td>\n",
       "      <td>5</td>\n",
       "      <td>8</td>\n",
       "      <td>7</td>\n",
       "      <td>8</td>\n",
       "      <td>10</td>\n",
       "      <td>8</td>\n",
       "      <td>5</td>\n",
       "      <td>1</td>\n",
       "      <td>1</td>\n",
       "      <td>3</td>\n",
       "      <td>9</td>\n",
       "      <td>82</td>\n",
       "    </tr>\n",
       "  </tbody>\n",
       "</table>\n",
       "</div>"
      ],
      "text/plain": [
       "                  project_name  accessibility_score  dac_accessibility_score  \\\n",
       "0  Meadow Magic Multi-Use Path                   10                        3   \n",
       "1     Bunny Hop Bike Boulevard                    8                        9   \n",
       "\n",
       "   dac_traffic_impacts_score  freight_efficiency_score  \\\n",
       "0                          4                         8   \n",
       "1                          5                         8   \n",
       "\n",
       "   freight_sustainability_score  mode_shift_score  lu_natural_resources_score  \\\n",
       "0                             3                 6                          10   \n",
       "1                             7                 8                          10   \n",
       "\n",
       "   safety_score  vmt_score  zev_score  public_engagement_score  \\\n",
       "0             9          2          4                        5   \n",
       "1             8          5          1                        1   \n",
       "\n",
       "   climate_resilience_score  program_fit_score  overall_score  \n",
       "0                         2                  2             68  \n",
       "1                         3                  9             82  "
      ]
     },
     "execution_count": 9,
     "metadata": {},
     "output_type": "execute_result"
    }
   ],
   "source": [
    "overall_scores_df.head(2)"
   ]
  },
  {
   "cell_type": "markdown",
   "id": "58e35b64-d192-4c6c-8f5d-044a3414ca68",
   "metadata": {},
   "source": [
    "## Merging \n",
    "* Your manager asks you to aggregate the find by District:\n",
    "    * average overall score\n",
    "    * max score \n",
    "    * Min score\n",
    "    * Number of unique projects\n",
    "* Annoyingly enough, the `overall_score` column and the `ct_district` are in two different dataframes. You'll have to merge it. \n",
    "* Welcome to DDS! This will happen to you all the time starting now. \n",
    "\n",
    "### Food for thought \n",
    "* Which do columns the two dataframes have in common?\n",
    "    * You can merge on more than one column. In fact, it's best practice to! \n",
    "* What type of merge will achieve my goal?\n",
    "    * Inner, outer, left, or right\n",
    "* What do I expect out of the merge?\n",
    "    * Do I expect all the values of the merge keys to be 1:1? Or m:1? \n",
    "    * Do I expect a project to correspond with multiple districts? Maybe, projects can and do cross multiple boundaries.\n",
    "    * Do I expect a project to correspond with only one total cost estimate value? Yes, there shouldn't be multiple cost estimates for the same project!\n",
    "* How do I go about checking the data after the merge?\n",
    "    * Which arguments are available to help me per the [docs](https://pandas.pydata.org/pandas-docs/stable/reference/api/pandas.DataFrame.merge.html)?"
   ]
  },
  {
   "cell_type": "code",
   "execution_count": 10,
   "id": "ad4962ca-ed83-48a3-b1e6-79e5d5b1042b",
   "metadata": {},
   "outputs": [],
   "source": [
    "m1 = pd.merge(projects_df, overall_scores_df, on=[\"project_name\"])"
   ]
  },
  {
   "cell_type": "markdown",
   "id": "8ddf0077-061c-4d67-8881-36c9792d6e62",
   "metadata": {},
   "source": [
    "### Double Checking\n",
    "* How many rows do you expect?\n",
    "* How many unique projects are there? \n",
    "* Hint: check your original dataframes as well"
   ]
  },
  {
   "cell_type": "markdown",
   "id": "94e866f0-bc46-43d3-92b7-dce71dc31c02",
   "metadata": {},
   "source": [
    "#### The Beauty of Outer Joins \n",
    "* To save you some grief and time, `outer` joins are very useful.\n",
    "* Merge your dataframes again using an `outer` join and with `indicator = True` on.\n",
    "* Using `.value_counts()` check out how many rows are found in both dataframes, the left only, and the right only"
   ]
  },
  {
   "cell_type": "code",
   "execution_count": 11,
   "id": "98e92c3f-ccd4-45f8-b6a6-523ddcb4a7ac",
   "metadata": {},
   "outputs": [],
   "source": [
    "m2 = pd.merge(\n",
    "    projects_df, overall_scores_df, on=[\"project_name\"], indicator=True, how=\"outer\"\n",
    ")"
   ]
  },
  {
   "cell_type": "code",
   "execution_count": 12,
   "id": "f134cddf-5220-44f9-9e15-1c5171cbedfd",
   "metadata": {},
   "outputs": [
    {
     "data": {
      "text/plain": [
       "both          26\n",
       "left_only      3\n",
       "right_only     3\n",
       "Name: _merge, dtype: int64"
      ]
     },
     "execution_count": 12,
     "metadata": {},
     "output_type": "execute_result"
    }
   ],
   "source": [
    "m2._merge.value_counts()"
   ]
  },
  {
   "cell_type": "markdown",
   "id": "aa04599b-805e-4813-ab1a-c4b9fe77cc9e",
   "metadata": {},
   "source": [
    "### Filtering\n",
    "* Filter out for only the `left_only` and `right_only` values.\n",
    "* AH note: link to  docs page with tutorial."
   ]
  },
  {
   "cell_type": "code",
   "execution_count": 13,
   "id": "4dd07bab-4d1b-41a0-954e-4c2d59584e57",
   "metadata": {},
   "outputs": [
    {
     "data": {
      "text/html": [
       "<div>\n",
       "<style scoped>\n",
       "    .dataframe tbody tr th:only-of-type {\n",
       "        vertical-align: middle;\n",
       "    }\n",
       "\n",
       "    .dataframe tbody tr th {\n",
       "        vertical-align: top;\n",
       "    }\n",
       "\n",
       "    .dataframe thead th {\n",
       "        text-align: right;\n",
       "    }\n",
       "</style>\n",
       "<table border=\"1\" class=\"dataframe\">\n",
       "  <thead>\n",
       "    <tr style=\"text-align: right;\">\n",
       "      <th></th>\n",
       "      <th>project_name</th>\n",
       "      <th>_merge</th>\n",
       "    </tr>\n",
       "  </thead>\n",
       "  <tbody>\n",
       "    <tr>\n",
       "      <th>10</th>\n",
       "      <td>Rainbow Rush hot  Lanes</td>\n",
       "      <td>left_only</td>\n",
       "    </tr>\n",
       "    <tr>\n",
       "      <th>12</th>\n",
       "      <td>Bunny Lane HOV+2 heaven</td>\n",
       "      <td>left_only</td>\n",
       "    </tr>\n",
       "    <tr>\n",
       "      <th>26</th>\n",
       "      <td>main street muffin top</td>\n",
       "      <td>left_only</td>\n",
       "    </tr>\n",
       "    <tr>\n",
       "      <th>29</th>\n",
       "      <td>Rainbow Rush HOT Lanes</td>\n",
       "      <td>right_only</td>\n",
       "    </tr>\n",
       "    <tr>\n",
       "      <th>30</th>\n",
       "      <td>Bunny Lane HOV+2 Haven</td>\n",
       "      <td>right_only</td>\n",
       "    </tr>\n",
       "    <tr>\n",
       "      <th>31</th>\n",
       "      <td>Main Street Muffin Top Revitalization</td>\n",
       "      <td>right_only</td>\n",
       "    </tr>\n",
       "  </tbody>\n",
       "</table>\n",
       "</div>"
      ],
      "text/plain": [
       "                             project_name      _merge\n",
       "10                Rainbow Rush hot  Lanes   left_only\n",
       "12                Bunny Lane HOV+2 heaven   left_only\n",
       "26                main street muffin top    left_only\n",
       "29                 Rainbow Rush HOT Lanes  right_only\n",
       "30                 Bunny Lane HOV+2 Haven  right_only\n",
       "31  Main Street Muffin Top Revitalization  right_only"
      ]
     },
     "execution_count": 13,
     "metadata": {},
     "output_type": "execute_result"
    }
   ],
   "source": [
    "m2.loc[m2._merge != \"both\"][[\"project_name\", \"_merge\"]]"
   ]
  },
  {
   "cell_type": "markdown",
   "id": "b9279e5f-4e4b-41d5-818f-56bc6932e052",
   "metadata": {},
   "source": [
    "### Dictionaries: An Introduction \n",
    "* String data is often entered in many different ways. BART can be entered in as bart, Bay Area Rapid Transit, BaRT, and more. \n",
    "* Take a look as to why these projects are not merging. \n",
    "* In Excel, it's easy to go in and manually tweak everything. However, that is not reproducible. \n",
    "* Since there are essentially only a couple of names to replace, we can do it using a dictionary.\n",
    "* Decide whether you want to rename the values in the left dataframe or the right one. \n",
    "    * AH: Link to docs\n",
    "    * Explain what a dictionary is\n",
    "* Take a look at elements \n",
    "    * Trailing white spaces\n",
    "    * Capitalization\n",
    "    * Spelling\n",
    "    * Symbols"
   ]
  },
  {
   "cell_type": "code",
   "execution_count": 14,
   "id": "55709137-db8e-4bf8-8939-6f8af49b3719",
   "metadata": {
    "scrolled": true,
    "tags": []
   },
   "outputs": [],
   "source": [
    "# I highly recommend you use .unique() to find the project names.\n",
    "# Often there are trailing white spaces that are naked to our human eyes."
   ]
  },
  {
   "cell_type": "code",
   "execution_count": 15,
   "id": "9dad92fe-87a6-434d-a62f-d269f3ad1054",
   "metadata": {},
   "outputs": [],
   "source": [
    "new_names = {\n",
    "    \"main street muffin top \": \"Main Street Muffin Top Revitalization\",\n",
    "    \"Bunny Lane HOV+2 heaven\": \"Bunny Lane HOV+2 Haven\",\n",
    "    \"Rainbow Rush hot  Lanes\": \"Rainbow Rush HOT Lanes\",\n",
    "}"
   ]
  },
  {
   "cell_type": "code",
   "execution_count": 16,
   "id": "d8532992-771e-446a-b419-55ad757ff45f",
   "metadata": {},
   "outputs": [],
   "source": [
    "projects_df.project_name = projects_df.project_name.replace(new_names)"
   ]
  },
  {
   "cell_type": "markdown",
   "id": "68562b10-b9bd-4892-8780-a66cad1a06d4",
   "metadata": {},
   "source": [
    "* Merge your dataframes again. This time it should work.\n",
    "* Please also specify the merge type and the columns. \n",
    "* Although Pandas does this automatically, it's good practice to write everything out."
   ]
  },
  {
   "cell_type": "code",
   "execution_count": 17,
   "id": "db09aa04-7a94-4b94-9ade-10b1a987e006",
   "metadata": {},
   "outputs": [],
   "source": [
    "final_m = pd.merge(projects_df, overall_scores_df, how=\"inner\", on=\"project_name\")"
   ]
  },
  {
   "cell_type": "markdown",
   "id": "1c2d76d1-37eb-405a-8834-23137a03e411",
   "metadata": {},
   "source": [
    "## Groupby\n",
    "* You're done merging...Oh wait, that wasn't even part of your manager's request. You still need to aggregate. \n",
    "* There are many options Some are `groupby / agg`, `pivot_table`, `groupby / transform`\n",
    "* Hint: rename these columns to be descriptive because we are no longer looking at the `overall_scores`"
   ]
  },
  {
   "cell_type": "code",
   "execution_count": 18,
   "id": "7328fcf2-ea52-46b8-8624-a7f3f39428df",
   "metadata": {},
   "outputs": [],
   "source": [
    "final_m[\"min_score\"] = final_m.overall_score"
   ]
  },
  {
   "cell_type": "code",
   "execution_count": 19,
   "id": "8dc4063c-1150-4b67-a125-16f245f4b9c4",
   "metadata": {},
   "outputs": [],
   "source": [
    "final_m[\"max_score\"] = final_m.overall_score"
   ]
  },
  {
   "cell_type": "code",
   "execution_count": 72,
   "id": "0892a805-7d7f-47cf-b086-f5e320c5361c",
   "metadata": {},
   "outputs": [],
   "source": [
    "agg1 = (\n",
    "    final_m.groupby([\"ct_district\"])\n",
    "    .agg(\n",
    "        {\n",
    "            \"overall_score\": \"median\",\n",
    "            \"min_score\": \"min\",\n",
    "            \"max_score\": \"max\",\n",
    "            \"project_name\": \"nunique\",\n",
    "        }\n",
    "    )\n",
    "    .reset_index()\n",
    ")"
   ]
  },
  {
   "cell_type": "code",
   "execution_count": 73,
   "id": "94c178b1-ff70-4d63-8820-aef101928c75",
   "metadata": {},
   "outputs": [],
   "source": [
    "agg1 = agg1.rename(\n",
    "    columns={\"overall_score\": \"median_score\", \"project_name\": \"n_projects\"}\n",
    ")"
   ]
  },
  {
   "cell_type": "code",
   "execution_count": 74,
   "id": "70178e81-0d11-4d19-9001-96e466d6dced",
   "metadata": {},
   "outputs": [
    {
     "data": {
      "text/html": [
       "<div>\n",
       "<style scoped>\n",
       "    .dataframe tbody tr th:only-of-type {\n",
       "        vertical-align: middle;\n",
       "    }\n",
       "\n",
       "    .dataframe tbody tr th {\n",
       "        vertical-align: top;\n",
       "    }\n",
       "\n",
       "    .dataframe thead th {\n",
       "        text-align: right;\n",
       "    }\n",
       "</style>\n",
       "<table border=\"1\" class=\"dataframe\">\n",
       "  <thead>\n",
       "    <tr style=\"text-align: right;\">\n",
       "      <th></th>\n",
       "      <th>ct_district</th>\n",
       "      <th>median_score</th>\n",
       "      <th>min_score</th>\n",
       "      <th>max_score</th>\n",
       "      <th>n_projects</th>\n",
       "    </tr>\n",
       "  </thead>\n",
       "  <tbody>\n",
       "    <tr>\n",
       "      <th>0</th>\n",
       "      <td>1</td>\n",
       "      <td>69.00</td>\n",
       "      <td>68</td>\n",
       "      <td>81</td>\n",
       "      <td>3</td>\n",
       "    </tr>\n",
       "    <tr>\n",
       "      <th>1</th>\n",
       "      <td>2</td>\n",
       "      <td>60.50</td>\n",
       "      <td>55</td>\n",
       "      <td>66</td>\n",
       "      <td>2</td>\n",
       "    </tr>\n",
       "    <tr>\n",
       "      <th>2</th>\n",
       "      <td>3</td>\n",
       "      <td>72.00</td>\n",
       "      <td>68</td>\n",
       "      <td>74</td>\n",
       "      <td>3</td>\n",
       "    </tr>\n",
       "    <tr>\n",
       "      <th>3</th>\n",
       "      <td>4</td>\n",
       "      <td>69.00</td>\n",
       "      <td>63</td>\n",
       "      <td>83</td>\n",
       "      <td>3</td>\n",
       "    </tr>\n",
       "    <tr>\n",
       "      <th>4</th>\n",
       "      <td>5</td>\n",
       "      <td>73.00</td>\n",
       "      <td>73</td>\n",
       "      <td>73</td>\n",
       "      <td>1</td>\n",
       "    </tr>\n",
       "    <tr>\n",
       "      <th>5</th>\n",
       "      <td>6</td>\n",
       "      <td>64.00</td>\n",
       "      <td>64</td>\n",
       "      <td>64</td>\n",
       "      <td>1</td>\n",
       "    </tr>\n",
       "    <tr>\n",
       "      <th>6</th>\n",
       "      <td>7</td>\n",
       "      <td>78.00</td>\n",
       "      <td>78</td>\n",
       "      <td>78</td>\n",
       "      <td>1</td>\n",
       "    </tr>\n",
       "    <tr>\n",
       "      <th>7</th>\n",
       "      <td>8</td>\n",
       "      <td>82.00</td>\n",
       "      <td>80</td>\n",
       "      <td>89</td>\n",
       "      <td>3</td>\n",
       "    </tr>\n",
       "    <tr>\n",
       "      <th>8</th>\n",
       "      <td>9</td>\n",
       "      <td>74.00</td>\n",
       "      <td>65</td>\n",
       "      <td>81</td>\n",
       "      <td>5</td>\n",
       "    </tr>\n",
       "    <tr>\n",
       "      <th>9</th>\n",
       "      <td>10</td>\n",
       "      <td>72.00</td>\n",
       "      <td>68</td>\n",
       "      <td>76</td>\n",
       "      <td>3</td>\n",
       "    </tr>\n",
       "    <tr>\n",
       "      <th>10</th>\n",
       "      <td>11</td>\n",
       "      <td>80.00</td>\n",
       "      <td>80</td>\n",
       "      <td>80</td>\n",
       "      <td>1</td>\n",
       "    </tr>\n",
       "    <tr>\n",
       "      <th>11</th>\n",
       "      <td>12</td>\n",
       "      <td>75.00</td>\n",
       "      <td>58</td>\n",
       "      <td>79</td>\n",
       "      <td>3</td>\n",
       "    </tr>\n",
       "  </tbody>\n",
       "</table>\n",
       "</div>"
      ],
      "text/plain": [
       "    ct_district  median_score  min_score  max_score  n_projects\n",
       "0             1         69.00         68         81           3\n",
       "1             2         60.50         55         66           2\n",
       "2             3         72.00         68         74           3\n",
       "3             4         69.00         63         83           3\n",
       "4             5         73.00         73         73           1\n",
       "5             6         64.00         64         64           1\n",
       "6             7         78.00         78         78           1\n",
       "7             8         82.00         80         89           3\n",
       "8             9         74.00         65         81           5\n",
       "9            10         72.00         68         76           3\n",
       "10           11         80.00         80         80           1\n",
       "11           12         75.00         58         79           3"
      ]
     },
     "execution_count": 74,
     "metadata": {},
     "output_type": "execute_result"
    }
   ],
   "source": [
    "agg1"
   ]
  },
  {
   "cell_type": "markdown",
   "id": "452b850a-7e15-473f-93d8-0133d496fa96",
   "metadata": {},
   "source": [
    "## Visualizing \n",
    "* You're done aggregating, but the dataframe looks objectively plain.\n",
    "* Unfortunately in the world of data, looks <b>do</b> matter. \n",
    "* Let's explore a couple of ways to present your data."
   ]
  },
  {
   "cell_type": "markdown",
   "id": "ba703a21-6e54-4667-8607-d4b8900f6371",
   "metadata": {},
   "source": [
    "### Styling a Dataframe\n",
    "* `pandas` has quite a few options that allow you to style your dataframe.\n",
    "* [This tutorial](https://betterdatascience.com/style-pandas-dataframes/) offers some great ways to jazz up your dataframe.\n",
    "* You can always read the [pandas documentation](https://pandas.pydata.org/pandas-docs/stable/user_guide/style.html) for more ideas.\n",
    "* Some ideas:\n",
    "    * Change the font\n",
    "    * Turn off the index\n",
    "    * Use colors to indicate low-high values\n",
    "    * Change the alignment of the values"
   ]
  },
  {
   "cell_type": "markdown",
   "id": "c251617a-1936-4df1-b461-cc63f4be5e37",
   "metadata": {},
   "source": [
    "### Altair\n",
    "* While a table is great, sometimes the stakeholder prefers a chart. \n",
    "* Our preferred visualization library is `Altair`, although there are other options.\n",
    "    * Their docs page is [here](https://altair-viz.github.io/).\n",
    "* The code to create a simple bar chart goes something like this. \n",
    "    * `alt.Chart(source).mark_bar().encode(x='a',y='b')`\n",
    "    * `source` is the dataframe you want to use for your chart.\n",
    "    * `x` denotes the column you are plotting on the X-axis. Make sure your column name has quotation marks around it. \n",
    "    * `y` denotes the column you are plotting on the Y-axis. \n",
    "* If you want a line chart, simply swap out `.mark_bar()` for `.mark_line`\n",
    "    * `alt.Chart(source).mark_line().encode(x='x',y='f(x)')`\n",
    "* <b>Make your first chart below.</b>"
   ]
  },
  {
   "cell_type": "code",
   "execution_count": 23,
   "id": "fdcece32-d053-4b32-9e76-0f5ffed9ff52",
   "metadata": {},
   "outputs": [
    {
     "data": {
      "text/html": [
       "\n",
       "<style>\n",
       "  #altair-viz-ed1214178acf4ad59d5c70e2dfb21772.vega-embed {\n",
       "    width: 100%;\n",
       "    display: flex;\n",
       "  }\n",
       "\n",
       "  #altair-viz-ed1214178acf4ad59d5c70e2dfb21772.vega-embed details,\n",
       "  #altair-viz-ed1214178acf4ad59d5c70e2dfb21772.vega-embed details summary {\n",
       "    position: relative;\n",
       "  }\n",
       "</style>\n",
       "<div id=\"altair-viz-ed1214178acf4ad59d5c70e2dfb21772\"></div>\n",
       "<script type=\"text/javascript\">\n",
       "  var VEGA_DEBUG = (typeof VEGA_DEBUG == \"undefined\") ? {} : VEGA_DEBUG;\n",
       "  (function(spec, embedOpt){\n",
       "    let outputDiv = document.currentScript.previousElementSibling;\n",
       "    if (outputDiv.id !== \"altair-viz-ed1214178acf4ad59d5c70e2dfb21772\") {\n",
       "      outputDiv = document.getElementById(\"altair-viz-ed1214178acf4ad59d5c70e2dfb21772\");\n",
       "    }\n",
       "    const paths = {\n",
       "      \"vega\": \"https://cdn.jsdelivr.net/npm/vega@5?noext\",\n",
       "      \"vega-lib\": \"https://cdn.jsdelivr.net/npm/vega-lib?noext\",\n",
       "      \"vega-lite\": \"https://cdn.jsdelivr.net/npm/vega-lite@5.14.1?noext\",\n",
       "      \"vega-embed\": \"https://cdn.jsdelivr.net/npm/vega-embed@6?noext\",\n",
       "    };\n",
       "\n",
       "    function maybeLoadScript(lib, version) {\n",
       "      var key = `${lib.replace(\"-\", \"\")}_version`;\n",
       "      return (VEGA_DEBUG[key] == version) ?\n",
       "        Promise.resolve(paths[lib]) :\n",
       "        new Promise(function(resolve, reject) {\n",
       "          var s = document.createElement('script');\n",
       "          document.getElementsByTagName(\"head\")[0].appendChild(s);\n",
       "          s.async = true;\n",
       "          s.onload = () => {\n",
       "            VEGA_DEBUG[key] = version;\n",
       "            return resolve(paths[lib]);\n",
       "          };\n",
       "          s.onerror = () => reject(`Error loading script: ${paths[lib]}`);\n",
       "          s.src = paths[lib];\n",
       "        });\n",
       "    }\n",
       "\n",
       "    function showError(err) {\n",
       "      outputDiv.innerHTML = `<div class=\"error\" style=\"color:red;\">${err}</div>`;\n",
       "      throw err;\n",
       "    }\n",
       "\n",
       "    function displayChart(vegaEmbed) {\n",
       "      vegaEmbed(outputDiv, spec, embedOpt)\n",
       "        .catch(err => showError(`Javascript Error: ${err.message}<br>This usually means there's a typo in your chart specification. See the javascript console for the full traceback.`));\n",
       "    }\n",
       "\n",
       "    if(typeof define === \"function\" && define.amd) {\n",
       "      requirejs.config({paths});\n",
       "      require([\"vega-embed\"], displayChart, err => showError(`Error loading script: ${err.message}`));\n",
       "    } else {\n",
       "      maybeLoadScript(\"vega\", \"5\")\n",
       "        .then(() => maybeLoadScript(\"vega-lite\", \"5.14.1\"))\n",
       "        .then(() => maybeLoadScript(\"vega-embed\", \"6\"))\n",
       "        .catch(showError)\n",
       "        .then(() => displayChart(vegaEmbed));\n",
       "    }\n",
       "  })({\"config\": {\"view\": {\"continuousWidth\": 300, \"continuousHeight\": 300}}, \"data\": {\"name\": \"data-36dd6e62d4eefa6e4bea196037c44f92\"}, \"mark\": {\"type\": \"bar\"}, \"encoding\": {\"x\": {\"field\": \"ct_district\", \"type\": \"quantitative\"}, \"y\": {\"field\": \"n_projects\", \"type\": \"quantitative\"}}, \"$schema\": \"https://vega.github.io/schema/vega-lite/v5.14.1.json\", \"datasets\": {\"data-36dd6e62d4eefa6e4bea196037c44f92\": [{\"ct_district\": 1, \"median_score\": 69.0, \"min_score\": 68, \"max_score\": 81, \"n_projects\": 3}, {\"ct_district\": 2, \"median_score\": 60.5, \"min_score\": 55, \"max_score\": 66, \"n_projects\": 2}, {\"ct_district\": 3, \"median_score\": 72.0, \"min_score\": 68, \"max_score\": 74, \"n_projects\": 3}, {\"ct_district\": 4, \"median_score\": 69.0, \"min_score\": 63, \"max_score\": 83, \"n_projects\": 3}, {\"ct_district\": 5, \"median_score\": 73.0, \"min_score\": 73, \"max_score\": 73, \"n_projects\": 1}, {\"ct_district\": 6, \"median_score\": 64.0, \"min_score\": 64, \"max_score\": 64, \"n_projects\": 1}, {\"ct_district\": 7, \"median_score\": 78.0, \"min_score\": 78, \"max_score\": 78, \"n_projects\": 1}, {\"ct_district\": 8, \"median_score\": 82.0, \"min_score\": 80, \"max_score\": 89, \"n_projects\": 3}, {\"ct_district\": 9, \"median_score\": 74.0, \"min_score\": 65, \"max_score\": 81, \"n_projects\": 5}, {\"ct_district\": 10, \"median_score\": 72.0, \"min_score\": 68, \"max_score\": 76, \"n_projects\": 3}, {\"ct_district\": 11, \"median_score\": 80.0, \"min_score\": 80, \"max_score\": 80, \"n_projects\": 1}, {\"ct_district\": 12, \"median_score\": 75.0, \"min_score\": 58, \"max_score\": 79, \"n_projects\": 3}]}}, {\"mode\": \"vega-lite\"});\n",
       "</script>"
      ],
      "text/plain": [
       "alt.Chart(...)"
      ]
     },
     "execution_count": 23,
     "metadata": {},
     "output_type": "execute_result"
    }
   ],
   "source": [
    "alt.Chart(agg1).mark_bar().encode(x=\"ct_district\", y=\"n_projects\")"
   ]
  },
  {
   "cell_type": "markdown",
   "id": "ff3cf65e-174c-4ee2-bdc3-ca07f3bb951f",
   "metadata": {},
   "source": [
    "#### Customizing\n",
    "* `altair` offers an endless ways to amp up the personality of your chart.\n",
    "* Additionally, the chart above without a title and legend is a data visualization \"taboo\" and the dull Facebook blue is uninspiring. "
   ]
  },
  {
   "cell_type": "markdown",
   "id": "7a86074c-081c-47d5-862c-5cd5af83b124",
   "metadata": {},
   "source": [
    "#### Add a title"
   ]
  },
  {
   "cell_type": "code",
   "execution_count": 25,
   "id": "88e1dff9-0188-49c9-b6cc-599610aca9a7",
   "metadata": {},
   "outputs": [
    {
     "data": {
      "text/html": [
       "\n",
       "<style>\n",
       "  #altair-viz-9ef0292e74e943e7bb1f9125e0fc25a8.vega-embed {\n",
       "    width: 100%;\n",
       "    display: flex;\n",
       "  }\n",
       "\n",
       "  #altair-viz-9ef0292e74e943e7bb1f9125e0fc25a8.vega-embed details,\n",
       "  #altair-viz-9ef0292e74e943e7bb1f9125e0fc25a8.vega-embed details summary {\n",
       "    position: relative;\n",
       "  }\n",
       "</style>\n",
       "<div id=\"altair-viz-9ef0292e74e943e7bb1f9125e0fc25a8\"></div>\n",
       "<script type=\"text/javascript\">\n",
       "  var VEGA_DEBUG = (typeof VEGA_DEBUG == \"undefined\") ? {} : VEGA_DEBUG;\n",
       "  (function(spec, embedOpt){\n",
       "    let outputDiv = document.currentScript.previousElementSibling;\n",
       "    if (outputDiv.id !== \"altair-viz-9ef0292e74e943e7bb1f9125e0fc25a8\") {\n",
       "      outputDiv = document.getElementById(\"altair-viz-9ef0292e74e943e7bb1f9125e0fc25a8\");\n",
       "    }\n",
       "    const paths = {\n",
       "      \"vega\": \"https://cdn.jsdelivr.net/npm/vega@5?noext\",\n",
       "      \"vega-lib\": \"https://cdn.jsdelivr.net/npm/vega-lib?noext\",\n",
       "      \"vega-lite\": \"https://cdn.jsdelivr.net/npm/vega-lite@5.14.1?noext\",\n",
       "      \"vega-embed\": \"https://cdn.jsdelivr.net/npm/vega-embed@6?noext\",\n",
       "    };\n",
       "\n",
       "    function maybeLoadScript(lib, version) {\n",
       "      var key = `${lib.replace(\"-\", \"\")}_version`;\n",
       "      return (VEGA_DEBUG[key] == version) ?\n",
       "        Promise.resolve(paths[lib]) :\n",
       "        new Promise(function(resolve, reject) {\n",
       "          var s = document.createElement('script');\n",
       "          document.getElementsByTagName(\"head\")[0].appendChild(s);\n",
       "          s.async = true;\n",
       "          s.onload = () => {\n",
       "            VEGA_DEBUG[key] = version;\n",
       "            return resolve(paths[lib]);\n",
       "          };\n",
       "          s.onerror = () => reject(`Error loading script: ${paths[lib]}`);\n",
       "          s.src = paths[lib];\n",
       "        });\n",
       "    }\n",
       "\n",
       "    function showError(err) {\n",
       "      outputDiv.innerHTML = `<div class=\"error\" style=\"color:red;\">${err}</div>`;\n",
       "      throw err;\n",
       "    }\n",
       "\n",
       "    function displayChart(vegaEmbed) {\n",
       "      vegaEmbed(outputDiv, spec, embedOpt)\n",
       "        .catch(err => showError(`Javascript Error: ${err.message}<br>This usually means there's a typo in your chart specification. See the javascript console for the full traceback.`));\n",
       "    }\n",
       "\n",
       "    if(typeof define === \"function\" && define.amd) {\n",
       "      requirejs.config({paths});\n",
       "      require([\"vega-embed\"], displayChart, err => showError(`Error loading script: ${err.message}`));\n",
       "    } else {\n",
       "      maybeLoadScript(\"vega\", \"5\")\n",
       "        .then(() => maybeLoadScript(\"vega-lite\", \"5.14.1\"))\n",
       "        .then(() => maybeLoadScript(\"vega-embed\", \"6\"))\n",
       "        .catch(showError)\n",
       "        .then(() => displayChart(vegaEmbed));\n",
       "    }\n",
       "  })({\"config\": {\"view\": {\"continuousWidth\": 300, \"continuousHeight\": 300}}, \"data\": {\"name\": \"data-36dd6e62d4eefa6e4bea196037c44f92\"}, \"mark\": {\"type\": \"bar\"}, \"encoding\": {\"x\": {\"field\": \"ct_district\", \"type\": \"quantitative\"}, \"y\": {\"field\": \"n_projects\", \"type\": \"quantitative\"}}, \"title\": \"your_title_here\", \"$schema\": \"https://vega.github.io/schema/vega-lite/v5.14.1.json\", \"datasets\": {\"data-36dd6e62d4eefa6e4bea196037c44f92\": [{\"ct_district\": 1, \"median_score\": 69.0, \"min_score\": 68, \"max_score\": 81, \"n_projects\": 3}, {\"ct_district\": 2, \"median_score\": 60.5, \"min_score\": 55, \"max_score\": 66, \"n_projects\": 2}, {\"ct_district\": 3, \"median_score\": 72.0, \"min_score\": 68, \"max_score\": 74, \"n_projects\": 3}, {\"ct_district\": 4, \"median_score\": 69.0, \"min_score\": 63, \"max_score\": 83, \"n_projects\": 3}, {\"ct_district\": 5, \"median_score\": 73.0, \"min_score\": 73, \"max_score\": 73, \"n_projects\": 1}, {\"ct_district\": 6, \"median_score\": 64.0, \"min_score\": 64, \"max_score\": 64, \"n_projects\": 1}, {\"ct_district\": 7, \"median_score\": 78.0, \"min_score\": 78, \"max_score\": 78, \"n_projects\": 1}, {\"ct_district\": 8, \"median_score\": 82.0, \"min_score\": 80, \"max_score\": 89, \"n_projects\": 3}, {\"ct_district\": 9, \"median_score\": 74.0, \"min_score\": 65, \"max_score\": 81, \"n_projects\": 5}, {\"ct_district\": 10, \"median_score\": 72.0, \"min_score\": 68, \"max_score\": 76, \"n_projects\": 3}, {\"ct_district\": 11, \"median_score\": 80.0, \"min_score\": 80, \"max_score\": 80, \"n_projects\": 1}, {\"ct_district\": 12, \"median_score\": 75.0, \"min_score\": 58, \"max_score\": 79, \"n_projects\": 3}]}}, {\"mode\": \"vega-lite\"});\n",
       "</script>"
      ],
      "text/plain": [
       "alt.Chart(...)"
      ]
     },
     "execution_count": 25,
     "metadata": {},
     "output_type": "execute_result"
    }
   ],
   "source": [
    "alt.Chart(agg1, title=\"your_title_here\").mark_bar().encode(\n",
    "    x=\"ct_district\", y=\"n_projects\"\n",
    ")"
   ]
  },
  {
   "cell_type": "markdown",
   "id": "1d7073ac-6528-4999-9c9c-94c8147c0ac6",
   "metadata": {},
   "source": [
    "#### Add some color\n",
    "* Explain our calitp_color_palette."
   ]
  },
  {
   "cell_type": "code",
   "execution_count": 35,
   "id": "cb8df2a3-bf37-4fe4-833e-1259a6ad7f15",
   "metadata": {},
   "outputs": [],
   "source": [
    "from calitp_data_analysis import calitp_color_palette"
   ]
  },
  {
   "cell_type": "code",
   "execution_count": 39,
   "id": "aa21d088-3360-4d3e-811c-8cc5bdb2d3a8",
   "metadata": {
    "scrolled": true,
    "tags": []
   },
   "outputs": [],
   "source": [
    "# To see what is inside a module, just put two question marks\n",
    "# From here, you can choose another color palette\n",
    "# calitp_color_palette??"
   ]
  },
  {
   "cell_type": "code",
   "execution_count": 40,
   "id": "c629f242-9b1b-49d1-b4b0-1bb956782d69",
   "metadata": {},
   "outputs": [
    {
     "data": {
      "text/html": [
       "\n",
       "<style>\n",
       "  #altair-viz-5d97b9c9177c4e92ad25b7caa94c2b80.vega-embed {\n",
       "    width: 100%;\n",
       "    display: flex;\n",
       "  }\n",
       "\n",
       "  #altair-viz-5d97b9c9177c4e92ad25b7caa94c2b80.vega-embed details,\n",
       "  #altair-viz-5d97b9c9177c4e92ad25b7caa94c2b80.vega-embed details summary {\n",
       "    position: relative;\n",
       "  }\n",
       "</style>\n",
       "<div id=\"altair-viz-5d97b9c9177c4e92ad25b7caa94c2b80\"></div>\n",
       "<script type=\"text/javascript\">\n",
       "  var VEGA_DEBUG = (typeof VEGA_DEBUG == \"undefined\") ? {} : VEGA_DEBUG;\n",
       "  (function(spec, embedOpt){\n",
       "    let outputDiv = document.currentScript.previousElementSibling;\n",
       "    if (outputDiv.id !== \"altair-viz-5d97b9c9177c4e92ad25b7caa94c2b80\") {\n",
       "      outputDiv = document.getElementById(\"altair-viz-5d97b9c9177c4e92ad25b7caa94c2b80\");\n",
       "    }\n",
       "    const paths = {\n",
       "      \"vega\": \"https://cdn.jsdelivr.net/npm/vega@5?noext\",\n",
       "      \"vega-lib\": \"https://cdn.jsdelivr.net/npm/vega-lib?noext\",\n",
       "      \"vega-lite\": \"https://cdn.jsdelivr.net/npm/vega-lite@5.14.1?noext\",\n",
       "      \"vega-embed\": \"https://cdn.jsdelivr.net/npm/vega-embed@6?noext\",\n",
       "    };\n",
       "\n",
       "    function maybeLoadScript(lib, version) {\n",
       "      var key = `${lib.replace(\"-\", \"\")}_version`;\n",
       "      return (VEGA_DEBUG[key] == version) ?\n",
       "        Promise.resolve(paths[lib]) :\n",
       "        new Promise(function(resolve, reject) {\n",
       "          var s = document.createElement('script');\n",
       "          document.getElementsByTagName(\"head\")[0].appendChild(s);\n",
       "          s.async = true;\n",
       "          s.onload = () => {\n",
       "            VEGA_DEBUG[key] = version;\n",
       "            return resolve(paths[lib]);\n",
       "          };\n",
       "          s.onerror = () => reject(`Error loading script: ${paths[lib]}`);\n",
       "          s.src = paths[lib];\n",
       "        });\n",
       "    }\n",
       "\n",
       "    function showError(err) {\n",
       "      outputDiv.innerHTML = `<div class=\"error\" style=\"color:red;\">${err}</div>`;\n",
       "      throw err;\n",
       "    }\n",
       "\n",
       "    function displayChart(vegaEmbed) {\n",
       "      vegaEmbed(outputDiv, spec, embedOpt)\n",
       "        .catch(err => showError(`Javascript Error: ${err.message}<br>This usually means there's a typo in your chart specification. See the javascript console for the full traceback.`));\n",
       "    }\n",
       "\n",
       "    if(typeof define === \"function\" && define.amd) {\n",
       "      requirejs.config({paths});\n",
       "      require([\"vega-embed\"], displayChart, err => showError(`Error loading script: ${err.message}`));\n",
       "    } else {\n",
       "      maybeLoadScript(\"vega\", \"5\")\n",
       "        .then(() => maybeLoadScript(\"vega-lite\", \"5.14.1\"))\n",
       "        .then(() => maybeLoadScript(\"vega-embed\", \"6\"))\n",
       "        .catch(showError)\n",
       "        .then(() => displayChart(vegaEmbed));\n",
       "    }\n",
       "  })({\"config\": {\"view\": {\"continuousWidth\": 300, \"continuousHeight\": 300}}, \"data\": {\"name\": \"data-36dd6e62d4eefa6e4bea196037c44f92\"}, \"mark\": {\"type\": \"bar\"}, \"encoding\": {\"color\": {\"field\": \"n_projects\", \"scale\": {\"range\": [\"#E16B26\", \"#EB9F3C\", \"#f6e7e1\", \"#8CBCCB\", \"#2EA8CE\", \"#136C97\"]}, \"title\": \"legend_title_here\", \"type\": \"quantitative\"}, \"x\": {\"field\": \"ct_district\", \"type\": \"quantitative\"}, \"y\": {\"field\": \"n_projects\", \"type\": \"quantitative\"}}, \"title\": \"your_title_here\", \"$schema\": \"https://vega.github.io/schema/vega-lite/v5.14.1.json\", \"datasets\": {\"data-36dd6e62d4eefa6e4bea196037c44f92\": [{\"ct_district\": 1, \"median_score\": 69.0, \"min_score\": 68, \"max_score\": 81, \"n_projects\": 3}, {\"ct_district\": 2, \"median_score\": 60.5, \"min_score\": 55, \"max_score\": 66, \"n_projects\": 2}, {\"ct_district\": 3, \"median_score\": 72.0, \"min_score\": 68, \"max_score\": 74, \"n_projects\": 3}, {\"ct_district\": 4, \"median_score\": 69.0, \"min_score\": 63, \"max_score\": 83, \"n_projects\": 3}, {\"ct_district\": 5, \"median_score\": 73.0, \"min_score\": 73, \"max_score\": 73, \"n_projects\": 1}, {\"ct_district\": 6, \"median_score\": 64.0, \"min_score\": 64, \"max_score\": 64, \"n_projects\": 1}, {\"ct_district\": 7, \"median_score\": 78.0, \"min_score\": 78, \"max_score\": 78, \"n_projects\": 1}, {\"ct_district\": 8, \"median_score\": 82.0, \"min_score\": 80, \"max_score\": 89, \"n_projects\": 3}, {\"ct_district\": 9, \"median_score\": 74.0, \"min_score\": 65, \"max_score\": 81, \"n_projects\": 5}, {\"ct_district\": 10, \"median_score\": 72.0, \"min_score\": 68, \"max_score\": 76, \"n_projects\": 3}, {\"ct_district\": 11, \"median_score\": 80.0, \"min_score\": 80, \"max_score\": 80, \"n_projects\": 1}, {\"ct_district\": 12, \"median_score\": 75.0, \"min_score\": 58, \"max_score\": 79, \"n_projects\": 3}]}}, {\"mode\": \"vega-lite\"});\n",
       "</script>"
      ],
      "text/plain": [
       "alt.Chart(...)"
      ]
     },
     "execution_count": 40,
     "metadata": {},
     "output_type": "execute_result"
    }
   ],
   "source": [
    "alt.Chart(agg1, title=\"your_title_here\").mark_bar().encode(\n",
    "    x=\"ct_district\",\n",
    "    y=\"n_projects\",\n",
    "    color=alt.Color(\n",
    "        \"n_projects\",  # This is the column you want the color of your bar to be based on\n",
    "        title=\"legend_title_here\",  # This is the legend of your title\n",
    "        scale=alt.Scale(\n",
    "            range=calitp_color_palette.CALITP_DIVERGING_COLORS\n",
    "        ),  # This is where you can customize the colors,\n",
    "    ),\n",
    ")"
   ]
  },
  {
   "cell_type": "markdown",
   "id": "565ba059-6e2c-4d2b-99a4-665e39c0a0e5",
   "metadata": {},
   "source": [
    "#### Adjusting the Axis"
   ]
  },
  {
   "cell_type": "code",
   "execution_count": 70,
   "id": "868bdb20-e960-4161-8fba-8b0d9a7ba2f4",
   "metadata": {},
   "outputs": [],
   "source": [
    "ct_districts = {\n",
    "    1: \"D1\",\n",
    "    2: \"D2\",\n",
    "    3: \"D3\",\n",
    "    4: \"D4\",\n",
    "    5: \"D5\",\n",
    "    6: \"D6\",\n",
    "    7: \"D7\",\n",
    "    8: \"D8\",\n",
    "    9: \"D9\",\n",
    "    10: \"D10\",\n",
    "    11: \"D11\",\n",
    "    12: \"D12\",\n",
    "}"
   ]
  },
  {
   "cell_type": "code",
   "execution_count": 76,
   "id": "51f2289c-0fcb-4b3e-b1c1-cfa2315d6c35",
   "metadata": {},
   "outputs": [],
   "source": [
    "agg1[\"ct_district\"] = agg1[\"ct_district\"].replace(ct_districts)"
   ]
  },
  {
   "cell_type": "code",
   "execution_count": 81,
   "id": "9832f9fc-53a3-4c5e-ba87-4b346d6f6985",
   "metadata": {},
   "outputs": [
    {
     "data": {
      "text/html": [
       "\n",
       "<style>\n",
       "  #altair-viz-186273afee364514908087f671f5d448.vega-embed {\n",
       "    width: 100%;\n",
       "    display: flex;\n",
       "  }\n",
       "\n",
       "  #altair-viz-186273afee364514908087f671f5d448.vega-embed details,\n",
       "  #altair-viz-186273afee364514908087f671f5d448.vega-embed details summary {\n",
       "    position: relative;\n",
       "  }\n",
       "</style>\n",
       "<div id=\"altair-viz-186273afee364514908087f671f5d448\"></div>\n",
       "<script type=\"text/javascript\">\n",
       "  var VEGA_DEBUG = (typeof VEGA_DEBUG == \"undefined\") ? {} : VEGA_DEBUG;\n",
       "  (function(spec, embedOpt){\n",
       "    let outputDiv = document.currentScript.previousElementSibling;\n",
       "    if (outputDiv.id !== \"altair-viz-186273afee364514908087f671f5d448\") {\n",
       "      outputDiv = document.getElementById(\"altair-viz-186273afee364514908087f671f5d448\");\n",
       "    }\n",
       "    const paths = {\n",
       "      \"vega\": \"https://cdn.jsdelivr.net/npm/vega@5?noext\",\n",
       "      \"vega-lib\": \"https://cdn.jsdelivr.net/npm/vega-lib?noext\",\n",
       "      \"vega-lite\": \"https://cdn.jsdelivr.net/npm/vega-lite@5.14.1?noext\",\n",
       "      \"vega-embed\": \"https://cdn.jsdelivr.net/npm/vega-embed@6?noext\",\n",
       "    };\n",
       "\n",
       "    function maybeLoadScript(lib, version) {\n",
       "      var key = `${lib.replace(\"-\", \"\")}_version`;\n",
       "      return (VEGA_DEBUG[key] == version) ?\n",
       "        Promise.resolve(paths[lib]) :\n",
       "        new Promise(function(resolve, reject) {\n",
       "          var s = document.createElement('script');\n",
       "          document.getElementsByTagName(\"head\")[0].appendChild(s);\n",
       "          s.async = true;\n",
       "          s.onload = () => {\n",
       "            VEGA_DEBUG[key] = version;\n",
       "            return resolve(paths[lib]);\n",
       "          };\n",
       "          s.onerror = () => reject(`Error loading script: ${paths[lib]}`);\n",
       "          s.src = paths[lib];\n",
       "        });\n",
       "    }\n",
       "\n",
       "    function showError(err) {\n",
       "      outputDiv.innerHTML = `<div class=\"error\" style=\"color:red;\">${err}</div>`;\n",
       "      throw err;\n",
       "    }\n",
       "\n",
       "    function displayChart(vegaEmbed) {\n",
       "      vegaEmbed(outputDiv, spec, embedOpt)\n",
       "        .catch(err => showError(`Javascript Error: ${err.message}<br>This usually means there's a typo in your chart specification. See the javascript console for the full traceback.`));\n",
       "    }\n",
       "\n",
       "    if(typeof define === \"function\" && define.amd) {\n",
       "      requirejs.config({paths});\n",
       "      require([\"vega-embed\"], displayChart, err => showError(`Error loading script: ${err.message}`));\n",
       "    } else {\n",
       "      maybeLoadScript(\"vega\", \"5\")\n",
       "        .then(() => maybeLoadScript(\"vega-lite\", \"5.14.1\"))\n",
       "        .then(() => maybeLoadScript(\"vega-embed\", \"6\"))\n",
       "        .catch(showError)\n",
       "        .then(() => displayChart(vegaEmbed));\n",
       "    }\n",
       "  })({\"config\": {\"view\": {\"continuousWidth\": 300, \"continuousHeight\": 300}}, \"data\": {\"name\": \"data-301c1772def9fbab1a6226de718fe867\"}, \"mark\": {\"type\": \"bar\"}, \"encoding\": {\"color\": {\"field\": \"n_projects\", \"scale\": {\"range\": [\"#E16B26\", \"#EB9F3C\", \"#f6e7e1\", \"#8CBCCB\", \"#2EA8CE\", \"#136C97\"]}, \"title\": \"legend_title_here\", \"type\": \"quantitative\"}, \"x\": {\"field\": \"ct_district\", \"type\": \"nominal\"}, \"y\": {\"field\": \"n_projects\", \"scale\": {\"domain\": [0, 5]}, \"type\": \"quantitative\"}}, \"title\": \"your_title_here\", \"$schema\": \"https://vega.github.io/schema/vega-lite/v5.14.1.json\", \"datasets\": {\"data-301c1772def9fbab1a6226de718fe867\": [{\"ct_district\": \"D1\", \"median_score\": 69.0, \"min_score\": 68, \"max_score\": 81, \"n_projects\": 3}, {\"ct_district\": \"D2\", \"median_score\": 60.5, \"min_score\": 55, \"max_score\": 66, \"n_projects\": 2}, {\"ct_district\": \"D3\", \"median_score\": 72.0, \"min_score\": 68, \"max_score\": 74, \"n_projects\": 3}, {\"ct_district\": \"D4\", \"median_score\": 69.0, \"min_score\": 63, \"max_score\": 83, \"n_projects\": 3}, {\"ct_district\": \"D5\", \"median_score\": 73.0, \"min_score\": 73, \"max_score\": 73, \"n_projects\": 1}, {\"ct_district\": \"D6\", \"median_score\": 64.0, \"min_score\": 64, \"max_score\": 64, \"n_projects\": 1}, {\"ct_district\": \"D7\", \"median_score\": 78.0, \"min_score\": 78, \"max_score\": 78, \"n_projects\": 1}, {\"ct_district\": \"D8\", \"median_score\": 82.0, \"min_score\": 80, \"max_score\": 89, \"n_projects\": 3}, {\"ct_district\": \"D9\", \"median_score\": 74.0, \"min_score\": 65, \"max_score\": 81, \"n_projects\": 5}, {\"ct_district\": \"D10\", \"median_score\": 72.0, \"min_score\": 68, \"max_score\": 76, \"n_projects\": 3}, {\"ct_district\": \"D11\", \"median_score\": 80.0, \"min_score\": 80, \"max_score\": 80, \"n_projects\": 1}, {\"ct_district\": \"D12\", \"median_score\": 75.0, \"min_score\": 58, \"max_score\": 79, \"n_projects\": 3}]}}, {\"mode\": \"vega-lite\"});\n",
       "</script>"
      ],
      "text/plain": [
       "alt.Chart(...)"
      ]
     },
     "execution_count": 81,
     "metadata": {},
     "output_type": "execute_result"
    }
   ],
   "source": [
    "alt.Chart(agg1, title=\"your_title_here\").mark_bar().encode(\n",
    "    x=alt.X(\"ct_district\"),\n",
    "    y=alt.Y(\"n_projects\", scale=alt.Scale(domain=[0, 5])),\n",
    "    color=alt.Color(\n",
    "        \"n_projects\",\n",
    "        title=\"legend_title_here\",\n",
    "        scale=alt.Scale(range=calitp_color_palette.CALITP_DIVERGING_COLORS),\n",
    "    ),\n",
    ")"
   ]
  },
  {
   "cell_type": "markdown",
   "id": "1cf6657c-f0ab-4c6f-9f83-f5cf16f84e9e",
   "metadata": {},
   "source": [
    "### Finishing Touches \n",
    "* Sizing\n",
    "* Tooltip\n",
    "* Remapping\n",
    "* Saving"
   ]
  },
  {
   "cell_type": "code",
   "execution_count": 83,
   "id": "94e4c5a4-23a8-4cea-96cf-fd52c57895f2",
   "metadata": {},
   "outputs": [
    {
     "data": {
      "text/html": [
       "\n",
       "<style>\n",
       "  #altair-viz-2c3ac8c65a724373acd11a62029b425d.vega-embed {\n",
       "    width: 100%;\n",
       "    display: flex;\n",
       "  }\n",
       "\n",
       "  #altair-viz-2c3ac8c65a724373acd11a62029b425d.vega-embed details,\n",
       "  #altair-viz-2c3ac8c65a724373acd11a62029b425d.vega-embed details summary {\n",
       "    position: relative;\n",
       "  }\n",
       "</style>\n",
       "<div id=\"altair-viz-2c3ac8c65a724373acd11a62029b425d\"></div>\n",
       "<script type=\"text/javascript\">\n",
       "  var VEGA_DEBUG = (typeof VEGA_DEBUG == \"undefined\") ? {} : VEGA_DEBUG;\n",
       "  (function(spec, embedOpt){\n",
       "    let outputDiv = document.currentScript.previousElementSibling;\n",
       "    if (outputDiv.id !== \"altair-viz-2c3ac8c65a724373acd11a62029b425d\") {\n",
       "      outputDiv = document.getElementById(\"altair-viz-2c3ac8c65a724373acd11a62029b425d\");\n",
       "    }\n",
       "    const paths = {\n",
       "      \"vega\": \"https://cdn.jsdelivr.net/npm/vega@5?noext\",\n",
       "      \"vega-lib\": \"https://cdn.jsdelivr.net/npm/vega-lib?noext\",\n",
       "      \"vega-lite\": \"https://cdn.jsdelivr.net/npm/vega-lite@5.14.1?noext\",\n",
       "      \"vega-embed\": \"https://cdn.jsdelivr.net/npm/vega-embed@6?noext\",\n",
       "    };\n",
       "\n",
       "    function maybeLoadScript(lib, version) {\n",
       "      var key = `${lib.replace(\"-\", \"\")}_version`;\n",
       "      return (VEGA_DEBUG[key] == version) ?\n",
       "        Promise.resolve(paths[lib]) :\n",
       "        new Promise(function(resolve, reject) {\n",
       "          var s = document.createElement('script');\n",
       "          document.getElementsByTagName(\"head\")[0].appendChild(s);\n",
       "          s.async = true;\n",
       "          s.onload = () => {\n",
       "            VEGA_DEBUG[key] = version;\n",
       "            return resolve(paths[lib]);\n",
       "          };\n",
       "          s.onerror = () => reject(`Error loading script: ${paths[lib]}`);\n",
       "          s.src = paths[lib];\n",
       "        });\n",
       "    }\n",
       "\n",
       "    function showError(err) {\n",
       "      outputDiv.innerHTML = `<div class=\"error\" style=\"color:red;\">${err}</div>`;\n",
       "      throw err;\n",
       "    }\n",
       "\n",
       "    function displayChart(vegaEmbed) {\n",
       "      vegaEmbed(outputDiv, spec, embedOpt)\n",
       "        .catch(err => showError(`Javascript Error: ${err.message}<br>This usually means there's a typo in your chart specification. See the javascript console for the full traceback.`));\n",
       "    }\n",
       "\n",
       "    if(typeof define === \"function\" && define.amd) {\n",
       "      requirejs.config({paths});\n",
       "      require([\"vega-embed\"], displayChart, err => showError(`Error loading script: ${err.message}`));\n",
       "    } else {\n",
       "      maybeLoadScript(\"vega\", \"5\")\n",
       "        .then(() => maybeLoadScript(\"vega-lite\", \"5.14.1\"))\n",
       "        .then(() => maybeLoadScript(\"vega-embed\", \"6\"))\n",
       "        .catch(showError)\n",
       "        .then(() => displayChart(vegaEmbed));\n",
       "    }\n",
       "  })({\"config\": {\"view\": {\"continuousWidth\": 300, \"continuousHeight\": 300}}, \"data\": {\"name\": \"data-301c1772def9fbab1a6226de718fe867\"}, \"mark\": {\"type\": \"bar\", \"size\": 20}, \"encoding\": {\"color\": {\"field\": \"n_projects\", \"scale\": {\"range\": [\"#E16B26\", \"#EB9F3C\", \"#f6e7e1\", \"#8CBCCB\", \"#2EA8CE\", \"#136C97\"]}, \"title\": \"legend_title_here\", \"type\": \"quantitative\"}, \"tooltip\": [{\"field\": \"ct_district\", \"type\": \"nominal\"}, {\"field\": \"median_score\", \"type\": \"quantitative\"}, {\"field\": \"min_score\", \"type\": \"quantitative\"}, {\"field\": \"max_score\", \"type\": \"quantitative\"}, {\"field\": \"n_projects\", \"type\": \"quantitative\"}], \"x\": {\"field\": \"ct_district\", \"type\": \"nominal\"}, \"y\": {\"field\": \"n_projects\", \"scale\": {\"domain\": [0, 5]}, \"type\": \"quantitative\"}}, \"height\": 250, \"title\": \"your_title_here\", \"width\": 400, \"$schema\": \"https://vega.github.io/schema/vega-lite/v5.14.1.json\", \"datasets\": {\"data-301c1772def9fbab1a6226de718fe867\": [{\"ct_district\": \"D1\", \"median_score\": 69.0, \"min_score\": 68, \"max_score\": 81, \"n_projects\": 3}, {\"ct_district\": \"D2\", \"median_score\": 60.5, \"min_score\": 55, \"max_score\": 66, \"n_projects\": 2}, {\"ct_district\": \"D3\", \"median_score\": 72.0, \"min_score\": 68, \"max_score\": 74, \"n_projects\": 3}, {\"ct_district\": \"D4\", \"median_score\": 69.0, \"min_score\": 63, \"max_score\": 83, \"n_projects\": 3}, {\"ct_district\": \"D5\", \"median_score\": 73.0, \"min_score\": 73, \"max_score\": 73, \"n_projects\": 1}, {\"ct_district\": \"D6\", \"median_score\": 64.0, \"min_score\": 64, \"max_score\": 64, \"n_projects\": 1}, {\"ct_district\": \"D7\", \"median_score\": 78.0, \"min_score\": 78, \"max_score\": 78, \"n_projects\": 1}, {\"ct_district\": \"D8\", \"median_score\": 82.0, \"min_score\": 80, \"max_score\": 89, \"n_projects\": 3}, {\"ct_district\": \"D9\", \"median_score\": 74.0, \"min_score\": 65, \"max_score\": 81, \"n_projects\": 5}, {\"ct_district\": \"D10\", \"median_score\": 72.0, \"min_score\": 68, \"max_score\": 76, \"n_projects\": 3}, {\"ct_district\": \"D11\", \"median_score\": 80.0, \"min_score\": 80, \"max_score\": 80, \"n_projects\": 1}, {\"ct_district\": \"D12\", \"median_score\": 75.0, \"min_score\": 58, \"max_score\": 79, \"n_projects\": 3}]}}, {\"mode\": \"vega-lite\"});\n",
       "</script>"
      ],
      "text/plain": [
       "alt.Chart(...)"
      ]
     },
     "execution_count": 83,
     "metadata": {},
     "output_type": "execute_result"
    }
   ],
   "source": [
    "alt.Chart(agg1, title=\"your_title_here\").mark_bar(size=20).encode(\n",
    "    x=alt.X(\"ct_district\"),\n",
    "    y=alt.Y(\"n_projects\", scale=alt.Scale(domain=[0, 5])),\n",
    "    color=alt.Color(\n",
    "        \"n_projects\",\n",
    "        title=\"legend_title_here\",\n",
    "        scale=alt.Scale(range=calitp_color_palette.CALITP_DIVERGING_COLORS),\n",
    "    ),\n",
    "    tooltip=list(agg1.columns),\n",
    ").properties(width=400, height=250)"
   ]
  },
  {
   "cell_type": "markdown",
   "id": "281e37d9-8ece-471d-abc2-38e4ad9f9e83",
   "metadata": {},
   "source": [
    "### We have only visualized one column of data. \n",
    "* There are still a few more columns. Make a couple of other charts using your code above. "
   ]
  },
  {
   "cell_type": "markdown",
   "id": "444b6ef0-23cc-459f-977d-a62adcd96070",
   "metadata": {
    "tags": []
   },
   "source": [
    "### Save your work"
   ]
  }
 ],
 "metadata": {
  "kernelspec": {
   "display_name": "Python 3 (ipykernel)",
   "language": "python",
   "name": "python3"
  },
  "language_info": {
   "codemirror_mode": {
    "name": "ipython",
    "version": 3
   },
   "file_extension": ".py",
   "mimetype": "text/x-python",
   "name": "python",
   "nbconvert_exporter": "python",
   "pygments_lexer": "ipython3",
   "version": "3.9.13"
  }
 },
 "nbformat": 4,
 "nbformat_minor": 5
}
