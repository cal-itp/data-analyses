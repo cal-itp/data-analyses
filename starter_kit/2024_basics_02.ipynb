{
 "cells": [
  {
   "cell_type": "markdown",
   "id": "685c09c1-4d11-42a8-a213-8267137eede8",
   "metadata": {},
   "source": [
    "# Exercise 2: Merging, Aggregating, Filtering, and Visualizing"
   ]
  },
  {
   "cell_type": "code",
   "execution_count": 1,
   "id": "6cbbfb96-1e9e-400a-9884-72f08d1191f3",
   "metadata": {},
   "outputs": [],
   "source": [
    "import altair as alt\n",
    "import pandas as pd\n",
    "from calitp_data_analysis.sql import to_snakecase"
   ]
  },
  {
   "cell_type": "code",
   "execution_count": 2,
   "id": "3da62b06-24b4-4791-a073-185ee3765152",
   "metadata": {},
   "outputs": [],
   "source": [
    "pd.options.display.max_columns = 100\n",
    "pd.options.display.float_format = \"{:.2f}\".format\n",
    "pd.set_option(\"display.max_rows\", None)\n",
    "pd.set_option(\"display.max_colwidth\", None)"
   ]
  },
  {
   "cell_type": "markdown",
   "id": "616f1aed-d082-4e49-8eae-5c3acf87155f",
   "metadata": {},
   "source": [
    "* Read back in the `parquet` file with the `overall_score` you created from exercise 1.\n",
    "* Read the Excel sheet containing the project information (scope of work, district, and project name).\n",
    "* **Use f-strings.**"
   ]
  },
  {
   "cell_type": "code",
   "execution_count": 3,
   "id": "e7e4cafe-eb24-477b-a45c-88bfcaff37f3",
   "metadata": {},
   "outputs": [],
   "source": [
    "GCS_FILE_PATH = \"gs://calitp-analytics-data/data-analyses/starter_kit/\""
   ]
  },
  {
   "cell_type": "code",
   "execution_count": 4,
   "id": "2c4af22f-91ac-4e03-8b80-2121adc9a348",
   "metadata": {},
   "outputs": [],
   "source": [
    "EXCEL_FILE = \"starter_kit_csis_scoring_workbook.xlsx\""
   ]
  },
  {
   "cell_type": "code",
   "execution_count": 5,
   "id": "873bfb72-9b47-472c-a18b-248be7f8c694",
   "metadata": {},
   "outputs": [],
   "source": [
    "OVERALL_SCORE_FILE = \"starter_kit_example_final_scores.parquet\""
   ]
  },
  {
   "cell_type": "code",
   "execution_count": 6,
   "id": "6cf0c667-b81a-430f-afb8-68f4e0f0a147",
   "metadata": {},
   "outputs": [],
   "source": [
    "projects_df = to_snakecase(pd.read_excel(f\"{GCS_FILE_PATH}{EXCEL_FILE}\"))"
   ]
  },
  {
   "cell_type": "code",
   "execution_count": 7,
   "id": "7de4e3b1-15bb-4f37-a392-36c3c0d3e39d",
   "metadata": {},
   "outputs": [
    {
     "data": {
      "text/html": [
       "<div>\n",
       "<style scoped>\n",
       "    .dataframe tbody tr th:only-of-type {\n",
       "        vertical-align: middle;\n",
       "    }\n",
       "\n",
       "    .dataframe tbody tr th {\n",
       "        vertical-align: top;\n",
       "    }\n",
       "\n",
       "    .dataframe thead th {\n",
       "        text-align: right;\n",
       "    }\n",
       "</style>\n",
       "<table border=\"1\" class=\"dataframe\">\n",
       "  <thead>\n",
       "    <tr style=\"text-align: right;\">\n",
       "      <th></th>\n",
       "      <th>ct_district</th>\n",
       "      <th>project_name</th>\n",
       "      <th>scope_of_work</th>\n",
       "      <th>project_cost</th>\n",
       "      <th>lead_agency</th>\n",
       "    </tr>\n",
       "  </thead>\n",
       "  <tbody>\n",
       "    <tr>\n",
       "      <th>0</th>\n",
       "      <td>1</td>\n",
       "      <td>Meadow Magic Multi-Use Path</td>\n",
       "      <td>A 2-mile Class I bike lane and multi-use path through a scenic meadow, featuring wildflower plantings, public art installations, and educational signage highlighting local wildlife.</td>\n",
       "      <td>5245734</td>\n",
       "      <td>Meadow Bunny Public Transportation (MBPT)</td>\n",
       "    </tr>\n",
       "    <tr>\n",
       "      <th>1</th>\n",
       "      <td>4</td>\n",
       "      <td>Bunny Hop Bike Boulevard</td>\n",
       "      <td>A Class II bike lane with charming streetlights, benches, and bike racks designed to resemble carrot sticks, connecting residential neighborhoods to local schools and parks.</td>\n",
       "      <td>6929368</td>\n",
       "      <td>Unicorn Fairy Express Bus (UFX)</td>\n",
       "    </tr>\n",
       "  </tbody>\n",
       "</table>\n",
       "</div>"
      ],
      "text/plain": [
       "   ct_district                 project_name  \\\n",
       "0            1  Meadow Magic Multi-Use Path   \n",
       "1            4     Bunny Hop Bike Boulevard   \n",
       "\n",
       "                                                                                                                                                                            scope_of_work  \\\n",
       "0   A 2-mile Class I bike lane and multi-use path through a scenic meadow, featuring wildflower plantings, public art installations, and educational signage highlighting local wildlife.   \n",
       "1           A Class II bike lane with charming streetlights, benches, and bike racks designed to resemble carrot sticks, connecting residential neighborhoods to local schools and parks.   \n",
       "\n",
       "   project_cost                                lead_agency  \n",
       "0       5245734  Meadow Bunny Public Transportation (MBPT)  \n",
       "1       6929368            Unicorn Fairy Express Bus (UFX)  "
      ]
     },
     "execution_count": 7,
     "metadata": {},
     "output_type": "execute_result"
    }
   ],
   "source": [
    "projects_df.head(2)"
   ]
  },
  {
   "cell_type": "code",
   "execution_count": 8,
   "id": "8a5e10d5-f978-408d-87d9-05f930038a47",
   "metadata": {},
   "outputs": [],
   "source": [
    "overall_scores_df = pd.read_parquet(f\"{GCS_FILE_PATH}{OVERALL_SCORE_FILE}\")"
   ]
  },
  {
   "cell_type": "code",
   "execution_count": 9,
   "id": "898592ba-7655-41c9-a982-251491bd9083",
   "metadata": {},
   "outputs": [
    {
     "data": {
      "text/html": [
       "<div>\n",
       "<style scoped>\n",
       "    .dataframe tbody tr th:only-of-type {\n",
       "        vertical-align: middle;\n",
       "    }\n",
       "\n",
       "    .dataframe tbody tr th {\n",
       "        vertical-align: top;\n",
       "    }\n",
       "\n",
       "    .dataframe thead th {\n",
       "        text-align: right;\n",
       "    }\n",
       "</style>\n",
       "<table border=\"1\" class=\"dataframe\">\n",
       "  <thead>\n",
       "    <tr style=\"text-align: right;\">\n",
       "      <th></th>\n",
       "      <th>project_name</th>\n",
       "      <th>accessibility_score</th>\n",
       "      <th>dac_accessibility_score</th>\n",
       "      <th>dac_traffic_impacts_score</th>\n",
       "      <th>freight_efficiency_score</th>\n",
       "      <th>freight_sustainability_score</th>\n",
       "      <th>mode_shift_score</th>\n",
       "      <th>lu_natural_resources_score</th>\n",
       "      <th>safety_score</th>\n",
       "      <th>vmt_score</th>\n",
       "      <th>zev_score</th>\n",
       "      <th>public_engagement_score</th>\n",
       "      <th>climate_resilience_score</th>\n",
       "      <th>program_fit_score</th>\n",
       "      <th>overall_score</th>\n",
       "    </tr>\n",
       "  </thead>\n",
       "  <tbody>\n",
       "    <tr>\n",
       "      <th>0</th>\n",
       "      <td>Meadow Magic Multi-Use Path</td>\n",
       "      <td>2</td>\n",
       "      <td>8</td>\n",
       "      <td>8</td>\n",
       "      <td>10</td>\n",
       "      <td>2</td>\n",
       "      <td>3</td>\n",
       "      <td>5</td>\n",
       "      <td>3</td>\n",
       "      <td>2</td>\n",
       "      <td>7</td>\n",
       "      <td>6</td>\n",
       "      <td>6</td>\n",
       "      <td>10</td>\n",
       "      <td>72</td>\n",
       "    </tr>\n",
       "    <tr>\n",
       "      <th>1</th>\n",
       "      <td>Bunny Hop Bike Boulevard</td>\n",
       "      <td>3</td>\n",
       "      <td>9</td>\n",
       "      <td>7</td>\n",
       "      <td>6</td>\n",
       "      <td>7</td>\n",
       "      <td>6</td>\n",
       "      <td>3</td>\n",
       "      <td>2</td>\n",
       "      <td>2</td>\n",
       "      <td>10</td>\n",
       "      <td>2</td>\n",
       "      <td>6</td>\n",
       "      <td>5</td>\n",
       "      <td>68</td>\n",
       "    </tr>\n",
       "  </tbody>\n",
       "</table>\n",
       "</div>"
      ],
      "text/plain": [
       "                  project_name  accessibility_score  dac_accessibility_score  \\\n",
       "0  Meadow Magic Multi-Use Path                    2                        8   \n",
       "1     Bunny Hop Bike Boulevard                    3                        9   \n",
       "\n",
       "   dac_traffic_impacts_score  freight_efficiency_score  \\\n",
       "0                          8                        10   \n",
       "1                          7                         6   \n",
       "\n",
       "   freight_sustainability_score  mode_shift_score  lu_natural_resources_score  \\\n",
       "0                             2                 3                           5   \n",
       "1                             7                 6                           3   \n",
       "\n",
       "   safety_score  vmt_score  zev_score  public_engagement_score  \\\n",
       "0             3          2          7                        6   \n",
       "1             2          2         10                        2   \n",
       "\n",
       "   climate_resilience_score  program_fit_score  overall_score  \n",
       "0                         6                 10             72  \n",
       "1                         6                  5             68  "
      ]
     },
     "execution_count": 9,
     "metadata": {},
     "output_type": "execute_result"
    }
   ],
   "source": [
    "overall_scores_df.head(2)"
   ]
  },
  {
   "cell_type": "markdown",
   "id": "4c2dd160-ec10-41ce-b5c0-a9be5934d6ee",
   "metadata": {},
   "source": [
    "## Merging \n",
    "* **Goal**: Your manager asks you to aggregate the dataframe by the Caltrans District grain to find\n",
    "    * Median overall score\n",
    "    * Max overall score \n",
    "    * Min overall score\n",
    "    * Number of unique projects\n",
    "* Annoyingly enough, the `overall_score` column and the `ct_district` are in two different dataframes. \n",
    "* You'll have to <b>merge</b> it on the common column(s) the two dataframes share.\n",
    "* Welcome to DDS! This will happen to you all the time starting now. \n",
    "\n",
    "### Relevant Resources\n",
    "* Read about and practice merges before diving in. \n",
    "    * [Resource #1 is a great tutorial for beginners](https://www.practicalpythonfordatascience.com/03_cleaning_data.html?highlight=merge#merging-dataframes-together).\n",
    "    * [Resource #2 is written by our own Tiffany Ku, but it contains some geospatial references so it's a bit more to digest](https://docs.calitp.org/data-infra/analytics_new_analysts/01-data-analysis-intro.html#merge-tabular-and-geospatial-data-for-data-analysis).\n",
    "    "
   ]
  },
  {
   "cell_type": "code",
   "execution_count": 10,
   "id": "2d356494-a12a-4f67-beb3-b6ba92c8135f",
   "metadata": {},
   "outputs": [],
   "source": [
    "# Practice Here"
   ]
  },
  {
   "cell_type": "markdown",
   "id": "e60cf03f-6de0-4b30-b879-080c9ab7a22f",
   "metadata": {},
   "source": [
    "### Now merge your two CSIS dataframes\n",
    "**Food for Thought**\n",
    "* Which columns do the two dataframes have in common?\n",
    "* What type of merge will achieve my goal?\n",
    "    * Inner, outer, left, or right\n",
    "* What do I expect out of the merge?\n",
    "    * Do I expect all the values of the merge keys to be 1:1? Or m:1? \n",
    "    * Do I expect a project to correspond with multiple districts? Maybe, projects can and do cross multiple boundaries.\n",
    "    * Do I expect a project to correspond with only one total cost estimate value? Yes, there shouldn't be multiple cost estimates for the same project!\n",
    "* How do I go about checking the data after the merge?\n",
    "    * Which arguments are available to help me per the [docs](https://pandas.pydata.org/pandas-docs/stable/reference/api/pandas.DataFrame.merge.html)?"
   ]
  },
  {
   "cell_type": "markdown",
   "id": "8ddf0077-061c-4d67-8881-36c9792d6e62",
   "metadata": {},
   "source": [
    "### Double Checking\n",
    "* How many rows do you expect?\n",
    "* How many unique projects are there? \n",
    "* <b>Hint</b>: check your original dataframes as well"
   ]
  },
  {
   "cell_type": "code",
   "execution_count": 11,
   "id": "ad4962ca-ed83-48a3-b1e6-79e5d5b1042b",
   "metadata": {},
   "outputs": [],
   "source": [
    "m1 = pd.merge(projects_df, overall_scores_df, on=[\"project_name\"])"
   ]
  },
  {
   "cell_type": "code",
   "execution_count": 12,
   "id": "e820d7af-17d4-4b2a-8007-5d958a3f7d9e",
   "metadata": {},
   "outputs": [
    {
     "data": {
      "text/plain": [
       "(41, 19)"
      ]
     },
     "execution_count": 12,
     "metadata": {},
     "output_type": "execute_result"
    }
   ],
   "source": [
    "m1.shape"
   ]
  },
  {
   "cell_type": "code",
   "execution_count": 13,
   "id": "3642de14-3bf4-47c0-bd80-3502819ea14d",
   "metadata": {},
   "outputs": [
    {
     "data": {
      "text/plain": [
       "41"
      ]
     },
     "execution_count": 13,
     "metadata": {},
     "output_type": "execute_result"
    }
   ],
   "source": [
    "m1.project_name.nunique()"
   ]
  },
  {
   "cell_type": "code",
   "execution_count": 14,
   "id": "4b5be67a-f579-4f22-97cb-b6b31d7b8433",
   "metadata": {},
   "outputs": [
    {
     "data": {
      "text/plain": [
       "44"
      ]
     },
     "execution_count": 14,
     "metadata": {},
     "output_type": "execute_result"
    }
   ],
   "source": [
    "projects_df.project_name.nunique()"
   ]
  },
  {
   "cell_type": "markdown",
   "id": "94e866f0-bc46-43d3-92b7-dce71dc31c02",
   "metadata": {},
   "source": [
    "### The Beauty of Outer Joins \n",
    "* As you have noticed, we are missing a couple of projects.\n",
    "* This is where `outer` joins are very useful.\n",
    "* Merge your dataframes again using an `outer` join and with `indicator = True` on.\n",
    "* Using `.value_counts()` check out how many rows are found in both dataframes, the left only, and the right only"
   ]
  },
  {
   "cell_type": "code",
   "execution_count": 15,
   "id": "98e92c3f-ccd4-45f8-b6a6-523ddcb4a7ac",
   "metadata": {},
   "outputs": [],
   "source": [
    "m2 = pd.merge(\n",
    "    projects_df, overall_scores_df, on=[\"project_name\"], indicator=True, how=\"outer\"\n",
    ")"
   ]
  },
  {
   "cell_type": "code",
   "execution_count": 16,
   "id": "f134cddf-5220-44f9-9e15-1c5171cbedfd",
   "metadata": {},
   "outputs": [
    {
     "data": {
      "text/plain": [
       "both          41\n",
       "left_only      3\n",
       "right_only     3\n",
       "Name: _merge, dtype: int64"
      ]
     },
     "execution_count": 16,
     "metadata": {},
     "output_type": "execute_result"
    }
   ],
   "source": [
    "m2._merge.value_counts()"
   ]
  },
  {
   "cell_type": "markdown",
   "id": "aa04599b-805e-4813-ab1a-c4b9fe77cc9e",
   "metadata": {},
   "source": [
    "### Filtering\n",
    "* Filter out for only the `left_only` and `right_only` values.\n",
    "    * `!=` means does not equal to. \n",
    "    * `==` means equal to."
   ]
  },
  {
   "cell_type": "code",
   "execution_count": 17,
   "id": "4dd07bab-4d1b-41a0-954e-4c2d59584e57",
   "metadata": {},
   "outputs": [
    {
     "data": {
      "text/html": [
       "<div>\n",
       "<style scoped>\n",
       "    .dataframe tbody tr th:only-of-type {\n",
       "        vertical-align: middle;\n",
       "    }\n",
       "\n",
       "    .dataframe tbody tr th {\n",
       "        vertical-align: top;\n",
       "    }\n",
       "\n",
       "    .dataframe thead th {\n",
       "        text-align: right;\n",
       "    }\n",
       "</style>\n",
       "<table border=\"1\" class=\"dataframe\">\n",
       "  <thead>\n",
       "    <tr style=\"text-align: right;\">\n",
       "      <th></th>\n",
       "      <th>project_name</th>\n",
       "      <th>_merge</th>\n",
       "    </tr>\n",
       "  </thead>\n",
       "  <tbody>\n",
       "    <tr>\n",
       "      <th>10</th>\n",
       "      <td>Rainbow Rush hot  Lanes</td>\n",
       "      <td>left_only</td>\n",
       "    </tr>\n",
       "    <tr>\n",
       "      <th>12</th>\n",
       "      <td>Bunny Lane HOV+2 heaven</td>\n",
       "      <td>left_only</td>\n",
       "    </tr>\n",
       "    <tr>\n",
       "      <th>26</th>\n",
       "      <td>main street muffin top</td>\n",
       "      <td>left_only</td>\n",
       "    </tr>\n",
       "    <tr>\n",
       "      <th>44</th>\n",
       "      <td>Rainbow Rush HOT Lanes</td>\n",
       "      <td>right_only</td>\n",
       "    </tr>\n",
       "    <tr>\n",
       "      <th>45</th>\n",
       "      <td>Bunny Lane HOV+2 Haven</td>\n",
       "      <td>right_only</td>\n",
       "    </tr>\n",
       "    <tr>\n",
       "      <th>46</th>\n",
       "      <td>Main Street Muffin Top Revitalization</td>\n",
       "      <td>right_only</td>\n",
       "    </tr>\n",
       "  </tbody>\n",
       "</table>\n",
       "</div>"
      ],
      "text/plain": [
       "                             project_name      _merge\n",
       "10                Rainbow Rush hot  Lanes   left_only\n",
       "12                Bunny Lane HOV+2 heaven   left_only\n",
       "26                main street muffin top    left_only\n",
       "44                 Rainbow Rush HOT Lanes  right_only\n",
       "45                 Bunny Lane HOV+2 Haven  right_only\n",
       "46  Main Street Muffin Top Revitalization  right_only"
      ]
     },
     "execution_count": 17,
     "metadata": {},
     "output_type": "execute_result"
    }
   ],
   "source": [
    "m2.loc[m2._merge != \"both\"][[\"project_name\", \"_merge\"]]"
   ]
  },
  {
   "cell_type": "markdown",
   "id": "044330d9-8562-4510-ae62-268f240ec3bc",
   "metadata": {},
   "source": [
    "* You could also use `isin([list of elements you want to keep])`"
   ]
  },
  {
   "cell_type": "code",
   "execution_count": 18,
   "id": "c47ef38d-6db5-4bf1-bd87-62b7d84943b6",
   "metadata": {},
   "outputs": [
    {
     "data": {
      "text/html": [
       "<div>\n",
       "<style scoped>\n",
       "    .dataframe tbody tr th:only-of-type {\n",
       "        vertical-align: middle;\n",
       "    }\n",
       "\n",
       "    .dataframe tbody tr th {\n",
       "        vertical-align: top;\n",
       "    }\n",
       "\n",
       "    .dataframe thead th {\n",
       "        text-align: right;\n",
       "    }\n",
       "</style>\n",
       "<table border=\"1\" class=\"dataframe\">\n",
       "  <thead>\n",
       "    <tr style=\"text-align: right;\">\n",
       "      <th></th>\n",
       "      <th>project_name</th>\n",
       "      <th>_merge</th>\n",
       "    </tr>\n",
       "  </thead>\n",
       "  <tbody>\n",
       "    <tr>\n",
       "      <th>10</th>\n",
       "      <td>Rainbow Rush hot  Lanes</td>\n",
       "      <td>left_only</td>\n",
       "    </tr>\n",
       "    <tr>\n",
       "      <th>12</th>\n",
       "      <td>Bunny Lane HOV+2 heaven</td>\n",
       "      <td>left_only</td>\n",
       "    </tr>\n",
       "    <tr>\n",
       "      <th>26</th>\n",
       "      <td>main street muffin top</td>\n",
       "      <td>left_only</td>\n",
       "    </tr>\n",
       "    <tr>\n",
       "      <th>44</th>\n",
       "      <td>Rainbow Rush HOT Lanes</td>\n",
       "      <td>right_only</td>\n",
       "    </tr>\n",
       "    <tr>\n",
       "      <th>45</th>\n",
       "      <td>Bunny Lane HOV+2 Haven</td>\n",
       "      <td>right_only</td>\n",
       "    </tr>\n",
       "    <tr>\n",
       "      <th>46</th>\n",
       "      <td>Main Street Muffin Top Revitalization</td>\n",
       "      <td>right_only</td>\n",
       "    </tr>\n",
       "  </tbody>\n",
       "</table>\n",
       "</div>"
      ],
      "text/plain": [
       "                             project_name      _merge\n",
       "10                Rainbow Rush hot  Lanes   left_only\n",
       "12                Bunny Lane HOV+2 heaven   left_only\n",
       "26                main street muffin top    left_only\n",
       "44                 Rainbow Rush HOT Lanes  right_only\n",
       "45                 Bunny Lane HOV+2 Haven  right_only\n",
       "46  Main Street Muffin Top Revitalization  right_only"
      ]
     },
     "execution_count": 18,
     "metadata": {},
     "output_type": "execute_result"
    }
   ],
   "source": [
    "m2.loc[m2._merge.isin([\"left_only\",\"right_only\"])][[\"project_name\", \"_merge\"]]"
   ]
  },
  {
   "cell_type": "markdown",
   "id": "1c2b7437-f767-497c-a53a-26aeef9a3b0f",
   "metadata": {},
   "source": [
    "* If you want to filter out multiple elements use `~df.column.isin([list of elements you don't want to keep])`"
   ]
  },
  {
   "cell_type": "code",
   "execution_count": 19,
   "id": "09ff3055-29ee-4ea1-a164-5d4796aa1807",
   "metadata": {},
   "outputs": [
    {
     "data": {
      "text/plain": [
       "(41, 20)"
      ]
     },
     "execution_count": 19,
     "metadata": {},
     "output_type": "execute_result"
    }
   ],
   "source": [
    "m2.loc[~m2._merge.isin([\"left_only\",\"right_only\"])].shape"
   ]
  },
  {
   "cell_type": "markdown",
   "id": "e0a6bd58-734e-4f96-b150-9a53bef7d1aa",
   "metadata": {},
   "source": [
    "### Dictionaries\n",
    "* String data is often entered in many different ways. \n",
    "    * BART can be entered in as bart, Bay Area Rapid Transit, BaRT, and more. \n",
    "* Often, strings are the reason why your dataframe is not merging properly.\n",
    "* In Excel, it's easy to go in and manually tweak everything. However, that is not reproducible and time consuming. \n",
    "* Luckily with Python we can automate this. \n",
    "* Since there are a couple of names to replace, we can do it using a <b>dictionary</b>.\n",
    "\n",
    "#### What is a dictionary?\n",
    "* Per Practical Python for Data Science, a dictionary is <i>Dictionaries are used to store data values in key:value pairs. Similar to the list, a dictionary is a collection of objects. It is also mutable, meaning that you can add, remove, change values inside of it...With the list, we access elements using the index. With the dictionary, we access elements using keys.</i>.\n",
    "* Dictionaries are very important. \n",
    "* Read more [here](https://www.practicalpythonfordatascience.com/00_python_crash_course_datatypes.html?highlight=dictionary#dictionary) and **follow its example in the cells below.**\n",
    "    "
   ]
  },
  {
   "cell_type": "code",
   "execution_count": 20,
   "id": "df6fa95e-cc25-4142-8c2b-ee254863e609",
   "metadata": {},
   "outputs": [],
   "source": [
    "# Practice Here"
   ]
  },
  {
   "cell_type": "markdown",
   "id": "76e42f11-fdcb-48f3-8951-2f2cea0384c0",
   "metadata": {},
   "source": [
    "#### Replacing Values\n",
    "* [Resource](https://www.practicalpythonfordatascience.com/03_cleaning_data#recoding-column-values)\n",
    "* **Step 1**: Filter out for the rows that <b>didn't</b> merge. Find the unique values of the `project_name` column using `.unique()`\n",
    "* Take a look at elements using \n",
    "    * Trailing white spaces\n",
    "    * Capitalization\n",
    "    * Spelling\n",
    "    * Symbols"
   ]
  },
  {
   "cell_type": "code",
   "execution_count": 21,
   "id": "5601fd36-d221-41da-ab76-b88c616e5e62",
   "metadata": {},
   "outputs": [
    {
     "data": {
      "text/plain": [
       "array(['Rainbow Rush hot  Lanes', 'Bunny Lane HOV+2 heaven',\n",
       "       'main street muffin top ', 'Rainbow Rush HOT Lanes',\n",
       "       'Bunny Lane HOV+2 Haven', 'Main Street Muffin Top Revitalization'],\n",
       "      dtype=object)"
      ]
     },
     "execution_count": 21,
     "metadata": {},
     "output_type": "execute_result"
    }
   ],
   "source": [
    "m2.loc[m2._merge.isin([\"left_only\",\"right_only\"])].project_name.unique()"
   ]
  },
  {
   "cell_type": "markdown",
   "id": "21f38614-3b49-45fd-97f6-7161a59ab367",
   "metadata": {},
   "source": [
    "* **Step 2:** Decide whether you want to rename the values in the left dataframe or the right one. \n",
    "* **Step 3:** The <b>keys</b>, are the values you want to replace. The <b>values</b>, are what you want to replace these values with. "
   ]
  },
  {
   "cell_type": "code",
   "execution_count": 22,
   "id": "9dad92fe-87a6-434d-a62f-d269f3ad1054",
   "metadata": {},
   "outputs": [],
   "source": [
    "new_names = {\n",
    "    \"main street muffin top \": \"Main Street Muffin Top Revitalization\",\n",
    "    \"Bunny Lane HOV+2 heaven\": \"Bunny Lane HOV+2 Haven\",\n",
    "    \"Rainbow Rush hot  Lanes\": \"Rainbow Rush HOT Lanes\",\n",
    "}"
   ]
  },
  {
   "cell_type": "markdown",
   "id": "abe24864-66bd-4ce4-bb46-38a13c8bb64a",
   "metadata": {},
   "source": [
    "* **Step 4**: Use your dictionary in `.replace()` to recode the values."
   ]
  },
  {
   "cell_type": "code",
   "execution_count": 23,
   "id": "d8532992-771e-446a-b419-55ad757ff45f",
   "metadata": {},
   "outputs": [],
   "source": [
    "projects_df.project_name = projects_df.project_name.replace(new_names)"
   ]
  },
  {
   "cell_type": "markdown",
   "id": "68562b10-b9bd-4892-8780-a66cad1a06d4",
   "metadata": {},
   "source": [
    "#### Merge your dataframes again. This time the number of unique project names should match the rows of the merged dataframe perfectly."
   ]
  },
  {
   "cell_type": "code",
   "execution_count": 24,
   "id": "db09aa04-7a94-4b94-9ade-10b1a987e006",
   "metadata": {},
   "outputs": [],
   "source": [
    "final_m = pd.merge(projects_df, overall_scores_df, how=\"inner\", on=\"project_name\")"
   ]
  },
  {
   "cell_type": "markdown",
   "id": "144aa8a8-df59-418a-a0c7-4dbc3537c68f",
   "metadata": {},
   "source": [
    "* You can check if two values are equal using `==`."
   ]
  },
  {
   "cell_type": "code",
   "execution_count": 25,
   "id": "04f4f6d8-55b6-460c-8a52-8626dcfd1cb9",
   "metadata": {},
   "outputs": [
    {
     "data": {
      "text/plain": [
       "True"
      ]
     },
     "execution_count": 25,
     "metadata": {},
     "output_type": "execute_result"
    }
   ],
   "source": [
    "len(final_m) == final_m.project_name.nunique()"
   ]
  },
  {
   "cell_type": "code",
   "execution_count": 26,
   "id": "39d74f54-a72b-4acc-91b0-b3dcb4539a92",
   "metadata": {},
   "outputs": [
    {
     "data": {
      "text/html": [
       "<div>\n",
       "<style scoped>\n",
       "    .dataframe tbody tr th:only-of-type {\n",
       "        vertical-align: middle;\n",
       "    }\n",
       "\n",
       "    .dataframe tbody tr th {\n",
       "        vertical-align: top;\n",
       "    }\n",
       "\n",
       "    .dataframe thead th {\n",
       "        text-align: right;\n",
       "    }\n",
       "</style>\n",
       "<table border=\"1\" class=\"dataframe\">\n",
       "  <thead>\n",
       "    <tr style=\"text-align: right;\">\n",
       "      <th></th>\n",
       "      <th>ct_district</th>\n",
       "      <th>project_name</th>\n",
       "      <th>scope_of_work</th>\n",
       "      <th>project_cost</th>\n",
       "      <th>lead_agency</th>\n",
       "      <th>accessibility_score</th>\n",
       "      <th>dac_accessibility_score</th>\n",
       "      <th>dac_traffic_impacts_score</th>\n",
       "      <th>freight_efficiency_score</th>\n",
       "      <th>freight_sustainability_score</th>\n",
       "      <th>mode_shift_score</th>\n",
       "      <th>lu_natural_resources_score</th>\n",
       "      <th>safety_score</th>\n",
       "      <th>vmt_score</th>\n",
       "      <th>zev_score</th>\n",
       "      <th>public_engagement_score</th>\n",
       "      <th>climate_resilience_score</th>\n",
       "      <th>program_fit_score</th>\n",
       "      <th>overall_score</th>\n",
       "    </tr>\n",
       "  </thead>\n",
       "  <tbody>\n",
       "    <tr>\n",
       "      <th>0</th>\n",
       "      <td>1</td>\n",
       "      <td>Meadow Magic Multi-Use Path</td>\n",
       "      <td>A 2-mile Class I bike lane and multi-use path through a scenic meadow, featuring wildflower plantings, public art installations, and educational signage highlighting local wildlife.</td>\n",
       "      <td>5245734</td>\n",
       "      <td>Meadow Bunny Public Transportation (MBPT)</td>\n",
       "      <td>2</td>\n",
       "      <td>8</td>\n",
       "      <td>8</td>\n",
       "      <td>10</td>\n",
       "      <td>2</td>\n",
       "      <td>3</td>\n",
       "      <td>5</td>\n",
       "      <td>3</td>\n",
       "      <td>2</td>\n",
       "      <td>7</td>\n",
       "      <td>6</td>\n",
       "      <td>6</td>\n",
       "      <td>10</td>\n",
       "      <td>72</td>\n",
       "    </tr>\n",
       "  </tbody>\n",
       "</table>\n",
       "</div>"
      ],
      "text/plain": [
       "   ct_district                 project_name  \\\n",
       "0            1  Meadow Magic Multi-Use Path   \n",
       "\n",
       "                                                                                                                                                                            scope_of_work  \\\n",
       "0   A 2-mile Class I bike lane and multi-use path through a scenic meadow, featuring wildflower plantings, public art installations, and educational signage highlighting local wildlife.   \n",
       "\n",
       "   project_cost                                lead_agency  \\\n",
       "0       5245734  Meadow Bunny Public Transportation (MBPT)   \n",
       "\n",
       "   accessibility_score  dac_accessibility_score  dac_traffic_impacts_score  \\\n",
       "0                    2                        8                          8   \n",
       "\n",
       "   freight_efficiency_score  freight_sustainability_score  mode_shift_score  \\\n",
       "0                        10                             2                 3   \n",
       "\n",
       "   lu_natural_resources_score  safety_score  vmt_score  zev_score  \\\n",
       "0                           5             3          2          7   \n",
       "\n",
       "   public_engagement_score  climate_resilience_score  program_fit_score  \\\n",
       "0                        6                         6                 10   \n",
       "\n",
       "   overall_score  \n",
       "0             72  "
      ]
     },
     "execution_count": 26,
     "metadata": {},
     "output_type": "execute_result"
    }
   ],
   "source": [
    "final_m.head(1)"
   ]
  },
  {
   "cell_type": "markdown",
   "id": "3965dc2d-9603-4a95-a1fd-ef0b7a80eaaa",
   "metadata": {},
   "source": [
    "#### Save this dataframe as a parquet to GCS under a new name\n",
    "* Use a `f-string`"
   ]
  },
  {
   "cell_type": "code",
   "execution_count": 27,
   "id": "70410a43-62c9-467c-b777-3415f22abe01",
   "metadata": {},
   "outputs": [],
   "source": [
    "\n",
    "final_m.to_parquet(f\"{GCS_FILE_PATH}starter_kit_example_merge.parquet\")"
   ]
  },
  {
   "cell_type": "markdown",
   "id": "8231c525-ec3a-4e91-b378-1ca51a5f4de8",
   "metadata": {},
   "source": [
    "## Groupby\n",
    "* You're done merging...Oh wait, that wasn't even part of your manager's request. You still need to aggregate. \n",
    "* The refresh your memory by Caltrans District to find\n",
    "    * Median overall score\n",
    "    * Max overall score \n",
    "    * Min overall score\n",
    "    * Number of unique projects\n",
    "* There are many options Some are `groupby / agg`, `pivot_table`, `groupby / transform`\n",
    "* <b>Resource</b>: Use the space below to explore this example.\n",
    "    * [DDS Docs](https://docs.calitp.org/data-infra/analytics_new_analysts/01-data-analysis-intro.html#aggregating)"
   ]
  },
  {
   "cell_type": "code",
   "execution_count": 28,
   "id": "02f34bdf-3c17-4674-bdf0-f9982e7fac0a",
   "metadata": {},
   "outputs": [],
   "source": [
    "# Practice tutorial here"
   ]
  },
  {
   "cell_type": "markdown",
   "id": "849f8fc8-b356-4169-9398-dafd72956afe",
   "metadata": {},
   "source": [
    "### Apply your new knowledge to the prompt above.\n",
    "* Hint: After aggregating, your column name will no longer be relevant. For example, if you use `scope_of_work` to count the number of projects, this column no longer represents `scope_of_work`. It should be renamed something like `n_projects`.\n",
    "    * Rename your columns using this `df.rename(columns={\"old_column_name\":\"new_column_name\"})`"
   ]
  },
  {
   "cell_type": "code",
   "execution_count": 29,
   "id": "7328fcf2-ea52-46b8-8624-a7f3f39428df",
   "metadata": {},
   "outputs": [],
   "source": [
    "final_m[\"min_score\"] = final_m.overall_score"
   ]
  },
  {
   "cell_type": "code",
   "execution_count": 30,
   "id": "8dc4063c-1150-4b67-a125-16f245f4b9c4",
   "metadata": {},
   "outputs": [],
   "source": [
    "final_m[\"max_score\"] = final_m.overall_score"
   ]
  },
  {
   "cell_type": "code",
   "execution_count": 31,
   "id": "0892a805-7d7f-47cf-b086-f5e320c5361c",
   "metadata": {},
   "outputs": [],
   "source": [
    "agg1 = (\n",
    "    final_m.groupby([\"ct_district\"])\n",
    "    .agg(\n",
    "        {\n",
    "            \"overall_score\": \"median\",\n",
    "            \"min_score\": \"min\",\n",
    "            \"max_score\": \"max\",\n",
    "            \"project_name\": \"nunique\",\n",
    "        }\n",
    "    )\n",
    "    .reset_index()\n",
    ")"
   ]
  },
  {
   "cell_type": "code",
   "execution_count": 32,
   "id": "94c178b1-ff70-4d63-8820-aef101928c75",
   "metadata": {},
   "outputs": [],
   "source": [
    "agg1 = agg1.rename(\n",
    "    columns={\"overall_score\": \"median_score\", \"project_name\": \"n_projects\"}\n",
    ")"
   ]
  },
  {
   "cell_type": "code",
   "execution_count": 33,
   "id": "70178e81-0d11-4d19-9001-96e466d6dced",
   "metadata": {},
   "outputs": [
    {
     "data": {
      "text/html": [
       "<div>\n",
       "<style scoped>\n",
       "    .dataframe tbody tr th:only-of-type {\n",
       "        vertical-align: middle;\n",
       "    }\n",
       "\n",
       "    .dataframe tbody tr th {\n",
       "        vertical-align: top;\n",
       "    }\n",
       "\n",
       "    .dataframe thead th {\n",
       "        text-align: right;\n",
       "    }\n",
       "</style>\n",
       "<table border=\"1\" class=\"dataframe\">\n",
       "  <thead>\n",
       "    <tr style=\"text-align: right;\">\n",
       "      <th></th>\n",
       "      <th>ct_district</th>\n",
       "      <th>median_score</th>\n",
       "      <th>min_score</th>\n",
       "      <th>max_score</th>\n",
       "      <th>n_projects</th>\n",
       "    </tr>\n",
       "  </thead>\n",
       "  <tbody>\n",
       "    <tr>\n",
       "      <th>0</th>\n",
       "      <td>1</td>\n",
       "      <td>72.00</td>\n",
       "      <td>72</td>\n",
       "      <td>72</td>\n",
       "      <td>1</td>\n",
       "    </tr>\n",
       "    <tr>\n",
       "      <th>1</th>\n",
       "      <td>2</td>\n",
       "      <td>61.50</td>\n",
       "      <td>60</td>\n",
       "      <td>63</td>\n",
       "      <td>2</td>\n",
       "    </tr>\n",
       "    <tr>\n",
       "      <th>2</th>\n",
       "      <td>3</td>\n",
       "      <td>80.50</td>\n",
       "      <td>54</td>\n",
       "      <td>97</td>\n",
       "      <td>6</td>\n",
       "    </tr>\n",
       "    <tr>\n",
       "      <th>3</th>\n",
       "      <td>4</td>\n",
       "      <td>70.50</td>\n",
       "      <td>60</td>\n",
       "      <td>97</td>\n",
       "      <td>6</td>\n",
       "    </tr>\n",
       "    <tr>\n",
       "      <th>4</th>\n",
       "      <td>5</td>\n",
       "      <td>77.00</td>\n",
       "      <td>58</td>\n",
       "      <td>98</td>\n",
       "      <td>4</td>\n",
       "    </tr>\n",
       "    <tr>\n",
       "      <th>5</th>\n",
       "      <td>6</td>\n",
       "      <td>72.00</td>\n",
       "      <td>63</td>\n",
       "      <td>77</td>\n",
       "      <td>3</td>\n",
       "    </tr>\n",
       "    <tr>\n",
       "      <th>6</th>\n",
       "      <td>7</td>\n",
       "      <td>82.00</td>\n",
       "      <td>79</td>\n",
       "      <td>94</td>\n",
       "      <td>3</td>\n",
       "    </tr>\n",
       "    <tr>\n",
       "      <th>7</th>\n",
       "      <td>8</td>\n",
       "      <td>73.00</td>\n",
       "      <td>66</td>\n",
       "      <td>85</td>\n",
       "      <td>5</td>\n",
       "    </tr>\n",
       "    <tr>\n",
       "      <th>8</th>\n",
       "      <td>9</td>\n",
       "      <td>75.00</td>\n",
       "      <td>67</td>\n",
       "      <td>87</td>\n",
       "      <td>3</td>\n",
       "    </tr>\n",
       "    <tr>\n",
       "      <th>9</th>\n",
       "      <td>10</td>\n",
       "      <td>72.50</td>\n",
       "      <td>59</td>\n",
       "      <td>86</td>\n",
       "      <td>2</td>\n",
       "    </tr>\n",
       "    <tr>\n",
       "      <th>10</th>\n",
       "      <td>11</td>\n",
       "      <td>75.00</td>\n",
       "      <td>55</td>\n",
       "      <td>89</td>\n",
       "      <td>5</td>\n",
       "    </tr>\n",
       "    <tr>\n",
       "      <th>11</th>\n",
       "      <td>12</td>\n",
       "      <td>72.50</td>\n",
       "      <td>60</td>\n",
       "      <td>97</td>\n",
       "      <td>4</td>\n",
       "    </tr>\n",
       "  </tbody>\n",
       "</table>\n",
       "</div>"
      ],
      "text/plain": [
       "    ct_district  median_score  min_score  max_score  n_projects\n",
       "0             1         72.00         72         72           1\n",
       "1             2         61.50         60         63           2\n",
       "2             3         80.50         54         97           6\n",
       "3             4         70.50         60         97           6\n",
       "4             5         77.00         58         98           4\n",
       "5             6         72.00         63         77           3\n",
       "6             7         82.00         79         94           3\n",
       "7             8         73.00         66         85           5\n",
       "8             9         75.00         67         87           3\n",
       "9            10         72.50         59         86           2\n",
       "10           11         75.00         55         89           5\n",
       "11           12         72.50         60         97           4"
      ]
     },
     "execution_count": 33,
     "metadata": {},
     "output_type": "execute_result"
    }
   ],
   "source": [
    "agg1"
   ]
  },
  {
   "cell_type": "markdown",
   "id": "452b850a-7e15-473f-93d8-0133d496fa96",
   "metadata": {},
   "source": [
    "## Visualizing \n",
    "* You're done aggregating, but the dataframe looks objectively plain.\n",
    "* Let's explore a couple of ways to present your data."
   ]
  },
  {
   "cell_type": "markdown",
   "id": "ba703a21-6e54-4667-8607-d4b8900f6371",
   "metadata": {},
   "source": [
    "### Styling a Dataframe\n",
    "* `pandas` has quite a few options that allow you to style your dataframe.\n",
    "* [This tutorial](https://betterdatascience.com/style-pandas-dataframes/) offers some great ways to jazz up your dataframe.\n",
    "* You can always read the [pandas documentation](https://pandas.pydata.org/pandas-docs/stable/user_guide/style.html) for more ideas.\n",
    "* Some ideas:\n",
    "    * Change the font\n",
    "    * Turn off the index\n",
    "    * Use colors to indicate low-high values\n",
    "    * Change the alignment of the values"
   ]
  },
  {
   "cell_type": "code",
   "execution_count": null,
   "id": "a0d8b97b-0f34-495a-8dfb-61642c44879a",
   "metadata": {},
   "outputs": [],
   "source": []
  },
  {
   "cell_type": "markdown",
   "id": "c251617a-1936-4df1-b461-cc63f4be5e37",
   "metadata": {},
   "source": [
    "### Altair\n",
    "* While a table is great, sometimes a chart is a better way to display an insight.\n",
    "* Our preferred visualization library is `Altair`.\n",
    "    * Their docs page is [here](https://altair-viz.github.io/).\n",
    "* The code to create a simple bar chart goes something like this. \n",
    "    * `alt.Chart(source).mark_bar().encode(x='a',y='b')`\n",
    "    * `source` is the dataframe you want to use for your chart.\n",
    "    * `x` denotes the column you are plotting on the X-axis. Make sure your column name has quotation marks around it. \n",
    "    * `y` denotes the column you are plotting on the Y-axis. \n",
    "* <b>Make your first chart below.</b>"
   ]
  },
  {
   "cell_type": "code",
   "execution_count": 34,
   "id": "fdcece32-d053-4b32-9e76-0f5ffed9ff52",
   "metadata": {},
   "outputs": [
    {
     "data": {
      "text/html": [
       "\n",
       "<style>\n",
       "  #altair-viz-c7ed8fb12b62411eae4056ad553627e7.vega-embed {\n",
       "    width: 100%;\n",
       "    display: flex;\n",
       "  }\n",
       "\n",
       "  #altair-viz-c7ed8fb12b62411eae4056ad553627e7.vega-embed details,\n",
       "  #altair-viz-c7ed8fb12b62411eae4056ad553627e7.vega-embed details summary {\n",
       "    position: relative;\n",
       "  }\n",
       "</style>\n",
       "<div id=\"altair-viz-c7ed8fb12b62411eae4056ad553627e7\"></div>\n",
       "<script type=\"text/javascript\">\n",
       "  var VEGA_DEBUG = (typeof VEGA_DEBUG == \"undefined\") ? {} : VEGA_DEBUG;\n",
       "  (function(spec, embedOpt){\n",
       "    let outputDiv = document.currentScript.previousElementSibling;\n",
       "    if (outputDiv.id !== \"altair-viz-c7ed8fb12b62411eae4056ad553627e7\") {\n",
       "      outputDiv = document.getElementById(\"altair-viz-c7ed8fb12b62411eae4056ad553627e7\");\n",
       "    }\n",
       "    const paths = {\n",
       "      \"vega\": \"https://cdn.jsdelivr.net/npm/vega@5?noext\",\n",
       "      \"vega-lib\": \"https://cdn.jsdelivr.net/npm/vega-lib?noext\",\n",
       "      \"vega-lite\": \"https://cdn.jsdelivr.net/npm/vega-lite@5.17.0?noext\",\n",
       "      \"vega-embed\": \"https://cdn.jsdelivr.net/npm/vega-embed@6?noext\",\n",
       "    };\n",
       "\n",
       "    function maybeLoadScript(lib, version) {\n",
       "      var key = `${lib.replace(\"-\", \"\")}_version`;\n",
       "      return (VEGA_DEBUG[key] == version) ?\n",
       "        Promise.resolve(paths[lib]) :\n",
       "        new Promise(function(resolve, reject) {\n",
       "          var s = document.createElement('script');\n",
       "          document.getElementsByTagName(\"head\")[0].appendChild(s);\n",
       "          s.async = true;\n",
       "          s.onload = () => {\n",
       "            VEGA_DEBUG[key] = version;\n",
       "            return resolve(paths[lib]);\n",
       "          };\n",
       "          s.onerror = () => reject(`Error loading script: ${paths[lib]}`);\n",
       "          s.src = paths[lib];\n",
       "        });\n",
       "    }\n",
       "\n",
       "    function showError(err) {\n",
       "      outputDiv.innerHTML = `<div class=\"error\" style=\"color:red;\">${err}</div>`;\n",
       "      throw err;\n",
       "    }\n",
       "\n",
       "    function displayChart(vegaEmbed) {\n",
       "      vegaEmbed(outputDiv, spec, embedOpt)\n",
       "        .catch(err => showError(`Javascript Error: ${err.message}<br>This usually means there's a typo in your chart specification. See the javascript console for the full traceback.`));\n",
       "    }\n",
       "\n",
       "    if(typeof define === \"function\" && define.amd) {\n",
       "      requirejs.config({paths});\n",
       "      require([\"vega-embed\"], displayChart, err => showError(`Error loading script: ${err.message}`));\n",
       "    } else {\n",
       "      maybeLoadScript(\"vega\", \"5\")\n",
       "        .then(() => maybeLoadScript(\"vega-lite\", \"5.17.0\"))\n",
       "        .then(() => maybeLoadScript(\"vega-embed\", \"6\"))\n",
       "        .catch(showError)\n",
       "        .then(() => displayChart(vegaEmbed));\n",
       "    }\n",
       "  })({\"config\": {\"view\": {\"continuousWidth\": 300, \"continuousHeight\": 300}}, \"data\": {\"name\": \"data-04c1224c4cb5ae5875c6dcd62d920eb7\"}, \"mark\": {\"type\": \"bar\"}, \"encoding\": {\"x\": {\"field\": \"ct_district\", \"type\": \"quantitative\"}, \"y\": {\"field\": \"n_projects\", \"type\": \"quantitative\"}}, \"$schema\": \"https://vega.github.io/schema/vega-lite/v5.17.0.json\", \"datasets\": {\"data-04c1224c4cb5ae5875c6dcd62d920eb7\": [{\"ct_district\": 1, \"median_score\": 72.0, \"min_score\": 72, \"max_score\": 72, \"n_projects\": 1}, {\"ct_district\": 2, \"median_score\": 61.5, \"min_score\": 60, \"max_score\": 63, \"n_projects\": 2}, {\"ct_district\": 3, \"median_score\": 80.5, \"min_score\": 54, \"max_score\": 97, \"n_projects\": 6}, {\"ct_district\": 4, \"median_score\": 70.5, \"min_score\": 60, \"max_score\": 97, \"n_projects\": 6}, {\"ct_district\": 5, \"median_score\": 77.0, \"min_score\": 58, \"max_score\": 98, \"n_projects\": 4}, {\"ct_district\": 6, \"median_score\": 72.0, \"min_score\": 63, \"max_score\": 77, \"n_projects\": 3}, {\"ct_district\": 7, \"median_score\": 82.0, \"min_score\": 79, \"max_score\": 94, \"n_projects\": 3}, {\"ct_district\": 8, \"median_score\": 73.0, \"min_score\": 66, \"max_score\": 85, \"n_projects\": 5}, {\"ct_district\": 9, \"median_score\": 75.0, \"min_score\": 67, \"max_score\": 87, \"n_projects\": 3}, {\"ct_district\": 10, \"median_score\": 72.5, \"min_score\": 59, \"max_score\": 86, \"n_projects\": 2}, {\"ct_district\": 11, \"median_score\": 75.0, \"min_score\": 55, \"max_score\": 89, \"n_projects\": 5}, {\"ct_district\": 12, \"median_score\": 72.5, \"min_score\": 60, \"max_score\": 97, \"n_projects\": 4}]}}, {\"mode\": \"vega-lite\"});\n",
       "</script>"
      ],
      "text/plain": [
       "alt.Chart(...)"
      ]
     },
     "execution_count": 34,
     "metadata": {},
     "output_type": "execute_result"
    }
   ],
   "source": [
    "alt.Chart(agg1).mark_bar().encode(x=\"ct_district\", y=\"n_projects\")"
   ]
  },
  {
   "cell_type": "markdown",
   "id": "ff3cf65e-174c-4ee2-bdc3-ca07f3bb951f",
   "metadata": {},
   "source": [
    "#### Customizing\n",
    "* `altair` offers an endless ways to amp up the personality of your chart.\n",
    "* Additionally, the chart above without a title and legend is a data visualization \"taboo\" and the dull blue is uninspiring. \n",
    "\n",
    "##### Add a title\n",
    "* You can do so within `.Chart()`"
   ]
  },
  {
   "cell_type": "code",
   "execution_count": 35,
   "id": "88e1dff9-0188-49c9-b6cc-599610aca9a7",
   "metadata": {},
   "outputs": [
    {
     "data": {
      "text/html": [
       "\n",
       "<style>\n",
       "  #altair-viz-cea2aee05de949b3bec9de72673a9860.vega-embed {\n",
       "    width: 100%;\n",
       "    display: flex;\n",
       "  }\n",
       "\n",
       "  #altair-viz-cea2aee05de949b3bec9de72673a9860.vega-embed details,\n",
       "  #altair-viz-cea2aee05de949b3bec9de72673a9860.vega-embed details summary {\n",
       "    position: relative;\n",
       "  }\n",
       "</style>\n",
       "<div id=\"altair-viz-cea2aee05de949b3bec9de72673a9860\"></div>\n",
       "<script type=\"text/javascript\">\n",
       "  var VEGA_DEBUG = (typeof VEGA_DEBUG == \"undefined\") ? {} : VEGA_DEBUG;\n",
       "  (function(spec, embedOpt){\n",
       "    let outputDiv = document.currentScript.previousElementSibling;\n",
       "    if (outputDiv.id !== \"altair-viz-cea2aee05de949b3bec9de72673a9860\") {\n",
       "      outputDiv = document.getElementById(\"altair-viz-cea2aee05de949b3bec9de72673a9860\");\n",
       "    }\n",
       "    const paths = {\n",
       "      \"vega\": \"https://cdn.jsdelivr.net/npm/vega@5?noext\",\n",
       "      \"vega-lib\": \"https://cdn.jsdelivr.net/npm/vega-lib?noext\",\n",
       "      \"vega-lite\": \"https://cdn.jsdelivr.net/npm/vega-lite@5.17.0?noext\",\n",
       "      \"vega-embed\": \"https://cdn.jsdelivr.net/npm/vega-embed@6?noext\",\n",
       "    };\n",
       "\n",
       "    function maybeLoadScript(lib, version) {\n",
       "      var key = `${lib.replace(\"-\", \"\")}_version`;\n",
       "      return (VEGA_DEBUG[key] == version) ?\n",
       "        Promise.resolve(paths[lib]) :\n",
       "        new Promise(function(resolve, reject) {\n",
       "          var s = document.createElement('script');\n",
       "          document.getElementsByTagName(\"head\")[0].appendChild(s);\n",
       "          s.async = true;\n",
       "          s.onload = () => {\n",
       "            VEGA_DEBUG[key] = version;\n",
       "            return resolve(paths[lib]);\n",
       "          };\n",
       "          s.onerror = () => reject(`Error loading script: ${paths[lib]}`);\n",
       "          s.src = paths[lib];\n",
       "        });\n",
       "    }\n",
       "\n",
       "    function showError(err) {\n",
       "      outputDiv.innerHTML = `<div class=\"error\" style=\"color:red;\">${err}</div>`;\n",
       "      throw err;\n",
       "    }\n",
       "\n",
       "    function displayChart(vegaEmbed) {\n",
       "      vegaEmbed(outputDiv, spec, embedOpt)\n",
       "        .catch(err => showError(`Javascript Error: ${err.message}<br>This usually means there's a typo in your chart specification. See the javascript console for the full traceback.`));\n",
       "    }\n",
       "\n",
       "    if(typeof define === \"function\" && define.amd) {\n",
       "      requirejs.config({paths});\n",
       "      require([\"vega-embed\"], displayChart, err => showError(`Error loading script: ${err.message}`));\n",
       "    } else {\n",
       "      maybeLoadScript(\"vega\", \"5\")\n",
       "        .then(() => maybeLoadScript(\"vega-lite\", \"5.17.0\"))\n",
       "        .then(() => maybeLoadScript(\"vega-embed\", \"6\"))\n",
       "        .catch(showError)\n",
       "        .then(() => displayChart(vegaEmbed));\n",
       "    }\n",
       "  })({\"config\": {\"view\": {\"continuousWidth\": 300, \"continuousHeight\": 300}}, \"data\": {\"name\": \"data-04c1224c4cb5ae5875c6dcd62d920eb7\"}, \"mark\": {\"type\": \"bar\"}, \"encoding\": {\"x\": {\"field\": \"ct_district\", \"type\": \"quantitative\"}, \"y\": {\"field\": \"n_projects\", \"type\": \"quantitative\"}}, \"title\": \"your_title_here\", \"$schema\": \"https://vega.github.io/schema/vega-lite/v5.17.0.json\", \"datasets\": {\"data-04c1224c4cb5ae5875c6dcd62d920eb7\": [{\"ct_district\": 1, \"median_score\": 72.0, \"min_score\": 72, \"max_score\": 72, \"n_projects\": 1}, {\"ct_district\": 2, \"median_score\": 61.5, \"min_score\": 60, \"max_score\": 63, \"n_projects\": 2}, {\"ct_district\": 3, \"median_score\": 80.5, \"min_score\": 54, \"max_score\": 97, \"n_projects\": 6}, {\"ct_district\": 4, \"median_score\": 70.5, \"min_score\": 60, \"max_score\": 97, \"n_projects\": 6}, {\"ct_district\": 5, \"median_score\": 77.0, \"min_score\": 58, \"max_score\": 98, \"n_projects\": 4}, {\"ct_district\": 6, \"median_score\": 72.0, \"min_score\": 63, \"max_score\": 77, \"n_projects\": 3}, {\"ct_district\": 7, \"median_score\": 82.0, \"min_score\": 79, \"max_score\": 94, \"n_projects\": 3}, {\"ct_district\": 8, \"median_score\": 73.0, \"min_score\": 66, \"max_score\": 85, \"n_projects\": 5}, {\"ct_district\": 9, \"median_score\": 75.0, \"min_score\": 67, \"max_score\": 87, \"n_projects\": 3}, {\"ct_district\": 10, \"median_score\": 72.5, \"min_score\": 59, \"max_score\": 86, \"n_projects\": 2}, {\"ct_district\": 11, \"median_score\": 75.0, \"min_score\": 55, \"max_score\": 89, \"n_projects\": 5}, {\"ct_district\": 12, \"median_score\": 72.5, \"min_score\": 60, \"max_score\": 97, \"n_projects\": 4}]}}, {\"mode\": \"vega-lite\"});\n",
       "</script>"
      ],
      "text/plain": [
       "alt.Chart(...)"
      ]
     },
     "execution_count": 35,
     "metadata": {},
     "output_type": "execute_result"
    }
   ],
   "source": [
    "alt.Chart(agg1, title=\"your_title_here\").mark_bar().encode(\n",
    "    x=\"ct_district\", y=\"n_projects\"\n",
    ")"
   ]
  },
  {
   "cell_type": "markdown",
   "id": "03fa6313-cbf7-4c3a-af76-8012b0a927ef",
   "metadata": {},
   "source": [
    "#### Different Charts\n",
    "* If you want something that isn't a bar chart, simply swap out `.mark_bar()` for `.mark_line` or `mark_circle`.\n"
   ]
  },
  {
   "cell_type": "code",
   "execution_count": 36,
   "id": "d43cae4f-1faf-48fb-8c21-559feb5243b1",
   "metadata": {},
   "outputs": [
    {
     "data": {
      "text/html": [
       "\n",
       "<style>\n",
       "  #altair-viz-ab9608628a834be58ead12ae028b4010.vega-embed {\n",
       "    width: 100%;\n",
       "    display: flex;\n",
       "  }\n",
       "\n",
       "  #altair-viz-ab9608628a834be58ead12ae028b4010.vega-embed details,\n",
       "  #altair-viz-ab9608628a834be58ead12ae028b4010.vega-embed details summary {\n",
       "    position: relative;\n",
       "  }\n",
       "</style>\n",
       "<div id=\"altair-viz-ab9608628a834be58ead12ae028b4010\"></div>\n",
       "<script type=\"text/javascript\">\n",
       "  var VEGA_DEBUG = (typeof VEGA_DEBUG == \"undefined\") ? {} : VEGA_DEBUG;\n",
       "  (function(spec, embedOpt){\n",
       "    let outputDiv = document.currentScript.previousElementSibling;\n",
       "    if (outputDiv.id !== \"altair-viz-ab9608628a834be58ead12ae028b4010\") {\n",
       "      outputDiv = document.getElementById(\"altair-viz-ab9608628a834be58ead12ae028b4010\");\n",
       "    }\n",
       "    const paths = {\n",
       "      \"vega\": \"https://cdn.jsdelivr.net/npm/vega@5?noext\",\n",
       "      \"vega-lib\": \"https://cdn.jsdelivr.net/npm/vega-lib?noext\",\n",
       "      \"vega-lite\": \"https://cdn.jsdelivr.net/npm/vega-lite@5.17.0?noext\",\n",
       "      \"vega-embed\": \"https://cdn.jsdelivr.net/npm/vega-embed@6?noext\",\n",
       "    };\n",
       "\n",
       "    function maybeLoadScript(lib, version) {\n",
       "      var key = `${lib.replace(\"-\", \"\")}_version`;\n",
       "      return (VEGA_DEBUG[key] == version) ?\n",
       "        Promise.resolve(paths[lib]) :\n",
       "        new Promise(function(resolve, reject) {\n",
       "          var s = document.createElement('script');\n",
       "          document.getElementsByTagName(\"head\")[0].appendChild(s);\n",
       "          s.async = true;\n",
       "          s.onload = () => {\n",
       "            VEGA_DEBUG[key] = version;\n",
       "            return resolve(paths[lib]);\n",
       "          };\n",
       "          s.onerror = () => reject(`Error loading script: ${paths[lib]}`);\n",
       "          s.src = paths[lib];\n",
       "        });\n",
       "    }\n",
       "\n",
       "    function showError(err) {\n",
       "      outputDiv.innerHTML = `<div class=\"error\" style=\"color:red;\">${err}</div>`;\n",
       "      throw err;\n",
       "    }\n",
       "\n",
       "    function displayChart(vegaEmbed) {\n",
       "      vegaEmbed(outputDiv, spec, embedOpt)\n",
       "        .catch(err => showError(`Javascript Error: ${err.message}<br>This usually means there's a typo in your chart specification. See the javascript console for the full traceback.`));\n",
       "    }\n",
       "\n",
       "    if(typeof define === \"function\" && define.amd) {\n",
       "      requirejs.config({paths});\n",
       "      require([\"vega-embed\"], displayChart, err => showError(`Error loading script: ${err.message}`));\n",
       "    } else {\n",
       "      maybeLoadScript(\"vega\", \"5\")\n",
       "        .then(() => maybeLoadScript(\"vega-lite\", \"5.17.0\"))\n",
       "        .then(() => maybeLoadScript(\"vega-embed\", \"6\"))\n",
       "        .catch(showError)\n",
       "        .then(() => displayChart(vegaEmbed));\n",
       "    }\n",
       "  })({\"config\": {\"view\": {\"continuousWidth\": 300, \"continuousHeight\": 300}}, \"data\": {\"name\": \"data-04c1224c4cb5ae5875c6dcd62d920eb7\"}, \"mark\": {\"type\": \"circle\"}, \"encoding\": {\"x\": {\"field\": \"ct_district\", \"type\": \"quantitative\"}, \"y\": {\"field\": \"n_projects\", \"type\": \"quantitative\"}}, \"title\": \"your_title_here\", \"$schema\": \"https://vega.github.io/schema/vega-lite/v5.17.0.json\", \"datasets\": {\"data-04c1224c4cb5ae5875c6dcd62d920eb7\": [{\"ct_district\": 1, \"median_score\": 72.0, \"min_score\": 72, \"max_score\": 72, \"n_projects\": 1}, {\"ct_district\": 2, \"median_score\": 61.5, \"min_score\": 60, \"max_score\": 63, \"n_projects\": 2}, {\"ct_district\": 3, \"median_score\": 80.5, \"min_score\": 54, \"max_score\": 97, \"n_projects\": 6}, {\"ct_district\": 4, \"median_score\": 70.5, \"min_score\": 60, \"max_score\": 97, \"n_projects\": 6}, {\"ct_district\": 5, \"median_score\": 77.0, \"min_score\": 58, \"max_score\": 98, \"n_projects\": 4}, {\"ct_district\": 6, \"median_score\": 72.0, \"min_score\": 63, \"max_score\": 77, \"n_projects\": 3}, {\"ct_district\": 7, \"median_score\": 82.0, \"min_score\": 79, \"max_score\": 94, \"n_projects\": 3}, {\"ct_district\": 8, \"median_score\": 73.0, \"min_score\": 66, \"max_score\": 85, \"n_projects\": 5}, {\"ct_district\": 9, \"median_score\": 75.0, \"min_score\": 67, \"max_score\": 87, \"n_projects\": 3}, {\"ct_district\": 10, \"median_score\": 72.5, \"min_score\": 59, \"max_score\": 86, \"n_projects\": 2}, {\"ct_district\": 11, \"median_score\": 75.0, \"min_score\": 55, \"max_score\": 89, \"n_projects\": 5}, {\"ct_district\": 12, \"median_score\": 72.5, \"min_score\": 60, \"max_score\": 97, \"n_projects\": 4}]}}, {\"mode\": \"vega-lite\"});\n",
       "</script>"
      ],
      "text/plain": [
       "alt.Chart(...)"
      ]
     },
     "execution_count": 36,
     "metadata": {},
     "output_type": "execute_result"
    }
   ],
   "source": [
    "alt.Chart(agg1, title=\"your_title_here\").mark_circle().encode(\n",
    "    x=\"ct_district\", y=\"n_projects\"\n",
    ")"
   ]
  },
  {
   "cell_type": "code",
   "execution_count": 37,
   "id": "9b94c3f2-af01-43d4-9f17-98cd863511a3",
   "metadata": {},
   "outputs": [
    {
     "data": {
      "text/html": [
       "\n",
       "<style>\n",
       "  #altair-viz-99194b78c9924674b98f1474d66539ba.vega-embed {\n",
       "    width: 100%;\n",
       "    display: flex;\n",
       "  }\n",
       "\n",
       "  #altair-viz-99194b78c9924674b98f1474d66539ba.vega-embed details,\n",
       "  #altair-viz-99194b78c9924674b98f1474d66539ba.vega-embed details summary {\n",
       "    position: relative;\n",
       "  }\n",
       "</style>\n",
       "<div id=\"altair-viz-99194b78c9924674b98f1474d66539ba\"></div>\n",
       "<script type=\"text/javascript\">\n",
       "  var VEGA_DEBUG = (typeof VEGA_DEBUG == \"undefined\") ? {} : VEGA_DEBUG;\n",
       "  (function(spec, embedOpt){\n",
       "    let outputDiv = document.currentScript.previousElementSibling;\n",
       "    if (outputDiv.id !== \"altair-viz-99194b78c9924674b98f1474d66539ba\") {\n",
       "      outputDiv = document.getElementById(\"altair-viz-99194b78c9924674b98f1474d66539ba\");\n",
       "    }\n",
       "    const paths = {\n",
       "      \"vega\": \"https://cdn.jsdelivr.net/npm/vega@5?noext\",\n",
       "      \"vega-lib\": \"https://cdn.jsdelivr.net/npm/vega-lib?noext\",\n",
       "      \"vega-lite\": \"https://cdn.jsdelivr.net/npm/vega-lite@5.17.0?noext\",\n",
       "      \"vega-embed\": \"https://cdn.jsdelivr.net/npm/vega-embed@6?noext\",\n",
       "    };\n",
       "\n",
       "    function maybeLoadScript(lib, version) {\n",
       "      var key = `${lib.replace(\"-\", \"\")}_version`;\n",
       "      return (VEGA_DEBUG[key] == version) ?\n",
       "        Promise.resolve(paths[lib]) :\n",
       "        new Promise(function(resolve, reject) {\n",
       "          var s = document.createElement('script');\n",
       "          document.getElementsByTagName(\"head\")[0].appendChild(s);\n",
       "          s.async = true;\n",
       "          s.onload = () => {\n",
       "            VEGA_DEBUG[key] = version;\n",
       "            return resolve(paths[lib]);\n",
       "          };\n",
       "          s.onerror = () => reject(`Error loading script: ${paths[lib]}`);\n",
       "          s.src = paths[lib];\n",
       "        });\n",
       "    }\n",
       "\n",
       "    function showError(err) {\n",
       "      outputDiv.innerHTML = `<div class=\"error\" style=\"color:red;\">${err}</div>`;\n",
       "      throw err;\n",
       "    }\n",
       "\n",
       "    function displayChart(vegaEmbed) {\n",
       "      vegaEmbed(outputDiv, spec, embedOpt)\n",
       "        .catch(err => showError(`Javascript Error: ${err.message}<br>This usually means there's a typo in your chart specification. See the javascript console for the full traceback.`));\n",
       "    }\n",
       "\n",
       "    if(typeof define === \"function\" && define.amd) {\n",
       "      requirejs.config({paths});\n",
       "      require([\"vega-embed\"], displayChart, err => showError(`Error loading script: ${err.message}`));\n",
       "    } else {\n",
       "      maybeLoadScript(\"vega\", \"5\")\n",
       "        .then(() => maybeLoadScript(\"vega-lite\", \"5.17.0\"))\n",
       "        .then(() => maybeLoadScript(\"vega-embed\", \"6\"))\n",
       "        .catch(showError)\n",
       "        .then(() => displayChart(vegaEmbed));\n",
       "    }\n",
       "  })({\"config\": {\"view\": {\"continuousWidth\": 300, \"continuousHeight\": 300}}, \"data\": {\"name\": \"data-04c1224c4cb5ae5875c6dcd62d920eb7\"}, \"mark\": {\"type\": \"line\"}, \"encoding\": {\"x\": {\"field\": \"ct_district\", \"type\": \"quantitative\"}, \"y\": {\"field\": \"n_projects\", \"type\": \"quantitative\"}}, \"title\": \"your_title_here\", \"$schema\": \"https://vega.github.io/schema/vega-lite/v5.17.0.json\", \"datasets\": {\"data-04c1224c4cb5ae5875c6dcd62d920eb7\": [{\"ct_district\": 1, \"median_score\": 72.0, \"min_score\": 72, \"max_score\": 72, \"n_projects\": 1}, {\"ct_district\": 2, \"median_score\": 61.5, \"min_score\": 60, \"max_score\": 63, \"n_projects\": 2}, {\"ct_district\": 3, \"median_score\": 80.5, \"min_score\": 54, \"max_score\": 97, \"n_projects\": 6}, {\"ct_district\": 4, \"median_score\": 70.5, \"min_score\": 60, \"max_score\": 97, \"n_projects\": 6}, {\"ct_district\": 5, \"median_score\": 77.0, \"min_score\": 58, \"max_score\": 98, \"n_projects\": 4}, {\"ct_district\": 6, \"median_score\": 72.0, \"min_score\": 63, \"max_score\": 77, \"n_projects\": 3}, {\"ct_district\": 7, \"median_score\": 82.0, \"min_score\": 79, \"max_score\": 94, \"n_projects\": 3}, {\"ct_district\": 8, \"median_score\": 73.0, \"min_score\": 66, \"max_score\": 85, \"n_projects\": 5}, {\"ct_district\": 9, \"median_score\": 75.0, \"min_score\": 67, \"max_score\": 87, \"n_projects\": 3}, {\"ct_district\": 10, \"median_score\": 72.5, \"min_score\": 59, \"max_score\": 86, \"n_projects\": 2}, {\"ct_district\": 11, \"median_score\": 75.0, \"min_score\": 55, \"max_score\": 89, \"n_projects\": 5}, {\"ct_district\": 12, \"median_score\": 72.5, \"min_score\": 60, \"max_score\": 97, \"n_projects\": 4}]}}, {\"mode\": \"vega-lite\"});\n",
       "</script>"
      ],
      "text/plain": [
       "alt.Chart(...)"
      ]
     },
     "execution_count": 37,
     "metadata": {},
     "output_type": "execute_result"
    }
   ],
   "source": [
    "alt.Chart(agg1, title=\"your_title_here\").mark_line().encode(\n",
    "    x=\"ct_district\", y=\"n_projects\"\n",
    ")"
   ]
  },
  {
   "cell_type": "markdown",
   "id": "1d7073ac-6528-4999-9c9c-94c8147c0ac6",
   "metadata": {},
   "source": [
    "#### Add some color/DDS's Python Library\n",
    "* We have some default color palettes that are already in our [internal library of functions](https://docs.calitp.org/data-infra/analytics_tools/python_libraries.html#calitp-data-analysis)."
   ]
  },
  {
   "cell_type": "code",
   "execution_count": 38,
   "id": "cb8df2a3-bf37-4fe4-833e-1259a6ad7f15",
   "metadata": {},
   "outputs": [],
   "source": [
    "# Import the color palettes\n",
    "from calitp_data_analysis import calitp_color_palette"
   ]
  },
  {
   "cell_type": "markdown",
   "id": "102dac58-605a-4bfb-88f8-b9a11ea86b83",
   "metadata": {},
   "source": [
    "* To see what is inside a module,  put two question marks behind it.\n",
    "* From here, you can choose another color palette."
   ]
  },
  {
   "cell_type": "code",
   "execution_count": 39,
   "id": "aa21d088-3360-4d3e-811c-8cc5bdb2d3a8",
   "metadata": {
    "scrolled": true,
    "tags": []
   },
   "outputs": [
    {
     "data": {
      "text/plain": [
       "\u001b[0;31mType:\u001b[0m        module\n",
       "\u001b[0;31mString form:\u001b[0m <module 'calitp_data_analysis.calitp_color_palette' from '/opt/conda/lib/python3.9/site-packages/calitp_data_analysis/calitp_color_palette.py'>\n",
       "\u001b[0;31mFile:\u001b[0m        /opt/conda/lib/python3.9/site-packages/calitp_data_analysis/calitp_color_palette.py\n",
       "\u001b[0;31mSource:\u001b[0m     \n",
       "\u001b[0;31m# --------------------------------------------------------------#\u001b[0m\u001b[0;34m\u001b[0m\n",
       "\u001b[0;34m\u001b[0m\u001b[0;31m# Cal-ITP style guide\u001b[0m\u001b[0;34m\u001b[0m\n",
       "\u001b[0;34m\u001b[0m\u001b[0;31m# Google Drive > Cal-ITP Team > Project Resources >\u001b[0m\u001b[0;34m\u001b[0m\n",
       "\u001b[0;34m\u001b[0m\u001b[0;31m# Branded Resources and External Comms Guidelines > Branded Resources > Style Guide\u001b[0m\u001b[0;34m\u001b[0m\n",
       "\u001b[0;34m\u001b[0m\u001b[0;31m# --------------------------------------------------------------#\u001b[0m\u001b[0;34m\u001b[0m\n",
       "\u001b[0;34m\u001b[0m\u001b[0mCALITP_CATEGORY_BRIGHT_COLORS\u001b[0m \u001b[0;34m=\u001b[0m \u001b[0;34m[\u001b[0m\u001b[0;34m\u001b[0m\n",
       "\u001b[0;34m\u001b[0m    \u001b[0;34m\"#2EA8CE\"\u001b[0m\u001b[0;34m,\u001b[0m  \u001b[0;31m# darker blue\u001b[0m\u001b[0;34m\u001b[0m\n",
       "\u001b[0;34m\u001b[0m    \u001b[0;34m\"#EB9F3C\"\u001b[0m\u001b[0;34m,\u001b[0m  \u001b[0;31m# orange\u001b[0m\u001b[0;34m\u001b[0m\n",
       "\u001b[0;34m\u001b[0m    \u001b[0;34m\"#F4D837\"\u001b[0m\u001b[0;34m,\u001b[0m  \u001b[0;31m# yellow\u001b[0m\u001b[0;34m\u001b[0m\n",
       "\u001b[0;34m\u001b[0m    \u001b[0;34m\"#51BF9D\"\u001b[0m\u001b[0;34m,\u001b[0m  \u001b[0;31m# green\u001b[0m\u001b[0;34m\u001b[0m\n",
       "\u001b[0;34m\u001b[0m    \u001b[0;34m\"#8CBCCB\"\u001b[0m\u001b[0;34m,\u001b[0m  \u001b[0;31m# lighter blue\u001b[0m\u001b[0;34m\u001b[0m\n",
       "\u001b[0;34m\u001b[0m    \u001b[0;34m\"#9487C0\"\u001b[0m\u001b[0;34m,\u001b[0m  \u001b[0;31m# purple\u001b[0m\u001b[0;34m\u001b[0m\n",
       "\u001b[0;34m\u001b[0m\u001b[0;34m]\u001b[0m\u001b[0;34m\u001b[0m\n",
       "\u001b[0;34m\u001b[0m\u001b[0;34m\u001b[0m\n",
       "\u001b[0;34m\u001b[0m\u001b[0mCALITP_CATEGORY_BOLD_COLORS\u001b[0m \u001b[0;34m=\u001b[0m \u001b[0;34m[\u001b[0m\u001b[0;34m\u001b[0m\n",
       "\u001b[0;34m\u001b[0m    \u001b[0;34m\"#136C97\"\u001b[0m\u001b[0;34m,\u001b[0m  \u001b[0;31m# darker blue\u001b[0m\u001b[0;34m\u001b[0m\n",
       "\u001b[0;34m\u001b[0m    \u001b[0;34m\"#E16B26\"\u001b[0m\u001b[0;34m,\u001b[0m  \u001b[0;31m# orange\u001b[0m\u001b[0;34m\u001b[0m\n",
       "\u001b[0;34m\u001b[0m    \u001b[0;34m\"#F6BF16\"\u001b[0m\u001b[0;34m,\u001b[0m  \u001b[0;31m# yellow\u001b[0m\u001b[0;34m\u001b[0m\n",
       "\u001b[0;34m\u001b[0m    \u001b[0;34m\"#00896B\"\u001b[0m\u001b[0;34m,\u001b[0m  \u001b[0;31m# green\u001b[0m\u001b[0;34m\u001b[0m\n",
       "\u001b[0;34m\u001b[0m    \u001b[0;34m\"#7790A3\"\u001b[0m\u001b[0;34m,\u001b[0m  \u001b[0;31m# lighter blue\u001b[0m\u001b[0;34m\u001b[0m\n",
       "\u001b[0;34m\u001b[0m    \u001b[0;34m\"#5B559C\"\u001b[0m\u001b[0;34m,\u001b[0m  \u001b[0;31m# purple\u001b[0m\u001b[0;34m\u001b[0m\n",
       "\u001b[0;34m\u001b[0m\u001b[0;34m]\u001b[0m\u001b[0;34m\u001b[0m\n",
       "\u001b[0;34m\u001b[0m\u001b[0;34m\u001b[0m\n",
       "\u001b[0;34m\u001b[0m\u001b[0mCALITP_DIVERGING_COLORS\u001b[0m \u001b[0;34m=\u001b[0m \u001b[0;34m[\u001b[0m\u001b[0;34m\u001b[0m\n",
       "\u001b[0;34m\u001b[0m    \u001b[0;34m\"#E16B26\"\u001b[0m\u001b[0;34m,\u001b[0m\u001b[0;34m\u001b[0m\n",
       "\u001b[0;34m\u001b[0m    \u001b[0;34m\"#EB9F3C\"\u001b[0m\u001b[0;34m,\u001b[0m  \u001b[0;31m# oranges\u001b[0m\u001b[0;34m\u001b[0m\n",
       "\u001b[0;34m\u001b[0m    \u001b[0;34m\"#f6e7e1\"\u001b[0m\u001b[0;34m,\u001b[0m  \u001b[0;31m# linen\u001b[0m\u001b[0;34m\u001b[0m\n",
       "\u001b[0;34m\u001b[0m    \u001b[0;34m\"#8CBCCB\"\u001b[0m\u001b[0;34m,\u001b[0m\u001b[0;34m\u001b[0m\n",
       "\u001b[0;34m\u001b[0m    \u001b[0;34m\"#2EA8CE\"\u001b[0m\u001b[0;34m,\u001b[0m\u001b[0;34m\u001b[0m\n",
       "\u001b[0;34m\u001b[0m    \u001b[0;34m\"#136C97\"\u001b[0m\u001b[0;34m,\u001b[0m  \u001b[0;31m# blues\u001b[0m\u001b[0;34m\u001b[0m\n",
       "\u001b[0;34m\u001b[0m\u001b[0;34m]\u001b[0m\u001b[0;34m\u001b[0m\n",
       "\u001b[0;34m\u001b[0m\u001b[0;34m\u001b[0m\n",
       "\u001b[0;34m\u001b[0m\u001b[0;34m\u001b[0m\n",
       "\u001b[0;34m\u001b[0m\u001b[0mCALITP_SEQUENTIAL_COLORS\u001b[0m \u001b[0;34m=\u001b[0m \u001b[0;34m[\u001b[0m\u001b[0;34m\u001b[0m\n",
       "\u001b[0;34m\u001b[0m    \u001b[0;34m\"#B9D6DF\"\u001b[0m\u001b[0;34m,\u001b[0m  \u001b[0;31m# light blue (lightest)\u001b[0m\u001b[0;34m\u001b[0m\n",
       "\u001b[0;34m\u001b[0m    \u001b[0;34m\"#8CBCCB\"\u001b[0m\u001b[0;34m,\u001b[0m  \u001b[0;31m# lighter blue bright\u001b[0m\u001b[0;34m\u001b[0m\n",
       "\u001b[0;34m\u001b[0m    \u001b[0;34m\"#2EA8CE\"\u001b[0m\u001b[0;34m,\u001b[0m  \u001b[0;31m# darker blue bright\u001b[0m\u001b[0;34m\u001b[0m\n",
       "\u001b[0;34m\u001b[0m    \u001b[0;34m\"#136C97\"\u001b[0m\u001b[0;34m,\u001b[0m  \u001b[0;31m# darker blue bold\u001b[0m\u001b[0;34m\u001b[0m\n",
       "\u001b[0;34m\u001b[0m    \u001b[0;34m\"#0B405B\"\u001b[0m\u001b[0;34m,\u001b[0m  \u001b[0;31m# indigo dye (darkest)\u001b[0m\u001b[0;34m\u001b[0m\n",
       "\u001b[0;34m\u001b[0m\u001b[0;34m]\u001b[0m\u001b[0;34m\u001b[0m\u001b[0;34m\u001b[0m\u001b[0m"
      ]
     },
     "metadata": {},
     "output_type": "display_data"
    }
   ],
   "source": [
    "calitp_color_palette??"
   ]
  },
  {
   "cell_type": "markdown",
   "id": "f3971ba8-1c8f-4003-8e34-c3fd31f3f585",
   "metadata": {},
   "source": [
    "* Place your color palette in the `scale` argument `scale=alt.Scale(range=your_color_palette)`.\n",
    "* If I'm using a palette from `calitp_color_palette`, I would write `scale=alt.Scale(range=calitp_color_palette.CALITP_DIVERGING_COLORS)`."
   ]
  },
  {
   "cell_type": "code",
   "execution_count": 43,
   "id": "c629f242-9b1b-49d1-b4b0-1bb956782d69",
   "metadata": {},
   "outputs": [
    {
     "data": {
      "text/html": [
       "\n",
       "<style>\n",
       "  #altair-viz-da105b72f0ed48f0a42e5004caa059c0.vega-embed {\n",
       "    width: 100%;\n",
       "    display: flex;\n",
       "  }\n",
       "\n",
       "  #altair-viz-da105b72f0ed48f0a42e5004caa059c0.vega-embed details,\n",
       "  #altair-viz-da105b72f0ed48f0a42e5004caa059c0.vega-embed details summary {\n",
       "    position: relative;\n",
       "  }\n",
       "</style>\n",
       "<div id=\"altair-viz-da105b72f0ed48f0a42e5004caa059c0\"></div>\n",
       "<script type=\"text/javascript\">\n",
       "  var VEGA_DEBUG = (typeof VEGA_DEBUG == \"undefined\") ? {} : VEGA_DEBUG;\n",
       "  (function(spec, embedOpt){\n",
       "    let outputDiv = document.currentScript.previousElementSibling;\n",
       "    if (outputDiv.id !== \"altair-viz-da105b72f0ed48f0a42e5004caa059c0\") {\n",
       "      outputDiv = document.getElementById(\"altair-viz-da105b72f0ed48f0a42e5004caa059c0\");\n",
       "    }\n",
       "    const paths = {\n",
       "      \"vega\": \"https://cdn.jsdelivr.net/npm/vega@5?noext\",\n",
       "      \"vega-lib\": \"https://cdn.jsdelivr.net/npm/vega-lib?noext\",\n",
       "      \"vega-lite\": \"https://cdn.jsdelivr.net/npm/vega-lite@5.17.0?noext\",\n",
       "      \"vega-embed\": \"https://cdn.jsdelivr.net/npm/vega-embed@6?noext\",\n",
       "    };\n",
       "\n",
       "    function maybeLoadScript(lib, version) {\n",
       "      var key = `${lib.replace(\"-\", \"\")}_version`;\n",
       "      return (VEGA_DEBUG[key] == version) ?\n",
       "        Promise.resolve(paths[lib]) :\n",
       "        new Promise(function(resolve, reject) {\n",
       "          var s = document.createElement('script');\n",
       "          document.getElementsByTagName(\"head\")[0].appendChild(s);\n",
       "          s.async = true;\n",
       "          s.onload = () => {\n",
       "            VEGA_DEBUG[key] = version;\n",
       "            return resolve(paths[lib]);\n",
       "          };\n",
       "          s.onerror = () => reject(`Error loading script: ${paths[lib]}`);\n",
       "          s.src = paths[lib];\n",
       "        });\n",
       "    }\n",
       "\n",
       "    function showError(err) {\n",
       "      outputDiv.innerHTML = `<div class=\"error\" style=\"color:red;\">${err}</div>`;\n",
       "      throw err;\n",
       "    }\n",
       "\n",
       "    function displayChart(vegaEmbed) {\n",
       "      vegaEmbed(outputDiv, spec, embedOpt)\n",
       "        .catch(err => showError(`Javascript Error: ${err.message}<br>This usually means there's a typo in your chart specification. See the javascript console for the full traceback.`));\n",
       "    }\n",
       "\n",
       "    if(typeof define === \"function\" && define.amd) {\n",
       "      requirejs.config({paths});\n",
       "      require([\"vega-embed\"], displayChart, err => showError(`Error loading script: ${err.message}`));\n",
       "    } else {\n",
       "      maybeLoadScript(\"vega\", \"5\")\n",
       "        .then(() => maybeLoadScript(\"vega-lite\", \"5.17.0\"))\n",
       "        .then(() => maybeLoadScript(\"vega-embed\", \"6\"))\n",
       "        .catch(showError)\n",
       "        .then(() => displayChart(vegaEmbed));\n",
       "    }\n",
       "  })({\"config\": {\"view\": {\"continuousWidth\": 300, \"continuousHeight\": 300}}, \"data\": {\"name\": \"data-04c1224c4cb5ae5875c6dcd62d920eb7\"}, \"mark\": {\"type\": \"bar\"}, \"encoding\": {\"color\": {\"field\": \"n_projects\", \"scale\": {\"range\": [\"#E16B26\", \"#EB9F3C\", \"#f6e7e1\", \"#8CBCCB\", \"#2EA8CE\", \"#136C97\"]}, \"title\": \"legend_title_here\", \"type\": \"quantitative\"}, \"x\": {\"field\": \"ct_district\", \"type\": \"quantitative\"}, \"y\": {\"field\": \"n_projects\", \"type\": \"quantitative\"}}, \"title\": \"your_title_here\", \"$schema\": \"https://vega.github.io/schema/vega-lite/v5.17.0.json\", \"datasets\": {\"data-04c1224c4cb5ae5875c6dcd62d920eb7\": [{\"ct_district\": 1, \"median_score\": 72.0, \"min_score\": 72, \"max_score\": 72, \"n_projects\": 1}, {\"ct_district\": 2, \"median_score\": 61.5, \"min_score\": 60, \"max_score\": 63, \"n_projects\": 2}, {\"ct_district\": 3, \"median_score\": 80.5, \"min_score\": 54, \"max_score\": 97, \"n_projects\": 6}, {\"ct_district\": 4, \"median_score\": 70.5, \"min_score\": 60, \"max_score\": 97, \"n_projects\": 6}, {\"ct_district\": 5, \"median_score\": 77.0, \"min_score\": 58, \"max_score\": 98, \"n_projects\": 4}, {\"ct_district\": 6, \"median_score\": 72.0, \"min_score\": 63, \"max_score\": 77, \"n_projects\": 3}, {\"ct_district\": 7, \"median_score\": 82.0, \"min_score\": 79, \"max_score\": 94, \"n_projects\": 3}, {\"ct_district\": 8, \"median_score\": 73.0, \"min_score\": 66, \"max_score\": 85, \"n_projects\": 5}, {\"ct_district\": 9, \"median_score\": 75.0, \"min_score\": 67, \"max_score\": 87, \"n_projects\": 3}, {\"ct_district\": 10, \"median_score\": 72.5, \"min_score\": 59, \"max_score\": 86, \"n_projects\": 2}, {\"ct_district\": 11, \"median_score\": 75.0, \"min_score\": 55, \"max_score\": 89, \"n_projects\": 5}, {\"ct_district\": 12, \"median_score\": 72.5, \"min_score\": 60, \"max_score\": 97, \"n_projects\": 4}]}}, {\"mode\": \"vega-lite\"});\n",
       "</script>"
      ],
      "text/plain": [
       "alt.Chart(...)"
      ]
     },
     "execution_count": 43,
     "metadata": {},
     "output_type": "execute_result"
    }
   ],
   "source": [
    "alt.Chart(agg1, title=\"your_title_here\").mark_bar().encode(\n",
    "    x=\"ct_district\",\n",
    "    y=\"n_projects\",\n",
    "    color=alt.Color(\n",
    "        \"n_projects\",  # This is the column you want the color of your bar to be based on\n",
    "        title=\"legend_title_here\",  # This is the legend of your title\n",
    "        scale=alt.Scale(\n",
    "            range=calitp_color_palette.CALITP_DIVERGING_COLORS # This is where you can customize the colors,\n",
    "        ),  \n",
    "    ),\n",
    ")"
   ]
  },
  {
   "cell_type": "markdown",
   "id": "565ba059-6e2c-4d2b-99a4-665e39c0a0e5",
   "metadata": {},
   "source": [
    "#### Adjusting the Axis\n",
    "* Sometimes, we want to adjust the axis to have a min and max value.\n",
    "* You do so using the `scale=alt.Scale(domain=[min_value, max_value]))` argument behind the X and Y axis.\n",
    "* `alt.X()` and `alt.Y` gives you many more customization options."
   ]
  },
  {
   "cell_type": "code",
   "execution_count": null,
   "id": "9832f9fc-53a3-4c5e-ba87-4b346d6f6985",
   "metadata": {},
   "outputs": [],
   "source": [
    "alt.Chart(agg1, title=\"your_title_here\").mark_bar().encode(\n",
    "    x=alt.X(\"ct_district\", scale=alt.Scale(domain=[1, 12])),\n",
    "    y=alt.Y(\"n_projects\", scale=alt.Scale(domain=[0, 10])),\n",
    "    color=alt.Color(\n",
    "        \"n_projects\",\n",
    "        title=\"legend_title_here\",\n",
    "        scale=alt.Scale(range=calitp_color_palette.CALITP_DIVERGING_COLORS),\n",
    "    ),\n",
    ")"
   ]
  },
  {
   "cell_type": "markdown",
   "id": "1cf6657c-f0ab-4c6f-9f83-f5cf16f84e9e",
   "metadata": {},
   "source": [
    "### Finishing Touches \n",
    "* `.properties(width=400, height=250)` adjusts the size of your chart. \n",
    "* `tooltip=[columns you want]` gives you additional details on the columns you specify when you hover over each bar/circle/etc.\n",
    "* `.mark_bar(size=10)` adjusts the size of the bar/circle/etc."
   ]
  },
  {
   "cell_type": "code",
   "execution_count": 45,
   "id": "8b85dd29-88cb-4b4b-b3b7-20ee1851335e",
   "metadata": {},
   "outputs": [
    {
     "data": {
      "text/html": [
       "\n",
       "<style>\n",
       "  #altair-viz-fbb5d8c51eee441e98dcefc52605580e.vega-embed {\n",
       "    width: 100%;\n",
       "    display: flex;\n",
       "  }\n",
       "\n",
       "  #altair-viz-fbb5d8c51eee441e98dcefc52605580e.vega-embed details,\n",
       "  #altair-viz-fbb5d8c51eee441e98dcefc52605580e.vega-embed details summary {\n",
       "    position: relative;\n",
       "  }\n",
       "</style>\n",
       "<div id=\"altair-viz-fbb5d8c51eee441e98dcefc52605580e\"></div>\n",
       "<script type=\"text/javascript\">\n",
       "  var VEGA_DEBUG = (typeof VEGA_DEBUG == \"undefined\") ? {} : VEGA_DEBUG;\n",
       "  (function(spec, embedOpt){\n",
       "    let outputDiv = document.currentScript.previousElementSibling;\n",
       "    if (outputDiv.id !== \"altair-viz-fbb5d8c51eee441e98dcefc52605580e\") {\n",
       "      outputDiv = document.getElementById(\"altair-viz-fbb5d8c51eee441e98dcefc52605580e\");\n",
       "    }\n",
       "    const paths = {\n",
       "      \"vega\": \"https://cdn.jsdelivr.net/npm/vega@5?noext\",\n",
       "      \"vega-lib\": \"https://cdn.jsdelivr.net/npm/vega-lib?noext\",\n",
       "      \"vega-lite\": \"https://cdn.jsdelivr.net/npm/vega-lite@5.17.0?noext\",\n",
       "      \"vega-embed\": \"https://cdn.jsdelivr.net/npm/vega-embed@6?noext\",\n",
       "    };\n",
       "\n",
       "    function maybeLoadScript(lib, version) {\n",
       "      var key = `${lib.replace(\"-\", \"\")}_version`;\n",
       "      return (VEGA_DEBUG[key] == version) ?\n",
       "        Promise.resolve(paths[lib]) :\n",
       "        new Promise(function(resolve, reject) {\n",
       "          var s = document.createElement('script');\n",
       "          document.getElementsByTagName(\"head\")[0].appendChild(s);\n",
       "          s.async = true;\n",
       "          s.onload = () => {\n",
       "            VEGA_DEBUG[key] = version;\n",
       "            return resolve(paths[lib]);\n",
       "          };\n",
       "          s.onerror = () => reject(`Error loading script: ${paths[lib]}`);\n",
       "          s.src = paths[lib];\n",
       "        });\n",
       "    }\n",
       "\n",
       "    function showError(err) {\n",
       "      outputDiv.innerHTML = `<div class=\"error\" style=\"color:red;\">${err}</div>`;\n",
       "      throw err;\n",
       "    }\n",
       "\n",
       "    function displayChart(vegaEmbed) {\n",
       "      vegaEmbed(outputDiv, spec, embedOpt)\n",
       "        .catch(err => showError(`Javascript Error: ${err.message}<br>This usually means there's a typo in your chart specification. See the javascript console for the full traceback.`));\n",
       "    }\n",
       "\n",
       "    if(typeof define === \"function\" && define.amd) {\n",
       "      requirejs.config({paths});\n",
       "      require([\"vega-embed\"], displayChart, err => showError(`Error loading script: ${err.message}`));\n",
       "    } else {\n",
       "      maybeLoadScript(\"vega\", \"5\")\n",
       "        .then(() => maybeLoadScript(\"vega-lite\", \"5.17.0\"))\n",
       "        .then(() => maybeLoadScript(\"vega-embed\", \"6\"))\n",
       "        .catch(showError)\n",
       "        .then(() => displayChart(vegaEmbed));\n",
       "    }\n",
       "  })({\"config\": {\"view\": {\"continuousWidth\": 300, \"continuousHeight\": 300}}, \"data\": {\"name\": \"data-04c1224c4cb5ae5875c6dcd62d920eb7\"}, \"mark\": {\"type\": \"bar\", \"size\": 10}, \"encoding\": {\"color\": {\"field\": \"n_projects\", \"scale\": {\"range\": [\"#E16B26\", \"#EB9F3C\", \"#f6e7e1\", \"#8CBCCB\", \"#2EA8CE\", \"#136C97\"]}, \"title\": \"legend_title_here\", \"type\": \"quantitative\"}, \"tooltip\": [{\"field\": \"ct_district\", \"type\": \"quantitative\"}, {\"field\": \"n_projects\", \"type\": \"quantitative\"}], \"x\": {\"field\": \"ct_district\", \"scale\": {\"domain\": [1, 12]}, \"type\": \"quantitative\"}, \"y\": {\"field\": \"n_projects\", \"scale\": {\"domain\": [0, 10]}, \"type\": \"quantitative\"}}, \"height\": 250, \"title\": \"your_title_here\", \"width\": 400, \"$schema\": \"https://vega.github.io/schema/vega-lite/v5.17.0.json\", \"datasets\": {\"data-04c1224c4cb5ae5875c6dcd62d920eb7\": [{\"ct_district\": 1, \"median_score\": 72.0, \"min_score\": 72, \"max_score\": 72, \"n_projects\": 1}, {\"ct_district\": 2, \"median_score\": 61.5, \"min_score\": 60, \"max_score\": 63, \"n_projects\": 2}, {\"ct_district\": 3, \"median_score\": 80.5, \"min_score\": 54, \"max_score\": 97, \"n_projects\": 6}, {\"ct_district\": 4, \"median_score\": 70.5, \"min_score\": 60, \"max_score\": 97, \"n_projects\": 6}, {\"ct_district\": 5, \"median_score\": 77.0, \"min_score\": 58, \"max_score\": 98, \"n_projects\": 4}, {\"ct_district\": 6, \"median_score\": 72.0, \"min_score\": 63, \"max_score\": 77, \"n_projects\": 3}, {\"ct_district\": 7, \"median_score\": 82.0, \"min_score\": 79, \"max_score\": 94, \"n_projects\": 3}, {\"ct_district\": 8, \"median_score\": 73.0, \"min_score\": 66, \"max_score\": 85, \"n_projects\": 5}, {\"ct_district\": 9, \"median_score\": 75.0, \"min_score\": 67, \"max_score\": 87, \"n_projects\": 3}, {\"ct_district\": 10, \"median_score\": 72.5, \"min_score\": 59, \"max_score\": 86, \"n_projects\": 2}, {\"ct_district\": 11, \"median_score\": 75.0, \"min_score\": 55, \"max_score\": 89, \"n_projects\": 5}, {\"ct_district\": 12, \"median_score\": 72.5, \"min_score\": 60, \"max_score\": 97, \"n_projects\": 4}]}}, {\"mode\": \"vega-lite\"});\n",
       "</script>"
      ],
      "text/plain": [
       "alt.Chart(...)"
      ]
     },
     "execution_count": 45,
     "metadata": {},
     "output_type": "execute_result"
    }
   ],
   "source": [
    "alt.Chart(agg1, title=\"your_title_here\").mark_bar(size = 10).encode(\n",
    "    x=alt.X(\"ct_district\", scale=alt.Scale(domain=[1, 12])),\n",
    "    y=alt.Y(\"n_projects\", scale=alt.Scale(domain=[0, 10])),\n",
    "    color=alt.Color(\n",
    "        \"n_projects\",\n",
    "        title=\"legend_title_here\",\n",
    "        scale=alt.Scale(range=calitp_color_palette.CALITP_DIVERGING_COLORS),\n",
    "    ),\n",
    "    tooltip=[\"ct_district\", \"n_projects\"]\n",
    ").properties(width=400, height=250)"
   ]
  },
  {
   "cell_type": "markdown",
   "id": "281e37d9-8ece-471d-abc2-38e4ad9f9e83",
   "metadata": {},
   "source": [
    "### We have only visualized one column of data. \n",
    "* We have only visualized one column of data, but we have a couple of columns above. \n",
    "* Try to customize your graph. If you can dream it, you can probably do it with Altair. \n",
    "    * You can turn off the grid lines, rotate the axis labels by various degrees, label the bars, add a dropdown menu to change the axis, and more. \n",
    "* Make a few other charts in different styles.\n",
    "* Inspiration\n",
    "    * Altair's [gallery](https://altair-viz.github.io/gallery/index.html)\n",
    "    * DDS's [portfolio](https://analysis.calitp.org/)\n"
   ]
  }
 ],
 "metadata": {
  "kernelspec": {
   "display_name": "Python 3 (ipykernel)",
   "language": "python",
   "name": "python3"
  },
  "language_info": {
   "codemirror_mode": {
    "name": "ipython",
    "version": 3
   },
   "file_extension": ".py",
   "mimetype": "text/x-python",
   "name": "python",
   "nbconvert_exporter": "python",
   "pygments_lexer": "ipython3",
   "version": "3.9.13"
  }
 },
 "nbformat": 4,
 "nbformat_minor": 5
}
