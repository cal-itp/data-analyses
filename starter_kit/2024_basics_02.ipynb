{
 "cells": [
  {
   "cell_type": "markdown",
   "id": "685c09c1-4d11-42a8-a213-8267137eede8",
   "metadata": {},
   "source": [
    "# Exercise 2: Merging, Aggregating, Filtering, and Visualizing"
   ]
  },
  {
   "cell_type": "code",
   "execution_count": null,
   "id": "6cbbfb96-1e9e-400a-9884-72f08d1191f3",
   "metadata": {},
   "outputs": [],
   "source": [
    "import altair as alt\n",
    "import pandas as pd"
   ]
  },
  {
   "cell_type": "code",
   "execution_count": null,
   "id": "3da62b06-24b4-4791-a073-185ee3765152",
   "metadata": {},
   "outputs": [],
   "source": [
    "pd.options.display.max_columns = 100\n",
    "pd.options.display.float_format = \"{:.2f}\".format\n",
    "pd.set_option(\"display.max_rows\", None)\n",
    "pd.set_option(\"display.max_colwidth\", None)"
   ]
  },
  {
   "cell_type": "markdown",
   "id": "616f1aed-d082-4e49-8eae-5c3acf87155f",
   "metadata": {},
   "source": [
    "* Read back in the `parquet` file with the `overall_score` you created from exercise 1.\n",
    "* Read the Excel sheet containing the project information (scope of work, district, and project name).\n",
    "* Use f-strings."
   ]
  },
  {
   "cell_type": "code",
   "execution_count": null,
   "id": "e7e4cafe-eb24-477b-a45c-88bfcaff37f3",
   "metadata": {},
   "outputs": [],
   "source": [
    "GCS_FILE_PATH = \"gs://calitp-analytics-data/data-analyses/starter_kit/\""
   ]
  },
  {
   "cell_type": "code",
   "execution_count": null,
   "id": "2c4af22f-91ac-4e03-8b80-2121adc9a348",
   "metadata": {},
   "outputs": [],
   "source": [
    "EXCEL_FILE = \"starter_kit_csis_scoring_workbook.xlsx\""
   ]
  },
  {
   "cell_type": "code",
   "execution_count": null,
   "id": "873bfb72-9b47-472c-a18b-248be7f8c694",
   "metadata": {},
   "outputs": [],
   "source": [
    "OVERALL_SCORE_FILE = \"starter_kit_example_final_scores.parquet\""
   ]
  },
  {
   "cell_type": "code",
   "execution_count": null,
   "id": "6cf0c667-b81a-430f-afb8-68f4e0f0a147",
   "metadata": {},
   "outputs": [],
   "source": [
    "projects_df = pd.read_excel(f\"{GCS_FILE_PATH}{EXCEL_FILE}\")"
   ]
  },
  {
   "cell_type": "code",
   "execution_count": null,
   "id": "7de4e3b1-15bb-4f37-a392-36c3c0d3e39d",
   "metadata": {},
   "outputs": [],
   "source": [
    "projects_df.head(2)"
   ]
  },
  {
   "cell_type": "code",
   "execution_count": null,
   "id": "8a5e10d5-f978-408d-87d9-05f930038a47",
   "metadata": {},
   "outputs": [],
   "source": [
    "overall_scores_df = pd.read_parquet(f\"{GCS_FILE_PATH}{OVERALL_SCORE_FILE}\")"
   ]
  },
  {
   "cell_type": "code",
   "execution_count": null,
   "id": "898592ba-7655-41c9-a982-251491bd9083",
   "metadata": {},
   "outputs": [],
   "source": [
    "overall_scores_df.head(2)"
   ]
  },
  {
   "cell_type": "markdown",
   "id": "58e35b64-d192-4c6c-8f5d-044a3414ca68",
   "metadata": {},
   "source": [
    "## Merging \n",
    "* Your manager asks you to aggregate the dataframe by Caltrans District to find:\n",
    "    * Median overall score\n",
    "    * Max overall score \n",
    "    * Min overall score\n",
    "    * Number of unique projects\n",
    "* Annoyingly enough, the `overall_score` column and the `ct_district` are in two different dataframes. \n",
    "* You'll have to <b>merge</b> it on the common column(s) the two dataframes share.\n",
    "* Welcome to DDS! This will happen to you all the time starting now. \n",
    "\n",
    "### Relevant Resources\n",
    "* If needed, read about merges before diving in. \n",
    "    * [Resource #1 is a great tutorial for beginners](https://www.practicalpythonfordatascience.com/03_cleaning_data.html?highlight=merge#merging-dataframes-together).\n",
    "    * [Resource #2 is written by our own Tiffany Ku, but it contains some geospatial references so it's a bit more to digest](https://docs.calitp.org/data-infra/analytics_new_analysts/01-data-analysis-intro.html#merge-tabular-and-geospatial-data-for-data-analysis).\n",
    "### Food for thought \n",
    "* Which columns do the two dataframes have in common?\n",
    "* What type of merge will achieve my goal?\n",
    "    * Inner, outer, left, or right\n",
    "* What do I expect out of the merge?\n",
    "    * Do I expect all the values of the merge keys to be 1:1? Or m:1? \n",
    "    * Do I expect a project to correspond with multiple districts? Maybe, projects can and do cross multiple boundaries.\n",
    "    * Do I expect a project to correspond with only one total cost estimate value? Yes, there shouldn't be multiple cost estimates for the same project!\n",
    "* How do I go about checking the data after the merge?\n",
    "    * Which arguments are available to help me per the [docs](https://pandas.pydata.org/pandas-docs/stable/reference/api/pandas.DataFrame.merge.html)?"
   ]
  },
  {
   "cell_type": "code",
   "execution_count": null,
   "id": "ad4962ca-ed83-48a3-b1e6-79e5d5b1042b",
   "metadata": {},
   "outputs": [],
   "source": [
    "m1 = pd.merge(projects_df, overall_scores_df, on=[\"project_name\"])"
   ]
  },
  {
   "cell_type": "markdown",
   "id": "8ddf0077-061c-4d67-8881-36c9792d6e62",
   "metadata": {},
   "source": [
    "### Double Checking\n",
    "* How many rows do you expect?\n",
    "* How many unique projects are there? \n",
    "* <b>Hint</b>: check your original dataframes as well"
   ]
  },
  {
   "cell_type": "code",
   "execution_count": null,
   "id": "e820d7af-17d4-4b2a-8007-5d958a3f7d9e",
   "metadata": {},
   "outputs": [],
   "source": [
    "m1.shape"
   ]
  },
  {
   "cell_type": "code",
   "execution_count": null,
   "id": "3642de14-3bf4-47c0-bd80-3502819ea14d",
   "metadata": {},
   "outputs": [],
   "source": [
    "m1.project_name.nunique()"
   ]
  },
  {
   "cell_type": "code",
   "execution_count": null,
   "id": "4b5be67a-f579-4f22-97cb-b6b31d7b8433",
   "metadata": {},
   "outputs": [],
   "source": [
    "projects_df.project_name.nunique()"
   ]
  },
  {
   "cell_type": "markdown",
   "id": "94e866f0-bc46-43d3-92b7-dce71dc31c02",
   "metadata": {},
   "source": [
    "### The Beauty of Outer Joins \n",
    "* As you have noticed, we are missing a couple of projects.\n",
    "* This is where `outer` joins are very useful.\n",
    "* Merge your dataframes again using an `outer` join and with `indicator = True` on.\n",
    "* Using `.value_counts()` check out how many rows are found in both dataframes, the left only, and the right only"
   ]
  },
  {
   "cell_type": "code",
   "execution_count": null,
   "id": "98e92c3f-ccd4-45f8-b6a6-523ddcb4a7ac",
   "metadata": {},
   "outputs": [],
   "source": [
    "m2 = pd.merge(\n",
    "    projects_df, overall_scores_df, on=[\"project_name\"], indicator=True, how=\"outer\"\n",
    ")"
   ]
  },
  {
   "cell_type": "code",
   "execution_count": null,
   "id": "f134cddf-5220-44f9-9e15-1c5171cbedfd",
   "metadata": {},
   "outputs": [],
   "source": [
    "m2._merge.value_counts()"
   ]
  },
  {
   "cell_type": "markdown",
   "id": "aa04599b-805e-4813-ab1a-c4b9fe77cc9e",
   "metadata": {},
   "source": [
    "### Filtering\n",
    "* Filter out for only the `left_only` and `right_only` values.\n",
    "    * `!=` means does not equal to. \n",
    "    "
   ]
  },
  {
   "cell_type": "code",
   "execution_count": null,
   "id": "4dd07bab-4d1b-41a0-954e-4c2d59584e57",
   "metadata": {},
   "outputs": [],
   "source": [
    "m2.loc[m2._merge != \"both\"][[\"project_name\", \"_merge\"]]"
   ]
  },
  {
   "cell_type": "markdown",
   "id": "044330d9-8562-4510-ae62-268f240ec3bc",
   "metadata": {},
   "source": [
    "* You could also use `isin([list of elements you want to keep])`"
   ]
  },
  {
   "cell_type": "code",
   "execution_count": null,
   "id": "c47ef38d-6db5-4bf1-bd87-62b7d84943b6",
   "metadata": {},
   "outputs": [],
   "source": [
    "m2.loc[m2._merge.isin([\"left_only\",\"right_only\"])][[\"project_name\", \"_merge\"]]"
   ]
  },
  {
   "cell_type": "markdown",
   "id": "e0a6bd58-734e-4f96-b150-9a53bef7d1aa",
   "metadata": {},
   "source": [
    "### Dictionaries\n",
    "* String data is often entered in many different ways. BART can be entered in as bart, Bay Area Rapid Transit, BaRT, and more. \n",
    "* Often, strings are the reason why your dataframe is not merging properly.\n",
    "* In Excel, it's easy to go in and manually tweak everything. However, that is not reproducible and time consuming. \n",
    "* Since there are essentially only a couple of names to replace, we can do it using a <b>dictionary</b>.\n",
    "\n",
    "#### What is a dictionary?\n",
    "* Per Practical Python for Data Science, a dictionary is <i>Dictionaries are used to store data values in key:value pairs. Similar to the list, a dictionary is a collection of objects. It is also mutable, meaning that you can add, remove, change values inside of it...With the list, we access elements using the index. With the dictionary, we access elements using keys.</i>.\n",
    "    * Read more [here](https://www.practicalpythonfordatascience.com/00_python_crash_course_datatypes.html?highlight=dictionary#dictionary) and experiment with the example in the docs in this notebook.\n",
    "    "
   ]
  },
  {
   "cell_type": "code",
   "execution_count": null,
   "id": "df6fa95e-cc25-4142-8c2b-ee254863e609",
   "metadata": {},
   "outputs": [],
   "source": [
    "# Practice Here"
   ]
  },
  {
   "cell_type": "markdown",
   "id": "76e42f11-fdcb-48f3-8951-2f2cea0384c0",
   "metadata": {},
   "source": [
    "#### Replacing Values\n",
    "* [Relevanting Reading](https://www.practicalpythonfordatascience.com/03_cleaning_data#recoding-column-values).\n",
    "* Step 1: Filter out for the rows that <b>didn't</b> merge. Find the unique values of the `project_name` column using `.unique()`\n",
    "* Take a look at elements using \n",
    "    * Trailing white spaces\n",
    "    * Capitalization\n",
    "    * Spelling\n",
    "    * Symbols"
   ]
  },
  {
   "cell_type": "code",
   "execution_count": null,
   "id": "5601fd36-d221-41da-ab76-b88c616e5e62",
   "metadata": {},
   "outputs": [],
   "source": [
    "m2.loc[m2._merge.isin([\"left_only\",\"right_only\"])].project_name.unique()"
   ]
  },
  {
   "cell_type": "markdown",
   "id": "21f38614-3b49-45fd-97f6-7161a59ab367",
   "metadata": {},
   "source": [
    "* Step 2: Decide whether you want to rename the values in the left dataframe or the right one. \n",
    "* Step 3: The <b>keys</b>, are the values you want to replace. The <b>values</b>, are what you want to replace these values with. "
   ]
  },
  {
   "cell_type": "code",
   "execution_count": null,
   "id": "9dad92fe-87a6-434d-a62f-d269f3ad1054",
   "metadata": {},
   "outputs": [],
   "source": [
    "new_names = {\n",
    "    \"main street muffin top \": \"Main Street Muffin Top Revitalization\",\n",
    "    \"Bunny Lane HOV+2 heaven\": \"Bunny Lane HOV+2 Haven\",\n",
    "    \"Rainbow Rush hot  Lanes\": \"Rainbow Rush HOT Lanes\",\n",
    "}"
   ]
  },
  {
   "cell_type": "markdown",
   "id": "abe24864-66bd-4ce4-bb46-38a13c8bb64a",
   "metadata": {},
   "source": [
    "* Step 4: Use your dictionary in `.replace()` to recode the values."
   ]
  },
  {
   "cell_type": "code",
   "execution_count": null,
   "id": "d8532992-771e-446a-b419-55ad757ff45f",
   "metadata": {},
   "outputs": [],
   "source": [
    "projects_df.project_name = projects_df.project_name.replace(new_names)"
   ]
  },
  {
   "cell_type": "markdown",
   "id": "68562b10-b9bd-4892-8780-a66cad1a06d4",
   "metadata": {},
   "source": [
    "#### Merge your dataframes again. This time it should work.\n"
   ]
  },
  {
   "cell_type": "code",
   "execution_count": null,
   "id": "db09aa04-7a94-4b94-9ade-10b1a987e006",
   "metadata": {},
   "outputs": [],
   "source": [
    "final_m = pd.merge(projects_df, overall_scores_df, how=\"inner\", on=\"project_name\")"
   ]
  },
  {
   "cell_type": "code",
   "execution_count": null,
   "id": "04f4f6d8-55b6-460c-8a52-8626dcfd1cb9",
   "metadata": {},
   "outputs": [],
   "source": [
    "final_m.shape"
   ]
  },
  {
   "cell_type": "code",
   "execution_count": null,
   "id": "39d74f54-a72b-4acc-91b0-b3dcb4539a92",
   "metadata": {},
   "outputs": [],
   "source": [
    "final_m.head(1)"
   ]
  },
  {
   "cell_type": "markdown",
   "id": "3965dc2d-9603-4a95-a1fd-ef0b7a80eaaa",
   "metadata": {},
   "source": [
    "* Save this dataframe as a parquet to GCS under a new name"
   ]
  },
  {
   "cell_type": "code",
   "execution_count": null,
   "id": "70410a43-62c9-467c-b777-3415f22abe01",
   "metadata": {},
   "outputs": [],
   "source": [
    "\n",
    "final_m.to_parquet(f\"{GCS_FILE_PATH}starter_kit_example_merge.parquet\")"
   ]
  },
  {
   "cell_type": "markdown",
   "id": "8bf3c941-3f75-4a09-af3b-ded004a65cab",
   "metadata": {},
   "source": [
    "## Groupby\n",
    "* You're done merging...Oh wait, that wasn't even part of your manager's request. You still need to aggregate. \n",
    "* The refresh your memory: by Caltrans District to find\n",
    "    * Median overall score\n",
    "    * Max overall score \n",
    "    * Min overall score\n",
    "    * Number of unique projects\n",
    "* There are many options Some are `groupby / agg`, `pivot_table`, `groupby / transform`\n",
    "* <b>Resources</b>:[DDS Docs](https://docs.calitp.org/data-infra/analytics_new_analysts/01-data-analysis-intro.html#aggregating)\n",
    "    * Use the space below and explore these tutorials. Then, apply your new knowledge to the prompt above."
   ]
  },
  {
   "cell_type": "code",
   "execution_count": null,
   "id": "7328fcf2-ea52-46b8-8624-a7f3f39428df",
   "metadata": {},
   "outputs": [],
   "source": [
    "final_m[\"min_score\"] = final_m.overall_score"
   ]
  },
  {
   "cell_type": "code",
   "execution_count": null,
   "id": "8dc4063c-1150-4b67-a125-16f245f4b9c4",
   "metadata": {},
   "outputs": [],
   "source": [
    "final_m[\"max_score\"] = final_m.overall_score"
   ]
  },
  {
   "cell_type": "code",
   "execution_count": null,
   "id": "0892a805-7d7f-47cf-b086-f5e320c5361c",
   "metadata": {},
   "outputs": [],
   "source": [
    "agg1 = (\n",
    "    final_m.groupby([\"ct_district\"])\n",
    "    .agg(\n",
    "        {\n",
    "            \"overall_score\": \"median\",\n",
    "            \"min_score\": \"min\",\n",
    "            \"max_score\": \"max\",\n",
    "            \"project_name\": \"nunique\",\n",
    "        }\n",
    "    )\n",
    "    .reset_index()\n",
    ")"
   ]
  },
  {
   "cell_type": "code",
   "execution_count": null,
   "id": "94c178b1-ff70-4d63-8820-aef101928c75",
   "metadata": {},
   "outputs": [],
   "source": [
    "agg1 = agg1.rename(\n",
    "    columns={\"overall_score\": \"median_score\", \"project_name\": \"n_projects\"}\n",
    ")"
   ]
  },
  {
   "cell_type": "code",
   "execution_count": null,
   "id": "70178e81-0d11-4d19-9001-96e466d6dced",
   "metadata": {},
   "outputs": [],
   "source": [
    "agg1"
   ]
  },
  {
   "cell_type": "markdown",
   "id": "452b850a-7e15-473f-93d8-0133d496fa96",
   "metadata": {},
   "source": [
    "## Visualizing \n",
    "* You're done aggregating, but the dataframe looks objectively plain.\n",
    "* Unfortunately in the world of data, looks <b>do</b> matter. \n",
    "* Let's explore a couple of ways to present your data."
   ]
  },
  {
   "cell_type": "markdown",
   "id": "ba703a21-6e54-4667-8607-d4b8900f6371",
   "metadata": {},
   "source": [
    "### Styling a Dataframe\n",
    "* `pandas` has quite a few options that allow you to style your dataframe.\n",
    "* [This tutorial](https://betterdatascience.com/style-pandas-dataframes/) offers some great ways to jazz up your dataframe.\n",
    "* You can always read the [pandas documentation](https://pandas.pydata.org/pandas-docs/stable/user_guide/style.html) for more ideas.\n",
    "* Some ideas:\n",
    "    * Change the font\n",
    "    * Turn off the index\n",
    "    * Use colors to indicate low-high values\n",
    "    * Change the alignment of the values"
   ]
  },
  {
   "cell_type": "markdown",
   "id": "c251617a-1936-4df1-b461-cc63f4be5e37",
   "metadata": {},
   "source": [
    "### Altair\n",
    "* While a table is great, sometimes the stakeholder prefers a chart. \n",
    "* Our preferred visualization library is `Altair`, although there are other options.\n",
    "    * Their docs page is [here](https://altair-viz.github.io/).\n",
    "* The code to create a simple bar chart goes something like this. \n",
    "    * `alt.Chart(source).mark_bar().encode(x='a',y='b')`\n",
    "    * `source` is the dataframe you want to use for your chart.\n",
    "    * `x` denotes the column you are plotting on the X-axis. Make sure your column name has quotation marks around it. \n",
    "    * `y` denotes the column you are plotting on the Y-axis. \n",
    "* <b>Make your first chart below.</b>"
   ]
  },
  {
   "cell_type": "code",
   "execution_count": null,
   "id": "fdcece32-d053-4b32-9e76-0f5ffed9ff52",
   "metadata": {},
   "outputs": [],
   "source": [
    "alt.Chart(agg1).mark_bar().encode(x=\"ct_district\", y=\"n_projects\")"
   ]
  },
  {
   "cell_type": "markdown",
   "id": "ff3cf65e-174c-4ee2-bdc3-ca07f3bb951f",
   "metadata": {},
   "source": [
    "#### Customizing\n",
    "* `altair` offers an endless ways to amp up the personality of your chart.\n",
    "* Additionally, the chart above without a title and legend is a data visualization \"taboo\" and the dull blue is uninspiring. \n",
    "\n",
    "##### Add a title\n",
    "* You can do so within `.Chart()`"
   ]
  },
  {
   "cell_type": "code",
   "execution_count": null,
   "id": "88e1dff9-0188-49c9-b6cc-599610aca9a7",
   "metadata": {},
   "outputs": [],
   "source": [
    "alt.Chart(agg1, title=\"your_title_here\").mark_bar().encode(\n",
    "    x=\"ct_district\", y=\"n_projects\"\n",
    ")"
   ]
  },
  {
   "cell_type": "markdown",
   "id": "03fa6313-cbf7-4c3a-af76-8012b0a927ef",
   "metadata": {},
   "source": [
    "### Different Charts\n",
    "* If you want something that isn't a bar chart, simply swap out `.mark_bar()` for `.mark_line` or `mark_circle`.\n"
   ]
  },
  {
   "cell_type": "code",
   "execution_count": null,
   "id": "d43cae4f-1faf-48fb-8c21-559feb5243b1",
   "metadata": {},
   "outputs": [],
   "source": [
    "alt.Chart(agg1, title=\"your_title_here\").mark_circle().encode(\n",
    "    x=\"ct_district\", y=\"n_projects\"\n",
    ")"
   ]
  },
  {
   "cell_type": "markdown",
   "id": "1d7073ac-6528-4999-9c9c-94c8147c0ac6",
   "metadata": {},
   "source": [
    "#### Add some color/DDS's Python Library\n",
    "* We have some default color palettes that are already in our [internal library of functions](https://docs.calitp.org/data-infra/analytics_tools/python_libraries.html#calitp-data-analysis)."
   ]
  },
  {
   "cell_type": "code",
   "execution_count": null,
   "id": "cb8df2a3-bf37-4fe4-833e-1259a6ad7f15",
   "metadata": {},
   "outputs": [],
   "source": [
    "# Import the color palettes like so  \n",
    "from calitp_data_analysis import calitp_color_palette"
   ]
  },
  {
   "cell_type": "markdown",
   "id": "102dac58-605a-4bfb-88f8-b9a11ea86b83",
   "metadata": {},
   "source": [
    "* To see what is inside a module,  put two question marks behind it.\n",
    "* From here, you can choose another color palette."
   ]
  },
  {
   "cell_type": "code",
   "execution_count": null,
   "id": "aa21d088-3360-4d3e-811c-8cc5bdb2d3a8",
   "metadata": {
    "scrolled": true,
    "tags": []
   },
   "outputs": [],
   "source": [
    "calitp_color_palette??"
   ]
  },
  {
   "cell_type": "code",
   "execution_count": null,
   "id": "c629f242-9b1b-49d1-b4b0-1bb956782d69",
   "metadata": {},
   "outputs": [],
   "source": [
    "alt.Chart(agg1, title=\"your_title_here\").mark_bar().encode(\n",
    "    x=\"ct_district\",\n",
    "    y=\"n_projects\",\n",
    "    color=alt.Color(\n",
    "        \"n_projects\",  # This is the column you want the color of your bar to be based on\n",
    "        title=\"legend_title_here\",  # This is the legend of your title\n",
    "        scale=alt.Scale(\n",
    "            range=calitp_color_palette.CALITP_DIVERGING_COLORS # This is where you can customize the colors,\n",
    "        ),  \n",
    "    ),\n",
    ")"
   ]
  },
  {
   "cell_type": "markdown",
   "id": "565ba059-6e2c-4d2b-99a4-665e39c0a0e5",
   "metadata": {},
   "source": [
    "#### Adjusting the Axis\n",
    "* Sometimes, we want to adjust the axis to have a min and max value.\n",
    "* You do so using the `scale=alt.Scale(domain=[min_value, max_value]))` argument behind the X and Y axis.\n",
    "* `alt.X()` and `alt.Y` gives you many more customization options."
   ]
  },
  {
   "cell_type": "code",
   "execution_count": null,
   "id": "9832f9fc-53a3-4c5e-ba87-4b346d6f6985",
   "metadata": {},
   "outputs": [],
   "source": [
    "alt.Chart(agg1, title=\"your_title_here\").mark_bar().encode(\n",
    "    x=alt.X(\"ct_district\", scale=alt.Scale(domain=[1, 12])),\n",
    "    y=alt.Y(\"n_projects\", scale=alt.Scale(domain=[0, 10])),\n",
    "    color=alt.Color(\n",
    "        \"n_projects\",\n",
    "        title=\"legend_title_here\",\n",
    "        scale=alt.Scale(range=calitp_color_palette.CALITP_DIVERGING_COLORS),\n",
    "    ),\n",
    ")"
   ]
  },
  {
   "cell_type": "markdown",
   "id": "1cf6657c-f0ab-4c6f-9f83-f5cf16f84e9e",
   "metadata": {},
   "source": [
    "### Finishing Touches \n",
    "* `.properties(width=400, height=250)` adjusts the size of your chart. \n",
    "* `tooltip=[columns you want]` gives you additional details on the columns you specify when you hover over each bar/circle/etc.\n",
    "* `.mark_bar(size=30)` adjusts the size of the bar/circle/etc."
   ]
  },
  {
   "cell_type": "code",
   "execution_count": null,
   "id": "8b85dd29-88cb-4b4b-b3b7-20ee1851335e",
   "metadata": {},
   "outputs": [],
   "source": [
    "alt.Chart(agg1, title=\"your_title_here\").mark_bar(size = 10).encode(\n",
    "    x=alt.X(\"ct_district\", scale=alt.Scale(domain=[1, 12])),\n",
    "    y=alt.Y(\"n_projects\", scale=alt.Scale(domain=[0, 10])),\n",
    "    color=alt.Color(\n",
    "        \"n_projects\",\n",
    "        title=\"legend_title_here\",\n",
    "        scale=alt.Scale(range=calitp_color_palette.CALITP_DIVERGING_COLORS),\n",
    "    ),\n",
    "    tooltip=[\"ct_district\", \"n_projects\"]\n",
    ").properties(width=400, height=250)"
   ]
  },
  {
   "cell_type": "markdown",
   "id": "281e37d9-8ece-471d-abc2-38e4ad9f9e83",
   "metadata": {},
   "source": [
    "### We have only visualized one column of data. \n",
    "* We have only visualized one column of data, but we have a couple of columns above. \n",
    "* Make a few other charts in different styles. Altair's [gallery](https://altair-viz.github.io/gallery/index.html) is a great resource for inspiration."
   ]
  }
 ],
 "metadata": {
  "kernelspec": {
   "display_name": "Python 3 (ipykernel)",
   "language": "python",
   "name": "python3"
  },
  "language_info": {
   "codemirror_mode": {
    "name": "ipython",
    "version": 3
   },
   "file_extension": ".py",
   "mimetype": "text/x-python",
   "name": "python",
   "nbconvert_exporter": "python",
   "pygments_lexer": "ipython3",
   "version": "3.9.13"
  }
 },
 "nbformat": 4,
 "nbformat_minor": 5
}
