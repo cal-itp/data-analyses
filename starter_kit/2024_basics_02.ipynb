{
 "cells": [
  {
   "cell_type": "markdown",
   "id": "685c09c1-4d11-42a8-a213-8267137eede8",
   "metadata": {},
   "source": [
    "# Exercise 2: Merging and Deriving New Columns"
   ]
  },
  {
   "cell_type": "code",
   "execution_count": null,
   "id": "cf79dda1-8860-4841-be55-4aa144541fee",
   "metadata": {},
   "outputs": [],
   "source": [
    "# Use GTFS Digest "
   ]
  }
 ],
 "metadata": {
  "kernelspec": {
   "display_name": "Python 3 (ipykernel)",
   "language": "python",
   "name": "python3"
  },
  "language_info": {
   "codemirror_mode": {
    "name": "ipython",
    "version": 3
   },
   "file_extension": ".py",
   "mimetype": "text/x-python",
   "name": "python",
   "nbconvert_exporter": "python",
   "pygments_lexer": "ipython3",
   "version": "3.9.13"
  }
 },
 "nbformat": 4,
 "nbformat_minor": 5
}
