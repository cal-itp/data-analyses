{
 "cells": [
  {
   "cell_type": "markdown",
   "id": "685c09c1-4d11-42a8-a213-8267137eede8",
   "metadata": {},
   "source": [
    "# Exercise 2: Merging and Deriving New Columns"
   ]
  },
  {
   "cell_type": "code",
   "execution_count": 1,
   "id": "cf79dda1-8860-4841-be55-4aa144541fee",
   "metadata": {},
   "outputs": [
    {
     "ename": "SyntaxError",
     "evalue": "invalid syntax (3914705476.py, line 2)",
     "output_type": "error",
     "traceback": [
      "\u001b[0;36m  Cell \u001b[0;32mIn[1], line 2\u001b[0;36m\u001b[0m\n\u001b[0;31m    * We can read in the Excel workbook above using the URL:\u001b[0m\n\u001b[0m         ^\u001b[0m\n\u001b[0;31mSyntaxError\u001b[0m\u001b[0;31m:\u001b[0m invalid syntax\n"
     ]
    }
   ],
   "source": [
    "### Now open data in this notebook: An Intro to F Strings\n",
    "* We can read in the Excel workbook above using the URL:\n",
    "`df = pd.read_excel(\"gs://calitp-analytics-data/data-analyses/starter_kit/starter_kit_csis_scoring_workbook.xlsx\")`\n",
    "* However, this is a bit of an eyesore. Additionally, you might want to save your finished work  into the folder `starter_kit`. \n",
    "* This is where f-strings come in. Wht are f-strings? \n",
    "> Python f-strings provide a quick way to interpolate and format strings. They’re readable, concise, and less prone to error than traditional string interpolation and formatting tools...\n",
    "    * Read more about them [here](https://realpython.com/python-f-strings/#f-strings-a-new-and-improved-way-to-format-strings-in-python).\n",
    "\n",
    "* Here's an example:\n",
    "`base_url = \"https://www.instagram.com/\"` \n",
    "`first_profile = \"zendaya\"`\n",
    "    * When you combine them, as `f\"{base_url}{first_profile}\"` it will yield `https://www.instagram.com/zendaya`.\n",
    "    * What if you want another instagram profile? Simply combine your second_profile with the base_url.  \n",
    "    `second_profile = anyataylorjoy`\n",
    "    `f\"{base_url}{second_profile}\"`\n",
    "    \n",
    "    "
   ]
  },
  {
   "cell_type": "code",
   "execution_count": null,
   "id": "47ba0b17-609b-4013-bb31-a3ebd4e82a9a",
   "metadata": {},
   "outputs": [],
   "source": [
    "## Merging \n",
    "* Your manager asks you to present the average overall score, the max score, and the min score by each Caltrans District.\n",
    "* Annoyingly enough, the `overall_score` column and the `ct_district` are in two different dataframes.\n",
    "* Welcome to DDS! This will happen to you all the time starting now. \n",
    "* Thankfully, merging couldn't be simpler...some of the time..."
   ]
  },
  {
   "cell_type": "code",
   "execution_count": null,
   "id": "1ded8924-d42a-4d21-a79d-a8d70b01d43f",
   "metadata": {},
   "outputs": [],
   "source": [
    "## Make a Chart \n",
    "* Read in the parquet file from GCS using F Strings.\n",
    "* Make a visualization using one `Altair` (link to Altair)\n",
    "    * Requirements: use color blind friendly palette (link to doc)\n",
    "    * The chart must be in Century-Gothic font (link to CSIS example)\n",
    "    * Size it to be 600 pixels wide, 400 pixels high"
   ]
  }
 ],
 "metadata": {
  "kernelspec": {
   "display_name": "Python 3 (ipykernel)",
   "language": "python",
   "name": "python3"
  },
  "language_info": {
   "codemirror_mode": {
    "name": "ipython",
    "version": 3
   },
   "file_extension": ".py",
   "mimetype": "text/x-python",
   "name": "python",
   "nbconvert_exporter": "python",
   "pygments_lexer": "ipython3",
   "version": "3.9.13"
  }
 },
 "nbformat": 4,
 "nbformat_minor": 5
}
