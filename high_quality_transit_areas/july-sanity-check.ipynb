{
 "cells": [
  {
   "cell_type": "markdown",
   "id": "8cf89977-1532-44b8-ae61-5e8b68979410",
   "metadata": {},
   "source": [
    "# Check July HQTA data\n",
    "\n",
    "Are `hqta_points` or `hqta_areas` falling in Stanislaus National Forest when they're not supposed to?\n",
    "\n",
    "## Debug steps\n",
    "* Open geoparquets from July and June to do side-by-side comparisons. Rule out whether it's a June export issue or something we haven't caught until now.\n",
    "* Do some local checks for LA Metro, CulverCityBus, since those are some `major_stop_bus` points that were in the forest. Check other `hqta_type` too.\n",
    "* Do a hyper-local check, by selecting attributes seen in the forest, then plot each individual point to see whether most of the points are on the street network, and one is off in the forest.\n",
    "* If error can't be reproduced from geoparquets, check shapefile and file geodatabase\n",
    "* Can't reproduce error from notebook from June or July\n",
    "* Go through next steps when geoparquet -> shapefile: check ArcMap to see if forest points appear \n",
    "* When shapefile -> file gdb feature class: check ArcMap to see if forest points appear\n",
    "\n",
    "## Findings\n",
    "* Cannot reproduce error going from our June/July geoparquets\n",
    "* Cannot reproduce error converting June geoparquet to shapefile\n",
    "* Cannot reproduce error converting June shapefile to file gdb feature class\n",
    "\n",
    "## Solution\n",
    "* Rerun July export, double check if any points or polygons are in the forest. If not, send that new update out to replace open data portal datasets."
   ]
  },
  {
   "cell_type": "code",
   "execution_count": null,
   "id": "797d0186-9d0c-473d-97d1-c3d6e1650813",
   "metadata": {},
   "outputs": [],
   "source": [
    "import geopandas as gpd\n",
    "import pandas as pd\n",
    "\n",
    "from utilities import GCS_FILE_PATH"
   ]
  },
  {
   "cell_type": "code",
   "execution_count": null,
   "id": "9ff004f7-6bb2-442d-8a9b-1e4e96b33aa3",
   "metadata": {},
   "outputs": [],
   "source": [
    "july_points = gpd.read_parquet(f\"{GCS_FILE_PATH}hqta_points.parquet\")\n",
    "july_areas = gpd.read_parquet(f\"{GCS_FILE_PATH}hqta_areas.parquet\")\n",
    "\n",
    "june_points = gpd.read_parquet(\"./june_ca_hq_transit_stops.parquet\")\n",
    "june_areas = gpd.read_parquet(\"./june_ca_hq_transit_areas.parquet\")\n",
    "\n",
    "hqta_types = july_points.hqta_type.unique().tolist()\n",
    "hqta_details = july_points.hqta_details.unique().tolist()"
   ]
  },
  {
   "cell_type": "markdown",
   "id": "b90c1847-0c2f-47b5-8f2d-ea1740509aed",
   "metadata": {},
   "source": [
    "## Pick combinations that show up in Stanislaus National Forest, plot individually\n",
    "\n",
    "None of these points fall in the forest, all in LA street network, as expected.\n",
    "\n",
    "Can't reproduce error from geoparquets."
   ]
  },
  {
   "cell_type": "code",
   "execution_count": null,
   "id": "a80d94b2-0e06-4ffc-abb9-2e7808361296",
   "metadata": {},
   "outputs": [],
   "source": [
    "primary = 300 #87\n",
    "secondary = 87 #182\n",
    "\n",
    "details = \"intersection_2_bus_routes_different_operators\"\n",
    "\n",
    "explore_me = june_areas[(june_areas.calitp_itp_id_primary==primary) & \n",
    "           (june_areas.calitp_itp_id_secondary==secondary) & \n",
    "           (june_areas.hqta_details==details)].reset_index(drop=True)\n",
    "\n",
    "print(len(explore_me))\n",
    "explore_me"
   ]
  },
  {
   "cell_type": "code",
   "execution_count": null,
   "id": "02e57f6c-4752-4073-9234-21b373d512e3",
   "metadata": {},
   "outputs": [],
   "source": [
    "for i in range(0, len(explore_me)):\n",
    "    one_point = explore_me[explore_me.index==i]\n",
    "    display(one_point.explore(\"hqta_details\"))"
   ]
  },
  {
   "cell_type": "markdown",
   "id": "9c3fa2b7-ba6f-4811-b7bf-375454bbd427",
   "metadata": {},
   "source": [
    "## Side-by-side maps for July 2022 and June 2022\n",
    "\n",
    "No points fall in Stanislaus National Forest. \n",
    "\n",
    "Maps look fairly similar for the 2 months.\n",
    "\n",
    "**But, LA Metro's BRT is missing, go back to `A1_download_rail_ferry_brt_stops` to figure out why it's being missed in the custom filtering**"
   ]
  },
  {
   "cell_type": "code",
   "execution_count": null,
   "id": "ab327cbb-654e-4bdb-a0f0-bd7cd5d5898f",
   "metadata": {},
   "outputs": [],
   "source": [
    "def plot_by_group(gdf_after, gdf_before, category_list: list, col: str, figsize=(5, 5)):\n",
    "    for i in category_list:\n",
    "        subset1 = gdf_after[gdf_after[col]==i]\n",
    "        subset2 = gdf_before[gdf_before[col]==i]\n",
    "        \n",
    "        if len(subset1) > 0:\n",
    "            m1= subset1.plot(column=\"calitp_itp_id_primary\", figsize=figsize, cmap=\"cividis\")\n",
    "            m1.set_title(f\"july: {i}\")\n",
    "            print(m1)\n",
    "        if len(subset2) > 0:\n",
    "            m2 = subset2.plot(column=\"calitp_itp_id_primary\", figsize=figsize, cmap=\"viridis\")\n",
    "            m2.set_title(f\"june: {i}\")\n",
    "            print(m2)"
   ]
  },
  {
   "cell_type": "code",
   "execution_count": null,
   "id": "8cc08cad-1dc6-419a-bc87-8a2e8f032d02",
   "metadata": {},
   "outputs": [],
   "source": [
    "plot_by_group(july_points, june_points, hqta_types, \"hqta_type\", figsize=(5, 5))"
   ]
  },
  {
   "cell_type": "code",
   "execution_count": null,
   "id": "ef46eaf6-536e-4cc4-b9a8-918eb2885fa8",
   "metadata": {},
   "outputs": [],
   "source": [
    "plot_by_group(july_areas, june_areas, hqta_types, \"hqta_type\", figsize=(10, 10))"
   ]
  },
  {
   "cell_type": "markdown",
   "id": "73c3593d-3060-480f-b8dc-591c683c59b7",
   "metadata": {},
   "source": [
    "## LA Metro comparison"
   ]
  },
  {
   "cell_type": "code",
   "execution_count": null,
   "id": "5e8becf6-e68f-4a55-a754-ca59b2857236",
   "metadata": {},
   "outputs": [],
   "source": [
    "plot_by_group(july_areas[july_areas.calitp_itp_id_primary==182], \n",
    "              june_areas[june_areas.calitp_itp_id_primary==182], \n",
    "              hqta_types, \"hqta_type\", figsize=(5, 5))"
   ]
  },
  {
   "cell_type": "code",
   "execution_count": null,
   "id": "eed09766-4a55-468f-b773-e5628a1a0ad1",
   "metadata": {},
   "outputs": [],
   "source": [
    "metro_july = july_areas[july_areas.calitp_itp_id_primary==182]\n",
    "metro_june = june_areas[june_areas.calitp_itp_id_primary==182]"
   ]
  },
  {
   "cell_type": "code",
   "execution_count": null,
   "id": "54a20abb-edc1-4bba-b7a9-7d8ff1de98cd",
   "metadata": {},
   "outputs": [],
   "source": [
    "#metro_july.explore(\"hqta_type\")\n",
    "#metro_june.explore(\"hqta_type\")"
   ]
  }
 ],
 "metadata": {
  "kernelspec": {
   "display_name": "Python 3 (ipykernel)",
   "language": "python",
   "name": "python3"
  },
  "language_info": {
   "codemirror_mode": {
    "name": "ipython",
    "version": 3
   },
   "file_extension": ".py",
   "mimetype": "text/x-python",
   "name": "python",
   "nbconvert_exporter": "python",
   "pygments_lexer": "ipython3",
   "version": "3.10.5"
  }
 },
 "nbformat": 4,
 "nbformat_minor": 5
}
