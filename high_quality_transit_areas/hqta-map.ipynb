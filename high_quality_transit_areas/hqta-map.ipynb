{
 "cells": [
  {
   "cell_type": "markdown",
   "id": "d555894e-39df-493c-bf57-e3803b8f83fd",
   "metadata": {},
   "source": [
    "# High Quality Transit Areas"
   ]
  },
  {
   "cell_type": "code",
   "execution_count": 3,
   "id": "95f69b38-4e27-47f7-b8df-32fa19e10f0c",
   "metadata": {},
   "outputs": [],
   "source": [
    "import geopandas as gpd\n",
    "import pandas as pd\n",
    "\n",
    "GCS_FILE_PATH = \"gs://calitp-analytics-data/data-analyses/high_quality_transit_areas/\""
   ]
  },
  {
   "cell_type": "markdown",
   "id": "de0e357d-dd5b-437f-b1e8-69cd03833eee",
   "metadata": {},
   "source": [
    "## High Quality Transit Area (polygons)"
   ]
  },
  {
   "cell_type": "code",
   "execution_count": 5,
   "id": "7d6a9459-7b83-4342-a7e4-46210aeea1e7",
   "metadata": {},
   "outputs": [],
   "source": [
    "hq_areas = gpd.read_parquet(f\"{GCS_FILE_PATH}hqta_areas.parquet\")\n",
    "hq_points = gpd.read_parquet(f\"{GCS_FILE_PATH}hqta_points.parquet\")\n",
    "\n",
    "hq_types = hq_areas.hqta_type.unique().tolist()"
   ]
  },
  {
   "cell_type": "markdown",
   "id": "b2c241a7-dc3e-4ccf-82e5-9c621bba427f",
   "metadata": {},
   "source": [
    "## High Quality Corridor (Bus)"
   ]
  },
  {
   "cell_type": "code",
   "execution_count": null,
   "id": "2f913a04-0dc3-4c1c-9789-abd473405a95",
   "metadata": {},
   "outputs": [],
   "source": []
  },
  {
   "cell_type": "markdown",
   "id": "73b64465-c50d-4494-a674-2a3806867baf",
   "metadata": {},
   "source": [
    "## Major Stop Bus\n",
    "\n",
    "Intersection of 2 frequent bus corridors."
   ]
  },
  {
   "cell_type": "code",
   "execution_count": null,
   "id": "8478dc0e-dd8b-4828-82f0-43d6d8b85062",
   "metadata": {},
   "outputs": [],
   "source": []
  },
  {
   "cell_type": "code",
   "execution_count": 8,
   "id": "3a85b6fd-0d77-40f9-95b9-d6ae4bdd4020",
   "metadata": {},
   "outputs": [
    {
     "data": {
      "text/plain": [
       "['hq_corridor_bus',\n",
       " 'major_stop_brt',\n",
       " 'major_stop_bus',\n",
       " 'major_stop_ferry',\n",
       " 'major_stop_rail']"
      ]
     },
     "execution_count": 8,
     "metadata": {},
     "output_type": "execute_result"
    }
   ],
   "source": [
    "hq_types"
   ]
  },
  {
   "cell_type": "code",
   "execution_count": 6,
   "id": "7ad30e84-3a4d-4e7a-92b1-23b1ba298e89",
   "metadata": {},
   "outputs": [
    {
     "data": {
      "text/html": [
       "<div>\n",
       "<style scoped>\n",
       "    .dataframe tbody tr th:only-of-type {\n",
       "        vertical-align: middle;\n",
       "    }\n",
       "\n",
       "    .dataframe tbody tr th {\n",
       "        vertical-align: top;\n",
       "    }\n",
       "\n",
       "    .dataframe thead th {\n",
       "        text-align: right;\n",
       "    }\n",
       "</style>\n",
       "<table border=\"1\" class=\"dataframe\">\n",
       "  <thead>\n",
       "    <tr style=\"text-align: right;\">\n",
       "      <th></th>\n",
       "      <th>calitp_itp_id_primary</th>\n",
       "      <th>calitp_itp_id_secondary</th>\n",
       "      <th>agency_name_primary</th>\n",
       "      <th>agency_name_secondary</th>\n",
       "      <th>hqta_type</th>\n",
       "      <th>hqta_details</th>\n",
       "      <th>route_id</th>\n",
       "      <th>geometry</th>\n",
       "    </tr>\n",
       "  </thead>\n",
       "  <tbody>\n",
       "    <tr>\n",
       "      <th>0</th>\n",
       "      <td>4</td>\n",
       "      <td>NaN</td>\n",
       "      <td>None</td>\n",
       "      <td>None</td>\n",
       "      <td>hq_corridor_bus</td>\n",
       "      <td>stop_along_hq_bus_corridor_single_operator</td>\n",
       "      <td>10</td>\n",
       "      <td>MULTIPOLYGON (((-122.09630 37.66977, -122.0963...</td>\n",
       "    </tr>\n",
       "    <tr>\n",
       "      <th>1</th>\n",
       "      <td>4</td>\n",
       "      <td>NaN</td>\n",
       "      <td>None</td>\n",
       "      <td>None</td>\n",
       "      <td>hq_corridor_bus</td>\n",
       "      <td>stop_along_hq_bus_corridor_single_operator</td>\n",
       "      <td>12</td>\n",
       "      <td>MULTIPOLYGON (((-122.28506 37.79833, -122.2850...</td>\n",
       "    </tr>\n",
       "  </tbody>\n",
       "</table>\n",
       "</div>"
      ],
      "text/plain": [
       "   calitp_itp_id_primary  calitp_itp_id_secondary agency_name_primary  \\\n",
       "0                      4                      NaN                None   \n",
       "1                      4                      NaN                None   \n",
       "\n",
       "  agency_name_secondary        hqta_type  \\\n",
       "0                  None  hq_corridor_bus   \n",
       "1                  None  hq_corridor_bus   \n",
       "\n",
       "                                 hqta_details route_id  \\\n",
       "0  stop_along_hq_bus_corridor_single_operator       10   \n",
       "1  stop_along_hq_bus_corridor_single_operator       12   \n",
       "\n",
       "                                            geometry  \n",
       "0  MULTIPOLYGON (((-122.09630 37.66977, -122.0963...  \n",
       "1  MULTIPOLYGON (((-122.28506 37.79833, -122.2850...  "
      ]
     },
     "execution_count": 6,
     "metadata": {},
     "output_type": "execute_result"
    }
   ],
   "source": [
    "def make_map(gdf: gpd.GeoDataFrame, hq_type: str):\n",
    "    subset = gdf[gdf.hqta_type==hq_type]\n",
    "    \n",
    "    m = subset.explore(\"hqta_details\")\n",
    "    \n",
    "    display(m)"
   ]
  },
  {
   "cell_type": "code",
   "execution_count": null,
   "id": "08875813-43f8-474d-a53b-37b17a075678",
   "metadata": {},
   "outputs": [],
   "source": []
  }
 ],
 "metadata": {
  "kernelspec": {
   "display_name": "Python 3 (ipykernel)",
   "language": "python",
   "name": "python3"
  },
  "language_info": {
   "codemirror_mode": {
    "name": "ipython",
    "version": 3
   },
   "file_extension": ".py",
   "mimetype": "text/x-python",
   "name": "python",
   "nbconvert_exporter": "python",
   "pygments_lexer": "ipython3",
   "version": "3.10.5"
  }
 },
 "nbformat": 4,
 "nbformat_minor": 5
}
