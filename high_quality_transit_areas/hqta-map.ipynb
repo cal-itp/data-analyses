{
 "cells": [
  {
   "cell_type": "markdown",
   "id": "d555894e-39df-493c-bf57-e3803b8f83fd",
   "metadata": {},
   "source": [
    "# High Quality Transit Areas\n",
    "\n",
    "These high quality transit areas are provided in the open data portal. We provide both polygons (buffered around the transit stops) and points (transit stops) versions of the data.\n",
    "\n",
    "**Open portal datasets:**\n",
    "1. [HQTA Areas](https://gis.data.ca.gov/datasets/863e61eacbf3463ab239beb3cee4a2c3_0)\n",
    "1. [HQTA Stops](https://gis.data.ca.gov/datasets/f6c30480f0e84be699383192c099a6a4_0)\n",
    "\n",
    "**Note:** Due to map size limitations, only maps for the point dataset are displayed."
   ]
  },
  {
   "cell_type": "code",
   "execution_count": null,
   "id": "95f69b38-4e27-47f7-b8df-32fa19e10f0c",
   "metadata": {},
   "outputs": [],
   "source": [
    "%%capture\n",
    "import warnings\n",
    "warnings.filterwarnings('ignore')\n",
    "\n",
    "import folium\n",
    "import geopandas as gpd\n",
    "import intake\n",
    "import pandas as pd\n",
    "\n",
    "from calitp_data_analysis import calitp_color_palette as cp\n",
    "from shared_utils import portfolio_utils\n",
    "\n",
    "GCS_FILE_PATH = (\"gs://calitp-analytics-data/data-analyses/\"\n",
    "                 \"high_quality_transit_areas/\"\n",
    "                )\n",
    "\n",
    "catalog = intake.open_catalog(\n",
    "    \"../_shared_utils/shared_utils/shared_data_catalog.yml\")\n",
    "\n",
    "caltrans_districts = (catalog.caltrans_districts.read()\n",
    "                      [[\"DISTRICT\", \"geometry\"]]\n",
    "                      .rename(columns = {\"DISTRICT\": \"District\"})\n",
    "                     )"
   ]
  },
  {
   "cell_type": "code",
   "execution_count": null,
   "id": "28c8b8b8-8152-4359-b500-5deeeb80399a",
   "metadata": {},
   "outputs": [],
   "source": [
    "# Prep data\n",
    "hq_points = gpd.read_parquet(f\"{GCS_FILE_PATH}hqta_points.parquet\")\n",
    "\n",
    "# Join to district - but initially, we want to plot district \n",
    "# as a separate layer anyway\n",
    "hq_points_with_district = gpd.sjoin(\n",
    "    hq_points,\n",
    "    caltrans_districts,\n",
    "    how = \"inner\",\n",
    "    predicate = \"intersects\"\n",
    ").drop(columns = \"index_right\")"
   ]
  },
  {
   "cell_type": "code",
   "execution_count": null,
   "id": "7d6a9459-7b83-4342-a7e4-46210aeea1e7",
   "metadata": {},
   "outputs": [],
   "source": [
    "hq_types = hq_points.hqta_type.unique().tolist()\n",
    "\n",
    "COLOR_DICT = dict(\n",
    "    zip(hq_points.hqta_details.unique(), \n",
    "        cp.CALITP_CATEGORY_BOLD_COLORS + cp.CALITP_CATEGORY_BRIGHT_COLORS)\n",
    ")\n",
    "\n",
    "def make_map(gdf: gpd.GeoDataFrame, \n",
    "             caltrans_district: gpd.GeoDataFrame, \n",
    "             hq_type: str):\n",
    "    \n",
    "    subset = gdf[gdf.hqta_type==hq_type]\n",
    "    \n",
    "    # Grab list of the possible hqta_details\n",
    "    subset_details = subset.hqta_details.unique().tolist()\n",
    "    \n",
    "    # Map each hqta_detail value to the color assigned\n",
    "    selected_colors = [COLOR_DICT[i] for i in subset_details]\n",
    "    \n",
    "    # https://stackoverflow.com/questions/73767559/geopandas-explore-how-to-plot-more-than-one-layer\n",
    "    district_layer = caltrans_district.explore(\n",
    "        color = \"#D3D3D3\",  # light gray\n",
    "        name = \"Districts\", \n",
    "        tiles = \"Carto DB Positron\",\n",
    "        style_kwds = {\"fillOpacity\": 0.25, # polygon fill\n",
    "                      \"opacity\": 0.3 # polygon outline\n",
    "                     }, \n",
    "    )   \n",
    "    \n",
    "    hqta_layer = subset.explore(\n",
    "        \"hqta_details\",\n",
    "        m = district_layer,\n",
    "        categorical = True, \n",
    "        cmap = selected_colors,\n",
    "        name = \"HQTA Types\",\n",
    "        marker_type = \"circle\", \n",
    "        marker_kwds = {\"radius\": 3},\n",
    "        style_kwds = {\"fillOpacity\": 0.7}\n",
    "    )\n",
    "    \n",
    "    folium.LayerControl().add_to(district_layer)\n",
    "\n",
    "    display(district_layer)"
   ]
  },
  {
   "cell_type": "markdown",
   "id": "6d89aac7-b77e-4f35-a784-e71a66ecf5ad",
   "metadata": {},
   "source": [
    "## Major Stop - Rail"
   ]
  },
  {
   "cell_type": "code",
   "execution_count": null,
   "id": "b778657b-d259-4cf3-a360-23c3b7a250b7",
   "metadata": {},
   "outputs": [],
   "source": [
    "category=\"major_stop_rail\"\n",
    "make_map(hq_points, caltrans_districts, category)"
   ]
  },
  {
   "cell_type": "markdown",
   "id": "c22617e3-8ae3-41d7-9df6-345f9fff4838",
   "metadata": {},
   "source": [
    "## Major Stop - Bus Rapid Transit"
   ]
  },
  {
   "cell_type": "code",
   "execution_count": null,
   "id": "ffe7460d-8dea-4a77-be4f-5909762f55b3",
   "metadata": {},
   "outputs": [],
   "source": [
    "category=\"major_stop_brt\"\n",
    "make_map(hq_points, caltrans_districts, category)"
   ]
  },
  {
   "cell_type": "markdown",
   "id": "e9e71efe-f7a2-4cac-8bab-8a33d410506f",
   "metadata": {},
   "source": [
    "## Major Stop - Ferry"
   ]
  },
  {
   "cell_type": "code",
   "execution_count": null,
   "id": "76338438-8e8d-4bfc-9723-b26696eb049a",
   "metadata": {},
   "outputs": [],
   "source": [
    "category=\"major_stop_ferry\"\n",
    "make_map(hq_points, caltrans_districts, category)"
   ]
  },
  {
   "cell_type": "markdown",
   "id": "73b64465-c50d-4494-a674-2a3806867baf",
   "metadata": {},
   "source": [
    "## Major Stop Bus\n",
    "\n",
    "Intersection of 2 frequent bus corridors."
   ]
  },
  {
   "cell_type": "code",
   "execution_count": null,
   "id": "8478dc0e-dd8b-4828-82f0-43d6d8b85062",
   "metadata": {},
   "outputs": [],
   "source": [
    "category=\"major_stop_bus\"\n",
    "make_map(hq_points, caltrans_districts, category)"
   ]
  },
  {
   "cell_type": "markdown",
   "id": "1d27d48d-a6de-4de1-9b3e-57323b8ecf9b",
   "metadata": {},
   "source": [
    "## High Quality Corridor (Bus)\n",
    "\n",
    "These are all the other bus stops along the HQ transit corridors, even if these stops did not have as frequent service as other stops that led to the HQ corridor designation."
   ]
  },
  {
   "cell_type": "code",
   "execution_count": null,
   "id": "1ca6cfa4-d2bb-4c08-94d1-562f8e7dc5c9",
   "metadata": {},
   "outputs": [],
   "source": [
    "category=\"hq_corridor_bus\"\n",
    "make_map(hq_points, caltrans_districts, category)"
   ]
  },
  {
   "cell_type": "markdown",
   "id": "54559b22-0847-4bee-98d4-84a29c3b12f9",
   "metadata": {},
   "source": [
    "## District Summary \n",
    "### Number of Stops by High Quality Transit Types\n",
    "\n",
    "A summary of the raw number of transit stops by each category of high quality transit.\n",
    "\n",
    "Note: `HQ Corridor Bus` are all the other bus stops that fall within a HQ transit corridor. It is the `Major Stop Bus` bus stops that designate that corridor as high quality."
   ]
  },
  {
   "cell_type": "code",
   "execution_count": null,
   "id": "0eec6649-f1ab-4e0b-83c6-16f40a629969",
   "metadata": {},
   "outputs": [],
   "source": [
    "district_agg = (hq_points_with_district\n",
    "                .groupby([\"District\", \"hqta_type\"])\n",
    "                .agg({\"hqta_details\" : \"count\"})\n",
    "                .reset_index()\n",
    "               )"
   ]
  },
  {
   "cell_type": "code",
   "execution_count": null,
   "id": "1a1878b9-d6d2-4147-a785-3cde4bc5ef21",
   "metadata": {},
   "outputs": [],
   "source": [
    "district_wide = district_agg.pivot(\n",
    "    index = [\"District\"], \n",
    "    columns = [\"hqta_type\"], \n",
    "    values = \"hqta_details\"\n",
    ").reset_index()\n",
    "\n",
    "district_wide = district_wide.reindex(\n",
    "    columns = [\n",
    "        \"District\", \n",
    "        \"major_stop_rail\", \"major_stop_brt\", \n",
    "        \"major_stop_bus\", \"major_stop_ferry\", \n",
    "        \"hq_corridor_bus\"]\n",
    ").fillna(0).astype(int)\n",
    "\n"
   ]
  },
  {
   "cell_type": "code",
   "execution_count": null,
   "id": "b117e593-7282-464c-8c2c-0b93a536d04a",
   "metadata": {},
   "outputs": [],
   "source": [
    "district_wide = district_wide.assign(\n",
    "    District = district_wide.District.map(portfolio_utils.district_name_dict)\n",
    ")"
   ]
  },
  {
   "cell_type": "code",
   "execution_count": null,
   "id": "dc254e61-1b2c-42e4-b648-746223f0b90f",
   "metadata": {},
   "outputs": [],
   "source": [
    "table = portfolio_utils.style_table(\n",
    "    district_wide, \n",
    "    rename_cols = {\n",
    "        \"major_stop_rail\": \"Major Stop Rail\",\n",
    "        \"major_stop_brt\": \"Major Stop BRT\",\n",
    "        \"major_stop_bus\": \"Major Stop Bus\",\n",
    "        \"major_stop_ferry\": \"Major Stop Ferry\",\n",
    "        \"hq_corridor_bus\": \"HQ Corridor Bus\"},\n",
    "    left_align_cols = [\"District\"],\n",
    "    center_align_cols = \"all\",\n",
    "    integer_cols = [\"Major Stop Rail\", \"Major Stop BRT\", \n",
    "                    \"Major Stop Bus\", \"Major Stop Ferry\", \n",
    "                    \"HQ Corridor Bus\"],\n",
    "    display_table = True\n",
    ")"
   ]
  },
  {
   "cell_type": "code",
   "execution_count": null,
   "id": "c677607a-0967-4b2d-92ee-1abc05718660",
   "metadata": {},
   "outputs": [],
   "source": []
  }
 ],
 "metadata": {
  "kernelspec": {
   "display_name": "Python 3 (ipykernel)",
   "language": "python",
   "name": "python3"
  },
  "language_info": {
   "codemirror_mode": {
    "name": "ipython",
    "version": 3
   },
   "file_extension": ".py",
   "mimetype": "text/x-python",
   "name": "python",
   "nbconvert_exporter": "python",
   "pygments_lexer": "ipython3",
   "version": "3.9.13"
  }
 },
 "nbformat": 4,
 "nbformat_minor": 5
}
