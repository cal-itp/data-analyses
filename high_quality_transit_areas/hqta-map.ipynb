{
 "cells": [
  {
   "cell_type": "markdown",
   "id": "d555894e-39df-493c-bf57-e3803b8f83fd",
   "metadata": {},
   "source": [
    "# High Quality Transit Areas\n",
    "\n",
    "These high quality transit areas are provided in the open data portal. We provide both polygons (buffered around the transit stops) and points (transit stops) versions of the data.\n",
    "\n",
    "**Open portal datasets:**\n",
    "1. [HQTA Areas](https://gis.data.ca.gov/datasets/863e61eacbf3463ab239beb3cee4a2c3_0)\n",
    "1. [HQTA Stops](https://gis.data.ca.gov/datasets/f6c30480f0e84be699383192c099a6a4_0)\n",
    "\n",
    "**Note:** Due to map size limitations, only maps for the point dataset are displayed."
   ]
  },
  {
   "cell_type": "code",
   "execution_count": null,
   "id": "95f69b38-4e27-47f7-b8df-32fa19e10f0c",
   "metadata": {},
   "outputs": [],
   "source": [
    "%%capture\n",
    "import warnings\n",
    "warnings.filterwarnings('ignore')\n",
    "\n",
    "import geopandas as gpd\n",
    "import pandas as pd\n",
    "\n",
    "GCS_FILE_PATH = \"gs://calitp-analytics-data/data-analyses/high_quality_transit_areas/\""
   ]
  },
  {
   "cell_type": "code",
   "execution_count": null,
   "id": "7d6a9459-7b83-4342-a7e4-46210aeea1e7",
   "metadata": {},
   "outputs": [],
   "source": [
    "hq_points = gpd.read_parquet(f\"{GCS_FILE_PATH}hqta_points.parquet\")\n",
    "\n",
    "hq_types = hq_points.hqta_type.unique().tolist()\n",
    "\n",
    "def make_map(gdf: gpd.GeoDataFrame, hq_type: str):\n",
    "    subset = gdf[gdf.hqta_type==hq_type]\n",
    "    \n",
    "    m = subset.explore(\"hqta_details\", categorical = True, \n",
    "                       tiles = \"Carto DB Positron\"\n",
    "                      )\n",
    "    \n",
    "    display(m)"
   ]
  },
  {
   "cell_type": "markdown",
   "id": "6d89aac7-b77e-4f35-a784-e71a66ecf5ad",
   "metadata": {},
   "source": [
    "## Major Stop - Rail"
   ]
  },
  {
   "cell_type": "code",
   "execution_count": null,
   "id": "b778657b-d259-4cf3-a360-23c3b7a250b7",
   "metadata": {},
   "outputs": [],
   "source": [
    "category=\"major_stop_rail\"\n",
    "make_map(hq_points, category)"
   ]
  },
  {
   "cell_type": "markdown",
   "id": "c22617e3-8ae3-41d7-9df6-345f9fff4838",
   "metadata": {},
   "source": [
    "## Major Stop - Bus Rapid Transit"
   ]
  },
  {
   "cell_type": "code",
   "execution_count": null,
   "id": "ffe7460d-8dea-4a77-be4f-5909762f55b3",
   "metadata": {},
   "outputs": [],
   "source": [
    "category=\"major_stop_brt\"\n",
    "make_map(hq_points, category)"
   ]
  },
  {
   "cell_type": "markdown",
   "id": "e9e71efe-f7a2-4cac-8bab-8a33d410506f",
   "metadata": {},
   "source": [
    "## Major Stop - Ferry"
   ]
  },
  {
   "cell_type": "code",
   "execution_count": null,
   "id": "76338438-8e8d-4bfc-9723-b26696eb049a",
   "metadata": {},
   "outputs": [],
   "source": [
    "category=\"major_stop_ferry\"\n",
    "make_map(hq_points, category)"
   ]
  },
  {
   "cell_type": "markdown",
   "id": "73b64465-c50d-4494-a674-2a3806867baf",
   "metadata": {},
   "source": [
    "## Major Stop Bus\n",
    "\n",
    "Intersection of 2 frequent bus corridors."
   ]
  },
  {
   "cell_type": "code",
   "execution_count": null,
   "id": "8478dc0e-dd8b-4828-82f0-43d6d8b85062",
   "metadata": {},
   "outputs": [],
   "source": [
    "category=\"major_stop_bus\"\n",
    "make_map(hq_points, category)"
   ]
  },
  {
   "cell_type": "markdown",
   "id": "1d27d48d-a6de-4de1-9b3e-57323b8ecf9b",
   "metadata": {},
   "source": [
    "## High Quality Corridor (Bus)\n",
    "\n",
    "These are all the other bus stops along the HQ transit corridors, even if these stops did not have as frequent service as other stops that led to the HQ corridor designation."
   ]
  },
  {
   "cell_type": "code",
   "execution_count": null,
   "id": "1ca6cfa4-d2bb-4c08-94d1-562f8e7dc5c9",
   "metadata": {},
   "outputs": [],
   "source": [
    "category=\"hq_corridor_bus\"\n",
    "make_map(hq_points, category)"
   ]
  },
  {
   "cell_type": "code",
   "execution_count": null,
   "id": "8e80079c-ab5c-44ca-a4ec-9597d47d26a2",
   "metadata": {},
   "outputs": [],
   "source": []
  }
 ],
 "metadata": {
  "kernelspec": {
   "display_name": "Python 3 (ipykernel)",
   "language": "python",
   "name": "python3"
  },
  "language_info": {
   "codemirror_mode": {
    "name": "ipython",
    "version": 3
   },
   "file_extension": ".py",
   "mimetype": "text/x-python",
   "name": "python",
   "nbconvert_exporter": "python",
   "pygments_lexer": "ipython3",
   "version": "3.9.13"
  }
 },
 "nbformat": 4,
 "nbformat_minor": 5
}
