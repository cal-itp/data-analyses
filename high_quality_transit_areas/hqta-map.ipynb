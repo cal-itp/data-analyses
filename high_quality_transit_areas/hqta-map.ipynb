{
 "cells": [
  {
   "cell_type": "markdown",
   "id": "d555894e-39df-493c-bf57-e3803b8f83fd",
   "metadata": {},
   "source": [
    "# High Quality Transit Areas\n",
    "\n",
    "These high quality transit areas are provided in the open data portal. We provide both polygons (buffered around the transit stops) and points (transit stops) versions of the data.\n",
    "\n",
    "**Open portal datasets:**\n",
    "1. [HQTA Areas](https://gis.data.ca.gov/datasets/863e61eacbf3463ab239beb3cee4a2c3_0)\n",
    "1. [HQTA Stops](https://gis.data.ca.gov/datasets/f6c30480f0e84be699383192c099a6a4_0)\n",
    "\n",
    "**Note:** Due to map size limitations, only maps for the point dataset are displayed."
   ]
  },
  {
   "cell_type": "code",
   "execution_count": 1,
   "id": "95f69b38-4e27-47f7-b8df-32fa19e10f0c",
   "metadata": {},
   "outputs": [],
   "source": [
    "%%capture\n",
    "import warnings\n",
    "warnings.filterwarnings('ignore')\n",
    "\n",
    "import geopandas as gpd\n",
    "import pandas as pd\n",
    "\n",
    "GCS_FILE_PATH = \"gs://calitp-analytics-data/data-analyses/high_quality_transit_areas/\""
   ]
  },
  {
   "cell_type": "code",
   "execution_count": 2,
   "id": "7d6a9459-7b83-4342-a7e4-46210aeea1e7",
   "metadata": {},
   "outputs": [],
   "source": [
    "hq_points = gpd.read_parquet(f\"{GCS_FILE_PATH}hqta_points.parquet\")\n",
    "\n",
    "hq_types = hq_points.hqta_type.unique().tolist()\n",
    "\n",
    "def make_map(gdf: gpd.GeoDataFrame, hq_type: str):\n",
    "    subset = gdf[gdf.hqta_type==hq_type]\n",
    "    \n",
    "    m = subset.explore(\"hqta_details\", categorical = True, \n",
    "                       tiles = \"Carto DB Positron\"\n",
    "                      )\n",
    "    \n",
    "    display(m)"
   ]
  },
  {
   "cell_type": "markdown",
   "id": "6d89aac7-b77e-4f35-a784-e71a66ecf5ad",
   "metadata": {},
   "source": [
    "## Major Stop - Rail"
   ]
  },
  {
   "cell_type": "code",
   "execution_count": 3,
   "id": "b778657b-d259-4cf3-a360-23c3b7a250b7",
   "metadata": {},
   "outputs": [
    {
     "ename": "ImportError",
     "evalue": "The 'folium', 'matplotlib' and 'mapclassify' packages are required for 'explore()'. You can install them using 'conda install -c conda-forge folium matplotlib mapclassify' or 'pip install folium matplotlib mapclassify'.",
     "output_type": "error",
     "traceback": [
      "\u001b[0;31m---------------------------------------------------------------------------\u001b[0m",
      "\u001b[0;31mModuleNotFoundError\u001b[0m                       Traceback (most recent call last)",
      "File \u001b[0;32m/opt/conda/lib/python3.10/site-packages/geopandas/explore.py:271\u001b[0m, in \u001b[0;36m_explore\u001b[0;34m(df, column, cmap, color, m, tiles, attr, tooltip, popup, highlight, categorical, legend, scheme, k, vmin, vmax, width, height, categories, classification_kwds, control_scale, marker_type, marker_kwds, style_kwds, highlight_kwds, missing_kwds, tooltip_kwds, popup_kwds, legend_kwds, map_kwds, **kwargs)\u001b[0m\n\u001b[1;32m    270\u001b[0m     \u001b[38;5;28;01mimport\u001b[39;00m \u001b[38;5;21;01mmatplotlib\u001b[39;00m\u001b[38;5;21;01m.\u001b[39;00m\u001b[38;5;21;01mpyplot\u001b[39;00m \u001b[38;5;28;01mas\u001b[39;00m \u001b[38;5;21;01mplt\u001b[39;00m\n\u001b[0;32m--> 271\u001b[0m     \u001b[38;5;28;01mfrom\u001b[39;00m \u001b[38;5;21;01mmapclassify\u001b[39;00m \u001b[38;5;28;01mimport\u001b[39;00m classify\n\u001b[1;32m    272\u001b[0m \u001b[38;5;28;01mexcept\u001b[39;00m (\u001b[38;5;167;01mImportError\u001b[39;00m, \u001b[38;5;167;01mModuleNotFoundError\u001b[39;00m):\n",
      "\u001b[0;31mModuleNotFoundError\u001b[0m: No module named 'mapclassify'",
      "\nDuring handling of the above exception, another exception occurred:\n",
      "\u001b[0;31mImportError\u001b[0m                               Traceback (most recent call last)",
      "Input \u001b[0;32mIn [3]\u001b[0m, in \u001b[0;36m<cell line: 2>\u001b[0;34m()\u001b[0m\n\u001b[1;32m      1\u001b[0m category\u001b[38;5;241m=\u001b[39m\u001b[38;5;124m\"\u001b[39m\u001b[38;5;124mmajor_stop_rail\u001b[39m\u001b[38;5;124m\"\u001b[39m\n\u001b[0;32m----> 2\u001b[0m \u001b[43mmake_map\u001b[49m\u001b[43m(\u001b[49m\u001b[43mhq_points\u001b[49m\u001b[43m,\u001b[49m\u001b[43m \u001b[49m\u001b[43mcategory\u001b[49m\u001b[43m)\u001b[49m\n",
      "Input \u001b[0;32mIn [2]\u001b[0m, in \u001b[0;36mmake_map\u001b[0;34m(gdf, hq_type)\u001b[0m\n\u001b[1;32m      5\u001b[0m \u001b[38;5;28;01mdef\u001b[39;00m \u001b[38;5;21mmake_map\u001b[39m(gdf: gpd\u001b[38;5;241m.\u001b[39mGeoDataFrame, hq_type: \u001b[38;5;28mstr\u001b[39m):\n\u001b[1;32m      6\u001b[0m     subset \u001b[38;5;241m=\u001b[39m gdf[gdf\u001b[38;5;241m.\u001b[39mhqta_type\u001b[38;5;241m==\u001b[39mhq_type]\n\u001b[0;32m----> 8\u001b[0m     m \u001b[38;5;241m=\u001b[39m \u001b[43msubset\u001b[49m\u001b[38;5;241;43m.\u001b[39;49m\u001b[43mexplore\u001b[49m\u001b[43m(\u001b[49m\u001b[38;5;124;43m\"\u001b[39;49m\u001b[38;5;124;43mhqta_details\u001b[39;49m\u001b[38;5;124;43m\"\u001b[39;49m\u001b[43m,\u001b[49m\u001b[43m \u001b[49m\u001b[43mcategorical\u001b[49m\u001b[43m \u001b[49m\u001b[38;5;241;43m=\u001b[39;49m\u001b[43m \u001b[49m\u001b[38;5;28;43;01mTrue\u001b[39;49;00m\u001b[43m,\u001b[49m\u001b[43m \u001b[49m\n\u001b[1;32m      9\u001b[0m \u001b[43m                       \u001b[49m\u001b[43mtiles\u001b[49m\u001b[43m \u001b[49m\u001b[38;5;241;43m=\u001b[39;49m\u001b[43m \u001b[49m\u001b[38;5;124;43m\"\u001b[39;49m\u001b[38;5;124;43mCarto DB Positron\u001b[39;49m\u001b[38;5;124;43m\"\u001b[39;49m\n\u001b[1;32m     10\u001b[0m \u001b[43m                      \u001b[49m\u001b[43m)\u001b[49m\n\u001b[1;32m     12\u001b[0m     display(m)\n",
      "File \u001b[0;32m/opt/conda/lib/python3.10/site-packages/geopandas/geodataframe.py:2010\u001b[0m, in \u001b[0;36mGeoDataFrame.explore\u001b[0;34m(self, *args, **kwargs)\u001b[0m\n\u001b[1;32m   2007\u001b[0m \u001b[38;5;129m@doc\u001b[39m(_explore)\n\u001b[1;32m   2008\u001b[0m \u001b[38;5;28;01mdef\u001b[39;00m \u001b[38;5;21mexplore\u001b[39m(\u001b[38;5;28mself\u001b[39m, \u001b[38;5;241m*\u001b[39margs, \u001b[38;5;241m*\u001b[39m\u001b[38;5;241m*\u001b[39mkwargs):\n\u001b[1;32m   2009\u001b[0m     \u001b[38;5;124;03m\"\"\"Interactive map based on folium/leaflet.js\"\"\"\u001b[39;00m\n\u001b[0;32m-> 2010\u001b[0m     \u001b[38;5;28;01mreturn\u001b[39;00m \u001b[43m_explore\u001b[49m\u001b[43m(\u001b[49m\u001b[38;5;28;43mself\u001b[39;49m\u001b[43m,\u001b[49m\u001b[43m \u001b[49m\u001b[38;5;241;43m*\u001b[39;49m\u001b[43margs\u001b[49m\u001b[43m,\u001b[49m\u001b[43m \u001b[49m\u001b[38;5;241;43m*\u001b[39;49m\u001b[38;5;241;43m*\u001b[39;49m\u001b[43mkwargs\u001b[49m\u001b[43m)\u001b[49m\n",
      "File \u001b[0;32m/opt/conda/lib/python3.10/site-packages/geopandas/explore.py:273\u001b[0m, in \u001b[0;36m_explore\u001b[0;34m(df, column, cmap, color, m, tiles, attr, tooltip, popup, highlight, categorical, legend, scheme, k, vmin, vmax, width, height, categories, classification_kwds, control_scale, marker_type, marker_kwds, style_kwds, highlight_kwds, missing_kwds, tooltip_kwds, popup_kwds, legend_kwds, map_kwds, **kwargs)\u001b[0m\n\u001b[1;32m    271\u001b[0m     \u001b[38;5;28;01mfrom\u001b[39;00m \u001b[38;5;21;01mmapclassify\u001b[39;00m \u001b[38;5;28;01mimport\u001b[39;00m classify\n\u001b[1;32m    272\u001b[0m \u001b[38;5;28;01mexcept\u001b[39;00m (\u001b[38;5;167;01mImportError\u001b[39;00m, \u001b[38;5;167;01mModuleNotFoundError\u001b[39;00m):\n\u001b[0;32m--> 273\u001b[0m     \u001b[38;5;28;01mraise\u001b[39;00m \u001b[38;5;167;01mImportError\u001b[39;00m(\n\u001b[1;32m    274\u001b[0m         \u001b[38;5;124m\"\u001b[39m\u001b[38;5;124mThe \u001b[39m\u001b[38;5;124m'\u001b[39m\u001b[38;5;124mfolium\u001b[39m\u001b[38;5;124m'\u001b[39m\u001b[38;5;124m, \u001b[39m\u001b[38;5;124m'\u001b[39m\u001b[38;5;124mmatplotlib\u001b[39m\u001b[38;5;124m'\u001b[39m\u001b[38;5;124m and \u001b[39m\u001b[38;5;124m'\u001b[39m\u001b[38;5;124mmapclassify\u001b[39m\u001b[38;5;124m'\u001b[39m\u001b[38;5;124m packages are required for \u001b[39m\u001b[38;5;124m\"\u001b[39m\n\u001b[1;32m    275\u001b[0m         \u001b[38;5;124m\"\u001b[39m\u001b[38;5;124m'\u001b[39m\u001b[38;5;124mexplore()\u001b[39m\u001b[38;5;124m'\u001b[39m\u001b[38;5;124m. You can install them using \u001b[39m\u001b[38;5;124m\"\u001b[39m\n\u001b[1;32m    276\u001b[0m         \u001b[38;5;124m\"\u001b[39m\u001b[38;5;124m'\u001b[39m\u001b[38;5;124mconda install -c conda-forge folium matplotlib mapclassify\u001b[39m\u001b[38;5;124m'\u001b[39m\u001b[38;5;124m \u001b[39m\u001b[38;5;124m\"\u001b[39m\n\u001b[1;32m    277\u001b[0m         \u001b[38;5;124m\"\u001b[39m\u001b[38;5;124mor \u001b[39m\u001b[38;5;124m'\u001b[39m\u001b[38;5;124mpip install folium matplotlib mapclassify\u001b[39m\u001b[38;5;124m'\u001b[39m\u001b[38;5;124m.\u001b[39m\u001b[38;5;124m\"\u001b[39m\n\u001b[1;32m    278\u001b[0m     )\n\u001b[1;32m    280\u001b[0m \u001b[38;5;66;03m# xyservices is an optional dependency\u001b[39;00m\n\u001b[1;32m    281\u001b[0m \u001b[38;5;28;01mtry\u001b[39;00m:\n",
      "\u001b[0;31mImportError\u001b[0m: The 'folium', 'matplotlib' and 'mapclassify' packages are required for 'explore()'. You can install them using 'conda install -c conda-forge folium matplotlib mapclassify' or 'pip install folium matplotlib mapclassify'."
     ]
    }
   ],
   "source": [
    "category=\"major_stop_rail\"\n",
    "make_map(hq_points, category)"
   ]
  },
  {
   "cell_type": "markdown",
   "id": "c22617e3-8ae3-41d7-9df6-345f9fff4838",
   "metadata": {},
   "source": [
    "## Major Stop - Bus Rapid Transit"
   ]
  },
  {
   "cell_type": "code",
   "execution_count": null,
   "id": "ffe7460d-8dea-4a77-be4f-5909762f55b3",
   "metadata": {},
   "outputs": [],
   "source": [
    "category=\"major_stop_brt\"\n",
    "make_map(hq_points, category)"
   ]
  },
  {
   "cell_type": "markdown",
   "id": "e9e71efe-f7a2-4cac-8bab-8a33d410506f",
   "metadata": {},
   "source": [
    "## Major Stop - Ferry"
   ]
  },
  {
   "cell_type": "code",
   "execution_count": null,
   "id": "76338438-8e8d-4bfc-9723-b26696eb049a",
   "metadata": {},
   "outputs": [],
   "source": [
    "category=\"major_stop_ferry\"\n",
    "make_map(hq_points, category)"
   ]
  },
  {
   "cell_type": "markdown",
   "id": "73b64465-c50d-4494-a674-2a3806867baf",
   "metadata": {},
   "source": [
    "## Major Stop Bus\n",
    "\n",
    "Intersection of 2 frequent bus corridors."
   ]
  },
  {
   "cell_type": "code",
   "execution_count": null,
   "id": "8478dc0e-dd8b-4828-82f0-43d6d8b85062",
   "metadata": {},
   "outputs": [],
   "source": [
    "category=\"major_stop_bus\"\n",
    "make_map(hq_points, category)"
   ]
  },
  {
   "cell_type": "markdown",
   "id": "1d27d48d-a6de-4de1-9b3e-57323b8ecf9b",
   "metadata": {},
   "source": [
    "## High Quality Corridor (Bus)\n",
    "\n",
    "These are all the other bus stops along the HQ transit corridors, even if these stops did not have as frequent service as other stops that led to the HQ corridor designation."
   ]
  },
  {
   "cell_type": "code",
   "execution_count": null,
   "id": "1ca6cfa4-d2bb-4c08-94d1-562f8e7dc5c9",
   "metadata": {},
   "outputs": [],
   "source": [
    "category=\"hq_corridor_bus\"\n",
    "make_map(hq_points, category)"
   ]
  }
 ],
 "metadata": {
  "kernelspec": {
   "display_name": "Python 3 (ipykernel)",
   "language": "python",
   "name": "python3"
  },
  "language_info": {
   "codemirror_mode": {
    "name": "ipython",
    "version": 3
   },
   "file_extension": ".py",
   "mimetype": "text/x-python",
   "name": "python",
   "nbconvert_exporter": "python",
   "pygments_lexer": "ipython3",
   "version": "3.9.13"
  }
 },
 "nbformat": 4,
 "nbformat_minor": 5
}
