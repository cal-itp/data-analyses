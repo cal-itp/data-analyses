{
 "cells": [
  {
   "cell_type": "markdown",
   "id": "91650562-357e-465f-9912-09e8a2e574aa",
   "metadata": {},
   "source": [
    "# Refactor bus corridors"
   ]
  },
  {
   "cell_type": "code",
   "execution_count": null,
   "id": "d360a0cd-f038-461e-8ec7-864fffef82ef",
   "metadata": {},
   "outputs": [],
   "source": [
    "import dask.dataframe as dd\n",
    "import dask_geopandas\n",
    "import geopandas as gpd\n",
    "import pandas as pd\n",
    "\n",
    "from calitp.tables import tbl\n",
    "from siuba import *\n",
    "\n",
    "import C1_prep_for_clipping as prep_clip\n",
    "import C3_clean_clipped_intersections as clean_clip\n",
    "from A1_rail_ferry_brt import analysis_date\n",
    "from B1_bus_corridors import TEST_GCS_FILE_PATH\n",
    "from shared_utils import utils, geography_utils\n",
    "from utilities import catalog_filepath\n",
    "\n",
    "# Input files\n",
    "ALL_BUS = catalog_filepath(\"all_bus\")\n",
    "\n",
    "segment_cols = [\"calitp_itp_id\", \"hqta_segment_id\"]\n",
    "stop_cols = [\"calitp_itp_id\", \"stop_id\"]"
   ]
  },
  {
   "cell_type": "code",
   "execution_count": null,
   "id": "e873bee0-a1d8-4e8b-8aef-0707d19ae6f6",
   "metadata": {},
   "outputs": [],
   "source": [
    "import C4_create_bus_hqta_types as C4\n",
    "\n",
    "gdf = clean_clip.process_clipped_intersections()\n",
    "\n",
    "# Don't need to save the buffered gdf here probably\n",
    "#utils.geoparquet_gcs_export(one_intersection_per_row, \n",
    "#                            f'{TEST_GCS_FILE_PATH}', 'major_bus_stops')\n",
    "\n",
    "freq_bus_stops_in_intersections = C4.create_major_transit_stop(gdf)\n",
    "\n",
    "# This exploded geometry is what will be used in spatial join on all stops\n",
    "# to see which stops fall in this\n",
    "bus_intersections = C4.explode_bus_intersections(freq_bus_stops_in_intersections)\n",
    "\n",
    "#all_stops = query_all_stops(analysis_date)\n",
    "all_stops = dask_geopandas.read_parquet(\"./data/all_stops.parquet\")\n",
    "\n",
    "major_stop_bus = C4.create_major_stop_bus(all_stops, bus_intersections)\n",
    "stops_in_hq_corr = C4.create_stops_along_corridors(all_stops)\n"
   ]
  },
  {
   "cell_type": "code",
   "execution_count": null,
   "id": "643eb44d-fad7-4aae-99ad-01eee4a1d208",
   "metadata": {},
   "outputs": [],
   "source": [
    "major_stop_bus2 = major_stop_bus.compute()\n",
    "stops_in_hq_corr2 = stops_in_hq_corr.compute()"
   ]
  },
  {
   "cell_type": "code",
   "execution_count": null,
   "id": "8698d031-5b4b-4362-8c31-cae91bef7b14",
   "metadata": {},
   "outputs": [],
   "source": [
    "stops_in_hq_corr2[stops_in_hq_corr2.calitp_itp_id_primary==182].plot(\n",
    "    column=\"stop_id\", figsize=(10, 10), cmap=\"tab10\")"
   ]
  },
  {
   "cell_type": "code",
   "execution_count": null,
   "id": "56faa854-864c-4442-ba3d-33575e021ef0",
   "metadata": {},
   "outputs": [],
   "source": [
    "major_stop_bus2[major_stop_bus2.calitp_itp_id_primary==182].plot(\n",
    "    column=\"stop_id\", figsize=(10, 10), cmap=\"tab10\")"
   ]
  },
  {
   "cell_type": "code",
   "execution_count": null,
   "id": "6c13fb65-04fe-4e79-96cf-2676a760721b",
   "metadata": {},
   "outputs": [],
   "source": []
  },
  {
   "cell_type": "code",
   "execution_count": null,
   "id": "e102f01b-1bdc-4dfc-94ca-1dffcb2ed5cd",
   "metadata": {},
   "outputs": [],
   "source": []
  },
  {
   "cell_type": "code",
   "execution_count": null,
   "id": "64b3a154-cba9-4cdf-8ca1-56d41f3fb5bf",
   "metadata": {},
   "outputs": [],
   "source": [
    "#https://stackoverflow.com/questions/71688126/groupby-map-partitions-in-dask\n",
    "trips_by_stop_hour = stop_times.map_partitions(\n",
    "    lambda df: df.groupby([\"calitp_itp_id\", \"stop_id\"], as_index=False)\n",
    "        .agg({\"trip_id\": \"count\"}), meta={\"calitp_itp_id\": int,\n",
    "                                          \"stop_id\": str,\n",
    "                                          \"trip_id\": int\n",
    "                                         }\n",
    ")"
   ]
  }
 ],
 "metadata": {
  "kernelspec": {
   "display_name": "Python 3 (ipykernel)",
   "language": "python",
   "name": "python3"
  },
  "language_info": {
   "codemirror_mode": {
    "name": "ipython",
    "version": 3
   },
   "file_extension": ".py",
   "mimetype": "text/x-python",
   "name": "python",
   "nbconvert_exporter": "python",
   "pygments_lexer": "ipython3",
   "version": "3.10.4"
  }
 },
 "nbformat": 4,
 "nbformat_minor": 5
}
