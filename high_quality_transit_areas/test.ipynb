{
 "cells": [
  {
   "cell_type": "markdown",
   "id": "91650562-357e-465f-9912-09e8a2e574aa",
   "metadata": {},
   "source": [
    "# Refactor bus corridors"
   ]
  },
  {
   "cell_type": "code",
   "execution_count": 1,
   "id": "2d229973-9381-4177-9a23-7e07b9d041d6",
   "metadata": {},
   "outputs": [
    {
     "name": "stderr",
     "output_type": "stream",
     "text": [
      "/opt/conda/lib/python3.10/site-packages/geopandas/_compat.py:111: UserWarning: The Shapely GEOS version (3.10.2-CAPI-1.16.0) is incompatible with the GEOS version PyGEOS was compiled with (3.10.1-CAPI-1.16.0). Conversions between both will be slow.\n",
      "  warnings.warn(\n"
     ]
    }
   ],
   "source": [
    "import datetime as dt\n",
    "import geopandas as gpd\n",
    "import numpy as np\n",
    "import pandas as pd\n",
    "\n",
    "from siuba import *\n",
    "\n",
    "import B1_bus_corridors as bus_corridors\n",
    "from A1_rail_ferry_brt import analysis_date\n",
    "from utilities import GCS_FILE_PATH\n",
    "from shared_utils import rt_utils\n",
    "\n",
    "import dask.dataframe as dd\n",
    "import dask_geopandas\n",
    "import dask_utils\n",
    "\n",
    "date_str = analysis_date.strftime(rt_utils.FULL_DATE_FMT)"
   ]
  },
  {
   "cell_type": "markdown",
   "id": "e121e898-f334-47ab-87a4-40c738c98b58",
   "metadata": {},
   "source": [
    "## Debug ValueError\n",
    "\n",
    "`merged = merge_routes_to_trips(routelines, trips)` throwing error\n",
    "\n",
    "`ValueError: You are trying to merge on object and int32 columns. If you wish to proceed you should use pd.concat (one of them is empty)`"
   ]
  },
  {
   "cell_type": "code",
   "execution_count": null,
   "id": "7f924152-711f-4967-96dd-c413a051045b",
   "metadata": {},
   "outputs": [],
   "source": [
    "itp_id = 323\n",
    "\n",
    "FILE_PATH = f\"{rt_utils.GCS_FILE_PATH}cached_views/\"\n",
    "        \n",
    "routelines = dask_geopandas.read_parquet(f\"{FILE_PATH}routelines_{itp_id}_{date_str}.parquet\")\n",
    "trips = dd.read_parquet(f\"{FILE_PATH}trips_{itp_id}_{date_str}.parquet\")\n",
    "stop_times = dd.read_parquet(f\"{FILE_PATH}st_{itp_id}_{date_str}.parquet\")\n",
    "stops = dask_geopandas.read_parquet(f\"{FILE_PATH}stops_{itp_id}_{date_str}.parquet\")\n",
    "\n",
    "#gdf = bus_corridors.single_operator_hqta(routelines, trips, stop_times, stops)\n",
    "#gdf.to_parquet(\"./data/182_bus2.parquet\")\n"
   ]
  },
  {
   "cell_type": "markdown",
   "id": "79b04f90-a65e-46ed-b4c0-19be97cc7cd0",
   "metadata": {},
   "source": [
    "## Debug FileNotFound error\n",
    "\n",
    "`routelines` not found. Confirmed. Not in GCS.\n",
    "\n",
    "## Debug utilities.create_segment error -- taking too long\n",
    "\n",
    "This is Amtrak. Already excluded by Eric."
   ]
  },
  {
   "cell_type": "code",
   "execution_count": 2,
   "id": "7a562f8d-095e-47ab-ba62-356fda071312",
   "metadata": {},
   "outputs": [],
   "source": [
    "from calitp.tables import tbl"
   ]
  },
  {
   "cell_type": "code",
   "execution_count": 3,
   "id": "0884b9e5-0d07-4edd-a280-588eb94f60d2",
   "metadata": {},
   "outputs": [],
   "source": [
    "ITP_IDS = (tbl.gtfs_schedule.agency()\n",
    "           >> distinct(_.calitp_itp_id)\n",
    "           >> filter(_.calitp_itp_id != 200)\n",
    "           >> collect()\n",
    ").calitp_itp_id.tolist()"
   ]
  },
  {
   "cell_type": "code",
   "execution_count": 4,
   "id": "a64f0a90-4556-4cd4-9bd3-898f770692e8",
   "metadata": {},
   "outputs": [],
   "source": [
    "CAPTURED_IDS = (bus_corridors.VALUE_ERROR_IDS + \n",
    "                bus_corridors.FILE_NOT_FOUND_IDS + \n",
    "                bus_corridors.TOO_LONG_IDS + \n",
    "                bus_corridors.ITP_IDS_IN_GCS\n",
    "               )"
   ]
  },
  {
   "cell_type": "code",
   "execution_count": 5,
   "id": "294f602b-296f-4497-8887-50e1b19131f8",
   "metadata": {},
   "outputs": [
    {
     "data": {
      "text/plain": [
       "{481, 485}"
      ]
     },
     "execution_count": 5,
     "metadata": {},
     "output_type": "execute_result"
    }
   ],
   "source": [
    "set(ITP_IDS).difference(set(CAPTURED_IDS))"
   ]
  },
  {
   "cell_type": "code",
   "execution_count": 10,
   "id": "305dfdbf-d2a6-4372-a1ef-90775d74bd47",
   "metadata": {},
   "outputs": [
    {
     "data": {
      "text/html": [
       "<div><pre># Source: lazy query\n",
       "# DB Conn: Engine(bigquery://cal-itp-data-infra/?maximum_bytes_billed=5000000000)\n",
       "# Preview:\n",
       "</pre><div>\n",
       "<style scoped>\n",
       "    .dataframe tbody tr th:only-of-type {\n",
       "        vertical-align: middle;\n",
       "    }\n",
       "\n",
       "    .dataframe tbody tr th {\n",
       "        vertical-align: top;\n",
       "    }\n",
       "\n",
       "    .dataframe thead th {\n",
       "        text-align: right;\n",
       "    }\n",
       "</style>\n",
       "<table border=\"1\" class=\"dataframe\">\n",
       "  <thead>\n",
       "    <tr style=\"text-align: right;\">\n",
       "      <th></th>\n",
       "      <th>calitp_itp_id</th>\n",
       "      <th>calitp_url_number</th>\n",
       "      <th>agency_id</th>\n",
       "      <th>agency_name</th>\n",
       "      <th>agency_url</th>\n",
       "      <th>agency_timezone</th>\n",
       "      <th>agency_lang</th>\n",
       "      <th>agency_phone</th>\n",
       "      <th>agency_fare_url</th>\n",
       "      <th>agency_email</th>\n",
       "      <th>calitp_extracted_at</th>\n",
       "      <th>calitp_hash</th>\n",
       "      <th>agency_key</th>\n",
       "    </tr>\n",
       "  </thead>\n",
       "  <tbody>\n",
       "    <tr>\n",
       "      <th>0</th>\n",
       "      <td>485</td>\n",
       "      <td>0</td>\n",
       "      <td>TF</td>\n",
       "      <td>Treasure Island Ferry</td>\n",
       "      <td>https://tisf.com/</td>\n",
       "      <td>America/Los_Angeles</td>\n",
       "      <td>en</td>\n",
       "      <td>None</td>\n",
       "      <td>None</td>\n",
       "      <td>None</td>\n",
       "      <td>2022-06-27</td>\n",
       "      <td>ApApxK5gs7GnGYMR4BiIHA==</td>\n",
       "      <td>1882703198881820869</td>\n",
       "    </tr>\n",
       "    <tr>\n",
       "      <th>1</th>\n",
       "      <td>481</td>\n",
       "      <td>0</td>\n",
       "      <td>SS</td>\n",
       "      <td>City of South San Francisco</td>\n",
       "      <td>http://www.ssf.net/SCS</td>\n",
       "      <td>Canada/Pacific</td>\n",
       "      <td>en</td>\n",
       "      <td>650-877-8550</td>\n",
       "      <td>None</td>\n",
       "      <td>shuttle@ssf.net</td>\n",
       "      <td>2022-06-27</td>\n",
       "      <td>Afi4nrdkjauvRqasmm0aGA==</td>\n",
       "      <td>-5033576204119143470</td>\n",
       "    </tr>\n",
       "  </tbody>\n",
       "</table>\n",
       "</div><p># .. may have more rows</p></div>"
      ],
      "text/plain": [
       "# Source: lazy query\n",
       "# DB Conn: Engine(bigquery://cal-itp-data-infra/?maximum_bytes_billed=5000000000)\n",
       "# Preview:\n",
       "   calitp_itp_id  calitp_url_number agency_id                  agency_name  \\\n",
       "0            485                  0        TF        Treasure Island Ferry   \n",
       "1            481                  0        SS  City of South San Francisco   \n",
       "\n",
       "               agency_url      agency_timezone agency_lang  agency_phone  \\\n",
       "0       https://tisf.com/  America/Los_Angeles          en          None   \n",
       "1  http://www.ssf.net/SCS       Canada/Pacific          en  650-877-8550   \n",
       "\n",
       "  agency_fare_url     agency_email calitp_extracted_at  \\\n",
       "0            None             None          2022-06-27   \n",
       "1            None  shuttle@ssf.net          2022-06-27   \n",
       "\n",
       "                calitp_hash           agency_key  \n",
       "0  ApApxK5gs7GnGYMR4BiIHA==  1882703198881820869  \n",
       "1  Afi4nrdkjauvRqasmm0aGA== -5033576204119143470  \n",
       "# .. may have more rows"
      ]
     },
     "execution_count": 10,
     "metadata": {},
     "output_type": "execute_result"
    }
   ],
   "source": [
    "(tbl.gtfs_schedule.agency()\n",
    " >>filter((_.calitp_itp_id == 481) | (_.calitp_itp_id == 485) )\n",
    ")"
   ]
  },
  {
   "cell_type": "code",
   "execution_count": 6,
   "id": "78b52c23-daac-459d-84b4-a6d3c4833f9e",
   "metadata": {},
   "outputs": [
    {
     "data": {
      "text/plain": [
       "{203}"
      ]
     },
     "execution_count": 6,
     "metadata": {},
     "output_type": "execute_result"
    }
   ],
   "source": [
    "set(CAPTURED_IDS).difference(set(ITP_IDS))"
   ]
  },
  {
   "cell_type": "code",
   "execution_count": null,
   "id": "64b3a154-cba9-4cdf-8ca1-56d41f3fb5bf",
   "metadata": {},
   "outputs": [],
   "source": [
    "#https://stackoverflow.com/questions/71688126/groupby-map-partitions-in-dask\n",
    "trips_by_stop_hour = stop_times.map_partitions(\n",
    "    lambda df: df.groupby([\"calitp_itp_id\", \"stop_id\"], as_index=False)\n",
    "        .agg({\"trip_id\": \"count\"}), meta={\"calitp_itp_id\": int,\n",
    "                                          \"stop_id\": str,\n",
    "                                          \"trip_id\": int\n",
    "                                         }\n",
    ")"
   ]
  },
  {
   "cell_type": "code",
   "execution_count": null,
   "id": "3d569acb-c263-4dc8-98b4-07f6df068388",
   "metadata": {},
   "outputs": [],
   "source": []
  },
  {
   "cell_type": "code",
   "execution_count": null,
   "id": "02d62be8-1661-4840-95f6-01261e636347",
   "metadata": {},
   "outputs": [],
   "source": []
  },
  {
   "cell_type": "code",
   "execution_count": null,
   "id": "f448206e-0fd2-4f32-9fc6-9f5d141dea55",
   "metadata": {},
   "outputs": [],
   "source": []
  },
  {
   "cell_type": "code",
   "execution_count": null,
   "id": "78908669-6855-46e1-b244-ef36c31c0634",
   "metadata": {},
   "outputs": [],
   "source": []
  },
  {
   "cell_type": "code",
   "execution_count": null,
   "id": "b7d6c072-9255-4588-b954-a65d42f54cd3",
   "metadata": {},
   "outputs": [],
   "source": []
  },
  {
   "cell_type": "code",
   "execution_count": null,
   "id": "b4d65db0-c8df-4c16-9490-0f0514b12776",
   "metadata": {},
   "outputs": [],
   "source": [
    "# calitp-analytics-data/data-analyses/high_quality_transit_areas/bus_corridors/182_bus.parquet\n",
    "eric = gpd.read_parquet(f\"{GCS_FILE_PATH}bus_corridors/182_bus.parquet\")"
   ]
  },
  {
   "cell_type": "code",
   "execution_count": null,
   "id": "a927f45f-f7c2-4e6a-9b11-f5697b4b7172",
   "metadata": {},
   "outputs": [],
   "source": [
    "tiff = gpd.read_parquet(f\"./data/182_bus2.parquet\")"
   ]
  },
  {
   "cell_type": "code",
   "execution_count": null,
   "id": "8a29aa60-6e58-410c-8cc1-2a24cd336bdd",
   "metadata": {},
   "outputs": [],
   "source": [
    "def stats(df):\n",
    "    print(df.columns)\n",
    "    print(df.dtypes)\n",
    "    print(f\"# obs: {len(df)}\")\n",
    "    print(f\"# unique stops: {df.stop_id.nunique()}\")\n",
    "    print(f\"sum am_max stops: {df.am_max_trips.sum()}\")\n",
    "    print(f\"sum pm_max stops: {df.am_max_trips.sum()}\")\n",
    "    print(f\"# unique hqta_segment_id: {df.hqta_segment_id.nunique()}\")\n",
    "\n",
    "    \n",
    "def compare(eric, tiff):\n",
    "    print(\"***********Eric************\")\n",
    "    stats(eric)\n",
    "    print(\"***********Tiff************\")\n",
    "    stats(tiff)"
   ]
  },
  {
   "cell_type": "code",
   "execution_count": null,
   "id": "474532e1-8e64-4519-9850-6456edaa3ccb",
   "metadata": {},
   "outputs": [],
   "source": [
    "compare(eric, tiff)"
   ]
  },
  {
   "cell_type": "code",
   "execution_count": null,
   "id": "be2e9a68-4e24-46f0-9f49-8c5d88abd4f6",
   "metadata": {},
   "outputs": [],
   "source": [
    "keep_cols = [\"stop_id\", \"am_max_trips\", \"pm_max_trips\"]\n",
    "eric2 = eric[keep_cols].drop_duplicates()\n",
    "tiff2 = tiff[keep_cols].drop_duplicates()"
   ]
  },
  {
   "cell_type": "code",
   "execution_count": null,
   "id": "dce28775-8b27-4a43-8ca2-db6f04d9a204",
   "metadata": {},
   "outputs": [],
   "source": [
    "m1 = pd.merge(eric2, tiff2,\n",
    "         on = \"stop_id\",\n",
    "         how = \"outer\",\n",
    "         validate = \"1:1\",\n",
    "         indicator=True\n",
    ")\n",
    "\n",
    "m1._merge.value_counts()"
   ]
  },
  {
   "cell_type": "code",
   "execution_count": null,
   "id": "370a3680-9729-476c-b316-0a7cd8af84ac",
   "metadata": {},
   "outputs": [],
   "source": [
    "# For the ones that are in both, generated the same number of trips\n",
    "m1[m1._merge==\"both\"][m1.am_max_trips_x != m1.am_max_trips_y]"
   ]
  },
  {
   "cell_type": "code",
   "execution_count": null,
   "id": "e152d78c-62d2-491b-a9a0-dd7ae1150bd0",
   "metadata": {},
   "outputs": [],
   "source": [
    "m1[m1._merge==\"both\"][m1.pm_max_trips_x != m1.pm_max_trips_y]"
   ]
  },
  {
   "cell_type": "code",
   "execution_count": null,
   "id": "7c44183f-e13c-4665-944b-266e23624bcd",
   "metadata": {},
   "outputs": [],
   "source": []
  },
  {
   "cell_type": "code",
   "execution_count": null,
   "id": "59b0a4fa-20c5-4d5f-94cc-c7de137dbdbf",
   "metadata": {},
   "outputs": [],
   "source": [
    "# Remove trips that only run during AM/PM peak, because those don't qualify as HQTA\n",
    "def invalid_trips_only_peak_hours(df):\n",
    "    trip_cols = [\"calitp_itp_id\", \"trip_id\"]\n",
    "    \n",
    "    df = df.assign(\n",
    "        is_am_peak = df.time_of_day.map(lambda x: 1 if x==\"AM Peak\" \n",
    "                                          else 0),\n",
    "        is_pm_peak = df.time_of_day.map(lambda x: 1 if x==\"PM Peak\"\n",
    "                                          else 0),\n",
    "        is_other = df.time_of_day.map(lambda x: 1 if ((x != \"AM Peak\") and \n",
    "                                                        (x != \"PM Peak\"))\n",
    "                                        else 0),\n",
    "    )\n",
    "    \n",
    "    df2 = (df.groupby(trip_cols)\n",
    "           .agg({\"is_am_peak\": np.max, \n",
    "                 \"is_pm_peak\": np.max,\n",
    "                 \"is_other\": np.max,})\n",
    "           .reset_index()\n",
    "          )\n",
    "    \n",
    "    # Drop trips that only run AM/PM\n",
    "    only_peak = df2[(df2.is_am_peak==1) & \n",
    "              (df2.is_pm_peak==1) & \n",
    "              (df2.is_other==0)].trip_id.compute()\n",
    "        \n",
    "    # Return list of trip_ids that are invalid\n",
    "    return list(only_peak.unique())"
   ]
  },
  {
   "cell_type": "code",
   "execution_count": null,
   "id": "396496be-8a65-432f-b1da-ee199f0562f8",
   "metadata": {},
   "outputs": [],
   "source": [
    "invalid_trips = invalid_trips_only_peak_hours(trip_stops_by_hour)"
   ]
  },
  {
   "cell_type": "code",
   "execution_count": null,
   "id": "2d419219-9256-4f00-9863-96448a160ae7",
   "metadata": {},
   "outputs": [],
   "source": []
  },
  {
   "cell_type": "code",
   "execution_count": null,
   "id": "41691421-82d5-4227-8dcf-a3e15a327c1c",
   "metadata": {},
   "outputs": [],
   "source": []
  }
 ],
 "metadata": {
  "kernelspec": {
   "display_name": "Python 3 (ipykernel)",
   "language": "python",
   "name": "python3"
  },
  "language_info": {
   "codemirror_mode": {
    "name": "ipython",
    "version": 3
   },
   "file_extension": ".py",
   "mimetype": "text/x-python",
   "name": "python",
   "nbconvert_exporter": "python",
   "pygments_lexer": "ipython3",
   "version": "3.10.4"
  }
 },
 "nbformat": 4,
 "nbformat_minor": 5
}
