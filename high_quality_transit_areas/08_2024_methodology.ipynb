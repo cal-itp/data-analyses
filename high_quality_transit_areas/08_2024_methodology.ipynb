{
 "cells": [
  {
   "cell_type": "code",
   "execution_count": 1,
   "id": "5bbd8694-444f-48c0-89a0-00c5c0e542c8",
   "metadata": {},
   "outputs": [],
   "source": [
    "import geopandas as gpd\n",
    "import pandas as pd\n",
    "from siuba import *\n",
    "\n",
    "from segment_speed_utils import helpers, gtfs_schedule_wrangling\n",
    "from shared_utils import rt_dates, gtfs_utils_v2\n",
    "import folium"
   ]
  },
  {
   "cell_type": "code",
   "execution_count": 2,
   "id": "994a67bc-1cbe-4477-ac3b-cbe0f7e4822e",
   "metadata": {},
   "outputs": [],
   "source": [
    "from update_vars import analysis_date, AM_PEAK, PM_PEAK, EXPORT_PATH"
   ]
  },
  {
   "cell_type": "code",
   "execution_count": 3,
   "id": "3db3cd37-16c7-4353-98c2-3e83d438fd07",
   "metadata": {},
   "outputs": [
    {
     "data": {
      "text/plain": [
       "(datetime.time(6, 0), datetime.time(9, 0))"
      ]
     },
     "execution_count": 3,
     "metadata": {},
     "output_type": "execute_result"
    }
   ],
   "source": [
    "AM_PEAK"
   ]
  },
  {
   "cell_type": "code",
   "execution_count": 4,
   "id": "a6427925-6a65-42eb-84dc-000eb67b92fc",
   "metadata": {},
   "outputs": [
    {
     "data": {
      "text/plain": [
       "(datetime.time(15, 0), datetime.time(19, 0))"
      ]
     },
     "execution_count": 4,
     "metadata": {},
     "output_type": "execute_result"
    }
   ],
   "source": [
    "PM_PEAK"
   ]
  },
  {
   "cell_type": "code",
   "execution_count": 5,
   "id": "3698c835-a67a-4f7e-808b-b28dab3e7d02",
   "metadata": {},
   "outputs": [],
   "source": [
    "imported_st = helpers.import_scheduled_stop_times(\n",
    "    analysis_date,\n",
    "    get_pandas = True,\n",
    ")"
   ]
  },
  {
   "cell_type": "code",
   "execution_count": 6,
   "id": "417de8ca-948f-4d8f-818d-8ed5936263da",
   "metadata": {},
   "outputs": [
    {
     "name": "stderr",
     "output_type": "stream",
     "text": [
      "/tmp/ipykernel_639/1642475809.py:13: SettingWithCopyWarning: \n",
      "A value is trying to be set on a copy of a slice from a DataFrame.\n",
      "Try using .loc[row_indexer,col_indexer] = value instead\n",
      "\n",
      "See the caveats in the documentation: https://pandas.pydata.org/pandas-docs/stable/user_guide/indexing.html#returning-a-view-versus-a-copy\n",
      "  both_peak_filtered['peak'] = both_peak_filtered['arrival_hour'].map(peaks_dict)\n"
     ]
    }
   ],
   "source": [
    "am_peak_hrs = list(range(AM_PEAK[0].hour, AM_PEAK[1].hour))\n",
    "pm_peak_hrs = list(range(PM_PEAK[0].hour, PM_PEAK[1].hour))\n",
    "both_peaks_hrs = am_peak_hrs + pm_peak_hrs\n",
    "peaks_dict = {key: 'am_peak' for key in am_peak_hrs} | {key: 'pm_peak' for key in pm_peak_hrs}\n",
    "\n",
    "#  happens in st agg...\n",
    "imported_st = imported_st.assign(\n",
    "        departure_hour = pd.to_datetime(\n",
    "            imported_st.departure_sec, unit=\"s\").dt.hour\n",
    "    )\n",
    "\n",
    "both_peak_filtered = imported_st[imported_st['arrival_hour'].isin(both_peaks_hrs)]\n",
    "both_peak_filtered['peak'] = both_peak_filtered['arrival_hour'].map(peaks_dict)"
   ]
  },
  {
   "cell_type": "code",
   "execution_count": 7,
   "id": "df159924-5c20-47dd-9b68-2c3a50491f6c",
   "metadata": {},
   "outputs": [
    {
     "data": {
      "text/plain": [
       "{6: 'am_peak',\n",
       " 7: 'am_peak',\n",
       " 8: 'am_peak',\n",
       " 15: 'pm_peak',\n",
       " 16: 'pm_peak',\n",
       " 17: 'pm_peak',\n",
       " 18: 'pm_peak'}"
      ]
     },
     "execution_count": 7,
     "metadata": {},
     "output_type": "execute_result"
    }
   ],
   "source": [
    "peaks_dict"
   ]
  },
  {
   "cell_type": "markdown",
   "id": "e57030f6-ff32-416a-a5de-d977434f35d2",
   "metadata": {},
   "source": [
    "## sjoin stops to segs -- subset peak?"
   ]
  },
  {
   "cell_type": "code",
   "execution_count": 8,
   "id": "b263f2d3-1aa3-4576-aac6-a800f12cca19",
   "metadata": {},
   "outputs": [],
   "source": [
    "import sjoin_stops_to_segments"
   ]
  },
  {
   "cell_type": "code",
   "execution_count": 9,
   "id": "f36f317d-b4b7-43e8-8340-30f849cc4b64",
   "metadata": {},
   "outputs": [
    {
     "data": {
      "text/plain": [
       "feed_key           object\n",
       "feed_timezone      object\n",
       "base64_url         object\n",
       "trip_id            object\n",
       "stop_id            object\n",
       "stop_sequence       int64\n",
       "timepoint         float64\n",
       "arrival_sec       float64\n",
       "departure_sec     float64\n",
       "arrival_hour      float64\n",
       "departure_hour    float64\n",
       "dtype: object"
      ]
     },
     "execution_count": 9,
     "metadata": {},
     "output_type": "execute_result"
    }
   ],
   "source": [
    "imported_st.dtypes"
   ]
  },
  {
   "cell_type": "code",
   "execution_count": 10,
   "id": "239843ad-e8aa-4415-8c8f-7590df9267ad",
   "metadata": {},
   "outputs": [
    {
     "data": {
      "text/html": [
       "<div>\n",
       "<style scoped>\n",
       "    .dataframe tbody tr th:only-of-type {\n",
       "        vertical-align: middle;\n",
       "    }\n",
       "\n",
       "    .dataframe tbody tr th {\n",
       "        vertical-align: top;\n",
       "    }\n",
       "\n",
       "    .dataframe thead th {\n",
       "        text-align: right;\n",
       "    }\n",
       "</style>\n",
       "<table border=\"1\" class=\"dataframe\">\n",
       "  <thead>\n",
       "    <tr style=\"text-align: right;\">\n",
       "      <th></th>\n",
       "      <th>feed_key</th>\n",
       "      <th>feed_timezone</th>\n",
       "      <th>base64_url</th>\n",
       "      <th>trip_id</th>\n",
       "      <th>stop_id</th>\n",
       "      <th>stop_sequence</th>\n",
       "      <th>timepoint</th>\n",
       "      <th>arrival_sec</th>\n",
       "      <th>departure_sec</th>\n",
       "      <th>arrival_hour</th>\n",
       "      <th>departure_hour</th>\n",
       "    </tr>\n",
       "  </thead>\n",
       "  <tbody>\n",
       "    <tr>\n",
       "      <th>0</th>\n",
       "      <td>55d8763ca8845a4efa50e40a9b972e1c</td>\n",
       "      <td>America/Los_Angeles</td>\n",
       "      <td>aHR0cHM6Ly9hcGkuNTExLm9yZy90cmFuc2l0L2RhdGFmZW...</td>\n",
       "      <td>dgxbvk5qu</td>\n",
       "      <td>11</td>\n",
       "      <td>1</td>\n",
       "      <td>1.0</td>\n",
       "      <td>43200.0</td>\n",
       "      <td>43200.0</td>\n",
       "      <td>12.0</td>\n",
       "      <td>12.0</td>\n",
       "    </tr>\n",
       "    <tr>\n",
       "      <th>1</th>\n",
       "      <td>55d8763ca8845a4efa50e40a9b972e1c</td>\n",
       "      <td>America/Los_Angeles</td>\n",
       "      <td>aHR0cHM6Ly9hcGkuNTExLm9yZy90cmFuc2l0L2RhdGFmZW...</td>\n",
       "      <td>992</td>\n",
       "      <td>GA</td>\n",
       "      <td>1</td>\n",
       "      <td>1.0</td>\n",
       "      <td>85200.0</td>\n",
       "      <td>85200.0</td>\n",
       "      <td>23.0</td>\n",
       "      <td>23.0</td>\n",
       "    </tr>\n",
       "    <tr>\n",
       "      <th>2</th>\n",
       "      <td>55d8763ca8845a4efa50e40a9b972e1c</td>\n",
       "      <td>America/Los_Angeles</td>\n",
       "      <td>aHR0cHM6Ly9hcGkuNTExLm9yZy90cmFuc2l0L2RhdGFmZW...</td>\n",
       "      <td>ogkycex13</td>\n",
       "      <td>11</td>\n",
       "      <td>1</td>\n",
       "      <td>1.0</td>\n",
       "      <td>15000.0</td>\n",
       "      <td>15000.0</td>\n",
       "      <td>4.0</td>\n",
       "      <td>4.0</td>\n",
       "    </tr>\n",
       "  </tbody>\n",
       "</table>\n",
       "</div>"
      ],
      "text/plain": [
       "                           feed_key        feed_timezone  \\\n",
       "0  55d8763ca8845a4efa50e40a9b972e1c  America/Los_Angeles   \n",
       "1  55d8763ca8845a4efa50e40a9b972e1c  America/Los_Angeles   \n",
       "2  55d8763ca8845a4efa50e40a9b972e1c  America/Los_Angeles   \n",
       "\n",
       "                                          base64_url    trip_id stop_id  \\\n",
       "0  aHR0cHM6Ly9hcGkuNTExLm9yZy90cmFuc2l0L2RhdGFmZW...  dgxbvk5qu      11   \n",
       "1  aHR0cHM6Ly9hcGkuNTExLm9yZy90cmFuc2l0L2RhdGFmZW...        992      GA   \n",
       "2  aHR0cHM6Ly9hcGkuNTExLm9yZy90cmFuc2l0L2RhdGFmZW...  ogkycex13      11   \n",
       "\n",
       "   stop_sequence  timepoint  arrival_sec  departure_sec  arrival_hour  \\\n",
       "0              1        1.0      43200.0        43200.0          12.0   \n",
       "1              1        1.0      85200.0        85200.0          23.0   \n",
       "2              1        1.0      15000.0        15000.0           4.0   \n",
       "\n",
       "   departure_hour  \n",
       "0            12.0  \n",
       "1            23.0  \n",
       "2             4.0  "
      ]
     },
     "execution_count": 10,
     "metadata": {},
     "output_type": "execute_result"
    }
   ],
   "source": [
    "imported_st >> head(3)"
   ]
  },
  {
   "cell_type": "code",
   "execution_count": 11,
   "id": "db9ec643-efbd-458d-b0e0-794f1898b74b",
   "metadata": {},
   "outputs": [
    {
     "data": {
      "text/html": [
       "<div>\n",
       "<style scoped>\n",
       "    .dataframe tbody tr th:only-of-type {\n",
       "        vertical-align: middle;\n",
       "    }\n",
       "\n",
       "    .dataframe tbody tr th {\n",
       "        vertical-align: top;\n",
       "    }\n",
       "\n",
       "    .dataframe thead th {\n",
       "        text-align: right;\n",
       "    }\n",
       "</style>\n",
       "<table border=\"1\" class=\"dataframe\">\n",
       "  <thead>\n",
       "    <tr style=\"text-align: right;\">\n",
       "      <th></th>\n",
       "      <th>feed_key</th>\n",
       "      <th>feed_timezone</th>\n",
       "      <th>base64_url</th>\n",
       "      <th>trip_id</th>\n",
       "      <th>stop_id</th>\n",
       "      <th>stop_sequence</th>\n",
       "      <th>timepoint</th>\n",
       "      <th>arrival_sec</th>\n",
       "      <th>departure_sec</th>\n",
       "      <th>arrival_hour</th>\n",
       "      <th>departure_hour</th>\n",
       "      <th>peak</th>\n",
       "    </tr>\n",
       "  </thead>\n",
       "  <tbody>\n",
       "    <tr>\n",
       "      <th>3</th>\n",
       "      <td>55d8763ca8845a4efa50e40a9b972e1c</td>\n",
       "      <td>America/Los_Angeles</td>\n",
       "      <td>aHR0cHM6Ly9hcGkuNTExLm9yZy90cmFuc2l0L2RhdGFmZW...</td>\n",
       "      <td>hcm9spuol</td>\n",
       "      <td>11</td>\n",
       "      <td>1</td>\n",
       "      <td>1.0</td>\n",
       "      <td>59400.0</td>\n",
       "      <td>59400.0</td>\n",
       "      <td>16.0</td>\n",
       "      <td>16.0</td>\n",
       "      <td>pm_peak</td>\n",
       "    </tr>\n",
       "    <tr>\n",
       "      <th>5</th>\n",
       "      <td>55d8763ca8845a4efa50e40a9b972e1c</td>\n",
       "      <td>America/Los_Angeles</td>\n",
       "      <td>aHR0cHM6Ly9hcGkuNTExLm9yZy90cmFuc2l0L2RhdGFmZW...</td>\n",
       "      <td>1335</td>\n",
       "      <td>LTP</td>\n",
       "      <td>1</td>\n",
       "      <td>1.0</td>\n",
       "      <td>64080.0</td>\n",
       "      <td>64080.0</td>\n",
       "      <td>17.0</td>\n",
       "      <td>17.0</td>\n",
       "      <td>pm_peak</td>\n",
       "    </tr>\n",
       "  </tbody>\n",
       "</table>\n",
       "</div>"
      ],
      "text/plain": [
       "                           feed_key        feed_timezone  \\\n",
       "3  55d8763ca8845a4efa50e40a9b972e1c  America/Los_Angeles   \n",
       "5  55d8763ca8845a4efa50e40a9b972e1c  America/Los_Angeles   \n",
       "\n",
       "                                          base64_url    trip_id stop_id  \\\n",
       "3  aHR0cHM6Ly9hcGkuNTExLm9yZy90cmFuc2l0L2RhdGFmZW...  hcm9spuol      11   \n",
       "5  aHR0cHM6Ly9hcGkuNTExLm9yZy90cmFuc2l0L2RhdGFmZW...       1335     LTP   \n",
       "\n",
       "   stop_sequence  timepoint  arrival_sec  departure_sec  arrival_hour  \\\n",
       "3              1        1.0      59400.0        59400.0          16.0   \n",
       "5              1        1.0      64080.0        64080.0          17.0   \n",
       "\n",
       "   departure_hour     peak  \n",
       "3            16.0  pm_peak  \n",
       "5            17.0  pm_peak  "
      ]
     },
     "execution_count": 11,
     "metadata": {},
     "output_type": "execute_result"
    }
   ],
   "source": [
    "both_peak_filtered >> head(2)"
   ]
  },
  {
   "cell_type": "code",
   "execution_count": 13,
   "id": "0b6f850f-6038-4687-bd22-68552334fd2b",
   "metadata": {},
   "outputs": [],
   "source": [
    "# (1) Aggregate stop times - by stop_id, find max trips in AM/PM peak\n",
    "# takes 1 min\n",
    "max_arrivals_by_stop = helpers.import_scheduled_stop_times(\n",
    "    analysis_date,\n",
    "    get_pandas = True,\n",
    ").pipe(sjoin_stops_to_segments.prep_stop_times).pipe(sjoin_stops_to_segments.stop_times_aggregation_max_by_stop, analysis_date)"
   ]
  },
  {
   "cell_type": "code",
   "execution_count": null,
   "id": "23295ce6-a2c8-4fdd-b849-0d21183b362b",
   "metadata": {},
   "outputs": [],
   "source": [
    "# test = dev_stop_times_aggregation_max_by_stop(both_peak_filtered, analysis_date, single_route_dir=False)\n",
    "\n",
    "# old_hq = max_arrivals_by_stop >> filter(_.am_max_trips > 4, _.pm_max_trips > 4) # old HQ corridor + major stop precursor\n",
    "# old_hq\n",
    "\n",
    "# new_hq_multi = test >> filter(_.am_max_trips_hr > 4, _.pm_max_trips_hr > 4) #  new HQ corridor (still multi-route)\n",
    "# new_hq_multi\n",
    "\n",
    "# new_ms_multi = test >> filter(_.am_max_trips_hr > 3, _.pm_max_trips_hr > 3) #  new major stop precursor (still multi-route)\n",
    "# new_ms_multi\n",
    "\n",
    "# single_route_test = dev_stop_times_aggregation_max_by_stop(both_peak_filtered, analysis_date, single_route_dir=True)\n",
    "\n",
    "# new_hq_single = single_route_test >> filter(_.am_max_trips_hr > 4, _.pm_max_trips_hr > 4) #  new HQ corridor (single-route)\n",
    "# new_hq_single\n",
    "\n",
    "# new_ms_single = single_route_test >> filter(_.am_max_trips_hr > 3, _.pm_max_trips_hr > 3) #  new major stop precursor (single-route)\n",
    "# new_ms_single"
   ]
  },
  {
   "cell_type": "markdown",
   "id": "92977e9b-bb4d-4455-9178-7d8f03a174b5",
   "metadata": {},
   "source": [
    "## preliminary mapping\n",
    "\n",
    "* add bus/rail/ferry MTS in orange to help decide"
   ]
  },
  {
   "cell_type": "code",
   "execution_count": null,
   "id": "663c2e6f-6a31-40f4-8e3d-f03d290429f7",
   "metadata": {},
   "outputs": [],
   "source": [
    "EXPORT_PATH"
   ]
  },
  {
   "cell_type": "code",
   "execution_count": null,
   "id": "5fa753c4-0c9e-4cab-836f-36e68287ee28",
   "metadata": {},
   "outputs": [],
   "source": [
    "hq_points = gpd.read_parquet(f'{EXPORT_PATH}ca_hq_transit_stops.parquet')"
   ]
  },
  {
   "cell_type": "code",
   "execution_count": null,
   "id": "ee6b8713-26b8-40bd-8f64-7964ea70e4eb",
   "metadata": {},
   "outputs": [],
   "source": [
    "non_bus = hq_points >> filter(-_.hqta_type.isin(['hq_corridor_bus', 'major_stop_bus']))"
   ]
  },
  {
   "cell_type": "code",
   "execution_count": null,
   "id": "48c6158e-8357-4e2a-b750-5769253ceb08",
   "metadata": {},
   "outputs": [],
   "source": [
    "both_peak_filtered"
   ]
  },
  {
   "cell_type": "code",
   "execution_count": null,
   "id": "01a0e424-e3ad-467a-9b3f-8e961da130e8",
   "metadata": {},
   "outputs": [],
   "source": [
    "gtfs_utils_v2.get_stops?"
   ]
  },
  {
   "cell_type": "code",
   "execution_count": null,
   "id": "b2a77335-5940-4527-8457-ce6ac27c9f39",
   "metadata": {},
   "outputs": [],
   "source": [
    "stops = gtfs_utils_v2.get_stops(selected_date=analysis_date, operator_feeds=both_peak_filtered.feed_key.unique(),\n",
    "                       stop_cols=['feed_key', 'stop_id'])"
   ]
  },
  {
   "cell_type": "code",
   "execution_count": null,
   "id": "70431fa2-4856-4f83-b67b-92f802809398",
   "metadata": {},
   "outputs": [],
   "source": [
    "feeds = gtfs_utils_v2.schedule_daily_feed_to_gtfs_dataset_name(selected_date=analysis_date) >> select(_.feed_key, _.schedule_gtfs_dataset_key == _.gtfs_dataset_key)"
   ]
  },
  {
   "cell_type": "code",
   "execution_count": null,
   "id": "6633dce1-42ef-4e86-9af0-8305b904e0e6",
   "metadata": {},
   "outputs": [],
   "source": [
    "stops = stops >> inner_join(_, feeds, on='feed_key')"
   ]
  },
  {
   "cell_type": "code",
   "execution_count": null,
   "id": "2f9d4f2e-e955-41d1-b97f-cb2ff0e2f3a4",
   "metadata": {},
   "outputs": [],
   "source": [
    "def add_to_map(test_df, m=None, **kwargs):\n",
    "    gdf = stops >> inner_join(_, test_df, on=['schedule_gtfs_dataset_key', 'stop_id'])\n",
    "    m = gdf.explore(m = m, **kwargs)\n",
    "    return m"
   ]
  },
  {
   "cell_type": "code",
   "execution_count": null,
   "id": "3ed52cda-d707-4ff4-abae-95331c133988",
   "metadata": {},
   "outputs": [],
   "source": [
    "m = add_to_map(old_hq)\n",
    "m = non_bus.explore(m = m, color='orange')"
   ]
  },
  {
   "cell_type": "code",
   "execution_count": null,
   "id": "00188b90-31be-40bf-9c66-c5ecd0e28514",
   "metadata": {},
   "outputs": [],
   "source": [
    "m = add_to_map(new_hq_multi, m=m, color='green')"
   ]
  },
  {
   "cell_type": "code",
   "execution_count": null,
   "id": "b547f7cb-3efc-4558-987f-c27db0957f8c",
   "metadata": {},
   "outputs": [],
   "source": [
    "m = add_to_map(new_hq_single, m=m, color='red')"
   ]
  },
  {
   "cell_type": "code",
   "execution_count": null,
   "id": "42c0505c-456f-41b3-80ac-2d0673ae8c6d",
   "metadata": {},
   "outputs": [],
   "source": [
    "folium.LayerControl().add_to(m)"
   ]
  },
  {
   "cell_type": "code",
   "execution_count": null,
   "id": "7af76c43-60e7-4220-a4ce-1ef82b1aaaf0",
   "metadata": {},
   "outputs": [],
   "source": [
    "m"
   ]
  },
  {
   "cell_type": "markdown",
   "id": "ade435a2-6a54-4833-8f76-8ca5bc35b2a9",
   "metadata": {},
   "source": [
    "## major stops"
   ]
  },
  {
   "cell_type": "code",
   "execution_count": null,
   "id": "4d2f5446-a64a-43ec-8b4d-d2b0f55b68e9",
   "metadata": {},
   "outputs": [],
   "source": [
    "m = add_to_map(old_hq)\n",
    "m = non_bus.explore(m = m, color='orange')"
   ]
  },
  {
   "cell_type": "code",
   "execution_count": null,
   "id": "42ebce25-f799-4bd8-8299-affd3d28ddeb",
   "metadata": {},
   "outputs": [],
   "source": [
    "m = add_to_map(new_ms_multi, m=m, color='green')"
   ]
  },
  {
   "cell_type": "code",
   "execution_count": null,
   "id": "f7aba8a7-17b8-4a42-a75a-d2bdfe4613ed",
   "metadata": {},
   "outputs": [],
   "source": [
    "m = add_to_map(new_ms_single, m=m, color='red')"
   ]
  },
  {
   "cell_type": "code",
   "execution_count": null,
   "id": "aa30677f-1142-4a21-a4d3-b2e034a92826",
   "metadata": {},
   "outputs": [],
   "source": [
    "folium.LayerControl().add_to(m)"
   ]
  },
  {
   "cell_type": "code",
   "execution_count": null,
   "id": "e412a100-b5d8-495d-9dc1-b445af385802",
   "metadata": {
    "tags": []
   },
   "outputs": [],
   "source": [
    "m"
   ]
  }
 ],
 "metadata": {
  "kernelspec": {
   "display_name": "Python 3 (ipykernel)",
   "language": "python",
   "name": "python3"
  },
  "language_info": {
   "codemirror_mode": {
    "name": "ipython",
    "version": 3
   },
   "file_extension": ".py",
   "mimetype": "text/x-python",
   "name": "python",
   "nbconvert_exporter": "python",
   "pygments_lexer": "ipython3",
   "version": "3.9.13"
  },
  "widgets": {
   "application/vnd.jupyter.widget-state+json": {
    "state": {},
    "version_major": 2,
    "version_minor": 0
   }
  }
 },
 "nbformat": 4,
 "nbformat_minor": 5
}
