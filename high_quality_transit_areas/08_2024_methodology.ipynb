{
 "cells": [
  {
   "cell_type": "code",
   "execution_count": 1,
   "id": "38262382-8e2c-4eb9-86ce-aa4aa251d6d4",
   "metadata": {},
   "outputs": [],
   "source": [
    "import os\n",
    "os.environ[\"CALITP_BQ_MAX_BYTES\"] = str(1_000_000_000_000) ## 1TB?"
   ]
  },
  {
   "cell_type": "code",
   "execution_count": 2,
   "id": "5bbd8694-444f-48c0-89a0-00c5c0e542c8",
   "metadata": {},
   "outputs": [],
   "source": [
    "import geopandas as gpd\n",
    "import pandas as pd\n",
    "from siuba import *\n",
    "\n",
    "from segment_speed_utils import helpers, gtfs_schedule_wrangling\n",
    "from shared_utils import rt_dates, gtfs_utils_v2\n",
    "import folium"
   ]
  },
  {
   "cell_type": "code",
   "execution_count": 3,
   "id": "994a67bc-1cbe-4477-ac3b-cbe0f7e4822e",
   "metadata": {},
   "outputs": [],
   "source": [
    "from update_vars import analysis_date, AM_PEAK, PM_PEAK, EXPORT_PATH, GCS_FILE_PATH, PROJECT_CRS"
   ]
  },
  {
   "cell_type": "code",
   "execution_count": 4,
   "id": "b263f2d3-1aa3-4576-aac6-a800f12cca19",
   "metadata": {},
   "outputs": [],
   "source": [
    "import sjoin_stops_to_segments"
   ]
  },
  {
   "cell_type": "code",
   "execution_count": 5,
   "id": "fd40c5c1-6d79-4bb0-87bd-18c9053af24b",
   "metadata": {},
   "outputs": [
    {
     "data": {
      "text/plain": [
       "'2024-10-16'"
      ]
     },
     "execution_count": 5,
     "metadata": {},
     "output_type": "execute_result"
    }
   ],
   "source": [
    "analysis_date"
   ]
  },
  {
   "cell_type": "code",
   "execution_count": 5,
   "id": "0b6f850f-6038-4687-bd22-68552334fd2b",
   "metadata": {
    "tags": []
   },
   "outputs": [],
   "source": [
    "# (1) Aggregate stop times - by stop_id, find max trips in AM/PM peak\n",
    "# takes 1 min\n",
    "max_arrivals_by_stop = helpers.import_scheduled_stop_times(\n",
    "    analysis_date,\n",
    "    get_pandas = True,\n",
    ").pipe(sjoin_stops_to_segments.prep_stop_times).pipe(sjoin_stops_to_segments.stop_times_aggregation_max_by_stop, analysis_date)"
   ]
  },
  {
   "cell_type": "code",
   "execution_count": 6,
   "id": "d9772373-43a4-40c4-b7c6-b0550cbb9ad0",
   "metadata": {},
   "outputs": [],
   "source": [
    "# (1) Aggregate stop times - by stop_id, find max trips in AM/PM peak\n",
    "# takes 1 min\n",
    "max_arrivals_by_stop_single = helpers.import_scheduled_stop_times(\n",
    "    analysis_date,\n",
    "    get_pandas = True,\n",
    ").pipe(sjoin_stops_to_segments.prep_stop_times).pipe(\n",
    "    sjoin_stops_to_segments.stop_times_aggregation_max_by_stop, analysis_date, single_route_dir=True)"
   ]
  },
  {
   "cell_type": "code",
   "execution_count": 7,
   "id": "23295ce6-a2c8-4fdd-b849-0d21183b362b",
   "metadata": {},
   "outputs": [],
   "source": [
    "new_hq_multi = max_arrivals_by_stop >> filter(_.am_max_trips_hr > 4, _.pm_max_trips_hr > 4) #  new HQ corridor (still multi-route)\n",
    "new_ms_multi = max_arrivals_by_stop >> filter(_.am_max_trips_hr > 3, _.pm_max_trips_hr > 3) #  new major stop precursor (still multi-route)\n",
    "new_hq_single = max_arrivals_by_stop_single >> filter(_.am_max_trips_hr > 4, _.pm_max_trips_hr > 4) #  new HQ corridor (single-route)\n",
    "new_ms_single = max_arrivals_by_stop_single >> filter(_.am_max_trips_hr > 3, _.pm_max_trips_hr > 3) #  new major stop precursor (single-route)"
   ]
  },
  {
   "cell_type": "markdown",
   "id": "92977e9b-bb4d-4455-9178-7d8f03a174b5",
   "metadata": {
    "tags": []
   },
   "source": [
    "## preliminary mapping\n",
    "\n",
    "* add bus/rail/ferry MTS in orange to help decide"
   ]
  },
  {
   "cell_type": "code",
   "execution_count": 8,
   "id": "663c2e6f-6a31-40f4-8e3d-f03d290429f7",
   "metadata": {},
   "outputs": [],
   "source": [
    "OLD_EXPORT_PATH = f\"{GCS_FILE_PATH}export/{rt_dates.DATES['aug2024']}/\""
   ]
  },
  {
   "cell_type": "code",
   "execution_count": 9,
   "id": "f1fff741-c6f0-43c2-a236-7670da61e209",
   "metadata": {},
   "outputs": [],
   "source": [
    "old_stops = gpd.read_parquet(f\"{OLD_EXPORT_PATH}ca_hq_transit_stops.parquet\")"
   ]
  },
  {
   "cell_type": "code",
   "execution_count": 10,
   "id": "ee6b8713-26b8-40bd-8f64-7964ea70e4eb",
   "metadata": {},
   "outputs": [],
   "source": [
    "non_bus = old_stops >> filter(-_.hqta_type.isin(['hq_corridor_bus', 'major_stop_bus']))"
   ]
  },
  {
   "cell_type": "code",
   "execution_count": 11,
   "id": "70431fa2-4856-4f83-b67b-92f802809398",
   "metadata": {},
   "outputs": [],
   "source": [
    "feeds = (gtfs_utils_v2.schedule_daily_feed_to_gtfs_dataset_name(selected_date=analysis_date)\n",
    "         >> select(_.feed_key, _.schedule_gtfs_dataset_key == _.gtfs_dataset_key, _.name)\n",
    "         >> filter(_.schedule_gtfs_dataset_key.isin(max_arrivals_by_stop.schedule_gtfs_dataset_key))\n",
    "        )"
   ]
  },
  {
   "cell_type": "code",
   "execution_count": 12,
   "id": "b2a77335-5940-4527-8457-ce6ac27c9f39",
   "metadata": {
    "collapsed": true,
    "jupyter": {
     "outputs_hidden": true
    },
    "tags": []
   },
   "outputs": [
    {
     "name": "stderr",
     "output_type": "stream",
     "text": [
      "/opt/conda/lib/python3.9/site-packages/sqlalchemy_bigquery/_types.py:101: SAWarning: Did not recognize type 'GEOGRAPHY' of column 'pt_geom'\n",
      "  sqlalchemy.util.warn(\n"
     ]
    },
    {
     "ename": "DatabaseError",
     "evalue": "(google.cloud.bigquery.dbapi.exceptions.DatabaseError) 500 Query exceeded limit for bytes billed: 5000000000. 12200181760 or higher required.\n\nLocation: us-west2\nJob ID: d8266571-290f-4b97-bbd3-681202fbdc27\n\n[SQL: SELECT `anon_1`.`feed_key`, `anon_1`.`stop_id`, `anon_1`.`pt_geom` \nFROM (SELECT `anon_2`.`key` AS `key`, `anon_2`.`service_date` AS `service_date`, `anon_2`.`feed_key` AS `feed_key`, `anon_2`.`stop_id` AS `stop_id`, `anon_2`.`feed_timezone` AS `feed_timezone`, `anon_2`.`stop_event_count` AS `stop_event_count`, `anon_2`.`first_stop_arrival_datetime_pacific` AS `first_stop_arrival_datetime_pacific`, `anon_2`.`last_stop_departure_datetime_pacific` AS `last_stop_departure_datetime_pacific`, `anon_2`.`_feed_valid_from` AS `_feed_valid_from`, `anon_2`.`route_type_0` AS `route_type_0`, `anon_2`.`route_type_1` AS `route_type_1`, `anon_2`.`route_type_2` AS `route_type_2`, `anon_2`.`route_type_3` AS `route_type_3`, `anon_2`.`route_type_4` AS `route_type_4`, `anon_2`.`route_type_5` AS `route_type_5`, `anon_2`.`route_type_6` AS `route_type_6`, `anon_2`.`route_type_7` AS `route_type_7`, `anon_2`.`route_type_11` AS `route_type_11`, `anon_2`.`route_type_12` AS `route_type_12`, `anon_2`.`missing_route_type` AS `missing_route_type`, `anon_2`.`contains_warning_duplicate_stop_times_primary_key` AS `contains_warning_duplicate_stop_times_primary_key`, `anon_2`.`contains_warning_duplicate_trip_primary_key` AS `contains_warning_duplicate_trip_primary_key`, `anon_2`.`contains_warning_duplicate_stop_primary_key` AS `contains_warning_duplicate_stop_primary_key`, `anon_2`.`stop_key` AS `stop_key`, `anon_2`.`tts_stop_name` AS `tts_stop_name`, `anon_2`.`pt_geom` AS `pt_geom`, `anon_2`.`parent_station` AS `parent_station`, `anon_2`.`stop_code` AS `stop_code`, `anon_2`.`stop_name` AS `stop_name`, `anon_2`.`stop_desc` AS `stop_desc`, `anon_2`.`location_type` AS `location_type`, `anon_2`.`stop_timezone_coalesced` AS `stop_timezone_coalesced`, `anon_2`.`wheelchair_boarding` AS `wheelchair_boarding` \nFROM (SELECT `mart_gtfs.fct_daily_scheduled_stops_1`.`key` AS `key`, `mart_gtfs.fct_daily_scheduled_stops_1`.`service_date` AS `service_date`, `mart_gtfs.fct_daily_scheduled_stops_1`.`feed_key` AS `feed_key`, `mart_gtfs.fct_daily_scheduled_stops_1`.`stop_id` AS `stop_id`, `mart_gtfs.fct_daily_scheduled_stops_1`.`feed_timezone` AS `feed_timezone`, `mart_gtfs.fct_daily_scheduled_stops_1`.`stop_event_count` AS `stop_event_count`, `mart_gtfs.fct_daily_scheduled_stops_1`.`first_stop_arrival_datetime_pacific` AS `first_stop_arrival_datetime_pacific`, `mart_gtfs.fct_daily_scheduled_stops_1`.`last_stop_departure_datetime_pacific` AS `last_stop_departure_datetime_pacific`, `mart_gtfs.fct_daily_scheduled_stops_1`.`_feed_valid_from` AS `_feed_valid_from`, `mart_gtfs.fct_daily_scheduled_stops_1`.`route_type_0` AS `route_type_0`, `mart_gtfs.fct_daily_scheduled_stops_1`.`route_type_1` AS `route_type_1`, `mart_gtfs.fct_daily_scheduled_stops_1`.`route_type_2` AS `route_type_2`, `mart_gtfs.fct_daily_scheduled_stops_1`.`route_type_3` AS `route_type_3`, `mart_gtfs.fct_daily_scheduled_stops_1`.`route_type_4` AS `route_type_4`, `mart_gtfs.fct_daily_scheduled_stops_1`.`route_type_5` AS `route_type_5`, `mart_gtfs.fct_daily_scheduled_stops_1`.`route_type_6` AS `route_type_6`, `mart_gtfs.fct_daily_scheduled_stops_1`.`route_type_7` AS `route_type_7`, `mart_gtfs.fct_daily_scheduled_stops_1`.`route_type_11` AS `route_type_11`, `mart_gtfs.fct_daily_scheduled_stops_1`.`route_type_12` AS `route_type_12`, `mart_gtfs.fct_daily_scheduled_stops_1`.`missing_route_type` AS `missing_route_type`, `mart_gtfs.fct_daily_scheduled_stops_1`.`contains_warning_duplicate_stop_times_primary_key` AS `contains_warning_duplicate_stop_times_primary_key`, `mart_gtfs.fct_daily_scheduled_stops_1`.`contains_warning_duplicate_trip_primary_key` AS `contains_warning_duplicate_trip_primary_key`, `mart_gtfs.fct_daily_scheduled_stops_1`.`contains_warning_duplicate_stop_primary_key` AS `contains_warning_duplicate_stop_primary_key`, `mart_gtfs.fct_daily_scheduled_stops_1`.`stop_key` AS `stop_key`, `mart_gtfs.fct_daily_scheduled_stops_1`.`tts_stop_name` AS `tts_stop_name`, `mart_gtfs.fct_daily_scheduled_stops_1`.`pt_geom` AS `pt_geom`, `mart_gtfs.fct_daily_scheduled_stops_1`.`parent_station` AS `parent_station`, `mart_gtfs.fct_daily_scheduled_stops_1`.`stop_code` AS `stop_code`, `mart_gtfs.fct_daily_scheduled_stops_1`.`stop_name` AS `stop_name`, `mart_gtfs.fct_daily_scheduled_stops_1`.`stop_desc` AS `stop_desc`, `mart_gtfs.fct_daily_scheduled_stops_1`.`location_type` AS `location_type`, `mart_gtfs.fct_daily_scheduled_stops_1`.`stop_timezone_coalesced` AS `stop_timezone_coalesced`, `mart_gtfs.fct_daily_scheduled_stops_1`.`wheelchair_boarding` AS `wheelchair_boarding` \nFROM `mart_gtfs.fct_daily_scheduled_stops` AS `mart_gtfs.fct_daily_scheduled_stops_1` \nWHERE `mart_gtfs.fct_daily_scheduled_stops_1`.`service_date` = %(service_date_1:STRING)s) AS `anon_2` \nWHERE `anon_2`.`feed_key` IN UNNEST(%(feed_key_1:STRING)s)) AS `anon_1`]\n[parameters: {'service_date_1': '2024-10-16', 'feed_key_1': ['511d593426d1fd821037dfd47d2e3cc8', '8685c49ef1273fe958478531f2c6a781', '0110e66b44a8f07126af415097613bb6', 'f974f59eed519d6a504775a5c2c75056', '5450 ... (6072 characters truncated) ... b339', '927c5e4bf55f7343b87202b5a0dc4018', '590892713ceb1d0389dec7a4c7e0e25b', '27bc8cf0848f3636c1047194318a92df', '638d90ba5ade8b25240024e6cae907e9']}]\n(Background on this error at: https://sqlalche.me/e/14/4xp6)",
     "output_type": "error",
     "traceback": [
      "\u001b[0;31m---------------------------------------------------------------------------\u001b[0m",
      "\u001b[0;31mInternalServerError\u001b[0m                       Traceback (most recent call last)",
      "File \u001b[0;32m/opt/conda/lib/python3.9/site-packages/google/cloud/bigquery/dbapi/cursor.py:213\u001b[0m, in \u001b[0;36mCursor._execute\u001b[0;34m(self, formatted_operation, parameters, job_id, job_config, parameter_types)\u001b[0m\n\u001b[1;32m    212\u001b[0m \u001b[38;5;28;01mtry\u001b[39;00m:\n\u001b[0;32m--> 213\u001b[0m     \u001b[38;5;28;43mself\u001b[39;49m\u001b[38;5;241;43m.\u001b[39;49m\u001b[43m_query_job\u001b[49m\u001b[38;5;241;43m.\u001b[39;49m\u001b[43mresult\u001b[49m\u001b[43m(\u001b[49m\u001b[43m)\u001b[49m\n\u001b[1;32m    214\u001b[0m \u001b[38;5;28;01mexcept\u001b[39;00m google\u001b[38;5;241m.\u001b[39mcloud\u001b[38;5;241m.\u001b[39mexceptions\u001b[38;5;241m.\u001b[39mGoogleCloudError \u001b[38;5;28;01mas\u001b[39;00m exc:\n",
      "File \u001b[0;32m/opt/conda/lib/python3.9/site-packages/google/cloud/bigquery/job/query.py:1520\u001b[0m, in \u001b[0;36mQueryJob.result\u001b[0;34m(self, page_size, max_results, retry, timeout, start_index, job_retry)\u001b[0m\n\u001b[1;32m   1518\u001b[0m         do_get_result \u001b[38;5;241m=\u001b[39m job_retry(do_get_result)\n\u001b[0;32m-> 1520\u001b[0m     \u001b[43mdo_get_result\u001b[49m\u001b[43m(\u001b[49m\u001b[43m)\u001b[49m\n\u001b[1;32m   1522\u001b[0m \u001b[38;5;28;01mexcept\u001b[39;00m exceptions\u001b[38;5;241m.\u001b[39mGoogleAPICallError \u001b[38;5;28;01mas\u001b[39;00m exc:\n",
      "File \u001b[0;32m/opt/conda/lib/python3.9/site-packages/google/api_core/retry.py:349\u001b[0m, in \u001b[0;36mRetry.__call__.<locals>.retry_wrapped_func\u001b[0;34m(*args, **kwargs)\u001b[0m\n\u001b[1;32m    346\u001b[0m sleep_generator \u001b[38;5;241m=\u001b[39m exponential_sleep_generator(\n\u001b[1;32m    347\u001b[0m     \u001b[38;5;28mself\u001b[39m\u001b[38;5;241m.\u001b[39m_initial, \u001b[38;5;28mself\u001b[39m\u001b[38;5;241m.\u001b[39m_maximum, multiplier\u001b[38;5;241m=\u001b[39m\u001b[38;5;28mself\u001b[39m\u001b[38;5;241m.\u001b[39m_multiplier\n\u001b[1;32m    348\u001b[0m )\n\u001b[0;32m--> 349\u001b[0m \u001b[38;5;28;01mreturn\u001b[39;00m \u001b[43mretry_target\u001b[49m\u001b[43m(\u001b[49m\n\u001b[1;32m    350\u001b[0m \u001b[43m    \u001b[49m\u001b[43mtarget\u001b[49m\u001b[43m,\u001b[49m\n\u001b[1;32m    351\u001b[0m \u001b[43m    \u001b[49m\u001b[38;5;28;43mself\u001b[39;49m\u001b[38;5;241;43m.\u001b[39;49m\u001b[43m_predicate\u001b[49m\u001b[43m,\u001b[49m\n\u001b[1;32m    352\u001b[0m \u001b[43m    \u001b[49m\u001b[43msleep_generator\u001b[49m\u001b[43m,\u001b[49m\n\u001b[1;32m    353\u001b[0m \u001b[43m    \u001b[49m\u001b[38;5;28;43mself\u001b[39;49m\u001b[38;5;241;43m.\u001b[39;49m\u001b[43m_timeout\u001b[49m\u001b[43m,\u001b[49m\n\u001b[1;32m    354\u001b[0m \u001b[43m    \u001b[49m\u001b[43mon_error\u001b[49m\u001b[38;5;241;43m=\u001b[39;49m\u001b[43mon_error\u001b[49m\u001b[43m,\u001b[49m\n\u001b[1;32m    355\u001b[0m \u001b[43m\u001b[49m\u001b[43m)\u001b[49m\n",
      "File \u001b[0;32m/opt/conda/lib/python3.9/site-packages/google/api_core/retry.py:191\u001b[0m, in \u001b[0;36mretry_target\u001b[0;34m(target, predicate, sleep_generator, timeout, on_error, **kwargs)\u001b[0m\n\u001b[1;32m    190\u001b[0m \u001b[38;5;28;01mtry\u001b[39;00m:\n\u001b[0;32m--> 191\u001b[0m     \u001b[38;5;28;01mreturn\u001b[39;00m \u001b[43mtarget\u001b[49m\u001b[43m(\u001b[49m\u001b[43m)\u001b[49m\n\u001b[1;32m    193\u001b[0m \u001b[38;5;66;03m# pylint: disable=broad-except\u001b[39;00m\n\u001b[1;32m    194\u001b[0m \u001b[38;5;66;03m# This function explicitly must deal with broad exceptions.\u001b[39;00m\n",
      "File \u001b[0;32m/opt/conda/lib/python3.9/site-packages/google/cloud/bigquery/job/query.py:1510\u001b[0m, in \u001b[0;36mQueryJob.result.<locals>.do_get_result\u001b[0;34m()\u001b[0m\n\u001b[1;32m   1508\u001b[0m     \u001b[38;5;28mself\u001b[39m\u001b[38;5;241m.\u001b[39m_job_retry \u001b[38;5;241m=\u001b[39m job_retry\n\u001b[0;32m-> 1510\u001b[0m \u001b[38;5;28;43msuper\u001b[39;49m\u001b[43m(\u001b[49m\u001b[43mQueryJob\u001b[49m\u001b[43m,\u001b[49m\u001b[43m \u001b[49m\u001b[38;5;28;43mself\u001b[39;49m\u001b[43m)\u001b[49m\u001b[38;5;241;43m.\u001b[39;49m\u001b[43mresult\u001b[49m\u001b[43m(\u001b[49m\u001b[43mretry\u001b[49m\u001b[38;5;241;43m=\u001b[39;49m\u001b[43mretry\u001b[49m\u001b[43m,\u001b[49m\u001b[43m \u001b[49m\u001b[43mtimeout\u001b[49m\u001b[38;5;241;43m=\u001b[39;49m\u001b[43mtimeout\u001b[49m\u001b[43m)\u001b[49m\n\u001b[1;32m   1512\u001b[0m \u001b[38;5;66;03m# Since the job could already be \"done\" (e.g. got a finished job\u001b[39;00m\n\u001b[1;32m   1513\u001b[0m \u001b[38;5;66;03m# via client.get_job), the superclass call to done() might not\u001b[39;00m\n\u001b[1;32m   1514\u001b[0m \u001b[38;5;66;03m# set the self._query_results cache.\u001b[39;00m\n",
      "File \u001b[0;32m/opt/conda/lib/python3.9/site-packages/google/cloud/bigquery/job/base.py:922\u001b[0m, in \u001b[0;36m_AsyncJob.result\u001b[0;34m(self, retry, timeout)\u001b[0m\n\u001b[1;32m    921\u001b[0m kwargs \u001b[38;5;241m=\u001b[39m {} \u001b[38;5;28;01mif\u001b[39;00m retry \u001b[38;5;129;01mis\u001b[39;00m DEFAULT_RETRY \u001b[38;5;28;01melse\u001b[39;00m {\u001b[38;5;124m\"\u001b[39m\u001b[38;5;124mretry\u001b[39m\u001b[38;5;124m\"\u001b[39m: retry}\n\u001b[0;32m--> 922\u001b[0m \u001b[38;5;28;01mreturn\u001b[39;00m \u001b[38;5;28;43msuper\u001b[39;49m\u001b[43m(\u001b[49m\u001b[43m_AsyncJob\u001b[49m\u001b[43m,\u001b[49m\u001b[43m \u001b[49m\u001b[38;5;28;43mself\u001b[39;49m\u001b[43m)\u001b[49m\u001b[38;5;241;43m.\u001b[39;49m\u001b[43mresult\u001b[49m\u001b[43m(\u001b[49m\u001b[43mtimeout\u001b[49m\u001b[38;5;241;43m=\u001b[39;49m\u001b[43mtimeout\u001b[49m\u001b[43m,\u001b[49m\u001b[43m \u001b[49m\u001b[38;5;241;43m*\u001b[39;49m\u001b[38;5;241;43m*\u001b[39;49m\u001b[43mkwargs\u001b[49m\u001b[43m)\u001b[49m\n",
      "File \u001b[0;32m/opt/conda/lib/python3.9/site-packages/google/api_core/future/polling.py:261\u001b[0m, in \u001b[0;36mPollingFuture.result\u001b[0;34m(self, timeout, retry, polling)\u001b[0m\n\u001b[1;32m    258\u001b[0m \u001b[38;5;28;01mif\u001b[39;00m \u001b[38;5;28mself\u001b[39m\u001b[38;5;241m.\u001b[39m_exception \u001b[38;5;129;01mis\u001b[39;00m \u001b[38;5;129;01mnot\u001b[39;00m \u001b[38;5;28;01mNone\u001b[39;00m:\n\u001b[1;32m    259\u001b[0m     \u001b[38;5;66;03m# pylint: disable=raising-bad-type\u001b[39;00m\n\u001b[1;32m    260\u001b[0m     \u001b[38;5;66;03m# Pylint doesn't recognize that this is valid in this case.\u001b[39;00m\n\u001b[0;32m--> 261\u001b[0m     \u001b[38;5;28;01mraise\u001b[39;00m \u001b[38;5;28mself\u001b[39m\u001b[38;5;241m.\u001b[39m_exception\n\u001b[1;32m    263\u001b[0m \u001b[38;5;28;01mreturn\u001b[39;00m \u001b[38;5;28mself\u001b[39m\u001b[38;5;241m.\u001b[39m_result\n",
      "\u001b[0;31mInternalServerError\u001b[0m: 500 Query exceeded limit for bytes billed: 5000000000. 12200181760 or higher required.\n\nLocation: us-west2\nJob ID: d8266571-290f-4b97-bbd3-681202fbdc27\n",
      "\nDuring handling of the above exception, another exception occurred:\n",
      "\u001b[0;31mDatabaseError\u001b[0m                             Traceback (most recent call last)",
      "File \u001b[0;32m/opt/conda/lib/python3.9/site-packages/sqlalchemy/engine/base.py:1910\u001b[0m, in \u001b[0;36mConnection._execute_context\u001b[0;34m(self, dialect, constructor, statement, parameters, execution_options, *args, **kw)\u001b[0m\n\u001b[1;32m   1909\u001b[0m     \u001b[38;5;28;01mif\u001b[39;00m \u001b[38;5;129;01mnot\u001b[39;00m evt_handled:\n\u001b[0;32m-> 1910\u001b[0m         \u001b[38;5;28;43mself\u001b[39;49m\u001b[38;5;241;43m.\u001b[39;49m\u001b[43mdialect\u001b[49m\u001b[38;5;241;43m.\u001b[39;49m\u001b[43mdo_execute\u001b[49m\u001b[43m(\u001b[49m\n\u001b[1;32m   1911\u001b[0m \u001b[43m            \u001b[49m\u001b[43mcursor\u001b[49m\u001b[43m,\u001b[49m\u001b[43m \u001b[49m\u001b[43mstatement\u001b[49m\u001b[43m,\u001b[49m\u001b[43m \u001b[49m\u001b[43mparameters\u001b[49m\u001b[43m,\u001b[49m\u001b[43m \u001b[49m\u001b[43mcontext\u001b[49m\n\u001b[1;32m   1912\u001b[0m \u001b[43m        \u001b[49m\u001b[43m)\u001b[49m\n\u001b[1;32m   1914\u001b[0m \u001b[38;5;28;01mif\u001b[39;00m \u001b[38;5;28mself\u001b[39m\u001b[38;5;241m.\u001b[39m_has_events \u001b[38;5;129;01mor\u001b[39;00m \u001b[38;5;28mself\u001b[39m\u001b[38;5;241m.\u001b[39mengine\u001b[38;5;241m.\u001b[39m_has_events:\n",
      "File \u001b[0;32m/opt/conda/lib/python3.9/site-packages/sqlalchemy/engine/default.py:736\u001b[0m, in \u001b[0;36mDefaultDialect.do_execute\u001b[0;34m(self, cursor, statement, parameters, context)\u001b[0m\n\u001b[1;32m    735\u001b[0m \u001b[38;5;28;01mdef\u001b[39;00m \u001b[38;5;21mdo_execute\u001b[39m(\u001b[38;5;28mself\u001b[39m, cursor, statement, parameters, context\u001b[38;5;241m=\u001b[39m\u001b[38;5;28;01mNone\u001b[39;00m):\n\u001b[0;32m--> 736\u001b[0m     \u001b[43mcursor\u001b[49m\u001b[38;5;241;43m.\u001b[39;49m\u001b[43mexecute\u001b[49m\u001b[43m(\u001b[49m\u001b[43mstatement\u001b[49m\u001b[43m,\u001b[49m\u001b[43m \u001b[49m\u001b[43mparameters\u001b[49m\u001b[43m)\u001b[49m\n",
      "File \u001b[0;32m/opt/conda/lib/python3.9/site-packages/google/cloud/bigquery/dbapi/_helpers.py:494\u001b[0m, in \u001b[0;36mraise_on_closed.<locals>._raise_on_closed.<locals>.with_closed_check\u001b[0;34m(self, *args, **kwargs)\u001b[0m\n\u001b[1;32m    493\u001b[0m     \u001b[38;5;28;01mraise\u001b[39;00m exc_class(exc_msg)\n\u001b[0;32m--> 494\u001b[0m \u001b[38;5;28;01mreturn\u001b[39;00m \u001b[43mmethod\u001b[49m\u001b[43m(\u001b[49m\u001b[38;5;28;43mself\u001b[39;49m\u001b[43m,\u001b[49m\u001b[43m \u001b[49m\u001b[38;5;241;43m*\u001b[39;49m\u001b[43margs\u001b[49m\u001b[43m,\u001b[49m\u001b[43m \u001b[49m\u001b[38;5;241;43m*\u001b[39;49m\u001b[38;5;241;43m*\u001b[39;49m\u001b[43mkwargs\u001b[49m\u001b[43m)\u001b[49m\n",
      "File \u001b[0;32m/opt/conda/lib/python3.9/site-packages/google/cloud/bigquery/dbapi/cursor.py:176\u001b[0m, in \u001b[0;36mCursor.execute\u001b[0;34m(self, operation, parameters, job_id, job_config)\u001b[0m\n\u001b[1;32m    175\u001b[0m formatted_operation, parameter_types \u001b[38;5;241m=\u001b[39m _format_operation(operation, parameters)\n\u001b[0;32m--> 176\u001b[0m \u001b[38;5;28;43mself\u001b[39;49m\u001b[38;5;241;43m.\u001b[39;49m\u001b[43m_execute\u001b[49m\u001b[43m(\u001b[49m\n\u001b[1;32m    177\u001b[0m \u001b[43m    \u001b[49m\u001b[43mformatted_operation\u001b[49m\u001b[43m,\u001b[49m\u001b[43m \u001b[49m\u001b[43mparameters\u001b[49m\u001b[43m,\u001b[49m\u001b[43m \u001b[49m\u001b[43mjob_id\u001b[49m\u001b[43m,\u001b[49m\u001b[43m \u001b[49m\u001b[43mjob_config\u001b[49m\u001b[43m,\u001b[49m\u001b[43m \u001b[49m\u001b[43mparameter_types\u001b[49m\n\u001b[1;32m    178\u001b[0m \u001b[43m\u001b[49m\u001b[43m)\u001b[49m\n",
      "File \u001b[0;32m/opt/conda/lib/python3.9/site-packages/google/cloud/bigquery/dbapi/cursor.py:215\u001b[0m, in \u001b[0;36mCursor._execute\u001b[0;34m(self, formatted_operation, parameters, job_id, job_config, parameter_types)\u001b[0m\n\u001b[1;32m    214\u001b[0m \u001b[38;5;28;01mexcept\u001b[39;00m google\u001b[38;5;241m.\u001b[39mcloud\u001b[38;5;241m.\u001b[39mexceptions\u001b[38;5;241m.\u001b[39mGoogleCloudError \u001b[38;5;28;01mas\u001b[39;00m exc:\n\u001b[0;32m--> 215\u001b[0m     \u001b[38;5;28;01mraise\u001b[39;00m exceptions\u001b[38;5;241m.\u001b[39mDatabaseError(exc)\n\u001b[1;32m    217\u001b[0m query_results \u001b[38;5;241m=\u001b[39m \u001b[38;5;28mself\u001b[39m\u001b[38;5;241m.\u001b[39m_query_job\u001b[38;5;241m.\u001b[39m_query_results\n",
      "\u001b[0;31mDatabaseError\u001b[0m: 500 Query exceeded limit for bytes billed: 5000000000. 12200181760 or higher required.\n\nLocation: us-west2\nJob ID: d8266571-290f-4b97-bbd3-681202fbdc27\n",
      "\nThe above exception was the direct cause of the following exception:\n",
      "\u001b[0;31mDatabaseError\u001b[0m                             Traceback (most recent call last)",
      "Cell \u001b[0;32mIn[12], line 1\u001b[0m\n\u001b[0;32m----> 1\u001b[0m stops \u001b[38;5;241m=\u001b[39m \u001b[43mgtfs_utils_v2\u001b[49m\u001b[38;5;241;43m.\u001b[39;49m\u001b[43mget_stops\u001b[49m\u001b[43m(\u001b[49m\u001b[43mselected_date\u001b[49m\u001b[38;5;241;43m=\u001b[39;49m\u001b[43manalysis_date\u001b[49m\u001b[43m,\u001b[49m\u001b[43m \u001b[49m\u001b[43moperator_feeds\u001b[49m\u001b[38;5;241;43m=\u001b[39;49m\u001b[43mfeeds\u001b[49m\u001b[38;5;241;43m.\u001b[39;49m\u001b[43mfeed_key\u001b[49m\u001b[43m,\u001b[49m\n\u001b[1;32m      2\u001b[0m \u001b[43m                       \u001b[49m\u001b[43mstop_cols\u001b[49m\u001b[38;5;241;43m=\u001b[39;49m\u001b[43m[\u001b[49m\u001b[38;5;124;43m'\u001b[39;49m\u001b[38;5;124;43mfeed_key\u001b[39;49m\u001b[38;5;124;43m'\u001b[39;49m\u001b[43m,\u001b[49m\u001b[43m \u001b[49m\u001b[38;5;124;43m'\u001b[39;49m\u001b[38;5;124;43mstop_id\u001b[39;49m\u001b[38;5;124;43m'\u001b[39;49m\u001b[43m]\u001b[49m\u001b[43m)\u001b[49m\n",
      "File \u001b[0;32m~/data-analyses/_shared_utils/shared_utils/gtfs_utils_v2.py:403\u001b[0m, in \u001b[0;36mget_stops\u001b[0;34m(selected_date, operator_feeds, stop_cols, get_df, crs, custom_filtering)\u001b[0m\n\u001b[1;32m    394\u001b[0m stops \u001b[38;5;241m=\u001b[39m (\n\u001b[1;32m    395\u001b[0m     tbls\u001b[38;5;241m.\u001b[39mmart_gtfs\u001b[38;5;241m.\u001b[39mfct_daily_scheduled_stops()\n\u001b[1;32m    396\u001b[0m     \u001b[38;5;241m>>\u001b[39m filter_date(selected_date, date_col\u001b[38;5;241m=\u001b[39m\u001b[38;5;124m\"\u001b[39m\u001b[38;5;124mservice_date\u001b[39m\u001b[38;5;124m\"\u001b[39m)\n\u001b[0;32m   (...)\u001b[0m\n\u001b[1;32m    399\u001b[0m     \u001b[38;5;241m>>\u001b[39m subset_cols(stop_cols_with_geom)\n\u001b[1;32m    400\u001b[0m )\n\u001b[1;32m    402\u001b[0m \u001b[38;5;28;01mif\u001b[39;00m get_df:\n\u001b[0;32m--> 403\u001b[0m     stops \u001b[38;5;241m=\u001b[39m \u001b[43mstops\u001b[49m\u001b[43m \u001b[49m\u001b[38;5;241;43m>>\u001b[39;49m\u001b[43m \u001b[49m\u001b[43mcollect\u001b[49m\u001b[43m(\u001b[49m\u001b[43m)\u001b[49m\n\u001b[1;32m    405\u001b[0m     geom \u001b[38;5;241m=\u001b[39m [shapely\u001b[38;5;241m.\u001b[39mwkt\u001b[38;5;241m.\u001b[39mloads(x) \u001b[38;5;28;01mfor\u001b[39;00m x \u001b[38;5;129;01min\u001b[39;00m stops\u001b[38;5;241m.\u001b[39mpt_geom]\n\u001b[1;32m    407\u001b[0m     stops \u001b[38;5;241m=\u001b[39m gpd\u001b[38;5;241m.\u001b[39mGeoDataFrame(stops, geometry\u001b[38;5;241m=\u001b[39mgeom, crs\u001b[38;5;241m=\u001b[39m\u001b[38;5;124m\"\u001b[39m\u001b[38;5;124mEPSG:4326\u001b[39m\u001b[38;5;124m\"\u001b[39m)\u001b[38;5;241m.\u001b[39mto_crs(crs)\u001b[38;5;241m.\u001b[39mdrop(columns\u001b[38;5;241m=\u001b[39m\u001b[38;5;124m\"\u001b[39m\u001b[38;5;124mpt_geom\u001b[39m\u001b[38;5;124m\"\u001b[39m)\n",
      "File \u001b[0;32m/opt/conda/lib/python3.9/site-packages/siuba/siu/calls.py:214\u001b[0m, in \u001b[0;36mCall.__rrshift__\u001b[0;34m(self, x)\u001b[0m\n\u001b[1;32m    210\u001b[0m \u001b[38;5;28;01mif\u001b[39;00m \u001b[38;5;28misinstance\u001b[39m(strip_symbolic(x), (Call)):\n\u001b[1;32m    211\u001b[0m     \u001b[38;5;66;03m# only allow non-calls (i.e. data) on the left.\u001b[39;00m\n\u001b[1;32m    212\u001b[0m     \u001b[38;5;28;01mraise\u001b[39;00m \u001b[38;5;167;01mTypeError\u001b[39;00m()\n\u001b[0;32m--> 214\u001b[0m \u001b[38;5;28;01mreturn\u001b[39;00m \u001b[38;5;28;43mself\u001b[39;49m\u001b[43m(\u001b[49m\u001b[43mx\u001b[49m\u001b[43m)\u001b[49m\n",
      "File \u001b[0;32m/opt/conda/lib/python3.9/site-packages/siuba/siu/calls.py:189\u001b[0m, in \u001b[0;36mCall.__call__\u001b[0;34m(self, x)\u001b[0m\n\u001b[1;32m    187\u001b[0m     \u001b[38;5;28;01mreturn\u001b[39;00m operator\u001b[38;5;241m.\u001b[39mgetitem(inst, \u001b[38;5;241m*\u001b[39mrest)\n\u001b[1;32m    188\u001b[0m \u001b[38;5;28;01melif\u001b[39;00m \u001b[38;5;28mself\u001b[39m\u001b[38;5;241m.\u001b[39mfunc \u001b[38;5;241m==\u001b[39m \u001b[38;5;124m\"\u001b[39m\u001b[38;5;124m__call__\u001b[39m\u001b[38;5;124m\"\u001b[39m:\n\u001b[0;32m--> 189\u001b[0m     \u001b[38;5;28;01mreturn\u001b[39;00m \u001b[38;5;28;43mgetattr\u001b[39;49m\u001b[43m(\u001b[49m\u001b[43minst\u001b[49m\u001b[43m,\u001b[49m\u001b[43m \u001b[49m\u001b[38;5;28;43mself\u001b[39;49m\u001b[38;5;241;43m.\u001b[39;49m\u001b[43mfunc\u001b[49m\u001b[43m)\u001b[49m\u001b[43m(\u001b[49m\u001b[38;5;241;43m*\u001b[39;49m\u001b[43mrest\u001b[49m\u001b[43m,\u001b[49m\u001b[43m \u001b[49m\u001b[38;5;241;43m*\u001b[39;49m\u001b[38;5;241;43m*\u001b[39;49m\u001b[43mkwargs\u001b[49m\u001b[43m)\u001b[49m\n\u001b[1;32m    191\u001b[0m \u001b[38;5;66;03m# in normal case, get method to call, and then call it\u001b[39;00m\n\u001b[1;32m    192\u001b[0m f_op \u001b[38;5;241m=\u001b[39m \u001b[38;5;28mgetattr\u001b[39m(operator, \u001b[38;5;28mself\u001b[39m\u001b[38;5;241m.\u001b[39mfunc)\n",
      "File \u001b[0;32m/opt/conda/lib/python3.9/site-packages/siuba/siu/dispatchers.py:167\u001b[0m, in \u001b[0;36mverb_dispatch.<locals>.wrapper\u001b[0;34m(*args, **kwargs)\u001b[0m\n\u001b[1;32m    164\u001b[0m \u001b[38;5;28;01mif\u001b[39;00m \u001b[38;5;129;01mnot\u001b[39;00m args:\n\u001b[1;32m    165\u001b[0m     \u001b[38;5;28;01mreturn\u001b[39;00m dispatch_func(NoArgs(), \u001b[38;5;241m*\u001b[39m\u001b[38;5;241m*\u001b[39mstrip_kwargs)\n\u001b[0;32m--> 167\u001b[0m \u001b[38;5;28;01mreturn\u001b[39;00m \u001b[43mdispatch_func\u001b[49m\u001b[43m(\u001b[49m\u001b[38;5;241;43m*\u001b[39;49m\u001b[43mstrip_args\u001b[49m\u001b[43m,\u001b[49m\u001b[43m \u001b[49m\u001b[38;5;241;43m*\u001b[39;49m\u001b[38;5;241;43m*\u001b[39;49m\u001b[43mstrip_kwargs\u001b[49m\u001b[43m)\u001b[49m\n",
      "File \u001b[0;32m/opt/conda/lib/python3.9/functools.py:888\u001b[0m, in \u001b[0;36msingledispatch.<locals>.wrapper\u001b[0;34m(*args, **kw)\u001b[0m\n\u001b[1;32m    884\u001b[0m \u001b[38;5;28;01mif\u001b[39;00m \u001b[38;5;129;01mnot\u001b[39;00m args:\n\u001b[1;32m    885\u001b[0m     \u001b[38;5;28;01mraise\u001b[39;00m \u001b[38;5;167;01mTypeError\u001b[39;00m(\u001b[38;5;124mf\u001b[39m\u001b[38;5;124m'\u001b[39m\u001b[38;5;132;01m{\u001b[39;00mfuncname\u001b[38;5;132;01m}\u001b[39;00m\u001b[38;5;124m requires at least \u001b[39m\u001b[38;5;124m'\u001b[39m\n\u001b[1;32m    886\u001b[0m                     \u001b[38;5;124m'\u001b[39m\u001b[38;5;124m1 positional argument\u001b[39m\u001b[38;5;124m'\u001b[39m)\n\u001b[0;32m--> 888\u001b[0m \u001b[38;5;28;01mreturn\u001b[39;00m \u001b[43mdispatch\u001b[49m\u001b[43m(\u001b[49m\u001b[43margs\u001b[49m\u001b[43m[\u001b[49m\u001b[38;5;241;43m0\u001b[39;49m\u001b[43m]\u001b[49m\u001b[38;5;241;43m.\u001b[39;49m\u001b[38;5;18;43m__class__\u001b[39;49m\u001b[43m)\u001b[49m\u001b[43m(\u001b[49m\u001b[38;5;241;43m*\u001b[39;49m\u001b[43margs\u001b[49m\u001b[43m,\u001b[49m\u001b[43m \u001b[49m\u001b[38;5;241;43m*\u001b[39;49m\u001b[38;5;241;43m*\u001b[39;49m\u001b[43mkw\u001b[49m\u001b[43m)\u001b[49m\n",
      "File \u001b[0;32m/opt/conda/lib/python3.9/site-packages/siuba/sql/verbs/compute.py:46\u001b[0m, in \u001b[0;36m_collect\u001b[0;34m(__data, as_df)\u001b[0m\n\u001b[1;32m     43\u001b[0m         \u001b[38;5;28;01mreturn\u001b[39;00m duckdb_con\u001b[38;5;241m.\u001b[39mquery(\u001b[38;5;28mstr\u001b[39m(compiled))\u001b[38;5;241m.\u001b[39mto_df()\n\u001b[1;32m     44\u001b[0m     \u001b[38;5;28;01melse\u001b[39;00m:\n\u001b[1;32m     45\u001b[0m         \u001b[38;5;66;03m#\u001b[39;00m\n\u001b[0;32m---> 46\u001b[0m         \u001b[38;5;28;01mreturn\u001b[39;00m \u001b[43msql_db\u001b[49m\u001b[38;5;241;43m.\u001b[39;49m\u001b[43mread_sql\u001b[49m\u001b[43m(\u001b[49m\u001b[43mcompiled\u001b[49m\u001b[43m)\u001b[49m\n\u001b[1;32m     48\u001b[0m \u001b[38;5;28;01mreturn\u001b[39;00m conn\u001b[38;5;241m.\u001b[39mexecute(compiled)\n",
      "File \u001b[0;32m/opt/conda/lib/python3.9/site-packages/pandas/io/sql.py:1560\u001b[0m, in \u001b[0;36mSQLDatabase.read_query\u001b[0;34m(self, sql, index_col, coerce_float, parse_dates, params, chunksize, dtype)\u001b[0m\n\u001b[1;32m   1512\u001b[0m \u001b[38;5;250m\u001b[39m\u001b[38;5;124;03m\"\"\"\u001b[39;00m\n\u001b[1;32m   1513\u001b[0m \u001b[38;5;124;03mRead SQL query into a DataFrame.\u001b[39;00m\n\u001b[1;32m   1514\u001b[0m \n\u001b[0;32m   (...)\u001b[0m\n\u001b[1;32m   1556\u001b[0m \n\u001b[1;32m   1557\u001b[0m \u001b[38;5;124;03m\"\"\"\u001b[39;00m\n\u001b[1;32m   1558\u001b[0m args \u001b[38;5;241m=\u001b[39m _convert_params(sql, params)\n\u001b[0;32m-> 1560\u001b[0m result \u001b[38;5;241m=\u001b[39m \u001b[38;5;28;43mself\u001b[39;49m\u001b[38;5;241;43m.\u001b[39;49m\u001b[43mexecute\u001b[49m\u001b[43m(\u001b[49m\u001b[38;5;241;43m*\u001b[39;49m\u001b[43margs\u001b[49m\u001b[43m)\u001b[49m\n\u001b[1;32m   1561\u001b[0m columns \u001b[38;5;241m=\u001b[39m result\u001b[38;5;241m.\u001b[39mkeys()\n\u001b[1;32m   1563\u001b[0m \u001b[38;5;28;01mif\u001b[39;00m chunksize \u001b[38;5;129;01mis\u001b[39;00m \u001b[38;5;129;01mnot\u001b[39;00m \u001b[38;5;28;01mNone\u001b[39;00m:\n",
      "File \u001b[0;32m/opt/conda/lib/python3.9/site-packages/siuba/sql/utils.py:85\u001b[0m, in \u001b[0;36m_FixedSqlDatabase.execute\u001b[0;34m(self, *args, **kwargs)\u001b[0m\n\u001b[1;32m     84\u001b[0m \u001b[38;5;28;01mdef\u001b[39;00m \u001b[38;5;21mexecute\u001b[39m(\u001b[38;5;28mself\u001b[39m, \u001b[38;5;241m*\u001b[39margs, \u001b[38;5;241m*\u001b[39m\u001b[38;5;241m*\u001b[39mkwargs):\n\u001b[0;32m---> 85\u001b[0m     \u001b[38;5;28;01mreturn\u001b[39;00m \u001b[38;5;28;43mself\u001b[39;49m\u001b[38;5;241;43m.\u001b[39;49m\u001b[43mconnectable\u001b[49m\u001b[38;5;241;43m.\u001b[39;49m\u001b[43mexecute\u001b[49m\u001b[43m(\u001b[49m\u001b[38;5;241;43m*\u001b[39;49m\u001b[43margs\u001b[49m\u001b[43m,\u001b[49m\u001b[43m \u001b[49m\u001b[38;5;241;43m*\u001b[39;49m\u001b[38;5;241;43m*\u001b[39;49m\u001b[43mkwargs\u001b[49m\u001b[43m)\u001b[49m\n",
      "File \u001b[0;32m/opt/conda/lib/python3.9/site-packages/sqlalchemy/engine/base.py:1385\u001b[0m, in \u001b[0;36mConnection.execute\u001b[0;34m(self, statement, *multiparams, **params)\u001b[0m\n\u001b[1;32m   1381\u001b[0m     util\u001b[38;5;241m.\u001b[39mraise_(\n\u001b[1;32m   1382\u001b[0m         exc\u001b[38;5;241m.\u001b[39mObjectNotExecutableError(statement), replace_context\u001b[38;5;241m=\u001b[39merr\n\u001b[1;32m   1383\u001b[0m     )\n\u001b[1;32m   1384\u001b[0m \u001b[38;5;28;01melse\u001b[39;00m:\n\u001b[0;32m-> 1385\u001b[0m     \u001b[38;5;28;01mreturn\u001b[39;00m \u001b[43mmeth\u001b[49m\u001b[43m(\u001b[49m\u001b[38;5;28;43mself\u001b[39;49m\u001b[43m,\u001b[49m\u001b[43m \u001b[49m\u001b[43mmultiparams\u001b[49m\u001b[43m,\u001b[49m\u001b[43m \u001b[49m\u001b[43mparams\u001b[49m\u001b[43m,\u001b[49m\u001b[43m \u001b[49m\u001b[43m_EMPTY_EXECUTION_OPTS\u001b[49m\u001b[43m)\u001b[49m\n",
      "File \u001b[0;32m/opt/conda/lib/python3.9/site-packages/sqlalchemy/sql/elements.py:334\u001b[0m, in \u001b[0;36mClauseElement._execute_on_connection\u001b[0;34m(self, connection, multiparams, params, execution_options, _force)\u001b[0m\n\u001b[1;32m    330\u001b[0m \u001b[38;5;28;01mdef\u001b[39;00m \u001b[38;5;21m_execute_on_connection\u001b[39m(\n\u001b[1;32m    331\u001b[0m     \u001b[38;5;28mself\u001b[39m, connection, multiparams, params, execution_options, _force\u001b[38;5;241m=\u001b[39m\u001b[38;5;28;01mFalse\u001b[39;00m\n\u001b[1;32m    332\u001b[0m ):\n\u001b[1;32m    333\u001b[0m     \u001b[38;5;28;01mif\u001b[39;00m _force \u001b[38;5;129;01mor\u001b[39;00m \u001b[38;5;28mself\u001b[39m\u001b[38;5;241m.\u001b[39msupports_execution:\n\u001b[0;32m--> 334\u001b[0m         \u001b[38;5;28;01mreturn\u001b[39;00m \u001b[43mconnection\u001b[49m\u001b[38;5;241;43m.\u001b[39;49m\u001b[43m_execute_clauseelement\u001b[49m\u001b[43m(\u001b[49m\n\u001b[1;32m    335\u001b[0m \u001b[43m            \u001b[49m\u001b[38;5;28;43mself\u001b[39;49m\u001b[43m,\u001b[49m\u001b[43m \u001b[49m\u001b[43mmultiparams\u001b[49m\u001b[43m,\u001b[49m\u001b[43m \u001b[49m\u001b[43mparams\u001b[49m\u001b[43m,\u001b[49m\u001b[43m \u001b[49m\u001b[43mexecution_options\u001b[49m\n\u001b[1;32m    336\u001b[0m \u001b[43m        \u001b[49m\u001b[43m)\u001b[49m\n\u001b[1;32m    337\u001b[0m     \u001b[38;5;28;01melse\u001b[39;00m:\n\u001b[1;32m    338\u001b[0m         \u001b[38;5;28;01mraise\u001b[39;00m exc\u001b[38;5;241m.\u001b[39mObjectNotExecutableError(\u001b[38;5;28mself\u001b[39m)\n",
      "File \u001b[0;32m/opt/conda/lib/python3.9/site-packages/sqlalchemy/engine/base.py:1577\u001b[0m, in \u001b[0;36mConnection._execute_clauseelement\u001b[0;34m(self, elem, multiparams, params, execution_options)\u001b[0m\n\u001b[1;32m   1565\u001b[0m compiled_cache \u001b[38;5;241m=\u001b[39m execution_options\u001b[38;5;241m.\u001b[39mget(\n\u001b[1;32m   1566\u001b[0m     \u001b[38;5;124m\"\u001b[39m\u001b[38;5;124mcompiled_cache\u001b[39m\u001b[38;5;124m\"\u001b[39m, \u001b[38;5;28mself\u001b[39m\u001b[38;5;241m.\u001b[39mengine\u001b[38;5;241m.\u001b[39m_compiled_cache\n\u001b[1;32m   1567\u001b[0m )\n\u001b[1;32m   1569\u001b[0m compiled_sql, extracted_params, cache_hit \u001b[38;5;241m=\u001b[39m elem\u001b[38;5;241m.\u001b[39m_compile_w_cache(\n\u001b[1;32m   1570\u001b[0m     dialect\u001b[38;5;241m=\u001b[39mdialect,\n\u001b[1;32m   1571\u001b[0m     compiled_cache\u001b[38;5;241m=\u001b[39mcompiled_cache,\n\u001b[0;32m   (...)\u001b[0m\n\u001b[1;32m   1575\u001b[0m     linting\u001b[38;5;241m=\u001b[39m\u001b[38;5;28mself\u001b[39m\u001b[38;5;241m.\u001b[39mdialect\u001b[38;5;241m.\u001b[39mcompiler_linting \u001b[38;5;241m|\u001b[39m compiler\u001b[38;5;241m.\u001b[39mWARN_LINTING,\n\u001b[1;32m   1576\u001b[0m )\n\u001b[0;32m-> 1577\u001b[0m ret \u001b[38;5;241m=\u001b[39m \u001b[38;5;28;43mself\u001b[39;49m\u001b[38;5;241;43m.\u001b[39;49m\u001b[43m_execute_context\u001b[49m\u001b[43m(\u001b[49m\n\u001b[1;32m   1578\u001b[0m \u001b[43m    \u001b[49m\u001b[43mdialect\u001b[49m\u001b[43m,\u001b[49m\n\u001b[1;32m   1579\u001b[0m \u001b[43m    \u001b[49m\u001b[43mdialect\u001b[49m\u001b[38;5;241;43m.\u001b[39;49m\u001b[43mexecution_ctx_cls\u001b[49m\u001b[38;5;241;43m.\u001b[39;49m\u001b[43m_init_compiled\u001b[49m\u001b[43m,\u001b[49m\n\u001b[1;32m   1580\u001b[0m \u001b[43m    \u001b[49m\u001b[43mcompiled_sql\u001b[49m\u001b[43m,\u001b[49m\n\u001b[1;32m   1581\u001b[0m \u001b[43m    \u001b[49m\u001b[43mdistilled_params\u001b[49m\u001b[43m,\u001b[49m\n\u001b[1;32m   1582\u001b[0m \u001b[43m    \u001b[49m\u001b[43mexecution_options\u001b[49m\u001b[43m,\u001b[49m\n\u001b[1;32m   1583\u001b[0m \u001b[43m    \u001b[49m\u001b[43mcompiled_sql\u001b[49m\u001b[43m,\u001b[49m\n\u001b[1;32m   1584\u001b[0m \u001b[43m    \u001b[49m\u001b[43mdistilled_params\u001b[49m\u001b[43m,\u001b[49m\n\u001b[1;32m   1585\u001b[0m \u001b[43m    \u001b[49m\u001b[43melem\u001b[49m\u001b[43m,\u001b[49m\n\u001b[1;32m   1586\u001b[0m \u001b[43m    \u001b[49m\u001b[43mextracted_params\u001b[49m\u001b[43m,\u001b[49m\n\u001b[1;32m   1587\u001b[0m \u001b[43m    \u001b[49m\u001b[43mcache_hit\u001b[49m\u001b[38;5;241;43m=\u001b[39;49m\u001b[43mcache_hit\u001b[49m\u001b[43m,\u001b[49m\n\u001b[1;32m   1588\u001b[0m \u001b[43m\u001b[49m\u001b[43m)\u001b[49m\n\u001b[1;32m   1589\u001b[0m \u001b[38;5;28;01mif\u001b[39;00m has_events:\n\u001b[1;32m   1590\u001b[0m     \u001b[38;5;28mself\u001b[39m\u001b[38;5;241m.\u001b[39mdispatch\u001b[38;5;241m.\u001b[39mafter_execute(\n\u001b[1;32m   1591\u001b[0m         \u001b[38;5;28mself\u001b[39m,\n\u001b[1;32m   1592\u001b[0m         elem,\n\u001b[0;32m   (...)\u001b[0m\n\u001b[1;32m   1596\u001b[0m         ret,\n\u001b[1;32m   1597\u001b[0m     )\n",
      "File \u001b[0;32m/opt/conda/lib/python3.9/site-packages/sqlalchemy/engine/base.py:1953\u001b[0m, in \u001b[0;36mConnection._execute_context\u001b[0;34m(self, dialect, constructor, statement, parameters, execution_options, *args, **kw)\u001b[0m\n\u001b[1;32m   1950\u001b[0m             branched\u001b[38;5;241m.\u001b[39mclose()\n\u001b[1;32m   1952\u001b[0m \u001b[38;5;28;01mexcept\u001b[39;00m \u001b[38;5;167;01mBaseException\u001b[39;00m \u001b[38;5;28;01mas\u001b[39;00m e:\n\u001b[0;32m-> 1953\u001b[0m     \u001b[38;5;28;43mself\u001b[39;49m\u001b[38;5;241;43m.\u001b[39;49m\u001b[43m_handle_dbapi_exception\u001b[49m\u001b[43m(\u001b[49m\n\u001b[1;32m   1954\u001b[0m \u001b[43m        \u001b[49m\u001b[43me\u001b[49m\u001b[43m,\u001b[49m\u001b[43m \u001b[49m\u001b[43mstatement\u001b[49m\u001b[43m,\u001b[49m\u001b[43m \u001b[49m\u001b[43mparameters\u001b[49m\u001b[43m,\u001b[49m\u001b[43m \u001b[49m\u001b[43mcursor\u001b[49m\u001b[43m,\u001b[49m\u001b[43m \u001b[49m\u001b[43mcontext\u001b[49m\n\u001b[1;32m   1955\u001b[0m \u001b[43m    \u001b[49m\u001b[43m)\u001b[49m\n\u001b[1;32m   1957\u001b[0m \u001b[38;5;28;01mreturn\u001b[39;00m result\n",
      "File \u001b[0;32m/opt/conda/lib/python3.9/site-packages/sqlalchemy/engine/base.py:2134\u001b[0m, in \u001b[0;36mConnection._handle_dbapi_exception\u001b[0;34m(self, e, statement, parameters, cursor, context)\u001b[0m\n\u001b[1;32m   2132\u001b[0m     util\u001b[38;5;241m.\u001b[39mraise_(newraise, with_traceback\u001b[38;5;241m=\u001b[39mexc_info[\u001b[38;5;241m2\u001b[39m], from_\u001b[38;5;241m=\u001b[39me)\n\u001b[1;32m   2133\u001b[0m \u001b[38;5;28;01melif\u001b[39;00m should_wrap:\n\u001b[0;32m-> 2134\u001b[0m     \u001b[43mutil\u001b[49m\u001b[38;5;241;43m.\u001b[39;49m\u001b[43mraise_\u001b[49m\u001b[43m(\u001b[49m\n\u001b[1;32m   2135\u001b[0m \u001b[43m        \u001b[49m\u001b[43msqlalchemy_exception\u001b[49m\u001b[43m,\u001b[49m\u001b[43m \u001b[49m\u001b[43mwith_traceback\u001b[49m\u001b[38;5;241;43m=\u001b[39;49m\u001b[43mexc_info\u001b[49m\u001b[43m[\u001b[49m\u001b[38;5;241;43m2\u001b[39;49m\u001b[43m]\u001b[49m\u001b[43m,\u001b[49m\u001b[43m \u001b[49m\u001b[43mfrom_\u001b[49m\u001b[38;5;241;43m=\u001b[39;49m\u001b[43me\u001b[49m\n\u001b[1;32m   2136\u001b[0m \u001b[43m    \u001b[49m\u001b[43m)\u001b[49m\n\u001b[1;32m   2137\u001b[0m \u001b[38;5;28;01melse\u001b[39;00m:\n\u001b[1;32m   2138\u001b[0m     util\u001b[38;5;241m.\u001b[39mraise_(exc_info[\u001b[38;5;241m1\u001b[39m], with_traceback\u001b[38;5;241m=\u001b[39mexc_info[\u001b[38;5;241m2\u001b[39m])\n",
      "File \u001b[0;32m/opt/conda/lib/python3.9/site-packages/sqlalchemy/util/compat.py:211\u001b[0m, in \u001b[0;36mraise_\u001b[0;34m(***failed resolving arguments***)\u001b[0m\n\u001b[1;32m    208\u001b[0m     exception\u001b[38;5;241m.\u001b[39m__cause__ \u001b[38;5;241m=\u001b[39m replace_context\n\u001b[1;32m    210\u001b[0m \u001b[38;5;28;01mtry\u001b[39;00m:\n\u001b[0;32m--> 211\u001b[0m     \u001b[38;5;28;01mraise\u001b[39;00m exception\n\u001b[1;32m    212\u001b[0m \u001b[38;5;28;01mfinally\u001b[39;00m:\n\u001b[1;32m    213\u001b[0m     \u001b[38;5;66;03m# credit to\u001b[39;00m\n\u001b[1;32m    214\u001b[0m     \u001b[38;5;66;03m# https://cosmicpercolator.com/2016/01/13/exception-leaks-in-python-2-and-3/\u001b[39;00m\n\u001b[1;32m    215\u001b[0m     \u001b[38;5;66;03m# as the __traceback__ object creates a cycle\u001b[39;00m\n\u001b[1;32m    216\u001b[0m     \u001b[38;5;28;01mdel\u001b[39;00m exception, replace_context, from_, with_traceback\n",
      "File \u001b[0;32m/opt/conda/lib/python3.9/site-packages/sqlalchemy/engine/base.py:1910\u001b[0m, in \u001b[0;36mConnection._execute_context\u001b[0;34m(self, dialect, constructor, statement, parameters, execution_options, *args, **kw)\u001b[0m\n\u001b[1;32m   1908\u001b[0m                 \u001b[38;5;28;01mbreak\u001b[39;00m\n\u001b[1;32m   1909\u001b[0m     \u001b[38;5;28;01mif\u001b[39;00m \u001b[38;5;129;01mnot\u001b[39;00m evt_handled:\n\u001b[0;32m-> 1910\u001b[0m         \u001b[38;5;28;43mself\u001b[39;49m\u001b[38;5;241;43m.\u001b[39;49m\u001b[43mdialect\u001b[49m\u001b[38;5;241;43m.\u001b[39;49m\u001b[43mdo_execute\u001b[49m\u001b[43m(\u001b[49m\n\u001b[1;32m   1911\u001b[0m \u001b[43m            \u001b[49m\u001b[43mcursor\u001b[49m\u001b[43m,\u001b[49m\u001b[43m \u001b[49m\u001b[43mstatement\u001b[49m\u001b[43m,\u001b[49m\u001b[43m \u001b[49m\u001b[43mparameters\u001b[49m\u001b[43m,\u001b[49m\u001b[43m \u001b[49m\u001b[43mcontext\u001b[49m\n\u001b[1;32m   1912\u001b[0m \u001b[43m        \u001b[49m\u001b[43m)\u001b[49m\n\u001b[1;32m   1914\u001b[0m \u001b[38;5;28;01mif\u001b[39;00m \u001b[38;5;28mself\u001b[39m\u001b[38;5;241m.\u001b[39m_has_events \u001b[38;5;129;01mor\u001b[39;00m \u001b[38;5;28mself\u001b[39m\u001b[38;5;241m.\u001b[39mengine\u001b[38;5;241m.\u001b[39m_has_events:\n\u001b[1;32m   1915\u001b[0m     \u001b[38;5;28mself\u001b[39m\u001b[38;5;241m.\u001b[39mdispatch\u001b[38;5;241m.\u001b[39mafter_cursor_execute(\n\u001b[1;32m   1916\u001b[0m         \u001b[38;5;28mself\u001b[39m,\n\u001b[1;32m   1917\u001b[0m         cursor,\n\u001b[0;32m   (...)\u001b[0m\n\u001b[1;32m   1921\u001b[0m         context\u001b[38;5;241m.\u001b[39mexecutemany,\n\u001b[1;32m   1922\u001b[0m     )\n",
      "File \u001b[0;32m/opt/conda/lib/python3.9/site-packages/sqlalchemy/engine/default.py:736\u001b[0m, in \u001b[0;36mDefaultDialect.do_execute\u001b[0;34m(self, cursor, statement, parameters, context)\u001b[0m\n\u001b[1;32m    735\u001b[0m \u001b[38;5;28;01mdef\u001b[39;00m \u001b[38;5;21mdo_execute\u001b[39m(\u001b[38;5;28mself\u001b[39m, cursor, statement, parameters, context\u001b[38;5;241m=\u001b[39m\u001b[38;5;28;01mNone\u001b[39;00m):\n\u001b[0;32m--> 736\u001b[0m     \u001b[43mcursor\u001b[49m\u001b[38;5;241;43m.\u001b[39;49m\u001b[43mexecute\u001b[49m\u001b[43m(\u001b[49m\u001b[43mstatement\u001b[49m\u001b[43m,\u001b[49m\u001b[43m \u001b[49m\u001b[43mparameters\u001b[49m\u001b[43m)\u001b[49m\n",
      "File \u001b[0;32m/opt/conda/lib/python3.9/site-packages/google/cloud/bigquery/dbapi/_helpers.py:494\u001b[0m, in \u001b[0;36mraise_on_closed.<locals>._raise_on_closed.<locals>.with_closed_check\u001b[0;34m(self, *args, **kwargs)\u001b[0m\n\u001b[1;32m    492\u001b[0m \u001b[38;5;28;01mif\u001b[39;00m \u001b[38;5;28mgetattr\u001b[39m(\u001b[38;5;28mself\u001b[39m, closed_attr_name):\n\u001b[1;32m    493\u001b[0m     \u001b[38;5;28;01mraise\u001b[39;00m exc_class(exc_msg)\n\u001b[0;32m--> 494\u001b[0m \u001b[38;5;28;01mreturn\u001b[39;00m \u001b[43mmethod\u001b[49m\u001b[43m(\u001b[49m\u001b[38;5;28;43mself\u001b[39;49m\u001b[43m,\u001b[49m\u001b[43m \u001b[49m\u001b[38;5;241;43m*\u001b[39;49m\u001b[43margs\u001b[49m\u001b[43m,\u001b[49m\u001b[43m \u001b[49m\u001b[38;5;241;43m*\u001b[39;49m\u001b[38;5;241;43m*\u001b[39;49m\u001b[43mkwargs\u001b[49m\u001b[43m)\u001b[49m\n",
      "File \u001b[0;32m/opt/conda/lib/python3.9/site-packages/google/cloud/bigquery/dbapi/cursor.py:176\u001b[0m, in \u001b[0;36mCursor.execute\u001b[0;34m(self, operation, parameters, job_id, job_config)\u001b[0m\n\u001b[1;32m    141\u001b[0m \u001b[38;5;250m\u001b[39m\u001b[38;5;124;03m\"\"\"Prepare and execute a database operation.\u001b[39;00m\n\u001b[1;32m    142\u001b[0m \n\u001b[1;32m    143\u001b[0m \u001b[38;5;124;03m.. note::\u001b[39;00m\n\u001b[0;32m   (...)\u001b[0m\n\u001b[1;32m    173\u001b[0m \u001b[38;5;124;03m        (Optional) Extra configuration options for the query job.\u001b[39;00m\n\u001b[1;32m    174\u001b[0m \u001b[38;5;124;03m\"\"\"\u001b[39;00m\n\u001b[1;32m    175\u001b[0m formatted_operation, parameter_types \u001b[38;5;241m=\u001b[39m _format_operation(operation, parameters)\n\u001b[0;32m--> 176\u001b[0m \u001b[38;5;28;43mself\u001b[39;49m\u001b[38;5;241;43m.\u001b[39;49m\u001b[43m_execute\u001b[49m\u001b[43m(\u001b[49m\n\u001b[1;32m    177\u001b[0m \u001b[43m    \u001b[49m\u001b[43mformatted_operation\u001b[49m\u001b[43m,\u001b[49m\u001b[43m \u001b[49m\u001b[43mparameters\u001b[49m\u001b[43m,\u001b[49m\u001b[43m \u001b[49m\u001b[43mjob_id\u001b[49m\u001b[43m,\u001b[49m\u001b[43m \u001b[49m\u001b[43mjob_config\u001b[49m\u001b[43m,\u001b[49m\u001b[43m \u001b[49m\u001b[43mparameter_types\u001b[49m\n\u001b[1;32m    178\u001b[0m \u001b[43m\u001b[49m\u001b[43m)\u001b[49m\n",
      "File \u001b[0;32m/opt/conda/lib/python3.9/site-packages/google/cloud/bigquery/dbapi/cursor.py:215\u001b[0m, in \u001b[0;36mCursor._execute\u001b[0;34m(self, formatted_operation, parameters, job_id, job_config, parameter_types)\u001b[0m\n\u001b[1;32m    213\u001b[0m     \u001b[38;5;28mself\u001b[39m\u001b[38;5;241m.\u001b[39m_query_job\u001b[38;5;241m.\u001b[39mresult()\n\u001b[1;32m    214\u001b[0m \u001b[38;5;28;01mexcept\u001b[39;00m google\u001b[38;5;241m.\u001b[39mcloud\u001b[38;5;241m.\u001b[39mexceptions\u001b[38;5;241m.\u001b[39mGoogleCloudError \u001b[38;5;28;01mas\u001b[39;00m exc:\n\u001b[0;32m--> 215\u001b[0m     \u001b[38;5;28;01mraise\u001b[39;00m exceptions\u001b[38;5;241m.\u001b[39mDatabaseError(exc)\n\u001b[1;32m    217\u001b[0m query_results \u001b[38;5;241m=\u001b[39m \u001b[38;5;28mself\u001b[39m\u001b[38;5;241m.\u001b[39m_query_job\u001b[38;5;241m.\u001b[39m_query_results\n\u001b[1;32m    218\u001b[0m \u001b[38;5;28mself\u001b[39m\u001b[38;5;241m.\u001b[39m_set_rowcount(query_results)\n",
      "\u001b[0;31mDatabaseError\u001b[0m: (google.cloud.bigquery.dbapi.exceptions.DatabaseError) 500 Query exceeded limit for bytes billed: 5000000000. 12200181760 or higher required.\n\nLocation: us-west2\nJob ID: d8266571-290f-4b97-bbd3-681202fbdc27\n\n[SQL: SELECT `anon_1`.`feed_key`, `anon_1`.`stop_id`, `anon_1`.`pt_geom` \nFROM (SELECT `anon_2`.`key` AS `key`, `anon_2`.`service_date` AS `service_date`, `anon_2`.`feed_key` AS `feed_key`, `anon_2`.`stop_id` AS `stop_id`, `anon_2`.`feed_timezone` AS `feed_timezone`, `anon_2`.`stop_event_count` AS `stop_event_count`, `anon_2`.`first_stop_arrival_datetime_pacific` AS `first_stop_arrival_datetime_pacific`, `anon_2`.`last_stop_departure_datetime_pacific` AS `last_stop_departure_datetime_pacific`, `anon_2`.`_feed_valid_from` AS `_feed_valid_from`, `anon_2`.`route_type_0` AS `route_type_0`, `anon_2`.`route_type_1` AS `route_type_1`, `anon_2`.`route_type_2` AS `route_type_2`, `anon_2`.`route_type_3` AS `route_type_3`, `anon_2`.`route_type_4` AS `route_type_4`, `anon_2`.`route_type_5` AS `route_type_5`, `anon_2`.`route_type_6` AS `route_type_6`, `anon_2`.`route_type_7` AS `route_type_7`, `anon_2`.`route_type_11` AS `route_type_11`, `anon_2`.`route_type_12` AS `route_type_12`, `anon_2`.`missing_route_type` AS `missing_route_type`, `anon_2`.`contains_warning_duplicate_stop_times_primary_key` AS `contains_warning_duplicate_stop_times_primary_key`, `anon_2`.`contains_warning_duplicate_trip_primary_key` AS `contains_warning_duplicate_trip_primary_key`, `anon_2`.`contains_warning_duplicate_stop_primary_key` AS `contains_warning_duplicate_stop_primary_key`, `anon_2`.`stop_key` AS `stop_key`, `anon_2`.`tts_stop_name` AS `tts_stop_name`, `anon_2`.`pt_geom` AS `pt_geom`, `anon_2`.`parent_station` AS `parent_station`, `anon_2`.`stop_code` AS `stop_code`, `anon_2`.`stop_name` AS `stop_name`, `anon_2`.`stop_desc` AS `stop_desc`, `anon_2`.`location_type` AS `location_type`, `anon_2`.`stop_timezone_coalesced` AS `stop_timezone_coalesced`, `anon_2`.`wheelchair_boarding` AS `wheelchair_boarding` \nFROM (SELECT `mart_gtfs.fct_daily_scheduled_stops_1`.`key` AS `key`, `mart_gtfs.fct_daily_scheduled_stops_1`.`service_date` AS `service_date`, `mart_gtfs.fct_daily_scheduled_stops_1`.`feed_key` AS `feed_key`, `mart_gtfs.fct_daily_scheduled_stops_1`.`stop_id` AS `stop_id`, `mart_gtfs.fct_daily_scheduled_stops_1`.`feed_timezone` AS `feed_timezone`, `mart_gtfs.fct_daily_scheduled_stops_1`.`stop_event_count` AS `stop_event_count`, `mart_gtfs.fct_daily_scheduled_stops_1`.`first_stop_arrival_datetime_pacific` AS `first_stop_arrival_datetime_pacific`, `mart_gtfs.fct_daily_scheduled_stops_1`.`last_stop_departure_datetime_pacific` AS `last_stop_departure_datetime_pacific`, `mart_gtfs.fct_daily_scheduled_stops_1`.`_feed_valid_from` AS `_feed_valid_from`, `mart_gtfs.fct_daily_scheduled_stops_1`.`route_type_0` AS `route_type_0`, `mart_gtfs.fct_daily_scheduled_stops_1`.`route_type_1` AS `route_type_1`, `mart_gtfs.fct_daily_scheduled_stops_1`.`route_type_2` AS `route_type_2`, `mart_gtfs.fct_daily_scheduled_stops_1`.`route_type_3` AS `route_type_3`, `mart_gtfs.fct_daily_scheduled_stops_1`.`route_type_4` AS `route_type_4`, `mart_gtfs.fct_daily_scheduled_stops_1`.`route_type_5` AS `route_type_5`, `mart_gtfs.fct_daily_scheduled_stops_1`.`route_type_6` AS `route_type_6`, `mart_gtfs.fct_daily_scheduled_stops_1`.`route_type_7` AS `route_type_7`, `mart_gtfs.fct_daily_scheduled_stops_1`.`route_type_11` AS `route_type_11`, `mart_gtfs.fct_daily_scheduled_stops_1`.`route_type_12` AS `route_type_12`, `mart_gtfs.fct_daily_scheduled_stops_1`.`missing_route_type` AS `missing_route_type`, `mart_gtfs.fct_daily_scheduled_stops_1`.`contains_warning_duplicate_stop_times_primary_key` AS `contains_warning_duplicate_stop_times_primary_key`, `mart_gtfs.fct_daily_scheduled_stops_1`.`contains_warning_duplicate_trip_primary_key` AS `contains_warning_duplicate_trip_primary_key`, `mart_gtfs.fct_daily_scheduled_stops_1`.`contains_warning_duplicate_stop_primary_key` AS `contains_warning_duplicate_stop_primary_key`, `mart_gtfs.fct_daily_scheduled_stops_1`.`stop_key` AS `stop_key`, `mart_gtfs.fct_daily_scheduled_stops_1`.`tts_stop_name` AS `tts_stop_name`, `mart_gtfs.fct_daily_scheduled_stops_1`.`pt_geom` AS `pt_geom`, `mart_gtfs.fct_daily_scheduled_stops_1`.`parent_station` AS `parent_station`, `mart_gtfs.fct_daily_scheduled_stops_1`.`stop_code` AS `stop_code`, `mart_gtfs.fct_daily_scheduled_stops_1`.`stop_name` AS `stop_name`, `mart_gtfs.fct_daily_scheduled_stops_1`.`stop_desc` AS `stop_desc`, `mart_gtfs.fct_daily_scheduled_stops_1`.`location_type` AS `location_type`, `mart_gtfs.fct_daily_scheduled_stops_1`.`stop_timezone_coalesced` AS `stop_timezone_coalesced`, `mart_gtfs.fct_daily_scheduled_stops_1`.`wheelchair_boarding` AS `wheelchair_boarding` \nFROM `mart_gtfs.fct_daily_scheduled_stops` AS `mart_gtfs.fct_daily_scheduled_stops_1` \nWHERE `mart_gtfs.fct_daily_scheduled_stops_1`.`service_date` = %(service_date_1:STRING)s) AS `anon_2` \nWHERE `anon_2`.`feed_key` IN UNNEST(%(feed_key_1:STRING)s)) AS `anon_1`]\n[parameters: {'service_date_1': '2024-10-16', 'feed_key_1': ['511d593426d1fd821037dfd47d2e3cc8', '8685c49ef1273fe958478531f2c6a781', '0110e66b44a8f07126af415097613bb6', 'f974f59eed519d6a504775a5c2c75056', '5450 ... (6072 characters truncated) ... b339', '927c5e4bf55f7343b87202b5a0dc4018', '590892713ceb1d0389dec7a4c7e0e25b', '27bc8cf0848f3636c1047194318a92df', '638d90ba5ade8b25240024e6cae907e9']}]\n(Background on this error at: https://sqlalche.me/e/14/4xp6)"
     ]
    }
   ],
   "source": [
    "stops = gtfs_utils_v2.get_stops(selected_date=analysis_date, operator_feeds=feeds.feed_key,\n",
    "                       stop_cols=['feed_key', 'stop_id'])"
   ]
  },
  {
   "cell_type": "code",
   "execution_count": null,
   "id": "6633dce1-42ef-4e86-9af0-8305b904e0e6",
   "metadata": {},
   "outputs": [],
   "source": [
    "stops = stops >> inner_join(_, feeds, on='feed_key')"
   ]
  },
  {
   "cell_type": "code",
   "execution_count": null,
   "id": "2f9d4f2e-e955-41d1-b97f-cb2ff0e2f3a4",
   "metadata": {},
   "outputs": [],
   "source": [
    "def add_to_map(test_df, m=None, **kwargs):\n",
    "    gdf = stops >> inner_join(_, test_df, on=['schedule_gtfs_dataset_key', 'stop_id'])\n",
    "    m = gdf.explore(m = m, **kwargs)\n",
    "    return m"
   ]
  },
  {
   "cell_type": "code",
   "execution_count": null,
   "id": "3ed52cda-d707-4ff4-abae-95331c133988",
   "metadata": {},
   "outputs": [],
   "source": [
    "m1 = old_stops.explore(color='blue')\n",
    "m1 = non_bus.explore(m = m1, color='orange')"
   ]
  },
  {
   "cell_type": "code",
   "execution_count": null,
   "id": "00188b90-31be-40bf-9c66-c5ecd0e28514",
   "metadata": {},
   "outputs": [],
   "source": [
    "m1 = add_to_map(new_hq_multi, m=m1, color='green')"
   ]
  },
  {
   "cell_type": "code",
   "execution_count": null,
   "id": "b547f7cb-3efc-4558-987f-c27db0957f8c",
   "metadata": {},
   "outputs": [],
   "source": [
    "m1 = add_to_map(new_hq_single, m=m1, color='red')"
   ]
  },
  {
   "cell_type": "code",
   "execution_count": null,
   "id": "42c0505c-456f-41b3-80ac-2d0673ae8c6d",
   "metadata": {},
   "outputs": [],
   "source": [
    "folium.LayerControl().add_to(m1);"
   ]
  },
  {
   "cell_type": "code",
   "execution_count": null,
   "id": "7af76c43-60e7-4220-a4ce-1ef82b1aaaf0",
   "metadata": {},
   "outputs": [],
   "source": [
    "# m1"
   ]
  },
  {
   "cell_type": "markdown",
   "id": "ade435a2-6a54-4833-8f76-8ca5bc35b2a9",
   "metadata": {
    "tags": []
   },
   "source": [
    "## major stops"
   ]
  },
  {
   "cell_type": "code",
   "execution_count": null,
   "id": "6d016523-2a2f-4c84-a7fc-97d2aa63ca9d",
   "metadata": {},
   "outputs": [],
   "source": [
    "m = old_stops.explore(color='blue')\n",
    "m = non_bus.explore(m = m, color='orange')"
   ]
  },
  {
   "cell_type": "code",
   "execution_count": null,
   "id": "42ebce25-f799-4bd8-8299-affd3d28ddeb",
   "metadata": {},
   "outputs": [],
   "source": [
    "m = add_to_map(new_ms_multi, m=m, color='green')"
   ]
  },
  {
   "cell_type": "code",
   "execution_count": null,
   "id": "f7aba8a7-17b8-4a42-a75a-d2bdfe4613ed",
   "metadata": {},
   "outputs": [],
   "source": [
    "m = add_to_map(new_ms_single, m=m, color='red')"
   ]
  },
  {
   "cell_type": "code",
   "execution_count": null,
   "id": "aa30677f-1142-4a21-a4d3-b2e034a92826",
   "metadata": {},
   "outputs": [],
   "source": [
    "folium.LayerControl().add_to(m);"
   ]
  },
  {
   "cell_type": "code",
   "execution_count": null,
   "id": "e412a100-b5d8-495d-9dc1-b445af385802",
   "metadata": {
    "tags": []
   },
   "outputs": [],
   "source": [
    "# m"
   ]
  },
  {
   "cell_type": "markdown",
   "id": "37599b82-0cde-4835-81f7-ae752ae02f53",
   "metadata": {},
   "source": [
    "# full pipeline check"
   ]
  },
  {
   "cell_type": "code",
   "execution_count": null,
   "id": "1381991e-2fcd-4157-8632-5f146ae5a77a",
   "metadata": {},
   "outputs": [],
   "source": [
    "new_stops = gpd.read_parquet(f\"{EXPORT_PATH}ca_hq_transit_stops.parquet\")"
   ]
  },
  {
   "cell_type": "code",
   "execution_count": null,
   "id": "1df5a3b7-a4ab-428f-89a1-1f06c3ed4f07",
   "metadata": {},
   "outputs": [],
   "source": [
    "new_areas = gpd.read_parquet(f\"{EXPORT_PATH}ca_hq_transit_areas.parquet\")"
   ]
  },
  {
   "cell_type": "code",
   "execution_count": null,
   "id": "ad9fbf3f-5a28-414b-b5cb-4d7f203e89a6",
   "metadata": {},
   "outputs": [],
   "source": [
    "f\"{EXPORT_PATH}ca_hq_transit_areas.parquet\""
   ]
  },
  {
   "cell_type": "code",
   "execution_count": null,
   "id": "8de894dd-ec42-4459-bc81-babf142d14ab",
   "metadata": {},
   "outputs": [],
   "source": [
    "old_areas = gpd.read_parquet(f\"{OLD_EXPORT_PATH}ca_hq_transit_areas.parquet\")"
   ]
  },
  {
   "cell_type": "code",
   "execution_count": null,
   "id": "46380751-0288-43a9-803c-43f3b47f3cc8",
   "metadata": {},
   "outputs": [],
   "source": [
    "new_stops.info()"
   ]
  },
  {
   "cell_type": "code",
   "execution_count": null,
   "id": "801f0ca1-8cc7-414a-bab8-9821966bafe4",
   "metadata": {},
   "outputs": [],
   "source": [
    "new_stops >> count(_.hqta_type)"
   ]
  },
  {
   "cell_type": "code",
   "execution_count": null,
   "id": "935aaa0b-1c2b-443a-b1c6-4b9af795a1a0",
   "metadata": {},
   "outputs": [],
   "source": [
    "old_stops >> count(_.hqta_type)"
   ]
  },
  {
   "cell_type": "code",
   "execution_count": null,
   "id": "1c6d840f-6963-4ab4-8a84-9e0a38aa6de9",
   "metadata": {},
   "outputs": [],
   "source": [
    "old_stops.info()"
   ]
  },
  {
   "cell_type": "code",
   "execution_count": null,
   "id": "773bdc27-d74b-470a-bdbe-afc8ddb9b297",
   "metadata": {},
   "outputs": [],
   "source": [
    "m2 = (old_stops >> filter(_.hqta_type == 'major_stop_bus')).explore(color='blue')\n",
    "m2 = (new_stops >> filter(_.hqta_type == 'major_stop_bus')).explore(m = m2, color='orange')\n",
    "folium.LayerControl().add_to(m2);"
   ]
  },
  {
   "cell_type": "code",
   "execution_count": null,
   "id": "1e7216a1-ff89-46ad-9155-615aa802b254",
   "metadata": {},
   "outputs": [],
   "source": [
    "# m2"
   ]
  },
  {
   "cell_type": "code",
   "execution_count": null,
   "id": "3606732d-2bfe-4375-b3f7-331073f4aa36",
   "metadata": {},
   "outputs": [],
   "source": [
    "from calitp_data_analysis.geography_utils import CA_NAD83Albers"
   ]
  },
  {
   "cell_type": "code",
   "execution_count": null,
   "id": "e7a05ad5-7616-4b52-9a9d-74aa26cef8c2",
   "metadata": {},
   "outputs": [],
   "source": [
    "new_dissolved = new_areas.to_crs(CA_NAD83Albers).dissolve(by='hqta_type').reset_index()\n",
    "new_dissolved['area'] = new_dissolved.geometry.apply(lambda x: x.area)\n",
    "new_dissolved[['hqta_type', 'area']]"
   ]
  },
  {
   "cell_type": "code",
   "execution_count": null,
   "id": "641f6ead-9fa1-49ef-9bda-e29a0c5eb7b0",
   "metadata": {},
   "outputs": [],
   "source": [
    "old_dissolved = old_areas.to_crs(CA_NAD83Albers).dissolve(by='hqta_type').reset_index()\n",
    "old_dissolved['area'] = old_dissolved.geometry.apply(lambda x: x.area)\n",
    "old_dissolved[['hqta_type', 'area']]"
   ]
  },
  {
   "cell_type": "code",
   "execution_count": null,
   "id": "25411470-3871-403a-93b3-0a730d343215",
   "metadata": {},
   "outputs": [],
   "source": [
    "old_hq = old_dissolved >> filter(_.hqta_type == 'major_stop_bus')"
   ]
  },
  {
   "cell_type": "code",
   "execution_count": null,
   "id": "92076219-bb92-4dc6-8e09-8e128f652767",
   "metadata": {},
   "outputs": [],
   "source": [
    "new_hq = new_dissolved >> filter(_.hqta_type == \"major_stop_bus\")"
   ]
  },
  {
   "cell_type": "code",
   "execution_count": null,
   "id": "27604bf0-8a6c-49a9-9722-3cab90a747df",
   "metadata": {},
   "outputs": [],
   "source": [
    "only_old = old_hq.overlay(new_hq, how='difference')"
   ]
  },
  {
   "cell_type": "code",
   "execution_count": null,
   "id": "7f406855-9447-47b6-b4cc-428e7e3c2fad",
   "metadata": {},
   "outputs": [],
   "source": [
    "only_new = new_hq.overlay(old_hq, how='difference')"
   ]
  },
  {
   "cell_type": "code",
   "execution_count": null,
   "id": "deb1287f-8506-442a-ad16-2cffe3e3d7d0",
   "metadata": {},
   "outputs": [],
   "source": [
    "# only_new.explore()"
   ]
  },
  {
   "cell_type": "code",
   "execution_count": null,
   "id": "81a50e44-2373-42ed-b7e9-5f4b9db43357",
   "metadata": {},
   "outputs": [],
   "source": [
    "# only_old.explore()"
   ]
  },
  {
   "cell_type": "code",
   "execution_count": null,
   "id": "be86574b-3810-4729-96a1-4fa9258374b0",
   "metadata": {},
   "outputs": [],
   "source": [
    "import intake"
   ]
  },
  {
   "cell_type": "code",
   "execution_count": null,
   "id": "26c57baf-118a-4c87-9e4a-70697a26afb9",
   "metadata": {},
   "outputs": [],
   "source": [
    "catalog = intake.open_catalog(\"*.yml\")"
   ]
  },
  {
   "cell_type": "code",
   "execution_count": null,
   "id": "34aba925-0a98-4852-89d5-d6ff663564e2",
   "metadata": {},
   "outputs": [],
   "source": [
    "hqta_points = catalog.hqta_points.read().to_crs(PROJECT_CRS)"
   ]
  },
  {
   "cell_type": "code",
   "execution_count": null,
   "id": "d5fb6a7d-061d-4b57-aa4e-8cf6c57aa88c",
   "metadata": {},
   "outputs": [],
   "source": [
    "hqta_points >> filter(_.stop_id=='62965')"
   ]
  },
  {
   "cell_type": "markdown",
   "id": "dbfde200-7c8e-47f1-ad86-ccd3e3340c9f",
   "metadata": {},
   "source": [
    "## Counting rail/ferry stops\n",
    "\n",
    "* Prior refactors have us keeping a row per stop_id x route_id, will keep\n",
    "* did scan and remove a few ferry stops without bus/rail (Havasu, other Angel Island operator)"
   ]
  },
  {
   "cell_type": "code",
   "execution_count": null,
   "id": "07a401f6-f897-47c3-b38c-a1257ea8cae9",
   "metadata": {},
   "outputs": [],
   "source": [
    "# (new_stops >> filter(_.hqta_type == 'major_stop_ferry')).explore()"
   ]
  },
  {
   "cell_type": "code",
   "execution_count": null,
   "id": "15745774-2787-49fd-b9dd-903d5fde08e5",
   "metadata": {},
   "outputs": [],
   "source": [
    "# (old_stops >> filter(_.hqta_type == 'major_stop_ferry')).explore()"
   ]
  },
  {
   "cell_type": "code",
   "execution_count": null,
   "id": "2bfce1f1-a2eb-4e83-b9ec-d1f02d75c7b0",
   "metadata": {},
   "outputs": [],
   "source": [
    "(old_stops >> filter(_.hqta_type == 'major_stop_ferry')) >> count(_.agency_primary)"
   ]
  },
  {
   "cell_type": "code",
   "execution_count": null,
   "id": "71bf9c4a-a15c-46a5-9e85-3f4e6d3275b3",
   "metadata": {},
   "outputs": [],
   "source": [
    "(new_stops >> filter(_.hqta_type == 'major_stop_ferry')) >> count(_.agency_primary)"
   ]
  },
  {
   "cell_type": "code",
   "execution_count": null,
   "id": "45459f62-ec9d-4ce6-8943-1a6646dd874b",
   "metadata": {},
   "outputs": [],
   "source": [
    "# old_stops >> filter(_.hqta_type == 'major_stop_ferry', _.agency_primary.str.contains('Golden'))\n",
    "\n",
    "# new_stops >> filter(_.hqta_type == 'major_stop_ferry', _.agency_primary.str.contains('Golden'))\n",
    "\n",
    "# new_stops >> filter(_.hqta_type == 'major_stop_rail', _.agency_primary.str.contains('Bay Area'))\n",
    "\n",
    "# old_stops >> filter(_.hqta_type == 'major_stop_rail', _.agency_primary.str.contains('Bay Area'))"
   ]
  },
  {
   "cell_type": "markdown",
   "id": "12675418-b750-4c40-9caa-cb41ffb50097",
   "metadata": {},
   "source": [
    "## Finding Amtrak"
   ]
  },
  {
   "cell_type": "code",
   "execution_count": 6,
   "id": "847f2528-705c-4e00-a3db-0449d3adbbad",
   "metadata": {},
   "outputs": [
    {
     "data": {
      "text/plain": [
       "\u001b[0;31mSignature:\u001b[0m\n",
       "\u001b[0mhelpers\u001b[0m\u001b[0;34m.\u001b[0m\u001b[0mimport_scheduled_stops\u001b[0m\u001b[0;34m(\u001b[0m\u001b[0;34m\u001b[0m\n",
       "\u001b[0;34m\u001b[0m    \u001b[0manalysis_date\u001b[0m\u001b[0;34m:\u001b[0m \u001b[0mstr\u001b[0m\u001b[0;34m,\u001b[0m\u001b[0;34m\u001b[0m\n",
       "\u001b[0;34m\u001b[0m    \u001b[0mfilters\u001b[0m\u001b[0;34m:\u001b[0m \u001b[0mtuple\u001b[0m \u001b[0;34m=\u001b[0m \u001b[0;32mNone\u001b[0m\u001b[0;34m,\u001b[0m\u001b[0;34m\u001b[0m\n",
       "\u001b[0;34m\u001b[0m    \u001b[0mcolumns\u001b[0m\u001b[0;34m:\u001b[0m \u001b[0mlist\u001b[0m \u001b[0;34m=\u001b[0m \u001b[0;32mNone\u001b[0m\u001b[0;34m,\u001b[0m\u001b[0;34m\u001b[0m\n",
       "\u001b[0;34m\u001b[0m    \u001b[0mget_pandas\u001b[0m\u001b[0;34m:\u001b[0m \u001b[0mbool\u001b[0m \u001b[0;34m=\u001b[0m \u001b[0;32mTrue\u001b[0m\u001b[0;34m,\u001b[0m\u001b[0;34m\u001b[0m\n",
       "\u001b[0;34m\u001b[0m    \u001b[0mcrs\u001b[0m\u001b[0;34m:\u001b[0m \u001b[0mstr\u001b[0m \u001b[0;34m=\u001b[0m \u001b[0;34m'EPSG:3310'\u001b[0m\u001b[0;34m,\u001b[0m\u001b[0;34m\u001b[0m\n",
       "\u001b[0;34m\u001b[0m\u001b[0;34m)\u001b[0m \u001b[0;34m->\u001b[0m \u001b[0mUnion\u001b[0m\u001b[0;34m[\u001b[0m\u001b[0mgeopandas\u001b[0m\u001b[0;34m.\u001b[0m\u001b[0mgeodataframe\u001b[0m\u001b[0;34m.\u001b[0m\u001b[0mGeoDataFrame\u001b[0m\u001b[0;34m,\u001b[0m \u001b[0mdask_geopandas\u001b[0m\u001b[0;34m.\u001b[0m\u001b[0mcore\u001b[0m\u001b[0;34m.\u001b[0m\u001b[0mGeoDataFrame\u001b[0m\u001b[0;34m]\u001b[0m\u001b[0;34m\u001b[0m\u001b[0;34m\u001b[0m\u001b[0m\n",
       "\u001b[0;31mDocstring:\u001b[0m Get scheduled stops\n",
       "\u001b[0;31mFile:\u001b[0m      ~/data-analyses/rt_segment_speeds/segment_speed_utils/helpers.py\n",
       "\u001b[0;31mType:\u001b[0m      function"
      ]
     },
     "metadata": {},
     "output_type": "display_data"
    }
   ],
   "source": [
    "helpers.import_scheduled_stops?"
   ]
  },
  {
   "cell_type": "code",
   "execution_count": 7,
   "id": "b5b544ef-18ce-4a2b-849b-8918b4dede3d",
   "metadata": {},
   "outputs": [],
   "source": [
    "stops = helpers.import_scheduled_stops(analysis_date=analysis_date)"
   ]
  },
  {
   "cell_type": "code",
   "execution_count": 8,
   "id": "bd0c298d-820b-480a-a193-558c309bbdbe",
   "metadata": {},
   "outputs": [
    {
     "data": {
      "text/html": [
       "<div>\n",
       "<style scoped>\n",
       "    .dataframe tbody tr th:only-of-type {\n",
       "        vertical-align: middle;\n",
       "    }\n",
       "\n",
       "    .dataframe tbody tr th {\n",
       "        vertical-align: top;\n",
       "    }\n",
       "\n",
       "    .dataframe thead th {\n",
       "        text-align: right;\n",
       "    }\n",
       "</style>\n",
       "<table border=\"1\" class=\"dataframe\">\n",
       "  <thead>\n",
       "    <tr style=\"text-align: right;\">\n",
       "      <th></th>\n",
       "      <th>feed_key</th>\n",
       "      <th>service_date</th>\n",
       "      <th>feed_timezone</th>\n",
       "      <th>first_stop_arrival_datetime_pacific</th>\n",
       "      <th>last_stop_departure_datetime_pacific</th>\n",
       "      <th>stop_id</th>\n",
       "      <th>stop_key</th>\n",
       "      <th>stop_name</th>\n",
       "      <th>stop_event_count</th>\n",
       "      <th>route_type_0</th>\n",
       "      <th>...</th>\n",
       "      <th>route_type_2</th>\n",
       "      <th>route_type_3</th>\n",
       "      <th>route_type_4</th>\n",
       "      <th>route_type_5</th>\n",
       "      <th>route_type_6</th>\n",
       "      <th>route_type_7</th>\n",
       "      <th>route_type_11</th>\n",
       "      <th>route_type_12</th>\n",
       "      <th>missing_route_type</th>\n",
       "      <th>geometry</th>\n",
       "    </tr>\n",
       "  </thead>\n",
       "  <tbody>\n",
       "    <tr>\n",
       "      <th>0</th>\n",
       "      <td>2cf66736ff937cdf2e49b78da1912e0f</td>\n",
       "      <td>2024-10-16</td>\n",
       "      <td>America/Los_Angeles</td>\n",
       "      <td>2024-10-16 08:20:00</td>\n",
       "      <td>2024-10-16 17:12:00</td>\n",
       "      <td>9892</td>\n",
       "      <td>9f9482c8dc975382f604f166fa5d54fc</td>\n",
       "      <td>Escalon Downtown Park and Ride Lot Main St at ...</td>\n",
       "      <td>6</td>\n",
       "      <td>NaN</td>\n",
       "      <td>...</td>\n",
       "      <td>NaN</td>\n",
       "      <td>6.0</td>\n",
       "      <td>NaN</td>\n",
       "      <td>NaN</td>\n",
       "      <td>None</td>\n",
       "      <td>None</td>\n",
       "      <td>None</td>\n",
       "      <td>None</td>\n",
       "      <td>None</td>\n",
       "      <td>POINT (-87476.215 -24056.085)</td>\n",
       "    </tr>\n",
       "    <tr>\n",
       "      <th>1</th>\n",
       "      <td>2cf66736ff937cdf2e49b78da1912e0f</td>\n",
       "      <td>2024-10-16</td>\n",
       "      <td>America/Los_Angeles</td>\n",
       "      <td>NaT</td>\n",
       "      <td>NaT</td>\n",
       "      <td>9894</td>\n",
       "      <td>43e42244a32f3ef511f09181ddb81172</td>\n",
       "      <td>Coley Avenue at 3rd Street - US Post Office</td>\n",
       "      <td>3</td>\n",
       "      <td>NaN</td>\n",
       "      <td>...</td>\n",
       "      <td>NaN</td>\n",
       "      <td>3.0</td>\n",
       "      <td>NaN</td>\n",
       "      <td>NaN</td>\n",
       "      <td>None</td>\n",
       "      <td>None</td>\n",
       "      <td>None</td>\n",
       "      <td>None</td>\n",
       "      <td>None</td>\n",
       "      <td>POINT (-87120.471 -24239.577)</td>\n",
       "    </tr>\n",
       "    <tr>\n",
       "      <th>2</th>\n",
       "      <td>2cf66736ff937cdf2e49b78da1912e0f</td>\n",
       "      <td>2024-10-16</td>\n",
       "      <td>America/Los_Angeles</td>\n",
       "      <td>2024-10-16 08:34:00</td>\n",
       "      <td>2024-10-16 16:34:00</td>\n",
       "      <td>9903</td>\n",
       "      <td>8fe6ca9f34e4ab70bf14da88fea1fa32</td>\n",
       "      <td>Kiernan Avenue at McHenry Avenue</td>\n",
       "      <td>3</td>\n",
       "      <td>NaN</td>\n",
       "      <td>...</td>\n",
       "      <td>NaN</td>\n",
       "      <td>3.0</td>\n",
       "      <td>NaN</td>\n",
       "      <td>NaN</td>\n",
       "      <td>None</td>\n",
       "      <td>None</td>\n",
       "      <td>None</td>\n",
       "      <td>None</td>\n",
       "      <td>None</td>\n",
       "      <td>POINT (-87686.256 -33457.962)</td>\n",
       "    </tr>\n",
       "  </tbody>\n",
       "</table>\n",
       "<p>3 rows × 21 columns</p>\n",
       "</div>"
      ],
      "text/plain": [
       "                           feed_key service_date        feed_timezone  \\\n",
       "0  2cf66736ff937cdf2e49b78da1912e0f   2024-10-16  America/Los_Angeles   \n",
       "1  2cf66736ff937cdf2e49b78da1912e0f   2024-10-16  America/Los_Angeles   \n",
       "2  2cf66736ff937cdf2e49b78da1912e0f   2024-10-16  America/Los_Angeles   \n",
       "\n",
       "  first_stop_arrival_datetime_pacific last_stop_departure_datetime_pacific  \\\n",
       "0                 2024-10-16 08:20:00                  2024-10-16 17:12:00   \n",
       "1                                 NaT                                  NaT   \n",
       "2                 2024-10-16 08:34:00                  2024-10-16 16:34:00   \n",
       "\n",
       "  stop_id                          stop_key  \\\n",
       "0    9892  9f9482c8dc975382f604f166fa5d54fc   \n",
       "1    9894  43e42244a32f3ef511f09181ddb81172   \n",
       "2    9903  8fe6ca9f34e4ab70bf14da88fea1fa32   \n",
       "\n",
       "                                           stop_name  stop_event_count  \\\n",
       "0  Escalon Downtown Park and Ride Lot Main St at ...                 6   \n",
       "1        Coley Avenue at 3rd Street - US Post Office                 3   \n",
       "2                   Kiernan Avenue at McHenry Avenue                 3   \n",
       "\n",
       "   route_type_0  ...  route_type_2  route_type_3  route_type_4  route_type_5  \\\n",
       "0           NaN  ...           NaN           6.0           NaN           NaN   \n",
       "1           NaN  ...           NaN           3.0           NaN           NaN   \n",
       "2           NaN  ...           NaN           3.0           NaN           NaN   \n",
       "\n",
       "   route_type_6 route_type_7 route_type_11 route_type_12 missing_route_type  \\\n",
       "0          None         None          None          None               None   \n",
       "1          None         None          None          None               None   \n",
       "2          None         None          None          None               None   \n",
       "\n",
       "                        geometry  \n",
       "0  POINT (-87476.215 -24056.085)  \n",
       "1  POINT (-87120.471 -24239.577)  \n",
       "2  POINT (-87686.256 -33457.962)  \n",
       "\n",
       "[3 rows x 21 columns]"
      ]
     },
     "execution_count": 8,
     "metadata": {},
     "output_type": "execute_result"
    }
   ],
   "source": [
    "stops >> head(3)"
   ]
  },
  {
   "cell_type": "code",
   "execution_count": 9,
   "id": "5f91d353-f4d2-4d82-9ba1-9a94763f166b",
   "metadata": {},
   "outputs": [],
   "source": [
    "all_feeds = (gtfs_utils_v2.schedule_daily_feed_to_gtfs_dataset_name(selected_date=analysis_date)\n",
    "         >> select(_.feed_key, _.schedule_gtfs_dataset_key == _.gtfs_dataset_key, _.name))"
   ]
  },
  {
   "cell_type": "code",
   "execution_count": 19,
   "id": "55368b81-b643-4871-902b-1c34a5d5c252",
   "metadata": {},
   "outputs": [
    {
     "data": {
      "text/html": [
       "<div>\n",
       "<style scoped>\n",
       "    .dataframe tbody tr th:only-of-type {\n",
       "        vertical-align: middle;\n",
       "    }\n",
       "\n",
       "    .dataframe tbody tr th {\n",
       "        vertical-align: top;\n",
       "    }\n",
       "\n",
       "    .dataframe thead th {\n",
       "        text-align: right;\n",
       "    }\n",
       "</style>\n",
       "<table border=\"1\" class=\"dataframe\">\n",
       "  <thead>\n",
       "    <tr style=\"text-align: right;\">\n",
       "      <th></th>\n",
       "      <th>feed_key</th>\n",
       "      <th>schedule_gtfs_dataset_key</th>\n",
       "      <th>name</th>\n",
       "    </tr>\n",
       "  </thead>\n",
       "  <tbody>\n",
       "    <tr>\n",
       "      <th>48</th>\n",
       "      <td>1dc776ee08e41c234e41e17374a647ef</td>\n",
       "      <td>36b8fbf12e4adc76b21651462b200860</td>\n",
       "      <td>Amador Schedule</td>\n",
       "    </tr>\n",
       "    <tr>\n",
       "      <th>63</th>\n",
       "      <td>8d3e1159c9f7863ff2453b5265faa157</td>\n",
       "      <td>48e137bc977da88970393f629c18432c</td>\n",
       "      <td>Amtrak Schedule</td>\n",
       "    </tr>\n",
       "  </tbody>\n",
       "</table>\n",
       "</div>"
      ],
      "text/plain": [
       "                            feed_key         schedule_gtfs_dataset_key  \\\n",
       "48  1dc776ee08e41c234e41e17374a647ef  36b8fbf12e4adc76b21651462b200860   \n",
       "63  8d3e1159c9f7863ff2453b5265faa157  48e137bc977da88970393f629c18432c   \n",
       "\n",
       "               name  \n",
       "48  Amador Schedule  \n",
       "63  Amtrak Schedule  "
      ]
     },
     "execution_count": 19,
     "metadata": {},
     "output_type": "execute_result"
    }
   ],
   "source": [
    "all_feeds >> filter(_.name.str.contains('Am'))"
   ]
  },
  {
   "cell_type": "code",
   "execution_count": null,
   "id": "ef4ca526-d4d3-42c9-ad92-f3b05ed6e7e0",
   "metadata": {},
   "outputs": [],
   "source": [
    "rt_utils.show_full_df(all_feeds)"
   ]
  },
  {
   "cell_type": "code",
   "execution_count": null,
   "id": "7262db78-7ed6-4524-9c9f-33421579bd34",
   "metadata": {},
   "outputs": [],
   "source": [
    "from shared_utils import rt_utils"
   ]
  },
  {
   "cell_type": "code",
   "execution_count": 18,
   "id": "09724c8b-4bcf-4b0f-9a1f-2638337741c2",
   "metadata": {},
   "outputs": [],
   "source": [
    "all_feeds = (gtfs_utils_v2.schedule_daily_feed_to_gtfs_dataset_name(selected_date='2024-10-21')\n",
    "         >> select(_.feed_key, _.schedule_gtfs_dataset_key == _.gtfs_dataset_key, _.name))"
   ]
  },
  {
   "cell_type": "code",
   "execution_count": 21,
   "id": "626394c9-9a0c-4d8a-801e-3412a624c440",
   "metadata": {},
   "outputs": [
    {
     "data": {
      "text/html": [
       "<div>\n",
       "<style scoped>\n",
       "    .dataframe tbody tr th:only-of-type {\n",
       "        vertical-align: middle;\n",
       "    }\n",
       "\n",
       "    .dataframe tbody tr th {\n",
       "        vertical-align: top;\n",
       "    }\n",
       "\n",
       "    .dataframe thead th {\n",
       "        text-align: right;\n",
       "    }\n",
       "</style>\n",
       "<table border=\"1\" class=\"dataframe\">\n",
       "  <thead>\n",
       "    <tr style=\"text-align: right;\">\n",
       "      <th></th>\n",
       "      <th>key</th>\n",
       "      <th>trip_instance_key</th>\n",
       "      <th>feed_timezone</th>\n",
       "      <th>base64_url</th>\n",
       "      <th>name</th>\n",
       "      <th>regional_feed_type</th>\n",
       "      <th>gtfs_dataset_key</th>\n",
       "      <th>service_date</th>\n",
       "      <th>feed_key</th>\n",
       "      <th>service_id</th>\n",
       "      <th>...</th>\n",
       "      <th>trip_last_arrival_datetime_pacific</th>\n",
       "      <th>trip_start_date_local_tz</th>\n",
       "      <th>trip_first_departure_datetime_local_tz</th>\n",
       "      <th>trip_last_arrival_datetime_local_tz</th>\n",
       "      <th>trip_first_start_pickup_drop_off_window_date_pacific</th>\n",
       "      <th>trip_first_start_pickup_drop_off_window_datetime_pacific</th>\n",
       "      <th>trip_last_end_pickup_drop_off_window_pacific</th>\n",
       "      <th>trip_first_start_pickup_drop_off_window_date_local_tz</th>\n",
       "      <th>trip_first_start_pickup_drop_off_window_datetime_local_tz</th>\n",
       "      <th>trip_last_end_pickup_drop_off_window_datetime_local_tz</th>\n",
       "    </tr>\n",
       "  </thead>\n",
       "  <tbody>\n",
       "    <tr>\n",
       "      <th>0</th>\n",
       "      <td>767f81c8cb0c7d2c8c9b7a6e2f95aa79</td>\n",
       "      <td>91136b467f484e753644741771d949eb</td>\n",
       "      <td>America/New_York</td>\n",
       "      <td>aHR0cHM6Ly9jb250ZW50LmFtdHJhay5jb20vY29udGVudC...</td>\n",
       "      <td>Amtrak Schedule</td>\n",
       "      <td>None</td>\n",
       "      <td>48e137bc977da88970393f629c18432c</td>\n",
       "      <td>2024-10-21</td>\n",
       "      <td>8d3e1159c9f7863ff2453b5265faa157</td>\n",
       "      <td>212742945067</td>\n",
       "      <td>...</td>\n",
       "      <td>2024-10-21 06:00:00</td>\n",
       "      <td>2024-10-21</td>\n",
       "      <td>2024-10-21 06:30:00</td>\n",
       "      <td>2024-10-21 08:00:00</td>\n",
       "      <td>None</td>\n",
       "      <td>None</td>\n",
       "      <td>None</td>\n",
       "      <td>None</td>\n",
       "      <td>None</td>\n",
       "      <td>None</td>\n",
       "    </tr>\n",
       "    <tr>\n",
       "      <th>1</th>\n",
       "      <td>52aa53af96845796408ccbd6815d17d3</td>\n",
       "      <td>be0dcba0536b36aa970a2eca162a20be</td>\n",
       "      <td>America/New_York</td>\n",
       "      <td>aHR0cHM6Ly9jb250ZW50LmFtdHJhay5jb20vY29udGVudC...</td>\n",
       "      <td>Amtrak Schedule</td>\n",
       "      <td>None</td>\n",
       "      <td>48e137bc977da88970393f629c18432c</td>\n",
       "      <td>2024-10-21</td>\n",
       "      <td>8d3e1159c9f7863ff2453b5265faa157</td>\n",
       "      <td>312742945293</td>\n",
       "      <td>...</td>\n",
       "      <td>2024-10-21 11:22:00</td>\n",
       "      <td>2024-10-21</td>\n",
       "      <td>2024-10-21 09:35:00</td>\n",
       "      <td>2024-10-21 13:22:00</td>\n",
       "      <td>None</td>\n",
       "      <td>None</td>\n",
       "      <td>None</td>\n",
       "      <td>None</td>\n",
       "      <td>None</td>\n",
       "      <td>None</td>\n",
       "    </tr>\n",
       "    <tr>\n",
       "      <th>2</th>\n",
       "      <td>133632ab8e6c9737f09f1d72bcdebef7</td>\n",
       "      <td>5c5cf41a005d271e8718b166546d4b2d</td>\n",
       "      <td>America/New_York</td>\n",
       "      <td>aHR0cHM6Ly9jb250ZW50LmFtdHJhay5jb20vY29udGVudC...</td>\n",
       "      <td>Amtrak Schedule</td>\n",
       "      <td>None</td>\n",
       "      <td>48e137bc977da88970393f629c18432c</td>\n",
       "      <td>2024-10-21</td>\n",
       "      <td>8d3e1159c9f7863ff2453b5265faa157</td>\n",
       "      <td>312742945293</td>\n",
       "      <td>...</td>\n",
       "      <td>2024-10-21 21:25:00</td>\n",
       "      <td>2024-10-21</td>\n",
       "      <td>2024-10-21 20:50:00</td>\n",
       "      <td>2024-10-21 21:25:00</td>\n",
       "      <td>None</td>\n",
       "      <td>None</td>\n",
       "      <td>None</td>\n",
       "      <td>None</td>\n",
       "      <td>None</td>\n",
       "      <td>None</td>\n",
       "    </tr>\n",
       "    <tr>\n",
       "      <th>3</th>\n",
       "      <td>fe6e24f29da8332ef5395c4e054e6986</td>\n",
       "      <td>5403a3849bdefc726457eae97a3cedeb</td>\n",
       "      <td>America/New_York</td>\n",
       "      <td>aHR0cHM6Ly9jb250ZW50LmFtdHJhay5jb20vY29udGVudC...</td>\n",
       "      <td>Amtrak Schedule</td>\n",
       "      <td>None</td>\n",
       "      <td>48e137bc977da88970393f629c18432c</td>\n",
       "      <td>2024-10-21</td>\n",
       "      <td>8d3e1159c9f7863ff2453b5265faa157</td>\n",
       "      <td>206242944313</td>\n",
       "      <td>...</td>\n",
       "      <td>2024-10-21 17:25:00</td>\n",
       "      <td>2024-10-21</td>\n",
       "      <td>2024-10-21 19:35:00</td>\n",
       "      <td>2024-10-21 20:25:00</td>\n",
       "      <td>None</td>\n",
       "      <td>None</td>\n",
       "      <td>None</td>\n",
       "      <td>None</td>\n",
       "      <td>None</td>\n",
       "      <td>None</td>\n",
       "    </tr>\n",
       "    <tr>\n",
       "      <th>4</th>\n",
       "      <td>b816212b9912f6c7b93d754d8a10602c</td>\n",
       "      <td>e647cae102fa68b9063b7d1fbbf81e6a</td>\n",
       "      <td>America/New_York</td>\n",
       "      <td>aHR0cHM6Ly9jb250ZW50LmFtdHJhay5jb20vY29udGVudC...</td>\n",
       "      <td>Amtrak Schedule</td>\n",
       "      <td>None</td>\n",
       "      <td>48e137bc977da88970393f629c18432c</td>\n",
       "      <td>2024-10-21</td>\n",
       "      <td>8d3e1159c9f7863ff2453b5265faa157</td>\n",
       "      <td>306242945293</td>\n",
       "      <td>...</td>\n",
       "      <td>2024-10-21 07:40:00</td>\n",
       "      <td>2024-10-21</td>\n",
       "      <td>2024-10-21 09:45:00</td>\n",
       "      <td>2024-10-21 10:40:00</td>\n",
       "      <td>None</td>\n",
       "      <td>None</td>\n",
       "      <td>None</td>\n",
       "      <td>None</td>\n",
       "      <td>None</td>\n",
       "      <td>None</td>\n",
       "    </tr>\n",
       "    <tr>\n",
       "      <th>...</th>\n",
       "      <td>...</td>\n",
       "      <td>...</td>\n",
       "      <td>...</td>\n",
       "      <td>...</td>\n",
       "      <td>...</td>\n",
       "      <td>...</td>\n",
       "      <td>...</td>\n",
       "      <td>...</td>\n",
       "      <td>...</td>\n",
       "      <td>...</td>\n",
       "      <td>...</td>\n",
       "      <td>...</td>\n",
       "      <td>...</td>\n",
       "      <td>...</td>\n",
       "      <td>...</td>\n",
       "      <td>...</td>\n",
       "      <td>...</td>\n",
       "      <td>...</td>\n",
       "      <td>...</td>\n",
       "      <td>...</td>\n",
       "      <td>...</td>\n",
       "    </tr>\n",
       "    <tr>\n",
       "      <th>594</th>\n",
       "      <td>c73a4877f8a19ea29a7a04b918952194</td>\n",
       "      <td>7a44c24623e45e512d0b46c5e1888ace</td>\n",
       "      <td>America/New_York</td>\n",
       "      <td>aHR0cHM6Ly9jb250ZW50LmFtdHJhay5jb20vY29udGVudC...</td>\n",
       "      <td>Amtrak Schedule</td>\n",
       "      <td>None</td>\n",
       "      <td>48e137bc977da88970393f629c18432c</td>\n",
       "      <td>2024-10-21</td>\n",
       "      <td>8d3e1159c9f7863ff2453b5265faa157</td>\n",
       "      <td>212742944315</td>\n",
       "      <td>...</td>\n",
       "      <td>2024-10-21 14:17:00</td>\n",
       "      <td>2024-10-21</td>\n",
       "      <td>2024-10-21 09:50:00</td>\n",
       "      <td>2024-10-21 17:17:00</td>\n",
       "      <td>None</td>\n",
       "      <td>None</td>\n",
       "      <td>None</td>\n",
       "      <td>None</td>\n",
       "      <td>None</td>\n",
       "      <td>None</td>\n",
       "    </tr>\n",
       "    <tr>\n",
       "      <th>595</th>\n",
       "      <td>900a39ea5397487c12a92e860e792aa2</td>\n",
       "      <td>6c70e29d99c0b1d088135215e94b739c</td>\n",
       "      <td>America/New_York</td>\n",
       "      <td>aHR0cHM6Ly9jb250ZW50LmFtdHJhay5jb20vY29udGVudC...</td>\n",
       "      <td>Amtrak Schedule</td>\n",
       "      <td>None</td>\n",
       "      <td>48e137bc977da88970393f629c18432c</td>\n",
       "      <td>2024-10-21</td>\n",
       "      <td>8d3e1159c9f7863ff2453b5265faa157</td>\n",
       "      <td>312742945293</td>\n",
       "      <td>...</td>\n",
       "      <td>2024-10-21 18:50:00</td>\n",
       "      <td>2024-10-21</td>\n",
       "      <td>2024-10-21 14:19:00</td>\n",
       "      <td>2024-10-21 21:50:00</td>\n",
       "      <td>None</td>\n",
       "      <td>None</td>\n",
       "      <td>None</td>\n",
       "      <td>None</td>\n",
       "      <td>None</td>\n",
       "      <td>None</td>\n",
       "    </tr>\n",
       "    <tr>\n",
       "      <th>596</th>\n",
       "      <td>52f8086cd888bd51e6e4087654c43080</td>\n",
       "      <td>46a8d881232faf8ad1395cff9f3e7a64</td>\n",
       "      <td>America/New_York</td>\n",
       "      <td>aHR0cHM6Ly9jb250ZW50LmFtdHJhay5jb20vY29udGVudC...</td>\n",
       "      <td>Amtrak Schedule</td>\n",
       "      <td>None</td>\n",
       "      <td>48e137bc977da88970393f629c18432c</td>\n",
       "      <td>2024-10-21</td>\n",
       "      <td>8d3e1159c9f7863ff2453b5265faa157</td>\n",
       "      <td>312742945293</td>\n",
       "      <td>...</td>\n",
       "      <td>2024-10-21 15:35:00</td>\n",
       "      <td>2024-10-21</td>\n",
       "      <td>2024-10-21 07:15:00</td>\n",
       "      <td>2024-10-21 15:35:00</td>\n",
       "      <td>None</td>\n",
       "      <td>None</td>\n",
       "      <td>None</td>\n",
       "      <td>None</td>\n",
       "      <td>None</td>\n",
       "      <td>None</td>\n",
       "    </tr>\n",
       "    <tr>\n",
       "      <th>597</th>\n",
       "      <td>7eaeb0fae33da3204e28ea9763ea92fb</td>\n",
       "      <td>c1a00e5ea3849c5888198f639774a451</td>\n",
       "      <td>America/New_York</td>\n",
       "      <td>aHR0cHM6Ly9jb250ZW50LmFtdHJhay5jb20vY29udGVudC...</td>\n",
       "      <td>Amtrak Schedule</td>\n",
       "      <td>None</td>\n",
       "      <td>48e137bc977da88970393f629c18432c</td>\n",
       "      <td>2024-10-21</td>\n",
       "      <td>8d3e1159c9f7863ff2453b5265faa157</td>\n",
       "      <td>312742945293</td>\n",
       "      <td>...</td>\n",
       "      <td>2024-10-21 12:30:00</td>\n",
       "      <td>2024-10-21</td>\n",
       "      <td>2024-10-21 08:30:00</td>\n",
       "      <td>2024-10-21 12:30:00</td>\n",
       "      <td>None</td>\n",
       "      <td>None</td>\n",
       "      <td>None</td>\n",
       "      <td>None</td>\n",
       "      <td>None</td>\n",
       "      <td>None</td>\n",
       "    </tr>\n",
       "    <tr>\n",
       "      <th>598</th>\n",
       "      <td>3432d0d8e494ff55bdcbc8e67f43b4fc</td>\n",
       "      <td>9838fde5be04f922ce667b029be18066</td>\n",
       "      <td>America/New_York</td>\n",
       "      <td>aHR0cHM6Ly9jb250ZW50LmFtdHJhay5jb20vY29udGVudC...</td>\n",
       "      <td>Amtrak Schedule</td>\n",
       "      <td>None</td>\n",
       "      <td>48e137bc977da88970393f629c18432c</td>\n",
       "      <td>2024-10-21</td>\n",
       "      <td>8d3e1159c9f7863ff2453b5265faa157</td>\n",
       "      <td>206242944332</td>\n",
       "      <td>...</td>\n",
       "      <td>2024-10-21 20:50:00</td>\n",
       "      <td>2024-10-21</td>\n",
       "      <td>2024-10-21 15:51:00</td>\n",
       "      <td>2024-10-21 23:50:00</td>\n",
       "      <td>None</td>\n",
       "      <td>None</td>\n",
       "      <td>None</td>\n",
       "      <td>None</td>\n",
       "      <td>None</td>\n",
       "      <td>None</td>\n",
       "    </tr>\n",
       "  </tbody>\n",
       "</table>\n",
       "<p>599 rows × 65 columns</p>\n",
       "</div>"
      ],
      "text/plain": [
       "                                  key                 trip_instance_key  \\\n",
       "0    767f81c8cb0c7d2c8c9b7a6e2f95aa79  91136b467f484e753644741771d949eb   \n",
       "1    52aa53af96845796408ccbd6815d17d3  be0dcba0536b36aa970a2eca162a20be   \n",
       "2    133632ab8e6c9737f09f1d72bcdebef7  5c5cf41a005d271e8718b166546d4b2d   \n",
       "3    fe6e24f29da8332ef5395c4e054e6986  5403a3849bdefc726457eae97a3cedeb   \n",
       "4    b816212b9912f6c7b93d754d8a10602c  e647cae102fa68b9063b7d1fbbf81e6a   \n",
       "..                                ...                               ...   \n",
       "594  c73a4877f8a19ea29a7a04b918952194  7a44c24623e45e512d0b46c5e1888ace   \n",
       "595  900a39ea5397487c12a92e860e792aa2  6c70e29d99c0b1d088135215e94b739c   \n",
       "596  52f8086cd888bd51e6e4087654c43080  46a8d881232faf8ad1395cff9f3e7a64   \n",
       "597  7eaeb0fae33da3204e28ea9763ea92fb  c1a00e5ea3849c5888198f639774a451   \n",
       "598  3432d0d8e494ff55bdcbc8e67f43b4fc  9838fde5be04f922ce667b029be18066   \n",
       "\n",
       "        feed_timezone                                         base64_url  \\\n",
       "0    America/New_York  aHR0cHM6Ly9jb250ZW50LmFtdHJhay5jb20vY29udGVudC...   \n",
       "1    America/New_York  aHR0cHM6Ly9jb250ZW50LmFtdHJhay5jb20vY29udGVudC...   \n",
       "2    America/New_York  aHR0cHM6Ly9jb250ZW50LmFtdHJhay5jb20vY29udGVudC...   \n",
       "3    America/New_York  aHR0cHM6Ly9jb250ZW50LmFtdHJhay5jb20vY29udGVudC...   \n",
       "4    America/New_York  aHR0cHM6Ly9jb250ZW50LmFtdHJhay5jb20vY29udGVudC...   \n",
       "..                ...                                                ...   \n",
       "594  America/New_York  aHR0cHM6Ly9jb250ZW50LmFtdHJhay5jb20vY29udGVudC...   \n",
       "595  America/New_York  aHR0cHM6Ly9jb250ZW50LmFtdHJhay5jb20vY29udGVudC...   \n",
       "596  America/New_York  aHR0cHM6Ly9jb250ZW50LmFtdHJhay5jb20vY29udGVudC...   \n",
       "597  America/New_York  aHR0cHM6Ly9jb250ZW50LmFtdHJhay5jb20vY29udGVudC...   \n",
       "598  America/New_York  aHR0cHM6Ly9jb250ZW50LmFtdHJhay5jb20vY29udGVudC...   \n",
       "\n",
       "                name regional_feed_type                  gtfs_dataset_key  \\\n",
       "0    Amtrak Schedule               None  48e137bc977da88970393f629c18432c   \n",
       "1    Amtrak Schedule               None  48e137bc977da88970393f629c18432c   \n",
       "2    Amtrak Schedule               None  48e137bc977da88970393f629c18432c   \n",
       "3    Amtrak Schedule               None  48e137bc977da88970393f629c18432c   \n",
       "4    Amtrak Schedule               None  48e137bc977da88970393f629c18432c   \n",
       "..               ...                ...                               ...   \n",
       "594  Amtrak Schedule               None  48e137bc977da88970393f629c18432c   \n",
       "595  Amtrak Schedule               None  48e137bc977da88970393f629c18432c   \n",
       "596  Amtrak Schedule               None  48e137bc977da88970393f629c18432c   \n",
       "597  Amtrak Schedule               None  48e137bc977da88970393f629c18432c   \n",
       "598  Amtrak Schedule               None  48e137bc977da88970393f629c18432c   \n",
       "\n",
       "    service_date                          feed_key    service_id  ...  \\\n",
       "0     2024-10-21  8d3e1159c9f7863ff2453b5265faa157  212742945067  ...   \n",
       "1     2024-10-21  8d3e1159c9f7863ff2453b5265faa157  312742945293  ...   \n",
       "2     2024-10-21  8d3e1159c9f7863ff2453b5265faa157  312742945293  ...   \n",
       "3     2024-10-21  8d3e1159c9f7863ff2453b5265faa157  206242944313  ...   \n",
       "4     2024-10-21  8d3e1159c9f7863ff2453b5265faa157  306242945293  ...   \n",
       "..           ...                               ...           ...  ...   \n",
       "594   2024-10-21  8d3e1159c9f7863ff2453b5265faa157  212742944315  ...   \n",
       "595   2024-10-21  8d3e1159c9f7863ff2453b5265faa157  312742945293  ...   \n",
       "596   2024-10-21  8d3e1159c9f7863ff2453b5265faa157  312742945293  ...   \n",
       "597   2024-10-21  8d3e1159c9f7863ff2453b5265faa157  312742945293  ...   \n",
       "598   2024-10-21  8d3e1159c9f7863ff2453b5265faa157  206242944332  ...   \n",
       "\n",
       "    trip_last_arrival_datetime_pacific trip_start_date_local_tz  \\\n",
       "0                  2024-10-21 06:00:00               2024-10-21   \n",
       "1                  2024-10-21 11:22:00               2024-10-21   \n",
       "2                  2024-10-21 21:25:00               2024-10-21   \n",
       "3                  2024-10-21 17:25:00               2024-10-21   \n",
       "4                  2024-10-21 07:40:00               2024-10-21   \n",
       "..                                 ...                      ...   \n",
       "594                2024-10-21 14:17:00               2024-10-21   \n",
       "595                2024-10-21 18:50:00               2024-10-21   \n",
       "596                2024-10-21 15:35:00               2024-10-21   \n",
       "597                2024-10-21 12:30:00               2024-10-21   \n",
       "598                2024-10-21 20:50:00               2024-10-21   \n",
       "\n",
       "     trip_first_departure_datetime_local_tz  \\\n",
       "0                       2024-10-21 06:30:00   \n",
       "1                       2024-10-21 09:35:00   \n",
       "2                       2024-10-21 20:50:00   \n",
       "3                       2024-10-21 19:35:00   \n",
       "4                       2024-10-21 09:45:00   \n",
       "..                                      ...   \n",
       "594                     2024-10-21 09:50:00   \n",
       "595                     2024-10-21 14:19:00   \n",
       "596                     2024-10-21 07:15:00   \n",
       "597                     2024-10-21 08:30:00   \n",
       "598                     2024-10-21 15:51:00   \n",
       "\n",
       "     trip_last_arrival_datetime_local_tz  \\\n",
       "0                    2024-10-21 08:00:00   \n",
       "1                    2024-10-21 13:22:00   \n",
       "2                    2024-10-21 21:25:00   \n",
       "3                    2024-10-21 20:25:00   \n",
       "4                    2024-10-21 10:40:00   \n",
       "..                                   ...   \n",
       "594                  2024-10-21 17:17:00   \n",
       "595                  2024-10-21 21:50:00   \n",
       "596                  2024-10-21 15:35:00   \n",
       "597                  2024-10-21 12:30:00   \n",
       "598                  2024-10-21 23:50:00   \n",
       "\n",
       "    trip_first_start_pickup_drop_off_window_date_pacific  \\\n",
       "0                                                 None     \n",
       "1                                                 None     \n",
       "2                                                 None     \n",
       "3                                                 None     \n",
       "4                                                 None     \n",
       "..                                                 ...     \n",
       "594                                               None     \n",
       "595                                               None     \n",
       "596                                               None     \n",
       "597                                               None     \n",
       "598                                               None     \n",
       "\n",
       "     trip_first_start_pickup_drop_off_window_datetime_pacific  \\\n",
       "0                                                 None          \n",
       "1                                                 None          \n",
       "2                                                 None          \n",
       "3                                                 None          \n",
       "4                                                 None          \n",
       "..                                                 ...          \n",
       "594                                               None          \n",
       "595                                               None          \n",
       "596                                               None          \n",
       "597                                               None          \n",
       "598                                               None          \n",
       "\n",
       "    trip_last_end_pickup_drop_off_window_pacific  \\\n",
       "0                                           None   \n",
       "1                                           None   \n",
       "2                                           None   \n",
       "3                                           None   \n",
       "4                                           None   \n",
       "..                                           ...   \n",
       "594                                         None   \n",
       "595                                         None   \n",
       "596                                         None   \n",
       "597                                         None   \n",
       "598                                         None   \n",
       "\n",
       "    trip_first_start_pickup_drop_off_window_date_local_tz  \\\n",
       "0                                                 None      \n",
       "1                                                 None      \n",
       "2                                                 None      \n",
       "3                                                 None      \n",
       "4                                                 None      \n",
       "..                                                 ...      \n",
       "594                                               None      \n",
       "595                                               None      \n",
       "596                                               None      \n",
       "597                                               None      \n",
       "598                                               None      \n",
       "\n",
       "    trip_first_start_pickup_drop_off_window_datetime_local_tz  \\\n",
       "0                                                 None          \n",
       "1                                                 None          \n",
       "2                                                 None          \n",
       "3                                                 None          \n",
       "4                                                 None          \n",
       "..                                                 ...          \n",
       "594                                               None          \n",
       "595                                               None          \n",
       "596                                               None          \n",
       "597                                               None          \n",
       "598                                               None          \n",
       "\n",
       "    trip_last_end_pickup_drop_off_window_datetime_local_tz  \n",
       "0                                                 None      \n",
       "1                                                 None      \n",
       "2                                                 None      \n",
       "3                                                 None      \n",
       "4                                                 None      \n",
       "..                                                 ...      \n",
       "594                                               None      \n",
       "595                                               None      \n",
       "596                                               None      \n",
       "597                                               None      \n",
       "598                                               None      \n",
       "\n",
       "[599 rows x 65 columns]"
      ]
     },
     "execution_count": 21,
     "metadata": {},
     "output_type": "execute_result"
    }
   ],
   "source": [
    "gtfs_utils_v2.get_trips(selected_date='2024-10-21', operator_feeds=['8d3e1159c9f7863ff2453b5265faa157'])"
   ]
  }
 ],
 "metadata": {
  "kernelspec": {
   "display_name": "Python 3 (ipykernel)",
   "language": "python",
   "name": "python3"
  },
  "language_info": {
   "codemirror_mode": {
    "name": "ipython",
    "version": 3
   },
   "file_extension": ".py",
   "mimetype": "text/x-python",
   "name": "python",
   "nbconvert_exporter": "python",
   "pygments_lexer": "ipython3",
   "version": "3.9.13"
  },
  "widgets": {
   "application/vnd.jupyter.widget-state+json": {
    "state": {},
    "version_major": 2,
    "version_minor": 0
   }
  }
 },
 "nbformat": 4,
 "nbformat_minor": 5
}
