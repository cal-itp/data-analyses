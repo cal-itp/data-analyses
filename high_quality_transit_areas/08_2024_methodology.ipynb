{
 "cells": [
  {
   "cell_type": "code",
   "execution_count": null,
   "id": "38262382-8e2c-4eb9-86ce-aa4aa251d6d4",
   "metadata": {},
   "outputs": [],
   "source": [
    "import os\n",
    "os.environ[\"CALITP_BQ_MAX_BYTES\"] = str(1_000_000_000_000) ## 1TB?"
   ]
  },
  {
   "cell_type": "code",
   "execution_count": null,
   "id": "5bbd8694-444f-48c0-89a0-00c5c0e542c8",
   "metadata": {},
   "outputs": [],
   "source": [
    "import geopandas as gpd\n",
    "import pandas as pd\n",
    "from siuba import *\n",
    "\n",
    "from segment_speed_utils import helpers, gtfs_schedule_wrangling\n",
    "from shared_utils import rt_dates, gtfs_utils_v2\n",
    "import folium"
   ]
  },
  {
   "cell_type": "code",
   "execution_count": null,
   "id": "994a67bc-1cbe-4477-ac3b-cbe0f7e4822e",
   "metadata": {},
   "outputs": [],
   "source": [
    "from update_vars import analysis_date, AM_PEAK, PM_PEAK, EXPORT_PATH, GCS_FILE_PATH, PROJECT_CRS"
   ]
  },
  {
   "cell_type": "code",
   "execution_count": null,
   "id": "b263f2d3-1aa3-4576-aac6-a800f12cca19",
   "metadata": {},
   "outputs": [],
   "source": [
    "import sjoin_stops_to_segments"
   ]
  },
  {
   "cell_type": "code",
   "execution_count": null,
   "id": "fd40c5c1-6d79-4bb0-87bd-18c9053af24b",
   "metadata": {},
   "outputs": [],
   "source": [
    "analysis_date"
   ]
  },
  {
   "cell_type": "code",
   "execution_count": null,
   "id": "0b6f850f-6038-4687-bd22-68552334fd2b",
   "metadata": {
    "tags": []
   },
   "outputs": [],
   "source": [
    "# (1) Aggregate stop times - by stop_id, find max trips in AM/PM peak\n",
    "# takes 1 min\n",
    "max_arrivals_by_stop = helpers.import_scheduled_stop_times(\n",
    "    analysis_date,\n",
    "    get_pandas = True,\n",
    ").pipe(sjoin_stops_to_segments.prep_stop_times).pipe(sjoin_stops_to_segments.stop_times_aggregation_max_by_stop, analysis_date)"
   ]
  },
  {
   "cell_type": "code",
   "execution_count": null,
   "id": "d9772373-43a4-40c4-b7c6-b0550cbb9ad0",
   "metadata": {},
   "outputs": [],
   "source": [
    "# (1) Aggregate stop times - by stop_id, find max trips in AM/PM peak\n",
    "# takes 1 min\n",
    "max_arrivals_by_stop_single = helpers.import_scheduled_stop_times(\n",
    "    analysis_date,\n",
    "    get_pandas = True,\n",
    ").pipe(sjoin_stops_to_segments.prep_stop_times).pipe(\n",
    "    sjoin_stops_to_segments.stop_times_aggregation_max_by_stop, analysis_date, single_route_dir=True)"
   ]
  },
  {
   "cell_type": "code",
   "execution_count": null,
   "id": "23295ce6-a2c8-4fdd-b849-0d21183b362b",
   "metadata": {},
   "outputs": [],
   "source": [
    "new_hq_multi = max_arrivals_by_stop >> filter(_.am_max_trips_hr > 4, _.pm_max_trips_hr > 4) #  new HQ corridor (still multi-route)\n",
    "new_ms_multi = max_arrivals_by_stop >> filter(_.am_max_trips_hr > 3, _.pm_max_trips_hr > 3) #  new major stop precursor (still multi-route)\n",
    "new_hq_single = max_arrivals_by_stop_single >> filter(_.am_max_trips_hr > 4, _.pm_max_trips_hr > 4) #  new HQ corridor (single-route)\n",
    "new_ms_single = max_arrivals_by_stop_single >> filter(_.am_max_trips_hr > 3, _.pm_max_trips_hr > 3) #  new major stop precursor (single-route)"
   ]
  },
  {
   "cell_type": "markdown",
   "id": "92977e9b-bb4d-4455-9178-7d8f03a174b5",
   "metadata": {
    "tags": []
   },
   "source": [
    "## preliminary mapping\n",
    "\n",
    "* add bus/rail/ferry MTS in orange to help decide"
   ]
  },
  {
   "cell_type": "code",
   "execution_count": null,
   "id": "663c2e6f-6a31-40f4-8e3d-f03d290429f7",
   "metadata": {},
   "outputs": [],
   "source": [
    "OLD_EXPORT_PATH = f\"{GCS_FILE_PATH}export/{rt_dates.DATES['aug2024']}/\""
   ]
  },
  {
   "cell_type": "code",
   "execution_count": null,
   "id": "f1fff741-c6f0-43c2-a236-7670da61e209",
   "metadata": {},
   "outputs": [],
   "source": [
    "old_stops = gpd.read_parquet(f\"{OLD_EXPORT_PATH}ca_hq_transit_stops.parquet\")"
   ]
  },
  {
   "cell_type": "code",
   "execution_count": null,
   "id": "5f5a8f9c-9ba6-40a0-b617-0a193490822e",
   "metadata": {},
   "outputs": [],
   "source": [
    "CURRENT_EXPORT_PATH = f\"{GCS_FILE_PATH}export/{rt_dates.DATES['oct2024g']}/\""
   ]
  },
  {
   "cell_type": "code",
   "execution_count": null,
   "id": "9f28e222-a502-41fe-88cf-801430e72c86",
   "metadata": {},
   "outputs": [],
   "source": [
    "current_stops = gpd.read_parquet(f\"{CURRENT_EXPORT_PATH}ca_hq_transit_stops.parquet\")"
   ]
  },
  {
   "cell_type": "code",
   "execution_count": null,
   "id": "ee6b8713-26b8-40bd-8f64-7964ea70e4eb",
   "metadata": {},
   "outputs": [],
   "source": [
    "non_bus = current_stops >> filter(-_.hqta_type.isin(['hq_corridor_bus', 'major_stop_bus']))"
   ]
  },
  {
   "cell_type": "code",
   "execution_count": null,
   "id": "70431fa2-4856-4f83-b67b-92f802809398",
   "metadata": {},
   "outputs": [],
   "source": [
    "feeds = (gtfs_utils_v2.schedule_daily_feed_to_gtfs_dataset_name(selected_date=analysis_date)\n",
    "         >> select(_.feed_key, _.schedule_gtfs_dataset_key == _.gtfs_dataset_key, _.name)\n",
    "         >> filter(_.schedule_gtfs_dataset_key.isin(max_arrivals_by_stop.schedule_gtfs_dataset_key))\n",
    "        )"
   ]
  },
  {
   "cell_type": "code",
   "execution_count": null,
   "id": "b2a77335-5940-4527-8457-ce6ac27c9f39",
   "metadata": {
    "tags": []
   },
   "outputs": [],
   "source": [
    "stops = gtfs_utils_v2.get_stops(selected_date=analysis_date, operator_feeds=feeds.feed_key,\n",
    "                       stop_cols=['feed_key', 'stop_id'])"
   ]
  },
  {
   "cell_type": "code",
   "execution_count": null,
   "id": "6633dce1-42ef-4e86-9af0-8305b904e0e6",
   "metadata": {},
   "outputs": [],
   "source": [
    "stops = stops >> inner_join(_, feeds, on='feed_key')"
   ]
  },
  {
   "cell_type": "code",
   "execution_count": null,
   "id": "2f9d4f2e-e955-41d1-b97f-cb2ff0e2f3a4",
   "metadata": {},
   "outputs": [],
   "source": [
    "def add_to_map(test_df, m=None, **kwargs):\n",
    "    gdf = stops >> inner_join(_, test_df, on=['schedule_gtfs_dataset_key', 'stop_id'])\n",
    "    m = gdf.explore(m = m, **kwargs)\n",
    "    return m"
   ]
  },
  {
   "cell_type": "code",
   "execution_count": null,
   "id": "3ed52cda-d707-4ff4-abae-95331c133988",
   "metadata": {},
   "outputs": [],
   "source": [
    "m1 = old_stops.explore(color='blue')\n",
    "m1 = non_bus.explore(m = m1, color='orange')"
   ]
  },
  {
   "cell_type": "code",
   "execution_count": null,
   "id": "00188b90-31be-40bf-9c66-c5ecd0e28514",
   "metadata": {},
   "outputs": [],
   "source": [
    "m1 = add_to_map(new_hq_multi, m=m1, color='green')"
   ]
  },
  {
   "cell_type": "code",
   "execution_count": null,
   "id": "b547f7cb-3efc-4558-987f-c27db0957f8c",
   "metadata": {},
   "outputs": [],
   "source": [
    "m1 = add_to_map(new_hq_single, m=m1, color='red')"
   ]
  },
  {
   "cell_type": "code",
   "execution_count": null,
   "id": "42c0505c-456f-41b3-80ac-2d0673ae8c6d",
   "metadata": {},
   "outputs": [],
   "source": [
    "folium.LayerControl().add_to(m1);"
   ]
  },
  {
   "cell_type": "code",
   "execution_count": null,
   "id": "7af76c43-60e7-4220-a4ce-1ef82b1aaaf0",
   "metadata": {},
   "outputs": [],
   "source": [
    "m1"
   ]
  },
  {
   "cell_type": "markdown",
   "id": "ade435a2-6a54-4833-8f76-8ca5bc35b2a9",
   "metadata": {
    "tags": []
   },
   "source": [
    "## major stops"
   ]
  },
  {
   "cell_type": "code",
   "execution_count": null,
   "id": "6d016523-2a2f-4c84-a7fc-97d2aa63ca9d",
   "metadata": {},
   "outputs": [],
   "source": [
    "m = old_stops.explore(color='blue')\n",
    "m = non_bus.explore(m = m, color='orange')"
   ]
  },
  {
   "cell_type": "code",
   "execution_count": null,
   "id": "42ebce25-f799-4bd8-8299-affd3d28ddeb",
   "metadata": {},
   "outputs": [],
   "source": [
    "m = add_to_map(new_ms_multi, m=m, color='green')"
   ]
  },
  {
   "cell_type": "code",
   "execution_count": null,
   "id": "f7aba8a7-17b8-4a42-a75a-d2bdfe4613ed",
   "metadata": {},
   "outputs": [],
   "source": [
    "m = add_to_map(new_ms_single, m=m, color='red')"
   ]
  },
  {
   "cell_type": "code",
   "execution_count": null,
   "id": "aa30677f-1142-4a21-a4d3-b2e034a92826",
   "metadata": {},
   "outputs": [],
   "source": [
    "folium.LayerControl().add_to(m);"
   ]
  },
  {
   "cell_type": "code",
   "execution_count": null,
   "id": "e412a100-b5d8-495d-9dc1-b445af385802",
   "metadata": {
    "tags": []
   },
   "outputs": [],
   "source": [
    "m"
   ]
  },
  {
   "cell_type": "markdown",
   "id": "37599b82-0cde-4835-81f7-ae752ae02f53",
   "metadata": {},
   "source": [
    "# full pipeline check"
   ]
  },
  {
   "cell_type": "code",
   "execution_count": null,
   "id": "1381991e-2fcd-4157-8632-5f146ae5a77a",
   "metadata": {},
   "outputs": [],
   "source": [
    "# new_stops = gpd.read_parquet(f\"{EXPORT_PATH}ca_hq_transit_stops.parquet\")"
   ]
  },
  {
   "cell_type": "code",
   "execution_count": null,
   "id": "1df5a3b7-a4ab-428f-89a1-1f06c3ed4f07",
   "metadata": {},
   "outputs": [],
   "source": [
    "# new_areas = gpd.read_parquet(f\"{EXPORT_PATH}ca_hq_transit_areas.parquet\")"
   ]
  },
  {
   "cell_type": "code",
   "execution_count": null,
   "id": "ad9fbf3f-5a28-414b-b5cb-4d7f203e89a6",
   "metadata": {},
   "outputs": [],
   "source": [
    "f\"{EXPORT_PATH}ca_hq_transit_areas.parquet\""
   ]
  },
  {
   "cell_type": "code",
   "execution_count": null,
   "id": "8de894dd-ec42-4459-bc81-babf142d14ab",
   "metadata": {},
   "outputs": [],
   "source": [
    "old_areas = gpd.read_parquet(f\"{OLD_EXPORT_PATH}ca_hq_transit_areas.parquet\")"
   ]
  },
  {
   "cell_type": "code",
   "execution_count": null,
   "id": "46380751-0288-43a9-803c-43f3b47f3cc8",
   "metadata": {},
   "outputs": [],
   "source": [
    "new_stops.info()"
   ]
  },
  {
   "cell_type": "code",
   "execution_count": null,
   "id": "801f0ca1-8cc7-414a-bab8-9821966bafe4",
   "metadata": {},
   "outputs": [],
   "source": [
    "new_stops >> count(_.hqta_type)"
   ]
  },
  {
   "cell_type": "code",
   "execution_count": null,
   "id": "935aaa0b-1c2b-443a-b1c6-4b9af795a1a0",
   "metadata": {},
   "outputs": [],
   "source": [
    "old_stops >> count(_.hqta_type)"
   ]
  },
  {
   "cell_type": "code",
   "execution_count": null,
   "id": "1c6d840f-6963-4ab4-8a84-9e0a38aa6de9",
   "metadata": {},
   "outputs": [],
   "source": [
    "old_stops.info()"
   ]
  },
  {
   "cell_type": "code",
   "execution_count": null,
   "id": "773bdc27-d74b-470a-bdbe-afc8ddb9b297",
   "metadata": {},
   "outputs": [],
   "source": [
    "m2 = (old_stops >> filter(_.hqta_type == 'major_stop_bus')).explore(color='blue')\n",
    "m2 = (new_stops >> filter(_.hqta_type == 'major_stop_bus')).explore(m = m2, color='orange')\n",
    "folium.LayerControl().add_to(m2);"
   ]
  },
  {
   "cell_type": "code",
   "execution_count": null,
   "id": "1e7216a1-ff89-46ad-9155-615aa802b254",
   "metadata": {},
   "outputs": [],
   "source": [
    "# m2"
   ]
  },
  {
   "cell_type": "code",
   "execution_count": null,
   "id": "3606732d-2bfe-4375-b3f7-331073f4aa36",
   "metadata": {},
   "outputs": [],
   "source": [
    "from calitp_data_analysis.geography_utils import CA_NAD83Albers"
   ]
  },
  {
   "cell_type": "code",
   "execution_count": null,
   "id": "e7a05ad5-7616-4b52-9a9d-74aa26cef8c2",
   "metadata": {},
   "outputs": [],
   "source": [
    "new_dissolved = new_areas.to_crs(CA_NAD83Albers).dissolve(by='hqta_type').reset_index()\n",
    "new_dissolved['area'] = new_dissolved.geometry.apply(lambda x: x.area)\n",
    "new_dissolved[['hqta_type', 'area']]"
   ]
  },
  {
   "cell_type": "code",
   "execution_count": null,
   "id": "641f6ead-9fa1-49ef-9bda-e29a0c5eb7b0",
   "metadata": {},
   "outputs": [],
   "source": [
    "old_dissolved = old_areas.to_crs(CA_NAD83Albers).dissolve(by='hqta_type').reset_index()\n",
    "old_dissolved['area'] = old_dissolved.geometry.apply(lambda x: x.area)\n",
    "old_dissolved[['hqta_type', 'area']]"
   ]
  },
  {
   "cell_type": "code",
   "execution_count": null,
   "id": "25411470-3871-403a-93b3-0a730d343215",
   "metadata": {},
   "outputs": [],
   "source": [
    "old_hq = old_dissolved >> filter(_.hqta_type == 'major_stop_bus')"
   ]
  },
  {
   "cell_type": "code",
   "execution_count": null,
   "id": "92076219-bb92-4dc6-8e09-8e128f652767",
   "metadata": {},
   "outputs": [],
   "source": [
    "new_hq = new_dissolved >> filter(_.hqta_type == \"major_stop_bus\")"
   ]
  },
  {
   "cell_type": "code",
   "execution_count": null,
   "id": "27604bf0-8a6c-49a9-9722-3cab90a747df",
   "metadata": {},
   "outputs": [],
   "source": [
    "only_old = old_hq.overlay(new_hq, how='difference')"
   ]
  },
  {
   "cell_type": "code",
   "execution_count": null,
   "id": "7f406855-9447-47b6-b4cc-428e7e3c2fad",
   "metadata": {},
   "outputs": [],
   "source": [
    "only_new = new_hq.overlay(old_hq, how='difference')"
   ]
  },
  {
   "cell_type": "code",
   "execution_count": null,
   "id": "deb1287f-8506-442a-ad16-2cffe3e3d7d0",
   "metadata": {},
   "outputs": [],
   "source": [
    "# only_new.explore()"
   ]
  },
  {
   "cell_type": "code",
   "execution_count": null,
   "id": "81a50e44-2373-42ed-b7e9-5f4b9db43357",
   "metadata": {},
   "outputs": [],
   "source": [
    "# only_old.explore()"
   ]
  },
  {
   "cell_type": "code",
   "execution_count": null,
   "id": "be86574b-3810-4729-96a1-4fa9258374b0",
   "metadata": {},
   "outputs": [],
   "source": [
    "import intake"
   ]
  },
  {
   "cell_type": "code",
   "execution_count": null,
   "id": "26c57baf-118a-4c87-9e4a-70697a26afb9",
   "metadata": {},
   "outputs": [],
   "source": [
    "catalog = intake.open_catalog(\"*.yml\")"
   ]
  },
  {
   "cell_type": "code",
   "execution_count": null,
   "id": "34aba925-0a98-4852-89d5-d6ff663564e2",
   "metadata": {},
   "outputs": [],
   "source": [
    "hqta_points = catalog.hqta_points.read().to_crs(PROJECT_CRS)"
   ]
  },
  {
   "cell_type": "code",
   "execution_count": null,
   "id": "d5fb6a7d-061d-4b57-aa4e-8cf6c57aa88c",
   "metadata": {},
   "outputs": [],
   "source": [
    "hqta_points >> filter(_.stop_id=='62965')"
   ]
  },
  {
   "cell_type": "markdown",
   "id": "dbfde200-7c8e-47f1-ad86-ccd3e3340c9f",
   "metadata": {},
   "source": [
    "## Counting rail/ferry stops\n",
    "\n",
    "* Prior refactors have us keeping a row per stop_id x route_id, will keep\n",
    "* did scan and remove a few ferry stops without bus/rail (Havasu, other Angel Island operator)"
   ]
  },
  {
   "cell_type": "code",
   "execution_count": null,
   "id": "07a401f6-f897-47c3-b38c-a1257ea8cae9",
   "metadata": {},
   "outputs": [],
   "source": [
    "# (new_stops >> filter(_.hqta_type == 'major_stop_ferry')).explore()"
   ]
  },
  {
   "cell_type": "code",
   "execution_count": null,
   "id": "15745774-2787-49fd-b9dd-903d5fde08e5",
   "metadata": {},
   "outputs": [],
   "source": [
    "# (old_stops >> filter(_.hqta_type == 'major_stop_ferry')).explore()"
   ]
  },
  {
   "cell_type": "code",
   "execution_count": null,
   "id": "2bfce1f1-a2eb-4e83-b9ec-d1f02d75c7b0",
   "metadata": {},
   "outputs": [],
   "source": [
    "(old_stops >> filter(_.hqta_type == 'major_stop_ferry')) >> count(_.agency_primary)"
   ]
  },
  {
   "cell_type": "code",
   "execution_count": null,
   "id": "71bf9c4a-a15c-46a5-9e85-3f4e6d3275b3",
   "metadata": {},
   "outputs": [],
   "source": [
    "(new_stops >> filter(_.hqta_type == 'major_stop_ferry')) >> count(_.agency_primary)"
   ]
  },
  {
   "cell_type": "code",
   "execution_count": null,
   "id": "45459f62-ec9d-4ce6-8943-1a6646dd874b",
   "metadata": {},
   "outputs": [],
   "source": [
    "# old_stops >> filter(_.hqta_type == 'major_stop_ferry', _.agency_primary.str.contains('Golden'))\n",
    "\n",
    "# new_stops >> filter(_.hqta_type == 'major_stop_ferry', _.agency_primary.str.contains('Golden'))\n",
    "\n",
    "# new_stops >> filter(_.hqta_type == 'major_stop_rail', _.agency_primary.str.contains('Bay Area'))\n",
    "\n",
    "# old_stops >> filter(_.hqta_type == 'major_stop_rail', _.agency_primary.str.contains('Bay Area'))"
   ]
  },
  {
   "cell_type": "markdown",
   "id": "12675418-b750-4c40-9caa-cb41ffb50097",
   "metadata": {},
   "source": [
    "## Finding Amtrak\n",
    "\n",
    "* Present for dates on/after Oct 21, 2024!"
   ]
  },
  {
   "cell_type": "code",
   "execution_count": null,
   "id": "528fdf4a-0706-499b-b0ae-7d43a9806eb2",
   "metadata": {},
   "outputs": [],
   "source": [
    "# (new_stops >> filter(_.hqta_type == 'major_stop_rail')).explore()"
   ]
  }
 ],
 "metadata": {
  "kernelspec": {
   "display_name": "Python 3 (ipykernel)",
   "language": "python",
   "name": "python3"
  },
  "language_info": {
   "codemirror_mode": {
    "name": "ipython",
    "version": 3
   },
   "file_extension": ".py",
   "mimetype": "text/x-python",
   "name": "python",
   "nbconvert_exporter": "python",
   "pygments_lexer": "ipython3",
   "version": "3.9.13"
  },
  "widgets": {
   "application/vnd.jupyter.widget-state+json": {
    "state": {},
    "version_major": 2,
    "version_minor": 0
   }
  }
 },
 "nbformat": 4,
 "nbformat_minor": 5
}
