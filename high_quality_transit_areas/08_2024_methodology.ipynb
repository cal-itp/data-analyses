{
 "cells": [
  {
   "cell_type": "code",
   "execution_count": 1,
   "id": "5bbd8694-444f-48c0-89a0-00c5c0e542c8",
   "metadata": {},
   "outputs": [],
   "source": [
    "import geopandas as gpd\n",
    "import pandas as pd\n",
    "from siuba import *\n",
    "\n",
    "from segment_speed_utils import helpers, gtfs_schedule_wrangling\n",
    "from shared_utils import rt_dates, gtfs_utils_v2\n",
    "import folium"
   ]
  },
  {
   "cell_type": "code",
   "execution_count": 2,
   "id": "994a67bc-1cbe-4477-ac3b-cbe0f7e4822e",
   "metadata": {},
   "outputs": [],
   "source": [
    "from update_vars import analysis_date, AM_PEAK, PM_PEAK, EXPORT_PATH, GCS_FILE_PATH"
   ]
  },
  {
   "cell_type": "code",
   "execution_count": 3,
   "id": "b263f2d3-1aa3-4576-aac6-a800f12cca19",
   "metadata": {},
   "outputs": [],
   "source": [
    "import sjoin_stops_to_segments"
   ]
  },
  {
   "cell_type": "code",
   "execution_count": 4,
   "id": "fd40c5c1-6d79-4bb0-87bd-18c9053af24b",
   "metadata": {},
   "outputs": [
    {
     "data": {
      "text/plain": [
       "'2024-09-18'"
      ]
     },
     "execution_count": 4,
     "metadata": {},
     "output_type": "execute_result"
    }
   ],
   "source": [
    "analysis_date"
   ]
  },
  {
   "cell_type": "code",
   "execution_count": 5,
   "id": "0b6f850f-6038-4687-bd22-68552334fd2b",
   "metadata": {},
   "outputs": [],
   "source": [
    "# (1) Aggregate stop times - by stop_id, find max trips in AM/PM peak\n",
    "# takes 1 min\n",
    "max_arrivals_by_stop = helpers.import_scheduled_stop_times(\n",
    "    analysis_date,\n",
    "    get_pandas = True,\n",
    ").pipe(sjoin_stops_to_segments.prep_stop_times).pipe(sjoin_stops_to_segments.stop_times_aggregation_max_by_stop, analysis_date)"
   ]
  },
  {
   "cell_type": "code",
   "execution_count": 6,
   "id": "d9772373-43a4-40c4-b7c6-b0550cbb9ad0",
   "metadata": {},
   "outputs": [],
   "source": [
    "# (1) Aggregate stop times - by stop_id, find max trips in AM/PM peak\n",
    "# takes 1 min\n",
    "max_arrivals_by_stop_single = helpers.import_scheduled_stop_times(\n",
    "    analysis_date,\n",
    "    get_pandas = True,\n",
    ").pipe(sjoin_stops_to_segments.prep_stop_times).pipe(\n",
    "    sjoin_stops_to_segments.stop_times_aggregation_max_by_stop, analysis_date, single_route_dir=True)"
   ]
  },
  {
   "cell_type": "code",
   "execution_count": 7,
   "id": "23295ce6-a2c8-4fdd-b849-0d21183b362b",
   "metadata": {},
   "outputs": [],
   "source": [
    "new_hq_multi = max_arrivals_by_stop >> filter(_.am_max_trips_hr > 4, _.pm_max_trips_hr > 4) #  new HQ corridor (still multi-route)\n",
    "new_ms_multi = max_arrivals_by_stop >> filter(_.am_max_trips_hr > 3, _.pm_max_trips_hr > 3) #  new major stop precursor (still multi-route)\n",
    "new_hq_single = max_arrivals_by_stop_single >> filter(_.am_max_trips_hr > 4, _.pm_max_trips_hr > 4) #  new HQ corridor (single-route)\n",
    "new_ms_single = max_arrivals_by_stop_single >> filter(_.am_max_trips_hr > 3, _.pm_max_trips_hr > 3) #  new major stop precursor (single-route)"
   ]
  },
  {
   "cell_type": "markdown",
   "id": "92977e9b-bb4d-4455-9178-7d8f03a174b5",
   "metadata": {
    "tags": []
   },
   "source": [
    "## preliminary mapping\n",
    "\n",
    "* add bus/rail/ferry MTS in orange to help decide"
   ]
  },
  {
   "cell_type": "code",
   "execution_count": 8,
   "id": "663c2e6f-6a31-40f4-8e3d-f03d290429f7",
   "metadata": {},
   "outputs": [],
   "source": [
    "OLD_EXPORT_PATH = f\"{GCS_FILE_PATH}export/{rt_dates.DATES['aug2024']}/\""
   ]
  },
  {
   "cell_type": "code",
   "execution_count": 9,
   "id": "5fa753c4-0c9e-4cab-836f-36e68287ee28",
   "metadata": {},
   "outputs": [],
   "source": [
    "old_hq_points = gpd.read_parquet(f'{OLD_EXPORT_PATH}ca_hq_transit_stops.parquet')"
   ]
  },
  {
   "cell_type": "code",
   "execution_count": 10,
   "id": "ee6b8713-26b8-40bd-8f64-7964ea70e4eb",
   "metadata": {},
   "outputs": [],
   "source": [
    "non_bus = old_hq_points >> filter(-_.hqta_type.isin(['hq_corridor_bus', 'major_stop_bus']))"
   ]
  },
  {
   "cell_type": "code",
   "execution_count": 11,
   "id": "70431fa2-4856-4f83-b67b-92f802809398",
   "metadata": {},
   "outputs": [],
   "source": [
    "feeds = (gtfs_utils_v2.schedule_daily_feed_to_gtfs_dataset_name(selected_date=analysis_date)\n",
    "         >> select(_.feed_key, _.schedule_gtfs_dataset_key == _.gtfs_dataset_key)\n",
    "         >> filter(_.schedule_gtfs_dataset_key.isin(max_arrivals_by_stop.schedule_gtfs_dataset_key))\n",
    "        )"
   ]
  },
  {
   "cell_type": "code",
   "execution_count": 12,
   "id": "b2a77335-5940-4527-8457-ce6ac27c9f39",
   "metadata": {},
   "outputs": [
    {
     "name": "stderr",
     "output_type": "stream",
     "text": [
      "/opt/conda/lib/python3.9/site-packages/sqlalchemy_bigquery/_types.py:101: SAWarning: Did not recognize type 'GEOGRAPHY' of column 'pt_geom'\n",
      "  sqlalchemy.util.warn(\n"
     ]
    }
   ],
   "source": [
    "stops = gtfs_utils_v2.get_stops(selected_date=analysis_date, operator_feeds=feeds.feed_key,\n",
    "                       stop_cols=['feed_key', 'stop_id'])"
   ]
  },
  {
   "cell_type": "code",
   "execution_count": 13,
   "id": "6633dce1-42ef-4e86-9af0-8305b904e0e6",
   "metadata": {},
   "outputs": [],
   "source": [
    "stops = stops >> inner_join(_, feeds, on='feed_key')"
   ]
  },
  {
   "cell_type": "code",
   "execution_count": 14,
   "id": "2f9d4f2e-e955-41d1-b97f-cb2ff0e2f3a4",
   "metadata": {},
   "outputs": [],
   "source": [
    "def add_to_map(test_df, m=None, **kwargs):\n",
    "    gdf = stops >> inner_join(_, test_df, on=['schedule_gtfs_dataset_key', 'stop_id'])\n",
    "    m = gdf.explore(m = m, **kwargs)\n",
    "    return m"
   ]
  },
  {
   "cell_type": "code",
   "execution_count": 15,
   "id": "3ed52cda-d707-4ff4-abae-95331c133988",
   "metadata": {},
   "outputs": [
    {
     "ename": "NameError",
     "evalue": "name 'm' is not defined",
     "output_type": "error",
     "traceback": [
      "\u001b[0;31m---------------------------------------------------------------------------\u001b[0m",
      "\u001b[0;31mNameError\u001b[0m                                 Traceback (most recent call last)",
      "Cell \u001b[0;32mIn[15], line 2\u001b[0m\n\u001b[1;32m      1\u001b[0m m1 \u001b[38;5;241m=\u001b[39m old_hq_points\u001b[38;5;241m.\u001b[39mexplore(color\u001b[38;5;241m=\u001b[39m\u001b[38;5;124m'\u001b[39m\u001b[38;5;124mblue\u001b[39m\u001b[38;5;124m'\u001b[39m)\n\u001b[0;32m----> 2\u001b[0m m1 \u001b[38;5;241m=\u001b[39m non_bus\u001b[38;5;241m.\u001b[39mexplore(m \u001b[38;5;241m=\u001b[39m \u001b[43mm\u001b[49m, color\u001b[38;5;241m=\u001b[39m\u001b[38;5;124m'\u001b[39m\u001b[38;5;124morange\u001b[39m\u001b[38;5;124m'\u001b[39m)\n",
      "\u001b[0;31mNameError\u001b[0m: name 'm' is not defined"
     ]
    }
   ],
   "source": [
    "m1 = old_hq_points.explore(color='blue')\n",
    "m1 = non_bus.explore(m = m, color='orange')"
   ]
  },
  {
   "cell_type": "code",
   "execution_count": null,
   "id": "00188b90-31be-40bf-9c66-c5ecd0e28514",
   "metadata": {},
   "outputs": [],
   "source": [
    "m1 = add_to_map(new_hq_multi, m=m1, color='green')"
   ]
  },
  {
   "cell_type": "code",
   "execution_count": null,
   "id": "b547f7cb-3efc-4558-987f-c27db0957f8c",
   "metadata": {},
   "outputs": [],
   "source": [
    "m1 = add_to_map(new_hq_single, m=m1, color='red')"
   ]
  },
  {
   "cell_type": "code",
   "execution_count": null,
   "id": "42c0505c-456f-41b3-80ac-2d0673ae8c6d",
   "metadata": {},
   "outputs": [],
   "source": [
    "folium.LayerControl().add_to(m1);"
   ]
  },
  {
   "cell_type": "code",
   "execution_count": null,
   "id": "7af76c43-60e7-4220-a4ce-1ef82b1aaaf0",
   "metadata": {},
   "outputs": [],
   "source": [
    "m1"
   ]
  },
  {
   "cell_type": "markdown",
   "id": "ade435a2-6a54-4833-8f76-8ca5bc35b2a9",
   "metadata": {
    "tags": []
   },
   "source": [
    "## major stops"
   ]
  },
  {
   "cell_type": "code",
   "execution_count": null,
   "id": "6d016523-2a2f-4c84-a7fc-97d2aa63ca9d",
   "metadata": {},
   "outputs": [],
   "source": [
    "m = old_hq_points.explore(color='blue')\n",
    "m = non_bus.explore(m = m, color='orange')"
   ]
  },
  {
   "cell_type": "code",
   "execution_count": null,
   "id": "42ebce25-f799-4bd8-8299-affd3d28ddeb",
   "metadata": {},
   "outputs": [],
   "source": [
    "m = add_to_map(new_ms_multi, m=m, color='green')"
   ]
  },
  {
   "cell_type": "code",
   "execution_count": null,
   "id": "f7aba8a7-17b8-4a42-a75a-d2bdfe4613ed",
   "metadata": {},
   "outputs": [],
   "source": [
    "m = add_to_map(new_ms_single, m=m, color='red')"
   ]
  },
  {
   "cell_type": "code",
   "execution_count": null,
   "id": "aa30677f-1142-4a21-a4d3-b2e034a92826",
   "metadata": {},
   "outputs": [],
   "source": [
    "folium.LayerControl().add_to(m);"
   ]
  },
  {
   "cell_type": "code",
   "execution_count": null,
   "id": "e412a100-b5d8-495d-9dc1-b445af385802",
   "metadata": {
    "tags": []
   },
   "outputs": [],
   "source": [
    "m"
   ]
  },
  {
   "cell_type": "markdown",
   "id": "37599b82-0cde-4835-81f7-ae752ae02f53",
   "metadata": {},
   "source": [
    "# next step: intersections"
   ]
  },
  {
   "cell_type": "code",
   "execution_count": null,
   "id": "1381991e-2fcd-4157-8632-5f146ae5a77a",
   "metadata": {},
   "outputs": [],
   "source": []
  }
 ],
 "metadata": {
  "kernelspec": {
   "display_name": "Python 3 (ipykernel)",
   "language": "python",
   "name": "python3"
  },
  "language_info": {
   "codemirror_mode": {
    "name": "ipython",
    "version": 3
   },
   "file_extension": ".py",
   "mimetype": "text/x-python",
   "name": "python",
   "nbconvert_exporter": "python",
   "pygments_lexer": "ipython3",
   "version": "3.9.13"
  },
  "widgets": {
   "application/vnd.jupyter.widget-state+json": {
    "state": {},
    "version_major": 2,
    "version_minor": 0
   }
  }
 },
 "nbformat": 4,
 "nbformat_minor": 5
}
