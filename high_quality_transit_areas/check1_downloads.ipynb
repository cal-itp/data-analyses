{
 "cells": [
  {
   "cell_type": "markdown",
   "id": "08f82968-a8b5-42c3-919a-f8f2028b9c8a",
   "metadata": {},
   "source": [
    "# Check: initial downloads\n",
    "\n",
    "Make maps to see that rail/ferry/brt all show up correctly."
   ]
  },
  {
   "cell_type": "code",
   "execution_count": null,
   "id": "ecdd335a-be94-4a11-aaca-24a43a3b9756",
   "metadata": {},
   "outputs": [],
   "source": [
    "import os\n",
    "os.environ[\"CALITP_BQ_MAX_BYTES\"] = str(100_000_000_000)\n",
    "\n",
    "import geopandas as gpd\n",
    "import pandas as pd\n",
    "\n",
    "from IPython.display import Markdown\n",
    "\n",
    "from update_vars import analysis_date\n",
    "\n",
    "# Map arguments\n",
    "TILES = \"Carto DB Positron\""
   ]
  },
  {
   "cell_type": "code",
   "execution_count": null,
   "id": "573004b2-659d-4930-97b9-3f333a7ab8d8",
   "metadata": {},
   "outputs": [],
   "source": [
    "def make_map(gdf, plot_col):\n",
    "    if \"service_date\" in gdf.columns:\n",
    "        gdf = gdf.drop(columns = \"service_date\")\n",
    "        \n",
    "    m = gdf.explore(plot_col, categorical = True, tiles = TILES)\n",
    "    \n",
    "    display(m)"
   ]
  },
  {
   "cell_type": "markdown",
   "id": "c27ae680-8516-46f9-98be-92ce69a20007",
   "metadata": {},
   "source": [
    "## After `A1_download_rail_ferry_brt`\n",
    "\n",
    "* There are some stops to remove. \n",
    "* Once finalized, can run `A2_combine_stops`"
   ]
  },
  {
   "cell_type": "code",
   "execution_count": null,
   "id": "8b6b210b-c407-4ca1-a1dd-60db104aec92",
   "metadata": {},
   "outputs": [],
   "source": [
    "import A1_download_rail_ferry_brt_stops as rail_ferry_brt"
   ]
  },
  {
   "cell_type": "markdown",
   "id": "99d703a2-80fd-4ade-bc45-b6d36113892c",
   "metadata": {},
   "source": [
    "### LA Metro (182)"
   ]
  },
  {
   "cell_type": "code",
   "execution_count": null,
   "id": "a5cf0189-b403-48b0-a0ab-12d3ae2ea91f",
   "metadata": {},
   "outputs": [],
   "source": [
    "metro_brt_stops = rail_ferry_brt.grab_operator_brt(182, analysis_date)"
   ]
  },
  {
   "cell_type": "code",
   "execution_count": null,
   "id": "eafb7cf4-f20e-4409-a55d-eac9c9fb9b21",
   "metadata": {},
   "outputs": [],
   "source": [
    "make_map(metro_brt_stops, \"route_id\")"
   ]
  },
  {
   "cell_type": "code",
   "execution_count": null,
   "id": "bff0b20b-b694-4fbf-b2a9-8e0003100593",
   "metadata": {},
   "outputs": [],
   "source": [
    "from A2_combine_stops import metro_street_running\n",
    "\n",
    "metro_brt_stops2 = rail_ferry_brt.additional_brt_filtering_out_stops(\n",
    "    metro_brt_stops, 182, metro_street_running)"
   ]
  },
  {
   "cell_type": "code",
   "execution_count": null,
   "id": "7948a5cc-d0fa-4979-9747-473912fc4e55",
   "metadata": {},
   "outputs": [],
   "source": [
    "make_map(metro_brt_stops2, \"route_id\")"
   ]
  },
  {
   "cell_type": "markdown",
   "id": "1c53ad6b-baf6-4b92-9065-e3d91ac91d93",
   "metadata": {},
   "source": [
    "### SF Muni (282)"
   ]
  },
  {
   "cell_type": "code",
   "execution_count": null,
   "id": "ceae1b99-ae92-4e3c-a763-edd7e29bfa3d",
   "metadata": {},
   "outputs": [],
   "source": [
    "muni_brt_stops = rail_ferry_brt.grab_operator_brt(282, analysis_date)"
   ]
  },
  {
   "cell_type": "code",
   "execution_count": null,
   "id": "1a3829f0-62cf-4383-894d-f01188638157",
   "metadata": {},
   "outputs": [],
   "source": [
    "make_map(muni_brt_stops, \"route_id\")"
   ]
  },
  {
   "cell_type": "code",
   "execution_count": null,
   "id": "c1b48020-8229-480e-82d3-2eed761e4356",
   "metadata": {},
   "outputs": [],
   "source": [
    "from A2_combine_stops import van_ness_ids\n",
    "\n",
    "muni_brt_stops2 = rail_ferry_brt.additional_brt_filtering_out_stops(\n",
    "        muni_brt_stops, 282, van_ness_ids)"
   ]
  },
  {
   "cell_type": "code",
   "execution_count": null,
   "id": "d4b93ddd-1b85-4cbe-a2a1-c894db5d4017",
   "metadata": {},
   "outputs": [],
   "source": [
    "make_map(muni_brt_stops2, \"route_id\")"
   ]
  },
  {
   "cell_type": "markdown",
   "id": "635410b7-55e6-4025-a30c-539dee55a7d6",
   "metadata": {},
   "source": [
    "### AC Transit (4)"
   ]
  },
  {
   "cell_type": "code",
   "execution_count": null,
   "id": "4e87840a-4f37-4f2a-8d8a-85812fe8410e",
   "metadata": {},
   "outputs": [],
   "source": [
    "act_brt_stops = rail_ferry_brt.grab_operator_brt(4, analysis_date)"
   ]
  },
  {
   "cell_type": "code",
   "execution_count": null,
   "id": "7a88fb7d-bda2-4b79-9fbf-d39e188f8352",
   "metadata": {},
   "outputs": [],
   "source": [
    "make_map(act_brt_stops, \"route_id\")"
   ]
  },
  {
   "cell_type": "markdown",
   "id": "c0ca6814-991a-4689-9de8-c0a1911bc9e2",
   "metadata": {},
   "source": [
    "## After `A3_rail_ferry_brt_extract`\n",
    "\n",
    "#### BRT Service likely meeting [PRC 21060.2](https://leginfo.legislature.ca.gov/faces/codes_displaySection.xhtml?lawCode=PRC&sectionNum=21060.2.&highlight=true&keyword=bus%20rapid%20transit) definition:\n",
    "\n",
    "* LA Metro Orange, Silver excluding street running (stop flags only)\n",
    "* ~~Omnitrans sbX, all stops (curbside stations are well-defined, with fare prepayment)~~\n",
    "    * insufficient frequency 5/16\n",
    "* AC Transit Tempo, all stops (curbside stations are well-defined, with fare prepayment)"
   ]
  },
  {
   "cell_type": "code",
   "execution_count": null,
   "id": "4ddca815-b484-45eb-bdaf-5f30236038d3",
   "metadata": {},
   "outputs": [],
   "source": [
    "import A3_rail_ferry_brt_extract as A3\n",
    "\n",
    "stops = A3.get_rail_ferry_brt_extract()"
   ]
  },
  {
   "cell_type": "code",
   "execution_count": null,
   "id": "5351b749-106b-4b4b-aa67-aa76bad06ca2",
   "metadata": {},
   "outputs": [],
   "source": [
    "hqta_types = list(stops.hqta_type.unique().compute())"
   ]
  },
  {
   "cell_type": "code",
   "execution_count": null,
   "id": "72b13f4a-313b-45fe-b420-3bb656c2fd25",
   "metadata": {},
   "outputs": [],
   "source": [
    "for i in hqta_types:\n",
    "    subset = stops[stops.hqta_type==i].compute()\n",
    "    \n",
    "    display(Markdown(f\"### HQTA Type: {i}\"))\n",
    "    \n",
    "    make_map(subset, \"calitp_itp_id_primary\")"
   ]
  },
  {
   "cell_type": "code",
   "execution_count": null,
   "id": "5dc0b6aa-4e52-4c56-9d44-a9818b2890b2",
   "metadata": {},
   "outputs": [],
   "source": []
  }
 ],
 "metadata": {
  "kernelspec": {
   "display_name": "Python 3 (ipykernel)",
   "language": "python",
   "name": "python3"
  },
  "language_info": {
   "codemirror_mode": {
    "name": "ipython",
    "version": 3
   },
   "file_extension": ".py",
   "mimetype": "text/x-python",
   "name": "python",
   "nbconvert_exporter": "python",
   "pygments_lexer": "ipython3",
   "version": "3.10.6"
  }
 },
 "nbformat": 4,
 "nbformat_minor": 5
}
