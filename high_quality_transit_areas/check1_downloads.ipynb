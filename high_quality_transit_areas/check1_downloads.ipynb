{
 "cells": [
  {
   "cell_type": "markdown",
   "id": "08f82968-a8b5-42c3-919a-f8f2028b9c8a",
   "metadata": {},
   "source": [
    "# Check: initial downloads\n",
    "\n",
    "Make maps to see that rail/ferry/brt all show up correctly."
   ]
  },
  {
   "cell_type": "code",
   "execution_count": null,
   "id": "ecdd335a-be94-4a11-aaca-24a43a3b9756",
   "metadata": {},
   "outputs": [],
   "source": [
    "import geopandas as gpd\n",
    "import pandas as pd\n",
    "\n",
    "from IPython.display import Markdown\n",
    "\n",
    "from update_vars import analysis_date, TEMP_GCS\n",
    "\n",
    "# Map arguments\n",
    "TILES = \"Carto DB Positron\""
   ]
  },
  {
   "cell_type": "code",
   "execution_count": null,
   "id": "573004b2-659d-4930-97b9-3f333a7ab8d8",
   "metadata": {},
   "outputs": [],
   "source": [
    "def make_map(gdf, plot_col):\n",
    "    date_cols = [c for c in gdf.columns if \n",
    "                 gdf[c].dtype == 'datetime64[ns]']\n",
    "\n",
    "    gdf = gdf.drop(columns = date_cols)\n",
    "        \n",
    "    m = gdf.explore(plot_col, categorical = True, tiles = TILES)\n",
    "    \n",
    "    display(m)"
   ]
  },
  {
   "cell_type": "markdown",
   "id": "c27ae680-8516-46f9-98be-92ce69a20007",
   "metadata": {},
   "source": [
    "## After `A1_download_rail_ferry_brt`\n",
    "\n",
    "* There are some stops to remove. \n",
    "* Once finalized, can run `A2_combine_stops`"
   ]
  },
  {
   "cell_type": "code",
   "execution_count": null,
   "id": "22f1a4b9-6846-4d48-a4ba-70fa4006f155",
   "metadata": {},
   "outputs": [],
   "source": [
    "import A1_download_rail_ferry_brt_stops as rail_ferry_brt"
   ]
  },
  {
   "cell_type": "markdown",
   "id": "99d703a2-80fd-4ade-bc45-b6d36113892c",
   "metadata": {},
   "source": [
    "### LA Metro (182)"
   ]
  },
  {
   "cell_type": "code",
   "execution_count": null,
   "id": "a5cf0189-b403-48b0-a0ab-12d3ae2ea91f",
   "metadata": {},
   "outputs": [],
   "source": [
    "brt_stops = gpd.read_parquet(f\"{TEMP_GCS}brt_stops.parquet\")"
   ]
  },
  {
   "cell_type": "code",
   "execution_count": null,
   "id": "9bd567f3-f31d-4455-b4d3-b18369b40b0c",
   "metadata": {},
   "outputs": [],
   "source": [
    "from A2_combine_stops import BRT_STOPS_FILTER\n",
    "\n",
    "brt_stops_filtered = rail_ferry_brt.additional_brt_filtering_out_stops(\n",
    "    brt_stops, BRT_STOPS_FILTER\n",
    ")"
   ]
  },
  {
   "cell_type": "code",
   "execution_count": null,
   "id": "eafb7cf4-f20e-4409-a55d-eac9c9fb9b21",
   "metadata": {},
   "outputs": [],
   "source": [
    "name = \"LA Metro Bus Schedule\"\n",
    "make_map(brt_stops[brt_stops.name==name], \"route_id\")"
   ]
  },
  {
   "cell_type": "code",
   "execution_count": null,
   "id": "7948a5cc-d0fa-4979-9747-473912fc4e55",
   "metadata": {},
   "outputs": [],
   "source": [
    "make_map(brt_stops_filtered[brt_stops_filtered.name==name], \n",
    "         \"route_id\")"
   ]
  },
  {
   "cell_type": "markdown",
   "id": "1c53ad6b-baf6-4b92-9065-e3d91ac91d93",
   "metadata": {},
   "source": [
    "### SF Muni (282)"
   ]
  },
  {
   "cell_type": "code",
   "execution_count": null,
   "id": "1a3829f0-62cf-4383-894d-f01188638157",
   "metadata": {},
   "outputs": [],
   "source": [
    "name = \"Bay Area 511 Muni Schedule\"\n",
    "make_map(brt_stops[brt_stops.name==name], \"route_id\")"
   ]
  },
  {
   "cell_type": "code",
   "execution_count": null,
   "id": "d4b93ddd-1b85-4cbe-a2a1-c894db5d4017",
   "metadata": {},
   "outputs": [],
   "source": [
    "make_map(brt_stops_filtered[brt_stops_filtered.name==name], \n",
    "         \"route_id\")"
   ]
  },
  {
   "cell_type": "markdown",
   "id": "635410b7-55e6-4025-a30c-539dee55a7d6",
   "metadata": {},
   "source": [
    "### AC Transit (4)"
   ]
  },
  {
   "cell_type": "code",
   "execution_count": null,
   "id": "7a88fb7d-bda2-4b79-9fbf-d39e188f8352",
   "metadata": {},
   "outputs": [],
   "source": [
    "name = \"Bay Area 511 AC Transit Schedule\"\n",
    "make_map(brt_stops[brt_stops.name==name], \"route_id\")"
   ]
  },
  {
   "cell_type": "markdown",
   "id": "c0ca6814-991a-4689-9de8-c0a1911bc9e2",
   "metadata": {},
   "source": [
    "## After `A3_rail_ferry_brt_extract`\n",
    "\n",
    "#### BRT Service likely meeting [PRC 21060.2](https://leginfo.legislature.ca.gov/faces/codes_displaySection.xhtml?lawCode=PRC&sectionNum=21060.2.&highlight=true&keyword=bus%20rapid%20transit) definition:\n",
    "\n",
    "* LA Metro Orange, Silver excluding street running (stop flags only)\n",
    "* ~~Omnitrans sbX, all stops (curbside stations are well-defined, with fare prepayment)~~\n",
    "    * insufficient frequency 5/16\n",
    "* AC Transit Tempo, all stops (curbside stations are well-defined, with fare prepayment)"
   ]
  },
  {
   "cell_type": "code",
   "execution_count": null,
   "id": "4ddca815-b484-45eb-bdaf-5f30236038d3",
   "metadata": {},
   "outputs": [],
   "source": [
    "import A3_rail_ferry_brt_extract as A3\n",
    "\n",
    "stops = A3.get_rail_ferry_brt_extract()"
   ]
  },
  {
   "cell_type": "code",
   "execution_count": null,
   "id": "5351b749-106b-4b4b-aa67-aa76bad06ca2",
   "metadata": {},
   "outputs": [],
   "source": [
    "hqta_types = list(stops.hqta_type.unique())"
   ]
  },
  {
   "cell_type": "code",
   "execution_count": null,
   "id": "72b13f4a-313b-45fe-b420-3bb656c2fd25",
   "metadata": {},
   "outputs": [],
   "source": [
    "for i in hqta_types:\n",
    "    subset = stops[stops.hqta_type==i]\n",
    "    \n",
    "    display(Markdown(f\"### HQTA Type: {i}\"))\n",
    "    \n",
    "    make_map(subset, \"name_primary\")"
   ]
  },
  {
   "cell_type": "code",
   "execution_count": null,
   "id": "5dc0b6aa-4e52-4c56-9d44-a9818b2890b2",
   "metadata": {},
   "outputs": [],
   "source": []
  }
 ],
 "metadata": {
  "kernelspec": {
   "display_name": "Python 3 (ipykernel)",
   "language": "python",
   "name": "python3"
  },
  "language_info": {
   "codemirror_mode": {
    "name": "ipython",
    "version": 3
   },
   "file_extension": ".py",
   "mimetype": "text/x-python",
   "name": "python",
   "nbconvert_exporter": "python",
   "pygments_lexer": "ipython3",
   "version": "3.9.13"
  }
 },
 "nbformat": 4,
 "nbformat_minor": 5
}
