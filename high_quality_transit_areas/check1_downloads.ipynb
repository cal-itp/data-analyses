{
 "cells": [
  {
   "cell_type": "markdown",
   "id": "08f82968-a8b5-42c3-919a-f8f2028b9c8a",
   "metadata": {},
   "source": [
    "# Check: initial downloads\n",
    "\n",
    "Make maps to see that rail/ferry/brt all show up correctly."
   ]
  },
  {
   "cell_type": "code",
   "execution_count": null,
   "id": "ecdd335a-be94-4a11-aaca-24a43a3b9756",
   "metadata": {},
   "outputs": [],
   "source": [
    "import geopandas as gpd\n",
    "import pandas as pd\n",
    "\n",
    "from IPython.display import Markdown\n",
    "\n",
    "from segment_speed_utils import helpers\n",
    "from update_vars import analysis_date, GCS_FILE_PATH\n",
    "\n",
    "# Map arguments\n",
    "TILES = \"Carto DB Positron\""
   ]
  },
  {
   "cell_type": "code",
   "execution_count": null,
   "id": "573004b2-659d-4930-97b9-3f333a7ab8d8",
   "metadata": {},
   "outputs": [],
   "source": [
    "def make_map(gdf, plot_col):\n",
    "    date_cols = [c for c in gdf.columns if \n",
    "                 gdf[c].dtype == 'datetime64[ns]']\n",
    "\n",
    "    gdf = gdf.drop(columns = date_cols)\n",
    "        \n",
    "    m = gdf.explore(plot_col, categorical = True, tiles = TILES)\n",
    "    \n",
    "    display(m)"
   ]
  },
  {
   "cell_type": "code",
   "execution_count": null,
   "id": "5351b749-106b-4b4b-aa67-aa76bad06ca2",
   "metadata": {},
   "outputs": [],
   "source": [
    "stops = gpd.read_parquet(\n",
    "    f\"{GCS_FILE_PATH}rail_brt_ferry.parquet\"\n",
    ")\n",
    "\n",
    "hqta_types = list(stops.hqta_type.unique())"
   ]
  },
  {
   "cell_type": "code",
   "execution_count": null,
   "id": "72b13f4a-313b-45fe-b420-3bb656c2fd25",
   "metadata": {},
   "outputs": [],
   "source": [
    "for i in hqta_types:\n",
    "    display(Markdown(f\"### HQTA Type: {i}\"))\n",
    "    \n",
    "    make_map(stops[stops.hqta_type==i], \"route_id\")"
   ]
  },
  {
   "cell_type": "code",
   "execution_count": null,
   "id": "5dc0b6aa-4e52-4c56-9d44-a9818b2890b2",
   "metadata": {},
   "outputs": [],
   "source": []
  }
 ],
 "metadata": {
  "kernelspec": {
   "display_name": "Python 3 (ipykernel)",
   "language": "python",
   "name": "python3"
  },
  "language_info": {
   "codemirror_mode": {
    "name": "ipython",
    "version": 3
   },
   "file_extension": ".py",
   "mimetype": "text/x-python",
   "name": "python",
   "nbconvert_exporter": "python",
   "pygments_lexer": "ipython3",
   "version": "3.9.13"
  }
 },
 "nbformat": 4,
 "nbformat_minor": 5
}
