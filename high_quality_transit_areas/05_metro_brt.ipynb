{
 "cells": [
  {
   "cell_type": "markdown",
   "id": "52315a5f-7fee-424c-bf8e-e961ad5c6de3",
   "metadata": {},
   "source": [
    "## Metro BRT\n",
    "\n",
    "Take a look at Metro's J Line and pick out stops that run on the street but have bus lanes. These will be included as BRT.\n",
    "\n",
    "We will still use a list of stops to exclude, pare down the street running stops to stops that do not occur on bus lanes."
   ]
  },
  {
   "cell_type": "code",
   "execution_count": null,
   "id": "3d541785-6ba4-43b0-9f8c-575e18a9e5f5",
   "metadata": {},
   "outputs": [],
   "source": [
    "import folium\n",
    "import geopandas as gpd\n",
    "import pandas as pd\n",
    "\n",
    "from segment_speed_utils import helpers\n",
    "from update_vars import analysis_date, TEMP_GCS"
   ]
  },
  {
   "cell_type": "code",
   "execution_count": null,
   "id": "9fac7374-5ea2-4abc-ba83-2fcd7f105fbb",
   "metadata": {},
   "outputs": [],
   "source": [
    "from shared_utils import rt_utils\n",
    "\n",
    "metro = \"LA Metro Bus Schedule\"\n",
    "\n",
    "brt_stops = gpd.read_parquet(\n",
    "    f\"{rt_utils.GCS_FILE_PATH}temp/brt_stops.parquet\",\n",
    "    filters = [[(\"name\", \"==\", metro)]]\n",
    ")"
   ]
  },
  {
   "cell_type": "code",
   "execution_count": null,
   "id": "0a4395bb-8a48-4ced-968d-b793501a98fe",
   "metadata": {},
   "outputs": [],
   "source": [
    "trips = helpers.import_scheduled_trips(\n",
    "    analysis_date,\n",
    "    filters = [[(\"name\", \"==\", metro),\n",
    "                (\"route_desc\", \"in\", [\"METRO G LINE\", \"METRO J LINE\"])\n",
    "               ]],\n",
    "    columns = [\"shape_array_key\", \"route_id\", \"route_desc\", \"direction_id\"],\n",
    "    get_pandas = True\n",
    ").drop_duplicates(subset=[\"route_desc\", \"direction_id\"])\n",
    "\n",
    "shapes = helpers.import_scheduled_shapes(\n",
    "    analysis_date,\n",
    "    filters = [[(\"shape_array_key\", \"in\", trips.shape_array_key)]],\n",
    "    columns = [\"shape_array_key\", \"geometry\"],\n",
    "    get_pandas = True\n",
    ")"
   ]
  },
  {
   "cell_type": "code",
   "execution_count": null,
   "id": "90d0e294-435a-4465-ae15-1c99c71c6002",
   "metadata": {},
   "outputs": [],
   "source": [
    "m = brt_stops[\n",
    "        (brt_stops.name==metro) & \n",
    "        (brt_stops.route_id.str.contains(\"910\"))\n",
    "    ].explore(\"route_id\", name = \"stops\", tiles = \"CartoDB Positron\") \n",
    "\n",
    "m = shapes.explore(\n",
    "    \"shape_array_key\", \n",
    "    m=m, name = \"shape\", color=\"orange\"\n",
    ")\n",
    "\n",
    "folium.LayerControl().add_to(m)\n",
    "m"
   ]
  },
  {
   "cell_type": "code",
   "execution_count": null,
   "id": "5d75bbe7-3ae7-4c02-88f2-df8a47e36c53",
   "metadata": {},
   "outputs": [],
   "source": [
    "metro_j_exclude = [\n",
    "    # Grand DTLA - no bus lanes\n",
    "    '13560', '13561',\n",
    "    # 1st St DTLA\n",
    "    '5377', '15612',\n",
    "    # Spring St DTLA on grand park side...no bus lanes?\n",
    "    '12416',    \n",
    "    # Figueroa St Gardena/Carson before it gets onto 110\n",
    "    '65300038', '65300039',\n",
    "    # Beacon St Harbor Gateway area\n",
    "    '378', '3124', '3153', '2603', \n",
    "    # Pacific Ave Harbor Gateway area\n",
    "    '3821', '12304', '13817', '5408', '5410', '5411', \n",
    "    '13802', '5395', '13803', '5396', '13804', '5397',\n",
    "    '13805', '141012',\n",
    "]"
   ]
  },
  {
   "cell_type": "code",
   "execution_count": null,
   "id": "d3402e82-2927-43d2-a26b-249892287670",
   "metadata": {},
   "outputs": [],
   "source": [
    "m2 = brt_stops[\n",
    "    (brt_stops.name==metro) & \n",
    "    (brt_stops.route_id.str.contains(\"910\")) & \n",
    "    ~(brt_stops.stop_id.isin(metro_j_exclude))\n",
    "].explore(\"route_id\", name = \"stops\", tiles = \"CartoDB Positron\") \n",
    "\n",
    "m2 = shapes.explore(\n",
    "    \"shape_array_key\", \n",
    "    m=m2, name = \"shape\", color=\"orange\"\n",
    ")\n",
    "\n",
    "folium.LayerControl().add_to(m2)\n",
    "m2"
   ]
  },
  {
   "cell_type": "code",
   "execution_count": null,
   "id": "c091d81f-a879-4e46-8abb-7af5da2a95b0",
   "metadata": {},
   "outputs": [],
   "source": []
  }
 ],
 "metadata": {
  "kernelspec": {
   "display_name": "Python 3 (ipykernel)",
   "language": "python",
   "name": "python3"
  },
  "language_info": {
   "codemirror_mode": {
    "name": "ipython",
    "version": 3
   },
   "file_extension": ".py",
   "mimetype": "text/x-python",
   "name": "python",
   "nbconvert_exporter": "python",
   "pygments_lexer": "ipython3",
   "version": "3.9.13"
  }
 },
 "nbformat": 4,
 "nbformat_minor": 5
}
