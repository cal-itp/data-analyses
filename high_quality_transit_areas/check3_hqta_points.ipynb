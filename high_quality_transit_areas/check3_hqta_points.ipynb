{
 "cells": [
  {
   "cell_type": "markdown",
   "id": "cec8ccdd-5225-4814-b59a-a8d398062e35",
   "metadata": {},
   "source": [
    "# Check HQTA points / polygons\n",
    "\n",
    "## Dropping bad stops\n",
    "\n",
    "* Be more stringent about what `stop_id` to drop, since the same `stop_id` can be shared across operators. Also add in which operator.\n",
    "\n",
    "### Done in `D2_assemble_hqta_polygons`, but should also be added to `D1_assemble_hqta_points`\n"
   ]
  },
  {
   "cell_type": "code",
   "execution_count": null,
   "id": "1db65187-7341-4a82-89d8-00dc7667a6c7",
   "metadata": {},
   "outputs": [],
   "source": [
    "import geopandas as gpd\n",
    "import pandas as pd\n",
    "\n",
    "from IPython.display import Markdown\n",
    "\n",
    "from update_vars import GCS_FILE_PATH"
   ]
  },
  {
   "cell_type": "code",
   "execution_count": null,
   "id": "1c880d7b-ebb3-46c7-98f1-d724bdd802cb",
   "metadata": {},
   "outputs": [],
   "source": [
    "gdf = gpd.read_parquet(f\"{GCS_FILE_PATH}hqta_points.parquet\")"
   ]
  },
  {
   "cell_type": "code",
   "execution_count": null,
   "id": "ee3dad2e-935a-42b8-92af-7e7fae3d9248",
   "metadata": {},
   "outputs": [],
   "source": [
    "TILES = \"CartoDB Positron\"\n",
    "\n",
    "def make_map(gdf, plot_col):\n",
    "    if \"service_date\" in gdf.columns:\n",
    "        gdf = gdf.drop(columns = \"service_date\")\n",
    "        \n",
    "    m = gdf.explore(plot_col, categorical=True, tiles = TILES)\n",
    "    \n",
    "    display(m)"
   ]
  },
  {
   "cell_type": "markdown",
   "id": "b2c65042-a29d-4b1b-b996-f65d72a1dee9",
   "metadata": {},
   "source": [
    "## Check HQTA points"
   ]
  },
  {
   "cell_type": "code",
   "execution_count": null,
   "id": "392e4a7f-44e6-4fd3-b2f7-4b7e959632b8",
   "metadata": {},
   "outputs": [],
   "source": [
    "def check_for_missing(gdf):\n",
    "    check_cols = [\"hqta_type\", \"hqta_details\"]\n",
    "    for c in check_cols:\n",
    "        print(f\"column: {c}\")\n",
    "        print(gdf[c].value_counts())\n",
    "        display(gdf[gdf[c].isna()])\n",
    "    \n",
    "    for c in [\"base64_url_primary\"]:\n",
    "        print(f\"column: {c}\")\n",
    "        display(gdf[gdf[c].isna()])\n",
    "        \n",
    "    for c in [\"base64_url_secondary\"]:\n",
    "        print(f\"column: {c}\")\n",
    "        display(gdf[gdf[c].isna()].agency_secondary.value_counts())       "
   ]
  },
  {
   "cell_type": "code",
   "execution_count": null,
   "id": "7693b32e-6789-44ee-acb8-bcb480398d53",
   "metadata": {},
   "outputs": [],
   "source": [
    "check_for_missing(gdf)    "
   ]
  },
  {
   "cell_type": "code",
   "execution_count": null,
   "id": "153b0708-0634-43bd-a55e-1bb8d23389de",
   "metadata": {},
   "outputs": [],
   "source": [
    "hq_types = gdf.hqta_type.unique().tolist()\n",
    "\n",
    "for i in hq_types:\n",
    "    subset = gdf[gdf.hqta_type == i]\n",
    "    print(i)\n",
    "    print(subset.hqta_details.value_counts())"
   ]
  },
  {
   "cell_type": "code",
   "execution_count": null,
   "id": "f3589e57-ab97-4de6-8d52-3d0de8e84181",
   "metadata": {},
   "outputs": [],
   "source": [
    "for i in hq_types:\n",
    "    subset = gdf[gdf.hqta_type==i]\n",
    "    \n",
    "    m = make_map(subset, \"hqta_details\")\n",
    "    \n",
    "    display(m)"
   ]
  },
  {
   "cell_type": "markdown",
   "id": "443dda56-a349-4ce7-aaec-cda0ed752cbb",
   "metadata": {},
   "source": [
    "## Check HQTA polygons"
   ]
  },
  {
   "cell_type": "code",
   "execution_count": null,
   "id": "43dbe503-d5eb-4328-a066-63eb6147d2f7",
   "metadata": {},
   "outputs": [],
   "source": [
    "gdf = gpd.read_parquet(f\"{GCS_FILE_PATH}hqta_areas.parquet\")\n",
    "\n",
    "check_for_missing(gdf)    "
   ]
  },
  {
   "cell_type": "code",
   "execution_count": null,
   "id": "bad51289-6bb7-4965-84f5-41e22c374ce5",
   "metadata": {},
   "outputs": [],
   "source": [
    "hq_types = gdf.hqta_type.unique().tolist()\n",
    "\n",
    "for i in hq_types:\n",
    "    subset = gdf[gdf.hqta_type==i]\n",
    "    \n",
    "    m = make_map(subset, \"agency_primary\")\n",
    "    \n",
    "    display(m)"
   ]
  },
  {
   "cell_type": "code",
   "execution_count": null,
   "id": "41dcbec2-16a9-4d56-9f30-9b2e83bd2741",
   "metadata": {},
   "outputs": [],
   "source": []
  }
 ],
 "metadata": {
  "kernelspec": {
   "display_name": "Python 3 (ipykernel)",
   "language": "python",
   "name": "python3"
  },
  "language_info": {
   "codemirror_mode": {
    "name": "ipython",
    "version": 3
   },
   "file_extension": ".py",
   "mimetype": "text/x-python",
   "name": "python",
   "nbconvert_exporter": "python",
   "pygments_lexer": "ipython3",
   "version": "3.9.13"
  }
 },
 "nbformat": 4,
 "nbformat_minor": 5
}
