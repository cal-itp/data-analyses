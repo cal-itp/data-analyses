{
 "cells": [
  {
   "cell_type": "markdown",
   "id": "cec8ccdd-5225-4814-b59a-a8d398062e35",
   "metadata": {},
   "source": [
    "# Check HQTA points / polygons\n",
    "\n",
    "## Dropping bad stops\n",
    "\n",
    "* Be more stringent about what `stop_id` to drop, since the same `stop_id` can be shared across operators. Also add in which operator.\n",
    "\n",
    "### Done in `D2_assemble_hqta_polygons`, but should also be added to `D1_assemble_hqta_points`\n"
   ]
  },
  {
   "cell_type": "code",
   "execution_count": 1,
   "id": "1db65187-7341-4a82-89d8-00dc7667a6c7",
   "metadata": {},
   "outputs": [
    {
     "name": "stderr",
     "output_type": "stream",
     "text": [
      "/opt/conda/lib/python3.10/site-packages/geopandas/_compat.py:112: UserWarning: The Shapely GEOS version (3.10.3-CAPI-1.16.1) is incompatible with the GEOS version PyGEOS was compiled with (3.10.1-CAPI-1.16.0). Conversions between both will be slow.\n",
      "  warnings.warn(\n"
     ]
    }
   ],
   "source": [
    "import geopandas as gpd\n",
    "import pandas as pd\n",
    "\n",
    "from IPython.display import Markdown\n",
    "\n",
    "from utilities import GCS_FILE_PATH"
   ]
  },
  {
   "cell_type": "code",
   "execution_count": 2,
   "id": "1c880d7b-ebb3-46c7-98f1-d724bdd802cb",
   "metadata": {},
   "outputs": [],
   "source": [
    "gdf = gpd.read_parquet(f\"{GCS_FILE_PATH}hqta_points.parquet\")"
   ]
  },
  {
   "cell_type": "code",
   "execution_count": 3,
   "id": "71cff65b-0c80-475a-8cb2-c3f26284d6fe",
   "metadata": {},
   "outputs": [],
   "source": [
    "## drop incorrect HMB data, TODO investigate\n",
    "## drop incorrect Cheviot data, TODO investigate refactor (run shapes in frequency order...)\n",
    "bad_stops = ['315604', '315614', '689']"
   ]
  },
  {
   "cell_type": "code",
   "execution_count": 4,
   "id": "ee3dad2e-935a-42b8-92af-7e7fae3d9248",
   "metadata": {},
   "outputs": [],
   "source": [
    "TILES = \"Carto DB Positron\"\n",
    "\n",
    "def make_map(gdf, plot_col):\n",
    "    if \"service_date\" in gdf.columns:\n",
    "        gdf = gdf.drop(columns = \"service_date\")\n",
    "        \n",
    "    m = gdf.explore(plot_col, categorical=True, tiles = TILES)\n",
    "    \n",
    "    display(m)"
   ]
  },
  {
   "cell_type": "code",
   "execution_count": 5,
   "id": "02932e33-dd97-426d-b623-ded6dbd432a4",
   "metadata": {},
   "outputs": [
    {
     "name": "stdout",
     "output_type": "stream",
     "text": [
      "No observations of stop_id 315604\n",
      "No observations of stop_id 315614\n"
     ]
    },
    {
     "data": {
      "text/html": [
       "<div>\n",
       "<style scoped>\n",
       "    .dataframe tbody tr th:only-of-type {\n",
       "        vertical-align: middle;\n",
       "    }\n",
       "\n",
       "    .dataframe tbody tr th {\n",
       "        vertical-align: top;\n",
       "    }\n",
       "\n",
       "    .dataframe thead th {\n",
       "        text-align: right;\n",
       "    }\n",
       "</style>\n",
       "<table border=\"1\" class=\"dataframe\">\n",
       "  <thead>\n",
       "    <tr style=\"text-align: right;\">\n",
       "      <th></th>\n",
       "      <th>calitp_itp_id_primary</th>\n",
       "      <th>calitp_itp_id_secondary</th>\n",
       "      <th>stop_id</th>\n",
       "      <th>geometry</th>\n",
       "      <th>hqta_type</th>\n",
       "      <th>route_id</th>\n",
       "      <th>agency_name_primary</th>\n",
       "      <th>agency_name_secondary</th>\n",
       "      <th>hqta_details</th>\n",
       "    </tr>\n",
       "  </thead>\n",
       "  <tbody>\n",
       "    <tr>\n",
       "      <th>4669</th>\n",
       "      <td>4</td>\n",
       "      <td>NaN</td>\n",
       "      <td>689</td>\n",
       "      <td>POINT (-122.27751 37.89156)</td>\n",
       "      <td>hq_corridor_bus</td>\n",
       "      <td>FS</td>\n",
       "      <td>AC Transit</td>\n",
       "      <td>None</td>\n",
       "      <td>stop_along_hq_bus_corridor_single_operator</td>\n",
       "    </tr>\n",
       "    <tr>\n",
       "      <th>8522</th>\n",
       "      <td>16</td>\n",
       "      <td>NaN</td>\n",
       "      <td>689</td>\n",
       "      <td>POINT (-118.13053 34.69877)</td>\n",
       "      <td>hq_corridor_bus</td>\n",
       "      <td>94</td>\n",
       "      <td>Antelope Valley Transit Authority</td>\n",
       "      <td>None</td>\n",
       "      <td>stop_along_hq_bus_corridor_single_operator</td>\n",
       "    </tr>\n",
       "    <tr>\n",
       "      <th>8684</th>\n",
       "      <td>16</td>\n",
       "      <td>16.0</td>\n",
       "      <td>689</td>\n",
       "      <td>POINT (-118.13053 34.69877)</td>\n",
       "      <td>major_stop_bus</td>\n",
       "      <td>94</td>\n",
       "      <td>Antelope Valley Transit Authority</td>\n",
       "      <td>Antelope Valley Transit Authority</td>\n",
       "      <td>intersection_2_bus_routes_same_operator</td>\n",
       "    </tr>\n",
       "    <tr>\n",
       "      <th>12472</th>\n",
       "      <td>126</td>\n",
       "      <td>NaN</td>\n",
       "      <td>689</td>\n",
       "      <td>POINT (-119.00510 35.29575)</td>\n",
       "      <td>hq_corridor_bus</td>\n",
       "      <td>41</td>\n",
       "      <td>GET Bus</td>\n",
       "      <td>None</td>\n",
       "      <td>stop_along_hq_bus_corridor_single_operator</td>\n",
       "    </tr>\n",
       "    <tr>\n",
       "      <th>26141</th>\n",
       "      <td>182</td>\n",
       "      <td>NaN</td>\n",
       "      <td>689</td>\n",
       "      <td>POINT (-118.39232 34.16879)</td>\n",
       "      <td>hq_corridor_bus</td>\n",
       "      <td>237-13157</td>\n",
       "      <td>Metro</td>\n",
       "      <td>None</td>\n",
       "      <td>stop_along_hq_bus_corridor_single_operator</td>\n",
       "    </tr>\n",
       "    <tr>\n",
       "      <th>38750</th>\n",
       "      <td>243</td>\n",
       "      <td>NaN</td>\n",
       "      <td>689</td>\n",
       "      <td>POINT (-118.14884 34.14821)</td>\n",
       "      <td>hq_corridor_bus</td>\n",
       "      <td>20cw</td>\n",
       "      <td>Pasadena Transit</td>\n",
       "      <td>None</td>\n",
       "      <td>stop_along_hq_bus_corridor_single_operator</td>\n",
       "    </tr>\n",
       "    <tr>\n",
       "      <th>38850</th>\n",
       "      <td>243</td>\n",
       "      <td>112.0</td>\n",
       "      <td>689</td>\n",
       "      <td>POINT (-118.14884 34.14821)</td>\n",
       "      <td>major_stop_bus</td>\n",
       "      <td>20cw</td>\n",
       "      <td>Pasadena Transit</td>\n",
       "      <td>Foothill Transit</td>\n",
       "      <td>intersection_2_bus_routes_different_operators</td>\n",
       "    </tr>\n",
       "    <tr>\n",
       "      <th>60180</th>\n",
       "      <td>295</td>\n",
       "      <td>NaN</td>\n",
       "      <td>689</td>\n",
       "      <td>POINT (-118.47698 34.43481)</td>\n",
       "      <td>hq_corridor_bus</td>\n",
       "      <td>629</td>\n",
       "      <td>Santa Clarita Transit</td>\n",
       "      <td>None</td>\n",
       "      <td>stop_along_hq_bus_corridor_single_operator</td>\n",
       "    </tr>\n",
       "    <tr>\n",
       "      <th>61186</th>\n",
       "      <td>300</td>\n",
       "      <td>NaN</td>\n",
       "      <td>689</td>\n",
       "      <td>POINT (-118.43169 34.04380)</td>\n",
       "      <td>hq_corridor_bus</td>\n",
       "      <td>3514</td>\n",
       "      <td>Big Blue Bus</td>\n",
       "      <td>None</td>\n",
       "      <td>stop_along_hq_bus_corridor_single_operator</td>\n",
       "    </tr>\n",
       "    <tr>\n",
       "      <th>61635</th>\n",
       "      <td>300</td>\n",
       "      <td>300.0</td>\n",
       "      <td>689</td>\n",
       "      <td>POINT (-118.43169 34.04380)</td>\n",
       "      <td>major_stop_bus</td>\n",
       "      <td>3514</td>\n",
       "      <td>Big Blue Bus</td>\n",
       "      <td>Big Blue Bus</td>\n",
       "      <td>intersection_2_bus_routes_same_operator</td>\n",
       "    </tr>\n",
       "  </tbody>\n",
       "</table>\n",
       "</div>"
      ],
      "text/plain": [
       "       calitp_itp_id_primary  calitp_itp_id_secondary stop_id  \\\n",
       "4669                       4                      NaN     689   \n",
       "8522                      16                      NaN     689   \n",
       "8684                      16                     16.0     689   \n",
       "12472                    126                      NaN     689   \n",
       "26141                    182                      NaN     689   \n",
       "38750                    243                      NaN     689   \n",
       "38850                    243                    112.0     689   \n",
       "60180                    295                      NaN     689   \n",
       "61186                    300                      NaN     689   \n",
       "61635                    300                    300.0     689   \n",
       "\n",
       "                          geometry        hqta_type   route_id  \\\n",
       "4669   POINT (-122.27751 37.89156)  hq_corridor_bus         FS   \n",
       "8522   POINT (-118.13053 34.69877)  hq_corridor_bus         94   \n",
       "8684   POINT (-118.13053 34.69877)   major_stop_bus         94   \n",
       "12472  POINT (-119.00510 35.29575)  hq_corridor_bus         41   \n",
       "26141  POINT (-118.39232 34.16879)  hq_corridor_bus  237-13157   \n",
       "38750  POINT (-118.14884 34.14821)  hq_corridor_bus       20cw   \n",
       "38850  POINT (-118.14884 34.14821)   major_stop_bus       20cw   \n",
       "60180  POINT (-118.47698 34.43481)  hq_corridor_bus        629   \n",
       "61186  POINT (-118.43169 34.04380)  hq_corridor_bus       3514   \n",
       "61635  POINT (-118.43169 34.04380)   major_stop_bus       3514   \n",
       "\n",
       "                     agency_name_primary              agency_name_secondary  \\\n",
       "4669                          AC Transit                               None   \n",
       "8522   Antelope Valley Transit Authority                               None   \n",
       "8684   Antelope Valley Transit Authority  Antelope Valley Transit Authority   \n",
       "12472                            GET Bus                               None   \n",
       "26141                              Metro                               None   \n",
       "38750                   Pasadena Transit                               None   \n",
       "38850                   Pasadena Transit                   Foothill Transit   \n",
       "60180              Santa Clarita Transit                               None   \n",
       "61186                       Big Blue Bus                               None   \n",
       "61635                       Big Blue Bus                       Big Blue Bus   \n",
       "\n",
       "                                        hqta_details  \n",
       "4669      stop_along_hq_bus_corridor_single_operator  \n",
       "8522      stop_along_hq_bus_corridor_single_operator  \n",
       "8684         intersection_2_bus_routes_same_operator  \n",
       "12472     stop_along_hq_bus_corridor_single_operator  \n",
       "26141     stop_along_hq_bus_corridor_single_operator  \n",
       "38750     stop_along_hq_bus_corridor_single_operator  \n",
       "38850  intersection_2_bus_routes_different_operators  \n",
       "60180     stop_along_hq_bus_corridor_single_operator  \n",
       "61186     stop_along_hq_bus_corridor_single_operator  \n",
       "61635        intersection_2_bus_routes_same_operator  "
      ]
     },
     "metadata": {},
     "output_type": "display_data"
    },
    {
     "data": {
      "text/markdown": [
       "### Stop ID:  689"
      ],
      "text/plain": [
       "<IPython.core.display.Markdown object>"
      ]
     },
     "metadata": {},
     "output_type": "display_data"
    },
    {
     "data": {
      "text/html": [
       "<div style=\"width:100%;\"><div style=\"position:relative;width:100%;height:0;padding-bottom:60%;\"><span style=\"color:#565656\">Make this Notebook Trusted to load map: File -> Trust Notebook</span><iframe src=\"about:blank\" style=\"position:absolute;width:100%;height:100%;left:0;top:0;border:none !important;\" data-html=%3C%21DOCTYPE%20html%3E%0A%3Chead%3E%20%20%20%20%0A%20%20%20%20%3Cmeta%20http-equiv%3D%22content-type%22%20content%3D%22text/html%3B%20charset%3DUTF-8%22%20/%3E%0A%20%20%20%20%0A%20%20%20%20%20%20%20%20%3Cscript%3E%0A%20%20%20%20%20%20%20%20%20%20%20%20L_NO_TOUCH%20%3D%20false%3B%0A%20%20%20%20%20%20%20%20%20%20%20%20L_DISABLE_3D%20%3D%20false%3B%0A%20%20%20%20%20%20%20%20%3C/script%3E%0A%20%20%20%20%0A%20%20%20%20%3Cstyle%3Ehtml%2C%20body%20%7Bwidth%3A%20100%25%3Bheight%3A%20100%25%3Bmargin%3A%200%3Bpadding%3A%200%3B%7D%3C/style%3E%0A%20%20%20%20%3Cstyle%3E%23map%20%7Bposition%3Aabsolute%3Btop%3A0%3Bbottom%3A0%3Bright%3A0%3Bleft%3A0%3B%7D%3C/style%3E%0A%20%20%20%20%3Cscript%20src%3D%22https%3A//cdn.jsdelivr.net/npm/leaflet%401.6.0/dist/leaflet.js%22%3E%3C/script%3E%0A%20%20%20%20%3Cscript%20src%3D%22https%3A//code.jquery.com/jquery-1.12.4.min.js%22%3E%3C/script%3E%0A%20%20%20%20%3Cscript%20src%3D%22https%3A//maxcdn.bootstrapcdn.com/bootstrap/3.2.0/js/bootstrap.min.js%22%3E%3C/script%3E%0A%20%20%20%20%3Cscript%20src%3D%22https%3A//cdnjs.cloudflare.com/ajax/libs/Leaflet.awesome-markers/2.0.2/leaflet.awesome-markers.js%22%3E%3C/script%3E%0A%20%20%20%20%3Clink%20rel%3D%22stylesheet%22%20href%3D%22https%3A//cdn.jsdelivr.net/npm/leaflet%401.6.0/dist/leaflet.css%22/%3E%0A%20%20%20%20%3Clink%20rel%3D%22stylesheet%22%20href%3D%22https%3A//maxcdn.bootstrapcdn.com/bootstrap/3.2.0/css/bootstrap.min.css%22/%3E%0A%20%20%20%20%3Clink%20rel%3D%22stylesheet%22%20href%3D%22https%3A//maxcdn.bootstrapcdn.com/bootstrap/3.2.0/css/bootstrap-theme.min.css%22/%3E%0A%20%20%20%20%3Clink%20rel%3D%22stylesheet%22%20href%3D%22https%3A//maxcdn.bootstrapcdn.com/font-awesome/4.6.3/css/font-awesome.min.css%22/%3E%0A%20%20%20%20%3Clink%20rel%3D%22stylesheet%22%20href%3D%22https%3A//cdnjs.cloudflare.com/ajax/libs/Leaflet.awesome-markers/2.0.2/leaflet.awesome-markers.css%22/%3E%0A%20%20%20%20%3Clink%20rel%3D%22stylesheet%22%20href%3D%22https%3A//cdn.jsdelivr.net/gh/python-visualization/folium/folium/templates/leaflet.awesome.rotate.min.css%22/%3E%0A%20%20%20%20%0A%20%20%20%20%20%20%20%20%20%20%20%20%3Cmeta%20name%3D%22viewport%22%20content%3D%22width%3Ddevice-width%2C%0A%20%20%20%20%20%20%20%20%20%20%20%20%20%20%20%20initial-scale%3D1.0%2C%20maximum-scale%3D1.0%2C%20user-scalable%3Dno%22%20/%3E%0A%20%20%20%20%20%20%20%20%20%20%20%20%3Cstyle%3E%0A%20%20%20%20%20%20%20%20%20%20%20%20%20%20%20%20%23map_13f0877f367b424f8f4dcdf3b52ba239%20%7B%0A%20%20%20%20%20%20%20%20%20%20%20%20%20%20%20%20%20%20%20%20position%3A%20relative%3B%0A%20%20%20%20%20%20%20%20%20%20%20%20%20%20%20%20%20%20%20%20width%3A%20100.0%25%3B%0A%20%20%20%20%20%20%20%20%20%20%20%20%20%20%20%20%20%20%20%20height%3A%20100.0%25%3B%0A%20%20%20%20%20%20%20%20%20%20%20%20%20%20%20%20%20%20%20%20left%3A%200.0%25%3B%0A%20%20%20%20%20%20%20%20%20%20%20%20%20%20%20%20%20%20%20%20top%3A%200.0%25%3B%0A%20%20%20%20%20%20%20%20%20%20%20%20%20%20%20%20%7D%0A%20%20%20%20%20%20%20%20%20%20%20%20%3C/style%3E%0A%20%20%20%20%20%20%20%20%0A%20%20%20%20%0A%20%20%20%20%20%20%20%20%20%20%20%20%20%20%20%20%20%20%20%20%3Cstyle%3E%0A%20%20%20%20%20%20%20%20%20%20%20%20%20%20%20%20%20%20%20%20%20%20%20%20.foliumtooltip%20%7B%0A%20%20%20%20%20%20%20%20%20%20%20%20%20%20%20%20%20%20%20%20%20%20%20%20%20%20%20%20%0A%20%20%20%20%20%20%20%20%20%20%20%20%20%20%20%20%20%20%20%20%20%20%20%20%7D%0A%20%20%20%20%20%20%20%20%20%20%20%20%20%20%20%20%20%20%20%20%20%20%20.foliumtooltip%20table%7B%0A%20%20%20%20%20%20%20%20%20%20%20%20%20%20%20%20%20%20%20%20%20%20%20%20%20%20%20%20margin%3A%20auto%3B%0A%20%20%20%20%20%20%20%20%20%20%20%20%20%20%20%20%20%20%20%20%20%20%20%20%7D%0A%20%20%20%20%20%20%20%20%20%20%20%20%20%20%20%20%20%20%20%20%20%20%20%20.foliumtooltip%20tr%7B%0A%20%20%20%20%20%20%20%20%20%20%20%20%20%20%20%20%20%20%20%20%20%20%20%20%20%20%20%20text-align%3A%20left%3B%0A%20%20%20%20%20%20%20%20%20%20%20%20%20%20%20%20%20%20%20%20%20%20%20%20%7D%0A%20%20%20%20%20%20%20%20%20%20%20%20%20%20%20%20%20%20%20%20%20%20%20%20.foliumtooltip%20th%7B%0A%20%20%20%20%20%20%20%20%20%20%20%20%20%20%20%20%20%20%20%20%20%20%20%20%20%20%20%20padding%3A%202px%3B%20padding-right%3A%208px%3B%0A%20%20%20%20%20%20%20%20%20%20%20%20%20%20%20%20%20%20%20%20%20%20%20%20%7D%0A%20%20%20%20%20%20%20%20%20%20%20%20%20%20%20%20%20%20%20%20%3C/style%3E%0A%20%20%20%20%20%20%20%20%20%20%20%20%0A%20%20%20%20%0A%20%20%20%20%3Cscript%20src%3D%22https%3A//code.jquery.com/ui/1.12.1/jquery-ui.js%22%3E%3C/script%3E%0A%20%20%20%20%3Cscript%3E%24%28%20function%28%29%20%7B%0A%20%20%20%20%20%20%20%20%24%28%20%22.maplegend%22%20%29.draggable%28%7B%0A%20%20%20%20%20%20%20%20%20%20%20%20start%3A%20function%20%28event%2C%20ui%29%20%7B%0A%20%20%20%20%20%20%20%20%20%20%20%20%20%20%20%20%24%28this%29.css%28%7B%0A%20%20%20%20%20%20%20%20%20%20%20%20%20%20%20%20%20%20%20%20right%3A%20%22auto%22%2C%0A%20%20%20%20%20%20%20%20%20%20%20%20%20%20%20%20%20%20%20%20top%3A%20%22auto%22%2C%0A%20%20%20%20%20%20%20%20%20%20%20%20%20%20%20%20%20%20%20%20bottom%3A%20%22auto%22%0A%20%20%20%20%20%20%20%20%20%20%20%20%20%20%20%20%7D%29%3B%0A%20%20%20%20%20%20%20%20%20%20%20%20%7D%0A%20%20%20%20%20%20%20%20%7D%29%3B%0A%20%20%20%20%7D%29%3B%0A%20%20%20%20%3C/script%3E%0A%20%20%20%20%3Cstyle%20type%3D%27text/css%27%3E%0A%20%20%20%20%20%20.maplegend%20%7B%0A%20%20%20%20%20%20%20%20position%3A%20absolute%3B%0A%20%20%20%20%20%20%20%20z-index%3A9999%3B%0A%20%20%20%20%20%20%20%20background-color%3A%20rgba%28255%2C%20255%2C%20255%2C%20.8%29%3B%0A%20%20%20%20%20%20%20%20border-radius%3A%205px%3B%0A%20%20%20%20%20%20%20%20box-shadow%3A%200%200%2015px%20rgba%280%2C0%2C0%2C0.2%29%3B%0A%20%20%20%20%20%20%20%20padding%3A%2010px%3B%0A%20%20%20%20%20%20%20%20font%3A%2012px/14px%20Arial%2C%20Helvetica%2C%20sans-serif%3B%0A%20%20%20%20%20%20%20%20right%3A%2010px%3B%0A%20%20%20%20%20%20%20%20bottom%3A%2020px%3B%0A%20%20%20%20%20%20%7D%0A%20%20%20%20%20%20.maplegend%20.legend-title%20%7B%0A%20%20%20%20%20%20%20%20text-align%3A%20left%3B%0A%20%20%20%20%20%20%20%20margin-bottom%3A%205px%3B%0A%20%20%20%20%20%20%20%20font-weight%3A%20bold%3B%0A%20%20%20%20%20%20%20%20%7D%0A%20%20%20%20%20%20.maplegend%20.legend-scale%20ul%20%7B%0A%20%20%20%20%20%20%20%20margin%3A%200%3B%0A%20%20%20%20%20%20%20%20margin-bottom%3A%200px%3B%0A%20%20%20%20%20%20%20%20padding%3A%200%3B%0A%20%20%20%20%20%20%20%20float%3A%20left%3B%0A%20%20%20%20%20%20%20%20list-style%3A%20none%3B%0A%20%20%20%20%20%20%20%20%7D%0A%20%20%20%20%20%20.maplegend%20.legend-scale%20ul%20li%20%7B%0A%20%20%20%20%20%20%20%20list-style%3A%20none%3B%0A%20%20%20%20%20%20%20%20margin-left%3A%200%3B%0A%20%20%20%20%20%20%20%20line-height%3A%2016px%3B%0A%20%20%20%20%20%20%20%20margin-bottom%3A%202px%3B%0A%20%20%20%20%20%20%20%20%7D%0A%20%20%20%20%20%20.maplegend%20ul.legend-labels%20li%20span%20%7B%0A%20%20%20%20%20%20%20%20display%3A%20block%3B%0A%20%20%20%20%20%20%20%20float%3A%20left%3B%0A%20%20%20%20%20%20%20%20height%3A%2014px%3B%0A%20%20%20%20%20%20%20%20width%3A%2014px%3B%0A%20%20%20%20%20%20%20%20margin-right%3A%205px%3B%0A%20%20%20%20%20%20%20%20margin-left%3A%200%3B%0A%20%20%20%20%20%20%20%20border%3A%200px%20solid%20%23ccc%3B%0A%20%20%20%20%20%20%20%20%7D%0A%20%20%20%20%20%20.maplegend%20.legend-source%20%7B%0A%20%20%20%20%20%20%20%20color%3A%20%23777%3B%0A%20%20%20%20%20%20%20%20clear%3A%20both%3B%0A%20%20%20%20%20%20%20%20%7D%0A%20%20%20%20%20%20.maplegend%20a%20%7B%0A%20%20%20%20%20%20%20%20color%3A%20%23777%3B%0A%20%20%20%20%20%20%20%20%7D%0A%20%20%20%20%3C/style%3E%0A%20%20%20%20%0A%3C/head%3E%0A%3Cbody%3E%20%20%20%20%0A%20%20%20%20%0A%20%20%20%20%3Cdiv%20id%3D%27maplegend%20stop_id%27%20class%3D%27maplegend%27%3E%0A%20%20%20%20%20%20%20%20%3Cdiv%20class%3D%27legend-title%27%3Estop_id%3C/div%3E%0A%20%20%20%20%20%20%20%20%3Cdiv%20class%3D%27legend-scale%27%3E%0A%20%20%20%20%20%20%20%20%20%20%20%20%3Cul%20class%3D%27legend-labels%27%3E%0A%20%20%20%20%20%20%20%20%20%20%20%20%20%20%20%20%3Cli%3E%3Cspan%20style%3D%27background%3A%231f77b4%27%3E%3C/span%3E689%3C/li%3E%0A%20%20%20%20%20%20%20%20%20%20%20%20%3C/ul%3E%0A%20%20%20%20%20%20%20%20%3C/div%3E%0A%20%20%20%20%3C/div%3E%0A%20%20%20%20%0A%20%20%20%20%0A%20%20%20%20%20%20%20%20%20%20%20%20%3Cdiv%20class%3D%22folium-map%22%20id%3D%22map_13f0877f367b424f8f4dcdf3b52ba239%22%20%3E%3C/div%3E%0A%20%20%20%20%20%20%20%20%0A%3C/body%3E%0A%3Cscript%3E%20%20%20%20%0A%20%20%20%20%0A%20%20%20%20%20%20%20%20%20%20%20%20var%20map_13f0877f367b424f8f4dcdf3b52ba239%20%3D%20L.map%28%0A%20%20%20%20%20%20%20%20%20%20%20%20%20%20%20%20%22map_13f0877f367b424f8f4dcdf3b52ba239%22%2C%0A%20%20%20%20%20%20%20%20%20%20%20%20%20%20%20%20%7B%0A%20%20%20%20%20%20%20%20%20%20%20%20%20%20%20%20%20%20%20%20center%3A%20%5B35.96767550000004%2C%20-120.204019%5D%2C%0A%20%20%20%20%20%20%20%20%20%20%20%20%20%20%20%20%20%20%20%20crs%3A%20L.CRS.EPSG3857%2C%0A%20%20%20%20%20%20%20%20%20%20%20%20%20%20%20%20%20%20%20%20zoom%3A%2010%2C%0A%20%20%20%20%20%20%20%20%20%20%20%20%20%20%20%20%20%20%20%20zoomControl%3A%20true%2C%0A%20%20%20%20%20%20%20%20%20%20%20%20%20%20%20%20%20%20%20%20preferCanvas%3A%20false%2C%0A%20%20%20%20%20%20%20%20%20%20%20%20%20%20%20%20%7D%0A%20%20%20%20%20%20%20%20%20%20%20%20%29%3B%0A%20%20%20%20%20%20%20%20%20%20%20%20L.control.scale%28%29.addTo%28map_13f0877f367b424f8f4dcdf3b52ba239%29%3B%0A%0A%20%20%20%20%20%20%20%20%20%20%20%20%0A%0A%20%20%20%20%20%20%20%20%0A%20%20%20%20%0A%20%20%20%20%20%20%20%20%20%20%20%20var%20tile_layer_9e7886802e464cf2834e9dbbc68f7c62%20%3D%20L.tileLayer%28%0A%20%20%20%20%20%20%20%20%20%20%20%20%20%20%20%20%22https%3A//a.basemaps.cartocdn.com/light_all/%7Bz%7D/%7Bx%7D/%7By%7D%7Br%7D.png%22%2C%0A%20%20%20%20%20%20%20%20%20%20%20%20%20%20%20%20%7B%22attribution%22%3A%20%22%5Cu0026copy%3B%20%5Cu003ca%20href%3D%5C%22https%3A//www.openstreetmap.org/copyright%5C%22%5Cu003eOpenStreetMap%5Cu003c/a%5Cu003e%20contributors%20%5Cu0026copy%3B%20%5Cu003ca%20href%3D%5C%22https%3A//carto.com/attributions%5C%22%5Cu003eCARTO%5Cu003c/a%5Cu003e%22%2C%20%22detectRetina%22%3A%20false%2C%20%22maxNativeZoom%22%3A%2020%2C%20%22maxZoom%22%3A%2020%2C%20%22minZoom%22%3A%200%2C%20%22noWrap%22%3A%20false%2C%20%22opacity%22%3A%201%2C%20%22subdomains%22%3A%20%22abc%22%2C%20%22tms%22%3A%20false%7D%0A%20%20%20%20%20%20%20%20%20%20%20%20%29.addTo%28map_13f0877f367b424f8f4dcdf3b52ba239%29%3B%0A%20%20%20%20%20%20%20%20%0A%20%20%20%20%0A%20%20%20%20%20%20%20%20%20%20%20%20map_13f0877f367b424f8f4dcdf3b52ba239.fitBounds%28%0A%20%20%20%20%20%20%20%20%20%20%20%20%20%20%20%20%5B%5B34.04379600000003%2C%20-122.27750699999999%5D%2C%20%5B37.89155500000006%2C%20-118.13053100000002%5D%5D%2C%0A%20%20%20%20%20%20%20%20%20%20%20%20%20%20%20%20%7B%7D%0A%20%20%20%20%20%20%20%20%20%20%20%20%29%3B%0A%20%20%20%20%20%20%20%20%0A%20%20%20%20%0A%20%20%20%20%20%20%20%20function%20geo_json_9fe85541e7f842fd920c4ec03e07e8ab_styler%28feature%29%20%7B%0A%20%20%20%20%20%20%20%20%20%20%20%20switch%28feature.id%29%20%7B%0A%20%20%20%20%20%20%20%20%20%20%20%20%20%20%20%20default%3A%0A%20%20%20%20%20%20%20%20%20%20%20%20%20%20%20%20%20%20%20%20return%20%7B%22color%22%3A%20%22%231f77b4%22%2C%20%22fillColor%22%3A%20%22%231f77b4%22%2C%20%22fillOpacity%22%3A%200.5%2C%20%22weight%22%3A%202%7D%3B%0A%20%20%20%20%20%20%20%20%20%20%20%20%7D%0A%20%20%20%20%20%20%20%20%7D%0A%20%20%20%20%20%20%20%20function%20geo_json_9fe85541e7f842fd920c4ec03e07e8ab_highlighter%28feature%29%20%7B%0A%20%20%20%20%20%20%20%20%20%20%20%20switch%28feature.id%29%20%7B%0A%20%20%20%20%20%20%20%20%20%20%20%20%20%20%20%20default%3A%0A%20%20%20%20%20%20%20%20%20%20%20%20%20%20%20%20%20%20%20%20return%20%7B%22fillOpacity%22%3A%200.75%7D%3B%0A%20%20%20%20%20%20%20%20%20%20%20%20%7D%0A%20%20%20%20%20%20%20%20%7D%0A%20%20%20%20%20%20%20%20function%20geo_json_9fe85541e7f842fd920c4ec03e07e8ab_pointToLayer%28feature%2C%20latlng%29%20%7B%0A%20%20%20%20%20%20%20%20%20%20%20%20var%20opts%20%3D%20%7B%22bubblingMouseEvents%22%3A%20true%2C%20%22color%22%3A%20%22%233388ff%22%2C%20%22dashArray%22%3A%20null%2C%20%22dashOffset%22%3A%20null%2C%20%22fill%22%3A%20true%2C%20%22fillColor%22%3A%20%22%233388ff%22%2C%20%22fillOpacity%22%3A%200.2%2C%20%22fillRule%22%3A%20%22evenodd%22%2C%20%22lineCap%22%3A%20%22round%22%2C%20%22lineJoin%22%3A%20%22round%22%2C%20%22opacity%22%3A%201.0%2C%20%22radius%22%3A%202%2C%20%22stroke%22%3A%20true%2C%20%22weight%22%3A%203%7D%3B%0A%20%20%20%20%20%20%20%20%20%20%20%20%0A%20%20%20%20%20%20%20%20%20%20%20%20let%20style%20%3D%20geo_json_9fe85541e7f842fd920c4ec03e07e8ab_styler%28feature%29%0A%20%20%20%20%20%20%20%20%20%20%20%20Object.assign%28opts%2C%20style%29%0A%20%20%20%20%20%20%20%20%20%20%20%20%0A%20%20%20%20%20%20%20%20%20%20%20%20return%20new%20L.CircleMarker%28latlng%2C%20opts%29%0A%20%20%20%20%20%20%20%20%7D%0A%0A%20%20%20%20%20%20%20%20function%20geo_json_9fe85541e7f842fd920c4ec03e07e8ab_onEachFeature%28feature%2C%20layer%29%20%7B%0A%20%20%20%20%20%20%20%20%20%20%20%20layer.on%28%7B%0A%20%20%20%20%20%20%20%20%20%20%20%20%20%20%20%20mouseout%3A%20function%28e%29%20%7B%0A%20%20%20%20%20%20%20%20%20%20%20%20%20%20%20%20%20%20%20%20if%28typeof%20e.target.setStyle%20%3D%3D%3D%20%22function%22%29%7B%0A%20%20%20%20%20%20%20%20%20%20%20%20%20%20%20%20%20%20%20%20%20%20%20%20geo_json_9fe85541e7f842fd920c4ec03e07e8ab.resetStyle%28e.target%29%3B%0A%20%20%20%20%20%20%20%20%20%20%20%20%20%20%20%20%20%20%20%20%7D%0A%20%20%20%20%20%20%20%20%20%20%20%20%20%20%20%20%7D%2C%0A%20%20%20%20%20%20%20%20%20%20%20%20%20%20%20%20mouseover%3A%20function%28e%29%20%7B%0A%20%20%20%20%20%20%20%20%20%20%20%20%20%20%20%20%20%20%20%20if%28typeof%20e.target.setStyle%20%3D%3D%3D%20%22function%22%29%7B%0A%20%20%20%20%20%20%20%20%20%20%20%20%20%20%20%20%20%20%20%20%20%20%20%20const%20highlightStyle%20%3D%20geo_json_9fe85541e7f842fd920c4ec03e07e8ab_highlighter%28e.target.feature%29%0A%20%20%20%20%20%20%20%20%20%20%20%20%20%20%20%20%20%20%20%20%20%20%20%20e.target.setStyle%28highlightStyle%29%3B%0A%20%20%20%20%20%20%20%20%20%20%20%20%20%20%20%20%20%20%20%20%7D%0A%20%20%20%20%20%20%20%20%20%20%20%20%20%20%20%20%7D%2C%0A%20%20%20%20%20%20%20%20%20%20%20%20%7D%29%3B%0A%20%20%20%20%20%20%20%20%7D%3B%0A%20%20%20%20%20%20%20%20var%20geo_json_9fe85541e7f842fd920c4ec03e07e8ab%20%3D%20L.geoJson%28null%2C%20%7B%0A%20%20%20%20%20%20%20%20%20%20%20%20%20%20%20%20onEachFeature%3A%20geo_json_9fe85541e7f842fd920c4ec03e07e8ab_onEachFeature%2C%0A%20%20%20%20%20%20%20%20%20%20%20%20%0A%20%20%20%20%20%20%20%20%20%20%20%20%20%20%20%20style%3A%20geo_json_9fe85541e7f842fd920c4ec03e07e8ab_styler%2C%0A%20%20%20%20%20%20%20%20%20%20%20%20%20%20%20%20pointToLayer%3A%20geo_json_9fe85541e7f842fd920c4ec03e07e8ab_pointToLayer%0A%20%20%20%20%20%20%20%20%7D%29%3B%0A%0A%20%20%20%20%20%20%20%20function%20geo_json_9fe85541e7f842fd920c4ec03e07e8ab_add%20%28data%29%20%7B%0A%20%20%20%20%20%20%20%20%20%20%20%20geo_json_9fe85541e7f842fd920c4ec03e07e8ab%0A%20%20%20%20%20%20%20%20%20%20%20%20%20%20%20%20.addData%28data%29%0A%20%20%20%20%20%20%20%20%20%20%20%20%20%20%20%20.addTo%28map_13f0877f367b424f8f4dcdf3b52ba239%29%3B%0A%20%20%20%20%20%20%20%20%7D%0A%20%20%20%20%20%20%20%20%20%20%20%20geo_json_9fe85541e7f842fd920c4ec03e07e8ab_add%28%7B%22bbox%22%3A%20%5B-122.27750699999999%2C%2034.04379600000003%2C%20-118.13053100000002%2C%2037.89155500000006%5D%2C%20%22features%22%3A%20%5B%7B%22bbox%22%3A%20%5B-122.27750699999999%2C%2037.89155500000006%2C%20-122.27750699999999%2C%2037.89155500000006%5D%2C%20%22geometry%22%3A%20%7B%22coordinates%22%3A%20%5B-122.27750699999999%2C%2037.89155500000006%5D%2C%20%22type%22%3A%20%22Point%22%7D%2C%20%22id%22%3A%20%224669%22%2C%20%22properties%22%3A%20%7B%22__folium_color%22%3A%20%22%231f77b4%22%2C%20%22agency_name_primary%22%3A%20%22AC%20Transit%22%2C%20%22agency_name_secondary%22%3A%20null%2C%20%22calitp_itp_id_primary%22%3A%204%2C%20%22calitp_itp_id_secondary%22%3A%20null%2C%20%22hqta_details%22%3A%20%22stop_along_hq_bus_corridor_single_operator%22%2C%20%22hqta_type%22%3A%20%22hq_corridor_bus%22%2C%20%22route_id%22%3A%20%22FS%22%2C%20%22stop_id%22%3A%20%22689%22%7D%2C%20%22type%22%3A%20%22Feature%22%7D%2C%20%7B%22bbox%22%3A%20%5B-118.13053100000002%2C%2034.698765280000025%2C%20-118.13053100000002%2C%2034.698765280000025%5D%2C%20%22geometry%22%3A%20%7B%22coordinates%22%3A%20%5B-118.13053100000002%2C%2034.698765280000025%5D%2C%20%22type%22%3A%20%22Point%22%7D%2C%20%22id%22%3A%20%228522%22%2C%20%22properties%22%3A%20%7B%22__folium_color%22%3A%20%22%231f77b4%22%2C%20%22agency_name_primary%22%3A%20%22Antelope%20Valley%20Transit%20Authority%22%2C%20%22agency_name_secondary%22%3A%20null%2C%20%22calitp_itp_id_primary%22%3A%2016%2C%20%22calitp_itp_id_secondary%22%3A%20null%2C%20%22hqta_details%22%3A%20%22stop_along_hq_bus_corridor_single_operator%22%2C%20%22hqta_type%22%3A%20%22hq_corridor_bus%22%2C%20%22route_id%22%3A%20%2294%22%2C%20%22stop_id%22%3A%20%22689%22%7D%2C%20%22type%22%3A%20%22Feature%22%7D%2C%20%7B%22bbox%22%3A%20%5B-118.13053100000002%2C%2034.698765280000025%2C%20-118.13053100000002%2C%2034.698765280000025%5D%2C%20%22geometry%22%3A%20%7B%22coordinates%22%3A%20%5B-118.13053100000002%2C%2034.698765280000025%5D%2C%20%22type%22%3A%20%22Point%22%7D%2C%20%22id%22%3A%20%228684%22%2C%20%22properties%22%3A%20%7B%22__folium_color%22%3A%20%22%231f77b4%22%2C%20%22agency_name_primary%22%3A%20%22Antelope%20Valley%20Transit%20Authority%22%2C%20%22agency_name_secondary%22%3A%20%22Antelope%20Valley%20Transit%20Authority%22%2C%20%22calitp_itp_id_primary%22%3A%2016%2C%20%22calitp_itp_id_secondary%22%3A%2016.0%2C%20%22hqta_details%22%3A%20%22intersection_2_bus_routes_same_operator%22%2C%20%22hqta_type%22%3A%20%22major_stop_bus%22%2C%20%22route_id%22%3A%20%2294%22%2C%20%22stop_id%22%3A%20%22689%22%7D%2C%20%22type%22%3A%20%22Feature%22%7D%2C%20%7B%22bbox%22%3A%20%5B-119.005098%2C%2035.29575499999995%2C%20-119.005098%2C%2035.29575499999995%5D%2C%20%22geometry%22%3A%20%7B%22coordinates%22%3A%20%5B-119.005098%2C%2035.29575499999995%5D%2C%20%22type%22%3A%20%22Point%22%7D%2C%20%22id%22%3A%20%2212472%22%2C%20%22properties%22%3A%20%7B%22__folium_color%22%3A%20%22%231f77b4%22%2C%20%22agency_name_primary%22%3A%20%22GET%20Bus%22%2C%20%22agency_name_secondary%22%3A%20null%2C%20%22calitp_itp_id_primary%22%3A%20126%2C%20%22calitp_itp_id_secondary%22%3A%20null%2C%20%22hqta_details%22%3A%20%22stop_along_hq_bus_corridor_single_operator%22%2C%20%22hqta_type%22%3A%20%22hq_corridor_bus%22%2C%20%22route_id%22%3A%20%2241%22%2C%20%22stop_id%22%3A%20%22689%22%7D%2C%20%22type%22%3A%20%22Feature%22%7D%2C%20%7B%22bbox%22%3A%20%5B-118.39232%2C%2034.168791000000034%2C%20-118.39232%2C%2034.168791000000034%5D%2C%20%22geometry%22%3A%20%7B%22coordinates%22%3A%20%5B-118.39232%2C%2034.168791000000034%5D%2C%20%22type%22%3A%20%22Point%22%7D%2C%20%22id%22%3A%20%2226141%22%2C%20%22properties%22%3A%20%7B%22__folium_color%22%3A%20%22%231f77b4%22%2C%20%22agency_name_primary%22%3A%20%22Metro%22%2C%20%22agency_name_secondary%22%3A%20null%2C%20%22calitp_itp_id_primary%22%3A%20182%2C%20%22calitp_itp_id_secondary%22%3A%20null%2C%20%22hqta_details%22%3A%20%22stop_along_hq_bus_corridor_single_operator%22%2C%20%22hqta_type%22%3A%20%22hq_corridor_bus%22%2C%20%22route_id%22%3A%20%22237-13157%22%2C%20%22stop_id%22%3A%20%22689%22%7D%2C%20%22type%22%3A%20%22Feature%22%7D%2C%20%7B%22bbox%22%3A%20%5B-118.148841%2C%2034.14820599999995%2C%20-118.148841%2C%2034.14820599999995%5D%2C%20%22geometry%22%3A%20%7B%22coordinates%22%3A%20%5B-118.148841%2C%2034.14820599999995%5D%2C%20%22type%22%3A%20%22Point%22%7D%2C%20%22id%22%3A%20%2238750%22%2C%20%22properties%22%3A%20%7B%22__folium_color%22%3A%20%22%231f77b4%22%2C%20%22agency_name_primary%22%3A%20%22Pasadena%20Transit%22%2C%20%22agency_name_secondary%22%3A%20null%2C%20%22calitp_itp_id_primary%22%3A%20243%2C%20%22calitp_itp_id_secondary%22%3A%20null%2C%20%22hqta_details%22%3A%20%22stop_along_hq_bus_corridor_single_operator%22%2C%20%22hqta_type%22%3A%20%22hq_corridor_bus%22%2C%20%22route_id%22%3A%20%2220cw%22%2C%20%22stop_id%22%3A%20%22689%22%7D%2C%20%22type%22%3A%20%22Feature%22%7D%2C%20%7B%22bbox%22%3A%20%5B-118.148841%2C%2034.14820599999995%2C%20-118.148841%2C%2034.14820599999995%5D%2C%20%22geometry%22%3A%20%7B%22coordinates%22%3A%20%5B-118.148841%2C%2034.14820599999995%5D%2C%20%22type%22%3A%20%22Point%22%7D%2C%20%22id%22%3A%20%2238850%22%2C%20%22properties%22%3A%20%7B%22__folium_color%22%3A%20%22%231f77b4%22%2C%20%22agency_name_primary%22%3A%20%22Pasadena%20Transit%22%2C%20%22agency_name_secondary%22%3A%20%22Foothill%20Transit%22%2C%20%22calitp_itp_id_primary%22%3A%20243%2C%20%22calitp_itp_id_secondary%22%3A%20112.0%2C%20%22hqta_details%22%3A%20%22intersection_2_bus_routes_different_operators%22%2C%20%22hqta_type%22%3A%20%22major_stop_bus%22%2C%20%22route_id%22%3A%20%2220cw%22%2C%20%22stop_id%22%3A%20%22689%22%7D%2C%20%22type%22%3A%20%22Feature%22%7D%2C%20%7B%22bbox%22%3A%20%5B-118.476979%2C%2034.434814%2C%20-118.476979%2C%2034.434814%5D%2C%20%22geometry%22%3A%20%7B%22coordinates%22%3A%20%5B-118.476979%2C%2034.434814%5D%2C%20%22type%22%3A%20%22Point%22%7D%2C%20%22id%22%3A%20%2260180%22%2C%20%22properties%22%3A%20%7B%22__folium_color%22%3A%20%22%231f77b4%22%2C%20%22agency_name_primary%22%3A%20%22Santa%20Clarita%20Transit%22%2C%20%22agency_name_secondary%22%3A%20null%2C%20%22calitp_itp_id_primary%22%3A%20295%2C%20%22calitp_itp_id_secondary%22%3A%20null%2C%20%22hqta_details%22%3A%20%22stop_along_hq_bus_corridor_single_operator%22%2C%20%22hqta_type%22%3A%20%22hq_corridor_bus%22%2C%20%22route_id%22%3A%20%22629%22%2C%20%22stop_id%22%3A%20%22689%22%7D%2C%20%22type%22%3A%20%22Feature%22%7D%2C%20%7B%22bbox%22%3A%20%5B-118.43169200000001%2C%2034.04379600000003%2C%20-118.43169200000001%2C%2034.04379600000003%5D%2C%20%22geometry%22%3A%20%7B%22coordinates%22%3A%20%5B-118.43169200000001%2C%2034.04379600000003%5D%2C%20%22type%22%3A%20%22Point%22%7D%2C%20%22id%22%3A%20%2261186%22%2C%20%22properties%22%3A%20%7B%22__folium_color%22%3A%20%22%231f77b4%22%2C%20%22agency_name_primary%22%3A%20%22Big%20Blue%20Bus%22%2C%20%22agency_name_secondary%22%3A%20null%2C%20%22calitp_itp_id_primary%22%3A%20300%2C%20%22calitp_itp_id_secondary%22%3A%20null%2C%20%22hqta_details%22%3A%20%22stop_along_hq_bus_corridor_single_operator%22%2C%20%22hqta_type%22%3A%20%22hq_corridor_bus%22%2C%20%22route_id%22%3A%20%223514%22%2C%20%22stop_id%22%3A%20%22689%22%7D%2C%20%22type%22%3A%20%22Feature%22%7D%2C%20%7B%22bbox%22%3A%20%5B-118.43169200000001%2C%2034.04379600000003%2C%20-118.43169200000001%2C%2034.04379600000003%5D%2C%20%22geometry%22%3A%20%7B%22coordinates%22%3A%20%5B-118.43169200000001%2C%2034.04379600000003%5D%2C%20%22type%22%3A%20%22Point%22%7D%2C%20%22id%22%3A%20%2261635%22%2C%20%22properties%22%3A%20%7B%22__folium_color%22%3A%20%22%231f77b4%22%2C%20%22agency_name_primary%22%3A%20%22Big%20Blue%20Bus%22%2C%20%22agency_name_secondary%22%3A%20%22Big%20Blue%20Bus%22%2C%20%22calitp_itp_id_primary%22%3A%20300%2C%20%22calitp_itp_id_secondary%22%3A%20300.0%2C%20%22hqta_details%22%3A%20%22intersection_2_bus_routes_same_operator%22%2C%20%22hqta_type%22%3A%20%22major_stop_bus%22%2C%20%22route_id%22%3A%20%223514%22%2C%20%22stop_id%22%3A%20%22689%22%7D%2C%20%22type%22%3A%20%22Feature%22%7D%5D%2C%20%22type%22%3A%20%22FeatureCollection%22%7D%29%3B%0A%0A%20%20%20%20%20%20%20%20%0A%20%20%20%20%0A%20%20%20%20geo_json_9fe85541e7f842fd920c4ec03e07e8ab.bindTooltip%28%0A%20%20%20%20function%28layer%29%7B%0A%20%20%20%20let%20div%20%3D%20L.DomUtil.create%28%27div%27%29%3B%0A%20%20%20%20%0A%20%20%20%20let%20handleObject%20%3D%20feature%3D%3Etypeof%28feature%29%3D%3D%27object%27%20%3F%20JSON.stringify%28feature%29%20%3A%20feature%3B%0A%20%20%20%20let%20fields%20%3D%20%5B%22calitp_itp_id_primary%22%2C%20%22calitp_itp_id_secondary%22%2C%20%22stop_id%22%2C%20%22hqta_type%22%2C%20%22route_id%22%2C%20%22agency_name_primary%22%2C%20%22agency_name_secondary%22%2C%20%22hqta_details%22%5D%3B%0A%20%20%20%20let%20aliases%20%3D%20%5B%22calitp_itp_id_primary%22%2C%20%22calitp_itp_id_secondary%22%2C%20%22stop_id%22%2C%20%22hqta_type%22%2C%20%22route_id%22%2C%20%22agency_name_primary%22%2C%20%22agency_name_secondary%22%2C%20%22hqta_details%22%5D%3B%0A%20%20%20%20let%20table%20%3D%20%27%3Ctable%3E%27%20%2B%0A%20%20%20%20%20%20%20%20String%28%0A%20%20%20%20%20%20%20%20fields.map%28%0A%20%20%20%20%20%20%20%20%28v%2Ci%29%3D%3E%0A%20%20%20%20%20%20%20%20%60%3Ctr%3E%0A%20%20%20%20%20%20%20%20%20%20%20%20%3Cth%3E%24%7Baliases%5Bi%5D%7D%3C/th%3E%0A%20%20%20%20%20%20%20%20%20%20%20%20%0A%20%20%20%20%20%20%20%20%20%20%20%20%3Ctd%3E%24%7BhandleObject%28layer.feature.properties%5Bv%5D%29%7D%3C/td%3E%0A%20%20%20%20%20%20%20%20%3C/tr%3E%60%29.join%28%27%27%29%29%0A%20%20%20%20%2B%27%3C/table%3E%27%3B%0A%20%20%20%20div.innerHTML%3Dtable%3B%0A%20%20%20%20%0A%20%20%20%20return%20div%0A%20%20%20%20%7D%0A%20%20%20%20%2C%7B%22className%22%3A%20%22foliumtooltip%22%2C%20%22sticky%22%3A%20true%7D%29%3B%0A%20%20%20%20%20%20%20%20%20%20%20%20%20%20%20%20%20%20%20%20%20%0A%3C/script%3E onload=\"this.contentDocument.open();this.contentDocument.write(    decodeURIComponent(this.getAttribute('data-html')));this.contentDocument.close();\" allowfullscreen webkitallowfullscreen mozallowfullscreen></iframe></div></div>"
      ],
      "text/plain": [
       "<folium.folium.Map at 0x7ff18cfa14e0>"
      ]
     },
     "metadata": {},
     "output_type": "display_data"
    }
   ],
   "source": [
    "for i in bad_stops:\n",
    "    subset = gdf[gdf.stop_id == i]\n",
    "    \n",
    "    if len(subset) > 0:\n",
    "        display(subset)\n",
    "        display(Markdown(f\"### Stop ID:  {i}\"))\n",
    "\n",
    "        make_map(subset, \"stop_id\")\n",
    "    else:\n",
    "        print(f\"No observations of stop_id {i}\")"
   ]
  },
  {
   "cell_type": "code",
   "execution_count": null,
   "id": "c5d88223-3334-45db-9445-696b3e0ff6cc",
   "metadata": {},
   "outputs": [],
   "source": []
  }
 ],
 "metadata": {
  "kernelspec": {
   "display_name": "Python 3 (ipykernel)",
   "language": "python",
   "name": "python3"
  },
  "language_info": {
   "codemirror_mode": {
    "name": "ipython",
    "version": 3
   },
   "file_extension": ".py",
   "mimetype": "text/x-python",
   "name": "python",
   "nbconvert_exporter": "python",
   "pygments_lexer": "ipython3",
   "version": "3.10.5"
  }
 },
 "nbformat": 4,
 "nbformat_minor": 5
}
