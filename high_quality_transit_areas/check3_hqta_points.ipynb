{
 "cells": [
  {
   "cell_type": "markdown",
   "id": "cec8ccdd-5225-4814-b59a-a8d398062e35",
   "metadata": {},
   "source": [
    "# Check HQTA points / polygons\n",
    "\n",
    "## Dropping bad stops\n",
    "\n",
    "* Be more stringent about what `stop_id` to drop, since the same `stop_id` can be shared across operators. Also add in which operator.\n",
    "\n",
    "### Done in `D2_assemble_hqta_polygons`, but should also be added to `D1_assemble_hqta_points`\n"
   ]
  },
  {
   "cell_type": "code",
   "execution_count": null,
   "id": "1db65187-7341-4a82-89d8-00dc7667a6c7",
   "metadata": {},
   "outputs": [],
   "source": [
    "import geopandas as gpd\n",
    "import pandas as pd\n",
    "\n",
    "from IPython.display import Markdown\n",
    "\n",
    "from utilities import GCS_FILE_PATH"
   ]
  },
  {
   "cell_type": "code",
   "execution_count": null,
   "id": "1c880d7b-ebb3-46c7-98f1-d724bdd802cb",
   "metadata": {},
   "outputs": [],
   "source": [
    "gdf = gpd.read_parquet(f\"{GCS_FILE_PATH}hqta_points.parquet\")"
   ]
  },
  {
   "cell_type": "code",
   "execution_count": null,
   "id": "71cff65b-0c80-475a-8cb2-c3f26284d6fe",
   "metadata": {},
   "outputs": [],
   "source": [
    "## drop incorrect HMB data, TODO investigate\n",
    "## drop incorrect Cheviot data, TODO investigate refactor (run shapes in frequency order...)\n",
    "bad_stops = ['315604', '315614', '689']"
   ]
  },
  {
   "cell_type": "code",
   "execution_count": null,
   "id": "ee3dad2e-935a-42b8-92af-7e7fae3d9248",
   "metadata": {},
   "outputs": [],
   "source": [
    "TILES = \"Carto DB Positron\"\n",
    "\n",
    "def make_map(gdf, plot_col):\n",
    "    if \"service_date\" in gdf.columns:\n",
    "        gdf = gdf.drop(columns = \"service_date\")\n",
    "        \n",
    "    m = gdf.explore(plot_col, categorical=True, tiles = TILES)\n",
    "    \n",
    "    display(m)"
   ]
  },
  {
   "cell_type": "code",
   "execution_count": null,
   "id": "02932e33-dd97-426d-b623-ded6dbd432a4",
   "metadata": {},
   "outputs": [],
   "source": [
    "for i in bad_stops:\n",
    "    subset = gdf[gdf.stop_id == i]\n",
    "    \n",
    "    if len(subset) > 0:\n",
    "        display(subset)\n",
    "        display(Markdown(f\"### Stop ID:  {i}\"))\n",
    "\n",
    "        make_map(subset, \"stop_id\")\n",
    "    else:\n",
    "        print(f\"No observations of stop_id {i}\")"
   ]
  },
  {
   "cell_type": "code",
   "execution_count": null,
   "id": "c5d88223-3334-45db-9445-696b3e0ff6cc",
   "metadata": {},
   "outputs": [],
   "source": []
  }
 ],
 "metadata": {
  "kernelspec": {
   "display_name": "Python 3 (ipykernel)",
   "language": "python",
   "name": "python3"
  },
  "language_info": {
   "codemirror_mode": {
    "name": "ipython",
    "version": 3
   },
   "file_extension": ".py",
   "mimetype": "text/x-python",
   "name": "python",
   "nbconvert_exporter": "python",
   "pygments_lexer": "ipython3",
   "version": "3.10.5"
  }
 },
 "nbformat": 4,
 "nbformat_minor": 5
}
