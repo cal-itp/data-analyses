{
 "cells": [
  {
   "cell_type": "code",
   "execution_count": 1,
   "id": "859f6203-1b64-48ca-9054-b73c4e907d71",
   "metadata": {},
   "outputs": [],
   "source": [
    "import os\n",
    "os.environ[\"CALITP_BQ_MAX_BYTES\"] = str(1_000_000_000_000) ## 1TB?"
   ]
  },
  {
   "cell_type": "code",
   "execution_count": 2,
   "id": "fb9265e6-9510-443b-bd91-a7a7ea5dd022",
   "metadata": {},
   "outputs": [],
   "source": [
    "import geopandas as gpd\n",
    "import pandas as pd\n",
    "import numpy as np\n",
    "\n",
    "from segment_speed_utils import helpers, gtfs_schedule_wrangling\n",
    "from shared_utils import rt_utils, portfolio_utils\n",
    "\n",
    "import sys\n",
    "sys.path.append('./scripts/')\n",
    "\n",
    "from calitp_data_analysis import geography_utils"
   ]
  },
  {
   "cell_type": "code",
   "execution_count": 3,
   "id": "a89ad0f5-ef8b-4039-87e9-553508b41b16",
   "metadata": {},
   "outputs": [],
   "source": [
    "from update_vars import (analysis_date, EXPORT_PATH, GCS_FILE_PATH, PROJECT_CRS,\n",
    "SEGMENT_BUFFER_METERS, HQ_TRANSIT_THRESHOLD, MS_TRANSIT_THRESHOLD, SHARED_STOP_THRESHOLD,\n",
    "                        HALF_MILE_BUFFER_METERS, INTERSECTION_BUFFER_METERS, HQTA_SEGMENT_LENGTH)"
   ]
  },
  {
   "cell_type": "code",
   "execution_count": 5,
   "id": "4d401895-bb2a-45c9-a9d4-9ee97ae4d183",
   "metadata": {
    "tags": []
   },
   "outputs": [],
   "source": [
    "from calitp_data_analysis.gcs_geopandas import GCSGeoPandas\n",
    "gcsgp = GCSGeoPandas()"
   ]
  },
  {
   "cell_type": "code",
   "execution_count": 51,
   "id": "ec0058df-b932-42d0-b12d-20f8076b4a98",
   "metadata": {
    "tags": []
   },
   "outputs": [],
   "source": [
    "import intake\n",
    "catalog = intake.open_catalog(\"*.yml\")"
   ]
  },
  {
   "cell_type": "markdown",
   "id": "9d58fb6b-32e1-4fb6-b940-2cae986e6457",
   "metadata": {},
   "source": [
    "# Debug"
   ]
  },
  {
   "cell_type": "markdown",
   "id": "135d597e-6b74-4615-9e91-24d1a97146aa",
   "metadata": {},
   "source": [
    "## Major Stop Overcounts near UCLA\n",
    "\n",
    "* sepulveda: present in spatial only\n",
    "* san vicente: not present\n",
    "* wilshire: present in spatial only (both condo canyon and BH)\n",
    "* pico: not present"
   ]
  },
  {
   "cell_type": "code",
   "execution_count": 52,
   "id": "89f13eb7-aef7-4389-a420-0dcebf83b329",
   "metadata": {
    "tags": []
   },
   "outputs": [],
   "source": [
    "ms_spatial = catalog.major_stop_bus.read()"
   ]
  },
  {
   "cell_type": "code",
   "execution_count": 53,
   "id": "630a3399-51e0-43b0-ab9f-b729cd62d99e",
   "metadata": {
    "tags": []
   },
   "outputs": [],
   "source": [
    "ms_branching = catalog.major_stop_bus_branching.read()"
   ]
  },
  {
   "cell_type": "code",
   "execution_count": 56,
   "id": "0e0656fd-67d0-44fb-840f-2cd64485ac1d",
   "metadata": {
    "tags": []
   },
   "outputs": [],
   "source": [
    "# ms_branching.explore()"
   ]
  },
  {
   "cell_type": "code",
   "execution_count": 73,
   "id": "07a6ae24-1377-424c-a2e8-281077b3a71d",
   "metadata": {
    "tags": []
   },
   "outputs": [],
   "source": [
    "# ms_spatial.explore()"
   ]
  },
  {
   "cell_type": "code",
   "execution_count": 59,
   "id": "f8956ea7-a897-4f0d-b90a-1f223b37dc5d",
   "metadata": {
    "tags": []
   },
   "outputs": [],
   "source": [
    "path = f\"{GCS_FILE_PATH}pairwise.parquet\""
   ]
  },
  {
   "cell_type": "code",
   "execution_count": 64,
   "id": "ea450bb2-10b6-4aa2-a4c6-c5fddfb6dca6",
   "metadata": {
    "tags": []
   },
   "outputs": [],
   "source": [
    "df = pd.read_parquet(path)"
   ]
  },
  {
   "cell_type": "code",
   "execution_count": 65,
   "id": "b49fa671-34dd-4b00-9fa8-066990d2230a",
   "metadata": {
    "tags": []
   },
   "outputs": [
    {
     "data": {
      "text/html": [
       "<div>\n",
       "<style scoped>\n",
       "    .dataframe tbody tr th:only-of-type {\n",
       "        vertical-align: middle;\n",
       "    }\n",
       "\n",
       "    .dataframe tbody tr th {\n",
       "        vertical-align: top;\n",
       "    }\n",
       "\n",
       "    .dataframe thead th {\n",
       "        text-align: right;\n",
       "    }\n",
       "</style>\n",
       "<table border=\"1\" class=\"dataframe\">\n",
       "  <thead>\n",
       "    <tr style=\"text-align: right;\">\n",
       "      <th></th>\n",
       "      <th>hqta_segment_id</th>\n",
       "      <th>intersect_hqta_segment_id</th>\n",
       "      <th>fwd_azimuth_360</th>\n",
       "      <th>intersect_fwd_azimuth_360</th>\n",
       "      <th>intersect</th>\n",
       "    </tr>\n",
       "  </thead>\n",
       "  <tbody>\n",
       "    <tr>\n",
       "      <th>0</th>\n",
       "      <td>335745</td>\n",
       "      <td>1122111018</td>\n",
       "      <td>47.530306</td>\n",
       "      <td>25.693099</td>\n",
       "      <td>0.0</td>\n",
       "    </tr>\n",
       "    <tr>\n",
       "      <th>1</th>\n",
       "      <td>4151130162</td>\n",
       "      <td>1122111018</td>\n",
       "      <td>57.151748</td>\n",
       "      <td>25.693099</td>\n",
       "      <td>0.0</td>\n",
       "    </tr>\n",
       "    <tr>\n",
       "      <th>2</th>\n",
       "      <td>335745</td>\n",
       "      <td>2985449236</td>\n",
       "      <td>47.530306</td>\n",
       "      <td>16.429054</td>\n",
       "      <td>0.0</td>\n",
       "    </tr>\n",
       "  </tbody>\n",
       "</table>\n",
       "</div>"
      ],
      "text/plain": [
       "   hqta_segment_id  intersect_hqta_segment_id  fwd_azimuth_360  \\\n",
       "0           335745                 1122111018        47.530306   \n",
       "1       4151130162                 1122111018        57.151748   \n",
       "2           335745                 2985449236        47.530306   \n",
       "\n",
       "   intersect_fwd_azimuth_360  intersect  \n",
       "0                  25.693099        0.0  \n",
       "1                  25.693099        0.0  \n",
       "2                  16.429054        0.0  "
      ]
     },
     "execution_count": 65,
     "metadata": {},
     "output_type": "execute_result"
    }
   ],
   "source": [
    "df.head(3)"
   ]
  },
  {
   "cell_type": "code",
   "execution_count": 80,
   "id": "5cef51c0-1fd9-4ea6-9a0b-862337f5b4b7",
   "metadata": {
    "tags": []
   },
   "outputs": [
    {
     "data": {
      "text/plain": [
       "(34868, 5)"
      ]
     },
     "execution_count": 80,
     "metadata": {},
     "output_type": "execute_result"
    }
   ],
   "source": [
    "df.shape"
   ]
  },
  {
   "cell_type": "code",
   "execution_count": 85,
   "id": "5b07a1f6-ed8f-4351-8532-d2c9f4b29e93",
   "metadata": {
    "tags": []
   },
   "outputs": [],
   "source": [
    "intersects = df.query('intersect == 1')"
   ]
  },
  {
   "cell_type": "code",
   "execution_count": 86,
   "id": "298c48d1-7b7d-42df-be2b-7be773d4e50e",
   "metadata": {
    "tags": []
   },
   "outputs": [
    {
     "data": {
      "text/html": [
       "<div>\n",
       "<style scoped>\n",
       "    .dataframe tbody tr th:only-of-type {\n",
       "        vertical-align: middle;\n",
       "    }\n",
       "\n",
       "    .dataframe tbody tr th {\n",
       "        vertical-align: top;\n",
       "    }\n",
       "\n",
       "    .dataframe thead th {\n",
       "        text-align: right;\n",
       "    }\n",
       "</style>\n",
       "<table border=\"1\" class=\"dataframe\">\n",
       "  <thead>\n",
       "    <tr style=\"text-align: right;\">\n",
       "      <th></th>\n",
       "      <th>hqta_segment_id</th>\n",
       "      <th>intersect_hqta_segment_id</th>\n",
       "      <th>fwd_azimuth_360</th>\n",
       "      <th>intersect_fwd_azimuth_360</th>\n",
       "      <th>intersect</th>\n",
       "    </tr>\n",
       "  </thead>\n",
       "  <tbody>\n",
       "    <tr>\n",
       "      <th>4</th>\n",
       "      <td>7891039</td>\n",
       "      <td>336677357</td>\n",
       "      <td>50.209742</td>\n",
       "      <td>322.887452</td>\n",
       "      <td>1.0</td>\n",
       "    </tr>\n",
       "    <tr>\n",
       "      <th>5</th>\n",
       "      <td>2888474494</td>\n",
       "      <td>336677357</td>\n",
       "      <td>50.513496</td>\n",
       "      <td>322.887452</td>\n",
       "      <td>1.0</td>\n",
       "    </tr>\n",
       "    <tr>\n",
       "      <th>6</th>\n",
       "      <td>7891039</td>\n",
       "      <td>406991407</td>\n",
       "      <td>50.209742</td>\n",
       "      <td>320.164468</td>\n",
       "      <td>1.0</td>\n",
       "    </tr>\n",
       "    <tr>\n",
       "      <th>7</th>\n",
       "      <td>2888474494</td>\n",
       "      <td>406991407</td>\n",
       "      <td>50.513496</td>\n",
       "      <td>320.164468</td>\n",
       "      <td>1.0</td>\n",
       "    </tr>\n",
       "    <tr>\n",
       "      <th>8</th>\n",
       "      <td>7891039</td>\n",
       "      <td>2322979918</td>\n",
       "      <td>50.209742</td>\n",
       "      <td>319.509786</td>\n",
       "      <td>1.0</td>\n",
       "    </tr>\n",
       "    <tr>\n",
       "      <th>...</th>\n",
       "      <td>...</td>\n",
       "      <td>...</td>\n",
       "      <td>...</td>\n",
       "      <td>...</td>\n",
       "      <td>...</td>\n",
       "    </tr>\n",
       "    <tr>\n",
       "      <th>34863</th>\n",
       "      <td>3266363212</td>\n",
       "      <td>4007624370</td>\n",
       "      <td>313.855499</td>\n",
       "      <td>234.264878</td>\n",
       "      <td>1.0</td>\n",
       "    </tr>\n",
       "    <tr>\n",
       "      <th>34864</th>\n",
       "      <td>3266363212</td>\n",
       "      <td>2274171199</td>\n",
       "      <td>313.855499</td>\n",
       "      <td>234.264878</td>\n",
       "      <td>1.0</td>\n",
       "    </tr>\n",
       "    <tr>\n",
       "      <th>34865</th>\n",
       "      <td>3266363212</td>\n",
       "      <td>3149890812</td>\n",
       "      <td>313.855499</td>\n",
       "      <td>225.118313</td>\n",
       "      <td>1.0</td>\n",
       "    </tr>\n",
       "    <tr>\n",
       "      <th>34866</th>\n",
       "      <td>3266363212</td>\n",
       "      <td>2375090011</td>\n",
       "      <td>313.855499</td>\n",
       "      <td>225.140364</td>\n",
       "      <td>1.0</td>\n",
       "    </tr>\n",
       "    <tr>\n",
       "      <th>34867</th>\n",
       "      <td>3066163989</td>\n",
       "      <td>2236598452</td>\n",
       "      <td>143.964173</td>\n",
       "      <td>63.276684</td>\n",
       "      <td>1.0</td>\n",
       "    </tr>\n",
       "  </tbody>\n",
       "</table>\n",
       "<p>14774 rows × 5 columns</p>\n",
       "</div>"
      ],
      "text/plain": [
       "       hqta_segment_id  intersect_hqta_segment_id  fwd_azimuth_360  \\\n",
       "4              7891039                  336677357        50.209742   \n",
       "5           2888474494                  336677357        50.513496   \n",
       "6              7891039                  406991407        50.209742   \n",
       "7           2888474494                  406991407        50.513496   \n",
       "8              7891039                 2322979918        50.209742   \n",
       "...                ...                        ...              ...   \n",
       "34863       3266363212                 4007624370       313.855499   \n",
       "34864       3266363212                 2274171199       313.855499   \n",
       "34865       3266363212                 3149890812       313.855499   \n",
       "34866       3266363212                 2375090011       313.855499   \n",
       "34867       3066163989                 2236598452       143.964173   \n",
       "\n",
       "       intersect_fwd_azimuth_360  intersect  \n",
       "4                     322.887452        1.0  \n",
       "5                     322.887452        1.0  \n",
       "6                     320.164468        1.0  \n",
       "7                     320.164468        1.0  \n",
       "8                     319.509786        1.0  \n",
       "...                          ...        ...  \n",
       "34863                 234.264878        1.0  \n",
       "34864                 234.264878        1.0  \n",
       "34865                 225.118313        1.0  \n",
       "34866                 225.140364        1.0  \n",
       "34867                  63.276684        1.0  \n",
       "\n",
       "[14774 rows x 5 columns]"
      ]
     },
     "execution_count": 86,
     "metadata": {},
     "output_type": "execute_result"
    }
   ],
   "source": [
    "intersects"
   ]
  },
  {
   "cell_type": "code",
   "execution_count": 66,
   "id": "e115792f-26a7-4c87-a41e-d24a35c29d37",
   "metadata": {
    "tags": []
   },
   "outputs": [],
   "source": [
    "path = f\"{GCS_FILE_PATH}subset_corridors.parquet\""
   ]
  },
  {
   "cell_type": "code",
   "execution_count": 68,
   "id": "9d992c30-bbe1-4812-af13-0f5c61a8d562",
   "metadata": {
    "tags": []
   },
   "outputs": [],
   "source": [
    "corridors = gcsgp.read_parquet(path)"
   ]
  },
  {
   "cell_type": "code",
   "execution_count": 75,
   "id": "1d1a2094-d688-4d0c-b4db-0c85748e8ea4",
   "metadata": {
    "tags": []
   },
   "outputs": [],
   "source": [
    "metro_corr = corridors.query('schedule_gtfs_dataset_key.str.contains(\"42610e\")')"
   ]
  },
  {
   "cell_type": "code",
   "execution_count": 76,
   "id": "83bcbee3-6130-4fa3-b181-4e4f425b4c2e",
   "metadata": {
    "tags": []
   },
   "outputs": [],
   "source": [
    "m = metro_corr.explore(column='fwd_azimuth')"
   ]
  },
  {
   "cell_type": "code",
   "execution_count": 77,
   "id": "6a970933-db15-4f24-b169-4cd738afab24",
   "metadata": {
    "tags": []
   },
   "outputs": [],
   "source": [
    "metro_ms = ms_spatial.query('schedule_gtfs_dataset_key_primary.str.contains(\"42610e\")')"
   ]
  },
  {
   "cell_type": "code",
   "execution_count": 94,
   "id": "047f9b9c-6105-41e4-a071-2f66866b2046",
   "metadata": {
    "tags": []
   },
   "outputs": [],
   "source": [
    "# metro_ms.explore(color='red', m=m)"
   ]
  },
  {
   "cell_type": "code",
   "execution_count": 91,
   "id": "6d537b57-ccdd-4a99-958a-0595d0a987c8",
   "metadata": {
    "tags": []
   },
   "outputs": [],
   "source": [
    "inter_corr = corridors.query('hqta_segment_id.isin(@intersects.hqta_segment_id)')"
   ]
  },
  {
   "cell_type": "code",
   "execution_count": 92,
   "id": "8483c046-316a-47ca-840e-cc9345f25f91",
   "metadata": {
    "tags": []
   },
   "outputs": [],
   "source": [
    "m2 = inter_corr.explore(column='fwd_azimuth')"
   ]
  },
  {
   "cell_type": "code",
   "execution_count": 95,
   "id": "047f7177-7747-4a35-b7ba-e202e19e3c40",
   "metadata": {
    "tags": []
   },
   "outputs": [],
   "source": [
    "# metro_ms.explore(color='red', m=m2)"
   ]
  },
  {
   "cell_type": "markdown",
   "id": "796908a9-6d45-44cb-a020-480bb0ef6d84",
   "metadata": {},
   "source": [
    "## bug theory\n",
    "\n",
    "* overlapping routes within a single operator are getting tagged as intersections, apparently regardless of azimuth"
   ]
  },
  {
   "cell_type": "code",
   "execution_count": null,
   "id": "9ad2638d-10f8-4c6f-8fa9-b5ee004258d4",
   "metadata": {},
   "outputs": [],
   "source": []
  }
 ],
 "metadata": {
  "kernelspec": {
   "display_name": "Python 3 (ipykernel)",
   "language": "python",
   "name": "python3"
  },
  "language_info": {
   "codemirror_mode": {
    "name": "ipython",
    "version": 3
   },
   "file_extension": ".py",
   "mimetype": "text/x-python",
   "name": "python",
   "nbconvert_exporter": "python",
   "pygments_lexer": "ipython3",
   "version": "3.11.10"
  },
  "widgets": {
   "application/vnd.jupyter.widget-state+json": {
    "state": {},
    "version_major": 2,
    "version_minor": 0
   }
  }
 },
 "nbformat": 4,
 "nbformat_minor": 5
}
