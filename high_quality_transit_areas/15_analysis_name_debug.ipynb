{
 "cells": [
  {
   "cell_type": "code",
   "execution_count": null,
   "id": "859f6203-1b64-48ca-9054-b73c4e907d71",
   "metadata": {},
   "outputs": [],
   "source": [
    "import os\n",
    "os.environ[\"CALITP_BQ_MAX_BYTES\"] = str(1_000_000_000_000) ## 1TB?"
   ]
  },
  {
   "cell_type": "code",
   "execution_count": null,
   "id": "fb9265e6-9510-443b-bd91-a7a7ea5dd022",
   "metadata": {},
   "outputs": [],
   "source": [
    "import geopandas as gpd\n",
    "import pandas as pd\n",
    "import numpy as np\n",
    "\n",
    "from segment_speed_utils import helpers, gtfs_schedule_wrangling\n",
    "from shared_utils import rt_utils, portfolio_utils\n",
    "\n",
    "import sys\n",
    "sys.path.append('./scripts/')\n",
    "\n",
    "from calitp_data_analysis import geography_utils"
   ]
  },
  {
   "cell_type": "code",
   "execution_count": null,
   "id": "a89ad0f5-ef8b-4039-87e9-553508b41b16",
   "metadata": {},
   "outputs": [],
   "source": [
    "from update_vars import (analysis_date, EXPORT_PATH, GCS_FILE_PATH, PROJECT_CRS,\n",
    "SEGMENT_BUFFER_METERS, HQ_TRANSIT_THRESHOLD, MS_TRANSIT_THRESHOLD, SHARED_STOP_THRESHOLD,\n",
    "                        HALF_MILE_BUFFER_METERS, INTERSECTION_BUFFER_METERS, HQTA_SEGMENT_LENGTH)"
   ]
  },
  {
   "cell_type": "code",
   "execution_count": null,
   "id": "4d401895-bb2a-45c9-a9d4-9ee97ae4d183",
   "metadata": {
    "tags": []
   },
   "outputs": [],
   "source": [
    "from calitp_data_analysis.gcs_geopandas import GCSGeoPandas\n",
    "gcsgp = GCSGeoPandas()"
   ]
  },
  {
   "cell_type": "code",
   "execution_count": null,
   "id": "ec0058df-b932-42d0-b12d-20f8076b4a98",
   "metadata": {
    "tags": []
   },
   "outputs": [],
   "source": [
    "import intake\n",
    "catalog = intake.open_catalog(\"*.yml\")"
   ]
  },
  {
   "cell_type": "markdown",
   "id": "9d58fb6b-32e1-4fb6-b940-2cae986e6457",
   "metadata": {},
   "source": [
    "# Debug"
   ]
  },
  {
   "cell_type": "markdown",
   "id": "8a6b8a3a-4cb1-4548-8e7e-10d4d023d755",
   "metadata": {},
   "source": [
    "## better circuitous"
   ]
  },
  {
   "cell_type": "code",
   "execution_count": null,
   "id": "5af4424a-7003-4830-9329-ec1335060651",
   "metadata": {
    "tags": []
   },
   "outputs": [],
   "source": [
    "segs = gcsgp.read_parquet(f\"{GCS_FILE_PATH}hqta_segments.parquet\")"
   ]
  },
  {
   "cell_type": "code",
   "execution_count": null,
   "id": "40f99a4b-7310-4a45-b2a6-d2b63aeef7a8",
   "metadata": {
    "tags": []
   },
   "outputs": [],
   "source": [
    "import sjoin_stops_to_segments\n",
    "importlib.reload(sjoin_stops_to_segments)"
   ]
  },
  {
   "cell_type": "code",
   "execution_count": null,
   "id": "003622d7-edd6-4ed1-ba9b-65d33f02bf61",
   "metadata": {
    "tags": []
   },
   "outputs": [],
   "source": [
    "segs.head(3)"
   ]
  },
  {
   "cell_type": "code",
   "execution_count": null,
   "id": "ad5c06d8-f1b9-4dc7-9a07-2dea40537cfd",
   "metadata": {
    "tags": []
   },
   "outputs": [],
   "source": [
    "segs = sjoin_stops_to_segments.find_inconclusive_directions(segs)"
   ]
  },
  {
   "cell_type": "markdown",
   "id": "135d597e-6b74-4615-9e91-24d1a97146aa",
   "metadata": {},
   "source": [
    "## Major Stop Overcounts near UCLA\n",
    "\n",
    "* sepulveda: present in spatial only\n",
    "* san vicente: not present\n",
    "* wilshire: present in spatial only (both condo canyon and BH)\n",
    "* pico: not present"
   ]
  },
  {
   "cell_type": "code",
   "execution_count": null,
   "id": "89f13eb7-aef7-4389-a420-0dcebf83b329",
   "metadata": {
    "tags": []
   },
   "outputs": [],
   "source": [
    "ms_spatial = catalog.major_stop_bus.read()"
   ]
  },
  {
   "cell_type": "code",
   "execution_count": null,
   "id": "630a3399-51e0-43b0-ab9f-b729cd62d99e",
   "metadata": {
    "tags": []
   },
   "outputs": [],
   "source": [
    "ms_branching = catalog.major_stop_bus_branching.read()"
   ]
  },
  {
   "cell_type": "code",
   "execution_count": null,
   "id": "0e0656fd-67d0-44fb-840f-2cd64485ac1d",
   "metadata": {
    "tags": []
   },
   "outputs": [],
   "source": [
    "# ms_branching.explore()"
   ]
  },
  {
   "cell_type": "code",
   "execution_count": null,
   "id": "07a6ae24-1377-424c-a2e8-281077b3a71d",
   "metadata": {
    "tags": []
   },
   "outputs": [],
   "source": [
    "# ms_spatial.explore()"
   ]
  },
  {
   "cell_type": "code",
   "execution_count": null,
   "id": "e115792f-26a7-4c87-a41e-d24a35c29d37",
   "metadata": {
    "tags": []
   },
   "outputs": [],
   "source": [
    "path = f\"{GCS_FILE_PATH}subset_corridors.parquet\""
   ]
  },
  {
   "cell_type": "code",
   "execution_count": null,
   "id": "9d992c30-bbe1-4812-af13-0f5c61a8d562",
   "metadata": {
    "tags": []
   },
   "outputs": [],
   "source": [
    "corridors = gcsgp.read_parquet(path)"
   ]
  },
  {
   "cell_type": "code",
   "execution_count": null,
   "id": "8be736c2-d969-45e3-bb2d-9b2b11e26373",
   "metadata": {
    "tags": []
   },
   "outputs": [],
   "source": [
    "corridors.circuitous_segment.value_counts()"
   ]
  },
  {
   "cell_type": "code",
   "execution_count": null,
   "id": "8483c046-316a-47ca-840e-cc9345f25f91",
   "metadata": {
    "tags": []
   },
   "outputs": [],
   "source": [
    "m2 = corridors.explore(column='fwd_azimuth_360')"
   ]
  },
  {
   "cell_type": "code",
   "execution_count": null,
   "id": "047f7177-7747-4a35-b7ba-e202e19e3c40",
   "metadata": {
    "tags": []
   },
   "outputs": [],
   "source": [
    "# ms_spatial.explore(color='red', m=m2)"
   ]
  },
  {
   "cell_type": "code",
   "execution_count": null,
   "id": "388d8201-026b-4b29-9bc3-4f08561db317",
   "metadata": {
    "tags": []
   },
   "outputs": [],
   "source": [
    "pd.read_parquet(f\"{GCS_FILE_PATH}max_arrivals_by_stop.parquet\")"
   ]
  },
  {
   "cell_type": "code",
   "execution_count": null,
   "id": "d9e66aa8-417e-4e7e-bc9b-d1c1953fc46a",
   "metadata": {
    "tags": []
   },
   "outputs": [],
   "source": [
    "gcsgp.read_parquet(f\"{GCS_FILE_PATH}all_bus.parquet\")"
   ]
  }
 ],
 "metadata": {
  "kernelspec": {
   "display_name": "Python 3 (ipykernel)",
   "language": "python",
   "name": "python3"
  },
  "language_info": {
   "codemirror_mode": {
    "name": "ipython",
    "version": 3
   },
   "file_extension": ".py",
   "mimetype": "text/x-python",
   "name": "python",
   "nbconvert_exporter": "python",
   "pygments_lexer": "ipython3",
   "version": "3.11.10"
  },
  "widgets": {
   "application/vnd.jupyter.widget-state+json": {
    "state": {},
    "version_major": 2,
    "version_minor": 0
   }
  }
 },
 "nbformat": 4,
 "nbformat_minor": 5
}
