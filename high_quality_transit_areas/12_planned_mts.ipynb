{
 "cells": [
  {
   "cell_type": "code",
   "execution_count": 1,
   "id": "68203768-ef00-4a0a-bb1f-bd254c83ff5b",
   "metadata": {
    "tags": []
   },
   "outputs": [],
   "source": [
    "import os\n",
    "os.environ[\"CALITP_BQ_MAX_BYTES\"] = str(1_000_000_000_000) ## 1TB?"
   ]
  },
  {
   "cell_type": "code",
   "execution_count": 2,
   "id": "9e0b5840-f301-4968-b669-9bbbd441a58d",
   "metadata": {
    "tags": []
   },
   "outputs": [],
   "source": [
    "import geopandas as gpd\n",
    "import pandas as pd\n",
    "import numpy as np\n",
    "import sys\n",
    "sys.path.append('./scripts/')"
   ]
  },
  {
   "cell_type": "code",
   "execution_count": 3,
   "id": "c1ed9e22-b7d9-4dbb-8fa7-f486610d2e78",
   "metadata": {
    "tags": []
   },
   "outputs": [],
   "source": [
    "from update_vars import (analysis_date, AM_PEAK, PM_PEAK, EXPORT_PATH, GCS_FILE_PATH, PROJECT_CRS,\n",
    "SEGMENT_BUFFER_METERS, AM_PEAK, PM_PEAK, HQ_TRANSIT_THRESHOLD, MS_TRANSIT_THRESHOLD, HALF_MILE_BUFFER_METERS,\n",
    "                        MPO_DATA_PATH)"
   ]
  },
  {
   "cell_type": "code",
   "execution_count": 4,
   "id": "72b0ad55-9d29-4050-be74-a15f2575d4b4",
   "metadata": {
    "tags": []
   },
   "outputs": [],
   "source": [
    "from calitp_data_analysis.tables import tbls"
   ]
  },
  {
   "cell_type": "code",
   "execution_count": 5,
   "id": "4a9ee176-f774-4298-b97d-08c76160b905",
   "metadata": {
    "tags": []
   },
   "outputs": [],
   "source": [
    "from calitp_data_analysis import get_fs\n",
    "fs = get_fs()\n",
    "from calitp_data_analysis.gcs_geopandas import GCSGeoPandas\n",
    "gcsgp = GCSGeoPandas()"
   ]
  },
  {
   "cell_type": "code",
   "execution_count": 6,
   "id": "6d1e9305-3a5c-4acb-84f2-f7a86541dd2f",
   "metadata": {
    "tags": []
   },
   "outputs": [],
   "source": [
    "import assemble_hqta_points"
   ]
  },
  {
   "cell_type": "code",
   "execution_count": 20,
   "id": "a2d8c912-9083-4078-bc14-504afa089658",
   "metadata": {
    "tags": []
   },
   "outputs": [],
   "source": [
    "mpos = [x.split('/')[-1].split('.')[0] for x in fs.ls(MPO_DATA_PATH) if x.split('/')[-1] != 'mpo_input']"
   ]
  },
  {
   "cell_type": "code",
   "execution_count": 16,
   "id": "8a3d09e7-0aa4-413e-9bc9-d2869e08c716",
   "metadata": {
    "tags": []
   },
   "outputs": [
    {
     "data": {
      "text/plain": [
       "['calitp-analytics-data',\n",
       " 'data-analyses',\n",
       " 'high_quality_transit_areas',\n",
       " 'mpo_input']"
      ]
     },
     "execution_count": 16,
     "metadata": {},
     "output_type": "execute_result"
    }
   ],
   "source": [
    "fs.ls(MPO_DATA_PATH)[0].split('/')"
   ]
  },
  {
   "cell_type": "code",
   "execution_count": 17,
   "id": "55cd1c0b-44c4-4c87-8ebe-b3cc9697c92a",
   "metadata": {
    "tags": []
   },
   "outputs": [
    {
     "data": {
      "text/plain": [
       "'gs://calitp-analytics-data/data-analyses/high_quality_transit_areas/mpo_input/'"
      ]
     },
     "execution_count": 17,
     "metadata": {},
     "output_type": "execute_result"
    }
   ],
   "source": [
    "MPO_DATA_PATH"
   ]
  },
  {
   "cell_type": "code",
   "execution_count": 18,
   "id": "e3297d09-734c-4eee-84cf-90959b1ec542",
   "metadata": {
    "tags": []
   },
   "outputs": [
    {
     "data": {
      "text/plain": [
       "['mtc', 'sacog', 'sandag', 'scag']"
      ]
     },
     "execution_count": 18,
     "metadata": {},
     "output_type": "execute_result"
    }
   ],
   "source": [
    "mpos"
   ]
  },
  {
   "cell_type": "code",
   "execution_count": 15,
   "id": "d24c1785-6ab3-4460-a37e-9bd82e1e03a9",
   "metadata": {
    "tags": []
   },
   "outputs": [],
   "source": [
    "def read_standardize_mpo_input(mpo_name: str, mpo_data_path = MPO_DATA_PATH, gcsgp = gcsgp) -> gpd.GeoDataFrame:\n",
    "    \"\"\"\n",
    "    Read in mpo-provided planned major transit stops and enforce schema.\n",
    "    \"\"\"\n",
    "    mpo_gdf = gcsgp.read_file(f'{MPO_DATA_PATH}{mpo_name}.geojson')\n",
    "    required_cols = ['mpo', 'hqta_type', 'plan_name']\n",
    "    optional_cols = ['stop_id', 'avg_trips_per_peak_hr', 'agency_primary']\n",
    "    all_cols = required_cols + optional_cols + ['geometry']\n",
    "    assert set(required_cols).issubset(mpo_gdf.columns)\n",
    "    filter_cols = [col for col in all_cols if col in mpo_gdf.columns]\n",
    "    mpo_gdf = mpo_gdf[filter_cols]\n",
    "    return mpo_gdf"
   ]
  },
  {
   "cell_type": "code",
   "execution_count": 16,
   "id": "fc736f78-75bf-4e42-b061-ecff953bb5b8",
   "metadata": {
    "tags": []
   },
   "outputs": [],
   "source": [
    "mpo_planned_mts = pd.concat([read_standardize_mpo_input(mpo_name) for mpo_name in mpos])"
   ]
  },
  {
   "cell_type": "code",
   "execution_count": 17,
   "id": "abb258c8-55a2-4ce2-9ecc-05c670f9c2e5",
   "metadata": {
    "tags": []
   },
   "outputs": [
    {
     "data": {
      "text/html": [
       "<div>\n",
       "<style scoped>\n",
       "    .dataframe tbody tr th:only-of-type {\n",
       "        vertical-align: middle;\n",
       "    }\n",
       "\n",
       "    .dataframe tbody tr th {\n",
       "        vertical-align: top;\n",
       "    }\n",
       "\n",
       "    .dataframe thead th {\n",
       "        text-align: right;\n",
       "    }\n",
       "</style>\n",
       "<table border=\"1\" class=\"dataframe\">\n",
       "  <thead>\n",
       "    <tr style=\"text-align: right;\">\n",
       "      <th></th>\n",
       "      <th>mpo</th>\n",
       "      <th>hqta_type</th>\n",
       "      <th>plan_name</th>\n",
       "      <th>agency_primary</th>\n",
       "      <th>geometry</th>\n",
       "      <th>stop_id</th>\n",
       "      <th>avg_trips_per_peak_hr</th>\n",
       "    </tr>\n",
       "  </thead>\n",
       "  <tbody>\n",
       "    <tr>\n",
       "      <th>0</th>\n",
       "      <td>MTC</td>\n",
       "      <td>major_stop_brt</td>\n",
       "      <td>Plan Bay Area 2050 (2021)</td>\n",
       "      <td>AC Transit</td>\n",
       "      <td>POINT (-122.29408 37.87535)</td>\n",
       "      <td>NaN</td>\n",
       "      <td>NaN</td>\n",
       "    </tr>\n",
       "    <tr>\n",
       "      <th>1</th>\n",
       "      <td>MTC</td>\n",
       "      <td>major_stop_brt</td>\n",
       "      <td>Plan Bay Area 2050 (2021)</td>\n",
       "      <td>SamTrans</td>\n",
       "      <td>POINT (-122.35600 37.57840)</td>\n",
       "      <td>NaN</td>\n",
       "      <td>NaN</td>\n",
       "    </tr>\n",
       "    <tr>\n",
       "      <th>2</th>\n",
       "      <td>MTC</td>\n",
       "      <td>major_stop_brt</td>\n",
       "      <td>Plan Bay Area 2050 (2021)</td>\n",
       "      <td>SamTrans</td>\n",
       "      <td>POINT (-122.34807 37.57595)</td>\n",
       "      <td>NaN</td>\n",
       "      <td>NaN</td>\n",
       "    </tr>\n",
       "    <tr>\n",
       "      <th>3</th>\n",
       "      <td>MTC</td>\n",
       "      <td>major_stop_brt</td>\n",
       "      <td>Plan Bay Area 2050 (2021)</td>\n",
       "      <td>SamTrans</td>\n",
       "      <td>POINT (-122.34752 37.57564)</td>\n",
       "      <td>NaN</td>\n",
       "      <td>NaN</td>\n",
       "    </tr>\n",
       "    <tr>\n",
       "      <th>4</th>\n",
       "      <td>MTC</td>\n",
       "      <td>major_stop_brt</td>\n",
       "      <td>Plan Bay Area 2050 (2021)</td>\n",
       "      <td>SamTrans</td>\n",
       "      <td>POINT (-122.34291 37.57451)</td>\n",
       "      <td>NaN</td>\n",
       "      <td>NaN</td>\n",
       "    </tr>\n",
       "    <tr>\n",
       "      <th>...</th>\n",
       "      <td>...</td>\n",
       "      <td>...</td>\n",
       "      <td>...</td>\n",
       "      <td>...</td>\n",
       "      <td>...</td>\n",
       "      <td>...</td>\n",
       "      <td>...</td>\n",
       "    </tr>\n",
       "    <tr>\n",
       "      <th>1345</th>\n",
       "      <td>SCAG</td>\n",
       "      <td>major_stop_rail</td>\n",
       "      <td>2024 RTP</td>\n",
       "      <td>NaN</td>\n",
       "      <td>POINT (-118.16458 33.91167)</td>\n",
       "      <td>NaN</td>\n",
       "      <td>NaN</td>\n",
       "    </tr>\n",
       "    <tr>\n",
       "      <th>1346</th>\n",
       "      <td>SCAG</td>\n",
       "      <td>major_stop_rail</td>\n",
       "      <td>2024 RTP</td>\n",
       "      <td>NaN</td>\n",
       "      <td>POINT (-118.22498 33.98541)</td>\n",
       "      <td>NaN</td>\n",
       "      <td>NaN</td>\n",
       "    </tr>\n",
       "    <tr>\n",
       "      <th>1347</th>\n",
       "      <td>SCAG</td>\n",
       "      <td>major_stop_rail</td>\n",
       "      <td>2024 RTP</td>\n",
       "      <td>NaN</td>\n",
       "      <td>POINT (-118.16146 33.90424)</td>\n",
       "      <td>NaN</td>\n",
       "      <td>NaN</td>\n",
       "    </tr>\n",
       "    <tr>\n",
       "      <th>1348</th>\n",
       "      <td>SCAG</td>\n",
       "      <td>major_stop_rail</td>\n",
       "      <td>2024 RTP</td>\n",
       "      <td>NaN</td>\n",
       "      <td>POINT (-118.08148 33.85992)</td>\n",
       "      <td>NaN</td>\n",
       "      <td>NaN</td>\n",
       "    </tr>\n",
       "    <tr>\n",
       "      <th>1349</th>\n",
       "      <td>SCAG</td>\n",
       "      <td>major_stop_rail</td>\n",
       "      <td>2024 RTP</td>\n",
       "      <td>NaN</td>\n",
       "      <td>POINT (-118.24327 33.98872)</td>\n",
       "      <td>NaN</td>\n",
       "      <td>NaN</td>\n",
       "    </tr>\n",
       "  </tbody>\n",
       "</table>\n",
       "<p>3156 rows × 7 columns</p>\n",
       "</div>"
      ],
      "text/plain": [
       "       mpo        hqta_type                  plan_name agency_primary  \\\n",
       "0      MTC   major_stop_brt  Plan Bay Area 2050 (2021)     AC Transit   \n",
       "1      MTC   major_stop_brt  Plan Bay Area 2050 (2021)       SamTrans   \n",
       "2      MTC   major_stop_brt  Plan Bay Area 2050 (2021)       SamTrans   \n",
       "3      MTC   major_stop_brt  Plan Bay Area 2050 (2021)       SamTrans   \n",
       "4      MTC   major_stop_brt  Plan Bay Area 2050 (2021)       SamTrans   \n",
       "...    ...              ...                        ...            ...   \n",
       "1345  SCAG  major_stop_rail                   2024 RTP            NaN   \n",
       "1346  SCAG  major_stop_rail                   2024 RTP            NaN   \n",
       "1347  SCAG  major_stop_rail                   2024 RTP            NaN   \n",
       "1348  SCAG  major_stop_rail                   2024 RTP            NaN   \n",
       "1349  SCAG  major_stop_rail                   2024 RTP            NaN   \n",
       "\n",
       "                         geometry stop_id avg_trips_per_peak_hr  \n",
       "0     POINT (-122.29408 37.87535)     NaN                   NaN  \n",
       "1     POINT (-122.35600 37.57840)     NaN                   NaN  \n",
       "2     POINT (-122.34807 37.57595)     NaN                   NaN  \n",
       "3     POINT (-122.34752 37.57564)     NaN                   NaN  \n",
       "4     POINT (-122.34291 37.57451)     NaN                   NaN  \n",
       "...                           ...     ...                   ...  \n",
       "1345  POINT (-118.16458 33.91167)     NaN                   NaN  \n",
       "1346  POINT (-118.22498 33.98541)     NaN                   NaN  \n",
       "1347  POINT (-118.16146 33.90424)     NaN                   NaN  \n",
       "1348  POINT (-118.08148 33.85992)     NaN                   NaN  \n",
       "1349  POINT (-118.24327 33.98872)     NaN                   NaN  \n",
       "\n",
       "[3156 rows x 7 columns]"
      ]
     },
     "execution_count": 17,
     "metadata": {},
     "output_type": "execute_result"
    }
   ],
   "source": [
    "mpo_planned_mts"
   ]
  }
 ],
 "metadata": {
  "kernelspec": {
   "display_name": "Python 3 (ipykernel)",
   "language": "python",
   "name": "python3"
  },
  "language_info": {
   "codemirror_mode": {
    "name": "ipython",
    "version": 3
   },
   "file_extension": ".py",
   "mimetype": "text/x-python",
   "name": "python",
   "nbconvert_exporter": "python",
   "pygments_lexer": "ipython3",
   "version": "3.11.10"
  },
  "widgets": {
   "application/vnd.jupyter.widget-state+json": {
    "state": {},
    "version_major": 2,
    "version_minor": 0
   }
  }
 },
 "nbformat": 4,
 "nbformat_minor": 5
}
