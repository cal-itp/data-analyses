{
 "cells": [
  {
   "cell_type": "code",
   "execution_count": 1,
   "id": "68203768-ef00-4a0a-bb1f-bd254c83ff5b",
   "metadata": {},
   "outputs": [],
   "source": [
    "import os\n",
    "os.environ[\"CALITP_BQ_MAX_BYTES\"] = str(1_000_000_000_000) ## 1TB?"
   ]
  },
  {
   "cell_type": "code",
   "execution_count": 2,
   "id": "9e0b5840-f301-4968-b669-9bbbd441a58d",
   "metadata": {},
   "outputs": [],
   "source": [
    "import geopandas as gpd\n",
    "import pandas as pd\n",
    "# from siuba import *\n",
    "import numpy as np\n",
    "import sys\n",
    "sys.path.append('./scripts/')"
   ]
  },
  {
   "cell_type": "code",
   "execution_count": 3,
   "id": "c1ed9e22-b7d9-4dbb-8fa7-f486610d2e78",
   "metadata": {},
   "outputs": [],
   "source": [
    "from update_vars import (analysis_date, AM_PEAK, PM_PEAK, EXPORT_PATH, GCS_FILE_PATH, PROJECT_CRS,\n",
    "SEGMENT_BUFFER_METERS, AM_PEAK, PM_PEAK, HQ_TRANSIT_THRESHOLD, MS_TRANSIT_THRESHOLD, HALF_MILE_BUFFER_METERS,\n",
    "                        MPO_DATA_PATH)"
   ]
  },
  {
   "cell_type": "code",
   "execution_count": 4,
   "id": "72b0ad55-9d29-4050-be74-a15f2575d4b4",
   "metadata": {
    "tags": []
   },
   "outputs": [],
   "source": [
    "from calitp_data_analysis.tables import tbls"
   ]
  },
  {
   "cell_type": "code",
   "execution_count": 6,
   "id": "4a9ee176-f774-4298-b97d-08c76160b905",
   "metadata": {
    "tags": []
   },
   "outputs": [],
   "source": [
    "from calitp_data_analysis import get_fs\n",
    "fs = get_fs()\n",
    "from calitp_data_analysis.gcs_geopandas import GCSGeoPandas\n",
    "gcsgp = GCSGeoPandas()"
   ]
  },
  {
   "cell_type": "code",
   "execution_count": 11,
   "id": "fdf4802f-d990-41aa-8969-13f717547567",
   "metadata": {
    "tags": []
   },
   "outputs": [],
   "source": [
    "mpos = [x.split('/')[-1].split('.')[0] for x in fs.ls(MPO_DATA_PATH) if x.split('/')[-1]]"
   ]
  },
  {
   "cell_type": "code",
   "execution_count": 12,
   "id": "55cd1c0b-44c4-4c87-8ebe-b3cc9697c92a",
   "metadata": {
    "tags": []
   },
   "outputs": [
    {
     "data": {
      "text/plain": [
       "'gs://calitp-analytics-data/data-analyses/high_quality_transit_areas/mpo_input/'"
      ]
     },
     "execution_count": 12,
     "metadata": {},
     "output_type": "execute_result"
    }
   ],
   "source": [
    "MPO_DATA_PATH"
   ]
  },
  {
   "cell_type": "code",
   "execution_count": 24,
   "id": "d24c1785-6ab3-4460-a37e-9bd82e1e03a9",
   "metadata": {
    "tags": []
   },
   "outputs": [],
   "source": [
    "def read_standardize_mpo_input(mpo_name: str, mpo_data_path = MPO_DATA_PATH, gcsgp = gcsgp) -> gpd.GeoDataFrame:\n",
    "    \"\"\"\n",
    "    Read in mpo-provided planned major transit stops and enforce schema.\n",
    "    \"\"\"\n",
    "    mpo_gdf = gcsgp.read_file(f'{MPO_DATA_PATH}{mpo_name}.geojson')\n",
    "    required_cols = ['mpo', 'hqta_type', 'plan_name']\n",
    "    optional_cols = ['stop_id', 'avg_trips_per_peak_hr', 'agency_primary']\n",
    "    all_cols = required_cols + optional_cols + ['geometry']\n",
    "    assert set(required_cols).issubset(mpo_gdf.columns)\n",
    "    filter_cols = [col for col in all_cols if col in mpo_gdf.columns]\n",
    "    mpo_gdf = mpo_gdf[filter_cols]\n",
    "    return mpo_gdf"
   ]
  },
  {
   "cell_type": "code",
   "execution_count": 25,
   "id": "fc736f78-75bf-4e42-b061-ecff953bb5b8",
   "metadata": {
    "tags": []
   },
   "outputs": [],
   "source": [
    "mpo_planned_mts = pd.concat([read_standardize_mpo_input(mpo_name) for mpo_name in mpos])"
   ]
  },
  {
   "cell_type": "code",
   "execution_count": 28,
   "id": "abb258c8-55a2-4ce2-9ecc-05c670f9c2e5",
   "metadata": {
    "tags": []
   },
   "outputs": [
    {
     "data": {
      "text/html": [
       "<div>\n",
       "<style scoped>\n",
       "    .dataframe tbody tr th:only-of-type {\n",
       "        vertical-align: middle;\n",
       "    }\n",
       "\n",
       "    .dataframe tbody tr th {\n",
       "        vertical-align: top;\n",
       "    }\n",
       "\n",
       "    .dataframe thead th {\n",
       "        text-align: right;\n",
       "    }\n",
       "</style>\n",
       "<table border=\"1\" class=\"dataframe\">\n",
       "  <thead>\n",
       "    <tr style=\"text-align: right;\">\n",
       "      <th></th>\n",
       "      <th>mpo</th>\n",
       "      <th>hqta_type</th>\n",
       "      <th>plan_name</th>\n",
       "      <th>agency_primary</th>\n",
       "      <th>geometry</th>\n",
       "      <th>stop_id</th>\n",
       "      <th>avg_trips_per_peak_hr</th>\n",
       "    </tr>\n",
       "  </thead>\n",
       "  <tbody>\n",
       "    <tr>\n",
       "      <th>0</th>\n",
       "      <td>MTC</td>\n",
       "      <td>major_stop_brt</td>\n",
       "      <td>Plan Bay Area 2050 (2021)</td>\n",
       "      <td>AC Transit</td>\n",
       "      <td>POINT (-122.29408 37.87535)</td>\n",
       "      <td>NaN</td>\n",
       "      <td>NaN</td>\n",
       "    </tr>\n",
       "    <tr>\n",
       "      <th>1</th>\n",
       "      <td>MTC</td>\n",
       "      <td>major_stop_brt</td>\n",
       "      <td>Plan Bay Area 2050 (2021)</td>\n",
       "      <td>SamTrans</td>\n",
       "      <td>POINT (-122.35600 37.57840)</td>\n",
       "      <td>NaN</td>\n",
       "      <td>NaN</td>\n",
       "    </tr>\n",
       "    <tr>\n",
       "      <th>2</th>\n",
       "      <td>MTC</td>\n",
       "      <td>major_stop_brt</td>\n",
       "      <td>Plan Bay Area 2050 (2021)</td>\n",
       "      <td>SamTrans</td>\n",
       "      <td>POINT (-122.34807 37.57595)</td>\n",
       "      <td>NaN</td>\n",
       "      <td>NaN</td>\n",
       "    </tr>\n",
       "    <tr>\n",
       "      <th>3</th>\n",
       "      <td>MTC</td>\n",
       "      <td>major_stop_brt</td>\n",
       "      <td>Plan Bay Area 2050 (2021)</td>\n",
       "      <td>SamTrans</td>\n",
       "      <td>POINT (-122.34752 37.57564)</td>\n",
       "      <td>NaN</td>\n",
       "      <td>NaN</td>\n",
       "    </tr>\n",
       "    <tr>\n",
       "      <th>4</th>\n",
       "      <td>MTC</td>\n",
       "      <td>major_stop_brt</td>\n",
       "      <td>Plan Bay Area 2050 (2021)</td>\n",
       "      <td>SamTrans</td>\n",
       "      <td>POINT (-122.34291 37.57451)</td>\n",
       "      <td>NaN</td>\n",
       "      <td>NaN</td>\n",
       "    </tr>\n",
       "    <tr>\n",
       "      <th>...</th>\n",
       "      <td>...</td>\n",
       "      <td>...</td>\n",
       "      <td>...</td>\n",
       "      <td>...</td>\n",
       "      <td>...</td>\n",
       "      <td>...</td>\n",
       "      <td>...</td>\n",
       "    </tr>\n",
       "    <tr>\n",
       "      <th>1345</th>\n",
       "      <td>SCAG</td>\n",
       "      <td>major_stop_rail</td>\n",
       "      <td>2024 RTP</td>\n",
       "      <td>NaN</td>\n",
       "      <td>POINT (-118.16458 33.91167)</td>\n",
       "      <td>NaN</td>\n",
       "      <td>NaN</td>\n",
       "    </tr>\n",
       "    <tr>\n",
       "      <th>1346</th>\n",
       "      <td>SCAG</td>\n",
       "      <td>major_stop_rail</td>\n",
       "      <td>2024 RTP</td>\n",
       "      <td>NaN</td>\n",
       "      <td>POINT (-118.22498 33.98541)</td>\n",
       "      <td>NaN</td>\n",
       "      <td>NaN</td>\n",
       "    </tr>\n",
       "    <tr>\n",
       "      <th>1347</th>\n",
       "      <td>SCAG</td>\n",
       "      <td>major_stop_rail</td>\n",
       "      <td>2024 RTP</td>\n",
       "      <td>NaN</td>\n",
       "      <td>POINT (-118.16146 33.90424)</td>\n",
       "      <td>NaN</td>\n",
       "      <td>NaN</td>\n",
       "    </tr>\n",
       "    <tr>\n",
       "      <th>1348</th>\n",
       "      <td>SCAG</td>\n",
       "      <td>major_stop_rail</td>\n",
       "      <td>2024 RTP</td>\n",
       "      <td>NaN</td>\n",
       "      <td>POINT (-118.08148 33.85992)</td>\n",
       "      <td>NaN</td>\n",
       "      <td>NaN</td>\n",
       "    </tr>\n",
       "    <tr>\n",
       "      <th>1349</th>\n",
       "      <td>SCAG</td>\n",
       "      <td>major_stop_rail</td>\n",
       "      <td>2024 RTP</td>\n",
       "      <td>NaN</td>\n",
       "      <td>POINT (-118.24327 33.98872)</td>\n",
       "      <td>NaN</td>\n",
       "      <td>NaN</td>\n",
       "    </tr>\n",
       "  </tbody>\n",
       "</table>\n",
       "<p>3156 rows × 7 columns</p>\n",
       "</div>"
      ],
      "text/plain": [
       "       mpo        hqta_type                  plan_name agency_primary  \\\n",
       "0      MTC   major_stop_brt  Plan Bay Area 2050 (2021)     AC Transit   \n",
       "1      MTC   major_stop_brt  Plan Bay Area 2050 (2021)       SamTrans   \n",
       "2      MTC   major_stop_brt  Plan Bay Area 2050 (2021)       SamTrans   \n",
       "3      MTC   major_stop_brt  Plan Bay Area 2050 (2021)       SamTrans   \n",
       "4      MTC   major_stop_brt  Plan Bay Area 2050 (2021)       SamTrans   \n",
       "...    ...              ...                        ...            ...   \n",
       "1345  SCAG  major_stop_rail                   2024 RTP            NaN   \n",
       "1346  SCAG  major_stop_rail                   2024 RTP            NaN   \n",
       "1347  SCAG  major_stop_rail                   2024 RTP            NaN   \n",
       "1348  SCAG  major_stop_rail                   2024 RTP            NaN   \n",
       "1349  SCAG  major_stop_rail                   2024 RTP            NaN   \n",
       "\n",
       "                         geometry stop_id avg_trips_per_peak_hr  \n",
       "0     POINT (-122.29408 37.87535)     NaN                   NaN  \n",
       "1     POINT (-122.35600 37.57840)     NaN                   NaN  \n",
       "2     POINT (-122.34807 37.57595)     NaN                   NaN  \n",
       "3     POINT (-122.34752 37.57564)     NaN                   NaN  \n",
       "4     POINT (-122.34291 37.57451)     NaN                   NaN  \n",
       "...                           ...     ...                   ...  \n",
       "1345  POINT (-118.16458 33.91167)     NaN                   NaN  \n",
       "1346  POINT (-118.22498 33.98541)     NaN                   NaN  \n",
       "1347  POINT (-118.16146 33.90424)     NaN                   NaN  \n",
       "1348  POINT (-118.08148 33.85992)     NaN                   NaN  \n",
       "1349  POINT (-118.24327 33.98872)     NaN                   NaN  \n",
       "\n",
       "[3156 rows x 7 columns]"
      ]
     },
     "execution_count": 28,
     "metadata": {},
     "output_type": "execute_result"
    }
   ],
   "source": [
    "mpo_planned_mts"
   ]
  },
  {
   "cell_type": "code",
   "execution_count": 34,
   "id": "e22cf21a-8c5e-4a91-b5d6-bc4e397bbafd",
   "metadata": {
    "tags": []
   },
   "outputs": [
    {
     "data": {
      "text/plain": [
       "'MTC'"
      ]
     },
     "execution_count": 34,
     "metadata": {},
     "output_type": "execute_result"
    }
   ],
   "source": [
    "mpo_planned_mts.iloc[0].mpo"
   ]
  },
  {
   "cell_type": "code",
   "execution_count": 42,
   "id": "27892fd3-1491-44e3-8622-7ff2a20b4a3b",
   "metadata": {
    "tags": []
   },
   "outputs": [
    {
     "data": {
      "text/plain": [
       "float"
      ]
     },
     "execution_count": 42,
     "metadata": {},
     "output_type": "execute_result"
    }
   ],
   "source": [
    "type(mpo_planned_mts.iloc[0].stop_id)"
   ]
  },
  {
   "cell_type": "code",
   "execution_count": 44,
   "id": "b68b1026-50af-4075-bf51-8bdfe3a5450f",
   "metadata": {
    "tags": []
   },
   "outputs": [
    {
     "data": {
      "text/plain": [
       "False"
      ]
     },
     "execution_count": 44,
     "metadata": {},
     "output_type": "execute_result"
    }
   ],
   "source": [
    "isinstance(mpo_planned_mts.iloc[0].stop_id, str)"
   ]
  },
  {
   "cell_type": "code",
   "execution_count": 27,
   "id": "93be5cfd-12aa-4058-bad3-a6b9ccb3a161",
   "metadata": {
    "tags": []
   },
   "outputs": [],
   "source": [
    "# mpo_planned_mts.explore()"
   ]
  },
  {
   "cell_type": "code",
   "execution_count": 28,
   "id": "797a9d9d-3277-4e2f-ad23-cfb412919977",
   "metadata": {
    "tags": []
   },
   "outputs": [],
   "source": [
    "import intake"
   ]
  },
  {
   "cell_type": "code",
   "execution_count": 29,
   "id": "db115dd0-7639-4260-b940-88c7c11ad7eb",
   "metadata": {
    "tags": []
   },
   "outputs": [],
   "source": [
    "catalog = intake.open_catalog(\"../_shared_utils/shared_utils/shared_data_catalog.yml\")"
   ]
  },
  {
   "cell_type": "code",
   "execution_count": 30,
   "id": "9d49512e-9807-4daa-acad-de7eb148fd8b",
   "metadata": {
    "tags": []
   },
   "outputs": [
    {
     "data": {
      "application/yaml": "hqta_areas:\n  args:\n    urlpath: gs://calitp-analytics-data/data-analyses/high_quality_transit_areas/hqta_areas.parquet\n  description: CA high quality transit areas with polygon geometry (open data)\n  driver: intake_geopandas.geopandas.GeoParquetSource\n  metadata:\n    catalog_dir: /home/jovyan/data-analyses/high_quality_transit_areas/../_shared_utils/shared_utils/\n",
      "text/plain": [
       "hqta_areas:\n",
       "  args:\n",
       "    urlpath: gs://calitp-analytics-data/data-analyses/high_quality_transit_areas/hqta_areas.parquet\n",
       "  description: CA high quality transit areas with polygon geometry (open data)\n",
       "  driver: intake_geopandas.geopandas.GeoParquetSource\n",
       "  metadata:\n",
       "    catalog_dir: /home/jovyan/data-analyses/high_quality_transit_areas/../_shared_utils/shared_utils/\n"
      ]
     },
     "metadata": {
      "application/json": {
       "root": "hqta_areas"
      }
     },
     "output_type": "display_data"
    }
   ],
   "source": [
    "catalog.hqta_areas"
   ]
  },
  {
   "cell_type": "code",
   "execution_count": 31,
   "id": "70b773bb-cbca-4ccd-8dac-e0cadaa2bbd3",
   "metadata": {
    "tags": []
   },
   "outputs": [
    {
     "data": {
      "application/yaml": "hqta_stops:\n  args:\n    urlpath: gs://calitp-analytics-data/data-analyses/high_quality_transit_areas/hqta_points.parquet\n  description: CA high quality transit areas with point geometry (open data)\n  driver: intake_geopandas.geopandas.GeoParquetSource\n  metadata:\n    catalog_dir: /home/jovyan/data-analyses/high_quality_transit_areas/../_shared_utils/shared_utils/\n",
      "text/plain": [
       "hqta_stops:\n",
       "  args:\n",
       "    urlpath: gs://calitp-analytics-data/data-analyses/high_quality_transit_areas/hqta_points.parquet\n",
       "  description: CA high quality transit areas with point geometry (open data)\n",
       "  driver: intake_geopandas.geopandas.GeoParquetSource\n",
       "  metadata:\n",
       "    catalog_dir: /home/jovyan/data-analyses/high_quality_transit_areas/../_shared_utils/shared_utils/\n"
      ]
     },
     "metadata": {
      "application/json": {
       "root": "hqta_stops"
      }
     },
     "output_type": "display_data"
    }
   ],
   "source": [
    "catalog.hqta_stops"
   ]
  },
  {
   "cell_type": "code",
   "execution_count": 32,
   "id": "8309a929-f19c-471e-a7c0-ceee7b764fc0",
   "metadata": {
    "tags": []
   },
   "outputs": [],
   "source": [
    "import google.auth"
   ]
  },
  {
   "cell_type": "code",
   "execution_count": 33,
   "id": "a76935e5-f149-4007-b12e-4c105cfdb131",
   "metadata": {
    "tags": []
   },
   "outputs": [],
   "source": [
    "credentials, project = google.auth.default()"
   ]
  },
  {
   "cell_type": "markdown",
   "id": "9c713084-0e06-47be-84ec-1d2261643d60",
   "metadata": {
    "tags": []
   },
   "source": [
    "## add buffered planned stops"
   ]
  },
  {
   "cell_type": "code",
   "execution_count": 34,
   "id": "069ca002-daca-4d20-9fe9-b1cb684fd68a",
   "metadata": {
    "tags": []
   },
   "outputs": [],
   "source": [
    "existing_areas = catalog.hqta_areas(\n",
    "    geopandas_kwargs={\"storage_options\": {\"token\": credentials.token}}\n",
    ").read()"
   ]
  },
  {
   "cell_type": "code",
   "execution_count": 35,
   "id": "0e8f7227-f3e6-4677-83db-47f3a32585ab",
   "metadata": {
    "tags": []
   },
   "outputs": [],
   "source": [
    "mpo_planned_mts = mpo_planned_mts.to_crs(PROJECT_CRS)"
   ]
  },
  {
   "cell_type": "code",
   "execution_count": 36,
   "id": "5507d3fb-a7b8-4a12-be89-57f039ae8e50",
   "metadata": {},
   "outputs": [],
   "source": [
    "mpo_planned_mts['hqta_details'] = 'mpo_rtp_planned_major_stop'"
   ]
  },
  {
   "cell_type": "code",
   "execution_count": 37,
   "id": "37bc1bca-f75d-4ccb-a70c-e554313436fe",
   "metadata": {
    "tags": []
   },
   "outputs": [],
   "source": [
    "mpo_buffered = mpo_planned_mts.copy()\n",
    "mpo_buffered.geometry = mpo_buffered.geometry.buffer(HALF_MILE_BUFFER_METERS)"
   ]
  },
  {
   "cell_type": "code",
   "execution_count": 38,
   "id": "9bce8bb5-2855-4227-b059-2543918cae49",
   "metadata": {
    "tags": []
   },
   "outputs": [],
   "source": [
    "# mpo_buffered"
   ]
  },
  {
   "cell_type": "code",
   "execution_count": 39,
   "id": "39ab90c6-ee6a-4bd8-8317-1428a7776c9d",
   "metadata": {
    "tags": []
   },
   "outputs": [],
   "source": [
    "# existing_areas"
   ]
  },
  {
   "cell_type": "code",
   "execution_count": 40,
   "id": "db69db92-d1ca-40c9-ae47-1ebc5df0ccca",
   "metadata": {
    "tags": []
   },
   "outputs": [],
   "source": [
    "from calitp_data_analysis.geography_utils import WGS84"
   ]
  },
  {
   "cell_type": "code",
   "execution_count": 41,
   "id": "04d7d506-3e16-4472-aed6-6b6b01d08746",
   "metadata": {
    "tags": []
   },
   "outputs": [],
   "source": [
    "mpo_buffered = mpo_buffered.to_crs(WGS84)"
   ]
  },
  {
   "cell_type": "code",
   "execution_count": 42,
   "id": "08287118-e5f4-4416-98c1-be9287a0d9e0",
   "metadata": {
    "tags": []
   },
   "outputs": [],
   "source": [
    "areas_with_planned = pd.concat([existing_areas, mpo_buffered])"
   ]
  },
  {
   "cell_type": "code",
   "execution_count": 43,
   "id": "7c034cb4-1174-45df-a4d9-05e6c3d993e8",
   "metadata": {
    "tags": []
   },
   "outputs": [
    {
     "data": {
      "text/plain": [
       "numpy.float64"
      ]
     },
     "execution_count": 43,
     "metadata": {},
     "output_type": "execute_result"
    }
   ],
   "source": [
    "np.float64"
   ]
  },
  {
   "cell_type": "code",
   "execution_count": 44,
   "id": "916b83c8-78db-4341-966c-fb5608820f30",
   "metadata": {
    "tags": []
   },
   "outputs": [],
   "source": [
    "areas_with_planned = areas_with_planned.astype({'stop_id': str, 'avg_trips_per_peak_hr': np.float64})"
   ]
  },
  {
   "cell_type": "code",
   "execution_count": 45,
   "id": "1f2d9613-d61a-4e4b-86a6-716ee7e18e18",
   "metadata": {
    "tags": []
   },
   "outputs": [],
   "source": [
    "import gcsfs\n",
    "fs = gcsfs.GCSFileSystem(token=credentials)"
   ]
  },
  {
   "cell_type": "code",
   "execution_count": 46,
   "id": "c8bff600-3161-4b87-96d7-06f89fe4a321",
   "metadata": {
    "tags": []
   },
   "outputs": [],
   "source": [
    "areas_with_planned.to_parquet('gs://calitp-analytics-data/data-analyses/high_quality_transit_areas/hqta_areas.parquet',\n",
    "                             filesystem = fs)"
   ]
  },
  {
   "cell_type": "markdown",
   "id": "e138aa9c-4408-438f-8b3c-9c1d96848d1d",
   "metadata": {},
   "source": [
    "## add planned stop points"
   ]
  },
  {
   "cell_type": "code",
   "execution_count": 47,
   "id": "0a784f46-2be5-482f-ac03-2ce894a2ed1d",
   "metadata": {
    "tags": []
   },
   "outputs": [],
   "source": [
    "existing_stops = catalog.hqta_stops(\n",
    "    geopandas_kwargs={\"storage_options\": {\"token\": credentials.token}}\n",
    ").read()"
   ]
  },
  {
   "cell_type": "code",
   "execution_count": 48,
   "id": "a6c6b50d-09dd-4360-bfc2-d539c25b93e5",
   "metadata": {
    "tags": []
   },
   "outputs": [],
   "source": [
    "mpo_planned_mts = mpo_planned_mts.to_crs(WGS84)"
   ]
  },
  {
   "cell_type": "code",
   "execution_count": 49,
   "id": "812c226c-547f-40a1-ab72-09af9728c7ee",
   "metadata": {
    "tags": []
   },
   "outputs": [],
   "source": [
    "stops_with_planned = pd.concat([existing_stops, mpo_planned_mts])"
   ]
  },
  {
   "cell_type": "code",
   "execution_count": 50,
   "id": "5550c407-decf-48f3-8256-96132e9227d0",
   "metadata": {
    "tags": []
   },
   "outputs": [],
   "source": [
    "stops_with_planned = stops_with_planned.astype({'stop_id': str, 'avg_trips_per_peak_hr': np.float64})"
   ]
  },
  {
   "cell_type": "code",
   "execution_count": 51,
   "id": "b151efd3-69ab-4912-94f5-af0dce7e0599",
   "metadata": {
    "tags": []
   },
   "outputs": [],
   "source": [
    "stops_with_planned.to_parquet('gs://calitp-analytics-data/data-analyses/high_quality_transit_areas/hqta_points.parquet',\n",
    "                             filesystem = fs)"
   ]
  }
 ],
 "metadata": {
  "kernelspec": {
   "display_name": "Python 3 (ipykernel)",
   "language": "python",
   "name": "python3"
  },
  "language_info": {
   "codemirror_mode": {
    "name": "ipython",
    "version": 3
   },
   "file_extension": ".py",
   "mimetype": "text/x-python",
   "name": "python",
   "nbconvert_exporter": "python",
   "pygments_lexer": "ipython3",
   "version": "3.11.10"
  },
  "widgets": {
   "application/vnd.jupyter.widget-state+json": {
    "state": {},
    "version_major": 2,
    "version_minor": 0
   }
  }
 },
 "nbformat": 4,
 "nbformat_minor": 5
}
