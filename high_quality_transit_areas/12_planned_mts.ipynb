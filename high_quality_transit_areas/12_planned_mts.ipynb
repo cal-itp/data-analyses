{
 "cells": [
  {
   "cell_type": "code",
   "execution_count": 1,
   "id": "68203768-ef00-4a0a-bb1f-bd254c83ff5b",
   "metadata": {},
   "outputs": [],
   "source": [
    "import os\n",
    "os.environ[\"CALITP_BQ_MAX_BYTES\"] = str(1_000_000_000_000) ## 1TB?"
   ]
  },
  {
   "cell_type": "code",
   "execution_count": 2,
   "id": "9e0b5840-f301-4968-b669-9bbbd441a58d",
   "metadata": {},
   "outputs": [],
   "source": [
    "import geopandas as gpd\n",
    "import pandas as pd\n",
    "# from siuba import *\n",
    "import numpy as np"
   ]
  },
  {
   "cell_type": "code",
   "execution_count": 3,
   "id": "c1ed9e22-b7d9-4dbb-8fa7-f486610d2e78",
   "metadata": {},
   "outputs": [],
   "source": [
    "from update_vars import (analysis_date, AM_PEAK, PM_PEAK, EXPORT_PATH, GCS_FILE_PATH, PROJECT_CRS,\n",
    "SEGMENT_BUFFER_METERS, AM_PEAK, PM_PEAK, HQ_TRANSIT_THRESHOLD, MS_TRANSIT_THRESHOLD)"
   ]
  },
  {
   "cell_type": "code",
   "execution_count": 4,
   "id": "72b0ad55-9d29-4050-be74-a15f2575d4b4",
   "metadata": {
    "tags": []
   },
   "outputs": [],
   "source": [
    "from calitp_data_analysis.tables import tbls"
   ]
  },
  {
   "cell_type": "code",
   "execution_count": 5,
   "id": "83fa251b-d02a-42b0-a25f-4448183e2d19",
   "metadata": {
    "tags": []
   },
   "outputs": [],
   "source": [
    "from calitp_data_analysis import get_fs"
   ]
  },
  {
   "cell_type": "markdown",
   "id": "e5c62760-2328-4f4c-b89c-e56ba8b044b9",
   "metadata": {},
   "source": [
    "# Test out MPO-provided planned major stops\n",
    "\n",
    "Here is the schema to use:\n",
    "\n",
    "| Field name |\tData type |Naming convention for field values |\n",
    "|-----|-----|-----|\n",
    "| mpo\t| Text |\tUse your MPO/RTPA acronym, not full name |\n",
    "| plan_name\t| Text |\tInclude plan name and year e.g. “2025 mtp” |\n",
    "| hqta_type\t| Text |\tUse types from Caltrans major stop map: major_stop_bus, major_stop_rail, major_stop_ferry, major_stop_brt |\n",
    "| stop_id (optional)\t| Text |\tNone |\n",
    "| avg_trips_per_peak_hr (optional)\t| Float |\tNone |\n"
   ]
  },
  {
   "cell_type": "code",
   "execution_count": 6,
   "id": "125cd86f-b2c5-4285-871e-585535326193",
   "metadata": {
    "tags": []
   },
   "outputs": [],
   "source": [
    "path = f'{GCS_FILE_PATH}mpo_input/sandag.geojson'"
   ]
  },
  {
   "cell_type": "code",
   "execution_count": 7,
   "id": "916a874c-523d-4a6b-b90b-f1b1f6bf72a6",
   "metadata": {
    "tags": []
   },
   "outputs": [
    {
     "data": {
      "text/plain": [
       "'gs://calitp-analytics-data/data-analyses/high_quality_transit_areas/mpo_input/sandag.geojson'"
      ]
     },
     "execution_count": 7,
     "metadata": {},
     "output_type": "execute_result"
    }
   ],
   "source": [
    "path"
   ]
  },
  {
   "cell_type": "code",
   "execution_count": 8,
   "id": "aa5b89f7-d015-4c0e-8887-a17966f3d429",
   "metadata": {
    "tags": []
   },
   "outputs": [],
   "source": [
    "# gpd.read_file(path)"
   ]
  },
  {
   "cell_type": "code",
   "execution_count": 9,
   "id": "d3c854f9-d656-4a39-8996-5a7e33c98acd",
   "metadata": {
    "tags": []
   },
   "outputs": [],
   "source": [
    "fs = get_fs()"
   ]
  },
  {
   "cell_type": "markdown",
   "id": "2535cdd8-3a39-4efe-b00c-ff5fde76ec4c",
   "metadata": {},
   "source": [
    "## SANDAG"
   ]
  },
  {
   "cell_type": "code",
   "execution_count": 10,
   "id": "9ed3fb6e-b229-4619-9224-bb4bfa139856",
   "metadata": {
    "tags": []
   },
   "outputs": [],
   "source": [
    "with fs.open(path) as f:\n",
    "    sandag = gpd.read_file(f)"
   ]
  },
  {
   "cell_type": "code",
   "execution_count": 12,
   "id": "13271a92-95aa-4225-a6cf-8834abcd7d11",
   "metadata": {
    "tags": []
   },
   "outputs": [
    {
     "data": {
      "text/html": [
       "<div>\n",
       "<style scoped>\n",
       "    .dataframe tbody tr th:only-of-type {\n",
       "        vertical-align: middle;\n",
       "    }\n",
       "\n",
       "    .dataframe tbody tr th {\n",
       "        vertical-align: top;\n",
       "    }\n",
       "\n",
       "    .dataframe thead th {\n",
       "        text-align: right;\n",
       "    }\n",
       "</style>\n",
       "<table border=\"1\" class=\"dataframe\">\n",
       "  <thead>\n",
       "    <tr style=\"text-align: right;\">\n",
       "      <th></th>\n",
       "      <th>OBJECTID</th>\n",
       "      <th>mpo</th>\n",
       "      <th>plan_name</th>\n",
       "      <th>hqta_type</th>\n",
       "      <th>stop_id</th>\n",
       "      <th>avg_trips_per_peak_hr</th>\n",
       "      <th>geometry</th>\n",
       "    </tr>\n",
       "  </thead>\n",
       "  <tbody>\n",
       "    <tr>\n",
       "      <th>0</th>\n",
       "      <td>1</td>\n",
       "      <td>SANDAG</td>\n",
       "      <td>2021RP_2035</td>\n",
       "      <td>major_stop_bus</td>\n",
       "      <td>23740</td>\n",
       "      <td>None</td>\n",
       "      <td>POINT (-117.29703 33.25427)</td>\n",
       "    </tr>\n",
       "    <tr>\n",
       "      <th>1</th>\n",
       "      <td>2</td>\n",
       "      <td>SANDAG</td>\n",
       "      <td>2021RP_2035</td>\n",
       "      <td>major_stop_brt</td>\n",
       "      <td>5592</td>\n",
       "      <td>None</td>\n",
       "      <td>POINT (-117.30019 33.25080)</td>\n",
       "    </tr>\n",
       "    <tr>\n",
       "      <th>2</th>\n",
       "      <td>3</td>\n",
       "      <td>SANDAG</td>\n",
       "      <td>2021RP_2035</td>\n",
       "      <td>major_stop_bus</td>\n",
       "      <td>5601</td>\n",
       "      <td>None</td>\n",
       "      <td>POINT (-117.29531 33.24924)</td>\n",
       "    </tr>\n",
       "  </tbody>\n",
       "</table>\n",
       "</div>"
      ],
      "text/plain": [
       "   OBJECTID     mpo    plan_name       hqta_type  stop_id  \\\n",
       "0         1  SANDAG  2021RP_2035  major_stop_bus    23740   \n",
       "1         2  SANDAG  2021RP_2035  major_stop_brt     5592   \n",
       "2         3  SANDAG  2021RP_2035  major_stop_bus     5601   \n",
       "\n",
       "  avg_trips_per_peak_hr                     geometry  \n",
       "0                  None  POINT (-117.29703 33.25427)  \n",
       "1                  None  POINT (-117.30019 33.25080)  \n",
       "2                  None  POINT (-117.29531 33.24924)  "
      ]
     },
     "execution_count": 12,
     "metadata": {},
     "output_type": "execute_result"
    }
   ],
   "source": [
    "sandag.head(3)"
   ]
  },
  {
   "cell_type": "markdown",
   "id": "e9f32126-8acf-4406-9395-3708790112ed",
   "metadata": {},
   "source": [
    "## SANDAG"
   ]
  },
  {
   "cell_type": "code",
   "execution_count": 10,
   "id": "5fd2a3a1-e3b3-4117-bd97-d02d8682e242",
   "metadata": {
    "tags": []
   },
   "outputs": [],
   "source": [
    "with fs.open(path) as f:\n",
    "    sandag = gpd.read_file(f)"
   ]
  },
  {
   "cell_type": "code",
   "execution_count": 12,
   "id": "f55ca3b7-d1ba-4a10-bd73-574ef3c58a21",
   "metadata": {
    "tags": []
   },
   "outputs": [
    {
     "data": {
      "text/html": [
       "<div>\n",
       "<style scoped>\n",
       "    .dataframe tbody tr th:only-of-type {\n",
       "        vertical-align: middle;\n",
       "    }\n",
       "\n",
       "    .dataframe tbody tr th {\n",
       "        vertical-align: top;\n",
       "    }\n",
       "\n",
       "    .dataframe thead th {\n",
       "        text-align: right;\n",
       "    }\n",
       "</style>\n",
       "<table border=\"1\" class=\"dataframe\">\n",
       "  <thead>\n",
       "    <tr style=\"text-align: right;\">\n",
       "      <th></th>\n",
       "      <th>OBJECTID</th>\n",
       "      <th>mpo</th>\n",
       "      <th>plan_name</th>\n",
       "      <th>hqta_type</th>\n",
       "      <th>stop_id</th>\n",
       "      <th>avg_trips_per_peak_hr</th>\n",
       "      <th>geometry</th>\n",
       "    </tr>\n",
       "  </thead>\n",
       "  <tbody>\n",
       "    <tr>\n",
       "      <th>0</th>\n",
       "      <td>1</td>\n",
       "      <td>SANDAG</td>\n",
       "      <td>2021RP_2035</td>\n",
       "      <td>major_stop_bus</td>\n",
       "      <td>23740</td>\n",
       "      <td>None</td>\n",
       "      <td>POINT (-117.29703 33.25427)</td>\n",
       "    </tr>\n",
       "    <tr>\n",
       "      <th>1</th>\n",
       "      <td>2</td>\n",
       "      <td>SANDAG</td>\n",
       "      <td>2021RP_2035</td>\n",
       "      <td>major_stop_brt</td>\n",
       "      <td>5592</td>\n",
       "      <td>None</td>\n",
       "      <td>POINT (-117.30019 33.25080)</td>\n",
       "    </tr>\n",
       "    <tr>\n",
       "      <th>2</th>\n",
       "      <td>3</td>\n",
       "      <td>SANDAG</td>\n",
       "      <td>2021RP_2035</td>\n",
       "      <td>major_stop_bus</td>\n",
       "      <td>5601</td>\n",
       "      <td>None</td>\n",
       "      <td>POINT (-117.29531 33.24924)</td>\n",
       "    </tr>\n",
       "  </tbody>\n",
       "</table>\n",
       "</div>"
      ],
      "text/plain": [
       "   OBJECTID     mpo    plan_name       hqta_type  stop_id  \\\n",
       "0         1  SANDAG  2021RP_2035  major_stop_bus    23740   \n",
       "1         2  SANDAG  2021RP_2035  major_stop_brt     5592   \n",
       "2         3  SANDAG  2021RP_2035  major_stop_bus     5601   \n",
       "\n",
       "  avg_trips_per_peak_hr                     geometry  \n",
       "0                  None  POINT (-117.29703 33.25427)  \n",
       "1                  None  POINT (-117.30019 33.25080)  \n",
       "2                  None  POINT (-117.29531 33.24924)  "
      ]
     },
     "execution_count": 12,
     "metadata": {},
     "output_type": "execute_result"
    }
   ],
   "source": [
    "sandag.head(3)"
   ]
  }
 ],
 "metadata": {
  "kernelspec": {
   "display_name": "Python 3 (ipykernel)",
   "language": "python",
   "name": "python3"
  },
  "language_info": {
   "codemirror_mode": {
    "name": "ipython",
    "version": 3
   },
   "file_extension": ".py",
   "mimetype": "text/x-python",
   "name": "python",
   "nbconvert_exporter": "python",
   "pygments_lexer": "ipython3",
   "version": "3.11.10"
  },
  "widgets": {
   "application/vnd.jupyter.widget-state+json": {
    "state": {},
    "version_major": 2,
    "version_minor": 0
   }
  }
 },
 "nbformat": 4,
 "nbformat_minor": 5
}
