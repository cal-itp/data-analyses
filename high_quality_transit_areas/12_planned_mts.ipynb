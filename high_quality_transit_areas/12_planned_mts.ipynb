{
 "cells": [
  {
   "cell_type": "code",
   "execution_count": 1,
   "id": "68203768-ef00-4a0a-bb1f-bd254c83ff5b",
   "metadata": {},
   "outputs": [],
   "source": [
    "import os\n",
    "os.environ[\"CALITP_BQ_MAX_BYTES\"] = str(1_000_000_000_000) ## 1TB?"
   ]
  },
  {
   "cell_type": "code",
   "execution_count": 2,
   "id": "9e0b5840-f301-4968-b669-9bbbd441a58d",
   "metadata": {},
   "outputs": [],
   "source": [
    "import geopandas as gpd\n",
    "import pandas as pd\n",
    "# from siuba import *\n",
    "import numpy as np"
   ]
  },
  {
   "cell_type": "code",
   "execution_count": 3,
   "id": "c1ed9e22-b7d9-4dbb-8fa7-f486610d2e78",
   "metadata": {},
   "outputs": [],
   "source": [
    "from update_vars import (analysis_date, AM_PEAK, PM_PEAK, EXPORT_PATH, GCS_FILE_PATH, PROJECT_CRS,\n",
    "SEGMENT_BUFFER_METERS, AM_PEAK, PM_PEAK, HQ_TRANSIT_THRESHOLD, MS_TRANSIT_THRESHOLD, HALF_MILE_BUFFER_METERS)"
   ]
  },
  {
   "cell_type": "code",
   "execution_count": 4,
   "id": "72b0ad55-9d29-4050-be74-a15f2575d4b4",
   "metadata": {
    "tags": []
   },
   "outputs": [],
   "source": [
    "from calitp_data_analysis.tables import tbls"
   ]
  },
  {
   "cell_type": "code",
   "execution_count": 5,
   "id": "83fa251b-d02a-42b0-a25f-4448183e2d19",
   "metadata": {
    "tags": []
   },
   "outputs": [],
   "source": [
    "from calitp_data_analysis import get_fs"
   ]
  },
  {
   "cell_type": "markdown",
   "id": "e5c62760-2328-4f4c-b89c-e56ba8b044b9",
   "metadata": {},
   "source": [
    "# Test out MPO-provided planned major stops\n",
    "\n",
    "Here is the schema to use:\n",
    "\n",
    "| Field name |\tData type |Naming convention for field values |\n",
    "|-----|-----|-----|\n",
    "| mpo\t| Text |\tUse your MPO/RTPA acronym, not full name |\n",
    "| plan_name\t| Text |\tInclude plan name and year e.g. “2025 mtp” |\n",
    "| hqta_type\t| Text |\tUse types from Caltrans major stop map: major_stop_bus, major_stop_rail, major_stop_ferry, major_stop_brt |\n",
    "| stop_id (optional)\t| Text |\tNone |\n",
    "| avg_trips_per_peak_hr (optional)\t| Float |\tNone |\n"
   ]
  },
  {
   "cell_type": "code",
   "execution_count": 6,
   "id": "d3c854f9-d656-4a39-8996-5a7e33c98acd",
   "metadata": {
    "tags": []
   },
   "outputs": [],
   "source": [
    "fs = get_fs()"
   ]
  },
  {
   "cell_type": "markdown",
   "id": "2535cdd8-3a39-4efe-b00c-ff5fde76ec4c",
   "metadata": {},
   "source": [
    "## SANDAG"
   ]
  },
  {
   "cell_type": "code",
   "execution_count": 7,
   "id": "125cd86f-b2c5-4285-871e-585535326193",
   "metadata": {
    "tags": []
   },
   "outputs": [],
   "source": [
    "path = f'{GCS_FILE_PATH}mpo_input/sandag.geojson'"
   ]
  },
  {
   "cell_type": "code",
   "execution_count": 8,
   "id": "aa5b89f7-d015-4c0e-8887-a17966f3d429",
   "metadata": {
    "tags": []
   },
   "outputs": [],
   "source": [
    "# gpd.read_file(path)"
   ]
  },
  {
   "cell_type": "code",
   "execution_count": 9,
   "id": "9ed3fb6e-b229-4619-9224-bb4bfa139856",
   "metadata": {
    "tags": []
   },
   "outputs": [],
   "source": [
    "with fs.open(path) as f:\n",
    "    sandag = gpd.read_file(f)"
   ]
  },
  {
   "cell_type": "code",
   "execution_count": 10,
   "id": "13271a92-95aa-4225-a6cf-8834abcd7d11",
   "metadata": {
    "tags": []
   },
   "outputs": [
    {
     "data": {
      "text/html": [
       "<div>\n",
       "<style scoped>\n",
       "    .dataframe tbody tr th:only-of-type {\n",
       "        vertical-align: middle;\n",
       "    }\n",
       "\n",
       "    .dataframe tbody tr th {\n",
       "        vertical-align: top;\n",
       "    }\n",
       "\n",
       "    .dataframe thead th {\n",
       "        text-align: right;\n",
       "    }\n",
       "</style>\n",
       "<table border=\"1\" class=\"dataframe\">\n",
       "  <thead>\n",
       "    <tr style=\"text-align: right;\">\n",
       "      <th></th>\n",
       "      <th>OBJECTID</th>\n",
       "      <th>mpo</th>\n",
       "      <th>plan_name</th>\n",
       "      <th>hqta_type</th>\n",
       "      <th>stop_id</th>\n",
       "      <th>avg_trips_per_peak_hr</th>\n",
       "      <th>geometry</th>\n",
       "    </tr>\n",
       "  </thead>\n",
       "  <tbody>\n",
       "    <tr>\n",
       "      <th>0</th>\n",
       "      <td>1</td>\n",
       "      <td>SANDAG</td>\n",
       "      <td>2021RP_2035</td>\n",
       "      <td>major_stop_bus</td>\n",
       "      <td>23740</td>\n",
       "      <td>None</td>\n",
       "      <td>POINT (-117.29703 33.25427)</td>\n",
       "    </tr>\n",
       "    <tr>\n",
       "      <th>1</th>\n",
       "      <td>2</td>\n",
       "      <td>SANDAG</td>\n",
       "      <td>2021RP_2035</td>\n",
       "      <td>major_stop_brt</td>\n",
       "      <td>5592</td>\n",
       "      <td>None</td>\n",
       "      <td>POINT (-117.30019 33.25080)</td>\n",
       "    </tr>\n",
       "    <tr>\n",
       "      <th>2</th>\n",
       "      <td>3</td>\n",
       "      <td>SANDAG</td>\n",
       "      <td>2021RP_2035</td>\n",
       "      <td>major_stop_bus</td>\n",
       "      <td>5601</td>\n",
       "      <td>None</td>\n",
       "      <td>POINT (-117.29531 33.24924)</td>\n",
       "    </tr>\n",
       "  </tbody>\n",
       "</table>\n",
       "</div>"
      ],
      "text/plain": [
       "   OBJECTID     mpo    plan_name       hqta_type  stop_id  \\\n",
       "0         1  SANDAG  2021RP_2035  major_stop_bus    23740   \n",
       "1         2  SANDAG  2021RP_2035  major_stop_brt     5592   \n",
       "2         3  SANDAG  2021RP_2035  major_stop_bus     5601   \n",
       "\n",
       "  avg_trips_per_peak_hr                     geometry  \n",
       "0                  None  POINT (-117.29703 33.25427)  \n",
       "1                  None  POINT (-117.30019 33.25080)  \n",
       "2                  None  POINT (-117.29531 33.24924)  "
      ]
     },
     "execution_count": 10,
     "metadata": {},
     "output_type": "execute_result"
    }
   ],
   "source": [
    "sandag.head(3)"
   ]
  },
  {
   "cell_type": "markdown",
   "id": "e9f32126-8acf-4406-9395-3708790112ed",
   "metadata": {},
   "source": [
    "## SCAG"
   ]
  },
  {
   "cell_type": "code",
   "execution_count": 11,
   "id": "725c85cb-debe-46ae-9743-2fb2fe7fc058",
   "metadata": {
    "tags": []
   },
   "outputs": [],
   "source": [
    "path = f'{GCS_FILE_PATH}mpo_input/scag.geojson'"
   ]
  },
  {
   "cell_type": "code",
   "execution_count": 12,
   "id": "5fd2a3a1-e3b3-4117-bd97-d02d8682e242",
   "metadata": {
    "tags": []
   },
   "outputs": [],
   "source": [
    "with fs.open(path) as f:\n",
    "    scag = gpd.read_file(f)"
   ]
  },
  {
   "cell_type": "code",
   "execution_count": 13,
   "id": "f55ca3b7-d1ba-4a10-bd73-574ef3c58a21",
   "metadata": {
    "tags": []
   },
   "outputs": [
    {
     "data": {
      "text/html": [
       "<div>\n",
       "<style scoped>\n",
       "    .dataframe tbody tr th:only-of-type {\n",
       "        vertical-align: middle;\n",
       "    }\n",
       "\n",
       "    .dataframe tbody tr th {\n",
       "        vertical-align: top;\n",
       "    }\n",
       "\n",
       "    .dataframe thead th {\n",
       "        text-align: right;\n",
       "    }\n",
       "</style>\n",
       "<table border=\"1\" class=\"dataframe\">\n",
       "  <thead>\n",
       "    <tr style=\"text-align: right;\">\n",
       "      <th></th>\n",
       "      <th>FID</th>\n",
       "      <th>mpo</th>\n",
       "      <th>plan_name</th>\n",
       "      <th>hqta_type</th>\n",
       "      <th>geometry</th>\n",
       "    </tr>\n",
       "  </thead>\n",
       "  <tbody>\n",
       "    <tr>\n",
       "      <th>0</th>\n",
       "      <td>0</td>\n",
       "      <td>SCAG</td>\n",
       "      <td>2024 RTP</td>\n",
       "      <td>major_stop_bus</td>\n",
       "      <td>POINT (-119.17982 34.19901)</td>\n",
       "    </tr>\n",
       "    <tr>\n",
       "      <th>1</th>\n",
       "      <td>1</td>\n",
       "      <td>SCAG</td>\n",
       "      <td>2024 RTP</td>\n",
       "      <td>major_stop_bus</td>\n",
       "      <td>POINT (-119.17770 34.16101)</td>\n",
       "    </tr>\n",
       "    <tr>\n",
       "      <th>2</th>\n",
       "      <td>2</td>\n",
       "      <td>SCAG</td>\n",
       "      <td>2024 RTP</td>\n",
       "      <td>major_stop_bus</td>\n",
       "      <td>POINT (-118.60602 34.21970)</td>\n",
       "    </tr>\n",
       "  </tbody>\n",
       "</table>\n",
       "</div>"
      ],
      "text/plain": [
       "   FID   mpo plan_name       hqta_type                     geometry\n",
       "0    0  SCAG  2024 RTP  major_stop_bus  POINT (-119.17982 34.19901)\n",
       "1    1  SCAG  2024 RTP  major_stop_bus  POINT (-119.17770 34.16101)\n",
       "2    2  SCAG  2024 RTP  major_stop_bus  POINT (-118.60602 34.21970)"
      ]
     },
     "execution_count": 13,
     "metadata": {},
     "output_type": "execute_result"
    }
   ],
   "source": [
    "scag.head(3)"
   ]
  },
  {
   "cell_type": "code",
   "execution_count": null,
   "id": "f414106c-5dd6-42cc-bd20-b482f69c9fa4",
   "metadata": {},
   "outputs": [],
   "source": []
  },
  {
   "cell_type": "markdown",
   "id": "02be6757-2f49-4fdf-ae32-565df1fe8a40",
   "metadata": {},
   "source": [
    "## SACOG"
   ]
  },
  {
   "cell_type": "code",
   "execution_count": 14,
   "id": "1869d9c6-3976-4ba6-a510-f37722427872",
   "metadata": {
    "tags": []
   },
   "outputs": [],
   "source": [
    "path = f'{GCS_FILE_PATH}mpo_input/sacog.geojson'"
   ]
  },
  {
   "cell_type": "code",
   "execution_count": 15,
   "id": "efcc9259-5966-4dfc-a85f-f4f4e1143065",
   "metadata": {
    "tags": []
   },
   "outputs": [],
   "source": [
    "with fs.open(path) as f:\n",
    "    sacog = gpd.read_file(f)"
   ]
  },
  {
   "cell_type": "code",
   "execution_count": 16,
   "id": "fa9ce60f-6c47-41ea-838a-c763976eeba8",
   "metadata": {
    "tags": []
   },
   "outputs": [
    {
     "data": {
      "text/html": [
       "<div>\n",
       "<style scoped>\n",
       "    .dataframe tbody tr th:only-of-type {\n",
       "        vertical-align: middle;\n",
       "    }\n",
       "\n",
       "    .dataframe tbody tr th {\n",
       "        vertical-align: top;\n",
       "    }\n",
       "\n",
       "    .dataframe thead th {\n",
       "        text-align: right;\n",
       "    }\n",
       "</style>\n",
       "<table border=\"1\" class=\"dataframe\">\n",
       "  <thead>\n",
       "    <tr style=\"text-align: right;\">\n",
       "      <th></th>\n",
       "      <th>OBJECTID</th>\n",
       "      <th>stop_id</th>\n",
       "      <th>mpo</th>\n",
       "      <th>plan_name</th>\n",
       "      <th>hqta_type</th>\n",
       "      <th>avg_trips_per_peak_hr</th>\n",
       "      <th>geometry</th>\n",
       "    </tr>\n",
       "  </thead>\n",
       "  <tbody>\n",
       "    <tr>\n",
       "      <th>0</th>\n",
       "      <td>1</td>\n",
       "      <td>2008</td>\n",
       "      <td>SACOG</td>\n",
       "      <td>2020 MTP-SCS</td>\n",
       "      <td>major_stop_bus</td>\n",
       "      <td>None</td>\n",
       "      <td>POINT (-121.49482 38.58068)</td>\n",
       "    </tr>\n",
       "    <tr>\n",
       "      <th>1</th>\n",
       "      <td>2</td>\n",
       "      <td>2020</td>\n",
       "      <td>SACOG</td>\n",
       "      <td>2020 MTP-SCS</td>\n",
       "      <td>major_stop_brt</td>\n",
       "      <td>None</td>\n",
       "      <td>POINT (-121.28658 38.74549)</td>\n",
       "    </tr>\n",
       "    <tr>\n",
       "      <th>2</th>\n",
       "      <td>3</td>\n",
       "      <td>2025</td>\n",
       "      <td>SACOG</td>\n",
       "      <td>2020 MTP-SCS</td>\n",
       "      <td>major_stop_bus</td>\n",
       "      <td>None</td>\n",
       "      <td>POINT (-121.54711 38.58500)</td>\n",
       "    </tr>\n",
       "  </tbody>\n",
       "</table>\n",
       "</div>"
      ],
      "text/plain": [
       "   OBJECTID stop_id    mpo     plan_name       hqta_type  \\\n",
       "0         1    2008  SACOG  2020 MTP-SCS  major_stop_bus   \n",
       "1         2    2020  SACOG  2020 MTP-SCS  major_stop_brt   \n",
       "2         3    2025  SACOG  2020 MTP-SCS  major_stop_bus   \n",
       "\n",
       "  avg_trips_per_peak_hr                     geometry  \n",
       "0                  None  POINT (-121.49482 38.58068)  \n",
       "1                  None  POINT (-121.28658 38.74549)  \n",
       "2                  None  POINT (-121.54711 38.58500)  "
      ]
     },
     "execution_count": 16,
     "metadata": {},
     "output_type": "execute_result"
    }
   ],
   "source": [
    "sacog.head(3)"
   ]
  },
  {
   "cell_type": "markdown",
   "id": "a92ca6e6-ea75-4e97-9108-a6277d28674b",
   "metadata": {},
   "source": [
    "## MTC"
   ]
  },
  {
   "cell_type": "code",
   "execution_count": 17,
   "id": "6d7785f5-d6c7-46de-a9e1-ca6b9aeb4598",
   "metadata": {
    "tags": []
   },
   "outputs": [],
   "source": [
    "path = f'{GCS_FILE_PATH}mpo_input/mtc.geojson'"
   ]
  },
  {
   "cell_type": "code",
   "execution_count": 18,
   "id": "2a309a7a-76dc-4cf9-ac79-1ebae978da61",
   "metadata": {
    "tags": []
   },
   "outputs": [],
   "source": [
    "with fs.open(path) as f:\n",
    "    mtc = gpd.read_file(f)"
   ]
  },
  {
   "cell_type": "code",
   "execution_count": 19,
   "id": "aef6d454-e09d-4c6a-939c-fe9139c68362",
   "metadata": {
    "tags": []
   },
   "outputs": [
    {
     "data": {
      "text/html": [
       "<div>\n",
       "<style scoped>\n",
       "    .dataframe tbody tr th:only-of-type {\n",
       "        vertical-align: middle;\n",
       "    }\n",
       "\n",
       "    .dataframe tbody tr th {\n",
       "        vertical-align: top;\n",
       "    }\n",
       "\n",
       "    .dataframe thead th {\n",
       "        text-align: right;\n",
       "    }\n",
       "</style>\n",
       "<table border=\"1\" class=\"dataframe\">\n",
       "  <thead>\n",
       "    <tr style=\"text-align: right;\">\n",
       "      <th></th>\n",
       "      <th>FID</th>\n",
       "      <th>primary_ag</th>\n",
       "      <th>hqta_type</th>\n",
       "      <th>mpo</th>\n",
       "      <th>plan_name</th>\n",
       "      <th>geometry</th>\n",
       "    </tr>\n",
       "  </thead>\n",
       "  <tbody>\n",
       "    <tr>\n",
       "      <th>0</th>\n",
       "      <td>0</td>\n",
       "      <td>AC Transit</td>\n",
       "      <td>major_stop_brt</td>\n",
       "      <td>MTC</td>\n",
       "      <td>Plan Bay Area 2050 (2021)</td>\n",
       "      <td>POINT (-122.29408 37.87535)</td>\n",
       "    </tr>\n",
       "    <tr>\n",
       "      <th>1</th>\n",
       "      <td>1</td>\n",
       "      <td>SamTrans</td>\n",
       "      <td>major_stop_brt</td>\n",
       "      <td>MTC</td>\n",
       "      <td>Plan Bay Area 2050 (2021)</td>\n",
       "      <td>POINT (-122.35600 37.57840)</td>\n",
       "    </tr>\n",
       "    <tr>\n",
       "      <th>2</th>\n",
       "      <td>2</td>\n",
       "      <td>SamTrans</td>\n",
       "      <td>major_stop_brt</td>\n",
       "      <td>MTC</td>\n",
       "      <td>Plan Bay Area 2050 (2021)</td>\n",
       "      <td>POINT (-122.34807 37.57595)</td>\n",
       "    </tr>\n",
       "  </tbody>\n",
       "</table>\n",
       "</div>"
      ],
      "text/plain": [
       "   FID  primary_ag       hqta_type  mpo                  plan_name  \\\n",
       "0    0  AC Transit  major_stop_brt  MTC  Plan Bay Area 2050 (2021)   \n",
       "1    1    SamTrans  major_stop_brt  MTC  Plan Bay Area 2050 (2021)   \n",
       "2    2    SamTrans  major_stop_brt  MTC  Plan Bay Area 2050 (2021)   \n",
       "\n",
       "                      geometry  \n",
       "0  POINT (-122.29408 37.87535)  \n",
       "1  POINT (-122.35600 37.57840)  \n",
       "2  POINT (-122.34807 37.57595)  "
      ]
     },
     "execution_count": 19,
     "metadata": {},
     "output_type": "execute_result"
    }
   ],
   "source": [
    "mtc.head(3)"
   ]
  },
  {
   "cell_type": "code",
   "execution_count": 20,
   "id": "370836bc-1b2a-45e9-a5a0-cf7e98e628f8",
   "metadata": {
    "tags": []
   },
   "outputs": [],
   "source": [
    "required_cols = ['mpo', 'hqta_type', 'plan_name']"
   ]
  },
  {
   "cell_type": "code",
   "execution_count": 21,
   "id": "ec89dc49-33f3-43bc-bb06-fbe3fdc10129",
   "metadata": {
    "tags": []
   },
   "outputs": [
    {
     "data": {
      "text/plain": [
       "True"
      ]
     },
     "execution_count": 21,
     "metadata": {},
     "output_type": "execute_result"
    }
   ],
   "source": [
    "set(required_cols).issubset(mtc.columns)"
   ]
  },
  {
   "cell_type": "code",
   "execution_count": 22,
   "id": "ccd67d77-3bbc-4354-b8c9-6954a4f99121",
   "metadata": {
    "tags": []
   },
   "outputs": [
    {
     "data": {
      "text/plain": [
       "array([False, False,  True,  True,  True, False])"
      ]
     },
     "execution_count": 22,
     "metadata": {},
     "output_type": "execute_result"
    }
   ],
   "source": [
    "mtc.columns.isin(required_cols)"
   ]
  },
  {
   "cell_type": "code",
   "execution_count": 23,
   "id": "cd12416d-c5ef-42c8-a106-09fd813a460c",
   "metadata": {
    "tags": []
   },
   "outputs": [
    {
     "data": {
      "text/plain": [
       "['mpo', 'hqta_type', 'plan_name']"
      ]
     },
     "execution_count": 23,
     "metadata": {},
     "output_type": "execute_result"
    }
   ],
   "source": [
    "[col for col in required_cols if col in mtc.columns]"
   ]
  },
  {
   "cell_type": "code",
   "execution_count": 24,
   "id": "d24c1785-6ab3-4460-a37e-9bd82e1e03a9",
   "metadata": {
    "tags": []
   },
   "outputs": [],
   "source": [
    "def check_standardize(mpo_gdf):\n",
    "    required_cols = ['mpo', 'hqta_type', 'plan_name']\n",
    "    optional_cols = ['stop_id', 'avg_trips_per_peak_hr']\n",
    "    all_cols = required_cols + optional_cols + ['geometry']\n",
    "    assert set(required_cols).issubset(mpo_gdf.columns)\n",
    "    filter_cols = [col for col in all_cols if col in mpo_gdf.columns]\n",
    "    mpo_gdf = mpo_gdf[filter_cols]\n",
    "    return mpo_gdf"
   ]
  },
  {
   "cell_type": "code",
   "execution_count": 25,
   "id": "fc736f78-75bf-4e42-b061-ecff953bb5b8",
   "metadata": {
    "tags": []
   },
   "outputs": [],
   "source": [
    "mpo_planned_mts = pd.concat([check_standardize(gdf) for gdf in [sacog, sandag, scag, mtc]])"
   ]
  },
  {
   "cell_type": "code",
   "execution_count": 26,
   "id": "abb258c8-55a2-4ce2-9ecc-05c670f9c2e5",
   "metadata": {
    "tags": []
   },
   "outputs": [
    {
     "data": {
      "text/html": [
       "<div>\n",
       "<style scoped>\n",
       "    .dataframe tbody tr th:only-of-type {\n",
       "        vertical-align: middle;\n",
       "    }\n",
       "\n",
       "    .dataframe tbody tr th {\n",
       "        vertical-align: top;\n",
       "    }\n",
       "\n",
       "    .dataframe thead th {\n",
       "        text-align: right;\n",
       "    }\n",
       "</style>\n",
       "<table border=\"1\" class=\"dataframe\">\n",
       "  <thead>\n",
       "    <tr style=\"text-align: right;\">\n",
       "      <th></th>\n",
       "      <th>mpo</th>\n",
       "      <th>hqta_type</th>\n",
       "      <th>plan_name</th>\n",
       "      <th>stop_id</th>\n",
       "      <th>avg_trips_per_peak_hr</th>\n",
       "      <th>geometry</th>\n",
       "    </tr>\n",
       "  </thead>\n",
       "  <tbody>\n",
       "    <tr>\n",
       "      <th>0</th>\n",
       "      <td>SACOG</td>\n",
       "      <td>major_stop_bus</td>\n",
       "      <td>2020 MTP-SCS</td>\n",
       "      <td>2008</td>\n",
       "      <td>None</td>\n",
       "      <td>POINT (-121.49482 38.58068)</td>\n",
       "    </tr>\n",
       "    <tr>\n",
       "      <th>1</th>\n",
       "      <td>SACOG</td>\n",
       "      <td>major_stop_brt</td>\n",
       "      <td>2020 MTP-SCS</td>\n",
       "      <td>2020</td>\n",
       "      <td>None</td>\n",
       "      <td>POINT (-121.28658 38.74549)</td>\n",
       "    </tr>\n",
       "    <tr>\n",
       "      <th>2</th>\n",
       "      <td>SACOG</td>\n",
       "      <td>major_stop_bus</td>\n",
       "      <td>2020 MTP-SCS</td>\n",
       "      <td>2025</td>\n",
       "      <td>None</td>\n",
       "      <td>POINT (-121.54711 38.58500)</td>\n",
       "    </tr>\n",
       "    <tr>\n",
       "      <th>3</th>\n",
       "      <td>SACOG</td>\n",
       "      <td>major_stop_bus</td>\n",
       "      <td>2020 MTP-SCS</td>\n",
       "      <td>2025</td>\n",
       "      <td>None</td>\n",
       "      <td>POINT (-121.54711 38.58500)</td>\n",
       "    </tr>\n",
       "    <tr>\n",
       "      <th>4</th>\n",
       "      <td>SACOG</td>\n",
       "      <td>major_stop_bus</td>\n",
       "      <td>2020 MTP-SCS</td>\n",
       "      <td>2068</td>\n",
       "      <td>None</td>\n",
       "      <td>POINT (-121.48656 38.57847)</td>\n",
       "    </tr>\n",
       "    <tr>\n",
       "      <th>...</th>\n",
       "      <td>...</td>\n",
       "      <td>...</td>\n",
       "      <td>...</td>\n",
       "      <td>...</td>\n",
       "      <td>...</td>\n",
       "      <td>...</td>\n",
       "    </tr>\n",
       "    <tr>\n",
       "      <th>300</th>\n",
       "      <td>MTC</td>\n",
       "      <td>major_stop_brt</td>\n",
       "      <td>Plan Bay Area 2050 (2021)</td>\n",
       "      <td>NaN</td>\n",
       "      <td>NaN</td>\n",
       "      <td>POINT (-122.37223 37.58778)</td>\n",
       "    </tr>\n",
       "    <tr>\n",
       "      <th>301</th>\n",
       "      <td>MTC</td>\n",
       "      <td>major_stop_rail</td>\n",
       "      <td>Plan Bay Area 2050 (2021)</td>\n",
       "      <td>NaN</td>\n",
       "      <td>NaN</td>\n",
       "      <td>POINT (-121.73110 37.70550)</td>\n",
       "    </tr>\n",
       "    <tr>\n",
       "      <th>302</th>\n",
       "      <td>MTC</td>\n",
       "      <td>major_stop_rail</td>\n",
       "      <td>Plan Bay Area 2050 (2021)</td>\n",
       "      <td>NaN</td>\n",
       "      <td>NaN</td>\n",
       "      <td>POINT (-122.65597 38.26787)</td>\n",
       "    </tr>\n",
       "    <tr>\n",
       "      <th>303</th>\n",
       "      <td>MTC</td>\n",
       "      <td>major_stop_brt</td>\n",
       "      <td>Plan Bay Area 2050 (2021)</td>\n",
       "      <td>NaN</td>\n",
       "      <td>NaN</td>\n",
       "      <td>POINT (-122.34518 37.96239)</td>\n",
       "    </tr>\n",
       "    <tr>\n",
       "      <th>304</th>\n",
       "      <td>MTC</td>\n",
       "      <td>major_stop_brt</td>\n",
       "      <td>Plan Bay Area 2050 (2021)</td>\n",
       "      <td>NaN</td>\n",
       "      <td>NaN</td>\n",
       "      <td>POINT (-122.33583 37.95564)</td>\n",
       "    </tr>\n",
       "  </tbody>\n",
       "</table>\n",
       "<p>3156 rows × 6 columns</p>\n",
       "</div>"
      ],
      "text/plain": [
       "       mpo        hqta_type                  plan_name stop_id  \\\n",
       "0    SACOG   major_stop_bus               2020 MTP-SCS    2008   \n",
       "1    SACOG   major_stop_brt               2020 MTP-SCS    2020   \n",
       "2    SACOG   major_stop_bus               2020 MTP-SCS    2025   \n",
       "3    SACOG   major_stop_bus               2020 MTP-SCS    2025   \n",
       "4    SACOG   major_stop_bus               2020 MTP-SCS    2068   \n",
       "..     ...              ...                        ...     ...   \n",
       "300    MTC   major_stop_brt  Plan Bay Area 2050 (2021)     NaN   \n",
       "301    MTC  major_stop_rail  Plan Bay Area 2050 (2021)     NaN   \n",
       "302    MTC  major_stop_rail  Plan Bay Area 2050 (2021)     NaN   \n",
       "303    MTC   major_stop_brt  Plan Bay Area 2050 (2021)     NaN   \n",
       "304    MTC   major_stop_brt  Plan Bay Area 2050 (2021)     NaN   \n",
       "\n",
       "    avg_trips_per_peak_hr                     geometry  \n",
       "0                    None  POINT (-121.49482 38.58068)  \n",
       "1                    None  POINT (-121.28658 38.74549)  \n",
       "2                    None  POINT (-121.54711 38.58500)  \n",
       "3                    None  POINT (-121.54711 38.58500)  \n",
       "4                    None  POINT (-121.48656 38.57847)  \n",
       "..                    ...                          ...  \n",
       "300                   NaN  POINT (-122.37223 37.58778)  \n",
       "301                   NaN  POINT (-121.73110 37.70550)  \n",
       "302                   NaN  POINT (-122.65597 38.26787)  \n",
       "303                   NaN  POINT (-122.34518 37.96239)  \n",
       "304                   NaN  POINT (-122.33583 37.95564)  \n",
       "\n",
       "[3156 rows x 6 columns]"
      ]
     },
     "execution_count": 26,
     "metadata": {},
     "output_type": "execute_result"
    }
   ],
   "source": [
    "mpo_planned_mts"
   ]
  },
  {
   "cell_type": "code",
   "execution_count": 27,
   "id": "93be5cfd-12aa-4058-bad3-a6b9ccb3a161",
   "metadata": {
    "tags": []
   },
   "outputs": [],
   "source": [
    "# mpo_planned_mts.explore()"
   ]
  },
  {
   "cell_type": "code",
   "execution_count": 28,
   "id": "797a9d9d-3277-4e2f-ad23-cfb412919977",
   "metadata": {
    "tags": []
   },
   "outputs": [],
   "source": [
    "import intake"
   ]
  },
  {
   "cell_type": "code",
   "execution_count": 29,
   "id": "db115dd0-7639-4260-b940-88c7c11ad7eb",
   "metadata": {
    "tags": []
   },
   "outputs": [],
   "source": [
    "catalog = intake.open_catalog(\"../_shared_utils/shared_utils/shared_data_catalog.yml\")"
   ]
  },
  {
   "cell_type": "code",
   "execution_count": 30,
   "id": "9d49512e-9807-4daa-acad-de7eb148fd8b",
   "metadata": {
    "tags": []
   },
   "outputs": [
    {
     "data": {
      "application/yaml": "hqta_areas:\n  args:\n    urlpath: gs://calitp-analytics-data/data-analyses/high_quality_transit_areas/hqta_areas.parquet\n  description: CA high quality transit areas with polygon geometry (open data)\n  driver: intake_geopandas.geopandas.GeoParquetSource\n  metadata:\n    catalog_dir: /home/jovyan/data-analyses/high_quality_transit_areas/../_shared_utils/shared_utils/\n",
      "text/plain": [
       "hqta_areas:\n",
       "  args:\n",
       "    urlpath: gs://calitp-analytics-data/data-analyses/high_quality_transit_areas/hqta_areas.parquet\n",
       "  description: CA high quality transit areas with polygon geometry (open data)\n",
       "  driver: intake_geopandas.geopandas.GeoParquetSource\n",
       "  metadata:\n",
       "    catalog_dir: /home/jovyan/data-analyses/high_quality_transit_areas/../_shared_utils/shared_utils/\n"
      ]
     },
     "metadata": {
      "application/json": {
       "root": "hqta_areas"
      }
     },
     "output_type": "display_data"
    }
   ],
   "source": [
    "catalog.hqta_areas"
   ]
  },
  {
   "cell_type": "code",
   "execution_count": 31,
   "id": "70b773bb-cbca-4ccd-8dac-e0cadaa2bbd3",
   "metadata": {
    "tags": []
   },
   "outputs": [
    {
     "data": {
      "application/yaml": "hqta_stops:\n  args:\n    urlpath: gs://calitp-analytics-data/data-analyses/high_quality_transit_areas/hqta_points.parquet\n  description: CA high quality transit areas with point geometry (open data)\n  driver: intake_geopandas.geopandas.GeoParquetSource\n  metadata:\n    catalog_dir: /home/jovyan/data-analyses/high_quality_transit_areas/../_shared_utils/shared_utils/\n",
      "text/plain": [
       "hqta_stops:\n",
       "  args:\n",
       "    urlpath: gs://calitp-analytics-data/data-analyses/high_quality_transit_areas/hqta_points.parquet\n",
       "  description: CA high quality transit areas with point geometry (open data)\n",
       "  driver: intake_geopandas.geopandas.GeoParquetSource\n",
       "  metadata:\n",
       "    catalog_dir: /home/jovyan/data-analyses/high_quality_transit_areas/../_shared_utils/shared_utils/\n"
      ]
     },
     "metadata": {
      "application/json": {
       "root": "hqta_stops"
      }
     },
     "output_type": "display_data"
    }
   ],
   "source": [
    "catalog.hqta_stops"
   ]
  },
  {
   "cell_type": "code",
   "execution_count": 32,
   "id": "8309a929-f19c-471e-a7c0-ceee7b764fc0",
   "metadata": {
    "tags": []
   },
   "outputs": [],
   "source": [
    "import google.auth"
   ]
  },
  {
   "cell_type": "code",
   "execution_count": 33,
   "id": "a76935e5-f149-4007-b12e-4c105cfdb131",
   "metadata": {
    "tags": []
   },
   "outputs": [],
   "source": [
    "credentials, project = google.auth.default()"
   ]
  },
  {
   "cell_type": "markdown",
   "id": "9c713084-0e06-47be-84ec-1d2261643d60",
   "metadata": {},
   "source": [
    "## add buffered planned stops"
   ]
  },
  {
   "cell_type": "code",
   "execution_count": 34,
   "id": "069ca002-daca-4d20-9fe9-b1cb684fd68a",
   "metadata": {
    "tags": []
   },
   "outputs": [],
   "source": [
    "existing_areas = catalog.hqta_areas(\n",
    "    geopandas_kwargs={\"storage_options\": {\"token\": credentials.token}}\n",
    ").read()"
   ]
  },
  {
   "cell_type": "code",
   "execution_count": 35,
   "id": "0e8f7227-f3e6-4677-83db-47f3a32585ab",
   "metadata": {
    "tags": []
   },
   "outputs": [],
   "source": [
    "mpo_planned_mts = mpo_planned_mts.to_crs(PROJECT_CRS)"
   ]
  },
  {
   "cell_type": "code",
   "execution_count": 36,
   "id": "5507d3fb-a7b8-4a12-be89-57f039ae8e50",
   "metadata": {},
   "outputs": [],
   "source": [
    "mpo_planned_mts['hqta_details'] = 'mpo_rtp_planned_major_stop'"
   ]
  },
  {
   "cell_type": "code",
   "execution_count": 37,
   "id": "37bc1bca-f75d-4ccb-a70c-e554313436fe",
   "metadata": {
    "tags": []
   },
   "outputs": [],
   "source": [
    "mpo_buffered = mpo_planned_mts.copy()\n",
    "mpo_buffered.geometry = mpo_buffered.geometry.buffer(HALF_MILE_BUFFER_METERS)"
   ]
  },
  {
   "cell_type": "code",
   "execution_count": 38,
   "id": "9bce8bb5-2855-4227-b059-2543918cae49",
   "metadata": {
    "tags": []
   },
   "outputs": [],
   "source": [
    "# mpo_buffered"
   ]
  },
  {
   "cell_type": "code",
   "execution_count": 39,
   "id": "39ab90c6-ee6a-4bd8-8317-1428a7776c9d",
   "metadata": {
    "tags": []
   },
   "outputs": [],
   "source": [
    "# existing_areas"
   ]
  },
  {
   "cell_type": "code",
   "execution_count": 40,
   "id": "db69db92-d1ca-40c9-ae47-1ebc5df0ccca",
   "metadata": {
    "tags": []
   },
   "outputs": [],
   "source": [
    "from calitp_data_analysis.geography_utils import WGS84"
   ]
  },
  {
   "cell_type": "code",
   "execution_count": 41,
   "id": "04d7d506-3e16-4472-aed6-6b6b01d08746",
   "metadata": {
    "tags": []
   },
   "outputs": [],
   "source": [
    "mpo_buffered = mpo_buffered.to_crs(WGS84)"
   ]
  },
  {
   "cell_type": "code",
   "execution_count": 42,
   "id": "08287118-e5f4-4416-98c1-be9287a0d9e0",
   "metadata": {
    "tags": []
   },
   "outputs": [],
   "source": [
    "areas_with_planned = pd.concat([existing_areas, mpo_buffered])"
   ]
  },
  {
   "cell_type": "code",
   "execution_count": 43,
   "id": "7c034cb4-1174-45df-a4d9-05e6c3d993e8",
   "metadata": {
    "tags": []
   },
   "outputs": [
    {
     "data": {
      "text/plain": [
       "numpy.float64"
      ]
     },
     "execution_count": 43,
     "metadata": {},
     "output_type": "execute_result"
    }
   ],
   "source": [
    "np.float64"
   ]
  },
  {
   "cell_type": "code",
   "execution_count": 44,
   "id": "916b83c8-78db-4341-966c-fb5608820f30",
   "metadata": {
    "tags": []
   },
   "outputs": [],
   "source": [
    "areas_with_planned = areas_with_planned.astype({'stop_id': str, 'avg_trips_per_peak_hr': np.float64})"
   ]
  },
  {
   "cell_type": "code",
   "execution_count": 45,
   "id": "1f2d9613-d61a-4e4b-86a6-716ee7e18e18",
   "metadata": {
    "tags": []
   },
   "outputs": [],
   "source": [
    "import gcsfs\n",
    "fs = gcsfs.GCSFileSystem(token=credentials)"
   ]
  },
  {
   "cell_type": "code",
   "execution_count": 46,
   "id": "c8bff600-3161-4b87-96d7-06f89fe4a321",
   "metadata": {
    "tags": []
   },
   "outputs": [],
   "source": [
    "areas_with_planned.to_parquet('gs://calitp-analytics-data/data-analyses/high_quality_transit_areas/hqta_areas.parquet',\n",
    "                             filesystem = fs)"
   ]
  },
  {
   "cell_type": "markdown",
   "id": "e138aa9c-4408-438f-8b3c-9c1d96848d1d",
   "metadata": {},
   "source": [
    "## add planned stop points"
   ]
  },
  {
   "cell_type": "code",
   "execution_count": 47,
   "id": "0a784f46-2be5-482f-ac03-2ce894a2ed1d",
   "metadata": {
    "tags": []
   },
   "outputs": [],
   "source": [
    "existing_stops = catalog.hqta_stops(\n",
    "    geopandas_kwargs={\"storage_options\": {\"token\": credentials.token}}\n",
    ").read()"
   ]
  },
  {
   "cell_type": "code",
   "execution_count": 48,
   "id": "a6c6b50d-09dd-4360-bfc2-d539c25b93e5",
   "metadata": {
    "tags": []
   },
   "outputs": [],
   "source": [
    "mpo_planned_mts = mpo_planned_mts.to_crs(WGS84)"
   ]
  },
  {
   "cell_type": "code",
   "execution_count": 49,
   "id": "812c226c-547f-40a1-ab72-09af9728c7ee",
   "metadata": {
    "tags": []
   },
   "outputs": [],
   "source": [
    "stops_with_planned = pd.concat([existing_stops, mpo_planned_mts])"
   ]
  },
  {
   "cell_type": "code",
   "execution_count": 50,
   "id": "5550c407-decf-48f3-8256-96132e9227d0",
   "metadata": {
    "tags": []
   },
   "outputs": [],
   "source": [
    "stops_with_planned = stops_with_planned.astype({'stop_id': str, 'avg_trips_per_peak_hr': np.float64})"
   ]
  },
  {
   "cell_type": "code",
   "execution_count": 51,
   "id": "b151efd3-69ab-4912-94f5-af0dce7e0599",
   "metadata": {
    "tags": []
   },
   "outputs": [],
   "source": [
    "stops_with_planned.to_parquet('gs://calitp-analytics-data/data-analyses/high_quality_transit_areas/hqta_points.parquet',\n",
    "                             filesystem = fs)"
   ]
  }
 ],
 "metadata": {
  "kernelspec": {
   "display_name": "Python 3 (ipykernel)",
   "language": "python",
   "name": "python3"
  },
  "language_info": {
   "codemirror_mode": {
    "name": "ipython",
    "version": 3
   },
   "file_extension": ".py",
   "mimetype": "text/x-python",
   "name": "python",
   "nbconvert_exporter": "python",
   "pygments_lexer": "ipython3",
   "version": "3.11.10"
  },
  "widgets": {
   "application/vnd.jupyter.widget-state+json": {
    "state": {},
    "version_major": 2,
    "version_minor": 0
   }
  }
 },
 "nbformat": 4,
 "nbformat_minor": 5
}
