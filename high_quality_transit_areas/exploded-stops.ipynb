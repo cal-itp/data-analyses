{
 "cells": [
  {
   "cell_type": "markdown",
   "id": "c69d22c2-83b0-4b8b-b95d-5004c0a241ee",
   "metadata": {},
   "source": [
    "# Dissolving, clipping, exploding rows\n",
    "\n",
    "* What is the desired and expected behavior going from `all_bus` to `shape_dissolve` to `major_bus_stops_working` to `major_bus_stops`?\n",
    "* What is the set of columns / unit of analysis in each stage?\n",
    "* Knowns:\n",
    "    * `all_bus` is at the `hqta_segment_id` level, which are still these 1,250 m segments associated with a `stop_id`\n",
    "    * `shape_dissolve` aggregates up to `shape_id`....but if the columns are kept, it will automatically only keep the first one. If `stop_id` is kept, then across that entire bus route (`shape_id`), it will only have 1 `stop_id`, what that actual `stop_id` could be pretty far away. Is this expected / desired?\n",
    "    * `major_bus_stops` is at the `stop_id` level\n"
   ]
  },
  {
   "cell_type": "code",
   "execution_count": 1,
   "id": "6488352e-ecf2-4852-ba33-449ba5524983",
   "metadata": {},
   "outputs": [
    {
     "name": "stderr",
     "output_type": "stream",
     "text": [
      "/opt/conda/lib/python3.10/site-packages/geopandas/_compat.py:111: UserWarning: The Shapely GEOS version (3.10.2-CAPI-1.16.0) is incompatible with the GEOS version PyGEOS was compiled with (3.10.1-CAPI-1.16.0). Conversions between both will be slow.\n",
      "  warnings.warn(\n"
     ]
    }
   ],
   "source": [
    "import dask.dataframe as dd\n",
    "import dask_geopandas\n",
    "import geopandas as gpd\n",
    "import pandas as pd\n",
    "\n",
    "import B1_bus_corridors as bus_corridors\n",
    "import C1_prep_for_clipping as C1\n",
    "\n",
    "from A1_rail_ferry_brt import analysis_date\n",
    "from utilities import GCS_FILE_PATH\n",
    "from shared_utils import rt_utils\n",
    "\n",
    "date_str = analysis_date.strftime(rt_utils.FULL_DATE_FMT)"
   ]
  },
  {
   "cell_type": "code",
   "execution_count": 2,
   "id": "f1e269cd-643e-4457-8799-4d2639a58823",
   "metadata": {},
   "outputs": [],
   "source": [
    "itp_id = 182\n",
    "metro_route = \"720\""
   ]
  },
  {
   "cell_type": "markdown",
   "id": "fe607b11-6efc-4064-8f96-1c8c90c7e9d6",
   "metadata": {},
   "source": [
    "## `all_bus`"
   ]
  },
  {
   "cell_type": "code",
   "execution_count": 3,
   "id": "893f52f1-c44d-46a2-80e7-5b789298cd57",
   "metadata": {},
   "outputs": [],
   "source": [
    "all_bus = gpd.read_parquet(\n",
    "    f\"{bus_corridors.TEST_GCS_FILE_PATH}intermediate/all_bus.parquet\")\n",
    "\n",
    "all_bus = all_bus[(all_bus.calitp_itp_id==itp_id) & \n",
    "                  (all_bus.shape_id.str.startswith(metro_route))]"
   ]
  },
  {
   "cell_type": "code",
   "execution_count": 4,
   "id": "f68c00f9-077b-4807-99a6-f34fa1b9ab96",
   "metadata": {},
   "outputs": [
    {
     "data": {
      "text/html": [
       "<div>\n",
       "<style scoped>\n",
       "    .dataframe tbody tr th:only-of-type {\n",
       "        vertical-align: middle;\n",
       "    }\n",
       "\n",
       "    .dataframe tbody tr th {\n",
       "        vertical-align: top;\n",
       "    }\n",
       "\n",
       "    .dataframe thead th {\n",
       "        text-align: right;\n",
       "    }\n",
       "</style>\n",
       "<table border=\"1\" class=\"dataframe\">\n",
       "  <thead>\n",
       "    <tr style=\"text-align: right;\">\n",
       "      <th></th>\n",
       "      <th>calitp_itp_id</th>\n",
       "      <th>stop_id</th>\n",
       "      <th>hqta_segment_id</th>\n",
       "      <th>segment_sequence</th>\n",
       "      <th>calitp_url_number</th>\n",
       "      <th>shape_id</th>\n",
       "      <th>geometry</th>\n",
       "      <th>am_max_trips</th>\n",
       "      <th>pm_max_trips</th>\n",
       "      <th>hq_transit_corr</th>\n",
       "    </tr>\n",
       "  </thead>\n",
       "  <tbody>\n",
       "    <tr>\n",
       "      <th>7685</th>\n",
       "      <td>182</td>\n",
       "      <td>16704</td>\n",
       "      <td>298894490</td>\n",
       "      <td>15</td>\n",
       "      <td>0</td>\n",
       "      <td>7201273_FEB22</td>\n",
       "      <td>POLYGON ((145631.640 -437486.239, 145453.522 -...</td>\n",
       "      <td>15</td>\n",
       "      <td>15</td>\n",
       "      <td>True</td>\n",
       "    </tr>\n",
       "    <tr>\n",
       "      <th>7745</th>\n",
       "      <td>182</td>\n",
       "      <td>16664</td>\n",
       "      <td>381485187</td>\n",
       "      <td>11</td>\n",
       "      <td>0</td>\n",
       "      <td>7201273_FEB22</td>\n",
       "      <td>POLYGON ((150889.827 -437881.983, 150889.058 -...</td>\n",
       "      <td>16</td>\n",
       "      <td>15</td>\n",
       "      <td>True</td>\n",
       "    </tr>\n",
       "    <tr>\n",
       "      <th>7760</th>\n",
       "      <td>182</td>\n",
       "      <td>104702</td>\n",
       "      <td>409372849</td>\n",
       "      <td>19</td>\n",
       "      <td>0</td>\n",
       "      <td>7201273_FEB22</td>\n",
       "      <td>POLYGON ((141587.396 -439971.508, 141588.451 -...</td>\n",
       "      <td>8</td>\n",
       "      <td>7</td>\n",
       "      <td>True</td>\n",
       "    </tr>\n",
       "    <tr>\n",
       "      <th>7993</th>\n",
       "      <td>182</td>\n",
       "      <td>7371</td>\n",
       "      <td>816568292</td>\n",
       "      <td>3</td>\n",
       "      <td>0</td>\n",
       "      <td>7201273_FEB22</td>\n",
       "      <td>POLYGON ((159974.969 -438533.984, 159947.610 -...</td>\n",
       "      <td>21</td>\n",
       "      <td>22</td>\n",
       "      <td>True</td>\n",
       "    </tr>\n",
       "    <tr>\n",
       "      <th>8074</th>\n",
       "      <td>182</td>\n",
       "      <td>8393</td>\n",
       "      <td>935728125</td>\n",
       "      <td>7</td>\n",
       "      <td>0</td>\n",
       "      <td>7201273_FEB22</td>\n",
       "      <td>POLYGON ((155892.476 -437983.386, 155856.715 -...</td>\n",
       "      <td>16</td>\n",
       "      <td>18</td>\n",
       "      <td>True</td>\n",
       "    </tr>\n",
       "    <tr>\n",
       "      <th>8132</th>\n",
       "      <td>182</td>\n",
       "      <td>8377</td>\n",
       "      <td>1032868672</td>\n",
       "      <td>21</td>\n",
       "      <td>0</td>\n",
       "      <td>7201273_FEB22</td>\n",
       "      <td>POLYGON ((140147.304 -441555.815, 140104.199 -...</td>\n",
       "      <td>13</td>\n",
       "      <td>7</td>\n",
       "      <td>True</td>\n",
       "    </tr>\n",
       "    <tr>\n",
       "      <th>8161</th>\n",
       "      <td>182</td>\n",
       "      <td>5775</td>\n",
       "      <td>1086399339</td>\n",
       "      <td>6</td>\n",
       "      <td>0</td>\n",
       "      <td>7201273_FEB22</td>\n",
       "      <td>POLYGON ((157127.315 -437954.813, 157127.028 -...</td>\n",
       "      <td>30</td>\n",
       "      <td>31</td>\n",
       "      <td>True</td>\n",
       "    </tr>\n",
       "    <tr>\n",
       "      <th>8244</th>\n",
       "      <td>182</td>\n",
       "      <td>15688</td>\n",
       "      <td>1202513778</td>\n",
       "      <td>2</td>\n",
       "      <td>0</td>\n",
       "      <td>7201273_FEB22</td>\n",
       "      <td>POLYGON ((161515.943 -439415.302, 161515.866 -...</td>\n",
       "      <td>46</td>\n",
       "      <td>45</td>\n",
       "      <td>True</td>\n",
       "    </tr>\n",
       "    <tr>\n",
       "      <th>8271</th>\n",
       "      <td>182</td>\n",
       "      <td>8383</td>\n",
       "      <td>1251435478</td>\n",
       "      <td>20</td>\n",
       "      <td>0</td>\n",
       "      <td>7201273_FEB22</td>\n",
       "      <td>POLYGON ((141041.097 -440657.571, 140996.434 -...</td>\n",
       "      <td>12</td>\n",
       "      <td>7</td>\n",
       "      <td>True</td>\n",
       "    </tr>\n",
       "    <tr>\n",
       "      <th>8307</th>\n",
       "      <td>182</td>\n",
       "      <td>38</td>\n",
       "      <td>1308272591</td>\n",
       "      <td>24</td>\n",
       "      <td>0</td>\n",
       "      <td>7201273_FEB22</td>\n",
       "      <td>POLYGON ((139528.377 -443542.928, 139591.065 -...</td>\n",
       "      <td>20</td>\n",
       "      <td>13</td>\n",
       "      <td>True</td>\n",
       "    </tr>\n",
       "    <tr>\n",
       "      <th>8479</th>\n",
       "      <td>182</td>\n",
       "      <td>16664</td>\n",
       "      <td>1639591957</td>\n",
       "      <td>10</td>\n",
       "      <td>0</td>\n",
       "      <td>7201273_FEB22</td>\n",
       "      <td>POLYGON ((152072.727 -437971.428, 151961.487 -...</td>\n",
       "      <td>16</td>\n",
       "      <td>15</td>\n",
       "      <td>True</td>\n",
       "    </tr>\n",
       "    <tr>\n",
       "      <th>8537</th>\n",
       "      <td>182</td>\n",
       "      <td>16762</td>\n",
       "      <td>1725428748</td>\n",
       "      <td>14</td>\n",
       "      <td>0</td>\n",
       "      <td>7201273_FEB22</td>\n",
       "      <td>POLYGON ((147165.613 -437537.264, 147133.543 -...</td>\n",
       "      <td>15</td>\n",
       "      <td>15</td>\n",
       "      <td>True</td>\n",
       "    </tr>\n",
       "    <tr>\n",
       "      <th>8627</th>\n",
       "      <td>182</td>\n",
       "      <td>16672</td>\n",
       "      <td>1868675111</td>\n",
       "      <td>18</td>\n",
       "      <td>0</td>\n",
       "      <td>7201273_FEB22</td>\n",
       "      <td>POLYGON ((142479.593 -438951.366, 142484.123 -...</td>\n",
       "      <td>11</td>\n",
       "      <td>6</td>\n",
       "      <td>True</td>\n",
       "    </tr>\n",
       "    <tr>\n",
       "      <th>8909</th>\n",
       "      <td>182</td>\n",
       "      <td>8466</td>\n",
       "      <td>2295960864</td>\n",
       "      <td>16</td>\n",
       "      <td>0</td>\n",
       "      <td>7201273_FEB22</td>\n",
       "      <td>POLYGON ((144790.026 -437826.360, 144771.080 -...</td>\n",
       "      <td>5</td>\n",
       "      <td>5</td>\n",
       "      <td>True</td>\n",
       "    </tr>\n",
       "    <tr>\n",
       "      <th>8984</th>\n",
       "      <td>182</td>\n",
       "      <td>16746</td>\n",
       "      <td>2410959161</td>\n",
       "      <td>12</td>\n",
       "      <td>0</td>\n",
       "      <td>7201273_FEB22</td>\n",
       "      <td>POLYGON ((149194.649 -437508.143, 149187.550 -...</td>\n",
       "      <td>14</td>\n",
       "      <td>15</td>\n",
       "      <td>True</td>\n",
       "    </tr>\n",
       "    <tr>\n",
       "      <th>9215</th>\n",
       "      <td>182</td>\n",
       "      <td>14360</td>\n",
       "      <td>2761491194</td>\n",
       "      <td>22</td>\n",
       "      <td>0</td>\n",
       "      <td>7201273_FEB22</td>\n",
       "      <td>POLYGON ((138765.222 -442944.904, 138768.757 -...</td>\n",
       "      <td>12</td>\n",
       "      <td>13</td>\n",
       "      <td>True</td>\n",
       "    </tr>\n",
       "    <tr>\n",
       "      <th>9243</th>\n",
       "      <td>182</td>\n",
       "      <td>16734</td>\n",
       "      <td>2809728620</td>\n",
       "      <td>8</td>\n",
       "      <td>0</td>\n",
       "      <td>7201273_FEB22</td>\n",
       "      <td>POLYGON ((154543.965 -437987.476, 154387.441 -...</td>\n",
       "      <td>4</td>\n",
       "      <td>5</td>\n",
       "      <td>False</td>\n",
       "    </tr>\n",
       "    <tr>\n",
       "      <th>9265</th>\n",
       "      <td>182</td>\n",
       "      <td>1213</td>\n",
       "      <td>2846000734</td>\n",
       "      <td>0</td>\n",
       "      <td>0</td>\n",
       "      <td>7201273_FEB22</td>\n",
       "      <td>POLYGON ((162453.693 -440442.131, 162454.673 -...</td>\n",
       "      <td>27</td>\n",
       "      <td>26</td>\n",
       "      <td>True</td>\n",
       "    </tr>\n",
       "    <tr>\n",
       "      <th>9313</th>\n",
       "      <td>182</td>\n",
       "      <td>13122</td>\n",
       "      <td>2932818503</td>\n",
       "      <td>4</td>\n",
       "      <td>0</td>\n",
       "      <td>7201273_FEB22</td>\n",
       "      <td>POLYGON ((158808.003 -438156.664, 158804.880 -...</td>\n",
       "      <td>11</td>\n",
       "      <td>11</td>\n",
       "      <td>True</td>\n",
       "    </tr>\n",
       "    <tr>\n",
       "      <th>9616</th>\n",
       "      <td>182</td>\n",
       "      <td>16711</td>\n",
       "      <td>3497934586</td>\n",
       "      <td>9</td>\n",
       "      <td>0</td>\n",
       "      <td>7201273_FEB22</td>\n",
       "      <td>POLYGON ((153410.456 -437981.339, 153404.997 -...</td>\n",
       "      <td>16</td>\n",
       "      <td>15</td>\n",
       "      <td>True</td>\n",
       "    </tr>\n",
       "    <tr>\n",
       "      <th>9644</th>\n",
       "      <td>182</td>\n",
       "      <td>14360</td>\n",
       "      <td>3550360172</td>\n",
       "      <td>23</td>\n",
       "      <td>0</td>\n",
       "      <td>7201273_FEB22</td>\n",
       "      <td>POLYGON ((139040.925 -443118.762, 139090.301 -...</td>\n",
       "      <td>12</td>\n",
       "      <td>13</td>\n",
       "      <td>True</td>\n",
       "    </tr>\n",
       "    <tr>\n",
       "      <th>9709</th>\n",
       "      <td>182</td>\n",
       "      <td>16769</td>\n",
       "      <td>3653792465</td>\n",
       "      <td>5</td>\n",
       "      <td>0</td>\n",
       "      <td>7201273_FEB22</td>\n",
       "      <td>POLYGON ((158376.747 -437935.135, 158365.665 -...</td>\n",
       "      <td>20</td>\n",
       "      <td>19</td>\n",
       "      <td>True</td>\n",
       "    </tr>\n",
       "    <tr>\n",
       "      <th>9759</th>\n",
       "      <td>182</td>\n",
       "      <td>8634</td>\n",
       "      <td>3735402184</td>\n",
       "      <td>1</td>\n",
       "      <td>0</td>\n",
       "      <td>7201273_FEB22</td>\n",
       "      <td>POLYGON ((162469.477 -440060.385, 162429.619 -...</td>\n",
       "      <td>39</td>\n",
       "      <td>40</td>\n",
       "      <td>True</td>\n",
       "    </tr>\n",
       "    <tr>\n",
       "      <th>10042</th>\n",
       "      <td>182</td>\n",
       "      <td>16747</td>\n",
       "      <td>4172505519</td>\n",
       "      <td>13</td>\n",
       "      <td>0</td>\n",
       "      <td>7201273_FEB22</td>\n",
       "      <td>POLYGON ((148444.691 -437517.900, 148401.929 -...</td>\n",
       "      <td>15</td>\n",
       "      <td>14</td>\n",
       "      <td>True</td>\n",
       "    </tr>\n",
       "    <tr>\n",
       "      <th>10121</th>\n",
       "      <td>182</td>\n",
       "      <td>16693</td>\n",
       "      <td>4292781494</td>\n",
       "      <td>17</td>\n",
       "      <td>0</td>\n",
       "      <td>7201273_FEB22</td>\n",
       "      <td>POLYGON ((143862.908 -438448.562, 143862.292 -...</td>\n",
       "      <td>15</td>\n",
       "      <td>14</td>\n",
       "      <td>True</td>\n",
       "    </tr>\n",
       "  </tbody>\n",
       "</table>\n",
       "</div>"
      ],
      "text/plain": [
       "       calitp_itp_id stop_id  hqta_segment_id segment_sequence  \\\n",
       "7685             182   16704        298894490               15   \n",
       "7745             182   16664        381485187               11   \n",
       "7760             182  104702        409372849               19   \n",
       "7993             182    7371        816568292                3   \n",
       "8074             182    8393        935728125                7   \n",
       "8132             182    8377       1032868672               21   \n",
       "8161             182    5775       1086399339                6   \n",
       "8244             182   15688       1202513778                2   \n",
       "8271             182    8383       1251435478               20   \n",
       "8307             182      38       1308272591               24   \n",
       "8479             182   16664       1639591957               10   \n",
       "8537             182   16762       1725428748               14   \n",
       "8627             182   16672       1868675111               18   \n",
       "8909             182    8466       2295960864               16   \n",
       "8984             182   16746       2410959161               12   \n",
       "9215             182   14360       2761491194               22   \n",
       "9243             182   16734       2809728620                8   \n",
       "9265             182    1213       2846000734                0   \n",
       "9313             182   13122       2932818503                4   \n",
       "9616             182   16711       3497934586                9   \n",
       "9644             182   14360       3550360172               23   \n",
       "9709             182   16769       3653792465                5   \n",
       "9759             182    8634       3735402184                1   \n",
       "10042            182   16747       4172505519               13   \n",
       "10121            182   16693       4292781494               17   \n",
       "\n",
       "       calitp_url_number       shape_id  \\\n",
       "7685                   0  7201273_FEB22   \n",
       "7745                   0  7201273_FEB22   \n",
       "7760                   0  7201273_FEB22   \n",
       "7993                   0  7201273_FEB22   \n",
       "8074                   0  7201273_FEB22   \n",
       "8132                   0  7201273_FEB22   \n",
       "8161                   0  7201273_FEB22   \n",
       "8244                   0  7201273_FEB22   \n",
       "8271                   0  7201273_FEB22   \n",
       "8307                   0  7201273_FEB22   \n",
       "8479                   0  7201273_FEB22   \n",
       "8537                   0  7201273_FEB22   \n",
       "8627                   0  7201273_FEB22   \n",
       "8909                   0  7201273_FEB22   \n",
       "8984                   0  7201273_FEB22   \n",
       "9215                   0  7201273_FEB22   \n",
       "9243                   0  7201273_FEB22   \n",
       "9265                   0  7201273_FEB22   \n",
       "9313                   0  7201273_FEB22   \n",
       "9616                   0  7201273_FEB22   \n",
       "9644                   0  7201273_FEB22   \n",
       "9709                   0  7201273_FEB22   \n",
       "9759                   0  7201273_FEB22   \n",
       "10042                  0  7201273_FEB22   \n",
       "10121                  0  7201273_FEB22   \n",
       "\n",
       "                                                geometry  am_max_trips  \\\n",
       "7685   POLYGON ((145631.640 -437486.239, 145453.522 -...            15   \n",
       "7745   POLYGON ((150889.827 -437881.983, 150889.058 -...            16   \n",
       "7760   POLYGON ((141587.396 -439971.508, 141588.451 -...             8   \n",
       "7993   POLYGON ((159974.969 -438533.984, 159947.610 -...            21   \n",
       "8074   POLYGON ((155892.476 -437983.386, 155856.715 -...            16   \n",
       "8132   POLYGON ((140147.304 -441555.815, 140104.199 -...            13   \n",
       "8161   POLYGON ((157127.315 -437954.813, 157127.028 -...            30   \n",
       "8244   POLYGON ((161515.943 -439415.302, 161515.866 -...            46   \n",
       "8271   POLYGON ((141041.097 -440657.571, 140996.434 -...            12   \n",
       "8307   POLYGON ((139528.377 -443542.928, 139591.065 -...            20   \n",
       "8479   POLYGON ((152072.727 -437971.428, 151961.487 -...            16   \n",
       "8537   POLYGON ((147165.613 -437537.264, 147133.543 -...            15   \n",
       "8627   POLYGON ((142479.593 -438951.366, 142484.123 -...            11   \n",
       "8909   POLYGON ((144790.026 -437826.360, 144771.080 -...             5   \n",
       "8984   POLYGON ((149194.649 -437508.143, 149187.550 -...            14   \n",
       "9215   POLYGON ((138765.222 -442944.904, 138768.757 -...            12   \n",
       "9243   POLYGON ((154543.965 -437987.476, 154387.441 -...             4   \n",
       "9265   POLYGON ((162453.693 -440442.131, 162454.673 -...            27   \n",
       "9313   POLYGON ((158808.003 -438156.664, 158804.880 -...            11   \n",
       "9616   POLYGON ((153410.456 -437981.339, 153404.997 -...            16   \n",
       "9644   POLYGON ((139040.925 -443118.762, 139090.301 -...            12   \n",
       "9709   POLYGON ((158376.747 -437935.135, 158365.665 -...            20   \n",
       "9759   POLYGON ((162469.477 -440060.385, 162429.619 -...            39   \n",
       "10042  POLYGON ((148444.691 -437517.900, 148401.929 -...            15   \n",
       "10121  POLYGON ((143862.908 -438448.562, 143862.292 -...            15   \n",
       "\n",
       "       pm_max_trips  hq_transit_corr  \n",
       "7685             15             True  \n",
       "7745             15             True  \n",
       "7760              7             True  \n",
       "7993             22             True  \n",
       "8074             18             True  \n",
       "8132              7             True  \n",
       "8161             31             True  \n",
       "8244             45             True  \n",
       "8271              7             True  \n",
       "8307             13             True  \n",
       "8479             15             True  \n",
       "8537             15             True  \n",
       "8627              6             True  \n",
       "8909              5             True  \n",
       "8984             15             True  \n",
       "9215             13             True  \n",
       "9243              5            False  \n",
       "9265             26             True  \n",
       "9313             11             True  \n",
       "9616             15             True  \n",
       "9644             13             True  \n",
       "9709             19             True  \n",
       "9759             40             True  \n",
       "10042            14             True  \n",
       "10121            14             True  "
      ]
     },
     "execution_count": 4,
     "metadata": {},
     "output_type": "execute_result"
    }
   ],
   "source": [
    "all_bus"
   ]
  },
  {
   "cell_type": "code",
   "execution_count": 5,
   "id": "289fa380-dbc9-4401-8f04-db9050077885",
   "metadata": {},
   "outputs": [],
   "source": [
    "def stats(df):\n",
    "    print(f\"# rows: {len(df)}\")\n",
    "    print(f\"# unique stops: {df.stop_id.nunique()}\")\n",
    "    print(f\"# unique hqta_segment_id: {df.hqta_segment_id.nunique()}\")\n",
    "    \n",
    "    map1 = df.plot(column=\"shape_id\", figsize=(10, 10), cmap=\"tab10\"\n",
    "                  ).set_title(\"shape_id\")\n",
    "    map2 = df.plot(column=\"hqta_segment_id\", figsize=(10, 10), cmap=\"tab10\"\n",
    "                  ).set_title(\"hqta_segment_id\")\n",
    "    \n",
    "    print(map1)\n",
    "    print(map2)"
   ]
  },
  {
   "cell_type": "code",
   "execution_count": 6,
   "id": "b41eb21c-34ed-4fab-94d9-487ce30a9634",
   "metadata": {},
   "outputs": [
    {
     "name": "stdout",
     "output_type": "stream",
     "text": [
      "# rows: 25\n",
      "# unique stops: 23\n",
      "# unique hqta_segment_id: 25\n",
      "Text(0.5, 1.0, 'shape_id')\n",
      "Text(0.5, 1.0, 'hqta_segment_id')\n"
     ]
    },
    {
     "data": {
      "image/png": "[encoded data removed]",
      "text/plain": [
       "<Figure size 720x720 with 1 Axes>"
      ]
     },
     "metadata": {
      "needs_background": "light"
     },
     "output_type": "display_data"
    },
    {
     "data": {
      "image/png": "[encoded data removed]",
      "text/plain": [
       "<Figure size 720x720 with 1 Axes>"
      ]
     },
     "metadata": {
      "needs_background": "light"
     },
     "output_type": "display_data"
    }
   ],
   "source": [
    "stats(all_bus)"
   ]
  },
  {
   "cell_type": "markdown",
   "id": "cb0b731c-70b0-4248-9626-4de70e0f355d",
   "metadata": {},
   "source": [
    "## `shape_dissolve`\n",
    "\n",
    "In this dissolve, do we actually want to have lost the `hqta_segment_id`? Now `stop_id` isn't linked to that segment. The segment, which is much shorter, is more closely associated with where the actual stop falls. In the dissolve, if `stop_id` is kept as a column, then the first stop_id for that `shape_id`. If only 1 `stop_id` is a stand-in for the entire `shape_id`, that could mean the actual physical location of the stop is far from the `geometry` associated with `shape_id`.\n",
    "\n",
    "2 possible desired behaviors:\n",
    "* We want to find where 2 bus routes intersect, and keep that geometry, and then associate that little clipped/intersecting area to a stop? `geometry` -- the clipped/intersecting area.\n",
    "* We can do a spatial join and see whether that `hqta_segment_id`-`stop_id` does intersect with another `hqta_segment_id`-`stop_id` (same operator or different operator). If it does intersect, then we keep it. `geometry` -- the 1,250 m hqta segment length. "
   ]
  },
  {
   "cell_type": "code",
   "execution_count": 7,
   "id": "77ba8e83-d828-4bfd-830d-03e7ba036a5f",
   "metadata": {},
   "outputs": [
    {
     "data": {
      "text/html": [
       "<div>\n",
       "<style scoped>\n",
       "    .dataframe tbody tr th:only-of-type {\n",
       "        vertical-align: middle;\n",
       "    }\n",
       "\n",
       "    .dataframe tbody tr th {\n",
       "        vertical-align: top;\n",
       "    }\n",
       "\n",
       "    .dataframe thead th {\n",
       "        text-align: right;\n",
       "    }\n",
       "</style>\n",
       "<table border=\"1\" class=\"dataframe\">\n",
       "  <thead>\n",
       "    <tr style=\"text-align: right;\">\n",
       "      <th></th>\n",
       "      <th>calitp_itp_id</th>\n",
       "      <th>shape_id</th>\n",
       "      <th>hq_transit_corr</th>\n",
       "      <th>geometry</th>\n",
       "      <th>stop_id</th>\n",
       "      <th>hqta_segment_id</th>\n",
       "      <th>segment_sequence</th>\n",
       "      <th>calitp_url_number</th>\n",
       "      <th>am_max_trips</th>\n",
       "      <th>pm_max_trips</th>\n",
       "      <th>area</th>\n",
       "    </tr>\n",
       "  </thead>\n",
       "  <tbody>\n",
       "    <tr>\n",
       "      <th>1417</th>\n",
       "      <td>182</td>\n",
       "      <td>7201273_FEB22</td>\n",
       "      <td>True</td>\n",
       "      <td>MULTIPOLYGON (((139663.064 -443439.549, 139671...</td>\n",
       "      <td>16704</td>\n",
       "      <td>298894490</td>\n",
       "      <td>15</td>\n",
       "      <td>0</td>\n",
       "      <td>15</td>\n",
       "      <td>15</td>\n",
       "      <td>2.914129e+06</td>\n",
       "    </tr>\n",
       "  </tbody>\n",
       "</table>\n",
       "</div>"
      ],
      "text/plain": [
       "      calitp_itp_id       shape_id  hq_transit_corr  \\\n",
       "1417            182  7201273_FEB22             True   \n",
       "\n",
       "                                               geometry stop_id  \\\n",
       "1417  MULTIPOLYGON (((139663.064 -443439.549, 139671...   16704   \n",
       "\n",
       "      hqta_segment_id segment_sequence  calitp_url_number  am_max_trips  \\\n",
       "1417        298894490               15                  0            15   \n",
       "\n",
       "      pm_max_trips          area  \n",
       "1417            15  2.914129e+06  "
      ]
     },
     "execution_count": 7,
     "metadata": {},
     "output_type": "execute_result"
    }
   ],
   "source": [
    "shape_dissolve = gpd.read_parquet(\n",
    "    f\"{bus_corridors.TEST_GCS_FILE_PATH}intermediate/shape_dissolve.parquet\")\n",
    "\n",
    "shape_dissolve = shape_dissolve[(shape_dissolve.calitp_itp_id==itp_id) & \n",
    "                                (shape_dissolve.shape_id.str.startswith(metro_route))\n",
    "                               ]\n",
    "\n",
    "shape_dissolve"
   ]
  },
  {
   "cell_type": "code",
   "execution_count": 8,
   "id": "cbb6231a-26d8-42c3-844a-37bb39dfe043",
   "metadata": {},
   "outputs": [
    {
     "name": "stdout",
     "output_type": "stream",
     "text": [
      "# rows: 1\n",
      "# unique stops: 1\n",
      "# unique hqta_segment_id: 1\n",
      "Text(0.5, 1.0, 'shape_id')\n",
      "Text(0.5, 1.0, 'hqta_segment_id')\n"
     ]
    },
    {
     "data": {
      "image/png": "[encoded data removed]",
      "text/plain": [
       "<Figure size 720x720 with 1 Axes>"
      ]
     },
     "metadata": {
      "needs_background": "light"
     },
     "output_type": "display_data"
    },
    {
     "data": {
      "image/png": "[encoded data removed]",
      "text/plain": [
       "<Figure size 720x720 with 1 Axes>"
      ]
     },
     "metadata": {
      "needs_background": "light"
     },
     "output_type": "display_data"
    }
   ],
   "source": [
    "stats(shape_dissolve)"
   ]
  },
  {
   "cell_type": "markdown",
   "id": "a3ce3a31-cbb7-4c05-b7e4-e5479344bc0f",
   "metadata": {},
   "source": [
    "## `major_bus_stops_working`"
   ]
  },
  {
   "cell_type": "code",
   "execution_count": 9,
   "id": "a583f924-3423-4702-907b-9e863bfbad5e",
   "metadata": {},
   "outputs": [
    {
     "data": {
      "text/html": [
       "<div>\n",
       "<style scoped>\n",
       "    .dataframe tbody tr th:only-of-type {\n",
       "        vertical-align: middle;\n",
       "    }\n",
       "\n",
       "    .dataframe tbody tr th {\n",
       "        vertical-align: top;\n",
       "    }\n",
       "\n",
       "    .dataframe thead th {\n",
       "        text-align: right;\n",
       "    }\n",
       "</style>\n",
       "<table border=\"1\" class=\"dataframe\">\n",
       "  <thead>\n",
       "    <tr style=\"text-align: right;\">\n",
       "      <th></th>\n",
       "      <th>hq_transit_corr</th>\n",
       "      <th>shape_id</th>\n",
       "      <th>calitp_itp_id</th>\n",
       "      <th>geometry</th>\n",
       "      <th>calitp_url_number</th>\n",
       "      <th>hqta_segment_id</th>\n",
       "      <th>segment_sequence</th>\n",
       "      <th>stop_id</th>\n",
       "      <th>am_max_trips</th>\n",
       "      <th>pm_max_trips</th>\n",
       "      <th>departure_hour</th>\n",
       "      <th>n</th>\n",
       "      <th>hqta_type</th>\n",
       "      <th>route_type</th>\n",
       "    </tr>\n",
       "  </thead>\n",
       "  <tbody>\n",
       "    <tr>\n",
       "      <th>3816</th>\n",
       "      <td>True</td>\n",
       "      <td>700290_FEB22</td>\n",
       "      <td>182</td>\n",
       "      <td>MULTIPOLYGON (((161158.925 -439002.405, 161160...</td>\n",
       "      <td>0</td>\n",
       "      <td>3785277923</td>\n",
       "      <td>1</td>\n",
       "      <td>13560</td>\n",
       "      <td>53.0</td>\n",
       "      <td>51.0</td>\n",
       "      <td>NaN</td>\n",
       "      <td>NaN</td>\n",
       "      <td>hq_transit_corr</td>\n",
       "      <td>3</td>\n",
       "    </tr>\n",
       "    <tr>\n",
       "      <th>3817</th>\n",
       "      <td>True</td>\n",
       "      <td>700292_FEB22</td>\n",
       "      <td>182</td>\n",
       "      <td>MULTIPOLYGON (((180244.118 -436298.385, 180244...</td>\n",
       "      <td>0</td>\n",
       "      <td>3569153544</td>\n",
       "      <td>0</td>\n",
       "      <td>6535</td>\n",
       "      <td>34.0</td>\n",
       "      <td>35.0</td>\n",
       "      <td>NaN</td>\n",
       "      <td>NaN</td>\n",
       "      <td>hq_transit_corr</td>\n",
       "      <td>3</td>\n",
       "    </tr>\n",
       "  </tbody>\n",
       "</table>\n",
       "</div>"
      ],
      "text/plain": [
       "      hq_transit_corr      shape_id  calitp_itp_id  \\\n",
       "3816             True  700290_FEB22            182   \n",
       "3817             True  700292_FEB22            182   \n",
       "\n",
       "                                               geometry  calitp_url_number  \\\n",
       "3816  MULTIPOLYGON (((161158.925 -439002.405, 161160...                  0   \n",
       "3817  MULTIPOLYGON (((180244.118 -436298.385, 180244...                  0   \n",
       "\n",
       "      hqta_segment_id segment_sequence stop_id  am_max_trips  pm_max_trips  \\\n",
       "3816       3785277923                1   13560          53.0          51.0   \n",
       "3817       3569153544                0    6535          34.0          35.0   \n",
       "\n",
       "      departure_hour   n        hqta_type route_type  \n",
       "3816             NaN NaN  hq_transit_corr          3  \n",
       "3817             NaN NaN  hq_transit_corr          3  "
      ]
     },
     "execution_count": 9,
     "metadata": {},
     "output_type": "execute_result"
    }
   ],
   "source": [
    "working = gpd.read_parquet(f\"{GCS_FILE_PATH}major_bus_stops_working.parquet\")\n",
    "working = working[(working.calitp_itp_id == itp_id) & \n",
    "                  (working.shape_id.str.startswith(\"700\"))]\n",
    "\n",
    "working"
   ]
  },
  {
   "cell_type": "code",
   "execution_count": 10,
   "id": "4f65dff4-d466-43cf-ad79-4f3f353b5fc9",
   "metadata": {},
   "outputs": [
    {
     "name": "stdout",
     "output_type": "stream",
     "text": [
      "# rows: 2\n",
      "# unique stops: 2\n",
      "# unique hqta_segment_id: 2\n",
      "Text(0.5, 1.0, 'shape_id')\n",
      "Text(0.5, 1.0, 'hqta_segment_id')\n"
     ]
    },
    {
     "data": {
      "image/png": "[encoded data removed]",
      "text/plain": [
       "<Figure size 720x720 with 1 Axes>"
      ]
     },
     "metadata": {
      "needs_background": "light"
     },
     "output_type": "display_data"
    },
    {
     "data": {
      "image/png": "[encoded data removed]",
      "text/plain": [
       "<Figure size 720x720 with 1 Axes>"
      ]
     },
     "metadata": {
      "needs_background": "light"
     },
     "output_type": "display_data"
    }
   ],
   "source": [
    "stats(working)"
   ]
  },
  {
   "cell_type": "markdown",
   "id": "ffa74740-aab8-4daa-b82e-e0b5d83df76c",
   "metadata": {},
   "source": [
    "## `major_bus_stops`"
   ]
  },
  {
   "cell_type": "code",
   "execution_count": 11,
   "id": "43de47cd-3b04-4efc-9642-e72a6784ae75",
   "metadata": {},
   "outputs": [
    {
     "data": {
      "text/html": [
       "<div>\n",
       "<style scoped>\n",
       "    .dataframe tbody tr th:only-of-type {\n",
       "        vertical-align: middle;\n",
       "    }\n",
       "\n",
       "    .dataframe tbody tr th {\n",
       "        vertical-align: top;\n",
       "    }\n",
       "\n",
       "    .dataframe thead th {\n",
       "        text-align: right;\n",
       "    }\n",
       "</style>\n",
       "<table border=\"1\" class=\"dataframe\">\n",
       "  <thead>\n",
       "    <tr style=\"text-align: right;\">\n",
       "      <th></th>\n",
       "      <th>calitp_itp_id</th>\n",
       "      <th>stop_id</th>\n",
       "      <th>geometry</th>\n",
       "      <th>hqta_type</th>\n",
       "    </tr>\n",
       "  </thead>\n",
       "  <tbody>\n",
       "    <tr>\n",
       "      <th>2195</th>\n",
       "      <td>182</td>\n",
       "      <td>13560</td>\n",
       "      <td>POLYGON ((160164.678 -440366.591, 160169.107 -...</td>\n",
       "      <td>major_transit_stop</td>\n",
       "    </tr>\n",
       "    <tr>\n",
       "      <th>2196</th>\n",
       "      <td>182</td>\n",
       "      <td>6535</td>\n",
       "      <td>POLYGON ((178495.863 -437424.231, 178495.191 -...</td>\n",
       "      <td>major_transit_stop</td>\n",
       "    </tr>\n",
       "    <tr>\n",
       "      <th>2197</th>\n",
       "      <td>182</td>\n",
       "      <td>6535</td>\n",
       "      <td>POLYGON ((172123.076 -437581.854, 172123.050 -...</td>\n",
       "      <td>major_transit_stop</td>\n",
       "    </tr>\n",
       "    <tr>\n",
       "      <th>2198</th>\n",
       "      <td>182</td>\n",
       "      <td>6535</td>\n",
       "      <td>POLYGON ((171350.044 -440044.880, 171350.182 -...</td>\n",
       "      <td>major_transit_stop</td>\n",
       "    </tr>\n",
       "    <tr>\n",
       "      <th>2199</th>\n",
       "      <td>182</td>\n",
       "      <td>6535</td>\n",
       "      <td>POLYGON ((171162.531 -440433.567, 171157.699 -...</td>\n",
       "      <td>major_transit_stop</td>\n",
       "    </tr>\n",
       "  </tbody>\n",
       "</table>\n",
       "</div>"
      ],
      "text/plain": [
       "      calitp_itp_id stop_id  \\\n",
       "2195            182   13560   \n",
       "2196            182    6535   \n",
       "2197            182    6535   \n",
       "2198            182    6535   \n",
       "2199            182    6535   \n",
       "\n",
       "                                               geometry           hqta_type  \n",
       "2195  POLYGON ((160164.678 -440366.591, 160169.107 -...  major_transit_stop  \n",
       "2196  POLYGON ((178495.863 -437424.231, 178495.191 -...  major_transit_stop  \n",
       "2197  POLYGON ((172123.076 -437581.854, 172123.050 -...  major_transit_stop  \n",
       "2198  POLYGON ((171350.044 -440044.880, 171350.182 -...  major_transit_stop  \n",
       "2199  POLYGON ((171162.531 -440433.567, 171157.699 -...  major_transit_stop  "
      ]
     },
     "execution_count": 11,
     "metadata": {},
     "output_type": "execute_result"
    }
   ],
   "source": [
    "stops = gpd.read_parquet(f\"{GCS_FILE_PATH}major_bus_stops.parquet\")\n",
    "\n",
    "stops = stops[(stops.calitp_itp_id==182) & \n",
    "              (stops.stop_id.isin(working.stop_id))]\n",
    "stops.head()"
   ]
  },
  {
   "cell_type": "code",
   "execution_count": 12,
   "id": "8f614129-5b8f-4565-94cf-e0ff5d3fdd9c",
   "metadata": {},
   "outputs": [
    {
     "name": "stdout",
     "output_type": "stream",
     "text": [
      "# rows: 14\n",
      "# unique stops: 2\n"
     ]
    }
   ],
   "source": [
    "print(f\"# rows: {len(stops)}\")\n",
    "print(f\"# unique stops: {stops.stop_id.nunique()}\")"
   ]
  },
  {
   "cell_type": "code",
   "execution_count": 13,
   "id": "26e5c59a-1f2b-49b7-9963-ecdd911f9d08",
   "metadata": {},
   "outputs": [
    {
     "data": {
      "text/plain": [
       "Text(0.5, 1.0, 'stop_id')"
      ]
     },
     "execution_count": 13,
     "metadata": {},
     "output_type": "execute_result"
    },
    {
     "data": {
      "image/png": "[encoded data removed]",
      "text/plain": [
       "<Figure size 720x720 with 1 Axes>"
      ]
     },
     "metadata": {
      "needs_background": "light"
     },
     "output_type": "display_data"
    }
   ],
   "source": [
    "stops.plot(column=\"stop_id\", figsize=(10, 10), cmap=\"tab10\"\n",
    "          ).set_title(\"stop_id\")"
   ]
  },
  {
   "cell_type": "code",
   "execution_count": 14,
   "id": "20cd9fc0-9939-4586-98e6-bc0139a38a91",
   "metadata": {},
   "outputs": [
    {
     "data": {
      "text/plain": [
       "Text(0.5, 1.0, 'index')"
      ]
     },
     "execution_count": 14,
     "metadata": {},
     "output_type": "execute_result"
    },
    {
     "data": {
      "image/png": "[encoded data removed]",
      "text/plain": [
       "<Figure size 720x720 with 1 Axes>"
      ]
     },
     "metadata": {
      "needs_background": "light"
     },
     "output_type": "display_data"
    }
   ],
   "source": [
    "stops = stops.assign(obs = stops.index)\n",
    "stops.plot(column=\"obs\", figsize=(10, 10), cmap=\"tab10\"\n",
    "          ).set_title(\"index\")"
   ]
  },
  {
   "cell_type": "code",
   "execution_count": null,
   "id": "36786d88-b6d7-4ca5-ad13-998f508d14bb",
   "metadata": {},
   "outputs": [],
   "source": []
  }
 ],
 "metadata": {
  "kernelspec": {
   "display_name": "Python 3 (ipykernel)",
   "language": "python",
   "name": "python3"
  },
  "language_info": {
   "codemirror_mode": {
    "name": "ipython",
    "version": 3
   },
   "file_extension": ".py",
   "mimetype": "text/x-python",
   "name": "python",
   "nbconvert_exporter": "python",
   "pygments_lexer": "ipython3",
   "version": "3.10.4"
  }
 },
 "nbformat": 4,
 "nbformat_minor": 5
}
