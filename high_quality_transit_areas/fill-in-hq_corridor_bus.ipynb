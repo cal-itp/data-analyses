{
 "cells": [
  {
   "cell_type": "markdown",
   "id": "5a074f1e-8127-4ad7-b552-377e6791aab5",
   "metadata": {},
   "source": [
    "# Missing `hqta_details` in areas final export\n",
    "\n",
    "It's concatenated, and `hq_corridor_bus` doesn't go through `utilities.hqta_details`.\n",
    "Add it into `D2`."
   ]
  },
  {
   "cell_type": "code",
   "execution_count": 11,
   "id": "af7ddcc6-6f8d-49ad-b9da-ed83a5f9fd68",
   "metadata": {},
   "outputs": [],
   "source": [
    "import geopandas as gpd\n",
    "\n",
    "from shared_utils import utils\n",
    "from utilities import GCS_FILE_PATH\n",
    "from shared_utils import rt_dates, gtfs_utils\n",
    "\n",
    "analysis_date = gtfs_utils.format_date(rt_dates.DATES[\"aug2022\"])"
   ]
  },
  {
   "cell_type": "code",
   "execution_count": 12,
   "id": "f75ac8a6-1fc2-45c7-aed9-98becaf92dd6",
   "metadata": {},
   "outputs": [
    {
     "data": {
      "text/plain": [
       "'gs://calitp-analytics-data/data-analyses/high_quality_transit_areas/export/2022-08-17/'"
      ]
     },
     "execution_count": 12,
     "metadata": {},
     "output_type": "execute_result"
    }
   ],
   "source": [
    "EXPORT_PATH = f\"{GCS_FILE_PATH}export/{analysis_date}/\"\n",
    "EXPORT_PATH"
   ]
  },
  {
   "cell_type": "code",
   "execution_count": 13,
   "id": "537cf909-9841-4c29-a8a9-5bc1235eb8f7",
   "metadata": {},
   "outputs": [],
   "source": [
    "import dask_geopandas as dg\n",
    "import utilities\n",
    "\n",
    "filename=\"ca_hq_transit_areas\"\n",
    "gdf = dg.read_parquet(f\"{EXPORT_PATH}{filename}.parquet\")"
   ]
  },
  {
   "cell_type": "code",
   "execution_count": 14,
   "id": "2284abc1-8a66-4250-aea7-de9d44026f64",
   "metadata": {},
   "outputs": [],
   "source": [
    "gdf[\"hqta_details\"] = gdf.apply(\n",
    "    utilities.hqta_details, meta=(\"hqta_details\", \"str\"), axis=1)"
   ]
  },
  {
   "cell_type": "code",
   "execution_count": 15,
   "id": "77256ccf-fb49-43ad-8b01-2bd896903438",
   "metadata": {},
   "outputs": [
    {
     "data": {
      "text/plain": [
       "stop_along_hq_bus_corridor_single_operator       51971\n",
       "intersection_2_bus_routes_same_operator          19308\n",
       "intersection_2_bus_routes_different_operators     5533\n",
       "major_stop_rail_single_operator                   1339\n",
       "major_stop_brt_single_operator                     207\n",
       "major_stop_ferry_single_operator                    22\n",
       "Name: hqta_details, dtype: int64"
      ]
     },
     "execution_count": 15,
     "metadata": {},
     "output_type": "execute_result"
    }
   ],
   "source": [
    "gdf.hqta_details.value_counts().compute()"
   ]
  },
  {
   "cell_type": "code",
   "execution_count": 16,
   "id": "c69da7e5-2f94-429d-ae4f-7a294e608aaf",
   "metadata": {},
   "outputs": [],
   "source": [
    "gdf2 = gdf.compute()"
   ]
  },
  {
   "cell_type": "code",
   "execution_count": 17,
   "id": "b4175835-1a47-4ce7-a3e4-78c220e005f3",
   "metadata": {},
   "outputs": [
    {
     "name": "stdout",
     "output_type": "stream",
     "text": [
      "gs://calitp-analytics-data/data-analyses/high_quality_transit_areas/export/2022-08-17/ ca_hq_transit_areas\n"
     ]
    }
   ],
   "source": [
    "print(EXPORT_PATH, filename)"
   ]
  },
  {
   "cell_type": "code",
   "execution_count": 18,
   "id": "079c4d58-640f-48bf-a06b-f25c04b6f0fb",
   "metadata": {},
   "outputs": [],
   "source": [
    "utils.geoparquet_gcs_export(gdf2, EXPORT_PATH, filename)"
   ]
  },
  {
   "cell_type": "code",
   "execution_count": null,
   "id": "7bac020a-f9e9-4076-a34b-367ca46e52fa",
   "metadata": {},
   "outputs": [],
   "source": []
  }
 ],
 "metadata": {
  "kernelspec": {
   "display_name": "Python 3 (ipykernel)",
   "language": "python",
   "name": "python3"
  },
  "language_info": {
   "codemirror_mode": {
    "name": "ipython",
    "version": 3
   },
   "file_extension": ".py",
   "mimetype": "text/x-python",
   "name": "python",
   "nbconvert_exporter": "python",
   "pygments_lexer": "ipython3",
   "version": "3.10.5"
  }
 },
 "nbformat": 4,
 "nbformat_minor": 5
}
