{
 "cells": [
  {
   "cell_type": "code",
   "execution_count": 1,
   "id": "e37ce21c-ae28-4359-89b8-f628f852c489",
   "metadata": {},
   "outputs": [
    {
     "name": "stderr",
     "output_type": "stream",
     "text": [
      "/Users/edasmalchi/anaconda3/envs/pd1/lib/python3.9/site-packages/google/auth/_default.py:68: UserWarning: Your application has authenticated using end user credentials from Google Cloud SDK without a quota project. You might receive a \"quota exceeded\" or \"API not enabled\" error. We recommend you rerun `gcloud auth application-default login` and make sure a quota project is added. Or you can use service accounts instead. For more information about service accounts, see https://cloud.google.com/docs/authentication/\n",
      "  warnings.warn(_CLOUD_SDK_CREDENTIALS_WARNING)\n"
     ]
    }
   ],
   "source": [
    "import calitp\n",
    "from calitp.tables import tbl\n",
    "from siuba import *\n",
    "\n",
    "import pandas as pd\n",
    "import numpy as np\n",
    "\n",
    "import geopandas as gpd\n",
    "import seaborn as sns\n",
    "\n",
    "from ipyleaflet import Map, GeoJSON, projections, basemaps, GeoData, LayersControl, WidgetControl, GeoJSON\n",
    "from ipywidgets import Text, HTML\n",
    "\n",
    "import shapely\n",
    "from shapely.geometry import LineString, MultiPoint\n",
    "from shapely.ops import split, substring\n",
    "\n",
    "import zlib\n",
    "\n",
    "import datetime as dt"
   ]
  },
  {
   "cell_type": "markdown",
   "id": "cff00beb-f361-49f2-9f0d-d128801dcc2e",
   "metadata": {},
   "source": [
    "### get total peak headways!!\n",
    "\n",
    "* since specified as \"and\", get both periods and take the min..."
   ]
  },
  {
   "cell_type": "code",
   "execution_count": 2,
   "id": "25b4b77d-3d2e-4ecc-a6db-fa27aecf71db",
   "metadata": {},
   "outputs": [],
   "source": [
    "##check this...\n",
    "am_peak = (6, 9)\n",
    "pm_peak = (3, 7)"
   ]
  },
  {
   "cell_type": "code",
   "execution_count": 3,
   "id": "ed58ef3a-f454-4f00-9202-bae1dc82f92d",
   "metadata": {},
   "outputs": [],
   "source": [
    "am_commute_hours = list(am_peak)\n",
    "pm_commute_hours = list(pm_peak)\n",
    "commute_hours = am_commute_hours + pm_commute_hours"
   ]
  },
  {
   "cell_type": "markdown",
   "id": "c8ce6ce8-95f1-442e-91d5-df5486e52543",
   "metadata": {},
   "source": [
    "#### Flow\n",
    "\n",
    "* if next shape contains existing segment, ignore and clip\n",
    "* calculate new segments on non-overlap (which may be discontiguous?)"
   ]
  },
  {
   "cell_type": "code",
   "execution_count": 4,
   "id": "7d8165e1-492a-4013-bb1f-de1b252fa5d1",
   "metadata": {},
   "outputs": [],
   "source": [
    "def split_every_km(geometry):\n",
    "    lines = []\n",
    "    \n",
    "    geometry = geometry.iloc[0]\n",
    "    if hasattr(geometry, 'geoms'): ##check if MultiLineString\n",
    "        linestrings = geometry.geoms\n",
    "    else:\n",
    "        linestrings = [geometry]\n",
    "    for linestring in linestrings:\n",
    "        for i in range(0, int(linestring.length), 1000):\n",
    "    #         print(i)\n",
    "            lines.append(substring(linestring, i, i+1000))\n",
    "    return lines"
   ]
  },
  {
   "cell_type": "code",
   "execution_count": 5,
   "id": "7b0552f1-5ad4-4f50-a63e-76116b788f26",
   "metadata": {},
   "outputs": [],
   "source": [
    "def find_stop_with_most_routes(segment, stops, route_count_by_stop):\n",
    "    stops_in_seg = gpd.clip(stops, segment.geometry) \n",
    "#     print(f'stops_in_seg {stops_in_seg}')\n",
    "    max_routes_stop = (stops_in_seg\n",
    "                   >> inner_join(_, route_count_by_stop, on = \"stop_id\")\n",
    "                   >> filter(_.n_routes == _.n_routes.max())\n",
    "                  ).iloc[[0]]\n",
    "#     display(max_routes_stop[['stop_id', 'n_routes']])\n",
    "#     print(f'max routes stop: {max_routes_stop}')\n",
    "    segment['stop_id'] = max_routes_stop['stop_id'].iloc[0]\n",
    "    segment['n_routes'] = max_routes_stop['n_routes'].iloc[0]\n",
    "    return segment"
   ]
  },
  {
   "cell_type": "code",
   "execution_count": 6,
   "id": "65c74fbd-059f-4df8-a3a1-e6c1361489b7",
   "metadata": {},
   "outputs": [],
   "source": [
    "def get_operator_views(itp_id):\n",
    "        shapes = tbl.gtfs_schedule.shapes() >> filter(_.calitp_itp_id == int(itp_id)) >> collect()\n",
    "        shapes = gpd.GeoDataFrame(shapes, \n",
    "                                  geometry = gpd.points_from_xy(shapes.shape_pt_lon, shapes.shape_pt_lat),\n",
    "                                  crs = 'EPSG:4326').to_crs('EPSG:6414') ## https://epsg.io/6414 (meters)\n",
    "        trips = tbl.gtfs_schedule.trips() >> filter(_.calitp_itp_id == int(itp_id)) >> collect()\n",
    "        stop_times = tbl.gtfs_schedule.stop_times() >> filter(_.calitp_itp_id == int(itp_id)) >> collect()\n",
    "        stops = (tbl.gtfs_schedule.stops() \n",
    "                 >> filter(_.calitp_itp_id == itp_id)\n",
    "                 >> select(_.stop_id, _.stop_lat, _.stop_lon)\n",
    "                 >> collect())\n",
    "        \n",
    "        return shapes, trips, stop_times, stops"
   ]
  },
  {
   "cell_type": "code",
   "execution_count": 7,
   "id": "1049eee5-d4d9-43a1-9a84-c3bd3687f6d3",
   "metadata": {},
   "outputs": [],
   "source": [
    "def fix_arrival_time(gtfs_timestring):\n",
    "    split = gtfs_timestring.split(':')\n",
    "    hour = int(split[0])\n",
    "    if hour >= 24:\n",
    "#         print('fixing')\n",
    "#         print((':').join(split))\n",
    "        split[0] = str(hour - 24)\n",
    "        corrected = (':').join(split)\n",
    "#         print(corrected)\n",
    "        return corrected\n",
    "    else:\n",
    "#         print('no_fix')\n",
    "        return gtfs_timestring"
   ]
  },
  {
   "cell_type": "code",
   "execution_count": 8,
   "id": "c6e9c96e-b1e6-4a8d-b9f3-179887df1cde",
   "metadata": {},
   "outputs": [],
   "source": [
    "def single_shape_hqta(shapes, trips, stop_times, stops, route_count_by_stop, shape_id, hqta):\n",
    "    global _debug\n",
    "    global _debug2, _debug3, _debug4\n",
    "    \n",
    "    print(shape_id)\n",
    "    \n",
    "    single_shape = (shapes\n",
    "         >> filter(_.shape_id == shape_id)\n",
    "         >> mutate(shape_pt_sequence = _.shape_pt_sequence.astype('int64'))\n",
    "         >> arrange(_.shape_pt_sequence) ##arrange, then convert to line to preserve order...\n",
    "        )\n",
    "    \n",
    "    route_line = LineString(list(single_shape['geometry']))\n",
    "    single_line = single_shape[['calitp_itp_id', 'shape_id', 'calitp_extracted_at']].iloc[[0]] ##preserve info cols\n",
    "    single_line['geometry'] = route_line\n",
    "    single_line = gpd.GeoDataFrame(single_line, crs='EPSG:6414')\n",
    "        ## test a shapes df split into segments\n",
    "    _debug = single_line\n",
    "    if hqta.size != 0:\n",
    "#         display(hqta.head(2))\n",
    "#         display(single_line.head(2)\n",
    "        already_calculated = hqta.dissolve(by='calitp_itp_id')\n",
    "        single_line = single_line.overlay(already_calculated, how='difference') ##doesn't like this?\n",
    "        if single_line.size == 0:\n",
    "            print('no line')\n",
    "            segments_with_max_stop = None\n",
    "            return\n",
    "#     else:\n",
    "#         print('else!')\n",
    "    segmented = pd.DataFrame()\n",
    "    _debug2 = single_line\n",
    "    for segment in split_every_km(single_line.geometry): ##working\n",
    "        to_append = single_line.drop(columns=['geometry'])\n",
    "        to_append['geometry'] = segment\n",
    "#         to_append['segment_sequence'] = segment[1]\n",
    "    #     print(to_append)\n",
    "        segmented = segmented.append(to_append)\n",
    "        \n",
    "    segmented = segmented.reset_index()\n",
    "    segmented['segment_sequence'] = segmented.index.astype(str)\n",
    "    \n",
    "    segmented = segmented.astype({'calitp_itp_id': str})\n",
    "    ## compute (hopefully unique) hash of segment id that can be used across routes/operators\n",
    "#     _debug2 = segmented\n",
    "    segmented['hqta_segment_id'] = segmented.apply(lambda x:\n",
    "                        zlib.crc32((x.calitp_itp_id + x.shape_id + x.segment_sequence).encode('utf-8')),\n",
    "                                                   axis=1)\n",
    "    segmented.geometry = segmented.buffer(50) ##generous buffer for street/sidewalk width?\n",
    "    \n",
    "    try:\n",
    "        _debug = segmented\n",
    "        segments_with_max_stop = segmented.apply(find_stop_with_most_routes, axis=1,\n",
    "                                                 args = (stops, route_count_by_stop))\n",
    "    except IndexError:\n",
    "        print('no stops')\n",
    "        segments_with_max_stop = None\n",
    "        return ##no stops in segment\n",
    "\n",
    "    max_stop_times = (stop_times \n",
    "                 >> select(_.stop_id, _.trip_id, _.departure_time)\n",
    "                 >> inner_join(_, segments_with_max_stop, on = \"stop_id\")\n",
    "                )\n",
    "\n",
    "        ##only works for whole hours, but should be fine?\n",
    "    _debug3 = max_stop_times\n",
    "    \n",
    "    ##TODO debug/simplify\n",
    "    max_stop_times['departure_time'] = max_stop_times['departure_time'].apply(fix_arrival_time)\n",
    "    max_stop_times['departure_hour'] = max_stop_times['departure_time'].apply(lambda x:\n",
    "                                                                    dt.datetime.strptime(x, '%H:%M:%S').hour)\n",
    "    max_stop_times = max_stop_times >> filter(_.departure_hour.isin(commute_hours))\n",
    "#     max_stop_times = max_stop_times[max_stop_times['departure_hour'].isin(commute_hours)]\n",
    "    max_stop_times['am_peak'] = max_stop_times['departure_hour'].apply(lambda x: x in am_commute_hours)\n",
    "    max_stop_times['pm_peak'] = ~max_stop_times['am_peak']\n",
    "    _debug4 = max_stop_times\n",
    "    segment_peak_service = max_stop_times.groupby(['hqta_segment_id'])[['am_peak', 'pm_peak']].sum()\n",
    "    segment_peak_service['am_peak'] = (segment_peak_service['am_peak'] / len(am_commute_hours)).round(1)\n",
    "    segment_peak_service['pm_peak'] = (segment_peak_service['pm_peak'] / len(pm_commute_hours)).round(1)\n",
    "\n",
    "    segment_peak_service['hq_transit_corr'] = segment_peak_service.apply(lambda x:\n",
    "                              True if x.am_peak > 4 and x.pm_peak > 4 else False, axis=1)\n",
    "\n",
    "    segment_peak_service = segment_peak_service.reset_index() ## All segments hq_corridors, which makes sense for BBB1\n",
    "\n",
    "    single_hqta = segments_with_max_stop >> inner_join(_, segment_peak_service, on = 'hqta_segment_id')\n",
    "    single_hqta.drop(columns=['calitp_extracted_at'], inplace=True)\n",
    "\n",
    "    print(f'appending {single_hqta.shape}')\n",
    "#     display(single_hqta)\n",
    "    return single_hqta"
   ]
  },
  {
   "cell_type": "code",
   "execution_count": 9,
   "id": "9483141f-c197-4fc8-80f0-4efa8d2b44c4",
   "metadata": {},
   "outputs": [],
   "source": [
    "def single_operator_hqta(views, hqta_df=None):\n",
    "    global _result\n",
    "    \n",
    "    shapes, trips, stop_times, stops = views\n",
    "    \n",
    "    stops = gpd.GeoDataFrame(stops,\n",
    "                             geometry = gpd.points_from_xy(stops.stop_lon, stops.stop_lat),\n",
    "                             crs = 'EPSG:4326').to_crs('EPSG:6414') ## https://epsg.io/6414 (meters)\n",
    "    distinct_routes = (trips\n",
    "                   >> distinct(_.route_id, _.shape_id, _.direction_id, _keep_all = True)\n",
    "                   >> select(_.calitp_itp_id, _.route_id, _.shape_id, _.direction_id, _.trip_id))\n",
    "    route_count_by_stop = (stop_times\n",
    "                         >> select(_.stop_id, _.trip_id)\n",
    "                         >> inner_join(_, distinct_routes, on = \"trip_id\")\n",
    "                         >> count(_.stop_id)\n",
    "                         >> rename(n_routes = _.n)\n",
    "                         >> arrange(-_.n_routes))\n",
    "\n",
    "    hqta = gpd.GeoDataFrame()\n",
    "    for shape_id in views[0]['shape_id'].unique():\n",
    "        print(shape_id)\n",
    "#         display(hqta.tail(2))\n",
    "        print('...')\n",
    "        try:\n",
    "            _result = single_shape_hqta(shapes, trips, stop_times, stops, route_count_by_stop, shape_id, hqta)\n",
    "            hqta = hqta.append(_result)\n",
    "        except:\n",
    "            print(f'unable to calculate HQTA for shape_id {shape_id}')\n",
    "        try:\n",
    "            hqta = hqta.set_crs('EPSG:6414')\n",
    "        except:\n",
    "            continue\n",
    "        \n",
    "    return hqta"
   ]
  },
  {
   "cell_type": "code",
   "execution_count": 14,
   "id": "a05994ac-ffec-42a0-b899-7ba0ee39415f",
   "metadata": {},
   "outputs": [],
   "source": [
    "# bbb_test_shape_ids = bbb_views[0]['shape_id'].unique()\n",
    "# # bbb_test_shape_ids = ['25386', '25387', '25311', '25313', '25314', '25315', '25316']\n",
    "# # bbb_test_shape_ids = ['25311', '25313']\n",
    "# # bbb_test_shape_ids = ['25368']\n",
    "# # bbb_test_shape_ids = ['25327', '25328', '25329']\n",
    "# # bbb_test_shape_ids = ['25327']"
   ]
  },
  {
   "cell_type": "code",
   "execution_count": 15,
   "id": "c5ce360b-6a15-48c5-b217-01d11a1bac36",
   "metadata": {},
   "outputs": [],
   "source": [
    "## passed for single op + single shape!\n",
    "# bigtest = single_operator_hqta(300)"
   ]
  },
  {
   "cell_type": "code",
   "execution_count": 16,
   "id": "d0a5627a-a0ea-41e6-8dec-4fe5057d1415",
   "metadata": {},
   "outputs": [],
   "source": [
    "# bbb_views = get_operator_views(300)"
   ]
  },
  {
   "cell_type": "code",
   "execution_count": 17,
   "id": "c19cae31-eebe-41ae-afc5-f5d3c2cddc6b",
   "metadata": {
    "tags": []
   },
   "outputs": [],
   "source": [
    "# bt2 = single_operator_hqta(bbb_views)"
   ]
  },
  {
   "cell_type": "code",
   "execution_count": 10,
   "id": "dc21e894-3e26-4677-9106-86b9872cd94c",
   "metadata": {},
   "outputs": [],
   "source": [
    "act_views = get_operator_views(4)"
   ]
  },
  {
   "cell_type": "code",
   "execution_count": null,
   "id": "4fd76833-26d7-47d6-aa6d-0781ce6c2413",
   "metadata": {
    "tags": []
   },
   "outputs": [
    {
     "name": "stdout",
     "output_type": "stream",
     "text": [
      "p_110888\n",
      "...\n",
      "p_110888\n",
      "no stops\n",
      "p_110889\n",
      "...\n",
      "p_110889\n",
      "no stops\n",
      "p_110890\n",
      "...\n",
      "p_110890\n",
      "no stops\n",
      "p_110891\n",
      "...\n",
      "p_110891\n",
      "no stops\n",
      "p_110892\n",
      "...\n",
      "p_110892\n",
      "no stops\n",
      "p_787876\n",
      "...\n",
      "p_787876\n",
      "no stops\n",
      "p_110884\n",
      "...\n",
      "p_110884\n",
      "no stops\n",
      "p_110883\n",
      "...\n",
      "p_110883\n",
      "no stops\n",
      "shp-10-10\n",
      "...\n",
      "shp-10-10\n"
     ]
    },
    {
     "name": "stderr",
     "output_type": "stream",
     "text": [
      "/Users/edasmalchi/anaconda3/envs/pd1/lib/python3.9/site-packages/pandas/core/frame.py:3607: SettingWithCopyWarning: \n",
      "A value is trying to be set on a copy of a slice from a DataFrame.\n",
      "Try using .loc[row_indexer,col_indexer] = value instead\n",
      "\n",
      "See the caveats in the documentation: https://pandas.pydata.org/pandas-docs/stable/user_guide/indexing.html#returning-a-view-versus-a-copy\n",
      "  self._set_item(key, value)\n"
     ]
    },
    {
     "name": "stdout",
     "output_type": "stream",
     "text": [
      "appending (12, 11)\n",
      "shp-12-13\n",
      "...\n",
      "shp-12-13\n",
      "no line\n",
      "shp-14-03\n",
      "...\n",
      "shp-14-03\n",
      "no line\n",
      "shp-18-16\n",
      "...\n",
      "shp-18-16\n",
      "no line\n",
      "shp-18-17\n",
      "...\n",
      "shp-18-17\n",
      "no line\n",
      "shp-19-64\n",
      "...\n",
      "shp-19-64\n",
      "no line\n",
      "shp-200-13\n",
      "...\n",
      "shp-200-13\n",
      "no line\n",
      "shp-20-08\n",
      "...\n",
      "shp-20-08\n",
      "no line\n",
      "shp-20-17\n",
      "...\n",
      "shp-20-17\n",
      "no line\n",
      "shp-21-01\n",
      "...\n",
      "shp-21-01\n",
      "no line\n",
      "shp-21-10\n",
      "...\n",
      "shp-21-10\n",
      "no line\n",
      "shp-21-11\n",
      "...\n",
      "shp-21-11\n",
      "no line\n",
      "shp-212-07\n",
      "...\n",
      "shp-212-07\n",
      "no line\n",
      "shp-21-21\n",
      "...\n",
      "shp-21-21\n",
      "no line\n",
      "shp-215-15\n",
      "...\n",
      "shp-215-15\n",
      "no line\n",
      "shp-21-56\n",
      "...\n",
      "shp-21-56\n",
      "no line\n",
      "shp-21-60\n",
      "...\n",
      "shp-21-60\n",
      "no line\n",
      "shp-21-61\n",
      "...\n",
      "shp-21-61\n",
      "no line\n",
      "shp-216-13\n",
      "...\n",
      "shp-216-13\n",
      "no line\n",
      "shp-216-15\n",
      "...\n",
      "shp-216-15\n",
      "no line\n",
      "shp-217-07\n",
      "...\n",
      "shp-217-07\n",
      "no line\n",
      "shp-217-09\n",
      "...\n",
      "shp-217-09\n",
      "no line\n",
      "shp-232-10\n",
      "...\n",
      "shp-232-10\n",
      "no line\n",
      "shp-251-59\n",
      "...\n",
      "shp-251-59\n",
      "no line\n",
      "shp-28-09\n",
      "...\n",
      "shp-28-09\n"
     ]
    },
    {
     "name": "stderr",
     "output_type": "stream",
     "text": [
      "/Users/edasmalchi/anaconda3/envs/pd1/lib/python3.9/site-packages/pandas/core/frame.py:3607: SettingWithCopyWarning: \n",
      "A value is trying to be set on a copy of a slice from a DataFrame.\n",
      "Try using .loc[row_indexer,col_indexer] = value instead\n",
      "\n",
      "See the caveats in the documentation: https://pandas.pydata.org/pandas-docs/stable/user_guide/indexing.html#returning-a-view-versus-a-copy\n",
      "  self._set_item(key, value)\n"
     ]
    },
    {
     "name": "stdout",
     "output_type": "stream",
     "text": [
      "appending (23, 11)\n",
      "shp-28-58\n",
      "...\n",
      "shp-28-58\n"
     ]
    },
    {
     "name": "stderr",
     "output_type": "stream",
     "text": [
      "/Users/edasmalchi/anaconda3/envs/pd1/lib/python3.9/site-packages/pandas/core/frame.py:3607: SettingWithCopyWarning: \n",
      "A value is trying to be set on a copy of a slice from a DataFrame.\n",
      "Try using .loc[row_indexer,col_indexer] = value instead\n",
      "\n",
      "See the caveats in the documentation: https://pandas.pydata.org/pandas-docs/stable/user_guide/indexing.html#returning-a-view-versus-a-copy\n",
      "  self._set_item(key, value)\n"
     ]
    },
    {
     "name": "stdout",
     "output_type": "stream",
     "text": [
      "appending (1, 11)\n",
      "shp-29-61\n",
      "...\n",
      "shp-29-61\n",
      "no line\n",
      "shp-33-13\n",
      "...\n",
      "shp-33-13\n",
      "no line\n",
      "shp-33-66\n",
      "...\n",
      "shp-33-66\n",
      "no line\n",
      "shp-33-67\n",
      "...\n",
      "shp-33-67\n",
      "no line\n",
      "shp-34-06\n",
      "...\n",
      "shp-34-06\n"
     ]
    },
    {
     "name": "stderr",
     "output_type": "stream",
     "text": [
      "/Users/edasmalchi/anaconda3/envs/pd1/lib/python3.9/site-packages/pandas/core/frame.py:3607: SettingWithCopyWarning: \n",
      "A value is trying to be set on a copy of a slice from a DataFrame.\n",
      "Try using .loc[row_indexer,col_indexer] = value instead\n",
      "\n",
      "See the caveats in the documentation: https://pandas.pydata.org/pandas-docs/stable/user_guide/indexing.html#returning-a-view-versus-a-copy\n",
      "  self._set_item(key, value)\n"
     ]
    },
    {
     "name": "stdout",
     "output_type": "stream",
     "text": [
      "appending (21, 11)\n",
      "shp-34-55\n",
      "...\n",
      "shp-34-55\n",
      "no stops\n",
      "shp-35-10\n",
      "...\n",
      "shp-35-10\n",
      "no stops\n",
      "shp-35-59\n",
      "...\n",
      "shp-35-59\n",
      "no stops\n",
      "shp-35-60\n",
      "...\n",
      "shp-35-60\n"
     ]
    },
    {
     "name": "stderr",
     "output_type": "stream",
     "text": [
      "/Users/edasmalchi/anaconda3/envs/pd1/lib/python3.9/site-packages/pandas/core/frame.py:3607: SettingWithCopyWarning: \n",
      "A value is trying to be set on a copy of a slice from a DataFrame.\n",
      "Try using .loc[row_indexer,col_indexer] = value instead\n",
      "\n",
      "See the caveats in the documentation: https://pandas.pydata.org/pandas-docs/stable/user_guide/indexing.html#returning-a-view-versus-a-copy\n",
      "  self._set_item(key, value)\n"
     ]
    },
    {
     "name": "stdout",
     "output_type": "stream",
     "text": [
      "appending (13, 11)\n",
      "shp-36-08\n",
      "...\n",
      "shp-36-08\n",
      "no line\n",
      "shp-376-05\n",
      "...\n",
      "shp-376-05\n",
      "no line\n",
      "shp-376-07\n",
      "...\n",
      "shp-376-07\n",
      "no line\n",
      "shp-376-54\n",
      "...\n",
      "shp-376-54\n",
      "no line\n",
      "shp-39-05\n",
      "...\n",
      "shp-39-05\n",
      "no line\n",
      "shp-39-53\n",
      "...\n",
      "shp-39-53\n",
      "no line\n",
      "shp-40-11\n",
      "...\n",
      "shp-40-11\n"
     ]
    },
    {
     "name": "stderr",
     "output_type": "stream",
     "text": [
      "/Users/edasmalchi/anaconda3/envs/pd1/lib/python3.9/site-packages/pandas/core/frame.py:3607: SettingWithCopyWarning: \n",
      "A value is trying to be set on a copy of a slice from a DataFrame.\n",
      "Try using .loc[row_indexer,col_indexer] = value instead\n",
      "\n",
      "See the caveats in the documentation: https://pandas.pydata.org/pandas-docs/stable/user_guide/indexing.html#returning-a-view-versus-a-copy\n",
      "  self._set_item(key, value)\n"
     ]
    },
    {
     "name": "stdout",
     "output_type": "stream",
     "text": [
      "appending (10, 11)\n",
      "shp-40-17\n",
      "...\n",
      "shp-40-17\n"
     ]
    },
    {
     "name": "stderr",
     "output_type": "stream",
     "text": [
      "/Users/edasmalchi/anaconda3/envs/pd1/lib/python3.9/site-packages/pandas/core/frame.py:3607: SettingWithCopyWarning: \n",
      "A value is trying to be set on a copy of a slice from a DataFrame.\n",
      "Try using .loc[row_indexer,col_indexer] = value instead\n",
      "\n",
      "See the caveats in the documentation: https://pandas.pydata.org/pandas-docs/stable/user_guide/indexing.html#returning-a-view-versus-a-copy\n",
      "  self._set_item(key, value)\n"
     ]
    },
    {
     "name": "stdout",
     "output_type": "stream",
     "text": [
      "appending (10, 11)\n",
      "shp-40-61\n",
      "...\n",
      "shp-40-61\n",
      "no stops\n",
      "shp-41-53\n",
      "...\n",
      "shp-41-53\n"
     ]
    },
    {
     "name": "stderr",
     "output_type": "stream",
     "text": [
      "/Users/edasmalchi/anaconda3/envs/pd1/lib/python3.9/site-packages/pandas/core/frame.py:3607: SettingWithCopyWarning: \n",
      "A value is trying to be set on a copy of a slice from a DataFrame.\n",
      "Try using .loc[row_indexer,col_indexer] = value instead\n",
      "\n",
      "See the caveats in the documentation: https://pandas.pydata.org/pandas-docs/stable/user_guide/indexing.html#returning-a-view-versus-a-copy\n",
      "  self._set_item(key, value)\n"
     ]
    },
    {
     "name": "stdout",
     "output_type": "stream",
     "text": [
      "appending (17, 11)\n",
      "shp-45-04\n",
      "...\n",
      "shp-45-04\n"
     ]
    },
    {
     "name": "stderr",
     "output_type": "stream",
     "text": [
      "/Users/edasmalchi/anaconda3/envs/pd1/lib/python3.9/site-packages/pandas/core/frame.py:3607: SettingWithCopyWarning: \n",
      "A value is trying to be set on a copy of a slice from a DataFrame.\n",
      "Try using .loc[row_indexer,col_indexer] = value instead\n",
      "\n",
      "See the caveats in the documentation: https://pandas.pydata.org/pandas-docs/stable/user_guide/indexing.html#returning-a-view-versus-a-copy\n",
      "  self._set_item(key, value)\n"
     ]
    },
    {
     "name": "stdout",
     "output_type": "stream",
     "text": [
      "appending (24, 11)\n",
      "shp-45-53\n",
      "...\n",
      "shp-45-53\n",
      "no stops\n",
      "shp-51A-16\n",
      "...\n",
      "shp-51A-16\n"
     ]
    },
    {
     "name": "stderr",
     "output_type": "stream",
     "text": [
      "/Users/edasmalchi/anaconda3/envs/pd1/lib/python3.9/site-packages/pandas/core/frame.py:3607: SettingWithCopyWarning: \n",
      "A value is trying to be set on a copy of a slice from a DataFrame.\n",
      "Try using .loc[row_indexer,col_indexer] = value instead\n",
      "\n",
      "See the caveats in the documentation: https://pandas.pydata.org/pandas-docs/stable/user_guide/indexing.html#returning-a-view-versus-a-copy\n",
      "  self._set_item(key, value)\n"
     ]
    },
    {
     "name": "stdout",
     "output_type": "stream",
     "text": [
      "appending (14, 11)\n",
      "shp-51A-54\n",
      "...\n",
      "shp-51A-54\n",
      "no stops\n",
      "shp-51B-15\n",
      "...\n",
      "shp-51B-15\n",
      "no line\n",
      "shp-51B-16\n",
      "...\n",
      "shp-51B-16\n",
      "no line\n",
      "shp-52-60\n",
      "...\n",
      "shp-52-60\n",
      "no line\n",
      "shp-56-03\n",
      "...\n",
      "shp-56-03\n",
      "no stops\n",
      "shp-56-53\n",
      "...\n",
      "shp-56-53\n"
     ]
    },
    {
     "name": "stderr",
     "output_type": "stream",
     "text": [
      "/Users/edasmalchi/anaconda3/envs/pd1/lib/python3.9/site-packages/pandas/core/frame.py:3607: SettingWithCopyWarning: \n",
      "A value is trying to be set on a copy of a slice from a DataFrame.\n",
      "Try using .loc[row_indexer,col_indexer] = value instead\n",
      "\n",
      "See the caveats in the documentation: https://pandas.pydata.org/pandas-docs/stable/user_guide/indexing.html#returning-a-view-versus-a-copy\n",
      "  self._set_item(key, value)\n"
     ]
    },
    {
     "name": "stdout",
     "output_type": "stream",
     "text": [
      "appending (12, 11)\n",
      "shp-57-09\n",
      "...\n",
      "shp-57-09\n"
     ]
    },
    {
     "name": "stderr",
     "output_type": "stream",
     "text": [
      "/Users/edasmalchi/anaconda3/envs/pd1/lib/python3.9/site-packages/pandas/core/frame.py:3607: SettingWithCopyWarning: \n",
      "A value is trying to be set on a copy of a slice from a DataFrame.\n",
      "Try using .loc[row_indexer,col_indexer] = value instead\n",
      "\n",
      "See the caveats in the documentation: https://pandas.pydata.org/pandas-docs/stable/user_guide/indexing.html#returning-a-view-versus-a-copy\n",
      "  self._set_item(key, value)\n"
     ]
    },
    {
     "name": "stdout",
     "output_type": "stream",
     "text": [
      "appending (21, 11)\n",
      "shp-57-61\n",
      "...\n",
      "shp-57-61\n",
      "no stops\n",
      "shp-605-01\n",
      "...\n",
      "shp-605-01\n"
     ]
    },
    {
     "name": "stderr",
     "output_type": "stream",
     "text": [
      "/Users/edasmalchi/anaconda3/envs/pd1/lib/python3.9/site-packages/pandas/core/frame.py:3607: SettingWithCopyWarning: \n",
      "A value is trying to be set on a copy of a slice from a DataFrame.\n",
      "Try using .loc[row_indexer,col_indexer] = value instead\n",
      "\n",
      "See the caveats in the documentation: https://pandas.pydata.org/pandas-docs/stable/user_guide/indexing.html#returning-a-view-versus-a-copy\n",
      "  self._set_item(key, value)\n"
     ]
    },
    {
     "name": "stdout",
     "output_type": "stream",
     "text": [
      "appending (16, 11)\n",
      "shp-605-03\n",
      "...\n",
      "shp-605-03\n",
      "no stops\n",
      "shp-60-55\n",
      "...\n",
      "shp-60-55\n",
      "no stops\n",
      "shp-606-02\n",
      "...\n",
      "shp-606-02\n",
      "no stops\n",
      "shp-606-53\n",
      "...\n",
      "shp-606-53\n",
      "no stops\n",
      "shp-611-07\n",
      "...\n",
      "shp-611-07\n"
     ]
    },
    {
     "name": "stderr",
     "output_type": "stream",
     "text": [
      "/Users/edasmalchi/anaconda3/envs/pd1/lib/python3.9/site-packages/pandas/core/frame.py:3607: SettingWithCopyWarning: \n",
      "A value is trying to be set on a copy of a slice from a DataFrame.\n",
      "Try using .loc[row_indexer,col_indexer] = value instead\n",
      "\n",
      "See the caveats in the documentation: https://pandas.pydata.org/pandas-docs/stable/user_guide/indexing.html#returning-a-view-versus-a-copy\n",
      "  self._set_item(key, value)\n"
     ]
    },
    {
     "name": "stdout",
     "output_type": "stream",
     "text": [
      "appending (10, 11)\n",
      "shp-621-05\n",
      "...\n",
      "shp-621-05\n",
      "no line\n",
      "shp-621-07\n",
      "...\n",
      "shp-621-07\n",
      "no line\n",
      "shp-623-03\n",
      "...\n",
      "shp-623-03\n",
      "no line\n",
      "shp-623-55\n",
      "...\n",
      "shp-623-55\n",
      "no line\n",
      "shp-625-51\n",
      "...\n",
      "shp-625-51\n",
      "no line\n",
      "shp-626-01\n",
      "...\n",
      "shp-626-01\n",
      "no line\n",
      "shp-628-51\n",
      "...\n",
      "shp-628-51\n",
      "no line\n",
      "shp-631-02\n",
      "...\n",
      "shp-631-02\n"
     ]
    },
    {
     "name": "stderr",
     "output_type": "stream",
     "text": [
      "/Users/edasmalchi/anaconda3/envs/pd1/lib/python3.9/site-packages/pandas/core/frame.py:3607: SettingWithCopyWarning: \n",
      "A value is trying to be set on a copy of a slice from a DataFrame.\n",
      "Try using .loc[row_indexer,col_indexer] = value instead\n",
      "\n",
      "See the caveats in the documentation: https://pandas.pydata.org/pandas-docs/stable/user_guide/indexing.html#returning-a-view-versus-a-copy\n",
      "  self._set_item(key, value)\n"
     ]
    },
    {
     "name": "stdout",
     "output_type": "stream",
     "text": [
      "appending (11, 11)\n",
      "shp-631-03\n",
      "...\n",
      "shp-631-03\n",
      "no line\n",
      "shp-638-03\n",
      "...\n",
      "shp-638-03\n"
     ]
    },
    {
     "name": "stderr",
     "output_type": "stream",
     "text": [
      "/Users/edasmalchi/anaconda3/envs/pd1/lib/python3.9/site-packages/pandas/core/frame.py:3607: SettingWithCopyWarning: \n",
      "A value is trying to be set on a copy of a slice from a DataFrame.\n",
      "Try using .loc[row_indexer,col_indexer] = value instead\n",
      "\n",
      "See the caveats in the documentation: https://pandas.pydata.org/pandas-docs/stable/user_guide/indexing.html#returning-a-view-versus-a-copy\n",
      "  self._set_item(key, value)\n"
     ]
    },
    {
     "name": "stdout",
     "output_type": "stream",
     "text": [
      "appending (7, 11)\n",
      "shp-638-55\n",
      "...\n",
      "shp-638-55\n",
      "no stops\n",
      "shp-646-12\n",
      "...\n",
      "shp-646-12\n"
     ]
    },
    {
     "name": "stderr",
     "output_type": "stream",
     "text": [
      "/Users/edasmalchi/anaconda3/envs/pd1/lib/python3.9/site-packages/pandas/core/frame.py:3607: SettingWithCopyWarning: \n",
      "A value is trying to be set on a copy of a slice from a DataFrame.\n",
      "Try using .loc[row_indexer,col_indexer] = value instead\n",
      "\n",
      "See the caveats in the documentation: https://pandas.pydata.org/pandas-docs/stable/user_guide/indexing.html#returning-a-view-versus-a-copy\n",
      "  self._set_item(key, value)\n"
     ]
    },
    {
     "name": "stdout",
     "output_type": "stream",
     "text": [
      "appending (18, 11)\n",
      "shp-646-13\n",
      "...\n",
      "shp-646-13\n",
      "no stops\n",
      "shp-646-14\n",
      "...\n",
      "shp-646-14\n",
      "no line\n",
      "shp-648-12\n",
      "...\n",
      "shp-648-12\n"
     ]
    },
    {
     "name": "stderr",
     "output_type": "stream",
     "text": [
      "/Users/edasmalchi/anaconda3/envs/pd1/lib/python3.9/site-packages/pandas/core/frame.py:3607: SettingWithCopyWarning: \n",
      "A value is trying to be set on a copy of a slice from a DataFrame.\n",
      "Try using .loc[row_indexer,col_indexer] = value instead\n",
      "\n",
      "See the caveats in the documentation: https://pandas.pydata.org/pandas-docs/stable/user_guide/indexing.html#returning-a-view-versus-a-copy\n",
      "  self._set_item(key, value)\n"
     ]
    },
    {
     "name": "stdout",
     "output_type": "stream",
     "text": [
      "appending (7, 11)\n",
      "shp-649-14\n",
      "...\n",
      "shp-649-14\n"
     ]
    },
    {
     "name": "stderr",
     "output_type": "stream",
     "text": [
      "/Users/edasmalchi/anaconda3/envs/pd1/lib/python3.9/site-packages/pandas/core/frame.py:3607: SettingWithCopyWarning: \n",
      "A value is trying to be set on a copy of a slice from a DataFrame.\n",
      "Try using .loc[row_indexer,col_indexer] = value instead\n",
      "\n",
      "See the caveats in the documentation: https://pandas.pydata.org/pandas-docs/stable/user_guide/indexing.html#returning-a-view-versus-a-copy\n",
      "  self._set_item(key, value)\n"
     ]
    },
    {
     "name": "stdout",
     "output_type": "stream",
     "text": [
      "appending (8, 11)\n",
      "shp-649-57\n",
      "...\n",
      "shp-649-57\n",
      "no line\n",
      "shp-649-58\n",
      "...\n",
      "shp-649-58\n",
      "unable to calculate HQTA for shape_id shp-649-58\n",
      "shp-650-08\n",
      "...\n",
      "shp-650-08\n",
      "no stops\n",
      "shp-652-51\n",
      "...\n",
      "shp-652-51\n"
     ]
    },
    {
     "name": "stderr",
     "output_type": "stream",
     "text": [
      "/Users/edasmalchi/anaconda3/envs/pd1/lib/python3.9/site-packages/pandas/core/frame.py:3607: SettingWithCopyWarning: \n",
      "A value is trying to be set on a copy of a slice from a DataFrame.\n",
      "Try using .loc[row_indexer,col_indexer] = value instead\n",
      "\n",
      "See the caveats in the documentation: https://pandas.pydata.org/pandas-docs/stable/user_guide/indexing.html#returning-a-view-versus-a-copy\n",
      "  self._set_item(key, value)\n"
     ]
    },
    {
     "name": "stdout",
     "output_type": "stream",
     "text": [
      "appending (3, 11)\n",
      "shp-653-01\n",
      "...\n",
      "shp-653-01\n",
      "no stops\n",
      "shp-655-03\n",
      "...\n",
      "shp-655-03\n"
     ]
    },
    {
     "name": "stderr",
     "output_type": "stream",
     "text": [
      "/Users/edasmalchi/anaconda3/envs/pd1/lib/python3.9/site-packages/pandas/core/frame.py:3607: SettingWithCopyWarning: \n",
      "A value is trying to be set on a copy of a slice from a DataFrame.\n",
      "Try using .loc[row_indexer,col_indexer] = value instead\n",
      "\n",
      "See the caveats in the documentation: https://pandas.pydata.org/pandas-docs/stable/user_guide/indexing.html#returning-a-view-versus-a-copy\n",
      "  self._set_item(key, value)\n"
     ]
    },
    {
     "name": "stdout",
     "output_type": "stream",
     "text": [
      "appending (5, 11)\n",
      "shp-65-57\n",
      "...\n",
      "shp-65-57\n"
     ]
    },
    {
     "name": "stderr",
     "output_type": "stream",
     "text": [
      "/Users/edasmalchi/anaconda3/envs/pd1/lib/python3.9/site-packages/pandas/core/frame.py:3607: SettingWithCopyWarning: \n",
      "A value is trying to be set on a copy of a slice from a DataFrame.\n",
      "Try using .loc[row_indexer,col_indexer] = value instead\n",
      "\n",
      "See the caveats in the documentation: https://pandas.pydata.org/pandas-docs/stable/user_guide/indexing.html#returning-a-view-versus-a-copy\n",
      "  self._set_item(key, value)\n"
     ]
    },
    {
     "name": "stdout",
     "output_type": "stream",
     "text": [
      "appending (10, 11)\n",
      "shp-657-10\n",
      "...\n",
      "shp-657-10\n"
     ]
    },
    {
     "name": "stderr",
     "output_type": "stream",
     "text": [
      "/Users/edasmalchi/anaconda3/envs/pd1/lib/python3.9/site-packages/pandas/core/frame.py:3607: SettingWithCopyWarning: \n",
      "A value is trying to be set on a copy of a slice from a DataFrame.\n",
      "Try using .loc[row_indexer,col_indexer] = value instead\n",
      "\n",
      "See the caveats in the documentation: https://pandas.pydata.org/pandas-docs/stable/user_guide/indexing.html#returning-a-view-versus-a-copy\n",
      "  self._set_item(key, value)\n"
     ]
    },
    {
     "name": "stdout",
     "output_type": "stream",
     "text": [
      "appending (2, 11)\n",
      "shp-657-56\n",
      "...\n",
      "shp-657-56\n",
      "no stops\n",
      "shp-657-57\n",
      "...\n",
      "shp-657-57\n"
     ]
    },
    {
     "name": "stderr",
     "output_type": "stream",
     "text": [
      "/Users/edasmalchi/anaconda3/envs/pd1/lib/python3.9/site-packages/pandas/core/frame.py:3607: SettingWithCopyWarning: \n",
      "A value is trying to be set on a copy of a slice from a DataFrame.\n",
      "Try using .loc[row_indexer,col_indexer] = value instead\n",
      "\n",
      "See the caveats in the documentation: https://pandas.pydata.org/pandas-docs/stable/user_guide/indexing.html#returning-a-view-versus-a-copy\n",
      "  self._set_item(key, value)\n"
     ]
    },
    {
     "name": "stdout",
     "output_type": "stream",
     "text": [
      "appending (4, 11)\n",
      "shp-660-02\n",
      "...\n",
      "shp-660-02\n"
     ]
    },
    {
     "name": "stderr",
     "output_type": "stream",
     "text": [
      "/Users/edasmalchi/anaconda3/envs/pd1/lib/python3.9/site-packages/pandas/core/frame.py:3607: SettingWithCopyWarning: \n",
      "A value is trying to be set on a copy of a slice from a DataFrame.\n",
      "Try using .loc[row_indexer,col_indexer] = value instead\n",
      "\n",
      "See the caveats in the documentation: https://pandas.pydata.org/pandas-docs/stable/user_guide/indexing.html#returning-a-view-versus-a-copy\n",
      "  self._set_item(key, value)\n"
     ]
    },
    {
     "name": "stdout",
     "output_type": "stream",
     "text": [
      "appending (1, 11)\n",
      "shp-660-51\n",
      "...\n",
      "shp-660-51\n",
      "no stops\n",
      "shp-662-05\n",
      "...\n",
      "shp-662-05\n"
     ]
    },
    {
     "name": "stderr",
     "output_type": "stream",
     "text": [
      "/Users/edasmalchi/anaconda3/envs/pd1/lib/python3.9/site-packages/pandas/core/frame.py:3607: SettingWithCopyWarning: \n",
      "A value is trying to be set on a copy of a slice from a DataFrame.\n",
      "Try using .loc[row_indexer,col_indexer] = value instead\n",
      "\n",
      "See the caveats in the documentation: https://pandas.pydata.org/pandas-docs/stable/user_guide/indexing.html#returning-a-view-versus-a-copy\n",
      "  self._set_item(key, value)\n"
     ]
    },
    {
     "name": "stdout",
     "output_type": "stream",
     "text": [
      "appending (1, 11)\n",
      "shp-662-60\n",
      "...\n",
      "shp-662-60\n",
      "no stops\n",
      "shp-663-05\n",
      "...\n",
      "shp-663-05\n",
      "no stops\n",
      "shp-667-51\n",
      "...\n",
      "shp-667-51\n",
      "no line\n",
      "shp-667-52\n",
      "...\n",
      "shp-667-52\n",
      "no line\n",
      "shp-669-04\n",
      "...\n",
      "shp-669-04\n",
      "no line\n",
      "shp-669-57\n",
      "...\n",
      "shp-669-57\n",
      "no line\n",
      "shp-671-01\n",
      "...\n",
      "shp-671-01\n",
      "no line\n",
      "shp-672-02\n",
      "...\n",
      "shp-672-02\n",
      "no line\n",
      "shp-672-52\n",
      "...\n",
      "shp-672-52\n",
      "no line\n",
      "shp-675-57\n",
      "...\n",
      "shp-675-57\n"
     ]
    },
    {
     "name": "stderr",
     "output_type": "stream",
     "text": [
      "/Users/edasmalchi/anaconda3/envs/pd1/lib/python3.9/site-packages/pandas/core/frame.py:3607: SettingWithCopyWarning: \n",
      "A value is trying to be set on a copy of a slice from a DataFrame.\n",
      "Try using .loc[row_indexer,col_indexer] = value instead\n",
      "\n",
      "See the caveats in the documentation: https://pandas.pydata.org/pandas-docs/stable/user_guide/indexing.html#returning-a-view-versus-a-copy\n",
      "  self._set_item(key, value)\n"
     ]
    },
    {
     "name": "stdout",
     "output_type": "stream",
     "text": [
      "appending (13, 11)\n",
      "shp-67-57\n",
      "...\n",
      "shp-67-57\n",
      "no stops\n",
      "shp-676-01\n",
      "...\n",
      "shp-676-01\n",
      "no line\n",
      "shp-676-54\n",
      "...\n",
      "shp-676-54\n",
      "no line\n",
      "shp-680-04\n",
      "...\n",
      "shp-680-04\n",
      "no line\n",
      "shp-680-51\n",
      "...\n",
      "shp-680-51\n",
      "unable to calculate HQTA for shape_id shp-680-51\n",
      "shp-681-02\n",
      "...\n",
      "shp-681-02\n",
      "no stops\n",
      "shp-682-01\n",
      "...\n",
      "shp-682-01\n",
      "no stops\n",
      "shp-682-53\n",
      "...\n",
      "shp-682-53\n",
      "no stops\n",
      "shp-684-07\n",
      "...\n",
      "shp-684-07\n"
     ]
    },
    {
     "name": "stderr",
     "output_type": "stream",
     "text": [
      "/Users/edasmalchi/anaconda3/envs/pd1/lib/python3.9/site-packages/pandas/core/frame.py:3607: SettingWithCopyWarning: \n",
      "A value is trying to be set on a copy of a slice from a DataFrame.\n",
      "Try using .loc[row_indexer,col_indexer] = value instead\n",
      "\n",
      "See the caveats in the documentation: https://pandas.pydata.org/pandas-docs/stable/user_guide/indexing.html#returning-a-view-versus-a-copy\n",
      "  self._set_item(key, value)\n"
     ]
    },
    {
     "name": "stdout",
     "output_type": "stream",
     "text": [
      "appending (8, 11)\n",
      "shp-688-53\n",
      "...\n",
      "shp-688-53\n"
     ]
    },
    {
     "name": "stderr",
     "output_type": "stream",
     "text": [
      "/Users/edasmalchi/anaconda3/envs/pd1/lib/python3.9/site-packages/pandas/core/frame.py:3607: SettingWithCopyWarning: \n",
      "A value is trying to be set on a copy of a slice from a DataFrame.\n",
      "Try using .loc[row_indexer,col_indexer] = value instead\n",
      "\n",
      "See the caveats in the documentation: https://pandas.pydata.org/pandas-docs/stable/user_guide/indexing.html#returning-a-view-versus-a-copy\n",
      "  self._set_item(key, value)\n"
     ]
    },
    {
     "name": "stdout",
     "output_type": "stream",
     "text": [
      "appending (12, 11)\n",
      "shp-70-05\n",
      "...\n",
      "shp-70-05\n"
     ]
    },
    {
     "name": "stderr",
     "output_type": "stream",
     "text": [
      "/Users/edasmalchi/anaconda3/envs/pd1/lib/python3.9/site-packages/pandas/core/frame.py:3607: SettingWithCopyWarning: \n",
      "A value is trying to be set on a copy of a slice from a DataFrame.\n",
      "Try using .loc[row_indexer,col_indexer] = value instead\n",
      "\n",
      "See the caveats in the documentation: https://pandas.pydata.org/pandas-docs/stable/user_guide/indexing.html#returning-a-view-versus-a-copy\n",
      "  self._set_item(key, value)\n"
     ]
    },
    {
     "name": "stdout",
     "output_type": "stream",
     "text": [
      "appending (15, 11)\n",
      "shp-701-03\n",
      "...\n",
      "shp-701-03\n",
      "no stops\n",
      "shp-702-02\n",
      "...\n",
      "shp-702-02\n",
      "no stops\n",
      "shp-706-04\n",
      "...\n",
      "shp-706-04\n",
      "no stops\n",
      "shp-7-09\n",
      "...\n",
      "shp-7-09\n",
      "no stops\n",
      "shp-71-02\n",
      "...\n",
      "shp-71-02\n",
      "no stops\n",
      "shp-71-51\n",
      "...\n",
      "shp-71-51\n",
      "no stops\n",
      "shp-72-27\n",
      "...\n",
      "shp-72-27\n",
      "no stops\n",
      "shp-72-28\n",
      "...\n",
      "shp-72-28\n",
      "no stops\n",
      "shp-72-73\n",
      "...\n",
      "shp-72-73\n",
      "no stops\n",
      "shp-72-77\n",
      "...\n",
      "shp-72-77\n",
      "no stops\n",
      "shp-72M-39\n",
      "...\n",
      "shp-72M-39\n",
      "no stops\n",
      "shp-72M-41\n",
      "...\n",
      "shp-72M-41\n",
      "no stops\n",
      "shp-72M-60\n",
      "...\n",
      "shp-72M-60\n",
      "no stops\n",
      "shp-72R-12\n",
      "...\n",
      "shp-72R-12\n",
      "no stops\n",
      "shp-72R-57\n",
      "...\n",
      "shp-72R-57\n",
      "no stops\n",
      "shp-74-01\n",
      "...\n",
      "shp-74-01\n"
     ]
    },
    {
     "name": "stderr",
     "output_type": "stream",
     "text": [
      "/Users/edasmalchi/anaconda3/envs/pd1/lib/python3.9/site-packages/pandas/core/frame.py:3607: SettingWithCopyWarning: \n",
      "A value is trying to be set on a copy of a slice from a DataFrame.\n",
      "Try using .loc[row_indexer,col_indexer] = value instead\n",
      "\n",
      "See the caveats in the documentation: https://pandas.pydata.org/pandas-docs/stable/user_guide/indexing.html#returning-a-view-versus-a-copy\n",
      "  self._set_item(key, value)\n"
     ]
    },
    {
     "name": "stdout",
     "output_type": "stream",
     "text": [
      "appending (20, 11)\n",
      "shp-74-02\n",
      "...\n",
      "shp-74-02\n",
      "unable to calculate HQTA for shape_id shp-74-02\n",
      "shp-74-10\n",
      "...\n",
      "shp-74-10\n",
      "no stops\n",
      "shp-74-56\n",
      "...\n",
      "shp-74-56\n"
     ]
    },
    {
     "name": "stderr",
     "output_type": "stream",
     "text": [
      "/Users/edasmalchi/anaconda3/envs/pd1/lib/python3.9/site-packages/pandas/core/frame.py:3607: SettingWithCopyWarning: \n",
      "A value is trying to be set on a copy of a slice from a DataFrame.\n",
      "Try using .loc[row_indexer,col_indexer] = value instead\n",
      "\n",
      "See the caveats in the documentation: https://pandas.pydata.org/pandas-docs/stable/user_guide/indexing.html#returning-a-view-versus-a-copy\n",
      "  self._set_item(key, value)\n"
     ]
    },
    {
     "name": "stdout",
     "output_type": "stream",
     "text": [
      "appending (6, 11)\n",
      "shp-7-56\n",
      "...\n",
      "shp-7-56\n",
      "no stops\n",
      "shp-76-07\n",
      "...\n",
      "shp-76-07\n"
     ]
    },
    {
     "name": "stderr",
     "output_type": "stream",
     "text": [
      "/Users/edasmalchi/anaconda3/envs/pd1/lib/python3.9/site-packages/pandas/core/frame.py:3607: SettingWithCopyWarning: \n",
      "A value is trying to be set on a copy of a slice from a DataFrame.\n",
      "Try using .loc[row_indexer,col_indexer] = value instead\n",
      "\n",
      "See the caveats in the documentation: https://pandas.pydata.org/pandas-docs/stable/user_guide/indexing.html#returning-a-view-versus-a-copy\n",
      "  self._set_item(key, value)\n"
     ]
    },
    {
     "name": "stdout",
     "output_type": "stream",
     "text": [
      "appending (9, 11)\n",
      "shp-76-08\n",
      "...\n",
      "shp-76-08\n"
     ]
    },
    {
     "name": "stderr",
     "output_type": "stream",
     "text": [
      "/Users/edasmalchi/anaconda3/envs/pd1/lib/python3.9/site-packages/pandas/core/frame.py:3607: SettingWithCopyWarning: \n",
      "A value is trying to be set on a copy of a slice from a DataFrame.\n",
      "Try using .loc[row_indexer,col_indexer] = value instead\n",
      "\n",
      "See the caveats in the documentation: https://pandas.pydata.org/pandas-docs/stable/user_guide/indexing.html#returning-a-view-versus-a-copy\n",
      "  self._set_item(key, value)\n"
     ]
    },
    {
     "name": "stdout",
     "output_type": "stream",
     "text": [
      "appending (3, 11)\n",
      "shp-76-54\n",
      "...\n",
      "shp-76-54\n",
      "no stops\n",
      "shp-78-01\n",
      "...\n",
      "shp-78-01\n",
      "no stops\n",
      "shp-78-02\n",
      "...\n",
      "shp-78-02\n",
      "no stops\n",
      "shp-800-51\n",
      "...\n",
      "shp-800-51\n",
      "no stops\n",
      "shp-800-73\n",
      "...\n",
      "shp-800-73\n",
      "no stops\n",
      "shp-800-78\n",
      "...\n",
      "shp-800-78\n",
      "no stops\n",
      "shp-800-79\n",
      "...\n",
      "shp-800-79\n",
      "no stops\n",
      "shp-801-21\n",
      "...\n",
      "shp-801-21\n",
      "no stops\n",
      "shp-802-08\n",
      "...\n",
      "shp-802-08\n"
     ]
    },
    {
     "name": "stderr",
     "output_type": "stream",
     "text": [
      "/Users/edasmalchi/anaconda3/envs/pd1/lib/python3.9/site-packages/pandas/core/frame.py:3607: SettingWithCopyWarning: \n",
      "A value is trying to be set on a copy of a slice from a DataFrame.\n",
      "Try using .loc[row_indexer,col_indexer] = value instead\n",
      "\n",
      "See the caveats in the documentation: https://pandas.pydata.org/pandas-docs/stable/user_guide/indexing.html#returning-a-view-versus-a-copy\n",
      "  self._set_item(key, value)\n"
     ]
    },
    {
     "name": "stdout",
     "output_type": "stream",
     "text": [
      "appending (9, 11)\n",
      "shp-805-16\n",
      "...\n",
      "shp-805-16\n",
      "no stops\n",
      "shp-805-17\n",
      "...\n",
      "shp-805-17\n",
      "no stops\n",
      "shp-805-60\n",
      "...\n",
      "shp-805-60\n",
      "no stops\n",
      "shp-805-61\n",
      "...\n",
      "shp-805-61\n"
     ]
    },
    {
     "name": "stderr",
     "output_type": "stream",
     "text": [
      "/Users/edasmalchi/anaconda3/envs/pd1/lib/python3.9/site-packages/pandas/core/frame.py:3607: SettingWithCopyWarning: \n",
      "A value is trying to be set on a copy of a slice from a DataFrame.\n",
      "Try using .loc[row_indexer,col_indexer] = value instead\n",
      "\n",
      "See the caveats in the documentation: https://pandas.pydata.org/pandas-docs/stable/user_guide/indexing.html#returning-a-view-versus-a-copy\n",
      "  self._set_item(key, value)\n"
     ]
    },
    {
     "name": "stdout",
     "output_type": "stream",
     "text": [
      "appending (4, 11)\n",
      "shp-840-10\n",
      "...\n",
      "shp-840-10\n",
      "no line\n",
      "shp-86-07\n",
      "...\n",
      "shp-86-07\n",
      "no stops\n",
      "shp-86-56\n",
      "...\n",
      "shp-86-56\n",
      "no stops\n",
      "shp-86-57\n",
      "...\n",
      "shp-86-57\n",
      "no stops\n",
      "shp-88-06\n",
      "...\n",
      "shp-88-06\n"
     ]
    },
    {
     "name": "stderr",
     "output_type": "stream",
     "text": [
      "/Users/edasmalchi/anaconda3/envs/pd1/lib/python3.9/site-packages/pandas/core/frame.py:3607: SettingWithCopyWarning: \n",
      "A value is trying to be set on a copy of a slice from a DataFrame.\n",
      "Try using .loc[row_indexer,col_indexer] = value instead\n",
      "\n",
      "See the caveats in the documentation: https://pandas.pydata.org/pandas-docs/stable/user_guide/indexing.html#returning-a-view-versus-a-copy\n",
      "  self._set_item(key, value)\n"
     ]
    },
    {
     "name": "stdout",
     "output_type": "stream",
     "text": [
      "appending (10, 11)\n",
      "shp-90-02\n",
      "...\n",
      "shp-90-02\n"
     ]
    },
    {
     "name": "stderr",
     "output_type": "stream",
     "text": [
      "/Users/edasmalchi/anaconda3/envs/pd1/lib/python3.9/site-packages/pandas/core/frame.py:3607: SettingWithCopyWarning: \n",
      "A value is trying to be set on a copy of a slice from a DataFrame.\n",
      "Try using .loc[row_indexer,col_indexer] = value instead\n",
      "\n",
      "See the caveats in the documentation: https://pandas.pydata.org/pandas-docs/stable/user_guide/indexing.html#returning-a-view-versus-a-copy\n",
      "  self._set_item(key, value)\n"
     ]
    },
    {
     "name": "stdout",
     "output_type": "stream",
     "text": [
      "appending (4, 11)\n",
      "shp-93-08\n",
      "...\n",
      "shp-93-08\n",
      "no stops\n",
      "shp-93-55\n",
      "...\n",
      "shp-93-55\n",
      "no stops\n",
      "shp-95-08\n",
      "...\n",
      "shp-95-08\n",
      "no stops\n",
      "shp-95-53\n",
      "...\n",
      "shp-95-53\n"
     ]
    },
    {
     "name": "stderr",
     "output_type": "stream",
     "text": [
      "/Users/edasmalchi/anaconda3/envs/pd1/lib/python3.9/site-packages/pandas/core/frame.py:3607: SettingWithCopyWarning: \n",
      "A value is trying to be set on a copy of a slice from a DataFrame.\n",
      "Try using .loc[row_indexer,col_indexer] = value instead\n",
      "\n",
      "See the caveats in the documentation: https://pandas.pydata.org/pandas-docs/stable/user_guide/indexing.html#returning-a-view-versus-a-copy\n",
      "  self._set_item(key, value)\n"
     ]
    },
    {
     "name": "stdout",
     "output_type": "stream",
     "text": [
      "appending (4, 11)\n",
      "shp-96-08\n",
      "...\n",
      "shp-96-08\n"
     ]
    },
    {
     "name": "stderr",
     "output_type": "stream",
     "text": [
      "/Users/edasmalchi/anaconda3/envs/pd1/lib/python3.9/site-packages/pandas/core/frame.py:3607: SettingWithCopyWarning: \n",
      "A value is trying to be set on a copy of a slice from a DataFrame.\n",
      "Try using .loc[row_indexer,col_indexer] = value instead\n",
      "\n",
      "See the caveats in the documentation: https://pandas.pydata.org/pandas-docs/stable/user_guide/indexing.html#returning-a-view-versus-a-copy\n",
      "  self._set_item(key, value)\n"
     ]
    },
    {
     "name": "stdout",
     "output_type": "stream",
     "text": [
      "appending (7, 11)\n",
      "shp-96-57\n",
      "...\n",
      "shp-96-57\n",
      "no stops\n",
      "shp-97-09\n",
      "...\n",
      "shp-97-09\n"
     ]
    },
    {
     "name": "stderr",
     "output_type": "stream",
     "text": [
      "/Users/edasmalchi/anaconda3/envs/pd1/lib/python3.9/site-packages/pandas/core/frame.py:3607: SettingWithCopyWarning: \n",
      "A value is trying to be set on a copy of a slice from a DataFrame.\n",
      "Try using .loc[row_indexer,col_indexer] = value instead\n",
      "\n",
      "See the caveats in the documentation: https://pandas.pydata.org/pandas-docs/stable/user_guide/indexing.html#returning-a-view-versus-a-copy\n",
      "  self._set_item(key, value)\n"
     ]
    },
    {
     "name": "stdout",
     "output_type": "stream",
     "text": [
      "appending (16, 11)\n",
      "shp-97-10\n",
      "...\n",
      "shp-97-10\n"
     ]
    },
    {
     "name": "stderr",
     "output_type": "stream",
     "text": [
      "/Users/edasmalchi/anaconda3/envs/pd1/lib/python3.9/site-packages/pandas/core/frame.py:3607: SettingWithCopyWarning: \n",
      "A value is trying to be set on a copy of a slice from a DataFrame.\n",
      "Try using .loc[row_indexer,col_indexer] = value instead\n",
      "\n",
      "See the caveats in the documentation: https://pandas.pydata.org/pandas-docs/stable/user_guide/indexing.html#returning-a-view-versus-a-copy\n",
      "  self._set_item(key, value)\n"
     ]
    },
    {
     "name": "stdout",
     "output_type": "stream",
     "text": [
      "appending (4, 11)\n",
      "shp-97-57\n",
      "...\n",
      "shp-97-57\n"
     ]
    },
    {
     "name": "stderr",
     "output_type": "stream",
     "text": [
      "/Users/edasmalchi/anaconda3/envs/pd1/lib/python3.9/site-packages/pandas/core/frame.py:3607: SettingWithCopyWarning: \n",
      "A value is trying to be set on a copy of a slice from a DataFrame.\n",
      "Try using .loc[row_indexer,col_indexer] = value instead\n",
      "\n",
      "See the caveats in the documentation: https://pandas.pydata.org/pandas-docs/stable/user_guide/indexing.html#returning-a-view-versus-a-copy\n",
      "  self._set_item(key, value)\n"
     ]
    },
    {
     "name": "stdout",
     "output_type": "stream",
     "text": [
      "appending (1, 11)\n",
      "shp-98-01\n",
      "...\n",
      "shp-98-01\n",
      "no stops\n",
      "shp-99-08\n",
      "...\n",
      "shp-99-08\n",
      "no stops\n",
      "shp-99-09\n",
      "...\n",
      "shp-99-09\n",
      "no stops\n",
      "shp-E-04\n",
      "...\n",
      "shp-E-04\n",
      "no stops\n",
      "shp-E-53\n",
      "...\n",
      "shp-E-53\n",
      "no stops\n",
      "shp-F-20\n",
      "...\n",
      "shp-F-20\n",
      "no stops\n",
      "shp-F-70\n",
      "...\n",
      "shp-F-70\n",
      "no stops\n",
      "shp-F-71\n",
      "...\n",
      "shp-F-71\n",
      "no stops\n",
      "shp-G-06\n",
      "...\n",
      "shp-G-06\n",
      "no stops\n",
      "shp-G-54\n",
      "...\n",
      "shp-G-54\n",
      "no stops\n",
      "shp-J-07\n",
      "...\n",
      "shp-J-07\n",
      "no stops\n",
      "shp-L-06\n",
      "...\n",
      "shp-L-06\n",
      "no stops\n",
      "shp-L-07\n",
      "...\n",
      "shp-L-07\n",
      "no stops\n",
      "shp-LA-11\n",
      "...\n",
      "shp-LA-11\n",
      "no stops\n",
      "shp-LA-60\n",
      "...\n",
      "shp-LA-60\n",
      "no stops\n",
      "shp-NL-09\n",
      "...\n",
      "shp-NL-09\n",
      "no stops\n",
      "shp-NX-06\n",
      "...\n",
      "shp-NX-06\n",
      "no stops\n",
      "shp-NX3-55\n",
      "...\n",
      "shp-NX3-55\n",
      "no stops\n",
      "shp-NX-51\n",
      "...\n",
      "shp-NX-51\n",
      "no stops\n",
      "shp-O-53\n",
      "...\n",
      "shp-O-53\n",
      "no stops\n",
      "shp-P-54\n",
      "...\n",
      "shp-P-54\n",
      "no stops\n",
      "shp-U-06\n",
      "...\n",
      "shp-U-06\n",
      "no line\n",
      "shp-U-07\n",
      "...\n",
      "shp-U-07\n",
      "no line\n",
      "shp-V-07\n",
      "...\n",
      "shp-V-07\n",
      "no stops\n",
      "shp-V-53\n",
      "...\n",
      "shp-V-53\n",
      "no stops\n",
      "shp-W-06\n",
      "...\n",
      "shp-W-06\n",
      "no stops\n",
      "shp-10-09\n",
      "...\n",
      "shp-10-09\n",
      "no stops\n",
      "shp-12-56\n",
      "...\n",
      "shp-12-56\n"
     ]
    },
    {
     "name": "stderr",
     "output_type": "stream",
     "text": [
      "/Users/edasmalchi/anaconda3/envs/pd1/lib/python3.9/site-packages/pandas/core/frame.py:3607: SettingWithCopyWarning: \n",
      "A value is trying to be set on a copy of a slice from a DataFrame.\n",
      "Try using .loc[row_indexer,col_indexer] = value instead\n",
      "\n",
      "See the caveats in the documentation: https://pandas.pydata.org/pandas-docs/stable/user_guide/indexing.html#returning-a-view-versus-a-copy\n",
      "  self._set_item(key, value)\n"
     ]
    },
    {
     "name": "stdout",
     "output_type": "stream",
     "text": [
      "appending (18, 11)\n",
      "shp-14-13\n",
      "...\n",
      "shp-14-13\n"
     ]
    },
    {
     "name": "stderr",
     "output_type": "stream",
     "text": [
      "/Users/edasmalchi/anaconda3/envs/pd1/lib/python3.9/site-packages/pandas/core/frame.py:3607: SettingWithCopyWarning: \n",
      "A value is trying to be set on a copy of a slice from a DataFrame.\n",
      "Try using .loc[row_indexer,col_indexer] = value instead\n",
      "\n",
      "See the caveats in the documentation: https://pandas.pydata.org/pandas-docs/stable/user_guide/indexing.html#returning-a-view-versus-a-copy\n",
      "  self._set_item(key, value)\n"
     ]
    },
    {
     "name": "stdout",
     "output_type": "stream",
     "text": [
      "appending (13, 11)\n",
      "shp-1T-05\n",
      "...\n",
      "shp-1T-05\n",
      "no stops\n",
      "shp-1T-51\n",
      "...\n",
      "shp-1T-51\n",
      "no stops\n",
      "shp-20-54\n",
      "...\n",
      "shp-20-54\n",
      "no stops\n",
      "shp-210-06\n",
      "...\n",
      "shp-210-06\n"
     ]
    },
    {
     "name": "stderr",
     "output_type": "stream",
     "text": [
      "/Users/edasmalchi/anaconda3/envs/pd1/lib/python3.9/site-packages/pandas/core/frame.py:3607: SettingWithCopyWarning: \n",
      "A value is trying to be set on a copy of a slice from a DataFrame.\n",
      "Try using .loc[row_indexer,col_indexer] = value instead\n",
      "\n",
      "See the caveats in the documentation: https://pandas.pydata.org/pandas-docs/stable/user_guide/indexing.html#returning-a-view-versus-a-copy\n",
      "  self._set_item(key, value)\n"
     ]
    },
    {
     "name": "stdout",
     "output_type": "stream",
     "text": [
      "appending (17, 11)\n",
      "shp-210-07\n",
      "...\n",
      "shp-210-07\n",
      "no stops\n",
      "shp-212-57\n",
      "...\n",
      "shp-212-57\n",
      "no stops\n",
      "shp-217-58\n",
      "...\n",
      "shp-217-58\n"
     ]
    },
    {
     "name": "stderr",
     "output_type": "stream",
     "text": [
      "/Users/edasmalchi/anaconda3/envs/pd1/lib/python3.9/site-packages/pandas/core/frame.py:3607: SettingWithCopyWarning: \n",
      "A value is trying to be set on a copy of a slice from a DataFrame.\n",
      "Try using .loc[row_indexer,col_indexer] = value instead\n",
      "\n",
      "See the caveats in the documentation: https://pandas.pydata.org/pandas-docs/stable/user_guide/indexing.html#returning-a-view-versus-a-copy\n",
      "  self._set_item(key, value)\n"
     ]
    },
    {
     "name": "stdout",
     "output_type": "stream",
     "text": [
      "appending (6, 11)\n",
      "shp-239-08\n",
      "...\n",
      "shp-239-08\n",
      "no stops\n",
      "shp-239-57\n",
      "...\n",
      "shp-239-57\n",
      "no stops\n",
      "shp-251-60\n",
      "...\n",
      "shp-251-60\n"
     ]
    },
    {
     "name": "stderr",
     "output_type": "stream",
     "text": [
      "/Users/edasmalchi/anaconda3/envs/pd1/lib/python3.9/site-packages/pandas/core/frame.py:3607: SettingWithCopyWarning: \n",
      "A value is trying to be set on a copy of a slice from a DataFrame.\n",
      "Try using .loc[row_indexer,col_indexer] = value instead\n",
      "\n",
      "See the caveats in the documentation: https://pandas.pydata.org/pandas-docs/stable/user_guide/indexing.html#returning-a-view-versus-a-copy\n",
      "  self._set_item(key, value)\n"
     ]
    },
    {
     "name": "stdout",
     "output_type": "stream",
     "text": [
      "appending (12, 11)\n",
      "shp-29-30\n",
      "...\n",
      "shp-29-30\n",
      "no stops\n",
      "shp-29-33\n",
      "...\n",
      "shp-29-33\n",
      "no stops\n",
      "shp-29-34\n",
      "...\n",
      "shp-29-34\n",
      "no stops\n",
      "shp-29-63\n",
      "...\n",
      "shp-29-63\n",
      "no stops\n",
      "shp-46L-02\n",
      "...\n",
      "shp-46L-02\n",
      "no stops\n",
      "shp-51B-14\n",
      "...\n",
      "shp-51B-14\n",
      "no stops\n",
      "shp-52-61\n",
      "...\n",
      "shp-52-61\n"
     ]
    },
    {
     "name": "stderr",
     "output_type": "stream",
     "text": [
      "/Users/edasmalchi/anaconda3/envs/pd1/lib/python3.9/site-packages/pandas/core/frame.py:3607: SettingWithCopyWarning: \n",
      "A value is trying to be set on a copy of a slice from a DataFrame.\n",
      "Try using .loc[row_indexer,col_indexer] = value instead\n",
      "\n",
      "See the caveats in the documentation: https://pandas.pydata.org/pandas-docs/stable/user_guide/indexing.html#returning-a-view-versus-a-copy\n",
      "  self._set_item(key, value)\n"
     ]
    },
    {
     "name": "stdout",
     "output_type": "stream",
     "text": [
      "appending (8, 11)\n",
      "shp-54-02\n",
      "...\n",
      "shp-54-02\n"
     ]
    },
    {
     "name": "stderr",
     "output_type": "stream",
     "text": [
      "/Users/edasmalchi/anaconda3/envs/pd1/lib/python3.9/site-packages/pandas/core/frame.py:3607: SettingWithCopyWarning: \n",
      "A value is trying to be set on a copy of a slice from a DataFrame.\n",
      "Try using .loc[row_indexer,col_indexer] = value instead\n",
      "\n",
      "See the caveats in the documentation: https://pandas.pydata.org/pandas-docs/stable/user_guide/indexing.html#returning-a-view-versus-a-copy\n",
      "  self._set_item(key, value)\n"
     ]
    },
    {
     "name": "stdout",
     "output_type": "stream",
     "text": [
      "appending (2, 11)\n",
      "shp-60-05\n",
      "...\n",
      "shp-60-05\n",
      "no stops\n",
      "shp-604-12\n",
      "...\n",
      "shp-604-12\n",
      "no stops\n",
      "shp-604-61\n",
      "...\n",
      "shp-604-61\n",
      "no stops\n",
      "shp-607-02\n",
      "...\n",
      "shp-607-02\n"
     ]
    },
    {
     "name": "stderr",
     "output_type": "stream",
     "text": [
      "/Users/edasmalchi/anaconda3/envs/pd1/lib/python3.9/site-packages/pandas/core/frame.py:3607: SettingWithCopyWarning: \n",
      "A value is trying to be set on a copy of a slice from a DataFrame.\n",
      "Try using .loc[row_indexer,col_indexer] = value instead\n",
      "\n",
      "See the caveats in the documentation: https://pandas.pydata.org/pandas-docs/stable/user_guide/indexing.html#returning-a-view-versus-a-copy\n",
      "  self._set_item(key, value)\n"
     ]
    },
    {
     "name": "stdout",
     "output_type": "stream",
     "text": [
      "appending (6, 11)\n",
      "shp-611-56\n",
      "...\n",
      "shp-611-56\n",
      "no stops\n",
      "shp-6-13\n",
      "...\n",
      "shp-6-13\n",
      "no stops\n",
      "shp-620-01\n",
      "...\n",
      "shp-620-01\n"
     ]
    },
    {
     "name": "stderr",
     "output_type": "stream",
     "text": [
      "/Users/edasmalchi/anaconda3/envs/pd1/lib/python3.9/site-packages/pandas/core/frame.py:3607: SettingWithCopyWarning: \n",
      "A value is trying to be set on a copy of a slice from a DataFrame.\n",
      "Try using .loc[row_indexer,col_indexer] = value instead\n",
      "\n",
      "See the caveats in the documentation: https://pandas.pydata.org/pandas-docs/stable/user_guide/indexing.html#returning-a-view-versus-a-copy\n",
      "  self._set_item(key, value)\n"
     ]
    },
    {
     "name": "stdout",
     "output_type": "stream",
     "text": [
      "appending (8, 11)\n",
      "shp-62-05\n",
      "...\n",
      "shp-62-05\n"
     ]
    },
    {
     "name": "stderr",
     "output_type": "stream",
     "text": [
      "/Users/edasmalchi/anaconda3/envs/pd1/lib/python3.9/site-packages/pandas/core/frame.py:3607: SettingWithCopyWarning: \n",
      "A value is trying to be set on a copy of a slice from a DataFrame.\n",
      "Try using .loc[row_indexer,col_indexer] = value instead\n",
      "\n",
      "See the caveats in the documentation: https://pandas.pydata.org/pandas-docs/stable/user_guide/indexing.html#returning-a-view-versus-a-copy\n",
      "  self._set_item(key, value)\n"
     ]
    },
    {
     "name": "stdout",
     "output_type": "stream",
     "text": [
      "appending (12, 11)\n",
      "shp-624-01\n",
      "...\n",
      "shp-624-01\n"
     ]
    },
    {
     "name": "stderr",
     "output_type": "stream",
     "text": [
      "/Users/edasmalchi/anaconda3/envs/pd1/lib/python3.9/site-packages/pandas/core/frame.py:3607: SettingWithCopyWarning: \n",
      "A value is trying to be set on a copy of a slice from a DataFrame.\n",
      "Try using .loc[row_indexer,col_indexer] = value instead\n",
      "\n",
      "See the caveats in the documentation: https://pandas.pydata.org/pandas-docs/stable/user_guide/indexing.html#returning-a-view-versus-a-copy\n",
      "  self._set_item(key, value)\n"
     ]
    },
    {
     "name": "stdout",
     "output_type": "stream",
     "text": [
      "appending (2, 11)\n",
      "shp-624-03\n",
      "...\n",
      "shp-624-03\n",
      "no stops\n",
      "shp-625-01\n",
      "...\n",
      "shp-625-01\n"
     ]
    },
    {
     "name": "stderr",
     "output_type": "stream",
     "text": [
      "/Users/edasmalchi/anaconda3/envs/pd1/lib/python3.9/site-packages/pandas/core/frame.py:3607: SettingWithCopyWarning: \n",
      "A value is trying to be set on a copy of a slice from a DataFrame.\n",
      "Try using .loc[row_indexer,col_indexer] = value instead\n",
      "\n",
      "See the caveats in the documentation: https://pandas.pydata.org/pandas-docs/stable/user_guide/indexing.html#returning-a-view-versus-a-copy\n",
      "  self._set_item(key, value)\n"
     ]
    },
    {
     "name": "stdout",
     "output_type": "stream",
     "text": [
      "appending (7, 11)\n",
      "shp-625-02\n",
      "...\n",
      "shp-625-02\n",
      "no line\n",
      "shp-626-51\n",
      "...\n",
      "shp-626-51\n",
      "no stops\n",
      "shp-629-01\n",
      "...\n",
      "shp-629-01\n"
     ]
    },
    {
     "name": "stderr",
     "output_type": "stream",
     "text": [
      "/Users/edasmalchi/anaconda3/envs/pd1/lib/python3.9/site-packages/pandas/core/frame.py:3607: SettingWithCopyWarning: \n",
      "A value is trying to be set on a copy of a slice from a DataFrame.\n",
      "Try using .loc[row_indexer,col_indexer] = value instead\n",
      "\n",
      "See the caveats in the documentation: https://pandas.pydata.org/pandas-docs/stable/user_guide/indexing.html#returning-a-view-versus-a-copy\n",
      "  self._set_item(key, value)\n"
     ]
    },
    {
     "name": "stdout",
     "output_type": "stream",
     "text": [
      "appending (4, 11)\n",
      "shp-631-52\n",
      "...\n",
      "shp-631-52\n"
     ]
    },
    {
     "name": "stderr",
     "output_type": "stream",
     "text": [
      "/Users/edasmalchi/anaconda3/envs/pd1/lib/python3.9/site-packages/pandas/core/frame.py:3607: SettingWithCopyWarning: \n",
      "A value is trying to be set on a copy of a slice from a DataFrame.\n",
      "Try using .loc[row_indexer,col_indexer] = value instead\n",
      "\n",
      "See the caveats in the documentation: https://pandas.pydata.org/pandas-docs/stable/user_guide/indexing.html#returning-a-view-versus-a-copy\n",
      "  self._set_item(key, value)\n"
     ]
    },
    {
     "name": "stdout",
     "output_type": "stream",
     "text": [
      "appending (1, 11)\n",
      "shp-646-60\n",
      "...\n",
      "shp-646-60\n",
      "unable to calculate HQTA for shape_id shp-646-60\n",
      "shp-648-11\n",
      "...\n",
      "shp-648-11\n",
      "unable to calculate HQTA for shape_id shp-648-11\n",
      "shp-65-10\n",
      "...\n",
      "shp-65-10\n",
      "no line\n",
      "shp-654-05\n",
      "...\n",
      "shp-654-05\n",
      "no line\n",
      "shp-657-09\n",
      "...\n",
      "shp-657-09\n",
      "no line\n",
      "shp-657-11\n",
      "...\n",
      "shp-657-11\n",
      "no line\n",
      "shp-657-55\n",
      "...\n",
      "shp-657-55\n",
      "no line\n",
      "shp-6-58\n",
      "...\n",
      "shp-6-58\n",
      "no stops\n",
      "shp-658-04\n",
      "...\n",
      "shp-658-04\n",
      "no stops\n",
      "shp-660-01\n",
      "...\n",
      "shp-660-01\n",
      "unable to calculate HQTA for shape_id shp-660-01\n",
      "shp-663-54\n",
      "...\n",
      "shp-663-54\n"
     ]
    },
    {
     "name": "stderr",
     "output_type": "stream",
     "text": [
      "/Users/edasmalchi/anaconda3/envs/pd1/lib/python3.9/site-packages/pandas/core/frame.py:3607: SettingWithCopyWarning: \n",
      "A value is trying to be set on a copy of a slice from a DataFrame.\n",
      "Try using .loc[row_indexer,col_indexer] = value instead\n",
      "\n",
      "See the caveats in the documentation: https://pandas.pydata.org/pandas-docs/stable/user_guide/indexing.html#returning-a-view-versus-a-copy\n",
      "  self._set_item(key, value)\n"
     ]
    },
    {
     "name": "stdout",
     "output_type": "stream",
     "text": [
      "appending (7, 11)\n",
      "shp-669-58\n",
      "...\n",
      "shp-669-58\n",
      "no stops\n",
      "shp-675-03\n",
      "...\n",
      "shp-675-03\n"
     ]
    },
    {
     "name": "stderr",
     "output_type": "stream",
     "text": [
      "/Users/edasmalchi/anaconda3/envs/pd1/lib/python3.9/site-packages/pandas/core/frame.py:3607: SettingWithCopyWarning: \n",
      "A value is trying to be set on a copy of a slice from a DataFrame.\n",
      "Try using .loc[row_indexer,col_indexer] = value instead\n",
      "\n",
      "See the caveats in the documentation: https://pandas.pydata.org/pandas-docs/stable/user_guide/indexing.html#returning-a-view-versus-a-copy\n",
      "  self._set_item(key, value)\n"
     ]
    },
    {
     "name": "stdout",
     "output_type": "stream",
     "text": [
      "appending (1, 11)\n",
      "shp-688-08\n",
      "...\n",
      "shp-688-08\n",
      "appending (1, 11)\n",
      "shp-72-76\n",
      "...\n",
      "shp-72-76\n",
      "no stops\n",
      "shp-73-01\n",
      "...\n",
      "shp-73-01\n",
      "no stops\n",
      "shp-73-51\n",
      "...\n",
      "shp-73-51\n",
      "no stops\n",
      "shp-74-51\n",
      "...\n",
      "shp-74-51\n",
      "no stops\n",
      "shp-76-06\n",
      "...\n",
      "shp-76-06\n",
      "no stops\n",
      "shp-79-04\n",
      "...\n",
      "shp-79-04\n",
      "no stops\n",
      "shp-79-06\n",
      "...\n",
      "shp-79-06\n"
     ]
    },
    {
     "name": "stderr",
     "output_type": "stream",
     "text": [
      "/Users/edasmalchi/anaconda3/envs/pd1/lib/python3.9/site-packages/pandas/core/frame.py:3607: SettingWithCopyWarning: \n",
      "A value is trying to be set on a copy of a slice from a DataFrame.\n",
      "Try using .loc[row_indexer,col_indexer] = value instead\n",
      "\n",
      "See the caveats in the documentation: https://pandas.pydata.org/pandas-docs/stable/user_guide/indexing.html#returning-a-view-versus-a-copy\n",
      "  self._set_item(key, value)\n"
     ]
    },
    {
     "name": "stdout",
     "output_type": "stream",
     "text": [
      "appending (10, 11)\n",
      "shp-800-22\n",
      "...\n",
      "shp-800-22\n",
      "no stops\n",
      "shp-801-22\n",
      "...\n",
      "shp-801-22\n",
      "no stops\n",
      "shp-851-13\n",
      "...\n",
      "shp-851-13\n"
     ]
    },
    {
     "name": "stderr",
     "output_type": "stream",
     "text": [
      "/Users/edasmalchi/anaconda3/envs/pd1/lib/python3.9/site-packages/pandas/core/frame.py:3607: SettingWithCopyWarning: \n",
      "A value is trying to be set on a copy of a slice from a DataFrame.\n",
      "Try using .loc[row_indexer,col_indexer] = value instead\n",
      "\n",
      "See the caveats in the documentation: https://pandas.pydata.org/pandas-docs/stable/user_guide/indexing.html#returning-a-view-versus-a-copy\n",
      "  self._set_item(key, value)\n"
     ]
    },
    {
     "name": "stdout",
     "output_type": "stream",
     "text": [
      "appending (3, 11)\n",
      "shp-851-57\n",
      "...\n",
      "shp-851-57\n",
      "no stops\n",
      "shp-95-07\n",
      "...\n",
      "shp-95-07\n"
     ]
    },
    {
     "name": "stderr",
     "output_type": "stream",
     "text": [
      "/Users/edasmalchi/anaconda3/envs/pd1/lib/python3.9/site-packages/pandas/core/frame.py:3607: SettingWithCopyWarning: \n",
      "A value is trying to be set on a copy of a slice from a DataFrame.\n",
      "Try using .loc[row_indexer,col_indexer] = value instead\n",
      "\n",
      "See the caveats in the documentation: https://pandas.pydata.org/pandas-docs/stable/user_guide/indexing.html#returning-a-view-versus-a-copy\n",
      "  self._set_item(key, value)\n"
     ]
    },
    {
     "name": "stdout",
     "output_type": "stream",
     "text": [
      "appending (1, 11)\n",
      "shp-97-11\n",
      "...\n",
      "shp-97-11\n",
      "no line\n",
      "shp-97-12\n",
      "...\n",
      "shp-97-12\n",
      "no line\n",
      "shp-98-51\n",
      "...\n",
      "shp-98-51\n",
      "no stops\n",
      "shp-J-54\n",
      "...\n",
      "shp-J-54\n",
      "no stops\n",
      "shp-NL-56\n",
      "...\n",
      "shp-NL-56\n",
      "no stops\n",
      "shp-O-03\n",
      "...\n",
      "shp-O-03\n",
      "no stops\n",
      "shp-OX-03\n",
      "...\n",
      "shp-OX-03\n",
      "no stops\n",
      "shp-OX-53\n",
      "...\n",
      "shp-OX-53\n",
      "no stops\n",
      "shp-P-05\n",
      "...\n",
      "shp-P-05\n",
      "no stops\n",
      "shp-200-11\n",
      "...\n",
      "shp-200-11\n",
      "no stops\n",
      "shp-215-67\n",
      "...\n",
      "shp-215-67\n",
      "no stops\n",
      "shp-217-10\n",
      "...\n",
      "shp-217-10\n",
      "no stops\n",
      "shp-232-58\n",
      "...\n",
      "shp-232-58\n",
      "no stops\n",
      "shp-251-11\n",
      "...\n",
      "shp-251-11\n"
     ]
    },
    {
     "name": "stderr",
     "output_type": "stream",
     "text": [
      "/Users/edasmalchi/anaconda3/envs/pd1/lib/python3.9/site-packages/pandas/core/frame.py:3607: SettingWithCopyWarning: \n",
      "A value is trying to be set on a copy of a slice from a DataFrame.\n",
      "Try using .loc[row_indexer,col_indexer] = value instead\n",
      "\n",
      "See the caveats in the documentation: https://pandas.pydata.org/pandas-docs/stable/user_guide/indexing.html#returning-a-view-versus-a-copy\n",
      "  self._set_item(key, value)\n"
     ]
    },
    {
     "name": "stdout",
     "output_type": "stream",
     "text": [
      "appending (1, 11)\n",
      "shp-40-16\n",
      "...\n",
      "shp-40-16\n",
      "no line\n",
      "shp-40-60\n",
      "...\n",
      "shp-40-60\n",
      "no stops\n",
      "shp-41-03\n",
      "...\n",
      "shp-41-03\n",
      "no stops\n",
      "shp-46L-51\n",
      "...\n",
      "shp-46L-51\n",
      "no stops\n",
      "shp-51B-17\n",
      "...\n",
      "shp-51B-17\n"
     ]
    },
    {
     "name": "stderr",
     "output_type": "stream",
     "text": [
      "/Users/edasmalchi/anaconda3/envs/pd1/lib/python3.9/site-packages/pandas/core/frame.py:3607: SettingWithCopyWarning: \n",
      "A value is trying to be set on a copy of a slice from a DataFrame.\n",
      "Try using .loc[row_indexer,col_indexer] = value instead\n",
      "\n",
      "See the caveats in the documentation: https://pandas.pydata.org/pandas-docs/stable/user_guide/indexing.html#returning-a-view-versus-a-copy\n",
      "  self._set_item(key, value)\n"
     ]
    },
    {
     "name": "stdout",
     "output_type": "stream",
     "text": [
      "appending (1, 11)\n",
      "shp-617-03\n",
      "...\n",
      "shp-617-03\n",
      "no stops\n",
      "shp-620-52\n",
      "...\n",
      "shp-620-52\n"
     ]
    },
    {
     "name": "stderr",
     "output_type": "stream",
     "text": [
      "/Users/edasmalchi/anaconda3/envs/pd1/lib/python3.9/site-packages/pandas/core/frame.py:3607: SettingWithCopyWarning: \n",
      "A value is trying to be set on a copy of a slice from a DataFrame.\n",
      "Try using .loc[row_indexer,col_indexer] = value instead\n",
      "\n",
      "See the caveats in the documentation: https://pandas.pydata.org/pandas-docs/stable/user_guide/indexing.html#returning-a-view-versus-a-copy\n",
      "  self._set_item(key, value)\n"
     ]
    },
    {
     "name": "stdout",
     "output_type": "stream",
     "text": [
      "appending (2, 11)\n",
      "shp-621-06\n",
      "...\n",
      "shp-621-06\n"
     ]
    },
    {
     "name": "stderr",
     "output_type": "stream",
     "text": [
      "/Users/edasmalchi/anaconda3/envs/pd1/lib/python3.9/site-packages/pandas/core/frame.py:3607: SettingWithCopyWarning: \n",
      "A value is trying to be set on a copy of a slice from a DataFrame.\n",
      "Try using .loc[row_indexer,col_indexer] = value instead\n",
      "\n",
      "See the caveats in the documentation: https://pandas.pydata.org/pandas-docs/stable/user_guide/indexing.html#returning-a-view-versus-a-copy\n",
      "  self._set_item(key, value)\n"
     ]
    },
    {
     "name": "stdout",
     "output_type": "stream",
     "text": [
      "appending (7, 11)\n",
      "shp-62-54\n",
      "...\n",
      "shp-62-54\n",
      "no stops\n",
      "shp-629-51\n",
      "...\n",
      "shp-629-51\n",
      "no stops\n",
      "shp-631-51\n",
      "...\n",
      "shp-631-51\n",
      "unable to calculate HQTA for shape_id shp-631-51\n",
      "shp-642-51\n",
      "...\n",
      "shp-642-51\n",
      "no stops\n",
      "shp-646-59\n",
      "...\n",
      "shp-646-59\n",
      "no line\n",
      "shp-648-62\n",
      "...\n",
      "shp-648-62\n",
      "no stops\n",
      "shp-648-63\n",
      "...\n",
      "shp-648-63\n",
      "no stops\n",
      "shp-649-15\n",
      "...\n",
      "shp-649-15\n",
      "no stops\n",
      "shp-653-51\n",
      "...\n",
      "shp-653-51\n"
     ]
    },
    {
     "name": "stderr",
     "output_type": "stream",
     "text": [
      "/Users/edasmalchi/anaconda3/envs/pd1/lib/python3.9/site-packages/pandas/core/frame.py:3607: SettingWithCopyWarning: \n",
      "A value is trying to be set on a copy of a slice from a DataFrame.\n",
      "Try using .loc[row_indexer,col_indexer] = value instead\n",
      "\n",
      "See the caveats in the documentation: https://pandas.pydata.org/pandas-docs/stable/user_guide/indexing.html#returning-a-view-versus-a-copy\n",
      "  self._set_item(key, value)\n"
     ]
    },
    {
     "name": "stdout",
     "output_type": "stream",
     "text": [
      "appending (1, 11)\n",
      "shp-654-04\n",
      "...\n",
      "shp-654-04\n",
      "no line\n",
      "shp-654-54\n",
      "...\n",
      "shp-654-54\n",
      "no stops\n",
      "shp-655-54\n",
      "...\n",
      "shp-655-54\n",
      "unable to calculate HQTA for shape_id shp-655-54\n",
      "shp-684-57\n",
      "...\n",
      "shp-684-57\n",
      "no stops\n",
      "shp-696-01\n",
      "...\n",
      "shp-696-01\n",
      "unable to calculate HQTA for shape_id shp-696-01\n",
      "shp-70-01\n",
      "...\n",
      "shp-70-01\n"
     ]
    },
    {
     "name": "stderr",
     "output_type": "stream",
     "text": [
      "/Users/edasmalchi/anaconda3/envs/pd1/lib/python3.9/site-packages/pandas/core/frame.py:3607: SettingWithCopyWarning: \n",
      "A value is trying to be set on a copy of a slice from a DataFrame.\n",
      "Try using .loc[row_indexer,col_indexer] = value instead\n",
      "\n",
      "See the caveats in the documentation: https://pandas.pydata.org/pandas-docs/stable/user_guide/indexing.html#returning-a-view-versus-a-copy\n",
      "  self._set_item(key, value)\n"
     ]
    },
    {
     "name": "stdout",
     "output_type": "stream",
     "text": [
      "appending (1, 11)\n",
      "shp-72M-40\n",
      "...\n",
      "shp-72M-40\n",
      "no stops\n",
      "shp-74-58\n",
      "...\n",
      "shp-74-58\n",
      "no line\n",
      "shp-78-51\n",
      "...\n",
      "shp-78-51\n"
     ]
    },
    {
     "name": "stderr",
     "output_type": "stream",
     "text": [
      "/Users/edasmalchi/anaconda3/envs/pd1/lib/python3.9/site-packages/pandas/core/frame.py:3607: SettingWithCopyWarning: \n",
      "A value is trying to be set on a copy of a slice from a DataFrame.\n",
      "Try using .loc[row_indexer,col_indexer] = value instead\n",
      "\n",
      "See the caveats in the documentation: https://pandas.pydata.org/pandas-docs/stable/user_guide/indexing.html#returning-a-view-versus-a-copy\n",
      "  self._set_item(key, value)\n"
     ]
    },
    {
     "name": "stdout",
     "output_type": "stream",
     "text": [
      "appending (4, 11)\n",
      "shp-802-04\n",
      "...\n",
      "shp-802-04\n",
      "no line\n",
      "shp-805-62\n",
      "...\n",
      "shp-805-62\n",
      "no stops\n",
      "shp-95-03\n",
      "...\n",
      "shp-95-03\n",
      "unable to calculate HQTA for shape_id shp-95-03\n",
      "shp-97-55\n",
      "...\n",
      "shp-97-55\n",
      "no line\n",
      "shp-F-21\n",
      "...\n",
      "shp-F-21\n"
     ]
    }
   ],
   "source": [
    "act_hqta = single_operator_hqta(act_views)"
   ]
  },
  {
   "cell_type": "markdown",
   "id": "18284490-1169-4eb8-88aa-fe5e8d818f35",
   "metadata": {},
   "source": [
    "#### Flow\n",
    "\n",
    "* segment table should be global for all operators...\n",
    "* if shape contains existing segments, add them\n",
    "* calculate new segments on non-overlap (which may be discontiguous?)\n",
    "* should yield an operator+segment table that can be appended+grouped+summed with other operators..."
   ]
  },
  {
   "cell_type": "markdown",
   "id": "a5ff47bb-276b-4f0c-8635-e3ceb108010c",
   "metadata": {},
   "source": [
    "### Mapping"
   ]
  },
  {
   "cell_type": "code",
   "execution_count": null,
   "id": "979e15cf-6887-4b7a-ae5d-a6efcd02a667",
   "metadata": {},
   "outputs": [],
   "source": [
    "def map_hqta(hqta):\n",
    "    \n",
    "    x = hqta['geometry'].to_crs('EPSG:4326').iloc[0].centroid.x\n",
    "    y = hqta['geometry'].to_crs('EPSG:4326').iloc[0].centroid.y\n",
    "    \n",
    "    m = Map(basemap=basemaps.CartoDB.Positron, center=[y, x], zoom=11)\n",
    "    geo_data_hq = GeoData(geo_dataframe = hqta[hqta['hq_transit_corr']].to_crs('EPSG:4326'),\n",
    "                           style={'color': 'black', 'fillColor': '#3366cc',\n",
    "                                        'opacity':0.3, 'weight':.5, 'dashArray':'2', 'fillOpacity':0.3},\n",
    "                           hover_style={'fillColor': 'red' , 'fillOpacity': 0.2},\n",
    "                           name = 'HQTA')\n",
    "\n",
    "    geo_data_not_hq = GeoData(geo_dataframe = hqta[~hqta['hq_transit_corr']].to_crs('EPSG:4326'),\n",
    "                           style={'color': 'black', 'fillColor': '#fec44f',\n",
    "                                        'opacity':0.3, 'weight':.5, 'dashArray':'2', 'fillOpacity':0.3},\n",
    "                           hover_style={'fillColor': 'red' , 'fillOpacity': 0.2},\n",
    "                           name = 'non-HQTA')\n",
    "\n",
    "    m.add_layer(geo_data_hq)\n",
    "    m.add_layer(geo_data_not_hq)\n",
    "    m.add_control(LayersControl())\n",
    "    \n",
    "    return m"
   ]
  },
  {
   "cell_type": "code",
   "execution_count": null,
   "id": "dea4ada3-c0fd-4d54-a798-83e8826d23b9",
   "metadata": {},
   "outputs": [],
   "source": [
    "map_hqta(act_hqta)"
   ]
  },
  {
   "cell_type": "code",
   "execution_count": null,
   "id": "32db0b35-9582-4c67-8dc2-6a222813f96c",
   "metadata": {},
   "outputs": [],
   "source": [
    "def simple_map(gdf, mouseover=None):\n",
    "    if 'calitp_extracted_at' in gdf.columns:\n",
    "        gdf = gdf.drop(columns='calitp_extracted_at')\n",
    "        gdf.geometry = gdf.geometry.buffer(50)\n",
    "    \n",
    "    m = Map(basemap=basemaps.CartoDB.Positron, center=[34, -118.34], zoom=11)\n",
    "\n",
    "    if mouseover:\n",
    "        html = HTML(f'hover to see {mouseover}')\n",
    "        html.layout.margin = '0px 20px 20px 20px'\n",
    "        control = WidgetControl(widget=html, position='topright')\n",
    "        m.add_control(control)\n",
    "\n",
    "        def update_html(feature,  **kwargs):\n",
    "            html.value = '''\n",
    "                <h3><b>{}</b></h3>\n",
    "            '''.format(feature['properties'][mouseover])\n",
    "    \n",
    "    geo_data_hq = GeoData(geo_dataframe = gdf.to_crs('EPSG:4326'),\n",
    "                           style={'color': 'black', 'fillColor': '#3366cc',\n",
    "                                        'opacity':0.3, 'weight':.5, 'dashArray':'2', 'fillOpacity':0.3},\n",
    "                           hover_style={'fillColor': 'red' , 'fillOpacity': 0.2},\n",
    "                           name = 'gdf')\n",
    "    m.add_layer(geo_data_hq)\n",
    "    \n",
    "    if mouseover:\n",
    "        geo_data_hq.on_hover(update_html)\n",
    "\n",
    "    return m"
   ]
  }
 ],
 "metadata": {
  "kernelspec": {
   "display_name": "Python 3 (ipykernel)",
   "language": "python",
   "name": "python3"
  },
  "language_info": {
   "codemirror_mode": {
    "name": "ipython",
    "version": 3
   },
   "file_extension": ".py",
   "mimetype": "text/x-python",
   "name": "python",
   "nbconvert_exporter": "python",
   "pygments_lexer": "ipython3",
   "version": "3.9.7"
  }
 },
 "nbformat": 4,
 "nbformat_minor": 5
}
