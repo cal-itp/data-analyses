{
 "cells": [
  {
   "cell_type": "code",
   "execution_count": 1,
   "id": "38262382-8e2c-4eb9-86ce-aa4aa251d6d4",
   "metadata": {},
   "outputs": [],
   "source": [
    "import os\n",
    "os.environ[\"CALITP_BQ_MAX_BYTES\"] = str(1_000_000_000_000) ## 1TB?"
   ]
  },
  {
   "cell_type": "code",
   "execution_count": 2,
   "id": "5bbd8694-444f-48c0-89a0-00c5c0e542c8",
   "metadata": {},
   "outputs": [],
   "source": [
    "import geopandas as gpd\n",
    "import pandas as pd\n",
    "from siuba import *\n",
    "import numpy as np\n",
    "\n",
    "from segment_speed_utils import helpers, gtfs_schedule_wrangling\n",
    "from shared_utils import rt_dates, gtfs_utils_v2\n",
    "import folium\n",
    "import itertools"
   ]
  },
  {
   "cell_type": "code",
   "execution_count": 49,
   "id": "994a67bc-1cbe-4477-ac3b-cbe0f7e4822e",
   "metadata": {},
   "outputs": [],
   "source": [
    "from update_vars import (analysis_date, AM_PEAK, PM_PEAK, EXPORT_PATH, GCS_FILE_PATH, PROJECT_CRS,\n",
    "SEGMENT_BUFFER_METERS, AM_PEAK, PM_PEAK, HQ_TRANSIT_THRESHOLD, MS_TRANSIT_THRESHOLD, SHARED_STOP_THRESHOLD)"
   ]
  },
  {
   "cell_type": "code",
   "execution_count": 31,
   "id": "4706f9e9-03d9-49d7-9b3a-d5044018127e",
   "metadata": {},
   "outputs": [],
   "source": [
    "import create_aggregate_stop_frequencies as casf"
   ]
  },
  {
   "cell_type": "code",
   "execution_count": 41,
   "id": "f494bb98-09d9-472c-882c-158c35d391f4",
   "metadata": {},
   "outputs": [
    {
     "data": {
      "text/plain": [
       "<module 'create_aggregate_stop_frequencies' from '/home/jovyan/data-analyses/high_quality_transit_areas/create_aggregate_stop_frequencies.py'>"
      ]
     },
     "execution_count": 41,
     "metadata": {},
     "output_type": "execute_result"
    }
   ],
   "source": [
    "import importlib\n",
    "importlib.reload(create_aggregate_stop_frequencies)"
   ]
  },
  {
   "cell_type": "code",
   "execution_count": 6,
   "id": "cd373f3b-6a3a-40c4-8f59-52ad745ae1d7",
   "metadata": {},
   "outputs": [],
   "source": [
    "am_peak_hrs = list(range(AM_PEAK[0].hour, AM_PEAK[1].hour))\n",
    "pm_peak_hrs = list(range(PM_PEAK[0].hour, PM_PEAK[1].hour))\n",
    "both_peaks_hrs = am_peak_hrs + pm_peak_hrs"
   ]
  },
  {
   "cell_type": "code",
   "execution_count": 7,
   "id": "fd40c5c1-6d79-4bb0-87bd-18c9053af24b",
   "metadata": {},
   "outputs": [
    {
     "data": {
      "text/plain": [
       "'2025-05-14'"
      ]
     },
     "execution_count": 7,
     "metadata": {},
     "output_type": "execute_result"
    }
   ],
   "source": [
    "analysis_date"
   ]
  },
  {
   "cell_type": "code",
   "execution_count": 8,
   "id": "fe9470ff-40a3-40d0-aaed-913784f105ac",
   "metadata": {},
   "outputs": [],
   "source": [
    "stop_times = helpers.import_scheduled_stop_times(\n",
    "    analysis_date,\n",
    "    get_pandas = True,\n",
    ")"
   ]
  },
  {
   "cell_type": "code",
   "execution_count": 9,
   "id": "5fb68a8a-fc8c-44a9-815b-4bd279ae28e7",
   "metadata": {},
   "outputs": [],
   "source": [
    "stop_times = casf.add_route_dir(stop_times, analysis_date)"
   ]
  },
  {
   "cell_type": "code",
   "execution_count": 10,
   "id": "f5be9fd7-63c6-40ca-b22e-6d08793763dd",
   "metadata": {},
   "outputs": [
    {
     "name": "stderr",
     "output_type": "stream",
     "text": [
      "/opt/conda/lib/python3.11/site-packages/pandas/core/tools/datetimes.py:557: RuntimeWarning: invalid value encountered in cast\n",
      "  arr, tz_parsed = tslib.array_with_unit_to_datetime(arg, unit, errors=errors)\n"
     ]
    }
   ],
   "source": [
    "st_prepped = stop_times.pipe(casf.prep_stop_times)"
   ]
  },
  {
   "cell_type": "markdown",
   "id": "992939ec-f8d1-4a85-b316-b6008fb476bb",
   "metadata": {
    "tags": []
   },
   "source": [
    "## HCD Y-Branching\n",
    "\n",
    "* combine single route frequencies with collinearity screen...\n",
    "* actually, these routes need to pass _both_ a collinearity screen and a non-collinearity screen: 8+ stops shared and also 8+ stops not shared (meaningful service on all 3 legs of the Y)"
   ]
  },
  {
   "cell_type": "code",
   "execution_count": 22,
   "id": "72078a65-76a8-436f-9858-6523d9280688",
   "metadata": {
    "tags": []
   },
   "outputs": [],
   "source": [
    "max_arrivals_by_stop_single = st_prepped.pipe(casf.stop_times_aggregation_max_by_stop, analysis_date, single_route_dir=True)\n",
    "max_arrivals_by_stop_multi = st_prepped.pipe(casf.stop_times_aggregation_max_by_stop, analysis_date, single_route_dir=False)"
   ]
  },
  {
   "cell_type": "code",
   "execution_count": 23,
   "id": "4a1173a5-5b28-4022-9706-f0421a523f90",
   "metadata": {
    "tags": []
   },
   "outputs": [],
   "source": [
    "multi_only_explode = casf.get_explode_multiroute_only(max_arrivals_by_stop_single, max_arrivals_by_stop_multi, (HQ_TRANSIT_THRESHOLD, MS_TRANSIT_THRESHOLD))"
   ]
  },
  {
   "cell_type": "code",
   "execution_count": 24,
   "id": "8bd09371-888e-4e0a-bd37-a4e12ffa8df6",
   "metadata": {
    "tags": []
   },
   "outputs": [
    {
     "data": {
      "text/html": [
       "<div>\n",
       "<style scoped>\n",
       "    .dataframe tbody tr th:only-of-type {\n",
       "        vertical-align: middle;\n",
       "    }\n",
       "\n",
       "    .dataframe tbody tr th {\n",
       "        vertical-align: top;\n",
       "    }\n",
       "\n",
       "    .dataframe thead th {\n",
       "        text-align: right;\n",
       "    }\n",
       "</style>\n",
       "<table border=\"1\" class=\"dataframe\">\n",
       "  <thead>\n",
       "    <tr style=\"text-align: right;\">\n",
       "      <th></th>\n",
       "      <th>schedule_gtfs_dataset_key</th>\n",
       "      <th>stop_id</th>\n",
       "      <th>route_dir</th>\n",
       "    </tr>\n",
       "  </thead>\n",
       "  <tbody>\n",
       "    <tr>\n",
       "      <th>0</th>\n",
       "      <td>0139b1253130b33adcd4b3a4490530d2</td>\n",
       "      <td>0a2a817a-d35d-434d-b039-6a78d79d7602</td>\n",
       "      <td>91673676-969b-4c0a-a233-158c98c522dc_0</td>\n",
       "    </tr>\n",
       "    <tr>\n",
       "      <th>1</th>\n",
       "      <td>0139b1253130b33adcd4b3a4490530d2</td>\n",
       "      <td>0a2a817a-d35d-434d-b039-6a78d79d7602</td>\n",
       "      <td>T6_0</td>\n",
       "    </tr>\n",
       "    <tr>\n",
       "      <th>2</th>\n",
       "      <td>0139b1253130b33adcd4b3a4490530d2</td>\n",
       "      <td>52c2636c-34a3-434c-99ae-cdf3dc36d15c</td>\n",
       "      <td>T11x_0</td>\n",
       "    </tr>\n",
       "  </tbody>\n",
       "</table>\n",
       "</div>"
      ],
      "text/plain": [
       "          schedule_gtfs_dataset_key                               stop_id  \\\n",
       "0  0139b1253130b33adcd4b3a4490530d2  0a2a817a-d35d-434d-b039-6a78d79d7602   \n",
       "1  0139b1253130b33adcd4b3a4490530d2  0a2a817a-d35d-434d-b039-6a78d79d7602   \n",
       "2  0139b1253130b33adcd4b3a4490530d2  52c2636c-34a3-434c-99ae-cdf3dc36d15c   \n",
       "\n",
       "                                route_dir  \n",
       "0  91673676-969b-4c0a-a233-158c98c522dc_0  \n",
       "1                                    T6_0  \n",
       "2                                  T11x_0  "
      ]
     },
     "execution_count": 24,
     "metadata": {},
     "output_type": "execute_result"
    }
   ],
   "source": [
    "multi_only_explode.head(3)"
   ]
  },
  {
   "cell_type": "code",
   "execution_count": 27,
   "id": "575aa372-8139-47c9-b8c0-51454f8ae401",
   "metadata": {
    "tags": []
   },
   "outputs": [],
   "source": [
    "def get_explode_singles(\n",
    "    single_route_aggregation: pd.DataFrame,\n",
    "    frequency_thresholds: tuple\n",
    ") -> pd.DataFrame:\n",
    "    ms_precursor_threshold = min(frequency_thresholds)\n",
    "    single_qual = (single_route_aggregation.query('am_max_trips_hr >= @ms_precursor_threshold & pm_max_trips_hr >= @ms_precursor_threshold')\n",
    "                   .explode('route_dir')\n",
    "                   .sort_values(['schedule_gtfs_dataset_key','stop_id', 'route_dir'])[['schedule_gtfs_dataset_key','stop_id', 'route_dir']]\n",
    "                  )\n",
    "    return single_qual"
   ]
  },
  {
   "cell_type": "code",
   "execution_count": 30,
   "id": "9ddfae70-42db-43fb-bcfc-3e78e2374895",
   "metadata": {
    "tags": []
   },
   "outputs": [],
   "source": [
    "singles_explode = get_explode_singles(single_frequencies, (HQ_TRANSIT_THRESHOLD, MS_TRANSIT_THRESHOLD)).explode('route_dir')"
   ]
  },
  {
   "cell_type": "code",
   "execution_count": 32,
   "id": "f98731e5-f6b3-4444-bc7c-ac485cd97c13",
   "metadata": {
    "tags": []
   },
   "outputs": [],
   "source": [
    "from tqdm import tqdm\n",
    "tqdm.pandas()"
   ]
  },
  {
   "cell_type": "code",
   "execution_count": 66,
   "id": "637adaa9-b086-410c-b3ca-72529e4e0301",
   "metadata": {
    "tags": []
   },
   "outputs": [],
   "source": [
    "share_counts = {}"
   ]
  },
  {
   "cell_type": "code",
   "execution_count": 67,
   "id": "f6c4bf86-3091-47c7-b80c-e4af22c9a484",
   "metadata": {
    "tags": []
   },
   "outputs": [
    {
     "name": "stderr",
     "output_type": "stream",
     "text": [
      "100%|██████████| 19059/19059 [00:03<00:00, 5101.06it/s]\n"
     ]
    },
    {
     "data": {
      "text/html": [
       "<div>\n",
       "<style scoped>\n",
       "    .dataframe tbody tr th:only-of-type {\n",
       "        vertical-align: middle;\n",
       "    }\n",
       "\n",
       "    .dataframe tbody tr th {\n",
       "        vertical-align: top;\n",
       "    }\n",
       "\n",
       "    .dataframe thead th {\n",
       "        text-align: right;\n",
       "    }\n",
       "</style>\n",
       "<table border=\"1\" class=\"dataframe\">\n",
       "  <thead>\n",
       "    <tr style=\"text-align: right;\">\n",
       "      <th></th>\n",
       "    </tr>\n",
       "  </thead>\n",
       "  <tbody>\n",
       "  </tbody>\n",
       "</table>\n",
       "</div>"
      ],
      "text/plain": [
       "Empty DataFrame\n",
       "Columns: []\n",
       "Index: []"
      ]
     },
     "execution_count": 67,
     "metadata": {},
     "output_type": "execute_result"
    }
   ],
   "source": [
    "singles_explode.groupby(['schedule_gtfs_dataset_key', 'stop_id']).progress_apply(casf.accumulate_share_count, share_counts=share_counts)"
   ]
  },
  {
   "cell_type": "code",
   "execution_count": 68,
   "id": "586118d7-55bb-4991-a048-e18f0d9fa163",
   "metadata": {
    "tags": []
   },
   "outputs": [],
   "source": [
    "qualify_dict = {key: share_counts[key] for key in share_counts.keys() if share_counts[key] >= SHARED_STOP_THRESHOLD}"
   ]
  },
  {
   "cell_type": "code",
   "execution_count": 69,
   "id": "180bb507-63b6-49ce-94be-5de7d5a46601",
   "metadata": {
    "tags": []
   },
   "outputs": [
    {
     "data": {
      "text/plain": [
       "True     60\n",
       "False    16\n",
       "Name: stop_id, dtype: int64"
      ]
     },
     "execution_count": 69,
     "metadata": {},
     "output_type": "execute_result"
    }
   ],
   "source": [
    "(singles_explode.query('route_dir.isin([\"20-13191_1\", \"720-13191_1\"])').stop_id.value_counts() == 1).value_counts()\n",
    "#  True: unshared stop count False: shared stop count"
   ]
  },
  {
   "cell_type": "markdown",
   "id": "0907af24-134b-4e6d-82ac-bc74b96cf207",
   "metadata": {},
   "source": [
    "* local/rapid overlap, there are many unshared stops but that does not offer riders meaningful choice (still a spatial subset)\n",
    "* need a spatial methodology here..."
   ]
  },
  {
   "cell_type": "code",
   "execution_count": 76,
   "id": "e7ee8055-a693-458c-9a16-ec88d729c34e",
   "metadata": {
    "tags": []
   },
   "outputs": [],
   "source": [
    "schedule_gtfs_datasets_to_analyze = np.unique([key.split('__')[0] for key in qualify_dict.keys()])"
   ]
  },
  {
   "cell_type": "code",
   "execution_count": 79,
   "id": "130c2ff7-801a-4fc3-8dc8-285bbcd6979a",
   "metadata": {
    "tags": []
   },
   "outputs": [
    {
     "data": {
      "text/plain": [
       "array(['0666caf3ec1ecc96b74f4477ee4bc939',\n",
       "       '3364ec074ca85001da3abd78be2ae521',\n",
       "       '3c275e5acf8974e1afd765bd3011424c',\n",
       "       '4b317fc27dde351e12253d46cedd8df0',\n",
       "       '7cc0cb1871dfd558f11a2885c145d144',\n",
       "       'c499f905e33929a641f083dad55c521e',\n",
       "       'ecd018ad66f497fb8f188ed5a71b284b',\n",
       "       'fb467982dcc77a7f9199bebe709bb700'], dtype='<U32')"
      ]
     },
     "execution_count": 79,
     "metadata": {},
     "output_type": "execute_result"
    }
   ],
   "source": [
    "schedule_gtfs_datasets_to_analyze"
   ]
  },
  {
   "cell_type": "code",
   "execution_count": 83,
   "id": "1a810611-6ac0-4a78-bade-b6be69afb03b",
   "metadata": {
    "tags": []
   },
   "outputs": [
    {
     "data": {
      "text/plain": [
       "\u001b[0;31mSignature:\u001b[0m\n",
       "\u001b[0mhelpers\u001b[0m\u001b[0;34m.\u001b[0m\u001b[0mimport_scheduled_shapes\u001b[0m\u001b[0;34m(\u001b[0m\u001b[0;34m\u001b[0m\n",
       "\u001b[0;34m\u001b[0m    \u001b[0manalysis_date\u001b[0m\u001b[0;34m:\u001b[0m \u001b[0mstr\u001b[0m\u001b[0;34m,\u001b[0m\u001b[0;34m\u001b[0m\n",
       "\u001b[0;34m\u001b[0m    \u001b[0mfilters\u001b[0m\u001b[0;34m:\u001b[0m \u001b[0mtuple\u001b[0m \u001b[0;34m=\u001b[0m \u001b[0;32mNone\u001b[0m\u001b[0;34m,\u001b[0m\u001b[0;34m\u001b[0m\n",
       "\u001b[0;34m\u001b[0m    \u001b[0mcolumns\u001b[0m\u001b[0;34m:\u001b[0m \u001b[0mlist\u001b[0m \u001b[0;34m=\u001b[0m \u001b[0;34m[\u001b[0m\u001b[0;34m'shape_array_key'\u001b[0m\u001b[0;34m,\u001b[0m \u001b[0;34m'geometry'\u001b[0m\u001b[0;34m]\u001b[0m\u001b[0;34m,\u001b[0m\u001b[0;34m\u001b[0m\n",
       "\u001b[0;34m\u001b[0m    \u001b[0mget_pandas\u001b[0m\u001b[0;34m:\u001b[0m \u001b[0mbool\u001b[0m \u001b[0;34m=\u001b[0m \u001b[0;32mTrue\u001b[0m\u001b[0;34m,\u001b[0m\u001b[0;34m\u001b[0m\n",
       "\u001b[0;34m\u001b[0m    \u001b[0mcrs\u001b[0m\u001b[0;34m:\u001b[0m \u001b[0mstr\u001b[0m \u001b[0;34m=\u001b[0m \u001b[0;34m'EPSG:3310'\u001b[0m\u001b[0;34m,\u001b[0m\u001b[0;34m\u001b[0m\n",
       "\u001b[0;34m\u001b[0m\u001b[0;34m)\u001b[0m \u001b[0;34m->\u001b[0m \u001b[0mUnion\u001b[0m\u001b[0;34m[\u001b[0m\u001b[0mgeopandas\u001b[0m\u001b[0;34m.\u001b[0m\u001b[0mgeodataframe\u001b[0m\u001b[0;34m.\u001b[0m\u001b[0mGeoDataFrame\u001b[0m\u001b[0;34m,\u001b[0m \u001b[0mdask_geopandas\u001b[0m\u001b[0;34m.\u001b[0m\u001b[0mcore\u001b[0m\u001b[0;34m.\u001b[0m\u001b[0mGeoDataFrame\u001b[0m\u001b[0;34m]\u001b[0m\u001b[0;34m\u001b[0m\u001b[0;34m\u001b[0m\u001b[0m\n",
       "\u001b[0;31mDocstring:\u001b[0m Import shapes.\n",
       "\u001b[0;31mFile:\u001b[0m      ~/data-analyses/rt_segment_speeds/segment_speed_utils/helpers.py\n",
       "\u001b[0;31mType:\u001b[0m      function"
      ]
     },
     "metadata": {},
     "output_type": "display_data"
    }
   ],
   "source": [
    "helpers.import_scheduled_shapes?"
   ]
  },
  {
   "cell_type": "code",
   "execution_count": 85,
   "id": "eedff26a-6acf-4dac-ba7c-12ff7ae1d9b1",
   "metadata": {
    "tags": []
   },
   "outputs": [],
   "source": [
    "shapes = helpers.import_scheduled_shapes(analysis_date, columns=['shape_array_key', 'geometry'])"
   ]
  },
  {
   "cell_type": "code",
   "execution_count": 87,
   "id": "7c626026-d220-453c-9d09-763da674ec77",
   "metadata": {
    "tags": []
   },
   "outputs": [],
   "source": [
    "trips = helpers.import_scheduled_trips(analysis_date)"
   ]
  },
  {
   "cell_type": "code",
   "execution_count": 89,
   "id": "d005857b-6d43-4cee-b98d-5b7e86fb8151",
   "metadata": {
    "tags": []
   },
   "outputs": [
    {
     "data": {
      "text/html": [
       "<div>\n",
       "<style scoped>\n",
       "    .dataframe tbody tr th:only-of-type {\n",
       "        vertical-align: middle;\n",
       "    }\n",
       "\n",
       "    .dataframe tbody tr th {\n",
       "        vertical-align: top;\n",
       "    }\n",
       "\n",
       "    .dataframe thead th {\n",
       "        text-align: right;\n",
       "    }\n",
       "</style>\n",
       "<table border=\"1\" class=\"dataframe\">\n",
       "  <thead>\n",
       "    <tr style=\"text-align: right;\">\n",
       "      <th></th>\n",
       "      <th>schedule_gtfs_dataset_key</th>\n",
       "      <th>name</th>\n",
       "      <th>trip_id</th>\n",
       "      <th>shape_id</th>\n",
       "      <th>shape_array_key</th>\n",
       "      <th>route_id</th>\n",
       "      <th>route_key</th>\n",
       "      <th>direction_id</th>\n",
       "      <th>route_short_name</th>\n",
       "    </tr>\n",
       "  </thead>\n",
       "  <tbody>\n",
       "    <tr>\n",
       "      <th>0</th>\n",
       "      <td>ff1bc5dde661d62c877165421e9ca257</td>\n",
       "      <td>Santa Ynez Mecatran Schedule</td>\n",
       "      <td>ROUTEA|26003877:T16|17:00:00</td>\n",
       "      <td>ROUTEA:1</td>\n",
       "      <td>ba339972a6377bba13eeca823020f72c</td>\n",
       "      <td>ROUTEA</td>\n",
       "      <td>557edcb059df0484c78588ce8591481e</td>\n",
       "      <td>0.0</td>\n",
       "      <td>None</td>\n",
       "    </tr>\n",
       "    <tr>\n",
       "      <th>1</th>\n",
       "      <td>ff1bc5dde661d62c877165421e9ca257</td>\n",
       "      <td>Santa Ynez Mecatran Schedule</td>\n",
       "      <td>ROUTEA|26003877:T9|12:20:00</td>\n",
       "      <td>ROUTEA:1</td>\n",
       "      <td>ba339972a6377bba13eeca823020f72c</td>\n",
       "      <td>ROUTEA</td>\n",
       "      <td>557edcb059df0484c78588ce8591481e</td>\n",
       "      <td>0.0</td>\n",
       "      <td>None</td>\n",
       "    </tr>\n",
       "    <tr>\n",
       "      <th>2</th>\n",
       "      <td>ff1bc5dde661d62c877165421e9ca257</td>\n",
       "      <td>Santa Ynez Mecatran Schedule</td>\n",
       "      <td>ROUTEA|26003877:T7|11:10:00</td>\n",
       "      <td>ROUTEA:1</td>\n",
       "      <td>ba339972a6377bba13eeca823020f72c</td>\n",
       "      <td>ROUTEA</td>\n",
       "      <td>557edcb059df0484c78588ce8591481e</td>\n",
       "      <td>0.0</td>\n",
       "      <td>None</td>\n",
       "    </tr>\n",
       "  </tbody>\n",
       "</table>\n",
       "</div>"
      ],
      "text/plain": [
       "          schedule_gtfs_dataset_key                          name  \\\n",
       "0  ff1bc5dde661d62c877165421e9ca257  Santa Ynez Mecatran Schedule   \n",
       "1  ff1bc5dde661d62c877165421e9ca257  Santa Ynez Mecatran Schedule   \n",
       "2  ff1bc5dde661d62c877165421e9ca257  Santa Ynez Mecatran Schedule   \n",
       "\n",
       "                        trip_id  shape_id                   shape_array_key  \\\n",
       "0  ROUTEA|26003877:T16|17:00:00  ROUTEA:1  ba339972a6377bba13eeca823020f72c   \n",
       "1   ROUTEA|26003877:T9|12:20:00  ROUTEA:1  ba339972a6377bba13eeca823020f72c   \n",
       "2   ROUTEA|26003877:T7|11:10:00  ROUTEA:1  ba339972a6377bba13eeca823020f72c   \n",
       "\n",
       "  route_id                         route_key  direction_id route_short_name  \n",
       "0   ROUTEA  557edcb059df0484c78588ce8591481e           0.0             None  \n",
       "1   ROUTEA  557edcb059df0484c78588ce8591481e           0.0             None  \n",
       "2   ROUTEA  557edcb059df0484c78588ce8591481e           0.0             None  "
      ]
     },
     "execution_count": 89,
     "metadata": {},
     "output_type": "execute_result"
    }
   ],
   "source": [
    "trips.head(3)"
   ]
  },
  {
   "cell_type": "markdown",
   "id": "66e47d0c-4539-40ea-aca8-4d908d802be0",
   "metadata": {},
   "source": [
    "* dissolve shapes by route+dir, pick longest\n",
    "* also try  dissolve shapes by route+dir, dissolve\n",
    "* find non-overlap by previously qualifying pair"
   ]
  }
 ],
 "metadata": {
  "kernelspec": {
   "display_name": "Python 3 (ipykernel)",
   "language": "python",
   "name": "python3"
  },
  "language_info": {
   "codemirror_mode": {
    "name": "ipython",
    "version": 3
   },
   "file_extension": ".py",
   "mimetype": "text/x-python",
   "name": "python",
   "nbconvert_exporter": "python",
   "pygments_lexer": "ipython3",
   "version": "3.11.10"
  },
  "widgets": {
   "application/vnd.jupyter.widget-state+json": {
    "state": {},
    "version_major": 2,
    "version_minor": 0
   }
  }
 },
 "nbformat": 4,
 "nbformat_minor": 5
}
