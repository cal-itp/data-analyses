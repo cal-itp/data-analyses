{
 "cells": [
  {
   "cell_type": "code",
   "execution_count": 1,
   "id": "38262382-8e2c-4eb9-86ce-aa4aa251d6d4",
   "metadata": {},
   "outputs": [],
   "source": [
    "import os\n",
    "os.environ[\"CALITP_BQ_MAX_BYTES\"] = str(1_000_000_000_000) ## 1TB?"
   ]
  },
  {
   "cell_type": "code",
   "execution_count": 2,
   "id": "5bbd8694-444f-48c0-89a0-00c5c0e542c8",
   "metadata": {},
   "outputs": [],
   "source": [
    "import geopandas as gpd\n",
    "import pandas as pd\n",
    "from siuba import *\n",
    "import numpy as np\n",
    "\n",
    "from segment_speed_utils import helpers\n",
    "\n",
    "import sys\n",
    "sys.path.append('./scripts/')"
   ]
  },
  {
   "cell_type": "code",
   "execution_count": 3,
   "id": "994a67bc-1cbe-4477-ac3b-cbe0f7e4822e",
   "metadata": {},
   "outputs": [],
   "source": [
    "from update_vars import (analysis_date, EXPORT_PATH, GCS_FILE_PATH, PROJECT_CRS,\n",
    "SEGMENT_BUFFER_METERS, HQ_TRANSIT_THRESHOLD, MS_TRANSIT_THRESHOLD, SHARED_STOP_THRESHOLD,\n",
    "                        HALF_MILE_BUFFER_METERS)"
   ]
  },
  {
   "cell_type": "code",
   "execution_count": 4,
   "id": "4706f9e9-03d9-49d7-9b3a-d5044018127e",
   "metadata": {},
   "outputs": [],
   "source": [
    "import create_aggregate_stop_frequencies as casf"
   ]
  },
  {
   "cell_type": "code",
   "execution_count": 5,
   "id": "f494bb98-09d9-472c-882c-158c35d391f4",
   "metadata": {},
   "outputs": [
    {
     "data": {
      "text/plain": [
       "<module 'create_aggregate_stop_frequencies' from '/home/jovyan/data-analyses/high_quality_transit_areas/./scripts/create_aggregate_stop_frequencies.py'>"
      ]
     },
     "execution_count": 5,
     "metadata": {},
     "output_type": "execute_result"
    }
   ],
   "source": [
    "import importlib\n",
    "importlib.reload(casf)"
   ]
  },
  {
   "cell_type": "code",
   "execution_count": 6,
   "id": "fd40c5c1-6d79-4bb0-87bd-18c9053af24b",
   "metadata": {},
   "outputs": [
    {
     "data": {
      "text/plain": [
       "'2025-05-14'"
      ]
     },
     "execution_count": 6,
     "metadata": {},
     "output_type": "execute_result"
    }
   ],
   "source": [
    "analysis_date"
   ]
  },
  {
   "cell_type": "code",
   "execution_count": 7,
   "id": "deebc0bd-3c5e-4256-babd-da7e200673b0",
   "metadata": {},
   "outputs": [
    {
     "name": "stderr",
     "output_type": "stream",
     "text": [
      "/opt/conda/lib/python3.11/site-packages/pandas/core/tools/datetimes.py:557: RuntimeWarning: invalid value encountered in cast\n",
      "  arr, tz_parsed = tslib.array_with_unit_to_datetime(arg, unit, errors=errors)\n"
     ]
    }
   ],
   "source": [
    "stop_times = helpers.import_scheduled_stop_times(\n",
    "    analysis_date,\n",
    "    get_pandas = True,\n",
    ")\n",
    "\n",
    "stop_times = casf.add_route_dir(stop_times, analysis_date)\n",
    "\n",
    "st_prepped = stop_times.pipe(casf.prep_stop_times)"
   ]
  },
  {
   "cell_type": "markdown",
   "id": "992939ec-f8d1-4a85-b316-b6008fb476bb",
   "metadata": {
    "tags": []
   },
   "source": [
    "## HCD Y-Branching\n",
    "\n",
    "* combine single route frequencies with collinearity screen...\n",
    "* actually, these routes need to pass _both_ a collinearity screen and a non-collinearity screen: 8+ stops shared and also 8+ stops not shared (meaningful service on all 3 legs of the Y)"
   ]
  },
  {
   "cell_type": "code",
   "execution_count": 8,
   "id": "72078a65-76a8-436f-9858-6523d9280688",
   "metadata": {
    "tags": []
   },
   "outputs": [],
   "source": [
    "max_arrivals_by_stop_single = st_prepped.pipe(casf.stop_times_aggregation_max_by_stop, analysis_date, single_route_dir=True)"
   ]
  },
  {
   "cell_type": "code",
   "execution_count": 9,
   "id": "575aa372-8139-47c9-b8c0-51454f8ae401",
   "metadata": {
    "tags": []
   },
   "outputs": [],
   "source": [
    "def get_explode_singles(\n",
    "    single_route_aggregation: pd.DataFrame,\n",
    "    ms_precursor_threshold: int | float\n",
    ") -> pd.DataFrame:\n",
    "    single_qual = (single_route_aggregation.query('am_max_trips_hr >= @ms_precursor_threshold & pm_max_trips_hr >= @ms_precursor_threshold')\n",
    "                   .explode('route_dir')\n",
    "                   .sort_values(['schedule_gtfs_dataset_key','stop_id', 'route_dir'])[['schedule_gtfs_dataset_key','stop_id', 'route_dir']]\n",
    "                  )\n",
    "    return single_qual"
   ]
  },
  {
   "cell_type": "code",
   "execution_count": 10,
   "id": "9ddfae70-42db-43fb-bcfc-3e78e2374895",
   "metadata": {
    "tags": []
   },
   "outputs": [],
   "source": [
    "singles_explode = get_explode_singles(max_arrivals_by_stop_single, MS_TRANSIT_THRESHOLD).explode('route_dir')"
   ]
  },
  {
   "cell_type": "code",
   "execution_count": 11,
   "id": "f98731e5-f6b3-4444-bc7c-ac485cd97c13",
   "metadata": {
    "tags": []
   },
   "outputs": [],
   "source": [
    "from tqdm import tqdm\n",
    "tqdm.pandas()"
   ]
  },
  {
   "cell_type": "code",
   "execution_count": 12,
   "id": "aaf7e37f-e897-4f8e-a64d-29fef518790a",
   "metadata": {
    "tags": []
   },
   "outputs": [
    {
     "name": "stderr",
     "output_type": "stream",
     "text": [
      "100%|██████████| 19059/19059 [00:02<00:00, 6753.02it/s]\n"
     ]
    },
    {
     "data": {
      "text/html": [
       "<div>\n",
       "<style scoped>\n",
       "    .dataframe tbody tr th:only-of-type {\n",
       "        vertical-align: middle;\n",
       "    }\n",
       "\n",
       "    .dataframe tbody tr th {\n",
       "        vertical-align: top;\n",
       "    }\n",
       "\n",
       "    .dataframe thead th {\n",
       "        text-align: right;\n",
       "    }\n",
       "</style>\n",
       "<table border=\"1\" class=\"dataframe\">\n",
       "  <thead>\n",
       "    <tr style=\"text-align: right;\">\n",
       "      <th></th>\n",
       "    </tr>\n",
       "  </thead>\n",
       "  <tbody>\n",
       "  </tbody>\n",
       "</table>\n",
       "</div>"
      ],
      "text/plain": [
       "Empty DataFrame\n",
       "Columns: []\n",
       "Index: []"
      ]
     },
     "execution_count": 12,
     "metadata": {},
     "output_type": "execute_result"
    }
   ],
   "source": [
    "share_counts = {}\n",
    "singles_explode.groupby(['schedule_gtfs_dataset_key', 'stop_id']).progress_apply(casf.accumulate_share_count, share_counts=share_counts)"
   ]
  },
  {
   "cell_type": "code",
   "execution_count": 13,
   "id": "eb924ae8-830b-465b-9279-8e05ab32b6ef",
   "metadata": {
    "tags": []
   },
   "outputs": [
    {
     "data": {
      "text/plain": [
       "8"
      ]
     },
     "execution_count": 13,
     "metadata": {},
     "output_type": "execute_result"
    }
   ],
   "source": [
    "SHARED_STOP_THRESHOLD"
   ]
  },
  {
   "cell_type": "code",
   "execution_count": 14,
   "id": "3ed2c8f1-86d5-4348-8691-bbea9ab0c8f3",
   "metadata": {
    "tags": []
   },
   "outputs": [],
   "source": [
    "qualify_dict = {key: share_counts[key] for key in share_counts.keys() if share_counts[key] >= SHARED_STOP_THRESHOLD}\n",
    "feeds_to_filter = np.unique([key.split('__')[0] for key in qualify_dict.keys()])"
   ]
  },
  {
   "cell_type": "code",
   "execution_count": 15,
   "id": "130c2ff7-801a-4fc3-8dc8-285bbcd6979a",
   "metadata": {
    "tags": []
   },
   "outputs": [
    {
     "data": {
      "text/plain": [
       "array(['0666caf3ec1ecc96b74f4477ee4bc939',\n",
       "       '3364ec074ca85001da3abd78be2ae521',\n",
       "       '3c275e5acf8974e1afd765bd3011424c',\n",
       "       '4b317fc27dde351e12253d46cedd8df0',\n",
       "       '7cc0cb1871dfd558f11a2885c145d144',\n",
       "       'c499f905e33929a641f083dad55c521e',\n",
       "       'ecd018ad66f497fb8f188ed5a71b284b',\n",
       "       'fb467982dcc77a7f9199bebe709bb700'], dtype='<U32')"
      ]
     },
     "execution_count": 15,
     "metadata": {},
     "output_type": "execute_result"
    }
   ],
   "source": [
    "feeds_to_filter"
   ]
  },
  {
   "cell_type": "code",
   "execution_count": 16,
   "id": "9e326a6d-d134-4324-8b79-e5542a9c2329",
   "metadata": {
    "tags": []
   },
   "outputs": [],
   "source": [
    "## TODO integrate into script\n",
    "\n",
    "def get_trips_with_route_dir(analysis_date):\n",
    "    trips = helpers.import_scheduled_trips(\n",
    "    analysis_date,\n",
    "    columns = [\"feed_key\", \"gtfs_dataset_key\", \"trip_id\",\n",
    "               \"route_id\", \"direction_id\", \"route_type\",\n",
    "              \"shape_array_key\", \"route_short_name\", \"name\"],\n",
    "    get_pandas = True\n",
    "    )\n",
    "    trips = trips[trips['route_type'].isin(['3', '11'])] #  bus only\n",
    "\n",
    "    trips.direction_id = trips.direction_id.fillna(0).astype(int).astype(str)\n",
    "    trips['route_dir'] = trips[['route_id', 'direction_id']].agg('_'.join, axis=1)\n",
    "    \n",
    "    return trips"
   ]
  },
  {
   "cell_type": "code",
   "execution_count": 17,
   "id": "ef9f1680-ee12-4dd6-8074-bff55230762e",
   "metadata": {
    "tags": []
   },
   "outputs": [],
   "source": [
    "shapes = helpers.import_scheduled_shapes(analysis_date, columns=['shape_array_key', 'geometry'])\n",
    "trips = (get_trips_with_route_dir(analysis_date)\n",
    "         .query(\"schedule_gtfs_dataset_key.isin(@feeds_to_filter)\")\n",
    "         .drop_duplicates(subset=['schedule_gtfs_dataset_key', 'shape_array_key', 'route_dir'])\n",
    "        )\n",
    "feeds = trips[['feed_key', 'schedule_gtfs_dataset_key']].drop_duplicates()\n",
    "stops = helpers.import_scheduled_stops(analysis_date, columns=['feed_key', 'stop_id', 'geometry'])"
   ]
  },
  {
   "cell_type": "markdown",
   "id": "66e47d0c-4539-40ea-aca8-4d908d802be0",
   "metadata": {},
   "source": [
    "* dissolve shapes by route+dir, pick longest\n",
    "* also try  dissolve shapes by route+dir, dissolve\n",
    "* find non-overlap by previously qualifying pair"
   ]
  },
  {
   "cell_type": "code",
   "execution_count": 18,
   "id": "5a5fa1fb-74b0-438c-bcec-db7e3ba9c762",
   "metadata": {
    "tags": []
   },
   "outputs": [],
   "source": [
    "shapes = shapes.merge(trips, on='shape_array_key')\n",
    "shapes = shapes.assign(length = shapes.geometry.length)"
   ]
  },
  {
   "cell_type": "code",
   "execution_count": 19,
   "id": "5ba1e90d-2106-45a0-b58d-89ba5492eed2",
   "metadata": {
    "tags": []
   },
   "outputs": [],
   "source": [
    "BRANCHING_OVERLAY_BUFFER = 20\n",
    "AREA_MULTIPLIER = BRANCHING_OVERLAY_BUFFER * 2\n",
    "\n",
    "TARGET_METERS_DIFFERENCE = 5000 #  5km per route\n",
    "TARGET_AREA_DIFFERENCE = TARGET_METERS_DIFFERENCE * AREA_MULTIPLIER"
   ]
  },
  {
   "cell_type": "code",
   "execution_count": 20,
   "id": "df99de98-1545-4bdd-907d-4ad06ec78860",
   "metadata": {
    "tags": []
   },
   "outputs": [],
   "source": [
    "shapes.geometry = shapes.buffer(BRANCHING_OVERLAY_BUFFER)\n",
    "shapes = shapes.assign(area = shapes.geometry.map(lambda x: x.area))"
   ]
  },
  {
   "cell_type": "code",
   "execution_count": 21,
   "id": "4585d429-7a6a-40cd-bc7b-dd2daed75cfb",
   "metadata": {
    "tags": []
   },
   "outputs": [],
   "source": [
    "max_by_route_dir = shapes.groupby(['schedule_gtfs_dataset_key', 'route_dir']).length.max().reset_index()\n",
    "shapes = (shapes.merge(max_by_route_dir, on = ['schedule_gtfs_dataset_key', 'route_dir', 'length'])\n",
    "          .drop_duplicates(subset = ['schedule_gtfs_dataset_key', 'route_dir', 'length'])\n",
    "         )"
   ]
  },
  {
   "cell_type": "code",
   "execution_count": 22,
   "id": "95b0d0d4-6e62-45ca-ba16-a3f97eeea1fc",
   "metadata": {
    "tags": []
   },
   "outputs": [],
   "source": [
    "# shapes.explore(column='length')"
   ]
  },
  {
   "cell_type": "code",
   "execution_count": 23,
   "id": "8409ac49-ea74-4c67-980e-a6dfe4ba9bd2",
   "metadata": {
    "tags": []
   },
   "outputs": [
    {
     "data": {
      "text/plain": [
       "array(['0666caf3ec1ecc96b74f4477ee4bc939',\n",
       "       '3364ec074ca85001da3abd78be2ae521',\n",
       "       '3c275e5acf8974e1afd765bd3011424c',\n",
       "       '4b317fc27dde351e12253d46cedd8df0',\n",
       "       '7cc0cb1871dfd558f11a2885c145d144',\n",
       "       'c499f905e33929a641f083dad55c521e',\n",
       "       'ecd018ad66f497fb8f188ed5a71b284b',\n",
       "       'fb467982dcc77a7f9199bebe709bb700'], dtype='<U32')"
      ]
     },
     "execution_count": 23,
     "metadata": {},
     "output_type": "execute_result"
    }
   ],
   "source": [
    "feeds_to_filter"
   ]
  },
  {
   "cell_type": "code",
   "execution_count": 24,
   "id": "7197bbed-ce58-4164-a8e5-1477eb2304cc",
   "metadata": {
    "tags": []
   },
   "outputs": [
    {
     "data": {
      "text/plain": [
       "'0666caf3ec1ecc96b74f4477ee4bc939'"
      ]
     },
     "execution_count": 24,
     "metadata": {},
     "output_type": "execute_result"
    }
   ],
   "source": [
    "# gtfs_dataset_key = feeds_to_filter[0]\n",
    "gtfs_dataset_key = feeds_to_filter[0]\n",
    "gtfs_dataset_key"
   ]
  },
  {
   "cell_type": "code",
   "execution_count": 25,
   "id": "e29b77e7-ab1e-4763-b530-7087ddde768b",
   "metadata": {
    "tags": []
   },
   "outputs": [],
   "source": [
    "def evaluate_overlaps(gtfs_dataset_key: str, show_map: bool = False) -> list:\n",
    "\n",
    "    this_feed_qual = {key.split(gtfs_dataset_key)[1][2:]:qualify_dict[key] for key in qualify_dict.keys() if key.split('__')[0] == gtfs_dataset_key}\n",
    "    qualify_pairs = [tuple(key.split('__')) for key in this_feed_qual.keys()]\n",
    "\n",
    "    qualify_sets = [set(x) for x in qualify_pairs]\n",
    "    qualify_sets = set(map(frozenset, qualify_sets))\n",
    "\n",
    "    unique_qualify_pairs_possible = [list(x) for x in qualify_sets]\n",
    "\n",
    "    ## TODO accumulate pairs after check...\n",
    "    unique_qualify_pairs = []\n",
    "    for pair in unique_qualify_pairs_possible:\n",
    "        print(f'{pair}...', end='')\n",
    "        these_shapes = shapes.query('route_dir.isin(@pair) & schedule_gtfs_dataset_key == @gtfs_dataset_key')\n",
    "        first_row = these_shapes.iloc[0:1][['schedule_gtfs_dataset_key', 'route_dir', 'shape_array_key', 'geometry']]\n",
    "        sym_diff = first_row.overlay(these_shapes.iloc[1:2][['route_dir', 'geometry']], how='symmetric_difference')\n",
    "        sym_diff = sym_diff.assign(area = sym_diff.geometry.map(lambda x: x.area),\n",
    "                              route_dir = sym_diff.route_dir_1.fillna(sym_diff.route_dir_2))\n",
    "        diff_area = sym_diff.area.sum()\n",
    "        area_ratios = (sym_diff.area / TARGET_AREA_DIFFERENCE)\n",
    "        if (sym_diff.area > TARGET_AREA_DIFFERENCE).all():\n",
    "            print(f'passed, {area_ratios[0]:.2f} and {area_ratios[1]:.2f} times area target')\n",
    "            m = these_shapes.explore(color='gray', tiles='CartoDB Positron')\n",
    "            if show_map: display(sym_diff.explore(column='route_dir', m=m, tiles='CartoDB Positron'))\n",
    "            unique_qualify_pairs += [pair]\n",
    "        else:\n",
    "            print(f'failed, {area_ratios[0]:.2f} and {area_ratios[1]:.2f} times area target')\n",
    "            if show_map: display(these_shapes.explore(column='route_dir', tiles='CartoDB Positron'))\n",
    "            \n",
    "    return unique_qualify_pairs"
   ]
  },
  {
   "cell_type": "code",
   "execution_count": 26,
   "id": "6c765caa-1e3a-4ac4-8267-a2c47e48f525",
   "metadata": {
    "tags": []
   },
   "outputs": [],
   "source": [
    "# unique_qualify_pairs = evaluate_overlaps(gtfs_dataset_key, show_map=True)"
   ]
  },
  {
   "cell_type": "markdown",
   "id": "f0ebe631-8fa9-4cc5-b178-01a3547ce918",
   "metadata": {},
   "source": [
    "## Adding stops"
   ]
  },
  {
   "cell_type": "code",
   "execution_count": 27,
   "id": "edac7544-60c8-419a-b326-c53eeb77f8d1",
   "metadata": {
    "tags": []
   },
   "outputs": [
    {
     "data": {
      "text/html": [
       "<div>\n",
       "<style scoped>\n",
       "    .dataframe tbody tr th:only-of-type {\n",
       "        vertical-align: middle;\n",
       "    }\n",
       "\n",
       "    .dataframe tbody tr th {\n",
       "        vertical-align: top;\n",
       "    }\n",
       "\n",
       "    .dataframe thead th {\n",
       "        text-align: right;\n",
       "    }\n",
       "</style>\n",
       "<table border=\"1\" class=\"dataframe\">\n",
       "  <thead>\n",
       "    <tr style=\"text-align: right;\">\n",
       "      <th></th>\n",
       "      <th>schedule_gtfs_dataset_key</th>\n",
       "      <th>stop_id</th>\n",
       "      <th>am_max_trips</th>\n",
       "      <th>route_dir</th>\n",
       "      <th>pm_max_trips</th>\n",
       "      <th>am_max_trips_hr</th>\n",
       "      <th>pm_max_trips_hr</th>\n",
       "      <th>n_trips</th>\n",
       "      <th>route_dir_count</th>\n",
       "    </tr>\n",
       "  </thead>\n",
       "  <tbody>\n",
       "    <tr>\n",
       "      <th>0</th>\n",
       "      <td>0139b1253130b33adcd4b3a4490530d2</td>\n",
       "      <td>00eb15cb-1430-4964-b8ae-ca6183e1d0ef</td>\n",
       "      <td>2</td>\n",
       "      <td>[D1_0]</td>\n",
       "      <td>4.0</td>\n",
       "      <td>0.67</td>\n",
       "      <td>1.00</td>\n",
       "      <td>6.0</td>\n",
       "      <td>1</td>\n",
       "    </tr>\n",
       "    <tr>\n",
       "      <th>1</th>\n",
       "      <td>0139b1253130b33adcd4b3a4490530d2</td>\n",
       "      <td>02a30e39-496f-45d4-ba1c-ac8f3c66b621</td>\n",
       "      <td>2</td>\n",
       "      <td>[0ad6c6aa-1939-45a0-a3a8-02ebe8e19092_0]</td>\n",
       "      <td>6.0</td>\n",
       "      <td>0.67</td>\n",
       "      <td>1.50</td>\n",
       "      <td>8.0</td>\n",
       "      <td>1</td>\n",
       "    </tr>\n",
       "    <tr>\n",
       "      <th>2</th>\n",
       "      <td>0139b1253130b33adcd4b3a4490530d2</td>\n",
       "      <td>02a30e39-496f-45d4-ba1c-ac8f3c66b621</td>\n",
       "      <td>2</td>\n",
       "      <td>[D2_0]</td>\n",
       "      <td>3.0</td>\n",
       "      <td>0.67</td>\n",
       "      <td>0.75</td>\n",
       "      <td>5.0</td>\n",
       "      <td>1</td>\n",
       "    </tr>\n",
       "  </tbody>\n",
       "</table>\n",
       "</div>"
      ],
      "text/plain": [
       "          schedule_gtfs_dataset_key                               stop_id  \\\n",
       "0  0139b1253130b33adcd4b3a4490530d2  00eb15cb-1430-4964-b8ae-ca6183e1d0ef   \n",
       "1  0139b1253130b33adcd4b3a4490530d2  02a30e39-496f-45d4-ba1c-ac8f3c66b621   \n",
       "2  0139b1253130b33adcd4b3a4490530d2  02a30e39-496f-45d4-ba1c-ac8f3c66b621   \n",
       "\n",
       "   am_max_trips                                 route_dir  pm_max_trips  \\\n",
       "0             2                                    [D1_0]           4.0   \n",
       "1             2  [0ad6c6aa-1939-45a0-a3a8-02ebe8e19092_0]           6.0   \n",
       "2             2                                    [D2_0]           3.0   \n",
       "\n",
       "   am_max_trips_hr  pm_max_trips_hr  n_trips  route_dir_count  \n",
       "0             0.67             1.00      6.0                1  \n",
       "1             0.67             1.50      8.0                1  \n",
       "2             0.67             0.75      5.0                1  "
      ]
     },
     "execution_count": 27,
     "metadata": {},
     "output_type": "execute_result"
    }
   ],
   "source": [
    "max_arrivals_by_stop_single.head(3)"
   ]
  },
  {
   "cell_type": "code",
   "execution_count": 28,
   "id": "2395ed1f-ee61-4e53-b330-8dfdd8ec8ff1",
   "metadata": {
    "tags": []
   },
   "outputs": [],
   "source": [
    "def find_stops_this_pair(feed_stops: pd.DataFrame, one_feed_pair: list) -> pd.DataFrame:\n",
    "    feed_stops = (feed_stops.explode(column='route_dir')\n",
    "                  .query('route_dir in @one_feed_pair')\n",
    "                  .groupby(['schedule_gtfs_dataset_key', 'stop_id'])[['route_dir']]\n",
    "                  .count()\n",
    "                  .reset_index()\n",
    "                 )\n",
    "    return feed_stops.query('route_dir > 1')"
   ]
  },
  {
   "cell_type": "code",
   "execution_count": 29,
   "id": "3be3a0cd-e025-40c9-8e7b-85b20c0c2790",
   "metadata": {},
   "outputs": [],
   "source": [
    "def find_stops_this_feed(gtfs_dataset_key: str,\n",
    "                         max_arrivals_by_stop_single: pd.DataFrame,\n",
    "                         unique_qualify_pairs: list) -> pd.DataFrame:\n",
    "    \n",
    "    feed_stops = max_arrivals_by_stop_single.query('schedule_gtfs_dataset_key == @gtfs_dataset_key')\n",
    "    stop_dfs = []\n",
    "    for pair in unique_qualify_pairs:\n",
    "        these_stops = find_stops_this_pair(feed_stops, pair)\n",
    "        stop_dfs += [these_stops]    \n",
    "    if len(stop_dfs) > 0:\n",
    "        feed_add = pd.concat(stop_dfs).merge(feeds, on = 'schedule_gtfs_dataset_key')\n",
    "        feed_add = stops.merge(feed_add, on = ['feed_key', 'stop_id'])\n",
    "        return feed_add"
   ]
  },
  {
   "cell_type": "code",
   "execution_count": 30,
   "id": "3ccabb5f-d427-4ffc-853f-3400bf83f6fe",
   "metadata": {
    "tags": []
   },
   "outputs": [
    {
     "name": "stdout",
     "output_type": "stream",
     "text": [
      "['94-13191_1', '217-13191_1']...passed, 5.53 and 4.76 times area target\n",
      "['76-13191_1', '70-13191_1']...passed, 4.47 and 4.36 times area target\n",
      "['45-13191_0', '40-13191_0']...passed, 5.16 and 3.37 times area target\n",
      "['70-13191_1', '78-13191_1']...passed, 4.19 and 4.12 times area target\n",
      "['70-13191_0', '78-13191_0']...passed, 4.02 and 4.18 times area target\n",
      "['233-13191_1', '761-13191_1']...failed, 0.49 and 0.84 times area target\n",
      "['70-13191_1', '260-13191_1']...passed, 4.74 and 7.23 times area target\n",
      "['70-13191_0', '76-13191_0']...passed, 4.43 and 4.47 times area target\n",
      "['94-13191_0', '90-13191_0']...passed, 3.86 and 7.11 times area target\n",
      "['60-13191_0', '251-13191_0']...passed, 5.81 and 6.71 times area target\n",
      "['164-13191_0', '165-13191_0']...passed, 6.07 and 5.85 times area target\n",
      "['180-13191_1', '217-13191_1']...passed, 3.05 and 3.10 times area target\n",
      "['20-13191_0', '720-13191_0']...failed, 0.03 and 0.28 times area target\n",
      "['18-13191_1', '53-13191_0']...passed, 3.58 and 5.06 times area target\n",
      "['76-13191_1', '78-13191_1']...passed, 4.53 and 4.48 times area target\n",
      "['60-13191_1', '55-13191_1']...passed, 6.66 and 3.58 times area target\n",
      "['204-13191_1', '754-13191_1']...failed, 0.02 and 0.22 times area target\n",
      "['111-13191_1', '40-13191_1']...passed, 5.66 and 5.71 times area target\n",
      "['217-13191_0', '180-13191_0']...passed, 2.75 and 3.01 times area target\n",
      "['111-13191_0', '40-13191_0']...passed, 5.49 and 5.72 times area target\n",
      "['76-13191_1', '14-13191_1']...passed, 4.80 and 4.67 times area target\n",
      "['76-13191_0', '78-13191_0']...passed, 4.43 and 4.54 times area target\n",
      "['94-13191_0', '81-13191_0']...passed, 4.74 and 5.18 times area target\n",
      "['2-13191_1', '4-13191_1']...passed, 6.47 and 5.63 times area target\n",
      "['53-13191_0', '55-13191_0']...passed, 3.50 and 4.96 times area target\n",
      "['210-13191_1', '40-13191_1']...passed, 5.30 and 5.25 times area target\n",
      "['78-13191_1', '14-13191_1']...passed, 4.80 and 4.71 times area target\n",
      "['60-13191_1', '251-13191_1']...passed, 6.68 and 6.15 times area target\n",
      "['70-13191_0', '260-13191_0']...passed, 7.21 and 4.66 times area target\n",
      "['164-13191_1', '165-13191_1']...passed, 5.91 and 6.01 times area target\n",
      "['45-13191_1', '40-13191_1']...passed, 2.96 and 5.32 times area target\n",
      "['720-13191_1', '20-13191_1']...failed, 0.39 and 0.15 times area target\n",
      "['4-13191_0', '2-13191_0']...passed, 5.53 and 6.30 times area target\n",
      "['224-13191_0', '152-13191_1']...passed, 5.73 and 5.13 times area target\n",
      "['224-13191_1', '152-13191_0']...passed, 5.05 and 5.71 times area target\n",
      "['204-13191_0', '754-13191_0']...failed, 0.02 and 0.21 times area target\n",
      "['210-13191_0', '40-13191_0']...passed, 5.23 and 5.40 times area target\n",
      "['7_0', '10_0']...passed, 1.15 and 1.32 times area target\n",
      "['10_1', '7_1']...passed, 1.33 and 1.07 times area target\n",
      "['22_0', '59_1']...failed, 0.06 and 0.16 times area target\n",
      "['1_1', '1C1_0']...failed, 0.24 and 1.97 times area target\n",
      "['6R_0', '6_0']...failed, 0.12 and 0.29 times area target\n",
      "['6R_1', '6_1']...failed, 0.13 and 0.26 times area target\n",
      "['43_0', '44_0']...passed, 3.33 and 2.89 times area target\n",
      "['43_0', '6_0']...passed, 1.61 and 3.36 times area target\n",
      "['43_1', '44_1']...passed, 2.85 and 3.47 times area target\n",
      "['9_0', '7_0']...passed, 2.07 and 2.32 times area target\n",
      "['6_1', '9_1']...passed, 1.38 and 2.27 times area target\n",
      "['14R_0', '14_0']...failed, 0.24 and 0.07 times area target\n",
      "['7_0', '6_0']...failed, 0.99 and 1.57 times area target\n",
      "['44_1', '19_0']...passed, 2.11 and 3.00 times area target\n",
      "['5_0', '5R_0']...failed, 0.01 and 0.01 times area target\n",
      "['9R_0', '7_0']...passed, 2.07 and 2.32 times area target\n",
      "['38_0', '38R_0']...failed, 0.23 and 0.02 times area target\n",
      "['14_1', '14R_1']...failed, 0.30 and 0.01 times area target\n",
      "['9R_0', '9_0']...failed, 0.04 and 0.04 times area target\n",
      "['30_1', '45_1']...failed, 1.25 and 0.93 times area target\n",
      "['43_1', '6_1']...passed, 1.64 and 3.50 times area target\n",
      "['38R_1', '38_1']...failed, 0.19 and 0.10 times area target\n",
      "['9R_0', '6_0']...passed, 1.45 and 2.28 times area target\n",
      "['14_0', '49_0']...passed, 1.07 and 1.30 times area target\n",
      "['45_0', '30_0']...failed, 1.16 and 0.75 times area target\n",
      "['9_0', '6_0']...passed, 1.41 and 2.24 times area target\n",
      "['14_1', '49_1']...passed, 1.31 and 1.04 times area target\n",
      "['57_0', 'NL_0']...passed, 2.34 and 3.32 times area target\n",
      "['52_1', '51B_1']...failed, 0.88 and 1.25 times area target\n",
      "['98_0', '57_1']...passed, 1.78 and 3.60 times area target\n",
      "['43_1', '543_1']...failed, 1.86 and 0.04 times area target\n",
      "['43_0', '543_0']...failed, 0.01 and 1.73 times area target\n",
      "['22_1', '77_0']...passed, 7.03 and 2.28 times area target\n",
      "['72_1', '73_1']...passed, 2.05 and 1.45 times area target\n",
      "['22_1', '23_1']...passed, 3.59 and 7.23 times area target\n",
      "['Rapid 522_1', '22_1']...passed, 1.18 and 1.37 times area target\n",
      "['73_0', '72_0']...passed, 2.03 and 1.44 times area target\n",
      "['77_0', '60_0']...passed, 4.57 and 2.45 times area target\n",
      "['66_0', '68_0']...passed, 5.04 and 8.22 times area target\n",
      "['66_1', '68_1']...passed, 5.12 and 8.40 times area target\n",
      "['Rapid 522_0', '22_0']...passed, 1.15 and 1.23 times area target\n",
      "['22_0', '77_1']...passed, 7.17 and 2.29 times area target\n",
      "['23_0', '22_0']...passed, 7.34 and 3.49 times area target\n"
     ]
    }
   ],
   "source": [
    "hcd_branching_stops = []\n",
    "for gtfs_dataset_key in feeds_to_filter:\n",
    "    unique_qualify_pairs = evaluate_overlaps(gtfs_dataset_key, show_map=False)\n",
    "    this_feed_stops = find_stops_this_feed(gtfs_dataset_key, max_arrivals_by_stop_single, unique_qualify_pairs)\n",
    "    hcd_branching_stops += [this_feed_stops]\n",
    "hcd_branching_stops = pd.concat(hcd_branching_stops)"
   ]
  },
  {
   "cell_type": "code",
   "execution_count": 31,
   "id": "3b1ed10b-ef56-45cb-b5c3-c3f3bc5e9b9a",
   "metadata": {
    "tags": []
   },
   "outputs": [
    {
     "data": {
      "text/html": [
       "<div>\n",
       "<style scoped>\n",
       "    .dataframe tbody tr th:only-of-type {\n",
       "        vertical-align: middle;\n",
       "    }\n",
       "\n",
       "    .dataframe tbody tr th {\n",
       "        vertical-align: top;\n",
       "    }\n",
       "\n",
       "    .dataframe thead th {\n",
       "        text-align: right;\n",
       "    }\n",
       "</style>\n",
       "<table border=\"1\" class=\"dataframe\">\n",
       "  <thead>\n",
       "    <tr style=\"text-align: right;\">\n",
       "      <th></th>\n",
       "      <th>feed_key</th>\n",
       "      <th>stop_id</th>\n",
       "      <th>geometry</th>\n",
       "      <th>schedule_gtfs_dataset_key</th>\n",
       "      <th>route_dir</th>\n",
       "    </tr>\n",
       "  </thead>\n",
       "  <tbody>\n",
       "    <tr>\n",
       "      <th>0</th>\n",
       "      <td>8d9623a1823a27925b7e2f00e44fc5bb</td>\n",
       "      <td>15864</td>\n",
       "      <td>POINT (163799.273 -435060.394)</td>\n",
       "      <td>0666caf3ec1ecc96b74f4477ee4bc939</td>\n",
       "      <td>2</td>\n",
       "    </tr>\n",
       "    <tr>\n",
       "      <th>1</th>\n",
       "      <td>8d9623a1823a27925b7e2f00e44fc5bb</td>\n",
       "      <td>2641</td>\n",
       "      <td>POINT (163232.234 -434098.714)</td>\n",
       "      <td>0666caf3ec1ecc96b74f4477ee4bc939</td>\n",
       "      <td>2</td>\n",
       "    </tr>\n",
       "    <tr>\n",
       "      <th>2</th>\n",
       "      <td>8d9623a1823a27925b7e2f00e44fc5bb</td>\n",
       "      <td>3873</td>\n",
       "      <td>POINT (162065.780 -432375.210)</td>\n",
       "      <td>0666caf3ec1ecc96b74f4477ee4bc939</td>\n",
       "      <td>2</td>\n",
       "    </tr>\n",
       "    <tr>\n",
       "      <th>3</th>\n",
       "      <td>8d9623a1823a27925b7e2f00e44fc5bb</td>\n",
       "      <td>7118</td>\n",
       "      <td>POINT (125844.863 -424565.723)</td>\n",
       "      <td>0666caf3ec1ecc96b74f4477ee4bc939</td>\n",
       "      <td>2</td>\n",
       "    </tr>\n",
       "    <tr>\n",
       "      <th>4</th>\n",
       "      <td>8d9623a1823a27925b7e2f00e44fc5bb</td>\n",
       "      <td>7130</td>\n",
       "      <td>POINT (126836.552 -424544.282)</td>\n",
       "      <td>0666caf3ec1ecc96b74f4477ee4bc939</td>\n",
       "      <td>2</td>\n",
       "    </tr>\n",
       "    <tr>\n",
       "      <th>...</th>\n",
       "      <td>...</td>\n",
       "      <td>...</td>\n",
       "      <td>...</td>\n",
       "      <td>...</td>\n",
       "      <td>...</td>\n",
       "    </tr>\n",
       "    <tr>\n",
       "      <th>167</th>\n",
       "      <td>98a10e85e7dfe3ff1caa761d1bc34606</td>\n",
       "      <td>65810</td>\n",
       "      <td>POINT (-160250.962 -75021.181)</td>\n",
       "      <td>fb467982dcc77a7f9199bebe709bb700</td>\n",
       "      <td>2</td>\n",
       "    </tr>\n",
       "    <tr>\n",
       "      <th>168</th>\n",
       "      <td>98a10e85e7dfe3ff1caa761d1bc34606</td>\n",
       "      <td>65812</td>\n",
       "      <td>POINT (-160191.766 -75082.017)</td>\n",
       "      <td>fb467982dcc77a7f9199bebe709bb700</td>\n",
       "      <td>2</td>\n",
       "    </tr>\n",
       "    <tr>\n",
       "      <th>169</th>\n",
       "      <td>98a10e85e7dfe3ff1caa761d1bc34606</td>\n",
       "      <td>65812</td>\n",
       "      <td>POINT (-160191.766 -75082.017)</td>\n",
       "      <td>fb467982dcc77a7f9199bebe709bb700</td>\n",
       "      <td>2</td>\n",
       "    </tr>\n",
       "    <tr>\n",
       "      <th>170</th>\n",
       "      <td>98a10e85e7dfe3ff1caa761d1bc34606</td>\n",
       "      <td>65815</td>\n",
       "      <td>POINT (-166774.211 -68202.607)</td>\n",
       "      <td>fb467982dcc77a7f9199bebe709bb700</td>\n",
       "      <td>2</td>\n",
       "    </tr>\n",
       "    <tr>\n",
       "      <th>171</th>\n",
       "      <td>98a10e85e7dfe3ff1caa761d1bc34606</td>\n",
       "      <td>65822</td>\n",
       "      <td>POINT (-165691.475 -76330.949)</td>\n",
       "      <td>fb467982dcc77a7f9199bebe709bb700</td>\n",
       "      <td>2</td>\n",
       "    </tr>\n",
       "  </tbody>\n",
       "</table>\n",
       "<p>751 rows × 5 columns</p>\n",
       "</div>"
      ],
      "text/plain": [
       "                             feed_key stop_id                        geometry  \\\n",
       "0    8d9623a1823a27925b7e2f00e44fc5bb   15864  POINT (163799.273 -435060.394)   \n",
       "1    8d9623a1823a27925b7e2f00e44fc5bb    2641  POINT (163232.234 -434098.714)   \n",
       "2    8d9623a1823a27925b7e2f00e44fc5bb    3873  POINT (162065.780 -432375.210)   \n",
       "3    8d9623a1823a27925b7e2f00e44fc5bb    7118  POINT (125844.863 -424565.723)   \n",
       "4    8d9623a1823a27925b7e2f00e44fc5bb    7130  POINT (126836.552 -424544.282)   \n",
       "..                                ...     ...                             ...   \n",
       "167  98a10e85e7dfe3ff1caa761d1bc34606   65810  POINT (-160250.962 -75021.181)   \n",
       "168  98a10e85e7dfe3ff1caa761d1bc34606   65812  POINT (-160191.766 -75082.017)   \n",
       "169  98a10e85e7dfe3ff1caa761d1bc34606   65812  POINT (-160191.766 -75082.017)   \n",
       "170  98a10e85e7dfe3ff1caa761d1bc34606   65815  POINT (-166774.211 -68202.607)   \n",
       "171  98a10e85e7dfe3ff1caa761d1bc34606   65822  POINT (-165691.475 -76330.949)   \n",
       "\n",
       "            schedule_gtfs_dataset_key  route_dir  \n",
       "0    0666caf3ec1ecc96b74f4477ee4bc939          2  \n",
       "1    0666caf3ec1ecc96b74f4477ee4bc939          2  \n",
       "2    0666caf3ec1ecc96b74f4477ee4bc939          2  \n",
       "3    0666caf3ec1ecc96b74f4477ee4bc939          2  \n",
       "4    0666caf3ec1ecc96b74f4477ee4bc939          2  \n",
       "..                                ...        ...  \n",
       "167  fb467982dcc77a7f9199bebe709bb700          2  \n",
       "168  fb467982dcc77a7f9199bebe709bb700          2  \n",
       "169  fb467982dcc77a7f9199bebe709bb700          2  \n",
       "170  fb467982dcc77a7f9199bebe709bb700          2  \n",
       "171  fb467982dcc77a7f9199bebe709bb700          2  \n",
       "\n",
       "[751 rows x 5 columns]"
      ]
     },
     "execution_count": 31,
     "metadata": {},
     "output_type": "execute_result"
    }
   ],
   "source": [
    "hcd_branching_stops"
   ]
  },
  {
   "cell_type": "code",
   "execution_count": null,
   "id": "b2164aa1-48f4-44cf-9e37-988cdc17ec9d",
   "metadata": {},
   "outputs": [],
   "source": []
  },
  {
   "cell_type": "markdown",
   "id": "4edc000a-6ff5-4ade-81d7-005852a981d0",
   "metadata": {},
   "source": [
    "## webmap"
   ]
  },
  {
   "cell_type": "code",
   "execution_count": 36,
   "id": "424b764a-b358-45b8-ac37-7a3f35d4b261",
   "metadata": {
    "tags": []
   },
   "outputs": [],
   "source": [
    "# !pip install calitp-data-analysis==2025.6.24\n",
    "from calitp_data_analysis.gcs_geopandas import GCSGeoPandas"
   ]
  },
  {
   "cell_type": "code",
   "execution_count": 37,
   "id": "56fa1ddf-4362-4c19-9678-4be3023b3308",
   "metadata": {
    "tags": []
   },
   "outputs": [],
   "source": [
    "gcsgp = GCSGeoPandas()\n",
    "hqts = gcsgp.read_parquet(f'{EXPORT_PATH}ca_hq_transit_stops.parquet')"
   ]
  },
  {
   "cell_type": "code",
   "execution_count": 38,
   "id": "8cf3266f-38db-4da2-a4a1-52a0b39f96d3",
   "metadata": {
    "tags": []
   },
   "outputs": [
    {
     "data": {
      "text/plain": [
       "Index(['agency_primary', 'hqta_type', 'stop_id', 'route_id', 'hqta_details',\n",
       "       'agency_secondary', 'base64_url_primary', 'base64_url_secondary',\n",
       "       'org_id_primary', 'org_id_secondary', 'avg_trips_per_peak_hr',\n",
       "       'geometry'],\n",
       "      dtype='object')"
      ]
     },
     "execution_count": 38,
     "metadata": {},
     "output_type": "execute_result"
    }
   ],
   "source": [
    "hqts.columns"
   ]
  },
  {
   "cell_type": "code",
   "execution_count": 44,
   "id": "d673ce3b-6e77-4b1f-a7e6-872ab587a6bd",
   "metadata": {
    "tags": []
   },
   "outputs": [],
   "source": [
    "mts = hqts.query('hqta_type.str.contains(\"major_stop\")').to_crs(PROJECT_CRS)"
   ]
  },
  {
   "cell_type": "code",
   "execution_count": 46,
   "id": "fc6caf0a-d095-4593-aac6-20fd7b24f001",
   "metadata": {
    "tags": []
   },
   "outputs": [],
   "source": [
    "mts.geometry = mts.buffer(HALF_MILE_BUFFER_METERS)\n",
    "hcd_branching_stops.geometry = hcd_branching_stops.buffer(HALF_MILE_BUFFER_METERS)"
   ]
  },
  {
   "cell_type": "code",
   "execution_count": 48,
   "id": "3cf95b9c-6e9d-48e1-8919-987eacc4b7b9",
   "metadata": {
    "tags": []
   },
   "outputs": [],
   "source": [
    "mts['color'] = [(230, 45, 39)] * mts.shape[0]"
   ]
  },
  {
   "cell_type": "code",
   "execution_count": 49,
   "id": "f8380dab-e0ba-47c7-bbb7-0af93ef471b6",
   "metadata": {
    "tags": []
   },
   "outputs": [],
   "source": [
    "hcd_branching_stops['color'] = [(24, 49, 214)] * hcd_branching_stops.shape[0]"
   ]
  },
  {
   "cell_type": "code",
   "execution_count": 50,
   "id": "25a42282-320a-4bb7-ba50-ab762bb3b689",
   "metadata": {
    "tags": []
   },
   "outputs": [],
   "source": [
    "from shared_utils import webmap_utils"
   ]
  },
  {
   "cell_type": "code",
   "execution_count": 79,
   "id": "821841bd-990a-4012-bc3b-6be27ad064e9",
   "metadata": {
    "tags": []
   },
   "outputs": [
    {
     "name": "stderr",
     "output_type": "stream",
     "text": [
      "/home/jovyan/data-analyses/_shared_utils/shared_utils/webmap_utils.py:112: UserWarning: Geometry is in a geographic CRS. Results from 'centroid' are likely incorrect. Use 'GeoSeries.to_crs()' to re-project geometries to a projected CRS before this operation.\n",
      "\n",
      "  centroid = (gdf.geometry.centroid.y.mean(), gdf.geometry.centroid.x.mean())\n"
     ]
    }
   ],
   "source": [
    "current_state = webmap_utils.set_state_export(mts.dissolve(), filename='test_major_stops0702', color_col='color',\n",
    "                                             map_title='Current Major Transit Stops (buffered)')"
   ]
  },
  {
   "cell_type": "code",
   "execution_count": 80,
   "id": "9c99a8dc-9186-4d0a-86ee-3096df3a0081",
   "metadata": {
    "tags": []
   },
   "outputs": [
    {
     "data": {
      "text/plain": [
       "{'state_dict': {'name': 'null',\n",
       "  'layers': [{'name': 'Current Major Transit Stops (buffered)',\n",
       "    'url': 'https://storage.googleapis.com/calitp-map-tiles/testing/test_major_stops0702.geojson.gz',\n",
       "    'properties': {'stroked': False, 'highlight_saturation_multiplier': 0.5},\n",
       "    'type': ['speedmap',\n",
       "     'speed_variation',\n",
       "     'new_speedmap',\n",
       "     'new_speed_variation',\n",
       "     'hqta_areas',\n",
       "     'hqta_stops',\n",
       "     'state_highway_network',\n",
       "     None]}],\n",
       "  'lat_lon': (35.2889112842056, -119.47858852079196),\n",
       "  'zoom': 13},\n",
       " 'spa_link': 'https://embeddable-maps.calitp.org/?state=eyJuYW1lIjogIm51bGwiLCAibGF5ZXJzIjogW3sibmFtZSI6ICJDdXJyZW50IE1ham9yIFRyYW5zaXQgU3RvcHMgKGJ1ZmZlcmVkKSIsICJ1cmwiOiAiaHR0cHM6Ly9zdG9yYWdlLmdvb2dsZWFwaXMuY29tL2NhbGl0cC1tYXAtdGlsZXMvdGVzdGluZy90ZXN0X21ham9yX3N0b3BzMDcwMi5nZW9qc29uLmd6IiwgInByb3BlcnRpZXMiOiB7InN0cm9rZWQiOiBmYWxzZSwgImhpZ2hsaWdodF9zYXR1cmF0aW9uX211bHRpcGxpZXIiOiAwLjV9LCAidHlwZSI6IFsic3BlZWRtYXAiLCAic3BlZWRfdmFyaWF0aW9uIiwgIm5ld19zcGVlZG1hcCIsICJuZXdfc3BlZWRfdmFyaWF0aW9uIiwgImhxdGFfYXJlYXMiLCAiaHF0YV9zdG9wcyIsICJzdGF0ZV9oaWdod2F5X25ldHdvcmsiLCBudWxsXX1dLCAibGF0X2xvbiI6IFszNS4yODg5MTEyODQyMDU2LCAtMTE5LjQ3ODU4ODUyMDc5MTk2XSwgInpvb20iOiAxM30='}"
      ]
     },
     "execution_count": 80,
     "metadata": {},
     "output_type": "execute_result"
    }
   ],
   "source": [
    "current_state"
   ]
  },
  {
   "cell_type": "code",
   "execution_count": 81,
   "id": "82c2fa21-9875-44fd-9b8c-4e05de665100",
   "metadata": {
    "tags": []
   },
   "outputs": [
    {
     "name": "stderr",
     "output_type": "stream",
     "text": [
      "/home/jovyan/data-analyses/_shared_utils/shared_utils/webmap_utils.py:112: UserWarning: Geometry is in a geographic CRS. Results from 'centroid' are likely incorrect. Use 'GeoSeries.to_crs()' to re-project geometries to a projected CRS before this operation.\n",
      "\n",
      "  centroid = (gdf.geometry.centroid.y.mean(), gdf.geometry.centroid.x.mean())\n"
     ]
    }
   ],
   "source": [
    "branch_state = webmap_utils.set_state_export(hcd_branching_stops, filename='test_branching_stops0702', color_col='color',\n",
    "                                      map_title='New \"Y-branching\" Major Transit Stops (buffered)'\n",
    "                                            )"
   ]
  },
  {
   "cell_type": "code",
   "execution_count": 82,
   "id": "e0694110-5770-4848-9a00-625065318b43",
   "metadata": {
    "tags": []
   },
   "outputs": [
    {
     "data": {
      "text/plain": [
       "{'state_dict': {'name': 'null',\n",
       "  'layers': [{'name': 'New \"Y-branching\" Major Transit Stops (buffered)',\n",
       "    'url': 'https://storage.googleapis.com/calitp-map-tiles/testing/test_branching_stops0702.geojson.gz',\n",
       "    'properties': {'stroked': False, 'highlight_saturation_multiplier': 0.5},\n",
       "    'type': ['speedmap',\n",
       "     'speed_variation',\n",
       "     'new_speedmap',\n",
       "     'new_speed_variation',\n",
       "     'hqta_areas',\n",
       "     'hqta_stops',\n",
       "     'state_highway_network',\n",
       "     None]}],\n",
       "  'lat_lon': (35.543636272302784, -119.93017518848204),\n",
       "  'zoom': 13},\n",
       " 'spa_link': 'https://embeddable-maps.calitp.org/?state=eyJuYW1lIjogIm51bGwiLCAibGF5ZXJzIjogW3sibmFtZSI6ICJOZXcgXCJZLWJyYW5jaGluZ1wiIE1ham9yIFRyYW5zaXQgU3RvcHMgKGJ1ZmZlcmVkKSIsICJ1cmwiOiAiaHR0cHM6Ly9zdG9yYWdlLmdvb2dsZWFwaXMuY29tL2NhbGl0cC1tYXAtdGlsZXMvdGVzdGluZy90ZXN0X2JyYW5jaGluZ19zdG9wczA3MDIuZ2VvanNvbi5neiIsICJwcm9wZXJ0aWVzIjogeyJzdHJva2VkIjogZmFsc2UsICJoaWdobGlnaHRfc2F0dXJhdGlvbl9tdWx0aXBsaWVyIjogMC41fSwgInR5cGUiOiBbInNwZWVkbWFwIiwgInNwZWVkX3ZhcmlhdGlvbiIsICJuZXdfc3BlZWRtYXAiLCAibmV3X3NwZWVkX3ZhcmlhdGlvbiIsICJocXRhX2FyZWFzIiwgImhxdGFfc3RvcHMiLCAic3RhdGVfaGlnaHdheV9uZXR3b3JrIiwgbnVsbF19XSwgImxhdF9sb24iOiBbMzUuNTQzNjM2MjcyMzAyNzg0LCAtMTE5LjkzMDE3NTE4ODQ4MjA0XSwgInpvb20iOiAxM30='}"
      ]
     },
     "execution_count": 82,
     "metadata": {},
     "output_type": "execute_result"
    }
   ],
   "source": [
    "branch_state"
   ]
  },
  {
   "cell_type": "code",
   "execution_count": 83,
   "id": "0b7970ac-b7a9-4af9-bc66-dc8200c2e695",
   "metadata": {
    "tags": []
   },
   "outputs": [
    {
     "name": "stderr",
     "output_type": "stream",
     "text": [
      "/home/jovyan/data-analyses/_shared_utils/shared_utils/webmap_utils.py:112: UserWarning: Geometry is in a geographic CRS. Results from 'centroid' are likely incorrect. Use 'GeoSeries.to_crs()' to re-project geometries to a projected CRS before this operation.\n",
      "\n",
      "  centroid = (gdf.geometry.centroid.y.mean(), gdf.geometry.centroid.x.mean())\n"
     ]
    }
   ],
   "source": [
    "both_state = webmap_utils.set_state_export(hcd_branching_stops, filename='test_branching_stops0702', color_col='color',\n",
    "                                     existing_state = current_state['state_dict'], map_title='New \"Y-branching\" in blue, existing in red'\n",
    "                                            )"
   ]
  },
  {
   "cell_type": "code",
   "execution_count": 84,
   "id": "0376188b-9127-4c73-9e1a-24b16ec78034",
   "metadata": {
    "tags": []
   },
   "outputs": [
    {
     "data": {
      "text/plain": [
       "{'state_dict': {'name': 'null',\n",
       "  'layers': [{'name': 'Current Major Transit Stops (buffered)',\n",
       "    'url': 'https://storage.googleapis.com/calitp-map-tiles/testing/test_major_stops0702.geojson.gz',\n",
       "    'properties': {'stroked': False, 'highlight_saturation_multiplier': 0.5},\n",
       "    'type': ['speedmap',\n",
       "     'speed_variation',\n",
       "     'new_speedmap',\n",
       "     'new_speed_variation',\n",
       "     'hqta_areas',\n",
       "     'hqta_stops',\n",
       "     'state_highway_network',\n",
       "     None]},\n",
       "   {'name': 'New \"Y-branching\" in blue, existing in red',\n",
       "    'url': 'https://storage.googleapis.com/calitp-map-tiles/testing/test_branching_stops0702.geojson.gz',\n",
       "    'properties': {'stroked': False, 'highlight_saturation_multiplier': 0.5},\n",
       "    'type': ['speedmap',\n",
       "     'speed_variation',\n",
       "     'new_speedmap',\n",
       "     'new_speed_variation',\n",
       "     'hqta_areas',\n",
       "     'hqta_stops',\n",
       "     'state_highway_network',\n",
       "     None]}],\n",
       "  'lat_lon': (35.543636272302784, -119.93017518848204),\n",
       "  'zoom': 13},\n",
       " 'spa_link': 'https://embeddable-maps.calitp.org/?state=eyJuYW1lIjogIm51bGwiLCAibGF5ZXJzIjogW3sibmFtZSI6ICJDdXJyZW50IE1ham9yIFRyYW5zaXQgU3RvcHMgKGJ1ZmZlcmVkKSIsICJ1cmwiOiAiaHR0cHM6Ly9zdG9yYWdlLmdvb2dsZWFwaXMuY29tL2NhbGl0cC1tYXAtdGlsZXMvdGVzdGluZy90ZXN0X21ham9yX3N0b3BzMDcwMi5nZW9qc29uLmd6IiwgInByb3BlcnRpZXMiOiB7InN0cm9rZWQiOiBmYWxzZSwgImhpZ2hsaWdodF9zYXR1cmF0aW9uX211bHRpcGxpZXIiOiAwLjV9LCAidHlwZSI6IFsic3BlZWRtYXAiLCAic3BlZWRfdmFyaWF0aW9uIiwgIm5ld19zcGVlZG1hcCIsICJuZXdfc3BlZWRfdmFyaWF0aW9uIiwgImhxdGFfYXJlYXMiLCAiaHF0YV9zdG9wcyIsICJzdGF0ZV9oaWdod2F5X25ldHdvcmsiLCBudWxsXX0sIHsibmFtZSI6ICJOZXcgXCJZLWJyYW5jaGluZ1wiIGluIGJsdWUsIGV4aXN0aW5nIGluIHJlZCIsICJ1cmwiOiAiaHR0cHM6Ly9zdG9yYWdlLmdvb2dsZWFwaXMuY29tL2NhbGl0cC1tYXAtdGlsZXMvdGVzdGluZy90ZXN0X2JyYW5jaGluZ19zdG9wczA3MDIuZ2VvanNvbi5neiIsICJwcm9wZXJ0aWVzIjogeyJzdHJva2VkIjogZmFsc2UsICJoaWdobGlnaHRfc2F0dXJhdGlvbl9tdWx0aXBsaWVyIjogMC41fSwgInR5cGUiOiBbInNwZWVkbWFwIiwgInNwZWVkX3ZhcmlhdGlvbiIsICJuZXdfc3BlZWRtYXAiLCAibmV3X3NwZWVkX3ZhcmlhdGlvbiIsICJocXRhX2FyZWFzIiwgImhxdGFfc3RvcHMiLCAic3RhdGVfaGlnaHdheV9uZXR3b3JrIiwgbnVsbF19XSwgImxhdF9sb24iOiBbMzUuNTQzNjM2MjcyMzAyNzg0LCAtMTE5LjkzMDE3NTE4ODQ4MjA0XSwgInpvb20iOiAxM30='}"
      ]
     },
     "execution_count": 84,
     "metadata": {},
     "output_type": "execute_result"
    }
   ],
   "source": [
    "both_state"
   ]
  }
 ],
 "metadata": {
  "kernelspec": {
   "display_name": "Python 3 (ipykernel)",
   "language": "python",
   "name": "python3"
  },
  "language_info": {
   "codemirror_mode": {
    "name": "ipython",
    "version": 3
   },
   "file_extension": ".py",
   "mimetype": "text/x-python",
   "name": "python",
   "nbconvert_exporter": "python",
   "pygments_lexer": "ipython3",
   "version": "3.11.10"
  },
  "widgets": {
   "application/vnd.jupyter.widget-state+json": {
    "state": {},
    "version_major": 2,
    "version_minor": 0
   }
  }
 },
 "nbformat": 4,
 "nbformat_minor": 5
}
