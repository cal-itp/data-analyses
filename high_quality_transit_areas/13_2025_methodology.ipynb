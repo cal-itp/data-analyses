{
 "cells": [
  {
   "cell_type": "code",
   "execution_count": 1,
   "id": "38262382-8e2c-4eb9-86ce-aa4aa251d6d4",
   "metadata": {},
   "outputs": [],
   "source": [
    "import os\n",
    "os.environ[\"CALITP_BQ_MAX_BYTES\"] = str(1_000_000_000_000) ## 1TB?"
   ]
  },
  {
   "cell_type": "code",
   "execution_count": 2,
   "id": "5bbd8694-444f-48c0-89a0-00c5c0e542c8",
   "metadata": {},
   "outputs": [],
   "source": [
    "import geopandas as gpd\n",
    "import pandas as pd\n",
    "from siuba import *\n",
    "import numpy as np\n",
    "\n",
    "from segment_speed_utils import helpers, gtfs_schedule_wrangling\n",
    "from shared_utils import rt_dates, gtfs_utils_v2\n",
    "import folium\n",
    "import itertools\n",
    "import sys\n",
    "sys.path.append('./scripts/')"
   ]
  },
  {
   "cell_type": "code",
   "execution_count": 3,
   "id": "994a67bc-1cbe-4477-ac3b-cbe0f7e4822e",
   "metadata": {},
   "outputs": [],
   "source": [
    "from update_vars import (analysis_date, AM_PEAK, PM_PEAK, EXPORT_PATH, GCS_FILE_PATH, PROJECT_CRS,\n",
    "SEGMENT_BUFFER_METERS, AM_PEAK, PM_PEAK, HQ_TRANSIT_THRESHOLD, MS_TRANSIT_THRESHOLD, SHARED_STOP_THRESHOLD)"
   ]
  },
  {
   "cell_type": "code",
   "execution_count": 4,
   "id": "4706f9e9-03d9-49d7-9b3a-d5044018127e",
   "metadata": {},
   "outputs": [],
   "source": [
    "import create_aggregate_stop_frequencies as casf"
   ]
  },
  {
   "cell_type": "code",
   "execution_count": 5,
   "id": "f494bb98-09d9-472c-882c-158c35d391f4",
   "metadata": {},
   "outputs": [
    {
     "data": {
      "text/plain": [
       "<module 'create_aggregate_stop_frequencies' from '/home/jovyan/data-analyses/high_quality_transit_areas/./scripts/create_aggregate_stop_frequencies.py'>"
      ]
     },
     "execution_count": 5,
     "metadata": {},
     "output_type": "execute_result"
    }
   ],
   "source": [
    "import importlib\n",
    "importlib.reload(casf)"
   ]
  },
  {
   "cell_type": "code",
   "execution_count": 6,
   "id": "cd373f3b-6a3a-40c4-8f59-52ad745ae1d7",
   "metadata": {},
   "outputs": [],
   "source": [
    "am_peak_hrs = list(range(AM_PEAK[0].hour, AM_PEAK[1].hour))\n",
    "pm_peak_hrs = list(range(PM_PEAK[0].hour, PM_PEAK[1].hour))\n",
    "both_peaks_hrs = am_peak_hrs + pm_peak_hrs"
   ]
  },
  {
   "cell_type": "code",
   "execution_count": 7,
   "id": "fd40c5c1-6d79-4bb0-87bd-18c9053af24b",
   "metadata": {},
   "outputs": [
    {
     "data": {
      "text/plain": [
       "'2025-05-14'"
      ]
     },
     "execution_count": 7,
     "metadata": {},
     "output_type": "execute_result"
    }
   ],
   "source": [
    "analysis_date"
   ]
  },
  {
   "cell_type": "code",
   "execution_count": 8,
   "id": "fe9470ff-40a3-40d0-aaed-913784f105ac",
   "metadata": {},
   "outputs": [],
   "source": [
    "stop_times = helpers.import_scheduled_stop_times(\n",
    "    analysis_date,\n",
    "    get_pandas = True,\n",
    ")"
   ]
  },
  {
   "cell_type": "code",
   "execution_count": 9,
   "id": "5fb68a8a-fc8c-44a9-815b-4bd279ae28e7",
   "metadata": {},
   "outputs": [],
   "source": [
    "stop_times = casf.add_route_dir(stop_times, analysis_date)"
   ]
  },
  {
   "cell_type": "code",
   "execution_count": 10,
   "id": "f5be9fd7-63c6-40ca-b22e-6d08793763dd",
   "metadata": {},
   "outputs": [
    {
     "name": "stderr",
     "output_type": "stream",
     "text": [
      "/opt/conda/lib/python3.11/site-packages/pandas/core/tools/datetimes.py:557: RuntimeWarning: invalid value encountered in cast\n",
      "  arr, tz_parsed = tslib.array_with_unit_to_datetime(arg, unit, errors=errors)\n"
     ]
    }
   ],
   "source": [
    "st_prepped = stop_times.pipe(casf.prep_stop_times)"
   ]
  },
  {
   "cell_type": "markdown",
   "id": "992939ec-f8d1-4a85-b316-b6008fb476bb",
   "metadata": {
    "tags": []
   },
   "source": [
    "## HCD Y-Branching\n",
    "\n",
    "* combine single route frequencies with collinearity screen...\n",
    "* actually, these routes need to pass _both_ a collinearity screen and a non-collinearity screen: 8+ stops shared and also 8+ stops not shared (meaningful service on all 3 legs of the Y)"
   ]
  },
  {
   "cell_type": "code",
   "execution_count": 11,
   "id": "72078a65-76a8-436f-9858-6523d9280688",
   "metadata": {
    "tags": []
   },
   "outputs": [],
   "source": [
    "max_arrivals_by_stop_single = st_prepped.pipe(casf.stop_times_aggregation_max_by_stop, analysis_date, single_route_dir=True)"
   ]
  },
  {
   "cell_type": "code",
   "execution_count": 14,
   "id": "575aa372-8139-47c9-b8c0-51454f8ae401",
   "metadata": {
    "tags": []
   },
   "outputs": [],
   "source": [
    "def get_explode_singles(\n",
    "    single_route_aggregation: pd.DataFrame,\n",
    "    ms_precursor_threshold: int | float\n",
    ") -> pd.DataFrame:\n",
    "    single_qual = (single_route_aggregation.query('am_max_trips_hr >= @ms_precursor_threshold & pm_max_trips_hr >= @ms_precursor_threshold')\n",
    "                   .explode('route_dir')\n",
    "                   .sort_values(['schedule_gtfs_dataset_key','stop_id', 'route_dir'])[['schedule_gtfs_dataset_key','stop_id', 'route_dir']]\n",
    "                  )\n",
    "    return single_qual"
   ]
  },
  {
   "cell_type": "code",
   "execution_count": 15,
   "id": "9ddfae70-42db-43fb-bcfc-3e78e2374895",
   "metadata": {
    "tags": []
   },
   "outputs": [],
   "source": [
    "singles_explode = get_explode_singles(max_arrivals_by_stop_single, MS_TRANSIT_THRESHOLD).explode('route_dir')"
   ]
  },
  {
   "cell_type": "code",
   "execution_count": 16,
   "id": "f98731e5-f6b3-4444-bc7c-ac485cd97c13",
   "metadata": {
    "tags": []
   },
   "outputs": [],
   "source": [
    "from tqdm import tqdm\n",
    "tqdm.pandas()"
   ]
  },
  {
   "cell_type": "code",
   "execution_count": 17,
   "id": "aaf7e37f-e897-4f8e-a64d-29fef518790a",
   "metadata": {
    "tags": []
   },
   "outputs": [
    {
     "name": "stderr",
     "output_type": "stream",
     "text": [
      "100%|██████████| 19059/19059 [00:03<00:00, 5897.76it/s]\n"
     ]
    },
    {
     "data": {
      "text/html": [
       "<div>\n",
       "<style scoped>\n",
       "    .dataframe tbody tr th:only-of-type {\n",
       "        vertical-align: middle;\n",
       "    }\n",
       "\n",
       "    .dataframe tbody tr th {\n",
       "        vertical-align: top;\n",
       "    }\n",
       "\n",
       "    .dataframe thead th {\n",
       "        text-align: right;\n",
       "    }\n",
       "</style>\n",
       "<table border=\"1\" class=\"dataframe\">\n",
       "  <thead>\n",
       "    <tr style=\"text-align: right;\">\n",
       "      <th></th>\n",
       "    </tr>\n",
       "  </thead>\n",
       "  <tbody>\n",
       "  </tbody>\n",
       "</table>\n",
       "</div>"
      ],
      "text/plain": [
       "Empty DataFrame\n",
       "Columns: []\n",
       "Index: []"
      ]
     },
     "execution_count": 17,
     "metadata": {},
     "output_type": "execute_result"
    }
   ],
   "source": [
    "share_counts = {}\n",
    "singles_explode.groupby(['schedule_gtfs_dataset_key', 'stop_id']).progress_apply(casf.accumulate_share_count, share_counts=share_counts)"
   ]
  },
  {
   "cell_type": "code",
   "execution_count": 18,
   "id": "586118d7-55bb-4991-a048-e18f0d9fa163",
   "metadata": {
    "tags": []
   },
   "outputs": [],
   "source": [
    "qualify_dict = {key: share_counts[key] for key in share_counts.keys() if share_counts[key] >= SHARED_STOP_THRESHOLD}"
   ]
  },
  {
   "cell_type": "code",
   "execution_count": 19,
   "id": "65386f6c-d7b4-48dd-82e9-f40dd6d3fd06",
   "metadata": {
    "tags": []
   },
   "outputs": [],
   "source": [
    "feeds_to_filter = np.unique([key.split('__')[0] for key in qualify_dict.keys()])"
   ]
  },
  {
   "cell_type": "code",
   "execution_count": 20,
   "id": "e7ee8055-a693-458c-9a16-ec88d729c34e",
   "metadata": {
    "tags": []
   },
   "outputs": [],
   "source": [
    "feeds_to_filter = np.unique([key.split('__')[0] for key in qualify_dict.keys()])"
   ]
  },
  {
   "cell_type": "code",
   "execution_count": 21,
   "id": "130c2ff7-801a-4fc3-8dc8-285bbcd6979a",
   "metadata": {
    "tags": []
   },
   "outputs": [
    {
     "data": {
      "text/plain": [
       "array(['0666caf3ec1ecc96b74f4477ee4bc939',\n",
       "       '3364ec074ca85001da3abd78be2ae521',\n",
       "       '3c275e5acf8974e1afd765bd3011424c',\n",
       "       '4b317fc27dde351e12253d46cedd8df0',\n",
       "       '7cc0cb1871dfd558f11a2885c145d144',\n",
       "       'c499f905e33929a641f083dad55c521e',\n",
       "       'ecd018ad66f497fb8f188ed5a71b284b',\n",
       "       'fb467982dcc77a7f9199bebe709bb700'], dtype='<U32')"
      ]
     },
     "execution_count": 21,
     "metadata": {},
     "output_type": "execute_result"
    }
   ],
   "source": [
    "feeds_to_filter"
   ]
  },
  {
   "cell_type": "code",
   "execution_count": 22,
   "id": "9e326a6d-d134-4324-8b79-e5542a9c2329",
   "metadata": {
    "tags": []
   },
   "outputs": [],
   "source": [
    "## TODO integrate into script\n",
    "\n",
    "def get_trips_with_route_dir(analysis_date):\n",
    "    trips = helpers.import_scheduled_trips(\n",
    "    analysis_date,\n",
    "    columns = [\"feed_key\", \"gtfs_dataset_key\", \"trip_id\",\n",
    "               \"route_id\", \"direction_id\", \"route_type\",\n",
    "              \"shape_array_key\", \"route_short_name\", \"name\"],\n",
    "    get_pandas = True\n",
    "    )\n",
    "    trips = trips[trips['route_type'].isin(['3', '11'])] #  bus only\n",
    "\n",
    "    trips.direction_id = trips.direction_id.fillna(0).astype(int).astype(str)\n",
    "    trips['route_dir'] = trips[['route_id', 'direction_id']].agg('_'.join, axis=1)\n",
    "    \n",
    "    return trips"
   ]
  },
  {
   "cell_type": "code",
   "execution_count": 45,
   "id": "81976c10-a715-4522-901e-665887e80cfa",
   "metadata": {
    "tags": []
   },
   "outputs": [],
   "source": [
    "shapes = helpers.import_scheduled_shapes(analysis_date, columns=['shape_array_key', 'geometry'])\n",
    "\n",
    "trips = (get_trips_with_route_dir(analysis_date)\n",
    "         .query(\"schedule_gtfs_dataset_key.isin(@feeds_to_filter)\")\n",
    "         .drop_duplicates(subset=['schedule_gtfs_dataset_key', 'shape_array_key', 'route_dir'])\n",
    "        )\n",
    "feeds = trips[['feed_key', 'schedule_gtfs_dataset_key']].drop_duplicates()"
   ]
  },
  {
   "cell_type": "markdown",
   "id": "66e47d0c-4539-40ea-aca8-4d908d802be0",
   "metadata": {},
   "source": [
    "* dissolve shapes by route+dir, pick longest\n",
    "* also try  dissolve shapes by route+dir, dissolve\n",
    "* find non-overlap by previously qualifying pair"
   ]
  },
  {
   "cell_type": "code",
   "execution_count": 51,
   "id": "5a5fa1fb-74b0-438c-bcec-db7e3ba9c762",
   "metadata": {
    "tags": []
   },
   "outputs": [],
   "source": [
    "shapes = shapes.merge(trips, on='shape_array_key')\n",
    "shapes = shapes.assign(length = shapes.geometry.length)"
   ]
  },
  {
   "cell_type": "code",
   "execution_count": 52,
   "id": "5ba1e90d-2106-45a0-b58d-89ba5492eed2",
   "metadata": {
    "tags": []
   },
   "outputs": [],
   "source": [
    "OVERLAY_BUFFER = 20\n",
    "AREA_MULTIPLIER = OVERLAY_BUFFER * 2\n",
    "\n",
    "TARGET_METERS_DIFFERENCE = 5000 #  5km per route\n",
    "TARGET_AREA_DIFFERENCE = TARGET_METERS_DIFFERENCE * AREA_MULTIPLIER"
   ]
  },
  {
   "cell_type": "code",
   "execution_count": 53,
   "id": "df99de98-1545-4bdd-907d-4ad06ec78860",
   "metadata": {
    "tags": []
   },
   "outputs": [],
   "source": [
    "shapes.geometry = shapes.buffer(OVERLAY_BUFFER)\n",
    "shapes = shapes.assign(area = shapes.geometry.map(lambda x: x.area))"
   ]
  },
  {
   "cell_type": "code",
   "execution_count": 54,
   "id": "edee7838-5591-41f8-8fef-754de6e45f2a",
   "metadata": {
    "tags": []
   },
   "outputs": [],
   "source": [
    "max_by_route_dir = shapes.groupby(['schedule_gtfs_dataset_key', 'route_dir']).length.max().reset_index()"
   ]
  },
  {
   "cell_type": "code",
   "execution_count": 55,
   "id": "4a8e1276-b9d6-49cd-97cd-e3f67ceb9ba8",
   "metadata": {
    "tags": []
   },
   "outputs": [],
   "source": [
    "shapes = (shapes.merge(max_by_route_dir, on = ['schedule_gtfs_dataset_key', 'route_dir', 'length'])\n",
    "          .drop_duplicates(subset = ['schedule_gtfs_dataset_key', 'route_dir', 'length'])\n",
    "         )"
   ]
  },
  {
   "cell_type": "code",
   "execution_count": 56,
   "id": "95b0d0d4-6e62-45ca-ba16-a3f97eeea1fc",
   "metadata": {
    "tags": []
   },
   "outputs": [],
   "source": [
    "# shapes.explore(column='length')"
   ]
  },
  {
   "cell_type": "code",
   "execution_count": 57,
   "id": "8409ac49-ea74-4c67-980e-a6dfe4ba9bd2",
   "metadata": {
    "tags": []
   },
   "outputs": [
    {
     "data": {
      "text/plain": [
       "array(['0666caf3ec1ecc96b74f4477ee4bc939',\n",
       "       '3364ec074ca85001da3abd78be2ae521',\n",
       "       '3c275e5acf8974e1afd765bd3011424c',\n",
       "       '4b317fc27dde351e12253d46cedd8df0',\n",
       "       '7cc0cb1871dfd558f11a2885c145d144',\n",
       "       'c499f905e33929a641f083dad55c521e',\n",
       "       'ecd018ad66f497fb8f188ed5a71b284b',\n",
       "       'fb467982dcc77a7f9199bebe709bb700'], dtype='<U32')"
      ]
     },
     "execution_count": 57,
     "metadata": {},
     "output_type": "execute_result"
    }
   ],
   "source": [
    "feeds_to_filter"
   ]
  },
  {
   "cell_type": "code",
   "execution_count": 58,
   "id": "7197bbed-ce58-4164-a8e5-1477eb2304cc",
   "metadata": {
    "tags": []
   },
   "outputs": [
    {
     "data": {
      "text/plain": [
       "'0666caf3ec1ecc96b74f4477ee4bc939'"
      ]
     },
     "execution_count": 58,
     "metadata": {},
     "output_type": "execute_result"
    }
   ],
   "source": [
    "# gtfs_dataset_key = feeds_to_filter[0]\n",
    "gtfs_dataset_key = feeds_to_filter[0]\n",
    "gtfs_dataset_key"
   ]
  },
  {
   "cell_type": "code",
   "execution_count": 59,
   "id": "e29b77e7-ab1e-4763-b530-7087ddde768b",
   "metadata": {
    "tags": []
   },
   "outputs": [],
   "source": [
    "def evaluate_overlaps(gtfs_dataset_key: str, show_map: bool = False) -> list:\n",
    "\n",
    "    this_feed_qual = {key.split(gtfs_dataset_key)[1][2:]:qualify_dict[key] for key in qualify_dict.keys() if key.split('__')[0] == gtfs_dataset_key}\n",
    "    qualify_pairs = [tuple(key.split('__')) for key in this_feed_qual.keys()]\n",
    "\n",
    "    qualify_sets = [set(x) for x in qualify_pairs]\n",
    "    qualify_sets = set(map(frozenset, qualify_sets))\n",
    "\n",
    "    unique_qualify_pairs_possible = [list(x) for x in qualify_sets]\n",
    "\n",
    "    ## TODO accumulate pairs after check...\n",
    "    unique_qualify_pairs = []\n",
    "    for pair in unique_qualify_pairs_possible:\n",
    "        print(f'{pair}...', end='')\n",
    "        these_shapes = shapes.query('route_dir.isin(@pair) & schedule_gtfs_dataset_key == @gtfs_dataset_key')\n",
    "        first_row = these_shapes.iloc[0:1][['schedule_gtfs_dataset_key', 'route_dir', 'shape_array_key', 'geometry']]\n",
    "        sym_diff = first_row.overlay(these_shapes.iloc[1:2][['route_dir', 'geometry']], how='symmetric_difference')\n",
    "        sym_diff = sym_diff.assign(area = sym_diff.geometry.map(lambda x: x.area),\n",
    "                              route_dir = sym_diff.route_dir_1.fillna(sym_diff.route_dir_2))\n",
    "        diff_area = sym_diff.area.sum()\n",
    "        area_ratios = (sym_diff.area / TARGET_AREA_DIFFERENCE)\n",
    "        if (sym_diff.area > TARGET_AREA_DIFFERENCE).all():\n",
    "            print(f'passed, {area_ratios[0]:.2f} and {area_ratios[1]:.2f} times area target')\n",
    "            m = these_shapes.explore(color='gray', tiles='CartoDB Positron')\n",
    "            if show_map: display(sym_diff.explore(column='route_dir', m=m, tiles='CartoDB Positron'))\n",
    "            unique_qualify_pairs += [pair]\n",
    "        else:\n",
    "            print(f'failed, {area_ratios[0]:.2f} and {area_ratios[1]:.2f} times area target')\n",
    "            if show_map: display(these_shapes.explore(column='route_dir', tiles='CartoDB Positron'))\n",
    "            \n",
    "    return unique_qualify_pairs"
   ]
  },
  {
   "cell_type": "code",
   "execution_count": 60,
   "id": "6c765caa-1e3a-4ac4-8267-a2c47e48f525",
   "metadata": {
    "tags": []
   },
   "outputs": [
    {
     "name": "stdout",
     "output_type": "stream",
     "text": [
      "['164-13191_1', '165-13191_1']...passed, 5.91 and 6.01 times area target\n",
      "['180-13191_1', '217-13191_1']...passed, 3.05 and 3.10 times area target\n",
      "['761-13191_1', '233-13191_1']...failed, 0.49 and 0.84 times area target\n",
      "['217-13191_1', '94-13191_1']...passed, 5.53 and 4.76 times area target\n",
      "['53-13191_0', '18-13191_1']...passed, 3.58 and 5.06 times area target\n",
      "['260-13191_0', '70-13191_0']...passed, 7.21 and 4.66 times area target\n",
      "['78-13191_1', '70-13191_1']...passed, 4.19 and 4.12 times area target\n",
      "['224-13191_1', '152-13191_0']...passed, 5.05 and 5.71 times area target\n",
      "['78-13191_0', '76-13191_0']...passed, 4.43 and 4.54 times area target\n",
      "['4-13191_0', '2-13191_0']...passed, 5.53 and 6.30 times area target\n",
      "['60-13191_1', '55-13191_1']...passed, 6.66 and 3.58 times area target\n",
      "['78-13191_1', '76-13191_1']...passed, 4.53 and 4.48 times area target\n",
      "['78-13191_0', '70-13191_0']...passed, 4.02 and 4.18 times area target\n",
      "['45-13191_1', '40-13191_1']...passed, 2.96 and 5.32 times area target\n",
      "['76-13191_0', '70-13191_0']...passed, 4.43 and 4.47 times area target\n",
      "['251-13191_1', '60-13191_1']...passed, 6.68 and 6.15 times area target\n",
      "['754-13191_0', '204-13191_0']...failed, 0.02 and 0.21 times area target\n",
      "['164-13191_0', '165-13191_0']...passed, 6.07 and 5.85 times area target\n",
      "['94-13191_0', '90-13191_0']...passed, 3.86 and 7.11 times area target\n",
      "['2-13191_1', '4-13191_1']...passed, 6.47 and 5.63 times area target\n",
      "['94-13191_0', '81-13191_0']...passed, 4.74 and 5.18 times area target\n",
      "['45-13191_0', '40-13191_0']...passed, 5.16 and 3.37 times area target\n",
      "['76-13191_1', '14-13191_1']...passed, 4.80 and 4.67 times area target\n",
      "['260-13191_1', '70-13191_1']...passed, 4.74 and 7.23 times area target\n",
      "['53-13191_0', '55-13191_0']...passed, 3.50 and 4.96 times area target\n",
      "['111-13191_0', '40-13191_0']...passed, 5.49 and 5.72 times area target\n",
      "['78-13191_1', '14-13191_1']...passed, 4.80 and 4.71 times area target\n",
      "['76-13191_1', '70-13191_1']...passed, 4.47 and 4.36 times area target\n",
      "['210-13191_0', '40-13191_0']...passed, 5.23 and 5.40 times area target\n",
      "['111-13191_1', '40-13191_1']...passed, 5.66 and 5.71 times area target\n",
      "['754-13191_1', '204-13191_1']...failed, 0.02 and 0.22 times area target\n",
      "['224-13191_0', '152-13191_1']...passed, 5.73 and 5.13 times area target\n",
      "['217-13191_0', '180-13191_0']...passed, 2.75 and 3.01 times area target\n",
      "['20-13191_0', '720-13191_0']...failed, 0.03 and 0.28 times area target\n",
      "['210-13191_1', '40-13191_1']...passed, 5.30 and 5.25 times area target\n",
      "['60-13191_0', '251-13191_0']...passed, 5.81 and 6.71 times area target\n",
      "['20-13191_1', '720-13191_1']...failed, 0.39 and 0.15 times area target\n"
     ]
    }
   ],
   "source": [
    "unique_qualify_pairs = evaluate_overlaps(gtfs_dataset_key, show_map=False)"
   ]
  },
  {
   "cell_type": "markdown",
   "id": "f0ebe631-8fa9-4cc5-b178-01a3547ce918",
   "metadata": {},
   "source": [
    "## Adding stops"
   ]
  },
  {
   "cell_type": "code",
   "execution_count": 61,
   "id": "edac7544-60c8-419a-b326-c53eeb77f8d1",
   "metadata": {
    "tags": []
   },
   "outputs": [
    {
     "data": {
      "text/html": [
       "<div>\n",
       "<style scoped>\n",
       "    .dataframe tbody tr th:only-of-type {\n",
       "        vertical-align: middle;\n",
       "    }\n",
       "\n",
       "    .dataframe tbody tr th {\n",
       "        vertical-align: top;\n",
       "    }\n",
       "\n",
       "    .dataframe thead th {\n",
       "        text-align: right;\n",
       "    }\n",
       "</style>\n",
       "<table border=\"1\" class=\"dataframe\">\n",
       "  <thead>\n",
       "    <tr style=\"text-align: right;\">\n",
       "      <th></th>\n",
       "      <th>schedule_gtfs_dataset_key</th>\n",
       "      <th>stop_id</th>\n",
       "      <th>am_max_trips</th>\n",
       "      <th>route_dir</th>\n",
       "      <th>pm_max_trips</th>\n",
       "      <th>am_max_trips_hr</th>\n",
       "      <th>pm_max_trips_hr</th>\n",
       "      <th>n_trips</th>\n",
       "      <th>route_dir_count</th>\n",
       "    </tr>\n",
       "  </thead>\n",
       "  <tbody>\n",
       "    <tr>\n",
       "      <th>0</th>\n",
       "      <td>0139b1253130b33adcd4b3a4490530d2</td>\n",
       "      <td>00eb15cb-1430-4964-b8ae-ca6183e1d0ef</td>\n",
       "      <td>2</td>\n",
       "      <td>[D1_0]</td>\n",
       "      <td>4.0</td>\n",
       "      <td>0.67</td>\n",
       "      <td>1.00</td>\n",
       "      <td>6.0</td>\n",
       "      <td>1</td>\n",
       "    </tr>\n",
       "    <tr>\n",
       "      <th>1</th>\n",
       "      <td>0139b1253130b33adcd4b3a4490530d2</td>\n",
       "      <td>02a30e39-496f-45d4-ba1c-ac8f3c66b621</td>\n",
       "      <td>2</td>\n",
       "      <td>[0ad6c6aa-1939-45a0-a3a8-02ebe8e19092_0]</td>\n",
       "      <td>6.0</td>\n",
       "      <td>0.67</td>\n",
       "      <td>1.50</td>\n",
       "      <td>8.0</td>\n",
       "      <td>1</td>\n",
       "    </tr>\n",
       "    <tr>\n",
       "      <th>2</th>\n",
       "      <td>0139b1253130b33adcd4b3a4490530d2</td>\n",
       "      <td>02a30e39-496f-45d4-ba1c-ac8f3c66b621</td>\n",
       "      <td>2</td>\n",
       "      <td>[D2_0]</td>\n",
       "      <td>3.0</td>\n",
       "      <td>0.67</td>\n",
       "      <td>0.75</td>\n",
       "      <td>5.0</td>\n",
       "      <td>1</td>\n",
       "    </tr>\n",
       "  </tbody>\n",
       "</table>\n",
       "</div>"
      ],
      "text/plain": [
       "          schedule_gtfs_dataset_key                               stop_id  \\\n",
       "0  0139b1253130b33adcd4b3a4490530d2  00eb15cb-1430-4964-b8ae-ca6183e1d0ef   \n",
       "1  0139b1253130b33adcd4b3a4490530d2  02a30e39-496f-45d4-ba1c-ac8f3c66b621   \n",
       "2  0139b1253130b33adcd4b3a4490530d2  02a30e39-496f-45d4-ba1c-ac8f3c66b621   \n",
       "\n",
       "   am_max_trips                                 route_dir  pm_max_trips  \\\n",
       "0             2                                    [D1_0]           4.0   \n",
       "1             2  [0ad6c6aa-1939-45a0-a3a8-02ebe8e19092_0]           6.0   \n",
       "2             2                                    [D2_0]           3.0   \n",
       "\n",
       "   am_max_trips_hr  pm_max_trips_hr  n_trips  route_dir_count  \n",
       "0             0.67             1.00      6.0                1  \n",
       "1             0.67             1.50      8.0                1  \n",
       "2             0.67             0.75      5.0                1  "
      ]
     },
     "execution_count": 61,
     "metadata": {},
     "output_type": "execute_result"
    }
   ],
   "source": [
    "max_arrivals_by_stop_single.head(3)"
   ]
  },
  {
   "cell_type": "code",
   "execution_count": 62,
   "id": "2395ed1f-ee61-4e53-b330-8dfdd8ec8ff1",
   "metadata": {
    "tags": []
   },
   "outputs": [],
   "source": [
    "def find_stops_this_pair(feed_stops: pd.DataFrame, one_feed_pair: list) -> pd.DataFrame:\n",
    "    feed_stops = (feed_stops.explode(column='route_dir')\n",
    "                  .query('route_dir in @one_feed_pair')\n",
    "                  .groupby(['schedule_gtfs_dataset_key', 'stop_id'])[['route_dir']]\n",
    "                  .count()\n",
    "                  .reset_index()\n",
    "                 )\n",
    "    return feed_stops.query('route_dir > 1')"
   ]
  },
  {
   "cell_type": "code",
   "execution_count": 67,
   "id": "3be3a0cd-e025-40c9-8e7b-85b20c0c2790",
   "metadata": {},
   "outputs": [],
   "source": [
    "def find_stops_this_feed(gtfs_dataset_key: str,\n",
    "                         max_arrivals_by_stop_single: pd.DataFrame,\n",
    "                         unique_qualify_pairs: list) -> pd.DataFrame:\n",
    "    \n",
    "    feed_stops = max_arrivals_by_stop_single.query('schedule_gtfs_dataset_key == @gtfs_dataset_key')\n",
    "    stop_dfs = []\n",
    "    for pair in unique_qualify_pairs:\n",
    "        these_stops = find_stops_this_pair(feed_stops, pair)\n",
    "        stop_dfs += [these_stops]    \n",
    "    if len(stop_dfs) > 0:\n",
    "        feed_add = pd.concat(stop_dfs).merge(feeds, on = 'schedule_gtfs_dataset_key')\n",
    "        feed_add = stops.merge(feed_add, on = ['feed_key', 'stop_id'])\n",
    "        return feed_add"
   ]
  },
  {
   "cell_type": "code",
   "execution_count": 68,
   "id": "3ccabb5f-d427-4ffc-853f-3400bf83f6fe",
   "metadata": {
    "tags": []
   },
   "outputs": [
    {
     "name": "stdout",
     "output_type": "stream",
     "text": [
      "['164-13191_1', '165-13191_1']...passed, 5.91 and 6.01 times area target\n",
      "['180-13191_1', '217-13191_1']...passed, 3.05 and 3.10 times area target\n",
      "['761-13191_1', '233-13191_1']...failed, 0.49 and 0.84 times area target\n",
      "['217-13191_1', '94-13191_1']...passed, 5.53 and 4.76 times area target\n",
      "['53-13191_0', '18-13191_1']...passed, 3.58 and 5.06 times area target\n",
      "['260-13191_0', '70-13191_0']...passed, 7.21 and 4.66 times area target\n",
      "['78-13191_1', '70-13191_1']...passed, 4.19 and 4.12 times area target\n",
      "['224-13191_1', '152-13191_0']...passed, 5.05 and 5.71 times area target\n",
      "['78-13191_0', '76-13191_0']...passed, 4.43 and 4.54 times area target\n",
      "['4-13191_0', '2-13191_0']...passed, 5.53 and 6.30 times area target\n",
      "['60-13191_1', '55-13191_1']...passed, 6.66 and 3.58 times area target\n",
      "['78-13191_1', '76-13191_1']...passed, 4.53 and 4.48 times area target\n",
      "['78-13191_0', '70-13191_0']...passed, 4.02 and 4.18 times area target\n",
      "['45-13191_1', '40-13191_1']...passed, 2.96 and 5.32 times area target\n",
      "['76-13191_0', '70-13191_0']...passed, 4.43 and 4.47 times area target\n",
      "['251-13191_1', '60-13191_1']...passed, 6.68 and 6.15 times area target\n",
      "['754-13191_0', '204-13191_0']...failed, 0.02 and 0.21 times area target\n",
      "['164-13191_0', '165-13191_0']...passed, 6.07 and 5.85 times area target\n",
      "['94-13191_0', '90-13191_0']...passed, 3.86 and 7.11 times area target\n",
      "['2-13191_1', '4-13191_1']...passed, 6.47 and 5.63 times area target\n",
      "['94-13191_0', '81-13191_0']...passed, 4.74 and 5.18 times area target\n",
      "['45-13191_0', '40-13191_0']...passed, 5.16 and 3.37 times area target\n",
      "['76-13191_1', '14-13191_1']...passed, 4.80 and 4.67 times area target\n",
      "['260-13191_1', '70-13191_1']...passed, 4.74 and 7.23 times area target\n",
      "['53-13191_0', '55-13191_0']...passed, 3.50 and 4.96 times area target\n",
      "['111-13191_0', '40-13191_0']...passed, 5.49 and 5.72 times area target\n",
      "['78-13191_1', '14-13191_1']...passed, 4.80 and 4.71 times area target\n",
      "['76-13191_1', '70-13191_1']...passed, 4.47 and 4.36 times area target\n",
      "['210-13191_0', '40-13191_0']...passed, 5.23 and 5.40 times area target\n",
      "['111-13191_1', '40-13191_1']...passed, 5.66 and 5.71 times area target\n",
      "['754-13191_1', '204-13191_1']...failed, 0.02 and 0.22 times area target\n",
      "['224-13191_0', '152-13191_1']...passed, 5.73 and 5.13 times area target\n",
      "['217-13191_0', '180-13191_0']...passed, 2.75 and 3.01 times area target\n",
      "['20-13191_0', '720-13191_0']...failed, 0.03 and 0.28 times area target\n",
      "['210-13191_1', '40-13191_1']...passed, 5.30 and 5.25 times area target\n",
      "['60-13191_0', '251-13191_0']...passed, 5.81 and 6.71 times area target\n",
      "['20-13191_1', '720-13191_1']...failed, 0.39 and 0.15 times area target\n"
     ]
    },
    {
     "ename": "NameError",
     "evalue": "name 'stops' is not defined",
     "output_type": "error",
     "traceback": [
      "\u001b[0;31m---------------------------------------------------------------------------\u001b[0m",
      "\u001b[0;31mNameError\u001b[0m                                 Traceback (most recent call last)",
      "Cell \u001b[0;32mIn[68], line 4\u001b[0m\n\u001b[1;32m      2\u001b[0m \u001b[38;5;28;01mfor\u001b[39;00m gtfs_dataset_key \u001b[38;5;129;01min\u001b[39;00m feeds_to_filter:\n\u001b[1;32m      3\u001b[0m     unique_qualify_pairs \u001b[38;5;241m=\u001b[39m evaluate_overlaps(gtfs_dataset_key, show_map\u001b[38;5;241m=\u001b[39m\u001b[38;5;28;01mFalse\u001b[39;00m)\n\u001b[0;32m----> 4\u001b[0m     this_feed_stops \u001b[38;5;241m=\u001b[39m \u001b[43mfind_stops_this_feed\u001b[49m\u001b[43m(\u001b[49m\u001b[43mgtfs_dataset_key\u001b[49m\u001b[43m,\u001b[49m\u001b[43m \u001b[49m\u001b[43mmax_arrivals_by_stop_single\u001b[49m\u001b[43m,\u001b[49m\u001b[43m \u001b[49m\u001b[43munique_qualify_pairs\u001b[49m\u001b[43m)\u001b[49m\n\u001b[1;32m      5\u001b[0m     hcd_branching_stops \u001b[38;5;241m+\u001b[39m\u001b[38;5;241m=\u001b[39m [this_feed_stops]\n\u001b[1;32m      6\u001b[0m hcd_branching_stops \u001b[38;5;241m=\u001b[39m pd\u001b[38;5;241m.\u001b[39mconcat(hcd_branching_stops)\n",
      "Cell \u001b[0;32mIn[67], line 12\u001b[0m, in \u001b[0;36mfind_stops_this_feed\u001b[0;34m(gtfs_dataset_key, max_arrivals_by_stop_single, unique_qualify_pairs)\u001b[0m\n\u001b[1;32m     10\u001b[0m \u001b[38;5;28;01mif\u001b[39;00m \u001b[38;5;28mlen\u001b[39m(stop_dfs) \u001b[38;5;241m>\u001b[39m \u001b[38;5;241m0\u001b[39m:\n\u001b[1;32m     11\u001b[0m     feed_add \u001b[38;5;241m=\u001b[39m pd\u001b[38;5;241m.\u001b[39mconcat(stop_dfs)\u001b[38;5;241m.\u001b[39mmerge(feeds, on \u001b[38;5;241m=\u001b[39m \u001b[38;5;124m'\u001b[39m\u001b[38;5;124mschedule_gtfs_dataset_key\u001b[39m\u001b[38;5;124m'\u001b[39m)\n\u001b[0;32m---> 12\u001b[0m     feed_add \u001b[38;5;241m=\u001b[39m \u001b[43mstops\u001b[49m\u001b[38;5;241m.\u001b[39mmerge(feed_add, on \u001b[38;5;241m=\u001b[39m [\u001b[38;5;124m'\u001b[39m\u001b[38;5;124mfeed_key\u001b[39m\u001b[38;5;124m'\u001b[39m, \u001b[38;5;124m'\u001b[39m\u001b[38;5;124mstop_id\u001b[39m\u001b[38;5;124m'\u001b[39m])\n\u001b[1;32m     13\u001b[0m     \u001b[38;5;28;01mreturn\u001b[39;00m feed_add\n",
      "\u001b[0;31mNameError\u001b[0m: name 'stops' is not defined"
     ]
    }
   ],
   "source": [
    "hcd_branching_stops = []\n",
    "for gtfs_dataset_key in feeds_to_filter:\n",
    "    unique_qualify_pairs = evaluate_overlaps(gtfs_dataset_key, show_map=False)\n",
    "    this_feed_stops = find_stops_this_feed(gtfs_dataset_key, max_arrivals_by_stop_single, unique_qualify_pairs)\n",
    "    hcd_branching_stops += [this_feed_stops]\n",
    "hcd_branching_stops = pd.concat(hcd_branching_stops)"
   ]
  },
  {
   "cell_type": "code",
   "execution_count": null,
   "id": "3b1ed10b-ef56-45cb-b5c3-c3f3bc5e9b9a",
   "metadata": {},
   "outputs": [],
   "source": []
  }
 ],
 "metadata": {
  "kernelspec": {
   "display_name": "Python 3 (ipykernel)",
   "language": "python",
   "name": "python3"
  },
  "language_info": {
   "codemirror_mode": {
    "name": "ipython",
    "version": 3
   },
   "file_extension": ".py",
   "mimetype": "text/x-python",
   "name": "python",
   "nbconvert_exporter": "python",
   "pygments_lexer": "ipython3",
   "version": "3.11.10"
  },
  "widgets": {
   "application/vnd.jupyter.widget-state+json": {
    "state": {},
    "version_major": 2,
    "version_minor": 0
   }
  }
 },
 "nbformat": 4,
 "nbformat_minor": 5
}
