{
 "cells": [
  {
   "cell_type": "code",
   "execution_count": 1,
   "id": "38262382-8e2c-4eb9-86ce-aa4aa251d6d4",
   "metadata": {},
   "outputs": [],
   "source": [
    "import os\n",
    "os.environ[\"CALITP_BQ_MAX_BYTES\"] = str(1_000_000_000_000) ## 1TB?"
   ]
  },
  {
   "cell_type": "code",
   "execution_count": 2,
   "id": "5bbd8694-444f-48c0-89a0-00c5c0e542c8",
   "metadata": {},
   "outputs": [],
   "source": [
    "import geopandas as gpd\n",
    "import pandas as pd\n",
    "from siuba import *\n",
    "import numpy as np\n",
    "\n",
    "from segment_speed_utils import helpers, gtfs_schedule_wrangling\n",
    "from shared_utils import rt_dates, gtfs_utils_v2\n",
    "import folium\n",
    "import itertools"
   ]
  },
  {
   "cell_type": "code",
   "execution_count": 49,
   "id": "994a67bc-1cbe-4477-ac3b-cbe0f7e4822e",
   "metadata": {},
   "outputs": [],
   "source": [
    "from update_vars import (analysis_date, AM_PEAK, PM_PEAK, EXPORT_PATH, GCS_FILE_PATH, PROJECT_CRS,\n",
    "SEGMENT_BUFFER_METERS, AM_PEAK, PM_PEAK, HQ_TRANSIT_THRESHOLD, MS_TRANSIT_THRESHOLD, SHARED_STOP_THRESHOLD)"
   ]
  },
  {
   "cell_type": "code",
   "execution_count": 31,
   "id": "4706f9e9-03d9-49d7-9b3a-d5044018127e",
   "metadata": {},
   "outputs": [],
   "source": [
    "import create_aggregate_stop_frequencies as casf"
   ]
  },
  {
   "cell_type": "code",
   "execution_count": 41,
   "id": "f494bb98-09d9-472c-882c-158c35d391f4",
   "metadata": {},
   "outputs": [
    {
     "data": {
      "text/plain": [
       "<module 'create_aggregate_stop_frequencies' from '/home/jovyan/data-analyses/high_quality_transit_areas/create_aggregate_stop_frequencies.py'>"
      ]
     },
     "execution_count": 41,
     "metadata": {},
     "output_type": "execute_result"
    }
   ],
   "source": [
    "import importlib\n",
    "importlib.reload(create_aggregate_stop_frequencies)"
   ]
  },
  {
   "cell_type": "code",
   "execution_count": 6,
   "id": "cd373f3b-6a3a-40c4-8f59-52ad745ae1d7",
   "metadata": {},
   "outputs": [],
   "source": [
    "am_peak_hrs = list(range(AM_PEAK[0].hour, AM_PEAK[1].hour))\n",
    "pm_peak_hrs = list(range(PM_PEAK[0].hour, PM_PEAK[1].hour))\n",
    "both_peaks_hrs = am_peak_hrs + pm_peak_hrs"
   ]
  },
  {
   "cell_type": "code",
   "execution_count": 7,
   "id": "fd40c5c1-6d79-4bb0-87bd-18c9053af24b",
   "metadata": {},
   "outputs": [
    {
     "data": {
      "text/plain": [
       "'2025-05-14'"
      ]
     },
     "execution_count": 7,
     "metadata": {},
     "output_type": "execute_result"
    }
   ],
   "source": [
    "analysis_date"
   ]
  },
  {
   "cell_type": "code",
   "execution_count": 8,
   "id": "fe9470ff-40a3-40d0-aaed-913784f105ac",
   "metadata": {},
   "outputs": [],
   "source": [
    "stop_times = helpers.import_scheduled_stop_times(\n",
    "    analysis_date,\n",
    "    get_pandas = True,\n",
    ")"
   ]
  },
  {
   "cell_type": "code",
   "execution_count": 9,
   "id": "5fb68a8a-fc8c-44a9-815b-4bd279ae28e7",
   "metadata": {},
   "outputs": [],
   "source": [
    "stop_times = casf.add_route_dir(stop_times, analysis_date)"
   ]
  },
  {
   "cell_type": "code",
   "execution_count": 10,
   "id": "f5be9fd7-63c6-40ca-b22e-6d08793763dd",
   "metadata": {},
   "outputs": [
    {
     "name": "stderr",
     "output_type": "stream",
     "text": [
      "/opt/conda/lib/python3.11/site-packages/pandas/core/tools/datetimes.py:557: RuntimeWarning: invalid value encountered in cast\n",
      "  arr, tz_parsed = tslib.array_with_unit_to_datetime(arg, unit, errors=errors)\n"
     ]
    }
   ],
   "source": [
    "st_prepped = stop_times.pipe(casf.prep_stop_times)"
   ]
  },
  {
   "cell_type": "markdown",
   "id": "992939ec-f8d1-4a85-b316-b6008fb476bb",
   "metadata": {
    "tags": []
   },
   "source": [
    "## HCD Y-Branching\n",
    "\n",
    "* combine single route frequencies with collinearity screen...\n",
    "* actually, these routes need to pass _both_ a collinearity screen and a non-collinearity screen: 8+ stops shared and also 8+ stops not shared (meaningful service on all 3 legs of the Y)"
   ]
  },
  {
   "cell_type": "code",
   "execution_count": 22,
   "id": "72078a65-76a8-436f-9858-6523d9280688",
   "metadata": {
    "tags": []
   },
   "outputs": [],
   "source": [
    "max_arrivals_by_stop_single = st_prepped.pipe(casf.stop_times_aggregation_max_by_stop, analysis_date, single_route_dir=True)\n",
    "max_arrivals_by_stop_multi = st_prepped.pipe(casf.stop_times_aggregation_max_by_stop, analysis_date, single_route_dir=False)"
   ]
  },
  {
   "cell_type": "code",
   "execution_count": 23,
   "id": "4a1173a5-5b28-4022-9706-f0421a523f90",
   "metadata": {
    "tags": []
   },
   "outputs": [],
   "source": [
    "multi_only_explode = casf.get_explode_multiroute_only(max_arrivals_by_stop_single, max_arrivals_by_stop_multi, (HQ_TRANSIT_THRESHOLD, MS_TRANSIT_THRESHOLD))"
   ]
  },
  {
   "cell_type": "code",
   "execution_count": 24,
   "id": "8bd09371-888e-4e0a-bd37-a4e12ffa8df6",
   "metadata": {
    "tags": []
   },
   "outputs": [
    {
     "data": {
      "text/html": [
       "<div>\n",
       "<style scoped>\n",
       "    .dataframe tbody tr th:only-of-type {\n",
       "        vertical-align: middle;\n",
       "    }\n",
       "\n",
       "    .dataframe tbody tr th {\n",
       "        vertical-align: top;\n",
       "    }\n",
       "\n",
       "    .dataframe thead th {\n",
       "        text-align: right;\n",
       "    }\n",
       "</style>\n",
       "<table border=\"1\" class=\"dataframe\">\n",
       "  <thead>\n",
       "    <tr style=\"text-align: right;\">\n",
       "      <th></th>\n",
       "      <th>schedule_gtfs_dataset_key</th>\n",
       "      <th>stop_id</th>\n",
       "      <th>route_dir</th>\n",
       "    </tr>\n",
       "  </thead>\n",
       "  <tbody>\n",
       "    <tr>\n",
       "      <th>0</th>\n",
       "      <td>0139b1253130b33adcd4b3a4490530d2</td>\n",
       "      <td>0a2a817a-d35d-434d-b039-6a78d79d7602</td>\n",
       "      <td>91673676-969b-4c0a-a233-158c98c522dc_0</td>\n",
       "    </tr>\n",
       "    <tr>\n",
       "      <th>1</th>\n",
       "      <td>0139b1253130b33adcd4b3a4490530d2</td>\n",
       "      <td>0a2a817a-d35d-434d-b039-6a78d79d7602</td>\n",
       "      <td>T6_0</td>\n",
       "    </tr>\n",
       "    <tr>\n",
       "      <th>2</th>\n",
       "      <td>0139b1253130b33adcd4b3a4490530d2</td>\n",
       "      <td>52c2636c-34a3-434c-99ae-cdf3dc36d15c</td>\n",
       "      <td>T11x_0</td>\n",
       "    </tr>\n",
       "  </tbody>\n",
       "</table>\n",
       "</div>"
      ],
      "text/plain": [
       "          schedule_gtfs_dataset_key                               stop_id  \\\n",
       "0  0139b1253130b33adcd4b3a4490530d2  0a2a817a-d35d-434d-b039-6a78d79d7602   \n",
       "1  0139b1253130b33adcd4b3a4490530d2  0a2a817a-d35d-434d-b039-6a78d79d7602   \n",
       "2  0139b1253130b33adcd4b3a4490530d2  52c2636c-34a3-434c-99ae-cdf3dc36d15c   \n",
       "\n",
       "                                route_dir  \n",
       "0  91673676-969b-4c0a-a233-158c98c522dc_0  \n",
       "1                                    T6_0  \n",
       "2                                  T11x_0  "
      ]
     },
     "execution_count": 24,
     "metadata": {},
     "output_type": "execute_result"
    }
   ],
   "source": [
    "multi_only_explode.head(3)"
   ]
  },
  {
   "cell_type": "code",
   "execution_count": 27,
   "id": "575aa372-8139-47c9-b8c0-51454f8ae401",
   "metadata": {
    "tags": []
   },
   "outputs": [],
   "source": [
    "def get_explode_singles(\n",
    "    single_route_aggregation: pd.DataFrame,\n",
    "    frequency_thresholds: tuple\n",
    ") -> pd.DataFrame:\n",
    "    ms_precursor_threshold = min(frequency_thresholds)\n",
    "    single_qual = (single_route_aggregation.query('am_max_trips_hr >= @ms_precursor_threshold & pm_max_trips_hr >= @ms_precursor_threshold')\n",
    "                   .explode('route_dir')\n",
    "                   .sort_values(['schedule_gtfs_dataset_key','stop_id', 'route_dir'])[['schedule_gtfs_dataset_key','stop_id', 'route_dir']]\n",
    "                  )\n",
    "    return single_qual"
   ]
  },
  {
   "cell_type": "code",
   "execution_count": 30,
   "id": "9ddfae70-42db-43fb-bcfc-3e78e2374895",
   "metadata": {
    "tags": []
   },
   "outputs": [],
   "source": [
    "singles_explode = get_explode_singles(single_frequencies, (HQ_TRANSIT_THRESHOLD, MS_TRANSIT_THRESHOLD)).explode('route_dir')"
   ]
  },
  {
   "cell_type": "code",
   "execution_count": 32,
   "id": "f98731e5-f6b3-4444-bc7c-ac485cd97c13",
   "metadata": {
    "tags": []
   },
   "outputs": [],
   "source": [
    "from tqdm import tqdm\n",
    "tqdm.pandas()"
   ]
  },
  {
   "cell_type": "code",
   "execution_count": 66,
   "id": "aaf7e37f-e897-4f8e-a64d-29fef518790a",
   "metadata": {
    "tags": []
   },
   "outputs": [],
   "source": [
    "share_counts = {}\n",
    "singles_explode.groupby(['schedule_gtfs_dataset_key', 'stop_id']).progress_apply(casf.accumulate_share_count, share_counts=share_counts)"
   ]
  },
  {
   "cell_type": "code",
   "execution_count": 68,
   "id": "586118d7-55bb-4991-a048-e18f0d9fa163",
   "metadata": {
    "tags": []
   },
   "outputs": [],
   "source": [
    "qualify_dict = {key: share_counts[key] for key in share_counts.keys() if share_counts[key] >= SHARED_STOP_THRESHOLD}"
   ]
  },
  {
   "cell_type": "code",
   "execution_count": 141,
   "id": "65386f6c-d7b4-48dd-82e9-f40dd6d3fd06",
   "metadata": {
    "tags": []
   },
   "outputs": [],
   "source": [
    "feeds_to_filter = np.unique([key.split('__')[0] for key in qualify_dict.keys()])"
   ]
  },
  {
   "cell_type": "code",
   "execution_count": 91,
   "id": "2d387dd1-00bb-4066-bc58-451870527943",
   "metadata": {
    "collapsed": true,
    "jupyter": {
     "outputs_hidden": true
    },
    "tags": []
   },
   "outputs": [
    {
     "data": {
      "text/plain": [
       "{'0666caf3ec1ecc96b74f4477ee4bc939__20-13191_1__720-13191_1': 16,\n",
       " '0666caf3ec1ecc96b74f4477ee4bc939__720-13191_1__20-13191_1': 16,\n",
       " '0666caf3ec1ecc96b74f4477ee4bc939__14-13191_1__76-13191_1': 9,\n",
       " '0666caf3ec1ecc96b74f4477ee4bc939__14-13191_1__78-13191_1': 9,\n",
       " '0666caf3ec1ecc96b74f4477ee4bc939__76-13191_1__14-13191_1': 9,\n",
       " '0666caf3ec1ecc96b74f4477ee4bc939__76-13191_1__78-13191_1': 13,\n",
       " '0666caf3ec1ecc96b74f4477ee4bc939__78-13191_1__14-13191_1': 9,\n",
       " '0666caf3ec1ecc96b74f4477ee4bc939__78-13191_1__76-13191_1': 13,\n",
       " '0666caf3ec1ecc96b74f4477ee4bc939__210-13191_1__40-13191_1': 19,\n",
       " '0666caf3ec1ecc96b74f4477ee4bc939__40-13191_1__210-13191_1': 19,\n",
       " '0666caf3ec1ecc96b74f4477ee4bc939__180-13191_1__217-13191_1': 29,\n",
       " '0666caf3ec1ecc96b74f4477ee4bc939__217-13191_1__180-13191_1': 29,\n",
       " '0666caf3ec1ecc96b74f4477ee4bc939__204-13191_0__754-13191_0': 17,\n",
       " '0666caf3ec1ecc96b74f4477ee4bc939__754-13191_0__204-13191_0': 17,\n",
       " '0666caf3ec1ecc96b74f4477ee4bc939__111-13191_1__40-13191_1': 8,\n",
       " '0666caf3ec1ecc96b74f4477ee4bc939__40-13191_1__111-13191_1': 8,\n",
       " '0666caf3ec1ecc96b74f4477ee4bc939__152-13191_0__224-13191_1': 16,\n",
       " '0666caf3ec1ecc96b74f4477ee4bc939__224-13191_1__152-13191_0': 16,\n",
       " '0666caf3ec1ecc96b74f4477ee4bc939__152-13191_1__224-13191_0': 16,\n",
       " '0666caf3ec1ecc96b74f4477ee4bc939__224-13191_0__152-13191_1': 16,\n",
       " '0666caf3ec1ecc96b74f4477ee4bc939__251-13191_1__60-13191_1': 9,\n",
       " '0666caf3ec1ecc96b74f4477ee4bc939__60-13191_1__251-13191_1': 9,\n",
       " '0666caf3ec1ecc96b74f4477ee4bc939__251-13191_0__60-13191_0': 9,\n",
       " '0666caf3ec1ecc96b74f4477ee4bc939__60-13191_0__251-13191_0': 9,\n",
       " '0666caf3ec1ecc96b74f4477ee4bc939__164-13191_0__165-13191_0': 12,\n",
       " '0666caf3ec1ecc96b74f4477ee4bc939__165-13191_0__164-13191_0': 12,\n",
       " '0666caf3ec1ecc96b74f4477ee4bc939__18-13191_1__53-13191_0': 9,\n",
       " '0666caf3ec1ecc96b74f4477ee4bc939__53-13191_0__18-13191_1': 9,\n",
       " '0666caf3ec1ecc96b74f4477ee4bc939__81-13191_0__94-13191_0': 8,\n",
       " '0666caf3ec1ecc96b74f4477ee4bc939__90-13191_0__94-13191_0': 17,\n",
       " '0666caf3ec1ecc96b74f4477ee4bc939__94-13191_0__81-13191_0': 8,\n",
       " '0666caf3ec1ecc96b74f4477ee4bc939__94-13191_0__90-13191_0': 17,\n",
       " '0666caf3ec1ecc96b74f4477ee4bc939__20-13191_0__720-13191_0': 15,\n",
       " '0666caf3ec1ecc96b74f4477ee4bc939__720-13191_0__20-13191_0': 15,\n",
       " '0666caf3ec1ecc96b74f4477ee4bc939__180-13191_0__217-13191_0': 30,\n",
       " '0666caf3ec1ecc96b74f4477ee4bc939__217-13191_0__180-13191_0': 30,\n",
       " '0666caf3ec1ecc96b74f4477ee4bc939__164-13191_1__165-13191_1': 11,\n",
       " '0666caf3ec1ecc96b74f4477ee4bc939__165-13191_1__164-13191_1': 11,\n",
       " '0666caf3ec1ecc96b74f4477ee4bc939__260-13191_1__70-13191_1': 9,\n",
       " '0666caf3ec1ecc96b74f4477ee4bc939__70-13191_1__260-13191_1': 9,\n",
       " '0666caf3ec1ecc96b74f4477ee4bc939__217-13191_1__94-13191_1': 8,\n",
       " '0666caf3ec1ecc96b74f4477ee4bc939__94-13191_1__217-13191_1': 8,\n",
       " '0666caf3ec1ecc96b74f4477ee4bc939__40-13191_1__45-13191_1': 13,\n",
       " '0666caf3ec1ecc96b74f4477ee4bc939__45-13191_1__40-13191_1': 13,\n",
       " '0666caf3ec1ecc96b74f4477ee4bc939__40-13191_0__45-13191_0': 10,\n",
       " '0666caf3ec1ecc96b74f4477ee4bc939__45-13191_0__40-13191_0': 10,\n",
       " '0666caf3ec1ecc96b74f4477ee4bc939__70-13191_1__76-13191_1': 11,\n",
       " '0666caf3ec1ecc96b74f4477ee4bc939__70-13191_1__78-13191_1': 15,\n",
       " '0666caf3ec1ecc96b74f4477ee4bc939__76-13191_1__70-13191_1': 11,\n",
       " '0666caf3ec1ecc96b74f4477ee4bc939__78-13191_1__70-13191_1': 15,\n",
       " '0666caf3ec1ecc96b74f4477ee4bc939__55-13191_1__60-13191_1': 9,\n",
       " '0666caf3ec1ecc96b74f4477ee4bc939__60-13191_1__55-13191_1': 9,\n",
       " '0666caf3ec1ecc96b74f4477ee4bc939__204-13191_1__754-13191_1': 13,\n",
       " '0666caf3ec1ecc96b74f4477ee4bc939__754-13191_1__204-13191_1': 13,\n",
       " '0666caf3ec1ecc96b74f4477ee4bc939__233-13191_1__761-13191_1': 9,\n",
       " '0666caf3ec1ecc96b74f4477ee4bc939__761-13191_1__233-13191_1': 9,\n",
       " '0666caf3ec1ecc96b74f4477ee4bc939__210-13191_0__40-13191_0': 15,\n",
       " '0666caf3ec1ecc96b74f4477ee4bc939__40-13191_0__210-13191_0': 15,\n",
       " '0666caf3ec1ecc96b74f4477ee4bc939__111-13191_0__40-13191_0': 9,\n",
       " '0666caf3ec1ecc96b74f4477ee4bc939__40-13191_0__111-13191_0': 9,\n",
       " '0666caf3ec1ecc96b74f4477ee4bc939__53-13191_0__55-13191_0': 10,\n",
       " '0666caf3ec1ecc96b74f4477ee4bc939__55-13191_0__53-13191_0': 10,\n",
       " '0666caf3ec1ecc96b74f4477ee4bc939__70-13191_0__76-13191_0': 11,\n",
       " '0666caf3ec1ecc96b74f4477ee4bc939__70-13191_0__78-13191_0': 11,\n",
       " '0666caf3ec1ecc96b74f4477ee4bc939__76-13191_0__70-13191_0': 11,\n",
       " '0666caf3ec1ecc96b74f4477ee4bc939__76-13191_0__78-13191_0': 9,\n",
       " '0666caf3ec1ecc96b74f4477ee4bc939__78-13191_0__70-13191_0': 11,\n",
       " '0666caf3ec1ecc96b74f4477ee4bc939__78-13191_0__76-13191_0': 9,\n",
       " '0666caf3ec1ecc96b74f4477ee4bc939__2-13191_1__4-13191_1': 10,\n",
       " '0666caf3ec1ecc96b74f4477ee4bc939__4-13191_1__2-13191_1': 10,\n",
       " '0666caf3ec1ecc96b74f4477ee4bc939__2-13191_0__4-13191_0': 9,\n",
       " '0666caf3ec1ecc96b74f4477ee4bc939__4-13191_0__2-13191_0': 9,\n",
       " '0666caf3ec1ecc96b74f4477ee4bc939__260-13191_0__70-13191_0': 9,\n",
       " '0666caf3ec1ecc96b74f4477ee4bc939__70-13191_0__260-13191_0': 9,\n",
       " '3364ec074ca85001da3abd78be2ae521__10_0__7_0': 10,\n",
       " '3364ec074ca85001da3abd78be2ae521__7_0__10_0': 10,\n",
       " '3364ec074ca85001da3abd78be2ae521__10_1__7_1': 10,\n",
       " '3364ec074ca85001da3abd78be2ae521__7_1__10_1': 10,\n",
       " '3c275e5acf8974e1afd765bd3011424c__22_0__59_1': 8,\n",
       " '3c275e5acf8974e1afd765bd3011424c__59_1__22_0': 8,\n",
       " '4b317fc27dde351e12253d46cedd8df0__6R_1__6_1': 15,\n",
       " '4b317fc27dde351e12253d46cedd8df0__6_1__6R_1': 15,\n",
       " '4b317fc27dde351e12253d46cedd8df0__1C1_0__1_1': 11,\n",
       " '4b317fc27dde351e12253d46cedd8df0__1_1__1C1_0': 11,\n",
       " '4b317fc27dde351e12253d46cedd8df0__6R_0__6_0': 14,\n",
       " '4b317fc27dde351e12253d46cedd8df0__6_0__6R_0': 14,\n",
       " '7cc0cb1871dfd558f11a2885c145d144__38R_1__38_1': 20,\n",
       " '7cc0cb1871dfd558f11a2885c145d144__38_1__38R_1': 20,\n",
       " '7cc0cb1871dfd558f11a2885c145d144__30_0__45_0': 11,\n",
       " '7cc0cb1871dfd558f11a2885c145d144__45_0__30_0': 11,\n",
       " '7cc0cb1871dfd558f11a2885c145d144__30_1__45_1': 9,\n",
       " '7cc0cb1871dfd558f11a2885c145d144__45_1__30_1': 9,\n",
       " '7cc0cb1871dfd558f11a2885c145d144__43_0__44_0': 8,\n",
       " '7cc0cb1871dfd558f11a2885c145d144__44_0__43_0': 8,\n",
       " '7cc0cb1871dfd558f11a2885c145d144__43_1__44_1': 8,\n",
       " '7cc0cb1871dfd558f11a2885c145d144__44_1__43_1': 8,\n",
       " '7cc0cb1871dfd558f11a2885c145d144__43_1__6_1': 11,\n",
       " '7cc0cb1871dfd558f11a2885c145d144__6_1__43_1': 11,\n",
       " '7cc0cb1871dfd558f11a2885c145d144__43_0__6_0': 11,\n",
       " '7cc0cb1871dfd558f11a2885c145d144__6_0__43_0': 11,\n",
       " '7cc0cb1871dfd558f11a2885c145d144__9R_0__9_0': 22,\n",
       " '7cc0cb1871dfd558f11a2885c145d144__9_0__9R_0': 22,\n",
       " '7cc0cb1871dfd558f11a2885c145d144__5R_0__5_0': 13,\n",
       " '7cc0cb1871dfd558f11a2885c145d144__5_0__5R_0': 13,\n",
       " '7cc0cb1871dfd558f11a2885c145d144__38R_0__38_0': 19,\n",
       " '7cc0cb1871dfd558f11a2885c145d144__38_0__38R_0': 19,\n",
       " '7cc0cb1871dfd558f11a2885c145d144__19_0__44_1': 8,\n",
       " '7cc0cb1871dfd558f11a2885c145d144__44_1__19_0': 8,\n",
       " '7cc0cb1871dfd558f11a2885c145d144__6_0__7_0': 17,\n",
       " '7cc0cb1871dfd558f11a2885c145d144__7_0__6_0': 17,\n",
       " '7cc0cb1871dfd558f11a2885c145d144__14R_1__14_1': 21,\n",
       " '7cc0cb1871dfd558f11a2885c145d144__14_1__14R_1': 21,\n",
       " '7cc0cb1871dfd558f11a2885c145d144__14R_0__14_0': 20,\n",
       " '7cc0cb1871dfd558f11a2885c145d144__14_0__14R_0': 20,\n",
       " '7cc0cb1871dfd558f11a2885c145d144__14_1__49_1': 18,\n",
       " '7cc0cb1871dfd558f11a2885c145d144__49_1__14_1': 18,\n",
       " '7cc0cb1871dfd558f11a2885c145d144__14_0__49_0': 19,\n",
       " '7cc0cb1871dfd558f11a2885c145d144__49_0__14_0': 19,\n",
       " '7cc0cb1871dfd558f11a2885c145d144__6_0__9R_0': 9,\n",
       " '7cc0cb1871dfd558f11a2885c145d144__6_0__9_0': 10,\n",
       " '7cc0cb1871dfd558f11a2885c145d144__7_0__9R_0': 9,\n",
       " '7cc0cb1871dfd558f11a2885c145d144__7_0__9_0': 9,\n",
       " '7cc0cb1871dfd558f11a2885c145d144__9R_0__6_0': 9,\n",
       " '7cc0cb1871dfd558f11a2885c145d144__9R_0__7_0': 9,\n",
       " '7cc0cb1871dfd558f11a2885c145d144__9_0__6_0': 10,\n",
       " '7cc0cb1871dfd558f11a2885c145d144__9_0__7_0': 9,\n",
       " '7cc0cb1871dfd558f11a2885c145d144__6_1__9_1': 10,\n",
       " '7cc0cb1871dfd558f11a2885c145d144__9_1__6_1': 10,\n",
       " 'c499f905e33929a641f083dad55c521e__51B_1__52_1': 8,\n",
       " 'c499f905e33929a641f083dad55c521e__52_1__51B_1': 8,\n",
       " 'c499f905e33929a641f083dad55c521e__57_0__NL_0': 11,\n",
       " 'c499f905e33929a641f083dad55c521e__NL_0__57_0': 11,\n",
       " 'c499f905e33929a641f083dad55c521e__57_1__98_0': 11,\n",
       " 'c499f905e33929a641f083dad55c521e__98_0__57_1': 11,\n",
       " 'ecd018ad66f497fb8f188ed5a71b284b__43_0__543_0': 10,\n",
       " 'ecd018ad66f497fb8f188ed5a71b284b__543_0__43_0': 10,\n",
       " 'ecd018ad66f497fb8f188ed5a71b284b__43_1__543_1': 10,\n",
       " 'ecd018ad66f497fb8f188ed5a71b284b__543_1__43_1': 10,\n",
       " 'fb467982dcc77a7f9199bebe709bb700__22_0__77_1': 12,\n",
       " 'fb467982dcc77a7f9199bebe709bb700__77_1__22_0': 12,\n",
       " 'fb467982dcc77a7f9199bebe709bb700__22_1__77_0': 12,\n",
       " 'fb467982dcc77a7f9199bebe709bb700__77_0__22_1': 12,\n",
       " 'fb467982dcc77a7f9199bebe709bb700__22_0__Rapid 522_0': 23,\n",
       " 'fb467982dcc77a7f9199bebe709bb700__Rapid 522_0__22_0': 23,\n",
       " 'fb467982dcc77a7f9199bebe709bb700__22_0__23_0': 10,\n",
       " 'fb467982dcc77a7f9199bebe709bb700__23_0__22_0': 10,\n",
       " 'fb467982dcc77a7f9199bebe709bb700__72_1__73_1': 16,\n",
       " 'fb467982dcc77a7f9199bebe709bb700__73_1__72_1': 16,\n",
       " 'fb467982dcc77a7f9199bebe709bb700__22_1__23_1': 10,\n",
       " 'fb467982dcc77a7f9199bebe709bb700__23_1__22_1': 10,\n",
       " 'fb467982dcc77a7f9199bebe709bb700__22_1__Rapid 522_1': 24,\n",
       " 'fb467982dcc77a7f9199bebe709bb700__Rapid 522_1__22_1': 24,\n",
       " 'fb467982dcc77a7f9199bebe709bb700__72_0__73_0': 9,\n",
       " 'fb467982dcc77a7f9199bebe709bb700__73_0__72_0': 9,\n",
       " 'fb467982dcc77a7f9199bebe709bb700__66_0__68_0': 23,\n",
       " 'fb467982dcc77a7f9199bebe709bb700__68_0__66_0': 23,\n",
       " 'fb467982dcc77a7f9199bebe709bb700__66_1__68_1': 25,\n",
       " 'fb467982dcc77a7f9199bebe709bb700__68_1__66_1': 25,\n",
       " 'fb467982dcc77a7f9199bebe709bb700__60_0__77_0': 8,\n",
       " 'fb467982dcc77a7f9199bebe709bb700__77_0__60_0': 8}"
      ]
     },
     "execution_count": 91,
     "metadata": {},
     "output_type": "execute_result"
    }
   ],
   "source": [
    "qualify_dict"
   ]
  },
  {
   "cell_type": "code",
   "execution_count": 69,
   "id": "180bb507-63b6-49ce-94be-5de7d5a46601",
   "metadata": {
    "tags": []
   },
   "outputs": [
    {
     "data": {
      "text/plain": [
       "True     60\n",
       "False    16\n",
       "Name: stop_id, dtype: int64"
      ]
     },
     "execution_count": 69,
     "metadata": {},
     "output_type": "execute_result"
    }
   ],
   "source": [
    "(singles_explode.query('route_dir.isin([\"20-13191_1\", \"720-13191_1\"])').stop_id.value_counts() == 1).value_counts()\n",
    "#  True: unshared stop count False: shared stop count"
   ]
  },
  {
   "cell_type": "markdown",
   "id": "0907af24-134b-4e6d-82ac-bc74b96cf207",
   "metadata": {},
   "source": [
    "* local/rapid overlap, there are many unshared stops but that does not offer riders meaningful choice (still a spatial subset)\n",
    "* need a spatial methodology here..."
   ]
  },
  {
   "cell_type": "code",
   "execution_count": 143,
   "id": "e7ee8055-a693-458c-9a16-ec88d729c34e",
   "metadata": {
    "tags": []
   },
   "outputs": [],
   "source": [
    "feeds_to_filter = np.unique([key.split('__')[0] for key in qualify_dict.keys()])"
   ]
  },
  {
   "cell_type": "code",
   "execution_count": 144,
   "id": "130c2ff7-801a-4fc3-8dc8-285bbcd6979a",
   "metadata": {
    "tags": []
   },
   "outputs": [
    {
     "data": {
      "text/plain": [
       "array(['0666caf3ec1ecc96b74f4477ee4bc939',\n",
       "       '3364ec074ca85001da3abd78be2ae521',\n",
       "       '3c275e5acf8974e1afd765bd3011424c',\n",
       "       '4b317fc27dde351e12253d46cedd8df0',\n",
       "       '7cc0cb1871dfd558f11a2885c145d144',\n",
       "       'c499f905e33929a641f083dad55c521e',\n",
       "       'ecd018ad66f497fb8f188ed5a71b284b',\n",
       "       'fb467982dcc77a7f9199bebe709bb700'], dtype='<U32')"
      ]
     },
     "execution_count": 144,
     "metadata": {},
     "output_type": "execute_result"
    }
   ],
   "source": [
    "feeds_to_filter"
   ]
  },
  {
   "cell_type": "code",
   "execution_count": 83,
   "id": "1a810611-6ac0-4a78-bade-b6be69afb03b",
   "metadata": {
    "tags": []
   },
   "outputs": [
    {
     "data": {
      "text/plain": [
       "\u001b[0;31mSignature:\u001b[0m\n",
       "\u001b[0mhelpers\u001b[0m\u001b[0;34m.\u001b[0m\u001b[0mimport_scheduled_shapes\u001b[0m\u001b[0;34m(\u001b[0m\u001b[0;34m\u001b[0m\n",
       "\u001b[0;34m\u001b[0m    \u001b[0manalysis_date\u001b[0m\u001b[0;34m:\u001b[0m \u001b[0mstr\u001b[0m\u001b[0;34m,\u001b[0m\u001b[0;34m\u001b[0m\n",
       "\u001b[0;34m\u001b[0m    \u001b[0mfilters\u001b[0m\u001b[0;34m:\u001b[0m \u001b[0mtuple\u001b[0m \u001b[0;34m=\u001b[0m \u001b[0;32mNone\u001b[0m\u001b[0;34m,\u001b[0m\u001b[0;34m\u001b[0m\n",
       "\u001b[0;34m\u001b[0m    \u001b[0mcolumns\u001b[0m\u001b[0;34m:\u001b[0m \u001b[0mlist\u001b[0m \u001b[0;34m=\u001b[0m \u001b[0;34m[\u001b[0m\u001b[0;34m'shape_array_key'\u001b[0m\u001b[0;34m,\u001b[0m \u001b[0;34m'geometry'\u001b[0m\u001b[0;34m]\u001b[0m\u001b[0;34m,\u001b[0m\u001b[0;34m\u001b[0m\n",
       "\u001b[0;34m\u001b[0m    \u001b[0mget_pandas\u001b[0m\u001b[0;34m:\u001b[0m \u001b[0mbool\u001b[0m \u001b[0;34m=\u001b[0m \u001b[0;32mTrue\u001b[0m\u001b[0;34m,\u001b[0m\u001b[0;34m\u001b[0m\n",
       "\u001b[0;34m\u001b[0m    \u001b[0mcrs\u001b[0m\u001b[0;34m:\u001b[0m \u001b[0mstr\u001b[0m \u001b[0;34m=\u001b[0m \u001b[0;34m'EPSG:3310'\u001b[0m\u001b[0;34m,\u001b[0m\u001b[0;34m\u001b[0m\n",
       "\u001b[0;34m\u001b[0m\u001b[0;34m)\u001b[0m \u001b[0;34m->\u001b[0m \u001b[0mUnion\u001b[0m\u001b[0;34m[\u001b[0m\u001b[0mgeopandas\u001b[0m\u001b[0;34m.\u001b[0m\u001b[0mgeodataframe\u001b[0m\u001b[0;34m.\u001b[0m\u001b[0mGeoDataFrame\u001b[0m\u001b[0;34m,\u001b[0m \u001b[0mdask_geopandas\u001b[0m\u001b[0;34m.\u001b[0m\u001b[0mcore\u001b[0m\u001b[0;34m.\u001b[0m\u001b[0mGeoDataFrame\u001b[0m\u001b[0;34m]\u001b[0m\u001b[0;34m\u001b[0m\u001b[0;34m\u001b[0m\u001b[0m\n",
       "\u001b[0;31mDocstring:\u001b[0m Import shapes.\n",
       "\u001b[0;31mFile:\u001b[0m      ~/data-analyses/rt_segment_speeds/segment_speed_utils/helpers.py\n",
       "\u001b[0;31mType:\u001b[0m      function"
      ]
     },
     "metadata": {},
     "output_type": "display_data"
    }
   ],
   "source": [
    "helpers.import_scheduled_shapes?"
   ]
  },
  {
   "cell_type": "code",
   "execution_count": 276,
   "id": "9e326a6d-d134-4324-8b79-e5542a9c2329",
   "metadata": {
    "tags": []
   },
   "outputs": [],
   "source": [
    "## TODO integrate into script\n",
    "\n",
    "def get_trips_with_route_dir(analysis_date):\n",
    "    trips = helpers.import_scheduled_trips(\n",
    "    analysis_date,\n",
    "    columns = [\"feed_key\", \"gtfs_dataset_key\", \"trip_id\",\n",
    "               \"route_id\", \"direction_id\", \"route_type\",\n",
    "              \"shape_array_key\", \"route_short_name\", \"name\"],\n",
    "    get_pandas = True\n",
    "    )\n",
    "    trips = trips[trips['route_type'].isin(['3', '11'])] #  bus only\n",
    "\n",
    "    trips.direction_id = trips.direction_id.fillna(0).astype(int).astype(str)\n",
    "    trips['route_dir'] = trips[['route_id', 'direction_id']].agg('_'.join, axis=1)\n",
    "    \n",
    "    return trips"
   ]
  },
  {
   "cell_type": "code",
   "execution_count": 277,
   "id": "81976c10-a715-4522-901e-665887e80cfa",
   "metadata": {
    "tags": []
   },
   "outputs": [],
   "source": [
    "shapes = helpers.import_scheduled_shapes(analysis_date, columns=['shape_array_key', 'geometry'])\n",
    "\n",
    "trips = (get_trips_with_route_dir(analysis_date)\n",
    "         .query(\"schedule_gtfs_dataset_key.isin(@feeds_to_filter)\")\n",
    "         .drop_duplicates(subset=['schedule_gtfs_dataset_key', 'shape_array_key', 'route_dir'])\n",
    "        \n",
    "        )"
   ]
  },
  {
   "cell_type": "code",
   "execution_count": 278,
   "id": "0bf7d8ae-7e48-4e01-821f-5944e33050dd",
   "metadata": {
    "tags": []
   },
   "outputs": [
    {
     "data": {
      "text/html": [
       "<div>\n",
       "<style scoped>\n",
       "    .dataframe tbody tr th:only-of-type {\n",
       "        vertical-align: middle;\n",
       "    }\n",
       "\n",
       "    .dataframe tbody tr th {\n",
       "        vertical-align: top;\n",
       "    }\n",
       "\n",
       "    .dataframe thead th {\n",
       "        text-align: right;\n",
       "    }\n",
       "</style>\n",
       "<table border=\"1\" class=\"dataframe\">\n",
       "  <thead>\n",
       "    <tr style=\"text-align: right;\">\n",
       "      <th></th>\n",
       "      <th>feed_key</th>\n",
       "      <th>schedule_gtfs_dataset_key</th>\n",
       "      <th>trip_id</th>\n",
       "      <th>route_id</th>\n",
       "      <th>direction_id</th>\n",
       "      <th>route_type</th>\n",
       "      <th>shape_array_key</th>\n",
       "      <th>route_short_name</th>\n",
       "      <th>name</th>\n",
       "      <th>route_dir</th>\n",
       "    </tr>\n",
       "  </thead>\n",
       "  <tbody>\n",
       "    <tr>\n",
       "      <th>1671</th>\n",
       "      <td>9e8eed3cc17c4fdde369dd07bcb45faa</td>\n",
       "      <td>3c275e5acf8974e1afd765bd3011424c</td>\n",
       "      <td>11273689|25712684:T5|10:36:00</td>\n",
       "      <td>11273689</td>\n",
       "      <td>0</td>\n",
       "      <td>3</td>\n",
       "      <td>bcd4f310183437ac0b20a2eb6426c0d5</td>\n",
       "      <td>None</td>\n",
       "      <td>Stanford Schedule</td>\n",
       "      <td>11273689_0</td>\n",
       "    </tr>\n",
       "    <tr>\n",
       "      <th>1686</th>\n",
       "      <td>9e8eed3cc17c4fdde369dd07bcb45faa</td>\n",
       "      <td>3c275e5acf8974e1afd765bd3011424c</td>\n",
       "      <td>11273689|25817216:T11|12:14:00</td>\n",
       "      <td>11273689</td>\n",
       "      <td>1</td>\n",
       "      <td>3</td>\n",
       "      <td>78a42d5496baf388fc40fa027f76d3f0</td>\n",
       "      <td>None</td>\n",
       "      <td>Stanford Schedule</td>\n",
       "      <td>11273689_1</td>\n",
       "    </tr>\n",
       "    <tr>\n",
       "      <th>1700</th>\n",
       "      <td>9e8eed3cc17c4fdde369dd07bcb45faa</td>\n",
       "      <td>3c275e5acf8974e1afd765bd3011424c</td>\n",
       "      <td>14602095|25712661:T4|16:07:00</td>\n",
       "      <td>14602095</td>\n",
       "      <td>1</td>\n",
       "      <td>3</td>\n",
       "      <td>97bea6ce476801b6e456c0e88b3cfba6</td>\n",
       "      <td>RP PM</td>\n",
       "      <td>Stanford Schedule</td>\n",
       "      <td>14602095_1</td>\n",
       "    </tr>\n",
       "  </tbody>\n",
       "</table>\n",
       "</div>"
      ],
      "text/plain": [
       "                              feed_key         schedule_gtfs_dataset_key  \\\n",
       "1671  9e8eed3cc17c4fdde369dd07bcb45faa  3c275e5acf8974e1afd765bd3011424c   \n",
       "1686  9e8eed3cc17c4fdde369dd07bcb45faa  3c275e5acf8974e1afd765bd3011424c   \n",
       "1700  9e8eed3cc17c4fdde369dd07bcb45faa  3c275e5acf8974e1afd765bd3011424c   \n",
       "\n",
       "                             trip_id  route_id direction_id route_type  \\\n",
       "1671   11273689|25712684:T5|10:36:00  11273689            0          3   \n",
       "1686  11273689|25817216:T11|12:14:00  11273689            1          3   \n",
       "1700   14602095|25712661:T4|16:07:00  14602095            1          3   \n",
       "\n",
       "                       shape_array_key route_short_name               name  \\\n",
       "1671  bcd4f310183437ac0b20a2eb6426c0d5             None  Stanford Schedule   \n",
       "1686  78a42d5496baf388fc40fa027f76d3f0             None  Stanford Schedule   \n",
       "1700  97bea6ce476801b6e456c0e88b3cfba6            RP PM  Stanford Schedule   \n",
       "\n",
       "       route_dir  \n",
       "1671  11273689_0  \n",
       "1686  11273689_1  \n",
       "1700  14602095_1  "
      ]
     },
     "execution_count": 278,
     "metadata": {},
     "output_type": "execute_result"
    }
   ],
   "source": [
    "trips.head(3)"
   ]
  },
  {
   "cell_type": "code",
   "execution_count": 291,
   "id": "639fcf71-1bbf-48eb-99eb-6886ffbe374b",
   "metadata": {
    "tags": []
   },
   "outputs": [
    {
     "data": {
      "text/html": [
       "<div>\n",
       "<style scoped>\n",
       "    .dataframe tbody tr th:only-of-type {\n",
       "        vertical-align: middle;\n",
       "    }\n",
       "\n",
       "    .dataframe tbody tr th {\n",
       "        vertical-align: top;\n",
       "    }\n",
       "\n",
       "    .dataframe thead th {\n",
       "        text-align: right;\n",
       "    }\n",
       "</style>\n",
       "<table border=\"1\" class=\"dataframe\">\n",
       "  <thead>\n",
       "    <tr style=\"text-align: right;\">\n",
       "      <th></th>\n",
       "      <th>feed_key</th>\n",
       "      <th>schedule_gtfs_dataset_key</th>\n",
       "      <th>trip_id</th>\n",
       "      <th>route_id</th>\n",
       "      <th>direction_id</th>\n",
       "      <th>route_type</th>\n",
       "      <th>shape_array_key</th>\n",
       "      <th>route_short_name</th>\n",
       "      <th>name</th>\n",
       "      <th>route_dir</th>\n",
       "    </tr>\n",
       "  </thead>\n",
       "  <tbody>\n",
       "    <tr>\n",
       "      <th>1671</th>\n",
       "      <td>9e8eed3cc17c4fdde369dd07bcb45faa</td>\n",
       "      <td>3c275e5acf8974e1afd765bd3011424c</td>\n",
       "      <td>11273689|25712684:T5|10:36:00</td>\n",
       "      <td>11273689</td>\n",
       "      <td>0</td>\n",
       "      <td>3</td>\n",
       "      <td>bcd4f310183437ac0b20a2eb6426c0d5</td>\n",
       "      <td>None</td>\n",
       "      <td>Stanford Schedule</td>\n",
       "      <td>11273689_0</td>\n",
       "    </tr>\n",
       "    <tr>\n",
       "      <th>3466</th>\n",
       "      <td>f6774d861953d4f4cdcffec95e2652c7</td>\n",
       "      <td>4b317fc27dde351e12253d46cedd8df0</td>\n",
       "      <td>450090</td>\n",
       "      <td>1</td>\n",
       "      <td>1</td>\n",
       "      <td>3</td>\n",
       "      <td>1e993477fc281851b7ab7c2ee3c87cb7</td>\n",
       "      <td>1</td>\n",
       "      <td>Culver City Schedule</td>\n",
       "      <td>1_1</td>\n",
       "    </tr>\n",
       "    <tr>\n",
       "      <th>7348</th>\n",
       "      <td>8510daa6c8576e648fcbd4f92ea73a51</td>\n",
       "      <td>3364ec074ca85001da3abd78be2ae521</td>\n",
       "      <td>17536579</td>\n",
       "      <td>AIR</td>\n",
       "      <td>1</td>\n",
       "      <td>3</td>\n",
       "      <td>bf88d35e133e57ca36ae69c981aca5d9</td>\n",
       "      <td>None</td>\n",
       "      <td>San Diego Schedule</td>\n",
       "      <td>AIR_1</td>\n",
       "    </tr>\n",
       "    <tr>\n",
       "      <th>12323</th>\n",
       "      <td>35702a19aac0ed4d2a616627483d3850</td>\n",
       "      <td>c499f905e33929a641f083dad55c521e</td>\n",
       "      <td>8735020</td>\n",
       "      <td>10</td>\n",
       "      <td>1</td>\n",
       "      <td>3</td>\n",
       "      <td>43789e566d08d8ee428d834c6c07c529</td>\n",
       "      <td>10</td>\n",
       "      <td>Bay Area 511 AC Transit Schedule</td>\n",
       "      <td>10_1</td>\n",
       "    </tr>\n",
       "    <tr>\n",
       "      <th>17323</th>\n",
       "      <td>98a10e85e7dfe3ff1caa761d1bc34606</td>\n",
       "      <td>fb467982dcc77a7f9199bebe709bb700</td>\n",
       "      <td>3749742</td>\n",
       "      <td>Express 101</td>\n",
       "      <td>0</td>\n",
       "      <td>3</td>\n",
       "      <td>c16a64094bac37f9057d868c39cd006f</td>\n",
       "      <td>Express 101</td>\n",
       "      <td>Bay Area 511 Santa Clara Transit Schedule</td>\n",
       "      <td>Express 101_0</td>\n",
       "    </tr>\n",
       "    <tr>\n",
       "      <th>19236</th>\n",
       "      <td>a0024a6c86c0039081d5354b929ee347</td>\n",
       "      <td>7cc0cb1871dfd558f11a2885c145d144</td>\n",
       "      <td>11708336_M21</td>\n",
       "      <td>1</td>\n",
       "      <td>0</td>\n",
       "      <td>3</td>\n",
       "      <td>f817420b11a48d033253443b372eac68</td>\n",
       "      <td>1</td>\n",
       "      <td>Bay Area 511 Muni Schedule</td>\n",
       "      <td>1_0</td>\n",
       "    </tr>\n",
       "    <tr>\n",
       "      <th>35181</th>\n",
       "      <td>8d9623a1823a27925b7e2f00e44fc5bb</td>\n",
       "      <td>0666caf3ec1ecc96b74f4477ee4bc939</td>\n",
       "      <td>10010007510813-DEC24</td>\n",
       "      <td>10-13191</td>\n",
       "      <td>1</td>\n",
       "      <td>3</td>\n",
       "      <td>f45cb04e61e982437431a7d384e70a9c</td>\n",
       "      <td>10/48</td>\n",
       "      <td>LA Metro Bus Schedule</td>\n",
       "      <td>10-13191_1</td>\n",
       "    </tr>\n",
       "    <tr>\n",
       "      <th>91781</th>\n",
       "      <td>cd299184726656597ae2cdb4f4e81e4a</td>\n",
       "      <td>ecd018ad66f497fb8f188ed5a71b284b</td>\n",
       "      <td>12070891</td>\n",
       "      <td>1</td>\n",
       "      <td>0</td>\n",
       "      <td>3</td>\n",
       "      <td>27128e796c0bbcee787e24b5281dfbe8</td>\n",
       "      <td>1</td>\n",
       "      <td>OCTA Schedule</td>\n",
       "      <td>1_0</td>\n",
       "    </tr>\n",
       "  </tbody>\n",
       "</table>\n",
       "</div>"
      ],
      "text/plain": [
       "                               feed_key         schedule_gtfs_dataset_key  \\\n",
       "1671   9e8eed3cc17c4fdde369dd07bcb45faa  3c275e5acf8974e1afd765bd3011424c   \n",
       "3466   f6774d861953d4f4cdcffec95e2652c7  4b317fc27dde351e12253d46cedd8df0   \n",
       "7348   8510daa6c8576e648fcbd4f92ea73a51  3364ec074ca85001da3abd78be2ae521   \n",
       "12323  35702a19aac0ed4d2a616627483d3850  c499f905e33929a641f083dad55c521e   \n",
       "17323  98a10e85e7dfe3ff1caa761d1bc34606  fb467982dcc77a7f9199bebe709bb700   \n",
       "19236  a0024a6c86c0039081d5354b929ee347  7cc0cb1871dfd558f11a2885c145d144   \n",
       "35181  8d9623a1823a27925b7e2f00e44fc5bb  0666caf3ec1ecc96b74f4477ee4bc939   \n",
       "91781  cd299184726656597ae2cdb4f4e81e4a  ecd018ad66f497fb8f188ed5a71b284b   \n",
       "\n",
       "                             trip_id     route_id direction_id route_type  \\\n",
       "1671   11273689|25712684:T5|10:36:00     11273689            0          3   \n",
       "3466                          450090            1            1          3   \n",
       "7348                        17536579          AIR            1          3   \n",
       "12323                        8735020           10            1          3   \n",
       "17323                        3749742  Express 101            0          3   \n",
       "19236                   11708336_M21            1            0          3   \n",
       "35181           10010007510813-DEC24     10-13191            1          3   \n",
       "91781                       12070891            1            0          3   \n",
       "\n",
       "                        shape_array_key route_short_name  \\\n",
       "1671   bcd4f310183437ac0b20a2eb6426c0d5             None   \n",
       "3466   1e993477fc281851b7ab7c2ee3c87cb7                1   \n",
       "7348   bf88d35e133e57ca36ae69c981aca5d9             None   \n",
       "12323  43789e566d08d8ee428d834c6c07c529               10   \n",
       "17323  c16a64094bac37f9057d868c39cd006f      Express 101   \n",
       "19236  f817420b11a48d033253443b372eac68                1   \n",
       "35181  f45cb04e61e982437431a7d384e70a9c            10/48   \n",
       "91781  27128e796c0bbcee787e24b5281dfbe8                1   \n",
       "\n",
       "                                            name      route_dir  \n",
       "1671                           Stanford Schedule     11273689_0  \n",
       "3466                        Culver City Schedule            1_1  \n",
       "7348                          San Diego Schedule          AIR_1  \n",
       "12323           Bay Area 511 AC Transit Schedule           10_1  \n",
       "17323  Bay Area 511 Santa Clara Transit Schedule  Express 101_0  \n",
       "19236                 Bay Area 511 Muni Schedule            1_0  \n",
       "35181                      LA Metro Bus Schedule     10-13191_1  \n",
       "91781                              OCTA Schedule            1_0  "
      ]
     },
     "execution_count": 291,
     "metadata": {},
     "output_type": "execute_result"
    }
   ],
   "source": [
    "trips.drop_duplicates(subset=['name'])"
   ]
  },
  {
   "cell_type": "markdown",
   "id": "66e47d0c-4539-40ea-aca8-4d908d802be0",
   "metadata": {},
   "source": [
    "* dissolve shapes by route+dir, pick longest\n",
    "* also try  dissolve shapes by route+dir, dissolve\n",
    "* find non-overlap by previously qualifying pair"
   ]
  },
  {
   "cell_type": "code",
   "execution_count": 279,
   "id": "5a5fa1fb-74b0-438c-bcec-db7e3ba9c762",
   "metadata": {
    "tags": []
   },
   "outputs": [],
   "source": [
    "shapes = shapes.merge(trips, on='shape_array_key')\n",
    "shapes = shapes.assign(length = shapes.geometry.length)"
   ]
  },
  {
   "cell_type": "code",
   "execution_count": 299,
   "id": "df99de98-1545-4bdd-907d-4ad06ec78860",
   "metadata": {
    "tags": []
   },
   "outputs": [],
   "source": [
    "shapes.geometry = shapes.buffer(OVERLAY_BUFFER)\n",
    "shapes = shapes.assign(area = shapes.geometry.map(lambda x: x.area))"
   ]
  },
  {
   "cell_type": "code",
   "execution_count": 280,
   "id": "edee7838-5591-41f8-8fef-754de6e45f2a",
   "metadata": {
    "tags": []
   },
   "outputs": [],
   "source": [
    "max_by_route_dir = shapes.groupby(['schedule_gtfs_dataset_key', 'route_dir']).length.max().reset_index()"
   ]
  },
  {
   "cell_type": "code",
   "execution_count": 281,
   "id": "4a8e1276-b9d6-49cd-97cd-e3f67ceb9ba8",
   "metadata": {
    "tags": []
   },
   "outputs": [],
   "source": [
    "shapes = (shapes.merge(max_by_route_dir, on = ['schedule_gtfs_dataset_key', 'route_dir', 'length'])\n",
    "          .drop_duplicates(subset = ['schedule_gtfs_dataset_key', 'route_dir', 'length'])\n",
    "         )"
   ]
  },
  {
   "cell_type": "code",
   "execution_count": 282,
   "id": "95b0d0d4-6e62-45ca-ba16-a3f97eeea1fc",
   "metadata": {
    "tags": []
   },
   "outputs": [],
   "source": [
    "# shapes.explore(column='length')"
   ]
  },
  {
   "cell_type": "code",
   "execution_count": 292,
   "id": "8409ac49-ea74-4c67-980e-a6dfe4ba9bd2",
   "metadata": {
    "tags": []
   },
   "outputs": [
    {
     "data": {
      "text/plain": [
       "array(['0666caf3ec1ecc96b74f4477ee4bc939',\n",
       "       '3364ec074ca85001da3abd78be2ae521',\n",
       "       '3c275e5acf8974e1afd765bd3011424c',\n",
       "       '4b317fc27dde351e12253d46cedd8df0',\n",
       "       '7cc0cb1871dfd558f11a2885c145d144',\n",
       "       'c499f905e33929a641f083dad55c521e',\n",
       "       'ecd018ad66f497fb8f188ed5a71b284b',\n",
       "       'fb467982dcc77a7f9199bebe709bb700'], dtype='<U32')"
      ]
     },
     "execution_count": 292,
     "metadata": {},
     "output_type": "execute_result"
    }
   ],
   "source": [
    "feeds_to_filter"
   ]
  },
  {
   "cell_type": "code",
   "execution_count": 355,
   "id": "7197bbed-ce58-4164-a8e5-1477eb2304cc",
   "metadata": {
    "tags": []
   },
   "outputs": [
    {
     "data": {
      "text/plain": [
       "'fb467982dcc77a7f9199bebe709bb700'"
      ]
     },
     "execution_count": 355,
     "metadata": {},
     "output_type": "execute_result"
    }
   ],
   "source": [
    "gtfs_dataset_key = feeds_to_filter[7]\n",
    "gtfs_dataset_key"
   ]
  },
  {
   "cell_type": "code",
   "execution_count": 356,
   "id": "fd700809-9ed2-4ac4-b8d6-ce0a498ba07a",
   "metadata": {
    "tags": []
   },
   "outputs": [],
   "source": [
    "this_feed_qual = {key.split(gtfs_dataset_key)[1][2:]:qualify_dict[key] for key in qualify_dict.keys() if key.split('__')[0] == gtfs_dataset_key}\n",
    "qualify_pairs = [tuple(key.split('__')) for key in this_feed_qual.keys()]"
   ]
  },
  {
   "cell_type": "code",
   "execution_count": 357,
   "id": "07cbbbe3-616c-4659-9ae7-07216918b575",
   "metadata": {
    "tags": []
   },
   "outputs": [],
   "source": [
    "qualify_sets = [set(x) for x in qualify_pairs]\n",
    "qualify_sets = set(map(frozenset, qualify_sets))"
   ]
  },
  {
   "cell_type": "code",
   "execution_count": 358,
   "id": "e4b81667-a678-4f71-bc49-5e77c30c03a2",
   "metadata": {
    "tags": []
   },
   "outputs": [],
   "source": [
    "unique_qualify_pairs = [list(x) for x in qualify_sets]"
   ]
  },
  {
   "cell_type": "code",
   "execution_count": 360,
   "id": "5ba1e90d-2106-45a0-b58d-89ba5492eed2",
   "metadata": {
    "tags": []
   },
   "outputs": [],
   "source": [
    "OVERLAY_BUFFER = 20\n",
    "AREA_MULTIPLIER = OVERLAY_BUFFER * 2\n",
    "\n",
    "TARGET_METERS_DIFFERENCE = 5000 #  5km per route\n",
    "TARGET_AREA_DIFFERENCE = TARGET_METERS_DIFFERENCE * AREA_MULTIPLIER"
   ]
  },
  {
   "cell_type": "code",
   "execution_count": null,
   "id": "1e88f1ee-dc83-4184-b31c-06d62f81b261",
   "metadata": {
    "tags": []
   },
   "outputs": [],
   "source": [
    "for pair in unique_qualify_pairs:\n",
    "    print(f'{pair}...', end='')\n",
    "    these_shapes = shapes.query('route_dir.isin(@pair) & schedule_gtfs_dataset_key == @gtfs_dataset_key')\n",
    "    first_row = these_shapes.iloc[0:1][['schedule_gtfs_dataset_key', 'route_dir', 'shape_array_key', 'geometry']]\n",
    "    sym_diff = first_row.overlay(these_shapes.iloc[1:2][['route_dir', 'geometry']], how='symmetric_difference')\n",
    "    sym_diff = sym_diff.assign(area = sym_diff.geometry.map(lambda x: x.area),\n",
    "                          route_dir = sym_diff.route_dir_1.fillna(sym_diff.route_dir_2))\n",
    "    diff_area = sym_diff.area.sum()\n",
    "    area_ratios = (sym_diff.area / TARGET_AREA_DIFFERENCE)\n",
    "    if (sym_diff.area > TARGET_AREA_DIFFERENCE).all():\n",
    "        print(f'passed, {area_ratios[0]:.2f} and {area_ratios[1]:.2f} times area target')\n",
    "        m = these_shapes.explore(color='gray', tiles='CartoDB Positron')\n",
    "        display(sym_diff.explore(column='route_dir', m=m, tiles='CartoDB Positron'))\n",
    "    else:\n",
    "        print(f'failed, {area_ratios[0]:.2f} and {area_ratios[1]:.2f} times area target')\n",
    "        display(these_shapes.explore(column='route_dir', tiles='CartoDB Positron'))"
   ]
  }
 ],
 "metadata": {
  "kernelspec": {
   "display_name": "Python 3 (ipykernel)",
   "language": "python",
   "name": "python3"
  },
  "language_info": {
   "codemirror_mode": {
    "name": "ipython",
    "version": 3
   },
   "file_extension": ".py",
   "mimetype": "text/x-python",
   "name": "python",
   "nbconvert_exporter": "python",
   "pygments_lexer": "ipython3",
   "version": "3.11.10"
  },
  "widgets": {
   "application/vnd.jupyter.widget-state+json": {
    "state": {},
    "version_major": 2,
    "version_minor": 0
   }
  }
 },
 "nbformat": 4,
 "nbformat_minor": 5
}
