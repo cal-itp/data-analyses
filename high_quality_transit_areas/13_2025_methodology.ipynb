{
 "cells": [
  {
   "cell_type": "code",
   "execution_count": 1,
   "id": "38262382-8e2c-4eb9-86ce-aa4aa251d6d4",
   "metadata": {},
   "outputs": [],
   "source": [
    "import os\n",
    "os.environ[\"CALITP_BQ_MAX_BYTES\"] = str(1_000_000_000_000) ## 1TB?"
   ]
  },
  {
   "cell_type": "code",
   "execution_count": 2,
   "id": "5bbd8694-444f-48c0-89a0-00c5c0e542c8",
   "metadata": {},
   "outputs": [],
   "source": [
    "import geopandas as gpd\n",
    "import pandas as pd\n",
    "from siuba import *\n",
    "import numpy as np\n",
    "\n",
    "from segment_speed_utils import helpers\n",
    "\n",
    "import sys\n",
    "sys.path.append('./scripts/')"
   ]
  },
  {
   "cell_type": "code",
   "execution_count": 3,
   "id": "994a67bc-1cbe-4477-ac3b-cbe0f7e4822e",
   "metadata": {},
   "outputs": [],
   "source": [
    "from update_vars import (analysis_date, EXPORT_PATH, GCS_FILE_PATH, PROJECT_CRS,\n",
    "SEGMENT_BUFFER_METERS, HQ_TRANSIT_THRESHOLD, MS_TRANSIT_THRESHOLD, SHARED_STOP_THRESHOLD,\n",
    "                        HALF_MILE_BUFFER_METERS)"
   ]
  },
  {
   "cell_type": "code",
   "execution_count": 4,
   "id": "4706f9e9-03d9-49d7-9b3a-d5044018127e",
   "metadata": {},
   "outputs": [],
   "source": [
    "import create_aggregate_stop_frequencies as casf"
   ]
  },
  {
   "cell_type": "code",
   "execution_count": 6,
   "id": "32fa1f7b-663e-4e99-83dc-b4328db2e6d3",
   "metadata": {
    "tags": []
   },
   "outputs": [],
   "source": [
    "import branching_derived_intersections"
   ]
  },
  {
   "cell_type": "code",
   "execution_count": 7,
   "id": "f494bb98-09d9-472c-882c-158c35d391f4",
   "metadata": {},
   "outputs": [
    {
     "data": {
      "text/plain": [
       "<module 'branching_derived_intersections' from '/home/jovyan/data-analyses/high_quality_transit_areas/branching_derived_intersections.py'>"
      ]
     },
     "execution_count": 7,
     "metadata": {},
     "output_type": "execute_result"
    }
   ],
   "source": [
    "import importlib\n",
    "importlib.reload(casf)\n",
    "importlib.reload(branching_derived_intersections)"
   ]
  },
  {
   "cell_type": "code",
   "execution_count": 8,
   "id": "43500641-70c2-4f39-a251-561e081df1df",
   "metadata": {
    "tags": []
   },
   "outputs": [],
   "source": [
    "# !pip install calitp-data-analysis==2025.6.24\n",
    "from calitp_data_analysis.gcs_geopandas import GCSGeoPandas\n",
    "gcsgp = GCSGeoPandas()"
   ]
  },
  {
   "cell_type": "code",
   "execution_count": 9,
   "id": "fd40c5c1-6d79-4bb0-87bd-18c9053af24b",
   "metadata": {},
   "outputs": [
    {
     "data": {
      "text/plain": [
       "'2025-06-11'"
      ]
     },
     "execution_count": 9,
     "metadata": {},
     "output_type": "execute_result"
    }
   ],
   "source": [
    "analysis_date"
   ]
  },
  {
   "cell_type": "code",
   "execution_count": 10,
   "id": "deebc0bd-3c5e-4256-babd-da7e200673b0",
   "metadata": {},
   "outputs": [
    {
     "name": "stderr",
     "output_type": "stream",
     "text": [
      "/opt/conda/lib/python3.11/site-packages/pandas/core/tools/datetimes.py:557: RuntimeWarning: invalid value encountered in cast\n",
      "  arr, tz_parsed = tslib.array_with_unit_to_datetime(arg, unit, errors=errors)\n"
     ]
    }
   ],
   "source": [
    "stop_times = helpers.import_scheduled_stop_times(\n",
    "    analysis_date,\n",
    "    get_pandas = True,\n",
    ")\n",
    "\n",
    "stop_times = casf.add_route_dir(stop_times, analysis_date)\n",
    "\n",
    "st_prepped = stop_times.pipe(casf.prep_stop_times)"
   ]
  },
  {
   "cell_type": "markdown",
   "id": "992939ec-f8d1-4a85-b316-b6008fb476bb",
   "metadata": {
    "tags": []
   },
   "source": [
    "## HCD Y-Branching\n",
    "\n",
    "* combine single route frequencies with collinearity screen...\n",
    "* actually, these routes need to pass _both_ a collinearity screen and a non-collinearity screen: 8+ stops shared and also 8+ stops not shared (meaningful service on all 3 legs of the Y)"
   ]
  },
  {
   "cell_type": "code",
   "execution_count": 11,
   "id": "72078a65-76a8-436f-9858-6523d9280688",
   "metadata": {
    "tags": []
   },
   "outputs": [],
   "source": [
    "max_arrivals_by_stop_single = st_prepped.pipe(casf.stop_times_aggregation_max_by_stop, analysis_date, single_route_dir=True)"
   ]
  },
  {
   "cell_type": "code",
   "execution_count": 12,
   "id": "9ddfae70-42db-43fb-bcfc-3e78e2374895",
   "metadata": {
    "tags": []
   },
   "outputs": [],
   "source": [
    "singles_explode = branching_derived_intersections.get_explode_singles(max_arrivals_by_stop_single, MS_TRANSIT_THRESHOLD).explode('route_dir')"
   ]
  },
  {
   "cell_type": "code",
   "execution_count": 13,
   "id": "f98731e5-f6b3-4444-bc7c-ac485cd97c13",
   "metadata": {
    "tags": []
   },
   "outputs": [],
   "source": [
    "from tqdm import tqdm\n",
    "tqdm.pandas()"
   ]
  },
  {
   "cell_type": "code",
   "execution_count": 14,
   "id": "aaf7e37f-e897-4f8e-a64d-29fef518790a",
   "metadata": {
    "tags": []
   },
   "outputs": [
    {
     "name": "stderr",
     "output_type": "stream",
     "text": [
      "100%|██████████| 18698/18698 [00:02<00:00, 7094.91it/s]\n"
     ]
    },
    {
     "data": {
      "text/html": [
       "<div>\n",
       "<style scoped>\n",
       "    .dataframe tbody tr th:only-of-type {\n",
       "        vertical-align: middle;\n",
       "    }\n",
       "\n",
       "    .dataframe tbody tr th {\n",
       "        vertical-align: top;\n",
       "    }\n",
       "\n",
       "    .dataframe thead th {\n",
       "        text-align: right;\n",
       "    }\n",
       "</style>\n",
       "<table border=\"1\" class=\"dataframe\">\n",
       "  <thead>\n",
       "    <tr style=\"text-align: right;\">\n",
       "      <th></th>\n",
       "    </tr>\n",
       "  </thead>\n",
       "  <tbody>\n",
       "  </tbody>\n",
       "</table>\n",
       "</div>"
      ],
      "text/plain": [
       "Empty DataFrame\n",
       "Columns: []\n",
       "Index: []"
      ]
     },
     "execution_count": 14,
     "metadata": {},
     "output_type": "execute_result"
    }
   ],
   "source": [
    "share_counts = {}\n",
    "singles_explode.groupby(['schedule_gtfs_dataset_key', 'stop_id']).progress_apply(casf.accumulate_share_count, share_counts=share_counts)"
   ]
  },
  {
   "cell_type": "code",
   "execution_count": 15,
   "id": "eb924ae8-830b-465b-9279-8e05ab32b6ef",
   "metadata": {
    "tags": []
   },
   "outputs": [
    {
     "data": {
      "text/plain": [
       "8"
      ]
     },
     "execution_count": 15,
     "metadata": {},
     "output_type": "execute_result"
    }
   ],
   "source": [
    "SHARED_STOP_THRESHOLD"
   ]
  },
  {
   "cell_type": "code",
   "execution_count": 16,
   "id": "3ed2c8f1-86d5-4348-8691-bbea9ab0c8f3",
   "metadata": {
    "tags": []
   },
   "outputs": [],
   "source": [
    "qualify_dict = {key: share_counts[key] for key in share_counts.keys() if share_counts[key] >= SHARED_STOP_THRESHOLD}\n",
    "feeds_to_filter = np.unique([key.split('__')[0] for key in qualify_dict.keys()])"
   ]
  },
  {
   "cell_type": "code",
   "execution_count": 17,
   "id": "130c2ff7-801a-4fc3-8dc8-285bbcd6979a",
   "metadata": {
    "tags": []
   },
   "outputs": [
    {
     "data": {
      "text/plain": [
       "array(['0666caf3ec1ecc96b74f4477ee4bc939',\n",
       "       '3364ec074ca85001da3abd78be2ae521',\n",
       "       '3c275e5acf8974e1afd765bd3011424c',\n",
       "       '4b317fc27dde351e12253d46cedd8df0',\n",
       "       '7cc0cb1871dfd558f11a2885c145d144',\n",
       "       'c499f905e33929a641f083dad55c521e',\n",
       "       'ecd018ad66f497fb8f188ed5a71b284b',\n",
       "       'fb467982dcc77a7f9199bebe709bb700'], dtype='<U32')"
      ]
     },
     "execution_count": 17,
     "metadata": {},
     "output_type": "execute_result"
    }
   ],
   "source": [
    "feeds_to_filter"
   ]
  },
  {
   "cell_type": "code",
   "execution_count": 18,
   "id": "ef9f1680-ee12-4dd6-8074-bff55230762e",
   "metadata": {
    "tags": []
   },
   "outputs": [],
   "source": [
    "shapes = helpers.import_scheduled_shapes(analysis_date, columns=['shape_array_key', 'geometry'])\n",
    "trips = (branching_derived_intersections.get_trips_with_route_dir(analysis_date)\n",
    "         .query(\"schedule_gtfs_dataset_key.isin(@feeds_to_filter)\")\n",
    "         .drop_duplicates(subset=['schedule_gtfs_dataset_key', 'shape_array_key', 'route_dir'])\n",
    "        )\n",
    "feeds = trips[['feed_key', 'schedule_gtfs_dataset_key']].drop_duplicates()\n",
    "stops = helpers.import_scheduled_stops(analysis_date, columns=['feed_key', 'stop_id', 'geometry'])"
   ]
  },
  {
   "cell_type": "markdown",
   "id": "66e47d0c-4539-40ea-aca8-4d908d802be0",
   "metadata": {},
   "source": [
    "* dissolve shapes by route+dir, pick longest\n",
    "* also try  dissolve shapes by route+dir, dissolve\n",
    "* find non-overlap by previously qualifying pair"
   ]
  },
  {
   "cell_type": "code",
   "execution_count": 19,
   "id": "5ba1e90d-2106-45a0-b58d-89ba5492eed2",
   "metadata": {
    "tags": []
   },
   "outputs": [],
   "source": [
    "BRANCHING_OVERLAY_BUFFER = 20\n",
    "AREA_MULTIPLIER = BRANCHING_OVERLAY_BUFFER * 2\n",
    "\n",
    "TARGET_METERS_DIFFERENCE = 5000 #  5km per route\n",
    "TARGET_AREA_DIFFERENCE = TARGET_METERS_DIFFERENCE * AREA_MULTIPLIER"
   ]
  },
  {
   "cell_type": "code",
   "execution_count": 20,
   "id": "5a5fa1fb-74b0-438c-bcec-db7e3ba9c762",
   "metadata": {
    "tags": []
   },
   "outputs": [],
   "source": [
    "shapes = shapes.merge(trips, on='shape_array_key')\n",
    "shapes = shapes.assign(length = shapes.geometry.length)"
   ]
  },
  {
   "cell_type": "code",
   "execution_count": 21,
   "id": "df99de98-1545-4bdd-907d-4ad06ec78860",
   "metadata": {
    "tags": []
   },
   "outputs": [],
   "source": [
    "shapes.geometry = shapes.buffer(BRANCHING_OVERLAY_BUFFER)\n",
    "shapes = shapes.assign(area = shapes.geometry.map(lambda x: x.area))"
   ]
  },
  {
   "cell_type": "code",
   "execution_count": 22,
   "id": "4585d429-7a6a-40cd-bc7b-dd2daed75cfb",
   "metadata": {
    "tags": []
   },
   "outputs": [],
   "source": [
    "max_by_route_dir = shapes.groupby(['schedule_gtfs_dataset_key', 'route_dir']).length.max().reset_index()\n",
    "shapes = (shapes.merge(max_by_route_dir, on = ['schedule_gtfs_dataset_key', 'route_dir', 'length'])\n",
    "          .drop_duplicates(subset = ['schedule_gtfs_dataset_key', 'route_dir', 'length'])\n",
    "         )"
   ]
  },
  {
   "cell_type": "code",
   "execution_count": 23,
   "id": "95b0d0d4-6e62-45ca-ba16-a3f97eeea1fc",
   "metadata": {
    "tags": []
   },
   "outputs": [],
   "source": [
    "# shapes.explore(column='length')"
   ]
  },
  {
   "cell_type": "code",
   "execution_count": 24,
   "id": "8409ac49-ea74-4c67-980e-a6dfe4ba9bd2",
   "metadata": {
    "tags": []
   },
   "outputs": [
    {
     "data": {
      "text/plain": [
       "array(['0666caf3ec1ecc96b74f4477ee4bc939',\n",
       "       '3364ec074ca85001da3abd78be2ae521',\n",
       "       '3c275e5acf8974e1afd765bd3011424c',\n",
       "       '4b317fc27dde351e12253d46cedd8df0',\n",
       "       '7cc0cb1871dfd558f11a2885c145d144',\n",
       "       'c499f905e33929a641f083dad55c521e',\n",
       "       'ecd018ad66f497fb8f188ed5a71b284b',\n",
       "       'fb467982dcc77a7f9199bebe709bb700'], dtype='<U32')"
      ]
     },
     "execution_count": 24,
     "metadata": {},
     "output_type": "execute_result"
    }
   ],
   "source": [
    "feeds_to_filter"
   ]
  },
  {
   "cell_type": "code",
   "execution_count": 25,
   "id": "7197bbed-ce58-4164-a8e5-1477eb2304cc",
   "metadata": {
    "tags": []
   },
   "outputs": [
    {
     "data": {
      "text/plain": [
       "'0666caf3ec1ecc96b74f4477ee4bc939'"
      ]
     },
     "execution_count": 25,
     "metadata": {},
     "output_type": "execute_result"
    }
   ],
   "source": [
    "# gtfs_dataset_key = feeds_to_filter[0]\n",
    "gtfs_dataset_key = feeds_to_filter[0]\n",
    "gtfs_dataset_key"
   ]
  },
  {
   "cell_type": "code",
   "execution_count": 40,
   "id": "6c765caa-1e3a-4ac4-8267-a2c47e48f525",
   "metadata": {
    "tags": []
   },
   "outputs": [],
   "source": [
    "# unique_qualify_pairs = branching_derived_intersections.evaluate_overlaps(gtfs_dataset_key, qualify_dict, shapes, show_map=True)"
   ]
  },
  {
   "cell_type": "markdown",
   "id": "f0ebe631-8fa9-4cc5-b178-01a3547ce918",
   "metadata": {},
   "source": [
    "## Adding stops"
   ]
  },
  {
   "cell_type": "code",
   "execution_count": 27,
   "id": "3ccabb5f-d427-4ffc-853f-3400bf83f6fe",
   "metadata": {
    "tags": []
   },
   "outputs": [],
   "source": [
    "# hcd_branching_stops = []\n",
    "# for gtfs_dataset_key in feeds_to_filter:\n",
    "#     unique_qualify_pairs = branching_derived_intersections.evaluate_overlaps(gtfs_dataset_key, show_map=False)\n",
    "#     this_feed_stops = branching_derived_intersections.find_stops_this_feed(gtfs_dataset_key, max_arrivals_by_stop_single, unique_qualify_pairs)\n",
    "#     hcd_branching_stops += [this_feed_stops]\n",
    "# hcd_branching_stops = pd.concat(hcd_branching_stops)"
   ]
  },
  {
   "cell_type": "code",
   "execution_count": 28,
   "id": "952048f7-261d-4506-8df2-07b8aca1318c",
   "metadata": {
    "tags": []
   },
   "outputs": [],
   "source": [
    "hcd_branching_stops = gcsgp.read_parquet(f\"{GCS_FILE_PATH}branching_major_stops.parquet\")"
   ]
  },
  {
   "cell_type": "code",
   "execution_count": 29,
   "id": "3b1ed10b-ef56-45cb-b5c3-c3f3bc5e9b9a",
   "metadata": {
    "tags": []
   },
   "outputs": [
    {
     "data": {
      "text/html": [
       "<div>\n",
       "<style scoped>\n",
       "    .dataframe tbody tr th:only-of-type {\n",
       "        vertical-align: middle;\n",
       "    }\n",
       "\n",
       "    .dataframe tbody tr th {\n",
       "        vertical-align: top;\n",
       "    }\n",
       "\n",
       "    .dataframe thead th {\n",
       "        text-align: right;\n",
       "    }\n",
       "</style>\n",
       "<table border=\"1\" class=\"dataframe\">\n",
       "  <thead>\n",
       "    <tr style=\"text-align: right;\">\n",
       "      <th></th>\n",
       "      <th>feed_key</th>\n",
       "      <th>stop_id</th>\n",
       "      <th>geometry</th>\n",
       "      <th>schedule_gtfs_dataset_key</th>\n",
       "    </tr>\n",
       "  </thead>\n",
       "  <tbody>\n",
       "    <tr>\n",
       "      <th>0</th>\n",
       "      <td>8d9623a1823a27925b7e2f00e44fc5bb</td>\n",
       "      <td>2773</td>\n",
       "      <td>POINT (164009.800 -435271.586)</td>\n",
       "      <td>0666caf3ec1ecc96b74f4477ee4bc939</td>\n",
       "    </tr>\n",
       "    <tr>\n",
       "      <th>1</th>\n",
       "      <td>8d9623a1823a27925b7e2f00e44fc5bb</td>\n",
       "      <td>2641</td>\n",
       "      <td>POINT (163232.234 -434098.714)</td>\n",
       "      <td>0666caf3ec1ecc96b74f4477ee4bc939</td>\n",
       "    </tr>\n",
       "    <tr>\n",
       "      <th>2</th>\n",
       "      <td>8d9623a1823a27925b7e2f00e44fc5bb</td>\n",
       "      <td>3873</td>\n",
       "      <td>POINT (162065.780 -432375.210)</td>\n",
       "      <td>0666caf3ec1ecc96b74f4477ee4bc939</td>\n",
       "    </tr>\n",
       "    <tr>\n",
       "      <th>3</th>\n",
       "      <td>8d9623a1823a27925b7e2f00e44fc5bb</td>\n",
       "      <td>2080</td>\n",
       "      <td>POINT (162937.850 -433693.564)</td>\n",
       "      <td>0666caf3ec1ecc96b74f4477ee4bc939</td>\n",
       "    </tr>\n",
       "    <tr>\n",
       "      <th>4</th>\n",
       "      <td>8d9623a1823a27925b7e2f00e44fc5bb</td>\n",
       "      <td>3882</td>\n",
       "      <td>POINT (162817.596 -433529.595)</td>\n",
       "      <td>0666caf3ec1ecc96b74f4477ee4bc939</td>\n",
       "    </tr>\n",
       "    <tr>\n",
       "      <th>...</th>\n",
       "      <td>...</td>\n",
       "      <td>...</td>\n",
       "      <td>...</td>\n",
       "      <td>...</td>\n",
       "    </tr>\n",
       "    <tr>\n",
       "      <th>167</th>\n",
       "      <td>98a10e85e7dfe3ff1caa761d1bc34606</td>\n",
       "      <td>65810</td>\n",
       "      <td>POINT (-160250.962 -75021.181)</td>\n",
       "      <td>fb467982dcc77a7f9199bebe709bb700</td>\n",
       "    </tr>\n",
       "    <tr>\n",
       "      <th>168</th>\n",
       "      <td>98a10e85e7dfe3ff1caa761d1bc34606</td>\n",
       "      <td>65812</td>\n",
       "      <td>POINT (-160191.766 -75082.017)</td>\n",
       "      <td>fb467982dcc77a7f9199bebe709bb700</td>\n",
       "    </tr>\n",
       "    <tr>\n",
       "      <th>169</th>\n",
       "      <td>98a10e85e7dfe3ff1caa761d1bc34606</td>\n",
       "      <td>65812</td>\n",
       "      <td>POINT (-160191.766 -75082.017)</td>\n",
       "      <td>fb467982dcc77a7f9199bebe709bb700</td>\n",
       "    </tr>\n",
       "    <tr>\n",
       "      <th>170</th>\n",
       "      <td>98a10e85e7dfe3ff1caa761d1bc34606</td>\n",
       "      <td>65815</td>\n",
       "      <td>POINT (-166774.211 -68202.607)</td>\n",
       "      <td>fb467982dcc77a7f9199bebe709bb700</td>\n",
       "    </tr>\n",
       "    <tr>\n",
       "      <th>171</th>\n",
       "      <td>98a10e85e7dfe3ff1caa761d1bc34606</td>\n",
       "      <td>65822</td>\n",
       "      <td>POINT (-165691.475 -76330.949)</td>\n",
       "      <td>fb467982dcc77a7f9199bebe709bb700</td>\n",
       "    </tr>\n",
       "  </tbody>\n",
       "</table>\n",
       "<p>670 rows × 4 columns</p>\n",
       "</div>"
      ],
      "text/plain": [
       "                             feed_key stop_id                        geometry  \\\n",
       "0    8d9623a1823a27925b7e2f00e44fc5bb    2773  POINT (164009.800 -435271.586)   \n",
       "1    8d9623a1823a27925b7e2f00e44fc5bb    2641  POINT (163232.234 -434098.714)   \n",
       "2    8d9623a1823a27925b7e2f00e44fc5bb    3873  POINT (162065.780 -432375.210)   \n",
       "3    8d9623a1823a27925b7e2f00e44fc5bb    2080  POINT (162937.850 -433693.564)   \n",
       "4    8d9623a1823a27925b7e2f00e44fc5bb    3882  POINT (162817.596 -433529.595)   \n",
       "..                                ...     ...                             ...   \n",
       "167  98a10e85e7dfe3ff1caa761d1bc34606   65810  POINT (-160250.962 -75021.181)   \n",
       "168  98a10e85e7dfe3ff1caa761d1bc34606   65812  POINT (-160191.766 -75082.017)   \n",
       "169  98a10e85e7dfe3ff1caa761d1bc34606   65812  POINT (-160191.766 -75082.017)   \n",
       "170  98a10e85e7dfe3ff1caa761d1bc34606   65815  POINT (-166774.211 -68202.607)   \n",
       "171  98a10e85e7dfe3ff1caa761d1bc34606   65822  POINT (-165691.475 -76330.949)   \n",
       "\n",
       "            schedule_gtfs_dataset_key  \n",
       "0    0666caf3ec1ecc96b74f4477ee4bc939  \n",
       "1    0666caf3ec1ecc96b74f4477ee4bc939  \n",
       "2    0666caf3ec1ecc96b74f4477ee4bc939  \n",
       "3    0666caf3ec1ecc96b74f4477ee4bc939  \n",
       "4    0666caf3ec1ecc96b74f4477ee4bc939  \n",
       "..                                ...  \n",
       "167  fb467982dcc77a7f9199bebe709bb700  \n",
       "168  fb467982dcc77a7f9199bebe709bb700  \n",
       "169  fb467982dcc77a7f9199bebe709bb700  \n",
       "170  fb467982dcc77a7f9199bebe709bb700  \n",
       "171  fb467982dcc77a7f9199bebe709bb700  \n",
       "\n",
       "[670 rows x 4 columns]"
      ]
     },
     "execution_count": 29,
     "metadata": {},
     "output_type": "execute_result"
    }
   ],
   "source": [
    "hcd_branching_stops"
   ]
  },
  {
   "cell_type": "markdown",
   "id": "7fb425a2-af17-45d2-9856-76174059a319",
   "metadata": {},
   "source": [
    "## script intergration"
   ]
  },
  {
   "cell_type": "code",
   "execution_count": 31,
   "id": "f6e4d365-ca32-480d-90f7-5231d335a8e0",
   "metadata": {
    "tags": []
   },
   "outputs": [],
   "source": [
    "import google.auth\n",
    "credentials, _ = google.auth.default()\n",
    "import intake\n",
    "catalog = intake.open_catalog(\"*.yml\")"
   ]
  },
  {
   "cell_type": "code",
   "execution_count": 34,
   "id": "08c08323-b26a-451c-885f-8278e7d390e1",
   "metadata": {
    "tags": []
   },
   "outputs": [],
   "source": [
    "points = catalog.hqta_points(geopandas_kwargs={\"storage_options\": {\"token\": credentials}}).read()"
   ]
  },
  {
   "cell_type": "code",
   "execution_count": 37,
   "id": "c778e370-2bfe-4fb9-89ff-f2c4ba4da0e5",
   "metadata": {
    "tags": []
   },
   "outputs": [],
   "source": [
    "mts = points.query('hqta_type != \"hq_corridor_bus\"')"
   ]
  },
  {
   "cell_type": "code",
   "execution_count": 39,
   "id": "905baccd-4f1e-4b63-a166-2fb9baf4067f",
   "metadata": {
    "tags": []
   },
   "outputs": [],
   "source": [
    "# mts.explore(tiles='CartoDB Positron')"
   ]
  },
  {
   "cell_type": "markdown",
   "id": "4edc000a-6ff5-4ade-81d7-005852a981d0",
   "metadata": {},
   "source": [
    "## webmap"
   ]
  },
  {
   "cell_type": "code",
   "execution_count": 38,
   "id": "8574a3e5-a1e0-4c0a-a074-4fd6b903617d",
   "metadata": {
    "tags": []
   },
   "outputs": [],
   "source": [
    "# !pip install calitp-data-analysis==2025.6.24\n",
    "from calitp_data_analysis.gcs_geopandas import GCSGeoPandas\n",
    "\n",
    "gcsgp = GCSGeoPandas()\n",
    "hqts = gcsgp.read_parquet(f'{EXPORT_PATH}ca_hq_transit_stops.parquet')"
   ]
  },
  {
   "cell_type": "code",
   "execution_count": 42,
   "id": "39175f10-ea9a-4cd1-8ef9-142351dfe4b6",
   "metadata": {
    "tags": []
   },
   "outputs": [
    {
     "data": {
      "text/plain": [
       "\u001b[0;31mSignature:\u001b[0m \u001b[0mgcsgp\u001b[0m\u001b[0;34m.\u001b[0m\u001b[0mread_file\u001b[0m\u001b[0;34m(\u001b[0m\u001b[0mpath\u001b[0m\u001b[0;34m,\u001b[0m \u001b[0;34m*\u001b[0m\u001b[0margs\u001b[0m\u001b[0;34m,\u001b[0m \u001b[0;34m**\u001b[0m\u001b[0mkwds\u001b[0m\u001b[0;34m)\u001b[0m\u001b[0;34m\u001b[0m\u001b[0;34m\u001b[0m\u001b[0m\n",
       "\u001b[0;31mDocstring:\u001b[0m Delegates to gpd.read_file with the file at the path specified in the GCS filesystem\n",
       "\u001b[0;31mFile:\u001b[0m      /opt/conda/lib/python3.11/site-packages/calitp_data_analysis/gcs_geopandas.py\n",
       "\u001b[0;31mType:\u001b[0m      method"
      ]
     },
     "metadata": {},
     "output_type": "display_data"
    }
   ],
   "source": [
    "gcsgp.read_file?"
   ]
  },
  {
   "cell_type": "code",
   "execution_count": 38,
   "id": "8cf3266f-38db-4da2-a4a1-52a0b39f96d3",
   "metadata": {
    "tags": []
   },
   "outputs": [
    {
     "data": {
      "text/plain": [
       "Index(['agency_primary', 'hqta_type', 'stop_id', 'route_id', 'hqta_details',\n",
       "       'agency_secondary', 'base64_url_primary', 'base64_url_secondary',\n",
       "       'org_id_primary', 'org_id_secondary', 'avg_trips_per_peak_hr',\n",
       "       'geometry'],\n",
       "      dtype='object')"
      ]
     },
     "execution_count": 38,
     "metadata": {},
     "output_type": "execute_result"
    }
   ],
   "source": [
    "hqts.columns"
   ]
  },
  {
   "cell_type": "code",
   "execution_count": 44,
   "id": "d673ce3b-6e77-4b1f-a7e6-872ab587a6bd",
   "metadata": {
    "tags": []
   },
   "outputs": [],
   "source": [
    "mts = hqts.query('hqta_type.str.contains(\"major_stop\")').to_crs(PROJECT_CRS)"
   ]
  },
  {
   "cell_type": "code",
   "execution_count": 46,
   "id": "fc6caf0a-d095-4593-aac6-20fd7b24f001",
   "metadata": {
    "tags": []
   },
   "outputs": [],
   "source": [
    "mts.geometry = mts.buffer(HALF_MILE_BUFFER_METERS)\n",
    "hcd_branching_stops.geometry = hcd_branching_stops.buffer(HALF_MILE_BUFFER_METERS)"
   ]
  },
  {
   "cell_type": "code",
   "execution_count": 48,
   "id": "3cf95b9c-6e9d-48e1-8919-987eacc4b7b9",
   "metadata": {
    "tags": []
   },
   "outputs": [],
   "source": [
    "mts['color'] = [(230, 45, 39)] * mts.shape[0]"
   ]
  },
  {
   "cell_type": "code",
   "execution_count": 49,
   "id": "f8380dab-e0ba-47c7-bbb7-0af93ef471b6",
   "metadata": {
    "tags": []
   },
   "outputs": [],
   "source": [
    "hcd_branching_stops['color'] = [(24, 49, 214)] * hcd_branching_stops.shape[0]"
   ]
  },
  {
   "cell_type": "code",
   "execution_count": 50,
   "id": "25a42282-320a-4bb7-ba50-ab762bb3b689",
   "metadata": {
    "tags": []
   },
   "outputs": [],
   "source": [
    "from shared_utils import webmap_utils"
   ]
  },
  {
   "cell_type": "code",
   "execution_count": 79,
   "id": "821841bd-990a-4012-bc3b-6be27ad064e9",
   "metadata": {
    "tags": []
   },
   "outputs": [
    {
     "name": "stderr",
     "output_type": "stream",
     "text": [
      "/home/jovyan/data-analyses/_shared_utils/shared_utils/webmap_utils.py:112: UserWarning: Geometry is in a geographic CRS. Results from 'centroid' are likely incorrect. Use 'GeoSeries.to_crs()' to re-project geometries to a projected CRS before this operation.\n",
      "\n",
      "  centroid = (gdf.geometry.centroid.y.mean(), gdf.geometry.centroid.x.mean())\n"
     ]
    }
   ],
   "source": [
    "current_state = webmap_utils.set_state_export(mts.dissolve(), filename='test_major_stops0702', color_col='color',\n",
    "                                             map_title='Current Major Transit Stops (buffered)')"
   ]
  },
  {
   "cell_type": "code",
   "execution_count": 80,
   "id": "9c99a8dc-9186-4d0a-86ee-3096df3a0081",
   "metadata": {
    "tags": []
   },
   "outputs": [
    {
     "data": {
      "text/plain": [
       "{'state_dict': {'name': 'null',\n",
       "  'layers': [{'name': 'Current Major Transit Stops (buffered)',\n",
       "    'url': 'https://storage.googleapis.com/calitp-map-tiles/testing/test_major_stops0702.geojson.gz',\n",
       "    'properties': {'stroked': False, 'highlight_saturation_multiplier': 0.5},\n",
       "    'type': ['speedmap',\n",
       "     'speed_variation',\n",
       "     'new_speedmap',\n",
       "     'new_speed_variation',\n",
       "     'hqta_areas',\n",
       "     'hqta_stops',\n",
       "     'state_highway_network',\n",
       "     None]}],\n",
       "  'lat_lon': (35.2889112842056, -119.47858852079196),\n",
       "  'zoom': 13},\n",
       " 'spa_link': 'https://embeddable-maps.calitp.org/?state=eyJuYW1lIjogIm51bGwiLCAibGF5ZXJzIjogW3sibmFtZSI6ICJDdXJyZW50IE1ham9yIFRyYW5zaXQgU3RvcHMgKGJ1ZmZlcmVkKSIsICJ1cmwiOiAiaHR0cHM6Ly9zdG9yYWdlLmdvb2dsZWFwaXMuY29tL2NhbGl0cC1tYXAtdGlsZXMvdGVzdGluZy90ZXN0X21ham9yX3N0b3BzMDcwMi5nZW9qc29uLmd6IiwgInByb3BlcnRpZXMiOiB7InN0cm9rZWQiOiBmYWxzZSwgImhpZ2hsaWdodF9zYXR1cmF0aW9uX211bHRpcGxpZXIiOiAwLjV9LCAidHlwZSI6IFsic3BlZWRtYXAiLCAic3BlZWRfdmFyaWF0aW9uIiwgIm5ld19zcGVlZG1hcCIsICJuZXdfc3BlZWRfdmFyaWF0aW9uIiwgImhxdGFfYXJlYXMiLCAiaHF0YV9zdG9wcyIsICJzdGF0ZV9oaWdod2F5X25ldHdvcmsiLCBudWxsXX1dLCAibGF0X2xvbiI6IFszNS4yODg5MTEyODQyMDU2LCAtMTE5LjQ3ODU4ODUyMDc5MTk2XSwgInpvb20iOiAxM30='}"
      ]
     },
     "execution_count": 80,
     "metadata": {},
     "output_type": "execute_result"
    }
   ],
   "source": [
    "current_state"
   ]
  },
  {
   "cell_type": "code",
   "execution_count": 81,
   "id": "82c2fa21-9875-44fd-9b8c-4e05de665100",
   "metadata": {
    "tags": []
   },
   "outputs": [
    {
     "name": "stderr",
     "output_type": "stream",
     "text": [
      "/home/jovyan/data-analyses/_shared_utils/shared_utils/webmap_utils.py:112: UserWarning: Geometry is in a geographic CRS. Results from 'centroid' are likely incorrect. Use 'GeoSeries.to_crs()' to re-project geometries to a projected CRS before this operation.\n",
      "\n",
      "  centroid = (gdf.geometry.centroid.y.mean(), gdf.geometry.centroid.x.mean())\n"
     ]
    }
   ],
   "source": [
    "branch_state = webmap_utils.set_state_export(hcd_branching_stops, filename='test_branching_stops0702', color_col='color',\n",
    "                                      map_title='New \"Y-branching\" Major Transit Stops (buffered)'\n",
    "                                            )"
   ]
  },
  {
   "cell_type": "code",
   "execution_count": 82,
   "id": "e0694110-5770-4848-9a00-625065318b43",
   "metadata": {
    "tags": []
   },
   "outputs": [
    {
     "data": {
      "text/plain": [
       "{'state_dict': {'name': 'null',\n",
       "  'layers': [{'name': 'New \"Y-branching\" Major Transit Stops (buffered)',\n",
       "    'url': 'https://storage.googleapis.com/calitp-map-tiles/testing/test_branching_stops0702.geojson.gz',\n",
       "    'properties': {'stroked': False, 'highlight_saturation_multiplier': 0.5},\n",
       "    'type': ['speedmap',\n",
       "     'speed_variation',\n",
       "     'new_speedmap',\n",
       "     'new_speed_variation',\n",
       "     'hqta_areas',\n",
       "     'hqta_stops',\n",
       "     'state_highway_network',\n",
       "     None]}],\n",
       "  'lat_lon': (35.543636272302784, -119.93017518848204),\n",
       "  'zoom': 13},\n",
       " 'spa_link': 'https://embeddable-maps.calitp.org/?state=eyJuYW1lIjogIm51bGwiLCAibGF5ZXJzIjogW3sibmFtZSI6ICJOZXcgXCJZLWJyYW5jaGluZ1wiIE1ham9yIFRyYW5zaXQgU3RvcHMgKGJ1ZmZlcmVkKSIsICJ1cmwiOiAiaHR0cHM6Ly9zdG9yYWdlLmdvb2dsZWFwaXMuY29tL2NhbGl0cC1tYXAtdGlsZXMvdGVzdGluZy90ZXN0X2JyYW5jaGluZ19zdG9wczA3MDIuZ2VvanNvbi5neiIsICJwcm9wZXJ0aWVzIjogeyJzdHJva2VkIjogZmFsc2UsICJoaWdobGlnaHRfc2F0dXJhdGlvbl9tdWx0aXBsaWVyIjogMC41fSwgInR5cGUiOiBbInNwZWVkbWFwIiwgInNwZWVkX3ZhcmlhdGlvbiIsICJuZXdfc3BlZWRtYXAiLCAibmV3X3NwZWVkX3ZhcmlhdGlvbiIsICJocXRhX2FyZWFzIiwgImhxdGFfc3RvcHMiLCAic3RhdGVfaGlnaHdheV9uZXR3b3JrIiwgbnVsbF19XSwgImxhdF9sb24iOiBbMzUuNTQzNjM2MjcyMzAyNzg0LCAtMTE5LjkzMDE3NTE4ODQ4MjA0XSwgInpvb20iOiAxM30='}"
      ]
     },
     "execution_count": 82,
     "metadata": {},
     "output_type": "execute_result"
    }
   ],
   "source": [
    "branch_state"
   ]
  },
  {
   "cell_type": "code",
   "execution_count": 83,
   "id": "0b7970ac-b7a9-4af9-bc66-dc8200c2e695",
   "metadata": {
    "tags": []
   },
   "outputs": [
    {
     "name": "stderr",
     "output_type": "stream",
     "text": [
      "/home/jovyan/data-analyses/_shared_utils/shared_utils/webmap_utils.py:112: UserWarning: Geometry is in a geographic CRS. Results from 'centroid' are likely incorrect. Use 'GeoSeries.to_crs()' to re-project geometries to a projected CRS before this operation.\n",
      "\n",
      "  centroid = (gdf.geometry.centroid.y.mean(), gdf.geometry.centroid.x.mean())\n"
     ]
    }
   ],
   "source": [
    "both_state = webmap_utils.set_state_export(hcd_branching_stops, filename='test_branching_stops0702', color_col='color',\n",
    "                                     existing_state = current_state['state_dict'], map_title='New \"Y-branching\" in blue, existing in red'\n",
    "                                            )"
   ]
  },
  {
   "cell_type": "code",
   "execution_count": 84,
   "id": "0376188b-9127-4c73-9e1a-24b16ec78034",
   "metadata": {
    "tags": []
   },
   "outputs": [
    {
     "data": {
      "text/plain": [
       "{'state_dict': {'name': 'null',\n",
       "  'layers': [{'name': 'Current Major Transit Stops (buffered)',\n",
       "    'url': 'https://storage.googleapis.com/calitp-map-tiles/testing/test_major_stops0702.geojson.gz',\n",
       "    'properties': {'stroked': False, 'highlight_saturation_multiplier': 0.5},\n",
       "    'type': ['speedmap',\n",
       "     'speed_variation',\n",
       "     'new_speedmap',\n",
       "     'new_speed_variation',\n",
       "     'hqta_areas',\n",
       "     'hqta_stops',\n",
       "     'state_highway_network',\n",
       "     None]},\n",
       "   {'name': 'New \"Y-branching\" in blue, existing in red',\n",
       "    'url': 'https://storage.googleapis.com/calitp-map-tiles/testing/test_branching_stops0702.geojson.gz',\n",
       "    'properties': {'stroked': False, 'highlight_saturation_multiplier': 0.5},\n",
       "    'type': ['speedmap',\n",
       "     'speed_variation',\n",
       "     'new_speedmap',\n",
       "     'new_speed_variation',\n",
       "     'hqta_areas',\n",
       "     'hqta_stops',\n",
       "     'state_highway_network',\n",
       "     None]}],\n",
       "  'lat_lon': (35.543636272302784, -119.93017518848204),\n",
       "  'zoom': 13},\n",
       " 'spa_link': 'https://embeddable-maps.calitp.org/?state=eyJuYW1lIjogIm51bGwiLCAibGF5ZXJzIjogW3sibmFtZSI6ICJDdXJyZW50IE1ham9yIFRyYW5zaXQgU3RvcHMgKGJ1ZmZlcmVkKSIsICJ1cmwiOiAiaHR0cHM6Ly9zdG9yYWdlLmdvb2dsZWFwaXMuY29tL2NhbGl0cC1tYXAtdGlsZXMvdGVzdGluZy90ZXN0X21ham9yX3N0b3BzMDcwMi5nZW9qc29uLmd6IiwgInByb3BlcnRpZXMiOiB7InN0cm9rZWQiOiBmYWxzZSwgImhpZ2hsaWdodF9zYXR1cmF0aW9uX211bHRpcGxpZXIiOiAwLjV9LCAidHlwZSI6IFsic3BlZWRtYXAiLCAic3BlZWRfdmFyaWF0aW9uIiwgIm5ld19zcGVlZG1hcCIsICJuZXdfc3BlZWRfdmFyaWF0aW9uIiwgImhxdGFfYXJlYXMiLCAiaHF0YV9zdG9wcyIsICJzdGF0ZV9oaWdod2F5X25ldHdvcmsiLCBudWxsXX0sIHsibmFtZSI6ICJOZXcgXCJZLWJyYW5jaGluZ1wiIGluIGJsdWUsIGV4aXN0aW5nIGluIHJlZCIsICJ1cmwiOiAiaHR0cHM6Ly9zdG9yYWdlLmdvb2dsZWFwaXMuY29tL2NhbGl0cC1tYXAtdGlsZXMvdGVzdGluZy90ZXN0X2JyYW5jaGluZ19zdG9wczA3MDIuZ2VvanNvbi5neiIsICJwcm9wZXJ0aWVzIjogeyJzdHJva2VkIjogZmFsc2UsICJoaWdobGlnaHRfc2F0dXJhdGlvbl9tdWx0aXBsaWVyIjogMC41fSwgInR5cGUiOiBbInNwZWVkbWFwIiwgInNwZWVkX3ZhcmlhdGlvbiIsICJuZXdfc3BlZWRtYXAiLCAibmV3X3NwZWVkX3ZhcmlhdGlvbiIsICJocXRhX2FyZWFzIiwgImhxdGFfc3RvcHMiLCAic3RhdGVfaGlnaHdheV9uZXR3b3JrIiwgbnVsbF19XSwgImxhdF9sb24iOiBbMzUuNTQzNjM2MjcyMzAyNzg0LCAtMTE5LjkzMDE3NTE4ODQ4MjA0XSwgInpvb20iOiAxM30='}"
      ]
     },
     "execution_count": 84,
     "metadata": {},
     "output_type": "execute_result"
    }
   ],
   "source": [
    "both_state"
   ]
  }
 ],
 "metadata": {
  "kernelspec": {
   "display_name": "Python 3 (ipykernel)",
   "language": "python",
   "name": "python3"
  },
  "language_info": {
   "codemirror_mode": {
    "name": "ipython",
    "version": 3
   },
   "file_extension": ".py",
   "mimetype": "text/x-python",
   "name": "python",
   "nbconvert_exporter": "python",
   "pygments_lexer": "ipython3",
   "version": "3.11.10"
  },
  "widgets": {
   "application/vnd.jupyter.widget-state+json": {
    "state": {},
    "version_major": 2,
    "version_minor": 0
   }
  }
 },
 "nbformat": 4,
 "nbformat_minor": 5
}
