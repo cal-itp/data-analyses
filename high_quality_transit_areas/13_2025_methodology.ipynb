{
 "cells": [
  {
   "cell_type": "code",
   "execution_count": null,
   "id": "38262382-8e2c-4eb9-86ce-aa4aa251d6d4",
   "metadata": {},
   "outputs": [],
   "source": [
    "import os\n",
    "os.environ[\"CALITP_BQ_MAX_BYTES\"] = str(1_000_000_000_000) ## 1TB?"
   ]
  },
  {
   "cell_type": "code",
   "execution_count": null,
   "id": "5bbd8694-444f-48c0-89a0-00c5c0e542c8",
   "metadata": {},
   "outputs": [],
   "source": [
    "import geopandas as gpd\n",
    "import pandas as pd\n",
    "from siuba import *\n",
    "import numpy as np\n",
    "\n",
    "from segment_speed_utils import helpers, gtfs_schedule_wrangling\n",
    "from shared_utils import rt_dates, gtfs_utils_v2\n",
    "import folium\n",
    "import itertools"
   ]
  },
  {
   "cell_type": "code",
   "execution_count": null,
   "id": "994a67bc-1cbe-4477-ac3b-cbe0f7e4822e",
   "metadata": {},
   "outputs": [],
   "source": [
    "from update_vars import (analysis_date, AM_PEAK, PM_PEAK, EXPORT_PATH, GCS_FILE_PATH, PROJECT_CRS,\n",
    "SEGMENT_BUFFER_METERS, AM_PEAK, PM_PEAK, HQ_TRANSIT_THRESHOLD, MS_TRANSIT_THRESHOLD, SHARED_STOP_THRESHOLD)"
   ]
  },
  {
   "cell_type": "code",
   "execution_count": null,
   "id": "4706f9e9-03d9-49d7-9b3a-d5044018127e",
   "metadata": {},
   "outputs": [],
   "source": [
    "import create_aggregate_stop_frequencies as casf"
   ]
  },
  {
   "cell_type": "code",
   "execution_count": null,
   "id": "f494bb98-09d9-472c-882c-158c35d391f4",
   "metadata": {},
   "outputs": [],
   "source": [
    "import importlib\n",
    "importlib.reload(casf)"
   ]
  },
  {
   "cell_type": "code",
   "execution_count": null,
   "id": "cd373f3b-6a3a-40c4-8f59-52ad745ae1d7",
   "metadata": {},
   "outputs": [],
   "source": [
    "am_peak_hrs = list(range(AM_PEAK[0].hour, AM_PEAK[1].hour))\n",
    "pm_peak_hrs = list(range(PM_PEAK[0].hour, PM_PEAK[1].hour))\n",
    "both_peaks_hrs = am_peak_hrs + pm_peak_hrs"
   ]
  },
  {
   "cell_type": "code",
   "execution_count": null,
   "id": "fd40c5c1-6d79-4bb0-87bd-18c9053af24b",
   "metadata": {},
   "outputs": [],
   "source": [
    "analysis_date"
   ]
  },
  {
   "cell_type": "code",
   "execution_count": null,
   "id": "fe9470ff-40a3-40d0-aaed-913784f105ac",
   "metadata": {},
   "outputs": [],
   "source": [
    "stop_times = helpers.import_scheduled_stop_times(\n",
    "    analysis_date,\n",
    "    get_pandas = True,\n",
    ")"
   ]
  },
  {
   "cell_type": "code",
   "execution_count": null,
   "id": "5fb68a8a-fc8c-44a9-815b-4bd279ae28e7",
   "metadata": {},
   "outputs": [],
   "source": [
    "stop_times = casf.add_route_dir(stop_times, analysis_date)"
   ]
  },
  {
   "cell_type": "code",
   "execution_count": null,
   "id": "f5be9fd7-63c6-40ca-b22e-6d08793763dd",
   "metadata": {},
   "outputs": [],
   "source": [
    "st_prepped = stop_times.pipe(casf.prep_stop_times)"
   ]
  },
  {
   "cell_type": "markdown",
   "id": "992939ec-f8d1-4a85-b316-b6008fb476bb",
   "metadata": {
    "tags": []
   },
   "source": [
    "## HCD Y-Branching\n",
    "\n",
    "* combine single route frequencies with collinearity screen...\n",
    "* actually, these routes need to pass _both_ a collinearity screen and a non-collinearity screen: 8+ stops shared and also 8+ stops not shared (meaningful service on all 3 legs of the Y)"
   ]
  },
  {
   "cell_type": "code",
   "execution_count": null,
   "id": "72078a65-76a8-436f-9858-6523d9280688",
   "metadata": {
    "tags": []
   },
   "outputs": [],
   "source": [
    "max_arrivals_by_stop_single = st_prepped.pipe(casf.stop_times_aggregation_max_by_stop, analysis_date, single_route_dir=True)\n",
    "max_arrivals_by_stop_multi = st_prepped.pipe(casf.stop_times_aggregation_max_by_stop, analysis_date, single_route_dir=False)"
   ]
  },
  {
   "cell_type": "code",
   "execution_count": null,
   "id": "4a1173a5-5b28-4022-9706-f0421a523f90",
   "metadata": {
    "tags": []
   },
   "outputs": [],
   "source": [
    "multi_only_explode = casf.get_explode_multiroute_only(max_arrivals_by_stop_single, max_arrivals_by_stop_multi, (HQ_TRANSIT_THRESHOLD, MS_TRANSIT_THRESHOLD))"
   ]
  },
  {
   "cell_type": "code",
   "execution_count": null,
   "id": "8bd09371-888e-4e0a-bd37-a4e12ffa8df6",
   "metadata": {
    "tags": []
   },
   "outputs": [],
   "source": [
    "multi_only_explode.head(3)"
   ]
  },
  {
   "cell_type": "code",
   "execution_count": null,
   "id": "575aa372-8139-47c9-b8c0-51454f8ae401",
   "metadata": {
    "tags": []
   },
   "outputs": [],
   "source": [
    "def get_explode_singles(\n",
    "    single_route_aggregation: pd.DataFrame,\n",
    "    frequency_thresholds: tuple\n",
    ") -> pd.DataFrame:\n",
    "    ms_precursor_threshold = min(frequency_thresholds)\n",
    "    single_qual = (single_route_aggregation.query('am_max_trips_hr >= @ms_precursor_threshold & pm_max_trips_hr >= @ms_precursor_threshold')\n",
    "                   .explode('route_dir')\n",
    "                   .sort_values(['schedule_gtfs_dataset_key','stop_id', 'route_dir'])[['schedule_gtfs_dataset_key','stop_id', 'route_dir']]\n",
    "                  )\n",
    "    return single_qual"
   ]
  },
  {
   "cell_type": "code",
   "execution_count": null,
   "id": "9ddfae70-42db-43fb-bcfc-3e78e2374895",
   "metadata": {
    "tags": []
   },
   "outputs": [],
   "source": [
    "singles_explode = get_explode_singles(max_arrivals_by_stop_single, (HQ_TRANSIT_THRESHOLD, MS_TRANSIT_THRESHOLD)).explode('route_dir')"
   ]
  },
  {
   "cell_type": "code",
   "execution_count": null,
   "id": "f98731e5-f6b3-4444-bc7c-ac485cd97c13",
   "metadata": {
    "tags": []
   },
   "outputs": [],
   "source": [
    "from tqdm import tqdm\n",
    "tqdm.pandas()"
   ]
  },
  {
   "cell_type": "code",
   "execution_count": null,
   "id": "aaf7e37f-e897-4f8e-a64d-29fef518790a",
   "metadata": {
    "tags": []
   },
   "outputs": [],
   "source": [
    "share_counts = {}\n",
    "singles_explode.groupby(['schedule_gtfs_dataset_key', 'stop_id']).progress_apply(casf.accumulate_share_count, share_counts=share_counts)"
   ]
  },
  {
   "cell_type": "code",
   "execution_count": null,
   "id": "586118d7-55bb-4991-a048-e18f0d9fa163",
   "metadata": {
    "tags": []
   },
   "outputs": [],
   "source": [
    "qualify_dict = {key: share_counts[key] for key in share_counts.keys() if share_counts[key] >= SHARED_STOP_THRESHOLD}"
   ]
  },
  {
   "cell_type": "code",
   "execution_count": null,
   "id": "65386f6c-d7b4-48dd-82e9-f40dd6d3fd06",
   "metadata": {
    "tags": []
   },
   "outputs": [],
   "source": [
    "feeds_to_filter = np.unique([key.split('__')[0] for key in qualify_dict.keys()])"
   ]
  },
  {
   "cell_type": "code",
   "execution_count": null,
   "id": "2d387dd1-00bb-4066-bc58-451870527943",
   "metadata": {
    "tags": []
   },
   "outputs": [],
   "source": [
    "qualify_dict"
   ]
  },
  {
   "cell_type": "code",
   "execution_count": null,
   "id": "180bb507-63b6-49ce-94be-5de7d5a46601",
   "metadata": {
    "tags": []
   },
   "outputs": [],
   "source": [
    "(singles_explode.query('route_dir.isin([\"20-13191_1\", \"720-13191_1\"])').stop_id.value_counts() == 1).value_counts()\n",
    "#  True: unshared stop count False: shared stop count"
   ]
  },
  {
   "cell_type": "markdown",
   "id": "0907af24-134b-4e6d-82ac-bc74b96cf207",
   "metadata": {},
   "source": [
    "* local/rapid overlap, there are many unshared stops but that does not offer riders meaningful choice (still a spatial subset)\n",
    "* need a spatial methodology here..."
   ]
  },
  {
   "cell_type": "code",
   "execution_count": null,
   "id": "e7ee8055-a693-458c-9a16-ec88d729c34e",
   "metadata": {
    "tags": []
   },
   "outputs": [],
   "source": [
    "feeds_to_filter = np.unique([key.split('__')[0] for key in qualify_dict.keys()])"
   ]
  },
  {
   "cell_type": "code",
   "execution_count": null,
   "id": "130c2ff7-801a-4fc3-8dc8-285bbcd6979a",
   "metadata": {
    "tags": []
   },
   "outputs": [],
   "source": [
    "feeds_to_filter"
   ]
  },
  {
   "cell_type": "code",
   "execution_count": null,
   "id": "1a810611-6ac0-4a78-bade-b6be69afb03b",
   "metadata": {
    "tags": []
   },
   "outputs": [],
   "source": [
    "helpers.import_scheduled_shapes?"
   ]
  },
  {
   "cell_type": "code",
   "execution_count": null,
   "id": "9e326a6d-d134-4324-8b79-e5542a9c2329",
   "metadata": {
    "tags": []
   },
   "outputs": [],
   "source": [
    "## TODO integrate into script\n",
    "\n",
    "def get_trips_with_route_dir(analysis_date):\n",
    "    trips = helpers.import_scheduled_trips(\n",
    "    analysis_date,\n",
    "    columns = [\"feed_key\", \"gtfs_dataset_key\", \"trip_id\",\n",
    "               \"route_id\", \"direction_id\", \"route_type\",\n",
    "              \"shape_array_key\", \"route_short_name\", \"name\"],\n",
    "    get_pandas = True\n",
    "    )\n",
    "    trips = trips[trips['route_type'].isin(['3', '11'])] #  bus only\n",
    "\n",
    "    trips.direction_id = trips.direction_id.fillna(0).astype(int).astype(str)\n",
    "    trips['route_dir'] = trips[['route_id', 'direction_id']].agg('_'.join, axis=1)\n",
    "    \n",
    "    return trips"
   ]
  },
  {
   "cell_type": "code",
   "execution_count": null,
   "id": "81976c10-a715-4522-901e-665887e80cfa",
   "metadata": {
    "tags": []
   },
   "outputs": [],
   "source": [
    "shapes = helpers.import_scheduled_shapes(analysis_date, columns=['shape_array_key', 'geometry'])\n",
    "\n",
    "trips = (get_trips_with_route_dir(analysis_date)\n",
    "         .query(\"schedule_gtfs_dataset_key.isin(@feeds_to_filter)\")\n",
    "         .drop_duplicates(subset=['schedule_gtfs_dataset_key', 'shape_array_key', 'route_dir'])\n",
    "        \n",
    "        )"
   ]
  },
  {
   "cell_type": "code",
   "execution_count": null,
   "id": "0bf7d8ae-7e48-4e01-821f-5944e33050dd",
   "metadata": {
    "tags": []
   },
   "outputs": [],
   "source": [
    "trips.head(3)"
   ]
  },
  {
   "cell_type": "code",
   "execution_count": null,
   "id": "639fcf71-1bbf-48eb-99eb-6886ffbe374b",
   "metadata": {
    "tags": []
   },
   "outputs": [],
   "source": [
    "trips.drop_duplicates(subset=['name'])"
   ]
  },
  {
   "cell_type": "markdown",
   "id": "66e47d0c-4539-40ea-aca8-4d908d802be0",
   "metadata": {},
   "source": [
    "* dissolve shapes by route+dir, pick longest\n",
    "* also try  dissolve shapes by route+dir, dissolve\n",
    "* find non-overlap by previously qualifying pair"
   ]
  },
  {
   "cell_type": "code",
   "execution_count": null,
   "id": "5a5fa1fb-74b0-438c-bcec-db7e3ba9c762",
   "metadata": {
    "tags": []
   },
   "outputs": [],
   "source": [
    "shapes = shapes.merge(trips, on='shape_array_key')\n",
    "shapes = shapes.assign(length = shapes.geometry.length)"
   ]
  },
  {
   "cell_type": "code",
   "execution_count": null,
   "id": "5ba1e90d-2106-45a0-b58d-89ba5492eed2",
   "metadata": {
    "tags": []
   },
   "outputs": [],
   "source": [
    "OVERLAY_BUFFER = 20\n",
    "AREA_MULTIPLIER = OVERLAY_BUFFER * 2\n",
    "\n",
    "TARGET_METERS_DIFFERENCE = 5000 #  5km per route\n",
    "TARGET_AREA_DIFFERENCE = TARGET_METERS_DIFFERENCE * AREA_MULTIPLIER"
   ]
  },
  {
   "cell_type": "code",
   "execution_count": null,
   "id": "df99de98-1545-4bdd-907d-4ad06ec78860",
   "metadata": {
    "tags": []
   },
   "outputs": [],
   "source": [
    "shapes.geometry = shapes.buffer(OVERLAY_BUFFER)\n",
    "shapes = shapes.assign(area = shapes.geometry.map(lambda x: x.area))"
   ]
  },
  {
   "cell_type": "code",
   "execution_count": null,
   "id": "edee7838-5591-41f8-8fef-754de6e45f2a",
   "metadata": {
    "tags": []
   },
   "outputs": [],
   "source": [
    "max_by_route_dir = shapes.groupby(['schedule_gtfs_dataset_key', 'route_dir']).length.max().reset_index()"
   ]
  },
  {
   "cell_type": "code",
   "execution_count": null,
   "id": "4a8e1276-b9d6-49cd-97cd-e3f67ceb9ba8",
   "metadata": {
    "tags": []
   },
   "outputs": [],
   "source": [
    "shapes = (shapes.merge(max_by_route_dir, on = ['schedule_gtfs_dataset_key', 'route_dir', 'length'])\n",
    "          .drop_duplicates(subset = ['schedule_gtfs_dataset_key', 'route_dir', 'length'])\n",
    "         )"
   ]
  },
  {
   "cell_type": "code",
   "execution_count": null,
   "id": "95b0d0d4-6e62-45ca-ba16-a3f97eeea1fc",
   "metadata": {
    "tags": []
   },
   "outputs": [],
   "source": [
    "# shapes.explore(column='length')"
   ]
  },
  {
   "cell_type": "code",
   "execution_count": null,
   "id": "8409ac49-ea74-4c67-980e-a6dfe4ba9bd2",
   "metadata": {
    "tags": []
   },
   "outputs": [],
   "source": [
    "feeds_to_filter"
   ]
  },
  {
   "cell_type": "code",
   "execution_count": null,
   "id": "7197bbed-ce58-4164-a8e5-1477eb2304cc",
   "metadata": {
    "tags": []
   },
   "outputs": [],
   "source": [
    "gtfs_dataset_key = feeds_to_filter[0]\n",
    "gtfs_dataset_key"
   ]
  },
  {
   "cell_type": "code",
   "execution_count": null,
   "id": "fd700809-9ed2-4ac4-b8d6-ce0a498ba07a",
   "metadata": {
    "tags": []
   },
   "outputs": [],
   "source": [
    "this_feed_qual = {key.split(gtfs_dataset_key)[1][2:]:qualify_dict[key] for key in qualify_dict.keys() if key.split('__')[0] == gtfs_dataset_key}\n",
    "qualify_pairs = [tuple(key.split('__')) for key in this_feed_qual.keys()]"
   ]
  },
  {
   "cell_type": "code",
   "execution_count": null,
   "id": "07cbbbe3-616c-4659-9ae7-07216918b575",
   "metadata": {
    "tags": []
   },
   "outputs": [],
   "source": [
    "qualify_sets = [set(x) for x in qualify_pairs]\n",
    "qualify_sets = set(map(frozenset, qualify_sets))"
   ]
  },
  {
   "cell_type": "code",
   "execution_count": null,
   "id": "e4b81667-a678-4f71-bc49-5e77c30c03a2",
   "metadata": {
    "tags": []
   },
   "outputs": [],
   "source": [
    "unique_qualify_pairs = [list(x) for x in qualify_sets]"
   ]
  },
  {
   "cell_type": "code",
   "execution_count": null,
   "id": "1e88f1ee-dc83-4184-b31c-06d62f81b261",
   "metadata": {
    "tags": []
   },
   "outputs": [],
   "source": [
    "for pair in unique_qualify_pairs:\n",
    "    print(f'{pair}...', end='')\n",
    "    these_shapes = shapes.query('route_dir.isin(@pair) & schedule_gtfs_dataset_key == @gtfs_dataset_key')\n",
    "    first_row = these_shapes.iloc[0:1][['schedule_gtfs_dataset_key', 'route_dir', 'shape_array_key', 'geometry']]\n",
    "    sym_diff = first_row.overlay(these_shapes.iloc[1:2][['route_dir', 'geometry']], how='symmetric_difference')\n",
    "    sym_diff = sym_diff.assign(area = sym_diff.geometry.map(lambda x: x.area),\n",
    "                          route_dir = sym_diff.route_dir_1.fillna(sym_diff.route_dir_2))\n",
    "    diff_area = sym_diff.area.sum()\n",
    "    area_ratios = (sym_diff.area / TARGET_AREA_DIFFERENCE)\n",
    "    if (sym_diff.area > TARGET_AREA_DIFFERENCE).all():\n",
    "        print(f'passed, {area_ratios[0]:.2f} and {area_ratios[1]:.2f} times area target')\n",
    "        m = these_shapes.explore(color='gray', tiles='CartoDB Positron')\n",
    "        display(sym_diff.explore(column='route_dir', m=m, tiles='CartoDB Positron'))\n",
    "    else:\n",
    "        print(f'failed, {area_ratios[0]:.2f} and {area_ratios[1]:.2f} times area target')\n",
    "        display(these_shapes.explore(column='route_dir', tiles='CartoDB Positron'))"
   ]
  },
  {
   "cell_type": "markdown",
   "id": "ef91a299-d52d-4eb7-8f5c-d6ced72ac8fd",
   "metadata": {
    "jp-MarkdownHeadingCollapsed": true,
    "tags": []
   },
   "source": [
    "## LBT check\n",
    "\n",
    "That location is at the intersection of 2nd and PCH, Stop name: PCH & 2nd NE, stop ID #1465.\n",
    "\n",
    "The Long Beach Transit 121 has 20 minute frequencies almost all day. route-121 - ridelbt\n",
    "The Long Beach Transit 171 has 20 minute frequencies at peak hours (morning and evening). routes-171-175 - ridelbt\n",
    "\n",
    "Under AB2553, this should qualify that stop as being a major transit stop.\n",
    "\n",
    "-> frequency actually insufficient with averaging."
   ]
  },
  {
   "cell_type": "code",
   "execution_count": null,
   "id": "a03b2059-76e7-425c-a76c-8ef8a661b636",
   "metadata": {
    "tags": []
   },
   "outputs": [],
   "source": [
    "stops = helpers.import_scheduled_stops(analysis_date,\n",
    "                                      columns=['feed_key', 'stop_id', 'geometry'])"
   ]
  },
  {
   "cell_type": "code",
   "execution_count": null,
   "id": "c1a3c0de-8344-46dc-85e6-6dab81dc3e25",
   "metadata": {
    "tags": []
   },
   "outputs": [],
   "source": [
    "trips = get_trips_with_route_dir(analysis_date)"
   ]
  },
  {
   "cell_type": "code",
   "execution_count": null,
   "id": "0c948181-43af-4ef4-b51c-21bee48791ab",
   "metadata": {
    "tags": []
   },
   "outputs": [],
   "source": [
    "feeds = trips[['feed_key', 'schedule_gtfs_dataset_key', 'name']].drop_duplicates()"
   ]
  },
  {
   "cell_type": "code",
   "execution_count": null,
   "id": "3367cf80-254a-4d00-a1a7-d26353cd7ab0",
   "metadata": {
    "tags": []
   },
   "outputs": [],
   "source": [
    "feeds = feeds.query('name.str.contains(\"Long Beach\")')"
   ]
  },
  {
   "cell_type": "code",
   "execution_count": null,
   "id": "be0b3bed-e5ed-4b99-80e6-3355323a153b",
   "metadata": {
    "tags": []
   },
   "outputs": [],
   "source": [
    "max_stops = stops.merge(feeds, on = 'feed_key').merge(max_arrivals_by_stop_single, on = ['schedule_gtfs_dataset_key', 'stop_id'])"
   ]
  },
  {
   "cell_type": "code",
   "execution_count": null,
   "id": "3fed7b7a-6218-44e8-958d-7e5b9fd9e6d8",
   "metadata": {
    "tags": []
   },
   "outputs": [],
   "source": [
    "# max_stops.explode('route_dir').query('~route_dir.str.contains(\"131\")').explore()"
   ]
  },
  {
   "cell_type": "code",
   "execution_count": null,
   "id": "c7131414-9002-47f7-ae11-2af866dd7e23",
   "metadata": {},
   "outputs": [],
   "source": []
  }
 ],
 "metadata": {
  "kernelspec": {
   "display_name": "Python 3 (ipykernel)",
   "language": "python",
   "name": "python3"
  },
  "language_info": {
   "codemirror_mode": {
    "name": "ipython",
    "version": 3
   },
   "file_extension": ".py",
   "mimetype": "text/x-python",
   "name": "python",
   "nbconvert_exporter": "python",
   "pygments_lexer": "ipython3",
   "version": "3.11.10"
  },
  "widgets": {
   "application/vnd.jupyter.widget-state+json": {
    "state": {},
    "version_major": 2,
    "version_minor": 0
   }
  }
 },
 "nbformat": 4,
 "nbformat_minor": 5
}
