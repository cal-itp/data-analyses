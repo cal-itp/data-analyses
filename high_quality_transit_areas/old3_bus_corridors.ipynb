{
 "cells": [
  {
   "cell_type": "markdown",
   "id": "dad27b90-6575-4b45-83f7-1613d1917033",
   "metadata": {},
   "source": [
    "# HQTA Map Checks\n",
    "\n",
    "Do some sanity checks and maps on the intermediate outputs to make sure everything looks reasonable."
   ]
  },
  {
   "cell_type": "code",
   "execution_count": 1,
   "id": "3e0eb1c9-a118-43ce-8f32-5cbd0f44f9c8",
   "metadata": {},
   "outputs": [
    {
     "name": "stderr",
     "output_type": "stream",
     "text": [
      "/opt/conda/lib/python3.10/site-packages/geopandas/_compat.py:111: UserWarning: The Shapely GEOS version (3.10.2-CAPI-1.16.0) is incompatible with the GEOS version PyGEOS was compiled with (3.10.1-CAPI-1.16.0). Conversions between both will be slow.\n",
      "  warnings.warn(\n"
     ]
    }
   ],
   "source": [
    "import geopandas as gpd\n",
    "import pandas as pd\n",
    "\n",
    "import utilities \n",
    "from shared_utils import geography_utils"
   ]
  },
  {
   "cell_type": "markdown",
   "id": "0d539536-1c1c-4c6c-9c5f-b1e8c73d4217",
   "metadata": {},
   "source": [
    "### After `B2_combine_operator_corridors`"
   ]
  },
  {
   "cell_type": "code",
   "execution_count": 2,
   "id": "b5969cf2-6408-436e-b2af-226055618132",
   "metadata": {},
   "outputs": [],
   "source": [
    "ALL_BUS = utilities.catalog_filepath(\"all_bus\")\n",
    "\n",
    "hqta_all_operators = gpd.read_parquet(ALL_BUS)"
   ]
  },
  {
   "cell_type": "code",
   "execution_count": 3,
   "id": "024277cb-017d-4186-8b93-5f876517c9c4",
   "metadata": {},
   "outputs": [
    {
     "data": {
      "text/html": [
       "<div>\n",
       "<style scoped>\n",
       "    .dataframe tbody tr th:only-of-type {\n",
       "        vertical-align: middle;\n",
       "    }\n",
       "\n",
       "    .dataframe tbody tr th {\n",
       "        vertical-align: top;\n",
       "    }\n",
       "\n",
       "    .dataframe thead th {\n",
       "        text-align: right;\n",
       "    }\n",
       "</style>\n",
       "<table border=\"1\" class=\"dataframe\">\n",
       "  <thead>\n",
       "    <tr style=\"text-align: right;\">\n",
       "      <th></th>\n",
       "      <th>calitp_itp_id</th>\n",
       "      <th>hq_transit_corr</th>\n",
       "      <th>route_id</th>\n",
       "      <th>geometry</th>\n",
       "    </tr>\n",
       "  </thead>\n",
       "  <tbody>\n",
       "    <tr>\n",
       "      <th>0</th>\n",
       "      <td>4</td>\n",
       "      <td>False</td>\n",
       "      <td>10</td>\n",
       "      <td>MULTIPOLYGON (((-184617.119 -35169.116, -18462...</td>\n",
       "    </tr>\n",
       "    <tr>\n",
       "      <th>1</th>\n",
       "      <td>4</td>\n",
       "      <td>False</td>\n",
       "      <td>12</td>\n",
       "      <td>MULTIPOLYGON (((-199990.480 -22174.364, -19998...</td>\n",
       "    </tr>\n",
       "    <tr>\n",
       "      <th>2</th>\n",
       "      <td>4</td>\n",
       "      <td>False</td>\n",
       "      <td>14</td>\n",
       "      <td>MULTIPOLYGON (((-197401.823 -22481.392, -19740...</td>\n",
       "    </tr>\n",
       "    <tr>\n",
       "      <th>3</th>\n",
       "      <td>4</td>\n",
       "      <td>False</td>\n",
       "      <td>18</td>\n",
       "      <td>MULTIPOLYGON (((-199560.444 -18980.881, -19955...</td>\n",
       "    </tr>\n",
       "    <tr>\n",
       "      <th>4</th>\n",
       "      <td>4</td>\n",
       "      <td>False</td>\n",
       "      <td>19</td>\n",
       "      <td>POLYGON ((-198503.848 -24333.188, -198486.437 ...</td>\n",
       "    </tr>\n",
       "  </tbody>\n",
       "</table>\n",
       "</div>"
      ],
      "text/plain": [
       "   calitp_itp_id  hq_transit_corr route_id  \\\n",
       "0              4            False       10   \n",
       "1              4            False       12   \n",
       "2              4            False       14   \n",
       "3              4            False       18   \n",
       "4              4            False       19   \n",
       "\n",
       "                                            geometry  \n",
       "0  MULTIPOLYGON (((-184617.119 -35169.116, -18462...  \n",
       "1  MULTIPOLYGON (((-199990.480 -22174.364, -19998...  \n",
       "2  MULTIPOLYGON (((-197401.823 -22481.392, -19740...  \n",
       "3  MULTIPOLYGON (((-199560.444 -18980.881, -19955...  \n",
       "4  POLYGON ((-198503.848 -24333.188, -198486.437 ...  "
      ]
     },
     "execution_count": 3,
     "metadata": {},
     "output_type": "execute_result"
    }
   ],
   "source": [
    "keep_cols = ['calitp_itp_id', 'hq_transit_corr', 'route_id']\n",
    "\n",
    "dissolved = hqta_all_operators[keep_cols + ['geometry']\n",
    "                              ].dissolve(by=keep_cols).reset_index()\n",
    "\n",
    "dissolved.head()"
   ]
  },
  {
   "cell_type": "code",
   "execution_count": 4,
   "id": "82e2fdc9-64a7-4976-8d72-cf2a34e0208c",
   "metadata": {},
   "outputs": [],
   "source": [
    "COUNTY_URL = \"https://opendata.arcgis.com/datasets/8713ced9b78a4abb97dc130a691a8695_0.geojson\"\n",
    "\n",
    "counties = gpd.read_file(COUNTY_URL).to_crs(geography_utils.CA_NAD83Albers)\n",
    "\n",
    "bay_area_counties = [\n",
    "    \"Alameda\", \"Contra Costa\", \n",
    "    \"Marin\", \"Napa\", \n",
    "    \"San Francisco\", \"San Mateo\", \"Santa Clara\", \n",
    "    \"Solano\", \"Sonoma\"\n",
    "]\n",
    "\n",
    "hqta_in_bay = gpd.sjoin(\n",
    "    dissolved,\n",
    "    counties[counties.COUNTY_NAME.isin(bay_area_counties)][\n",
    "        [\"COUNTY_NAME\", \"geometry\"]],\n",
    "    how = \"inner\",\n",
    "    predicate=\"intersects\"\n",
    ")\n",
    "\n",
    "hqta_in_la = gpd.sjoin(\n",
    "    dissolved,\n",
    "    counties[counties.COUNTY_NAME == \"Los Angeles\"][\n",
    "        [\"COUNTY_NAME\", \"geometry\"]],\n",
    "    how = \"inner\",\n",
    "    predicate=\"intersects\"\n",
    ")"
   ]
  },
  {
   "cell_type": "markdown",
   "id": "7801863f-fcf3-4099-adb5-dbc41186f9ad",
   "metadata": {},
   "source": [
    "### Bay Area Map"
   ]
  },
  {
   "cell_type": "code",
   "execution_count": 5,
   "id": "1a162242-8002-46ea-9230-95f49a3146a8",
   "metadata": {},
   "outputs": [],
   "source": [
    "#utilities.map_hqta(hqta_in_bay)"
   ]
  },
  {
   "cell_type": "markdown",
   "id": "1ce92081-2e3e-4cf6-a679-cdd8f216a3e2",
   "metadata": {
    "tags": []
   },
   "source": [
    "#### Static Image\n",
    "\n",
    "![map](img/bay.png)"
   ]
  },
  {
   "cell_type": "markdown",
   "id": "c9557a6a-4b8d-4ccb-bcda-09a9e9fcef58",
   "metadata": {},
   "source": [
    "### Los Angeles Map"
   ]
  },
  {
   "cell_type": "code",
   "execution_count": 6,
   "id": "845cb051-f0bf-43d5-bd6c-f90476b3d120",
   "metadata": {},
   "outputs": [],
   "source": [
    "#utilities.map_hqta(hqta_in_la)"
   ]
  },
  {
   "cell_type": "markdown",
   "id": "8a8a7aa9-049a-4c06-9e0a-1f646e9a2cc6",
   "metadata": {
    "tags": []
   },
   "source": [
    "#### Static Image\n",
    "\n",
    "![map](img/la.png)"
   ]
  },
  {
   "cell_type": "markdown",
   "id": "77f44db1-ec48-4333-b972-64e5671088b5",
   "metadata": {},
   "source": [
    "## Result\n",
    "\n",
    "* Ran and aggregated for nearly all bus operators statewide\n",
    "    * Segments not containing stops will not appear as HQTA-- may need to interpolate (e.g., freeway segments)\n",
    "    * Some questionable short segments\n",
    "* Algorithm may be overestimating for SFMTA"
   ]
  },
  {
   "cell_type": "markdown",
   "id": "5b1a455a-03a0-44eb-9862-d0e780dc3c01",
   "metadata": {},
   "source": [
    "### Data Issues\n",
    "\n",
    "* 61 County Connection has a lot of na departure times?\n",
    "    * strange results after dropna\n",
    "* 48 B-Line similarly choppy\n",
    "* 116 Fresno Area Express has whitespace in departure times\n",
    "    * ValueError: time data ' 7:04:00' does not match format '%H:%M:%S'\n",
    "\n"
   ]
  },
  {
   "cell_type": "code",
   "execution_count": null,
   "id": "4a210859-f4fc-4adc-86b3-b75c6e12d008",
   "metadata": {},
   "outputs": [],
   "source": []
  }
 ],
 "metadata": {
  "kernelspec": {
   "display_name": "Python 3 (ipykernel)",
   "language": "python",
   "name": "python3"
  },
  "language_info": {
   "codemirror_mode": {
    "name": "ipython",
    "version": 3
   },
   "file_extension": ".py",
   "mimetype": "text/x-python",
   "name": "python",
   "nbconvert_exporter": "python",
   "pygments_lexer": "ipython3",
   "version": "3.10.4"
  }
 },
 "nbformat": 4,
 "nbformat_minor": 5
}
