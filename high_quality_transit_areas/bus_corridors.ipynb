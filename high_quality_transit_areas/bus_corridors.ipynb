{
 "cells": [
  {
   "cell_type": "code",
   "execution_count": 32,
   "id": "d7bcdd2a-75f6-429b-8c2e-10263abf7ace",
   "metadata": {
    "collapsed": true,
    "jupyter": {
     "outputs_hidden": true
    },
    "tags": []
   },
   "outputs": [
    {
     "name": "stdout",
     "output_type": "stream",
     "text": [
      "Requirement already satisfied: geopandas in /opt/conda/lib/python3.9/site-packages (from -r requirements.txt (line 1)) (0.10.2)\n",
      "Collecting pygeos\n",
      "  Downloading pygeos-0.11.1-cp39-cp39-manylinux_2_12_x86_64.manylinux2010_x86_64.whl (2.1 MB)\n",
      "\u001b[K     |████████████████████████████████| 2.1 MB 7.7 MB/s eta 0:00:01\n",
      "\u001b[?25hRequirement already satisfied: ipyleaflet in /opt/conda/lib/python3.9/site-packages (from -r requirements.txt (line 3)) (0.14.0)\n",
      "Requirement already satisfied: shapely>=1.6 in /opt/conda/lib/python3.9/site-packages (from geopandas->-r requirements.txt (line 1)) (1.8.0)\n",
      "Requirement already satisfied: pyproj>=2.2.0 in /opt/conda/lib/python3.9/site-packages (from geopandas->-r requirements.txt (line 1)) (3.2.1)\n",
      "Requirement already satisfied: pandas>=0.25.0 in /opt/conda/lib/python3.9/site-packages (from geopandas->-r requirements.txt (line 1)) (1.3.3)\n",
      "Requirement already satisfied: fiona>=1.8 in /opt/conda/lib/python3.9/site-packages (from geopandas->-r requirements.txt (line 1)) (1.8.20)\n",
      "Requirement already satisfied: numpy>=1.13 in /opt/conda/lib/python3.9/site-packages (from pygeos->-r requirements.txt (line 2)) (1.20.3)\n",
      "Requirement already satisfied: traittypes<3,>=0.2.1 in /opt/conda/lib/python3.9/site-packages (from ipyleaflet->-r requirements.txt (line 3)) (0.2.1)\n",
      "Requirement already satisfied: ipywidgets<8,>=7.6.0 in /opt/conda/lib/python3.9/site-packages (from ipyleaflet->-r requirements.txt (line 3)) (7.6.5)\n",
      "Requirement already satisfied: six>=1.7 in /opt/conda/lib/python3.9/site-packages (from fiona>=1.8->geopandas->-r requirements.txt (line 1)) (1.16.0)\n",
      "Requirement already satisfied: certifi in /opt/conda/lib/python3.9/site-packages (from fiona>=1.8->geopandas->-r requirements.txt (line 1)) (2021.5.30)\n",
      "Requirement already satisfied: click-plugins>=1.0 in /opt/conda/lib/python3.9/site-packages (from fiona>=1.8->geopandas->-r requirements.txt (line 1)) (1.1.1)\n",
      "Requirement already satisfied: setuptools in /opt/conda/lib/python3.9/site-packages (from fiona>=1.8->geopandas->-r requirements.txt (line 1)) (58.0.4)\n",
      "Requirement already satisfied: attrs>=17 in /opt/conda/lib/python3.9/site-packages (from fiona>=1.8->geopandas->-r requirements.txt (line 1)) (21.2.0)\n",
      "Requirement already satisfied: cligj>=0.5 in /opt/conda/lib/python3.9/site-packages (from fiona>=1.8->geopandas->-r requirements.txt (line 1)) (0.7.2)\n",
      "Requirement already satisfied: munch in /opt/conda/lib/python3.9/site-packages (from fiona>=1.8->geopandas->-r requirements.txt (line 1)) (2.5.0)\n",
      "Requirement already satisfied: click>=4.0 in /opt/conda/lib/python3.9/site-packages (from fiona>=1.8->geopandas->-r requirements.txt (line 1)) (8.0.1)\n",
      "Requirement already satisfied: widgetsnbextension~=3.5.0 in /opt/conda/lib/python3.9/site-packages (from ipywidgets<8,>=7.6.0->ipyleaflet->-r requirements.txt (line 3)) (3.5.1)\n",
      "Requirement already satisfied: traitlets>=4.3.1 in /opt/conda/lib/python3.9/site-packages (from ipywidgets<8,>=7.6.0->ipyleaflet->-r requirements.txt (line 3)) (5.1.0)\n",
      "Requirement already satisfied: nbformat>=4.2.0 in /opt/conda/lib/python3.9/site-packages (from ipywidgets<8,>=7.6.0->ipyleaflet->-r requirements.txt (line 3)) (5.1.3)\n",
      "Requirement already satisfied: ipython-genutils~=0.2.0 in /opt/conda/lib/python3.9/site-packages (from ipywidgets<8,>=7.6.0->ipyleaflet->-r requirements.txt (line 3)) (0.2.0)\n",
      "Requirement already satisfied: jupyterlab-widgets>=1.0.0 in /opt/conda/lib/python3.9/site-packages (from ipywidgets<8,>=7.6.0->ipyleaflet->-r requirements.txt (line 3)) (1.0.2)\n",
      "Requirement already satisfied: ipykernel>=4.5.1 in /opt/conda/lib/python3.9/site-packages (from ipywidgets<8,>=7.6.0->ipyleaflet->-r requirements.txt (line 3)) (6.4.1)\n",
      "Requirement already satisfied: ipython>=4.0.0 in /opt/conda/lib/python3.9/site-packages (from ipywidgets<8,>=7.6.0->ipyleaflet->-r requirements.txt (line 3)) (7.27.0)\n",
      "Requirement already satisfied: tornado<7.0,>=4.2 in /opt/conda/lib/python3.9/site-packages (from ipykernel>=4.5.1->ipywidgets<8,>=7.6.0->ipyleaflet->-r requirements.txt (line 3)) (6.1)\n",
      "Requirement already satisfied: debugpy<2.0,>=1.0.0 in /opt/conda/lib/python3.9/site-packages (from ipykernel>=4.5.1->ipywidgets<8,>=7.6.0->ipyleaflet->-r requirements.txt (line 3)) (1.4.1)\n",
      "Requirement already satisfied: jupyter-client<8.0 in /opt/conda/lib/python3.9/site-packages (from ipykernel>=4.5.1->ipywidgets<8,>=7.6.0->ipyleaflet->-r requirements.txt (line 3)) (7.0.3)\n",
      "Requirement already satisfied: matplotlib-inline<0.2.0,>=0.1.0 in /opt/conda/lib/python3.9/site-packages (from ipykernel>=4.5.1->ipywidgets<8,>=7.6.0->ipyleaflet->-r requirements.txt (line 3)) (0.1.3)\n",
      "Requirement already satisfied: pickleshare in /opt/conda/lib/python3.9/site-packages (from ipython>=4.0.0->ipywidgets<8,>=7.6.0->ipyleaflet->-r requirements.txt (line 3)) (0.7.5)\n",
      "Requirement already satisfied: backcall in /opt/conda/lib/python3.9/site-packages (from ipython>=4.0.0->ipywidgets<8,>=7.6.0->ipyleaflet->-r requirements.txt (line 3)) (0.2.0)\n",
      "Requirement already satisfied: pygments in /opt/conda/lib/python3.9/site-packages (from ipython>=4.0.0->ipywidgets<8,>=7.6.0->ipyleaflet->-r requirements.txt (line 3)) (2.10.0)\n",
      "Requirement already satisfied: pexpect>4.3 in /opt/conda/lib/python3.9/site-packages (from ipython>=4.0.0->ipywidgets<8,>=7.6.0->ipyleaflet->-r requirements.txt (line 3)) (4.8.0)\n",
      "Requirement already satisfied: prompt-toolkit!=3.0.0,!=3.0.1,<3.1.0,>=2.0.0 in /opt/conda/lib/python3.9/site-packages (from ipython>=4.0.0->ipywidgets<8,>=7.6.0->ipyleaflet->-r requirements.txt (line 3)) (3.0.20)\n",
      "Requirement already satisfied: jedi>=0.16 in /opt/conda/lib/python3.9/site-packages (from ipython>=4.0.0->ipywidgets<8,>=7.6.0->ipyleaflet->-r requirements.txt (line 3)) (0.18.0)\n",
      "Requirement already satisfied: decorator in /opt/conda/lib/python3.9/site-packages (from ipython>=4.0.0->ipywidgets<8,>=7.6.0->ipyleaflet->-r requirements.txt (line 3)) (5.1.0)\n",
      "Requirement already satisfied: parso<0.9.0,>=0.8.0 in /opt/conda/lib/python3.9/site-packages (from jedi>=0.16->ipython>=4.0.0->ipywidgets<8,>=7.6.0->ipyleaflet->-r requirements.txt (line 3)) (0.8.2)\n",
      "Requirement already satisfied: jupyter-core>=4.6.0 in /opt/conda/lib/python3.9/site-packages (from jupyter-client<8.0->ipykernel>=4.5.1->ipywidgets<8,>=7.6.0->ipyleaflet->-r requirements.txt (line 3)) (4.8.1)\n",
      "Requirement already satisfied: pyzmq>=13 in /opt/conda/lib/python3.9/site-packages (from jupyter-client<8.0->ipykernel>=4.5.1->ipywidgets<8,>=7.6.0->ipyleaflet->-r requirements.txt (line 3)) (22.3.0)\n",
      "Requirement already satisfied: nest-asyncio>=1.5 in /opt/conda/lib/python3.9/site-packages (from jupyter-client<8.0->ipykernel>=4.5.1->ipywidgets<8,>=7.6.0->ipyleaflet->-r requirements.txt (line 3)) (1.5.1)\n",
      "Requirement already satisfied: entrypoints in /opt/conda/lib/python3.9/site-packages (from jupyter-client<8.0->ipykernel>=4.5.1->ipywidgets<8,>=7.6.0->ipyleaflet->-r requirements.txt (line 3)) (0.3)\n",
      "Requirement already satisfied: python-dateutil>=2.1 in /opt/conda/lib/python3.9/site-packages (from jupyter-client<8.0->ipykernel>=4.5.1->ipywidgets<8,>=7.6.0->ipyleaflet->-r requirements.txt (line 3)) (2.8.2)\n",
      "Requirement already satisfied: jsonschema!=2.5.0,>=2.4 in /opt/conda/lib/python3.9/site-packages (from nbformat>=4.2.0->ipywidgets<8,>=7.6.0->ipyleaflet->-r requirements.txt (line 3)) (3.2.0)\n",
      "Requirement already satisfied: pyrsistent>=0.14.0 in /opt/conda/lib/python3.9/site-packages (from jsonschema!=2.5.0,>=2.4->nbformat>=4.2.0->ipywidgets<8,>=7.6.0->ipyleaflet->-r requirements.txt (line 3)) (0.17.3)\n",
      "Requirement already satisfied: pytz>=2017.3 in /opt/conda/lib/python3.9/site-packages (from pandas>=0.25.0->geopandas->-r requirements.txt (line 1)) (2021.1)\n",
      "Requirement already satisfied: ptyprocess>=0.5 in /opt/conda/lib/python3.9/site-packages (from pexpect>4.3->ipython>=4.0.0->ipywidgets<8,>=7.6.0->ipyleaflet->-r requirements.txt (line 3)) (0.7.0)\n",
      "Requirement already satisfied: wcwidth in /opt/conda/lib/python3.9/site-packages (from prompt-toolkit!=3.0.0,!=3.0.1,<3.1.0,>=2.0.0->ipython>=4.0.0->ipywidgets<8,>=7.6.0->ipyleaflet->-r requirements.txt (line 3)) (0.2.5)\n",
      "Requirement already satisfied: notebook>=4.4.1 in /opt/conda/lib/python3.9/site-packages (from widgetsnbextension~=3.5.0->ipywidgets<8,>=7.6.0->ipyleaflet->-r requirements.txt (line 3)) (6.4.4)\n",
      "Requirement already satisfied: jinja2 in /opt/conda/lib/python3.9/site-packages (from notebook>=4.4.1->widgetsnbextension~=3.5.0->ipywidgets<8,>=7.6.0->ipyleaflet->-r requirements.txt (line 3)) (3.0.1)\n",
      "Requirement already satisfied: prometheus-client in /opt/conda/lib/python3.9/site-packages (from notebook>=4.4.1->widgetsnbextension~=3.5.0->ipywidgets<8,>=7.6.0->ipyleaflet->-r requirements.txt (line 3)) (0.11.0)\n",
      "Requirement already satisfied: nbconvert in /opt/conda/lib/python3.9/site-packages (from notebook>=4.4.1->widgetsnbextension~=3.5.0->ipywidgets<8,>=7.6.0->ipyleaflet->-r requirements.txt (line 3)) (6.2.0)\n",
      "Requirement already satisfied: argon2-cffi in /opt/conda/lib/python3.9/site-packages (from notebook>=4.4.1->widgetsnbextension~=3.5.0->ipywidgets<8,>=7.6.0->ipyleaflet->-r requirements.txt (line 3)) (20.1.0)\n",
      "Requirement already satisfied: Send2Trash>=1.5.0 in /opt/conda/lib/python3.9/site-packages (from notebook>=4.4.1->widgetsnbextension~=3.5.0->ipywidgets<8,>=7.6.0->ipyleaflet->-r requirements.txt (line 3)) (1.8.0)\n",
      "Requirement already satisfied: terminado>=0.8.3 in /opt/conda/lib/python3.9/site-packages (from notebook>=4.4.1->widgetsnbextension~=3.5.0->ipywidgets<8,>=7.6.0->ipyleaflet->-r requirements.txt (line 3)) (0.12.1)\n",
      "Requirement already satisfied: cffi>=1.0.0 in /opt/conda/lib/python3.9/site-packages (from argon2-cffi->notebook>=4.4.1->widgetsnbextension~=3.5.0->ipywidgets<8,>=7.6.0->ipyleaflet->-r requirements.txt (line 3)) (1.14.6)\n",
      "Requirement already satisfied: pycparser in /opt/conda/lib/python3.9/site-packages (from cffi>=1.0.0->argon2-cffi->notebook>=4.4.1->widgetsnbextension~=3.5.0->ipywidgets<8,>=7.6.0->ipyleaflet->-r requirements.txt (line 3)) (2.20)\n",
      "Requirement already satisfied: MarkupSafe>=2.0 in /opt/conda/lib/python3.9/site-packages (from jinja2->notebook>=4.4.1->widgetsnbextension~=3.5.0->ipywidgets<8,>=7.6.0->ipyleaflet->-r requirements.txt (line 3)) (2.0.1)\n",
      "Requirement already satisfied: pandocfilters>=1.4.1 in /opt/conda/lib/python3.9/site-packages (from nbconvert->notebook>=4.4.1->widgetsnbextension~=3.5.0->ipywidgets<8,>=7.6.0->ipyleaflet->-r requirements.txt (line 3)) (1.5.0)\n",
      "Requirement already satisfied: defusedxml in /opt/conda/lib/python3.9/site-packages (from nbconvert->notebook>=4.4.1->widgetsnbextension~=3.5.0->ipywidgets<8,>=7.6.0->ipyleaflet->-r requirements.txt (line 3)) (0.7.1)\n",
      "Requirement already satisfied: jupyterlab-pygments in /opt/conda/lib/python3.9/site-packages (from nbconvert->notebook>=4.4.1->widgetsnbextension~=3.5.0->ipywidgets<8,>=7.6.0->ipyleaflet->-r requirements.txt (line 3)) (0.1.2)\n",
      "Requirement already satisfied: bleach in /opt/conda/lib/python3.9/site-packages (from nbconvert->notebook>=4.4.1->widgetsnbextension~=3.5.0->ipywidgets<8,>=7.6.0->ipyleaflet->-r requirements.txt (line 3)) (4.1.0)\n",
      "Requirement already satisfied: mistune<2,>=0.8.1 in /opt/conda/lib/python3.9/site-packages (from nbconvert->notebook>=4.4.1->widgetsnbextension~=3.5.0->ipywidgets<8,>=7.6.0->ipyleaflet->-r requirements.txt (line 3)) (0.8.4)\n",
      "Requirement already satisfied: testpath in /opt/conda/lib/python3.9/site-packages (from nbconvert->notebook>=4.4.1->widgetsnbextension~=3.5.0->ipywidgets<8,>=7.6.0->ipyleaflet->-r requirements.txt (line 3)) (0.5.0)\n",
      "Requirement already satisfied: nbclient<0.6.0,>=0.5.0 in /opt/conda/lib/python3.9/site-packages (from nbconvert->notebook>=4.4.1->widgetsnbextension~=3.5.0->ipywidgets<8,>=7.6.0->ipyleaflet->-r requirements.txt (line 3)) (0.5.4)\n",
      "Requirement already satisfied: packaging in /opt/conda/lib/python3.9/site-packages (from bleach->nbconvert->notebook>=4.4.1->widgetsnbextension~=3.5.0->ipywidgets<8,>=7.6.0->ipyleaflet->-r requirements.txt (line 3)) (21.0)\n",
      "Requirement already satisfied: webencodings in /opt/conda/lib/python3.9/site-packages (from bleach->nbconvert->notebook>=4.4.1->widgetsnbextension~=3.5.0->ipywidgets<8,>=7.6.0->ipyleaflet->-r requirements.txt (line 3)) (0.5.1)\n",
      "Requirement already satisfied: pyparsing>=2.0.2 in /opt/conda/lib/python3.9/site-packages (from packaging->bleach->nbconvert->notebook>=4.4.1->widgetsnbextension~=3.5.0->ipywidgets<8,>=7.6.0->ipyleaflet->-r requirements.txt (line 3)) (2.4.7)\n",
      "Installing collected packages: pygeos\n",
      "Successfully installed pygeos-0.11.1\n"
     ]
    }
   ],
   "source": [
    "!pip install -r requirements.txt"
   ]
  },
  {
   "cell_type": "code",
   "execution_count": 1,
   "id": "e37ce21c-ae28-4359-89b8-f628f852c489",
   "metadata": {},
   "outputs": [
    {
     "name": "stderr",
     "output_type": "stream",
     "text": [
      "/opt/conda/lib/python3.9/site-packages/geopandas/_compat.py:111: UserWarning: The Shapely GEOS version (3.9.1-CAPI-1.14.2) is incompatible with the GEOS version PyGEOS was compiled with (3.10.0-CAPI-1.16.0). Conversions between both will be slow.\n",
      "  warnings.warn(\n"
     ]
    }
   ],
   "source": [
    "import calitp\n",
    "from calitp.tables import tbl\n",
    "from siuba import *\n",
    "\n",
    "import pandas as pd\n",
    "import numpy as np\n",
    "import geopandas as gpd\n",
    "import fiona\n",
    "\n",
    "from ipyleaflet import Map, GeoJSON, projections, basemaps, GeoData, LayersControl, WidgetControl, GeoJSON\n",
    "from ipywidgets import Text, HTML\n",
    "\n",
    "import shapely\n",
    "from shapely.geometry import LineString, MultiPoint\n",
    "from shapely.ops import split, substring\n",
    "\n",
    "import zlib\n",
    "import datetime as dt"
   ]
  },
  {
   "cell_type": "markdown",
   "id": "b0c50342-09f6-4d18-96fb-d950a304d0e1",
   "metadata": {
    "tags": []
   },
   "source": [
    "### High Quality Transit Areas Relevant Statutes\n",
    "\n",
    "[PRC 21155](https://leginfo.legislature.ca.gov/faces/codes_displaySection.xhtml?sectionNum=21155.&lawCode=PRC)\n",
    "* Major transit stop definition: _A major transit stop is as defined in Section 21064.3, except that, for purposes of this section, it also includes major transit stops that are included in the applicable regional transportation plan_\n",
    "* High-quality transit corridor definition: _For purposes of this section, a high-quality transit corridor means a corridor with fixed route bus service with service intervals no longer than 15 minutes during peak commute hours._\n",
    "    * Unable to locate definition of \"peak commute hours\"\n",
    "\n",
    "[PRC 21064.3](https://leginfo.legislature.ca.gov/faces/codes_displaySection.xhtml?sectionNum=21064.3.&lawCode=PRC)\n",
    "* _Major transit stop means a site containing any of the following:\n",
    "(a) An existing rail or bus rapid transit station.\n",
    "(b) A ferry terminal served by either a bus or rail transit service.\n",
    "(c) The intersection of two or more major bus routes with a frequency of service interval of 15 minutes or less during the morning and afternoon peak commute periods._\n",
    "    * \"Intersection\" may not be sufficiently well-defined for this analysis\n",
    "\n",
    "[PRC 21060.2](https://leginfo.legislature.ca.gov/faces/codes_displaySection.xhtml?lawCode=PRC&sectionNum=21060.2.&highlight=true&keyword=bus%20rapid%20transit)\n",
    "* _(a) “Bus rapid transit” means a public mass transit service provided by a public agency or by a public-private partnership that includes all of the following features:\n",
    "(1) Full-time dedicated bus lanes or operation in a separate right-of-way dedicated for public transportation with a frequency of service interval of 15 minutes or less during the morning and afternoon peak commute periods.\n",
    "(2) Transit signal priority.\n",
    "(3) All-door boarding.\n",
    "(4) Fare collection system that promotes efficiency.\n",
    "(5) Defined stations._\n",
    "    * Unlikely to determine if a service qualifies as BRT under this definition using GTFS alone"
   ]
  },
  {
   "cell_type": "code",
   "execution_count": 2,
   "id": "25b4b77d-3d2e-4ecc-a6db-fa27aecf71db",
   "metadata": {},
   "outputs": [],
   "source": [
    "##definition of \"peak\" pending\n",
    "am_peak = range(6, 9)\n",
    "pm_peak = range(16, 19)"
   ]
  },
  {
   "cell_type": "code",
   "execution_count": 3,
   "id": "ed58ef3a-f454-4f00-9202-bae1dc82f92d",
   "metadata": {},
   "outputs": [],
   "source": [
    "am_commute_hours = list(am_peak)\n",
    "pm_commute_hours = list(pm_peak)\n",
    "commute_hours = am_commute_hours + pm_commute_hours"
   ]
  },
  {
   "cell_type": "code",
   "execution_count": 4,
   "id": "c0377ee1-4bc3-4010-ad1f-2318072a5c0a",
   "metadata": {},
   "outputs": [
    {
     "data": {
      "text/plain": [
       "[6, 7, 8, 16, 17, 18]"
      ]
     },
     "execution_count": 4,
     "metadata": {},
     "output_type": "execute_result"
    }
   ],
   "source": [
    "commute_hours"
   ]
  },
  {
   "cell_type": "code",
   "execution_count": 5,
   "id": "7d8165e1-492a-4013-bb1f-de1b252fa5d1",
   "metadata": {},
   "outputs": [],
   "source": [
    "def create_segments(geometry):\n",
    "    '''Splits a Shapely LineString into smaller LineStrings. If a MultiLineString passed,\n",
    "    splits each LineString in that collection. \n",
    "    '''\n",
    "    \n",
    "    lines = []\n",
    "    segment_distance_meters = 1250\n",
    "    geometry = geometry.iloc[0]\n",
    "    if hasattr(geometry, 'geoms'): ##check if MultiLineString\n",
    "        linestrings = geometry.geoms\n",
    "    else:\n",
    "        linestrings = [geometry]\n",
    "    for linestring in linestrings:\n",
    "        for i in range(0, int(linestring.length), segment_distance_meters):\n",
    "            lines.append(substring(linestring, i, i+segment_distance_meters))\n",
    "    return lines"
   ]
  },
  {
   "cell_type": "code",
   "execution_count": 6,
   "id": "e3d9fa0d-35b0-4a9c-8e45-c5114e5c09a1",
   "metadata": {},
   "outputs": [],
   "source": [
    "def find_stop_with_high_trip_count(segment, stops, stop_times, rank, calculated_stops):\n",
    "    '''Given a shape segment, finds the stop serving the most (or other rank) trips within that segment.\n",
    "    Adds that stop's stop_id to segment data (a row).\n",
    "    '''\n",
    "    \n",
    "    stops_in_seg = gpd.clip(stops, segment.geometry)\n",
    "    if stops_in_seg.size == 0:\n",
    "        return segment\n",
    "    \n",
    "    stop_times_in_seg = stops_in_seg >> inner_join(_, stop_times, on = 'stop_id')\n",
    "    trip_count_by_stop = stop_times_in_seg >> count(_.stop_id) >> arrange(-_.n) >> rename(n_trips = _.n)\n",
    "    try:\n",
    "        stop_id = trip_count_by_stop['stop_id'].iloc[rank - 1]\n",
    "\n",
    "        if stop_id in list(calculated_stops):\n",
    "            return segment\n",
    "        segment['stop_id'] = stop_id\n",
    "        segment['n_trips'] = trip_count_by_stop['n_trips'].iloc[rank - 1]\n",
    "        return segment\n",
    "    except IndexError:\n",
    "        return segment"
   ]
  },
  {
   "cell_type": "code",
   "execution_count": 7,
   "id": "65c74fbd-059f-4df8-a3a1-e6c1361489b7",
   "metadata": {},
   "outputs": [],
   "source": [
    "def get_operator_views(itp_id):\n",
    "    '''Returns relevant views from the data warehouse for a single transit operator.\n",
    "    '''\n",
    "    shapes = tbl.gtfs_schedule.shapes() >> filter(_.calitp_itp_id == int(itp_id)) >> collect()\n",
    "    shapes = gpd.GeoDataFrame(shapes, \n",
    "                              geometry = gpd.points_from_xy(shapes.shape_pt_lon, shapes.shape_pt_lat),\n",
    "                              crs = 'EPSG:4326').to_crs('EPSG:6414') ## https://epsg.io/6414 (meters)\n",
    "    print('loaded shapes')\n",
    "    if itp_id != 273:\n",
    "        wednesday = (tbl.views.gtfs_schedule_fact_daily_service() \n",
    "                 >> filter(_.calitp_itp_id == int(itp_id)) >> collect())\n",
    "        wednesday = wednesday >> arrange(-_.service_date)\n",
    "        wednesday = wednesday[wednesday['service_date'].apply(lambda x: x.weekday() == 2)]\n",
    "        wednesday = wednesday[wednesday['service_date'].apply(lambda x: x.month < 11)]\n",
    "        wednesday = wednesday[wednesday['service_date'] == wednesday['service_date'].iloc[0]] ## pick most recent Wednesday from Oct or earlier\n",
    "    \n",
    "    bus_routes = (tbl.gtfs_schedule.routes()\n",
    "                    >> filter(_.calitp_itp_id == int(itp_id))\n",
    "                    >> filter(_.route_type.isin(['3', '11'])) ## bus and trolleybus\n",
    "                    >> select(_.route_id) >> collect())\n",
    "    print('loaded bus routes')\n",
    "    \n",
    "    if itp_id == 273:\n",
    "        trips = (tbl.gtfs_schedule.trips()\n",
    "         >> filter(_.calitp_itp_id == int(itp_id))\n",
    "         >> filter(_.service_id.isin(['1'])) ## temporary hardcode for SacRT\n",
    "         >> filter(_.route_id.isin(bus_routes.route_id))\n",
    "         >> collect())\n",
    "    else:\n",
    "        trips = (tbl.gtfs_schedule.trips()\n",
    "                 >> filter(_.calitp_itp_id == int(itp_id))\n",
    "                 >> filter(_.service_id.isin(wednesday.service_id))\n",
    "                 >> filter(_.route_id.isin(bus_routes.route_id))\n",
    "                 >> collect())\n",
    "    print('loaded trips')\n",
    "    stop_times = (tbl.gtfs_schedule.stop_times()\n",
    "                  >> filter(_.calitp_itp_id == int(itp_id))\n",
    "                  >> collect())\n",
    "    stop_times =  (stop_times >> filter(_.trip_id.isin(trips.trip_id))\n",
    "                  >> select(-_.calitp_itp_id, -_.calitp_extracted_at))\n",
    "    print('loaded stop times')\n",
    "\n",
    "    stops = (tbl.gtfs_schedule.stops() \n",
    "             >> filter(_.calitp_itp_id == itp_id)\n",
    "             >> select(_.stop_id, _.stop_lat, _.stop_lon)\n",
    "             >> collect())\n",
    "    stops = gpd.GeoDataFrame(stops,\n",
    "                     geometry = gpd.points_from_xy(stops.stop_lon, stops.stop_lat),\n",
    "                     crs = 'EPSG:4326').to_crs('EPSG:6414') ## https://epsg.io/6414 (meters)\n",
    "    print('loaded stops')\n",
    "\n",
    "    return shapes, trips, stop_times, stops"
   ]
  },
  {
   "cell_type": "code",
   "execution_count": 8,
   "id": "1049eee5-d4d9-43a1-9a84-c3bd3687f6d3",
   "metadata": {},
   "outputs": [],
   "source": [
    "def fix_arrival_time(gtfs_timestring):\n",
    "    '''Reformats a GTFS timestamp (which allows the hour to exceed 24 to mark service day continuity)\n",
    "    to standard 24-hour time.\n",
    "    '''\n",
    "    split = gtfs_timestring.split(':')\n",
    "    hour = int(split[0])\n",
    "    if hour >= 24:\n",
    "        split[0] = str(hour - 24)\n",
    "        corrected = (':').join(split)\n",
    "        return corrected.strip()\n",
    "    else:\n",
    "        return gtfs_timestring.strip()"
   ]
  },
  {
   "cell_type": "code",
   "execution_count": 18,
   "id": "0d3207be-d38f-4f17-a97f-0f84cae25d77",
   "metadata": {},
   "outputs": [],
   "source": [
    "def single_shape_hqta(shapes, trips, stop_times, stops, route_count_by_stop, shape_id, hqta):\n",
    "    '''Starting with a single GTFS shape, split that shape into segments and determine if each segment qualifies\n",
    "    as an HQTA. Existing segments within a shape are dropped for that shape, since their peak frequency and \n",
    "    HQTA status would have already been calculated for a previous shape.\n",
    "    '''\n",
    "    \n",
    "    single_shape = (shapes\n",
    "         >> filter(_.shape_id == shape_id)\n",
    "         >> mutate(shape_pt_sequence = _.shape_pt_sequence.astype('int64'))\n",
    "         >> arrange(_.shape_pt_sequence) ##arrange, then convert to line to preserve order...\n",
    "        )\n",
    "    \n",
    "    route_line = LineString(list(single_shape['geometry']))\n",
    "    single_line = single_shape[['calitp_itp_id', 'shape_id', 'calitp_extracted_at']].iloc[[0]] ##preserve info cols\n",
    "    single_line['geometry'] = route_line\n",
    "    single_line = gpd.GeoDataFrame(single_line, crs='EPSG:6414')\n",
    "    \n",
    "    if shape_id in debug_ids:\n",
    "        print(f'***debug shape*** {shape_id}')\n",
    "        debug_dict[f'{shape_id}_single_line'] = single_line\n",
    "        debug_dict[f'{shape_id}_hqta'] = hqta\n",
    "\n",
    "    calculated_stops = []\n",
    "    if hqta.size != 0:\n",
    "        already_calculated = hqta.dissolve(by='calitp_itp_id') ## get single polygon of HQTA calculation complete area\n",
    "        single_line = single_line.overlay(already_calculated, how='difference') ## drop calculation complete area from current shape\n",
    "        if single_line.size == 0:\n",
    "            segments_with_max_stop = None\n",
    "            print(f'no line for shape {shape_id}')\n",
    "            return\n",
    "\n",
    "    segmented = pd.DataFrame()\n",
    "    for segment in create_segments(single_line.geometry):\n",
    "        to_append = single_line.drop(columns=['geometry'])\n",
    "        to_append['geometry'] = segment\n",
    "        segmented = segmented.append(to_append)\n",
    "        \n",
    "    segmented = segmented.reset_index()\n",
    "    segmented['segment_sequence'] = segmented.index.astype(str)\n",
    "    segmented = segmented.astype({'calitp_itp_id': str})\n",
    "    \n",
    "    ## compute (hopefully unique) hash of segment id that can be used across routes/operators\n",
    "    segmented['hqta_segment_id'] = segmented.apply(lambda x:\n",
    "                zlib.crc32((x.calitp_itp_id + x.shape_id + x.segment_sequence).encode('utf-8')), axis=1)\n",
    "    \n",
    "    segmented.geometry = segmented.buffer(50) ##generous buffer for street/sidewalk width? Required to spatially find stops within each segment\n",
    "\n",
    "    if shape_id in debug_ids:\n",
    "        debug_dict[f'{shape_id}_segmented'] = segmented\n",
    "        debug_dict[f'{shape_id}_stops'] = stops\n",
    "        debug_dict[f'{shape_id}_route_ct_by_stop'] = route_count_by_stop\n",
    "     \n",
    "    segments_with_max_stop = segmented.apply(find_stop_with_high_trip_count, axis=1,\n",
    "                                             args = (stops, stop_times, 1, calculated_stops))\n",
    "    \n",
    "    if not 'stop_id' in segments_with_max_stop.columns:\n",
    "        segments_with_top2_stops = None\n",
    "        print(f'no stops for shape {shape_id}')\n",
    "        return ## no stops within segment\n",
    "\n",
    "    max_stop_times = (stop_times \n",
    "                 >> select(_.stop_id, _.trip_id, _.departure_time)\n",
    "                 >> inner_join(_, segments_with_max_stop, on = \"stop_id\")\n",
    "                ) ## filter stop_times to the key stops in each segment\n",
    "    max_stop_times = max_stop_times.dropna(subset=['departure_time'])\n",
    "    max_stop_times = max_stop_times.drop_duplicates(subset=['trip_id','hqta_segment_id']) ## filter duplicates for top2 approach\n",
    "    \n",
    "    if shape_id in debug_ids:\n",
    "        debug_dict[f'{shape_id}_max_stop0'] = max_stop_times\n",
    "    \n",
    "    max_stop_times['departure_time'] = max_stop_times['departure_time'].apply(fix_arrival_time) ## reformat GTFS time to a format datetime can ingest\n",
    "    max_stop_times['departure_dt'] = max_stop_times['departure_time'].apply(lambda x:\n",
    "                                                                    dt.datetime.strptime(x, '%H:%M:%S'))\n",
    "    max_stop_times['departure_hour'] = max_stop_times['departure_dt'].apply(lambda x: x.hour)\n",
    "    \n",
    "    # max_stop_times = max_stop_times >> filter(_.departure_hour.isin(commute_hours))\n",
    "    \n",
    "    if max_stop_times.size == 0:\n",
    "        print(f'no commute hour trips for shape {shape_id}')\n",
    "        return\n",
    "    \n",
    "    if shape_id in debug_ids:\n",
    "        debug_dict[f'{shape_id}_max_stop'] = max_stop_times\n",
    "        \n",
    "    max_stop_times['am_peak'] = max_stop_times['departure_hour'].apply(lambda x: x in am_commute_hours)\n",
    "    max_stop_times['pm_peak'] = ~max_stop_times['am_peak']\n",
    "    \n",
    "    max_stop_times.drop_duplicates(subset = ['stop_id', 'departure_dt'], inplace=True) ## drop duplicates if duplicitous service_ids sneak through\n",
    "    max_stop_times.drop(columns=['departure_dt'], inplace=True)\n",
    "    \n",
    "    segment_peak_service = max_stop_times.groupby(['hqta_segment_id'])[['am_peak', 'pm_peak']].sum() ## count total trips at stop during each peak period\n",
    "    \n",
    "    ## convert to trips per hour\n",
    "    segment_peak_service['am_peak'] = (segment_peak_service['am_peak'] / len(am_commute_hours)).round(1)\n",
    "    segment_peak_service['pm_peak'] = (segment_peak_service['pm_peak'] / len(pm_commute_hours)).round(1)\n",
    "    \n",
    "    if shape_id in debug_ids:\n",
    "        debug_dict[f'{shape_id}_segment_peak'] = segment_peak_service\n",
    "\n",
    "    ## consider segment HQTA if stop within segment has at least 4 trips/hour in both peaks\n",
    "    segment_peak_service['hq_transit_corr'] = segment_peak_service.apply(lambda x:\n",
    "                              True if x.am_peak >= 4 and x.pm_peak >= 4 else False, axis=1)\n",
    "    \n",
    "    segment_peak_service = segment_peak_service.reset_index()\n",
    "    segment_peak_service['last_seg_hqta'] = segment_peak_service['hq_transit_corr'].shift(1)\n",
    "    segment_peak_service['next_seg_hqta'] = segment_peak_service['hq_transit_corr'].shift(-1)\n",
    "    \n",
    "    ## consider segment not HQTA if both the prior and next segements are not HQTAs\n",
    "    segment_peak_service['hq_transit_corr'] = segment_peak_service.apply(\n",
    "            lambda x: False if x.hq_transit_corr == False else x.last_seg_hqta or x.next_seg_hqta, axis = 1)\n",
    "    segment_peak_service['hq_transit_corr'] = segment_peak_service['hq_transit_corr'].fillna(True)\n",
    "    \n",
    "    single_hqta = segments_with_max_stop >> inner_join(_, segment_peak_service, on = 'hqta_segment_id')\n",
    "    single_hqta.drop(columns=['calitp_extracted_at', 'next_seg_hqta', 'last_seg_hqta'], inplace=True)\n",
    "    \n",
    "    if shape_id in debug_ids:\n",
    "        debug_dict[f'{shape_id}_single_hqta'] = single_hqta\n",
    "    \n",
    "    return single_hqta"
   ]
  },
  {
   "cell_type": "code",
   "execution_count": 19,
   "id": "9483141f-c197-4fc8-80f0-4efa8d2b44c4",
   "metadata": {},
   "outputs": [],
   "source": [
    "def single_operator_hqta(views):  \n",
    "    \n",
    "    global debug_dict\n",
    "    debug_dict = {}\n",
    "    \n",
    "    shapes, trips, stop_times, stops = views\n",
    "    \n",
    "    \n",
    "    distinct_routes = (trips\n",
    "                   >> distinct(_.route_id, _.shape_id, _.direction_id, _keep_all = True)\n",
    "                   >> select(_.calitp_itp_id, _.route_id, _.shape_id, _.direction_id, _.trip_id))\n",
    "    \n",
    "    route_count_by_stop = (stop_times\n",
    "                         >> select(_.stop_id, _.trip_id)\n",
    "                         >> inner_join(_, distinct_routes, on = \"trip_id\")\n",
    "                         >> count(_.stop_id)\n",
    "                         >> rename(n_routes = _.n)\n",
    "                         >> arrange(-_.n_routes))    \n",
    "    \n",
    "    hqta = gpd.GeoDataFrame()\n",
    "    ## start with shapes including the highest number of trips\n",
    "    shapes_sorted = trips.groupby('shape_id').count().sort_values(by='trip_id', ascending=False).index\n",
    "    shapes_sorted = pd.Series(shapes_sorted)\n",
    "    total_shapes = len(shapes_sorted)\n",
    "    print(f'there are {total_shapes} shapes total')\n",
    "    for ix, shape_id in shapes_sorted.items():\n",
    "        print(f'calculating for shape_id {shape_id}')\n",
    "        if ix % 25 == 0:\n",
    "            print(f'progress: {ix}/{total_shapes} shapes ({round(((ix/total_shapes)*100), 2)}%)')\n",
    "        # try:\n",
    "        result = single_shape_hqta(shapes, trips, stop_times, stops, route_count_by_stop,\n",
    "                                shape_id, hqta)\n",
    "        hqta = hqta.append(result)\n",
    "        # except:\n",
    "            # print(f'unable to calculate HQTA for shape_id {shape_id}')\n",
    "        try:\n",
    "            hqta = hqta.set_crs('EPSG:6414')\n",
    "        except:\n",
    "            continue\n",
    "        \n",
    "    return hqta"
   ]
  },
  {
   "cell_type": "code",
   "execution_count": 20,
   "id": "e9d94df4-21cd-46d6-a8ab-fe4d4c01d728",
   "metadata": {},
   "outputs": [],
   "source": [
    "debug_ids = ['25351']"
   ]
  },
  {
   "cell_type": "code",
   "execution_count": 12,
   "id": "b1089592-7a20-4c3b-a27f-5eb6193213de",
   "metadata": {},
   "outputs": [
    {
     "name": "stdout",
     "output_type": "stream",
     "text": [
      "loaded shapes\n",
      "loaded bus routes\n",
      "loaded trips\n",
      "loaded stop times\n",
      "loaded stops\n"
     ]
    }
   ],
   "source": [
    "bbb_views = get_operator_views(300)"
   ]
  },
  {
   "cell_type": "code",
   "execution_count": 21,
   "id": "f6c92a46-4a65-4a0f-9bbc-a9d9050417d0",
   "metadata": {
    "collapsed": true,
    "jupyter": {
     "outputs_hidden": true
    },
    "tags": []
   },
   "outputs": [
    {
     "name": "stdout",
     "output_type": "stream",
     "text": [
      "there are 70 shapes total\n",
      "calculating for shape_id 25351\n",
      "progress: 0/70 shapes (0.0%)\n",
      "***debug shape*** 25351\n",
      "calculating for shape_id 25315\n",
      "calculating for shape_id 25352\n",
      "calculating for shape_id 25325\n",
      "calculating for shape_id 25314\n",
      "calculating for shape_id 25331\n",
      "calculating for shape_id 25326\n",
      "calculating for shape_id 25333\n",
      "calculating for shape_id 25387\n",
      "calculating for shape_id 25386\n",
      "calculating for shape_id 25354\n",
      "calculating for shape_id 25358\n",
      "calculating for shape_id 25365\n",
      "calculating for shape_id 25368\n",
      "calculating for shape_id 25382\n",
      "calculating for shape_id 25323\n",
      "calculating for shape_id 25320\n",
      "calculating for shape_id 25399\n",
      "calculating for shape_id 25400\n",
      "no stops for shape 25400\n",
      "calculating for shape_id 25376\n",
      "no line for shape 25376\n",
      "calculating for shape_id 25380\n",
      "no stops for shape 25380\n",
      "calculating for shape_id 25340\n",
      "calculating for shape_id 25337\n",
      "calculating for shape_id 25363\n",
      "calculating for shape_id 25346\n",
      "calculating for shape_id 25343\n",
      "progress: 25/70 shapes (35.71%)\n",
      "calculating for shape_id 25372\n",
      "no stops for shape 25372\n",
      "calculating for shape_id 25369\n",
      "calculating for shape_id 25364\n",
      "calculating for shape_id 25374\n",
      "no stops for shape 25374\n",
      "calculating for shape_id 25370\n",
      "calculating for shape_id 25385\n",
      "calculating for shape_id 25384\n",
      "no line for shape 25384\n",
      "calculating for shape_id 25361\n",
      "calculating for shape_id 25313\n",
      "no line for shape 25313\n",
      "calculating for shape_id 25362\n",
      "calculating for shape_id 25318\n",
      "calculating for shape_id 25327\n",
      "calculating for shape_id 25328\n",
      "calculating for shape_id 25332\n",
      "no line for shape 25332\n",
      "calculating for shape_id 25375\n",
      "no line for shape 25375\n",
      "calculating for shape_id 25402\n",
      "no line for shape 25402\n",
      "calculating for shape_id 25379\n",
      "no line for shape 25379\n",
      "calculating for shape_id 25336\n",
      "no line for shape 25336\n",
      "calculating for shape_id 25357\n",
      "calculating for shape_id 25359\n",
      "calculating for shape_id 25398\n",
      "no line for shape 25398\n",
      "calculating for shape_id 25321\n",
      "no stops for shape 25321\n",
      "calculating for shape_id 25339\n",
      "no line for shape 25339\n",
      "calculating for shape_id 25342\n",
      "no line for shape 25342\n",
      "calculating for shape_id 25349\n",
      "progress: 50/70 shapes (71.43%)\n",
      "calculating for shape_id 25348\n",
      "calculating for shape_id 25371\n",
      "no stops for shape 25371\n",
      "calculating for shape_id 25311\n",
      "no line for shape 25311\n",
      "calculating for shape_id 25367\n",
      "no line for shape 25367\n",
      "calculating for shape_id 25356\n",
      "calculating for shape_id 25355\n",
      "no stops for shape 25355\n",
      "calculating for shape_id 25335\n",
      "calculating for shape_id 25322\n",
      "no line for shape 25322\n",
      "calculating for shape_id 25319\n",
      "no stops for shape 25319\n",
      "calculating for shape_id 25403\n",
      "no line for shape 25403\n",
      "calculating for shape_id 25353\n",
      "no line for shape 25353\n",
      "calculating for shape_id 25344\n",
      "calculating for shape_id 25341\n",
      "no stops for shape 25341\n",
      "calculating for shape_id 25334\n",
      "no line for shape 25334\n",
      "calculating for shape_id 25330\n",
      "no stops for shape 25330\n",
      "calculating for shape_id 25329\n",
      "no stops for shape 25329\n",
      "calculating for shape_id 25324\n",
      "no stops for shape 25324\n",
      "calculating for shape_id 25317\n",
      "no line for shape 25317\n",
      "calculating for shape_id 25316\n",
      "no line for shape 25316\n"
     ]
    }
   ],
   "source": [
    "bbb_hqta = single_operator_hqta(bbb_views)"
   ]
  },
  {
   "cell_type": "code",
   "execution_count": 23,
   "id": "8113e2f8-5f9b-4045-a949-f7c6a21bffdf",
   "metadata": {},
   "outputs": [
    {
     "data": {
      "text/plain": [
       "dict_keys(['25351_single_line', '25351_hqta', '25351_segmented', '25351_stops', '25351_route_ct_by_stop', '25351_max_stop0', '25351_max_stop', '25351_segment_peak', '25351_single_hqta'])"
      ]
     },
     "execution_count": 23,
     "metadata": {},
     "output_type": "execute_result"
    }
   ],
   "source": [
    "debug_dict.keys()"
   ]
  },
  {
   "cell_type": "code",
   "execution_count": 25,
   "id": "15106efb-d6cb-4768-ae48-e18cd97a95ca",
   "metadata": {},
   "outputs": [],
   "source": [
    "max_stop = debug_dict['25351_max_stop']"
   ]
  },
  {
   "cell_type": "code",
   "execution_count": 26,
   "id": "2c6c1d8c-2f5d-4878-a673-5e7efdd1e380",
   "metadata": {},
   "outputs": [
    {
     "data": {
      "text/html": [
       "<div>\n",
       "<style scoped>\n",
       "    .dataframe tbody tr th:only-of-type {\n",
       "        vertical-align: middle;\n",
       "    }\n",
       "\n",
       "    .dataframe tbody tr th {\n",
       "        vertical-align: top;\n",
       "    }\n",
       "\n",
       "    .dataframe thead th {\n",
       "        text-align: right;\n",
       "    }\n",
       "</style>\n",
       "<table border=\"1\" class=\"dataframe\">\n",
       "  <thead>\n",
       "    <tr style=\"text-align: right;\">\n",
       "      <th></th>\n",
       "      <th>stop_id</th>\n",
       "      <th>trip_id</th>\n",
       "      <th>departure_time</th>\n",
       "      <th>index</th>\n",
       "      <th>calitp_itp_id</th>\n",
       "      <th>shape_id</th>\n",
       "      <th>calitp_extracted_at</th>\n",
       "      <th>geometry</th>\n",
       "      <th>segment_sequence</th>\n",
       "      <th>hqta_segment_id</th>\n",
       "      <th>n_trips</th>\n",
       "      <th>departure_hour</th>\n",
       "      <th>am_peak</th>\n",
       "      <th>pm_peak</th>\n",
       "    </tr>\n",
       "  </thead>\n",
       "  <tbody>\n",
       "    <tr>\n",
       "      <th>0</th>\n",
       "      <td>1409</td>\n",
       "      <td>859796</td>\n",
       "      <td>10:59:00</td>\n",
       "      <td>11214</td>\n",
       "      <td>300</td>\n",
       "      <td>25351</td>\n",
       "      <td>2021-10-21</td>\n",
       "      <td>POLYGON ((147058.435 -442840.043, 147038.878 -...</td>\n",
       "      <td>0</td>\n",
       "      <td>3704801516</td>\n",
       "      <td>153</td>\n",
       "      <td>10</td>\n",
       "      <td>False</td>\n",
       "      <td>True</td>\n",
       "    </tr>\n",
       "    <tr>\n",
       "      <th>1</th>\n",
       "      <td>1409</td>\n",
       "      <td>859924</td>\n",
       "      <td>07:26:00</td>\n",
       "      <td>11214</td>\n",
       "      <td>300</td>\n",
       "      <td>25351</td>\n",
       "      <td>2021-10-21</td>\n",
       "      <td>POLYGON ((147058.435 -442840.043, 147038.878 -...</td>\n",
       "      <td>0</td>\n",
       "      <td>3704801516</td>\n",
       "      <td>153</td>\n",
       "      <td>7</td>\n",
       "      <td>True</td>\n",
       "      <td>False</td>\n",
       "    </tr>\n",
       "    <tr>\n",
       "      <th>2</th>\n",
       "      <td>1409</td>\n",
       "      <td>859814</td>\n",
       "      <td>14:35:00</td>\n",
       "      <td>11214</td>\n",
       "      <td>300</td>\n",
       "      <td>25351</td>\n",
       "      <td>2021-10-21</td>\n",
       "      <td>POLYGON ((147058.435 -442840.043, 147038.878 -...</td>\n",
       "      <td>0</td>\n",
       "      <td>3704801516</td>\n",
       "      <td>153</td>\n",
       "      <td>14</td>\n",
       "      <td>False</td>\n",
       "      <td>True</td>\n",
       "    </tr>\n",
       "  </tbody>\n",
       "</table>\n",
       "</div>"
      ],
      "text/plain": [
       "  stop_id trip_id departure_time  index calitp_itp_id shape_id  \\\n",
       "0    1409  859796       10:59:00  11214           300    25351   \n",
       "1    1409  859924       07:26:00  11214           300    25351   \n",
       "2    1409  859814       14:35:00  11214           300    25351   \n",
       "\n",
       "  calitp_extracted_at                                           geometry  \\\n",
       "0          2021-10-21  POLYGON ((147058.435 -442840.043, 147038.878 -...   \n",
       "1          2021-10-21  POLYGON ((147058.435 -442840.043, 147038.878 -...   \n",
       "2          2021-10-21  POLYGON ((147058.435 -442840.043, 147038.878 -...   \n",
       "\n",
       "  segment_sequence  hqta_segment_id  n_trips  departure_hour  am_peak  pm_peak  \n",
       "0                0       3704801516      153              10    False     True  \n",
       "1                0       3704801516      153               7     True    False  \n",
       "2                0       3704801516      153              14    False     True  "
      ]
     },
     "execution_count": 26,
     "metadata": {},
     "output_type": "execute_result"
    }
   ],
   "source": [
    "max_stop.head(3)"
   ]
  },
  {
   "cell_type": "code",
   "execution_count": 49,
   "id": "6e41ef97-04c5-47b8-a36b-aaa346c2e2e2",
   "metadata": {},
   "outputs": [
    {
     "data": {
      "text/html": [
       "<div>\n",
       "<style scoped>\n",
       "    .dataframe tbody tr th:only-of-type {\n",
       "        vertical-align: middle;\n",
       "    }\n",
       "\n",
       "    .dataframe tbody tr th {\n",
       "        vertical-align: top;\n",
       "    }\n",
       "\n",
       "    .dataframe thead th {\n",
       "        text-align: right;\n",
       "    }\n",
       "</style>\n",
       "<table border=\"1\" class=\"dataframe\">\n",
       "  <thead>\n",
       "    <tr style=\"text-align: right;\">\n",
       "      <th></th>\n",
       "      <th>hqta_segment_id</th>\n",
       "      <th>am_max_trips</th>\n",
       "    </tr>\n",
       "  </thead>\n",
       "  <tbody>\n",
       "    <tr>\n",
       "      <th>0</th>\n",
       "      <td>853322176</td>\n",
       "      <td>9</td>\n",
       "    </tr>\n",
       "    <tr>\n",
       "      <th>1</th>\n",
       "      <td>1172019542</td>\n",
       "      <td>14</td>\n",
       "    </tr>\n",
       "  </tbody>\n",
       "</table>\n",
       "</div>"
      ],
      "text/plain": [
       "   hqta_segment_id  am_max_trips\n",
       "0        853322176             9\n",
       "1       1172019542            14"
      ]
     },
     "execution_count": 49,
     "metadata": {},
     "output_type": "execute_result"
    }
   ],
   "source": [
    "segment_am_max = (max_stop\n",
    "                  >> count(_.hqta_segment_id, _.departure_hour)\n",
    "                  >> filter(_.departure_hour < 12)\n",
    "                  >> group_by(_.hqta_segment_id)\n",
    "                  >> summarize(am_max_trips = _.n.max())\n",
    "                 )\n",
    "segment_am_max.head(2)"
   ]
  },
  {
   "cell_type": "code",
   "execution_count": 50,
   "id": "4aa78f11-5895-4d6a-8771-018aecf79121",
   "metadata": {},
   "outputs": [
    {
     "data": {
      "text/html": [
       "<div>\n",
       "<style scoped>\n",
       "    .dataframe tbody tr th:only-of-type {\n",
       "        vertical-align: middle;\n",
       "    }\n",
       "\n",
       "    .dataframe tbody tr th {\n",
       "        vertical-align: top;\n",
       "    }\n",
       "\n",
       "    .dataframe thead th {\n",
       "        text-align: right;\n",
       "    }\n",
       "</style>\n",
       "<table border=\"1\" class=\"dataframe\">\n",
       "  <thead>\n",
       "    <tr style=\"text-align: right;\">\n",
       "      <th></th>\n",
       "      <th>hqta_segment_id</th>\n",
       "      <th>pm_max_trips</th>\n",
       "    </tr>\n",
       "  </thead>\n",
       "  <tbody>\n",
       "    <tr>\n",
       "      <th>0</th>\n",
       "      <td>853322176</td>\n",
       "      <td>8</td>\n",
       "    </tr>\n",
       "    <tr>\n",
       "      <th>1</th>\n",
       "      <td>1172019542</td>\n",
       "      <td>14</td>\n",
       "    </tr>\n",
       "  </tbody>\n",
       "</table>\n",
       "</div>"
      ],
      "text/plain": [
       "   hqta_segment_id  pm_max_trips\n",
       "0        853322176             8\n",
       "1       1172019542            14"
      ]
     },
     "execution_count": 50,
     "metadata": {},
     "output_type": "execute_result"
    }
   ],
   "source": [
    "segment_pm_max = (max_stop\n",
    "                  >> count(_.hqta_segment_id, _.departure_hour)\n",
    "                  >> filter(_.departure_hour >= 12)\n",
    "                  >> group_by(_.hqta_segment_id)\n",
    "                  >> summarize(pm_max_trips = _.n.max())\n",
    "                 )\n",
    "segment_pm_max.head(2)"
   ]
  },
  {
   "cell_type": "code",
   "execution_count": 55,
   "id": "8b64b115-cf3a-430f-948d-c3f0dee38f53",
   "metadata": {},
   "outputs": [
    {
     "data": {
      "text/html": [
       "<div>\n",
       "<style scoped>\n",
       "    .dataframe tbody tr th:only-of-type {\n",
       "        vertical-align: middle;\n",
       "    }\n",
       "\n",
       "    .dataframe tbody tr th {\n",
       "        vertical-align: top;\n",
       "    }\n",
       "\n",
       "    .dataframe thead th {\n",
       "        text-align: right;\n",
       "    }\n",
       "</style>\n",
       "<table border=\"1\" class=\"dataframe\">\n",
       "  <thead>\n",
       "    <tr style=\"text-align: right;\">\n",
       "      <th></th>\n",
       "      <th>hqta_segment_id</th>\n",
       "      <th>am_max_trips</th>\n",
       "      <th>pm_max_trips</th>\n",
       "      <th>hq_transit_corr</th>\n",
       "    </tr>\n",
       "  </thead>\n",
       "  <tbody>\n",
       "    <tr>\n",
       "      <th>0</th>\n",
       "      <td>853322176</td>\n",
       "      <td>9</td>\n",
       "      <td>8</td>\n",
       "      <td>True</td>\n",
       "    </tr>\n",
       "    <tr>\n",
       "      <th>1</th>\n",
       "      <td>1172019542</td>\n",
       "      <td>14</td>\n",
       "      <td>14</td>\n",
       "      <td>True</td>\n",
       "    </tr>\n",
       "    <tr>\n",
       "      <th>2</th>\n",
       "      <td>2882926714</td>\n",
       "      <td>9</td>\n",
       "      <td>8</td>\n",
       "      <td>True</td>\n",
       "    </tr>\n",
       "  </tbody>\n",
       "</table>\n",
       "</div>"
      ],
      "text/plain": [
       "   hqta_segment_id  am_max_trips  pm_max_trips  hq_transit_corr\n",
       "0        853322176             9             8             True\n",
       "1       1172019542            14            14             True\n",
       "2       2882926714             9             8             True"
      ]
     },
     "execution_count": 55,
     "metadata": {},
     "output_type": "execute_result"
    }
   ],
   "source": [
    "df = (segment_am_max >> inner_join(_, segment_pm_max, on = 'hqta_segment_id'))\n",
    "df['hq_transit_corr'] = df.apply(lambda x: x.am_max_trips > 4 and x.pm_max_trips > 4, axis = 1)\n",
    "df.head(3)"
   ]
  },
  {
   "cell_type": "code",
   "execution_count": 35,
   "id": "61b8b94f-84bc-4475-b39b-795f9b8f69c5",
   "metadata": {},
   "outputs": [
    {
     "data": {
      "text/html": [
       "<div>\n",
       "<style scoped>\n",
       "    .dataframe tbody tr th:only-of-type {\n",
       "        vertical-align: middle;\n",
       "    }\n",
       "\n",
       "    .dataframe tbody tr th {\n",
       "        vertical-align: top;\n",
       "    }\n",
       "\n",
       "    .dataframe thead th {\n",
       "        text-align: right;\n",
       "    }\n",
       "</style>\n",
       "<table border=\"1\" class=\"dataframe\">\n",
       "  <thead>\n",
       "    <tr style=\"text-align: right;\">\n",
       "      <th></th>\n",
       "      <th>am_peak</th>\n",
       "      <th>pm_peak</th>\n",
       "      <th>hq_transit_corr</th>\n",
       "    </tr>\n",
       "    <tr>\n",
       "      <th>hqta_segment_id</th>\n",
       "      <th></th>\n",
       "      <th></th>\n",
       "      <th></th>\n",
       "    </tr>\n",
       "  </thead>\n",
       "  <tbody>\n",
       "    <tr>\n",
       "      <th>853322176</th>\n",
       "      <td>7.7</td>\n",
       "      <td>30.7</td>\n",
       "      <td>True</td>\n",
       "    </tr>\n",
       "    <tr>\n",
       "      <th>1172019542</th>\n",
       "      <td>12.0</td>\n",
       "      <td>55.3</td>\n",
       "      <td>True</td>\n",
       "    </tr>\n",
       "    <tr>\n",
       "      <th>2882926714</th>\n",
       "      <td>7.7</td>\n",
       "      <td>29.7</td>\n",
       "      <td>True</td>\n",
       "    </tr>\n",
       "  </tbody>\n",
       "</table>\n",
       "</div>"
      ],
      "text/plain": [
       "                 am_peak  pm_peak  hq_transit_corr\n",
       "hqta_segment_id                                   \n",
       "853322176            7.7     30.7             True\n",
       "1172019542          12.0     55.3             True\n",
       "2882926714           7.7     29.7             True"
      ]
     },
     "execution_count": 35,
     "metadata": {},
     "output_type": "execute_result"
    }
   ],
   "source": [
    "debug_dict['25351_segment_peak'].head(3)"
   ]
  },
  {
   "cell_type": "markdown",
   "id": "a5ff47bb-276b-4f0c-8635-e3ceb108010c",
   "metadata": {},
   "source": [
    "### Mapping"
   ]
  },
  {
   "cell_type": "code",
   "execution_count": 12,
   "id": "7bbb8cf6-19ad-4f2f-8b0c-5709719fa925",
   "metadata": {},
   "outputs": [],
   "source": [
    "def map_hqta(gdf, mouseover=None):\n",
    "    if 'calitp_extracted_at' in gdf.columns:\n",
    "        gdf = gdf.drop(columns='calitp_extracted_at')\n",
    "        gdf.geometry = gdf.geometry.buffer(50)\n",
    "    \n",
    "    x = gdf.to_crs('EPSG:4326').geometry.iloc[0].centroid.x\n",
    "    y = gdf.to_crs('EPSG:4326').geometry.iloc[0].centroid.y\n",
    "    \n",
    "    m = Map(basemap=basemaps.CartoDB.Positron, center=[y, x], zoom=11)\n",
    "\n",
    "    if mouseover:\n",
    "        html = HTML(f'hover to see {mouseover}')\n",
    "        html.layout.margin = '0px 20px 20px 20px'\n",
    "        control = WidgetControl(widget=html, position='topright')\n",
    "        m.add_control(control)\n",
    "\n",
    "        def update_html(feature,  **kwargs):\n",
    "            html.value = '''\n",
    "                <h3><b>{}</b></h3>\n",
    "            '''.format(feature['properties'][mouseover])\n",
    "    if 'hq_transit_corr' in gdf.columns:\n",
    "        geo_data_hq = GeoData(geo_dataframe = gdf[gdf['hq_transit_corr']].to_crs('EPSG:4326'),\n",
    "                               style={'color': 'black', 'fillColor': '#08589e',\n",
    "                                            'opacity':0.4, 'weight':.5, 'dashArray':'2', 'fillOpacity':0.3},\n",
    "                               hover_style={'fillColor': 'red' , 'fillOpacity': 0.2},\n",
    "                               name = 'HQTA')\n",
    "        #a8ddb5\n",
    "        geo_data_not_hq = GeoData(geo_dataframe = gdf[~gdf['hq_transit_corr']].to_crs('EPSG:4326'),\n",
    "                               style={'color': 'black', 'fillColor': '#fec44f',\n",
    "                                            'opacity':0.2, 'weight':.5, 'dashArray':'2', 'fillOpacity':0.3},\n",
    "                               hover_style={'fillColor': 'red' , 'fillOpacity': 0.2},\n",
    "                               name = 'non-HQTA')\n",
    "\n",
    "        m.add_layer(geo_data_hq)\n",
    "        m.add_layer(geo_data_not_hq)\n",
    "    \n",
    "    else:\n",
    "    \n",
    "        geo_data_hq = GeoData(geo_dataframe = gdf.to_crs('EPSG:4326'),\n",
    "                               style={'color': 'black', 'fillColor': '#08589e',\n",
    "                                            'opacity':0.4, 'weight':.5, 'dashArray':'2', 'fillOpacity':0.3},\n",
    "                               hover_style={'fillColor': 'red' , 'fillOpacity': 0.2},\n",
    "                               name = 'gdf')\n",
    "        m.add_layer(geo_data_hq)\n",
    "    \n",
    "    if mouseover:\n",
    "        geo_data_hq.on_hover(update_html)\n",
    "\n",
    "    m.add_control(LayersControl())\n",
    "\n",
    "    return m"
   ]
  },
  {
   "cell_type": "markdown",
   "id": "b37c7411-8ea1-48c2-b42a-b437cdef7eaa",
   "metadata": {},
   "source": [
    "## Multiple Operators"
   ]
  },
  {
   "cell_type": "code",
   "execution_count": 13,
   "id": "5464abd7-4923-4798-b125-dea377fe7188",
   "metadata": {},
   "outputs": [],
   "source": [
    "itp_ids = tbl.gtfs_schedule.agency() >> distinct(_.calitp_itp_id) >> collect()\n",
    "itp_ids = itp_ids.calitp_itp_id"
   ]
  },
  {
   "cell_type": "code",
   "execution_count": 14,
   "id": "df2e6dcb-256c-4a9b-b90e-90b43fe38346",
   "metadata": {},
   "outputs": [],
   "source": [
    "def multiple_operator_hqta(existing=pd.DataFrame()):\n",
    "    \n",
    "    hqta = pd.DataFrame()    \n",
    "    for _, itp_id in itp_ids.items():\n",
    "        if not existing.empty:\n",
    "            if str(itp_id) in existing['calitp_itp_id'].to_list():\n",
    "                print(f'{itp_id} existing')\n",
    "                # break\n",
    "                continue\n",
    "        if int(itp_id) == 200:\n",
    "            continue ## skip MTC feed to use individual operator feeds\n",
    "        try:\n",
    "            print(f'attempting for operator {itp_id}')\n",
    "            hqta = hqta.append(single_operator_hqta(get_operator_views(itp_id)))\n",
    "        except:\n",
    "            print(f'failed for operator {itp_id}')\n",
    "        \n",
    "    return hqta"
   ]
  },
  {
   "cell_type": "code",
   "execution_count": 17,
   "id": "7a65fd4f-e6fb-4c75-aba8-06ac291a3da5",
   "metadata": {
    "tags": []
   },
   "outputs": [],
   "source": [
    "# all_operators = multiple_operator_hqta()\n",
    "# all_operators.to_parquet('./all_operators.parquet')"
   ]
  },
  {
   "cell_type": "code",
   "execution_count": 50,
   "id": "7968cab1-fb27-43b7-ad4c-4b84e03cee81",
   "metadata": {},
   "outputs": [],
   "source": [
    "all_operators = gpd.read_parquet('./data/bus/all_operators.parquet')"
   ]
  },
  {
   "cell_type": "code",
   "execution_count": 51,
   "id": "a88fd23f-67a2-4565-b1eb-b3044f622a1d",
   "metadata": {},
   "outputs": [],
   "source": [
    "itp_ids = itp_ids.astype(str)"
   ]
  },
  {
   "cell_type": "code",
   "execution_count": 52,
   "id": "9d147c21-f8b0-4d89-a982-36131f9f859b",
   "metadata": {},
   "outputs": [],
   "source": [
    "df = tbl.gtfs_schedule.agency() >> collect() >> distinct(_.calitp_itp_id, _keep_all = True)"
   ]
  },
  {
   "cell_type": "code",
   "execution_count": 53,
   "id": "75fad583-67e7-4961-8c7a-b7891499ae57",
   "metadata": {
    "tags": []
   },
   "outputs": [],
   "source": [
    "not_ran = df[~df['calitp_itp_id'].isin(all_operators['calitp_itp_id'].astype('int64'))]"
   ]
  },
  {
   "cell_type": "code",
   "execution_count": 54,
   "id": "e85b5494-e8fc-46e1-acc0-a0d68977afff",
   "metadata": {
    "tags": []
   },
   "outputs": [],
   "source": [
    "# with pd.option_context('display.max_rows', 100):\n",
    "#     display(not_ran)"
   ]
  },
  {
   "cell_type": "markdown",
   "id": "660a4cca-0462-4cef-8812-c46f6a5eea2a",
   "metadata": {},
   "source": [
    "## Spatially Aggregate non-HQTAs"
   ]
  },
  {
   "cell_type": "code",
   "execution_count": 55,
   "id": "d25d3e00-2c6a-481c-a930-da481c4dd7a6",
   "metadata": {},
   "outputs": [],
   "source": [
    "non_hqta = all_operators >> filter(-_.hq_transit_corr)"
   ]
  },
  {
   "cell_type": "code",
   "execution_count": 56,
   "id": "6e0103fc-32f2-44eb-9296-678a0db83df3",
   "metadata": {},
   "outputs": [],
   "source": [
    "non_hqta_overlaid = non_hqta.overlay(non_hqta, how='intersection')"
   ]
  },
  {
   "cell_type": "code",
   "execution_count": 57,
   "id": "4614b25d-da01-4fec-9a61-a1bcfe9a66f4",
   "metadata": {},
   "outputs": [],
   "source": [
    "non_hqta_deduplicated = non_hqta_overlaid[non_hqta_overlaid['hqta_segment_id_1'] != non_hqta_overlaid['hqta_segment_id_2']]"
   ]
  },
  {
   "cell_type": "code",
   "execution_count": 58,
   "id": "c97def9a-ab4b-4fe8-b485-8e27b27122bc",
   "metadata": {},
   "outputs": [],
   "source": [
    "def combine_segment_ids(row):\n",
    "    both_segments = [row.hqta_segment_id_1, row.hqta_segment_id_2]\n",
    "    both_segments.sort()\n",
    "    return str(both_segments)"
   ]
  },
  {
   "cell_type": "code",
   "execution_count": 59,
   "id": "576185c3-9597-4f5a-b99a-230f52b36d92",
   "metadata": {},
   "outputs": [
    {
     "name": "stderr",
     "output_type": "stream",
     "text": [
      "/home/edasmalchi/miniconda3/lib/python3.9/site-packages/geopandas/geodataframe.py:1351: SettingWithCopyWarning: \n",
      "A value is trying to be set on a copy of a slice from a DataFrame.\n",
      "Try using .loc[row_indexer,col_indexer] = value instead\n",
      "\n",
      "See the caveats in the documentation: https://pandas.pydata.org/pandas-docs/stable/user_guide/indexing.html#returning-a-view-versus-a-copy\n",
      "  super().__setitem__(key, value)\n"
     ]
    }
   ],
   "source": [
    "non_hqta_deduplicated['overlap_id'] = non_hqta_deduplicated.apply(combine_segment_ids, axis=1)"
   ]
  },
  {
   "cell_type": "code",
   "execution_count": 60,
   "id": "65257404-f9d6-4358-a3ea-779e5b71d35c",
   "metadata": {},
   "outputs": [],
   "source": [
    "more_deduplicated = non_hqta_deduplicated.drop_duplicates(subset=['overlap_id'])"
   ]
  },
  {
   "cell_type": "code",
   "execution_count": 61,
   "id": "d9c18428-eb34-4d7d-8b7c-889ed376904d",
   "metadata": {},
   "outputs": [
    {
     "name": "stderr",
     "output_type": "stream",
     "text": [
      "/tmp/ipykernel_21837/3646704021.py:1: UserWarning: this is an initial implementation of Parquet/Feather file support and associated metadata.  This is tracking version 0.1.0 of the metadata specification at https://github.com/geopandas/geo-arrow-spec\n",
      "\n",
      "This metadata specification does not yet make stability promises.  We do not yet recommend using this in a production setting unless you are able to rewrite your Parquet/Feather files.\n",
      "\n",
      "To further ignore this warning, you can do: \n",
      "import warnings; warnings.filterwarnings('ignore', message='.*initial implementation of Parquet.*')\n",
      "  more_deduplicated.to_parquet('./data/bus/overlaps.parquet')\n"
     ]
    }
   ],
   "source": [
    "more_deduplicated.to_parquet('./data/bus/overlaps.parquet')"
   ]
  },
  {
   "cell_type": "code",
   "execution_count": 32,
   "id": "e8eaf424-a9cb-485c-bc04-26930b12cdd3",
   "metadata": {},
   "outputs": [],
   "source": [
    "##TODO rewrite to new definition... (or just drop?)\n",
    "\n",
    "def sum_overlaps(row):\n",
    "    row['am_peak'] = row.am_peak_1 + row.am_peak_2\n",
    "    row['pm_peak'] = row.pm_peak_1 + row.pm_peak_2\n",
    "    row['n_trips'] = row.n_trips_1 + row.n_trips_2\n",
    "    if row.am_peak >= 4 and row.pm_peak >= 4:\n",
    "        row['hq_transit_corr'] = True\n",
    "    else:\n",
    "        row['hq_transit_corr'] = False\n",
    "    return row"
   ]
  },
  {
   "cell_type": "code",
   "execution_count": 63,
   "id": "bf4f3b87-f12b-4616-b2f6-02b29e3d8a3b",
   "metadata": {},
   "outputs": [],
   "source": [
    "overlaps_summed = more_deduplicated.apply(sum_overlaps, axis = 1) "
   ]
  },
  {
   "cell_type": "code",
   "execution_count": 64,
   "id": "0d53cdbb-f226-42b0-b544-2547136be610",
   "metadata": {},
   "outputs": [],
   "source": [
    "new_hq = overlaps_summed[overlaps_summed['hq_transit_corr']]"
   ]
  },
  {
   "cell_type": "code",
   "execution_count": 65,
   "id": "c5fe966e-e190-4c97-9b57-411d8206f83c",
   "metadata": {},
   "outputs": [],
   "source": [
    "new_hq = new_hq[new_hq['am_peak'] != new_hq['am_peak_1']*2] ## drop likely duplicates; can rework above to do this better"
   ]
  },
  {
   "cell_type": "code",
   "execution_count": 66,
   "id": "cfa13e39-a095-492b-99b5-84d65f712f66",
   "metadata": {},
   "outputs": [],
   "source": [
    "new_hq = new_hq.drop(columns=['calitp_itp_id_2',\n",
    "               'hqta_segment_id_2', 'index_2', 'n_trips_2', 'segment_sequence_2',\n",
    "               'shape_id_2', 'stop_id_2', 'am_peak_2', 'pm_peak_2',\n",
    "               'hq_transit_corr_2', 'index_1', 'index_2', 'n_trips_2', 'n_trips_1',\n",
    "                'am_peak_1', 'pm_peak_1', 'hq_transit_corr_1'])"
   ]
  },
  {
   "cell_type": "code",
   "execution_count": 67,
   "id": "709cf038-fa6d-48ac-8583-fd57069e4984",
   "metadata": {},
   "outputs": [],
   "source": [
    "new_hq = new_hq.rename(columns = {'calitp_itp_id_1':'calitp_itp_id', 'hqta_segment_id_1':'hqta_segment_id',\n",
    "       'segment_sequence_1':'segment_sequence', 'shape_id_1':'shape_id', 'stop_id_1':'stop_id'})"
   ]
  },
  {
   "cell_type": "code",
   "execution_count": 68,
   "id": "916e3e7e-5178-4e8b-9fa6-7a678d43fcb8",
   "metadata": {},
   "outputs": [],
   "source": [
    "all_operators = all_operators.append(new_hq)"
   ]
  },
  {
   "cell_type": "code",
   "execution_count": 69,
   "id": "dd0aada1-9341-4837-978b-0e4c01bec26a",
   "metadata": {},
   "outputs": [],
   "source": [
    "short_dropped = all_operators[all_operators['geometry'].area > 50*400] ##50m width * 400m segment min"
   ]
  },
  {
   "cell_type": "code",
   "execution_count": 70,
   "id": "007242a3-d4d2-4acd-8bff-169fc513ad2b",
   "metadata": {},
   "outputs": [],
   "source": [
    "short_dropped = short_dropped.reset_index().drop(columns=['index'])"
   ]
  },
  {
   "cell_type": "code",
   "execution_count": 71,
   "id": "e85121b8-8052-4bd2-9270-fc7462700a58",
   "metadata": {},
   "outputs": [
    {
     "name": "stderr",
     "output_type": "stream",
     "text": [
      "/tmp/ipykernel_21837/2516763261.py:1: UserWarning: this is an initial implementation of Parquet/Feather file support and associated metadata.  This is tracking version 0.1.0 of the metadata specification at https://github.com/geopandas/geo-arrow-spec\n",
      "\n",
      "This metadata specification does not yet make stability promises.  We do not yet recommend using this in a production setting unless you are able to rewrite your Parquet/Feather files.\n",
      "\n",
      "To further ignore this warning, you can do: \n",
      "import warnings; warnings.filterwarnings('ignore', message='.*initial implementation of Parquet.*')\n",
      "  short_dropped.to_parquet('./data/bus/all_operators_cleaned_appended.parquet')\n"
     ]
    }
   ],
   "source": [
    "short_dropped.to_parquet('./data/bus/all_operators_cleaned_appended.parquet')"
   ]
  },
  {
   "cell_type": "code",
   "execution_count": 72,
   "id": "01f936bc-85d7-4317-afc1-5ce5dbb59005",
   "metadata": {},
   "outputs": [],
   "source": [
    "cleaned_all = gpd.read_parquet('./data/bus/all_operators_cleaned_appended.parquet')"
   ]
  },
  {
   "cell_type": "code",
   "execution_count": 73,
   "id": "888a03f3-470f-48c9-bfff-ddca12ff5383",
   "metadata": {},
   "outputs": [
    {
     "data": {
      "text/html": [
       "<div>\n",
       "<style scoped>\n",
       "    .dataframe tbody tr th:only-of-type {\n",
       "        vertical-align: middle;\n",
       "    }\n",
       "\n",
       "    .dataframe tbody tr th {\n",
       "        vertical-align: top;\n",
       "    }\n",
       "\n",
       "    .dataframe thead th {\n",
       "        text-align: right;\n",
       "    }\n",
       "</style>\n",
       "<table border=\"1\" class=\"dataframe\">\n",
       "  <thead>\n",
       "    <tr style=\"text-align: right;\">\n",
       "      <th></th>\n",
       "      <th>level_0</th>\n",
       "      <th>calitp_itp_id</th>\n",
       "      <th>geometry</th>\n",
       "      <th>hqta_segment_id</th>\n",
       "      <th>n_trips</th>\n",
       "      <th>segment_sequence</th>\n",
       "      <th>shape_id</th>\n",
       "      <th>stop_id</th>\n",
       "      <th>am_peak</th>\n",
       "      <th>pm_peak</th>\n",
       "      <th>hq_transit_corr</th>\n",
       "      <th>overlap_id</th>\n",
       "    </tr>\n",
       "  </thead>\n",
       "  <tbody>\n",
       "    <tr>\n",
       "      <th>0</th>\n",
       "      <td>0</td>\n",
       "      <td>208</td>\n",
       "      <td>POLYGON ((-160759.302 -149987.381, -160752.166...</td>\n",
       "      <td>2965703173</td>\n",
       "      <td>183.0</td>\n",
       "      <td>0</td>\n",
       "      <td>26030</td>\n",
       "      <td>1133</td>\n",
       "      <td>8.7</td>\n",
       "      <td>11.0</td>\n",
       "      <td>False</td>\n",
       "      <td>None</td>\n",
       "    </tr>\n",
       "    <tr>\n",
       "      <th>1</th>\n",
       "      <td>1</td>\n",
       "      <td>208</td>\n",
       "      <td>POLYGON ((-159824.204 -149976.259, -159820.991...</td>\n",
       "      <td>3351394963</td>\n",
       "      <td>65.0</td>\n",
       "      <td>1</td>\n",
       "      <td>26030</td>\n",
       "      <td>1229</td>\n",
       "      <td>3.0</td>\n",
       "      <td>4.0</td>\n",
       "      <td>False</td>\n",
       "      <td>None</td>\n",
       "    </tr>\n",
       "    <tr>\n",
       "      <th>2</th>\n",
       "      <td>2</td>\n",
       "      <td>208</td>\n",
       "      <td>POLYGON ((-158026.195 -149577.875, -158026.289...</td>\n",
       "      <td>701258687</td>\n",
       "      <td>123.0</td>\n",
       "      <td>3</td>\n",
       "      <td>26030</td>\n",
       "      <td>1635</td>\n",
       "      <td>3.3</td>\n",
       "      <td>5.0</td>\n",
       "      <td>False</td>\n",
       "      <td>None</td>\n",
       "    </tr>\n",
       "    <tr>\n",
       "      <th>3</th>\n",
       "      <td>0</td>\n",
       "      <td>208</td>\n",
       "      <td>POLYGON ((-158181.307 -148896.366, -158163.502...</td>\n",
       "      <td>2849913668</td>\n",
       "      <td>72.0</td>\n",
       "      <td>0</td>\n",
       "      <td>26031</td>\n",
       "      <td>1629</td>\n",
       "      <td>3.3</td>\n",
       "      <td>5.0</td>\n",
       "      <td>False</td>\n",
       "      <td>None</td>\n",
       "    </tr>\n",
       "    <tr>\n",
       "      <th>4</th>\n",
       "      <td>1</td>\n",
       "      <td>208</td>\n",
       "      <td>POLYGON ((-157787.115 -149177.055, -157782.416...</td>\n",
       "      <td>3738766290</td>\n",
       "      <td>72.0</td>\n",
       "      <td>1</td>\n",
       "      <td>26031</td>\n",
       "      <td>1630</td>\n",
       "      <td>3.0</td>\n",
       "      <td>4.0</td>\n",
       "      <td>False</td>\n",
       "      <td>None</td>\n",
       "    </tr>\n",
       "    <tr>\n",
       "      <th>...</th>\n",
       "      <td>...</td>\n",
       "      <td>...</td>\n",
       "      <td>...</td>\n",
       "      <td>...</td>\n",
       "      <td>...</td>\n",
       "      <td>...</td>\n",
       "      <td>...</td>\n",
       "      <td>...</td>\n",
       "      <td>...</td>\n",
       "      <td>...</td>\n",
       "      <td>...</td>\n",
       "      <td>...</td>\n",
       "    </tr>\n",
       "    <tr>\n",
       "      <th>21292</th>\n",
       "      <td>90486</td>\n",
       "      <td>273</td>\n",
       "      <td>POLYGON ((-130771.403 63232.410, -130657.005 6...</td>\n",
       "      <td>356699929</td>\n",
       "      <td>64.0</td>\n",
       "      <td>4</td>\n",
       "      <td>39715</td>\n",
       "      <td>456</td>\n",
       "      <td>7.4</td>\n",
       "      <td>9.0</td>\n",
       "      <td>True</td>\n",
       "      <td>[356699929, 1808774315]</td>\n",
       "    </tr>\n",
       "    <tr>\n",
       "      <th>21293</th>\n",
       "      <td>90972</td>\n",
       "      <td>308</td>\n",
       "      <td>POLYGON ((117998.860 -413255.153, 117994.454 -...</td>\n",
       "      <td>2315245041</td>\n",
       "      <td>146.0</td>\n",
       "      <td>10</td>\n",
       "      <td>p_898189</td>\n",
       "      <td>2387409</td>\n",
       "      <td>8.0</td>\n",
       "      <td>8.6</td>\n",
       "      <td>True</td>\n",
       "      <td>[1949746130, 2315245041]</td>\n",
       "    </tr>\n",
       "    <tr>\n",
       "      <th>21294</th>\n",
       "      <td>91009</td>\n",
       "      <td>308</td>\n",
       "      <td>POLYGON ((111669.065 -415372.364, 111669.342 -...</td>\n",
       "      <td>1129572458</td>\n",
       "      <td>100.0</td>\n",
       "      <td>8</td>\n",
       "      <td>p_898188</td>\n",
       "      <td>2387299</td>\n",
       "      <td>5.3</td>\n",
       "      <td>5.0</td>\n",
       "      <td>True</td>\n",
       "      <td>[1129572458, 3421010252]</td>\n",
       "    </tr>\n",
       "    <tr>\n",
       "      <th>21295</th>\n",
       "      <td>91409</td>\n",
       "      <td>257</td>\n",
       "      <td>POLYGON ((-216483.814 -21828.804, -216478.140 ...</td>\n",
       "      <td>1645218673</td>\n",
       "      <td>464.0</td>\n",
       "      <td>1</td>\n",
       "      <td>13738</td>\n",
       "      <td>1681822</td>\n",
       "      <td>4.7</td>\n",
       "      <td>5.3</td>\n",
       "      <td>True</td>\n",
       "      <td>[353844199, 1645218673]</td>\n",
       "    </tr>\n",
       "    <tr>\n",
       "      <th>21296</th>\n",
       "      <td>92055</td>\n",
       "      <td>273</td>\n",
       "      <td>POLYGON ((-128902.629 62458.126, -128906.706 6...</td>\n",
       "      <td>3300746626</td>\n",
       "      <td>100.0</td>\n",
       "      <td>33</td>\n",
       "      <td>39815</td>\n",
       "      <td>2654</td>\n",
       "      <td>7.0</td>\n",
       "      <td>6.0</td>\n",
       "      <td>True</td>\n",
       "      <td>[987143162, 3300746626]</td>\n",
       "    </tr>\n",
       "  </tbody>\n",
       "</table>\n",
       "<p>21297 rows × 12 columns</p>\n",
       "</div>"
      ],
      "text/plain": [
       "       level_0 calitp_itp_id  \\\n",
       "0            0           208   \n",
       "1            1           208   \n",
       "2            2           208   \n",
       "3            0           208   \n",
       "4            1           208   \n",
       "...        ...           ...   \n",
       "21292    90486           273   \n",
       "21293    90972           308   \n",
       "21294    91009           308   \n",
       "21295    91409           257   \n",
       "21296    92055           273   \n",
       "\n",
       "                                                geometry  hqta_segment_id  \\\n",
       "0      POLYGON ((-160759.302 -149987.381, -160752.166...       2965703173   \n",
       "1      POLYGON ((-159824.204 -149976.259, -159820.991...       3351394963   \n",
       "2      POLYGON ((-158026.195 -149577.875, -158026.289...        701258687   \n",
       "3      POLYGON ((-158181.307 -148896.366, -158163.502...       2849913668   \n",
       "4      POLYGON ((-157787.115 -149177.055, -157782.416...       3738766290   \n",
       "...                                                  ...              ...   \n",
       "21292  POLYGON ((-130771.403 63232.410, -130657.005 6...        356699929   \n",
       "21293  POLYGON ((117998.860 -413255.153, 117994.454 -...       2315245041   \n",
       "21294  POLYGON ((111669.065 -415372.364, 111669.342 -...       1129572458   \n",
       "21295  POLYGON ((-216483.814 -21828.804, -216478.140 ...       1645218673   \n",
       "21296  POLYGON ((-128902.629 62458.126, -128906.706 6...       3300746626   \n",
       "\n",
       "       n_trips segment_sequence  shape_id  stop_id  am_peak  pm_peak  \\\n",
       "0        183.0                0     26030     1133      8.7     11.0   \n",
       "1         65.0                1     26030     1229      3.0      4.0   \n",
       "2        123.0                3     26030     1635      3.3      5.0   \n",
       "3         72.0                0     26031     1629      3.3      5.0   \n",
       "4         72.0                1     26031     1630      3.0      4.0   \n",
       "...        ...              ...       ...      ...      ...      ...   \n",
       "21292     64.0                4     39715      456      7.4      9.0   \n",
       "21293    146.0               10  p_898189  2387409      8.0      8.6   \n",
       "21294    100.0                8  p_898188  2387299      5.3      5.0   \n",
       "21295    464.0                1     13738  1681822      4.7      5.3   \n",
       "21296    100.0               33     39815     2654      7.0      6.0   \n",
       "\n",
       "       hq_transit_corr                overlap_id  \n",
       "0                False                      None  \n",
       "1                False                      None  \n",
       "2                False                      None  \n",
       "3                False                      None  \n",
       "4                False                      None  \n",
       "...                ...                       ...  \n",
       "21292             True   [356699929, 1808774315]  \n",
       "21293             True  [1949746130, 2315245041]  \n",
       "21294             True  [1129572458, 3421010252]  \n",
       "21295             True   [353844199, 1645218673]  \n",
       "21296             True   [987143162, 3300746626]  \n",
       "\n",
       "[21297 rows x 12 columns]"
      ]
     },
     "execution_count": 73,
     "metadata": {},
     "output_type": "execute_result"
    }
   ],
   "source": [
    "cleaned_all"
   ]
  },
  {
   "cell_type": "code",
   "execution_count": 81,
   "id": "baaa3b22-d2dd-4afb-a081-e666a0037e8e",
   "metadata": {},
   "outputs": [],
   "source": [
    "dissolved = cleaned_all.dissolve(by=['hq_transit_corr', 'shape_id']).reset_index()"
   ]
  },
  {
   "cell_type": "code",
   "execution_count": 84,
   "id": "090dd0b2-4de3-47b0-abed-9d16356bbf2c",
   "metadata": {},
   "outputs": [],
   "source": [
    "dissolved = dissolved[dissolved['geometry'].area > 50*3000] ##50m width * 3000m shape min"
   ]
  },
  {
   "cell_type": "code",
   "execution_count": 86,
   "id": "c8f6d970-41ad-48c2-ba1a-8dd892d9ff40",
   "metadata": {},
   "outputs": [
    {
     "name": "stderr",
     "output_type": "stream",
     "text": [
      "/tmp/ipykernel_21837/2599670097.py:1: UserWarning: this is an initial implementation of Parquet/Feather file support and associated metadata.  This is tracking version 0.1.0 of the metadata specification at https://github.com/geopandas/geo-arrow-spec\n",
      "\n",
      "This metadata specification does not yet make stability promises.  We do not yet recommend using this in a production setting unless you are able to rewrite your Parquet/Feather files.\n",
      "\n",
      "To further ignore this warning, you can do: \n",
      "import warnings; warnings.filterwarnings('ignore', message='.*initial implementation of Parquet.*')\n",
      "  dissolved.to_parquet('./data/bus/shape_hqta_dissolve.parquet')\n"
     ]
    }
   ],
   "source": [
    "dissolved.to_parquet('./data/bus/shape_hqta_dissolve.parquet')"
   ]
  },
  {
   "cell_type": "code",
   "execution_count": 85,
   "id": "d9d194fd-1234-4b56-bb57-9b204b70db63",
   "metadata": {},
   "outputs": [
    {
     "data": {
      "application/vnd.jupyter.widget-view+json": {
       "model_id": "98155be03aa54c73a892d888f5f2195d",
       "version_major": 2,
       "version_minor": 0
      },
      "text/plain": [
       "Map(center=[33.596015707487744, -117.87571863402819], controls=(ZoomControl(options=['position', 'zoom_in_text…"
      ]
     },
     "metadata": {},
     "output_type": "display_data"
    }
   ],
   "source": [
    "map_hqta(dissolved)"
   ]
  },
  {
   "cell_type": "markdown",
   "id": "1ce92081-2e3e-4cf6-a679-cdd8f216a3e2",
   "metadata": {
    "tags": []
   },
   "source": [
    "### Bay Area Map Image\n",
    "\n",
    "![map](img/bay.png)"
   ]
  },
  {
   "cell_type": "markdown",
   "id": "8a8a7aa9-049a-4c06-9e0a-1f646e9a2cc6",
   "metadata": {
    "tags": []
   },
   "source": [
    "### Los Angeles Map Image\n",
    "\n",
    "![map](img/la.png)"
   ]
  },
  {
   "cell_type": "markdown",
   "id": "77f44db1-ec48-4333-b972-64e5671088b5",
   "metadata": {},
   "source": [
    "## Result\n",
    "\n",
    "* Ran and aggregated for nearly all bus operators statewide\n",
    "    * Segments not containing stops will not appear as HQTA-- may need to interpolate (e.g., freeway segments)\n",
    "    * Some questionable short segments\n",
    "* Algorithm may be overestimating for SFMTA"
   ]
  },
  {
   "cell_type": "markdown",
   "id": "5b1a455a-03a0-44eb-9862-d0e780dc3c01",
   "metadata": {},
   "source": [
    "### Data Issues\n",
    "\n",
    "* 61 County Connection has a lot of na departure times?\n",
    "    * strange results after dropna\n",
    "* 48 B-Line similarly choppy\n",
    "* 116 Fresno Area Express has whitespace in departure times\n",
    "    * ValueError: time data ' 7:04:00' does not match format '%H:%M:%S'\n",
    "\n"
   ]
  }
 ],
 "metadata": {
  "kernelspec": {
   "display_name": "Python 3 (ipykernel)",
   "language": "python",
   "name": "python3"
  },
  "language_info": {
   "codemirror_mode": {
    "name": "ipython",
    "version": 3
   },
   "file_extension": ".py",
   "mimetype": "text/x-python",
   "name": "python",
   "nbconvert_exporter": "python",
   "pygments_lexer": "ipython3",
   "version": "3.9.6"
  }
 },
 "nbformat": 4,
 "nbformat_minor": 5
}
