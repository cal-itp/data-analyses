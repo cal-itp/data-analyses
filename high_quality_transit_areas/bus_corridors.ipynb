{
 "cells": [
  {
   "cell_type": "code",
   "execution_count": 1,
   "id": "e37ce21c-ae28-4359-89b8-f628f852c489",
   "metadata": {},
   "outputs": [
    {
     "name": "stderr",
     "output_type": "stream",
     "text": [
      "/opt/conda/lib/python3.9/site-packages/geopandas/_compat.py:111: UserWarning: The Shapely GEOS version (3.10.2-CAPI-1.16.0) is incompatible with the GEOS version PyGEOS was compiled with (3.10.1-CAPI-1.16.0). Conversions between both will be slow.\n",
      "  warnings.warn(\n",
      "E0503 21:14:44.928526193    1086 fork_posix.cc:70]           Fork support is only compatible with the epoll1 and poll polling strategies\n",
      "E0503 21:14:47.161801255    1086 fork_posix.cc:70]           Fork support is only compatible with the epoll1 and poll polling strategies\n"
     ]
    }
   ],
   "source": [
    "import calitp\n",
    "from calitp.tables import tbl\n",
    "from siuba import *\n",
    "\n",
    "import pandas as pd\n",
    "import numpy as np\n",
    "import geopandas as gpd\n",
    "import fiona\n",
    "\n",
    "import shapely\n",
    "from shapely.geometry import LineString, MultiPoint\n",
    "from shapely.ops import split, substring\n",
    "\n",
    "import zlib\n",
    "import datetime as dt\n",
    "\n",
    "from utilities import *\n",
    "import shared_utils"
   ]
  },
  {
   "cell_type": "markdown",
   "id": "b0c50342-09f6-4d18-96fb-d950a304d0e1",
   "metadata": {
    "tags": []
   },
   "source": [
    "### High Quality Transit Areas Relevant Statutes\n",
    "\n",
    "[PRC 21155](https://leginfo.legislature.ca.gov/faces/codes_displaySection.xhtml?sectionNum=21155.&lawCode=PRC)\n",
    "* Major transit stop definition: _A major transit stop is as defined in Section 21064.3, except that, for purposes of this section, it also includes major transit stops that are included in the applicable regional transportation plan_\n",
    "* High-quality transit corridor definition: _For purposes of this section, a high-quality transit corridor means a corridor with fixed route bus service with service intervals no longer than 15 minutes during peak commute hours._\n",
    "    * Unable to locate definition of \"peak commute hours\"\n",
    "\n",
    "[PRC 21064.3](https://leginfo.legislature.ca.gov/faces/codes_displaySection.xhtml?sectionNum=21064.3.&lawCode=PRC)\n",
    "* _Major transit stop means a site containing any of the following:\n",
    "(a) An existing rail or bus rapid transit station.\n",
    "(b) A ferry terminal served by either a bus or rail transit service.\n",
    "(c) The intersection of two or more major bus routes with a frequency of service interval of 15 minutes or less during the morning and afternoon peak commute periods._\n",
    "    * \"Intersection\" may not be sufficiently well-defined for this analysis\n",
    "\n",
    "[PRC 21060.2](https://leginfo.legislature.ca.gov/faces/codes_displaySection.xhtml?lawCode=PRC&sectionNum=21060.2.&highlight=true&keyword=bus%20rapid%20transit)\n",
    "* _(a) “Bus rapid transit” means a public mass transit service provided by a public agency or by a public-private partnership that includes all of the following features:\n",
    "(1) Full-time dedicated bus lanes or operation in a separate right-of-way dedicated for public transportation with a frequency of service interval of 15 minutes or less during the morning and afternoon peak commute periods.\n",
    "(2) Transit signal priority.\n",
    "(3) All-door boarding.\n",
    "(4) Fare collection system that promotes efficiency.\n",
    "(5) Defined stations._\n",
    "    * Unlikely to determine if a service qualifies as BRT under this definition using GTFS alone"
   ]
  },
  {
   "cell_type": "code",
   "execution_count": 2,
   "id": "0d3207be-d38f-4f17-a97f-0f84cae25d77",
   "metadata": {},
   "outputs": [],
   "source": [
    "def single_shape_hqta(\n",
    "    shapes, trips, stop_times, stops, route_count_by_stop, shape_id, hqta\n",
    "):\n",
    "    \"\"\"Starting with a single GTFS shape, split that shape into segments and determine if each segment qualifies\n",
    "    as an HQTA. Existing segments within a shape are dropped for that shape, since their peak frequency and\n",
    "    HQTA status would have already been calculated for a previous shape.\n",
    "    \"\"\"\n",
    "\n",
    "    ## TODO use shared utils func\n",
    "    single_shape = (\n",
    "        shapes\n",
    "        >> filter(_.shape_id == shape_id)\n",
    "        >> mutate(shape_pt_sequence=_.shape_pt_sequence.astype(\"int64\"))\n",
    "        >> arrange(\n",
    "            _.shape_pt_sequence\n",
    "        )  ##arrange, then convert to line to preserve order...\n",
    "    )\n",
    "\n",
    "    route_line = LineString(\n",
    "        list(single_shape[\"geometry\"])\n",
    "    )  ##TODO replace with shared util? (upstream in shapes...)\n",
    "    single_line = single_shape[\n",
    "        [\"calitp_itp_id\", \"shape_id\", \"calitp_extracted_at\"]\n",
    "    ].iloc[\n",
    "        [0]\n",
    "    ]  ##preserve info cols\n",
    "    single_line[\"geometry\"] = route_line\n",
    "    single_line = gpd.GeoDataFrame(\n",
    "        single_line, crs=shared_utils.geography_utils.CA_NAD83Albers\n",
    "    )\n",
    "\n",
    "    if shape_id in debug_ids:\n",
    "        print(f\"***debug shape*** {shape_id}\")\n",
    "        debug_dict[f\"{shape_id}_single_line\"] = single_line\n",
    "        debug_dict[f\"{shape_id}_hqta\"] = hqta\n",
    "\n",
    "    calculated_stops = []\n",
    "    ## TODO any way to make more efficient? a pre-calculated shape overlap? something else?\n",
    "    if hqta.size != 0:\n",
    "        already_calculated = hqta.dissolve(\n",
    "            by=\"calitp_itp_id\"\n",
    "        )  ## get single polygon of HQTA calculation complete area\n",
    "        single_line = single_line.overlay(\n",
    "            already_calculated, how=\"difference\"\n",
    "        )  ## drop calculation complete area from current shape\n",
    "        if single_line.size == 0:\n",
    "            segments_with_max_stop = None\n",
    "            print(f\"no line for shape {shape_id}\")\n",
    "            return\n",
    "\n",
    "    segmented = gpd.GeoDataFrame() ##changed to gdf?\n",
    "    for segment in create_segments(single_line.geometry):\n",
    "        to_append = single_line.drop(columns=[\"geometry\"])\n",
    "        to_append[\"geometry\"] = segment\n",
    "        segmented = pd.concat((segmented, to_append))\n",
    "\n",
    "    segmented = segmented.reset_index()\n",
    "    try:\n",
    "        segmented[\"segment_sequence\"] = segmented.index.astype(str)\n",
    "        segmented = segmented.astype({\"calitp_itp_id\": str})\n",
    "    except:\n",
    "        print(f\"segmented shape has no itp_id {shape_id}\")\n",
    "        return\n",
    "\n",
    "    ## compute (hopefully unique) hash of segment id that can be used across routes/operators\n",
    "    segmented[\"hqta_segment_id\"] = segmented.apply(\n",
    "        lambda x: zlib.crc32(\n",
    "            (x.calitp_itp_id + x.shape_id + x.segment_sequence).encode(\"utf-8\")\n",
    "        ),\n",
    "        axis=1,\n",
    "    )\n",
    "\n",
    "    segmented.geometry = segmented.buffer(\n",
    "        50\n",
    "    )  ##generous buffer for street/sidewalk width? Required to spatially find stops within each segment\n",
    "\n",
    "    if shape_id in debug_ids:\n",
    "        debug_dict[f\"{shape_id}_segmented\"] = segmented\n",
    "        debug_dict[f\"{shape_id}_stops\"] = stops\n",
    "        debug_dict[f\"{shape_id}_route_ct_by_stop\"] = route_count_by_stop\n",
    "\n",
    "    segments_with_max_stop = segmented.apply(\n",
    "        find_stop_with_high_trip_count,\n",
    "        axis=1,\n",
    "        args=(stops, stop_times, 1, calculated_stops),\n",
    "    )\n",
    "\n",
    "    if not \"stop_id\" in segments_with_max_stop.columns:\n",
    "        segments_with_top2_stops = None\n",
    "        print(f\"no stops for shape {shape_id}\")\n",
    "        return  ## no stops within segment\n",
    "\n",
    "    max_stop_times = (\n",
    "        stop_times\n",
    "        >> select(_.stop_id, _.trip_id, _.departure_time)\n",
    "        >> inner_join(_, segments_with_max_stop, on=\"stop_id\")\n",
    "    )  ## filter stop_times to the key stops in each segment\n",
    "    max_stop_times = max_stop_times.dropna(subset=[\"departure_time\"])\n",
    "    max_stop_times = max_stop_times.drop_duplicates(\n",
    "        subset=[\"trip_id\", \"hqta_segment_id\"]\n",
    "    )  ## filter duplicates for top2 approach\n",
    "\n",
    "    if shape_id in debug_ids:\n",
    "        debug_dict[f\"{shape_id}_max_stop0\"] = max_stop_times\n",
    "\n",
    "    max_stop_times[\"departure_time\"] = max_stop_times[\"departure_time\"].apply(\n",
    "        fix_arrival_time\n",
    "    )  ## reformat GTFS time to a format datetime can ingest\n",
    "    max_stop_times[\"departure_dt\"] = max_stop_times[\"departure_time\"].apply(\n",
    "        lambda x: dt.datetime.strptime(x, \"%H:%M:%S\")\n",
    "    )\n",
    "    max_stop_times[\"departure_hour\"] = max_stop_times[\"departure_dt\"].apply(\n",
    "        lambda x: x.hour\n",
    "    )\n",
    "\n",
    "    if max_stop_times.size == 0:\n",
    "        print(f\"no commute hour trips for shape {shape_id}\")\n",
    "        return\n",
    "\n",
    "    if shape_id in debug_ids:\n",
    "        debug_dict[f\"{shape_id}_max_stop\"] = max_stop_times\n",
    "\n",
    "    ## new flexible peak\n",
    "    segment_am_max = (\n",
    "        max_stop_times\n",
    "        >> count(_.hqta_segment_id, _.departure_hour)\n",
    "        >> filter(_.departure_hour < 12)\n",
    "        >> group_by(_.hqta_segment_id)\n",
    "        >> summarize(am_max_trips=_.n.max())\n",
    "    )\n",
    "\n",
    "    segment_pm_max = (\n",
    "        max_stop_times\n",
    "        >> count(_.hqta_segment_id, _.departure_hour)\n",
    "        >> filter(_.departure_hour >= 12)\n",
    "        >> group_by(_.hqta_segment_id)\n",
    "        >> summarize(pm_max_trips=_.n.max())\n",
    "    )\n",
    "    try:\n",
    "        segment_peak_service = segment_am_max >> inner_join(\n",
    "            _, segment_pm_max, on=\"hqta_segment_id\"\n",
    "        )\n",
    "        segment_peak_service[\"hq_transit_corr\"] = segment_peak_service.apply(\n",
    "            lambda x: x.am_max_trips > 4 and x.pm_max_trips > 4, axis=1\n",
    "        )\n",
    "    except:  ## append when all segments only have am or pm trips, not an hqta by definition\n",
    "        segment_peak_service = pd.concat((segment_am_max, segment_pm_max))\n",
    "        segment_peak_service[\"hq_transit_corr\"] = False\n",
    "\n",
    "    segment_peak_service = segment_peak_service.reset_index(drop=True)\n",
    "\n",
    "    single_hqta = segments_with_max_stop >> inner_join(\n",
    "        _, segment_peak_service, on=\"hqta_segment_id\"\n",
    "    )\n",
    "    single_hqta = single_hqta >> select(-_.calitp_extracted_at, -_.index, -_.n_trips)\n",
    "\n",
    "    if shape_id in debug_ids:\n",
    "        debug_dict[f\"{shape_id}_single_hqta\"] = single_hqta\n",
    "\n",
    "    return single_hqta.reset_index(drop=True)"
   ]
  },
  {
   "cell_type": "code",
   "execution_count": 3,
   "id": "9483141f-c197-4fc8-80f0-4efa8d2b44c4",
   "metadata": {},
   "outputs": [],
   "source": [
    "def single_operator_hqta(views):\n",
    "\n",
    "    global debug_dict\n",
    "    debug_dict = {}\n",
    "\n",
    "    shapes, trips, stop_times, stops = views\n",
    "\n",
    "    distinct_routes = (\n",
    "        trips\n",
    "        >> distinct(_.route_id, _.shape_id, _.direction_id, _keep_all=True)\n",
    "        >> select(_.calitp_itp_id, _.route_id, _.shape_id, _.direction_id, _.trip_id)\n",
    "    )\n",
    "\n",
    "    route_count_by_stop = (\n",
    "        stop_times\n",
    "        >> select(_.stop_id, _.trip_id)\n",
    "        >> inner_join(_, distinct_routes, on=\"trip_id\")\n",
    "        >> count(_.stop_id)\n",
    "        >> rename(n_routes=_.n)\n",
    "        >> arrange(-_.n_routes)\n",
    "    )\n",
    "\n",
    "    hqta = gpd.GeoDataFrame()\n",
    "    ## start with shapes including the highest number of trips\n",
    "    shapes_sorted = (\n",
    "        trips.groupby(\"shape_id\")\n",
    "        .count()\n",
    "        .sort_values(by=\"trip_id\", ascending=False)\n",
    "        .index\n",
    "    )\n",
    "    shapes_sorted = pd.Series(shapes_sorted)\n",
    "    total_shapes = len(shapes_sorted)\n",
    "    print(f\"there are {total_shapes} shapes total\")\n",
    "    for ix, shape_id in shapes_sorted.items():\n",
    "        print(f\"calculating for shape_id {shape_id}\")\n",
    "        if ix % 25 == 0:\n",
    "            print(\n",
    "                f\"progress: {ix}/{total_shapes} shapes ({round(((ix/total_shapes)*100), 2)}%)\"\n",
    "            )\n",
    "        # try:\n",
    "        result = single_shape_hqta(\n",
    "            shapes, trips, stop_times, stops, route_count_by_stop, shape_id, hqta\n",
    "        )\n",
    "        hqta = pd.concat((hqta, result))\n",
    "        # except:\n",
    "            # print(f\"unable to calculate HQTA for shape_id {shape_id}\")\n",
    "        try:\n",
    "            hqta = hqta.set_crs(shared_utils.geography_utils.CA_NAD83Albers)\n",
    "        except:\n",
    "            continue\n",
    "    return hqta\n",
    "    # return hqta.drop(columns=['n', 'departure_hour']).reset_index(drop=True)"
   ]
  },
  {
   "cell_type": "code",
   "execution_count": 4,
   "id": "e9d94df4-21cd-46d6-a8ab-fe4d4c01d728",
   "metadata": {},
   "outputs": [],
   "source": [
    "debug_ids = ['940143', '1730123']"
   ]
  },
  {
   "cell_type": "code",
   "execution_count": 5,
   "id": "54227d0f-b539-4852-96e2-50472f40fb08",
   "metadata": {
    "tags": []
   },
   "outputs": [],
   "source": [
    "# views = get_operator_views()"
   ]
  },
  {
   "cell_type": "code",
   "execution_count": 6,
   "id": "f6c92a46-4a65-4a0f-9bbc-a9d9050417d0",
   "metadata": {
    "tags": []
   },
   "outputs": [],
   "source": [
    "# hqta = single_operator_hqta(views)"
   ]
  },
  {
   "cell_type": "code",
   "execution_count": 7,
   "id": "766c865a-0078-40d0-9f6a-cf96c273e36d",
   "metadata": {},
   "outputs": [],
   "source": [
    "# shared_utils.utils.geoparquet_gcs_export(hqta, f'{GCS_FILE_PATH}bus_corridors/', f'{182}_bus')"
   ]
  },
  {
   "cell_type": "code",
   "execution_count": 8,
   "id": "f6e5a027-e873-49e6-88e2-0851bf9fa728",
   "metadata": {},
   "outputs": [],
   "source": [
    "##TODO replace map with shared utils folium, useful mouseover"
   ]
  },
  {
   "cell_type": "code",
   "execution_count": 9,
   "id": "53e87102-7709-4321-9562-d12d4ce38d64",
   "metadata": {},
   "outputs": [],
   "source": [
    "# map_hqta(hqta)"
   ]
  },
  {
   "cell_type": "markdown",
   "id": "b37c7411-8ea1-48c2-b42a-b437cdef7eaa",
   "metadata": {},
   "source": [
    "## Multiple Operators"
   ]
  },
  {
   "cell_type": "code",
   "execution_count": 10,
   "id": "5464abd7-4923-4798-b125-dea377fe7188",
   "metadata": {},
   "outputs": [],
   "source": [
    "itp_ids = tbl.gtfs_schedule.agency() >> distinct(_.calitp_itp_id) >> collect()\n",
    "itp_ids = itp_ids.calitp_itp_id"
   ]
  },
  {
   "cell_type": "code",
   "execution_count": 11,
   "id": "28babbe1-abff-48cb-ae82-b9e802b539ee",
   "metadata": {},
   "outputs": [],
   "source": [
    "fs_list = fs.ls(f'{GCS_FILE_PATH}bus_corridors/')"
   ]
  },
  {
   "cell_type": "code",
   "execution_count": 17,
   "id": "1dc5536f-a16b-40c7-ad49-5632822610c2",
   "metadata": {
    "tags": []
   },
   "outputs": [],
   "source": [
    "ran_operators = [int(path.split('bus_corridors/')[1].split('_')[0])\n",
    "                 for path in fs_list\n",
    "                 if path.split('bus_corridors/')[1] and path.split('bus_corridors/')[1].isnumeric()]"
   ]
  },
  {
   "cell_type": "code",
   "execution_count": 18,
   "id": "e3d3d17a-803b-49fd-9bc2-d64eda46c6ca",
   "metadata": {},
   "outputs": [],
   "source": [
    "ran_operators += [194] ##skip marin, inf loop??"
   ]
  },
  {
   "cell_type": "code",
   "execution_count": 19,
   "id": "df2e6dcb-256c-4a9b-b90e-90b43fe38346",
   "metadata": {},
   "outputs": [],
   "source": [
    "def multiple_operator_hqta():\n",
    "    \n",
    "    hqta = pd.DataFrame()    \n",
    "    for itp_id in itp_ids.to_list():\n",
    "        if itp_id in ran_operators:\n",
    "            print(f'already ran {itp_id}')\n",
    "            continue\n",
    "        if int(itp_id) == 200:\n",
    "            continue ## skip MTC feed to use individual operator feeds\n",
    "        try:\n",
    "            print(f'attempting for operator {itp_id}')\n",
    "            operator = single_operator_hqta(get_operator_views(itp_id))\n",
    "            if not operator.empty:\n",
    "                shared_utils.utils.geoparquet_gcs_export(operator, f'{GCS_FILE_PATH}bus_corridors/', f'{itp_id}_bus')\n",
    "                hqta = pd.concat([hqta, operator])\n",
    "            else:\n",
    "                print(f'no hqta for operator {itp_id}')\n",
    "        except:\n",
    "            print(f'failed for operator {itp_id}')\n",
    "        \n",
    "    return hqta"
   ]
  },
  {
   "cell_type": "code",
   "execution_count": 40,
   "id": "33affa9c-6b8d-4f92-92a4-113652372535",
   "metadata": {},
   "outputs": [
    {
     "data": {
      "text/plain": [
       "['calitp-analytics-data/data-analyses/high_quality_transit_areas/bus_corridors/101_bus',\n",
       " 'parquet']"
      ]
     },
     "execution_count": 40,
     "metadata": {},
     "output_type": "execute_result"
    }
   ],
   "source": [
    "fs_list[1].split('.')"
   ]
  },
  {
   "cell_type": "code",
   "execution_count": 41,
   "id": "aad23c92-0cab-4d5c-9bc6-0364aec6cd83",
   "metadata": {},
   "outputs": [
    {
     "data": {
      "text/plain": [
       "'gs://calitp-analytics-data/data-analyses/high_quality_transit_areas/'"
      ]
     },
     "execution_count": 41,
     "metadata": {},
     "output_type": "execute_result"
    }
   ],
   "source": [
    "GCS_FILE_PATH"
   ]
  },
  {
   "cell_type": "code",
   "execution_count": 57,
   "id": "9ac752f8-c73b-48e3-ac65-53a743533ca1",
   "metadata": {
    "collapsed": true,
    "jupyter": {
     "outputs_hidden": true
    },
    "tags": []
   },
   "outputs": [
    {
     "name": "stdout",
     "output_type": "stream",
     "text": [
      "calitp-analytics-data/data-analyses/high_quality_transit_areas/bus_corridors/101_bus.parquet\n",
      "calitp-analytics-data/data-analyses/high_quality_transit_areas/bus_corridors/102_bus.parquet\n",
      "calitp-analytics-data/data-analyses/high_quality_transit_areas/bus_corridors/103_bus.parquet\n",
      "calitp-analytics-data/data-analyses/high_quality_transit_areas/bus_corridors/106_bus.parquet\n",
      "calitp-analytics-data/data-analyses/high_quality_transit_areas/bus_corridors/108_bus.parquet\n",
      "calitp-analytics-data/data-analyses/high_quality_transit_areas/bus_corridors/110_bus.parquet\n",
      "calitp-analytics-data/data-analyses/high_quality_transit_areas/bus_corridors/112_bus.parquet\n",
      "calitp-analytics-data/data-analyses/high_quality_transit_areas/bus_corridors/116_bus.parquet\n",
      "calitp-analytics-data/data-analyses/high_quality_transit_areas/bus_corridors/118_bus.parquet\n",
      "calitp-analytics-data/data-analyses/high_quality_transit_areas/bus_corridors/11_bus.parquet\n",
      "calitp-analytics-data/data-analyses/high_quality_transit_areas/bus_corridors/120_bus.parquet\n",
      "calitp-analytics-data/data-analyses/high_quality_transit_areas/bus_corridors/121_bus.parquet\n",
      "calitp-analytics-data/data-analyses/high_quality_transit_areas/bus_corridors/122_bus.parquet\n",
      "calitp-analytics-data/data-analyses/high_quality_transit_areas/bus_corridors/123_bus.parquet\n",
      "calitp-analytics-data/data-analyses/high_quality_transit_areas/bus_corridors/126_bus.parquet\n",
      "calitp-analytics-data/data-analyses/high_quality_transit_areas/bus_corridors/127_bus.parquet\n",
      "calitp-analytics-data/data-analyses/high_quality_transit_areas/bus_corridors/129_bus.parquet\n",
      "calitp-analytics-data/data-analyses/high_quality_transit_areas/bus_corridors/135_bus.parquet\n",
      "calitp-analytics-data/data-analyses/high_quality_transit_areas/bus_corridors/137_bus.parquet\n",
      "calitp-analytics-data/data-analyses/high_quality_transit_areas/bus_corridors/142_bus.parquet\n",
      "calitp-analytics-data/data-analyses/high_quality_transit_areas/bus_corridors/146_bus.parquet\n",
      "calitp-analytics-data/data-analyses/high_quality_transit_areas/bus_corridors/148_bus.parquet\n",
      "calitp-analytics-data/data-analyses/high_quality_transit_areas/bus_corridors/152_bus.parquet\n",
      "calitp-analytics-data/data-analyses/high_quality_transit_areas/bus_corridors/154_bus.parquet\n",
      "calitp-analytics-data/data-analyses/high_quality_transit_areas/bus_corridors/159_bus.parquet\n",
      "calitp-analytics-data/data-analyses/high_quality_transit_areas/bus_corridors/162_bus.parquet\n",
      "calitp-analytics-data/data-analyses/high_quality_transit_areas/bus_corridors/167_bus.parquet\n",
      "calitp-analytics-data/data-analyses/high_quality_transit_areas/bus_corridors/168_bus.parquet\n",
      "calitp-analytics-data/data-analyses/high_quality_transit_areas/bus_corridors/16_bus.parquet\n",
      "calitp-analytics-data/data-analyses/high_quality_transit_areas/bus_corridors/170_bus.parquet\n",
      "calitp-analytics-data/data-analyses/high_quality_transit_areas/bus_corridors/171_bus.parquet\n",
      "calitp-analytics-data/data-analyses/high_quality_transit_areas/bus_corridors/172_bus.parquet\n",
      "calitp-analytics-data/data-analyses/high_quality_transit_areas/bus_corridors/173_bus.parquet\n",
      "calitp-analytics-data/data-analyses/high_quality_transit_areas/bus_corridors/174_bus.parquet\n",
      "calitp-analytics-data/data-analyses/high_quality_transit_areas/bus_corridors/176_bus.parquet\n",
      "calitp-analytics-data/data-analyses/high_quality_transit_areas/bus_corridors/177_bus.parquet\n",
      "calitp-analytics-data/data-analyses/high_quality_transit_areas/bus_corridors/178_bus.parquet\n",
      "calitp-analytics-data/data-analyses/high_quality_transit_areas/bus_corridors/179_bus.parquet\n",
      "calitp-analytics-data/data-analyses/high_quality_transit_areas/bus_corridors/17_bus.parquet\n",
      "calitp-analytics-data/data-analyses/high_quality_transit_areas/bus_corridors/181_bus.parquet\n",
      "calitp-analytics-data/data-analyses/high_quality_transit_areas/bus_corridors/182_bus.parquet\n",
      "calitp-analytics-data/data-analyses/high_quality_transit_areas/bus_corridors/183_bus.parquet\n",
      "calitp-analytics-data/data-analyses/high_quality_transit_areas/bus_corridors/187_bus.parquet\n",
      "calitp-analytics-data/data-analyses/high_quality_transit_areas/bus_corridors/188_bus.parquet\n",
      "calitp-analytics-data/data-analyses/high_quality_transit_areas/bus_corridors/18_bus.parquet\n",
      "calitp-analytics-data/data-analyses/high_quality_transit_areas/bus_corridors/190_bus.parquet\n",
      "calitp-analytics-data/data-analyses/high_quality_transit_areas/bus_corridors/198_bus.parquet\n",
      "calitp-analytics-data/data-analyses/high_quality_transit_areas/bus_corridors/201_bus.parquet\n",
      "calitp-analytics-data/data-analyses/high_quality_transit_areas/bus_corridors/204_bus.parquet\n",
      "calitp-analytics-data/data-analyses/high_quality_transit_areas/bus_corridors/208_bus.parquet\n",
      "calitp-analytics-data/data-analyses/high_quality_transit_areas/bus_corridors/210_bus.parquet\n",
      "calitp-analytics-data/data-analyses/high_quality_transit_areas/bus_corridors/212_bus.parquet\n",
      "calitp-analytics-data/data-analyses/high_quality_transit_areas/bus_corridors/217_bus.parquet\n",
      "calitp-analytics-data/data-analyses/high_quality_transit_areas/bus_corridors/218_bus.parquet\n",
      "calitp-analytics-data/data-analyses/high_quality_transit_areas/bus_corridors/220_bus.parquet\n",
      "calitp-analytics-data/data-analyses/high_quality_transit_areas/bus_corridors/221_bus.parquet\n",
      "calitp-analytics-data/data-analyses/high_quality_transit_areas/bus_corridors/226_bus.parquet\n",
      "calitp-analytics-data/data-analyses/high_quality_transit_areas/bus_corridors/228_bus.parquet\n",
      "calitp-analytics-data/data-analyses/high_quality_transit_areas/bus_corridors/231_bus.parquet\n",
      "calitp-analytics-data/data-analyses/high_quality_transit_areas/bus_corridors/232_bus.parquet\n",
      "calitp-analytics-data/data-analyses/high_quality_transit_areas/bus_corridors/235_bus.parquet\n",
      "calitp-analytics-data/data-analyses/high_quality_transit_areas/bus_corridors/238_bus.parquet\n",
      "calitp-analytics-data/data-analyses/high_quality_transit_areas/bus_corridors/239_bus.parquet\n",
      "calitp-analytics-data/data-analyses/high_quality_transit_areas/bus_corridors/23_bus.parquet\n",
      "calitp-analytics-data/data-analyses/high_quality_transit_areas/bus_corridors/243_bus.parquet\n",
      "calitp-analytics-data/data-analyses/high_quality_transit_areas/bus_corridors/247_bus.parquet\n",
      "calitp-analytics-data/data-analyses/high_quality_transit_areas/bus_corridors/24_bus.parquet\n",
      "calitp-analytics-data/data-analyses/high_quality_transit_areas/bus_corridors/251_bus.parquet\n",
      "calitp-analytics-data/data-analyses/high_quality_transit_areas/bus_corridors/257_bus.parquet\n",
      "calitp-analytics-data/data-analyses/high_quality_transit_areas/bus_corridors/259_bus.parquet\n",
      "calitp-analytics-data/data-analyses/high_quality_transit_areas/bus_corridors/260_bus.parquet\n",
      "calitp-analytics-data/data-analyses/high_quality_transit_areas/bus_corridors/261_bus.parquet\n",
      "calitp-analytics-data/data-analyses/high_quality_transit_areas/bus_corridors/264_bus.parquet\n",
      "calitp-analytics-data/data-analyses/high_quality_transit_areas/bus_corridors/269_bus.parquet\n",
      "calitp-analytics-data/data-analyses/high_quality_transit_areas/bus_corridors/270_bus.parquet\n",
      "calitp-analytics-data/data-analyses/high_quality_transit_areas/bus_corridors/271_bus.parquet\n",
      "calitp-analytics-data/data-analyses/high_quality_transit_areas/bus_corridors/273_bus.parquet\n",
      "calitp-analytics-data/data-analyses/high_quality_transit_areas/bus_corridors/274_bus.parquet\n",
      "calitp-analytics-data/data-analyses/high_quality_transit_areas/bus_corridors/278_bus.parquet\n",
      "calitp-analytics-data/data-analyses/high_quality_transit_areas/bus_corridors/281_bus.parquet\n",
      "calitp-analytics-data/data-analyses/high_quality_transit_areas/bus_corridors/282_bus.parquet\n",
      "calitp-analytics-data/data-analyses/high_quality_transit_areas/bus_corridors/284_bus.parquet\n",
      "calitp-analytics-data/data-analyses/high_quality_transit_areas/bus_corridors/287_bus.parquet\n",
      "calitp-analytics-data/data-analyses/high_quality_transit_areas/bus_corridors/289_bus.parquet\n",
      "calitp-analytics-data/data-analyses/high_quality_transit_areas/bus_corridors/290_bus.parquet\n",
      "calitp-analytics-data/data-analyses/high_quality_transit_areas/bus_corridors/293_bus.parquet\n",
      "calitp-analytics-data/data-analyses/high_quality_transit_areas/bus_corridors/294_bus.parquet\n",
      "calitp-analytics-data/data-analyses/high_quality_transit_areas/bus_corridors/295_bus.parquet\n",
      "calitp-analytics-data/data-analyses/high_quality_transit_areas/bus_corridors/296_bus.parquet\n",
      "calitp-analytics-data/data-analyses/high_quality_transit_areas/bus_corridors/29_bus.parquet\n",
      "calitp-analytics-data/data-analyses/high_quality_transit_areas/bus_corridors/300_bus.parquet\n",
      "calitp-analytics-data/data-analyses/high_quality_transit_areas/bus_corridors/301_bus.parquet\n",
      "calitp-analytics-data/data-analyses/high_quality_transit_areas/bus_corridors/305_bus.parquet\n",
      "calitp-analytics-data/data-analyses/high_quality_transit_areas/bus_corridors/308_bus.parquet\n",
      "calitp-analytics-data/data-analyses/high_quality_transit_areas/bus_corridors/30_bus.parquet\n",
      "calitp-analytics-data/data-analyses/high_quality_transit_areas/bus_corridors/310_bus.parquet\n",
      "calitp-analytics-data/data-analyses/high_quality_transit_areas/bus_corridors/312_bus.parquet\n",
      "calitp-analytics-data/data-analyses/high_quality_transit_areas/bus_corridors/314_bus.parquet\n",
      "calitp-analytics-data/data-analyses/high_quality_transit_areas/bus_corridors/315_bus.parquet\n",
      "calitp-analytics-data/data-analyses/high_quality_transit_areas/bus_corridors/320_bus.parquet\n",
      "calitp-analytics-data/data-analyses/high_quality_transit_areas/bus_corridors/324_bus.parquet\n",
      "calitp-analytics-data/data-analyses/high_quality_transit_areas/bus_corridors/327_bus.parquet\n",
      "calitp-analytics-data/data-analyses/high_quality_transit_areas/bus_corridors/329_bus.parquet\n",
      "calitp-analytics-data/data-analyses/high_quality_transit_areas/bus_corridors/331_bus.parquet\n",
      "calitp-analytics-data/data-analyses/high_quality_transit_areas/bus_corridors/334_bus.parquet\n",
      "calitp-analytics-data/data-analyses/high_quality_transit_areas/bus_corridors/336_bus.parquet\n",
      "calitp-analytics-data/data-analyses/high_quality_transit_areas/bus_corridors/337_bus.parquet\n",
      "calitp-analytics-data/data-analyses/high_quality_transit_areas/bus_corridors/339_bus.parquet\n",
      "calitp-analytics-data/data-analyses/high_quality_transit_areas/bus_corridors/341_bus.parquet\n",
      "calitp-analytics-data/data-analyses/high_quality_transit_areas/bus_corridors/343_bus.parquet\n",
      "calitp-analytics-data/data-analyses/high_quality_transit_areas/bus_corridors/344_bus.parquet\n",
      "calitp-analytics-data/data-analyses/high_quality_transit_areas/bus_corridors/346_bus.parquet\n",
      "calitp-analytics-data/data-analyses/high_quality_transit_areas/bus_corridors/349_bus.parquet\n",
      "calitp-analytics-data/data-analyses/high_quality_transit_areas/bus_corridors/34_bus.parquet\n",
      "calitp-analytics-data/data-analyses/high_quality_transit_areas/bus_corridors/350_bus.parquet\n",
      "calitp-analytics-data/data-analyses/high_quality_transit_areas/bus_corridors/351_bus.parquet\n",
      "calitp-analytics-data/data-analyses/high_quality_transit_areas/bus_corridors/356_bus.parquet\n",
      "calitp-analytics-data/data-analyses/high_quality_transit_areas/bus_corridors/35_bus.parquet\n",
      "calitp-analytics-data/data-analyses/high_quality_transit_areas/bus_corridors/360_bus.parquet\n",
      "calitp-analytics-data/data-analyses/high_quality_transit_areas/bus_corridors/361_bus.parquet\n",
      "calitp-analytics-data/data-analyses/high_quality_transit_areas/bus_corridors/366_bus.parquet\n",
      "calitp-analytics-data/data-analyses/high_quality_transit_areas/bus_corridors/368_bus.parquet\n",
      "calitp-analytics-data/data-analyses/high_quality_transit_areas/bus_corridors/36_bus.parquet\n",
      "calitp-analytics-data/data-analyses/high_quality_transit_areas/bus_corridors/372_bus.parquet\n",
      "calitp-analytics-data/data-analyses/high_quality_transit_areas/bus_corridors/374_bus.parquet\n",
      "calitp-analytics-data/data-analyses/high_quality_transit_areas/bus_corridors/376_bus.parquet\n",
      "calitp-analytics-data/data-analyses/high_quality_transit_areas/bus_corridors/37_bus.parquet\n",
      "calitp-analytics-data/data-analyses/high_quality_transit_areas/bus_corridors/380_bus.parquet\n",
      "calitp-analytics-data/data-analyses/high_quality_transit_areas/bus_corridors/381_bus.parquet\n",
      "calitp-analytics-data/data-analyses/high_quality_transit_areas/bus_corridors/386_bus.parquet\n",
      "calitp-analytics-data/data-analyses/high_quality_transit_areas/bus_corridors/389_bus.parquet\n",
      "calitp-analytics-data/data-analyses/high_quality_transit_areas/bus_corridors/42_bus.parquet\n",
      "calitp-analytics-data/data-analyses/high_quality_transit_areas/bus_corridors/45_bus.parquet\n",
      "calitp-analytics-data/data-analyses/high_quality_transit_areas/bus_corridors/473_bus.parquet\n",
      "calitp-analytics-data/data-analyses/high_quality_transit_areas/bus_corridors/474_bus.parquet\n",
      "calitp-analytics-data/data-analyses/high_quality_transit_areas/bus_corridors/482_bus.parquet\n",
      "calitp-analytics-data/data-analyses/high_quality_transit_areas/bus_corridors/483_bus.parquet\n",
      "calitp-analytics-data/data-analyses/high_quality_transit_areas/bus_corridors/484_bus.parquet\n",
      "calitp-analytics-data/data-analyses/high_quality_transit_areas/bus_corridors/48_bus.parquet\n",
      "calitp-analytics-data/data-analyses/high_quality_transit_areas/bus_corridors/49_bus.parquet\n",
      "calitp-analytics-data/data-analyses/high_quality_transit_areas/bus_corridors/4_bus.parquet\n",
      "calitp-analytics-data/data-analyses/high_quality_transit_areas/bus_corridors/50_bus.parquet\n",
      "calitp-analytics-data/data-analyses/high_quality_transit_areas/bus_corridors/56_bus.parquet\n",
      "calitp-analytics-data/data-analyses/high_quality_transit_areas/bus_corridors/61_bus.parquet\n",
      "calitp-analytics-data/data-analyses/high_quality_transit_areas/bus_corridors/6_bus.parquet\n",
      "calitp-analytics-data/data-analyses/high_quality_transit_areas/bus_corridors/70_bus.parquet\n",
      "calitp-analytics-data/data-analyses/high_quality_transit_areas/bus_corridors/71_bus.parquet\n",
      "calitp-analytics-data/data-analyses/high_quality_transit_areas/bus_corridors/75_bus.parquet\n",
      "calitp-analytics-data/data-analyses/high_quality_transit_areas/bus_corridors/76_bus.parquet\n",
      "calitp-analytics-data/data-analyses/high_quality_transit_areas/bus_corridors/77_bus.parquet\n",
      "calitp-analytics-data/data-analyses/high_quality_transit_areas/bus_corridors/79_bus.parquet\n",
      "calitp-analytics-data/data-analyses/high_quality_transit_areas/bus_corridors/82_bus.parquet\n",
      "calitp-analytics-data/data-analyses/high_quality_transit_areas/bus_corridors/83_bus.parquet\n",
      "calitp-analytics-data/data-analyses/high_quality_transit_areas/bus_corridors/86_bus.parquet\n",
      "calitp-analytics-data/data-analyses/high_quality_transit_areas/bus_corridors/87_bus.parquet\n",
      "calitp-analytics-data/data-analyses/high_quality_transit_areas/bus_corridors/95_bus.parquet\n",
      "calitp-analytics-data/data-analyses/high_quality_transit_areas/bus_corridors/98_bus.parquet\n",
      "calitp-analytics-data/data-analyses/high_quality_transit_areas/bus_corridors/99_bus.parquet\n",
      "calitp-analytics-data/data-analyses/high_quality_transit_areas/bus_corridors/all_bus.parquet\n"
     ]
    },
    {
     "ename": "FileNotFoundError",
     "evalue": "calitp-analytics-data/data-analyses/high_quality_transit_areas/bus_corridors/all_bus.parquet",
     "output_type": "error",
     "traceback": [
      "\u001b[0;31m---------------------------------------------------------------------------\u001b[0m",
      "\u001b[0;31mFileNotFoundError\u001b[0m                         Traceback (most recent call last)",
      "Input \u001b[0;32mIn [57]\u001b[0m, in \u001b[0;36m<cell line: 2>\u001b[0;34m()\u001b[0m\n\u001b[1;32m      3\u001b[0m \u001b[38;5;28;01mif\u001b[39;00m \u001b[38;5;28mlen\u001b[39m(operator_file\u001b[38;5;241m.\u001b[39msplit(\u001b[38;5;124m'\u001b[39m\u001b[38;5;124m.\u001b[39m\u001b[38;5;124m'\u001b[39m)) \u001b[38;5;241m>\u001b[39m \u001b[38;5;241m1\u001b[39m \u001b[38;5;129;01mand\u001b[39;00m operator_file\u001b[38;5;241m.\u001b[39msplit(\u001b[38;5;124m'\u001b[39m\u001b[38;5;124m.\u001b[39m\u001b[38;5;124m'\u001b[39m)[\u001b[38;5;241m1\u001b[39m] \u001b[38;5;241m==\u001b[39m \u001b[38;5;124m'\u001b[39m\u001b[38;5;124mparquet\u001b[39m\u001b[38;5;124m'\u001b[39m:\n\u001b[1;32m      4\u001b[0m     \u001b[38;5;28mprint\u001b[39m(operator_file)\n\u001b[1;32m      5\u001b[0m     all_operators \u001b[38;5;241m=\u001b[39m pd\u001b[38;5;241m.\u001b[39mconcat((all_operators,\n\u001b[0;32m----> 6\u001b[0m                               \u001b[43mgpd\u001b[49m\u001b[38;5;241;43m.\u001b[39;49m\u001b[43mread_parquet\u001b[49m\u001b[43m(\u001b[49m\u001b[38;5;124;43m'\u001b[39;49m\u001b[38;5;124;43mgs://\u001b[39;49m\u001b[38;5;124;43m'\u001b[39;49m\u001b[43m \u001b[49m\u001b[38;5;241;43m+\u001b[39;49m\u001b[43m \u001b[49m\u001b[43moperator_file\u001b[49m\u001b[43m)\u001b[49m))\n",
      "File \u001b[0;32m/opt/conda/lib/python3.9/site-packages/geopandas/io/arrow.py:459\u001b[0m, in \u001b[0;36m_read_parquet\u001b[0;34m(path, columns, storage_options, **kwargs)\u001b[0m\n\u001b[1;32m    457\u001b[0m path \u001b[38;5;241m=\u001b[39m _expand_user(path)\n\u001b[1;32m    458\u001b[0m kwargs[\u001b[38;5;124m\"\u001b[39m\u001b[38;5;124muse_pandas_metadata\u001b[39m\u001b[38;5;124m\"\u001b[39m] \u001b[38;5;241m=\u001b[39m \u001b[38;5;28;01mTrue\u001b[39;00m\n\u001b[0;32m--> 459\u001b[0m table \u001b[38;5;241m=\u001b[39m \u001b[43mparquet\u001b[49m\u001b[38;5;241;43m.\u001b[39;49m\u001b[43mread_table\u001b[49m\u001b[43m(\u001b[49m\u001b[43mpath\u001b[49m\u001b[43m,\u001b[49m\u001b[43m \u001b[49m\u001b[43mcolumns\u001b[49m\u001b[38;5;241;43m=\u001b[39;49m\u001b[43mcolumns\u001b[49m\u001b[43m,\u001b[49m\u001b[43m \u001b[49m\u001b[43mfilesystem\u001b[49m\u001b[38;5;241;43m=\u001b[39;49m\u001b[43mfilesystem\u001b[49m\u001b[43m,\u001b[49m\u001b[43m \u001b[49m\u001b[38;5;241;43m*\u001b[39;49m\u001b[38;5;241;43m*\u001b[39;49m\u001b[43mkwargs\u001b[49m\u001b[43m)\u001b[49m\n\u001b[1;32m    461\u001b[0m \u001b[38;5;28;01mreturn\u001b[39;00m _arrow_to_geopandas(table)\n",
      "File \u001b[0;32m/opt/conda/lib/python3.9/site-packages/pyarrow/parquet.py:1905\u001b[0m, in \u001b[0;36mread_table\u001b[0;34m(source, columns, use_threads, metadata, use_pandas_metadata, memory_map, read_dictionary, filesystem, filters, buffer_size, partitioning, use_legacy_dataset, ignore_prefixes, pre_buffer, coerce_int96_timestamp_unit)\u001b[0m\n\u001b[1;32m   1898\u001b[0m     \u001b[38;5;28;01mraise\u001b[39;00m \u001b[38;5;167;01mValueError\u001b[39;00m(\n\u001b[1;32m   1899\u001b[0m         \u001b[38;5;124m\"\u001b[39m\u001b[38;5;124mThe \u001b[39m\u001b[38;5;124m'\u001b[39m\u001b[38;5;124mmetadata\u001b[39m\u001b[38;5;124m'\u001b[39m\u001b[38;5;124m keyword is no longer supported with the new \u001b[39m\u001b[38;5;124m\"\u001b[39m\n\u001b[1;32m   1900\u001b[0m         \u001b[38;5;124m\"\u001b[39m\u001b[38;5;124mdatasets-based implementation. Specify \u001b[39m\u001b[38;5;124m\"\u001b[39m\n\u001b[1;32m   1901\u001b[0m         \u001b[38;5;124m\"\u001b[39m\u001b[38;5;124m'\u001b[39m\u001b[38;5;124muse_legacy_dataset=True\u001b[39m\u001b[38;5;124m'\u001b[39m\u001b[38;5;124m to temporarily recover the old \u001b[39m\u001b[38;5;124m\"\u001b[39m\n\u001b[1;32m   1902\u001b[0m         \u001b[38;5;124m\"\u001b[39m\u001b[38;5;124mbehaviour.\u001b[39m\u001b[38;5;124m\"\u001b[39m\n\u001b[1;32m   1903\u001b[0m     )\n\u001b[1;32m   1904\u001b[0m \u001b[38;5;28;01mtry\u001b[39;00m:\n\u001b[0;32m-> 1905\u001b[0m     dataset \u001b[38;5;241m=\u001b[39m \u001b[43m_ParquetDatasetV2\u001b[49m\u001b[43m(\u001b[49m\n\u001b[1;32m   1906\u001b[0m \u001b[43m        \u001b[49m\u001b[43msource\u001b[49m\u001b[43m,\u001b[49m\n\u001b[1;32m   1907\u001b[0m \u001b[43m        \u001b[49m\u001b[43mfilesystem\u001b[49m\u001b[38;5;241;43m=\u001b[39;49m\u001b[43mfilesystem\u001b[49m\u001b[43m,\u001b[49m\n\u001b[1;32m   1908\u001b[0m \u001b[43m        \u001b[49m\u001b[43mpartitioning\u001b[49m\u001b[38;5;241;43m=\u001b[39;49m\u001b[43mpartitioning\u001b[49m\u001b[43m,\u001b[49m\n\u001b[1;32m   1909\u001b[0m \u001b[43m        \u001b[49m\u001b[43mmemory_map\u001b[49m\u001b[38;5;241;43m=\u001b[39;49m\u001b[43mmemory_map\u001b[49m\u001b[43m,\u001b[49m\n\u001b[1;32m   1910\u001b[0m \u001b[43m        \u001b[49m\u001b[43mread_dictionary\u001b[49m\u001b[38;5;241;43m=\u001b[39;49m\u001b[43mread_dictionary\u001b[49m\u001b[43m,\u001b[49m\n\u001b[1;32m   1911\u001b[0m \u001b[43m        \u001b[49m\u001b[43mbuffer_size\u001b[49m\u001b[38;5;241;43m=\u001b[39;49m\u001b[43mbuffer_size\u001b[49m\u001b[43m,\u001b[49m\n\u001b[1;32m   1912\u001b[0m \u001b[43m        \u001b[49m\u001b[43mfilters\u001b[49m\u001b[38;5;241;43m=\u001b[39;49m\u001b[43mfilters\u001b[49m\u001b[43m,\u001b[49m\n\u001b[1;32m   1913\u001b[0m \u001b[43m        \u001b[49m\u001b[43mignore_prefixes\u001b[49m\u001b[38;5;241;43m=\u001b[39;49m\u001b[43mignore_prefixes\u001b[49m\u001b[43m,\u001b[49m\n\u001b[1;32m   1914\u001b[0m \u001b[43m        \u001b[49m\u001b[43mpre_buffer\u001b[49m\u001b[38;5;241;43m=\u001b[39;49m\u001b[43mpre_buffer\u001b[49m\u001b[43m,\u001b[49m\n\u001b[1;32m   1915\u001b[0m \u001b[43m        \u001b[49m\u001b[43mcoerce_int96_timestamp_unit\u001b[49m\u001b[38;5;241;43m=\u001b[39;49m\u001b[43mcoerce_int96_timestamp_unit\u001b[49m\n\u001b[1;32m   1916\u001b[0m \u001b[43m    \u001b[49m\u001b[43m)\u001b[49m\n\u001b[1;32m   1917\u001b[0m \u001b[38;5;28;01mexcept\u001b[39;00m \u001b[38;5;167;01mImportError\u001b[39;00m:\n\u001b[1;32m   1918\u001b[0m     \u001b[38;5;66;03m# fall back on ParquetFile for simple cases when pyarrow.dataset\u001b[39;00m\n\u001b[1;32m   1919\u001b[0m     \u001b[38;5;66;03m# module is not available\u001b[39;00m\n\u001b[1;32m   1920\u001b[0m     \u001b[38;5;28;01mif\u001b[39;00m filters \u001b[38;5;129;01mis\u001b[39;00m \u001b[38;5;129;01mnot\u001b[39;00m \u001b[38;5;28;01mNone\u001b[39;00m:\n",
      "File \u001b[0;32m/opt/conda/lib/python3.9/site-packages/pyarrow/parquet.py:1726\u001b[0m, in \u001b[0;36m_ParquetDatasetV2.__init__\u001b[0;34m(self, path_or_paths, filesystem, filters, partitioning, read_dictionary, buffer_size, memory_map, ignore_prefixes, pre_buffer, coerce_int96_timestamp_unit, **kwargs)\u001b[0m\n\u001b[1;32m   1722\u001b[0m \u001b[38;5;28;01mif\u001b[39;00m partitioning \u001b[38;5;241m==\u001b[39m \u001b[38;5;124m\"\u001b[39m\u001b[38;5;124mhive\u001b[39m\u001b[38;5;124m\"\u001b[39m:\n\u001b[1;32m   1723\u001b[0m     partitioning \u001b[38;5;241m=\u001b[39m ds\u001b[38;5;241m.\u001b[39mHivePartitioning\u001b[38;5;241m.\u001b[39mdiscover(\n\u001b[1;32m   1724\u001b[0m         infer_dictionary\u001b[38;5;241m=\u001b[39m\u001b[38;5;28;01mTrue\u001b[39;00m)\n\u001b[0;32m-> 1726\u001b[0m \u001b[38;5;28mself\u001b[39m\u001b[38;5;241m.\u001b[39m_dataset \u001b[38;5;241m=\u001b[39m \u001b[43mds\u001b[49m\u001b[38;5;241;43m.\u001b[39;49m\u001b[43mdataset\u001b[49m\u001b[43m(\u001b[49m\u001b[43mpath_or_paths\u001b[49m\u001b[43m,\u001b[49m\u001b[43m \u001b[49m\u001b[43mfilesystem\u001b[49m\u001b[38;5;241;43m=\u001b[39;49m\u001b[43mfilesystem\u001b[49m\u001b[43m,\u001b[49m\n\u001b[1;32m   1727\u001b[0m \u001b[43m                           \u001b[49m\u001b[38;5;28;43mformat\u001b[39;49m\u001b[38;5;241;43m=\u001b[39;49m\u001b[43mparquet_format\u001b[49m\u001b[43m,\u001b[49m\n\u001b[1;32m   1728\u001b[0m \u001b[43m                           \u001b[49m\u001b[43mpartitioning\u001b[49m\u001b[38;5;241;43m=\u001b[39;49m\u001b[43mpartitioning\u001b[49m\u001b[43m,\u001b[49m\n\u001b[1;32m   1729\u001b[0m \u001b[43m                           \u001b[49m\u001b[43mignore_prefixes\u001b[49m\u001b[38;5;241;43m=\u001b[39;49m\u001b[43mignore_prefixes\u001b[49m\u001b[43m)\u001b[49m\n",
      "File \u001b[0;32m/opt/conda/lib/python3.9/site-packages/pyarrow/dataset.py:680\u001b[0m, in \u001b[0;36mdataset\u001b[0;34m(source, schema, format, filesystem, partitioning, partition_base_dir, exclude_invalid_files, ignore_prefixes)\u001b[0m\n\u001b[1;32m    669\u001b[0m kwargs \u001b[38;5;241m=\u001b[39m \u001b[38;5;28mdict\u001b[39m(\n\u001b[1;32m    670\u001b[0m     schema\u001b[38;5;241m=\u001b[39mschema,\n\u001b[1;32m    671\u001b[0m     filesystem\u001b[38;5;241m=\u001b[39mfilesystem,\n\u001b[0;32m   (...)\u001b[0m\n\u001b[1;32m    676\u001b[0m     selector_ignore_prefixes\u001b[38;5;241m=\u001b[39mignore_prefixes\n\u001b[1;32m    677\u001b[0m )\n\u001b[1;32m    679\u001b[0m \u001b[38;5;28;01mif\u001b[39;00m _is_path_like(source):\n\u001b[0;32m--> 680\u001b[0m     \u001b[38;5;28;01mreturn\u001b[39;00m \u001b[43m_filesystem_dataset\u001b[49m\u001b[43m(\u001b[49m\u001b[43msource\u001b[49m\u001b[43m,\u001b[49m\u001b[43m \u001b[49m\u001b[38;5;241;43m*\u001b[39;49m\u001b[38;5;241;43m*\u001b[39;49m\u001b[43mkwargs\u001b[49m\u001b[43m)\u001b[49m\n\u001b[1;32m    681\u001b[0m \u001b[38;5;28;01melif\u001b[39;00m \u001b[38;5;28misinstance\u001b[39m(source, (\u001b[38;5;28mtuple\u001b[39m, \u001b[38;5;28mlist\u001b[39m)):\n\u001b[1;32m    682\u001b[0m     \u001b[38;5;28;01mif\u001b[39;00m \u001b[38;5;28mall\u001b[39m(_is_path_like(elem) \u001b[38;5;28;01mfor\u001b[39;00m elem \u001b[38;5;129;01min\u001b[39;00m source):\n",
      "File \u001b[0;32m/opt/conda/lib/python3.9/site-packages/pyarrow/dataset.py:425\u001b[0m, in \u001b[0;36m_filesystem_dataset\u001b[0;34m(source, schema, filesystem, partitioning, format, partition_base_dir, exclude_invalid_files, selector_ignore_prefixes)\u001b[0m\n\u001b[1;32m    423\u001b[0m     fs, paths_or_selector \u001b[38;5;241m=\u001b[39m _ensure_multiple_sources(source, filesystem)\n\u001b[1;32m    424\u001b[0m \u001b[38;5;28;01melse\u001b[39;00m:\n\u001b[0;32m--> 425\u001b[0m     fs, paths_or_selector \u001b[38;5;241m=\u001b[39m \u001b[43m_ensure_single_source\u001b[49m\u001b[43m(\u001b[49m\u001b[43msource\u001b[49m\u001b[43m,\u001b[49m\u001b[43m \u001b[49m\u001b[43mfilesystem\u001b[49m\u001b[43m)\u001b[49m\n\u001b[1;32m    427\u001b[0m options \u001b[38;5;241m=\u001b[39m FileSystemFactoryOptions(\n\u001b[1;32m    428\u001b[0m     partitioning\u001b[38;5;241m=\u001b[39mpartitioning,\n\u001b[1;32m    429\u001b[0m     partition_base_dir\u001b[38;5;241m=\u001b[39mpartition_base_dir,\n\u001b[1;32m    430\u001b[0m     exclude_invalid_files\u001b[38;5;241m=\u001b[39mexclude_invalid_files,\n\u001b[1;32m    431\u001b[0m     selector_ignore_prefixes\u001b[38;5;241m=\u001b[39mselector_ignore_prefixes\n\u001b[1;32m    432\u001b[0m )\n\u001b[1;32m    433\u001b[0m factory \u001b[38;5;241m=\u001b[39m FileSystemDatasetFactory(fs, paths_or_selector, \u001b[38;5;28mformat\u001b[39m, options)\n",
      "File \u001b[0;32m/opt/conda/lib/python3.9/site-packages/pyarrow/dataset.py:401\u001b[0m, in \u001b[0;36m_ensure_single_source\u001b[0;34m(path, filesystem)\u001b[0m\n\u001b[1;32m    399\u001b[0m     paths_or_selector \u001b[38;5;241m=\u001b[39m [path]\n\u001b[1;32m    400\u001b[0m \u001b[38;5;28;01melse\u001b[39;00m:\n\u001b[0;32m--> 401\u001b[0m     \u001b[38;5;28;01mraise\u001b[39;00m \u001b[38;5;167;01mFileNotFoundError\u001b[39;00m(path)\n\u001b[1;32m    403\u001b[0m \u001b[38;5;28;01mreturn\u001b[39;00m filesystem, paths_or_selector\n",
      "\u001b[0;31mFileNotFoundError\u001b[0m: calitp-analytics-data/data-analyses/high_quality_transit_areas/bus_corridors/all_bus.parquet"
     ]
    }
   ],
   "source": [
    "all_operators = gpd.GeoDataFrame()\n",
    "for operator_file in fs_list:\n",
    "    if len(operator_file.split('.')) > 1 and operator_file.split('.')[1] == 'parquet':\n",
    "        print(operator_file)\n",
    "        all_operators = pd.concat((all_operators,\n",
    "                                  gpd.read_parquet('gs://' + operator_file)))"
   ]
  },
  {
   "cell_type": "code",
   "execution_count": 35,
   "id": "7a65fd4f-e6fb-4c75-aba8-06ac291a3da5",
   "metadata": {
    "tags": []
   },
   "outputs": [],
   "source": [
    "# all_operators = multiple_operator_hqta() ## oh this doesn't actually include all if some already ran"
   ]
  },
  {
   "cell_type": "code",
   "execution_count": 36,
   "id": "edeeb497-9d52-4831-a479-13549ac3f921",
   "metadata": {},
   "outputs": [],
   "source": [
    "##TODO grab+concat all files..."
   ]
  },
  {
   "cell_type": "code",
   "execution_count": 21,
   "id": "00be44e4-d777-437a-b6d9-dc9ed50fa774",
   "metadata": {},
   "outputs": [],
   "source": [
    "# shared_utils.utils.geoparquet_gcs_export(all_operators, f'{GCS_FILE_PATH}bus_corridors/', f'all_bus')"
   ]
  },
  {
   "cell_type": "markdown",
   "id": "660a4cca-0462-4cef-8812-c46f6a5eea2a",
   "metadata": {},
   "source": [
    "## Data Cleaning"
   ]
  },
  {
   "cell_type": "code",
   "execution_count": 59,
   "id": "dd0aada1-9341-4837-978b-0e4c01bec26a",
   "metadata": {},
   "outputs": [],
   "source": [
    "short_dropped = all_operators[all_operators['geometry'].area > 50*400] ##50m width * 400m segment min"
   ]
  },
  {
   "cell_type": "code",
   "execution_count": 60,
   "id": "007242a3-d4d2-4acd-8bff-169fc513ad2b",
   "metadata": {},
   "outputs": [],
   "source": [
    "short_dropped = short_dropped.reset_index().drop(columns=['index'])"
   ]
  },
  {
   "cell_type": "code",
   "execution_count": 61,
   "id": "baaa3b22-d2dd-4afb-a081-e666a0037e8e",
   "metadata": {},
   "outputs": [],
   "source": [
    "dissolved = short_dropped.dissolve(by=['hq_transit_corr', 'shape_id']).reset_index()"
   ]
  },
  {
   "cell_type": "code",
   "execution_count": 62,
   "id": "090dd0b2-4de3-47b0-abed-9d16356bbf2c",
   "metadata": {},
   "outputs": [],
   "source": [
    "dissolved = dissolved[dissolved['geometry'].area > 50*3000] ##50m width * 3000m shape min\n",
    "## TODO smarter dropping, parse multilinestring (ex. Samtrans coastside)\n",
    "## a pre-screening step? frequency by stop, then exclude shapes..."
   ]
  },
  {
   "cell_type": "code",
   "execution_count": 63,
   "id": "ca18f616-9719-458d-beb6-e3aa7492fd32",
   "metadata": {},
   "outputs": [],
   "source": [
    "# dissolved = gpd.read_parquet(f'{GCS_FILE_PATH}shape_hqta_dissolve.parquet') ##old"
   ]
  },
  {
   "cell_type": "code",
   "execution_count": 64,
   "id": "b340161b-cd68-4cef-90ba-7f9f83fe30b0",
   "metadata": {},
   "outputs": [],
   "source": [
    "# map_hqta(dissolved)"
   ]
  },
  {
   "cell_type": "code",
   "execution_count": 65,
   "id": "d381d6a7-abe0-499b-9716-7ec94510cac5",
   "metadata": {},
   "outputs": [
    {
     "name": "stderr",
     "output_type": "stream",
     "text": [
      "/home/jovyan/data-analyses/_shared_utils/shared_utils/utils.py:38: UserWarning: this is an initial implementation of Parquet/Feather file support and associated metadata.  This is tracking version 0.1.0 of the metadata specification at https://github.com/geopandas/geo-arrow-spec\n",
      "\n",
      "This metadata specification does not yet make stability promises.  We do not yet recommend using this in a production setting unless you are able to rewrite your Parquet/Feather files.\n",
      "\n",
      "To further ignore this warning, you can do: \n",
      "import warnings; warnings.filterwarnings('ignore', message='.*initial implementation of Parquet.*')\n"
     ]
    }
   ],
   "source": [
    "# shared_utils.utils.geoparquet_gcs_export(dissolved, f'{GCS_FILE_PATH}intermediate/', f'shape_dissolve')"
   ]
  },
  {
   "cell_type": "code",
   "execution_count": 2,
   "id": "d8d6b219-0502-4de8-bcd6-21552cdf3f37",
   "metadata": {},
   "outputs": [],
   "source": [
    "dissolved = gpd.read_parquet(f'{GCS_FILE_PATH}intermediate/shape_dissolve.parquet')"
   ]
  },
  {
   "cell_type": "markdown",
   "id": "1ce92081-2e3e-4cf6-a679-cdd8f216a3e2",
   "metadata": {
    "tags": []
   },
   "source": [
    "### Bay Area Map Image\n",
    "\n",
    "![map](img/bay.png)"
   ]
  },
  {
   "cell_type": "markdown",
   "id": "8a8a7aa9-049a-4c06-9e0a-1f646e9a2cc6",
   "metadata": {
    "tags": []
   },
   "source": [
    "### Los Angeles Map Image\n",
    "\n",
    "![map](img/la.png)"
   ]
  },
  {
   "cell_type": "markdown",
   "id": "77f44db1-ec48-4333-b972-64e5671088b5",
   "metadata": {},
   "source": [
    "## Result\n",
    "\n",
    "* Ran and aggregated for nearly all bus operators statewide\n",
    "    * Segments not containing stops will not appear as HQTA-- may need to interpolate (e.g., freeway segments)\n",
    "    * Some questionable short segments\n",
    "* Algorithm may be overestimating for SFMTA"
   ]
  },
  {
   "cell_type": "markdown",
   "id": "5b1a455a-03a0-44eb-9862-d0e780dc3c01",
   "metadata": {},
   "source": [
    "### Data Issues\n",
    "\n",
    "* 61 County Connection has a lot of na departure times?\n",
    "    * strange results after dropna\n",
    "* 48 B-Line similarly choppy\n",
    "* 116 Fresno Area Express has whitespace in departure times\n",
    "    * ValueError: time data ' 7:04:00' does not match format '%H:%M:%S'\n",
    "\n"
   ]
  }
 ],
 "metadata": {
  "kernelspec": {
   "display_name": "Python 3 (ipykernel)",
   "language": "python",
   "name": "python3"
  },
  "language_info": {
   "codemirror_mode": {
    "name": "ipython",
    "version": 3
   },
   "file_extension": ".py",
   "mimetype": "text/x-python",
   "name": "python",
   "nbconvert_exporter": "python",
   "pygments_lexer": "ipython3",
   "version": "3.9.12"
  }
 },
 "nbformat": 4,
 "nbformat_minor": 5
}
