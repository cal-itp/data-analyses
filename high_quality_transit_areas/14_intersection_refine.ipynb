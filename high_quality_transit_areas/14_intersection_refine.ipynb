{
 "cells": [
  {
   "cell_type": "code",
   "execution_count": 1,
   "id": "859f6203-1b64-48ca-9054-b73c4e907d71",
   "metadata": {},
   "outputs": [],
   "source": [
    "import os\n",
    "os.environ[\"CALITP_BQ_MAX_BYTES\"] = str(1_000_000_000_000) ## 1TB?"
   ]
  },
  {
   "cell_type": "code",
   "execution_count": 2,
   "id": "fb9265e6-9510-443b-bd91-a7a7ea5dd022",
   "metadata": {},
   "outputs": [],
   "source": [
    "import geopandas as gpd\n",
    "import pandas as pd\n",
    "from siuba import *\n",
    "import numpy as np\n",
    "\n",
    "from segment_speed_utils import helpers, gtfs_schedule_wrangling\n",
    "from shared_utils import rt_utils\n",
    "\n",
    "import sys\n",
    "sys.path.append('./scripts/')\n",
    "\n",
    "from calitp_data_analysis import geography_utils"
   ]
  },
  {
   "cell_type": "code",
   "execution_count": 3,
   "id": "a89ad0f5-ef8b-4039-87e9-553508b41b16",
   "metadata": {},
   "outputs": [],
   "source": [
    "from update_vars import (analysis_date, EXPORT_PATH, GCS_FILE_PATH, PROJECT_CRS,\n",
    "SEGMENT_BUFFER_METERS, HQ_TRANSIT_THRESHOLD, MS_TRANSIT_THRESHOLD, SHARED_STOP_THRESHOLD,\n",
    "                        HALF_MILE_BUFFER_METERS, INTERSECTION_BUFFER_METERS)"
   ]
  },
  {
   "cell_type": "code",
   "execution_count": 4,
   "id": "1a95b142-2934-4bdd-88bf-e8a020a9cf99",
   "metadata": {
    "tags": []
   },
   "outputs": [],
   "source": [
    "import prep_pairwise_intersections"
   ]
  },
  {
   "cell_type": "code",
   "execution_count": 5,
   "id": "4d401895-bb2a-45c9-a9d4-9ee97ae4d183",
   "metadata": {
    "tags": []
   },
   "outputs": [],
   "source": [
    "# !pip install calitp-data-analysis==2025.6.24\n",
    "from calitp_data_analysis.gcs_geopandas import GCSGeoPandas\n",
    "gcsgp = GCSGeoPandas()"
   ]
  },
  {
   "cell_type": "code",
   "execution_count": 6,
   "id": "fad2ef2f-6fe9-4de1-a95e-0fa2af28e496",
   "metadata": {
    "tags": []
   },
   "outputs": [],
   "source": [
    "import pyproj\n",
    "geodesic = pyproj.Geod(ellps=\"WGS84\")"
   ]
  },
  {
   "cell_type": "markdown",
   "id": "6473a929-58ad-46e7-ba4d-8a6913d0be3b",
   "metadata": {
    "tags": []
   },
   "source": [
    "## Refine intersections with azimuth"
   ]
  },
  {
   "cell_type": "code",
   "execution_count": 7,
   "id": "3573220d-b788-4a54-8206-83ec48e932f2",
   "metadata": {
    "tags": []
   },
   "outputs": [],
   "source": [
    "# corridors = prep_pairwise_intersections.prep_bus_corridors(is_ms_precursor=True)"
   ]
  },
  {
   "cell_type": "code",
   "execution_count": null,
   "id": "e2b2244d-f2e6-4574-885d-0499f2c03a30",
   "metadata": {
    "tags": []
   },
   "outputs": [],
   "source": [
    "# corridors.columns"
   ]
  },
  {
   "cell_type": "code",
   "execution_count": null,
   "id": "2ba6329a-c78f-462c-9672-4fb38db6f37f",
   "metadata": {
    "tags": []
   },
   "outputs": [],
   "source": [
    "# segments = gcsgp.read_parquet(f'{GCS_FILE_PATH}hqta_segments.parquet')"
   ]
  },
  {
   "cell_type": "code",
   "execution_count": null,
   "id": "2be43275-d69a-4fc8-ba13-827cda07f204",
   "metadata": {
    "tags": []
   },
   "outputs": [],
   "source": [
    "# rail = gcsgp.read_parquet(f'{GCS_FILE_PATH}rail_brt_ferry.parquet')"
   ]
  },
  {
   "cell_type": "code",
   "execution_count": null,
   "id": "033fad84-2240-424a-8163-66546c9fd161",
   "metadata": {
    "tags": []
   },
   "outputs": [],
   "source": [
    "# segments = rt_utils.add_origin_destination(segments.to_crs(geography_utils.WGS84))"
   ]
  },
  {
   "cell_type": "code",
   "execution_count": null,
   "id": "644e32a7-f15e-4e25-9cbf-db40b72f76ad",
   "metadata": {
    "tags": []
   },
   "outputs": [],
   "source": [
    "def add_azimuth(row: pd.Series, geodesic: pyproj.Geod) -> pd.Series:\n",
    "    '''\n",
    "    Given a row of a GeoDataFrame with origin and destination points in WGS84,\n",
    "    find forward and back azimuth. \n",
    "    pyproj method returns signed azimuth -180(south) - -90(west) - 0(north) - +90(east) - +180(south),\n",
    "    convert this to degrees 0-360 and keep the higher one to enable consistent comparison later\n",
    "    '''\n",
    "    # print(geodesic)\n",
    "    long1, lat1 = row.origin.coords[0]\n",
    "    long2, lat2 = row.destination.coords[0]\n",
    "    assert all([abs(x) <= 180 for x in [long1, lat1, long2, lat2]]), 'CRS must be WGS84'\n",
    "    fwd_azimuth, back_azimuth, _distance = geodesic.inv(long1, lat1, long2, lat2, return_back_azimuth=True)\n",
    "    # signed_azimuth_to_360_deg = lambda x: 360 + x if x <= 0 else x\n",
    "    # fwd_azimuth = signed_azimuth_to_360_deg(fwd_azimuth)\n",
    "    # back_azimuth = signed_azimuth_to_360_deg(back_azimuth)\n",
    "    max_azimuth = max(fwd_azimuth, back_azimuth)\n",
    "    row['fwd_azimuth'] = fwd_azimuth\n",
    "    row['back_azimuth'] = back_azimuth\n",
    "    row['max_azimuth'] = max_azimuth\n",
    "    return row"
   ]
  },
  {
   "cell_type": "code",
   "execution_count": null,
   "id": "894a3945-3277-4574-9469-9c3096a87136",
   "metadata": {
    "tags": []
   },
   "outputs": [],
   "source": [
    "# with_azi = segments.apply(add_azimuth, axis=1, geodesic=geodesic) #  added to segments script"
   ]
  },
  {
   "cell_type": "code",
   "execution_count": null,
   "id": "bd2c8685-c824-4d8b-a66d-f894bf7ae55b",
   "metadata": {
    "tags": []
   },
   "outputs": [],
   "source": [
    "signed_azimuth_to_360_deg = lambda x: 360 + x if x < 0 else x"
   ]
  },
  {
   "cell_type": "code",
   "execution_count": null,
   "id": "0b9d2096-1add-4532-a511-9cfb9f48232c",
   "metadata": {
    "tags": []
   },
   "outputs": [],
   "source": [
    "signed_azimuth_to_360_deg(-179)"
   ]
  },
  {
   "cell_type": "code",
   "execution_count": null,
   "id": "220fa885-b9dc-4f31-afc2-d351f584c12f",
   "metadata": {
    "tags": []
   },
   "outputs": [],
   "source": [
    "signed_azimuth_to_360_deg(179)"
   ]
  },
  {
   "cell_type": "code",
   "execution_count": null,
   "id": "3cceed2a-92da-4a13-ba3a-bcc5f884c3fe",
   "metadata": {
    "tags": []
   },
   "outputs": [],
   "source": [
    "corridors.head(3)"
   ]
  },
  {
   "cell_type": "code",
   "execution_count": null,
   "id": "7d1e7649-1410-4fa1-ab96-0a871ad6321e",
   "metadata": {
    "tags": []
   },
   "outputs": [],
   "source": [
    "import altair as alt\n",
    "# alt.data_transformers.enable(\"vegafusion\")\n",
    "data = corridors[['fwd_azimuth_360', 'segment_direction']].sample(4999) #  sample to avoid needing vegafusion for this visual\n",
    "alt.Chart(data, title = 'HQTA Segment Directions and Azimuth').mark_bar().encode(\n",
    "    # x=alt.X('azimuth'),\n",
    "    x=alt.X('fwd_azimuth_360', bin=alt.Bin(step=5)),\n",
    "    y='count()',\n",
    "    color='segment_direction'\n",
    ")"
   ]
  },
  {
   "cell_type": "code",
   "execution_count": null,
   "id": "1903f2c6-7edc-4f18-b857-bfd1f59e979b",
   "metadata": {
    "tags": []
   },
   "outputs": [],
   "source": [
    "# corridors.explore(column='fwd_azimuth_360')"
   ]
  },
  {
   "cell_type": "code",
   "execution_count": null,
   "id": "a3a950c2-db0c-4dff-b66a-f25ffcc2ba30",
   "metadata": {
    "tags": []
   },
   "outputs": [],
   "source": [
    "back_azi = lambda x: x - 180 if x >= 180 else x + 180\n",
    "\n",
    "def azimuth_360_compare(azi1, azi2) -> float:\n",
    "    '''\n",
    "    compare two 360-degree azimuths\n",
    "    '''\n",
    "    if azi1 >= azi2:\n",
    "        return azi1 - azi2\n",
    "    else:\n",
    "        return azi2 - azi1\n",
    "\n",
    "def find_intersections_azimuth(azi1, azi2, threshold_degrees = 45) -> bool:\n",
    "    '''\n",
    "    With two 360-degree azimuths, compare all combininations of forward\n",
    "    and back azimuths to see if all are more than a specified degree threshold apart.\n",
    "    \n",
    "    find_intersections_azimuth(360, 45) should return True\n",
    "    find_intersections_azimuth(40, 80) should return False\n",
    "    '''\n",
    "    back_azi_2 = back_azi(azi2)\n",
    "    back_azi_1 = back_azi(azi1)\n",
    "    to_compare = [(azi1, azi2), (azi1, back_azi_2), (back_azi_1, azi2), (back_azi_1, back_azi_2)]\n",
    "    compare_all = [azimuth_360_compare(x, y) for x, y in to_compare]\n",
    "    # print(compare_all)\n",
    "    return not(any([x < threshold_degrees for x in compare_all]))"
   ]
  },
  {
   "cell_type": "code",
   "execution_count": null,
   "id": "65a18e9f-ec68-431d-97ad-daf47dca968b",
   "metadata": {
    "tags": []
   },
   "outputs": [],
   "source": [
    "find_intersections_azimuth(179, 358)"
   ]
  },
  {
   "cell_type": "code",
   "execution_count": null,
   "id": "8d9569e8-e849-4969-8e61-560e681c83f9",
   "metadata": {
    "tags": []
   },
   "outputs": [],
   "source": [
    "find_intersections_azimuth(360, 45)"
   ]
  },
  {
   "cell_type": "code",
   "execution_count": null,
   "id": "2a5c3261-dbd6-4e40-836d-c36f6f07422c",
   "metadata": {
    "tags": []
   },
   "outputs": [],
   "source": [
    "find_intersections_azimuth(10, 350)"
   ]
  },
  {
   "cell_type": "code",
   "execution_count": null,
   "id": "b653cec9-5053-4b7f-8477-e2015d86f3ab",
   "metadata": {
    "tags": []
   },
   "outputs": [],
   "source": [
    "find_intersections_azimuth(350, 0)"
   ]
  },
  {
   "cell_type": "code",
   "execution_count": null,
   "id": "1c83f9f4-eaa6-499a-adc7-97252916faad",
   "metadata": {
    "tags": []
   },
   "outputs": [],
   "source": [
    "find_intersections_azimuth(60, 100)"
   ]
  },
  {
   "cell_type": "code",
   "execution_count": null,
   "id": "a0f49464-a6c1-4d33-98a8-196368d852b4",
   "metadata": {
    "tags": []
   },
   "outputs": [],
   "source": [
    "find_intersections_azimuth(39, 12)"
   ]
  },
  {
   "cell_type": "code",
   "execution_count": null,
   "id": "a185f83e-4636-4889-95da-5bc80b920e56",
   "metadata": {
    "tags": []
   },
   "outputs": [],
   "source": [
    "find_intersections_azimuth(45, 359)"
   ]
  },
  {
   "cell_type": "markdown",
   "id": "2e8ceff9-6118-4886-ac1d-595df885cf31",
   "metadata": {
    "jp-MarkdownHeadingCollapsed": true,
    "tags": []
   },
   "source": [
    "## test new corridors function"
   ]
  },
  {
   "cell_type": "code",
   "execution_count": null,
   "id": "3c91bcec-a5b3-4ff5-91d3-4194337add60",
   "metadata": {
    "tags": []
   },
   "outputs": [],
   "source": [
    "def sjoin_against_other_operators(\n",
    "    in_group_df: gpd.GeoDataFrame, \n",
    "    out_group_df: gpd.GeoDataFrame\n",
    ") -> pd.DataFrame: \n",
    "    \"\"\"\n",
    "    Spatial join of the in group vs the out group. \n",
    "    This could be the operator vs other operators, \n",
    "    or a route vs other routes. This is currently\n",
    "    east-west vs north-south segments, which requires\n",
    "    the additional step of excluding intersections\n",
    "    resulting from the same route changing direction.\n",
    "    \n",
    "    Create a crosswalk / pairwise table showing these links.\n",
    "    \n",
    "    Compile all of them, because finding intersections is \n",
    "    computationally expensive,\n",
    "    so we want to do it on fewer rows. \n",
    "    \"\"\"\n",
    "    route_cols = [\"hqta_segment_id\", \"segment_direction\", \"route_key\", \"fwd_azimuth_360\"]\n",
    "    \n",
    "    s1 = gpd.sjoin(\n",
    "        in_group_df[route_cols + [\"geometry\"]], \n",
    "        out_group_df[route_cols  + [\"geometry\"]],\n",
    "        how = \"inner\",\n",
    "        predicate = \"intersects\"\n",
    "    ).drop(columns = [\"index_right\", \"geometry\"])\n",
    "                \n",
    "    route_pairs = (\n",
    "        s1.rename(\n",
    "            columns = {\n",
    "                \"hqta_segment_id_left\": \"hqta_segment_id\",\n",
    "                \"hqta_segment_id_right\": \"intersect_hqta_segment_id\",\n",
    "                \"fwd_azimuth_360_left\": \"fwd_azimuth_360\",\n",
    "                \"fwd_azimuth_360_right\": \"intersect_fwd_azimuth_360\"\n",
    "            })\n",
    "          [[\"hqta_segment_id\", \"intersect_hqta_segment_id\", \"fwd_azimuth_360\", \"intersect_fwd_azimuth_360\"]]\n",
    "          .drop_duplicates()\n",
    "          .reset_index(drop=True)\n",
    "    )\n",
    "    route_pairs = route_pairs.assign(intersect = route_pairs.apply(\n",
    "        lambda x: find_intersections_azimuth(x.fwd_azimuth_360, x.intersect_fwd_azimuth_360), axis=1)\n",
    "        )\n",
    "    # print(route_pairs.empty)\n",
    "    return route_pairs.query('intersect')"
   ]
  },
  {
   "cell_type": "code",
   "execution_count": null,
   "id": "323d760b-428a-4be8-baf5-88ae0105bdae",
   "metadata": {
    "tags": []
   },
   "outputs": [],
   "source": [
    "find_intersections_azimuth(59, 21)"
   ]
  },
  {
   "cell_type": "code",
   "execution_count": null,
   "id": "235ed4cb-9b36-4342-bc44-a087186aaab6",
   "metadata": {
    "tags": []
   },
   "outputs": [],
   "source": [
    "test_ecr = sjoin_against_other_operators(corridors.query('route_id == \"Rapid 522\"'), corridors.query('route_id != \"Rapid 522\"'))"
   ]
  },
  {
   "cell_type": "code",
   "execution_count": null,
   "id": "84afc532-6352-4b5b-a5c0-8adc3df31848",
   "metadata": {
    "tags": []
   },
   "outputs": [],
   "source": [
    "def pairwise_intersections(\n",
    "    corridors_gdf: gpd.GeoDataFrame\n",
    ") -> gpd.GeoDataFrame:\n",
    "    \"\"\"\n",
    "    Do pairwise comparisons of hqta segments.\n",
    "    Take all the north-south segments and compare to east-west\n",
    "    and vice versa.\n",
    "    \"\"\"\n",
    "    # Intersect each route with all others\n",
    "    corridors_gdf = corridors_gdf[corridors_gdf['segment_direction'] != 'inconclusive']\n",
    "    results = [\n",
    "        sjoin_against_other_operators(corridors.query('route_key == @route_key'),\n",
    "                                      corridors.query('route_key != @route_key'))\n",
    "        for route_key in corridors_gdf.route_key.unique()\n",
    "    ]\n",
    "    \n",
    "    pairs = pd.concat(results, axis=0, ignore_index=True)\n",
    "    \n",
    "    segments_p1 = pairs.hqta_segment_id.unique()\n",
    "    segments_p2 = pairs.intersect_hqta_segment_id.unique()\n",
    "    \n",
    "    # Subset the hqta segments that do have hq_transit_corr == True \n",
    "    # down to the ones where routes have with sjoin intersections\n",
    "    corridors2 = (\n",
    "        corridors_gdf[\n",
    "            (corridors_gdf.hqta_segment_id.isin(segments_p1)) | \n",
    "            (corridors_gdf.hqta_segment_id.isin(segments_p2))]\n",
    "        .drop_duplicates()\n",
    "        .sort_values(\n",
    "            [\"schedule_gtfs_dataset_key\", \"route_id\", \"hqta_segment_id\"], \n",
    "            ascending = [True, True, True])\n",
    "        .reset_index(drop=True)\n",
    "    )\n",
    "    \n",
    "    return pairs, corridors2"
   ]
  },
  {
   "cell_type": "code",
   "execution_count": null,
   "id": "ef7977ac-4fc5-4876-807a-eb8f64c55edf",
   "metadata": {
    "tags": []
   },
   "outputs": [],
   "source": [
    "pairs, corridors2 = pairwise_intersections(corridors)"
   ]
  },
  {
   "cell_type": "code",
   "execution_count": null,
   "id": "e77377d2-c6ec-496b-8e1a-8429326eef9a",
   "metadata": {
    "tags": []
   },
   "outputs": [],
   "source": [
    "import get_intersections"
   ]
  },
  {
   "cell_type": "code",
   "execution_count": null,
   "id": "e9c0207a-8217-4cfd-8324-d03deca48fe9",
   "metadata": {
    "tags": []
   },
   "outputs": [],
   "source": [
    "pairs_table = get_intersections.attach_geometry_to_pairs(corridors2, pairs)"
   ]
  },
  {
   "cell_type": "code",
   "execution_count": null,
   "id": "4328ba6c-a73f-4f86-84d2-5d0ae1cdaaef",
   "metadata": {
    "tags": []
   },
   "outputs": [],
   "source": [
    "results = get_intersections.find_intersections(pairs_table)"
   ]
  },
  {
   "cell_type": "code",
   "execution_count": null,
   "id": "229fe6ae-7360-4d4d-b9a9-a1038c7ce89c",
   "metadata": {
    "tags": []
   },
   "outputs": [],
   "source": [
    "results"
   ]
  },
  {
   "cell_type": "markdown",
   "id": "f28681cc-332f-4c2a-be6e-25f885d3bbbd",
   "metadata": {},
   "source": [
    "### create_bus_hqta_types"
   ]
  },
  {
   "cell_type": "code",
   "execution_count": null,
   "id": "116347fc-e2bf-4866-bf1b-d31bf3cab806",
   "metadata": {
    "tags": []
   },
   "outputs": [],
   "source": [
    "import create_bus_hqta_types"
   ]
  },
  {
   "cell_type": "code",
   "execution_count": null,
   "id": "08db7a26-b806-4f4a-9270-43206bda04b5",
   "metadata": {
    "tags": []
   },
   "outputs": [],
   "source": [
    "def buffer_around_intersections(gdf, buffer_size: int) -> gpd.GeoDataFrame: \n",
    "    \"\"\"\n",
    "    Draw 500 ft buffers around intersections to better catch stops\n",
    "    that might fall within it.\n",
    "    \"\"\"\n",
    "#     gdf = gpd.read_parquet(\n",
    "#         f\"{GCS_FILE_PATH}all_intersections.parquet\",\n",
    "#         storage_options={\"token\": credentials.token}\n",
    "#     )\n",
    "    \n",
    "    gdf = gdf.assign(\n",
    "        geometry = gdf.geometry.buffer(buffer_size)\n",
    "    )\n",
    "\n",
    "    return gdf "
   ]
  },
  {
   "cell_type": "code",
   "execution_count": null,
   "id": "e0cb2f8a-e475-4915-b551-e86b7ac9af75",
   "metadata": {
    "tags": []
   },
   "outputs": [],
   "source": [
    "bus_intersections = buffer_around_intersections(results, INTERSECTION_BUFFER_METERS)"
   ]
  },
  {
   "cell_type": "code",
   "execution_count": null,
   "id": "a04b1640-9c28-48b4-b6b1-95006daf391b",
   "metadata": {
    "tags": []
   },
   "outputs": [],
   "source": [
    "# Grab point geom with all stops\n",
    "trips_cols = [\"feed_key\", \"gtfs_dataset_key\"]\n",
    "gtfs_keys = helpers.import_scheduled_trips(\n",
    "    analysis_date,\n",
    "    columns = trips_cols,\n",
    "    get_pandas=True\n",
    ")\n",
    "published_operators_dict = lookback_wrappers.read_published_operators(analysis_date)\n",
    "print(published_operators_dict)\n",
    "lookback_trips = lookback_wrappers.get_lookback_trips(published_operators_dict, trips_cols + ['name'])\n",
    "lookback_trips_ix = lookback_wrappers.lookback_trips_ix(lookback_trips)\n",
    "gtfs_keys = pd.concat([gtfs_keys, lookback_trips.drop(columns=['name'])])\n",
    "\n",
    "stops_cols = [\"feed_key\", \"stop_id\", \"geometry\"]\n",
    "all_stops = helpers.import_scheduled_stops(\n",
    "    analysis_date,\n",
    "    get_pandas = True,\n",
    "    columns = stops_cols,\n",
    "    crs = PROJECT_CRS\n",
    ")\n",
    "lookback_stops = lookback_wrappers.get_lookback_stops(published_operators_dict, lookback_trips_ix, stops_cols,\n",
    "                                                     crs=PROJECT_CRS)\n",
    "all_stops = pd.concat([all_stops, lookback_stops])\n",
    "\n",
    "all_stops = all_stops.merge(\n",
    "    gtfs_keys,\n",
    "    on = \"feed_key\",\n",
    ").drop(columns = \"feed_key\")"
   ]
  },
  {
   "cell_type": "code",
   "execution_count": null,
   "id": "e95a0613-decf-4e06-a13e-dbc07c4f7c8b",
   "metadata": {
    "tags": []
   },
   "outputs": [],
   "source": [
    "major_stop_bus_testing = create_bus_hqta_types.create_major_stop_bus(all_stops, bus_intersections)"
   ]
  },
  {
   "cell_type": "code",
   "execution_count": null,
   "id": "f1c313e1-2c70-4d14-b3cc-3cef2d7d8bd6",
   "metadata": {
    "tags": []
   },
   "outputs": [],
   "source": [
    "major_stop_bus_testing"
   ]
  },
  {
   "cell_type": "markdown",
   "id": "625cbd4e-eba9-4aad-b302-9086f472adc3",
   "metadata": {},
   "source": [
    "### current pipeline result"
   ]
  },
  {
   "cell_type": "code",
   "execution_count": null,
   "id": "8b54f28d-32f8-457f-b401-547f2a5590dd",
   "metadata": {
    "tags": []
   },
   "outputs": [],
   "source": [
    "major_stop_bus = gcsgp.read_parquet(f'{GCS_FILE_PATH}major_stop_bus.parquet')"
   ]
  },
  {
   "cell_type": "code",
   "execution_count": null,
   "id": "4fca4740-ef83-4c9d-b541-a35cccca75a7",
   "metadata": {
    "tags": []
   },
   "outputs": [],
   "source": [
    "major_stop_bus"
   ]
  },
  {
   "cell_type": "code",
   "execution_count": null,
   "id": "f2351fe0-4b25-486c-a356-c88c53bf8f5d",
   "metadata": {
    "tags": []
   },
   "outputs": [],
   "source": [
    "from shared_utils import webmap_utils"
   ]
  },
  {
   "cell_type": "code",
   "execution_count": null,
   "id": "1118f23d-9cfc-4e76-9108-434a4c638339",
   "metadata": {
    "tags": []
   },
   "outputs": [],
   "source": [
    "import branca"
   ]
  },
  {
   "cell_type": "code",
   "execution_count": null,
   "id": "233ea763-cd2b-4099-bc41-2527753d6066",
   "metadata": {
    "tags": []
   },
   "outputs": [],
   "source": [
    "cmap = branca.colormap.step.Spectral_04.scale(vmin=0, vmax=4)"
   ]
  },
  {
   "cell_type": "code",
   "execution_count": null,
   "id": "08da435e-0c77-4a72-be5a-948cc15bc948",
   "metadata": {
    "tags": []
   },
   "outputs": [],
   "source": [
    "cmap"
   ]
  },
  {
   "cell_type": "code",
   "execution_count": null,
   "id": "a59aeac7-2cc7-4e0c-91ab-7c899307552d",
   "metadata": {
    "tags": []
   },
   "outputs": [],
   "source": [
    "major_stop_bus['iteration'] = 0\n",
    "major_stop_bus_testing['iteration'] = 4"
   ]
  },
  {
   "cell_type": "code",
   "execution_count": null,
   "id": "3a5cb089-395a-4832-a475-1b0a8e2f1971",
   "metadata": {
    "tags": []
   },
   "outputs": [],
   "source": [
    "gdf = pd.concat([major_stop_bus, major_stop_bus_testing])"
   ]
  },
  {
   "cell_type": "code",
   "execution_count": null,
   "id": "a06d5c8f-4114-45ee-acba-562d3f0b88db",
   "metadata": {
    "tags": []
   },
   "outputs": [],
   "source": [
    "color_state = webmap_utils.set_state_export(gdf, filename='test_azimuth_mts_5', map_title='Azimuth for Major Transit Stops',\n",
    "                                             cmap=cmap, color_col='iteration')"
   ]
  },
  {
   "cell_type": "code",
   "execution_count": null,
   "id": "2de3b8c7-ecc7-42d8-975d-cddf5e40828b",
   "metadata": {
    "tags": []
   },
   "outputs": [],
   "source": [
    "color_state"
   ]
  },
  {
   "cell_type": "code",
   "execution_count": null,
   "id": "ddcb40d7-a9cb-4fb4-b616-8d6f3fd77205",
   "metadata": {
    "tags": []
   },
   "outputs": [],
   "source": [
    "major_stop_bus.geometry = major_stop_bus.buffer(HALF_MILE_BUFFER_METERS)\n",
    "major_stop_bus_testing.geometry = major_stop_bus_testing.buffer(HALF_MILE_BUFFER_METERS)"
   ]
  },
  {
   "cell_type": "code",
   "execution_count": null,
   "id": "cb13f6df-1de6-404c-808a-c190fe6c53c7",
   "metadata": {
    "tags": []
   },
   "outputs": [],
   "source": [
    "major_stop_bus.dissolve().geometry.area"
   ]
  },
  {
   "cell_type": "code",
   "execution_count": null,
   "id": "3c6bff5d-c493-4504-9c95-21cfc02aa08e",
   "metadata": {
    "tags": []
   },
   "outputs": [],
   "source": [
    "major_stop_bus_testing.dissolve().geometry.area"
   ]
  },
  {
   "cell_type": "code",
   "execution_count": null,
   "id": "92090b7f-a24a-498f-972b-4123c3d7660f",
   "metadata": {
    "tags": []
   },
   "outputs": [],
   "source": [
    "m = major_stop_bus.dissolve().overlay(major_stop_bus_testing.dissolve(), how='difference').explore(color='red')"
   ]
  },
  {
   "cell_type": "code",
   "execution_count": null,
   "id": "8534ff7a-c724-4930-9e58-1b2f4cdcdbc9",
   "metadata": {
    "tags": []
   },
   "outputs": [],
   "source": [
    "# major_stop_bus_testing.dissolve().overlay(major_stop_bus.dissolve(), how='difference').explore(m=m)"
   ]
  },
  {
   "cell_type": "markdown",
   "id": "fe9fd60d-9d79-40f0-a5c7-a75686c208b6",
   "metadata": {
    "tags": []
   },
   "source": [
    "## Lookback\n",
    "\n",
    "* `rail_ferry_brt_stops` trips, stops, st\n",
    "* `create_hqta_segments` shapes\n",
    "* `create_aggregate_stop_frequencies` trips, st\n",
    "* `sjoin_stops_to_segments` stops\n",
    "* `create_bus_hqta_types` trips, stops\n",
    "* `assemble_hqta_points` \n",
    "* `assemble_hqta_polygons`\n",
    "    - `assemble_hqta_points.get_agency_info` only"
   ]
  },
  {
   "cell_type": "code",
   "execution_count": 8,
   "id": "3730e610-98d4-4671-a1e7-66ef470e4658",
   "metadata": {},
   "outputs": [
    {
     "data": {
      "text/plain": [
       "<module 'lookback_wrappers' from '/home/jovyan/data-analyses/high_quality_transit_areas/lookback_wrappers.py'>"
      ]
     },
     "execution_count": 8,
     "metadata": {},
     "output_type": "execute_result"
    }
   ],
   "source": [
    "import datetime as dt\n",
    "import yaml\n",
    "from shared_utils import catalog_utils, publish_utils\n",
    "import lookback_wrappers\n",
    "import assemble_hqta_points\n",
    "import importlib\n",
    "importlib.reload(lookback_wrappers)"
   ]
  },
  {
   "cell_type": "code",
   "execution_count": 9,
   "id": "eac26a23-5fd2-4889-815d-77072eb03d64",
   "metadata": {
    "tags": []
   },
   "outputs": [],
   "source": [
    "published_operators_dict = lookback_wrappers.read_published_operators(analysis_date)"
   ]
  },
  {
   "cell_type": "code",
   "execution_count": 10,
   "id": "23229189-399b-42e9-a905-91ad6c57a11b",
   "metadata": {
    "tags": []
   },
   "outputs": [
    {
     "data": {
      "text/plain": [
       "{'2025-03-12': ['Imperial Valley Transit Schedule',\n",
       "  'Bay Area 511 Rio Vista Delta Breeze Schedule'],\n",
       " '2025-04-16': ['Glenn Schedule'],\n",
       " '2025-05-14': ['LAX FlyAway Schedule',\n",
       "  'Morro Bay Cal-ITP Schedule',\n",
       "  'Bay Area 511 Golden Gate Ferry Schedule',\n",
       "  'Long Beach Schedule',\n",
       "  'Arvin Schedule',\n",
       "  'Bellflower Bus Schedule',\n",
       "  'Sacramento Schedule',\n",
       "  'SBMTD Schedule']}"
      ]
     },
     "execution_count": 10,
     "metadata": {},
     "output_type": "execute_result"
    }
   ],
   "source": [
    "published_operators_dict"
   ]
  },
  {
   "cell_type": "code",
   "execution_count": 11,
   "id": "5b1a1ed8-cb97-4c8a-9016-453e8ab39889",
   "metadata": {
    "tags": []
   },
   "outputs": [],
   "source": [
    "GTFS_DATA_DICT = catalog_utils.get_catalog(\"gtfs_analytics_data\")"
   ]
  },
  {
   "cell_type": "code",
   "execution_count": 12,
   "id": "8d51bfec-8e32-455f-a17e-43e55b522197",
   "metadata": {
    "tags": []
   },
   "outputs": [
    {
     "data": {
      "text/plain": [
       "'crosswalk/gtfs_key_organization'"
      ]
     },
     "execution_count": 12,
     "metadata": {},
     "output_type": "execute_result"
    }
   ],
   "source": [
    "GTFS_DATA_DICT.schedule_tables.gtfs_key_crosswalk"
   ]
  },
  {
   "cell_type": "code",
   "execution_count": 13,
   "id": "d14567f3-aaf4-4e6f-9370-6fd4962260f0",
   "metadata": {
    "tags": []
   },
   "outputs": [
    {
     "data": {
      "text/plain": [
       "'gs://calitp-analytics-data/data-analyses/gtfs_schedule/'"
      ]
     },
     "execution_count": 13,
     "metadata": {},
     "output_type": "execute_result"
    }
   ],
   "source": [
    "GTFS_DATA_DICT.schedule_tables.dir"
   ]
  },
  {
   "cell_type": "code",
   "execution_count": 14,
   "id": "ae766223-2cae-4b67-912d-b8af135e7872",
   "metadata": {
    "tags": []
   },
   "outputs": [],
   "source": [
    "trips_cols = [\n",
    "            \"name\", \"feed_key\", \"trip_id\",\n",
    "            \"route_id\", \"route_type\", \"route_desc\",\n",
    "            \"gtfs_dataset_key\",\n",
    "        ]"
   ]
  },
  {
   "cell_type": "code",
   "execution_count": 15,
   "id": "cfc60ad3-4053-4895-b3b9-c9706602661a",
   "metadata": {
    "tags": []
   },
   "outputs": [],
   "source": [
    "lookback_trips = lookback_wrappers.get_lookback_trips(published_operators_dict, trips_cols)"
   ]
  },
  {
   "cell_type": "code",
   "execution_count": 16,
   "id": "dd764ebe-11b0-45da-a612-e5010031b0b5",
   "metadata": {
    "tags": []
   },
   "outputs": [
    {
     "data": {
      "text/html": [
       "<div>\n",
       "<style scoped>\n",
       "    .dataframe tbody tr th:only-of-type {\n",
       "        vertical-align: middle;\n",
       "    }\n",
       "\n",
       "    .dataframe tbody tr th {\n",
       "        vertical-align: top;\n",
       "    }\n",
       "\n",
       "    .dataframe thead th {\n",
       "        text-align: right;\n",
       "    }\n",
       "</style>\n",
       "<table border=\"1\" class=\"dataframe\">\n",
       "  <thead>\n",
       "    <tr style=\"text-align: right;\">\n",
       "      <th></th>\n",
       "      <th>name</th>\n",
       "      <th>feed_key</th>\n",
       "      <th>trip_id</th>\n",
       "      <th>route_id</th>\n",
       "      <th>route_type</th>\n",
       "      <th>route_desc</th>\n",
       "      <th>schedule_gtfs_dataset_key</th>\n",
       "      <th>lookback_date</th>\n",
       "    </tr>\n",
       "  </thead>\n",
       "  <tbody>\n",
       "    <tr>\n",
       "      <th>0</th>\n",
       "      <td>Imperial Valley Transit Schedule</td>\n",
       "      <td>cdd0c7f4c8f78f1805af16d34b8ed0c3</td>\n",
       "      <td>010314</td>\n",
       "      <td>1</td>\n",
       "      <td>3</td>\n",
       "      <td>None</td>\n",
       "      <td>fe4aab1717eca5a2935c32c85a35a5bf</td>\n",
       "      <td>2025-03-12</td>\n",
       "    </tr>\n",
       "    <tr>\n",
       "      <th>1</th>\n",
       "      <td>Imperial Valley Transit Schedule</td>\n",
       "      <td>cdd0c7f4c8f78f1805af16d34b8ed0c3</td>\n",
       "      <td>010300</td>\n",
       "      <td>1</td>\n",
       "      <td>3</td>\n",
       "      <td>None</td>\n",
       "      <td>fe4aab1717eca5a2935c32c85a35a5bf</td>\n",
       "      <td>2025-03-12</td>\n",
       "    </tr>\n",
       "    <tr>\n",
       "      <th>2</th>\n",
       "      <td>Imperial Valley Transit Schedule</td>\n",
       "      <td>cdd0c7f4c8f78f1805af16d34b8ed0c3</td>\n",
       "      <td>010316</td>\n",
       "      <td>1</td>\n",
       "      <td>3</td>\n",
       "      <td>None</td>\n",
       "      <td>fe4aab1717eca5a2935c32c85a35a5bf</td>\n",
       "      <td>2025-03-12</td>\n",
       "    </tr>\n",
       "  </tbody>\n",
       "</table>\n",
       "</div>"
      ],
      "text/plain": [
       "                               name                          feed_key trip_id  \\\n",
       "0  Imperial Valley Transit Schedule  cdd0c7f4c8f78f1805af16d34b8ed0c3  010314   \n",
       "1  Imperial Valley Transit Schedule  cdd0c7f4c8f78f1805af16d34b8ed0c3  010300   \n",
       "2  Imperial Valley Transit Schedule  cdd0c7f4c8f78f1805af16d34b8ed0c3  010316   \n",
       "\n",
       "  route_id route_type route_desc         schedule_gtfs_dataset_key  \\\n",
       "0        1          3       None  fe4aab1717eca5a2935c32c85a35a5bf   \n",
       "1        1          3       None  fe4aab1717eca5a2935c32c85a35a5bf   \n",
       "2        1          3       None  fe4aab1717eca5a2935c32c85a35a5bf   \n",
       "\n",
       "  lookback_date  \n",
       "0    2025-03-12  \n",
       "1    2025-03-12  \n",
       "2    2025-03-12  "
      ]
     },
     "execution_count": 16,
     "metadata": {},
     "output_type": "execute_result"
    }
   ],
   "source": [
    "lookback_trips.head(3)"
   ]
  },
  {
   "cell_type": "code",
   "execution_count": 17,
   "id": "a0d009f4-3ac7-47f0-ad73-6bd6c90a47c4",
   "metadata": {
    "tags": []
   },
   "outputs": [],
   "source": [
    "lookback_trips_ix = lookback_wrappers.lookback_trips_ix(lookback_trips)"
   ]
  },
  {
   "cell_type": "code",
   "execution_count": 18,
   "id": "53a3c9f1-b397-4588-ab10-af40b7113f00",
   "metadata": {
    "tags": []
   },
   "outputs": [
    {
     "data": {
      "text/html": [
       "<div>\n",
       "<style scoped>\n",
       "    .dataframe tbody tr th:only-of-type {\n",
       "        vertical-align: middle;\n",
       "    }\n",
       "\n",
       "    .dataframe tbody tr th {\n",
       "        vertical-align: top;\n",
       "    }\n",
       "\n",
       "    .dataframe thead th {\n",
       "        text-align: right;\n",
       "    }\n",
       "</style>\n",
       "<table border=\"1\" class=\"dataframe\">\n",
       "  <thead>\n",
       "    <tr style=\"text-align: right;\">\n",
       "      <th></th>\n",
       "      <th>name</th>\n",
       "      <th>feed_key</th>\n",
       "      <th>schedule_gtfs_dataset_key</th>\n",
       "      <th>lookback_date</th>\n",
       "    </tr>\n",
       "  </thead>\n",
       "  <tbody>\n",
       "    <tr>\n",
       "      <th>0</th>\n",
       "      <td>Imperial Valley Transit Schedule</td>\n",
       "      <td>cdd0c7f4c8f78f1805af16d34b8ed0c3</td>\n",
       "      <td>fe4aab1717eca5a2935c32c85a35a5bf</td>\n",
       "      <td>2025-03-12</td>\n",
       "    </tr>\n",
       "    <tr>\n",
       "      <th>64</th>\n",
       "      <td>Bay Area 511 Rio Vista Delta Breeze Schedule</td>\n",
       "      <td>b289d80491722393827621e2a0286179</td>\n",
       "      <td>a131b466de5793f858b5dec42fbbb4a9</td>\n",
       "      <td>2025-03-12</td>\n",
       "    </tr>\n",
       "    <tr>\n",
       "      <th>0</th>\n",
       "      <td>Glenn Schedule</td>\n",
       "      <td>c74eaf4ebabfbb26ac8c9712bbcbb01e</td>\n",
       "      <td>7f2ae5bcb719c5912462858471a28aa5</td>\n",
       "      <td>2025-04-16</td>\n",
       "    </tr>\n",
       "  </tbody>\n",
       "</table>\n",
       "</div>"
      ],
      "text/plain": [
       "                                            name  \\\n",
       "0               Imperial Valley Transit Schedule   \n",
       "64  Bay Area 511 Rio Vista Delta Breeze Schedule   \n",
       "0                                 Glenn Schedule   \n",
       "\n",
       "                            feed_key         schedule_gtfs_dataset_key  \\\n",
       "0   cdd0c7f4c8f78f1805af16d34b8ed0c3  fe4aab1717eca5a2935c32c85a35a5bf   \n",
       "64  b289d80491722393827621e2a0286179  a131b466de5793f858b5dec42fbbb4a9   \n",
       "0   c74eaf4ebabfbb26ac8c9712bbcbb01e  7f2ae5bcb719c5912462858471a28aa5   \n",
       "\n",
       "   lookback_date  \n",
       "0     2025-03-12  \n",
       "64    2025-03-12  \n",
       "0     2025-04-16  "
      ]
     },
     "execution_count": 18,
     "metadata": {},
     "output_type": "execute_result"
    }
   ],
   "source": [
    "lookback_trips_ix.head(3)"
   ]
  },
  {
   "cell_type": "code",
   "execution_count": 19,
   "id": "9959b4d9-1b9c-4afa-aece-a61940c70fa2",
   "metadata": {
    "tags": []
   },
   "outputs": [],
   "source": [
    "st_cols = [\"feed_key\", \"trip_id\", \"stop_id\", \"arrival_hour\"]"
   ]
  },
  {
   "cell_type": "code",
   "execution_count": 20,
   "id": "3882f7ca-1c01-4403-a827-a0e014ea245a",
   "metadata": {
    "tags": []
   },
   "outputs": [],
   "source": [
    "lookback_st = lookback_wrappers.get_lookback_st(published_operators_dict, lookback_trips_ix, st_cols)"
   ]
  },
  {
   "cell_type": "code",
   "execution_count": 21,
   "id": "3ef2db7b-833a-4dea-9299-69b26ea8e808",
   "metadata": {},
   "outputs": [
    {
     "data": {
      "text/html": [
       "<div>\n",
       "<style scoped>\n",
       "    .dataframe tbody tr th:only-of-type {\n",
       "        vertical-align: middle;\n",
       "    }\n",
       "\n",
       "    .dataframe tbody tr th {\n",
       "        vertical-align: top;\n",
       "    }\n",
       "\n",
       "    .dataframe thead th {\n",
       "        text-align: right;\n",
       "    }\n",
       "</style>\n",
       "<table border=\"1\" class=\"dataframe\">\n",
       "  <thead>\n",
       "    <tr style=\"text-align: right;\">\n",
       "      <th></th>\n",
       "      <th>feed_key</th>\n",
       "      <th>trip_id</th>\n",
       "      <th>stop_id</th>\n",
       "      <th>arrival_hour</th>\n",
       "    </tr>\n",
       "  </thead>\n",
       "  <tbody>\n",
       "    <tr>\n",
       "      <th>0</th>\n",
       "      <td>cdd0c7f4c8f78f1805af16d34b8ed0c3</td>\n",
       "      <td>010303</td>\n",
       "      <td>53</td>\n",
       "      <td>8.0</td>\n",
       "    </tr>\n",
       "    <tr>\n",
       "      <th>1</th>\n",
       "      <td>cdd0c7f4c8f78f1805af16d34b8ed0c3</td>\n",
       "      <td>200305</td>\n",
       "      <td>5</td>\n",
       "      <td>14.0</td>\n",
       "    </tr>\n",
       "    <tr>\n",
       "      <th>2</th>\n",
       "      <td>cdd0c7f4c8f78f1805af16d34b8ed0c3</td>\n",
       "      <td>010321</td>\n",
       "      <td>69</td>\n",
       "      <td>20.0</td>\n",
       "    </tr>\n",
       "  </tbody>\n",
       "</table>\n",
       "</div>"
      ],
      "text/plain": [
       "                           feed_key trip_id stop_id  arrival_hour\n",
       "0  cdd0c7f4c8f78f1805af16d34b8ed0c3  010303      53           8.0\n",
       "1  cdd0c7f4c8f78f1805af16d34b8ed0c3  200305       5          14.0\n",
       "2  cdd0c7f4c8f78f1805af16d34b8ed0c3  010321      69          20.0"
      ]
     },
     "execution_count": 21,
     "metadata": {},
     "output_type": "execute_result"
    }
   ],
   "source": [
    "lookback_st.head(3)"
   ]
  },
  {
   "cell_type": "code",
   "execution_count": 22,
   "id": "60bef90d-a970-4495-b3a8-382437bbb799",
   "metadata": {
    "tags": []
   },
   "outputs": [],
   "source": [
    "stops_cols = [\"feed_key\", \"stop_id\", \"stop_name\", \"geometry\"]"
   ]
  },
  {
   "cell_type": "code",
   "execution_count": 23,
   "id": "31f616a3-5cd1-4c11-8e71-18fc049331dd",
   "metadata": {
    "tags": []
   },
   "outputs": [],
   "source": [
    "lookback_stops = lookback_wrappers.get_lookback_stops(published_operators_dict, lookback_trips_ix, stops_cols)"
   ]
  },
  {
   "cell_type": "code",
   "execution_count": 24,
   "id": "1346c3fd-86e5-4ca2-800a-89ba6bf5e88f",
   "metadata": {
    "tags": []
   },
   "outputs": [
    {
     "data": {
      "text/html": [
       "<div>\n",
       "<style scoped>\n",
       "    .dataframe tbody tr th:only-of-type {\n",
       "        vertical-align: middle;\n",
       "    }\n",
       "\n",
       "    .dataframe tbody tr th {\n",
       "        vertical-align: top;\n",
       "    }\n",
       "\n",
       "    .dataframe thead th {\n",
       "        text-align: right;\n",
       "    }\n",
       "</style>\n",
       "<table border=\"1\" class=\"dataframe\">\n",
       "  <thead>\n",
       "    <tr style=\"text-align: right;\">\n",
       "      <th></th>\n",
       "      <th>feed_key</th>\n",
       "      <th>stop_id</th>\n",
       "      <th>stop_name</th>\n",
       "      <th>geometry</th>\n",
       "    </tr>\n",
       "  </thead>\n",
       "  <tbody>\n",
       "    <tr>\n",
       "      <th>0</th>\n",
       "      <td>b289d80491722393827621e2a0286179</td>\n",
       "      <td>2329722</td>\n",
       "      <td>Walmart</td>\n",
       "      <td>POINT (-173771.189 26928.051)</td>\n",
       "    </tr>\n",
       "    <tr>\n",
       "      <th>1</th>\n",
       "      <td>b289d80491722393827621e2a0286179</td>\n",
       "      <td>27694</td>\n",
       "      <td>Main &amp; 2nd</td>\n",
       "      <td>POINT (-148022.773 16896.812)</td>\n",
       "    </tr>\n",
       "    <tr>\n",
       "      <th>2</th>\n",
       "      <td>b289d80491722393827621e2a0286179</td>\n",
       "      <td>27695</td>\n",
       "      <td>Hillside Terrace &amp; Flores</td>\n",
       "      <td>POINT (-148388.515 17466.601)</td>\n",
       "    </tr>\n",
       "  </tbody>\n",
       "</table>\n",
       "</div>"
      ],
      "text/plain": [
       "                           feed_key  stop_id                  stop_name  \\\n",
       "0  b289d80491722393827621e2a0286179  2329722                    Walmart   \n",
       "1  b289d80491722393827621e2a0286179    27694                 Main & 2nd   \n",
       "2  b289d80491722393827621e2a0286179    27695  Hillside Terrace & Flores   \n",
       "\n",
       "                        geometry  \n",
       "0  POINT (-173771.189 26928.051)  \n",
       "1  POINT (-148022.773 16896.812)  \n",
       "2  POINT (-148388.515 17466.601)  "
      ]
     },
     "execution_count": 24,
     "metadata": {},
     "output_type": "execute_result"
    }
   ],
   "source": [
    "lookback_stops.head(3)"
   ]
  },
  {
   "cell_type": "code",
   "execution_count": 25,
   "id": "82cf1610-de33-4f48-948e-d5e6f801ad29",
   "metadata": {
    "tags": []
   },
   "outputs": [],
   "source": [
    "lookback_hqta_shapes = lookback_wrappers.get_lookback_hqta_shapes(published_operators_dict, lookback_trips_ix)"
   ]
  },
  {
   "cell_type": "code",
   "execution_count": 26,
   "id": "632ad759-4658-4c7d-803c-b05798351a3a",
   "metadata": {
    "tags": []
   },
   "outputs": [
    {
     "data": {
      "text/html": [
       "<div>\n",
       "<style scoped>\n",
       "    .dataframe tbody tr th:only-of-type {\n",
       "        vertical-align: middle;\n",
       "    }\n",
       "\n",
       "    .dataframe tbody tr th {\n",
       "        vertical-align: top;\n",
       "    }\n",
       "\n",
       "    .dataframe thead th {\n",
       "        text-align: right;\n",
       "    }\n",
       "</style>\n",
       "<table border=\"1\" class=\"dataframe\">\n",
       "  <thead>\n",
       "    <tr style=\"text-align: right;\">\n",
       "      <th></th>\n",
       "      <th>geometry</th>\n",
       "      <th>schedule_gtfs_dataset_key</th>\n",
       "      <th>route_id</th>\n",
       "      <th>direction_id</th>\n",
       "      <th>route_key</th>\n",
       "    </tr>\n",
       "  </thead>\n",
       "  <tbody>\n",
       "    <tr>\n",
       "      <th>2697</th>\n",
       "      <td>LINESTRING (-147965.518 16828.747, -148025.619...</td>\n",
       "      <td>a131b466de5793f858b5dec42fbbb4a9</td>\n",
       "      <td>50</td>\n",
       "      <td>0</td>\n",
       "      <td>bc606373dd152e0585a444b5c77fa689</td>\n",
       "    </tr>\n",
       "    <tr>\n",
       "      <th>2698</th>\n",
       "      <td>LINESTRING (-180785.421 27827.886, -180782.894...</td>\n",
       "      <td>a131b466de5793f858b5dec42fbbb4a9</td>\n",
       "      <td>50</td>\n",
       "      <td>1</td>\n",
       "      <td>bc606373dd152e0585a444b5c77fa689</td>\n",
       "    </tr>\n",
       "    <tr>\n",
       "      <th>3803</th>\n",
       "      <td>LINESTRING (422429.667 -582166.415, 422282.476...</td>\n",
       "      <td>fe4aab1717eca5a2935c32c85a35a5bf</td>\n",
       "      <td>1</td>\n",
       "      <td>0</td>\n",
       "      <td>2e7565e0f7520c62b8210f9ba512e33e</td>\n",
       "    </tr>\n",
       "  </tbody>\n",
       "</table>\n",
       "</div>"
      ],
      "text/plain": [
       "                                               geometry  \\\n",
       "2697  LINESTRING (-147965.518 16828.747, -148025.619...   \n",
       "2698  LINESTRING (-180785.421 27827.886, -180782.894...   \n",
       "3803  LINESTRING (422429.667 -582166.415, 422282.476...   \n",
       "\n",
       "             schedule_gtfs_dataset_key route_id  direction_id  \\\n",
       "2697  a131b466de5793f858b5dec42fbbb4a9       50             0   \n",
       "2698  a131b466de5793f858b5dec42fbbb4a9       50             1   \n",
       "3803  fe4aab1717eca5a2935c32c85a35a5bf        1             0   \n",
       "\n",
       "                             route_key  \n",
       "2697  bc606373dd152e0585a444b5c77fa689  \n",
       "2698  bc606373dd152e0585a444b5c77fa689  \n",
       "3803  2e7565e0f7520c62b8210f9ba512e33e  "
      ]
     },
     "execution_count": 26,
     "metadata": {},
     "output_type": "execute_result"
    }
   ],
   "source": [
    "lookback_hqta_shapes.head(3)"
   ]
  },
  {
   "cell_type": "code",
   "execution_count": 27,
   "id": "8a15c2e8-2ec5-4a68-b2c3-595429ff55b6",
   "metadata": {
    "tags": []
   },
   "outputs": [],
   "source": [
    "lookback_xwalk = assemble_hqta_points.get_lookback_agency_crosswalk(published_operators_dict, lookback_trips_ix)"
   ]
  },
  {
   "cell_type": "markdown",
   "id": "89e3a07b-89f0-4005-874f-f103a7c79279",
   "metadata": {},
   "source": [
    "## tweak `branching_derived_intersections`"
   ]
  },
  {
   "cell_type": "code",
   "execution_count": 28,
   "id": "4d348d88-a207-4d10-96ab-8d4cc6c00a0c",
   "metadata": {
    "tags": []
   },
   "outputs": [],
   "source": [
    "import branching_derived_intersections"
   ]
  },
  {
   "cell_type": "code",
   "execution_count": 30,
   "id": "b0acfece-80cb-4cd6-b2b6-084f41be3b33",
   "metadata": {
    "tags": []
   },
   "outputs": [],
   "source": [
    "trips, _ix = branching_derived_intersections.get_trips_with_route_dir(analysis_date, published_operators_dict)"
   ]
  },
  {
   "cell_type": "code",
   "execution_count": 32,
   "id": "cc1a5189-87df-4d97-8868-c1c25947b565",
   "metadata": {
    "tags": []
   },
   "outputs": [],
   "source": [
    "shapes = helpers.import_scheduled_shapes(analysis_date, columns=['shape_array_key', 'geometry'])\n",
    "\n",
    "feeds = trips[['feed_key', 'schedule_gtfs_dataset_key']].drop_duplicates()\n",
    "# stops = helpers.import_scheduled_stops(analysis_date, columns=['feed_key', 'stop_id', 'geometry'])\n",
    "\n",
    "shapes = shapes.merge(trips, on='shape_array_key').assign(length = shapes.geometry.length)\n",
    "shapes.geometry = shapes.buffer(branching_derived_intersections.BRANCHING_OVERLAY_BUFFER)\n",
    "shapes = shapes.assign(area = shapes.geometry.map(lambda x: x.area))\n",
    "max_by_route_dir = shapes.groupby(['schedule_gtfs_dataset_key', 'route_dir']).length.max().reset_index()\n",
    "shapes = (shapes.merge(max_by_route_dir, on = ['schedule_gtfs_dataset_key', 'route_dir', 'length'])\n",
    "      .drop_duplicates(subset = ['schedule_gtfs_dataset_key', 'route_dir', 'length'])\n",
    "     )"
   ]
  },
  {
   "cell_type": "code",
   "execution_count": 34,
   "id": "05f0c2fd-b94c-4aeb-9ee9-5f5cae114684",
   "metadata": {
    "tags": []
   },
   "outputs": [
    {
     "data": {
      "text/html": [
       "<div>\n",
       "<style scoped>\n",
       "    .dataframe tbody tr th:only-of-type {\n",
       "        vertical-align: middle;\n",
       "    }\n",
       "\n",
       "    .dataframe tbody tr th {\n",
       "        vertical-align: top;\n",
       "    }\n",
       "\n",
       "    .dataframe thead th {\n",
       "        text-align: right;\n",
       "    }\n",
       "</style>\n",
       "<table border=\"1\" class=\"dataframe\">\n",
       "  <thead>\n",
       "    <tr style=\"text-align: right;\">\n",
       "      <th></th>\n",
       "      <th>shape_array_key</th>\n",
       "      <th>geometry</th>\n",
       "      <th>feed_key</th>\n",
       "      <th>schedule_gtfs_dataset_key</th>\n",
       "      <th>trip_id</th>\n",
       "      <th>route_id</th>\n",
       "      <th>direction_id</th>\n",
       "      <th>route_type</th>\n",
       "      <th>route_short_name</th>\n",
       "      <th>name</th>\n",
       "      <th>lookback_date</th>\n",
       "      <th>route_dir</th>\n",
       "      <th>length</th>\n",
       "      <th>area</th>\n",
       "    </tr>\n",
       "  </thead>\n",
       "  <tbody>\n",
       "    <tr>\n",
       "      <th>0</th>\n",
       "      <td>b4410832dddd41b8ef04743cf996d0b7</td>\n",
       "      <td>POLYGON ((-216199.773 -38727.908, -216199.378 ...</td>\n",
       "      <td>6340f51d88b74feaa040e4f3a6f7fbe1</td>\n",
       "      <td>b75dfb03ca9b316fdb18f98a6b97e419</td>\n",
       "      <td>110-8</td>\n",
       "      <td>110</td>\n",
       "      <td>0</td>\n",
       "      <td>3</td>\n",
       "      <td>110</td>\n",
       "      <td>South San Francisco Schedule</td>\n",
       "      <td>NaN</td>\n",
       "      <td>110_0</td>\n",
       "      <td>74313.739804</td>\n",
       "      <td>5.596859e+05</td>\n",
       "    </tr>\n",
       "    <tr>\n",
       "      <th>1</th>\n",
       "      <td>c42892248fa7d65f51c4661296611a37</td>\n",
       "      <td>POLYGON ((91133.279 -40603.234, 91129.348 -406...</td>\n",
       "      <td>6a185d2b4606192831e84a125b4cd54c</td>\n",
       "      <td>cb8a465cffec67c8fd90f31b389ed4c3</td>\n",
       "      <td>t_146781_b_2645_tn_0</td>\n",
       "      <td>563</td>\n",
       "      <td>1</td>\n",
       "      <td>3</td>\n",
       "      <td>MMX</td>\n",
       "      <td>Eastern Sierra Schedule</td>\n",
       "      <td>NaN</td>\n",
       "      <td>563_1</td>\n",
       "      <td>68744.282332</td>\n",
       "      <td>2.919198e+06</td>\n",
       "    </tr>\n",
       "    <tr>\n",
       "      <th>2</th>\n",
       "      <td>97bea6ce476801b6e456c0e88b3cfba6</td>\n",
       "      <td>POLYGON ((-191210.743 -61531.747, -191209.248 ...</td>\n",
       "      <td>9e8eed3cc17c4fdde369dd07bcb45faa</td>\n",
       "      <td>3c275e5acf8974e1afd765bd3011424c</td>\n",
       "      <td>14602095|25712661:T4|16:07:00</td>\n",
       "      <td>14602095</td>\n",
       "      <td>1</td>\n",
       "      <td>3</td>\n",
       "      <td>RP PM</td>\n",
       "      <td>Stanford Schedule</td>\n",
       "      <td>NaN</td>\n",
       "      <td>14602095_1</td>\n",
       "      <td>85356.973002</td>\n",
       "      <td>3.432338e+05</td>\n",
       "    </tr>\n",
       "  </tbody>\n",
       "</table>\n",
       "</div>"
      ],
      "text/plain": [
       "                    shape_array_key  \\\n",
       "0  b4410832dddd41b8ef04743cf996d0b7   \n",
       "1  c42892248fa7d65f51c4661296611a37   \n",
       "2  97bea6ce476801b6e456c0e88b3cfba6   \n",
       "\n",
       "                                            geometry  \\\n",
       "0  POLYGON ((-216199.773 -38727.908, -216199.378 ...   \n",
       "1  POLYGON ((91133.279 -40603.234, 91129.348 -406...   \n",
       "2  POLYGON ((-191210.743 -61531.747, -191209.248 ...   \n",
       "\n",
       "                           feed_key         schedule_gtfs_dataset_key  \\\n",
       "0  6340f51d88b74feaa040e4f3a6f7fbe1  b75dfb03ca9b316fdb18f98a6b97e419   \n",
       "1  6a185d2b4606192831e84a125b4cd54c  cb8a465cffec67c8fd90f31b389ed4c3   \n",
       "2  9e8eed3cc17c4fdde369dd07bcb45faa  3c275e5acf8974e1afd765bd3011424c   \n",
       "\n",
       "                         trip_id  route_id direction_id route_type  \\\n",
       "0                          110-8       110            0          3   \n",
       "1           t_146781_b_2645_tn_0       563            1          3   \n",
       "2  14602095|25712661:T4|16:07:00  14602095            1          3   \n",
       "\n",
       "  route_short_name                          name lookback_date   route_dir  \\\n",
       "0              110  South San Francisco Schedule           NaN       110_0   \n",
       "1              MMX       Eastern Sierra Schedule           NaN       563_1   \n",
       "2            RP PM             Stanford Schedule           NaN  14602095_1   \n",
       "\n",
       "         length          area  \n",
       "0  74313.739804  5.596859e+05  \n",
       "1  68744.282332  2.919198e+06  \n",
       "2  85356.973002  3.432338e+05  "
      ]
     },
     "execution_count": 34,
     "metadata": {},
     "output_type": "execute_result"
    }
   ],
   "source": [
    "shapes.head(3)"
   ]
  },
  {
   "cell_type": "code",
   "execution_count": 57,
   "id": "76742b98-65ec-4dc9-ba16-33c00a0fadb4",
   "metadata": {
    "tags": []
   },
   "outputs": [],
   "source": [
    "outside_amtrak_shapes = gtfs_schedule_wrangling.amtrak_trips(\n",
    "    analysis_date = analysis_date, inside_ca = False).shape_array_key.unique()\n",
    "\n",
    "gdf = gtfs_schedule_wrangling.longest_shape_by_route_direction(\n",
    "    analysis_date = analysis_date\n",
    ").query(\n",
    "    'shape_array_key not in @outside_amtrak_shapes'\n",
    ").fillna({\"direction_id\": 0}).astype({\"direction_id\": \"int\"})"
   ]
  },
  {
   "cell_type": "code",
   "execution_count": 64,
   "id": "9c49bfec-da6d-4b90-98d0-3288ada75e65",
   "metadata": {
    "tags": []
   },
   "outputs": [],
   "source": [
    "test_shapes = pd.concat([gdf, lookback_hqta_shapes])\n",
    "test_shapes = test_shapes.assign(route_dir = test_shapes.apply(lambda x: str(x.route_id) + '_' + str(x.direction_id), axis=1),\n",
    "                  )"
   ]
  },
  {
   "cell_type": "code",
   "execution_count": 59,
   "id": "0f899734-c3c9-4074-b171-5e050ff722e0",
   "metadata": {
    "tags": []
   },
   "outputs": [],
   "source": [
    "test_shapes.geometry = test_shapes.buffer(branching_derived_intersections.BRANCHING_OVERLAY_BUFFER)"
   ]
  },
  {
   "cell_type": "code",
   "execution_count": 60,
   "id": "bd9987ff-e4df-463c-91f4-463c403f5d28",
   "metadata": {
    "tags": []
   },
   "outputs": [],
   "source": [
    "test_shapes = test_shapes.assign(area = test_shapes.geometry.map(lambda x: x.area))"
   ]
  },
  {
   "cell_type": "code",
   "execution_count": 62,
   "id": "19ca574e-bcb1-422c-a65a-2e118ebd335b",
   "metadata": {
    "collapsed": true,
    "jupyter": {
     "outputs_hidden": true
    },
    "tags": []
   },
   "outputs": [
    {
     "data": {
      "text/html": [
       "<div>\n",
       "<style scoped>\n",
       "    .dataframe tbody tr th:only-of-type {\n",
       "        vertical-align: middle;\n",
       "    }\n",
       "\n",
       "    .dataframe tbody tr th {\n",
       "        vertical-align: top;\n",
       "    }\n",
       "\n",
       "    .dataframe thead th {\n",
       "        text-align: right;\n",
       "    }\n",
       "</style>\n",
       "<table border=\"1\" class=\"dataframe\">\n",
       "  <thead>\n",
       "    <tr style=\"text-align: right;\">\n",
       "      <th></th>\n",
       "      <th>shape_array_key</th>\n",
       "      <th>geometry</th>\n",
       "      <th>feed_key</th>\n",
       "      <th>schedule_gtfs_dataset_key</th>\n",
       "      <th>route_id</th>\n",
       "      <th>direction_id</th>\n",
       "      <th>route_key</th>\n",
       "      <th>route_length</th>\n",
       "      <th>route_dir</th>\n",
       "      <th>area</th>\n",
       "    </tr>\n",
       "  </thead>\n",
       "  <tbody>\n",
       "    <tr>\n",
       "      <th>0</th>\n",
       "      <td>d41e13ef05f70afbaa069ae674a85eba</td>\n",
       "      <td>POLYGON ((-245338.263 62853.282, -245338.868 6...</td>\n",
       "      <td>04c77e525e367b2752a6c7372a5f741a</td>\n",
       "      <td>0881af3822466784992a49f1cc57d38f</td>\n",
       "      <td>SMART</td>\n",
       "      <td>0</td>\n",
       "      <td>2a33e33ac7acea7f4367fc787da6e831</td>\n",
       "      <td>77586.642251</td>\n",
       "      <td>SMART_0</td>\n",
       "      <td>3.103763e+06</td>\n",
       "    </tr>\n",
       "    <tr>\n",
       "      <th>1</th>\n",
       "      <td>a68a8c5063dd4613d26a02fc21a5fb46</td>\n",
       "      <td>POLYGON ((-245304.574 62874.942, -245006.664 6...</td>\n",
       "      <td>04c77e525e367b2752a6c7372a5f741a</td>\n",
       "      <td>0881af3822466784992a49f1cc57d38f</td>\n",
       "      <td>SMART</td>\n",
       "      <td>1</td>\n",
       "      <td>2a33e33ac7acea7f4367fc787da6e831</td>\n",
       "      <td>77570.717886</td>\n",
       "      <td>SMART_1</td>\n",
       "      <td>3.103713e+06</td>\n",
       "    </tr>\n",
       "    <tr>\n",
       "      <th>2</th>\n",
       "      <td>21cb3a14414d64629ff623921e328d42</td>\n",
       "      <td>POLYGON ((-63493.167 -305725.695, -63559.825 -...</td>\n",
       "      <td>058a3b43698f803c8686f7e72a9efd4c</td>\n",
       "      <td>f4c3ea214214ee0d96f7646b3e9d69dc</td>\n",
       "      <td>11789</td>\n",
       "      <td>1</td>\n",
       "      <td>61c01874dffadb6781fee402c49300d1</td>\n",
       "      <td>17866.964698</td>\n",
       "      <td>11789_1</td>\n",
       "      <td>6.233952e+05</td>\n",
       "    </tr>\n",
       "    <tr>\n",
       "      <th>3</th>\n",
       "      <td>0aa0a5f1d73a0a4e16bc7dc99068dd20</td>\n",
       "      <td>POLYGON ((-63490.271 -305721.984, -63529.754 -...</td>\n",
       "      <td>058a3b43698f803c8686f7e72a9efd4c</td>\n",
       "      <td>f4c3ea214214ee0d96f7646b3e9d69dc</td>\n",
       "      <td>11790</td>\n",
       "      <td>1</td>\n",
       "      <td>ba951c4b56db19822a2ddc802552fb97</td>\n",
       "      <td>16817.401333</td>\n",
       "      <td>11790_1</td>\n",
       "      <td>6.003238e+05</td>\n",
       "    </tr>\n",
       "    <tr>\n",
       "      <th>4</th>\n",
       "      <td>101c7fd91b575d21beee7e978d017a7e</td>\n",
       "      <td>POLYGON ((-61631.080 -302321.844, -61820.076 -...</td>\n",
       "      <td>058a3b43698f803c8686f7e72a9efd4c</td>\n",
       "      <td>f4c3ea214214ee0d96f7646b3e9d69dc</td>\n",
       "      <td>11791</td>\n",
       "      <td>1</td>\n",
       "      <td>5a612df5b615473d91ceb14f4a4e47b6</td>\n",
       "      <td>10519.095010</td>\n",
       "      <td>11791_1</td>\n",
       "      <td>3.959218e+05</td>\n",
       "    </tr>\n",
       "    <tr>\n",
       "      <th>...</th>\n",
       "      <td>...</td>\n",
       "      <td>...</td>\n",
       "      <td>...</td>\n",
       "      <td>...</td>\n",
       "      <td>...</td>\n",
       "      <td>...</td>\n",
       "      <td>...</td>\n",
       "      <td>...</td>\n",
       "      <td>...</td>\n",
       "      <td>...</td>\n",
       "    </tr>\n",
       "    <tr>\n",
       "      <th>3950</th>\n",
       "      <td>NaN</td>\n",
       "      <td>POLYGON ((105302.162 -311291.186, 105302.147 -...</td>\n",
       "      <td>NaN</td>\n",
       "      <td>7b62eba740c115d06c0e6baec8d83c12</td>\n",
       "      <td>16776</td>\n",
       "      <td>0</td>\n",
       "      <td>2759ace38e60b004d5c73a45347be111</td>\n",
       "      <td>NaN</td>\n",
       "      <td>16776_0</td>\n",
       "      <td>5.358778e+05</td>\n",
       "    </tr>\n",
       "    <tr>\n",
       "      <th>3951</th>\n",
       "      <td>NaN</td>\n",
       "      <td>POLYGON ((98664.585 -306203.856, 98664.406 -30...</td>\n",
       "      <td>NaN</td>\n",
       "      <td>7b62eba740c115d06c0e6baec8d83c12</td>\n",
       "      <td>16778</td>\n",
       "      <td>0</td>\n",
       "      <td>352650a6063110174759c5bbfc9a38dd</td>\n",
       "      <td>NaN</td>\n",
       "      <td>16778_0</td>\n",
       "      <td>9.139007e+05</td>\n",
       "    </tr>\n",
       "    <tr>\n",
       "      <th>3952</th>\n",
       "      <td>NaN</td>\n",
       "      <td>POLYGON ((98746.169 -311471.774, 98753.655 -31...</td>\n",
       "      <td>NaN</td>\n",
       "      <td>7b62eba740c115d06c0e6baec8d83c12</td>\n",
       "      <td>16779</td>\n",
       "      <td>0</td>\n",
       "      <td>a43788023cffe46666bc6e533f937f22</td>\n",
       "      <td>NaN</td>\n",
       "      <td>16779_0</td>\n",
       "      <td>1.402907e+06</td>\n",
       "    </tr>\n",
       "    <tr>\n",
       "      <th>3953</th>\n",
       "      <td>NaN</td>\n",
       "      <td>POLYGON ((95623.517 -336488.552, 95625.171 -33...</td>\n",
       "      <td>NaN</td>\n",
       "      <td>7b62eba740c115d06c0e6baec8d83c12</td>\n",
       "      <td>16779</td>\n",
       "      <td>1</td>\n",
       "      <td>a43788023cffe46666bc6e533f937f22</td>\n",
       "      <td>NaN</td>\n",
       "      <td>16779_1</td>\n",
       "      <td>1.407364e+06</td>\n",
       "    </tr>\n",
       "    <tr>\n",
       "      <th>3954</th>\n",
       "      <td>NaN</td>\n",
       "      <td>POLYGON ((86719.960 -292164.609, 86764.071 -29...</td>\n",
       "      <td>NaN</td>\n",
       "      <td>7b62eba740c115d06c0e6baec8d83c12</td>\n",
       "      <td>16780</td>\n",
       "      <td>0</td>\n",
       "      <td>c1adedd5658cd0575eb929fb85aa3b26</td>\n",
       "      <td>NaN</td>\n",
       "      <td>16780_0</td>\n",
       "      <td>3.370971e+06</td>\n",
       "    </tr>\n",
       "  </tbody>\n",
       "</table>\n",
       "<p>4157 rows × 10 columns</p>\n",
       "</div>"
      ],
      "text/plain": [
       "                       shape_array_key  \\\n",
       "0     d41e13ef05f70afbaa069ae674a85eba   \n",
       "1     a68a8c5063dd4613d26a02fc21a5fb46   \n",
       "2     21cb3a14414d64629ff623921e328d42   \n",
       "3     0aa0a5f1d73a0a4e16bc7dc99068dd20   \n",
       "4     101c7fd91b575d21beee7e978d017a7e   \n",
       "...                                ...   \n",
       "3950                               NaN   \n",
       "3951                               NaN   \n",
       "3952                               NaN   \n",
       "3953                               NaN   \n",
       "3954                               NaN   \n",
       "\n",
       "                                               geometry  \\\n",
       "0     POLYGON ((-245338.263 62853.282, -245338.868 6...   \n",
       "1     POLYGON ((-245304.574 62874.942, -245006.664 6...   \n",
       "2     POLYGON ((-63493.167 -305725.695, -63559.825 -...   \n",
       "3     POLYGON ((-63490.271 -305721.984, -63529.754 -...   \n",
       "4     POLYGON ((-61631.080 -302321.844, -61820.076 -...   \n",
       "...                                                 ...   \n",
       "3950  POLYGON ((105302.162 -311291.186, 105302.147 -...   \n",
       "3951  POLYGON ((98664.585 -306203.856, 98664.406 -30...   \n",
       "3952  POLYGON ((98746.169 -311471.774, 98753.655 -31...   \n",
       "3953  POLYGON ((95623.517 -336488.552, 95625.171 -33...   \n",
       "3954  POLYGON ((86719.960 -292164.609, 86764.071 -29...   \n",
       "\n",
       "                              feed_key         schedule_gtfs_dataset_key  \\\n",
       "0     04c77e525e367b2752a6c7372a5f741a  0881af3822466784992a49f1cc57d38f   \n",
       "1     04c77e525e367b2752a6c7372a5f741a  0881af3822466784992a49f1cc57d38f   \n",
       "2     058a3b43698f803c8686f7e72a9efd4c  f4c3ea214214ee0d96f7646b3e9d69dc   \n",
       "3     058a3b43698f803c8686f7e72a9efd4c  f4c3ea214214ee0d96f7646b3e9d69dc   \n",
       "4     058a3b43698f803c8686f7e72a9efd4c  f4c3ea214214ee0d96f7646b3e9d69dc   \n",
       "...                                ...                               ...   \n",
       "3950                               NaN  7b62eba740c115d06c0e6baec8d83c12   \n",
       "3951                               NaN  7b62eba740c115d06c0e6baec8d83c12   \n",
       "3952                               NaN  7b62eba740c115d06c0e6baec8d83c12   \n",
       "3953                               NaN  7b62eba740c115d06c0e6baec8d83c12   \n",
       "3954                               NaN  7b62eba740c115d06c0e6baec8d83c12   \n",
       "\n",
       "     route_id  direction_id                         route_key  route_length  \\\n",
       "0       SMART             0  2a33e33ac7acea7f4367fc787da6e831  77586.642251   \n",
       "1       SMART             1  2a33e33ac7acea7f4367fc787da6e831  77570.717886   \n",
       "2       11789             1  61c01874dffadb6781fee402c49300d1  17866.964698   \n",
       "3       11790             1  ba951c4b56db19822a2ddc802552fb97  16817.401333   \n",
       "4       11791             1  5a612df5b615473d91ceb14f4a4e47b6  10519.095010   \n",
       "...       ...           ...                               ...           ...   \n",
       "3950    16776             0  2759ace38e60b004d5c73a45347be111           NaN   \n",
       "3951    16778             0  352650a6063110174759c5bbfc9a38dd           NaN   \n",
       "3952    16779             0  a43788023cffe46666bc6e533f937f22           NaN   \n",
       "3953    16779             1  a43788023cffe46666bc6e533f937f22           NaN   \n",
       "3954    16780             0  c1adedd5658cd0575eb929fb85aa3b26           NaN   \n",
       "\n",
       "     route_dir          area  \n",
       "0      SMART_0  3.103763e+06  \n",
       "1      SMART_1  3.103713e+06  \n",
       "2      11789_1  6.233952e+05  \n",
       "3      11790_1  6.003238e+05  \n",
       "4      11791_1  3.959218e+05  \n",
       "...        ...           ...  \n",
       "3950   16776_0  5.358778e+05  \n",
       "3951   16778_0  9.139007e+05  \n",
       "3952   16779_0  1.402907e+06  \n",
       "3953   16779_1  1.407364e+06  \n",
       "3954   16780_0  3.370971e+06  \n",
       "\n",
       "[4157 rows x 10 columns]"
      ]
     },
     "execution_count": 62,
     "metadata": {},
     "output_type": "execute_result"
    }
   ],
   "source": [
    "test_shapes"
   ]
  },
  {
   "cell_type": "code",
   "execution_count": 63,
   "id": "b78b5da9-e26e-49c0-86ac-0f09e5e9fb77",
   "metadata": {
    "tags": []
   },
   "outputs": [],
   "source": [
    "test_shapes.to_parquet('test_shapes.parquet')"
   ]
  }
 ],
 "metadata": {
  "kernelspec": {
   "display_name": "Python 3 (ipykernel)",
   "language": "python",
   "name": "python3"
  },
  "language_info": {
   "codemirror_mode": {
    "name": "ipython",
    "version": 3
   },
   "file_extension": ".py",
   "mimetype": "text/x-python",
   "name": "python",
   "nbconvert_exporter": "python",
   "pygments_lexer": "ipython3",
   "version": "3.11.10"
  },
  "widgets": {
   "application/vnd.jupyter.widget-state+json": {
    "state": {},
    "version_major": 2,
    "version_minor": 0
   }
  }
 },
 "nbformat": 4,
 "nbformat_minor": 5
}
