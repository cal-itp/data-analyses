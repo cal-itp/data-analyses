{
 "cells": [
  {
   "cell_type": "code",
   "execution_count": 1,
   "id": "859f6203-1b64-48ca-9054-b73c4e907d71",
   "metadata": {},
   "outputs": [],
   "source": [
    "import os\n",
    "os.environ[\"CALITP_BQ_MAX_BYTES\"] = str(1_000_000_000_000) ## 1TB?"
   ]
  },
  {
   "cell_type": "code",
   "execution_count": 28,
   "id": "fb9265e6-9510-443b-bd91-a7a7ea5dd022",
   "metadata": {},
   "outputs": [],
   "source": [
    "import geopandas as gpd\n",
    "import pandas as pd\n",
    "from siuba import *\n",
    "import numpy as np\n",
    "\n",
    "from segment_speed_utils import helpers, gtfs_schedule_wrangling\n",
    "from shared_utils import rt_utils\n",
    "\n",
    "import sys\n",
    "sys.path.append('./scripts/')\n",
    "\n",
    "from calitp_data_analysis import geography_utils"
   ]
  },
  {
   "cell_type": "code",
   "execution_count": 3,
   "id": "a89ad0f5-ef8b-4039-87e9-553508b41b16",
   "metadata": {},
   "outputs": [],
   "source": [
    "from update_vars import (analysis_date, EXPORT_PATH, GCS_FILE_PATH, PROJECT_CRS,\n",
    "SEGMENT_BUFFER_METERS, HQ_TRANSIT_THRESHOLD, MS_TRANSIT_THRESHOLD, SHARED_STOP_THRESHOLD,\n",
    "                        HALF_MILE_BUFFER_METERS, INTERSECTION_BUFFER_METERS)"
   ]
  },
  {
   "cell_type": "code",
   "execution_count": 4,
   "id": "1a95b142-2934-4bdd-88bf-e8a020a9cf99",
   "metadata": {
    "tags": []
   },
   "outputs": [],
   "source": [
    "import prep_pairwise_intersections"
   ]
  },
  {
   "cell_type": "code",
   "execution_count": 5,
   "id": "4d401895-bb2a-45c9-a9d4-9ee97ae4d183",
   "metadata": {
    "tags": []
   },
   "outputs": [],
   "source": [
    "# !pip install calitp-data-analysis==2025.6.24\n",
    "from calitp_data_analysis.gcs_geopandas import GCSGeoPandas\n",
    "gcsgp = GCSGeoPandas()"
   ]
  },
  {
   "cell_type": "code",
   "execution_count": 6,
   "id": "fad2ef2f-6fe9-4de1-a95e-0fa2af28e496",
   "metadata": {
    "tags": []
   },
   "outputs": [],
   "source": [
    "import pyproj\n",
    "geodesic = pyproj.Geod(ellps=\"WGS84\")"
   ]
  },
  {
   "cell_type": "markdown",
   "id": "6473a929-58ad-46e7-ba4d-8a6913d0be3b",
   "metadata": {
    "jp-MarkdownHeadingCollapsed": true,
    "tags": []
   },
   "source": [
    "## Refine intersections with azimuth"
   ]
  },
  {
   "cell_type": "code",
   "execution_count": 7,
   "id": "3573220d-b788-4a54-8206-83ec48e932f2",
   "metadata": {
    "tags": []
   },
   "outputs": [],
   "source": [
    "# corridors = prep_pairwise_intersections.prep_bus_corridors(is_ms_precursor=True)"
   ]
  },
  {
   "cell_type": "code",
   "execution_count": 8,
   "id": "e2b2244d-f2e6-4574-885d-0499f2c03a30",
   "metadata": {
    "tags": []
   },
   "outputs": [],
   "source": [
    "# corridors.columns"
   ]
  },
  {
   "cell_type": "code",
   "execution_count": 9,
   "id": "2ba6329a-c78f-462c-9672-4fb38db6f37f",
   "metadata": {
    "tags": []
   },
   "outputs": [],
   "source": [
    "# segments = gcsgp.read_parquet(f'{GCS_FILE_PATH}hqta_segments.parquet')"
   ]
  },
  {
   "cell_type": "code",
   "execution_count": 10,
   "id": "033fad84-2240-424a-8163-66546c9fd161",
   "metadata": {
    "tags": []
   },
   "outputs": [],
   "source": [
    "# segments = rt_utils.add_origin_destination(segments.to_crs(geography_utils.WGS84))"
   ]
  },
  {
   "cell_type": "code",
   "execution_count": null,
   "id": "644e32a7-f15e-4e25-9cbf-db40b72f76ad",
   "metadata": {
    "tags": []
   },
   "outputs": [],
   "source": [
    "def add_azimuth(row: pd.Series, geodesic: pyproj.Geod) -> pd.Series:\n",
    "    '''\n",
    "    Given a row of a GeoDataFrame with origin and destination points in WGS84,\n",
    "    find forward and back azimuth. \n",
    "    pyproj method returns signed azimuth -180(south) - -90(west) - 0(north) - +90(east) - +180(south),\n",
    "    convert this to degrees 0-360 and keep the higher one to enable consistent comparison later\n",
    "    '''\n",
    "    # print(geodesic)\n",
    "    long1, lat1 = row.origin.coords[0]\n",
    "    long2, lat2 = row.destination.coords[0]\n",
    "    assert all([abs(x) <= 180 for x in [long1, lat1, long2, lat2]]), 'CRS must be WGS84'\n",
    "    fwd_azimuth, back_azimuth, _distance = geodesic.inv(long1, lat1, long2, lat2, return_back_azimuth=True)\n",
    "    # signed_azimuth_to_360_deg = lambda x: 360 + x if x <= 0 else x\n",
    "    # fwd_azimuth = signed_azimuth_to_360_deg(fwd_azimuth)\n",
    "    # back_azimuth = signed_azimuth_to_360_deg(back_azimuth)\n",
    "    max_azimuth = max(fwd_azimuth, back_azimuth)\n",
    "    row['fwd_azimuth'] = fwd_azimuth\n",
    "    row['back_azimuth'] = back_azimuth\n",
    "    row['max_azimuth'] = max_azimuth\n",
    "    return row"
   ]
  },
  {
   "cell_type": "code",
   "execution_count": null,
   "id": "894a3945-3277-4574-9469-9c3096a87136",
   "metadata": {
    "tags": []
   },
   "outputs": [],
   "source": [
    "# with_azi = segments.apply(add_azimuth, axis=1, geodesic=geodesic) #  added to segments script"
   ]
  },
  {
   "cell_type": "code",
   "execution_count": null,
   "id": "bd2c8685-c824-4d8b-a66d-f894bf7ae55b",
   "metadata": {
    "tags": []
   },
   "outputs": [],
   "source": [
    "signed_azimuth_to_360_deg = lambda x: 360 + x if x < 0 else x"
   ]
  },
  {
   "cell_type": "code",
   "execution_count": null,
   "id": "0b9d2096-1add-4532-a511-9cfb9f48232c",
   "metadata": {
    "tags": []
   },
   "outputs": [],
   "source": [
    "signed_azimuth_to_360_deg(-179)"
   ]
  },
  {
   "cell_type": "code",
   "execution_count": null,
   "id": "220fa885-b9dc-4f31-afc2-d351f584c12f",
   "metadata": {
    "tags": []
   },
   "outputs": [],
   "source": [
    "signed_azimuth_to_360_deg(179)"
   ]
  },
  {
   "cell_type": "code",
   "execution_count": null,
   "id": "3cceed2a-92da-4a13-ba3a-bcc5f884c3fe",
   "metadata": {
    "tags": []
   },
   "outputs": [],
   "source": [
    "corridors.head(3)"
   ]
  },
  {
   "cell_type": "code",
   "execution_count": null,
   "id": "7d1e7649-1410-4fa1-ab96-0a871ad6321e",
   "metadata": {
    "tags": []
   },
   "outputs": [],
   "source": [
    "import altair as alt\n",
    "# alt.data_transformers.enable(\"vegafusion\")\n",
    "data = corridors[['fwd_azimuth_360', 'segment_direction']].sample(4999) #  sample to avoid needing vegafusion for this visual\n",
    "alt.Chart(data, title = 'HQTA Segment Directions and Azimuth').mark_bar().encode(\n",
    "    # x=alt.X('azimuth'),\n",
    "    x=alt.X('fwd_azimuth_360', bin=alt.Bin(step=5)),\n",
    "    y='count()',\n",
    "    color='segment_direction'\n",
    ")"
   ]
  },
  {
   "cell_type": "code",
   "execution_count": null,
   "id": "1903f2c6-7edc-4f18-b857-bfd1f59e979b",
   "metadata": {
    "tags": []
   },
   "outputs": [],
   "source": [
    "corridors.explore(column='fwd_azimuth_360')"
   ]
  },
  {
   "cell_type": "code",
   "execution_count": null,
   "id": "30f30648-3390-4ea8-b49a-cd28856ee0ea",
   "metadata": {
    "tags": []
   },
   "outputs": [],
   "source": [
    "back_azi = lambda x: x - 180 if x >= 180 else x + 180\n",
    "\n",
    "def azimuth_360_compare(azi1, azi2):\n",
    "    if azi1 >= azi2:\n",
    "        return azi1 - azi2\n",
    "    else:\n",
    "        return azi2 - azi1"
   ]
  },
  {
   "cell_type": "code",
   "execution_count": null,
   "id": "2650b057-ebf3-4c15-87f4-da86d97a837e",
   "metadata": {
    "tags": []
   },
   "outputs": [],
   "source": [
    "def find_intersections_azimuth(azi1, azi2, threshold_degrees = 45):\n",
    "    back_azi_2 = back_azi(azi2)\n",
    "    back_azi_1 = back_azi(azi1)\n",
    "    to_compare = [(azi1, azi2), (azi1, back_azi_2), (back_azi_1, azi2), (back_azi_1, back_azi_2)]\n",
    "    compare_all = [azimuth_360_compare(x, y) for x, y in to_compare]\n",
    "    # print(compare_all)\n",
    "    return not(any([x <= threshold_degrees for x in compare_all]))"
   ]
  },
  {
   "cell_type": "code",
   "execution_count": null,
   "id": "65a18e9f-ec68-431d-97ad-daf47dca968b",
   "metadata": {
    "tags": []
   },
   "outputs": [],
   "source": [
    "find_intersections_azimuth(179, 358)"
   ]
  },
  {
   "cell_type": "code",
   "execution_count": null,
   "id": "2a5c3261-dbd6-4e40-836d-c36f6f07422c",
   "metadata": {
    "tags": []
   },
   "outputs": [],
   "source": [
    "find_intersections_azimuth(10, 350)"
   ]
  },
  {
   "cell_type": "code",
   "execution_count": null,
   "id": "b653cec9-5053-4b7f-8477-e2015d86f3ab",
   "metadata": {
    "tags": []
   },
   "outputs": [],
   "source": [
    "find_intersections_azimuth(350, 0)"
   ]
  },
  {
   "cell_type": "code",
   "execution_count": null,
   "id": "1c83f9f4-eaa6-499a-adc7-97252916faad",
   "metadata": {
    "tags": []
   },
   "outputs": [],
   "source": [
    "find_intersections_azimuth(60, 100)"
   ]
  },
  {
   "cell_type": "code",
   "execution_count": null,
   "id": "a0f49464-a6c1-4d33-98a8-196368d852b4",
   "metadata": {
    "tags": []
   },
   "outputs": [],
   "source": [
    "find_intersections_azimuth(39, 12)"
   ]
  },
  {
   "cell_type": "code",
   "execution_count": null,
   "id": "a185f83e-4636-4889-95da-5bc80b920e56",
   "metadata": {
    "tags": []
   },
   "outputs": [],
   "source": [
    "find_intersections_azimuth(45, 359)"
   ]
  },
  {
   "cell_type": "markdown",
   "id": "2e8ceff9-6118-4886-ac1d-595df885cf31",
   "metadata": {
    "jp-MarkdownHeadingCollapsed": true,
    "tags": []
   },
   "source": [
    "## test new corridors function"
   ]
  },
  {
   "cell_type": "code",
   "execution_count": null,
   "id": "3c91bcec-a5b3-4ff5-91d3-4194337add60",
   "metadata": {
    "tags": []
   },
   "outputs": [],
   "source": [
    "def sjoin_against_other_operators(\n",
    "    in_group_df: gpd.GeoDataFrame, \n",
    "    out_group_df: gpd.GeoDataFrame\n",
    ") -> pd.DataFrame: \n",
    "    \"\"\"\n",
    "    Spatial join of the in group vs the out group. \n",
    "    This could be the operator vs other operators, \n",
    "    or a route vs other routes. This is currently\n",
    "    east-west vs north-south segments, which requires\n",
    "    the additional step of excluding intersections\n",
    "    resulting from the same route changing direction.\n",
    "    \n",
    "    Create a crosswalk / pairwise table showing these links.\n",
    "    \n",
    "    Compile all of them, because finding intersections is \n",
    "    computationally expensive,\n",
    "    so we want to do it on fewer rows. \n",
    "    \"\"\"\n",
    "    route_cols = [\"hqta_segment_id\", \"segment_direction\", \"route_key\", \"fwd_azimuth_360\"]\n",
    "    \n",
    "    #  TODO replace with other dropping step\n",
    "    in_group_df = in_group_df[in_group_df[\"segment_direction\"] != \"inconclusive\"]\n",
    "    out_group_df = out_group_df[out_group_df[\"segment_direction\"] != \"inconclusive\"]\n",
    "    \n",
    "    s1 = gpd.sjoin(\n",
    "        in_group_df[route_cols + [\"geometry\"]], \n",
    "        out_group_df[route_cols  + [\"geometry\"]],\n",
    "        how = \"inner\",\n",
    "        predicate = \"intersects\"\n",
    "    ).drop(columns = [\"index_right\", \"geometry\"])\n",
    "    \n",
    "    s1 = s1[s1[\"route_key_left\"] != s1[\"route_key_right\"]]\n",
    "            \n",
    "    route_pairs = (\n",
    "        s1.rename(\n",
    "            columns = {\n",
    "                \"hqta_segment_id_left\": \"hqta_segment_id\",\n",
    "                \"hqta_segment_id_right\": \"intersect_hqta_segment_id\",\n",
    "                \"fwd_azimuth_360_left\": \"fwd_azimuth_360\",\n",
    "                \"fwd_azimuth_360_right\": \"intersect_fwd_azimuth_360\"\n",
    "            })\n",
    "          [[\"hqta_segment_id\", \"intersect_hqta_segment_id\", \"fwd_azimuth_360\", \"intersect_fwd_azimuth_360\"]]\n",
    "          .drop_duplicates()\n",
    "          .reset_index(drop=True)\n",
    "    )\n",
    "    route_pairs = route_pairs.assign(intersect = route_pairs.apply(lambda x: find_intersections_azimuth(x.fwd_azimuth_360, x.intersect_fwd_azimuth_360), axis=1))\n",
    "    # print(route_pairs.empty)\n",
    "    return route_pairs.query('intersect')"
   ]
  },
  {
   "cell_type": "code",
   "execution_count": null,
   "id": "323d760b-428a-4be8-baf5-88ae0105bdae",
   "metadata": {
    "tags": []
   },
   "outputs": [],
   "source": [
    "find_intersections_azimuth(59, 21)"
   ]
  },
  {
   "cell_type": "code",
   "execution_count": null,
   "id": "235ed4cb-9b36-4342-bc44-a087186aaab6",
   "metadata": {
    "tags": []
   },
   "outputs": [],
   "source": [
    "test_ecr = sjoin_against_other_operators(corridors.query('route_id == \"Rapid 522\"'), corridors.query('route_id != \"Rapid 522\"'))"
   ]
  },
  {
   "cell_type": "code",
   "execution_count": null,
   "id": "84afc532-6352-4b5b-a5c0-8adc3df31848",
   "metadata": {
    "tags": []
   },
   "outputs": [],
   "source": [
    "def pairwise_intersections(\n",
    "    corridors_gdf: gpd.GeoDataFrame\n",
    ") -> gpd.GeoDataFrame:\n",
    "    \"\"\"\n",
    "    Do pairwise comparisons of hqta segments.\n",
    "    Take all the north-south segments and compare to east-west\n",
    "    and vice versa.\n",
    "    \"\"\"\n",
    "    # Route intersections across operators\n",
    "    # east_west = corridors_gdf[corridors_gdf.segment_direction == \"east-west\"]\n",
    "    # north_south = corridors_gdf[corridors_gdf.segment_direction == \"north-south\"]\n",
    "    \n",
    "    results = [\n",
    "        sjoin_against_other_operators(corridors.query('route_key == @route_key'),\n",
    "                                      corridors.query('route_key != @route_key'))\n",
    "        for route_key in corridors_gdf.route_key.unique()\n",
    "    ]\n",
    "    \n",
    "    pairs = pd.concat(results, axis=0, ignore_index=True)\n",
    "    \n",
    "    segments_p1 = pairs.hqta_segment_id.unique()\n",
    "    segments_p2 = pairs.intersect_hqta_segment_id.unique()\n",
    "    \n",
    "    # Subset the hqta segments that do have hq_transit_corr == True \n",
    "    # down to the ones where routes have with sjoin intersections\n",
    "    corridors2 = (\n",
    "        corridors_gdf[\n",
    "            (corridors_gdf.hqta_segment_id.isin(segments_p1)) | \n",
    "            (corridors_gdf.hqta_segment_id.isin(segments_p2))]\n",
    "        .drop_duplicates()\n",
    "        .sort_values(\n",
    "            [\"schedule_gtfs_dataset_key\", \"route_id\", \"hqta_segment_id\"], \n",
    "            ascending = [True, True, True])\n",
    "        .reset_index(drop=True)\n",
    "    )\n",
    "    \n",
    "    return pairs, corridors2"
   ]
  },
  {
   "cell_type": "code",
   "execution_count": null,
   "id": "ef7977ac-4fc5-4876-807a-eb8f64c55edf",
   "metadata": {
    "tags": []
   },
   "outputs": [],
   "source": [
    "pairs, corridors2 = pairwise_intersections(corridors)"
   ]
  },
  {
   "cell_type": "code",
   "execution_count": null,
   "id": "e77377d2-c6ec-496b-8e1a-8429326eef9a",
   "metadata": {
    "tags": []
   },
   "outputs": [],
   "source": [
    "import get_intersections"
   ]
  },
  {
   "cell_type": "code",
   "execution_count": null,
   "id": "e9c0207a-8217-4cfd-8324-d03deca48fe9",
   "metadata": {
    "tags": []
   },
   "outputs": [],
   "source": [
    "pairs_table = get_intersections.attach_geometry_to_pairs(corridors2, pairs)"
   ]
  },
  {
   "cell_type": "code",
   "execution_count": null,
   "id": "4328ba6c-a73f-4f86-84d2-5d0ae1cdaaef",
   "metadata": {
    "tags": []
   },
   "outputs": [],
   "source": [
    "results = get_intersections.find_intersections(pairs_table)"
   ]
  },
  {
   "cell_type": "code",
   "execution_count": null,
   "id": "229fe6ae-7360-4d4d-b9a9-a1038c7ce89c",
   "metadata": {
    "tags": []
   },
   "outputs": [],
   "source": [
    "results"
   ]
  },
  {
   "cell_type": "markdown",
   "id": "f28681cc-332f-4c2a-be6e-25f885d3bbbd",
   "metadata": {},
   "source": [
    "### create_bus_hqta_types"
   ]
  },
  {
   "cell_type": "code",
   "execution_count": null,
   "id": "116347fc-e2bf-4866-bf1b-d31bf3cab806",
   "metadata": {
    "tags": []
   },
   "outputs": [],
   "source": [
    "import create_bus_hqta_types"
   ]
  },
  {
   "cell_type": "code",
   "execution_count": null,
   "id": "08db7a26-b806-4f4a-9270-43206bda04b5",
   "metadata": {
    "tags": []
   },
   "outputs": [],
   "source": [
    "def buffer_around_intersections(gdf, buffer_size: int) -> gpd.GeoDataFrame: \n",
    "    \"\"\"\n",
    "    Draw 500 ft buffers around intersections to better catch stops\n",
    "    that might fall within it.\n",
    "    \"\"\"\n",
    "#     gdf = gpd.read_parquet(\n",
    "#         f\"{GCS_FILE_PATH}all_intersections.parquet\",\n",
    "#         storage_options={\"token\": credentials.token}\n",
    "#     )\n",
    "    \n",
    "    gdf = gdf.assign(\n",
    "        geometry = gdf.geometry.buffer(buffer_size)\n",
    "    )\n",
    "\n",
    "    return gdf "
   ]
  },
  {
   "cell_type": "code",
   "execution_count": null,
   "id": "e0cb2f8a-e475-4915-b551-e86b7ac9af75",
   "metadata": {
    "tags": []
   },
   "outputs": [],
   "source": [
    "bus_intersections = buffer_around_intersections(results, INTERSECTION_BUFFER_METERS)"
   ]
  },
  {
   "cell_type": "code",
   "execution_count": null,
   "id": "a04b1640-9c28-48b4-b6b1-95006daf391b",
   "metadata": {
    "tags": []
   },
   "outputs": [],
   "source": [
    "# Grab point geom with all stops\n",
    "gtfs_keys = helpers.import_scheduled_trips(\n",
    "    analysis_date,\n",
    "    columns = [\"feed_key\", \"gtfs_dataset_key\"],\n",
    "    get_pandas=True\n",
    ")\n",
    "\n",
    "all_stops = helpers.import_scheduled_stops(\n",
    "    analysis_date,\n",
    "    get_pandas = True,\n",
    "    columns = [\"feed_key\", \"stop_id\", \"geometry\"],\n",
    "    crs = PROJECT_CRS\n",
    ").merge(\n",
    "    gtfs_keys,\n",
    "    on = \"feed_key\",\n",
    ").drop(columns = \"feed_key\")"
   ]
  },
  {
   "cell_type": "code",
   "execution_count": null,
   "id": "e95a0613-decf-4e06-a13e-dbc07c4f7c8b",
   "metadata": {
    "tags": []
   },
   "outputs": [],
   "source": [
    "major_stop_bus_testing = create_bus_hqta_types.create_major_stop_bus(all_stops, bus_intersections)"
   ]
  },
  {
   "cell_type": "code",
   "execution_count": null,
   "id": "f1c313e1-2c70-4d14-b3cc-3cef2d7d8bd6",
   "metadata": {
    "tags": []
   },
   "outputs": [],
   "source": [
    "major_stop_bus_testing"
   ]
  },
  {
   "cell_type": "markdown",
   "id": "625cbd4e-eba9-4aad-b302-9086f472adc3",
   "metadata": {},
   "source": [
    "### current pipeline result"
   ]
  },
  {
   "cell_type": "code",
   "execution_count": null,
   "id": "8b54f28d-32f8-457f-b401-547f2a5590dd",
   "metadata": {
    "tags": []
   },
   "outputs": [],
   "source": [
    "major_stop_bus = gcsgp.read_parquet(f'{GCS_FILE_PATH}major_stop_bus.parquet')"
   ]
  },
  {
   "cell_type": "code",
   "execution_count": null,
   "id": "4fca4740-ef83-4c9d-b541-a35cccca75a7",
   "metadata": {
    "tags": []
   },
   "outputs": [],
   "source": [
    "major_stop_bus"
   ]
  },
  {
   "cell_type": "code",
   "execution_count": null,
   "id": "f2351fe0-4b25-486c-a356-c88c53bf8f5d",
   "metadata": {
    "tags": []
   },
   "outputs": [],
   "source": [
    "from shared_utils import webmap_utils"
   ]
  },
  {
   "cell_type": "code",
   "execution_count": null,
   "id": "1118f23d-9cfc-4e76-9108-434a4c638339",
   "metadata": {
    "tags": []
   },
   "outputs": [],
   "source": [
    "import branca"
   ]
  },
  {
   "cell_type": "code",
   "execution_count": null,
   "id": "233ea763-cd2b-4099-bc41-2527753d6066",
   "metadata": {
    "tags": []
   },
   "outputs": [],
   "source": [
    "cmap = branca.colormap.step.Spectral_04.scale(vmin=0, vmax=4)"
   ]
  },
  {
   "cell_type": "code",
   "execution_count": null,
   "id": "08da435e-0c77-4a72-be5a-948cc15bc948",
   "metadata": {
    "tags": []
   },
   "outputs": [],
   "source": [
    "cmap"
   ]
  },
  {
   "cell_type": "code",
   "execution_count": null,
   "id": "a59aeac7-2cc7-4e0c-91ab-7c899307552d",
   "metadata": {
    "tags": []
   },
   "outputs": [],
   "source": [
    "major_stop_bus['iteration'] = 0\n",
    "major_stop_bus_testing['iteration'] = 4"
   ]
  },
  {
   "cell_type": "code",
   "execution_count": null,
   "id": "3a5cb089-395a-4832-a475-1b0a8e2f1971",
   "metadata": {
    "tags": []
   },
   "outputs": [],
   "source": [
    "gdf = pd.concat([major_stop_bus, major_stop_bus_testing])"
   ]
  },
  {
   "cell_type": "code",
   "execution_count": null,
   "id": "a06d5c8f-4114-45ee-acba-562d3f0b88db",
   "metadata": {
    "tags": []
   },
   "outputs": [],
   "source": [
    "color_state = webmap_utils.set_state_export(gdf, filename='test_azimuth_mts_2', map_title='Azimuth for Major Transit Stops',\n",
    "                                             cmap=cmap, color_col='iteration')"
   ]
  },
  {
   "cell_type": "code",
   "execution_count": null,
   "id": "2de3b8c7-ecc7-42d8-975d-cddf5e40828b",
   "metadata": {
    "tags": []
   },
   "outputs": [],
   "source": [
    "color_state"
   ]
  },
  {
   "cell_type": "code",
   "execution_count": null,
   "id": "ddcb40d7-a9cb-4fb4-b616-8d6f3fd77205",
   "metadata": {
    "tags": []
   },
   "outputs": [],
   "source": [
    "major_stop_bus.geometry = major_stop_bus.buffer(HALF_MILE_BUFFER_METERS)\n",
    "major_stop_bus_testing.geometry = major_stop_bus_testing.buffer(HALF_MILE_BUFFER_METERS)"
   ]
  },
  {
   "cell_type": "code",
   "execution_count": null,
   "id": "cb13f6df-1de6-404c-808a-c190fe6c53c7",
   "metadata": {
    "tags": []
   },
   "outputs": [],
   "source": [
    "major_stop_bus.dissolve().geometry.area"
   ]
  },
  {
   "cell_type": "code",
   "execution_count": null,
   "id": "3c6bff5d-c493-4504-9c95-21cfc02aa08e",
   "metadata": {
    "tags": []
   },
   "outputs": [],
   "source": [
    "major_stop_bus_testing.dissolve().geometry.area"
   ]
  },
  {
   "cell_type": "code",
   "execution_count": null,
   "id": "92090b7f-a24a-498f-972b-4123c3d7660f",
   "metadata": {
    "tags": []
   },
   "outputs": [],
   "source": [
    "m = major_stop_bus.dissolve().overlay(major_stop_bus_testing.dissolve(), how='difference').explore(color='red')"
   ]
  },
  {
   "cell_type": "code",
   "execution_count": null,
   "id": "8534ff7a-c724-4930-9e58-1b2f4cdcdbc9",
   "metadata": {
    "tags": []
   },
   "outputs": [],
   "source": [
    "major_stop_bus_testing.dissolve().overlay(major_stop_bus.dissolve(), how='difference').explore(m=m)"
   ]
  },
  {
   "cell_type": "markdown",
   "id": "fe9fd60d-9d79-40f0-a5c7-a75686c208b6",
   "metadata": {},
   "source": [
    "## Lookback\n",
    "\n",
    "* `rail_ferry_brt_stops`\n",
    "* `create_hqta_segments`\n",
    "* `create_aggregate_stop_frequencies`\n",
    "* `sjoin_stops_to_segments`\n",
    "* `create_bus_hqta_types`\n",
    "* `assemble_hqta_points`\n",
    "* `assemble_hqta_polygons`\n",
    "    - `assemble_hqta_points.get_agency_info` only"
   ]
  },
  {
   "cell_type": "code",
   "execution_count": 7,
   "id": "3730e610-98d4-4671-a1e7-66ef470e4658",
   "metadata": {},
   "outputs": [],
   "source": [
    "import datetime as dt\n",
    "import yaml\n",
    "from shared_utils import catalog_utils, publish_utils"
   ]
  },
  {
   "cell_type": "code",
   "execution_count": 8,
   "id": "edbd2d71-5bfe-4ffb-8782-ca7ee12d3a7b",
   "metadata": {
    "tags": []
   },
   "outputs": [
    {
     "data": {
      "text/plain": [
       "<module 'lookback_wrappers' from '/home/jovyan/data-analyses/high_quality_transit_areas/lookback_wrappers.py'>"
      ]
     },
     "execution_count": 8,
     "metadata": {},
     "output_type": "execute_result"
    }
   ],
   "source": [
    "import lookback_wrappers\n",
    "import importlib\n",
    "importlib.reload(lookback_wrappers)"
   ]
  },
  {
   "cell_type": "code",
   "execution_count": 9,
   "id": "7f19a74c-5bf7-4f1f-82f4-7cb8e7c28d95",
   "metadata": {
    "tags": []
   },
   "outputs": [],
   "source": [
    "published_operators_yaml = \"../gtfs_funnel/published_operators.yml\"\n",
    "lookback_days = 90\n",
    "    \n",
    "    # Read in the published operators file\n",
    "with open(published_operators_yaml) as f:\n",
    "    published_operators_dict = yaml.safe_load(f)"
   ]
  },
  {
   "cell_type": "code",
   "execution_count": 10,
   "id": "eac26a23-5fd2-4889-815d-77072eb03d64",
   "metadata": {
    "tags": []
   },
   "outputs": [],
   "source": [
    "published_operators_dict = lookback_wrappers.read_published_operators(analysis_date)"
   ]
  },
  {
   "cell_type": "code",
   "execution_count": 11,
   "id": "23229189-399b-42e9-a905-91ad6c57a11b",
   "metadata": {
    "tags": []
   },
   "outputs": [
    {
     "data": {
      "text/plain": [
       "{'2025-03-12': ['Imperial Valley Transit Schedule',\n",
       "  'Bay Area 511 Rio Vista Delta Breeze Schedule'],\n",
       " '2025-04-16': ['Glenn Schedule'],\n",
       " '2025-05-14': ['LAX FlyAway Schedule',\n",
       "  'Morro Bay Cal-ITP Schedule',\n",
       "  'Bay Area 511 Golden Gate Ferry Schedule',\n",
       "  'Long Beach Schedule',\n",
       "  'Arvin Schedule',\n",
       "  'Bellflower Bus Schedule',\n",
       "  'Sacramento Schedule',\n",
       "  'SBMTD Schedule']}"
      ]
     },
     "execution_count": 11,
     "metadata": {},
     "output_type": "execute_result"
    }
   ],
   "source": [
    "published_operators_dict"
   ]
  },
  {
   "cell_type": "code",
   "execution_count": 12,
   "id": "5b1a1ed8-cb97-4c8a-9016-453e8ab39889",
   "metadata": {
    "tags": []
   },
   "outputs": [],
   "source": [
    "GTFS_DATA_DICT = catalog_utils.get_catalog(\"gtfs_analytics_data\")"
   ]
  },
  {
   "cell_type": "code",
   "execution_count": 13,
   "id": "8d51bfec-8e32-455f-a17e-43e55b522197",
   "metadata": {
    "tags": []
   },
   "outputs": [
    {
     "data": {
      "text/plain": [
       "'crosswalk/gtfs_key_organization'"
      ]
     },
     "execution_count": 13,
     "metadata": {},
     "output_type": "execute_result"
    }
   ],
   "source": [
    "GTFS_DATA_DICT.schedule_tables.gtfs_key_crosswalk"
   ]
  },
  {
   "cell_type": "code",
   "execution_count": 14,
   "id": "d14567f3-aaf4-4e6f-9370-6fd4962260f0",
   "metadata": {
    "tags": []
   },
   "outputs": [
    {
     "data": {
      "text/plain": [
       "'gs://calitp-analytics-data/data-analyses/gtfs_schedule/'"
      ]
     },
     "execution_count": 14,
     "metadata": {},
     "output_type": "execute_result"
    }
   ],
   "source": [
    "GTFS_DATA_DICT.schedule_tables.dir"
   ]
  },
  {
   "cell_type": "code",
   "execution_count": 15,
   "id": "663acff8-5833-4dc5-bc7a-ba128f773eba",
   "metadata": {
    "tags": []
   },
   "outputs": [],
   "source": [
    "may_date = '2025-05-14'"
   ]
  },
  {
   "cell_type": "code",
   "execution_count": 16,
   "id": "ae766223-2cae-4b67-912d-b8af135e7872",
   "metadata": {
    "tags": []
   },
   "outputs": [],
   "source": [
    "trips_cols = [\n",
    "            \"name\", \"feed_key\", \"trip_id\",\n",
    "            \"route_id\", \"route_type\", \"route_desc\",\n",
    "            \"gtfs_dataset_key\", \"shape_array_key\"\n",
    "        ]"
   ]
  },
  {
   "cell_type": "code",
   "execution_count": 17,
   "id": "eec01585-8af7-4cc5-ac05-646dd9715001",
   "metadata": {
    "tags": []
   },
   "outputs": [],
   "source": [
    "def get_lookback_trips(published_operators_dict, trips_cols):\n",
    "    lookback_trips = []\n",
    "    for date in published_operators_dict.keys():\n",
    "        lookback_trips += [helpers.import_scheduled_trips(date, filters=[['name', 'in', published_operators_dict[date]]],\n",
    "                                  columns=trips_cols)]\n",
    "    return pd.concat(lookback_trips)"
   ]
  },
  {
   "cell_type": "code",
   "execution_count": 18,
   "id": "744e7b70-c1d5-4f28-8869-bcc3fa83b5fe",
   "metadata": {
    "tags": []
   },
   "outputs": [],
   "source": [
    "lookback_trips = get_lookback_trips(published_operators_dict, trips_cols)"
   ]
  },
  {
   "cell_type": "code",
   "execution_count": 19,
   "id": "dd764ebe-11b0-45da-a612-e5010031b0b5",
   "metadata": {
    "tags": []
   },
   "outputs": [
    {
     "data": {
      "text/html": [
       "<div>\n",
       "<style scoped>\n",
       "    .dataframe tbody tr th:only-of-type {\n",
       "        vertical-align: middle;\n",
       "    }\n",
       "\n",
       "    .dataframe tbody tr th {\n",
       "        vertical-align: top;\n",
       "    }\n",
       "\n",
       "    .dataframe thead th {\n",
       "        text-align: right;\n",
       "    }\n",
       "</style>\n",
       "<table border=\"1\" class=\"dataframe\">\n",
       "  <thead>\n",
       "    <tr style=\"text-align: right;\">\n",
       "      <th></th>\n",
       "      <th>name</th>\n",
       "      <th>feed_key</th>\n",
       "      <th>trip_id</th>\n",
       "      <th>route_id</th>\n",
       "      <th>route_type</th>\n",
       "      <th>route_desc</th>\n",
       "      <th>schedule_gtfs_dataset_key</th>\n",
       "      <th>shape_array_key</th>\n",
       "    </tr>\n",
       "  </thead>\n",
       "  <tbody>\n",
       "    <tr>\n",
       "      <th>0</th>\n",
       "      <td>Imperial Valley Transit Schedule</td>\n",
       "      <td>cdd0c7f4c8f78f1805af16d34b8ed0c3</td>\n",
       "      <td>010314</td>\n",
       "      <td>1</td>\n",
       "      <td>3</td>\n",
       "      <td>None</td>\n",
       "      <td>fe4aab1717eca5a2935c32c85a35a5bf</td>\n",
       "      <td>2e7565e0f7520c62b8210f9ba512e33e</td>\n",
       "    </tr>\n",
       "    <tr>\n",
       "      <th>1</th>\n",
       "      <td>Imperial Valley Transit Schedule</td>\n",
       "      <td>cdd0c7f4c8f78f1805af16d34b8ed0c3</td>\n",
       "      <td>010300</td>\n",
       "      <td>1</td>\n",
       "      <td>3</td>\n",
       "      <td>None</td>\n",
       "      <td>fe4aab1717eca5a2935c32c85a35a5bf</td>\n",
       "      <td>2e7565e0f7520c62b8210f9ba512e33e</td>\n",
       "    </tr>\n",
       "    <tr>\n",
       "      <th>2</th>\n",
       "      <td>Imperial Valley Transit Schedule</td>\n",
       "      <td>cdd0c7f4c8f78f1805af16d34b8ed0c3</td>\n",
       "      <td>010316</td>\n",
       "      <td>1</td>\n",
       "      <td>3</td>\n",
       "      <td>None</td>\n",
       "      <td>fe4aab1717eca5a2935c32c85a35a5bf</td>\n",
       "      <td>2e7565e0f7520c62b8210f9ba512e33e</td>\n",
       "    </tr>\n",
       "  </tbody>\n",
       "</table>\n",
       "</div>"
      ],
      "text/plain": [
       "                               name                          feed_key trip_id  \\\n",
       "0  Imperial Valley Transit Schedule  cdd0c7f4c8f78f1805af16d34b8ed0c3  010314   \n",
       "1  Imperial Valley Transit Schedule  cdd0c7f4c8f78f1805af16d34b8ed0c3  010300   \n",
       "2  Imperial Valley Transit Schedule  cdd0c7f4c8f78f1805af16d34b8ed0c3  010316   \n",
       "\n",
       "  route_id route_type route_desc         schedule_gtfs_dataset_key  \\\n",
       "0        1          3       None  fe4aab1717eca5a2935c32c85a35a5bf   \n",
       "1        1          3       None  fe4aab1717eca5a2935c32c85a35a5bf   \n",
       "2        1          3       None  fe4aab1717eca5a2935c32c85a35a5bf   \n",
       "\n",
       "                    shape_array_key  \n",
       "0  2e7565e0f7520c62b8210f9ba512e33e  \n",
       "1  2e7565e0f7520c62b8210f9ba512e33e  \n",
       "2  2e7565e0f7520c62b8210f9ba512e33e  "
      ]
     },
     "execution_count": 19,
     "metadata": {},
     "output_type": "execute_result"
    }
   ],
   "source": [
    "lookback_trips.head(3)"
   ]
  },
  {
   "cell_type": "code",
   "execution_count": 20,
   "id": "9959b4d9-1b9c-4afa-aece-a61940c70fa2",
   "metadata": {
    "tags": []
   },
   "outputs": [],
   "source": [
    "st_cols = [\"feed_key\", \"trip_id\", \"stop_id\"]"
   ]
  },
  {
   "cell_type": "code",
   "execution_count": 21,
   "id": "e1b9564e-5d9d-472d-a038-e0f241207f1e",
   "metadata": {
    "tags": []
   },
   "outputs": [],
   "source": [
    "def get_lookback_st(published_operators_dict, feed_keys, st_cols = st_cols):\n",
    "    lookback_st = []\n",
    "    for date in published_operators_dict.keys():\n",
    "        st = helpers.import_scheduled_stop_times(\n",
    "            date,\n",
    "            columns = st_cols,\n",
    "            filters = [[\"feed_key\", \"in\", feed_keys]],\n",
    "            with_direction = False, #  required to include rail/ferry/brt stops w/out shapes\n",
    "            get_pandas = True\n",
    "        )\n",
    "        # display(st)\n",
    "        lookback_st += [st]\n",
    "    return pd.concat(lookback_st)"
   ]
  },
  {
   "cell_type": "code",
   "execution_count": 22,
   "id": "abcbdaac-5901-430c-9b6c-bdbb2ef633a6",
   "metadata": {
    "tags": []
   },
   "outputs": [],
   "source": [
    "lookback_st = get_lookback_st(published_operators_dict, lookback_trips.feed_key.unique())"
   ]
  },
  {
   "cell_type": "code",
   "execution_count": 23,
   "id": "3ef2db7b-833a-4dea-9299-69b26ea8e808",
   "metadata": {},
   "outputs": [
    {
     "data": {
      "text/html": [
       "<div>\n",
       "<style scoped>\n",
       "    .dataframe tbody tr th:only-of-type {\n",
       "        vertical-align: middle;\n",
       "    }\n",
       "\n",
       "    .dataframe tbody tr th {\n",
       "        vertical-align: top;\n",
       "    }\n",
       "\n",
       "    .dataframe thead th {\n",
       "        text-align: right;\n",
       "    }\n",
       "</style>\n",
       "<table border=\"1\" class=\"dataframe\">\n",
       "  <thead>\n",
       "    <tr style=\"text-align: right;\">\n",
       "      <th></th>\n",
       "      <th>feed_key</th>\n",
       "      <th>trip_id</th>\n",
       "      <th>stop_id</th>\n",
       "    </tr>\n",
       "  </thead>\n",
       "  <tbody>\n",
       "    <tr>\n",
       "      <th>0</th>\n",
       "      <td>0f0cd1b91cfdb7c398ac6f028fbfd888</td>\n",
       "      <td>1643</td>\n",
       "      <td>1</td>\n",
       "    </tr>\n",
       "    <tr>\n",
       "      <th>1</th>\n",
       "      <td>0f0cd1b91cfdb7c398ac6f028fbfd888</td>\n",
       "      <td>1642</td>\n",
       "      <td>1</td>\n",
       "    </tr>\n",
       "    <tr>\n",
       "      <th>2</th>\n",
       "      <td>0f0cd1b91cfdb7c398ac6f028fbfd888</td>\n",
       "      <td>1630</td>\n",
       "      <td>1</td>\n",
       "    </tr>\n",
       "  </tbody>\n",
       "</table>\n",
       "</div>"
      ],
      "text/plain": [
       "                           feed_key trip_id stop_id\n",
       "0  0f0cd1b91cfdb7c398ac6f028fbfd888    1643       1\n",
       "1  0f0cd1b91cfdb7c398ac6f028fbfd888    1642       1\n",
       "2  0f0cd1b91cfdb7c398ac6f028fbfd888    1630       1"
      ]
     },
     "execution_count": 23,
     "metadata": {},
     "output_type": "execute_result"
    }
   ],
   "source": [
    "lookback_st.head(3)"
   ]
  },
  {
   "cell_type": "code",
   "execution_count": 24,
   "id": "60bef90d-a970-4495-b3a8-382437bbb799",
   "metadata": {
    "tags": []
   },
   "outputs": [],
   "source": [
    "stops_cols = [\"feed_key\", \"stop_id\", \"stop_name\", \"geometry\"]"
   ]
  },
  {
   "cell_type": "code",
   "execution_count": 25,
   "id": "d940631e-2254-48f0-a3f5-a9b52a56346d",
   "metadata": {
    "tags": []
   },
   "outputs": [],
   "source": [
    "def get_lookback_stops(published_operators_dict, feed_keys, stops_cols = stops_cols):\n",
    "    lookback_stops = []\n",
    "    for date in published_operators_dict.keys():\n",
    "        stops = helpers.import_scheduled_stops(\n",
    "            date,\n",
    "            columns = stops_cols,\n",
    "            filters = [[\"feed_key\", \"in\", feed_keys]],\n",
    "            get_pandas = True\n",
    "        )\n",
    "        # display(st)\n",
    "        lookback_stops += [stops]\n",
    "    return pd.concat(lookback_stops)"
   ]
  },
  {
   "cell_type": "code",
   "execution_count": 26,
   "id": "31f616a3-5cd1-4c11-8e71-18fc049331dd",
   "metadata": {
    "tags": []
   },
   "outputs": [],
   "source": [
    "lookback_stops = get_lookback_stops(published_operators_dict, lookback_trips.feed_key.unique())"
   ]
  },
  {
   "cell_type": "code",
   "execution_count": 27,
   "id": "1346c3fd-86e5-4ca2-800a-89ba6bf5e88f",
   "metadata": {
    "tags": []
   },
   "outputs": [
    {
     "data": {
      "text/html": [
       "<div>\n",
       "<style scoped>\n",
       "    .dataframe tbody tr th:only-of-type {\n",
       "        vertical-align: middle;\n",
       "    }\n",
       "\n",
       "    .dataframe tbody tr th {\n",
       "        vertical-align: top;\n",
       "    }\n",
       "\n",
       "    .dataframe thead th {\n",
       "        text-align: right;\n",
       "    }\n",
       "</style>\n",
       "<table border=\"1\" class=\"dataframe\">\n",
       "  <thead>\n",
       "    <tr style=\"text-align: right;\">\n",
       "      <th></th>\n",
       "      <th>feed_key</th>\n",
       "      <th>stop_id</th>\n",
       "      <th>stop_name</th>\n",
       "      <th>geometry</th>\n",
       "    </tr>\n",
       "  </thead>\n",
       "  <tbody>\n",
       "    <tr>\n",
       "      <th>0</th>\n",
       "      <td>5f59bf642bf4f8f7e1479f5992b9d595</td>\n",
       "      <td>2623823</td>\n",
       "      <td>Bellflower Blvd &amp; Somerset Blvd</td>\n",
       "      <td>POINT (173416.007 -455884.654)</td>\n",
       "    </tr>\n",
       "    <tr>\n",
       "      <th>1</th>\n",
       "      <td>5f59bf642bf4f8f7e1479f5992b9d595</td>\n",
       "      <td>2623825</td>\n",
       "      <td>Bellflower Blvd and Rosencrans Ave</td>\n",
       "      <td>POINT (173403.915 -455343.436)</td>\n",
       "    </tr>\n",
       "    <tr>\n",
       "      <th>2</th>\n",
       "      <td>5f59bf642bf4f8f7e1479f5992b9d595</td>\n",
       "      <td>2623826</td>\n",
       "      <td>Bellflower Blvd-St. Johns High School</td>\n",
       "      <td>POINT (173392.908 -454852.335)</td>\n",
       "    </tr>\n",
       "  </tbody>\n",
       "</table>\n",
       "</div>"
      ],
      "text/plain": [
       "                           feed_key  stop_id  \\\n",
       "0  5f59bf642bf4f8f7e1479f5992b9d595  2623823   \n",
       "1  5f59bf642bf4f8f7e1479f5992b9d595  2623825   \n",
       "2  5f59bf642bf4f8f7e1479f5992b9d595  2623826   \n",
       "\n",
       "                               stop_name                        geometry  \n",
       "0        Bellflower Blvd & Somerset Blvd  POINT (173416.007 -455884.654)  \n",
       "1     Bellflower Blvd and Rosencrans Ave  POINT (173403.915 -455343.436)  \n",
       "2  Bellflower Blvd-St. Johns High School  POINT (173392.908 -454852.335)  "
      ]
     },
     "execution_count": 27,
     "metadata": {},
     "output_type": "execute_result"
    }
   ],
   "source": [
    "lookback_stops.head(3)"
   ]
  },
  {
   "cell_type": "code",
   "execution_count": null,
   "id": "e13e1225-5a40-4e45-989b-efddc3358df1",
   "metadata": {},
   "outputs": [],
   "source": []
  },
  {
   "cell_type": "code",
   "execution_count": 30,
   "id": "84e619ee-6aa1-4074-b044-2d79b8ef447d",
   "metadata": {},
   "outputs": [],
   "source": [
    "def get_lookback_hqta_shapes(published_operators_dict, feed_keys):\n",
    "    \n",
    "    lookback_shapes = []\n",
    "    for date in published_operators_dict.keys():\n",
    "        # Only include certain Amtrak routes\n",
    "        outside_amtrak_shapes = gtfs_schedule_wrangling.amtrak_trips(\n",
    "            analysis_date = date, inside_ca = False).shape_array_key.unique()\n",
    "\n",
    "        gdf = gtfs_schedule_wrangling.longest_shape_by_route_direction(\n",
    "            analysis_date = date\n",
    "        ).query(\n",
    "            'shape_array_key not in @outside_amtrak_shapes & feed_key.isin(@feed_keys)'\n",
    "        ).drop(\n",
    "            columns = [\"feed_key\", \"shape_array_key\", \"route_length\"]\n",
    "        ).fillna({\"direction_id\": 0}).astype({\"direction_id\": \"int\"})\n",
    "        lookback_shapes += [gdf]\n",
    "    return pd.concat(lookback_shapes)"
   ]
  },
  {
   "cell_type": "code",
   "execution_count": 31,
   "id": "82cf1610-de33-4f48-948e-d5e6f801ad29",
   "metadata": {
    "tags": []
   },
   "outputs": [],
   "source": [
    "lookback_hqta_shapes = get_lookback_hqta_shapes(published_operators_dict, lookback_trips.feed_key.unique())"
   ]
  },
  {
   "cell_type": "code",
   "execution_count": 32,
   "id": "632ad759-4658-4c7d-803c-b05798351a3a",
   "metadata": {
    "tags": []
   },
   "outputs": [
    {
     "data": {
      "text/html": [
       "<div>\n",
       "<style scoped>\n",
       "    .dataframe tbody tr th:only-of-type {\n",
       "        vertical-align: middle;\n",
       "    }\n",
       "\n",
       "    .dataframe tbody tr th {\n",
       "        vertical-align: top;\n",
       "    }\n",
       "\n",
       "    .dataframe thead th {\n",
       "        text-align: right;\n",
       "    }\n",
       "</style>\n",
       "<table border=\"1\" class=\"dataframe\">\n",
       "  <thead>\n",
       "    <tr style=\"text-align: right;\">\n",
       "      <th></th>\n",
       "      <th>geometry</th>\n",
       "      <th>schedule_gtfs_dataset_key</th>\n",
       "      <th>route_id</th>\n",
       "      <th>direction_id</th>\n",
       "      <th>route_key</th>\n",
       "    </tr>\n",
       "  </thead>\n",
       "  <tbody>\n",
       "    <tr>\n",
       "      <th>164</th>\n",
       "      <td>LINESTRING (139749.657 -421925.794, 139763.477...</td>\n",
       "      <td>4a3f5fe2e305cc696684d11226ba9878</td>\n",
       "      <td>1</td>\n",
       "      <td>0</td>\n",
       "      <td>47f2a750d318507484e3142abede5f61</td>\n",
       "    </tr>\n",
       "    <tr>\n",
       "      <th>165</th>\n",
       "      <td>LINESTRING (163084.145 -438564.392, 163082.474...</td>\n",
       "      <td>4a3f5fe2e305cc696684d11226ba9878</td>\n",
       "      <td>2</td>\n",
       "      <td>0</td>\n",
       "      <td>17800def41fe8ad6f27479de223db0a3</td>\n",
       "    </tr>\n",
       "    <tr>\n",
       "      <th>166</th>\n",
       "      <td>LINESTRING (147763.839 -450970.618, 147746.213...</td>\n",
       "      <td>4a3f5fe2e305cc696684d11226ba9878</td>\n",
       "      <td>5</td>\n",
       "      <td>0</td>\n",
       "      <td>ee67991f848a2d17547c400a219a945f</td>\n",
       "    </tr>\n",
       "  </tbody>\n",
       "</table>\n",
       "</div>"
      ],
      "text/plain": [
       "                                              geometry  \\\n",
       "164  LINESTRING (139749.657 -421925.794, 139763.477...   \n",
       "165  LINESTRING (163084.145 -438564.392, 163082.474...   \n",
       "166  LINESTRING (147763.839 -450970.618, 147746.213...   \n",
       "\n",
       "            schedule_gtfs_dataset_key route_id  direction_id  \\\n",
       "164  4a3f5fe2e305cc696684d11226ba9878        1             0   \n",
       "165  4a3f5fe2e305cc696684d11226ba9878        2             0   \n",
       "166  4a3f5fe2e305cc696684d11226ba9878        5             0   \n",
       "\n",
       "                            route_key  \n",
       "164  47f2a750d318507484e3142abede5f61  \n",
       "165  17800def41fe8ad6f27479de223db0a3  \n",
       "166  ee67991f848a2d17547c400a219a945f  "
      ]
     },
     "execution_count": 32,
     "metadata": {},
     "output_type": "execute_result"
    }
   ],
   "source": [
    "lookback_hqta_shapes.head(3)"
   ]
  }
 ],
 "metadata": {
  "kernelspec": {
   "display_name": "Python 3 (ipykernel)",
   "language": "python",
   "name": "python3"
  },
  "language_info": {
   "codemirror_mode": {
    "name": "ipython",
    "version": 3
   },
   "file_extension": ".py",
   "mimetype": "text/x-python",
   "name": "python",
   "nbconvert_exporter": "python",
   "pygments_lexer": "ipython3",
   "version": "3.11.10"
  },
  "widgets": {
   "application/vnd.jupyter.widget-state+json": {
    "state": {},
    "version_major": 2,
    "version_minor": 0
   }
  }
 },
 "nbformat": 4,
 "nbformat_minor": 5
}
