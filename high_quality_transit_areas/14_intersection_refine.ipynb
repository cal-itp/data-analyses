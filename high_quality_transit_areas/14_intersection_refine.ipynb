{
 "cells": [
  {
   "cell_type": "code",
   "execution_count": 1,
   "id": "859f6203-1b64-48ca-9054-b73c4e907d71",
   "metadata": {},
   "outputs": [],
   "source": [
    "import os\n",
    "os.environ[\"CALITP_BQ_MAX_BYTES\"] = str(1_000_000_000_000) ## 1TB?"
   ]
  },
  {
   "cell_type": "code",
   "execution_count": 2,
   "id": "fb9265e6-9510-443b-bd91-a7a7ea5dd022",
   "metadata": {},
   "outputs": [],
   "source": [
    "import geopandas as gpd\n",
    "import pandas as pd\n",
    "from siuba import *\n",
    "import numpy as np\n",
    "\n",
    "from segment_speed_utils import helpers, gtfs_schedule_wrangling\n",
    "from shared_utils import rt_utils\n",
    "\n",
    "import sys\n",
    "sys.path.append('./scripts/')\n",
    "\n",
    "from calitp_data_analysis import geography_utils"
   ]
  },
  {
   "cell_type": "code",
   "execution_count": 3,
   "id": "a89ad0f5-ef8b-4039-87e9-553508b41b16",
   "metadata": {},
   "outputs": [],
   "source": [
    "from update_vars import (analysis_date, EXPORT_PATH, GCS_FILE_PATH, PROJECT_CRS,\n",
    "SEGMENT_BUFFER_METERS, HQ_TRANSIT_THRESHOLD, MS_TRANSIT_THRESHOLD, SHARED_STOP_THRESHOLD,\n",
    "                        HALF_MILE_BUFFER_METERS, INTERSECTION_BUFFER_METERS)"
   ]
  },
  {
   "cell_type": "code",
   "execution_count": 4,
   "id": "1a95b142-2934-4bdd-88bf-e8a020a9cf99",
   "metadata": {
    "tags": []
   },
   "outputs": [],
   "source": [
    "import prep_pairwise_intersections"
   ]
  },
  {
   "cell_type": "code",
   "execution_count": 5,
   "id": "4d401895-bb2a-45c9-a9d4-9ee97ae4d183",
   "metadata": {
    "tags": []
   },
   "outputs": [],
   "source": [
    "# !pip install calitp-data-analysis==2025.6.24\n",
    "from calitp_data_analysis.gcs_geopandas import GCSGeoPandas\n",
    "gcsgp = GCSGeoPandas()"
   ]
  },
  {
   "cell_type": "code",
   "execution_count": 6,
   "id": "fad2ef2f-6fe9-4de1-a95e-0fa2af28e496",
   "metadata": {
    "tags": []
   },
   "outputs": [],
   "source": [
    "import pyproj\n",
    "geodesic = pyproj.Geod(ellps=\"WGS84\")"
   ]
  },
  {
   "cell_type": "markdown",
   "id": "6473a929-58ad-46e7-ba4d-8a6913d0be3b",
   "metadata": {
    "tags": []
   },
   "source": [
    "## Refine intersections with azimuth"
   ]
  },
  {
   "cell_type": "code",
   "execution_count": 7,
   "id": "3573220d-b788-4a54-8206-83ec48e932f2",
   "metadata": {
    "tags": []
   },
   "outputs": [],
   "source": [
    "corridors = prep_pairwise_intersections.prep_bus_corridors(is_ms_precursor=True)"
   ]
  },
  {
   "cell_type": "code",
   "execution_count": 8,
   "id": "e2b2244d-f2e6-4574-885d-0499f2c03a30",
   "metadata": {
    "tags": []
   },
   "outputs": [],
   "source": [
    "# corridors.columns"
   ]
  },
  {
   "cell_type": "code",
   "execution_count": 9,
   "id": "2ba6329a-c78f-462c-9672-4fb38db6f37f",
   "metadata": {
    "tags": []
   },
   "outputs": [],
   "source": [
    "# segments = gcsgp.read_parquet(f'{GCS_FILE_PATH}hqta_segments.parquet')"
   ]
  },
  {
   "cell_type": "code",
   "execution_count": 10,
   "id": "2be43275-d69a-4fc8-ba13-827cda07f204",
   "metadata": {
    "tags": []
   },
   "outputs": [],
   "source": [
    "# rail = gcsgp.read_parquet(f'{GCS_FILE_PATH}rail_brt_ferry.parquet')"
   ]
  },
  {
   "cell_type": "code",
   "execution_count": 11,
   "id": "033fad84-2240-424a-8163-66546c9fd161",
   "metadata": {
    "tags": []
   },
   "outputs": [],
   "source": [
    "# segments = rt_utils.add_origin_destination(segments.to_crs(geography_utils.WGS84))"
   ]
  },
  {
   "cell_type": "code",
   "execution_count": 12,
   "id": "644e32a7-f15e-4e25-9cbf-db40b72f76ad",
   "metadata": {
    "tags": []
   },
   "outputs": [],
   "source": [
    "def add_azimuth(row: pd.Series, geodesic: pyproj.Geod) -> pd.Series:\n",
    "    '''\n",
    "    Given a row of a GeoDataFrame with origin and destination points in WGS84,\n",
    "    find forward and back azimuth. \n",
    "    pyproj method returns signed azimuth -180(south) - -90(west) - 0(north) - +90(east) - +180(south),\n",
    "    convert this to degrees 0-360 and keep the higher one to enable consistent comparison later\n",
    "    '''\n",
    "    # print(geodesic)\n",
    "    long1, lat1 = row.origin.coords[0]\n",
    "    long2, lat2 = row.destination.coords[0]\n",
    "    assert all([abs(x) <= 180 for x in [long1, lat1, long2, lat2]]), 'CRS must be WGS84'\n",
    "    fwd_azimuth, back_azimuth, _distance = geodesic.inv(long1, lat1, long2, lat2, return_back_azimuth=True)\n",
    "    # signed_azimuth_to_360_deg = lambda x: 360 + x if x <= 0 else x\n",
    "    # fwd_azimuth = signed_azimuth_to_360_deg(fwd_azimuth)\n",
    "    # back_azimuth = signed_azimuth_to_360_deg(back_azimuth)\n",
    "    max_azimuth = max(fwd_azimuth, back_azimuth)\n",
    "    row['fwd_azimuth'] = fwd_azimuth\n",
    "    row['back_azimuth'] = back_azimuth\n",
    "    row['max_azimuth'] = max_azimuth\n",
    "    return row"
   ]
  },
  {
   "cell_type": "code",
   "execution_count": 13,
   "id": "894a3945-3277-4574-9469-9c3096a87136",
   "metadata": {
    "tags": []
   },
   "outputs": [],
   "source": [
    "# with_azi = segments.apply(add_azimuth, axis=1, geodesic=geodesic) #  added to segments script"
   ]
  },
  {
   "cell_type": "code",
   "execution_count": 14,
   "id": "bd2c8685-c824-4d8b-a66d-f894bf7ae55b",
   "metadata": {
    "tags": []
   },
   "outputs": [],
   "source": [
    "signed_azimuth_to_360_deg = lambda x: 360 + x if x < 0 else x"
   ]
  },
  {
   "cell_type": "code",
   "execution_count": 15,
   "id": "0b9d2096-1add-4532-a511-9cfb9f48232c",
   "metadata": {
    "tags": []
   },
   "outputs": [
    {
     "data": {
      "text/plain": [
       "181"
      ]
     },
     "execution_count": 15,
     "metadata": {},
     "output_type": "execute_result"
    }
   ],
   "source": [
    "signed_azimuth_to_360_deg(-179)"
   ]
  },
  {
   "cell_type": "code",
   "execution_count": 16,
   "id": "220fa885-b9dc-4f31-afc2-d351f584c12f",
   "metadata": {
    "tags": []
   },
   "outputs": [
    {
     "data": {
      "text/plain": [
       "179"
      ]
     },
     "execution_count": 16,
     "metadata": {},
     "output_type": "execute_result"
    }
   ],
   "source": [
    "signed_azimuth_to_360_deg(179)"
   ]
  },
  {
   "cell_type": "code",
   "execution_count": 17,
   "id": "3cceed2a-92da-4a13-ba3a-bcc5f884c3fe",
   "metadata": {
    "tags": []
   },
   "outputs": [
    {
     "data": {
      "text/html": [
       "<div>\n",
       "<style scoped>\n",
       "    .dataframe tbody tr th:only-of-type {\n",
       "        vertical-align: middle;\n",
       "    }\n",
       "\n",
       "    .dataframe tbody tr th {\n",
       "        vertical-align: top;\n",
       "    }\n",
       "\n",
       "    .dataframe thead th {\n",
       "        text-align: right;\n",
       "    }\n",
       "</style>\n",
       "<table border=\"1\" class=\"dataframe\">\n",
       "  <thead>\n",
       "    <tr style=\"text-align: right;\">\n",
       "      <th></th>\n",
       "      <th>schedule_gtfs_dataset_key</th>\n",
       "      <th>route_id</th>\n",
       "      <th>route_key</th>\n",
       "      <th>segment_sequence</th>\n",
       "      <th>geometry</th>\n",
       "      <th>hqta_segment_id</th>\n",
       "      <th>segment_direction</th>\n",
       "      <th>fwd_azimuth</th>\n",
       "      <th>fwd_azimuth_360</th>\n",
       "      <th>route_direction</th>\n",
       "      <th>stop_id</th>\n",
       "      <th>am_max_trips</th>\n",
       "      <th>route_dir</th>\n",
       "      <th>pm_max_trips</th>\n",
       "      <th>am_max_trips_hr</th>\n",
       "      <th>pm_max_trips_hr</th>\n",
       "      <th>route_dir_count</th>\n",
       "      <th>hq_transit_corr</th>\n",
       "      <th>ms_precursor</th>\n",
       "      <th>route_type</th>\n",
       "    </tr>\n",
       "  </thead>\n",
       "  <tbody>\n",
       "    <tr>\n",
       "      <th>0</th>\n",
       "      <td>c499f905e33929a641f083dad55c521e</td>\n",
       "      <td>57</td>\n",
       "      <td>7cbc9d29878e56796e32ec197512a38f</td>\n",
       "      <td>15</td>\n",
       "      <td>POLYGON ((-201535.497 -18383.876, -201536.496 ...</td>\n",
       "      <td>1200119</td>\n",
       "      <td>north-south</td>\n",
       "      <td>-13.775891</td>\n",
       "      <td>346.224109</td>\n",
       "      <td>east-west</td>\n",
       "      <td>51697</td>\n",
       "      <td>12</td>\n",
       "      <td>57_1</td>\n",
       "      <td>16.0</td>\n",
       "      <td>4.00</td>\n",
       "      <td>4.0</td>\n",
       "      <td>1</td>\n",
       "      <td>True</td>\n",
       "      <td>True</td>\n",
       "      <td>3</td>\n",
       "    </tr>\n",
       "    <tr>\n",
       "      <th>1</th>\n",
       "      <td>0666caf3ec1ecc96b74f4477ee4bc939</td>\n",
       "      <td>501-13191</td>\n",
       "      <td>44e5c016a53088e305d7d37c5f4f81c4</td>\n",
       "      <td>38</td>\n",
       "      <td>POLYGON ((170060.631 -427890.378, 170070.545 -...</td>\n",
       "      <td>1218022</td>\n",
       "      <td>east-west</td>\n",
       "      <td>70.512751</td>\n",
       "      <td>70.512751</td>\n",
       "      <td>east-west</td>\n",
       "      <td>1866</td>\n",
       "      <td>13</td>\n",
       "      <td>260-13191_0</td>\n",
       "      <td>18.0</td>\n",
       "      <td>4.33</td>\n",
       "      <td>4.5</td>\n",
       "      <td>1</td>\n",
       "      <td>True</td>\n",
       "      <td>True</td>\n",
       "      <td>3</td>\n",
       "    </tr>\n",
       "    <tr>\n",
       "      <th>2</th>\n",
       "      <td>aea4108997c66a74fbdae27b34b69fde</td>\n",
       "      <td>130</td>\n",
       "      <td>6c056aa1e5625b7042bfbefae2c3c39b</td>\n",
       "      <td>1</td>\n",
       "      <td>POLYGON ((-212375.273 -23941.486, -212345.959 ...</td>\n",
       "      <td>1331405</td>\n",
       "      <td>east-west</td>\n",
       "      <td>-125.735122</td>\n",
       "      <td>234.264878</td>\n",
       "      <td>north-south</td>\n",
       "      <td>42209</td>\n",
       "      <td>10</td>\n",
       "      <td>101_0</td>\n",
       "      <td>14.0</td>\n",
       "      <td>3.33</td>\n",
       "      <td>3.5</td>\n",
       "      <td>3</td>\n",
       "      <td>False</td>\n",
       "      <td>True</td>\n",
       "      <td>3</td>\n",
       "    </tr>\n",
       "  </tbody>\n",
       "</table>\n",
       "</div>"
      ],
      "text/plain": [
       "          schedule_gtfs_dataset_key   route_id  \\\n",
       "0  c499f905e33929a641f083dad55c521e         57   \n",
       "1  0666caf3ec1ecc96b74f4477ee4bc939  501-13191   \n",
       "2  aea4108997c66a74fbdae27b34b69fde        130   \n",
       "\n",
       "                          route_key  segment_sequence  \\\n",
       "0  7cbc9d29878e56796e32ec197512a38f                15   \n",
       "1  44e5c016a53088e305d7d37c5f4f81c4                38   \n",
       "2  6c056aa1e5625b7042bfbefae2c3c39b                 1   \n",
       "\n",
       "                                            geometry  hqta_segment_id  \\\n",
       "0  POLYGON ((-201535.497 -18383.876, -201536.496 ...          1200119   \n",
       "1  POLYGON ((170060.631 -427890.378, 170070.545 -...          1218022   \n",
       "2  POLYGON ((-212375.273 -23941.486, -212345.959 ...          1331405   \n",
       "\n",
       "  segment_direction  fwd_azimuth  fwd_azimuth_360 route_direction stop_id  \\\n",
       "0       north-south   -13.775891       346.224109       east-west   51697   \n",
       "1         east-west    70.512751        70.512751       east-west    1866   \n",
       "2         east-west  -125.735122       234.264878     north-south   42209   \n",
       "\n",
       "   am_max_trips    route_dir  pm_max_trips  am_max_trips_hr  pm_max_trips_hr  \\\n",
       "0            12         57_1          16.0             4.00              4.0   \n",
       "1            13  260-13191_0          18.0             4.33              4.5   \n",
       "2            10        101_0          14.0             3.33              3.5   \n",
       "\n",
       "   route_dir_count  hq_transit_corr  ms_precursor route_type  \n",
       "0                1             True          True          3  \n",
       "1                1             True          True          3  \n",
       "2                3            False          True          3  "
      ]
     },
     "execution_count": 17,
     "metadata": {},
     "output_type": "execute_result"
    }
   ],
   "source": [
    "corridors.head(3)"
   ]
  },
  {
   "cell_type": "code",
   "execution_count": 18,
   "id": "7d1e7649-1410-4fa1-ab96-0a871ad6321e",
   "metadata": {
    "tags": []
   },
   "outputs": [
    {
     "data": {
      "text/html": [
       "\n",
       "<style>\n",
       "  #altair-viz-8118071d7857448cbadc413d4bc46152.vega-embed {\n",
       "    width: 100%;\n",
       "    display: flex;\n",
       "  }\n",
       "\n",
       "  #altair-viz-8118071d7857448cbadc413d4bc46152.vega-embed details,\n",
       "  #altair-viz-8118071d7857448cbadc413d4bc46152.vega-embed details summary {\n",
       "    position: relative;\n",
       "  }\n",
       "</style>\n",
       "<div id=\"altair-viz-8118071d7857448cbadc413d4bc46152\"></div>\n",
       "<script type=\"text/javascript\">\n",
       "  var VEGA_DEBUG = (typeof VEGA_DEBUG == \"undefined\") ? {} : VEGA_DEBUG;\n",
       "  (function(spec, embedOpt){\n",
       "    let outputDiv = document.currentScript.previousElementSibling;\n",
       "    if (outputDiv.id !== \"altair-viz-8118071d7857448cbadc413d4bc46152\") {\n",
       "      outputDiv = document.getElementById(\"altair-viz-8118071d7857448cbadc413d4bc46152\");\n",
       "    }\n",
       "\n",
       "    const paths = {\n",
       "      \"vega\": \"https://cdn.jsdelivr.net/npm/vega@5?noext\",\n",
       "      \"vega-lib\": \"https://cdn.jsdelivr.net/npm/vega-lib?noext\",\n",
       "      \"vega-lite\": \"https://cdn.jsdelivr.net/npm/vega-lite@5.20.1?noext\",\n",
       "      \"vega-embed\": \"https://cdn.jsdelivr.net/npm/vega-embed@6?noext\",\n",
       "    };\n",
       "\n",
       "    function maybeLoadScript(lib, version) {\n",
       "      var key = `${lib.replace(\"-\", \"\")}_version`;\n",
       "      return (VEGA_DEBUG[key] == version) ?\n",
       "        Promise.resolve(paths[lib]) :\n",
       "        new Promise(function(resolve, reject) {\n",
       "          var s = document.createElement('script');\n",
       "          document.getElementsByTagName(\"head\")[0].appendChild(s);\n",
       "          s.async = true;\n",
       "          s.onload = () => {\n",
       "            VEGA_DEBUG[key] = version;\n",
       "            return resolve(paths[lib]);\n",
       "          };\n",
       "          s.onerror = () => reject(`Error loading script: ${paths[lib]}`);\n",
       "          s.src = paths[lib];\n",
       "        });\n",
       "    }\n",
       "\n",
       "    function showError(err) {\n",
       "      outputDiv.innerHTML = `<div class=\"error\" style=\"color:red;\">${err}</div>`;\n",
       "      throw err;\n",
       "    }\n",
       "\n",
       "    function displayChart(vegaEmbed) {\n",
       "      vegaEmbed(outputDiv, spec, embedOpt)\n",
       "        .catch(err => showError(`Javascript Error: ${err.message}<br>This usually means there's a typo in your chart specification. See the javascript console for the full traceback.`));\n",
       "    }\n",
       "\n",
       "    if(typeof define === \"function\" && define.amd) {\n",
       "      requirejs.config({paths});\n",
       "      let deps = [\"vega-embed\"];\n",
       "      require(deps, displayChart, err => showError(`Error loading script: ${err.message}`));\n",
       "    } else {\n",
       "      maybeLoadScript(\"vega\", \"5\")\n",
       "        .then(() => maybeLoadScript(\"vega-lite\", \"5.20.1\"))\n",
       "        .then(() => maybeLoadScript(\"vega-embed\", \"6\"))\n",
       "        .catch(showError)\n",
       "        .then(() => displayChart(vegaEmbed));\n",
       "    }\n",
       "  })({\"config\": {\"view\": {\"continuousWidth\": 300, \"continuousHeight\": 300}}, \"data\": {\"name\": \"data-6afa31cfa3fde0335a91c53b542568ea\"}, \"mark\": {\"type\": \"bar\"}, \"encoding\": {\"color\": {\"field\": \"segment_direction\", \"type\": \"nominal\"}, \"x\": {\"bin\": {\"step\": 5}, \"field\": \"fwd_azimuth_360\", \"type\": \"quantitative\"}, \"y\": {\"aggregate\": \"count\", \"type\": \"quantitative\"}}, \"title\": \"HQTA Segment Directions and Azimuth\", \"$schema\": \"https://vega.github.io/schema/vega-lite/v5.20.1.json\", \"datasets\": {\"data-6afa31cfa3fde0335a91c53b542568ea\": [{\"fwd_azimuth_360\": 318.2220362317005, \"segment_direction\": \"north-south\"}, {\"fwd_azimuth_360\": 135.29500886279783, \"segment_direction\": \"east-west\"}, {\"fwd_azimuth_360\": 61.237121402456324, \"segment_direction\": \"east-west\"}, {\"fwd_azimuth_360\": 86.78085136103749, \"segment_direction\": \"east-west\"}, {\"fwd_azimuth_360\": 270.0735550394466, \"segment_direction\": \"east-west\"}, {\"fwd_azimuth_360\": 134.75492252787947, \"segment_direction\": \"north-south\"}, {\"fwd_azimuth_360\": 40.422980364967216, \"segment_direction\": \"north-south\"}, {\"fwd_azimuth_360\": 0.9777570825993768, \"segment_direction\": \"north-south\"}, {\"fwd_azimuth_360\": 0.07085956049015876, \"segment_direction\": \"north-south\"}, {\"fwd_azimuth_360\": 160.62809681349952, \"segment_direction\": \"north-south\"}, {\"fwd_azimuth_360\": 147.2291823069652, \"segment_direction\": \"north-south\"}, {\"fwd_azimuth_360\": 70.51275142916423, \"segment_direction\": \"east-west\"}, {\"fwd_azimuth_360\": 217.64578650337472, \"segment_direction\": \"north-south\"}, {\"fwd_azimuth_360\": 123.01004202673934, \"segment_direction\": \"east-west\"}, {\"fwd_azimuth_360\": 334.51173896096003, \"segment_direction\": \"north-south\"}, {\"fwd_azimuth_360\": 153.7508266205316, \"segment_direction\": \"north-south\"}, {\"fwd_azimuth_360\": 18.934685619102584, \"segment_direction\": \"inconclusive\"}, {\"fwd_azimuth_360\": 359.62730304262254, \"segment_direction\": \"north-south\"}, {\"fwd_azimuth_360\": 77.25019507983981, \"segment_direction\": \"east-west\"}, {\"fwd_azimuth_360\": 85.33042102384108, \"segment_direction\": \"east-west\"}, {\"fwd_azimuth_360\": 355.47268920583707, \"segment_direction\": \"north-south\"}, {\"fwd_azimuth_360\": 9.637666713364924, \"segment_direction\": \"north-south\"}, {\"fwd_azimuth_360\": 321.40253308922604, \"segment_direction\": \"north-south\"}, {\"fwd_azimuth_360\": 182.38188188597616, \"segment_direction\": \"north-south\"}, {\"fwd_azimuth_360\": 180.08081472647393, \"segment_direction\": \"north-south\"}, {\"fwd_azimuth_360\": 253.17662887139542, \"segment_direction\": \"east-west\"}, {\"fwd_azimuth_360\": 265.60594026256865, \"segment_direction\": \"east-west\"}, {\"fwd_azimuth_360\": 212.48304079884775, \"segment_direction\": \"north-south\"}, {\"fwd_azimuth_360\": 75.88969330874313, \"segment_direction\": \"east-west\"}, {\"fwd_azimuth_360\": 117.5928801863331, \"segment_direction\": \"east-west\"}, {\"fwd_azimuth_360\": 89.78829570159654, \"segment_direction\": \"east-west\"}, {\"fwd_azimuth_360\": 14.55718064036708, \"segment_direction\": \"north-south\"}, {\"fwd_azimuth_360\": 89.74036359199361, \"segment_direction\": \"east-west\"}, {\"fwd_azimuth_360\": 89.49445066930195, \"segment_direction\": \"east-west\"}, {\"fwd_azimuth_360\": 266.350499255088, \"segment_direction\": \"east-west\"}, {\"fwd_azimuth_360\": 88.71203594878801, \"segment_direction\": \"east-west\"}, {\"fwd_azimuth_360\": 172.2345302535128, \"segment_direction\": \"north-south\"}, {\"fwd_azimuth_360\": 270.22039265303835, \"segment_direction\": \"east-west\"}, {\"fwd_azimuth_360\": 279.36680357029593, \"segment_direction\": \"east-west\"}, {\"fwd_azimuth_360\": 293.2292952625502, \"segment_direction\": \"east-west\"}, {\"fwd_azimuth_360\": 89.97419717472745, \"segment_direction\": \"east-west\"}, {\"fwd_azimuth_360\": 29.562180875961896, \"segment_direction\": \"north-south\"}, {\"fwd_azimuth_360\": 127.14952332808068, \"segment_direction\": \"east-west\"}, {\"fwd_azimuth_360\": 111.93332983268222, \"segment_direction\": \"east-west\"}, {\"fwd_azimuth_360\": 336.0595267508025, \"segment_direction\": \"north-south\"}, {\"fwd_azimuth_360\": 95.67846512604413, \"segment_direction\": \"east-west\"}, {\"fwd_azimuth_360\": 225.09278027377604, \"segment_direction\": \"east-west\"}, {\"fwd_azimuth_360\": 59.36929846918133, \"segment_direction\": \"east-west\"}, {\"fwd_azimuth_360\": 217.17671935502165, \"segment_direction\": \"north-south\"}, {\"fwd_azimuth_360\": 359.7057374319906, \"segment_direction\": \"north-south\"}, {\"fwd_azimuth_360\": 168.03243953602845, \"segment_direction\": \"north-south\"}, {\"fwd_azimuth_360\": 266.7196929973902, \"segment_direction\": \"east-west\"}, {\"fwd_azimuth_360\": 84.79728157594138, \"segment_direction\": \"east-west\"}, {\"fwd_azimuth_360\": 54.946228997068, \"segment_direction\": \"east-west\"}, {\"fwd_azimuth_360\": 165.7097366585762, \"segment_direction\": \"north-south\"}, {\"fwd_azimuth_360\": 60.97685007726585, \"segment_direction\": \"east-west\"}, {\"fwd_azimuth_360\": 197.47456794144037, \"segment_direction\": \"north-south\"}, {\"fwd_azimuth_360\": 180.15487866563745, \"segment_direction\": \"north-south\"}, {\"fwd_azimuth_360\": 89.82833168869212, \"segment_direction\": \"east-west\"}, {\"fwd_azimuth_360\": 180.54619828896355, \"segment_direction\": \"north-south\"}, {\"fwd_azimuth_360\": 27.48686212285707, \"segment_direction\": \"north-south\"}, {\"fwd_azimuth_360\": 270.07213317989533, \"segment_direction\": \"east-west\"}, {\"fwd_azimuth_360\": 359.3804163360792, \"segment_direction\": \"north-south\"}, {\"fwd_azimuth_360\": 180.0577923605998, \"segment_direction\": \"north-south\"}, {\"fwd_azimuth_360\": 80.36668685308085, \"segment_direction\": \"east-west\"}, {\"fwd_azimuth_360\": 154.12572544079268, \"segment_direction\": \"north-south\"}, {\"fwd_azimuth_360\": 8.440577928688056, \"segment_direction\": \"north-south\"}, {\"fwd_azimuth_360\": 9.343900246540947, \"segment_direction\": \"north-south\"}, {\"fwd_azimuth_360\": 47.633901649899364, \"segment_direction\": \"east-west\"}, {\"fwd_azimuth_360\": 43.531769561601735, \"segment_direction\": \"north-south\"}, {\"fwd_azimuth_360\": 295.0138747144041, \"segment_direction\": \"east-west\"}, {\"fwd_azimuth_360\": 317.3124455302878, \"segment_direction\": \"north-south\"}, {\"fwd_azimuth_360\": 144.2606657059457, \"segment_direction\": \"north-south\"}, {\"fwd_azimuth_360\": 344.06870301433, \"segment_direction\": \"north-south\"}, {\"fwd_azimuth_360\": 253.35363407160105, \"segment_direction\": \"east-west\"}, {\"fwd_azimuth_360\": 55.794277405438855, \"segment_direction\": \"east-west\"}, {\"fwd_azimuth_360\": 0.2842126487842416, \"segment_direction\": \"north-south\"}, {\"fwd_azimuth_360\": 130.87197783514543, \"segment_direction\": \"east-west\"}, {\"fwd_azimuth_360\": 97.81157953763739, \"segment_direction\": \"east-west\"}, {\"fwd_azimuth_360\": 84.71293992621247, \"segment_direction\": \"east-west\"}, {\"fwd_azimuth_360\": 359.4809279985234, \"segment_direction\": \"north-south\"}, {\"fwd_azimuth_360\": 83.24254543540775, \"segment_direction\": \"east-west\"}, {\"fwd_azimuth_360\": 83.48366153349471, \"segment_direction\": \"east-west\"}, {\"fwd_azimuth_360\": 359.8846856067851, \"segment_direction\": \"north-south\"}, {\"fwd_azimuth_360\": 241.79262789790755, \"segment_direction\": \"east-west\"}, {\"fwd_azimuth_360\": 58.05400788763586, \"segment_direction\": \"east-west\"}, {\"fwd_azimuth_360\": 27.84882507837204, \"segment_direction\": \"north-south\"}, {\"fwd_azimuth_360\": 244.05406411444233, \"segment_direction\": \"east-west\"}, {\"fwd_azimuth_360\": 84.54706630575372, \"segment_direction\": \"east-west\"}, {\"fwd_azimuth_360\": 138.08112796587582, \"segment_direction\": \"north-south\"}, {\"fwd_azimuth_360\": 291.9235191925762, \"segment_direction\": \"east-west\"}, {\"fwd_azimuth_360\": 89.8883065111945, \"segment_direction\": \"east-west\"}, {\"fwd_azimuth_360\": 2.311135528785027, \"segment_direction\": \"north-south\"}, {\"fwd_azimuth_360\": 310.7510292200708, \"segment_direction\": \"east-west\"}, {\"fwd_azimuth_360\": 106.63696640926945, \"segment_direction\": \"east-west\"}, {\"fwd_azimuth_360\": 17.67097674756846, \"segment_direction\": \"north-south\"}, {\"fwd_azimuth_360\": 359.7996172139163, \"segment_direction\": \"north-south\"}, {\"fwd_azimuth_360\": 89.87757389698507, \"segment_direction\": \"east-west\"}, {\"fwd_azimuth_360\": 175.09142350832866, \"segment_direction\": \"north-south\"}, {\"fwd_azimuth_360\": 207.79150586712004, \"segment_direction\": \"north-south\"}, {\"fwd_azimuth_360\": 0.03694608836788167, \"segment_direction\": \"north-south\"}, {\"fwd_azimuth_360\": 0.12942885918045086, \"segment_direction\": \"inconclusive\"}, {\"fwd_azimuth_360\": 86.18751251153094, \"segment_direction\": \"east-west\"}, {\"fwd_azimuth_360\": 335.6580239503047, \"segment_direction\": \"north-south\"}, {\"fwd_azimuth_360\": 359.49052636848126, \"segment_direction\": \"north-south\"}, {\"fwd_azimuth_360\": 173.26565318842472, \"segment_direction\": \"north-south\"}, {\"fwd_azimuth_360\": 350.43673849057643, \"segment_direction\": \"north-south\"}, {\"fwd_azimuth_360\": 260.56549051723687, \"segment_direction\": \"east-west\"}, {\"fwd_azimuth_360\": 269.2280793862301, \"segment_direction\": \"east-west\"}, {\"fwd_azimuth_360\": 270.6391522198383, \"segment_direction\": \"east-west\"}, {\"fwd_azimuth_360\": 111.45510821655137, \"segment_direction\": \"east-west\"}, {\"fwd_azimuth_360\": 321.7496648603751, \"segment_direction\": \"north-south\"}, {\"fwd_azimuth_360\": 89.66921689194277, \"segment_direction\": \"east-west\"}, {\"fwd_azimuth_360\": 326.6594996397291, \"segment_direction\": \"north-south\"}, {\"fwd_azimuth_360\": 280.22768737871377, \"segment_direction\": \"east-west\"}, {\"fwd_azimuth_360\": 180.17240040019382, \"segment_direction\": \"north-south\"}, {\"fwd_azimuth_360\": 172.00272486200313, \"segment_direction\": \"north-south\"}, {\"fwd_azimuth_360\": 224.41025257167524, \"segment_direction\": \"east-west\"}, {\"fwd_azimuth_360\": 256.90706252673124, \"segment_direction\": \"east-west\"}, {\"fwd_azimuth_360\": 90.67935797642882, \"segment_direction\": \"east-west\"}, {\"fwd_azimuth_360\": 130.53810117794384, \"segment_direction\": \"east-west\"}, {\"fwd_azimuth_360\": 359.4436606379641, \"segment_direction\": \"north-south\"}, {\"fwd_azimuth_360\": 90.0915270326956, \"segment_direction\": \"east-west\"}, {\"fwd_azimuth_360\": 90.47331990313427, \"segment_direction\": \"east-west\"}, {\"fwd_azimuth_360\": 137.88997186982743, \"segment_direction\": \"north-south\"}, {\"fwd_azimuth_360\": 315.629801675325, \"segment_direction\": \"east-west\"}, {\"fwd_azimuth_360\": 210.17891770547084, \"segment_direction\": \"north-south\"}, {\"fwd_azimuth_360\": 103.97337150279989, \"segment_direction\": \"east-west\"}, {\"fwd_azimuth_360\": 78.88106261986114, \"segment_direction\": \"east-west\"}, {\"fwd_azimuth_360\": 156.3722151117812, \"segment_direction\": \"north-south\"}, {\"fwd_azimuth_360\": 89.67396961684595, \"segment_direction\": \"east-west\"}, {\"fwd_azimuth_360\": 89.92521868379629, \"segment_direction\": \"east-west\"}, {\"fwd_azimuth_360\": 86.70599710187237, \"segment_direction\": \"east-west\"}, {\"fwd_azimuth_360\": 42.04507472283438, \"segment_direction\": \"north-south\"}, {\"fwd_azimuth_360\": 181.02197643879688, \"segment_direction\": \"north-south\"}, {\"fwd_azimuth_360\": 89.61660439293136, \"segment_direction\": \"east-west\"}, {\"fwd_azimuth_360\": 129.1201364102021, \"segment_direction\": \"east-west\"}, {\"fwd_azimuth_360\": 143.1977227423621, \"segment_direction\": \"north-south\"}, {\"fwd_azimuth_360\": 126.82921748932489, \"segment_direction\": \"east-west\"}, {\"fwd_azimuth_360\": 60.863787655461074, \"segment_direction\": \"east-west\"}, {\"fwd_azimuth_360\": 91.25516729514422, \"segment_direction\": \"east-west\"}, {\"fwd_azimuth_360\": 303.7592018109981, \"segment_direction\": \"east-west\"}, {\"fwd_azimuth_360\": 0.08976335473204046, \"segment_direction\": \"north-south\"}, {\"fwd_azimuth_360\": 123.0461217706466, \"segment_direction\": \"east-west\"}, {\"fwd_azimuth_360\": 94.19716581172393, \"segment_direction\": \"east-west\"}, {\"fwd_azimuth_360\": 327.845649772318, \"segment_direction\": \"north-south\"}, {\"fwd_azimuth_360\": 71.07233073770259, \"segment_direction\": \"east-west\"}, {\"fwd_azimuth_360\": 89.68442132004226, \"segment_direction\": \"east-west\"}, {\"fwd_azimuth_360\": 293.45394687795965, \"segment_direction\": \"east-west\"}, {\"fwd_azimuth_360\": 238.64896958484817, \"segment_direction\": \"east-west\"}, {\"fwd_azimuth_360\": 36.52724395728162, \"segment_direction\": \"north-south\"}, {\"fwd_azimuth_360\": 127.88807068471863, \"segment_direction\": \"east-west\"}, {\"fwd_azimuth_360\": 307.82944965479123, \"segment_direction\": \"east-west\"}, {\"fwd_azimuth_360\": 0.18383328345671723, \"segment_direction\": \"north-south\"}, {\"fwd_azimuth_360\": 25.69309923979534, \"segment_direction\": \"north-south\"}, {\"fwd_azimuth_360\": 305.34837257332043, \"segment_direction\": \"east-west\"}, {\"fwd_azimuth_360\": 41.138386843625206, \"segment_direction\": \"north-south\"}, {\"fwd_azimuth_360\": 286.25153346853256, \"segment_direction\": \"east-west\"}, {\"fwd_azimuth_360\": 290.32225620419814, \"segment_direction\": \"east-west\"}, {\"fwd_azimuth_360\": 321.45375708543816, \"segment_direction\": \"north-south\"}, {\"fwd_azimuth_360\": 114.33554141266848, \"segment_direction\": \"inconclusive\"}, {\"fwd_azimuth_360\": 172.78086918096568, \"segment_direction\": \"north-south\"}, {\"fwd_azimuth_360\": 267.1942139347173, \"segment_direction\": \"east-west\"}, {\"fwd_azimuth_360\": 93.73765897239977, \"segment_direction\": \"east-west\"}, {\"fwd_azimuth_360\": 163.43703323936782, \"segment_direction\": \"north-south\"}, {\"fwd_azimuth_360\": 266.7367135522148, \"segment_direction\": \"east-west\"}, {\"fwd_azimuth_360\": 293.174808276215, \"segment_direction\": \"east-west\"}, {\"fwd_azimuth_360\": 269.3409386362895, \"segment_direction\": \"east-west\"}, {\"fwd_azimuth_360\": 351.7404784468355, \"segment_direction\": \"north-south\"}, {\"fwd_azimuth_360\": 100.5943278326035, \"segment_direction\": \"east-west\"}, {\"fwd_azimuth_360\": 317.15087331111124, \"segment_direction\": \"north-south\"}, {\"fwd_azimuth_360\": 272.3149487457169, \"segment_direction\": \"east-west\"}, {\"fwd_azimuth_360\": 239.89641342416198, \"segment_direction\": \"east-west\"}, {\"fwd_azimuth_360\": 295.88548595712336, \"segment_direction\": \"east-west\"}, {\"fwd_azimuth_360\": 108.29269489157875, \"segment_direction\": \"east-west\"}, {\"fwd_azimuth_360\": 60.34446407651487, \"segment_direction\": \"east-west\"}, {\"fwd_azimuth_360\": 65.42532635568423, \"segment_direction\": \"east-west\"}, {\"fwd_azimuth_360\": 292.19464701644534, \"segment_direction\": \"east-west\"}, {\"fwd_azimuth_360\": 267.19671584200563, \"segment_direction\": \"east-west\"}, {\"fwd_azimuth_360\": 333.27979858143414, \"segment_direction\": \"north-south\"}, {\"fwd_azimuth_360\": 78.03651997395563, \"segment_direction\": \"east-west\"}, {\"fwd_azimuth_360\": 267.36210547728865, \"segment_direction\": \"east-west\"}, {\"fwd_azimuth_360\": 217.35035299725106, \"segment_direction\": \"north-south\"}, {\"fwd_azimuth_360\": 131.92552033782266, \"segment_direction\": \"east-west\"}, {\"fwd_azimuth_360\": 88.81406504026208, \"segment_direction\": \"east-west\"}, {\"fwd_azimuth_360\": 41.14254055572869, \"segment_direction\": \"north-south\"}, {\"fwd_azimuth_360\": 200.78036712726302, \"segment_direction\": \"north-south\"}, {\"fwd_azimuth_360\": 272.4729214219261, \"segment_direction\": \"east-west\"}, {\"fwd_azimuth_360\": 150.85043600085365, \"segment_direction\": \"north-south\"}, {\"fwd_azimuth_360\": 125.73411190801863, \"segment_direction\": \"east-west\"}, {\"fwd_azimuth_360\": 173.74080568713265, \"segment_direction\": \"north-south\"}, {\"fwd_azimuth_360\": 87.88749791654016, \"segment_direction\": \"east-west\"}, {\"fwd_azimuth_360\": 356.68095789248684, \"segment_direction\": \"north-south\"}, {\"fwd_azimuth_360\": 88.98874211518118, \"segment_direction\": \"east-west\"}, {\"fwd_azimuth_360\": 179.9555074826324, \"segment_direction\": \"north-south\"}, {\"fwd_azimuth_360\": 312.1654532813464, \"segment_direction\": \"east-west\"}, {\"fwd_azimuth_360\": 92.09565807585399, \"segment_direction\": \"east-west\"}, {\"fwd_azimuth_360\": 267.3675739194225, \"segment_direction\": \"east-west\"}, {\"fwd_azimuth_360\": 235.05829432843666, \"segment_direction\": \"east-west\"}, {\"fwd_azimuth_360\": 235.67800075900425, \"segment_direction\": \"east-west\"}, {\"fwd_azimuth_360\": 0.10488932931295548, \"segment_direction\": \"north-south\"}, {\"fwd_azimuth_360\": 226.03050541106623, \"segment_direction\": \"east-west\"}, {\"fwd_azimuth_360\": 90.46829147385306, \"segment_direction\": \"inconclusive\"}, {\"fwd_azimuth_360\": 45.86069947784903, \"segment_direction\": \"north-south\"}, {\"fwd_azimuth_360\": 352.40934229393815, \"segment_direction\": \"north-south\"}, {\"fwd_azimuth_360\": 41.73044086848413, \"segment_direction\": \"north-south\"}, {\"fwd_azimuth_360\": 11.875212484341432, \"segment_direction\": \"north-south\"}, {\"fwd_azimuth_360\": 89.41757446691325, \"segment_direction\": \"east-west\"}, {\"fwd_azimuth_360\": 69.39607225604715, \"segment_direction\": \"east-west\"}, {\"fwd_azimuth_360\": 142.41126104095923, \"segment_direction\": \"north-south\"}, {\"fwd_azimuth_360\": 129.07159614523664, \"segment_direction\": \"east-west\"}, {\"fwd_azimuth_360\": 89.90668022612016, \"segment_direction\": \"east-west\"}, {\"fwd_azimuth_360\": 92.65650335599857, \"segment_direction\": \"east-west\"}, {\"fwd_azimuth_360\": 89.96826514633644, \"segment_direction\": \"east-west\"}, {\"fwd_azimuth_360\": 13.965125572104624, \"segment_direction\": \"north-south\"}, {\"fwd_azimuth_360\": 75.80266350426, \"segment_direction\": \"inconclusive\"}, {\"fwd_azimuth_360\": 38.72360856438746, \"segment_direction\": \"north-south\"}, {\"fwd_azimuth_360\": 6.642065942533448, \"segment_direction\": \"north-south\"}, {\"fwd_azimuth_360\": 98.5552474138963, \"segment_direction\": \"east-west\"}, {\"fwd_azimuth_360\": 269.9026242834892, \"segment_direction\": \"east-west\"}, {\"fwd_azimuth_360\": 343.43189490203105, \"segment_direction\": \"north-south\"}, {\"fwd_azimuth_360\": 269.2569770539477, \"segment_direction\": \"east-west\"}, {\"fwd_azimuth_360\": 284.9889224610164, \"segment_direction\": \"east-west\"}, {\"fwd_azimuth_360\": 131.18540602599612, \"segment_direction\": \"east-west\"}, {\"fwd_azimuth_360\": 149.2131458608949, \"segment_direction\": \"north-south\"}, {\"fwd_azimuth_360\": 223.59366711189892, \"segment_direction\": \"north-south\"}, {\"fwd_azimuth_360\": 240.43943870535227, \"segment_direction\": \"east-west\"}, {\"fwd_azimuth_360\": 141.36783041800072, \"segment_direction\": \"north-south\"}, {\"fwd_azimuth_360\": 274.0079943549492, \"segment_direction\": \"east-west\"}, {\"fwd_azimuth_360\": 342.34171991025744, \"segment_direction\": \"north-south\"}, {\"fwd_azimuth_360\": 124.44791396845606, \"segment_direction\": \"east-west\"}, {\"fwd_azimuth_360\": 270.31580196284744, \"segment_direction\": \"east-west\"}, {\"fwd_azimuth_360\": 165.96219795466163, \"segment_direction\": \"north-south\"}, {\"fwd_azimuth_360\": 162.41958559401067, \"segment_direction\": \"north-south\"}, {\"fwd_azimuth_360\": 2.3834532357058196, \"segment_direction\": \"north-south\"}, {\"fwd_azimuth_360\": 314.7961556248213, \"segment_direction\": \"east-west\"}, {\"fwd_azimuth_360\": 1.0029680267483039, \"segment_direction\": \"inconclusive\"}, {\"fwd_azimuth_360\": 359.363183098064, \"segment_direction\": \"north-south\"}, {\"fwd_azimuth_360\": 90.20542796261695, \"segment_direction\": \"east-west\"}, {\"fwd_azimuth_360\": 104.26954820548143, \"segment_direction\": \"east-west\"}, {\"fwd_azimuth_360\": 351.0582205669681, \"segment_direction\": \"inconclusive\"}, {\"fwd_azimuth_360\": 191.66699264508756, \"segment_direction\": \"north-south\"}, {\"fwd_azimuth_360\": 90.27360071007465, \"segment_direction\": \"east-west\"}, {\"fwd_azimuth_360\": 319.23652027363437, \"segment_direction\": \"north-south\"}, {\"fwd_azimuth_360\": 206.6568321826431, \"segment_direction\": \"north-south\"}, {\"fwd_azimuth_360\": 237.3739598883461, \"segment_direction\": \"east-west\"}, {\"fwd_azimuth_360\": 43.166539174981956, \"segment_direction\": \"north-south\"}, {\"fwd_azimuth_360\": 89.18719376222766, \"segment_direction\": \"east-west\"}, {\"fwd_azimuth_360\": 71.93936263097709, \"segment_direction\": \"east-west\"}, {\"fwd_azimuth_360\": 89.45982108806696, \"segment_direction\": \"east-west\"}, {\"fwd_azimuth_360\": 89.69145038928423, \"segment_direction\": \"east-west\"}, {\"fwd_azimuth_360\": 89.87799076283993, \"segment_direction\": \"east-west\"}, {\"fwd_azimuth_360\": 230.66085381187264, \"segment_direction\": \"east-west\"}, {\"fwd_azimuth_360\": 325.1460562387843, \"segment_direction\": \"north-south\"}, {\"fwd_azimuth_360\": 180.3585922402991, \"segment_direction\": \"north-south\"}, {\"fwd_azimuth_360\": 268.50900041783956, \"segment_direction\": \"east-west\"}, {\"fwd_azimuth_360\": 348.43927298462796, \"segment_direction\": \"north-south\"}, {\"fwd_azimuth_360\": 298.0352307000731, \"segment_direction\": \"east-west\"}, {\"fwd_azimuth_360\": 106.58603217980531, \"segment_direction\": \"east-west\"}, {\"fwd_azimuth_360\": 170.90635223208014, \"segment_direction\": \"north-south\"}, {\"fwd_azimuth_360\": 311.34677152534124, \"segment_direction\": \"east-west\"}, {\"fwd_azimuth_360\": 125.28921815977066, \"segment_direction\": \"east-west\"}, {\"fwd_azimuth_360\": 184.6949863805117, \"segment_direction\": \"north-south\"}, {\"fwd_azimuth_360\": 165.96353433930926, \"segment_direction\": \"north-south\"}, {\"fwd_azimuth_360\": 268.042248387616, \"segment_direction\": \"east-west\"}, {\"fwd_azimuth_360\": 118.83642489561981, \"segment_direction\": \"east-west\"}, {\"fwd_azimuth_360\": 210.62023155622387, \"segment_direction\": \"north-south\"}, {\"fwd_azimuth_360\": 140.599337506167, \"segment_direction\": \"north-south\"}, {\"fwd_azimuth_360\": 358.1619602896754, \"segment_direction\": \"north-south\"}, {\"fwd_azimuth_360\": 248.14664988103408, \"segment_direction\": \"east-west\"}, {\"fwd_azimuth_360\": 54.15655091932193, \"segment_direction\": \"east-west\"}, {\"fwd_azimuth_360\": 152.10361778851498, \"segment_direction\": \"north-south\"}, {\"fwd_azimuth_360\": 89.94612670518046, \"segment_direction\": \"east-west\"}, {\"fwd_azimuth_360\": 89.28426800028632, \"segment_direction\": \"east-west\"}, {\"fwd_azimuth_360\": 333.39804730909697, \"segment_direction\": \"north-south\"}, {\"fwd_azimuth_360\": 89.78354170239099, \"segment_direction\": \"east-west\"}, {\"fwd_azimuth_360\": 159.67064629670472, \"segment_direction\": \"north-south\"}, {\"fwd_azimuth_360\": 165.96353433930926, \"segment_direction\": \"north-south\"}, {\"fwd_azimuth_360\": 113.28508672037763, \"segment_direction\": \"east-west\"}, {\"fwd_azimuth_360\": 101.06252377445057, \"segment_direction\": \"east-west\"}, {\"fwd_azimuth_360\": 311.9248187470099, \"segment_direction\": \"east-west\"}, {\"fwd_azimuth_360\": 293.86907275114993, \"segment_direction\": \"east-west\"}, {\"fwd_azimuth_360\": 217.51928891939633, \"segment_direction\": \"north-south\"}, {\"fwd_azimuth_360\": 71.60545445944676, \"segment_direction\": \"east-west\"}, {\"fwd_azimuth_360\": 101.8312842178648, \"segment_direction\": \"east-west\"}, {\"fwd_azimuth_360\": 61.56298474207959, \"segment_direction\": \"east-west\"}, {\"fwd_azimuth_360\": 327.5780677659597, \"segment_direction\": \"north-south\"}, {\"fwd_azimuth_360\": 96.91281218110298, \"segment_direction\": \"east-west\"}, {\"fwd_azimuth_360\": 4.508620509140807, \"segment_direction\": \"inconclusive\"}, {\"fwd_azimuth_360\": 108.32958267256774, \"segment_direction\": \"east-west\"}, {\"fwd_azimuth_360\": 274.75859048025694, \"segment_direction\": \"east-west\"}, {\"fwd_azimuth_360\": 87.97708166155041, \"segment_direction\": \"inconclusive\"}, {\"fwd_azimuth_360\": 118.80869470696783, \"segment_direction\": \"east-west\"}, {\"fwd_azimuth_360\": 63.670863277074325, \"segment_direction\": \"east-west\"}, {\"fwd_azimuth_360\": 187.6145496544562, \"segment_direction\": \"north-south\"}, {\"fwd_azimuth_360\": 270.4878541901561, \"segment_direction\": \"east-west\"}, {\"fwd_azimuth_360\": 19.68419798513735, \"segment_direction\": \"north-south\"}, {\"fwd_azimuth_360\": 94.95598626494538, \"segment_direction\": \"east-west\"}, {\"fwd_azimuth_360\": 180.1639764724726, \"segment_direction\": \"north-south\"}, {\"fwd_azimuth_360\": 336.3427323644053, \"segment_direction\": \"north-south\"}, {\"fwd_azimuth_360\": 124.87243623755936, \"segment_direction\": \"east-west\"}, {\"fwd_azimuth_360\": 97.37806885641879, \"segment_direction\": \"east-west\"}, {\"fwd_azimuth_360\": 90.50310185943708, \"segment_direction\": \"east-west\"}, {\"fwd_azimuth_360\": 269.84509663966264, \"segment_direction\": \"east-west\"}, {\"fwd_azimuth_360\": 63.513288180820496, \"segment_direction\": \"east-west\"}, {\"fwd_azimuth_360\": 215.52553352641482, \"segment_direction\": \"north-south\"}, {\"fwd_azimuth_360\": 359.6989373146751, \"segment_direction\": \"north-south\"}, {\"fwd_azimuth_360\": 11.482493357340173, \"segment_direction\": \"north-south\"}, {\"fwd_azimuth_360\": 260.8811699803468, \"segment_direction\": \"east-west\"}, {\"fwd_azimuth_360\": 133.8485878165174, \"segment_direction\": \"north-south\"}, {\"fwd_azimuth_360\": 254.06606465938705, \"segment_direction\": \"east-west\"}, {\"fwd_azimuth_360\": 264.828819651313, \"segment_direction\": \"east-west\"}, {\"fwd_azimuth_360\": 24.40878030428277, \"segment_direction\": \"north-south\"}, {\"fwd_azimuth_360\": 316.397218497581, \"segment_direction\": \"north-south\"}, {\"fwd_azimuth_360\": 86.8461741412723, \"segment_direction\": \"east-west\"}, {\"fwd_azimuth_360\": 38.33109384487965, \"segment_direction\": \"north-south\"}, {\"fwd_azimuth_360\": 89.97570447020233, \"segment_direction\": \"east-west\"}, {\"fwd_azimuth_360\": 148.54933483401385, \"segment_direction\": \"north-south\"}, {\"fwd_azimuth_360\": 90.06226319283904, \"segment_direction\": \"east-west\"}, {\"fwd_azimuth_360\": 43.807028673260945, \"segment_direction\": \"north-south\"}, {\"fwd_azimuth_360\": 325.07708989611734, \"segment_direction\": \"inconclusive\"}, {\"fwd_azimuth_360\": 179.86651096856932, \"segment_direction\": \"north-south\"}, {\"fwd_azimuth_360\": 90.87197874735568, \"segment_direction\": \"east-west\"}, {\"fwd_azimuth_360\": 149.80769929311205, \"segment_direction\": \"north-south\"}, {\"fwd_azimuth_360\": 333.6602985428982, \"segment_direction\": \"north-south\"}, {\"fwd_azimuth_360\": 97.69283758833569, \"segment_direction\": \"east-west\"}, {\"fwd_azimuth_360\": 311.58118613773877, \"segment_direction\": \"east-west\"}, {\"fwd_azimuth_360\": 48.26847126211262, \"segment_direction\": \"east-west\"}, {\"fwd_azimuth_360\": 284.6879094053621, \"segment_direction\": \"east-west\"}, {\"fwd_azimuth_360\": 185.99798742913745, \"segment_direction\": \"north-south\"}, {\"fwd_azimuth_360\": 359.541360282416, \"segment_direction\": \"north-south\"}, {\"fwd_azimuth_360\": 308.6362589988544, \"segment_direction\": \"east-west\"}, {\"fwd_azimuth_360\": 160.80816140075825, \"segment_direction\": \"north-south\"}, {\"fwd_azimuth_360\": 99.25163915343303, \"segment_direction\": \"east-west\"}, {\"fwd_azimuth_360\": 40.374194548646614, \"segment_direction\": \"north-south\"}, {\"fwd_azimuth_360\": 353.1086619407638, \"segment_direction\": \"north-south\"}, {\"fwd_azimuth_360\": 74.48864344016164, \"segment_direction\": \"east-west\"}, {\"fwd_azimuth_360\": 96.81278548934725, \"segment_direction\": \"east-west\"}, {\"fwd_azimuth_360\": 318.6719372653495, \"segment_direction\": \"north-south\"}, {\"fwd_azimuth_360\": 59.253011102714936, \"segment_direction\": \"east-west\"}, {\"fwd_azimuth_360\": 179.45291014459056, \"segment_direction\": \"north-south\"}, {\"fwd_azimuth_360\": 358.0575858572596, \"segment_direction\": \"north-south\"}, {\"fwd_azimuth_360\": 179.94431180410285, \"segment_direction\": \"north-south\"}, {\"fwd_azimuth_360\": 321.7105234759398, \"segment_direction\": \"north-south\"}, {\"fwd_azimuth_360\": 359.0243547102482, \"segment_direction\": \"north-south\"}, {\"fwd_azimuth_360\": 347.96384664096047, \"segment_direction\": \"north-south\"}, {\"fwd_azimuth_360\": 91.34764754360235, \"segment_direction\": \"east-west\"}, {\"fwd_azimuth_360\": 148.69219278448927, \"segment_direction\": \"north-south\"}, {\"fwd_azimuth_360\": 110.939643259618, \"segment_direction\": \"east-west\"}, {\"fwd_azimuth_360\": 359.24281270008555, \"segment_direction\": \"north-south\"}, {\"fwd_azimuth_360\": 151.2830802615037, \"segment_direction\": \"north-south\"}, {\"fwd_azimuth_360\": 330.1680046818832, \"segment_direction\": \"north-south\"}, {\"fwd_azimuth_360\": 89.60927513332311, \"segment_direction\": \"east-west\"}, {\"fwd_azimuth_360\": 341.6489479767437, \"segment_direction\": \"north-south\"}, {\"fwd_azimuth_360\": 270.1705437885049, \"segment_direction\": \"east-west\"}, {\"fwd_azimuth_360\": 95.56323765095998, \"segment_direction\": \"east-west\"}, {\"fwd_azimuth_360\": 89.84610952599363, \"segment_direction\": \"east-west\"}, {\"fwd_azimuth_360\": 90.01909367049795, \"segment_direction\": \"east-west\"}, {\"fwd_azimuth_360\": 170.42130777540436, \"segment_direction\": \"north-south\"}, {\"fwd_azimuth_360\": 359.49313820151735, \"segment_direction\": \"north-south\"}, {\"fwd_azimuth_360\": 165.524734894868, \"segment_direction\": \"inconclusive\"}, {\"fwd_azimuth_360\": 49.84101290828759, \"segment_direction\": \"east-west\"}, {\"fwd_azimuth_360\": 274.4491164596552, \"segment_direction\": \"east-west\"}, {\"fwd_azimuth_360\": 92.9949905388306, \"segment_direction\": \"east-west\"}, {\"fwd_azimuth_360\": 49.25504395545174, \"segment_direction\": \"east-west\"}, {\"fwd_azimuth_360\": 101.76910870137492, \"segment_direction\": \"east-west\"}, {\"fwd_azimuth_360\": 351.8016468678629, \"segment_direction\": \"north-south\"}, {\"fwd_azimuth_360\": 160.74711107523422, \"segment_direction\": \"north-south\"}, {\"fwd_azimuth_360\": 89.97693988450719, \"segment_direction\": \"east-west\"}, {\"fwd_azimuth_360\": 51.87069044944901, \"segment_direction\": \"east-west\"}, {\"fwd_azimuth_360\": 345.6228005380057, \"segment_direction\": \"north-south\"}, {\"fwd_azimuth_360\": 116.2690730472655, \"segment_direction\": \"east-west\"}, {\"fwd_azimuth_360\": 359.3420294977853, \"segment_direction\": \"north-south\"}, {\"fwd_azimuth_360\": 98.68679120834383, \"segment_direction\": \"east-west\"}, {\"fwd_azimuth_360\": 215.11207671292175, \"segment_direction\": \"north-south\"}, {\"fwd_azimuth_360\": 89.58808545937102, \"segment_direction\": \"east-west\"}, {\"fwd_azimuth_360\": 139.00043422012118, \"segment_direction\": \"north-south\"}, {\"fwd_azimuth_360\": 333.3813688673493, \"segment_direction\": \"north-south\"}, {\"fwd_azimuth_360\": 96.84595921198849, \"segment_direction\": \"east-west\"}, {\"fwd_azimuth_360\": 157.60838788759855, \"segment_direction\": \"north-south\"}, {\"fwd_azimuth_360\": 0.315215872451705, \"segment_direction\": \"north-south\"}, {\"fwd_azimuth_360\": 110.86397017172324, \"segment_direction\": \"east-west\"}, {\"fwd_azimuth_360\": 68.31784121794607, \"segment_direction\": \"east-west\"}, {\"fwd_azimuth_360\": 15.245318012986647, \"segment_direction\": \"north-south\"}, {\"fwd_azimuth_360\": 146.62141491005855, \"segment_direction\": \"north-south\"}, {\"fwd_azimuth_360\": 183.68600029843444, \"segment_direction\": \"north-south\"}, {\"fwd_azimuth_360\": 269.7265835268895, \"segment_direction\": \"east-west\"}, {\"fwd_azimuth_360\": 309.4392973757338, \"segment_direction\": \"east-west\"}, {\"fwd_azimuth_360\": 355.3672065188988, \"segment_direction\": \"north-south\"}, {\"fwd_azimuth_360\": 159.5282680712486, \"segment_direction\": \"north-south\"}, {\"fwd_azimuth_360\": 4.483476608662526, \"segment_direction\": \"north-south\"}, {\"fwd_azimuth_360\": 182.88837971823588, \"segment_direction\": \"north-south\"}, {\"fwd_azimuth_360\": 166.8813485358916, \"segment_direction\": \"north-south\"}, {\"fwd_azimuth_360\": 88.03263102289908, \"segment_direction\": \"east-west\"}, {\"fwd_azimuth_360\": 60.87139544241387, \"segment_direction\": \"east-west\"}, {\"fwd_azimuth_360\": 137.5600679981659, \"segment_direction\": \"north-south\"}, {\"fwd_azimuth_360\": 23.547190499073334, \"segment_direction\": \"north-south\"}, {\"fwd_azimuth_360\": 90.56803949210656, \"segment_direction\": \"east-west\"}, {\"fwd_azimuth_360\": 119.91225049125458, \"segment_direction\": \"east-west\"}, {\"fwd_azimuth_360\": 359.7923123271618, \"segment_direction\": \"north-south\"}, {\"fwd_azimuth_360\": 88.44873542535808, \"segment_direction\": \"east-west\"}, {\"fwd_azimuth_360\": 149.95798716655486, \"segment_direction\": \"north-south\"}, {\"fwd_azimuth_360\": 51.685544721326444, \"segment_direction\": \"east-west\"}, {\"fwd_azimuth_360\": 133.4076366323392, \"segment_direction\": \"east-west\"}, {\"fwd_azimuth_360\": 225.19260149801113, \"segment_direction\": \"east-west\"}, {\"fwd_azimuth_360\": 348.4560089811485, \"segment_direction\": \"north-south\"}, {\"fwd_azimuth_360\": 100.6497886759475, \"segment_direction\": \"east-west\"}, {\"fwd_azimuth_360\": 89.53934226415444, \"segment_direction\": \"east-west\"}, {\"fwd_azimuth_360\": 120.92086286463724, \"segment_direction\": \"east-west\"}, {\"fwd_azimuth_360\": 89.78766981575872, \"segment_direction\": \"east-west\"}, {\"fwd_azimuth_360\": 256.41480286121447, \"segment_direction\": \"east-west\"}, {\"fwd_azimuth_360\": 74.92246563207041, \"segment_direction\": \"east-west\"}, {\"fwd_azimuth_360\": 89.94703109125278, \"segment_direction\": \"east-west\"}, {\"fwd_azimuth_360\": 91.15464319622436, \"segment_direction\": \"east-west\"}, {\"fwd_azimuth_360\": 88.01180240026892, \"segment_direction\": \"east-west\"}, {\"fwd_azimuth_360\": 161.83354527543744, \"segment_direction\": \"north-south\"}, {\"fwd_azimuth_360\": 90.42498899734858, \"segment_direction\": \"east-west\"}, {\"fwd_azimuth_360\": 142.31046090318904, \"segment_direction\": \"north-south\"}, {\"fwd_azimuth_360\": 97.42689349199199, \"segment_direction\": \"east-west\"}, {\"fwd_azimuth_360\": 180.00502654500323, \"segment_direction\": \"north-south\"}, {\"fwd_azimuth_360\": 269.89390666795003, \"segment_direction\": \"east-west\"}, {\"fwd_azimuth_360\": 285.721808096952, \"segment_direction\": \"east-west\"}, {\"fwd_azimuth_360\": 19.808467383082192, \"segment_direction\": \"north-south\"}, {\"fwd_azimuth_360\": 170.30805197209472, \"segment_direction\": \"north-south\"}, {\"fwd_azimuth_360\": 90.26454432888319, \"segment_direction\": \"east-west\"}, {\"fwd_azimuth_360\": 270.5876194235248, \"segment_direction\": \"east-west\"}, {\"fwd_azimuth_360\": 308.95116932649466, \"segment_direction\": \"east-west\"}, {\"fwd_azimuth_360\": 33.91511505558016, \"segment_direction\": \"north-south\"}, {\"fwd_azimuth_360\": 155.45641713857447, \"segment_direction\": \"north-south\"}, {\"fwd_azimuth_360\": 177.19186891955684, \"segment_direction\": \"north-south\"}, {\"fwd_azimuth_360\": 309.0764783776749, \"segment_direction\": \"east-west\"}, {\"fwd_azimuth_360\": 273.14764942474426, \"segment_direction\": \"east-west\"}, {\"fwd_azimuth_360\": 0.9548697965852487, \"segment_direction\": \"north-south\"}, {\"fwd_azimuth_360\": 333.23295862991904, \"segment_direction\": \"north-south\"}, {\"fwd_azimuth_360\": 28.662730588474506, \"segment_direction\": \"north-south\"}, {\"fwd_azimuth_360\": 359.80490151692516, \"segment_direction\": \"north-south\"}, {\"fwd_azimuth_360\": 280.1149322639124, \"segment_direction\": \"east-west\"}, {\"fwd_azimuth_360\": 239.43729608363503, \"segment_direction\": \"east-west\"}, {\"fwd_azimuth_360\": 118.53969303841342, \"segment_direction\": \"east-west\"}, {\"fwd_azimuth_360\": 86.95801041236936, \"segment_direction\": \"east-west\"}, {\"fwd_azimuth_360\": 205.61581515663613, \"segment_direction\": \"north-south\"}, {\"fwd_azimuth_360\": 327.1309160190888, \"segment_direction\": \"north-south\"}, {\"fwd_azimuth_360\": 267.1026275626517, \"segment_direction\": \"east-west\"}, {\"fwd_azimuth_360\": 147.88061465927908, \"segment_direction\": \"north-south\"}, {\"fwd_azimuth_360\": 88.04718058267683, \"segment_direction\": \"east-west\"}, {\"fwd_azimuth_360\": 260.9172970240909, \"segment_direction\": \"east-west\"}, {\"fwd_azimuth_360\": 40.1418341444283, \"segment_direction\": \"north-south\"}, {\"fwd_azimuth_360\": 190.90996335453138, \"segment_direction\": \"north-south\"}, {\"fwd_azimuth_360\": 42.81455758970647, \"segment_direction\": \"north-south\"}, {\"fwd_azimuth_360\": 38.58466222261059, \"segment_direction\": \"north-south\"}, {\"fwd_azimuth_360\": 180.05971919100628, \"segment_direction\": \"north-south\"}, {\"fwd_azimuth_360\": 70.48323536331425, \"segment_direction\": \"east-west\"}, {\"fwd_azimuth_360\": 97.84384268149445, \"segment_direction\": \"east-west\"}, {\"fwd_azimuth_360\": 320.6343033871936, \"segment_direction\": \"north-south\"}, {\"fwd_azimuth_360\": 241.08529324614034, \"segment_direction\": \"east-west\"}, {\"fwd_azimuth_360\": 90.18446563941004, \"segment_direction\": \"east-west\"}, {\"fwd_azimuth_360\": 129.07629175680353, \"segment_direction\": \"east-west\"}, {\"fwd_azimuth_360\": 290.8513572079986, \"segment_direction\": \"east-west\"}, {\"fwd_azimuth_360\": 359.0628092972969, \"segment_direction\": \"north-south\"}, {\"fwd_azimuth_360\": 52.67283641073362, \"segment_direction\": \"east-west\"}, {\"fwd_azimuth_360\": 335.56553108590396, \"segment_direction\": \"north-south\"}, {\"fwd_azimuth_360\": 180.24874269131254, \"segment_direction\": \"north-south\"}, {\"fwd_azimuth_360\": 359.947469477506, \"segment_direction\": \"north-south\"}, {\"fwd_azimuth_360\": 355.1264921931701, \"segment_direction\": \"north-south\"}, {\"fwd_azimuth_360\": 180.03952672349914, \"segment_direction\": \"north-south\"}, {\"fwd_azimuth_360\": 269.4629638979181, \"segment_direction\": \"east-west\"}, {\"fwd_azimuth_360\": 122.69442452763495, \"segment_direction\": \"east-west\"}, {\"fwd_azimuth_360\": 272.59995822967784, \"segment_direction\": \"east-west\"}, {\"fwd_azimuth_360\": 261.14280392809553, \"segment_direction\": \"east-west\"}, {\"fwd_azimuth_360\": 235.47238554909873, \"segment_direction\": \"east-west\"}, {\"fwd_azimuth_360\": 312.4901657668054, \"segment_direction\": \"east-west\"}, {\"fwd_azimuth_360\": 104.17485985224539, \"segment_direction\": \"east-west\"}, {\"fwd_azimuth_360\": 0.6967734171810561, \"segment_direction\": \"north-south\"}, {\"fwd_azimuth_360\": 13.299476286016322, \"segment_direction\": \"north-south\"}, {\"fwd_azimuth_360\": 85.34711741842249, \"segment_direction\": \"east-west\"}, {\"fwd_azimuth_360\": 95.31928308469891, \"segment_direction\": \"east-west\"}, {\"fwd_azimuth_360\": 0.15745805599484536, \"segment_direction\": \"north-south\"}, {\"fwd_azimuth_360\": 0.004208265211444575, \"segment_direction\": \"north-south\"}, {\"fwd_azimuth_360\": 359.90959315186973, \"segment_direction\": \"north-south\"}, {\"fwd_azimuth_360\": 97.30177680261976, \"segment_direction\": \"east-west\"}, {\"fwd_azimuth_360\": 80.19852138318805, \"segment_direction\": \"east-west\"}, {\"fwd_azimuth_360\": 318.4484306384982, \"segment_direction\": \"north-south\"}, {\"fwd_azimuth_360\": 243.93697428224777, \"segment_direction\": \"east-west\"}, {\"fwd_azimuth_360\": 65.07410656126656, \"segment_direction\": \"east-west\"}, {\"fwd_azimuth_360\": 109.73737821452707, \"segment_direction\": \"east-west\"}, {\"fwd_azimuth_360\": 0.01932966652573935, \"segment_direction\": \"north-south\"}, {\"fwd_azimuth_360\": 359.5795136064159, \"segment_direction\": \"north-south\"}, {\"fwd_azimuth_360\": 180.20724574639243, \"segment_direction\": \"north-south\"}, {\"fwd_azimuth_360\": 59.856059590326225, \"segment_direction\": \"east-west\"}, {\"fwd_azimuth_360\": 0.004165743758826446, \"segment_direction\": \"north-south\"}, {\"fwd_azimuth_360\": 260.4938964132727, \"segment_direction\": \"east-west\"}, {\"fwd_azimuth_360\": 187.22795883356392, \"segment_direction\": \"north-south\"}, {\"fwd_azimuth_360\": 5.31639192792874, \"segment_direction\": \"north-south\"}, {\"fwd_azimuth_360\": 359.72228606675753, \"segment_direction\": \"north-south\"}, {\"fwd_azimuth_360\": 185.1080186678618, \"segment_direction\": \"north-south\"}, {\"fwd_azimuth_360\": 93.44693794266556, \"segment_direction\": \"east-west\"}, {\"fwd_azimuth_360\": 137.74782068468295, \"segment_direction\": \"north-south\"}, {\"fwd_azimuth_360\": 59.379896441695706, \"segment_direction\": \"east-west\"}, {\"fwd_azimuth_360\": 154.42663672716083, \"segment_direction\": \"north-south\"}, {\"fwd_azimuth_360\": 28.28073729765329, \"segment_direction\": \"north-south\"}, {\"fwd_azimuth_360\": 219.7706309549222, \"segment_direction\": \"north-south\"}, {\"fwd_azimuth_360\": 199.11939233196654, \"segment_direction\": \"north-south\"}, {\"fwd_azimuth_360\": 91.5962657575825, \"segment_direction\": \"east-west\"}, {\"fwd_azimuth_360\": 117.74990328542123, \"segment_direction\": \"east-west\"}, {\"fwd_azimuth_360\": 165.69058305286944, \"segment_direction\": \"north-south\"}, {\"fwd_azimuth_360\": 89.92864760654673, \"segment_direction\": \"east-west\"}, {\"fwd_azimuth_360\": 89.8485167389182, \"segment_direction\": \"east-west\"}, {\"fwd_azimuth_360\": 179.16888901186798, \"segment_direction\": \"north-south\"}, {\"fwd_azimuth_360\": 288.2234332520672, \"segment_direction\": \"east-west\"}, {\"fwd_azimuth_360\": 172.78986748108855, \"segment_direction\": \"north-south\"}, {\"fwd_azimuth_360\": 331.08451544150216, \"segment_direction\": \"north-south\"}, {\"fwd_azimuth_360\": 179.72283889384525, \"segment_direction\": \"north-south\"}, {\"fwd_azimuth_360\": 207.7117897468801, \"segment_direction\": \"north-south\"}, {\"fwd_azimuth_360\": 308.001338923466, \"segment_direction\": \"east-west\"}, {\"fwd_azimuth_360\": 88.17153124457933, \"segment_direction\": \"east-west\"}, {\"fwd_azimuth_360\": 107.80612989751262, \"segment_direction\": \"east-west\"}, {\"fwd_azimuth_360\": 204.13225969113026, \"segment_direction\": \"north-south\"}, {\"fwd_azimuth_360\": 171.1592726274858, \"segment_direction\": \"north-south\"}, {\"fwd_azimuth_360\": 256.4048900329841, \"segment_direction\": \"east-west\"}, {\"fwd_azimuth_360\": 0.05749022340987768, \"segment_direction\": \"north-south\"}, {\"fwd_azimuth_360\": 89.98425536735118, \"segment_direction\": \"east-west\"}, {\"fwd_azimuth_360\": 220.7767219621858, \"segment_direction\": \"north-south\"}, {\"fwd_azimuth_360\": 18.838725695924616, \"segment_direction\": \"north-south\"}, {\"fwd_azimuth_360\": 137.80838293959886, \"segment_direction\": \"north-south\"}, {\"fwd_azimuth_360\": 90.09573820589519, \"segment_direction\": \"east-west\"}, {\"fwd_azimuth_360\": 17.376626924468624, \"segment_direction\": \"north-south\"}, {\"fwd_azimuth_360\": 90.52033102871405, \"segment_direction\": \"east-west\"}, {\"fwd_azimuth_360\": 92.83392351285491, \"segment_direction\": \"east-west\"}, {\"fwd_azimuth_360\": 300.05239480161913, \"segment_direction\": \"east-west\"}, {\"fwd_azimuth_360\": 316.83787695135766, \"segment_direction\": \"north-south\"}, {\"fwd_azimuth_360\": 198.0008983718394, \"segment_direction\": \"north-south\"}, {\"fwd_azimuth_360\": 329.0603990470438, \"segment_direction\": \"north-south\"}, {\"fwd_azimuth_360\": 359.6279000150611, \"segment_direction\": \"north-south\"}, {\"fwd_azimuth_360\": 233.028817977786, \"segment_direction\": \"east-west\"}, {\"fwd_azimuth_360\": 129.45608590903385, \"segment_direction\": \"east-west\"}, {\"fwd_azimuth_360\": 91.13677838162653, \"segment_direction\": \"inconclusive\"}, {\"fwd_azimuth_360\": 86.24052796900818, \"segment_direction\": \"east-west\"}, {\"fwd_azimuth_360\": 197.7215435103644, \"segment_direction\": \"north-south\"}, {\"fwd_azimuth_360\": 96.62843380883739, \"segment_direction\": \"east-west\"}, {\"fwd_azimuth_360\": 16.404653215335372, \"segment_direction\": \"north-south\"}, {\"fwd_azimuth_360\": 179.83291002534196, \"segment_direction\": \"north-south\"}, {\"fwd_azimuth_360\": 115.71077795830985, \"segment_direction\": \"east-west\"}, {\"fwd_azimuth_360\": 262.35221251187835, \"segment_direction\": \"east-west\"}, {\"fwd_azimuth_360\": 303.9883740087072, \"segment_direction\": \"east-west\"}, {\"fwd_azimuth_360\": 98.05520066453641, \"segment_direction\": \"east-west\"}, {\"fwd_azimuth_360\": 89.55606245380005, \"segment_direction\": \"east-west\"}, {\"fwd_azimuth_360\": 358.1743195050782, \"segment_direction\": \"north-south\"}, {\"fwd_azimuth_360\": 308.00584216034997, \"segment_direction\": \"east-west\"}, {\"fwd_azimuth_360\": 319.5922209957686, \"segment_direction\": \"north-south\"}, {\"fwd_azimuth_360\": 359.7002621071328, \"segment_direction\": \"north-south\"}, {\"fwd_azimuth_360\": 274.29604540904774, \"segment_direction\": \"east-west\"}, {\"fwd_azimuth_360\": 102.07863087038474, \"segment_direction\": \"east-west\"}, {\"fwd_azimuth_360\": 153.79169307726306, \"segment_direction\": \"north-south\"}, {\"fwd_azimuth_360\": 135.44876049767691, \"segment_direction\": \"north-south\"}, {\"fwd_azimuth_360\": 178.50495975928658, \"segment_direction\": \"north-south\"}, {\"fwd_azimuth_360\": 359.7242973670339, \"segment_direction\": \"north-south\"}, {\"fwd_azimuth_360\": 359.78705908792347, \"segment_direction\": \"north-south\"}, {\"fwd_azimuth_360\": 335.0846644593208, \"segment_direction\": \"north-south\"}, {\"fwd_azimuth_360\": 33.091803934399614, \"segment_direction\": \"north-south\"}, {\"fwd_azimuth_360\": 334.63428141599604, \"segment_direction\": \"north-south\"}, {\"fwd_azimuth_360\": 72.13884094292445, \"segment_direction\": \"east-west\"}, {\"fwd_azimuth_360\": 114.87308410889332, \"segment_direction\": \"east-west\"}, {\"fwd_azimuth_360\": 61.40553602686167, \"segment_direction\": \"east-west\"}, {\"fwd_azimuth_360\": 332.29047074072975, \"segment_direction\": \"north-south\"}, {\"fwd_azimuth_360\": 90.35127281057406, \"segment_direction\": \"east-west\"}, {\"fwd_azimuth_360\": 110.5717617367468, \"segment_direction\": \"east-west\"}, {\"fwd_azimuth_360\": 318.089322764911, \"segment_direction\": \"north-south\"}, {\"fwd_azimuth_360\": 265.73829125627026, \"segment_direction\": \"east-west\"}, {\"fwd_azimuth_360\": 277.828525725357, \"segment_direction\": \"east-west\"}, {\"fwd_azimuth_360\": 266.54480256654097, \"segment_direction\": \"east-west\"}, {\"fwd_azimuth_360\": 89.93355512291284, \"segment_direction\": \"east-west\"}, {\"fwd_azimuth_360\": 130.88250966578335, \"segment_direction\": \"east-west\"}, {\"fwd_azimuth_360\": 358.0205445941991, \"segment_direction\": \"north-south\"}, {\"fwd_azimuth_360\": 111.80190726937678, \"segment_direction\": \"east-west\"}, {\"fwd_azimuth_360\": 30.921615898516897, \"segment_direction\": \"north-south\"}, {\"fwd_azimuth_360\": 248.5753654552637, \"segment_direction\": \"east-west\"}, {\"fwd_azimuth_360\": 180.60584374022483, \"segment_direction\": \"north-south\"}, {\"fwd_azimuth_360\": 145.35467497731793, \"segment_direction\": \"north-south\"}, {\"fwd_azimuth_360\": 326.48535923303757, \"segment_direction\": \"north-south\"}, {\"fwd_azimuth_360\": 89.6995782323519, \"segment_direction\": \"east-west\"}, {\"fwd_azimuth_360\": 232.33811690226014, \"segment_direction\": \"east-west\"}, {\"fwd_azimuth_360\": 92.03308472285829, \"segment_direction\": \"east-west\"}, {\"fwd_azimuth_360\": 25.742003154462463, \"segment_direction\": \"inconclusive\"}, {\"fwd_azimuth_360\": 220.45667869410718, \"segment_direction\": \"north-south\"}, {\"fwd_azimuth_360\": 235.9843787808194, \"segment_direction\": \"east-west\"}, {\"fwd_azimuth_360\": 323.0493944149782, \"segment_direction\": \"north-south\"}, {\"fwd_azimuth_360\": 337.133023502542, \"segment_direction\": \"north-south\"}, {\"fwd_azimuth_360\": 109.84834706545391, \"segment_direction\": \"east-west\"}, {\"fwd_azimuth_360\": 263.51035002144175, \"segment_direction\": \"east-west\"}, {\"fwd_azimuth_360\": 98.54317613997549, \"segment_direction\": \"east-west\"}, {\"fwd_azimuth_360\": 32.89835127877302, \"segment_direction\": \"north-south\"}, {\"fwd_azimuth_360\": 67.84532413206914, \"segment_direction\": \"east-west\"}, {\"fwd_azimuth_360\": 218.88285988259787, \"segment_direction\": \"north-south\"}, {\"fwd_azimuth_360\": 151.51623471179673, \"segment_direction\": \"north-south\"}, {\"fwd_azimuth_360\": 140.9757303047384, \"segment_direction\": \"north-south\"}, {\"fwd_azimuth_360\": 357.9199332292807, \"segment_direction\": \"north-south\"}, {\"fwd_azimuth_360\": 32.29423052192382, \"segment_direction\": \"north-south\"}, {\"fwd_azimuth_360\": 88.89293821867957, \"segment_direction\": \"east-west\"}, {\"fwd_azimuth_360\": 91.88000726584576, \"segment_direction\": \"east-west\"}, {\"fwd_azimuth_360\": 17.502944245754644, \"segment_direction\": \"north-south\"}, {\"fwd_azimuth_360\": 104.09381088858574, \"segment_direction\": \"east-west\"}, {\"fwd_azimuth_360\": 20.64336698413259, \"segment_direction\": \"north-south\"}, {\"fwd_azimuth_360\": 220.49207021087437, \"segment_direction\": \"north-south\"}, {\"fwd_azimuth_360\": 89.58939508177869, \"segment_direction\": \"east-west\"}, {\"fwd_azimuth_360\": 12.328323311526638, \"segment_direction\": \"north-south\"}, {\"fwd_azimuth_360\": 304.9243595371518, \"segment_direction\": \"east-west\"}, {\"fwd_azimuth_360\": 296.7658684506874, \"segment_direction\": \"east-west\"}, {\"fwd_azimuth_360\": 0.2917078982179682, \"segment_direction\": \"north-south\"}, {\"fwd_azimuth_360\": 36.49185416225466, \"segment_direction\": \"north-south\"}, {\"fwd_azimuth_360\": 96.5071260244695, \"segment_direction\": \"inconclusive\"}, {\"fwd_azimuth_360\": 89.84466834061035, \"segment_direction\": \"east-west\"}, {\"fwd_azimuth_360\": 318.7247583860326, \"segment_direction\": \"north-south\"}, {\"fwd_azimuth_360\": 49.42443548698102, \"segment_direction\": \"east-west\"}, {\"fwd_azimuth_360\": 49.69560877387418, \"segment_direction\": \"east-west\"}, {\"fwd_azimuth_360\": 184.60327816827646, \"segment_direction\": \"north-south\"}, {\"fwd_azimuth_360\": 52.57222608121228, \"segment_direction\": \"east-west\"}, {\"fwd_azimuth_360\": 358.0547037313567, \"segment_direction\": \"north-south\"}, {\"fwd_azimuth_360\": 69.63348095089093, \"segment_direction\": \"east-west\"}, {\"fwd_azimuth_360\": 89.82411413067945, \"segment_direction\": \"east-west\"}, {\"fwd_azimuth_360\": 6.049772706322762, \"segment_direction\": \"north-south\"}, {\"fwd_azimuth_360\": 89.67396961684595, \"segment_direction\": \"east-west\"}, {\"fwd_azimuth_360\": 79.94337272145964, \"segment_direction\": \"east-west\"}, {\"fwd_azimuth_360\": 89.89452598886402, \"segment_direction\": \"east-west\"}, {\"fwd_azimuth_360\": 127.29338774873628, \"segment_direction\": \"east-west\"}, {\"fwd_azimuth_360\": 89.94500112943284, \"segment_direction\": \"east-west\"}, {\"fwd_azimuth_360\": 69.86534651007183, \"segment_direction\": \"east-west\"}, {\"fwd_azimuth_360\": 87.44483754808378, \"segment_direction\": \"inconclusive\"}, {\"fwd_azimuth_360\": 59.08178148340126, \"segment_direction\": \"east-west\"}, {\"fwd_azimuth_360\": 0.12069996263175604, \"segment_direction\": \"north-south\"}, {\"fwd_azimuth_360\": 147.395417511141, \"segment_direction\": \"north-south\"}, {\"fwd_azimuth_360\": 138.37268568441846, \"segment_direction\": \"north-south\"}, {\"fwd_azimuth_360\": 118.18085325789377, \"segment_direction\": \"east-west\"}, {\"fwd_azimuth_360\": 326.3153441307384, \"segment_direction\": \"north-south\"}, {\"fwd_azimuth_360\": 256.83117724998675, \"segment_direction\": \"east-west\"}, {\"fwd_azimuth_360\": 32.709586096189284, \"segment_direction\": \"north-south\"}, {\"fwd_azimuth_360\": 355.8878204880167, \"segment_direction\": \"north-south\"}, {\"fwd_azimuth_360\": 170.25840024682327, \"segment_direction\": \"north-south\"}, {\"fwd_azimuth_360\": 0.38985743963759606, \"segment_direction\": \"north-south\"}, {\"fwd_azimuth_360\": 14.058216243214364, \"segment_direction\": \"north-south\"}, {\"fwd_azimuth_360\": 106.91220546956316, \"segment_direction\": \"east-west\"}, {\"fwd_azimuth_360\": 65.50014603144447, \"segment_direction\": \"east-west\"}, {\"fwd_azimuth_360\": 59.28371501862101, \"segment_direction\": \"east-west\"}, {\"fwd_azimuth_360\": 158.24713029791656, \"segment_direction\": \"north-south\"}, {\"fwd_azimuth_360\": 267.68403639257747, \"segment_direction\": \"east-west\"}, {\"fwd_azimuth_360\": 329.2530795105553, \"segment_direction\": \"north-south\"}, {\"fwd_azimuth_360\": 5.158025777506706, \"segment_direction\": \"north-south\"}, {\"fwd_azimuth_360\": 359.85428182851103, \"segment_direction\": \"north-south\"}, {\"fwd_azimuth_360\": 89.84765166541659, \"segment_direction\": \"east-west\"}, {\"fwd_azimuth_360\": 190.5318090138327, \"segment_direction\": \"north-south\"}, {\"fwd_azimuth_360\": 81.65097142920374, \"segment_direction\": \"east-west\"}, {\"fwd_azimuth_360\": 179.75887301489456, \"segment_direction\": \"north-south\"}, {\"fwd_azimuth_360\": 282.97948067316383, \"segment_direction\": \"east-west\"}, {\"fwd_azimuth_360\": 145.9497218174694, \"segment_direction\": \"north-south\"}, {\"fwd_azimuth_360\": 95.4069958811343, \"segment_direction\": \"east-west\"}, {\"fwd_azimuth_360\": 332.8004150042022, \"segment_direction\": \"north-south\"}, {\"fwd_azimuth_360\": 171.00302792676536, \"segment_direction\": \"north-south\"}, {\"fwd_azimuth_360\": 302.09642769863046, \"segment_direction\": \"east-west\"}, {\"fwd_azimuth_360\": 0.6134094737933031, \"segment_direction\": \"north-south\"}, {\"fwd_azimuth_360\": 270.0001730960545, \"segment_direction\": \"east-west\"}, {\"fwd_azimuth_360\": 38.950687840719226, \"segment_direction\": \"north-south\"}, {\"fwd_azimuth_360\": 57.40819610789407, \"segment_direction\": \"east-west\"}, {\"fwd_azimuth_360\": 6.354145351286916, \"segment_direction\": \"north-south\"}, {\"fwd_azimuth_360\": 89.69100733522279, \"segment_direction\": \"east-west\"}, {\"fwd_azimuth_360\": 148.26555589274486, \"segment_direction\": \"north-south\"}, {\"fwd_azimuth_360\": 51.82847998947103, \"segment_direction\": \"east-west\"}, {\"fwd_azimuth_360\": 89.60901367792513, \"segment_direction\": \"east-west\"}, {\"fwd_azimuth_360\": 7.0163127891438135, \"segment_direction\": \"north-south\"}, {\"fwd_azimuth_360\": 221.41741267580846, \"segment_direction\": \"north-south\"}, {\"fwd_azimuth_360\": 257.088997218095, \"segment_direction\": \"east-west\"}, {\"fwd_azimuth_360\": 184.65835348370936, \"segment_direction\": \"north-south\"}, {\"fwd_azimuth_360\": 153.93756829394255, \"segment_direction\": \"north-south\"}, {\"fwd_azimuth_360\": 270.1901036422482, \"segment_direction\": \"east-west\"}, {\"fwd_azimuth_360\": 259.07496544811676, \"segment_direction\": \"east-west\"}, {\"fwd_azimuth_360\": 57.86683733619259, \"segment_direction\": \"east-west\"}, {\"fwd_azimuth_360\": 308.8974892083875, \"segment_direction\": \"east-west\"}, {\"fwd_azimuth_360\": 351.44192424702084, \"segment_direction\": \"north-south\"}, {\"fwd_azimuth_360\": 58.989818138387065, \"segment_direction\": \"east-west\"}, {\"fwd_azimuth_360\": 106.18071557408712, \"segment_direction\": \"east-west\"}, {\"fwd_azimuth_360\": 73.71468007168309, \"segment_direction\": \"east-west\"}, {\"fwd_azimuth_360\": 104.75769690150389, \"segment_direction\": \"east-west\"}, {\"fwd_azimuth_360\": 358.7342120227769, \"segment_direction\": \"north-south\"}, {\"fwd_azimuth_360\": 250.4766289413315, \"segment_direction\": \"east-west\"}, {\"fwd_azimuth_360\": 270.0546404599396, \"segment_direction\": \"east-west\"}, {\"fwd_azimuth_360\": 98.36452533230859, \"segment_direction\": \"east-west\"}, {\"fwd_azimuth_360\": 87.13132109066747, \"segment_direction\": \"east-west\"}, {\"fwd_azimuth_360\": 269.60517140510666, \"segment_direction\": \"east-west\"}, {\"fwd_azimuth_360\": 85.26294166191829, \"segment_direction\": \"east-west\"}, {\"fwd_azimuth_360\": 155.79385169324078, \"segment_direction\": \"north-south\"}, {\"fwd_azimuth_360\": 97.08781148113981, \"segment_direction\": \"east-west\"}, {\"fwd_azimuth_360\": 173.84972662700176, \"segment_direction\": \"north-south\"}, {\"fwd_azimuth_360\": 324.53411698847844, \"segment_direction\": \"north-south\"}, {\"fwd_azimuth_360\": 0.08284069624239168, \"segment_direction\": \"north-south\"}, {\"fwd_azimuth_360\": 350.9100303399716, \"segment_direction\": \"north-south\"}, {\"fwd_azimuth_360\": 352.82389266220514, \"segment_direction\": \"north-south\"}, {\"fwd_azimuth_360\": 17.100940054287147, \"segment_direction\": \"north-south\"}, {\"fwd_azimuth_360\": 179.67510839016114, \"segment_direction\": \"north-south\"}, {\"fwd_azimuth_360\": 180.32771210503148, \"segment_direction\": \"north-south\"}, {\"fwd_azimuth_360\": 0.04477955535057753, \"segment_direction\": \"north-south\"}, {\"fwd_azimuth_360\": 98.02957994778306, \"segment_direction\": \"east-west\"}, {\"fwd_azimuth_360\": 0.09231018781068404, \"segment_direction\": \"north-south\"}, {\"fwd_azimuth_360\": 67.80341784153426, \"segment_direction\": \"east-west\"}, {\"fwd_azimuth_360\": 32.361491941855995, \"segment_direction\": \"north-south\"}, {\"fwd_azimuth_360\": 155.48506596157839, \"segment_direction\": \"north-south\"}, {\"fwd_azimuth_360\": 121.29703946877243, \"segment_direction\": \"east-west\"}, {\"fwd_azimuth_360\": 104.20614127811781, \"segment_direction\": \"east-west\"}, {\"fwd_azimuth_360\": 76.24159562650611, \"segment_direction\": \"east-west\"}, {\"fwd_azimuth_360\": 314.52022064280686, \"segment_direction\": \"north-south\"}, {\"fwd_azimuth_360\": 146.54120854426088, \"segment_direction\": \"north-south\"}, {\"fwd_azimuth_360\": 0.06081533189972658, \"segment_direction\": \"north-south\"}, {\"fwd_azimuth_360\": 139.87426737368705, \"segment_direction\": \"inconclusive\"}, {\"fwd_azimuth_360\": 102.12981718374552, \"segment_direction\": \"east-west\"}, {\"fwd_azimuth_360\": 284.84138403283976, \"segment_direction\": \"east-west\"}, {\"fwd_azimuth_360\": 321.26530467896293, \"segment_direction\": \"north-south\"}, {\"fwd_azimuth_360\": 123.04622019448203, \"segment_direction\": \"east-west\"}, {\"fwd_azimuth_360\": 258.8650494771382, \"segment_direction\": \"east-west\"}, {\"fwd_azimuth_360\": 233.2086636009848, \"segment_direction\": \"east-west\"}, {\"fwd_azimuth_360\": 104.98644758395206, \"segment_direction\": \"east-west\"}, {\"fwd_azimuth_360\": 186.6037517019289, \"segment_direction\": \"north-south\"}, {\"fwd_azimuth_360\": 165.70535028283996, \"segment_direction\": \"north-south\"}, {\"fwd_azimuth_360\": 270.12641593013495, \"segment_direction\": \"east-west\"}, {\"fwd_azimuth_360\": 86.50300133949476, \"segment_direction\": \"east-west\"}, {\"fwd_azimuth_360\": 89.72044118325665, \"segment_direction\": \"east-west\"}, {\"fwd_azimuth_360\": 0.2204896168238561, \"segment_direction\": \"north-south\"}, {\"fwd_azimuth_360\": 59.58560668822688, \"segment_direction\": \"east-west\"}, {\"fwd_azimuth_360\": 357.10869277276305, \"segment_direction\": \"north-south\"}, {\"fwd_azimuth_360\": 274.84511786281917, \"segment_direction\": \"east-west\"}, {\"fwd_azimuth_360\": 159.65047251796994, \"segment_direction\": \"north-south\"}, {\"fwd_azimuth_360\": 288.47050962192225, \"segment_direction\": \"east-west\"}, {\"fwd_azimuth_360\": 281.5076344414176, \"segment_direction\": \"east-west\"}, {\"fwd_azimuth_360\": 16.368992077314147, \"segment_direction\": \"north-south\"}, {\"fwd_azimuth_360\": 359.86445625497464, \"segment_direction\": \"north-south\"}, {\"fwd_azimuth_360\": 104.40816783565239, \"segment_direction\": \"east-west\"}, {\"fwd_azimuth_360\": 179.26073987438127, \"segment_direction\": \"north-south\"}, {\"fwd_azimuth_360\": 189.73505675504626, \"segment_direction\": \"north-south\"}, {\"fwd_azimuth_360\": 156.30507909670288, \"segment_direction\": \"north-south\"}, {\"fwd_azimuth_360\": 302.09642769863046, \"segment_direction\": \"east-west\"}, {\"fwd_azimuth_360\": 74.72359933681052, \"segment_direction\": \"east-west\"}, {\"fwd_azimuth_360\": 359.9854782148417, \"segment_direction\": \"north-south\"}, {\"fwd_azimuth_360\": 44.91088462888596, \"segment_direction\": \"north-south\"}, {\"fwd_azimuth_360\": 89.79789549261477, \"segment_direction\": \"east-west\"}, {\"fwd_azimuth_360\": 79.2463339880729, \"segment_direction\": \"east-west\"}, {\"fwd_azimuth_360\": 32.60709098342717, \"segment_direction\": \"north-south\"}, {\"fwd_azimuth_360\": 0.45815864202151335, \"segment_direction\": \"north-south\"}, {\"fwd_azimuth_360\": 89.91066531045237, \"segment_direction\": \"east-west\"}, {\"fwd_azimuth_360\": 127.22236365513366, \"segment_direction\": \"east-west\"}, {\"fwd_azimuth_360\": 332.0630890712493, \"segment_direction\": \"north-south\"}, {\"fwd_azimuth_360\": 359.9305877368954, \"segment_direction\": \"north-south\"}, {\"fwd_azimuth_360\": 118.23211616311609, \"segment_direction\": \"east-west\"}, {\"fwd_azimuth_360\": 24.83457923509119, \"segment_direction\": \"north-south\"}, {\"fwd_azimuth_360\": 351.7244153776541, \"segment_direction\": \"north-south\"}, {\"fwd_azimuth_360\": 180.10466896882627, \"segment_direction\": \"north-south\"}, {\"fwd_azimuth_360\": 323.42468480269287, \"segment_direction\": \"north-south\"}, {\"fwd_azimuth_360\": 262.1172061590261, \"segment_direction\": \"east-west\"}, {\"fwd_azimuth_360\": 59.97825397194572, \"segment_direction\": \"east-west\"}, {\"fwd_azimuth_360\": 126.94623159023668, \"segment_direction\": \"east-west\"}, {\"fwd_azimuth_360\": 265.22254644830355, \"segment_direction\": \"east-west\"}, {\"fwd_azimuth_360\": 348.039178737483, \"segment_direction\": \"north-south\"}, {\"fwd_azimuth_360\": 216.6940761689809, \"segment_direction\": \"inconclusive\"}, {\"fwd_azimuth_360\": 0.01393290005410337, \"segment_direction\": \"north-south\"}, {\"fwd_azimuth_360\": 32.403068627506414, \"segment_direction\": \"north-south\"}, {\"fwd_azimuth_360\": 258.315226810565, \"segment_direction\": \"east-west\"}, {\"fwd_azimuth_360\": 22.8102805920157, \"segment_direction\": \"north-south\"}, {\"fwd_azimuth_360\": 267.961926226349, \"segment_direction\": \"inconclusive\"}, {\"fwd_azimuth_360\": 59.36072831817066, \"segment_direction\": \"east-west\"}, {\"fwd_azimuth_360\": 153.0825942791921, \"segment_direction\": \"north-south\"}, {\"fwd_azimuth_360\": 8.341905519397516, \"segment_direction\": \"north-south\"}, {\"fwd_azimuth_360\": 347.9135574724387, \"segment_direction\": \"north-south\"}, {\"fwd_azimuth_360\": 49.55816941004322, \"segment_direction\": \"east-west\"}, {\"fwd_azimuth_360\": 218.2875348486285, \"segment_direction\": \"north-south\"}, {\"fwd_azimuth_360\": 74.10691049402098, \"segment_direction\": \"east-west\"}, {\"fwd_azimuth_360\": 89.70433637873329, \"segment_direction\": \"east-west\"}, {\"fwd_azimuth_360\": 268.4951991041299, \"segment_direction\": \"east-west\"}, {\"fwd_azimuth_360\": 175.75487413515535, \"segment_direction\": \"north-south\"}, {\"fwd_azimuth_360\": 0.04029708235852378, \"segment_direction\": \"north-south\"}, {\"fwd_azimuth_360\": 0.021935870565855723, \"segment_direction\": \"north-south\"}, {\"fwd_azimuth_360\": 253.03491092560117, \"segment_direction\": \"east-west\"}, {\"fwd_azimuth_360\": 265.16569782724906, \"segment_direction\": \"east-west\"}, {\"fwd_azimuth_360\": 90.09367142459432, \"segment_direction\": \"east-west\"}, {\"fwd_azimuth_360\": 353.6578419797309, \"segment_direction\": \"north-south\"}, {\"fwd_azimuth_360\": 89.99625268240648, \"segment_direction\": \"east-west\"}, {\"fwd_azimuth_360\": 0.040591215974103395, \"segment_direction\": \"north-south\"}, {\"fwd_azimuth_360\": 90.15134027437676, \"segment_direction\": \"east-west\"}, {\"fwd_azimuth_360\": 356.2493559772531, \"segment_direction\": \"north-south\"}, {\"fwd_azimuth_360\": 172.61311163769457, \"segment_direction\": \"north-south\"}, {\"fwd_azimuth_360\": 1.2842414814362524, \"segment_direction\": \"north-south\"}, {\"fwd_azimuth_360\": 62.38599676351599, \"segment_direction\": \"east-west\"}, {\"fwd_azimuth_360\": 359.85832222067035, \"segment_direction\": \"north-south\"}, {\"fwd_azimuth_360\": 359.6911522344348, \"segment_direction\": \"north-south\"}, {\"fwd_azimuth_360\": 206.93289939941013, \"segment_direction\": \"north-south\"}, {\"fwd_azimuth_360\": 89.95110154953338, \"segment_direction\": \"east-west\"}, {\"fwd_azimuth_360\": 166.07385733142542, \"segment_direction\": \"north-south\"}, {\"fwd_azimuth_360\": 350.6457033548988, \"segment_direction\": \"north-south\"}, {\"fwd_azimuth_360\": 258.6975934250978, \"segment_direction\": \"east-west\"}, {\"fwd_azimuth_360\": 2.2151521936815293, \"segment_direction\": \"north-south\"}, {\"fwd_azimuth_360\": 269.49520300334314, \"segment_direction\": \"east-west\"}, {\"fwd_azimuth_360\": 62.20399424799178, \"segment_direction\": \"east-west\"}, {\"fwd_azimuth_360\": 28.964980324697798, \"segment_direction\": \"north-south\"}, {\"fwd_azimuth_360\": 11.41254750052531, \"segment_direction\": \"north-south\"}, {\"fwd_azimuth_360\": 90.02409139484247, \"segment_direction\": \"east-west\"}, {\"fwd_azimuth_360\": 1.1155725322326733, \"segment_direction\": \"north-south\"}, {\"fwd_azimuth_360\": 298.13160974471316, \"segment_direction\": \"east-west\"}, {\"fwd_azimuth_360\": 331.67682064815284, \"segment_direction\": \"north-south\"}, {\"fwd_azimuth_360\": 119.05000517616936, \"segment_direction\": \"east-west\"}, {\"fwd_azimuth_360\": 90.79534115237756, \"segment_direction\": \"east-west\"}, {\"fwd_azimuth_360\": 1.0742485170131448, \"segment_direction\": \"north-south\"}, {\"fwd_azimuth_360\": 274.8091206453661, \"segment_direction\": \"east-west\"}, {\"fwd_azimuth_360\": 186.10012917006875, \"segment_direction\": \"inconclusive\"}, {\"fwd_azimuth_360\": 71.23860543759145, \"segment_direction\": \"east-west\"}, {\"fwd_azimuth_360\": 118.66542623686743, \"segment_direction\": \"east-west\"}, {\"fwd_azimuth_360\": 143.73230814682424, \"segment_direction\": \"north-south\"}, {\"fwd_azimuth_360\": 193.1337846276006, \"segment_direction\": \"inconclusive\"}, {\"fwd_azimuth_360\": 147.72251164476017, \"segment_direction\": \"north-south\"}, {\"fwd_azimuth_360\": 276.36147653472693, \"segment_direction\": \"east-west\"}, {\"fwd_azimuth_360\": 0.3665518196673186, \"segment_direction\": \"north-south\"}, {\"fwd_azimuth_360\": 237.12900335300088, \"segment_direction\": \"east-west\"}, {\"fwd_azimuth_360\": 75.3815640882361, \"segment_direction\": \"east-west\"}, {\"fwd_azimuth_360\": 177.02813953501033, \"segment_direction\": \"north-south\"}, {\"fwd_azimuth_360\": 269.56044304373705, \"segment_direction\": \"east-west\"}, {\"fwd_azimuth_360\": 94.16961860795365, \"segment_direction\": \"east-west\"}, {\"fwd_azimuth_360\": 90.03521604058672, \"segment_direction\": \"east-west\"}, {\"fwd_azimuth_360\": 248.60358525603743, \"segment_direction\": \"east-west\"}, {\"fwd_azimuth_360\": 11.675313806463786, \"segment_direction\": \"north-south\"}, {\"fwd_azimuth_360\": 89.9329081930126, \"segment_direction\": \"east-west\"}, {\"fwd_azimuth_360\": 25.978555249952603, \"segment_direction\": \"north-south\"}, {\"fwd_azimuth_360\": 165.68711461916052, \"segment_direction\": \"north-south\"}, {\"fwd_azimuth_360\": 108.17510109781405, \"segment_direction\": \"east-west\"}, {\"fwd_azimuth_360\": 359.829915933493, \"segment_direction\": \"north-south\"}, {\"fwd_azimuth_360\": 322.015999449638, \"segment_direction\": \"north-south\"}, {\"fwd_azimuth_360\": 169.19933981026978, \"segment_direction\": \"north-south\"}, {\"fwd_azimuth_360\": 8.75743863090744, \"segment_direction\": \"north-south\"}, {\"fwd_azimuth_360\": 20.41723824208894, \"segment_direction\": \"north-south\"}, {\"fwd_azimuth_360\": 234.43401905464256, \"segment_direction\": \"east-west\"}, {\"fwd_azimuth_360\": 246.01877820594544, \"segment_direction\": \"east-west\"}, {\"fwd_azimuth_360\": 49.51777837153303, \"segment_direction\": \"east-west\"}, {\"fwd_azimuth_360\": 272.22846905762304, \"segment_direction\": \"east-west\"}, {\"fwd_azimuth_360\": 87.88011939286297, \"segment_direction\": \"east-west\"}, {\"fwd_azimuth_360\": 316.20307093529783, \"segment_direction\": \"north-south\"}, {\"fwd_azimuth_360\": 356.2477133350023, \"segment_direction\": \"north-south\"}, {\"fwd_azimuth_360\": 65.23383406944886, \"segment_direction\": \"east-west\"}, {\"fwd_azimuth_360\": 179.8056955420475, \"segment_direction\": \"north-south\"}, {\"fwd_azimuth_360\": 100.12020484929286, \"segment_direction\": \"east-west\"}, {\"fwd_azimuth_360\": 53.90700649565903, \"segment_direction\": \"east-west\"}, {\"fwd_azimuth_360\": 50.618891931463104, \"segment_direction\": \"east-west\"}, {\"fwd_azimuth_360\": 343.8435467778483, \"segment_direction\": \"north-south\"}, {\"fwd_azimuth_360\": 28.662730588474506, \"segment_direction\": \"north-south\"}, {\"fwd_azimuth_360\": 349.49287693644743, \"segment_direction\": \"north-south\"}, {\"fwd_azimuth_360\": 39.45231512290811, \"segment_direction\": \"north-south\"}, {\"fwd_azimuth_360\": 100.11752426344444, \"segment_direction\": \"east-west\"}, {\"fwd_azimuth_360\": 313.31747435186577, \"segment_direction\": \"east-west\"}, {\"fwd_azimuth_360\": 295.10334454948145, \"segment_direction\": \"east-west\"}, {\"fwd_azimuth_360\": 269.76939549422593, \"segment_direction\": \"east-west\"}, {\"fwd_azimuth_360\": 308.6787301370798, \"segment_direction\": \"east-west\"}, {\"fwd_azimuth_360\": 146.68804733653133, \"segment_direction\": \"north-south\"}, {\"fwd_azimuth_360\": 123.8615411731495, \"segment_direction\": \"east-west\"}, {\"fwd_azimuth_360\": 360.0, \"segment_direction\": \"north-south\"}, {\"fwd_azimuth_360\": 130.5500484039717, \"segment_direction\": \"east-west\"}, {\"fwd_azimuth_360\": 113.00525381153372, \"segment_direction\": \"east-west\"}, {\"fwd_azimuth_360\": 50.48384288033973, \"segment_direction\": \"east-west\"}, {\"fwd_azimuth_360\": 197.05409027134084, \"segment_direction\": \"north-south\"}, {\"fwd_azimuth_360\": 7.87991646756191, \"segment_direction\": \"north-south\"}, {\"fwd_azimuth_360\": 77.91529232945048, \"segment_direction\": \"east-west\"}, {\"fwd_azimuth_360\": 272.5026657630497, \"segment_direction\": \"east-west\"}, {\"fwd_azimuth_360\": 293.7746087944337, \"segment_direction\": \"east-west\"}, {\"fwd_azimuth_360\": 111.81795939783795, \"segment_direction\": \"east-west\"}, {\"fwd_azimuth_360\": 180.10219118038614, \"segment_direction\": \"north-south\"}, {\"fwd_azimuth_360\": 90.02391500642906, \"segment_direction\": \"east-west\"}, {\"fwd_azimuth_360\": 269.77049102238266, \"segment_direction\": \"east-west\"}, {\"fwd_azimuth_360\": 59.44185617956788, \"segment_direction\": \"east-west\"}, {\"fwd_azimuth_360\": 295.51440833858, \"segment_direction\": \"east-west\"}, {\"fwd_azimuth_360\": 23.429028357020506, \"segment_direction\": \"north-south\"}, {\"fwd_azimuth_360\": 162.3329279124782, \"segment_direction\": \"north-south\"}, {\"fwd_azimuth_360\": 180.0, \"segment_direction\": \"north-south\"}, {\"fwd_azimuth_360\": 45.59940977180193, \"segment_direction\": \"east-west\"}, {\"fwd_azimuth_360\": 114.27586135161417, \"segment_direction\": \"east-west\"}, {\"fwd_azimuth_360\": 186.6251692802544, \"segment_direction\": \"north-south\"}, {\"fwd_azimuth_360\": 220.9559981385276, \"segment_direction\": \"north-south\"}, {\"fwd_azimuth_360\": 65.66646260249014, \"segment_direction\": \"east-west\"}, {\"fwd_azimuth_360\": 252.8262684791789, \"segment_direction\": \"inconclusive\"}, {\"fwd_azimuth_360\": 260.63700523940247, \"segment_direction\": \"east-west\"}, {\"fwd_azimuth_360\": 138.72575745916885, \"segment_direction\": \"north-south\"}, {\"fwd_azimuth_360\": 71.97920738248598, \"segment_direction\": \"east-west\"}, {\"fwd_azimuth_360\": 201.46423919095508, \"segment_direction\": \"north-south\"}, {\"fwd_azimuth_360\": 351.36979722013973, \"segment_direction\": \"north-south\"}, {\"fwd_azimuth_360\": 270.2073530110532, \"segment_direction\": \"east-west\"}, {\"fwd_azimuth_360\": 126.48333955797631, \"segment_direction\": \"east-west\"}, {\"fwd_azimuth_360\": 52.1946400766971, \"segment_direction\": \"east-west\"}, {\"fwd_azimuth_360\": 160.7704850930869, \"segment_direction\": \"north-south\"}, {\"fwd_azimuth_360\": 87.7131060921807, \"segment_direction\": \"east-west\"}, {\"fwd_azimuth_360\": 165.67813535754127, \"segment_direction\": \"north-south\"}, {\"fwd_azimuth_360\": 349.38610759688027, \"segment_direction\": \"north-south\"}, {\"fwd_azimuth_360\": 90.0978794567021, \"segment_direction\": \"east-west\"}, {\"fwd_azimuth_360\": 155.9013363108206, \"segment_direction\": \"north-south\"}, {\"fwd_azimuth_360\": 76.50189827251505, \"segment_direction\": \"east-west\"}, {\"fwd_azimuth_360\": 321.03467516816335, \"segment_direction\": \"north-south\"}, {\"fwd_azimuth_360\": 359.9992138262052, \"segment_direction\": \"north-south\"}, {\"fwd_azimuth_360\": 351.4996706646298, \"segment_direction\": \"north-south\"}, {\"fwd_azimuth_360\": 150.69344508391077, \"segment_direction\": \"north-south\"}, {\"fwd_azimuth_360\": 88.8502626662692, \"segment_direction\": \"east-west\"}, {\"fwd_azimuth_360\": 45.516059023989094, \"segment_direction\": \"east-west\"}, {\"fwd_azimuth_360\": 196.41664956507162, \"segment_direction\": \"north-south\"}, {\"fwd_azimuth_360\": 89.54288003874599, \"segment_direction\": \"east-west\"}, {\"fwd_azimuth_360\": 359.9716182047116, \"segment_direction\": \"north-south\"}, {\"fwd_azimuth_360\": 359.95298560704344, \"segment_direction\": \"north-south\"}, {\"fwd_azimuth_360\": 180.24216841959282, \"segment_direction\": \"north-south\"}, {\"fwd_azimuth_360\": 45.58446470324483, \"segment_direction\": \"north-south\"}, {\"fwd_azimuth_360\": 6.725489737900621, \"segment_direction\": \"north-south\"}, {\"fwd_azimuth_360\": 246.16288152698684, \"segment_direction\": \"east-west\"}, {\"fwd_azimuth_360\": 88.76884374434037, \"segment_direction\": \"east-west\"}, {\"fwd_azimuth_360\": 270.24507845076147, \"segment_direction\": \"east-west\"}, {\"fwd_azimuth_360\": 148.28021326335676, \"segment_direction\": \"north-south\"}, {\"fwd_azimuth_360\": 263.6398171207102, \"segment_direction\": \"east-west\"}, {\"fwd_azimuth_360\": 78.20838796705723, \"segment_direction\": \"east-west\"}, {\"fwd_azimuth_360\": 287.85230502177814, \"segment_direction\": \"east-west\"}, {\"fwd_azimuth_360\": 359.9190804266033, \"segment_direction\": \"north-south\"}, {\"fwd_azimuth_360\": 88.93728044907103, \"segment_direction\": \"east-west\"}, {\"fwd_azimuth_360\": 270.05059653535176, \"segment_direction\": \"east-west\"}, {\"fwd_azimuth_360\": 202.58981560496008, \"segment_direction\": \"north-south\"}, {\"fwd_azimuth_360\": 68.88148427093373, \"segment_direction\": \"east-west\"}, {\"fwd_azimuth_360\": 51.377964265408856, \"segment_direction\": \"east-west\"}, {\"fwd_azimuth_360\": 358.4464857892532, \"segment_direction\": \"north-south\"}, {\"fwd_azimuth_360\": 180.12294301802746, \"segment_direction\": \"north-south\"}, {\"fwd_azimuth_360\": 82.34745513624505, \"segment_direction\": \"east-west\"}, {\"fwd_azimuth_360\": 89.96212770462922, \"segment_direction\": \"east-west\"}, {\"fwd_azimuth_360\": 347.4477486966091, \"segment_direction\": \"north-south\"}, {\"fwd_azimuth_360\": 328.2790587031474, \"segment_direction\": \"north-south\"}, {\"fwd_azimuth_360\": 353.9016954530284, \"segment_direction\": \"north-south\"}, {\"fwd_azimuth_360\": 244.26513723983823, \"segment_direction\": \"east-west\"}, {\"fwd_azimuth_360\": 93.22684412891032, \"segment_direction\": \"east-west\"}, {\"fwd_azimuth_360\": 314.0931067745418, \"segment_direction\": \"east-west\"}, {\"fwd_azimuth_360\": 114.76721625760946, \"segment_direction\": \"east-west\"}, {\"fwd_azimuth_360\": 223.8495866772555, \"segment_direction\": \"east-west\"}, {\"fwd_azimuth_360\": 222.25773098777967, \"segment_direction\": \"north-south\"}, {\"fwd_azimuth_360\": 68.39525518341182, \"segment_direction\": \"east-west\"}, {\"fwd_azimuth_360\": 85.99797172479937, \"segment_direction\": \"east-west\"}, {\"fwd_azimuth_360\": 163.60737117013318, \"segment_direction\": \"north-south\"}, {\"fwd_azimuth_360\": 89.95150398696046, \"segment_direction\": \"east-west\"}, {\"fwd_azimuth_360\": 89.79263861641974, \"segment_direction\": \"east-west\"}, {\"fwd_azimuth_360\": 264.7316806924663, \"segment_direction\": \"east-west\"}, {\"fwd_azimuth_360\": 89.39706578711652, \"segment_direction\": \"east-west\"}, {\"fwd_azimuth_360\": 0.12746212921344133, \"segment_direction\": \"north-south\"}, {\"fwd_azimuth_360\": 149.92526065768874, \"segment_direction\": \"north-south\"}, {\"fwd_azimuth_360\": 341.7906230194933, \"segment_direction\": \"north-south\"}, {\"fwd_azimuth_360\": 96.76275566492767, \"segment_direction\": \"east-west\"}, {\"fwd_azimuth_360\": 204.80613879973845, \"segment_direction\": \"north-south\"}, {\"fwd_azimuth_360\": 261.6845206156668, \"segment_direction\": \"east-west\"}, {\"fwd_azimuth_360\": 13.818848743257103, \"segment_direction\": \"north-south\"}, {\"fwd_azimuth_360\": 179.9380125698282, \"segment_direction\": \"north-south\"}, {\"fwd_azimuth_360\": 205.24428986930945, \"segment_direction\": \"north-south\"}, {\"fwd_azimuth_360\": 332.2402328311922, \"segment_direction\": \"north-south\"}, {\"fwd_azimuth_360\": 351.3648615223126, \"segment_direction\": \"north-south\"}, {\"fwd_azimuth_360\": 89.93222936611808, \"segment_direction\": \"east-west\"}, {\"fwd_azimuth_360\": 87.3772087155629, \"segment_direction\": \"east-west\"}, {\"fwd_azimuth_360\": 291.9637743000479, \"segment_direction\": \"east-west\"}, {\"fwd_azimuth_360\": 359.64898609735417, \"segment_direction\": \"north-south\"}, {\"fwd_azimuth_360\": 164.02577871572782, \"segment_direction\": \"north-south\"}, {\"fwd_azimuth_360\": 121.56928317712821, \"segment_direction\": \"east-west\"}, {\"fwd_azimuth_360\": 90.65818242297192, \"segment_direction\": \"east-west\"}, {\"fwd_azimuth_360\": 234.90631701394557, \"segment_direction\": \"east-west\"}, {\"fwd_azimuth_360\": 136.0590893506563, \"segment_direction\": \"north-south\"}, {\"fwd_azimuth_360\": 214.7966258354486, \"segment_direction\": \"north-south\"}, {\"fwd_azimuth_360\": 319.509786010309, \"segment_direction\": \"north-south\"}, {\"fwd_azimuth_360\": 104.91612417946243, \"segment_direction\": \"east-west\"}, {\"fwd_azimuth_360\": 89.84279566003542, \"segment_direction\": \"east-west\"}, {\"fwd_azimuth_360\": 338.0840749255216, \"segment_direction\": \"north-south\"}, {\"fwd_azimuth_360\": 253.07008497604974, \"segment_direction\": \"east-west\"}, {\"fwd_azimuth_360\": 104.2989158507653, \"segment_direction\": \"east-west\"}, {\"fwd_azimuth_360\": 96.58608943165419, \"segment_direction\": \"east-west\"}, {\"fwd_azimuth_360\": 28.35270968325799, \"segment_direction\": \"north-south\"}, {\"fwd_azimuth_360\": 179.5448487621945, \"segment_direction\": \"north-south\"}, {\"fwd_azimuth_360\": 0.918357476448626, \"segment_direction\": \"north-south\"}, {\"fwd_azimuth_360\": 199.90348383047902, \"segment_direction\": \"north-south\"}, {\"fwd_azimuth_360\": 248.065400957772, \"segment_direction\": \"east-west\"}, {\"fwd_azimuth_360\": 350.45442029582017, \"segment_direction\": \"north-south\"}, {\"fwd_azimuth_360\": 21.988870613948162, \"segment_direction\": \"north-south\"}, {\"fwd_azimuth_360\": 284.62138650339875, \"segment_direction\": \"east-west\"}, {\"fwd_azimuth_360\": 314.63805107399486, \"segment_direction\": \"east-west\"}, {\"fwd_azimuth_360\": 358.86521371811614, \"segment_direction\": \"inconclusive\"}, {\"fwd_azimuth_360\": 239.27927000473224, \"segment_direction\": \"east-west\"}, {\"fwd_azimuth_360\": 153.65108938754668, \"segment_direction\": \"north-south\"}, {\"fwd_azimuth_360\": 150.2891284911617, \"segment_direction\": \"north-south\"}, {\"fwd_azimuth_360\": 71.63892459495885, \"segment_direction\": \"east-west\"}, {\"fwd_azimuth_360\": 89.93500117261136, \"segment_direction\": \"east-west\"}, {\"fwd_azimuth_360\": 173.03129910463417, \"segment_direction\": \"north-south\"}, {\"fwd_azimuth_360\": 105.60001842544314, \"segment_direction\": \"east-west\"}, {\"fwd_azimuth_360\": 236.19989828025237, \"segment_direction\": \"east-west\"}, {\"fwd_azimuth_360\": 116.92068318679586, \"segment_direction\": \"east-west\"}, {\"fwd_azimuth_360\": 84.9922381352501, \"segment_direction\": \"east-west\"}, {\"fwd_azimuth_360\": 14.451719053859986, \"segment_direction\": \"north-south\"}, {\"fwd_azimuth_360\": 93.45310354230503, \"segment_direction\": \"east-west\"}, {\"fwd_azimuth_360\": 215.52553352641482, \"segment_direction\": \"north-south\"}, {\"fwd_azimuth_360\": 98.97716226738258, \"segment_direction\": \"east-west\"}, {\"fwd_azimuth_360\": 179.93308454871507, \"segment_direction\": \"north-south\"}, {\"fwd_azimuth_360\": 270.00380175809465, \"segment_direction\": \"east-west\"}, {\"fwd_azimuth_360\": 88.96048539953885, \"segment_direction\": \"east-west\"}, {\"fwd_azimuth_360\": 57.77373531631839, \"segment_direction\": \"east-west\"}, {\"fwd_azimuth_360\": 270.09677530493514, \"segment_direction\": \"east-west\"}, {\"fwd_azimuth_360\": 297.9409621325192, \"segment_direction\": \"east-west\"}, {\"fwd_azimuth_360\": 89.89606733207847, \"segment_direction\": \"east-west\"}, {\"fwd_azimuth_360\": 159.06687221628866, \"segment_direction\": \"north-south\"}, {\"fwd_azimuth_360\": 318.7589843350583, \"segment_direction\": \"north-south\"}, {\"fwd_azimuth_360\": 298.64215209171084, \"segment_direction\": \"east-west\"}, {\"fwd_azimuth_360\": 98.41887111993589, \"segment_direction\": \"east-west\"}, {\"fwd_azimuth_360\": 311.131633517896, \"segment_direction\": \"east-west\"}, {\"fwd_azimuth_360\": 0.03997164066696235, \"segment_direction\": \"north-south\"}, {\"fwd_azimuth_360\": 171.9860746858385, \"segment_direction\": \"north-south\"}, {\"fwd_azimuth_360\": 306.77866122897865, \"segment_direction\": \"east-west\"}, {\"fwd_azimuth_360\": 303.8275150439239, \"segment_direction\": \"east-west\"}, {\"fwd_azimuth_360\": 23.138070997293376, \"segment_direction\": \"north-south\"}, {\"fwd_azimuth_360\": 148.51135514487197, \"segment_direction\": \"north-south\"}, {\"fwd_azimuth_360\": 359.8304681496314, \"segment_direction\": \"north-south\"}, {\"fwd_azimuth_360\": 90.12097578665956, \"segment_direction\": \"east-west\"}, {\"fwd_azimuth_360\": 170.7309565765848, \"segment_direction\": \"inconclusive\"}, {\"fwd_azimuth_360\": 6.458239955000457, \"segment_direction\": \"north-south\"}, {\"fwd_azimuth_360\": 222.31851665665988, \"segment_direction\": \"north-south\"}, {\"fwd_azimuth_360\": 143.6367299519144, \"segment_direction\": \"north-south\"}, {\"fwd_azimuth_360\": 359.56361389820876, \"segment_direction\": \"north-south\"}, {\"fwd_azimuth_360\": 340.07220648431513, \"segment_direction\": \"north-south\"}, {\"fwd_azimuth_360\": 331.45245663810175, \"segment_direction\": \"north-south\"}, {\"fwd_azimuth_360\": 261.550434918928, \"segment_direction\": \"east-west\"}, {\"fwd_azimuth_360\": 0.172155376554944, \"segment_direction\": \"north-south\"}, {\"fwd_azimuth_360\": 165.73603299681423, \"segment_direction\": \"north-south\"}, {\"fwd_azimuth_360\": 90.62591877074293, \"segment_direction\": \"east-west\"}, {\"fwd_azimuth_360\": 90.23780911443238, \"segment_direction\": \"east-west\"}, {\"fwd_azimuth_360\": 359.76613362993106, \"segment_direction\": \"north-south\"}, {\"fwd_azimuth_360\": 359.3116640906805, \"segment_direction\": \"north-south\"}, {\"fwd_azimuth_360\": 100.45248297239819, \"segment_direction\": \"east-west\"}, {\"fwd_azimuth_360\": 255.4366130141771, \"segment_direction\": \"east-west\"}, {\"fwd_azimuth_360\": 270.04452662927224, \"segment_direction\": \"east-west\"}, {\"fwd_azimuth_360\": 35.59423346014152, \"segment_direction\": \"north-south\"}, {\"fwd_azimuth_360\": 348.20655479262905, \"segment_direction\": \"inconclusive\"}, {\"fwd_azimuth_360\": 156.15820043422457, \"segment_direction\": \"north-south\"}, {\"fwd_azimuth_360\": 50.07808760006172, \"segment_direction\": \"east-west\"}, {\"fwd_azimuth_360\": 47.478175307645316, \"segment_direction\": \"east-west\"}, {\"fwd_azimuth_360\": 311.9825138379723, \"segment_direction\": \"east-west\"}, {\"fwd_azimuth_360\": 148.33960738680628, \"segment_direction\": \"north-south\"}, {\"fwd_azimuth_360\": 356.42428265609254, \"segment_direction\": \"north-south\"}, {\"fwd_azimuth_360\": 180.08743569487538, \"segment_direction\": \"north-south\"}, {\"fwd_azimuth_360\": 0.16284820644395862, \"segment_direction\": \"north-south\"}, {\"fwd_azimuth_360\": 179.79926441948786, \"segment_direction\": \"north-south\"}, {\"fwd_azimuth_360\": 83.11845289538824, \"segment_direction\": \"east-west\"}, {\"fwd_azimuth_360\": 85.98174212703258, \"segment_direction\": \"east-west\"}, {\"fwd_azimuth_360\": 91.09124915434411, \"segment_direction\": \"east-west\"}, {\"fwd_azimuth_360\": 30.6660637629937, \"segment_direction\": \"north-south\"}, {\"fwd_azimuth_360\": 359.8350689770056, \"segment_direction\": \"north-south\"}, {\"fwd_azimuth_360\": 359.15733761039206, \"segment_direction\": \"north-south\"}, {\"fwd_azimuth_360\": 155.91557318154682, \"segment_direction\": \"inconclusive\"}, {\"fwd_azimuth_360\": 270.43596108770976, \"segment_direction\": \"east-west\"}, {\"fwd_azimuth_360\": 147.28371973949373, \"segment_direction\": \"north-south\"}, {\"fwd_azimuth_360\": 226.05957041740888, \"segment_direction\": \"east-west\"}, {\"fwd_azimuth_360\": 294.13292659820746, \"segment_direction\": \"east-west\"}, {\"fwd_azimuth_360\": 22.44475983326172, \"segment_direction\": \"north-south\"}, {\"fwd_azimuth_360\": 89.81668856296045, \"segment_direction\": \"east-west\"}, {\"fwd_azimuth_360\": 122.8536420694918, \"segment_direction\": \"east-west\"}, {\"fwd_azimuth_360\": 311.20283739410064, \"segment_direction\": \"east-west\"}, {\"fwd_azimuth_360\": 359.4905412816687, \"segment_direction\": \"north-south\"}, {\"fwd_azimuth_360\": 323.858258532411, \"segment_direction\": \"north-south\"}, {\"fwd_azimuth_360\": 98.08731364285045, \"segment_direction\": \"east-west\"}, {\"fwd_azimuth_360\": 85.41403465543813, \"segment_direction\": \"east-west\"}, {\"fwd_azimuth_360\": 89.9107655479475, \"segment_direction\": \"east-west\"}, {\"fwd_azimuth_360\": 146.585482155615, \"segment_direction\": \"north-south\"}, {\"fwd_azimuth_360\": 358.5523299874589, \"segment_direction\": \"north-south\"}, {\"fwd_azimuth_360\": 43.63413611921225, \"segment_direction\": \"north-south\"}, {\"fwd_azimuth_360\": 255.78094833505452, \"segment_direction\": \"east-west\"}, {\"fwd_azimuth_360\": 268.37853572586175, \"segment_direction\": \"east-west\"}, {\"fwd_azimuth_360\": 165.73603299681423, \"segment_direction\": \"north-south\"}, {\"fwd_azimuth_360\": 179.15561692578956, \"segment_direction\": \"north-south\"}, {\"fwd_azimuth_360\": 0.647197255431123, \"segment_direction\": \"north-south\"}, {\"fwd_azimuth_360\": 270.46659572597434, \"segment_direction\": \"east-west\"}, {\"fwd_azimuth_360\": 333.23295862991904, \"segment_direction\": \"north-south\"}, {\"fwd_azimuth_360\": 79.87486351657209, \"segment_direction\": \"east-west\"}, {\"fwd_azimuth_360\": 265.2577680324082, \"segment_direction\": \"east-west\"}, {\"fwd_azimuth_360\": 50.747760277638704, \"segment_direction\": \"east-west\"}, {\"fwd_azimuth_360\": 73.53787565021821, \"segment_direction\": \"east-west\"}, {\"fwd_azimuth_360\": 87.52873174295009, \"segment_direction\": \"east-west\"}, {\"fwd_azimuth_360\": 266.82315459260076, \"segment_direction\": \"east-west\"}, {\"fwd_azimuth_360\": 186.40977684074144, \"segment_direction\": \"inconclusive\"}, {\"fwd_azimuth_360\": 165.84759669870743, \"segment_direction\": \"north-south\"}, {\"fwd_azimuth_360\": 276.8307766471577, \"segment_direction\": \"east-west\"}, {\"fwd_azimuth_360\": 286.9276455842954, \"segment_direction\": \"east-west\"}, {\"fwd_azimuth_360\": 215.02253357682682, \"segment_direction\": \"north-south\"}, {\"fwd_azimuth_360\": 335.29466970714606, \"segment_direction\": \"north-south\"}, {\"fwd_azimuth_360\": 285.41703976901033, \"segment_direction\": \"east-west\"}, {\"fwd_azimuth_360\": 171.89226568089327, \"segment_direction\": \"north-south\"}, {\"fwd_azimuth_360\": 319.55183926278056, \"segment_direction\": \"north-south\"}, {\"fwd_azimuth_360\": 174.20470725828102, \"segment_direction\": \"north-south\"}, {\"fwd_azimuth_360\": 36.14476436634168, \"segment_direction\": \"north-south\"}, {\"fwd_azimuth_360\": 332.38218486726913, \"segment_direction\": \"north-south\"}, {\"fwd_azimuth_360\": 89.9511716716769, \"segment_direction\": \"east-west\"}, {\"fwd_azimuth_360\": 342.57438433692363, \"segment_direction\": \"north-south\"}, {\"fwd_azimuth_360\": 345.401885053527, \"segment_direction\": \"north-south\"}, {\"fwd_azimuth_360\": 89.96005439491316, \"segment_direction\": \"east-west\"}, {\"fwd_azimuth_360\": 124.85248318648924, \"segment_direction\": \"east-west\"}, {\"fwd_azimuth_360\": 51.19828859669759, \"segment_direction\": \"east-west\"}, {\"fwd_azimuth_360\": 50.08530668999416, \"segment_direction\": \"east-west\"}, {\"fwd_azimuth_360\": 137.2446820498707, \"segment_direction\": \"north-south\"}, {\"fwd_azimuth_360\": 350.8873600022281, \"segment_direction\": \"north-south\"}, {\"fwd_azimuth_360\": 205.05067874237352, \"segment_direction\": \"north-south\"}, {\"fwd_azimuth_360\": 129.8423400929681, \"segment_direction\": \"east-west\"}, {\"fwd_azimuth_360\": 279.96305719521973, \"segment_direction\": \"east-west\"}, {\"fwd_azimuth_360\": 90.02240670220846, \"segment_direction\": \"east-west\"}, {\"fwd_azimuth_360\": 151.13412222196843, \"segment_direction\": \"north-south\"}, {\"fwd_azimuth_360\": 106.19432298919256, \"segment_direction\": \"east-west\"}, {\"fwd_azimuth_360\": 55.275938285163335, \"segment_direction\": \"east-west\"}, {\"fwd_azimuth_360\": 321.81629261114676, \"segment_direction\": \"north-south\"}, {\"fwd_azimuth_360\": 235.91498221795632, \"segment_direction\": \"east-west\"}, {\"fwd_azimuth_360\": 84.90169047806357, \"segment_direction\": \"east-west\"}, {\"fwd_azimuth_360\": 106.39233595580609, \"segment_direction\": \"east-west\"}, {\"fwd_azimuth_360\": 11.17656201732339, \"segment_direction\": \"north-south\"}, {\"fwd_azimuth_360\": 359.91437704192106, \"segment_direction\": \"north-south\"}, {\"fwd_azimuth_360\": 34.20160242523407, \"segment_direction\": \"north-south\"}, {\"fwd_azimuth_360\": 237.37648048948333, \"segment_direction\": \"east-west\"}, {\"fwd_azimuth_360\": 89.89795822444518, \"segment_direction\": \"east-west\"}, {\"fwd_azimuth_360\": 14.195631088085394, \"segment_direction\": \"north-south\"}, {\"fwd_azimuth_360\": 112.24463023285551, \"segment_direction\": \"east-west\"}, {\"fwd_azimuth_360\": 105.65831608555919, \"segment_direction\": \"east-west\"}, {\"fwd_azimuth_360\": 312.310817869634, \"segment_direction\": \"east-west\"}, {\"fwd_azimuth_360\": 334.93330178957973, \"segment_direction\": \"north-south\"}, {\"fwd_azimuth_360\": 31.760820183542272, \"segment_direction\": \"north-south\"}, {\"fwd_azimuth_360\": 173.17965157203565, \"segment_direction\": \"north-south\"}, {\"fwd_azimuth_360\": 87.78823017591466, \"segment_direction\": \"east-west\"}, {\"fwd_azimuth_360\": 154.1220285813358, \"segment_direction\": \"north-south\"}, {\"fwd_azimuth_360\": 359.4725465686091, \"segment_direction\": \"north-south\"}, {\"fwd_azimuth_360\": 165.69422818818646, \"segment_direction\": \"north-south\"}, {\"fwd_azimuth_360\": 126.79450696666862, \"segment_direction\": \"east-west\"}, {\"fwd_azimuth_360\": 203.19161743287592, \"segment_direction\": \"north-south\"}, {\"fwd_azimuth_360\": 77.91036352824963, \"segment_direction\": \"east-west\"}, {\"fwd_azimuth_360\": 97.51605478093478, \"segment_direction\": \"east-west\"}, {\"fwd_azimuth_360\": 244.957277191211, \"segment_direction\": \"east-west\"}, {\"fwd_azimuth_360\": 358.68724984900507, \"segment_direction\": \"north-south\"}, {\"fwd_azimuth_360\": 91.17703314294108, \"segment_direction\": \"east-west\"}, {\"fwd_azimuth_360\": 89.95858738657249, \"segment_direction\": \"east-west\"}, {\"fwd_azimuth_360\": 72.59891164556728, \"segment_direction\": \"east-west\"}, {\"fwd_azimuth_360\": 269.8349898752358, \"segment_direction\": \"east-west\"}, {\"fwd_azimuth_360\": 89.61286311210054, \"segment_direction\": \"east-west\"}, {\"fwd_azimuth_360\": 306.7798807575088, \"segment_direction\": \"east-west\"}, {\"fwd_azimuth_360\": 359.31974367455047, \"segment_direction\": \"north-south\"}, {\"fwd_azimuth_360\": 237.06032721299755, \"segment_direction\": \"east-west\"}, {\"fwd_azimuth_360\": 0.8070712079344593, \"segment_direction\": \"north-south\"}, {\"fwd_azimuth_360\": 18.952027835872716, \"segment_direction\": \"north-south\"}, {\"fwd_azimuth_360\": 44.103320765188144, \"segment_direction\": \"north-south\"}, {\"fwd_azimuth_360\": 0.04159694747993847, \"segment_direction\": \"north-south\"}, {\"fwd_azimuth_360\": 89.7650340945615, \"segment_direction\": \"east-west\"}, {\"fwd_azimuth_360\": 31.574797780902006, \"segment_direction\": \"north-south\"}, {\"fwd_azimuth_360\": 3.8823423870268567, \"segment_direction\": \"north-south\"}, {\"fwd_azimuth_360\": 195.0411245912225, \"segment_direction\": \"north-south\"}, {\"fwd_azimuth_360\": 0.8327248208160143, \"segment_direction\": \"north-south\"}, {\"fwd_azimuth_360\": 283.3233162862214, \"segment_direction\": \"east-west\"}, {\"fwd_azimuth_360\": 260.8844252668467, \"segment_direction\": \"east-west\"}, {\"fwd_azimuth_360\": 12.195706510914576, \"segment_direction\": \"north-south\"}, {\"fwd_azimuth_360\": 106.72594946443343, \"segment_direction\": \"east-west\"}, {\"fwd_azimuth_360\": 269.54684111831494, \"segment_direction\": \"east-west\"}, {\"fwd_azimuth_360\": 181.63489440390168, \"segment_direction\": \"north-south\"}, {\"fwd_azimuth_360\": 119.60981141724778, \"segment_direction\": \"east-west\"}, {\"fwd_azimuth_360\": 88.78716570396543, \"segment_direction\": \"east-west\"}, {\"fwd_azimuth_360\": 359.45333899398895, \"segment_direction\": \"north-south\"}, {\"fwd_azimuth_360\": 18.459515178352582, \"segment_direction\": \"inconclusive\"}, {\"fwd_azimuth_360\": 181.0206609578328, \"segment_direction\": \"north-south\"}, {\"fwd_azimuth_360\": 89.02811832781815, \"segment_direction\": \"east-west\"}, {\"fwd_azimuth_360\": 20.68483651836247, \"segment_direction\": \"north-south\"}, {\"fwd_azimuth_360\": 359.7103434616791, \"segment_direction\": \"north-south\"}, {\"fwd_azimuth_360\": 269.82960499708986, \"segment_direction\": \"inconclusive\"}, {\"fwd_azimuth_360\": 184.47422322681905, \"segment_direction\": \"north-south\"}, {\"fwd_azimuth_360\": 359.6138415516307, \"segment_direction\": \"north-south\"}, {\"fwd_azimuth_360\": 0.3823285952872439, \"segment_direction\": \"north-south\"}, {\"fwd_azimuth_360\": 40.947274386731735, \"segment_direction\": \"north-south\"}, {\"fwd_azimuth_360\": 302.60214063665376, \"segment_direction\": \"east-west\"}, {\"fwd_azimuth_360\": 309.4057803097666, \"segment_direction\": \"east-west\"}, {\"fwd_azimuth_360\": 353.6112477345172, \"segment_direction\": \"north-south\"}, {\"fwd_azimuth_360\": 269.5031799495922, \"segment_direction\": \"east-west\"}, {\"fwd_azimuth_360\": 25.26032443350672, \"segment_direction\": \"north-south\"}, {\"fwd_azimuth_360\": 127.51940853130537, \"segment_direction\": \"east-west\"}, {\"fwd_azimuth_360\": 359.41021752591155, \"segment_direction\": \"north-south\"}, {\"fwd_azimuth_360\": 173.2095991468674, \"segment_direction\": \"north-south\"}, {\"fwd_azimuth_360\": 129.45608590903385, \"segment_direction\": \"east-west\"}, {\"fwd_azimuth_360\": 226.22625239611986, \"segment_direction\": \"north-south\"}, {\"fwd_azimuth_360\": 0.046866743195169376, \"segment_direction\": \"north-south\"}, {\"fwd_azimuth_360\": 59.19146869479871, \"segment_direction\": \"east-west\"}, {\"fwd_azimuth_360\": 286.71875176745505, \"segment_direction\": \"east-west\"}, {\"fwd_azimuth_360\": 143.43750279443904, \"segment_direction\": \"north-south\"}, {\"fwd_azimuth_360\": 203.82911109423497, \"segment_direction\": \"north-south\"}, {\"fwd_azimuth_360\": 180.36727950146783, \"segment_direction\": \"north-south\"}, {\"fwd_azimuth_360\": 354.8472482179839, \"segment_direction\": \"north-south\"}, {\"fwd_azimuth_360\": 70.21294372562764, \"segment_direction\": \"east-west\"}, {\"fwd_azimuth_360\": 90.052285447339, \"segment_direction\": \"east-west\"}, {\"fwd_azimuth_360\": 89.79692300710849, \"segment_direction\": \"east-west\"}, {\"fwd_azimuth_360\": 146.73824387227137, \"segment_direction\": \"north-south\"}, {\"fwd_azimuth_360\": 121.8295670319949, \"segment_direction\": \"east-west\"}, {\"fwd_azimuth_360\": 89.93791331264008, \"segment_direction\": \"east-west\"}, {\"fwd_azimuth_360\": 89.9072790866022, \"segment_direction\": \"east-west\"}, {\"fwd_azimuth_360\": 264.3645793813194, \"segment_direction\": \"east-west\"}, {\"fwd_azimuth_360\": 125.16465375771529, \"segment_direction\": \"inconclusive\"}, {\"fwd_azimuth_360\": 209.6036917147045, \"segment_direction\": \"north-south\"}, {\"fwd_azimuth_360\": 47.75269966052424, \"segment_direction\": \"east-west\"}, {\"fwd_azimuth_360\": 22.427379063057074, \"segment_direction\": \"north-south\"}, {\"fwd_azimuth_360\": 320.2690278689086, \"segment_direction\": \"north-south\"}, {\"fwd_azimuth_360\": 260.01474892781295, \"segment_direction\": \"east-west\"}, {\"fwd_azimuth_360\": 179.79373755320898, \"segment_direction\": \"north-south\"}, {\"fwd_azimuth_360\": 90.17501032653172, \"segment_direction\": \"east-west\"}, {\"fwd_azimuth_360\": 74.93714497656521, \"segment_direction\": \"east-west\"}, {\"fwd_azimuth_360\": 116.02038539315875, \"segment_direction\": \"east-west\"}, {\"fwd_azimuth_360\": 319.0490948005423, \"segment_direction\": \"north-south\"}, {\"fwd_azimuth_360\": 128.82852136701544, \"segment_direction\": \"east-west\"}, {\"fwd_azimuth_360\": 180.17231413452487, \"segment_direction\": \"north-south\"}, {\"fwd_azimuth_360\": 150.52993967693314, \"segment_direction\": \"north-south\"}, {\"fwd_azimuth_360\": 147.6144283669945, \"segment_direction\": \"north-south\"}, {\"fwd_azimuth_360\": 24.498342751408916, \"segment_direction\": \"north-south\"}, {\"fwd_azimuth_360\": 173.57733801780964, \"segment_direction\": \"north-south\"}, {\"fwd_azimuth_360\": 41.25081042914586, \"segment_direction\": \"north-south\"}, {\"fwd_azimuth_360\": 44.91668121094347, \"segment_direction\": \"north-south\"}, {\"fwd_azimuth_360\": 245.2861569621938, \"segment_direction\": \"east-west\"}, {\"fwd_azimuth_360\": 88.97500752180427, \"segment_direction\": \"east-west\"}, {\"fwd_azimuth_360\": 180.42397586694045, \"segment_direction\": \"north-south\"}, {\"fwd_azimuth_360\": 305.6948310345938, \"segment_direction\": \"east-west\"}, {\"fwd_azimuth_360\": 37.815125961854456, \"segment_direction\": \"north-south\"}, {\"fwd_azimuth_360\": 143.09599920527148, \"segment_direction\": \"north-south\"}, {\"fwd_azimuth_360\": 141.98069411961563, \"segment_direction\": \"north-south\"}, {\"fwd_azimuth_360\": 95.51494439336521, \"segment_direction\": \"east-west\"}, {\"fwd_azimuth_360\": 326.0248957904471, \"segment_direction\": \"north-south\"}, {\"fwd_azimuth_360\": 320.2787715404447, \"segment_direction\": \"north-south\"}, {\"fwd_azimuth_360\": 258.03293519750343, \"segment_direction\": \"east-west\"}, {\"fwd_azimuth_360\": 358.93893181524385, \"segment_direction\": \"north-south\"}, {\"fwd_azimuth_360\": 122.51878998853934, \"segment_direction\": \"east-west\"}, {\"fwd_azimuth_360\": 51.19440187900019, \"segment_direction\": \"east-west\"}, {\"fwd_azimuth_360\": 337.50868128211846, \"segment_direction\": \"north-south\"}, {\"fwd_azimuth_360\": 0.6472708780132697, \"segment_direction\": \"north-south\"}, {\"fwd_azimuth_360\": 89.59790069580221, \"segment_direction\": \"east-west\"}, {\"fwd_azimuth_360\": 0.34568255559634914, \"segment_direction\": \"north-south\"}, {\"fwd_azimuth_360\": 212.7432362802822, \"segment_direction\": \"north-south\"}, {\"fwd_azimuth_360\": 28.709745369520007, \"segment_direction\": \"north-south\"}, {\"fwd_azimuth_360\": 298.6374871691965, \"segment_direction\": \"east-west\"}, {\"fwd_azimuth_360\": 37.600072061552204, \"segment_direction\": \"north-south\"}, {\"fwd_azimuth_360\": 320.02205852830645, \"segment_direction\": \"north-south\"}, {\"fwd_azimuth_360\": 90.35949085183815, \"segment_direction\": \"east-west\"}, {\"fwd_azimuth_360\": 96.89010497132156, \"segment_direction\": \"east-west\"}, {\"fwd_azimuth_360\": 269.99990602440374, \"segment_direction\": \"east-west\"}, {\"fwd_azimuth_360\": 156.02251174737387, \"segment_direction\": \"north-south\"}, {\"fwd_azimuth_360\": 167.16409541751574, \"segment_direction\": \"north-south\"}, {\"fwd_azimuth_360\": 306.63063858822255, \"segment_direction\": \"east-west\"}, {\"fwd_azimuth_360\": 270.0295420025742, \"segment_direction\": \"east-west\"}, {\"fwd_azimuth_360\": 256.4386559225325, \"segment_direction\": \"east-west\"}, {\"fwd_azimuth_360\": 17.832194206760754, \"segment_direction\": \"north-south\"}, {\"fwd_azimuth_360\": 89.43709977061194, \"segment_direction\": \"east-west\"}, {\"fwd_azimuth_360\": 358.692282044927, \"segment_direction\": \"north-south\"}, {\"fwd_azimuth_360\": 266.6564022699988, \"segment_direction\": \"east-west\"}, {\"fwd_azimuth_360\": 331.50790858169415, \"segment_direction\": \"north-south\"}, {\"fwd_azimuth_360\": 82.22922960495428, \"segment_direction\": \"east-west\"}, {\"fwd_azimuth_360\": 180.11982895831608, \"segment_direction\": \"north-south\"}, {\"fwd_azimuth_360\": 90.22637824849227, \"segment_direction\": \"east-west\"}, {\"fwd_azimuth_360\": 69.4065573214712, \"segment_direction\": \"east-west\"}, {\"fwd_azimuth_360\": 334.5455235882659, \"segment_direction\": \"north-south\"}, {\"fwd_azimuth_360\": 68.83458455491048, \"segment_direction\": \"east-west\"}, {\"fwd_azimuth_360\": 231.24373727108434, \"segment_direction\": \"east-west\"}, {\"fwd_azimuth_360\": 269.7496678918956, \"segment_direction\": \"east-west\"}, {\"fwd_azimuth_360\": 1.8317334228717723, \"segment_direction\": \"north-south\"}, {\"fwd_azimuth_360\": 268.7357254928191, \"segment_direction\": \"inconclusive\"}, {\"fwd_azimuth_360\": 213.6456697321209, \"segment_direction\": \"north-south\"}, {\"fwd_azimuth_360\": 0.12745316753346103, \"segment_direction\": \"north-south\"}, {\"fwd_azimuth_360\": 203.29289886242907, \"segment_direction\": \"north-south\"}, {\"fwd_azimuth_360\": 319.5792080581123, \"segment_direction\": \"north-south\"}, {\"fwd_azimuth_360\": 320.1300404437356, \"segment_direction\": \"north-south\"}, {\"fwd_azimuth_360\": 341.07350026825765, \"segment_direction\": \"north-south\"}, {\"fwd_azimuth_360\": 89.81554100257097, \"segment_direction\": \"east-west\"}, {\"fwd_azimuth_360\": 218.5400129053792, \"segment_direction\": \"north-south\"}, {\"fwd_azimuth_360\": 180.046236105601, \"segment_direction\": \"north-south\"}, {\"fwd_azimuth_360\": 261.6402624702189, \"segment_direction\": \"east-west\"}, {\"fwd_azimuth_360\": 59.73821909954832, \"segment_direction\": \"east-west\"}, {\"fwd_azimuth_360\": 93.90716315187987, \"segment_direction\": \"east-west\"}, {\"fwd_azimuth_360\": 89.04668727840284, \"segment_direction\": \"east-west\"}, {\"fwd_azimuth_360\": 228.8219771993861, \"segment_direction\": \"east-west\"}, {\"fwd_azimuth_360\": 141.8311045408027, \"segment_direction\": \"north-south\"}, {\"fwd_azimuth_360\": 179.93621486505356, \"segment_direction\": \"north-south\"}, {\"fwd_azimuth_360\": 285.7585540413568, \"segment_direction\": \"east-west\"}, {\"fwd_azimuth_360\": 17.677787515679984, \"segment_direction\": \"north-south\"}, {\"fwd_azimuth_360\": 80.30665612630439, \"segment_direction\": \"east-west\"}, {\"fwd_azimuth_360\": 62.162197240910544, \"segment_direction\": \"east-west\"}, {\"fwd_azimuth_360\": 89.66829634049735, \"segment_direction\": \"east-west\"}, {\"fwd_azimuth_360\": 89.84358128202352, \"segment_direction\": \"east-west\"}, {\"fwd_azimuth_360\": 270.1318780213243, \"segment_direction\": \"east-west\"}, {\"fwd_azimuth_360\": 293.15872931860054, \"segment_direction\": \"east-west\"}, {\"fwd_azimuth_360\": 89.84452397443867, \"segment_direction\": \"east-west\"}, {\"fwd_azimuth_360\": 353.7659848085321, \"segment_direction\": \"north-south\"}, {\"fwd_azimuth_360\": 239.61141485251875, \"segment_direction\": \"inconclusive\"}, {\"fwd_azimuth_360\": 299.0415547413622, \"segment_direction\": \"east-west\"}, {\"fwd_azimuth_360\": 25.67496886449318, \"segment_direction\": \"north-south\"}, {\"fwd_azimuth_360\": 129.861619046797, \"segment_direction\": \"east-west\"}, {\"fwd_azimuth_360\": 223.02080416351856, \"segment_direction\": \"north-south\"}, {\"fwd_azimuth_360\": 262.8654406613998, \"segment_direction\": \"east-west\"}, {\"fwd_azimuth_360\": 161.6790237186527, \"segment_direction\": \"north-south\"}, {\"fwd_azimuth_360\": 89.99008476429655, \"segment_direction\": \"east-west\"}, {\"fwd_azimuth_360\": 165.96219795466163, \"segment_direction\": \"north-south\"}, {\"fwd_azimuth_360\": 270.16335600158567, \"segment_direction\": \"east-west\"}, {\"fwd_azimuth_360\": 278.41237885310863, \"segment_direction\": \"east-west\"}, {\"fwd_azimuth_360\": 93.88360575921568, \"segment_direction\": \"east-west\"}, {\"fwd_azimuth_360\": 180.04164886362932, \"segment_direction\": \"north-south\"}, {\"fwd_azimuth_360\": 89.93755047177862, \"segment_direction\": \"east-west\"}, {\"fwd_azimuth_360\": 189.11948827871794, \"segment_direction\": \"north-south\"}, {\"fwd_azimuth_360\": 143.0135050484792, \"segment_direction\": \"north-south\"}, {\"fwd_azimuth_360\": 270.10548266337486, \"segment_direction\": \"east-west\"}, {\"fwd_azimuth_360\": 270.0277386881595, \"segment_direction\": \"east-west\"}, {\"fwd_azimuth_360\": 162.37393317128138, \"segment_direction\": \"north-south\"}, {\"fwd_azimuth_360\": 245.14319744065665, \"segment_direction\": \"east-west\"}, {\"fwd_azimuth_360\": 171.4473485474637, \"segment_direction\": \"north-south\"}, {\"fwd_azimuth_360\": 70.69476189096437, \"segment_direction\": \"east-west\"}, {\"fwd_azimuth_360\": 88.52935387803967, \"segment_direction\": \"east-west\"}, {\"fwd_azimuth_360\": 290.7121197448789, \"segment_direction\": \"east-west\"}, {\"fwd_azimuth_360\": 317.3753933978565, \"segment_direction\": \"north-south\"}, {\"fwd_azimuth_360\": 137.64626379063202, \"segment_direction\": \"north-south\"}, {\"fwd_azimuth_360\": 117.96068964183864, \"segment_direction\": \"east-west\"}, {\"fwd_azimuth_360\": 300.4036286667357, \"segment_direction\": \"east-west\"}, {\"fwd_azimuth_360\": 277.07648268509155, \"segment_direction\": \"east-west\"}, {\"fwd_azimuth_360\": 359.9104151209055, \"segment_direction\": \"north-south\"}, {\"fwd_azimuth_360\": 25.097990044525947, \"segment_direction\": \"north-south\"}, {\"fwd_azimuth_360\": 131.568423853801, \"segment_direction\": \"east-west\"}, {\"fwd_azimuth_360\": 359.70444150951425, \"segment_direction\": \"north-south\"}, {\"fwd_azimuth_360\": 142.5177916271494, \"segment_direction\": \"north-south\"}, {\"fwd_azimuth_360\": 185.78172800646553, \"segment_direction\": \"north-south\"}, {\"fwd_azimuth_360\": 301.8397666245312, \"segment_direction\": \"east-west\"}, {\"fwd_azimuth_360\": 333.23295862991904, \"segment_direction\": \"north-south\"}, {\"fwd_azimuth_360\": 80.02236430966217, \"segment_direction\": \"east-west\"}, {\"fwd_azimuth_360\": 253.48598551770706, \"segment_direction\": \"east-west\"}, {\"fwd_azimuth_360\": 260.6370306146795, \"segment_direction\": \"east-west\"}, {\"fwd_azimuth_360\": 135.0542023108303, \"segment_direction\": \"north-south\"}, {\"fwd_azimuth_360\": 353.49456117186384, \"segment_direction\": \"north-south\"}, {\"fwd_azimuth_360\": 180.32719359211436, \"segment_direction\": \"north-south\"}, {\"fwd_azimuth_360\": 89.98925389314572, \"segment_direction\": \"east-west\"}, {\"fwd_azimuth_360\": 116.94914833989097, \"segment_direction\": \"east-west\"}, {\"fwd_azimuth_360\": 17.66660242570009, \"segment_direction\": \"north-south\"}, {\"fwd_azimuth_360\": 55.93358194974781, \"segment_direction\": \"east-west\"}, {\"fwd_azimuth_360\": 332.2167951028291, \"segment_direction\": \"north-south\"}, {\"fwd_azimuth_360\": 349.6757306941015, \"segment_direction\": \"north-south\"}, {\"fwd_azimuth_360\": 267.6825296699843, \"segment_direction\": \"east-west\"}, {\"fwd_azimuth_360\": 128.3109565525906, \"segment_direction\": \"east-west\"}, {\"fwd_azimuth_360\": 91.38308906530901, \"segment_direction\": \"east-west\"}, {\"fwd_azimuth_360\": 359.3053115426347, \"segment_direction\": \"north-south\"}, {\"fwd_azimuth_360\": 33.87210746352061, \"segment_direction\": \"north-south\"}, {\"fwd_azimuth_360\": 179.18345846003064, \"segment_direction\": \"north-south\"}, {\"fwd_azimuth_360\": 225.17009600012, \"segment_direction\": \"east-west\"}, {\"fwd_azimuth_360\": 89.57534509605514, \"segment_direction\": \"east-west\"}, {\"fwd_azimuth_360\": 13.668514506202492, \"segment_direction\": \"north-south\"}, {\"fwd_azimuth_360\": 83.47770327944188, \"segment_direction\": \"east-west\"}, {\"fwd_azimuth_360\": 89.34686313185716, \"segment_direction\": \"east-west\"}, {\"fwd_azimuth_360\": 335.30602382103586, \"segment_direction\": \"north-south\"}, {\"fwd_azimuth_360\": 353.31579437933215, \"segment_direction\": \"north-south\"}, {\"fwd_azimuth_360\": 10.362182161474536, \"segment_direction\": \"north-south\"}, {\"fwd_azimuth_360\": 74.26045074232064, \"segment_direction\": \"east-west\"}, {\"fwd_azimuth_360\": 93.83776075634836, \"segment_direction\": \"east-west\"}, {\"fwd_azimuth_360\": 173.15071734825779, \"segment_direction\": \"north-south\"}, {\"fwd_azimuth_360\": 179.932422515309, \"segment_direction\": \"north-south\"}, {\"fwd_azimuth_360\": 198.15151182819264, \"segment_direction\": \"north-south\"}, {\"fwd_azimuth_360\": 283.72079173832435, \"segment_direction\": \"east-west\"}, {\"fwd_azimuth_360\": 103.28901017627163, \"segment_direction\": \"east-west\"}, {\"fwd_azimuth_360\": 224.2152855339617, \"segment_direction\": \"north-south\"}, {\"fwd_azimuth_360\": 310.21496909145935, \"segment_direction\": \"east-west\"}, {\"fwd_azimuth_360\": 89.60681452820089, \"segment_direction\": \"east-west\"}, {\"fwd_azimuth_360\": 194.854750854076, \"segment_direction\": \"north-south\"}, {\"fwd_azimuth_360\": 2.9972711420720466, \"segment_direction\": \"north-south\"}, {\"fwd_azimuth_360\": 89.89452586780112, \"segment_direction\": \"east-west\"}, {\"fwd_azimuth_360\": 117.50670966573755, \"segment_direction\": \"east-west\"}, {\"fwd_azimuth_360\": 180.35560335337678, \"segment_direction\": \"north-south\"}, {\"fwd_azimuth_360\": 2.052500601348174, \"segment_direction\": \"north-south\"}, {\"fwd_azimuth_360\": 114.95824577780643, \"segment_direction\": \"east-west\"}, {\"fwd_azimuth_360\": 9.236669810715245, \"segment_direction\": \"north-south\"}, {\"fwd_azimuth_360\": 317.22698162424194, \"segment_direction\": \"north-south\"}, {\"fwd_azimuth_360\": 138.77101873837614, \"segment_direction\": \"north-south\"}, {\"fwd_azimuth_360\": 236.83046315823646, \"segment_direction\": \"east-west\"}, {\"fwd_azimuth_360\": 114.04931913237586, \"segment_direction\": \"east-west\"}, {\"fwd_azimuth_360\": 359.9050446328861, \"segment_direction\": \"north-south\"}, {\"fwd_azimuth_360\": 359.7152104404967, \"segment_direction\": \"north-south\"}, {\"fwd_azimuth_360\": 61.048466320328146, \"segment_direction\": \"east-west\"}, {\"fwd_azimuth_360\": 245.14319744065665, \"segment_direction\": \"east-west\"}, {\"fwd_azimuth_360\": 204.95021921390546, \"segment_direction\": \"north-south\"}, {\"fwd_azimuth_360\": 7.825169812761086, \"segment_direction\": \"north-south\"}, {\"fwd_azimuth_360\": 45.75342985572543, \"segment_direction\": \"north-south\"}, {\"fwd_azimuth_360\": 101.16951471379056, \"segment_direction\": \"east-west\"}, {\"fwd_azimuth_360\": 359.59627298234454, \"segment_direction\": \"north-south\"}, {\"fwd_azimuth_360\": 337.091118250554, \"segment_direction\": \"north-south\"}, {\"fwd_azimuth_360\": 149.76133661300025, \"segment_direction\": \"north-south\"}, {\"fwd_azimuth_360\": 180.1407540565321, \"segment_direction\": \"north-south\"}, {\"fwd_azimuth_360\": 75.56666818111162, \"segment_direction\": \"east-west\"}, {\"fwd_azimuth_360\": 161.02962361217726, \"segment_direction\": \"north-south\"}, {\"fwd_azimuth_360\": 227.04890936320288, \"segment_direction\": \"east-west\"}, {\"fwd_azimuth_360\": 89.7764161197391, \"segment_direction\": \"east-west\"}, {\"fwd_azimuth_360\": 89.71109065251592, \"segment_direction\": \"east-west\"}, {\"fwd_azimuth_360\": 346.38427459276505, \"segment_direction\": \"north-south\"}, {\"fwd_azimuth_360\": 122.85488734314796, \"segment_direction\": \"east-west\"}, {\"fwd_azimuth_360\": 110.71192107515775, \"segment_direction\": \"east-west\"}, {\"fwd_azimuth_360\": 253.10457601913564, \"segment_direction\": \"east-west\"}, {\"fwd_azimuth_360\": 151.50016290653176, \"segment_direction\": \"north-south\"}, {\"fwd_azimuth_360\": 245.90851170300814, \"segment_direction\": \"east-west\"}, {\"fwd_azimuth_360\": 0.4205158276535324, \"segment_direction\": \"north-south\"}, {\"fwd_azimuth_360\": 159.4615514112202, \"segment_direction\": \"north-south\"}, {\"fwd_azimuth_360\": 7.801240600707566, \"segment_direction\": \"north-south\"}, {\"fwd_azimuth_360\": 324.73098783987723, \"segment_direction\": \"north-south\"}, {\"fwd_azimuth_360\": 321.13861049532466, \"segment_direction\": \"north-south\"}, {\"fwd_azimuth_360\": 97.02810725184739, \"segment_direction\": \"east-west\"}, {\"fwd_azimuth_360\": 60.358426362038074, \"segment_direction\": \"east-west\"}, {\"fwd_azimuth_360\": 37.89470406819128, \"segment_direction\": \"north-south\"}, {\"fwd_azimuth_360\": 224.0221168126494, \"segment_direction\": \"north-south\"}, {\"fwd_azimuth_360\": 331.4604992134542, \"segment_direction\": \"north-south\"}, {\"fwd_azimuth_360\": 337.24736305075567, \"segment_direction\": \"north-south\"}, {\"fwd_azimuth_360\": 351.66306697034634, \"segment_direction\": \"north-south\"}, {\"fwd_azimuth_360\": 52.19833021775512, \"segment_direction\": \"east-west\"}, {\"fwd_azimuth_360\": 356.77249073285697, \"segment_direction\": \"north-south\"}, {\"fwd_azimuth_360\": 90.31039292416025, \"segment_direction\": \"east-west\"}, {\"fwd_azimuth_360\": 212.48304079884775, \"segment_direction\": \"north-south\"}, {\"fwd_azimuth_360\": 262.10955730322615, \"segment_direction\": \"east-west\"}, {\"fwd_azimuth_360\": 267.11019367258143, \"segment_direction\": \"east-west\"}, {\"fwd_azimuth_360\": 97.09597830429178, \"segment_direction\": \"east-west\"}, {\"fwd_azimuth_360\": 129.49017816387823, \"segment_direction\": \"east-west\"}, {\"fwd_azimuth_360\": 30.59151691580743, \"segment_direction\": \"north-south\"}, {\"fwd_azimuth_360\": 4.982351919951517, \"segment_direction\": \"north-south\"}, {\"fwd_azimuth_360\": 51.34479031241978, \"segment_direction\": \"east-west\"}, {\"fwd_azimuth_360\": 3.542296358234696, \"segment_direction\": \"north-south\"}, {\"fwd_azimuth_360\": 15.391306197671662, \"segment_direction\": \"north-south\"}, {\"fwd_azimuth_360\": 137.48070041772237, \"segment_direction\": \"north-south\"}, {\"fwd_azimuth_360\": 9.20085838713244, \"segment_direction\": \"north-south\"}, {\"fwd_azimuth_360\": 0.23034183997187269, \"segment_direction\": \"north-south\"}, {\"fwd_azimuth_360\": 21.247645277283162, \"segment_direction\": \"north-south\"}, {\"fwd_azimuth_360\": 89.6932415888187, \"segment_direction\": \"east-west\"}, {\"fwd_azimuth_360\": 118.80869470696783, \"segment_direction\": \"east-west\"}, {\"fwd_azimuth_360\": 89.54056972946871, \"segment_direction\": \"east-west\"}, {\"fwd_azimuth_360\": 13.738079388427147, \"segment_direction\": \"north-south\"}, {\"fwd_azimuth_360\": 110.2584992147654, \"segment_direction\": \"east-west\"}, {\"fwd_azimuth_360\": 90.93654180722883, \"segment_direction\": \"east-west\"}, {\"fwd_azimuth_360\": 234.2648780151135, \"segment_direction\": \"east-west\"}, {\"fwd_azimuth_360\": 109.079493605355, \"segment_direction\": \"east-west\"}, {\"fwd_azimuth_360\": 180.2430512764534, \"segment_direction\": \"north-south\"}, {\"fwd_azimuth_360\": 181.50337865977525, \"segment_direction\": \"north-south\"}, {\"fwd_azimuth_360\": 321.27209830886335, \"segment_direction\": \"north-south\"}, {\"fwd_azimuth_360\": 58.76414346226792, \"segment_direction\": \"east-west\"}, {\"fwd_azimuth_360\": 292.1216058385302, \"segment_direction\": \"east-west\"}, {\"fwd_azimuth_360\": 179.89543544929535, \"segment_direction\": \"north-south\"}, {\"fwd_azimuth_360\": 112.10283548362766, \"segment_direction\": \"east-west\"}, {\"fwd_azimuth_360\": 155.85295696198227, \"segment_direction\": \"north-south\"}, {\"fwd_azimuth_360\": 5.981057165791381, \"segment_direction\": \"north-south\"}, {\"fwd_azimuth_360\": 358.3560533598629, \"segment_direction\": \"inconclusive\"}, {\"fwd_azimuth_360\": 355.68769941538756, \"segment_direction\": \"north-south\"}, {\"fwd_azimuth_360\": 63.3854343798979, \"segment_direction\": \"east-west\"}, {\"fwd_azimuth_360\": 173.71937404671448, \"segment_direction\": \"north-south\"}, {\"fwd_azimuth_360\": 349.8603976871387, \"segment_direction\": \"north-south\"}, {\"fwd_azimuth_360\": 331.6814423913832, \"segment_direction\": \"north-south\"}, {\"fwd_azimuth_360\": 302.7852045952463, \"segment_direction\": \"east-west\"}, {\"fwd_azimuth_360\": 231.24373727108434, \"segment_direction\": \"east-west\"}, {\"fwd_azimuth_360\": 90.25776956123264, \"segment_direction\": \"east-west\"}, {\"fwd_azimuth_360\": 341.70966643612746, \"segment_direction\": \"north-south\"}, {\"fwd_azimuth_360\": 189.45642175447483, \"segment_direction\": \"north-south\"}, {\"fwd_azimuth_360\": 75.26367586019822, \"segment_direction\": \"east-west\"}, {\"fwd_azimuth_360\": 300.0315161635466, \"segment_direction\": \"east-west\"}, {\"fwd_azimuth_360\": 0.2156331453549496, \"segment_direction\": \"north-south\"}, {\"fwd_azimuth_360\": 137.2949303339784, \"segment_direction\": \"north-south\"}, {\"fwd_azimuth_360\": 90.12241020836603, \"segment_direction\": \"east-west\"}, {\"fwd_azimuth_360\": 348.9569842317223, \"segment_direction\": \"north-south\"}, {\"fwd_azimuth_360\": 91.06614672794102, \"segment_direction\": \"east-west\"}, {\"fwd_azimuth_360\": 322.7202535582968, \"segment_direction\": \"north-south\"}, {\"fwd_azimuth_360\": 90.3064759662339, \"segment_direction\": \"east-west\"}, {\"fwd_azimuth_360\": 0.18776583725734286, \"segment_direction\": \"north-south\"}, {\"fwd_azimuth_360\": 359.8428458523811, \"segment_direction\": \"inconclusive\"}, {\"fwd_azimuth_360\": 179.97649266419617, \"segment_direction\": \"north-south\"}, {\"fwd_azimuth_360\": 67.03283128384945, \"segment_direction\": \"east-west\"}, {\"fwd_azimuth_360\": 254.6218960831563, \"segment_direction\": \"east-west\"}, {\"fwd_azimuth_360\": 137.76163299621402, \"segment_direction\": \"north-south\"}, {\"fwd_azimuth_360\": 87.84902911592377, \"segment_direction\": \"east-west\"}, {\"fwd_azimuth_360\": 266.70160472128725, \"segment_direction\": \"east-west\"}, {\"fwd_azimuth_360\": 136.0339930659402, \"segment_direction\": \"north-south\"}, {\"fwd_azimuth_360\": 37.521390021908836, \"segment_direction\": \"north-south\"}, {\"fwd_azimuth_360\": 317.55783098499774, \"segment_direction\": \"north-south\"}, {\"fwd_azimuth_360\": 89.90101441995249, \"segment_direction\": \"east-west\"}, {\"fwd_azimuth_360\": 86.19229604081467, \"segment_direction\": \"east-west\"}, {\"fwd_azimuth_360\": 359.41021752591155, \"segment_direction\": \"north-south\"}, {\"fwd_azimuth_360\": 335.74362470860797, \"segment_direction\": \"north-south\"}, {\"fwd_azimuth_360\": 27.639332839282332, \"segment_direction\": \"north-south\"}, {\"fwd_azimuth_360\": 110.41657464080507, \"segment_direction\": \"east-west\"}, {\"fwd_azimuth_360\": 89.74183007641045, \"segment_direction\": \"east-west\"}, {\"fwd_azimuth_360\": 81.08704039621516, \"segment_direction\": \"east-west\"}, {\"fwd_azimuth_360\": 8.75935250021836, \"segment_direction\": \"north-south\"}, {\"fwd_azimuth_360\": 99.99676161469814, \"segment_direction\": \"east-west\"}, {\"fwd_azimuth_360\": 66.38718293761961, \"segment_direction\": \"east-west\"}, {\"fwd_azimuth_360\": 320.52786617423874, \"segment_direction\": \"inconclusive\"}, {\"fwd_azimuth_360\": 101.2646375094111, \"segment_direction\": \"east-west\"}, {\"fwd_azimuth_360\": 88.62785296632859, \"segment_direction\": \"east-west\"}, {\"fwd_azimuth_360\": 180.07114600616197, \"segment_direction\": \"north-south\"}, {\"fwd_azimuth_360\": 153.71288228053055, \"segment_direction\": \"north-south\"}, {\"fwd_azimuth_360\": 208.64324755776278, \"segment_direction\": \"north-south\"}, {\"fwd_azimuth_360\": 269.23552919639764, \"segment_direction\": \"east-west\"}, {\"fwd_azimuth_360\": 248.23336528368804, \"segment_direction\": \"east-west\"}, {\"fwd_azimuth_360\": 89.91338998018526, \"segment_direction\": \"east-west\"}, {\"fwd_azimuth_360\": 359.5231629612174, \"segment_direction\": \"north-south\"}, {\"fwd_azimuth_360\": 89.26537464290749, \"segment_direction\": \"east-west\"}, {\"fwd_azimuth_360\": 334.83606530272505, \"segment_direction\": \"north-south\"}, {\"fwd_azimuth_360\": 89.98350928376736, \"segment_direction\": \"east-west\"}, {\"fwd_azimuth_360\": 129.4352241056245, \"segment_direction\": \"east-west\"}, {\"fwd_azimuth_360\": 87.74323206968029, \"segment_direction\": \"east-west\"}, {\"fwd_azimuth_360\": 298.20648764399573, \"segment_direction\": \"east-west\"}, {\"fwd_azimuth_360\": 34.487288683195445, \"segment_direction\": \"north-south\"}, {\"fwd_azimuth_360\": 303.84863409627565, \"segment_direction\": \"east-west\"}, {\"fwd_azimuth_360\": 76.21399436833981, \"segment_direction\": \"east-west\"}, {\"fwd_azimuth_360\": 89.18241071147037, \"segment_direction\": \"east-west\"}, {\"fwd_azimuth_360\": 180.30880695817152, \"segment_direction\": \"north-south\"}, {\"fwd_azimuth_360\": 229.69719882385033, \"segment_direction\": \"east-west\"}, {\"fwd_azimuth_360\": 247.6902287684442, \"segment_direction\": \"east-west\"}, {\"fwd_azimuth_360\": 307.6257031378498, \"segment_direction\": \"east-west\"}, {\"fwd_azimuth_360\": 341.19152207571767, \"segment_direction\": \"north-south\"}, {\"fwd_azimuth_360\": 105.54049946488827, \"segment_direction\": \"inconclusive\"}, {\"fwd_azimuth_360\": 1.2374144042206285, \"segment_direction\": \"north-south\"}, {\"fwd_azimuth_360\": 179.80441699594056, \"segment_direction\": \"north-south\"}, {\"fwd_azimuth_360\": 89.92912858553503, \"segment_direction\": \"east-west\"}, {\"fwd_azimuth_360\": 180.58852956511342, \"segment_direction\": \"north-south\"}, {\"fwd_azimuth_360\": 313.8072396922926, \"segment_direction\": \"north-south\"}, {\"fwd_azimuth_360\": 235.5686762409976, \"segment_direction\": \"east-west\"}, {\"fwd_azimuth_360\": 109.63196711102083, \"segment_direction\": \"east-west\"}, {\"fwd_azimuth_360\": 89.99925270819412, \"segment_direction\": \"east-west\"}, {\"fwd_azimuth_360\": 157.0213566485809, \"segment_direction\": \"north-south\"}, {\"fwd_azimuth_360\": 19.346301318606585, \"segment_direction\": \"north-south\"}, {\"fwd_azimuth_360\": 216.16062657882614, \"segment_direction\": \"inconclusive\"}, {\"fwd_azimuth_360\": 8.486552580860222, \"segment_direction\": \"north-south\"}, {\"fwd_azimuth_360\": 35.627276245316274, \"segment_direction\": \"north-south\"}, {\"fwd_azimuth_360\": 269.8119341816823, \"segment_direction\": \"east-west\"}, {\"fwd_azimuth_360\": 359.5413602504369, \"segment_direction\": \"north-south\"}, {\"fwd_azimuth_360\": 144.52849397239274, \"segment_direction\": \"north-south\"}, {\"fwd_azimuth_360\": 255.3709388355722, \"segment_direction\": \"east-west\"}, {\"fwd_azimuth_360\": 179.8035185752164, \"segment_direction\": \"north-south\"}, {\"fwd_azimuth_360\": 55.4441425168844, \"segment_direction\": \"east-west\"}, {\"fwd_azimuth_360\": 120.89606272058334, \"segment_direction\": \"east-west\"}, {\"fwd_azimuth_360\": 326.5746816528509, \"segment_direction\": \"north-south\"}, {\"fwd_azimuth_360\": 274.7321712355536, \"segment_direction\": \"east-west\"}, {\"fwd_azimuth_360\": 0.3044427518426467, \"segment_direction\": \"north-south\"}, {\"fwd_azimuth_360\": 270.31040911882263, \"segment_direction\": \"east-west\"}, {\"fwd_azimuth_360\": 350.83085343626, \"segment_direction\": \"north-south\"}, {\"fwd_azimuth_360\": 348.40085802800263, \"segment_direction\": \"north-south\"}, {\"fwd_azimuth_360\": 1.0815203794991752, \"segment_direction\": \"north-south\"}, {\"fwd_azimuth_360\": 60.57653683715232, \"segment_direction\": \"east-west\"}, {\"fwd_azimuth_360\": 1.1473219295727917, \"segment_direction\": \"north-south\"}, {\"fwd_azimuth_360\": 152.68809045125596, \"segment_direction\": \"north-south\"}, {\"fwd_azimuth_360\": 6.2285754592757145, \"segment_direction\": \"north-south\"}, {\"fwd_azimuth_360\": 53.44714937692941, \"segment_direction\": \"east-west\"}, {\"fwd_azimuth_360\": 236.46457745449862, \"segment_direction\": \"inconclusive\"}, {\"fwd_azimuth_360\": 116.65598301817315, \"segment_direction\": \"east-west\"}, {\"fwd_azimuth_360\": 349.9424441214175, \"segment_direction\": \"north-south\"}, {\"fwd_azimuth_360\": 37.87359689947843, \"segment_direction\": \"north-south\"}, {\"fwd_azimuth_360\": 55.578375628473026, \"segment_direction\": \"inconclusive\"}, {\"fwd_azimuth_360\": 64.77343695563975, \"segment_direction\": \"east-west\"}, {\"fwd_azimuth_360\": 150.48045797560786, \"segment_direction\": \"north-south\"}, {\"fwd_azimuth_360\": 89.93755047177862, \"segment_direction\": \"east-west\"}, {\"fwd_azimuth_360\": 17.479551270201945, \"segment_direction\": \"north-south\"}, {\"fwd_azimuth_360\": 18.77170065362875, \"segment_direction\": \"north-south\"}, {\"fwd_azimuth_360\": 99.8945586460231, \"segment_direction\": \"east-west\"}, {\"fwd_azimuth_360\": 343.54057669973895, \"segment_direction\": \"north-south\"}, {\"fwd_azimuth_360\": 185.92222390581077, \"segment_direction\": \"north-south\"}, {\"fwd_azimuth_360\": 298.64215209171084, \"segment_direction\": \"east-west\"}, {\"fwd_azimuth_360\": 137.28749708520138, \"segment_direction\": \"north-south\"}, {\"fwd_azimuth_360\": 61.71102457012923, \"segment_direction\": \"east-west\"}, {\"fwd_azimuth_360\": 89.487692813969, \"segment_direction\": \"east-west\"}, {\"fwd_azimuth_360\": 25.51575937560501, \"segment_direction\": \"north-south\"}, {\"fwd_azimuth_360\": 1.378785501261849, \"segment_direction\": \"north-south\"}, {\"fwd_azimuth_360\": 84.33879035121824, \"segment_direction\": \"east-west\"}, {\"fwd_azimuth_360\": 358.7009815409236, \"segment_direction\": \"north-south\"}, {\"fwd_azimuth_360\": 89.61585343181902, \"segment_direction\": \"east-west\"}, {\"fwd_azimuth_360\": 165.6613941224716, \"segment_direction\": \"north-south\"}, {\"fwd_azimuth_360\": 289.1803782982191, \"segment_direction\": \"east-west\"}, {\"fwd_azimuth_360\": 284.87242752503363, \"segment_direction\": \"east-west\"}, {\"fwd_azimuth_360\": 119.27122907190358, \"segment_direction\": \"east-west\"}, {\"fwd_azimuth_360\": 208.9445801416087, \"segment_direction\": \"north-south\"}, {\"fwd_azimuth_360\": 33.51719324296603, \"segment_direction\": \"north-south\"}, {\"fwd_azimuth_360\": 303.32200477044205, \"segment_direction\": \"east-west\"}, {\"fwd_azimuth_360\": 214.62780227819832, \"segment_direction\": \"north-south\"}, {\"fwd_azimuth_360\": 358.57566660587077, \"segment_direction\": \"north-south\"}, {\"fwd_azimuth_360\": 119.68377371723848, \"segment_direction\": \"east-west\"}, {\"fwd_azimuth_360\": 357.36704704002716, \"segment_direction\": \"north-south\"}, {\"fwd_azimuth_360\": 316.95211009412867, \"segment_direction\": \"north-south\"}, {\"fwd_azimuth_360\": 358.7639684986568, \"segment_direction\": \"north-south\"}, {\"fwd_azimuth_360\": 73.60745245648175, \"segment_direction\": \"east-west\"}, {\"fwd_azimuth_360\": 257.22462261572787, \"segment_direction\": \"east-west\"}, {\"fwd_azimuth_360\": 100.18450078880907, \"segment_direction\": \"east-west\"}, {\"fwd_azimuth_360\": 280.24898358352755, \"segment_direction\": \"east-west\"}, {\"fwd_azimuth_360\": 61.05990597178949, \"segment_direction\": \"east-west\"}, {\"fwd_azimuth_360\": 282.3358219158766, \"segment_direction\": \"east-west\"}, {\"fwd_azimuth_360\": 269.7819993598753, \"segment_direction\": \"east-west\"}, {\"fwd_azimuth_360\": 313.6115658300465, \"segment_direction\": \"east-west\"}, {\"fwd_azimuth_360\": 161.10653728621185, \"segment_direction\": \"north-south\"}, {\"fwd_azimuth_360\": 56.03552767176577, \"segment_direction\": \"east-west\"}, {\"fwd_azimuth_360\": 0.042424514832506005, \"segment_direction\": \"north-south\"}, {\"fwd_azimuth_360\": 128.56866253508696, \"segment_direction\": \"east-west\"}, {\"fwd_azimuth_360\": 292.5323363042571, \"segment_direction\": \"east-west\"}, {\"fwd_azimuth_360\": 2.241821813686742, \"segment_direction\": \"north-south\"}, {\"fwd_azimuth_360\": 142.7747703759853, \"segment_direction\": \"north-south\"}, {\"fwd_azimuth_360\": 315.5754021525023, \"segment_direction\": \"east-west\"}, {\"fwd_azimuth_360\": 359.9800182976497, \"segment_direction\": \"north-south\"}, {\"fwd_azimuth_360\": 180.0733781547998, \"segment_direction\": \"north-south\"}, {\"fwd_azimuth_360\": 72.16638922197893, \"segment_direction\": \"east-west\"}, {\"fwd_azimuth_360\": 179.8567676783309, \"segment_direction\": \"north-south\"}, {\"fwd_azimuth_360\": 50.80209038511892, \"segment_direction\": \"east-west\"}, {\"fwd_azimuth_360\": 37.914114642690976, \"segment_direction\": \"north-south\"}, {\"fwd_azimuth_360\": 358.1388368178499, \"segment_direction\": \"north-south\"}, {\"fwd_azimuth_360\": 307.8664777356618, \"segment_direction\": \"east-west\"}, {\"fwd_azimuth_360\": 3.9926284742415317, \"segment_direction\": \"north-south\"}, {\"fwd_azimuth_360\": 179.8002949994603, \"segment_direction\": \"north-south\"}, {\"fwd_azimuth_360\": 130.77574184836996, \"segment_direction\": \"east-west\"}, {\"fwd_azimuth_360\": 29.19666570536578, \"segment_direction\": \"north-south\"}, {\"fwd_azimuth_360\": 321.03150770636023, \"segment_direction\": \"north-south\"}, {\"fwd_azimuth_360\": 90.72569444520451, \"segment_direction\": \"east-west\"}, {\"fwd_azimuth_360\": 314.7733150425349, \"segment_direction\": \"east-west\"}, {\"fwd_azimuth_360\": 147.72251164476017, \"segment_direction\": \"north-south\"}, {\"fwd_azimuth_360\": 354.770221651634, \"segment_direction\": \"north-south\"}, {\"fwd_azimuth_360\": 339.37817532692327, \"segment_direction\": \"north-south\"}, {\"fwd_azimuth_360\": 255.63057570115149, \"segment_direction\": \"east-west\"}, {\"fwd_azimuth_360\": 278.3430390253759, \"segment_direction\": \"east-west\"}, {\"fwd_azimuth_360\": 266.7157573058991, \"segment_direction\": \"east-west\"}, {\"fwd_azimuth_360\": 106.18071673478775, \"segment_direction\": \"east-west\"}, {\"fwd_azimuth_360\": 237.92942068610765, \"segment_direction\": \"east-west\"}, {\"fwd_azimuth_360\": 175.79329808701215, \"segment_direction\": \"north-south\"}, {\"fwd_azimuth_360\": 260.90226698356884, \"segment_direction\": \"east-west\"}, {\"fwd_azimuth_360\": 271.1132314586766, \"segment_direction\": \"east-west\"}, {\"fwd_azimuth_360\": 235.80409536642168, \"segment_direction\": \"east-west\"}, {\"fwd_azimuth_360\": 199.76782955876075, \"segment_direction\": \"north-south\"}, {\"fwd_azimuth_360\": 338.7474697279024, \"segment_direction\": \"north-south\"}, {\"fwd_azimuth_360\": 0.844506047428599, \"segment_direction\": \"north-south\"}, {\"fwd_azimuth_360\": 62.14879946836963, \"segment_direction\": \"east-west\"}, {\"fwd_azimuth_360\": 230.393004218971, \"segment_direction\": \"east-west\"}, {\"fwd_azimuth_360\": 92.39171515326078, \"segment_direction\": \"east-west\"}, {\"fwd_azimuth_360\": 88.59157928115577, \"segment_direction\": \"east-west\"}, {\"fwd_azimuth_360\": 318.188716746154, \"segment_direction\": \"north-south\"}, {\"fwd_azimuth_360\": 98.08725605380505, \"segment_direction\": \"east-west\"}, {\"fwd_azimuth_360\": 0.008889998543415588, \"segment_direction\": \"north-south\"}, {\"fwd_azimuth_360\": 322.21503326144136, \"segment_direction\": \"north-south\"}, {\"fwd_azimuth_360\": 89.7126503218061, \"segment_direction\": \"east-west\"}, {\"fwd_azimuth_360\": 93.2689387856654, \"segment_direction\": \"east-west\"}, {\"fwd_azimuth_360\": 137.78795409480287, \"segment_direction\": \"north-south\"}, {\"fwd_azimuth_360\": 359.5813830239645, \"segment_direction\": \"north-south\"}, {\"fwd_azimuth_360\": 179.94273612158946, \"segment_direction\": \"north-south\"}, {\"fwd_azimuth_360\": 187.8353097942291, \"segment_direction\": \"north-south\"}, {\"fwd_azimuth_360\": 160.44672710692674, \"segment_direction\": \"north-south\"}, {\"fwd_azimuth_360\": 349.4093926771695, \"segment_direction\": \"north-south\"}, {\"fwd_azimuth_360\": 200.12883590916138, \"segment_direction\": \"north-south\"}, {\"fwd_azimuth_360\": 156.15820043422457, \"segment_direction\": \"north-south\"}, {\"fwd_azimuth_360\": 173.79210204216844, \"segment_direction\": \"north-south\"}, {\"fwd_azimuth_360\": 326.62782074054655, \"segment_direction\": \"north-south\"}, {\"fwd_azimuth_360\": 215.42401326519467, \"segment_direction\": \"north-south\"}, {\"fwd_azimuth_360\": 74.25069071071506, \"segment_direction\": \"east-west\"}, {\"fwd_azimuth_360\": 3.6985107701142326, \"segment_direction\": \"north-south\"}, {\"fwd_azimuth_360\": 357.7845758385414, \"segment_direction\": \"north-south\"}, {\"fwd_azimuth_360\": 345.6808260684656, \"segment_direction\": \"north-south\"}, {\"fwd_azimuth_360\": 234.4089250389948, \"segment_direction\": \"inconclusive\"}, {\"fwd_azimuth_360\": 92.38361811695512, \"segment_direction\": \"east-west\"}, {\"fwd_azimuth_360\": 48.47507674114126, \"segment_direction\": \"east-west\"}, {\"fwd_azimuth_360\": 270.4062882777142, \"segment_direction\": \"east-west\"}, {\"fwd_azimuth_360\": 235.40845311538146, \"segment_direction\": \"east-west\"}, {\"fwd_azimuth_360\": 312.1609638038302, \"segment_direction\": \"east-west\"}, {\"fwd_azimuth_360\": 180.69796315888502, \"segment_direction\": \"north-south\"}, {\"fwd_azimuth_360\": 267.1836166873538, \"segment_direction\": \"east-west\"}, {\"fwd_azimuth_360\": 193.79161875835723, \"segment_direction\": \"north-south\"}, {\"fwd_azimuth_360\": 63.60047956485778, \"segment_direction\": \"east-west\"}, {\"fwd_azimuth_360\": 94.30655791688328, \"segment_direction\": \"east-west\"}, {\"fwd_azimuth_360\": 359.99056315892716, \"segment_direction\": \"north-south\"}, {\"fwd_azimuth_360\": 291.9251966538367, \"segment_direction\": \"east-west\"}, {\"fwd_azimuth_360\": 72.18414071352632, \"segment_direction\": \"east-west\"}, {\"fwd_azimuth_360\": 55.60392198265726, \"segment_direction\": \"east-west\"}, {\"fwd_azimuth_360\": 89.36552346865554, \"segment_direction\": \"east-west\"}, {\"fwd_azimuth_360\": 230.27711335605488, \"segment_direction\": \"east-west\"}, {\"fwd_azimuth_360\": 83.54225754426196, \"segment_direction\": \"east-west\"}, {\"fwd_azimuth_360\": 301.97268447778197, \"segment_direction\": \"east-west\"}, {\"fwd_azimuth_360\": 200.84581029105405, \"segment_direction\": \"north-south\"}, {\"fwd_azimuth_360\": 301.8128316778703, \"segment_direction\": \"east-west\"}, {\"fwd_azimuth_360\": 138.65163860479134, \"segment_direction\": \"north-south\"}, {\"fwd_azimuth_360\": 181.85974945616937, \"segment_direction\": \"north-south\"}, {\"fwd_azimuth_360\": 162.55093106063174, \"segment_direction\": \"north-south\"}, {\"fwd_azimuth_360\": 37.89470406819128, \"segment_direction\": \"north-south\"}, {\"fwd_azimuth_360\": 344.35599818869474, \"segment_direction\": \"north-south\"}, {\"fwd_azimuth_360\": 157.05645043440322, \"segment_direction\": \"north-south\"}, {\"fwd_azimuth_360\": 9.269587930392953, \"segment_direction\": \"north-south\"}, {\"fwd_azimuth_360\": 95.92642173984322, \"segment_direction\": \"east-west\"}, {\"fwd_azimuth_360\": 284.98357943856746, \"segment_direction\": \"inconclusive\"}, {\"fwd_azimuth_360\": 168.63729787106044, \"segment_direction\": \"north-south\"}, {\"fwd_azimuth_360\": 269.9503002918535, \"segment_direction\": \"east-west\"}, {\"fwd_azimuth_360\": 0.11234286798266141, \"segment_direction\": \"north-south\"}, {\"fwd_azimuth_360\": 333.18142887503967, \"segment_direction\": \"north-south\"}, {\"fwd_azimuth_360\": 16.6023516421148, \"segment_direction\": \"north-south\"}, {\"fwd_azimuth_360\": 191.96461636517483, \"segment_direction\": \"north-south\"}, {\"fwd_azimuth_360\": 71.57915557752987, \"segment_direction\": \"east-west\"}, {\"fwd_azimuth_360\": 55.844136383889925, \"segment_direction\": \"east-west\"}, {\"fwd_azimuth_360\": 225.33917877774908, \"segment_direction\": \"east-west\"}, {\"fwd_azimuth_360\": 89.69747951804999, \"segment_direction\": \"east-west\"}, {\"fwd_azimuth_360\": 37.89470406888166, \"segment_direction\": \"north-south\"}, {\"fwd_azimuth_360\": 266.71933616550075, \"segment_direction\": \"east-west\"}, {\"fwd_azimuth_360\": 357.25460105836476, \"segment_direction\": \"north-south\"}, {\"fwd_azimuth_360\": 225.19648276172822, \"segment_direction\": \"east-west\"}, {\"fwd_azimuth_360\": 49.61341036614415, \"segment_direction\": \"east-west\"}, {\"fwd_azimuth_360\": 302.8549197296877, \"segment_direction\": \"east-west\"}, {\"fwd_azimuth_360\": 89.59640334219776, \"segment_direction\": \"east-west\"}, {\"fwd_azimuth_360\": 187.774062004595, \"segment_direction\": \"north-south\"}, {\"fwd_azimuth_360\": 4.094181884227413, \"segment_direction\": \"north-south\"}, {\"fwd_azimuth_360\": 164.5674729698344, \"segment_direction\": \"north-south\"}, {\"fwd_azimuth_360\": 77.83370204130142, \"segment_direction\": \"east-west\"}, {\"fwd_azimuth_360\": 53.60833397995617, \"segment_direction\": \"east-west\"}, {\"fwd_azimuth_360\": 201.46339313692272, \"segment_direction\": \"north-south\"}, {\"fwd_azimuth_360\": 18.654637882126433, \"segment_direction\": \"north-south\"}, {\"fwd_azimuth_360\": 106.10304763589718, \"segment_direction\": \"east-west\"}, {\"fwd_azimuth_360\": 167.83452289119077, \"segment_direction\": \"north-south\"}, {\"fwd_azimuth_360\": 98.5552474138963, \"segment_direction\": \"east-west\"}, {\"fwd_azimuth_360\": 261.25724714463024, \"segment_direction\": \"east-west\"}, {\"fwd_azimuth_360\": 169.63086576457982, \"segment_direction\": \"north-south\"}, {\"fwd_azimuth_360\": 99.86405552216269, \"segment_direction\": \"east-west\"}, {\"fwd_azimuth_360\": 23.193490750359608, \"segment_direction\": \"north-south\"}, {\"fwd_azimuth_360\": 359.3623452733217, \"segment_direction\": \"north-south\"}, {\"fwd_azimuth_360\": 52.999783947648844, \"segment_direction\": \"east-west\"}, {\"fwd_azimuth_360\": 129.21272416407558, \"segment_direction\": \"east-west\"}, {\"fwd_azimuth_360\": 78.81536073739832, \"segment_direction\": \"east-west\"}, {\"fwd_azimuth_360\": 124.8272688999283, \"segment_direction\": \"east-west\"}, {\"fwd_azimuth_360\": 125.16337361362127, \"segment_direction\": \"east-west\"}, {\"fwd_azimuth_360\": 89.96623902325872, \"segment_direction\": \"east-west\"}, {\"fwd_azimuth_360\": 155.91557318154682, \"segment_direction\": \"inconclusive\"}, {\"fwd_azimuth_360\": 34.804824994087866, \"segment_direction\": \"north-south\"}, {\"fwd_azimuth_360\": 6.107940528716168, \"segment_direction\": \"north-south\"}, {\"fwd_azimuth_360\": 359.8135603882878, \"segment_direction\": \"north-south\"}, {\"fwd_azimuth_360\": 25.569735727855964, \"segment_direction\": \"north-south\"}, {\"fwd_azimuth_360\": 95.31928308469891, \"segment_direction\": \"east-west\"}, {\"fwd_azimuth_360\": 96.80912661423801, \"segment_direction\": \"east-west\"}, {\"fwd_azimuth_360\": 179.55500345441806, \"segment_direction\": \"north-south\"}, {\"fwd_azimuth_360\": 267.61967685123346, \"segment_direction\": \"east-west\"}, {\"fwd_azimuth_360\": 270.4168696856833, \"segment_direction\": \"east-west\"}, {\"fwd_azimuth_360\": 87.44684815970591, \"segment_direction\": \"east-west\"}, {\"fwd_azimuth_360\": 37.21275422070732, \"segment_direction\": \"north-south\"}, {\"fwd_azimuth_360\": 293.174808276215, \"segment_direction\": \"east-west\"}, {\"fwd_azimuth_360\": 243.00852287788172, \"segment_direction\": \"east-west\"}, {\"fwd_azimuth_360\": 121.07899681415043, \"segment_direction\": \"east-west\"}, {\"fwd_azimuth_360\": 48.58613538554845, \"segment_direction\": \"east-west\"}, {\"fwd_azimuth_360\": 204.637099694717, \"segment_direction\": \"north-south\"}, {\"fwd_azimuth_360\": 292.18936635685026, \"segment_direction\": \"east-west\"}, {\"fwd_azimuth_360\": 89.38597535607816, \"segment_direction\": \"east-west\"}, {\"fwd_azimuth_360\": 29.03720522992339, \"segment_direction\": \"north-south\"}, {\"fwd_azimuth_360\": 57.8299215997869, \"segment_direction\": \"east-west\"}, {\"fwd_azimuth_360\": 88.6033164617068, \"segment_direction\": \"east-west\"}, {\"fwd_azimuth_360\": 77.13058962798304, \"segment_direction\": \"east-west\"}, {\"fwd_azimuth_360\": 0.11914861654047572, \"segment_direction\": \"north-south\"}, {\"fwd_azimuth_360\": 91.04856119235492, \"segment_direction\": \"east-west\"}, {\"fwd_azimuth_360\": 269.58047857271254, \"segment_direction\": \"east-west\"}, {\"fwd_azimuth_360\": 308.47697913604713, \"segment_direction\": \"east-west\"}, {\"fwd_azimuth_360\": 359.7085107050446, \"segment_direction\": \"north-south\"}, {\"fwd_azimuth_360\": 109.3315108591402, \"segment_direction\": \"east-west\"}, {\"fwd_azimuth_360\": 108.84174991128285, \"segment_direction\": \"east-west\"}, {\"fwd_azimuth_360\": 125.85448569774053, \"segment_direction\": \"east-west\"}, {\"fwd_azimuth_360\": 52.461804615306114, \"segment_direction\": \"east-west\"}, {\"fwd_azimuth_360\": 34.22328231657786, \"segment_direction\": \"north-south\"}, {\"fwd_azimuth_360\": 221.99560005762282, \"segment_direction\": \"north-south\"}, {\"fwd_azimuth_360\": 35.847524130633374, \"segment_direction\": \"north-south\"}, {\"fwd_azimuth_360\": 94.10434173030535, \"segment_direction\": \"east-west\"}, {\"fwd_azimuth_360\": 355.10351089457976, \"segment_direction\": \"north-south\"}, {\"fwd_azimuth_360\": 305.0185521295034, \"segment_direction\": \"east-west\"}, {\"fwd_azimuth_360\": 256.09366845153636, \"segment_direction\": \"east-west\"}, {\"fwd_azimuth_360\": 2.6221246601152246, \"segment_direction\": \"north-south\"}, {\"fwd_azimuth_360\": 357.0240572260459, \"segment_direction\": \"north-south\"}, {\"fwd_azimuth_360\": 323.5981189381006, \"segment_direction\": \"north-south\"}, {\"fwd_azimuth_360\": 359.6255809014072, \"segment_direction\": \"north-south\"}, {\"fwd_azimuth_360\": 90.1716163883577, \"segment_direction\": \"east-west\"}, {\"fwd_azimuth_360\": 195.30862054913158, \"segment_direction\": \"north-south\"}, {\"fwd_azimuth_360\": 337.82398801075516, \"segment_direction\": \"north-south\"}, {\"fwd_azimuth_360\": 50.51349594958919, \"segment_direction\": \"east-west\"}, {\"fwd_azimuth_360\": 32.11245232039739, \"segment_direction\": \"north-south\"}, {\"fwd_azimuth_360\": 259.540360345757, \"segment_direction\": \"east-west\"}, {\"fwd_azimuth_360\": 334.3789724646868, \"segment_direction\": \"north-south\"}, {\"fwd_azimuth_360\": 61.4799645052838, \"segment_direction\": \"east-west\"}, {\"fwd_azimuth_360\": 92.73722682161018, \"segment_direction\": \"east-west\"}, {\"fwd_azimuth_360\": 178.99422346514072, \"segment_direction\": \"north-south\"}, {\"fwd_azimuth_360\": 315.0636512204073, \"segment_direction\": \"inconclusive\"}, {\"fwd_azimuth_360\": 89.49974829052357, \"segment_direction\": \"east-west\"}, {\"fwd_azimuth_360\": 319.5323723354626, \"segment_direction\": \"north-south\"}, {\"fwd_azimuth_360\": 179.75205450535378, \"segment_direction\": \"north-south\"}, {\"fwd_azimuth_360\": 289.0999204155247, \"segment_direction\": \"east-west\"}, {\"fwd_azimuth_360\": 47.63796984324943, \"segment_direction\": \"east-west\"}, {\"fwd_azimuth_360\": 253.08194710169664, \"segment_direction\": \"east-west\"}, {\"fwd_azimuth_360\": 258.0466989401476, \"segment_direction\": \"east-west\"}, {\"fwd_azimuth_360\": 179.96903370463784, \"segment_direction\": \"north-south\"}, {\"fwd_azimuth_360\": 97.15999657610546, \"segment_direction\": \"east-west\"}, {\"fwd_azimuth_360\": 267.44630827288574, \"segment_direction\": \"east-west\"}, {\"fwd_azimuth_360\": 315.9586313217945, \"segment_direction\": \"north-south\"}, {\"fwd_azimuth_360\": 344.906481784622, \"segment_direction\": \"north-south\"}, {\"fwd_azimuth_360\": 270.2172083086397, \"segment_direction\": \"east-west\"}, {\"fwd_azimuth_360\": 359.98434552342485, \"segment_direction\": \"north-south\"}, {\"fwd_azimuth_360\": 4.065545969878408, \"segment_direction\": \"north-south\"}, {\"fwd_azimuth_360\": 21.40955912858084, \"segment_direction\": \"north-south\"}, {\"fwd_azimuth_360\": 221.4558957439816, \"segment_direction\": \"north-south\"}, {\"fwd_azimuth_360\": 356.337276778207, \"segment_direction\": \"north-south\"}, {\"fwd_azimuth_360\": 97.30177680261976, \"segment_direction\": \"east-west\"}, {\"fwd_azimuth_360\": 50.87122203801402, \"segment_direction\": \"east-west\"}, {\"fwd_azimuth_360\": 125.63868994631181, \"segment_direction\": \"east-west\"}, {\"fwd_azimuth_360\": 359.11249468879754, \"segment_direction\": \"north-south\"}, {\"fwd_azimuth_360\": 292.2469342673484, \"segment_direction\": \"east-west\"}, {\"fwd_azimuth_360\": 180.21493585706915, \"segment_direction\": \"north-south\"}, {\"fwd_azimuth_360\": 112.07163149842873, \"segment_direction\": \"inconclusive\"}, {\"fwd_azimuth_360\": 102.39852181791323, \"segment_direction\": \"east-west\"}, {\"fwd_azimuth_360\": 175.67659686211624, \"segment_direction\": \"north-south\"}, {\"fwd_azimuth_360\": 114.759598252226, \"segment_direction\": \"east-west\"}, {\"fwd_azimuth_360\": 79.98804665780945, \"segment_direction\": \"east-west\"}, {\"fwd_azimuth_360\": 340.1458928015084, \"segment_direction\": \"north-south\"}, {\"fwd_azimuth_360\": 234.0189955783443, \"segment_direction\": \"east-west\"}, {\"fwd_azimuth_360\": 13.47118406262474, \"segment_direction\": \"north-south\"}, {\"fwd_azimuth_360\": 211.7479688369464, \"segment_direction\": \"north-south\"}, {\"fwd_azimuth_360\": 18.658482981794037, \"segment_direction\": \"north-south\"}, {\"fwd_azimuth_360\": 52.99887193407419, \"segment_direction\": \"east-west\"}, {\"fwd_azimuth_360\": 328.56390667388035, \"segment_direction\": \"north-south\"}, {\"fwd_azimuth_360\": 213.6456697321209, \"segment_direction\": \"north-south\"}, {\"fwd_azimuth_360\": 12.524988126947267, \"segment_direction\": \"north-south\"}, {\"fwd_azimuth_360\": 37.95661001980106, \"segment_direction\": \"north-south\"}, {\"fwd_azimuth_360\": 181.6335933307435, \"segment_direction\": \"north-south\"}, {\"fwd_azimuth_360\": 269.6592110677969, \"segment_direction\": \"east-west\"}, {\"fwd_azimuth_360\": 91.46497423429402, \"segment_direction\": \"east-west\"}, {\"fwd_azimuth_360\": 353.68536098286995, \"segment_direction\": \"north-south\"}, {\"fwd_azimuth_360\": 180.36627243315698, \"segment_direction\": \"north-south\"}, {\"fwd_azimuth_360\": 281.1415112057669, \"segment_direction\": \"east-west\"}, {\"fwd_azimuth_360\": 352.74034303241507, \"segment_direction\": \"north-south\"}, {\"fwd_azimuth_360\": 15.993781764897557, \"segment_direction\": \"north-south\"}, {\"fwd_azimuth_360\": 359.97920671282895, \"segment_direction\": \"north-south\"}, {\"fwd_azimuth_360\": 359.55733769369, \"segment_direction\": \"north-south\"}, {\"fwd_azimuth_360\": 128.25339667431052, \"segment_direction\": \"east-west\"}, {\"fwd_azimuth_360\": 98.8553241200494, \"segment_direction\": \"east-west\"}, {\"fwd_azimuth_360\": 91.73030208666495, \"segment_direction\": \"east-west\"}, {\"fwd_azimuth_360\": 194.60837300273832, \"segment_direction\": \"north-south\"}, {\"fwd_azimuth_360\": 359.46826547340777, \"segment_direction\": \"north-south\"}, {\"fwd_azimuth_360\": 88.13022702672048, \"segment_direction\": \"east-west\"}, {\"fwd_azimuth_360\": 301.8430824659285, \"segment_direction\": \"east-west\"}, {\"fwd_azimuth_360\": 110.92265865350744, \"segment_direction\": \"east-west\"}, {\"fwd_azimuth_360\": 110.28166129386484, \"segment_direction\": \"east-west\"}, {\"fwd_azimuth_360\": 32.200814925329375, \"segment_direction\": \"north-south\"}, {\"fwd_azimuth_360\": 98.05299972003503, \"segment_direction\": \"east-west\"}, {\"fwd_azimuth_360\": 192.90853031403427, \"segment_direction\": \"north-south\"}, {\"fwd_azimuth_360\": 342.3693809678267, \"segment_direction\": \"north-south\"}, {\"fwd_azimuth_360\": 242.6188733324655, \"segment_direction\": \"east-west\"}, {\"fwd_azimuth_360\": 234.57536553593803, \"segment_direction\": \"east-west\"}, {\"fwd_azimuth_360\": 161.563202505969, \"segment_direction\": \"north-south\"}, {\"fwd_azimuth_360\": 20.67871445609465, \"segment_direction\": \"north-south\"}, {\"fwd_azimuth_360\": 88.40427259788034, \"segment_direction\": \"east-west\"}, {\"fwd_azimuth_360\": 321.7973423852509, \"segment_direction\": \"north-south\"}, {\"fwd_azimuth_360\": 57.40824707323021, \"segment_direction\": \"east-west\"}, {\"fwd_azimuth_360\": 93.3989754675075, \"segment_direction\": \"east-west\"}, {\"fwd_azimuth_360\": 211.54187342669638, \"segment_direction\": \"north-south\"}, {\"fwd_azimuth_360\": 185.6201929166065, \"segment_direction\": \"north-south\"}, {\"fwd_azimuth_360\": 290.30645347389435, \"segment_direction\": \"east-west\"}, {\"fwd_azimuth_360\": 269.9503002918535, \"segment_direction\": \"east-west\"}, {\"fwd_azimuth_360\": 199.90348383047902, \"segment_direction\": \"north-south\"}, {\"fwd_azimuth_360\": 135.3805739987949, \"segment_direction\": \"east-west\"}, {\"fwd_azimuth_360\": 318.00195848009946, \"segment_direction\": \"north-south\"}, {\"fwd_azimuth_360\": 37.56231463595041, \"segment_direction\": \"north-south\"}, {\"fwd_azimuth_360\": 270.2225974625135, \"segment_direction\": \"east-west\"}, {\"fwd_azimuth_360\": 234.24609210158067, \"segment_direction\": \"east-west\"}, {\"fwd_azimuth_360\": 38.713636264381414, \"segment_direction\": \"north-south\"}, {\"fwd_azimuth_360\": 269.9613758962563, \"segment_direction\": \"east-west\"}, {\"fwd_azimuth_360\": 89.89759088271266, \"segment_direction\": \"east-west\"}, {\"fwd_azimuth_360\": 290.5491746235445, \"segment_direction\": \"east-west\"}, {\"fwd_azimuth_360\": 269.52660393402186, \"segment_direction\": \"east-west\"}, {\"fwd_azimuth_360\": 123.1872364134534, \"segment_direction\": \"east-west\"}, {\"fwd_azimuth_360\": 179.23969121651638, \"segment_direction\": \"north-south\"}, {\"fwd_azimuth_360\": 236.99883387234829, \"segment_direction\": \"east-west\"}, {\"fwd_azimuth_360\": 156.76514535848673, \"segment_direction\": \"inconclusive\"}, {\"fwd_azimuth_360\": 207.1626703024139, \"segment_direction\": \"north-south\"}, {\"fwd_azimuth_360\": 126.41760698856572, \"segment_direction\": \"east-west\"}, {\"fwd_azimuth_360\": 195.9514276985613, \"segment_direction\": \"north-south\"}, {\"fwd_azimuth_360\": 270.37042975028817, \"segment_direction\": \"east-west\"}, {\"fwd_azimuth_360\": 47.53030573130059, \"segment_direction\": \"east-west\"}, {\"fwd_azimuth_360\": 249.79252189048944, \"segment_direction\": \"east-west\"}, {\"fwd_azimuth_360\": 85.60596719854725, \"segment_direction\": \"east-west\"}, {\"fwd_azimuth_360\": 174.36072292801884, \"segment_direction\": \"north-south\"}, {\"fwd_azimuth_360\": 359.8653729789873, \"segment_direction\": \"north-south\"}, {\"fwd_azimuth_360\": 89.58940091580389, \"segment_direction\": \"east-west\"}, {\"fwd_azimuth_360\": 117.00404853806747, \"segment_direction\": \"east-west\"}, {\"fwd_azimuth_360\": 94.85513098610294, \"segment_direction\": \"east-west\"}, {\"fwd_azimuth_360\": 289.1187569807087, \"segment_direction\": \"east-west\"}, {\"fwd_azimuth_360\": 359.627464641275, \"segment_direction\": \"north-south\"}, {\"fwd_azimuth_360\": 88.07966363421232, \"segment_direction\": \"east-west\"}, {\"fwd_azimuth_360\": 164.80501211312418, \"segment_direction\": \"north-south\"}, {\"fwd_azimuth_360\": 171.6683025864224, \"segment_direction\": \"north-south\"}, {\"fwd_azimuth_360\": 332.70127395431024, \"segment_direction\": \"north-south\"}, {\"fwd_azimuth_360\": 217.47968032643442, \"segment_direction\": \"north-south\"}, {\"fwd_azimuth_360\": 260.90226698356884, \"segment_direction\": \"east-west\"}, {\"fwd_azimuth_360\": 324.290913610884, \"segment_direction\": \"north-south\"}, {\"fwd_azimuth_360\": 89.45563534842448, \"segment_direction\": \"east-west\"}, {\"fwd_azimuth_360\": 270.9245528924783, \"segment_direction\": \"east-west\"}, {\"fwd_azimuth_360\": 83.79908431340911, \"segment_direction\": \"east-west\"}, {\"fwd_azimuth_360\": 175.6811484311864, \"segment_direction\": \"north-south\"}, {\"fwd_azimuth_360\": 85.1933396200545, \"segment_direction\": \"east-west\"}, {\"fwd_azimuth_360\": 283.9194547402567, \"segment_direction\": \"east-west\"}, {\"fwd_azimuth_360\": 199.7725070399178, \"segment_direction\": \"north-south\"}, {\"fwd_azimuth_360\": 235.20738295818515, \"segment_direction\": \"east-west\"}, {\"fwd_azimuth_360\": 42.768569889141055, \"segment_direction\": \"north-south\"}, {\"fwd_azimuth_360\": 181.88460782738483, \"segment_direction\": \"north-south\"}, {\"fwd_azimuth_360\": 1.1141991485427734, \"segment_direction\": \"north-south\"}, {\"fwd_azimuth_360\": 55.03744233933856, \"segment_direction\": \"east-west\"}, {\"fwd_azimuth_360\": 352.44593181159036, \"segment_direction\": \"north-south\"}, {\"fwd_azimuth_360\": 131.52138400651293, \"segment_direction\": \"east-west\"}, {\"fwd_azimuth_360\": 82.1297115887692, \"segment_direction\": \"east-west\"}, {\"fwd_azimuth_360\": 65.23383484734009, \"segment_direction\": \"east-west\"}, {\"fwd_azimuth_360\": 180.53966903258524, \"segment_direction\": \"north-south\"}, {\"fwd_azimuth_360\": 109.16546311584655, \"segment_direction\": \"east-west\"}, {\"fwd_azimuth_360\": 90.10341842077759, \"segment_direction\": \"east-west\"}, {\"fwd_azimuth_360\": 119.6851733247165, \"segment_direction\": \"east-west\"}, {\"fwd_azimuth_360\": 348.85753742382394, \"segment_direction\": \"north-south\"}, {\"fwd_azimuth_360\": 102.34003256132453, \"segment_direction\": \"east-west\"}, {\"fwd_azimuth_360\": 175.4647151378544, \"segment_direction\": \"north-south\"}, {\"fwd_azimuth_360\": 87.78145194139337, \"segment_direction\": \"east-west\"}, {\"fwd_azimuth_360\": 89.78303155473344, \"segment_direction\": \"east-west\"}, {\"fwd_azimuth_360\": 258.65781649356086, \"segment_direction\": \"east-west\"}, {\"fwd_azimuth_360\": 17.57788569198667, \"segment_direction\": \"north-south\"}, {\"fwd_azimuth_360\": 274.1853719241053, \"segment_direction\": \"east-west\"}, {\"fwd_azimuth_360\": 75.73767028026931, \"segment_direction\": \"east-west\"}, {\"fwd_azimuth_360\": 141.78901575792918, \"segment_direction\": \"north-south\"}, {\"fwd_azimuth_360\": 269.9529148578239, \"segment_direction\": \"east-west\"}, {\"fwd_azimuth_360\": 319.2692229230412, \"segment_direction\": \"inconclusive\"}, {\"fwd_azimuth_360\": 356.7451399427983, \"segment_direction\": \"north-south\"}, {\"fwd_azimuth_360\": 295.91466404205494, \"segment_direction\": \"east-west\"}, {\"fwd_azimuth_360\": 176.40053491311517, \"segment_direction\": \"north-south\"}, {\"fwd_azimuth_360\": 137.49086943097672, \"segment_direction\": \"north-south\"}, {\"fwd_azimuth_360\": 129.81460882275576, \"segment_direction\": \"east-west\"}, {\"fwd_azimuth_360\": 159.8720852961106, \"segment_direction\": \"north-south\"}, {\"fwd_azimuth_360\": 101.36369237641426, \"segment_direction\": \"east-west\"}, {\"fwd_azimuth_360\": 269.83418117594937, \"segment_direction\": \"east-west\"}, {\"fwd_azimuth_360\": 89.42005698861017, \"segment_direction\": \"east-west\"}, {\"fwd_azimuth_360\": 36.42348699299078, \"segment_direction\": \"north-south\"}, {\"fwd_azimuth_360\": 315.32147258964767, \"segment_direction\": \"north-south\"}, {\"fwd_azimuth_360\": 35.31191637195944, \"segment_direction\": \"north-south\"}, {\"fwd_azimuth_360\": 126.32622075100794, \"segment_direction\": \"east-west\"}, {\"fwd_azimuth_360\": 349.28595709229546, \"segment_direction\": \"north-south\"}, {\"fwd_azimuth_360\": 344.0879801797927, \"segment_direction\": \"north-south\"}, {\"fwd_azimuth_360\": 8.697880997471028, \"segment_direction\": \"north-south\"}, {\"fwd_azimuth_360\": 104.07555905245276, \"segment_direction\": \"east-west\"}, {\"fwd_azimuth_360\": 359.9559861521638, \"segment_direction\": \"north-south\"}, {\"fwd_azimuth_360\": 62.17768947767851, \"segment_direction\": \"east-west\"}, {\"fwd_azimuth_360\": 52.70508225220878, \"segment_direction\": \"east-west\"}, {\"fwd_azimuth_360\": 7.59387666118773, \"segment_direction\": \"north-south\"}, {\"fwd_azimuth_360\": 227.91948398069835, \"segment_direction\": \"east-west\"}, {\"fwd_azimuth_360\": 156.023176147053, \"segment_direction\": \"north-south\"}, {\"fwd_azimuth_360\": 46.28418960832152, \"segment_direction\": \"east-west\"}, {\"fwd_azimuth_360\": 353.5243219952392, \"segment_direction\": \"north-south\"}, {\"fwd_azimuth_360\": 213.9965746167766, \"segment_direction\": \"north-south\"}, {\"fwd_azimuth_360\": 83.24254543540775, \"segment_direction\": \"east-west\"}, {\"fwd_azimuth_360\": 88.24866605924326, \"segment_direction\": \"east-west\"}, {\"fwd_azimuth_360\": 69.24373050793764, \"segment_direction\": \"east-west\"}, {\"fwd_azimuth_360\": 69.34295558933741, \"segment_direction\": \"east-west\"}, {\"fwd_azimuth_360\": 74.29105788471759, \"segment_direction\": \"east-west\"}, {\"fwd_azimuth_360\": 59.16509479556831, \"segment_direction\": \"east-west\"}, {\"fwd_azimuth_360\": 139.76295295628893, \"segment_direction\": \"north-south\"}, {\"fwd_azimuth_360\": 116.60023269413333, \"segment_direction\": \"east-west\"}, {\"fwd_azimuth_360\": 271.1878049359734, \"segment_direction\": \"east-west\"}, {\"fwd_azimuth_360\": 90.5750185523252, \"segment_direction\": \"east-west\"}, {\"fwd_azimuth_360\": 85.62612120857034, \"segment_direction\": \"east-west\"}, {\"fwd_azimuth_360\": 163.40449620034778, \"segment_direction\": \"north-south\"}, {\"fwd_azimuth_360\": 143.43750279443904, \"segment_direction\": \"north-south\"}, {\"fwd_azimuth_360\": 60.72665112021626, \"segment_direction\": \"east-west\"}, {\"fwd_azimuth_360\": 267.75380576793975, \"segment_direction\": \"east-west\"}, {\"fwd_azimuth_360\": 125.14576369501944, \"segment_direction\": \"east-west\"}, {\"fwd_azimuth_360\": 341.79093313397976, \"segment_direction\": \"north-south\"}, {\"fwd_azimuth_360\": 137.80033390294156, \"segment_direction\": \"north-south\"}, {\"fwd_azimuth_360\": 257.02486189864305, \"segment_direction\": \"east-west\"}, {\"fwd_azimuth_360\": 157.00503944504214, \"segment_direction\": \"north-south\"}, {\"fwd_azimuth_360\": 135.20114117943328, \"segment_direction\": \"north-south\"}, {\"fwd_azimuth_360\": 256.47665502205956, \"segment_direction\": \"east-west\"}, {\"fwd_azimuth_360\": 13.945141500284821, \"segment_direction\": \"north-south\"}, {\"fwd_azimuth_360\": 307.59517910922665, \"segment_direction\": \"east-west\"}, {\"fwd_azimuth_360\": 315.94475195854045, \"segment_direction\": \"north-south\"}, {\"fwd_azimuth_360\": 134.46938058511347, \"segment_direction\": \"east-west\"}, {\"fwd_azimuth_360\": 56.56554687570204, \"segment_direction\": \"east-west\"}, {\"fwd_azimuth_360\": 180.12294293569198, \"segment_direction\": \"north-south\"}, {\"fwd_azimuth_360\": 180.86364818262803, \"segment_direction\": \"north-south\"}, {\"fwd_azimuth_360\": 9.697053670921946, \"segment_direction\": \"north-south\"}, {\"fwd_azimuth_360\": 89.39732355342545, \"segment_direction\": \"east-west\"}, {\"fwd_azimuth_360\": 179.89302300983016, \"segment_direction\": \"north-south\"}, {\"fwd_azimuth_360\": 18.293886942568864, \"segment_direction\": \"north-south\"}, {\"fwd_azimuth_360\": 65.83363134291531, \"segment_direction\": \"east-west\"}, {\"fwd_azimuth_360\": 40.57187006610904, \"segment_direction\": \"north-south\"}, {\"fwd_azimuth_360\": 266.7051225449812, \"segment_direction\": \"east-west\"}, {\"fwd_azimuth_360\": 6.853744291835002, \"segment_direction\": \"north-south\"}, {\"fwd_azimuth_360\": 84.1654420993254, \"segment_direction\": \"east-west\"}, {\"fwd_azimuth_360\": 72.07808566970868, \"segment_direction\": \"east-west\"}, {\"fwd_azimuth_360\": 353.5726458854459, \"segment_direction\": \"north-south\"}, {\"fwd_azimuth_360\": 152.85141567788486, \"segment_direction\": \"north-south\"}, {\"fwd_azimuth_360\": 345.6593415307744, \"segment_direction\": \"north-south\"}, {\"fwd_azimuth_360\": 266.71471385184503, \"segment_direction\": \"east-west\"}, {\"fwd_azimuth_360\": 91.11104081714299, \"segment_direction\": \"east-west\"}, {\"fwd_azimuth_360\": 331.69626761622595, \"segment_direction\": \"north-south\"}, {\"fwd_azimuth_360\": 165.43986293747707, \"segment_direction\": \"north-south\"}, {\"fwd_azimuth_360\": 46.489306825926896, \"segment_direction\": \"east-west\"}, {\"fwd_azimuth_360\": 90.24205841040651, \"segment_direction\": \"east-west\"}, {\"fwd_azimuth_360\": 133.21574976153346, \"segment_direction\": \"east-west\"}, {\"fwd_azimuth_360\": 67.98299150461628, \"segment_direction\": \"east-west\"}, {\"fwd_azimuth_360\": 298.4261353818732, \"segment_direction\": \"east-west\"}, {\"fwd_azimuth_360\": 90.25051569386001, \"segment_direction\": \"east-west\"}, {\"fwd_azimuth_360\": 347.2622119658481, \"segment_direction\": \"north-south\"}, {\"fwd_azimuth_360\": 156.84277547194714, \"segment_direction\": \"north-south\"}, {\"fwd_azimuth_360\": 217.54382728817566, \"segment_direction\": \"north-south\"}, {\"fwd_azimuth_360\": 321.8544682702317, \"segment_direction\": \"north-south\"}, {\"fwd_azimuth_360\": 337.64576205275256, \"segment_direction\": \"north-south\"}, {\"fwd_azimuth_360\": 46.390705454234464, \"segment_direction\": \"east-west\"}, {\"fwd_azimuth_360\": 358.88299645334394, \"segment_direction\": \"north-south\"}, {\"fwd_azimuth_360\": 168.4464656401513, \"segment_direction\": \"north-south\"}, {\"fwd_azimuth_360\": 341.99590749391723, \"segment_direction\": \"north-south\"}, {\"fwd_azimuth_360\": 165.29137263807095, \"segment_direction\": \"north-south\"}, {\"fwd_azimuth_360\": 337.2747227013095, \"segment_direction\": \"north-south\"}, {\"fwd_azimuth_360\": 359.86746684830297, \"segment_direction\": \"north-south\"}, {\"fwd_azimuth_360\": 74.7916746898112, \"segment_direction\": \"east-west\"}, {\"fwd_azimuth_360\": 319.83921700858474, \"segment_direction\": \"north-south\"}, {\"fwd_azimuth_360\": 89.691747357654, \"segment_direction\": \"east-west\"}, {\"fwd_azimuth_360\": 257.1992691655627, \"segment_direction\": \"east-west\"}, {\"fwd_azimuth_360\": 229.3566338906681, \"segment_direction\": \"east-west\"}, {\"fwd_azimuth_360\": 120.30510205882995, \"segment_direction\": \"east-west\"}, {\"fwd_azimuth_360\": 165.62089177242962, \"segment_direction\": \"north-south\"}, {\"fwd_azimuth_360\": 358.57566650418204, \"segment_direction\": \"north-south\"}, {\"fwd_azimuth_360\": 148.00357409886578, \"segment_direction\": \"north-south\"}, {\"fwd_azimuth_360\": 95.392389168444, \"segment_direction\": \"east-west\"}, {\"fwd_azimuth_360\": 145.69899800850277, \"segment_direction\": \"north-south\"}, {\"fwd_azimuth_360\": 0.029803771097214975, \"segment_direction\": \"north-south\"}, {\"fwd_azimuth_360\": 324.91470191412003, \"segment_direction\": \"north-south\"}, {\"fwd_azimuth_360\": 317.2934963095841, \"segment_direction\": \"north-south\"}, {\"fwd_azimuth_360\": 67.20413418995328, \"segment_direction\": \"inconclusive\"}, {\"fwd_azimuth_360\": 90.26944427544834, \"segment_direction\": \"east-west\"}, {\"fwd_azimuth_360\": 171.5834458407742, \"segment_direction\": \"north-south\"}, {\"fwd_azimuth_360\": 354.5210611655636, \"segment_direction\": \"north-south\"}, {\"fwd_azimuth_360\": 356.8756658574874, \"segment_direction\": \"north-south\"}, {\"fwd_azimuth_360\": 93.60955577785914, \"segment_direction\": \"east-west\"}, {\"fwd_azimuth_360\": 89.97824706707654, \"segment_direction\": \"east-west\"}, {\"fwd_azimuth_360\": 91.85191263986228, \"segment_direction\": \"east-west\"}, {\"fwd_azimuth_360\": 359.95406286209374, \"segment_direction\": \"north-south\"}, {\"fwd_azimuth_360\": 356.074059939089, \"segment_direction\": \"north-south\"}, {\"fwd_azimuth_360\": 347.3310314065057, \"segment_direction\": \"north-south\"}, {\"fwd_azimuth_360\": 261.13437304584244, \"segment_direction\": \"east-west\"}, {\"fwd_azimuth_360\": 255.57714133087865, \"segment_direction\": \"east-west\"}, {\"fwd_azimuth_360\": 214.60836234225476, \"segment_direction\": \"north-south\"}, {\"fwd_azimuth_360\": 45.77501042091404, \"segment_direction\": \"north-south\"}, {\"fwd_azimuth_360\": 302.58022427666765, \"segment_direction\": \"east-west\"}, {\"fwd_azimuth_360\": 359.4089393464833, \"segment_direction\": \"north-south\"}, {\"fwd_azimuth_360\": 270.9090626818776, \"segment_direction\": \"east-west\"}, {\"fwd_azimuth_360\": 355.10351089457976, \"segment_direction\": \"north-south\"}, {\"fwd_azimuth_360\": 94.16961860795365, \"segment_direction\": \"east-west\"}, {\"fwd_azimuth_360\": 94.31196899799951, \"segment_direction\": \"east-west\"}, {\"fwd_azimuth_360\": 354.7702220987194, \"segment_direction\": \"north-south\"}, {\"fwd_azimuth_360\": 333.33877167103986, \"segment_direction\": \"north-south\"}, {\"fwd_azimuth_360\": 75.92424611518032, \"segment_direction\": \"east-west\"}, {\"fwd_azimuth_360\": 91.44611700894981, \"segment_direction\": \"east-west\"}, {\"fwd_azimuth_360\": 119.41798213868253, \"segment_direction\": \"east-west\"}, {\"fwd_azimuth_360\": 307.5992534491535, \"segment_direction\": \"east-west\"}, {\"fwd_azimuth_360\": 273.68148639486793, \"segment_direction\": \"east-west\"}, {\"fwd_azimuth_360\": 234.70937351588404, \"segment_direction\": \"east-west\"}, {\"fwd_azimuth_360\": 356.30266077541535, \"segment_direction\": \"north-south\"}, {\"fwd_azimuth_360\": 333.2955645846813, \"segment_direction\": \"north-south\"}, {\"fwd_azimuth_360\": 270.0037981066785, \"segment_direction\": \"east-west\"}, {\"fwd_azimuth_360\": 179.69492884494588, \"segment_direction\": \"north-south\"}, {\"fwd_azimuth_360\": 54.72993136146414, \"segment_direction\": \"east-west\"}, {\"fwd_azimuth_360\": 42.947664014111325, \"segment_direction\": \"north-south\"}, {\"fwd_azimuth_360\": 191.2749072537484, \"segment_direction\": \"north-south\"}, {\"fwd_azimuth_360\": 251.4495484467867, \"segment_direction\": \"east-west\"}, {\"fwd_azimuth_360\": 315.5105344125147, \"segment_direction\": \"north-south\"}, {\"fwd_azimuth_360\": 270.2727665371999, \"segment_direction\": \"east-west\"}, {\"fwd_azimuth_360\": 14.19660060048876, \"segment_direction\": \"north-south\"}, {\"fwd_azimuth_360\": 89.6008866040601, \"segment_direction\": \"east-west\"}, {\"fwd_azimuth_360\": 196.32388303663546, \"segment_direction\": \"north-south\"}, {\"fwd_azimuth_360\": 277.7130064804701, \"segment_direction\": \"east-west\"}, {\"fwd_azimuth_360\": 285.59528993579266, \"segment_direction\": \"east-west\"}, {\"fwd_azimuth_360\": 16.264552228015898, \"segment_direction\": \"north-south\"}, {\"fwd_azimuth_360\": 291.2035456169563, \"segment_direction\": \"east-west\"}, {\"fwd_azimuth_360\": 89.96808285421474, \"segment_direction\": \"east-west\"}, {\"fwd_azimuth_360\": 269.86609328115946, \"segment_direction\": \"east-west\"}, {\"fwd_azimuth_360\": 37.8496228533473, \"segment_direction\": \"north-south\"}, {\"fwd_azimuth_360\": 89.95190309613571, \"segment_direction\": \"east-west\"}, {\"fwd_azimuth_360\": 3.750319567880542, \"segment_direction\": \"north-south\"}, {\"fwd_azimuth_360\": 269.8748348785389, \"segment_direction\": \"east-west\"}, {\"fwd_azimuth_360\": 356.388485400944, \"segment_direction\": \"north-south\"}, {\"fwd_azimuth_360\": 306.800161726101, \"segment_direction\": \"east-west\"}, {\"fwd_azimuth_360\": 358.1890540839997, \"segment_direction\": \"north-south\"}, {\"fwd_azimuth_360\": 49.647414769042626, \"segment_direction\": \"east-west\"}, {\"fwd_azimuth_360\": 359.77742301141046, \"segment_direction\": \"north-south\"}, {\"fwd_azimuth_360\": 2.3661563578727383, \"segment_direction\": \"north-south\"}, {\"fwd_azimuth_360\": 105.9342486186188, \"segment_direction\": \"east-west\"}, {\"fwd_azimuth_360\": 179.09844595213755, \"segment_direction\": \"north-south\"}, {\"fwd_azimuth_360\": 153.5287308999254, \"segment_direction\": \"north-south\"}, {\"fwd_azimuth_360\": 167.18136559845047, \"segment_direction\": \"north-south\"}, {\"fwd_azimuth_360\": 322.4570499390584, \"segment_direction\": \"north-south\"}, {\"fwd_azimuth_360\": 72.15853719845167, \"segment_direction\": \"east-west\"}, {\"fwd_azimuth_360\": 21.258038698183874, \"segment_direction\": \"north-south\"}, {\"fwd_azimuth_360\": 266.577808752045, \"segment_direction\": \"east-west\"}, {\"fwd_azimuth_360\": 259.8098888808869, \"segment_direction\": \"east-west\"}, {\"fwd_azimuth_360\": 223.38301759001882, \"segment_direction\": \"north-south\"}, {\"fwd_azimuth_360\": 359.79386223371966, \"segment_direction\": \"north-south\"}, {\"fwd_azimuth_360\": 355.6410575490243, \"segment_direction\": \"north-south\"}, {\"fwd_azimuth_360\": 275.46797345462545, \"segment_direction\": \"inconclusive\"}, {\"fwd_azimuth_360\": 185.74698846028193, \"segment_direction\": \"north-south\"}, {\"fwd_azimuth_360\": 95.75283889531705, \"segment_direction\": \"east-west\"}, {\"fwd_azimuth_360\": 287.7334762054056, \"segment_direction\": \"east-west\"}, {\"fwd_azimuth_360\": 343.93659984900114, \"segment_direction\": \"north-south\"}, {\"fwd_azimuth_360\": 179.84882547270234, \"segment_direction\": \"north-south\"}, {\"fwd_azimuth_360\": 359.7248392371074, \"segment_direction\": \"north-south\"}, {\"fwd_azimuth_360\": 319.00250122893715, \"segment_direction\": \"north-south\"}, {\"fwd_azimuth_360\": 243.1464699390053, \"segment_direction\": \"east-west\"}, {\"fwd_azimuth_360\": 130.10557216400753, \"segment_direction\": \"east-west\"}, {\"fwd_azimuth_360\": 263.6694262546655, \"segment_direction\": \"east-west\"}, {\"fwd_azimuth_360\": 89.69111115914652, \"segment_direction\": \"east-west\"}, {\"fwd_azimuth_360\": 317.94344750917764, \"segment_direction\": \"north-south\"}, {\"fwd_azimuth_360\": 334.8572136798616, \"segment_direction\": \"north-south\"}, {\"fwd_azimuth_360\": 359.5759321370845, \"segment_direction\": \"north-south\"}, {\"fwd_azimuth_360\": 90.0275169593189, \"segment_direction\": \"east-west\"}, {\"fwd_azimuth_360\": 281.8318197281199, \"segment_direction\": \"east-west\"}, {\"fwd_azimuth_360\": 10.137636754316368, \"segment_direction\": \"north-south\"}, {\"fwd_azimuth_360\": 227.06231173237992, \"segment_direction\": \"east-west\"}, {\"fwd_azimuth_360\": 110.25916206838536, \"segment_direction\": \"east-west\"}, {\"fwd_azimuth_360\": 88.90825650627971, \"segment_direction\": \"east-west\"}, {\"fwd_azimuth_360\": 89.29269281601265, \"segment_direction\": \"east-west\"}, {\"fwd_azimuth_360\": 252.7906506393965, \"segment_direction\": \"east-west\"}, {\"fwd_azimuth_360\": 101.66116847792823, \"segment_direction\": \"east-west\"}, {\"fwd_azimuth_360\": 88.0474641729203, \"segment_direction\": \"east-west\"}, {\"fwd_azimuth_360\": 179.26920739146126, \"segment_direction\": \"north-south\"}, {\"fwd_azimuth_360\": 359.6020733643428, \"segment_direction\": \"north-south\"}, {\"fwd_azimuth_360\": 187.00613772964473, \"segment_direction\": \"north-south\"}, {\"fwd_azimuth_360\": 65.68761511357854, \"segment_direction\": \"east-west\"}, {\"fwd_azimuth_360\": 15.019577029479262, \"segment_direction\": \"north-south\"}, {\"fwd_azimuth_360\": 225.5993782553924, \"segment_direction\": \"north-south\"}, {\"fwd_azimuth_360\": 220.84714143838528, \"segment_direction\": \"north-south\"}, {\"fwd_azimuth_360\": 23.721000286417784, \"segment_direction\": \"north-south\"}, {\"fwd_azimuth_360\": 101.34451248176514, \"segment_direction\": \"east-west\"}, {\"fwd_azimuth_360\": 283.9064002196171, \"segment_direction\": \"east-west\"}, {\"fwd_azimuth_360\": 38.55397541825841, \"segment_direction\": \"north-south\"}, {\"fwd_azimuth_360\": 22.075394656742485, \"segment_direction\": \"inconclusive\"}, {\"fwd_azimuth_360\": 90.63312855934711, \"segment_direction\": \"east-west\"}, {\"fwd_azimuth_360\": 357.4338799021781, \"segment_direction\": \"north-south\"}, {\"fwd_azimuth_360\": 128.25851072452676, \"segment_direction\": \"east-west\"}, {\"fwd_azimuth_360\": 260.2543358343967, \"segment_direction\": \"inconclusive\"}, {\"fwd_azimuth_360\": 329.4388081627641, \"segment_direction\": \"north-south\"}, {\"fwd_azimuth_360\": 47.6444779998385, \"segment_direction\": \"east-west\"}, {\"fwd_azimuth_360\": 323.4296569337828, \"segment_direction\": \"north-south\"}, {\"fwd_azimuth_360\": 121.82000346478007, \"segment_direction\": \"east-west\"}, {\"fwd_azimuth_360\": 57.26343169494132, \"segment_direction\": \"east-west\"}, {\"fwd_azimuth_360\": 341.80862379710044, \"segment_direction\": \"north-south\"}, {\"fwd_azimuth_360\": 335.4285329258948, \"segment_direction\": \"north-south\"}, {\"fwd_azimuth_360\": 31.745582888287117, \"segment_direction\": \"north-south\"}, {\"fwd_azimuth_360\": 270.24803097873956, \"segment_direction\": \"east-west\"}, {\"fwd_azimuth_360\": 180.92358983839952, \"segment_direction\": \"north-south\"}, {\"fwd_azimuth_360\": 354.12868189712697, \"segment_direction\": \"north-south\"}, {\"fwd_azimuth_360\": 94.99384339800517, \"segment_direction\": \"east-west\"}, {\"fwd_azimuth_360\": 270.1258352614245, \"segment_direction\": \"east-west\"}, {\"fwd_azimuth_360\": 153.19665362385948, \"segment_direction\": \"north-south\"}, {\"fwd_azimuth_360\": 147.70906473441767, \"segment_direction\": \"north-south\"}, {\"fwd_azimuth_360\": 104.40816714425115, \"segment_direction\": \"east-west\"}, {\"fwd_azimuth_360\": 37.87854292879635, \"segment_direction\": \"north-south\"}, {\"fwd_azimuth_360\": 132.71509441508496, \"segment_direction\": \"east-west\"}, {\"fwd_azimuth_360\": 142.177694411297, \"segment_direction\": \"north-south\"}, {\"fwd_azimuth_360\": 177.11571602166745, \"segment_direction\": \"north-south\"}, {\"fwd_azimuth_360\": 59.79350723060115, \"segment_direction\": \"east-west\"}, {\"fwd_azimuth_360\": 207.95304239061028, \"segment_direction\": \"north-south\"}, {\"fwd_azimuth_360\": 313.4729887524169, \"segment_direction\": \"east-west\"}, {\"fwd_azimuth_360\": 244.74876354496007, \"segment_direction\": \"east-west\"}, {\"fwd_azimuth_360\": 356.0454718384318, \"segment_direction\": \"north-south\"}, {\"fwd_azimuth_360\": 180.0320676232605, \"segment_direction\": \"north-south\"}, {\"fwd_azimuth_360\": 210.01844228780226, \"segment_direction\": \"north-south\"}, {\"fwd_azimuth_360\": 256.49030263970207, \"segment_direction\": \"east-west\"}, {\"fwd_azimuth_360\": 228.8219771993861, \"segment_direction\": \"east-west\"}, {\"fwd_azimuth_360\": 180.08677028139365, \"segment_direction\": \"north-south\"}, {\"fwd_azimuth_360\": 27.927611517202077, \"segment_direction\": \"north-south\"}, {\"fwd_azimuth_360\": 356.25507628848555, \"segment_direction\": \"north-south\"}, {\"fwd_azimuth_360\": 106.43344521479207, \"segment_direction\": \"east-west\"}, {\"fwd_azimuth_360\": 173.9778660797921, \"segment_direction\": \"north-south\"}, {\"fwd_azimuth_360\": 8.782926494471614, \"segment_direction\": \"north-south\"}, {\"fwd_azimuth_360\": 125.0102834126487, \"segment_direction\": \"east-west\"}, {\"fwd_azimuth_360\": 350.73081276774076, \"segment_direction\": \"north-south\"}, {\"fwd_azimuth_360\": 66.8437230525607, \"segment_direction\": \"east-west\"}, {\"fwd_azimuth_360\": 170.2504831641429, \"segment_direction\": \"north-south\"}, {\"fwd_azimuth_360\": 334.0945951774485, \"segment_direction\": \"north-south\"}, {\"fwd_azimuth_360\": 82.10166075212477, \"segment_direction\": \"east-west\"}, {\"fwd_azimuth_360\": 269.7448676364639, \"segment_direction\": \"east-west\"}, {\"fwd_azimuth_360\": 90.19179291367469, \"segment_direction\": \"east-west\"}, {\"fwd_azimuth_360\": 234.86619067440833, \"segment_direction\": \"east-west\"}, {\"fwd_azimuth_360\": 152.6476565150128, \"segment_direction\": \"north-south\"}, {\"fwd_azimuth_360\": 359.80615166062756, \"segment_direction\": \"north-south\"}, {\"fwd_azimuth_360\": 90.48183193830022, \"segment_direction\": \"east-west\"}, {\"fwd_azimuth_360\": 268.46284951617486, \"segment_direction\": \"east-west\"}, {\"fwd_azimuth_360\": 55.0129199540333, \"segment_direction\": \"east-west\"}, {\"fwd_azimuth_360\": 221.62058367116322, \"segment_direction\": \"north-south\"}, {\"fwd_azimuth_360\": 143.02019579847686, \"segment_direction\": \"north-south\"}, {\"fwd_azimuth_360\": 125.77489412112865, \"segment_direction\": \"east-west\"}, {\"fwd_azimuth_360\": 18.122788449244606, \"segment_direction\": \"north-south\"}, {\"fwd_azimuth_360\": 336.4318843460075, \"segment_direction\": \"north-south\"}, {\"fwd_azimuth_360\": 125.42570526042542, \"segment_direction\": \"east-west\"}, {\"fwd_azimuth_360\": 143.07242272818752, \"segment_direction\": \"north-south\"}, {\"fwd_azimuth_360\": 85.21475077312171, \"segment_direction\": \"east-west\"}, {\"fwd_azimuth_360\": 147.2291823069652, \"segment_direction\": \"north-south\"}, {\"fwd_azimuth_360\": 83.84112272085531, \"segment_direction\": \"east-west\"}, {\"fwd_azimuth_360\": 163.90459865100047, \"segment_direction\": \"north-south\"}, {\"fwd_azimuth_360\": 190.64272560875432, \"segment_direction\": \"north-south\"}, {\"fwd_azimuth_360\": 42.42360805131922, \"segment_direction\": \"north-south\"}, {\"fwd_azimuth_360\": 39.290105085068355, \"segment_direction\": \"north-south\"}, {\"fwd_azimuth_360\": 0.030973030131163596, \"segment_direction\": \"north-south\"}, {\"fwd_azimuth_360\": 182.82251391420914, \"segment_direction\": \"north-south\"}, {\"fwd_azimuth_360\": 163.26856851849328, \"segment_direction\": \"north-south\"}, {\"fwd_azimuth_360\": 122.26278153495687, \"segment_direction\": \"east-west\"}, {\"fwd_azimuth_360\": 90.03276744154557, \"segment_direction\": \"east-west\"}, {\"fwd_azimuth_360\": 338.2110322879151, \"segment_direction\": \"north-south\"}, {\"fwd_azimuth_360\": 260.81717537085694, \"segment_direction\": \"east-west\"}, {\"fwd_azimuth_360\": 89.29871385244353, \"segment_direction\": \"east-west\"}, {\"fwd_azimuth_360\": 249.99611063870577, \"segment_direction\": \"east-west\"}, {\"fwd_azimuth_360\": 270.645839959107, \"segment_direction\": \"east-west\"}, {\"fwd_azimuth_360\": 222.88008271777113, \"segment_direction\": \"north-south\"}, {\"fwd_azimuth_360\": 92.03308555413949, \"segment_direction\": \"east-west\"}, {\"fwd_azimuth_360\": 181.2941924749041, \"segment_direction\": \"north-south\"}, {\"fwd_azimuth_360\": 89.63786042518643, \"segment_direction\": \"east-west\"}, {\"fwd_azimuth_360\": 91.21694238525646, \"segment_direction\": \"east-west\"}, {\"fwd_azimuth_360\": 9.833964416083097, \"segment_direction\": \"north-south\"}, {\"fwd_azimuth_360\": 152.85795787738604, \"segment_direction\": \"north-south\"}, {\"fwd_azimuth_360\": 90.04710629794629, \"segment_direction\": \"east-west\"}, {\"fwd_azimuth_360\": 21.731942490166322, \"segment_direction\": \"north-south\"}, {\"fwd_azimuth_360\": 265.6821725116464, \"segment_direction\": \"east-west\"}, {\"fwd_azimuth_360\": 226.46333657709175, \"segment_direction\": \"east-west\"}, {\"fwd_azimuth_360\": 89.2589731412811, \"segment_direction\": \"east-west\"}, {\"fwd_azimuth_360\": 155.64320576078194, \"segment_direction\": \"north-south\"}, {\"fwd_azimuth_360\": 224.13923009240435, \"segment_direction\": \"east-west\"}, {\"fwd_azimuth_360\": 27.405291622209756, \"segment_direction\": \"north-south\"}, {\"fwd_azimuth_360\": 180.17955464687898, \"segment_direction\": \"north-south\"}, {\"fwd_azimuth_360\": 115.90833412440492, \"segment_direction\": \"inconclusive\"}, {\"fwd_azimuth_360\": 359.92436098295707, \"segment_direction\": \"north-south\"}, {\"fwd_azimuth_360\": 75.36219027675247, \"segment_direction\": \"east-west\"}, {\"fwd_azimuth_360\": 14.994043243558755, \"segment_direction\": \"north-south\"}, {\"fwd_azimuth_360\": 89.85163700070966, \"segment_direction\": \"east-west\"}, {\"fwd_azimuth_360\": 125.16465375771529, \"segment_direction\": \"inconclusive\"}, {\"fwd_azimuth_360\": 312.51674077533374, \"segment_direction\": \"east-west\"}, {\"fwd_azimuth_360\": 359.4679753682871, \"segment_direction\": \"north-south\"}, {\"fwd_azimuth_360\": 320.2479797599684, \"segment_direction\": \"north-south\"}, {\"fwd_azimuth_360\": 204.88402528167973, \"segment_direction\": \"north-south\"}, {\"fwd_azimuth_360\": 51.7276172669564, \"segment_direction\": \"east-west\"}, {\"fwd_azimuth_360\": 75.84136441988326, \"segment_direction\": \"east-west\"}, {\"fwd_azimuth_360\": 123.08071201994403, \"segment_direction\": \"east-west\"}, {\"fwd_azimuth_360\": 20.457076739188395, \"segment_direction\": \"north-south\"}, {\"fwd_azimuth_360\": 359.853305346717, \"segment_direction\": \"north-south\"}, {\"fwd_azimuth_360\": 315.2171019610809, \"segment_direction\": \"east-west\"}, {\"fwd_azimuth_360\": 293.89613623592334, \"segment_direction\": \"inconclusive\"}, {\"fwd_azimuth_360\": 260.93349880479707, \"segment_direction\": \"east-west\"}, {\"fwd_azimuth_360\": 89.8014238498478, \"segment_direction\": \"east-west\"}, {\"fwd_azimuth_360\": 271.92951201619894, \"segment_direction\": \"east-west\"}, {\"fwd_azimuth_360\": 283.5771202494084, \"segment_direction\": \"east-west\"}, {\"fwd_azimuth_360\": 162.82256266537567, \"segment_direction\": \"north-south\"}, {\"fwd_azimuth_360\": 298.5656335837334, \"segment_direction\": \"east-west\"}, {\"fwd_azimuth_360\": 151.98878948718723, \"segment_direction\": \"north-south\"}, {\"fwd_azimuth_360\": 27.379360951339518, \"segment_direction\": \"north-south\"}, {\"fwd_azimuth_360\": 6.851573130806698, \"segment_direction\": \"north-south\"}, {\"fwd_azimuth_360\": 337.5316639700382, \"segment_direction\": \"north-south\"}, {\"fwd_azimuth_360\": 356.2971672458371, \"segment_direction\": \"north-south\"}, {\"fwd_azimuth_360\": 353.7638600609794, \"segment_direction\": \"north-south\"}, {\"fwd_azimuth_360\": 145.0795169797313, \"segment_direction\": \"north-south\"}, {\"fwd_azimuth_360\": 241.96036933044346, \"segment_direction\": \"inconclusive\"}, {\"fwd_azimuth_360\": 193.8257543373196, \"segment_direction\": \"north-south\"}, {\"fwd_azimuth_360\": 179.932422515309, \"segment_direction\": \"north-south\"}, {\"fwd_azimuth_360\": 318.04338849785853, \"segment_direction\": \"north-south\"}, {\"fwd_azimuth_360\": 325.38111173245784, \"segment_direction\": \"north-south\"}, {\"fwd_azimuth_360\": 178.70094347427596, \"segment_direction\": \"north-south\"}, {\"fwd_azimuth_360\": 350.0070617359876, \"segment_direction\": \"north-south\"}, {\"fwd_azimuth_360\": 120.03053286612504, \"segment_direction\": \"east-west\"}, {\"fwd_azimuth_360\": 158.432848383984, \"segment_direction\": \"north-south\"}, {\"fwd_azimuth_360\": 195.45129282721277, \"segment_direction\": \"inconclusive\"}, {\"fwd_azimuth_360\": 296.9447838083986, \"segment_direction\": \"inconclusive\"}, {\"fwd_azimuth_360\": 28.99734808443246, \"segment_direction\": \"north-south\"}, {\"fwd_azimuth_360\": 153.61600462425736, \"segment_direction\": \"north-south\"}, {\"fwd_azimuth_360\": 89.92558736447195, \"segment_direction\": \"east-west\"}, {\"fwd_azimuth_360\": 90.29462863953128, \"segment_direction\": \"east-west\"}, {\"fwd_azimuth_360\": 359.6206332523359, \"segment_direction\": \"north-south\"}, {\"fwd_azimuth_360\": 43.60855753063537, \"segment_direction\": \"north-south\"}, {\"fwd_azimuth_360\": 298.64215209171084, \"segment_direction\": \"east-west\"}, {\"fwd_azimuth_360\": 10.548242482033032, \"segment_direction\": \"north-south\"}, {\"fwd_azimuth_360\": 358.6833457274186, \"segment_direction\": \"north-south\"}, {\"fwd_azimuth_360\": 88.21883637490818, \"segment_direction\": \"east-west\"}, {\"fwd_azimuth_360\": 21.108548011689788, \"segment_direction\": \"north-south\"}, {\"fwd_azimuth_360\": 149.8419510311298, \"segment_direction\": \"north-south\"}, {\"fwd_azimuth_360\": 111.74234673350401, \"segment_direction\": \"east-west\"}, {\"fwd_azimuth_360\": 91.46497412542126, \"segment_direction\": \"east-west\"}, {\"fwd_azimuth_360\": 91.28900891066753, \"segment_direction\": \"east-west\"}, {\"fwd_azimuth_360\": 355.77399486009284, \"segment_direction\": \"north-south\"}, {\"fwd_azimuth_360\": 98.63912750120929, \"segment_direction\": \"east-west\"}, {\"fwd_azimuth_360\": 276.78592910226087, \"segment_direction\": \"east-west\"}, {\"fwd_azimuth_360\": 353.60268258609574, \"segment_direction\": \"north-south\"}, {\"fwd_azimuth_360\": 95.73148115934833, \"segment_direction\": \"east-west\"}, {\"fwd_azimuth_360\": 309.61011507188647, \"segment_direction\": \"east-west\"}, {\"fwd_azimuth_360\": 191.39611263667211, \"segment_direction\": \"north-south\"}, {\"fwd_azimuth_360\": 96.84466779901442, \"segment_direction\": \"east-west\"}, {\"fwd_azimuth_360\": 95.86583568924003, \"segment_direction\": \"east-west\"}, {\"fwd_azimuth_360\": 40.63753836131876, \"segment_direction\": \"north-south\"}, {\"fwd_azimuth_360\": 242.31565716804795, \"segment_direction\": \"east-west\"}, {\"fwd_azimuth_360\": 172.13812114852195, \"segment_direction\": \"north-south\"}, {\"fwd_azimuth_360\": 242.73073007319937, \"segment_direction\": \"east-west\"}, {\"fwd_azimuth_360\": 83.68717463694611, \"segment_direction\": \"east-west\"}, {\"fwd_azimuth_360\": 359.5329725632362, \"segment_direction\": \"north-south\"}, {\"fwd_azimuth_360\": 270.019006095482, \"segment_direction\": \"east-west\"}, {\"fwd_azimuth_360\": 19.340118642478252, \"segment_direction\": \"north-south\"}, {\"fwd_azimuth_360\": 2.955686585978669, \"segment_direction\": \"north-south\"}, {\"fwd_azimuth_360\": 185.84609521315645, \"segment_direction\": \"north-south\"}, {\"fwd_azimuth_360\": 58.693527072952705, \"segment_direction\": \"east-west\"}, {\"fwd_azimuth_360\": 281.1870453751027, \"segment_direction\": \"east-west\"}, {\"fwd_azimuth_360\": 271.6013529617655, \"segment_direction\": \"east-west\"}, {\"fwd_azimuth_360\": 90.22429459133792, \"segment_direction\": \"east-west\"}, {\"fwd_azimuth_360\": 358.967296507104, \"segment_direction\": \"north-south\"}, {\"fwd_azimuth_360\": 127.75446414628797, \"segment_direction\": \"east-west\"}, {\"fwd_azimuth_360\": 294.21941619577564, \"segment_direction\": \"east-west\"}, {\"fwd_azimuth_360\": 90.22476078464476, \"segment_direction\": \"east-west\"}, {\"fwd_azimuth_360\": 79.8761889081238, \"segment_direction\": \"east-west\"}, {\"fwd_azimuth_360\": 116.96140335331363, \"segment_direction\": \"east-west\"}, {\"fwd_azimuth_360\": 144.09427851599224, \"segment_direction\": \"north-south\"}, {\"fwd_azimuth_360\": 176.51550720530645, \"segment_direction\": \"north-south\"}, {\"fwd_azimuth_360\": 187.09900064090778, \"segment_direction\": \"north-south\"}, {\"fwd_azimuth_360\": 179.92582341718037, \"segment_direction\": \"north-south\"}, {\"fwd_azimuth_360\": 260.92942973002744, \"segment_direction\": \"east-west\"}, {\"fwd_azimuth_360\": 195.91928092109453, \"segment_direction\": \"north-south\"}, {\"fwd_azimuth_360\": 54.53786605706585, \"segment_direction\": \"east-west\"}, {\"fwd_azimuth_360\": 31.386448333772677, \"segment_direction\": \"north-south\"}, {\"fwd_azimuth_360\": 355.77399486009284, \"segment_direction\": \"north-south\"}, {\"fwd_azimuth_360\": 0.23915277884481922, \"segment_direction\": \"north-south\"}, {\"fwd_azimuth_360\": 165.63437390887924, \"segment_direction\": \"north-south\"}, {\"fwd_azimuth_360\": 11.42945743374096, \"segment_direction\": \"north-south\"}, {\"fwd_azimuth_360\": 88.93157640291206, \"segment_direction\": \"east-west\"}, {\"fwd_azimuth_360\": 54.69298995270671, \"segment_direction\": \"east-west\"}, {\"fwd_azimuth_360\": 90.1110164785964, \"segment_direction\": \"east-west\"}, {\"fwd_azimuth_360\": 247.89042913807202, \"segment_direction\": \"east-west\"}, {\"fwd_azimuth_360\": 114.19857087871299, \"segment_direction\": \"east-west\"}, {\"fwd_azimuth_360\": 191.3794523114856, \"segment_direction\": \"north-south\"}, {\"fwd_azimuth_360\": 156.53413719108528, \"segment_direction\": \"north-south\"}, {\"fwd_azimuth_360\": 274.9329751393896, \"segment_direction\": \"east-west\"}, {\"fwd_azimuth_360\": 269.9978515004515, \"segment_direction\": \"east-west\"}, {\"fwd_azimuth_360\": 188.72092819112368, \"segment_direction\": \"inconclusive\"}, {\"fwd_azimuth_360\": 114.62284034220467, \"segment_direction\": \"east-west\"}, {\"fwd_azimuth_360\": 144.45766705242275, \"segment_direction\": \"north-south\"}, {\"fwd_azimuth_360\": 194.1985652037462, \"segment_direction\": \"north-south\"}, {\"fwd_azimuth_360\": 90.40385269015012, \"segment_direction\": \"east-west\"}, {\"fwd_azimuth_360\": 179.78354478944505, \"segment_direction\": \"north-south\"}, {\"fwd_azimuth_360\": 42.123505531648426, \"segment_direction\": \"north-south\"}, {\"fwd_azimuth_360\": 236.7032218251988, \"segment_direction\": \"east-west\"}, {\"fwd_azimuth_360\": 89.80188349295867, \"segment_direction\": \"east-west\"}, {\"fwd_azimuth_360\": 148.03986171105402, \"segment_direction\": \"north-south\"}, {\"fwd_azimuth_360\": 198.02072921874102, \"segment_direction\": \"north-south\"}, {\"fwd_azimuth_360\": 165.61783153663524, \"segment_direction\": \"north-south\"}, {\"fwd_azimuth_360\": 259.3898962192845, \"segment_direction\": \"east-west\"}, {\"fwd_azimuth_360\": 270.4728983525354, \"segment_direction\": \"east-west\"}, {\"fwd_azimuth_360\": 286.1828793891179, \"segment_direction\": \"east-west\"}, {\"fwd_azimuth_360\": 81.67171310790637, \"segment_direction\": \"east-west\"}, {\"fwd_azimuth_360\": 145.99674157582314, \"segment_direction\": \"north-south\"}, {\"fwd_azimuth_360\": 269.8308965760808, \"segment_direction\": \"east-west\"}, {\"fwd_azimuth_360\": 90.36693739992484, \"segment_direction\": \"east-west\"}, {\"fwd_azimuth_360\": 350.8937897721222, \"segment_direction\": \"north-south\"}, {\"fwd_azimuth_360\": 306.5802966962427, \"segment_direction\": \"east-west\"}, {\"fwd_azimuth_360\": 89.42469110643238, \"segment_direction\": \"east-west\"}, {\"fwd_azimuth_360\": 297.2595955559035, \"segment_direction\": \"east-west\"}, {\"fwd_azimuth_360\": 222.6050836869511, \"segment_direction\": \"north-south\"}, {\"fwd_azimuth_360\": 61.446739841431075, \"segment_direction\": \"east-west\"}, {\"fwd_azimuth_360\": 84.32565190097966, \"segment_direction\": \"east-west\"}, {\"fwd_azimuth_360\": 209.05619646419686, \"segment_direction\": \"north-south\"}, {\"fwd_azimuth_360\": 90.15380095256648, \"segment_direction\": \"east-west\"}, {\"fwd_azimuth_360\": 205.9491893168482, \"segment_direction\": \"north-south\"}, {\"fwd_azimuth_360\": 64.63865833549428, \"segment_direction\": \"east-west\"}, {\"fwd_azimuth_360\": 71.80634227450007, \"segment_direction\": \"east-west\"}, {\"fwd_azimuth_360\": 17.502944245754644, \"segment_direction\": \"north-south\"}, {\"fwd_azimuth_360\": 270.4687039216138, \"segment_direction\": \"east-west\"}, {\"fwd_azimuth_360\": 42.20889586144554, \"segment_direction\": \"north-south\"}, {\"fwd_azimuth_360\": 86.89014575138978, \"segment_direction\": \"east-west\"}, {\"fwd_azimuth_360\": 359.85917138210544, \"segment_direction\": \"north-south\"}, {\"fwd_azimuth_360\": 90.23746504886248, \"segment_direction\": \"east-west\"}, {\"fwd_azimuth_360\": 320.7799420000218, \"segment_direction\": \"north-south\"}, {\"fwd_azimuth_360\": 298.07318947334267, \"segment_direction\": \"east-west\"}, {\"fwd_azimuth_360\": 299.16624021980215, \"segment_direction\": \"east-west\"}, {\"fwd_azimuth_360\": 282.09096053896985, \"segment_direction\": \"east-west\"}, {\"fwd_azimuth_360\": 333.93111828118754, \"segment_direction\": \"north-south\"}, {\"fwd_azimuth_360\": 170.84925284731324, \"segment_direction\": \"north-south\"}, {\"fwd_azimuth_360\": 216.66665073014386, \"segment_direction\": \"north-south\"}, {\"fwd_azimuth_360\": 11.698547294502406, \"segment_direction\": \"north-south\"}, {\"fwd_azimuth_360\": 262.5187596449152, \"segment_direction\": \"east-west\"}, {\"fwd_azimuth_360\": 123.17763018411881, \"segment_direction\": \"east-west\"}, {\"fwd_azimuth_360\": 79.95039001871231, \"segment_direction\": \"east-west\"}, {\"fwd_azimuth_360\": 5.281950540031193, \"segment_direction\": \"north-south\"}, {\"fwd_azimuth_360\": 280.08715300559476, \"segment_direction\": \"east-west\"}, {\"fwd_azimuth_360\": 182.3584870728621, \"segment_direction\": \"north-south\"}, {\"fwd_azimuth_360\": 189.23096960463937, \"segment_direction\": \"inconclusive\"}, {\"fwd_azimuth_360\": 87.34852471051751, \"segment_direction\": \"east-west\"}, {\"fwd_azimuth_360\": 18.459515178352582, \"segment_direction\": \"inconclusive\"}, {\"fwd_azimuth_360\": 180.4459228094476, \"segment_direction\": \"north-south\"}, {\"fwd_azimuth_360\": 296.8058940710118, \"segment_direction\": \"east-west\"}, {\"fwd_azimuth_360\": 89.12163569271304, \"segment_direction\": \"east-west\"}, {\"fwd_azimuth_360\": 171.1788675966568, \"segment_direction\": \"north-south\"}, {\"fwd_azimuth_360\": 89.90245055948228, \"segment_direction\": \"east-west\"}, {\"fwd_azimuth_360\": 270.13026076992065, \"segment_direction\": \"east-west\"}, {\"fwd_azimuth_360\": 270.03042601585156, \"segment_direction\": \"east-west\"}, {\"fwd_azimuth_360\": 359.38280332336603, \"segment_direction\": \"north-south\"}, {\"fwd_azimuth_360\": 137.0222925239965, \"segment_direction\": \"north-south\"}, {\"fwd_azimuth_360\": 89.99625217485445, \"segment_direction\": \"east-west\"}, {\"fwd_azimuth_360\": 9.87187516311943, \"segment_direction\": \"north-south\"}, {\"fwd_azimuth_360\": 91.21694238525646, \"segment_direction\": \"east-west\"}, {\"fwd_azimuth_360\": 112.10283548362766, \"segment_direction\": \"east-west\"}, {\"fwd_azimuth_360\": 339.1568183351103, \"segment_direction\": \"north-south\"}, {\"fwd_azimuth_360\": 110.05308873438238, \"segment_direction\": \"east-west\"}, {\"fwd_azimuth_360\": 1.3437141268239945, \"segment_direction\": \"north-south\"}, {\"fwd_azimuth_360\": 255.43579078029808, \"segment_direction\": \"east-west\"}, {\"fwd_azimuth_360\": 227.94894015381414, \"segment_direction\": \"east-west\"}, {\"fwd_azimuth_360\": 180.2755807070789, \"segment_direction\": \"north-south\"}, {\"fwd_azimuth_360\": 1.289478153512297, \"segment_direction\": \"north-south\"}, {\"fwd_azimuth_360\": 135.76354512109089, \"segment_direction\": \"east-west\"}, {\"fwd_azimuth_360\": 164.49377950265523, \"segment_direction\": \"north-south\"}, {\"fwd_azimuth_360\": 31.135930018857703, \"segment_direction\": \"north-south\"}, {\"fwd_azimuth_360\": 356.1304508046362, \"segment_direction\": \"north-south\"}, {\"fwd_azimuth_360\": 49.37088803470998, \"segment_direction\": \"east-west\"}, {\"fwd_azimuth_360\": 87.33123992433127, \"segment_direction\": \"east-west\"}, {\"fwd_azimuth_360\": 256.6681965731383, \"segment_direction\": \"east-west\"}, {\"fwd_azimuth_360\": 180.88477350627576, \"segment_direction\": \"north-south\"}, {\"fwd_azimuth_360\": 347.30874672870647, \"segment_direction\": \"north-south\"}, {\"fwd_azimuth_360\": 224.95767632080918, \"segment_direction\": \"inconclusive\"}, {\"fwd_azimuth_360\": 88.88772172534182, \"segment_direction\": \"east-west\"}, {\"fwd_azimuth_360\": 341.847365262863, \"segment_direction\": \"north-south\"}, {\"fwd_azimuth_360\": 323.1131810640144, \"segment_direction\": \"north-south\"}, {\"fwd_azimuth_360\": 149.2131458608949, \"segment_direction\": \"north-south\"}, {\"fwd_azimuth_360\": 121.84015998290744, \"segment_direction\": \"east-west\"}, {\"fwd_azimuth_360\": 89.8288841583447, \"segment_direction\": \"east-west\"}, {\"fwd_azimuth_360\": 37.667760246761674, \"segment_direction\": \"north-south\"}, {\"fwd_azimuth_360\": 49.41600778257948, \"segment_direction\": \"east-west\"}, {\"fwd_azimuth_360\": 269.8752331301656, \"segment_direction\": \"east-west\"}, {\"fwd_azimuth_360\": 42.2352917196415, \"segment_direction\": \"north-south\"}, {\"fwd_azimuth_360\": 109.2795571881441, \"segment_direction\": \"east-west\"}, {\"fwd_azimuth_360\": 101.27610488504813, \"segment_direction\": \"east-west\"}, {\"fwd_azimuth_360\": 90.02074238454861, \"segment_direction\": \"east-west\"}, {\"fwd_azimuth_360\": 89.56839896134298, \"segment_direction\": \"east-west\"}, {\"fwd_azimuth_360\": 259.981922145273, \"segment_direction\": \"east-west\"}, {\"fwd_azimuth_360\": 59.58579688146611, \"segment_direction\": \"east-west\"}, {\"fwd_azimuth_360\": 319.8703278054936, \"segment_direction\": \"north-south\"}, {\"fwd_azimuth_360\": 226.177588940494, \"segment_direction\": \"east-west\"}, {\"fwd_azimuth_360\": 38.94316719899305, \"segment_direction\": \"north-south\"}, {\"fwd_azimuth_360\": 108.98263615604284, \"segment_direction\": \"east-west\"}, {\"fwd_azimuth_360\": 317.0160299144902, \"segment_direction\": \"north-south\"}, {\"fwd_azimuth_360\": 21.585889969571515, \"segment_direction\": \"north-south\"}, {\"fwd_azimuth_360\": 358.89477210553423, \"segment_direction\": \"north-south\"}, {\"fwd_azimuth_360\": 303.84863409627565, \"segment_direction\": \"east-west\"}, {\"fwd_azimuth_360\": 166.93313276456539, \"segment_direction\": \"north-south\"}, {\"fwd_azimuth_360\": 154.78097498739527, \"segment_direction\": \"north-south\"}, {\"fwd_azimuth_360\": 180.02893582822796, \"segment_direction\": \"north-south\"}, {\"fwd_azimuth_360\": 70.6772753589901, \"segment_direction\": \"east-west\"}, {\"fwd_azimuth_360\": 159.70852794220013, \"segment_direction\": \"north-south\"}, {\"fwd_azimuth_360\": 111.10965881449496, \"segment_direction\": \"east-west\"}, {\"fwd_azimuth_360\": 118.0318091437805, \"segment_direction\": \"east-west\"}, {\"fwd_azimuth_360\": 331.4940998736975, \"segment_direction\": \"north-south\"}, {\"fwd_azimuth_360\": 359.7850905193292, \"segment_direction\": \"north-south\"}, {\"fwd_azimuth_360\": 183.9139532724691, \"segment_direction\": \"north-south\"}, {\"fwd_azimuth_360\": 339.3968459223198, \"segment_direction\": \"north-south\"}, {\"fwd_azimuth_360\": 167.93626920213893, \"segment_direction\": \"north-south\"}, {\"fwd_azimuth_360\": 276.0902168982822, \"segment_direction\": \"east-west\"}, {\"fwd_azimuth_360\": 156.38558633825846, \"segment_direction\": \"north-south\"}, {\"fwd_azimuth_360\": 269.43472283506435, \"segment_direction\": \"east-west\"}, {\"fwd_azimuth_360\": 270.4827852647139, \"segment_direction\": \"east-west\"}, {\"fwd_azimuth_360\": 270.0111251026923, \"segment_direction\": \"east-west\"}, {\"fwd_azimuth_360\": 106.16056452205832, \"segment_direction\": \"east-west\"}, {\"fwd_azimuth_360\": 278.60231082215057, \"segment_direction\": \"east-west\"}, {\"fwd_azimuth_360\": 297.7562143779745, \"segment_direction\": \"east-west\"}, {\"fwd_azimuth_360\": 259.6209180366433, \"segment_direction\": \"east-west\"}, {\"fwd_azimuth_360\": 143.0283258561825, \"segment_direction\": \"north-south\"}, {\"fwd_azimuth_360\": 356.3706256488071, \"segment_direction\": \"north-south\"}, {\"fwd_azimuth_360\": 340.16459865190365, \"segment_direction\": \"inconclusive\"}, {\"fwd_azimuth_360\": 185.5837904276637, \"segment_direction\": \"north-south\"}, {\"fwd_azimuth_360\": 124.67918484702847, \"segment_direction\": \"east-west\"}, {\"fwd_azimuth_360\": 56.13591383499515, \"segment_direction\": \"east-west\"}, {\"fwd_azimuth_360\": 351.4563060233593, \"segment_direction\": \"north-south\"}, {\"fwd_azimuth_360\": 25.20910925129802, \"segment_direction\": \"north-south\"}, {\"fwd_azimuth_360\": 180.50249144769586, \"segment_direction\": \"north-south\"}, {\"fwd_azimuth_360\": 77.58101190965942, \"segment_direction\": \"east-west\"}, {\"fwd_azimuth_360\": 0.2523629092765248, \"segment_direction\": \"north-south\"}, {\"fwd_azimuth_360\": 359.86594600000393, \"segment_direction\": \"north-south\"}, {\"fwd_azimuth_360\": 0.7734562225338684, \"segment_direction\": \"north-south\"}, {\"fwd_azimuth_360\": 358.8899115126255, \"segment_direction\": \"north-south\"}, {\"fwd_azimuth_360\": 107.0387104272109, \"segment_direction\": \"east-west\"}, {\"fwd_azimuth_360\": 86.2806724121242, \"segment_direction\": \"east-west\"}, {\"fwd_azimuth_360\": 60.3997424390491, \"segment_direction\": \"east-west\"}, {\"fwd_azimuth_360\": 99.33180089583105, \"segment_direction\": \"east-west\"}, {\"fwd_azimuth_360\": 183.87712366530295, \"segment_direction\": \"north-south\"}, {\"fwd_azimuth_360\": 357.7602654960992, \"segment_direction\": \"north-south\"}, {\"fwd_azimuth_360\": 269.0183545048382, \"segment_direction\": \"east-west\"}, {\"fwd_azimuth_360\": 213.23385301769252, \"segment_direction\": \"north-south\"}, {\"fwd_azimuth_360\": 90.01142424212962, \"segment_direction\": \"east-west\"}, {\"fwd_azimuth_360\": 64.51297339742985, \"segment_direction\": \"east-west\"}, {\"fwd_azimuth_360\": 242.61720176058418, \"segment_direction\": \"east-west\"}, {\"fwd_azimuth_360\": 286.84945579826547, \"segment_direction\": \"east-west\"}, {\"fwd_azimuth_360\": 5.23270618468776, \"segment_direction\": \"north-south\"}, {\"fwd_azimuth_360\": 12.84984785963242, \"segment_direction\": \"north-south\"}, {\"fwd_azimuth_360\": 72.46312843087838, \"segment_direction\": \"east-west\"}, {\"fwd_azimuth_360\": 49.09754993475667, \"segment_direction\": \"east-west\"}, {\"fwd_azimuth_360\": 346.6337218201692, \"segment_direction\": \"north-south\"}, {\"fwd_azimuth_360\": 107.36578436933476, \"segment_direction\": \"east-west\"}, {\"fwd_azimuth_360\": 183.70655911722335, \"segment_direction\": \"north-south\"}, {\"fwd_azimuth_360\": 88.72796420239997, \"segment_direction\": \"east-west\"}, {\"fwd_azimuth_360\": 89.73902462335265, \"segment_direction\": \"east-west\"}, {\"fwd_azimuth_360\": 90.5405500229946, \"segment_direction\": \"east-west\"}, {\"fwd_azimuth_360\": 44.483472557779336, \"segment_direction\": \"north-south\"}, {\"fwd_azimuth_360\": 315.73875412954897, \"segment_direction\": \"east-west\"}, {\"fwd_azimuth_360\": 156.69097913800746, \"segment_direction\": \"north-south\"}, {\"fwd_azimuth_360\": 101.52162876354424, \"segment_direction\": \"east-west\"}, {\"fwd_azimuth_360\": 82.03776214389875, \"segment_direction\": \"east-west\"}, {\"fwd_azimuth_360\": 115.54387653771316, \"segment_direction\": \"east-west\"}, {\"fwd_azimuth_360\": 285.4929644152895, \"segment_direction\": \"east-west\"}, {\"fwd_azimuth_360\": 316.4346317846447, \"segment_direction\": \"north-south\"}, {\"fwd_azimuth_360\": 88.62474631369827, \"segment_direction\": \"east-west\"}, {\"fwd_azimuth_360\": 89.5117758620815, \"segment_direction\": \"east-west\"}, {\"fwd_azimuth_360\": 91.22021785513734, \"segment_direction\": \"east-west\"}, {\"fwd_azimuth_360\": 85.41623760708426, \"segment_direction\": \"east-west\"}, {\"fwd_azimuth_360\": 170.10747338568626, \"segment_direction\": \"north-south\"}, {\"fwd_azimuth_360\": 134.49257224083064, \"segment_direction\": \"east-west\"}, {\"fwd_azimuth_360\": 89.68937165830522, \"segment_direction\": \"east-west\"}, {\"fwd_azimuth_360\": 270.53508415722376, \"segment_direction\": \"east-west\"}, {\"fwd_azimuth_360\": 0.21710838158407997, \"segment_direction\": \"north-south\"}, {\"fwd_azimuth_360\": 287.7947932475239, \"segment_direction\": \"east-west\"}, {\"fwd_azimuth_360\": 278.1356821900424, \"segment_direction\": \"east-west\"}, {\"fwd_azimuth_360\": 102.60240483750444, \"segment_direction\": \"east-west\"}, {\"fwd_azimuth_360\": 45.247491974380054, \"segment_direction\": \"north-south\"}, {\"fwd_azimuth_360\": 16.9357849806793, \"segment_direction\": \"north-south\"}, {\"fwd_azimuth_360\": 89.83474152308321, \"segment_direction\": \"east-west\"}, {\"fwd_azimuth_360\": 112.63206745029368, \"segment_direction\": \"east-west\"}, {\"fwd_azimuth_360\": 281.7957433026604, \"segment_direction\": \"east-west\"}, {\"fwd_azimuth_360\": 327.23935293633, \"segment_direction\": \"north-south\"}, {\"fwd_azimuth_360\": 272.3574101620819, \"segment_direction\": \"east-west\"}, {\"fwd_azimuth_360\": 101.58066482769486, \"segment_direction\": \"east-west\"}, {\"fwd_azimuth_360\": 76.6423090314755, \"segment_direction\": \"inconclusive\"}, {\"fwd_azimuth_360\": 20.747152283135115, \"segment_direction\": \"north-south\"}, {\"fwd_azimuth_360\": 125.74826092964955, \"segment_direction\": \"east-west\"}, {\"fwd_azimuth_360\": 184.1368271608393, \"segment_direction\": \"north-south\"}, {\"fwd_azimuth_360\": 165.643540667778, \"segment_direction\": \"north-south\"}, {\"fwd_azimuth_360\": 56.17549750978047, \"segment_direction\": \"east-west\"}, {\"fwd_azimuth_360\": 278.923081565694, \"segment_direction\": \"east-west\"}, {\"fwd_azimuth_360\": 120.12427275006632, \"segment_direction\": \"east-west\"}, {\"fwd_azimuth_360\": 270.28025144658153, \"segment_direction\": \"east-west\"}, {\"fwd_azimuth_360\": 109.68863964978007, \"segment_direction\": \"east-west\"}, {\"fwd_azimuth_360\": 359.80394848092766, \"segment_direction\": \"north-south\"}, {\"fwd_azimuth_360\": 358.13143543597846, \"segment_direction\": \"north-south\"}, {\"fwd_azimuth_360\": 108.54696758779804, \"segment_direction\": \"east-west\"}, {\"fwd_azimuth_360\": 134.1850340048779, \"segment_direction\": \"north-south\"}, {\"fwd_azimuth_360\": 90.43341034243069, \"segment_direction\": \"east-west\"}, {\"fwd_azimuth_360\": 179.18972658110562, \"segment_direction\": \"north-south\"}, {\"fwd_azimuth_360\": 290.37262266146183, \"segment_direction\": \"east-west\"}, {\"fwd_azimuth_360\": 359.776221106045, \"segment_direction\": \"north-south\"}, {\"fwd_azimuth_360\": 357.27991938518244, \"segment_direction\": \"north-south\"}, {\"fwd_azimuth_360\": 89.54767375752766, \"segment_direction\": \"east-west\"}, {\"fwd_azimuth_360\": 89.99575008483278, \"segment_direction\": \"east-west\"}, {\"fwd_azimuth_360\": 26.65892798098526, \"segment_direction\": \"north-south\"}, {\"fwd_azimuth_360\": 90.00645522839622, \"segment_direction\": \"east-west\"}, {\"fwd_azimuth_360\": 194.937729247099, \"segment_direction\": \"north-south\"}, {\"fwd_azimuth_360\": 89.90841204642304, \"segment_direction\": \"east-west\"}, {\"fwd_azimuth_360\": 330.69454614106326, \"segment_direction\": \"north-south\"}, {\"fwd_azimuth_360\": 101.38958204143384, \"segment_direction\": \"east-west\"}, {\"fwd_azimuth_360\": 80.78685649061546, \"segment_direction\": \"east-west\"}, {\"fwd_azimuth_360\": 241.90218024762106, \"segment_direction\": \"east-west\"}, {\"fwd_azimuth_360\": 85.96851601614999, \"segment_direction\": \"east-west\"}, {\"fwd_azimuth_360\": 269.9613758962563, \"segment_direction\": \"east-west\"}, {\"fwd_azimuth_360\": 82.90531155059166, \"segment_direction\": \"east-west\"}, {\"fwd_azimuth_360\": 31.188069083613993, \"segment_direction\": \"north-south\"}, {\"fwd_azimuth_360\": 263.69635362336334, \"segment_direction\": \"east-west\"}, {\"fwd_azimuth_360\": 158.23790473950916, \"segment_direction\": \"north-south\"}, {\"fwd_azimuth_360\": 127.14754637301698, \"segment_direction\": \"east-west\"}, {\"fwd_azimuth_360\": 182.06122644304062, \"segment_direction\": \"north-south\"}, {\"fwd_azimuth_360\": 122.73814337737971, \"segment_direction\": \"east-west\"}, {\"fwd_azimuth_360\": 24.409017593402044, \"segment_direction\": \"north-south\"}, {\"fwd_azimuth_360\": 180.0004739157105, \"segment_direction\": \"north-south\"}, {\"fwd_azimuth_360\": 21.685586116608416, \"segment_direction\": \"north-south\"}, {\"fwd_azimuth_360\": 93.23157797866699, \"segment_direction\": \"east-west\"}, {\"fwd_azimuth_360\": 180.0458579897843, \"segment_direction\": \"north-south\"}, {\"fwd_azimuth_360\": 98.76818494905945, \"segment_direction\": \"east-west\"}, {\"fwd_azimuth_360\": 334.8572136798616, \"segment_direction\": \"north-south\"}, {\"fwd_azimuth_360\": 176.8156399650381, \"segment_direction\": \"north-south\"}, {\"fwd_azimuth_360\": 125.47532869121359, \"segment_direction\": \"east-west\"}, {\"fwd_azimuth_360\": 255.33100917905963, \"segment_direction\": \"inconclusive\"}, {\"fwd_azimuth_360\": 359.47539566476496, \"segment_direction\": \"north-south\"}, {\"fwd_azimuth_360\": 257.90162331958584, \"segment_direction\": \"east-west\"}, {\"fwd_azimuth_360\": 104.24553221186729, \"segment_direction\": \"east-west\"}, {\"fwd_azimuth_360\": 70.32453107376992, \"segment_direction\": \"inconclusive\"}, {\"fwd_azimuth_360\": 133.38606612579326, \"segment_direction\": \"east-west\"}, {\"fwd_azimuth_360\": 58.005252382598414, \"segment_direction\": \"east-west\"}, {\"fwd_azimuth_360\": 155.9309988477549, \"segment_direction\": \"north-south\"}, {\"fwd_azimuth_360\": 309.8070922280286, \"segment_direction\": \"east-west\"}, {\"fwd_azimuth_360\": 80.26311297830861, \"segment_direction\": \"east-west\"}, {\"fwd_azimuth_360\": 359.56361389820876, \"segment_direction\": \"north-south\"}, {\"fwd_azimuth_360\": 89.63989201765663, \"segment_direction\": \"east-west\"}, {\"fwd_azimuth_360\": 350.8873600022281, \"segment_direction\": \"north-south\"}, {\"fwd_azimuth_360\": 359.8917387840804, \"segment_direction\": \"north-south\"}, {\"fwd_azimuth_360\": 57.780389123142754, \"segment_direction\": \"east-west\"}, {\"fwd_azimuth_360\": 174.4061563013277, \"segment_direction\": \"north-south\"}, {\"fwd_azimuth_360\": 301.9238414521559, \"segment_direction\": \"east-west\"}, {\"fwd_azimuth_360\": 164.16103127258688, \"segment_direction\": \"north-south\"}, {\"fwd_azimuth_360\": 359.98434551938124, \"segment_direction\": \"north-south\"}, {\"fwd_azimuth_360\": 77.05913812087798, \"segment_direction\": \"east-west\"}, {\"fwd_azimuth_360\": 278.24119351799743, \"segment_direction\": \"east-west\"}, {\"fwd_azimuth_360\": 271.3249641862504, \"segment_direction\": \"east-west\"}, {\"fwd_azimuth_360\": 90.10295984342133, \"segment_direction\": \"east-west\"}, {\"fwd_azimuth_360\": 326.0933214992839, \"segment_direction\": \"north-south\"}, {\"fwd_azimuth_360\": 89.21109308328207, \"segment_direction\": \"east-west\"}, {\"fwd_azimuth_360\": 320.63811105548444, \"segment_direction\": \"north-south\"}, {\"fwd_azimuth_360\": 89.58938206581246, \"segment_direction\": \"east-west\"}, {\"fwd_azimuth_360\": 89.4355686955813, \"segment_direction\": \"east-west\"}, {\"fwd_azimuth_360\": 46.37898392968248, \"segment_direction\": \"east-west\"}, {\"fwd_azimuth_360\": 14.54012427531892, \"segment_direction\": \"inconclusive\"}, {\"fwd_azimuth_360\": 219.90546817787288, \"segment_direction\": \"north-south\"}, {\"fwd_azimuth_360\": 123.65353900411345, \"segment_direction\": \"east-west\"}, {\"fwd_azimuth_360\": 340.478478990002, \"segment_direction\": \"north-south\"}, {\"fwd_azimuth_360\": 350.71624184931255, \"segment_direction\": \"north-south\"}, {\"fwd_azimuth_360\": 99.1240367874978, \"segment_direction\": \"east-west\"}, {\"fwd_azimuth_360\": 0.7585618075072365, \"segment_direction\": \"north-south\"}, {\"fwd_azimuth_360\": 73.91664867657653, \"segment_direction\": \"east-west\"}, {\"fwd_azimuth_360\": 182.38122878681102, \"segment_direction\": \"north-south\"}, {\"fwd_azimuth_360\": 325.7589738983993, \"segment_direction\": \"north-south\"}, {\"fwd_azimuth_360\": 89.50347256324883, \"segment_direction\": \"east-west\"}, {\"fwd_azimuth_360\": 177.02802349445258, \"segment_direction\": \"north-south\"}, {\"fwd_azimuth_360\": 284.26907494196536, \"segment_direction\": \"east-west\"}, {\"fwd_azimuth_360\": 345.3802466935862, \"segment_direction\": \"north-south\"}, {\"fwd_azimuth_360\": 138.53067259369683, \"segment_direction\": \"north-south\"}, {\"fwd_azimuth_360\": 180.0090726769853, \"segment_direction\": \"north-south\"}, {\"fwd_azimuth_360\": 337.57144077338495, \"segment_direction\": \"north-south\"}, {\"fwd_azimuth_360\": 358.62076157153416, \"segment_direction\": \"north-south\"}, {\"fwd_azimuth_360\": 36.99952422947265, \"segment_direction\": \"north-south\"}, {\"fwd_azimuth_360\": 359.9522459327476, \"segment_direction\": \"north-south\"}, {\"fwd_azimuth_360\": 306.92690485723693, \"segment_direction\": \"east-west\"}, {\"fwd_azimuth_360\": 62.248552568148604, \"segment_direction\": \"east-west\"}, {\"fwd_azimuth_360\": 359.7044415027814, \"segment_direction\": \"north-south\"}, {\"fwd_azimuth_360\": 325.46009184136966, \"segment_direction\": \"north-south\"}, {\"fwd_azimuth_360\": 4.658271639523781, \"segment_direction\": \"north-south\"}, {\"fwd_azimuth_360\": 165.5056117533431, \"segment_direction\": \"north-south\"}, {\"fwd_azimuth_360\": 341.74667356994195, \"segment_direction\": \"north-south\"}, {\"fwd_azimuth_360\": 239.063401623488, \"segment_direction\": \"east-west\"}, {\"fwd_azimuth_360\": 359.4436606379641, \"segment_direction\": \"north-south\"}, {\"fwd_azimuth_360\": 284.625730747336, \"segment_direction\": \"east-west\"}, {\"fwd_azimuth_360\": 129.19909332074351, \"segment_direction\": \"east-west\"}, {\"fwd_azimuth_360\": 260.90184202923376, \"segment_direction\": \"east-west\"}, {\"fwd_azimuth_360\": 235.68045349186497, \"segment_direction\": \"east-west\"}, {\"fwd_azimuth_360\": 150.4149960090833, \"segment_direction\": \"north-south\"}, {\"fwd_azimuth_360\": 176.39093647824603, \"segment_direction\": \"north-south\"}, {\"fwd_azimuth_360\": 271.62875079350806, \"segment_direction\": \"east-west\"}, {\"fwd_azimuth_360\": 63.52682100179892, \"segment_direction\": \"east-west\"}, {\"fwd_azimuth_360\": 25.740203596669204, \"segment_direction\": \"north-south\"}, {\"fwd_azimuth_360\": 173.67487611752804, \"segment_direction\": \"north-south\"}, {\"fwd_azimuth_360\": 183.5058204664813, \"segment_direction\": \"north-south\"}, {\"fwd_azimuth_360\": 353.4946003556128, \"segment_direction\": \"north-south\"}, {\"fwd_azimuth_360\": 92.0888657053793, \"segment_direction\": \"east-west\"}, {\"fwd_azimuth_360\": 270.0111251026923, \"segment_direction\": \"east-west\"}, {\"fwd_azimuth_360\": 270.6797484952897, \"segment_direction\": \"east-west\"}, {\"fwd_azimuth_360\": 81.6984588121206, \"segment_direction\": \"east-west\"}, {\"fwd_azimuth_360\": 214.4384849076184, \"segment_direction\": \"north-south\"}, {\"fwd_azimuth_360\": 128.76106138570339, \"segment_direction\": \"east-west\"}, {\"fwd_azimuth_360\": 35.2843923287894, \"segment_direction\": \"north-south\"}, {\"fwd_azimuth_360\": 173.8546668844282, \"segment_direction\": \"north-south\"}, {\"fwd_azimuth_360\": 32.607090996933785, \"segment_direction\": \"north-south\"}, {\"fwd_azimuth_360\": 165.7797903103248, \"segment_direction\": \"north-south\"}, {\"fwd_azimuth_360\": 266.8230015545842, \"segment_direction\": \"east-west\"}, {\"fwd_azimuth_360\": 161.83869678433905, \"segment_direction\": \"north-south\"}, {\"fwd_azimuth_360\": 180.00549479964587, \"segment_direction\": \"north-south\"}, {\"fwd_azimuth_360\": 110.65276107698566, \"segment_direction\": \"east-west\"}, {\"fwd_azimuth_360\": 254.55747893700803, \"segment_direction\": \"east-west\"}, {\"fwd_azimuth_360\": 10.71789642936082, \"segment_direction\": \"north-south\"}, {\"fwd_azimuth_360\": 327.07503129084716, \"segment_direction\": \"north-south\"}, {\"fwd_azimuth_360\": 333.36460526096755, \"segment_direction\": \"north-south\"}, {\"fwd_azimuth_360\": 276.9903552161429, \"segment_direction\": \"east-west\"}, {\"fwd_azimuth_360\": 89.57749775753551, \"segment_direction\": \"east-west\"}, {\"fwd_azimuth_360\": 57.599326294677944, \"segment_direction\": \"east-west\"}, {\"fwd_azimuth_360\": 106.32996341968294, \"segment_direction\": \"east-west\"}, {\"fwd_azimuth_360\": 6.588655258682092, \"segment_direction\": \"north-south\"}, {\"fwd_azimuth_360\": 357.95123648544325, \"segment_direction\": \"north-south\"}, {\"fwd_azimuth_360\": 90.0080922338697, \"segment_direction\": \"east-west\"}, {\"fwd_azimuth_360\": 3.181301631952364, \"segment_direction\": \"north-south\"}, {\"fwd_azimuth_360\": 64.59422842677097, \"segment_direction\": \"east-west\"}, {\"fwd_azimuth_360\": 71.70940200142067, \"segment_direction\": \"east-west\"}, {\"fwd_azimuth_360\": 176.37417266981913, \"segment_direction\": \"north-south\"}, {\"fwd_azimuth_360\": 89.74183017343535, \"segment_direction\": \"east-west\"}, {\"fwd_azimuth_360\": 10.92805556407624, \"segment_direction\": \"north-south\"}, {\"fwd_azimuth_360\": 87.91416567991752, \"segment_direction\": \"east-west\"}, {\"fwd_azimuth_360\": 121.31523723020283, \"segment_direction\": \"east-west\"}, {\"fwd_azimuth_360\": 100.85331371982949, \"segment_direction\": \"inconclusive\"}, {\"fwd_azimuth_360\": 151.75725929978464, \"segment_direction\": \"north-south\"}, {\"fwd_azimuth_360\": 135.54232223554845, \"segment_direction\": \"east-west\"}, {\"fwd_azimuth_360\": 179.9099188052175, \"segment_direction\": \"north-south\"}, {\"fwd_azimuth_360\": 89.92521868379629, \"segment_direction\": \"east-west\"}, {\"fwd_azimuth_360\": 341.982769869786, \"segment_direction\": \"north-south\"}, {\"fwd_azimuth_360\": 0.74458778385903, \"segment_direction\": \"north-south\"}, {\"fwd_azimuth_360\": 222.33819997806427, \"segment_direction\": \"north-south\"}, {\"fwd_azimuth_360\": 89.52145848849224, \"segment_direction\": \"east-west\"}, {\"fwd_azimuth_360\": 89.70356936274368, \"segment_direction\": \"east-west\"}, {\"fwd_azimuth_360\": 45.39207124580234, \"segment_direction\": \"east-west\"}, {\"fwd_azimuth_360\": 77.69862054535348, \"segment_direction\": \"east-west\"}, {\"fwd_azimuth_360\": 354.88142217421455, \"segment_direction\": \"north-south\"}, {\"fwd_azimuth_360\": 156.20546455607263, \"segment_direction\": \"north-south\"}, {\"fwd_azimuth_360\": 12.613141817643838, \"segment_direction\": \"north-south\"}, {\"fwd_azimuth_360\": 89.88538390947544, \"segment_direction\": \"east-west\"}, {\"fwd_azimuth_360\": 89.66005357535869, \"segment_direction\": \"east-west\"}, {\"fwd_azimuth_360\": 243.9949092203974, \"segment_direction\": \"east-west\"}, {\"fwd_azimuth_360\": 89.74116702429907, \"segment_direction\": \"east-west\"}, {\"fwd_azimuth_360\": 344.13653864906166, \"segment_direction\": \"north-south\"}, {\"fwd_azimuth_360\": 155.84600435860486, \"segment_direction\": \"north-south\"}, {\"fwd_azimuth_360\": 322.1752753212109, \"segment_direction\": \"north-south\"}, {\"fwd_azimuth_360\": 269.50780848633275, \"segment_direction\": \"east-west\"}, {\"fwd_azimuth_360\": 100.10483925210445, \"segment_direction\": \"east-west\"}, {\"fwd_azimuth_360\": 48.48988993910886, \"segment_direction\": \"east-west\"}, {\"fwd_azimuth_360\": 152.76489650268306, \"segment_direction\": \"north-south\"}, {\"fwd_azimuth_360\": 58.20577832465332, \"segment_direction\": \"east-west\"}, {\"fwd_azimuth_360\": 47.19857174217618, \"segment_direction\": \"east-west\"}, {\"fwd_azimuth_360\": 5.504252776848545, \"segment_direction\": \"north-south\"}, {\"fwd_azimuth_360\": 185.06389902951076, \"segment_direction\": \"north-south\"}, {\"fwd_azimuth_360\": 179.6193745887496, \"segment_direction\": \"north-south\"}, {\"fwd_azimuth_360\": 188.4632029608128, \"segment_direction\": \"north-south\"}, {\"fwd_azimuth_360\": 93.70775061690001, \"segment_direction\": \"east-west\"}, {\"fwd_azimuth_360\": 179.83676862549012, \"segment_direction\": \"north-south\"}, {\"fwd_azimuth_360\": 179.67261076935898, \"segment_direction\": \"north-south\"}, {\"fwd_azimuth_360\": 165.39511321270413, \"segment_direction\": \"north-south\"}, {\"fwd_azimuth_360\": 90.06258816489834, \"segment_direction\": \"east-west\"}, {\"fwd_azimuth_360\": 80.09616544107638, \"segment_direction\": \"east-west\"}, {\"fwd_azimuth_360\": 107.34804846202769, \"segment_direction\": \"east-west\"}, {\"fwd_azimuth_360\": 66.37551118522734, \"segment_direction\": \"east-west\"}, {\"fwd_azimuth_360\": 241.89096060007125, \"segment_direction\": \"east-west\"}, {\"fwd_azimuth_360\": 351.2180366648241, \"segment_direction\": \"north-south\"}, {\"fwd_azimuth_360\": 89.53849092368566, \"segment_direction\": \"east-west\"}, {\"fwd_azimuth_360\": 169.19933981026978, \"segment_direction\": \"north-south\"}, {\"fwd_azimuth_360\": 194.1203103252582, \"segment_direction\": \"north-south\"}, {\"fwd_azimuth_360\": 71.5476083157658, \"segment_direction\": \"east-west\"}, {\"fwd_azimuth_360\": 150.89504810246126, \"segment_direction\": \"north-south\"}, {\"fwd_azimuth_360\": 268.5103707606478, \"segment_direction\": \"east-west\"}, {\"fwd_azimuth_360\": 89.53996147035134, \"segment_direction\": \"east-west\"}, {\"fwd_azimuth_360\": 0.1404902939798066, \"segment_direction\": \"north-south\"}, {\"fwd_azimuth_360\": 281.2467223362425, \"segment_direction\": \"east-west\"}, {\"fwd_azimuth_360\": 276.1768698157409, \"segment_direction\": \"east-west\"}, {\"fwd_azimuth_360\": 93.54320434846524, \"segment_direction\": \"east-west\"}, {\"fwd_azimuth_360\": 182.29285934045808, \"segment_direction\": \"north-south\"}, {\"fwd_azimuth_360\": 354.4681687934714, \"segment_direction\": \"north-south\"}, {\"fwd_azimuth_360\": 235.57503550220667, \"segment_direction\": \"east-west\"}, {\"fwd_azimuth_360\": 293.86907275114993, \"segment_direction\": \"east-west\"}, {\"fwd_azimuth_360\": 357.918551073593, \"segment_direction\": \"north-south\"}, {\"fwd_azimuth_360\": 44.72483737647327, \"segment_direction\": \"north-south\"}, {\"fwd_azimuth_360\": 119.36779107119708, \"segment_direction\": \"east-west\"}, {\"fwd_azimuth_360\": 290.0013176317424, \"segment_direction\": \"east-west\"}, {\"fwd_azimuth_360\": 32.12980042877246, \"segment_direction\": \"north-south\"}, {\"fwd_azimuth_360\": 90.037509894207, \"segment_direction\": \"east-west\"}, {\"fwd_azimuth_360\": 89.92143339891899, \"segment_direction\": \"east-west\"}, {\"fwd_azimuth_360\": 38.54781654526385, \"segment_direction\": \"north-south\"}, {\"fwd_azimuth_360\": 76.40159362003807, \"segment_direction\": \"east-west\"}, {\"fwd_azimuth_360\": 54.54491185307295, \"segment_direction\": \"east-west\"}, {\"fwd_azimuth_360\": 90.55167871044434, \"segment_direction\": \"east-west\"}, {\"fwd_azimuth_360\": 206.35166646452555, \"segment_direction\": \"north-south\"}, {\"fwd_azimuth_360\": 344.2783650987864, \"segment_direction\": \"north-south\"}, {\"fwd_azimuth_360\": 86.54209336546377, \"segment_direction\": \"east-west\"}, {\"fwd_azimuth_360\": 311.2327005497451, \"segment_direction\": \"east-west\"}, {\"fwd_azimuth_360\": 29.94548607438592, \"segment_direction\": \"north-south\"}, {\"fwd_azimuth_360\": 168.5178598642423, \"segment_direction\": \"north-south\"}, {\"fwd_azimuth_360\": 90.39107637769125, \"segment_direction\": \"east-west\"}, {\"fwd_azimuth_360\": 359.7580855125159, \"segment_direction\": \"north-south\"}, {\"fwd_azimuth_360\": 57.87001180968902, \"segment_direction\": \"east-west\"}, {\"fwd_azimuth_360\": 125.18173233696285, \"segment_direction\": \"east-west\"}, {\"fwd_azimuth_360\": 53.64644302476732, \"segment_direction\": \"east-west\"}, {\"fwd_azimuth_360\": 44.25538962934577, \"segment_direction\": \"north-south\"}, {\"fwd_azimuth_360\": 169.79530177477824, \"segment_direction\": \"north-south\"}, {\"fwd_azimuth_360\": 89.72288975449544, \"segment_direction\": \"east-west\"}, {\"fwd_azimuth_360\": 336.5968767149712, \"segment_direction\": \"north-south\"}, {\"fwd_azimuth_360\": 30.357349034920812, \"segment_direction\": \"north-south\"}, {\"fwd_azimuth_360\": 0.003845782654037085, \"segment_direction\": \"north-south\"}, {\"fwd_azimuth_360\": 359.6390912710671, \"segment_direction\": \"north-south\"}, {\"fwd_azimuth_360\": 86.64654255373502, \"segment_direction\": \"east-west\"}, {\"fwd_azimuth_360\": 37.894913245332226, \"segment_direction\": \"north-south\"}, {\"fwd_azimuth_360\": 99.20885889581814, \"segment_direction\": \"east-west\"}, {\"fwd_azimuth_360\": 270.294800961136, \"segment_direction\": \"east-west\"}, {\"fwd_azimuth_360\": 245.09104323379663, \"segment_direction\": \"east-west\"}, {\"fwd_azimuth_360\": 225.37569441905347, \"segment_direction\": \"north-south\"}, {\"fwd_azimuth_360\": 180.8041399724663, \"segment_direction\": \"north-south\"}, {\"fwd_azimuth_360\": 191.00712679221067, \"segment_direction\": \"north-south\"}, {\"fwd_azimuth_360\": 180.0536463266005, \"segment_direction\": \"north-south\"}, {\"fwd_azimuth_360\": 216.5394563657179, \"segment_direction\": \"north-south\"}, {\"fwd_azimuth_360\": 239.05552703736095, \"segment_direction\": \"east-west\"}, {\"fwd_azimuth_360\": 123.85262120060321, \"segment_direction\": \"east-west\"}, {\"fwd_azimuth_360\": 178.86868937065069, \"segment_direction\": \"inconclusive\"}, {\"fwd_azimuth_360\": 303.69731874688733, \"segment_direction\": \"east-west\"}, {\"fwd_azimuth_360\": 90.90987452757555, \"segment_direction\": \"east-west\"}, {\"fwd_azimuth_360\": 144.52849397239274, \"segment_direction\": \"north-south\"}, {\"fwd_azimuth_360\": 129.4352241056245, \"segment_direction\": \"east-west\"}, {\"fwd_azimuth_360\": 28.18836320827066, \"segment_direction\": \"north-south\"}, {\"fwd_azimuth_360\": 359.7903340563752, \"segment_direction\": \"north-south\"}, {\"fwd_azimuth_360\": 320.3801294368068, \"segment_direction\": \"north-south\"}, {\"fwd_azimuth_360\": 47.806218205521084, \"segment_direction\": \"east-west\"}, {\"fwd_azimuth_360\": 57.124883727279666, \"segment_direction\": \"east-west\"}, {\"fwd_azimuth_360\": 126.82921748932489, \"segment_direction\": \"east-west\"}, {\"fwd_azimuth_360\": 359.4723489026431, \"segment_direction\": \"north-south\"}, {\"fwd_azimuth_360\": 28.88655108629218, \"segment_direction\": \"north-south\"}, {\"fwd_azimuth_360\": 150.90576467785706, \"segment_direction\": \"north-south\"}, {\"fwd_azimuth_360\": 148.81125423940182, \"segment_direction\": \"north-south\"}, {\"fwd_azimuth_360\": 355.8874227505685, \"segment_direction\": \"north-south\"}, {\"fwd_azimuth_360\": 40.513540459622675, \"segment_direction\": \"north-south\"}, {\"fwd_azimuth_360\": 206.2031372320073, \"segment_direction\": \"north-south\"}, {\"fwd_azimuth_360\": 264.201620818241, \"segment_direction\": \"east-west\"}, {\"fwd_azimuth_360\": 152.60008979617962, \"segment_direction\": \"north-south\"}, {\"fwd_azimuth_360\": 18.77170065362875, \"segment_direction\": \"north-south\"}, {\"fwd_azimuth_360\": 170.24554740727967, \"segment_direction\": \"north-south\"}, {\"fwd_azimuth_360\": 359.91839025044646, \"segment_direction\": \"north-south\"}, {\"fwd_azimuth_360\": 72.37303601937619, \"segment_direction\": \"east-west\"}, {\"fwd_azimuth_360\": 179.9920113788162, \"segment_direction\": \"inconclusive\"}, {\"fwd_azimuth_360\": 172.29705531926302, \"segment_direction\": \"inconclusive\"}, {\"fwd_azimuth_360\": 343.3436525745151, \"segment_direction\": \"north-south\"}, {\"fwd_azimuth_360\": 178.62280710558628, \"segment_direction\": \"north-south\"}, {\"fwd_azimuth_360\": 175.6439848755792, \"segment_direction\": \"north-south\"}, {\"fwd_azimuth_360\": 277.51002991857956, \"segment_direction\": \"east-west\"}, {\"fwd_azimuth_360\": 166.52959088781333, \"segment_direction\": \"north-south\"}, {\"fwd_azimuth_360\": 0.3170954565928976, \"segment_direction\": \"north-south\"}, {\"fwd_azimuth_360\": 97.1721226560999, \"segment_direction\": \"east-west\"}, {\"fwd_azimuth_360\": 269.98628792019605, \"segment_direction\": \"east-west\"}, {\"fwd_azimuth_360\": 126.06717023565238, \"segment_direction\": \"east-west\"}, {\"fwd_azimuth_360\": 0.5314293254382101, \"segment_direction\": \"north-south\"}, {\"fwd_azimuth_360\": 76.28260168847876, \"segment_direction\": \"east-west\"}, {\"fwd_azimuth_360\": 269.75159564796263, \"segment_direction\": \"east-west\"}, {\"fwd_azimuth_360\": 100.29474040027529, \"segment_direction\": \"east-west\"}, {\"fwd_azimuth_360\": 270.00527999020824, \"segment_direction\": \"east-west\"}, {\"fwd_azimuth_360\": 170.89982908839616, \"segment_direction\": \"north-south\"}, {\"fwd_azimuth_360\": 180.31549437798134, \"segment_direction\": \"north-south\"}, {\"fwd_azimuth_360\": 202.2186494031673, \"segment_direction\": \"north-south\"}, {\"fwd_azimuth_360\": 359.66816803050426, \"segment_direction\": \"north-south\"}, {\"fwd_azimuth_360\": 360.0, \"segment_direction\": \"north-south\"}, {\"fwd_azimuth_360\": 313.92374210293224, \"segment_direction\": \"east-west\"}, {\"fwd_azimuth_360\": 247.46268384408253, \"segment_direction\": \"east-west\"}, {\"fwd_azimuth_360\": 37.89462615694379, \"segment_direction\": \"north-south\"}, {\"fwd_azimuth_360\": 90.79110098342386, \"segment_direction\": \"east-west\"}, {\"fwd_azimuth_360\": 143.0721981982332, \"segment_direction\": \"north-south\"}, {\"fwd_azimuth_360\": 89.9844674167113, \"segment_direction\": \"east-west\"}, {\"fwd_azimuth_360\": 120.16172121233365, \"segment_direction\": \"east-west\"}, {\"fwd_azimuth_360\": 320.48685497556227, \"segment_direction\": \"north-south\"}, {\"fwd_azimuth_360\": 0.39182866560238394, \"segment_direction\": \"north-south\"}, {\"fwd_azimuth_360\": 289.06357241927924, \"segment_direction\": \"east-west\"}, {\"fwd_azimuth_360\": 177.68097273038052, \"segment_direction\": \"north-south\"}, {\"fwd_azimuth_360\": 181.28775546092132, \"segment_direction\": \"north-south\"}, {\"fwd_azimuth_360\": 358.4768376688355, \"segment_direction\": \"north-south\"}, {\"fwd_azimuth_360\": 88.35180586884647, \"segment_direction\": \"east-west\"}, {\"fwd_azimuth_360\": 88.37067111423809, \"segment_direction\": \"east-west\"}, {\"fwd_azimuth_360\": 105.27042385910669, \"segment_direction\": \"east-west\"}, {\"fwd_azimuth_360\": 268.9723797877916, \"segment_direction\": \"east-west\"}, {\"fwd_azimuth_360\": 292.1624292061501, \"segment_direction\": \"east-west\"}, {\"fwd_azimuth_360\": 356.4056198710985, \"segment_direction\": \"north-south\"}, {\"fwd_azimuth_360\": 301.97461878850066, \"segment_direction\": \"east-west\"}, {\"fwd_azimuth_360\": 59.147543605262854, \"segment_direction\": \"east-west\"}, {\"fwd_azimuth_360\": 204.27724243593883, \"segment_direction\": \"north-south\"}, {\"fwd_azimuth_360\": 19.37773926093732, \"segment_direction\": \"north-south\"}, {\"fwd_azimuth_360\": 127.23223943803777, \"segment_direction\": \"east-west\"}, {\"fwd_azimuth_360\": 154.5590939163589, \"segment_direction\": \"north-south\"}, {\"fwd_azimuth_360\": 97.10300660670907, \"segment_direction\": \"east-west\"}, {\"fwd_azimuth_360\": 301.0774705534642, \"segment_direction\": \"east-west\"}, {\"fwd_azimuth_360\": 58.833643811326894, \"segment_direction\": \"east-west\"}, {\"fwd_azimuth_360\": 329.04567577127995, \"segment_direction\": \"north-south\"}, {\"fwd_azimuth_360\": 359.86776943428555, \"segment_direction\": \"north-south\"}, {\"fwd_azimuth_360\": 80.59203494084727, \"segment_direction\": \"east-west\"}, {\"fwd_azimuth_360\": 70.6239557641192, \"segment_direction\": \"east-west\"}, {\"fwd_azimuth_360\": 7.251460618558925, \"segment_direction\": \"north-south\"}, {\"fwd_azimuth_360\": 25.185093869375322, \"segment_direction\": \"north-south\"}, {\"fwd_azimuth_360\": 263.6947689716278, \"segment_direction\": \"east-west\"}, {\"fwd_azimuth_360\": 359.87908517087993, \"segment_direction\": \"north-south\"}, {\"fwd_azimuth_360\": 288.1560510078888, \"segment_direction\": \"east-west\"}, {\"fwd_azimuth_360\": 88.93875274518645, \"segment_direction\": \"east-west\"}, {\"fwd_azimuth_360\": 93.76804914550262, \"segment_direction\": \"east-west\"}, {\"fwd_azimuth_360\": 167.5425164200007, \"segment_direction\": \"north-south\"}, {\"fwd_azimuth_360\": 64.0408507065117, \"segment_direction\": \"east-west\"}, {\"fwd_azimuth_360\": 307.24878986809887, \"segment_direction\": \"east-west\"}, {\"fwd_azimuth_360\": 132.49431873697125, \"segment_direction\": \"east-west\"}, {\"fwd_azimuth_360\": 84.95647699652976, \"segment_direction\": \"east-west\"}, {\"fwd_azimuth_360\": 103.27518944637026, \"segment_direction\": \"east-west\"}, {\"fwd_azimuth_360\": 14.037163283685285, \"segment_direction\": \"north-south\"}, {\"fwd_azimuth_360\": 88.93131839676242, \"segment_direction\": \"east-west\"}, {\"fwd_azimuth_360\": 123.20537722923766, \"segment_direction\": \"east-west\"}, {\"fwd_azimuth_360\": 317.4055250874996, \"segment_direction\": \"north-south\"}, {\"fwd_azimuth_360\": 225.03619131281718, \"segment_direction\": \"east-west\"}, {\"fwd_azimuth_360\": 90.07369529033758, \"segment_direction\": \"east-west\"}, {\"fwd_azimuth_360\": 58.21913533629323, \"segment_direction\": \"east-west\"}, {\"fwd_azimuth_360\": 270.0169814442606, \"segment_direction\": \"east-west\"}, {\"fwd_azimuth_360\": 154.38927157144607, \"segment_direction\": \"north-south\"}, {\"fwd_azimuth_360\": 327.5524158445597, \"segment_direction\": \"north-south\"}, {\"fwd_azimuth_360\": 195.11913376098775, \"segment_direction\": \"north-south\"}, {\"fwd_azimuth_360\": 89.60879842499324, \"segment_direction\": \"east-west\"}, {\"fwd_azimuth_360\": 233.8823812990841, \"segment_direction\": \"east-west\"}, {\"fwd_azimuth_360\": 70.61363110658024, \"segment_direction\": \"east-west\"}, {\"fwd_azimuth_360\": 337.5727283165173, \"segment_direction\": \"north-south\"}, {\"fwd_azimuth_360\": 246.9819321021409, \"segment_direction\": \"east-west\"}, {\"fwd_azimuth_360\": 51.42540566598271, \"segment_direction\": \"east-west\"}, {\"fwd_azimuth_360\": 89.98281789212339, \"segment_direction\": \"east-west\"}, {\"fwd_azimuth_360\": 359.4109813964178, \"segment_direction\": \"north-south\"}, {\"fwd_azimuth_360\": 12.65431369429479, \"segment_direction\": \"north-south\"}, {\"fwd_azimuth_360\": 143.75403151244242, \"segment_direction\": \"north-south\"}, {\"fwd_azimuth_360\": 346.5490258456427, \"segment_direction\": \"north-south\"}, {\"fwd_azimuth_360\": 19.690473119160988, \"segment_direction\": \"north-south\"}, {\"fwd_azimuth_360\": 13.406234867634549, \"segment_direction\": \"north-south\"}, {\"fwd_azimuth_360\": 202.8806404514465, \"segment_direction\": \"north-south\"}, {\"fwd_azimuth_360\": 20.93624470709347, \"segment_direction\": \"north-south\"}, {\"fwd_azimuth_360\": 106.92663154651778, \"segment_direction\": \"inconclusive\"}, {\"fwd_azimuth_360\": 293.86907275114993, \"segment_direction\": \"east-west\"}, {\"fwd_azimuth_360\": 15.72488526814912, \"segment_direction\": \"north-south\"}, {\"fwd_azimuth_360\": 21.79863816964813, \"segment_direction\": \"north-south\"}, {\"fwd_azimuth_360\": 49.09754993475667, \"segment_direction\": \"east-west\"}, {\"fwd_azimuth_360\": 280.82953425822427, \"segment_direction\": \"east-west\"}, {\"fwd_azimuth_360\": 45.871892721959625, \"segment_direction\": \"north-south\"}, {\"fwd_azimuth_360\": 114.4668120455534, \"segment_direction\": \"east-west\"}, {\"fwd_azimuth_360\": 271.67429254260037, \"segment_direction\": \"east-west\"}, {\"fwd_azimuth_360\": 212.32670638509185, \"segment_direction\": \"north-south\"}, {\"fwd_azimuth_360\": 300.0505323906093, \"segment_direction\": \"east-west\"}, {\"fwd_azimuth_360\": 89.25356384914467, \"segment_direction\": \"east-west\"}, {\"fwd_azimuth_360\": 358.71640369429355, \"segment_direction\": \"north-south\"}, {\"fwd_azimuth_360\": 30.70433974918402, \"segment_direction\": \"north-south\"}, {\"fwd_azimuth_360\": 204.54916590498135, \"segment_direction\": \"north-south\"}, {\"fwd_azimuth_360\": 305.27646586672313, \"segment_direction\": \"east-west\"}, {\"fwd_azimuth_360\": 89.91761955457797, \"segment_direction\": \"east-west\"}, {\"fwd_azimuth_360\": 276.36034678206266, \"segment_direction\": \"east-west\"}, {\"fwd_azimuth_360\": 215.21621439190838, \"segment_direction\": \"north-south\"}, {\"fwd_azimuth_360\": 309.10640109860077, \"segment_direction\": \"east-west\"}, {\"fwd_azimuth_360\": 8.930569331376411, \"segment_direction\": \"north-south\"}, {\"fwd_azimuth_360\": 212.9109267278916, \"segment_direction\": \"north-south\"}, {\"fwd_azimuth_360\": 47.1084236686589, \"segment_direction\": \"east-west\"}, {\"fwd_azimuth_360\": 185.04106590790164, \"segment_direction\": \"north-south\"}, {\"fwd_azimuth_360\": 176.63058288382564, \"segment_direction\": \"north-south\"}, {\"fwd_azimuth_360\": 359.3157361206465, \"segment_direction\": \"north-south\"}, {\"fwd_azimuth_360\": 232.9182239340394, \"segment_direction\": \"east-west\"}, {\"fwd_azimuth_360\": 289.17136339201835, \"segment_direction\": \"east-west\"}, {\"fwd_azimuth_360\": 271.26419450863165, \"segment_direction\": \"east-west\"}, {\"fwd_azimuth_360\": 170.8908081469729, \"segment_direction\": \"north-south\"}, {\"fwd_azimuth_360\": 61.4330942837195, \"segment_direction\": \"east-west\"}, {\"fwd_azimuth_360\": 199.4284580849375, \"segment_direction\": \"north-south\"}, {\"fwd_azimuth_360\": 97.51123441665746, \"segment_direction\": \"east-west\"}, {\"fwd_azimuth_360\": 17.453977522562035, \"segment_direction\": \"north-south\"}, {\"fwd_azimuth_360\": 90.27085192503674, \"segment_direction\": \"east-west\"}, {\"fwd_azimuth_360\": 77.9110606850654, \"segment_direction\": \"east-west\"}, {\"fwd_azimuth_360\": 270.84556057617027, \"segment_direction\": \"east-west\"}, {\"fwd_azimuth_360\": 89.43683298087981, \"segment_direction\": \"east-west\"}, {\"fwd_azimuth_360\": 165.61704748761542, \"segment_direction\": \"north-south\"}, {\"fwd_azimuth_360\": 111.15381050056237, \"segment_direction\": \"east-west\"}, {\"fwd_azimuth_360\": 228.77240303004635, \"segment_direction\": \"east-west\"}, {\"fwd_azimuth_360\": 89.47298352504258, \"segment_direction\": \"east-west\"}, {\"fwd_azimuth_360\": 92.13492066702052, \"segment_direction\": \"east-west\"}, {\"fwd_azimuth_360\": 90.06850950495694, \"segment_direction\": \"east-west\"}, {\"fwd_azimuth_360\": 89.83393909321907, \"segment_direction\": \"east-west\"}, {\"fwd_azimuth_360\": 269.6310799310984, \"segment_direction\": \"east-west\"}, {\"fwd_azimuth_360\": 95.56682770601395, \"segment_direction\": \"east-west\"}, {\"fwd_azimuth_360\": 11.689140224943792, \"segment_direction\": \"north-south\"}, {\"fwd_azimuth_360\": 50.464479352376244, \"segment_direction\": \"east-west\"}, {\"fwd_azimuth_360\": 90.05100228069973, \"segment_direction\": \"east-west\"}, {\"fwd_azimuth_360\": 138.0527324489836, \"segment_direction\": \"north-south\"}, {\"fwd_azimuth_360\": 143.42548136220594, \"segment_direction\": \"north-south\"}, {\"fwd_azimuth_360\": 88.96364155296052, \"segment_direction\": \"east-west\"}, {\"fwd_azimuth_360\": 121.84015853646332, \"segment_direction\": \"east-west\"}, {\"fwd_azimuth_360\": 0.14033245135273062, \"segment_direction\": \"north-south\"}, {\"fwd_azimuth_360\": 284.28707258429586, \"segment_direction\": \"east-west\"}, {\"fwd_azimuth_360\": 179.7662260005723, \"segment_direction\": \"north-south\"}, {\"fwd_azimuth_360\": 3.7613098262123192, \"segment_direction\": \"north-south\"}, {\"fwd_azimuth_360\": 331.7530067584192, \"segment_direction\": \"north-south\"}, {\"fwd_azimuth_360\": 269.67373069038734, \"segment_direction\": \"east-west\"}, {\"fwd_azimuth_360\": 189.86755981117648, \"segment_direction\": \"north-south\"}, {\"fwd_azimuth_360\": 72.07808566970868, \"segment_direction\": \"east-west\"}, {\"fwd_azimuth_360\": 112.05929800413644, \"segment_direction\": \"east-west\"}, {\"fwd_azimuth_360\": 180.0708644616269, \"segment_direction\": \"north-south\"}, {\"fwd_azimuth_360\": 199.10098544190984, \"segment_direction\": \"north-south\"}, {\"fwd_azimuth_360\": 183.4626383706446, \"segment_direction\": \"north-south\"}, {\"fwd_azimuth_360\": 152.45543136128128, \"segment_direction\": \"north-south\"}, {\"fwd_azimuth_360\": 70.28940155139342, \"segment_direction\": \"east-west\"}, {\"fwd_azimuth_360\": 11.979941710166846, \"segment_direction\": \"north-south\"}, {\"fwd_azimuth_360\": 74.5237812914061, \"segment_direction\": \"inconclusive\"}, {\"fwd_azimuth_360\": 74.57044269230832, \"segment_direction\": \"east-west\"}, {\"fwd_azimuth_360\": 180.19496036803542, \"segment_direction\": \"north-south\"}, {\"fwd_azimuth_360\": 89.59580874855504, \"segment_direction\": \"east-west\"}, {\"fwd_azimuth_360\": 33.269656669838284, \"segment_direction\": \"north-south\"}, {\"fwd_azimuth_360\": 97.85057467198483, \"segment_direction\": \"east-west\"}, {\"fwd_azimuth_360\": 215.85614390098291, \"segment_direction\": \"north-south\"}, {\"fwd_azimuth_360\": 169.10215259862298, \"segment_direction\": \"north-south\"}, {\"fwd_azimuth_360\": 79.69756487787288, \"segment_direction\": \"east-west\"}, {\"fwd_azimuth_360\": 133.2899431790799, \"segment_direction\": \"east-west\"}, {\"fwd_azimuth_360\": 357.82913593842864, \"segment_direction\": \"north-south\"}, {\"fwd_azimuth_360\": 359.40948760466046, \"segment_direction\": \"north-south\"}, {\"fwd_azimuth_360\": 131.47172589661793, \"segment_direction\": \"east-west\"}, {\"fwd_azimuth_360\": 85.12266483033203, \"segment_direction\": \"east-west\"}, {\"fwd_azimuth_360\": 165.5056117533431, \"segment_direction\": \"north-south\"}, {\"fwd_azimuth_360\": 359.6993397454116, \"segment_direction\": \"north-south\"}, {\"fwd_azimuth_360\": 358.9852420872424, \"segment_direction\": \"north-south\"}, {\"fwd_azimuth_360\": 124.89456047424112, \"segment_direction\": \"east-west\"}, {\"fwd_azimuth_360\": 33.737913481410324, \"segment_direction\": \"north-south\"}, {\"fwd_azimuth_360\": 6.601391452176851, \"segment_direction\": \"north-south\"}, {\"fwd_azimuth_360\": 90.24869279641395, \"segment_direction\": \"east-west\"}, {\"fwd_azimuth_360\": 132.46607549316872, \"segment_direction\": \"east-west\"}, {\"fwd_azimuth_360\": 175.66574647618546, \"segment_direction\": \"north-south\"}, {\"fwd_azimuth_360\": 85.75721409543307, \"segment_direction\": \"east-west\"}, {\"fwd_azimuth_360\": 130.10106261494082, \"segment_direction\": \"east-west\"}, {\"fwd_azimuth_360\": 270.4148967993673, \"segment_direction\": \"east-west\"}, {\"fwd_azimuth_360\": 359.4044784973497, \"segment_direction\": \"north-south\"}, {\"fwd_azimuth_360\": 123.37483723548722, \"segment_direction\": \"east-west\"}, {\"fwd_azimuth_360\": 89.7354846981249, \"segment_direction\": \"east-west\"}, {\"fwd_azimuth_360\": 352.3187819621173, \"segment_direction\": \"north-south\"}, {\"fwd_azimuth_360\": 117.87121540881822, \"segment_direction\": \"east-west\"}, {\"fwd_azimuth_360\": 184.76703434452298, \"segment_direction\": \"north-south\"}, {\"fwd_azimuth_360\": 90.9407541875953, \"segment_direction\": \"east-west\"}, {\"fwd_azimuth_360\": 208.30382405194163, \"segment_direction\": \"north-south\"}, {\"fwd_azimuth_360\": 73.40725446046058, \"segment_direction\": \"east-west\"}, {\"fwd_azimuth_360\": 79.38522750153032, \"segment_direction\": \"east-west\"}, {\"fwd_azimuth_360\": 90.62121790352342, \"segment_direction\": \"east-west\"}, {\"fwd_azimuth_360\": 91.15491887947994, \"segment_direction\": \"east-west\"}, {\"fwd_azimuth_360\": 312.0271312287174, \"segment_direction\": \"east-west\"}, {\"fwd_azimuth_360\": 80.89839434515615, \"segment_direction\": \"east-west\"}, {\"fwd_azimuth_360\": 260.9072816641344, \"segment_direction\": \"east-west\"}, {\"fwd_azimuth_360\": 269.7298906036099, \"segment_direction\": \"east-west\"}, {\"fwd_azimuth_360\": 302.90037954610153, \"segment_direction\": \"east-west\"}, {\"fwd_azimuth_360\": 153.90790433025458, \"segment_direction\": \"north-south\"}, {\"fwd_azimuth_360\": 89.86805060643506, \"segment_direction\": \"east-west\"}, {\"fwd_azimuth_360\": 93.09124228682037, \"segment_direction\": \"east-west\"}, {\"fwd_azimuth_360\": 269.6287022648158, \"segment_direction\": \"east-west\"}, {\"fwd_azimuth_360\": 321.7745034289081, \"segment_direction\": \"north-south\"}, {\"fwd_azimuth_360\": 59.494800881126025, \"segment_direction\": \"east-west\"}, {\"fwd_azimuth_360\": 106.22336128916018, \"segment_direction\": \"east-west\"}, {\"fwd_azimuth_360\": 141.78901575792918, \"segment_direction\": \"north-south\"}, {\"fwd_azimuth_360\": 195.64826135486007, \"segment_direction\": \"north-south\"}, {\"fwd_azimuth_360\": 89.64921514473286, \"segment_direction\": \"east-west\"}, {\"fwd_azimuth_360\": 186.87167555466326, \"segment_direction\": \"north-south\"}, {\"fwd_azimuth_360\": 165.71982302688272, \"segment_direction\": \"north-south\"}, {\"fwd_azimuth_360\": 0.06443950242088065, \"segment_direction\": \"north-south\"}, {\"fwd_azimuth_360\": 179.97753134843228, \"segment_direction\": \"north-south\"}, {\"fwd_azimuth_360\": 187.0057211478941, \"segment_direction\": \"north-south\"}, {\"fwd_azimuth_360\": 210.9926180801074, \"segment_direction\": \"north-south\"}, {\"fwd_azimuth_360\": 359.85832225470693, \"segment_direction\": \"north-south\"}, {\"fwd_azimuth_360\": 64.08345651180929, \"segment_direction\": \"east-west\"}, {\"fwd_azimuth_360\": 91.73030208666495, \"segment_direction\": \"east-west\"}, {\"fwd_azimuth_360\": 359.84704225131554, \"segment_direction\": \"north-south\"}, {\"fwd_azimuth_360\": 124.9901634417353, \"segment_direction\": \"east-west\"}, {\"fwd_azimuth_360\": 191.75249044021342, \"segment_direction\": \"north-south\"}, {\"fwd_azimuth_360\": 95.4069958811343, \"segment_direction\": \"east-west\"}, {\"fwd_azimuth_360\": 271.4396643867022, \"segment_direction\": \"east-west\"}, {\"fwd_azimuth_360\": 359.16806912651737, \"segment_direction\": \"north-south\"}, {\"fwd_azimuth_360\": 258.4276386894398, \"segment_direction\": \"east-west\"}, {\"fwd_azimuth_360\": 119.36781897514534, \"segment_direction\": \"east-west\"}, {\"fwd_azimuth_360\": 51.716073283147686, \"segment_direction\": \"east-west\"}, {\"fwd_azimuth_360\": 48.70171633432554, \"segment_direction\": \"east-west\"}, {\"fwd_azimuth_360\": 262.7414437904673, \"segment_direction\": \"east-west\"}, {\"fwd_azimuth_360\": 90.30060475451693, \"segment_direction\": \"east-west\"}, {\"fwd_azimuth_360\": 75.48841835328281, \"segment_direction\": \"east-west\"}, {\"fwd_azimuth_360\": 88.56353573117099, \"segment_direction\": \"east-west\"}, {\"fwd_azimuth_360\": 225.5993782553924, \"segment_direction\": \"north-south\"}, {\"fwd_azimuth_360\": 348.8336900177468, \"segment_direction\": \"north-south\"}, {\"fwd_azimuth_360\": 332.29755668814215, \"segment_direction\": \"north-south\"}, {\"fwd_azimuth_360\": 344.0343894080759, \"segment_direction\": \"north-south\"}, {\"fwd_azimuth_360\": 241.93847377627895, \"segment_direction\": \"east-west\"}, {\"fwd_azimuth_360\": 239.94257396825458, \"segment_direction\": \"east-west\"}, {\"fwd_azimuth_360\": 88.45832943921295, \"segment_direction\": \"east-west\"}, {\"fwd_azimuth_360\": 89.4916514680548, \"segment_direction\": \"east-west\"}, {\"fwd_azimuth_360\": 90.21723458647935, \"segment_direction\": \"east-west\"}, {\"fwd_azimuth_360\": 50.044095896323455, \"segment_direction\": \"east-west\"}, {\"fwd_azimuth_360\": 101.7440378236643, \"segment_direction\": \"east-west\"}, {\"fwd_azimuth_360\": 45.78595084541433, \"segment_direction\": \"north-south\"}, {\"fwd_azimuth_360\": 87.23153459692445, \"segment_direction\": \"east-west\"}, {\"fwd_azimuth_360\": 10.788982749077066, \"segment_direction\": \"north-south\"}, {\"fwd_azimuth_360\": 51.22939549804465, \"segment_direction\": \"east-west\"}, {\"fwd_azimuth_360\": 359.1508110702361, \"segment_direction\": \"north-south\"}, {\"fwd_azimuth_360\": 266.6988224287724, \"segment_direction\": \"east-west\"}, {\"fwd_azimuth_360\": 0.012752848285850124, \"segment_direction\": \"north-south\"}, {\"fwd_azimuth_360\": 55.149681467515116, \"segment_direction\": \"east-west\"}, {\"fwd_azimuth_360\": 145.23574571849267, \"segment_direction\": \"north-south\"}, {\"fwd_azimuth_360\": 261.45628379097366, \"segment_direction\": \"east-west\"}, {\"fwd_azimuth_360\": 68.4555378578925, \"segment_direction\": \"east-west\"}, {\"fwd_azimuth_360\": 322.46452421488715, \"segment_direction\": \"north-south\"}, {\"fwd_azimuth_360\": 35.707139957485474, \"segment_direction\": \"north-south\"}, {\"fwd_azimuth_360\": 91.99038936133668, \"segment_direction\": \"east-west\"}, {\"fwd_azimuth_360\": 283.51471476931005, \"segment_direction\": \"east-west\"}, {\"fwd_azimuth_360\": 129.48340840365998, \"segment_direction\": \"east-west\"}, {\"fwd_azimuth_360\": 26.950470254339344, \"segment_direction\": \"north-south\"}, {\"fwd_azimuth_360\": 323.9527120221996, \"segment_direction\": \"north-south\"}, {\"fwd_azimuth_360\": 171.5779758642367, \"segment_direction\": \"north-south\"}, {\"fwd_azimuth_360\": 208.07234938324123, \"segment_direction\": \"north-south\"}, {\"fwd_azimuth_360\": 353.5120692131449, \"segment_direction\": \"north-south\"}, {\"fwd_azimuth_360\": 97.98552245885196, \"segment_direction\": \"east-west\"}, {\"fwd_azimuth_360\": 149.0455863528943, \"segment_direction\": \"north-south\"}, {\"fwd_azimuth_360\": 341.5906599369549, \"segment_direction\": \"north-south\"}, {\"fwd_azimuth_360\": 296.7045421712937, \"segment_direction\": \"east-west\"}, {\"fwd_azimuth_360\": 86.34717769206782, \"segment_direction\": \"east-west\"}, {\"fwd_azimuth_360\": 295.605300497176, \"segment_direction\": \"east-west\"}, {\"fwd_azimuth_360\": 6.616725796295835, \"segment_direction\": \"north-south\"}, {\"fwd_azimuth_360\": 81.98039413748702, \"segment_direction\": \"east-west\"}, {\"fwd_azimuth_360\": 252.67649317110417, \"segment_direction\": \"east-west\"}, {\"fwd_azimuth_360\": 359.74500035590205, \"segment_direction\": \"north-south\"}, {\"fwd_azimuth_360\": 269.5047976095851, \"segment_direction\": \"east-west\"}, {\"fwd_azimuth_360\": 20.565576979976296, \"segment_direction\": \"north-south\"}, {\"fwd_azimuth_360\": 181.08512465786512, \"segment_direction\": \"north-south\"}, {\"fwd_azimuth_360\": 50.388356765951045, \"segment_direction\": \"east-west\"}, {\"fwd_azimuth_360\": 359.80819533646553, \"segment_direction\": \"north-south\"}, {\"fwd_azimuth_360\": 97.63678262416593, \"segment_direction\": \"east-west\"}, {\"fwd_azimuth_360\": 311.29751473516916, \"segment_direction\": \"east-west\"}, {\"fwd_azimuth_360\": 49.53525091366732, \"segment_direction\": \"east-west\"}, {\"fwd_azimuth_360\": 92.31942851968589, \"segment_direction\": \"east-west\"}, {\"fwd_azimuth_360\": 270.10357874853275, \"segment_direction\": \"east-west\"}, {\"fwd_azimuth_360\": 312.33910182673094, \"segment_direction\": \"east-west\"}, {\"fwd_azimuth_360\": 269.9799026161321, \"segment_direction\": \"east-west\"}, {\"fwd_azimuth_360\": 347.96384664096047, \"segment_direction\": \"north-south\"}, {\"fwd_azimuth_360\": 109.28755445948272, \"segment_direction\": \"east-west\"}, {\"fwd_azimuth_360\": 241.66424675785908, \"segment_direction\": \"east-west\"}, {\"fwd_azimuth_360\": 302.09642769863046, \"segment_direction\": \"east-west\"}, {\"fwd_azimuth_360\": 93.60978291204668, \"segment_direction\": \"east-west\"}, {\"fwd_azimuth_360\": 249.21418651640997, \"segment_direction\": \"east-west\"}, {\"fwd_azimuth_360\": 7.4028540283128486, \"segment_direction\": \"north-south\"}, {\"fwd_azimuth_360\": 299.59631455144216, \"segment_direction\": \"east-west\"}, {\"fwd_azimuth_360\": 174.02622736290888, \"segment_direction\": \"north-south\"}, {\"fwd_azimuth_360\": 108.52557524100105, \"segment_direction\": \"east-west\"}, {\"fwd_azimuth_360\": 313.8554994380205, \"segment_direction\": \"north-south\"}, {\"fwd_azimuth_360\": 268.1375850639366, \"segment_direction\": \"east-west\"}, {\"fwd_azimuth_360\": 225.21326421077603, \"segment_direction\": \"east-west\"}, {\"fwd_azimuth_360\": 322.4571276050525, \"segment_direction\": \"north-south\"}, {\"fwd_azimuth_360\": 87.3246376906, \"segment_direction\": \"east-west\"}, {\"fwd_azimuth_360\": 217.6770361890648, \"segment_direction\": \"north-south\"}, {\"fwd_azimuth_360\": 96.91844203527847, \"segment_direction\": \"east-west\"}, {\"fwd_azimuth_360\": 165.60630512807367, \"segment_direction\": \"north-south\"}, {\"fwd_azimuth_360\": 270.1470704869043, \"segment_direction\": \"east-west\"}, {\"fwd_azimuth_360\": 49.84152715831428, \"segment_direction\": \"east-west\"}, {\"fwd_azimuth_360\": 216.79809961623965, \"segment_direction\": \"north-south\"}, {\"fwd_azimuth_360\": 224.65191555360855, \"segment_direction\": \"east-west\"}, {\"fwd_azimuth_360\": 86.04072229046731, \"segment_direction\": \"east-west\"}, {\"fwd_azimuth_360\": 2.251209038807815, \"segment_direction\": \"north-south\"}, {\"fwd_azimuth_360\": 224.2973710594847, \"segment_direction\": \"east-west\"}, {\"fwd_azimuth_360\": 82.78846546053971, \"segment_direction\": \"east-west\"}, {\"fwd_azimuth_360\": 88.45832943921295, \"segment_direction\": \"east-west\"}, {\"fwd_azimuth_360\": 216.93698707104667, \"segment_direction\": \"north-south\"}, {\"fwd_azimuth_360\": 251.78677756839403, \"segment_direction\": \"east-west\"}, {\"fwd_azimuth_360\": 56.102705316802705, \"segment_direction\": \"east-west\"}, {\"fwd_azimuth_360\": 239.8481692460285, \"segment_direction\": \"east-west\"}, {\"fwd_azimuth_360\": 71.95813006843746, \"segment_direction\": \"east-west\"}, {\"fwd_azimuth_360\": 296.975830009385, \"segment_direction\": \"east-west\"}, {\"fwd_azimuth_360\": 353.3166700139043, \"segment_direction\": \"north-south\"}, {\"fwd_azimuth_360\": 86.31204780724764, \"segment_direction\": \"east-west\"}, {\"fwd_azimuth_360\": 55.80419039729991, \"segment_direction\": \"east-west\"}, {\"fwd_azimuth_360\": 143.73230814682424, \"segment_direction\": \"north-south\"}, {\"fwd_azimuth_360\": 165.777867181822, \"segment_direction\": \"north-south\"}, {\"fwd_azimuth_360\": 342.2124594353652, \"segment_direction\": \"inconclusive\"}, {\"fwd_azimuth_360\": 342.22243445858646, \"segment_direction\": \"north-south\"}, {\"fwd_azimuth_360\": 89.9221407883849, \"segment_direction\": \"east-west\"}, {\"fwd_azimuth_360\": 358.92783250140735, \"segment_direction\": \"north-south\"}, {\"fwd_azimuth_360\": 89.30856590484571, \"segment_direction\": \"east-west\"}, {\"fwd_azimuth_360\": 89.72289131698658, \"segment_direction\": \"east-west\"}, {\"fwd_azimuth_360\": 188.32212427610807, \"segment_direction\": \"north-south\"}, {\"fwd_azimuth_360\": 36.54470473598045, \"segment_direction\": \"north-south\"}, {\"fwd_azimuth_360\": 359.95463169711047, \"segment_direction\": \"north-south\"}, {\"fwd_azimuth_360\": 331.46951942253213, \"segment_direction\": \"north-south\"}, {\"fwd_azimuth_360\": 42.25852322492842, \"segment_direction\": \"north-south\"}, {\"fwd_azimuth_360\": 174.11482578674577, \"segment_direction\": \"north-south\"}, {\"fwd_azimuth_360\": 11.883333360319082, \"segment_direction\": \"north-south\"}, {\"fwd_azimuth_360\": 89.90467183451696, \"segment_direction\": \"east-west\"}, {\"fwd_azimuth_360\": 200.0658750562021, \"segment_direction\": \"north-south\"}, {\"fwd_azimuth_360\": 84.04991982959989, \"segment_direction\": \"east-west\"}, {\"fwd_azimuth_360\": 145.88792100238206, \"segment_direction\": \"north-south\"}, {\"fwd_azimuth_360\": 58.207733900127536, \"segment_direction\": \"east-west\"}, {\"fwd_azimuth_360\": 210.39485344622588, \"segment_direction\": \"north-south\"}, {\"fwd_azimuth_360\": 269.95055186243826, \"segment_direction\": \"east-west\"}, {\"fwd_azimuth_360\": 8.48622231641513, \"segment_direction\": \"north-south\"}, {\"fwd_azimuth_360\": 153.68555628174087, \"segment_direction\": \"north-south\"}, {\"fwd_azimuth_360\": 346.9184416898951, \"segment_direction\": \"north-south\"}, {\"fwd_azimuth_360\": 123.48519723171356, \"segment_direction\": \"east-west\"}, {\"fwd_azimuth_360\": 83.5015018596937, \"segment_direction\": \"east-west\"}, {\"fwd_azimuth_360\": 77.58101190965942, \"segment_direction\": \"east-west\"}, {\"fwd_azimuth_360\": 298.16992014696655, \"segment_direction\": \"east-west\"}, {\"fwd_azimuth_360\": 187.61493566908376, \"segment_direction\": \"north-south\"}, {\"fwd_azimuth_360\": 263.17169867006845, \"segment_direction\": \"inconclusive\"}, {\"fwd_azimuth_360\": 276.4442051533328, \"segment_direction\": \"east-west\"}, {\"fwd_azimuth_360\": 89.88926432837995, \"segment_direction\": \"east-west\"}, {\"fwd_azimuth_360\": 352.9289341688538, \"segment_direction\": \"north-south\"}, {\"fwd_azimuth_360\": 0.6436559996855061, \"segment_direction\": \"north-south\"}, {\"fwd_azimuth_360\": 269.8280290946689, \"segment_direction\": \"east-west\"}, {\"fwd_azimuth_360\": 88.17117870278507, \"segment_direction\": \"east-west\"}, {\"fwd_azimuth_360\": 302.07801465546135, \"segment_direction\": \"east-west\"}, {\"fwd_azimuth_360\": 90.26203667745052, \"segment_direction\": \"east-west\"}, {\"fwd_azimuth_360\": 286.244925881212, \"segment_direction\": \"east-west\"}, {\"fwd_azimuth_360\": 182.52386900544846, \"segment_direction\": \"north-south\"}, {\"fwd_azimuth_360\": 2.684789799745184, \"segment_direction\": \"north-south\"}, {\"fwd_azimuth_360\": 165.499657589347, \"segment_direction\": \"north-south\"}, {\"fwd_azimuth_360\": 84.2002926303963, \"segment_direction\": \"east-west\"}, {\"fwd_azimuth_360\": 52.0408038266277, \"segment_direction\": \"east-west\"}, {\"fwd_azimuth_360\": 149.07083071760928, \"segment_direction\": \"north-south\"}, {\"fwd_azimuth_360\": 207.71648240627107, \"segment_direction\": \"north-south\"}, {\"fwd_azimuth_360\": 293.33916680626544, \"segment_direction\": \"east-west\"}, {\"fwd_azimuth_360\": 92.30637166483005, \"segment_direction\": \"east-west\"}, {\"fwd_azimuth_360\": 318.7134505790394, \"segment_direction\": \"north-south\"}, {\"fwd_azimuth_360\": 119.63354953949334, \"segment_direction\": \"east-west\"}, {\"fwd_azimuth_360\": 49.8555677497941, \"segment_direction\": \"east-west\"}, {\"fwd_azimuth_360\": 344.6127323825871, \"segment_direction\": \"north-south\"}, {\"fwd_azimuth_360\": 100.03244919380413, \"segment_direction\": \"east-west\"}, {\"fwd_azimuth_360\": 165.64728255762506, \"segment_direction\": \"north-south\"}, {\"fwd_azimuth_360\": 321.5610977129169, \"segment_direction\": \"north-south\"}, {\"fwd_azimuth_360\": 260.9135918725454, \"segment_direction\": \"east-west\"}, {\"fwd_azimuth_360\": 58.010365945663864, \"segment_direction\": \"east-west\"}, {\"fwd_azimuth_360\": 232.53112258141067, \"segment_direction\": \"east-west\"}, {\"fwd_azimuth_360\": 223.38786362956094, \"segment_direction\": \"north-south\"}, {\"fwd_azimuth_360\": 302.7049941628377, \"segment_direction\": \"east-west\"}, {\"fwd_azimuth_360\": 149.95798716655486, \"segment_direction\": \"north-south\"}, {\"fwd_azimuth_360\": 37.74488348891496, \"segment_direction\": \"north-south\"}, {\"fwd_azimuth_360\": 180.4848565729079, \"segment_direction\": \"north-south\"}, {\"fwd_azimuth_360\": 311.3576068964364, \"segment_direction\": \"east-west\"}, {\"fwd_azimuth_360\": 263.64895046105516, \"segment_direction\": \"east-west\"}, {\"fwd_azimuth_360\": 60.38380527026391, \"segment_direction\": \"east-west\"}, {\"fwd_azimuth_360\": 153.8637530893011, \"segment_direction\": \"north-south\"}, {\"fwd_azimuth_360\": 93.37825524152828, \"segment_direction\": \"east-west\"}, {\"fwd_azimuth_360\": 180.66500031692323, \"segment_direction\": \"north-south\"}, {\"fwd_azimuth_360\": 0.47605883454762127, \"segment_direction\": \"north-south\"}, {\"fwd_azimuth_360\": 350.11518955482615, \"segment_direction\": \"north-south\"}, {\"fwd_azimuth_360\": 86.86237512210154, \"segment_direction\": \"east-west\"}, {\"fwd_azimuth_360\": 0.20599322257436747, \"segment_direction\": \"north-south\"}, {\"fwd_azimuth_360\": 342.8621804898566, \"segment_direction\": \"north-south\"}, {\"fwd_azimuth_360\": 185.92222390581077, \"segment_direction\": \"north-south\"}, {\"fwd_azimuth_360\": 359.94507788348034, \"segment_direction\": \"north-south\"}, {\"fwd_azimuth_360\": 269.6410199831819, \"segment_direction\": \"east-west\"}, {\"fwd_azimuth_360\": 310.7586201724507, \"segment_direction\": \"east-west\"}, {\"fwd_azimuth_360\": 32.099272904650874, \"segment_direction\": \"north-south\"}, {\"fwd_azimuth_360\": 141.16074009448994, \"segment_direction\": \"north-south\"}, {\"fwd_azimuth_360\": 98.15984806768114, \"segment_direction\": \"east-west\"}, {\"fwd_azimuth_360\": 359.8699658413539, \"segment_direction\": \"north-south\"}, {\"fwd_azimuth_360\": 220.454759581407, \"segment_direction\": \"north-south\"}, {\"fwd_azimuth_360\": 167.30133516791216, \"segment_direction\": \"north-south\"}, {\"fwd_azimuth_360\": 0.9777570825993768, \"segment_direction\": \"north-south\"}, {\"fwd_azimuth_360\": 267.9265300035269, \"segment_direction\": \"east-west\"}, {\"fwd_azimuth_360\": 149.16827484130272, \"segment_direction\": \"north-south\"}, {\"fwd_azimuth_360\": 355.3599903387803, \"segment_direction\": \"north-south\"}, {\"fwd_azimuth_360\": 209.6036917147045, \"segment_direction\": \"north-south\"}, {\"fwd_azimuth_360\": 65.18144620332527, \"segment_direction\": \"east-west\"}, {\"fwd_azimuth_360\": 59.27455133158376, \"segment_direction\": \"east-west\"}, {\"fwd_azimuth_360\": 179.57080746108338, \"segment_direction\": \"north-south\"}, {\"fwd_azimuth_360\": 68.4470094508043, \"segment_direction\": \"east-west\"}, {\"fwd_azimuth_360\": 146.05022750334223, \"segment_direction\": \"north-south\"}, {\"fwd_azimuth_360\": 67.55633547866975, \"segment_direction\": \"east-west\"}, {\"fwd_azimuth_360\": 301.1605793046744, \"segment_direction\": \"east-west\"}, {\"fwd_azimuth_360\": 109.11643025675338, \"segment_direction\": \"east-west\"}, {\"fwd_azimuth_360\": 57.06543828017, \"segment_direction\": \"east-west\"}, {\"fwd_azimuth_360\": 359.8837786924149, \"segment_direction\": \"north-south\"}, {\"fwd_azimuth_360\": 102.11923855671638, \"segment_direction\": \"east-west\"}, {\"fwd_azimuth_360\": 243.32614875778597, \"segment_direction\": \"east-west\"}, {\"fwd_azimuth_360\": 180.32850850299266, \"segment_direction\": \"north-south\"}, {\"fwd_azimuth_360\": 21.965249934692803, \"segment_direction\": \"north-south\"}, {\"fwd_azimuth_360\": 237.57401761149032, \"segment_direction\": \"east-west\"}, {\"fwd_azimuth_360\": 150.34824132295648, \"segment_direction\": \"north-south\"}, {\"fwd_azimuth_360\": 342.9473780740519, \"segment_direction\": \"north-south\"}, {\"fwd_azimuth_360\": 254.94973555332325, \"segment_direction\": \"east-west\"}, {\"fwd_azimuth_360\": 331.5073246867244, \"segment_direction\": \"north-south\"}, {\"fwd_azimuth_360\": 7.108546592443635, \"segment_direction\": \"north-south\"}, {\"fwd_azimuth_360\": 271.5035921026618, \"segment_direction\": \"east-west\"}, {\"fwd_azimuth_360\": 258.00825894574734, \"segment_direction\": \"east-west\"}, {\"fwd_azimuth_360\": 17.326824837481517, \"segment_direction\": \"north-south\"}, {\"fwd_azimuth_360\": 270.0546407922433, \"segment_direction\": \"east-west\"}, {\"fwd_azimuth_360\": 96.91972006836656, \"segment_direction\": \"east-west\"}, {\"fwd_azimuth_360\": 90.10024094926503, \"segment_direction\": \"east-west\"}, {\"fwd_azimuth_360\": 54.12657106830667, \"segment_direction\": \"east-west\"}, {\"fwd_azimuth_360\": 321.2488836588358, \"segment_direction\": \"north-south\"}, {\"fwd_azimuth_360\": 89.97187327177494, \"segment_direction\": \"east-west\"}, {\"fwd_azimuth_360\": 89.78811315401079, \"segment_direction\": \"east-west\"}, {\"fwd_azimuth_360\": 66.38640205604932, \"segment_direction\": \"east-west\"}, {\"fwd_azimuth_360\": 115.84324030422144, \"segment_direction\": \"east-west\"}, {\"fwd_azimuth_360\": 210.17835968730648, \"segment_direction\": \"north-south\"}, {\"fwd_azimuth_360\": 359.53428255797564, \"segment_direction\": \"north-south\"}, {\"fwd_azimuth_360\": 42.19306487036658, \"segment_direction\": \"north-south\"}, {\"fwd_azimuth_360\": 89.84360920629365, \"segment_direction\": \"east-west\"}, {\"fwd_azimuth_360\": 135.29674078638146, \"segment_direction\": \"north-south\"}, {\"fwd_azimuth_360\": 179.55012075902786, \"segment_direction\": \"north-south\"}, {\"fwd_azimuth_360\": 165.24200703758902, \"segment_direction\": \"north-south\"}, {\"fwd_azimuth_360\": 192.45659426352242, \"segment_direction\": \"north-south\"}, {\"fwd_azimuth_360\": 90.03522907329307, \"segment_direction\": \"east-west\"}, {\"fwd_azimuth_360\": 160.02497599149652, \"segment_direction\": \"inconclusive\"}, {\"fwd_azimuth_360\": 269.5405752273842, \"segment_direction\": \"east-west\"}, {\"fwd_azimuth_360\": 85.65201452698456, \"segment_direction\": \"east-west\"}, {\"fwd_azimuth_360\": 89.06195771243185, \"segment_direction\": \"east-west\"}, {\"fwd_azimuth_360\": 20.23559507782795, \"segment_direction\": \"north-south\"}, {\"fwd_azimuth_360\": 38.199722566728774, \"segment_direction\": \"north-south\"}, {\"fwd_azimuth_360\": 300.60997875517194, \"segment_direction\": \"east-west\"}, {\"fwd_azimuth_360\": 350.3464513249662, \"segment_direction\": \"north-south\"}, {\"fwd_azimuth_360\": 171.21320291926, \"segment_direction\": \"north-south\"}, {\"fwd_azimuth_360\": 89.78567069086503, \"segment_direction\": \"east-west\"}, {\"fwd_azimuth_360\": 279.7617897180461, \"segment_direction\": \"east-west\"}, {\"fwd_azimuth_360\": 187.48438296221536, \"segment_direction\": \"north-south\"}, {\"fwd_azimuth_360\": 68.42338498986928, \"segment_direction\": \"east-west\"}, {\"fwd_azimuth_360\": 109.27468504765139, \"segment_direction\": \"east-west\"}, {\"fwd_azimuth_360\": 6.530152921909581, \"segment_direction\": \"north-south\"}, {\"fwd_azimuth_360\": 3.5288223064265374, \"segment_direction\": \"north-south\"}, {\"fwd_azimuth_360\": 146.70070596032346, \"segment_direction\": \"north-south\"}, {\"fwd_azimuth_360\": 121.56928317712821, \"segment_direction\": \"east-west\"}, {\"fwd_azimuth_360\": 89.7934724666272, \"segment_direction\": \"east-west\"}, {\"fwd_azimuth_360\": 316.62796521338555, \"segment_direction\": \"east-west\"}, {\"fwd_azimuth_360\": 269.8058089176843, \"segment_direction\": \"east-west\"}, {\"fwd_azimuth_360\": 197.3517864998055, \"segment_direction\": \"north-south\"}, {\"fwd_azimuth_360\": 89.39598945638204, \"segment_direction\": \"east-west\"}, {\"fwd_azimuth_360\": 180.45344920009276, \"segment_direction\": \"north-south\"}, {\"fwd_azimuth_360\": 179.9496795944685, \"segment_direction\": \"north-south\"}, {\"fwd_azimuth_360\": 97.50968484731169, \"segment_direction\": \"east-west\"}, {\"fwd_azimuth_360\": 35.23937832052068, \"segment_direction\": \"north-south\"}, {\"fwd_azimuth_360\": 355.12056050777716, \"segment_direction\": \"north-south\"}, {\"fwd_azimuth_360\": 150.53601509145307, \"segment_direction\": \"north-south\"}, {\"fwd_azimuth_360\": 136.1986723446899, \"segment_direction\": \"east-west\"}, {\"fwd_azimuth_360\": 43.567705250038884, \"segment_direction\": \"north-south\"}, {\"fwd_azimuth_360\": 326.3153441307384, \"segment_direction\": \"north-south\"}, {\"fwd_azimuth_360\": 165.70106912347228, \"segment_direction\": \"north-south\"}, {\"fwd_azimuth_360\": 354.4443428792704, \"segment_direction\": \"north-south\"}, {\"fwd_azimuth_360\": 52.00170435592482, \"segment_direction\": \"east-west\"}, {\"fwd_azimuth_360\": 48.53597260079589, \"segment_direction\": \"east-west\"}, {\"fwd_azimuth_360\": 48.00396147407136, \"segment_direction\": \"east-west\"}, {\"fwd_azimuth_360\": 0.4903880691271087, \"segment_direction\": \"north-south\"}, {\"fwd_azimuth_360\": 267.7564004800014, \"segment_direction\": \"east-west\"}, {\"fwd_azimuth_360\": 289.2796984967625, \"segment_direction\": \"east-west\"}, {\"fwd_azimuth_360\": 6.114817216820259, \"segment_direction\": \"north-south\"}, {\"fwd_azimuth_360\": 334.63428141599604, \"segment_direction\": \"north-south\"}, {\"fwd_azimuth_360\": 269.14723499631407, \"segment_direction\": \"east-west\"}, {\"fwd_azimuth_360\": 358.863382876459, \"segment_direction\": \"north-south\"}, {\"fwd_azimuth_360\": 97.93726019971734, \"segment_direction\": \"east-west\"}, {\"fwd_azimuth_360\": 293.2400488719535, \"segment_direction\": \"east-west\"}, {\"fwd_azimuth_360\": 355.33055181441915, \"segment_direction\": \"north-south\"}, {\"fwd_azimuth_360\": 314.6691856329971, \"segment_direction\": \"east-west\"}, {\"fwd_azimuth_360\": 89.82920307553702, \"segment_direction\": \"east-west\"}, {\"fwd_azimuth_360\": 149.48506131212824, \"segment_direction\": \"north-south\"}, {\"fwd_azimuth_360\": 266.8180818944703, \"segment_direction\": \"east-west\"}, {\"fwd_azimuth_360\": 146.60135190696744, \"segment_direction\": \"north-south\"}, {\"fwd_azimuth_360\": 303.1882518813871, \"segment_direction\": \"east-west\"}, {\"fwd_azimuth_360\": 29.812546428059832, \"segment_direction\": \"north-south\"}, {\"fwd_azimuth_360\": 179.932422515309, \"segment_direction\": \"north-south\"}, {\"fwd_azimuth_360\": 88.08092705484907, \"segment_direction\": \"east-west\"}, {\"fwd_azimuth_360\": 359.8057397688784, \"segment_direction\": \"north-south\"}, {\"fwd_azimuth_360\": 89.54954874537165, \"segment_direction\": \"east-west\"}, {\"fwd_azimuth_360\": 18.633947398923343, \"segment_direction\": \"north-south\"}, {\"fwd_azimuth_360\": 191.9648928040598, \"segment_direction\": \"north-south\"}, {\"fwd_azimuth_360\": 101.3774181213429, \"segment_direction\": \"east-west\"}, {\"fwd_azimuth_360\": 269.7960039493083, \"segment_direction\": \"east-west\"}, {\"fwd_azimuth_360\": 171.98486655286374, \"segment_direction\": \"inconclusive\"}, {\"fwd_azimuth_360\": 301.6138986032679, \"segment_direction\": \"east-west\"}, {\"fwd_azimuth_360\": 56.01766435324542, \"segment_direction\": \"east-west\"}, {\"fwd_azimuth_360\": 59.35977342832135, \"segment_direction\": \"east-west\"}, {\"fwd_azimuth_360\": 204.70552060264689, \"segment_direction\": \"north-south\"}, {\"fwd_azimuth_360\": 208.1066700577249, \"segment_direction\": \"north-south\"}, {\"fwd_azimuth_360\": 143.91528018166187, \"segment_direction\": \"north-south\"}, {\"fwd_azimuth_360\": 0.36301007417224196, \"segment_direction\": \"north-south\"}, {\"fwd_azimuth_360\": 89.91488439156444, \"segment_direction\": \"east-west\"}, {\"fwd_azimuth_360\": 22.334963720653242, \"segment_direction\": \"north-south\"}, {\"fwd_azimuth_360\": 229.43825411492713, \"segment_direction\": \"east-west\"}, {\"fwd_azimuth_360\": 137.32206799609332, \"segment_direction\": \"north-south\"}, {\"fwd_azimuth_360\": 334.31280894772107, \"segment_direction\": \"north-south\"}, {\"fwd_azimuth_360\": 25.93703909990703, \"segment_direction\": \"north-south\"}, {\"fwd_azimuth_360\": 89.48790179480858, \"segment_direction\": \"east-west\"}, {\"fwd_azimuth_360\": 235.67418604281573, \"segment_direction\": \"east-west\"}, {\"fwd_azimuth_360\": 78.35040976044034, \"segment_direction\": \"east-west\"}, {\"fwd_azimuth_360\": 34.70718947637063, \"segment_direction\": \"north-south\"}, {\"fwd_azimuth_360\": 286.1828793891179, \"segment_direction\": \"east-west\"}, {\"fwd_azimuth_360\": 192.45659426352242, \"segment_direction\": \"north-south\"}, {\"fwd_azimuth_360\": 99.16642012587168, \"segment_direction\": \"east-west\"}, {\"fwd_azimuth_360\": 310.12898634607865, \"segment_direction\": \"east-west\"}, {\"fwd_azimuth_360\": 170.94031130338652, \"segment_direction\": \"north-south\"}, {\"fwd_azimuth_360\": 90.19331346463905, \"segment_direction\": \"east-west\"}, {\"fwd_azimuth_360\": 90.08518471523405, \"segment_direction\": \"east-west\"}, {\"fwd_azimuth_360\": 88.3850638789763, \"segment_direction\": \"east-west\"}, {\"fwd_azimuth_360\": 43.96024409861475, \"segment_direction\": \"north-south\"}, {\"fwd_azimuth_360\": 0.2383888285000767, \"segment_direction\": \"north-south\"}, {\"fwd_azimuth_360\": 129.81047674535287, \"segment_direction\": \"east-west\"}, {\"fwd_azimuth_360\": 73.47277612860375, \"segment_direction\": \"east-west\"}, {\"fwd_azimuth_360\": 55.106793550820214, \"segment_direction\": \"east-west\"}, {\"fwd_azimuth_360\": 22.393585365483865, \"segment_direction\": \"north-south\"}, {\"fwd_azimuth_360\": 67.51860479855065, \"segment_direction\": \"east-west\"}, {\"fwd_azimuth_360\": 41.783398768555415, \"segment_direction\": \"north-south\"}, {\"fwd_azimuth_360\": 240.40664055348338, \"segment_direction\": \"east-west\"}, {\"fwd_azimuth_360\": 279.68331142039284, \"segment_direction\": \"east-west\"}, {\"fwd_azimuth_360\": 323.94624046266324, \"segment_direction\": \"north-south\"}, {\"fwd_azimuth_360\": 135.61894728633865, \"segment_direction\": \"east-west\"}, {\"fwd_azimuth_360\": 269.72867218568297, \"segment_direction\": \"east-west\"}, {\"fwd_azimuth_360\": 311.48953551967026, \"segment_direction\": \"east-west\"}, {\"fwd_azimuth_360\": 239.56987724053923, \"segment_direction\": \"east-west\"}, {\"fwd_azimuth_360\": 55.7518138874662, \"segment_direction\": \"east-west\"}, {\"fwd_azimuth_360\": 355.74384115214, \"segment_direction\": \"north-south\"}, {\"fwd_azimuth_360\": 85.87698886736219, \"segment_direction\": \"east-west\"}, {\"fwd_azimuth_360\": 83.74688081462443, \"segment_direction\": \"east-west\"}, {\"fwd_azimuth_360\": 75.76101739560696, \"segment_direction\": \"east-west\"}, {\"fwd_azimuth_360\": 39.700406271396034, \"segment_direction\": \"north-south\"}, {\"fwd_azimuth_360\": 304.630471635086, \"segment_direction\": \"east-west\"}, {\"fwd_azimuth_360\": 199.81599885096676, \"segment_direction\": \"north-south\"}, {\"fwd_azimuth_360\": 80.87218807845632, \"segment_direction\": \"east-west\"}, {\"fwd_azimuth_360\": 347.01849868734183, \"segment_direction\": \"north-south\"}, {\"fwd_azimuth_360\": 294.98171171783656, \"segment_direction\": \"east-west\"}, {\"fwd_azimuth_360\": 87.32018882284677, \"segment_direction\": \"east-west\"}, {\"fwd_azimuth_360\": 93.16753050688988, \"segment_direction\": \"east-west\"}, {\"fwd_azimuth_360\": 89.48317118691547, \"segment_direction\": \"east-west\"}, {\"fwd_azimuth_360\": 270.0353326103809, \"segment_direction\": \"east-west\"}, {\"fwd_azimuth_360\": 40.92813410410101, \"segment_direction\": \"north-south\"}, {\"fwd_azimuth_360\": 109.75424418721842, \"segment_direction\": \"east-west\"}, {\"fwd_azimuth_360\": 89.60611053630494, \"segment_direction\": \"east-west\"}, {\"fwd_azimuth_360\": 90.1862929529726, \"segment_direction\": \"east-west\"}, {\"fwd_azimuth_360\": 57.48348740325059, \"segment_direction\": \"east-west\"}, {\"fwd_azimuth_360\": 13.744513486395148, \"segment_direction\": \"north-south\"}, {\"fwd_azimuth_360\": 157.05645043440322, \"segment_direction\": \"north-south\"}, {\"fwd_azimuth_360\": 96.51839416995332, \"segment_direction\": \"east-west\"}, {\"fwd_azimuth_360\": 71.31731070261976, \"segment_direction\": \"east-west\"}, {\"fwd_azimuth_360\": 320.16446780181724, \"segment_direction\": \"north-south\"}, {\"fwd_azimuth_360\": 49.5123465953865, \"segment_direction\": \"east-west\"}, {\"fwd_azimuth_360\": 89.96421771764446, \"segment_direction\": \"east-west\"}, {\"fwd_azimuth_360\": 0.042377527411286926, \"segment_direction\": \"north-south\"}, {\"fwd_azimuth_360\": 83.52567447577023, \"segment_direction\": \"east-west\"}, {\"fwd_azimuth_360\": 282.77120223062985, \"segment_direction\": \"east-west\"}, {\"fwd_azimuth_360\": 298.0352307000731, \"segment_direction\": \"east-west\"}, {\"fwd_azimuth_360\": 133.45156799280488, \"segment_direction\": \"east-west\"}, {\"fwd_azimuth_360\": 260.91148456242865, \"segment_direction\": \"east-west\"}, {\"fwd_azimuth_360\": 89.81887123150689, \"segment_direction\": \"east-west\"}, {\"fwd_azimuth_360\": 325.77032158470064, \"segment_direction\": \"north-south\"}, {\"fwd_azimuth_360\": 38.19020040722833, \"segment_direction\": \"north-south\"}, {\"fwd_azimuth_360\": 94.23321441290119, \"segment_direction\": \"east-west\"}, {\"fwd_azimuth_360\": 150.4149960090833, \"segment_direction\": \"north-south\"}, {\"fwd_azimuth_360\": 239.5001361470852, \"segment_direction\": \"east-west\"}, {\"fwd_azimuth_360\": 77.67054336016166, \"segment_direction\": \"east-west\"}, {\"fwd_azimuth_360\": 52.11848435087696, \"segment_direction\": \"east-west\"}, {\"fwd_azimuth_360\": 59.64582242844757, \"segment_direction\": \"east-west\"}, {\"fwd_azimuth_360\": 103.00927158419009, \"segment_direction\": \"east-west\"}, {\"fwd_azimuth_360\": 324.9089918633274, \"segment_direction\": \"north-south\"}, {\"fwd_azimuth_360\": 338.1434917470744, \"segment_direction\": \"north-south\"}, {\"fwd_azimuth_360\": 180.57214881657774, \"segment_direction\": \"north-south\"}, {\"fwd_azimuth_360\": 15.51107205622776, \"segment_direction\": \"north-south\"}, {\"fwd_azimuth_360\": 330.96222729158916, \"segment_direction\": \"north-south\"}, {\"fwd_azimuth_360\": 359.8146454471051, \"segment_direction\": \"north-south\"}, {\"fwd_azimuth_360\": 176.6650271979872, \"segment_direction\": \"north-south\"}, {\"fwd_azimuth_360\": 147.80544487822368, \"segment_direction\": \"north-south\"}, {\"fwd_azimuth_360\": 184.65033047864534, \"segment_direction\": \"north-south\"}, {\"fwd_azimuth_360\": 240.21770361106576, \"segment_direction\": \"east-west\"}, {\"fwd_azimuth_360\": 75.3815640882361, \"segment_direction\": \"east-west\"}, {\"fwd_azimuth_360\": 162.4783802634439, \"segment_direction\": \"north-south\"}, {\"fwd_azimuth_360\": 303.00209562470116, \"segment_direction\": \"east-west\"}, {\"fwd_azimuth_360\": 89.17234022868762, \"segment_direction\": \"east-west\"}, {\"fwd_azimuth_360\": 316.4619600935793, \"segment_direction\": \"north-south\"}, {\"fwd_azimuth_360\": 49.62733490262885, \"segment_direction\": \"east-west\"}, {\"fwd_azimuth_360\": 43.535129897927206, \"segment_direction\": \"north-south\"}, {\"fwd_azimuth_360\": 89.76993772095877, \"segment_direction\": \"east-west\"}, {\"fwd_azimuth_360\": 179.1723118783857, \"segment_direction\": \"north-south\"}, {\"fwd_azimuth_360\": 45.26597036965773, \"segment_direction\": \"north-south\"}, {\"fwd_azimuth_360\": 331.423555317543, \"segment_direction\": \"north-south\"}, {\"fwd_azimuth_360\": 174.16469701931146, \"segment_direction\": \"north-south\"}, {\"fwd_azimuth_360\": 23.67122771578933, \"segment_direction\": \"north-south\"}, {\"fwd_azimuth_360\": 123.1624358639285, \"segment_direction\": \"east-west\"}, {\"fwd_azimuth_360\": 203.78370469009292, \"segment_direction\": \"north-south\"}, {\"fwd_azimuth_360\": 28.072907834045342, \"segment_direction\": \"north-south\"}, {\"fwd_azimuth_360\": 20.005833959920814, \"segment_direction\": \"north-south\"}, {\"fwd_azimuth_360\": 7.975553811281634, \"segment_direction\": \"north-south\"}, {\"fwd_azimuth_360\": 69.62495555044015, \"segment_direction\": \"east-west\"}, {\"fwd_azimuth_360\": 210.6508288038865, \"segment_direction\": \"north-south\"}, {\"fwd_azimuth_360\": 87.3246376906, \"segment_direction\": \"east-west\"}, {\"fwd_azimuth_360\": 125.7232565140174, \"segment_direction\": \"east-west\"}, {\"fwd_azimuth_360\": 89.96457375229791, \"segment_direction\": \"east-west\"}, {\"fwd_azimuth_360\": 226.03050541106623, \"segment_direction\": \"east-west\"}, {\"fwd_azimuth_360\": 179.58898217633953, \"segment_direction\": \"north-south\"}, {\"fwd_azimuth_360\": 269.53173643547996, \"segment_direction\": \"east-west\"}, {\"fwd_azimuth_360\": 49.56980871315278, \"segment_direction\": \"east-west\"}, {\"fwd_azimuth_360\": 319.84045569362155, \"segment_direction\": \"north-south\"}, {\"fwd_azimuth_360\": 136.2770256474124, \"segment_direction\": \"north-south\"}, {\"fwd_azimuth_360\": 3.5504643087320895, \"segment_direction\": \"north-south\"}, {\"fwd_azimuth_360\": 155.09493414899035, \"segment_direction\": \"north-south\"}, {\"fwd_azimuth_360\": 92.17502786507573, \"segment_direction\": \"east-west\"}, {\"fwd_azimuth_360\": 89.60740107781173, \"segment_direction\": \"east-west\"}, {\"fwd_azimuth_360\": 102.23100376203864, \"segment_direction\": \"east-west\"}, {\"fwd_azimuth_360\": 119.28578649963636, \"segment_direction\": \"east-west\"}, {\"fwd_azimuth_360\": 227.54990060600682, \"segment_direction\": \"east-west\"}, {\"fwd_azimuth_360\": 91.4110048735243, \"segment_direction\": \"east-west\"}, {\"fwd_azimuth_360\": 58.989818138387065, \"segment_direction\": \"east-west\"}, {\"fwd_azimuth_360\": 283.0666399105488, \"segment_direction\": \"east-west\"}, {\"fwd_azimuth_360\": 332.27166247838977, \"segment_direction\": \"north-south\"}, {\"fwd_azimuth_360\": 95.69053687406347, \"segment_direction\": \"east-west\"}, {\"fwd_azimuth_360\": 58.740937818064594, \"segment_direction\": \"east-west\"}, {\"fwd_azimuth_360\": 171.98486655286374, \"segment_direction\": \"inconclusive\"}, {\"fwd_azimuth_360\": 179.92619542645798, \"segment_direction\": \"north-south\"}, {\"fwd_azimuth_360\": 75.85156598051464, \"segment_direction\": \"east-west\"}, {\"fwd_azimuth_360\": 312.58066674481745, \"segment_direction\": \"east-west\"}, {\"fwd_azimuth_360\": 44.98048512537334, \"segment_direction\": \"north-south\"}, {\"fwd_azimuth_360\": 87.06656891771797, \"segment_direction\": \"east-west\"}, {\"fwd_azimuth_360\": 298.2492136293233, \"segment_direction\": \"east-west\"}, {\"fwd_azimuth_360\": 349.54874339528163, \"segment_direction\": \"north-south\"}, {\"fwd_azimuth_360\": 219.1038891074909, \"segment_direction\": \"north-south\"}, {\"fwd_azimuth_360\": 78.17705144620264, \"segment_direction\": \"east-west\"}, {\"fwd_azimuth_360\": 179.96477703973804, \"segment_direction\": \"north-south\"}, {\"fwd_azimuth_360\": 40.770148776899134, \"segment_direction\": \"north-south\"}, {\"fwd_azimuth_360\": 113.05099163622467, \"segment_direction\": \"east-west\"}, {\"fwd_azimuth_360\": 105.17622194830727, \"segment_direction\": \"east-west\"}, {\"fwd_azimuth_360\": 130.11487153817137, \"segment_direction\": \"east-west\"}, {\"fwd_azimuth_360\": 126.38425225500993, \"segment_direction\": \"east-west\"}, {\"fwd_azimuth_360\": 26.95314329020383, \"segment_direction\": \"north-south\"}, {\"fwd_azimuth_360\": 101.25865197490522, \"segment_direction\": \"east-west\"}, {\"fwd_azimuth_360\": 89.85855719709699, \"segment_direction\": \"east-west\"}, {\"fwd_azimuth_360\": 89.49137536266797, \"segment_direction\": \"east-west\"}, {\"fwd_azimuth_360\": 216.2571107586047, \"segment_direction\": \"north-south\"}, {\"fwd_azimuth_360\": 323.70721403679767, \"segment_direction\": \"north-south\"}, {\"fwd_azimuth_360\": 224.65191555360855, \"segment_direction\": \"east-west\"}, {\"fwd_azimuth_360\": 17.784935835705504, \"segment_direction\": \"north-south\"}, {\"fwd_azimuth_360\": 341.37414091341196, \"segment_direction\": \"north-south\"}, {\"fwd_azimuth_360\": 40.270328787854176, \"segment_direction\": \"north-south\"}, {\"fwd_azimuth_360\": 180.26235843162038, \"segment_direction\": \"north-south\"}, {\"fwd_azimuth_360\": 266.2900704543031, \"segment_direction\": \"east-west\"}, {\"fwd_azimuth_360\": 86.31059025173008, \"segment_direction\": \"east-west\"}, {\"fwd_azimuth_360\": 359.1506002186704, \"segment_direction\": \"north-south\"}, {\"fwd_azimuth_360\": 124.39096181927326, \"segment_direction\": \"east-west\"}, {\"fwd_azimuth_360\": 123.46911304247439, \"segment_direction\": \"east-west\"}, {\"fwd_azimuth_360\": 338.8103896052925, \"segment_direction\": \"north-south\"}, {\"fwd_azimuth_360\": 148.8168770917531, \"segment_direction\": \"north-south\"}, {\"fwd_azimuth_360\": 110.7119002092732, \"segment_direction\": \"east-west\"}, {\"fwd_azimuth_360\": 71.45786889872498, \"segment_direction\": \"east-west\"}, {\"fwd_azimuth_360\": 315.4064665110803, \"segment_direction\": \"east-west\"}, {\"fwd_azimuth_360\": 90.33767186965052, \"segment_direction\": \"east-west\"}, {\"fwd_azimuth_360\": 50.21581691547176, \"segment_direction\": \"east-west\"}, {\"fwd_azimuth_360\": 61.861452572094585, \"segment_direction\": \"east-west\"}, {\"fwd_azimuth_360\": 72.15902668494621, \"segment_direction\": \"inconclusive\"}, {\"fwd_azimuth_360\": 155.15164310451138, \"segment_direction\": \"north-south\"}, {\"fwd_azimuth_360\": 180.79721539721507, \"segment_direction\": \"north-south\"}, {\"fwd_azimuth_360\": 179.67330119168042, \"segment_direction\": \"north-south\"}, {\"fwd_azimuth_360\": 0.033369736560964994, \"segment_direction\": \"north-south\"}, {\"fwd_azimuth_360\": 135.0510476635721, \"segment_direction\": \"north-south\"}, {\"fwd_azimuth_360\": 346.14478630910276, \"segment_direction\": \"north-south\"}, {\"fwd_azimuth_360\": 89.64921658515544, \"segment_direction\": \"east-west\"}, {\"fwd_azimuth_360\": 38.01623836182898, \"segment_direction\": \"north-south\"}, {\"fwd_azimuth_360\": 180.018118743887, \"segment_direction\": \"north-south\"}, {\"fwd_azimuth_360\": 89.75933454079271, \"segment_direction\": \"east-west\"}, {\"fwd_azimuth_360\": 3.7985701644714176, \"segment_direction\": \"north-south\"}, {\"fwd_azimuth_360\": 89.61404715672789, \"segment_direction\": \"east-west\"}, {\"fwd_azimuth_360\": 131.06306650865838, \"segment_direction\": \"east-west\"}, {\"fwd_azimuth_360\": 27.935434095169732, \"segment_direction\": \"north-south\"}, {\"fwd_azimuth_360\": 271.44343494705697, \"segment_direction\": \"east-west\"}, {\"fwd_azimuth_360\": 358.00265925343, \"segment_direction\": \"north-south\"}, {\"fwd_azimuth_360\": 111.3136996389518, \"segment_direction\": \"east-west\"}, {\"fwd_azimuth_360\": 98.47405285319921, \"segment_direction\": \"east-west\"}, {\"fwd_azimuth_360\": 101.64732130647803, \"segment_direction\": \"east-west\"}, {\"fwd_azimuth_360\": 36.493166270970704, \"segment_direction\": \"north-south\"}, {\"fwd_azimuth_360\": 206.74865593158836, \"segment_direction\": \"north-south\"}, {\"fwd_azimuth_360\": 350.63269392014337, \"segment_direction\": \"north-south\"}, {\"fwd_azimuth_360\": 0.24059620521531286, \"segment_direction\": \"north-south\"}, {\"fwd_azimuth_360\": 181.11068296990507, \"segment_direction\": \"north-south\"}, {\"fwd_azimuth_360\": 79.82072240542512, \"segment_direction\": \"east-west\"}, {\"fwd_azimuth_360\": 359.9534778078937, \"segment_direction\": \"north-south\"}, {\"fwd_azimuth_360\": 121.59756911102488, \"segment_direction\": \"east-west\"}, {\"fwd_azimuth_360\": 38.6939770780705, \"segment_direction\": \"north-south\"}, {\"fwd_azimuth_360\": 302.3914884462543, \"segment_direction\": \"east-west\"}, {\"fwd_azimuth_360\": 81.35915888306585, \"segment_direction\": \"inconclusive\"}, {\"fwd_azimuth_360\": 180.36952955426133, \"segment_direction\": \"north-south\"}, {\"fwd_azimuth_360\": 284.0358833269594, \"segment_direction\": \"east-west\"}, {\"fwd_azimuth_360\": 266.6422171560379, \"segment_direction\": \"east-west\"}, {\"fwd_azimuth_360\": 187.89215345930768, \"segment_direction\": \"north-south\"}, {\"fwd_azimuth_360\": 145.98076238818842, \"segment_direction\": \"north-south\"}, {\"fwd_azimuth_360\": 317.75313421163287, \"segment_direction\": \"inconclusive\"}, {\"fwd_azimuth_360\": 177.78262547901363, \"segment_direction\": \"north-south\"}, {\"fwd_azimuth_360\": 196.37218778995467, \"segment_direction\": \"north-south\"}, {\"fwd_azimuth_360\": 123.17763018411881, \"segment_direction\": \"east-west\"}, {\"fwd_azimuth_360\": 293.06287514995137, \"segment_direction\": \"east-west\"}, {\"fwd_azimuth_360\": 41.263172051354495, \"segment_direction\": \"north-south\"}, {\"fwd_azimuth_360\": 91.2173239066503, \"segment_direction\": \"east-west\"}, {\"fwd_azimuth_360\": 359.7870590935149, \"segment_direction\": \"north-south\"}, {\"fwd_azimuth_360\": 269.4330189282507, \"segment_direction\": \"east-west\"}, {\"fwd_azimuth_360\": 86.05444277151652, \"segment_direction\": \"east-west\"}, {\"fwd_azimuth_360\": 207.5196676356868, \"segment_direction\": \"north-south\"}, {\"fwd_azimuth_360\": 1.1270743433422792, \"segment_direction\": \"north-south\"}, {\"fwd_azimuth_360\": 159.9072366465227, \"segment_direction\": \"inconclusive\"}, {\"fwd_azimuth_360\": 0.30038238627372543, \"segment_direction\": \"north-south\"}, {\"fwd_azimuth_360\": 359.64579822237334, \"segment_direction\": \"north-south\"}, {\"fwd_azimuth_360\": 28.299601663594974, \"segment_direction\": \"north-south\"}, {\"fwd_azimuth_360\": 87.96549839407616, \"segment_direction\": \"east-west\"}, {\"fwd_azimuth_360\": 98.3020988867934, \"segment_direction\": \"east-west\"}, {\"fwd_azimuth_360\": 270.02536152103823, \"segment_direction\": \"east-west\"}, {\"fwd_azimuth_360\": 312.1103392522932, \"segment_direction\": \"east-west\"}, {\"fwd_azimuth_360\": 89.76691255752382, \"segment_direction\": \"east-west\"}, {\"fwd_azimuth_360\": 304.1461127585519, \"segment_direction\": \"east-west\"}, {\"fwd_azimuth_360\": 291.61648559456575, \"segment_direction\": \"east-west\"}, {\"fwd_azimuth_360\": 14.380454220002333, \"segment_direction\": \"north-south\"}, {\"fwd_azimuth_360\": 321.27209830886335, \"segment_direction\": \"north-south\"}, {\"fwd_azimuth_360\": 126.83626560971315, \"segment_direction\": \"east-west\"}, {\"fwd_azimuth_360\": 122.78996149524335, \"segment_direction\": \"east-west\"}, {\"fwd_azimuth_360\": 38.01623842693779, \"segment_direction\": \"north-south\"}, {\"fwd_azimuth_360\": 11.677887435663939, \"segment_direction\": \"north-south\"}, {\"fwd_azimuth_360\": 357.4984498278132, \"segment_direction\": \"north-south\"}, {\"fwd_azimuth_360\": 63.39101913278657, \"segment_direction\": \"east-west\"}, {\"fwd_azimuth_360\": 270.4984419506351, \"segment_direction\": \"east-west\"}, {\"fwd_azimuth_360\": 284.3430986209066, \"segment_direction\": \"east-west\"}, {\"fwd_azimuth_360\": 246.42228818504333, \"segment_direction\": \"east-west\"}, {\"fwd_azimuth_360\": 307.08772891266284, \"segment_direction\": \"east-west\"}, {\"fwd_azimuth_360\": 38.533607470102545, \"segment_direction\": \"north-south\"}, {\"fwd_azimuth_360\": 355.8097022503913, \"segment_direction\": \"north-south\"}, {\"fwd_azimuth_360\": 97.09869090679342, \"segment_direction\": \"east-west\"}, {\"fwd_azimuth_360\": 25.17538615494216, \"segment_direction\": \"north-south\"}, {\"fwd_azimuth_360\": 339.9078043719822, \"segment_direction\": \"north-south\"}, {\"fwd_azimuth_360\": 178.34859911754518, \"segment_direction\": \"north-south\"}, {\"fwd_azimuth_360\": 83.42437614685771, \"segment_direction\": \"east-west\"}, {\"fwd_azimuth_360\": 346.1695763072658, \"segment_direction\": \"north-south\"}, {\"fwd_azimuth_360\": 59.345709946093855, \"segment_direction\": \"east-west\"}, {\"fwd_azimuth_360\": 359.8582230355128, \"segment_direction\": \"north-south\"}, {\"fwd_azimuth_360\": 30.969416460526247, \"segment_direction\": \"north-south\"}, {\"fwd_azimuth_360\": 359.90440388295684, \"segment_direction\": \"north-south\"}, {\"fwd_azimuth_360\": 359.5207518157874, \"segment_direction\": \"north-south\"}, {\"fwd_azimuth_360\": 68.75120880222157, \"segment_direction\": \"east-west\"}, {\"fwd_azimuth_360\": 85.9949626562591, \"segment_direction\": \"inconclusive\"}, {\"fwd_azimuth_360\": 90.57178316502193, \"segment_direction\": \"east-west\"}, {\"fwd_azimuth_360\": 205.4939308418285, \"segment_direction\": \"inconclusive\"}, {\"fwd_azimuth_360\": 90.05101290061815, \"segment_direction\": \"east-west\"}, {\"fwd_azimuth_360\": 113.12840639140823, \"segment_direction\": \"east-west\"}, {\"fwd_azimuth_360\": 90.55842774278057, \"segment_direction\": \"east-west\"}, {\"fwd_azimuth_360\": 135.59179843265852, \"segment_direction\": \"east-west\"}, {\"fwd_azimuth_360\": 306.80676996834046, \"segment_direction\": \"east-west\"}, {\"fwd_azimuth_360\": 99.29786180145327, \"segment_direction\": \"east-west\"}, {\"fwd_azimuth_360\": 291.09722177798415, \"segment_direction\": \"east-west\"}, {\"fwd_azimuth_360\": 6.323822630111168, \"segment_direction\": \"north-south\"}, {\"fwd_azimuth_360\": 145.7955542113886, \"segment_direction\": \"north-south\"}, {\"fwd_azimuth_360\": 18.356145997402844, \"segment_direction\": \"north-south\"}, {\"fwd_azimuth_360\": 89.88357024239451, \"segment_direction\": \"east-west\"}, {\"fwd_azimuth_360\": 66.8628839754282, \"segment_direction\": \"east-west\"}, {\"fwd_azimuth_360\": 319.84045569362155, \"segment_direction\": \"north-south\"}, {\"fwd_azimuth_360\": 80.08691539305903, \"segment_direction\": \"east-west\"}, {\"fwd_azimuth_360\": 89.85802852530904, \"segment_direction\": \"east-west\"}, {\"fwd_azimuth_360\": 58.514153058907496, \"segment_direction\": \"east-west\"}, {\"fwd_azimuth_360\": 88.05600780912567, \"segment_direction\": \"east-west\"}, {\"fwd_azimuth_360\": 123.26674248835829, \"segment_direction\": \"east-west\"}, {\"fwd_azimuth_360\": 274.31247546397157, \"segment_direction\": \"east-west\"}, {\"fwd_azimuth_360\": 176.67667135150774, \"segment_direction\": \"north-south\"}, {\"fwd_azimuth_360\": 79.24858403736917, \"segment_direction\": \"east-west\"}, {\"fwd_azimuth_360\": 338.04737409703193, \"segment_direction\": \"north-south\"}, {\"fwd_azimuth_360\": 315.20760360831935, \"segment_direction\": \"north-south\"}, {\"fwd_azimuth_360\": 45.82782909163801, \"segment_direction\": \"east-west\"}, {\"fwd_azimuth_360\": 179.9187000724791, \"segment_direction\": \"north-south\"}, {\"fwd_azimuth_360\": 154.06589211345513, \"segment_direction\": \"north-south\"}, {\"fwd_azimuth_360\": 307.21434891984075, \"segment_direction\": \"east-west\"}, {\"fwd_azimuth_360\": 292.9075217750428, \"segment_direction\": \"east-west\"}, {\"fwd_azimuth_360\": 306.9239953913615, \"segment_direction\": \"east-west\"}, {\"fwd_azimuth_360\": 32.53762758101283, \"segment_direction\": \"north-south\"}, {\"fwd_azimuth_360\": 315.91326298479703, \"segment_direction\": \"east-west\"}, {\"fwd_azimuth_360\": 345.8130263667301, \"segment_direction\": \"north-south\"}, {\"fwd_azimuth_360\": 285.2276800173884, \"segment_direction\": \"east-west\"}, {\"fwd_azimuth_360\": 323.6541938303511, \"segment_direction\": \"inconclusive\"}, {\"fwd_azimuth_360\": 89.6756988728894, \"segment_direction\": \"east-west\"}, {\"fwd_azimuth_360\": 217.24031112963, \"segment_direction\": \"north-south\"}, {\"fwd_azimuth_360\": 135.22105082644305, \"segment_direction\": \"north-south\"}, {\"fwd_azimuth_360\": 200.79071042281186, \"segment_direction\": \"north-south\"}, {\"fwd_azimuth_360\": 309.98415774345983, \"segment_direction\": \"east-west\"}, {\"fwd_azimuth_360\": 311.2071789320958, \"segment_direction\": \"east-west\"}, {\"fwd_azimuth_360\": 70.65663209347001, \"segment_direction\": \"east-west\"}, {\"fwd_azimuth_360\": 4.989107413419588, \"segment_direction\": \"north-south\"}, {\"fwd_azimuth_360\": 169.5986836225703, \"segment_direction\": \"north-south\"}, {\"fwd_azimuth_360\": 67.08371327050905, \"segment_direction\": \"east-west\"}, {\"fwd_azimuth_360\": 291.45061966051117, \"segment_direction\": \"east-west\"}, {\"fwd_azimuth_360\": 87.65033261776448, \"segment_direction\": \"east-west\"}, {\"fwd_azimuth_360\": 209.4603632827742, \"segment_direction\": \"north-south\"}, {\"fwd_azimuth_360\": 93.04972039021636, \"segment_direction\": \"east-west\"}, {\"fwd_azimuth_360\": 221.3472689161539, \"segment_direction\": \"north-south\"}, {\"fwd_azimuth_360\": 332.5183897056541, \"segment_direction\": \"north-south\"}, {\"fwd_azimuth_360\": 90.51380353470458, \"segment_direction\": \"east-west\"}, {\"fwd_azimuth_360\": 196.8288964108451, \"segment_direction\": \"north-south\"}, {\"fwd_azimuth_360\": 125.79141901875519, \"segment_direction\": \"east-west\"}, {\"fwd_azimuth_360\": 350.364695637098, \"segment_direction\": \"north-south\"}, {\"fwd_azimuth_360\": 180.03257077791187, \"segment_direction\": \"north-south\"}, {\"fwd_azimuth_360\": 180.2001949007359, \"segment_direction\": \"north-south\"}, {\"fwd_azimuth_360\": 322.2683763997794, \"segment_direction\": \"north-south\"}, {\"fwd_azimuth_360\": 90.43908212990733, \"segment_direction\": \"east-west\"}, {\"fwd_azimuth_360\": 151.0283582425997, \"segment_direction\": \"north-south\"}, {\"fwd_azimuth_360\": 329.12130382230805, \"segment_direction\": \"north-south\"}, {\"fwd_azimuth_360\": 356.1664587383215, \"segment_direction\": \"north-south\"}, {\"fwd_azimuth_360\": 57.88103359743225, \"segment_direction\": \"east-west\"}, {\"fwd_azimuth_360\": 90.3005640954408, \"segment_direction\": \"east-west\"}, {\"fwd_azimuth_360\": 180.1309906994588, \"segment_direction\": \"north-south\"}, {\"fwd_azimuth_360\": 270.332607930967, \"segment_direction\": \"east-west\"}, {\"fwd_azimuth_360\": 179.0038908379486, \"segment_direction\": \"inconclusive\"}, {\"fwd_azimuth_360\": 180.49120267249123, \"segment_direction\": \"north-south\"}, {\"fwd_azimuth_360\": 69.75285927562092, \"segment_direction\": \"east-west\"}, {\"fwd_azimuth_360\": 137.0222925239965, \"segment_direction\": \"north-south\"}, {\"fwd_azimuth_360\": 295.47079746100144, \"segment_direction\": \"east-west\"}, {\"fwd_azimuth_360\": 359.29449322731006, \"segment_direction\": \"north-south\"}, {\"fwd_azimuth_360\": 239.9377297905974, \"segment_direction\": \"east-west\"}, {\"fwd_azimuth_360\": 111.81023100940465, \"segment_direction\": \"east-west\"}, {\"fwd_azimuth_360\": 326.60313195076725, \"segment_direction\": \"north-south\"}, {\"fwd_azimuth_360\": 129.1540299766605, \"segment_direction\": \"east-west\"}, {\"fwd_azimuth_360\": 126.64349414810313, \"segment_direction\": \"east-west\"}, {\"fwd_azimuth_360\": 199.78705331213737, \"segment_direction\": \"north-south\"}, {\"fwd_azimuth_360\": 96.61197558995944, \"segment_direction\": \"east-west\"}, {\"fwd_azimuth_360\": 248.08336315592217, \"segment_direction\": \"east-west\"}, {\"fwd_azimuth_360\": 300.4493584059202, \"segment_direction\": \"east-west\"}, {\"fwd_azimuth_360\": 82.39204690208113, \"segment_direction\": \"east-west\"}, {\"fwd_azimuth_360\": 2.54315737212462, \"segment_direction\": \"north-south\"}, {\"fwd_azimuth_360\": 221.98476443275993, \"segment_direction\": \"north-south\"}, {\"fwd_azimuth_360\": 158.94542017289518, \"segment_direction\": \"north-south\"}, {\"fwd_azimuth_360\": 28.38212703458248, \"segment_direction\": \"north-south\"}, {\"fwd_azimuth_360\": 6.134298243497545, \"segment_direction\": \"north-south\"}, {\"fwd_azimuth_360\": 82.96099115520157, \"segment_direction\": \"east-west\"}, {\"fwd_azimuth_360\": 154.89195233306458, \"segment_direction\": \"north-south\"}, {\"fwd_azimuth_360\": 340.7671518631796, \"segment_direction\": \"north-south\"}, {\"fwd_azimuth_360\": 160.59948132715488, \"segment_direction\": \"north-south\"}, {\"fwd_azimuth_360\": 345.0984691792647, \"segment_direction\": \"north-south\"}, {\"fwd_azimuth_360\": 173.15667230512062, \"segment_direction\": \"north-south\"}, {\"fwd_azimuth_360\": 58.24087364478072, \"segment_direction\": \"east-west\"}, {\"fwd_azimuth_360\": 89.89654500755921, \"segment_direction\": \"east-west\"}, {\"fwd_azimuth_360\": 33.95258333724098, \"segment_direction\": \"north-south\"}, {\"fwd_azimuth_360\": 317.1767985280389, \"segment_direction\": \"north-south\"}, {\"fwd_azimuth_360\": 211.6554304928855, \"segment_direction\": \"north-south\"}, {\"fwd_azimuth_360\": 281.94032088479594, \"segment_direction\": \"east-west\"}, {\"fwd_azimuth_360\": 55.223566268746204, \"segment_direction\": \"east-west\"}, {\"fwd_azimuth_360\": 235.746584682745, \"segment_direction\": \"east-west\"}, {\"fwd_azimuth_360\": 359.67120913765456, \"segment_direction\": \"north-south\"}, {\"fwd_azimuth_360\": 79.94810313567994, \"segment_direction\": \"east-west\"}, {\"fwd_azimuth_360\": 179.32055756346918, \"segment_direction\": \"north-south\"}, {\"fwd_azimuth_360\": 49.49280546803888, \"segment_direction\": \"east-west\"}, {\"fwd_azimuth_360\": 340.03659052433613, \"segment_direction\": \"north-south\"}, {\"fwd_azimuth_360\": 167.52845009215102, \"segment_direction\": \"north-south\"}, {\"fwd_azimuth_360\": 359.4732768682874, \"segment_direction\": \"north-south\"}, {\"fwd_azimuth_360\": 263.1213625519841, \"segment_direction\": \"east-west\"}, {\"fwd_azimuth_360\": 359.5325566583466, \"segment_direction\": \"north-south\"}, {\"fwd_azimuth_360\": 129.4039507875618, \"segment_direction\": \"east-west\"}, {\"fwd_azimuth_360\": 311.25116814293006, \"segment_direction\": \"east-west\"}, {\"fwd_azimuth_360\": 121.71731262311167, \"segment_direction\": \"east-west\"}, {\"fwd_azimuth_360\": 146.07907381049276, \"segment_direction\": \"north-south\"}, {\"fwd_azimuth_360\": 285.09603050035776, \"segment_direction\": \"east-west\"}, {\"fwd_azimuth_360\": 11.1064160697468, \"segment_direction\": \"north-south\"}, {\"fwd_azimuth_360\": 241.31908261717052, \"segment_direction\": \"east-west\"}, {\"fwd_azimuth_360\": 280.42758775814013, \"segment_direction\": \"east-west\"}, {\"fwd_azimuth_360\": 257.7672296221483, \"segment_direction\": \"east-west\"}, {\"fwd_azimuth_360\": 62.37168207835043, \"segment_direction\": \"east-west\"}, {\"fwd_azimuth_360\": 262.1803758046954, \"segment_direction\": \"east-west\"}, {\"fwd_azimuth_360\": 63.28719698532848, \"segment_direction\": \"east-west\"}, {\"fwd_azimuth_360\": 267.8049442713856, \"segment_direction\": \"east-west\"}, {\"fwd_azimuth_360\": 262.0283395583415, \"segment_direction\": \"east-west\"}, {\"fwd_azimuth_360\": 13.295935943442544, \"segment_direction\": \"north-south\"}, {\"fwd_azimuth_360\": 165.56584511734803, \"segment_direction\": \"north-south\"}, {\"fwd_azimuth_360\": 91.20325040634322, \"segment_direction\": \"east-west\"}, {\"fwd_azimuth_360\": 348.20655479262905, \"segment_direction\": \"inconclusive\"}, {\"fwd_azimuth_360\": 4.257939296824116, \"segment_direction\": \"north-south\"}, {\"fwd_azimuth_360\": 269.38496806796377, \"segment_direction\": \"east-west\"}, {\"fwd_azimuth_360\": 156.46606131881555, \"segment_direction\": \"north-south\"}, {\"fwd_azimuth_360\": 89.83049745606881, \"segment_direction\": \"east-west\"}, {\"fwd_azimuth_360\": 90.00846975127422, \"segment_direction\": \"east-west\"}, {\"fwd_azimuth_360\": 88.2660473325046, \"segment_direction\": \"east-west\"}, {\"fwd_azimuth_360\": 265.6096309007647, \"segment_direction\": \"east-west\"}, {\"fwd_azimuth_360\": 178.95707918281752, \"segment_direction\": \"north-south\"}, {\"fwd_azimuth_360\": 273.66986085161375, \"segment_direction\": \"east-west\"}, {\"fwd_azimuth_360\": 120.03053286612504, \"segment_direction\": \"east-west\"}, {\"fwd_azimuth_360\": 165.73586153441954, \"segment_direction\": \"north-south\"}, {\"fwd_azimuth_360\": 270.95236024091633, \"segment_direction\": \"east-west\"}, {\"fwd_azimuth_360\": 37.04264802586529, \"segment_direction\": \"north-south\"}, {\"fwd_azimuth_360\": 284.1545885106983, \"segment_direction\": \"east-west\"}, {\"fwd_azimuth_360\": 65.74535043262684, \"segment_direction\": \"east-west\"}, {\"fwd_azimuth_360\": 296.90502586718014, \"segment_direction\": \"east-west\"}, {\"fwd_azimuth_360\": 45.787683048025706, \"segment_direction\": \"north-south\"}, {\"fwd_azimuth_360\": 85.77673767863618, \"segment_direction\": \"east-west\"}, {\"fwd_azimuth_360\": 350.35602523830744, \"segment_direction\": \"north-south\"}, {\"fwd_azimuth_360\": 57.93987154248698, \"segment_direction\": \"east-west\"}, {\"fwd_azimuth_360\": 90.47643600023751, \"segment_direction\": \"east-west\"}, {\"fwd_azimuth_360\": 184.822371595619, \"segment_direction\": \"north-south\"}, {\"fwd_azimuth_360\": 0.26435519271594127, \"segment_direction\": \"north-south\"}, {\"fwd_azimuth_360\": 113.77322353988964, \"segment_direction\": \"east-west\"}, {\"fwd_azimuth_360\": 200.21129929670167, \"segment_direction\": \"north-south\"}, {\"fwd_azimuth_360\": 196.51051853385187, \"segment_direction\": \"north-south\"}, {\"fwd_azimuth_360\": 271.1766078784001, \"segment_direction\": \"east-west\"}, {\"fwd_azimuth_360\": 3.130797443739301, \"segment_direction\": \"north-south\"}, {\"fwd_azimuth_360\": 75.5668573516097, \"segment_direction\": \"east-west\"}, {\"fwd_azimuth_360\": 89.38593419320574, \"segment_direction\": \"east-west\"}, {\"fwd_azimuth_360\": 281.21683269357595, \"segment_direction\": \"east-west\"}, {\"fwd_azimuth_360\": 341.8806571260637, \"segment_direction\": \"north-south\"}, {\"fwd_azimuth_360\": 255.3573659705567, \"segment_direction\": \"east-west\"}, {\"fwd_azimuth_360\": 321.8539490152365, \"segment_direction\": \"north-south\"}, {\"fwd_azimuth_360\": 84.78819749188237, \"segment_direction\": \"east-west\"}, {\"fwd_azimuth_360\": 118.29255997382276, \"segment_direction\": \"east-west\"}, {\"fwd_azimuth_360\": 179.40455899627256, \"segment_direction\": \"north-south\"}, {\"fwd_azimuth_360\": 333.1995260891466, \"segment_direction\": \"north-south\"}, {\"fwd_azimuth_360\": 293.0269640009382, \"segment_direction\": \"east-west\"}, {\"fwd_azimuth_360\": 210.37825590226072, \"segment_direction\": \"north-south\"}, {\"fwd_azimuth_360\": 163.7106200281343, \"segment_direction\": \"north-south\"}, {\"fwd_azimuth_360\": 324.13612759528274, \"segment_direction\": \"north-south\"}, {\"fwd_azimuth_360\": 97.40982293666715, \"segment_direction\": \"east-west\"}, {\"fwd_azimuth_360\": 55.353811291992, \"segment_direction\": \"east-west\"}, {\"fwd_azimuth_360\": 96.33297429492198, \"segment_direction\": \"east-west\"}, {\"fwd_azimuth_360\": 319.6213507720634, \"segment_direction\": \"north-south\"}, {\"fwd_azimuth_360\": 237.6742036352636, \"segment_direction\": \"east-west\"}, {\"fwd_azimuth_360\": 74.45514374756753, \"segment_direction\": \"east-west\"}, {\"fwd_azimuth_360\": 89.69111115801203, \"segment_direction\": \"east-west\"}, {\"fwd_azimuth_360\": 338.046155659429, \"segment_direction\": \"north-south\"}, {\"fwd_azimuth_360\": 89.84357130014202, \"segment_direction\": \"east-west\"}, {\"fwd_azimuth_360\": 0.45142702330962986, \"segment_direction\": \"north-south\"}, {\"fwd_azimuth_360\": 269.4949245724557, \"segment_direction\": \"east-west\"}, {\"fwd_azimuth_360\": 49.43039330814899, \"segment_direction\": \"east-west\"}, {\"fwd_azimuth_360\": 337.2208685715514, \"segment_direction\": \"north-south\"}, {\"fwd_azimuth_360\": 90.12241020836603, \"segment_direction\": \"east-west\"}, {\"fwd_azimuth_360\": 0.6623488954829388, \"segment_direction\": \"north-south\"}, {\"fwd_azimuth_360\": 340.90722820035535, \"segment_direction\": \"north-south\"}, {\"fwd_azimuth_360\": 282.84082919714234, \"segment_direction\": \"east-west\"}, {\"fwd_azimuth_360\": 340.40804032872643, \"segment_direction\": \"north-south\"}, {\"fwd_azimuth_360\": 285.50308008732395, \"segment_direction\": \"east-west\"}, {\"fwd_azimuth_360\": 161.0022276558571, \"segment_direction\": \"north-south\"}, {\"fwd_azimuth_360\": 71.10754362153759, \"segment_direction\": \"east-west\"}, {\"fwd_azimuth_360\": 321.70866785722046, \"segment_direction\": \"north-south\"}, {\"fwd_azimuth_360\": 89.20965480924222, \"segment_direction\": \"east-west\"}, {\"fwd_azimuth_360\": 296.9697896716374, \"segment_direction\": \"east-west\"}, {\"fwd_azimuth_360\": 269.4674252644991, \"segment_direction\": \"east-west\"}, {\"fwd_azimuth_360\": 116.23857230584682, \"segment_direction\": \"east-west\"}, {\"fwd_azimuth_360\": 355.133462813486, \"segment_direction\": \"north-south\"}, {\"fwd_azimuth_360\": 336.4622425684797, \"segment_direction\": \"north-south\"}, {\"fwd_azimuth_360\": 89.92985608849926, \"segment_direction\": \"east-west\"}, {\"fwd_azimuth_360\": 179.9180036974243, \"segment_direction\": \"north-south\"}, {\"fwd_azimuth_360\": 327.03196899278174, \"segment_direction\": \"north-south\"}, {\"fwd_azimuth_360\": 174.40979164869415, \"segment_direction\": \"north-south\"}, {\"fwd_azimuth_360\": 212.73522527930797, \"segment_direction\": \"north-south\"}, {\"fwd_azimuth_360\": 344.2580047782155, \"segment_direction\": \"north-south\"}, {\"fwd_azimuth_360\": 338.59538850163307, \"segment_direction\": \"north-south\"}, {\"fwd_azimuth_360\": 95.0870321918447, \"segment_direction\": \"east-west\"}, {\"fwd_azimuth_360\": 20.645541980595073, \"segment_direction\": \"north-south\"}, {\"fwd_azimuth_360\": 90.05260597303277, \"segment_direction\": \"east-west\"}, {\"fwd_azimuth_360\": 355.7136837574842, \"segment_direction\": \"north-south\"}, {\"fwd_azimuth_360\": 90.8792633095073, \"segment_direction\": \"east-west\"}, {\"fwd_azimuth_360\": 242.7193716785469, \"segment_direction\": \"east-west\"}, {\"fwd_azimuth_360\": 233.74674058529817, \"segment_direction\": \"east-west\"}, {\"fwd_azimuth_360\": 0.23415014351645325, \"segment_direction\": \"north-south\"}, {\"fwd_azimuth_360\": 145.14456321334598, \"segment_direction\": \"north-south\"}, {\"fwd_azimuth_360\": 0.08788676866964547, \"segment_direction\": \"north-south\"}, {\"fwd_azimuth_360\": 180.08194112161485, \"segment_direction\": \"north-south\"}, {\"fwd_azimuth_360\": 18.803327564149463, \"segment_direction\": \"north-south\"}, {\"fwd_azimuth_360\": 340.72704734544664, \"segment_direction\": \"north-south\"}, {\"fwd_azimuth_360\": 344.39903371099984, \"segment_direction\": \"north-south\"}, {\"fwd_azimuth_360\": 58.207733900127536, \"segment_direction\": \"east-west\"}, {\"fwd_azimuth_360\": 88.68951663352286, \"segment_direction\": \"east-west\"}, {\"fwd_azimuth_360\": 267.65665797838375, \"segment_direction\": \"east-west\"}, {\"fwd_azimuth_360\": 41.7293803507206, \"segment_direction\": \"north-south\"}, {\"fwd_azimuth_360\": 91.1750036033138, \"segment_direction\": \"east-west\"}, {\"fwd_azimuth_360\": 274.18619714749076, \"segment_direction\": \"east-west\"}, {\"fwd_azimuth_360\": 285.393898369168, \"segment_direction\": \"east-west\"}, {\"fwd_azimuth_360\": 289.2182097102234, \"segment_direction\": \"east-west\"}, {\"fwd_azimuth_360\": 296.39264199358064, \"segment_direction\": \"east-west\"}, {\"fwd_azimuth_360\": 147.96469894261136, \"segment_direction\": \"north-south\"}, {\"fwd_azimuth_360\": 234.66075773257052, \"segment_direction\": \"east-west\"}, {\"fwd_azimuth_360\": 141.59060784862962, \"segment_direction\": \"north-south\"}, {\"fwd_azimuth_360\": 269.7502650421399, \"segment_direction\": \"east-west\"}, {\"fwd_azimuth_360\": 270.3149808387513, \"segment_direction\": \"east-west\"}, {\"fwd_azimuth_360\": 188.56563118227754, \"segment_direction\": \"north-south\"}, {\"fwd_azimuth_360\": 97.91717052320612, \"segment_direction\": \"east-west\"}, {\"fwd_azimuth_360\": 201.0207970347635, \"segment_direction\": \"north-south\"}, {\"fwd_azimuth_360\": 269.9758033989125, \"segment_direction\": \"east-west\"}, {\"fwd_azimuth_360\": 92.31942851968589, \"segment_direction\": \"east-west\"}, {\"fwd_azimuth_360\": 269.2891025419435, \"segment_direction\": \"east-west\"}, {\"fwd_azimuth_360\": 91.4616406811706, \"segment_direction\": \"east-west\"}, {\"fwd_azimuth_360\": 301.63655207576323, \"segment_direction\": \"east-west\"}, {\"fwd_azimuth_360\": 89.37477300773637, \"segment_direction\": \"east-west\"}, {\"fwd_azimuth_360\": 154.27867810059598, \"segment_direction\": \"north-south\"}, {\"fwd_azimuth_360\": 0.1636184010291446, \"segment_direction\": \"north-south\"}, {\"fwd_azimuth_360\": 84.08939604383717, \"segment_direction\": \"east-west\"}, {\"fwd_azimuth_360\": 166.03213359727835, \"segment_direction\": \"north-south\"}, {\"fwd_azimuth_360\": 217.1615497793564, \"segment_direction\": \"north-south\"}, {\"fwd_azimuth_360\": 50.38832922790982, \"segment_direction\": \"east-west\"}, {\"fwd_azimuth_360\": 92.116968132362, \"segment_direction\": \"east-west\"}, {\"fwd_azimuth_360\": 71.01341115986217, \"segment_direction\": \"east-west\"}, {\"fwd_azimuth_360\": 93.80756867941722, \"segment_direction\": \"east-west\"}, {\"fwd_azimuth_360\": 152.47083078330652, \"segment_direction\": \"north-south\"}, {\"fwd_azimuth_360\": 76.33706266934192, \"segment_direction\": \"east-west\"}, {\"fwd_azimuth_360\": 122.70910939113348, \"segment_direction\": \"east-west\"}, {\"fwd_azimuth_360\": 24.522595254556915, \"segment_direction\": \"north-south\"}, {\"fwd_azimuth_360\": 275.0894232618089, \"segment_direction\": \"east-west\"}, {\"fwd_azimuth_360\": 354.326243337267, \"segment_direction\": \"north-south\"}, {\"fwd_azimuth_360\": 0.07780913906998672, \"segment_direction\": \"north-south\"}, {\"fwd_azimuth_360\": 258.52061861785296, \"segment_direction\": \"east-west\"}, {\"fwd_azimuth_360\": 321.3555685181459, \"segment_direction\": \"north-south\"}, {\"fwd_azimuth_360\": 0.9394863001317492, \"segment_direction\": \"north-south\"}, {\"fwd_azimuth_360\": 359.83411467719225, \"segment_direction\": \"north-south\"}, {\"fwd_azimuth_360\": 359.3157361206465, \"segment_direction\": \"north-south\"}, {\"fwd_azimuth_360\": 146.56276866012277, \"segment_direction\": \"north-south\"}, {\"fwd_azimuth_360\": 180.2699428468376, \"segment_direction\": \"north-south\"}, {\"fwd_azimuth_360\": 142.7213527266695, \"segment_direction\": \"north-south\"}, {\"fwd_azimuth_360\": 89.58940091040867, \"segment_direction\": \"east-west\"}, {\"fwd_azimuth_360\": 359.94835414045, \"segment_direction\": \"north-south\"}, {\"fwd_azimuth_360\": 0.3816060734015384, \"segment_direction\": \"north-south\"}, {\"fwd_azimuth_360\": 70.64548407164304, \"segment_direction\": \"east-west\"}, {\"fwd_azimuth_360\": 94.12473317251053, \"segment_direction\": \"east-west\"}, {\"fwd_azimuth_360\": 96.83634308852004, \"segment_direction\": \"east-west\"}, {\"fwd_azimuth_360\": 359.47049657262926, \"segment_direction\": \"north-south\"}, {\"fwd_azimuth_360\": 97.1962099007546, \"segment_direction\": \"east-west\"}, {\"fwd_azimuth_360\": 359.8281997284865, \"segment_direction\": \"north-south\"}, {\"fwd_azimuth_360\": 18.520872925799694, \"segment_direction\": \"north-south\"}, {\"fwd_azimuth_360\": 310.90103090290194, \"segment_direction\": \"east-west\"}, {\"fwd_azimuth_360\": 327.51689322320044, \"segment_direction\": \"north-south\"}, {\"fwd_azimuth_360\": 104.27735291907264, \"segment_direction\": \"east-west\"}, {\"fwd_azimuth_360\": 220.86514261605475, \"segment_direction\": \"north-south\"}, {\"fwd_azimuth_360\": 39.97607117394737, \"segment_direction\": \"north-south\"}, {\"fwd_azimuth_360\": 273.4882999406636, \"segment_direction\": \"east-west\"}, {\"fwd_azimuth_360\": 318.9642579057338, \"segment_direction\": \"north-south\"}, {\"fwd_azimuth_360\": 85.65904055705428, \"segment_direction\": \"east-west\"}, {\"fwd_azimuth_360\": 179.63473789258708, \"segment_direction\": \"north-south\"}, {\"fwd_azimuth_360\": 270.02590011361525, \"segment_direction\": \"east-west\"}, {\"fwd_azimuth_360\": 98.98047677911971, \"segment_direction\": \"east-west\"}, {\"fwd_azimuth_360\": 81.65422074120113, \"segment_direction\": \"east-west\"}, {\"fwd_azimuth_360\": 237.37286695725052, \"segment_direction\": \"east-west\"}, {\"fwd_azimuth_360\": 256.73453422544776, \"segment_direction\": \"east-west\"}, {\"fwd_azimuth_360\": 356.8070782876449, \"segment_direction\": \"north-south\"}, {\"fwd_azimuth_360\": 133.75538920811766, \"segment_direction\": \"north-south\"}, {\"fwd_azimuth_360\": 255.43461749966474, \"segment_direction\": \"east-west\"}, {\"fwd_azimuth_360\": 126.48769471921636, \"segment_direction\": \"east-west\"}, {\"fwd_azimuth_360\": 334.5398203606666, \"segment_direction\": \"north-south\"}, {\"fwd_azimuth_360\": 359.7976245684148, \"segment_direction\": \"north-south\"}, {\"fwd_azimuth_360\": 265.86852053421273, \"segment_direction\": \"east-west\"}, {\"fwd_azimuth_360\": 270.0190064454895, \"segment_direction\": \"east-west\"}, {\"fwd_azimuth_360\": 354.2649994741019, \"segment_direction\": \"north-south\"}, {\"fwd_azimuth_360\": 78.91611399349509, \"segment_direction\": \"east-west\"}, {\"fwd_azimuth_360\": 267.0311628821685, \"segment_direction\": \"east-west\"}, {\"fwd_azimuth_360\": 358.6166756065591, \"segment_direction\": \"north-south\"}, {\"fwd_azimuth_360\": 50.55102251890086, \"segment_direction\": \"east-west\"}, {\"fwd_azimuth_360\": 209.88002784053015, \"segment_direction\": \"north-south\"}, {\"fwd_azimuth_360\": 319.76196630785313, \"segment_direction\": \"north-south\"}, {\"fwd_azimuth_360\": 72.38534737851151, \"segment_direction\": \"east-west\"}, {\"fwd_azimuth_360\": 357.09884084197864, \"segment_direction\": \"north-south\"}, {\"fwd_azimuth_360\": 272.61272176730927, \"segment_direction\": \"east-west\"}, {\"fwd_azimuth_360\": 39.96268111393623, \"segment_direction\": \"north-south\"}, {\"fwd_azimuth_360\": 182.38720552403487, \"segment_direction\": \"north-south\"}, {\"fwd_azimuth_360\": 180.03554060599643, \"segment_direction\": \"north-south\"}, {\"fwd_azimuth_360\": 68.30231700947536, \"segment_direction\": \"east-west\"}, {\"fwd_azimuth_360\": 359.21364035506247, \"segment_direction\": \"north-south\"}, {\"fwd_azimuth_360\": 155.2251189241392, \"segment_direction\": \"north-south\"}, {\"fwd_azimuth_360\": 69.55046161550308, \"segment_direction\": \"east-west\"}, {\"fwd_azimuth_360\": 270.9090626818776, \"segment_direction\": \"east-west\"}, {\"fwd_azimuth_360\": 80.81595100886216, \"segment_direction\": \"inconclusive\"}, {\"fwd_azimuth_360\": 165.79033211629908, \"segment_direction\": \"north-south\"}, {\"fwd_azimuth_360\": 74.89894816405614, \"segment_direction\": \"east-west\"}, {\"fwd_azimuth_360\": 298.5628242340564, \"segment_direction\": \"east-west\"}, {\"fwd_azimuth_360\": 0.3716879924376138, \"segment_direction\": \"north-south\"}, {\"fwd_azimuth_360\": 269.57174381993946, \"segment_direction\": \"east-west\"}, {\"fwd_azimuth_360\": 117.21479496057192, \"segment_direction\": \"east-west\"}, {\"fwd_azimuth_360\": 116.26810100412412, \"segment_direction\": \"east-west\"}, {\"fwd_azimuth_360\": 97.50968484731169, \"segment_direction\": \"east-west\"}, {\"fwd_azimuth_360\": 180.29823405069064, \"segment_direction\": \"north-south\"}, {\"fwd_azimuth_360\": 88.12003259328675, \"segment_direction\": \"east-west\"}, {\"fwd_azimuth_360\": 359.98420877924946, \"segment_direction\": \"north-south\"}, {\"fwd_azimuth_360\": 76.06658925046388, \"segment_direction\": \"east-west\"}, {\"fwd_azimuth_360\": 128.82669170284024, \"segment_direction\": \"east-west\"}, {\"fwd_azimuth_360\": 301.95679245769793, \"segment_direction\": \"east-west\"}, {\"fwd_azimuth_360\": 57.71795355836507, \"segment_direction\": \"east-west\"}, {\"fwd_azimuth_360\": 266.26254579280237, \"segment_direction\": \"east-west\"}, {\"fwd_azimuth_360\": 138.50045052125182, \"segment_direction\": \"north-south\"}, {\"fwd_azimuth_360\": 251.1717710527085, \"segment_direction\": \"east-west\"}, {\"fwd_azimuth_360\": 49.67043573170796, \"segment_direction\": \"east-west\"}, {\"fwd_azimuth_360\": 180.50249144769586, \"segment_direction\": \"north-south\"}, {\"fwd_azimuth_360\": 23.664792197545307, \"segment_direction\": \"north-south\"}, {\"fwd_azimuth_360\": 109.28755445948272, \"segment_direction\": \"east-west\"}, {\"fwd_azimuth_360\": 35.87441212754909, \"segment_direction\": \"north-south\"}, {\"fwd_azimuth_360\": 329.1510335564123, \"segment_direction\": \"north-south\"}, {\"fwd_azimuth_360\": 259.6618984561653, \"segment_direction\": \"east-west\"}, {\"fwd_azimuth_360\": 327.9930479554313, \"segment_direction\": \"north-south\"}, {\"fwd_azimuth_360\": 350.8937897721222, \"segment_direction\": \"north-south\"}, {\"fwd_azimuth_360\": 291.37413310945374, \"segment_direction\": \"east-west\"}, {\"fwd_azimuth_360\": 38.66779513719151, \"segment_direction\": \"north-south\"}, {\"fwd_azimuth_360\": 222.4029468746038, \"segment_direction\": \"north-south\"}, {\"fwd_azimuth_360\": 162.2720459573767, \"segment_direction\": \"north-south\"}, {\"fwd_azimuth_360\": 308.95116932649466, \"segment_direction\": \"east-west\"}, {\"fwd_azimuth_360\": 99.21277600298944, \"segment_direction\": \"east-west\"}, {\"fwd_azimuth_360\": 109.0616682506585, \"segment_direction\": \"east-west\"}, {\"fwd_azimuth_360\": 180.52785818090862, \"segment_direction\": \"north-south\"}, {\"fwd_azimuth_360\": 296.4784204534508, \"segment_direction\": \"east-west\"}, {\"fwd_azimuth_360\": 272.5527096133665, \"segment_direction\": \"east-west\"}, {\"fwd_azimuth_360\": 311.22822071261896, \"segment_direction\": \"east-west\"}, {\"fwd_azimuth_360\": 184.18618835431698, \"segment_direction\": \"north-south\"}, {\"fwd_azimuth_360\": 214.5520497453726, \"segment_direction\": \"north-south\"}, {\"fwd_azimuth_360\": 89.77158626675016, \"segment_direction\": \"east-west\"}, {\"fwd_azimuth_360\": 132.61072597368204, \"segment_direction\": \"east-west\"}, {\"fwd_azimuth_360\": 137.78144667632827, \"segment_direction\": \"north-south\"}, {\"fwd_azimuth_360\": 131.3200457837186, \"segment_direction\": \"east-west\"}, {\"fwd_azimuth_360\": 90.00290305035894, \"segment_direction\": \"east-west\"}, {\"fwd_azimuth_360\": 219.74409819542146, \"segment_direction\": \"north-south\"}, {\"fwd_azimuth_360\": 145.73493967978857, \"segment_direction\": \"north-south\"}, {\"fwd_azimuth_360\": 216.63312186322645, \"segment_direction\": \"north-south\"}, {\"fwd_azimuth_360\": 159.5524782645252, \"segment_direction\": \"north-south\"}, {\"fwd_azimuth_360\": 327.3909373440495, \"segment_direction\": \"north-south\"}, {\"fwd_azimuth_360\": 89.97825180361532, \"segment_direction\": \"east-west\"}, {\"fwd_azimuth_360\": 43.31093493827776, \"segment_direction\": \"north-south\"}, {\"fwd_azimuth_360\": 176.23008244791157, \"segment_direction\": \"north-south\"}, {\"fwd_azimuth_360\": 166.70147043367973, \"segment_direction\": \"north-south\"}, {\"fwd_azimuth_360\": 96.144151217406, \"segment_direction\": \"east-west\"}, {\"fwd_azimuth_360\": 263.51035002144175, \"segment_direction\": \"east-west\"}, {\"fwd_azimuth_360\": 89.26547013831492, \"segment_direction\": \"east-west\"}, {\"fwd_azimuth_360\": 4.933179992794045, \"segment_direction\": \"north-south\"}, {\"fwd_azimuth_360\": 135.02851834187803, \"segment_direction\": \"east-west\"}, {\"fwd_azimuth_360\": 359.6274617212296, \"segment_direction\": \"north-south\"}, {\"fwd_azimuth_360\": 269.80036209182117, \"segment_direction\": \"east-west\"}, {\"fwd_azimuth_360\": 256.49456610376507, \"segment_direction\": \"east-west\"}, {\"fwd_azimuth_360\": 149.0455863528943, \"segment_direction\": \"north-south\"}, {\"fwd_azimuth_360\": 87.76663029232168, \"segment_direction\": \"east-west\"}, {\"fwd_azimuth_360\": 88.96829224085201, \"segment_direction\": \"east-west\"}, {\"fwd_azimuth_360\": 0.9149285853580076, \"segment_direction\": \"north-south\"}, {\"fwd_azimuth_360\": 183.3360840606695, \"segment_direction\": \"north-south\"}, {\"fwd_azimuth_360\": 329.56652148952566, \"segment_direction\": \"north-south\"}, {\"fwd_azimuth_360\": 90.04197011459557, \"segment_direction\": \"east-west\"}, {\"fwd_azimuth_360\": 270.2605689684726, \"segment_direction\": \"east-west\"}, {\"fwd_azimuth_360\": 156.236749388603, \"segment_direction\": \"north-south\"}, {\"fwd_azimuth_360\": 20.67771040275498, \"segment_direction\": \"north-south\"}, {\"fwd_azimuth_360\": 89.60821572454277, \"segment_direction\": \"east-west\"}, {\"fwd_azimuth_360\": 165.6469545170469, \"segment_direction\": \"north-south\"}, {\"fwd_azimuth_360\": 119.41085223887545, \"segment_direction\": \"east-west\"}, {\"fwd_azimuth_360\": 82.64908083588124, \"segment_direction\": \"east-west\"}, {\"fwd_azimuth_360\": 101.32153216998958, \"segment_direction\": \"east-west\"}, {\"fwd_azimuth_360\": 89.8260947343463, \"segment_direction\": \"east-west\"}, {\"fwd_azimuth_360\": 85.36910823899437, \"segment_direction\": \"east-west\"}, {\"fwd_azimuth_360\": 105.99482619274697, \"segment_direction\": \"east-west\"}, {\"fwd_azimuth_360\": 0.13264192540320677, \"segment_direction\": \"north-south\"}, {\"fwd_azimuth_360\": 79.76091672181671, \"segment_direction\": \"east-west\"}, {\"fwd_azimuth_360\": 129.07159614523664, \"segment_direction\": \"east-west\"}, {\"fwd_azimuth_360\": 217.75240415691357, \"segment_direction\": \"north-south\"}, {\"fwd_azimuth_360\": 64.42444821297897, \"segment_direction\": \"east-west\"}, {\"fwd_azimuth_360\": 0.49891481096167706, \"segment_direction\": \"north-south\"}, {\"fwd_azimuth_360\": 344.52054766110524, \"segment_direction\": \"north-south\"}, {\"fwd_azimuth_360\": 337.67234513039335, \"segment_direction\": \"north-south\"}, {\"fwd_azimuth_360\": 179.64861313299804, \"segment_direction\": \"north-south\"}, {\"fwd_azimuth_360\": 41.37457445149493, \"segment_direction\": \"north-south\"}, {\"fwd_azimuth_360\": 259.3677178730002, \"segment_direction\": \"east-west\"}, {\"fwd_azimuth_360\": 345.79995076844324, \"segment_direction\": \"north-south\"}, {\"fwd_azimuth_360\": 300.5442553421256, \"segment_direction\": \"east-west\"}, {\"fwd_azimuth_360\": 43.24305601718343, \"segment_direction\": \"north-south\"}, {\"fwd_azimuth_360\": 89.60810456311603, \"segment_direction\": \"east-west\"}, {\"fwd_azimuth_360\": 180.1936614820079, \"segment_direction\": \"north-south\"}, {\"fwd_azimuth_360\": 97.83088032541619, \"segment_direction\": \"east-west\"}, {\"fwd_azimuth_360\": 61.16645752530911, \"segment_direction\": \"east-west\"}, {\"fwd_azimuth_360\": 103.53927433488762, \"segment_direction\": \"east-west\"}, {\"fwd_azimuth_360\": 86.22206233753121, \"segment_direction\": \"east-west\"}, {\"fwd_azimuth_360\": 124.39096181927326, \"segment_direction\": \"east-west\"}, {\"fwd_azimuth_360\": 251.8417046507406, \"segment_direction\": \"east-west\"}, {\"fwd_azimuth_360\": 354.00647847373114, \"segment_direction\": \"north-south\"}, {\"fwd_azimuth_360\": 248.34224456290076, \"segment_direction\": \"east-west\"}, {\"fwd_azimuth_360\": 335.9562538748373, \"segment_direction\": \"north-south\"}, {\"fwd_azimuth_360\": 231.56298951257224, \"segment_direction\": \"east-west\"}, {\"fwd_azimuth_360\": 296.7045421712937, \"segment_direction\": \"east-west\"}, {\"fwd_azimuth_360\": 98.31985411947088, \"segment_direction\": \"east-west\"}, {\"fwd_azimuth_360\": 359.9540657829797, \"segment_direction\": \"north-south\"}, {\"fwd_azimuth_360\": 306.14665485134395, \"segment_direction\": \"east-west\"}, {\"fwd_azimuth_360\": 357.92856859694575, \"segment_direction\": \"north-south\"}, {\"fwd_azimuth_360\": 90.61902347529698, \"segment_direction\": \"east-west\"}, {\"fwd_azimuth_360\": 33.37645292122315, \"segment_direction\": \"north-south\"}, {\"fwd_azimuth_360\": 320.0136707415247, \"segment_direction\": \"north-south\"}, {\"fwd_azimuth_360\": 358.8071376272752, \"segment_direction\": \"north-south\"}, {\"fwd_azimuth_360\": 170.4769795479802, \"segment_direction\": \"north-south\"}, {\"fwd_azimuth_360\": 104.84738406797064, \"segment_direction\": \"east-west\"}, {\"fwd_azimuth_360\": 307.62128675412856, \"segment_direction\": \"east-west\"}, {\"fwd_azimuth_360\": 260.85972997278407, \"segment_direction\": \"east-west\"}, {\"fwd_azimuth_360\": 321.66155895174325, \"segment_direction\": \"north-south\"}, {\"fwd_azimuth_360\": 89.70610575996383, \"segment_direction\": \"east-west\"}, {\"fwd_azimuth_360\": 257.2301925119592, \"segment_direction\": \"east-west\"}, {\"fwd_azimuth_360\": 250.23845273803255, \"segment_direction\": \"inconclusive\"}, {\"fwd_azimuth_360\": 238.53608068076136, \"segment_direction\": \"east-west\"}, {\"fwd_azimuth_360\": 79.83475583785642, \"segment_direction\": \"east-west\"}, {\"fwd_azimuth_360\": 334.7848025144649, \"segment_direction\": \"north-south\"}, {\"fwd_azimuth_360\": 31.685191986275154, \"segment_direction\": \"north-south\"}, {\"fwd_azimuth_360\": 326.5746816528509, \"segment_direction\": \"north-south\"}, {\"fwd_azimuth_360\": 307.2305769883128, \"segment_direction\": \"east-west\"}, {\"fwd_azimuth_360\": 177.6066849881154, \"segment_direction\": \"north-south\"}, {\"fwd_azimuth_360\": 220.74187511651706, \"segment_direction\": \"north-south\"}, {\"fwd_azimuth_360\": 179.93742824521098, \"segment_direction\": \"north-south\"}, {\"fwd_azimuth_360\": 282.92569180497765, \"segment_direction\": \"east-west\"}, {\"fwd_azimuth_360\": 215.35678454877, \"segment_direction\": \"north-south\"}, {\"fwd_azimuth_360\": 341.08681668068914, \"segment_direction\": \"north-south\"}, {\"fwd_azimuth_360\": 174.84912528450806, \"segment_direction\": \"north-south\"}, {\"fwd_azimuth_360\": 359.71662829803506, \"segment_direction\": \"north-south\"}, {\"fwd_azimuth_360\": 270.15313978128125, \"segment_direction\": \"east-west\"}, {\"fwd_azimuth_360\": 87.60006052932778, \"segment_direction\": \"east-west\"}, {\"fwd_azimuth_360\": 341.5652361034683, \"segment_direction\": \"north-south\"}, {\"fwd_azimuth_360\": 203.60980178678844, \"segment_direction\": \"north-south\"}, {\"fwd_azimuth_360\": 291.78935644776095, \"segment_direction\": \"east-west\"}, {\"fwd_azimuth_360\": 89.6402488598207, \"segment_direction\": \"east-west\"}, {\"fwd_azimuth_360\": 276.44018063029546, \"segment_direction\": \"east-west\"}, {\"fwd_azimuth_360\": 69.68128325009336, \"segment_direction\": \"east-west\"}, {\"fwd_azimuth_360\": 180.07137800086224, \"segment_direction\": \"north-south\"}, {\"fwd_azimuth_360\": 107.35354339386984, \"segment_direction\": \"east-west\"}, {\"fwd_azimuth_360\": 119.3897107948211, \"segment_direction\": \"east-west\"}, {\"fwd_azimuth_360\": 315.2976537361112, \"segment_direction\": \"north-south\"}, {\"fwd_azimuth_360\": 173.43833449712955, \"segment_direction\": \"north-south\"}, {\"fwd_azimuth_360\": 359.5255991398873, \"segment_direction\": \"north-south\"}, {\"fwd_azimuth_360\": 326.55445062042776, \"segment_direction\": \"north-south\"}, {\"fwd_azimuth_360\": 359.9850920207696, \"segment_direction\": \"north-south\"}, {\"fwd_azimuth_360\": 57.49786030493024, \"segment_direction\": \"east-west\"}, {\"fwd_azimuth_360\": 202.11310597932388, \"segment_direction\": \"north-south\"}, {\"fwd_azimuth_360\": 282.3474824022662, \"segment_direction\": \"east-west\"}, {\"fwd_azimuth_360\": 263.01667617647047, \"segment_direction\": \"east-west\"}, {\"fwd_azimuth_360\": 314.88510355098, \"segment_direction\": \"inconclusive\"}, {\"fwd_azimuth_360\": 299.470573634229, \"segment_direction\": \"east-west\"}, {\"fwd_azimuth_360\": 28.932972013048158, \"segment_direction\": \"north-south\"}, {\"fwd_azimuth_360\": 21.713653154088856, \"segment_direction\": \"north-south\"}, {\"fwd_azimuth_360\": 306.4652537555231, \"segment_direction\": \"east-west\"}, {\"fwd_azimuth_360\": 69.1565385525063, \"segment_direction\": \"east-west\"}, {\"fwd_azimuth_360\": 92.30557161344663, \"segment_direction\": \"east-west\"}, {\"fwd_azimuth_360\": 337.7679675542339, \"segment_direction\": \"north-south\"}, {\"fwd_azimuth_360\": 80.96982717718532, \"segment_direction\": \"east-west\"}, {\"fwd_azimuth_360\": 65.97420649788698, \"segment_direction\": \"east-west\"}, {\"fwd_azimuth_360\": 5.997253006749942, \"segment_direction\": \"north-south\"}, {\"fwd_azimuth_360\": 320.7982150391455, \"segment_direction\": \"north-south\"}, {\"fwd_azimuth_360\": 180.07029830431475, \"segment_direction\": \"north-south\"}, {\"fwd_azimuth_360\": 355.10351089457976, \"segment_direction\": \"north-south\"}, {\"fwd_azimuth_360\": 114.76402676489263, \"segment_direction\": \"east-west\"}, {\"fwd_azimuth_360\": 322.5465139788466, \"segment_direction\": \"north-south\"}, {\"fwd_azimuth_360\": 128.21446553277667, \"segment_direction\": \"east-west\"}, {\"fwd_azimuth_360\": 74.50367783311188, \"segment_direction\": \"east-west\"}, {\"fwd_azimuth_360\": 88.76884374434037, \"segment_direction\": \"east-west\"}, {\"fwd_azimuth_360\": 277.11373922060676, \"segment_direction\": \"east-west\"}, {\"fwd_azimuth_360\": 179.91804953116807, \"segment_direction\": \"north-south\"}, {\"fwd_azimuth_360\": 236.72148589978298, \"segment_direction\": \"east-west\"}, {\"fwd_azimuth_360\": 66.23502923786246, \"segment_direction\": \"east-west\"}, {\"fwd_azimuth_360\": 247.51088777175144, \"segment_direction\": \"east-west\"}, {\"fwd_azimuth_360\": 77.91517217676068, \"segment_direction\": \"east-west\"}, {\"fwd_azimuth_360\": 170.13472634147712, \"segment_direction\": \"north-south\"}, {\"fwd_azimuth_360\": 125.29212921429622, \"segment_direction\": \"east-west\"}, {\"fwd_azimuth_360\": 215.42098032396203, \"segment_direction\": \"north-south\"}, {\"fwd_azimuth_360\": 0.271616940769526, \"segment_direction\": \"north-south\"}, {\"fwd_azimuth_360\": 177.8085404041857, \"segment_direction\": \"north-south\"}, {\"fwd_azimuth_360\": 359.7048040042291, \"segment_direction\": \"north-south\"}, {\"fwd_azimuth_360\": 244.56274941329144, \"segment_direction\": \"east-west\"}, {\"fwd_azimuth_360\": 34.32244560774895, \"segment_direction\": \"north-south\"}, {\"fwd_azimuth_360\": 205.67669255650745, \"segment_direction\": \"north-south\"}, {\"fwd_azimuth_360\": 155.52360642749017, \"segment_direction\": \"north-south\"}, {\"fwd_azimuth_360\": 334.96616940405215, \"segment_direction\": \"inconclusive\"}, {\"fwd_azimuth_360\": 255.10669245305252, \"segment_direction\": \"east-west\"}, {\"fwd_azimuth_360\": 359.6874910452528, \"segment_direction\": \"north-south\"}, {\"fwd_azimuth_360\": 269.7298906036099, \"segment_direction\": \"east-west\"}, {\"fwd_azimuth_360\": 340.11763555171234, \"segment_direction\": \"north-south\"}, {\"fwd_azimuth_360\": 211.48792246569317, \"segment_direction\": \"north-south\"}, {\"fwd_azimuth_360\": 296.453717835003, \"segment_direction\": \"east-west\"}, {\"fwd_azimuth_360\": 136.0339930659402, \"segment_direction\": \"north-south\"}, {\"fwd_azimuth_360\": 289.6444010819522, \"segment_direction\": \"east-west\"}, {\"fwd_azimuth_360\": 0.2531335277481178, \"segment_direction\": \"north-south\"}, {\"fwd_azimuth_360\": 59.23782952248945, \"segment_direction\": \"east-west\"}, {\"fwd_azimuth_360\": 96.88607892822556, \"segment_direction\": \"east-west\"}, {\"fwd_azimuth_360\": 48.25778745050379, \"segment_direction\": \"east-west\"}, {\"fwd_azimuth_360\": 179.93199300475982, \"segment_direction\": \"north-south\"}, {\"fwd_azimuth_360\": 107.98342972605431, \"segment_direction\": \"east-west\"}, {\"fwd_azimuth_360\": 336.93308994511085, \"segment_direction\": \"north-south\"}, {\"fwd_azimuth_360\": 354.88142217421455, \"segment_direction\": \"north-south\"}, {\"fwd_azimuth_360\": 239.69013448297204, \"segment_direction\": \"east-west\"}, {\"fwd_azimuth_360\": 120.07409811749022, \"segment_direction\": \"inconclusive\"}, {\"fwd_azimuth_360\": 309.64469831114883, \"segment_direction\": \"east-west\"}, {\"fwd_azimuth_360\": 87.2615262035733, \"segment_direction\": \"east-west\"}, {\"fwd_azimuth_360\": 72.91785471159278, \"segment_direction\": \"east-west\"}, {\"fwd_azimuth_360\": 89.38625025830336, \"segment_direction\": \"east-west\"}, {\"fwd_azimuth_360\": 157.6427461890012, \"segment_direction\": \"north-south\"}, {\"fwd_azimuth_360\": 295.9798251862718, \"segment_direction\": \"east-west\"}, {\"fwd_azimuth_360\": 2.54315737212462, \"segment_direction\": \"north-south\"}, {\"fwd_azimuth_360\": 257.08688857950256, \"segment_direction\": \"east-west\"}, {\"fwd_azimuth_360\": 185.92961074526607, \"segment_direction\": \"north-south\"}, {\"fwd_azimuth_360\": 130.20348537907623, \"segment_direction\": \"east-west\"}, {\"fwd_azimuth_360\": 344.5144549774679, \"segment_direction\": \"north-south\"}, {\"fwd_azimuth_360\": 44.483472557779336, \"segment_direction\": \"north-south\"}, {\"fwd_azimuth_360\": 119.95362923605437, \"segment_direction\": \"east-west\"}, {\"fwd_azimuth_360\": 89.76115369850034, \"segment_direction\": \"east-west\"}, {\"fwd_azimuth_360\": 83.82132131720704, \"segment_direction\": \"east-west\"}, {\"fwd_azimuth_360\": 76.40159362003807, \"segment_direction\": \"east-west\"}, {\"fwd_azimuth_360\": 2.5596581468663095, \"segment_direction\": \"north-south\"}, {\"fwd_azimuth_360\": 0.16503937884846473, \"segment_direction\": \"north-south\"}, {\"fwd_azimuth_360\": 308.5976907597647, \"segment_direction\": \"east-west\"}, {\"fwd_azimuth_360\": 276.11968425067505, \"segment_direction\": \"east-west\"}, {\"fwd_azimuth_360\": 137.74782068468295, \"segment_direction\": \"north-south\"}, {\"fwd_azimuth_360\": 357.4356992446362, \"segment_direction\": \"north-south\"}, {\"fwd_azimuth_360\": 97.2794326516052, \"segment_direction\": \"east-west\"}, {\"fwd_azimuth_360\": 151.27670119719414, \"segment_direction\": \"north-south\"}, {\"fwd_azimuth_360\": 0.06464369965098615, \"segment_direction\": \"north-south\"}, {\"fwd_azimuth_360\": 88.31447907807704, \"segment_direction\": \"east-west\"}, {\"fwd_azimuth_360\": 11.303222712352238, \"segment_direction\": \"north-south\"}, {\"fwd_azimuth_360\": 141.9030961468932, \"segment_direction\": \"north-south\"}, {\"fwd_azimuth_360\": 357.43309402530883, \"segment_direction\": \"north-south\"}, {\"fwd_azimuth_360\": 350.0110014333494, \"segment_direction\": \"north-south\"}, {\"fwd_azimuth_360\": 359.5332329814563, \"segment_direction\": \"north-south\"}, {\"fwd_azimuth_360\": 12.080600761433743, \"segment_direction\": \"north-south\"}, {\"fwd_azimuth_360\": 269.10060490049153, \"segment_direction\": \"east-west\"}, {\"fwd_azimuth_360\": 314.91191993250254, \"segment_direction\": \"north-south\"}, {\"fwd_azimuth_360\": 131.54608094519952, \"segment_direction\": \"east-west\"}, {\"fwd_azimuth_360\": 0.027282247197370497, \"segment_direction\": \"north-south\"}, {\"fwd_azimuth_360\": 175.56024421454754, \"segment_direction\": \"north-south\"}, {\"fwd_azimuth_360\": 326.5340132200491, \"segment_direction\": \"north-south\"}, {\"fwd_azimuth_360\": 250.52260560274385, \"segment_direction\": \"east-west\"}, {\"fwd_azimuth_360\": 170.8446702957403, \"segment_direction\": \"north-south\"}, {\"fwd_azimuth_360\": 95.98511416639575, \"segment_direction\": \"east-west\"}, {\"fwd_azimuth_360\": 102.96308819401132, \"segment_direction\": \"east-west\"}, {\"fwd_azimuth_360\": 287.19699780825164, \"segment_direction\": \"east-west\"}, {\"fwd_azimuth_360\": 57.040251316897745, \"segment_direction\": \"east-west\"}, {\"fwd_azimuth_360\": 62.40257543208342, \"segment_direction\": \"east-west\"}, {\"fwd_azimuth_360\": 94.51994568346547, \"segment_direction\": \"east-west\"}, {\"fwd_azimuth_360\": 79.62677389333336, \"segment_direction\": \"east-west\"}, {\"fwd_azimuth_360\": 90.18142891434549, \"segment_direction\": \"east-west\"}, {\"fwd_azimuth_360\": 169.7951004920956, \"segment_direction\": \"north-south\"}, {\"fwd_azimuth_360\": 82.03775518128903, \"segment_direction\": \"east-west\"}, {\"fwd_azimuth_360\": 59.380217085921444, \"segment_direction\": \"east-west\"}, {\"fwd_azimuth_360\": 150.33988923040545, \"segment_direction\": \"north-south\"}, {\"fwd_azimuth_360\": 60.448080010943656, \"segment_direction\": \"east-west\"}, {\"fwd_azimuth_360\": 179.90073082823193, \"segment_direction\": \"north-south\"}, {\"fwd_azimuth_360\": 90.34631441372177, \"segment_direction\": \"east-west\"}, {\"fwd_azimuth_360\": 58.779499717602846, \"segment_direction\": \"east-west\"}, {\"fwd_azimuth_360\": 102.32564267807629, \"segment_direction\": \"east-west\"}, {\"fwd_azimuth_360\": 101.17464081855113, \"segment_direction\": \"east-west\"}, {\"fwd_azimuth_360\": 145.95069070120252, \"segment_direction\": \"north-south\"}, {\"fwd_azimuth_360\": 270.00527999020824, \"segment_direction\": \"east-west\"}, {\"fwd_azimuth_360\": 176.83455896401938, \"segment_direction\": \"north-south\"}, {\"fwd_azimuth_360\": 0.9777570555090915, \"segment_direction\": \"north-south\"}, {\"fwd_azimuth_360\": 0.9106534971976155, \"segment_direction\": \"north-south\"}, {\"fwd_azimuth_360\": 154.09487644382222, \"segment_direction\": \"north-south\"}, {\"fwd_azimuth_360\": 223.48998705660537, \"segment_direction\": \"north-south\"}, {\"fwd_azimuth_360\": 78.55858176587773, \"segment_direction\": \"east-west\"}, {\"fwd_azimuth_360\": 110.04566832971582, \"segment_direction\": \"east-west\"}, {\"fwd_azimuth_360\": 89.99812939526058, \"segment_direction\": \"east-west\"}, {\"fwd_azimuth_360\": 89.42444595387664, \"segment_direction\": \"east-west\"}, {\"fwd_azimuth_360\": 89.82236287198494, \"segment_direction\": \"east-west\"}, {\"fwd_azimuth_360\": 86.19566775118106, \"segment_direction\": \"east-west\"}, {\"fwd_azimuth_360\": 86.69897309012205, \"segment_direction\": \"east-west\"}, {\"fwd_azimuth_360\": 0.04800278529555916, \"segment_direction\": \"north-south\"}, {\"fwd_azimuth_360\": 295.07730049539447, \"segment_direction\": \"east-west\"}, {\"fwd_azimuth_360\": 329.21155533124056, \"segment_direction\": \"north-south\"}, {\"fwd_azimuth_360\": 96.96167937525546, \"segment_direction\": \"east-west\"}, {\"fwd_azimuth_360\": 234.7928864555413, \"segment_direction\": \"east-west\"}, {\"fwd_azimuth_360\": 359.7203096206518, \"segment_direction\": \"north-south\"}, {\"fwd_azimuth_360\": 1.5895364518139117, \"segment_direction\": \"north-south\"}, {\"fwd_azimuth_360\": 123.98748718178405, \"segment_direction\": \"east-west\"}, {\"fwd_azimuth_360\": 55.41353093594435, \"segment_direction\": \"east-west\"}, {\"fwd_azimuth_360\": 7.276112388974848, \"segment_direction\": \"north-south\"}, {\"fwd_azimuth_360\": 83.80067631201408, \"segment_direction\": \"east-west\"}, {\"fwd_azimuth_360\": 1.0989247579381904, \"segment_direction\": \"north-south\"}, {\"fwd_azimuth_360\": 347.67834358919566, \"segment_direction\": \"north-south\"}, {\"fwd_azimuth_360\": 341.4389474387946, \"segment_direction\": \"north-south\"}, {\"fwd_azimuth_360\": 350.5441243108523, \"segment_direction\": \"north-south\"}, {\"fwd_azimuth_360\": 355.6189869776589, \"segment_direction\": \"north-south\"}, {\"fwd_azimuth_360\": 63.01826533196819, \"segment_direction\": \"east-west\"}, {\"fwd_azimuth_360\": 155.2964384366578, \"segment_direction\": \"north-south\"}, {\"fwd_azimuth_360\": 272.32782528984774, \"segment_direction\": \"east-west\"}, {\"fwd_azimuth_360\": 55.03738123412897, \"segment_direction\": \"east-west\"}, {\"fwd_azimuth_360\": 0.5934324962800678, \"segment_direction\": \"north-south\"}, {\"fwd_azimuth_360\": 90.38522930155291, \"segment_direction\": \"east-west\"}, {\"fwd_azimuth_360\": 359.49433924799166, \"segment_direction\": \"north-south\"}, {\"fwd_azimuth_360\": 218.2033343110603, \"segment_direction\": \"north-south\"}, {\"fwd_azimuth_360\": 147.32659761720322, \"segment_direction\": \"north-south\"}, {\"fwd_azimuth_360\": 68.12743212269947, \"segment_direction\": \"east-west\"}, {\"fwd_azimuth_360\": 88.1397255782531, \"segment_direction\": \"east-west\"}, {\"fwd_azimuth_360\": 125.00547898708781, \"segment_direction\": \"east-west\"}, {\"fwd_azimuth_360\": 340.90722820035535, \"segment_direction\": \"north-south\"}, {\"fwd_azimuth_360\": 24.90098399880872, \"segment_direction\": \"north-south\"}, {\"fwd_azimuth_360\": 179.99046091403008, \"segment_direction\": \"north-south\"}, {\"fwd_azimuth_360\": 306.5321653033618, \"segment_direction\": \"east-west\"}, {\"fwd_azimuth_360\": 0.2123033805783454, \"segment_direction\": \"north-south\"}, {\"fwd_azimuth_360\": 42.873085696881404, \"segment_direction\": \"north-south\"}, {\"fwd_azimuth_360\": 89.67427919883914, \"segment_direction\": \"east-west\"}, {\"fwd_azimuth_360\": 236.58158926949758, \"segment_direction\": \"inconclusive\"}, {\"fwd_azimuth_360\": 90.09977890426215, \"segment_direction\": \"east-west\"}, {\"fwd_azimuth_360\": 0.4925720946188592, \"segment_direction\": \"north-south\"}, {\"fwd_azimuth_360\": 179.4785872570012, \"segment_direction\": \"north-south\"}, {\"fwd_azimuth_360\": 264.2960766221816, \"segment_direction\": \"east-west\"}, {\"fwd_azimuth_360\": 359.8941588093148, \"segment_direction\": \"north-south\"}, {\"fwd_azimuth_360\": 178.65921580563727, \"segment_direction\": \"north-south\"}, {\"fwd_azimuth_360\": 359.6733628595355, \"segment_direction\": \"north-south\"}, {\"fwd_azimuth_360\": 127.21772245994354, \"segment_direction\": \"east-west\"}, {\"fwd_azimuth_360\": 325.7988461149841, \"segment_direction\": \"north-south\"}, {\"fwd_azimuth_360\": 355.74384115214, \"segment_direction\": \"north-south\"}, {\"fwd_azimuth_360\": 358.7639687111291, \"segment_direction\": \"north-south\"}, {\"fwd_azimuth_360\": 264.7177376672789, \"segment_direction\": \"east-west\"}, {\"fwd_azimuth_360\": 259.5178347754808, \"segment_direction\": \"east-west\"}, {\"fwd_azimuth_360\": 89.83290536041407, \"segment_direction\": \"east-west\"}, {\"fwd_azimuth_360\": 270.2541924664464, \"segment_direction\": \"east-west\"}, {\"fwd_azimuth_360\": 355.4997636499031, \"segment_direction\": \"north-south\"}, {\"fwd_azimuth_360\": 151.07026006114987, \"segment_direction\": \"north-south\"}, {\"fwd_azimuth_360\": 353.4276484285195, \"segment_direction\": \"north-south\"}, {\"fwd_azimuth_360\": 115.51144350483118, \"segment_direction\": \"east-west\"}, {\"fwd_azimuth_360\": 0.01673784077252926, \"segment_direction\": \"north-south\"}, {\"fwd_azimuth_360\": 245.8984728954965, \"segment_direction\": \"east-west\"}, {\"fwd_azimuth_360\": 274.59191245132956, \"segment_direction\": \"east-west\"}, {\"fwd_azimuth_360\": 0.39282943248557245, \"segment_direction\": \"north-south\"}, {\"fwd_azimuth_360\": 146.61899002007667, \"segment_direction\": \"north-south\"}, {\"fwd_azimuth_360\": 179.01057168780437, \"segment_direction\": \"north-south\"}, {\"fwd_azimuth_360\": 276.9903552161429, \"segment_direction\": \"east-west\"}, {\"fwd_azimuth_360\": 93.65990501537617, \"segment_direction\": \"east-west\"}, {\"fwd_azimuth_360\": 306.9362138930557, \"segment_direction\": \"east-west\"}, {\"fwd_azimuth_360\": 13.083433161652263, \"segment_direction\": \"north-south\"}, {\"fwd_azimuth_360\": 0.07085961858188836, \"segment_direction\": \"north-south\"}, {\"fwd_azimuth_360\": 30.380850512454394, \"segment_direction\": \"north-south\"}, {\"fwd_azimuth_360\": 171.71786463963198, \"segment_direction\": \"north-south\"}, {\"fwd_azimuth_360\": 265.5249090646615, \"segment_direction\": \"east-west\"}, {\"fwd_azimuth_360\": 185.72691976512908, \"segment_direction\": \"north-south\"}, {\"fwd_azimuth_360\": 195.5125256127362, \"segment_direction\": \"inconclusive\"}, {\"fwd_azimuth_360\": 359.8215198025867, \"segment_direction\": \"north-south\"}, {\"fwd_azimuth_360\": 310.638991939292, \"segment_direction\": \"east-west\"}, {\"fwd_azimuth_360\": 327.2113208182351, \"segment_direction\": \"north-south\"}, {\"fwd_azimuth_360\": 110.8888100251263, \"segment_direction\": \"east-west\"}, {\"fwd_azimuth_360\": 90.06900754971934, \"segment_direction\": \"east-west\"}, {\"fwd_azimuth_360\": 101.86140248156272, \"segment_direction\": \"east-west\"}, {\"fwd_azimuth_360\": 190.69818895685543, \"segment_direction\": \"north-south\"}, {\"fwd_azimuth_360\": 101.11307785821847, \"segment_direction\": \"east-west\"}, {\"fwd_azimuth_360\": 288.3465091684162, \"segment_direction\": \"east-west\"}, {\"fwd_azimuth_360\": 2.855422485945511, \"segment_direction\": \"north-south\"}, {\"fwd_azimuth_360\": 276.9903552161429, \"segment_direction\": \"east-west\"}, {\"fwd_azimuth_360\": 233.91957730127342, \"segment_direction\": \"east-west\"}, {\"fwd_azimuth_360\": 69.03208161604627, \"segment_direction\": \"east-west\"}, {\"fwd_azimuth_360\": 42.34569658119778, \"segment_direction\": \"north-south\"}, {\"fwd_azimuth_360\": 51.37278693077647, \"segment_direction\": \"east-west\"}, {\"fwd_azimuth_360\": 87.84420327428802, \"segment_direction\": \"east-west\"}, {\"fwd_azimuth_360\": 87.96662176430452, \"segment_direction\": \"east-west\"}, {\"fwd_azimuth_360\": 358.96475882249445, \"segment_direction\": \"north-south\"}, {\"fwd_azimuth_360\": 256.0922262288612, \"segment_direction\": \"east-west\"}, {\"fwd_azimuth_360\": 331.0413779308607, \"segment_direction\": \"north-south\"}, {\"fwd_azimuth_360\": 241.7694655892118, \"segment_direction\": \"east-west\"}, {\"fwd_azimuth_360\": 359.72758985566503, \"segment_direction\": \"north-south\"}, {\"fwd_azimuth_360\": 92.68150453316032, \"segment_direction\": \"east-west\"}, {\"fwd_azimuth_360\": 349.4369183334521, \"segment_direction\": \"north-south\"}, {\"fwd_azimuth_360\": 14.73324207413145, \"segment_direction\": \"north-south\"}, {\"fwd_azimuth_360\": 205.48498017980148, \"segment_direction\": \"inconclusive\"}, {\"fwd_azimuth_360\": 142.7213527266695, \"segment_direction\": \"north-south\"}, {\"fwd_azimuth_360\": 121.65584020859183, \"segment_direction\": \"east-west\"}, {\"fwd_azimuth_360\": 322.201180571, \"segment_direction\": \"north-south\"}, {\"fwd_azimuth_360\": 255.92774498192023, \"segment_direction\": \"east-west\"}, {\"fwd_azimuth_360\": 0.3103926996013709, \"segment_direction\": \"north-south\"}, {\"fwd_azimuth_360\": 343.6140412322341, \"segment_direction\": \"north-south\"}, {\"fwd_azimuth_360\": 211.39255600984208, \"segment_direction\": \"north-south\"}, {\"fwd_azimuth_360\": 320.4179587388052, \"segment_direction\": \"north-south\"}, {\"fwd_azimuth_360\": 98.18117298206533, \"segment_direction\": \"east-west\"}, {\"fwd_azimuth_360\": 0.02220583296411748, \"segment_direction\": \"north-south\"}, {\"fwd_azimuth_360\": 20.911868962147125, \"segment_direction\": \"north-south\"}, {\"fwd_azimuth_360\": 235.97090851750733, \"segment_direction\": \"east-west\"}, {\"fwd_azimuth_360\": 131.22711242735716, \"segment_direction\": \"east-west\"}, {\"fwd_azimuth_360\": 89.50889576184355, \"segment_direction\": \"east-west\"}, {\"fwd_azimuth_360\": 107.2622773555888, \"segment_direction\": \"east-west\"}, {\"fwd_azimuth_360\": 359.36318310136875, \"segment_direction\": \"north-south\"}, {\"fwd_azimuth_360\": 118.78379858804487, \"segment_direction\": \"east-west\"}, {\"fwd_azimuth_360\": 132.79786967075847, \"segment_direction\": \"east-west\"}, {\"fwd_azimuth_360\": 130.20348537907623, \"segment_direction\": \"east-west\"}, {\"fwd_azimuth_360\": 255.71142906006685, \"segment_direction\": \"east-west\"}, {\"fwd_azimuth_360\": 58.71984476752865, \"segment_direction\": \"east-west\"}, {\"fwd_azimuth_360\": 27.960441390621785, \"segment_direction\": \"north-south\"}, {\"fwd_azimuth_360\": 184.2541352440679, \"segment_direction\": \"north-south\"}, {\"fwd_azimuth_360\": 216.33229095405417, \"segment_direction\": \"north-south\"}, {\"fwd_azimuth_360\": 128.18799020461034, \"segment_direction\": \"east-west\"}, {\"fwd_azimuth_360\": 174.74658183829783, \"segment_direction\": \"north-south\"}, {\"fwd_azimuth_360\": 340.39783542218805, \"segment_direction\": \"north-south\"}, {\"fwd_azimuth_360\": 89.53171501647714, \"segment_direction\": \"east-west\"}, {\"fwd_azimuth_360\": 333.1995260891466, \"segment_direction\": \"north-south\"}, {\"fwd_azimuth_360\": 350.8873600022281, \"segment_direction\": \"north-south\"}, {\"fwd_azimuth_360\": 43.11053231019387, \"segment_direction\": \"north-south\"}, {\"fwd_azimuth_360\": 182.84339279693774, \"segment_direction\": \"north-south\"}, {\"fwd_azimuth_360\": 357.4661048507284, \"segment_direction\": \"north-south\"}, {\"fwd_azimuth_360\": 177.01107885084, \"segment_direction\": \"north-south\"}, {\"fwd_azimuth_360\": 133.38606611031614, \"segment_direction\": \"east-west\"}, {\"fwd_azimuth_360\": 222.3184442213891, \"segment_direction\": \"north-south\"}, {\"fwd_azimuth_360\": 0.08378984765803478, \"segment_direction\": \"north-south\"}, {\"fwd_azimuth_360\": 117.43383794710704, \"segment_direction\": \"east-west\"}, {\"fwd_azimuth_360\": 126.92146283250386, \"segment_direction\": \"east-west\"}, {\"fwd_azimuth_360\": 339.7530053248598, \"segment_direction\": \"north-south\"}, {\"fwd_azimuth_360\": 98.56065372654831, \"segment_direction\": \"east-west\"}, {\"fwd_azimuth_360\": 359.57326527669426, \"segment_direction\": \"north-south\"}, {\"fwd_azimuth_360\": 25.12049106754491, \"segment_direction\": \"north-south\"}, {\"fwd_azimuth_360\": 89.77014697983574, \"segment_direction\": \"east-west\"}, {\"fwd_azimuth_360\": 134.6543397267844, \"segment_direction\": \"east-west\"}, {\"fwd_azimuth_360\": 324.7332775472422, \"segment_direction\": \"north-south\"}, {\"fwd_azimuth_360\": 0.0007522865007452001, \"segment_direction\": \"north-south\"}, {\"fwd_azimuth_360\": 147.6101907576109, \"segment_direction\": \"north-south\"}, {\"fwd_azimuth_360\": 175.14636311140143, \"segment_direction\": \"north-south\"}, {\"fwd_azimuth_360\": 175.30720096607283, \"segment_direction\": \"north-south\"}, {\"fwd_azimuth_360\": 340.1458928015084, \"segment_direction\": \"north-south\"}, {\"fwd_azimuth_360\": 356.03390058781383, \"segment_direction\": \"north-south\"}, {\"fwd_azimuth_360\": 305.8514261587199, \"segment_direction\": \"east-west\"}, {\"fwd_azimuth_360\": 59.345693680243045, \"segment_direction\": \"east-west\"}, {\"fwd_azimuth_360\": 82.95879732378509, \"segment_direction\": \"east-west\"}, {\"fwd_azimuth_360\": 319.43844891066726, \"segment_direction\": \"north-south\"}, {\"fwd_azimuth_360\": 300.89031849013605, \"segment_direction\": \"east-west\"}, {\"fwd_azimuth_360\": 128.32418783034075, \"segment_direction\": \"east-west\"}, {\"fwd_azimuth_360\": 309.29936619424126, \"segment_direction\": \"east-west\"}, {\"fwd_azimuth_360\": 359.8795942036279, \"segment_direction\": \"north-south\"}, {\"fwd_azimuth_360\": 52.56335060827077, \"segment_direction\": \"east-west\"}, {\"fwd_azimuth_360\": 48.721197973393124, \"segment_direction\": \"east-west\"}, {\"fwd_azimuth_360\": 165.643540667778, \"segment_direction\": \"north-south\"}, {\"fwd_azimuth_360\": 357.3376670026057, \"segment_direction\": \"north-south\"}, {\"fwd_azimuth_360\": 236.03204406450314, \"segment_direction\": \"east-west\"}, {\"fwd_azimuth_360\": 56.89280117017327, \"segment_direction\": \"east-west\"}, {\"fwd_azimuth_360\": 196.3501152388574, \"segment_direction\": \"north-south\"}, {\"fwd_azimuth_360\": 255.92499587861985, \"segment_direction\": \"east-west\"}, {\"fwd_azimuth_360\": 322.21503326144136, \"segment_direction\": \"north-south\"}, {\"fwd_azimuth_360\": 142.3690938039298, \"segment_direction\": \"north-south\"}, {\"fwd_azimuth_360\": 70.22940996242986, \"segment_direction\": \"east-west\"}, {\"fwd_azimuth_360\": 129.15402887648008, \"segment_direction\": \"east-west\"}, {\"fwd_azimuth_360\": 0.1056504590300634, \"segment_direction\": \"north-south\"}, {\"fwd_azimuth_360\": 348.69914570959133, \"segment_direction\": \"north-south\"}, {\"fwd_azimuth_360\": 171.57668854223525, \"segment_direction\": \"north-south\"}, {\"fwd_azimuth_360\": 301.9176099058807, \"segment_direction\": \"east-west\"}, {\"fwd_azimuth_360\": 270.02372827408425, \"segment_direction\": \"east-west\"}, {\"fwd_azimuth_360\": 86.01251227243937, \"segment_direction\": \"east-west\"}, {\"fwd_azimuth_360\": 127.46936235843711, \"segment_direction\": \"east-west\"}, {\"fwd_azimuth_360\": 9.457688102338711, \"segment_direction\": \"north-south\"}, {\"fwd_azimuth_360\": 257.8266850025602, \"segment_direction\": \"east-west\"}, {\"fwd_azimuth_360\": 286.1828793891179, \"segment_direction\": \"east-west\"}, {\"fwd_azimuth_360\": 318.5236796083898, \"segment_direction\": \"north-south\"}, {\"fwd_azimuth_360\": 99.84616055038207, \"segment_direction\": \"east-west\"}, {\"fwd_azimuth_360\": 89.68023593965252, \"segment_direction\": \"east-west\"}, {\"fwd_azimuth_360\": 124.89995343678683, \"segment_direction\": \"east-west\"}, {\"fwd_azimuth_360\": 90.594683500849, \"segment_direction\": \"east-west\"}, {\"fwd_azimuth_360\": 153.98479700129164, \"segment_direction\": \"north-south\"}, {\"fwd_azimuth_360\": 134.9204790545453, \"segment_direction\": \"east-west\"}, {\"fwd_azimuth_360\": 179.95011241578766, \"segment_direction\": \"north-south\"}, {\"fwd_azimuth_360\": 89.85815580276356, \"segment_direction\": \"east-west\"}, {\"fwd_azimuth_360\": 96.25994552982334, \"segment_direction\": \"east-west\"}, {\"fwd_azimuth_360\": 167.1872413432147, \"segment_direction\": \"north-south\"}, {\"fwd_azimuth_360\": 257.1742260600952, \"segment_direction\": \"east-west\"}, {\"fwd_azimuth_360\": 126.3511183875336, \"segment_direction\": \"east-west\"}, {\"fwd_azimuth_360\": 238.99463738107193, \"segment_direction\": \"east-west\"}, {\"fwd_azimuth_360\": 64.29489775847492, \"segment_direction\": \"east-west\"}, {\"fwd_azimuth_360\": 95.22933896476907, \"segment_direction\": \"east-west\"}, {\"fwd_azimuth_360\": 304.57442942421216, \"segment_direction\": \"east-west\"}, {\"fwd_azimuth_360\": 137.95046624360032, \"segment_direction\": \"north-south\"}, {\"fwd_azimuth_360\": 170.71549240899648, \"segment_direction\": \"north-south\"}, {\"fwd_azimuth_360\": 356.37236505950864, \"segment_direction\": \"north-south\"}, {\"fwd_azimuth_360\": 319.84890006409773, \"segment_direction\": \"north-south\"}, {\"fwd_azimuth_360\": 170.13472634147712, \"segment_direction\": \"north-south\"}, {\"fwd_azimuth_360\": 246.23883957557157, \"segment_direction\": \"east-west\"}, {\"fwd_azimuth_360\": 336.680888369594, \"segment_direction\": \"north-south\"}, {\"fwd_azimuth_360\": 256.76306330719575, \"segment_direction\": \"east-west\"}, {\"fwd_azimuth_360\": 24.409017593402044, \"segment_direction\": \"north-south\"}, {\"fwd_azimuth_360\": 255.80594575094898, \"segment_direction\": \"east-west\"}, {\"fwd_azimuth_360\": 359.6141802522083, \"segment_direction\": \"north-south\"}, {\"fwd_azimuth_360\": 180.82817272598632, \"segment_direction\": \"north-south\"}, {\"fwd_azimuth_360\": 355.00242146802475, \"segment_direction\": \"north-south\"}, {\"fwd_azimuth_360\": 269.99925428551444, \"segment_direction\": \"east-west\"}, {\"fwd_azimuth_360\": 86.99501111394544, \"segment_direction\": \"east-west\"}, {\"fwd_azimuth_360\": 353.954626169995, \"segment_direction\": \"north-south\"}, {\"fwd_azimuth_360\": 236.2044425093012, \"segment_direction\": \"east-west\"}, {\"fwd_azimuth_360\": 45.21830503737518, \"segment_direction\": \"north-south\"}, {\"fwd_azimuth_360\": 287.64369555561433, \"segment_direction\": \"east-west\"}, {\"fwd_azimuth_360\": 240.43645580067133, \"segment_direction\": \"east-west\"}, {\"fwd_azimuth_360\": 295.0012594100673, \"segment_direction\": \"east-west\"}, {\"fwd_azimuth_360\": 76.60635811463194, \"segment_direction\": \"east-west\"}, {\"fwd_azimuth_360\": 337.59040801225876, \"segment_direction\": \"north-south\"}, {\"fwd_azimuth_360\": 218.33624728400747, \"segment_direction\": \"north-south\"}, {\"fwd_azimuth_360\": 161.32897445753667, \"segment_direction\": \"north-south\"}, {\"fwd_azimuth_360\": 88.70559215844678, \"segment_direction\": \"east-west\"}, {\"fwd_azimuth_360\": 91.21694238525646, \"segment_direction\": \"east-west\"}, {\"fwd_azimuth_360\": 56.210874403214056, \"segment_direction\": \"east-west\"}, {\"fwd_azimuth_360\": 356.66442785281225, \"segment_direction\": \"north-south\"}, {\"fwd_azimuth_360\": 109.20576272545492, \"segment_direction\": \"east-west\"}, {\"fwd_azimuth_360\": 22.31446240696636, \"segment_direction\": \"north-south\"}, {\"fwd_azimuth_360\": 277.0607922793968, \"segment_direction\": \"east-west\"}, {\"fwd_azimuth_360\": 0.4116704213565147, \"segment_direction\": \"north-south\"}, {\"fwd_azimuth_360\": 67.70743971870263, \"segment_direction\": \"east-west\"}, {\"fwd_azimuth_360\": 104.2989158507653, \"segment_direction\": \"east-west\"}, {\"fwd_azimuth_360\": 118.42140334003024, \"segment_direction\": \"east-west\"}, {\"fwd_azimuth_360\": 95.62445371045229, \"segment_direction\": \"east-west\"}, {\"fwd_azimuth_360\": 205.7408629306796, \"segment_direction\": \"inconclusive\"}, {\"fwd_azimuth_360\": 54.32514083544891, \"segment_direction\": \"east-west\"}, {\"fwd_azimuth_360\": 78.84770285308166, \"segment_direction\": \"east-west\"}, {\"fwd_azimuth_360\": 235.38174623988922, \"segment_direction\": \"east-west\"}, {\"fwd_azimuth_360\": 43.08653627333212, \"segment_direction\": \"north-south\"}, {\"fwd_azimuth_360\": 180.61995449585805, \"segment_direction\": \"north-south\"}, {\"fwd_azimuth_360\": 1.548550936208433, \"segment_direction\": \"inconclusive\"}, {\"fwd_azimuth_360\": 0.35982331701012044, \"segment_direction\": \"north-south\"}, {\"fwd_azimuth_360\": 62.77540627394339, \"segment_direction\": \"east-west\"}, {\"fwd_azimuth_360\": 190.58718238010647, \"segment_direction\": \"north-south\"}, {\"fwd_azimuth_360\": 90.31841515636809, \"segment_direction\": \"east-west\"}, {\"fwd_azimuth_360\": 270.25703339681235, \"segment_direction\": \"east-west\"}, {\"fwd_azimuth_360\": 171.51628996606692, \"segment_direction\": \"north-south\"}, {\"fwd_azimuth_360\": 49.35419185168877, \"segment_direction\": \"east-west\"}, {\"fwd_azimuth_360\": 336.1927736684221, \"segment_direction\": \"north-south\"}, {\"fwd_azimuth_360\": 59.28324619928526, \"segment_direction\": \"east-west\"}, {\"fwd_azimuth_360\": 269.8332045107719, \"segment_direction\": \"east-west\"}, {\"fwd_azimuth_360\": 275.79965642886475, \"segment_direction\": \"east-west\"}, {\"fwd_azimuth_360\": 268.7430638096146, \"segment_direction\": \"east-west\"}, {\"fwd_azimuth_360\": 310.7472657635946, \"segment_direction\": \"east-west\"}, {\"fwd_azimuth_360\": 322.150717356149, \"segment_direction\": \"north-south\"}, {\"fwd_azimuth_360\": 60.79664651597456, \"segment_direction\": \"east-west\"}, {\"fwd_azimuth_360\": 5.854181267839285, \"segment_direction\": \"north-south\"}, {\"fwd_azimuth_360\": 133.96202478893372, \"segment_direction\": \"east-west\"}, {\"fwd_azimuth_360\": 341.70690341955066, \"segment_direction\": \"north-south\"}, {\"fwd_azimuth_360\": 355.67734316252216, \"segment_direction\": \"north-south\"}, {\"fwd_azimuth_360\": 204.72425124856662, \"segment_direction\": \"north-south\"}, {\"fwd_azimuth_360\": 270.379391164818, \"segment_direction\": \"east-west\"}, {\"fwd_azimuth_360\": 26.907682610177154, \"segment_direction\": \"north-south\"}, {\"fwd_azimuth_360\": 171.1117863898346, \"segment_direction\": \"north-south\"}, {\"fwd_azimuth_360\": 176.8167482262045, \"segment_direction\": \"north-south\"}, {\"fwd_azimuth_360\": 93.56465074702797, \"segment_direction\": \"east-west\"}, {\"fwd_azimuth_360\": 57.18614320722591, \"segment_direction\": \"east-west\"}, {\"fwd_azimuth_360\": 179.79761609022742, \"segment_direction\": \"north-south\"}, {\"fwd_azimuth_360\": 359.8211359607605, \"segment_direction\": \"north-south\"}, {\"fwd_azimuth_360\": 319.86576707986353, \"segment_direction\": \"north-south\"}, {\"fwd_azimuth_360\": 89.87402114496321, \"segment_direction\": \"east-west\"}, {\"fwd_azimuth_360\": 137.0222925239965, \"segment_direction\": \"north-south\"}, {\"fwd_azimuth_360\": 183.1948228758064, \"segment_direction\": \"north-south\"}, {\"fwd_azimuth_360\": 89.21639854694538, \"segment_direction\": \"east-west\"}, {\"fwd_azimuth_360\": 90.5386834936842, \"segment_direction\": \"east-west\"}, {\"fwd_azimuth_360\": 203.30766558002327, \"segment_direction\": \"north-south\"}, {\"fwd_azimuth_360\": 65.78030960343051, \"segment_direction\": \"east-west\"}, {\"fwd_azimuth_360\": 269.9681473385588, \"segment_direction\": \"east-west\"}, {\"fwd_azimuth_360\": 113.9387299616728, \"segment_direction\": \"east-west\"}, {\"fwd_azimuth_360\": 81.68716626907067, \"segment_direction\": \"east-west\"}, {\"fwd_azimuth_360\": 274.2383801561201, \"segment_direction\": \"east-west\"}, {\"fwd_azimuth_360\": 117.50670966573755, \"segment_direction\": \"east-west\"}, {\"fwd_azimuth_360\": 355.0510314207146, \"segment_direction\": \"north-south\"}, {\"fwd_azimuth_360\": 31.15802763573636, \"segment_direction\": \"north-south\"}, {\"fwd_azimuth_360\": 121.86193324394453, \"segment_direction\": \"east-west\"}, {\"fwd_azimuth_360\": 294.86473385762906, \"segment_direction\": \"east-west\"}, {\"fwd_azimuth_360\": 305.33738987735114, \"segment_direction\": \"east-west\"}, {\"fwd_azimuth_360\": 149.64643040255112, \"segment_direction\": \"inconclusive\"}, {\"fwd_azimuth_360\": 98.41887111993589, \"segment_direction\": \"east-west\"}, {\"fwd_azimuth_360\": 55.5014850402334, \"segment_direction\": \"east-west\"}, {\"fwd_azimuth_360\": 75.96567963970519, \"segment_direction\": \"east-west\"}, {\"fwd_azimuth_360\": 101.00620304599906, \"segment_direction\": \"east-west\"}, {\"fwd_azimuth_360\": 207.2291815128281, \"segment_direction\": \"north-south\"}, {\"fwd_azimuth_360\": 213.14388875617422, \"segment_direction\": \"north-south\"}, {\"fwd_azimuth_360\": 60.63625972505084, \"segment_direction\": \"east-west\"}, {\"fwd_azimuth_360\": 89.82302579878919, \"segment_direction\": \"east-west\"}, {\"fwd_azimuth_360\": 110.76148652101811, \"segment_direction\": \"east-west\"}, {\"fwd_azimuth_360\": 180.0524352540213, \"segment_direction\": \"north-south\"}, {\"fwd_azimuth_360\": 332.80549244618044, \"segment_direction\": \"north-south\"}, {\"fwd_azimuth_360\": 88.30836571816114, \"segment_direction\": \"east-west\"}, {\"fwd_azimuth_360\": 81.82767795212268, \"segment_direction\": \"east-west\"}, {\"fwd_azimuth_360\": 283.5413462343447, \"segment_direction\": \"east-west\"}, {\"fwd_azimuth_360\": 28.83045092798375, \"segment_direction\": \"north-south\"}, {\"fwd_azimuth_360\": 240.68312429799533, \"segment_direction\": \"east-west\"}, {\"fwd_azimuth_360\": 95.4069958811343, \"segment_direction\": \"east-west\"}, {\"fwd_azimuth_360\": 322.79428013832006, \"segment_direction\": \"north-south\"}, {\"fwd_azimuth_360\": 235.50711682034796, \"segment_direction\": \"east-west\"}, {\"fwd_azimuth_360\": 90.79715368948436, \"segment_direction\": \"east-west\"}, {\"fwd_azimuth_360\": 359.538155377798, \"segment_direction\": \"north-south\"}, {\"fwd_azimuth_360\": 114.12736093253899, \"segment_direction\": \"east-west\"}, {\"fwd_azimuth_360\": 51.551635720040814, \"segment_direction\": \"east-west\"}, {\"fwd_azimuth_360\": 74.17403887750277, \"segment_direction\": \"east-west\"}, {\"fwd_azimuth_360\": 235.76285031846243, \"segment_direction\": \"east-west\"}, {\"fwd_azimuth_360\": 238.67569031080902, \"segment_direction\": \"east-west\"}, {\"fwd_azimuth_360\": 89.28718385988853, \"segment_direction\": \"east-west\"}, {\"fwd_azimuth_360\": 348.22256734378095, \"segment_direction\": \"north-south\"}, {\"fwd_azimuth_360\": 0.752826373718747, \"segment_direction\": \"north-south\"}, {\"fwd_azimuth_360\": 284.8820326553953, \"segment_direction\": \"east-west\"}, {\"fwd_azimuth_360\": 238.76917020074342, \"segment_direction\": \"east-west\"}, {\"fwd_azimuth_360\": 227.04890936320288, \"segment_direction\": \"east-west\"}, {\"fwd_azimuth_360\": 36.70960791139927, \"segment_direction\": \"north-south\"}, {\"fwd_azimuth_360\": 117.78552446488166, \"segment_direction\": \"east-west\"}, {\"fwd_azimuth_360\": 89.7878570455943, \"segment_direction\": \"east-west\"}, {\"fwd_azimuth_360\": 28.697341799476465, \"segment_direction\": \"north-south\"}, {\"fwd_azimuth_360\": 127.57448707209042, \"segment_direction\": \"east-west\"}, {\"fwd_azimuth_360\": 90.42379136122126, \"segment_direction\": \"east-west\"}, {\"fwd_azimuth_360\": 165.71749983224507, \"segment_direction\": \"north-south\"}, {\"fwd_azimuth_360\": 345.18709677068733, \"segment_direction\": \"north-south\"}, {\"fwd_azimuth_360\": 13.258965982327569, \"segment_direction\": \"north-south\"}, {\"fwd_azimuth_360\": 81.5289833355983, \"segment_direction\": \"east-west\"}, {\"fwd_azimuth_360\": 121.53121098604362, \"segment_direction\": \"east-west\"}, {\"fwd_azimuth_360\": 137.32206799609332, \"segment_direction\": \"north-south\"}, {\"fwd_azimuth_360\": 63.71114519270373, \"segment_direction\": \"east-west\"}, {\"fwd_azimuth_360\": 51.829175421714886, \"segment_direction\": \"east-west\"}, {\"fwd_azimuth_360\": 308.4428541030144, \"segment_direction\": \"east-west\"}, {\"fwd_azimuth_360\": 90.0191004413384, \"segment_direction\": \"east-west\"}, {\"fwd_azimuth_360\": 296.4315333171906, \"segment_direction\": \"east-west\"}, {\"fwd_azimuth_360\": 298.30918036573286, \"segment_direction\": \"east-west\"}, {\"fwd_azimuth_360\": 269.7265835268895, \"segment_direction\": \"east-west\"}, {\"fwd_azimuth_360\": 330.9933010242284, \"segment_direction\": \"north-south\"}, {\"fwd_azimuth_360\": 57.151747579135055, \"segment_direction\": \"east-west\"}, {\"fwd_azimuth_360\": 78.844673253377, \"segment_direction\": \"east-west\"}, {\"fwd_azimuth_360\": 90.37441724600207, \"segment_direction\": \"east-west\"}, {\"fwd_azimuth_360\": 270.01304364823477, \"segment_direction\": \"east-west\"}, {\"fwd_azimuth_360\": 129.5618174259037, \"segment_direction\": \"east-west\"}, {\"fwd_azimuth_360\": 315.0476376721413, \"segment_direction\": \"east-west\"}, {\"fwd_azimuth_360\": 16.532400511542317, \"segment_direction\": \"inconclusive\"}, {\"fwd_azimuth_360\": 180.0, \"segment_direction\": \"inconclusive\"}, {\"fwd_azimuth_360\": 61.187283253460976, \"segment_direction\": \"east-west\"}, {\"fwd_azimuth_360\": 263.17376784202617, \"segment_direction\": \"east-west\"}, {\"fwd_azimuth_360\": 89.8798777335446, \"segment_direction\": \"east-west\"}, {\"fwd_azimuth_360\": 60.18689293457119, \"segment_direction\": \"east-west\"}, {\"fwd_azimuth_360\": 356.074059939089, \"segment_direction\": \"north-south\"}, {\"fwd_azimuth_360\": 67.51913970018981, \"segment_direction\": \"east-west\"}, {\"fwd_azimuth_360\": 174.46786528442965, \"segment_direction\": \"north-south\"}, {\"fwd_azimuth_360\": 283.9194547402567, \"segment_direction\": \"east-west\"}, {\"fwd_azimuth_360\": 287.5790235260297, \"segment_direction\": \"east-west\"}, {\"fwd_azimuth_360\": 106.6371346083809, \"segment_direction\": \"east-west\"}, {\"fwd_azimuth_360\": 319.4936861250439, \"segment_direction\": \"north-south\"}, {\"fwd_azimuth_360\": 169.36802376402585, \"segment_direction\": \"north-south\"}, {\"fwd_azimuth_360\": 179.85147658990155, \"segment_direction\": \"north-south\"}, {\"fwd_azimuth_360\": 179.88304190924816, \"segment_direction\": \"north-south\"}, {\"fwd_azimuth_360\": 75.33416339344282, \"segment_direction\": \"east-west\"}, {\"fwd_azimuth_360\": 70.2130266902871, \"segment_direction\": \"east-west\"}, {\"fwd_azimuth_360\": 273.4336326033304, \"segment_direction\": \"east-west\"}, {\"fwd_azimuth_360\": 240.4594074517015, \"segment_direction\": \"east-west\"}, {\"fwd_azimuth_360\": 0.07944175830867327, \"segment_direction\": \"north-south\"}, {\"fwd_azimuth_360\": 298.6374871691965, \"segment_direction\": \"east-west\"}, {\"fwd_azimuth_360\": 315.0905764831085, \"segment_direction\": \"north-south\"}, {\"fwd_azimuth_360\": 327.0092806645528, \"segment_direction\": \"north-south\"}, {\"fwd_azimuth_360\": 289.2331331620806, \"segment_direction\": \"east-west\"}, {\"fwd_azimuth_360\": 246.9819321021409, \"segment_direction\": \"east-west\"}, {\"fwd_azimuth_360\": 282.27328141086474, \"segment_direction\": \"east-west\"}, {\"fwd_azimuth_360\": 36.04839131721079, \"segment_direction\": \"north-south\"}, {\"fwd_azimuth_360\": 90.01953642799799, \"segment_direction\": \"east-west\"}, {\"fwd_azimuth_360\": 55.17643348887726, \"segment_direction\": \"east-west\"}, {\"fwd_azimuth_360\": 179.91684135104288, \"segment_direction\": \"north-south\"}, {\"fwd_azimuth_360\": 35.847524130633374, \"segment_direction\": \"north-south\"}, {\"fwd_azimuth_360\": 359.75530433802334, \"segment_direction\": \"north-south\"}, {\"fwd_azimuth_360\": 179.94118550724335, \"segment_direction\": \"north-south\"}, {\"fwd_azimuth_360\": 272.73608327294255, \"segment_direction\": \"east-west\"}, {\"fwd_azimuth_360\": 108.26175401409645, \"segment_direction\": \"east-west\"}, {\"fwd_azimuth_360\": 5.448858058254892, \"segment_direction\": \"north-south\"}, {\"fwd_azimuth_360\": 89.78983604351005, \"segment_direction\": \"east-west\"}, {\"fwd_azimuth_360\": 260.1821304671839, \"segment_direction\": \"east-west\"}, {\"fwd_azimuth_360\": 285.6827884097853, \"segment_direction\": \"east-west\"}, {\"fwd_azimuth_360\": 90.1294773336581, \"segment_direction\": \"east-west\"}, {\"fwd_azimuth_360\": 269.5567664399713, \"segment_direction\": \"east-west\"}, {\"fwd_azimuth_360\": 195.36295314873658, \"segment_direction\": \"north-south\"}, {\"fwd_azimuth_360\": 28.35610907514678, \"segment_direction\": \"north-south\"}, {\"fwd_azimuth_360\": 288.59884544995344, \"segment_direction\": \"east-west\"}, {\"fwd_azimuth_360\": 254.03151477552626, \"segment_direction\": \"east-west\"}, {\"fwd_azimuth_360\": 170.5905110670062, \"segment_direction\": \"inconclusive\"}, {\"fwd_azimuth_360\": 90.063946595252, \"segment_direction\": \"east-west\"}, {\"fwd_azimuth_360\": 196.59129078169303, \"segment_direction\": \"north-south\"}, {\"fwd_azimuth_360\": 7.190413419072863, \"segment_direction\": \"north-south\"}, {\"fwd_azimuth_360\": 100.89784925606862, \"segment_direction\": \"east-west\"}, {\"fwd_azimuth_360\": 331.93288304824483, \"segment_direction\": \"north-south\"}, {\"fwd_azimuth_360\": 66.40511698951516, \"segment_direction\": \"east-west\"}, {\"fwd_azimuth_360\": 63.699637695499945, \"segment_direction\": \"east-west\"}, {\"fwd_azimuth_360\": 18.77239916251936, \"segment_direction\": \"north-south\"}, {\"fwd_azimuth_360\": 111.86124292595406, \"segment_direction\": \"east-west\"}, {\"fwd_azimuth_360\": 108.06246911729204, \"segment_direction\": \"east-west\"}, {\"fwd_azimuth_360\": 177.00899711377815, \"segment_direction\": \"north-south\"}, {\"fwd_azimuth_360\": 154.02199316017578, \"segment_direction\": \"north-south\"}, {\"fwd_azimuth_360\": 57.42354592660336, \"segment_direction\": \"east-west\"}, {\"fwd_azimuth_360\": 322.39734212393324, \"segment_direction\": \"north-south\"}, {\"fwd_azimuth_360\": 138.65163860479134, \"segment_direction\": \"north-south\"}, {\"fwd_azimuth_360\": 204.05029662936852, \"segment_direction\": \"north-south\"}, {\"fwd_azimuth_360\": 45.224121993282594, \"segment_direction\": \"north-south\"}, {\"fwd_azimuth_360\": 179.93107370019288, \"segment_direction\": \"north-south\"}, {\"fwd_azimuth_360\": 320.18515293244417, \"segment_direction\": \"north-south\"}, {\"fwd_azimuth_360\": 260.85972997278407, \"segment_direction\": \"east-west\"}, {\"fwd_azimuth_360\": 8.276960491899812, \"segment_direction\": \"north-south\"}, {\"fwd_azimuth_360\": 87.0215810779324, \"segment_direction\": \"east-west\"}, {\"fwd_azimuth_360\": 76.70824430823384, \"segment_direction\": \"east-west\"}, {\"fwd_azimuth_360\": 359.6612433381886, \"segment_direction\": \"north-south\"}, {\"fwd_azimuth_360\": 32.740078623096736, \"segment_direction\": \"north-south\"}, {\"fwd_azimuth_360\": 237.45527209174023, \"segment_direction\": \"east-west\"}, {\"fwd_azimuth_360\": 63.92621565000318, \"segment_direction\": \"east-west\"}, {\"fwd_azimuth_360\": 127.6967719428748, \"segment_direction\": \"east-west\"}, {\"fwd_azimuth_360\": 271.5478446329178, \"segment_direction\": \"east-west\"}, {\"fwd_azimuth_360\": 359.5795136064159, \"segment_direction\": \"north-south\"}, {\"fwd_azimuth_360\": 322.2547398178442, \"segment_direction\": \"north-south\"}, {\"fwd_azimuth_360\": 47.294881999825336, \"segment_direction\": \"east-west\"}, {\"fwd_azimuth_360\": 318.9128132354212, \"segment_direction\": \"north-south\"}, {\"fwd_azimuth_360\": 31.00504040043178, \"segment_direction\": \"north-south\"}, {\"fwd_azimuth_360\": 64.10378089344411, \"segment_direction\": \"east-west\"}, {\"fwd_azimuth_360\": 142.69494560081606, \"segment_direction\": \"north-south\"}, {\"fwd_azimuth_360\": 91.3630148743757, \"segment_direction\": \"east-west\"}, {\"fwd_azimuth_360\": 311.3968020803336, \"segment_direction\": \"east-west\"}, {\"fwd_azimuth_360\": 179.88733753091165, \"segment_direction\": \"north-south\"}, {\"fwd_azimuth_360\": 45.02321443321354, \"segment_direction\": \"east-west\"}, {\"fwd_azimuth_360\": 101.06534302144574, \"segment_direction\": \"east-west\"}, {\"fwd_azimuth_360\": 179.9459789338555, \"segment_direction\": \"north-south\"}, {\"fwd_azimuth_360\": 92.38361684539036, \"segment_direction\": \"east-west\"}, {\"fwd_azimuth_360\": 64.38387104393378, \"segment_direction\": \"east-west\"}, {\"fwd_azimuth_360\": 43.535129897927206, \"segment_direction\": \"north-south\"}, {\"fwd_azimuth_360\": 92.52849554848116, \"segment_direction\": \"east-west\"}, {\"fwd_azimuth_360\": 266.7802604917547, \"segment_direction\": \"east-west\"}, {\"fwd_azimuth_360\": 269.42305218952356, \"segment_direction\": \"east-west\"}, {\"fwd_azimuth_360\": 1.3473847531652667, \"segment_direction\": \"north-south\"}, {\"fwd_azimuth_360\": 91.92018019967533, \"segment_direction\": \"east-west\"}, {\"fwd_azimuth_360\": 92.74562509472491, \"segment_direction\": \"east-west\"}, {\"fwd_azimuth_360\": 259.8976802575506, \"segment_direction\": \"east-west\"}, {\"fwd_azimuth_360\": 274.93859560783966, \"segment_direction\": \"east-west\"}, {\"fwd_azimuth_360\": 47.294881999825336, \"segment_direction\": \"east-west\"}, {\"fwd_azimuth_360\": 117.84192126337908, \"segment_direction\": \"east-west\"}, {\"fwd_azimuth_360\": 96.32524335335954, \"segment_direction\": \"east-west\"}, {\"fwd_azimuth_360\": 85.05272193702677, \"segment_direction\": \"east-west\"}, {\"fwd_azimuth_360\": 270.04704176857575, \"segment_direction\": \"east-west\"}, {\"fwd_azimuth_360\": 4.5136180327903626, \"segment_direction\": \"north-south\"}, {\"fwd_azimuth_360\": 1.538467776994948, \"segment_direction\": \"north-south\"}, {\"fwd_azimuth_360\": 50.08457724899536, \"segment_direction\": \"east-west\"}, {\"fwd_azimuth_360\": 58.4193899798648, \"segment_direction\": \"east-west\"}, {\"fwd_azimuth_360\": 86.87107980213847, \"segment_direction\": \"east-west\"}, {\"fwd_azimuth_360\": 85.55598036106309, \"segment_direction\": \"inconclusive\"}, {\"fwd_azimuth_360\": 0.09231018781068404, \"segment_direction\": \"north-south\"}, {\"fwd_azimuth_360\": 49.77781563838007, \"segment_direction\": \"east-west\"}, {\"fwd_azimuth_360\": 89.08508174627445, \"segment_direction\": \"east-west\"}, {\"fwd_azimuth_360\": 241.0669213899009, \"segment_direction\": \"east-west\"}, {\"fwd_azimuth_360\": 125.19775315989969, \"segment_direction\": \"east-west\"}, {\"fwd_azimuth_360\": 291.64656368931844, \"segment_direction\": \"east-west\"}, {\"fwd_azimuth_360\": 359.5732651356918, \"segment_direction\": \"north-south\"}, {\"fwd_azimuth_360\": 15.953036459001243, \"segment_direction\": \"north-south\"}, {\"fwd_azimuth_360\": 358.57302617552017, \"segment_direction\": \"north-south\"}, {\"fwd_azimuth_360\": 59.30623000034479, \"segment_direction\": \"east-west\"}, {\"fwd_azimuth_360\": 359.4823736197158, \"segment_direction\": \"north-south\"}, {\"fwd_azimuth_360\": 97.94629290614733, \"segment_direction\": \"east-west\"}, {\"fwd_azimuth_360\": 297.99745363285996, \"segment_direction\": \"east-west\"}, {\"fwd_azimuth_360\": 152.29892217419064, \"segment_direction\": \"north-south\"}, {\"fwd_azimuth_360\": 3.7182795112515823, \"segment_direction\": \"north-south\"}, {\"fwd_azimuth_360\": 108.41946213105066, \"segment_direction\": \"east-west\"}, {\"fwd_azimuth_360\": 0.30461568923836607, \"segment_direction\": \"north-south\"}, {\"fwd_azimuth_360\": 307.92827254465806, \"segment_direction\": \"east-west\"}, {\"fwd_azimuth_360\": 180.1467233690416, \"segment_direction\": \"north-south\"}, {\"fwd_azimuth_360\": 0.30038238627372543, \"segment_direction\": \"north-south\"}, {\"fwd_azimuth_360\": 90.13320609837608, \"segment_direction\": \"east-west\"}, {\"fwd_azimuth_360\": 157.13267910902854, \"segment_direction\": \"north-south\"}, {\"fwd_azimuth_360\": 353.5120692131449, \"segment_direction\": \"north-south\"}, {\"fwd_azimuth_360\": 111.84254369805888, \"segment_direction\": \"east-west\"}, {\"fwd_azimuth_360\": 339.55569261895386, \"segment_direction\": \"north-south\"}, {\"fwd_azimuth_360\": 208.3201690185936, \"segment_direction\": \"north-south\"}, {\"fwd_azimuth_360\": 88.04122138979365, \"segment_direction\": \"east-west\"}, {\"fwd_azimuth_360\": 248.24842984029334, \"segment_direction\": \"east-west\"}, {\"fwd_azimuth_360\": 120.64424588645282, \"segment_direction\": \"east-west\"}, {\"fwd_azimuth_360\": 0.3174811976766606, \"segment_direction\": \"north-south\"}, {\"fwd_azimuth_360\": 190.1365630315068, \"segment_direction\": \"north-south\"}, {\"fwd_azimuth_360\": 328.83043413683686, \"segment_direction\": \"north-south\"}, {\"fwd_azimuth_360\": 322.79143589736435, \"segment_direction\": \"north-south\"}, {\"fwd_azimuth_360\": 359.20172553676423, \"segment_direction\": \"north-south\"}, {\"fwd_azimuth_360\": 359.7449991712939, \"segment_direction\": \"north-south\"}, {\"fwd_azimuth_360\": 359.57290856636666, \"segment_direction\": \"north-south\"}, {\"fwd_azimuth_360\": 260.1896752236403, \"segment_direction\": \"east-west\"}, {\"fwd_azimuth_360\": 89.4281747994391, \"segment_direction\": \"east-west\"}, {\"fwd_azimuth_360\": 112.92291773146556, \"segment_direction\": \"east-west\"}, {\"fwd_azimuth_360\": 242.24985781219414, \"segment_direction\": \"inconclusive\"}, {\"fwd_azimuth_360\": 115.1283034179108, \"segment_direction\": \"east-west\"}, {\"fwd_azimuth_360\": 92.42825353100801, \"segment_direction\": \"east-west\"}, {\"fwd_azimuth_360\": 194.59315939832945, \"segment_direction\": \"north-south\"}, {\"fwd_azimuth_360\": 182.44582548066452, \"segment_direction\": \"north-south\"}, {\"fwd_azimuth_360\": 174.29483674687296, \"segment_direction\": \"north-south\"}, {\"fwd_azimuth_360\": 359.8699658128369, \"segment_direction\": \"north-south\"}, {\"fwd_azimuth_360\": 87.12373611093132, \"segment_direction\": \"east-west\"}, {\"fwd_azimuth_360\": 162.88394300495563, \"segment_direction\": \"north-south\"}, {\"fwd_azimuth_360\": 261.1860620671472, \"segment_direction\": \"east-west\"}, {\"fwd_azimuth_360\": 285.2643065584674, \"segment_direction\": \"east-west\"}, {\"fwd_azimuth_360\": 52.00049912315226, \"segment_direction\": \"east-west\"}, {\"fwd_azimuth_360\": 39.735891828734935, \"segment_direction\": \"north-south\"}, {\"fwd_azimuth_360\": 99.20690202582627, \"segment_direction\": \"east-west\"}, {\"fwd_azimuth_360\": 171.4041372856745, \"segment_direction\": \"north-south\"}, {\"fwd_azimuth_360\": 135.9687585345361, \"segment_direction\": \"east-west\"}, {\"fwd_azimuth_360\": 89.83380458689128, \"segment_direction\": \"east-west\"}, {\"fwd_azimuth_360\": 297.6933229060508, \"segment_direction\": \"east-west\"}, {\"fwd_azimuth_360\": 167.65705804430007, \"segment_direction\": \"north-south\"}, {\"fwd_azimuth_360\": 180.31630558546814, \"segment_direction\": \"north-south\"}, {\"fwd_azimuth_360\": 359.6401038255266, \"segment_direction\": \"north-south\"}, {\"fwd_azimuth_360\": 287.2331534862988, \"segment_direction\": \"east-west\"}, {\"fwd_azimuth_360\": 31.917310680729074, \"segment_direction\": \"north-south\"}, {\"fwd_azimuth_360\": 104.29460442526346, \"segment_direction\": \"east-west\"}, {\"fwd_azimuth_360\": 122.63765365456572, \"segment_direction\": \"east-west\"}, {\"fwd_azimuth_360\": 256.26681106880505, \"segment_direction\": \"east-west\"}, {\"fwd_azimuth_360\": 340.50356851775507, \"segment_direction\": \"north-south\"}, {\"fwd_azimuth_360\": 323.67382984786434, \"segment_direction\": \"north-south\"}, {\"fwd_azimuth_360\": 279.65940836780885, \"segment_direction\": \"east-west\"}, {\"fwd_azimuth_360\": 75.06964536819085, \"segment_direction\": \"east-west\"}, {\"fwd_azimuth_360\": 235.63196440442442, \"segment_direction\": \"east-west\"}, {\"fwd_azimuth_360\": 35.153800973010654, \"segment_direction\": \"north-south\"}, {\"fwd_azimuth_360\": 356.66204862914003, \"segment_direction\": \"north-south\"}, {\"fwd_azimuth_360\": 358.18866843992447, \"segment_direction\": \"north-south\"}, {\"fwd_azimuth_360\": 278.8425568206212, \"segment_direction\": \"inconclusive\"}, {\"fwd_azimuth_360\": 90.13244925188653, \"segment_direction\": \"east-west\"}, {\"fwd_azimuth_360\": 359.84085697810855, \"segment_direction\": \"north-south\"}, {\"fwd_azimuth_360\": 297.77382515145564, \"segment_direction\": \"east-west\"}, {\"fwd_azimuth_360\": 78.844673253377, \"segment_direction\": \"east-west\"}, {\"fwd_azimuth_360\": 194.937729247099, \"segment_direction\": \"north-south\"}, {\"fwd_azimuth_360\": 88.97882590762347, \"segment_direction\": \"east-west\"}, {\"fwd_azimuth_360\": 359.67710933850924, \"segment_direction\": \"north-south\"}, {\"fwd_azimuth_360\": 42.33812781167032, \"segment_direction\": \"north-south\"}, {\"fwd_azimuth_360\": 89.8475816865286, \"segment_direction\": \"east-west\"}, {\"fwd_azimuth_360\": 171.72856918963106, \"segment_direction\": \"north-south\"}, {\"fwd_azimuth_360\": 15.148642009090185, \"segment_direction\": \"north-south\"}, {\"fwd_azimuth_360\": 199.17854131677367, \"segment_direction\": \"north-south\"}, {\"fwd_azimuth_360\": 89.59107272497805, \"segment_direction\": \"inconclusive\"}, {\"fwd_azimuth_360\": 319.7969334932128, \"segment_direction\": \"north-south\"}, {\"fwd_azimuth_360\": 51.74560221331362, \"segment_direction\": \"east-west\"}, {\"fwd_azimuth_360\": 234.2648780151135, \"segment_direction\": \"east-west\"}, {\"fwd_azimuth_360\": 344.2666844472739, \"segment_direction\": \"north-south\"}, {\"fwd_azimuth_360\": 63.27668413220614, \"segment_direction\": \"east-west\"}, {\"fwd_azimuth_360\": 186.49119600678492, \"segment_direction\": \"north-south\"}, {\"fwd_azimuth_360\": 162.7976342867324, \"segment_direction\": \"north-south\"}, {\"fwd_azimuth_360\": 153.19016137579823, \"segment_direction\": \"north-south\"}, {\"fwd_azimuth_360\": 0.21429090294013303, \"segment_direction\": \"north-south\"}, {\"fwd_azimuth_360\": 310.1422508305361, \"segment_direction\": \"east-west\"}, {\"fwd_azimuth_360\": 0.16485661063271584, \"segment_direction\": \"north-south\"}, {\"fwd_azimuth_360\": 321.4760434868259, \"segment_direction\": \"north-south\"}, {\"fwd_azimuth_360\": 330.1583252773548, \"segment_direction\": \"north-south\"}, {\"fwd_azimuth_360\": 179.71947082950345, \"segment_direction\": \"north-south\"}, {\"fwd_azimuth_360\": 6.642065942533448, \"segment_direction\": \"north-south\"}, {\"fwd_azimuth_360\": 303.28829797565345, \"segment_direction\": \"east-west\"}, {\"fwd_azimuth_360\": 169.48014649928865, \"segment_direction\": \"north-south\"}, {\"fwd_azimuth_360\": 19.303709387558055, \"segment_direction\": \"north-south\"}, {\"fwd_azimuth_360\": 74.45922749219316, \"segment_direction\": \"east-west\"}, {\"fwd_azimuth_360\": 180.0, \"segment_direction\": \"inconclusive\"}, {\"fwd_azimuth_360\": 269.9503002918535, \"segment_direction\": \"east-west\"}, {\"fwd_azimuth_360\": 77.7514983023097, \"segment_direction\": \"east-west\"}, {\"fwd_azimuth_360\": 341.3040184458027, \"segment_direction\": \"north-south\"}, {\"fwd_azimuth_360\": 20.241655394998574, \"segment_direction\": \"north-south\"}, {\"fwd_azimuth_360\": 270.7084471713359, \"segment_direction\": \"east-west\"}, {\"fwd_azimuth_360\": 78.46478394599461, \"segment_direction\": \"east-west\"}, {\"fwd_azimuth_360\": 254.6421737093204, \"segment_direction\": \"east-west\"}, {\"fwd_azimuth_360\": 32.0655414788318, \"segment_direction\": \"north-south\"}, {\"fwd_azimuth_360\": 145.26262073374676, \"segment_direction\": \"north-south\"}, {\"fwd_azimuth_360\": 167.10404534708107, \"segment_direction\": \"north-south\"}, {\"fwd_azimuth_360\": 239.5001361470852, \"segment_direction\": \"east-west\"}, {\"fwd_azimuth_360\": 115.14941032201708, \"segment_direction\": \"east-west\"}, {\"fwd_azimuth_360\": 165.43986293747707, \"segment_direction\": \"north-south\"}, {\"fwd_azimuth_360\": 99.30285770390753, \"segment_direction\": \"east-west\"}, {\"fwd_azimuth_360\": 180.1107821751234, \"segment_direction\": \"north-south\"}, {\"fwd_azimuth_360\": 98.71239489540271, \"segment_direction\": \"east-west\"}, {\"fwd_azimuth_360\": 235.67814577182872, \"segment_direction\": \"east-west\"}, {\"fwd_azimuth_360\": 93.10559261440054, \"segment_direction\": \"east-west\"}, {\"fwd_azimuth_360\": 316.67614866913846, \"segment_direction\": \"east-west\"}, {\"fwd_azimuth_360\": 301.8660381359117, \"segment_direction\": \"east-west\"}, {\"fwd_azimuth_360\": 93.57923556260843, \"segment_direction\": \"east-west\"}, {\"fwd_azimuth_360\": 51.167220243738946, \"segment_direction\": \"east-west\"}, {\"fwd_azimuth_360\": 69.03077302813837, \"segment_direction\": \"east-west\"}, {\"fwd_azimuth_360\": 270.0882267305217, \"segment_direction\": \"east-west\"}, {\"fwd_azimuth_360\": 359.6597161868151, \"segment_direction\": \"north-south\"}, {\"fwd_azimuth_360\": 180.3544830126766, \"segment_direction\": \"north-south\"}, {\"fwd_azimuth_360\": 180.02194179188618, \"segment_direction\": \"north-south\"}, {\"fwd_azimuth_360\": 355.25655691814615, \"segment_direction\": \"north-south\"}, {\"fwd_azimuth_360\": 269.7861431361234, \"segment_direction\": \"east-west\"}, {\"fwd_azimuth_360\": 155.94047195985593, \"segment_direction\": \"north-south\"}, {\"fwd_azimuth_360\": 335.305485507288, \"segment_direction\": \"north-south\"}, {\"fwd_azimuth_360\": 34.38881336483926, \"segment_direction\": \"north-south\"}, {\"fwd_azimuth_360\": 102.86326312812997, \"segment_direction\": \"east-west\"}, {\"fwd_azimuth_360\": 89.4088777855926, \"segment_direction\": \"east-west\"}, {\"fwd_azimuth_360\": 174.31572695617479, \"segment_direction\": \"north-south\"}, {\"fwd_azimuth_360\": 342.81342153202036, \"segment_direction\": \"north-south\"}, {\"fwd_azimuth_360\": 11.316253029591612, \"segment_direction\": \"north-south\"}, {\"fwd_azimuth_360\": 91.8776271685532, \"segment_direction\": \"east-west\"}, {\"fwd_azimuth_360\": 86.43178200413834, \"segment_direction\": \"east-west\"}, {\"fwd_azimuth_360\": 106.85643092440387, \"segment_direction\": \"east-west\"}, {\"fwd_azimuth_360\": 332.5634074044137, \"segment_direction\": \"north-south\"}, {\"fwd_azimuth_360\": 43.31675040782714, \"segment_direction\": \"north-south\"}, {\"fwd_azimuth_360\": 212.07438536592696, \"segment_direction\": \"north-south\"}, {\"fwd_azimuth_360\": 258.78472164924074, \"segment_direction\": \"east-west\"}, {\"fwd_azimuth_360\": 0.04160887393270348, \"segment_direction\": \"north-south\"}, {\"fwd_azimuth_360\": 15.245318012986647, \"segment_direction\": \"north-south\"}, {\"fwd_azimuth_360\": 116.04966191767848, \"segment_direction\": \"east-west\"}, {\"fwd_azimuth_360\": 89.81429385775598, \"segment_direction\": \"east-west\"}, {\"fwd_azimuth_360\": 266.1115515792019, \"segment_direction\": \"east-west\"}, {\"fwd_azimuth_360\": 359.3634301100345, \"segment_direction\": \"north-south\"}, {\"fwd_azimuth_360\": 330.4314611495914, \"segment_direction\": \"north-south\"}, {\"fwd_azimuth_360\": 286.9648520486711, \"segment_direction\": \"east-west\"}, {\"fwd_azimuth_360\": 39.705494962360184, \"segment_direction\": \"north-south\"}, {\"fwd_azimuth_360\": 311.63611433458, \"segment_direction\": \"east-west\"}, {\"fwd_azimuth_360\": 89.94607200032708, \"segment_direction\": \"east-west\"}, {\"fwd_azimuth_360\": 124.99523664763817, \"segment_direction\": \"inconclusive\"}, {\"fwd_azimuth_360\": 289.8275237459443, \"segment_direction\": \"east-west\"}, {\"fwd_azimuth_360\": 157.23363410008824, \"segment_direction\": \"north-south\"}, {\"fwd_azimuth_360\": 359.1506377967568, \"segment_direction\": \"north-south\"}, {\"fwd_azimuth_360\": 28.157773147124527, \"segment_direction\": \"north-south\"}, {\"fwd_azimuth_360\": 259.36314942246076, \"segment_direction\": \"east-west\"}, {\"fwd_azimuth_360\": 142.45329687539754, \"segment_direction\": \"north-south\"}, {\"fwd_azimuth_360\": 207.77264531758584, \"segment_direction\": \"north-south\"}, {\"fwd_azimuth_360\": 0.19612995343495046, \"segment_direction\": \"north-south\"}, {\"fwd_azimuth_360\": 88.04729534968932, \"segment_direction\": \"east-west\"}, {\"fwd_azimuth_360\": 35.349855719934766, \"segment_direction\": \"north-south\"}, {\"fwd_azimuth_360\": 225.14036440161016, \"segment_direction\": \"east-west\"}, {\"fwd_azimuth_360\": 298.8082060263255, \"segment_direction\": \"east-west\"}, {\"fwd_azimuth_360\": 124.89129423893097, \"segment_direction\": \"east-west\"}, {\"fwd_azimuth_360\": 288.20146167005254, \"segment_direction\": \"east-west\"}, {\"fwd_azimuth_360\": 74.60910092948359, \"segment_direction\": \"east-west\"}, {\"fwd_azimuth_360\": 60.946941446891955, \"segment_direction\": \"east-west\"}, {\"fwd_azimuth_360\": 284.59820304635724, \"segment_direction\": \"inconclusive\"}, {\"fwd_azimuth_360\": 279.9839019489331, \"segment_direction\": \"east-west\"}, {\"fwd_azimuth_360\": 179.41426183071755, \"segment_direction\": \"north-south\"}, {\"fwd_azimuth_360\": 270.02536152103823, \"segment_direction\": \"east-west\"}, {\"fwd_azimuth_360\": 298.33477012584007, \"segment_direction\": \"east-west\"}, {\"fwd_azimuth_360\": 100.29474040027529, \"segment_direction\": \"east-west\"}, {\"fwd_azimuth_360\": 81.71630745461509, \"segment_direction\": \"east-west\"}, {\"fwd_azimuth_360\": 338.2171836713623, \"segment_direction\": \"north-south\"}, {\"fwd_azimuth_360\": 0.07749148967455805, \"segment_direction\": \"north-south\"}, {\"fwd_azimuth_360\": 135.05101751090695, \"segment_direction\": \"north-south\"}, {\"fwd_azimuth_360\": 48.929416163143344, \"segment_direction\": \"east-west\"}, {\"fwd_azimuth_360\": 260.9157227803521, \"segment_direction\": \"east-west\"}, {\"fwd_azimuth_360\": 254.07057059356922, \"segment_direction\": \"east-west\"}, {\"fwd_azimuth_360\": 46.93298425490996, \"segment_direction\": \"east-west\"}, {\"fwd_azimuth_360\": 301.2506874043214, \"segment_direction\": \"east-west\"}, {\"fwd_azimuth_360\": 94.47104832455058, \"segment_direction\": \"east-west\"}, {\"fwd_azimuth_360\": 265.11725862004863, \"segment_direction\": \"east-west\"}, {\"fwd_azimuth_360\": 345.8949492330292, \"segment_direction\": \"north-south\"}, {\"fwd_azimuth_360\": 87.90245512043906, \"segment_direction\": \"east-west\"}, {\"fwd_azimuth_360\": 256.0117595596598, \"segment_direction\": \"east-west\"}, {\"fwd_azimuth_360\": 275.849062111046, \"segment_direction\": \"east-west\"}, {\"fwd_azimuth_360\": 263.72002472592396, \"segment_direction\": \"east-west\"}, {\"fwd_azimuth_360\": 144.33681263630191, \"segment_direction\": \"north-south\"}, {\"fwd_azimuth_360\": 90.33004758625104, \"segment_direction\": \"east-west\"}, {\"fwd_azimuth_360\": 175.63818200951044, \"segment_direction\": \"north-south\"}, {\"fwd_azimuth_360\": 120.34404164109513, \"segment_direction\": \"east-west\"}, {\"fwd_azimuth_360\": 124.90181787155146, \"segment_direction\": \"east-west\"}, {\"fwd_azimuth_360\": 89.12163569271304, \"segment_direction\": \"east-west\"}, {\"fwd_azimuth_360\": 314.84426389094324, \"segment_direction\": \"north-south\"}, {\"fwd_azimuth_360\": 211.48792246569317, \"segment_direction\": \"north-south\"}, {\"fwd_azimuth_360\": 115.54387494199781, \"segment_direction\": \"east-west\"}, {\"fwd_azimuth_360\": 270.09677530493514, \"segment_direction\": \"east-west\"}, {\"fwd_azimuth_360\": 180.16548092510212, \"segment_direction\": \"north-south\"}, {\"fwd_azimuth_360\": 99.65177996600889, \"segment_direction\": \"east-west\"}, {\"fwd_azimuth_360\": 321.98130267795005, \"segment_direction\": \"inconclusive\"}, {\"fwd_azimuth_360\": 90.0064110451149, \"segment_direction\": \"east-west\"}, {\"fwd_azimuth_360\": 170.8041673126917, \"segment_direction\": \"north-south\"}, {\"fwd_azimuth_360\": 89.62562939291773, \"segment_direction\": \"east-west\"}, {\"fwd_azimuth_360\": 89.45717373613888, \"segment_direction\": \"east-west\"}, {\"fwd_azimuth_360\": 208.08175006934803, \"segment_direction\": \"north-south\"}, {\"fwd_azimuth_360\": 224.96485999202062, \"segment_direction\": \"north-south\"}, {\"fwd_azimuth_360\": 177.92345632573486, \"segment_direction\": \"north-south\"}, {\"fwd_azimuth_360\": 251.96398344717196, \"segment_direction\": \"east-west\"}, {\"fwd_azimuth_360\": 151.7349700904409, \"segment_direction\": \"north-south\"}, {\"fwd_azimuth_360\": 307.72397367999525, \"segment_direction\": \"east-west\"}, {\"fwd_azimuth_360\": 160.22641543282114, \"segment_direction\": \"north-south\"}, {\"fwd_azimuth_360\": 89.31814734238883, \"segment_direction\": \"east-west\"}, {\"fwd_azimuth_360\": 100.24102493562718, \"segment_direction\": \"east-west\"}, {\"fwd_azimuth_360\": 106.43344521479207, \"segment_direction\": \"east-west\"}, {\"fwd_azimuth_360\": 334.06833191540994, \"segment_direction\": \"north-south\"}, {\"fwd_azimuth_360\": 343.69466306117454, \"segment_direction\": \"north-south\"}, {\"fwd_azimuth_360\": 28.015627641338543, \"segment_direction\": \"north-south\"}, {\"fwd_azimuth_360\": 48.51467860492298, \"segment_direction\": \"east-west\"}, {\"fwd_azimuth_360\": 341.98103952485747, \"segment_direction\": \"north-south\"}, {\"fwd_azimuth_360\": 6.502266414590975, \"segment_direction\": \"north-south\"}, {\"fwd_azimuth_360\": 258.72724344920607, \"segment_direction\": \"east-west\"}, {\"fwd_azimuth_360\": 122.81764644271044, \"segment_direction\": \"east-west\"}, {\"fwd_azimuth_360\": 179.8325328138351, \"segment_direction\": \"north-south\"}, {\"fwd_azimuth_360\": 90.46830469877614, \"segment_direction\": \"inconclusive\"}, {\"fwd_azimuth_360\": 262.2362245643255, \"segment_direction\": \"east-west\"}, {\"fwd_azimuth_360\": 125.48645724444037, \"segment_direction\": \"east-west\"}, {\"fwd_azimuth_360\": 269.9072021938523, \"segment_direction\": \"east-west\"}, {\"fwd_azimuth_360\": 347.9245322361752, \"segment_direction\": \"north-south\"}, {\"fwd_azimuth_360\": 254.80207473388876, \"segment_direction\": \"east-west\"}, {\"fwd_azimuth_360\": 89.7875535967324, \"segment_direction\": \"east-west\"}, {\"fwd_azimuth_360\": 335.5711607681851, \"segment_direction\": \"north-south\"}, {\"fwd_azimuth_360\": 239.3568054185342, \"segment_direction\": \"east-west\"}, {\"fwd_azimuth_360\": 0.0719636400525738, \"segment_direction\": \"north-south\"}, {\"fwd_azimuth_360\": 92.62161561891452, \"segment_direction\": \"east-west\"}, {\"fwd_azimuth_360\": 187.27277779449557, \"segment_direction\": \"north-south\"}, {\"fwd_azimuth_360\": 358.3959161076813, \"segment_direction\": \"north-south\"}, {\"fwd_azimuth_360\": 327.3297126115072, \"segment_direction\": \"north-south\"}, {\"fwd_azimuth_360\": 23.005213944380724, \"segment_direction\": \"inconclusive\"}, {\"fwd_azimuth_360\": 76.63672588321697, \"segment_direction\": \"east-west\"}, {\"fwd_azimuth_360\": 0.9231756900605634, \"segment_direction\": \"north-south\"}, {\"fwd_azimuth_360\": 334.51247402270025, \"segment_direction\": \"north-south\"}, {\"fwd_azimuth_360\": 15.496916453174174, \"segment_direction\": \"north-south\"}, {\"fwd_azimuth_360\": 117.35438516126351, \"segment_direction\": \"east-west\"}, {\"fwd_azimuth_360\": 359.82668100221656, \"segment_direction\": \"north-south\"}, {\"fwd_azimuth_360\": 161.74574167474847, \"segment_direction\": \"north-south\"}, {\"fwd_azimuth_360\": 89.6166922824909, \"segment_direction\": \"east-west\"}, {\"fwd_azimuth_360\": 78.42820144928461, \"segment_direction\": \"east-west\"}, {\"fwd_azimuth_360\": 146.49615377634163, \"segment_direction\": \"north-south\"}, {\"fwd_azimuth_360\": 88.91168889147635, \"segment_direction\": \"east-west\"}, {\"fwd_azimuth_360\": 94.0711621320586, \"segment_direction\": \"east-west\"}, {\"fwd_azimuth_360\": 176.3526385723969, \"segment_direction\": \"north-south\"}, {\"fwd_azimuth_360\": 268.63990445428317, \"segment_direction\": \"east-west\"}, {\"fwd_azimuth_360\": 270.22022516408265, \"segment_direction\": \"east-west\"}, {\"fwd_azimuth_360\": 169.19933981026978, \"segment_direction\": \"north-south\"}, {\"fwd_azimuth_360\": 269.8975108806702, \"segment_direction\": \"east-west\"}, {\"fwd_azimuth_360\": 165.60704238869707, \"segment_direction\": \"north-south\"}, {\"fwd_azimuth_360\": 272.7393503278972, \"segment_direction\": \"east-west\"}, {\"fwd_azimuth_360\": 80.74749319555136, \"segment_direction\": \"east-west\"}, {\"fwd_azimuth_360\": 125.2891891825341, \"segment_direction\": \"east-west\"}, {\"fwd_azimuth_360\": 276.9323077745886, \"segment_direction\": \"east-west\"}, {\"fwd_azimuth_360\": 288.8363945317304, \"segment_direction\": \"east-west\"}, {\"fwd_azimuth_360\": 93.5857374340992, \"segment_direction\": \"east-west\"}, {\"fwd_azimuth_360\": 345.6345346302566, \"segment_direction\": \"north-south\"}, {\"fwd_azimuth_360\": 354.6954023597717, \"segment_direction\": \"north-south\"}, {\"fwd_azimuth_360\": 208.26375543030892, \"segment_direction\": \"north-south\"}, {\"fwd_azimuth_360\": 90.93826507769913, \"segment_direction\": \"east-west\"}, {\"fwd_azimuth_360\": 318.53495842173993, \"segment_direction\": \"north-south\"}, {\"fwd_azimuth_360\": 211.0100343205841, \"segment_direction\": \"north-south\"}, {\"fwd_azimuth_360\": 318.7217315842995, \"segment_direction\": \"north-south\"}, {\"fwd_azimuth_360\": 329.0772501691819, \"segment_direction\": \"north-south\"}, {\"fwd_azimuth_360\": 190.7512706898185, \"segment_direction\": \"north-south\"}, {\"fwd_azimuth_360\": 351.5760794437413, \"segment_direction\": \"north-south\"}, {\"fwd_azimuth_360\": 316.5169378183834, \"segment_direction\": \"north-south\"}, {\"fwd_azimuth_360\": 215.42307047045563, \"segment_direction\": \"north-south\"}, {\"fwd_azimuth_360\": 332.1892901239746, \"segment_direction\": \"north-south\"}, {\"fwd_azimuth_360\": 90.1186507775091, \"segment_direction\": \"east-west\"}, {\"fwd_azimuth_360\": 359.76260447135917, \"segment_direction\": \"north-south\"}, {\"fwd_azimuth_360\": 355.92132740196234, \"segment_direction\": \"north-south\"}, {\"fwd_azimuth_360\": 131.66043916593347, \"segment_direction\": \"east-west\"}, {\"fwd_azimuth_360\": 270.16140528997954, \"segment_direction\": \"east-west\"}, {\"fwd_azimuth_360\": 28.001611177957646, \"segment_direction\": \"north-south\"}, {\"fwd_azimuth_360\": 84.95277876100644, \"segment_direction\": \"east-west\"}, {\"fwd_azimuth_360\": 359.932369537691, \"segment_direction\": \"north-south\"}, {\"fwd_azimuth_360\": 27.97235479380419, \"segment_direction\": \"north-south\"}, {\"fwd_azimuth_360\": 204.95483136868523, \"segment_direction\": \"north-south\"}, {\"fwd_azimuth_360\": 148.20454993236683, \"segment_direction\": \"north-south\"}, {\"fwd_azimuth_360\": 27.5636301855417, \"segment_direction\": \"north-south\"}, {\"fwd_azimuth_360\": 35.682929043626665, \"segment_direction\": \"north-south\"}, {\"fwd_azimuth_360\": 17.477632475510053, \"segment_direction\": \"north-south\"}, {\"fwd_azimuth_360\": 90.16097047812941, \"segment_direction\": \"east-west\"}, {\"fwd_azimuth_360\": 349.5420873572172, \"segment_direction\": \"north-south\"}, {\"fwd_azimuth_360\": 155.3289631601413, \"segment_direction\": \"north-south\"}, {\"fwd_azimuth_360\": 89.6867139723976, \"segment_direction\": \"east-west\"}, {\"fwd_azimuth_360\": 151.27670119719414, \"segment_direction\": \"north-south\"}, {\"fwd_azimuth_360\": 113.37951863820453, \"segment_direction\": \"east-west\"}, {\"fwd_azimuth_360\": 191.9008014582989, \"segment_direction\": \"north-south\"}, {\"fwd_azimuth_360\": 317.48439070468385, \"segment_direction\": \"north-south\"}, {\"fwd_azimuth_360\": 96.81675680385082, \"segment_direction\": \"east-west\"}, {\"fwd_azimuth_360\": 97.88989462085485, \"segment_direction\": \"east-west\"}, {\"fwd_azimuth_360\": 304.6411321684516, \"segment_direction\": \"east-west\"}, {\"fwd_azimuth_360\": 192.9949576909591, \"segment_direction\": \"north-south\"}, {\"fwd_azimuth_360\": 359.50535758517714, \"segment_direction\": \"north-south\"}, {\"fwd_azimuth_360\": 223.45491495790213, \"segment_direction\": \"north-south\"}, {\"fwd_azimuth_360\": 161.33818499336985, \"segment_direction\": \"north-south\"}, {\"fwd_azimuth_360\": 347.74743285271836, \"segment_direction\": \"north-south\"}, {\"fwd_azimuth_360\": 113.21718606200766, \"segment_direction\": \"inconclusive\"}, {\"fwd_azimuth_360\": 214.5608615631509, \"segment_direction\": \"north-south\"}, {\"fwd_azimuth_360\": 177.77345223768958, \"segment_direction\": \"north-south\"}, {\"fwd_azimuth_360\": 310.35638077309517, \"segment_direction\": \"east-west\"}, {\"fwd_azimuth_360\": 148.1407075787331, \"segment_direction\": \"north-south\"}, {\"fwd_azimuth_360\": 78.71882128377744, \"segment_direction\": \"east-west\"}, {\"fwd_azimuth_360\": 221.08353912030174, \"segment_direction\": \"north-south\"}, {\"fwd_azimuth_360\": 159.53104992953558, \"segment_direction\": \"north-south\"}, {\"fwd_azimuth_360\": 81.94933321178223, \"segment_direction\": \"east-west\"}, {\"fwd_azimuth_360\": 125.73305346639927, \"segment_direction\": \"east-west\"}, {\"fwd_azimuth_360\": 329.63489331234433, \"segment_direction\": \"north-south\"}, {\"fwd_azimuth_360\": 92.87608425295004, \"segment_direction\": \"east-west\"}, {\"fwd_azimuth_360\": 340.6835152381645, \"segment_direction\": \"north-south\"}, {\"fwd_azimuth_360\": 359.5732651356918, \"segment_direction\": \"north-south\"}, {\"fwd_azimuth_360\": 22.14866971634388, \"segment_direction\": \"north-south\"}, {\"fwd_azimuth_360\": 42.223014862653834, \"segment_direction\": \"north-south\"}, {\"fwd_azimuth_360\": 274.9192519711481, \"segment_direction\": \"east-west\"}, {\"fwd_azimuth_360\": 293.29927311544566, \"segment_direction\": \"east-west\"}, {\"fwd_azimuth_360\": 90.60195534908983, \"segment_direction\": \"east-west\"}, {\"fwd_azimuth_360\": 76.34529102824506, \"segment_direction\": \"east-west\"}, {\"fwd_azimuth_360\": 90.14570520199366, \"segment_direction\": \"east-west\"}, {\"fwd_azimuth_360\": 311.0973524859551, \"segment_direction\": \"east-west\"}, {\"fwd_azimuth_360\": 279.37736720194755, \"segment_direction\": \"east-west\"}, {\"fwd_azimuth_360\": 257.8559342341847, \"segment_direction\": \"east-west\"}, {\"fwd_azimuth_360\": 359.65971611661706, \"segment_direction\": \"north-south\"}, {\"fwd_azimuth_360\": 74.89778425274719, \"segment_direction\": \"east-west\"}, {\"fwd_azimuth_360\": 122.03490055310743, \"segment_direction\": \"east-west\"}, {\"fwd_azimuth_360\": 29.90388028867292, \"segment_direction\": \"north-south\"}, {\"fwd_azimuth_360\": 322.62188933910267, \"segment_direction\": \"north-south\"}, {\"fwd_azimuth_360\": 0.7734562225338684, \"segment_direction\": \"north-south\"}, {\"fwd_azimuth_360\": 67.70744235024443, \"segment_direction\": \"east-west\"}, {\"fwd_azimuth_360\": 0.17404664798804795, \"segment_direction\": \"north-south\"}, {\"fwd_azimuth_360\": 228.81538716913082, \"segment_direction\": \"east-west\"}, {\"fwd_azimuth_360\": 238.41768252124228, \"segment_direction\": \"east-west\"}, {\"fwd_azimuth_360\": 94.2291643530227, \"segment_direction\": \"east-west\"}, {\"fwd_azimuth_360\": 181.66277402367743, \"segment_direction\": \"north-south\"}, {\"fwd_azimuth_360\": 1.4156694616870313, \"segment_direction\": \"north-south\"}, {\"fwd_azimuth_360\": 120.87116489525448, \"segment_direction\": \"east-west\"}, {\"fwd_azimuth_360\": 359.5954020646252, \"segment_direction\": \"north-south\"}, {\"fwd_azimuth_360\": 337.3647628518205, \"segment_direction\": \"north-south\"}, {\"fwd_azimuth_360\": 235.46287289117626, \"segment_direction\": \"east-west\"}, {\"fwd_azimuth_360\": 197.4692648620862, \"segment_direction\": \"north-south\"}, {\"fwd_azimuth_360\": 360.0, \"segment_direction\": \"north-south\"}, {\"fwd_azimuth_360\": 269.9021811144904, \"segment_direction\": \"east-west\"}, {\"fwd_azimuth_360\": 277.2796802409482, \"segment_direction\": \"east-west\"}, {\"fwd_azimuth_360\": 347.05631288549887, \"segment_direction\": \"north-south\"}, {\"fwd_azimuth_360\": 318.0954134739245, \"segment_direction\": \"north-south\"}, {\"fwd_azimuth_360\": 89.54803912200374, \"segment_direction\": \"east-west\"}, {\"fwd_azimuth_360\": 355.1489236098256, \"segment_direction\": \"north-south\"}, {\"fwd_azimuth_360\": 13.36315468549271, \"segment_direction\": \"north-south\"}, {\"fwd_azimuth_360\": 339.49192497545135, \"segment_direction\": \"north-south\"}, {\"fwd_azimuth_360\": 135.93513762531518, \"segment_direction\": \"north-south\"}, {\"fwd_azimuth_360\": 120.65464755304569, \"segment_direction\": \"east-west\"}, {\"fwd_azimuth_360\": 269.4005461962216, \"segment_direction\": \"east-west\"}, {\"fwd_azimuth_360\": 0.6471972092979943, \"segment_direction\": \"north-south\"}, {\"fwd_azimuth_360\": 39.000465940607, \"segment_direction\": \"north-south\"}, {\"fwd_azimuth_360\": 359.733857495776, \"segment_direction\": \"north-south\"}, {\"fwd_azimuth_360\": 302.1986806807413, \"segment_direction\": \"east-west\"}, {\"fwd_azimuth_360\": 337.42392871578517, \"segment_direction\": \"north-south\"}, {\"fwd_azimuth_360\": 62.589339678686194, \"segment_direction\": \"east-west\"}, {\"fwd_azimuth_360\": 82.71250477385736, \"segment_direction\": \"east-west\"}]}}, {\"mode\": \"vega-lite\"});\n",
       "</script>"
      ],
      "text/plain": [
       "alt.Chart(...)"
      ]
     },
     "execution_count": 18,
     "metadata": {},
     "output_type": "execute_result"
    }
   ],
   "source": [
    "import altair as alt\n",
    "# alt.data_transformers.enable(\"vegafusion\")\n",
    "data = corridors[['fwd_azimuth_360', 'segment_direction']].sample(4999) #  sample to avoid needing vegafusion for this visual\n",
    "alt.Chart(data, title = 'HQTA Segment Directions and Azimuth').mark_bar().encode(\n",
    "    # x=alt.X('azimuth'),\n",
    "    x=alt.X('fwd_azimuth_360', bin=alt.Bin(step=5)),\n",
    "    y='count()',\n",
    "    color='segment_direction'\n",
    ")"
   ]
  },
  {
   "cell_type": "code",
   "execution_count": 19,
   "id": "1903f2c6-7edc-4f18-b857-bfd1f59e979b",
   "metadata": {
    "tags": []
   },
   "outputs": [],
   "source": [
    "# corridors.explore(column='fwd_azimuth_360')"
   ]
  },
  {
   "cell_type": "code",
   "execution_count": 121,
   "id": "a3a950c2-db0c-4dff-b66a-f25ffcc2ba30",
   "metadata": {
    "tags": []
   },
   "outputs": [],
   "source": [
    "back_azi = lambda x: x - 180 if x >= 180 else x + 180\n",
    "\n",
    "def azimuth_360_compare(azi1, azi2) -> float:\n",
    "    '''\n",
    "    compare two 360-degree azimuths\n",
    "    '''\n",
    "    if azi1 >= azi2:\n",
    "        return azi1 - azi2\n",
    "    else:\n",
    "        return azi2 - azi1\n",
    "\n",
    "def find_intersections_azimuth(azi1, azi2, threshold_degrees = 45) -> bool:\n",
    "    '''\n",
    "    With two 360-degree azimuths, compare all combininations of forward\n",
    "    and back azimuths to see if all are more than a specified degree threshold apart.\n",
    "    \n",
    "    find_intersections_azimuth(360, 45) should return True\n",
    "    find_intersections_azimuth(40, 80) should return False\n",
    "    '''\n",
    "    back_azi_2 = back_azi(azi2)\n",
    "    back_azi_1 = back_azi(azi1)\n",
    "    to_compare = [(azi1, azi2), (azi1, back_azi_2), (back_azi_1, azi2), (back_azi_1, back_azi_2)]\n",
    "    compare_all = [azimuth_360_compare(x, y) for x, y in to_compare]\n",
    "    # print(compare_all)\n",
    "    return not(any([x < threshold_degrees for x in compare_all]))"
   ]
  },
  {
   "cell_type": "code",
   "execution_count": 113,
   "id": "65a18e9f-ec68-431d-97ad-daf47dca968b",
   "metadata": {
    "tags": []
   },
   "outputs": [
    {
     "name": "stdout",
     "output_type": "stream",
     "text": [
      "[179, 1, 1, 181]\n"
     ]
    },
    {
     "data": {
      "text/plain": [
       "False"
      ]
     },
     "execution_count": 113,
     "metadata": {},
     "output_type": "execute_result"
    }
   ],
   "source": [
    "find_intersections_azimuth(179, 358)"
   ]
  },
  {
   "cell_type": "code",
   "execution_count": 122,
   "id": "8d9569e8-e849-4969-8e61-560e681c83f9",
   "metadata": {
    "tags": []
   },
   "outputs": [
    {
     "data": {
      "text/plain": [
       "True"
      ]
     },
     "execution_count": 122,
     "metadata": {},
     "output_type": "execute_result"
    }
   ],
   "source": [
    "find_intersections_azimuth(360, 45)"
   ]
  },
  {
   "cell_type": "code",
   "execution_count": 23,
   "id": "2a5c3261-dbd6-4e40-836d-c36f6f07422c",
   "metadata": {
    "tags": []
   },
   "outputs": [
    {
     "data": {
      "text/plain": [
       "False"
      ]
     },
     "execution_count": 23,
     "metadata": {},
     "output_type": "execute_result"
    }
   ],
   "source": [
    "find_intersections_azimuth(10, 350)"
   ]
  },
  {
   "cell_type": "code",
   "execution_count": 24,
   "id": "b653cec9-5053-4b7f-8477-e2015d86f3ab",
   "metadata": {
    "tags": []
   },
   "outputs": [
    {
     "data": {
      "text/plain": [
       "False"
      ]
     },
     "execution_count": 24,
     "metadata": {},
     "output_type": "execute_result"
    }
   ],
   "source": [
    "find_intersections_azimuth(350, 0)"
   ]
  },
  {
   "cell_type": "code",
   "execution_count": 25,
   "id": "1c83f9f4-eaa6-499a-adc7-97252916faad",
   "metadata": {
    "tags": []
   },
   "outputs": [
    {
     "data": {
      "text/plain": [
       "False"
      ]
     },
     "execution_count": 25,
     "metadata": {},
     "output_type": "execute_result"
    }
   ],
   "source": [
    "find_intersections_azimuth(60, 100)"
   ]
  },
  {
   "cell_type": "code",
   "execution_count": 26,
   "id": "a0f49464-a6c1-4d33-98a8-196368d852b4",
   "metadata": {
    "tags": []
   },
   "outputs": [
    {
     "data": {
      "text/plain": [
       "False"
      ]
     },
     "execution_count": 26,
     "metadata": {},
     "output_type": "execute_result"
    }
   ],
   "source": [
    "find_intersections_azimuth(39, 12)"
   ]
  },
  {
   "cell_type": "code",
   "execution_count": 115,
   "id": "a185f83e-4636-4889-95da-5bc80b920e56",
   "metadata": {
    "tags": []
   },
   "outputs": [
    {
     "data": {
      "text/plain": [
       "True"
      ]
     },
     "execution_count": 115,
     "metadata": {},
     "output_type": "execute_result"
    }
   ],
   "source": [
    "find_intersections_azimuth(45, 359)"
   ]
  },
  {
   "cell_type": "markdown",
   "id": "2e8ceff9-6118-4886-ac1d-595df885cf31",
   "metadata": {
    "tags": []
   },
   "source": [
    "## test new corridors function"
   ]
  },
  {
   "cell_type": "code",
   "execution_count": 28,
   "id": "3c91bcec-a5b3-4ff5-91d3-4194337add60",
   "metadata": {
    "tags": []
   },
   "outputs": [],
   "source": [
    "def sjoin_against_other_operators(\n",
    "    in_group_df: gpd.GeoDataFrame, \n",
    "    out_group_df: gpd.GeoDataFrame\n",
    ") -> pd.DataFrame: \n",
    "    \"\"\"\n",
    "    Spatial join of the in group vs the out group. \n",
    "    This could be the operator vs other operators, \n",
    "    or a route vs other routes. This is currently\n",
    "    east-west vs north-south segments, which requires\n",
    "    the additional step of excluding intersections\n",
    "    resulting from the same route changing direction.\n",
    "    \n",
    "    Create a crosswalk / pairwise table showing these links.\n",
    "    \n",
    "    Compile all of them, because finding intersections is \n",
    "    computationally expensive,\n",
    "    so we want to do it on fewer rows. \n",
    "    \"\"\"\n",
    "    route_cols = [\"hqta_segment_id\", \"segment_direction\", \"route_key\", \"fwd_azimuth_360\"]\n",
    "    \n",
    "    s1 = gpd.sjoin(\n",
    "        in_group_df[route_cols + [\"geometry\"]], \n",
    "        out_group_df[route_cols  + [\"geometry\"]],\n",
    "        how = \"inner\",\n",
    "        predicate = \"intersects\"\n",
    "    ).drop(columns = [\"index_right\", \"geometry\"])\n",
    "                \n",
    "    route_pairs = (\n",
    "        s1.rename(\n",
    "            columns = {\n",
    "                \"hqta_segment_id_left\": \"hqta_segment_id\",\n",
    "                \"hqta_segment_id_right\": \"intersect_hqta_segment_id\",\n",
    "                \"fwd_azimuth_360_left\": \"fwd_azimuth_360\",\n",
    "                \"fwd_azimuth_360_right\": \"intersect_fwd_azimuth_360\"\n",
    "            })\n",
    "          [[\"hqta_segment_id\", \"intersect_hqta_segment_id\", \"fwd_azimuth_360\", \"intersect_fwd_azimuth_360\"]]\n",
    "          .drop_duplicates()\n",
    "          .reset_index(drop=True)\n",
    "    )\n",
    "    route_pairs = route_pairs.assign(intersect = route_pairs.apply(\n",
    "        lambda x: find_intersections_azimuth(x.fwd_azimuth_360, x.intersect_fwd_azimuth_360), axis=1)\n",
    "        )\n",
    "    # print(route_pairs.empty)\n",
    "    return route_pairs.query('intersect')"
   ]
  },
  {
   "cell_type": "code",
   "execution_count": 29,
   "id": "323d760b-428a-4be8-baf5-88ae0105bdae",
   "metadata": {
    "tags": []
   },
   "outputs": [
    {
     "data": {
      "text/plain": [
       "False"
      ]
     },
     "execution_count": 29,
     "metadata": {},
     "output_type": "execute_result"
    }
   ],
   "source": [
    "find_intersections_azimuth(59, 21)"
   ]
  },
  {
   "cell_type": "code",
   "execution_count": 30,
   "id": "235ed4cb-9b36-4342-bc44-a087186aaab6",
   "metadata": {
    "tags": []
   },
   "outputs": [],
   "source": [
    "test_ecr = sjoin_against_other_operators(corridors.query('route_id == \"Rapid 522\"'), corridors.query('route_id != \"Rapid 522\"'))"
   ]
  },
  {
   "cell_type": "code",
   "execution_count": 31,
   "id": "84afc532-6352-4b5b-a5c0-8adc3df31848",
   "metadata": {
    "tags": []
   },
   "outputs": [],
   "source": [
    "def pairwise_intersections(\n",
    "    corridors_gdf: gpd.GeoDataFrame\n",
    ") -> gpd.GeoDataFrame:\n",
    "    \"\"\"\n",
    "    Do pairwise comparisons of hqta segments.\n",
    "    Take all the north-south segments and compare to east-west\n",
    "    and vice versa.\n",
    "    \"\"\"\n",
    "    # Intersect each route with all others\n",
    "    corridors_gdf = corridors_gdf[corridors_gdf['segment_direction'] != 'inconclusive']\n",
    "    results = [\n",
    "        sjoin_against_other_operators(corridors.query('route_key == @route_key'),\n",
    "                                      corridors.query('route_key != @route_key'))\n",
    "        for route_key in corridors_gdf.route_key.unique()\n",
    "    ]\n",
    "    \n",
    "    pairs = pd.concat(results, axis=0, ignore_index=True)\n",
    "    \n",
    "    segments_p1 = pairs.hqta_segment_id.unique()\n",
    "    segments_p2 = pairs.intersect_hqta_segment_id.unique()\n",
    "    \n",
    "    # Subset the hqta segments that do have hq_transit_corr == True \n",
    "    # down to the ones where routes have with sjoin intersections\n",
    "    corridors2 = (\n",
    "        corridors_gdf[\n",
    "            (corridors_gdf.hqta_segment_id.isin(segments_p1)) | \n",
    "            (corridors_gdf.hqta_segment_id.isin(segments_p2))]\n",
    "        .drop_duplicates()\n",
    "        .sort_values(\n",
    "            [\"schedule_gtfs_dataset_key\", \"route_id\", \"hqta_segment_id\"], \n",
    "            ascending = [True, True, True])\n",
    "        .reset_index(drop=True)\n",
    "    )\n",
    "    \n",
    "    return pairs, corridors2"
   ]
  },
  {
   "cell_type": "code",
   "execution_count": 32,
   "id": "ef7977ac-4fc5-4876-807a-eb8f64c55edf",
   "metadata": {
    "tags": []
   },
   "outputs": [
    {
     "name": "stderr",
     "output_type": "stream",
     "text": [
      "/tmp/ipykernel_19780/3929986142.py:19: FutureWarning: Behavior when concatenating bool-dtype and numeric-dtype arrays is deprecated; in a future version these will cast to object dtype (instead of coercing bools to numeric values). To retain the old behavior, explicitly cast bool-dtype arrays to numeric dtype.\n",
      "  pairs = pd.concat(results, axis=0, ignore_index=True)\n"
     ]
    }
   ],
   "source": [
    "pairs, corridors2 = pairwise_intersections(corridors)"
   ]
  },
  {
   "cell_type": "code",
   "execution_count": 33,
   "id": "e77377d2-c6ec-496b-8e1a-8429326eef9a",
   "metadata": {
    "tags": []
   },
   "outputs": [],
   "source": [
    "import get_intersections"
   ]
  },
  {
   "cell_type": "code",
   "execution_count": 34,
   "id": "e9c0207a-8217-4cfd-8324-d03deca48fe9",
   "metadata": {
    "tags": []
   },
   "outputs": [],
   "source": [
    "pairs_table = get_intersections.attach_geometry_to_pairs(corridors2, pairs)"
   ]
  },
  {
   "cell_type": "code",
   "execution_count": 35,
   "id": "4328ba6c-a73f-4f86-84d2-5d0ae1cdaaef",
   "metadata": {
    "tags": []
   },
   "outputs": [],
   "source": [
    "results = get_intersections.find_intersections(pairs_table)"
   ]
  },
  {
   "cell_type": "code",
   "execution_count": 36,
   "id": "229fe6ae-7360-4d4d-b9a9-a1038c7ce89c",
   "metadata": {
    "tags": []
   },
   "outputs": [
    {
     "data": {
      "text/html": [
       "<div>\n",
       "<style scoped>\n",
       "    .dataframe tbody tr th:only-of-type {\n",
       "        vertical-align: middle;\n",
       "    }\n",
       "\n",
       "    .dataframe tbody tr th {\n",
       "        vertical-align: top;\n",
       "    }\n",
       "\n",
       "    .dataframe thead th {\n",
       "        text-align: right;\n",
       "    }\n",
       "</style>\n",
       "<table border=\"1\" class=\"dataframe\">\n",
       "  <thead>\n",
       "    <tr style=\"text-align: right;\">\n",
       "      <th></th>\n",
       "      <th>geometry</th>\n",
       "      <th>schedule_gtfs_dataset_key</th>\n",
       "      <th>hqta_segment_id</th>\n",
       "    </tr>\n",
       "  </thead>\n",
       "  <tbody>\n",
       "    <tr>\n",
       "      <th>0</th>\n",
       "      <td>POLYGON ((-224650.541 11039.545, -224639.822 1...</td>\n",
       "      <td>015d67d5b75b5cf2b710bbadadfb75f5</td>\n",
       "      <td>29974336</td>\n",
       "    </tr>\n",
       "    <tr>\n",
       "      <th>1</th>\n",
       "      <td>POLYGON ((-224420.509 10782.263, -224412.799 1...</td>\n",
       "      <td>015d67d5b75b5cf2b710bbadadfb75f5</td>\n",
       "      <td>29974336</td>\n",
       "    </tr>\n",
       "    <tr>\n",
       "      <th>2</th>\n",
       "      <td>POLYGON ((-224685.680 10968.296, -224687.981 1...</td>\n",
       "      <td>015d67d5b75b5cf2b710bbadadfb75f5</td>\n",
       "      <td>66086230</td>\n",
       "    </tr>\n",
       "    <tr>\n",
       "      <th>3</th>\n",
       "      <td>POLYGON ((-224685.680 10968.296, -224687.981 1...</td>\n",
       "      <td>015d67d5b75b5cf2b710bbadadfb75f5</td>\n",
       "      <td>66086230</td>\n",
       "    </tr>\n",
       "    <tr>\n",
       "      <th>4</th>\n",
       "      <td>POLYGON ((-225129.784 12965.510, -225129.067 1...</td>\n",
       "      <td>015d67d5b75b5cf2b710bbadadfb75f5</td>\n",
       "      <td>338746405</td>\n",
       "    </tr>\n",
       "    <tr>\n",
       "      <th>...</th>\n",
       "      <td>...</td>\n",
       "      <td>...</td>\n",
       "      <td>...</td>\n",
       "    </tr>\n",
       "    <tr>\n",
       "      <th>15549</th>\n",
       "      <td>POLYGON ((-163036.851 -73591.496, -163032.270 ...</td>\n",
       "      <td>fb467982dcc77a7f9199bebe709bb700</td>\n",
       "      <td>4237653065</td>\n",
       "    </tr>\n",
       "    <tr>\n",
       "      <th>15550</th>\n",
       "      <td>POLYGON ((-163036.851 -73591.496, -163032.270 ...</td>\n",
       "      <td>fb467982dcc77a7f9199bebe709bb700</td>\n",
       "      <td>4237653065</td>\n",
       "    </tr>\n",
       "    <tr>\n",
       "      <th>15551</th>\n",
       "      <td>POLYGON ((-165052.541 -75184.308, -165055.803 ...</td>\n",
       "      <td>fb467982dcc77a7f9199bebe709bb700</td>\n",
       "      <td>4242809268</td>\n",
       "    </tr>\n",
       "    <tr>\n",
       "      <th>15552</th>\n",
       "      <td>POLYGON ((-165277.815 -75230.544, -165276.209 ...</td>\n",
       "      <td>fb467982dcc77a7f9199bebe709bb700</td>\n",
       "      <td>4242809268</td>\n",
       "    </tr>\n",
       "    <tr>\n",
       "      <th>15553</th>\n",
       "      <td>POLYGON ((-165277.815 -75230.544, -165276.209 ...</td>\n",
       "      <td>fb467982dcc77a7f9199bebe709bb700</td>\n",
       "      <td>4242809268</td>\n",
       "    </tr>\n",
       "  </tbody>\n",
       "</table>\n",
       "<p>15554 rows × 3 columns</p>\n",
       "</div>"
      ],
      "text/plain": [
       "                                                geometry  \\\n",
       "0      POLYGON ((-224650.541 11039.545, -224639.822 1...   \n",
       "1      POLYGON ((-224420.509 10782.263, -224412.799 1...   \n",
       "2      POLYGON ((-224685.680 10968.296, -224687.981 1...   \n",
       "3      POLYGON ((-224685.680 10968.296, -224687.981 1...   \n",
       "4      POLYGON ((-225129.784 12965.510, -225129.067 1...   \n",
       "...                                                  ...   \n",
       "15549  POLYGON ((-163036.851 -73591.496, -163032.270 ...   \n",
       "15550  POLYGON ((-163036.851 -73591.496, -163032.270 ...   \n",
       "15551  POLYGON ((-165052.541 -75184.308, -165055.803 ...   \n",
       "15552  POLYGON ((-165277.815 -75230.544, -165276.209 ...   \n",
       "15553  POLYGON ((-165277.815 -75230.544, -165276.209 ...   \n",
       "\n",
       "              schedule_gtfs_dataset_key  hqta_segment_id  \n",
       "0      015d67d5b75b5cf2b710bbadadfb75f5         29974336  \n",
       "1      015d67d5b75b5cf2b710bbadadfb75f5         29974336  \n",
       "2      015d67d5b75b5cf2b710bbadadfb75f5         66086230  \n",
       "3      015d67d5b75b5cf2b710bbadadfb75f5         66086230  \n",
       "4      015d67d5b75b5cf2b710bbadadfb75f5        338746405  \n",
       "...                                 ...              ...  \n",
       "15549  fb467982dcc77a7f9199bebe709bb700       4237653065  \n",
       "15550  fb467982dcc77a7f9199bebe709bb700       4237653065  \n",
       "15551  fb467982dcc77a7f9199bebe709bb700       4242809268  \n",
       "15552  fb467982dcc77a7f9199bebe709bb700       4242809268  \n",
       "15553  fb467982dcc77a7f9199bebe709bb700       4242809268  \n",
       "\n",
       "[15554 rows x 3 columns]"
      ]
     },
     "execution_count": 36,
     "metadata": {},
     "output_type": "execute_result"
    }
   ],
   "source": [
    "results"
   ]
  },
  {
   "cell_type": "markdown",
   "id": "f28681cc-332f-4c2a-be6e-25f885d3bbbd",
   "metadata": {},
   "source": [
    "### create_bus_hqta_types"
   ]
  },
  {
   "cell_type": "code",
   "execution_count": 37,
   "id": "116347fc-e2bf-4866-bf1b-d31bf3cab806",
   "metadata": {
    "tags": []
   },
   "outputs": [],
   "source": [
    "import create_bus_hqta_types"
   ]
  },
  {
   "cell_type": "code",
   "execution_count": 38,
   "id": "08db7a26-b806-4f4a-9270-43206bda04b5",
   "metadata": {
    "tags": []
   },
   "outputs": [],
   "source": [
    "def buffer_around_intersections(gdf, buffer_size: int) -> gpd.GeoDataFrame: \n",
    "    \"\"\"\n",
    "    Draw 500 ft buffers around intersections to better catch stops\n",
    "    that might fall within it.\n",
    "    \"\"\"\n",
    "#     gdf = gpd.read_parquet(\n",
    "#         f\"{GCS_FILE_PATH}all_intersections.parquet\",\n",
    "#         storage_options={\"token\": credentials.token}\n",
    "#     )\n",
    "    \n",
    "    gdf = gdf.assign(\n",
    "        geometry = gdf.geometry.buffer(buffer_size)\n",
    "    )\n",
    "\n",
    "    return gdf "
   ]
  },
  {
   "cell_type": "code",
   "execution_count": 39,
   "id": "e0cb2f8a-e475-4915-b551-e86b7ac9af75",
   "metadata": {
    "tags": []
   },
   "outputs": [],
   "source": [
    "bus_intersections = buffer_around_intersections(results, INTERSECTION_BUFFER_METERS)"
   ]
  },
  {
   "cell_type": "code",
   "execution_count": 90,
   "id": "a04b1640-9c28-48b4-b6b1-95006daf391b",
   "metadata": {
    "tags": []
   },
   "outputs": [
    {
     "name": "stdout",
     "output_type": "stream",
     "text": [
      "{'2025-03-12': ['Imperial Valley Transit Schedule', 'Bay Area 511 Rio Vista Delta Breeze Schedule'], '2025-04-16': ['Glenn Schedule'], '2025-05-14': ['LAX FlyAway Schedule', 'Morro Bay Cal-ITP Schedule', 'Bay Area 511 Golden Gate Ferry Schedule', 'Long Beach Schedule', 'Arvin Schedule', 'Bellflower Bus Schedule', 'Sacramento Schedule', 'SBMTD Schedule']}\n"
     ]
    }
   ],
   "source": [
    "# Grab point geom with all stops\n",
    "trips_cols = [\"feed_key\", \"gtfs_dataset_key\"]\n",
    "gtfs_keys = helpers.import_scheduled_trips(\n",
    "    analysis_date,\n",
    "    columns = trips_cols,\n",
    "    get_pandas=True\n",
    ")\n",
    "published_operators_dict = lookback_wrappers.read_published_operators(analysis_date)\n",
    "print(published_operators_dict)\n",
    "lookback_trips = lookback_wrappers.get_lookback_trips(published_operators_dict, trips_cols + ['name'])\n",
    "lookback_trips_ix = lookback_wrappers.lookback_trips_ix(lookback_trips)\n",
    "gtfs_keys = pd.concat([gtfs_keys, lookback_trips.drop(columns=['name'])])\n",
    "\n",
    "stops_cols = [\"feed_key\", \"stop_id\", \"geometry\"]\n",
    "all_stops = helpers.import_scheduled_stops(\n",
    "    analysis_date,\n",
    "    get_pandas = True,\n",
    "    columns = stops_cols,\n",
    "    crs = PROJECT_CRS\n",
    ")\n",
    "lookback_stops = lookback_wrappers.get_lookback_stops(published_operators_dict, lookback_trips_ix, stops_cols,\n",
    "                                                     crs=PROJECT_CRS)\n",
    "all_stops = pd.concat([all_stops, lookback_stops])\n",
    "\n",
    "all_stops = all_stops.merge(\n",
    "    gtfs_keys,\n",
    "    on = \"feed_key\",\n",
    ").drop(columns = \"feed_key\")"
   ]
  },
  {
   "cell_type": "code",
   "execution_count": 91,
   "id": "e95a0613-decf-4e06-a13e-dbc07c4f7c8b",
   "metadata": {
    "tags": []
   },
   "outputs": [],
   "source": [
    "major_stop_bus_testing = create_bus_hqta_types.create_major_stop_bus(all_stops, bus_intersections)"
   ]
  },
  {
   "cell_type": "code",
   "execution_count": 92,
   "id": "f1c313e1-2c70-4d14-b3cc-3cef2d7d8bd6",
   "metadata": {
    "tags": []
   },
   "outputs": [
    {
     "data": {
      "text/html": [
       "<div>\n",
       "<style scoped>\n",
       "    .dataframe tbody tr th:only-of-type {\n",
       "        vertical-align: middle;\n",
       "    }\n",
       "\n",
       "    .dataframe tbody tr th {\n",
       "        vertical-align: top;\n",
       "    }\n",
       "\n",
       "    .dataframe thead th {\n",
       "        text-align: right;\n",
       "    }\n",
       "</style>\n",
       "<table border=\"1\" class=\"dataframe\">\n",
       "  <thead>\n",
       "    <tr style=\"text-align: right;\">\n",
       "      <th></th>\n",
       "      <th>schedule_gtfs_dataset_key_primary</th>\n",
       "      <th>schedule_gtfs_dataset_key_secondary</th>\n",
       "      <th>stop_id</th>\n",
       "      <th>geometry</th>\n",
       "      <th>hqta_type</th>\n",
       "    </tr>\n",
       "  </thead>\n",
       "  <tbody>\n",
       "    <tr>\n",
       "      <th>0</th>\n",
       "      <td>0bcbcc353367cba8ba4134764abe8ec1</td>\n",
       "      <td>0666caf3ec1ecc96b74f4477ee4bc939</td>\n",
       "      <td>305</td>\n",
       "      <td>POINT (162311.087 -428506.915)</td>\n",
       "      <td>major_stop_bus</td>\n",
       "    </tr>\n",
       "    <tr>\n",
       "      <th>1</th>\n",
       "      <td>0bcbcc353367cba8ba4134764abe8ec1</td>\n",
       "      <td>0666caf3ec1ecc96b74f4477ee4bc939</td>\n",
       "      <td>280</td>\n",
       "      <td>POINT (162079.540 -428429.657)</td>\n",
       "      <td>major_stop_bus</td>\n",
       "    </tr>\n",
       "    <tr>\n",
       "      <th>2</th>\n",
       "      <td>0bcbcc353367cba8ba4134764abe8ec1</td>\n",
       "      <td>0666caf3ec1ecc96b74f4477ee4bc939</td>\n",
       "      <td>289</td>\n",
       "      <td>POINT (162332.884 -428538.356)</td>\n",
       "      <td>major_stop_bus</td>\n",
       "    </tr>\n",
       "    <tr>\n",
       "      <th>3</th>\n",
       "      <td>0bcbcc353367cba8ba4134764abe8ec1</td>\n",
       "      <td>0666caf3ec1ecc96b74f4477ee4bc939</td>\n",
       "      <td>279</td>\n",
       "      <td>POINT (162141.044 -428448.822)</td>\n",
       "      <td>major_stop_bus</td>\n",
       "    </tr>\n",
       "    <tr>\n",
       "      <th>4</th>\n",
       "      <td>0666caf3ec1ecc96b74f4477ee4bc939</td>\n",
       "      <td>0666caf3ec1ecc96b74f4477ee4bc939</td>\n",
       "      <td>9815</td>\n",
       "      <td>POINT (162101.057 -428426.151)</td>\n",
       "      <td>major_stop_bus</td>\n",
       "    </tr>\n",
       "    <tr>\n",
       "      <th>...</th>\n",
       "      <td>...</td>\n",
       "      <td>...</td>\n",
       "      <td>...</td>\n",
       "      <td>...</td>\n",
       "      <td>...</td>\n",
       "    </tr>\n",
       "    <tr>\n",
       "      <th>13229</th>\n",
       "      <td>98588c1726b50acbef430783ab0e734e</td>\n",
       "      <td>98588c1726b50acbef430783ab0e734e</td>\n",
       "      <td>1677</td>\n",
       "      <td>POINT (-121100.959 65968.221)</td>\n",
       "      <td>major_stop_bus</td>\n",
       "    </tr>\n",
       "    <tr>\n",
       "      <th>13230</th>\n",
       "      <td>98588c1726b50acbef430783ab0e734e</td>\n",
       "      <td>98588c1726b50acbef430783ab0e734e</td>\n",
       "      <td>1646</td>\n",
       "      <td>POINT (-121118.783 66010.505)</td>\n",
       "      <td>major_stop_bus</td>\n",
       "    </tr>\n",
       "    <tr>\n",
       "      <th>13231</th>\n",
       "      <td>98588c1726b50acbef430783ab0e734e</td>\n",
       "      <td>98588c1726b50acbef430783ab0e734e</td>\n",
       "      <td>1885</td>\n",
       "      <td>POINT (-124885.624 55396.655)</td>\n",
       "      <td>major_stop_bus</td>\n",
       "    </tr>\n",
       "    <tr>\n",
       "      <th>13232</th>\n",
       "      <td>98588c1726b50acbef430783ab0e734e</td>\n",
       "      <td>98588c1726b50acbef430783ab0e734e</td>\n",
       "      <td>4022</td>\n",
       "      <td>POINT (-123687.720 51236.099)</td>\n",
       "      <td>major_stop_bus</td>\n",
       "    </tr>\n",
       "    <tr>\n",
       "      <th>13233</th>\n",
       "      <td>98588c1726b50acbef430783ab0e734e</td>\n",
       "      <td>98588c1726b50acbef430783ab0e734e</td>\n",
       "      <td>4015</td>\n",
       "      <td>POINT (-123726.000 51258.240)</td>\n",
       "      <td>major_stop_bus</td>\n",
       "    </tr>\n",
       "  </tbody>\n",
       "</table>\n",
       "<p>13234 rows × 5 columns</p>\n",
       "</div>"
      ],
      "text/plain": [
       "      schedule_gtfs_dataset_key_primary schedule_gtfs_dataset_key_secondary  \\\n",
       "0      0bcbcc353367cba8ba4134764abe8ec1    0666caf3ec1ecc96b74f4477ee4bc939   \n",
       "1      0bcbcc353367cba8ba4134764abe8ec1    0666caf3ec1ecc96b74f4477ee4bc939   \n",
       "2      0bcbcc353367cba8ba4134764abe8ec1    0666caf3ec1ecc96b74f4477ee4bc939   \n",
       "3      0bcbcc353367cba8ba4134764abe8ec1    0666caf3ec1ecc96b74f4477ee4bc939   \n",
       "4      0666caf3ec1ecc96b74f4477ee4bc939    0666caf3ec1ecc96b74f4477ee4bc939   \n",
       "...                                 ...                                 ...   \n",
       "13229  98588c1726b50acbef430783ab0e734e    98588c1726b50acbef430783ab0e734e   \n",
       "13230  98588c1726b50acbef430783ab0e734e    98588c1726b50acbef430783ab0e734e   \n",
       "13231  98588c1726b50acbef430783ab0e734e    98588c1726b50acbef430783ab0e734e   \n",
       "13232  98588c1726b50acbef430783ab0e734e    98588c1726b50acbef430783ab0e734e   \n",
       "13233  98588c1726b50acbef430783ab0e734e    98588c1726b50acbef430783ab0e734e   \n",
       "\n",
       "      stop_id                        geometry       hqta_type  \n",
       "0         305  POINT (162311.087 -428506.915)  major_stop_bus  \n",
       "1         280  POINT (162079.540 -428429.657)  major_stop_bus  \n",
       "2         289  POINT (162332.884 -428538.356)  major_stop_bus  \n",
       "3         279  POINT (162141.044 -428448.822)  major_stop_bus  \n",
       "4        9815  POINT (162101.057 -428426.151)  major_stop_bus  \n",
       "...       ...                             ...             ...  \n",
       "13229    1677   POINT (-121100.959 65968.221)  major_stop_bus  \n",
       "13230    1646   POINT (-121118.783 66010.505)  major_stop_bus  \n",
       "13231    1885   POINT (-124885.624 55396.655)  major_stop_bus  \n",
       "13232    4022   POINT (-123687.720 51236.099)  major_stop_bus  \n",
       "13233    4015   POINT (-123726.000 51258.240)  major_stop_bus  \n",
       "\n",
       "[13234 rows x 5 columns]"
      ]
     },
     "execution_count": 92,
     "metadata": {},
     "output_type": "execute_result"
    }
   ],
   "source": [
    "major_stop_bus_testing"
   ]
  },
  {
   "cell_type": "markdown",
   "id": "625cbd4e-eba9-4aad-b302-9086f472adc3",
   "metadata": {},
   "source": [
    "### current pipeline result"
   ]
  },
  {
   "cell_type": "code",
   "execution_count": 93,
   "id": "8b54f28d-32f8-457f-b401-547f2a5590dd",
   "metadata": {
    "tags": []
   },
   "outputs": [],
   "source": [
    "major_stop_bus = gcsgp.read_parquet(f'{GCS_FILE_PATH}major_stop_bus.parquet')"
   ]
  },
  {
   "cell_type": "code",
   "execution_count": 94,
   "id": "4fca4740-ef83-4c9d-b541-a35cccca75a7",
   "metadata": {
    "tags": []
   },
   "outputs": [
    {
     "data": {
      "text/html": [
       "<div>\n",
       "<style scoped>\n",
       "    .dataframe tbody tr th:only-of-type {\n",
       "        vertical-align: middle;\n",
       "    }\n",
       "\n",
       "    .dataframe tbody tr th {\n",
       "        vertical-align: top;\n",
       "    }\n",
       "\n",
       "    .dataframe thead th {\n",
       "        text-align: right;\n",
       "    }\n",
       "</style>\n",
       "<table border=\"1\" class=\"dataframe\">\n",
       "  <thead>\n",
       "    <tr style=\"text-align: right;\">\n",
       "      <th></th>\n",
       "      <th>schedule_gtfs_dataset_key_primary</th>\n",
       "      <th>schedule_gtfs_dataset_key_secondary</th>\n",
       "      <th>stop_id</th>\n",
       "      <th>geometry</th>\n",
       "      <th>hqta_type</th>\n",
       "    </tr>\n",
       "  </thead>\n",
       "  <tbody>\n",
       "    <tr>\n",
       "      <th>0</th>\n",
       "      <td>0bcbcc353367cba8ba4134764abe8ec1</td>\n",
       "      <td>0666caf3ec1ecc96b74f4477ee4bc939</td>\n",
       "      <td>305</td>\n",
       "      <td>POINT (162311.087 -428506.915)</td>\n",
       "      <td>major_stop_bus</td>\n",
       "    </tr>\n",
       "    <tr>\n",
       "      <th>1</th>\n",
       "      <td>0bcbcc353367cba8ba4134764abe8ec1</td>\n",
       "      <td>0666caf3ec1ecc96b74f4477ee4bc939</td>\n",
       "      <td>280</td>\n",
       "      <td>POINT (162079.540 -428429.657)</td>\n",
       "      <td>major_stop_bus</td>\n",
       "    </tr>\n",
       "    <tr>\n",
       "      <th>2</th>\n",
       "      <td>0bcbcc353367cba8ba4134764abe8ec1</td>\n",
       "      <td>0666caf3ec1ecc96b74f4477ee4bc939</td>\n",
       "      <td>289</td>\n",
       "      <td>POINT (162332.884 -428538.356)</td>\n",
       "      <td>major_stop_bus</td>\n",
       "    </tr>\n",
       "    <tr>\n",
       "      <th>3</th>\n",
       "      <td>0bcbcc353367cba8ba4134764abe8ec1</td>\n",
       "      <td>0666caf3ec1ecc96b74f4477ee4bc939</td>\n",
       "      <td>279</td>\n",
       "      <td>POINT (162141.044 -428448.822)</td>\n",
       "      <td>major_stop_bus</td>\n",
       "    </tr>\n",
       "    <tr>\n",
       "      <th>4</th>\n",
       "      <td>0666caf3ec1ecc96b74f4477ee4bc939</td>\n",
       "      <td>0666caf3ec1ecc96b74f4477ee4bc939</td>\n",
       "      <td>9815</td>\n",
       "      <td>POINT (162101.057 -428426.151)</td>\n",
       "      <td>major_stop_bus</td>\n",
       "    </tr>\n",
       "    <tr>\n",
       "      <th>...</th>\n",
       "      <td>...</td>\n",
       "      <td>...</td>\n",
       "      <td>...</td>\n",
       "      <td>...</td>\n",
       "      <td>...</td>\n",
       "    </tr>\n",
       "    <tr>\n",
       "      <th>14266</th>\n",
       "      <td>98588c1726b50acbef430783ab0e734e</td>\n",
       "      <td>98588c1726b50acbef430783ab0e734e</td>\n",
       "      <td>1677</td>\n",
       "      <td>POINT (-121100.959 65968.221)</td>\n",
       "      <td>major_stop_bus</td>\n",
       "    </tr>\n",
       "    <tr>\n",
       "      <th>14267</th>\n",
       "      <td>98588c1726b50acbef430783ab0e734e</td>\n",
       "      <td>98588c1726b50acbef430783ab0e734e</td>\n",
       "      <td>1646</td>\n",
       "      <td>POINT (-121118.783 66010.505)</td>\n",
       "      <td>major_stop_bus</td>\n",
       "    </tr>\n",
       "    <tr>\n",
       "      <th>14268</th>\n",
       "      <td>98588c1726b50acbef430783ab0e734e</td>\n",
       "      <td>98588c1726b50acbef430783ab0e734e</td>\n",
       "      <td>1885</td>\n",
       "      <td>POINT (-124885.624 55396.655)</td>\n",
       "      <td>major_stop_bus</td>\n",
       "    </tr>\n",
       "    <tr>\n",
       "      <th>14269</th>\n",
       "      <td>98588c1726b50acbef430783ab0e734e</td>\n",
       "      <td>98588c1726b50acbef430783ab0e734e</td>\n",
       "      <td>4022</td>\n",
       "      <td>POINT (-123687.720 51236.099)</td>\n",
       "      <td>major_stop_bus</td>\n",
       "    </tr>\n",
       "    <tr>\n",
       "      <th>14270</th>\n",
       "      <td>98588c1726b50acbef430783ab0e734e</td>\n",
       "      <td>98588c1726b50acbef430783ab0e734e</td>\n",
       "      <td>4015</td>\n",
       "      <td>POINT (-123726.000 51258.240)</td>\n",
       "      <td>major_stop_bus</td>\n",
       "    </tr>\n",
       "  </tbody>\n",
       "</table>\n",
       "<p>14271 rows × 5 columns</p>\n",
       "</div>"
      ],
      "text/plain": [
       "      schedule_gtfs_dataset_key_primary schedule_gtfs_dataset_key_secondary  \\\n",
       "0      0bcbcc353367cba8ba4134764abe8ec1    0666caf3ec1ecc96b74f4477ee4bc939   \n",
       "1      0bcbcc353367cba8ba4134764abe8ec1    0666caf3ec1ecc96b74f4477ee4bc939   \n",
       "2      0bcbcc353367cba8ba4134764abe8ec1    0666caf3ec1ecc96b74f4477ee4bc939   \n",
       "3      0bcbcc353367cba8ba4134764abe8ec1    0666caf3ec1ecc96b74f4477ee4bc939   \n",
       "4      0666caf3ec1ecc96b74f4477ee4bc939    0666caf3ec1ecc96b74f4477ee4bc939   \n",
       "...                                 ...                                 ...   \n",
       "14266  98588c1726b50acbef430783ab0e734e    98588c1726b50acbef430783ab0e734e   \n",
       "14267  98588c1726b50acbef430783ab0e734e    98588c1726b50acbef430783ab0e734e   \n",
       "14268  98588c1726b50acbef430783ab0e734e    98588c1726b50acbef430783ab0e734e   \n",
       "14269  98588c1726b50acbef430783ab0e734e    98588c1726b50acbef430783ab0e734e   \n",
       "14270  98588c1726b50acbef430783ab0e734e    98588c1726b50acbef430783ab0e734e   \n",
       "\n",
       "      stop_id                        geometry       hqta_type  \n",
       "0         305  POINT (162311.087 -428506.915)  major_stop_bus  \n",
       "1         280  POINT (162079.540 -428429.657)  major_stop_bus  \n",
       "2         289  POINT (162332.884 -428538.356)  major_stop_bus  \n",
       "3         279  POINT (162141.044 -428448.822)  major_stop_bus  \n",
       "4        9815  POINT (162101.057 -428426.151)  major_stop_bus  \n",
       "...       ...                             ...             ...  \n",
       "14266    1677   POINT (-121100.959 65968.221)  major_stop_bus  \n",
       "14267    1646   POINT (-121118.783 66010.505)  major_stop_bus  \n",
       "14268    1885   POINT (-124885.624 55396.655)  major_stop_bus  \n",
       "14269    4022   POINT (-123687.720 51236.099)  major_stop_bus  \n",
       "14270    4015   POINT (-123726.000 51258.240)  major_stop_bus  \n",
       "\n",
       "[14271 rows x 5 columns]"
      ]
     },
     "execution_count": 94,
     "metadata": {},
     "output_type": "execute_result"
    }
   ],
   "source": [
    "major_stop_bus"
   ]
  },
  {
   "cell_type": "code",
   "execution_count": 95,
   "id": "f2351fe0-4b25-486c-a356-c88c53bf8f5d",
   "metadata": {
    "tags": []
   },
   "outputs": [],
   "source": [
    "from shared_utils import webmap_utils"
   ]
  },
  {
   "cell_type": "code",
   "execution_count": 96,
   "id": "1118f23d-9cfc-4e76-9108-434a4c638339",
   "metadata": {
    "tags": []
   },
   "outputs": [],
   "source": [
    "import branca"
   ]
  },
  {
   "cell_type": "code",
   "execution_count": 97,
   "id": "233ea763-cd2b-4099-bc41-2527753d6066",
   "metadata": {
    "tags": []
   },
   "outputs": [],
   "source": [
    "cmap = branca.colormap.step.Spectral_04.scale(vmin=0, vmax=4)"
   ]
  },
  {
   "cell_type": "code",
   "execution_count": 98,
   "id": "08da435e-0c77-4a72-be5a-948cc15bc948",
   "metadata": {
    "tags": []
   },
   "outputs": [
    {
     "data": {
      "text/html": [
       "<svg height=\"50\" width=\"500\"><line x1=\"0\" y1=\"0\" x2=\"0\" y2=\"20\" style=\"stroke:#d7191cff;stroke-width:3;\" /><line x1=\"1\" y1=\"0\" x2=\"1\" y2=\"20\" style=\"stroke:#d7191cff;stroke-width:3;\" /><line x1=\"2\" y1=\"0\" x2=\"2\" y2=\"20\" style=\"stroke:#d7191cff;stroke-width:3;\" /><line x1=\"3\" y1=\"0\" x2=\"3\" y2=\"20\" style=\"stroke:#d7191cff;stroke-width:3;\" /><line x1=\"4\" y1=\"0\" x2=\"4\" y2=\"20\" style=\"stroke:#d7191cff;stroke-width:3;\" /><line x1=\"5\" y1=\"0\" x2=\"5\" y2=\"20\" style=\"stroke:#d7191cff;stroke-width:3;\" /><line x1=\"6\" y1=\"0\" x2=\"6\" y2=\"20\" style=\"stroke:#d7191cff;stroke-width:3;\" /><line x1=\"7\" y1=\"0\" x2=\"7\" y2=\"20\" style=\"stroke:#d7191cff;stroke-width:3;\" /><line x1=\"8\" y1=\"0\" x2=\"8\" y2=\"20\" style=\"stroke:#d7191cff;stroke-width:3;\" /><line x1=\"9\" y1=\"0\" x2=\"9\" y2=\"20\" style=\"stroke:#d7191cff;stroke-width:3;\" /><line x1=\"10\" y1=\"0\" x2=\"10\" y2=\"20\" style=\"stroke:#d7191cff;stroke-width:3;\" /><line x1=\"11\" y1=\"0\" x2=\"11\" y2=\"20\" style=\"stroke:#d7191cff;stroke-width:3;\" /><line x1=\"12\" y1=\"0\" x2=\"12\" y2=\"20\" style=\"stroke:#d7191cff;stroke-width:3;\" /><line x1=\"13\" y1=\"0\" x2=\"13\" y2=\"20\" style=\"stroke:#d7191cff;stroke-width:3;\" /><line x1=\"14\" y1=\"0\" x2=\"14\" y2=\"20\" style=\"stroke:#d7191cff;stroke-width:3;\" /><line x1=\"15\" y1=\"0\" x2=\"15\" y2=\"20\" style=\"stroke:#d7191cff;stroke-width:3;\" /><line x1=\"16\" y1=\"0\" x2=\"16\" y2=\"20\" style=\"stroke:#d7191cff;stroke-width:3;\" /><line x1=\"17\" y1=\"0\" x2=\"17\" y2=\"20\" style=\"stroke:#d7191cff;stroke-width:3;\" /><line x1=\"18\" y1=\"0\" x2=\"18\" y2=\"20\" style=\"stroke:#d7191cff;stroke-width:3;\" /><line x1=\"19\" y1=\"0\" x2=\"19\" y2=\"20\" style=\"stroke:#d7191cff;stroke-width:3;\" /><line x1=\"20\" y1=\"0\" x2=\"20\" y2=\"20\" style=\"stroke:#d7191cff;stroke-width:3;\" /><line x1=\"21\" y1=\"0\" x2=\"21\" y2=\"20\" style=\"stroke:#d7191cff;stroke-width:3;\" /><line x1=\"22\" y1=\"0\" x2=\"22\" y2=\"20\" style=\"stroke:#d7191cff;stroke-width:3;\" /><line x1=\"23\" y1=\"0\" x2=\"23\" y2=\"20\" style=\"stroke:#d7191cff;stroke-width:3;\" /><line x1=\"24\" y1=\"0\" x2=\"24\" y2=\"20\" style=\"stroke:#d7191cff;stroke-width:3;\" /><line x1=\"25\" y1=\"0\" x2=\"25\" y2=\"20\" style=\"stroke:#d7191cff;stroke-width:3;\" /><line x1=\"26\" y1=\"0\" x2=\"26\" y2=\"20\" style=\"stroke:#d7191cff;stroke-width:3;\" /><line x1=\"27\" y1=\"0\" x2=\"27\" y2=\"20\" style=\"stroke:#d7191cff;stroke-width:3;\" /><line x1=\"28\" y1=\"0\" x2=\"28\" y2=\"20\" style=\"stroke:#d7191cff;stroke-width:3;\" /><line x1=\"29\" y1=\"0\" x2=\"29\" y2=\"20\" style=\"stroke:#d7191cff;stroke-width:3;\" /><line x1=\"30\" y1=\"0\" x2=\"30\" y2=\"20\" style=\"stroke:#d7191cff;stroke-width:3;\" /><line x1=\"31\" y1=\"0\" x2=\"31\" y2=\"20\" style=\"stroke:#d7191cff;stroke-width:3;\" /><line x1=\"32\" y1=\"0\" x2=\"32\" y2=\"20\" style=\"stroke:#d7191cff;stroke-width:3;\" /><line x1=\"33\" y1=\"0\" x2=\"33\" y2=\"20\" style=\"stroke:#d7191cff;stroke-width:3;\" /><line x1=\"34\" y1=\"0\" x2=\"34\" y2=\"20\" style=\"stroke:#d7191cff;stroke-width:3;\" /><line x1=\"35\" y1=\"0\" x2=\"35\" y2=\"20\" style=\"stroke:#d7191cff;stroke-width:3;\" /><line x1=\"36\" y1=\"0\" x2=\"36\" y2=\"20\" style=\"stroke:#d7191cff;stroke-width:3;\" /><line x1=\"37\" y1=\"0\" x2=\"37\" y2=\"20\" style=\"stroke:#d7191cff;stroke-width:3;\" /><line x1=\"38\" y1=\"0\" x2=\"38\" y2=\"20\" style=\"stroke:#d7191cff;stroke-width:3;\" /><line x1=\"39\" y1=\"0\" x2=\"39\" y2=\"20\" style=\"stroke:#d7191cff;stroke-width:3;\" /><line x1=\"40\" y1=\"0\" x2=\"40\" y2=\"20\" style=\"stroke:#d7191cff;stroke-width:3;\" /><line x1=\"41\" y1=\"0\" x2=\"41\" y2=\"20\" style=\"stroke:#d7191cff;stroke-width:3;\" /><line x1=\"42\" y1=\"0\" x2=\"42\" y2=\"20\" style=\"stroke:#d7191cff;stroke-width:3;\" /><line x1=\"43\" y1=\"0\" x2=\"43\" y2=\"20\" style=\"stroke:#d7191cff;stroke-width:3;\" /><line x1=\"44\" y1=\"0\" x2=\"44\" y2=\"20\" style=\"stroke:#d7191cff;stroke-width:3;\" /><line x1=\"45\" y1=\"0\" x2=\"45\" y2=\"20\" style=\"stroke:#d7191cff;stroke-width:3;\" /><line x1=\"46\" y1=\"0\" x2=\"46\" y2=\"20\" style=\"stroke:#d7191cff;stroke-width:3;\" /><line x1=\"47\" y1=\"0\" x2=\"47\" y2=\"20\" style=\"stroke:#d7191cff;stroke-width:3;\" /><line x1=\"48\" y1=\"0\" x2=\"48\" y2=\"20\" style=\"stroke:#d7191cff;stroke-width:3;\" /><line x1=\"49\" y1=\"0\" x2=\"49\" y2=\"20\" style=\"stroke:#d7191cff;stroke-width:3;\" /><line x1=\"50\" y1=\"0\" x2=\"50\" y2=\"20\" style=\"stroke:#d7191cff;stroke-width:3;\" /><line x1=\"51\" y1=\"0\" x2=\"51\" y2=\"20\" style=\"stroke:#d7191cff;stroke-width:3;\" /><line x1=\"52\" y1=\"0\" x2=\"52\" y2=\"20\" style=\"stroke:#d7191cff;stroke-width:3;\" /><line x1=\"53\" y1=\"0\" x2=\"53\" y2=\"20\" style=\"stroke:#d7191cff;stroke-width:3;\" /><line x1=\"54\" y1=\"0\" x2=\"54\" y2=\"20\" style=\"stroke:#d7191cff;stroke-width:3;\" /><line x1=\"55\" y1=\"0\" x2=\"55\" y2=\"20\" style=\"stroke:#d7191cff;stroke-width:3;\" /><line x1=\"56\" y1=\"0\" x2=\"56\" y2=\"20\" style=\"stroke:#d7191cff;stroke-width:3;\" /><line x1=\"57\" y1=\"0\" x2=\"57\" y2=\"20\" style=\"stroke:#d7191cff;stroke-width:3;\" /><line x1=\"58\" y1=\"0\" x2=\"58\" y2=\"20\" style=\"stroke:#d7191cff;stroke-width:3;\" /><line x1=\"59\" y1=\"0\" x2=\"59\" y2=\"20\" style=\"stroke:#d7191cff;stroke-width:3;\" /><line x1=\"60\" y1=\"0\" x2=\"60\" y2=\"20\" style=\"stroke:#d7191cff;stroke-width:3;\" /><line x1=\"61\" y1=\"0\" x2=\"61\" y2=\"20\" style=\"stroke:#d7191cff;stroke-width:3;\" /><line x1=\"62\" y1=\"0\" x2=\"62\" y2=\"20\" style=\"stroke:#d7191cff;stroke-width:3;\" /><line x1=\"63\" y1=\"0\" x2=\"63\" y2=\"20\" style=\"stroke:#d7191cff;stroke-width:3;\" /><line x1=\"64\" y1=\"0\" x2=\"64\" y2=\"20\" style=\"stroke:#d7191cff;stroke-width:3;\" /><line x1=\"65\" y1=\"0\" x2=\"65\" y2=\"20\" style=\"stroke:#d7191cff;stroke-width:3;\" /><line x1=\"66\" y1=\"0\" x2=\"66\" y2=\"20\" style=\"stroke:#d7191cff;stroke-width:3;\" /><line x1=\"67\" y1=\"0\" x2=\"67\" y2=\"20\" style=\"stroke:#d7191cff;stroke-width:3;\" /><line x1=\"68\" y1=\"0\" x2=\"68\" y2=\"20\" style=\"stroke:#d7191cff;stroke-width:3;\" /><line x1=\"69\" y1=\"0\" x2=\"69\" y2=\"20\" style=\"stroke:#d7191cff;stroke-width:3;\" /><line x1=\"70\" y1=\"0\" x2=\"70\" y2=\"20\" style=\"stroke:#d7191cff;stroke-width:3;\" /><line x1=\"71\" y1=\"0\" x2=\"71\" y2=\"20\" style=\"stroke:#d7191cff;stroke-width:3;\" /><line x1=\"72\" y1=\"0\" x2=\"72\" y2=\"20\" style=\"stroke:#d7191cff;stroke-width:3;\" /><line x1=\"73\" y1=\"0\" x2=\"73\" y2=\"20\" style=\"stroke:#d7191cff;stroke-width:3;\" /><line x1=\"74\" y1=\"0\" x2=\"74\" y2=\"20\" style=\"stroke:#d7191cff;stroke-width:3;\" /><line x1=\"75\" y1=\"0\" x2=\"75\" y2=\"20\" style=\"stroke:#d7191cff;stroke-width:3;\" /><line x1=\"76\" y1=\"0\" x2=\"76\" y2=\"20\" style=\"stroke:#d7191cff;stroke-width:3;\" /><line x1=\"77\" y1=\"0\" x2=\"77\" y2=\"20\" style=\"stroke:#d7191cff;stroke-width:3;\" /><line x1=\"78\" y1=\"0\" x2=\"78\" y2=\"20\" style=\"stroke:#d7191cff;stroke-width:3;\" /><line x1=\"79\" y1=\"0\" x2=\"79\" y2=\"20\" style=\"stroke:#d7191cff;stroke-width:3;\" /><line x1=\"80\" y1=\"0\" x2=\"80\" y2=\"20\" style=\"stroke:#d7191cff;stroke-width:3;\" /><line x1=\"81\" y1=\"0\" x2=\"81\" y2=\"20\" style=\"stroke:#d7191cff;stroke-width:3;\" /><line x1=\"82\" y1=\"0\" x2=\"82\" y2=\"20\" style=\"stroke:#d7191cff;stroke-width:3;\" /><line x1=\"83\" y1=\"0\" x2=\"83\" y2=\"20\" style=\"stroke:#d7191cff;stroke-width:3;\" /><line x1=\"84\" y1=\"0\" x2=\"84\" y2=\"20\" style=\"stroke:#d7191cff;stroke-width:3;\" /><line x1=\"85\" y1=\"0\" x2=\"85\" y2=\"20\" style=\"stroke:#d7191cff;stroke-width:3;\" /><line x1=\"86\" y1=\"0\" x2=\"86\" y2=\"20\" style=\"stroke:#d7191cff;stroke-width:3;\" /><line x1=\"87\" y1=\"0\" x2=\"87\" y2=\"20\" style=\"stroke:#d7191cff;stroke-width:3;\" /><line x1=\"88\" y1=\"0\" x2=\"88\" y2=\"20\" style=\"stroke:#d7191cff;stroke-width:3;\" /><line x1=\"89\" y1=\"0\" x2=\"89\" y2=\"20\" style=\"stroke:#d7191cff;stroke-width:3;\" /><line x1=\"90\" y1=\"0\" x2=\"90\" y2=\"20\" style=\"stroke:#d7191cff;stroke-width:3;\" /><line x1=\"91\" y1=\"0\" x2=\"91\" y2=\"20\" style=\"stroke:#d7191cff;stroke-width:3;\" /><line x1=\"92\" y1=\"0\" x2=\"92\" y2=\"20\" style=\"stroke:#d7191cff;stroke-width:3;\" /><line x1=\"93\" y1=\"0\" x2=\"93\" y2=\"20\" style=\"stroke:#d7191cff;stroke-width:3;\" /><line x1=\"94\" y1=\"0\" x2=\"94\" y2=\"20\" style=\"stroke:#d7191cff;stroke-width:3;\" /><line x1=\"95\" y1=\"0\" x2=\"95\" y2=\"20\" style=\"stroke:#d7191cff;stroke-width:3;\" /><line x1=\"96\" y1=\"0\" x2=\"96\" y2=\"20\" style=\"stroke:#d7191cff;stroke-width:3;\" /><line x1=\"97\" y1=\"0\" x2=\"97\" y2=\"20\" style=\"stroke:#d7191cff;stroke-width:3;\" /><line x1=\"98\" y1=\"0\" x2=\"98\" y2=\"20\" style=\"stroke:#d7191cff;stroke-width:3;\" /><line x1=\"99\" y1=\"0\" x2=\"99\" y2=\"20\" style=\"stroke:#d7191cff;stroke-width:3;\" /><line x1=\"100\" y1=\"0\" x2=\"100\" y2=\"20\" style=\"stroke:#d7191cff;stroke-width:3;\" /><line x1=\"101\" y1=\"0\" x2=\"101\" y2=\"20\" style=\"stroke:#d7191cff;stroke-width:3;\" /><line x1=\"102\" y1=\"0\" x2=\"102\" y2=\"20\" style=\"stroke:#d7191cff;stroke-width:3;\" /><line x1=\"103\" y1=\"0\" x2=\"103\" y2=\"20\" style=\"stroke:#d7191cff;stroke-width:3;\" /><line x1=\"104\" y1=\"0\" x2=\"104\" y2=\"20\" style=\"stroke:#d7191cff;stroke-width:3;\" /><line x1=\"105\" y1=\"0\" x2=\"105\" y2=\"20\" style=\"stroke:#d7191cff;stroke-width:3;\" /><line x1=\"106\" y1=\"0\" x2=\"106\" y2=\"20\" style=\"stroke:#d7191cff;stroke-width:3;\" /><line x1=\"107\" y1=\"0\" x2=\"107\" y2=\"20\" style=\"stroke:#d7191cff;stroke-width:3;\" /><line x1=\"108\" y1=\"0\" x2=\"108\" y2=\"20\" style=\"stroke:#d7191cff;stroke-width:3;\" /><line x1=\"109\" y1=\"0\" x2=\"109\" y2=\"20\" style=\"stroke:#d7191cff;stroke-width:3;\" /><line x1=\"110\" y1=\"0\" x2=\"110\" y2=\"20\" style=\"stroke:#d7191cff;stroke-width:3;\" /><line x1=\"111\" y1=\"0\" x2=\"111\" y2=\"20\" style=\"stroke:#d7191cff;stroke-width:3;\" /><line x1=\"112\" y1=\"0\" x2=\"112\" y2=\"20\" style=\"stroke:#d7191cff;stroke-width:3;\" /><line x1=\"113\" y1=\"0\" x2=\"113\" y2=\"20\" style=\"stroke:#d7191cff;stroke-width:3;\" /><line x1=\"114\" y1=\"0\" x2=\"114\" y2=\"20\" style=\"stroke:#d7191cff;stroke-width:3;\" /><line x1=\"115\" y1=\"0\" x2=\"115\" y2=\"20\" style=\"stroke:#d7191cff;stroke-width:3;\" /><line x1=\"116\" y1=\"0\" x2=\"116\" y2=\"20\" style=\"stroke:#d7191cff;stroke-width:3;\" /><line x1=\"117\" y1=\"0\" x2=\"117\" y2=\"20\" style=\"stroke:#d7191cff;stroke-width:3;\" /><line x1=\"118\" y1=\"0\" x2=\"118\" y2=\"20\" style=\"stroke:#d7191cff;stroke-width:3;\" /><line x1=\"119\" y1=\"0\" x2=\"119\" y2=\"20\" style=\"stroke:#d7191cff;stroke-width:3;\" /><line x1=\"120\" y1=\"0\" x2=\"120\" y2=\"20\" style=\"stroke:#d7191cff;stroke-width:3;\" /><line x1=\"121\" y1=\"0\" x2=\"121\" y2=\"20\" style=\"stroke:#d7191cff;stroke-width:3;\" /><line x1=\"122\" y1=\"0\" x2=\"122\" y2=\"20\" style=\"stroke:#d7191cff;stroke-width:3;\" /><line x1=\"123\" y1=\"0\" x2=\"123\" y2=\"20\" style=\"stroke:#d7191cff;stroke-width:3;\" /><line x1=\"124\" y1=\"0\" x2=\"124\" y2=\"20\" style=\"stroke:#d7191cff;stroke-width:3;\" /><line x1=\"125\" y1=\"0\" x2=\"125\" y2=\"20\" style=\"stroke:#fdae61ff;stroke-width:3;\" /><line x1=\"126\" y1=\"0\" x2=\"126\" y2=\"20\" style=\"stroke:#fdae61ff;stroke-width:3;\" /><line x1=\"127\" y1=\"0\" x2=\"127\" y2=\"20\" style=\"stroke:#fdae61ff;stroke-width:3;\" /><line x1=\"128\" y1=\"0\" x2=\"128\" y2=\"20\" style=\"stroke:#fdae61ff;stroke-width:3;\" /><line x1=\"129\" y1=\"0\" x2=\"129\" y2=\"20\" style=\"stroke:#fdae61ff;stroke-width:3;\" /><line x1=\"130\" y1=\"0\" x2=\"130\" y2=\"20\" style=\"stroke:#fdae61ff;stroke-width:3;\" /><line x1=\"131\" y1=\"0\" x2=\"131\" y2=\"20\" style=\"stroke:#fdae61ff;stroke-width:3;\" /><line x1=\"132\" y1=\"0\" x2=\"132\" y2=\"20\" style=\"stroke:#fdae61ff;stroke-width:3;\" /><line x1=\"133\" y1=\"0\" x2=\"133\" y2=\"20\" style=\"stroke:#fdae61ff;stroke-width:3;\" /><line x1=\"134\" y1=\"0\" x2=\"134\" y2=\"20\" style=\"stroke:#fdae61ff;stroke-width:3;\" /><line x1=\"135\" y1=\"0\" x2=\"135\" y2=\"20\" style=\"stroke:#fdae61ff;stroke-width:3;\" /><line x1=\"136\" y1=\"0\" x2=\"136\" y2=\"20\" style=\"stroke:#fdae61ff;stroke-width:3;\" /><line x1=\"137\" y1=\"0\" x2=\"137\" y2=\"20\" style=\"stroke:#fdae61ff;stroke-width:3;\" /><line x1=\"138\" y1=\"0\" x2=\"138\" y2=\"20\" style=\"stroke:#fdae61ff;stroke-width:3;\" /><line x1=\"139\" y1=\"0\" x2=\"139\" y2=\"20\" style=\"stroke:#fdae61ff;stroke-width:3;\" /><line x1=\"140\" y1=\"0\" x2=\"140\" y2=\"20\" style=\"stroke:#fdae61ff;stroke-width:3;\" /><line x1=\"141\" y1=\"0\" x2=\"141\" y2=\"20\" style=\"stroke:#fdae61ff;stroke-width:3;\" /><line x1=\"142\" y1=\"0\" x2=\"142\" y2=\"20\" style=\"stroke:#fdae61ff;stroke-width:3;\" /><line x1=\"143\" y1=\"0\" x2=\"143\" y2=\"20\" style=\"stroke:#fdae61ff;stroke-width:3;\" /><line x1=\"144\" y1=\"0\" x2=\"144\" y2=\"20\" style=\"stroke:#fdae61ff;stroke-width:3;\" /><line x1=\"145\" y1=\"0\" x2=\"145\" y2=\"20\" style=\"stroke:#fdae61ff;stroke-width:3;\" /><line x1=\"146\" y1=\"0\" x2=\"146\" y2=\"20\" style=\"stroke:#fdae61ff;stroke-width:3;\" /><line x1=\"147\" y1=\"0\" x2=\"147\" y2=\"20\" style=\"stroke:#fdae61ff;stroke-width:3;\" /><line x1=\"148\" y1=\"0\" x2=\"148\" y2=\"20\" style=\"stroke:#fdae61ff;stroke-width:3;\" /><line x1=\"149\" y1=\"0\" x2=\"149\" y2=\"20\" style=\"stroke:#fdae61ff;stroke-width:3;\" /><line x1=\"150\" y1=\"0\" x2=\"150\" y2=\"20\" style=\"stroke:#fdae61ff;stroke-width:3;\" /><line x1=\"151\" y1=\"0\" x2=\"151\" y2=\"20\" style=\"stroke:#fdae61ff;stroke-width:3;\" /><line x1=\"152\" y1=\"0\" x2=\"152\" y2=\"20\" style=\"stroke:#fdae61ff;stroke-width:3;\" /><line x1=\"153\" y1=\"0\" x2=\"153\" y2=\"20\" style=\"stroke:#fdae61ff;stroke-width:3;\" /><line x1=\"154\" y1=\"0\" x2=\"154\" y2=\"20\" style=\"stroke:#fdae61ff;stroke-width:3;\" /><line x1=\"155\" y1=\"0\" x2=\"155\" y2=\"20\" style=\"stroke:#fdae61ff;stroke-width:3;\" /><line x1=\"156\" y1=\"0\" x2=\"156\" y2=\"20\" style=\"stroke:#fdae61ff;stroke-width:3;\" /><line x1=\"157\" y1=\"0\" x2=\"157\" y2=\"20\" style=\"stroke:#fdae61ff;stroke-width:3;\" /><line x1=\"158\" y1=\"0\" x2=\"158\" y2=\"20\" style=\"stroke:#fdae61ff;stroke-width:3;\" /><line x1=\"159\" y1=\"0\" x2=\"159\" y2=\"20\" style=\"stroke:#fdae61ff;stroke-width:3;\" /><line x1=\"160\" y1=\"0\" x2=\"160\" y2=\"20\" style=\"stroke:#fdae61ff;stroke-width:3;\" /><line x1=\"161\" y1=\"0\" x2=\"161\" y2=\"20\" style=\"stroke:#fdae61ff;stroke-width:3;\" /><line x1=\"162\" y1=\"0\" x2=\"162\" y2=\"20\" style=\"stroke:#fdae61ff;stroke-width:3;\" /><line x1=\"163\" y1=\"0\" x2=\"163\" y2=\"20\" style=\"stroke:#fdae61ff;stroke-width:3;\" /><line x1=\"164\" y1=\"0\" x2=\"164\" y2=\"20\" style=\"stroke:#fdae61ff;stroke-width:3;\" /><line x1=\"165\" y1=\"0\" x2=\"165\" y2=\"20\" style=\"stroke:#fdae61ff;stroke-width:3;\" /><line x1=\"166\" y1=\"0\" x2=\"166\" y2=\"20\" style=\"stroke:#fdae61ff;stroke-width:3;\" /><line x1=\"167\" y1=\"0\" x2=\"167\" y2=\"20\" style=\"stroke:#fdae61ff;stroke-width:3;\" /><line x1=\"168\" y1=\"0\" x2=\"168\" y2=\"20\" style=\"stroke:#fdae61ff;stroke-width:3;\" /><line x1=\"169\" y1=\"0\" x2=\"169\" y2=\"20\" style=\"stroke:#fdae61ff;stroke-width:3;\" /><line x1=\"170\" y1=\"0\" x2=\"170\" y2=\"20\" style=\"stroke:#fdae61ff;stroke-width:3;\" /><line x1=\"171\" y1=\"0\" x2=\"171\" y2=\"20\" style=\"stroke:#fdae61ff;stroke-width:3;\" /><line x1=\"172\" y1=\"0\" x2=\"172\" y2=\"20\" style=\"stroke:#fdae61ff;stroke-width:3;\" /><line x1=\"173\" y1=\"0\" x2=\"173\" y2=\"20\" style=\"stroke:#fdae61ff;stroke-width:3;\" /><line x1=\"174\" y1=\"0\" x2=\"174\" y2=\"20\" style=\"stroke:#fdae61ff;stroke-width:3;\" /><line x1=\"175\" y1=\"0\" x2=\"175\" y2=\"20\" style=\"stroke:#fdae61ff;stroke-width:3;\" /><line x1=\"176\" y1=\"0\" x2=\"176\" y2=\"20\" style=\"stroke:#fdae61ff;stroke-width:3;\" /><line x1=\"177\" y1=\"0\" x2=\"177\" y2=\"20\" style=\"stroke:#fdae61ff;stroke-width:3;\" /><line x1=\"178\" y1=\"0\" x2=\"178\" y2=\"20\" style=\"stroke:#fdae61ff;stroke-width:3;\" /><line x1=\"179\" y1=\"0\" x2=\"179\" y2=\"20\" style=\"stroke:#fdae61ff;stroke-width:3;\" /><line x1=\"180\" y1=\"0\" x2=\"180\" y2=\"20\" style=\"stroke:#fdae61ff;stroke-width:3;\" /><line x1=\"181\" y1=\"0\" x2=\"181\" y2=\"20\" style=\"stroke:#fdae61ff;stroke-width:3;\" /><line x1=\"182\" y1=\"0\" x2=\"182\" y2=\"20\" style=\"stroke:#fdae61ff;stroke-width:3;\" /><line x1=\"183\" y1=\"0\" x2=\"183\" y2=\"20\" style=\"stroke:#fdae61ff;stroke-width:3;\" /><line x1=\"184\" y1=\"0\" x2=\"184\" y2=\"20\" style=\"stroke:#fdae61ff;stroke-width:3;\" /><line x1=\"185\" y1=\"0\" x2=\"185\" y2=\"20\" style=\"stroke:#fdae61ff;stroke-width:3;\" /><line x1=\"186\" y1=\"0\" x2=\"186\" y2=\"20\" style=\"stroke:#fdae61ff;stroke-width:3;\" /><line x1=\"187\" y1=\"0\" x2=\"187\" y2=\"20\" style=\"stroke:#fdae61ff;stroke-width:3;\" /><line x1=\"188\" y1=\"0\" x2=\"188\" y2=\"20\" style=\"stroke:#fdae61ff;stroke-width:3;\" /><line x1=\"189\" y1=\"0\" x2=\"189\" y2=\"20\" style=\"stroke:#fdae61ff;stroke-width:3;\" /><line x1=\"190\" y1=\"0\" x2=\"190\" y2=\"20\" style=\"stroke:#fdae61ff;stroke-width:3;\" /><line x1=\"191\" y1=\"0\" x2=\"191\" y2=\"20\" style=\"stroke:#fdae61ff;stroke-width:3;\" /><line x1=\"192\" y1=\"0\" x2=\"192\" y2=\"20\" style=\"stroke:#fdae61ff;stroke-width:3;\" /><line x1=\"193\" y1=\"0\" x2=\"193\" y2=\"20\" style=\"stroke:#fdae61ff;stroke-width:3;\" /><line x1=\"194\" y1=\"0\" x2=\"194\" y2=\"20\" style=\"stroke:#fdae61ff;stroke-width:3;\" /><line x1=\"195\" y1=\"0\" x2=\"195\" y2=\"20\" style=\"stroke:#fdae61ff;stroke-width:3;\" /><line x1=\"196\" y1=\"0\" x2=\"196\" y2=\"20\" style=\"stroke:#fdae61ff;stroke-width:3;\" /><line x1=\"197\" y1=\"0\" x2=\"197\" y2=\"20\" style=\"stroke:#fdae61ff;stroke-width:3;\" /><line x1=\"198\" y1=\"0\" x2=\"198\" y2=\"20\" style=\"stroke:#fdae61ff;stroke-width:3;\" /><line x1=\"199\" y1=\"0\" x2=\"199\" y2=\"20\" style=\"stroke:#fdae61ff;stroke-width:3;\" /><line x1=\"200\" y1=\"0\" x2=\"200\" y2=\"20\" style=\"stroke:#fdae61ff;stroke-width:3;\" /><line x1=\"201\" y1=\"0\" x2=\"201\" y2=\"20\" style=\"stroke:#fdae61ff;stroke-width:3;\" /><line x1=\"202\" y1=\"0\" x2=\"202\" y2=\"20\" style=\"stroke:#fdae61ff;stroke-width:3;\" /><line x1=\"203\" y1=\"0\" x2=\"203\" y2=\"20\" style=\"stroke:#fdae61ff;stroke-width:3;\" /><line x1=\"204\" y1=\"0\" x2=\"204\" y2=\"20\" style=\"stroke:#fdae61ff;stroke-width:3;\" /><line x1=\"205\" y1=\"0\" x2=\"205\" y2=\"20\" style=\"stroke:#fdae61ff;stroke-width:3;\" /><line x1=\"206\" y1=\"0\" x2=\"206\" y2=\"20\" style=\"stroke:#fdae61ff;stroke-width:3;\" /><line x1=\"207\" y1=\"0\" x2=\"207\" y2=\"20\" style=\"stroke:#fdae61ff;stroke-width:3;\" /><line x1=\"208\" y1=\"0\" x2=\"208\" y2=\"20\" style=\"stroke:#fdae61ff;stroke-width:3;\" /><line x1=\"209\" y1=\"0\" x2=\"209\" y2=\"20\" style=\"stroke:#fdae61ff;stroke-width:3;\" /><line x1=\"210\" y1=\"0\" x2=\"210\" y2=\"20\" style=\"stroke:#fdae61ff;stroke-width:3;\" /><line x1=\"211\" y1=\"0\" x2=\"211\" y2=\"20\" style=\"stroke:#fdae61ff;stroke-width:3;\" /><line x1=\"212\" y1=\"0\" x2=\"212\" y2=\"20\" style=\"stroke:#fdae61ff;stroke-width:3;\" /><line x1=\"213\" y1=\"0\" x2=\"213\" y2=\"20\" style=\"stroke:#fdae61ff;stroke-width:3;\" /><line x1=\"214\" y1=\"0\" x2=\"214\" y2=\"20\" style=\"stroke:#fdae61ff;stroke-width:3;\" /><line x1=\"215\" y1=\"0\" x2=\"215\" y2=\"20\" style=\"stroke:#fdae61ff;stroke-width:3;\" /><line x1=\"216\" y1=\"0\" x2=\"216\" y2=\"20\" style=\"stroke:#fdae61ff;stroke-width:3;\" /><line x1=\"217\" y1=\"0\" x2=\"217\" y2=\"20\" style=\"stroke:#fdae61ff;stroke-width:3;\" /><line x1=\"218\" y1=\"0\" x2=\"218\" y2=\"20\" style=\"stroke:#fdae61ff;stroke-width:3;\" /><line x1=\"219\" y1=\"0\" x2=\"219\" y2=\"20\" style=\"stroke:#fdae61ff;stroke-width:3;\" /><line x1=\"220\" y1=\"0\" x2=\"220\" y2=\"20\" style=\"stroke:#fdae61ff;stroke-width:3;\" /><line x1=\"221\" y1=\"0\" x2=\"221\" y2=\"20\" style=\"stroke:#fdae61ff;stroke-width:3;\" /><line x1=\"222\" y1=\"0\" x2=\"222\" y2=\"20\" style=\"stroke:#fdae61ff;stroke-width:3;\" /><line x1=\"223\" y1=\"0\" x2=\"223\" y2=\"20\" style=\"stroke:#fdae61ff;stroke-width:3;\" /><line x1=\"224\" y1=\"0\" x2=\"224\" y2=\"20\" style=\"stroke:#fdae61ff;stroke-width:3;\" /><line x1=\"225\" y1=\"0\" x2=\"225\" y2=\"20\" style=\"stroke:#fdae61ff;stroke-width:3;\" /><line x1=\"226\" y1=\"0\" x2=\"226\" y2=\"20\" style=\"stroke:#fdae61ff;stroke-width:3;\" /><line x1=\"227\" y1=\"0\" x2=\"227\" y2=\"20\" style=\"stroke:#fdae61ff;stroke-width:3;\" /><line x1=\"228\" y1=\"0\" x2=\"228\" y2=\"20\" style=\"stroke:#fdae61ff;stroke-width:3;\" /><line x1=\"229\" y1=\"0\" x2=\"229\" y2=\"20\" style=\"stroke:#fdae61ff;stroke-width:3;\" /><line x1=\"230\" y1=\"0\" x2=\"230\" y2=\"20\" style=\"stroke:#fdae61ff;stroke-width:3;\" /><line x1=\"231\" y1=\"0\" x2=\"231\" y2=\"20\" style=\"stroke:#fdae61ff;stroke-width:3;\" /><line x1=\"232\" y1=\"0\" x2=\"232\" y2=\"20\" style=\"stroke:#fdae61ff;stroke-width:3;\" /><line x1=\"233\" y1=\"0\" x2=\"233\" y2=\"20\" style=\"stroke:#fdae61ff;stroke-width:3;\" /><line x1=\"234\" y1=\"0\" x2=\"234\" y2=\"20\" style=\"stroke:#fdae61ff;stroke-width:3;\" /><line x1=\"235\" y1=\"0\" x2=\"235\" y2=\"20\" style=\"stroke:#fdae61ff;stroke-width:3;\" /><line x1=\"236\" y1=\"0\" x2=\"236\" y2=\"20\" style=\"stroke:#fdae61ff;stroke-width:3;\" /><line x1=\"237\" y1=\"0\" x2=\"237\" y2=\"20\" style=\"stroke:#fdae61ff;stroke-width:3;\" /><line x1=\"238\" y1=\"0\" x2=\"238\" y2=\"20\" style=\"stroke:#fdae61ff;stroke-width:3;\" /><line x1=\"239\" y1=\"0\" x2=\"239\" y2=\"20\" style=\"stroke:#fdae61ff;stroke-width:3;\" /><line x1=\"240\" y1=\"0\" x2=\"240\" y2=\"20\" style=\"stroke:#fdae61ff;stroke-width:3;\" /><line x1=\"241\" y1=\"0\" x2=\"241\" y2=\"20\" style=\"stroke:#fdae61ff;stroke-width:3;\" /><line x1=\"242\" y1=\"0\" x2=\"242\" y2=\"20\" style=\"stroke:#fdae61ff;stroke-width:3;\" /><line x1=\"243\" y1=\"0\" x2=\"243\" y2=\"20\" style=\"stroke:#fdae61ff;stroke-width:3;\" /><line x1=\"244\" y1=\"0\" x2=\"244\" y2=\"20\" style=\"stroke:#fdae61ff;stroke-width:3;\" /><line x1=\"245\" y1=\"0\" x2=\"245\" y2=\"20\" style=\"stroke:#fdae61ff;stroke-width:3;\" /><line x1=\"246\" y1=\"0\" x2=\"246\" y2=\"20\" style=\"stroke:#fdae61ff;stroke-width:3;\" /><line x1=\"247\" y1=\"0\" x2=\"247\" y2=\"20\" style=\"stroke:#fdae61ff;stroke-width:3;\" /><line x1=\"248\" y1=\"0\" x2=\"248\" y2=\"20\" style=\"stroke:#fdae61ff;stroke-width:3;\" /><line x1=\"249\" y1=\"0\" x2=\"249\" y2=\"20\" style=\"stroke:#fdae61ff;stroke-width:3;\" /><line x1=\"250\" y1=\"0\" x2=\"250\" y2=\"20\" style=\"stroke:#abdda4ff;stroke-width:3;\" /><line x1=\"251\" y1=\"0\" x2=\"251\" y2=\"20\" style=\"stroke:#abdda4ff;stroke-width:3;\" /><line x1=\"252\" y1=\"0\" x2=\"252\" y2=\"20\" style=\"stroke:#abdda4ff;stroke-width:3;\" /><line x1=\"253\" y1=\"0\" x2=\"253\" y2=\"20\" style=\"stroke:#abdda4ff;stroke-width:3;\" /><line x1=\"254\" y1=\"0\" x2=\"254\" y2=\"20\" style=\"stroke:#abdda4ff;stroke-width:3;\" /><line x1=\"255\" y1=\"0\" x2=\"255\" y2=\"20\" style=\"stroke:#abdda4ff;stroke-width:3;\" /><line x1=\"256\" y1=\"0\" x2=\"256\" y2=\"20\" style=\"stroke:#abdda4ff;stroke-width:3;\" /><line x1=\"257\" y1=\"0\" x2=\"257\" y2=\"20\" style=\"stroke:#abdda4ff;stroke-width:3;\" /><line x1=\"258\" y1=\"0\" x2=\"258\" y2=\"20\" style=\"stroke:#abdda4ff;stroke-width:3;\" /><line x1=\"259\" y1=\"0\" x2=\"259\" y2=\"20\" style=\"stroke:#abdda4ff;stroke-width:3;\" /><line x1=\"260\" y1=\"0\" x2=\"260\" y2=\"20\" style=\"stroke:#abdda4ff;stroke-width:3;\" /><line x1=\"261\" y1=\"0\" x2=\"261\" y2=\"20\" style=\"stroke:#abdda4ff;stroke-width:3;\" /><line x1=\"262\" y1=\"0\" x2=\"262\" y2=\"20\" style=\"stroke:#abdda4ff;stroke-width:3;\" /><line x1=\"263\" y1=\"0\" x2=\"263\" y2=\"20\" style=\"stroke:#abdda4ff;stroke-width:3;\" /><line x1=\"264\" y1=\"0\" x2=\"264\" y2=\"20\" style=\"stroke:#abdda4ff;stroke-width:3;\" /><line x1=\"265\" y1=\"0\" x2=\"265\" y2=\"20\" style=\"stroke:#abdda4ff;stroke-width:3;\" /><line x1=\"266\" y1=\"0\" x2=\"266\" y2=\"20\" style=\"stroke:#abdda4ff;stroke-width:3;\" /><line x1=\"267\" y1=\"0\" x2=\"267\" y2=\"20\" style=\"stroke:#abdda4ff;stroke-width:3;\" /><line x1=\"268\" y1=\"0\" x2=\"268\" y2=\"20\" style=\"stroke:#abdda4ff;stroke-width:3;\" /><line x1=\"269\" y1=\"0\" x2=\"269\" y2=\"20\" style=\"stroke:#abdda4ff;stroke-width:3;\" /><line x1=\"270\" y1=\"0\" x2=\"270\" y2=\"20\" style=\"stroke:#abdda4ff;stroke-width:3;\" /><line x1=\"271\" y1=\"0\" x2=\"271\" y2=\"20\" style=\"stroke:#abdda4ff;stroke-width:3;\" /><line x1=\"272\" y1=\"0\" x2=\"272\" y2=\"20\" style=\"stroke:#abdda4ff;stroke-width:3;\" /><line x1=\"273\" y1=\"0\" x2=\"273\" y2=\"20\" style=\"stroke:#abdda4ff;stroke-width:3;\" /><line x1=\"274\" y1=\"0\" x2=\"274\" y2=\"20\" style=\"stroke:#abdda4ff;stroke-width:3;\" /><line x1=\"275\" y1=\"0\" x2=\"275\" y2=\"20\" style=\"stroke:#abdda4ff;stroke-width:3;\" /><line x1=\"276\" y1=\"0\" x2=\"276\" y2=\"20\" style=\"stroke:#abdda4ff;stroke-width:3;\" /><line x1=\"277\" y1=\"0\" x2=\"277\" y2=\"20\" style=\"stroke:#abdda4ff;stroke-width:3;\" /><line x1=\"278\" y1=\"0\" x2=\"278\" y2=\"20\" style=\"stroke:#abdda4ff;stroke-width:3;\" /><line x1=\"279\" y1=\"0\" x2=\"279\" y2=\"20\" style=\"stroke:#abdda4ff;stroke-width:3;\" /><line x1=\"280\" y1=\"0\" x2=\"280\" y2=\"20\" style=\"stroke:#abdda4ff;stroke-width:3;\" /><line x1=\"281\" y1=\"0\" x2=\"281\" y2=\"20\" style=\"stroke:#abdda4ff;stroke-width:3;\" /><line x1=\"282\" y1=\"0\" x2=\"282\" y2=\"20\" style=\"stroke:#abdda4ff;stroke-width:3;\" /><line x1=\"283\" y1=\"0\" x2=\"283\" y2=\"20\" style=\"stroke:#abdda4ff;stroke-width:3;\" /><line x1=\"284\" y1=\"0\" x2=\"284\" y2=\"20\" style=\"stroke:#abdda4ff;stroke-width:3;\" /><line x1=\"285\" y1=\"0\" x2=\"285\" y2=\"20\" style=\"stroke:#abdda4ff;stroke-width:3;\" /><line x1=\"286\" y1=\"0\" x2=\"286\" y2=\"20\" style=\"stroke:#abdda4ff;stroke-width:3;\" /><line x1=\"287\" y1=\"0\" x2=\"287\" y2=\"20\" style=\"stroke:#abdda4ff;stroke-width:3;\" /><line x1=\"288\" y1=\"0\" x2=\"288\" y2=\"20\" style=\"stroke:#abdda4ff;stroke-width:3;\" /><line x1=\"289\" y1=\"0\" x2=\"289\" y2=\"20\" style=\"stroke:#abdda4ff;stroke-width:3;\" /><line x1=\"290\" y1=\"0\" x2=\"290\" y2=\"20\" style=\"stroke:#abdda4ff;stroke-width:3;\" /><line x1=\"291\" y1=\"0\" x2=\"291\" y2=\"20\" style=\"stroke:#abdda4ff;stroke-width:3;\" /><line x1=\"292\" y1=\"0\" x2=\"292\" y2=\"20\" style=\"stroke:#abdda4ff;stroke-width:3;\" /><line x1=\"293\" y1=\"0\" x2=\"293\" y2=\"20\" style=\"stroke:#abdda4ff;stroke-width:3;\" /><line x1=\"294\" y1=\"0\" x2=\"294\" y2=\"20\" style=\"stroke:#abdda4ff;stroke-width:3;\" /><line x1=\"295\" y1=\"0\" x2=\"295\" y2=\"20\" style=\"stroke:#abdda4ff;stroke-width:3;\" /><line x1=\"296\" y1=\"0\" x2=\"296\" y2=\"20\" style=\"stroke:#abdda4ff;stroke-width:3;\" /><line x1=\"297\" y1=\"0\" x2=\"297\" y2=\"20\" style=\"stroke:#abdda4ff;stroke-width:3;\" /><line x1=\"298\" y1=\"0\" x2=\"298\" y2=\"20\" style=\"stroke:#abdda4ff;stroke-width:3;\" /><line x1=\"299\" y1=\"0\" x2=\"299\" y2=\"20\" style=\"stroke:#abdda4ff;stroke-width:3;\" /><line x1=\"300\" y1=\"0\" x2=\"300\" y2=\"20\" style=\"stroke:#abdda4ff;stroke-width:3;\" /><line x1=\"301\" y1=\"0\" x2=\"301\" y2=\"20\" style=\"stroke:#abdda4ff;stroke-width:3;\" /><line x1=\"302\" y1=\"0\" x2=\"302\" y2=\"20\" style=\"stroke:#abdda4ff;stroke-width:3;\" /><line x1=\"303\" y1=\"0\" x2=\"303\" y2=\"20\" style=\"stroke:#abdda4ff;stroke-width:3;\" /><line x1=\"304\" y1=\"0\" x2=\"304\" y2=\"20\" style=\"stroke:#abdda4ff;stroke-width:3;\" /><line x1=\"305\" y1=\"0\" x2=\"305\" y2=\"20\" style=\"stroke:#abdda4ff;stroke-width:3;\" /><line x1=\"306\" y1=\"0\" x2=\"306\" y2=\"20\" style=\"stroke:#abdda4ff;stroke-width:3;\" /><line x1=\"307\" y1=\"0\" x2=\"307\" y2=\"20\" style=\"stroke:#abdda4ff;stroke-width:3;\" /><line x1=\"308\" y1=\"0\" x2=\"308\" y2=\"20\" style=\"stroke:#abdda4ff;stroke-width:3;\" /><line x1=\"309\" y1=\"0\" x2=\"309\" y2=\"20\" style=\"stroke:#abdda4ff;stroke-width:3;\" /><line x1=\"310\" y1=\"0\" x2=\"310\" y2=\"20\" style=\"stroke:#abdda4ff;stroke-width:3;\" /><line x1=\"311\" y1=\"0\" x2=\"311\" y2=\"20\" style=\"stroke:#abdda4ff;stroke-width:3;\" /><line x1=\"312\" y1=\"0\" x2=\"312\" y2=\"20\" style=\"stroke:#abdda4ff;stroke-width:3;\" /><line x1=\"313\" y1=\"0\" x2=\"313\" y2=\"20\" style=\"stroke:#abdda4ff;stroke-width:3;\" /><line x1=\"314\" y1=\"0\" x2=\"314\" y2=\"20\" style=\"stroke:#abdda4ff;stroke-width:3;\" /><line x1=\"315\" y1=\"0\" x2=\"315\" y2=\"20\" style=\"stroke:#abdda4ff;stroke-width:3;\" /><line x1=\"316\" y1=\"0\" x2=\"316\" y2=\"20\" style=\"stroke:#abdda4ff;stroke-width:3;\" /><line x1=\"317\" y1=\"0\" x2=\"317\" y2=\"20\" style=\"stroke:#abdda4ff;stroke-width:3;\" /><line x1=\"318\" y1=\"0\" x2=\"318\" y2=\"20\" style=\"stroke:#abdda4ff;stroke-width:3;\" /><line x1=\"319\" y1=\"0\" x2=\"319\" y2=\"20\" style=\"stroke:#abdda4ff;stroke-width:3;\" /><line x1=\"320\" y1=\"0\" x2=\"320\" y2=\"20\" style=\"stroke:#abdda4ff;stroke-width:3;\" /><line x1=\"321\" y1=\"0\" x2=\"321\" y2=\"20\" style=\"stroke:#abdda4ff;stroke-width:3;\" /><line x1=\"322\" y1=\"0\" x2=\"322\" y2=\"20\" style=\"stroke:#abdda4ff;stroke-width:3;\" /><line x1=\"323\" y1=\"0\" x2=\"323\" y2=\"20\" style=\"stroke:#abdda4ff;stroke-width:3;\" /><line x1=\"324\" y1=\"0\" x2=\"324\" y2=\"20\" style=\"stroke:#abdda4ff;stroke-width:3;\" /><line x1=\"325\" y1=\"0\" x2=\"325\" y2=\"20\" style=\"stroke:#abdda4ff;stroke-width:3;\" /><line x1=\"326\" y1=\"0\" x2=\"326\" y2=\"20\" style=\"stroke:#abdda4ff;stroke-width:3;\" /><line x1=\"327\" y1=\"0\" x2=\"327\" y2=\"20\" style=\"stroke:#abdda4ff;stroke-width:3;\" /><line x1=\"328\" y1=\"0\" x2=\"328\" y2=\"20\" style=\"stroke:#abdda4ff;stroke-width:3;\" /><line x1=\"329\" y1=\"0\" x2=\"329\" y2=\"20\" style=\"stroke:#abdda4ff;stroke-width:3;\" /><line x1=\"330\" y1=\"0\" x2=\"330\" y2=\"20\" style=\"stroke:#abdda4ff;stroke-width:3;\" /><line x1=\"331\" y1=\"0\" x2=\"331\" y2=\"20\" style=\"stroke:#abdda4ff;stroke-width:3;\" /><line x1=\"332\" y1=\"0\" x2=\"332\" y2=\"20\" style=\"stroke:#abdda4ff;stroke-width:3;\" /><line x1=\"333\" y1=\"0\" x2=\"333\" y2=\"20\" style=\"stroke:#abdda4ff;stroke-width:3;\" /><line x1=\"334\" y1=\"0\" x2=\"334\" y2=\"20\" style=\"stroke:#abdda4ff;stroke-width:3;\" /><line x1=\"335\" y1=\"0\" x2=\"335\" y2=\"20\" style=\"stroke:#abdda4ff;stroke-width:3;\" /><line x1=\"336\" y1=\"0\" x2=\"336\" y2=\"20\" style=\"stroke:#abdda4ff;stroke-width:3;\" /><line x1=\"337\" y1=\"0\" x2=\"337\" y2=\"20\" style=\"stroke:#abdda4ff;stroke-width:3;\" /><line x1=\"338\" y1=\"0\" x2=\"338\" y2=\"20\" style=\"stroke:#abdda4ff;stroke-width:3;\" /><line x1=\"339\" y1=\"0\" x2=\"339\" y2=\"20\" style=\"stroke:#abdda4ff;stroke-width:3;\" /><line x1=\"340\" y1=\"0\" x2=\"340\" y2=\"20\" style=\"stroke:#abdda4ff;stroke-width:3;\" /><line x1=\"341\" y1=\"0\" x2=\"341\" y2=\"20\" style=\"stroke:#abdda4ff;stroke-width:3;\" /><line x1=\"342\" y1=\"0\" x2=\"342\" y2=\"20\" style=\"stroke:#abdda4ff;stroke-width:3;\" /><line x1=\"343\" y1=\"0\" x2=\"343\" y2=\"20\" style=\"stroke:#abdda4ff;stroke-width:3;\" /><line x1=\"344\" y1=\"0\" x2=\"344\" y2=\"20\" style=\"stroke:#abdda4ff;stroke-width:3;\" /><line x1=\"345\" y1=\"0\" x2=\"345\" y2=\"20\" style=\"stroke:#abdda4ff;stroke-width:3;\" /><line x1=\"346\" y1=\"0\" x2=\"346\" y2=\"20\" style=\"stroke:#abdda4ff;stroke-width:3;\" /><line x1=\"347\" y1=\"0\" x2=\"347\" y2=\"20\" style=\"stroke:#abdda4ff;stroke-width:3;\" /><line x1=\"348\" y1=\"0\" x2=\"348\" y2=\"20\" style=\"stroke:#abdda4ff;stroke-width:3;\" /><line x1=\"349\" y1=\"0\" x2=\"349\" y2=\"20\" style=\"stroke:#abdda4ff;stroke-width:3;\" /><line x1=\"350\" y1=\"0\" x2=\"350\" y2=\"20\" style=\"stroke:#abdda4ff;stroke-width:3;\" /><line x1=\"351\" y1=\"0\" x2=\"351\" y2=\"20\" style=\"stroke:#abdda4ff;stroke-width:3;\" /><line x1=\"352\" y1=\"0\" x2=\"352\" y2=\"20\" style=\"stroke:#abdda4ff;stroke-width:3;\" /><line x1=\"353\" y1=\"0\" x2=\"353\" y2=\"20\" style=\"stroke:#abdda4ff;stroke-width:3;\" /><line x1=\"354\" y1=\"0\" x2=\"354\" y2=\"20\" style=\"stroke:#abdda4ff;stroke-width:3;\" /><line x1=\"355\" y1=\"0\" x2=\"355\" y2=\"20\" style=\"stroke:#abdda4ff;stroke-width:3;\" /><line x1=\"356\" y1=\"0\" x2=\"356\" y2=\"20\" style=\"stroke:#abdda4ff;stroke-width:3;\" /><line x1=\"357\" y1=\"0\" x2=\"357\" y2=\"20\" style=\"stroke:#abdda4ff;stroke-width:3;\" /><line x1=\"358\" y1=\"0\" x2=\"358\" y2=\"20\" style=\"stroke:#abdda4ff;stroke-width:3;\" /><line x1=\"359\" y1=\"0\" x2=\"359\" y2=\"20\" style=\"stroke:#abdda4ff;stroke-width:3;\" /><line x1=\"360\" y1=\"0\" x2=\"360\" y2=\"20\" style=\"stroke:#abdda4ff;stroke-width:3;\" /><line x1=\"361\" y1=\"0\" x2=\"361\" y2=\"20\" style=\"stroke:#abdda4ff;stroke-width:3;\" /><line x1=\"362\" y1=\"0\" x2=\"362\" y2=\"20\" style=\"stroke:#abdda4ff;stroke-width:3;\" /><line x1=\"363\" y1=\"0\" x2=\"363\" y2=\"20\" style=\"stroke:#abdda4ff;stroke-width:3;\" /><line x1=\"364\" y1=\"0\" x2=\"364\" y2=\"20\" style=\"stroke:#abdda4ff;stroke-width:3;\" /><line x1=\"365\" y1=\"0\" x2=\"365\" y2=\"20\" style=\"stroke:#abdda4ff;stroke-width:3;\" /><line x1=\"366\" y1=\"0\" x2=\"366\" y2=\"20\" style=\"stroke:#abdda4ff;stroke-width:3;\" /><line x1=\"367\" y1=\"0\" x2=\"367\" y2=\"20\" style=\"stroke:#abdda4ff;stroke-width:3;\" /><line x1=\"368\" y1=\"0\" x2=\"368\" y2=\"20\" style=\"stroke:#abdda4ff;stroke-width:3;\" /><line x1=\"369\" y1=\"0\" x2=\"369\" y2=\"20\" style=\"stroke:#abdda4ff;stroke-width:3;\" /><line x1=\"370\" y1=\"0\" x2=\"370\" y2=\"20\" style=\"stroke:#abdda4ff;stroke-width:3;\" /><line x1=\"371\" y1=\"0\" x2=\"371\" y2=\"20\" style=\"stroke:#abdda4ff;stroke-width:3;\" /><line x1=\"372\" y1=\"0\" x2=\"372\" y2=\"20\" style=\"stroke:#abdda4ff;stroke-width:3;\" /><line x1=\"373\" y1=\"0\" x2=\"373\" y2=\"20\" style=\"stroke:#abdda4ff;stroke-width:3;\" /><line x1=\"374\" y1=\"0\" x2=\"374\" y2=\"20\" style=\"stroke:#abdda4ff;stroke-width:3;\" /><line x1=\"375\" y1=\"0\" x2=\"375\" y2=\"20\" style=\"stroke:#2b83baff;stroke-width:3;\" /><line x1=\"376\" y1=\"0\" x2=\"376\" y2=\"20\" style=\"stroke:#2b83baff;stroke-width:3;\" /><line x1=\"377\" y1=\"0\" x2=\"377\" y2=\"20\" style=\"stroke:#2b83baff;stroke-width:3;\" /><line x1=\"378\" y1=\"0\" x2=\"378\" y2=\"20\" style=\"stroke:#2b83baff;stroke-width:3;\" /><line x1=\"379\" y1=\"0\" x2=\"379\" y2=\"20\" style=\"stroke:#2b83baff;stroke-width:3;\" /><line x1=\"380\" y1=\"0\" x2=\"380\" y2=\"20\" style=\"stroke:#2b83baff;stroke-width:3;\" /><line x1=\"381\" y1=\"0\" x2=\"381\" y2=\"20\" style=\"stroke:#2b83baff;stroke-width:3;\" /><line x1=\"382\" y1=\"0\" x2=\"382\" y2=\"20\" style=\"stroke:#2b83baff;stroke-width:3;\" /><line x1=\"383\" y1=\"0\" x2=\"383\" y2=\"20\" style=\"stroke:#2b83baff;stroke-width:3;\" /><line x1=\"384\" y1=\"0\" x2=\"384\" y2=\"20\" style=\"stroke:#2b83baff;stroke-width:3;\" /><line x1=\"385\" y1=\"0\" x2=\"385\" y2=\"20\" style=\"stroke:#2b83baff;stroke-width:3;\" /><line x1=\"386\" y1=\"0\" x2=\"386\" y2=\"20\" style=\"stroke:#2b83baff;stroke-width:3;\" /><line x1=\"387\" y1=\"0\" x2=\"387\" y2=\"20\" style=\"stroke:#2b83baff;stroke-width:3;\" /><line x1=\"388\" y1=\"0\" x2=\"388\" y2=\"20\" style=\"stroke:#2b83baff;stroke-width:3;\" /><line x1=\"389\" y1=\"0\" x2=\"389\" y2=\"20\" style=\"stroke:#2b83baff;stroke-width:3;\" /><line x1=\"390\" y1=\"0\" x2=\"390\" y2=\"20\" style=\"stroke:#2b83baff;stroke-width:3;\" /><line x1=\"391\" y1=\"0\" x2=\"391\" y2=\"20\" style=\"stroke:#2b83baff;stroke-width:3;\" /><line x1=\"392\" y1=\"0\" x2=\"392\" y2=\"20\" style=\"stroke:#2b83baff;stroke-width:3;\" /><line x1=\"393\" y1=\"0\" x2=\"393\" y2=\"20\" style=\"stroke:#2b83baff;stroke-width:3;\" /><line x1=\"394\" y1=\"0\" x2=\"394\" y2=\"20\" style=\"stroke:#2b83baff;stroke-width:3;\" /><line x1=\"395\" y1=\"0\" x2=\"395\" y2=\"20\" style=\"stroke:#2b83baff;stroke-width:3;\" /><line x1=\"396\" y1=\"0\" x2=\"396\" y2=\"20\" style=\"stroke:#2b83baff;stroke-width:3;\" /><line x1=\"397\" y1=\"0\" x2=\"397\" y2=\"20\" style=\"stroke:#2b83baff;stroke-width:3;\" /><line x1=\"398\" y1=\"0\" x2=\"398\" y2=\"20\" style=\"stroke:#2b83baff;stroke-width:3;\" /><line x1=\"399\" y1=\"0\" x2=\"399\" y2=\"20\" style=\"stroke:#2b83baff;stroke-width:3;\" /><line x1=\"400\" y1=\"0\" x2=\"400\" y2=\"20\" style=\"stroke:#2b83baff;stroke-width:3;\" /><line x1=\"401\" y1=\"0\" x2=\"401\" y2=\"20\" style=\"stroke:#2b83baff;stroke-width:3;\" /><line x1=\"402\" y1=\"0\" x2=\"402\" y2=\"20\" style=\"stroke:#2b83baff;stroke-width:3;\" /><line x1=\"403\" y1=\"0\" x2=\"403\" y2=\"20\" style=\"stroke:#2b83baff;stroke-width:3;\" /><line x1=\"404\" y1=\"0\" x2=\"404\" y2=\"20\" style=\"stroke:#2b83baff;stroke-width:3;\" /><line x1=\"405\" y1=\"0\" x2=\"405\" y2=\"20\" style=\"stroke:#2b83baff;stroke-width:3;\" /><line x1=\"406\" y1=\"0\" x2=\"406\" y2=\"20\" style=\"stroke:#2b83baff;stroke-width:3;\" /><line x1=\"407\" y1=\"0\" x2=\"407\" y2=\"20\" style=\"stroke:#2b83baff;stroke-width:3;\" /><line x1=\"408\" y1=\"0\" x2=\"408\" y2=\"20\" style=\"stroke:#2b83baff;stroke-width:3;\" /><line x1=\"409\" y1=\"0\" x2=\"409\" y2=\"20\" style=\"stroke:#2b83baff;stroke-width:3;\" /><line x1=\"410\" y1=\"0\" x2=\"410\" y2=\"20\" style=\"stroke:#2b83baff;stroke-width:3;\" /><line x1=\"411\" y1=\"0\" x2=\"411\" y2=\"20\" style=\"stroke:#2b83baff;stroke-width:3;\" /><line x1=\"412\" y1=\"0\" x2=\"412\" y2=\"20\" style=\"stroke:#2b83baff;stroke-width:3;\" /><line x1=\"413\" y1=\"0\" x2=\"413\" y2=\"20\" style=\"stroke:#2b83baff;stroke-width:3;\" /><line x1=\"414\" y1=\"0\" x2=\"414\" y2=\"20\" style=\"stroke:#2b83baff;stroke-width:3;\" /><line x1=\"415\" y1=\"0\" x2=\"415\" y2=\"20\" style=\"stroke:#2b83baff;stroke-width:3;\" /><line x1=\"416\" y1=\"0\" x2=\"416\" y2=\"20\" style=\"stroke:#2b83baff;stroke-width:3;\" /><line x1=\"417\" y1=\"0\" x2=\"417\" y2=\"20\" style=\"stroke:#2b83baff;stroke-width:3;\" /><line x1=\"418\" y1=\"0\" x2=\"418\" y2=\"20\" style=\"stroke:#2b83baff;stroke-width:3;\" /><line x1=\"419\" y1=\"0\" x2=\"419\" y2=\"20\" style=\"stroke:#2b83baff;stroke-width:3;\" /><line x1=\"420\" y1=\"0\" x2=\"420\" y2=\"20\" style=\"stroke:#2b83baff;stroke-width:3;\" /><line x1=\"421\" y1=\"0\" x2=\"421\" y2=\"20\" style=\"stroke:#2b83baff;stroke-width:3;\" /><line x1=\"422\" y1=\"0\" x2=\"422\" y2=\"20\" style=\"stroke:#2b83baff;stroke-width:3;\" /><line x1=\"423\" y1=\"0\" x2=\"423\" y2=\"20\" style=\"stroke:#2b83baff;stroke-width:3;\" /><line x1=\"424\" y1=\"0\" x2=\"424\" y2=\"20\" style=\"stroke:#2b83baff;stroke-width:3;\" /><line x1=\"425\" y1=\"0\" x2=\"425\" y2=\"20\" style=\"stroke:#2b83baff;stroke-width:3;\" /><line x1=\"426\" y1=\"0\" x2=\"426\" y2=\"20\" style=\"stroke:#2b83baff;stroke-width:3;\" /><line x1=\"427\" y1=\"0\" x2=\"427\" y2=\"20\" style=\"stroke:#2b83baff;stroke-width:3;\" /><line x1=\"428\" y1=\"0\" x2=\"428\" y2=\"20\" style=\"stroke:#2b83baff;stroke-width:3;\" /><line x1=\"429\" y1=\"0\" x2=\"429\" y2=\"20\" style=\"stroke:#2b83baff;stroke-width:3;\" /><line x1=\"430\" y1=\"0\" x2=\"430\" y2=\"20\" style=\"stroke:#2b83baff;stroke-width:3;\" /><line x1=\"431\" y1=\"0\" x2=\"431\" y2=\"20\" style=\"stroke:#2b83baff;stroke-width:3;\" /><line x1=\"432\" y1=\"0\" x2=\"432\" y2=\"20\" style=\"stroke:#2b83baff;stroke-width:3;\" /><line x1=\"433\" y1=\"0\" x2=\"433\" y2=\"20\" style=\"stroke:#2b83baff;stroke-width:3;\" /><line x1=\"434\" y1=\"0\" x2=\"434\" y2=\"20\" style=\"stroke:#2b83baff;stroke-width:3;\" /><line x1=\"435\" y1=\"0\" x2=\"435\" y2=\"20\" style=\"stroke:#2b83baff;stroke-width:3;\" /><line x1=\"436\" y1=\"0\" x2=\"436\" y2=\"20\" style=\"stroke:#2b83baff;stroke-width:3;\" /><line x1=\"437\" y1=\"0\" x2=\"437\" y2=\"20\" style=\"stroke:#2b83baff;stroke-width:3;\" /><line x1=\"438\" y1=\"0\" x2=\"438\" y2=\"20\" style=\"stroke:#2b83baff;stroke-width:3;\" /><line x1=\"439\" y1=\"0\" x2=\"439\" y2=\"20\" style=\"stroke:#2b83baff;stroke-width:3;\" /><line x1=\"440\" y1=\"0\" x2=\"440\" y2=\"20\" style=\"stroke:#2b83baff;stroke-width:3;\" /><line x1=\"441\" y1=\"0\" x2=\"441\" y2=\"20\" style=\"stroke:#2b83baff;stroke-width:3;\" /><line x1=\"442\" y1=\"0\" x2=\"442\" y2=\"20\" style=\"stroke:#2b83baff;stroke-width:3;\" /><line x1=\"443\" y1=\"0\" x2=\"443\" y2=\"20\" style=\"stroke:#2b83baff;stroke-width:3;\" /><line x1=\"444\" y1=\"0\" x2=\"444\" y2=\"20\" style=\"stroke:#2b83baff;stroke-width:3;\" /><line x1=\"445\" y1=\"0\" x2=\"445\" y2=\"20\" style=\"stroke:#2b83baff;stroke-width:3;\" /><line x1=\"446\" y1=\"0\" x2=\"446\" y2=\"20\" style=\"stroke:#2b83baff;stroke-width:3;\" /><line x1=\"447\" y1=\"0\" x2=\"447\" y2=\"20\" style=\"stroke:#2b83baff;stroke-width:3;\" /><line x1=\"448\" y1=\"0\" x2=\"448\" y2=\"20\" style=\"stroke:#2b83baff;stroke-width:3;\" /><line x1=\"449\" y1=\"0\" x2=\"449\" y2=\"20\" style=\"stroke:#2b83baff;stroke-width:3;\" /><line x1=\"450\" y1=\"0\" x2=\"450\" y2=\"20\" style=\"stroke:#2b83baff;stroke-width:3;\" /><line x1=\"451\" y1=\"0\" x2=\"451\" y2=\"20\" style=\"stroke:#2b83baff;stroke-width:3;\" /><line x1=\"452\" y1=\"0\" x2=\"452\" y2=\"20\" style=\"stroke:#2b83baff;stroke-width:3;\" /><line x1=\"453\" y1=\"0\" x2=\"453\" y2=\"20\" style=\"stroke:#2b83baff;stroke-width:3;\" /><line x1=\"454\" y1=\"0\" x2=\"454\" y2=\"20\" style=\"stroke:#2b83baff;stroke-width:3;\" /><line x1=\"455\" y1=\"0\" x2=\"455\" y2=\"20\" style=\"stroke:#2b83baff;stroke-width:3;\" /><line x1=\"456\" y1=\"0\" x2=\"456\" y2=\"20\" style=\"stroke:#2b83baff;stroke-width:3;\" /><line x1=\"457\" y1=\"0\" x2=\"457\" y2=\"20\" style=\"stroke:#2b83baff;stroke-width:3;\" /><line x1=\"458\" y1=\"0\" x2=\"458\" y2=\"20\" style=\"stroke:#2b83baff;stroke-width:3;\" /><line x1=\"459\" y1=\"0\" x2=\"459\" y2=\"20\" style=\"stroke:#2b83baff;stroke-width:3;\" /><line x1=\"460\" y1=\"0\" x2=\"460\" y2=\"20\" style=\"stroke:#2b83baff;stroke-width:3;\" /><line x1=\"461\" y1=\"0\" x2=\"461\" y2=\"20\" style=\"stroke:#2b83baff;stroke-width:3;\" /><line x1=\"462\" y1=\"0\" x2=\"462\" y2=\"20\" style=\"stroke:#2b83baff;stroke-width:3;\" /><line x1=\"463\" y1=\"0\" x2=\"463\" y2=\"20\" style=\"stroke:#2b83baff;stroke-width:3;\" /><line x1=\"464\" y1=\"0\" x2=\"464\" y2=\"20\" style=\"stroke:#2b83baff;stroke-width:3;\" /><line x1=\"465\" y1=\"0\" x2=\"465\" y2=\"20\" style=\"stroke:#2b83baff;stroke-width:3;\" /><line x1=\"466\" y1=\"0\" x2=\"466\" y2=\"20\" style=\"stroke:#2b83baff;stroke-width:3;\" /><line x1=\"467\" y1=\"0\" x2=\"467\" y2=\"20\" style=\"stroke:#2b83baff;stroke-width:3;\" /><line x1=\"468\" y1=\"0\" x2=\"468\" y2=\"20\" style=\"stroke:#2b83baff;stroke-width:3;\" /><line x1=\"469\" y1=\"0\" x2=\"469\" y2=\"20\" style=\"stroke:#2b83baff;stroke-width:3;\" /><line x1=\"470\" y1=\"0\" x2=\"470\" y2=\"20\" style=\"stroke:#2b83baff;stroke-width:3;\" /><line x1=\"471\" y1=\"0\" x2=\"471\" y2=\"20\" style=\"stroke:#2b83baff;stroke-width:3;\" /><line x1=\"472\" y1=\"0\" x2=\"472\" y2=\"20\" style=\"stroke:#2b83baff;stroke-width:3;\" /><line x1=\"473\" y1=\"0\" x2=\"473\" y2=\"20\" style=\"stroke:#2b83baff;stroke-width:3;\" /><line x1=\"474\" y1=\"0\" x2=\"474\" y2=\"20\" style=\"stroke:#2b83baff;stroke-width:3;\" /><line x1=\"475\" y1=\"0\" x2=\"475\" y2=\"20\" style=\"stroke:#2b83baff;stroke-width:3;\" /><line x1=\"476\" y1=\"0\" x2=\"476\" y2=\"20\" style=\"stroke:#2b83baff;stroke-width:3;\" /><line x1=\"477\" y1=\"0\" x2=\"477\" y2=\"20\" style=\"stroke:#2b83baff;stroke-width:3;\" /><line x1=\"478\" y1=\"0\" x2=\"478\" y2=\"20\" style=\"stroke:#2b83baff;stroke-width:3;\" /><line x1=\"479\" y1=\"0\" x2=\"479\" y2=\"20\" style=\"stroke:#2b83baff;stroke-width:3;\" /><line x1=\"480\" y1=\"0\" x2=\"480\" y2=\"20\" style=\"stroke:#2b83baff;stroke-width:3;\" /><line x1=\"481\" y1=\"0\" x2=\"481\" y2=\"20\" style=\"stroke:#2b83baff;stroke-width:3;\" /><line x1=\"482\" y1=\"0\" x2=\"482\" y2=\"20\" style=\"stroke:#2b83baff;stroke-width:3;\" /><line x1=\"483\" y1=\"0\" x2=\"483\" y2=\"20\" style=\"stroke:#2b83baff;stroke-width:3;\" /><line x1=\"484\" y1=\"0\" x2=\"484\" y2=\"20\" style=\"stroke:#2b83baff;stroke-width:3;\" /><line x1=\"485\" y1=\"0\" x2=\"485\" y2=\"20\" style=\"stroke:#2b83baff;stroke-width:3;\" /><line x1=\"486\" y1=\"0\" x2=\"486\" y2=\"20\" style=\"stroke:#2b83baff;stroke-width:3;\" /><line x1=\"487\" y1=\"0\" x2=\"487\" y2=\"20\" style=\"stroke:#2b83baff;stroke-width:3;\" /><line x1=\"488\" y1=\"0\" x2=\"488\" y2=\"20\" style=\"stroke:#2b83baff;stroke-width:3;\" /><line x1=\"489\" y1=\"0\" x2=\"489\" y2=\"20\" style=\"stroke:#2b83baff;stroke-width:3;\" /><line x1=\"490\" y1=\"0\" x2=\"490\" y2=\"20\" style=\"stroke:#2b83baff;stroke-width:3;\" /><line x1=\"491\" y1=\"0\" x2=\"491\" y2=\"20\" style=\"stroke:#2b83baff;stroke-width:3;\" /><line x1=\"492\" y1=\"0\" x2=\"492\" y2=\"20\" style=\"stroke:#2b83baff;stroke-width:3;\" /><line x1=\"493\" y1=\"0\" x2=\"493\" y2=\"20\" style=\"stroke:#2b83baff;stroke-width:3;\" /><line x1=\"494\" y1=\"0\" x2=\"494\" y2=\"20\" style=\"stroke:#2b83baff;stroke-width:3;\" /><line x1=\"495\" y1=\"0\" x2=\"495\" y2=\"20\" style=\"stroke:#2b83baff;stroke-width:3;\" /><line x1=\"496\" y1=\"0\" x2=\"496\" y2=\"20\" style=\"stroke:#2b83baff;stroke-width:3;\" /><line x1=\"497\" y1=\"0\" x2=\"497\" y2=\"20\" style=\"stroke:#2b83baff;stroke-width:3;\" /><line x1=\"498\" y1=\"0\" x2=\"498\" y2=\"20\" style=\"stroke:#2b83baff;stroke-width:3;\" /><line x1=\"499\" y1=\"0\" x2=\"499\" y2=\"20\" style=\"stroke:#2b83baff;stroke-width:3;\" /><text x=\"0\" y=\"35\">0</text><text x=\"500\" y=\"35\" style=\"text-anchor:end;\">4</text></svg>"
      ],
      "text/plain": [
       "<branca.colormap.StepColormap at 0x7bbc530fe3d0>"
      ]
     },
     "execution_count": 98,
     "metadata": {},
     "output_type": "execute_result"
    }
   ],
   "source": [
    "cmap"
   ]
  },
  {
   "cell_type": "code",
   "execution_count": 99,
   "id": "a59aeac7-2cc7-4e0c-91ab-7c899307552d",
   "metadata": {
    "tags": []
   },
   "outputs": [],
   "source": [
    "major_stop_bus['iteration'] = 0\n",
    "major_stop_bus_testing['iteration'] = 4"
   ]
  },
  {
   "cell_type": "code",
   "execution_count": 100,
   "id": "3a5cb089-395a-4832-a475-1b0a8e2f1971",
   "metadata": {
    "tags": []
   },
   "outputs": [],
   "source": [
    "gdf = pd.concat([major_stop_bus, major_stop_bus_testing])"
   ]
  },
  {
   "cell_type": "code",
   "execution_count": 101,
   "id": "a06d5c8f-4114-45ee-acba-562d3f0b88db",
   "metadata": {
    "tags": []
   },
   "outputs": [
    {
     "name": "stderr",
     "output_type": "stream",
     "text": [
      "/home/jovyan/data-analyses/_shared_utils/shared_utils/webmap_utils.py:118: UserWarning: Geometry is in a geographic CRS. Results from 'centroid' are likely incorrect. Use 'GeoSeries.to_crs()' to re-project geometries to a projected CRS before this operation.\n",
      "\n",
      "  centroid = (gdf.geometry.centroid.y.mean(), gdf.geometry.centroid.x.mean())\n"
     ]
    }
   ],
   "source": [
    "color_state = webmap_utils.set_state_export(gdf, filename='test_azimuth_mts_5', map_title='Azimuth for Major Transit Stops',\n",
    "                                             cmap=cmap, color_col='iteration')"
   ]
  },
  {
   "cell_type": "code",
   "execution_count": 102,
   "id": "2de3b8c7-ecc7-42d8-975d-cddf5e40828b",
   "metadata": {
    "tags": []
   },
   "outputs": [
    {
     "data": {
      "text/plain": [
       "{'state_dict': {'name': 'null',\n",
       "  'layers': [{'name': 'Azimuth for Major Transit Stops',\n",
       "    'url': 'https://storage.googleapis.com/calitp-map-tiles/testing/test_azimuth_mts_5.geojson.gz',\n",
       "    'properties': {'stroked': False, 'highlight_saturation_multiplier': 0.5}}],\n",
       "  'lat_lon': (34.92180193232379, -119.24705655900215),\n",
       "  'zoom': 13},\n",
       " 'spa_link': 'https://embeddable-maps.calitp.org/?state=eyJuYW1lIjogIm51bGwiLCAibGF5ZXJzIjogW3sibmFtZSI6ICJBemltdXRoIGZvciBNYWpvciBUcmFuc2l0IFN0b3BzIiwgInVybCI6ICJodHRwczovL3N0b3JhZ2UuZ29vZ2xlYXBpcy5jb20vY2FsaXRwLW1hcC10aWxlcy90ZXN0aW5nL3Rlc3RfYXppbXV0aF9tdHNfNS5nZW9qc29uLmd6IiwgInByb3BlcnRpZXMiOiB7InN0cm9rZWQiOiBmYWxzZSwgImhpZ2hsaWdodF9zYXR1cmF0aW9uX211bHRpcGxpZXIiOiAwLjV9fV0sICJsYXRfbG9uIjogWzM0LjkyMTgwMTkzMjMyMzc5LCAtMTE5LjI0NzA1NjU1OTAwMjE1XSwgInpvb20iOiAxM30='}"
      ]
     },
     "execution_count": 102,
     "metadata": {},
     "output_type": "execute_result"
    }
   ],
   "source": [
    "color_state"
   ]
  },
  {
   "cell_type": "code",
   "execution_count": 103,
   "id": "ddcb40d7-a9cb-4fb4-b616-8d6f3fd77205",
   "metadata": {
    "tags": []
   },
   "outputs": [],
   "source": [
    "major_stop_bus.geometry = major_stop_bus.buffer(HALF_MILE_BUFFER_METERS)\n",
    "major_stop_bus_testing.geometry = major_stop_bus_testing.buffer(HALF_MILE_BUFFER_METERS)"
   ]
  },
  {
   "cell_type": "code",
   "execution_count": 104,
   "id": "cb13f6df-1de6-404c-808a-c190fe6c53c7",
   "metadata": {
    "tags": []
   },
   "outputs": [
    {
     "data": {
      "text/plain": [
       "0    1.807902e+09\n",
       "dtype: float64"
      ]
     },
     "execution_count": 104,
     "metadata": {},
     "output_type": "execute_result"
    }
   ],
   "source": [
    "major_stop_bus.dissolve().geometry.area"
   ]
  },
  {
   "cell_type": "code",
   "execution_count": 105,
   "id": "3c6bff5d-c493-4504-9c95-21cfc02aa08e",
   "metadata": {
    "tags": []
   },
   "outputs": [
    {
     "data": {
      "text/plain": [
       "0    1.763259e+09\n",
       "dtype: float64"
      ]
     },
     "execution_count": 105,
     "metadata": {},
     "output_type": "execute_result"
    }
   ],
   "source": [
    "major_stop_bus_testing.dissolve().geometry.area"
   ]
  },
  {
   "cell_type": "code",
   "execution_count": 106,
   "id": "92090b7f-a24a-498f-972b-4123c3d7660f",
   "metadata": {
    "tags": []
   },
   "outputs": [],
   "source": [
    "m = major_stop_bus.dissolve().overlay(major_stop_bus_testing.dissolve(), how='difference').explore(color='red')"
   ]
  },
  {
   "cell_type": "code",
   "execution_count": 109,
   "id": "8534ff7a-c724-4930-9e58-1b2f4cdcdbc9",
   "metadata": {
    "tags": []
   },
   "outputs": [],
   "source": [
    "# major_stop_bus_testing.dissolve().overlay(major_stop_bus.dissolve(), how='difference').explore(m=m)"
   ]
  },
  {
   "cell_type": "markdown",
   "id": "fe9fd60d-9d79-40f0-a5c7-a75686c208b6",
   "metadata": {
    "tags": []
   },
   "source": [
    "## Lookback\n",
    "\n",
    "* `rail_ferry_brt_stops` trips, stops, st\n",
    "* `create_hqta_segments` shapes\n",
    "* `create_aggregate_stop_frequencies` trips, st\n",
    "* `sjoin_stops_to_segments` stops\n",
    "* `create_bus_hqta_types` trips, stops\n",
    "* `assemble_hqta_points` \n",
    "* `assemble_hqta_polygons`\n",
    "    - `assemble_hqta_points.get_agency_info` only"
   ]
  },
  {
   "cell_type": "code",
   "execution_count": 65,
   "id": "3730e610-98d4-4671-a1e7-66ef470e4658",
   "metadata": {},
   "outputs": [
    {
     "data": {
      "text/plain": [
       "<module 'lookback_wrappers' from '/home/jovyan/data-analyses/high_quality_transit_areas/lookback_wrappers.py'>"
      ]
     },
     "execution_count": 65,
     "metadata": {},
     "output_type": "execute_result"
    }
   ],
   "source": [
    "import datetime as dt\n",
    "import yaml\n",
    "from shared_utils import catalog_utils, publish_utils\n",
    "import lookback_wrappers\n",
    "import assemble_hqta_points\n",
    "import importlib\n",
    "importlib.reload(lookback_wrappers)"
   ]
  },
  {
   "cell_type": "code",
   "execution_count": 66,
   "id": "eac26a23-5fd2-4889-815d-77072eb03d64",
   "metadata": {
    "tags": []
   },
   "outputs": [],
   "source": [
    "published_operators_dict = lookback_wrappers.read_published_operators(analysis_date)"
   ]
  },
  {
   "cell_type": "code",
   "execution_count": 67,
   "id": "23229189-399b-42e9-a905-91ad6c57a11b",
   "metadata": {
    "tags": []
   },
   "outputs": [
    {
     "data": {
      "text/plain": [
       "{'2025-03-12': ['Imperial Valley Transit Schedule',\n",
       "  'Bay Area 511 Rio Vista Delta Breeze Schedule'],\n",
       " '2025-04-16': ['Glenn Schedule'],\n",
       " '2025-05-14': ['LAX FlyAway Schedule',\n",
       "  'Morro Bay Cal-ITP Schedule',\n",
       "  'Bay Area 511 Golden Gate Ferry Schedule',\n",
       "  'Long Beach Schedule',\n",
       "  'Arvin Schedule',\n",
       "  'Bellflower Bus Schedule',\n",
       "  'Sacramento Schedule',\n",
       "  'SBMTD Schedule']}"
      ]
     },
     "execution_count": 67,
     "metadata": {},
     "output_type": "execute_result"
    }
   ],
   "source": [
    "published_operators_dict"
   ]
  },
  {
   "cell_type": "code",
   "execution_count": 68,
   "id": "5b1a1ed8-cb97-4c8a-9016-453e8ab39889",
   "metadata": {
    "tags": []
   },
   "outputs": [],
   "source": [
    "GTFS_DATA_DICT = catalog_utils.get_catalog(\"gtfs_analytics_data\")"
   ]
  },
  {
   "cell_type": "code",
   "execution_count": 69,
   "id": "8d51bfec-8e32-455f-a17e-43e55b522197",
   "metadata": {
    "tags": []
   },
   "outputs": [
    {
     "data": {
      "text/plain": [
       "'crosswalk/gtfs_key_organization'"
      ]
     },
     "execution_count": 69,
     "metadata": {},
     "output_type": "execute_result"
    }
   ],
   "source": [
    "GTFS_DATA_DICT.schedule_tables.gtfs_key_crosswalk"
   ]
  },
  {
   "cell_type": "code",
   "execution_count": 70,
   "id": "d14567f3-aaf4-4e6f-9370-6fd4962260f0",
   "metadata": {
    "tags": []
   },
   "outputs": [
    {
     "data": {
      "text/plain": [
       "'gs://calitp-analytics-data/data-analyses/gtfs_schedule/'"
      ]
     },
     "execution_count": 70,
     "metadata": {},
     "output_type": "execute_result"
    }
   ],
   "source": [
    "GTFS_DATA_DICT.schedule_tables.dir"
   ]
  },
  {
   "cell_type": "code",
   "execution_count": 71,
   "id": "ae766223-2cae-4b67-912d-b8af135e7872",
   "metadata": {
    "tags": []
   },
   "outputs": [],
   "source": [
    "trips_cols = [\n",
    "            \"name\", \"feed_key\", \"trip_id\",\n",
    "            \"route_id\", \"route_type\", \"route_desc\",\n",
    "            \"gtfs_dataset_key\",\n",
    "        ]"
   ]
  },
  {
   "cell_type": "code",
   "execution_count": 72,
   "id": "cfc60ad3-4053-4895-b3b9-c9706602661a",
   "metadata": {
    "tags": []
   },
   "outputs": [],
   "source": [
    "lookback_trips = lookback_wrappers.get_lookback_trips(published_operators_dict, trips_cols)"
   ]
  },
  {
   "cell_type": "code",
   "execution_count": 73,
   "id": "dd764ebe-11b0-45da-a612-e5010031b0b5",
   "metadata": {
    "tags": []
   },
   "outputs": [
    {
     "data": {
      "text/html": [
       "<div>\n",
       "<style scoped>\n",
       "    .dataframe tbody tr th:only-of-type {\n",
       "        vertical-align: middle;\n",
       "    }\n",
       "\n",
       "    .dataframe tbody tr th {\n",
       "        vertical-align: top;\n",
       "    }\n",
       "\n",
       "    .dataframe thead th {\n",
       "        text-align: right;\n",
       "    }\n",
       "</style>\n",
       "<table border=\"1\" class=\"dataframe\">\n",
       "  <thead>\n",
       "    <tr style=\"text-align: right;\">\n",
       "      <th></th>\n",
       "      <th>name</th>\n",
       "      <th>feed_key</th>\n",
       "      <th>trip_id</th>\n",
       "      <th>route_id</th>\n",
       "      <th>route_type</th>\n",
       "      <th>route_desc</th>\n",
       "      <th>schedule_gtfs_dataset_key</th>\n",
       "      <th>lookback_date</th>\n",
       "    </tr>\n",
       "  </thead>\n",
       "  <tbody>\n",
       "    <tr>\n",
       "      <th>0</th>\n",
       "      <td>Imperial Valley Transit Schedule</td>\n",
       "      <td>cdd0c7f4c8f78f1805af16d34b8ed0c3</td>\n",
       "      <td>010314</td>\n",
       "      <td>1</td>\n",
       "      <td>3</td>\n",
       "      <td>None</td>\n",
       "      <td>fe4aab1717eca5a2935c32c85a35a5bf</td>\n",
       "      <td>2025-03-12</td>\n",
       "    </tr>\n",
       "    <tr>\n",
       "      <th>1</th>\n",
       "      <td>Imperial Valley Transit Schedule</td>\n",
       "      <td>cdd0c7f4c8f78f1805af16d34b8ed0c3</td>\n",
       "      <td>010300</td>\n",
       "      <td>1</td>\n",
       "      <td>3</td>\n",
       "      <td>None</td>\n",
       "      <td>fe4aab1717eca5a2935c32c85a35a5bf</td>\n",
       "      <td>2025-03-12</td>\n",
       "    </tr>\n",
       "    <tr>\n",
       "      <th>2</th>\n",
       "      <td>Imperial Valley Transit Schedule</td>\n",
       "      <td>cdd0c7f4c8f78f1805af16d34b8ed0c3</td>\n",
       "      <td>010316</td>\n",
       "      <td>1</td>\n",
       "      <td>3</td>\n",
       "      <td>None</td>\n",
       "      <td>fe4aab1717eca5a2935c32c85a35a5bf</td>\n",
       "      <td>2025-03-12</td>\n",
       "    </tr>\n",
       "  </tbody>\n",
       "</table>\n",
       "</div>"
      ],
      "text/plain": [
       "                               name                          feed_key trip_id  \\\n",
       "0  Imperial Valley Transit Schedule  cdd0c7f4c8f78f1805af16d34b8ed0c3  010314   \n",
       "1  Imperial Valley Transit Schedule  cdd0c7f4c8f78f1805af16d34b8ed0c3  010300   \n",
       "2  Imperial Valley Transit Schedule  cdd0c7f4c8f78f1805af16d34b8ed0c3  010316   \n",
       "\n",
       "  route_id route_type route_desc         schedule_gtfs_dataset_key  \\\n",
       "0        1          3       None  fe4aab1717eca5a2935c32c85a35a5bf   \n",
       "1        1          3       None  fe4aab1717eca5a2935c32c85a35a5bf   \n",
       "2        1          3       None  fe4aab1717eca5a2935c32c85a35a5bf   \n",
       "\n",
       "  lookback_date  \n",
       "0    2025-03-12  \n",
       "1    2025-03-12  \n",
       "2    2025-03-12  "
      ]
     },
     "execution_count": 73,
     "metadata": {},
     "output_type": "execute_result"
    }
   ],
   "source": [
    "lookback_trips.head(3)"
   ]
  },
  {
   "cell_type": "code",
   "execution_count": 74,
   "id": "a0d009f4-3ac7-47f0-ad73-6bd6c90a47c4",
   "metadata": {
    "tags": []
   },
   "outputs": [],
   "source": [
    "lookback_trips_ix = lookback_wrappers.lookback_trips_ix(lookback_trips)"
   ]
  },
  {
   "cell_type": "code",
   "execution_count": 75,
   "id": "53a3c9f1-b397-4588-ab10-af40b7113f00",
   "metadata": {
    "tags": []
   },
   "outputs": [
    {
     "data": {
      "text/html": [
       "<div>\n",
       "<style scoped>\n",
       "    .dataframe tbody tr th:only-of-type {\n",
       "        vertical-align: middle;\n",
       "    }\n",
       "\n",
       "    .dataframe tbody tr th {\n",
       "        vertical-align: top;\n",
       "    }\n",
       "\n",
       "    .dataframe thead th {\n",
       "        text-align: right;\n",
       "    }\n",
       "</style>\n",
       "<table border=\"1\" class=\"dataframe\">\n",
       "  <thead>\n",
       "    <tr style=\"text-align: right;\">\n",
       "      <th></th>\n",
       "      <th>name</th>\n",
       "      <th>feed_key</th>\n",
       "      <th>schedule_gtfs_dataset_key</th>\n",
       "      <th>lookback_date</th>\n",
       "    </tr>\n",
       "  </thead>\n",
       "  <tbody>\n",
       "    <tr>\n",
       "      <th>0</th>\n",
       "      <td>Imperial Valley Transit Schedule</td>\n",
       "      <td>cdd0c7f4c8f78f1805af16d34b8ed0c3</td>\n",
       "      <td>fe4aab1717eca5a2935c32c85a35a5bf</td>\n",
       "      <td>2025-03-12</td>\n",
       "    </tr>\n",
       "    <tr>\n",
       "      <th>64</th>\n",
       "      <td>Bay Area 511 Rio Vista Delta Breeze Schedule</td>\n",
       "      <td>b289d80491722393827621e2a0286179</td>\n",
       "      <td>a131b466de5793f858b5dec42fbbb4a9</td>\n",
       "      <td>2025-03-12</td>\n",
       "    </tr>\n",
       "    <tr>\n",
       "      <th>0</th>\n",
       "      <td>Glenn Schedule</td>\n",
       "      <td>c74eaf4ebabfbb26ac8c9712bbcbb01e</td>\n",
       "      <td>7f2ae5bcb719c5912462858471a28aa5</td>\n",
       "      <td>2025-04-16</td>\n",
       "    </tr>\n",
       "  </tbody>\n",
       "</table>\n",
       "</div>"
      ],
      "text/plain": [
       "                                            name  \\\n",
       "0               Imperial Valley Transit Schedule   \n",
       "64  Bay Area 511 Rio Vista Delta Breeze Schedule   \n",
       "0                                 Glenn Schedule   \n",
       "\n",
       "                            feed_key         schedule_gtfs_dataset_key  \\\n",
       "0   cdd0c7f4c8f78f1805af16d34b8ed0c3  fe4aab1717eca5a2935c32c85a35a5bf   \n",
       "64  b289d80491722393827621e2a0286179  a131b466de5793f858b5dec42fbbb4a9   \n",
       "0   c74eaf4ebabfbb26ac8c9712bbcbb01e  7f2ae5bcb719c5912462858471a28aa5   \n",
       "\n",
       "   lookback_date  \n",
       "0     2025-03-12  \n",
       "64    2025-03-12  \n",
       "0     2025-04-16  "
      ]
     },
     "execution_count": 75,
     "metadata": {},
     "output_type": "execute_result"
    }
   ],
   "source": [
    "lookback_trips_ix.head(3)"
   ]
  },
  {
   "cell_type": "code",
   "execution_count": 76,
   "id": "9959b4d9-1b9c-4afa-aece-a61940c70fa2",
   "metadata": {
    "tags": []
   },
   "outputs": [],
   "source": [
    "st_cols = [\"feed_key\", \"trip_id\", \"stop_id\", \"arrival_hour\"]"
   ]
  },
  {
   "cell_type": "code",
   "execution_count": 77,
   "id": "3882f7ca-1c01-4403-a827-a0e014ea245a",
   "metadata": {
    "tags": []
   },
   "outputs": [],
   "source": [
    "lookback_st = lookback_wrappers.get_lookback_st(published_operators_dict, lookback_trips_ix, st_cols)"
   ]
  },
  {
   "cell_type": "code",
   "execution_count": 78,
   "id": "3ef2db7b-833a-4dea-9299-69b26ea8e808",
   "metadata": {},
   "outputs": [
    {
     "data": {
      "text/html": [
       "<div>\n",
       "<style scoped>\n",
       "    .dataframe tbody tr th:only-of-type {\n",
       "        vertical-align: middle;\n",
       "    }\n",
       "\n",
       "    .dataframe tbody tr th {\n",
       "        vertical-align: top;\n",
       "    }\n",
       "\n",
       "    .dataframe thead th {\n",
       "        text-align: right;\n",
       "    }\n",
       "</style>\n",
       "<table border=\"1\" class=\"dataframe\">\n",
       "  <thead>\n",
       "    <tr style=\"text-align: right;\">\n",
       "      <th></th>\n",
       "      <th>feed_key</th>\n",
       "      <th>trip_id</th>\n",
       "      <th>stop_id</th>\n",
       "      <th>arrival_hour</th>\n",
       "    </tr>\n",
       "  </thead>\n",
       "  <tbody>\n",
       "    <tr>\n",
       "      <th>0</th>\n",
       "      <td>cdd0c7f4c8f78f1805af16d34b8ed0c3</td>\n",
       "      <td>010303</td>\n",
       "      <td>53</td>\n",
       "      <td>8.0</td>\n",
       "    </tr>\n",
       "    <tr>\n",
       "      <th>1</th>\n",
       "      <td>cdd0c7f4c8f78f1805af16d34b8ed0c3</td>\n",
       "      <td>200305</td>\n",
       "      <td>5</td>\n",
       "      <td>14.0</td>\n",
       "    </tr>\n",
       "    <tr>\n",
       "      <th>2</th>\n",
       "      <td>cdd0c7f4c8f78f1805af16d34b8ed0c3</td>\n",
       "      <td>010321</td>\n",
       "      <td>69</td>\n",
       "      <td>20.0</td>\n",
       "    </tr>\n",
       "  </tbody>\n",
       "</table>\n",
       "</div>"
      ],
      "text/plain": [
       "                           feed_key trip_id stop_id  arrival_hour\n",
       "0  cdd0c7f4c8f78f1805af16d34b8ed0c3  010303      53           8.0\n",
       "1  cdd0c7f4c8f78f1805af16d34b8ed0c3  200305       5          14.0\n",
       "2  cdd0c7f4c8f78f1805af16d34b8ed0c3  010321      69          20.0"
      ]
     },
     "execution_count": 78,
     "metadata": {},
     "output_type": "execute_result"
    }
   ],
   "source": [
    "lookback_st.head(3)"
   ]
  },
  {
   "cell_type": "code",
   "execution_count": 79,
   "id": "60bef90d-a970-4495-b3a8-382437bbb799",
   "metadata": {
    "tags": []
   },
   "outputs": [],
   "source": [
    "stops_cols = [\"feed_key\", \"stop_id\", \"stop_name\", \"geometry\"]"
   ]
  },
  {
   "cell_type": "code",
   "execution_count": 80,
   "id": "31f616a3-5cd1-4c11-8e71-18fc049331dd",
   "metadata": {
    "tags": []
   },
   "outputs": [],
   "source": [
    "lookback_stops = lookback_wrappers.get_lookback_stops(published_operators_dict, lookback_trips_ix, stops_cols)"
   ]
  },
  {
   "cell_type": "code",
   "execution_count": 81,
   "id": "1346c3fd-86e5-4ca2-800a-89ba6bf5e88f",
   "metadata": {
    "tags": []
   },
   "outputs": [
    {
     "data": {
      "text/html": [
       "<div>\n",
       "<style scoped>\n",
       "    .dataframe tbody tr th:only-of-type {\n",
       "        vertical-align: middle;\n",
       "    }\n",
       "\n",
       "    .dataframe tbody tr th {\n",
       "        vertical-align: top;\n",
       "    }\n",
       "\n",
       "    .dataframe thead th {\n",
       "        text-align: right;\n",
       "    }\n",
       "</style>\n",
       "<table border=\"1\" class=\"dataframe\">\n",
       "  <thead>\n",
       "    <tr style=\"text-align: right;\">\n",
       "      <th></th>\n",
       "      <th>feed_key</th>\n",
       "      <th>stop_id</th>\n",
       "      <th>stop_name</th>\n",
       "      <th>geometry</th>\n",
       "    </tr>\n",
       "  </thead>\n",
       "  <tbody>\n",
       "    <tr>\n",
       "      <th>0</th>\n",
       "      <td>b289d80491722393827621e2a0286179</td>\n",
       "      <td>2329722</td>\n",
       "      <td>Walmart</td>\n",
       "      <td>POINT (-173771.189 26928.051)</td>\n",
       "    </tr>\n",
       "    <tr>\n",
       "      <th>1</th>\n",
       "      <td>b289d80491722393827621e2a0286179</td>\n",
       "      <td>27694</td>\n",
       "      <td>Main &amp; 2nd</td>\n",
       "      <td>POINT (-148022.773 16896.812)</td>\n",
       "    </tr>\n",
       "    <tr>\n",
       "      <th>2</th>\n",
       "      <td>b289d80491722393827621e2a0286179</td>\n",
       "      <td>27695</td>\n",
       "      <td>Hillside Terrace &amp; Flores</td>\n",
       "      <td>POINT (-148388.515 17466.601)</td>\n",
       "    </tr>\n",
       "  </tbody>\n",
       "</table>\n",
       "</div>"
      ],
      "text/plain": [
       "                           feed_key  stop_id                  stop_name  \\\n",
       "0  b289d80491722393827621e2a0286179  2329722                    Walmart   \n",
       "1  b289d80491722393827621e2a0286179    27694                 Main & 2nd   \n",
       "2  b289d80491722393827621e2a0286179    27695  Hillside Terrace & Flores   \n",
       "\n",
       "                        geometry  \n",
       "0  POINT (-173771.189 26928.051)  \n",
       "1  POINT (-148022.773 16896.812)  \n",
       "2  POINT (-148388.515 17466.601)  "
      ]
     },
     "execution_count": 81,
     "metadata": {},
     "output_type": "execute_result"
    }
   ],
   "source": [
    "lookback_stops.head(3)"
   ]
  },
  {
   "cell_type": "code",
   "execution_count": 82,
   "id": "82cf1610-de33-4f48-948e-d5e6f801ad29",
   "metadata": {
    "tags": []
   },
   "outputs": [],
   "source": [
    "lookback_hqta_shapes = lookback_wrappers.get_lookback_hqta_shapes(published_operators_dict, lookback_trips_ix)"
   ]
  },
  {
   "cell_type": "code",
   "execution_count": 83,
   "id": "632ad759-4658-4c7d-803c-b05798351a3a",
   "metadata": {
    "tags": []
   },
   "outputs": [
    {
     "data": {
      "text/html": [
       "<div>\n",
       "<style scoped>\n",
       "    .dataframe tbody tr th:only-of-type {\n",
       "        vertical-align: middle;\n",
       "    }\n",
       "\n",
       "    .dataframe tbody tr th {\n",
       "        vertical-align: top;\n",
       "    }\n",
       "\n",
       "    .dataframe thead th {\n",
       "        text-align: right;\n",
       "    }\n",
       "</style>\n",
       "<table border=\"1\" class=\"dataframe\">\n",
       "  <thead>\n",
       "    <tr style=\"text-align: right;\">\n",
       "      <th></th>\n",
       "      <th>geometry</th>\n",
       "      <th>schedule_gtfs_dataset_key</th>\n",
       "      <th>route_id</th>\n",
       "      <th>direction_id</th>\n",
       "      <th>route_key</th>\n",
       "    </tr>\n",
       "  </thead>\n",
       "  <tbody>\n",
       "    <tr>\n",
       "      <th>2697</th>\n",
       "      <td>LINESTRING (-147965.518 16828.747, -148025.619...</td>\n",
       "      <td>a131b466de5793f858b5dec42fbbb4a9</td>\n",
       "      <td>50</td>\n",
       "      <td>0</td>\n",
       "      <td>bc606373dd152e0585a444b5c77fa689</td>\n",
       "    </tr>\n",
       "    <tr>\n",
       "      <th>2698</th>\n",
       "      <td>LINESTRING (-180785.421 27827.886, -180782.894...</td>\n",
       "      <td>a131b466de5793f858b5dec42fbbb4a9</td>\n",
       "      <td>50</td>\n",
       "      <td>1</td>\n",
       "      <td>bc606373dd152e0585a444b5c77fa689</td>\n",
       "    </tr>\n",
       "    <tr>\n",
       "      <th>3803</th>\n",
       "      <td>LINESTRING (422429.667 -582166.415, 422282.476...</td>\n",
       "      <td>fe4aab1717eca5a2935c32c85a35a5bf</td>\n",
       "      <td>1</td>\n",
       "      <td>0</td>\n",
       "      <td>2e7565e0f7520c62b8210f9ba512e33e</td>\n",
       "    </tr>\n",
       "  </tbody>\n",
       "</table>\n",
       "</div>"
      ],
      "text/plain": [
       "                                               geometry  \\\n",
       "2697  LINESTRING (-147965.518 16828.747, -148025.619...   \n",
       "2698  LINESTRING (-180785.421 27827.886, -180782.894...   \n",
       "3803  LINESTRING (422429.667 -582166.415, 422282.476...   \n",
       "\n",
       "             schedule_gtfs_dataset_key route_id  direction_id  \\\n",
       "2697  a131b466de5793f858b5dec42fbbb4a9       50             0   \n",
       "2698  a131b466de5793f858b5dec42fbbb4a9       50             1   \n",
       "3803  fe4aab1717eca5a2935c32c85a35a5bf        1             0   \n",
       "\n",
       "                             route_key  \n",
       "2697  bc606373dd152e0585a444b5c77fa689  \n",
       "2698  bc606373dd152e0585a444b5c77fa689  \n",
       "3803  2e7565e0f7520c62b8210f9ba512e33e  "
      ]
     },
     "execution_count": 83,
     "metadata": {},
     "output_type": "execute_result"
    }
   ],
   "source": [
    "lookback_hqta_shapes.head(3)"
   ]
  },
  {
   "cell_type": "code",
   "execution_count": 84,
   "id": "8a15c2e8-2ec5-4a68-b2c3-595429ff55b6",
   "metadata": {
    "tags": []
   },
   "outputs": [],
   "source": [
    "lookback_xwalk = assemble_hqta_points.get_lookback_agency_crosswalk(published_operators_dict, lookback_trips_ix)"
   ]
  },
  {
   "cell_type": "code",
   "execution_count": 86,
   "id": "49765f9f-21ab-4f15-99f4-ad9ee140f58b",
   "metadata": {
    "tags": []
   },
   "outputs": [
    {
     "data": {
      "text/html": [
       "<div>\n",
       "<style scoped>\n",
       "    .dataframe tbody tr th:only-of-type {\n",
       "        vertical-align: middle;\n",
       "    }\n",
       "\n",
       "    .dataframe tbody tr th {\n",
       "        vertical-align: top;\n",
       "    }\n",
       "\n",
       "    .dataframe thead th {\n",
       "        text-align: right;\n",
       "    }\n",
       "</style>\n",
       "<table border=\"1\" class=\"dataframe\">\n",
       "  <thead>\n",
       "    <tr style=\"text-align: right;\">\n",
       "      <th></th>\n",
       "      <th>schedule_gtfs_dataset_key_primary</th>\n",
       "      <th>schedule_gtfs_dataset_key_secondary</th>\n",
       "      <th>stop_id</th>\n",
       "      <th>geometry</th>\n",
       "      <th>hqta_type</th>\n",
       "      <th>iteration</th>\n",
       "    </tr>\n",
       "  </thead>\n",
       "  <tbody>\n",
       "    <tr>\n",
       "      <th>0</th>\n",
       "      <td>0bcbcc353367cba8ba4134764abe8ec1</td>\n",
       "      <td>0666caf3ec1ecc96b74f4477ee4bc939</td>\n",
       "      <td>305</td>\n",
       "      <td>POLYGON ((163919.518 -428467.431, 163919.518 -...</td>\n",
       "      <td>major_stop_bus</td>\n",
       "      <td>0</td>\n",
       "    </tr>\n",
       "    <tr>\n",
       "      <th>1</th>\n",
       "      <td>0bcbcc353367cba8ba4134764abe8ec1</td>\n",
       "      <td>0666caf3ec1ecc96b74f4477ee4bc939</td>\n",
       "      <td>280</td>\n",
       "      <td>POLYGON ((163687.971 -428390.172, 163687.971 -...</td>\n",
       "      <td>major_stop_bus</td>\n",
       "      <td>0</td>\n",
       "    </tr>\n",
       "    <tr>\n",
       "      <th>2</th>\n",
       "      <td>0bcbcc353367cba8ba4134764abe8ec1</td>\n",
       "      <td>0666caf3ec1ecc96b74f4477ee4bc939</td>\n",
       "      <td>289</td>\n",
       "      <td>POLYGON ((163941.315 -428498.871, 163941.315 -...</td>\n",
       "      <td>major_stop_bus</td>\n",
       "      <td>0</td>\n",
       "    </tr>\n",
       "    <tr>\n",
       "      <th>3</th>\n",
       "      <td>0bcbcc353367cba8ba4134764abe8ec1</td>\n",
       "      <td>0666caf3ec1ecc96b74f4477ee4bc939</td>\n",
       "      <td>279</td>\n",
       "      <td>POLYGON ((163749.474 -428409.337, 163749.474 -...</td>\n",
       "      <td>major_stop_bus</td>\n",
       "      <td>0</td>\n",
       "    </tr>\n",
       "    <tr>\n",
       "      <th>4</th>\n",
       "      <td>0666caf3ec1ecc96b74f4477ee4bc939</td>\n",
       "      <td>0666caf3ec1ecc96b74f4477ee4bc939</td>\n",
       "      <td>9815</td>\n",
       "      <td>POLYGON ((163709.487 -428386.666, 163709.487 -...</td>\n",
       "      <td>major_stop_bus</td>\n",
       "      <td>0</td>\n",
       "    </tr>\n",
       "    <tr>\n",
       "      <th>...</th>\n",
       "      <td>...</td>\n",
       "      <td>...</td>\n",
       "      <td>...</td>\n",
       "      <td>...</td>\n",
       "      <td>...</td>\n",
       "      <td>...</td>\n",
       "    </tr>\n",
       "    <tr>\n",
       "      <th>14266</th>\n",
       "      <td>98588c1726b50acbef430783ab0e734e</td>\n",
       "      <td>98588c1726b50acbef430783ab0e734e</td>\n",
       "      <td>1677</td>\n",
       "      <td>POLYGON ((-119492.529 66007.706, -119492.529 6...</td>\n",
       "      <td>major_stop_bus</td>\n",
       "      <td>0</td>\n",
       "    </tr>\n",
       "    <tr>\n",
       "      <th>14267</th>\n",
       "      <td>98588c1726b50acbef430783ab0e734e</td>\n",
       "      <td>98588c1726b50acbef430783ab0e734e</td>\n",
       "      <td>1646</td>\n",
       "      <td>POLYGON ((-119510.352 66049.990, -119510.352 6...</td>\n",
       "      <td>major_stop_bus</td>\n",
       "      <td>0</td>\n",
       "    </tr>\n",
       "    <tr>\n",
       "      <th>14268</th>\n",
       "      <td>98588c1726b50acbef430783ab0e734e</td>\n",
       "      <td>98588c1726b50acbef430783ab0e734e</td>\n",
       "      <td>1885</td>\n",
       "      <td>POLYGON ((-123277.194 55436.140, -123277.194 5...</td>\n",
       "      <td>major_stop_bus</td>\n",
       "      <td>0</td>\n",
       "    </tr>\n",
       "    <tr>\n",
       "      <th>14269</th>\n",
       "      <td>98588c1726b50acbef430783ab0e734e</td>\n",
       "      <td>98588c1726b50acbef430783ab0e734e</td>\n",
       "      <td>4022</td>\n",
       "      <td>POLYGON ((-122079.290 51275.584, -122079.290 5...</td>\n",
       "      <td>major_stop_bus</td>\n",
       "      <td>0</td>\n",
       "    </tr>\n",
       "    <tr>\n",
       "      <th>14270</th>\n",
       "      <td>98588c1726b50acbef430783ab0e734e</td>\n",
       "      <td>98588c1726b50acbef430783ab0e734e</td>\n",
       "      <td>4015</td>\n",
       "      <td>POLYGON ((-122117.569 51297.725, -122117.569 5...</td>\n",
       "      <td>major_stop_bus</td>\n",
       "      <td>0</td>\n",
       "    </tr>\n",
       "  </tbody>\n",
       "</table>\n",
       "<p>14271 rows × 6 columns</p>\n",
       "</div>"
      ],
      "text/plain": [
       "      schedule_gtfs_dataset_key_primary schedule_gtfs_dataset_key_secondary  \\\n",
       "0      0bcbcc353367cba8ba4134764abe8ec1    0666caf3ec1ecc96b74f4477ee4bc939   \n",
       "1      0bcbcc353367cba8ba4134764abe8ec1    0666caf3ec1ecc96b74f4477ee4bc939   \n",
       "2      0bcbcc353367cba8ba4134764abe8ec1    0666caf3ec1ecc96b74f4477ee4bc939   \n",
       "3      0bcbcc353367cba8ba4134764abe8ec1    0666caf3ec1ecc96b74f4477ee4bc939   \n",
       "4      0666caf3ec1ecc96b74f4477ee4bc939    0666caf3ec1ecc96b74f4477ee4bc939   \n",
       "...                                 ...                                 ...   \n",
       "14266  98588c1726b50acbef430783ab0e734e    98588c1726b50acbef430783ab0e734e   \n",
       "14267  98588c1726b50acbef430783ab0e734e    98588c1726b50acbef430783ab0e734e   \n",
       "14268  98588c1726b50acbef430783ab0e734e    98588c1726b50acbef430783ab0e734e   \n",
       "14269  98588c1726b50acbef430783ab0e734e    98588c1726b50acbef430783ab0e734e   \n",
       "14270  98588c1726b50acbef430783ab0e734e    98588c1726b50acbef430783ab0e734e   \n",
       "\n",
       "      stop_id                                           geometry  \\\n",
       "0         305  POLYGON ((163919.518 -428467.431, 163919.518 -...   \n",
       "1         280  POLYGON ((163687.971 -428390.172, 163687.971 -...   \n",
       "2         289  POLYGON ((163941.315 -428498.871, 163941.315 -...   \n",
       "3         279  POLYGON ((163749.474 -428409.337, 163749.474 -...   \n",
       "4        9815  POLYGON ((163709.487 -428386.666, 163709.487 -...   \n",
       "...       ...                                                ...   \n",
       "14266    1677  POLYGON ((-119492.529 66007.706, -119492.529 6...   \n",
       "14267    1646  POLYGON ((-119510.352 66049.990, -119510.352 6...   \n",
       "14268    1885  POLYGON ((-123277.194 55436.140, -123277.194 5...   \n",
       "14269    4022  POLYGON ((-122079.290 51275.584, -122079.290 5...   \n",
       "14270    4015  POLYGON ((-122117.569 51297.725, -122117.569 5...   \n",
       "\n",
       "            hqta_type  iteration  \n",
       "0      major_stop_bus          0  \n",
       "1      major_stop_bus          0  \n",
       "2      major_stop_bus          0  \n",
       "3      major_stop_bus          0  \n",
       "4      major_stop_bus          0  \n",
       "...               ...        ...  \n",
       "14266  major_stop_bus          0  \n",
       "14267  major_stop_bus          0  \n",
       "14268  major_stop_bus          0  \n",
       "14269  major_stop_bus          0  \n",
       "14270  major_stop_bus          0  \n",
       "\n",
       "[14271 rows x 6 columns]"
      ]
     },
     "execution_count": 86,
     "metadata": {},
     "output_type": "execute_result"
    }
   ],
   "source": [
    "major_stop_bus"
   ]
  },
  {
   "cell_type": "code",
   "execution_count": 87,
   "id": "e91efca5-bfc1-4048-88a6-667ef7050691",
   "metadata": {},
   "outputs": [
    {
     "data": {
      "text/html": [
       "<div>\n",
       "<style scoped>\n",
       "    .dataframe tbody tr th:only-of-type {\n",
       "        vertical-align: middle;\n",
       "    }\n",
       "\n",
       "    .dataframe tbody tr th {\n",
       "        vertical-align: top;\n",
       "    }\n",
       "\n",
       "    .dataframe thead th {\n",
       "        text-align: right;\n",
       "    }\n",
       "</style>\n",
       "<table border=\"1\" class=\"dataframe\">\n",
       "  <thead>\n",
       "    <tr style=\"text-align: right;\">\n",
       "      <th></th>\n",
       "      <th>schedule_gtfs_dataset_key_primary</th>\n",
       "      <th>schedule_gtfs_dataset_key_secondary</th>\n",
       "      <th>stop_id</th>\n",
       "      <th>geometry</th>\n",
       "      <th>hqta_type</th>\n",
       "      <th>iteration</th>\n",
       "    </tr>\n",
       "  </thead>\n",
       "  <tbody>\n",
       "    <tr>\n",
       "      <th>3632</th>\n",
       "      <td>227b598f6f0f7cdb9a39f799cffa7352</td>\n",
       "      <td>a02018fa11c962bcd3e07ab7f4516a63</td>\n",
       "      <td>5252</td>\n",
       "      <td>POLYGON ((145099.754 -437703.806, 145099.754 -...</td>\n",
       "      <td>major_stop_bus</td>\n",
       "      <td>0</td>\n",
       "    </tr>\n",
       "    <tr>\n",
       "      <th>3633</th>\n",
       "      <td>227b598f6f0f7cdb9a39f799cffa7352</td>\n",
       "      <td>a02018fa11c962bcd3e07ab7f4516a63</td>\n",
       "      <td>5255</td>\n",
       "      <td>POLYGON ((145123.725 -437718.723, 145123.725 -...</td>\n",
       "      <td>major_stop_bus</td>\n",
       "      <td>0</td>\n",
       "    </tr>\n",
       "    <tr>\n",
       "      <th>3658</th>\n",
       "      <td>227b598f6f0f7cdb9a39f799cffa7352</td>\n",
       "      <td>c2630c44a1f2703ec651596e6358d4f4</td>\n",
       "      <td>5252</td>\n",
       "      <td>POLYGON ((145099.754 -437703.806, 145099.754 -...</td>\n",
       "      <td>major_stop_bus</td>\n",
       "      <td>0</td>\n",
       "    </tr>\n",
       "    <tr>\n",
       "      <th>3659</th>\n",
       "      <td>227b598f6f0f7cdb9a39f799cffa7352</td>\n",
       "      <td>c2630c44a1f2703ec651596e6358d4f4</td>\n",
       "      <td>5255</td>\n",
       "      <td>POLYGON ((145123.725 -437718.723, 145123.725 -...</td>\n",
       "      <td>major_stop_bus</td>\n",
       "      <td>0</td>\n",
       "    </tr>\n",
       "    <tr>\n",
       "      <th>3734</th>\n",
       "      <td>227b598f6f0f7cdb9a39f799cffa7352</td>\n",
       "      <td>0666caf3ec1ecc96b74f4477ee4bc939</td>\n",
       "      <td>5252</td>\n",
       "      <td>POLYGON ((145099.754 -437703.806, 145099.754 -...</td>\n",
       "      <td>major_stop_bus</td>\n",
       "      <td>0</td>\n",
       "    </tr>\n",
       "    <tr>\n",
       "      <th>...</th>\n",
       "      <td>...</td>\n",
       "      <td>...</td>\n",
       "      <td>...</td>\n",
       "      <td>...</td>\n",
       "      <td>...</td>\n",
       "      <td>...</td>\n",
       "    </tr>\n",
       "    <tr>\n",
       "      <th>14266</th>\n",
       "      <td>98588c1726b50acbef430783ab0e734e</td>\n",
       "      <td>98588c1726b50acbef430783ab0e734e</td>\n",
       "      <td>1677</td>\n",
       "      <td>POLYGON ((-119492.529 66007.706, -119492.529 6...</td>\n",
       "      <td>major_stop_bus</td>\n",
       "      <td>0</td>\n",
       "    </tr>\n",
       "    <tr>\n",
       "      <th>14267</th>\n",
       "      <td>98588c1726b50acbef430783ab0e734e</td>\n",
       "      <td>98588c1726b50acbef430783ab0e734e</td>\n",
       "      <td>1646</td>\n",
       "      <td>POLYGON ((-119510.352 66049.990, -119510.352 6...</td>\n",
       "      <td>major_stop_bus</td>\n",
       "      <td>0</td>\n",
       "    </tr>\n",
       "    <tr>\n",
       "      <th>14268</th>\n",
       "      <td>98588c1726b50acbef430783ab0e734e</td>\n",
       "      <td>98588c1726b50acbef430783ab0e734e</td>\n",
       "      <td>1885</td>\n",
       "      <td>POLYGON ((-123277.194 55436.140, -123277.194 5...</td>\n",
       "      <td>major_stop_bus</td>\n",
       "      <td>0</td>\n",
       "    </tr>\n",
       "    <tr>\n",
       "      <th>14269</th>\n",
       "      <td>98588c1726b50acbef430783ab0e734e</td>\n",
       "      <td>98588c1726b50acbef430783ab0e734e</td>\n",
       "      <td>4022</td>\n",
       "      <td>POLYGON ((-122079.290 51275.584, -122079.290 5...</td>\n",
       "      <td>major_stop_bus</td>\n",
       "      <td>0</td>\n",
       "    </tr>\n",
       "    <tr>\n",
       "      <th>14270</th>\n",
       "      <td>98588c1726b50acbef430783ab0e734e</td>\n",
       "      <td>98588c1726b50acbef430783ab0e734e</td>\n",
       "      <td>4015</td>\n",
       "      <td>POLYGON ((-122117.569 51297.725, -122117.569 5...</td>\n",
       "      <td>major_stop_bus</td>\n",
       "      <td>0</td>\n",
       "    </tr>\n",
       "  </tbody>\n",
       "</table>\n",
       "<p>616 rows × 6 columns</p>\n",
       "</div>"
      ],
      "text/plain": [
       "      schedule_gtfs_dataset_key_primary schedule_gtfs_dataset_key_secondary  \\\n",
       "3632   227b598f6f0f7cdb9a39f799cffa7352    a02018fa11c962bcd3e07ab7f4516a63   \n",
       "3633   227b598f6f0f7cdb9a39f799cffa7352    a02018fa11c962bcd3e07ab7f4516a63   \n",
       "3658   227b598f6f0f7cdb9a39f799cffa7352    c2630c44a1f2703ec651596e6358d4f4   \n",
       "3659   227b598f6f0f7cdb9a39f799cffa7352    c2630c44a1f2703ec651596e6358d4f4   \n",
       "3734   227b598f6f0f7cdb9a39f799cffa7352    0666caf3ec1ecc96b74f4477ee4bc939   \n",
       "...                                 ...                                 ...   \n",
       "14266  98588c1726b50acbef430783ab0e734e    98588c1726b50acbef430783ab0e734e   \n",
       "14267  98588c1726b50acbef430783ab0e734e    98588c1726b50acbef430783ab0e734e   \n",
       "14268  98588c1726b50acbef430783ab0e734e    98588c1726b50acbef430783ab0e734e   \n",
       "14269  98588c1726b50acbef430783ab0e734e    98588c1726b50acbef430783ab0e734e   \n",
       "14270  98588c1726b50acbef430783ab0e734e    98588c1726b50acbef430783ab0e734e   \n",
       "\n",
       "      stop_id                                           geometry  \\\n",
       "3632     5252  POLYGON ((145099.754 -437703.806, 145099.754 -...   \n",
       "3633     5255  POLYGON ((145123.725 -437718.723, 145123.725 -...   \n",
       "3658     5252  POLYGON ((145099.754 -437703.806, 145099.754 -...   \n",
       "3659     5255  POLYGON ((145123.725 -437718.723, 145123.725 -...   \n",
       "3734     5252  POLYGON ((145099.754 -437703.806, 145099.754 -...   \n",
       "...       ...                                                ...   \n",
       "14266    1677  POLYGON ((-119492.529 66007.706, -119492.529 6...   \n",
       "14267    1646  POLYGON ((-119510.352 66049.990, -119510.352 6...   \n",
       "14268    1885  POLYGON ((-123277.194 55436.140, -123277.194 5...   \n",
       "14269    4022  POLYGON ((-122079.290 51275.584, -122079.290 5...   \n",
       "14270    4015  POLYGON ((-122117.569 51297.725, -122117.569 5...   \n",
       "\n",
       "            hqta_type  iteration  \n",
       "3632   major_stop_bus          0  \n",
       "3633   major_stop_bus          0  \n",
       "3658   major_stop_bus          0  \n",
       "3659   major_stop_bus          0  \n",
       "3734   major_stop_bus          0  \n",
       "...               ...        ...  \n",
       "14266  major_stop_bus          0  \n",
       "14267  major_stop_bus          0  \n",
       "14268  major_stop_bus          0  \n",
       "14269  major_stop_bus          0  \n",
       "14270  major_stop_bus          0  \n",
       "\n",
       "[616 rows x 6 columns]"
      ]
     },
     "execution_count": 87,
     "metadata": {},
     "output_type": "execute_result"
    }
   ],
   "source": [
    "major_stop_bus.query(\"schedule_gtfs_dataset_key_primary.isin(@lookback_xwalk.schedule_gtfs_dataset_key)\")"
   ]
  },
  {
   "cell_type": "code",
   "execution_count": 108,
   "id": "810b56fb-d990-4629-92f1-549edb0cdf30",
   "metadata": {
    "tags": []
   },
   "outputs": [
    {
     "data": {
      "text/html": [
       "<div>\n",
       "<style scoped>\n",
       "    .dataframe tbody tr th:only-of-type {\n",
       "        vertical-align: middle;\n",
       "    }\n",
       "\n",
       "    .dataframe tbody tr th {\n",
       "        vertical-align: top;\n",
       "    }\n",
       "\n",
       "    .dataframe thead th {\n",
       "        text-align: right;\n",
       "    }\n",
       "</style>\n",
       "<table border=\"1\" class=\"dataframe\">\n",
       "  <thead>\n",
       "    <tr style=\"text-align: right;\">\n",
       "      <th></th>\n",
       "      <th>schedule_gtfs_dataset_key_primary</th>\n",
       "      <th>schedule_gtfs_dataset_key_secondary</th>\n",
       "      <th>stop_id</th>\n",
       "      <th>geometry</th>\n",
       "      <th>hqta_type</th>\n",
       "      <th>iteration</th>\n",
       "    </tr>\n",
       "  </thead>\n",
       "  <tbody>\n",
       "    <tr>\n",
       "      <th>3006</th>\n",
       "      <td>227b598f6f0f7cdb9a39f799cffa7352</td>\n",
       "      <td>0666caf3ec1ecc96b74f4477ee4bc939</td>\n",
       "      <td>5252</td>\n",
       "      <td>POLYGON ((144296.023 -437743.291, 144292.148 -...</td>\n",
       "      <td>major_stop_bus</td>\n",
       "      <td>4</td>\n",
       "    </tr>\n",
       "    <tr>\n",
       "      <th>3007</th>\n",
       "      <td>227b598f6f0f7cdb9a39f799cffa7352</td>\n",
       "      <td>0666caf3ec1ecc96b74f4477ee4bc939</td>\n",
       "      <td>5255</td>\n",
       "      <td>POLYGON ((144319.994 -437758.208, 144316.120 -...</td>\n",
       "      <td>major_stop_bus</td>\n",
       "      <td>4</td>\n",
       "    </tr>\n",
       "    <tr>\n",
       "      <th>3026</th>\n",
       "      <td>227b598f6f0f7cdb9a39f799cffa7352</td>\n",
       "      <td>4b317fc27dde351e12253d46cedd8df0</td>\n",
       "      <td>5252</td>\n",
       "      <td>POLYGON ((144296.023 -437743.291, 144292.148 -...</td>\n",
       "      <td>major_stop_bus</td>\n",
       "      <td>4</td>\n",
       "    </tr>\n",
       "    <tr>\n",
       "      <th>3027</th>\n",
       "      <td>227b598f6f0f7cdb9a39f799cffa7352</td>\n",
       "      <td>4b317fc27dde351e12253d46cedd8df0</td>\n",
       "      <td>5255</td>\n",
       "      <td>POLYGON ((144319.994 -437758.208, 144316.120 -...</td>\n",
       "      <td>major_stop_bus</td>\n",
       "      <td>4</td>\n",
       "    </tr>\n",
       "    <tr>\n",
       "      <th>3054</th>\n",
       "      <td>227b598f6f0f7cdb9a39f799cffa7352</td>\n",
       "      <td>a02018fa11c962bcd3e07ab7f4516a63</td>\n",
       "      <td>5252</td>\n",
       "      <td>POLYGON ((144296.023 -437743.291, 144292.148 -...</td>\n",
       "      <td>major_stop_bus</td>\n",
       "      <td>4</td>\n",
       "    </tr>\n",
       "    <tr>\n",
       "      <th>...</th>\n",
       "      <td>...</td>\n",
       "      <td>...</td>\n",
       "      <td>...</td>\n",
       "      <td>...</td>\n",
       "      <td>...</td>\n",
       "      <td>...</td>\n",
       "    </tr>\n",
       "    <tr>\n",
       "      <th>13229</th>\n",
       "      <td>98588c1726b50acbef430783ab0e734e</td>\n",
       "      <td>98588c1726b50acbef430783ab0e734e</td>\n",
       "      <td>1677</td>\n",
       "      <td>POLYGON ((-120296.259 65968.221, -120300.134 6...</td>\n",
       "      <td>major_stop_bus</td>\n",
       "      <td>4</td>\n",
       "    </tr>\n",
       "    <tr>\n",
       "      <th>13230</th>\n",
       "      <td>98588c1726b50acbef430783ab0e734e</td>\n",
       "      <td>98588c1726b50acbef430783ab0e734e</td>\n",
       "      <td>1646</td>\n",
       "      <td>POLYGON ((-120314.083 66010.505, -120317.957 6...</td>\n",
       "      <td>major_stop_bus</td>\n",
       "      <td>4</td>\n",
       "    </tr>\n",
       "    <tr>\n",
       "      <th>13231</th>\n",
       "      <td>98588c1726b50acbef430783ab0e734e</td>\n",
       "      <td>98588c1726b50acbef430783ab0e734e</td>\n",
       "      <td>1885</td>\n",
       "      <td>POLYGON ((-124080.924 55396.655, -124084.799 5...</td>\n",
       "      <td>major_stop_bus</td>\n",
       "      <td>4</td>\n",
       "    </tr>\n",
       "    <tr>\n",
       "      <th>13232</th>\n",
       "      <td>98588c1726b50acbef430783ab0e734e</td>\n",
       "      <td>98588c1726b50acbef430783ab0e734e</td>\n",
       "      <td>4022</td>\n",
       "      <td>POLYGON ((-122883.020 51236.099, -122886.895 5...</td>\n",
       "      <td>major_stop_bus</td>\n",
       "      <td>4</td>\n",
       "    </tr>\n",
       "    <tr>\n",
       "      <th>13233</th>\n",
       "      <td>98588c1726b50acbef430783ab0e734e</td>\n",
       "      <td>98588c1726b50acbef430783ab0e734e</td>\n",
       "      <td>4015</td>\n",
       "      <td>POLYGON ((-122921.300 51258.240, -122925.175 5...</td>\n",
       "      <td>major_stop_bus</td>\n",
       "      <td>4</td>\n",
       "    </tr>\n",
       "  </tbody>\n",
       "</table>\n",
       "<p>622 rows × 6 columns</p>\n",
       "</div>"
      ],
      "text/plain": [
       "      schedule_gtfs_dataset_key_primary schedule_gtfs_dataset_key_secondary  \\\n",
       "3006   227b598f6f0f7cdb9a39f799cffa7352    0666caf3ec1ecc96b74f4477ee4bc939   \n",
       "3007   227b598f6f0f7cdb9a39f799cffa7352    0666caf3ec1ecc96b74f4477ee4bc939   \n",
       "3026   227b598f6f0f7cdb9a39f799cffa7352    4b317fc27dde351e12253d46cedd8df0   \n",
       "3027   227b598f6f0f7cdb9a39f799cffa7352    4b317fc27dde351e12253d46cedd8df0   \n",
       "3054   227b598f6f0f7cdb9a39f799cffa7352    a02018fa11c962bcd3e07ab7f4516a63   \n",
       "...                                 ...                                 ...   \n",
       "13229  98588c1726b50acbef430783ab0e734e    98588c1726b50acbef430783ab0e734e   \n",
       "13230  98588c1726b50acbef430783ab0e734e    98588c1726b50acbef430783ab0e734e   \n",
       "13231  98588c1726b50acbef430783ab0e734e    98588c1726b50acbef430783ab0e734e   \n",
       "13232  98588c1726b50acbef430783ab0e734e    98588c1726b50acbef430783ab0e734e   \n",
       "13233  98588c1726b50acbef430783ab0e734e    98588c1726b50acbef430783ab0e734e   \n",
       "\n",
       "      stop_id                                           geometry  \\\n",
       "3006     5252  POLYGON ((144296.023 -437743.291, 144292.148 -...   \n",
       "3007     5255  POLYGON ((144319.994 -437758.208, 144316.120 -...   \n",
       "3026     5252  POLYGON ((144296.023 -437743.291, 144292.148 -...   \n",
       "3027     5255  POLYGON ((144319.994 -437758.208, 144316.120 -...   \n",
       "3054     5252  POLYGON ((144296.023 -437743.291, 144292.148 -...   \n",
       "...       ...                                                ...   \n",
       "13229    1677  POLYGON ((-120296.259 65968.221, -120300.134 6...   \n",
       "13230    1646  POLYGON ((-120314.083 66010.505, -120317.957 6...   \n",
       "13231    1885  POLYGON ((-124080.924 55396.655, -124084.799 5...   \n",
       "13232    4022  POLYGON ((-122883.020 51236.099, -122886.895 5...   \n",
       "13233    4015  POLYGON ((-122921.300 51258.240, -122925.175 5...   \n",
       "\n",
       "            hqta_type  iteration  \n",
       "3006   major_stop_bus          4  \n",
       "3007   major_stop_bus          4  \n",
       "3026   major_stop_bus          4  \n",
       "3027   major_stop_bus          4  \n",
       "3054   major_stop_bus          4  \n",
       "...               ...        ...  \n",
       "13229  major_stop_bus          4  \n",
       "13230  major_stop_bus          4  \n",
       "13231  major_stop_bus          4  \n",
       "13232  major_stop_bus          4  \n",
       "13233  major_stop_bus          4  \n",
       "\n",
       "[622 rows x 6 columns]"
      ]
     },
     "execution_count": 108,
     "metadata": {},
     "output_type": "execute_result"
    }
   ],
   "source": [
    "major_stop_bus_testing.query(\"schedule_gtfs_dataset_key_primary.isin(@lookback_xwalk.schedule_gtfs_dataset_key)\")"
   ]
  }
 ],
 "metadata": {
  "kernelspec": {
   "display_name": "Python 3 (ipykernel)",
   "language": "python",
   "name": "python3"
  },
  "language_info": {
   "codemirror_mode": {
    "name": "ipython",
    "version": 3
   },
   "file_extension": ".py",
   "mimetype": "text/x-python",
   "name": "python",
   "nbconvert_exporter": "python",
   "pygments_lexer": "ipython3",
   "version": "3.11.10"
  },
  "widgets": {
   "application/vnd.jupyter.widget-state+json": {
    "state": {},
    "version_major": 2,
    "version_minor": 0
   }
  }
 },
 "nbformat": 4,
 "nbformat_minor": 5
}
