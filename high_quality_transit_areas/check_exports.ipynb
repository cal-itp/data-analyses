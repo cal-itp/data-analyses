{
 "cells": [
  {
   "cell_type": "markdown",
   "id": "cec8ccdd-5225-4814-b59a-a8d398062e35",
   "metadata": {},
   "source": [
    "# Check HQTA points / polygons"
   ]
  },
  {
   "cell_type": "code",
   "execution_count": null,
   "id": "1db65187-7341-4a82-89d8-00dc7667a6c7",
   "metadata": {},
   "outputs": [],
   "source": [
    "import geopandas as gpd\n",
    "import pandas as pd\n",
    "\n",
    "from IPython.display import Markdown\n",
    "\n",
    "from update_vars import GCS_FILE_PATH"
   ]
  },
  {
   "cell_type": "code",
   "execution_count": null,
   "id": "ad15e88d-da20-435c-b3c0-34df96ff75bf",
   "metadata": {},
   "outputs": [],
   "source": [
    "def make_map(gdf, plot_col):\n",
    "    date_cols = [c for c in gdf.columns if \n",
    "                 gdf[c].dtype == 'datetime64[ns]']\n",
    "        \n",
    "    m = gdf.drop(date_cols).explore(\n",
    "        plot_col, \n",
    "        categorical=True, \n",
    "        tiles = \"CartoDB Positron\", \n",
    "        legend=True\n",
    "    )\n",
    "    \n",
    "    display(m)"
   ]
  },
  {
   "cell_type": "markdown",
   "id": "927b1e97-e7d6-4f46-9550-5c3f83ac08a8",
   "metadata": {},
   "source": [
    "## Rail / BRT / Ferry stops"
   ]
  },
  {
   "cell_type": "code",
   "execution_count": null,
   "id": "dcd7f8df-93bd-4702-a29e-ddd9211de08f",
   "metadata": {},
   "outputs": [],
   "source": [
    "stops = gpd.read_parquet(\n",
    "    f\"{GCS_FILE_PATH}rail_brt_ferry.parquet\"\n",
    ")\n",
    "\n",
    "hqta_types = list(stops.hqta_type.unique())"
   ]
  },
  {
   "cell_type": "code",
   "execution_count": null,
   "id": "01ad05f9-bcb3-4b06-8911-2ab3669b5561",
   "metadata": {},
   "outputs": [],
   "source": [
    "for i in hqta_types:\n",
    "    display(Markdown(f\"### HQTA Type: {i}\"))\n",
    "    \n",
    "    make_map(stops[stops.hqta_type==i], \"route_id\")"
   ]
  },
  {
   "cell_type": "markdown",
   "id": "b2c65042-a29d-4b1b-b996-f65d72a1dee9",
   "metadata": {},
   "source": [
    "## Check HQTA points"
   ]
  },
  {
   "cell_type": "code",
   "execution_count": null,
   "id": "392e4a7f-44e6-4fd3-b2f7-4b7e959632b8",
   "metadata": {},
   "outputs": [],
   "source": [
    "def check_for_missing(gdf):\n",
    "    check_cols = [\"hqta_type\", \"hqta_details\"]\n",
    "    for c in check_cols:\n",
    "        print(f\"column: {c}\")\n",
    "        print(gdf[c].value_counts())\n",
    "        display(gdf[gdf[c].isna()])\n",
    "    \n",
    "    for c in [\"base64_url_primary\"]:\n",
    "        print(f\"column: {c}\")\n",
    "        display(gdf[gdf[c].isna()])\n",
    "        \n",
    "    for c in [\"base64_url_secondary\"]:\n",
    "        print(f\"column: {c}\")\n",
    "        display(gdf[gdf[c].isna()].agency_secondary.value_counts())       "
   ]
  },
  {
   "cell_type": "code",
   "execution_count": null,
   "id": "7693b32e-6789-44ee-acb8-bcb480398d53",
   "metadata": {},
   "outputs": [],
   "source": [
    "gdf = gpd.read_parquet(f\"{GCS_FILE_PATH}hqta_points.parquet\")\n",
    "\n",
    "check_for_missing(gdf)    "
   ]
  },
  {
   "cell_type": "code",
   "execution_count": null,
   "id": "153b0708-0634-43bd-a55e-1bb8d23389de",
   "metadata": {},
   "outputs": [],
   "source": [
    "hq_types = gdf.hqta_type.unique().tolist()\n",
    "\n",
    "for i in hq_types:\n",
    "    subset = gdf[gdf.hqta_type == i]\n",
    "    print(i)\n",
    "    print(subset.hqta_details.value_counts())"
   ]
  },
  {
   "cell_type": "code",
   "execution_count": null,
   "id": "f3589e57-ab97-4de6-8d52-3d0de8e84181",
   "metadata": {},
   "outputs": [],
   "source": [
    "for i in hq_types:\n",
    "    subset = gdf[gdf.hqta_type==i]\n",
    "    \n",
    "    m = make_map(subset, \"hqta_details\")\n",
    "    \n",
    "    display(m)"
   ]
  },
  {
   "cell_type": "markdown",
   "id": "443dda56-a349-4ce7-aaec-cda0ed752cbb",
   "metadata": {},
   "source": [
    "## Check HQTA polygons"
   ]
  },
  {
   "cell_type": "code",
   "execution_count": null,
   "id": "43dbe503-d5eb-4328-a066-63eb6147d2f7",
   "metadata": {},
   "outputs": [],
   "source": [
    "gdf = gpd.read_parquet(f\"{GCS_FILE_PATH}hqta_areas.parquet\")\n",
    "\n",
    "check_for_missing(gdf)    "
   ]
  },
  {
   "cell_type": "code",
   "execution_count": null,
   "id": "bad51289-6bb7-4965-84f5-41e22c374ce5",
   "metadata": {},
   "outputs": [],
   "source": [
    "hq_types = gdf.hqta_type.unique().tolist()\n",
    "\n",
    "for i in hq_types:\n",
    "    subset = gdf[gdf.hqta_type==i]\n",
    "    \n",
    "    m = make_map(subset, \"agency_primary\")\n",
    "    \n",
    "    display(m)"
   ]
  },
  {
   "cell_type": "code",
   "execution_count": null,
   "id": "41dcbec2-16a9-4d56-9f30-9b2e83bd2741",
   "metadata": {},
   "outputs": [],
   "source": [
    "gdf[gdf.agency_primary.str.contains(\"Santa Monica\")].base64_url_primary.value_counts()"
   ]
  },
  {
   "cell_type": "code",
   "execution_count": null,
   "id": "ace4244c-b351-4259-b8bc-75e1d0105a58",
   "metadata": {},
   "outputs": [],
   "source": [
    "gdf[gdf.agency_primary.str.contains(\"Santa Monica\")]"
   ]
  },
  {
   "cell_type": "code",
   "execution_count": null,
   "id": "2029272f-7d46-4d11-9918-357c43253128",
   "metadata": {},
   "outputs": [],
   "source": [
    "agency_primary"
   ]
  }
 ],
 "metadata": {
  "kernelspec": {
   "display_name": "Python 3 (ipykernel)",
   "language": "python",
   "name": "python3"
  },
  "language_info": {
   "codemirror_mode": {
    "name": "ipython",
    "version": 3
   },
   "file_extension": ".py",
   "mimetype": "text/x-python",
   "name": "python",
   "nbconvert_exporter": "python",
   "pygments_lexer": "ipython3",
   "version": "3.9.13"
  }
 },
 "nbformat": 4,
 "nbformat_minor": 5
}
