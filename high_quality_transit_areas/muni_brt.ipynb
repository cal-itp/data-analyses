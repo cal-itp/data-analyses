{
 "cells": [
  {
   "cell_type": "markdown",
   "id": "6022c8dc-9630-4d71-a2d5-eb72422ddf73",
   "metadata": {
    "tags": []
   },
   "source": [
    "# Muni BRT stops\n",
    "Muni sent over a list of 136 new stops to add as BRT.\n",
    "\n",
    "### Issues\n",
    "**1. Check that the `stop_ids` all match what we have in January.**\n",
    "<br>None of the stops are missing.\n",
    "\n",
    "**2. What routes they belong to / how many routes are we adding compared to the 1 we had?**\n",
    "\n",
    "It might be way more concise to tag them by routes, similar to other operators' BRT.\n",
    "\n",
    "Adding 28 new routes. All are `route_type == 3 (bus)` as expected.\n",
    "\n",
    "**3. What categories are these stops now? Do they already show up in our HQ stops dataset (not as BRT, but as 2+ bus intersections)?** \n",
    "\n",
    "All the stops Muni wants to add already appears as `hq_corridor_bus` (having high frequency too!...all are `corridor_frequent_stop`).\n",
    "\n",
    "A large chunk, 90 / 136 do appear as `major_stop_bus` and show up at the intersection of 2+ bus routes.\n",
    "\n",
    "But yes, we only tag 1 route as being BRT, and this was the main purpose of their email, to recategorize those as BRT. Eric's criteria for BRT is more stringent, so we'd have to check these, because if we make it more lenient for Muni, we will have to do it for all the operators in CA.\n",
    "\n",
    "**muni stops parquet: {GCS_FILE_PATH}operator_input/check_muni_stops.parquet**"
   ]
  },
  {
   "cell_type": "code",
   "execution_count": 1,
   "id": "88c8dd53-c031-4f82-8e6c-af67c36a787e",
   "metadata": {},
   "outputs": [
    {
     "data": {
      "text/plain": [
       "'2024-01-17'"
      ]
     },
     "execution_count": 1,
     "metadata": {},
     "output_type": "execute_result"
    }
   ],
   "source": [
    "import geopandas as gpd\n",
    "import pandas as pd\n",
    "\n",
    "from segment_speed_utils import helpers\n",
    "from update_vars import analysis_date\n",
    "from utilities import GCS_FILE_PATH\n",
    "\n",
    "analysis_date"
   ]
  },
  {
   "cell_type": "code",
   "execution_count": 2,
   "id": "0e1e9d8d-23c9-4cb4-befb-0a6f02a8d9ef",
   "metadata": {},
   "outputs": [
    {
     "data": {
      "text/plain": [
       "'gs://calitp-analytics-data/data-analyses/high_quality_transit_areas/'"
      ]
     },
     "execution_count": 2,
     "metadata": {},
     "output_type": "execute_result"
    }
   ],
   "source": [
    "GCS_FILE_PATH"
   ]
  },
  {
   "cell_type": "code",
   "execution_count": 3,
   "id": "b8f704f5-052d-4890-99c0-62c2dfa8bf46",
   "metadata": {},
   "outputs": [],
   "source": [
    "muni = helpers.import_scheduled_trips(\n",
    "    analysis_date,\n",
    "    filters=[[(\"name\", \"==\", \"Bay Area 511 Muni Schedule\")]],\n",
    "    columns=[\"feed_key\", \"route_type\", \"route_id\", \"trip_id\", \"route_short_name\"],\n",
    ")\n",
    "\n",
    "muni_feed_key = muni.feed_key.unique()[0]"
   ]
  },
  {
   "cell_type": "code",
   "execution_count": 4,
   "id": "b2137a59-0603-40c2-adb2-fb5d849b7caa",
   "metadata": {},
   "outputs": [
    {
     "data": {
      "text/plain": [
       "left_only     3128\n",
       "both           136\n",
       "right_only       0\n",
       "Name: _merge, dtype: int64"
      ]
     },
     "execution_count": 4,
     "metadata": {},
     "output_type": "execute_result"
    }
   ],
   "source": [
    "stops = helpers.import_scheduled_stops(\n",
    "    analysis_date,\n",
    "    filters=[[(\"feed_key\", \"==\", muni_feed_key)]],\n",
    ")\n",
    "\n",
    "FILE = \"SFMTA_muni_high_quality_transit_stops_2024-02-01.csv\"\n",
    "\n",
    "muni_stops = (\n",
    "    pd.read_csv(f\"{GCS_FILE_PATH}operator_input/{FILE}\", \n",
    "                dtype={\"bs_id\": \"str\"})\n",
    "    .drop(columns=[\"latitude\", \"longitude\"])\n",
    "    .rename(columns={\"bs_id\": \"stop_id\"})\n",
    ")\n",
    "\n",
    "stops2 = pd.merge(\n",
    "    stops, \n",
    "    muni_stops, \n",
    "    on=\"stop_id\", \n",
    "    how=\"outer\", \n",
    "    indicator=True\n",
    ")\n",
    "\n",
    "stops2._merge.value_counts()"
   ]
  },
  {
   "cell_type": "code",
   "execution_count": 5,
   "id": "299e7ceb-2b0f-49e4-b4ab-78d1be03eed8",
   "metadata": {},
   "outputs": [],
   "source": [
    "muni_stop_times = helpers.import_scheduled_stop_times(\n",
    "    analysis_date,\n",
    "    with_direction=False,\n",
    "    columns=[\"feed_key\", \"trip_id\", \"stop_id\"],\n",
    "    filters=[\n",
    "        [(\"feed_key\", \"==\", muni_feed_key),\n",
    "         (\"stop_id\", \"in\", muni_stops.stop_id.unique()),\n",
    "        ]],\n",
    "    get_pandas=True,\n",
    ")"
   ]
  },
  {
   "cell_type": "code",
   "execution_count": 6,
   "id": "4d7be93d-a6e5-4350-b1a4-87b56f79fbaf",
   "metadata": {},
   "outputs": [],
   "source": [
    "# Merge stop_times in, but just keep unique stops-routes (don't need trips)\n",
    "muni_stops_with_route = pd.merge(\n",
    "    muni, \n",
    "    muni_stop_times, \n",
    "    on=[\"feed_key\", \"trip_id\"],\n",
    ").drop(columns = \"trip_id\").drop_duplicates().reset_index(drop=True)\n",
    "\n",
    "# Save this out so it's easier for others to work off of\n",
    "muni_stops_with_route.to_parquet(\n",
    "    f\"{GCS_FILE_PATH}operator_input/check_muni_stops.parquet\"\n",
    ")"
   ]
  },
  {
   "cell_type": "code",
   "execution_count": 7,
   "id": "421362a3-583a-48d4-814d-8b6fb65c78c4",
   "metadata": {},
   "outputs": [
    {
     "data": {
      "text/plain": [
       "28"
      ]
     },
     "execution_count": 7,
     "metadata": {},
     "output_type": "execute_result"
    }
   ],
   "source": [
    "muni_stops_with_route.route_id.nunique()"
   ]
  },
  {
   "cell_type": "code",
   "execution_count": 8,
   "id": "2416abca-81e3-4ebf-900b-4f9240b56382",
   "metadata": {},
   "outputs": [
    {
     "data": {
      "text/plain": [
       "array(['3'], dtype=object)"
      ]
     },
     "execution_count": 8,
     "metadata": {},
     "output_type": "execute_result"
    }
   ],
   "source": [
    "muni_stops_with_route.route_type.unique()"
   ]
  },
  {
   "cell_type": "code",
   "execution_count": 9,
   "id": "58e5f437-9c5f-49d8-a5b9-b329aff00bac",
   "metadata": {},
   "outputs": [
    {
     "data": {
      "text/plain": [
       "136"
      ]
     },
     "execution_count": 9,
     "metadata": {},
     "output_type": "execute_result"
    }
   ],
   "source": [
    "# this matches the number they sent over\n",
    "muni_stops_with_route.stop_id.nunique()"
   ]
  },
  {
   "cell_type": "code",
   "execution_count": 10,
   "id": "40ff50e4-395e-4871-aefc-9cabe1f913e1",
   "metadata": {},
   "outputs": [],
   "source": [
    "# Filter our HQ stops dataset\n",
    "# to Muni (organization_name) and to stop_ids and route_ids we \n",
    "# found in muni_stop_times_with_route\n",
    "hq_stops = gpd.read_parquet(\n",
    "    f\"{GCS_FILE_PATH}export/{analysis_date}/\"\n",
    "    \"ca_hq_transit_stops.parquet\",\n",
    "    filters = [[\n",
    "        (\"stop_id\", \"in\", muni_stops.stop_id.unique()), \n",
    "        (\"agency_primary\", \"==\", \"City and County of San Francisco\"), \n",
    "        (\"route_id\", \"in\", muni_stops_with_route.route_id.unique())\n",
    "    ]]\n",
    ")"
   ]
  },
  {
   "cell_type": "code",
   "execution_count": 11,
   "id": "74dcf019-0309-490c-8b37-25430beb9311",
   "metadata": {},
   "outputs": [
    {
     "data": {
      "text/plain": [
       "hq_corridor_bus    136\n",
       "major_stop_bus      90\n",
       "major_stop_brt       9\n",
       "Name: hqta_type, dtype: int64"
      ]
     },
     "execution_count": 11,
     "metadata": {},
     "output_type": "execute_result"
    }
   ],
   "source": [
    "hq_stops.hqta_type.value_counts()"
   ]
  },
  {
   "cell_type": "code",
   "execution_count": 12,
   "id": "1e4278fd-8989-4b09-8352-10fa2d2d9cec",
   "metadata": {},
   "outputs": [],
   "source": [
    "# Each stop can be tagged as several things based on\n",
    "# what category, so let's keep stop-hqta_type, but throw away route\n",
    "hq_stops2 = hq_stops[\n",
    "    [\"stop_id\", \"hqta_type\", \"hqta_details\"]\n",
    "].drop_duplicates().reset_index(drop=True)"
   ]
  },
  {
   "cell_type": "code",
   "execution_count": 13,
   "id": "061ade09-31d2-4907-987c-e73b276c0fdc",
   "metadata": {},
   "outputs": [
    {
     "data": {
      "text/plain": [
       "both          235\n",
       "left_only     134\n",
       "right_only      0\n",
       "Name: _merge, dtype: int64"
      ]
     },
     "execution_count": 13,
     "metadata": {},
     "output_type": "execute_result"
    }
   ],
   "source": [
    "pd.merge(\n",
    "    muni_stops_with_route,\n",
    "    hq_stops,\n",
    "    on = [\"route_id\", \"stop_id\"],\n",
    "    how = \"outer\",\n",
    "    indicator = True\n",
    ")._merge.value_counts()"
   ]
  },
  {
   "cell_type": "markdown",
   "id": "fd3c147a-2bcf-4242-8651-bfd8d1ab53dc",
   "metadata": {},
   "source": [
    "Test out a merge with route vs without route.\n",
    "\n",
    "The same stop can have multiple HQ categories, depending on if it's generated from an intersection of 2+ bus routes or a major transit stop, etc. We do care about route when it comes to the detail, but let's just check to see if all the stops Muni wants is represented in HQ stops.\n",
    "\n",
    "**Finding: all the stops they asked for does show up, but not in the category they want**"
   ]
  },
  {
   "cell_type": "code",
   "execution_count": 14,
   "id": "66375b86-dde9-4d7b-8a86-a5e885a41387",
   "metadata": {},
   "outputs": [
    {
     "data": {
      "text/plain": [
       "both          494\n",
       "left_only       0\n",
       "right_only      0\n",
       "Name: _merge, dtype: int64"
      ]
     },
     "execution_count": 14,
     "metadata": {},
     "output_type": "execute_result"
    }
   ],
   "source": [
    "muni_hq = pd.merge(\n",
    "    muni_stops_with_route,\n",
    "    hq_stops2,\n",
    "    on = \"stop_id\",\n",
    "    how = \"outer\",\n",
    "    indicator = True\n",
    ")\n",
    "\n",
    "muni_hq._merge.value_counts()"
   ]
  },
  {
   "cell_type": "code",
   "execution_count": 15,
   "id": "fc0e5ecd-f89d-4047-9a31-0db1cf783faf",
   "metadata": {},
   "outputs": [
    {
     "data": {
      "text/plain": [
       "hq_corridor_bus    270\n",
       "major_stop_bus     206\n",
       "major_stop_brt      18\n",
       "Name: hqta_type, dtype: int64"
      ]
     },
     "execution_count": 15,
     "metadata": {},
     "output_type": "execute_result"
    }
   ],
   "source": [
    "muni_hq.hqta_type.value_counts()"
   ]
  },
  {
   "cell_type": "markdown",
   "id": "c2c9ccff-811f-47b5-8dd6-cef7d37b9791",
   "metadata": {},
   "source": [
    "This tells me that all the stops Muni wants to add already appears as `hq_corridor_bus` (having high frequency too!...all are `corridor_frequent_stop`).\n",
    "\n",
    "A large chunk, 90 / 136 do appear as `major_stop_bus` and show up at the intersection of 2+ bus routes.\n",
    "\n",
    "But yes, we only tag 1 route as being BRT, and this was the main purpose of their email, to recategorize those as BRT. BRT would require manual checks though."
   ]
  },
  {
   "cell_type": "code",
   "execution_count": 16,
   "id": "a0f52405-6652-46b4-9340-299698fadd33",
   "metadata": {},
   "outputs": [
    {
     "data": {
      "text/plain": [
       "Index(['feed_key', 'route_type', 'route_id', 'route_short_name', 'stop_id',\n",
       "       'hqta_type', 'hqta_details', '_merge'],\n",
       "      dtype='object')"
      ]
     },
     "execution_count": 16,
     "metadata": {},
     "output_type": "execute_result"
    }
   ],
   "source": [
    "muni_hq.columns"
   ]
  },
  {
   "cell_type": "code",
   "execution_count": 17,
   "id": "fbb5f396-3c74-4e58-bf3f-edf8d17342bb",
   "metadata": {},
   "outputs": [
    {
     "name": "stdout",
     "output_type": "stream",
     "text": [
      "hq_corridor_bus\n",
      "nunique stop_ids: 136\n",
      "corridor_frequent_stop    270\n",
      "Name: hqta_details, dtype: int64\n",
      "------\n",
      "major_stop_bus\n",
      "nunique stop_ids: 90\n",
      "intersection_2_bus_routes_same_operator          124\n",
      "intersection_2_bus_routes_different_operators     82\n",
      "Name: hqta_details, dtype: int64\n",
      "------\n",
      "major_stop_brt\n",
      "nunique stop_ids: 9\n",
      "major_stop_brt_single_operator    18\n",
      "Name: hqta_details, dtype: int64\n",
      "------\n"
     ]
    }
   ],
   "source": [
    "for t in muni_hq.hqta_type.unique():\n",
    "    print(t)\n",
    "    subset = muni_hq[muni_hq.hqta_type == t]\n",
    "    \n",
    "    print(f\"nunique stop_ids: {subset.stop_id.nunique()}\")   \n",
    "    print(subset.hqta_details.value_counts())\n",
    "    print(\"------\")"
   ]
  },
  {
   "cell_type": "code",
   "execution_count": 18,
   "id": "daee969f-d895-4640-bb42-56905b5e660c",
   "metadata": {},
   "outputs": [
    {
     "data": {
      "text/plain": [
       "28"
      ]
     },
     "execution_count": 18,
     "metadata": {},
     "output_type": "execute_result"
    }
   ],
   "source": [
    "muni_hq.route_id.nunique()"
   ]
  },
  {
   "cell_type": "code",
   "execution_count": 19,
   "id": "dace4c42-8331-4ce8-a22c-156d5dabbb5f",
   "metadata": {},
   "outputs": [
    {
     "data": {
      "text/plain": [
       "136"
      ]
     },
     "execution_count": 19,
     "metadata": {},
     "output_type": "execute_result"
    }
   ],
   "source": [
    "muni_hq.stop_id.nunique()"
   ]
  },
  {
   "cell_type": "code",
   "execution_count": null,
   "id": "5090d6a8-6457-4ab3-99d0-b081ff6afa2b",
   "metadata": {},
   "outputs": [],
   "source": []
  }
 ],
 "metadata": {
  "kernelspec": {
   "display_name": "Python 3 (ipykernel)",
   "language": "python",
   "name": "python3"
  },
  "language_info": {
   "codemirror_mode": {
    "name": "ipython",
    "version": 3
   },
   "file_extension": ".py",
   "mimetype": "text/x-python",
   "name": "python",
   "nbconvert_exporter": "python",
   "pygments_lexer": "ipython3",
   "version": "3.9.13"
  }
 },
 "nbformat": 4,
 "nbformat_minor": 5
}
