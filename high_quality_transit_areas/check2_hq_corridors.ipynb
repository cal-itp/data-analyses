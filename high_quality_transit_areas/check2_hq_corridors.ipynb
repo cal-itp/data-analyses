{
 "cells": [
  {
   "cell_type": "markdown",
   "id": "08f82968-a8b5-42c3-919a-f8f2028b9c8a",
   "metadata": {},
   "source": [
    "# Check: HQ corridors"
   ]
  },
  {
   "cell_type": "code",
   "execution_count": 1,
   "id": "ecdd335a-be94-4a11-aaca-24a43a3b9756",
   "metadata": {},
   "outputs": [],
   "source": [
    "import geopandas as gpd\n",
    "import pandas as pd\n",
    "\n",
    "from shared_utils import rt_dates\n",
    "from update_vars import analysis_date"
   ]
  },
  {
   "cell_type": "markdown",
   "id": "dc9684e7-ebc1-48a8-8360-40682a1a1c14",
   "metadata": {},
   "source": [
    "### After `C3_create_bus_hqta_types`\n",
    "\n",
    "Check part of the compiling and assembly of polygons."
   ]
  },
  {
   "cell_type": "code",
   "execution_count": 2,
   "id": "4fa137db-08d5-4822-9bdd-46919ee0da7f",
   "metadata": {},
   "outputs": [],
   "source": [
    "import C1_prep_pairwise_intersections as prep_clip\n",
    "import D2_assemble_hqta_polygons as D2"
   ]
  },
  {
   "cell_type": "code",
   "execution_count": 3,
   "id": "1e383a39-3810-41f6-a366-985126b335db",
   "metadata": {},
   "outputs": [],
   "source": [
    "bus_hq_corr = prep_clip.prep_bus_corridors(is_hq_corr=True)\n",
    "\n",
    "corridors = D2.get_dissolved_hq_corridor_bus(bus_hq_corr, \n",
    "                                             analysis_date)"
   ]
  },
  {
   "cell_type": "code",
   "execution_count": null,
   "id": "691394ca-b7cc-4f81-8a96-2c167748e240",
   "metadata": {},
   "outputs": [],
   "source": [
    "COUNTY_URL = \"https://opendata.arcgis.com/datasets/8713ced9b78a4abb97dc130a691a8695_0.geojson\"\n",
    "\n",
    "EPSG_CODE = corridors.crs.to_epsg()\n",
    "counties = gpd.read_file(COUNTY_URL).to_crs(f\"EPSG: {EPSG_CODE}\")\n",
    "\n",
    "bay_area_counties = [\n",
    "    \"Alameda\", \"Contra Costa\", \n",
    "    \"Marin\", \"Napa\", \n",
    "    \"San Francisco\", \"San Mateo\", \"Santa Clara\", \n",
    "    \"Solano\", \"Sonoma\"\n",
    "]\n",
    "\n",
    "hqta_in_bay = gpd.sjoin(\n",
    "    corridors,\n",
    "    counties[counties.COUNTY_NAME.isin(bay_area_counties)][\n",
    "        [\"COUNTY_NAME\", \"geometry\"]],\n",
    "    how = \"inner\",\n",
    "    predicate=\"intersects\"\n",
    ").drop(columns=\"index_right\")\n",
    "\n",
    "hqta_in_la = gpd.sjoin(\n",
    "    corridors,\n",
    "    counties[counties.COUNTY_NAME == \"Los Angeles\"][\n",
    "        [\"COUNTY_NAME\", \"geometry\"]],\n",
    "    how = \"inner\",\n",
    "    predicate=\"intersects\"\n",
    ").drop(columns=\"index_right\")"
   ]
  },
  {
   "cell_type": "code",
   "execution_count": null,
   "id": "c6368928-8f1a-4c08-b826-96115e85eb4f",
   "metadata": {},
   "outputs": [],
   "source": [
    "# Bay Area\n",
    "TILES = \"CartoDB Positron\"\n",
    "hqta_in_bay.explore(\"feed_key_primary\", categorical=True, \n",
    "                    tiles = TILES, legend=False)"
   ]
  },
  {
   "cell_type": "code",
   "execution_count": null,
   "id": "549e7974-fa20-4cce-b02a-7984192483b4",
   "metadata": {},
   "outputs": [],
   "source": [
    "# LA\n",
    "hqta_in_la.explore(\"feed_key_primary\", categorical=True, \n",
    "                   tiles = TILES, legend=False)"
   ]
  },
  {
   "cell_type": "code",
   "execution_count": null,
   "id": "fdd4f490-df75-4433-898a-4479f5cb62b2",
   "metadata": {},
   "outputs": [],
   "source": []
  }
 ],
 "metadata": {
  "kernelspec": {
   "display_name": "Python 3 (ipykernel)",
   "language": "python",
   "name": "python3"
  },
  "language_info": {
   "codemirror_mode": {
    "name": "ipython",
    "version": 3
   },
   "file_extension": ".py",
   "mimetype": "text/x-python",
   "name": "python",
   "nbconvert_exporter": "python",
   "pygments_lexer": "ipython3",
   "version": "3.9.13"
  }
 },
 "nbformat": 4,
 "nbformat_minor": 5
}
