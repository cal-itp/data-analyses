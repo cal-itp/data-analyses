{
 "cells": [
  {
   "cell_type": "code",
   "execution_count": null,
   "id": "1e09dc1d-79dd-4e1b-ada2-d2c0bc7c4697",
   "metadata": {},
   "outputs": [],
   "source": [
    "#https://stackoverflow.com/questions/35064304/runtimeerror-make-sure-the-graphviz-executables-are-on-your-systems-path-aft\n",
    "#!pip install graphviz\n",
    "#!conda install --yes -c conda-forge graphviz"
   ]
  },
  {
   "cell_type": "markdown",
   "id": "3f7a84a0-e27d-4882-ac39-396e816e1d2f",
   "metadata": {},
   "source": [
    "# Minimal example to get `dask.distributed` working\n",
    "\n",
    "* No `dask_geopandas` installed in `dask.distributed`...will have to ask Andrew. For now, test `dask.dataframe` only.\n",
    "* Move all functions into this notebook to simplify for now.\n",
    "* Read in multiple tabular datasets, merge, and do aggregation.\n",
    "* Get task graph loaded (`bus_service_utils` has the `pip` and `conda` requirements)\n",
    "* Can we test `dask.delayed` and `dask futures`?"
   ]
  },
  {
   "cell_type": "code",
   "execution_count": 1,
   "id": "53b4d7d3-5e12-4f23-9224-735d41b9b95d",
   "metadata": {},
   "outputs": [],
   "source": [
    "import dask.dataframe as dd\n",
    "import pandas as pd\n",
    "\n",
    "#from dask.distributed import Client\n",
    "\n",
    "analysis_date = \"2022-10-12\"\n",
    "RT_GCS = 'gs://calitp-analytics-data/data-analyses/rt_delay/cached_views/'"
   ]
  },
  {
   "cell_type": "code",
   "execution_count": 2,
   "id": "7307c971-297a-45c7-92c2-b4cc397cc106",
   "metadata": {},
   "outputs": [],
   "source": [
    "def categorize_time_of_day(value: int ) -> str:\n",
    "    if isinstance(value, int):\n",
    "        hour = value\n",
    "    if hour < 4:\n",
    "        return \"Owl\"\n",
    "    elif hour < 7:\n",
    "        return \"Early AM\"\n",
    "    elif hour < 10:\n",
    "        return \"AM Peak\"\n",
    "    elif hour < 15:\n",
    "        return \"Midday\"\n",
    "    elif hour < 20:\n",
    "        return \"PM Peak\"\n",
    "    else:\n",
    "        return \"Evening\""
   ]
  },
  {
   "cell_type": "code",
   "execution_count": 3,
   "id": "8e1b7a59-1cbc-4952-a9c0-f52efd2ac58b",
   "metadata": {},
   "outputs": [],
   "source": [
    "def merge_stop_times_to_trips(stop_times: dd.DataFrame, \n",
    "                          trips: dd.DataFrame) -> dd.DataFrame:   \n",
    "    shape_id_cols = [\"calitp_itp_id\", \"shape_id\"]\n",
    "\n",
    "    merged = dd.merge(\n",
    "        stop_times,\n",
    "        trips[shape_id_cols + [\"trip_id\"]].drop_duplicates(),\n",
    "        on = [\"calitp_itp_id\", \"trip_id\"]\n",
    "    )\n",
    "    \n",
    "    # Map to time-of-day\n",
    "    stop_times_binned = merged.assign(\n",
    "        time_of_day=merged.apply(\n",
    "            lambda x: categorize_time_of_day(x.departure_hour), axis=1, \n",
    "            meta=('time_of_day', 'str'))\n",
    "    )\n",
    "    \n",
    "    # Calculate the number of arrivals by time-of-day\n",
    "    arrivals = (stop_times_binned.groupby(shape_id_cols + [\"time_of_day\"])\n",
    "          .agg({\"stop_id\": \"count\"})\n",
    "            .reset_index()\n",
    "         )\n",
    "    \n",
    "    return arrivals"
   ]
  },
  {
   "cell_type": "code",
   "execution_count": null,
   "id": "8bfc559d-f78f-48d1-9af7-ff5a60a1691f",
   "metadata": {},
   "outputs": [],
   "source": [
    "client = Client(\"dask-scheduler.dask.svc.cluster.local:8786\")\n",
    "client"
   ]
  },
  {
   "cell_type": "markdown",
   "id": "eaecb7b5-45c8-407e-bbab-2e2ef8c1713d",
   "metadata": {},
   "source": [
    "Show task graph for just 1 operator.\n",
    "\n",
    "* low-level: `.visualize()` \n",
    "* high-level: `.dask.visualize()`"
   ]
  },
  {
   "cell_type": "code",
   "execution_count": 4,
   "id": "25dcb9c9-f89a-4bb3-b433-b5d76a380094",
   "metadata": {},
   "outputs": [],
   "source": [
    "def import_data_combined(date):\n",
    "    RT_GCS = 'gs://calitp-analytics-data/data-analyses/rt_delay/compiled_cached_views/'\n",
    "    stop_times = dd.read_parquet(f\"{RT_GCS}st_{date}.parquet\")\n",
    "    trips = dd.read_parquet(f\"{RT_GCS}trips_{date}.parquet\")\n",
    "    \n",
    "    return stop_times, trips"
   ]
  },
  {
   "cell_type": "code",
   "execution_count": 5,
   "id": "b975caec-f717-481c-a1cd-f7424130fa76",
   "metadata": {},
   "outputs": [],
   "source": [
    "all_stop_times, all_trips = import_data_combined(analysis_date)"
   ]
  },
  {
   "cell_type": "code",
   "execution_count": 6,
   "id": "d0cf2a80-6a2c-44b9-b044-3883ea1a97b5",
   "metadata": {},
   "outputs": [],
   "source": [
    "all_stop_times = all_stop_times.repartition(npartitions=5)\n",
    "all_trips = all_trips.repartition(npartitions=5)"
   ]
  },
  {
   "cell_type": "code",
   "execution_count": 7,
   "id": "219f0ab1-e832-43d1-868a-c8ce174c9228",
   "metadata": {},
   "outputs": [],
   "source": [
    "merged = merge_stop_times_to_trips(all_stop_times, all_trips)"
   ]
  },
  {
   "cell_type": "code",
   "execution_count": 9,
   "id": "db044e37-3708-4d45-93fb-b003e3e46924",
   "metadata": {},
   "outputs": [],
   "source": [
    "merged = merged.repartition(npartitions=3)"
   ]
  },
  {
   "cell_type": "code",
   "execution_count": null,
   "id": "d5de65a1-b853-4cfb-8faa-f3fb63ceece4",
   "metadata": {},
   "outputs": [],
   "source": [
    "# Low-level graph\n",
    "merged.visualize(optimize_graph=True)"
   ]
  },
  {
   "cell_type": "code",
   "execution_count": null,
   "id": "e2c10755-38fd-4c00-8c6c-9220fdd6296a",
   "metadata": {},
   "outputs": [],
   "source": [
    "# High-level graph\n",
    "merged.dask.visualize()"
   ]
  },
  {
   "cell_type": "code",
   "execution_count": null,
   "id": "0950d999-0359-4af2-b448-1920f8294913",
   "metadata": {},
   "outputs": [],
   "source": [
    "# Serialization issue comes up when compute() is called\n",
    "# to turn dask.dataframe into pandas df...and here, to create a list of 1 value\n",
    "merged[merged.calitp_itp_id==182].calitp_itp_id.unique().compute()"
   ]
  },
  {
   "cell_type": "code",
   "execution_count": null,
   "id": "425b61c3-c2f3-43ec-bb64-887a25b4881a",
   "metadata": {},
   "outputs": [],
   "source": [
    "merged.to_parquet(\"gs://calitp-analytics-data/data-analyses/dask_test/test.parquet\", \n",
    "                  storage_options = {'token': gcs.session.credentials}\n",
    "                 )"
   ]
  },
  {
   "cell_type": "code",
   "execution_count": 10,
   "id": "77685ac5-0734-4f5c-8056-6fd5f6059912",
   "metadata": {},
   "outputs": [],
   "source": [
    "merged.to_parquet(\"test\")"
   ]
  },
  {
   "cell_type": "code",
   "execution_count": null,
   "id": "c724a55a-fa9e-43f3-976f-4a65de8f2a1b",
   "metadata": {},
   "outputs": [],
   "source": []
  }
 ],
 "metadata": {
  "kernelspec": {
   "display_name": "Python 3 (ipykernel)",
   "language": "python",
   "name": "python3"
  },
  "language_info": {
   "codemirror_mode": {
    "name": "ipython",
    "version": 3
   },
   "file_extension": ".py",
   "mimetype": "text/x-python",
   "name": "python",
   "nbconvert_exporter": "python",
   "pygments_lexer": "ipython3",
   "version": "3.10.6"
  }
 },
 "nbformat": 4,
 "nbformat_minor": 5
}
