{
 "cells": [
  {
   "cell_type": "markdown",
   "id": "3fe82ed4-2fe1-4fd9-bc6a-40dfe0f264cc",
   "metadata": {},
   "source": [
    "## Compare stats for intermediate outputs `all_bus` and `shape_dissolve`\n",
    "\n",
    "Right now, the way hqta segments are constructed and which stops are attached differ. \n",
    "\n",
    "Step through the rest of the process and add these comparison stats each step of the way anyway."
   ]
  },
  {
   "cell_type": "code",
   "execution_count": 1,
   "id": "9cb6f9fc-def4-4ea4-9aaf-da299c2eea27",
   "metadata": {},
   "outputs": [
    {
     "name": "stderr",
     "output_type": "stream",
     "text": [
      "/opt/conda/lib/python3.10/site-packages/geopandas/_compat.py:111: UserWarning: The Shapely GEOS version (3.10.2-CAPI-1.16.0) is incompatible with the GEOS version PyGEOS was compiled with (3.10.1-CAPI-1.16.0). Conversions between both will be slow.\n",
      "  warnings.warn(\n"
     ]
    }
   ],
   "source": [
    "import geopandas as gpd\n",
    "import pandas as pd\n",
    "\n",
    "import B1_bus_corridors as bus_corridors\n",
    "import utilities"
   ]
  },
  {
   "cell_type": "code",
   "execution_count": 2,
   "id": "3f02f9e6-8805-442c-bcb2-87ea34a2f390",
   "metadata": {},
   "outputs": [],
   "source": [
    "combined_tiff = gpd.read_parquet(\n",
    "    f\"{bus_corridors.TEST_GCS_FILE_PATH}intermediate/all_bus.parquet\")\n",
    "\n",
    "diss_tiff = gpd.read_parquet(\n",
    "    f\"{bus_corridors.TEST_GCS_FILE_PATH}intermediate/shape_dissolve.parquet\")"
   ]
  },
  {
   "cell_type": "code",
   "execution_count": 3,
   "id": "c89105d8-873e-4079-b0e7-d348b8bd568a",
   "metadata": {},
   "outputs": [],
   "source": [
    "combined_eric = gpd.read_parquet(\n",
    "    f\"{utilities.GCS_FILE_PATH}intermediate/all_bus.parquet\")\n",
    "\n",
    "diss_eric = gpd.read_parquet(\n",
    "    f\"{utilities.GCS_FILE_PATH}intermediate/shape_dissolve.parquet\")"
   ]
  },
  {
   "cell_type": "code",
   "execution_count": 4,
   "id": "60507b67-fd0c-4d4e-a4c7-058d5a2e7c46",
   "metadata": {},
   "outputs": [],
   "source": [
    "def unique_values(df):\n",
    "    for c in [\"shape_id\", \"stop_id\", \"hqta_segment_id\", \"calitp_itp_id\"]:\n",
    "        print(f\"# unique {c}: {df[c].nunique()}\")\n",
    "        \n",
    "def hqta_distribution(df):\n",
    "    print(df.hq_transit_corr.value_counts())\n",
    "\n",
    "    \n",
    "def area_trips_stats(df):\n",
    "    area = df.geometry.area.sum().round(3)\n",
    "    am_trips = df.am_max_trips.sum().astype(int)\n",
    "    pm_trips = df.pm_max_trips.sum().astype(int)\n",
    "\n",
    "    print(f\"Area: {area:,}\")\n",
    "    print(f\"AM trips sum: {am_trips:,}\")\n",
    "    print(f\"PM trips sum: {pm_trips:,}\")\n",
    "    "
   ]
  },
  {
   "cell_type": "code",
   "execution_count": 5,
   "id": "8635c2bf-bd6e-42f3-815b-1ceb3fe914b6",
   "metadata": {},
   "outputs": [],
   "source": [
    "def compare(eric, tiff):\n",
    "    print(\"*************Unique Values*************\")\n",
    "    print(\"***Eric***\")\n",
    "    unique_values(eric)\n",
    "    \n",
    "    print(\"***Tiff***\")\n",
    "    unique_values(tiff)\n",
    "\n",
    "    print(\"\\n*************HQTA Distribution*************\")\n",
    "    print(\"***Eric***\")\n",
    "    hqta_distribution(eric)\n",
    "    \n",
    "    print(\"***Tiff***\")\n",
    "    hqta_distribution(tiff)\n",
    "    \n",
    "    print(\"\\n*************HQTA Stats*************\")\n",
    "    print(\"***Eric***\")\n",
    "    area_trips_stats(eric[eric.hq_transit_corr==True])\n",
    "    \n",
    "    print(\"***Tiff***\")\n",
    "    area_trips_stats(tiff[tiff.hq_transit_corr==True])\n",
    "    \n",
    "    print(\"\\n*************Not HQTA Stats*************\")\n",
    "    print(\"***Eric***\")\n",
    "    area_trips_stats(eric[eric.hq_transit_corr==False])\n",
    "    \n",
    "    print(\"***Tiff***\")\n",
    "    area_trips_stats(tiff[tiff.hq_transit_corr==False])\n"
   ]
  },
  {
   "cell_type": "code",
   "execution_count": 6,
   "id": "59b01bbe-03e4-4bf1-8b59-562651994df7",
   "metadata": {},
   "outputs": [
    {
     "name": "stdout",
     "output_type": "stream",
     "text": [
      "*************Unique Values*************\n",
      "***Eric***\n",
      "# unique shape_id: 3010\n",
      "# unique stop_id: 14799\n",
      "# unique hqta_segment_id: 31494\n",
      "# unique calitp_itp_id: 161\n",
      "***Tiff***\n",
      "# unique shape_id: 2146\n",
      "# unique stop_id: 14491\n",
      "# unique hqta_segment_id: 35406\n",
      "# unique calitp_itp_id: 165\n",
      "\n",
      "*************HQTA Distribution*************\n",
      "***Eric***\n",
      "False    26534\n",
      "True      4973\n",
      "Name: hq_transit_corr, dtype: int64\n",
      "***Tiff***\n",
      "False    25524\n",
      "True      9884\n",
      "Name: hq_transit_corr, dtype: int64\n",
      "\n",
      "*************HQTA Stats*************\n",
      "***Eric***\n",
      "Area: 449,128,561.225\n",
      "AM trips sum: 48,220\n",
      "PM trips sum: 48,857\n",
      "***Tiff***\n",
      "Area: 1,201,949,579.684\n",
      "AM trips sum: 114,876\n",
      "PM trips sum: 117,336\n",
      "\n",
      "*************Not HQTA Stats*************\n",
      "***Eric***\n",
      "Area: 2,185,368,656.306\n",
      "AM trips sum: 52,467\n",
      "PM trips sum: 52,875\n",
      "***Tiff***\n",
      "Area: 3,263,783,341.991\n",
      "AM trips sum: 51,441\n",
      "PM trips sum: 52,336\n"
     ]
    }
   ],
   "source": [
    "compare(combined_eric, combined_tiff)"
   ]
  },
  {
   "cell_type": "code",
   "execution_count": 7,
   "id": "227af8bf-dd41-4eab-80be-fc8705d7f8c2",
   "metadata": {},
   "outputs": [
    {
     "name": "stdout",
     "output_type": "stream",
     "text": [
      "*************Unique Values*************\n",
      "***Eric***\n",
      "# unique shape_id: 1987\n",
      "# unique stop_id: 2282\n",
      "# unique hqta_segment_id: 2774\n",
      "# unique calitp_itp_id: 161\n",
      "***Tiff***\n",
      "# unique shape_id: 2128\n",
      "# unique stop_id: 2949\n",
      "# unique hqta_segment_id: 3811\n",
      "# unique calitp_itp_id: 165\n",
      "\n",
      "*************HQTA Distribution*************\n",
      "***Eric***\n",
      "False    2195\n",
      "True      579\n",
      "Name: hq_transit_corr, dtype: int64\n",
      "***Tiff***\n",
      "False    2261\n",
      "True     1550\n",
      "Name: hq_transit_corr, dtype: int64\n",
      "\n",
      "*************HQTA Stats*************\n",
      "***Eric***\n",
      "Area: 374,360,820.841\n",
      "AM trips sum: 6,706\n",
      "PM trips sum: 6,855\n",
      "***Tiff***\n",
      "Area: 1,069,364,983.305\n",
      "AM trips sum: 16,636\n",
      "PM trips sum: 17,127\n",
      "\n",
      "*************Not HQTA Stats*************\n",
      "***Eric***\n",
      "Area: 1,888,995,540.223\n",
      "AM trips sum: 5,098\n",
      "PM trips sum: 5,126\n",
      "***Tiff***\n",
      "Area: 2,936,207,635.885\n",
      "AM trips sum: 5,122\n",
      "PM trips sum: 5,185\n"
     ]
    }
   ],
   "source": [
    "compare(diss_eric, diss_tiff)"
   ]
  },
  {
   "cell_type": "code",
   "execution_count": null,
   "id": "f5347b08-2164-43d7-8a8b-9366bed20e6b",
   "metadata": {},
   "outputs": [],
   "source": []
  }
 ],
 "metadata": {
  "kernelspec": {
   "display_name": "Python 3 (ipykernel)",
   "language": "python",
   "name": "python3"
  },
  "language_info": {
   "codemirror_mode": {
    "name": "ipython",
    "version": 3
   },
   "file_extension": ".py",
   "mimetype": "text/x-python",
   "name": "python",
   "nbconvert_exporter": "python",
   "pygments_lexer": "ipython3",
   "version": "3.10.4"
  }
 },
 "nbformat": 4,
 "nbformat_minor": 5
}
