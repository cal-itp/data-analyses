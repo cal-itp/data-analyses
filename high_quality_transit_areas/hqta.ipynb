{
 "cells": [
  {
   "cell_type": "code",
   "execution_count": 1,
   "id": "e37ce21c-ae28-4359-89b8-f628f852c489",
   "metadata": {},
   "outputs": [
    {
     "name": "stderr",
     "output_type": "stream",
     "text": [
      "/home/edasmalchi/miniconda3/lib/python3.9/site-packages/google/auth/_default.py:71: UserWarning: Your application has authenticated using end user credentials from Google Cloud SDK without a quota project. You might receive a \"quota exceeded\" or \"API not enabled\" error. We recommend you rerun `gcloud auth application-default login` and make sure a quota project is added. Or you can use service accounts instead. For more information about service accounts, see https://cloud.google.com/docs/authentication/\n",
      "  warnings.warn(_CLOUD_SDK_CREDENTIALS_WARNING)\n"
     ]
    }
   ],
   "source": [
    "import calitp\n",
    "from calitp.tables import tbl\n",
    "from siuba import *\n",
    "\n",
    "import pandas as pd\n",
    "import numpy as np\n",
    "import geopandas as gpd\n",
    "import fiona\n",
    "\n",
    "from ipyleaflet import Map, GeoJSON, projections, basemaps, GeoData, LayersControl, WidgetControl, GeoJSON\n",
    "from ipywidgets import Text, HTML\n",
    "\n",
    "import shapely\n",
    "from shapely.geometry import LineString, MultiPoint\n",
    "from shapely.ops import split, substring\n",
    "\n",
    "import zlib\n",
    "import datetime as dt"
   ]
  },
  {
   "cell_type": "markdown",
   "id": "b0c50342-09f6-4d18-96fb-d950a304d0e1",
   "metadata": {},
   "source": [
    "### High Quality Transit Areas Relevant Statutes\n",
    "\n",
    "[PRC 21155](https://leginfo.legislature.ca.gov/faces/codes_displaySection.xhtml?sectionNum=21155.&lawCode=PRC)\n",
    "* Major transit stop definition: _A major transit stop is as defined in Section 21064.3, except that, for purposes of this section, it also includes major transit stops that are included in the applicable regional transportation plan_\n",
    "* High-quality transit corridor definition: _For purposes of this section, a high-quality transit corridor means a corridor with fixed route bus service with service intervals no longer than 15 minutes during peak commute hours._\n",
    "    * Unable to locate definition of \"peak commute hours\"\n",
    "\n",
    "[PRC 21064.3](https://leginfo.legislature.ca.gov/faces/codes_displaySection.xhtml?sectionNum=21064.3.&lawCode=PRC)\n",
    "* _Major transit stop means a site containing any of the following:\n",
    "(a) An existing rail or bus rapid transit station.\n",
    "(b) A ferry terminal served by either a bus or rail transit service.\n",
    "(c) The intersection of two or more major bus routes with a frequency of service interval of 15 minutes or less during the morning and afternoon peak commute periods._\n",
    "    * \"Intersection\" may not be sufficiently well-defined for this analysis\n",
    "\n",
    "[PRC 21060.2](https://leginfo.legislature.ca.gov/faces/codes_displaySection.xhtml?lawCode=PRC&sectionNum=21060.2.&highlight=true&keyword=bus%20rapid%20transit)\n",
    "* _(a) “Bus rapid transit” means a public mass transit service provided by a public agency or by a public-private partnership that includes all of the following features:\n",
    "(1) Full-time dedicated bus lanes or operation in a separate right-of-way dedicated for public transportation with a frequency of service interval of 15 minutes or less during the morning and afternoon peak commute periods.\n",
    "(2) Transit signal priority.\n",
    "(3) All-door boarding.\n",
    "(4) Fare collection system that promotes efficiency.\n",
    "(5) Defined stations._\n",
    "    * Unlikely to determine if a service qualifies as BRT under this definition using GTFS alone"
   ]
  },
  {
   "cell_type": "code",
   "execution_count": 2,
   "id": "25b4b77d-3d2e-4ecc-a6db-fa27aecf71db",
   "metadata": {},
   "outputs": [],
   "source": [
    "##definition of \"peak\" pending\n",
    "am_peak = range(6, 9)\n",
    "pm_peak = range(16, 19)"
   ]
  },
  {
   "cell_type": "code",
   "execution_count": 3,
   "id": "ed58ef3a-f454-4f00-9202-bae1dc82f92d",
   "metadata": {},
   "outputs": [],
   "source": [
    "am_commute_hours = list(am_peak)\n",
    "pm_commute_hours = list(pm_peak)\n",
    "commute_hours = am_commute_hours + pm_commute_hours"
   ]
  },
  {
   "cell_type": "code",
   "execution_count": 4,
   "id": "c0377ee1-4bc3-4010-ad1f-2318072a5c0a",
   "metadata": {},
   "outputs": [
    {
     "data": {
      "text/plain": [
       "[6, 7, 8, 16, 17, 18]"
      ]
     },
     "execution_count": 4,
     "metadata": {},
     "output_type": "execute_result"
    }
   ],
   "source": [
    "commute_hours"
   ]
  },
  {
   "cell_type": "code",
   "execution_count": 5,
   "id": "7d8165e1-492a-4013-bb1f-de1b252fa5d1",
   "metadata": {},
   "outputs": [],
   "source": [
    "def create_segments(geometry):\n",
    "    '''Splits a Shapely LineString into smaller LineStrings. If a MultiLineString passed,\n",
    "    splits each LineString in that collection. \n",
    "    '''\n",
    "    \n",
    "    lines = []\n",
    "    segment_distance_meters = 1250\n",
    "    geometry = geometry.iloc[0]\n",
    "    if hasattr(geometry, 'geoms'): ##check if MultiLineString\n",
    "        linestrings = geometry.geoms\n",
    "    else:\n",
    "        linestrings = [geometry]\n",
    "    for linestring in linestrings:\n",
    "        for i in range(0, int(linestring.length), segment_distance_meters):\n",
    "            lines.append(substring(linestring, i, i+segment_distance_meters))\n",
    "    return lines"
   ]
  },
  {
   "cell_type": "code",
   "execution_count": 6,
   "id": "e3d9fa0d-35b0-4a9c-8e45-c5114e5c09a1",
   "metadata": {},
   "outputs": [],
   "source": [
    "def find_stop_with_high_trip_count(segment, stops, stop_times, rank, calculated_stops):\n",
    "    '''Given a shape segment, finds the stop serving the most (or other rank) trips within that segment.\n",
    "    Adds that stop's stop_id to segment data (a row).\n",
    "    '''\n",
    "    \n",
    "    stops_in_seg = gpd.clip(stops, segment.geometry)\n",
    "    if stops_in_seg.size == 0:\n",
    "        return segment\n",
    "    \n",
    "    stop_times_in_seg = stops_in_seg >> inner_join(_, stop_times, on = 'stop_id')\n",
    "    trip_count_by_stop = stop_times_in_seg >> count(_.stop_id) >> arrange(-_.n) >> rename(n_trips = _.n)\n",
    "    try:\n",
    "        stop_id = trip_count_by_stop['stop_id'].iloc[rank - 1]\n",
    "\n",
    "        if stop_id in list(calculated_stops):\n",
    "            return segment\n",
    "        segment['stop_id'] = stop_id\n",
    "        segment['n_trips'] = trip_count_by_stop['n_trips'].iloc[rank - 1]\n",
    "        return segment\n",
    "    except IndexError:\n",
    "        return segment"
   ]
  },
  {
   "cell_type": "code",
   "execution_count": 7,
   "id": "65c74fbd-059f-4df8-a3a1-e6c1361489b7",
   "metadata": {},
   "outputs": [],
   "source": [
    "def get_operator_views(itp_id):\n",
    "    '''Returns relevant views from the data warehouse for a single transit operator.\n",
    "    '''\n",
    "    shapes = tbl.gtfs_schedule.shapes() >> filter(_.calitp_itp_id == int(itp_id)) >> collect()\n",
    "    shapes = gpd.GeoDataFrame(shapes, \n",
    "                              geometry = gpd.points_from_xy(shapes.shape_pt_lon, shapes.shape_pt_lat),\n",
    "                              crs = 'EPSG:4326').to_crs('EPSG:6414') ## https://epsg.io/6414 (meters)\n",
    "    print('loaded shapes')\n",
    "    if itp_id != 273:\n",
    "        wednesday = (tbl.views.gtfs_schedule_fact_daily_service() \n",
    "                 >> filter(_.calitp_itp_id == int(itp_id)) >> collect())\n",
    "        wednesday = wednesday >> arrange(-_.service_date)\n",
    "        wednesday = wednesday[wednesday['service_date'].apply(lambda x: x.weekday() == 2)]\n",
    "        wednesday = wednesday[wednesday['service_date'].apply(lambda x: x.month < 11)]\n",
    "        wednesday = wednesday[wednesday['service_date'] == wednesday['service_date'].iloc[0]] ## pick most recent Wednesday from Oct or earlier\n",
    "    \n",
    "    bus_routes = (tbl.gtfs_schedule.routes()\n",
    "                    >> filter(_.calitp_itp_id == int(itp_id))\n",
    "                    >> filter(_.route_type.isin(['3', '11'])) ## bus and trolleybus\n",
    "                    >> select(_.route_id) >> collect())\n",
    "    print('loaded bus routes')\n",
    "    \n",
    "    if itp_id == 273:\n",
    "        trips = (tbl.gtfs_schedule.trips()\n",
    "         >> filter(_.calitp_itp_id == int(itp_id))\n",
    "         >> filter(_.service_id.isin(['1'])) ## temporary hardcode for SacRT\n",
    "         >> filter(_.route_id.isin(bus_routes.route_id))\n",
    "         >> collect())\n",
    "    else:\n",
    "        trips = (tbl.gtfs_schedule.trips()\n",
    "                 >> filter(_.calitp_itp_id == int(itp_id))\n",
    "                 >> filter(_.service_id.isin(wednesday.service_id))\n",
    "                 >> filter(_.route_id.isin(bus_routes.route_id))\n",
    "                 >> collect())\n",
    "    print('loaded trips')\n",
    "    stop_times = (tbl.gtfs_schedule.stop_times()\n",
    "                  >> filter(_.calitp_itp_id == int(itp_id))\n",
    "                  >> collect())\n",
    "    stop_times =  (stop_times >> filter(_.trip_id.isin(trips.trip_id))\n",
    "                  >> select(-_.calitp_itp_id, -_.calitp_extracted_at))\n",
    "    print('loaded stop times')\n",
    "\n",
    "    stops = (tbl.gtfs_schedule.stops() \n",
    "             >> filter(_.calitp_itp_id == itp_id)\n",
    "             >> select(_.stop_id, _.stop_lat, _.stop_lon)\n",
    "             >> collect())\n",
    "    stops = gpd.GeoDataFrame(stops,\n",
    "                     geometry = gpd.points_from_xy(stops.stop_lon, stops.stop_lat),\n",
    "                     crs = 'EPSG:4326').to_crs('EPSG:6414') ## https://epsg.io/6414 (meters)\n",
    "    print('loaded stops')\n",
    "\n",
    "    return shapes, trips, stop_times, stops"
   ]
  },
  {
   "cell_type": "code",
   "execution_count": 8,
   "id": "1049eee5-d4d9-43a1-9a84-c3bd3687f6d3",
   "metadata": {},
   "outputs": [],
   "source": [
    "def fix_arrival_time(gtfs_timestring):\n",
    "    '''Reformats a GTFS timestamp (which allows the hour to exceed 24 to mark service day continuity)\n",
    "    to standard 24-hour time.\n",
    "    '''\n",
    "    split = gtfs_timestring.split(':')\n",
    "    hour = int(split[0])\n",
    "    if hour >= 24:\n",
    "        split[0] = str(hour - 24)\n",
    "        corrected = (':').join(split)\n",
    "        return corrected.strip()\n",
    "    else:\n",
    "        return gtfs_timestring.strip()"
   ]
  },
  {
   "cell_type": "code",
   "execution_count": 9,
   "id": "0d3207be-d38f-4f17-a97f-0f84cae25d77",
   "metadata": {},
   "outputs": [],
   "source": [
    "def single_shape_hqta(shapes, trips, stop_times, stops, route_count_by_stop, shape_id, hqta):\n",
    "    '''Starting with a single GTFS shape, split that shape into segments and determine if each segment qualifies\n",
    "    as an HQTA. Existing segments within a shape are dropped for that shape, since their peak frequency and \n",
    "    HQTA status would have already been calculated for a previous shape.\n",
    "    '''\n",
    "\n",
    "    single_shape = (shapes\n",
    "         >> filter(_.shape_id == shape_id)\n",
    "         >> mutate(shape_pt_sequence = _.shape_pt_sequence.astype('int64'))\n",
    "         >> arrange(_.shape_pt_sequence) ##arrange, then convert to line to preserve order...\n",
    "        )\n",
    "    \n",
    "    route_line = LineString(list(single_shape['geometry']))\n",
    "    single_line = single_shape[['calitp_itp_id', 'shape_id', 'calitp_extracted_at']].iloc[[0]] ##preserve info cols\n",
    "    single_line['geometry'] = route_line\n",
    "    single_line = gpd.GeoDataFrame(single_line, crs='EPSG:6414')\n",
    "    \n",
    "    if shape_id in debug_ids:\n",
    "        print(f'***debug shape*** {shape_id}')\n",
    "        debug_dict[f'{shape_id}_single_line'] = single_line\n",
    "        debug_dict[f'{shape_id}_hqta'] = hqta\n",
    "\n",
    "    calculated_stops = []\n",
    "    if hqta.size != 0:\n",
    "        already_calculated = hqta.dissolve(by='calitp_itp_id') ## get single polygon of HQTA calculation complete area\n",
    "        single_line = single_line.overlay(already_calculated, how='difference') ## drop calculation complete area from current shape\n",
    "        if single_line.size == 0:\n",
    "            segments_with_max_stop = None\n",
    "            print(f'no line for shape {shape_id}')\n",
    "            return\n",
    "\n",
    "    segmented = pd.DataFrame()\n",
    "    for segment in create_segments(single_line.geometry):\n",
    "        to_append = single_line.drop(columns=['geometry'])\n",
    "        to_append['geometry'] = segment\n",
    "        segmented = segmented.append(to_append)\n",
    "        \n",
    "    segmented = segmented.reset_index()\n",
    "    segmented['segment_sequence'] = segmented.index.astype(str)\n",
    "    segmented = segmented.astype({'calitp_itp_id': str})\n",
    "    \n",
    "    ## compute (hopefully unique) hash of segment id that can be used across routes/operators\n",
    "    segmented['hqta_segment_id'] = segmented.apply(lambda x:\n",
    "                zlib.crc32((x.calitp_itp_id + x.shape_id + x.segment_sequence).encode('utf-8')), axis=1)\n",
    "    \n",
    "    segmented.geometry = segmented.buffer(50) ##generous buffer for street/sidewalk width? Required to spatially find stops within each segment\n",
    "\n",
    "    if shape_id in debug_ids:\n",
    "        debug_dict[f'{shape_id}_segmented'] = segmented\n",
    "        debug_dict[f'{shape_id}_stops'] = stops\n",
    "        debug_dict[f'{shape_id}_route_ct_by_stop'] = route_count_by_stop\n",
    "     \n",
    "    segments_with_max_stop = segmented.apply(find_stop_with_high_trip_count, axis=1,\n",
    "                                             args = (stops, stop_times, 1, calculated_stops))\n",
    "    \n",
    "    if not 'stop_id' in segments_with_max_stop.columns:\n",
    "        segments_with_top2_stops = None\n",
    "        print(f'no stops for shape {shape_id}')\n",
    "        return ## no stops within segment\n",
    "\n",
    "    max_stop_times = (stop_times \n",
    "                 >> select(_.stop_id, _.trip_id, _.departure_time)\n",
    "                 >> inner_join(_, segments_with_max_stop, on = \"stop_id\")\n",
    "                ) ## filter stop_times to the key stops in each segment\n",
    "    max_stop_times = max_stop_times.dropna(subset=['departure_time'])\n",
    "    max_stop_times = max_stop_times.drop_duplicates(subset=['trip_id','hqta_segment_id']) ## filter duplicates for top2 approach\n",
    "    \n",
    "    if shape_id in debug_ids:\n",
    "        debug_dict[f'{shape_id}_max_stop0'] = max_stop_times\n",
    "    \n",
    "    max_stop_times['departure_time'] = max_stop_times['departure_time'].apply(fix_arrival_time) ## reformat GTFS time to a format datetime can ingest\n",
    "    max_stop_times['departure_dt'] = max_stop_times['departure_time'].apply(lambda x:\n",
    "                                                                    dt.datetime.strptime(x, '%H:%M:%S'))\n",
    "    max_stop_times['departure_hour'] = max_stop_times['departure_dt'].apply(lambda x: x.hour)\n",
    "    \n",
    "    max_stop_times = max_stop_times >> filter(_.departure_hour.isin(commute_hours))\n",
    "    \n",
    "    if max_stop_times.size == 0:\n",
    "        print(f'no commute hour trips for shape {shape_id}')\n",
    "        return\n",
    "    \n",
    "    if shape_id in debug_ids:\n",
    "        debug_dict[f'{shape_id}_max_stop'] = max_stop_times\n",
    "        \n",
    "    max_stop_times['am_peak'] = max_stop_times['departure_hour'].apply(lambda x: x in am_commute_hours)\n",
    "    max_stop_times['pm_peak'] = ~max_stop_times['am_peak']\n",
    "    \n",
    "    max_stop_times.drop_duplicates(subset = ['stop_id', 'departure_dt'], inplace=True) ## drop duplicates if duplicitous service_ids sneak through\n",
    "    max_stop_times.drop(columns=['departure_dt'], inplace=True)\n",
    "    \n",
    "    segment_peak_service = max_stop_times.groupby(['hqta_segment_id'])[['am_peak', 'pm_peak']].sum() ## count total trips at stop during each peak period\n",
    "    \n",
    "    ## convert to trips per hour\n",
    "    segment_peak_service['am_peak'] = (segment_peak_service['am_peak'] / len(am_commute_hours)).round(1)\n",
    "    segment_peak_service['pm_peak'] = (segment_peak_service['pm_peak'] / len(pm_commute_hours)).round(1)\n",
    "    \n",
    "    if shape_id in debug_ids:\n",
    "        debug_dict[f'{shape_id}_segment_peak'] = segment_peak_service\n",
    "\n",
    "    ## consider segment HQTA if stop within segment has at least 4 trips/hour in both peaks\n",
    "    segment_peak_service['hq_transit_corr'] = segment_peak_service.apply(lambda x:\n",
    "                              True if x.am_peak >= 4 and x.pm_peak >= 4 else False, axis=1)\n",
    "    \n",
    "    segment_peak_service = segment_peak_service.reset_index()\n",
    "    segment_peak_service['last_seg_hqta'] = segment_peak_service['hq_transit_corr'].shift(1)\n",
    "    segment_peak_service['next_seg_hqta'] = segment_peak_service['hq_transit_corr'].shift(-1)\n",
    "    \n",
    "    ## consider segment not HQTA if both the prior and next segements are not HQTAs\n",
    "    segment_peak_service['hq_transit_corr'] = segment_peak_service.apply(\n",
    "            lambda x: False if x.hq_transit_corr == False else x.last_seg_hqta or x.next_seg_hqta, axis = 1)\n",
    "    segment_peak_service['hq_transit_corr'] = segment_peak_service['hq_transit_corr'].fillna(True)\n",
    "    \n",
    "    single_hqta = segments_with_max_stop >> inner_join(_, segment_peak_service, on = 'hqta_segment_id')\n",
    "    single_hqta.drop(columns=['calitp_extracted_at', 'next_seg_hqta', 'last_seg_hqta'], inplace=True)\n",
    "    \n",
    "    if shape_id in debug_ids:\n",
    "        debug_dict[f'{shape_id}_single_hqta'] = single_hqta\n",
    "    \n",
    "    return single_hqta"
   ]
  },
  {
   "cell_type": "code",
   "execution_count": 10,
   "id": "9483141f-c197-4fc8-80f0-4efa8d2b44c4",
   "metadata": {},
   "outputs": [],
   "source": [
    "def single_operator_hqta(views):  \n",
    "    \n",
    "    global debug_dict\n",
    "    debug_dict = {}\n",
    "    \n",
    "    shapes, trips, stop_times, stops = views\n",
    "    \n",
    "    \n",
    "    distinct_routes = (trips\n",
    "                   >> distinct(_.route_id, _.shape_id, _.direction_id, _keep_all = True)\n",
    "                   >> select(_.calitp_itp_id, _.route_id, _.shape_id, _.direction_id, _.trip_id))\n",
    "    \n",
    "    route_count_by_stop = (stop_times\n",
    "                         >> select(_.stop_id, _.trip_id)\n",
    "                         >> inner_join(_, distinct_routes, on = \"trip_id\")\n",
    "                         >> count(_.stop_id)\n",
    "                         >> rename(n_routes = _.n)\n",
    "                         >> arrange(-_.n_routes))    \n",
    "    \n",
    "    hqta = gpd.GeoDataFrame()\n",
    "    ## start with shapes including the highest number of trips\n",
    "    shapes_sorted = trips.groupby('shape_id').count().sort_values(by='trip_id', ascending=False).index\n",
    "    shapes_sorted = pd.Series(shapes_sorted)\n",
    "    total_shapes = len(shapes_sorted)\n",
    "    print(f'there are {total_shapes} shapes total')\n",
    "    for ix, shape_id in shapes_sorted.items():\n",
    "        print(f'calculating for shape_id {shape_id}')\n",
    "        if ix % 25 == 0:\n",
    "            print(f'progress: {ix}/{total_shapes} shapes ({round(((ix/total_shapes)*100), 2)}%)')\n",
    "        # try:\n",
    "        result = single_shape_hqta(shapes, trips, stop_times, stops, route_count_by_stop,\n",
    "                                shape_id, hqta)\n",
    "        hqta = hqta.append(result)\n",
    "        # except:\n",
    "        #     print(f'unable to calculate HQTA for shape_id {shape_id}')\n",
    "        try:\n",
    "            hqta = hqta.set_crs('EPSG:6414')\n",
    "        except:\n",
    "            continue\n",
    "        \n",
    "    return hqta"
   ]
  },
  {
   "cell_type": "code",
   "execution_count": 11,
   "id": "e9d94df4-21cd-46d6-a8ab-fe4d4c01d728",
   "metadata": {},
   "outputs": [],
   "source": [
    "debug_ids = ['shp-6-69']"
   ]
  },
  {
   "cell_type": "code",
   "execution_count": 12,
   "id": "4ccf77c1-c8c6-4076-8b9a-c59eb5163030",
   "metadata": {},
   "outputs": [],
   "source": [
    "# ccb_views = get_operator_views(87)"
   ]
  },
  {
   "cell_type": "code",
   "execution_count": 13,
   "id": "85ca7d2d-c9d6-445c-a89d-1aba76c19b72",
   "metadata": {
    "tags": []
   },
   "outputs": [],
   "source": [
    "# ccb_hqta = single_operator_hqta(ccb_views)"
   ]
  },
  {
   "cell_type": "markdown",
   "id": "a5ff47bb-276b-4f0c-8635-e3ceb108010c",
   "metadata": {},
   "source": [
    "### Mapping"
   ]
  },
  {
   "cell_type": "code",
   "execution_count": 29,
   "id": "979e15cf-6887-4b7a-ae5d-a6efcd02a667",
   "metadata": {},
   "outputs": [],
   "source": [
    "def map_hqta(hqta):\n",
    "    \n",
    "    x = hqta['geometry'].to_crs('EPSG:4326').iloc[0].centroid.x\n",
    "    y = hqta['geometry'].to_crs('EPSG:4326').iloc[0].centroid.y\n",
    "    \n",
    "    m = Map(basemap=basemaps.CartoDB.Positron, center=[y, x], zoom=11)\n",
    "    geo_data_hq = GeoData(geo_dataframe = hqta[hqta['hq_transit_corr']].to_crs('EPSG:4326'),\n",
    "                           style={'color': 'black', 'fillColor': '#08589e',\n",
    "                                        'opacity':0.4, 'weight':.5, 'dashArray':'2', 'fillOpacity':0.3},\n",
    "                           hover_style={'fillColor': 'red' , 'fillOpacity': 0.2},\n",
    "                           name = 'HQTA')\n",
    "\n",
    "    geo_data_not_hq = GeoData(geo_dataframe = hqta[~hqta['hq_transit_corr']].to_crs('EPSG:4326'),\n",
    "                           style={'color': 'black', 'fillColor': '#a8ddb5',\n",
    "                                        'opacity':0.4, 'weight':.5, 'dashArray':'2', 'fillOpacity':0.3},\n",
    "                           hover_style={'fillColor': 'red' , 'fillOpacity': 0.2},\n",
    "                           name = 'non-HQTA')\n",
    "\n",
    "    m.add_layer(geo_data_hq)\n",
    "    m.add_layer(geo_data_not_hq)\n",
    "    m.add_control(LayersControl())\n",
    "    \n",
    "    return m"
   ]
  },
  {
   "cell_type": "markdown",
   "id": "b37c7411-8ea1-48c2-b42a-b437cdef7eaa",
   "metadata": {},
   "source": [
    "## Multiple Operators"
   ]
  },
  {
   "cell_type": "code",
   "execution_count": 15,
   "id": "5464abd7-4923-4798-b125-dea377fe7188",
   "metadata": {},
   "outputs": [],
   "source": [
    "itp_ids = tbl.gtfs_schedule.agency() >> distinct(_.calitp_itp_id) >> collect()\n",
    "itp_ids = itp_ids.calitp_itp_id"
   ]
  },
  {
   "cell_type": "code",
   "execution_count": 16,
   "id": "df2e6dcb-256c-4a9b-b90e-90b43fe38346",
   "metadata": {},
   "outputs": [],
   "source": [
    "def multiple_operator_hqta(existing=pd.DataFrame()):\n",
    "    \n",
    "    hqta = pd.DataFrame()    \n",
    "    for _, itp_id in itp_ids.items():\n",
    "        if not existing.empty:\n",
    "            if str(itp_id) in existing['calitp_itp_id'].to_list():\n",
    "                print(f'{itp_id} existing')\n",
    "                # break\n",
    "                continue\n",
    "        if int(itp_id) == 200:\n",
    "            continue ## skip MTC feed to use individual operator feeds\n",
    "        try:\n",
    "            print(f'attempting for operator {itp_id}')\n",
    "            hqta = hqta.append(single_operator_hqta(get_operator_views(itp_id)))\n",
    "        except:\n",
    "            print(f'failed for operator {itp_id}')\n",
    "        \n",
    "    return hqta"
   ]
  },
  {
   "cell_type": "code",
   "execution_count": 17,
   "id": "7a65fd4f-e6fb-4c75-aba8-06ac291a3da5",
   "metadata": {
    "tags": []
   },
   "outputs": [],
   "source": [
    "# all_operators = multiple_operator_hqta()\n",
    "# all_operators.to_parquet('./all_operators.parquet')"
   ]
  },
  {
   "cell_type": "code",
   "execution_count": 18,
   "id": "7968cab1-fb27-43b7-ad4c-4b84e03cee81",
   "metadata": {},
   "outputs": [],
   "source": [
    "all_operators = gpd.read_parquet('./all_operators.parquet')"
   ]
  },
  {
   "cell_type": "code",
   "execution_count": 20,
   "id": "a88fd23f-67a2-4565-b1eb-b3044f622a1d",
   "metadata": {},
   "outputs": [],
   "source": [
    "itp_ids = itp_ids.astype(str)"
   ]
  },
  {
   "cell_type": "code",
   "execution_count": 21,
   "id": "9d147c21-f8b0-4d89-a982-36131f9f859b",
   "metadata": {},
   "outputs": [],
   "source": [
    "df = tbl.gtfs_schedule.agency() >> collect() >> distinct(_.calitp_itp_id, _keep_all = True)"
   ]
  },
  {
   "cell_type": "code",
   "execution_count": 22,
   "id": "75fad583-67e7-4961-8c7a-b7891499ae57",
   "metadata": {
    "tags": []
   },
   "outputs": [],
   "source": [
    "not_ran = df[~df['calitp_itp_id'].isin(all_operators['calitp_itp_id'].astype('int64'))]"
   ]
  },
  {
   "cell_type": "code",
   "execution_count": 147,
   "id": "e85b5494-e8fc-46e1-acc0-a0d68977afff",
   "metadata": {
    "tags": []
   },
   "outputs": [],
   "source": [
    "# with pd.option_context('display.max_rows', 100):\n",
    "#     display(not_ran)"
   ]
  },
  {
   "cell_type": "markdown",
   "id": "660a4cca-0462-4cef-8812-c46f6a5eea2a",
   "metadata": {},
   "source": [
    "## Spatially Aggregate non-HQTAs"
   ]
  },
  {
   "cell_type": "code",
   "execution_count": 148,
   "id": "d25d3e00-2c6a-481c-a930-da481c4dd7a6",
   "metadata": {},
   "outputs": [],
   "source": [
    "non_hqta = all_operators >> filter(-_.hq_transit_corr)"
   ]
  },
  {
   "cell_type": "code",
   "execution_count": 112,
   "id": "6e0103fc-32f2-44eb-9296-678a0db83df3",
   "metadata": {},
   "outputs": [],
   "source": [
    "non_hqta_overlaid = non_hqta.overlay(nope, how='intersection')"
   ]
  },
  {
   "cell_type": "code",
   "execution_count": 113,
   "id": "4614b25d-da01-4fec-9a61-a1bcfe9a66f4",
   "metadata": {},
   "outputs": [],
   "source": [
    "non_hqta_deduplicated = non_hqta_overlaid[nope_overlaid['hqta_segment_id_1'] != non_hqta_overlaid['hqta_segment_id_2']]"
   ]
  },
  {
   "cell_type": "code",
   "execution_count": 140,
   "id": "c97def9a-ab4b-4fe8-b485-8e27b27122bc",
   "metadata": {},
   "outputs": [],
   "source": [
    "def combine_segment_ids(row):\n",
    "    both_segments = [row.hqta_segment_id_1, row.hqta_segment_id_2]\n",
    "    both_segments.sort()\n",
    "    return str(both_segments)"
   ]
  },
  {
   "cell_type": "code",
   "execution_count": 141,
   "id": "576185c3-9597-4f5a-b99a-230f52b36d92",
   "metadata": {},
   "outputs": [
    {
     "name": "stderr",
     "output_type": "stream",
     "text": [
      "/home/edasmalchi/miniconda3/lib/python3.9/site-packages/geopandas/geodataframe.py:1351: SettingWithCopyWarning: \n",
      "A value is trying to be set on a copy of a slice from a DataFrame.\n",
      "Try using .loc[row_indexer,col_indexer] = value instead\n",
      "\n",
      "See the caveats in the documentation: https://pandas.pydata.org/pandas-docs/stable/user_guide/indexing.html#returning-a-view-versus-a-copy\n",
      "  super().__setitem__(key, value)\n"
     ]
    }
   ],
   "source": [
    "non_hqta_deduplicated['overlap_id'] = non_hqta_deduplicated.apply(combine_segment_ids, axis=1)"
   ]
  },
  {
   "cell_type": "code",
   "execution_count": 142,
   "id": "65257404-f9d6-4358-a3ea-779e5b71d35c",
   "metadata": {},
   "outputs": [],
   "source": [
    "more_deduplicated = non_hqta_deduplicated.drop_duplicates(subset=['overlap_id'])"
   ]
  },
  {
   "cell_type": "code",
   "execution_count": 146,
   "id": "d9c18428-eb34-4d7d-8b7c-889ed376904d",
   "metadata": {},
   "outputs": [
    {
     "name": "stderr",
     "output_type": "stream",
     "text": [
      "/tmp/ipykernel_14862/3646704021.py:1: UserWarning: this is an initial implementation of Parquet/Feather file support and associated metadata.  This is tracking version 0.1.0 of the metadata specification at https://github.com/geopandas/geo-arrow-spec\n",
      "\n",
      "This metadata specification does not yet make stability promises.  We do not yet recommend using this in a production setting unless you are able to rewrite your Parquet/Feather files.\n",
      "\n",
      "To further ignore this warning, you can do: \n",
      "import warnings; warnings.filterwarnings('ignore', message='.*initial implementation of Parquet.*')\n",
      "  more_deduplicated.to_parquet('./data/bus/overlaps.parquet')\n"
     ]
    }
   ],
   "source": [
    "more_deduplicated.to_parquet('./data/bus/overlaps.parquet')"
   ]
  },
  {
   "cell_type": "code",
   "execution_count": 150,
   "id": "3bbc038a-cb4e-423d-bdc1-62e588f277c8",
   "metadata": {},
   "outputs": [
    {
     "data": {
      "text/plain": [
       "Index(['calitp_itp_id_1', 'hqta_segment_id_1', 'index_1', 'n_trips_1',\n",
       "       'segment_sequence_1', 'shape_id_1', 'stop_id_1', 'am_peak_1',\n",
       "       'pm_peak_1', 'hq_transit_corr_1', 'calitp_itp_id_2',\n",
       "       'hqta_segment_id_2', 'index_2', 'n_trips_2', 'segment_sequence_2',\n",
       "       'shape_id_2', 'stop_id_2', 'am_peak_2', 'pm_peak_2',\n",
       "       'hq_transit_corr_2', 'geometry', 'overlap_id'],\n",
       "      dtype='object')"
      ]
     },
     "execution_count": 150,
     "metadata": {},
     "output_type": "execute_result"
    }
   ],
   "source": [
    "more_deduplicated.columns"
   ]
  },
  {
   "cell_type": "code",
   "execution_count": 160,
   "id": "e8eaf424-a9cb-485c-bc04-26930b12cdd3",
   "metadata": {},
   "outputs": [],
   "source": [
    "def sum_overlaps(row):\n",
    "    row['am_peak'] = row.am_peak_1 + row.am_peak_2\n",
    "    row['pm_peak'] = row.pm_peak_1 + row.pm_peak_2\n",
    "    if row.am_peak >= 4 and row.pm_peak >= 4:\n",
    "        row['hq_transit_corr'] = True\n",
    "    else:\n",
    "        row['hq_transit_corr'] = False\n",
    "    return row\n",
    "    "
   ]
  },
  {
   "cell_type": "code",
   "execution_count": 161,
   "id": "bf4f3b87-f12b-4616-b2f6-02b29e3d8a3b",
   "metadata": {},
   "outputs": [],
   "source": [
    "overlaps_summed = more_deduplicated.apply(sum_overlaps, axis = 1) "
   ]
  },
  {
   "cell_type": "code",
   "execution_count": 177,
   "id": "0d53cdbb-f226-42b0-b544-2547136be610",
   "metadata": {},
   "outputs": [],
   "source": [
    "new_hq = overlaps_summed[overlaps_summed['hq_transit_corr']]"
   ]
  },
  {
   "cell_type": "code",
   "execution_count": 178,
   "id": "c5fe966e-e190-4c97-9b57-411d8206f83c",
   "metadata": {},
   "outputs": [],
   "source": [
    "new_hq = new_hq[new_hq['am_peak'] != new_hq['am_peak_1']*2] ## drop likely duplicates; can rework above to do this better"
   ]
  },
  {
   "cell_type": "code",
   "execution_count": 179,
   "id": "cfa13e39-a095-492b-99b5-84d65f712f66",
   "metadata": {},
   "outputs": [],
   "source": [
    "new_hq = new_hq.drop(columns=['calitp_itp_id_2',\n",
    "               'hqta_segment_id_2', 'index_2', 'n_trips_2', 'segment_sequence_2',\n",
    "               'shape_id_2', 'stop_id_2', 'am_peak_2', 'pm_peak_2',\n",
    "               'hq_transit_corr_2', 'index_1', 'index_2', 'n_trips_2'])"
   ]
  },
  {
   "cell_type": "code",
   "execution_count": 180,
   "id": "709cf038-fa6d-48ac-8583-fd57069e4984",
   "metadata": {},
   "outputs": [],
   "source": [
    "new_hq = new_hq.rename(columns = {'calitp_itp_id_1':'calitp_itp_id', 'hqta_segment_id_1':'hqta_segment_id', 'n_trips_1':'n_trips',\n",
    "       'segment_sequence_1':'segment_sequence', 'shape_id_1':'shape_id', 'stop_id_1':'stop_id'})"
   ]
  },
  {
   "cell_type": "code",
   "execution_count": 183,
   "id": "dfd9cf46-317a-472f-a6ac-3bb31f787a3b",
   "metadata": {},
   "outputs": [
    {
     "data": {
      "text/html": [
       "<div>\n",
       "<style scoped>\n",
       "    .dataframe tbody tr th:only-of-type {\n",
       "        vertical-align: middle;\n",
       "    }\n",
       "\n",
       "    .dataframe tbody tr th {\n",
       "        vertical-align: top;\n",
       "    }\n",
       "\n",
       "    .dataframe thead th {\n",
       "        text-align: right;\n",
       "    }\n",
       "</style>\n",
       "<table border=\"1\" class=\"dataframe\">\n",
       "  <thead>\n",
       "    <tr style=\"text-align: right;\">\n",
       "      <th></th>\n",
       "      <th>calitp_itp_id</th>\n",
       "      <th>hqta_segment_id</th>\n",
       "      <th>n_trips</th>\n",
       "      <th>segment_sequence</th>\n",
       "      <th>shape_id</th>\n",
       "      <th>stop_id</th>\n",
       "      <th>am_peak_1</th>\n",
       "      <th>pm_peak_1</th>\n",
       "      <th>hq_transit_corr_1</th>\n",
       "      <th>geometry</th>\n",
       "      <th>overlap_id</th>\n",
       "      <th>am_peak</th>\n",
       "      <th>pm_peak</th>\n",
       "      <th>hq_transit_corr</th>\n",
       "    </tr>\n",
       "  </thead>\n",
       "  <tbody>\n",
       "    <tr>\n",
       "      <th>1</th>\n",
       "      <td>208</td>\n",
       "      <td>3351394963</td>\n",
       "      <td>65.0</td>\n",
       "      <td>1</td>\n",
       "      <td>26030</td>\n",
       "      <td>1229</td>\n",
       "      <td>3.0</td>\n",
       "      <td>4.0</td>\n",
       "      <td>False</td>\n",
       "      <td>POLYGON ((-159725.727 -150026.596, -159726.574...</td>\n",
       "      <td>[2965703173, 3351394963]</td>\n",
       "      <td>11.7</td>\n",
       "      <td>15.0</td>\n",
       "      <td>True</td>\n",
       "    </tr>\n",
       "    <tr>\n",
       "      <th>2</th>\n",
       "      <td>208</td>\n",
       "      <td>2931031901</td>\n",
       "      <td>50.0</td>\n",
       "      <td>4</td>\n",
       "      <td>26031</td>\n",
       "      <td>7149</td>\n",
       "      <td>2.3</td>\n",
       "      <td>3.0</td>\n",
       "      <td>False</td>\n",
       "      <td>POLYGON ((-160856.345 -149985.186, -160851.517...</td>\n",
       "      <td>[2931031901, 2965703173]</td>\n",
       "      <td>11.0</td>\n",
       "      <td>14.0</td>\n",
       "      <td>True</td>\n",
       "    </tr>\n",
       "    <tr>\n",
       "      <th>3</th>\n",
       "      <td>208</td>\n",
       "      <td>3652505547</td>\n",
       "      <td>50.0</td>\n",
       "      <td>5</td>\n",
       "      <td>26031</td>\n",
       "      <td>7161</td>\n",
       "      <td>2.3</td>\n",
       "      <td>3.0</td>\n",
       "      <td>False</td>\n",
       "      <td>POLYGON ((-160766.508 -149944.807, -160769.587...</td>\n",
       "      <td>[2965703173, 3652505547]</td>\n",
       "      <td>11.0</td>\n",
       "      <td>14.0</td>\n",
       "      <td>True</td>\n",
       "    </tr>\n",
       "    <tr>\n",
       "      <th>4</th>\n",
       "      <td>8</td>\n",
       "      <td>4271160002</td>\n",
       "      <td>16.0</td>\n",
       "      <td>24</td>\n",
       "      <td>18079</td>\n",
       "      <td>1729</td>\n",
       "      <td>1.0</td>\n",
       "      <td>1.0</td>\n",
       "      <td>False</td>\n",
       "      <td>POLYGON ((-160857.304 -150003.011, -160854.490...</td>\n",
       "      <td>[2965703173, 4271160002]</td>\n",
       "      <td>9.7</td>\n",
       "      <td>12.0</td>\n",
       "      <td>True</td>\n",
       "    </tr>\n",
       "    <tr>\n",
       "      <th>5</th>\n",
       "      <td>8</td>\n",
       "      <td>250359478</td>\n",
       "      <td>54.0</td>\n",
       "      <td>32</td>\n",
       "      <td>18079</td>\n",
       "      <td>1133</td>\n",
       "      <td>2.3</td>\n",
       "      <td>4.0</td>\n",
       "      <td>False</td>\n",
       "      <td>POLYGON ((-160759.492 -149997.369, -160759.592...</td>\n",
       "      <td>[250359478, 2965703173]</td>\n",
       "      <td>11.0</td>\n",
       "      <td>15.0</td>\n",
       "      <td>True</td>\n",
       "    </tr>\n",
       "    <tr>\n",
       "      <th>...</th>\n",
       "      <td>...</td>\n",
       "      <td>...</td>\n",
       "      <td>...</td>\n",
       "      <td>...</td>\n",
       "      <td>...</td>\n",
       "      <td>...</td>\n",
       "      <td>...</td>\n",
       "      <td>...</td>\n",
       "      <td>...</td>\n",
       "      <td>...</td>\n",
       "      <td>...</td>\n",
       "      <td>...</td>\n",
       "      <td>...</td>\n",
       "      <td>...</td>\n",
       "    </tr>\n",
       "    <tr>\n",
       "      <th>95973</th>\n",
       "      <td>284</td>\n",
       "      <td>3537423815</td>\n",
       "      <td>19.0</td>\n",
       "      <td>10</td>\n",
       "      <td>32042</td>\n",
       "      <td>3024</td>\n",
       "      <td>1.0</td>\n",
       "      <td>1.7</td>\n",
       "      <td>False</td>\n",
       "      <td>POLYGON ((-113014.372 -6198.705, -113014.627 -...</td>\n",
       "      <td>[2537623147, 3537423815]</td>\n",
       "      <td>4.0</td>\n",
       "      <td>4.7</td>\n",
       "      <td>True</td>\n",
       "    </tr>\n",
       "    <tr>\n",
       "      <th>95974</th>\n",
       "      <td>284</td>\n",
       "      <td>352391758</td>\n",
       "      <td>17.0</td>\n",
       "      <td>56</td>\n",
       "      <td>32082</td>\n",
       "      <td>3112</td>\n",
       "      <td>1.0</td>\n",
       "      <td>1.0</td>\n",
       "      <td>False</td>\n",
       "      <td>POLYGON ((-113322.384 -6593.601, -113322.500 -...</td>\n",
       "      <td>[352391758, 2537623147]</td>\n",
       "      <td>4.0</td>\n",
       "      <td>4.0</td>\n",
       "      <td>True</td>\n",
       "    </tr>\n",
       "    <tr>\n",
       "      <th>95977</th>\n",
       "      <td>284</td>\n",
       "      <td>2070789595</td>\n",
       "      <td>14.0</td>\n",
       "      <td>3</td>\n",
       "      <td>32045</td>\n",
       "      <td>3139</td>\n",
       "      <td>1.0</td>\n",
       "      <td>1.0</td>\n",
       "      <td>False</td>\n",
       "      <td>POLYGON ((-113857.104 -6692.799, -113854.518 -...</td>\n",
       "      <td>[239624145, 2070789595]</td>\n",
       "      <td>6.0</td>\n",
       "      <td>6.0</td>\n",
       "      <td>True</td>\n",
       "    </tr>\n",
       "    <tr>\n",
       "      <th>96088</th>\n",
       "      <td>284</td>\n",
       "      <td>1216220483</td>\n",
       "      <td>33.0</td>\n",
       "      <td>4</td>\n",
       "      <td>32059</td>\n",
       "      <td>3070</td>\n",
       "      <td>3.0</td>\n",
       "      <td>2.7</td>\n",
       "      <td>False</td>\n",
       "      <td>POLYGON ((-113417.954 -10328.530, -113418.412 ...</td>\n",
       "      <td>[1216220483, 3592067296]</td>\n",
       "      <td>4.3</td>\n",
       "      <td>4.4</td>\n",
       "      <td>True</td>\n",
       "    </tr>\n",
       "    <tr>\n",
       "      <th>96101</th>\n",
       "      <td>284</td>\n",
       "      <td>2285839471</td>\n",
       "      <td>21.0</td>\n",
       "      <td>12</td>\n",
       "      <td>32059</td>\n",
       "      <td>3877</td>\n",
       "      <td>2.0</td>\n",
       "      <td>1.7</td>\n",
       "      <td>False</td>\n",
       "      <td>POLYGON ((-113790.819 -11432.130, -113788.699 ...</td>\n",
       "      <td>[453411185, 2285839471]</td>\n",
       "      <td>5.0</td>\n",
       "      <td>4.4</td>\n",
       "      <td>True</td>\n",
       "    </tr>\n",
       "  </tbody>\n",
       "</table>\n",
       "<p>8615 rows × 14 columns</p>\n",
       "</div>"
      ],
      "text/plain": [
       "      calitp_itp_id  hqta_segment_id  n_trips segment_sequence shape_id  \\\n",
       "1               208       3351394963     65.0                1    26030   \n",
       "2               208       2931031901     50.0                4    26031   \n",
       "3               208       3652505547     50.0                5    26031   \n",
       "4                 8       4271160002     16.0               24    18079   \n",
       "5                 8        250359478     54.0               32    18079   \n",
       "...             ...              ...      ...              ...      ...   \n",
       "95973           284       3537423815     19.0               10    32042   \n",
       "95974           284        352391758     17.0               56    32082   \n",
       "95977           284       2070789595     14.0                3    32045   \n",
       "96088           284       1216220483     33.0                4    32059   \n",
       "96101           284       2285839471     21.0               12    32059   \n",
       "\n",
       "      stop_id  am_peak_1  pm_peak_1  hq_transit_corr_1  \\\n",
       "1        1229        3.0        4.0              False   \n",
       "2        7149        2.3        3.0              False   \n",
       "3        7161        2.3        3.0              False   \n",
       "4        1729        1.0        1.0              False   \n",
       "5        1133        2.3        4.0              False   \n",
       "...       ...        ...        ...                ...   \n",
       "95973    3024        1.0        1.7              False   \n",
       "95974    3112        1.0        1.0              False   \n",
       "95977    3139        1.0        1.0              False   \n",
       "96088    3070        3.0        2.7              False   \n",
       "96101    3877        2.0        1.7              False   \n",
       "\n",
       "                                                geometry  \\\n",
       "1      POLYGON ((-159725.727 -150026.596, -159726.574...   \n",
       "2      POLYGON ((-160856.345 -149985.186, -160851.517...   \n",
       "3      POLYGON ((-160766.508 -149944.807, -160769.587...   \n",
       "4      POLYGON ((-160857.304 -150003.011, -160854.490...   \n",
       "5      POLYGON ((-160759.492 -149997.369, -160759.592...   \n",
       "...                                                  ...   \n",
       "95973  POLYGON ((-113014.372 -6198.705, -113014.627 -...   \n",
       "95974  POLYGON ((-113322.384 -6593.601, -113322.500 -...   \n",
       "95977  POLYGON ((-113857.104 -6692.799, -113854.518 -...   \n",
       "96088  POLYGON ((-113417.954 -10328.530, -113418.412 ...   \n",
       "96101  POLYGON ((-113790.819 -11432.130, -113788.699 ...   \n",
       "\n",
       "                     overlap_id  am_peak  pm_peak  hq_transit_corr  \n",
       "1      [2965703173, 3351394963]     11.7     15.0             True  \n",
       "2      [2931031901, 2965703173]     11.0     14.0             True  \n",
       "3      [2965703173, 3652505547]     11.0     14.0             True  \n",
       "4      [2965703173, 4271160002]      9.7     12.0             True  \n",
       "5       [250359478, 2965703173]     11.0     15.0             True  \n",
       "...                         ...      ...      ...              ...  \n",
       "95973  [2537623147, 3537423815]      4.0      4.7             True  \n",
       "95974   [352391758, 2537623147]      4.0      4.0             True  \n",
       "95977   [239624145, 2070789595]      6.0      6.0             True  \n",
       "96088  [1216220483, 3592067296]      4.3      4.4             True  \n",
       "96101   [453411185, 2285839471]      5.0      4.4             True  \n",
       "\n",
       "[8615 rows x 14 columns]"
      ]
     },
     "execution_count": 183,
     "metadata": {},
     "output_type": "execute_result"
    }
   ],
   "source": [
    "new_hq"
   ]
  },
  {
   "cell_type": "markdown",
   "id": "515329bc-4d17-43ee-a76f-e7a097dfe970",
   "metadata": {},
   "source": [
    "* drop n_trips from final"
   ]
  },
  {
   "cell_type": "markdown",
   "id": "1ce92081-2e3e-4cf6-a679-cdd8f216a3e2",
   "metadata": {
    "tags": []
   },
   "source": [
    "### Bay Area Map Image\n",
    "\n",
    "![map](img/bay.png)"
   ]
  },
  {
   "cell_type": "markdown",
   "id": "8a8a7aa9-049a-4c06-9e0a-1f646e9a2cc6",
   "metadata": {
    "tags": []
   },
   "source": [
    "### Los Angeles Map Image\n",
    "\n",
    "![map](img/la.png)"
   ]
  },
  {
   "cell_type": "markdown",
   "id": "77f44db1-ec48-4333-b972-64e5671088b5",
   "metadata": {},
   "source": [
    "## Result\n",
    "\n",
    "* Tested on several operators, provides an approximation of high-quality transit corridors but still incomplete\n",
    "    * Segments not containing stops will not appear as HQTA-- may need to interpolate (e.g., freeway segments)\n",
    "    * Various questionable short segments\n",
    "    * HQTA classification questionable for some routes, will investigate\n",
    "* Working on improving/documenting code, and towards a statewide proof of concept\n",
    "* Algorithm is overestimating for SFMTA"
   ]
  },
  {
   "cell_type": "markdown",
   "id": "4cb833b1-b591-47d9-9e26-7d9ab6d9bd7c",
   "metadata": {},
   "source": [
    "## Sandbox"
   ]
  },
  {
   "cell_type": "markdown",
   "id": "c1da3078-e396-41b1-b5f7-1167a7e15b31",
   "metadata": {},
   "source": [
    "shapes, trips, stop_times, stops"
   ]
  },
  {
   "cell_type": "code",
   "execution_count": 30,
   "id": "7bbb8cf6-19ad-4f2f-8b0c-5709719fa925",
   "metadata": {},
   "outputs": [],
   "source": [
    "def simple_map(gdf, mouseover=None):\n",
    "    if 'calitp_extracted_at' in gdf.columns:\n",
    "        gdf = gdf.drop(columns='calitp_extracted_at')\n",
    "        gdf.geometry = gdf.geometry.buffer(50)\n",
    "    \n",
    "    x = gdf.to_crs('EPSG:4326').geometry.iloc[0].centroid.x\n",
    "    y = gdf.to_crs('EPSG:4326').geometry.iloc[0].centroid.y\n",
    "    \n",
    "    m = Map(basemap=basemaps.CartoDB.Positron, center=[y, x], zoom=11)\n",
    "\n",
    "    if mouseover:\n",
    "        html = HTML(f'hover to see {mouseover}')\n",
    "        html.layout.margin = '0px 20px 20px 20px'\n",
    "        control = WidgetControl(widget=html, position='topright')\n",
    "        m.add_control(control)\n",
    "\n",
    "        def update_html(feature,  **kwargs):\n",
    "            html.value = '''\n",
    "                <h3><b>{}</b></h3>\n",
    "            '''.format(feature['properties'][mouseover])\n",
    "    if 'hq_transit_corr' in gdf.columns:\n",
    "        geo_data_hq = GeoData(geo_dataframe = gdf[gdf['hq_transit_corr']].to_crs('EPSG:4326'),\n",
    "                               style={'color': 'black', 'fillColor': '#08589e',\n",
    "                                            'opacity':0.4, 'weight':.5, 'dashArray':'2', 'fillOpacity':0.3},\n",
    "                               hover_style={'fillColor': 'red' , 'fillOpacity': 0.2},\n",
    "                               name = 'HQTA')\n",
    "\n",
    "        geo_data_not_hq = GeoData(geo_dataframe = gdf[~gdf['hq_transit_corr']].to_crs('EPSG:4326'),\n",
    "                               style={'color': 'black', 'fillColor': '#a8ddb5',\n",
    "                                            'opacity':0.4, 'weight':.5, 'dashArray':'2', 'fillOpacity':0.3},\n",
    "                               hover_style={'fillColor': 'red' , 'fillOpacity': 0.2},\n",
    "                               name = 'non-HQTA')\n",
    "\n",
    "        m.add_layer(geo_data_hq)\n",
    "        m.add_layer(geo_data_not_hq)\n",
    "    \n",
    "    else:\n",
    "    \n",
    "        geo_data_hq = GeoData(geo_dataframe = gdf.to_crs('EPSG:4326'),\n",
    "                               style={'color': 'black', 'fillColor': '#08589e',\n",
    "                                            'opacity':0.4, 'weight':.5, 'dashArray':'2', 'fillOpacity':0.3},\n",
    "                               hover_style={'fillColor': 'red' , 'fillOpacity': 0.2},\n",
    "                               name = 'gdf')\n",
    "        m.add_layer(geo_data_hq)\n",
    "    \n",
    "    if mouseover:\n",
    "        geo_data_hq.on_hover(update_html)\n",
    "\n",
    "    m.add_control(LayersControl())\n",
    "\n",
    "    return m"
   ]
  },
  {
   "cell_type": "markdown",
   "id": "5b1a455a-03a0-44eb-9862-d0e780dc3c01",
   "metadata": {},
   "source": [
    "### Data Issues\n",
    "\n",
    "* 61 County Connection has a lot of na departure times?\n",
    "    * strange results after dropna\n",
    "* 48 B-Line similarly choppy\n",
    "* 116 Fresno Area Express has whitespace in departure times\n",
    "    * ValueError: time data ' 7:04:00' does not match format '%H:%M:%S'\n",
    "\n"
   ]
  }
 ],
 "metadata": {
  "kernelspec": {
   "display_name": "Python 3 (ipykernel)",
   "language": "python",
   "name": "python3"
  },
  "language_info": {
   "codemirror_mode": {
    "name": "ipython",
    "version": 3
   },
   "file_extension": ".py",
   "mimetype": "text/x-python",
   "name": "python",
   "nbconvert_exporter": "python",
   "pygments_lexer": "ipython3",
   "version": "3.9.7"
  }
 },
 "nbformat": 4,
 "nbformat_minor": 5
}
