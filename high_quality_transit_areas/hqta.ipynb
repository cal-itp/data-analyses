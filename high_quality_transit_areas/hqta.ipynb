{
 "cells": [
  {
   "cell_type": "code",
   "execution_count": 1,
   "id": "e37ce21c-ae28-4359-89b8-f628f852c489",
   "metadata": {},
   "outputs": [
    {
     "name": "stderr",
     "output_type": "stream",
     "text": [
      "/Users/edasmalchi/anaconda3/envs/pd1/lib/python3.9/site-packages/google/auth/_default.py:68: UserWarning: Your application has authenticated using end user credentials from Google Cloud SDK without a quota project. You might receive a \"quota exceeded\" or \"API not enabled\" error. We recommend you rerun `gcloud auth application-default login` and make sure a quota project is added. Or you can use service accounts instead. For more information about service accounts, see https://cloud.google.com/docs/authentication/\n",
      "  warnings.warn(_CLOUD_SDK_CREDENTIALS_WARNING)\n"
     ]
    }
   ],
   "source": [
    "import calitp\n",
    "from calitp.tables import tbl\n",
    "from siuba import *\n",
    "\n",
    "import pandas as pd\n",
    "import numpy as np\n",
    "import geopandas as gpd\n",
    "\n",
    "from ipyleaflet import Map, GeoJSON, projections, basemaps, GeoData, LayersControl, WidgetControl, GeoJSON\n",
    "from ipywidgets import Text, HTML\n",
    "\n",
    "import shapely\n",
    "from shapely.geometry import LineString, MultiPoint\n",
    "from shapely.ops import split, substring\n",
    "\n",
    "import zlib\n",
    "import datetime as dt"
   ]
  },
  {
   "cell_type": "markdown",
   "id": "b0c50342-09f6-4d18-96fb-d950a304d0e1",
   "metadata": {},
   "source": [
    "### High Quality Transit Areas Relevant Statutes\n",
    "\n",
    "[PRC 21155](https://leginfo.legislature.ca.gov/faces/codes_displaySection.xhtml?sectionNum=21155.&lawCode=PRC)\n",
    "* Major transit stop definition: _A major transit stop is as defined in Section 21064.3, except that, for purposes of this section, it also includes major transit stops that are included in the applicable regional transportation plan_\n",
    "* High-quality transit corridor definition: _For purposes of this section, a high-quality transit corridor means a corridor with fixed route bus service with service intervals no longer than 15 minutes during peak commute hours._\n",
    "    * Unable to locate definition of \"peak commute hours\"\n",
    "\n",
    "[PRC 21064.3](https://leginfo.legislature.ca.gov/faces/codes_displaySection.xhtml?sectionNum=21064.3.&lawCode=PRC)\n",
    "* _Major transit stop means a site containing any of the following:\n",
    "(a) An existing rail or bus rapid transit station.\n",
    "(b) A ferry terminal served by either a bus or rail transit service.\n",
    "(c) The intersection of two or more major bus routes with a frequency of service interval of 15 minutes or less during the morning and afternoon peak commute periods._\n",
    "    * \"Intersection\" may not be sufficiently well-defined for this analysis\n",
    "\n",
    "[PRC 21060.2](https://leginfo.legislature.ca.gov/faces/codes_displaySection.xhtml?lawCode=PRC&sectionNum=21060.2.&highlight=true&keyword=bus%20rapid%20transit)\n",
    "* _(a) “Bus rapid transit” means a public mass transit service provided by a public agency or by a public-private partnership that includes all of the following features:\n",
    "(1) Full-time dedicated bus lanes or operation in a separate right-of-way dedicated for public transportation with a frequency of service interval of 15 minutes or less during the morning and afternoon peak commute periods.\n",
    "(2) Transit signal priority.\n",
    "(3) All-door boarding.\n",
    "(4) Fare collection system that promotes efficiency.\n",
    "(5) Defined stations._\n",
    "    * Unlikely to determine if a service qualifies as BRT under this definition using GTFS alone"
   ]
  },
  {
   "cell_type": "code",
   "execution_count": 2,
   "id": "25b4b77d-3d2e-4ecc-a6db-fa27aecf71db",
   "metadata": {},
   "outputs": [],
   "source": [
    "##definition of \"peak\" pending\n",
    "am_peak = (6, 9)\n",
    "pm_peak = (3, 7)"
   ]
  },
  {
   "cell_type": "code",
   "execution_count": 3,
   "id": "ed58ef3a-f454-4f00-9202-bae1dc82f92d",
   "metadata": {},
   "outputs": [],
   "source": [
    "am_commute_hours = list(am_peak)\n",
    "pm_commute_hours = list(pm_peak)\n",
    "commute_hours = am_commute_hours + pm_commute_hours"
   ]
  },
  {
   "cell_type": "code",
   "execution_count": 4,
   "id": "7d8165e1-492a-4013-bb1f-de1b252fa5d1",
   "metadata": {},
   "outputs": [],
   "source": [
    "def split_every_km(geometry):\n",
    "    '''Splits a Shapely LineString into 1000 (meter) LineStrings. If a MultiLineString passed,\n",
    "    splits each LineString in that collection. \n",
    "    '''\n",
    "    lines = []\n",
    "    \n",
    "    geometry = geometry.iloc[0]\n",
    "    if hasattr(geometry, 'geoms'): ##check if MultiLineString\n",
    "        linestrings = geometry.geoms\n",
    "    else:\n",
    "        linestrings = [geometry]\n",
    "    for linestring in linestrings:\n",
    "        for i in range(0, int(linestring.length), 1000):\n",
    "            lines.append(substring(linestring, i, i+1000))\n",
    "    return lines"
   ]
  },
  {
   "cell_type": "code",
   "execution_count": 5,
   "id": "7b0552f1-5ad4-4f50-a63e-76116b788f26",
   "metadata": {},
   "outputs": [],
   "source": [
    "def find_stop_with_most_routes(segment, stops, route_count_by_stop):\n",
    "    '''Given a shape segment, finds the stop serving the most routes within that segment.\n",
    "    Adds that stop's stop_id to segment data (a row).\n",
    "    '''\n",
    "    stops_in_seg = gpd.clip(stops, segment.geometry) \n",
    "    max_routes_stop = (stops_in_seg\n",
    "                   >> inner_join(_, route_count_by_stop, on = \"stop_id\")\n",
    "                   >> filter(_.n_routes == _.n_routes.max())\n",
    "                  ).iloc[[0]]\n",
    "    segment['stop_id'] = max_routes_stop['stop_id'].iloc[0]\n",
    "    segment['n_routes'] = max_routes_stop['n_routes'].iloc[0]\n",
    "    return segment"
   ]
  },
  {
   "cell_type": "code",
   "execution_count": 7,
   "id": "65c74fbd-059f-4df8-a3a1-e6c1361489b7",
   "metadata": {},
   "outputs": [],
   "source": [
    "def get_operator_views(itp_id):\n",
    "    '''Returns relevant views from the data warehouse for a single transit operator.\n",
    "    '''\n",
    "    shapes = tbl.gtfs_schedule.shapes() >> filter(_.calitp_itp_id == int(itp_id)) >> collect()\n",
    "    shapes = gpd.GeoDataFrame(shapes, \n",
    "                              geometry = gpd.points_from_xy(shapes.shape_pt_lon, shapes.shape_pt_lat),\n",
    "                              crs = 'EPSG:4326').to_crs('EPSG:6414') ## https://epsg.io/6414 (meters)\n",
    "    trips = tbl.gtfs_schedule.trips() >> filter(_.calitp_itp_id == int(itp_id)) >> collect()\n",
    "    stop_times = tbl.gtfs_schedule.stop_times() >> filter(_.calitp_itp_id == int(itp_id)) >> collect()\n",
    "    stops = (tbl.gtfs_schedule.stops() \n",
    "             >> filter(_.calitp_itp_id == itp_id)\n",
    "             >> select(_.stop_id, _.stop_lat, _.stop_lon)\n",
    "             >> collect())\n",
    "    stops = gpd.GeoDataFrame(stops,\n",
    "                     geometry = gpd.points_from_xy(stops.stop_lon, stops.stop_lat),\n",
    "                     crs = 'EPSG:4326').to_crs('EPSG:6414') ## https://epsg.io/6414 (meters)\n",
    "\n",
    "    return shapes, trips, stop_times, stops"
   ]
  },
  {
   "cell_type": "code",
   "execution_count": 8,
   "id": "1049eee5-d4d9-43a1-9a84-c3bd3687f6d3",
   "metadata": {},
   "outputs": [],
   "source": [
    "def fix_arrival_time(gtfs_timestring):\n",
    "    '''Reformats a GTFS timestamp (which allows the hour to exceed 24 to mark service day continuity)\n",
    "    to standard 24-hour time.\n",
    "    '''\n",
    "    split = gtfs_timestring.split(':')\n",
    "    hour = int(split[0])\n",
    "    if hour >= 24:\n",
    "        split[0] = str(hour - 24)\n",
    "        corrected = (':').join(split)\n",
    "        return corrected\n",
    "    else:\n",
    "        return gtfs_timestring"
   ]
  },
  {
   "cell_type": "code",
   "execution_count": 9,
   "id": "c6e9c96e-b1e6-4a8d-b9f3-179887df1cde",
   "metadata": {},
   "outputs": [],
   "source": [
    "def single_shape_hqta(shapes, trips, stop_times, stops, route_count_by_stop, shape_id, hqta):\n",
    "    '''Starting with a single GTFS shape, split that shape into segments and determine if each segment qualifies\n",
    "    as an HQTA. Existing segments within a shape are dropped for that shape, since their peak frequency and \n",
    "    HQTA status would have already been calculated for a previous shape.\n",
    "    '''\n",
    "    single_shape = (shapes\n",
    "         >> filter(_.shape_id == shape_id)\n",
    "         >> mutate(shape_pt_sequence = _.shape_pt_sequence.astype('int64'))\n",
    "         >> arrange(_.shape_pt_sequence) ##arrange, then convert to line to preserve order...\n",
    "        )\n",
    "    \n",
    "    route_line = LineString(list(single_shape['geometry']))\n",
    "    single_line = single_shape[['calitp_itp_id', 'shape_id', 'calitp_extracted_at']].iloc[[0]] ##preserve info cols\n",
    "    single_line['geometry'] = route_line\n",
    "    single_line = gpd.GeoDataFrame(single_line, crs='EPSG:6414')\n",
    "        ## test a shapes df split into segments\n",
    "    if hqta.size != 0:\n",
    "        already_calculated = hqta.dissolve(by='calitp_itp_id') ## get single polygon of HQTA calculation complete area\n",
    "        single_line = single_line.overlay(already_calculated, how='difference') ## drop calculation complete area from current shape\n",
    "        if single_line.size == 0:\n",
    "            segments_with_max_stop = None\n",
    "            return\n",
    "\n",
    "    segmented = pd.DataFrame()\n",
    "    for segment in split_every_km(single_line.geometry):\n",
    "        to_append = single_line.drop(columns=['geometry'])\n",
    "        to_append['geometry'] = segment\n",
    "        segmented = segmented.append(to_append)\n",
    "        \n",
    "    segmented = segmented.reset_index()\n",
    "    segmented['segment_sequence'] = segmented.index.astype(str)\n",
    "    segmented = segmented.astype({'calitp_itp_id': str})\n",
    "    \n",
    "    ## compute (hopefully unique) hash of segment id that can be used across routes/operators\n",
    "    segmented['hqta_segment_id'] = segmented.apply(lambda x:\n",
    "                zlib.crc32((x.calitp_itp_id + x.shape_id + x.segment_sequence).encode('utf-8')), axis=1)\n",
    "    \n",
    "    segmented.geometry = segmented.buffer(50) ##generous buffer for street/sidewalk width? Required to spatially find stops within each segment\n",
    "    \n",
    "    try:\n",
    "        segments_with_max_stop = segmented.apply(find_stop_with_most_routes, axis=1,\n",
    "                                                 args = (stops, route_count_by_stop))\n",
    "    except IndexError:\n",
    "        segments_with_max_stop = None\n",
    "        return ## no stops within segment\n",
    "\n",
    "    max_stop_times = (stop_times \n",
    "                 >> select(_.stop_id, _.trip_id, _.departure_time)\n",
    "                 >> inner_join(_, segments_with_max_stop, on = \"stop_id\")\n",
    "                ) ## filter stop_times to the key stops in each segment\n",
    "    max_stop_times['departure_time'] = max_stop_times['departure_time'].apply(fix_arrival_time) ## reformat GTFS time to a format datetime can ingest\n",
    "    max_stop_times['departure_hour'] = max_stop_times['departure_time'].apply(lambda x:\n",
    "                                                                    dt.datetime.strptime(x, '%H:%M:%S').hour)\n",
    "    \n",
    "    max_stop_times = max_stop_times >> filter(_.departure_hour.isin(commute_hours))\n",
    "    max_stop_times['am_peak'] = max_stop_times['departure_hour'].apply(lambda x: x in am_commute_hours)\n",
    "    max_stop_times['pm_peak'] = ~max_stop_times['am_peak']\n",
    "    \n",
    "    segment_peak_service = max_stop_times.groupby(['hqta_segment_id'])[['am_peak', 'pm_peak']].sum() ## count total trips at stop during each peak period\n",
    "    \n",
    "    ## convert to trips per hour\n",
    "    segment_peak_service['am_peak'] = (segment_peak_service['am_peak'] / len(am_commute_hours)).round(1)\n",
    "    segment_peak_service['pm_peak'] = (segment_peak_service['pm_peak'] / len(pm_commute_hours)).round(1)\n",
    "    \n",
    "    ## consider segment HQTA if stop within segment has at least 4 trips/hour in both peaks\n",
    "    segment_peak_service['hq_transit_corr'] = segment_peak_service.apply(lambda x:\n",
    "                              True if x.am_peak >= 4 and x.pm_peak >= 4 else False, axis=1)\n",
    "    \n",
    "    segment_peak_service = segment_peak_service.reset_index()\n",
    "    single_hqta = segments_with_max_stop >> inner_join(_, segment_peak_service, on = 'hqta_segment_id')\n",
    "    single_hqta.drop(columns=['calitp_extracted_at'], inplace=True)\n",
    "    \n",
    "    return single_hqta"
   ]
  },
  {
   "cell_type": "code",
   "execution_count": 10,
   "id": "9483141f-c197-4fc8-80f0-4efa8d2b44c4",
   "metadata": {},
   "outputs": [],
   "source": [
    "def single_operator_hqta(views, hqta_df=None):  \n",
    "    \n",
    "    shapes, trips, stop_times, stops = views\n",
    "    \n",
    "    distinct_routes = (trips\n",
    "                   >> distinct(_.route_id, _.shape_id, _.direction_id, _keep_all = True)\n",
    "                   >> select(_.calitp_itp_id, _.route_id, _.shape_id, _.direction_id, _.trip_id))\n",
    "    \n",
    "    route_count_by_stop = (stop_times\n",
    "                         >> select(_.stop_id, _.trip_id)\n",
    "                         >> inner_join(_, distinct_routes, on = \"trip_id\")\n",
    "                         >> count(_.stop_id)\n",
    "                         >> rename(n_routes = _.n)\n",
    "                         >> arrange(-_.n_routes))\n",
    "\n",
    "    hqta = gpd.GeoDataFrame()\n",
    "    for shape_id in views[0]['shape_id'].unique():\n",
    "        try:\n",
    "            _result = single_shape_hqta(shapes, trips, stop_times, stops, route_count_by_stop, shape_id, hqta)\n",
    "            hqta = hqta.append(_result)\n",
    "        except:\n",
    "            print(f'unable to calculate HQTA for shape_id {shape_id}')\n",
    "        try:\n",
    "            hqta = hqta.set_crs('EPSG:6414')\n",
    "        except:\n",
    "            continue\n",
    "        \n",
    "    return hqta"
   ]
  },
  {
   "cell_type": "code",
   "execution_count": 11,
   "id": "dc21e894-3e26-4677-9106-86b9872cd94c",
   "metadata": {},
   "outputs": [],
   "source": [
    "bbb_views = get_operator_views(300)"
   ]
  },
  {
   "cell_type": "code",
   "execution_count": 12,
   "id": "4fd76833-26d7-47d6-aa6d-0781ce6c2413",
   "metadata": {
    "tags": []
   },
   "outputs": [],
   "source": [
    "bbb_hqta = single_operator_hqta(bbb_views)"
   ]
  },
  {
   "cell_type": "markdown",
   "id": "a5ff47bb-276b-4f0c-8635-e3ceb108010c",
   "metadata": {},
   "source": [
    "### Mapping"
   ]
  },
  {
   "cell_type": "code",
   "execution_count": 13,
   "id": "979e15cf-6887-4b7a-ae5d-a6efcd02a667",
   "metadata": {},
   "outputs": [],
   "source": [
    "def map_hqta(hqta):\n",
    "    \n",
    "    x = hqta['geometry'].to_crs('EPSG:4326').iloc[0].centroid.x\n",
    "    y = hqta['geometry'].to_crs('EPSG:4326').iloc[0].centroid.y\n",
    "    \n",
    "    m = Map(basemap=basemaps.CartoDB.Positron, center=[y, x], zoom=11)\n",
    "    geo_data_hq = GeoData(geo_dataframe = hqta[hqta['hq_transit_corr']].to_crs('EPSG:4326'),\n",
    "                           style={'color': 'black', 'fillColor': '#3366cc',\n",
    "                                        'opacity':0.3, 'weight':.5, 'dashArray':'2', 'fillOpacity':0.3},\n",
    "                           hover_style={'fillColor': 'red' , 'fillOpacity': 0.2},\n",
    "                           name = 'HQTA')\n",
    "\n",
    "    geo_data_not_hq = GeoData(geo_dataframe = hqta[~hqta['hq_transit_corr']].to_crs('EPSG:4326'),\n",
    "                           style={'color': 'black', 'fillColor': '#fec44f',\n",
    "                                        'opacity':0.3, 'weight':.5, 'dashArray':'2', 'fillOpacity':0.3},\n",
    "                           hover_style={'fillColor': 'red' , 'fillOpacity': 0.2},\n",
    "                           name = 'non-HQTA')\n",
    "\n",
    "    m.add_layer(geo_data_hq)\n",
    "    m.add_layer(geo_data_not_hq)\n",
    "    m.add_control(LayersControl())\n",
    "    \n",
    "    return m"
   ]
  },
  {
   "cell_type": "code",
   "execution_count": 14,
   "id": "dea4ada3-c0fd-4d54-a798-83e8826d23b9",
   "metadata": {},
   "outputs": [
    {
     "data": {
      "application/vnd.jupyter.widget-view+json": {
       "model_id": "df31623824de4dc9a21e4229b0b200f7",
       "version_major": 2,
       "version_minor": 0
      },
      "text/plain": [
       "Map(center=[34.01700619489209, -118.44538220527086], controls=(ZoomControl(options=['position', 'zoom_in_text'…"
      ]
     },
     "metadata": {},
     "output_type": "display_data"
    }
   ],
   "source": [
    "map_hqta(bbb_hqta)"
   ]
  },
  {
   "cell_type": "markdown",
   "id": "1ce92081-2e3e-4cf6-a679-cdd8f216a3e2",
   "metadata": {
    "tags": []
   },
   "source": [
    "### Map Image\n",
    "\n",
    "![map](img/bbb.png)"
   ]
  },
  {
   "cell_type": "markdown",
   "id": "77f44db1-ec48-4333-b972-64e5671088b5",
   "metadata": {},
   "source": [
    "## Result\n",
    "\n",
    "* Methodology approximates HQTAs for a single operator, but doesn't quite get there\n",
    "    * Inaccurate at some intersections (currently capturing cross street frequencies, which is not correct)\n",
    "    * Segments not containing stops will not appear as HQTA-- may need to interpolate.\n",
    "* Working on improving/documenting code, and towards a statewide proof of concept"
   ]
  }
 ],
 "metadata": {
  "kernelspec": {
   "display_name": "Python 3 (ipykernel)",
   "language": "python",
   "name": "python3"
  },
  "language_info": {
   "codemirror_mode": {
    "name": "ipython",
    "version": 3
   },
   "file_extension": ".py",
   "mimetype": "text/x-python",
   "name": "python",
   "nbconvert_exporter": "python",
   "pygments_lexer": "ipython3",
   "version": "3.9.7"
  }
 },
 "nbformat": 4,
 "nbformat_minor": 5
}
