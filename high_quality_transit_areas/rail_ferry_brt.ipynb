{
 "cells": [
  {
   "cell_type": "code",
   "execution_count": 1,
   "id": "ec2f837d-4bc1-4656-88e3-558e3db2f92c",
   "metadata": {
    "tags": []
   },
   "outputs": [],
   "source": [
    "# !pip install -r requirements.txt"
   ]
  },
  {
   "cell_type": "code",
   "execution_count": 2,
   "id": "14064f34-9785-4e0d-93a1-2cf9305c3cfd",
   "metadata": {},
   "outputs": [],
   "source": [
    "import os\n",
    "os.environ[\"CALITP_BQ_MAX_BYTES\"] = str(900_000_000_000) ## 800GB?"
   ]
  },
  {
   "cell_type": "code",
   "execution_count": 3,
   "id": "aec8f31d-33de-46fa-be90-79a25e559128",
   "metadata": {},
   "outputs": [
    {
     "name": "stderr",
     "output_type": "stream",
     "text": [
      "/opt/conda/lib/python3.10/site-packages/geopandas/_compat.py:111: UserWarning: The Shapely GEOS version (3.10.2-CAPI-1.16.0) is incompatible with the GEOS version PyGEOS was compiled with (3.10.1-CAPI-1.16.0). Conversions between both will be slow.\n",
      "  warnings.warn(\n"
     ]
    }
   ],
   "source": [
    "import calitp\n",
    "from calitp.tables import tbl\n",
    "from siuba import *\n",
    "\n",
    "import pandas as pd\n",
    "import numpy as np\n",
    "import geopandas as gpd\n",
    "import fiona\n",
    "\n",
    "from ipyleaflet import Map, GeoJSON, projections, basemaps, GeoData, LayersControl, WidgetControl, GeoJSON\n",
    "from ipywidgets import Text, HTML\n",
    "\n",
    "from utilities import *\n",
    "import shared_utils"
   ]
  },
  {
   "cell_type": "code",
   "execution_count": 4,
   "id": "bff75da7-60a1-4eb4-b868-4036497da87d",
   "metadata": {},
   "outputs": [],
   "source": [
    "import sys"
   ]
  },
  {
   "cell_type": "code",
   "execution_count": 5,
   "id": "05a379b7-a1b3-4543-99e4-03ce8d276c00",
   "metadata": {},
   "outputs": [],
   "source": [
    "sys.path.append('../rt_delay/')"
   ]
  },
  {
   "cell_type": "code",
   "execution_count": 6,
   "id": "2019efd5-a35e-4fc1-9d46-718b4f144289",
   "metadata": {},
   "outputs": [],
   "source": [
    "import utils as rt_utils"
   ]
  },
  {
   "cell_type": "markdown",
   "id": "f2225890-1d01-48d1-b9f0-1fee53eb4fd2",
   "metadata": {},
   "source": [
    "[PRC 21064.3](https://leginfo.legislature.ca.gov/faces/codes_displaySection.xhtml?sectionNum=21064.3.&lawCode=PRC)\n",
    "* _Major transit stop means a site containing any of the following:\n",
    "(a) An existing rail or bus rapid transit station.\n",
    "(b) A ferry terminal served by either a bus or rail transit service.\n",
    "(c) The intersection of two or more major bus routes with a frequency of service interval of 15 minutes or less during the morning and afternoon peak commute periods._\n",
    "    * \"Intersection\" may not be sufficiently well-defined for this analysis\n",
    "\n",
    "[PRC 21060.2](https://leginfo.legislature.ca.gov/faces/codes_displaySection.xhtml?lawCode=PRC&sectionNum=21060.2.&highlight=true&keyword=bus%20rapid%20transit)\n",
    "* _(a) “Bus rapid transit” means a public mass transit service provided by a public agency or by a public-private partnership that includes all of the following features:\n",
    "(1) Full-time dedicated bus lanes or operation in a separate right-of-way dedicated for public transportation with a frequency of service interval of 15 minutes or less during the morning and afternoon peak commute periods.\n",
    "(2) Transit signal priority.\n",
    "(3) All-door boarding.\n",
    "(4) Fare collection system that promotes efficiency.\n",
    "(5) Defined stations._\n",
    "    * Unlikely to determine if a service qualifies as BRT under this definition using GTFS alone"
   ]
  },
  {
   "cell_type": "markdown",
   "id": "6ddca2c1-c222-4a1c-9eeb-5fcbfd4c903f",
   "metadata": {},
   "source": [
    "### Rail Service\n",
    "\n",
    "* temporary workaround with dim tables, should use tbl.gtfs schedule but LA Metro rail not in"
   ]
  },
  {
   "cell_type": "code",
   "execution_count": 7,
   "id": "5f8c153a-aaac-4caf-b25b-1329ca205105",
   "metadata": {},
   "outputs": [],
   "source": [
    "def get_routes_by_type(route_types, analysis_date):\n",
    "    routes_on_date = (tbl.views.gtfs_schedule_fact_daily_feed_routes()\n",
    "         >> filter(_.date == analysis_date)\n",
    "         >> filter(_.calitp_extracted_at <= analysis_date, _.calitp_deleted_at >= analysis_date)\n",
    "        )\n",
    "\n",
    "    dim_routes = tbl.views.gtfs_schedule_dim_routes()\n",
    "    routes_date_joined = (routes_on_date\n",
    "         >> inner_join(_, dim_routes >> select(_.route_id, _.route_key, _.route_short_name,\n",
    "                                                   _.route_long_name, _.route_desc, _.route_type,\n",
    "                                              _.calitp_itp_id),\n",
    "                       on = 'route_key')\n",
    "         # >> distinct(_.calitp_itp_id, _.route_id, _.route_short_name, _.route_long_name, _.route_desc, _.route_type)\n",
    "         >> filter(_.calitp_itp_id != 200) # avoid MTC feed in favor of individual operator feeds\n",
    "         >> filter((_.route_type.isin(route_types)))\n",
    "         # >> collect()\n",
    "        )\n",
    "    return routes_date_joined"
   ]
  },
  {
   "cell_type": "code",
   "execution_count": 8,
   "id": "b0b110d8-4bdb-4f5e-b204-d9f66b1f189d",
   "metadata": {},
   "outputs": [],
   "source": [
    "analysis_date = dt.date(2022, 6, 15) ## Wed, June 15"
   ]
  },
  {
   "cell_type": "code",
   "execution_count": 9,
   "id": "acab5e01-abbd-44f3-80e6-ab365d51fb22",
   "metadata": {},
   "outputs": [],
   "source": [
    "rail_route_types = ['0', '1', '2']\n",
    "new_routes = get_routes_by_type(rail_route_types, analysis_date)"
   ]
  },
  {
   "cell_type": "code",
   "execution_count": 10,
   "id": "cd4b1173-37bb-440b-8f80-f41a7fc3bf28",
   "metadata": {},
   "outputs": [],
   "source": [
    "ca = gpd.read_parquet(f'{GCS_FILE_PATH}ca_boundary.parquet')"
   ]
  },
  {
   "cell_type": "code",
   "execution_count": 11,
   "id": "66db5d22-5620-4aa5-aaf6-b8515cbed7d4",
   "metadata": {},
   "outputs": [],
   "source": [
    "def routes_to_stops(routes_tbl, analysis_date):\n",
    "    \n",
    "    trips_query = (tbl.views.gtfs_schedule_fact_daily_trips()\n",
    "    >> filter(_.calitp_extracted_at <= analysis_date, _.calitp_deleted_at >= analysis_date)\n",
    "    >> filter(_.service_date == analysis_date)\n",
    "    >> filter(_.is_in_service == True)\n",
    "    >> select(_.trip_key, _.service_date, _.route_id, _.calitp_itp_id)\n",
    "    >> inner_join(_, routes_tbl, on = ['calitp_itp_id', 'route_id'])\n",
    "    )\n",
    "    trips_ix_query = (trips_query\n",
    "    >> inner_join(_, tbl.views.gtfs_schedule_index_feed_trip_stops(), on = 'trip_key')\n",
    "    >> select(-_.calitp_url_number, -_.calitp_extracted_at, -_.calitp_deleted_at)\n",
    "    )\n",
    "    stops = (tbl.views.gtfs_schedule_dim_stops()\n",
    "     >> distinct(_.calitp_itp_id, _.stop_id,\n",
    "              _.stop_lat, _.stop_lon, _.stop_name, _.stop_key)\n",
    "     >> inner_join(_, trips_ix_query >> distinct(_.stop_key, _.route_type), on = 'stop_key')\n",
    "     >> collect()\n",
    "     >> distinct(_.calitp_itp_id, _.stop_id, _keep_all=True) ## should be ok to drop duplicates, but must use stop_id for future joins...\n",
    "     >> select(-_.stop_key)\n",
    "    )\n",
    "\n",
    "    stops = gpd.GeoDataFrame(stops, geometry=gpd.points_from_xy(stops.stop_lon, stops.stop_lat),\n",
    "                            crs='EPSG:4326').to_crs(shared_utils.geography_utils.CA_NAD83Albers)\n",
    "    \n",
    "    return stops.clip(ca)"
   ]
  },
  {
   "cell_type": "code",
   "execution_count": 12,
   "id": "4acbb1fd-df84-4ef7-b48a-4a5788d26fd5",
   "metadata": {},
   "outputs": [],
   "source": [
    "rail_stops = routes_to_stops(new_routes, analysis_date)"
   ]
  },
  {
   "cell_type": "code",
   "execution_count": 14,
   "id": "5f0affb3-fa64-40e6-9751-c6b6e0145a30",
   "metadata": {},
   "outputs": [],
   "source": [
    "# map_hqta(rail_stops, 'route_type')"
   ]
  },
  {
   "cell_type": "markdown",
   "id": "4e4ae18f-49be-43a9-89c9-ba7cb370675a",
   "metadata": {},
   "source": [
    "#### BRT Service likely meeting [PRC 21060.2](https://leginfo.legislature.ca.gov/faces/codes_displaySection.xhtml?lawCode=PRC&sectionNum=21060.2.&highlight=true&keyword=bus%20rapid%20transit) definition:\n",
    "\n",
    "* LA Metro Orange, Silver excluding street running (stop flags only)\n",
    "* ~~Omnitrans sbX, all stops (curbside stations are well-defined, with fare prepayment)~~\n",
    "    * insufficient frequency 5/16\n",
    "* AC Transit Tempo, all stops (curbside stations are well-defined, with fare prepayment)"
   ]
  },
  {
   "cell_type": "markdown",
   "id": "3cde006f-069c-4150-9add-5bf6696b8c62",
   "metadata": {},
   "source": [
    "[PRC 21060.2](https://leginfo.legislature.ca.gov/faces/codes_displaySection.xhtml?lawCode=PRC&sectionNum=21060.2.&highlight=true&keyword=bus%20rapid%20transit)\n",
    "* _(a) “Bus rapid transit” means a public mass transit service provided by a public agency or by a public-private partnership that includes all of the following features:\n",
    "(1) Full-time dedicated bus lanes or operation in a separate right-of-way dedicated for public transportation with a frequency of service interval of 15 minutes or less during the morning and afternoon peak commute periods.\n",
    "(2) Transit signal priority.\n",
    "(3) All-door boarding.\n",
    "(4) Fare collection system that promotes efficiency.\n",
    "(5) Defined stations._\n",
    "    * Unlikely to determine if a service qualifies as BRT under this definition using GTFS alone"
   ]
  },
  {
   "cell_type": "code",
   "execution_count": 15,
   "id": "369e2b81-a0f2-48a8-b850-8f5be7c43abb",
   "metadata": {},
   "outputs": [],
   "source": [
    "metro_routes = rt_utils.get_routes(182, analysis_date)"
   ]
  },
  {
   "cell_type": "code",
   "execution_count": 16,
   "id": "f3b638a2-ac29-4514-899d-539098a1fb8b",
   "metadata": {},
   "outputs": [],
   "source": [
    "metro_brt = metro_routes >> filter(_.route_id.str.contains('901') |\n",
    "                      _.route_id.str.contains('910'))"
   ]
  },
  {
   "cell_type": "code",
   "execution_count": 17,
   "id": "e537715e-576f-400d-b070-f2a2e92107dc",
   "metadata": {},
   "outputs": [],
   "source": [
    "metro_brt_stops = routes_to_stops(metro_brt, analysis_date)"
   ]
  },
  {
   "cell_type": "code",
   "execution_count": 18,
   "id": "8a6b60ce-8343-44be-bc13-627da47bad3e",
   "metadata": {},
   "outputs": [],
   "source": [
    "## unable to filter out non-station stops using GTFS, manual list:\n",
    "metro_street_running =['141012', '13805', '5397', '13803',\n",
    " '13804', '5396', '13802', '5395', '5410', '5411', '13817',\n",
    " '12304', '5408', '3821', '2603', '3153', '3124', '378', '65300039',\n",
    " '65300038', '15820', '13460', '4994', '1813', '2378', '5049',\n",
    " '4652', '2377', '4675', '5040', '65300042', '3674', '15713',\n",
    " '13561', '5378', '13560', '70500012', '5377', '15612',\n",
    " '12416', '11917', '12415', '8704']"
   ]
  },
  {
   "cell_type": "code",
   "execution_count": 19,
   "id": "3bfe1ffb-4b8a-4757-8c7c-a4545d927690",
   "metadata": {},
   "outputs": [],
   "source": [
    "metro_brt_stops = metro_brt_stops >> filter(-_.stop_id.isin(metro_street_running))"
   ]
  },
  {
   "cell_type": "code",
   "execution_count": 21,
   "id": "fd8c3d65-c847-44a3-afd0-d5239e8c8ef3",
   "metadata": {},
   "outputs": [],
   "source": [
    "# map_hqta(metro_brt_stops)\n",
    "## OK June 23"
   ]
  },
  {
   "cell_type": "code",
   "execution_count": 22,
   "id": "1f3f3a84-ff2a-430d-bf1a-9b9ad7df9f79",
   "metadata": {},
   "outputs": [],
   "source": [
    "act_brt = (rt_utils.get_routes(4, analysis_date)\n",
    "         >> filter(_.route_id == '1T')\n",
    "         )"
   ]
  },
  {
   "cell_type": "code",
   "execution_count": 23,
   "id": "75ab0103-b13a-4bcd-992c-f550ac0d7c63",
   "metadata": {},
   "outputs": [],
   "source": [
    "act_brt_stops = routes_to_stops(act_brt, analysis_date)"
   ]
  },
  {
   "cell_type": "code",
   "execution_count": 25,
   "id": "501c99f8-5c67-4619-9d2d-26d122275d33",
   "metadata": {},
   "outputs": [],
   "source": [
    "# map_hqta(act_brt_stops)"
   ]
  },
  {
   "cell_type": "code",
   "execution_count": 26,
   "id": "dea32983-6c05-4dbb-b5a8-3964c2665ad9",
   "metadata": {},
   "outputs": [],
   "source": [
    "# omni_brt = (rt_utils.get_routes(232, analysis_date)\n",
    "#          >> filter(_.route_short_name == 'sbX')\n",
    "#          )\n",
    "## too infrequent!"
   ]
  },
  {
   "cell_type": "code",
   "execution_count": 27,
   "id": "d14872f0-f932-4d44-9fa1-07e6c6598d6b",
   "metadata": {},
   "outputs": [],
   "source": [
    "# omni_brt_stops = routes_to_stops(omni_brt, analysis_date)"
   ]
  },
  {
   "cell_type": "code",
   "execution_count": 28,
   "id": "da92e541-49f1-4f2e-ba6d-337456db5346",
   "metadata": {},
   "outputs": [],
   "source": [
    "# map_hqta(omni_brt_stops)"
   ]
  },
  {
   "cell_type": "code",
   "execution_count": 29,
   "id": "e9ca6416-7fa9-426d-8791-006a868e3585",
   "metadata": {},
   "outputs": [],
   "source": [
    "muni_routes = rt_utils.get_routes(282, analysis_date)"
   ]
  },
  {
   "cell_type": "code",
   "execution_count": 30,
   "id": "120b7197-c93a-467d-8a7e-5131bbd3ba44",
   "metadata": {},
   "outputs": [],
   "source": [
    "van_ness_brt_route = muni_routes >> filter(_.route_short_name == '49')"
   ]
  },
  {
   "cell_type": "code",
   "execution_count": 31,
   "id": "1ad6e2dd-f139-43eb-a1e1-f99b712c9894",
   "metadata": {},
   "outputs": [],
   "source": [
    "van_ness_ids = ['8096', '8097', '18095', '18098', '8094', '8099', '18093', '8100',\n",
    "'18092', '18101', '18102', '18091', '18103', '8090', '18104', '18089',\n",
    "'18105', '18088']"
   ]
  },
  {
   "cell_type": "code",
   "execution_count": 32,
   "id": "f8bad939-aff9-4565-8fa8-f6ca7610f51e",
   "metadata": {},
   "outputs": [],
   "source": [
    "van_ness_stops = routes_to_stops(van_ness_brt_route, analysis_date)\n",
    "van_ness_stops = van_ness_stops >> filter(_.stop_id.isin(van_ness_ids))"
   ]
  },
  {
   "cell_type": "code",
   "execution_count": 34,
   "id": "525d5cf7-c060-4558-b656-982492cbfbcd",
   "metadata": {},
   "outputs": [],
   "source": [
    "# map_hqta(van_ness_stops)"
   ]
  },
  {
   "cell_type": "markdown",
   "id": "ea66505e-daa9-44bb-b0c8-1d9ca190b243",
   "metadata": {},
   "source": [
    "### Ferry"
   ]
  },
  {
   "cell_type": "code",
   "execution_count": 35,
   "id": "ef266b00-bb1d-4625-b108-94857cc4ccea",
   "metadata": {},
   "outputs": [],
   "source": [
    "ferry = get_routes_by_type(['4'], analysis_date)"
   ]
  },
  {
   "cell_type": "code",
   "execution_count": 36,
   "id": "c4cf42ea-7740-45ed-a2dc-0e769ae90715",
   "metadata": {},
   "outputs": [],
   "source": [
    "ferry_stops = routes_to_stops(ferry, analysis_date)\n",
    "angel_and_alcatraz = ['2483552', '2483550', '43002'] ##only stops without bus service, TODO implement algorithm\n",
    "ferry_stops = ferry_stops >> filter(-_.stop_id.isin(angel_and_alcatraz))"
   ]
  },
  {
   "cell_type": "markdown",
   "id": "2300f980-a80b-424f-b413-472af7c1a0f5",
   "metadata": {},
   "source": [
    "## Combined"
   ]
  },
  {
   "cell_type": "code",
   "execution_count": 37,
   "id": "0d1364e9-8b07-4b3d-a7fb-b73b868f5f98",
   "metadata": {},
   "outputs": [],
   "source": [
    "rail_brt_ferry = pd.concat([rail_stops, metro_brt_stops, act_brt_stops, van_ness_stops, ferry_stops])"
   ]
  },
  {
   "cell_type": "code",
   "execution_count": 38,
   "id": "eb2ff617-0944-4720-90ac-0c03e296789e",
   "metadata": {},
   "outputs": [
    {
     "data": {
      "text/html": [
       "<div>\n",
       "<style scoped>\n",
       "    .dataframe tbody tr th:only-of-type {\n",
       "        vertical-align: middle;\n",
       "    }\n",
       "\n",
       "    .dataframe tbody tr th {\n",
       "        vertical-align: top;\n",
       "    }\n",
       "\n",
       "    .dataframe thead th {\n",
       "        text-align: right;\n",
       "    }\n",
       "</style>\n",
       "<table border=\"1\" class=\"dataframe\">\n",
       "  <thead>\n",
       "    <tr style=\"text-align: right;\">\n",
       "      <th></th>\n",
       "      <th>calitp_itp_id</th>\n",
       "      <th>stop_id</th>\n",
       "      <th>stop_lat</th>\n",
       "      <th>stop_lon</th>\n",
       "      <th>stop_name</th>\n",
       "      <th>route_type</th>\n",
       "      <th>geometry</th>\n",
       "    </tr>\n",
       "  </thead>\n",
       "  <tbody>\n",
       "    <tr>\n",
       "      <th>74</th>\n",
       "      <td>13</td>\n",
       "      <td>GVB</td>\n",
       "      <td>35.121260</td>\n",
       "      <td>-120.629266</td>\n",
       "      <td>Grover Beach Amtrak</td>\n",
       "      <td>2</td>\n",
       "      <td>POINT (-57308.226 -321533.615)</td>\n",
       "    </tr>\n",
       "    <tr>\n",
       "      <th>705</th>\n",
       "      <td>13</td>\n",
       "      <td>SLO</td>\n",
       "      <td>35.276434</td>\n",
       "      <td>-120.654701</td>\n",
       "      <td>San Luis Obispo</td>\n",
       "      <td>2</td>\n",
       "      <td>POINT (-59505.601 -304286.520)</td>\n",
       "    </tr>\n",
       "    <tr>\n",
       "      <th>479</th>\n",
       "      <td>13</td>\n",
       "      <td>BFD</td>\n",
       "      <td>35.372140</td>\n",
       "      <td>-119.008210</td>\n",
       "      <td>Bakersfield</td>\n",
       "      <td>2</td>\n",
       "      <td>POINT (90031.416 -293392.047)</td>\n",
       "    </tr>\n",
       "    <tr>\n",
       "      <th>889</th>\n",
       "      <td>13</td>\n",
       "      <td>WAC</td>\n",
       "      <td>35.594092</td>\n",
       "      <td>-119.332309</td>\n",
       "      <td>Wasco</td>\n",
       "      <td>2</td>\n",
       "      <td>POINT (60437.770 -268997.529)</td>\n",
       "    </tr>\n",
       "    <tr>\n",
       "      <th>807</th>\n",
       "      <td>13</td>\n",
       "      <td>PRB</td>\n",
       "      <td>35.622683</td>\n",
       "      <td>-120.687860</td>\n",
       "      <td>Paso Robles Amtrak Station</td>\n",
       "      <td>2</td>\n",
       "      <td>POINT (-62240.345 -265808.632)</td>\n",
       "    </tr>\n",
       "    <tr>\n",
       "      <th>...</th>\n",
       "      <td>...</td>\n",
       "      <td>...</td>\n",
       "      <td>...</td>\n",
       "      <td>...</td>\n",
       "      <td>...</td>\n",
       "      <td>...</td>\n",
       "      <td>...</td>\n",
       "    </tr>\n",
       "    <tr>\n",
       "      <th>14</th>\n",
       "      <td>127</td>\n",
       "      <td>43008</td>\n",
       "      <td>37.796533</td>\n",
       "      <td>-122.393763</td>\n",
       "      <td>San Francisco Ferry Building Gate B</td>\n",
       "      <td>4</td>\n",
       "      <td>POINT (-210476.942 -21780.838)</td>\n",
       "    </tr>\n",
       "    <tr>\n",
       "      <th>15</th>\n",
       "      <td>127</td>\n",
       "      <td>43003</td>\n",
       "      <td>37.856166</td>\n",
       "      <td>-122.477546</td>\n",
       "      <td>Sausalito Ferry Landing</td>\n",
       "      <td>4</td>\n",
       "      <td>POINT (-217668.884 -14964.633)</td>\n",
       "    </tr>\n",
       "    <tr>\n",
       "      <th>17</th>\n",
       "      <td>127</td>\n",
       "      <td>43007</td>\n",
       "      <td>37.872732</td>\n",
       "      <td>-122.455917</td>\n",
       "      <td>Tiburon Ferry Landing</td>\n",
       "      <td>4</td>\n",
       "      <td>POINT (-215721.361 -13173.100)</td>\n",
       "    </tr>\n",
       "    <tr>\n",
       "      <th>13</th>\n",
       "      <td>280</td>\n",
       "      <td>890004</td>\n",
       "      <td>37.909510</td>\n",
       "      <td>-122.359250</td>\n",
       "      <td>Richmond Ferry Terminal</td>\n",
       "      <td>4</td>\n",
       "      <td>POINT (-207130.442 -9301.491)</td>\n",
       "    </tr>\n",
       "    <tr>\n",
       "      <th>18</th>\n",
       "      <td>127</td>\n",
       "      <td>43004</td>\n",
       "      <td>37.944712</td>\n",
       "      <td>-122.508355</td>\n",
       "      <td>Larkspur Ferry Terminal</td>\n",
       "      <td>4</td>\n",
       "      <td>POINT (-220114.635 -5053.519)</td>\n",
       "    </tr>\n",
       "  </tbody>\n",
       "</table>\n",
       "<p>1300 rows × 7 columns</p>\n",
       "</div>"
      ],
      "text/plain": [
       "     calitp_itp_id stop_id   stop_lat    stop_lon  \\\n",
       "74              13     GVB  35.121260 -120.629266   \n",
       "705             13     SLO  35.276434 -120.654701   \n",
       "479             13     BFD  35.372140 -119.008210   \n",
       "889             13     WAC  35.594092 -119.332309   \n",
       "807             13     PRB  35.622683 -120.687860   \n",
       "..             ...     ...        ...         ...   \n",
       "14             127   43008  37.796533 -122.393763   \n",
       "15             127   43003  37.856166 -122.477546   \n",
       "17             127   43007  37.872732 -122.455917   \n",
       "13             280  890004  37.909510 -122.359250   \n",
       "18             127   43004  37.944712 -122.508355   \n",
       "\n",
       "                               stop_name route_type  \\\n",
       "74                   Grover Beach Amtrak          2   \n",
       "705                      San Luis Obispo          2   \n",
       "479                          Bakersfield          2   \n",
       "889                                Wasco          2   \n",
       "807           Paso Robles Amtrak Station          2   \n",
       "..                                   ...        ...   \n",
       "14   San Francisco Ferry Building Gate B          4   \n",
       "15               Sausalito Ferry Landing          4   \n",
       "17                 Tiburon Ferry Landing          4   \n",
       "13               Richmond Ferry Terminal          4   \n",
       "18               Larkspur Ferry Terminal          4   \n",
       "\n",
       "                           geometry  \n",
       "74   POINT (-57308.226 -321533.615)  \n",
       "705  POINT (-59505.601 -304286.520)  \n",
       "479   POINT (90031.416 -293392.047)  \n",
       "889   POINT (60437.770 -268997.529)  \n",
       "807  POINT (-62240.345 -265808.632)  \n",
       "..                              ...  \n",
       "14   POINT (-210476.942 -21780.838)  \n",
       "15   POINT (-217668.884 -14964.633)  \n",
       "17   POINT (-215721.361 -13173.100)  \n",
       "13    POINT (-207130.442 -9301.491)  \n",
       "18    POINT (-220114.635 -5053.519)  \n",
       "\n",
       "[1300 rows x 7 columns]"
      ]
     },
     "execution_count": 38,
     "metadata": {},
     "output_type": "execute_result"
    }
   ],
   "source": [
    "rail_brt_ferry"
   ]
  },
  {
   "cell_type": "code",
   "execution_count": 39,
   "id": "fa029d00-acac-4242-9048-d8024e70f914",
   "metadata": {},
   "outputs": [],
   "source": [
    "# map_hqta(rail_brt_ferry)"
   ]
  },
  {
   "cell_type": "code",
   "execution_count": 40,
   "id": "4df7038d-b53c-4cbc-9329-84a89d6cea1d",
   "metadata": {},
   "outputs": [
    {
     "name": "stderr",
     "output_type": "stream",
     "text": [
      "/home/jovyan/data-analyses/_shared_utils/shared_utils/utils.py:38: UserWarning: this is an initial implementation of Parquet/Feather file support and associated metadata.  This is tracking version 0.1.0 of the metadata specification at https://github.com/geopandas/geo-arrow-spec\n",
      "\n",
      "This metadata specification does not yet make stability promises.  We do not yet recommend using this in a production setting unless you are able to rewrite your Parquet/Feather files.\n",
      "\n",
      "To further ignore this warning, you can do: \n",
      "import warnings; warnings.filterwarnings('ignore', message='.*initial implementation of Parquet.*')\n"
     ]
    }
   ],
   "source": [
    "shared_utils.utils.geoparquet_gcs_export(rail_brt_ferry, f'{GCS_FILE_PATH}', f'rail_brt_ferry')"
   ]
  }
 ],
 "metadata": {
  "kernelspec": {
   "display_name": "Python 3 (ipykernel)",
   "language": "python",
   "name": "python3"
  },
  "language_info": {
   "codemirror_mode": {
    "name": "ipython",
    "version": 3
   },
   "file_extension": ".py",
   "mimetype": "text/x-python",
   "name": "python",
   "nbconvert_exporter": "python",
   "pygments_lexer": "ipython3",
   "version": "3.10.4"
  }
 },
 "nbformat": 4,
 "nbformat_minor": 5
}
