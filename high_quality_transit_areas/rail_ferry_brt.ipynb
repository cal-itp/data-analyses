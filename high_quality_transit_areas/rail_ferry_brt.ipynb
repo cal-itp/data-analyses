{
 "cells": [
  {
   "cell_type": "code",
   "execution_count": 1,
   "id": "ec2f837d-4bc1-4656-88e3-558e3db2f92c",
   "metadata": {
    "tags": []
   },
   "outputs": [],
   "source": [
    "# !pip install -r requirements.txt"
   ]
  },
  {
   "cell_type": "code",
   "execution_count": 1,
   "id": "14064f34-9785-4e0d-93a1-2cf9305c3cfd",
   "metadata": {},
   "outputs": [],
   "source": [
    "import os\n",
    "os.environ[\"CALITP_BQ_MAX_BYTES\"] = str(900_000_000_000) ## 800GB?"
   ]
  },
  {
   "cell_type": "code",
   "execution_count": 53,
   "id": "aec8f31d-33de-46fa-be90-79a25e559128",
   "metadata": {},
   "outputs": [],
   "source": [
    "import calitp\n",
    "from calitp.tables import tbl\n",
    "from siuba import *\n",
    "\n",
    "import pandas as pd\n",
    "import numpy as np\n",
    "import geopandas as gpd\n",
    "import fiona\n",
    "\n",
    "from ipyleaflet import Map, GeoJSON, projections, basemaps, GeoData, LayersControl, WidgetControl, GeoJSON\n",
    "from ipywidgets import Text, HTML\n",
    "\n",
    "from utilities import *\n",
    "import shared_utils"
   ]
  },
  {
   "cell_type": "markdown",
   "id": "f2225890-1d01-48d1-b9f0-1fee53eb4fd2",
   "metadata": {},
   "source": [
    "[PRC 21064.3](https://leginfo.legislature.ca.gov/faces/codes_displaySection.xhtml?sectionNum=21064.3.&lawCode=PRC)\n",
    "* _Major transit stop means a site containing any of the following:\n",
    "(a) An existing rail or bus rapid transit station.\n",
    "(b) A ferry terminal served by either a bus or rail transit service.\n",
    "(c) The intersection of two or more major bus routes with a frequency of service interval of 15 minutes or less during the morning and afternoon peak commute periods._\n",
    "    * \"Intersection\" may not be sufficiently well-defined for this analysis\n",
    "\n",
    "[PRC 21060.2](https://leginfo.legislature.ca.gov/faces/codes_displaySection.xhtml?lawCode=PRC&sectionNum=21060.2.&highlight=true&keyword=bus%20rapid%20transit)\n",
    "* _(a) “Bus rapid transit” means a public mass transit service provided by a public agency or by a public-private partnership that includes all of the following features:\n",
    "(1) Full-time dedicated bus lanes or operation in a separate right-of-way dedicated for public transportation with a frequency of service interval of 15 minutes or less during the morning and afternoon peak commute periods.\n",
    "(2) Transit signal priority.\n",
    "(3) All-door boarding.\n",
    "(4) Fare collection system that promotes efficiency.\n",
    "(5) Defined stations._\n",
    "    * Unlikely to determine if a service qualifies as BRT under this definition using GTFS alone"
   ]
  },
  {
   "cell_type": "markdown",
   "id": "6ddca2c1-c222-4a1c-9eeb-5fcbfd4c903f",
   "metadata": {},
   "source": [
    "### Rail Service\n",
    "\n",
    "* temporary workaround with dim tables, should use tbl.gtfs schedule but LA Metro rail not in"
   ]
  },
  {
   "cell_type": "code",
   "execution_count": 68,
   "id": "7f1deed0-9f70-4ae6-acb2-10d8b766f8ed",
   "metadata": {},
   "outputs": [],
   "source": [
    "def get_rail_routes(analysis_date):\n",
    "    routes_on_date = (tbl.views.gtfs_schedule_fact_daily_feed_routes()\n",
    "         >> filter(_.date == analysis_date)\n",
    "         >> filter(_.calitp_extracted_at <= analysis_date, _.calitp_deleted_at >= analysis_date)\n",
    "        )\n",
    "\n",
    "    dim_routes = tbl.views.gtfs_schedule_dim_routes()\n",
    "    routes_date_joined = (routes_on_date\n",
    "         >> inner_join(_, dim_routes >> select(_.route_id, _.route_key, _.route_short_name,\n",
    "                                                   _.route_long_name, _.route_desc, _.route_type,\n",
    "                                              _.calitp_itp_id),\n",
    "                       on = 'route_key')\n",
    "         # >> distinct(_.calitp_itp_id, _.route_id, _.route_short_name, _.route_long_name, _.route_desc, _.route_type)\n",
    "         >> filter(_.calitp_itp_id != 200) # avoid MTC feed in favor of individual operator feeds\n",
    "         >> filter((_.route_type == '0') |\n",
    "                    (_.route_type == '1') |\n",
    "                    (_.route_type == '2'))\n",
    "         # >> collect()\n",
    "        )\n",
    "    return routes_date_joined"
   ]
  },
  {
   "cell_type": "code",
   "execution_count": 69,
   "id": "b0b110d8-4bdb-4f5e-b204-d9f66b1f189d",
   "metadata": {},
   "outputs": [],
   "source": [
    "analysis_date = dt.date(2022, 5, 4) ## Wed, May 4"
   ]
  },
  {
   "cell_type": "code",
   "execution_count": 70,
   "id": "acab5e01-abbd-44f3-80e6-ab365d51fb22",
   "metadata": {},
   "outputs": [],
   "source": [
    "new_routes = get_rail_routes(analysis_date)"
   ]
  },
  {
   "cell_type": "code",
   "execution_count": 60,
   "id": "cd4b1173-37bb-440b-8f80-f41a7fc3bf28",
   "metadata": {},
   "outputs": [],
   "source": [
    "ca = gpd.read_parquet(f'{GCS_FILE_PATH}ca_boundary.parquet')"
   ]
  },
  {
   "cell_type": "code",
   "execution_count": 79,
   "id": "66db5d22-5620-4aa5-aaf6-b8515cbed7d4",
   "metadata": {},
   "outputs": [],
   "source": [
    "def routes_to_stops(routes_tbl, analysis_date):\n",
    "    \n",
    "    trips_query = (tbl.views.gtfs_schedule_fact_daily_trips()\n",
    "    >> filter(_.calitp_extracted_at <= analysis_date, _.calitp_deleted_at >= analysis_date)\n",
    "    >> filter(_.service_date == analysis_date)\n",
    "    >> filter(_.is_in_service == True)\n",
    "    >> select(_.trip_key, _.service_date, _.route_id, _.calitp_itp_id)\n",
    "    >> inner_join(_, routes_tbl, on = ['calitp_itp_id', 'route_id'])\n",
    "    )\n",
    "    trips_ix_query = (trips_query\n",
    "    >> inner_join(_, tbl.views.gtfs_schedule_index_feed_trip_stops(), on = 'trip_key')\n",
    "    >> select(-_.calitp_url_number, -_.calitp_extracted_at, -_.calitp_deleted_at)\n",
    "    )\n",
    "    stops = (tbl.views.gtfs_schedule_dim_stops()\n",
    "     >> distinct(_.calitp_itp_id, _.stop_id,\n",
    "              _.stop_lat, _.stop_lon, _.stop_name, _.stop_key)\n",
    "     >> inner_join(_, trips_ix_query >> distinct(_.stop_key, _.route_type), on = 'stop_key')\n",
    "     >> collect()\n",
    "     >> distinct(_.calitp_itp_id, _.stop_id, _keep_all=True) ## should be ok to drop duplicates, but must use stop_id for future joins...\n",
    "     >> select(-_.stop_key)\n",
    "    )\n",
    "\n",
    "    stops = gpd.GeoDataFrame(stops, geometry=gpd.points_from_xy(stops.stop_lon, stops.stop_lat),\n",
    "                            crs='EPSG:4326').to_crs(shared_utils.geography_utils.CA_NAD83Albers)\n",
    "    \n",
    "    return stops.clip(ca)"
   ]
  },
  {
   "cell_type": "code",
   "execution_count": 81,
   "id": "4acbb1fd-df84-4ef7-b48a-4a5788d26fd5",
   "metadata": {},
   "outputs": [],
   "source": [
    "rail_stops = routes_to_stops(new_routes, analysis_date)"
   ]
  },
  {
   "cell_type": "code",
   "execution_count": 82,
   "id": "5f0affb3-fa64-40e6-9751-c6b6e0145a30",
   "metadata": {},
   "outputs": [
    {
     "data": {
      "application/vnd.jupyter.widget-view+json": {
       "model_id": "3b185d862d4f4c7f83c7c56b73b47f65",
       "version_major": 2,
       "version_minor": 0
      },
      "text/plain": [
       "Map(center=[32.56951494317901, -117.06696483813707], controls=(ZoomControl(options=['position', 'zoom_in_text'…"
      ]
     },
     "metadata": {},
     "output_type": "display_data"
    }
   ],
   "source": [
    "map_hqta(rail_stops, 'route_type')"
   ]
  },
  {
   "cell_type": "markdown",
   "id": "4e4ae18f-49be-43a9-89c9-ba7cb370675a",
   "metadata": {},
   "source": [
    "#### BRT Service likely meeting [PRC 21060.2](https://leginfo.legislature.ca.gov/faces/codes_displaySection.xhtml?lawCode=PRC&sectionNum=21060.2.&highlight=true&keyword=bus%20rapid%20transit) definition:\n",
    "\n",
    "* LA Metro Orange, Silver excluding street running (stop flags only)\n",
    "* Omnitrans sbX, all stops (curbside stations are well-defined, with fare prepayment)\n",
    "* AC Transit Tempo, all stops (curbside stations are well-defined, with fare prepayment)"
   ]
  },
  {
   "cell_type": "code",
   "execution_count": 83,
   "id": "f5bd001a-1553-46d7-9bed-cb40d457bd54",
   "metadata": {},
   "outputs": [],
   "source": [
    "metro_brt = (tbl.gtfs_schedule.routes()\n",
    "         >> filter(_.calitp_itp_id == 182)\n",
    "         >> filter((_.route_id == '901-13149') |\n",
    "                   (_.route_id =='910-13149'))\n",
    "        )"
   ]
  },
  {
   "cell_type": "code",
   "execution_count": 12,
   "id": "e537715e-576f-400d-b070-f2a2e92107dc",
   "metadata": {},
   "outputs": [],
   "source": [
    "metro_brt_stops = routes_to_stops(metro_brt)"
   ]
  },
  {
   "cell_type": "code",
   "execution_count": 13,
   "id": "8a6b60ce-8343-44be-bc13-627da47bad3e",
   "metadata": {},
   "outputs": [],
   "source": [
    "## unable to filter out non-station stops using GTFS, manual list:\n",
    "metro_street_running =['141012', '13805', '5397', '13803',\n",
    " '13804', '5396', '13802', '5395', '5410', '5411', '13817',\n",
    " '12304', '5408', '3821', '2603', '3153', '3124', '378', '65300039',\n",
    " '65300038', '15820', '13460', '4994', '1813', '2378', '5049',\n",
    " '4652', '2377', '4675', '5040', '65300042', '3674', '15713',\n",
    " '13561', '5378', '13560', '70500012', '5377', '15612',\n",
    " '12416', '11917', '12415', '8704']"
   ]
  },
  {
   "cell_type": "code",
   "execution_count": 14,
   "id": "3bfe1ffb-4b8a-4757-8c7c-a4545d927690",
   "metadata": {},
   "outputs": [],
   "source": [
    "metro_brt_stops = metro_brt_stops >> filter(-_.stop_id.isin(metro_street_running))"
   ]
  },
  {
   "cell_type": "code",
   "execution_count": 15,
   "id": "fd8c3d65-c847-44a3-afd0-d5239e8c8ef3",
   "metadata": {},
   "outputs": [],
   "source": [
    "# map_hqta(metro_brt_stops)"
   ]
  },
  {
   "cell_type": "code",
   "execution_count": 16,
   "id": "1f3f3a84-ff2a-430d-bf1a-9b9ad7df9f79",
   "metadata": {},
   "outputs": [],
   "source": [
    "act_brt = (tbl.gtfs_schedule.routes()\n",
    "         >> filter(_.calitp_itp_id == 4)\n",
    "         >> filter(_.route_id == '1T')\n",
    "         )"
   ]
  },
  {
   "cell_type": "code",
   "execution_count": 17,
   "id": "75ab0103-b13a-4bcd-992c-f550ac0d7c63",
   "metadata": {},
   "outputs": [],
   "source": [
    "act_brt_stops = routes_to_stops(act_brt)"
   ]
  },
  {
   "cell_type": "code",
   "execution_count": 18,
   "id": "501c99f8-5c67-4619-9d2d-26d122275d33",
   "metadata": {},
   "outputs": [],
   "source": [
    "# map_hqta(act_brt_stops)"
   ]
  },
  {
   "cell_type": "code",
   "execution_count": 19,
   "id": "dea32983-6c05-4dbb-b5a8-3964c2665ad9",
   "metadata": {},
   "outputs": [],
   "source": [
    "omni_brt = (tbl.gtfs_schedule.routes()\n",
    "         >> filter(_.calitp_itp_id == 232)\n",
    "         >> filter(_.route_id == '9648')\n",
    "         )"
   ]
  },
  {
   "cell_type": "code",
   "execution_count": 20,
   "id": "d14872f0-f932-4d44-9fa1-07e6c6598d6b",
   "metadata": {},
   "outputs": [],
   "source": [
    "omni_brt_stops = routes_to_stops(omni_brt)"
   ]
  },
  {
   "cell_type": "code",
   "execution_count": 21,
   "id": "da92e541-49f1-4f2e-ba6d-337456db5346",
   "metadata": {},
   "outputs": [],
   "source": [
    "# map_hqta(omni_brt_stops)"
   ]
  },
  {
   "cell_type": "markdown",
   "id": "ea66505e-daa9-44bb-b0c8-1d9ca190b243",
   "metadata": {},
   "source": [
    "### Ferry"
   ]
  },
  {
   "cell_type": "code",
   "execution_count": 22,
   "id": "a1291f99-2560-4d3b-8155-02a6fbc08bbc",
   "metadata": {},
   "outputs": [],
   "source": [
    "ferry = (tbl.gtfs_schedule.routes()\n",
    "         >> filter(_.route_type == '4')\n",
    "         # >> filter(_.route_id == '9648')\n",
    "         )"
   ]
  },
  {
   "cell_type": "code",
   "execution_count": 23,
   "id": "c4cf42ea-7740-45ed-a2dc-0e769ae90715",
   "metadata": {},
   "outputs": [],
   "source": [
    "ferry_stops = routes_to_stops(ferry)\n",
    "angel_and_alcatraz = ['2483552', '2483550'] ##only stops without bus service, TODO implement algorithm\n",
    "ferry_stops = ferry_stops >> filter(-_.stop_id.isin(angel_and_alcatraz))"
   ]
  },
  {
   "cell_type": "code",
   "execution_count": 24,
   "id": "5de12b81-e461-4f5e-955d-2df1abfdd6e3",
   "metadata": {},
   "outputs": [],
   "source": [
    "# map_hqta(ferry_stops)"
   ]
  },
  {
   "cell_type": "markdown",
   "id": "2300f980-a80b-424f-b413-472af7c1a0f5",
   "metadata": {},
   "source": [
    "## Combined"
   ]
  },
  {
   "cell_type": "code",
   "execution_count": 25,
   "id": "0d1364e9-8b07-4b3d-a7fb-b73b868f5f98",
   "metadata": {},
   "outputs": [],
   "source": [
    "rail_brt_ferry = (rail_stops\n",
    "                 .append(metro_brt_stops)\n",
    "                 .append(act_brt_stops)\n",
    "                 .append(omni_brt_stops)\n",
    "                 .append(ferry_stops))"
   ]
  },
  {
   "cell_type": "code",
   "execution_count": 26,
   "id": "eb2ff617-0944-4720-90ac-0c03e296789e",
   "metadata": {},
   "outputs": [
    {
     "data": {
      "text/html": [
       "<div>\n",
       "<style scoped>\n",
       "    .dataframe tbody tr th:only-of-type {\n",
       "        vertical-align: middle;\n",
       "    }\n",
       "\n",
       "    .dataframe tbody tr th {\n",
       "        vertical-align: top;\n",
       "    }\n",
       "\n",
       "    .dataframe thead th {\n",
       "        text-align: right;\n",
       "    }\n",
       "</style>\n",
       "<table border=\"1\" class=\"dataframe\">\n",
       "  <thead>\n",
       "    <tr style=\"text-align: right;\">\n",
       "      <th></th>\n",
       "      <th>calitp_itp_id</th>\n",
       "      <th>calitp_url_number</th>\n",
       "      <th>stop_id</th>\n",
       "      <th>stop_lat</th>\n",
       "      <th>stop_lon</th>\n",
       "      <th>route_type</th>\n",
       "      <th>geometry</th>\n",
       "    </tr>\n",
       "  </thead>\n",
       "  <tbody>\n",
       "    <tr>\n",
       "      <th>0</th>\n",
       "      <td>10</td>\n",
       "      <td>0</td>\n",
       "      <td>3400002</td>\n",
       "      <td>37.797908</td>\n",
       "      <td>-121.263664</td>\n",
       "      <td>2</td>\n",
       "      <td>POINT (-111116.950 -23544.700)</td>\n",
       "    </tr>\n",
       "    <tr>\n",
       "      <th>1</th>\n",
       "      <td>10</td>\n",
       "      <td>0</td>\n",
       "      <td>3400001</td>\n",
       "      <td>37.957058</td>\n",
       "      <td>-121.278948</td>\n",
       "      <td>2</td>\n",
       "      <td>POINT (-112222.169 -5836.078)</td>\n",
       "    </tr>\n",
       "    <tr>\n",
       "      <th>2</th>\n",
       "      <td>10</td>\n",
       "      <td>0</td>\n",
       "      <td>3400003</td>\n",
       "      <td>37.696468</td>\n",
       "      <td>-121.433869</td>\n",
       "      <td>2</td>\n",
       "      <td>POINT (-126252.943 -34607.238)</td>\n",
       "    </tr>\n",
       "    <tr>\n",
       "      <th>3</th>\n",
       "      <td>10</td>\n",
       "      <td>0</td>\n",
       "      <td>3400004.3</td>\n",
       "      <td>37.657549</td>\n",
       "      <td>-121.882962</td>\n",
       "      <td>2</td>\n",
       "      <td>POINT (-165877.168 -38241.179)</td>\n",
       "    </tr>\n",
       "    <tr>\n",
       "      <th>4</th>\n",
       "      <td>10</td>\n",
       "      <td>0</td>\n",
       "      <td>3400004.1</td>\n",
       "      <td>37.697081</td>\n",
       "      <td>-121.717648</td>\n",
       "      <td>2</td>\n",
       "      <td>POINT (-151236.096 -34123.815)</td>\n",
       "    </tr>\n",
       "    <tr>\n",
       "      <th>...</th>\n",
       "      <td>...</td>\n",
       "      <td>...</td>\n",
       "      <td>...</td>\n",
       "      <td>...</td>\n",
       "      <td>...</td>\n",
       "      <td>...</td>\n",
       "      <td>...</td>\n",
       "    </tr>\n",
       "    <tr>\n",
       "      <th>28</th>\n",
       "      <td>41</td>\n",
       "      <td>0</td>\n",
       "      <td>2483549</td>\n",
       "      <td>37.872939</td>\n",
       "      <td>-122.455446</td>\n",
       "      <td>4</td>\n",
       "      <td>POINT (-215679.403 -13151.168)</td>\n",
       "    </tr>\n",
       "    <tr>\n",
       "      <th>29</th>\n",
       "      <td>41</td>\n",
       "      <td>0</td>\n",
       "      <td>2483569</td>\n",
       "      <td>37.856636</td>\n",
       "      <td>-122.478275</td>\n",
       "      <td>4</td>\n",
       "      <td>POINT (-217731.552 -14910.728)</td>\n",
       "    </tr>\n",
       "    <tr>\n",
       "      <th>31</th>\n",
       "      <td>338</td>\n",
       "      <td>0</td>\n",
       "      <td>818729</td>\n",
       "      <td>37.770840</td>\n",
       "      <td>-122.385791</td>\n",
       "      <td>4</td>\n",
       "      <td>POINT (-209847.993 -24653.833)</td>\n",
       "    </tr>\n",
       "    <tr>\n",
       "      <th>32</th>\n",
       "      <td>338</td>\n",
       "      <td>0</td>\n",
       "      <td>818733</td>\n",
       "      <td>37.864540</td>\n",
       "      <td>-122.313932</td>\n",
       "      <td>4</td>\n",
       "      <td>POINT (-203274.531 -14397.269)</td>\n",
       "    </tr>\n",
       "    <tr>\n",
       "      <th>33</th>\n",
       "      <td>338</td>\n",
       "      <td>0</td>\n",
       "      <td>818727</td>\n",
       "      <td>37.797482</td>\n",
       "      <td>-122.395025</td>\n",
       "      <td>4</td>\n",
       "      <td>POINT (-210585.228 -21672.628)</td>\n",
       "    </tr>\n",
       "  </tbody>\n",
       "</table>\n",
       "<p>1324 rows × 7 columns</p>\n",
       "</div>"
      ],
      "text/plain": [
       "   calitp_itp_id calitp_url_number    stop_id   stop_lat    stop_lon  \\\n",
       "0             10                 0    3400002  37.797908 -121.263664   \n",
       "1             10                 0    3400001  37.957058 -121.278948   \n",
       "2             10                 0    3400003  37.696468 -121.433869   \n",
       "3             10                 0  3400004.3  37.657549 -121.882962   \n",
       "4             10                 0  3400004.1  37.697081 -121.717648   \n",
       "..           ...               ...        ...        ...         ...   \n",
       "28            41                 0    2483549  37.872939 -122.455446   \n",
       "29            41                 0    2483569  37.856636 -122.478275   \n",
       "31           338                 0     818729  37.770840 -122.385791   \n",
       "32           338                 0     818733  37.864540 -122.313932   \n",
       "33           338                 0     818727  37.797482 -122.395025   \n",
       "\n",
       "   route_type                        geometry  \n",
       "0           2  POINT (-111116.950 -23544.700)  \n",
       "1           2   POINT (-112222.169 -5836.078)  \n",
       "2           2  POINT (-126252.943 -34607.238)  \n",
       "3           2  POINT (-165877.168 -38241.179)  \n",
       "4           2  POINT (-151236.096 -34123.815)  \n",
       "..        ...                             ...  \n",
       "28          4  POINT (-215679.403 -13151.168)  \n",
       "29          4  POINT (-217731.552 -14910.728)  \n",
       "31          4  POINT (-209847.993 -24653.833)  \n",
       "32          4  POINT (-203274.531 -14397.269)  \n",
       "33          4  POINT (-210585.228 -21672.628)  \n",
       "\n",
       "[1324 rows x 7 columns]"
      ]
     },
     "execution_count": 26,
     "metadata": {},
     "output_type": "execute_result"
    }
   ],
   "source": [
    "rail_brt_ferry"
   ]
  },
  {
   "cell_type": "code",
   "execution_count": 27,
   "id": "c957af13-3cab-44ef-8c64-830f5d8f1a2f",
   "metadata": {},
   "outputs": [],
   "source": [
    "## clip to CA since we now have Amtrak national..."
   ]
  },
  {
   "cell_type": "code",
   "execution_count": 28,
   "id": "b4d279ae-5283-47e6-b503-f01738f7672a",
   "metadata": {},
   "outputs": [],
   "source": [
    "import intake\n",
    "catalog = intake.open_catalog('./catalog.yml')"
   ]
  },
  {
   "cell_type": "code",
   "execution_count": 29,
   "id": "c76728cc-b293-4f57-8002-3efa845a1dad",
   "metadata": {
    "tags": []
   },
   "outputs": [],
   "source": [
    "ca_shape = catalog.stanford_shorelines.read().to_crs('EPSG:6414') >> filter(_.STFIPS == '06')"
   ]
  },
  {
   "cell_type": "code",
   "execution_count": 30,
   "id": "0174ddab-347c-47d2-b824-98e360719b94",
   "metadata": {},
   "outputs": [],
   "source": [
    "## after this cell displays output the notebook refuses to save...\n",
    "##     File Save Error for rail_ferry_brt.ipynb\n",
    "##     Invalid response: 413 Request Entity Too Large\n",
    "# ca_shape['geometry'].iloc[0]"
   ]
  },
  {
   "cell_type": "code",
   "execution_count": 31,
   "id": "8b7beb5f-2128-4482-9648-abdfcc8e0001",
   "metadata": {},
   "outputs": [],
   "source": [
    "rail_brt_ferry = rail_brt_ferry.clip(ca_shape)"
   ]
  },
  {
   "cell_type": "code",
   "execution_count": 32,
   "id": "fa029d00-acac-4242-9048-d8024e70f914",
   "metadata": {},
   "outputs": [],
   "source": [
    "# map_hqta(rail_brt_ferry)"
   ]
  },
  {
   "cell_type": "code",
   "execution_count": 33,
   "id": "ba7057fc-a405-461c-ae65-230966fe9bfa",
   "metadata": {},
   "outputs": [
    {
     "name": "stderr",
     "output_type": "stream",
     "text": [
      "/home/jovyan/data-analyses/high_quality_transit_areas/utilities.py:85: UserWarning: this is an initial implementation of Parquet/Feather file support and associated metadata.  This is tracking version 0.1.0 of the metadata specification at https://github.com/geopandas/geo-arrow-spec\n",
      "\n",
      "This metadata specification does not yet make stability promises.  We do not yet recommend using this in a production setting unless you are able to rewrite your Parquet/Feather files.\n",
      "\n",
      "To further ignore this warning, you can do: \n",
      "import warnings; warnings.filterwarnings('ignore', message='.*initial implementation of Parquet.*')\n",
      "  gdf.to_parquet(f\"{name}.parquet\")\n"
     ]
    }
   ],
   "source": [
    "geoparquet_gcs_export(rail_brt_ferry, 'rail_brt_ferry')"
   ]
  }
 ],
 "metadata": {
  "kernelspec": {
   "display_name": "Python 3 (ipykernel)",
   "language": "python",
   "name": "python3"
  },
  "language_info": {
   "codemirror_mode": {
    "name": "ipython",
    "version": 3
   },
   "file_extension": ".py",
   "mimetype": "text/x-python",
   "name": "python",
   "nbconvert_exporter": "python",
   "pygments_lexer": "ipython3",
   "version": "3.9.12"
  }
 },
 "nbformat": 4,
 "nbformat_minor": 5
}
