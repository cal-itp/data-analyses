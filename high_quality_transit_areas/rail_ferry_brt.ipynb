{
 "cells": [
  {
   "cell_type": "code",
   "execution_count": 25,
   "id": "aec8f31d-33de-46fa-be90-79a25e559128",
   "metadata": {},
   "outputs": [],
   "source": [
    "import calitp\n",
    "from calitp.tables import tbl\n",
    "from siuba import *\n",
    "\n",
    "import pandas as pd\n",
    "import numpy as np\n",
    "import geopandas as gpd\n",
    "import fiona\n",
    "\n",
    "from ipyleaflet import Map, GeoJSON, projections, basemaps, GeoData, LayersControl, WidgetControl, GeoJSON\n",
    "from ipywidgets import Text, HTML"
   ]
  },
  {
   "cell_type": "markdown",
   "id": "f2225890-1d01-48d1-b9f0-1fee53eb4fd2",
   "metadata": {},
   "source": [
    "[PRC 21064.3](https://leginfo.legislature.ca.gov/faces/codes_displaySection.xhtml?sectionNum=21064.3.&lawCode=PRC)\n",
    "* _Major transit stop means a site containing any of the following:\n",
    "(a) An existing rail or bus rapid transit station.\n",
    "(b) A ferry terminal served by either a bus or rail transit service.\n",
    "(c) The intersection of two or more major bus routes with a frequency of service interval of 15 minutes or less during the morning and afternoon peak commute periods._\n",
    "    * \"Intersection\" may not be sufficiently well-defined for this analysis\n",
    "\n",
    "[PRC 21060.2](https://leginfo.legislature.ca.gov/faces/codes_displaySection.xhtml?lawCode=PRC&sectionNum=21060.2.&highlight=true&keyword=bus%20rapid%20transit)\n",
    "* _(a) “Bus rapid transit” means a public mass transit service provided by a public agency or by a public-private partnership that includes all of the following features:\n",
    "(1) Full-time dedicated bus lanes or operation in a separate right-of-way dedicated for public transportation with a frequency of service interval of 15 minutes or less during the morning and afternoon peak commute periods.\n",
    "(2) Transit signal priority.\n",
    "(3) All-door boarding.\n",
    "(4) Fare collection system that promotes efficiency.\n",
    "(5) Defined stations._\n",
    "    * Unlikely to determine if a service qualifies as BRT under this definition using GTFS alone"
   ]
  },
  {
   "cell_type": "markdown",
   "id": "6ddca2c1-c222-4a1c-9eeb-5fcbfd4c903f",
   "metadata": {},
   "source": [
    "### Rail Service"
   ]
  },
  {
   "cell_type": "code",
   "execution_count": 2,
   "id": "ccac42d0-6424-4b79-ac9a-b77f7d5536e9",
   "metadata": {},
   "outputs": [],
   "source": [
    "rail_routes = (tbl.gtfs_schedule.routes()\n",
    "               >> filter(_.route_type.isin(['0', '1', '2']))\n",
    "               >> select(_.calitp_itp_id, _.route_id)\n",
    "               >> collect())"
   ]
  },
  {
   "cell_type": "code",
   "execution_count": 3,
   "id": "dbcf2c67-44e3-446a-94f3-9a1bb9b04fc6",
   "metadata": {},
   "outputs": [],
   "source": [
    "def routes_to_stops(df_routes):\n",
    "    df_routes['itp_id_route_id'] = df_routes.calitp_itp_id.astype(str) + df_routes.route_id\n",
    "    \n",
    "    df_trips = (tbl.gtfs_schedule.trips()\n",
    "             >> filter(_.calitp_itp_id.isin(df_routes.calitp_itp_id))\n",
    "             >> collect()\n",
    "             >> select(_.calitp_itp_id, _.route_id, _.trip_id)\n",
    "             >> filter(_.route_id.isin(df_routes.route_id)))\n",
    "    \n",
    "    df_trips['itp_id_route_id'] = df_trips.calitp_itp_id.astype(str) + df_trips.route_id\n",
    "    df_trips.drop(columns=['calitp_itp_id', 'route_id'], inplace=True)\n",
    "    \n",
    "    df_trips = df_routes >> inner_join(_, df_trips, on='itp_id_route_id')\n",
    "    df_trips['itp_id_trip_id'] = df_trips.calitp_itp_id.astype(str) + df_trips.trip_id\n",
    "    df_operators = [int(str(x)) for x in list(df_trips.calitp_itp_id.unique())]\n",
    "    \n",
    "    df_stop_times = (tbl.gtfs_schedule.stop_times()\n",
    "                  >> filter(_.calitp_itp_id.isin(df_operators))\n",
    "                  >> select(_.calitp_itp_id, _.stop_id, _.trip_id)\n",
    "                  >> collect()\n",
    "                    )\n",
    "    df_stop_times['itp_id_trip_id'] = df_stop_times.calitp_itp_id.astype(str) + df_stop_times.trip_id\n",
    "    df_stop_times.drop(columns=['calitp_itp_id', 'trip_id'], inplace=True)\n",
    "    df_stop_times = df_stop_times >> inner_join(_, df_trips, on='itp_id_trip_id')\n",
    "    df_stop_times = df_stop_times.drop_duplicates(subset=['stop_id', 'calitp_itp_id'])\n",
    "    df_stop_times['itp_id_stop_id'] = df_stop_times.calitp_itp_id.astype(str) + df_stop_times.stop_id\n",
    "    \n",
    "    df_stops = (tbl.gtfs_schedule.stops()\n",
    "              >> select(_.stop_id, _.calitp_itp_id, _.stop_lat, _.stop_lon)\n",
    "              >> filter(_.calitp_itp_id.isin(df_stop_times.calitp_itp_id))\n",
    "              >> collect()\n",
    "             )\n",
    "    \n",
    "    df_stops['itp_id_stop_id'] = df_stops.calitp_itp_id.astype(str) + df_stops.stop_id\n",
    "    df_stop_times.drop(columns=['calitp_itp_id', 'stop_id'], inplace=True)\n",
    "    df_stops = df_stops >> inner_join(_, df_stop_times, on='itp_id_stop_id')\n",
    "    df_stops = gpd.GeoDataFrame(df_stops,\n",
    "                              geometry = gpd.points_from_xy(df_stops.stop_lon, df_stops.stop_lat),\n",
    "                              crs = 'EPSG:4326')\n",
    "    return df_stops.to_crs('EPSG:6414') ## https://epsg.io/6414 (meters)"
   ]
  },
  {
   "cell_type": "code",
   "execution_count": 4,
   "id": "1c86a799-2775-490c-b5b6-6a3abcf951a9",
   "metadata": {},
   "outputs": [],
   "source": [
    "def map_hqta(gdf, mouseover=None):\n",
    "    global nix_list\n",
    "    nix_list = []\n",
    "    \n",
    "    if 'calitp_extracted_at' in gdf.columns:\n",
    "        gdf = gdf.drop(columns='calitp_extracted_at')\n",
    "    gdf = gdf.to_crs('EPSG:6414') ## https://epsg.io/6414 (meters)\n",
    "    if gdf.geometry.iloc[0].geom_type == 'Point':\n",
    "        gdf.geometry = gdf.geometry.buffer(200)\n",
    "    \n",
    "    x = gdf.to_crs('EPSG:4326').geometry.iloc[0].centroid.x\n",
    "    y = gdf.to_crs('EPSG:4326').geometry.iloc[0].centroid.y\n",
    "    \n",
    "    m = Map(basemap=basemaps.CartoDB.Positron, center=[y, x], zoom=11)\n",
    "\n",
    "    if mouseover:\n",
    "        html = HTML(f'hover to see {mouseover}')\n",
    "        html.layout.margin = '0px 20px 20px 20px'\n",
    "        control = WidgetControl(widget=html, position='topright')\n",
    "        m.add_control(control)\n",
    "\n",
    "        def update_html(feature,  **kwargs):\n",
    "            html.value = '''\n",
    "                <h3><b>{}</b></h3>\n",
    "            '''.format(feature['properties'][mouseover])\n",
    "            \n",
    "        def add_to_nix(feature, **kwargs):\n",
    "            nix_list.append(feature['properties'][mouseover])\n",
    "            \n",
    "    if 'hq_transit_corr' in gdf.columns:\n",
    "        geo_data_hq = GeoData(geo_dataframe = gdf[gdf['hq_transit_corr']].to_crs('EPSG:4326'),\n",
    "                               style={'color': 'black', 'fillColor': '#08589e',\n",
    "                                            'opacity':0.4, 'weight':.5, 'dashArray':'2', 'fillOpacity':0.3},\n",
    "                               hover_style={'fillColor': 'red' , 'fillOpacity': 0.2},\n",
    "                               name = 'HQTA')\n",
    "        #a8ddb5\n",
    "        geo_data_not_hq = GeoData(geo_dataframe = gdf[~gdf['hq_transit_corr']].to_crs('EPSG:4326'),\n",
    "                               style={'color': 'black', 'fillColor': '#fec44f',\n",
    "                                            'opacity':0.2, 'weight':.5, 'dashArray':'2', 'fillOpacity':0.3},\n",
    "                               hover_style={'fillColor': 'red' , 'fillOpacity': 0.2},\n",
    "                               name = 'non-HQTA')\n",
    "\n",
    "        m.add_layer(geo_data_hq)\n",
    "        m.add_layer(geo_data_not_hq)\n",
    "    \n",
    "    else:\n",
    "    \n",
    "        geo_data_hq = GeoData(geo_dataframe = gdf.to_crs('EPSG:4326'),\n",
    "                               style={'color': 'black', 'fillColor': '#08589e',\n",
    "                                            'opacity':0.4, 'weight':.5, 'dashArray':'2', 'fillOpacity':0.3},\n",
    "                               hover_style={'fillColor': 'red' , 'fillOpacity': 0.2},\n",
    "                               name = 'gdf')\n",
    "        m.add_layer(geo_data_hq)\n",
    "    \n",
    "    if mouseover:\n",
    "        geo_data_hq.on_hover(update_html)\n",
    "        geo_data_hq.on_hover(add_to_nix)\n",
    "\n",
    "    m.add_control(LayersControl())\n",
    "\n",
    "    return m"
   ]
  },
  {
   "cell_type": "code",
   "execution_count": 5,
   "id": "32b0a3a0-cb47-4b38-a5ef-ec4da9b94d3d",
   "metadata": {},
   "outputs": [],
   "source": [
    "rail_stops = routes_to_stops(rail_routes)"
   ]
  },
  {
   "cell_type": "code",
   "execution_count": 26,
   "id": "5f0affb3-fa64-40e6-9751-c6b6e0145a30",
   "metadata": {},
   "outputs": [
    {
     "data": {
      "application/vnd.jupyter.widget-view+json": {
       "model_id": "4c89fb86c1804e68831476579b5cb2c6",
       "version_major": 2,
       "version_minor": 0
      },
      "text/plain": [
       "Map(center=[37.558559005208195, -122.007598], controls=(ZoomControl(options=['position', 'zoom_in_text', 'zoom…"
      ]
     },
     "metadata": {},
     "output_type": "display_data"
    }
   ],
   "source": [
    "map_hqta(rail_stops)"
   ]
  },
  {
   "cell_type": "markdown",
   "id": "4e4ae18f-49be-43a9-89c9-ba7cb370675a",
   "metadata": {},
   "source": [
    "#### BRT Service likely meeting [PRC 21060.2](https://leginfo.legislature.ca.gov/faces/codes_displaySection.xhtml?lawCode=PRC&sectionNum=21060.2.&highlight=true&keyword=bus%20rapid%20transit) definition:\n",
    "\n",
    "* LA Metro Orange, Silver excluding street running (stop flags only)\n",
    "* Omnitrans sbX, all stops (curbside stations are well-defined, with fare prepayment)\n",
    "* AC Transit Tempo, all stops (curbside stations are well-defined, with fare prepayment)"
   ]
  },
  {
   "cell_type": "code",
   "execution_count": 7,
   "id": "f5bd001a-1553-46d7-9bed-cb40d457bd54",
   "metadata": {},
   "outputs": [],
   "source": [
    "metro_brt = (tbl.gtfs_schedule.routes()\n",
    "         >> filter(_.calitp_itp_id == 182)\n",
    "         >> filter(_.route_id.isin(['901-13149', '910-13149']))\n",
    "         >> collect())"
   ]
  },
  {
   "cell_type": "code",
   "execution_count": 8,
   "id": "e537715e-576f-400d-b070-f2a2e92107dc",
   "metadata": {},
   "outputs": [],
   "source": [
    "metro_brt_stops = routes_to_stops(metro_brt)"
   ]
  },
  {
   "cell_type": "code",
   "execution_count": 9,
   "id": "8a6b60ce-8343-44be-bc13-627da47bad3e",
   "metadata": {},
   "outputs": [],
   "source": [
    "## unable to filter out non-station stops using GTFS, manual list:\n",
    "metro_street_running =['141012', '13805', '5397', '13803',\n",
    " '13804', '5396', '13802', '5395', '5410', '5411', '13817',\n",
    " '12304', '5408', '3821', '2603', '3153', '3124', '378', '65300039',\n",
    " '65300038', '15820', '13460', '4994', '1813', '2378', '5049',\n",
    " '4652', '2377', '4675', '5040', '65300042', '3674', '15713',\n",
    " '13561', '5378', '13560', '70500012', '5377', '15612',\n",
    " '12416', '11917', '12415', '8704']"
   ]
  },
  {
   "cell_type": "code",
   "execution_count": 10,
   "id": "3bfe1ffb-4b8a-4757-8c7c-a4545d927690",
   "metadata": {},
   "outputs": [],
   "source": [
    "metro_brt_stops = metro_brt_stops >> filter(-_.stop_id.isin(metro_street_running))"
   ]
  },
  {
   "cell_type": "code",
   "execution_count": 11,
   "id": "fd8c3d65-c847-44a3-afd0-d5239e8c8ef3",
   "metadata": {},
   "outputs": [
    {
     "data": {
      "application/vnd.jupyter.widget-view+json": {
       "model_id": "4b05b6d0465f41fd94991a8e4536b6ad",
       "version_major": 2,
       "version_minor": 0
      },
      "text/plain": [
       "Map(center=[34.180897003816504, -118.46902599999993], controls=(ZoomControl(options=['position', 'zoom_in_text…"
      ]
     },
     "metadata": {},
     "output_type": "display_data"
    }
   ],
   "source": [
    "map_hqta(metro_brt_stops)"
   ]
  },
  {
   "cell_type": "code",
   "execution_count": 12,
   "id": "1f3f3a84-ff2a-430d-bf1a-9b9ad7df9f79",
   "metadata": {},
   "outputs": [],
   "source": [
    "act_brt = (tbl.gtfs_schedule.routes()\n",
    "         >> filter(_.calitp_itp_id == 4)\n",
    "         >> filter(_.route_id == '1T')\n",
    "         >> collect())"
   ]
  },
  {
   "cell_type": "code",
   "execution_count": 13,
   "id": "75ab0103-b13a-4bcd-992c-f550ac0d7c63",
   "metadata": {},
   "outputs": [],
   "source": [
    "act_brt_stops = routes_to_stops(act_brt)"
   ]
  },
  {
   "cell_type": "code",
   "execution_count": 14,
   "id": "501c99f8-5c67-4619-9d2d-26d122275d33",
   "metadata": {},
   "outputs": [
    {
     "data": {
      "application/vnd.jupyter.widget-view+json": {
       "model_id": "39d50a4ff8dd4b209f69a20ce8cdd140",
       "version_major": 2,
       "version_minor": 0
      },
      "text/plain": [
       "Map(center=[37.78878500530988, -122.24642099999997], controls=(ZoomControl(options=['position', 'zoom_in_text'…"
      ]
     },
     "metadata": {},
     "output_type": "display_data"
    }
   ],
   "source": [
    "map_hqta(act_brt_stops)"
   ]
  },
  {
   "cell_type": "code",
   "execution_count": 15,
   "id": "dea32983-6c05-4dbb-b5a8-3964c2665ad9",
   "metadata": {},
   "outputs": [],
   "source": [
    "omni_brt = (tbl.gtfs_schedule.routes()\n",
    "         >> filter(_.calitp_itp_id == 232)\n",
    "         >> filter(_.route_id == '9648')\n",
    "         >> collect())"
   ]
  },
  {
   "cell_type": "code",
   "execution_count": 16,
   "id": "d14872f0-f932-4d44-9fa1-07e6c6598d6b",
   "metadata": {},
   "outputs": [],
   "source": [
    "omni_brt_stops = routes_to_stops(omni_brt)"
   ]
  },
  {
   "cell_type": "code",
   "execution_count": 17,
   "id": "da92e541-49f1-4f2e-ba6d-337456db5346",
   "metadata": {},
   "outputs": [
    {
     "data": {
      "application/vnd.jupyter.widget-view+json": {
       "model_id": "e1fe2574566f49b8ba3c91dcb36ea074",
       "version_major": 2,
       "version_minor": 0
      },
      "text/plain": [
       "Map(center=[34.0486850037653, -117.25235699999993], controls=(ZoomControl(options=['position', 'zoom_in_text',…"
      ]
     },
     "metadata": {},
     "output_type": "display_data"
    }
   ],
   "source": [
    "map_hqta(omni_brt_stops)"
   ]
  },
  {
   "cell_type": "markdown",
   "id": "ea66505e-daa9-44bb-b0c8-1d9ca190b243",
   "metadata": {},
   "source": [
    "### Ferry"
   ]
  },
  {
   "cell_type": "code",
   "execution_count": 18,
   "id": "a1291f99-2560-4d3b-8155-02a6fbc08bbc",
   "metadata": {},
   "outputs": [],
   "source": [
    "ferry = (tbl.gtfs_schedule.routes()\n",
    "         >> filter(_.route_type == '4')\n",
    "         # >> filter(_.route_id == '9648')\n",
    "         >> collect())"
   ]
  },
  {
   "cell_type": "code",
   "execution_count": 19,
   "id": "c4cf42ea-7740-45ed-a2dc-0e769ae90715",
   "metadata": {},
   "outputs": [],
   "source": [
    "ferry_stops = routes_to_stops(ferry)\n",
    "angel_and_alcatraz = ['2483552', '2483550'] ##only stops without bus service, TODO implement algorithm\n",
    "ferry_stops = ferry_stops >> filter(-_.stop_id.isin(angel_and_alcatraz))"
   ]
  },
  {
   "cell_type": "code",
   "execution_count": 20,
   "id": "5de12b81-e461-4f5e-955d-2df1abfdd6e3",
   "metadata": {},
   "outputs": [
    {
     "data": {
      "application/vnd.jupyter.widget-view+json": {
       "model_id": "7d813755ac0e45f48b1ac8edf7ccd86d",
       "version_major": 2,
       "version_minor": 0
      },
      "text/plain": [
       "Map(center=[37.795497005312825, -122.39336499999999], controls=(ZoomControl(options=['position', 'zoom_in_text…"
      ]
     },
     "metadata": {},
     "output_type": "display_data"
    }
   ],
   "source": [
    "map_hqta(ferry_stops)"
   ]
  },
  {
   "cell_type": "markdown",
   "id": "2300f980-a80b-424f-b413-472af7c1a0f5",
   "metadata": {},
   "source": [
    "## Combined"
   ]
  },
  {
   "cell_type": "code",
   "execution_count": 21,
   "id": "0d1364e9-8b07-4b3d-a7fb-b73b868f5f98",
   "metadata": {},
   "outputs": [],
   "source": [
    "rail_brt_ferry = (rail_stops\n",
    "                 .append(metro_brt_stops)\n",
    "                 .append(act_brt_stops)\n",
    "                 .append(omni_brt_stops)\n",
    "                 .append(ferry_stops))"
   ]
  },
  {
   "cell_type": "code",
   "execution_count": 22,
   "id": "eb2ff617-0944-4720-90ac-0c03e296789e",
   "metadata": {},
   "outputs": [
    {
     "data": {
      "text/html": [
       "<div>\n",
       "<style scoped>\n",
       "    .dataframe tbody tr th:only-of-type {\n",
       "        vertical-align: middle;\n",
       "    }\n",
       "\n",
       "    .dataframe tbody tr th {\n",
       "        vertical-align: top;\n",
       "    }\n",
       "\n",
       "    .dataframe thead th {\n",
       "        text-align: right;\n",
       "    }\n",
       "</style>\n",
       "<table border=\"1\" class=\"dataframe\">\n",
       "  <thead>\n",
       "    <tr style=\"text-align: right;\">\n",
       "      <th></th>\n",
       "      <th>stop_id</th>\n",
       "      <th>calitp_itp_id</th>\n",
       "      <th>stop_lat</th>\n",
       "      <th>stop_lon</th>\n",
       "      <th>itp_id_stop_id</th>\n",
       "      <th>itp_id_trip_id</th>\n",
       "      <th>route_id</th>\n",
       "      <th>itp_id_route_id</th>\n",
       "      <th>trip_id</th>\n",
       "      <th>geometry</th>\n",
       "      <th>...</th>\n",
       "      <th>route_short_name</th>\n",
       "      <th>route_long_name</th>\n",
       "      <th>route_desc</th>\n",
       "      <th>route_url</th>\n",
       "      <th>route_color</th>\n",
       "      <th>route_text_color</th>\n",
       "      <th>route_sort_order</th>\n",
       "      <th>continuous_pickup</th>\n",
       "      <th>continuous_drop_off</th>\n",
       "      <th>calitp_extracted_at</th>\n",
       "    </tr>\n",
       "  </thead>\n",
       "  <tbody>\n",
       "    <tr>\n",
       "      <th>0</th>\n",
       "      <td>3400005</td>\n",
       "      <td>10</td>\n",
       "      <td>37.558559</td>\n",
       "      <td>-122.007598</td>\n",
       "      <td>103400005</td>\n",
       "      <td>10ACE 06</td>\n",
       "      <td>ACE</td>\n",
       "      <td>10ACE</td>\n",
       "      <td>ACE 06</td>\n",
       "      <td>POINT (-177088.231 -49017.725)</td>\n",
       "      <td>...</td>\n",
       "      <td>NaN</td>\n",
       "      <td>NaN</td>\n",
       "      <td>NaN</td>\n",
       "      <td>NaN</td>\n",
       "      <td>NaN</td>\n",
       "      <td>NaN</td>\n",
       "      <td>NaN</td>\n",
       "      <td>NaN</td>\n",
       "      <td>NaN</td>\n",
       "      <td>NaN</td>\n",
       "    </tr>\n",
       "    <tr>\n",
       "      <th>1</th>\n",
       "      <td>3400004.1</td>\n",
       "      <td>10</td>\n",
       "      <td>37.697081</td>\n",
       "      <td>-121.717648</td>\n",
       "      <td>103400004.1</td>\n",
       "      <td>10ACE 06</td>\n",
       "      <td>ACE</td>\n",
       "      <td>10ACE</td>\n",
       "      <td>ACE 06</td>\n",
       "      <td>POINT (-151236.096 -34123.815)</td>\n",
       "      <td>...</td>\n",
       "      <td>NaN</td>\n",
       "      <td>NaN</td>\n",
       "      <td>NaN</td>\n",
       "      <td>NaN</td>\n",
       "      <td>NaN</td>\n",
       "      <td>NaN</td>\n",
       "      <td>NaN</td>\n",
       "      <td>NaN</td>\n",
       "      <td>NaN</td>\n",
       "      <td>NaN</td>\n",
       "    </tr>\n",
       "    <tr>\n",
       "      <th>2</th>\n",
       "      <td>3400006.3</td>\n",
       "      <td>10</td>\n",
       "      <td>37.329568</td>\n",
       "      <td>-121.903188</td>\n",
       "      <td>103400006.3</td>\n",
       "      <td>10ACE 06</td>\n",
       "      <td>ACE</td>\n",
       "      <td>10ACE</td>\n",
       "      <td>ACE 06</td>\n",
       "      <td>POINT (-168390.559 -74658.031)</td>\n",
       "      <td>...</td>\n",
       "      <td>NaN</td>\n",
       "      <td>NaN</td>\n",
       "      <td>NaN</td>\n",
       "      <td>NaN</td>\n",
       "      <td>NaN</td>\n",
       "      <td>NaN</td>\n",
       "      <td>NaN</td>\n",
       "      <td>NaN</td>\n",
       "      <td>NaN</td>\n",
       "      <td>NaN</td>\n",
       "    </tr>\n",
       "    <tr>\n",
       "      <th>3</th>\n",
       "      <td>3400006.1</td>\n",
       "      <td>10</td>\n",
       "      <td>37.406398</td>\n",
       "      <td>-121.966671</td>\n",
       "      <td>103400006.1</td>\n",
       "      <td>10ACE 06</td>\n",
       "      <td>ACE</td>\n",
       "      <td>10ACE</td>\n",
       "      <td>ACE 06</td>\n",
       "      <td>POINT (-173829.474 -66004.617)</td>\n",
       "      <td>...</td>\n",
       "      <td>NaN</td>\n",
       "      <td>NaN</td>\n",
       "      <td>NaN</td>\n",
       "      <td>NaN</td>\n",
       "      <td>NaN</td>\n",
       "      <td>NaN</td>\n",
       "      <td>NaN</td>\n",
       "      <td>NaN</td>\n",
       "      <td>NaN</td>\n",
       "      <td>NaN</td>\n",
       "    </tr>\n",
       "    <tr>\n",
       "      <th>4</th>\n",
       "      <td>3400001</td>\n",
       "      <td>10</td>\n",
       "      <td>37.957058</td>\n",
       "      <td>-121.278948</td>\n",
       "      <td>103400001</td>\n",
       "      <td>10ACE 06</td>\n",
       "      <td>ACE</td>\n",
       "      <td>10ACE</td>\n",
       "      <td>ACE 06</td>\n",
       "      <td>POINT (-112222.169 -5836.078)</td>\n",
       "      <td>...</td>\n",
       "      <td>NaN</td>\n",
       "      <td>NaN</td>\n",
       "      <td>NaN</td>\n",
       "      <td>NaN</td>\n",
       "      <td>NaN</td>\n",
       "      <td>NaN</td>\n",
       "      <td>NaN</td>\n",
       "      <td>NaN</td>\n",
       "      <td>NaN</td>\n",
       "      <td>NaN</td>\n",
       "    </tr>\n",
       "    <tr>\n",
       "      <th>...</th>\n",
       "      <td>...</td>\n",
       "      <td>...</td>\n",
       "      <td>...</td>\n",
       "      <td>...</td>\n",
       "      <td>...</td>\n",
       "      <td>...</td>\n",
       "      <td>...</td>\n",
       "      <td>...</td>\n",
       "      <td>...</td>\n",
       "      <td>...</td>\n",
       "      <td>...</td>\n",
       "      <td>...</td>\n",
       "      <td>...</td>\n",
       "      <td>...</td>\n",
       "      <td>...</td>\n",
       "      <td>...</td>\n",
       "      <td>...</td>\n",
       "      <td>...</td>\n",
       "      <td>...</td>\n",
       "      <td>...</td>\n",
       "      <td>...</td>\n",
       "    </tr>\n",
       "    <tr>\n",
       "      <th>73</th>\n",
       "      <td>890002</td>\n",
       "      <td>2</td>\n",
       "      <td>37.794360</td>\n",
       "      <td>-122.390790</td>\n",
       "      <td>2890002</td>\n",
       "      <td>2t_1063999_b_26132_tn_0</td>\n",
       "      <td>SF - Ala - Oak</td>\n",
       "      <td>2SF - Ala - Oak</td>\n",
       "      <td>t_1063999_b_26132_tn_0</td>\n",
       "      <td>POINT (-210221.680 -22028.923)</td>\n",
       "      <td>...</td>\n",
       "      <td>SF - Ala - Oak</td>\n",
       "      <td>San Francisco - Alameda via Oakland</td>\n",
       "      <td>None</td>\n",
       "      <td>None</td>\n",
       "      <td>ec7501</td>\n",
       "      <td>None</td>\n",
       "      <td>None</td>\n",
       "      <td>None</td>\n",
       "      <td>None</td>\n",
       "      <td>2021-04-16</td>\n",
       "    </tr>\n",
       "    <tr>\n",
       "      <th>74</th>\n",
       "      <td>890001</td>\n",
       "      <td>2</td>\n",
       "      <td>37.795106</td>\n",
       "      <td>-122.391612</td>\n",
       "      <td>2890001</td>\n",
       "      <td>2t_1216480_b_26809_tn_0</td>\n",
       "      <td>Rich - SF</td>\n",
       "      <td>2Rich - SF</td>\n",
       "      <td>t_1216480_b_26809_tn_0</td>\n",
       "      <td>POINT (-210291.852 -21944.196)</td>\n",
       "      <td>...</td>\n",
       "      <td>Rich - SF</td>\n",
       "      <td>Richmond - San Francisco</td>\n",
       "      <td>None</td>\n",
       "      <td>None</td>\n",
       "      <td>007e12</td>\n",
       "      <td>ffffff</td>\n",
       "      <td>None</td>\n",
       "      <td>None</td>\n",
       "      <td>None</td>\n",
       "      <td>2021-04-16</td>\n",
       "    </tr>\n",
       "    <tr>\n",
       "      <th>75</th>\n",
       "      <td>890001</td>\n",
       "      <td>2</td>\n",
       "      <td>37.795106</td>\n",
       "      <td>-122.391612</td>\n",
       "      <td>2890001</td>\n",
       "      <td>2t_1216480_b_26809_tn_0</td>\n",
       "      <td>Rich - SF</td>\n",
       "      <td>2Rich - SF</td>\n",
       "      <td>t_1216480_b_26809_tn_0</td>\n",
       "      <td>POINT (-210291.852 -21944.196)</td>\n",
       "      <td>...</td>\n",
       "      <td>Rich - SF</td>\n",
       "      <td>Richmond - San Francisco</td>\n",
       "      <td>None</td>\n",
       "      <td>None</td>\n",
       "      <td>007e12</td>\n",
       "      <td>ffffff</td>\n",
       "      <td>None</td>\n",
       "      <td>None</td>\n",
       "      <td>None</td>\n",
       "      <td>2021-04-16</td>\n",
       "    </tr>\n",
       "    <tr>\n",
       "      <th>76</th>\n",
       "      <td>12030042</td>\n",
       "      <td>2</td>\n",
       "      <td>37.791153</td>\n",
       "      <td>-122.294157</td>\n",
       "      <td>212030042</td>\n",
       "      <td>2t_1063999_b_26132_tn_0</td>\n",
       "      <td>SF - Ala - Oak</td>\n",
       "      <td>2SF - Ala - Oak</td>\n",
       "      <td>t_1063999_b_26132_tn_0</td>\n",
       "      <td>POINT (-201735.070 -22595.234)</td>\n",
       "      <td>...</td>\n",
       "      <td>SF - Ala - Oak</td>\n",
       "      <td>San Francisco - Alameda via Oakland</td>\n",
       "      <td>None</td>\n",
       "      <td>None</td>\n",
       "      <td>ec7501</td>\n",
       "      <td>None</td>\n",
       "      <td>None</td>\n",
       "      <td>None</td>\n",
       "      <td>None</td>\n",
       "      <td>2021-04-16</td>\n",
       "    </tr>\n",
       "    <tr>\n",
       "      <th>77</th>\n",
       "      <td>12030042</td>\n",
       "      <td>2</td>\n",
       "      <td>37.791153</td>\n",
       "      <td>-122.294157</td>\n",
       "      <td>212030042</td>\n",
       "      <td>2t_1063999_b_26132_tn_0</td>\n",
       "      <td>SF - Ala - Oak</td>\n",
       "      <td>2SF - Ala - Oak</td>\n",
       "      <td>t_1063999_b_26132_tn_0</td>\n",
       "      <td>POINT (-201735.070 -22595.234)</td>\n",
       "      <td>...</td>\n",
       "      <td>SF - Ala - Oak</td>\n",
       "      <td>San Francisco - Alameda via Oakland</td>\n",
       "      <td>None</td>\n",
       "      <td>None</td>\n",
       "      <td>ec7501</td>\n",
       "      <td>None</td>\n",
       "      <td>None</td>\n",
       "      <td>None</td>\n",
       "      <td>None</td>\n",
       "      <td>2021-04-16</td>\n",
       "    </tr>\n",
       "  </tbody>\n",
       "</table>\n",
       "<p>1711 rows × 23 columns</p>\n",
       "</div>"
      ],
      "text/plain": [
       "      stop_id  calitp_itp_id   stop_lat    stop_lon itp_id_stop_id  \\\n",
       "0     3400005             10  37.558559 -122.007598      103400005   \n",
       "1   3400004.1             10  37.697081 -121.717648    103400004.1   \n",
       "2   3400006.3             10  37.329568 -121.903188    103400006.3   \n",
       "3   3400006.1             10  37.406398 -121.966671    103400006.1   \n",
       "4     3400001             10  37.957058 -121.278948      103400001   \n",
       "..        ...            ...        ...         ...            ...   \n",
       "73     890002              2  37.794360 -122.390790        2890002   \n",
       "74     890001              2  37.795106 -122.391612        2890001   \n",
       "75     890001              2  37.795106 -122.391612        2890001   \n",
       "76   12030042              2  37.791153 -122.294157      212030042   \n",
       "77   12030042              2  37.791153 -122.294157      212030042   \n",
       "\n",
       "             itp_id_trip_id        route_id  itp_id_route_id  \\\n",
       "0                  10ACE 06             ACE            10ACE   \n",
       "1                  10ACE 06             ACE            10ACE   \n",
       "2                  10ACE 06             ACE            10ACE   \n",
       "3                  10ACE 06             ACE            10ACE   \n",
       "4                  10ACE 06             ACE            10ACE   \n",
       "..                      ...             ...              ...   \n",
       "73  2t_1063999_b_26132_tn_0  SF - Ala - Oak  2SF - Ala - Oak   \n",
       "74  2t_1216480_b_26809_tn_0       Rich - SF       2Rich - SF   \n",
       "75  2t_1216480_b_26809_tn_0       Rich - SF       2Rich - SF   \n",
       "76  2t_1063999_b_26132_tn_0  SF - Ala - Oak  2SF - Ala - Oak   \n",
       "77  2t_1063999_b_26132_tn_0  SF - Ala - Oak  2SF - Ala - Oak   \n",
       "\n",
       "                   trip_id                        geometry  ...  \\\n",
       "0                   ACE 06  POINT (-177088.231 -49017.725)  ...   \n",
       "1                   ACE 06  POINT (-151236.096 -34123.815)  ...   \n",
       "2                   ACE 06  POINT (-168390.559 -74658.031)  ...   \n",
       "3                   ACE 06  POINT (-173829.474 -66004.617)  ...   \n",
       "4                   ACE 06   POINT (-112222.169 -5836.078)  ...   \n",
       "..                     ...                             ...  ...   \n",
       "73  t_1063999_b_26132_tn_0  POINT (-210221.680 -22028.923)  ...   \n",
       "74  t_1216480_b_26809_tn_0  POINT (-210291.852 -21944.196)  ...   \n",
       "75  t_1216480_b_26809_tn_0  POINT (-210291.852 -21944.196)  ...   \n",
       "76  t_1063999_b_26132_tn_0  POINT (-201735.070 -22595.234)  ...   \n",
       "77  t_1063999_b_26132_tn_0  POINT (-201735.070 -22595.234)  ...   \n",
       "\n",
       "    route_short_name                      route_long_name route_desc  \\\n",
       "0                NaN                                  NaN        NaN   \n",
       "1                NaN                                  NaN        NaN   \n",
       "2                NaN                                  NaN        NaN   \n",
       "3                NaN                                  NaN        NaN   \n",
       "4                NaN                                  NaN        NaN   \n",
       "..               ...                                  ...        ...   \n",
       "73    SF - Ala - Oak  San Francisco - Alameda via Oakland       None   \n",
       "74         Rich - SF             Richmond - San Francisco       None   \n",
       "75         Rich - SF             Richmond - San Francisco       None   \n",
       "76    SF - Ala - Oak  San Francisco - Alameda via Oakland       None   \n",
       "77    SF - Ala - Oak  San Francisco - Alameda via Oakland       None   \n",
       "\n",
       "   route_url route_color route_text_color route_sort_order continuous_pickup  \\\n",
       "0        NaN         NaN              NaN              NaN               NaN   \n",
       "1        NaN         NaN              NaN              NaN               NaN   \n",
       "2        NaN         NaN              NaN              NaN               NaN   \n",
       "3        NaN         NaN              NaN              NaN               NaN   \n",
       "4        NaN         NaN              NaN              NaN               NaN   \n",
       "..       ...         ...              ...              ...               ...   \n",
       "73      None      ec7501             None             None              None   \n",
       "74      None      007e12           ffffff             None              None   \n",
       "75      None      007e12           ffffff             None              None   \n",
       "76      None      ec7501             None             None              None   \n",
       "77      None      ec7501             None             None              None   \n",
       "\n",
       "   continuous_drop_off calitp_extracted_at  \n",
       "0                  NaN                 NaN  \n",
       "1                  NaN                 NaN  \n",
       "2                  NaN                 NaN  \n",
       "3                  NaN                 NaN  \n",
       "4                  NaN                 NaN  \n",
       "..                 ...                 ...  \n",
       "73                None          2021-04-16  \n",
       "74                None          2021-04-16  \n",
       "75                None          2021-04-16  \n",
       "76                None          2021-04-16  \n",
       "77                None          2021-04-16  \n",
       "\n",
       "[1711 rows x 23 columns]"
      ]
     },
     "execution_count": 22,
     "metadata": {},
     "output_type": "execute_result"
    }
   ],
   "source": [
    "rail_brt_ferry"
   ]
  },
  {
   "cell_type": "code",
   "execution_count": 23,
   "id": "fa029d00-acac-4242-9048-d8024e70f914",
   "metadata": {},
   "outputs": [
    {
     "data": {
      "application/vnd.jupyter.widget-view+json": {
       "model_id": "0821423859284584b95e7a6bb374d40e",
       "version_major": 2,
       "version_minor": 0
      },
      "text/plain": [
       "Map(center=[37.558559005208195, -122.007598], controls=(ZoomControl(options=['position', 'zoom_in_text', 'zoom…"
      ]
     },
     "metadata": {},
     "output_type": "display_data"
    }
   ],
   "source": [
    "map_hqta(rail_brt_ferry)"
   ]
  },
  {
   "cell_type": "code",
   "execution_count": 24,
   "id": "08d1cbe9-e862-409c-83a6-51b66b15d934",
   "metadata": {},
   "outputs": [
    {
     "name": "stderr",
     "output_type": "stream",
     "text": [
      "/tmp/ipykernel_10665/2291923242.py:1: UserWarning: this is an initial implementation of Parquet/Feather file support and associated metadata.  This is tracking version 0.1.0 of the metadata specification at https://github.com/geopandas/geo-arrow-spec\n",
      "\n",
      "This metadata specification does not yet make stability promises.  We do not yet recommend using this in a production setting unless you are able to rewrite your Parquet/Feather files.\n",
      "\n",
      "To further ignore this warning, you can do: \n",
      "import warnings; warnings.filterwarnings('ignore', message='.*initial implementation of Parquet.*')\n",
      "  rail_brt_ferry.to_parquet('./data/rail_ferry_brt/rail_brt_ferry.parquet')\n"
     ]
    }
   ],
   "source": [
    "rail_brt_ferry.to_parquet('./data/rail_ferry_brt/rail_brt_ferry.parquet')"
   ]
  }
 ],
 "metadata": {
  "kernelspec": {
   "display_name": "Python 3 (ipykernel)",
   "language": "python",
   "name": "python3"
  },
  "language_info": {
   "codemirror_mode": {
    "name": "ipython",
    "version": 3
   },
   "file_extension": ".py",
   "mimetype": "text/x-python",
   "name": "python",
   "nbconvert_exporter": "python",
   "pygments_lexer": "ipython3",
   "version": "3.9.7"
  }
 },
 "nbformat": 4,
 "nbformat_minor": 5
}
