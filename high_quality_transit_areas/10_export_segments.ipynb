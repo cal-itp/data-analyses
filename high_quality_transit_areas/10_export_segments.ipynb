{
 "cells": [
  {
   "cell_type": "code",
   "execution_count": 1,
   "id": "38262382-8e2c-4eb9-86ce-aa4aa251d6d4",
   "metadata": {},
   "outputs": [],
   "source": [
    "import os\n",
    "os.environ[\"CALITP_BQ_MAX_BYTES\"] = str(1_000_000_000_000) ## 1TB?"
   ]
  },
  {
   "cell_type": "code",
   "execution_count": 2,
   "id": "5bbd8694-444f-48c0-89a0-00c5c0e542c8",
   "metadata": {},
   "outputs": [],
   "source": [
    "import geopandas as gpd\n",
    "import pandas as pd\n",
    "from siuba import *\n",
    "import numpy as np\n",
    "\n",
    "from segment_speed_utils import helpers, gtfs_schedule_wrangling\n",
    "from shared_utils import rt_dates, gtfs_utils_v2\n",
    "import folium\n",
    "import itertools"
   ]
  },
  {
   "cell_type": "code",
   "execution_count": 3,
   "id": "994a67bc-1cbe-4477-ac3b-cbe0f7e4822e",
   "metadata": {},
   "outputs": [],
   "source": [
    "from update_vars import (analysis_date, AM_PEAK, PM_PEAK, EXPORT_PATH, GCS_FILE_PATH, PROJECT_CRS,\n",
    "SEGMENT_BUFFER_METERS, AM_PEAK, PM_PEAK, HQ_TRANSIT_THRESHOLD, MS_TRANSIT_THRESHOLD)"
   ]
  },
  {
   "cell_type": "markdown",
   "id": "906042fd-7985-4fe0-aa1f-75419b1e3dfb",
   "metadata": {},
   "source": [
    "# Export hq corridor linestring segments for walkshed analysis\n",
    "\n",
    "See https://github.com/cal-itp/data-analyses/issues/1445"
   ]
  },
  {
   "cell_type": "code",
   "execution_count": 5,
   "id": "c06f1a9f-3be3-44f6-a84e-796adff64ce6",
   "metadata": {
    "tags": []
   },
   "outputs": [],
   "source": [
    "gdf = gpd.read_parquet(f'{GCS_FILE_PATH}all_bus.parquet')"
   ]
  },
  {
   "cell_type": "code",
   "execution_count": 7,
   "id": "558afa3e-57b2-451a-8242-40c14e1f4663",
   "metadata": {
    "tags": []
   },
   "outputs": [],
   "source": [
    "hqtc = gdf.query('hq_transit_corr')"
   ]
  },
  {
   "cell_type": "code",
   "execution_count": 13,
   "id": "8be7c08d-9ae1-4df7-bb2b-140e5d6503f5",
   "metadata": {
    "tags": []
   },
   "outputs": [
    {
     "data": {
      "text/plain": [
       "Index(['schedule_gtfs_dataset_key', 'route_id', 'route_key',\n",
       "       'segment_sequence', 'geometry', 'hqta_segment_id', 'segment_direction',\n",
       "       'route_direction', 'stop_id', 'am_max_trips', 'route_dir',\n",
       "       'pm_max_trips', 'am_max_trips_hr', 'pm_max_trips_hr', 'route_dir_count',\n",
       "       'hq_transit_corr', 'ms_precursor'],\n",
       "      dtype='object')"
      ]
     },
     "execution_count": 13,
     "metadata": {},
     "output_type": "execute_result"
    }
   ],
   "source": [
    "hqtc.columns"
   ]
  },
  {
   "cell_type": "code",
   "execution_count": 9,
   "id": "6caa0be7-d59e-486d-a47d-d35367863231",
   "metadata": {
    "tags": []
   },
   "outputs": [],
   "source": [
    "# hqtc.explore() #  these are buffered..."
   ]
  },
  {
   "cell_type": "code",
   "execution_count": 10,
   "id": "4889c3b5-e366-4523-87e6-028b3b5a49b4",
   "metadata": {
    "tags": []
   },
   "outputs": [],
   "source": [
    "segs = gpd.read_parquet(f'{GCS_FILE_PATH}hqta_segments.parquet') #  these are linestrings, but without frequency info"
   ]
  },
  {
   "cell_type": "code",
   "execution_count": 14,
   "id": "fd92dabb-63b6-45cf-a8c4-5f5597a57acb",
   "metadata": {
    "tags": []
   },
   "outputs": [
    {
     "data": {
      "text/plain": [
       "Index(['schedule_gtfs_dataset_key', 'route_id', 'route_key',\n",
       "       'segment_sequence', 'geometry', 'hqta_segment_id', 'segment_direction',\n",
       "       'route_direction'],\n",
       "      dtype='object')"
      ]
     },
     "execution_count": 14,
     "metadata": {},
     "output_type": "execute_result"
    }
   ],
   "source": [
    "segs.columns"
   ]
  },
  {
   "cell_type": "code",
   "execution_count": 18,
   "id": "bfd5fd0d-9bdf-4b90-8222-9d7655f6cce6",
   "metadata": {
    "tags": []
   },
   "outputs": [],
   "source": [
    "segs = segs[['hqta_segment_id', 'geometry']]"
   ]
  },
  {
   "cell_type": "code",
   "execution_count": 27,
   "id": "6de73364-518e-43ed-a7b0-0d94442bd5c6",
   "metadata": {
    "tags": []
   },
   "outputs": [],
   "source": [
    "hqtc = hqtc.drop(columns=['geometry'])"
   ]
  },
  {
   "cell_type": "code",
   "execution_count": 29,
   "id": "2973b192-8b2c-4557-8928-a4ad8e278fed",
   "metadata": {
    "tags": []
   },
   "outputs": [],
   "source": [
    "hqtc_lines = pd.merge(segs, hqtc, on='hqta_segment_id')"
   ]
  },
  {
   "cell_type": "code",
   "execution_count": 31,
   "id": "f9876cee-e621-47a3-856e-bb2d7c3874a6",
   "metadata": {
    "tags": []
   },
   "outputs": [],
   "source": [
    "# hqtc_lines.explore() #   this is the desired output"
   ]
  },
  {
   "cell_type": "code",
   "execution_count": 32,
   "id": "62b06fb5-88f3-4738-8907-407493f5ea19",
   "metadata": {
    "tags": []
   },
   "outputs": [],
   "source": [
    "hqtc_lines.to_file(f'hq_corridor_linestrings_{analysis_date}.geojson')"
   ]
  }
 ],
 "metadata": {
  "kernelspec": {
   "display_name": "Python 3 (ipykernel)",
   "language": "python",
   "name": "python3"
  },
  "language_info": {
   "codemirror_mode": {
    "name": "ipython",
    "version": 3
   },
   "file_extension": ".py",
   "mimetype": "text/x-python",
   "name": "python",
   "nbconvert_exporter": "python",
   "pygments_lexer": "ipython3",
   "version": "3.11.10"
  },
  "widgets": {
   "application/vnd.jupyter.widget-state+json": {
    "state": {},
    "version_major": 2,
    "version_minor": 0
   }
  }
 },
 "nbformat": 4,
 "nbformat_minor": 5
}
