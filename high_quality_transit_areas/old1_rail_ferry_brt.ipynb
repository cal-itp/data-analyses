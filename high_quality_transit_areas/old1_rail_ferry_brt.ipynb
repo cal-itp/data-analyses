{
 "cells": [
  {
   "cell_type": "code",
   "execution_count": 1,
   "id": "ec2f837d-4bc1-4656-88e3-558e3db2f92c",
   "metadata": {
    "tags": []
   },
   "outputs": [],
   "source": [
    "# !pip install -r requirements.txt"
   ]
  },
  {
   "cell_type": "code",
   "execution_count": 2,
   "id": "14064f34-9785-4e0d-93a1-2cf9305c3cfd",
   "metadata": {},
   "outputs": [
    {
     "name": "stderr",
     "output_type": "stream",
     "text": [
      "/opt/conda/lib/python3.10/site-packages/geopandas/_compat.py:111: UserWarning: The Shapely GEOS version (3.10.2-CAPI-1.16.0) is incompatible with the GEOS version PyGEOS was compiled with (3.10.1-CAPI-1.16.0). Conversions between both will be slow.\n",
      "  warnings.warn(\n"
     ]
    }
   ],
   "source": [
    "import os\n",
    "os.environ[\"CALITP_BQ_MAX_BYTES\"] = str(900_000_000_000) ## 800GB?\n",
    "\n",
    "import geopandas as gpd\n",
    "import pandas as pd\n",
    "\n",
    "import utilities\n",
    "import A1_rail_ferry_brt as rail_ferry_brt"
   ]
  },
  {
   "cell_type": "code",
   "execution_count": 3,
   "id": "5974e88d-4ae8-4300-9857-b51b7c1a0418",
   "metadata": {},
   "outputs": [
    {
     "data": {
      "text/plain": [
       "datetime.date(2022, 6, 15)"
      ]
     },
     "execution_count": 3,
     "metadata": {},
     "output_type": "execute_result"
    }
   ],
   "source": [
    "analysis_date = rail_ferry_brt.analysis_date\n",
    "analysis_date"
   ]
  },
  {
   "cell_type": "markdown",
   "id": "f2225890-1d01-48d1-b9f0-1fee53eb4fd2",
   "metadata": {},
   "source": [
    "[PRC 21064.3](https://leginfo.legislature.ca.gov/faces/codes_displaySection.xhtml?sectionNum=21064.3.&lawCode=PRC)\n",
    "* _Major transit stop means a site containing any of the following:\n",
    "(a) An existing rail or bus rapid transit station.\n",
    "(b) A ferry terminal served by either a bus or rail transit service.\n",
    "(c) The intersection of two or more major bus routes with a frequency of service interval of 15 minutes or less during the morning and afternoon peak commute periods._\n",
    "    * \"Intersection\" may not be sufficiently well-defined for this analysis\n",
    "\n",
    "[PRC 21060.2](https://leginfo.legislature.ca.gov/faces/codes_displaySection.xhtml?lawCode=PRC&sectionNum=21060.2.&highlight=true&keyword=bus%20rapid%20transit)\n",
    "* _(a) “Bus rapid transit” means a public mass transit service provided by a public agency or by a public-private partnership that includes all of the following features:\n",
    "(1) Full-time dedicated bus lanes or operation in a separate right-of-way dedicated for public transportation with a frequency of service interval of 15 minutes or less during the morning and afternoon peak commute periods.\n",
    "(2) Transit signal priority.\n",
    "(3) All-door boarding.\n",
    "(4) Fare collection system that promotes efficiency.\n",
    "(5) Defined stations._\n",
    "    * Unlikely to determine if a service qualifies as BRT under this definition using GTFS alone"
   ]
  },
  {
   "cell_type": "markdown",
   "id": "6ddca2c1-c222-4a1c-9eeb-5fcbfd4c903f",
   "metadata": {},
   "source": [
    "### Rail Service\n",
    "\n",
    "* temporary workaround with dim tables, should use tbl.gtfs schedule but LA Metro rail not in"
   ]
  },
  {
   "cell_type": "code",
   "execution_count": 4,
   "id": "4acbb1fd-df84-4ef7-b48a-4a5788d26fd5",
   "metadata": {},
   "outputs": [],
   "source": [
    "rail_stops = rail_ferry_brt.grab_rail_data(analysis_date)"
   ]
  },
  {
   "cell_type": "code",
   "execution_count": 5,
   "id": "5f0affb3-fa64-40e6-9751-c6b6e0145a30",
   "metadata": {},
   "outputs": [
    {
     "data": {
      "application/vnd.jupyter.widget-view+json": {
       "model_id": "c4349f1c5d7b44e59385fb399215ed0f",
       "version_major": 2,
       "version_minor": 0
      },
      "text/plain": [
       "Map(center=[35.12126000418686, -120.62926600000003], controls=(ZoomControl(options=['position', 'zoom_in_text'…"
      ]
     },
     "metadata": {},
     "output_type": "display_data"
    }
   ],
   "source": [
    "#utilities.map_hqta(rail_stops, 'route_type')"
   ]
  },
  {
   "cell_type": "markdown",
   "id": "4e4ae18f-49be-43a9-89c9-ba7cb370675a",
   "metadata": {},
   "source": [
    "#### BRT Service likely meeting [PRC 21060.2](https://leginfo.legislature.ca.gov/faces/codes_displaySection.xhtml?lawCode=PRC&sectionNum=21060.2.&highlight=true&keyword=bus%20rapid%20transit) definition:\n",
    "\n",
    "* LA Metro Orange, Silver excluding street running (stop flags only)\n",
    "* ~~Omnitrans sbX, all stops (curbside stations are well-defined, with fare prepayment)~~\n",
    "    * insufficient frequency 5/16\n",
    "* AC Transit Tempo, all stops (curbside stations are well-defined, with fare prepayment)"
   ]
  },
  {
   "cell_type": "markdown",
   "id": "3cde006f-069c-4150-9add-5bf6696b8c62",
   "metadata": {},
   "source": [
    "[PRC 21060.2](https://leginfo.legislature.ca.gov/faces/codes_displaySection.xhtml?lawCode=PRC&sectionNum=21060.2.&highlight=true&keyword=bus%20rapid%20transit)\n",
    "* _(a) “Bus rapid transit” means a public mass transit service provided by a public agency or by a public-private partnership that includes all of the following features:\n",
    "(1) Full-time dedicated bus lanes or operation in a separate right-of-way dedicated for public transportation with a frequency of service interval of 15 minutes or less during the morning and afternoon peak commute periods.\n",
    "(2) Transit signal priority.\n",
    "(3) All-door boarding.\n",
    "(4) Fare collection system that promotes efficiency.\n",
    "(5) Defined stations._\n",
    "    * Unlikely to determine if a service qualifies as BRT under this definition using GTFS alone"
   ]
  },
  {
   "cell_type": "code",
   "execution_count": 6,
   "id": "369e2b81-a0f2-48a8-b850-8f5be7c43abb",
   "metadata": {},
   "outputs": [
    {
     "name": "stdout",
     "output_type": "stream",
     "text": [
      "# stops in Metro BRT: 98\n"
     ]
    }
   ],
   "source": [
    "metro_brt_stops = rail_ferry_brt.grab_operator_brt(182, analysis_date)\n",
    "print(f\"# stops in Metro BRT: {len(metro_brt_stops)}\")"
   ]
  },
  {
   "cell_type": "code",
   "execution_count": 7,
   "id": "8a6b60ce-8343-44be-bc13-627da47bad3e",
   "metadata": {},
   "outputs": [
    {
     "name": "stdout",
     "output_type": "stream",
     "text": [
      "# stops in Metro BRT (after filtering): 55\n"
     ]
    }
   ],
   "source": [
    "# This is a manual step, check with map and figure out what goes into this list\n",
    "\n",
    "## unable to filter out non-station stops using GTFS, manual list:\n",
    "metro_street_running =[\n",
    "    '141012', '13805', '5397', '13803',\n",
    "    '13804', '5396', '13802', '5395', '5410', '5411', '13817',\n",
    "    '12304', '5408', '3821', '2603', '3153', '3124', '378', '65300039',\n",
    "    '65300038', '15820', '13460', '4994', '1813', '2378', '5049',\n",
    "    '4652', '2377', '4675', '5040', '65300042', '3674', '15713',\n",
    "    '13561', '5378', '13560', '70500012', '5377', '15612',\n",
    "    '12416', '11917', '12415', '8704'\n",
    "]\n",
    "\n",
    "metro_brt_stops = rail_ferry_brt.additional_brt_filtering_out_stops(\n",
    "    metro_brt_stops, 182, metro_street_running)\n",
    "\n",
    "print(f\"# stops in Metro BRT (after filtering): {len(metro_brt_stops)}\")"
   ]
  },
  {
   "cell_type": "code",
   "execution_count": 8,
   "id": "fd8c3d65-c847-44a3-afd0-d5239e8c8ef3",
   "metadata": {},
   "outputs": [
    {
     "data": {
      "application/vnd.jupyter.widget-view+json": {
       "model_id": "ae177ca026c942679536b862ba946a8c",
       "version_major": 2,
       "version_minor": 0
      },
      "text/plain": [
       "Map(center=[33.79036700366605, -118.28219100000003], controls=(ZoomControl(options=['position', 'zoom_in_text'…"
      ]
     },
     "metadata": {},
     "output_type": "display_data"
    }
   ],
   "source": [
    "#utilities.map_hqta(metro_brt_stops)\n",
    "## OK June 23"
   ]
  },
  {
   "cell_type": "code",
   "execution_count": 9,
   "id": "1f3f3a84-ff2a-430d-bf1a-9b9ad7df9f79",
   "metadata": {},
   "outputs": [],
   "source": [
    "act_brt_stops = rail_ferry_brt.grab_operator_brt(4, analysis_date)"
   ]
  },
  {
   "cell_type": "code",
   "execution_count": 10,
   "id": "501c99f8-5c67-4619-9d2d-26d122275d33",
   "metadata": {},
   "outputs": [
    {
     "data": {
      "application/vnd.jupyter.widget-view+json": {
       "model_id": "374747a2f8204557854e9d09cc4527b0",
       "version_major": 2,
       "version_minor": 0
      },
      "text/plain": [
       "Map(center=[37.721569005280124, -122.1601659999999], controls=(ZoomControl(options=['position', 'zoom_in_text'…"
      ]
     },
     "metadata": {},
     "output_type": "display_data"
    }
   ],
   "source": [
    "#utilities.map_hqta(act_brt_stops)"
   ]
  },
  {
   "cell_type": "code",
   "execution_count": 11,
   "id": "dea32983-6c05-4dbb-b5a8-3964c2665ad9",
   "metadata": {},
   "outputs": [],
   "source": [
    "#omni_brt_stops = rail_ferry_brt.grab_operator_brt(232, analysis_date)\n",
    "## too infrequent!"
   ]
  },
  {
   "cell_type": "code",
   "execution_count": 12,
   "id": "da92e541-49f1-4f2e-ba6d-337456db5346",
   "metadata": {},
   "outputs": [],
   "source": [
    "#utilities.map_hqta(omni_brt_stops)"
   ]
  },
  {
   "cell_type": "code",
   "execution_count": 13,
   "id": "e9ca6416-7fa9-426d-8791-006a868e3585",
   "metadata": {},
   "outputs": [
    {
     "name": "stdout",
     "output_type": "stream",
     "text": [
      "# stops in MUNI BRT: 85\n"
     ]
    }
   ],
   "source": [
    "muni_brt_stops = rail_ferry_brt.grab_operator_brt(282, analysis_date)\n",
    "print(f\"# stops in MUNI BRT: {len(muni_brt_stops)}\")"
   ]
  },
  {
   "cell_type": "code",
   "execution_count": 15,
   "id": "1ad6e2dd-f139-43eb-a1e1-f99b712c9894",
   "metadata": {},
   "outputs": [
    {
     "name": "stdout",
     "output_type": "stream",
     "text": [
      "# stops in MUNI BRT (after filtering): 12\n"
     ]
    }
   ],
   "source": [
    "van_ness_ids = [\n",
    "    '8096', '8097', '18095', '18098', '8094', '8099', '18093', '8100',\n",
    "    '18092', '18101', '18102', '18091', '18103', '8090', '18104', '18089',\n",
    "    '18105', '18088']\n",
    "\n",
    "muni_brt_stops = rail_ferry_brt.additional_brt_filtering_out_stops(\n",
    "    muni_brt_stops, 282, \n",
    "    van_ness_ids)\n",
    "\n",
    "print(f\"# stops in MUNI BRT (after filtering): {len(muni_brt_stops)}\")"
   ]
  },
  {
   "cell_type": "code",
   "execution_count": 16,
   "id": "525d5cf7-c060-4558-b656-982492cbfbcd",
   "metadata": {},
   "outputs": [
    {
     "data": {
      "application/vnd.jupyter.widget-view+json": {
       "model_id": "a2bfa9ca0b9f41b7b1e2e64bdc2921b2",
       "version_major": 2,
       "version_minor": 0
      },
      "text/plain": [
       "Map(center=[37.78291700530728, -122.42086500000002], controls=(ZoomControl(options=['position', 'zoom_in_text'…"
      ]
     },
     "metadata": {},
     "output_type": "display_data"
    }
   ],
   "source": [
    "#utilities.map_hqta(muni_brt_stops)"
   ]
  },
  {
   "cell_type": "markdown",
   "id": "ea66505e-daa9-44bb-b0c8-1d9ca190b243",
   "metadata": {},
   "source": [
    "### Ferry"
   ]
  },
  {
   "cell_type": "code",
   "execution_count": 17,
   "id": "ef266b00-bb1d-4625-b108-94857cc4ccea",
   "metadata": {},
   "outputs": [],
   "source": [
    "ferry_stops = rail_ferry_brt.grab_ferry_data(analysis_date)"
   ]
  },
  {
   "cell_type": "code",
   "execution_count": 18,
   "id": "c4cf42ea-7740-45ed-a2dc-0e769ae90715",
   "metadata": {},
   "outputs": [
    {
     "data": {
      "application/vnd.jupyter.widget-view+json": {
       "model_id": "348df288aceb466b818c57f747da1880",
       "version_major": 2,
       "version_minor": 0
      },
      "text/plain": [
       "Map(center=[32.699209003255, -117.16972], controls=(ZoomControl(options=['position', 'zoom_in_text', 'zoom_in_…"
      ]
     },
     "metadata": {},
     "output_type": "display_data"
    }
   ],
   "source": [
    "#utilities.map_hqta(ferry_stops)"
   ]
  },
  {
   "cell_type": "code",
   "execution_count": null,
   "id": "4e0efe49-5526-47a6-871a-42210353168d",
   "metadata": {},
   "outputs": [],
   "source": []
  }
 ],
 "metadata": {
  "kernelspec": {
   "display_name": "Python 3 (ipykernel)",
   "language": "python",
   "name": "python3"
  },
  "language_info": {
   "codemirror_mode": {
    "name": "ipython",
    "version": 3
   },
   "file_extension": ".py",
   "mimetype": "text/x-python",
   "name": "python",
   "nbconvert_exporter": "python",
   "pygments_lexer": "ipython3",
   "version": "3.10.4"
  }
 },
 "nbformat": 4,
 "nbformat_minor": 5
}
