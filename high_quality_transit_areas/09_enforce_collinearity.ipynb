{
 "cells": [
  {
   "cell_type": "code",
   "execution_count": null,
   "id": "38262382-8e2c-4eb9-86ce-aa4aa251d6d4",
   "metadata": {},
   "outputs": [],
   "source": [
    "import os\n",
    "os.environ[\"CALITP_BQ_MAX_BYTES\"] = str(1_000_000_000_000) ## 1TB?"
   ]
  },
  {
   "cell_type": "code",
   "execution_count": null,
   "id": "5bbd8694-444f-48c0-89a0-00c5c0e542c8",
   "metadata": {},
   "outputs": [],
   "source": [
    "import geopandas as gpd\n",
    "import pandas as pd\n",
    "from siuba import *\n",
    "import numpy as np\n",
    "\n",
    "from segment_speed_utils import helpers, gtfs_schedule_wrangling\n",
    "from shared_utils import rt_dates, gtfs_utils_v2\n",
    "import folium\n",
    "import itertools"
   ]
  },
  {
   "cell_type": "code",
   "execution_count": null,
   "id": "994a67bc-1cbe-4477-ac3b-cbe0f7e4822e",
   "metadata": {},
   "outputs": [],
   "source": [
    "from update_vars import (analysis_date, AM_PEAK, PM_PEAK, EXPORT_PATH, GCS_FILE_PATH, PROJECT_CRS,\n",
    "SEGMENT_BUFFER_METERS, AM_PEAK, PM_PEAK, HQ_TRANSIT_THRESHOLD, MS_TRANSIT_THRESHOLD)"
   ]
  },
  {
   "cell_type": "code",
   "execution_count": null,
   "id": "b263f2d3-1aa3-4576-aac6-a800f12cca19",
   "metadata": {},
   "outputs": [],
   "source": [
    "import sjoin_stops_to_segments"
   ]
  },
  {
   "cell_type": "code",
   "execution_count": null,
   "id": "4706f9e9-03d9-49d7-9b3a-d5044018127e",
   "metadata": {},
   "outputs": [],
   "source": [
    "import create_aggregate_stop_frequencies"
   ]
  },
  {
   "cell_type": "code",
   "execution_count": null,
   "id": "f494bb98-09d9-472c-882c-158c35d391f4",
   "metadata": {},
   "outputs": [],
   "source": [
    "import importlib\n",
    "importlib.reload(create_aggregate_stop_frequencies)"
   ]
  },
  {
   "cell_type": "code",
   "execution_count": null,
   "id": "cd373f3b-6a3a-40c4-8f59-52ad745ae1d7",
   "metadata": {},
   "outputs": [],
   "source": [
    "am_peak_hrs = list(range(AM_PEAK[0].hour, AM_PEAK[1].hour))\n",
    "pm_peak_hrs = list(range(PM_PEAK[0].hour, PM_PEAK[1].hour))\n",
    "both_peaks_hrs = am_peak_hrs + pm_peak_hrs"
   ]
  },
  {
   "cell_type": "code",
   "execution_count": null,
   "id": "fd40c5c1-6d79-4bb0-87bd-18c9053af24b",
   "metadata": {},
   "outputs": [],
   "source": [
    "analysis_date"
   ]
  },
  {
   "cell_type": "code",
   "execution_count": null,
   "id": "fe9470ff-40a3-40d0-aaed-913784f105ac",
   "metadata": {},
   "outputs": [],
   "source": [
    "stop_times = helpers.import_scheduled_stop_times(\n",
    "    analysis_date,\n",
    "    get_pandas = True,\n",
    ")"
   ]
  },
  {
   "cell_type": "code",
   "execution_count": null,
   "id": "c3263a32-1140-41bf-8181-e07be8a4cc5d",
   "metadata": {},
   "outputs": [],
   "source": [
    "stop_times = create_aggregate_stop_frequencies.add_route_dir(stop_times, analysis_date)"
   ]
  },
  {
   "cell_type": "code",
   "execution_count": null,
   "id": "c79c29b2-3f1e-4f0f-a64e-e4bb97ba6cf4",
   "metadata": {},
   "outputs": [],
   "source": [
    "# stop_times >> head(2)"
   ]
  },
  {
   "cell_type": "code",
   "execution_count": null,
   "id": "55413cd4-bf8e-4313-8f17-a80a7b4806dc",
   "metadata": {},
   "outputs": [],
   "source": [
    "st_prepped = stop_times.pipe(create_aggregate_stop_frequencies.prep_stop_times)"
   ]
  },
  {
   "cell_type": "markdown",
   "id": "54fd1d50-74a2-403a-b8a7-9d018d9926d6",
   "metadata": {
    "tags": []
   },
   "source": [
    "## multi logic"
   ]
  },
  {
   "cell_type": "code",
   "execution_count": null,
   "id": "d5e95afa-9078-4f4f-a7d3-f4a6dad36cac",
   "metadata": {},
   "outputs": [],
   "source": [
    "multi_test2 = create_aggregate_stop_frequencies.stop_times_aggregation_max_by_stop(st_prepped, analysis_date, single_route_dir=False)"
   ]
  },
  {
   "cell_type": "markdown",
   "id": "ff21037c-95e1-46f7-a1f7-e77c6b9e3f30",
   "metadata": {
    "tags": []
   },
   "source": [
    "## single logic"
   ]
  },
  {
   "cell_type": "code",
   "execution_count": null,
   "id": "69bd9d0f-997d-4a04-a12b-a63750d5a1b3",
   "metadata": {},
   "outputs": [],
   "source": [
    "single_test2 = create_aggregate_stop_frequencies.stop_times_aggregation_max_by_stop(st_prepped, analysis_date, single_route_dir=True)"
   ]
  },
  {
   "cell_type": "markdown",
   "id": "69a031d0-c805-4ef1-b558-7e52749c9b95",
   "metadata": {},
   "source": [
    "## create count of shared stops between each route_dir"
   ]
  },
  {
   "cell_type": "code",
   "execution_count": null,
   "id": "7fd3c3bc-475b-486b-af29-5b5d4ecd99af",
   "metadata": {},
   "outputs": [],
   "source": [
    "min_freq = min([HQ_TRANSIT_THRESHOLD, MS_TRANSIT_THRESHOLD])"
   ]
  },
  {
   "cell_type": "code",
   "execution_count": null,
   "id": "ad2fa6a1-5447-4c87-a3c8-6354ac47b480",
   "metadata": {},
   "outputs": [],
   "source": [
    "def get_explode_multiroute_only(\n",
    "    single_route_aggregation: pd.DataFrame,\n",
    "    multi_route_aggregation: pd.DataFrame,\n",
    "    min_freqency: int\n",
    ") -> pd.DataFrame:\n",
    "    '''\n",
    "    Shrink the problem space for the compute-intensive collinearity screen.\n",
    "    First, get stops with any chance of qualifying as a major stop/hq corr for\n",
    "    both single and multi-route aggregations.\n",
    "    Then get stops that appear in multi-route qualifiers only, these will go to\n",
    "    further processing.\n",
    "    '''\n",
    "    single_qual = single_route_aggregation >> filter(_.am_max_trips_hr >= min_freqency, _.pm_max_trips_hr >= min_freqency)\n",
    "    multi_qual = multi_route_aggregation >> filter(_.am_max_trips_hr >= min_freqency, _.pm_max_trips_hr >= min_freqency)\n",
    "    multi_only = multi_qual >> anti_join(_, single_qual, on=['schedule_gtfs_dataset_key', 'stop_id'])\n",
    "    print(f'{multi_only.shape[0]} stops may qualify with multi-route aggregation')\n",
    "    multi_only_explode = (multi_only[['schedule_gtfs_dataset_key', 'stop_id', 'route_dir']]\n",
    "    .explode('route_dir')\n",
    "    .sort_values(['schedule_gtfs_dataset_key','stop_id', 'route_dir'])) #  sorting crucial for next step\n",
    "    return multi_only_explode"
   ]
  },
  {
   "cell_type": "code",
   "execution_count": null,
   "id": "609c507c-ecc4-411f-973b-31dfb150f317",
   "metadata": {},
   "outputs": [],
   "source": [
    "multi_only_explode = get_explode_multiroute_only(single_test2, multi_test2, min([HQ_TRANSIT_THRESHOLD, MS_TRANSIT_THRESHOLD]))"
   ]
  },
  {
   "cell_type": "code",
   "execution_count": null,
   "id": "f19da3a6-2119-4f24-b736-e8451ec956cc",
   "metadata": {},
   "outputs": [],
   "source": [
    "multi_only_explode >> head(3)"
   ]
  },
  {
   "cell_type": "code",
   "execution_count": null,
   "id": "1f581e78-f05b-4713-a65d-c27d28bdd148",
   "metadata": {},
   "outputs": [],
   "source": [
    "def accumulate_share_count(route_dir_exploded: pd.DataFrame):\n",
    "    '''\n",
    "    For use via pd.DataFrame.groupby.apply\n",
    "    Accumulate the number of times each route_dir shares stops with\n",
    "    each other in a dictionary (share_counts)\n",
    "    '''\n",
    "    global share_counts\n",
    "    rt_dir = route_dir_exploded.route_dir.to_numpy()\n",
    "    schedule_gtfs_dataset_key = route_dir_exploded.schedule_gtfs_dataset_key.iloc[0]\n",
    "    for route_dir in rt_dir:\n",
    "        route = route_dir.split('_')[0] #  don't compare opposite dirs of same route, leads to edge cases like AC Transit 45\n",
    "        other_dirs = [x for x in rt_dir if x != route_dir and x.split('_')[0] != route]\n",
    "        for other_dir in other_dirs:\n",
    "            key = schedule_gtfs_dataset_key+'__'+route_dir+'__'+other_dir\n",
    "            if key in share_counts.keys():\n",
    "                share_counts[key] += 1\n",
    "            else:\n",
    "                share_counts[key] = 1"
   ]
  },
  {
   "cell_type": "code",
   "execution_count": null,
   "id": "3a117a2b-1ca5-4c7c-ae33-62763f5db66b",
   "metadata": {},
   "outputs": [],
   "source": [
    "share_counts = {}\n",
    "multi_only_explode.groupby(['schedule_gtfs_dataset_key', 'stop_id']).apply(accumulate_share_count)"
   ]
  },
  {
   "cell_type": "code",
   "execution_count": null,
   "id": "37cec4a9-757f-4a7e-a980-5a2052f31b8c",
   "metadata": {
    "tags": []
   },
   "outputs": [],
   "source": [
    "# share_counts"
   ]
  },
  {
   "cell_type": "code",
   "execution_count": null,
   "id": "5bc40fa7-825d-416a-ad3e-e5a081bb1524",
   "metadata": {},
   "outputs": [],
   "source": [
    "s = pd.Series(share_counts.values())"
   ]
  },
  {
   "cell_type": "code",
   "execution_count": null,
   "id": "53d2e6d7-2adc-4b14-b290-af783d707b14",
   "metadata": {},
   "outputs": [],
   "source": [
    "(s[s<11]).hist()"
   ]
  },
  {
   "cell_type": "markdown",
   "id": "d839566e-7cc0-4345-b835-ce5a77ab70cc",
   "metadata": {},
   "source": [
    "### Which threshold?\n",
    "\n",
    "* 8 catches Muni 48 and 66, which are somewhat marginal but not an edge case per se"
   ]
  },
  {
   "cell_type": "code",
   "execution_count": null,
   "id": "92b8ffc8-b4f8-4aec-bc2c-a0b027be1d3a",
   "metadata": {
    "tags": []
   },
   "outputs": [],
   "source": [
    "# qualify"
   ]
  },
  {
   "cell_type": "markdown",
   "id": "d3faa0af-7b24-402d-9f68-3d61acc6cb9e",
   "metadata": {},
   "source": [
    "## lookup function/filtering steps\n",
    "\n",
    "1. If a feed has no route_direction pairs qualifying, by definition no stops will qualify. Can exclude feed from next steps.\n",
    "1. Get a list of unique feeds where at least one route_directions pair qualifies to evaluate.\n",
    "1. Get stop_times filtered to that feed, and filter that to stops that only qualify with multiple routes, and route directions that pair with at least one other route_direction.\n",
    "1. After that filtering, check again if stop_times includes the minimum frequency to qualify at each stop. Exclude stops where it doesn't.\n",
    "1. Then... evaluate which route_directions can be aggregated at each remaining stop. From the full list of route_directions (sorted by frequency) serving the stop, use `list(itertools.combinations(this_stop_route_dirs, 2))` to get each unique pair of route_directions. Check each of those unique pairs to see if it meets the `SHARED_STOP_THRESHOLD`. If they all do, keep all stop_times entries for that stop, different route_directions can be aggregated together at that stop. If any do not, remove the least frequent route_direction and try again, until a subset passes (only keep stop_times for that subset) or until all are eliminated. Currently implemented recursively as below:\n",
    "\n",
    "    ```\n",
    "    attempting ['103_1', '101_1', '102_1', '104_1']... subsetting...\n",
    "    attempting ['103_1', '101_1', '102_1']... subsetting...\n",
    "    attempting ['103_1', '101_1']... matched!\n",
    "\n",
    "    attempting ['103_1', '101_0', '101_1', '103_0']... subsetting...\n",
    "    attempting ['103_1', '101_0', '101_1']... subsetting...\n",
    "    attempting ['103_1', '101_0']... subsetting...\n",
    "    exhausted!\n",
    "    ```\n",
    "\n",
    "1. With that filtered stop_times, recalculate stop-level frequencies as before. Only keep stops meeting the minimum frequency threshold for a major stop or HQ corridor.\n",
    "1. Finally, once again apply the `SHARED_STOP_THRESHOLD` after aggregation (by ensuring at least one route_dir at each stop has >= `SHARED_STOP_THRESHOLD` frequent stops). Exclude stops that don't meet this criteria.\n",
    "\n",
    "### edge cases:\n",
    "\n",
    "[AC Transit 45](https://www.actransit.org/sites/default/files/timetable_files/45-2023_12_03.pdf) _Opposite directions share a same-direction loop._ __Solved__ by preventing the same route from being compared with itself in the opposite direction.\n",
    "\n",
    "[SDMTS 944/945](https://www.sdmts.com/sites/default/files/routes/pdf/944.pdf) _Shared frequent stops are few, and these routes are isolated._ __Solved__ by once again applying the `SHARED_STOP_THRESHOLD` after aggregation (by ensuring at least one route_dir at each stop has >= `SHARED_STOP_THRESHOLD` frequent stops). Complex typology including a loop route, each pair of [944, 945, 945A(946)] has >= threshold... but not actually in the same spots!"
   ]
  },
  {
   "cell_type": "code",
   "execution_count": null,
   "id": "9afd273d-895b-4594-9a94-0ece5e39df01",
   "metadata": {},
   "outputs": [],
   "source": [
    "SHARED_STOP_THRESHOLD = 8 #  current rec\n",
    "qualify = {key: share_counts[key] for key in share_counts.keys() if share_counts[key] >= SHARED_STOP_THRESHOLD}"
   ]
  },
  {
   "cell_type": "code",
   "execution_count": null,
   "id": "edc6dd56-acf5-4702-ae0c-754b355b0c7d",
   "metadata": {},
   "outputs": [],
   "source": [
    "feeds_to_filter = np.unique([key.split('__')[0] for key in qualify.keys()])"
   ]
  },
  {
   "cell_type": "code",
   "execution_count": null,
   "id": "d22c2697-e41a-4411-8133-1800d0ae572a",
   "metadata": {},
   "outputs": [],
   "source": [
    "feeds_no_qualify = np.unique([key.split('__')[0] for key in share_counts.keys() if key.split('__')[0] not in feeds_to_filter])"
   ]
  },
  {
   "cell_type": "code",
   "execution_count": null,
   "id": "3d5254e9-33fe-464a-8d85-57d045b9ecee",
   "metadata": {},
   "outputs": [],
   "source": [
    "from calitp_data_analysis.tables import tbls"
   ]
  },
  {
   "cell_type": "code",
   "execution_count": null,
   "id": "dc909766-9a1b-4682-841d-a7516c186bd2",
   "metadata": {},
   "outputs": [],
   "source": [
    "feeds_no_qualify = tbls.mart_transit_database.dim_gtfs_service_data() >> filter(_.gtfs_dataset_key.isin(feeds_no_qualify)) >> distinct(_.name, _.gtfs_dataset_key) >> collect()"
   ]
  },
  {
   "cell_type": "code",
   "execution_count": null,
   "id": "264eefd5-2a77-4533-a4b5-df4ad95bde3c",
   "metadata": {},
   "outputs": [],
   "source": [
    "feed_names = (tbls.mart_transit_database.dim_gtfs_service_data() >> filter(_.gtfs_dataset_key.isin(feeds_to_filter))\n",
    " >> distinct(_.name, _.gtfs_dataset_key)\n",
    " >> collect()\n",
    ")"
   ]
  },
  {
   "cell_type": "code",
   "execution_count": null,
   "id": "f253a870-d7d2-46f1-b766-ce9785ed5fda",
   "metadata": {},
   "outputs": [],
   "source": [
    "feed_names_filtered = feed_names >> filter(_.name.str.contains('Long'))\n",
    "display(feed_names_filtered)\n",
    "gtfs_dataset_key = feed_names_filtered.gtfs_dataset_key.iloc[0]"
   ]
  },
  {
   "cell_type": "code",
   "execution_count": null,
   "id": "6f6ea7b6-26ea-4b9a-af4e-cdd507a403c1",
   "metadata": {},
   "outputs": [],
   "source": [
    "# dataset_key = '015d67d5b75b5cf2b710bbadadfb75f5' #  Marin\n",
    "# dataset_key = '3c62ad6ee589d56eca915ce291a5df0a' #  Yolobus 42A and 42B share 5+ stops so they match, which isn't desirable.\n",
    "# dataset_key = '70c8a8b71c815224299523bf2115924a' #  SacRT\n",
    "# dataset_key = '63029a23cb0e73f2a5d98a345c5e2e40' #  Elk Grove\n",
    "# dataset_key = 'f1b35a50955aeb498533c1c6fdafbe44' #  LBT"
   ]
  },
  {
   "cell_type": "code",
   "execution_count": null,
   "id": "c2c3c588-ecb0-4076-b62f-5fa3d74c7da3",
   "metadata": {},
   "outputs": [],
   "source": [
    "def feed_level_filter(\n",
    "gtfs_dataset_key: str,\n",
    "multi_only_explode: pd.DataFrame,\n",
    "qualify_dict: dict,\n",
    "st_prepped: pd.DataFrame\n",
    ") -> pd.DataFrame:\n",
    "    '''\n",
    "    For a single feed, filter potential stop_times to evaluate based on if their route_dir\n",
    "    appears at all in qualifying route_dir dict, recheck if there's any chance those stops\n",
    "    could qualify. Further shrinks problem space for check_stop lookup step\n",
    "    '''\n",
    "\n",
    "    this_feed_qual = {key.split(gtfs_dataset_key)[1][2:]:qualify_dict[key] for key in qualify_dict.keys() if key.split('__')[0] == gtfs_dataset_key}\n",
    "    qualify_pairs = [tuple(key.split('__')) for key in this_feed_qual.keys()]\n",
    "    arr = np.array(qualify_pairs[0])\n",
    "    for pair in qualify_pairs[1:]: arr = np.append(arr, np.array(pair))\n",
    "    any_appearance = np.unique(arr)\n",
    "\n",
    "    #  only need to check stops that qualify as multi-route only\n",
    "    stops_to_eval = multi_only_explode >> filter(_.schedule_gtfs_dataset_key == gtfs_dataset_key) >> distinct(_.stop_id)\n",
    "    st_prepped = st_prepped >> filter(_.schedule_gtfs_dataset_key == gtfs_dataset_key,\n",
    "                                      _.stop_id.isin(stops_to_eval.stop_id),\n",
    "                                     )\n",
    "    print(f'{st_prepped.shape}')\n",
    "    st_to_eval = st_prepped >> filter(_.route_dir.isin(any_appearance))\n",
    "    print(f'{st_to_eval.shape}')\n",
    "    #  cut down problem space by checking if stops still could qual after filtering for any appearance\n",
    "    min_rows = min_freq * len(both_peaks_hrs)\n",
    "    st_could_qual = (st_to_eval >> group_by(_.stop_id)\n",
    "     >> mutate(could_qualify = _.shape[0] >= min_rows)\n",
    "     >> ungroup()\n",
    "     >> filter(_.could_qualify)\n",
    "    )\n",
    "    print(f'{st_could_qual.shape}')\n",
    "    return st_could_qual, qualify_pairs"
   ]
  },
  {
   "cell_type": "code",
   "execution_count": null,
   "id": "43a0d51d-be2a-4da0-85e7-627c62659f61",
   "metadata": {
    "tags": []
   },
   "outputs": [],
   "source": [
    "# st_could_qual, qualify_pairs = feed_level_filter(gtfs_dataset_key, multi_only_explode, qualify, st_prepped)"
   ]
  },
  {
   "cell_type": "code",
   "execution_count": null,
   "id": "ca76a557-3947-48bc-aa26-ba8a270af4b5",
   "metadata": {},
   "outputs": [],
   "source": [
    "def check_stop(this_stop_route_dirs, qualify_pairs):\n",
    "    #  check if all possible combinations included\n",
    "    this_stop_route_dirs = list(this_stop_route_dirs)\n",
    "    if len(this_stop_route_dirs) == 1:\n",
    "        print('exhausted!')\n",
    "        return []\n",
    "    print(f'attempting {this_stop_route_dirs}... ', end='')\n",
    "    stop_route_dir_pairs = list(itertools.combinations(this_stop_route_dirs, 2))\n",
    "    checks = np.array([True if rt_dir in qualify_pairs else False for rt_dir in stop_route_dir_pairs])\n",
    "    if checks.all():\n",
    "        print(f'matched!')\n",
    "        return this_stop_route_dirs\n",
    "    else:\n",
    "        print('subsetting...')\n",
    "        this_stop_route_dirs.pop(-1)\n",
    "        return check_stop(this_stop_route_dirs, qualify_pairs)"
   ]
  },
  {
   "cell_type": "code",
   "execution_count": null,
   "id": "b3201f56-6953-42cf-94c5-16f7fcc44585",
   "metadata": {},
   "outputs": [],
   "source": [
    "# check_stop(['no', 'nyet', 'bazz', 'fizz', 'buzz'], qualify_pairs)"
   ]
  },
  {
   "cell_type": "code",
   "execution_count": null,
   "id": "d7f1cf16-ff3f-4128-927a-b13eed4cf717",
   "metadata": {},
   "outputs": [],
   "source": [
    "def filter_qualifying_stops(one_stop_df, qualify_pairs):\n",
    "\n",
    "    one_stop_df = (one_stop_df >> group_by(_.route_dir)\n",
    "                >> mutate(route_dir_count = _.shape[0]) >> ungroup()\n",
    "                >> arrange(-_.route_dir_count)\n",
    "               )\n",
    "    this_stop_route_dirs = (one_stop_df >> distinct(_.route_dir, _.route_dir_count)).route_dir.to_numpy() #  preserves sort order\n",
    "    aggregation_ok_route_dirs = check_stop(this_stop_route_dirs, qualify_pairs)\n",
    "    return one_stop_df >> filter(_.route_dir.isin(aggregation_ok_route_dirs))"
   ]
  },
  {
   "cell_type": "markdown",
   "id": "5ec04c81-1376-4357-b807-193dd27cf6a2",
   "metadata": {},
   "source": [
    "## unify function, try looping over all feeds?"
   ]
  },
  {
   "cell_type": "code",
   "execution_count": null,
   "id": "26a97b9c-61e2-4af1-b764-2612bc12b8e8",
   "metadata": {},
   "outputs": [],
   "source": [
    "def collinear_filter_feed(\n",
    "    gtfs_dataset_key: str,\n",
    "    multi_only_explode: pd.DataFrame,\n",
    "    qualify_dict: dict,\n",
    "    st_prepped: pd.DataFrame\n",
    "):\n",
    "    \n",
    "    st_could_qual, qualify_pairs = feed_level_filter(gtfs_dataset_key, multi_only_explode, qualify, st_prepped)\n",
    "    st_qual_filter_1 = st_could_qual.groupby('stop_id').apply(filter_qualifying_stops, qualify_pairs=qualify_pairs)\n",
    "    st_qual_filter_1 = st_qual_filter_1.reset_index(drop=True)\n",
    "    if st_qual_filter_1.empty: return\n",
    "    feed_key = st_qual_filter_1.feed_key.iloc[0]\n",
    "    trips_per_peak_qual_1 = create_aggregate_stop_frequencies.stop_times_aggregation_max_by_stop(st_qual_filter_1, analysis_date, single_route_dir=False)\n",
    "    trips_per_peak_qual_1 = trips_per_peak_qual_1 >> filter(_.am_max_trips_hr >= min_freq, _.pm_max_trips_hr >= min_freq)\n",
    "    short_routes = trips_per_peak_qual_1.explode('route_dir') >> count(_.route_dir) >> filter(_.n < SHARED_STOP_THRESHOLD)\n",
    "    print('short routes, all_short stops:')\n",
    "    display(short_routes)\n",
    "    trips_per_peak_qual_1['all_short'] = trips_per_peak_qual_1.route_dir.map(\n",
    "        lambda x: np.array([True if y in list(short_routes.route_dir) else False for y in x]).all())\n",
    "    display(trips_per_peak_qual_1 >> filter(_.all_short)) #  stops where _every_ shared route has less than SHARED_STOP_THRESHOLD frequent stops (even after aggregation)\n",
    "    trips_per_peak_qual_2 = trips_per_peak_qual_1 >> filter(-_.all_short)\n",
    "    trips_per_peak_qual_2['feed_key'] = feed_key #  for mapping in dev, can get rid of\n",
    "    \n",
    "    return trips_per_peak_qual_2"
   ]
  },
  {
   "cell_type": "code",
   "execution_count": null,
   "id": "39324385-8eb0-477b-b93e-08301137d18d",
   "metadata": {
    "tags": []
   },
   "outputs": [],
   "source": [
    "# muni_final = collinear_filter_feed(dataset_key, multi_only_explode, qualify, st_prepped)"
   ]
  },
  {
   "cell_type": "code",
   "execution_count": null,
   "id": "0fefb42f-31a2-4f9a-9642-a66965b494ca",
   "metadata": {
    "tags": []
   },
   "outputs": [],
   "source": [
    "# lbt = collinear_filter_feed(gtfs_dataset_key, multi_only_explode, qualify, st_prepped)"
   ]
  },
  {
   "cell_type": "code",
   "execution_count": null,
   "id": "9e1c4e80-a1f0-48b1-9eee-d1368f6b3b85",
   "metadata": {
    "tags": []
   },
   "outputs": [],
   "source": [
    "# %%time 40 seconds (on default user) is not too bad! \n",
    "all_collinear = pd.DataFrame()\n",
    "for gtfs_dataset_key in feeds_to_filter:\n",
    "    df = collinear_filter_feed(gtfs_dataset_key, multi_only_explode, qualify, st_prepped)\n",
    "    all_collinear = pd.concat([df, all_collinear])"
   ]
  },
  {
   "cell_type": "markdown",
   "id": "e3108b92-f912-433d-a148-3c7cc892e77c",
   "metadata": {},
   "source": [
    "## Map single result"
   ]
  },
  {
   "cell_type": "code",
   "execution_count": null,
   "id": "caea4694-0ba2-4bf1-bfbb-1d41dd42805f",
   "metadata": {},
   "outputs": [],
   "source": [
    "stops = helpers.import_scheduled_stops(\n",
    "    analysis_date,\n",
    "    get_pandas = True,\n",
    "    crs = PROJECT_CRS\n",
    ")\n",
    "\n",
    "stops = stops >> inner_join(_, stop_times>>distinct(_.feed_key, _.schedule_gtfs_dataset_key), on='feed_key')"
   ]
  },
  {
   "cell_type": "code",
   "execution_count": null,
   "id": "0fe6b0cd-e23a-4900-b3c0-128b4ffc32b8",
   "metadata": {},
   "outputs": [],
   "source": [
    "# gdf = stops >> inner_join(_, lbt, on = ['feed_key', 'stop_id']) >> distinct(_.stop_id, _.geometry)"
   ]
  },
  {
   "cell_type": "code",
   "execution_count": null,
   "id": "2b238791-62eb-4dfb-a62f-68ec4cd774a4",
   "metadata": {},
   "outputs": [],
   "source": [
    "# gdf.explore()"
   ]
  },
  {
   "cell_type": "markdown",
   "id": "612e4a4b-8684-4087-a5ff-6a51716fd717",
   "metadata": {
    "tags": []
   },
   "source": [
    "## Map overall results"
   ]
  },
  {
   "cell_type": "code",
   "execution_count": null,
   "id": "3a277637-a8dc-4d1e-81a2-83c2adb38afa",
   "metadata": {},
   "outputs": [],
   "source": [
    "min_freqency = min([HQ_TRANSIT_THRESHOLD, MS_TRANSIT_THRESHOLD])"
   ]
  },
  {
   "cell_type": "code",
   "execution_count": null,
   "id": "a0cc20f0-d5c0-4c0a-92e4-d3fd653cce66",
   "metadata": {},
   "outputs": [],
   "source": [
    "single_qual = single_test2 >> filter(_.am_max_trips_hr >= min_freqency, _.pm_max_trips_hr >= min_freqency)"
   ]
  },
  {
   "cell_type": "code",
   "execution_count": null,
   "id": "c35343bf-135a-4d16-beca-5fd288e89471",
   "metadata": {},
   "outputs": [],
   "source": [
    "multi_qual = multi_test2 >> filter(_.am_max_trips_hr >= min_freqency, _.pm_max_trips_hr >= min_freqency, _.route_dir_count > 1)"
   ]
  },
  {
   "cell_type": "code",
   "execution_count": null,
   "id": "ca587eb6-c949-4777-9e9b-5cb121b1111b",
   "metadata": {},
   "outputs": [],
   "source": [
    "multi_only = multi_qual >> anti_join(_, single_qual, on=['schedule_gtfs_dataset_key', 'stop_id'])"
   ]
  },
  {
   "cell_type": "code",
   "execution_count": null,
   "id": "f767a5f3-3953-40e7-8f70-666a57b1deb8",
   "metadata": {},
   "outputs": [],
   "source": [
    "gdf = (stops >> inner_join(_, multi_only, on = ['stop_id', 'schedule_gtfs_dataset_key'])\n",
    "       >> mutate(route_dir = _.route_dir.astype(str))\n",
    "       >> distinct(_.stop_id, _.route_dir, _.am_max_trips_hr,\n",
    "            _.pm_max_trips_hr, _.geometry)\n",
    "       \n",
    "      )"
   ]
  },
  {
   "cell_type": "code",
   "execution_count": null,
   "id": "f4be83c5-e8cc-419f-a28c-9294896819a1",
   "metadata": {},
   "outputs": [],
   "source": [
    "gdf2 = (stops >> inner_join(_, all_collinear, on = ['stop_id', 'schedule_gtfs_dataset_key'])\n",
    "       >> mutate(route_dir = _.route_dir.astype(str))\n",
    "       >> distinct(_.stop_id, _.route_dir, _.am_max_trips_hr,\n",
    "            _.pm_max_trips_hr, _.geometry)\n",
    "       \n",
    "      )"
   ]
  },
  {
   "cell_type": "code",
   "execution_count": null,
   "id": "d6c66a03-635e-4eb7-9728-644f95980d96",
   "metadata": {},
   "outputs": [],
   "source": [
    "gdf3 = (stops >> inner_join(_, single_qual, on = ['stop_id', 'schedule_gtfs_dataset_key'])\n",
    "       >> mutate(route_dir = _.route_dir.astype(str))\n",
    "       >> distinct(_.stop_id, _.route_dir, _.am_max_trips_hr,\n",
    "            _.pm_max_trips_hr, _.geometry)\n",
    "       \n",
    "      )"
   ]
  },
  {
   "cell_type": "code",
   "execution_count": null,
   "id": "8ef04021-cf82-4b4e-b52b-a96e253ff1f5",
   "metadata": {},
   "outputs": [],
   "source": [
    "# gdf.explore()\n",
    "\n",
    "m = gdf.explore(color='orange')"
   ]
  },
  {
   "cell_type": "code",
   "execution_count": null,
   "id": "40725a20-bc5a-4cc2-b7fb-4c99fd42d893",
   "metadata": {},
   "outputs": [],
   "source": [
    "m = gdf3.explore(color='blue', m=m)"
   ]
  },
  {
   "cell_type": "code",
   "execution_count": null,
   "id": "55140c86-69f5-4617-a787-395eae644ec1",
   "metadata": {},
   "outputs": [],
   "source": [
    "m = gdf2.explore(m = m, color='red')"
   ]
  },
  {
   "cell_type": "code",
   "execution_count": null,
   "id": "87de4b67-03cc-4555-9c8e-345820bee964",
   "metadata": {},
   "outputs": [],
   "source": [
    "folium.LayerControl().add_to(m);"
   ]
  },
  {
   "cell_type": "code",
   "execution_count": null,
   "id": "675f3e4c-b342-4394-bc1a-131efc405ba6",
   "metadata": {},
   "outputs": [],
   "source": [
    "m #  8 threshold"
   ]
  },
  {
   "cell_type": "code",
   "execution_count": null,
   "id": "6b8c2f48-7dc0-482e-92f8-488d61ff72ff",
   "metadata": {},
   "outputs": [],
   "source": [
    "gdf.shape"
   ]
  },
  {
   "cell_type": "code",
   "execution_count": null,
   "id": "2971590e-053f-4952-94f6-680fe7c848b9",
   "metadata": {},
   "outputs": [],
   "source": [
    "gdf2.shape"
   ]
  },
  {
   "cell_type": "code",
   "execution_count": null,
   "id": "79d4e638-f597-41b6-89de-5d7e849db7cb",
   "metadata": {},
   "outputs": [],
   "source": [
    "gdf3.shape"
   ]
  },
  {
   "cell_type": "code",
   "execution_count": null,
   "id": "53d76585-513e-4e63-b27f-0e0f9b55d59a",
   "metadata": {},
   "outputs": [],
   "source": [
    "all_collinear"
   ]
  },
  {
   "cell_type": "code",
   "execution_count": null,
   "id": "1f934aeb-6e4d-4496-aece-10af5ecf4ffb",
   "metadata": {},
   "outputs": [],
   "source": [
    "single_qual.min()"
   ]
  },
  {
   "cell_type": "code",
   "execution_count": null,
   "id": "134b381c-b0dd-46f5-9bef-01eb96549f70",
   "metadata": {},
   "outputs": [],
   "source": [
    "all_collinear.am_max_trips_hr.min()"
   ]
  },
  {
   "cell_type": "code",
   "execution_count": null,
   "id": "9feea121-0248-4c36-9aeb-b1ca3b1daf8b",
   "metadata": {},
   "outputs": [],
   "source": [
    "all_collinear.pm_max_trips_hr.min()"
   ]
  }
 ],
 "metadata": {
  "kernelspec": {
   "display_name": "Python 3 (ipykernel)",
   "language": "python",
   "name": "python3"
  },
  "language_info": {
   "codemirror_mode": {
    "name": "ipython",
    "version": 3
   },
   "file_extension": ".py",
   "mimetype": "text/x-python",
   "name": "python",
   "nbconvert_exporter": "python",
   "pygments_lexer": "ipython3",
   "version": "3.9.13"
  },
  "widgets": {
   "application/vnd.jupyter.widget-state+json": {
    "state": {},
    "version_major": 2,
    "version_minor": 0
   }
  }
 },
 "nbformat": 4,
 "nbformat_minor": 5
}
