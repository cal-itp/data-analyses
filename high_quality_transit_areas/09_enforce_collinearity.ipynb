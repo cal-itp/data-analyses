{
 "cells": [
  {
   "cell_type": "code",
   "execution_count": null,
   "id": "38262382-8e2c-4eb9-86ce-aa4aa251d6d4",
   "metadata": {},
   "outputs": [],
   "source": [
    "import os\n",
    "os.environ[\"CALITP_BQ_MAX_BYTES\"] = str(1_000_000_000_000) ## 1TB?"
   ]
  },
  {
   "cell_type": "code",
   "execution_count": null,
   "id": "5bbd8694-444f-48c0-89a0-00c5c0e542c8",
   "metadata": {},
   "outputs": [],
   "source": [
    "import geopandas as gpd\n",
    "import pandas as pd\n",
    "from siuba import *\n",
    "import numpy as np\n",
    "\n",
    "from segment_speed_utils import helpers, gtfs_schedule_wrangling\n",
    "from shared_utils import rt_dates, gtfs_utils_v2\n",
    "import folium"
   ]
  },
  {
   "cell_type": "code",
   "execution_count": null,
   "id": "994a67bc-1cbe-4477-ac3b-cbe0f7e4822e",
   "metadata": {},
   "outputs": [],
   "source": [
    "from update_vars import (analysis_date, AM_PEAK, PM_PEAK, EXPORT_PATH, GCS_FILE_PATH, PROJECT_CRS,\n",
    "SEGMENT_BUFFER_METERS, AM_PEAK, PM_PEAK, HQ_TRANSIT_THRESHOLD, MS_TRANSIT_THRESHOLD)"
   ]
  },
  {
   "cell_type": "code",
   "execution_count": null,
   "id": "b263f2d3-1aa3-4576-aac6-a800f12cca19",
   "metadata": {},
   "outputs": [],
   "source": [
    "import sjoin_stops_to_segments"
   ]
  },
  {
   "cell_type": "code",
   "execution_count": null,
   "id": "fd40c5c1-6d79-4bb0-87bd-18c9053af24b",
   "metadata": {},
   "outputs": [],
   "source": [
    "analysis_date"
   ]
  },
  {
   "cell_type": "code",
   "execution_count": null,
   "id": "fe9470ff-40a3-40d0-aaed-913784f105ac",
   "metadata": {},
   "outputs": [],
   "source": [
    "imported_st = helpers.import_scheduled_stop_times(\n",
    "    analysis_date,\n",
    "    get_pandas = True,\n",
    ")"
   ]
  },
  {
   "cell_type": "code",
   "execution_count": null,
   "id": "9e2ef847-2f88-4f69-ae60-dd01bfdf526b",
   "metadata": {},
   "outputs": [],
   "source": [
    "import importlib\n",
    "\n",
    "importlib.reload(sjoin_stops_to_segments)"
   ]
  },
  {
   "cell_type": "code",
   "execution_count": null,
   "id": "0b6f850f-6038-4687-bd22-68552334fd2b",
   "metadata": {
    "tags": []
   },
   "outputs": [],
   "source": [
    "# # (1) Aggregate stop times - by stop_id, find max trips in AM/PM peak\n",
    "# # takes 1 min\n",
    "# max_arrivals_by_stop = imported_st.pipe(sjoin_stops_to_segments.prep_stop_times).pipe(sjoin_stops_to_segments.stop_times_aggregation_max_by_stop, analysis_date)"
   ]
  },
  {
   "cell_type": "code",
   "execution_count": null,
   "id": "d9772373-43a4-40c4-b7c6-b0550cbb9ad0",
   "metadata": {},
   "outputs": [],
   "source": [
    "# # (1) Aggregate stop times - by stop_id, find max trips in AM/PM peak\n",
    "# # takes 1 min\n",
    "# max_arrivals_by_stop_single = imported_st.pipe(\n",
    "#     sjoin_stops_to_segments.stop_times_aggregation_max_by_stop, analysis_date, single_route_dir=True)"
   ]
  },
  {
   "cell_type": "markdown",
   "id": "54fd1d50-74a2-403a-b8a7-9d018d9926d6",
   "metadata": {},
   "source": [
    "## multi logic"
   ]
  },
  {
   "cell_type": "code",
   "execution_count": null,
   "id": "c15c628f-d4bb-47a1-aa2a-c5fb0c7e346d",
   "metadata": {},
   "outputs": [],
   "source": [
    "trips = helpers.import_scheduled_trips(\n",
    "    analysis_date,\n",
    "    columns = [\"feed_key\", \"gtfs_dataset_key\", \"trip_id\",\n",
    "               \"route_id\", \"direction_id\"],\n",
    "    get_pandas = True\n",
    ")\n",
    "\n",
    "trips = imported_st.merge(\n",
    "    trips,\n",
    "    on = [\"feed_key\", \"trip_id\"]\n",
    ")"
   ]
  },
  {
   "cell_type": "code",
   "execution_count": null,
   "id": "cff5c84b-947c-467d-9889-8616a2f90089",
   "metadata": {},
   "outputs": [],
   "source": [
    "trips.direction_id = trips.direction_id.fillna(0).round(0).astype(str)\n",
    "trips['route_dir'] = trips[['route_id', 'direction_id']].agg('_'.join, axis=1)"
   ]
  },
  {
   "cell_type": "code",
   "execution_count": null,
   "id": "55413cd4-bf8e-4313-8f17-a80a7b4806dc",
   "metadata": {},
   "outputs": [],
   "source": [
    "st_prepped = trips.pipe(sjoin_stops_to_segments.prep_stop_times)"
   ]
  },
  {
   "cell_type": "code",
   "execution_count": null,
   "id": "50b7345a-2018-4f30-90b7-e0ded992184d",
   "metadata": {},
   "outputs": [],
   "source": [
    "cols = [\"schedule_gtfs_dataset_key\", \"stop_id\", \"peak\"]\n",
    "# cols = [\"schedule_gtfs_dataset_key\", \"stop_id\", \"peak\",\n",
    "#        \"route_id\", \"direction_id\"]"
   ]
  },
  {
   "cell_type": "code",
   "execution_count": null,
   "id": "8d947827-0492-4511-8376-86d32940e097",
   "metadata": {},
   "outputs": [],
   "source": [
    "trips_per_peak_multi = gtfs_schedule_wrangling.stop_arrivals_per_stop(\n",
    "    st_prepped,\n",
    "    group_cols = cols,\n",
    "    count_col = \"trip_id\",\n",
    "    route_dir_array = True\n",
    ").rename(columns = {\"n_arrivals\": \"n_trips\"})"
   ]
  },
  {
   "cell_type": "code",
   "execution_count": null,
   "id": "e4072ea5-7e45-4d18-906c-e52bbcfd4877",
   "metadata": {},
   "outputs": [],
   "source": [
    "stop_cols = [\"schedule_gtfs_dataset_key\", \"stop_id\"]\n",
    "trips_per_hour_cols = [\"peak\"]"
   ]
  },
  {
   "cell_type": "code",
   "execution_count": null,
   "id": "75d2dfd1-8271-450d-9257-aa0dd77ace76",
   "metadata": {},
   "outputs": [],
   "source": [
    "def last_bit(trips_per_peak_period):\n",
    "\n",
    "    am_trips = (trips_per_peak_period[trips_per_peak_period.peak == 'am_peak']\n",
    "                .rename(columns = {\"n_trips\": \"am_max_trips\"})\n",
    "                .drop(columns=\"peak\")\n",
    "               )\n",
    "    pm_trips = (trips_per_peak_period[trips_per_peak_period.peak == 'pm_peak']\n",
    "                .rename(columns = {\"n_trips\": \"pm_max_trips\"})\n",
    "                .drop(columns=[\"peak\", \"route_dir\"])\n",
    "               )\n",
    "\n",
    "    max_trips_by_stop = pd.merge(\n",
    "        am_trips, \n",
    "        pm_trips,\n",
    "        on = stop_cols,\n",
    "        how = \"left\"\n",
    "    )\n",
    "    #  divide by length of peak to get trips/hr, keep n_trips a raw sum\n",
    "    max_trips_by_stop = max_trips_by_stop.assign(\n",
    "        am_max_trips_hr = (max_trips_by_stop.am_max_trips.fillna(0) / len(am_peak_hrs)).astype(int),\n",
    "        pm_max_trips_hr = (max_trips_by_stop.pm_max_trips.fillna(0) / len(pm_peak_hrs)).astype(int),\n",
    "        n_trips = (max_trips_by_stop.am_max_trips.fillna(0) + \n",
    "                   max_trips_by_stop.pm_max_trips.fillna(0)),\n",
    "        route_dir_count = max_trips_by_stop.route_dir.map(lambda x: x.size)\n",
    "    )\n",
    "    \n",
    "    return max_trips_by_stop"
   ]
  },
  {
   "cell_type": "code",
   "execution_count": null,
   "id": "7c429c4d-7060-4123-85ad-cb1cd4d929a0",
   "metadata": {},
   "outputs": [],
   "source": [
    "am_peak_hrs = list(range(AM_PEAK[0].hour, AM_PEAK[1].hour))\n",
    "pm_peak_hrs = list(range(PM_PEAK[0].hour, PM_PEAK[1].hour))"
   ]
  },
  {
   "cell_type": "code",
   "execution_count": null,
   "id": "b625f375-7196-4765-9a4a-337856c40f7b",
   "metadata": {},
   "outputs": [],
   "source": [
    "multi_qual = last_bit(trips_per_peak_multi)"
   ]
  },
  {
   "cell_type": "code",
   "execution_count": null,
   "id": "7fd3c3bc-475b-486b-af29-5b5d4ecd99af",
   "metadata": {},
   "outputs": [],
   "source": [
    "min_freq = min([HQ_TRANSIT_THRESHOLD, MS_TRANSIT_THRESHOLD])"
   ]
  },
  {
   "cell_type": "code",
   "execution_count": null,
   "id": "46f971df-6057-492c-ba8f-de8c384556e5",
   "metadata": {},
   "outputs": [],
   "source": [
    "multi_qual"
   ]
  },
  {
   "cell_type": "code",
   "execution_count": null,
   "id": "7275d473-41f3-42a9-8c87-cd6f4b0251d8",
   "metadata": {},
   "outputs": [],
   "source": [
    "multi_qual = multi_qual >> filter(_.am_max_trips_hr > min_freq, _.pm_max_trips_hr > min_freq, _.route_dir_count > 1)"
   ]
  },
  {
   "cell_type": "code",
   "execution_count": null,
   "id": "5c78f30c-b80b-411d-9a9e-708605ede486",
   "metadata": {},
   "outputs": [],
   "source": [
    "multi_qual"
   ]
  },
  {
   "cell_type": "markdown",
   "id": "ff21037c-95e1-46f7-a1f7-e77c6b9e3f30",
   "metadata": {},
   "source": [
    "## single logic"
   ]
  },
  {
   "cell_type": "code",
   "execution_count": null,
   "id": "e6452fe5-2602-477f-96c4-09811aa8e65b",
   "metadata": {},
   "outputs": [],
   "source": [
    "# cols = [\"schedule_gtfs_dataset_key\", \"stop_id\", \"peak\"]\n",
    "cols = [\"schedule_gtfs_dataset_key\", \"stop_id\", \"peak\",\n",
    "       \"route_id\", \"direction_id\"]"
   ]
  },
  {
   "cell_type": "code",
   "execution_count": null,
   "id": "d35ba606-3293-4def-90be-9e53c2767336",
   "metadata": {},
   "outputs": [],
   "source": [
    "trips_per_peak_single = gtfs_schedule_wrangling.stop_arrivals_per_stop(\n",
    "    st_prepped,\n",
    "    group_cols = cols,\n",
    "    count_col = \"trip_id\",\n",
    "    route_dir_array = True\n",
    ").rename(columns = {\"n_arrivals\": \"n_trips\"})"
   ]
  },
  {
   "cell_type": "code",
   "execution_count": null,
   "id": "456129f2-0979-4174-a693-19cae6ac070f",
   "metadata": {},
   "outputs": [],
   "source": [
    "stop_cols = [\"schedule_gtfs_dataset_key\", \"stop_id\"]\n",
    "trips_per_hour_cols = [\"peak\"]"
   ]
  },
  {
   "cell_type": "code",
   "execution_count": null,
   "id": "05bc8555-07c6-4fc3-90fa-be01ccedf348",
   "metadata": {},
   "outputs": [],
   "source": [
    "def last_bit(trips_per_peak_period):\n",
    "\n",
    "    am_trips = (trips_per_peak_period[trips_per_peak_period.peak == 'am_peak']\n",
    "                .rename(columns = {\"n_trips\": \"am_max_trips\"})\n",
    "                .drop(columns=\"peak\")\n",
    "               )\n",
    "    pm_trips = (trips_per_peak_period[trips_per_peak_period.peak == 'pm_peak']\n",
    "                .rename(columns = {\"n_trips\": \"pm_max_trips\"})\n",
    "                .drop(columns=[\"peak\", \"route_dir\"])\n",
    "               )\n",
    "\n",
    "    max_trips_by_stop = pd.merge(\n",
    "        am_trips, \n",
    "        pm_trips,\n",
    "        on = stop_cols,\n",
    "        how = \"left\"\n",
    "    )\n",
    "    #  divide by length of peak to get trips/hr, keep n_trips a raw sum\n",
    "    max_trips_by_stop = max_trips_by_stop.assign(\n",
    "        am_max_trips_hr = (max_trips_by_stop.am_max_trips.fillna(0) / len(am_peak_hrs)).astype(int),\n",
    "        pm_max_trips_hr = (max_trips_by_stop.pm_max_trips.fillna(0) / len(pm_peak_hrs)).astype(int),\n",
    "        n_trips = (max_trips_by_stop.am_max_trips.fillna(0) + \n",
    "                   max_trips_by_stop.pm_max_trips.fillna(0)),\n",
    "        route_dir_count = max_trips_by_stop.route_dir.map(lambda x: x.size)\n",
    "    )\n",
    "    \n",
    "    return max_trips_by_stop"
   ]
  },
  {
   "cell_type": "code",
   "execution_count": null,
   "id": "38e9ae48-23ed-404e-940f-bd022fb36a09",
   "metadata": {},
   "outputs": [],
   "source": [
    "df_single = last_bit(trips_per_peak_single)"
   ]
  },
  {
   "cell_type": "code",
   "execution_count": null,
   "id": "08081c68-aca0-4aef-bd9e-be6f6c923e61",
   "metadata": {},
   "outputs": [],
   "source": [
    "df_single"
   ]
  },
  {
   "cell_type": "code",
   "execution_count": null,
   "id": "4fa43cea-d188-45b8-865b-d56b9489f269",
   "metadata": {},
   "outputs": [],
   "source": [
    "single_qual = df_single >> filter(_.am_max_trips_hr > min_freq, _.pm_max_trips_hr > min_freq)"
   ]
  },
  {
   "cell_type": "code",
   "execution_count": null,
   "id": "bb686c7b-e0c6-4e1e-9d2a-e384f0b28abe",
   "metadata": {},
   "outputs": [],
   "source": [
    "multi_only = multi_qual >> anti_join(_, single_qual, on=['schedule_gtfs_dataset_key', 'stop_id'])"
   ]
  },
  {
   "cell_type": "code",
   "execution_count": null,
   "id": "56151bd5-2cde-4c7d-9cdd-5198f6fc1b06",
   "metadata": {},
   "outputs": [],
   "source": [
    "multi_only"
   ]
  },
  {
   "cell_type": "code",
   "execution_count": null,
   "id": "75af1d5e-a73b-48dd-a3a1-a105f5e62a93",
   "metadata": {},
   "outputs": [],
   "source": [
    "multi_only[['schedule_gtfs_dataset_key', 'stop_id', 'route_dir']].explode('route_dir')"
   ]
  },
  {
   "cell_type": "code",
   "execution_count": null,
   "id": "46e8465e-c9c5-45dd-931f-8cd290438117",
   "metadata": {},
   "outputs": [],
   "source": [
    "test = (multi_only[['schedule_gtfs_dataset_key', 'stop_id', 'route_dir']]\n",
    ".explode('route_dir')\n",
    ".sort_values(['schedule_gtfs_dataset_key','stop_id', 'route_dir']))"
   ]
  },
  {
   "cell_type": "code",
   "execution_count": null,
   "id": "fafdb706-2fbd-436a-a873-b3f11a451063",
   "metadata": {},
   "outputs": [],
   "source": [
    "# test = test.head(5000)"
   ]
  },
  {
   "cell_type": "code",
   "execution_count": null,
   "id": "f19da3a6-2119-4f24-b736-e8451ec956cc",
   "metadata": {},
   "outputs": [],
   "source": [
    "test"
   ]
  },
  {
   "cell_type": "code",
   "execution_count": null,
   "id": "8311fcff-4ea0-4b12-8e7f-0c9dfc2b20dd",
   "metadata": {},
   "outputs": [],
   "source": [
    "xy = test.loc[96,:].route_dir.to_numpy()"
   ]
  },
  {
   "cell_type": "code",
   "execution_count": null,
   "id": "229f47d9-3fc7-4020-8572-b44ae0462bc7",
   "metadata": {},
   "outputs": [],
   "source": [
    "xy"
   ]
  },
  {
   "cell_type": "code",
   "execution_count": null,
   "id": "1f581e78-f05b-4713-a65d-c27d28bdd148",
   "metadata": {},
   "outputs": [],
   "source": [
    "def test_share_count(df):\n",
    "    global share_counts\n",
    "    xy = df.route_dir.to_numpy()\n",
    "    schedule_gtfs_dataset_key = df.schedule_gtfs_dataset_key.iloc[0]\n",
    "    for route_dir in xy:\n",
    "        other_dirs = [x for x in xy if x != route_dir]\n",
    "        for other_dir in other_dirs:\n",
    "            key = schedule_gtfs_dataset_key+'__'+route_dir+'__'+other_dir\n",
    "            if key in share_counts.keys():\n",
    "                share_counts[key] += 1\n",
    "            else:\n",
    "                share_counts[key] = 1"
   ]
  },
  {
   "cell_type": "code",
   "execution_count": null,
   "id": "a8fac7dc-fff0-4fbc-976d-58ed0c3486ee",
   "metadata": {},
   "outputs": [],
   "source": [
    "share_counts = {}"
   ]
  },
  {
   "cell_type": "code",
   "execution_count": null,
   "id": "83c17ca4-852b-41ce-be6c-17111ab22e24",
   "metadata": {},
   "outputs": [],
   "source": [
    "test.groupby(['schedule_gtfs_dataset_key', 'stop_id']).apply(test_share_count)"
   ]
  },
  {
   "cell_type": "code",
   "execution_count": null,
   "id": "37cec4a9-757f-4a7e-a980-5a2052f31b8c",
   "metadata": {
    "tags": []
   },
   "outputs": [],
   "source": [
    "# share_counts"
   ]
  },
  {
   "cell_type": "code",
   "execution_count": null,
   "id": "9afd273d-895b-4594-9a94-0ece5e39df01",
   "metadata": {},
   "outputs": [],
   "source": [
    "qualify = {key: share_counts[key] for key in share_counts.keys() if share_counts[key] >= 5}"
   ]
  },
  {
   "cell_type": "code",
   "execution_count": null,
   "id": "92b8ffc8-b4f8-4aec-bc2c-a0b027be1d3a",
   "metadata": {
    "tags": []
   },
   "outputs": [],
   "source": [
    "qualify"
   ]
  },
  {
   "cell_type": "code",
   "execution_count": null,
   "id": "d62923e4-2a9a-4e4c-8269-cf3ef649e56a",
   "metadata": {},
   "outputs": [],
   "source": [
    "stops = helpers.import_scheduled_stops(\n",
    "    analysis_date,\n",
    "    get_pandas = True,\n",
    "    crs = PROJECT_CRS\n",
    ")"
   ]
  },
  {
   "cell_type": "code",
   "execution_count": null,
   "id": "f767a5f3-3953-40e7-8f70-666a57b1deb8",
   "metadata": {},
   "outputs": [],
   "source": [
    "gdf = stops >> inner_join(_, multi_only, on = ['stop_id']) >> select(_.stop_id, _.geometry)"
   ]
  },
  {
   "cell_type": "code",
   "execution_count": null,
   "id": "f4be83c5-e8cc-419f-a28c-9294896819a1",
   "metadata": {},
   "outputs": [],
   "source": [
    "gdf2 = stops >> inner_join(_, single_qual, on = ['stop_id']) >> select(_.stop_id, _.geometry)"
   ]
  },
  {
   "cell_type": "code",
   "execution_count": null,
   "id": "241913f2-e89e-459d-81ae-51afeaf4c976",
   "metadata": {},
   "outputs": [],
   "source": [
    "gdf2.geometry = gdf2.buffer(400)"
   ]
  },
  {
   "cell_type": "code",
   "execution_count": null,
   "id": "c518c81b-aa68-4aff-a1a5-c6280e3c0d3c",
   "metadata": {},
   "outputs": [],
   "source": [
    "gdf = gdf.overlay(gdf2, how='difference')"
   ]
  },
  {
   "cell_type": "code",
   "execution_count": null,
   "id": "728f7c3d-4902-422b-a168-eb78072f427c",
   "metadata": {
    "tags": []
   },
   "outputs": [],
   "source": [
    "# gdf.explore()"
   ]
  }
 ],
 "metadata": {
  "kernelspec": {
   "display_name": "Python 3 (ipykernel)",
   "language": "python",
   "name": "python3"
  },
  "language_info": {
   "codemirror_mode": {
    "name": "ipython",
    "version": 3
   },
   "file_extension": ".py",
   "mimetype": "text/x-python",
   "name": "python",
   "nbconvert_exporter": "python",
   "pygments_lexer": "ipython3",
   "version": "3.9.13"
  },
  "widgets": {
   "application/vnd.jupyter.widget-state+json": {
    "state": {},
    "version_major": 2,
    "version_minor": 0
   }
  }
 },
 "nbformat": 4,
 "nbformat_minor": 5
}
