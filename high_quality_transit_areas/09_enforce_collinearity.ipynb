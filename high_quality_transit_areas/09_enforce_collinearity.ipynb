{
 "cells": [
  {
   "cell_type": "code",
   "execution_count": 1,
   "id": "38262382-8e2c-4eb9-86ce-aa4aa251d6d4",
   "metadata": {},
   "outputs": [],
   "source": [
    "import os\n",
    "os.environ[\"CALITP_BQ_MAX_BYTES\"] = str(1_000_000_000_000) ## 1TB?"
   ]
  },
  {
   "cell_type": "code",
   "execution_count": 67,
   "id": "5bbd8694-444f-48c0-89a0-00c5c0e542c8",
   "metadata": {},
   "outputs": [],
   "source": [
    "import geopandas as gpd\n",
    "import pandas as pd\n",
    "from siuba import *\n",
    "import numpy as np\n",
    "\n",
    "from segment_speed_utils import helpers, gtfs_schedule_wrangling\n",
    "from shared_utils import rt_dates, gtfs_utils_v2\n",
    "import folium\n",
    "import itertools"
   ]
  },
  {
   "cell_type": "code",
   "execution_count": 3,
   "id": "994a67bc-1cbe-4477-ac3b-cbe0f7e4822e",
   "metadata": {},
   "outputs": [],
   "source": [
    "from update_vars import (analysis_date, AM_PEAK, PM_PEAK, EXPORT_PATH, GCS_FILE_PATH, PROJECT_CRS,\n",
    "SEGMENT_BUFFER_METERS, AM_PEAK, PM_PEAK, HQ_TRANSIT_THRESHOLD, MS_TRANSIT_THRESHOLD)"
   ]
  },
  {
   "cell_type": "code",
   "execution_count": 4,
   "id": "b263f2d3-1aa3-4576-aac6-a800f12cca19",
   "metadata": {},
   "outputs": [],
   "source": [
    "import sjoin_stops_to_segments"
   ]
  },
  {
   "cell_type": "code",
   "execution_count": 91,
   "id": "4706f9e9-03d9-49d7-9b3a-d5044018127e",
   "metadata": {},
   "outputs": [],
   "source": [
    "import create_aggregate_stop_frequencies"
   ]
  },
  {
   "cell_type": "code",
   "execution_count": 120,
   "id": "f494bb98-09d9-472c-882c-158c35d391f4",
   "metadata": {},
   "outputs": [
    {
     "data": {
      "text/plain": [
       "<module 'create_aggregate_stop_frequencies' from '/home/jovyan/data-analyses/high_quality_transit_areas/create_aggregate_stop_frequencies.py'>"
      ]
     },
     "execution_count": 120,
     "metadata": {},
     "output_type": "execute_result"
    }
   ],
   "source": [
    "import importlib\n",
    "importlib.reload(create_aggregate_stop_frequencies)"
   ]
  },
  {
   "cell_type": "code",
   "execution_count": 121,
   "id": "fd40c5c1-6d79-4bb0-87bd-18c9053af24b",
   "metadata": {},
   "outputs": [
    {
     "data": {
      "text/plain": [
       "'2024-10-21'"
      ]
     },
     "execution_count": 121,
     "metadata": {},
     "output_type": "execute_result"
    }
   ],
   "source": [
    "analysis_date"
   ]
  },
  {
   "cell_type": "code",
   "execution_count": 122,
   "id": "fe9470ff-40a3-40d0-aaed-913784f105ac",
   "metadata": {},
   "outputs": [],
   "source": [
    "stop_times = helpers.import_scheduled_stop_times(\n",
    "    analysis_date,\n",
    "    get_pandas = True,\n",
    ")"
   ]
  },
  {
   "cell_type": "code",
   "execution_count": 123,
   "id": "c3263a32-1140-41bf-8181-e07be8a4cc5d",
   "metadata": {},
   "outputs": [],
   "source": [
    "stop_times = create_aggregate_stop_frequencies.add_route_dir(stop_times, analysis_date)"
   ]
  },
  {
   "cell_type": "code",
   "execution_count": 105,
   "id": "c79c29b2-3f1e-4f0f-a64e-e4bb97ba6cf4",
   "metadata": {},
   "outputs": [],
   "source": [
    "# stop_times >> head(2)"
   ]
  },
  {
   "cell_type": "code",
   "execution_count": 124,
   "id": "55413cd4-bf8e-4313-8f17-a80a7b4806dc",
   "metadata": {},
   "outputs": [],
   "source": [
    "st_prepped = stop_times.pipe(create_aggregate_stop_frequencies.prep_stop_times)"
   ]
  },
  {
   "cell_type": "markdown",
   "id": "54fd1d50-74a2-403a-b8a7-9d018d9926d6",
   "metadata": {
    "tags": []
   },
   "source": [
    "## multi logic"
   ]
  },
  {
   "cell_type": "code",
   "execution_count": 127,
   "id": "d5e95afa-9078-4f4f-a7d3-f4a6dad36cac",
   "metadata": {},
   "outputs": [],
   "source": [
    "multi_test2 = create_aggregate_stop_frequencies.stop_times_aggregation_max_by_stop(st_prepped, analysis_date, single_route_dir=False)"
   ]
  },
  {
   "cell_type": "markdown",
   "id": "ff21037c-95e1-46f7-a1f7-e77c6b9e3f30",
   "metadata": {
    "tags": []
   },
   "source": [
    "## single logic"
   ]
  },
  {
   "cell_type": "code",
   "execution_count": 129,
   "id": "69bd9d0f-997d-4a04-a12b-a63750d5a1b3",
   "metadata": {},
   "outputs": [],
   "source": [
    "single_test2 = create_aggregate_stop_frequencies.stop_times_aggregation_max_by_stop(st_prepped, analysis_date, single_route_dir=True)"
   ]
  },
  {
   "cell_type": "markdown",
   "id": "69a031d0-c805-4ef1-b558-7e52749c9b95",
   "metadata": {},
   "source": [
    "## create count of shared stops between each route_dir"
   ]
  },
  {
   "cell_type": "code",
   "execution_count": null,
   "id": "3b9c25b0-0f37-4a6e-87ba-d3decd2cf48a",
   "metadata": {},
   "outputs": [],
   "source": []
  },
  {
   "cell_type": "code",
   "execution_count": 126,
   "id": "7fd3c3bc-475b-486b-af29-5b5d4ecd99af",
   "metadata": {},
   "outputs": [],
   "source": [
    "min_freq = min([HQ_TRANSIT_THRESHOLD, MS_TRANSIT_THRESHOLD])"
   ]
  },
  {
   "cell_type": "code",
   "execution_count": 146,
   "id": "ad2fa6a1-5447-4c87-a3c8-6354ac47b480",
   "metadata": {},
   "outputs": [],
   "source": [
    "def get_explode_multiroute_only(\n",
    "    single_route_aggregation: pd.DataFrame,\n",
    "    multi_route_aggregation: pd.DataFrame,\n",
    "    min_freqency: int\n",
    ") -> pd.DataFrame:\n",
    "    '''\n",
    "    Shrink the problem space for the compute-intensive collinearity screen.\n",
    "    First, get stops with any chance of qualifying as a major stop/hq corr for\n",
    "    both single and multi-route aggregations.\n",
    "    Then get stops that appear in multi-route qualifiers only, these will go to\n",
    "    further processing.\n",
    "    '''\n",
    "    single_qual = single_route_aggregation >> filter(_.am_max_trips_hr > min_freqency, _.pm_max_trips_hr > min_freqency)\n",
    "    multi_qual = multi_route_aggregation >> filter(_.am_max_trips_hr > min_freqency, _.pm_max_trips_hr > min_freqency)\n",
    "    multi_only = multi_qual >> anti_join(_, single_qual, on=['schedule_gtfs_dataset_key', 'stop_id'])\n",
    "    print(f'{multi_only.shape[0]} stops may qualify with multi-route aggregation')\n",
    "    multi_only_explode = (multi_only[['schedule_gtfs_dataset_key', 'stop_id', 'route_dir']]\n",
    "    .explode('route_dir')\n",
    "    .sort_values(['schedule_gtfs_dataset_key','stop_id', 'route_dir'])) #  sorting crucial for next step\n",
    "    return multi_only_explode"
   ]
  },
  {
   "cell_type": "code",
   "execution_count": 147,
   "id": "609c507c-ecc4-411f-973b-31dfb150f317",
   "metadata": {},
   "outputs": [
    {
     "name": "stdout",
     "output_type": "stream",
     "text": [
      "4560 stops may qualify with multi-route aggregation\n"
     ]
    }
   ],
   "source": [
    "multi_only_explode = get_explode_multiroute_only(single_test2, multi_test2, min([HQ_TRANSIT_THRESHOLD, MS_TRANSIT_THRESHOLD]))"
   ]
  },
  {
   "cell_type": "code",
   "execution_count": 148,
   "id": "f19da3a6-2119-4f24-b736-e8451ec956cc",
   "metadata": {},
   "outputs": [
    {
     "data": {
      "text/html": [
       "<div>\n",
       "<style scoped>\n",
       "    .dataframe tbody tr th:only-of-type {\n",
       "        vertical-align: middle;\n",
       "    }\n",
       "\n",
       "    .dataframe tbody tr th {\n",
       "        vertical-align: top;\n",
       "    }\n",
       "\n",
       "    .dataframe thead th {\n",
       "        text-align: right;\n",
       "    }\n",
       "</style>\n",
       "<table border=\"1\" class=\"dataframe\">\n",
       "  <thead>\n",
       "    <tr style=\"text-align: right;\">\n",
       "      <th></th>\n",
       "      <th>schedule_gtfs_dataset_key</th>\n",
       "      <th>stop_id</th>\n",
       "      <th>route_dir</th>\n",
       "    </tr>\n",
       "  </thead>\n",
       "  <tbody>\n",
       "    <tr>\n",
       "      <th>96</th>\n",
       "      <td>0139b1253130b33adcd4b3a4490530d2</td>\n",
       "      <td>52c2636c-34a3-434c-99ae-cdf3dc36d15c</td>\n",
       "      <td>0e85fd4c-5258-4256-9852-4a96554aadb7_0</td>\n",
       "    </tr>\n",
       "    <tr>\n",
       "      <th>96</th>\n",
       "      <td>0139b1253130b33adcd4b3a4490530d2</td>\n",
       "      <td>52c2636c-34a3-434c-99ae-cdf3dc36d15c</td>\n",
       "      <td>T11x_0</td>\n",
       "    </tr>\n",
       "    <tr>\n",
       "      <th>96</th>\n",
       "      <td>0139b1253130b33adcd4b3a4490530d2</td>\n",
       "      <td>52c2636c-34a3-434c-99ae-cdf3dc36d15c</td>\n",
       "      <td>T1_0</td>\n",
       "    </tr>\n",
       "    <tr>\n",
       "      <th>96</th>\n",
       "      <td>0139b1253130b33adcd4b3a4490530d2</td>\n",
       "      <td>52c2636c-34a3-434c-99ae-cdf3dc36d15c</td>\n",
       "      <td>T2_0</td>\n",
       "    </tr>\n",
       "    <tr>\n",
       "      <th>96</th>\n",
       "      <td>0139b1253130b33adcd4b3a4490530d2</td>\n",
       "      <td>52c2636c-34a3-434c-99ae-cdf3dc36d15c</td>\n",
       "      <td>T3_0</td>\n",
       "    </tr>\n",
       "    <tr>\n",
       "      <th>...</th>\n",
       "      <td>...</td>\n",
       "      <td>...</td>\n",
       "      <td>...</td>\n",
       "    </tr>\n",
       "    <tr>\n",
       "      <th>79116</th>\n",
       "      <td>fe4aab1717eca5a2935c32c85a35a5bf</td>\n",
       "      <td>115</td>\n",
       "      <td>3_0</td>\n",
       "    </tr>\n",
       "    <tr>\n",
       "      <th>79116</th>\n",
       "      <td>fe4aab1717eca5a2935c32c85a35a5bf</td>\n",
       "      <td>115</td>\n",
       "      <td>4_1</td>\n",
       "    </tr>\n",
       "    <tr>\n",
       "      <th>79246</th>\n",
       "      <td>ff1bc5dde661d62c877165421e9ca257</td>\n",
       "      <td>LO_19</td>\n",
       "      <td>ROUTEA_0</td>\n",
       "    </tr>\n",
       "    <tr>\n",
       "      <th>79246</th>\n",
       "      <td>ff1bc5dde661d62c877165421e9ca257</td>\n",
       "      <td>LO_19</td>\n",
       "      <td>ROUTEA_1</td>\n",
       "    </tr>\n",
       "    <tr>\n",
       "      <th>79246</th>\n",
       "      <td>ff1bc5dde661d62c877165421e9ca257</td>\n",
       "      <td>LO_19</td>\n",
       "      <td>ROUTEB_1</td>\n",
       "    </tr>\n",
       "  </tbody>\n",
       "</table>\n",
       "<p>13491 rows × 3 columns</p>\n",
       "</div>"
      ],
      "text/plain": [
       "              schedule_gtfs_dataset_key                               stop_id  \\\n",
       "96     0139b1253130b33adcd4b3a4490530d2  52c2636c-34a3-434c-99ae-cdf3dc36d15c   \n",
       "96     0139b1253130b33adcd4b3a4490530d2  52c2636c-34a3-434c-99ae-cdf3dc36d15c   \n",
       "96     0139b1253130b33adcd4b3a4490530d2  52c2636c-34a3-434c-99ae-cdf3dc36d15c   \n",
       "96     0139b1253130b33adcd4b3a4490530d2  52c2636c-34a3-434c-99ae-cdf3dc36d15c   \n",
       "96     0139b1253130b33adcd4b3a4490530d2  52c2636c-34a3-434c-99ae-cdf3dc36d15c   \n",
       "...                                 ...                                   ...   \n",
       "79116  fe4aab1717eca5a2935c32c85a35a5bf                                   115   \n",
       "79116  fe4aab1717eca5a2935c32c85a35a5bf                                   115   \n",
       "79246  ff1bc5dde661d62c877165421e9ca257                                 LO_19   \n",
       "79246  ff1bc5dde661d62c877165421e9ca257                                 LO_19   \n",
       "79246  ff1bc5dde661d62c877165421e9ca257                                 LO_19   \n",
       "\n",
       "                                    route_dir  \n",
       "96     0e85fd4c-5258-4256-9852-4a96554aadb7_0  \n",
       "96                                     T11x_0  \n",
       "96                                       T1_0  \n",
       "96                                       T2_0  \n",
       "96                                       T3_0  \n",
       "...                                       ...  \n",
       "79116                                     3_0  \n",
       "79116                                     4_1  \n",
       "79246                                ROUTEA_0  \n",
       "79246                                ROUTEA_1  \n",
       "79246                                ROUTEB_1  \n",
       "\n",
       "[13491 rows x 3 columns]"
      ]
     },
     "execution_count": 148,
     "metadata": {},
     "output_type": "execute_result"
    }
   ],
   "source": [
    "multi_only_explode"
   ]
  },
  {
   "cell_type": "code",
   "execution_count": 205,
   "id": "1f581e78-f05b-4713-a65d-c27d28bdd148",
   "metadata": {},
   "outputs": [],
   "source": [
    "def accumulate_share_count(route_dir_exploded: pd.DataFrame):\n",
    "    '''\n",
    "    For use via pd.DataFrame.groupby.apply\n",
    "    Accumulate the number of times each route_dir shares stops with\n",
    "    each other in a dictionary (share_counts)\n",
    "    '''\n",
    "    global share_counts\n",
    "    rt_dir = route_dir_exploded.route_dir.to_numpy()\n",
    "    schedule_gtfs_dataset_key = route_dir_exploded.schedule_gtfs_dataset_key.iloc[0]\n",
    "    for route_dir in rt_dir:\n",
    "        route = route_dir.split('_')[0] #  don't compare opposite dirs of same route, leads to edge cases like AC Transit 45\n",
    "        other_dirs = [x for x in rt_dir if x != route_dir and x.split('_')[0] != route]\n",
    "        for other_dir in other_dirs:\n",
    "            key = schedule_gtfs_dataset_key+'__'+route_dir+'__'+other_dir\n",
    "            if key in share_counts.keys():\n",
    "                share_counts[key] += 1\n",
    "            else:\n",
    "                share_counts[key] = 1"
   ]
  },
  {
   "cell_type": "code",
   "execution_count": 206,
   "id": "3a117a2b-1ca5-4c7c-ae33-62763f5db66b",
   "metadata": {},
   "outputs": [
    {
     "data": {
      "text/html": [
       "<div>\n",
       "<style scoped>\n",
       "    .dataframe tbody tr th:only-of-type {\n",
       "        vertical-align: middle;\n",
       "    }\n",
       "\n",
       "    .dataframe tbody tr th {\n",
       "        vertical-align: top;\n",
       "    }\n",
       "\n",
       "    .dataframe thead th {\n",
       "        text-align: right;\n",
       "    }\n",
       "</style>\n",
       "<table border=\"1\" class=\"dataframe\">\n",
       "  <thead>\n",
       "    <tr style=\"text-align: right;\">\n",
       "      <th></th>\n",
       "    </tr>\n",
       "  </thead>\n",
       "  <tbody>\n",
       "  </tbody>\n",
       "</table>\n",
       "</div>"
      ],
      "text/plain": [
       "Empty DataFrame\n",
       "Columns: []\n",
       "Index: []"
      ]
     },
     "execution_count": 206,
     "metadata": {},
     "output_type": "execute_result"
    }
   ],
   "source": [
    "share_counts = {}\n",
    "multi_only_explode.groupby(['schedule_gtfs_dataset_key', 'stop_id']).apply(accumulate_share_count)"
   ]
  },
  {
   "cell_type": "code",
   "execution_count": 207,
   "id": "37cec4a9-757f-4a7e-a980-5a2052f31b8c",
   "metadata": {
    "tags": []
   },
   "outputs": [],
   "source": [
    "# share_counts"
   ]
  },
  {
   "cell_type": "markdown",
   "id": "d839566e-7cc0-4345-b835-ce5a77ab70cc",
   "metadata": {},
   "source": [
    "### Which threshold?\n",
    "\n",
    "* 8 catches Muni 48 and 66, which are somewhat marginal but not an edge case per se"
   ]
  },
  {
   "cell_type": "code",
   "execution_count": 208,
   "id": "9afd273d-895b-4594-9a94-0ece5e39df01",
   "metadata": {},
   "outputs": [],
   "source": [
    "SHARED_STOP_THRESHOLD = 8\n",
    "qualify = {key: share_counts[key] for key in share_counts.keys() if share_counts[key] >= SHARED_STOP_THRESHOLD}"
   ]
  },
  {
   "cell_type": "code",
   "execution_count": 209,
   "id": "92b8ffc8-b4f8-4aec-bc2c-a0b027be1d3a",
   "metadata": {
    "tags": []
   },
   "outputs": [],
   "source": [
    "# qualify"
   ]
  },
  {
   "cell_type": "markdown",
   "id": "d3faa0af-7b24-402d-9f68-3d61acc6cb9e",
   "metadata": {},
   "source": [
    "## lookup function/filtering steps\n",
    "\n",
    "* \n",
    "\n",
    "edge cases:\n",
    "\n",
    "[AC Transit 45](https://www.actransit.org/sites/default/files/timetable_files/45-2023_12_03.pdf) _Opposite directions share a same-direction loop._ __Solved__ by preventing the same route from being compared with itself in the opposite direction.\n",
    "\n",
    "[SDMTS 944/945](https://www.sdmts.com/sites/default/files/routes/pdf/944.pdf) _Shared frequent stops are few, and these routes are isolated._ __Solved__ by once again applying the `SHARED_STOP_THRESHOLD` after aggregation (by ensuring at least one route_dir at each stop has >= `SHARED_STOP_THRESHOLD` frequent stops). Complex typology including a loop route, each pair of [944, 945, 945A(946)] has >= threshold... but not actually in the same spots!"
   ]
  },
  {
   "cell_type": "code",
   "execution_count": 216,
   "id": "edc6dd56-acf5-4702-ae0c-754b355b0c7d",
   "metadata": {},
   "outputs": [],
   "source": [
    "feeds_to_filter = np.unique([key.split('__')[0] for key in qualify.keys()])"
   ]
  },
  {
   "cell_type": "code",
   "execution_count": 217,
   "id": "d22c2697-e41a-4411-8133-1800d0ae572a",
   "metadata": {},
   "outputs": [],
   "source": [
    "feeds_no_qualify = np.unique([key.split('__')[0] for key in share_counts.keys() if key.split('__')[0] not in feeds_to_filter])"
   ]
  },
  {
   "cell_type": "code",
   "execution_count": 218,
   "id": "3d5254e9-33fe-464a-8d85-57d045b9ecee",
   "metadata": {},
   "outputs": [],
   "source": [
    "from calitp_data_analysis.tables import tbls"
   ]
  },
  {
   "cell_type": "code",
   "execution_count": 219,
   "id": "dc909766-9a1b-4682-841d-a7516c186bd2",
   "metadata": {},
   "outputs": [],
   "source": [
    "feeds_no_qualify = tbls.mart_transit_database.dim_gtfs_service_data() >> filter(_.gtfs_dataset_key.isin(feeds_no_qualify)) >> distinct(_.name, _.gtfs_dataset_key) >> collect()"
   ]
  },
  {
   "cell_type": "code",
   "execution_count": 225,
   "id": "264eefd5-2a77-4533-a4b5-df4ad95bde3c",
   "metadata": {},
   "outputs": [],
   "source": [
    "# feed_names = (tbls.mart_transit_database.dim_gtfs_service_data() >> filter(_.gtfs_dataset_key.isin(feeds_to_filter))\n",
    "#  >> distinct(_.name, _.gtfs_dataset_key)\n",
    "#  >> collect()\n",
    "# )"
   ]
  },
  {
   "cell_type": "code",
   "execution_count": 226,
   "id": "f253a870-d7d2-46f1-b766-ce9785ed5fda",
   "metadata": {},
   "outputs": [
    {
     "data": {
      "text/html": [
       "<div>\n",
       "<style scoped>\n",
       "    .dataframe tbody tr th:only-of-type {\n",
       "        vertical-align: middle;\n",
       "    }\n",
       "\n",
       "    .dataframe tbody tr th {\n",
       "        vertical-align: top;\n",
       "    }\n",
       "\n",
       "    .dataframe thead th {\n",
       "        text-align: right;\n",
       "    }\n",
       "</style>\n",
       "<table border=\"1\" class=\"dataframe\">\n",
       "  <thead>\n",
       "    <tr style=\"text-align: right;\">\n",
       "      <th></th>\n",
       "      <th>name</th>\n",
       "      <th>gtfs_dataset_key</th>\n",
       "    </tr>\n",
       "  </thead>\n",
       "  <tbody>\n",
       "    <tr>\n",
       "      <th>0</th>\n",
       "      <td>Muni Metro Rail – Bay Area 511 Muni Schedule</td>\n",
       "      <td>7cc0cb1871dfd558f11a2885c145d144</td>\n",
       "    </tr>\n",
       "    <tr>\n",
       "      <th>14</th>\n",
       "      <td>Muni Bus – Bay Area 511 Muni Schedule</td>\n",
       "      <td>7cc0cb1871dfd558f11a2885c145d144</td>\n",
       "    </tr>\n",
       "  </tbody>\n",
       "</table>\n",
       "</div>"
      ],
      "text/plain": [
       "                                            name  \\\n",
       "0   Muni Metro Rail – Bay Area 511 Muni Schedule   \n",
       "14         Muni Bus – Bay Area 511 Muni Schedule   \n",
       "\n",
       "                    gtfs_dataset_key  \n",
       "0   7cc0cb1871dfd558f11a2885c145d144  \n",
       "14  7cc0cb1871dfd558f11a2885c145d144  "
      ]
     },
     "metadata": {},
     "output_type": "display_data"
    }
   ],
   "source": [
    "feed_names_filtered = feed_names >> filter(_.name.str.contains('Muni'))\n",
    "display(feed_names_filtered)\n",
    "dataset_key = feed_names_filtered.gtfs_dataset_key.iloc[0]"
   ]
  },
  {
   "cell_type": "code",
   "execution_count": 227,
   "id": "6f6ea7b6-26ea-4b9a-af4e-cdd507a403c1",
   "metadata": {},
   "outputs": [],
   "source": [
    "# dataset_key = '015d67d5b75b5cf2b710bbadadfb75f5' #  Marin\n",
    "# dataset_key = '3c62ad6ee589d56eca915ce291a5df0a' #  Yolobus 42A and 42B share 5+ stops so they match, which isn't desirable.\n",
    "# dataset_key = '70c8a8b71c815224299523bf2115924a' #  SacRT\n",
    "# dataset_key = '63029a23cb0e73f2a5d98a345c5e2e40' #  Elk Grove\n",
    "# dataset_key = 'f1b35a50955aeb498533c1c6fdafbe44' #  LBT"
   ]
  },
  {
   "cell_type": "code",
   "execution_count": 228,
   "id": "6f30dc29-7ee6-4bce-9548-c55808741298",
   "metadata": {},
   "outputs": [],
   "source": [
    "this_feed_qual = {key.split(dataset_key)[1][2:]:qualify[key] for key in qualify.keys() if key.split('__')[0] == dataset_key}"
   ]
  },
  {
   "cell_type": "code",
   "execution_count": 229,
   "id": "e276d97c-bee6-4bad-8b87-1481c7980ef9",
   "metadata": {
    "tags": []
   },
   "outputs": [
    {
     "data": {
      "text/plain": [
       "{'18_1__31_1': 8,\n",
       " '31_1__18_1': 8,\n",
       " '9R_1__9_1': 18,\n",
       " '9_1__9R_1': 18,\n",
       " '5R_0__5_0': 17,\n",
       " '5R_1__5_1': 15,\n",
       " '5_0__5R_0': 17,\n",
       " '5_1__5R_1': 15,\n",
       " 'PH_0__PM_0': 11,\n",
       " 'PM_0__PH_0': 11,\n",
       " '48_1__66_1': 8,\n",
       " '66_1__48_1': 8}"
      ]
     },
     "execution_count": 229,
     "metadata": {},
     "output_type": "execute_result"
    }
   ],
   "source": [
    "this_feed_qual"
   ]
  },
  {
   "cell_type": "code",
   "execution_count": 230,
   "id": "48fbd6b2-2461-44f5-91c2-fed567091507",
   "metadata": {},
   "outputs": [],
   "source": [
    "qualify_pairs = [tuple(key.split('__')) for key in this_feed_qual.keys()]"
   ]
  },
  {
   "cell_type": "code",
   "execution_count": 231,
   "id": "79019776-7be8-4562-a093-a83694ca512e",
   "metadata": {
    "tags": []
   },
   "outputs": [
    {
     "data": {
      "text/plain": [
       "[('18_1', '31_1'),\n",
       " ('31_1', '18_1'),\n",
       " ('9R_1', '9_1'),\n",
       " ('9_1', '9R_1'),\n",
       " ('5R_0', '5_0'),\n",
       " ('5R_1', '5_1'),\n",
       " ('5_0', '5R_0'),\n",
       " ('5_1', '5R_1'),\n",
       " ('PH_0', 'PM_0'),\n",
       " ('PM_0', 'PH_0'),\n",
       " ('48_1', '66_1'),\n",
       " ('66_1', '48_1')]"
      ]
     },
     "execution_count": 231,
     "metadata": {},
     "output_type": "execute_result"
    }
   ],
   "source": [
    "qualify_pairs"
   ]
  },
  {
   "cell_type": "code",
   "execution_count": 232,
   "id": "6fa3d402-00b3-49e9-9fea-3c723ba36b68",
   "metadata": {},
   "outputs": [],
   "source": [
    "arr = np.array(qualify_pairs[0])\n",
    "for pair in qualify_pairs[1:]: arr = np.append(arr, np.array(pair))"
   ]
  },
  {
   "cell_type": "code",
   "execution_count": 233,
   "id": "aceed251-eabb-4413-bec1-13c089f9c762",
   "metadata": {},
   "outputs": [],
   "source": [
    "any_appearance = np.unique(arr)"
   ]
  },
  {
   "cell_type": "code",
   "execution_count": 234,
   "id": "2a97f048-be9c-4eaa-b0ff-812dd2ffc417",
   "metadata": {},
   "outputs": [
    {
     "data": {
      "text/plain": [
       "array(['18_1', '31_1', '48_1', '5R_0', '5R_1', '5_0', '5_1', '66_1',\n",
       "       '9R_1', '9_1', 'PH_0', 'PM_0'], dtype='<U4')"
      ]
     },
     "execution_count": 234,
     "metadata": {},
     "output_type": "execute_result"
    }
   ],
   "source": [
    "any_appearance"
   ]
  },
  {
   "cell_type": "code",
   "execution_count": 235,
   "id": "98c214a2-6586-4125-9b8d-69176b6de1a2",
   "metadata": {},
   "outputs": [],
   "source": [
    "#  only need to check stops that qualify as multi-route only\n",
    "stops_to_eval = multi_only >> filter(_.schedule_gtfs_dataset_key == dataset_key) >> distinct(_.stop_id)\n",
    "st_to_eval = st_prepped >> filter(_.schedule_gtfs_dataset_key == dataset_key,\n",
    "                                  _.stop_id.isin(stops_to_eval.stop_id),\n",
    "                                  _.route_dir.isin(any_appearance)\n",
    "                                 )"
   ]
  },
  {
   "cell_type": "code",
   "execution_count": 236,
   "id": "f31cced4-bf9f-46c0-8f71-5dcd44c24737",
   "metadata": {},
   "outputs": [],
   "source": [
    "#  cut down problem space by checking if stops still could qual after filtering for any appearance\n",
    "min_rows = min_freq * (len(am_peak_hrs) + len(pm_peak_hrs))"
   ]
  },
  {
   "cell_type": "code",
   "execution_count": 237,
   "id": "33ecb185-e2a8-4b72-ab02-3fb7ce0c18ed",
   "metadata": {},
   "outputs": [],
   "source": [
    "st_could_qual = (st_to_eval >> group_by(_.stop_id)\n",
    " >> mutate(could_qualify = _.shape[0] >= min_rows)\n",
    " >> ungroup()\n",
    " >> filter(_.could_qualify)\n",
    ")"
   ]
  },
  {
   "cell_type": "code",
   "execution_count": 238,
   "id": "c575d8f4-1a0f-4b01-ac46-69dee86c86a6",
   "metadata": {},
   "outputs": [],
   "source": [
    "# one_stop = st_could_qual >> filter(_.stop_id == '23585') #  Yolobus 23017 knocked out in last step\n",
    "# one_stop = st_could_qual >> filter(_.stop_id == '1677') #  PCH/Redondo EB"
   ]
  },
  {
   "cell_type": "code",
   "execution_count": 239,
   "id": "ca76a557-3947-48bc-aa26-ba8a270af4b5",
   "metadata": {},
   "outputs": [],
   "source": [
    "def check_stop(this_stop_route_dirs, qualify_pairs):\n",
    "    #  check if all possible combinations included\n",
    "    this_stop_route_dirs = list(this_stop_route_dirs)\n",
    "    if len(this_stop_route_dirs) == 1:\n",
    "        print('exhausted!')\n",
    "        return []\n",
    "    print(f'attempting {this_stop_route_dirs}... ', end='')\n",
    "    stop_route_dir_pairs = list(itertools.combinations(this_stop_route_dirs, 2))\n",
    "    checks = np.array([True if rt_dir in qualify_pairs else False for rt_dir in stop_route_dir_pairs])\n",
    "    if checks.all():\n",
    "        print(f'matched!')\n",
    "        return this_stop_route_dirs\n",
    "    else:\n",
    "        print('subsetting...')\n",
    "        this_stop_route_dirs.pop(-1)\n",
    "        return check_stop(this_stop_route_dirs, qualify_pairs)"
   ]
  },
  {
   "cell_type": "code",
   "execution_count": 240,
   "id": "b3201f56-6953-42cf-94c5-16f7fcc44585",
   "metadata": {},
   "outputs": [
    {
     "name": "stdout",
     "output_type": "stream",
     "text": [
      "attempting ['no', 'nyet', 'bazz', 'fizz', 'buzz']... subsetting...\n",
      "attempting ['no', 'nyet', 'bazz', 'fizz']... subsetting...\n",
      "attempting ['no', 'nyet', 'bazz']... subsetting...\n",
      "attempting ['no', 'nyet']... subsetting...\n",
      "exhausted!\n"
     ]
    },
    {
     "data": {
      "text/plain": [
       "[]"
      ]
     },
     "execution_count": 240,
     "metadata": {},
     "output_type": "execute_result"
    }
   ],
   "source": [
    "check_stop(['no', 'nyet', 'bazz', 'fizz', 'buzz'], qualify_pairs)"
   ]
  },
  {
   "cell_type": "code",
   "execution_count": 241,
   "id": "d7f1cf16-ff3f-4128-927a-b13eed4cf717",
   "metadata": {},
   "outputs": [],
   "source": [
    "def filter_qualifying_stops(one_stop_df):\n",
    "\n",
    "    one_stop_df = (one_stop_df >> group_by(_.route_dir)\n",
    "                >> mutate(route_dir_count = _.shape[0]) >> ungroup()\n",
    "                >> arrange(-_.route_dir_count)\n",
    "               )\n",
    "    this_stop_route_dirs = (one_stop_df >> distinct(_.route_dir, _.route_dir_count)).route_dir.to_numpy() #  preserves sort order\n",
    "    aggregation_ok_route_dirs = check_stop(this_stop_route_dirs, qualify_pairs)\n",
    "    return one_stop_df >> filter(_.route_dir.isin(aggregation_ok_route_dirs))"
   ]
  },
  {
   "cell_type": "code",
   "execution_count": 242,
   "id": "d4ed2305-0053-4d57-81ad-4de9b41e89d5",
   "metadata": {
    "collapsed": true,
    "jupyter": {
     "outputs_hidden": true
    },
    "tags": []
   },
   "outputs": [
    {
     "name": "stdout",
     "output_type": "stream",
     "text": [
      "attempting ['31_1', '18_1']... matched!\n",
      "attempting ['31_1', '18_1']... matched!\n",
      "attempting ['31_1', '18_1']... matched!\n",
      "attempting ['31_1', '18_1']... matched!\n",
      "attempting ['9_1', '9R_1']... matched!\n",
      "exhausted!\n",
      "exhausted!\n",
      "exhausted!\n",
      "exhausted!\n",
      "exhausted!\n",
      "exhausted!\n",
      "exhausted!\n",
      "exhausted!\n",
      "attempting ['31_1', '18_1']... matched!\n",
      "attempting ['31_1', '18_1']... matched!\n",
      "attempting ['48_1', '18_1']... subsetting...\n",
      "exhausted!\n",
      "attempting ['31_1', '18_1']... matched!\n",
      "attempting ['5R_1', '5R_0', '31_1', '5_0', '5_1']... subsetting...\n",
      "attempting ['5R_1', '5R_0', '31_1', '5_0']... subsetting...\n",
      "attempting ['5R_1', '5R_0', '31_1']... subsetting...\n",
      "attempting ['5R_1', '5R_0']... subsetting...\n",
      "exhausted!\n",
      "exhausted!\n",
      "attempting ['5R_0', '5_0']... matched!\n",
      "attempting ['5R_1', '5_1']... matched!\n",
      "attempting ['5R_0', '5_0']... matched!\n",
      "attempting ['5R_1', '5_1']... matched!\n",
      "attempting ['5R_1', '5_1']... matched!\n",
      "attempting ['5R_0', '5_0']... matched!\n",
      "attempting ['5R_1', '5_1']... matched!\n",
      "attempting ['5R_1', '5_1']... matched!\n",
      "attempting ['5R_0', '5_0']... matched!\n",
      "attempting ['5R_1', '5_1']... matched!\n",
      "exhausted!\n",
      "exhausted!\n",
      "exhausted!\n",
      "exhausted!\n",
      "attempting ['5R_0', '5_0']... matched!\n",
      "attempting ['5R_0', '5_0']... matched!\n",
      "attempting ['5R_0', '5_0']... matched!\n",
      "attempting ['5R_1', '5_1']... matched!\n",
      "attempting ['5R_0', '5_0']... matched!\n",
      "attempting ['5R_0', '5_0']... matched!\n",
      "attempting ['5R_1', '5_1']... matched!\n",
      "attempting ['5R_0', '5_0']... matched!\n",
      "attempting ['5R_1', '5_1']... matched!\n",
      "attempting ['5R_1', '5_1']... matched!\n",
      "attempting ['5R_1', '5_1']... matched!\n",
      "attempting ['9R_1', '9_1']... matched!\n",
      "attempting ['5R_0', '5_0']... matched!\n",
      "attempting ['5R_1', '5_1']... matched!\n",
      "attempting ['5R_0', '18_1', '5_0']... subsetting...\n",
      "attempting ['5R_0', '18_1']... subsetting...\n",
      "exhausted!\n",
      "attempting ['9R_1', '9_1']... matched!\n",
      "attempting ['9_1', '9R_1']... matched!\n",
      "attempting ['9_1', '9R_1']... matched!\n",
      "attempting ['PH_0', 'PM_0']... matched!\n",
      "attempting ['PH_0', 'PM_0']... matched!\n",
      "attempting ['PH_0', 'PM_0']... matched!\n",
      "attempting ['PH_0', 'PM_0']... matched!\n",
      "attempting ['PH_0', 'PM_0']... matched!\n",
      "attempting ['PH_0', 'PM_0']... matched!\n",
      "attempting ['PH_0', 'PM_0']... matched!\n",
      "attempting ['PH_0', 'PM_0']... matched!\n",
      "attempting ['PH_0', 'PM_0']... matched!\n",
      "attempting ['PH_0', 'PM_0']... matched!\n",
      "attempting ['PH_0', 'PM_0']... matched!\n",
      "exhausted!\n",
      "attempting ['48_1', '66_1']... matched!\n",
      "attempting ['48_1', '66_1']... matched!\n",
      "attempting ['48_1', '66_1']... matched!\n",
      "attempting ['48_1', '66_1']... matched!\n",
      "attempting ['48_1', '66_1']... matched!\n",
      "attempting ['48_1', '66_1']... matched!\n",
      "attempting ['48_1', '66_1']... matched!\n",
      "attempting ['48_1', '66_1']... matched!\n",
      "exhausted!\n",
      "exhausted!\n",
      "exhausted!\n",
      "attempting ['9R_1', '9_1']... matched!\n",
      "attempting ['9R_1', '9_1']... matched!\n",
      "attempting ['9R_1', '9_1']... matched!\n",
      "attempting ['9R_1', '9_1']... matched!\n",
      "attempting ['9R_1', '9_1']... matched!\n",
      "attempting ['9R_1', '9_1']... matched!\n",
      "exhausted!\n",
      "exhausted!\n",
      "attempting ['9R_1', '9_1']... matched!\n",
      "attempting ['9R_1', '9_1']... matched!\n",
      "attempting ['9R_1', '9_1']... matched!\n",
      "attempting ['9R_1', '9_1']... matched!\n",
      "attempting ['9R_1', '9_1']... matched!\n",
      "exhausted!\n",
      "attempting ['31_1', '18_1']... matched!\n",
      "attempting ['9_1', '9R_1']... matched!\n",
      "attempting ['9R_1', '9_1']... matched!\n",
      "exhausted!\n",
      "attempting ['5R_1', '5_1']... matched!\n",
      "attempting ['5R_1', '5_1']... matched!\n",
      "attempting ['5R_0', '5_0']... matched!\n",
      "attempting ['5R_0', '5_0']... matched!\n",
      "attempting ['5R_0', '5_0']... matched!\n",
      "attempting ['5R_0', '5_0']... matched!\n"
     ]
    }
   ],
   "source": [
    "df2 = st_could_qual.groupby('stop_id').apply(filter_qualifying_stops)"
   ]
  },
  {
   "cell_type": "code",
   "execution_count": 243,
   "id": "137d9eb1-c247-43cd-8336-d0a83d204b46",
   "metadata": {},
   "outputs": [],
   "source": [
    "df2 = df2.reset_index(drop=True)"
   ]
  },
  {
   "cell_type": "code",
   "execution_count": 244,
   "id": "74397c4f-e876-48e2-a5e9-001940c39425",
   "metadata": {},
   "outputs": [
    {
     "data": {
      "text/plain": [
       "array(['13059', '13062', '13064', '13066', '13244', '13570', '13572',\n",
       "       '13925', '14211', '14212', '14213', '14215', '14218', '14221',\n",
       "       '14222', '14228', '14231', '14232', '14732', '14734', '14736',\n",
       "       '14737', '14742', '14746', '14747', '14748', '14749', '14751',\n",
       "       '14753', '14809', '14842', '14843', '14895', '15658', '15685',\n",
       "       '16047', '16049', '16051', '16058', '16059', '16063', '16068',\n",
       "       '16069', '16072', '16073', '16075', '16139', '16141', '16143',\n",
       "       '16145', '16147', '16149', '16151', '16153', '16339', '16344',\n",
       "       '16383', '16385', '16386', '16388', '16565', '16568', '16570',\n",
       "       '16575', '16584', '17204', '17264', '17297', '17720', '17721',\n",
       "       '17727', '17728', '17729', '17730'], dtype=object)"
      ]
     },
     "execution_count": 244,
     "metadata": {},
     "output_type": "execute_result"
    }
   ],
   "source": [
    "df2.stop_id.unique()"
   ]
  },
  {
   "cell_type": "code",
   "execution_count": 245,
   "id": "a40fb696-daec-4cf5-aaa2-e92bc1fb577d",
   "metadata": {},
   "outputs": [],
   "source": [
    "# df2"
   ]
  },
  {
   "cell_type": "code",
   "execution_count": 246,
   "id": "0c42630e-b512-4e0d-8506-4c4da34e7d37",
   "metadata": {},
   "outputs": [],
   "source": [
    "trips_per_peak_multi = gtfs_schedule_wrangling.stop_arrivals_per_stop(\n",
    "    df2,\n",
    "    group_cols = multi_cols,\n",
    "    count_col = \"trip_id\",\n",
    "    route_dir_array = True\n",
    ").rename(columns = {\"n_arrivals\": \"n_trips\"})"
   ]
  },
  {
   "cell_type": "code",
   "execution_count": 247,
   "id": "223421b8-dd37-4b50-ace7-c37aee1c18aa",
   "metadata": {},
   "outputs": [],
   "source": [
    "df2_final = last_bit(trips_per_peak_multi) >> filter(_.am_max_trips_hr > min_freq, _.pm_max_trips_hr > min_freq)"
   ]
  },
  {
   "cell_type": "code",
   "execution_count": 248,
   "id": "d9b87332-37b4-4a1f-a530-07188d127e09",
   "metadata": {},
   "outputs": [
    {
     "data": {
      "text/html": [
       "<div>\n",
       "<style scoped>\n",
       "    .dataframe tbody tr th:only-of-type {\n",
       "        vertical-align: middle;\n",
       "    }\n",
       "\n",
       "    .dataframe tbody tr th {\n",
       "        vertical-align: top;\n",
       "    }\n",
       "\n",
       "    .dataframe thead th {\n",
       "        text-align: right;\n",
       "    }\n",
       "</style>\n",
       "<table border=\"1\" class=\"dataframe\">\n",
       "  <thead>\n",
       "    <tr style=\"text-align: right;\">\n",
       "      <th></th>\n",
       "      <th>stop_id</th>\n",
       "      <th>n</th>\n",
       "    </tr>\n",
       "  </thead>\n",
       "  <tbody>\n",
       "    <tr>\n",
       "      <th>0</th>\n",
       "      <td>13059</td>\n",
       "      <td>41</td>\n",
       "    </tr>\n",
       "    <tr>\n",
       "      <th>1</th>\n",
       "      <td>13062</td>\n",
       "      <td>41</td>\n",
       "    </tr>\n",
       "    <tr>\n",
       "      <th>2</th>\n",
       "      <td>13064</td>\n",
       "      <td>41</td>\n",
       "    </tr>\n",
       "    <tr>\n",
       "      <th>3</th>\n",
       "      <td>13066</td>\n",
       "      <td>41</td>\n",
       "    </tr>\n",
       "    <tr>\n",
       "      <th>4</th>\n",
       "      <td>13244</td>\n",
       "      <td>56</td>\n",
       "    </tr>\n",
       "    <tr>\n",
       "      <th>...</th>\n",
       "      <td>...</td>\n",
       "      <td>...</td>\n",
       "    </tr>\n",
       "    <tr>\n",
       "      <th>69</th>\n",
       "      <td>17721</td>\n",
       "      <td>35</td>\n",
       "    </tr>\n",
       "    <tr>\n",
       "      <th>70</th>\n",
       "      <td>17727</td>\n",
       "      <td>35</td>\n",
       "    </tr>\n",
       "    <tr>\n",
       "      <th>71</th>\n",
       "      <td>17728</td>\n",
       "      <td>36</td>\n",
       "    </tr>\n",
       "    <tr>\n",
       "      <th>72</th>\n",
       "      <td>17729</td>\n",
       "      <td>35</td>\n",
       "    </tr>\n",
       "    <tr>\n",
       "      <th>73</th>\n",
       "      <td>17730</td>\n",
       "      <td>35</td>\n",
       "    </tr>\n",
       "  </tbody>\n",
       "</table>\n",
       "<p>74 rows × 2 columns</p>\n",
       "</div>"
      ],
      "text/plain": [
       "   stop_id   n\n",
       "0    13059  41\n",
       "1    13062  41\n",
       "2    13064  41\n",
       "3    13066  41\n",
       "4    13244  56\n",
       "..     ...  ..\n",
       "69   17721  35\n",
       "70   17727  35\n",
       "71   17728  36\n",
       "72   17729  35\n",
       "73   17730  35\n",
       "\n",
       "[74 rows x 2 columns]"
      ]
     },
     "execution_count": 248,
     "metadata": {},
     "output_type": "execute_result"
    }
   ],
   "source": [
    "df2 >> count(_.stop_id)"
   ]
  },
  {
   "cell_type": "code",
   "execution_count": 249,
   "id": "2c3b3e90-b367-4d54-87d2-e71b44536cc3",
   "metadata": {},
   "outputs": [
    {
     "data": {
      "text/html": [
       "<div>\n",
       "<style scoped>\n",
       "    .dataframe tbody tr th:only-of-type {\n",
       "        vertical-align: middle;\n",
       "    }\n",
       "\n",
       "    .dataframe tbody tr th {\n",
       "        vertical-align: top;\n",
       "    }\n",
       "\n",
       "    .dataframe thead th {\n",
       "        text-align: right;\n",
       "    }\n",
       "</style>\n",
       "<table border=\"1\" class=\"dataframe\">\n",
       "  <thead>\n",
       "    <tr style=\"text-align: right;\">\n",
       "      <th></th>\n",
       "      <th>stop_id</th>\n",
       "      <th>n</th>\n",
       "    </tr>\n",
       "  </thead>\n",
       "  <tbody>\n",
       "    <tr>\n",
       "      <th>0</th>\n",
       "      <td>13059</td>\n",
       "      <td>1</td>\n",
       "    </tr>\n",
       "    <tr>\n",
       "      <th>1</th>\n",
       "      <td>13062</td>\n",
       "      <td>1</td>\n",
       "    </tr>\n",
       "    <tr>\n",
       "      <th>2</th>\n",
       "      <td>13064</td>\n",
       "      <td>1</td>\n",
       "    </tr>\n",
       "    <tr>\n",
       "      <th>3</th>\n",
       "      <td>13066</td>\n",
       "      <td>1</td>\n",
       "    </tr>\n",
       "    <tr>\n",
       "      <th>4</th>\n",
       "      <td>13244</td>\n",
       "      <td>1</td>\n",
       "    </tr>\n",
       "    <tr>\n",
       "      <th>...</th>\n",
       "      <td>...</td>\n",
       "      <td>...</td>\n",
       "    </tr>\n",
       "    <tr>\n",
       "      <th>69</th>\n",
       "      <td>17721</td>\n",
       "      <td>1</td>\n",
       "    </tr>\n",
       "    <tr>\n",
       "      <th>70</th>\n",
       "      <td>17727</td>\n",
       "      <td>1</td>\n",
       "    </tr>\n",
       "    <tr>\n",
       "      <th>71</th>\n",
       "      <td>17728</td>\n",
       "      <td>1</td>\n",
       "    </tr>\n",
       "    <tr>\n",
       "      <th>72</th>\n",
       "      <td>17729</td>\n",
       "      <td>1</td>\n",
       "    </tr>\n",
       "    <tr>\n",
       "      <th>73</th>\n",
       "      <td>17730</td>\n",
       "      <td>1</td>\n",
       "    </tr>\n",
       "  </tbody>\n",
       "</table>\n",
       "<p>74 rows × 2 columns</p>\n",
       "</div>"
      ],
      "text/plain": [
       "   stop_id  n\n",
       "0    13059  1\n",
       "1    13062  1\n",
       "2    13064  1\n",
       "3    13066  1\n",
       "4    13244  1\n",
       "..     ... ..\n",
       "69   17721  1\n",
       "70   17727  1\n",
       "71   17728  1\n",
       "72   17729  1\n",
       "73   17730  1\n",
       "\n",
       "[74 rows x 2 columns]"
      ]
     },
     "execution_count": 249,
     "metadata": {},
     "output_type": "execute_result"
    }
   ],
   "source": [
    "df2_final >> count(_.stop_id)"
   ]
  },
  {
   "cell_type": "code",
   "execution_count": 250,
   "id": "fa0acab7-5be9-40c9-a6b7-811e4c34f616",
   "metadata": {},
   "outputs": [],
   "source": [
    "short_routes = df2_final.explode('route_dir') >> count(_.route_dir) >> filter(_.n < SHARED_STOP_THRESHOLD)"
   ]
  },
  {
   "cell_type": "code",
   "execution_count": 251,
   "id": "59ae9ec2-ee61-48c0-a536-91ad596c2e34",
   "metadata": {},
   "outputs": [],
   "source": [
    "df2_final['all_short'] = df2_final.route_dir.map(lambda x: np.array([True if y in list(short_routes.route_dir) else False for y in x]).all())"
   ]
  },
  {
   "cell_type": "code",
   "execution_count": 252,
   "id": "6b4e06e4-4552-41cb-949e-1552b0252f68",
   "metadata": {},
   "outputs": [
    {
     "data": {
      "text/html": [
       "<div>\n",
       "<style scoped>\n",
       "    .dataframe tbody tr th:only-of-type {\n",
       "        vertical-align: middle;\n",
       "    }\n",
       "\n",
       "    .dataframe tbody tr th {\n",
       "        vertical-align: top;\n",
       "    }\n",
       "\n",
       "    .dataframe thead th {\n",
       "        text-align: right;\n",
       "    }\n",
       "</style>\n",
       "<table border=\"1\" class=\"dataframe\">\n",
       "  <thead>\n",
       "    <tr style=\"text-align: right;\">\n",
       "      <th></th>\n",
       "      <th>schedule_gtfs_dataset_key</th>\n",
       "      <th>stop_id</th>\n",
       "      <th>am_max_trips</th>\n",
       "      <th>route_dir</th>\n",
       "      <th>pm_max_trips</th>\n",
       "      <th>am_max_trips_hr</th>\n",
       "      <th>pm_max_trips_hr</th>\n",
       "      <th>n_trips</th>\n",
       "      <th>route_dir_count</th>\n",
       "      <th>all_short</th>\n",
       "    </tr>\n",
       "  </thead>\n",
       "  <tbody>\n",
       "  </tbody>\n",
       "</table>\n",
       "</div>"
      ],
      "text/plain": [
       "Empty DataFrame\n",
       "Columns: [schedule_gtfs_dataset_key, stop_id, am_max_trips, route_dir, pm_max_trips, am_max_trips_hr, pm_max_trips_hr, n_trips, route_dir_count, all_short]\n",
       "Index: []"
      ]
     },
     "execution_count": 252,
     "metadata": {},
     "output_type": "execute_result"
    }
   ],
   "source": [
    "df2_final >> filter(_.all_short) #  stops where _every_ shared route has less than SHARED_STOP_THRESHOLD frequent stops (even after aggregation)"
   ]
  },
  {
   "cell_type": "code",
   "execution_count": 253,
   "id": "8677732f-eb96-4b78-9e7f-ca1c3a9ede97",
   "metadata": {},
   "outputs": [],
   "source": [
    "df2_final = df2_final >> filter(-_.all_short)"
   ]
  },
  {
   "cell_type": "markdown",
   "id": "e3108b92-f912-433d-a148-3c7cc892e77c",
   "metadata": {},
   "source": [
    "## Map single result"
   ]
  },
  {
   "cell_type": "code",
   "execution_count": 210,
   "id": "d62923e4-2a9a-4e4c-8269-cf3ef649e56a",
   "metadata": {},
   "outputs": [],
   "source": [
    "stops = helpers.import_scheduled_stops(\n",
    "    analysis_date,\n",
    "    get_pandas = True,\n",
    "    crs = PROJECT_CRS\n",
    ")"
   ]
  },
  {
   "cell_type": "code",
   "execution_count": 254,
   "id": "a22f5de6-03e0-4973-befa-9115ae3e0a2a",
   "metadata": {},
   "outputs": [],
   "source": [
    "gdf = stops >> inner_join(_, df2, on=['stop_id', 'feed_key']) >> inner_join(_, df2_final, on = ['schedule_gtfs_dataset_key', 'stop_id']) >> distinct(_.stop_id, _.geometry)"
   ]
  },
  {
   "cell_type": "code",
   "execution_count": 259,
   "id": "3bcb07d9-7f22-48de-9130-4275422c6b3b",
   "metadata": {
    "tags": []
   },
   "outputs": [
    {
     "data": {
      "text/html": [
       "<div style=\"width:100%;\"><div style=\"position:relative;width:100%;height:0;padding-bottom:60%;\"><span style=\"color:#565656\">Make this Notebook Trusted to load map: File -> Trust Notebook</span><iframe src=\"about:blank\" style=\"position:absolute;width:100%;height:100%;left:0;top:0;border:none !important;\" data-html=%3C%21DOCTYPE%20html%3E%0A%3Chead%3E%20%20%20%20%0A%20%20%20%20%3Cmeta%20http-equiv%3D%22content-type%22%20content%3D%22text/html%3B%20charset%3DUTF-8%22%20/%3E%0A%20%20%20%20%0A%20%20%20%20%20%20%20%20%3Cscript%3E%0A%20%20%20%20%20%20%20%20%20%20%20%20L_NO_TOUCH%20%3D%20false%3B%0A%20%20%20%20%20%20%20%20%20%20%20%20L_DISABLE_3D%20%3D%20false%3B%0A%20%20%20%20%20%20%20%20%3C/script%3E%0A%20%20%20%20%0A%20%20%20%20%3Cstyle%3Ehtml%2C%20body%20%7Bwidth%3A%20100%25%3Bheight%3A%20100%25%3Bmargin%3A%200%3Bpadding%3A%200%3B%7D%3C/style%3E%0A%20%20%20%20%3Cstyle%3E%23map%20%7Bposition%3Aabsolute%3Btop%3A0%3Bbottom%3A0%3Bright%3A0%3Bleft%3A0%3B%7D%3C/style%3E%0A%20%20%20%20%3Cscript%20src%3D%22https%3A//cdn.jsdelivr.net/npm/leaflet%401.6.0/dist/leaflet.js%22%3E%3C/script%3E%0A%20%20%20%20%3Cscript%20src%3D%22https%3A//code.jquery.com/jquery-1.12.4.min.js%22%3E%3C/script%3E%0A%20%20%20%20%3Cscript%20src%3D%22https%3A//maxcdn.bootstrapcdn.com/bootstrap/3.2.0/js/bootstrap.min.js%22%3E%3C/script%3E%0A%20%20%20%20%3Cscript%20src%3D%22https%3A//cdnjs.cloudflare.com/ajax/libs/Leaflet.awesome-markers/2.0.2/leaflet.awesome-markers.js%22%3E%3C/script%3E%0A%20%20%20%20%3Clink%20rel%3D%22stylesheet%22%20href%3D%22https%3A//cdn.jsdelivr.net/npm/leaflet%401.6.0/dist/leaflet.css%22/%3E%0A%20%20%20%20%3Clink%20rel%3D%22stylesheet%22%20href%3D%22https%3A//maxcdn.bootstrapcdn.com/bootstrap/3.2.0/css/bootstrap.min.css%22/%3E%0A%20%20%20%20%3Clink%20rel%3D%22stylesheet%22%20href%3D%22https%3A//maxcdn.bootstrapcdn.com/bootstrap/3.2.0/css/bootstrap-theme.min.css%22/%3E%0A%20%20%20%20%3Clink%20rel%3D%22stylesheet%22%20href%3D%22https%3A//maxcdn.bootstrapcdn.com/font-awesome/4.6.3/css/font-awesome.min.css%22/%3E%0A%20%20%20%20%3Clink%20rel%3D%22stylesheet%22%20href%3D%22https%3A//cdnjs.cloudflare.com/ajax/libs/Leaflet.awesome-markers/2.0.2/leaflet.awesome-markers.css%22/%3E%0A%20%20%20%20%3Clink%20rel%3D%22stylesheet%22%20href%3D%22https%3A//cdn.jsdelivr.net/gh/python-visualization/folium/folium/templates/leaflet.awesome.rotate.min.css%22/%3E%0A%20%20%20%20%0A%20%20%20%20%20%20%20%20%20%20%20%20%3Cmeta%20name%3D%22viewport%22%20content%3D%22width%3Ddevice-width%2C%0A%20%20%20%20%20%20%20%20%20%20%20%20%20%20%20%20initial-scale%3D1.0%2C%20maximum-scale%3D1.0%2C%20user-scalable%3Dno%22%20/%3E%0A%20%20%20%20%20%20%20%20%20%20%20%20%3Cstyle%3E%0A%20%20%20%20%20%20%20%20%20%20%20%20%20%20%20%20%23map_a54e4e9a70a9417e860ec8f54248b2ab%20%7B%0A%20%20%20%20%20%20%20%20%20%20%20%20%20%20%20%20%20%20%20%20position%3A%20relative%3B%0A%20%20%20%20%20%20%20%20%20%20%20%20%20%20%20%20%20%20%20%20width%3A%20100.0%25%3B%0A%20%20%20%20%20%20%20%20%20%20%20%20%20%20%20%20%20%20%20%20height%3A%20100.0%25%3B%0A%20%20%20%20%20%20%20%20%20%20%20%20%20%20%20%20%20%20%20%20left%3A%200.0%25%3B%0A%20%20%20%20%20%20%20%20%20%20%20%20%20%20%20%20%20%20%20%20top%3A%200.0%25%3B%0A%20%20%20%20%20%20%20%20%20%20%20%20%20%20%20%20%7D%0A%20%20%20%20%20%20%20%20%20%20%20%20%3C/style%3E%0A%20%20%20%20%20%20%20%20%0A%20%20%20%20%0A%20%20%20%20%20%20%20%20%20%20%20%20%20%20%20%20%20%20%20%20%3Cstyle%3E%0A%20%20%20%20%20%20%20%20%20%20%20%20%20%20%20%20%20%20%20%20%20%20%20%20.foliumtooltip%20%7B%0A%20%20%20%20%20%20%20%20%20%20%20%20%20%20%20%20%20%20%20%20%20%20%20%20%20%20%20%20%0A%20%20%20%20%20%20%20%20%20%20%20%20%20%20%20%20%20%20%20%20%20%20%20%20%7D%0A%20%20%20%20%20%20%20%20%20%20%20%20%20%20%20%20%20%20%20%20%20%20%20.foliumtooltip%20table%7B%0A%20%20%20%20%20%20%20%20%20%20%20%20%20%20%20%20%20%20%20%20%20%20%20%20%20%20%20%20margin%3A%20auto%3B%0A%20%20%20%20%20%20%20%20%20%20%20%20%20%20%20%20%20%20%20%20%20%20%20%20%7D%0A%20%20%20%20%20%20%20%20%20%20%20%20%20%20%20%20%20%20%20%20%20%20%20%20.foliumtooltip%20tr%7B%0A%20%20%20%20%20%20%20%20%20%20%20%20%20%20%20%20%20%20%20%20%20%20%20%20%20%20%20%20text-align%3A%20left%3B%0A%20%20%20%20%20%20%20%20%20%20%20%20%20%20%20%20%20%20%20%20%20%20%20%20%7D%0A%20%20%20%20%20%20%20%20%20%20%20%20%20%20%20%20%20%20%20%20%20%20%20%20.foliumtooltip%20th%7B%0A%20%20%20%20%20%20%20%20%20%20%20%20%20%20%20%20%20%20%20%20%20%20%20%20%20%20%20%20padding%3A%202px%3B%20padding-right%3A%208px%3B%0A%20%20%20%20%20%20%20%20%20%20%20%20%20%20%20%20%20%20%20%20%20%20%20%20%7D%0A%20%20%20%20%20%20%20%20%20%20%20%20%20%20%20%20%20%20%20%20%3C/style%3E%0A%20%20%20%20%20%20%20%20%20%20%20%20%0A%3C/head%3E%0A%3Cbody%3E%20%20%20%20%0A%20%20%20%20%0A%20%20%20%20%20%20%20%20%20%20%20%20%3Cdiv%20class%3D%22folium-map%22%20id%3D%22map_a54e4e9a70a9417e860ec8f54248b2ab%22%20%3E%3C/div%3E%0A%20%20%20%20%20%20%20%20%0A%3C/body%3E%0A%3Cscript%3E%20%20%20%20%0A%20%20%20%20%0A%20%20%20%20%20%20%20%20%20%20%20%20var%20map_a54e4e9a70a9417e860ec8f54248b2ab%20%3D%20L.map%28%0A%20%20%20%20%20%20%20%20%20%20%20%20%20%20%20%20%22map_a54e4e9a70a9417e860ec8f54248b2ab%22%2C%0A%20%20%20%20%20%20%20%20%20%20%20%20%20%20%20%20%7B%0A%20%20%20%20%20%20%20%20%20%20%20%20%20%20%20%20%20%20%20%20center%3A%20%5B37.751152499999975%2C%20-122.45353800000001%5D%2C%0A%20%20%20%20%20%20%20%20%20%20%20%20%20%20%20%20%20%20%20%20crs%3A%20L.CRS.EPSG3857%2C%0A%20%20%20%20%20%20%20%20%20%20%20%20%20%20%20%20%20%20%20%20zoom%3A%2010%2C%0A%20%20%20%20%20%20%20%20%20%20%20%20%20%20%20%20%20%20%20%20zoomControl%3A%20true%2C%0A%20%20%20%20%20%20%20%20%20%20%20%20%20%20%20%20%20%20%20%20preferCanvas%3A%20false%2C%0A%20%20%20%20%20%20%20%20%20%20%20%20%20%20%20%20%7D%0A%20%20%20%20%20%20%20%20%20%20%20%20%29%3B%0A%20%20%20%20%20%20%20%20%20%20%20%20L.control.scale%28%29.addTo%28map_a54e4e9a70a9417e860ec8f54248b2ab%29%3B%0A%0A%20%20%20%20%20%20%20%20%20%20%20%20%0A%0A%20%20%20%20%20%20%20%20%0A%20%20%20%20%0A%20%20%20%20%20%20%20%20%20%20%20%20var%20tile_layer_9e1678ab1bd149bda07dad91b5eeb997%20%3D%20L.tileLayer%28%0A%20%20%20%20%20%20%20%20%20%20%20%20%20%20%20%20%22https%3A//%7Bs%7D.tile.openstreetmap.org/%7Bz%7D/%7Bx%7D/%7By%7D.png%22%2C%0A%20%20%20%20%20%20%20%20%20%20%20%20%20%20%20%20%7B%22attribution%22%3A%20%22Data%20by%20%5Cu0026copy%3B%20%5Cu003ca%20href%3D%5C%22http%3A//openstreetmap.org%5C%22%5Cu003eOpenStreetMap%5Cu003c/a%5Cu003e%2C%20under%20%5Cu003ca%20href%3D%5C%22http%3A//www.openstreetmap.org/copyright%5C%22%5Cu003eODbL%5Cu003c/a%5Cu003e.%22%2C%20%22detectRetina%22%3A%20false%2C%20%22maxNativeZoom%22%3A%2018%2C%20%22maxZoom%22%3A%2018%2C%20%22minZoom%22%3A%200%2C%20%22noWrap%22%3A%20false%2C%20%22opacity%22%3A%201%2C%20%22subdomains%22%3A%20%22abc%22%2C%20%22tms%22%3A%20false%7D%0A%20%20%20%20%20%20%20%20%20%20%20%20%29.addTo%28map_a54e4e9a70a9417e860ec8f54248b2ab%29%3B%0A%20%20%20%20%20%20%20%20%0A%20%20%20%20%0A%20%20%20%20%20%20%20%20%20%20%20%20map_a54e4e9a70a9417e860ec8f54248b2ab.fitBounds%28%0A%20%20%20%20%20%20%20%20%20%20%20%20%20%20%20%20%5B%5B37.70689999999996%2C%20-122.51006%5D%2C%20%5B37.79540499999999%2C%20-122.39701600000001%5D%5D%2C%0A%20%20%20%20%20%20%20%20%20%20%20%20%20%20%20%20%7B%7D%0A%20%20%20%20%20%20%20%20%20%20%20%20%29%3B%0A%20%20%20%20%20%20%20%20%0A%20%20%20%20%0A%20%20%20%20%20%20%20%20function%20geo_json_689b55c32b8747fbb6f647e4608ca5fb_styler%28feature%29%20%7B%0A%20%20%20%20%20%20%20%20%20%20%20%20switch%28feature.id%29%20%7B%0A%20%20%20%20%20%20%20%20%20%20%20%20%20%20%20%20default%3A%0A%20%20%20%20%20%20%20%20%20%20%20%20%20%20%20%20%20%20%20%20return%20%7B%22fillOpacity%22%3A%200.5%2C%20%22weight%22%3A%202%7D%3B%0A%20%20%20%20%20%20%20%20%20%20%20%20%7D%0A%20%20%20%20%20%20%20%20%7D%0A%20%20%20%20%20%20%20%20function%20geo_json_689b55c32b8747fbb6f647e4608ca5fb_highlighter%28feature%29%20%7B%0A%20%20%20%20%20%20%20%20%20%20%20%20switch%28feature.id%29%20%7B%0A%20%20%20%20%20%20%20%20%20%20%20%20%20%20%20%20default%3A%0A%20%20%20%20%20%20%20%20%20%20%20%20%20%20%20%20%20%20%20%20return%20%7B%22fillOpacity%22%3A%200.75%7D%3B%0A%20%20%20%20%20%20%20%20%20%20%20%20%7D%0A%20%20%20%20%20%20%20%20%7D%0A%20%20%20%20%20%20%20%20function%20geo_json_689b55c32b8747fbb6f647e4608ca5fb_pointToLayer%28feature%2C%20latlng%29%20%7B%0A%20%20%20%20%20%20%20%20%20%20%20%20var%20opts%20%3D%20%7B%22bubblingMouseEvents%22%3A%20true%2C%20%22color%22%3A%20%22%233388ff%22%2C%20%22dashArray%22%3A%20null%2C%20%22dashOffset%22%3A%20null%2C%20%22fill%22%3A%20true%2C%20%22fillColor%22%3A%20%22%233388ff%22%2C%20%22fillOpacity%22%3A%200.2%2C%20%22fillRule%22%3A%20%22evenodd%22%2C%20%22lineCap%22%3A%20%22round%22%2C%20%22lineJoin%22%3A%20%22round%22%2C%20%22opacity%22%3A%201.0%2C%20%22radius%22%3A%202%2C%20%22stroke%22%3A%20true%2C%20%22weight%22%3A%203%7D%3B%0A%20%20%20%20%20%20%20%20%20%20%20%20%0A%20%20%20%20%20%20%20%20%20%20%20%20let%20style%20%3D%20geo_json_689b55c32b8747fbb6f647e4608ca5fb_styler%28feature%29%0A%20%20%20%20%20%20%20%20%20%20%20%20Object.assign%28opts%2C%20style%29%0A%20%20%20%20%20%20%20%20%20%20%20%20%0A%20%20%20%20%20%20%20%20%20%20%20%20return%20new%20L.CircleMarker%28latlng%2C%20opts%29%0A%20%20%20%20%20%20%20%20%7D%0A%0A%20%20%20%20%20%20%20%20function%20geo_json_689b55c32b8747fbb6f647e4608ca5fb_onEachFeature%28feature%2C%20layer%29%20%7B%0A%20%20%20%20%20%20%20%20%20%20%20%20layer.on%28%7B%0A%20%20%20%20%20%20%20%20%20%20%20%20%20%20%20%20mouseout%3A%20function%28e%29%20%7B%0A%20%20%20%20%20%20%20%20%20%20%20%20%20%20%20%20%20%20%20%20if%28typeof%20e.target.setStyle%20%3D%3D%3D%20%22function%22%29%7B%0A%20%20%20%20%20%20%20%20%20%20%20%20%20%20%20%20%20%20%20%20%20%20%20%20geo_json_689b55c32b8747fbb6f647e4608ca5fb.resetStyle%28e.target%29%3B%0A%20%20%20%20%20%20%20%20%20%20%20%20%20%20%20%20%20%20%20%20%7D%0A%20%20%20%20%20%20%20%20%20%20%20%20%20%20%20%20%7D%2C%0A%20%20%20%20%20%20%20%20%20%20%20%20%20%20%20%20mouseover%3A%20function%28e%29%20%7B%0A%20%20%20%20%20%20%20%20%20%20%20%20%20%20%20%20%20%20%20%20if%28typeof%20e.target.setStyle%20%3D%3D%3D%20%22function%22%29%7B%0A%20%20%20%20%20%20%20%20%20%20%20%20%20%20%20%20%20%20%20%20%20%20%20%20const%20highlightStyle%20%3D%20geo_json_689b55c32b8747fbb6f647e4608ca5fb_highlighter%28e.target.feature%29%0A%20%20%20%20%20%20%20%20%20%20%20%20%20%20%20%20%20%20%20%20%20%20%20%20e.target.setStyle%28highlightStyle%29%3B%0A%20%20%20%20%20%20%20%20%20%20%20%20%20%20%20%20%20%20%20%20%7D%0A%20%20%20%20%20%20%20%20%20%20%20%20%20%20%20%20%7D%2C%0A%20%20%20%20%20%20%20%20%20%20%20%20%7D%29%3B%0A%20%20%20%20%20%20%20%20%7D%3B%0A%20%20%20%20%20%20%20%20var%20geo_json_689b55c32b8747fbb6f647e4608ca5fb%20%3D%20L.geoJson%28null%2C%20%7B%0A%20%20%20%20%20%20%20%20%20%20%20%20%20%20%20%20onEachFeature%3A%20geo_json_689b55c32b8747fbb6f647e4608ca5fb_onEachFeature%2C%0A%20%20%20%20%20%20%20%20%20%20%20%20%0A%20%20%20%20%20%20%20%20%20%20%20%20%20%20%20%20style%3A%20geo_json_689b55c32b8747fbb6f647e4608ca5fb_styler%2C%0A%20%20%20%20%20%20%20%20%20%20%20%20%20%20%20%20pointToLayer%3A%20geo_json_689b55c32b8747fbb6f647e4608ca5fb_pointToLayer%0A%20%20%20%20%20%20%20%20%7D%29%3B%0A%0A%20%20%20%20%20%20%20%20function%20geo_json_689b55c32b8747fbb6f647e4608ca5fb_add%20%28data%29%20%7B%0A%20%20%20%20%20%20%20%20%20%20%20%20geo_json_689b55c32b8747fbb6f647e4608ca5fb%0A%20%20%20%20%20%20%20%20%20%20%20%20%20%20%20%20.addData%28data%29%0A%20%20%20%20%20%20%20%20%20%20%20%20%20%20%20%20.addTo%28map_a54e4e9a70a9417e860ec8f54248b2ab%29%3B%0A%20%20%20%20%20%20%20%20%7D%0A%20%20%20%20%20%20%20%20%20%20%20%20geo_json_689b55c32b8747fbb6f647e4608ca5fb_add%28%7B%22bbox%22%3A%20%5B-122.51006%2C%2037.70689999999996%2C%20-122.39701600000001%2C%2037.79540499999999%5D%2C%20%22features%22%3A%20%5B%7B%22bbox%22%3A%20%5B-122.49419900000001%2C%2037.77579099999994%2C%20-122.49419900000001%2C%2037.77579099999994%5D%2C%20%22geometry%22%3A%20%7B%22coordinates%22%3A%20%5B-122.49419900000001%2C%2037.77579099999994%5D%2C%20%22type%22%3A%20%22Point%22%7D%2C%20%22id%22%3A%20%220%22%2C%20%22properties%22%3A%20%7B%22stop_id%22%3A%20%2213059%22%7D%2C%20%22type%22%3A%20%22Feature%22%7D%2C%20%7B%22bbox%22%3A%20%5B-122.49741899999998%2C%2037.775646999999985%2C%20-122.49741899999998%2C%2037.775646999999985%5D%2C%20%22geometry%22%3A%20%7B%22coordinates%22%3A%20%5B-122.49741899999998%2C%2037.775646999999985%5D%2C%20%22type%22%3A%20%22Point%22%7D%2C%20%22id%22%3A%20%221%22%2C%20%22properties%22%3A%20%7B%22stop_id%22%3A%20%2213062%22%7D%2C%20%22type%22%3A%20%22Feature%22%7D%2C%20%7B%22bbox%22%3A%20%5B-122.500617%2C%2037.77550299999999%2C%20-122.500617%2C%2037.77550299999999%5D%2C%20%22geometry%22%3A%20%7B%22coordinates%22%3A%20%5B-122.500617%2C%2037.77550299999999%5D%2C%20%22type%22%3A%20%22Point%22%7D%2C%20%22id%22%3A%20%222%22%2C%20%22properties%22%3A%20%7B%22stop_id%22%3A%20%2213064%22%7D%2C%20%22type%22%3A%20%22Feature%22%7D%2C%20%7B%22bbox%22%3A%20%5B-122.503838%2C%2037.77535000000006%2C%20-122.503838%2C%2037.77535000000006%5D%2C%20%22geometry%22%3A%20%7B%22coordinates%22%3A%20%5B-122.503838%2C%2037.77535000000006%5D%2C%20%22type%22%3A%20%22Point%22%7D%2C%20%22id%22%3A%20%223%22%2C%20%22properties%22%3A%20%7B%22stop_id%22%3A%20%2213066%22%7D%2C%20%22type%22%3A%20%22Feature%22%7D%2C%20%7B%22bbox%22%3A%20%5B-122.41851999999999%2C%2037.77549999999999%2C%20-122.41851999999999%2C%2037.77549999999999%5D%2C%20%22geometry%22%3A%20%7B%22coordinates%22%3A%20%5B-122.41851999999999%2C%2037.77549999999999%5D%2C%20%22type%22%3A%20%22Point%22%7D%2C%20%22id%22%3A%20%224%22%2C%20%22properties%22%3A%20%7B%22stop_id%22%3A%20%2213244%22%7D%2C%20%22type%22%3A%20%22Feature%22%7D%2C%20%7B%22bbox%22%3A%20%5B-122.50579800000001%2C%2037.77524200000003%2C%20-122.50579800000001%2C%2037.77524200000003%5D%2C%20%22geometry%22%3A%20%7B%22coordinates%22%3A%20%5B-122.50579800000001%2C%2037.77524200000003%5D%2C%20%22type%22%3A%20%22Point%22%7D%2C%20%22id%22%3A%20%225%22%2C%20%22properties%22%3A%20%7B%22stop_id%22%3A%20%2213570%22%7D%2C%20%22type%22%3A%20%22Feature%22%7D%2C%20%7B%22bbox%22%3A%20%5B-122.50567%2C%2037.77357300000005%2C%20-122.50567%2C%2037.77357300000005%5D%2C%20%22geometry%22%3A%20%7B%22coordinates%22%3A%20%5B-122.50567%2C%2037.77357300000005%5D%2C%20%22type%22%3A%20%22Point%22%7D%2C%20%22id%22%3A%20%226%22%2C%20%22properties%22%3A%20%7B%22stop_id%22%3A%20%2213572%22%7D%2C%20%22type%22%3A%20%22Feature%22%7D%2C%20%7B%22bbox%22%3A%20%5B-122.507985%2C%2037.77328700000003%2C%20-122.507985%2C%2037.77328700000003%5D%2C%20%22geometry%22%3A%20%7B%22coordinates%22%3A%20%5B-122.507985%2C%2037.77328700000003%5D%2C%20%22type%22%3A%20%22Point%22%7D%2C%20%22id%22%3A%20%227%22%2C%20%22properties%22%3A%20%7B%22stop_id%22%3A%20%2213925%22%7D%2C%20%22type%22%3A%20%22Feature%22%7D%2C%20%7B%22bbox%22%3A%20%5B-122.49318%2C%2037.77222999999997%2C%20-122.49318%2C%2037.77222999999997%5D%2C%20%22geometry%22%3A%20%7B%22coordinates%22%3A%20%5B-122.49318%2C%2037.77222999999997%5D%2C%20%22type%22%3A%20%22Point%22%7D%2C%20%22id%22%3A%20%228%22%2C%20%22properties%22%3A%20%7B%22stop_id%22%3A%20%2214211%22%7D%2C%20%22type%22%3A%20%22Feature%22%7D%2C%20%7B%22bbox%22%3A%20%5B-122.49288%2C%2037.77210000000005%2C%20-122.49288%2C%2037.77210000000005%5D%2C%20%22geometry%22%3A%20%7B%22coordinates%22%3A%20%5B-122.49288%2C%2037.77210000000005%5D%2C%20%22type%22%3A%20%22Point%22%7D%2C%20%22id%22%3A%20%229%22%2C%20%22properties%22%3A%20%7B%22stop_id%22%3A%20%2214212%22%7D%2C%20%22type%22%3A%20%22Feature%22%7D%2C%20%7B%22bbox%22%3A%20%5B-122.49633999999999%2C%2037.772079999999995%2C%20-122.49633999999999%2C%2037.772079999999995%5D%2C%20%22geometry%22%3A%20%7B%22coordinates%22%3A%20%5B-122.49633999999999%2C%2037.772079999999995%5D%2C%20%22type%22%3A%20%22Point%22%7D%2C%20%22id%22%3A%20%2210%22%2C%20%22properties%22%3A%20%7B%22stop_id%22%3A%20%2214213%22%7D%2C%20%22type%22%3A%20%22Feature%22%7D%2C%20%7B%22bbox%22%3A%20%5B-122.49679000000002%2C%2037.771920000000044%2C%20-122.49679000000002%2C%2037.771920000000044%5D%2C%20%22geometry%22%3A%20%7B%22coordinates%22%3A%20%5B-122.49679000000002%2C%2037.771920000000044%5D%2C%20%22type%22%3A%20%22Point%22%7D%2C%20%22id%22%3A%20%2211%22%2C%20%22properties%22%3A%20%7B%22stop_id%22%3A%20%2214215%22%7D%2C%20%22type%22%3A%20%22Feature%22%7D%2C%20%7B%22bbox%22%3A%20%5B-122.49991000000001%2C%2037.771790000000024%2C%20-122.49991000000001%2C%2037.771790000000024%5D%2C%20%22geometry%22%3A%20%7B%22coordinates%22%3A%20%5B-122.49991000000001%2C%2037.771790000000024%5D%2C%20%22type%22%3A%20%22Point%22%7D%2C%20%22id%22%3A%20%2212%22%2C%20%22properties%22%3A%20%7B%22stop_id%22%3A%20%2214218%22%7D%2C%20%22type%22%3A%20%22Feature%22%7D%2C%20%7B%22bbox%22%3A%20%5B-122.50704000000002%2C%2037.77159000000004%2C%20-122.50704000000002%2C%2037.77159000000004%5D%2C%20%22geometry%22%3A%20%7B%22coordinates%22%3A%20%5B-122.50704000000002%2C%2037.77159000000004%5D%2C%20%22type%22%3A%20%22Point%22%7D%2C%20%22id%22%3A%20%2213%22%2C%20%22properties%22%3A%20%7B%22stop_id%22%3A%20%2214221%22%7D%2C%20%22type%22%3A%20%22Feature%22%7D%2C%20%7B%22bbox%22%3A%20%5B-122.50631%2C%2037.77148000000006%2C%20-122.50631%2C%2037.77148000000006%5D%2C%20%22geometry%22%3A%20%7B%22coordinates%22%3A%20%5B-122.50631%2C%2037.77148000000006%5D%2C%20%22type%22%3A%20%22Point%22%7D%2C%20%22id%22%3A%20%2214%22%2C%20%22properties%22%3A%20%7B%22stop_id%22%3A%20%2214222%22%7D%2C%20%22type%22%3A%20%22Feature%22%7D%2C%20%7B%22bbox%22%3A%20%5B-122.50939%2C%2037.771339999999995%2C%20-122.50939%2C%2037.771339999999995%5D%2C%20%22geometry%22%3A%20%7B%22coordinates%22%3A%20%5B-122.50939%2C%2037.771339999999995%5D%2C%20%22type%22%3A%20%22Point%22%7D%2C%20%22id%22%3A%20%2215%22%2C%20%22properties%22%3A%20%7B%22stop_id%22%3A%20%2214228%22%7D%2C%20%22type%22%3A%20%22Feature%22%7D%2C%20%7B%22bbox%22%3A%20%5B-122.47217999999998%2C%2037.77318999999997%2C%20-122.47217999999998%2C%2037.77318999999997%5D%2C%20%22geometry%22%3A%20%7B%22coordinates%22%3A%20%5B-122.47217999999998%2C%2037.77318999999997%5D%2C%20%22type%22%3A%20%22Point%22%7D%2C%20%22id%22%3A%20%2216%22%2C%20%22properties%22%3A%20%7B%22stop_id%22%3A%20%2214231%22%7D%2C%20%22type%22%3A%20%22Feature%22%7D%2C%20%7B%22bbox%22%3A%20%5B-122.47169899999999%2C%2037.773067000000026%2C%20-122.47169899999999%2C%2037.773067000000026%5D%2C%20%22geometry%22%3A%20%7B%22coordinates%22%3A%20%5B-122.47169899999999%2C%2037.773067000000026%5D%2C%20%22type%22%3A%20%22Point%22%7D%2C%20%22id%22%3A%20%2217%22%2C%20%22properties%22%3A%20%7B%22stop_id%22%3A%20%2214232%22%7D%2C%20%22type%22%3A%20%22Feature%22%7D%2C%20%7B%22bbox%22%3A%20%5B-122.46384799999998%2C%2037.77363899999999%2C%20-122.46384799999998%2C%2037.77363899999999%5D%2C%20%22geometry%22%3A%20%7B%22coordinates%22%3A%20%5B-122.46384799999998%2C%2037.77363899999999%5D%2C%20%22type%22%3A%20%22Point%22%7D%2C%20%22id%22%3A%20%2218%22%2C%20%22properties%22%3A%20%7B%22stop_id%22%3A%20%2214732%22%7D%2C%20%22type%22%3A%20%22Feature%22%7D%2C%20%7B%22bbox%22%3A%20%5B-122.46604899999998%2C%2037.77347000000002%2C%20-122.46604899999998%2C%2037.77347000000002%5D%2C%20%22geometry%22%3A%20%7B%22coordinates%22%3A%20%5B-122.46604899999998%2C%2037.77347000000002%5D%2C%20%22type%22%3A%20%22Point%22%7D%2C%20%22id%22%3A%20%2219%22%2C%20%22properties%22%3A%20%7B%22stop_id%22%3A%20%2214734%22%7D%2C%20%22type%22%3A%20%22Feature%22%7D%2C%20%7B%22bbox%22%3A%20%5B-122.46839000000001%2C%2037.773350000000015%2C%20-122.46839000000001%2C%2037.773350000000015%5D%2C%20%22geometry%22%3A%20%7B%22coordinates%22%3A%20%5B-122.46839000000001%2C%2037.773350000000015%5D%2C%20%22type%22%3A%20%22Point%22%7D%2C%20%22id%22%3A%20%2220%22%2C%20%22properties%22%3A%20%7B%22stop_id%22%3A%20%2214736%22%7D%2C%20%22type%22%3A%20%22Feature%22%7D%2C%20%7B%22bbox%22%3A%20%5B-122.46761000000001%2C%2037.773249999999976%2C%20-122.46761000000001%2C%2037.773249999999976%5D%2C%20%22geometry%22%3A%20%7B%22coordinates%22%3A%20%5B-122.46761000000001%2C%2037.773249999999976%5D%2C%20%22type%22%3A%20%22Point%22%7D%2C%20%22id%22%3A%20%2221%22%2C%20%22properties%22%3A%20%7B%22stop_id%22%3A%20%2214737%22%7D%2C%20%22type%22%3A%20%22Feature%22%7D%2C%20%7B%22bbox%22%3A%20%5B-122.47677600000002%2C%2037.77295900000003%2C%20-122.47677600000002%2C%2037.77295900000003%5D%2C%20%22geometry%22%3A%20%7B%22coordinates%22%3A%20%5B-122.47677600000002%2C%2037.77295900000003%5D%2C%20%22type%22%3A%20%22Point%22%7D%2C%20%22id%22%3A%20%2222%22%2C%20%22properties%22%3A%20%7B%22stop_id%22%3A%20%2214742%22%7D%2C%20%22type%22%3A%20%22Feature%22%7D%2C%20%7B%22bbox%22%3A%20%5B-122.48133999999999%2C%2037.77275999999999%2C%20-122.48133999999999%2C%2037.77275999999999%5D%2C%20%22geometry%22%3A%20%7B%22coordinates%22%3A%20%5B-122.48133999999999%2C%2037.77275999999999%5D%2C%20%22type%22%3A%20%22Point%22%7D%2C%20%22id%22%3A%20%2223%22%2C%20%22properties%22%3A%20%7B%22stop_id%22%3A%20%2214746%22%7D%2C%20%22type%22%3A%20%22Feature%22%7D%2C%20%7B%22bbox%22%3A%20%5B-122.48061000000001%2C%2037.77266%2C%20-122.48061000000001%2C%2037.77266%5D%2C%20%22geometry%22%3A%20%7B%22coordinates%22%3A%20%5B-122.48061000000001%2C%2037.77266%5D%2C%20%22type%22%3A%20%22Point%22%7D%2C%20%22id%22%3A%20%2224%22%2C%20%22properties%22%3A%20%7B%22stop_id%22%3A%20%2214747%22%7D%2C%20%22type%22%3A%20%22Feature%22%7D%2C%20%7B%22bbox%22%3A%20%5B-122.48430600000002%2C%2037.772590999999984%2C%20-122.48430600000002%2C%2037.772590999999984%5D%2C%20%22geometry%22%3A%20%7B%22coordinates%22%3A%20%5B-122.48430600000002%2C%2037.772590999999984%5D%2C%20%22type%22%3A%20%22Point%22%7D%2C%20%22id%22%3A%20%2225%22%2C%20%22properties%22%3A%20%7B%22stop_id%22%3A%20%2214748%22%7D%2C%20%22type%22%3A%20%22Feature%22%7D%2C%20%7B%22bbox%22%3A%20%5B-122.4841%2C%2037.77254700000002%2C%20-122.4841%2C%2037.77254700000002%5D%2C%20%22geometry%22%3A%20%7B%22coordinates%22%3A%20%5B-122.4841%2C%2037.77254700000002%5D%2C%20%22type%22%3A%20%22Point%22%7D%2C%20%22id%22%3A%20%2226%22%2C%20%22properties%22%3A%20%7B%22stop_id%22%3A%20%2214749%22%7D%2C%20%22type%22%3A%20%22Feature%22%7D%2C%20%7B%22bbox%22%3A%20%5B-122.48717000000002%2C%2037.77235000000001%2C%20-122.48717000000002%2C%2037.77235000000001%5D%2C%20%22geometry%22%3A%20%7B%22coordinates%22%3A%20%5B-122.48717000000002%2C%2037.77235000000001%5D%2C%20%22type%22%3A%20%22Point%22%7D%2C%20%22id%22%3A%20%2227%22%2C%20%22properties%22%3A%20%7B%22stop_id%22%3A%20%2214751%22%7D%2C%20%22type%22%3A%20%22Feature%22%7D%2C%20%7B%22bbox%22%3A%20%5B-122.48919%2C%2037.77223999999999%2C%20-122.48919%2C%2037.77223999999999%5D%2C%20%22geometry%22%3A%20%7B%22coordinates%22%3A%20%5B-122.48919%2C%2037.77223999999999%5D%2C%20%22type%22%3A%20%22Point%22%7D%2C%20%22id%22%3A%20%2228%22%2C%20%22properties%22%3A%20%7B%22stop_id%22%3A%20%2214753%22%7D%2C%20%22type%22%3A%20%22Feature%22%7D%2C%20%7B%22bbox%22%3A%20%5B-122.41840899999998%2C%2037.70769999999996%2C%20-122.41840899999998%2C%2037.70769999999996%5D%2C%20%22geometry%22%3A%20%7B%22coordinates%22%3A%20%5B-122.41840899999998%2C%2037.70769999999996%5D%2C%20%22type%22%3A%20%22Point%22%7D%2C%20%22id%22%3A%20%2229%22%2C%20%22properties%22%3A%20%7B%22stop_id%22%3A%20%2214809%22%7D%2C%20%22type%22%3A%20%22Feature%22%7D%2C%20%7B%22bbox%22%3A%20%5B-122.509991%2C%2037.77321399999997%2C%20-122.509991%2C%2037.77321399999997%5D%2C%20%22geometry%22%3A%20%7B%22coordinates%22%3A%20%5B-122.509991%2C%2037.77321399999997%5D%2C%20%22type%22%3A%20%22Point%22%7D%2C%20%22id%22%3A%20%2230%22%2C%20%22properties%22%3A%20%7B%22stop_id%22%3A%20%2214842%22%7D%2C%20%22type%22%3A%20%22Feature%22%7D%2C%20%7B%22bbox%22%3A%20%5B-122.51006%2C%2037.77321399999997%2C%20-122.51006%2C%2037.77321399999997%5D%2C%20%22geometry%22%3A%20%7B%22coordinates%22%3A%20%5B-122.51006%2C%2037.77321399999997%5D%2C%20%22type%22%3A%20%22Point%22%7D%2C%20%22id%22%3A%20%2231%22%2C%20%22properties%22%3A%20%7B%22stop_id%22%3A%20%2214843%22%7D%2C%20%22type%22%3A%20%22Feature%22%7D%2C%20%7B%22bbox%22%3A%20%5B-122.415534%2C%2037.70693899999996%2C%20-122.415534%2C%2037.70693899999996%5D%2C%20%22geometry%22%3A%20%7B%22coordinates%22%3A%20%5B-122.415534%2C%2037.70693899999996%5D%2C%20%22type%22%3A%20%22Point%22%7D%2C%20%22id%22%3A%20%2232%22%2C%20%22properties%22%3A%20%7B%22stop_id%22%3A%20%2214895%22%7D%2C%20%22type%22%3A%20%22Feature%22%7D%2C%20%7B%22bbox%22%3A%20%5B-122.39701600000001%2C%2037.79257199999999%2C%20-122.39701600000001%2C%2037.79257199999999%5D%2C%20%22geometry%22%3A%20%7B%22coordinates%22%3A%20%5B-122.39701600000001%2C%2037.79257199999999%5D%2C%20%22type%22%3A%20%22Point%22%7D%2C%20%22id%22%3A%20%2233%22%2C%20%22properties%22%3A%20%7B%22stop_id%22%3A%20%2215658%22%7D%2C%20%22type%22%3A%20%22Feature%22%7D%2C%20%7B%22bbox%22%3A%20%5B-122.402163%2C%2037.788613000000055%2C%20-122.402163%2C%2037.788613000000055%5D%2C%20%22geometry%22%3A%20%7B%22coordinates%22%3A%20%5B-122.402163%2C%2037.788613000000055%5D%2C%20%22type%22%3A%20%22Point%22%7D%2C%20%22id%22%3A%20%2234%22%2C%20%22properties%22%3A%20%7B%22stop_id%22%3A%20%2215685%22%7D%2C%20%22type%22%3A%20%22Feature%22%7D%2C%20%7B%22bbox%22%3A%20%5B-122.40871100000001%2C%2037.79015799999996%2C%20-122.40871100000001%2C%2037.79015799999996%5D%2C%20%22geometry%22%3A%20%7B%22coordinates%22%3A%20%5B-122.40871100000001%2C%2037.79015799999996%5D%2C%20%22type%22%3A%20%22Point%22%7D%2C%20%22id%22%3A%20%2235%22%2C%20%22properties%22%3A%20%7B%22stop_id%22%3A%20%2216047%22%7D%2C%20%22type%22%3A%20%22Feature%22%7D%2C%20%7B%22bbox%22%3A%20%5B-122.409145%2C%2037.7923%2C%20-122.409145%2C%2037.7923%5D%2C%20%22geometry%22%3A%20%7B%22coordinates%22%3A%20%5B-122.409145%2C%2037.7923%5D%2C%20%22type%22%3A%20%22Point%22%7D%2C%20%22id%22%3A%20%2236%22%2C%20%22properties%22%3A%20%7B%22stop_id%22%3A%20%2216049%22%7D%2C%20%22type%22%3A%20%22Feature%22%7D%2C%20%7B%22bbox%22%3A%20%5B-122.409465%2C%2037.79375500000005%2C%20-122.409465%2C%2037.79375500000005%5D%2C%20%22geometry%22%3A%20%7B%22coordinates%22%3A%20%5B-122.409465%2C%2037.79375500000005%5D%2C%20%22type%22%3A%20%22Point%22%7D%2C%20%22id%22%3A%20%2237%22%2C%20%22properties%22%3A%20%7B%22stop_id%22%3A%20%2216051%22%7D%2C%20%22type%22%3A%20%22Feature%22%7D%2C%20%7B%22bbox%22%3A%20%5B-122.40812799999999%2C%2037.787267000000064%2C%20-122.40812799999999%2C%2037.787267000000064%5D%2C%20%22geometry%22%3A%20%7B%22coordinates%22%3A%20%5B-122.40812799999999%2C%2037.787267000000064%5D%2C%20%22type%22%3A%20%22Point%22%7D%2C%20%22id%22%3A%20%2238%22%2C%20%22properties%22%3A%20%7B%22stop_id%22%3A%20%2216058%22%7D%2C%20%22type%22%3A%20%22Feature%22%7D%2C%20%7B%22bbox%22%3A%20%5B-122.409763%2C%2037.79540499999999%2C%20-122.409763%2C%2037.79540499999999%5D%2C%20%22geometry%22%3A%20%7B%22coordinates%22%3A%20%5B-122.409763%2C%2037.79540499999999%5D%2C%20%22type%22%3A%20%22Point%22%7D%2C%20%22id%22%3A%20%2239%22%2C%20%22properties%22%3A%20%7B%22stop_id%22%3A%20%2216059%22%7D%2C%20%22type%22%3A%20%22Feature%22%7D%2C%20%7B%22bbox%22%3A%20%5B-122.407682%2C%2037.784698%2C%20-122.407682%2C%2037.784698%5D%2C%20%22geometry%22%3A%20%7B%22coordinates%22%3A%20%5B-122.407682%2C%2037.784698%5D%2C%20%22type%22%3A%20%22Point%22%7D%2C%20%22id%22%3A%20%2240%22%2C%20%22properties%22%3A%20%7B%22stop_id%22%3A%20%2216063%22%7D%2C%20%22type%22%3A%20%22Feature%22%7D%2C%20%7B%22bbox%22%3A%20%5B-122.40793300000001%2C%2037.786321999999984%2C%20-122.40793300000001%2C%2037.786321999999984%5D%2C%20%22geometry%22%3A%20%7B%22coordinates%22%3A%20%5B-122.40793300000001%2C%2037.786321999999984%5D%2C%20%22type%22%3A%20%22Point%22%7D%2C%20%22id%22%3A%20%2241%22%2C%20%22properties%22%3A%20%7B%22stop_id%22%3A%20%2216068%22%7D%2C%20%22type%22%3A%20%22Feature%22%7D%2C%20%7B%22bbox%22%3A%20%5B-122.40890500000002%2C%2037.791095%2C%20-122.40890500000002%2C%2037.791095%5D%2C%20%22geometry%22%3A%20%7B%22coordinates%22%3A%20%5B-122.40890500000002%2C%2037.791095%5D%2C%20%22type%22%3A%20%22Point%22%7D%2C%20%22id%22%3A%20%2242%22%2C%20%22properties%22%3A%20%7B%22stop_id%22%3A%20%2216069%22%7D%2C%20%22type%22%3A%20%22Feature%22%7D%2C%20%7B%22bbox%22%3A%20%5B-122.40829900000001%2C%2037.78819499999999%2C%20-122.40829900000001%2C%2037.78819499999999%5D%2C%20%22geometry%22%3A%20%7B%22coordinates%22%3A%20%5B-122.40829900000001%2C%2037.78819499999999%5D%2C%20%22type%22%3A%20%22Point%22%7D%2C%20%22id%22%3A%20%2243%22%2C%20%22properties%22%3A%20%7B%22stop_id%22%3A%20%2216072%22%7D%2C%20%22type%22%3A%20%22Feature%22%7D%2C%20%7B%22bbox%22%3A%20%5B-122.40925900000002%2C%2037.79288000000005%2C%20-122.40925900000002%2C%2037.79288000000005%5D%2C%20%22geometry%22%3A%20%7B%22coordinates%22%3A%20%5B-122.40925900000002%2C%2037.79288000000005%5D%2C%20%22type%22%3A%20%22Point%22%7D%2C%20%22id%22%3A%20%2244%22%2C%20%22properties%22%3A%20%7B%22stop_id%22%3A%20%2216073%22%7D%2C%20%22type%22%3A%20%22Feature%22%7D%2C%20%7B%22bbox%22%3A%20%5B-122.40849300000002%2C%2037.78913199999995%2C%20-122.40849300000002%2C%2037.78913199999995%5D%2C%20%22geometry%22%3A%20%7B%22coordinates%22%3A%20%5B-122.40849300000002%2C%2037.78913199999995%5D%2C%20%22type%22%3A%20%22Point%22%7D%2C%20%22id%22%3A%20%2245%22%2C%20%22properties%22%3A%20%7B%22stop_id%22%3A%20%2216075%22%7D%2C%20%22type%22%3A%20%22Feature%22%7D%2C%20%7B%22bbox%22%3A%20%5B-122.47407999999999%2C%2037.74867%2C%20-122.47407999999999%2C%2037.74867%5D%2C%20%22geometry%22%3A%20%7B%22coordinates%22%3A%20%5B-122.47407999999999%2C%2037.74867%5D%2C%20%22type%22%3A%20%22Point%22%7D%2C%20%22id%22%3A%20%2246%22%2C%20%22properties%22%3A%20%7B%22stop_id%22%3A%20%2216139%22%7D%2C%20%22type%22%3A%20%22Feature%22%7D%2C%20%7B%22bbox%22%3A%20%5B-122.47622%2C%2037.748580000000004%2C%20-122.47622%2C%2037.748580000000004%5D%2C%20%22geometry%22%3A%20%7B%22coordinates%22%3A%20%5B-122.47622%2C%2037.748580000000004%5D%2C%20%22type%22%3A%20%22Point%22%7D%2C%20%22id%22%3A%20%2247%22%2C%20%22properties%22%3A%20%7B%22stop_id%22%3A%20%2216141%22%7D%2C%20%22type%22%3A%20%22Feature%22%7D%2C%20%7B%22bbox%22%3A%20%5B-122.47943%2C%2037.74844999999998%2C%20-122.47943%2C%2037.74844999999998%5D%2C%20%22geometry%22%3A%20%7B%22coordinates%22%3A%20%5B-122.47943%2C%2037.74844999999998%5D%2C%20%22type%22%3A%20%22Point%22%7D%2C%20%22id%22%3A%20%2248%22%2C%20%22properties%22%3A%20%7B%22stop_id%22%3A%20%2216143%22%7D%2C%20%22type%22%3A%20%22Feature%22%7D%2C%20%7B%22bbox%22%3A%20%5B-122.48157000000002%2C%2037.748360000000034%2C%20-122.48157000000002%2C%2037.748360000000034%5D%2C%20%22geometry%22%3A%20%7B%22coordinates%22%3A%20%5B-122.48157000000002%2C%2037.748360000000034%5D%2C%20%22type%22%3A%20%22Point%22%7D%2C%20%22id%22%3A%20%2249%22%2C%20%22properties%22%3A%20%7B%22stop_id%22%3A%20%2216145%22%7D%2C%20%22type%22%3A%20%22Feature%22%7D%2C%20%7B%22bbox%22%3A%20%5B-122.48346899999999%2C%2037.748277%2C%20-122.48346899999999%2C%2037.748277%5D%2C%20%22geometry%22%3A%20%7B%22coordinates%22%3A%20%5B-122.48346899999999%2C%2037.748277%5D%2C%20%22type%22%3A%20%22Point%22%7D%2C%20%22id%22%3A%20%2250%22%2C%20%22properties%22%3A%20%7B%22stop_id%22%3A%20%2216147%22%7D%2C%20%22type%22%3A%20%22Feature%22%7D%2C%20%7B%22bbox%22%3A%20%5B-122.48477%2C%2037.74822000000003%2C%20-122.48477%2C%2037.74822000000003%5D%2C%20%22geometry%22%3A%20%7B%22coordinates%22%3A%20%5B-122.48477%2C%2037.74822000000003%5D%2C%20%22type%22%3A%20%22Point%22%7D%2C%20%22id%22%3A%20%2251%22%2C%20%22properties%22%3A%20%7B%22stop_id%22%3A%20%2216149%22%7D%2C%20%22type%22%3A%20%22Feature%22%7D%2C%20%7B%22bbox%22%3A%20%5B-122.48586%2C%2037.74815999999995%2C%20-122.48586%2C%2037.74815999999995%5D%2C%20%22geometry%22%3A%20%7B%22coordinates%22%3A%20%5B-122.48586%2C%2037.74815999999995%5D%2C%20%22type%22%3A%20%22Point%22%7D%2C%20%22id%22%3A%20%2252%22%2C%20%22properties%22%3A%20%7B%22stop_id%22%3A%20%2216151%22%7D%2C%20%22type%22%3A%20%22Feature%22%7D%2C%20%7B%22bbox%22%3A%20%5B-122.48692%2C%2037.74811999999999%2C%20-122.48692%2C%2037.74811999999999%5D%2C%20%22geometry%22%3A%20%7B%22coordinates%22%3A%20%5B-122.48692%2C%2037.74811999999999%5D%2C%20%22type%22%3A%20%22Point%22%7D%2C%20%22id%22%3A%20%2253%22%2C%20%22properties%22%3A%20%7B%22stop_id%22%3A%20%2216153%22%7D%2C%20%22type%22%3A%20%22Feature%22%7D%2C%20%7B%22bbox%22%3A%20%5B-122.41878%2C%2037.712029999999984%2C%20-122.41878%2C%2037.712029999999984%5D%2C%20%22geometry%22%3A%20%7B%22coordinates%22%3A%20%5B-122.41878%2C%2037.712029999999984%5D%2C%20%22type%22%3A%20%22Point%22%7D%2C%20%22id%22%3A%20%2254%22%2C%20%22properties%22%3A%20%7B%22stop_id%22%3A%20%2216339%22%7D%2C%20%22type%22%3A%20%22Feature%22%7D%2C%20%7B%22bbox%22%3A%20%5B-122.42007%2C%2037.70860000000001%2C%20-122.42007%2C%2037.70860000000001%5D%2C%20%22geometry%22%3A%20%7B%22coordinates%22%3A%20%5B-122.42007%2C%2037.70860000000001%5D%2C%20%22type%22%3A%20%22Point%22%7D%2C%20%22id%22%3A%20%2255%22%2C%20%22properties%22%3A%20%7B%22stop_id%22%3A%20%2216344%22%7D%2C%20%22type%22%3A%20%22Feature%22%7D%2C%20%7B%22bbox%22%3A%20%5B-122.41193%2C%2037.709160000000026%2C%20-122.41193%2C%2037.709160000000026%5D%2C%20%22geometry%22%3A%20%7B%22coordinates%22%3A%20%5B-122.41193%2C%2037.709160000000026%5D%2C%20%22type%22%3A%20%22Point%22%7D%2C%20%22id%22%3A%20%2256%22%2C%20%22properties%22%3A%20%7B%22stop_id%22%3A%20%2216383%22%7D%2C%20%22type%22%3A%20%22Feature%22%7D%2C%20%7B%22bbox%22%3A%20%5B-122.41294000000002%2C%2037.70689999999996%2C%20-122.41294000000002%2C%2037.70689999999996%5D%2C%20%22geometry%22%3A%20%7B%22coordinates%22%3A%20%5B-122.41294000000002%2C%2037.70689999999996%5D%2C%20%22type%22%3A%20%22Point%22%7D%2C%20%22id%22%3A%20%2257%22%2C%20%22properties%22%3A%20%7B%22stop_id%22%3A%20%2216385%22%7D%2C%20%22type%22%3A%20%22Feature%22%7D%2C%20%7B%22bbox%22%3A%20%5B-122.41136%2C%2037.71048999999996%2C%20-122.41136%2C%2037.71048999999996%5D%2C%20%22geometry%22%3A%20%7B%22coordinates%22%3A%20%5B-122.41136%2C%2037.71048999999996%5D%2C%20%22type%22%3A%20%22Point%22%7D%2C%20%22id%22%3A%20%2258%22%2C%20%22properties%22%3A%20%7B%22stop_id%22%3A%20%2216386%22%7D%2C%20%22type%22%3A%20%22Feature%22%7D%2C%20%7B%22bbox%22%3A%20%5B-122.41234000000001%2C%2037.708260000000074%2C%20-122.41234000000001%2C%2037.708260000000074%5D%2C%20%22geometry%22%3A%20%7B%22coordinates%22%3A%20%5B-122.41234000000001%2C%2037.708260000000074%5D%2C%20%22type%22%3A%20%22Point%22%7D%2C%20%22id%22%3A%20%2259%22%2C%20%22properties%22%3A%20%7B%22stop_id%22%3A%20%2216388%22%7D%2C%20%22type%22%3A%20%22Feature%22%7D%2C%20%7B%22bbox%22%3A%20%5B-122.41957%2C%2037.71276999999996%2C%20-122.41957%2C%2037.71276999999996%5D%2C%20%22geometry%22%3A%20%7B%22coordinates%22%3A%20%5B-122.41957%2C%2037.71276999999996%5D%2C%20%22type%22%3A%20%22Point%22%7D%2C%20%22id%22%3A%20%2260%22%2C%20%22properties%22%3A%20%7B%22stop_id%22%3A%20%2216565%22%7D%2C%20%22type%22%3A%20%22Feature%22%7D%2C%20%7B%22bbox%22%3A%20%5B-122.42115000000001%2C%2037.71322000000002%2C%20-122.42115000000001%2C%2037.71322000000002%5D%2C%20%22geometry%22%3A%20%7B%22coordinates%22%3A%20%5B-122.42115000000001%2C%2037.71322000000002%5D%2C%20%22type%22%3A%20%22Point%22%7D%2C%20%22id%22%3A%20%2261%22%2C%20%22properties%22%3A%20%7B%22stop_id%22%3A%20%2216568%22%7D%2C%20%22type%22%3A%20%22Feature%22%7D%2C%20%7B%22bbox%22%3A%20%5B-122.40937%2C%2037.70996000000003%2C%20-122.40937%2C%2037.70996000000003%5D%2C%20%22geometry%22%3A%20%7B%22coordinates%22%3A%20%5B-122.40937%2C%2037.70996000000003%5D%2C%20%22type%22%3A%20%22Point%22%7D%2C%20%22id%22%3A%20%2262%22%2C%20%22properties%22%3A%20%7B%22stop_id%22%3A%20%2216570%22%7D%2C%20%22type%22%3A%20%22Feature%22%7D%2C%20%7B%22bbox%22%3A%20%5B-122.4241%2C%2037.71409999999999%2C%20-122.4241%2C%2037.71409999999999%5D%2C%20%22geometry%22%3A%20%7B%22coordinates%22%3A%20%5B-122.4241%2C%2037.71409999999999%5D%2C%20%22type%22%3A%20%22Point%22%7D%2C%20%22id%22%3A%20%2263%22%2C%20%22properties%22%3A%20%7B%22stop_id%22%3A%20%2216575%22%7D%2C%20%22type%22%3A%20%22Feature%22%7D%2C%20%7B%22bbox%22%3A%20%5B-122.40699999999998%2C%2037.709350000000015%2C%20-122.40699999999998%2C%2037.709350000000015%5D%2C%20%22geometry%22%3A%20%7B%22coordinates%22%3A%20%5B-122.40699999999998%2C%2037.709350000000015%5D%2C%20%22type%22%3A%20%22Point%22%7D%2C%20%22id%22%3A%20%2264%22%2C%20%22properties%22%3A%20%7B%22stop_id%22%3A%20%2216584%22%7D%2C%20%22type%22%3A%20%22Feature%22%7D%2C%20%7B%22bbox%22%3A%20%5B-122.509876%2C%2037.77320599999998%2C%20-122.509876%2C%2037.77320599999998%5D%2C%20%22geometry%22%3A%20%7B%22coordinates%22%3A%20%5B-122.509876%2C%2037.77320599999998%5D%2C%20%22type%22%3A%20%22Point%22%7D%2C%20%22id%22%3A%20%2265%22%2C%20%22properties%22%3A%20%7B%22stop_id%22%3A%20%2217204%22%7D%2C%20%22type%22%3A%20%22Feature%22%7D%2C%20%7B%22bbox%22%3A%20%5B-122.39919500000002%2C%2037.79094000000002%2C%20-122.39919500000002%2C%2037.79094000000002%5D%2C%20%22geometry%22%3A%20%7B%22coordinates%22%3A%20%5B-122.39919500000002%2C%2037.79094000000002%5D%2C%20%22type%22%3A%20%22Point%22%7D%2C%20%22id%22%3A%20%2266%22%2C%20%22properties%22%3A%20%7B%22stop_id%22%3A%20%2217264%22%7D%2C%20%22type%22%3A%20%22Feature%22%7D%2C%20%7B%22bbox%22%3A%20%5B-122.40525%2C%2037.70880100000001%2C%20-122.40525%2C%2037.70880100000001%5D%2C%20%22geometry%22%3A%20%7B%22coordinates%22%3A%20%5B-122.40525%2C%2037.70880100000001%5D%2C%20%22type%22%3A%20%22Point%22%7D%2C%20%22id%22%3A%20%2267%22%2C%20%22properties%22%3A%20%7B%22stop_id%22%3A%20%2217297%22%7D%2C%20%22type%22%3A%20%22Feature%22%7D%2C%20%7B%22bbox%22%3A%20%5B-122.50329600000002%2C%2037.771611999999976%2C%20-122.50329600000002%2C%2037.771611999999976%5D%2C%20%22geometry%22%3A%20%7B%22coordinates%22%3A%20%5B-122.50329600000002%2C%2037.771611999999976%5D%2C%20%22type%22%3A%20%22Point%22%7D%2C%20%22id%22%3A%20%2268%22%2C%20%22properties%22%3A%20%7B%22stop_id%22%3A%20%2217720%22%7D%2C%20%22type%22%3A%20%22Feature%22%7D%2C%20%7B%22bbox%22%3A%20%5B-122.47652400000001%2C%2037.77283399999996%2C%20-122.47652400000001%2C%2037.77283399999996%5D%2C%20%22geometry%22%3A%20%7B%22coordinates%22%3A%20%5B-122.47652400000001%2C%2037.77283399999996%5D%2C%20%22type%22%3A%20%22Point%22%7D%2C%20%22id%22%3A%20%2269%22%2C%20%22properties%22%3A%20%7B%22stop_id%22%3A%20%2217721%22%7D%2C%20%22type%22%3A%20%22Feature%22%7D%2C%20%7B%22bbox%22%3A%20%5B-122.48750399999999%2C%2037.77247399999995%2C%20-122.48750399999999%2C%2037.77247399999995%5D%2C%20%22geometry%22%3A%20%7B%22coordinates%22%3A%20%5B-122.48750399999999%2C%2037.77247399999995%5D%2C%20%22type%22%3A%20%22Point%22%7D%2C%20%22id%22%3A%20%2270%22%2C%20%22properties%22%3A%20%7B%22stop_id%22%3A%20%2217727%22%7D%2C%20%22type%22%3A%20%22Feature%22%7D%2C%20%7B%22bbox%22%3A%20%5B-122.489624%2C%2037.772375%2C%20-122.489624%2C%2037.772375%5D%2C%20%22geometry%22%3A%20%7B%22coordinates%22%3A%20%5B-122.489624%2C%2037.772375%5D%2C%20%22type%22%3A%20%22Point%22%7D%2C%20%22id%22%3A%20%2271%22%2C%20%22properties%22%3A%20%7B%22stop_id%22%3A%20%2217728%22%7D%2C%20%22type%22%3A%20%22Feature%22%7D%2C%20%7B%22bbox%22%3A%20%5B-122.50033999999998%2C%2037.77188000000004%2C%20-122.50033999999998%2C%2037.77188000000004%5D%2C%20%22geometry%22%3A%20%7B%22coordinates%22%3A%20%5B-122.50033999999998%2C%2037.77188000000004%5D%2C%20%22type%22%3A%20%22Point%22%7D%2C%20%22id%22%3A%20%2272%22%2C%20%22properties%22%3A%20%7B%22stop_id%22%3A%20%2217729%22%7D%2C%20%22type%22%3A%20%22Feature%22%7D%2C%20%7B%22bbox%22%3A%20%5B-122.50353700000001%2C%2037.77173600000002%2C%20-122.50353700000001%2C%2037.77173600000002%5D%2C%20%22geometry%22%3A%20%7B%22coordinates%22%3A%20%5B-122.50353700000001%2C%2037.77173600000002%5D%2C%20%22type%22%3A%20%22Point%22%7D%2C%20%22id%22%3A%20%2273%22%2C%20%22properties%22%3A%20%7B%22stop_id%22%3A%20%2217730%22%7D%2C%20%22type%22%3A%20%22Feature%22%7D%5D%2C%20%22type%22%3A%20%22FeatureCollection%22%7D%29%3B%0A%0A%20%20%20%20%20%20%20%20%0A%20%20%20%20%0A%20%20%20%20geo_json_689b55c32b8747fbb6f647e4608ca5fb.bindTooltip%28%0A%20%20%20%20function%28layer%29%7B%0A%20%20%20%20let%20div%20%3D%20L.DomUtil.create%28%27div%27%29%3B%0A%20%20%20%20%0A%20%20%20%20let%20handleObject%20%3D%20feature%3D%3Etypeof%28feature%29%3D%3D%27object%27%20%3F%20JSON.stringify%28feature%29%20%3A%20feature%3B%0A%20%20%20%20let%20fields%20%3D%20%5B%22stop_id%22%5D%3B%0A%20%20%20%20let%20aliases%20%3D%20%5B%22stop_id%22%5D%3B%0A%20%20%20%20let%20table%20%3D%20%27%3Ctable%3E%27%20%2B%0A%20%20%20%20%20%20%20%20String%28%0A%20%20%20%20%20%20%20%20fields.map%28%0A%20%20%20%20%20%20%20%20%28v%2Ci%29%3D%3E%0A%20%20%20%20%20%20%20%20%60%3Ctr%3E%0A%20%20%20%20%20%20%20%20%20%20%20%20%3Cth%3E%24%7Baliases%5Bi%5D%7D%3C/th%3E%0A%20%20%20%20%20%20%20%20%20%20%20%20%0A%20%20%20%20%20%20%20%20%20%20%20%20%3Ctd%3E%24%7BhandleObject%28layer.feature.properties%5Bv%5D%29%7D%3C/td%3E%0A%20%20%20%20%20%20%20%20%3C/tr%3E%60%29.join%28%27%27%29%29%0A%20%20%20%20%2B%27%3C/table%3E%27%3B%0A%20%20%20%20div.innerHTML%3Dtable%3B%0A%20%20%20%20%0A%20%20%20%20return%20div%0A%20%20%20%20%7D%0A%20%20%20%20%2C%7B%22className%22%3A%20%22foliumtooltip%22%2C%20%22sticky%22%3A%20true%7D%29%3B%0A%20%20%20%20%20%20%20%20%20%20%20%20%20%20%20%20%20%20%20%20%20%0A%3C/script%3E onload=\"this.contentDocument.open();this.contentDocument.write(    decodeURIComponent(this.getAttribute('data-html')));this.contentDocument.close();\" allowfullscreen webkitallowfullscreen mozallowfullscreen></iframe></div></div>"
      ],
      "text/plain": [
       "<folium.folium.Map at 0x793aaaa97d30>"
      ]
     },
     "execution_count": 259,
     "metadata": {},
     "output_type": "execute_result"
    }
   ],
   "source": [
    "gdf.explore()"
   ]
  },
  {
   "cell_type": "code",
   "execution_count": 256,
   "id": "3fa42b20-1285-4cb3-b3f2-165e3754f45d",
   "metadata": {},
   "outputs": [
    {
     "data": {
      "text/html": [
       "<div>\n",
       "<style scoped>\n",
       "    .dataframe tbody tr th:only-of-type {\n",
       "        vertical-align: middle;\n",
       "    }\n",
       "\n",
       "    .dataframe tbody tr th {\n",
       "        vertical-align: top;\n",
       "    }\n",
       "\n",
       "    .dataframe thead th {\n",
       "        text-align: right;\n",
       "    }\n",
       "</style>\n",
       "<table border=\"1\" class=\"dataframe\">\n",
       "  <thead>\n",
       "    <tr style=\"text-align: right;\">\n",
       "      <th></th>\n",
       "      <th>schedule_gtfs_dataset_key</th>\n",
       "      <th>stop_id</th>\n",
       "      <th>am_max_trips</th>\n",
       "      <th>route_dir</th>\n",
       "      <th>pm_max_trips</th>\n",
       "      <th>am_max_trips_hr</th>\n",
       "      <th>pm_max_trips_hr</th>\n",
       "      <th>n_trips</th>\n",
       "      <th>route_dir_count</th>\n",
       "      <th>all_short</th>\n",
       "    </tr>\n",
       "  </thead>\n",
       "  <tbody>\n",
       "  </tbody>\n",
       "</table>\n",
       "</div>"
      ],
      "text/plain": [
       "Empty DataFrame\n",
       "Columns: [schedule_gtfs_dataset_key, stop_id, am_max_trips, route_dir, pm_max_trips, am_max_trips_hr, pm_max_trips_hr, n_trips, route_dir_count, all_short]\n",
       "Index: []"
      ]
     },
     "execution_count": 256,
     "metadata": {},
     "output_type": "execute_result"
    }
   ],
   "source": [
    "df2_final >> filter(_.stop_id == '40010')"
   ]
  },
  {
   "cell_type": "markdown",
   "id": "612e4a4b-8684-4087-a5ff-6a51716fd717",
   "metadata": {
    "tags": []
   },
   "source": [
    "## Map overall results"
   ]
  },
  {
   "cell_type": "code",
   "execution_count": 211,
   "id": "f767a5f3-3953-40e7-8f70-666a57b1deb8",
   "metadata": {},
   "outputs": [],
   "source": [
    "gdf = stops >> inner_join(_, multi_only, on = ['stop_id']) >> select(_.stop_id, _.geometry)"
   ]
  },
  {
   "cell_type": "code",
   "execution_count": 212,
   "id": "f4be83c5-e8cc-419f-a28c-9294896819a1",
   "metadata": {},
   "outputs": [],
   "source": [
    "gdf2 = stops >> inner_join(_, single_qual, on = ['stop_id']) >> select(_.stop_id, _.geometry)"
   ]
  },
  {
   "cell_type": "code",
   "execution_count": 213,
   "id": "241913f2-e89e-459d-81ae-51afeaf4c976",
   "metadata": {},
   "outputs": [],
   "source": [
    "gdf2.geometry = gdf2.buffer(400)"
   ]
  },
  {
   "cell_type": "code",
   "execution_count": 214,
   "id": "c518c81b-aa68-4aff-a1a5-c6280e3c0d3c",
   "metadata": {},
   "outputs": [],
   "source": [
    "gdf = gdf.overlay(gdf2, how='difference')"
   ]
  },
  {
   "cell_type": "code",
   "execution_count": 215,
   "id": "728f7c3d-4902-422b-a168-eb78072f427c",
   "metadata": {
    "tags": []
   },
   "outputs": [],
   "source": [
    "# gdf.explore()"
   ]
  }
 ],
 "metadata": {
  "kernelspec": {
   "display_name": "Python 3 (ipykernel)",
   "language": "python",
   "name": "python3"
  },
  "language_info": {
   "codemirror_mode": {
    "name": "ipython",
    "version": 3
   },
   "file_extension": ".py",
   "mimetype": "text/x-python",
   "name": "python",
   "nbconvert_exporter": "python",
   "pygments_lexer": "ipython3",
   "version": "3.9.13"
  },
  "widgets": {
   "application/vnd.jupyter.widget-state+json": {
    "state": {},
    "version_major": 2,
    "version_minor": 0
   }
  }
 },
 "nbformat": 4,
 "nbformat_minor": 5
}
