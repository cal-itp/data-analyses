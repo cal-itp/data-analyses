{
 "cells": [
  {
   "cell_type": "code",
   "execution_count": 1,
   "id": "38262382-8e2c-4eb9-86ce-aa4aa251d6d4",
   "metadata": {},
   "outputs": [],
   "source": [
    "import os\n",
    "os.environ[\"CALITP_BQ_MAX_BYTES\"] = str(1_000_000_000_000) ## 1TB?"
   ]
  },
  {
   "cell_type": "code",
   "execution_count": 67,
   "id": "5bbd8694-444f-48c0-89a0-00c5c0e542c8",
   "metadata": {},
   "outputs": [],
   "source": [
    "import geopandas as gpd\n",
    "import pandas as pd\n",
    "from siuba import *\n",
    "import numpy as np\n",
    "\n",
    "from segment_speed_utils import helpers, gtfs_schedule_wrangling\n",
    "from shared_utils import rt_dates, gtfs_utils_v2\n",
    "import folium\n",
    "import itertools"
   ]
  },
  {
   "cell_type": "code",
   "execution_count": 3,
   "id": "994a67bc-1cbe-4477-ac3b-cbe0f7e4822e",
   "metadata": {},
   "outputs": [],
   "source": [
    "from update_vars import (analysis_date, AM_PEAK, PM_PEAK, EXPORT_PATH, GCS_FILE_PATH, PROJECT_CRS,\n",
    "SEGMENT_BUFFER_METERS, AM_PEAK, PM_PEAK, HQ_TRANSIT_THRESHOLD, MS_TRANSIT_THRESHOLD)"
   ]
  },
  {
   "cell_type": "code",
   "execution_count": 4,
   "id": "b263f2d3-1aa3-4576-aac6-a800f12cca19",
   "metadata": {},
   "outputs": [],
   "source": [
    "import sjoin_stops_to_segments"
   ]
  },
  {
   "cell_type": "code",
   "execution_count": 91,
   "id": "4706f9e9-03d9-49d7-9b3a-d5044018127e",
   "metadata": {},
   "outputs": [],
   "source": [
    "import create_aggregate_stop_frequencies"
   ]
  },
  {
   "cell_type": "code",
   "execution_count": 120,
   "id": "f494bb98-09d9-472c-882c-158c35d391f4",
   "metadata": {},
   "outputs": [
    {
     "data": {
      "text/plain": [
       "<module 'create_aggregate_stop_frequencies' from '/home/jovyan/data-analyses/high_quality_transit_areas/create_aggregate_stop_frequencies.py'>"
      ]
     },
     "execution_count": 120,
     "metadata": {},
     "output_type": "execute_result"
    }
   ],
   "source": [
    "import importlib\n",
    "importlib.reload(create_aggregate_stop_frequencies)"
   ]
  },
  {
   "cell_type": "code",
   "execution_count": 121,
   "id": "fd40c5c1-6d79-4bb0-87bd-18c9053af24b",
   "metadata": {},
   "outputs": [
    {
     "data": {
      "text/plain": [
       "'2024-10-21'"
      ]
     },
     "execution_count": 121,
     "metadata": {},
     "output_type": "execute_result"
    }
   ],
   "source": [
    "analysis_date"
   ]
  },
  {
   "cell_type": "code",
   "execution_count": 122,
   "id": "fe9470ff-40a3-40d0-aaed-913784f105ac",
   "metadata": {},
   "outputs": [],
   "source": [
    "stop_times = helpers.import_scheduled_stop_times(\n",
    "    analysis_date,\n",
    "    get_pandas = True,\n",
    ")"
   ]
  },
  {
   "cell_type": "code",
   "execution_count": 123,
   "id": "c3263a32-1140-41bf-8181-e07be8a4cc5d",
   "metadata": {},
   "outputs": [],
   "source": [
    "stop_times = create_aggregate_stop_frequencies.add_route_dir(stop_times, analysis_date)"
   ]
  },
  {
   "cell_type": "code",
   "execution_count": 105,
   "id": "c79c29b2-3f1e-4f0f-a64e-e4bb97ba6cf4",
   "metadata": {},
   "outputs": [],
   "source": [
    "# stop_times >> head(2)"
   ]
  },
  {
   "cell_type": "code",
   "execution_count": 124,
   "id": "55413cd4-bf8e-4313-8f17-a80a7b4806dc",
   "metadata": {},
   "outputs": [],
   "source": [
    "st_prepped = stop_times.pipe(create_aggregate_stop_frequencies.prep_stop_times)"
   ]
  },
  {
   "cell_type": "markdown",
   "id": "54fd1d50-74a2-403a-b8a7-9d018d9926d6",
   "metadata": {
    "tags": []
   },
   "source": [
    "## multi logic"
   ]
  },
  {
   "cell_type": "code",
   "execution_count": 127,
   "id": "d5e95afa-9078-4f4f-a7d3-f4a6dad36cac",
   "metadata": {},
   "outputs": [],
   "source": [
    "multi_test2 = create_aggregate_stop_frequencies.stop_times_aggregation_max_by_stop(st_prepped, analysis_date, single_route_dir=False)"
   ]
  },
  {
   "cell_type": "markdown",
   "id": "ff21037c-95e1-46f7-a1f7-e77c6b9e3f30",
   "metadata": {
    "tags": []
   },
   "source": [
    "## single logic"
   ]
  },
  {
   "cell_type": "code",
   "execution_count": 129,
   "id": "69bd9d0f-997d-4a04-a12b-a63750d5a1b3",
   "metadata": {},
   "outputs": [],
   "source": [
    "single_test2 = create_aggregate_stop_frequencies.stop_times_aggregation_max_by_stop(st_prepped, analysis_date, single_route_dir=True)"
   ]
  },
  {
   "cell_type": "markdown",
   "id": "69a031d0-c805-4ef1-b558-7e52749c9b95",
   "metadata": {},
   "source": [
    "## create count of shared stops between each route_dir"
   ]
  },
  {
   "cell_type": "code",
   "execution_count": 126,
   "id": "7fd3c3bc-475b-486b-af29-5b5d4ecd99af",
   "metadata": {},
   "outputs": [],
   "source": [
    "min_freq = min([HQ_TRANSIT_THRESHOLD, MS_TRANSIT_THRESHOLD])"
   ]
  },
  {
   "cell_type": "code",
   "execution_count": 130,
   "id": "25e7683a-dfd1-415a-b5b9-df3e263135c4",
   "metadata": {},
   "outputs": [],
   "source": [
    "single_qual = single_test2 >> filter(_.am_max_trips_hr > min_freq, _.pm_max_trips_hr > min_freq)"
   ]
  },
  {
   "cell_type": "code",
   "execution_count": 128,
   "id": "d5178ce9-d6dd-49e4-8d77-0de4a1fdc61a",
   "metadata": {},
   "outputs": [],
   "source": [
    "multi_qual = multi_test2 >> filter(_.am_max_trips_hr > min_freq, _.pm_max_trips_hr > min_freq, _.route_dir_count > 1)"
   ]
  },
  {
   "cell_type": "code",
   "execution_count": 134,
   "id": "bb686c7b-e0c6-4e1e-9d2a-e384f0b28abe",
   "metadata": {},
   "outputs": [],
   "source": [
    "multi_only = multi_qual >> anti_join(_, single_qual, on=['schedule_gtfs_dataset_key', 'stop_id'])"
   ]
  },
  {
   "cell_type": "code",
   "execution_count": 136,
   "id": "56151bd5-2cde-4c7d-9cdd-5198f6fc1b06",
   "metadata": {},
   "outputs": [],
   "source": [
    "# multi_only"
   ]
  },
  {
   "cell_type": "code",
   "execution_count": 135,
   "id": "22915e97-a43c-4f33-94a5-ce6a9f01eda3",
   "metadata": {},
   "outputs": [
    {
     "data": {
      "text/plain": [
       "(4552, 9)"
      ]
     },
     "execution_count": 135,
     "metadata": {},
     "output_type": "execute_result"
    }
   ],
   "source": [
    "multi_only.shape"
   ]
  },
  {
   "cell_type": "code",
   "execution_count": 137,
   "id": "46e8465e-c9c5-45dd-931f-8cd290438117",
   "metadata": {},
   "outputs": [],
   "source": [
    "multi_only_explode = (multi_only[['schedule_gtfs_dataset_key', 'stop_id', 'route_dir']]\n",
    ".explode('route_dir')\n",
    ".sort_values(['schedule_gtfs_dataset_key','stop_id', 'route_dir']))"
   ]
  },
  {
   "cell_type": "code",
   "execution_count": 138,
   "id": "f19da3a6-2119-4f24-b736-e8451ec956cc",
   "metadata": {},
   "outputs": [
    {
     "data": {
      "text/html": [
       "<div>\n",
       "<style scoped>\n",
       "    .dataframe tbody tr th:only-of-type {\n",
       "        vertical-align: middle;\n",
       "    }\n",
       "\n",
       "    .dataframe tbody tr th {\n",
       "        vertical-align: top;\n",
       "    }\n",
       "\n",
       "    .dataframe thead th {\n",
       "        text-align: right;\n",
       "    }\n",
       "</style>\n",
       "<table border=\"1\" class=\"dataframe\">\n",
       "  <thead>\n",
       "    <tr style=\"text-align: right;\">\n",
       "      <th></th>\n",
       "      <th>schedule_gtfs_dataset_key</th>\n",
       "      <th>stop_id</th>\n",
       "      <th>route_dir</th>\n",
       "    </tr>\n",
       "  </thead>\n",
       "  <tbody>\n",
       "    <tr>\n",
       "      <th>96</th>\n",
       "      <td>0139b1253130b33adcd4b3a4490530d2</td>\n",
       "      <td>52c2636c-34a3-434c-99ae-cdf3dc36d15c</td>\n",
       "      <td>0e85fd4c-5258-4256-9852-4a96554aadb7_0</td>\n",
       "    </tr>\n",
       "    <tr>\n",
       "      <th>96</th>\n",
       "      <td>0139b1253130b33adcd4b3a4490530d2</td>\n",
       "      <td>52c2636c-34a3-434c-99ae-cdf3dc36d15c</td>\n",
       "      <td>T11x_0</td>\n",
       "    </tr>\n",
       "    <tr>\n",
       "      <th>96</th>\n",
       "      <td>0139b1253130b33adcd4b3a4490530d2</td>\n",
       "      <td>52c2636c-34a3-434c-99ae-cdf3dc36d15c</td>\n",
       "      <td>T1_0</td>\n",
       "    </tr>\n",
       "    <tr>\n",
       "      <th>96</th>\n",
       "      <td>0139b1253130b33adcd4b3a4490530d2</td>\n",
       "      <td>52c2636c-34a3-434c-99ae-cdf3dc36d15c</td>\n",
       "      <td>T2_0</td>\n",
       "    </tr>\n",
       "    <tr>\n",
       "      <th>96</th>\n",
       "      <td>0139b1253130b33adcd4b3a4490530d2</td>\n",
       "      <td>52c2636c-34a3-434c-99ae-cdf3dc36d15c</td>\n",
       "      <td>T3_0</td>\n",
       "    </tr>\n",
       "    <tr>\n",
       "      <th>...</th>\n",
       "      <td>...</td>\n",
       "      <td>...</td>\n",
       "      <td>...</td>\n",
       "    </tr>\n",
       "    <tr>\n",
       "      <th>79116</th>\n",
       "      <td>fe4aab1717eca5a2935c32c85a35a5bf</td>\n",
       "      <td>115</td>\n",
       "      <td>3_0</td>\n",
       "    </tr>\n",
       "    <tr>\n",
       "      <th>79116</th>\n",
       "      <td>fe4aab1717eca5a2935c32c85a35a5bf</td>\n",
       "      <td>115</td>\n",
       "      <td>4_1</td>\n",
       "    </tr>\n",
       "    <tr>\n",
       "      <th>79246</th>\n",
       "      <td>ff1bc5dde661d62c877165421e9ca257</td>\n",
       "      <td>LO_19</td>\n",
       "      <td>ROUTEA_0</td>\n",
       "    </tr>\n",
       "    <tr>\n",
       "      <th>79246</th>\n",
       "      <td>ff1bc5dde661d62c877165421e9ca257</td>\n",
       "      <td>LO_19</td>\n",
       "      <td>ROUTEA_1</td>\n",
       "    </tr>\n",
       "    <tr>\n",
       "      <th>79246</th>\n",
       "      <td>ff1bc5dde661d62c877165421e9ca257</td>\n",
       "      <td>LO_19</td>\n",
       "      <td>ROUTEB_1</td>\n",
       "    </tr>\n",
       "  </tbody>\n",
       "</table>\n",
       "<p>13483 rows × 3 columns</p>\n",
       "</div>"
      ],
      "text/plain": [
       "              schedule_gtfs_dataset_key                               stop_id  \\\n",
       "96     0139b1253130b33adcd4b3a4490530d2  52c2636c-34a3-434c-99ae-cdf3dc36d15c   \n",
       "96     0139b1253130b33adcd4b3a4490530d2  52c2636c-34a3-434c-99ae-cdf3dc36d15c   \n",
       "96     0139b1253130b33adcd4b3a4490530d2  52c2636c-34a3-434c-99ae-cdf3dc36d15c   \n",
       "96     0139b1253130b33adcd4b3a4490530d2  52c2636c-34a3-434c-99ae-cdf3dc36d15c   \n",
       "96     0139b1253130b33adcd4b3a4490530d2  52c2636c-34a3-434c-99ae-cdf3dc36d15c   \n",
       "...                                 ...                                   ...   \n",
       "79116  fe4aab1717eca5a2935c32c85a35a5bf                                   115   \n",
       "79116  fe4aab1717eca5a2935c32c85a35a5bf                                   115   \n",
       "79246  ff1bc5dde661d62c877165421e9ca257                                 LO_19   \n",
       "79246  ff1bc5dde661d62c877165421e9ca257                                 LO_19   \n",
       "79246  ff1bc5dde661d62c877165421e9ca257                                 LO_19   \n",
       "\n",
       "                                    route_dir  \n",
       "96     0e85fd4c-5258-4256-9852-4a96554aadb7_0  \n",
       "96                                     T11x_0  \n",
       "96                                       T1_0  \n",
       "96                                       T2_0  \n",
       "96                                       T3_0  \n",
       "...                                       ...  \n",
       "79116                                     3_0  \n",
       "79116                                     4_1  \n",
       "79246                                ROUTEA_0  \n",
       "79246                                ROUTEA_1  \n",
       "79246                                ROUTEB_1  \n",
       "\n",
       "[13483 rows x 3 columns]"
      ]
     },
     "execution_count": 138,
     "metadata": {},
     "output_type": "execute_result"
    }
   ],
   "source": [
    "multi_only_explode"
   ]
  },
  {
   "cell_type": "code",
   "execution_count": 33,
   "id": "8311fcff-4ea0-4b12-8e7f-0c9dfc2b20dd",
   "metadata": {},
   "outputs": [],
   "source": [
    "xy = multi_only_explode.loc[96,:].route_dir.to_numpy()"
   ]
  },
  {
   "cell_type": "code",
   "execution_count": 34,
   "id": "229f47d9-3fc7-4020-8572-b44ae0462bc7",
   "metadata": {},
   "outputs": [
    {
     "data": {
      "text/plain": [
       "array(['0e85fd4c-5258-4256-9852-4a96554aadb7_0', 'T11x_0', 'T1_0', 'T2_0',\n",
       "       'T3_0', 'T4_0', 'T5_0', 'T6_0',\n",
       "       'e430d571-76bd-45d4-8b01-76e3ef7c3ae1_0'], dtype=object)"
      ]
     },
     "execution_count": 34,
     "metadata": {},
     "output_type": "execute_result"
    }
   ],
   "source": [
    "xy"
   ]
  },
  {
   "cell_type": "code",
   "execution_count": 35,
   "id": "1f581e78-f05b-4713-a65d-c27d28bdd148",
   "metadata": {},
   "outputs": [],
   "source": [
    "def test_share_count(df):\n",
    "    global share_counts\n",
    "    xy = df.route_dir.to_numpy()\n",
    "    schedule_gtfs_dataset_key = df.schedule_gtfs_dataset_key.iloc[0]\n",
    "    for route_dir in xy:\n",
    "        route = route_dir.split('_')[0] #  don't compare opposite dirs of same route, leads to edge cases like AC Transit 45\n",
    "        other_dirs = [x for x in xy if x != route_dir and x.split('_')[0] != route]\n",
    "        for other_dir in other_dirs:\n",
    "            key = schedule_gtfs_dataset_key+'__'+route_dir+'__'+other_dir\n",
    "            if key in share_counts.keys():\n",
    "                share_counts[key] += 1\n",
    "            else:\n",
    "                share_counts[key] = 1"
   ]
  },
  {
   "cell_type": "code",
   "execution_count": 36,
   "id": "a8fac7dc-fff0-4fbc-976d-58ed0c3486ee",
   "metadata": {},
   "outputs": [],
   "source": [
    "share_counts = {}"
   ]
  },
  {
   "cell_type": "code",
   "execution_count": 37,
   "id": "83c17ca4-852b-41ce-be6c-17111ab22e24",
   "metadata": {},
   "outputs": [
    {
     "data": {
      "text/html": [
       "<div>\n",
       "<style scoped>\n",
       "    .dataframe tbody tr th:only-of-type {\n",
       "        vertical-align: middle;\n",
       "    }\n",
       "\n",
       "    .dataframe tbody tr th {\n",
       "        vertical-align: top;\n",
       "    }\n",
       "\n",
       "    .dataframe thead th {\n",
       "        text-align: right;\n",
       "    }\n",
       "</style>\n",
       "<table border=\"1\" class=\"dataframe\">\n",
       "  <thead>\n",
       "    <tr style=\"text-align: right;\">\n",
       "      <th></th>\n",
       "    </tr>\n",
       "  </thead>\n",
       "  <tbody>\n",
       "  </tbody>\n",
       "</table>\n",
       "</div>"
      ],
      "text/plain": [
       "Empty DataFrame\n",
       "Columns: []\n",
       "Index: []"
      ]
     },
     "execution_count": 37,
     "metadata": {},
     "output_type": "execute_result"
    }
   ],
   "source": [
    "multi_only_explode.groupby(['schedule_gtfs_dataset_key', 'stop_id']).apply(test_share_count)"
   ]
  },
  {
   "cell_type": "code",
   "execution_count": 38,
   "id": "37cec4a9-757f-4a7e-a980-5a2052f31b8c",
   "metadata": {
    "tags": []
   },
   "outputs": [],
   "source": [
    "# share_counts"
   ]
  },
  {
   "cell_type": "markdown",
   "id": "d839566e-7cc0-4345-b835-ce5a77ab70cc",
   "metadata": {},
   "source": [
    "### Which threshold?\n",
    "\n",
    "* 8 catches Muni 48 and 66, which are somewhat marginal but not an edge case per se"
   ]
  },
  {
   "cell_type": "code",
   "execution_count": 39,
   "id": "9afd273d-895b-4594-9a94-0ece5e39df01",
   "metadata": {},
   "outputs": [],
   "source": [
    "SHARED_STOP_THRESHOLD = 8\n",
    "qualify = {key: share_counts[key] for key in share_counts.keys() if share_counts[key] >= SHARED_STOP_THRESHOLD}"
   ]
  },
  {
   "cell_type": "code",
   "execution_count": 40,
   "id": "92b8ffc8-b4f8-4aec-bc2c-a0b027be1d3a",
   "metadata": {
    "tags": []
   },
   "outputs": [],
   "source": [
    "# qualify"
   ]
  },
  {
   "cell_type": "markdown",
   "id": "612e4a4b-8684-4087-a5ff-6a51716fd717",
   "metadata": {
    "jp-MarkdownHeadingCollapsed": true,
    "tags": []
   },
   "source": [
    "## explore potential stops (not yet filtered)"
   ]
  },
  {
   "cell_type": "code",
   "execution_count": 41,
   "id": "d62923e4-2a9a-4e4c-8269-cf3ef649e56a",
   "metadata": {},
   "outputs": [],
   "source": [
    "stops = helpers.import_scheduled_stops(\n",
    "    analysis_date,\n",
    "    get_pandas = True,\n",
    "    crs = PROJECT_CRS\n",
    ")"
   ]
  },
  {
   "cell_type": "code",
   "execution_count": 42,
   "id": "f767a5f3-3953-40e7-8f70-666a57b1deb8",
   "metadata": {},
   "outputs": [],
   "source": [
    "gdf = stops >> inner_join(_, multi_only, on = ['stop_id']) >> select(_.stop_id, _.geometry)"
   ]
  },
  {
   "cell_type": "code",
   "execution_count": 43,
   "id": "f4be83c5-e8cc-419f-a28c-9294896819a1",
   "metadata": {},
   "outputs": [],
   "source": [
    "gdf2 = stops >> inner_join(_, single_qual, on = ['stop_id']) >> select(_.stop_id, _.geometry)"
   ]
  },
  {
   "cell_type": "code",
   "execution_count": 44,
   "id": "241913f2-e89e-459d-81ae-51afeaf4c976",
   "metadata": {},
   "outputs": [],
   "source": [
    "gdf2.geometry = gdf2.buffer(400)"
   ]
  },
  {
   "cell_type": "code",
   "execution_count": 45,
   "id": "c518c81b-aa68-4aff-a1a5-c6280e3c0d3c",
   "metadata": {},
   "outputs": [],
   "source": [
    "gdf = gdf.overlay(gdf2, how='difference')"
   ]
  },
  {
   "cell_type": "code",
   "execution_count": 46,
   "id": "728f7c3d-4902-422b-a168-eb78072f427c",
   "metadata": {
    "tags": []
   },
   "outputs": [],
   "source": [
    "# gdf.explore()"
   ]
  },
  {
   "cell_type": "markdown",
   "id": "d3faa0af-7b24-402d-9f68-3d61acc6cb9e",
   "metadata": {},
   "source": [
    "## lookup function/filtering steps\n",
    "\n",
    "* \n",
    "\n",
    "edge cases:\n",
    "\n",
    "[AC Transit 45](https://www.actransit.org/sites/default/files/timetable_files/45-2023_12_03.pdf) _Opposite directions share a same-direction loop._ __Solved__ by preventing the same route from being compared with itself in the opposite direction.\n",
    "\n",
    "[SDMTS 944/945](https://www.sdmts.com/sites/default/files/routes/pdf/944.pdf) _Shared frequent stops are few, and these routes are isolated._ __Solved__ by once again applying the `SHARED_STOP_THRESHOLD` after aggregation (by ensuring at least one route_dir at each stop has >= `SHARED_STOP_THRESHOLD` frequent stops). Complex typology including a loop route, each pair of [944, 945, 945A(946)] has >= threshold... but not actually in the same spots!"
   ]
  },
  {
   "cell_type": "code",
   "execution_count": 47,
   "id": "edc6dd56-acf5-4702-ae0c-754b355b0c7d",
   "metadata": {},
   "outputs": [],
   "source": [
    "feeds_to_filter = np.unique([key.split('__')[0] for key in qualify.keys()])"
   ]
  },
  {
   "cell_type": "code",
   "execution_count": 48,
   "id": "d22c2697-e41a-4411-8133-1800d0ae572a",
   "metadata": {},
   "outputs": [],
   "source": [
    "feeds_no_qualify = np.unique([key.split('__')[0] for key in share_counts.keys() if key.split('__')[0] not in feeds_to_filter])"
   ]
  },
  {
   "cell_type": "code",
   "execution_count": 49,
   "id": "3d5254e9-33fe-464a-8d85-57d045b9ecee",
   "metadata": {},
   "outputs": [],
   "source": [
    "from calitp_data_analysis.tables import tbls"
   ]
  },
  {
   "cell_type": "code",
   "execution_count": 50,
   "id": "dc909766-9a1b-4682-841d-a7516c186bd2",
   "metadata": {},
   "outputs": [],
   "source": [
    "feeds_no_qualify = tbls.mart_transit_database.dim_gtfs_service_data() >> filter(_.gtfs_dataset_key.isin(feeds_no_qualify)) >> distinct(_.name, _.gtfs_dataset_key) >> collect()"
   ]
  },
  {
   "cell_type": "code",
   "execution_count": 51,
   "id": "264eefd5-2a77-4533-a4b5-df4ad95bde3c",
   "metadata": {},
   "outputs": [],
   "source": [
    "feed_names = (tbls.mart_transit_database.dim_gtfs_service_data() >> filter(_.gtfs_dataset_key.isin(feeds_to_filter))\n",
    " >> distinct(_.name, _.gtfs_dataset_key)\n",
    " >> collect()\n",
    ")"
   ]
  },
  {
   "cell_type": "code",
   "execution_count": 52,
   "id": "f253a870-d7d2-46f1-b766-ce9785ed5fda",
   "metadata": {},
   "outputs": [
    {
     "data": {
      "text/html": [
       "<div>\n",
       "<style scoped>\n",
       "    .dataframe tbody tr th:only-of-type {\n",
       "        vertical-align: middle;\n",
       "    }\n",
       "\n",
       "    .dataframe tbody tr th {\n",
       "        vertical-align: top;\n",
       "    }\n",
       "\n",
       "    .dataframe thead th {\n",
       "        text-align: right;\n",
       "    }\n",
       "</style>\n",
       "<table border=\"1\" class=\"dataframe\">\n",
       "  <thead>\n",
       "    <tr style=\"text-align: right;\">\n",
       "      <th></th>\n",
       "      <th>name</th>\n",
       "      <th>gtfs_dataset_key</th>\n",
       "    </tr>\n",
       "  </thead>\n",
       "  <tbody>\n",
       "    <tr>\n",
       "      <th>0</th>\n",
       "      <td>Muni Metro Rail – Bay Area 511 Muni Schedule</td>\n",
       "      <td>7cc0cb1871dfd558f11a2885c145d144</td>\n",
       "    </tr>\n",
       "    <tr>\n",
       "      <th>14</th>\n",
       "      <td>Muni Bus – Bay Area 511 Muni Schedule</td>\n",
       "      <td>7cc0cb1871dfd558f11a2885c145d144</td>\n",
       "    </tr>\n",
       "  </tbody>\n",
       "</table>\n",
       "</div>"
      ],
      "text/plain": [
       "                                            name  \\\n",
       "0   Muni Metro Rail – Bay Area 511 Muni Schedule   \n",
       "14         Muni Bus – Bay Area 511 Muni Schedule   \n",
       "\n",
       "                    gtfs_dataset_key  \n",
       "0   7cc0cb1871dfd558f11a2885c145d144  \n",
       "14  7cc0cb1871dfd558f11a2885c145d144  "
      ]
     },
     "metadata": {},
     "output_type": "display_data"
    }
   ],
   "source": [
    "feed_names_filtered = feed_names >> filter(_.name.str.contains('Muni'))\n",
    "display(feed_names_filtered)\n",
    "dataset_key = feed_names_filtered.gtfs_dataset_key.iloc[0]"
   ]
  },
  {
   "cell_type": "code",
   "execution_count": 53,
   "id": "6f6ea7b6-26ea-4b9a-af4e-cdd507a403c1",
   "metadata": {},
   "outputs": [],
   "source": [
    "# dataset_key = '015d67d5b75b5cf2b710bbadadfb75f5' #  Marin\n",
    "# dataset_key = '3c62ad6ee589d56eca915ce291a5df0a' #  Yolobus 42A and 42B share 5+ stops so they match, which isn't desirable.\n",
    "# dataset_key = '70c8a8b71c815224299523bf2115924a' #  SacRT\n",
    "# dataset_key = '63029a23cb0e73f2a5d98a345c5e2e40' #  Elk Grove\n",
    "# dataset_key = 'f1b35a50955aeb498533c1c6fdafbe44' #  LBT"
   ]
  },
  {
   "cell_type": "code",
   "execution_count": 54,
   "id": "6f30dc29-7ee6-4bce-9548-c55808741298",
   "metadata": {},
   "outputs": [],
   "source": [
    "this_feed_qual = {key.split(dataset_key)[1][2:]:qualify[key] for key in qualify.keys() if key.split('__')[0] == dataset_key}"
   ]
  },
  {
   "cell_type": "code",
   "execution_count": 55,
   "id": "e276d97c-bee6-4bad-8b87-1481c7980ef9",
   "metadata": {
    "tags": []
   },
   "outputs": [
    {
     "data": {
      "text/plain": [
       "{'18_1__31_1': 8,\n",
       " '31_1__18_1': 8,\n",
       " '9R_1__9_1': 18,\n",
       " '9_1__9R_1': 18,\n",
       " '5R_0__5_0': 17,\n",
       " '5R_1__5_1': 15,\n",
       " '5_0__5R_0': 17,\n",
       " '5_1__5R_1': 15,\n",
       " 'PH_0__PM_0': 11,\n",
       " 'PM_0__PH_0': 11,\n",
       " '48_1__66_1': 8,\n",
       " '66_1__48_1': 8}"
      ]
     },
     "execution_count": 55,
     "metadata": {},
     "output_type": "execute_result"
    }
   ],
   "source": [
    "this_feed_qual"
   ]
  },
  {
   "cell_type": "code",
   "execution_count": 56,
   "id": "48fbd6b2-2461-44f5-91c2-fed567091507",
   "metadata": {},
   "outputs": [],
   "source": [
    "qualify_pairs = [tuple(key.split('__')) for key in this_feed_qual.keys()]"
   ]
  },
  {
   "cell_type": "code",
   "execution_count": 57,
   "id": "79019776-7be8-4562-a093-a83694ca512e",
   "metadata": {
    "tags": []
   },
   "outputs": [
    {
     "data": {
      "text/plain": [
       "[('18_1', '31_1'),\n",
       " ('31_1', '18_1'),\n",
       " ('9R_1', '9_1'),\n",
       " ('9_1', '9R_1'),\n",
       " ('5R_0', '5_0'),\n",
       " ('5R_1', '5_1'),\n",
       " ('5_0', '5R_0'),\n",
       " ('5_1', '5R_1'),\n",
       " ('PH_0', 'PM_0'),\n",
       " ('PM_0', 'PH_0'),\n",
       " ('48_1', '66_1'),\n",
       " ('66_1', '48_1')]"
      ]
     },
     "execution_count": 57,
     "metadata": {},
     "output_type": "execute_result"
    }
   ],
   "source": [
    "qualify_pairs"
   ]
  },
  {
   "cell_type": "code",
   "execution_count": 58,
   "id": "6fa3d402-00b3-49e9-9fea-3c723ba36b68",
   "metadata": {},
   "outputs": [],
   "source": [
    "arr = np.array(qualify_pairs[0])\n",
    "for pair in qualify_pairs[1:]: arr = np.append(arr, np.array(pair))"
   ]
  },
  {
   "cell_type": "code",
   "execution_count": 59,
   "id": "aceed251-eabb-4413-bec1-13c089f9c762",
   "metadata": {},
   "outputs": [],
   "source": [
    "any_appearance = np.unique(arr)"
   ]
  },
  {
   "cell_type": "code",
   "execution_count": 60,
   "id": "2a97f048-be9c-4eaa-b0ff-812dd2ffc417",
   "metadata": {},
   "outputs": [
    {
     "data": {
      "text/plain": [
       "array(['18_1', '31_1', '48_1', '5R_0', '5R_1', '5_0', '5_1', '66_1',\n",
       "       '9R_1', '9_1', 'PH_0', 'PM_0'], dtype='<U4')"
      ]
     },
     "execution_count": 60,
     "metadata": {},
     "output_type": "execute_result"
    }
   ],
   "source": [
    "any_appearance"
   ]
  },
  {
   "cell_type": "code",
   "execution_count": 61,
   "id": "98c214a2-6586-4125-9b8d-69176b6de1a2",
   "metadata": {},
   "outputs": [],
   "source": [
    "#  only need to check stops that qualify as multi-route only\n",
    "stops_to_eval = multi_only >> filter(_.schedule_gtfs_dataset_key == dataset_key) >> distinct(_.stop_id)\n",
    "st_to_eval = st_prepped >> filter(_.schedule_gtfs_dataset_key == dataset_key,\n",
    "                                  _.stop_id.isin(stops_to_eval.stop_id),\n",
    "                                  _.route_dir.isin(any_appearance)\n",
    "                                 )"
   ]
  },
  {
   "cell_type": "code",
   "execution_count": 62,
   "id": "f31cced4-bf9f-46c0-8f71-5dcd44c24737",
   "metadata": {},
   "outputs": [],
   "source": [
    "#  cut down problem space by checking if stops still could qual after filtering for any appearance\n",
    "min_rows = min_freq * (len(am_peak_hrs) + len(pm_peak_hrs))"
   ]
  },
  {
   "cell_type": "code",
   "execution_count": 63,
   "id": "33ecb185-e2a8-4b72-ab02-3fb7ce0c18ed",
   "metadata": {},
   "outputs": [],
   "source": [
    "st_could_qual = (st_to_eval >> group_by(_.stop_id)\n",
    " >> mutate(could_qualify = _.shape[0] >= min_rows)\n",
    " >> ungroup()\n",
    " >> filter(_.could_qualify)\n",
    ")"
   ]
  },
  {
   "cell_type": "code",
   "execution_count": 64,
   "id": "c575d8f4-1a0f-4b01-ac46-69dee86c86a6",
   "metadata": {},
   "outputs": [],
   "source": [
    "# one_stop = st_could_qual >> filter(_.stop_id == '23585') #  Yolobus 23017 knocked out in last step\n",
    "# one_stop = st_could_qual >> filter(_.stop_id == '1677') #  PCH/Redondo EB"
   ]
  },
  {
   "cell_type": "code",
   "execution_count": 65,
   "id": "ca76a557-3947-48bc-aa26-ba8a270af4b5",
   "metadata": {},
   "outputs": [],
   "source": [
    "def check_stop(this_stop_route_dirs, qualify_pairs):\n",
    "    #  check if all possible combinations included\n",
    "    this_stop_route_dirs = list(this_stop_route_dirs)\n",
    "    if len(this_stop_route_dirs) == 1:\n",
    "        print('exhausted!')\n",
    "        return []\n",
    "    print(f'attempting {this_stop_route_dirs}... ', end='')\n",
    "    stop_route_dir_pairs = list(itertools.combinations(this_stop_route_dirs, 2))\n",
    "    checks = np.array([True if rt_dir in qualify_pairs else False for rt_dir in stop_route_dir_pairs])\n",
    "    if checks.all():\n",
    "        print(f'matched!')\n",
    "        return this_stop_route_dirs\n",
    "    else:\n",
    "        print('subsetting...')\n",
    "        this_stop_route_dirs.pop(-1)\n",
    "        return check_stop(this_stop_route_dirs, qualify_pairs)"
   ]
  },
  {
   "cell_type": "code",
   "execution_count": 68,
   "id": "b3201f56-6953-42cf-94c5-16f7fcc44585",
   "metadata": {},
   "outputs": [
    {
     "name": "stdout",
     "output_type": "stream",
     "text": [
      "attempting ['no', 'nyet', 'bazz', 'fizz', 'buzz']... subsetting...\n",
      "attempting ['no', 'nyet', 'bazz', 'fizz']... subsetting...\n",
      "attempting ['no', 'nyet', 'bazz']... subsetting...\n",
      "attempting ['no', 'nyet']... subsetting...\n",
      "exhausted!\n"
     ]
    },
    {
     "data": {
      "text/plain": [
       "[]"
      ]
     },
     "execution_count": 68,
     "metadata": {},
     "output_type": "execute_result"
    }
   ],
   "source": [
    "check_stop(['no', 'nyet', 'bazz', 'fizz', 'buzz'], qualify_pairs)"
   ]
  },
  {
   "cell_type": "code",
   "execution_count": 69,
   "id": "d7f1cf16-ff3f-4128-927a-b13eed4cf717",
   "metadata": {},
   "outputs": [],
   "source": [
    "def filter_qualifying_stops(one_stop_df):\n",
    "\n",
    "    one_stop_df = (one_stop_df >> group_by(_.route_dir)\n",
    "                >> mutate(route_dir_count = _.shape[0]) >> ungroup()\n",
    "                >> arrange(-_.route_dir_count)\n",
    "               )\n",
    "    this_stop_route_dirs = (one_stop_df >> distinct(_.route_dir, _.route_dir_count)).route_dir.to_numpy() #  preserves sort order\n",
    "    aggregation_ok_route_dirs = check_stop(this_stop_route_dirs, qualify_pairs)\n",
    "    return one_stop_df >> filter(_.route_dir.isin(aggregation_ok_route_dirs))"
   ]
  },
  {
   "cell_type": "code",
   "execution_count": 70,
   "id": "d4ed2305-0053-4d57-81ad-4de9b41e89d5",
   "metadata": {
    "collapsed": true,
    "jupyter": {
     "outputs_hidden": true
    },
    "tags": []
   },
   "outputs": [
    {
     "name": "stdout",
     "output_type": "stream",
     "text": [
      "attempting ['31_1', '18_1']... matched!\n",
      "attempting ['31_1', '18_1']... matched!\n",
      "attempting ['31_1', '18_1']... matched!\n",
      "attempting ['31_1', '18_1']... matched!\n",
      "attempting ['9_1', '9R_1']... matched!\n",
      "exhausted!\n",
      "exhausted!\n",
      "exhausted!\n",
      "exhausted!\n",
      "exhausted!\n",
      "exhausted!\n",
      "exhausted!\n",
      "exhausted!\n",
      "attempting ['31_1', '18_1']... matched!\n",
      "attempting ['31_1', '18_1']... matched!\n",
      "attempting ['48_1', '18_1']... subsetting...\n",
      "exhausted!\n",
      "attempting ['31_1', '18_1']... matched!\n",
      "attempting ['5R_1', '5R_0', '31_1', '5_0', '5_1']... subsetting...\n",
      "attempting ['5R_1', '5R_0', '31_1', '5_0']... subsetting...\n",
      "attempting ['5R_1', '5R_0', '31_1']... subsetting...\n",
      "attempting ['5R_1', '5R_0']... subsetting...\n",
      "exhausted!\n",
      "exhausted!\n",
      "attempting ['5R_0', '5_0']... matched!\n",
      "attempting ['5R_1', '5_1']... matched!\n",
      "attempting ['5R_0', '5_0']... matched!\n",
      "attempting ['5R_1', '5_1']... matched!\n",
      "attempting ['5R_1', '5_1']... matched!\n",
      "attempting ['5R_0', '5_0']... matched!\n",
      "attempting ['5R_1', '5_1']... matched!\n",
      "attempting ['5R_1', '5_1']... matched!\n",
      "attempting ['5R_0', '5_0']... matched!\n",
      "attempting ['5R_1', '5_1']... matched!\n",
      "exhausted!\n",
      "exhausted!\n",
      "exhausted!\n",
      "exhausted!\n",
      "attempting ['5R_0', '5_0']... matched!\n",
      "attempting ['5R_0', '5_0']... matched!\n",
      "attempting ['5R_0', '5_0']... matched!\n",
      "attempting ['5R_1', '5_1']... matched!\n",
      "attempting ['5R_0', '5_0']... matched!\n",
      "attempting ['5R_0', '5_0']... matched!\n",
      "attempting ['5R_1', '5_1']... matched!\n",
      "attempting ['5R_0', '5_0']... matched!\n",
      "attempting ['5R_1', '5_1']... matched!\n",
      "attempting ['5R_1', '5_1']... matched!\n",
      "attempting ['5R_1', '5_1']... matched!\n",
      "attempting ['9R_1', '9_1']... matched!\n",
      "attempting ['5R_0', '5_0']... matched!\n",
      "attempting ['5R_1', '5_1']... matched!\n",
      "attempting ['5R_0', '18_1', '5_0']... subsetting...\n",
      "attempting ['5R_0', '18_1']... subsetting...\n",
      "exhausted!\n",
      "attempting ['9R_1', '9_1']... matched!\n",
      "attempting ['9_1', '9R_1']... matched!\n",
      "attempting ['9_1', '9R_1']... matched!\n",
      "attempting ['PH_0', 'PM_0']... matched!\n",
      "attempting ['PH_0', 'PM_0']... matched!\n",
      "attempting ['PH_0', 'PM_0']... matched!\n",
      "attempting ['PH_0', 'PM_0']... matched!\n",
      "attempting ['PH_0', 'PM_0']... matched!\n",
      "attempting ['PH_0', 'PM_0']... matched!\n",
      "attempting ['PH_0', 'PM_0']... matched!\n",
      "attempting ['PH_0', 'PM_0']... matched!\n",
      "attempting ['PH_0', 'PM_0']... matched!\n",
      "attempting ['PH_0', 'PM_0']... matched!\n",
      "attempting ['PH_0', 'PM_0']... matched!\n",
      "exhausted!\n",
      "attempting ['48_1', '66_1']... matched!\n",
      "attempting ['48_1', '66_1']... matched!\n",
      "attempting ['48_1', '66_1']... matched!\n",
      "attempting ['48_1', '66_1']... matched!\n",
      "attempting ['48_1', '66_1']... matched!\n",
      "attempting ['48_1', '66_1']... matched!\n",
      "attempting ['48_1', '66_1']... matched!\n",
      "attempting ['48_1', '66_1']... matched!\n",
      "exhausted!\n",
      "exhausted!\n",
      "exhausted!\n",
      "attempting ['9R_1', '9_1']... matched!\n",
      "attempting ['9R_1', '9_1']... matched!\n",
      "attempting ['9R_1', '9_1']... matched!\n",
      "attempting ['9R_1', '9_1']... matched!\n",
      "attempting ['9R_1', '9_1']... matched!\n",
      "attempting ['9R_1', '9_1']... matched!\n",
      "exhausted!\n",
      "exhausted!\n",
      "attempting ['9R_1', '9_1']... matched!\n",
      "attempting ['9R_1', '9_1']... matched!\n",
      "attempting ['9R_1', '9_1']... matched!\n",
      "attempting ['9R_1', '9_1']... matched!\n",
      "attempting ['9R_1', '9_1']... matched!\n",
      "exhausted!\n",
      "attempting ['31_1', '18_1']... matched!\n",
      "attempting ['9_1', '9R_1']... matched!\n",
      "attempting ['9R_1', '9_1']... matched!\n",
      "exhausted!\n",
      "attempting ['5R_1', '5_1']... matched!\n",
      "attempting ['5R_1', '5_1']... matched!\n",
      "attempting ['5R_0', '5_0']... matched!\n",
      "attempting ['5R_0', '5_0']... matched!\n",
      "attempting ['5R_0', '5_0']... matched!\n",
      "attempting ['5R_0', '5_0']... matched!\n"
     ]
    }
   ],
   "source": [
    "df2 = st_could_qual.groupby('stop_id').apply(filter_qualifying_stops)"
   ]
  },
  {
   "cell_type": "code",
   "execution_count": 71,
   "id": "137d9eb1-c247-43cd-8336-d0a83d204b46",
   "metadata": {},
   "outputs": [],
   "source": [
    "df2 = df2.reset_index(drop=True)"
   ]
  },
  {
   "cell_type": "code",
   "execution_count": 73,
   "id": "74397c4f-e876-48e2-a5e9-001940c39425",
   "metadata": {},
   "outputs": [
    {
     "data": {
      "text/plain": [
       "array(['13059', '13062', '13064', '13066', '13244', '13570', '13572',\n",
       "       '13925', '14211', '14212', '14213', '14215', '14218', '14221',\n",
       "       '14222', '14228', '14231', '14232', '14732', '14734', '14736',\n",
       "       '14737', '14742', '14746', '14747', '14748', '14749', '14751',\n",
       "       '14753', '14809', '14842', '14843', '14895', '15658', '15685',\n",
       "       '16047', '16049', '16051', '16058', '16059', '16063', '16068',\n",
       "       '16069', '16072', '16073', '16075', '16139', '16141', '16143',\n",
       "       '16145', '16147', '16149', '16151', '16153', '16339', '16344',\n",
       "       '16383', '16385', '16386', '16388', '16565', '16568', '16570',\n",
       "       '16575', '16584', '17204', '17264', '17297', '17720', '17721',\n",
       "       '17727', '17728', '17729', '17730'], dtype=object)"
      ]
     },
     "execution_count": 73,
     "metadata": {},
     "output_type": "execute_result"
    }
   ],
   "source": [
    "df2.stop_id.unique()"
   ]
  },
  {
   "cell_type": "code",
   "execution_count": 74,
   "id": "a40fb696-daec-4cf5-aaa2-e92bc1fb577d",
   "metadata": {},
   "outputs": [],
   "source": [
    "# df2"
   ]
  },
  {
   "cell_type": "code",
   "execution_count": 75,
   "id": "0c42630e-b512-4e0d-8506-4c4da34e7d37",
   "metadata": {},
   "outputs": [],
   "source": [
    "trips_per_peak_multi = gtfs_schedule_wrangling.stop_arrivals_per_stop(\n",
    "    df2,\n",
    "    group_cols = multi_cols,\n",
    "    count_col = \"trip_id\",\n",
    "    route_dir_array = True\n",
    ").rename(columns = {\"n_arrivals\": \"n_trips\"})"
   ]
  },
  {
   "cell_type": "code",
   "execution_count": 76,
   "id": "223421b8-dd37-4b50-ace7-c37aee1c18aa",
   "metadata": {},
   "outputs": [],
   "source": [
    "df2_final = last_bit(trips_per_peak_multi) >> filter(_.am_max_trips_hr > min_freq, _.pm_max_trips_hr > min_freq)"
   ]
  },
  {
   "cell_type": "code",
   "execution_count": 77,
   "id": "d9b87332-37b4-4a1f-a530-07188d127e09",
   "metadata": {},
   "outputs": [
    {
     "data": {
      "text/html": [
       "<div>\n",
       "<style scoped>\n",
       "    .dataframe tbody tr th:only-of-type {\n",
       "        vertical-align: middle;\n",
       "    }\n",
       "\n",
       "    .dataframe tbody tr th {\n",
       "        vertical-align: top;\n",
       "    }\n",
       "\n",
       "    .dataframe thead th {\n",
       "        text-align: right;\n",
       "    }\n",
       "</style>\n",
       "<table border=\"1\" class=\"dataframe\">\n",
       "  <thead>\n",
       "    <tr style=\"text-align: right;\">\n",
       "      <th></th>\n",
       "      <th>stop_id</th>\n",
       "      <th>n</th>\n",
       "    </tr>\n",
       "  </thead>\n",
       "  <tbody>\n",
       "    <tr>\n",
       "      <th>0</th>\n",
       "      <td>13059</td>\n",
       "      <td>41</td>\n",
       "    </tr>\n",
       "    <tr>\n",
       "      <th>1</th>\n",
       "      <td>13062</td>\n",
       "      <td>41</td>\n",
       "    </tr>\n",
       "    <tr>\n",
       "      <th>2</th>\n",
       "      <td>13064</td>\n",
       "      <td>41</td>\n",
       "    </tr>\n",
       "    <tr>\n",
       "      <th>3</th>\n",
       "      <td>13066</td>\n",
       "      <td>41</td>\n",
       "    </tr>\n",
       "    <tr>\n",
       "      <th>4</th>\n",
       "      <td>13244</td>\n",
       "      <td>56</td>\n",
       "    </tr>\n",
       "    <tr>\n",
       "      <th>...</th>\n",
       "      <td>...</td>\n",
       "      <td>...</td>\n",
       "    </tr>\n",
       "    <tr>\n",
       "      <th>69</th>\n",
       "      <td>17721</td>\n",
       "      <td>35</td>\n",
       "    </tr>\n",
       "    <tr>\n",
       "      <th>70</th>\n",
       "      <td>17727</td>\n",
       "      <td>35</td>\n",
       "    </tr>\n",
       "    <tr>\n",
       "      <th>71</th>\n",
       "      <td>17728</td>\n",
       "      <td>36</td>\n",
       "    </tr>\n",
       "    <tr>\n",
       "      <th>72</th>\n",
       "      <td>17729</td>\n",
       "      <td>35</td>\n",
       "    </tr>\n",
       "    <tr>\n",
       "      <th>73</th>\n",
       "      <td>17730</td>\n",
       "      <td>35</td>\n",
       "    </tr>\n",
       "  </tbody>\n",
       "</table>\n",
       "<p>74 rows × 2 columns</p>\n",
       "</div>"
      ],
      "text/plain": [
       "   stop_id   n\n",
       "0    13059  41\n",
       "1    13062  41\n",
       "2    13064  41\n",
       "3    13066  41\n",
       "4    13244  56\n",
       "..     ...  ..\n",
       "69   17721  35\n",
       "70   17727  35\n",
       "71   17728  36\n",
       "72   17729  35\n",
       "73   17730  35\n",
       "\n",
       "[74 rows x 2 columns]"
      ]
     },
     "execution_count": 77,
     "metadata": {},
     "output_type": "execute_result"
    }
   ],
   "source": [
    "df2 >> count(_.stop_id)"
   ]
  },
  {
   "cell_type": "code",
   "execution_count": 78,
   "id": "2c3b3e90-b367-4d54-87d2-e71b44536cc3",
   "metadata": {},
   "outputs": [
    {
     "data": {
      "text/html": [
       "<div>\n",
       "<style scoped>\n",
       "    .dataframe tbody tr th:only-of-type {\n",
       "        vertical-align: middle;\n",
       "    }\n",
       "\n",
       "    .dataframe tbody tr th {\n",
       "        vertical-align: top;\n",
       "    }\n",
       "\n",
       "    .dataframe thead th {\n",
       "        text-align: right;\n",
       "    }\n",
       "</style>\n",
       "<table border=\"1\" class=\"dataframe\">\n",
       "  <thead>\n",
       "    <tr style=\"text-align: right;\">\n",
       "      <th></th>\n",
       "      <th>stop_id</th>\n",
       "      <th>n</th>\n",
       "    </tr>\n",
       "  </thead>\n",
       "  <tbody>\n",
       "    <tr>\n",
       "      <th>0</th>\n",
       "      <td>13059</td>\n",
       "      <td>1</td>\n",
       "    </tr>\n",
       "    <tr>\n",
       "      <th>1</th>\n",
       "      <td>13062</td>\n",
       "      <td>1</td>\n",
       "    </tr>\n",
       "    <tr>\n",
       "      <th>2</th>\n",
       "      <td>13064</td>\n",
       "      <td>1</td>\n",
       "    </tr>\n",
       "    <tr>\n",
       "      <th>3</th>\n",
       "      <td>13066</td>\n",
       "      <td>1</td>\n",
       "    </tr>\n",
       "    <tr>\n",
       "      <th>4</th>\n",
       "      <td>13244</td>\n",
       "      <td>1</td>\n",
       "    </tr>\n",
       "    <tr>\n",
       "      <th>...</th>\n",
       "      <td>...</td>\n",
       "      <td>...</td>\n",
       "    </tr>\n",
       "    <tr>\n",
       "      <th>69</th>\n",
       "      <td>17721</td>\n",
       "      <td>1</td>\n",
       "    </tr>\n",
       "    <tr>\n",
       "      <th>70</th>\n",
       "      <td>17727</td>\n",
       "      <td>1</td>\n",
       "    </tr>\n",
       "    <tr>\n",
       "      <th>71</th>\n",
       "      <td>17728</td>\n",
       "      <td>1</td>\n",
       "    </tr>\n",
       "    <tr>\n",
       "      <th>72</th>\n",
       "      <td>17729</td>\n",
       "      <td>1</td>\n",
       "    </tr>\n",
       "    <tr>\n",
       "      <th>73</th>\n",
       "      <td>17730</td>\n",
       "      <td>1</td>\n",
       "    </tr>\n",
       "  </tbody>\n",
       "</table>\n",
       "<p>74 rows × 2 columns</p>\n",
       "</div>"
      ],
      "text/plain": [
       "   stop_id  n\n",
       "0    13059  1\n",
       "1    13062  1\n",
       "2    13064  1\n",
       "3    13066  1\n",
       "4    13244  1\n",
       "..     ... ..\n",
       "69   17721  1\n",
       "70   17727  1\n",
       "71   17728  1\n",
       "72   17729  1\n",
       "73   17730  1\n",
       "\n",
       "[74 rows x 2 columns]"
      ]
     },
     "execution_count": 78,
     "metadata": {},
     "output_type": "execute_result"
    }
   ],
   "source": [
    "df2_final >> count(_.stop_id)"
   ]
  },
  {
   "cell_type": "code",
   "execution_count": 79,
   "id": "fa0acab7-5be9-40c9-a6b7-811e4c34f616",
   "metadata": {},
   "outputs": [],
   "source": [
    "short_routes = df2_final.explode('route_dir') >> count(_.route_dir) >> filter(_.n < SHARED_STOP_THRESHOLD)"
   ]
  },
  {
   "cell_type": "code",
   "execution_count": 80,
   "id": "59ae9ec2-ee61-48c0-a536-91ad596c2e34",
   "metadata": {},
   "outputs": [],
   "source": [
    "df2_final['all_short'] = df2_final.route_dir.map(lambda x: np.array([True if y in list(short_routes.route_dir) else False for y in x]).all())"
   ]
  },
  {
   "cell_type": "code",
   "execution_count": 81,
   "id": "6b4e06e4-4552-41cb-949e-1552b0252f68",
   "metadata": {},
   "outputs": [
    {
     "data": {
      "text/html": [
       "<div>\n",
       "<style scoped>\n",
       "    .dataframe tbody tr th:only-of-type {\n",
       "        vertical-align: middle;\n",
       "    }\n",
       "\n",
       "    .dataframe tbody tr th {\n",
       "        vertical-align: top;\n",
       "    }\n",
       "\n",
       "    .dataframe thead th {\n",
       "        text-align: right;\n",
       "    }\n",
       "</style>\n",
       "<table border=\"1\" class=\"dataframe\">\n",
       "  <thead>\n",
       "    <tr style=\"text-align: right;\">\n",
       "      <th></th>\n",
       "      <th>schedule_gtfs_dataset_key</th>\n",
       "      <th>stop_id</th>\n",
       "      <th>am_max_trips</th>\n",
       "      <th>route_dir</th>\n",
       "      <th>pm_max_trips</th>\n",
       "      <th>am_max_trips_hr</th>\n",
       "      <th>pm_max_trips_hr</th>\n",
       "      <th>n_trips</th>\n",
       "      <th>route_dir_count</th>\n",
       "      <th>all_short</th>\n",
       "    </tr>\n",
       "  </thead>\n",
       "  <tbody>\n",
       "  </tbody>\n",
       "</table>\n",
       "</div>"
      ],
      "text/plain": [
       "Empty DataFrame\n",
       "Columns: [schedule_gtfs_dataset_key, stop_id, am_max_trips, route_dir, pm_max_trips, am_max_trips_hr, pm_max_trips_hr, n_trips, route_dir_count, all_short]\n",
       "Index: []"
      ]
     },
     "execution_count": 81,
     "metadata": {},
     "output_type": "execute_result"
    }
   ],
   "source": [
    "df2_final >> filter(_.all_short) #  stops where _every_ shared route has less than SHARED_STOP_THRESHOLD frequent stops (even after aggregation)"
   ]
  },
  {
   "cell_type": "code",
   "execution_count": 82,
   "id": "8677732f-eb96-4b78-9e7f-ca1c3a9ede97",
   "metadata": {},
   "outputs": [],
   "source": [
    "df2_final = df2_final >> filter(-_.all_short)"
   ]
  },
  {
   "cell_type": "code",
   "execution_count": 83,
   "id": "a22f5de6-03e0-4973-befa-9115ae3e0a2a",
   "metadata": {},
   "outputs": [],
   "source": [
    "gdf = stops >> inner_join(_, df2, on=['stop_id', 'feed_key']) >> inner_join(_, df2_final, on = ['schedule_gtfs_dataset_key', 'stop_id']) >> distinct(_.stop_id, _.geometry)"
   ]
  },
  {
   "cell_type": "code",
   "execution_count": 139,
   "id": "3bcb07d9-7f22-48de-9130-4275422c6b3b",
   "metadata": {
    "tags": []
   },
   "outputs": [],
   "source": [
    "# gdf.explore()"
   ]
  },
  {
   "cell_type": "code",
   "execution_count": 85,
   "id": "3fa42b20-1285-4cb3-b3f2-165e3754f45d",
   "metadata": {},
   "outputs": [
    {
     "data": {
      "text/html": [
       "<div>\n",
       "<style scoped>\n",
       "    .dataframe tbody tr th:only-of-type {\n",
       "        vertical-align: middle;\n",
       "    }\n",
       "\n",
       "    .dataframe tbody tr th {\n",
       "        vertical-align: top;\n",
       "    }\n",
       "\n",
       "    .dataframe thead th {\n",
       "        text-align: right;\n",
       "    }\n",
       "</style>\n",
       "<table border=\"1\" class=\"dataframe\">\n",
       "  <thead>\n",
       "    <tr style=\"text-align: right;\">\n",
       "      <th></th>\n",
       "      <th>schedule_gtfs_dataset_key</th>\n",
       "      <th>stop_id</th>\n",
       "      <th>am_max_trips</th>\n",
       "      <th>route_dir</th>\n",
       "      <th>pm_max_trips</th>\n",
       "      <th>am_max_trips_hr</th>\n",
       "      <th>pm_max_trips_hr</th>\n",
       "      <th>n_trips</th>\n",
       "      <th>route_dir_count</th>\n",
       "      <th>all_short</th>\n",
       "    </tr>\n",
       "  </thead>\n",
       "  <tbody>\n",
       "  </tbody>\n",
       "</table>\n",
       "</div>"
      ],
      "text/plain": [
       "Empty DataFrame\n",
       "Columns: [schedule_gtfs_dataset_key, stop_id, am_max_trips, route_dir, pm_max_trips, am_max_trips_hr, pm_max_trips_hr, n_trips, route_dir_count, all_short]\n",
       "Index: []"
      ]
     },
     "execution_count": 85,
     "metadata": {},
     "output_type": "execute_result"
    }
   ],
   "source": [
    "df2_final >> filter(_.stop_id == '40010')"
   ]
  }
 ],
 "metadata": {
  "kernelspec": {
   "display_name": "Python 3 (ipykernel)",
   "language": "python",
   "name": "python3"
  },
  "language_info": {
   "codemirror_mode": {
    "name": "ipython",
    "version": 3
   },
   "file_extension": ".py",
   "mimetype": "text/x-python",
   "name": "python",
   "nbconvert_exporter": "python",
   "pygments_lexer": "ipython3",
   "version": "3.9.13"
  },
  "widgets": {
   "application/vnd.jupyter.widget-state+json": {
    "state": {},
    "version_major": 2,
    "version_minor": 0
   }
  }
 },
 "nbformat": 4,
 "nbformat_minor": 5
}
