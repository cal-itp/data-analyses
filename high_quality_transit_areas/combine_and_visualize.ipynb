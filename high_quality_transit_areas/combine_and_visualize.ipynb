{
 "cells": [
  {
   "cell_type": "code",
   "execution_count": 1,
   "id": "7f9e615b-d071-4728-b774-1d02f509c332",
   "metadata": {
    "collapsed": true,
    "jupyter": {
     "outputs_hidden": true
    },
    "tags": []
   },
   "outputs": [
    {
     "name": "stdout",
     "output_type": "stream",
     "text": [
      "Requirement already satisfied: geopandas in /opt/conda/lib/python3.9/site-packages (from -r requirements.txt (line 1)) (0.10.2)\n",
      "Requirement already satisfied: pygeos in /opt/conda/lib/python3.9/site-packages (from -r requirements.txt (line 2)) (0.12.0)\n",
      "Requirement already satisfied: ipyleaflet in /opt/conda/lib/python3.9/site-packages (from -r requirements.txt (line 3)) (0.15.0)\n",
      "Requirement already satisfied: pandas>=0.25.0 in /opt/conda/lib/python3.9/site-packages (from geopandas->-r requirements.txt (line 1)) (1.3.4)\n",
      "Requirement already satisfied: fiona>=1.8 in /opt/conda/lib/python3.9/site-packages (from geopandas->-r requirements.txt (line 1)) (1.8.20)\n",
      "Requirement already satisfied: pyproj>=2.2.0 in /opt/conda/lib/python3.9/site-packages (from geopandas->-r requirements.txt (line 1)) (3.3.0)\n",
      "Requirement already satisfied: shapely>=1.6 in /opt/conda/lib/python3.9/site-packages (from geopandas->-r requirements.txt (line 1)) (1.8.0)\n",
      "Requirement already satisfied: numpy>=1.13 in /opt/conda/lib/python3.9/site-packages (from pygeos->-r requirements.txt (line 2)) (1.20.3)\n",
      "Requirement already satisfied: traittypes<3,>=0.2.1 in /opt/conda/lib/python3.9/site-packages (from ipyleaflet->-r requirements.txt (line 3)) (0.2.1)\n",
      "Requirement already satisfied: xyzservices>=2021.8.1 in /opt/conda/lib/python3.9/site-packages (from ipyleaflet->-r requirements.txt (line 3)) (2021.11.0)\n",
      "Requirement already satisfied: ipywidgets<8,>=7.6.0 in /opt/conda/lib/python3.9/site-packages (from ipyleaflet->-r requirements.txt (line 3)) (7.6.5)\n",
      "Requirement already satisfied: click-plugins>=1.0 in /opt/conda/lib/python3.9/site-packages (from fiona>=1.8->geopandas->-r requirements.txt (line 1)) (1.1.1)\n",
      "Requirement already satisfied: six>=1.7 in /opt/conda/lib/python3.9/site-packages (from fiona>=1.8->geopandas->-r requirements.txt (line 1)) (1.16.0)\n",
      "Requirement already satisfied: certifi in /opt/conda/lib/python3.9/site-packages (from fiona>=1.8->geopandas->-r requirements.txt (line 1)) (2021.10.8)\n",
      "Requirement already satisfied: setuptools in /opt/conda/lib/python3.9/site-packages (from fiona>=1.8->geopandas->-r requirements.txt (line 1)) (59.1.1)\n",
      "Requirement already satisfied: munch in /opt/conda/lib/python3.9/site-packages (from fiona>=1.8->geopandas->-r requirements.txt (line 1)) (2.5.0)\n",
      "Requirement already satisfied: attrs>=17 in /opt/conda/lib/python3.9/site-packages (from fiona>=1.8->geopandas->-r requirements.txt (line 1)) (21.2.0)\n",
      "Requirement already satisfied: click>=4.0 in /opt/conda/lib/python3.9/site-packages (from fiona>=1.8->geopandas->-r requirements.txt (line 1)) (8.0.3)\n",
      "Requirement already satisfied: cligj>=0.5 in /opt/conda/lib/python3.9/site-packages (from fiona>=1.8->geopandas->-r requirements.txt (line 1)) (0.7.2)\n",
      "Requirement already satisfied: widgetsnbextension~=3.5.0 in /opt/conda/lib/python3.9/site-packages (from ipywidgets<8,>=7.6.0->ipyleaflet->-r requirements.txt (line 3)) (3.5.2)\n",
      "Requirement already satisfied: ipython-genutils~=0.2.0 in /opt/conda/lib/python3.9/site-packages (from ipywidgets<8,>=7.6.0->ipyleaflet->-r requirements.txt (line 3)) (0.2.0)\n",
      "Requirement already satisfied: ipython>=4.0.0 in /opt/conda/lib/python3.9/site-packages (from ipywidgets<8,>=7.6.0->ipyleaflet->-r requirements.txt (line 3)) (7.29.0)\n",
      "Requirement already satisfied: traitlets>=4.3.1 in /opt/conda/lib/python3.9/site-packages (from ipywidgets<8,>=7.6.0->ipyleaflet->-r requirements.txt (line 3)) (5.1.1)\n",
      "Requirement already satisfied: ipykernel>=4.5.1 in /opt/conda/lib/python3.9/site-packages (from ipywidgets<8,>=7.6.0->ipyleaflet->-r requirements.txt (line 3)) (6.5.0)\n",
      "Requirement already satisfied: jupyterlab-widgets>=1.0.0 in /opt/conda/lib/python3.9/site-packages (from ipywidgets<8,>=7.6.0->ipyleaflet->-r requirements.txt (line 3)) (1.0.2)\n",
      "Requirement already satisfied: nbformat>=4.2.0 in /opt/conda/lib/python3.9/site-packages (from ipywidgets<8,>=7.6.0->ipyleaflet->-r requirements.txt (line 3)) (5.1.3)\n",
      "Requirement already satisfied: python-dateutil>=2.7.3 in /opt/conda/lib/python3.9/site-packages (from pandas>=0.25.0->geopandas->-r requirements.txt (line 1)) (2.8.2)\n",
      "Requirement already satisfied: pytz>=2017.3 in /opt/conda/lib/python3.9/site-packages (from pandas>=0.25.0->geopandas->-r requirements.txt (line 1)) (2021.3)\n",
      "Requirement already satisfied: jupyter-client<8.0 in /opt/conda/lib/python3.9/site-packages (from ipykernel>=4.5.1->ipywidgets<8,>=7.6.0->ipyleaflet->-r requirements.txt (line 3)) (7.0.6)\n",
      "Requirement already satisfied: tornado<7.0,>=4.2 in /opt/conda/lib/python3.9/site-packages (from ipykernel>=4.5.1->ipywidgets<8,>=7.6.0->ipyleaflet->-r requirements.txt (line 3)) (6.1)\n",
      "Requirement already satisfied: matplotlib-inline<0.2.0,>=0.1.0 in /opt/conda/lib/python3.9/site-packages (from ipykernel>=4.5.1->ipywidgets<8,>=7.6.0->ipyleaflet->-r requirements.txt (line 3)) (0.1.3)\n",
      "Requirement already satisfied: debugpy<2.0,>=1.0.0 in /opt/conda/lib/python3.9/site-packages (from ipykernel>=4.5.1->ipywidgets<8,>=7.6.0->ipyleaflet->-r requirements.txt (line 3)) (1.5.1)\n",
      "Requirement already satisfied: pickleshare in /opt/conda/lib/python3.9/site-packages (from ipython>=4.0.0->ipywidgets<8,>=7.6.0->ipyleaflet->-r requirements.txt (line 3)) (0.7.5)\n",
      "Requirement already satisfied: decorator in /opt/conda/lib/python3.9/site-packages (from ipython>=4.0.0->ipywidgets<8,>=7.6.0->ipyleaflet->-r requirements.txt (line 3)) (5.1.0)\n",
      "Requirement already satisfied: pexpect>4.3 in /opt/conda/lib/python3.9/site-packages (from ipython>=4.0.0->ipywidgets<8,>=7.6.0->ipyleaflet->-r requirements.txt (line 3)) (4.8.0)\n",
      "Requirement already satisfied: backcall in /opt/conda/lib/python3.9/site-packages (from ipython>=4.0.0->ipywidgets<8,>=7.6.0->ipyleaflet->-r requirements.txt (line 3)) (0.2.0)\n",
      "Requirement already satisfied: prompt-toolkit!=3.0.0,!=3.0.1,<3.1.0,>=2.0.0 in /opt/conda/lib/python3.9/site-packages (from ipython>=4.0.0->ipywidgets<8,>=7.6.0->ipyleaflet->-r requirements.txt (line 3)) (3.0.22)\n",
      "Requirement already satisfied: jedi>=0.16 in /opt/conda/lib/python3.9/site-packages (from ipython>=4.0.0->ipywidgets<8,>=7.6.0->ipyleaflet->-r requirements.txt (line 3)) (0.18.0)\n",
      "Requirement already satisfied: pygments in /opt/conda/lib/python3.9/site-packages (from ipython>=4.0.0->ipywidgets<8,>=7.6.0->ipyleaflet->-r requirements.txt (line 3)) (2.10.0)\n",
      "Requirement already satisfied: jsonschema!=2.5.0,>=2.4 in /opt/conda/lib/python3.9/site-packages (from nbformat>=4.2.0->ipywidgets<8,>=7.6.0->ipyleaflet->-r requirements.txt (line 3)) (4.2.1)\n",
      "Requirement already satisfied: jupyter-core in /opt/conda/lib/python3.9/site-packages (from nbformat>=4.2.0->ipywidgets<8,>=7.6.0->ipyleaflet->-r requirements.txt (line 3)) (4.9.1)\n",
      "Requirement already satisfied: notebook>=4.4.1 in /opt/conda/lib/python3.9/site-packages (from widgetsnbextension~=3.5.0->ipywidgets<8,>=7.6.0->ipyleaflet->-r requirements.txt (line 3)) (6.4.5)\n",
      "Requirement already satisfied: parso<0.9.0,>=0.8.0 in /opt/conda/lib/python3.9/site-packages (from jedi>=0.16->ipython>=4.0.0->ipywidgets<8,>=7.6.0->ipyleaflet->-r requirements.txt (line 3)) (0.8.2)\n",
      "Requirement already satisfied: pyrsistent!=0.17.0,!=0.17.1,!=0.17.2,>=0.14.0 in /opt/conda/lib/python3.9/site-packages (from jsonschema!=2.5.0,>=2.4->nbformat>=4.2.0->ipywidgets<8,>=7.6.0->ipyleaflet->-r requirements.txt (line 3)) (0.18.0)\n",
      "Requirement already satisfied: nest-asyncio>=1.5 in /opt/conda/lib/python3.9/site-packages (from jupyter-client<8.0->ipykernel>=4.5.1->ipywidgets<8,>=7.6.0->ipyleaflet->-r requirements.txt (line 3)) (1.5.1)\n",
      "Requirement already satisfied: pyzmq>=13 in /opt/conda/lib/python3.9/site-packages (from jupyter-client<8.0->ipykernel>=4.5.1->ipywidgets<8,>=7.6.0->ipyleaflet->-r requirements.txt (line 3)) (22.3.0)\n",
      "Requirement already satisfied: entrypoints in /opt/conda/lib/python3.9/site-packages (from jupyter-client<8.0->ipykernel>=4.5.1->ipywidgets<8,>=7.6.0->ipyleaflet->-r requirements.txt (line 3)) (0.3)\n",
      "Requirement already satisfied: jinja2 in /opt/conda/lib/python3.9/site-packages (from notebook>=4.4.1->widgetsnbextension~=3.5.0->ipywidgets<8,>=7.6.0->ipyleaflet->-r requirements.txt (line 3)) (3.0.3)\n",
      "Requirement already satisfied: terminado>=0.8.3 in /opt/conda/lib/python3.9/site-packages (from notebook>=4.4.1->widgetsnbextension~=3.5.0->ipywidgets<8,>=7.6.0->ipyleaflet->-r requirements.txt (line 3)) (0.12.1)\n",
      "Requirement already satisfied: nbconvert in /opt/conda/lib/python3.9/site-packages (from notebook>=4.4.1->widgetsnbextension~=3.5.0->ipywidgets<8,>=7.6.0->ipyleaflet->-r requirements.txt (line 3)) (6.3.0)\n",
      "Requirement already satisfied: prometheus-client in /opt/conda/lib/python3.9/site-packages (from notebook>=4.4.1->widgetsnbextension~=3.5.0->ipywidgets<8,>=7.6.0->ipyleaflet->-r requirements.txt (line 3)) (0.12.0)\n",
      "Requirement already satisfied: Send2Trash>=1.5.0 in /opt/conda/lib/python3.9/site-packages (from notebook>=4.4.1->widgetsnbextension~=3.5.0->ipywidgets<8,>=7.6.0->ipyleaflet->-r requirements.txt (line 3)) (1.8.0)\n",
      "Requirement already satisfied: argon2-cffi in /opt/conda/lib/python3.9/site-packages (from notebook>=4.4.1->widgetsnbextension~=3.5.0->ipywidgets<8,>=7.6.0->ipyleaflet->-r requirements.txt (line 3)) (21.1.0)\n",
      "Requirement already satisfied: ptyprocess>=0.5 in /opt/conda/lib/python3.9/site-packages (from pexpect>4.3->ipython>=4.0.0->ipywidgets<8,>=7.6.0->ipyleaflet->-r requirements.txt (line 3)) (0.7.0)\n",
      "Requirement already satisfied: wcwidth in /opt/conda/lib/python3.9/site-packages (from prompt-toolkit!=3.0.0,!=3.0.1,<3.1.0,>=2.0.0->ipython>=4.0.0->ipywidgets<8,>=7.6.0->ipyleaflet->-r requirements.txt (line 3)) (0.2.5)\n",
      "Requirement already satisfied: cffi>=1.0.0 in /opt/conda/lib/python3.9/site-packages (from argon2-cffi->notebook>=4.4.1->widgetsnbextension~=3.5.0->ipywidgets<8,>=7.6.0->ipyleaflet->-r requirements.txt (line 3)) (1.15.0)\n",
      "Requirement already satisfied: MarkupSafe>=2.0 in /opt/conda/lib/python3.9/site-packages (from jinja2->notebook>=4.4.1->widgetsnbextension~=3.5.0->ipywidgets<8,>=7.6.0->ipyleaflet->-r requirements.txt (line 3)) (2.0.1)\n",
      "Requirement already satisfied: testpath in /opt/conda/lib/python3.9/site-packages (from nbconvert->notebook>=4.4.1->widgetsnbextension~=3.5.0->ipywidgets<8,>=7.6.0->ipyleaflet->-r requirements.txt (line 3)) (0.5.0)\n",
      "Requirement already satisfied: nbclient<0.6.0,>=0.5.0 in /opt/conda/lib/python3.9/site-packages (from nbconvert->notebook>=4.4.1->widgetsnbextension~=3.5.0->ipywidgets<8,>=7.6.0->ipyleaflet->-r requirements.txt (line 3)) (0.5.8)\n",
      "Requirement already satisfied: mistune<2,>=0.8.1 in /opt/conda/lib/python3.9/site-packages (from nbconvert->notebook>=4.4.1->widgetsnbextension~=3.5.0->ipywidgets<8,>=7.6.0->ipyleaflet->-r requirements.txt (line 3)) (0.8.4)\n",
      "Requirement already satisfied: jupyterlab-pygments in /opt/conda/lib/python3.9/site-packages (from nbconvert->notebook>=4.4.1->widgetsnbextension~=3.5.0->ipywidgets<8,>=7.6.0->ipyleaflet->-r requirements.txt (line 3)) (0.1.2)\n",
      "Requirement already satisfied: bleach in /opt/conda/lib/python3.9/site-packages (from nbconvert->notebook>=4.4.1->widgetsnbextension~=3.5.0->ipywidgets<8,>=7.6.0->ipyleaflet->-r requirements.txt (line 3)) (4.1.0)\n",
      "Requirement already satisfied: defusedxml in /opt/conda/lib/python3.9/site-packages (from nbconvert->notebook>=4.4.1->widgetsnbextension~=3.5.0->ipywidgets<8,>=7.6.0->ipyleaflet->-r requirements.txt (line 3)) (0.7.1)\n",
      "Requirement already satisfied: pandocfilters>=1.4.1 in /opt/conda/lib/python3.9/site-packages (from nbconvert->notebook>=4.4.1->widgetsnbextension~=3.5.0->ipywidgets<8,>=7.6.0->ipyleaflet->-r requirements.txt (line 3)) (1.5.0)\n",
      "Requirement already satisfied: pycparser in /opt/conda/lib/python3.9/site-packages (from cffi>=1.0.0->argon2-cffi->notebook>=4.4.1->widgetsnbextension~=3.5.0->ipywidgets<8,>=7.6.0->ipyleaflet->-r requirements.txt (line 3)) (2.21)\n",
      "Requirement already satisfied: packaging in /opt/conda/lib/python3.9/site-packages (from bleach->nbconvert->notebook>=4.4.1->widgetsnbextension~=3.5.0->ipywidgets<8,>=7.6.0->ipyleaflet->-r requirements.txt (line 3)) (21.2)\n",
      "Requirement already satisfied: webencodings in /opt/conda/lib/python3.9/site-packages (from bleach->nbconvert->notebook>=4.4.1->widgetsnbextension~=3.5.0->ipywidgets<8,>=7.6.0->ipyleaflet->-r requirements.txt (line 3)) (0.5.1)\n",
      "Requirement already satisfied: pyparsing<3,>=2.0.2 in /opt/conda/lib/python3.9/site-packages (from packaging->bleach->nbconvert->notebook>=4.4.1->widgetsnbextension~=3.5.0->ipywidgets<8,>=7.6.0->ipyleaflet->-r requirements.txt (line 3)) (2.4.7)\n"
     ]
    }
   ],
   "source": [
    "!pip install -r requirements.txt"
   ]
  },
  {
   "cell_type": "code",
   "execution_count": 2,
   "id": "4d53c57e-0777-4c0d-9dc6-4954c95ed307",
   "metadata": {},
   "outputs": [
    {
     "name": "stderr",
     "output_type": "stream",
     "text": [
      "/opt/conda/lib/python3.9/site-packages/geopandas/_compat.py:111: UserWarning: The Shapely GEOS version (3.9.1-CAPI-1.14.2) is incompatible with the GEOS version PyGEOS was compiled with (3.10.1-CAPI-1.16.0). Conversions between both will be slow.\n",
      "  warnings.warn(\n"
     ]
    }
   ],
   "source": [
    "import calitp\n",
    "from calitp.tables import tbl\n",
    "from siuba import *\n",
    "\n",
    "import pandas as pd\n",
    "import numpy as np\n",
    "import geopandas as gpd\n",
    "import fiona\n",
    "import shapely\n",
    "\n",
    "from ipyleaflet import Map, GeoJSON, projections, basemaps, GeoData, LayersControl, WidgetControl, GeoJSON\n",
    "from ipywidgets import Text, HTML\n",
    "\n",
    "from utilities import *"
   ]
  },
  {
   "cell_type": "code",
   "execution_count": 3,
   "id": "e31ad027-1acc-44f8-bdd6-31f1b9b36a77",
   "metadata": {},
   "outputs": [],
   "source": [
    "bus_hqtc = gpd.read_parquet(f'{GCS_FILE_PATH}shape_hqta_dissolve.parquet')\n",
    "bus_hqtc = bus_hqtc[bus_hqtc['hq_transit_corr']]\n",
    "bus_hqtc['hqta_type'] = 'hq_transit_corr'"
   ]
  },
  {
   "cell_type": "code",
   "execution_count": 4,
   "id": "bcbea24e-ab7e-400a-8813-6a477471c1d6",
   "metadata": {},
   "outputs": [],
   "source": [
    "rail_ferry_brt_stops = gpd.read_parquet(f'{GCS_FILE_PATH}rail_brt_ferry.parquet')\n",
    "rail_ferry_brt_stops['hqta_type'] = 'major_transit_stop'"
   ]
  },
  {
   "cell_type": "code",
   "execution_count": 7,
   "id": "6aec4721-0827-40f3-be60-0790916b0385",
   "metadata": {},
   "outputs": [
    {
     "data": {
      "text/plain": [
       "Index(['stop_id', 'calitp_itp_id', 'stop_lat', 'stop_lon', 'itp_id_stop_id',\n",
       "       'itp_id_trip_id', 'route_id', 'itp_id_route_id', 'trip_id', 'geometry',\n",
       "       'calitp_url_number', 'route_type', 'agency_id', 'route_short_name',\n",
       "       'route_long_name', 'route_desc', 'route_url', 'route_color',\n",
       "       'route_text_color', 'route_sort_order', 'continuous_pickup',\n",
       "       'continuous_drop_off', 'calitp_extracted_at', 'hqta_type'],\n",
       "      dtype='object')"
      ]
     },
     "execution_count": 7,
     "metadata": {},
     "output_type": "execute_result"
    }
   ],
   "source": [
    "rail_ferry_brt_stops.columns"
   ]
  },
  {
   "cell_type": "code",
   "execution_count": 10,
   "id": "0e807584-dfb2-4385-b274-7276b0bc38d0",
   "metadata": {
    "tags": []
   },
   "outputs": [],
   "source": [
    "# geoparquet_gcs_export(bus_hqtc, 'bus_hqtc')"
   ]
  },
  {
   "cell_type": "code",
   "execution_count": 11,
   "id": "3b9a9f5e-6371-4367-978c-c0be0e6d979f",
   "metadata": {
    "tags": []
   },
   "outputs": [],
   "source": [
    "# geoparquet_gcs_export(rail_ferry_brt_stops, 'rail_ferry_brt_stops')"
   ]
  },
  {
   "cell_type": "markdown",
   "id": "c9163e6d-212d-4b33-acb3-38b0b88fe9cb",
   "metadata": {},
   "source": [
    "### High Quality Transit Areas Relevant Statutes\n",
    "\n",
    "[PRC 21155](https://leginfo.legislature.ca.gov/faces/codes_displaySection.xhtml?sectionNum=21155.&lawCode=PRC)\n",
    "* _(3) be within one-half mile of a major transit stop or high-quality transit corridor included in a regional transportation plan._\n",
    "* Major transit stop definition: _A major transit stop is as defined in Section 21064.3, except that, for purposes of this section, it also includes major transit stops that are included in the applicable regional transportation plan_\n",
    "* High-quality transit corridor definition: _For purposes of this section, a high-quality transit corridor means a corridor with fixed route bus service with service intervals no longer than 15 minutes during peak commute hours._\n",
    "    * Unable to locate definition of \"peak commute hours\"\n",
    "\n",
    "[PRC 21064.3](https://leginfo.legislature.ca.gov/faces/codes_displaySection.xhtml?sectionNum=21064.3.&lawCode=PRC)\n",
    "* _Major transit stop means a site containing any of the following:\n",
    "(a) An existing rail or bus rapid transit station.\n",
    "(b) A ferry terminal served by either a bus or rail transit service.\n",
    "(c) The intersection of two or more major bus routes with a frequency of service interval of 15 minutes or less during the morning and afternoon peak commute periods._\n",
    "    * \"Intersection\" may not be sufficiently well-defined for this analysis\n",
    "\n",
    "[PRC 21060.2](https://leginfo.legislature.ca.gov/faces/codes_displaySection.xhtml?lawCode=PRC&sectionNum=21060.2.&highlight=true&keyword=bus%20rapid%20transit)\n",
    "* _(a) “Bus rapid transit” means a public mass transit service provided by a public agency or by a public-private partnership that includes all of the following features:\n",
    "(1) Full-time dedicated bus lanes or operation in a separate right-of-way dedicated for public transportation with a frequency of service interval of 15 minutes or less during the morning and afternoon peak commute periods.\n",
    "(2) Transit signal priority.\n",
    "(3) All-door boarding.\n",
    "(4) Fare collection system that promotes efficiency.\n",
    "(5) Defined stations._\n",
    "    * Unlikely to determine if a service qualifies as BRT under this definition using GTFS alone"
   ]
  },
  {
   "cell_type": "markdown",
   "id": "abd74f0f-d4d6-4e12-9501-09df49e38ed2",
   "metadata": {},
   "source": [
    "## Bus Major Stops"
   ]
  },
  {
   "cell_type": "code",
   "execution_count": 8,
   "id": "441de95c-34c4-46bd-a95c-bfa0fd0338ea",
   "metadata": {},
   "outputs": [
    {
     "data": {
      "text/html": [
       "<div>\n",
       "<style scoped>\n",
       "    .dataframe tbody tr th:only-of-type {\n",
       "        vertical-align: middle;\n",
       "    }\n",
       "\n",
       "    .dataframe tbody tr th {\n",
       "        vertical-align: top;\n",
       "    }\n",
       "\n",
       "    .dataframe thead th {\n",
       "        text-align: right;\n",
       "    }\n",
       "</style>\n",
       "<table border=\"1\" class=\"dataframe\">\n",
       "  <thead>\n",
       "    <tr style=\"text-align: right;\">\n",
       "      <th></th>\n",
       "      <th>hq_transit_corr</th>\n",
       "      <th>shape_id</th>\n",
       "      <th>geometry</th>\n",
       "      <th>calitp_itp_id</th>\n",
       "      <th>hqta_segment_id</th>\n",
       "      <th>segment_sequence</th>\n",
       "      <th>stop_id</th>\n",
       "      <th>am_max_trips</th>\n",
       "      <th>pm_max_trips</th>\n",
       "      <th>hqta_type</th>\n",
       "    </tr>\n",
       "  </thead>\n",
       "  <tbody>\n",
       "    <tr>\n",
       "      <th>2256</th>\n",
       "      <td>True</td>\n",
       "      <td>01582b61-5a02-4e6c-bd37-bad46bb036a9</td>\n",
       "      <td>POLYGON ((-133311.510 166655.910, -133353.419 ...</td>\n",
       "      <td>48</td>\n",
       "      <td>1937384376</td>\n",
       "      <td>0</td>\n",
       "      <td>12f4ecb6-c161-480e-8ec2-d7e3b63c7e38</td>\n",
       "      <td>7.0</td>\n",
       "      <td>8.0</td>\n",
       "      <td>hq_transit_corr</td>\n",
       "    </tr>\n",
       "    <tr>\n",
       "      <th>2257</th>\n",
       "      <td>True</td>\n",
       "      <td>0500</td>\n",
       "      <td>POLYGON ((212373.929 -486798.063, 212402.264 -...</td>\n",
       "      <td>142</td>\n",
       "      <td>4126984225</td>\n",
       "      <td>1</td>\n",
       "      <td>4654</td>\n",
       "      <td>5.0</td>\n",
       "      <td>7.0</td>\n",
       "      <td>hq_transit_corr</td>\n",
       "    </tr>\n",
       "    <tr>\n",
       "      <th>2258</th>\n",
       "      <td>True</td>\n",
       "      <td>0843</td>\n",
       "      <td>MULTIPOLYGON (((200815.723 -472198.343, 200811...</td>\n",
       "      <td>142</td>\n",
       "      <td>1555422069</td>\n",
       "      <td>0</td>\n",
       "      <td>6679</td>\n",
       "      <td>5.0</td>\n",
       "      <td>6.0</td>\n",
       "      <td>hq_transit_corr</td>\n",
       "    </tr>\n",
       "  </tbody>\n",
       "</table>\n",
       "</div>"
      ],
      "text/plain": [
       "      hq_transit_corr                              shape_id  \\\n",
       "2256             True  01582b61-5a02-4e6c-bd37-bad46bb036a9   \n",
       "2257             True                                  0500   \n",
       "2258             True                                  0843   \n",
       "\n",
       "                                               geometry calitp_itp_id  \\\n",
       "2256  POLYGON ((-133311.510 166655.910, -133353.419 ...            48   \n",
       "2257  POLYGON ((212373.929 -486798.063, 212402.264 -...           142   \n",
       "2258  MULTIPOLYGON (((200815.723 -472198.343, 200811...           142   \n",
       "\n",
       "      hqta_segment_id segment_sequence                               stop_id  \\\n",
       "2256       1937384376                0  12f4ecb6-c161-480e-8ec2-d7e3b63c7e38   \n",
       "2257       4126984225                1                                  4654   \n",
       "2258       1555422069                0                                  6679   \n",
       "\n",
       "      am_max_trips  pm_max_trips        hqta_type  \n",
       "2256           7.0           8.0  hq_transit_corr  \n",
       "2257           5.0           7.0  hq_transit_corr  \n",
       "2258           5.0           6.0  hq_transit_corr  "
      ]
     },
     "execution_count": 8,
     "metadata": {},
     "output_type": "execute_result"
    }
   ],
   "source": [
    "bus_hqtc.head(3)"
   ]
  },
  {
   "cell_type": "code",
   "execution_count": 9,
   "id": "f104e680-a949-4e07-a4dd-19950207c66f",
   "metadata": {},
   "outputs": [],
   "source": [
    "gdf = bus_hqtc\n",
    "output = gpd.GeoDataFrame()\n",
    "\n",
    "def find_intersections(row):\n",
    "    global output\n",
    "    # display(row)\n",
    "    # display(row.shape_id)\n",
    "    this_row = gdf >> filter(_.shape_id == row.shape_id)\n",
    "    not_this_row = gdf >> filter(_.shape_id != row.shape_id)\n",
    "    # print(type(filtered))\n",
    "    clip_row = gpd.clip(this_row, not_this_row)\n",
    "    output = output.append(clip_row)\n",
    "    return"
   ]
  },
  {
   "cell_type": "code",
   "execution_count": 10,
   "id": "96caf70f-e497-4df4-9b1a-20b54f7b7f83",
   "metadata": {},
   "outputs": [],
   "source": [
    "# _test = bus_hqtc.apply(find_intersections, axis=1)"
   ]
  },
  {
   "cell_type": "code",
   "execution_count": 11,
   "id": "cdb9023e-8397-4eed-b829-0ab22ee26580",
   "metadata": {},
   "outputs": [],
   "source": [
    "# output.geometry = output.geometry.buffer(50)"
   ]
  },
  {
   "cell_type": "code",
   "execution_count": 12,
   "id": "a54925c8-cb64-452f-b8ac-18407ed3f9d6",
   "metadata": {},
   "outputs": [],
   "source": [
    "# geoparquet_gcs_export(output, 'major_bus_stops_working')"
   ]
  },
  {
   "cell_type": "code",
   "execution_count": 10,
   "id": "c3f748fa-861d-4d7c-b005-480d6ecc30a2",
   "metadata": {},
   "outputs": [],
   "source": [
    "major_bus = gpd.read_parquet(f'{GCS_FILE_PATH}major_bus_stops_working.parquet')"
   ]
  },
  {
   "cell_type": "code",
   "execution_count": 11,
   "id": "ca09eb4e-97b4-48b6-ba21-542ac35c8ceb",
   "metadata": {},
   "outputs": [],
   "source": [
    "def drop_big_areas(geometry):\n",
    "    if type(geometry) == shapely.geometry.multipolygon.MultiPolygon:\n",
    "        filtered = [x for x in list(geometry.geoms) if x.length < 1000]\n",
    "        if len(filtered) > 0:\n",
    "            return shapely.geometry.MultiPolygon(filtered)\n",
    "    elif type(geometry) == shapely.geometry.polygon.Polygon:\n",
    "        if geometry.length < 1000:\n",
    "            return geometry\n",
    "    else:\n",
    "        return np.nan"
   ]
  },
  {
   "cell_type": "code",
   "execution_count": 12,
   "id": "82e5d819-63dc-4ba3-a9f9-c314f5a4ca33",
   "metadata": {},
   "outputs": [],
   "source": [
    "major_bus['geometry'] = major_bus.geometry.apply(drop_big_areas)"
   ]
  },
  {
   "cell_type": "code",
   "execution_count": 28,
   "id": "6273ed98-b5a2-4e83-bfac-9f487f8c6142",
   "metadata": {},
   "outputs": [],
   "source": [
    "row_per_stop = gpd.GeoDataFrame()\n",
    "def explode_geoms(row):\n",
    "    global row_per_stop\n",
    "    if type(row.geometry) == shapely.geometry.multipolygon.MultiPolygon:\n",
    "        for geom in row.geometry.geoms:\n",
    "            row.geometry = geom.centroid\n",
    "            row_per_stop = row_per_stop.append(row)\n",
    "    elif type(row.geometry) == shapely.geometry.polygon.Polygon:\n",
    "        row.geometry = row.geometry.centroid\n",
    "        row_per_stop = row_per_stop.append(row)\n",
    "    \n",
    "    return row"
   ]
  },
  {
   "cell_type": "code",
   "execution_count": 29,
   "id": "c35ed21e-d6e0-42cf-8bd5-e4792d5d3c14",
   "metadata": {},
   "outputs": [],
   "source": [
    "major_bus = major_bus.dropna(subset=['geometry'])"
   ]
  },
  {
   "cell_type": "code",
   "execution_count": 30,
   "id": "2df43e17-9ca0-4c46-b6a1-92d77ec98d3a",
   "metadata": {
    "tags": []
   },
   "outputs": [
    {
     "data": {
      "text/html": [
       "<div>\n",
       "<style scoped>\n",
       "    .dataframe tbody tr th:only-of-type {\n",
       "        vertical-align: middle;\n",
       "    }\n",
       "\n",
       "    .dataframe tbody tr th {\n",
       "        vertical-align: top;\n",
       "    }\n",
       "\n",
       "    .dataframe thead th {\n",
       "        text-align: right;\n",
       "    }\n",
       "</style>\n",
       "<table border=\"1\" class=\"dataframe\">\n",
       "  <thead>\n",
       "    <tr style=\"text-align: right;\">\n",
       "      <th></th>\n",
       "      <th>hq_transit_corr</th>\n",
       "      <th>shape_id</th>\n",
       "      <th>geometry</th>\n",
       "      <th>level_0</th>\n",
       "      <th>calitp_itp_id</th>\n",
       "      <th>hqta_segment_id</th>\n",
       "      <th>n_trips</th>\n",
       "      <th>segment_sequence</th>\n",
       "      <th>stop_id</th>\n",
       "      <th>am_peak</th>\n",
       "      <th>pm_peak</th>\n",
       "      <th>hqta_type</th>\n",
       "    </tr>\n",
       "  </thead>\n",
       "  <tbody>\n",
       "    <tr>\n",
       "      <th>2464</th>\n",
       "      <td>True</td>\n",
       "      <td>0500</td>\n",
       "      <td>POINT (193061.249 -465491.440)</td>\n",
       "      <td>0</td>\n",
       "      <td>142</td>\n",
       "      <td>2197551287</td>\n",
       "      <td>134.0</td>\n",
       "      <td>0</td>\n",
       "      <td>3977</td>\n",
       "      <td>9.0</td>\n",
       "      <td>8.0</td>\n",
       "      <td>hq_transit_corr</td>\n",
       "    </tr>\n",
       "    <tr>\n",
       "      <th>2467</th>\n",
       "      <td>True</td>\n",
       "      <td>100706_SEPT21</td>\n",
       "      <td>POINT (149243.534 -435856.085)</td>\n",
       "      <td>0</td>\n",
       "      <td>182</td>\n",
       "      <td>2368710740</td>\n",
       "      <td>120.0</td>\n",
       "      <td>1</td>\n",
       "      <td>16374</td>\n",
       "      <td>6.0</td>\n",
       "      <td>8.0</td>\n",
       "      <td>hq_transit_corr</td>\n",
       "    </tr>\n",
       "    <tr>\n",
       "      <th>2468</th>\n",
       "      <td>True</td>\n",
       "      <td>100708_SEPT21</td>\n",
       "      <td>POINT (159441.767 -444289.585)</td>\n",
       "      <td>3</td>\n",
       "      <td>182</td>\n",
       "      <td>2883785450</td>\n",
       "      <td>72.0</td>\n",
       "      <td>3</td>\n",
       "      <td>9785</td>\n",
       "      <td>4.7</td>\n",
       "      <td>4.7</td>\n",
       "      <td>hq_transit_corr</td>\n",
       "    </tr>\n",
       "    <tr>\n",
       "      <th>2471</th>\n",
       "      <td>True</td>\n",
       "      <td>1020067_SEPT21</td>\n",
       "      <td>POINT (150511.825 -447354.169)</td>\n",
       "      <td>3</td>\n",
       "      <td>182</td>\n",
       "      <td>2238923216</td>\n",
       "      <td>115.0</td>\n",
       "      <td>4</td>\n",
       "      <td>11283</td>\n",
       "      <td>8.0</td>\n",
       "      <td>8.0</td>\n",
       "      <td>hq_transit_corr</td>\n",
       "    </tr>\n",
       "    <tr>\n",
       "      <th>2475</th>\n",
       "      <td>True</td>\n",
       "      <td>103717</td>\n",
       "      <td>POINT (-178950.630 -71003.248)</td>\n",
       "      <td>1</td>\n",
       "      <td>294</td>\n",
       "      <td>2280977661</td>\n",
       "      <td>136.0</td>\n",
       "      <td>3</td>\n",
       "      <td>480</td>\n",
       "      <td>7.0</td>\n",
       "      <td>8.0</td>\n",
       "      <td>hq_transit_corr</td>\n",
       "    </tr>\n",
       "    <tr>\n",
       "      <th>...</th>\n",
       "      <td>...</td>\n",
       "      <td>...</td>\n",
       "      <td>...</td>\n",
       "      <td>...</td>\n",
       "      <td>...</td>\n",
       "      <td>...</td>\n",
       "      <td>...</td>\n",
       "      <td>...</td>\n",
       "      <td>...</td>\n",
       "      <td>...</td>\n",
       "      <td>...</td>\n",
       "      <td>...</td>\n",
       "    </tr>\n",
       "    <tr>\n",
       "      <th>3231</th>\n",
       "      <td>True</td>\n",
       "      <td>shp-73-01</td>\n",
       "      <td>POINT (-194726.607 -31504.765)</td>\n",
       "      <td>0</td>\n",
       "      <td>4</td>\n",
       "      <td>1652690359</td>\n",
       "      <td>220.0</td>\n",
       "      <td>0</td>\n",
       "      <td>3708</td>\n",
       "      <td>9.3</td>\n",
       "      <td>11.7</td>\n",
       "      <td>hq_transit_corr</td>\n",
       "    </tr>\n",
       "    <tr>\n",
       "      <th>3232</th>\n",
       "      <td>True</td>\n",
       "      <td>shp-73-51</td>\n",
       "      <td>POINT (-194726.607 -31504.765)</td>\n",
       "      <td>0</td>\n",
       "      <td>4</td>\n",
       "      <td>1682558812</td>\n",
       "      <td>238.0</td>\n",
       "      <td>0</td>\n",
       "      <td>2712</td>\n",
       "      <td>13.3</td>\n",
       "      <td>10.0</td>\n",
       "      <td>hq_transit_corr</td>\n",
       "    </tr>\n",
       "    <tr>\n",
       "      <th>3236</th>\n",
       "      <td>True</td>\n",
       "      <td>shp-88-07</td>\n",
       "      <td>POINT (-200443.266 -13810.682)</td>\n",
       "      <td>1</td>\n",
       "      <td>4</td>\n",
       "      <td>3310950755</td>\n",
       "      <td>83.0</td>\n",
       "      <td>1</td>\n",
       "      <td>2026</td>\n",
       "      <td>4.7</td>\n",
       "      <td>5.0</td>\n",
       "      <td>hq_transit_corr</td>\n",
       "    </tr>\n",
       "    <tr>\n",
       "      <th>3238</th>\n",
       "      <td>True</td>\n",
       "      <td>shp-97-57</td>\n",
       "      <td>POINT (-187275.985 -33268.849)</td>\n",
       "      <td>0</td>\n",
       "      <td>4</td>\n",
       "      <td>4254707562</td>\n",
       "      <td>80.0</td>\n",
       "      <td>0</td>\n",
       "      <td>4320</td>\n",
       "      <td>4.3</td>\n",
       "      <td>4.7</td>\n",
       "      <td>hq_transit_corr</td>\n",
       "    </tr>\n",
       "    <tr>\n",
       "      <th>3239</th>\n",
       "      <td>True</td>\n",
       "      <td>shp-99-08</td>\n",
       "      <td>POINT (-178261.436 -45851.507)</td>\n",
       "      <td>0</td>\n",
       "      <td>4</td>\n",
       "      <td>3287994159</td>\n",
       "      <td>142.0</td>\n",
       "      <td>0</td>\n",
       "      <td>6243</td>\n",
       "      <td>7.7</td>\n",
       "      <td>8.0</td>\n",
       "      <td>hq_transit_corr</td>\n",
       "    </tr>\n",
       "  </tbody>\n",
       "</table>\n",
       "<p>349 rows × 12 columns</p>\n",
       "</div>"
      ],
      "text/plain": [
       "      hq_transit_corr        shape_id                        geometry  \\\n",
       "2464             True            0500  POINT (193061.249 -465491.440)   \n",
       "2467             True   100706_SEPT21  POINT (149243.534 -435856.085)   \n",
       "2468             True   100708_SEPT21  POINT (159441.767 -444289.585)   \n",
       "2471             True  1020067_SEPT21  POINT (150511.825 -447354.169)   \n",
       "2475             True          103717  POINT (-178950.630 -71003.248)   \n",
       "...               ...             ...                             ...   \n",
       "3231             True       shp-73-01  POINT (-194726.607 -31504.765)   \n",
       "3232             True       shp-73-51  POINT (-194726.607 -31504.765)   \n",
       "3236             True       shp-88-07  POINT (-200443.266 -13810.682)   \n",
       "3238             True       shp-97-57  POINT (-187275.985 -33268.849)   \n",
       "3239             True       shp-99-08  POINT (-178261.436 -45851.507)   \n",
       "\n",
       "      level_0 calitp_itp_id  hqta_segment_id  n_trips segment_sequence  \\\n",
       "2464        0           142       2197551287    134.0                0   \n",
       "2467        0           182       2368710740    120.0                1   \n",
       "2468        3           182       2883785450     72.0                3   \n",
       "2471        3           182       2238923216    115.0                4   \n",
       "2475        1           294       2280977661    136.0                3   \n",
       "...       ...           ...              ...      ...              ...   \n",
       "3231        0             4       1652690359    220.0                0   \n",
       "3232        0             4       1682558812    238.0                0   \n",
       "3236        1             4       3310950755     83.0                1   \n",
       "3238        0             4       4254707562     80.0                0   \n",
       "3239        0             4       3287994159    142.0                0   \n",
       "\n",
       "     stop_id  am_peak  pm_peak        hqta_type  \n",
       "2464    3977      9.0      8.0  hq_transit_corr  \n",
       "2467   16374      6.0      8.0  hq_transit_corr  \n",
       "2468    9785      4.7      4.7  hq_transit_corr  \n",
       "2471   11283      8.0      8.0  hq_transit_corr  \n",
       "2475     480      7.0      8.0  hq_transit_corr  \n",
       "...      ...      ...      ...              ...  \n",
       "3231    3708      9.3     11.7  hq_transit_corr  \n",
       "3232    2712     13.3     10.0  hq_transit_corr  \n",
       "3236    2026      4.7      5.0  hq_transit_corr  \n",
       "3238    4320      4.3      4.7  hq_transit_corr  \n",
       "3239    6243      7.7      8.0  hq_transit_corr  \n",
       "\n",
       "[349 rows x 12 columns]"
      ]
     },
     "execution_count": 30,
     "metadata": {},
     "output_type": "execute_result"
    }
   ],
   "source": [
    "major_bus.apply(explode_geoms, axis=1)"
   ]
  },
  {
   "cell_type": "code",
   "execution_count": 31,
   "id": "6ab04e63-f673-48d4-bf1a-d01d203f5b33",
   "metadata": {},
   "outputs": [],
   "source": [
    "row_per_stop = row_per_stop.reset_index(drop=True)"
   ]
  },
  {
   "cell_type": "code",
   "execution_count": 32,
   "id": "92d2df98-49d9-4786-bd53-df2ddc107354",
   "metadata": {},
   "outputs": [],
   "source": [
    "row_per_stop = row_per_stop[['calitp_itp_id', 'stop_id', 'geometry']]"
   ]
  },
  {
   "cell_type": "code",
   "execution_count": 33,
   "id": "faaa147d-ae1e-4b9b-a7a2-ff462a3c66fd",
   "metadata": {},
   "outputs": [],
   "source": [
    "row_per_stop['hqta_type'] = 'major_transit_stop'"
   ]
  },
  {
   "cell_type": "code",
   "execution_count": 34,
   "id": "3e574e12-8017-4867-9230-8fa891e914bb",
   "metadata": {},
   "outputs": [],
   "source": [
    "row_per_stop = row_per_stop.set_crs('EPSG:6414')"
   ]
  },
  {
   "cell_type": "code",
   "execution_count": 35,
   "id": "d01200cc-cda2-4635-af68-3b8448e70b5a",
   "metadata": {},
   "outputs": [
    {
     "data": {
      "text/html": [
       "<div>\n",
       "<style scoped>\n",
       "    .dataframe tbody tr th:only-of-type {\n",
       "        vertical-align: middle;\n",
       "    }\n",
       "\n",
       "    .dataframe tbody tr th {\n",
       "        vertical-align: top;\n",
       "    }\n",
       "\n",
       "    .dataframe thead th {\n",
       "        text-align: right;\n",
       "    }\n",
       "</style>\n",
       "<table border=\"1\" class=\"dataframe\">\n",
       "  <thead>\n",
       "    <tr style=\"text-align: right;\">\n",
       "      <th></th>\n",
       "      <th>calitp_itp_id</th>\n",
       "      <th>stop_id</th>\n",
       "      <th>geometry</th>\n",
       "      <th>hqta_type</th>\n",
       "    </tr>\n",
       "  </thead>\n",
       "  <tbody>\n",
       "    <tr>\n",
       "      <th>0</th>\n",
       "      <td>142</td>\n",
       "      <td>3977</td>\n",
       "      <td>POINT (199058.382 -471125.032)</td>\n",
       "      <td>major_transit_stop</td>\n",
       "    </tr>\n",
       "    <tr>\n",
       "      <th>1</th>\n",
       "      <td>142</td>\n",
       "      <td>3977</td>\n",
       "      <td>POINT (198531.592 -471368.189)</td>\n",
       "      <td>major_transit_stop</td>\n",
       "    </tr>\n",
       "    <tr>\n",
       "      <th>2</th>\n",
       "      <td>142</td>\n",
       "      <td>3977</td>\n",
       "      <td>POINT (193068.693 -465847.391)</td>\n",
       "      <td>major_transit_stop</td>\n",
       "    </tr>\n",
       "  </tbody>\n",
       "</table>\n",
       "</div>"
      ],
      "text/plain": [
       "  calitp_itp_id stop_id                        geometry           hqta_type\n",
       "0           142    3977  POINT (199058.382 -471125.032)  major_transit_stop\n",
       "1           142    3977  POINT (198531.592 -471368.189)  major_transit_stop\n",
       "2           142    3977  POINT (193068.693 -465847.391)  major_transit_stop"
      ]
     },
     "execution_count": 35,
     "metadata": {},
     "output_type": "execute_result"
    }
   ],
   "source": [
    "row_per_stop.head(3)"
   ]
  },
  {
   "cell_type": "code",
   "execution_count": 36,
   "id": "5bbfaa07-f16c-46a9-ae5e-338a5b7f5d8b",
   "metadata": {},
   "outputs": [
    {
     "name": "stderr",
     "output_type": "stream",
     "text": [
      "/home/jovyan/data-analyses/high_quality_transit_areas/utilities.py:85: UserWarning: this is an initial implementation of Parquet/Feather file support and associated metadata.  This is tracking version 0.1.0 of the metadata specification at https://github.com/geopandas/geo-arrow-spec\n",
      "\n",
      "This metadata specification does not yet make stability promises.  We do not yet recommend using this in a production setting unless you are able to rewrite your Parquet/Feather files.\n",
      "\n",
      "To further ignore this warning, you can do: \n",
      "import warnings; warnings.filterwarnings('ignore', message='.*initial implementation of Parquet.*')\n",
      "  gdf.to_parquet(f\"{name}.parquet\")\n"
     ]
    }
   ],
   "source": [
    "geoparquet_gcs_export(row_per_stop, 'major_bus_stops')"
   ]
  },
  {
   "cell_type": "code",
   "execution_count": 24,
   "id": "dcccae17-5f35-4fc4-a5dc-0e5cf45e2f25",
   "metadata": {},
   "outputs": [],
   "source": [
    "# major_bus_operators = [int(x) for x in list(major_bus.calitp_itp_id.astype(int).unique())]"
   ]
  },
  {
   "cell_type": "code",
   "execution_count": 25,
   "id": "19f9b7dd-1b2b-4c7a-9ba9-3e1e1e9b46be",
   "metadata": {
    "tags": []
   },
   "outputs": [],
   "source": [
    "# tbl_stops = (tbl.gtfs_schedule.stops() \n",
    "#          >> filter(_.calitp_itp_id.isin(major_bus_operators))\n",
    "#          >> select(_.stop_id, _.stop_lat, _.stop_lon, _.calitp_itp_id)\n",
    "#          >> collect()\n",
    "#             )\n",
    "# tbl_stops = gpd.GeoDataFrame(tbl_stops,\n",
    "#                  geometry = gpd.points_from_xy(tbl_stops.stop_lon, tbl_stops.stop_lat),\n",
    "#                  crs = 'EPSG:4326').to_crs('EPSG:6414') ## https://epsg.io/6414 (meters)"
   ]
  },
  {
   "cell_type": "code",
   "execution_count": 26,
   "id": "7d959fef-e315-4985-b3fd-72192096a691",
   "metadata": {},
   "outputs": [],
   "source": [
    "# def join_stops(df):\n",
    "#     stops_filtered = tbl_stops >> filter(_.calitp_itp_id == int(df.calitp_itp_id.iloc[0]))\n",
    "#     df = row_per_stop.sjoin(stops_filtered, how='inner', predicate='contains')\n",
    "#     return df"
   ]
  },
  {
   "cell_type": "code",
   "execution_count": 27,
   "id": "909f1b0f-0d99-4713-90e5-cf86e7bcab1e",
   "metadata": {},
   "outputs": [],
   "source": [
    "# join_to_stop = row_per_stop.groupby('calitp_itp_id').apply(join_stops)"
   ]
  },
  {
   "cell_type": "markdown",
   "id": "f1ac0f78-6b99-4079-8c26-ca875367f6a8",
   "metadata": {},
   "source": [
    "#### Definitions and Output:\n",
    "\n",
    "* hqta_type: major_transit_stop\n",
    "* stop_id: one stop id... (not ideal, but oh well)\n",
    "* geometry: .buffer(700)?\n",
    "* _can alway pull more info spatially_"
   ]
  },
  {
   "cell_type": "markdown",
   "id": "8e53d610-d9bc-4bc1-8a79-d32b3078d672",
   "metadata": {},
   "source": [
    "### Combining and Buffering\n",
    "\n",
    "* General buffer distance: 1/2mi ~= 805 meters\n",
    "* Bus corridors are already buffered 50 meters, so will buffer 755 meters"
   ]
  },
  {
   "cell_type": "code",
   "execution_count": 28,
   "id": "e13cb57b-0905-4b8c-9f8f-d6d87c09c533",
   "metadata": {},
   "outputs": [],
   "source": [
    "bus_hqtc.geometry = bus_hqtc.geometry.buffer(755)\n",
    "row_per_stop.geometry = row_per_stop.geometry.buffer(805)\n",
    "rail_ferry_brt_stops.geometry = rail_ferry_brt_stops.geometry.buffer(805)"
   ]
  },
  {
   "cell_type": "code",
   "execution_count": 29,
   "id": "da513fe3-7893-48a1-b33b-de36e5c97443",
   "metadata": {},
   "outputs": [],
   "source": [
    "all_hqta = (bus_hqtc\n",
    "            .append(rail_ferry_brt_stops)\n",
    "            .append(row_per_stop)\n",
    "            .fillna('')\n",
    "           )"
   ]
  },
  {
   "cell_type": "code",
   "execution_count": 30,
   "id": "96ea1b81-97d2-4d9f-986b-cb82fcb1d481",
   "metadata": {},
   "outputs": [],
   "source": [
    "all_hqta = all_hqta[['calitp_itp_id', 'geometry', 'hqta_type']]\n",
    "all_hqta = all_hqta.reset_index(drop=True)\n",
    "all_hqta['calitp_itp_id'] = all_hqta['calitp_itp_id'].astype('int64')"
   ]
  },
  {
   "cell_type": "markdown",
   "id": "637313be-dcc3-437a-8733-1731f9e0fa8f",
   "metadata": {},
   "source": [
    "### Format for export"
   ]
  },
  {
   "cell_type": "code",
   "execution_count": 31,
   "id": "e25ad411-6ea1-4232-bb47-6df3bb1f4167",
   "metadata": {},
   "outputs": [],
   "source": [
    "agency_names = (tbl.gtfs_schedule.agency()\n",
    " >> select(_.calitp_itp_id, _.agency_name)\n",
    " >> collect()\n",
    ")"
   ]
  },
  {
   "cell_type": "code",
   "execution_count": 32,
   "id": "fe2aeb20-1714-4543-ba8b-8d655ea1efa4",
   "metadata": {},
   "outputs": [],
   "source": [
    "all_hqta = all_hqta >> inner_join(_, agency_names, on='calitp_itp_id')"
   ]
  },
  {
   "cell_type": "code",
   "execution_count": 6,
   "id": "92d5b4c7-6723-471f-bafa-dada933393f7",
   "metadata": {
    "tags": []
   },
   "outputs": [],
   "source": [
    "all_hqta = gpd.read_parquet(f'{GCS_FILE_PATH}ca_high_quality_transit.parquet')"
   ]
  },
  {
   "cell_type": "code",
   "execution_count": 16,
   "id": "be750b0a-11e8-4905-bc62-6d2b7462a11a",
   "metadata": {},
   "outputs": [],
   "source": [
    "metro = bus_hqtc >> filter(_.calitp_itp_id == '182')"
   ]
  },
  {
   "cell_type": "code",
   "execution_count": 18,
   "id": "a3adc41e-90f1-4117-8e49-938c4c838a8d",
   "metadata": {},
   "outputs": [
    {
     "data": {
      "application/vnd.jupyter.widget-view+json": {
       "model_id": "4399525e0c1b47be87a271b99c3093b7",
       "version_major": 2,
       "version_minor": 0
      },
      "text/plain": [
       "Map(center=[34.078792878404975, -118.30956119336547], controls=(ZoomControl(options=['position', 'zoom_in_text…"
      ]
     },
     "metadata": {},
     "output_type": "display_data"
    }
   ],
   "source": [
    "map_hqta(metro, 'pm_max_trips')"
   ]
  },
  {
   "cell_type": "code",
   "execution_count": null,
   "id": "f614dc84-c6c1-482e-a6eb-d621ccb3af67",
   "metadata": {},
   "outputs": [],
   "source": [
    "geoparquet_gcs_export(all_hqta, 'ca_high_quality_transit')\n",
    "# all_hqta.to_file('./ca_high_quality_transit.geojson', driver='GeoJSON')\n",
    "# all_hqta.to_file('./ca_high_quality_transit/ca_high_quality_transit.shp')"
   ]
  },
  {
   "cell_type": "markdown",
   "id": "1752dde1-2740-49a7-9c5a-ddd3064ab7ac",
   "metadata": {},
   "source": [
    "## Static Map Images (all HQTAs)\n",
    "\n",
    "![bay](img/bay_valley_all.png)\n",
    "\n",
    "![fresno](img/fres_all.png)\n",
    "\n",
    "![san_diego](img/sd_all.png)"
   ]
  }
 ],
 "metadata": {
  "kernelspec": {
   "display_name": "Python 3 (ipykernel)",
   "language": "python",
   "name": "python3"
  },
  "language_info": {
   "codemirror_mode": {
    "name": "ipython",
    "version": 3
   },
   "file_extension": ".py",
   "mimetype": "text/x-python",
   "name": "python",
   "nbconvert_exporter": "python",
   "pygments_lexer": "ipython3",
   "version": "3.9.7"
  }
 },
 "nbformat": 4,
 "nbformat_minor": 5
}
