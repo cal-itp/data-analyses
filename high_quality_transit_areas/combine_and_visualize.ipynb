{
 "cells": [
  {
   "cell_type": "code",
   "execution_count": 1,
   "id": "7f9e615b-d071-4728-b774-1d02f509c332",
   "metadata": {
    "tags": []
   },
   "outputs": [],
   "source": [
    "# !pip install -r requirements.txt"
   ]
  },
  {
   "cell_type": "code",
   "execution_count": 1,
   "id": "4d53c57e-0777-4c0d-9dc6-4954c95ed307",
   "metadata": {},
   "outputs": [
    {
     "name": "stderr",
     "output_type": "stream",
     "text": [
      "/opt/conda/lib/python3.10/site-packages/geopandas/_compat.py:111: UserWarning: The Shapely GEOS version (3.10.2-CAPI-1.16.0) is incompatible with the GEOS version PyGEOS was compiled with (3.10.1-CAPI-1.16.0). Conversions between both will be slow.\n",
      "  warnings.warn(\n"
     ]
    }
   ],
   "source": [
    "import calitp\n",
    "from calitp.tables import tbl\n",
    "from siuba import *\n",
    "\n",
    "import pandas as pd\n",
    "import numpy as np\n",
    "import geopandas as gpd\n",
    "import fiona\n",
    "import shapely\n",
    "\n",
    "from ipyleaflet import Map, GeoJSON, projections, basemaps, GeoData, LayersControl, WidgetControl, GeoJSON\n",
    "from ipywidgets import Text, HTML\n",
    "\n",
    "from utilities import *"
   ]
  },
  {
   "cell_type": "code",
   "execution_count": 2,
   "id": "65d71615-12fa-4ecd-abfc-1684b62459d3",
   "metadata": {},
   "outputs": [],
   "source": [
    "analysis_date = dt.date(2022, 6, 15) ## Wed, June 15"
   ]
  },
  {
   "cell_type": "code",
   "execution_count": 4,
   "id": "e31ad027-1acc-44f8-bdd6-31f1b9b36a77",
   "metadata": {},
   "outputs": [],
   "source": [
    "bus_hqtc = gpd.read_parquet(f'{GCS_FILE_PATH}intermediate/shape_dissolve.parquet')\n",
    "bus_hqtc = bus_hqtc[bus_hqtc['hq_transit_corr']]\n",
    "bus_hqtc['hqta_type'] = 'hq_transit_corr'\n",
    "bus_hqtc['route_type'] = '3'"
   ]
  },
  {
   "cell_type": "code",
   "execution_count": 5,
   "id": "bcbea24e-ab7e-400a-8813-6a477471c1d6",
   "metadata": {},
   "outputs": [],
   "source": [
    "rail_ferry_brt_stops = gpd.read_parquet(f'{GCS_FILE_PATH}rail_brt_ferry.parquet')\n",
    "rail_ferry_brt_stops['hqta_type'] = 'major_transit_stop'"
   ]
  },
  {
   "cell_type": "code",
   "execution_count": 6,
   "id": "6aec4721-0827-40f3-be60-0790916b0385",
   "metadata": {},
   "outputs": [
    {
     "data": {
      "text/plain": [
       "Index(['calitp_itp_id', 'stop_id', 'stop_lat', 'stop_lon', 'stop_name',\n",
       "       'route_type', 'geometry', 'hqta_type'],\n",
       "      dtype='object')"
      ]
     },
     "execution_count": 6,
     "metadata": {},
     "output_type": "execute_result"
    }
   ],
   "source": [
    "rail_ferry_brt_stops.columns"
   ]
  },
  {
   "cell_type": "code",
   "execution_count": 5,
   "id": "0e807584-dfb2-4385-b274-7276b0bc38d0",
   "metadata": {
    "tags": []
   },
   "outputs": [],
   "source": [
    "# geoparquet_gcs_export(bus_hqtc, 'bus_hqtc')"
   ]
  },
  {
   "cell_type": "code",
   "execution_count": 6,
   "id": "3b9a9f5e-6371-4367-978c-c0be0e6d979f",
   "metadata": {
    "tags": []
   },
   "outputs": [],
   "source": [
    "# geoparquet_gcs_export(rail_ferry_brt_stops, 'rail_ferry_brt_stops')"
   ]
  },
  {
   "cell_type": "markdown",
   "id": "c9163e6d-212d-4b33-acb3-38b0b88fe9cb",
   "metadata": {},
   "source": [
    "### High Quality Transit Areas Relevant Statutes\n",
    "\n",
    "[PRC 21155](https://leginfo.legislature.ca.gov/faces/codes_displaySection.xhtml?sectionNum=21155.&lawCode=PRC)\n",
    "* _(3) be within one-half mile of a major transit stop or high-quality transit corridor included in a regional transportation plan._\n",
    "* Major transit stop definition: _A major transit stop is as defined in Section 21064.3, except that, for purposes of this section, it also includes major transit stops that are included in the applicable regional transportation plan_\n",
    "* High-quality transit corridor definition: _For purposes of this section, a high-quality transit corridor means a corridor with fixed route bus service with service intervals no longer than 15 minutes during peak commute hours._\n",
    "    * Unable to locate definition of \"peak commute hours\"\n",
    "\n",
    "[PRC 21064.3](https://leginfo.legislature.ca.gov/faces/codes_displaySection.xhtml?sectionNum=21064.3.&lawCode=PRC)\n",
    "* _Major transit stop means a site containing any of the following:\n",
    "(a) An existing rail or bus rapid transit station.\n",
    "(b) A ferry terminal served by either a bus or rail transit service.\n",
    "(c) The intersection of two or more major bus routes with a frequency of service interval of 15 minutes or less during the morning and afternoon peak commute periods._\n",
    "    * \"Intersection\" may not be sufficiently well-defined for this analysis\n",
    "\n",
    "[PRC 21060.2](https://leginfo.legislature.ca.gov/faces/codes_displaySection.xhtml?lawCode=PRC&sectionNum=21060.2.&highlight=true&keyword=bus%20rapid%20transit)\n",
    "* _(a) “Bus rapid transit” means a public mass transit service provided by a public agency or by a public-private partnership that includes all of the following features:\n",
    "(1) Full-time dedicated bus lanes or operation in a separate right-of-way dedicated for public transportation with a frequency of service interval of 15 minutes or less during the morning and afternoon peak commute periods.\n",
    "(2) Transit signal priority.\n",
    "(3) All-door boarding.\n",
    "(4) Fare collection system that promotes efficiency.\n",
    "(5) Defined stations._\n",
    "    * Unlikely to determine if a service qualifies as BRT under this definition using GTFS alone"
   ]
  },
  {
   "cell_type": "markdown",
   "id": "abd74f0f-d4d6-4e12-9501-09df49e38ed2",
   "metadata": {},
   "source": [
    "## Bus Major Stops"
   ]
  },
  {
   "cell_type": "code",
   "execution_count": 7,
   "id": "441de95c-34c4-46bd-a95c-bfa0fd0338ea",
   "metadata": {},
   "outputs": [
    {
     "data": {
      "text/html": [
       "<div>\n",
       "<style scoped>\n",
       "    .dataframe tbody tr th:only-of-type {\n",
       "        vertical-align: middle;\n",
       "    }\n",
       "\n",
       "    .dataframe tbody tr th {\n",
       "        vertical-align: top;\n",
       "    }\n",
       "\n",
       "    .dataframe thead th {\n",
       "        text-align: right;\n",
       "    }\n",
       "</style>\n",
       "<table border=\"1\" class=\"dataframe\">\n",
       "  <thead>\n",
       "    <tr style=\"text-align: right;\">\n",
       "      <th></th>\n",
       "      <th>hq_transit_corr</th>\n",
       "      <th>shape_id</th>\n",
       "      <th>calitp_itp_id</th>\n",
       "      <th>geometry</th>\n",
       "      <th>calitp_url_number</th>\n",
       "      <th>hqta_segment_id</th>\n",
       "      <th>segment_sequence</th>\n",
       "      <th>stop_id</th>\n",
       "      <th>am_max_trips</th>\n",
       "      <th>pm_max_trips</th>\n",
       "      <th>departure_hour</th>\n",
       "      <th>n</th>\n",
       "      <th>hqta_type</th>\n",
       "      <th>route_type</th>\n",
       "    </tr>\n",
       "  </thead>\n",
       "  <tbody>\n",
       "    <tr>\n",
       "      <th>3109</th>\n",
       "      <td>True</td>\n",
       "      <td>0500</td>\n",
       "      <td>142</td>\n",
       "      <td>MULTIPOLYGON (((212373.973 -486798.157, 212402...</td>\n",
       "      <td>0</td>\n",
       "      <td>2197551287</td>\n",
       "      <td>0</td>\n",
       "      <td>3977</td>\n",
       "      <td>10.0</td>\n",
       "      <td>10.0</td>\n",
       "      <td>NaN</td>\n",
       "      <td>NaN</td>\n",
       "      <td>hq_transit_corr</td>\n",
       "      <td>3</td>\n",
       "    </tr>\n",
       "    <tr>\n",
       "      <th>3110</th>\n",
       "      <td>True</td>\n",
       "      <td>0500</td>\n",
       "      <td>235</td>\n",
       "      <td>MULTIPOLYGON (((212373.973 -486798.157, 212402...</td>\n",
       "      <td>1</td>\n",
       "      <td>3570856290</td>\n",
       "      <td>0</td>\n",
       "      <td>3977</td>\n",
       "      <td>10.0</td>\n",
       "      <td>10.0</td>\n",
       "      <td>NaN</td>\n",
       "      <td>NaN</td>\n",
       "      <td>hq_transit_corr</td>\n",
       "      <td>3</td>\n",
       "    </tr>\n",
       "    <tr>\n",
       "      <th>3112</th>\n",
       "      <td>True</td>\n",
       "      <td>0843</td>\n",
       "      <td>142</td>\n",
       "      <td>MULTIPOLYGON (((200824.762 -472153.347, 200815...</td>\n",
       "      <td>0</td>\n",
       "      <td>1555422069</td>\n",
       "      <td>0</td>\n",
       "      <td>6679</td>\n",
       "      <td>5.0</td>\n",
       "      <td>7.0</td>\n",
       "      <td>NaN</td>\n",
       "      <td>NaN</td>\n",
       "      <td>hq_transit_corr</td>\n",
       "      <td>3</td>\n",
       "    </tr>\n",
       "  </tbody>\n",
       "</table>\n",
       "</div>"
      ],
      "text/plain": [
       "      hq_transit_corr shape_id  calitp_itp_id  \\\n",
       "3109             True     0500            142   \n",
       "3110             True     0500            235   \n",
       "3112             True     0843            142   \n",
       "\n",
       "                                               geometry  calitp_url_number  \\\n",
       "3109  MULTIPOLYGON (((212373.973 -486798.157, 212402...                  0   \n",
       "3110  MULTIPOLYGON (((212373.973 -486798.157, 212402...                  1   \n",
       "3112  MULTIPOLYGON (((200824.762 -472153.347, 200815...                  0   \n",
       "\n",
       "      hqta_segment_id segment_sequence stop_id  am_max_trips  pm_max_trips  \\\n",
       "3109       2197551287                0    3977          10.0          10.0   \n",
       "3110       3570856290                0    3977          10.0          10.0   \n",
       "3112       1555422069                0    6679           5.0           7.0   \n",
       "\n",
       "      departure_hour   n        hqta_type route_type  \n",
       "3109             NaN NaN  hq_transit_corr          3  \n",
       "3110             NaN NaN  hq_transit_corr          3  \n",
       "3112             NaN NaN  hq_transit_corr          3  "
      ]
     },
     "execution_count": 7,
     "metadata": {},
     "output_type": "execute_result"
    }
   ],
   "source": [
    "bus_hqtc.head(3)"
   ]
  },
  {
   "cell_type": "code",
   "execution_count": 8,
   "id": "f104e680-a949-4e07-a4dd-19950207c66f",
   "metadata": {},
   "outputs": [],
   "source": [
    "gdf = bus_hqtc\n",
    "output = gpd.GeoDataFrame()\n",
    "\n",
    "def find_intersections(row):\n",
    "    global output\n",
    "    # display(row)\n",
    "    # display(row.shape_id)\n",
    "    this_row = gdf >> filter(_.shape_id == row.shape_id)\n",
    "    not_this_row = gdf >> filter(_.shape_id != row.shape_id)\n",
    "    # print(type(filtered))\n",
    "    clip_row = gpd.clip(this_row, not_this_row)\n",
    "    output = pd.concat((output, clip_row))\n",
    "    return"
   ]
  },
  {
   "cell_type": "code",
   "execution_count": 9,
   "id": "38b7e610-5538-46b9-90c8-02a8730bcfbe",
   "metadata": {},
   "outputs": [],
   "source": [
    "from tqdm import tqdm"
   ]
  },
  {
   "cell_type": "code",
   "execution_count": 10,
   "id": "1a2a5df4-3d5e-4b97-88d3-5608794e9d26",
   "metadata": {},
   "outputs": [],
   "source": [
    "tqdm.pandas()"
   ]
  },
  {
   "cell_type": "code",
   "execution_count": 11,
   "id": "96caf70f-e497-4df4-9b1a-20b54f7b7f83",
   "metadata": {},
   "outputs": [],
   "source": [
    "# # ran 6/23\n",
    "# _test = bus_hqtc.progress_apply(find_intersections, axis=1)"
   ]
  },
  {
   "cell_type": "code",
   "execution_count": 13,
   "id": "cdb9023e-8397-4eed-b829-0ab22ee26580",
   "metadata": {},
   "outputs": [],
   "source": [
    "output.geometry = output.geometry.buffer(50)"
   ]
  },
  {
   "cell_type": "code",
   "execution_count": 14,
   "id": "94a3e040-02c6-40b2-8c0e-2766a7b3168b",
   "metadata": {},
   "outputs": [
    {
     "name": "stderr",
     "output_type": "stream",
     "text": [
      "/home/jovyan/data-analyses/_shared_utils/shared_utils/utils.py:38: UserWarning: this is an initial implementation of Parquet/Feather file support and associated metadata.  This is tracking version 0.1.0 of the metadata specification at https://github.com/geopandas/geo-arrow-spec\n",
      "\n",
      "This metadata specification does not yet make stability promises.  We do not yet recommend using this in a production setting unless you are able to rewrite your Parquet/Feather files.\n",
      "\n",
      "To further ignore this warning, you can do: \n",
      "import warnings; warnings.filterwarnings('ignore', message='.*initial implementation of Parquet.*')\n"
     ]
    }
   ],
   "source": [
    "# shared_utils.utils.geoparquet_gcs_export(output, f'{GCS_FILE_PATH}', f'major_bus_stops_working')"
   ]
  },
  {
   "cell_type": "code",
   "execution_count": 12,
   "id": "c3f748fa-861d-4d7c-b005-480d6ecc30a2",
   "metadata": {},
   "outputs": [],
   "source": [
    "major_bus = gpd.read_parquet(f'{GCS_FILE_PATH}major_bus_stops_working.parquet')"
   ]
  },
  {
   "cell_type": "code",
   "execution_count": 13,
   "id": "63f23941-c0ca-495a-85d5-4eb47142de40",
   "metadata": {},
   "outputs": [],
   "source": [
    "# map_hqta(major_bus)"
   ]
  },
  {
   "cell_type": "code",
   "execution_count": 14,
   "id": "ca09eb4e-97b4-48b6-ba21-542ac35c8ceb",
   "metadata": {},
   "outputs": [],
   "source": [
    "def drop_big_areas(geometry):\n",
    "    if type(geometry) == shapely.geometry.multipolygon.MultiPolygon:\n",
    "        filtered = [x for x in list(geometry.geoms) if x.length < 1000]\n",
    "        if len(filtered) > 0:\n",
    "            return shapely.geometry.MultiPolygon(filtered)\n",
    "    elif type(geometry) == shapely.geometry.polygon.Polygon:\n",
    "        if geometry.length < 1000:\n",
    "            return geometry\n",
    "    else:\n",
    "        return np.nan"
   ]
  },
  {
   "cell_type": "code",
   "execution_count": 19,
   "id": "82e5d819-63dc-4ba3-a9f9-c314f5a4ca33",
   "metadata": {},
   "outputs": [],
   "source": [
    "major_bus['geometry'] = major_bus.geometry.apply(drop_big_areas)"
   ]
  },
  {
   "cell_type": "code",
   "execution_count": 89,
   "id": "4062ebe9-5a5e-4d81-83d8-45cf43d7ac86",
   "metadata": {},
   "outputs": [],
   "source": [
    "major_bus = major_bus.dropna(subset=['geometry'])"
   ]
  },
  {
   "cell_type": "code",
   "execution_count": 93,
   "id": "96a32d6d-0b11-4f40-9b64-3a3aa49503bf",
   "metadata": {},
   "outputs": [],
   "source": [
    "row_per_stop = major_bus.explode(ignore_index=True)"
   ]
  },
  {
   "cell_type": "code",
   "execution_count": 94,
   "id": "419015ab-e075-4737-9d62-c727c12f47b1",
   "metadata": {},
   "outputs": [],
   "source": [
    "row_per_stop = row_per_stop[['calitp_itp_id', 'stop_id', 'geometry']]\n",
    "\n",
    "row_per_stop['hqta_type'] = 'major_transit_stop'\n",
    "\n",
    "row_per_stop = row_per_stop.set_crs(\n",
    "    shared_utils.geography_utils.CA_NAD83Albers)"
   ]
  },
  {
   "cell_type": "code",
   "execution_count": 98,
   "id": "504c550b-a14f-4290-be6e-54b892b2e783",
   "metadata": {},
   "outputs": [
    {
     "name": "stderr",
     "output_type": "stream",
     "text": [
      "/home/jovyan/data-analyses/_shared_utils/shared_utils/utils.py:38: UserWarning: this is an initial implementation of Parquet/Feather file support and associated metadata.  This is tracking version 0.1.0 of the metadata specification at https://github.com/geopandas/geo-arrow-spec\n",
      "\n",
      "This metadata specification does not yet make stability promises.  We do not yet recommend using this in a production setting unless you are able to rewrite your Parquet/Feather files.\n",
      "\n",
      "To further ignore this warning, you can do: \n",
      "import warnings; warnings.filterwarnings('ignore', message='.*initial implementation of Parquet.*')\n"
     ]
    }
   ],
   "source": [
    "# shared_utils.utils.geoparquet_gcs_export(row_per_stop, f'{GCS_FILE_PATH}', f'major_bus_stops')"
   ]
  },
  {
   "cell_type": "code",
   "execution_count": 15,
   "id": "87dbcdc7-79f0-48e4-91d4-647cdb087cf5",
   "metadata": {},
   "outputs": [],
   "source": [
    "major_bus_stops = gpd.read_parquet(f'{GCS_FILE_PATH}major_bus_stops.parquet')"
   ]
  },
  {
   "cell_type": "code",
   "execution_count": 16,
   "id": "e3e8c306-a89f-438f-8f0e-5e165e257cb6",
   "metadata": {},
   "outputs": [
    {
     "data": {
      "text/html": [
       "<div>\n",
       "<style scoped>\n",
       "    .dataframe tbody tr th:only-of-type {\n",
       "        vertical-align: middle;\n",
       "    }\n",
       "\n",
       "    .dataframe tbody tr th {\n",
       "        vertical-align: top;\n",
       "    }\n",
       "\n",
       "    .dataframe thead th {\n",
       "        text-align: right;\n",
       "    }\n",
       "</style>\n",
       "<table border=\"1\" class=\"dataframe\">\n",
       "  <thead>\n",
       "    <tr style=\"text-align: right;\">\n",
       "      <th></th>\n",
       "      <th>calitp_itp_id</th>\n",
       "      <th>stop_id</th>\n",
       "      <th>geometry</th>\n",
       "      <th>hqta_type</th>\n",
       "    </tr>\n",
       "  </thead>\n",
       "  <tbody>\n",
       "    <tr>\n",
       "      <th>0</th>\n",
       "      <td>142</td>\n",
       "      <td>3977</td>\n",
       "      <td>POLYGON ((212877.188 -487301.779, 212872.742 -...</td>\n",
       "      <td>major_transit_stop</td>\n",
       "    </tr>\n",
       "    <tr>\n",
       "      <th>1</th>\n",
       "      <td>142</td>\n",
       "      <td>3977</td>\n",
       "      <td>POLYGON ((212369.750 -486959.092, 212367.490 -...</td>\n",
       "      <td>major_transit_stop</td>\n",
       "    </tr>\n",
       "    <tr>\n",
       "      <th>2</th>\n",
       "      <td>142</td>\n",
       "      <td>3977</td>\n",
       "      <td>POLYGON ((198813.879 -471103.355, 198814.417 -...</td>\n",
       "      <td>major_transit_stop</td>\n",
       "    </tr>\n",
       "  </tbody>\n",
       "</table>\n",
       "</div>"
      ],
      "text/plain": [
       "   calitp_itp_id stop_id                                           geometry  \\\n",
       "0            142    3977  POLYGON ((212877.188 -487301.779, 212872.742 -...   \n",
       "1            142    3977  POLYGON ((212369.750 -486959.092, 212367.490 -...   \n",
       "2            142    3977  POLYGON ((198813.879 -471103.355, 198814.417 -...   \n",
       "\n",
       "            hqta_type  \n",
       "0  major_transit_stop  \n",
       "1  major_transit_stop  \n",
       "2  major_transit_stop  "
      ]
     },
     "execution_count": 16,
     "metadata": {},
     "output_type": "execute_result"
    }
   ],
   "source": [
    "major_bus_stops.head(3)"
   ]
  },
  {
   "cell_type": "code",
   "execution_count": 17,
   "id": "ed6860f2-fccc-400f-9946-1459b2a82366",
   "metadata": {},
   "outputs": [],
   "source": [
    "# map_hqta(major_bus_stops)"
   ]
  },
  {
   "cell_type": "markdown",
   "id": "82c8d804-e2b5-4052-be5e-d422f527032e",
   "metadata": {},
   "source": [
    "### Refine Major Stops"
   ]
  },
  {
   "cell_type": "code",
   "execution_count": 19,
   "id": "24daf28c-943a-4a9f-871c-e11b5d761595",
   "metadata": {},
   "outputs": [],
   "source": [
    "tbl_stops = (tbl.views.gtfs_schedule_fact_daily_feed_stops()\n",
    " >> filter(_.date == analysis_date)\n",
    " >> filter(_.calitp_extracted_at < analysis_date)\n",
    " >> filter(_.calitp_deleted_at > analysis_date)\n",
    " >> select(_.stop_key)\n",
    " >> inner_join(_, tbl.views.gtfs_schedule_dim_stops(), on = 'stop_key')\n",
    " >> select(_.stop_id, _.stop_lat, _.stop_lon, _.calitp_itp_id)\n",
    " >> filter(_.calitp_itp_id != 200)\n",
    " >> collect()\n",
    ")"
   ]
  },
  {
   "cell_type": "code",
   "execution_count": 20,
   "id": "cddf70f5-cca1-4896-9f52-1ea5004278e5",
   "metadata": {},
   "outputs": [],
   "source": [
    "tbl_stops = gpd.GeoDataFrame(tbl_stops,\n",
    "                 geometry = gpd.points_from_xy(tbl_stops.stop_lon, tbl_stops.stop_lat),\n",
    "                 crs = 'EPSG:4326').to_crs(shared_utils.geography_utils.CA_NAD83Albers)"
   ]
  },
  {
   "cell_type": "code",
   "execution_count": 21,
   "id": "27ec75fc-e017-4f98-96f8-94d8d6ca479e",
   "metadata": {},
   "outputs": [
    {
     "data": {
      "text/html": [
       "<div>\n",
       "<style scoped>\n",
       "    .dataframe tbody tr th:only-of-type {\n",
       "        vertical-align: middle;\n",
       "    }\n",
       "\n",
       "    .dataframe tbody tr th {\n",
       "        vertical-align: top;\n",
       "    }\n",
       "\n",
       "    .dataframe thead th {\n",
       "        text-align: right;\n",
       "    }\n",
       "</style>\n",
       "<table border=\"1\" class=\"dataframe\">\n",
       "  <thead>\n",
       "    <tr style=\"text-align: right;\">\n",
       "      <th></th>\n",
       "      <th>stop_id</th>\n",
       "      <th>stop_lat</th>\n",
       "      <th>stop_lon</th>\n",
       "      <th>calitp_itp_id</th>\n",
       "      <th>geometry</th>\n",
       "    </tr>\n",
       "  </thead>\n",
       "  <tbody>\n",
       "    <tr>\n",
       "      <th>0</th>\n",
       "      <td>102</td>\n",
       "      <td>33.816115</td>\n",
       "      <td>-118.386803</td>\n",
       "      <td>260</td>\n",
       "      <td>POINT (149374.677 -465290.968)</td>\n",
       "    </tr>\n",
       "    <tr>\n",
       "      <th>1</th>\n",
       "      <td>103</td>\n",
       "      <td>33.819139</td>\n",
       "      <td>-118.388194</td>\n",
       "      <td>260</td>\n",
       "      <td>POINT (149240.188 -464957.847)</td>\n",
       "    </tr>\n",
       "    <tr>\n",
       "      <th>2</th>\n",
       "      <td>2619811</td>\n",
       "      <td>34.093286</td>\n",
       "      <td>-118.125155</td>\n",
       "      <td>6</td>\n",
       "      <td>POINT (172991.223 -434108.437)</td>\n",
       "    </tr>\n",
       "  </tbody>\n",
       "</table>\n",
       "</div>"
      ],
      "text/plain": [
       "   stop_id   stop_lat    stop_lon  calitp_itp_id  \\\n",
       "0      102  33.816115 -118.386803            260   \n",
       "1      103  33.819139 -118.388194            260   \n",
       "2  2619811  34.093286 -118.125155              6   \n",
       "\n",
       "                         geometry  \n",
       "0  POINT (149374.677 -465290.968)  \n",
       "1  POINT (149240.188 -464957.847)  \n",
       "2  POINT (172991.223 -434108.437)  "
      ]
     },
     "execution_count": 21,
     "metadata": {},
     "output_type": "execute_result"
    }
   ],
   "source": [
    "tbl_stops.head(3)"
   ]
  },
  {
   "cell_type": "code",
   "execution_count": 22,
   "id": "d5a65203-2245-4ea4-94d3-71685a00c929",
   "metadata": {},
   "outputs": [],
   "source": [
    "to_join = major_bus_stops[['calitp_itp_id']].astype({'calitp_itp_id': 'int64'})"
   ]
  },
  {
   "cell_type": "code",
   "execution_count": 23,
   "id": "19f9b7dd-1b2b-4c7a-9ba9-3e1e1e9b46be",
   "metadata": {
    "tags": []
   },
   "outputs": [],
   "source": [
    "## all stops for an operator with at least 1 major stop\n",
    "tbl_stops_major = (tbl_stops\n",
    "         >> inner_join(_, to_join, on=['calitp_itp_id'])\n",
    "         >> distinct(_.calitp_itp_id, _.stop_id, _keep_all=True)\n",
    "            )\n"
   ]
  },
  {
   "cell_type": "code",
   "execution_count": 24,
   "id": "43cb629d-f5c3-43b2-9c7d-be8c50a13441",
   "metadata": {},
   "outputs": [
    {
     "data": {
      "text/plain": [
       "(85318, 5)"
      ]
     },
     "execution_count": 24,
     "metadata": {},
     "output_type": "execute_result"
    }
   ],
   "source": [
    "tbl_stops_major.shape"
   ]
  },
  {
   "cell_type": "code",
   "execution_count": 25,
   "id": "2c6bb5bc-0206-48b5-ae90-588b7f2e84df",
   "metadata": {},
   "outputs": [
    {
     "data": {
      "text/plain": [
       "(2676, 4)"
      ]
     },
     "execution_count": 25,
     "metadata": {},
     "output_type": "execute_result"
    }
   ],
   "source": [
    "major_bus_stops.shape"
   ]
  },
  {
   "cell_type": "code",
   "execution_count": 26,
   "id": "1ac15d0a-1aeb-48c4-9acf-92b7642b6fcd",
   "metadata": {},
   "outputs": [],
   "source": [
    "drop_id = major_bus_stops.drop(columns=['stop_id'])"
   ]
  },
  {
   "cell_type": "code",
   "execution_count": 27,
   "id": "e1d0d729-4931-4020-bfd6-4c15818caff0",
   "metadata": {
    "tags": []
   },
   "outputs": [],
   "source": [
    "spatial_stops_major = tbl_stops_major.sjoin(drop_id, how='inner', predicate='within')"
   ]
  },
  {
   "cell_type": "code",
   "execution_count": 28,
   "id": "b593d95a-308f-4635-9ce5-f24bbdd164e6",
   "metadata": {},
   "outputs": [],
   "source": [
    "new_major_stops = spatial_stops_major.drop_duplicates(subset=['stop_id', 'calitp_itp_id_left', 'calitp_itp_id_right'])"
   ]
  },
  {
   "cell_type": "code",
   "execution_count": 29,
   "id": "46241013-0529-40c7-a8d9-3002637a4240",
   "metadata": {},
   "outputs": [
    {
     "name": "stderr",
     "output_type": "stream",
     "text": [
      "/opt/conda/lib/python3.10/site-packages/geopandas/geodataframe.py:1351: SettingWithCopyWarning: \n",
      "A value is trying to be set on a copy of a slice from a DataFrame.\n",
      "Try using .loc[row_indexer,col_indexer] = value instead\n",
      "\n",
      "See the caveats in the documentation: https://pandas.pydata.org/pandas-docs/stable/user_guide/indexing.html#returning-a-view-versus-a-copy\n"
     ]
    }
   ],
   "source": [
    "new_major_stops.geometry = new_major_stops.centroid"
   ]
  },
  {
   "cell_type": "code",
   "execution_count": 31,
   "id": "6076e0af-21a0-4129-b407-0c3a6352c087",
   "metadata": {},
   "outputs": [
    {
     "name": "stdout",
     "output_type": "stream",
     "text": [
      "<class 'geopandas.geodataframe.GeoDataFrame'>\n",
      "Int64Index: 5961 entries, 83 to 85065\n",
      "Data columns (total 8 columns):\n",
      " #   Column               Non-Null Count  Dtype   \n",
      "---  ------               --------------  -----   \n",
      " 0   stop_id              5961 non-null   object  \n",
      " 1   stop_lat             5961 non-null   float64 \n",
      " 2   stop_lon             5961 non-null   float64 \n",
      " 3   calitp_itp_id_left   5961 non-null   int64   \n",
      " 4   geometry             5961 non-null   geometry\n",
      " 5   index_right          5961 non-null   int64   \n",
      " 6   calitp_itp_id_right  5961 non-null   int64   \n",
      " 7   hqta_type            5961 non-null   object  \n",
      "dtypes: float64(2), geometry(1), int64(3), object(2)\n",
      "memory usage: 419.1+ KB\n"
     ]
    }
   ],
   "source": [
    "new_major_stops.info()"
   ]
  },
  {
   "cell_type": "code",
   "execution_count": 32,
   "id": "ed5c5734-7ede-4211-a61b-f22eec81686a",
   "metadata": {},
   "outputs": [],
   "source": [
    "# map_hqta(new_major_stops)"
   ]
  },
  {
   "cell_type": "markdown",
   "id": "99a33ab8-c664-4671-89ef-54cdff7462f2",
   "metadata": {},
   "source": [
    "### Bus Corridors to Stops Along Corridor"
   ]
  },
  {
   "cell_type": "code",
   "execution_count": 33,
   "id": "6943606a-d815-49c6-aa43-a7ab27285939",
   "metadata": {},
   "outputs": [],
   "source": [
    "tbl_stops_corridors = tbl_stops"
   ]
  },
  {
   "cell_type": "code",
   "execution_count": 34,
   "id": "bf2f1177-b087-416c-8ae4-3f3f3569da55",
   "metadata": {},
   "outputs": [
    {
     "data": {
      "text/html": [
       "<div>\n",
       "<style scoped>\n",
       "    .dataframe tbody tr th:only-of-type {\n",
       "        vertical-align: middle;\n",
       "    }\n",
       "\n",
       "    .dataframe tbody tr th {\n",
       "        vertical-align: top;\n",
       "    }\n",
       "\n",
       "    .dataframe thead th {\n",
       "        text-align: right;\n",
       "    }\n",
       "</style>\n",
       "<table border=\"1\" class=\"dataframe\">\n",
       "  <thead>\n",
       "    <tr style=\"text-align: right;\">\n",
       "      <th></th>\n",
       "      <th>stop_id</th>\n",
       "      <th>stop_lat</th>\n",
       "      <th>stop_lon</th>\n",
       "      <th>calitp_itp_id</th>\n",
       "      <th>geometry</th>\n",
       "    </tr>\n",
       "  </thead>\n",
       "  <tbody>\n",
       "    <tr>\n",
       "      <th>0</th>\n",
       "      <td>102</td>\n",
       "      <td>33.816115</td>\n",
       "      <td>-118.386803</td>\n",
       "      <td>260</td>\n",
       "      <td>POINT (149374.677 -465290.968)</td>\n",
       "    </tr>\n",
       "    <tr>\n",
       "      <th>1</th>\n",
       "      <td>103</td>\n",
       "      <td>33.819139</td>\n",
       "      <td>-118.388194</td>\n",
       "      <td>260</td>\n",
       "      <td>POINT (149240.188 -464957.847)</td>\n",
       "    </tr>\n",
       "    <tr>\n",
       "      <th>2</th>\n",
       "      <td>2619811</td>\n",
       "      <td>34.093286</td>\n",
       "      <td>-118.125155</td>\n",
       "      <td>6</td>\n",
       "      <td>POINT (172991.223 -434108.437)</td>\n",
       "    </tr>\n",
       "  </tbody>\n",
       "</table>\n",
       "</div>"
      ],
      "text/plain": [
       "   stop_id   stop_lat    stop_lon  calitp_itp_id  \\\n",
       "0      102  33.816115 -118.386803            260   \n",
       "1      103  33.819139 -118.388194            260   \n",
       "2  2619811  34.093286 -118.125155              6   \n",
       "\n",
       "                         geometry  \n",
       "0  POINT (149374.677 -465290.968)  \n",
       "1  POINT (149240.188 -464957.847)  \n",
       "2  POINT (172991.223 -434108.437)  "
      ]
     },
     "execution_count": 34,
     "metadata": {},
     "output_type": "execute_result"
    }
   ],
   "source": [
    "tbl_stops_corridors.head(3)"
   ]
  },
  {
   "cell_type": "code",
   "execution_count": 35,
   "id": "eda55a78-d4c5-47cc-8012-ac2d1fa4a92f",
   "metadata": {},
   "outputs": [
    {
     "data": {
      "text/html": [
       "<div>\n",
       "<style scoped>\n",
       "    .dataframe tbody tr th:only-of-type {\n",
       "        vertical-align: middle;\n",
       "    }\n",
       "\n",
       "    .dataframe tbody tr th {\n",
       "        vertical-align: top;\n",
       "    }\n",
       "\n",
       "    .dataframe thead th {\n",
       "        text-align: right;\n",
       "    }\n",
       "</style>\n",
       "<table border=\"1\" class=\"dataframe\">\n",
       "  <thead>\n",
       "    <tr style=\"text-align: right;\">\n",
       "      <th></th>\n",
       "      <th>hq_transit_corr</th>\n",
       "      <th>shape_id</th>\n",
       "      <th>calitp_itp_id</th>\n",
       "      <th>geometry</th>\n",
       "      <th>calitp_url_number</th>\n",
       "      <th>hqta_segment_id</th>\n",
       "      <th>segment_sequence</th>\n",
       "      <th>stop_id</th>\n",
       "      <th>am_max_trips</th>\n",
       "      <th>pm_max_trips</th>\n",
       "      <th>departure_hour</th>\n",
       "      <th>n</th>\n",
       "      <th>hqta_type</th>\n",
       "      <th>route_type</th>\n",
       "    </tr>\n",
       "  </thead>\n",
       "  <tbody>\n",
       "    <tr>\n",
       "      <th>3109</th>\n",
       "      <td>True</td>\n",
       "      <td>0500</td>\n",
       "      <td>142</td>\n",
       "      <td>MULTIPOLYGON (((212373.973 -486798.157, 212402...</td>\n",
       "      <td>0</td>\n",
       "      <td>2197551287</td>\n",
       "      <td>0</td>\n",
       "      <td>3977</td>\n",
       "      <td>10.0</td>\n",
       "      <td>10.0</td>\n",
       "      <td>NaN</td>\n",
       "      <td>NaN</td>\n",
       "      <td>hq_transit_corr</td>\n",
       "      <td>3</td>\n",
       "    </tr>\n",
       "    <tr>\n",
       "      <th>3110</th>\n",
       "      <td>True</td>\n",
       "      <td>0500</td>\n",
       "      <td>235</td>\n",
       "      <td>MULTIPOLYGON (((212373.973 -486798.157, 212402...</td>\n",
       "      <td>1</td>\n",
       "      <td>3570856290</td>\n",
       "      <td>0</td>\n",
       "      <td>3977</td>\n",
       "      <td>10.0</td>\n",
       "      <td>10.0</td>\n",
       "      <td>NaN</td>\n",
       "      <td>NaN</td>\n",
       "      <td>hq_transit_corr</td>\n",
       "      <td>3</td>\n",
       "    </tr>\n",
       "    <tr>\n",
       "      <th>3112</th>\n",
       "      <td>True</td>\n",
       "      <td>0843</td>\n",
       "      <td>142</td>\n",
       "      <td>MULTIPOLYGON (((200824.762 -472153.347, 200815...</td>\n",
       "      <td>0</td>\n",
       "      <td>1555422069</td>\n",
       "      <td>0</td>\n",
       "      <td>6679</td>\n",
       "      <td>5.0</td>\n",
       "      <td>7.0</td>\n",
       "      <td>NaN</td>\n",
       "      <td>NaN</td>\n",
       "      <td>hq_transit_corr</td>\n",
       "      <td>3</td>\n",
       "    </tr>\n",
       "  </tbody>\n",
       "</table>\n",
       "</div>"
      ],
      "text/plain": [
       "      hq_transit_corr shape_id  calitp_itp_id  \\\n",
       "3109             True     0500            142   \n",
       "3110             True     0500            235   \n",
       "3112             True     0843            142   \n",
       "\n",
       "                                               geometry  calitp_url_number  \\\n",
       "3109  MULTIPOLYGON (((212373.973 -486798.157, 212402...                  0   \n",
       "3110  MULTIPOLYGON (((212373.973 -486798.157, 212402...                  1   \n",
       "3112  MULTIPOLYGON (((200824.762 -472153.347, 200815...                  0   \n",
       "\n",
       "      hqta_segment_id segment_sequence stop_id  am_max_trips  pm_max_trips  \\\n",
       "3109       2197551287                0    3977          10.0          10.0   \n",
       "3110       3570856290                0    3977          10.0          10.0   \n",
       "3112       1555422069                0    6679           5.0           7.0   \n",
       "\n",
       "      departure_hour   n        hqta_type route_type  \n",
       "3109             NaN NaN  hq_transit_corr          3  \n",
       "3110             NaN NaN  hq_transit_corr          3  \n",
       "3112             NaN NaN  hq_transit_corr          3  "
      ]
     },
     "execution_count": 35,
     "metadata": {},
     "output_type": "execute_result"
    }
   ],
   "source": [
    "bus_hqtc.head(3)"
   ]
  },
  {
   "cell_type": "code",
   "execution_count": 36,
   "id": "c161a6c5-bd29-4f0e-aaa2-f83731af42d4",
   "metadata": {},
   "outputs": [],
   "source": [
    "stops_in_corridor = tbl_stops_corridors.clip(bus_hqtc)"
   ]
  },
  {
   "cell_type": "code",
   "execution_count": 37,
   "id": "82657639-7ad8-43e2-9050-7b49b0da0799",
   "metadata": {},
   "outputs": [
    {
     "name": "stdout",
     "output_type": "stream",
     "text": [
      "<class 'geopandas.geodataframe.GeoDataFrame'>\n",
      "Int64Index: 33337 entries, 4709 to 30021\n",
      "Data columns (total 5 columns):\n",
      " #   Column         Non-Null Count  Dtype   \n",
      "---  ------         --------------  -----   \n",
      " 0   stop_id        33337 non-null  object  \n",
      " 1   stop_lat       33337 non-null  float64 \n",
      " 2   stop_lon       33337 non-null  float64 \n",
      " 3   calitp_itp_id  33337 non-null  int64   \n",
      " 4   geometry       33337 non-null  geometry\n",
      "dtypes: float64(2), geometry(1), int64(1), object(1)\n",
      "memory usage: 1.5+ MB\n"
     ]
    }
   ],
   "source": [
    "stops_in_corridor.drop_duplicates(subset = ['stop_id', 'calitp_itp_id']).info()"
   ]
  },
  {
   "cell_type": "code",
   "execution_count": 38,
   "id": "7fbca026-79dc-4249-a6fb-9ee436a422cc",
   "metadata": {},
   "outputs": [],
   "source": [
    "# map_hqta(bus_hqtc)"
   ]
  },
  {
   "cell_type": "code",
   "execution_count": 39,
   "id": "f8e3a8fa-0d77-4d36-bfb2-4a656d93ed02",
   "metadata": {},
   "outputs": [],
   "source": [
    "# stop_subset = stops_in_corridor >> head(2000)"
   ]
  },
  {
   "cell_type": "code",
   "execution_count": 40,
   "id": "d10d08e6-2166-4d74-9b21-40181da5f19e",
   "metadata": {},
   "outputs": [],
   "source": [
    "# map_hqta(stop_subset)"
   ]
  },
  {
   "cell_type": "markdown",
   "id": "f1ac0f78-6b99-4079-8c26-ca875367f6a8",
   "metadata": {},
   "source": [
    "#### Definitions and Output:\n",
    "\n",
    "* hqta_type: major_transit_stop\n",
    "* stop_id: one stop id... (not ideal, but oh well)\n",
    "* geometry: .buffer(700)?\n",
    "* _can alway pull more info spatially_"
   ]
  },
  {
   "cell_type": "markdown",
   "id": "03d81f0e-da43-4116-ae9b-b094b1466f2b",
   "metadata": {},
   "source": [
    "## Unbuffered Export"
   ]
  },
  {
   "cell_type": "markdown",
   "id": "403c2790-2f47-4b3f-9740-443020721a0b",
   "metadata": {},
   "source": [
    "Thank you for this data. It would be useful for us to get the HQTC stops as a point data file, not a polygon. Also, if you could differentiate between train, bus, BRT, and ferry stop that would be immensely helpful.\n",
    "\n",
    "Let me know if it is possible to get the data in this format.  "
   ]
  },
  {
   "cell_type": "markdown",
   "id": "baa2a7f4-5212-4911-9e6e-1e9bfc2f1d59",
   "metadata": {},
   "source": [
    "#### Major Transit Stops (bus intersections)"
   ]
  },
  {
   "cell_type": "code",
   "execution_count": 41,
   "id": "a4188f4e-5b5f-44d6-b3be-e8ed70fd8e64",
   "metadata": {},
   "outputs": [
    {
     "data": {
      "text/html": [
       "<div>\n",
       "<style scoped>\n",
       "    .dataframe tbody tr th:only-of-type {\n",
       "        vertical-align: middle;\n",
       "    }\n",
       "\n",
       "    .dataframe tbody tr th {\n",
       "        vertical-align: top;\n",
       "    }\n",
       "\n",
       "    .dataframe thead th {\n",
       "        text-align: right;\n",
       "    }\n",
       "</style>\n",
       "<table border=\"1\" class=\"dataframe\">\n",
       "  <thead>\n",
       "    <tr style=\"text-align: right;\">\n",
       "      <th></th>\n",
       "      <th>stop_id</th>\n",
       "      <th>stop_lat</th>\n",
       "      <th>stop_lon</th>\n",
       "      <th>calitp_itp_id_left</th>\n",
       "      <th>geometry</th>\n",
       "      <th>index_right</th>\n",
       "      <th>calitp_itp_id_right</th>\n",
       "      <th>hqta_type</th>\n",
       "    </tr>\n",
       "  </thead>\n",
       "  <tbody>\n",
       "    <tr>\n",
       "      <th>83</th>\n",
       "      <td>201</td>\n",
       "      <td>33.949130</td>\n",
       "      <td>-118.391820</td>\n",
       "      <td>260</td>\n",
       "      <td>POINT (148659.946 -450548.591)</td>\n",
       "      <td>2628</td>\n",
       "      <td>87</td>\n",
       "      <td>major_transit_stop</td>\n",
       "    </tr>\n",
       "    <tr>\n",
       "      <th>22774</th>\n",
       "      <td>1635</td>\n",
       "      <td>33.949739</td>\n",
       "      <td>-118.392222</td>\n",
       "      <td>300</td>\n",
       "      <td>POINT (148621.643 -450481.683)</td>\n",
       "      <td>2628</td>\n",
       "      <td>87</td>\n",
       "      <td>major_transit_stop</td>\n",
       "    </tr>\n",
       "    <tr>\n",
       "      <th>22786</th>\n",
       "      <td>1636</td>\n",
       "      <td>33.949750</td>\n",
       "      <td>-118.392541</td>\n",
       "      <td>300</td>\n",
       "      <td>POINT (148592.137 -450480.964)</td>\n",
       "      <td>2628</td>\n",
       "      <td>87</td>\n",
       "      <td>major_transit_stop</td>\n",
       "    </tr>\n",
       "  </tbody>\n",
       "</table>\n",
       "</div>"
      ],
      "text/plain": [
       "      stop_id   stop_lat    stop_lon  calitp_itp_id_left  \\\n",
       "83        201  33.949130 -118.391820                 260   \n",
       "22774    1635  33.949739 -118.392222                 300   \n",
       "22786    1636  33.949750 -118.392541                 300   \n",
       "\n",
       "                             geometry  index_right  calitp_itp_id_right  \\\n",
       "83     POINT (148659.946 -450548.591)         2628                   87   \n",
       "22774  POINT (148621.643 -450481.683)         2628                   87   \n",
       "22786  POINT (148592.137 -450480.964)         2628                   87   \n",
       "\n",
       "                hqta_type  \n",
       "83     major_transit_stop  \n",
       "22774  major_transit_stop  \n",
       "22786  major_transit_stop  "
      ]
     },
     "execution_count": 41,
     "metadata": {},
     "output_type": "execute_result"
    }
   ],
   "source": [
    "new_major_stops.head(3)"
   ]
  },
  {
   "cell_type": "code",
   "execution_count": 42,
   "id": "c5a8d5cb-fd72-4dbf-85bb-a76996d567eb",
   "metadata": {},
   "outputs": [
    {
     "data": {
      "text/html": [
       "<div>\n",
       "<style scoped>\n",
       "    .dataframe tbody tr th:only-of-type {\n",
       "        vertical-align: middle;\n",
       "    }\n",
       "\n",
       "    .dataframe tbody tr th {\n",
       "        vertical-align: top;\n",
       "    }\n",
       "\n",
       "    .dataframe thead th {\n",
       "        text-align: right;\n",
       "    }\n",
       "</style>\n",
       "<table border=\"1\" class=\"dataframe\">\n",
       "  <thead>\n",
       "    <tr style=\"text-align: right;\">\n",
       "      <th></th>\n",
       "      <th>calitp_itp_id_primary</th>\n",
       "      <th>stop_id</th>\n",
       "      <th>calitp_itp_id_secondary</th>\n",
       "      <th>hqta_type</th>\n",
       "      <th>geometry</th>\n",
       "    </tr>\n",
       "  </thead>\n",
       "  <tbody>\n",
       "    <tr>\n",
       "      <th>83</th>\n",
       "      <td>260</td>\n",
       "      <td>201</td>\n",
       "      <td>87</td>\n",
       "      <td>major_stop_bus</td>\n",
       "      <td>POINT (148659.946 -450548.591)</td>\n",
       "    </tr>\n",
       "    <tr>\n",
       "      <th>22774</th>\n",
       "      <td>300</td>\n",
       "      <td>1635</td>\n",
       "      <td>87</td>\n",
       "      <td>major_stop_bus</td>\n",
       "      <td>POINT (148621.643 -450481.683)</td>\n",
       "    </tr>\n",
       "    <tr>\n",
       "      <th>22786</th>\n",
       "      <td>300</td>\n",
       "      <td>1636</td>\n",
       "      <td>87</td>\n",
       "      <td>major_stop_bus</td>\n",
       "      <td>POINT (148592.137 -450480.964)</td>\n",
       "    </tr>\n",
       "  </tbody>\n",
       "</table>\n",
       "</div>"
      ],
      "text/plain": [
       "       calitp_itp_id_primary stop_id  calitp_itp_id_secondary       hqta_type  \\\n",
       "83                       260     201                       87  major_stop_bus   \n",
       "22774                    300    1635                       87  major_stop_bus   \n",
       "22786                    300    1636                       87  major_stop_bus   \n",
       "\n",
       "                             geometry  \n",
       "83     POINT (148659.946 -450548.591)  \n",
       "22774  POINT (148621.643 -450481.683)  \n",
       "22786  POINT (148592.137 -450480.964)  "
      ]
     },
     "execution_count": 42,
     "metadata": {},
     "output_type": "execute_result"
    }
   ],
   "source": [
    "new_major_bus_extract = new_major_stops >> select(_.calitp_itp_id_primary == _.calitp_itp_id_left, _.stop_id,\n",
    "                          _.calitp_itp_id_secondary == _.calitp_itp_id_right, _.hqta_type, _.geometry\n",
    "                         )\n",
    "new_major_bus_extract['hqta_type'] = 'major_stop_bus'\n",
    "new_major_bus_extract.head(3)"
   ]
  },
  {
   "cell_type": "markdown",
   "id": "e9a0e81f-b16b-4fab-82e6-f7eb84999ee9",
   "metadata": {},
   "source": [
    "#### Stops Along HQ Transit Corridors (bus)"
   ]
  },
  {
   "cell_type": "code",
   "execution_count": 43,
   "id": "644055ed-ab86-4e07-80fb-0c17a457b8f4",
   "metadata": {},
   "outputs": [
    {
     "data": {
      "text/html": [
       "<div>\n",
       "<style scoped>\n",
       "    .dataframe tbody tr th:only-of-type {\n",
       "        vertical-align: middle;\n",
       "    }\n",
       "\n",
       "    .dataframe tbody tr th {\n",
       "        vertical-align: top;\n",
       "    }\n",
       "\n",
       "    .dataframe thead th {\n",
       "        text-align: right;\n",
       "    }\n",
       "</style>\n",
       "<table border=\"1\" class=\"dataframe\">\n",
       "  <thead>\n",
       "    <tr style=\"text-align: right;\">\n",
       "      <th></th>\n",
       "      <th>stop_id</th>\n",
       "      <th>stop_lat</th>\n",
       "      <th>stop_lon</th>\n",
       "      <th>calitp_itp_id</th>\n",
       "      <th>geometry</th>\n",
       "    </tr>\n",
       "  </thead>\n",
       "  <tbody>\n",
       "    <tr>\n",
       "      <th>4709</th>\n",
       "      <td>SAVBAR:1</td>\n",
       "      <td>34.160575</td>\n",
       "      <td>-119.177800</td>\n",
       "      <td>123</td>\n",
       "      <td>POINT (75803.355 -428025.323)</td>\n",
       "    </tr>\n",
       "    <tr>\n",
       "      <th>7534</th>\n",
       "      <td>3289697</td>\n",
       "      <td>34.160688</td>\n",
       "      <td>-119.177864</td>\n",
       "      <td>231</td>\n",
       "      <td>POINT (75797.334 -428012.869)</td>\n",
       "    </tr>\n",
       "    <tr>\n",
       "      <th>94904</th>\n",
       "      <td>3299402</td>\n",
       "      <td>34.160930</td>\n",
       "      <td>-119.177100</td>\n",
       "      <td>231</td>\n",
       "      <td>POINT (75867.537 -427985.411)</td>\n",
       "    </tr>\n",
       "  </tbody>\n",
       "</table>\n",
       "</div>"
      ],
      "text/plain": [
       "        stop_id   stop_lat    stop_lon  calitp_itp_id  \\\n",
       "4709   SAVBAR:1  34.160575 -119.177800            123   \n",
       "7534    3289697  34.160688 -119.177864            231   \n",
       "94904   3299402  34.160930 -119.177100            231   \n",
       "\n",
       "                            geometry  \n",
       "4709   POINT (75803.355 -428025.323)  \n",
       "7534   POINT (75797.334 -428012.869)  \n",
       "94904  POINT (75867.537 -427985.411)  "
      ]
     },
     "execution_count": 43,
     "metadata": {},
     "output_type": "execute_result"
    }
   ],
   "source": [
    "stops_in_corridor.head(3)"
   ]
  },
  {
   "cell_type": "code",
   "execution_count": 44,
   "id": "e3fe89fe-f38c-4209-80da-b1a7ec950933",
   "metadata": {},
   "outputs": [],
   "source": [
    "stops_extract = stops_in_corridor >> select(_.calitp_itp_id_primary == _.calitp_itp_id,\n",
    "                                            _.stop_id, _.geometry)"
   ]
  },
  {
   "cell_type": "code",
   "execution_count": 45,
   "id": "62591143-ce91-408a-86a7-67d993a64205",
   "metadata": {},
   "outputs": [],
   "source": [
    "stops_extract['hqta_type'] = 'hq_corridor_bus'"
   ]
  },
  {
   "cell_type": "code",
   "execution_count": 46,
   "id": "283ddc23-5a5f-4606-ab30-72341ee890cb",
   "metadata": {},
   "outputs": [
    {
     "data": {
      "text/html": [
       "<div>\n",
       "<style scoped>\n",
       "    .dataframe tbody tr th:only-of-type {\n",
       "        vertical-align: middle;\n",
       "    }\n",
       "\n",
       "    .dataframe tbody tr th {\n",
       "        vertical-align: top;\n",
       "    }\n",
       "\n",
       "    .dataframe thead th {\n",
       "        text-align: right;\n",
       "    }\n",
       "</style>\n",
       "<table border=\"1\" class=\"dataframe\">\n",
       "  <thead>\n",
       "    <tr style=\"text-align: right;\">\n",
       "      <th></th>\n",
       "      <th>calitp_itp_id_primary</th>\n",
       "      <th>stop_id</th>\n",
       "      <th>geometry</th>\n",
       "      <th>hqta_type</th>\n",
       "    </tr>\n",
       "  </thead>\n",
       "  <tbody>\n",
       "    <tr>\n",
       "      <th>4709</th>\n",
       "      <td>123</td>\n",
       "      <td>SAVBAR:1</td>\n",
       "      <td>POINT (75803.355 -428025.323)</td>\n",
       "      <td>hq_corridor_bus</td>\n",
       "    </tr>\n",
       "    <tr>\n",
       "      <th>7534</th>\n",
       "      <td>231</td>\n",
       "      <td>3289697</td>\n",
       "      <td>POINT (75797.334 -428012.869)</td>\n",
       "      <td>hq_corridor_bus</td>\n",
       "    </tr>\n",
       "    <tr>\n",
       "      <th>94904</th>\n",
       "      <td>231</td>\n",
       "      <td>3299402</td>\n",
       "      <td>POINT (75867.537 -427985.411)</td>\n",
       "      <td>hq_corridor_bus</td>\n",
       "    </tr>\n",
       "  </tbody>\n",
       "</table>\n",
       "</div>"
      ],
      "text/plain": [
       "       calitp_itp_id_primary   stop_id                       geometry  \\\n",
       "4709                     123  SAVBAR:1  POINT (75803.355 -428025.323)   \n",
       "7534                     231   3289697  POINT (75797.334 -428012.869)   \n",
       "94904                    231   3299402  POINT (75867.537 -427985.411)   \n",
       "\n",
       "             hqta_type  \n",
       "4709   hq_corridor_bus  \n",
       "7534   hq_corridor_bus  \n",
       "94904  hq_corridor_bus  "
      ]
     },
     "execution_count": 46,
     "metadata": {},
     "output_type": "execute_result"
    }
   ],
   "source": [
    "stops_extract.head(3)"
   ]
  },
  {
   "cell_type": "markdown",
   "id": "3d90eef5-3b4d-4c6a-96c9-e40a2855a260",
   "metadata": {},
   "source": [
    "#### Major Transit Stops (rail/ferry/brt)"
   ]
  },
  {
   "cell_type": "code",
   "execution_count": 47,
   "id": "5138b1e6-4c99-4ff1-b672-89d5f5a484e2",
   "metadata": {},
   "outputs": [
    {
     "data": {
      "text/html": [
       "<div>\n",
       "<style scoped>\n",
       "    .dataframe tbody tr th:only-of-type {\n",
       "        vertical-align: middle;\n",
       "    }\n",
       "\n",
       "    .dataframe tbody tr th {\n",
       "        vertical-align: top;\n",
       "    }\n",
       "\n",
       "    .dataframe thead th {\n",
       "        text-align: right;\n",
       "    }\n",
       "</style>\n",
       "<table border=\"1\" class=\"dataframe\">\n",
       "  <thead>\n",
       "    <tr style=\"text-align: right;\">\n",
       "      <th></th>\n",
       "      <th>calitp_itp_id</th>\n",
       "      <th>stop_id</th>\n",
       "      <th>stop_lat</th>\n",
       "      <th>stop_lon</th>\n",
       "      <th>stop_name</th>\n",
       "      <th>route_type</th>\n",
       "      <th>geometry</th>\n",
       "      <th>hqta_type</th>\n",
       "    </tr>\n",
       "  </thead>\n",
       "  <tbody>\n",
       "    <tr>\n",
       "      <th>74</th>\n",
       "      <td>13</td>\n",
       "      <td>GVB</td>\n",
       "      <td>35.121260</td>\n",
       "      <td>-120.629266</td>\n",
       "      <td>Grover Beach Amtrak</td>\n",
       "      <td>2</td>\n",
       "      <td>POINT (-57308.226 -321533.615)</td>\n",
       "      <td>major_transit_stop</td>\n",
       "    </tr>\n",
       "    <tr>\n",
       "      <th>705</th>\n",
       "      <td>13</td>\n",
       "      <td>SLO</td>\n",
       "      <td>35.276434</td>\n",
       "      <td>-120.654701</td>\n",
       "      <td>San Luis Obispo</td>\n",
       "      <td>2</td>\n",
       "      <td>POINT (-59505.601 -304286.520)</td>\n",
       "      <td>major_transit_stop</td>\n",
       "    </tr>\n",
       "    <tr>\n",
       "      <th>479</th>\n",
       "      <td>13</td>\n",
       "      <td>BFD</td>\n",
       "      <td>35.372140</td>\n",
       "      <td>-119.008210</td>\n",
       "      <td>Bakersfield</td>\n",
       "      <td>2</td>\n",
       "      <td>POINT (90031.416 -293392.047)</td>\n",
       "      <td>major_transit_stop</td>\n",
       "    </tr>\n",
       "  </tbody>\n",
       "</table>\n",
       "</div>"
      ],
      "text/plain": [
       "     calitp_itp_id stop_id   stop_lat    stop_lon            stop_name  \\\n",
       "74              13     GVB  35.121260 -120.629266  Grover Beach Amtrak   \n",
       "705             13     SLO  35.276434 -120.654701      San Luis Obispo   \n",
       "479             13     BFD  35.372140 -119.008210          Bakersfield   \n",
       "\n",
       "    route_type                        geometry           hqta_type  \n",
       "74           2  POINT (-57308.226 -321533.615)  major_transit_stop  \n",
       "705          2  POINT (-59505.601 -304286.520)  major_transit_stop  \n",
       "479          2   POINT (90031.416 -293392.047)  major_transit_stop  "
      ]
     },
     "execution_count": 47,
     "metadata": {},
     "output_type": "execute_result"
    }
   ],
   "source": [
    "rail_ferry_brt_stops.head(3)"
   ]
  },
  {
   "cell_type": "code",
   "execution_count": 48,
   "id": "8a269cf5-fb38-467f-b31d-8c98c2aed684",
   "metadata": {},
   "outputs": [],
   "source": [
    "rail_ferry_brt_extract = rail_ferry_brt_stops >> select(_.calitp_itp_id == _.calitp_itp_id, _.stop_id,\n",
    "                                      _.hqta_type, _.route_type, _.geometry\n",
    "                         )"
   ]
  },
  {
   "cell_type": "code",
   "execution_count": 49,
   "id": "154b935a-5c1b-48d9-a44b-d276ade8b4ae",
   "metadata": {},
   "outputs": [],
   "source": [
    "rail_ferry_brt_extract = (rail_ferry_brt_extract\n",
    "    >> mutate(\n",
    "    hqta_type = case_when({\n",
    "        _.route_type.isin(['0', '1', '2']): 'major_stop_rail',\n",
    "        _.route_type == '3': 'major_stop_brt',\n",
    "        _.route_type == '4': 'major_stop_ferry'\n",
    "        })\n",
    "    )\n",
    "    >> select(-_.route_type, _.calitp_itp_id_primary == _.calitp_itp_id)\n",
    ")"
   ]
  },
  {
   "cell_type": "code",
   "execution_count": 50,
   "id": "795f12d4-f881-4d72-adf2-69a4276084e9",
   "metadata": {},
   "outputs": [
    {
     "data": {
      "text/html": [
       "<div>\n",
       "<style scoped>\n",
       "    .dataframe tbody tr th:only-of-type {\n",
       "        vertical-align: middle;\n",
       "    }\n",
       "\n",
       "    .dataframe tbody tr th {\n",
       "        vertical-align: top;\n",
       "    }\n",
       "\n",
       "    .dataframe thead th {\n",
       "        text-align: right;\n",
       "    }\n",
       "</style>\n",
       "<table border=\"1\" class=\"dataframe\">\n",
       "  <thead>\n",
       "    <tr style=\"text-align: right;\">\n",
       "      <th></th>\n",
       "      <th>calitp_itp_id_primary</th>\n",
       "      <th>stop_id</th>\n",
       "      <th>hqta_type</th>\n",
       "      <th>geometry</th>\n",
       "    </tr>\n",
       "  </thead>\n",
       "  <tbody>\n",
       "    <tr>\n",
       "      <th>74</th>\n",
       "      <td>13</td>\n",
       "      <td>GVB</td>\n",
       "      <td>major_stop_rail</td>\n",
       "      <td>POINT (-57308.226 -321533.615)</td>\n",
       "    </tr>\n",
       "    <tr>\n",
       "      <th>705</th>\n",
       "      <td>13</td>\n",
       "      <td>SLO</td>\n",
       "      <td>major_stop_rail</td>\n",
       "      <td>POINT (-59505.601 -304286.520)</td>\n",
       "    </tr>\n",
       "    <tr>\n",
       "      <th>479</th>\n",
       "      <td>13</td>\n",
       "      <td>BFD</td>\n",
       "      <td>major_stop_rail</td>\n",
       "      <td>POINT (90031.416 -293392.047)</td>\n",
       "    </tr>\n",
       "  </tbody>\n",
       "</table>\n",
       "</div>"
      ],
      "text/plain": [
       "     calitp_itp_id_primary stop_id        hqta_type  \\\n",
       "74                      13     GVB  major_stop_rail   \n",
       "705                     13     SLO  major_stop_rail   \n",
       "479                     13     BFD  major_stop_rail   \n",
       "\n",
       "                           geometry  \n",
       "74   POINT (-57308.226 -321533.615)  \n",
       "705  POINT (-59505.601 -304286.520)  \n",
       "479   POINT (90031.416 -293392.047)  "
      ]
     },
     "execution_count": 50,
     "metadata": {},
     "output_type": "execute_result"
    }
   ],
   "source": [
    "rail_ferry_brt_extract.head(3)"
   ]
  },
  {
   "cell_type": "code",
   "execution_count": 51,
   "id": "c083e975-2de8-42c4-b62a-937d25029ce7",
   "metadata": {},
   "outputs": [],
   "source": [
    "points_combined = pd.concat((new_major_bus_extract, stops_extract, rail_ferry_brt_extract))"
   ]
  },
  {
   "cell_type": "code",
   "execution_count": 52,
   "id": "f74db8b5-c1c2-4f68-88d8-89964d2a7179",
   "metadata": {},
   "outputs": [
    {
     "data": {
      "text/plain": [
       "calitp_itp_id_primary         int64\n",
       "stop_id                      object\n",
       "calitp_itp_id_secondary     float64\n",
       "hqta_type                    object\n",
       "geometry                   geometry\n",
       "dtype: object"
      ]
     },
     "execution_count": 52,
     "metadata": {},
     "output_type": "execute_result"
    }
   ],
   "source": [
    "points_combined.dtypes"
   ]
  },
  {
   "cell_type": "code",
   "execution_count": 53,
   "id": "c767a0e4-e8c5-4967-b223-c982717de70c",
   "metadata": {},
   "outputs": [
    {
     "data": {
      "text/html": [
       "<div>\n",
       "<style scoped>\n",
       "    .dataframe tbody tr th:only-of-type {\n",
       "        vertical-align: middle;\n",
       "    }\n",
       "\n",
       "    .dataframe tbody tr th {\n",
       "        vertical-align: top;\n",
       "    }\n",
       "\n",
       "    .dataframe thead th {\n",
       "        text-align: right;\n",
       "    }\n",
       "</style>\n",
       "<table border=\"1\" class=\"dataframe\">\n",
       "  <thead>\n",
       "    <tr style=\"text-align: right;\">\n",
       "      <th></th>\n",
       "      <th>calitp_itp_id_primary</th>\n",
       "      <th>stop_id</th>\n",
       "      <th>calitp_itp_id_secondary</th>\n",
       "      <th>hqta_type</th>\n",
       "      <th>geometry</th>\n",
       "    </tr>\n",
       "  </thead>\n",
       "  <tbody>\n",
       "    <tr>\n",
       "      <th>83</th>\n",
       "      <td>260</td>\n",
       "      <td>201</td>\n",
       "      <td>87.0</td>\n",
       "      <td>major_stop_bus</td>\n",
       "      <td>POINT (148659.946 -450548.591)</td>\n",
       "    </tr>\n",
       "    <tr>\n",
       "      <th>22774</th>\n",
       "      <td>300</td>\n",
       "      <td>1635</td>\n",
       "      <td>87.0</td>\n",
       "      <td>major_stop_bus</td>\n",
       "      <td>POINT (148621.643 -450481.683)</td>\n",
       "    </tr>\n",
       "    <tr>\n",
       "      <th>22786</th>\n",
       "      <td>300</td>\n",
       "      <td>1636</td>\n",
       "      <td>87.0</td>\n",
       "      <td>major_stop_bus</td>\n",
       "      <td>POINT (148592.137 -450480.964)</td>\n",
       "    </tr>\n",
       "    <tr>\n",
       "      <th>29797</th>\n",
       "      <td>87</td>\n",
       "      <td>193</td>\n",
       "      <td>87.0</td>\n",
       "      <td>major_stop_bus</td>\n",
       "      <td>POINT (148580.737 -450435.675)</td>\n",
       "    </tr>\n",
       "    <tr>\n",
       "      <th>51409</th>\n",
       "      <td>182</td>\n",
       "      <td>30006</td>\n",
       "      <td>87.0</td>\n",
       "      <td>major_stop_bus</td>\n",
       "      <td>POINT (148582.600 -450452.838)</td>\n",
       "    </tr>\n",
       "    <tr>\n",
       "      <th>...</th>\n",
       "      <td>...</td>\n",
       "      <td>...</td>\n",
       "      <td>...</td>\n",
       "      <td>...</td>\n",
       "      <td>...</td>\n",
       "    </tr>\n",
       "    <tr>\n",
       "      <th>14</th>\n",
       "      <td>127</td>\n",
       "      <td>43008</td>\n",
       "      <td>NaN</td>\n",
       "      <td>major_stop_ferry</td>\n",
       "      <td>POINT (-210476.942 -21780.838)</td>\n",
       "    </tr>\n",
       "    <tr>\n",
       "      <th>15</th>\n",
       "      <td>127</td>\n",
       "      <td>43003</td>\n",
       "      <td>NaN</td>\n",
       "      <td>major_stop_ferry</td>\n",
       "      <td>POINT (-217668.884 -14964.633)</td>\n",
       "    </tr>\n",
       "    <tr>\n",
       "      <th>17</th>\n",
       "      <td>127</td>\n",
       "      <td>43007</td>\n",
       "      <td>NaN</td>\n",
       "      <td>major_stop_ferry</td>\n",
       "      <td>POINT (-215721.361 -13173.100)</td>\n",
       "    </tr>\n",
       "    <tr>\n",
       "      <th>13</th>\n",
       "      <td>280</td>\n",
       "      <td>890004</td>\n",
       "      <td>NaN</td>\n",
       "      <td>major_stop_ferry</td>\n",
       "      <td>POINT (-207130.442 -9301.491)</td>\n",
       "    </tr>\n",
       "    <tr>\n",
       "      <th>18</th>\n",
       "      <td>127</td>\n",
       "      <td>43004</td>\n",
       "      <td>NaN</td>\n",
       "      <td>major_stop_ferry</td>\n",
       "      <td>POINT (-220114.635 -5053.519)</td>\n",
       "    </tr>\n",
       "  </tbody>\n",
       "</table>\n",
       "<p>42429 rows × 5 columns</p>\n",
       "</div>"
      ],
      "text/plain": [
       "       calitp_itp_id_primary stop_id  calitp_itp_id_secondary  \\\n",
       "83                       260     201                     87.0   \n",
       "22774                    300    1635                     87.0   \n",
       "22786                    300    1636                     87.0   \n",
       "29797                     87     193                     87.0   \n",
       "51409                    182   30006                     87.0   \n",
       "...                      ...     ...                      ...   \n",
       "14                       127   43008                      NaN   \n",
       "15                       127   43003                      NaN   \n",
       "17                       127   43007                      NaN   \n",
       "13                       280  890004                      NaN   \n",
       "18                       127   43004                      NaN   \n",
       "\n",
       "              hqta_type                        geometry  \n",
       "83       major_stop_bus  POINT (148659.946 -450548.591)  \n",
       "22774    major_stop_bus  POINT (148621.643 -450481.683)  \n",
       "22786    major_stop_bus  POINT (148592.137 -450480.964)  \n",
       "29797    major_stop_bus  POINT (148580.737 -450435.675)  \n",
       "51409    major_stop_bus  POINT (148582.600 -450452.838)  \n",
       "...                 ...                             ...  \n",
       "14     major_stop_ferry  POINT (-210476.942 -21780.838)  \n",
       "15     major_stop_ferry  POINT (-217668.884 -14964.633)  \n",
       "17     major_stop_ferry  POINT (-215721.361 -13173.100)  \n",
       "13     major_stop_ferry   POINT (-207130.442 -9301.491)  \n",
       "18     major_stop_ferry   POINT (-220114.635 -5053.519)  \n",
       "\n",
       "[42429 rows x 5 columns]"
      ]
     },
     "execution_count": 53,
     "metadata": {},
     "output_type": "execute_result"
    }
   ],
   "source": [
    "points_combined"
   ]
  },
  {
   "cell_type": "code",
   "execution_count": 54,
   "id": "1eaa13fb-88d9-4f5f-ac07-5a5711f974db",
   "metadata": {},
   "outputs": [],
   "source": [
    "# map_hqta(points_combined)"
   ]
  },
  {
   "cell_type": "code",
   "execution_count": 7,
   "id": "f7d2d824-f02a-450c-a18f-baa4f4b4c8b3",
   "metadata": {},
   "outputs": [],
   "source": [
    "names = (tbl.views.gtfs_schedule_dim_feeds()\n",
    "    >> filter(_.calitp_extracted_at < analysis_date, _.calitp_deleted_at > analysis_date)\n",
    "    >> select(_.calitp_itp_id_primary == _.calitp_itp_id, _.agency_name_primary == _.calitp_agency_name)\n",
    "    >> collect()\n",
    ")"
   ]
  },
  {
   "cell_type": "code",
   "execution_count": 8,
   "id": "f4478777-7524-4a92-8f6c-6236ffe49314",
   "metadata": {},
   "outputs": [],
   "source": [
    "name_dict = names.set_index('calitp_itp_id_primary').to_dict()['agency_name_primary']"
   ]
  },
  {
   "cell_type": "code",
   "execution_count": 57,
   "id": "18a5f271-d49a-46da-942a-8c337249c874",
   "metadata": {},
   "outputs": [],
   "source": [
    "with_names = points_combined >> inner_join(_, names, on = 'calitp_itp_id_primary')"
   ]
  },
  {
   "cell_type": "code",
   "execution_count": 8,
   "id": "49a03110-e797-4f59-abae-38df6ce3f5f6",
   "metadata": {},
   "outputs": [],
   "source": [
    "with_names['agency_name_secondary'] = with_names.apply(lambda x: name_dict[int(x.calitp_itp_id_secondary)]\\\n",
    "        if not np.isnan(x.calitp_itp_id_secondary) and int(x.calitp_itp_id_secondary) in name_dict.keys() else np.nan, axis = 1)"
   ]
  },
  {
   "cell_type": "code",
   "execution_count": 9,
   "id": "d20331ff-46ea-41fd-9e1d-e1bf05fae865",
   "metadata": {},
   "outputs": [],
   "source": [
    "with_names['hqta_details'] = with_names.apply(hqta_details, axis=1)"
   ]
  },
  {
   "cell_type": "code",
   "execution_count": 59,
   "id": "f5597551-8553-446b-9f1d-4c9996be932c",
   "metadata": {},
   "outputs": [],
   "source": [
    "with_names = with_names.drop_duplicates(subset=['calitp_itp_id_primary', 'hqta_type', 'stop_id'])"
   ]
  },
  {
   "cell_type": "code",
   "execution_count": 10,
   "id": "8babf759-70b5-43ca-913b-f3a4f594c30f",
   "metadata": {},
   "outputs": [
    {
     "data": {
      "text/html": [
       "<div>\n",
       "<style scoped>\n",
       "    .dataframe tbody tr th:only-of-type {\n",
       "        vertical-align: middle;\n",
       "    }\n",
       "\n",
       "    .dataframe tbody tr th {\n",
       "        vertical-align: top;\n",
       "    }\n",
       "\n",
       "    .dataframe thead th {\n",
       "        text-align: right;\n",
       "    }\n",
       "</style>\n",
       "<table border=\"1\" class=\"dataframe\">\n",
       "  <thead>\n",
       "    <tr style=\"text-align: right;\">\n",
       "      <th></th>\n",
       "      <th>calitp_itp_id_primary</th>\n",
       "      <th>agency_name_primary</th>\n",
       "      <th>stop_id</th>\n",
       "      <th>hqta_type</th>\n",
       "      <th>calitp_itp_id_secondary</th>\n",
       "      <th>agency_name_secondary</th>\n",
       "      <th>geometry</th>\n",
       "      <th>hqta_details</th>\n",
       "    </tr>\n",
       "  </thead>\n",
       "  <tbody>\n",
       "    <tr>\n",
       "      <th>0</th>\n",
       "      <td>260</td>\n",
       "      <td>Beach Cities Transit</td>\n",
       "      <td>201</td>\n",
       "      <td>major_stop_bus</td>\n",
       "      <td>87.0</td>\n",
       "      <td>None</td>\n",
       "      <td>POINT (-118.39182 33.94913)</td>\n",
       "      <td>intersection_2_bus_routes_different_operators</td>\n",
       "    </tr>\n",
       "    <tr>\n",
       "      <th>1</th>\n",
       "      <td>260</td>\n",
       "      <td>Beach Cities Transit</td>\n",
       "      <td>402</td>\n",
       "      <td>major_stop_bus</td>\n",
       "      <td>182.0</td>\n",
       "      <td>None</td>\n",
       "      <td>POINT (-118.37030 33.89420)</td>\n",
       "      <td>intersection_2_bus_routes_different_operators</td>\n",
       "    </tr>\n",
       "    <tr>\n",
       "      <th>2</th>\n",
       "      <td>260</td>\n",
       "      <td>Beach Cities Transit</td>\n",
       "      <td>401</td>\n",
       "      <td>major_stop_bus</td>\n",
       "      <td>182.0</td>\n",
       "      <td>None</td>\n",
       "      <td>POINT (-118.36983 33.89507)</td>\n",
       "      <td>intersection_2_bus_routes_different_operators</td>\n",
       "    </tr>\n",
       "  </tbody>\n",
       "</table>\n",
       "</div>"
      ],
      "text/plain": [
       "   calitp_itp_id_primary   agency_name_primary stop_id       hqta_type  \\\n",
       "0                    260  Beach Cities Transit     201  major_stop_bus   \n",
       "1                    260  Beach Cities Transit     402  major_stop_bus   \n",
       "2                    260  Beach Cities Transit     401  major_stop_bus   \n",
       "\n",
       "   calitp_itp_id_secondary agency_name_secondary                     geometry  \\\n",
       "0                     87.0                  None  POINT (-118.39182 33.94913)   \n",
       "1                    182.0                  None  POINT (-118.37030 33.89420)   \n",
       "2                    182.0                  None  POINT (-118.36983 33.89507)   \n",
       "\n",
       "                                    hqta_details  \n",
       "0  intersection_2_bus_routes_different_operators  \n",
       "1  intersection_2_bus_routes_different_operators  \n",
       "2  intersection_2_bus_routes_different_operators  "
      ]
     },
     "execution_count": 10,
     "metadata": {},
     "output_type": "execute_result"
    }
   ],
   "source": [
    "with_names.head(3)"
   ]
  },
  {
   "cell_type": "code",
   "execution_count": 11,
   "id": "d227761c-cbc7-4305-a15e-fb089adf19d6",
   "metadata": {},
   "outputs": [
    {
     "data": {
      "text/html": [
       "<div>\n",
       "<style scoped>\n",
       "    .dataframe tbody tr th:only-of-type {\n",
       "        vertical-align: middle;\n",
       "    }\n",
       "\n",
       "    .dataframe tbody tr th {\n",
       "        vertical-align: top;\n",
       "    }\n",
       "\n",
       "    .dataframe thead th {\n",
       "        text-align: right;\n",
       "    }\n",
       "</style>\n",
       "<table border=\"1\" class=\"dataframe\">\n",
       "  <thead>\n",
       "    <tr style=\"text-align: right;\">\n",
       "      <th></th>\n",
       "      <th>hqta_type</th>\n",
       "      <th>n</th>\n",
       "    </tr>\n",
       "  </thead>\n",
       "  <tbody>\n",
       "    <tr>\n",
       "      <th>0</th>\n",
       "      <td>hq_corridor_bus</td>\n",
       "      <td>33337</td>\n",
       "    </tr>\n",
       "    <tr>\n",
       "      <th>1</th>\n",
       "      <td>major_stop_brt</td>\n",
       "      <td>201</td>\n",
       "    </tr>\n",
       "    <tr>\n",
       "      <th>2</th>\n",
       "      <td>major_stop_bus</td>\n",
       "      <td>5530</td>\n",
       "    </tr>\n",
       "    <tr>\n",
       "      <th>3</th>\n",
       "      <td>major_stop_ferry</td>\n",
       "      <td>18</td>\n",
       "    </tr>\n",
       "    <tr>\n",
       "      <th>4</th>\n",
       "      <td>major_stop_rail</td>\n",
       "      <td>1081</td>\n",
       "    </tr>\n",
       "  </tbody>\n",
       "</table>\n",
       "</div>"
      ],
      "text/plain": [
       "          hqta_type      n\n",
       "0   hq_corridor_bus  33337\n",
       "1    major_stop_brt    201\n",
       "2    major_stop_bus   5530\n",
       "3  major_stop_ferry     18\n",
       "4   major_stop_rail   1081"
      ]
     },
     "execution_count": 11,
     "metadata": {},
     "output_type": "execute_result"
    }
   ],
   "source": [
    "with_names >> count(_.hqta_type)"
   ]
  },
  {
   "cell_type": "code",
   "execution_count": 5,
   "id": "3fcef0b1-8f9d-45ca-a715-d7b07a11516d",
   "metadata": {},
   "outputs": [
    {
     "data": {
      "text/plain": [
       "datetime.date(2022, 6, 15)"
      ]
     },
     "execution_count": 5,
     "metadata": {},
     "output_type": "execute_result"
    }
   ],
   "source": [
    "analysis_date"
   ]
  },
  {
   "cell_type": "code",
   "execution_count": 13,
   "id": "67e45d56-b306-424a-bc64-6c6a446de2c1",
   "metadata": {},
   "outputs": [],
   "source": [
    "with_names = with_names >> select(_.calitp_itp_id_primary, _.agency_name_primary, _.stop_id, _.hqta_type,\n",
    "                              _.calitp_itp_id_secondary, _.agency_name_secondary, _.geometry)"
   ]
  },
  {
   "cell_type": "code",
   "execution_count": 64,
   "id": "12f72c16-fa93-4be1-830b-c664fada2939",
   "metadata": {},
   "outputs": [],
   "source": [
    "# fs.mkdir(f'{GCS_FILE_PATH}export/{analysis_date.isoformat()}/')"
   ]
  },
  {
   "cell_type": "code",
   "execution_count": 65,
   "id": "4d6184bf-c709-4b4b-9365-9168acb5a247",
   "metadata": {},
   "outputs": [],
   "source": [
    "# ## TODO add check that folder exists/mkdir...\n",
    "# with_names.to_file(f'{GCS_FILE_PATH}export/{analysis_date.isoformat()}/ca_hq_transit_stops.geojsonl',\n",
    "#                    driver='GeoJSONSeq')"
   ]
  },
  {
   "cell_type": "code",
   "execution_count": 3,
   "id": "24a6a299-8dce-4bf8-a3b0-8db25ab6f387",
   "metadata": {},
   "outputs": [],
   "source": [
    "with_names = gpd.read_file(f'./ca_hq_transit_stops.geojsonl')"
   ]
  },
  {
   "cell_type": "code",
   "execution_count": 4,
   "id": "adb07781-d7dc-4ebc-bf25-accf24b368cf",
   "metadata": {},
   "outputs": [
    {
     "data": {
      "text/html": [
       "<div>\n",
       "<style scoped>\n",
       "    .dataframe tbody tr th:only-of-type {\n",
       "        vertical-align: middle;\n",
       "    }\n",
       "\n",
       "    .dataframe tbody tr th {\n",
       "        vertical-align: top;\n",
       "    }\n",
       "\n",
       "    .dataframe thead th {\n",
       "        text-align: right;\n",
       "    }\n",
       "</style>\n",
       "<table border=\"1\" class=\"dataframe\">\n",
       "  <thead>\n",
       "    <tr style=\"text-align: right;\">\n",
       "      <th></th>\n",
       "      <th>hqta_details</th>\n",
       "      <th>n</th>\n",
       "    </tr>\n",
       "  </thead>\n",
       "  <tbody>\n",
       "    <tr>\n",
       "      <th>0</th>\n",
       "      <td>intersection_2_bus_routes_different_operators</td>\n",
       "      <td>839</td>\n",
       "    </tr>\n",
       "    <tr>\n",
       "      <th>1</th>\n",
       "      <td>intersection_2_bus_routes_same_operator</td>\n",
       "      <td>4691</td>\n",
       "    </tr>\n",
       "    <tr>\n",
       "      <th>2</th>\n",
       "      <td>major_stop_brt_single_operator</td>\n",
       "      <td>201</td>\n",
       "    </tr>\n",
       "    <tr>\n",
       "      <th>3</th>\n",
       "      <td>major_stop_ferry_single_operator</td>\n",
       "      <td>18</td>\n",
       "    </tr>\n",
       "    <tr>\n",
       "      <th>4</th>\n",
       "      <td>major_stop_rail_single_operator</td>\n",
       "      <td>1081</td>\n",
       "    </tr>\n",
       "    <tr>\n",
       "      <th>5</th>\n",
       "      <td>stop_along_hq_bus_corridor_single_operator</td>\n",
       "      <td>33337</td>\n",
       "    </tr>\n",
       "  </tbody>\n",
       "</table>\n",
       "</div>"
      ],
      "text/plain": [
       "                                    hqta_details      n\n",
       "0  intersection_2_bus_routes_different_operators    839\n",
       "1        intersection_2_bus_routes_same_operator   4691\n",
       "2                 major_stop_brt_single_operator    201\n",
       "3               major_stop_ferry_single_operator     18\n",
       "4                major_stop_rail_single_operator   1081\n",
       "5     stop_along_hq_bus_corridor_single_operator  33337"
      ]
     },
     "execution_count": 4,
     "metadata": {},
     "output_type": "execute_result"
    }
   ],
   "source": [
    "with_names >> count(_.hqta_details)"
   ]
  },
  {
   "cell_type": "code",
   "execution_count": 7,
   "id": "ff042945-851b-447f-b775-a1d832c322f9",
   "metadata": {},
   "outputs": [],
   "source": [
    "with_names = with_names.to_crs(shared_utils.geography_utils.WGS84)"
   ]
  },
  {
   "cell_type": "code",
   "execution_count": 8,
   "id": "b7cc3286-aa84-4b66-acba-4935481e1650",
   "metadata": {},
   "outputs": [
    {
     "name": "stderr",
     "output_type": "stream",
     "text": [
      "/opt/conda/lib/python3.10/site-packages/geopandas/io/file.py:362: FutureWarning: pandas.Int64Index is deprecated and will be removed from pandas in a future version. Use pandas.Index with the appropriate dtype instead.\n",
      "/opt/conda/lib/python3.10/site-packages/geopandas/io/file.py:362: FutureWarning: pandas.Int64Index is deprecated and will be removed from pandas in a future version. Use pandas.Index with the appropriate dtype instead.\n"
     ]
    }
   ],
   "source": [
    "with_names.to_file('./ca_hq_transit_stops.geojsonl', driver='GeoJSONSeq')\n",
    "with_names.to_file('./ca_hq_transit_stops.geojson', driver='GeoJSON')"
   ]
  },
  {
   "cell_type": "code",
   "execution_count": 1,
   "id": "3023c57b-a1aa-4886-84a0-453668daae57",
   "metadata": {},
   "outputs": [],
   "source": [
    "## seems to hang, TODO wrapper function like for parquet?\n",
    "\n",
    "# with_names.to_file(f'{GCS_FILE_PATH}export/{analysis_date.isoformat()}/ca_hq_transit_stops.geojsonl',\n",
    "#                    driver='GeoJSONSeq')\n",
    "# with_names.to_file(f'{GCS_FILE_PATH}export/{analysis_date.isoformat()}/ca_hq_transit_stops.geojson',\n",
    "#                    driver='GeoJSON')"
   ]
  },
  {
   "cell_type": "markdown",
   "id": "8e53d610-d9bc-4bc1-8a79-d32b3078d672",
   "metadata": {},
   "source": [
    "### Combining and Buffering\n",
    "\n",
    "* General buffer distance: 1/2mi ~= 805 meters\n",
    "* Bus corridors are already buffered 50 meters, so will buffer 755 meters"
   ]
  },
  {
   "cell_type": "code",
   "execution_count": 12,
   "id": "06d69c83-d857-4051-b9d0-de1a5d0d9ca4",
   "metadata": {},
   "outputs": [],
   "source": [
    "major_stops_named = with_names >> filter(_.hqta_type != 'hq_corridor_bus')"
   ]
  },
  {
   "cell_type": "code",
   "execution_count": 13,
   "id": "e13cb57b-0905-4b8c-9f8f-d6d87c09c533",
   "metadata": {},
   "outputs": [
    {
     "name": "stderr",
     "output_type": "stream",
     "text": [
      "/tmp/ipykernel_1279/2057094652.py:2: UserWarning: Geometry is in a geographic CRS. Results from 'buffer' are likely incorrect. Use 'GeoSeries.to_crs()' to re-project geometries to a projected CRS before this operation.\n",
      "\n",
      "/opt/conda/lib/python3.10/site-packages/geopandas/geodataframe.py:1351: SettingWithCopyWarning: \n",
      "A value is trying to be set on a copy of a slice from a DataFrame.\n",
      "Try using .loc[row_indexer,col_indexer] = value instead\n",
      "\n",
      "See the caveats in the documentation: https://pandas.pydata.org/pandas-docs/stable/user_guide/indexing.html#returning-a-view-versus-a-copy\n"
     ]
    }
   ],
   "source": [
    "bus_hqtc.geometry = bus_hqtc.geometry.buffer(755)\n",
    "major_stops_named.geometry = major_stops_named.buffer(805)\n",
    "# row_per_stop.geometry = row_per_stop.geometry.buffer(805)\n",
    "# rail_ferry_brt_stops.geometry = rail_ferry_brt_stops.geometry.buffer(805)"
   ]
  },
  {
   "cell_type": "code",
   "execution_count": 14,
   "id": "15932ee8-e0a1-4ba5-b632-a543244c97f7",
   "metadata": {},
   "outputs": [
    {
     "data": {
      "text/html": [
       "<div>\n",
       "<style scoped>\n",
       "    .dataframe tbody tr th:only-of-type {\n",
       "        vertical-align: middle;\n",
       "    }\n",
       "\n",
       "    .dataframe tbody tr th {\n",
       "        vertical-align: top;\n",
       "    }\n",
       "\n",
       "    .dataframe thead th {\n",
       "        text-align: right;\n",
       "    }\n",
       "</style>\n",
       "<table border=\"1\" class=\"dataframe\">\n",
       "  <thead>\n",
       "    <tr style=\"text-align: right;\">\n",
       "      <th></th>\n",
       "      <th>calitp_itp_id_primary</th>\n",
       "      <th>agency_name_primary</th>\n",
       "      <th>stop_id</th>\n",
       "      <th>hqta_type</th>\n",
       "      <th>calitp_itp_id_secondary</th>\n",
       "      <th>agency_name_secondary</th>\n",
       "      <th>hqta_details</th>\n",
       "      <th>geometry</th>\n",
       "    </tr>\n",
       "  </thead>\n",
       "  <tbody>\n",
       "    <tr>\n",
       "      <th>0</th>\n",
       "      <td>260</td>\n",
       "      <td>Beach Cities Transit</td>\n",
       "      <td>201</td>\n",
       "      <td>major_stop_bus</td>\n",
       "      <td>87.0</td>\n",
       "      <td>Culver CityBus</td>\n",
       "      <td>intersection_2_bus_routes_different_operators</td>\n",
       "      <td>POLYGON ((686.60818 33.94913, 682.73188 -44.95...</td>\n",
       "    </tr>\n",
       "    <tr>\n",
       "      <th>1</th>\n",
       "      <td>260</td>\n",
       "      <td>Beach Cities Transit</td>\n",
       "      <td>402</td>\n",
       "      <td>major_stop_bus</td>\n",
       "      <td>182.0</td>\n",
       "      <td>Metro</td>\n",
       "      <td>intersection_2_bus_routes_different_operators</td>\n",
       "      <td>POLYGON ((686.62970 33.89420, 682.75340 -45.00...</td>\n",
       "    </tr>\n",
       "  </tbody>\n",
       "</table>\n",
       "</div>"
      ],
      "text/plain": [
       "   calitp_itp_id_primary   agency_name_primary stop_id       hqta_type  \\\n",
       "0                    260  Beach Cities Transit     201  major_stop_bus   \n",
       "1                    260  Beach Cities Transit     402  major_stop_bus   \n",
       "\n",
       "   calitp_itp_id_secondary agency_name_secondary  \\\n",
       "0                     87.0        Culver CityBus   \n",
       "1                    182.0                 Metro   \n",
       "\n",
       "                                    hqta_details  \\\n",
       "0  intersection_2_bus_routes_different_operators   \n",
       "1  intersection_2_bus_routes_different_operators   \n",
       "\n",
       "                                            geometry  \n",
       "0  POLYGON ((686.60818 33.94913, 682.73188 -44.95...  \n",
       "1  POLYGON ((686.62970 33.89420, 682.75340 -45.00...  "
      ]
     },
     "execution_count": 14,
     "metadata": {},
     "output_type": "execute_result"
    }
   ],
   "source": [
    "major_stops_named >> head(2)"
   ]
  },
  {
   "cell_type": "code",
   "execution_count": 15,
   "id": "5b2814ab-02f8-4047-bf29-7cc6ad4c88a3",
   "metadata": {},
   "outputs": [
    {
     "data": {
      "text/html": [
       "<div>\n",
       "<style scoped>\n",
       "    .dataframe tbody tr th:only-of-type {\n",
       "        vertical-align: middle;\n",
       "    }\n",
       "\n",
       "    .dataframe tbody tr th {\n",
       "        vertical-align: top;\n",
       "    }\n",
       "\n",
       "    .dataframe thead th {\n",
       "        text-align: right;\n",
       "    }\n",
       "</style>\n",
       "<table border=\"1\" class=\"dataframe\">\n",
       "  <thead>\n",
       "    <tr style=\"text-align: right;\">\n",
       "      <th></th>\n",
       "      <th>hq_transit_corr</th>\n",
       "      <th>shape_id</th>\n",
       "      <th>calitp_itp_id</th>\n",
       "      <th>geometry</th>\n",
       "      <th>calitp_url_number</th>\n",
       "      <th>hqta_segment_id</th>\n",
       "      <th>segment_sequence</th>\n",
       "      <th>stop_id</th>\n",
       "      <th>am_max_trips</th>\n",
       "      <th>pm_max_trips</th>\n",
       "      <th>departure_hour</th>\n",
       "      <th>n</th>\n",
       "      <th>hqta_type</th>\n",
       "      <th>route_type</th>\n",
       "    </tr>\n",
       "  </thead>\n",
       "  <tbody>\n",
       "    <tr>\n",
       "      <th>3109</th>\n",
       "      <td>True</td>\n",
       "      <td>0500</td>\n",
       "      <td>142</td>\n",
       "      <td>MULTIPOLYGON (((211656.381 -486108.779, 211648...</td>\n",
       "      <td>0</td>\n",
       "      <td>2197551287</td>\n",
       "      <td>0</td>\n",
       "      <td>3977</td>\n",
       "      <td>10.0</td>\n",
       "      <td>10.0</td>\n",
       "      <td>NaN</td>\n",
       "      <td>NaN</td>\n",
       "      <td>hq_transit_corr</td>\n",
       "      <td>3</td>\n",
       "    </tr>\n",
       "    <tr>\n",
       "      <th>3110</th>\n",
       "      <td>True</td>\n",
       "      <td>0500</td>\n",
       "      <td>235</td>\n",
       "      <td>MULTIPOLYGON (((211656.381 -486108.779, 211648...</td>\n",
       "      <td>1</td>\n",
       "      <td>3570856290</td>\n",
       "      <td>0</td>\n",
       "      <td>3977</td>\n",
       "      <td>10.0</td>\n",
       "      <td>10.0</td>\n",
       "      <td>NaN</td>\n",
       "      <td>NaN</td>\n",
       "      <td>hq_transit_corr</td>\n",
       "      <td>3</td>\n",
       "    </tr>\n",
       "  </tbody>\n",
       "</table>\n",
       "</div>"
      ],
      "text/plain": [
       "      hq_transit_corr shape_id  calitp_itp_id  \\\n",
       "3109             True     0500            142   \n",
       "3110             True     0500            235   \n",
       "\n",
       "                                               geometry  calitp_url_number  \\\n",
       "3109  MULTIPOLYGON (((211656.381 -486108.779, 211648...                  0   \n",
       "3110  MULTIPOLYGON (((211656.381 -486108.779, 211648...                  1   \n",
       "\n",
       "      hqta_segment_id segment_sequence stop_id  am_max_trips  pm_max_trips  \\\n",
       "3109       2197551287                0    3977          10.0          10.0   \n",
       "3110       3570856290                0    3977          10.0          10.0   \n",
       "\n",
       "      departure_hour   n        hqta_type route_type  \n",
       "3109             NaN NaN  hq_transit_corr          3  \n",
       "3110             NaN NaN  hq_transit_corr          3  "
      ]
     },
     "execution_count": 15,
     "metadata": {},
     "output_type": "execute_result"
    }
   ],
   "source": [
    "bus_hqtc >> head(2)"
   ]
  },
  {
   "cell_type": "code",
   "execution_count": 16,
   "id": "933b7ebc-b9e8-4a38-8bab-06564c165440",
   "metadata": {},
   "outputs": [],
   "source": [
    "bus_hqtc_formatted = bus_hqtc >> select(_.calitp_itp_id_primary == _.calitp_itp_id, _.stop_id, _.hqta_segment_id,\n",
    "                                        _.am_max_trips, _.pm_max_trips, _.hqta_type, _.geometry)\n",
    "bus_hqtc_formatted.hqta_type = 'hq_corridor_bus'\n",
    "bus_hqtc_formatted.calitp_itp_id_primary = bus_hqtc_formatted.calitp_itp_id_primary.astype('int64')\n",
    "bus_hqtc_formatted = bus_hqtc_formatted >> inner_join(_, names, on = 'calitp_itp_id_primary')"
   ]
  },
  {
   "cell_type": "code",
   "execution_count": 17,
   "id": "d308f239-a8fd-407f-a350-ff859d3b8e32",
   "metadata": {},
   "outputs": [],
   "source": [
    "all_hqta = pd.concat([major_stops_named, bus_hqtc_formatted])"
   ]
  },
  {
   "cell_type": "code",
   "execution_count": 18,
   "id": "578f2d3a-0732-4b48-9930-d71bf53a3664",
   "metadata": {},
   "outputs": [],
   "source": [
    "# tbl.gtfs_schedule.stops() >> filter(_.calitp_itp_id == 300, _.stop_id == '689')"
   ]
  },
  {
   "cell_type": "code",
   "execution_count": 19,
   "id": "334353c4-4094-4b29-b63a-97ab86b63f9e",
   "metadata": {},
   "outputs": [],
   "source": [
    "# tbl.gtfs_schedule.stops() >> filter(_.stop_id == '315608')"
   ]
  },
  {
   "cell_type": "code",
   "execution_count": 20,
   "id": "980b3a3a-4159-4e31-b4cb-1f760ecab3da",
   "metadata": {},
   "outputs": [],
   "source": [
    "# map_hqta(bus_hqtc, 'stop_id')"
   ]
  },
  {
   "cell_type": "code",
   "execution_count": 21,
   "id": "d0fcf6e0-acb6-4b68-a250-df03ab9a53e4",
   "metadata": {},
   "outputs": [
    {
     "data": {
      "text/html": [
       "<div>\n",
       "<style scoped>\n",
       "    .dataframe tbody tr th:only-of-type {\n",
       "        vertical-align: middle;\n",
       "    }\n",
       "\n",
       "    .dataframe tbody tr th {\n",
       "        vertical-align: top;\n",
       "    }\n",
       "\n",
       "    .dataframe thead th {\n",
       "        text-align: right;\n",
       "    }\n",
       "</style>\n",
       "<table border=\"1\" class=\"dataframe\">\n",
       "  <thead>\n",
       "    <tr style=\"text-align: right;\">\n",
       "      <th></th>\n",
       "      <th>hq_transit_corr</th>\n",
       "      <th>shape_id</th>\n",
       "      <th>calitp_itp_id</th>\n",
       "      <th>geometry</th>\n",
       "      <th>calitp_url_number</th>\n",
       "      <th>hqta_segment_id</th>\n",
       "      <th>segment_sequence</th>\n",
       "      <th>stop_id</th>\n",
       "      <th>am_max_trips</th>\n",
       "      <th>pm_max_trips</th>\n",
       "      <th>departure_hour</th>\n",
       "      <th>n</th>\n",
       "      <th>hqta_type</th>\n",
       "      <th>route_type</th>\n",
       "    </tr>\n",
       "  </thead>\n",
       "  <tbody>\n",
       "    <tr>\n",
       "      <th>3529</th>\n",
       "      <td>True</td>\n",
       "      <td>25889</td>\n",
       "      <td>300</td>\n",
       "      <td>MULTIPOLYGON (((146051.357 -439049.193, 146045...</td>\n",
       "      <td>0</td>\n",
       "      <td>582087555</td>\n",
       "      <td>6</td>\n",
       "      <td>689</td>\n",
       "      <td>8.0</td>\n",
       "      <td>8.0</td>\n",
       "      <td>NaN</td>\n",
       "      <td>NaN</td>\n",
       "      <td>hq_transit_corr</td>\n",
       "      <td>3</td>\n",
       "    </tr>\n",
       "  </tbody>\n",
       "</table>\n",
       "</div>"
      ],
      "text/plain": [
       "      hq_transit_corr shape_id  calitp_itp_id  \\\n",
       "3529             True    25889            300   \n",
       "\n",
       "                                               geometry  calitp_url_number  \\\n",
       "3529  MULTIPOLYGON (((146051.357 -439049.193, 146045...                  0   \n",
       "\n",
       "      hqta_segment_id segment_sequence stop_id  am_max_trips  pm_max_trips  \\\n",
       "3529        582087555                6     689           8.0           8.0   \n",
       "\n",
       "      departure_hour   n        hqta_type route_type  \n",
       "3529             NaN NaN  hq_transit_corr          3  "
      ]
     },
     "execution_count": 21,
     "metadata": {},
     "output_type": "execute_result"
    }
   ],
   "source": [
    "bus_hqtc >> filter(_.stop_id == '689')"
   ]
  },
  {
   "cell_type": "code",
   "execution_count": 22,
   "id": "ff24a9e3-fc47-4264-9ea4-59a3b30592db",
   "metadata": {},
   "outputs": [
    {
     "data": {
      "text/html": [
       "<div>\n",
       "<style scoped>\n",
       "    .dataframe tbody tr th:only-of-type {\n",
       "        vertical-align: middle;\n",
       "    }\n",
       "\n",
       "    .dataframe tbody tr th {\n",
       "        vertical-align: top;\n",
       "    }\n",
       "\n",
       "    .dataframe thead th {\n",
       "        text-align: right;\n",
       "    }\n",
       "</style>\n",
       "<table border=\"1\" class=\"dataframe\">\n",
       "  <thead>\n",
       "    <tr style=\"text-align: right;\">\n",
       "      <th></th>\n",
       "      <th>hq_transit_corr</th>\n",
       "      <th>shape_id</th>\n",
       "      <th>calitp_itp_id</th>\n",
       "      <th>geometry</th>\n",
       "      <th>calitp_url_number</th>\n",
       "      <th>hqta_segment_id</th>\n",
       "      <th>segment_sequence</th>\n",
       "      <th>stop_id</th>\n",
       "      <th>am_max_trips</th>\n",
       "      <th>pm_max_trips</th>\n",
       "      <th>departure_hour</th>\n",
       "      <th>n</th>\n",
       "      <th>hqta_type</th>\n",
       "      <th>route_type</th>\n",
       "    </tr>\n",
       "  </thead>\n",
       "  <tbody>\n",
       "    <tr>\n",
       "      <th>3947</th>\n",
       "      <td>True</td>\n",
       "      <td>SamTrans89:170546</td>\n",
       "      <td>290</td>\n",
       "      <td>MULTIPOLYGON (((-215212.254 -62247.563, -21521...</td>\n",
       "      <td>1</td>\n",
       "      <td>3580424079</td>\n",
       "      <td>34</td>\n",
       "      <td>315614</td>\n",
       "      <td>8.0</td>\n",
       "      <td>6.0</td>\n",
       "      <td>NaN</td>\n",
       "      <td>NaN</td>\n",
       "      <td>hq_transit_corr</td>\n",
       "      <td>3</td>\n",
       "    </tr>\n",
       "    <tr>\n",
       "      <th>3951</th>\n",
       "      <td>True</td>\n",
       "      <td>SamTrans89:2940211</td>\n",
       "      <td>290</td>\n",
       "      <td>MULTIPOLYGON (((-204097.961 -49854.746, -20408...</td>\n",
       "      <td>1</td>\n",
       "      <td>1305915797</td>\n",
       "      <td>0</td>\n",
       "      <td>315604</td>\n",
       "      <td>6.0</td>\n",
       "      <td>6.0</td>\n",
       "      <td>NaN</td>\n",
       "      <td>NaN</td>\n",
       "      <td>hq_transit_corr</td>\n",
       "      <td>3</td>\n",
       "    </tr>\n",
       "  </tbody>\n",
       "</table>\n",
       "</div>"
      ],
      "text/plain": [
       "      hq_transit_corr            shape_id  calitp_itp_id  \\\n",
       "3947             True   SamTrans89:170546            290   \n",
       "3951             True  SamTrans89:2940211            290   \n",
       "\n",
       "                                               geometry  calitp_url_number  \\\n",
       "3947  MULTIPOLYGON (((-215212.254 -62247.563, -21521...                  1   \n",
       "3951  MULTIPOLYGON (((-204097.961 -49854.746, -20408...                  1   \n",
       "\n",
       "      hqta_segment_id segment_sequence stop_id  am_max_trips  pm_max_trips  \\\n",
       "3947       3580424079               34  315614           8.0           6.0   \n",
       "3951       1305915797                0  315604           6.0           6.0   \n",
       "\n",
       "      departure_hour   n        hqta_type route_type  \n",
       "3947             NaN NaN  hq_transit_corr          3  \n",
       "3951             NaN NaN  hq_transit_corr          3  "
      ]
     },
     "execution_count": 22,
     "metadata": {},
     "output_type": "execute_result"
    }
   ],
   "source": [
    "bus_hqtc >> filter(_.stop_id.isin(['315604', '315614']))"
   ]
  },
  {
   "cell_type": "code",
   "execution_count": 23,
   "id": "4861a2e2-1969-46b6-b83c-be36cbb3dfaf",
   "metadata": {},
   "outputs": [],
   "source": [
    "all_hqta = all_hqta >> filter(_.stop_id != '315604', _.stop_id != '315614', _.stop_id != '689')\n",
    "## drop incorrect HMB data, TODO investigate\n",
    "## drop incorrect Cheviot data, TODO investigate refactor (run shapes in frequency order...)"
   ]
  },
  {
   "cell_type": "code",
   "execution_count": 24,
   "id": "96ea1b81-97d2-4d9f-986b-cb82fcb1d481",
   "metadata": {},
   "outputs": [],
   "source": [
    "all_hqta = all_hqta >> select(_.calitp_itp_id_primary, _.calitp_itp_id_secondary, _.agency_name_primary, _.hqta_type, _.geometry)\n",
    "all_hqta = all_hqta.reset_index(drop=True)\n",
    "# all_hqta['calitp_itp_id'] = all_hqta['calitp_itp_id'].astype('int64')"
   ]
  },
  {
   "cell_type": "code",
   "execution_count": 25,
   "id": "c233662a-e0c0-4e38-b6d6-ea8b709a46ed",
   "metadata": {},
   "outputs": [
    {
     "data": {
      "text/html": [
       "<div>\n",
       "<style scoped>\n",
       "    .dataframe tbody tr th:only-of-type {\n",
       "        vertical-align: middle;\n",
       "    }\n",
       "\n",
       "    .dataframe tbody tr th {\n",
       "        vertical-align: top;\n",
       "    }\n",
       "\n",
       "    .dataframe thead th {\n",
       "        text-align: right;\n",
       "    }\n",
       "</style>\n",
       "<table border=\"1\" class=\"dataframe\">\n",
       "  <thead>\n",
       "    <tr style=\"text-align: right;\">\n",
       "      <th></th>\n",
       "      <th>calitp_itp_id_primary</th>\n",
       "      <th>calitp_itp_id_secondary</th>\n",
       "      <th>agency_name_primary</th>\n",
       "      <th>hqta_type</th>\n",
       "      <th>geometry</th>\n",
       "    </tr>\n",
       "  </thead>\n",
       "  <tbody>\n",
       "    <tr>\n",
       "      <th>0</th>\n",
       "      <td>260</td>\n",
       "      <td>87.0</td>\n",
       "      <td>Beach Cities Transit</td>\n",
       "      <td>major_stop_bus</td>\n",
       "      <td>POLYGON ((686.60818 33.94913, 682.73188 -44.95...</td>\n",
       "    </tr>\n",
       "    <tr>\n",
       "      <th>1</th>\n",
       "      <td>260</td>\n",
       "      <td>182.0</td>\n",
       "      <td>Beach Cities Transit</td>\n",
       "      <td>major_stop_bus</td>\n",
       "      <td>POLYGON ((686.62970 33.89420, 682.75340 -45.00...</td>\n",
       "    </tr>\n",
       "    <tr>\n",
       "      <th>2</th>\n",
       "      <td>260</td>\n",
       "      <td>182.0</td>\n",
       "      <td>Beach Cities Transit</td>\n",
       "      <td>major_stop_bus</td>\n",
       "      <td>POLYGON ((686.63017 33.89507, 682.75387 -45.00...</td>\n",
       "    </tr>\n",
       "    <tr>\n",
       "      <th>3</th>\n",
       "      <td>300</td>\n",
       "      <td>87.0</td>\n",
       "      <td>Big Blue Bus</td>\n",
       "      <td>major_stop_bus</td>\n",
       "      <td>POLYGON ((686.60778 33.94974, 682.73148 -44.95...</td>\n",
       "    </tr>\n",
       "    <tr>\n",
       "      <th>4</th>\n",
       "      <td>300</td>\n",
       "      <td>87.0</td>\n",
       "      <td>Big Blue Bus</td>\n",
       "      <td>major_stop_bus</td>\n",
       "      <td>POLYGON ((686.60746 33.94975, 682.73116 -44.95...</td>\n",
       "    </tr>\n",
       "    <tr>\n",
       "      <th>...</th>\n",
       "      <td>...</td>\n",
       "      <td>...</td>\n",
       "      <td>...</td>\n",
       "      <td>...</td>\n",
       "      <td>...</td>\n",
       "    </tr>\n",
       "    <tr>\n",
       "      <th>7679</th>\n",
       "      <td>61</td>\n",
       "      <td>NaN</td>\n",
       "      <td>County Connection</td>\n",
       "      <td>hq_corridor_bus</td>\n",
       "      <td>POLYGON ((-179744.16608 -7132.10166, -179742.7...</td>\n",
       "    </tr>\n",
       "    <tr>\n",
       "      <th>7680</th>\n",
       "      <td>61</td>\n",
       "      <td>NaN</td>\n",
       "      <td>County Connection</td>\n",
       "      <td>hq_corridor_bus</td>\n",
       "      <td>POLYGON ((-179744.16608 -7132.10166, -179742.7...</td>\n",
       "    </tr>\n",
       "    <tr>\n",
       "      <th>7681</th>\n",
       "      <td>61</td>\n",
       "      <td>NaN</td>\n",
       "      <td>County Connection</td>\n",
       "      <td>hq_corridor_bus</td>\n",
       "      <td>POLYGON ((-182650.55053 -866.36348, -182662.99...</td>\n",
       "    </tr>\n",
       "    <tr>\n",
       "      <th>7682</th>\n",
       "      <td>61</td>\n",
       "      <td>NaN</td>\n",
       "      <td>County Connection</td>\n",
       "      <td>hq_corridor_bus</td>\n",
       "      <td>POLYGON ((-182650.55053 -866.36348, -182662.99...</td>\n",
       "    </tr>\n",
       "    <tr>\n",
       "      <th>7683</th>\n",
       "      <td>339</td>\n",
       "      <td>NaN</td>\n",
       "      <td>Torrance Transit System</td>\n",
       "      <td>hq_corridor_bus</td>\n",
       "      <td>POLYGON ((148267.50598 -462867.68516, 148266.2...</td>\n",
       "    </tr>\n",
       "  </tbody>\n",
       "</table>\n",
       "<p>7684 rows × 5 columns</p>\n",
       "</div>"
      ],
      "text/plain": [
       "      calitp_itp_id_primary  calitp_itp_id_secondary      agency_name_primary  \\\n",
       "0                       260                     87.0     Beach Cities Transit   \n",
       "1                       260                    182.0     Beach Cities Transit   \n",
       "2                       260                    182.0     Beach Cities Transit   \n",
       "3                       300                     87.0             Big Blue Bus   \n",
       "4                       300                     87.0             Big Blue Bus   \n",
       "...                     ...                      ...                      ...   \n",
       "7679                     61                      NaN        County Connection   \n",
       "7680                     61                      NaN        County Connection   \n",
       "7681                     61                      NaN        County Connection   \n",
       "7682                     61                      NaN        County Connection   \n",
       "7683                    339                      NaN  Torrance Transit System   \n",
       "\n",
       "            hqta_type                                           geometry  \n",
       "0      major_stop_bus  POLYGON ((686.60818 33.94913, 682.73188 -44.95...  \n",
       "1      major_stop_bus  POLYGON ((686.62970 33.89420, 682.75340 -45.00...  \n",
       "2      major_stop_bus  POLYGON ((686.63017 33.89507, 682.75387 -45.00...  \n",
       "3      major_stop_bus  POLYGON ((686.60778 33.94974, 682.73148 -44.95...  \n",
       "4      major_stop_bus  POLYGON ((686.60746 33.94975, 682.73116 -44.95...  \n",
       "...               ...                                                ...  \n",
       "7679  hq_corridor_bus  POLYGON ((-179744.16608 -7132.10166, -179742.7...  \n",
       "7680  hq_corridor_bus  POLYGON ((-179744.16608 -7132.10166, -179742.7...  \n",
       "7681  hq_corridor_bus  POLYGON ((-182650.55053 -866.36348, -182662.99...  \n",
       "7682  hq_corridor_bus  POLYGON ((-182650.55053 -866.36348, -182662.99...  \n",
       "7683  hq_corridor_bus  POLYGON ((148267.50598 -462867.68516, 148266.2...  \n",
       "\n",
       "[7684 rows x 5 columns]"
      ]
     },
     "execution_count": 25,
     "metadata": {},
     "output_type": "execute_result"
    }
   ],
   "source": [
    "all_hqta"
   ]
  },
  {
   "cell_type": "code",
   "execution_count": 26,
   "id": "4547c877-721c-4305-80ac-b01ffcb8001b",
   "metadata": {},
   "outputs": [],
   "source": [
    "all_hqta['agency_name_secondary'] = all_hqta.apply(lambda x: name_dict[int(x.calitp_itp_id_secondary)]\\\n",
    "        if not np.isnan(x.calitp_itp_id_secondary) and int(x.calitp_itp_id_secondary) in name_dict.keys() else np.nan, axis = 1)"
   ]
  },
  {
   "cell_type": "code",
   "execution_count": 27,
   "id": "642c1baf-031a-417a-a83f-add1e0e1af44",
   "metadata": {},
   "outputs": [],
   "source": [
    "all_hqta['hqta_details'] = all_hqta.apply(hqta_details, axis=1)"
   ]
  },
  {
   "cell_type": "code",
   "execution_count": 28,
   "id": "dcc1748a-de39-47ce-bca6-c496479989be",
   "metadata": {},
   "outputs": [],
   "source": [
    "all_hqta = all_hqta >> select(_.calitp_itp_id_primary, _.agency_name_primary, _.hqta_type,\n",
    "                              _.calitp_itp_id_secondary, _.agency_name_secondary, _.hqta_details,\n",
    "                              _.geometry)"
   ]
  },
  {
   "cell_type": "code",
   "execution_count": 110,
   "id": "0a1d2d95-c0bb-44ca-b3b2-32a49c23107a",
   "metadata": {},
   "outputs": [],
   "source": [
    "# map_hqta(all_hqta, 'agency_name_primary')"
   ]
  },
  {
   "cell_type": "code",
   "execution_count": 83,
   "id": "d184c5ae-547a-4dd8-b58d-5f5b3e6e335a",
   "metadata": {},
   "outputs": [],
   "source": [
    "# ## TODO add check that folder exists/mkdir...\n",
    "# all_hqta.to_file(f'{GCS_FILE_PATH}export/{analysis_date.isoformat()}/ca_hq_transit_areas.geojsonl',\n",
    "#                 driver='GeoJSONSeq')"
   ]
  },
  {
   "cell_type": "code",
   "execution_count": 11,
   "id": "3d81ffa0-0ef4-47ee-b2db-8aeb04a0e227",
   "metadata": {},
   "outputs": [],
   "source": [
    "all_hqta = gpd.read_file('./ca_hq_transit_areas.geojsonl')"
   ]
  },
  {
   "cell_type": "code",
   "execution_count": 12,
   "id": "1d609aad-8507-496e-9690-3b4c1b3a93ea",
   "metadata": {},
   "outputs": [],
   "source": [
    "all_hqta = all_hqta.to_crs(shared_utils.geography_utils.WGS84)"
   ]
  },
  {
   "cell_type": "code",
   "execution_count": 13,
   "id": "ad448d47-73b2-43a8-a1b1-7312c36c1505",
   "metadata": {},
   "outputs": [
    {
     "name": "stderr",
     "output_type": "stream",
     "text": [
      "/opt/conda/lib/python3.10/site-packages/geopandas/io/file.py:362: FutureWarning: pandas.Int64Index is deprecated and will be removed from pandas in a future version. Use pandas.Index with the appropriate dtype instead.\n",
      "/opt/conda/lib/python3.10/site-packages/geopandas/io/file.py:362: FutureWarning: pandas.Int64Index is deprecated and will be removed from pandas in a future version. Use pandas.Index with the appropriate dtype instead.\n"
     ]
    }
   ],
   "source": [
    "all_hqta.to_file('./ca_hq_transit_areas.geojsonl', driver='GeoJSONSeq')\n",
    "all_hqta.to_file('./ca_hq_transit_areas.geojson', driver='GeoJSON')"
   ]
  },
  {
   "cell_type": "markdown",
   "id": "d282f006-7c92-4f99-9afc-b124f7b75dd5",
   "metadata": {},
   "source": [
    "### Filling Out Documentation"
   ]
  },
  {
   "cell_type": "code",
   "execution_count": 29,
   "id": "81c8c624-e186-4a9a-be46-7346fd1efe7a",
   "metadata": {},
   "outputs": [
    {
     "data": {
      "text/html": [
       "<div>\n",
       "<style scoped>\n",
       "    .dataframe tbody tr th:only-of-type {\n",
       "        vertical-align: middle;\n",
       "    }\n",
       "\n",
       "    .dataframe tbody tr th {\n",
       "        vertical-align: top;\n",
       "    }\n",
       "\n",
       "    .dataframe thead th {\n",
       "        text-align: right;\n",
       "    }\n",
       "</style>\n",
       "<table border=\"1\" class=\"dataframe\">\n",
       "  <thead>\n",
       "    <tr style=\"text-align: right;\">\n",
       "      <th></th>\n",
       "      <th>calitp_itp_id_primary</th>\n",
       "      <th>agency_name_primary</th>\n",
       "      <th>hqta_type</th>\n",
       "      <th>calitp_itp_id_secondary</th>\n",
       "      <th>agency_name_secondary</th>\n",
       "      <th>hqta_details</th>\n",
       "      <th>geometry</th>\n",
       "    </tr>\n",
       "  </thead>\n",
       "  <tbody>\n",
       "    <tr>\n",
       "      <th>0</th>\n",
       "      <td>260</td>\n",
       "      <td>Beach Cities Transit</td>\n",
       "      <td>major_stop_bus</td>\n",
       "      <td>87.0</td>\n",
       "      <td>Culver CityBus</td>\n",
       "      <td>intersection_2_bus_routes_different_operators</td>\n",
       "      <td>POLYGON ((686.60818 33.94913, 682.73188 -44.95...</td>\n",
       "    </tr>\n",
       "    <tr>\n",
       "      <th>1</th>\n",
       "      <td>260</td>\n",
       "      <td>Beach Cities Transit</td>\n",
       "      <td>major_stop_bus</td>\n",
       "      <td>182.0</td>\n",
       "      <td>Metro</td>\n",
       "      <td>intersection_2_bus_routes_different_operators</td>\n",
       "      <td>POLYGON ((686.62970 33.89420, 682.75340 -45.00...</td>\n",
       "    </tr>\n",
       "    <tr>\n",
       "      <th>2</th>\n",
       "      <td>260</td>\n",
       "      <td>Beach Cities Transit</td>\n",
       "      <td>major_stop_bus</td>\n",
       "      <td>182.0</td>\n",
       "      <td>Metro</td>\n",
       "      <td>intersection_2_bus_routes_different_operators</td>\n",
       "      <td>POLYGON ((686.63017 33.89507, 682.75387 -45.00...</td>\n",
       "    </tr>\n",
       "  </tbody>\n",
       "</table>\n",
       "</div>"
      ],
      "text/plain": [
       "   calitp_itp_id_primary   agency_name_primary       hqta_type  \\\n",
       "0                    260  Beach Cities Transit  major_stop_bus   \n",
       "1                    260  Beach Cities Transit  major_stop_bus   \n",
       "2                    260  Beach Cities Transit  major_stop_bus   \n",
       "\n",
       "   calitp_itp_id_secondary agency_name_secondary  \\\n",
       "0                     87.0        Culver CityBus   \n",
       "1                    182.0                 Metro   \n",
       "2                    182.0                 Metro   \n",
       "\n",
       "                                    hqta_details  \\\n",
       "0  intersection_2_bus_routes_different_operators   \n",
       "1  intersection_2_bus_routes_different_operators   \n",
       "2  intersection_2_bus_routes_different_operators   \n",
       "\n",
       "                                            geometry  \n",
       "0  POLYGON ((686.60818 33.94913, 682.73188 -44.95...  \n",
       "1  POLYGON ((686.62970 33.89420, 682.75340 -45.00...  \n",
       "2  POLYGON ((686.63017 33.89507, 682.75387 -45.00...  "
      ]
     },
     "execution_count": 29,
     "metadata": {},
     "output_type": "execute_result"
    }
   ],
   "source": [
    "all_hqta >> head(3)"
   ]
  },
  {
   "cell_type": "code",
   "execution_count": 86,
   "id": "019b810f-ae9b-489b-b6eb-6c7ed144a902",
   "metadata": {},
   "outputs": [
    {
     "data": {
      "text/plain": [
       "calitp_itp_id_primary         int64\n",
       "agency_name_primary          object\n",
       "hqta_type                    object\n",
       "calitp_itp_id_secondary     float64\n",
       "agency_name_secondary       float64\n",
       "geometry                   geometry\n",
       "dtype: object"
      ]
     },
     "execution_count": 86,
     "metadata": {},
     "output_type": "execute_result"
    }
   ],
   "source": [
    "all_hqta.dtypes"
   ]
  },
  {
   "cell_type": "code",
   "execution_count": 87,
   "id": "f802beea-554d-49cb-8a2a-07af66dc2291",
   "metadata": {},
   "outputs": [
    {
     "data": {
      "text/html": [
       "<div>\n",
       "<style scoped>\n",
       "    .dataframe tbody tr th:only-of-type {\n",
       "        vertical-align: middle;\n",
       "    }\n",
       "\n",
       "    .dataframe tbody tr th {\n",
       "        vertical-align: top;\n",
       "    }\n",
       "\n",
       "    .dataframe thead th {\n",
       "        text-align: right;\n",
       "    }\n",
       "</style>\n",
       "<table border=\"1\" class=\"dataframe\">\n",
       "  <thead>\n",
       "    <tr style=\"text-align: right;\">\n",
       "      <th></th>\n",
       "      <th>calitp_itp_id_primary</th>\n",
       "      <th>agency_name_primary</th>\n",
       "      <th>stop_id</th>\n",
       "      <th>hqta_type</th>\n",
       "      <th>calitp_itp_id_secondary</th>\n",
       "      <th>agency_name_secondary</th>\n",
       "      <th>geometry</th>\n",
       "    </tr>\n",
       "  </thead>\n",
       "  <tbody>\n",
       "    <tr>\n",
       "      <th>0</th>\n",
       "      <td>260</td>\n",
       "      <td>Beach Cities Transit</td>\n",
       "      <td>201</td>\n",
       "      <td>major_stop_bus</td>\n",
       "      <td>87.0</td>\n",
       "      <td>NaN</td>\n",
       "      <td>POINT (148659.946 -450548.591)</td>\n",
       "    </tr>\n",
       "    <tr>\n",
       "      <th>1</th>\n",
       "      <td>260</td>\n",
       "      <td>Beach Cities Transit</td>\n",
       "      <td>402</td>\n",
       "      <td>major_stop_bus</td>\n",
       "      <td>182.0</td>\n",
       "      <td>NaN</td>\n",
       "      <td>POINT (150753.681 -456605.934)</td>\n",
       "    </tr>\n",
       "    <tr>\n",
       "      <th>2</th>\n",
       "      <td>260</td>\n",
       "      <td>Beach Cities Transit</td>\n",
       "      <td>401</td>\n",
       "      <td>major_stop_bus</td>\n",
       "      <td>182.0</td>\n",
       "      <td>NaN</td>\n",
       "      <td>POINT (150795.591 -456508.930)</td>\n",
       "    </tr>\n",
       "  </tbody>\n",
       "</table>\n",
       "</div>"
      ],
      "text/plain": [
       "   calitp_itp_id_primary   agency_name_primary stop_id       hqta_type  \\\n",
       "0                    260  Beach Cities Transit     201  major_stop_bus   \n",
       "1                    260  Beach Cities Transit     402  major_stop_bus   \n",
       "2                    260  Beach Cities Transit     401  major_stop_bus   \n",
       "\n",
       "   calitp_itp_id_secondary  agency_name_secondary  \\\n",
       "0                     87.0                    NaN   \n",
       "1                    182.0                    NaN   \n",
       "2                    182.0                    NaN   \n",
       "\n",
       "                         geometry  \n",
       "0  POINT (148659.946 -450548.591)  \n",
       "1  POINT (150753.681 -456605.934)  \n",
       "2  POINT (150795.591 -456508.930)  "
      ]
     },
     "execution_count": 87,
     "metadata": {},
     "output_type": "execute_result"
    }
   ],
   "source": [
    "with_names >> head(3)"
   ]
  },
  {
   "cell_type": "code",
   "execution_count": 88,
   "id": "a80c41d6-9e20-4692-b1a2-d58fbcfae8a5",
   "metadata": {},
   "outputs": [
    {
     "data": {
      "text/plain": [
       "calitp_itp_id_primary         int64\n",
       "agency_name_primary          object\n",
       "stop_id                      object\n",
       "hqta_type                    object\n",
       "calitp_itp_id_secondary     float64\n",
       "agency_name_secondary       float64\n",
       "geometry                   geometry\n",
       "dtype: object"
      ]
     },
     "execution_count": 88,
     "metadata": {},
     "output_type": "execute_result"
    }
   ],
   "source": [
    "with_names.dtypes"
   ]
  },
  {
   "cell_type": "code",
   "execution_count": 89,
   "id": "a7c38277-7a2a-4a1a-99f9-d1d1830baa60",
   "metadata": {},
   "outputs": [
    {
     "data": {
      "text/plain": [
       "array(['major_stop_bus', 'hq_corridor_bus', 'major_stop_rail',\n",
       "       'major_stop_brt', 'major_stop_ferry'], dtype=object)"
      ]
     },
     "execution_count": 89,
     "metadata": {},
     "output_type": "execute_result"
    }
   ],
   "source": [
    "with_names.hqta_type.unique()"
   ]
  },
  {
   "cell_type": "code",
   "execution_count": 90,
   "id": "4a242fc8-20f3-4713-8644-c3995bbf33db",
   "metadata": {},
   "outputs": [
    {
     "data": {
      "text/plain": [
       "array(['major_stop_bus', 'major_stop_rail', 'major_stop_brt',\n",
       "       'major_stop_ferry', 'hq_corridor_bus'], dtype=object)"
      ]
     },
     "execution_count": 90,
     "metadata": {},
     "output_type": "execute_result"
    }
   ],
   "source": [
    "all_hqta.hqta_type.unique()"
   ]
  },
  {
   "cell_type": "code",
   "execution_count": 91,
   "id": "31483b34-a307-4d6d-b9b5-b509bd18755c",
   "metadata": {},
   "outputs": [
    {
     "data": {
      "text/plain": [
       "16"
      ]
     },
     "execution_count": 91,
     "metadata": {},
     "output_type": "execute_result"
    }
   ],
   "source": [
    "all_hqta.hqta_type.str.len().max()"
   ]
  },
  {
   "cell_type": "code",
   "execution_count": 92,
   "id": "b0e08549-86b0-4d42-bf7d-5933771327bc",
   "metadata": {},
   "outputs": [
    {
     "data": {
      "text/plain": [
       "57"
      ]
     },
     "execution_count": 92,
     "metadata": {},
     "output_type": "execute_result"
    }
   ],
   "source": [
    "all_hqta.agency_name_primary.str.len().max()"
   ]
  }
 ],
 "metadata": {
  "kernelspec": {
   "display_name": "Python 3 (ipykernel)",
   "language": "python",
   "name": "python3"
  },
  "language_info": {
   "codemirror_mode": {
    "name": "ipython",
    "version": 3
   },
   "file_extension": ".py",
   "mimetype": "text/x-python",
   "name": "python",
   "nbconvert_exporter": "python",
   "pygments_lexer": "ipython3",
   "version": "3.10.4"
  }
 },
 "nbformat": 4,
 "nbformat_minor": 5
}
