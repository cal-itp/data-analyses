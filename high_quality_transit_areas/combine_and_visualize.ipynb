{
 "cells": [
  {
   "cell_type": "code",
   "execution_count": 2,
   "id": "7f9e615b-d071-4728-b774-1d02f509c332",
   "metadata": {
    "tags": []
   },
   "outputs": [],
   "source": [
    "# !pip install -r requirements.txt"
   ]
  },
  {
   "cell_type": "code",
   "execution_count": 1,
   "id": "4d53c57e-0777-4c0d-9dc6-4954c95ed307",
   "metadata": {},
   "outputs": [
    {
     "name": "stderr",
     "output_type": "stream",
     "text": [
      "/opt/conda/lib/python3.9/site-packages/geopandas/_compat.py:111: UserWarning: The Shapely GEOS version (3.10.2-CAPI-1.16.0) is incompatible with the GEOS version PyGEOS was compiled with (3.10.1-CAPI-1.16.0). Conversions between both will be slow.\n",
      "  warnings.warn(\n",
      "E0503 21:11:11.880976186    1012 fork_posix.cc:70]           Fork support is only compatible with the epoll1 and poll polling strategies\n",
      "E0503 21:11:14.254041401    1012 fork_posix.cc:70]           Fork support is only compatible with the epoll1 and poll polling strategies\n"
     ]
    }
   ],
   "source": [
    "import calitp\n",
    "from calitp.tables import tbl\n",
    "from siuba import *\n",
    "\n",
    "import pandas as pd\n",
    "import numpy as np\n",
    "import geopandas as gpd\n",
    "import fiona\n",
    "import shapely\n",
    "\n",
    "from ipyleaflet import Map, GeoJSON, projections, basemaps, GeoData, LayersControl, WidgetControl, GeoJSON\n",
    "from ipywidgets import Text, HTML\n",
    "\n",
    "from utilities import *"
   ]
  },
  {
   "cell_type": "code",
   "execution_count": 2,
   "id": "e31ad027-1acc-44f8-bdd6-31f1b9b36a77",
   "metadata": {},
   "outputs": [],
   "source": [
    "bus_hqtc = gpd.read_parquet(f'{GCS_FILE_PATH}intermediate/shape_dissolve.parquet')\n",
    "bus_hqtc = bus_hqtc[bus_hqtc['hq_transit_corr']]\n",
    "bus_hqtc['hqta_type'] = 'hq_transit_corr'\n",
    "bus_hqtc['route_type'] = '3'"
   ]
  },
  {
   "cell_type": "code",
   "execution_count": 3,
   "id": "bcbea24e-ab7e-400a-8813-6a477471c1d6",
   "metadata": {},
   "outputs": [],
   "source": [
    "rail_ferry_brt_stops = gpd.read_parquet(f'{GCS_FILE_PATH}rail_brt_ferry.parquet')\n",
    "rail_ferry_brt_stops['hqta_type'] = 'major_transit_stop'"
   ]
  },
  {
   "cell_type": "code",
   "execution_count": 4,
   "id": "6aec4721-0827-40f3-be60-0790916b0385",
   "metadata": {},
   "outputs": [
    {
     "data": {
      "text/plain": [
       "Index(['calitp_itp_id', 'calitp_url_number', 'stop_id', 'stop_lat', 'stop_lon',\n",
       "       'route_type', 'geometry', 'hqta_type'],\n",
       "      dtype='object')"
      ]
     },
     "execution_count": 4,
     "metadata": {},
     "output_type": "execute_result"
    }
   ],
   "source": [
    "rail_ferry_brt_stops.columns"
   ]
  },
  {
   "cell_type": "code",
   "execution_count": 5,
   "id": "0e807584-dfb2-4385-b274-7276b0bc38d0",
   "metadata": {
    "tags": []
   },
   "outputs": [],
   "source": [
    "# geoparquet_gcs_export(bus_hqtc, 'bus_hqtc')"
   ]
  },
  {
   "cell_type": "code",
   "execution_count": 6,
   "id": "3b9a9f5e-6371-4367-978c-c0be0e6d979f",
   "metadata": {
    "tags": []
   },
   "outputs": [],
   "source": [
    "# geoparquet_gcs_export(rail_ferry_brt_stops, 'rail_ferry_brt_stops')"
   ]
  },
  {
   "cell_type": "markdown",
   "id": "c9163e6d-212d-4b33-acb3-38b0b88fe9cb",
   "metadata": {},
   "source": [
    "### High Quality Transit Areas Relevant Statutes\n",
    "\n",
    "[PRC 21155](https://leginfo.legislature.ca.gov/faces/codes_displaySection.xhtml?sectionNum=21155.&lawCode=PRC)\n",
    "* _(3) be within one-half mile of a major transit stop or high-quality transit corridor included in a regional transportation plan._\n",
    "* Major transit stop definition: _A major transit stop is as defined in Section 21064.3, except that, for purposes of this section, it also includes major transit stops that are included in the applicable regional transportation plan_\n",
    "* High-quality transit corridor definition: _For purposes of this section, a high-quality transit corridor means a corridor with fixed route bus service with service intervals no longer than 15 minutes during peak commute hours._\n",
    "    * Unable to locate definition of \"peak commute hours\"\n",
    "\n",
    "[PRC 21064.3](https://leginfo.legislature.ca.gov/faces/codes_displaySection.xhtml?sectionNum=21064.3.&lawCode=PRC)\n",
    "* _Major transit stop means a site containing any of the following:\n",
    "(a) An existing rail or bus rapid transit station.\n",
    "(b) A ferry terminal served by either a bus or rail transit service.\n",
    "(c) The intersection of two or more major bus routes with a frequency of service interval of 15 minutes or less during the morning and afternoon peak commute periods._\n",
    "    * \"Intersection\" may not be sufficiently well-defined for this analysis\n",
    "\n",
    "[PRC 21060.2](https://leginfo.legislature.ca.gov/faces/codes_displaySection.xhtml?lawCode=PRC&sectionNum=21060.2.&highlight=true&keyword=bus%20rapid%20transit)\n",
    "* _(a) “Bus rapid transit” means a public mass transit service provided by a public agency or by a public-private partnership that includes all of the following features:\n",
    "(1) Full-time dedicated bus lanes or operation in a separate right-of-way dedicated for public transportation with a frequency of service interval of 15 minutes or less during the morning and afternoon peak commute periods.\n",
    "(2) Transit signal priority.\n",
    "(3) All-door boarding.\n",
    "(4) Fare collection system that promotes efficiency.\n",
    "(5) Defined stations._\n",
    "    * Unlikely to determine if a service qualifies as BRT under this definition using GTFS alone"
   ]
  },
  {
   "cell_type": "markdown",
   "id": "abd74f0f-d4d6-4e12-9501-09df49e38ed2",
   "metadata": {},
   "source": [
    "## Bus Major Stops"
   ]
  },
  {
   "cell_type": "code",
   "execution_count": 7,
   "id": "441de95c-34c4-46bd-a95c-bfa0fd0338ea",
   "metadata": {},
   "outputs": [
    {
     "data": {
      "text/html": [
       "<div>\n",
       "<style scoped>\n",
       "    .dataframe tbody tr th:only-of-type {\n",
       "        vertical-align: middle;\n",
       "    }\n",
       "\n",
       "    .dataframe tbody tr th {\n",
       "        vertical-align: top;\n",
       "    }\n",
       "\n",
       "    .dataframe thead th {\n",
       "        text-align: right;\n",
       "    }\n",
       "</style>\n",
       "<table border=\"1\" class=\"dataframe\">\n",
       "  <thead>\n",
       "    <tr style=\"text-align: right;\">\n",
       "      <th></th>\n",
       "      <th>hq_transit_corr</th>\n",
       "      <th>shape_id</th>\n",
       "      <th>geometry</th>\n",
       "      <th>calitp_itp_id</th>\n",
       "      <th>hqta_segment_id</th>\n",
       "      <th>segment_sequence</th>\n",
       "      <th>stop_id</th>\n",
       "      <th>am_max_trips</th>\n",
       "      <th>pm_max_trips</th>\n",
       "      <th>departure_hour</th>\n",
       "      <th>n</th>\n",
       "      <th>hqta_type</th>\n",
       "      <th>route_type</th>\n",
       "    </tr>\n",
       "  </thead>\n",
       "  <tbody>\n",
       "    <tr>\n",
       "      <th>2755</th>\n",
       "      <td>True</td>\n",
       "      <td>0500</td>\n",
       "      <td>MULTIPOLYGON (((212402.267 -486786.382, 212428...</td>\n",
       "      <td>142</td>\n",
       "      <td>2197551287</td>\n",
       "      <td>0</td>\n",
       "      <td>3977</td>\n",
       "      <td>10.0</td>\n",
       "      <td>9.0</td>\n",
       "      <td>NaN</td>\n",
       "      <td>NaN</td>\n",
       "      <td>hq_transit_corr</td>\n",
       "      <td>3</td>\n",
       "    </tr>\n",
       "    <tr>\n",
       "      <th>2756</th>\n",
       "      <td>True</td>\n",
       "      <td>0843</td>\n",
       "      <td>MULTIPOLYGON (((200815.727 -472198.441, 200811...</td>\n",
       "      <td>142</td>\n",
       "      <td>1555422069</td>\n",
       "      <td>0</td>\n",
       "      <td>6679</td>\n",
       "      <td>5.0</td>\n",
       "      <td>6.0</td>\n",
       "      <td>NaN</td>\n",
       "      <td>NaN</td>\n",
       "      <td>hq_transit_corr</td>\n",
       "      <td>3</td>\n",
       "    </tr>\n",
       "    <tr>\n",
       "      <th>2758</th>\n",
       "      <td>True</td>\n",
       "      <td>10</td>\n",
       "      <td>MULTIPOLYGON (((170484.804 -424390.901, 170484...</td>\n",
       "      <td>243</td>\n",
       "      <td>3850303330</td>\n",
       "      <td>1</td>\n",
       "      <td>147</td>\n",
       "      <td>10.0</td>\n",
       "      <td>12.0</td>\n",
       "      <td>NaN</td>\n",
       "      <td>NaN</td>\n",
       "      <td>hq_transit_corr</td>\n",
       "      <td>3</td>\n",
       "    </tr>\n",
       "  </tbody>\n",
       "</table>\n",
       "</div>"
      ],
      "text/plain": [
       "      hq_transit_corr shape_id  \\\n",
       "2755             True     0500   \n",
       "2756             True     0843   \n",
       "2758             True       10   \n",
       "\n",
       "                                               geometry calitp_itp_id  \\\n",
       "2755  MULTIPOLYGON (((212402.267 -486786.382, 212428...           142   \n",
       "2756  MULTIPOLYGON (((200815.727 -472198.441, 200811...           142   \n",
       "2758  MULTIPOLYGON (((170484.804 -424390.901, 170484...           243   \n",
       "\n",
       "      hqta_segment_id segment_sequence stop_id  am_max_trips  pm_max_trips  \\\n",
       "2755       2197551287                0    3977          10.0           9.0   \n",
       "2756       1555422069                0    6679           5.0           6.0   \n",
       "2758       3850303330                1     147          10.0          12.0   \n",
       "\n",
       "      departure_hour   n        hqta_type route_type  \n",
       "2755             NaN NaN  hq_transit_corr          3  \n",
       "2756             NaN NaN  hq_transit_corr          3  \n",
       "2758             NaN NaN  hq_transit_corr          3  "
      ]
     },
     "execution_count": 7,
     "metadata": {},
     "output_type": "execute_result"
    }
   ],
   "source": [
    "bus_hqtc.head(3)"
   ]
  },
  {
   "cell_type": "code",
   "execution_count": 8,
   "id": "f104e680-a949-4e07-a4dd-19950207c66f",
   "metadata": {},
   "outputs": [],
   "source": [
    "gdf = bus_hqtc\n",
    "output = gpd.GeoDataFrame()\n",
    "\n",
    "def find_intersections(row):\n",
    "    global output\n",
    "    # display(row)\n",
    "    # display(row.shape_id)\n",
    "    this_row = gdf >> filter(_.shape_id == row.shape_id)\n",
    "    not_this_row = gdf >> filter(_.shape_id != row.shape_id)\n",
    "    # print(type(filtered))\n",
    "    clip_row = gpd.clip(this_row, not_this_row)\n",
    "    output = output.append(clip_row)\n",
    "    return"
   ]
  },
  {
   "cell_type": "code",
   "execution_count": 9,
   "id": "96caf70f-e497-4df4-9b1a-20b54f7b7f83",
   "metadata": {},
   "outputs": [],
   "source": [
    "# _test = bus_hqtc.apply(find_intersections, axis=1)"
   ]
  },
  {
   "cell_type": "code",
   "execution_count": 10,
   "id": "cdb9023e-8397-4eed-b829-0ab22ee26580",
   "metadata": {},
   "outputs": [],
   "source": [
    "# output.geometry = output.geometry.buffer(50)"
   ]
  },
  {
   "cell_type": "code",
   "execution_count": 11,
   "id": "a54925c8-cb64-452f-b8ac-18407ed3f9d6",
   "metadata": {},
   "outputs": [],
   "source": [
    "# geoparquet_gcs_export(output, 'major_bus_stops_working')"
   ]
  },
  {
   "cell_type": "code",
   "execution_count": 12,
   "id": "c3f748fa-861d-4d7c-b005-480d6ecc30a2",
   "metadata": {},
   "outputs": [],
   "source": [
    "# major_bus = gpd.read_parquet(f'{GCS_FILE_PATH}major_bus_stops_working.parquet')"
   ]
  },
  {
   "cell_type": "code",
   "execution_count": 13,
   "id": "ca09eb4e-97b4-48b6-ba21-542ac35c8ceb",
   "metadata": {},
   "outputs": [],
   "source": [
    "def drop_big_areas(geometry):\n",
    "    if type(geometry) == shapely.geometry.multipolygon.MultiPolygon:\n",
    "        filtered = [x for x in list(geometry.geoms) if x.length < 1000]\n",
    "        if len(filtered) > 0:\n",
    "            return shapely.geometry.MultiPolygon(filtered)\n",
    "    elif type(geometry) == shapely.geometry.polygon.Polygon:\n",
    "        if geometry.length < 1000:\n",
    "            return geometry\n",
    "    else:\n",
    "        return np.nan"
   ]
  },
  {
   "cell_type": "code",
   "execution_count": 14,
   "id": "82e5d819-63dc-4ba3-a9f9-c314f5a4ca33",
   "metadata": {},
   "outputs": [],
   "source": [
    "# major_bus['geometry'] = major_bus.geometry.apply(drop_big_areas)"
   ]
  },
  {
   "cell_type": "code",
   "execution_count": 15,
   "id": "6273ed98-b5a2-4e83-bfac-9f487f8c6142",
   "metadata": {},
   "outputs": [],
   "source": [
    "row_per_stop = gpd.GeoDataFrame()\n",
    "def explode_geoms(row):\n",
    "    global row_per_stop\n",
    "    if type(row.geometry) == shapely.geometry.multipolygon.MultiPolygon:\n",
    "        for geom in row.geometry.geoms:\n",
    "            row.geometry = geom.centroid\n",
    "            row_per_stop = row_per_stop.append(row)\n",
    "    elif type(row.geometry) == shapely.geometry.polygon.Polygon:\n",
    "        row.geometry = row.geometry.centroid\n",
    "        row_per_stop = row_per_stop.append(row)\n",
    "    \n",
    "    return row"
   ]
  },
  {
   "cell_type": "code",
   "execution_count": 16,
   "id": "280f79d2-ed38-419d-be89-653167b1efec",
   "metadata": {},
   "outputs": [],
   "source": [
    "# major_bus = major_bus.dropna(subset=['geometry'])\n",
    "\n",
    "# major_bus.apply(explode_geoms, axis=1)\n",
    "\n",
    "# row_per_stop = row_per_stop.reset_index(drop=True)\n",
    "\n",
    "# row_per_stop = row_per_stop[['calitp_itp_id', 'stop_id', 'geometry']]\n",
    "\n",
    "# row_per_stop['hqta_type'] = 'major_transit_stop'\n",
    "\n",
    "# row_per_stop = row_per_stop.set_crs('EPSG:6414')"
   ]
  },
  {
   "cell_type": "code",
   "execution_count": 17,
   "id": "d01200cc-cda2-4635-af68-3b8448e70b5a",
   "metadata": {},
   "outputs": [],
   "source": [
    "# row_per_stop.head(3)"
   ]
  },
  {
   "cell_type": "code",
   "execution_count": 18,
   "id": "5bbfaa07-f16c-46a9-ae5e-338a5b7f5d8b",
   "metadata": {},
   "outputs": [],
   "source": [
    "# geoparquet_gcs_export(row_per_stop, 'major_bus_stops')"
   ]
  },
  {
   "cell_type": "code",
   "execution_count": 19,
   "id": "87dbcdc7-79f0-48e4-91d4-647cdb087cf5",
   "metadata": {},
   "outputs": [],
   "source": [
    "major_bus_stops = gpd.read_parquet(f'{GCS_FILE_PATH}major_bus_stops.parquet')"
   ]
  },
  {
   "cell_type": "code",
   "execution_count": 20,
   "id": "e3e8c306-a89f-438f-8f0e-5e165e257cb6",
   "metadata": {},
   "outputs": [
    {
     "data": {
      "text/html": [
       "<div>\n",
       "<style scoped>\n",
       "    .dataframe tbody tr th:only-of-type {\n",
       "        vertical-align: middle;\n",
       "    }\n",
       "\n",
       "    .dataframe tbody tr th {\n",
       "        vertical-align: top;\n",
       "    }\n",
       "\n",
       "    .dataframe thead th {\n",
       "        text-align: right;\n",
       "    }\n",
       "</style>\n",
       "<table border=\"1\" class=\"dataframe\">\n",
       "  <thead>\n",
       "    <tr style=\"text-align: right;\">\n",
       "      <th></th>\n",
       "      <th>calitp_itp_id</th>\n",
       "      <th>stop_id</th>\n",
       "      <th>geometry</th>\n",
       "      <th>hqta_type</th>\n",
       "    </tr>\n",
       "  </thead>\n",
       "  <tbody>\n",
       "    <tr>\n",
       "      <th>0</th>\n",
       "      <td>142</td>\n",
       "      <td>3977</td>\n",
       "      <td>POINT (199058.382 -471125.032)</td>\n",
       "      <td>major_transit_stop</td>\n",
       "    </tr>\n",
       "    <tr>\n",
       "      <th>1</th>\n",
       "      <td>142</td>\n",
       "      <td>3977</td>\n",
       "      <td>POINT (198531.592 -471368.189)</td>\n",
       "      <td>major_transit_stop</td>\n",
       "    </tr>\n",
       "    <tr>\n",
       "      <th>2</th>\n",
       "      <td>142</td>\n",
       "      <td>3977</td>\n",
       "      <td>POINT (193068.693 -465847.391)</td>\n",
       "      <td>major_transit_stop</td>\n",
       "    </tr>\n",
       "  </tbody>\n",
       "</table>\n",
       "</div>"
      ],
      "text/plain": [
       "  calitp_itp_id stop_id                        geometry           hqta_type\n",
       "0           142    3977  POINT (199058.382 -471125.032)  major_transit_stop\n",
       "1           142    3977  POINT (198531.592 -471368.189)  major_transit_stop\n",
       "2           142    3977  POINT (193068.693 -465847.391)  major_transit_stop"
      ]
     },
     "execution_count": 20,
     "metadata": {},
     "output_type": "execute_result"
    }
   ],
   "source": [
    "major_bus_stops.head(3)"
   ]
  },
  {
   "cell_type": "code",
   "execution_count": 21,
   "id": "24daf28c-943a-4a9f-871c-e11b5d761595",
   "metadata": {},
   "outputs": [],
   "source": [
    "tbl_stops = (tbl.views.gtfs_schedule_fact_daily_feed_stops()\n",
    " >> filter(_.date == '2021-12-01')\n",
    " >> filter(_.calitp_extracted_at < '2021-12-01')\n",
    " >> filter(_.calitp_deleted_at > '2021-12-01')\n",
    " >> select(_.stop_key)\n",
    " >> inner_join(_, tbl.views.gtfs_schedule_dim_stops(), on = 'stop_key')\n",
    " >> select(_.stop_id, _.stop_lat, _.stop_lon, _.calitp_itp_id)\n",
    " >> collect()\n",
    ")"
   ]
  },
  {
   "cell_type": "code",
   "execution_count": 22,
   "id": "cddf70f5-cca1-4896-9f52-1ea5004278e5",
   "metadata": {},
   "outputs": [],
   "source": [
    "tbl_stops = gpd.GeoDataFrame(tbl_stops,\n",
    "                 geometry = gpd.points_from_xy(tbl_stops.stop_lon, tbl_stops.stop_lat),\n",
    "                 crs = 'EPSG:4326').to_crs('EPSG:6414') ## https://epsg.io/6414 (meters)"
   ]
  },
  {
   "cell_type": "code",
   "execution_count": 23,
   "id": "27ec75fc-e017-4f98-96f8-94d8d6ca479e",
   "metadata": {},
   "outputs": [
    {
     "data": {
      "text/html": [
       "<div>\n",
       "<style scoped>\n",
       "    .dataframe tbody tr th:only-of-type {\n",
       "        vertical-align: middle;\n",
       "    }\n",
       "\n",
       "    .dataframe tbody tr th {\n",
       "        vertical-align: top;\n",
       "    }\n",
       "\n",
       "    .dataframe thead th {\n",
       "        text-align: right;\n",
       "    }\n",
       "</style>\n",
       "<table border=\"1\" class=\"dataframe\">\n",
       "  <thead>\n",
       "    <tr style=\"text-align: right;\">\n",
       "      <th></th>\n",
       "      <th>stop_id</th>\n",
       "      <th>stop_lat</th>\n",
       "      <th>stop_lon</th>\n",
       "      <th>calitp_itp_id</th>\n",
       "      <th>geometry</th>\n",
       "    </tr>\n",
       "  </thead>\n",
       "  <tbody>\n",
       "    <tr>\n",
       "      <th>0</th>\n",
       "      <td>6050</td>\n",
       "      <td>36.061242</td>\n",
       "      <td>-119.022971</td>\n",
       "      <td>256</td>\n",
       "      <td>POINT (87902.603 -216858.579)</td>\n",
       "    </tr>\n",
       "    <tr>\n",
       "      <th>1</th>\n",
       "      <td>4005</td>\n",
       "      <td>36.071744</td>\n",
       "      <td>-119.018251</td>\n",
       "      <td>256</td>\n",
       "      <td>POINT (88315.196 -215687.375)</td>\n",
       "    </tr>\n",
       "    <tr>\n",
       "      <th>2</th>\n",
       "      <td>3040</td>\n",
       "      <td>36.057691</td>\n",
       "      <td>-118.993016</td>\n",
       "      <td>256</td>\n",
       "      <td>POINT (90601.760 -217224.936)</td>\n",
       "    </tr>\n",
       "  </tbody>\n",
       "</table>\n",
       "</div>"
      ],
      "text/plain": [
       "  stop_id   stop_lat    stop_lon  calitp_itp_id                       geometry\n",
       "0    6050  36.061242 -119.022971            256  POINT (87902.603 -216858.579)\n",
       "1    4005  36.071744 -119.018251            256  POINT (88315.196 -215687.375)\n",
       "2    3040  36.057691 -118.993016            256  POINT (90601.760 -217224.936)"
      ]
     },
     "execution_count": 23,
     "metadata": {},
     "output_type": "execute_result"
    }
   ],
   "source": [
    "tbl_stops.head(3)"
   ]
  },
  {
   "cell_type": "code",
   "execution_count": 24,
   "id": "d5a65203-2245-4ea4-94d3-71685a00c929",
   "metadata": {},
   "outputs": [],
   "source": [
    "to_join = major_bus_stops[['calitp_itp_id']].astype({'calitp_itp_id': 'int64'})"
   ]
  },
  {
   "cell_type": "code",
   "execution_count": 25,
   "id": "19f9b7dd-1b2b-4c7a-9ba9-3e1e1e9b46be",
   "metadata": {
    "tags": []
   },
   "outputs": [],
   "source": [
    "tbl_stops_major = (tbl_stops\n",
    "         >> inner_join(_, to_join, on=['calitp_itp_id'])\n",
    "         >> distinct(_.calitp_itp_id, _.stop_id, _keep_all=True)\n",
    "            )\n"
   ]
  },
  {
   "cell_type": "code",
   "execution_count": 26,
   "id": "5410b54c-930f-4d88-982a-4275a90334d4",
   "metadata": {},
   "outputs": [
    {
     "data": {
      "text/html": [
       "<div>\n",
       "<style scoped>\n",
       "    .dataframe tbody tr th:only-of-type {\n",
       "        vertical-align: middle;\n",
       "    }\n",
       "\n",
       "    .dataframe tbody tr th {\n",
       "        vertical-align: top;\n",
       "    }\n",
       "\n",
       "    .dataframe thead th {\n",
       "        text-align: right;\n",
       "    }\n",
       "</style>\n",
       "<table border=\"1\" class=\"dataframe\">\n",
       "  <thead>\n",
       "    <tr style=\"text-align: right;\">\n",
       "      <th></th>\n",
       "      <th>stop_id</th>\n",
       "      <th>stop_lat</th>\n",
       "      <th>stop_lon</th>\n",
       "      <th>calitp_itp_id</th>\n",
       "      <th>geometry</th>\n",
       "    </tr>\n",
       "  </thead>\n",
       "  <tbody>\n",
       "    <tr>\n",
       "      <th>0</th>\n",
       "      <td>1094</td>\n",
       "      <td>34.011765</td>\n",
       "      <td>-117.493493</td>\n",
       "      <td>269</td>\n",
       "      <td>POINT (231501.642 -441801.615)</td>\n",
       "    </tr>\n",
       "    <tr>\n",
       "      <th>1</th>\n",
       "      <td>540</td>\n",
       "      <td>33.961039</td>\n",
       "      <td>-117.390688</td>\n",
       "      <td>269</td>\n",
       "      <td>POINT (241149.222 -447169.874)</td>\n",
       "    </tr>\n",
       "    <tr>\n",
       "      <th>2</th>\n",
       "      <td>2736</td>\n",
       "      <td>33.886182</td>\n",
       "      <td>-117.506301</td>\n",
       "      <td>269</td>\n",
       "      <td>POINT (230685.294 -455757.162)</td>\n",
       "    </tr>\n",
       "  </tbody>\n",
       "</table>\n",
       "</div>"
      ],
      "text/plain": [
       "  stop_id   stop_lat    stop_lon  calitp_itp_id  \\\n",
       "0    1094  34.011765 -117.493493            269   \n",
       "1     540  33.961039 -117.390688            269   \n",
       "2    2736  33.886182 -117.506301            269   \n",
       "\n",
       "                         geometry  \n",
       "0  POINT (231501.642 -441801.615)  \n",
       "1  POINT (241149.222 -447169.874)  \n",
       "2  POINT (230685.294 -455757.162)  "
      ]
     },
     "execution_count": 26,
     "metadata": {},
     "output_type": "execute_result"
    }
   ],
   "source": [
    "tbl_stops_major.head(3)"
   ]
  },
  {
   "cell_type": "code",
   "execution_count": 27,
   "id": "9a9987a0-74c2-4018-99d6-bc68ecbb292a",
   "metadata": {},
   "outputs": [],
   "source": [
    "tbl_stops_major.geometry = tbl_stops_major.buffer(100)"
   ]
  },
  {
   "cell_type": "code",
   "execution_count": 28,
   "id": "ee7ff27d-6ffc-4458-bd95-5aa5c8a9a57e",
   "metadata": {},
   "outputs": [
    {
     "data": {
      "text/html": [
       "<div>\n",
       "<style scoped>\n",
       "    .dataframe tbody tr th:only-of-type {\n",
       "        vertical-align: middle;\n",
       "    }\n",
       "\n",
       "    .dataframe tbody tr th {\n",
       "        vertical-align: top;\n",
       "    }\n",
       "\n",
       "    .dataframe thead th {\n",
       "        text-align: right;\n",
       "    }\n",
       "</style>\n",
       "<table border=\"1\" class=\"dataframe\">\n",
       "  <thead>\n",
       "    <tr style=\"text-align: right;\">\n",
       "      <th></th>\n",
       "      <th>stop_id</th>\n",
       "      <th>stop_lat</th>\n",
       "      <th>stop_lon</th>\n",
       "      <th>calitp_itp_id</th>\n",
       "      <th>geometry</th>\n",
       "    </tr>\n",
       "  </thead>\n",
       "  <tbody>\n",
       "    <tr>\n",
       "      <th>0</th>\n",
       "      <td>1094</td>\n",
       "      <td>34.011765</td>\n",
       "      <td>-117.493493</td>\n",
       "      <td>269</td>\n",
       "      <td>POLYGON ((231601.642 -441801.615, 231601.160 -...</td>\n",
       "    </tr>\n",
       "    <tr>\n",
       "      <th>1</th>\n",
       "      <td>540</td>\n",
       "      <td>33.961039</td>\n",
       "      <td>-117.390688</td>\n",
       "      <td>269</td>\n",
       "      <td>POLYGON ((241249.222 -447169.874, 241248.741 -...</td>\n",
       "    </tr>\n",
       "    <tr>\n",
       "      <th>2</th>\n",
       "      <td>2736</td>\n",
       "      <td>33.886182</td>\n",
       "      <td>-117.506301</td>\n",
       "      <td>269</td>\n",
       "      <td>POLYGON ((230785.294 -455757.162, 230784.813 -...</td>\n",
       "    </tr>\n",
       "  </tbody>\n",
       "</table>\n",
       "</div>"
      ],
      "text/plain": [
       "  stop_id   stop_lat    stop_lon  calitp_itp_id  \\\n",
       "0    1094  34.011765 -117.493493            269   \n",
       "1     540  33.961039 -117.390688            269   \n",
       "2    2736  33.886182 -117.506301            269   \n",
       "\n",
       "                                            geometry  \n",
       "0  POLYGON ((231601.642 -441801.615, 231601.160 -...  \n",
       "1  POLYGON ((241249.222 -447169.874, 241248.741 -...  \n",
       "2  POLYGON ((230785.294 -455757.162, 230784.813 -...  "
      ]
     },
     "execution_count": 28,
     "metadata": {},
     "output_type": "execute_result"
    }
   ],
   "source": [
    "tbl_stops_major.head(3)"
   ]
  },
  {
   "cell_type": "code",
   "execution_count": 29,
   "id": "1ac15d0a-1aeb-48c4-9acf-92b7642b6fcd",
   "metadata": {},
   "outputs": [],
   "source": [
    "drop_id = major_bus_stops.drop(columns=['stop_id'])"
   ]
  },
  {
   "cell_type": "code",
   "execution_count": 30,
   "id": "e1d0d729-4931-4020-bfd6-4c15818caff0",
   "metadata": {},
   "outputs": [],
   "source": [
    "spatial_stops_major = tbl_stops_major.sjoin(drop_id, how='inner', predicate='contains')"
   ]
  },
  {
   "cell_type": "code",
   "execution_count": 31,
   "id": "b593d95a-308f-4635-9ce5-f24bbdd164e6",
   "metadata": {},
   "outputs": [],
   "source": [
    "new_major_stops = spatial_stops_major.drop_duplicates(subset=['stop_id', 'calitp_itp_id_left', 'calitp_itp_id_right'])"
   ]
  },
  {
   "cell_type": "code",
   "execution_count": 32,
   "id": "46241013-0529-40c7-a8d9-3002637a4240",
   "metadata": {},
   "outputs": [
    {
     "name": "stderr",
     "output_type": "stream",
     "text": [
      "/opt/conda/lib/python3.9/site-packages/geopandas/geodataframe.py:1351: SettingWithCopyWarning: \n",
      "A value is trying to be set on a copy of a slice from a DataFrame.\n",
      "Try using .loc[row_indexer,col_indexer] = value instead\n",
      "\n",
      "See the caveats in the documentation: https://pandas.pydata.org/pandas-docs/stable/user_guide/indexing.html#returning-a-view-versus-a-copy\n"
     ]
    }
   ],
   "source": [
    "new_major_stops.geometry = new_major_stops.centroid"
   ]
  },
  {
   "cell_type": "code",
   "execution_count": 33,
   "id": "ed5c5734-7ede-4211-a61b-f22eec81686a",
   "metadata": {},
   "outputs": [],
   "source": [
    "# map_hqta(new_major_stops)"
   ]
  },
  {
   "cell_type": "markdown",
   "id": "99a33ab8-c664-4671-89ef-54cdff7462f2",
   "metadata": {},
   "source": [
    "### Bus Corridors to Stops Along Corridor"
   ]
  },
  {
   "cell_type": "code",
   "execution_count": 34,
   "id": "6943606a-d815-49c6-aa43-a7ab27285939",
   "metadata": {},
   "outputs": [],
   "source": [
    "tbl_stops_corridors = tbl_stops"
   ]
  },
  {
   "cell_type": "code",
   "execution_count": 35,
   "id": "bf2f1177-b087-416c-8ae4-3f3f3569da55",
   "metadata": {},
   "outputs": [
    {
     "data": {
      "text/html": [
       "<div>\n",
       "<style scoped>\n",
       "    .dataframe tbody tr th:only-of-type {\n",
       "        vertical-align: middle;\n",
       "    }\n",
       "\n",
       "    .dataframe tbody tr th {\n",
       "        vertical-align: top;\n",
       "    }\n",
       "\n",
       "    .dataframe thead th {\n",
       "        text-align: right;\n",
       "    }\n",
       "</style>\n",
       "<table border=\"1\" class=\"dataframe\">\n",
       "  <thead>\n",
       "    <tr style=\"text-align: right;\">\n",
       "      <th></th>\n",
       "      <th>stop_id</th>\n",
       "      <th>stop_lat</th>\n",
       "      <th>stop_lon</th>\n",
       "      <th>calitp_itp_id</th>\n",
       "      <th>geometry</th>\n",
       "    </tr>\n",
       "  </thead>\n",
       "  <tbody>\n",
       "    <tr>\n",
       "      <th>0</th>\n",
       "      <td>6050</td>\n",
       "      <td>36.061242</td>\n",
       "      <td>-119.022971</td>\n",
       "      <td>256</td>\n",
       "      <td>POINT (87902.603 -216858.579)</td>\n",
       "    </tr>\n",
       "    <tr>\n",
       "      <th>1</th>\n",
       "      <td>4005</td>\n",
       "      <td>36.071744</td>\n",
       "      <td>-119.018251</td>\n",
       "      <td>256</td>\n",
       "      <td>POINT (88315.196 -215687.375)</td>\n",
       "    </tr>\n",
       "    <tr>\n",
       "      <th>2</th>\n",
       "      <td>3040</td>\n",
       "      <td>36.057691</td>\n",
       "      <td>-118.993016</td>\n",
       "      <td>256</td>\n",
       "      <td>POINT (90601.760 -217224.936)</td>\n",
       "    </tr>\n",
       "  </tbody>\n",
       "</table>\n",
       "</div>"
      ],
      "text/plain": [
       "  stop_id   stop_lat    stop_lon  calitp_itp_id                       geometry\n",
       "0    6050  36.061242 -119.022971            256  POINT (87902.603 -216858.579)\n",
       "1    4005  36.071744 -119.018251            256  POINT (88315.196 -215687.375)\n",
       "2    3040  36.057691 -118.993016            256  POINT (90601.760 -217224.936)"
      ]
     },
     "execution_count": 35,
     "metadata": {},
     "output_type": "execute_result"
    }
   ],
   "source": [
    "tbl_stops_corridors.head(3)"
   ]
  },
  {
   "cell_type": "code",
   "execution_count": 36,
   "id": "eda55a78-d4c5-47cc-8012-ac2d1fa4a92f",
   "metadata": {},
   "outputs": [
    {
     "ename": "NameError",
     "evalue": "name 'bus_hqtc_extract' is not defined",
     "output_type": "error",
     "traceback": [
      "\u001b[0;31m---------------------------------------------------------------------------\u001b[0m",
      "\u001b[0;31mNameError\u001b[0m                                 Traceback (most recent call last)",
      "Input \u001b[0;32mIn [36]\u001b[0m, in \u001b[0;36m<cell line: 1>\u001b[0;34m()\u001b[0m\n\u001b[0;32m----> 1\u001b[0m \u001b[43mbus_hqtc_extract\u001b[49m\u001b[38;5;241m.\u001b[39mhead(\u001b[38;5;241m3\u001b[39m)\n",
      "\u001b[0;31mNameError\u001b[0m: name 'bus_hqtc_extract' is not defined"
     ]
    }
   ],
   "source": [
    "bus_hqtc_extract.head(3)"
   ]
  },
  {
   "cell_type": "code",
   "execution_count": null,
   "id": "c161a6c5-bd29-4f0e-aaa2-f83731af42d4",
   "metadata": {},
   "outputs": [],
   "source": [
    "stops_in_corridor = tbl_stops_corridors.clip(bus_hqtc_extract)"
   ]
  },
  {
   "cell_type": "code",
   "execution_count": 37,
   "id": "83da99fb-4d2c-438b-bf24-65ce726fba0a",
   "metadata": {},
   "outputs": [
    {
     "ename": "NameError",
     "evalue": "name 'stops_in_corridor' is not defined",
     "output_type": "error",
     "traceback": [
      "\u001b[0;31m---------------------------------------------------------------------------\u001b[0m",
      "\u001b[0;31mNameError\u001b[0m                                 Traceback (most recent call last)",
      "Input \u001b[0;32mIn [37]\u001b[0m, in \u001b[0;36m<cell line: 1>\u001b[0;34m()\u001b[0m\n\u001b[0;32m----> 1\u001b[0m \u001b[43mstops_in_corridor\u001b[49m\u001b[38;5;241m.\u001b[39minfo()\n",
      "\u001b[0;31mNameError\u001b[0m: name 'stops_in_corridor' is not defined"
     ]
    }
   ],
   "source": [
    "stops_in_corridor.info()"
   ]
  },
  {
   "cell_type": "code",
   "execution_count": 200,
   "id": "82657639-7ad8-43e2-9050-7b49b0da0799",
   "metadata": {},
   "outputs": [
    {
     "name": "stdout",
     "output_type": "stream",
     "text": [
      "<class 'geopandas.geodataframe.GeoDataFrame'>\n",
      "Int64Index: 32009 entries, 26531 to 121250\n",
      "Data columns (total 5 columns):\n",
      " #   Column         Non-Null Count  Dtype   \n",
      "---  ------         --------------  -----   \n",
      " 0   stop_id        32009 non-null  object  \n",
      " 1   stop_lat       32009 non-null  float64 \n",
      " 2   stop_lon       32009 non-null  float64 \n",
      " 3   calitp_itp_id  32009 non-null  int64   \n",
      " 4   geometry       32009 non-null  geometry\n",
      "dtypes: float64(2), geometry(1), int64(1), object(1)\n",
      "memory usage: 1.5+ MB\n"
     ]
    }
   ],
   "source": [
    "stops_in_corridor.drop_duplicates(subset = ['stop_id', 'calitp_itp_id']).info()"
   ]
  },
  {
   "cell_type": "code",
   "execution_count": 201,
   "id": "7fbca026-79dc-4249-a6fb-9ee436a422cc",
   "metadata": {},
   "outputs": [],
   "source": [
    "# map_hqta(bus_hqtc_extract)"
   ]
  },
  {
   "cell_type": "code",
   "execution_count": 202,
   "id": "d10d08e6-2166-4d74-9b21-40181da5f19e",
   "metadata": {},
   "outputs": [],
   "source": [
    "# map_hqta(stops_in_corridor)"
   ]
  },
  {
   "cell_type": "markdown",
   "id": "f1ac0f78-6b99-4079-8c26-ca875367f6a8",
   "metadata": {},
   "source": [
    "#### Definitions and Output:\n",
    "\n",
    "* hqta_type: major_transit_stop\n",
    "* stop_id: one stop id... (not ideal, but oh well)\n",
    "* geometry: .buffer(700)?\n",
    "* _can alway pull more info spatially_"
   ]
  },
  {
   "cell_type": "markdown",
   "id": "03d81f0e-da43-4116-ae9b-b094b1466f2b",
   "metadata": {},
   "source": [
    "## Unbuffered Export"
   ]
  },
  {
   "cell_type": "markdown",
   "id": "403c2790-2f47-4b3f-9740-443020721a0b",
   "metadata": {},
   "source": [
    "Thank you for this data. It would be useful for us to get the HQTC stops as a point data file, not a polygon. Also, if you could differentiate between train, bus, BRT, and ferry stop that would be immensely helpful.\n",
    "\n",
    "Let me know if it is possible to get the data in this format.  "
   ]
  },
  {
   "cell_type": "markdown",
   "id": "baa2a7f4-5212-4911-9e6e-1e9bfc2f1d59",
   "metadata": {},
   "source": [
    "#### Major Transit Stops (bus intersections)"
   ]
  },
  {
   "cell_type": "code",
   "execution_count": 38,
   "id": "a4188f4e-5b5f-44d6-b3be-e8ed70fd8e64",
   "metadata": {},
   "outputs": [
    {
     "data": {
      "text/html": [
       "<div>\n",
       "<style scoped>\n",
       "    .dataframe tbody tr th:only-of-type {\n",
       "        vertical-align: middle;\n",
       "    }\n",
       "\n",
       "    .dataframe tbody tr th {\n",
       "        vertical-align: top;\n",
       "    }\n",
       "\n",
       "    .dataframe thead th {\n",
       "        text-align: right;\n",
       "    }\n",
       "</style>\n",
       "<table border=\"1\" class=\"dataframe\">\n",
       "  <thead>\n",
       "    <tr style=\"text-align: right;\">\n",
       "      <th></th>\n",
       "      <th>stop_id</th>\n",
       "      <th>stop_lat</th>\n",
       "      <th>stop_lon</th>\n",
       "      <th>calitp_itp_id_left</th>\n",
       "      <th>geometry</th>\n",
       "      <th>index_right</th>\n",
       "      <th>calitp_itp_id_right</th>\n",
       "      <th>hqta_type</th>\n",
       "    </tr>\n",
       "  </thead>\n",
       "  <tbody>\n",
       "    <tr>\n",
       "      <th>58</th>\n",
       "      <td>194</td>\n",
       "      <td>33.954794</td>\n",
       "      <td>-117.395542</td>\n",
       "      <td>269</td>\n",
       "      <td>POINT (240719.761 -447874.626)</td>\n",
       "      <td>1799</td>\n",
       "      <td>269</td>\n",
       "      <td>major_transit_stop</td>\n",
       "    </tr>\n",
       "    <tr>\n",
       "      <th>1001</th>\n",
       "      <td>288</td>\n",
       "      <td>33.954936</td>\n",
       "      <td>-117.395713</td>\n",
       "      <td>269</td>\n",
       "      <td>POINT (240703.528 -447859.316)</td>\n",
       "      <td>1799</td>\n",
       "      <td>269</td>\n",
       "      <td>major_transit_stop</td>\n",
       "    </tr>\n",
       "    <tr>\n",
       "      <th>2358</th>\n",
       "      <td>2983</td>\n",
       "      <td>33.954399</td>\n",
       "      <td>-117.395773</td>\n",
       "      <td>269</td>\n",
       "      <td>POINT (240699.619 -447919.008)</td>\n",
       "      <td>1799</td>\n",
       "      <td>269</td>\n",
       "      <td>major_transit_stop</td>\n",
       "    </tr>\n",
       "  </tbody>\n",
       "</table>\n",
       "</div>"
      ],
      "text/plain": [
       "     stop_id   stop_lat    stop_lon  calitp_itp_id_left  \\\n",
       "58       194  33.954794 -117.395542                 269   \n",
       "1001     288  33.954936 -117.395713                 269   \n",
       "2358    2983  33.954399 -117.395773                 269   \n",
       "\n",
       "                            geometry  index_right calitp_itp_id_right  \\\n",
       "58    POINT (240719.761 -447874.626)         1799                 269   \n",
       "1001  POINT (240703.528 -447859.316)         1799                 269   \n",
       "2358  POINT (240699.619 -447919.008)         1799                 269   \n",
       "\n",
       "               hqta_type  \n",
       "58    major_transit_stop  \n",
       "1001  major_transit_stop  \n",
       "2358  major_transit_stop  "
      ]
     },
     "execution_count": 38,
     "metadata": {},
     "output_type": "execute_result"
    }
   ],
   "source": [
    "new_major_stops.head(3)"
   ]
  },
  {
   "cell_type": "code",
   "execution_count": 204,
   "id": "c5a8d5cb-fd72-4dbf-85bb-a76996d567eb",
   "metadata": {},
   "outputs": [
    {
     "data": {
      "text/html": [
       "<div>\n",
       "<style scoped>\n",
       "    .dataframe tbody tr th:only-of-type {\n",
       "        vertical-align: middle;\n",
       "    }\n",
       "\n",
       "    .dataframe tbody tr th {\n",
       "        vertical-align: top;\n",
       "    }\n",
       "\n",
       "    .dataframe thead th {\n",
       "        text-align: right;\n",
       "    }\n",
       "</style>\n",
       "<table border=\"1\" class=\"dataframe\">\n",
       "  <thead>\n",
       "    <tr style=\"text-align: right;\">\n",
       "      <th></th>\n",
       "      <th>calitp_itp_id</th>\n",
       "      <th>stop_id</th>\n",
       "      <th>calitp_itp_id_2</th>\n",
       "      <th>hqta_type</th>\n",
       "      <th>geometry</th>\n",
       "    </tr>\n",
       "  </thead>\n",
       "  <tbody>\n",
       "    <tr>\n",
       "      <th>1</th>\n",
       "      <td>4</td>\n",
       "      <td>2050</td>\n",
       "      <td>4</td>\n",
       "      <td>major_stop_bus</td>\n",
       "      <td>POINT (-197487.747 -22870.228)</td>\n",
       "    </tr>\n",
       "    <tr>\n",
       "      <th>661</th>\n",
       "      <td>4</td>\n",
       "      <td>6160</td>\n",
       "      <td>4</td>\n",
       "      <td>major_stop_bus</td>\n",
       "      <td>POINT (-197487.086 -22901.713)</td>\n",
       "    </tr>\n",
       "    <tr>\n",
       "      <th>868</th>\n",
       "      <td>4</td>\n",
       "      <td>6044</td>\n",
       "      <td>4</td>\n",
       "      <td>major_stop_bus</td>\n",
       "      <td>POINT (-197515.484 -22863.900)</td>\n",
       "    </tr>\n",
       "  </tbody>\n",
       "</table>\n",
       "</div>"
      ],
      "text/plain": [
       "     calitp_itp_id stop_id calitp_itp_id_2       hqta_type  \\\n",
       "1                4    2050               4  major_stop_bus   \n",
       "661              4    6160               4  major_stop_bus   \n",
       "868              4    6044               4  major_stop_bus   \n",
       "\n",
       "                           geometry  \n",
       "1    POINT (-197487.747 -22870.228)  \n",
       "661  POINT (-197487.086 -22901.713)  \n",
       "868  POINT (-197515.484 -22863.900)  "
      ]
     },
     "execution_count": 204,
     "metadata": {},
     "output_type": "execute_result"
    }
   ],
   "source": [
    "new_major_bus_extract = new_major_stops >> select(_.calitp_itp_id == _.calitp_itp_id_left, _.stop_id,\n",
    "                          _.calitp_itp_id_2 == _.calitp_itp_id_right, _.hqta_type, _.geometry\n",
    "                         )\n",
    "new_major_bus_extract['hqta_type'] = 'major_stop_bus'\n",
    "new_major_bus_extract.head(3)"
   ]
  },
  {
   "cell_type": "markdown",
   "id": "e9a0e81f-b16b-4fab-82e6-f7eb84999ee9",
   "metadata": {},
   "source": [
    "#### Stops Along HQ Transit Corridors (bus)"
   ]
  },
  {
   "cell_type": "code",
   "execution_count": 205,
   "id": "644055ed-ab86-4e07-80fb-0c17a457b8f4",
   "metadata": {},
   "outputs": [
    {
     "data": {
      "text/html": [
       "<div>\n",
       "<style scoped>\n",
       "    .dataframe tbody tr th:only-of-type {\n",
       "        vertical-align: middle;\n",
       "    }\n",
       "\n",
       "    .dataframe tbody tr th {\n",
       "        vertical-align: top;\n",
       "    }\n",
       "\n",
       "    .dataframe thead th {\n",
       "        text-align: right;\n",
       "    }\n",
       "</style>\n",
       "<table border=\"1\" class=\"dataframe\">\n",
       "  <thead>\n",
       "    <tr style=\"text-align: right;\">\n",
       "      <th></th>\n",
       "      <th>stop_id</th>\n",
       "      <th>stop_lat</th>\n",
       "      <th>stop_lon</th>\n",
       "      <th>calitp_itp_id</th>\n",
       "      <th>geometry</th>\n",
       "    </tr>\n",
       "  </thead>\n",
       "  <tbody>\n",
       "    <tr>\n",
       "      <th>26531</th>\n",
       "      <td>262</td>\n",
       "      <td>34.420949</td>\n",
       "      <td>-119.703600</td>\n",
       "      <td>293</td>\n",
       "      <td>POINT (27236.798 -399421.201)</td>\n",
       "    </tr>\n",
       "    <tr>\n",
       "      <th>66308</th>\n",
       "      <td>S80</td>\n",
       "      <td>34.421013</td>\n",
       "      <td>-119.703516</td>\n",
       "      <td>169</td>\n",
       "      <td>POINT (27244.495 -399414.075)</td>\n",
       "    </tr>\n",
       "    <tr>\n",
       "      <th>26776</th>\n",
       "      <td>113</td>\n",
       "      <td>34.420955</td>\n",
       "      <td>-119.670648</td>\n",
       "      <td>293</td>\n",
       "      <td>POINT (30264.810 -399410.543)</td>\n",
       "    </tr>\n",
       "  </tbody>\n",
       "</table>\n",
       "</div>"
      ],
      "text/plain": [
       "      stop_id   stop_lat    stop_lon  calitp_itp_id  \\\n",
       "26531     262  34.420949 -119.703600            293   \n",
       "66308     S80  34.421013 -119.703516            169   \n",
       "26776     113  34.420955 -119.670648            293   \n",
       "\n",
       "                            geometry  \n",
       "26531  POINT (27236.798 -399421.201)  \n",
       "66308  POINT (27244.495 -399414.075)  \n",
       "26776  POINT (30264.810 -399410.543)  "
      ]
     },
     "execution_count": 205,
     "metadata": {},
     "output_type": "execute_result"
    }
   ],
   "source": [
    "stops_in_corridor.head(3)"
   ]
  },
  {
   "cell_type": "code",
   "execution_count": 206,
   "id": "e3fe89fe-f38c-4209-80da-b1a7ec950933",
   "metadata": {},
   "outputs": [],
   "source": [
    "stops_extract = stops_in_corridor >> select(_.calitp_itp_id, _.stop_id, _.geometry)"
   ]
  },
  {
   "cell_type": "code",
   "execution_count": 207,
   "id": "62591143-ce91-408a-86a7-67d993a64205",
   "metadata": {},
   "outputs": [],
   "source": [
    "stops_extract['hqta_type'] = 'hq_corridor_bus'"
   ]
  },
  {
   "cell_type": "code",
   "execution_count": 208,
   "id": "283ddc23-5a5f-4606-ab30-72341ee890cb",
   "metadata": {},
   "outputs": [
    {
     "data": {
      "text/html": [
       "<div>\n",
       "<style scoped>\n",
       "    .dataframe tbody tr th:only-of-type {\n",
       "        vertical-align: middle;\n",
       "    }\n",
       "\n",
       "    .dataframe tbody tr th {\n",
       "        vertical-align: top;\n",
       "    }\n",
       "\n",
       "    .dataframe thead th {\n",
       "        text-align: right;\n",
       "    }\n",
       "</style>\n",
       "<table border=\"1\" class=\"dataframe\">\n",
       "  <thead>\n",
       "    <tr style=\"text-align: right;\">\n",
       "      <th></th>\n",
       "      <th>calitp_itp_id</th>\n",
       "      <th>stop_id</th>\n",
       "      <th>geometry</th>\n",
       "      <th>hqta_type</th>\n",
       "    </tr>\n",
       "  </thead>\n",
       "  <tbody>\n",
       "    <tr>\n",
       "      <th>26531</th>\n",
       "      <td>293</td>\n",
       "      <td>262</td>\n",
       "      <td>POINT (27236.798 -399421.201)</td>\n",
       "      <td>hq_corridor_bus</td>\n",
       "    </tr>\n",
       "    <tr>\n",
       "      <th>66308</th>\n",
       "      <td>169</td>\n",
       "      <td>S80</td>\n",
       "      <td>POINT (27244.495 -399414.075)</td>\n",
       "      <td>hq_corridor_bus</td>\n",
       "    </tr>\n",
       "    <tr>\n",
       "      <th>26776</th>\n",
       "      <td>293</td>\n",
       "      <td>113</td>\n",
       "      <td>POINT (30264.810 -399410.543)</td>\n",
       "      <td>hq_corridor_bus</td>\n",
       "    </tr>\n",
       "  </tbody>\n",
       "</table>\n",
       "</div>"
      ],
      "text/plain": [
       "       calitp_itp_id stop_id                       geometry        hqta_type\n",
       "26531            293     262  POINT (27236.798 -399421.201)  hq_corridor_bus\n",
       "66308            169     S80  POINT (27244.495 -399414.075)  hq_corridor_bus\n",
       "26776            293     113  POINT (30264.810 -399410.543)  hq_corridor_bus"
      ]
     },
     "execution_count": 208,
     "metadata": {},
     "output_type": "execute_result"
    }
   ],
   "source": [
    "stops_extract.head(3)"
   ]
  },
  {
   "cell_type": "markdown",
   "id": "3d90eef5-3b4d-4c6a-96c9-e40a2855a260",
   "metadata": {},
   "source": [
    "#### Major Transit Stops (rail/ferry/brt)"
   ]
  },
  {
   "cell_type": "code",
   "execution_count": 209,
   "id": "5138b1e6-4c99-4ff1-b672-89d5f5a484e2",
   "metadata": {},
   "outputs": [
    {
     "data": {
      "text/html": [
       "<div>\n",
       "<style scoped>\n",
       "    .dataframe tbody tr th:only-of-type {\n",
       "        vertical-align: middle;\n",
       "    }\n",
       "\n",
       "    .dataframe tbody tr th {\n",
       "        vertical-align: top;\n",
       "    }\n",
       "\n",
       "    .dataframe thead th {\n",
       "        text-align: right;\n",
       "    }\n",
       "</style>\n",
       "<table border=\"1\" class=\"dataframe\">\n",
       "  <thead>\n",
       "    <tr style=\"text-align: right;\">\n",
       "      <th></th>\n",
       "      <th>calitp_itp_id</th>\n",
       "      <th>calitp_url_number</th>\n",
       "      <th>stop_id</th>\n",
       "      <th>stop_lat</th>\n",
       "      <th>stop_lon</th>\n",
       "      <th>route_type</th>\n",
       "      <th>geometry</th>\n",
       "      <th>hqta_type</th>\n",
       "    </tr>\n",
       "  </thead>\n",
       "  <tbody>\n",
       "    <tr>\n",
       "      <th>1066</th>\n",
       "      <td>182</td>\n",
       "      <td>1</td>\n",
       "      <td>80101</td>\n",
       "      <td>33.768071</td>\n",
       "      <td>-118.192921</td>\n",
       "      <td>0</td>\n",
       "      <td>POINT (167426.752 -470294.073)</td>\n",
       "      <td>major_transit_stop</td>\n",
       "    </tr>\n",
       "    <tr>\n",
       "      <th>1078</th>\n",
       "      <td>182</td>\n",
       "      <td>1</td>\n",
       "      <td>80153</td>\n",
       "      <td>33.768740</td>\n",
       "      <td>-118.189362</td>\n",
       "      <td>0</td>\n",
       "      <td>POINT (167755.039 -470213.608)</td>\n",
       "      <td>major_transit_stop</td>\n",
       "    </tr>\n",
       "    <tr>\n",
       "      <th>1076</th>\n",
       "      <td>182</td>\n",
       "      <td>1</td>\n",
       "      <td>80102</td>\n",
       "      <td>33.772258</td>\n",
       "      <td>-118.193700</td>\n",
       "      <td>0</td>\n",
       "      <td>POINT (167345.741 -469831.223)</td>\n",
       "      <td>major_transit_stop</td>\n",
       "    </tr>\n",
       "  </tbody>\n",
       "</table>\n",
       "</div>"
      ],
      "text/plain": [
       "      calitp_itp_id  calitp_url_number stop_id   stop_lat    stop_lon  \\\n",
       "1066            182                  1   80101  33.768071 -118.192921   \n",
       "1078            182                  1   80153  33.768740 -118.189362   \n",
       "1076            182                  1   80102  33.772258 -118.193700   \n",
       "\n",
       "     route_type                        geometry           hqta_type  \n",
       "1066          0  POINT (167426.752 -470294.073)  major_transit_stop  \n",
       "1078          0  POINT (167755.039 -470213.608)  major_transit_stop  \n",
       "1076          0  POINT (167345.741 -469831.223)  major_transit_stop  "
      ]
     },
     "execution_count": 209,
     "metadata": {},
     "output_type": "execute_result"
    }
   ],
   "source": [
    "rail_ferry_brt_stops.head(3)"
   ]
  },
  {
   "cell_type": "code",
   "execution_count": 210,
   "id": "8a269cf5-fb38-467f-b31d-8c98c2aed684",
   "metadata": {},
   "outputs": [],
   "source": [
    "rail_ferry_brt_extract = rail_ferry_brt_stops >> select(_.calitp_itp_id == _.calitp_itp_id, _.stop_id,\n",
    "                                      _.hqta_type, _.route_type, _.geometry\n",
    "                         )"
   ]
  },
  {
   "cell_type": "code",
   "execution_count": 211,
   "id": "154b935a-5c1b-48d9-a44b-d276ade8b4ae",
   "metadata": {},
   "outputs": [],
   "source": [
    "rail_ferry_brt_extract = (rail_ferry_brt_extract\n",
    "    >> mutate(\n",
    "    hqta_type = case_when({\n",
    "        _.route_type.isin(['0', '1', '2']): 'major_stop_rail',\n",
    "        _.route_type == '3': 'major_stop_brt',\n",
    "        _.route_type == '4': 'major_stop_ferry'\n",
    "        })\n",
    "    )\n",
    "    >> select(-_.route_type)\n",
    ")"
   ]
  },
  {
   "cell_type": "code",
   "execution_count": 212,
   "id": "795f12d4-f881-4d72-adf2-69a4276084e9",
   "metadata": {},
   "outputs": [
    {
     "data": {
      "text/html": [
       "<div>\n",
       "<style scoped>\n",
       "    .dataframe tbody tr th:only-of-type {\n",
       "        vertical-align: middle;\n",
       "    }\n",
       "\n",
       "    .dataframe tbody tr th {\n",
       "        vertical-align: top;\n",
       "    }\n",
       "\n",
       "    .dataframe thead th {\n",
       "        text-align: right;\n",
       "    }\n",
       "</style>\n",
       "<table border=\"1\" class=\"dataframe\">\n",
       "  <thead>\n",
       "    <tr style=\"text-align: right;\">\n",
       "      <th></th>\n",
       "      <th>calitp_itp_id</th>\n",
       "      <th>stop_id</th>\n",
       "      <th>hqta_type</th>\n",
       "      <th>geometry</th>\n",
       "    </tr>\n",
       "  </thead>\n",
       "  <tbody>\n",
       "    <tr>\n",
       "      <th>1066</th>\n",
       "      <td>182</td>\n",
       "      <td>80101</td>\n",
       "      <td>major_stop_rail</td>\n",
       "      <td>POINT (167426.752 -470294.073)</td>\n",
       "    </tr>\n",
       "    <tr>\n",
       "      <th>1078</th>\n",
       "      <td>182</td>\n",
       "      <td>80153</td>\n",
       "      <td>major_stop_rail</td>\n",
       "      <td>POINT (167755.039 -470213.608)</td>\n",
       "    </tr>\n",
       "    <tr>\n",
       "      <th>1076</th>\n",
       "      <td>182</td>\n",
       "      <td>80102</td>\n",
       "      <td>major_stop_rail</td>\n",
       "      <td>POINT (167345.741 -469831.223)</td>\n",
       "    </tr>\n",
       "  </tbody>\n",
       "</table>\n",
       "</div>"
      ],
      "text/plain": [
       "      calitp_itp_id stop_id        hqta_type                        geometry\n",
       "1066            182   80101  major_stop_rail  POINT (167426.752 -470294.073)\n",
       "1078            182   80153  major_stop_rail  POINT (167755.039 -470213.608)\n",
       "1076            182   80102  major_stop_rail  POINT (167345.741 -469831.223)"
      ]
     },
     "execution_count": 212,
     "metadata": {},
     "output_type": "execute_result"
    }
   ],
   "source": [
    "rail_ferry_brt_extract.head(3)"
   ]
  },
  {
   "cell_type": "code",
   "execution_count": 213,
   "id": "45f7684d-af37-4e66-bfec-e5e5d4b1d2c4",
   "metadata": {},
   "outputs": [],
   "source": [
    "points_combined = new_major_bus_extract.append(stops_extract).append(rail_ferry_brt_extract)"
   ]
  },
  {
   "cell_type": "code",
   "execution_count": 214,
   "id": "f74db8b5-c1c2-4f68-88d8-89964d2a7179",
   "metadata": {},
   "outputs": [
    {
     "data": {
      "text/plain": [
       "calitp_itp_id         int64\n",
       "stop_id              object\n",
       "calitp_itp_id_2      object\n",
       "hqta_type            object\n",
       "geometry           geometry\n",
       "dtype: object"
      ]
     },
     "execution_count": 214,
     "metadata": {},
     "output_type": "execute_result"
    }
   ],
   "source": [
    "points_combined.dtypes"
   ]
  },
  {
   "cell_type": "code",
   "execution_count": 215,
   "id": "c767a0e4-e8c5-4967-b223-c982717de70c",
   "metadata": {},
   "outputs": [
    {
     "data": {
      "text/html": [
       "<div>\n",
       "<style scoped>\n",
       "    .dataframe tbody tr th:only-of-type {\n",
       "        vertical-align: middle;\n",
       "    }\n",
       "\n",
       "    .dataframe tbody tr th {\n",
       "        vertical-align: top;\n",
       "    }\n",
       "\n",
       "    .dataframe thead th {\n",
       "        text-align: right;\n",
       "    }\n",
       "</style>\n",
       "<table border=\"1\" class=\"dataframe\">\n",
       "  <thead>\n",
       "    <tr style=\"text-align: right;\">\n",
       "      <th></th>\n",
       "      <th>calitp_itp_id</th>\n",
       "      <th>stop_id</th>\n",
       "      <th>calitp_itp_id_2</th>\n",
       "      <th>hqta_type</th>\n",
       "      <th>geometry</th>\n",
       "    </tr>\n",
       "  </thead>\n",
       "  <tbody>\n",
       "    <tr>\n",
       "      <th>1</th>\n",
       "      <td>4</td>\n",
       "      <td>2050</td>\n",
       "      <td>4</td>\n",
       "      <td>major_stop_bus</td>\n",
       "      <td>POINT (-197487.747 -22870.228)</td>\n",
       "    </tr>\n",
       "    <tr>\n",
       "      <th>661</th>\n",
       "      <td>4</td>\n",
       "      <td>6160</td>\n",
       "      <td>4</td>\n",
       "      <td>major_stop_bus</td>\n",
       "      <td>POINT (-197487.086 -22901.713)</td>\n",
       "    </tr>\n",
       "    <tr>\n",
       "      <th>868</th>\n",
       "      <td>4</td>\n",
       "      <td>6044</td>\n",
       "      <td>4</td>\n",
       "      <td>major_stop_bus</td>\n",
       "      <td>POINT (-197515.484 -22863.900)</td>\n",
       "    </tr>\n",
       "    <tr>\n",
       "      <th>4378</th>\n",
       "      <td>4</td>\n",
       "      <td>6161</td>\n",
       "      <td>4</td>\n",
       "      <td>major_stop_bus</td>\n",
       "      <td>POINT (-197544.479 -22958.955)</td>\n",
       "    </tr>\n",
       "    <tr>\n",
       "      <th>6</th>\n",
       "      <td>4</td>\n",
       "      <td>5307</td>\n",
       "      <td>4</td>\n",
       "      <td>major_stop_bus</td>\n",
       "      <td>POINT (-189006.213 -28181.062)</td>\n",
       "    </tr>\n",
       "    <tr>\n",
       "      <th>...</th>\n",
       "      <td>...</td>\n",
       "      <td>...</td>\n",
       "      <td>...</td>\n",
       "      <td>...</td>\n",
       "      <td>...</td>\n",
       "    </tr>\n",
       "    <tr>\n",
       "      <th>4</th>\n",
       "      <td>232</td>\n",
       "      <td>8295</td>\n",
       "      <td>NaN</td>\n",
       "      <td>major_stop_brt</td>\n",
       "      <td>POINT (246407.338 -422724.364)</td>\n",
       "    </tr>\n",
       "    <tr>\n",
       "      <th>17</th>\n",
       "      <td>232</td>\n",
       "      <td>8288</td>\n",
       "      <td>NaN</td>\n",
       "      <td>major_stop_brt</td>\n",
       "      <td>POINT (243453.358 -421760.464)</td>\n",
       "    </tr>\n",
       "    <tr>\n",
       "      <th>996</th>\n",
       "      <td>323</td>\n",
       "      <td>165</td>\n",
       "      <td>NaN</td>\n",
       "      <td>major_stop_rail</td>\n",
       "      <td>POINT (172732.681 -389214.320)</td>\n",
       "    </tr>\n",
       "    <tr>\n",
       "      <th>342</th>\n",
       "      <td>13</td>\n",
       "      <td>VRV</td>\n",
       "      <td>NaN</td>\n",
       "      <td>major_stop_rail</td>\n",
       "      <td>POINT (248354.060 -383016.649)</td>\n",
       "    </tr>\n",
       "    <tr>\n",
       "      <th>994</th>\n",
       "      <td>323</td>\n",
       "      <td>163</td>\n",
       "      <td>NaN</td>\n",
       "      <td>major_stop_rail</td>\n",
       "      <td>POINT (172437.092 -378906.434)</td>\n",
       "    </tr>\n",
       "  </tbody>\n",
       "</table>\n",
       "<p>37473 rows × 5 columns</p>\n",
       "</div>"
      ],
      "text/plain": [
       "      calitp_itp_id stop_id calitp_itp_id_2        hqta_type  \\\n",
       "1                 4    2050               4   major_stop_bus   \n",
       "661               4    6160               4   major_stop_bus   \n",
       "868               4    6044               4   major_stop_bus   \n",
       "4378              4    6161               4   major_stop_bus   \n",
       "6                 4    5307               4   major_stop_bus   \n",
       "...             ...     ...             ...              ...   \n",
       "4               232    8295             NaN   major_stop_brt   \n",
       "17              232    8288             NaN   major_stop_brt   \n",
       "996             323     165             NaN  major_stop_rail   \n",
       "342              13     VRV             NaN  major_stop_rail   \n",
       "994             323     163             NaN  major_stop_rail   \n",
       "\n",
       "                            geometry  \n",
       "1     POINT (-197487.747 -22870.228)  \n",
       "661   POINT (-197487.086 -22901.713)  \n",
       "868   POINT (-197515.484 -22863.900)  \n",
       "4378  POINT (-197544.479 -22958.955)  \n",
       "6     POINT (-189006.213 -28181.062)  \n",
       "...                              ...  \n",
       "4     POINT (246407.338 -422724.364)  \n",
       "17    POINT (243453.358 -421760.464)  \n",
       "996   POINT (172732.681 -389214.320)  \n",
       "342   POINT (248354.060 -383016.649)  \n",
       "994   POINT (172437.092 -378906.434)  \n",
       "\n",
       "[37473 rows x 5 columns]"
      ]
     },
     "execution_count": 215,
     "metadata": {},
     "output_type": "execute_result"
    }
   ],
   "source": [
    "points_combined"
   ]
  },
  {
   "cell_type": "code",
   "execution_count": 161,
   "id": "1eaa13fb-88d9-4f5f-ac07-5a5711f974db",
   "metadata": {},
   "outputs": [],
   "source": [
    "# map_hqta(points_combined)"
   ]
  },
  {
   "cell_type": "code",
   "execution_count": 224,
   "id": "f7d2d824-f02a-450c-a18f-baa4f4b4c8b3",
   "metadata": {},
   "outputs": [],
   "source": [
    "names = tbl.views.gtfs_agency_names() >> select(_.calitp_itp_id, _.agency_name) >> collect()\n",
    "with_names = points_combined >> inner_join(_, names, on = 'calitp_itp_id')"
   ]
  },
  {
   "cell_type": "code",
   "execution_count": 231,
   "id": "f5597551-8553-446b-9f1d-4c9996be932c",
   "metadata": {},
   "outputs": [],
   "source": [
    "with_names = with_names.drop_duplicates(subset=['calitp_itp_id', 'hqta_type', 'stop_id'])\n",
    "with_names = with_names.drop(columns=['calitp_itp_id_2'])"
   ]
  },
  {
   "cell_type": "code",
   "execution_count": 233,
   "id": "8babf759-70b5-43ca-913b-f3a4f594c30f",
   "metadata": {},
   "outputs": [
    {
     "data": {
      "text/html": [
       "<div>\n",
       "<style scoped>\n",
       "    .dataframe tbody tr th:only-of-type {\n",
       "        vertical-align: middle;\n",
       "    }\n",
       "\n",
       "    .dataframe tbody tr th {\n",
       "        vertical-align: top;\n",
       "    }\n",
       "\n",
       "    .dataframe thead th {\n",
       "        text-align: right;\n",
       "    }\n",
       "</style>\n",
       "<table border=\"1\" class=\"dataframe\">\n",
       "  <thead>\n",
       "    <tr style=\"text-align: right;\">\n",
       "      <th></th>\n",
       "      <th>calitp_itp_id</th>\n",
       "      <th>stop_id</th>\n",
       "      <th>hqta_type</th>\n",
       "      <th>geometry</th>\n",
       "      <th>agency_name</th>\n",
       "    </tr>\n",
       "  </thead>\n",
       "  <tbody>\n",
       "    <tr>\n",
       "      <th>0</th>\n",
       "      <td>4</td>\n",
       "      <td>2050</td>\n",
       "      <td>major_stop_bus</td>\n",
       "      <td>POINT (-197487.747 -22870.228)</td>\n",
       "      <td>AC Transit</td>\n",
       "    </tr>\n",
       "    <tr>\n",
       "      <th>1</th>\n",
       "      <td>4</td>\n",
       "      <td>6160</td>\n",
       "      <td>major_stop_bus</td>\n",
       "      <td>POINT (-197487.086 -22901.713)</td>\n",
       "      <td>AC Transit</td>\n",
       "    </tr>\n",
       "    <tr>\n",
       "      <th>2</th>\n",
       "      <td>4</td>\n",
       "      <td>6044</td>\n",
       "      <td>major_stop_bus</td>\n",
       "      <td>POINT (-197515.484 -22863.900)</td>\n",
       "      <td>AC Transit</td>\n",
       "    </tr>\n",
       "  </tbody>\n",
       "</table>\n",
       "</div>"
      ],
      "text/plain": [
       "   calitp_itp_id stop_id       hqta_type                        geometry  \\\n",
       "0              4    2050  major_stop_bus  POINT (-197487.747 -22870.228)   \n",
       "1              4    6160  major_stop_bus  POINT (-197487.086 -22901.713)   \n",
       "2              4    6044  major_stop_bus  POINT (-197515.484 -22863.900)   \n",
       "\n",
       "  agency_name  \n",
       "0  AC Transit  \n",
       "1  AC Transit  \n",
       "2  AC Transit  "
      ]
     },
     "execution_count": 233,
     "metadata": {},
     "output_type": "execute_result"
    }
   ],
   "source": [
    "with_names.head(3)"
   ]
  },
  {
   "cell_type": "code",
   "execution_count": 234,
   "id": "136b178e-edc6-4492-a8d9-1a97080f48f2",
   "metadata": {},
   "outputs": [
    {
     "name": "stderr",
     "output_type": "stream",
     "text": [
      "/home/jovyan/data-analyses/high_quality_transit_areas/utilities.py:85: UserWarning: this is an initial implementation of Parquet/Feather file support and associated metadata.  This is tracking version 0.1.0 of the metadata specification at https://github.com/geopandas/geo-arrow-spec\n",
      "\n",
      "This metadata specification does not yet make stability promises.  We do not yet recommend using this in a production setting unless you are able to rewrite your Parquet/Feather files.\n",
      "\n",
      "To further ignore this warning, you can do: \n",
      "import warnings; warnings.filterwarnings('ignore', message='.*initial implementation of Parquet.*')\n",
      "  gdf.to_parquet(f\"{name}.parquet\")\n"
     ]
    }
   ],
   "source": [
    "geoparquet_gcs_export(with_names, 'ca_high_quality_transit_points')"
   ]
  },
  {
   "cell_type": "code",
   "execution_count": 235,
   "id": "b7cc3286-aa84-4b66-acba-4935481e1650",
   "metadata": {},
   "outputs": [],
   "source": [
    "with_names.to_file('./ca_high_quality_transit_point.geojson', driver='GeoJSON')"
   ]
  },
  {
   "cell_type": "code",
   "execution_count": 236,
   "id": "abd4b07a-6804-4f80-9377-ca34208b5e78",
   "metadata": {},
   "outputs": [
    {
     "name": "stderr",
     "output_type": "stream",
     "text": [
      "/tmp/ipykernel_44/2615873071.py:1: UserWarning: Column names longer than 10 characters will be truncated when saved to ESRI Shapefile.\n",
      "  with_names.to_file('./ca_high_quality_transit/ca_high_quality_transit_point.shp')\n"
     ]
    }
   ],
   "source": [
    "with_names.to_file('./ca_high_quality_transit/ca_high_quality_transit_point.shp')"
   ]
  },
  {
   "cell_type": "code",
   "execution_count": 237,
   "id": "62bf6074-7796-4fee-9ea7-9a4d67f438a1",
   "metadata": {},
   "outputs": [
    {
     "data": {
      "text/plain": [
       "array(['major_stop_bus', 'hq_corridor_bus', 'major_stop_brt',\n",
       "       'major_stop_rail', 'major_stop_ferry'], dtype=object)"
      ]
     },
     "execution_count": 237,
     "metadata": {},
     "output_type": "execute_result"
    }
   ],
   "source": [
    "with_names['hqta_type'].unique()"
   ]
  },
  {
   "cell_type": "markdown",
   "id": "8e53d610-d9bc-4bc1-8a79-d32b3078d672",
   "metadata": {},
   "source": [
    "### Combining and Buffering\n",
    "\n",
    "* General buffer distance: 1/2mi ~= 805 meters\n",
    "* Bus corridors are already buffered 50 meters, so will buffer 755 meters"
   ]
  },
  {
   "cell_type": "code",
   "execution_count": 28,
   "id": "e13cb57b-0905-4b8c-9f8f-d6d87c09c533",
   "metadata": {},
   "outputs": [],
   "source": [
    "bus_hqtc.geometry = bus_hqtc.geometry.buffer(755)\n",
    "row_per_stop.geometry = row_per_stop.geometry.buffer(805)\n",
    "rail_ferry_brt_stops.geometry = rail_ferry_brt_stops.geometry.buffer(805)"
   ]
  },
  {
   "cell_type": "code",
   "execution_count": 29,
   "id": "da513fe3-7893-48a1-b33b-de36e5c97443",
   "metadata": {},
   "outputs": [],
   "source": [
    "all_hqta = (bus_hqtc\n",
    "            .append(rail_ferry_brt_stops)\n",
    "            .append(row_per_stop)\n",
    "            .fillna('')\n",
    "           )"
   ]
  },
  {
   "cell_type": "code",
   "execution_count": 30,
   "id": "96ea1b81-97d2-4d9f-986b-cb82fcb1d481",
   "metadata": {},
   "outputs": [],
   "source": [
    "all_hqta = all_hqta[['calitp_itp_id', 'geometry', 'hqta_type']]\n",
    "all_hqta = all_hqta.reset_index(drop=True)\n",
    "all_hqta['calitp_itp_id'] = all_hqta['calitp_itp_id'].astype('int64')"
   ]
  },
  {
   "cell_type": "markdown",
   "id": "637313be-dcc3-437a-8733-1731f9e0fa8f",
   "metadata": {},
   "source": [
    "### Format for export"
   ]
  },
  {
   "cell_type": "code",
   "execution_count": 31,
   "id": "e25ad411-6ea1-4232-bb47-6df3bb1f4167",
   "metadata": {},
   "outputs": [],
   "source": [
    "agency_names = (tbl.gtfs_schedule.agency()\n",
    " >> select(_.calitp_itp_id, _.agency_name)\n",
    " >> collect()\n",
    ")"
   ]
  },
  {
   "cell_type": "code",
   "execution_count": 32,
   "id": "fe2aeb20-1714-4543-ba8b-8d655ea1efa4",
   "metadata": {},
   "outputs": [],
   "source": [
    "all_hqta = all_hqta >> inner_join(_, agency_names, on='calitp_itp_id')"
   ]
  },
  {
   "cell_type": "code",
   "execution_count": 39,
   "id": "92d5b4c7-6723-471f-bafa-dada933393f7",
   "metadata": {
    "tags": []
   },
   "outputs": [],
   "source": [
    "all_hqta = gpd.read_parquet(f'{GCS_FILE_PATH}ca_high_quality_transit.parquet')"
   ]
  },
  {
   "cell_type": "code",
   "execution_count": 16,
   "id": "be750b0a-11e8-4905-bc62-6d2b7462a11a",
   "metadata": {},
   "outputs": [],
   "source": [
    "metro = bus_hqtc >> filter(_.calitp_itp_id == '182')"
   ]
  },
  {
   "cell_type": "code",
   "execution_count": 18,
   "id": "a3adc41e-90f1-4117-8e49-938c4c838a8d",
   "metadata": {},
   "outputs": [
    {
     "data": {
      "application/vnd.jupyter.widget-view+json": {
       "model_id": "4399525e0c1b47be87a271b99c3093b7",
       "version_major": 2,
       "version_minor": 0
      },
      "text/plain": [
       "Map(center=[34.078792878404975, -118.30956119336547], controls=(ZoomControl(options=['position', 'zoom_in_text…"
      ]
     },
     "metadata": {},
     "output_type": "display_data"
    }
   ],
   "source": [
    "map_hqta(metro, 'pm_max_trips')"
   ]
  },
  {
   "cell_type": "code",
   "execution_count": null,
   "id": "f614dc84-c6c1-482e-a6eb-d621ccb3af67",
   "metadata": {},
   "outputs": [],
   "source": [
    "# geoparquet_gcs_export(all_hqta, 'ca_high_quality_transit')\n",
    "# all_hqta.to_file('./ca_high_quality_transit.geojson', driver='GeoJSON')\n",
    "# all_hqta.to_file('./ca_high_quality_transit/ca_high_quality_transit.shp')"
   ]
  },
  {
   "cell_type": "markdown",
   "id": "1752dde1-2740-49a7-9c5a-ddd3064ab7ac",
   "metadata": {},
   "source": [
    "## Static Map Images (all HQTAs)\n",
    "\n",
    "![bay](img/bay_valley_all.png)\n",
    "\n",
    "![fresno](img/fres_all.png)\n",
    "\n",
    "![san_diego](img/sd_all.png)"
   ]
  },
  {
   "cell_type": "code",
   "execution_count": null,
   "id": "469b31b2-25a7-4723-8f1e-51a4fde86810",
   "metadata": {},
   "outputs": [],
   "source": [
    "# map_hqta(all_hqta)"
   ]
  },
  {
   "cell_type": "code",
   "execution_count": 15,
   "id": "f9180df0-3fbb-4f93-aacd-f2eeefda51e9",
   "metadata": {},
   "outputs": [
    {
     "data": {
      "text/html": [
       "<div>\n",
       "<style scoped>\n",
       "    .dataframe tbody tr th:only-of-type {\n",
       "        vertical-align: middle;\n",
       "    }\n",
       "\n",
       "    .dataframe tbody tr th {\n",
       "        vertical-align: top;\n",
       "    }\n",
       "\n",
       "    .dataframe thead th {\n",
       "        text-align: right;\n",
       "    }\n",
       "</style>\n",
       "<table border=\"1\" class=\"dataframe\">\n",
       "  <thead>\n",
       "    <tr style=\"text-align: right;\">\n",
       "      <th></th>\n",
       "      <th>calitp_itp_id</th>\n",
       "      <th>geometry</th>\n",
       "      <th>hqta_type</th>\n",
       "      <th>agency_name</th>\n",
       "    </tr>\n",
       "  </thead>\n",
       "  <tbody>\n",
       "    <tr>\n",
       "      <th>0</th>\n",
       "      <td>48</td>\n",
       "      <td>POLYGON ((-133534.279 167527.858, -133517.826 ...</td>\n",
       "      <td>hq_transit_corr</td>\n",
       "      <td>B-Line</td>\n",
       "    </tr>\n",
       "    <tr>\n",
       "      <th>1</th>\n",
       "      <td>48</td>\n",
       "      <td>MULTIPOLYGON (((-157718.392 195993.182, -15773...</td>\n",
       "      <td>hq_transit_corr</td>\n",
       "      <td>B-Line</td>\n",
       "    </tr>\n",
       "    <tr>\n",
       "      <th>2</th>\n",
       "      <td>142</td>\n",
       "      <td>POLYGON ((211656.399 -486108.638, 211648.381 -...</td>\n",
       "      <td>hq_transit_corr</td>\n",
       "      <td>Orange County Transportation Authority</td>\n",
       "    </tr>\n",
       "    <tr>\n",
       "      <th>3</th>\n",
       "      <td>142</td>\n",
       "      <td>MULTIPOLYGON (((199947.647 -472521.650, 199947...</td>\n",
       "      <td>hq_transit_corr</td>\n",
       "      <td>Orange County Transportation Authority</td>\n",
       "    </tr>\n",
       "    <tr>\n",
       "      <th>4</th>\n",
       "      <td>142</td>\n",
       "      <td>MULTIPOLYGON (((187094.291 -451836.591, 187091...</td>\n",
       "      <td>hq_transit_corr</td>\n",
       "      <td>Orange County Transportation Authority</td>\n",
       "    </tr>\n",
       "    <tr>\n",
       "      <th>...</th>\n",
       "      <td>...</td>\n",
       "      <td>...</td>\n",
       "      <td>...</td>\n",
       "      <td>...</td>\n",
       "    </tr>\n",
       "    <tr>\n",
       "      <th>31942</th>\n",
       "      <td>361</td>\n",
       "      <td>POLYGON ((62774.123 -187182.324, 62770.247 -18...</td>\n",
       "      <td>major_transit_stop</td>\n",
       "      <td>Visalia Transit</td>\n",
       "    </tr>\n",
       "    <tr>\n",
       "      <th>31943</th>\n",
       "      <td>301</td>\n",
       "      <td>POLYGON ((-235898.301 50349.674, -235902.177 5...</td>\n",
       "      <td>major_transit_stop</td>\n",
       "      <td>Santa Rosa CityBus</td>\n",
       "    </tr>\n",
       "    <tr>\n",
       "      <th>31944</th>\n",
       "      <td>301</td>\n",
       "      <td>POLYGON ((-235898.301 50349.674, -235902.177 5...</td>\n",
       "      <td>major_transit_stop</td>\n",
       "      <td>Santa Rosa CityBus</td>\n",
       "    </tr>\n",
       "    <tr>\n",
       "      <th>31945</th>\n",
       "      <td>201</td>\n",
       "      <td>POLYGON ((-209333.821 -24661.220, -209337.698 ...</td>\n",
       "      <td>major_transit_stop</td>\n",
       "      <td>Mission Bay TMA</td>\n",
       "    </tr>\n",
       "    <tr>\n",
       "      <th>31946</th>\n",
       "      <td>201</td>\n",
       "      <td>POLYGON ((-209599.354 -24190.483, -209603.231 ...</td>\n",
       "      <td>major_transit_stop</td>\n",
       "      <td>Mission Bay TMA</td>\n",
       "    </tr>\n",
       "  </tbody>\n",
       "</table>\n",
       "<p>31947 rows × 4 columns</p>\n",
       "</div>"
      ],
      "text/plain": [
       "       calitp_itp_id                                           geometry  \\\n",
       "0                 48  POLYGON ((-133534.279 167527.858, -133517.826 ...   \n",
       "1                 48  MULTIPOLYGON (((-157718.392 195993.182, -15773...   \n",
       "2                142  POLYGON ((211656.399 -486108.638, 211648.381 -...   \n",
       "3                142  MULTIPOLYGON (((199947.647 -472521.650, 199947...   \n",
       "4                142  MULTIPOLYGON (((187094.291 -451836.591, 187091...   \n",
       "...              ...                                                ...   \n",
       "31942            361  POLYGON ((62774.123 -187182.324, 62770.247 -18...   \n",
       "31943            301  POLYGON ((-235898.301 50349.674, -235902.177 5...   \n",
       "31944            301  POLYGON ((-235898.301 50349.674, -235902.177 5...   \n",
       "31945            201  POLYGON ((-209333.821 -24661.220, -209337.698 ...   \n",
       "31946            201  POLYGON ((-209599.354 -24190.483, -209603.231 ...   \n",
       "\n",
       "                hqta_type                             agency_name  \n",
       "0         hq_transit_corr                                  B-Line  \n",
       "1         hq_transit_corr                                  B-Line  \n",
       "2         hq_transit_corr  Orange County Transportation Authority  \n",
       "3         hq_transit_corr  Orange County Transportation Authority  \n",
       "4         hq_transit_corr  Orange County Transportation Authority  \n",
       "...                   ...                                     ...  \n",
       "31942  major_transit_stop                         Visalia Transit  \n",
       "31943  major_transit_stop                      Santa Rosa CityBus  \n",
       "31944  major_transit_stop                      Santa Rosa CityBus  \n",
       "31945  major_transit_stop                         Mission Bay TMA  \n",
       "31946  major_transit_stop                         Mission Bay TMA  \n",
       "\n",
       "[31947 rows x 4 columns]"
      ]
     },
     "execution_count": 15,
     "metadata": {},
     "output_type": "execute_result"
    }
   ],
   "source": [
    "all_hqta"
   ]
  },
  {
   "cell_type": "code",
   "execution_count": null,
   "id": "522fef2f-dbd9-4e73-a5a9-26ab6bc15d42",
   "metadata": {},
   "outputs": [],
   "source": []
  }
 ],
 "metadata": {
  "kernelspec": {
   "display_name": "Python 3 (ipykernel)",
   "language": "python",
   "name": "python3"
  },
  "language_info": {
   "codemirror_mode": {
    "name": "ipython",
    "version": 3
   },
   "file_extension": ".py",
   "mimetype": "text/x-python",
   "name": "python",
   "nbconvert_exporter": "python",
   "pygments_lexer": "ipython3",
   "version": "3.9.12"
  }
 },
 "nbformat": 4,
 "nbformat_minor": 5
}
