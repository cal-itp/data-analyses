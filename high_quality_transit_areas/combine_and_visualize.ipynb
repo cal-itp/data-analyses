{
 "cells": [
  {
   "cell_type": "code",
   "execution_count": 1,
   "id": "4d53c57e-0777-4c0d-9dc6-4954c95ed307",
   "metadata": {},
   "outputs": [
    {
     "name": "stderr",
     "output_type": "stream",
     "text": [
      "/home/edasmalchi/miniconda3/lib/python3.9/site-packages/google/auth/_default.py:71: UserWarning: Your application has authenticated using end user credentials from Google Cloud SDK without a quota project. You might receive a \"quota exceeded\" or \"API not enabled\" error. We recommend you rerun `gcloud auth application-default login` and make sure a quota project is added. Or you can use service accounts instead. For more information about service accounts, see https://cloud.google.com/docs/authentication/\n",
      "  warnings.warn(_CLOUD_SDK_CREDENTIALS_WARNING)\n"
     ]
    }
   ],
   "source": [
    "import calitp\n",
    "from calitp.tables import tbl\n",
    "from siuba import *\n",
    "\n",
    "import pandas as pd\n",
    "import numpy as np\n",
    "import geopandas as gpd\n",
    "import fiona\n",
    "\n",
    "from ipyleaflet import Map, GeoJSON, projections, basemaps, GeoData, LayersControl, WidgetControl, GeoJSON\n",
    "from ipywidgets import Text, HTML"
   ]
  },
  {
   "cell_type": "code",
   "execution_count": 12,
   "id": "e31ad027-1acc-44f8-bdd6-31f1b9b36a77",
   "metadata": {},
   "outputs": [],
   "source": [
    "bus_hqtc = gpd.read_parquet('./data/bus/shape_hqta_dissolve.parquet')\n",
    "bus_hqtc = bus_hqtc[bus_hqtc['hq_transit_corr']]"
   ]
  },
  {
   "cell_type": "code",
   "execution_count": 13,
   "id": "bcbea24e-ab7e-400a-8813-6a477471c1d6",
   "metadata": {},
   "outputs": [],
   "source": [
    "rail_ferry_brt_stops = gpd.read_parquet('./data/rail_ferry_brt/rail_brt_ferry.parquet')"
   ]
  },
  {
   "cell_type": "markdown",
   "id": "c9163e6d-212d-4b33-acb3-38b0b88fe9cb",
   "metadata": {},
   "source": [
    "### High Quality Transit Areas Relevant Statutes\n",
    "\n",
    "[PRC 21155](https://leginfo.legislature.ca.gov/faces/codes_displaySection.xhtml?sectionNum=21155.&lawCode=PRC)\n",
    "* _(3) be within one-half mile of a major transit stop or high-quality transit corridor included in a regional transportation plan._\n",
    "* Major transit stop definition: _A major transit stop is as defined in Section 21064.3, except that, for purposes of this section, it also includes major transit stops that are included in the applicable regional transportation plan_\n",
    "* High-quality transit corridor definition: _For purposes of this section, a high-quality transit corridor means a corridor with fixed route bus service with service intervals no longer than 15 minutes during peak commute hours._\n",
    "    * Unable to locate definition of \"peak commute hours\"\n",
    "\n",
    "[PRC 21064.3](https://leginfo.legislature.ca.gov/faces/codes_displaySection.xhtml?sectionNum=21064.3.&lawCode=PRC)\n",
    "* _Major transit stop means a site containing any of the following:\n",
    "(a) An existing rail or bus rapid transit station.\n",
    "(b) A ferry terminal served by either a bus or rail transit service.\n",
    "(c) The intersection of two or more major bus routes with a frequency of service interval of 15 minutes or less during the morning and afternoon peak commute periods._\n",
    "    * \"Intersection\" may not be sufficiently well-defined for this analysis\n",
    "\n",
    "[PRC 21060.2](https://leginfo.legislature.ca.gov/faces/codes_displaySection.xhtml?lawCode=PRC&sectionNum=21060.2.&highlight=true&keyword=bus%20rapid%20transit)\n",
    "* _(a) “Bus rapid transit” means a public mass transit service provided by a public agency or by a public-private partnership that includes all of the following features:\n",
    "(1) Full-time dedicated bus lanes or operation in a separate right-of-way dedicated for public transportation with a frequency of service interval of 15 minutes or less during the morning and afternoon peak commute periods.\n",
    "(2) Transit signal priority.\n",
    "(3) All-door boarding.\n",
    "(4) Fare collection system that promotes efficiency.\n",
    "(5) Defined stations._\n",
    "    * Unlikely to determine if a service qualifies as BRT under this definition using GTFS alone"
   ]
  },
  {
   "cell_type": "markdown",
   "id": "8e53d610-d9bc-4bc1-8a79-d32b3078d672",
   "metadata": {},
   "source": [
    "### Combining and Buffering\n",
    "\n",
    "* General buffer distance: 1/2mi ~= 805 meters\n",
    "* Bus corridors are already buffered 50 meters, so will buffer 755 meters"
   ]
  },
  {
   "cell_type": "code",
   "execution_count": 14,
   "id": "e13cb57b-0905-4b8c-9f8f-d6d87c09c533",
   "metadata": {},
   "outputs": [],
   "source": [
    "bus_hqtc.geometry = bus_hqtc.geometry.buffer(755)\n",
    "rail_ferry_brt_stops.geometry = rail_ferry_brt_stops.geometry.buffer(805)"
   ]
  },
  {
   "cell_type": "code",
   "execution_count": 15,
   "id": "da513fe3-7893-48a1-b33b-de36e5c97443",
   "metadata": {},
   "outputs": [],
   "source": [
    "all_hqta = bus_hqtc.append(rail_ferry_brt_stops).fillna('')"
   ]
  },
  {
   "cell_type": "code",
   "execution_count": 46,
   "id": "96ea1b81-97d2-4d9f-986b-cb82fcb1d481",
   "metadata": {},
   "outputs": [],
   "source": [
    "all_hqta = all_hqta[['calitp_itp_id', 'stop_id', 'geometry']]\n",
    "all_hqta = all_hqta.reset_index(drop=True)\n",
    "all_hqta['calitp_itp_id'] = all_hqta['calitp_itp_id'].astype('int64')"
   ]
  },
  {
   "cell_type": "code",
   "execution_count": 47,
   "id": "886cae78-3dd6-40e9-9c89-dfd2a0264a09",
   "metadata": {},
   "outputs": [],
   "source": [
    "def map_hqta(gdf, mouseover=None):\n",
    "    global nix_list\n",
    "    nix_list = []\n",
    "    \n",
    "    if 'calitp_extracted_at' in gdf.columns:\n",
    "        gdf = gdf.drop(columns='calitp_extracted_at')\n",
    "    gdf = gdf.to_crs('EPSG:6414') ## https://epsg.io/6414 (meters)\n",
    "    if gdf.geometry.iloc[0].geom_type == 'Point':\n",
    "        gdf.geometry = gdf.geometry.buffer(200)\n",
    "    \n",
    "    x = gdf.to_crs('EPSG:4326').geometry.iloc[0].centroid.x\n",
    "    y = gdf.to_crs('EPSG:4326').geometry.iloc[0].centroid.y\n",
    "    \n",
    "    m = Map(basemap=basemaps.CartoDB.Positron, center=[y, x], zoom=11)\n",
    "\n",
    "    if mouseover:\n",
    "        html = HTML(f'hover to see {mouseover}')\n",
    "        html.layout.margin = '0px 20px 20px 20px'\n",
    "        control = WidgetControl(widget=html, position='topright')\n",
    "        m.add_control(control)\n",
    "\n",
    "        def update_html(feature,  **kwargs):\n",
    "            html.value = '''\n",
    "                <h3><b>{}</b></h3>\n",
    "            '''.format(feature['properties'][mouseover])\n",
    "            \n",
    "        def add_to_nix(feature, **kwargs):\n",
    "            nix_list.append(feature['properties'][mouseover])\n",
    "            \n",
    "    if 'hq_transit_corr' in gdf.columns:\n",
    "        geo_data_hq = GeoData(geo_dataframe = gdf[gdf['hq_transit_corr']].to_crs('EPSG:4326'),\n",
    "                               style={'color': 'black', 'fillColor': '#08589e',\n",
    "                                            'opacity':0.4, 'weight':.5, 'dashArray':'2', 'fillOpacity':0.3},\n",
    "                               hover_style={'fillColor': 'red' , 'fillOpacity': 0.2},\n",
    "                               name = 'HQTA')\n",
    "        #a8ddb5\n",
    "        geo_data_not_hq = GeoData(geo_dataframe = gdf[~gdf['hq_transit_corr']].to_crs('EPSG:4326'),\n",
    "                               style={'color': 'black', 'fillColor': '#fec44f',\n",
    "                                            'opacity':0.2, 'weight':.5, 'dashArray':'2', 'fillOpacity':0.3},\n",
    "                               hover_style={'fillColor': 'red' , 'fillOpacity': 0.2},\n",
    "                               name = 'non-HQTA')\n",
    "\n",
    "        m.add_layer(geo_data_hq)\n",
    "        m.add_layer(geo_data_not_hq)\n",
    "    \n",
    "    else:\n",
    "    \n",
    "        geo_data_hq = GeoData(geo_dataframe = gdf.to_crs('EPSG:4326'),\n",
    "                               style={'color': 'black', 'fillColor': '#08589e',\n",
    "                                            'opacity':0.4, 'weight':.5, 'dashArray':'2', 'fillOpacity':0.3},\n",
    "                               hover_style={'fillColor': 'red' , 'fillOpacity': 0.2},\n",
    "                               name = 'gdf')\n",
    "        m.add_layer(geo_data_hq)\n",
    "    \n",
    "    if mouseover:\n",
    "        geo_data_hq.on_hover(update_html)\n",
    "        geo_data_hq.on_hover(add_to_nix)\n",
    "\n",
    "    m.add_control(LayersControl())\n",
    "\n",
    "    return m"
   ]
  },
  {
   "cell_type": "code",
   "execution_count": 48,
   "id": "a3adc41e-90f1-4117-8e49-938c4c838a8d",
   "metadata": {},
   "outputs": [
    {
     "data": {
      "application/vnd.jupyter.widget-view+json": {
       "model_id": "dbb495e1761142338ab1542126b51866",
       "version_major": 2,
       "version_minor": 0
      },
      "text/plain": [
       "Map(center=[33.79897878118749, -118.16219937789772], controls=(ZoomControl(options=['position', 'zoom_in_text'…"
      ]
     },
     "metadata": {},
     "output_type": "display_data"
    }
   ],
   "source": [
    "map_hqta(all_hqta)"
   ]
  },
  {
   "cell_type": "code",
   "execution_count": 49,
   "id": "c82240d2-3214-4f59-92e2-aafd0f7ebdf6",
   "metadata": {},
   "outputs": [],
   "source": [
    "dissolved = all_hqta.dissolve()"
   ]
  },
  {
   "cell_type": "code",
   "execution_count": 55,
   "id": "886a7cfa-4540-4d7e-b530-fdc8ccfd795b",
   "metadata": {},
   "outputs": [
    {
     "data": {
      "application/vnd.jupyter.widget-view+json": {
       "model_id": "48b22ec70d5f4f60892c5838d642d069",
       "version_major": 2,
       "version_minor": 0
      },
      "text/plain": [
       "Map(center=[35.28970367797219, -119.26271123494195], controls=(ZoomControl(options=['position', 'zoom_in_text'…"
      ]
     },
     "metadata": {},
     "output_type": "display_data"
    }
   ],
   "source": [
    "map_hqta(dissolved)"
   ]
  },
  {
   "cell_type": "code",
   "execution_count": 53,
   "id": "f614dc84-c6c1-482e-a6eb-d621ccb3af67",
   "metadata": {},
   "outputs": [
    {
     "name": "stderr",
     "output_type": "stream",
     "text": [
      "/tmp/ipykernel_10904/2113370953.py:1: UserWarning: this is an initial implementation of Parquet/Feather file support and associated metadata.  This is tracking version 0.1.0 of the metadata specification at https://github.com/geopandas/geo-arrow-spec\n",
      "\n",
      "This metadata specification does not yet make stability promises.  We do not yet recommend using this in a production setting unless you are able to rewrite your Parquet/Feather files.\n",
      "\n",
      "To further ignore this warning, you can do: \n",
      "import warnings; warnings.filterwarnings('ignore', message='.*initial implementation of Parquet.*')\n",
      "  all_hqta.to_parquet('./data/combined/buffered_overlapping.parquet')\n"
     ]
    }
   ],
   "source": [
    "all_hqta.to_parquet('./data/combined/buffered_overlapping.parquet')\n",
    "all_hqta.to_file('./data/combined/buffered_overlapping.geojson', driver='GeoJSON')"
   ]
  },
  {
   "cell_type": "code",
   "execution_count": 54,
   "id": "e43d6e90-e259-4b65-9c98-28f2e8e3ab85",
   "metadata": {},
   "outputs": [
    {
     "name": "stderr",
     "output_type": "stream",
     "text": [
      "/tmp/ipykernel_10904/3238490773.py:1: UserWarning: this is an initial implementation of Parquet/Feather file support and associated metadata.  This is tracking version 0.1.0 of the metadata specification at https://github.com/geopandas/geo-arrow-spec\n",
      "\n",
      "This metadata specification does not yet make stability promises.  We do not yet recommend using this in a production setting unless you are able to rewrite your Parquet/Feather files.\n",
      "\n",
      "To further ignore this warning, you can do: \n",
      "import warnings; warnings.filterwarnings('ignore', message='.*initial implementation of Parquet.*')\n",
      "  dissolved.to_parquet('./data/combined/clean_dissolved.parquet')\n"
     ]
    }
   ],
   "source": [
    "dissolved.to_parquet('./data/combined/clean_dissolved.parquet')\n",
    "dissolved.to_file('./data/combined/clean_dissolved.geojson', driver='GeoJSON')"
   ]
  },
  {
   "cell_type": "markdown",
   "id": "1752dde1-2740-49a7-9c5a-ddd3064ab7ac",
   "metadata": {},
   "source": [
    "## Static Map Images (all HQTAs)\n",
    "\n",
    "![bay](img/bay_valley_all.png)\n",
    "\n",
    "![fresno](img/fres_all.png)\n",
    "\n",
    "![san_diego](img/sd_all.png)"
   ]
  }
 ],
 "metadata": {
  "kernelspec": {
   "display_name": "Python 3 (ipykernel)",
   "language": "python",
   "name": "python3"
  },
  "language_info": {
   "codemirror_mode": {
    "name": "ipython",
    "version": 3
   },
   "file_extension": ".py",
   "mimetype": "text/x-python",
   "name": "python",
   "nbconvert_exporter": "python",
   "pygments_lexer": "ipython3",
   "version": "3.9.7"
  }
 },
 "nbformat": 4,
 "nbformat_minor": 5
}
