{
 "cells": [
  {
   "cell_type": "code",
   "execution_count": 1,
   "id": "7f9e615b-d071-4728-b774-1d02f509c332",
   "metadata": {
    "tags": []
   },
   "outputs": [],
   "source": [
    "# !pip install -r requirements.txt"
   ]
  },
  {
   "cell_type": "code",
   "execution_count": 149,
   "id": "4d53c57e-0777-4c0d-9dc6-4954c95ed307",
   "metadata": {},
   "outputs": [],
   "source": [
    "import calitp\n",
    "from calitp.tables import tbl\n",
    "from siuba import *\n",
    "\n",
    "import pandas as pd\n",
    "import numpy as np\n",
    "import geopandas as gpd\n",
    "import fiona\n",
    "import shapely\n",
    "\n",
    "from ipyleaflet import Map, GeoJSON, projections, basemaps, GeoData, LayersControl, WidgetControl, GeoJSON\n",
    "from ipywidgets import Text, HTML\n",
    "\n",
    "from utilities import *"
   ]
  },
  {
   "cell_type": "code",
   "execution_count": 150,
   "id": "e31ad027-1acc-44f8-bdd6-31f1b9b36a77",
   "metadata": {},
   "outputs": [],
   "source": [
    "bus_hqtc = gpd.read_parquet(f'{GCS_FILE_PATH}intermediate/shape_dissolve.parquet')\n",
    "bus_hqtc = bus_hqtc[bus_hqtc['hq_transit_corr']]\n",
    "bus_hqtc['hqta_type'] = 'hq_transit_corr'\n",
    "bus_hqtc['route_type'] = '3'"
   ]
  },
  {
   "cell_type": "code",
   "execution_count": 151,
   "id": "bcbea24e-ab7e-400a-8813-6a477471c1d6",
   "metadata": {},
   "outputs": [],
   "source": [
    "rail_ferry_brt_stops = gpd.read_parquet(f'{GCS_FILE_PATH}rail_brt_ferry.parquet')\n",
    "rail_ferry_brt_stops['hqta_type'] = 'major_transit_stop'"
   ]
  },
  {
   "cell_type": "code",
   "execution_count": 152,
   "id": "6aec4721-0827-40f3-be60-0790916b0385",
   "metadata": {},
   "outputs": [
    {
     "data": {
      "text/plain": [
       "Index(['calitp_itp_id', 'stop_id', 'stop_lat', 'stop_lon', 'stop_name',\n",
       "       'route_type', 'geometry', 'hqta_type'],\n",
       "      dtype='object')"
      ]
     },
     "execution_count": 152,
     "metadata": {},
     "output_type": "execute_result"
    }
   ],
   "source": [
    "rail_ferry_brt_stops.columns"
   ]
  },
  {
   "cell_type": "code",
   "execution_count": 6,
   "id": "0e807584-dfb2-4385-b274-7276b0bc38d0",
   "metadata": {
    "tags": []
   },
   "outputs": [],
   "source": [
    "# geoparquet_gcs_export(bus_hqtc, 'bus_hqtc')"
   ]
  },
  {
   "cell_type": "code",
   "execution_count": 7,
   "id": "3b9a9f5e-6371-4367-978c-c0be0e6d979f",
   "metadata": {
    "tags": []
   },
   "outputs": [],
   "source": [
    "# geoparquet_gcs_export(rail_ferry_brt_stops, 'rail_ferry_brt_stops')"
   ]
  },
  {
   "cell_type": "markdown",
   "id": "c9163e6d-212d-4b33-acb3-38b0b88fe9cb",
   "metadata": {},
   "source": [
    "### High Quality Transit Areas Relevant Statutes\n",
    "\n",
    "[PRC 21155](https://leginfo.legislature.ca.gov/faces/codes_displaySection.xhtml?sectionNum=21155.&lawCode=PRC)\n",
    "* _(3) be within one-half mile of a major transit stop or high-quality transit corridor included in a regional transportation plan._\n",
    "* Major transit stop definition: _A major transit stop is as defined in Section 21064.3, except that, for purposes of this section, it also includes major transit stops that are included in the applicable regional transportation plan_\n",
    "* High-quality transit corridor definition: _For purposes of this section, a high-quality transit corridor means a corridor with fixed route bus service with service intervals no longer than 15 minutes during peak commute hours._\n",
    "    * Unable to locate definition of \"peak commute hours\"\n",
    "\n",
    "[PRC 21064.3](https://leginfo.legislature.ca.gov/faces/codes_displaySection.xhtml?sectionNum=21064.3.&lawCode=PRC)\n",
    "* _Major transit stop means a site containing any of the following:\n",
    "(a) An existing rail or bus rapid transit station.\n",
    "(b) A ferry terminal served by either a bus or rail transit service.\n",
    "(c) The intersection of two or more major bus routes with a frequency of service interval of 15 minutes or less during the morning and afternoon peak commute periods._\n",
    "    * \"Intersection\" may not be sufficiently well-defined for this analysis\n",
    "\n",
    "[PRC 21060.2](https://leginfo.legislature.ca.gov/faces/codes_displaySection.xhtml?lawCode=PRC&sectionNum=21060.2.&highlight=true&keyword=bus%20rapid%20transit)\n",
    "* _(a) “Bus rapid transit” means a public mass transit service provided by a public agency or by a public-private partnership that includes all of the following features:\n",
    "(1) Full-time dedicated bus lanes or operation in a separate right-of-way dedicated for public transportation with a frequency of service interval of 15 minutes or less during the morning and afternoon peak commute periods.\n",
    "(2) Transit signal priority.\n",
    "(3) All-door boarding.\n",
    "(4) Fare collection system that promotes efficiency.\n",
    "(5) Defined stations._\n",
    "    * Unlikely to determine if a service qualifies as BRT under this definition using GTFS alone"
   ]
  },
  {
   "cell_type": "markdown",
   "id": "abd74f0f-d4d6-4e12-9501-09df49e38ed2",
   "metadata": {},
   "source": [
    "## Bus Major Stops"
   ]
  },
  {
   "cell_type": "code",
   "execution_count": 8,
   "id": "441de95c-34c4-46bd-a95c-bfa0fd0338ea",
   "metadata": {},
   "outputs": [
    {
     "data": {
      "text/html": [
       "<div>\n",
       "<style scoped>\n",
       "    .dataframe tbody tr th:only-of-type {\n",
       "        vertical-align: middle;\n",
       "    }\n",
       "\n",
       "    .dataframe tbody tr th {\n",
       "        vertical-align: top;\n",
       "    }\n",
       "\n",
       "    .dataframe thead th {\n",
       "        text-align: right;\n",
       "    }\n",
       "</style>\n",
       "<table border=\"1\" class=\"dataframe\">\n",
       "  <thead>\n",
       "    <tr style=\"text-align: right;\">\n",
       "      <th></th>\n",
       "      <th>hq_transit_corr</th>\n",
       "      <th>shape_id</th>\n",
       "      <th>geometry</th>\n",
       "      <th>calitp_itp_id</th>\n",
       "      <th>hqta_segment_id</th>\n",
       "      <th>segment_sequence</th>\n",
       "      <th>stop_id</th>\n",
       "      <th>am_max_trips</th>\n",
       "      <th>pm_max_trips</th>\n",
       "      <th>departure_hour</th>\n",
       "      <th>n</th>\n",
       "      <th>hqta_type</th>\n",
       "      <th>route_type</th>\n",
       "    </tr>\n",
       "  </thead>\n",
       "  <tbody>\n",
       "    <tr>\n",
       "      <th>2755</th>\n",
       "      <td>True</td>\n",
       "      <td>0500</td>\n",
       "      <td>MULTIPOLYGON (((212402.267 -486786.382, 212428...</td>\n",
       "      <td>142</td>\n",
       "      <td>2197551287</td>\n",
       "      <td>0</td>\n",
       "      <td>3977</td>\n",
       "      <td>10.0</td>\n",
       "      <td>9.0</td>\n",
       "      <td>NaN</td>\n",
       "      <td>NaN</td>\n",
       "      <td>hq_transit_corr</td>\n",
       "      <td>3</td>\n",
       "    </tr>\n",
       "    <tr>\n",
       "      <th>2756</th>\n",
       "      <td>True</td>\n",
       "      <td>0843</td>\n",
       "      <td>MULTIPOLYGON (((200815.727 -472198.441, 200811...</td>\n",
       "      <td>142</td>\n",
       "      <td>1555422069</td>\n",
       "      <td>0</td>\n",
       "      <td>6679</td>\n",
       "      <td>5.0</td>\n",
       "      <td>6.0</td>\n",
       "      <td>NaN</td>\n",
       "      <td>NaN</td>\n",
       "      <td>hq_transit_corr</td>\n",
       "      <td>3</td>\n",
       "    </tr>\n",
       "    <tr>\n",
       "      <th>2758</th>\n",
       "      <td>True</td>\n",
       "      <td>10</td>\n",
       "      <td>MULTIPOLYGON (((170484.804 -424390.901, 170484...</td>\n",
       "      <td>243</td>\n",
       "      <td>3850303330</td>\n",
       "      <td>1</td>\n",
       "      <td>147</td>\n",
       "      <td>10.0</td>\n",
       "      <td>12.0</td>\n",
       "      <td>NaN</td>\n",
       "      <td>NaN</td>\n",
       "      <td>hq_transit_corr</td>\n",
       "      <td>3</td>\n",
       "    </tr>\n",
       "  </tbody>\n",
       "</table>\n",
       "</div>"
      ],
      "text/plain": [
       "      hq_transit_corr shape_id  \\\n",
       "2755             True     0500   \n",
       "2756             True     0843   \n",
       "2758             True       10   \n",
       "\n",
       "                                               geometry calitp_itp_id  \\\n",
       "2755  MULTIPOLYGON (((212402.267 -486786.382, 212428...           142   \n",
       "2756  MULTIPOLYGON (((200815.727 -472198.441, 200811...           142   \n",
       "2758  MULTIPOLYGON (((170484.804 -424390.901, 170484...           243   \n",
       "\n",
       "      hqta_segment_id segment_sequence stop_id  am_max_trips  pm_max_trips  \\\n",
       "2755       2197551287                0    3977          10.0           9.0   \n",
       "2756       1555422069                0    6679           5.0           6.0   \n",
       "2758       3850303330                1     147          10.0          12.0   \n",
       "\n",
       "      departure_hour   n        hqta_type route_type  \n",
       "2755             NaN NaN  hq_transit_corr          3  \n",
       "2756             NaN NaN  hq_transit_corr          3  \n",
       "2758             NaN NaN  hq_transit_corr          3  "
      ]
     },
     "execution_count": 8,
     "metadata": {},
     "output_type": "execute_result"
    }
   ],
   "source": [
    "bus_hqtc.head(3)"
   ]
  },
  {
   "cell_type": "code",
   "execution_count": 9,
   "id": "f104e680-a949-4e07-a4dd-19950207c66f",
   "metadata": {},
   "outputs": [],
   "source": [
    "gdf = bus_hqtc\n",
    "output = gpd.GeoDataFrame()\n",
    "\n",
    "def find_intersections(row):\n",
    "    global output\n",
    "    # display(row)\n",
    "    # display(row.shape_id)\n",
    "    this_row = gdf >> filter(_.shape_id == row.shape_id)\n",
    "    not_this_row = gdf >> filter(_.shape_id != row.shape_id)\n",
    "    # print(type(filtered))\n",
    "    clip_row = gpd.clip(this_row, not_this_row)\n",
    "    output = pd.concat((output, clip_row))\n",
    "    return"
   ]
  },
  {
   "cell_type": "code",
   "execution_count": 10,
   "id": "38b7e610-5538-46b9-90c8-02a8730bcfbe",
   "metadata": {},
   "outputs": [],
   "source": [
    "from tqdm import tqdm"
   ]
  },
  {
   "cell_type": "code",
   "execution_count": 11,
   "id": "1a2a5df4-3d5e-4b97-88d3-5608794e9d26",
   "metadata": {},
   "outputs": [],
   "source": [
    "tqdm.pandas()"
   ]
  },
  {
   "cell_type": "code",
   "execution_count": 12,
   "id": "96caf70f-e497-4df4-9b1a-20b54f7b7f83",
   "metadata": {},
   "outputs": [],
   "source": [
    "## ran 5/17\n",
    "# _test = bus_hqtc.progress_apply(find_intersections, axis=1)"
   ]
  },
  {
   "cell_type": "code",
   "execution_count": 13,
   "id": "cdb9023e-8397-4eed-b829-0ab22ee26580",
   "metadata": {},
   "outputs": [],
   "source": [
    "# output.geometry = output.geometry.buffer(50)"
   ]
  },
  {
   "cell_type": "code",
   "execution_count": 14,
   "id": "94a3e040-02c6-40b2-8c0e-2766a7b3168b",
   "metadata": {},
   "outputs": [],
   "source": [
    "# shared_utils.utils.geoparquet_gcs_export(output, f'{GCS_FILE_PATH}', f'major_bus_stops_working')"
   ]
  },
  {
   "cell_type": "code",
   "execution_count": 15,
   "id": "c3f748fa-861d-4d7c-b005-480d6ecc30a2",
   "metadata": {},
   "outputs": [],
   "source": [
    "major_bus = gpd.read_parquet(f'{GCS_FILE_PATH}major_bus_stops_working.parquet')"
   ]
  },
  {
   "cell_type": "code",
   "execution_count": 16,
   "id": "63f23941-c0ca-495a-85d5-4eb47142de40",
   "metadata": {},
   "outputs": [],
   "source": [
    "# map_hqta(major_bus)"
   ]
  },
  {
   "cell_type": "code",
   "execution_count": 17,
   "id": "ca09eb4e-97b4-48b6-ba21-542ac35c8ceb",
   "metadata": {},
   "outputs": [],
   "source": [
    "def drop_big_areas(geometry):\n",
    "    if type(geometry) == shapely.geometry.multipolygon.MultiPolygon:\n",
    "        filtered = [x for x in list(geometry.geoms) if x.length < 1000]\n",
    "        if len(filtered) > 0:\n",
    "            return shapely.geometry.MultiPolygon(filtered)\n",
    "    elif type(geometry) == shapely.geometry.polygon.Polygon:\n",
    "        if geometry.length < 1000:\n",
    "            return geometry\n",
    "    else:\n",
    "        return np.nan"
   ]
  },
  {
   "cell_type": "code",
   "execution_count": 18,
   "id": "82e5d819-63dc-4ba3-a9f9-c314f5a4ca33",
   "metadata": {},
   "outputs": [],
   "source": [
    "major_bus['geometry'] = major_bus.geometry.apply(drop_big_areas)"
   ]
  },
  {
   "cell_type": "code",
   "execution_count": 19,
   "id": "6273ed98-b5a2-4e83-bfac-9f487f8c6142",
   "metadata": {},
   "outputs": [],
   "source": [
    "row_per_stop = gpd.GeoDataFrame()\n",
    "def explode_geoms(row):\n",
    "    global row_per_stop\n",
    "    if type(row.geometry) == shapely.geometry.multipolygon.MultiPolygon:\n",
    "        for geom in row.geometry.geoms:\n",
    "            row.geometry = geom.centroid\n",
    "            row_per_stop = pd.concat((row_per_stop, row))\n",
    "    elif type(row.geometry) == shapely.geometry.polygon.Polygon:\n",
    "        row.geometry = row.geometry.centroid\n",
    "        row_per_stop = pd.concat((row_per_stop, row))\n",
    "    \n",
    "    return row"
   ]
  },
  {
   "cell_type": "code",
   "execution_count": 23,
   "id": "280f79d2-ed38-419d-be89-653167b1efec",
   "metadata": {
    "tags": []
   },
   "outputs": [],
   "source": [
    "# major_bus = major_bus.dropna(subset=['geometry'])\n",
    "\n",
    "# major_bus.apply(explode_geoms, axis=1)\n",
    "\n",
    "# row_per_stop = row_per_stop.reset_index(drop=True)\n",
    "\n",
    "# row_per_stop = row_per_stop[['calitp_itp_id', 'stop_id', 'geometry']]\n",
    "\n",
    "# row_per_stop['hqta_type'] = 'major_transit_stop'\n",
    "\n",
    "# row_per_stop = row_per_stop.set_crs(\n",
    "#     shared_utils.geography_utils.CA_NAD83Albers)"
   ]
  },
  {
   "cell_type": "code",
   "execution_count": 33,
   "id": "5adca184-a4d3-45a4-a4dd-a77f9f018464",
   "metadata": {},
   "outputs": [],
   "source": [
    "row_per_stop = gpd.GeoDataFrame(row_per_stop, geometry=row_per_stop.geometry,\n",
    "                               crs = shared_utils.geography_utils.CA_NAD83Albers)"
   ]
  },
  {
   "cell_type": "code",
   "execution_count": 24,
   "id": "504c550b-a14f-4290-be6e-54b892b2e783",
   "metadata": {},
   "outputs": [],
   "source": [
    "# shared_utils.utils.geoparquet_gcs_export(row_per_stop, f'{GCS_FILE_PATH}', f'major_bus_stops')"
   ]
  },
  {
   "cell_type": "code",
   "execution_count": 34,
   "id": "87dbcdc7-79f0-48e4-91d4-647cdb087cf5",
   "metadata": {},
   "outputs": [],
   "source": [
    "major_bus_stops = gpd.read_parquet(f'{GCS_FILE_PATH}major_bus_stops.parquet')"
   ]
  },
  {
   "cell_type": "code",
   "execution_count": 35,
   "id": "e3e8c306-a89f-438f-8f0e-5e165e257cb6",
   "metadata": {},
   "outputs": [
    {
     "data": {
      "text/html": [
       "<div>\n",
       "<style scoped>\n",
       "    .dataframe tbody tr th:only-of-type {\n",
       "        vertical-align: middle;\n",
       "    }\n",
       "\n",
       "    .dataframe tbody tr th {\n",
       "        vertical-align: top;\n",
       "    }\n",
       "\n",
       "    .dataframe thead th {\n",
       "        text-align: right;\n",
       "    }\n",
       "</style>\n",
       "<table border=\"1\" class=\"dataframe\">\n",
       "  <thead>\n",
       "    <tr style=\"text-align: right;\">\n",
       "      <th></th>\n",
       "      <th>calitp_itp_id</th>\n",
       "      <th>stop_id</th>\n",
       "      <th>geometry</th>\n",
       "      <th>hqta_type</th>\n",
       "    </tr>\n",
       "  </thead>\n",
       "  <tbody>\n",
       "    <tr>\n",
       "      <th>0</th>\n",
       "      <td>142</td>\n",
       "      <td>3977</td>\n",
       "      <td>POINT (212896.375 -487200.839)</td>\n",
       "      <td>major_transit_stop</td>\n",
       "    </tr>\n",
       "    <tr>\n",
       "      <th>1</th>\n",
       "      <td>142</td>\n",
       "      <td>3977</td>\n",
       "      <td>POINT (212351.822 -486889.713)</td>\n",
       "      <td>major_transit_stop</td>\n",
       "    </tr>\n",
       "    <tr>\n",
       "      <th>2</th>\n",
       "      <td>142</td>\n",
       "      <td>3977</td>\n",
       "      <td>POINT (198974.208 -471136.313)</td>\n",
       "      <td>major_transit_stop</td>\n",
       "    </tr>\n",
       "  </tbody>\n",
       "</table>\n",
       "</div>"
      ],
      "text/plain": [
       "  calitp_itp_id stop_id                        geometry           hqta_type\n",
       "0           142    3977  POINT (212896.375 -487200.839)  major_transit_stop\n",
       "1           142    3977  POINT (212351.822 -486889.713)  major_transit_stop\n",
       "2           142    3977  POINT (198974.208 -471136.313)  major_transit_stop"
      ]
     },
     "execution_count": 35,
     "metadata": {},
     "output_type": "execute_result"
    }
   ],
   "source": [
    "major_bus_stops.head(3)"
   ]
  },
  {
   "cell_type": "code",
   "execution_count": 36,
   "id": "65d71615-12fa-4ecd-abfc-1684b62459d3",
   "metadata": {},
   "outputs": [],
   "source": [
    "analysis_date = dt.date(2022, 5, 4) ## Wed, May 4"
   ]
  },
  {
   "cell_type": "code",
   "execution_count": 37,
   "id": "24daf28c-943a-4a9f-871c-e11b5d761595",
   "metadata": {},
   "outputs": [],
   "source": [
    "tbl_stops = (tbl.views.gtfs_schedule_fact_daily_feed_stops()\n",
    " >> filter(_.date == analysis_date)\n",
    " >> filter(_.calitp_extracted_at < analysis_date)\n",
    " >> filter(_.calitp_deleted_at > analysis_date)\n",
    " >> select(_.stop_key)\n",
    " >> inner_join(_, tbl.views.gtfs_schedule_dim_stops(), on = 'stop_key')\n",
    " >> select(_.stop_id, _.stop_lat, _.stop_lon, _.calitp_itp_id)\n",
    " >> filter(_.calitp_itp_id != 200)\n",
    " >> collect()\n",
    ")"
   ]
  },
  {
   "cell_type": "code",
   "execution_count": 38,
   "id": "cddf70f5-cca1-4896-9f52-1ea5004278e5",
   "metadata": {},
   "outputs": [],
   "source": [
    "tbl_stops = gpd.GeoDataFrame(tbl_stops,\n",
    "                 geometry = gpd.points_from_xy(tbl_stops.stop_lon, tbl_stops.stop_lat),\n",
    "                 crs = 'EPSG:4326').to_crs(shared_utils.geography_utils.CA_NAD83Albers)"
   ]
  },
  {
   "cell_type": "code",
   "execution_count": 39,
   "id": "27ec75fc-e017-4f98-96f8-94d8d6ca479e",
   "metadata": {},
   "outputs": [
    {
     "data": {
      "text/html": [
       "<div>\n",
       "<style scoped>\n",
       "    .dataframe tbody tr th:only-of-type {\n",
       "        vertical-align: middle;\n",
       "    }\n",
       "\n",
       "    .dataframe tbody tr th {\n",
       "        vertical-align: top;\n",
       "    }\n",
       "\n",
       "    .dataframe thead th {\n",
       "        text-align: right;\n",
       "    }\n",
       "</style>\n",
       "<table border=\"1\" class=\"dataframe\">\n",
       "  <thead>\n",
       "    <tr style=\"text-align: right;\">\n",
       "      <th></th>\n",
       "      <th>stop_id</th>\n",
       "      <th>stop_lat</th>\n",
       "      <th>stop_lon</th>\n",
       "      <th>calitp_itp_id</th>\n",
       "      <th>geometry</th>\n",
       "    </tr>\n",
       "  </thead>\n",
       "  <tbody>\n",
       "    <tr>\n",
       "      <th>0</th>\n",
       "      <td>53066</td>\n",
       "      <td>38.756509</td>\n",
       "      <td>-121.254002</td>\n",
       "      <td>271</td>\n",
       "      <td>POINT (-108857.993 82995.480)</td>\n",
       "    </tr>\n",
       "    <tr>\n",
       "      <th>1</th>\n",
       "      <td>ARN</td>\n",
       "      <td>38.903831</td>\n",
       "      <td>-121.082922</td>\n",
       "      <td>56</td>\n",
       "      <td>POINT (-93820.462 99186.374)</td>\n",
       "    </tr>\n",
       "    <tr>\n",
       "      <th>2</th>\n",
       "      <td>BKY</td>\n",
       "      <td>37.867439</td>\n",
       "      <td>-122.300908</td>\n",
       "      <td>56</td>\n",
       "      <td>POINT (-202122.815 -14102.903)</td>\n",
       "    </tr>\n",
       "  </tbody>\n",
       "</table>\n",
       "</div>"
      ],
      "text/plain": [
       "  stop_id   stop_lat    stop_lon  calitp_itp_id  \\\n",
       "0   53066  38.756509 -121.254002            271   \n",
       "1     ARN  38.903831 -121.082922             56   \n",
       "2     BKY  37.867439 -122.300908             56   \n",
       "\n",
       "                         geometry  \n",
       "0   POINT (-108857.993 82995.480)  \n",
       "1    POINT (-93820.462 99186.374)  \n",
       "2  POINT (-202122.815 -14102.903)  "
      ]
     },
     "execution_count": 39,
     "metadata": {},
     "output_type": "execute_result"
    }
   ],
   "source": [
    "tbl_stops.head(3)"
   ]
  },
  {
   "cell_type": "code",
   "execution_count": 40,
   "id": "d5a65203-2245-4ea4-94d3-71685a00c929",
   "metadata": {},
   "outputs": [],
   "source": [
    "to_join = major_bus_stops[['calitp_itp_id']].astype({'calitp_itp_id': 'int64'})"
   ]
  },
  {
   "cell_type": "code",
   "execution_count": 41,
   "id": "19f9b7dd-1b2b-4c7a-9ba9-3e1e1e9b46be",
   "metadata": {
    "tags": []
   },
   "outputs": [],
   "source": [
    "## all stops for an operator with at least 1 major stop\n",
    "tbl_stops_major = (tbl_stops\n",
    "         >> inner_join(_, to_join, on=['calitp_itp_id'])\n",
    "         >> distinct(_.calitp_itp_id, _.stop_id, _keep_all=True)\n",
    "            )\n"
   ]
  },
  {
   "cell_type": "code",
   "execution_count": 42,
   "id": "5410b54c-930f-4d88-982a-4275a90334d4",
   "metadata": {},
   "outputs": [
    {
     "data": {
      "text/html": [
       "<div>\n",
       "<style scoped>\n",
       "    .dataframe tbody tr th:only-of-type {\n",
       "        vertical-align: middle;\n",
       "    }\n",
       "\n",
       "    .dataframe tbody tr th {\n",
       "        vertical-align: top;\n",
       "    }\n",
       "\n",
       "    .dataframe thead th {\n",
       "        text-align: right;\n",
       "    }\n",
       "</style>\n",
       "<table border=\"1\" class=\"dataframe\">\n",
       "  <thead>\n",
       "    <tr style=\"text-align: right;\">\n",
       "      <th></th>\n",
       "      <th>stop_id</th>\n",
       "      <th>stop_lat</th>\n",
       "      <th>stop_lon</th>\n",
       "      <th>calitp_itp_id</th>\n",
       "      <th>geometry</th>\n",
       "    </tr>\n",
       "  </thead>\n",
       "  <tbody>\n",
       "    <tr>\n",
       "      <th>0</th>\n",
       "      <td>7264</td>\n",
       "      <td>37.957347</td>\n",
       "      <td>-121.293516</td>\n",
       "      <td>284</td>\n",
       "      <td>POINT (-113499.931 -5786.611)</td>\n",
       "    </tr>\n",
       "    <tr>\n",
       "      <th>1</th>\n",
       "      <td>7009</td>\n",
       "      <td>37.996681</td>\n",
       "      <td>-121.314823</td>\n",
       "      <td>284</td>\n",
       "      <td>POINT (-115308.763 -1388.681)</td>\n",
       "    </tr>\n",
       "    <tr>\n",
       "      <th>2</th>\n",
       "      <td>4292</td>\n",
       "      <td>37.795916</td>\n",
       "      <td>-120.994762</td>\n",
       "      <td>284</td>\n",
       "      <td>POINT (-87475.072 -24047.759)</td>\n",
       "    </tr>\n",
       "  </tbody>\n",
       "</table>\n",
       "</div>"
      ],
      "text/plain": [
       "  stop_id   stop_lat    stop_lon  calitp_itp_id                       geometry\n",
       "0    7264  37.957347 -121.293516            284  POINT (-113499.931 -5786.611)\n",
       "1    7009  37.996681 -121.314823            284  POINT (-115308.763 -1388.681)\n",
       "2    4292  37.795916 -120.994762            284  POINT (-87475.072 -24047.759)"
      ]
     },
     "execution_count": 42,
     "metadata": {},
     "output_type": "execute_result"
    }
   ],
   "source": [
    "tbl_stops_major.head(3)"
   ]
  },
  {
   "cell_type": "code",
   "execution_count": 43,
   "id": "9a9987a0-74c2-4018-99d6-bc68ecbb292a",
   "metadata": {},
   "outputs": [],
   "source": [
    "tbl_stops_major.geometry = tbl_stops_major.buffer(100)"
   ]
  },
  {
   "cell_type": "code",
   "execution_count": 44,
   "id": "ee7ff27d-6ffc-4458-bd95-5aa5c8a9a57e",
   "metadata": {},
   "outputs": [
    {
     "data": {
      "text/html": [
       "<div>\n",
       "<style scoped>\n",
       "    .dataframe tbody tr th:only-of-type {\n",
       "        vertical-align: middle;\n",
       "    }\n",
       "\n",
       "    .dataframe tbody tr th {\n",
       "        vertical-align: top;\n",
       "    }\n",
       "\n",
       "    .dataframe thead th {\n",
       "        text-align: right;\n",
       "    }\n",
       "</style>\n",
       "<table border=\"1\" class=\"dataframe\">\n",
       "  <thead>\n",
       "    <tr style=\"text-align: right;\">\n",
       "      <th></th>\n",
       "      <th>stop_id</th>\n",
       "      <th>stop_lat</th>\n",
       "      <th>stop_lon</th>\n",
       "      <th>calitp_itp_id</th>\n",
       "      <th>geometry</th>\n",
       "    </tr>\n",
       "  </thead>\n",
       "  <tbody>\n",
       "    <tr>\n",
       "      <th>0</th>\n",
       "      <td>7264</td>\n",
       "      <td>37.957347</td>\n",
       "      <td>-121.293516</td>\n",
       "      <td>284</td>\n",
       "      <td>POLYGON ((-113399.931 -5786.611, -113400.413 -...</td>\n",
       "    </tr>\n",
       "    <tr>\n",
       "      <th>1</th>\n",
       "      <td>7009</td>\n",
       "      <td>37.996681</td>\n",
       "      <td>-121.314823</td>\n",
       "      <td>284</td>\n",
       "      <td>POLYGON ((-115208.763 -1388.681, -115209.244 -...</td>\n",
       "    </tr>\n",
       "    <tr>\n",
       "      <th>2</th>\n",
       "      <td>4292</td>\n",
       "      <td>37.795916</td>\n",
       "      <td>-120.994762</td>\n",
       "      <td>284</td>\n",
       "      <td>POLYGON ((-87375.072 -24047.759, -87375.554 -2...</td>\n",
       "    </tr>\n",
       "  </tbody>\n",
       "</table>\n",
       "</div>"
      ],
      "text/plain": [
       "  stop_id   stop_lat    stop_lon  calitp_itp_id  \\\n",
       "0    7264  37.957347 -121.293516            284   \n",
       "1    7009  37.996681 -121.314823            284   \n",
       "2    4292  37.795916 -120.994762            284   \n",
       "\n",
       "                                            geometry  \n",
       "0  POLYGON ((-113399.931 -5786.611, -113400.413 -...  \n",
       "1  POLYGON ((-115208.763 -1388.681, -115209.244 -...  \n",
       "2  POLYGON ((-87375.072 -24047.759, -87375.554 -2...  "
      ]
     },
     "execution_count": 44,
     "metadata": {},
     "output_type": "execute_result"
    }
   ],
   "source": [
    "tbl_stops_major.head(3)"
   ]
  },
  {
   "cell_type": "code",
   "execution_count": 45,
   "id": "1ac15d0a-1aeb-48c4-9acf-92b7642b6fcd",
   "metadata": {},
   "outputs": [],
   "source": [
    "drop_id = major_bus_stops.drop(columns=['stop_id'])"
   ]
  },
  {
   "cell_type": "code",
   "execution_count": 46,
   "id": "e1d0d729-4931-4020-bfd6-4c15818caff0",
   "metadata": {},
   "outputs": [],
   "source": [
    "spatial_stops_major = tbl_stops_major.sjoin(drop_id, how='inner', predicate='contains')"
   ]
  },
  {
   "cell_type": "code",
   "execution_count": 47,
   "id": "b593d95a-308f-4635-9ce5-f24bbdd164e6",
   "metadata": {},
   "outputs": [],
   "source": [
    "new_major_stops = spatial_stops_major.drop_duplicates(subset=['stop_id', 'calitp_itp_id_left', 'calitp_itp_id_right'])"
   ]
  },
  {
   "cell_type": "code",
   "execution_count": 48,
   "id": "46241013-0529-40c7-a8d9-3002637a4240",
   "metadata": {},
   "outputs": [
    {
     "name": "stderr",
     "output_type": "stream",
     "text": [
      "/opt/conda/lib/python3.9/site-packages/geopandas/geodataframe.py:1351: SettingWithCopyWarning: \n",
      "A value is trying to be set on a copy of a slice from a DataFrame.\n",
      "Try using .loc[row_indexer,col_indexer] = value instead\n",
      "\n",
      "See the caveats in the documentation: https://pandas.pydata.org/pandas-docs/stable/user_guide/indexing.html#returning-a-view-versus-a-copy\n"
     ]
    }
   ],
   "source": [
    "new_major_stops.geometry = new_major_stops.centroid"
   ]
  },
  {
   "cell_type": "code",
   "execution_count": 49,
   "id": "ed5c5734-7ede-4211-a61b-f22eec81686a",
   "metadata": {},
   "outputs": [],
   "source": [
    "# map_hqta(new_major_stops)"
   ]
  },
  {
   "cell_type": "markdown",
   "id": "99a33ab8-c664-4671-89ef-54cdff7462f2",
   "metadata": {},
   "source": [
    "### Bus Corridors to Stops Along Corridor"
   ]
  },
  {
   "cell_type": "code",
   "execution_count": 50,
   "id": "6943606a-d815-49c6-aa43-a7ab27285939",
   "metadata": {},
   "outputs": [],
   "source": [
    "tbl_stops_corridors = tbl_stops"
   ]
  },
  {
   "cell_type": "code",
   "execution_count": 51,
   "id": "bf2f1177-b087-416c-8ae4-3f3f3569da55",
   "metadata": {},
   "outputs": [
    {
     "data": {
      "text/html": [
       "<div>\n",
       "<style scoped>\n",
       "    .dataframe tbody tr th:only-of-type {\n",
       "        vertical-align: middle;\n",
       "    }\n",
       "\n",
       "    .dataframe tbody tr th {\n",
       "        vertical-align: top;\n",
       "    }\n",
       "\n",
       "    .dataframe thead th {\n",
       "        text-align: right;\n",
       "    }\n",
       "</style>\n",
       "<table border=\"1\" class=\"dataframe\">\n",
       "  <thead>\n",
       "    <tr style=\"text-align: right;\">\n",
       "      <th></th>\n",
       "      <th>stop_id</th>\n",
       "      <th>stop_lat</th>\n",
       "      <th>stop_lon</th>\n",
       "      <th>calitp_itp_id</th>\n",
       "      <th>geometry</th>\n",
       "    </tr>\n",
       "  </thead>\n",
       "  <tbody>\n",
       "    <tr>\n",
       "      <th>0</th>\n",
       "      <td>53066</td>\n",
       "      <td>38.756509</td>\n",
       "      <td>-121.254002</td>\n",
       "      <td>271</td>\n",
       "      <td>POINT (-108857.993 82995.480)</td>\n",
       "    </tr>\n",
       "    <tr>\n",
       "      <th>1</th>\n",
       "      <td>ARN</td>\n",
       "      <td>38.903831</td>\n",
       "      <td>-121.082922</td>\n",
       "      <td>56</td>\n",
       "      <td>POINT (-93820.462 99186.374)</td>\n",
       "    </tr>\n",
       "    <tr>\n",
       "      <th>2</th>\n",
       "      <td>BKY</td>\n",
       "      <td>37.867439</td>\n",
       "      <td>-122.300908</td>\n",
       "      <td>56</td>\n",
       "      <td>POINT (-202122.815 -14102.903)</td>\n",
       "    </tr>\n",
       "  </tbody>\n",
       "</table>\n",
       "</div>"
      ],
      "text/plain": [
       "  stop_id   stop_lat    stop_lon  calitp_itp_id  \\\n",
       "0   53066  38.756509 -121.254002            271   \n",
       "1     ARN  38.903831 -121.082922             56   \n",
       "2     BKY  37.867439 -122.300908             56   \n",
       "\n",
       "                         geometry  \n",
       "0   POINT (-108857.993 82995.480)  \n",
       "1    POINT (-93820.462 99186.374)  \n",
       "2  POINT (-202122.815 -14102.903)  "
      ]
     },
     "execution_count": 51,
     "metadata": {},
     "output_type": "execute_result"
    }
   ],
   "source": [
    "tbl_stops_corridors.head(3)"
   ]
  },
  {
   "cell_type": "code",
   "execution_count": 52,
   "id": "eda55a78-d4c5-47cc-8012-ac2d1fa4a92f",
   "metadata": {},
   "outputs": [
    {
     "data": {
      "text/html": [
       "<div>\n",
       "<style scoped>\n",
       "    .dataframe tbody tr th:only-of-type {\n",
       "        vertical-align: middle;\n",
       "    }\n",
       "\n",
       "    .dataframe tbody tr th {\n",
       "        vertical-align: top;\n",
       "    }\n",
       "\n",
       "    .dataframe thead th {\n",
       "        text-align: right;\n",
       "    }\n",
       "</style>\n",
       "<table border=\"1\" class=\"dataframe\">\n",
       "  <thead>\n",
       "    <tr style=\"text-align: right;\">\n",
       "      <th></th>\n",
       "      <th>hq_transit_corr</th>\n",
       "      <th>shape_id</th>\n",
       "      <th>geometry</th>\n",
       "      <th>calitp_itp_id</th>\n",
       "      <th>hqta_segment_id</th>\n",
       "      <th>segment_sequence</th>\n",
       "      <th>stop_id</th>\n",
       "      <th>am_max_trips</th>\n",
       "      <th>pm_max_trips</th>\n",
       "      <th>departure_hour</th>\n",
       "      <th>n</th>\n",
       "      <th>hqta_type</th>\n",
       "      <th>route_type</th>\n",
       "    </tr>\n",
       "  </thead>\n",
       "  <tbody>\n",
       "    <tr>\n",
       "      <th>2755</th>\n",
       "      <td>True</td>\n",
       "      <td>0500</td>\n",
       "      <td>MULTIPOLYGON (((212402.267 -486786.382, 212428...</td>\n",
       "      <td>142</td>\n",
       "      <td>2197551287</td>\n",
       "      <td>0</td>\n",
       "      <td>3977</td>\n",
       "      <td>10.0</td>\n",
       "      <td>9.0</td>\n",
       "      <td>NaN</td>\n",
       "      <td>NaN</td>\n",
       "      <td>hq_transit_corr</td>\n",
       "      <td>3</td>\n",
       "    </tr>\n",
       "    <tr>\n",
       "      <th>2756</th>\n",
       "      <td>True</td>\n",
       "      <td>0843</td>\n",
       "      <td>MULTIPOLYGON (((200815.727 -472198.441, 200811...</td>\n",
       "      <td>142</td>\n",
       "      <td>1555422069</td>\n",
       "      <td>0</td>\n",
       "      <td>6679</td>\n",
       "      <td>5.0</td>\n",
       "      <td>6.0</td>\n",
       "      <td>NaN</td>\n",
       "      <td>NaN</td>\n",
       "      <td>hq_transit_corr</td>\n",
       "      <td>3</td>\n",
       "    </tr>\n",
       "    <tr>\n",
       "      <th>2758</th>\n",
       "      <td>True</td>\n",
       "      <td>10</td>\n",
       "      <td>MULTIPOLYGON (((170484.804 -424390.901, 170484...</td>\n",
       "      <td>243</td>\n",
       "      <td>3850303330</td>\n",
       "      <td>1</td>\n",
       "      <td>147</td>\n",
       "      <td>10.0</td>\n",
       "      <td>12.0</td>\n",
       "      <td>NaN</td>\n",
       "      <td>NaN</td>\n",
       "      <td>hq_transit_corr</td>\n",
       "      <td>3</td>\n",
       "    </tr>\n",
       "  </tbody>\n",
       "</table>\n",
       "</div>"
      ],
      "text/plain": [
       "      hq_transit_corr shape_id  \\\n",
       "2755             True     0500   \n",
       "2756             True     0843   \n",
       "2758             True       10   \n",
       "\n",
       "                                               geometry calitp_itp_id  \\\n",
       "2755  MULTIPOLYGON (((212402.267 -486786.382, 212428...           142   \n",
       "2756  MULTIPOLYGON (((200815.727 -472198.441, 200811...           142   \n",
       "2758  MULTIPOLYGON (((170484.804 -424390.901, 170484...           243   \n",
       "\n",
       "      hqta_segment_id segment_sequence stop_id  am_max_trips  pm_max_trips  \\\n",
       "2755       2197551287                0    3977          10.0           9.0   \n",
       "2756       1555422069                0    6679           5.0           6.0   \n",
       "2758       3850303330                1     147          10.0          12.0   \n",
       "\n",
       "      departure_hour   n        hqta_type route_type  \n",
       "2755             NaN NaN  hq_transit_corr          3  \n",
       "2756             NaN NaN  hq_transit_corr          3  \n",
       "2758             NaN NaN  hq_transit_corr          3  "
      ]
     },
     "execution_count": 52,
     "metadata": {},
     "output_type": "execute_result"
    }
   ],
   "source": [
    "bus_hqtc.head(3)"
   ]
  },
  {
   "cell_type": "code",
   "execution_count": 53,
   "id": "c161a6c5-bd29-4f0e-aaa2-f83731af42d4",
   "metadata": {},
   "outputs": [],
   "source": [
    "stops_in_corridor = tbl_stops_corridors.clip(bus_hqtc)"
   ]
  },
  {
   "cell_type": "code",
   "execution_count": 54,
   "id": "82657639-7ad8-43e2-9050-7b49b0da0799",
   "metadata": {},
   "outputs": [
    {
     "name": "stdout",
     "output_type": "stream",
     "text": [
      "<class 'geopandas.geodataframe.GeoDataFrame'>\n",
      "Int64Index: 33188 entries, 44635 to 128254\n",
      "Data columns (total 5 columns):\n",
      " #   Column         Non-Null Count  Dtype   \n",
      "---  ------         --------------  -----   \n",
      " 0   stop_id        33188 non-null  object  \n",
      " 1   stop_lat       33188 non-null  float64 \n",
      " 2   stop_lon       33188 non-null  float64 \n",
      " 3   calitp_itp_id  33188 non-null  int64   \n",
      " 4   geometry       33188 non-null  geometry\n",
      "dtypes: float64(2), geometry(1), int64(1), object(1)\n",
      "memory usage: 1.5+ MB\n"
     ]
    }
   ],
   "source": [
    "stops_in_corridor.drop_duplicates(subset = ['stop_id', 'calitp_itp_id']).info()"
   ]
  },
  {
   "cell_type": "code",
   "execution_count": 55,
   "id": "7fbca026-79dc-4249-a6fb-9ee436a422cc",
   "metadata": {},
   "outputs": [],
   "source": [
    "# map_hqta(bus_hqtc)"
   ]
  },
  {
   "cell_type": "code",
   "execution_count": 56,
   "id": "f8e3a8fa-0d77-4d36-bfb2-4a656d93ed02",
   "metadata": {},
   "outputs": [],
   "source": [
    "# stop_subset = stops_in_corridor >> head(2000)"
   ]
  },
  {
   "cell_type": "code",
   "execution_count": 57,
   "id": "d10d08e6-2166-4d74-9b21-40181da5f19e",
   "metadata": {},
   "outputs": [],
   "source": [
    "# map_hqta(stop_subset)"
   ]
  },
  {
   "cell_type": "markdown",
   "id": "f1ac0f78-6b99-4079-8c26-ca875367f6a8",
   "metadata": {},
   "source": [
    "#### Definitions and Output:\n",
    "\n",
    "* hqta_type: major_transit_stop\n",
    "* stop_id: one stop id... (not ideal, but oh well)\n",
    "* geometry: .buffer(700)?\n",
    "* _can alway pull more info spatially_"
   ]
  },
  {
   "cell_type": "markdown",
   "id": "03d81f0e-da43-4116-ae9b-b094b1466f2b",
   "metadata": {},
   "source": [
    "## Unbuffered Export"
   ]
  },
  {
   "cell_type": "markdown",
   "id": "403c2790-2f47-4b3f-9740-443020721a0b",
   "metadata": {},
   "source": [
    "Thank you for this data. It would be useful for us to get the HQTC stops as a point data file, not a polygon. Also, if you could differentiate between train, bus, BRT, and ferry stop that would be immensely helpful.\n",
    "\n",
    "Let me know if it is possible to get the data in this format.  "
   ]
  },
  {
   "cell_type": "markdown",
   "id": "baa2a7f4-5212-4911-9e6e-1e9bfc2f1d59",
   "metadata": {},
   "source": [
    "#### Major Transit Stops (bus intersections)"
   ]
  },
  {
   "cell_type": "code",
   "execution_count": 58,
   "id": "a4188f4e-5b5f-44d6-b3be-e8ed70fd8e64",
   "metadata": {},
   "outputs": [
    {
     "data": {
      "text/html": [
       "<div>\n",
       "<style scoped>\n",
       "    .dataframe tbody tr th:only-of-type {\n",
       "        vertical-align: middle;\n",
       "    }\n",
       "\n",
       "    .dataframe tbody tr th {\n",
       "        vertical-align: top;\n",
       "    }\n",
       "\n",
       "    .dataframe thead th {\n",
       "        text-align: right;\n",
       "    }\n",
       "</style>\n",
       "<table border=\"1\" class=\"dataframe\">\n",
       "  <thead>\n",
       "    <tr style=\"text-align: right;\">\n",
       "      <th></th>\n",
       "      <th>stop_id</th>\n",
       "      <th>stop_lat</th>\n",
       "      <th>stop_lon</th>\n",
       "      <th>calitp_itp_id_left</th>\n",
       "      <th>geometry</th>\n",
       "      <th>index_right</th>\n",
       "      <th>calitp_itp_id_right</th>\n",
       "      <th>hqta_type</th>\n",
       "    </tr>\n",
       "  </thead>\n",
       "  <tbody>\n",
       "    <tr>\n",
       "      <th>43</th>\n",
       "      <td>7001</td>\n",
       "      <td>37.958571</td>\n",
       "      <td>-121.273702</td>\n",
       "      <td>284</td>\n",
       "      <td>POINT (-111759.624 -5674.094)</td>\n",
       "      <td>1390</td>\n",
       "      <td>284</td>\n",
       "      <td>major_transit_stop</td>\n",
       "    </tr>\n",
       "    <tr>\n",
       "      <th>738</th>\n",
       "      <td>3001</td>\n",
       "      <td>37.958339</td>\n",
       "      <td>-121.275023</td>\n",
       "      <td>284</td>\n",
       "      <td>POINT (-111875.873 -5698.324)</td>\n",
       "      <td>1390</td>\n",
       "      <td>284</td>\n",
       "      <td>major_transit_stop</td>\n",
       "    </tr>\n",
       "    <tr>\n",
       "      <th>818</th>\n",
       "      <td>3000</td>\n",
       "      <td>37.958289</td>\n",
       "      <td>-121.275021</td>\n",
       "      <td>284</td>\n",
       "      <td>POINT (-111875.746 -5703.829)</td>\n",
       "      <td>1390</td>\n",
       "      <td>284</td>\n",
       "      <td>major_transit_stop</td>\n",
       "    </tr>\n",
       "  </tbody>\n",
       "</table>\n",
       "</div>"
      ],
      "text/plain": [
       "    stop_id   stop_lat    stop_lon  calitp_itp_id_left  \\\n",
       "43     7001  37.958571 -121.273702                 284   \n",
       "738    3001  37.958339 -121.275023                 284   \n",
       "818    3000  37.958289 -121.275021                 284   \n",
       "\n",
       "                          geometry  index_right calitp_itp_id_right  \\\n",
       "43   POINT (-111759.624 -5674.094)         1390                 284   \n",
       "738  POINT (-111875.873 -5698.324)         1390                 284   \n",
       "818  POINT (-111875.746 -5703.829)         1390                 284   \n",
       "\n",
       "              hqta_type  \n",
       "43   major_transit_stop  \n",
       "738  major_transit_stop  \n",
       "818  major_transit_stop  "
      ]
     },
     "execution_count": 58,
     "metadata": {},
     "output_type": "execute_result"
    }
   ],
   "source": [
    "new_major_stops.head(3)"
   ]
  },
  {
   "cell_type": "code",
   "execution_count": 59,
   "id": "c5a8d5cb-fd72-4dbf-85bb-a76996d567eb",
   "metadata": {},
   "outputs": [
    {
     "data": {
      "text/html": [
       "<div>\n",
       "<style scoped>\n",
       "    .dataframe tbody tr th:only-of-type {\n",
       "        vertical-align: middle;\n",
       "    }\n",
       "\n",
       "    .dataframe tbody tr th {\n",
       "        vertical-align: top;\n",
       "    }\n",
       "\n",
       "    .dataframe thead th {\n",
       "        text-align: right;\n",
       "    }\n",
       "</style>\n",
       "<table border=\"1\" class=\"dataframe\">\n",
       "  <thead>\n",
       "    <tr style=\"text-align: right;\">\n",
       "      <th></th>\n",
       "      <th>calitp_itp_id_primary</th>\n",
       "      <th>stop_id</th>\n",
       "      <th>calitp_itp_id_secondary</th>\n",
       "      <th>hqta_type</th>\n",
       "      <th>geometry</th>\n",
       "    </tr>\n",
       "  </thead>\n",
       "  <tbody>\n",
       "    <tr>\n",
       "      <th>43</th>\n",
       "      <td>284</td>\n",
       "      <td>7001</td>\n",
       "      <td>284</td>\n",
       "      <td>major_stop_bus</td>\n",
       "      <td>POINT (-111759.624 -5674.094)</td>\n",
       "    </tr>\n",
       "    <tr>\n",
       "      <th>738</th>\n",
       "      <td>284</td>\n",
       "      <td>3001</td>\n",
       "      <td>284</td>\n",
       "      <td>major_stop_bus</td>\n",
       "      <td>POINT (-111875.873 -5698.324)</td>\n",
       "    </tr>\n",
       "    <tr>\n",
       "      <th>818</th>\n",
       "      <td>284</td>\n",
       "      <td>3000</td>\n",
       "      <td>284</td>\n",
       "      <td>major_stop_bus</td>\n",
       "      <td>POINT (-111875.746 -5703.829)</td>\n",
       "    </tr>\n",
       "  </tbody>\n",
       "</table>\n",
       "</div>"
      ],
      "text/plain": [
       "     calitp_itp_id_primary stop_id calitp_itp_id_secondary       hqta_type  \\\n",
       "43                     284    7001                     284  major_stop_bus   \n",
       "738                    284    3001                     284  major_stop_bus   \n",
       "818                    284    3000                     284  major_stop_bus   \n",
       "\n",
       "                          geometry  \n",
       "43   POINT (-111759.624 -5674.094)  \n",
       "738  POINT (-111875.873 -5698.324)  \n",
       "818  POINT (-111875.746 -5703.829)  "
      ]
     },
     "execution_count": 59,
     "metadata": {},
     "output_type": "execute_result"
    }
   ],
   "source": [
    "new_major_bus_extract = new_major_stops >> select(_.calitp_itp_id_primary == _.calitp_itp_id_left, _.stop_id,\n",
    "                          _.calitp_itp_id_secondary == _.calitp_itp_id_right, _.hqta_type, _.geometry\n",
    "                         )\n",
    "new_major_bus_extract['hqta_type'] = 'major_stop_bus'\n",
    "new_major_bus_extract.head(3)"
   ]
  },
  {
   "cell_type": "markdown",
   "id": "e9a0e81f-b16b-4fab-82e6-f7eb84999ee9",
   "metadata": {},
   "source": [
    "#### Stops Along HQ Transit Corridors (bus)"
   ]
  },
  {
   "cell_type": "code",
   "execution_count": 60,
   "id": "644055ed-ab86-4e07-80fb-0c17a457b8f4",
   "metadata": {},
   "outputs": [
    {
     "data": {
      "text/html": [
       "<div>\n",
       "<style scoped>\n",
       "    .dataframe tbody tr th:only-of-type {\n",
       "        vertical-align: middle;\n",
       "    }\n",
       "\n",
       "    .dataframe tbody tr th {\n",
       "        vertical-align: top;\n",
       "    }\n",
       "\n",
       "    .dataframe thead th {\n",
       "        text-align: right;\n",
       "    }\n",
       "</style>\n",
       "<table border=\"1\" class=\"dataframe\">\n",
       "  <thead>\n",
       "    <tr style=\"text-align: right;\">\n",
       "      <th></th>\n",
       "      <th>stop_id</th>\n",
       "      <th>stop_lat</th>\n",
       "      <th>stop_lon</th>\n",
       "      <th>calitp_itp_id</th>\n",
       "      <th>geometry</th>\n",
       "    </tr>\n",
       "  </thead>\n",
       "  <tbody>\n",
       "    <tr>\n",
       "      <th>44635</th>\n",
       "      <td>5943533</td>\n",
       "      <td>34.154372</td>\n",
       "      <td>-119.177909</td>\n",
       "      <td>231</td>\n",
       "      <td>POINT (75799.261 -428713.584)</td>\n",
       "    </tr>\n",
       "    <tr>\n",
       "      <th>45204</th>\n",
       "      <td>3290234</td>\n",
       "      <td>34.154601</td>\n",
       "      <td>-119.180248</td>\n",
       "      <td>231</td>\n",
       "      <td>POINT (75583.384 -428690.047)</td>\n",
       "    </tr>\n",
       "    <tr>\n",
       "      <th>12535</th>\n",
       "      <td>PVRCST:2</td>\n",
       "      <td>34.154601</td>\n",
       "      <td>-119.180248</td>\n",
       "      <td>123</td>\n",
       "      <td>POINT (75583.400 -428690.022)</td>\n",
       "    </tr>\n",
       "  </tbody>\n",
       "</table>\n",
       "</div>"
      ],
      "text/plain": [
       "        stop_id   stop_lat    stop_lon  calitp_itp_id  \\\n",
       "44635   5943533  34.154372 -119.177909            231   \n",
       "45204   3290234  34.154601 -119.180248            231   \n",
       "12535  PVRCST:2  34.154601 -119.180248            123   \n",
       "\n",
       "                            geometry  \n",
       "44635  POINT (75799.261 -428713.584)  \n",
       "45204  POINT (75583.384 -428690.047)  \n",
       "12535  POINT (75583.400 -428690.022)  "
      ]
     },
     "execution_count": 60,
     "metadata": {},
     "output_type": "execute_result"
    }
   ],
   "source": [
    "stops_in_corridor.head(3)"
   ]
  },
  {
   "cell_type": "code",
   "execution_count": 61,
   "id": "e3fe89fe-f38c-4209-80da-b1a7ec950933",
   "metadata": {},
   "outputs": [],
   "source": [
    "stops_extract = stops_in_corridor >> select(_.calitp_itp_id_primary == _.calitp_itp_id,\n",
    "                                            _.stop_id, _.geometry)"
   ]
  },
  {
   "cell_type": "code",
   "execution_count": 62,
   "id": "62591143-ce91-408a-86a7-67d993a64205",
   "metadata": {},
   "outputs": [],
   "source": [
    "stops_extract['hqta_type'] = 'hq_corridor_bus'"
   ]
  },
  {
   "cell_type": "code",
   "execution_count": 63,
   "id": "283ddc23-5a5f-4606-ab30-72341ee890cb",
   "metadata": {},
   "outputs": [
    {
     "data": {
      "text/html": [
       "<div>\n",
       "<style scoped>\n",
       "    .dataframe tbody tr th:only-of-type {\n",
       "        vertical-align: middle;\n",
       "    }\n",
       "\n",
       "    .dataframe tbody tr th {\n",
       "        vertical-align: top;\n",
       "    }\n",
       "\n",
       "    .dataframe thead th {\n",
       "        text-align: right;\n",
       "    }\n",
       "</style>\n",
       "<table border=\"1\" class=\"dataframe\">\n",
       "  <thead>\n",
       "    <tr style=\"text-align: right;\">\n",
       "      <th></th>\n",
       "      <th>calitp_itp_id_primary</th>\n",
       "      <th>stop_id</th>\n",
       "      <th>geometry</th>\n",
       "      <th>hqta_type</th>\n",
       "    </tr>\n",
       "  </thead>\n",
       "  <tbody>\n",
       "    <tr>\n",
       "      <th>44635</th>\n",
       "      <td>231</td>\n",
       "      <td>5943533</td>\n",
       "      <td>POINT (75799.261 -428713.584)</td>\n",
       "      <td>hq_corridor_bus</td>\n",
       "    </tr>\n",
       "    <tr>\n",
       "      <th>45204</th>\n",
       "      <td>231</td>\n",
       "      <td>3290234</td>\n",
       "      <td>POINT (75583.384 -428690.047)</td>\n",
       "      <td>hq_corridor_bus</td>\n",
       "    </tr>\n",
       "    <tr>\n",
       "      <th>12535</th>\n",
       "      <td>123</td>\n",
       "      <td>PVRCST:2</td>\n",
       "      <td>POINT (75583.400 -428690.022)</td>\n",
       "      <td>hq_corridor_bus</td>\n",
       "    </tr>\n",
       "  </tbody>\n",
       "</table>\n",
       "</div>"
      ],
      "text/plain": [
       "       calitp_itp_id_primary   stop_id                       geometry  \\\n",
       "44635                    231   5943533  POINT (75799.261 -428713.584)   \n",
       "45204                    231   3290234  POINT (75583.384 -428690.047)   \n",
       "12535                    123  PVRCST:2  POINT (75583.400 -428690.022)   \n",
       "\n",
       "             hqta_type  \n",
       "44635  hq_corridor_bus  \n",
       "45204  hq_corridor_bus  \n",
       "12535  hq_corridor_bus  "
      ]
     },
     "execution_count": 63,
     "metadata": {},
     "output_type": "execute_result"
    }
   ],
   "source": [
    "stops_extract.head(3)"
   ]
  },
  {
   "cell_type": "markdown",
   "id": "3d90eef5-3b4d-4c6a-96c9-e40a2855a260",
   "metadata": {},
   "source": [
    "#### Major Transit Stops (rail/ferry/brt)"
   ]
  },
  {
   "cell_type": "code",
   "execution_count": 64,
   "id": "5138b1e6-4c99-4ff1-b672-89d5f5a484e2",
   "metadata": {},
   "outputs": [
    {
     "data": {
      "text/html": [
       "<div>\n",
       "<style scoped>\n",
       "    .dataframe tbody tr th:only-of-type {\n",
       "        vertical-align: middle;\n",
       "    }\n",
       "\n",
       "    .dataframe tbody tr th {\n",
       "        vertical-align: top;\n",
       "    }\n",
       "\n",
       "    .dataframe thead th {\n",
       "        text-align: right;\n",
       "    }\n",
       "</style>\n",
       "<table border=\"1\" class=\"dataframe\">\n",
       "  <thead>\n",
       "    <tr style=\"text-align: right;\">\n",
       "      <th></th>\n",
       "      <th>calitp_itp_id</th>\n",
       "      <th>stop_id</th>\n",
       "      <th>stop_lat</th>\n",
       "      <th>stop_lon</th>\n",
       "      <th>stop_name</th>\n",
       "      <th>route_type</th>\n",
       "      <th>geometry</th>\n",
       "      <th>hqta_type</th>\n",
       "    </tr>\n",
       "  </thead>\n",
       "  <tbody>\n",
       "    <tr>\n",
       "      <th>101</th>\n",
       "      <td>278</td>\n",
       "      <td>75005</td>\n",
       "      <td>32.569515</td>\n",
       "      <td>-117.066965</td>\n",
       "      <td>Iris Avenue Station</td>\n",
       "      <td>0</td>\n",
       "      <td>POINT (275828.261 -600432.937)</td>\n",
       "      <td>major_transit_stop</td>\n",
       "    </tr>\n",
       "    <tr>\n",
       "      <th>35</th>\n",
       "      <td>278</td>\n",
       "      <td>75004</td>\n",
       "      <td>32.569762</td>\n",
       "      <td>-117.067176</td>\n",
       "      <td>Iris Avenue Station</td>\n",
       "      <td>0</td>\n",
       "      <td>POINT (275807.549 -600406.211)</td>\n",
       "      <td>major_transit_stop</td>\n",
       "    </tr>\n",
       "    <tr>\n",
       "      <th>86</th>\n",
       "      <td>278</td>\n",
       "      <td>75007</td>\n",
       "      <td>32.584454</td>\n",
       "      <td>-117.083860</td>\n",
       "      <td>Palm Avenue Station</td>\n",
       "      <td>0</td>\n",
       "      <td>POINT (274189.052 -598828.705)</td>\n",
       "      <td>major_transit_stop</td>\n",
       "    </tr>\n",
       "  </tbody>\n",
       "</table>\n",
       "</div>"
      ],
      "text/plain": [
       "     calitp_itp_id stop_id   stop_lat    stop_lon            stop_name  \\\n",
       "101            278   75005  32.569515 -117.066965  Iris Avenue Station   \n",
       "35             278   75004  32.569762 -117.067176  Iris Avenue Station   \n",
       "86             278   75007  32.584454 -117.083860  Palm Avenue Station   \n",
       "\n",
       "    route_type                        geometry           hqta_type  \n",
       "101          0  POINT (275828.261 -600432.937)  major_transit_stop  \n",
       "35           0  POINT (275807.549 -600406.211)  major_transit_stop  \n",
       "86           0  POINT (274189.052 -598828.705)  major_transit_stop  "
      ]
     },
     "execution_count": 64,
     "metadata": {},
     "output_type": "execute_result"
    }
   ],
   "source": [
    "rail_ferry_brt_stops.head(3)"
   ]
  },
  {
   "cell_type": "code",
   "execution_count": 65,
   "id": "8a269cf5-fb38-467f-b31d-8c98c2aed684",
   "metadata": {},
   "outputs": [],
   "source": [
    "rail_ferry_brt_extract = rail_ferry_brt_stops >> select(_.calitp_itp_id == _.calitp_itp_id, _.stop_id,\n",
    "                                      _.hqta_type, _.route_type, _.geometry\n",
    "                         )"
   ]
  },
  {
   "cell_type": "code",
   "execution_count": 66,
   "id": "154b935a-5c1b-48d9-a44b-d276ade8b4ae",
   "metadata": {},
   "outputs": [],
   "source": [
    "rail_ferry_brt_extract = (rail_ferry_brt_extract\n",
    "    >> mutate(\n",
    "    hqta_type = case_when({\n",
    "        _.route_type.isin(['0', '1', '2']): 'major_stop_rail',\n",
    "        _.route_type == '3': 'major_stop_brt',\n",
    "        _.route_type == '4': 'major_stop_ferry'\n",
    "        })\n",
    "    )\n",
    "    >> select(-_.route_type, _.calitp_itp_id_primary == _.calitp_itp_id)\n",
    ")"
   ]
  },
  {
   "cell_type": "code",
   "execution_count": 67,
   "id": "795f12d4-f881-4d72-adf2-69a4276084e9",
   "metadata": {},
   "outputs": [
    {
     "data": {
      "text/html": [
       "<div>\n",
       "<style scoped>\n",
       "    .dataframe tbody tr th:only-of-type {\n",
       "        vertical-align: middle;\n",
       "    }\n",
       "\n",
       "    .dataframe tbody tr th {\n",
       "        vertical-align: top;\n",
       "    }\n",
       "\n",
       "    .dataframe thead th {\n",
       "        text-align: right;\n",
       "    }\n",
       "</style>\n",
       "<table border=\"1\" class=\"dataframe\">\n",
       "  <thead>\n",
       "    <tr style=\"text-align: right;\">\n",
       "      <th></th>\n",
       "      <th>calitp_itp_id_primary</th>\n",
       "      <th>stop_id</th>\n",
       "      <th>hqta_type</th>\n",
       "      <th>geometry</th>\n",
       "    </tr>\n",
       "  </thead>\n",
       "  <tbody>\n",
       "    <tr>\n",
       "      <th>101</th>\n",
       "      <td>278</td>\n",
       "      <td>75005</td>\n",
       "      <td>major_stop_rail</td>\n",
       "      <td>POINT (275828.261 -600432.937)</td>\n",
       "    </tr>\n",
       "    <tr>\n",
       "      <th>35</th>\n",
       "      <td>278</td>\n",
       "      <td>75004</td>\n",
       "      <td>major_stop_rail</td>\n",
       "      <td>POINT (275807.549 -600406.211)</td>\n",
       "    </tr>\n",
       "    <tr>\n",
       "      <th>86</th>\n",
       "      <td>278</td>\n",
       "      <td>75007</td>\n",
       "      <td>major_stop_rail</td>\n",
       "      <td>POINT (274189.052 -598828.705)</td>\n",
       "    </tr>\n",
       "  </tbody>\n",
       "</table>\n",
       "</div>"
      ],
      "text/plain": [
       "     calitp_itp_id_primary stop_id        hqta_type  \\\n",
       "101                    278   75005  major_stop_rail   \n",
       "35                     278   75004  major_stop_rail   \n",
       "86                     278   75007  major_stop_rail   \n",
       "\n",
       "                           geometry  \n",
       "101  POINT (275828.261 -600432.937)  \n",
       "35   POINT (275807.549 -600406.211)  \n",
       "86   POINT (274189.052 -598828.705)  "
      ]
     },
     "execution_count": 67,
     "metadata": {},
     "output_type": "execute_result"
    }
   ],
   "source": [
    "rail_ferry_brt_extract.head(3)"
   ]
  },
  {
   "cell_type": "code",
   "execution_count": 68,
   "id": "c083e975-2de8-42c4-b62a-937d25029ce7",
   "metadata": {},
   "outputs": [],
   "source": [
    "points_combined = pd.concat((new_major_bus_extract, stops_extract, rail_ferry_brt_extract))"
   ]
  },
  {
   "cell_type": "code",
   "execution_count": 69,
   "id": "f74db8b5-c1c2-4f68-88d8-89964d2a7179",
   "metadata": {},
   "outputs": [
    {
     "data": {
      "text/plain": [
       "calitp_itp_id_primary         int64\n",
       "stop_id                      object\n",
       "calitp_itp_id_secondary      object\n",
       "hqta_type                    object\n",
       "geometry                   geometry\n",
       "dtype: object"
      ]
     },
     "execution_count": 69,
     "metadata": {},
     "output_type": "execute_result"
    }
   ],
   "source": [
    "points_combined.dtypes"
   ]
  },
  {
   "cell_type": "code",
   "execution_count": 70,
   "id": "c767a0e4-e8c5-4967-b223-c982717de70c",
   "metadata": {},
   "outputs": [
    {
     "data": {
      "text/html": [
       "<div>\n",
       "<style scoped>\n",
       "    .dataframe tbody tr th:only-of-type {\n",
       "        vertical-align: middle;\n",
       "    }\n",
       "\n",
       "    .dataframe tbody tr th {\n",
       "        vertical-align: top;\n",
       "    }\n",
       "\n",
       "    .dataframe thead th {\n",
       "        text-align: right;\n",
       "    }\n",
       "</style>\n",
       "<table border=\"1\" class=\"dataframe\">\n",
       "  <thead>\n",
       "    <tr style=\"text-align: right;\">\n",
       "      <th></th>\n",
       "      <th>calitp_itp_id_primary</th>\n",
       "      <th>stop_id</th>\n",
       "      <th>calitp_itp_id_secondary</th>\n",
       "      <th>hqta_type</th>\n",
       "      <th>geometry</th>\n",
       "    </tr>\n",
       "  </thead>\n",
       "  <tbody>\n",
       "    <tr>\n",
       "      <th>43</th>\n",
       "      <td>284</td>\n",
       "      <td>7001</td>\n",
       "      <td>284</td>\n",
       "      <td>major_stop_bus</td>\n",
       "      <td>POINT (-111759.624 -5674.094)</td>\n",
       "    </tr>\n",
       "    <tr>\n",
       "      <th>738</th>\n",
       "      <td>284</td>\n",
       "      <td>3001</td>\n",
       "      <td>284</td>\n",
       "      <td>major_stop_bus</td>\n",
       "      <td>POINT (-111875.873 -5698.324)</td>\n",
       "    </tr>\n",
       "    <tr>\n",
       "      <th>818</th>\n",
       "      <td>284</td>\n",
       "      <td>3000</td>\n",
       "      <td>284</td>\n",
       "      <td>major_stop_bus</td>\n",
       "      <td>POINT (-111875.746 -5703.829)</td>\n",
       "    </tr>\n",
       "    <tr>\n",
       "      <th>83</th>\n",
       "      <td>284</td>\n",
       "      <td>7006</td>\n",
       "      <td>284</td>\n",
       "      <td>major_stop_bus</td>\n",
       "      <td>POINT (-112820.565 -6058.798)</td>\n",
       "    </tr>\n",
       "    <tr>\n",
       "      <th>272</th>\n",
       "      <td>284</td>\n",
       "      <td>7155</td>\n",
       "      <td>284</td>\n",
       "      <td>major_stop_bus</td>\n",
       "      <td>POINT (-112842.308 -6118.083)</td>\n",
       "    </tr>\n",
       "    <tr>\n",
       "      <th>...</th>\n",
       "      <td>...</td>\n",
       "      <td>...</td>\n",
       "      <td>...</td>\n",
       "      <td>...</td>\n",
       "      <td>...</td>\n",
       "    </tr>\n",
       "    <tr>\n",
       "      <th>13</th>\n",
       "      <td>127</td>\n",
       "      <td>43008</td>\n",
       "      <td>NaN</td>\n",
       "      <td>major_stop_ferry</td>\n",
       "      <td>POINT (-210476.942 -21780.838)</td>\n",
       "    </tr>\n",
       "    <tr>\n",
       "      <th>14</th>\n",
       "      <td>127</td>\n",
       "      <td>43003</td>\n",
       "      <td>NaN</td>\n",
       "      <td>major_stop_ferry</td>\n",
       "      <td>POINT (-217668.884 -14964.633)</td>\n",
       "    </tr>\n",
       "    <tr>\n",
       "      <th>16</th>\n",
       "      <td>127</td>\n",
       "      <td>43007</td>\n",
       "      <td>NaN</td>\n",
       "      <td>major_stop_ferry</td>\n",
       "      <td>POINT (-215721.361 -13173.100)</td>\n",
       "    </tr>\n",
       "    <tr>\n",
       "      <th>9</th>\n",
       "      <td>280</td>\n",
       "      <td>890004</td>\n",
       "      <td>NaN</td>\n",
       "      <td>major_stop_ferry</td>\n",
       "      <td>POINT (-207130.442 -9301.491)</td>\n",
       "    </tr>\n",
       "    <tr>\n",
       "      <th>17</th>\n",
       "      <td>127</td>\n",
       "      <td>43004</td>\n",
       "      <td>NaN</td>\n",
       "      <td>major_stop_ferry</td>\n",
       "      <td>POINT (-220114.635 -5053.519)</td>\n",
       "    </tr>\n",
       "  </tbody>\n",
       "</table>\n",
       "<p>42414 rows × 5 columns</p>\n",
       "</div>"
      ],
      "text/plain": [
       "     calitp_itp_id_primary stop_id calitp_itp_id_secondary         hqta_type  \\\n",
       "43                     284    7001                     284    major_stop_bus   \n",
       "738                    284    3001                     284    major_stop_bus   \n",
       "818                    284    3000                     284    major_stop_bus   \n",
       "83                     284    7006                     284    major_stop_bus   \n",
       "272                    284    7155                     284    major_stop_bus   \n",
       "..                     ...     ...                     ...               ...   \n",
       "13                     127   43008                     NaN  major_stop_ferry   \n",
       "14                     127   43003                     NaN  major_stop_ferry   \n",
       "16                     127   43007                     NaN  major_stop_ferry   \n",
       "9                      280  890004                     NaN  major_stop_ferry   \n",
       "17                     127   43004                     NaN  major_stop_ferry   \n",
       "\n",
       "                           geometry  \n",
       "43    POINT (-111759.624 -5674.094)  \n",
       "738   POINT (-111875.873 -5698.324)  \n",
       "818   POINT (-111875.746 -5703.829)  \n",
       "83    POINT (-112820.565 -6058.798)  \n",
       "272   POINT (-112842.308 -6118.083)  \n",
       "..                              ...  \n",
       "13   POINT (-210476.942 -21780.838)  \n",
       "14   POINT (-217668.884 -14964.633)  \n",
       "16   POINT (-215721.361 -13173.100)  \n",
       "9     POINT (-207130.442 -9301.491)  \n",
       "17    POINT (-220114.635 -5053.519)  \n",
       "\n",
       "[42414 rows x 5 columns]"
      ]
     },
     "execution_count": 70,
     "metadata": {},
     "output_type": "execute_result"
    }
   ],
   "source": [
    "points_combined"
   ]
  },
  {
   "cell_type": "code",
   "execution_count": 71,
   "id": "1eaa13fb-88d9-4f5f-ac07-5a5711f974db",
   "metadata": {},
   "outputs": [],
   "source": [
    "# map_hqta(points_combined)"
   ]
  },
  {
   "cell_type": "code",
   "execution_count": 182,
   "id": "f7d2d824-f02a-450c-a18f-baa4f4b4c8b3",
   "metadata": {},
   "outputs": [],
   "source": [
    "names = (tbl.views.gtfs_schedule_dim_feeds()\n",
    "    >> filter(_.calitp_extracted_at < analysis_date, _.calitp_deleted_at > analysis_date)\n",
    "    >> select(_.calitp_itp_id_primary == _.calitp_itp_id, _.agency_name_primary == _.calitp_agency_name)\n",
    "    >> collect()\n",
    ")"
   ]
  },
  {
   "cell_type": "code",
   "execution_count": 183,
   "id": "f4478777-7524-4a92-8f6c-6236ffe49314",
   "metadata": {},
   "outputs": [],
   "source": [
    "name_dict = names.set_index('calitp_itp_id_primary').to_dict()['agency_name_primary']"
   ]
  },
  {
   "cell_type": "code",
   "execution_count": 193,
   "id": "18a5f271-d49a-46da-942a-8c337249c874",
   "metadata": {},
   "outputs": [],
   "source": [
    "with_names = points_combined >> inner_join(_, names, on = 'calitp_itp_id_primary')"
   ]
  },
  {
   "cell_type": "code",
   "execution_count": 200,
   "id": "aa75514b-723c-4780-b282-909b0c3db993",
   "metadata": {},
   "outputs": [],
   "source": [
    "# with_names.calitp_itp_id_secondary = with_names.calitp_itp_id_secondary.astype('float64')\n",
    "with_names['agency_name_secondary'] = with_names.apply(lambda x: name_dict[int(x.calitp_itp_id_secondary)]\\\n",
    "                                                       if type(x.calitp_itp_id_secondary) == str and int(x.calitp_itp_id_secondary) in name_dict.keys() else np.nan, axis = 1)"
   ]
  },
  {
   "cell_type": "code",
   "execution_count": 207,
   "id": "f5597551-8553-446b-9f1d-4c9996be932c",
   "metadata": {},
   "outputs": [],
   "source": [
    "with_names = with_names.drop_duplicates(subset=['calitp_itp_id_primary', 'hqta_type', 'stop_id'])"
   ]
  },
  {
   "cell_type": "code",
   "execution_count": 208,
   "id": "8babf759-70b5-43ca-913b-f3a4f594c30f",
   "metadata": {},
   "outputs": [
    {
     "data": {
      "text/html": [
       "<div>\n",
       "<style scoped>\n",
       "    .dataframe tbody tr th:only-of-type {\n",
       "        vertical-align: middle;\n",
       "    }\n",
       "\n",
       "    .dataframe tbody tr th {\n",
       "        vertical-align: top;\n",
       "    }\n",
       "\n",
       "    .dataframe thead th {\n",
       "        text-align: right;\n",
       "    }\n",
       "</style>\n",
       "<table border=\"1\" class=\"dataframe\">\n",
       "  <thead>\n",
       "    <tr style=\"text-align: right;\">\n",
       "      <th></th>\n",
       "      <th>calitp_itp_id_primary</th>\n",
       "      <th>stop_id</th>\n",
       "      <th>calitp_itp_id_secondary</th>\n",
       "      <th>hqta_type</th>\n",
       "      <th>geometry</th>\n",
       "      <th>agency_name_primary</th>\n",
       "      <th>agency_name_secondary</th>\n",
       "    </tr>\n",
       "  </thead>\n",
       "  <tbody>\n",
       "    <tr>\n",
       "      <th>0</th>\n",
       "      <td>284</td>\n",
       "      <td>7001</td>\n",
       "      <td>284</td>\n",
       "      <td>major_stop_bus</td>\n",
       "      <td>POINT (-111759.624 -5674.094)</td>\n",
       "      <td>San Joaquin Regional Transit District</td>\n",
       "      <td>San Joaquin Regional Transit District</td>\n",
       "    </tr>\n",
       "    <tr>\n",
       "      <th>1</th>\n",
       "      <td>284</td>\n",
       "      <td>3001</td>\n",
       "      <td>284</td>\n",
       "      <td>major_stop_bus</td>\n",
       "      <td>POINT (-111875.873 -5698.324)</td>\n",
       "      <td>San Joaquin Regional Transit District</td>\n",
       "      <td>San Joaquin Regional Transit District</td>\n",
       "    </tr>\n",
       "    <tr>\n",
       "      <th>2</th>\n",
       "      <td>284</td>\n",
       "      <td>3000</td>\n",
       "      <td>284</td>\n",
       "      <td>major_stop_bus</td>\n",
       "      <td>POINT (-111875.746 -5703.829)</td>\n",
       "      <td>San Joaquin Regional Transit District</td>\n",
       "      <td>San Joaquin Regional Transit District</td>\n",
       "    </tr>\n",
       "  </tbody>\n",
       "</table>\n",
       "</div>"
      ],
      "text/plain": [
       "   calitp_itp_id_primary stop_id calitp_itp_id_secondary       hqta_type  \\\n",
       "0                    284    7001                     284  major_stop_bus   \n",
       "1                    284    3001                     284  major_stop_bus   \n",
       "2                    284    3000                     284  major_stop_bus   \n",
       "\n",
       "                        geometry                    agency_name_primary  \\\n",
       "0  POINT (-111759.624 -5674.094)  San Joaquin Regional Transit District   \n",
       "1  POINT (-111875.873 -5698.324)  San Joaquin Regional Transit District   \n",
       "2  POINT (-111875.746 -5703.829)  San Joaquin Regional Transit District   \n",
       "\n",
       "                   agency_name_secondary  \n",
       "0  San Joaquin Regional Transit District  \n",
       "1  San Joaquin Regional Transit District  \n",
       "2  San Joaquin Regional Transit District  "
      ]
     },
     "execution_count": 208,
     "metadata": {},
     "output_type": "execute_result"
    }
   ],
   "source": [
    "with_names.head(3)"
   ]
  },
  {
   "cell_type": "code",
   "execution_count": 209,
   "id": "d227761c-cbc7-4305-a15e-fb089adf19d6",
   "metadata": {},
   "outputs": [
    {
     "data": {
      "text/html": [
       "<div>\n",
       "<style scoped>\n",
       "    .dataframe tbody tr th:only-of-type {\n",
       "        vertical-align: middle;\n",
       "    }\n",
       "\n",
       "    .dataframe tbody tr th {\n",
       "        vertical-align: top;\n",
       "    }\n",
       "\n",
       "    .dataframe thead th {\n",
       "        text-align: right;\n",
       "    }\n",
       "</style>\n",
       "<table border=\"1\" class=\"dataframe\">\n",
       "  <thead>\n",
       "    <tr style=\"text-align: right;\">\n",
       "      <th></th>\n",
       "      <th>hqta_type</th>\n",
       "      <th>n</th>\n",
       "    </tr>\n",
       "  </thead>\n",
       "  <tbody>\n",
       "    <tr>\n",
       "      <th>0</th>\n",
       "      <td>hq_corridor_bus</td>\n",
       "      <td>33188</td>\n",
       "    </tr>\n",
       "    <tr>\n",
       "      <th>1</th>\n",
       "      <td>major_stop_brt</td>\n",
       "      <td>207</td>\n",
       "    </tr>\n",
       "    <tr>\n",
       "      <th>2</th>\n",
       "      <td>major_stop_bus</td>\n",
       "      <td>5431</td>\n",
       "    </tr>\n",
       "    <tr>\n",
       "      <th>3</th>\n",
       "      <td>major_stop_ferry</td>\n",
       "      <td>18</td>\n",
       "    </tr>\n",
       "    <tr>\n",
       "      <th>4</th>\n",
       "      <td>major_stop_rail</td>\n",
       "      <td>1439</td>\n",
       "    </tr>\n",
       "  </tbody>\n",
       "</table>\n",
       "</div>"
      ],
      "text/plain": [
       "          hqta_type      n\n",
       "0   hq_corridor_bus  33188\n",
       "1    major_stop_brt    207\n",
       "2    major_stop_bus   5431\n",
       "3  major_stop_ferry     18\n",
       "4   major_stop_rail   1439"
      ]
     },
     "execution_count": 209,
     "metadata": {},
     "output_type": "execute_result"
    }
   ],
   "source": [
    "with_names >> count(_.hqta_type)"
   ]
  },
  {
   "cell_type": "code",
   "execution_count": 210,
   "id": "3fcef0b1-8f9d-45ca-a715-d7b07a11516d",
   "metadata": {},
   "outputs": [
    {
     "data": {
      "text/plain": [
       "datetime.date(2022, 5, 4)"
      ]
     },
     "execution_count": 210,
     "metadata": {},
     "output_type": "execute_result"
    }
   ],
   "source": [
    "analysis_date"
   ]
  },
  {
   "cell_type": "code",
   "execution_count": 227,
   "id": "67e45d56-b306-424a-bc64-6c6a446de2c1",
   "metadata": {},
   "outputs": [],
   "source": [
    "with_names = with_names >> select(_.calitp_itp_id_primary, _.agency_name_primary, _.stop_id, _.hqta_type,\n",
    "                              _.calitp_itp_id_secondary, _.agency_name_secondary, _.geometry)"
   ]
  },
  {
   "cell_type": "code",
   "execution_count": 228,
   "id": "4d6184bf-c709-4b4b-9365-9168acb5a247",
   "metadata": {},
   "outputs": [
    {
     "name": "stderr",
     "output_type": "stream",
     "text": [
      "/home/jovyan/data-analyses/_shared_utils/shared_utils/utils.py:38: UserWarning: this is an initial implementation of Parquet/Feather file support and associated metadata.  This is tracking version 0.1.0 of the metadata specification at https://github.com/geopandas/geo-arrow-spec\n",
      "\n",
      "This metadata specification does not yet make stability promises.  We do not yet recommend using this in a production setting unless you are able to rewrite your Parquet/Feather files.\n",
      "\n",
      "To further ignore this warning, you can do: \n",
      "import warnings; warnings.filterwarnings('ignore', message='.*initial implementation of Parquet.*')\n"
     ]
    }
   ],
   "source": [
    "## TODO add check that folder exists/mkdir...\n",
    "shared_utils.utils.geoparquet_gcs_export(with_names, f'{GCS_FILE_PATH}export/{analysis_date.isoformat()}/', f'ca_hq_transit_stops')"
   ]
  },
  {
   "cell_type": "code",
   "execution_count": 229,
   "id": "b7cc3286-aa84-4b66-acba-4935481e1650",
   "metadata": {},
   "outputs": [
    {
     "name": "stderr",
     "output_type": "stream",
     "text": [
      "/opt/conda/lib/python3.9/site-packages/geopandas/io/file.py:362: FutureWarning: pandas.Int64Index is deprecated and will be removed from pandas in a future version. Use pandas.Index with the appropriate dtype instead.\n"
     ]
    }
   ],
   "source": [
    "with_names.to_file('./ca_hq_transit_stops.geojson', driver='GeoJSON')"
   ]
  },
  {
   "cell_type": "markdown",
   "id": "8e53d610-d9bc-4bc1-8a79-d32b3078d672",
   "metadata": {},
   "source": [
    "### Combining and Buffering\n",
    "\n",
    "* General buffer distance: 1/2mi ~= 805 meters\n",
    "* Bus corridors are already buffered 50 meters, so will buffer 755 meters"
   ]
  },
  {
   "cell_type": "code",
   "execution_count": 153,
   "id": "06d69c83-d857-4051-b9d0-de1a5d0d9ca4",
   "metadata": {},
   "outputs": [],
   "source": [
    "major_stops_named = with_names >> filter(_.hqta_type != 'hq_corridor_bus')"
   ]
  },
  {
   "cell_type": "code",
   "execution_count": 154,
   "id": "e13cb57b-0905-4b8c-9f8f-d6d87c09c533",
   "metadata": {},
   "outputs": [
    {
     "name": "stderr",
     "output_type": "stream",
     "text": [
      "/opt/conda/lib/python3.9/site-packages/geopandas/geodataframe.py:1351: SettingWithCopyWarning: \n",
      "A value is trying to be set on a copy of a slice from a DataFrame.\n",
      "Try using .loc[row_indexer,col_indexer] = value instead\n",
      "\n",
      "See the caveats in the documentation: https://pandas.pydata.org/pandas-docs/stable/user_guide/indexing.html#returning-a-view-versus-a-copy\n"
     ]
    }
   ],
   "source": [
    "bus_hqtc.geometry = bus_hqtc.geometry.buffer(755)\n",
    "major_stops_named.geometry = major_stops_named.buffer(805)\n",
    "# row_per_stop.geometry = row_per_stop.geometry.buffer(805)\n",
    "# rail_ferry_brt_stops.geometry = rail_ferry_brt_stops.geometry.buffer(805)"
   ]
  },
  {
   "cell_type": "code",
   "execution_count": 155,
   "id": "15932ee8-e0a1-4ba5-b632-a543244c97f7",
   "metadata": {},
   "outputs": [
    {
     "data": {
      "text/html": [
       "<div>\n",
       "<style scoped>\n",
       "    .dataframe tbody tr th:only-of-type {\n",
       "        vertical-align: middle;\n",
       "    }\n",
       "\n",
       "    .dataframe tbody tr th {\n",
       "        vertical-align: top;\n",
       "    }\n",
       "\n",
       "    .dataframe thead th {\n",
       "        text-align: right;\n",
       "    }\n",
       "</style>\n",
       "<table border=\"1\" class=\"dataframe\">\n",
       "  <thead>\n",
       "    <tr style=\"text-align: right;\">\n",
       "      <th></th>\n",
       "      <th>calitp_itp_id_primary</th>\n",
       "      <th>stop_id</th>\n",
       "      <th>calitp_itp_id_secondary</th>\n",
       "      <th>hqta_type</th>\n",
       "      <th>geometry</th>\n",
       "      <th>agency_name_primary</th>\n",
       "    </tr>\n",
       "  </thead>\n",
       "  <tbody>\n",
       "    <tr>\n",
       "      <th>0</th>\n",
       "      <td>284</td>\n",
       "      <td>7001</td>\n",
       "      <td>284</td>\n",
       "      <td>major_stop_bus</td>\n",
       "      <td>POLYGON ((-110954.624 -5674.094, -110958.500 -...</td>\n",
       "      <td>San Joaquin Regional Transit District</td>\n",
       "    </tr>\n",
       "    <tr>\n",
       "      <th>1</th>\n",
       "      <td>284</td>\n",
       "      <td>3001</td>\n",
       "      <td>284</td>\n",
       "      <td>major_stop_bus</td>\n",
       "      <td>POLYGON ((-111070.873 -5698.324, -111074.750 -...</td>\n",
       "      <td>San Joaquin Regional Transit District</td>\n",
       "    </tr>\n",
       "  </tbody>\n",
       "</table>\n",
       "</div>"
      ],
      "text/plain": [
       "   calitp_itp_id_primary stop_id calitp_itp_id_secondary       hqta_type  \\\n",
       "0                    284    7001                     284  major_stop_bus   \n",
       "1                    284    3001                     284  major_stop_bus   \n",
       "\n",
       "                                            geometry  \\\n",
       "0  POLYGON ((-110954.624 -5674.094, -110958.500 -...   \n",
       "1  POLYGON ((-111070.873 -5698.324, -111074.750 -...   \n",
       "\n",
       "                     agency_name_primary  \n",
       "0  San Joaquin Regional Transit District  \n",
       "1  San Joaquin Regional Transit District  "
      ]
     },
     "execution_count": 155,
     "metadata": {},
     "output_type": "execute_result"
    }
   ],
   "source": [
    "major_stops_named >> head(2)"
   ]
  },
  {
   "cell_type": "code",
   "execution_count": 156,
   "id": "5b2814ab-02f8-4047-bf29-7cc6ad4c88a3",
   "metadata": {},
   "outputs": [
    {
     "data": {
      "text/html": [
       "<div>\n",
       "<style scoped>\n",
       "    .dataframe tbody tr th:only-of-type {\n",
       "        vertical-align: middle;\n",
       "    }\n",
       "\n",
       "    .dataframe tbody tr th {\n",
       "        vertical-align: top;\n",
       "    }\n",
       "\n",
       "    .dataframe thead th {\n",
       "        text-align: right;\n",
       "    }\n",
       "</style>\n",
       "<table border=\"1\" class=\"dataframe\">\n",
       "  <thead>\n",
       "    <tr style=\"text-align: right;\">\n",
       "      <th></th>\n",
       "      <th>hq_transit_corr</th>\n",
       "      <th>shape_id</th>\n",
       "      <th>calitp_itp_id</th>\n",
       "      <th>geometry</th>\n",
       "      <th>calitp_url_number</th>\n",
       "      <th>hqta_segment_id</th>\n",
       "      <th>segment_sequence</th>\n",
       "      <th>stop_id</th>\n",
       "      <th>am_max_trips</th>\n",
       "      <th>pm_max_trips</th>\n",
       "      <th>departure_hour</th>\n",
       "      <th>n</th>\n",
       "      <th>hqta_type</th>\n",
       "      <th>route_type</th>\n",
       "    </tr>\n",
       "  </thead>\n",
       "  <tbody>\n",
       "    <tr>\n",
       "      <th>3293</th>\n",
       "      <td>True</td>\n",
       "      <td>0500</td>\n",
       "      <td>142</td>\n",
       "      <td>MULTIPOLYGON (((211656.381 -486108.779, 211648...</td>\n",
       "      <td>0</td>\n",
       "      <td>2197551287</td>\n",
       "      <td>0</td>\n",
       "      <td>3977</td>\n",
       "      <td>10.0</td>\n",
       "      <td>9.0</td>\n",
       "      <td>NaN</td>\n",
       "      <td>NaN</td>\n",
       "      <td>hq_transit_corr</td>\n",
       "      <td>3</td>\n",
       "    </tr>\n",
       "    <tr>\n",
       "      <th>3294</th>\n",
       "      <td>True</td>\n",
       "      <td>0500</td>\n",
       "      <td>235</td>\n",
       "      <td>MULTIPOLYGON (((211656.381 -486108.779, 211648...</td>\n",
       "      <td>0</td>\n",
       "      <td>3570856290</td>\n",
       "      <td>0</td>\n",
       "      <td>3977</td>\n",
       "      <td>10.0</td>\n",
       "      <td>9.0</td>\n",
       "      <td>NaN</td>\n",
       "      <td>NaN</td>\n",
       "      <td>hq_transit_corr</td>\n",
       "      <td>3</td>\n",
       "    </tr>\n",
       "  </tbody>\n",
       "</table>\n",
       "</div>"
      ],
      "text/plain": [
       "      hq_transit_corr shape_id  calitp_itp_id  \\\n",
       "3293             True     0500            142   \n",
       "3294             True     0500            235   \n",
       "\n",
       "                                               geometry  calitp_url_number  \\\n",
       "3293  MULTIPOLYGON (((211656.381 -486108.779, 211648...                  0   \n",
       "3294  MULTIPOLYGON (((211656.381 -486108.779, 211648...                  0   \n",
       "\n",
       "      hqta_segment_id segment_sequence stop_id  am_max_trips  pm_max_trips  \\\n",
       "3293       2197551287                0    3977          10.0           9.0   \n",
       "3294       3570856290                0    3977          10.0           9.0   \n",
       "\n",
       "      departure_hour   n        hqta_type route_type  \n",
       "3293             NaN NaN  hq_transit_corr          3  \n",
       "3294             NaN NaN  hq_transit_corr          3  "
      ]
     },
     "execution_count": 156,
     "metadata": {},
     "output_type": "execute_result"
    }
   ],
   "source": [
    "bus_hqtc >> head(2)"
   ]
  },
  {
   "cell_type": "code",
   "execution_count": 157,
   "id": "933b7ebc-b9e8-4a38-8bab-06564c165440",
   "metadata": {},
   "outputs": [],
   "source": [
    "bus_hqtc_formatted = bus_hqtc >> select(_.calitp_itp_id_primary == _.calitp_itp_id, _.stop_id, _.hqta_segment_id,\n",
    "                                        _.am_max_trips, _.pm_max_trips, _.hqta_type, _.geometry)\n",
    "bus_hqtc_formatted.hqta_type = 'hq_corridor_bus'\n",
    "bus_hqtc_formatted.calitp_itp_id_primary = bus_hqtc_formatted.calitp_itp_id_primary.astype('int64')\n",
    "bus_hqtc_formatted = bus_hqtc_formatted >> inner_join(_, names, on = 'calitp_itp_id_primary')"
   ]
  },
  {
   "cell_type": "code",
   "execution_count": 158,
   "id": "d308f239-a8fd-407f-a350-ff859d3b8e32",
   "metadata": {},
   "outputs": [],
   "source": [
    "all_hqta = pd.concat([major_stops_named, bus_hqtc_formatted])"
   ]
  },
  {
   "cell_type": "code",
   "execution_count": 159,
   "id": "578f2d3a-0732-4b48-9930-d71bf53a3664",
   "metadata": {},
   "outputs": [],
   "source": [
    "# tbl.gtfs_schedule.stops() >> filter(_.calitp_itp_id == 300, _.stop_id == '689')"
   ]
  },
  {
   "cell_type": "code",
   "execution_count": 160,
   "id": "334353c4-4094-4b29-b63a-97ab86b63f9e",
   "metadata": {},
   "outputs": [],
   "source": [
    "# tbl.gtfs_schedule.stops() >> filter(_.stop_id == '315608')"
   ]
  },
  {
   "cell_type": "code",
   "execution_count": 161,
   "id": "d0fcf6e0-acb6-4b68-a250-df03ab9a53e4",
   "metadata": {},
   "outputs": [
    {
     "data": {
      "text/html": [
       "<div>\n",
       "<style scoped>\n",
       "    .dataframe tbody tr th:only-of-type {\n",
       "        vertical-align: middle;\n",
       "    }\n",
       "\n",
       "    .dataframe tbody tr th {\n",
       "        vertical-align: top;\n",
       "    }\n",
       "\n",
       "    .dataframe thead th {\n",
       "        text-align: right;\n",
       "    }\n",
       "</style>\n",
       "<table border=\"1\" class=\"dataframe\">\n",
       "  <thead>\n",
       "    <tr style=\"text-align: right;\">\n",
       "      <th></th>\n",
       "      <th>hq_transit_corr</th>\n",
       "      <th>shape_id</th>\n",
       "      <th>calitp_itp_id</th>\n",
       "      <th>geometry</th>\n",
       "      <th>calitp_url_number</th>\n",
       "      <th>hqta_segment_id</th>\n",
       "      <th>segment_sequence</th>\n",
       "      <th>stop_id</th>\n",
       "      <th>am_max_trips</th>\n",
       "      <th>pm_max_trips</th>\n",
       "      <th>departure_hour</th>\n",
       "      <th>n</th>\n",
       "      <th>hqta_type</th>\n",
       "      <th>route_type</th>\n",
       "    </tr>\n",
       "  </thead>\n",
       "  <tbody>\n",
       "    <tr>\n",
       "      <th>3710</th>\n",
       "      <td>True</td>\n",
       "      <td>25889</td>\n",
       "      <td>300</td>\n",
       "      <td>MULTIPOLYGON (((146051.357 -439049.193, 146045...</td>\n",
       "      <td>0</td>\n",
       "      <td>582087555</td>\n",
       "      <td>6</td>\n",
       "      <td>689</td>\n",
       "      <td>8.0</td>\n",
       "      <td>8.0</td>\n",
       "      <td>NaN</td>\n",
       "      <td>NaN</td>\n",
       "      <td>hq_transit_corr</td>\n",
       "      <td>3</td>\n",
       "    </tr>\n",
       "  </tbody>\n",
       "</table>\n",
       "</div>"
      ],
      "text/plain": [
       "      hq_transit_corr shape_id  calitp_itp_id  \\\n",
       "3710             True    25889            300   \n",
       "\n",
       "                                               geometry  calitp_url_number  \\\n",
       "3710  MULTIPOLYGON (((146051.357 -439049.193, 146045...                  0   \n",
       "\n",
       "      hqta_segment_id segment_sequence stop_id  am_max_trips  pm_max_trips  \\\n",
       "3710        582087555                6     689           8.0           8.0   \n",
       "\n",
       "      departure_hour   n        hqta_type route_type  \n",
       "3710             NaN NaN  hq_transit_corr          3  "
      ]
     },
     "execution_count": 161,
     "metadata": {},
     "output_type": "execute_result"
    }
   ],
   "source": [
    "bus_hqtc >> filter(_.stop_id == '689')"
   ]
  },
  {
   "cell_type": "code",
   "execution_count": 162,
   "id": "ff24a9e3-fc47-4264-9ea4-59a3b30592db",
   "metadata": {},
   "outputs": [
    {
     "data": {
      "text/html": [
       "<div>\n",
       "<style scoped>\n",
       "    .dataframe tbody tr th:only-of-type {\n",
       "        vertical-align: middle;\n",
       "    }\n",
       "\n",
       "    .dataframe tbody tr th {\n",
       "        vertical-align: top;\n",
       "    }\n",
       "\n",
       "    .dataframe thead th {\n",
       "        text-align: right;\n",
       "    }\n",
       "</style>\n",
       "<table border=\"1\" class=\"dataframe\">\n",
       "  <thead>\n",
       "    <tr style=\"text-align: right;\">\n",
       "      <th></th>\n",
       "      <th>hq_transit_corr</th>\n",
       "      <th>shape_id</th>\n",
       "      <th>calitp_itp_id</th>\n",
       "      <th>geometry</th>\n",
       "      <th>calitp_url_number</th>\n",
       "      <th>hqta_segment_id</th>\n",
       "      <th>segment_sequence</th>\n",
       "      <th>stop_id</th>\n",
       "      <th>am_max_trips</th>\n",
       "      <th>pm_max_trips</th>\n",
       "      <th>departure_hour</th>\n",
       "      <th>n</th>\n",
       "      <th>hqta_type</th>\n",
       "      <th>route_type</th>\n",
       "    </tr>\n",
       "  </thead>\n",
       "  <tbody>\n",
       "    <tr>\n",
       "      <th>3489</th>\n",
       "      <td>True</td>\n",
       "      <td>170521</td>\n",
       "      <td>290</td>\n",
       "      <td>MULTIPOLYGON (((-215212.280 -62248.311, -21521...</td>\n",
       "      <td>0</td>\n",
       "      <td>1040658561</td>\n",
       "      <td>0</td>\n",
       "      <td>315608</td>\n",
       "      <td>10.0</td>\n",
       "      <td>6.0</td>\n",
       "      <td>NaN</td>\n",
       "      <td>NaN</td>\n",
       "      <td>hq_transit_corr</td>\n",
       "      <td>3</td>\n",
       "    </tr>\n",
       "  </tbody>\n",
       "</table>\n",
       "</div>"
      ],
      "text/plain": [
       "      hq_transit_corr shape_id  calitp_itp_id  \\\n",
       "3489             True   170521            290   \n",
       "\n",
       "                                               geometry  calitp_url_number  \\\n",
       "3489  MULTIPOLYGON (((-215212.280 -62248.311, -21521...                  0   \n",
       "\n",
       "      hqta_segment_id segment_sequence stop_id  am_max_trips  pm_max_trips  \\\n",
       "3489       1040658561                0  315608          10.0           6.0   \n",
       "\n",
       "      departure_hour   n        hqta_type route_type  \n",
       "3489             NaN NaN  hq_transit_corr          3  "
      ]
     },
     "execution_count": 162,
     "metadata": {},
     "output_type": "execute_result"
    }
   ],
   "source": [
    "bus_hqtc >> filter(_.stop_id == '315608')"
   ]
  },
  {
   "cell_type": "code",
   "execution_count": 163,
   "id": "4861a2e2-1969-46b6-b83c-be36cbb3dfaf",
   "metadata": {},
   "outputs": [],
   "source": [
    "all_hqta = all_hqta >> filter(_.stop_id != '315608', _.stop_id != '689')\n",
    "## drop incorrect HMB data, TODO investigate\n",
    "## drop incorrect Cheviot data, TODO investigate refactor (run shapes in frequency order...)"
   ]
  },
  {
   "cell_type": "code",
   "execution_count": 164,
   "id": "96ea1b81-97d2-4d9f-986b-cb82fcb1d481",
   "metadata": {},
   "outputs": [],
   "source": [
    "all_hqta = all_hqta >> select(_.calitp_itp_id_primary, _.calitp_itp_id_secondary, _.agency_name_primary, _.hqta_type, _.geometry)\n",
    "all_hqta = all_hqta.reset_index(drop=True)\n",
    "# all_hqta['calitp_itp_id'] = all_hqta['calitp_itp_id'].astype('int64')"
   ]
  },
  {
   "cell_type": "code",
   "execution_count": 165,
   "id": "c233662a-e0c0-4e38-b6d6-ea8b709a46ed",
   "metadata": {},
   "outputs": [
    {
     "data": {
      "text/html": [
       "<div>\n",
       "<style scoped>\n",
       "    .dataframe tbody tr th:only-of-type {\n",
       "        vertical-align: middle;\n",
       "    }\n",
       "\n",
       "    .dataframe tbody tr th {\n",
       "        vertical-align: top;\n",
       "    }\n",
       "\n",
       "    .dataframe thead th {\n",
       "        text-align: right;\n",
       "    }\n",
       "</style>\n",
       "<table border=\"1\" class=\"dataframe\">\n",
       "  <thead>\n",
       "    <tr style=\"text-align: right;\">\n",
       "      <th></th>\n",
       "      <th>calitp_itp_id_primary</th>\n",
       "      <th>calitp_itp_id_secondary</th>\n",
       "      <th>agency_name_primary</th>\n",
       "      <th>hqta_type</th>\n",
       "      <th>geometry</th>\n",
       "    </tr>\n",
       "  </thead>\n",
       "  <tbody>\n",
       "    <tr>\n",
       "      <th>0</th>\n",
       "      <td>284</td>\n",
       "      <td>284</td>\n",
       "      <td>San Joaquin Regional Transit District</td>\n",
       "      <td>major_stop_bus</td>\n",
       "      <td>POLYGON ((-110954.624 -5674.094, -110958.500 -...</td>\n",
       "    </tr>\n",
       "    <tr>\n",
       "      <th>1</th>\n",
       "      <td>284</td>\n",
       "      <td>284</td>\n",
       "      <td>San Joaquin Regional Transit District</td>\n",
       "      <td>major_stop_bus</td>\n",
       "      <td>POLYGON ((-111070.873 -5698.324, -111074.750 -...</td>\n",
       "    </tr>\n",
       "    <tr>\n",
       "      <th>2</th>\n",
       "      <td>284</td>\n",
       "      <td>284</td>\n",
       "      <td>San Joaquin Regional Transit District</td>\n",
       "      <td>major_stop_bus</td>\n",
       "      <td>POLYGON ((-111070.746 -5703.829, -111074.622 -...</td>\n",
       "    </tr>\n",
       "    <tr>\n",
       "      <th>3</th>\n",
       "      <td>284</td>\n",
       "      <td>284</td>\n",
       "      <td>San Joaquin Regional Transit District</td>\n",
       "      <td>major_stop_bus</td>\n",
       "      <td>POLYGON ((-112015.565 -6058.798, -112019.441 -...</td>\n",
       "    </tr>\n",
       "    <tr>\n",
       "      <th>4</th>\n",
       "      <td>284</td>\n",
       "      <td>284</td>\n",
       "      <td>San Joaquin Regional Transit District</td>\n",
       "      <td>major_stop_bus</td>\n",
       "      <td>POLYGON ((-112037.308 -6118.083, -112041.184 -...</td>\n",
       "    </tr>\n",
       "    <tr>\n",
       "      <th>...</th>\n",
       "      <td>...</td>\n",
       "      <td>...</td>\n",
       "      <td>...</td>\n",
       "      <td>...</td>\n",
       "      <td>...</td>\n",
       "    </tr>\n",
       "    <tr>\n",
       "      <th>7955</th>\n",
       "      <td>4</td>\n",
       "      <td>NaN</td>\n",
       "      <td>AC Transit</td>\n",
       "      <td>hq_corridor_bus</td>\n",
       "      <td>MULTIPOLYGON (((-201047.727 -20653.568, -20107...</td>\n",
       "    </tr>\n",
       "    <tr>\n",
       "      <th>7956</th>\n",
       "      <td>4</td>\n",
       "      <td>NaN</td>\n",
       "      <td>AC Transit</td>\n",
       "      <td>hq_corridor_bus</td>\n",
       "      <td>MULTIPOLYGON (((-201047.727 -20653.568, -20107...</td>\n",
       "    </tr>\n",
       "    <tr>\n",
       "      <th>7957</th>\n",
       "      <td>293</td>\n",
       "      <td>NaN</td>\n",
       "      <td>Santa Barbara Metropolitan Transit District</td>\n",
       "      <td>hq_corridor_bus</td>\n",
       "      <td>MULTIPOLYGON (((18757.773 -397024.907, 18777.7...</td>\n",
       "    </tr>\n",
       "    <tr>\n",
       "      <th>7958</th>\n",
       "      <td>293</td>\n",
       "      <td>NaN</td>\n",
       "      <td>Santa Barbara Metropolitan Transit District</td>\n",
       "      <td>hq_corridor_bus</td>\n",
       "      <td>POLYGON ((26470.781 -399176.692, 26461.762 -39...</td>\n",
       "    </tr>\n",
       "    <tr>\n",
       "      <th>7959</th>\n",
       "      <td>339</td>\n",
       "      <td>NaN</td>\n",
       "      <td>Torrance Transit System</td>\n",
       "      <td>hq_corridor_bus</td>\n",
       "      <td>POLYGON ((148267.506 -462867.685, 148266.210 -...</td>\n",
       "    </tr>\n",
       "  </tbody>\n",
       "</table>\n",
       "<p>7960 rows × 5 columns</p>\n",
       "</div>"
      ],
      "text/plain": [
       "      calitp_itp_id_primary calitp_itp_id_secondary  \\\n",
       "0                       284                     284   \n",
       "1                       284                     284   \n",
       "2                       284                     284   \n",
       "3                       284                     284   \n",
       "4                       284                     284   \n",
       "...                     ...                     ...   \n",
       "7955                      4                     NaN   \n",
       "7956                      4                     NaN   \n",
       "7957                    293                     NaN   \n",
       "7958                    293                     NaN   \n",
       "7959                    339                     NaN   \n",
       "\n",
       "                              agency_name_primary        hqta_type  \\\n",
       "0           San Joaquin Regional Transit District   major_stop_bus   \n",
       "1           San Joaquin Regional Transit District   major_stop_bus   \n",
       "2           San Joaquin Regional Transit District   major_stop_bus   \n",
       "3           San Joaquin Regional Transit District   major_stop_bus   \n",
       "4           San Joaquin Regional Transit District   major_stop_bus   \n",
       "...                                           ...              ...   \n",
       "7955                                   AC Transit  hq_corridor_bus   \n",
       "7956                                   AC Transit  hq_corridor_bus   \n",
       "7957  Santa Barbara Metropolitan Transit District  hq_corridor_bus   \n",
       "7958  Santa Barbara Metropolitan Transit District  hq_corridor_bus   \n",
       "7959                      Torrance Transit System  hq_corridor_bus   \n",
       "\n",
       "                                               geometry  \n",
       "0     POLYGON ((-110954.624 -5674.094, -110958.500 -...  \n",
       "1     POLYGON ((-111070.873 -5698.324, -111074.750 -...  \n",
       "2     POLYGON ((-111070.746 -5703.829, -111074.622 -...  \n",
       "3     POLYGON ((-112015.565 -6058.798, -112019.441 -...  \n",
       "4     POLYGON ((-112037.308 -6118.083, -112041.184 -...  \n",
       "...                                                 ...  \n",
       "7955  MULTIPOLYGON (((-201047.727 -20653.568, -20107...  \n",
       "7956  MULTIPOLYGON (((-201047.727 -20653.568, -20107...  \n",
       "7957  MULTIPOLYGON (((18757.773 -397024.907, 18777.7...  \n",
       "7958  POLYGON ((26470.781 -399176.692, 26461.762 -39...  \n",
       "7959  POLYGON ((148267.506 -462867.685, 148266.210 -...  \n",
       "\n",
       "[7960 rows x 5 columns]"
      ]
     },
     "execution_count": 165,
     "metadata": {},
     "output_type": "execute_result"
    }
   ],
   "source": [
    "all_hqta"
   ]
  },
  {
   "cell_type": "code",
   "execution_count": 213,
   "id": "4547c877-721c-4305-80ac-b01ffcb8001b",
   "metadata": {},
   "outputs": [],
   "source": [
    "all_hqta['agency_name_secondary'] = all_hqta.apply(lambda x: name_dict[int(x.calitp_itp_id_secondary)]\\\n",
    "                                                       if type(x.calitp_itp_id_secondary) == str and int(x.calitp_itp_id_secondary) in name_dict.keys() else np.nan, axis = 1)"
   ]
  },
  {
   "cell_type": "code",
   "execution_count": 224,
   "id": "dcc1748a-de39-47ce-bca6-c496479989be",
   "metadata": {},
   "outputs": [],
   "source": [
    "all_hqta = all_hqta >> select(_.calitp_itp_id_primary, _.agency_name_primary, _.hqta_type,\n",
    "                              _.calitp_itp_id_secondary, _.agency_name_secondary, _.geometry)"
   ]
  },
  {
   "cell_type": "code",
   "execution_count": 225,
   "id": "d184c5ae-547a-4dd8-b58d-5f5b3e6e335a",
   "metadata": {},
   "outputs": [
    {
     "name": "stderr",
     "output_type": "stream",
     "text": [
      "/home/jovyan/data-analyses/_shared_utils/shared_utils/utils.py:38: UserWarning: this is an initial implementation of Parquet/Feather file support and associated metadata.  This is tracking version 0.1.0 of the metadata specification at https://github.com/geopandas/geo-arrow-spec\n",
      "\n",
      "This metadata specification does not yet make stability promises.  We do not yet recommend using this in a production setting unless you are able to rewrite your Parquet/Feather files.\n",
      "\n",
      "To further ignore this warning, you can do: \n",
      "import warnings; warnings.filterwarnings('ignore', message='.*initial implementation of Parquet.*')\n"
     ]
    }
   ],
   "source": [
    "## TODO add check that folder exists/mkdir...\n",
    "shared_utils.utils.geoparquet_gcs_export(all_hqta, f'{GCS_FILE_PATH}export/{analysis_date.isoformat()}/', f'ca_hq_transit_areas')"
   ]
  },
  {
   "cell_type": "code",
   "execution_count": 226,
   "id": "ad448d47-73b2-43a8-a1b1-7312c36c1505",
   "metadata": {},
   "outputs": [
    {
     "name": "stderr",
     "output_type": "stream",
     "text": [
      "/opt/conda/lib/python3.9/site-packages/geopandas/io/file.py:362: FutureWarning: pandas.Int64Index is deprecated and will be removed from pandas in a future version. Use pandas.Index with the appropriate dtype instead.\n"
     ]
    }
   ],
   "source": [
    "all_hqta.to_file('./ca_hq_transit_areas.geojson', driver='GeoJSON')"
   ]
  },
  {
   "cell_type": "markdown",
   "id": "d282f006-7c92-4f99-9afc-b124f7b75dd5",
   "metadata": {},
   "source": [
    "### Filling Out Documentation"
   ]
  },
  {
   "cell_type": "code",
   "execution_count": 230,
   "id": "81c8c624-e186-4a9a-be46-7346fd1efe7a",
   "metadata": {},
   "outputs": [
    {
     "data": {
      "text/html": [
       "<div>\n",
       "<style scoped>\n",
       "    .dataframe tbody tr th:only-of-type {\n",
       "        vertical-align: middle;\n",
       "    }\n",
       "\n",
       "    .dataframe tbody tr th {\n",
       "        vertical-align: top;\n",
       "    }\n",
       "\n",
       "    .dataframe thead th {\n",
       "        text-align: right;\n",
       "    }\n",
       "</style>\n",
       "<table border=\"1\" class=\"dataframe\">\n",
       "  <thead>\n",
       "    <tr style=\"text-align: right;\">\n",
       "      <th></th>\n",
       "      <th>calitp_itp_id_primary</th>\n",
       "      <th>agency_name_primary</th>\n",
       "      <th>hqta_type</th>\n",
       "      <th>calitp_itp_id_secondary</th>\n",
       "      <th>agency_name_secondary</th>\n",
       "      <th>geometry</th>\n",
       "    </tr>\n",
       "  </thead>\n",
       "  <tbody>\n",
       "    <tr>\n",
       "      <th>0</th>\n",
       "      <td>284</td>\n",
       "      <td>San Joaquin Regional Transit District</td>\n",
       "      <td>major_stop_bus</td>\n",
       "      <td>284</td>\n",
       "      <td>San Joaquin Regional Transit District</td>\n",
       "      <td>POLYGON ((-110954.624 -5674.094, -110958.500 -...</td>\n",
       "    </tr>\n",
       "    <tr>\n",
       "      <th>1</th>\n",
       "      <td>284</td>\n",
       "      <td>San Joaquin Regional Transit District</td>\n",
       "      <td>major_stop_bus</td>\n",
       "      <td>284</td>\n",
       "      <td>San Joaquin Regional Transit District</td>\n",
       "      <td>POLYGON ((-111070.873 -5698.324, -111074.750 -...</td>\n",
       "    </tr>\n",
       "    <tr>\n",
       "      <th>2</th>\n",
       "      <td>284</td>\n",
       "      <td>San Joaquin Regional Transit District</td>\n",
       "      <td>major_stop_bus</td>\n",
       "      <td>284</td>\n",
       "      <td>San Joaquin Regional Transit District</td>\n",
       "      <td>POLYGON ((-111070.746 -5703.829, -111074.622 -...</td>\n",
       "    </tr>\n",
       "  </tbody>\n",
       "</table>\n",
       "</div>"
      ],
      "text/plain": [
       "   calitp_itp_id_primary                    agency_name_primary  \\\n",
       "0                    284  San Joaquin Regional Transit District   \n",
       "1                    284  San Joaquin Regional Transit District   \n",
       "2                    284  San Joaquin Regional Transit District   \n",
       "\n",
       "        hqta_type calitp_itp_id_secondary  \\\n",
       "0  major_stop_bus                     284   \n",
       "1  major_stop_bus                     284   \n",
       "2  major_stop_bus                     284   \n",
       "\n",
       "                   agency_name_secondary  \\\n",
       "0  San Joaquin Regional Transit District   \n",
       "1  San Joaquin Regional Transit District   \n",
       "2  San Joaquin Regional Transit District   \n",
       "\n",
       "                                            geometry  \n",
       "0  POLYGON ((-110954.624 -5674.094, -110958.500 -...  \n",
       "1  POLYGON ((-111070.873 -5698.324, -111074.750 -...  \n",
       "2  POLYGON ((-111070.746 -5703.829, -111074.622 -...  "
      ]
     },
     "execution_count": 230,
     "metadata": {},
     "output_type": "execute_result"
    }
   ],
   "source": [
    "all_hqta >> head(3)"
   ]
  },
  {
   "cell_type": "code",
   "execution_count": 231,
   "id": "019b810f-ae9b-489b-b6eb-6c7ed144a902",
   "metadata": {},
   "outputs": [
    {
     "data": {
      "text/plain": [
       "calitp_itp_id_primary         int64\n",
       "agency_name_primary          object\n",
       "hqta_type                    object\n",
       "calitp_itp_id_secondary      object\n",
       "agency_name_secondary        object\n",
       "geometry                   geometry\n",
       "dtype: object"
      ]
     },
     "execution_count": 231,
     "metadata": {},
     "output_type": "execute_result"
    }
   ],
   "source": [
    "all_hqta.dtypes"
   ]
  },
  {
   "cell_type": "code",
   "execution_count": 232,
   "id": "f802beea-554d-49cb-8a2a-07af66dc2291",
   "metadata": {},
   "outputs": [
    {
     "data": {
      "text/html": [
       "<div>\n",
       "<style scoped>\n",
       "    .dataframe tbody tr th:only-of-type {\n",
       "        vertical-align: middle;\n",
       "    }\n",
       "\n",
       "    .dataframe tbody tr th {\n",
       "        vertical-align: top;\n",
       "    }\n",
       "\n",
       "    .dataframe thead th {\n",
       "        text-align: right;\n",
       "    }\n",
       "</style>\n",
       "<table border=\"1\" class=\"dataframe\">\n",
       "  <thead>\n",
       "    <tr style=\"text-align: right;\">\n",
       "      <th></th>\n",
       "      <th>calitp_itp_id_primary</th>\n",
       "      <th>agency_name_primary</th>\n",
       "      <th>stop_id</th>\n",
       "      <th>hqta_type</th>\n",
       "      <th>calitp_itp_id_secondary</th>\n",
       "      <th>agency_name_secondary</th>\n",
       "      <th>geometry</th>\n",
       "    </tr>\n",
       "  </thead>\n",
       "  <tbody>\n",
       "    <tr>\n",
       "      <th>0</th>\n",
       "      <td>284</td>\n",
       "      <td>San Joaquin Regional Transit District</td>\n",
       "      <td>7001</td>\n",
       "      <td>major_stop_bus</td>\n",
       "      <td>284</td>\n",
       "      <td>San Joaquin Regional Transit District</td>\n",
       "      <td>POINT (-111759.624 -5674.094)</td>\n",
       "    </tr>\n",
       "    <tr>\n",
       "      <th>1</th>\n",
       "      <td>284</td>\n",
       "      <td>San Joaquin Regional Transit District</td>\n",
       "      <td>3001</td>\n",
       "      <td>major_stop_bus</td>\n",
       "      <td>284</td>\n",
       "      <td>San Joaquin Regional Transit District</td>\n",
       "      <td>POINT (-111875.873 -5698.324)</td>\n",
       "    </tr>\n",
       "    <tr>\n",
       "      <th>2</th>\n",
       "      <td>284</td>\n",
       "      <td>San Joaquin Regional Transit District</td>\n",
       "      <td>3000</td>\n",
       "      <td>major_stop_bus</td>\n",
       "      <td>284</td>\n",
       "      <td>San Joaquin Regional Transit District</td>\n",
       "      <td>POINT (-111875.746 -5703.829)</td>\n",
       "    </tr>\n",
       "  </tbody>\n",
       "</table>\n",
       "</div>"
      ],
      "text/plain": [
       "   calitp_itp_id_primary                    agency_name_primary stop_id  \\\n",
       "0                    284  San Joaquin Regional Transit District    7001   \n",
       "1                    284  San Joaquin Regional Transit District    3001   \n",
       "2                    284  San Joaquin Regional Transit District    3000   \n",
       "\n",
       "        hqta_type calitp_itp_id_secondary  \\\n",
       "0  major_stop_bus                     284   \n",
       "1  major_stop_bus                     284   \n",
       "2  major_stop_bus                     284   \n",
       "\n",
       "                   agency_name_secondary                       geometry  \n",
       "0  San Joaquin Regional Transit District  POINT (-111759.624 -5674.094)  \n",
       "1  San Joaquin Regional Transit District  POINT (-111875.873 -5698.324)  \n",
       "2  San Joaquin Regional Transit District  POINT (-111875.746 -5703.829)  "
      ]
     },
     "execution_count": 232,
     "metadata": {},
     "output_type": "execute_result"
    }
   ],
   "source": [
    "with_names >> head(3)"
   ]
  },
  {
   "cell_type": "code",
   "execution_count": 233,
   "id": "a80c41d6-9e20-4692-b1a2-d58fbcfae8a5",
   "metadata": {},
   "outputs": [
    {
     "data": {
      "text/plain": [
       "calitp_itp_id_primary         int64\n",
       "agency_name_primary          object\n",
       "stop_id                      object\n",
       "hqta_type                    object\n",
       "calitp_itp_id_secondary      object\n",
       "agency_name_secondary        object\n",
       "geometry                   geometry\n",
       "dtype: object"
      ]
     },
     "execution_count": 233,
     "metadata": {},
     "output_type": "execute_result"
    }
   ],
   "source": [
    "with_names.dtypes"
   ]
  },
  {
   "cell_type": "code",
   "execution_count": 234,
   "id": "a7c38277-7a2a-4a1a-99f9-d1d1830baa60",
   "metadata": {},
   "outputs": [
    {
     "data": {
      "text/plain": [
       "array(['major_stop_bus', 'hq_corridor_bus', 'major_stop_rail',\n",
       "       'major_stop_ferry', 'major_stop_brt'], dtype=object)"
      ]
     },
     "execution_count": 234,
     "metadata": {},
     "output_type": "execute_result"
    }
   ],
   "source": [
    "with_names.hqta_type.unique()"
   ]
  },
  {
   "cell_type": "code",
   "execution_count": 219,
   "id": "4a242fc8-20f3-4713-8644-c3995bbf33db",
   "metadata": {},
   "outputs": [
    {
     "data": {
      "text/plain": [
       "array(['major_stop_bus', 'major_stop_rail', 'major_stop_ferry',\n",
       "       'major_stop_brt', 'hq_corridor_bus'], dtype=object)"
      ]
     },
     "execution_count": 219,
     "metadata": {},
     "output_type": "execute_result"
    }
   ],
   "source": [
    "all_hqta.hqta_type.unique()"
   ]
  },
  {
   "cell_type": "code",
   "execution_count": 237,
   "id": "31483b34-a307-4d6d-b9b5-b509bd18755c",
   "metadata": {},
   "outputs": [
    {
     "data": {
      "text/plain": [
       "16"
      ]
     },
     "execution_count": 237,
     "metadata": {},
     "output_type": "execute_result"
    }
   ],
   "source": [
    "all_hqta.hqta_type.str.len().max()"
   ]
  },
  {
   "cell_type": "code",
   "execution_count": 238,
   "id": "b0e08549-86b0-4d42-bf7d-5933771327bc",
   "metadata": {},
   "outputs": [
    {
     "data": {
      "text/plain": [
       "57"
      ]
     },
     "execution_count": 238,
     "metadata": {},
     "output_type": "execute_result"
    }
   ],
   "source": [
    "all_hqta.agency_name_primary.str.len().max()"
   ]
  },
  {
   "cell_type": "code",
   "execution_count": null,
   "id": "0aca0362-0284-4346-a499-3ec122d30396",
   "metadata": {},
   "outputs": [],
   "source": []
  }
 ],
 "metadata": {
  "kernelspec": {
   "display_name": "Python 3 (ipykernel)",
   "language": "python",
   "name": "python3"
  },
  "language_info": {
   "codemirror_mode": {
    "name": "ipython",
    "version": 3
   },
   "file_extension": ".py",
   "mimetype": "text/x-python",
   "name": "python",
   "nbconvert_exporter": "python",
   "pygments_lexer": "ipython3",
   "version": "3.9.12"
  }
 },
 "nbformat": 4,
 "nbformat_minor": 5
}
