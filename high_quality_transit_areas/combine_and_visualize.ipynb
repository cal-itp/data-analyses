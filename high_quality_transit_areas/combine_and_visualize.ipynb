{
 "cells": [
  {
   "cell_type": "code",
   "execution_count": 1,
   "id": "7f9e615b-d071-4728-b774-1d02f509c332",
   "metadata": {
    "collapsed": true,
    "jupyter": {
     "outputs_hidden": true
    },
    "tags": []
   },
   "outputs": [
    {
     "name": "stdout",
     "output_type": "stream",
     "text": [
      "Requirement already satisfied: geopandas in /opt/conda/lib/python3.9/site-packages (from -r requirements.txt (line 1)) (0.10.2)\n",
      "Requirement already satisfied: ipyleaflet in /opt/conda/lib/python3.9/site-packages (from -r requirements.txt (line 2)) (0.14.0)\n",
      "Requirement already satisfied: pandas>=0.25.0 in /opt/conda/lib/python3.9/site-packages (from geopandas->-r requirements.txt (line 1)) (1.3.3)\n",
      "Requirement already satisfied: pyproj>=2.2.0 in /opt/conda/lib/python3.9/site-packages (from geopandas->-r requirements.txt (line 1)) (3.2.1)\n",
      "Requirement already satisfied: fiona>=1.8 in /opt/conda/lib/python3.9/site-packages (from geopandas->-r requirements.txt (line 1)) (1.8.20)\n",
      "Requirement already satisfied: shapely>=1.6 in /opt/conda/lib/python3.9/site-packages (from geopandas->-r requirements.txt (line 1)) (1.8.0)\n",
      "Requirement already satisfied: ipywidgets<8,>=7.6.0 in /opt/conda/lib/python3.9/site-packages (from ipyleaflet->-r requirements.txt (line 2)) (7.6.5)\n",
      "Requirement already satisfied: traittypes<3,>=0.2.1 in /opt/conda/lib/python3.9/site-packages (from ipyleaflet->-r requirements.txt (line 2)) (0.2.1)\n",
      "Requirement already satisfied: setuptools in /opt/conda/lib/python3.9/site-packages (from fiona>=1.8->geopandas->-r requirements.txt (line 1)) (58.0.4)\n",
      "Requirement already satisfied: click-plugins>=1.0 in /opt/conda/lib/python3.9/site-packages (from fiona>=1.8->geopandas->-r requirements.txt (line 1)) (1.1.1)\n",
      "Requirement already satisfied: six>=1.7 in /opt/conda/lib/python3.9/site-packages (from fiona>=1.8->geopandas->-r requirements.txt (line 1)) (1.16.0)\n",
      "Requirement already satisfied: munch in /opt/conda/lib/python3.9/site-packages (from fiona>=1.8->geopandas->-r requirements.txt (line 1)) (2.5.0)\n",
      "Requirement already satisfied: cligj>=0.5 in /opt/conda/lib/python3.9/site-packages (from fiona>=1.8->geopandas->-r requirements.txt (line 1)) (0.7.2)\n",
      "Requirement already satisfied: attrs>=17 in /opt/conda/lib/python3.9/site-packages (from fiona>=1.8->geopandas->-r requirements.txt (line 1)) (21.2.0)\n",
      "Requirement already satisfied: certifi in /opt/conda/lib/python3.9/site-packages (from fiona>=1.8->geopandas->-r requirements.txt (line 1)) (2021.5.30)\n",
      "Requirement already satisfied: click>=4.0 in /opt/conda/lib/python3.9/site-packages (from fiona>=1.8->geopandas->-r requirements.txt (line 1)) (8.0.1)\n",
      "Requirement already satisfied: widgetsnbextension~=3.5.0 in /opt/conda/lib/python3.9/site-packages (from ipywidgets<8,>=7.6.0->ipyleaflet->-r requirements.txt (line 2)) (3.5.1)\n",
      "Requirement already satisfied: ipykernel>=4.5.1 in /opt/conda/lib/python3.9/site-packages (from ipywidgets<8,>=7.6.0->ipyleaflet->-r requirements.txt (line 2)) (6.4.1)\n",
      "Requirement already satisfied: ipython>=4.0.0 in /opt/conda/lib/python3.9/site-packages (from ipywidgets<8,>=7.6.0->ipyleaflet->-r requirements.txt (line 2)) (7.27.0)\n",
      "Requirement already satisfied: nbformat>=4.2.0 in /opt/conda/lib/python3.9/site-packages (from ipywidgets<8,>=7.6.0->ipyleaflet->-r requirements.txt (line 2)) (5.1.3)\n",
      "Requirement already satisfied: jupyterlab-widgets>=1.0.0 in /opt/conda/lib/python3.9/site-packages (from ipywidgets<8,>=7.6.0->ipyleaflet->-r requirements.txt (line 2)) (1.0.2)\n",
      "Requirement already satisfied: ipython-genutils~=0.2.0 in /opt/conda/lib/python3.9/site-packages (from ipywidgets<8,>=7.6.0->ipyleaflet->-r requirements.txt (line 2)) (0.2.0)\n",
      "Requirement already satisfied: traitlets>=4.3.1 in /opt/conda/lib/python3.9/site-packages (from ipywidgets<8,>=7.6.0->ipyleaflet->-r requirements.txt (line 2)) (5.1.0)\n",
      "Requirement already satisfied: jupyter-client<8.0 in /opt/conda/lib/python3.9/site-packages (from ipykernel>=4.5.1->ipywidgets<8,>=7.6.0->ipyleaflet->-r requirements.txt (line 2)) (7.0.3)\n",
      "Requirement already satisfied: matplotlib-inline<0.2.0,>=0.1.0 in /opt/conda/lib/python3.9/site-packages (from ipykernel>=4.5.1->ipywidgets<8,>=7.6.0->ipyleaflet->-r requirements.txt (line 2)) (0.1.3)\n",
      "Requirement already satisfied: debugpy<2.0,>=1.0.0 in /opt/conda/lib/python3.9/site-packages (from ipykernel>=4.5.1->ipywidgets<8,>=7.6.0->ipyleaflet->-r requirements.txt (line 2)) (1.4.1)\n",
      "Requirement already satisfied: tornado<7.0,>=4.2 in /opt/conda/lib/python3.9/site-packages (from ipykernel>=4.5.1->ipywidgets<8,>=7.6.0->ipyleaflet->-r requirements.txt (line 2)) (6.1)\n",
      "Requirement already satisfied: backcall in /opt/conda/lib/python3.9/site-packages (from ipython>=4.0.0->ipywidgets<8,>=7.6.0->ipyleaflet->-r requirements.txt (line 2)) (0.2.0)\n",
      "Requirement already satisfied: pygments in /opt/conda/lib/python3.9/site-packages (from ipython>=4.0.0->ipywidgets<8,>=7.6.0->ipyleaflet->-r requirements.txt (line 2)) (2.10.0)\n",
      "Requirement already satisfied: pexpect>4.3 in /opt/conda/lib/python3.9/site-packages (from ipython>=4.0.0->ipywidgets<8,>=7.6.0->ipyleaflet->-r requirements.txt (line 2)) (4.8.0)\n",
      "Requirement already satisfied: decorator in /opt/conda/lib/python3.9/site-packages (from ipython>=4.0.0->ipywidgets<8,>=7.6.0->ipyleaflet->-r requirements.txt (line 2)) (5.1.0)\n",
      "Requirement already satisfied: prompt-toolkit!=3.0.0,!=3.0.1,<3.1.0,>=2.0.0 in /opt/conda/lib/python3.9/site-packages (from ipython>=4.0.0->ipywidgets<8,>=7.6.0->ipyleaflet->-r requirements.txt (line 2)) (3.0.20)\n",
      "Requirement already satisfied: pickleshare in /opt/conda/lib/python3.9/site-packages (from ipython>=4.0.0->ipywidgets<8,>=7.6.0->ipyleaflet->-r requirements.txt (line 2)) (0.7.5)\n",
      "Requirement already satisfied: jedi>=0.16 in /opt/conda/lib/python3.9/site-packages (from ipython>=4.0.0->ipywidgets<8,>=7.6.0->ipyleaflet->-r requirements.txt (line 2)) (0.18.0)\n",
      "Requirement already satisfied: parso<0.9.0,>=0.8.0 in /opt/conda/lib/python3.9/site-packages (from jedi>=0.16->ipython>=4.0.0->ipywidgets<8,>=7.6.0->ipyleaflet->-r requirements.txt (line 2)) (0.8.2)\n",
      "Requirement already satisfied: entrypoints in /opt/conda/lib/python3.9/site-packages (from jupyter-client<8.0->ipykernel>=4.5.1->ipywidgets<8,>=7.6.0->ipyleaflet->-r requirements.txt (line 2)) (0.3)\n",
      "Requirement already satisfied: python-dateutil>=2.1 in /opt/conda/lib/python3.9/site-packages (from jupyter-client<8.0->ipykernel>=4.5.1->ipywidgets<8,>=7.6.0->ipyleaflet->-r requirements.txt (line 2)) (2.8.2)\n",
      "Requirement already satisfied: nest-asyncio>=1.5 in /opt/conda/lib/python3.9/site-packages (from jupyter-client<8.0->ipykernel>=4.5.1->ipywidgets<8,>=7.6.0->ipyleaflet->-r requirements.txt (line 2)) (1.5.1)\n",
      "Requirement already satisfied: jupyter-core>=4.6.0 in /opt/conda/lib/python3.9/site-packages (from jupyter-client<8.0->ipykernel>=4.5.1->ipywidgets<8,>=7.6.0->ipyleaflet->-r requirements.txt (line 2)) (4.8.1)\n",
      "Requirement already satisfied: pyzmq>=13 in /opt/conda/lib/python3.9/site-packages (from jupyter-client<8.0->ipykernel>=4.5.1->ipywidgets<8,>=7.6.0->ipyleaflet->-r requirements.txt (line 2)) (22.3.0)\n",
      "Requirement already satisfied: jsonschema!=2.5.0,>=2.4 in /opt/conda/lib/python3.9/site-packages (from nbformat>=4.2.0->ipywidgets<8,>=7.6.0->ipyleaflet->-r requirements.txt (line 2)) (3.2.0)\n",
      "Requirement already satisfied: pyrsistent>=0.14.0 in /opt/conda/lib/python3.9/site-packages (from jsonschema!=2.5.0,>=2.4->nbformat>=4.2.0->ipywidgets<8,>=7.6.0->ipyleaflet->-r requirements.txt (line 2)) (0.17.3)\n",
      "Requirement already satisfied: numpy>=1.17.3 in /opt/conda/lib/python3.9/site-packages (from pandas>=0.25.0->geopandas->-r requirements.txt (line 1)) (1.20.3)\n",
      "Requirement already satisfied: pytz>=2017.3 in /opt/conda/lib/python3.9/site-packages (from pandas>=0.25.0->geopandas->-r requirements.txt (line 1)) (2021.1)\n",
      "Requirement already satisfied: ptyprocess>=0.5 in /opt/conda/lib/python3.9/site-packages (from pexpect>4.3->ipython>=4.0.0->ipywidgets<8,>=7.6.0->ipyleaflet->-r requirements.txt (line 2)) (0.7.0)\n",
      "Requirement already satisfied: wcwidth in /opt/conda/lib/python3.9/site-packages (from prompt-toolkit!=3.0.0,!=3.0.1,<3.1.0,>=2.0.0->ipython>=4.0.0->ipywidgets<8,>=7.6.0->ipyleaflet->-r requirements.txt (line 2)) (0.2.5)\n",
      "Requirement already satisfied: notebook>=4.4.1 in /opt/conda/lib/python3.9/site-packages (from widgetsnbextension~=3.5.0->ipywidgets<8,>=7.6.0->ipyleaflet->-r requirements.txt (line 2)) (6.4.4)\n",
      "Requirement already satisfied: jinja2 in /opt/conda/lib/python3.9/site-packages (from notebook>=4.4.1->widgetsnbextension~=3.5.0->ipywidgets<8,>=7.6.0->ipyleaflet->-r requirements.txt (line 2)) (3.0.1)\n",
      "Requirement already satisfied: Send2Trash>=1.5.0 in /opt/conda/lib/python3.9/site-packages (from notebook>=4.4.1->widgetsnbextension~=3.5.0->ipywidgets<8,>=7.6.0->ipyleaflet->-r requirements.txt (line 2)) (1.8.0)\n",
      "Requirement already satisfied: prometheus-client in /opt/conda/lib/python3.9/site-packages (from notebook>=4.4.1->widgetsnbextension~=3.5.0->ipywidgets<8,>=7.6.0->ipyleaflet->-r requirements.txt (line 2)) (0.11.0)\n",
      "Requirement already satisfied: nbconvert in /opt/conda/lib/python3.9/site-packages (from notebook>=4.4.1->widgetsnbextension~=3.5.0->ipywidgets<8,>=7.6.0->ipyleaflet->-r requirements.txt (line 2)) (6.2.0)\n",
      "Requirement already satisfied: argon2-cffi in /opt/conda/lib/python3.9/site-packages (from notebook>=4.4.1->widgetsnbextension~=3.5.0->ipywidgets<8,>=7.6.0->ipyleaflet->-r requirements.txt (line 2)) (20.1.0)\n",
      "Requirement already satisfied: terminado>=0.8.3 in /opt/conda/lib/python3.9/site-packages (from notebook>=4.4.1->widgetsnbextension~=3.5.0->ipywidgets<8,>=7.6.0->ipyleaflet->-r requirements.txt (line 2)) (0.12.1)\n",
      "Requirement already satisfied: cffi>=1.0.0 in /opt/conda/lib/python3.9/site-packages (from argon2-cffi->notebook>=4.4.1->widgetsnbextension~=3.5.0->ipywidgets<8,>=7.6.0->ipyleaflet->-r requirements.txt (line 2)) (1.14.6)\n",
      "Requirement already satisfied: pycparser in /opt/conda/lib/python3.9/site-packages (from cffi>=1.0.0->argon2-cffi->notebook>=4.4.1->widgetsnbextension~=3.5.0->ipywidgets<8,>=7.6.0->ipyleaflet->-r requirements.txt (line 2)) (2.20)\n",
      "Requirement already satisfied: MarkupSafe>=2.0 in /opt/conda/lib/python3.9/site-packages (from jinja2->notebook>=4.4.1->widgetsnbextension~=3.5.0->ipywidgets<8,>=7.6.0->ipyleaflet->-r requirements.txt (line 2)) (2.0.1)\n",
      "Requirement already satisfied: pandocfilters>=1.4.1 in /opt/conda/lib/python3.9/site-packages (from nbconvert->notebook>=4.4.1->widgetsnbextension~=3.5.0->ipywidgets<8,>=7.6.0->ipyleaflet->-r requirements.txt (line 2)) (1.5.0)\n",
      "Requirement already satisfied: testpath in /opt/conda/lib/python3.9/site-packages (from nbconvert->notebook>=4.4.1->widgetsnbextension~=3.5.0->ipywidgets<8,>=7.6.0->ipyleaflet->-r requirements.txt (line 2)) (0.5.0)\n",
      "Requirement already satisfied: mistune<2,>=0.8.1 in /opt/conda/lib/python3.9/site-packages (from nbconvert->notebook>=4.4.1->widgetsnbextension~=3.5.0->ipywidgets<8,>=7.6.0->ipyleaflet->-r requirements.txt (line 2)) (0.8.4)\n",
      "Requirement already satisfied: bleach in /opt/conda/lib/python3.9/site-packages (from nbconvert->notebook>=4.4.1->widgetsnbextension~=3.5.0->ipywidgets<8,>=7.6.0->ipyleaflet->-r requirements.txt (line 2)) (4.1.0)\n",
      "Requirement already satisfied: defusedxml in /opt/conda/lib/python3.9/site-packages (from nbconvert->notebook>=4.4.1->widgetsnbextension~=3.5.0->ipywidgets<8,>=7.6.0->ipyleaflet->-r requirements.txt (line 2)) (0.7.1)\n",
      "Requirement already satisfied: nbclient<0.6.0,>=0.5.0 in /opt/conda/lib/python3.9/site-packages (from nbconvert->notebook>=4.4.1->widgetsnbextension~=3.5.0->ipywidgets<8,>=7.6.0->ipyleaflet->-r requirements.txt (line 2)) (0.5.4)\n",
      "Requirement already satisfied: jupyterlab-pygments in /opt/conda/lib/python3.9/site-packages (from nbconvert->notebook>=4.4.1->widgetsnbextension~=3.5.0->ipywidgets<8,>=7.6.0->ipyleaflet->-r requirements.txt (line 2)) (0.1.2)\n",
      "Requirement already satisfied: webencodings in /opt/conda/lib/python3.9/site-packages (from bleach->nbconvert->notebook>=4.4.1->widgetsnbextension~=3.5.0->ipywidgets<8,>=7.6.0->ipyleaflet->-r requirements.txt (line 2)) (0.5.1)\n",
      "Requirement already satisfied: packaging in /opt/conda/lib/python3.9/site-packages (from bleach->nbconvert->notebook>=4.4.1->widgetsnbextension~=3.5.0->ipywidgets<8,>=7.6.0->ipyleaflet->-r requirements.txt (line 2)) (21.0)\n",
      "Requirement already satisfied: pyparsing>=2.0.2 in /opt/conda/lib/python3.9/site-packages (from packaging->bleach->nbconvert->notebook>=4.4.1->widgetsnbextension~=3.5.0->ipywidgets<8,>=7.6.0->ipyleaflet->-r requirements.txt (line 2)) (2.4.7)\n"
     ]
    }
   ],
   "source": [
    "!pip install -r requirements.txt"
   ]
  },
  {
   "cell_type": "code",
   "execution_count": 15,
   "id": "4d53c57e-0777-4c0d-9dc6-4954c95ed307",
   "metadata": {},
   "outputs": [],
   "source": [
    "import calitp\n",
    "from calitp.tables import tbl\n",
    "from siuba import *\n",
    "\n",
    "import pandas as pd\n",
    "import numpy as np\n",
    "import geopandas as gpd\n",
    "import fiona\n",
    "\n",
    "from ipyleaflet import Map, GeoJSON, projections, basemaps, GeoData, LayersControl, WidgetControl, GeoJSON\n",
    "from ipywidgets import Text, HTML\n",
    "\n",
    "from utilities import *"
   ]
  },
  {
   "cell_type": "code",
   "execution_count": 16,
   "id": "e31ad027-1acc-44f8-bdd6-31f1b9b36a77",
   "metadata": {},
   "outputs": [],
   "source": [
    "bus_hqtc = gpd.read_parquet('./data/bus/shape_hqta_dissolve.parquet')\n",
    "bus_hqtc = bus_hqtc[bus_hqtc['hq_transit_corr']]\n",
    "bus_hqtc['hqta_type'] = 'hq_transit_corr'"
   ]
  },
  {
   "cell_type": "code",
   "execution_count": 17,
   "id": "bcbea24e-ab7e-400a-8813-6a477471c1d6",
   "metadata": {},
   "outputs": [],
   "source": [
    "rail_ferry_brt_stops = gpd.read_parquet('./data/rail_ferry_brt/rail_brt_ferry.parquet')\n",
    "rail_ferry_brt_stops['hqta_type'] = 'major_transit_stop'"
   ]
  },
  {
   "cell_type": "markdown",
   "id": "c9163e6d-212d-4b33-acb3-38b0b88fe9cb",
   "metadata": {},
   "source": [
    "### High Quality Transit Areas Relevant Statutes\n",
    "\n",
    "[PRC 21155](https://leginfo.legislature.ca.gov/faces/codes_displaySection.xhtml?sectionNum=21155.&lawCode=PRC)\n",
    "* _(3) be within one-half mile of a major transit stop or high-quality transit corridor included in a regional transportation plan._\n",
    "* Major transit stop definition: _A major transit stop is as defined in Section 21064.3, except that, for purposes of this section, it also includes major transit stops that are included in the applicable regional transportation plan_\n",
    "* High-quality transit corridor definition: _For purposes of this section, a high-quality transit corridor means a corridor with fixed route bus service with service intervals no longer than 15 minutes during peak commute hours._\n",
    "    * Unable to locate definition of \"peak commute hours\"\n",
    "\n",
    "[PRC 21064.3](https://leginfo.legislature.ca.gov/faces/codes_displaySection.xhtml?sectionNum=21064.3.&lawCode=PRC)\n",
    "* _Major transit stop means a site containing any of the following:\n",
    "(a) An existing rail or bus rapid transit station.\n",
    "(b) A ferry terminal served by either a bus or rail transit service.\n",
    "(c) The intersection of two or more major bus routes with a frequency of service interval of 15 minutes or less during the morning and afternoon peak commute periods._\n",
    "    * \"Intersection\" may not be sufficiently well-defined for this analysis\n",
    "\n",
    "[PRC 21060.2](https://leginfo.legislature.ca.gov/faces/codes_displaySection.xhtml?lawCode=PRC&sectionNum=21060.2.&highlight=true&keyword=bus%20rapid%20transit)\n",
    "* _(a) “Bus rapid transit” means a public mass transit service provided by a public agency or by a public-private partnership that includes all of the following features:\n",
    "(1) Full-time dedicated bus lanes or operation in a separate right-of-way dedicated for public transportation with a frequency of service interval of 15 minutes or less during the morning and afternoon peak commute periods.\n",
    "(2) Transit signal priority.\n",
    "(3) All-door boarding.\n",
    "(4) Fare collection system that promotes efficiency.\n",
    "(5) Defined stations._\n",
    "    * Unlikely to determine if a service qualifies as BRT under this definition using GTFS alone"
   ]
  },
  {
   "cell_type": "markdown",
   "id": "abd74f0f-d4d6-4e12-9501-09df49e38ed2",
   "metadata": {},
   "source": [
    "## Bus Major Stops"
   ]
  },
  {
   "cell_type": "code",
   "execution_count": 18,
   "id": "441de95c-34c4-46bd-a95c-bfa0fd0338ea",
   "metadata": {},
   "outputs": [
    {
     "data": {
      "text/html": [
       "<div>\n",
       "<style scoped>\n",
       "    .dataframe tbody tr th:only-of-type {\n",
       "        vertical-align: middle;\n",
       "    }\n",
       "\n",
       "    .dataframe tbody tr th {\n",
       "        vertical-align: top;\n",
       "    }\n",
       "\n",
       "    .dataframe thead th {\n",
       "        text-align: right;\n",
       "    }\n",
       "</style>\n",
       "<table border=\"1\" class=\"dataframe\">\n",
       "  <thead>\n",
       "    <tr style=\"text-align: right;\">\n",
       "      <th></th>\n",
       "      <th>hq_transit_corr</th>\n",
       "      <th>shape_id</th>\n",
       "      <th>geometry</th>\n",
       "      <th>level_0</th>\n",
       "      <th>calitp_itp_id</th>\n",
       "      <th>hqta_segment_id</th>\n",
       "      <th>n_trips</th>\n",
       "      <th>segment_sequence</th>\n",
       "      <th>stop_id</th>\n",
       "      <th>am_peak</th>\n",
       "      <th>pm_peak</th>\n",
       "      <th>hqta_type</th>\n",
       "    </tr>\n",
       "  </thead>\n",
       "  <tbody>\n",
       "    <tr>\n",
       "      <th>2464</th>\n",
       "      <td>True</td>\n",
       "      <td>0500</td>\n",
       "      <td>MULTIPOLYGON (((193308.696 -465893.120, 193308...</td>\n",
       "      <td>0</td>\n",
       "      <td>142</td>\n",
       "      <td>2197551287</td>\n",
       "      <td>134.0</td>\n",
       "      <td>0</td>\n",
       "      <td>3977</td>\n",
       "      <td>9.0</td>\n",
       "      <td>8.0</td>\n",
       "      <td>hq_transit_corr</td>\n",
       "    </tr>\n",
       "    <tr>\n",
       "      <th>2466</th>\n",
       "      <td>True</td>\n",
       "      <td>10</td>\n",
       "      <td>MULTIPOLYGON (((170627.569 -429628.875, 170627...</td>\n",
       "      <td>1</td>\n",
       "      <td>243</td>\n",
       "      <td>2088216280</td>\n",
       "      <td>64.0</td>\n",
       "      <td>2</td>\n",
       "      <td>604</td>\n",
       "      <td>4.7</td>\n",
       "      <td>5.0</td>\n",
       "      <td>hq_transit_corr</td>\n",
       "    </tr>\n",
       "    <tr>\n",
       "      <th>2467</th>\n",
       "      <td>True</td>\n",
       "      <td>100706_SEPT21</td>\n",
       "      <td>MULTIPOLYGON (((149722.349 -435846.031, 149624...</td>\n",
       "      <td>0</td>\n",
       "      <td>182</td>\n",
       "      <td>2368710740</td>\n",
       "      <td>120.0</td>\n",
       "      <td>1</td>\n",
       "      <td>16374</td>\n",
       "      <td>6.0</td>\n",
       "      <td>8.0</td>\n",
       "      <td>hq_transit_corr</td>\n",
       "    </tr>\n",
       "  </tbody>\n",
       "</table>\n",
       "</div>"
      ],
      "text/plain": [
       "      hq_transit_corr       shape_id  \\\n",
       "2464             True           0500   \n",
       "2466             True             10   \n",
       "2467             True  100706_SEPT21   \n",
       "\n",
       "                                               geometry  level_0  \\\n",
       "2464  MULTIPOLYGON (((193308.696 -465893.120, 193308...        0   \n",
       "2466  MULTIPOLYGON (((170627.569 -429628.875, 170627...        1   \n",
       "2467  MULTIPOLYGON (((149722.349 -435846.031, 149624...        0   \n",
       "\n",
       "     calitp_itp_id  hqta_segment_id  n_trips segment_sequence stop_id  \\\n",
       "2464           142       2197551287    134.0                0    3977   \n",
       "2466           243       2088216280     64.0                2     604   \n",
       "2467           182       2368710740    120.0                1   16374   \n",
       "\n",
       "      am_peak  pm_peak        hqta_type  \n",
       "2464      9.0      8.0  hq_transit_corr  \n",
       "2466      4.7      5.0  hq_transit_corr  \n",
       "2467      6.0      8.0  hq_transit_corr  "
      ]
     },
     "execution_count": 18,
     "metadata": {},
     "output_type": "execute_result"
    }
   ],
   "source": [
    "bus_hqtc.head(3)"
   ]
  },
  {
   "cell_type": "code",
   "execution_count": 19,
   "id": "e5122d6a-8378-4901-b15f-1d550e7cdb95",
   "metadata": {},
   "outputs": [
    {
     "data": {
      "text/html": [
       "<div>\n",
       "<style scoped>\n",
       "    .dataframe tbody tr th:only-of-type {\n",
       "        vertical-align: middle;\n",
       "    }\n",
       "\n",
       "    .dataframe tbody tr th {\n",
       "        vertical-align: top;\n",
       "    }\n",
       "\n",
       "    .dataframe thead th {\n",
       "        text-align: right;\n",
       "    }\n",
       "</style>\n",
       "<table border=\"1\" class=\"dataframe\">\n",
       "  <thead>\n",
       "    <tr style=\"text-align: right;\">\n",
       "      <th></th>\n",
       "      <th>hq_transit_corr</th>\n",
       "      <th>shape_id</th>\n",
       "      <th>geometry</th>\n",
       "      <th>level_0</th>\n",
       "      <th>calitp_itp_id</th>\n",
       "      <th>hqta_segment_id</th>\n",
       "      <th>n_trips</th>\n",
       "      <th>segment_sequence</th>\n",
       "      <th>stop_id</th>\n",
       "      <th>am_peak</th>\n",
       "      <th>pm_peak</th>\n",
       "      <th>hqta_type</th>\n",
       "    </tr>\n",
       "  </thead>\n",
       "  <tbody>\n",
       "    <tr>\n",
       "      <th>2464</th>\n",
       "      <td>True</td>\n",
       "      <td>0500</td>\n",
       "      <td>MULTIPOLYGON (((193308.696 -465893.120, 193308...</td>\n",
       "      <td>0</td>\n",
       "      <td>142</td>\n",
       "      <td>2197551287</td>\n",
       "      <td>134.0</td>\n",
       "      <td>0</td>\n",
       "      <td>3977</td>\n",
       "      <td>9.0</td>\n",
       "      <td>8.0</td>\n",
       "      <td>hq_transit_corr</td>\n",
       "    </tr>\n",
       "    <tr>\n",
       "      <th>2840</th>\n",
       "      <td>True</td>\n",
       "      <td>2902</td>\n",
       "      <td>MULTIPOLYGON (((185843.557 -482535.788, 185898...</td>\n",
       "      <td>27</td>\n",
       "      <td>142</td>\n",
       "      <td>369979426</td>\n",
       "      <td>121.0</td>\n",
       "      <td>28</td>\n",
       "      <td>4309</td>\n",
       "      <td>7.0</td>\n",
       "      <td>6.0</td>\n",
       "      <td>hq_transit_corr</td>\n",
       "    </tr>\n",
       "    <tr>\n",
       "      <th>2933</th>\n",
       "      <td>True</td>\n",
       "      <td>4001</td>\n",
       "      <td>MULTIPOLYGON (((199427.290 -480391.891, 199427...</td>\n",
       "      <td>0</td>\n",
       "      <td>142</td>\n",
       "      <td>3081829928</td>\n",
       "      <td>45.0</td>\n",
       "      <td>2</td>\n",
       "      <td>3532</td>\n",
       "      <td>5.0</td>\n",
       "      <td>5.0</td>\n",
       "      <td>hq_transit_corr</td>\n",
       "    </tr>\n",
       "  </tbody>\n",
       "</table>\n",
       "</div>"
      ],
      "text/plain": [
       "      hq_transit_corr shape_id  \\\n",
       "2464             True     0500   \n",
       "2840             True     2902   \n",
       "2933             True     4001   \n",
       "\n",
       "                                               geometry  level_0  \\\n",
       "2464  MULTIPOLYGON (((193308.696 -465893.120, 193308...        0   \n",
       "2840  MULTIPOLYGON (((185843.557 -482535.788, 185898...       27   \n",
       "2933  MULTIPOLYGON (((199427.290 -480391.891, 199427...        0   \n",
       "\n",
       "     calitp_itp_id  hqta_segment_id  n_trips segment_sequence stop_id  \\\n",
       "2464           142       2197551287    134.0                0    3977   \n",
       "2840           142        369979426    121.0               28    4309   \n",
       "2933           142       3081829928     45.0                2    3532   \n",
       "\n",
       "      am_peak  pm_peak        hqta_type  \n",
       "2464      9.0      8.0  hq_transit_corr  \n",
       "2840      7.0      6.0  hq_transit_corr  \n",
       "2933      5.0      5.0  hq_transit_corr  "
      ]
     },
     "execution_count": 19,
     "metadata": {},
     "output_type": "execute_result"
    }
   ],
   "source": [
    "octa = bus_hqtc >> filter(_.calitp_itp_id == '142')\n",
    "octa.head(3)"
   ]
  },
  {
   "cell_type": "code",
   "execution_count": 23,
   "id": "d5822bbd-bc97-411a-8661-a7d9ebac6bc3",
   "metadata": {},
   "outputs": [],
   "source": [
    "over = gpd.overlay(octa, octa, how='intersection')"
   ]
  },
  {
   "cell_type": "code",
   "execution_count": null,
   "id": "13ce51bc-2316-40dc-8ae4-00e5af95b0c9",
   "metadata": {},
   "outputs": [],
   "source": []
  },
  {
   "cell_type": "code",
   "execution_count": 32,
   "id": "cea2629a-436a-47ca-80e5-f5960e747502",
   "metadata": {},
   "outputs": [],
   "source": [
    "x = octa[octa.shape_id == '9430']\n",
    "y = octa[octa.shape_id == '6422']"
   ]
  },
  {
   "cell_type": "code",
   "execution_count": 33,
   "id": "9f2ad81d-9f61-40f5-849d-e3fe303be60e",
   "metadata": {},
   "outputs": [],
   "source": [
    "df = x.clip(y)\n",
    "df.geometry = df.geometry.buffer(50)"
   ]
  },
  {
   "cell_type": "code",
   "execution_count": 109,
   "id": "f104e680-a949-4e07-a4dd-19950207c66f",
   "metadata": {},
   "outputs": [],
   "source": [
    "gdf = bus_hqtc\n",
    "output = gpd.GeoDataFrame()\n",
    "\n",
    "def find_intersections(row):\n",
    "    global output\n",
    "    # display(row)\n",
    "    # display(row.shape_id)\n",
    "    this_row = gdf >> filter(_.shape_id == row.shape_id)\n",
    "    not_this_row = gdf >> filter(_.shape_id != row.shape_id)\n",
    "    # print(type(filtered))\n",
    "    clip_row = gpd.clip(this_row, not_this_row)\n",
    "    output = output.append(clip_row)\n",
    "    return"
   ]
  },
  {
   "cell_type": "code",
   "execution_count": 110,
   "id": "96caf70f-e497-4df4-9b1a-20b54f7b7f83",
   "metadata": {},
   "outputs": [],
   "source": [
    "_test = bus_hqtc.apply(find_intersections, axis=1)"
   ]
  },
  {
   "cell_type": "code",
   "execution_count": 111,
   "id": "cdb9023e-8397-4eed-b829-0ab22ee26580",
   "metadata": {},
   "outputs": [],
   "source": [
    "output.geometry = output.geometry.buffer(50)"
   ]
  },
  {
   "cell_type": "code",
   "execution_count": 116,
   "id": "a54925c8-cb64-452f-b8ac-18407ed3f9d6",
   "metadata": {},
   "outputs": [],
   "source": [
    "# output.to_parquet('finding_intersections.parquet')"
   ]
  },
  {
   "cell_type": "code",
   "execution_count": 117,
   "id": "03c6a712-3b44-4bd9-962f-ab6f02fc7034",
   "metadata": {},
   "outputs": [],
   "source": [
    "output = gpd.read_parquet('finding_intersections.parquet')"
   ]
  },
  {
   "cell_type": "code",
   "execution_count": 114,
   "id": "2bf6f518-5ad5-487b-8789-3dce9596f2fc",
   "metadata": {},
   "outputs": [
    {
     "data": {
      "application/vnd.jupyter.widget-view+json": {
       "model_id": "a16ddb0800f645d0a99bfb88297fbe3c",
       "version_major": 2,
       "version_minor": 0
      },
      "text/plain": [
       "Map(center=[33.78198752372606, -117.88832768212126], controls=(ZoomControl(options=['position', 'zoom_in_text'…"
      ]
     },
     "metadata": {},
     "output_type": "display_data"
    }
   ],
   "source": [
    "map_hqta(output, 'shape_id')"
   ]
  },
  {
   "cell_type": "markdown",
   "id": "f1ac0f78-6b99-4079-8c26-ca875367f6a8",
   "metadata": {},
   "source": [
    "#### Definitions and Output:\n",
    "\n",
    "* hqta_type: major_transit_stop\n",
    "* stop_id: one stop id... (not ideal, but oh well)\n",
    "* geometry: .buffer(700)?\n",
    "* _can alway pull more info spatially_"
   ]
  },
  {
   "cell_type": "markdown",
   "id": "8e53d610-d9bc-4bc1-8a79-d32b3078d672",
   "metadata": {},
   "source": [
    "### Combining and Buffering\n",
    "\n",
    "* General buffer distance: 1/2mi ~= 805 meters\n",
    "* Bus corridors are already buffered 50 meters, so will buffer 755 meters"
   ]
  },
  {
   "cell_type": "code",
   "execution_count": 34,
   "id": "e13cb57b-0905-4b8c-9f8f-d6d87c09c533",
   "metadata": {},
   "outputs": [],
   "source": [
    "bus_hqtc.geometry = bus_hqtc.geometry.buffer(755)\n",
    "rail_ferry_brt_stops.geometry = rail_ferry_brt_stops.geometry.buffer(805)"
   ]
  },
  {
   "cell_type": "code",
   "execution_count": 35,
   "id": "da513fe3-7893-48a1-b33b-de36e5c97443",
   "metadata": {},
   "outputs": [],
   "source": [
    "all_hqta = bus_hqtc.append(rail_ferry_brt_stops).fillna('')"
   ]
  },
  {
   "cell_type": "code",
   "execution_count": 36,
   "id": "96ea1b81-97d2-4d9f-986b-cb82fcb1d481",
   "metadata": {},
   "outputs": [],
   "source": [
    "all_hqta = all_hqta[['calitp_itp_id', 'stop_id', 'geometry', 'hqta_type']]\n",
    "all_hqta = all_hqta.reset_index(drop=True)\n",
    "all_hqta['calitp_itp_id'] = all_hqta['calitp_itp_id'].astype('int64')"
   ]
  },
  {
   "cell_type": "markdown",
   "id": "637313be-dcc3-437a-8733-1731f9e0fa8f",
   "metadata": {},
   "source": [
    "### Format for export"
   ]
  },
  {
   "cell_type": "code",
   "execution_count": 37,
   "id": "62c1c203-23a0-4fd2-a308-7eb2f066fa58",
   "metadata": {},
   "outputs": [
    {
     "data": {
      "text/html": [
       "<div>\n",
       "<style scoped>\n",
       "    .dataframe tbody tr th:only-of-type {\n",
       "        vertical-align: middle;\n",
       "    }\n",
       "\n",
       "    .dataframe tbody tr th {\n",
       "        vertical-align: top;\n",
       "    }\n",
       "\n",
       "    .dataframe thead th {\n",
       "        text-align: right;\n",
       "    }\n",
       "</style>\n",
       "<table border=\"1\" class=\"dataframe\">\n",
       "  <thead>\n",
       "    <tr style=\"text-align: right;\">\n",
       "      <th></th>\n",
       "      <th>calitp_itp_id</th>\n",
       "      <th>stop_id</th>\n",
       "      <th>geometry</th>\n",
       "      <th>hqta_type</th>\n",
       "    </tr>\n",
       "  </thead>\n",
       "  <tbody>\n",
       "    <tr>\n",
       "      <th>0</th>\n",
       "      <td>1</td>\n",
       "      <td>0255</td>\n",
       "      <td>MULTIPOLYGON (((170345.013 -468746.416, 170344...</td>\n",
       "      <td>hq_transit_corr</td>\n",
       "    </tr>\n",
       "    <tr>\n",
       "      <th>1</th>\n",
       "      <td>142</td>\n",
       "      <td>3977</td>\n",
       "      <td>MULTIPOLYGON (((211656.399 -486108.638, 211648...</td>\n",
       "      <td>hq_transit_corr</td>\n",
       "    </tr>\n",
       "    <tr>\n",
       "      <th>2</th>\n",
       "      <td>243</td>\n",
       "      <td>315</td>\n",
       "      <td>MULTIPOLYGON (((176140.516 -428554.874, 176087...</td>\n",
       "      <td>hq_transit_corr</td>\n",
       "    </tr>\n",
       "    <tr>\n",
       "      <th>3</th>\n",
       "      <td>243</td>\n",
       "      <td>604</td>\n",
       "      <td>POLYGON ((169813.526 -429207.132, 169810.845 -...</td>\n",
       "      <td>hq_transit_corr</td>\n",
       "    </tr>\n",
       "    <tr>\n",
       "      <th>4</th>\n",
       "      <td>1</td>\n",
       "      <td>2029</td>\n",
       "      <td>POLYGON ((160196.861 -459719.052, 160180.987 -...</td>\n",
       "      <td>hq_transit_corr</td>\n",
       "    </tr>\n",
       "    <tr>\n",
       "      <th>...</th>\n",
       "      <td>...</td>\n",
       "      <td>...</td>\n",
       "      <td>...</td>\n",
       "      <td>...</td>\n",
       "    </tr>\n",
       "    <tr>\n",
       "      <th>2203</th>\n",
       "      <td>2</td>\n",
       "      <td>890002</td>\n",
       "      <td>POLYGON ((-209416.680 -22028.923, -209420.557 ...</td>\n",
       "      <td>major_transit_stop</td>\n",
       "    </tr>\n",
       "    <tr>\n",
       "      <th>2204</th>\n",
       "      <td>2</td>\n",
       "      <td>890001</td>\n",
       "      <td>POLYGON ((-209486.852 -21944.196, -209490.728 ...</td>\n",
       "      <td>major_transit_stop</td>\n",
       "    </tr>\n",
       "    <tr>\n",
       "      <th>2205</th>\n",
       "      <td>2</td>\n",
       "      <td>890001</td>\n",
       "      <td>POLYGON ((-209486.852 -21944.196, -209490.728 ...</td>\n",
       "      <td>major_transit_stop</td>\n",
       "    </tr>\n",
       "    <tr>\n",
       "      <th>2206</th>\n",
       "      <td>2</td>\n",
       "      <td>12030042</td>\n",
       "      <td>POLYGON ((-200930.070 -22595.234, -200933.947 ...</td>\n",
       "      <td>major_transit_stop</td>\n",
       "    </tr>\n",
       "    <tr>\n",
       "      <th>2207</th>\n",
       "      <td>2</td>\n",
       "      <td>12030042</td>\n",
       "      <td>POLYGON ((-200930.070 -22595.234, -200933.947 ...</td>\n",
       "      <td>major_transit_stop</td>\n",
       "    </tr>\n",
       "  </tbody>\n",
       "</table>\n",
       "<p>2208 rows × 4 columns</p>\n",
       "</div>"
      ],
      "text/plain": [
       "      calitp_itp_id   stop_id  \\\n",
       "0                 1      0255   \n",
       "1               142      3977   \n",
       "2               243       315   \n",
       "3               243       604   \n",
       "4                 1      2029   \n",
       "...             ...       ...   \n",
       "2203              2    890002   \n",
       "2204              2    890001   \n",
       "2205              2    890001   \n",
       "2206              2  12030042   \n",
       "2207              2  12030042   \n",
       "\n",
       "                                               geometry           hqta_type  \n",
       "0     MULTIPOLYGON (((170345.013 -468746.416, 170344...     hq_transit_corr  \n",
       "1     MULTIPOLYGON (((211656.399 -486108.638, 211648...     hq_transit_corr  \n",
       "2     MULTIPOLYGON (((176140.516 -428554.874, 176087...     hq_transit_corr  \n",
       "3     POLYGON ((169813.526 -429207.132, 169810.845 -...     hq_transit_corr  \n",
       "4     POLYGON ((160196.861 -459719.052, 160180.987 -...     hq_transit_corr  \n",
       "...                                                 ...                 ...  \n",
       "2203  POLYGON ((-209416.680 -22028.923, -209420.557 ...  major_transit_stop  \n",
       "2204  POLYGON ((-209486.852 -21944.196, -209490.728 ...  major_transit_stop  \n",
       "2205  POLYGON ((-209486.852 -21944.196, -209490.728 ...  major_transit_stop  \n",
       "2206  POLYGON ((-200930.070 -22595.234, -200933.947 ...  major_transit_stop  \n",
       "2207  POLYGON ((-200930.070 -22595.234, -200933.947 ...  major_transit_stop  \n",
       "\n",
       "[2208 rows x 4 columns]"
      ]
     },
     "execution_count": 37,
     "metadata": {},
     "output_type": "execute_result"
    }
   ],
   "source": [
    "all_hqta"
   ]
  },
  {
   "cell_type": "markdown",
   "id": "e0820e3d-8972-499d-ab1f-a5e87dc93617",
   "metadata": {},
   "source": [
    "### Mapping"
   ]
  },
  {
   "cell_type": "code",
   "execution_count": 7,
   "id": "886cae78-3dd6-40e9-9c89-dfd2a0264a09",
   "metadata": {},
   "outputs": [],
   "source": [
    "def map_hqta(gdf, mouseover=None):\n",
    "    global nix_list\n",
    "    nix_list = []\n",
    "    \n",
    "    if 'calitp_extracted_at' in gdf.columns:\n",
    "        gdf = gdf.drop(columns='calitp_extracted_at')\n",
    "    gdf = gdf.to_crs('EPSG:6414') ## https://epsg.io/6414 (meters)\n",
    "    if gdf.geometry.iloc[0].geom_type == 'Point':\n",
    "        gdf.geometry = gdf.geometry.buffer(200)\n",
    "    \n",
    "    x = gdf.to_crs('EPSG:4326').geometry.iloc[0].centroid.x\n",
    "    y = gdf.to_crs('EPSG:4326').geometry.iloc[0].centroid.y\n",
    "    \n",
    "    m = Map(basemap=basemaps.CartoDB.Positron, center=[y, x], zoom=11)\n",
    "\n",
    "    if mouseover:\n",
    "        html = HTML(f'hover to see {mouseover}')\n",
    "        html.layout.margin = '0px 20px 20px 20px'\n",
    "        control = WidgetControl(widget=html, position='topright')\n",
    "        m.add_control(control)\n",
    "\n",
    "        def update_html(feature,  **kwargs):\n",
    "            html.value = '''\n",
    "                <h3><b>{}</b></h3>\n",
    "            '''.format(feature['properties'][mouseover])\n",
    "            \n",
    "        def add_to_nix(feature, **kwargs):\n",
    "            nix_list.append(feature['properties'][mouseover])\n",
    "            \n",
    "    if 'hq_transit_corr' in gdf.columns:\n",
    "        geo_data_hq = GeoData(geo_dataframe = gdf[gdf['hq_transit_corr']].to_crs('EPSG:4326'),\n",
    "                               style={'color': 'black', 'fillColor': '#08589e',\n",
    "                                            'opacity':0.4, 'weight':.5, 'dashArray':'2', 'fillOpacity':0.3},\n",
    "                               hover_style={'fillColor': 'red' , 'fillOpacity': 0.2},\n",
    "                               name = 'HQTA')\n",
    "        #a8ddb5\n",
    "        geo_data_not_hq = GeoData(geo_dataframe = gdf[~gdf['hq_transit_corr']].to_crs('EPSG:4326'),\n",
    "                               style={'color': 'black', 'fillColor': '#fec44f',\n",
    "                                            'opacity':0.2, 'weight':.5, 'dashArray':'2', 'fillOpacity':0.3},\n",
    "                               hover_style={'fillColor': 'red' , 'fillOpacity': 0.2},\n",
    "                               name = 'non-HQTA')\n",
    "\n",
    "        m.add_layer(geo_data_hq)\n",
    "        m.add_layer(geo_data_not_hq)\n",
    "    \n",
    "    else:\n",
    "    \n",
    "        geo_data_hq = GeoData(geo_dataframe = gdf.to_crs('EPSG:4326'),\n",
    "                               style={'color': 'black', 'fillColor': '#08589e',\n",
    "                                            'opacity':0.4, 'weight':.5, 'dashArray':'2', 'fillOpacity':0.3},\n",
    "                               hover_style={'fillColor': 'red' , 'fillOpacity': 0.2},\n",
    "                               name = 'gdf')\n",
    "        m.add_layer(geo_data_hq)\n",
    "    \n",
    "    if mouseover:\n",
    "        geo_data_hq.on_hover(update_html)\n",
    "        geo_data_hq.on_hover(add_to_nix)\n",
    "\n",
    "    m.add_control(LayersControl())\n",
    "\n",
    "    return m"
   ]
  },
  {
   "cell_type": "code",
   "execution_count": 39,
   "id": "a3adc41e-90f1-4117-8e49-938c4c838a8d",
   "metadata": {},
   "outputs": [
    {
     "data": {
      "application/vnd.jupyter.widget-view+json": {
       "model_id": "cd7327771e8542b5a2274308d2072508",
       "version_major": 2,
       "version_minor": 0
      },
      "text/plain": [
       "Map(center=[33.79897878118749, -118.16219937789772], controls=(ZoomControl(options=['position', 'zoom_in_text'…"
      ]
     },
     "metadata": {},
     "output_type": "display_data"
    }
   ],
   "source": [
    "map_hqta(all_hqta)"
   ]
  },
  {
   "cell_type": "code",
   "execution_count": 41,
   "id": "f614dc84-c6c1-482e-a6eb-d621ccb3af67",
   "metadata": {},
   "outputs": [
    {
     "name": "stderr",
     "output_type": "stream",
     "text": [
      "/tmp/ipykernel_72/793328695.py:1: UserWarning: this is an initial implementation of Parquet/Feather file support and associated metadata.  This is tracking version 0.1.0 of the metadata specification at https://github.com/geopandas/geo-arrow-spec\n",
      "\n",
      "This metadata specification does not yet make stability promises.  We do not yet recommend using this in a production setting unless you are able to rewrite your Parquet/Feather files.\n",
      "\n",
      "To further ignore this warning, you can do: \n",
      "import warnings; warnings.filterwarnings('ignore', message='.*initial implementation of Parquet.*')\n",
      "  all_hqta.to_parquet('./data/combined/ca_high_quality_transit.parquet')\n"
     ]
    }
   ],
   "source": [
    "all_hqta.to_parquet('./data/combined/ca_high_quality_transit.parquet')\n",
    "all_hqta.to_file('./data/combined/ca_high_quality_transit.geojson', driver='GeoJSON')"
   ]
  },
  {
   "cell_type": "markdown",
   "id": "1752dde1-2740-49a7-9c5a-ddd3064ab7ac",
   "metadata": {},
   "source": [
    "## Static Map Images (all HQTAs)\n",
    "\n",
    "![bay](img/bay_valley_all.png)\n",
    "\n",
    "![fresno](img/fres_all.png)\n",
    "\n",
    "![san_diego](img/sd_all.png)"
   ]
  }
 ],
 "metadata": {
  "kernelspec": {
   "display_name": "Python 3 (ipykernel)",
   "language": "python",
   "name": "python3"
  },
  "language_info": {
   "codemirror_mode": {
    "name": "ipython",
    "version": 3
   },
   "file_extension": ".py",
   "mimetype": "text/x-python",
   "name": "python",
   "nbconvert_exporter": "python",
   "pygments_lexer": "ipython3",
   "version": "3.9.7"
  }
 },
 "nbformat": 4,
 "nbformat_minor": 5
}
