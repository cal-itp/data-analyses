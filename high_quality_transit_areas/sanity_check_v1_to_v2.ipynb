{
 "cells": [
  {
   "cell_type": "markdown",
   "id": "c8866a2f-a17a-4caa-840c-dc0011c92115",
   "metadata": {},
   "source": [
    "# Sanity check: v1 to v2 warehouse: HQTA exports\n",
    "\n",
    "### Summary\n",
    "1. **Distribution of `hqta_types` and `hqta_details` must be similar**\n",
    "\n",
    "It looks similar, percentages aren't shifting much.\n",
    "\n",
    "2. **Columns are nearly identical**\n",
    "\n",
    "We drop 2 columns, `calitp_itp_id_primary` and `calitp_itp_id_secondary`, but don't provide another. Maybe we should add `base64_url` to be the identifier that isn't string?\n",
    "\n",
    "3. **Number of operators in final export**\n",
    "\n",
    "There are fewer operators included in v2 warehouse, and that seems to check out. Pulling all scheduled operators, there was only 187, but 140 once `trips` was downloaded. The ones that make it to the final export are ~130. "
   ]
  },
  {
   "cell_type": "code",
   "execution_count": 1,
   "id": "07403be3-26c0-451c-855c-683ccb93a524",
   "metadata": {},
   "outputs": [
    {
     "name": "stderr",
     "output_type": "stream",
     "text": [
      "/opt/conda/lib/python3.9/site-packages/geopandas/_compat.py:123: UserWarning: The Shapely GEOS version (3.10.3-CAPI-1.16.1) is incompatible with the GEOS version PyGEOS was compiled with (3.10.1-CAPI-1.16.0). Conversions between both will be slow.\n",
      "  warnings.warn(\n"
     ]
    }
   ],
   "source": [
    "import geopandas as gpd\n",
    "import pandas as pd\n",
    "\n",
    "from utilities import GCS_FILE_PATH\n",
    "from shared_utils import rt_dates\n",
    "\n",
    "dec_date = rt_dates.DATES['dec2022']\n",
    "jan_date = rt_dates.DATES['jan2023']\n",
    "\n",
    "V1 = f\"{GCS_FILE_PATH}export/{dec_date}/\"\n",
    "V2 = f\"{GCS_FILE_PATH}export/{jan_date}/\""
   ]
  },
  {
   "cell_type": "code",
   "execution_count": 2,
   "id": "6cc9765e-84ed-4aa2-aab6-ce9ce4a7feb4",
   "metadata": {},
   "outputs": [
    {
     "name": "stdout",
     "output_type": "stream",
     "text": [
      "# feeds going into hqta with complete info: 140\n"
     ]
    }
   ],
   "source": [
    "import operators_for_hqta\n",
    "\n",
    "valid_operators_dict = operators_for_hqta.feed_keys_from_json()\n",
    "\n",
    "print(f\"# feeds going into hqta with complete info: {len(valid_operators_dict)}\")"
   ]
  },
  {
   "cell_type": "markdown",
   "id": "1155c004-52dc-4ea9-ba58-d9c2c7a17629",
   "metadata": {},
   "source": [
    "## HQTA Stops"
   ]
  },
  {
   "cell_type": "code",
   "execution_count": 3,
   "id": "307b7291-1959-46dd-9481-8a19de9e708b",
   "metadata": {},
   "outputs": [],
   "source": [
    "filename = \"ca_hq_transit_stops.parquet\"\n",
    "\n",
    "dec_stops = gpd.read_parquet(f\"{V1}{filename}\")\n",
    "jan_stops = gpd.read_parquet(f\"{V2}{filename}\")"
   ]
  },
  {
   "cell_type": "code",
   "execution_count": 4,
   "id": "1fabe427-33b3-47a5-a0f2-252a8be5d0e8",
   "metadata": {},
   "outputs": [],
   "source": [
    "def compare_stats(df1, df2):\n",
    "    print(\"Columns / shapes\")\n",
    "    print(\"---------------------------*\")\n",
    "    print(f\"{df1.columns}, df1 shape: {df1.shape}\")\n",
    "    print(f\"{df2.columns}, df2 shape: {df2.shape}\")\n",
    "    print(\"\\n\")\n",
    "    \n",
    "    print(\"Column differences\")\n",
    "    v1_cols = list(df1.columns)\n",
    "    v2_cols = list(df2.columns)\n",
    "    print(f\"columns in v1 not in v2: {set(v1_cols).difference(v2_cols)}\")\n",
    "    print(f\"columns in v2 not in v1: {set(v2_cols).difference(v1_cols)}\")\n",
    "    print(\"\\n\")\n",
    "    \n",
    "    col = \"agency_name_primary\"\n",
    "    print(col)\n",
    "    print(\"---------------------------*\")\n",
    "    print(df1[col].nunique())\n",
    "    print(df2[col].nunique())\n",
    "    print(\"\\n\")\n",
    "\n",
    "    col = \"hqta_type\"\n",
    "    print(col)\n",
    "    print(\"---------------------------*\")\n",
    "    print(df1[col].value_counts(), df1[col].value_counts(normalize=True))\n",
    "    print(df2[col].value_counts(), df2[col].value_counts(normalize=True))\n",
    "    print(\"\\n\")  \n",
    "\n",
    "    col = \"hqta_details\"\n",
    "    print(col)\n",
    "    print(\"---------------------------*\")\n",
    "    print(df1[col].value_counts(), df1[col].value_counts(normalize=True))\n",
    "    print(df2[col].value_counts(), df2[col].value_counts(normalize=True))\n",
    "    print(\"\\n\")\n"
   ]
  },
  {
   "cell_type": "code",
   "execution_count": 5,
   "id": "f3bc7e2f-8e8b-4007-8781-a68cc49f1ca0",
   "metadata": {},
   "outputs": [
    {
     "name": "stdout",
     "output_type": "stream",
     "text": [
      "Columns / shapes\n",
      "---------------------------*\n",
      "Index(['calitp_itp_id_primary', 'calitp_itp_id_secondary', 'stop_id',\n",
      "       'geometry', 'hqta_type', 'route_id', 'agency_name_primary',\n",
      "       'agency_name_secondary', 'hqta_details'],\n",
      "      dtype='object'), df1 shape: (65729, 9)\n",
      "Index(['agency_name_primary', 'hqta_type', 'stop_id', 'route_id',\n",
      "       'hqta_details', 'agency_name_secondary', 'geometry'],\n",
      "      dtype='object'), df2 shape: (50099, 7)\n",
      "\n",
      "\n",
      "Column differences\n",
      "columns in v1 not in v2: {'calitp_itp_id_secondary', 'calitp_itp_id_primary'}\n",
      "columns in v2 not in v1: set()\n",
      "\n",
      "\n",
      "agency_name_primary\n",
      "---------------------------*\n",
      "163\n",
      "129\n",
      "\n",
      "\n",
      "hqta_type\n",
      "---------------------------*\n",
      "hq_corridor_bus     45128\n",
      "major_stop_bus      18988\n",
      "major_stop_rail      1385\n",
      "major_stop_brt        207\n",
      "major_stop_ferry       21\n",
      "Name: hqta_type, dtype: int64 hq_corridor_bus     0.686577\n",
      "major_stop_bus      0.288883\n",
      "major_stop_rail     0.021071\n",
      "major_stop_brt      0.003149\n",
      "major_stop_ferry    0.000319\n",
      "Name: hqta_type, dtype: float64\n",
      "hq_corridor_bus     33775\n",
      "major_stop_bus      15233\n",
      "major_stop_rail       938\n",
      "major_stop_brt        134\n",
      "major_stop_ferry       19\n",
      "Name: hqta_type, dtype: int64 hq_corridor_bus     0.674165\n",
      "major_stop_bus      0.304058\n",
      "major_stop_rail     0.018723\n",
      "major_stop_brt      0.002675\n",
      "major_stop_ferry    0.000379\n",
      "Name: hqta_type, dtype: float64\n",
      "\n",
      "\n",
      "hqta_details\n",
      "---------------------------*\n",
      "stop_along_hq_bus_corridor_single_operator       45128\n",
      "intersection_2_bus_routes_same_operator          14326\n",
      "intersection_2_bus_routes_different_operators     4662\n",
      "major_stop_rail_single_operator                   1385\n",
      "major_stop_brt_single_operator                     207\n",
      "major_stop_ferry_single_operator                    21\n",
      "Name: hqta_details, dtype: int64 stop_along_hq_bus_corridor_single_operator       0.686577\n",
      "intersection_2_bus_routes_same_operator          0.217956\n",
      "intersection_2_bus_routes_different_operators    0.070928\n",
      "major_stop_rail_single_operator                  0.021071\n",
      "major_stop_brt_single_operator                   0.003149\n",
      "major_stop_ferry_single_operator                 0.000319\n",
      "Name: hqta_details, dtype: float64\n",
      "stop_along_hq_bus_corridor_single_operator       33775\n",
      "intersection_2_bus_routes_same_operator          11050\n",
      "intersection_2_bus_routes_different_operators     4183\n",
      "major_stop_rail_single_operator                    938\n",
      "major_stop_brt_single_operator                     134\n",
      "major_stop_ferry_single_operator                    19\n",
      "Name: hqta_details, dtype: int64 stop_along_hq_bus_corridor_single_operator       0.674165\n",
      "intersection_2_bus_routes_same_operator          0.220563\n",
      "intersection_2_bus_routes_different_operators    0.083495\n",
      "major_stop_rail_single_operator                  0.018723\n",
      "major_stop_brt_single_operator                   0.002675\n",
      "major_stop_ferry_single_operator                 0.000379\n",
      "Name: hqta_details, dtype: float64\n",
      "\n",
      "\n"
     ]
    }
   ],
   "source": [
    "compare_stats(dec_stops, jan_stops)"
   ]
  },
  {
   "cell_type": "markdown",
   "id": "caa94b0c-8498-4873-88f5-caa85c4eba52",
   "metadata": {},
   "source": [
    "## HQTA Areas"
   ]
  },
  {
   "cell_type": "code",
   "execution_count": 6,
   "id": "832cdaeb-30d7-451c-b621-b2438ea729aa",
   "metadata": {},
   "outputs": [],
   "source": [
    "filename = \"ca_hq_transit_areas.parquet\"\n",
    "\n",
    "dec_areas = gpd.read_parquet(f\"{V1}{filename}\")\n",
    "jan_areas = gpd.read_parquet(f\"{V2}{filename}\")"
   ]
  },
  {
   "cell_type": "code",
   "execution_count": 7,
   "id": "0da7a073-ad00-4193-944b-055d30a6f2d2",
   "metadata": {},
   "outputs": [
    {
     "name": "stdout",
     "output_type": "stream",
     "text": [
      "Columns / shapes\n",
      "---------------------------*\n",
      "Index(['calitp_itp_id_primary', 'calitp_itp_id_secondary',\n",
      "       'agency_name_primary', 'agency_name_secondary', 'hqta_type',\n",
      "       'hqta_details', 'route_id', 'geometry'],\n",
      "      dtype='object'), df1 shape: (22818, 8)\n",
      "Index(['agency_name_primary', 'agency_name_secondary', 'hqta_type',\n",
      "       'hqta_details', 'route_id', 'geometry'],\n",
      "      dtype='object'), df2 shape: (18312, 6)\n",
      "\n",
      "\n",
      "Column differences\n",
      "columns in v1 not in v2: {'calitp_itp_id_secondary', 'calitp_itp_id_primary'}\n",
      "columns in v2 not in v1: set()\n",
      "\n",
      "\n",
      "agency_name_primary\n",
      "---------------------------*\n",
      "110\n",
      "106\n",
      "\n",
      "\n",
      "hqta_type\n",
      "---------------------------*\n",
      "major_stop_bus      18988\n",
      "hq_corridor_bus      2217\n",
      "major_stop_rail      1385\n",
      "major_stop_brt        207\n",
      "major_stop_ferry       21\n",
      "Name: hqta_type, dtype: int64 major_stop_bus      0.832150\n",
      "hq_corridor_bus     0.097160\n",
      "major_stop_rail     0.060698\n",
      "major_stop_brt      0.009072\n",
      "major_stop_ferry    0.000920\n",
      "Name: hqta_type, dtype: float64\n",
      "major_stop_bus      15226\n",
      "hq_corridor_bus      1995\n",
      "major_stop_rail       938\n",
      "major_stop_brt        134\n",
      "major_stop_ferry       19\n",
      "Name: hqta_type, dtype: int64 major_stop_bus      0.831477\n",
      "hq_corridor_bus     0.108945\n",
      "major_stop_rail     0.051223\n",
      "major_stop_brt      0.007318\n",
      "major_stop_ferry    0.001038\n",
      "Name: hqta_type, dtype: float64\n",
      "\n",
      "\n",
      "hqta_details\n",
      "---------------------------*\n",
      "intersection_2_bus_routes_same_operator          14326\n",
      "intersection_2_bus_routes_different_operators     4662\n",
      "stop_along_hq_bus_corridor_single_operator        2217\n",
      "major_stop_rail_single_operator                   1385\n",
      "major_stop_brt_single_operator                     207\n",
      "major_stop_ferry_single_operator                    21\n",
      "Name: hqta_details, dtype: int64 intersection_2_bus_routes_same_operator          0.627838\n",
      "intersection_2_bus_routes_different_operators    0.204312\n",
      "stop_along_hq_bus_corridor_single_operator       0.097160\n",
      "major_stop_rail_single_operator                  0.060698\n",
      "major_stop_brt_single_operator                   0.009072\n",
      "major_stop_ferry_single_operator                 0.000920\n",
      "Name: hqta_details, dtype: float64\n",
      "intersection_2_bus_routes_same_operator          11045\n",
      "intersection_2_bus_routes_different_operators     4181\n",
      "major_stop_rail_single_operator                    938\n",
      "major_stop_brt_single_operator                     134\n",
      "major_stop_ferry_single_operator                    19\n",
      "Name: hqta_details, dtype: int64 intersection_2_bus_routes_same_operator          0.676901\n",
      "intersection_2_bus_routes_different_operators    0.256236\n",
      "major_stop_rail_single_operator                  0.057486\n",
      "major_stop_brt_single_operator                   0.008212\n",
      "major_stop_ferry_single_operator                 0.001164\n",
      "Name: hqta_details, dtype: float64\n",
      "\n",
      "\n"
     ]
    }
   ],
   "source": [
    "compare_stats(dec_areas, jan_areas)"
   ]
  }
 ],
 "metadata": {
  "kernelspec": {
   "display_name": "Python 3 (ipykernel)",
   "language": "python",
   "name": "python3"
  },
  "language_info": {
   "codemirror_mode": {
    "name": "ipython",
    "version": 3
   },
   "file_extension": ".py",
   "mimetype": "text/x-python",
   "name": "python",
   "nbconvert_exporter": "python",
   "pygments_lexer": "ipython3",
   "version": "3.9.13"
  }
 },
 "nbformat": 4,
 "nbformat_minor": 5
}
