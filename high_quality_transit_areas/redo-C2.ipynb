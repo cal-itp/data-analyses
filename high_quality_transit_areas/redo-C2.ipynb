{
 "cells": [
  {
   "cell_type": "code",
   "execution_count": null,
   "id": "a1667929-f94a-4302-8eff-c96523667d96",
   "metadata": {},
   "outputs": [],
   "source": [
    "import dask.dataframe as dd\n",
    "import dask_geopandas as dg\n",
    "import datetime as dt\n",
    "import geopandas as gpd\n",
    "import glob\n",
    "import os\n",
    "import pandas as pd\n",
    "import sys"
   ]
  },
  {
   "cell_type": "code",
   "execution_count": null,
   "id": "a1fbf92c-5204-4a7b-aa20-c7bc70446c74",
   "metadata": {},
   "outputs": [],
   "source": [
    "DASK_GCS = \"gs://calitp-analytics-data/data-analyses/dask_test/\"\n",
    "HQTA_GCS = \"gs://calitp-analytics-data/data-analyses/high_quality_transit_areas/\"\n",
    "\n",
    "PAIRWISE_FILE = f\"{DASK_GCS}intermediate/pairwise.parquet\"\n",
    "SUBSET_CORRIDORS = f\"{DASK_GCS}intermediate/subset_corridors.parquet\""
   ]
  },
  {
   "cell_type": "code",
   "execution_count": null,
   "id": "29ffed1d-2467-49c2-8c5d-4539486dcfa9",
   "metadata": {},
   "outputs": [],
   "source": [
    "intersecting_pairs = pd.read_parquet(PAIRWISE_FILE)\n",
    "corridors = gpd.read_parquet(SUBSET_CORRIDORS)"
   ]
  },
  {
   "cell_type": "code",
   "execution_count": null,
   "id": "3d7cb4a2-4f8d-4628-ad60-acbb4f78fabd",
   "metadata": {},
   "outputs": [],
   "source": [
    "metro = corridors[(corridors.calitp_itp_id == 182) & \n",
    "                  (corridors.route_id.str.contains(\"720\"))]"
   ]
  },
  {
   "cell_type": "code",
   "execution_count": null,
   "id": "1eaae57c-043f-4ef1-b57c-2c9bceafa244",
   "metadata": {},
   "outputs": [],
   "source": [
    "test_segment = 49694670 # a segment along the 720\n",
    "this_segment = corridors[corridors.hqta_segment_id==test_segment]"
   ]
  },
  {
   "cell_type": "code",
   "execution_count": null,
   "id": "c9d41aeb-4208-46b1-8788-4f50a5b71335",
   "metadata": {},
   "outputs": [],
   "source": [
    "T = \"Carto DB Positron\"\n",
    "this_segment.explore(tiles=T)"
   ]
  },
  {
   "cell_type": "code",
   "execution_count": null,
   "id": "892b39c1-e035-4254-b5ff-712c21fb4498",
   "metadata": {},
   "outputs": [],
   "source": [
    "these_are_intersecting_segments = intersecting_pairs[\n",
    "    intersecting_pairs.hqta_segment_id==test_segment].intersect_hqta_segment_id.unique().tolist()\n",
    "\n",
    "corridors[corridors.hqta_segment_id.isin(these_are_intersecting_segments)\n",
    "         ].explore(tiles=T)\n"
   ]
  },
  {
   "cell_type": "code",
   "execution_count": null,
   "id": "baf89478-9e21-4a86-bb53-d1795fa79f6c",
   "metadata": {},
   "outputs": [],
   "source": [
    "test_intersect_segment = 1420142734\n",
    "corresponding_pair = corridors[corridors.hqta_segment_id == test_intersect_segment][\n",
    "    [\"hqta_segment_id\", \"geometry\"]]\n",
    "\n",
    "corresponding_pair.explore(tiles=T)"
   ]
  },
  {
   "cell_type": "code",
   "execution_count": null,
   "id": "14d67af3-4d2e-4cda-b7be-9032bee706d7",
   "metadata": {},
   "outputs": [],
   "source": [
    "gpd.overlay(\n",
    "    this_segment, \n",
    "    corresponding_pair, \n",
    "    how = \"intersection\", \n",
    "    keep_geom_type = False\n",
    ").explore(tiles = T)"
   ]
  },
  {
   "cell_type": "code",
   "execution_count": null,
   "id": "4b4e68d6-3ea3-49ea-9272-c79b6adefcf1",
   "metadata": {},
   "outputs": [],
   "source": [
    "gpd.clip(\n",
    "    this_segment, \n",
    "    corresponding_pair, \n",
    ").explore(tiles=T)"
   ]
  },
  {
   "cell_type": "code",
   "execution_count": null,
   "id": "4c569216-f826-469a-9225-2a1b37b9e206",
   "metadata": {},
   "outputs": [],
   "source": [
    "this_segment.geometry.iloc[0].intersection(corresponding_pair.geometry.iloc[0])"
   ]
  },
  {
   "cell_type": "markdown",
   "id": "e7b3feef-f398-47ce-a080-6e86a13f58c8",
   "metadata": {},
   "source": [
    "Now do an entire route."
   ]
  },
  {
   "cell_type": "code",
   "execution_count": null,
   "id": "704ec9e7-9771-4222-89c5-e7f3e718c04d",
   "metadata": {},
   "outputs": [],
   "source": [
    "intersect_with_720 = intersecting_pairs[\n",
    "    intersecting_pairs.hqta_segment_id.isin(metro.hqta_segment_id)].intersect_hqta_segment_id"
   ]
  },
  {
   "cell_type": "code",
   "execution_count": null,
   "id": "60b0bf47-6f13-4ade-9869-c5c0cc16793a",
   "metadata": {},
   "outputs": [],
   "source": [
    "intersect_720_geom = corridors[corridors.hqta_segment_id.isin(intersect_with_720)][\n",
    "    [\"calitp_itp_id\", \"route_id\", \"hqta_segment_id\", \"geometry\"]]"
   ]
  },
  {
   "cell_type": "code",
   "execution_count": null,
   "id": "ecd9c7cc-1927-4bdd-8b3c-9acf12580aa6",
   "metadata": {},
   "outputs": [],
   "source": [
    "metro.explore(\"hqta_segment_id\", tiles=T)"
   ]
  },
  {
   "cell_type": "code",
   "execution_count": null,
   "id": "3007bf70-4304-49b7-964e-1d6a1a732845",
   "metadata": {},
   "outputs": [],
   "source": [
    "# Looping this still takes time...even with dask_geopandas.clip, because of the compute()\n",
    "# Looking for a corresponding pair is ok..we know this already\n",
    "# But can I try something else to get\n",
    "gpd.clip(\n",
    "    metro, \n",
    "    intersect_720_geom,\n",
    ").explore(tiles=T)"
   ]
  },
  {
   "cell_type": "code",
   "execution_count": null,
   "id": "bb406d98-8302-4196-abb7-519099e3d164",
   "metadata": {},
   "outputs": [],
   "source": [
    "gpd.overlay(\n",
    "    metro, \n",
    "    intersect_720_geom,\n",
    "    how = \"intersection\"\n",
    ").explore(\"hqta_segment_id_1\", tiles=T)"
   ]
  },
  {
   "cell_type": "code",
   "execution_count": null,
   "id": "8a909d35-6a66-48e4-9457-cc62a14b03fb",
   "metadata": {},
   "outputs": [],
   "source": []
  }
 ],
 "metadata": {
  "kernelspec": {
   "display_name": "Python 3 (ipykernel)",
   "language": "python",
   "name": "python3"
  },
  "language_info": {
   "codemirror_mode": {
    "name": "ipython",
    "version": 3
   },
   "file_extension": ".py",
   "mimetype": "text/x-python",
   "name": "python",
   "nbconvert_exporter": "python",
   "pygments_lexer": "ipython3",
   "version": "3.10.6"
  }
 },
 "nbformat": 4,
 "nbformat_minor": 5
}
