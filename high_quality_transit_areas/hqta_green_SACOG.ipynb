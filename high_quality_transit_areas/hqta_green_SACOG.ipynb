{
 "cells": [
  {
   "cell_type": "markdown",
   "id": "b6c0f8a1-2c2e-4593-a936-c8cd628b05a9",
   "metadata": {},
   "source": [
    "# HQTAs and SACOG Green Means Go Zones"
   ]
  },
  {
   "cell_type": "code",
   "execution_count": null,
   "id": "363d502c-fa1f-4cc2-8d4a-f0d0e3d4c85c",
   "metadata": {},
   "outputs": [],
   "source": [
    "%%capture\n",
    "import warnings\n",
    "warnings.filterwarnings('ignore')\n",
    "\n",
    "import folium\n",
    "import intake\n",
    "import pandas as pd\n",
    "import geopandas as gpd\n",
    "\n",
    "from utilities import GCS_FILE_PATH\n",
    "from shared_utils import geography_utils \n",
    "from shared_utils import calitp_color_palette as cp\n",
    "\n",
    "catalog = intake.open_catalog(\"./*.yml\")"
   ]
  },
  {
   "cell_type": "code",
   "execution_count": null,
   "id": "99782ef1-81fa-4cee-980b-4e5d8793beea",
   "metadata": {},
   "outputs": [],
   "source": [
    "all_hqta = catalog.hqta_areas.read()"
   ]
  },
  {
   "cell_type": "code",
   "execution_count": null,
   "id": "2e72a7aa-e01d-4d1c-a641-3c3ed60bceb2",
   "metadata": {},
   "outputs": [],
   "source": [
    "all_hqta = all_hqta.dissolve('agency_name_primary').reset_index()"
   ]
  },
  {
   "cell_type": "code",
   "execution_count": null,
   "id": "b607bca3-579d-4a9e-8490-ba7f2546ba1b",
   "metadata": {},
   "outputs": [],
   "source": [
    "green_means_go = gpd.read_parquet(\n",
    "    f'{GCS_FILE_PATH}external_sources/green_means_go.parquet')"
   ]
  },
  {
   "cell_type": "code",
   "execution_count": null,
   "id": "4bb10915-f1c8-45f5-af2b-503b9120ba8f",
   "metadata": {},
   "outputs": [],
   "source": [
    "itp_blue = cp.CALITP_CATEGORY_BOLD_COLORS[0]\n",
    "itp_green = cp.CALITP_CATEGORY_BOLD_COLORS[3]"
   ]
  },
  {
   "cell_type": "code",
   "execution_count": null,
   "id": "163fc4f9-4eab-4568-8cc8-4a3f87e834c2",
   "metadata": {},
   "outputs": [],
   "source": [
    "## Better Map\n",
    "display_hqta_cols = [\n",
    "    \"agency_name_primary\", \n",
    "    \"geometry\"\n",
    "]\n",
    "\n",
    "display_green_zone_cols = [\n",
    "    \"GZName\",\n",
    "    \"geometry\"\n",
    "]\n",
    "\n",
    "# Plot multiple layers with gdf.explore()\n",
    "# https://stackoverflow.com/questions/73767559/geopandas-explore-how-to-plot-more-than-one-layer\n",
    "m = all_hqta[display_hqta_cols].explore(\n",
    "    color = itp_blue, \n",
    "    name=\"High Quality Transit Areas\", \n",
    "    legend=False, tiles = \"CartoDB Positron\",\n",
    "    style_kwds = {\"fillOpacity\": 0.5, \n",
    "                  \"fillColor\": itp_blue,\n",
    "                  \"stroke\": False}\n",
    ")\n",
    "\n",
    "m = green_means_go[display_green_zone_cols].explore(\n",
    "    m=m, color=itp_green,\n",
    "    name=\"Green Means Go Zone Name\", \n",
    "    highlight=True,\n",
    "    style_kwds={\"fillOpacity\": 0.5, \n",
    "                \"fillColor\": itp_green, \n",
    "                \"stroke\": False\n",
    "               }\n",
    ")\n",
    "\n",
    "folium.LayerControl().add_to(m)\n",
    "m"
   ]
  },
  {
   "cell_type": "code",
   "execution_count": null,
   "id": "87d9fe99-dcc2-4af1-a5c9-5789ee99fefe",
   "metadata": {},
   "outputs": [],
   "source": []
  }
 ],
 "metadata": {
  "kernelspec": {
   "display_name": "Python 3 (ipykernel)",
   "language": "python",
   "name": "python3"
  },
  "language_info": {
   "codemirror_mode": {
    "name": "ipython",
    "version": 3
   },
   "file_extension": ".py",
   "mimetype": "text/x-python",
   "name": "python",
   "nbconvert_exporter": "python",
   "pygments_lexer": "ipython3",
   "version": "3.9.13"
  }
 },
 "nbformat": 4,
 "nbformat_minor": 5
}
