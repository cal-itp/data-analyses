{
 "cells": [
  {
   "cell_type": "markdown",
   "id": "b6c0f8a1-2c2e-4593-a936-c8cd628b05a9",
   "metadata": {},
   "source": [
    "# HQTAs and SACOG Green Means Go Zones"
   ]
  },
  {
   "cell_type": "code",
   "execution_count": null,
   "id": "363d502c-fa1f-4cc2-8d4a-f0d0e3d4c85c",
   "metadata": {},
   "outputs": [],
   "source": [
    "%%capture\n",
    "import warnings\n",
    "warnings.filterwarnings('ignore')\n",
    "\n",
    "import folium\n",
    "import intake\n",
    "import pandas as pd\n",
    "import geopandas as gpd\n",
    "\n",
    "from utilities import GCS_FILE_PATH\n",
    "from shared_utils import geography_utils \n",
    "from shared_utils import calitp_color_palette as cp\n",
    "\n",
    "catalog = intake.open_catalog(\"./*.yml\")"
   ]
  },
  {
   "cell_type": "code",
   "execution_count": null,
   "id": "99782ef1-81fa-4cee-980b-4e5d8793beea",
   "metadata": {},
   "outputs": [],
   "source": [
    "all_hqta = catalog.hqta_areas.read()"
   ]
  },
  {
   "cell_type": "code",
   "execution_count": null,
   "id": "466bd290-3fe7-47db-98ff-99d08811f7f5",
   "metadata": {},
   "outputs": [],
   "source": [
    "#all_hqta >> head(3)"
   ]
  },
  {
   "cell_type": "code",
   "execution_count": null,
   "id": "2e72a7aa-e01d-4d1c-a641-3c3ed60bceb2",
   "metadata": {},
   "outputs": [],
   "source": [
    "all_hqta = all_hqta.dissolve('calitp_itp_id_primary')"
   ]
  },
  {
   "cell_type": "code",
   "execution_count": null,
   "id": "06d916ec-87fe-4245-a952-4f8957ad0a7f",
   "metadata": {},
   "outputs": [],
   "source": [
    "#m = map_hqta(all_hqta, mouseover='agency_name_primary', name='HQTA')"
   ]
  },
  {
   "cell_type": "code",
   "execution_count": null,
   "id": "b607bca3-579d-4a9e-8490-ba7f2546ba1b",
   "metadata": {},
   "outputs": [],
   "source": [
    "green_means_go = gpd.read_parquet(\n",
    "    f'{GCS_FILE_PATH}external_sources/green_means_go.parquet')"
   ]
  },
  {
   "cell_type": "code",
   "execution_count": null,
   "id": "f06a8cdf-9c09-408c-a1e7-59a8aba77c50",
   "metadata": {},
   "outputs": [],
   "source": [
    "#green_means_go >> head(3)"
   ]
  },
  {
   "cell_type": "code",
   "execution_count": null,
   "id": "4bb10915-f1c8-45f5-af2b-503b9120ba8f",
   "metadata": {},
   "outputs": [],
   "source": [
    "itp_blue = cp.CALITP_CATEGORY_BOLD_COLORS[0]\n",
    "itp_green = cp.CALITP_CATEGORY_BOLD_COLORS[3]"
   ]
  },
  {
   "cell_type": "code",
   "execution_count": null,
   "id": "01aa5179-d6bf-4f32-93e7-d3903e5dfeec",
   "metadata": {},
   "outputs": [],
   "source": [
    "#geo_data_green = GeoData(geo_dataframe = green_means_go.to_crs('EPSG:4326'),\n",
    "#                       style={'color': 'green', 'fillColor': itp_green,\n",
    "#                       'opacity':0.2, 'weight':.5, \n",
    "#                       'dashArray':'2', 'fillOpacity':0.3},\n",
    "#                       hover_style={'fillColor': 'red' , 'fillOpacity': 0.2},\n",
    "#                       name = 'Green Means Go Zones')\n",
    "\n",
    "#m.add_layer(geo_data_green)\n",
    "#m\n"
   ]
  },
  {
   "cell_type": "code",
   "execution_count": null,
   "id": "9348161d-9372-4e28-a1a3-4ae6399d6d33",
   "metadata": {},
   "outputs": [],
   "source": [
    "## Better Map"
   ]
  },
  {
   "cell_type": "code",
   "execution_count": null,
   "id": "d8d3f164-c0c6-4694-ba07-eaa9c5ef7e3d",
   "metadata": {},
   "outputs": [],
   "source": [
    "#popup_dict = {\"agency_name_primary\": 'Agency Name'}\n",
    "#popup_dict_green = {\"GZName\": \"Green Means Go Zone Name\"}"
   ]
  },
  {
   "cell_type": "code",
   "execution_count": null,
   "id": "163fc4f9-4eab-4568-8cc8-4a3f87e834c2",
   "metadata": {},
   "outputs": [],
   "source": [
    "display_hqta_cols = [\n",
    "    \"agency_name_primary\", \n",
    "    \"geometry\"\n",
    "]\n",
    "\n",
    "display_green_zone_cols = [\n",
    "    \"GZName\",\n",
    "    \"geometry\"\n",
    "]\n",
    "\n",
    "# Plot multiple layers with gdf.explore()\n",
    "# https://stackoverflow.com/questions/73767559/geopandas-explore-how-to-plot-more-than-one-layer\n",
    "m = all_hqta[display_hqta_cols].explore(\n",
    "    color = itp_blue, \n",
    "    name=\"High Quality Transit Areas\", \n",
    "    legend=False, tiles = \"CartoDB Positron\",\n",
    "    style_kwds = {\"fillOpacity\": 0.5, \"fillColor\": itp_blue,\n",
    "                  \"stroke\": False\n",
    "                }\n",
    ")\n",
    "\n",
    "m = green_means_go[display_green_zone_cols].explore(\n",
    "    m=m, color=itp_green,\n",
    "    name=\"Green Means Go Zone Name\", \n",
    "    highlight=True,\n",
    "    style_kwds={\"fillOpacity\": 0.5, \"fillColor\": itp_green, \n",
    "                \"stroke\": False\n",
    "               }\n",
    ")\n",
    "\n",
    "folium.LayerControl().add_to(m)\n",
    "m"
   ]
  },
  {
   "cell_type": "code",
   "execution_count": null,
   "id": "34377294-eac6-4c46-bc7a-495d37cdb102",
   "metadata": {},
   "outputs": [],
   "source": [
    "'''\n",
    "LAYERS_DICT = {\n",
    "    \"HQTA\": {\"df\": all_hqta,\n",
    "        \"plot_col\": \"agency_name_primary\",\n",
    "        \"popup_dict\": popup_dict, \n",
    "        \"tooltip_dict\": popup_dict,\n",
    "        \"colorscale\": lambda x: itp_blue,\n",
    "        'style_function': lambda x: {'fillOpacity': .5, 'fillColor': itp_blue, 'stroke': False}\n",
    "    },\n",
    "    \"Green Means Go\": {\"df\": green_means_go,\n",
    "        \"plot_col\": \"GZName\",\n",
    "        \"popup_dict\": popup_dict_green, \n",
    "        \"tooltip_dict\": popup_dict_green,\n",
    "        \"colorscale\": lambda x: itp_green,\n",
    "        'style_function': lambda x: {'fillOpacity': .5, 'fillColor': itp_green, 'stroke': False}\n",
    "    },\n",
    "}\n",
    "'''"
   ]
  },
  {
   "cell_type": "code",
   "execution_count": null,
   "id": "f55bfc37-406f-4d6f-bdad-41eebf4acb4c",
   "metadata": {},
   "outputs": [],
   "source": [
    "#shared_utils.map_utils.make_geojson_layer(LAYERS_DICT['Green Means Go'], 'test')"
   ]
  },
  {
   "cell_type": "code",
   "execution_count": null,
   "id": "ca78ecf7-91e6-4ee2-84dc-ed0b30040089",
   "metadata": {},
   "outputs": [],
   "source": [
    "#fig = shared_utils.map_utils.make_folium_multiple_layers_map(\n",
    "#    LAYERS_DICT,\n",
    "#    fig_width = 800, fig_height = 800, \n",
    "#    zoom=9, \n",
    "#    centroid = [36.5, -120], \n",
    "#    title=f\"HQTAs and Green Means Go Zones\",\n",
    "#    legend_dict=None\n",
    "#)\n",
    "\n",
    "#fig\n",
    "#fig.save('hqta_green.html')"
   ]
  },
  {
   "cell_type": "code",
   "execution_count": null,
   "id": "87d9fe99-dcc2-4af1-a5c9-5789ee99fefe",
   "metadata": {},
   "outputs": [],
   "source": []
  }
 ],
 "metadata": {
  "kernelspec": {
   "display_name": "Python 3 (ipykernel)",
   "language": "python",
   "name": "python3"
  },
  "language_info": {
   "codemirror_mode": {
    "name": "ipython",
    "version": 3
   },
   "file_extension": ".py",
   "mimetype": "text/x-python",
   "name": "python",
   "nbconvert_exporter": "python",
   "pygments_lexer": "ipython3",
   "version": "3.9.13"
  }
 },
 "nbformat": 4,
 "nbformat_minor": 5
}
