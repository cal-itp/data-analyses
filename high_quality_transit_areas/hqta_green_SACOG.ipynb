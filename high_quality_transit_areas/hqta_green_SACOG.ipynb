{
 "cells": [
  {
   "cell_type": "code",
   "execution_count": 1,
   "id": "363d502c-fa1f-4cc2-8d4a-f0d0e3d4c85c",
   "metadata": {},
   "outputs": [
    {
     "name": "stderr",
     "output_type": "stream",
     "text": [
      "/opt/conda/lib/python3.9/site-packages/geopandas/_compat.py:111: UserWarning: The Shapely GEOS version (3.10.2-CAPI-1.16.0) is incompatible with the GEOS version PyGEOS was compiled with (3.10.1-CAPI-1.16.0). Conversions between both will be slow.\n",
      "  warnings.warn(\n"
     ]
    }
   ],
   "source": [
    "import calitp\n",
    "from calitp.tables import tbl\n",
    "from siuba import *\n",
    "\n",
    "import pandas as pd\n",
    "import numpy as np\n",
    "import geopandas as gpd\n",
    "import fiona\n",
    "import shapely\n",
    "\n",
    "from ipyleaflet import Map, GeoJSON, projections, basemaps, GeoData, LayersControl, WidgetControl, GeoJSON\n",
    "from ipywidgets import Text, HTML\n",
    "\n",
    "from utilities import *\n",
    "import shared_utils"
   ]
  },
  {
   "cell_type": "code",
   "execution_count": 2,
   "id": "2b171af0-ed62-49ed-8b54-7513dc272a0a",
   "metadata": {},
   "outputs": [],
   "source": [
    "analysis_date = dt.date(2022, 5, 4) ## Wed, May 4"
   ]
  },
  {
   "cell_type": "code",
   "execution_count": 3,
   "id": "99782ef1-81fa-4cee-980b-4e5d8793beea",
   "metadata": {},
   "outputs": [],
   "source": [
    "all_hqta = gpd.read_parquet(f'{GCS_FILE_PATH}export/{analysis_date.isoformat()}/ca_hq_transit_areas.parquet')"
   ]
  },
  {
   "cell_type": "code",
   "execution_count": 4,
   "id": "466bd290-3fe7-47db-98ff-99d08811f7f5",
   "metadata": {},
   "outputs": [
    {
     "data": {
      "text/html": [
       "<div>\n",
       "<style scoped>\n",
       "    .dataframe tbody tr th:only-of-type {\n",
       "        vertical-align: middle;\n",
       "    }\n",
       "\n",
       "    .dataframe tbody tr th {\n",
       "        vertical-align: top;\n",
       "    }\n",
       "\n",
       "    .dataframe thead th {\n",
       "        text-align: right;\n",
       "    }\n",
       "</style>\n",
       "<table border=\"1\" class=\"dataframe\">\n",
       "  <thead>\n",
       "    <tr style=\"text-align: right;\">\n",
       "      <th></th>\n",
       "      <th>calitp_itp_id_primary</th>\n",
       "      <th>agency_name_primary</th>\n",
       "      <th>hqta_type</th>\n",
       "      <th>calitp_itp_id_secondary</th>\n",
       "      <th>agency_name_secondary</th>\n",
       "      <th>geometry</th>\n",
       "    </tr>\n",
       "  </thead>\n",
       "  <tbody>\n",
       "    <tr>\n",
       "      <th>0</th>\n",
       "      <td>284</td>\n",
       "      <td>San Joaquin Regional Transit District</td>\n",
       "      <td>major_stop_bus</td>\n",
       "      <td>284</td>\n",
       "      <td>San Joaquin Regional Transit District</td>\n",
       "      <td>POLYGON ((-110954.624 -5674.094, -110958.500 -...</td>\n",
       "    </tr>\n",
       "    <tr>\n",
       "      <th>1</th>\n",
       "      <td>284</td>\n",
       "      <td>San Joaquin Regional Transit District</td>\n",
       "      <td>major_stop_bus</td>\n",
       "      <td>284</td>\n",
       "      <td>San Joaquin Regional Transit District</td>\n",
       "      <td>POLYGON ((-111070.873 -5698.324, -111074.750 -...</td>\n",
       "    </tr>\n",
       "    <tr>\n",
       "      <th>2</th>\n",
       "      <td>284</td>\n",
       "      <td>San Joaquin Regional Transit District</td>\n",
       "      <td>major_stop_bus</td>\n",
       "      <td>284</td>\n",
       "      <td>San Joaquin Regional Transit District</td>\n",
       "      <td>POLYGON ((-111070.746 -5703.829, -111074.622 -...</td>\n",
       "    </tr>\n",
       "  </tbody>\n",
       "</table>\n",
       "</div>"
      ],
      "text/plain": [
       "   calitp_itp_id_primary                    agency_name_primary  \\\n",
       "0                    284  San Joaquin Regional Transit District   \n",
       "1                    284  San Joaquin Regional Transit District   \n",
       "2                    284  San Joaquin Regional Transit District   \n",
       "\n",
       "        hqta_type calitp_itp_id_secondary  \\\n",
       "0  major_stop_bus                     284   \n",
       "1  major_stop_bus                     284   \n",
       "2  major_stop_bus                     284   \n",
       "\n",
       "                   agency_name_secondary  \\\n",
       "0  San Joaquin Regional Transit District   \n",
       "1  San Joaquin Regional Transit District   \n",
       "2  San Joaquin Regional Transit District   \n",
       "\n",
       "                                            geometry  \n",
       "0  POLYGON ((-110954.624 -5674.094, -110958.500 -...  \n",
       "1  POLYGON ((-111070.873 -5698.324, -111074.750 -...  \n",
       "2  POLYGON ((-111070.746 -5703.829, -111074.622 -...  "
      ]
     },
     "execution_count": 4,
     "metadata": {},
     "output_type": "execute_result"
    }
   ],
   "source": [
    "all_hqta >> head(3)"
   ]
  },
  {
   "cell_type": "code",
   "execution_count": 5,
   "id": "06d916ec-87fe-4245-a952-4f8957ad0a7f",
   "metadata": {},
   "outputs": [],
   "source": [
    "m = map_hqta(all_hqta, mouseover='agency_name_primary', name='HQTA')"
   ]
  },
  {
   "cell_type": "code",
   "execution_count": 6,
   "id": "b607bca3-579d-4a9e-8490-ba7f2546ba1b",
   "metadata": {},
   "outputs": [],
   "source": [
    "green_means_go = gpd.read_parquet(f'{GCS_FILE_PATH}external_sources/green_means_go.parquet')"
   ]
  },
  {
   "cell_type": "code",
   "execution_count": 7,
   "id": "f06a8cdf-9c09-408c-a1e7-59a8aba77c50",
   "metadata": {},
   "outputs": [
    {
     "data": {
      "text/html": [
       "<div>\n",
       "<style scoped>\n",
       "    .dataframe tbody tr th:only-of-type {\n",
       "        vertical-align: middle;\n",
       "    }\n",
       "\n",
       "    .dataframe tbody tr th {\n",
       "        vertical-align: top;\n",
       "    }\n",
       "\n",
       "    .dataframe thead th {\n",
       "        text-align: right;\n",
       "    }\n",
       "</style>\n",
       "<table border=\"1\" class=\"dataframe\">\n",
       "  <thead>\n",
       "    <tr style=\"text-align: right;\">\n",
       "      <th></th>\n",
       "      <th>FID</th>\n",
       "      <th>Id</th>\n",
       "      <th>GZID</th>\n",
       "      <th>Juris</th>\n",
       "      <th>GZName</th>\n",
       "      <th>Status</th>\n",
       "      <th>Shape__Area</th>\n",
       "      <th>Shape__Length</th>\n",
       "      <th>geometry</th>\n",
       "    </tr>\n",
       "  </thead>\n",
       "  <tbody>\n",
       "    <tr>\n",
       "      <th>0</th>\n",
       "      <td>1</td>\n",
       "      <td>0</td>\n",
       "      <td>GZ06</td>\n",
       "      <td>City of Davis</td>\n",
       "      <td>Downtown Davis</td>\n",
       "      <td>Adopted</td>\n",
       "      <td>6.920288e+06</td>\n",
       "      <td>15464.497947</td>\n",
       "      <td>POLYGON ((-121.74042 38.55170, -121.74027 38.5...</td>\n",
       "    </tr>\n",
       "    <tr>\n",
       "      <th>1</th>\n",
       "      <td>2</td>\n",
       "      <td>0</td>\n",
       "      <td>GZ07</td>\n",
       "      <td>City of Davis</td>\n",
       "      <td>2nd/5th Street Corridor</td>\n",
       "      <td>Adopted</td>\n",
       "      <td>1.643444e+07</td>\n",
       "      <td>31257.596190</td>\n",
       "      <td>POLYGON ((-121.73535 38.54955, -121.73545 38.5...</td>\n",
       "    </tr>\n",
       "    <tr>\n",
       "      <th>2</th>\n",
       "      <td>3</td>\n",
       "      <td>0</td>\n",
       "      <td>GZ08</td>\n",
       "      <td>City of Davis</td>\n",
       "      <td>University Research Park</td>\n",
       "      <td>Adopted</td>\n",
       "      <td>4.420622e+06</td>\n",
       "      <td>11439.485450</td>\n",
       "      <td>POLYGON ((-121.73709 38.53871, -121.73556 38.5...</td>\n",
       "    </tr>\n",
       "  </tbody>\n",
       "</table>\n",
       "</div>"
      ],
      "text/plain": [
       "   FID  Id  GZID          Juris                    GZName   Status  \\\n",
       "0    1   0  GZ06  City of Davis            Downtown Davis  Adopted   \n",
       "1    2   0  GZ07  City of Davis   2nd/5th Street Corridor  Adopted   \n",
       "2    3   0  GZ08  City of Davis  University Research Park  Adopted   \n",
       "\n",
       "    Shape__Area  Shape__Length  \\\n",
       "0  6.920288e+06   15464.497947   \n",
       "1  1.643444e+07   31257.596190   \n",
       "2  4.420622e+06   11439.485450   \n",
       "\n",
       "                                            geometry  \n",
       "0  POLYGON ((-121.74042 38.55170, -121.74027 38.5...  \n",
       "1  POLYGON ((-121.73535 38.54955, -121.73545 38.5...  \n",
       "2  POLYGON ((-121.73709 38.53871, -121.73556 38.5...  "
      ]
     },
     "execution_count": 7,
     "metadata": {},
     "output_type": "execute_result"
    }
   ],
   "source": [
    "green_means_go >> head(3)"
   ]
  },
  {
   "cell_type": "code",
   "execution_count": 8,
   "id": "4bb10915-f1c8-45f5-af2b-503b9120ba8f",
   "metadata": {},
   "outputs": [],
   "source": [
    "itp_green = shared_utils.calitp_color_palette.CALITP_CATEGORY_BOLD_COLORS[3]"
   ]
  },
  {
   "cell_type": "code",
   "execution_count": 9,
   "id": "01aa5179-d6bf-4f32-93e7-d3903e5dfeec",
   "metadata": {},
   "outputs": [],
   "source": [
    "geo_data_green = GeoData(geo_dataframe = green_means_go.to_crs('EPSG:4326'),\n",
    "                       style={'color': 'green', 'fillColor': itp_green,\n",
    "                                    'opacity':0.2, 'weight':.5, 'dashArray':'2', 'fillOpacity':0.3},\n",
    "                       hover_style={'fillColor': 'red' , 'fillOpacity': 0.2},\n",
    "                       name = 'Green Means Go Zones')"
   ]
  },
  {
   "cell_type": "code",
   "execution_count": 10,
   "id": "ad9c01f0-4060-4dc6-bb72-4833383a9448",
   "metadata": {},
   "outputs": [],
   "source": [
    "m.add_layer(geo_data_green)"
   ]
  },
  {
   "cell_type": "markdown",
   "id": "64851121-e089-476a-b0bf-9b7128714ba7",
   "metadata": {},
   "source": [
    "### A quick map of HQTAs and SACOG Green Means Go Zones:\n",
    "\n",
    "* Use the layer control under the zoom buttons to toggle each layer\n",
    "* Mouse over an HQTA to show the transit agency"
   ]
  },
  {
   "cell_type": "code",
   "execution_count": 11,
   "id": "ec2b175f-a2d5-4450-aa14-1771b5769880",
   "metadata": {},
   "outputs": [
    {
     "data": {
      "application/vnd.jupyter.widget-view+json": {
       "model_id": "6c577ebb155f40e98d908099ac87e28d",
       "version_major": 2,
       "version_minor": 0
      },
      "text/plain": [
       "Map(center=[37.958571087249425, -121.27370200000001], controls=(ZoomControl(options=['position', 'zoom_in_text…"
      ]
     },
     "metadata": {},
     "output_type": "display_data"
    }
   ],
   "source": [
    "m"
   ]
  },
  {
   "cell_type": "code",
   "execution_count": null,
   "id": "fa99d7f5-dcbe-4d35-a7e2-ce5290470a3e",
   "metadata": {},
   "outputs": [],
   "source": []
  }
 ],
 "metadata": {
  "kernelspec": {
   "display_name": "Python 3 (ipykernel)",
   "language": "python",
   "name": "python3"
  },
  "language_info": {
   "codemirror_mode": {
    "name": "ipython",
    "version": 3
   },
   "file_extension": ".py",
   "mimetype": "text/x-python",
   "name": "python",
   "nbconvert_exporter": "python",
   "pygments_lexer": "ipython3",
   "version": "3.9.12"
  }
 },
 "nbformat": 4,
 "nbformat_minor": 5
}
