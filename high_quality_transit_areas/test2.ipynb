{
 "cells": [
  {
   "cell_type": "markdown",
   "id": "91650562-357e-465f-9912-09e8a2e574aa",
   "metadata": {},
   "source": [
    "# Refactor bus corridors"
   ]
  },
  {
   "cell_type": "code",
   "execution_count": 1,
   "id": "2d229973-9381-4177-9a23-7e07b9d041d6",
   "metadata": {},
   "outputs": [
    {
     "name": "stderr",
     "output_type": "stream",
     "text": [
      "/opt/conda/lib/python3.10/site-packages/geopandas/_compat.py:111: UserWarning: The Shapely GEOS version (3.10.2-CAPI-1.16.0) is incompatible with the GEOS version PyGEOS was compiled with (3.10.1-CAPI-1.16.0). Conversions between both will be slow.\n",
      "  warnings.warn(\n"
     ]
    }
   ],
   "source": [
    "import datetime as dt\n",
    "import geopandas as gpd\n",
    "import numpy as np\n",
    "import pandas as pd\n",
    "\n",
    "from siuba import *\n",
    "\n",
    "import B1_bus_corridors as bus_corridors\n",
    "from A1_rail_ferry_brt import analysis_date\n",
    "from utilities import GCS_FILE_PATH\n",
    "from shared_utils import rt_utils\n",
    "\n",
    "import dask.dataframe as dd\n",
    "import dask_geopandas\n",
    "\n",
    "\n",
    "itp_id = 182\n",
    "date_str = analysis_date.strftime(rt_utils.FULL_DATE_FMT)"
   ]
  },
  {
   "cell_type": "code",
   "execution_count": 2,
   "id": "7f924152-711f-4967-96dd-c413a051045b",
   "metadata": {},
   "outputs": [
    {
     "data": {
      "text/plain": [
       "'\\ngdf = bus_corridors.single_operator_hqta(routelines, trips, stop_times, stops)\\ngdf.to_parquet(\"./data/182_bus2.parquet\")\\n'"
      ]
     },
     "execution_count": 2,
     "metadata": {},
     "output_type": "execute_result"
    }
   ],
   "source": [
    "\n",
    "FILE_PATH = f\"{rt_utils.GCS_FILE_PATH}cached_views/\"\n",
    "        \n",
    "routelines = dask_geopandas.read_parquet(f\"{FILE_PATH}routelines_{itp_id}_{date_str}.parquet\")\n",
    "trips = dd.read_parquet(f\"{FILE_PATH}trips_{itp_id}_{date_str}.parquet\")\n",
    "stop_times = dd.read_parquet(f\"{FILE_PATH}st_{itp_id}_{date_str}.parquet\")\n",
    "stops = dask_geopandas.read_parquet(f\"{FILE_PATH}stops_{itp_id}_{date_str}.parquet\")\n",
    "'''\n",
    "gdf = bus_corridors.single_operator_hqta(routelines, trips, stop_times, stops)\n",
    "gdf.to_parquet(\"./data/182_bus2.parquet\")\n",
    "'''"
   ]
  },
  {
   "cell_type": "code",
   "execution_count": 3,
   "id": "c67b811d-39c3-4bbb-9fee-50d15d98562b",
   "metadata": {},
   "outputs": [],
   "source": [
    "routelines_ddf = routelines.assign(\n",
    "    route_length = routelines.geometry.length\n",
    ")\n",
    "\n",
    "# Merge routes to trips with using trip_id\n",
    "# Keep route_id and shape_id, but drop trip_id by the end\n",
    "shape_id_cols = [\"calitp_itp_id\", \"calitp_url_number\", \"shape_id\"]\n",
    "\n",
    "m1 = (dd.merge(\n",
    "        routelines_ddf,\n",
    "        trips[shape_id_cols + [\"trip_id\", \"route_id\"]],\n",
    "        on = shape_id_cols,\n",
    "        how = \"left\",\n",
    "    ).drop_duplicates(subset=shape_id_cols)\n",
    "    .drop(columns = [\"trip_id\"])\n",
    "    .reset_index(drop=True)\n",
    ")"
   ]
  },
  {
   "cell_type": "code",
   "execution_count": 4,
   "id": "8f35a294-43e1-4ada-a1cf-c68e87787bb3",
   "metadata": {},
   "outputs": [],
   "source": [
    "longest_shape = (m1.sort_values([\"route_id\", \"route_length\"],\n",
    "                     ascending=[True, False])\n",
    "      .reset_index(drop=True)\n",
    "      .drop_duplicates(subset=\"route_id\")\n",
    "      .reset_index(drop=True)\n",
    "     ).compute()"
   ]
  },
  {
   "cell_type": "code",
   "execution_count": 5,
   "id": "1c9b9d7a-e028-49eb-8bd0-1402ecbdb732",
   "metadata": {},
   "outputs": [],
   "source": [
    "# Keeping the longest route_length\n",
    "# misses some of the corner ends, where a bus loops around for layover"
   ]
  },
  {
   "cell_type": "code",
   "execution_count": 6,
   "id": "2e1a8e19-bb74-42e9-a4c4-f6d6243dedcc",
   "metadata": {},
   "outputs": [],
   "source": [
    "# Not the longest routes\n",
    "# These are ones to overlay against m2\n",
    "route_cols = [\"calitp_itp_id\", \"calitp_url_number\", \"route_id\"]\n",
    "\n",
    "other_shapes = (m1[~m1.shape_id.isin(longest_shape.shape_id)]\n",
    "      .sort_values(route_cols + [\"route_length\"], \n",
    "                      ascending=[True, True, True, False])\n",
    "      .reset_index(drop=True)\n",
    "     ).compute()\n"
   ]
  },
  {
   "cell_type": "code",
   "execution_count": 7,
   "id": "0bbe9099-0d18-4a5d-9675-06990d81159d",
   "metadata": {},
   "outputs": [],
   "source": [
    "def overlay_longest_shape_with_other_shapes(longest_shape, other_shapes):\n",
    "    overlay_diff = gpd.overlay(\n",
    "        other_shapes,\n",
    "        longest_shape[[\"shape_id\", \"geometry\"]],\n",
    "        how = \"difference\",\n",
    "        # False keeps all geometries\n",
    "        keep_geom_type=False\n",
    "    )\n",
    "\n",
    "    # Once you overlay the other shapes against the longest route\n",
    "    # calculate the overlay length\n",
    "    # Go from longest length and add that shape_id to the longest route\n",
    "    # The longest overlay length will help us add more of the physical route network\n",
    "    # that is missing so far\n",
    "    overlay_diff = (overlay_diff[overlay_diff.route_id.notna()]\n",
    "                    .assign(\n",
    "                        overlay_length = overlay_diff.geometry.length\n",
    "                    )\n",
    "                   )\n",
    "    \n",
    "    overlay_diff = overlay_diff.assign(\n",
    "        num = overlay_diff.sort_values(route_cols + [\"overlay_length\"], \n",
    "                                       ascending=[True, True, True, False])\n",
    "        .groupby(route_cols).cumcount() + 1\n",
    "    ).sort_values(route_cols + [\"num\"]).reset_index(drop=True)\n",
    "    \n",
    "    return overlay_diff"
   ]
  },
  {
   "cell_type": "code",
   "execution_count": 8,
   "id": "abf257dd-d9e7-4913-a699-c5aa1f4a9500",
   "metadata": {},
   "outputs": [],
   "source": [
    "overlay_diff = overlay_longest_shape_with_other_shapes(longest_shape, other_shapes)"
   ]
  },
  {
   "cell_type": "code",
   "execution_count": 9,
   "id": "8c33b310-5623-4370-92fe-d6807ee88cad",
   "metadata": {},
   "outputs": [],
   "source": [
    "def select_overlay_segment(longest_shape, overlay_diff, segment_index):\n",
    "    other_shape_selected = overlay_diff[overlay_diff.num==segment_index]\n",
    "    \n",
    "    # Get overlay, which compare all other segments for that route_id\n",
    "    # against the longest route_length shape\n",
    "    # and removes that longest shape \n",
    "    longest_shape_with_overlay = gpd.overlay(\n",
    "        other_shape_selected,\n",
    "        longest_shape, \n",
    "        how = \"difference\", \n",
    "        keep_geom_type = True,                                    \n",
    "     )\n",
    "    \n",
    "    portion_to_add = longest_shape_with_overlay[\n",
    "        ~longest_shape_with_overlay.shape_id.isin(longest_shape.shape_id)]\n",
    "    \n",
    "    return portion_to_add"
   ]
  },
  {
   "cell_type": "code",
   "execution_count": 10,
   "id": "f3c6f42e-fc10-46ff-b4b0-26251798ab3e",
   "metadata": {},
   "outputs": [],
   "source": [
    "def overlay_selected_segment_to_dissolved_route_shape(expanded_shape, segment_to_add):\n",
    "    dissolved = (expanded_shape[route_cols + [\"geometry\"]]\n",
    "                 .dissolve(by=route_cols)\n",
    "                 .reset_index()\n",
    "                )\n",
    "    \n",
    "    portion_intersect_dissolved = segment_to_add.overlay(\n",
    "        dissolved[[\"geometry\"]], \n",
    "        how = \"intersection\", \n",
    "        keep_geom_type = True)\n",
    "    \n",
    "    # when len==0, that means there's no intersection between dissolved shape\n",
    "    # and the segment in question\n",
    "    # this means the segment in question is adding a unique piece to the route network\n",
    "    if len(portion_intersect_dissolved) == 0:\n",
    "        # To grab only the actual difference, only allow shape_ids in the segment_to_add to return\n",
    "        expanded_shape_with_new_portion = pd.concat(\n",
    "            [expanded_shape, \n",
    "             segment_to_add[route_cols + [\"shape_id\", \"geometry\"]]], \n",
    "            axis=0)\n",
    "\n",
    "        return expanded_shape_with_new_portion\n",
    "    \n",
    "    # if there is an intersection, then let's get an overlay again \n",
    "    # from the segment in question, remove the part that overlaps\n",
    "    # with the dissolved shape and add that\n",
    "    elif len(portion_intersect_dissolved) > 0:\n",
    "        portion_minus_dissolved = segment_to_add.overlay(\n",
    "            dissolved[[\"geometry\"]],\n",
    "            how = \"difference\"\n",
    "        )\n",
    "        \n",
    "        if len(portion_minus_dissolved) > 0:\n",
    "            expanded_shape_with_new_portion = pd.concat(\n",
    "                [expanded_shape,\n",
    "                 portion_minus_dissolved[route_cols + [\"shape_id\", \"geometry\"]]],\n",
    "                axis=0\n",
    "            )\n",
    "        \n",
    "            return expanded_shape_with_new_portion\n",
    "        else:\n",
    "            return expanded_shape"
   ]
  },
  {
   "cell_type": "code",
   "execution_count": 11,
   "id": "2516e2fa-2650-4f64-8c8e-bea5486817ec",
   "metadata": {},
   "outputs": [],
   "source": [
    "num_shapes_to_test = overlay_diff.num.max()\n",
    "\n",
    "for i in range(1, num_shapes_to_test + 1):\n",
    "    overlay_segment_subset = select_overlay_segment(longest_shape, overlay_diff, i)\n",
    "    \n",
    "    if i == 1:\n",
    "        expanded_shape = overlay_selected_segment_to_dissolved_route_shape(\n",
    "            longest_shape, overlay_segment_subset)\n",
    "    else:\n",
    "        expanded_shape = overlay_selected_segment_to_dissolved_route_shape(\n",
    "            expanded_shape, overlay_segment_subset)"
   ]
  },
  {
   "cell_type": "code",
   "execution_count": 12,
   "id": "8216f653-a27a-4bba-9c13-ad652990df06",
   "metadata": {},
   "outputs": [
    {
     "data": {
      "text/plain": [
       "450"
      ]
     },
     "execution_count": 12,
     "metadata": {},
     "output_type": "execute_result"
    }
   ],
   "source": [
    "expanded_shape = (expanded_shape.assign(\n",
    "                    length = expanded_shape.geometry.length\n",
    "                ).sort_values(route_cols + [\"route_length\", \"length\"], \n",
    "                              ascending=[True, True, True, True, False])\n",
    "                .reset_index(drop=True)\n",
    "                )\n",
    "\n",
    "len(expanded_shape)"
   ]
  },
  {
   "cell_type": "code",
   "execution_count": 13,
   "id": "6857fc9e-701f-4cab-aed1-f787c8e2f0a1",
   "metadata": {},
   "outputs": [],
   "source": [
    "test_route = [\"10-13159\", \"720-13159\"]\n",
    "#expanded_shape[expanded_shape.route_id.isin(test_route)]"
   ]
  },
  {
   "cell_type": "code",
   "execution_count": 14,
   "id": "5190017f-3ce3-4d21-aaef-20c8bd834097",
   "metadata": {},
   "outputs": [],
   "source": [
    "one_route = expanded_shape[expanded_shape.route_id == test_route[0]]"
   ]
  },
  {
   "cell_type": "code",
   "execution_count": 15,
   "id": "88241137-5f7d-415f-bc5a-7bff45bb7c8a",
   "metadata": {},
   "outputs": [],
   "source": [
    "long = one_route[one_route.shape_id==\"100777_FEB22\"]\n",
    "one = one_route[one_route.shape_id==\"100757_FEB22\"]\n",
    "# these should overlap with diss\n",
    "should_overlap1 = one_route[one_route.shape_id==\"100759_FEB22\"]\n",
    "should_overlap2 = one_route[one_route.shape_id==\"100755_FEB22\"] "
   ]
  },
  {
   "cell_type": "code",
   "execution_count": 16,
   "id": "a0d1cef4-8ba6-41f6-893f-977240168062",
   "metadata": {},
   "outputs": [
    {
     "data": {
      "text/html": [
       "<div>\n",
       "<style scoped>\n",
       "    .dataframe tbody tr th:only-of-type {\n",
       "        vertical-align: middle;\n",
       "    }\n",
       "\n",
       "    .dataframe tbody tr th {\n",
       "        vertical-align: top;\n",
       "    }\n",
       "\n",
       "    .dataframe thead th {\n",
       "        text-align: right;\n",
       "    }\n",
       "</style>\n",
       "<table border=\"1\" class=\"dataframe\">\n",
       "  <thead>\n",
       "    <tr style=\"text-align: right;\">\n",
       "      <th></th>\n",
       "      <th>calitp_itp_id</th>\n",
       "      <th>calitp_url_number</th>\n",
       "      <th>route_id</th>\n",
       "      <th>geometry</th>\n",
       "    </tr>\n",
       "  </thead>\n",
       "  <tbody>\n",
       "    <tr>\n",
       "      <th>0</th>\n",
       "      <td>182</td>\n",
       "      <td>0</td>\n",
       "      <td>10-13159</td>\n",
       "      <td>MULTILINESTRING ((161606.064 -438989.690, 1616...</td>\n",
       "    </tr>\n",
       "  </tbody>\n",
       "</table>\n",
       "</div>"
      ],
      "text/plain": [
       "   calitp_itp_id  calitp_url_number  route_id  \\\n",
       "0            182                  0  10-13159   \n",
       "\n",
       "                                            geometry  \n",
       "0  MULTILINESTRING ((161606.064 -438989.690, 1616...  "
      ]
     },
     "execution_count": 16,
     "metadata": {},
     "output_type": "execute_result"
    }
   ],
   "source": [
    "diss_test = pd.concat([should_overlap1, one], axis=0)[route_cols + [\"geometry\"]]\n",
    "diss_test = diss_test.dissolve(by=route_cols).reset_index()\n",
    "diss_test"
   ]
  },
  {
   "cell_type": "code",
   "execution_count": 17,
   "id": "1653cd30-c5be-4aff-9f77-33998b2a4f30",
   "metadata": {},
   "outputs": [
    {
     "data": {
      "text/html": [
       "<div>\n",
       "<style scoped>\n",
       "    .dataframe tbody tr th:only-of-type {\n",
       "        vertical-align: middle;\n",
       "    }\n",
       "\n",
       "    .dataframe tbody tr th {\n",
       "        vertical-align: top;\n",
       "    }\n",
       "\n",
       "    .dataframe thead th {\n",
       "        text-align: right;\n",
       "    }\n",
       "</style>\n",
       "<table border=\"1\" class=\"dataframe\">\n",
       "  <thead>\n",
       "    <tr style=\"text-align: right;\">\n",
       "      <th></th>\n",
       "      <th>calitp_itp_id</th>\n",
       "      <th>calitp_url_number</th>\n",
       "      <th>shape_id</th>\n",
       "      <th>geometry</th>\n",
       "      <th>route_length</th>\n",
       "      <th>route_id</th>\n",
       "      <th>length</th>\n",
       "    </tr>\n",
       "  </thead>\n",
       "  <tbody>\n",
       "  </tbody>\n",
       "</table>\n",
       "</div>"
      ],
      "text/plain": [
       "Empty GeoDataFrame\n",
       "Columns: [calitp_itp_id, calitp_url_number, shape_id, geometry, route_length, route_id, length]\n",
       "Index: []"
      ]
     },
     "execution_count": 17,
     "metadata": {},
     "output_type": "execute_result"
    }
   ],
   "source": [
    "should_overlap2.overlay(diss_test, how = \"difference\")"
   ]
  },
  {
   "cell_type": "code",
   "execution_count": 18,
   "id": "e245fdf1-208b-44bc-8d4c-ea76cb6a62e1",
   "metadata": {},
   "outputs": [
    {
     "data": {
      "text/plain": [
       "<AxesSubplot:>"
      ]
     },
     "execution_count": 18,
     "metadata": {},
     "output_type": "execute_result"
    },
    {
     "data": {
      "image/png": "[encoded data removed]",
      "text/plain": [
       "<Figure size 1440x1440 with 1 Axes>"
      ]
     },
     "metadata": {
      "needs_background": "light"
     },
     "output_type": "display_data"
    }
   ],
   "source": [
    "pd.concat([should_overlap2, should_overlap1], \n",
    "          axis=0).plot(column=\"shape_id\", \n",
    "                       cmap=\"cividis\",\n",
    "                       figsize=(20, 20))"
   ]
  },
  {
   "cell_type": "code",
   "execution_count": null,
   "id": "b4d65db0-c8df-4c16-9490-0f0514b12776",
   "metadata": {},
   "outputs": [],
   "source": [
    "# calitp-analytics-data/data-analyses/high_quality_transit_areas/bus_corridors/182_bus.parquet\n",
    "eric = gpd.read_parquet(f\"{GCS_FILE_PATH}bus_corridors/182_bus.parquet\")"
   ]
  },
  {
   "cell_type": "code",
   "execution_count": null,
   "id": "a927f45f-f7c2-4e6a-9b11-f5697b4b7172",
   "metadata": {},
   "outputs": [],
   "source": [
    "tiff = gpd.read_parquet(f\"./data/182_bus2.parquet\")"
   ]
  },
  {
   "cell_type": "code",
   "execution_count": null,
   "id": "8a29aa60-6e58-410c-8cc1-2a24cd336bdd",
   "metadata": {},
   "outputs": [],
   "source": [
    "def stats(df):\n",
    "    print(df.columns)\n",
    "    print(df.dtypes)\n",
    "    print(f\"# obs: {len(df)}\")\n",
    "    print(f\"# unique stops: {df.stop_id.nunique()}\")\n",
    "    print(f\"sum am_max stops: {df.am_max_trips.sum()}\")\n",
    "    print(f\"sum pm_max stops: {df.am_max_trips.sum()}\")\n",
    "    print(f\"# unique hqta_segment_id: {df.hqta_segment_id.nunique()}\")\n",
    "\n",
    "    \n",
    "def compare(eric, tiff):\n",
    "    print(\"***********Eric************\")\n",
    "    stats(eric)\n",
    "    print(\"***********Tiff************\")\n",
    "    stats(tiff)"
   ]
  },
  {
   "cell_type": "code",
   "execution_count": null,
   "id": "474532e1-8e64-4519-9850-6456edaa3ccb",
   "metadata": {},
   "outputs": [],
   "source": [
    "compare(eric, tiff)"
   ]
  },
  {
   "cell_type": "code",
   "execution_count": null,
   "id": "dcd342d6-cac4-4635-bcb0-8206fe60600b",
   "metadata": {},
   "outputs": [],
   "source": [
    "explore_shapes = [\n",
    "    \"700292_FEB22\",\n",
    "    #\"400916_FEB22\",\n",
    "]\n",
    "\n",
    "explore_stops = [\n",
    "    #\"6535\",\n",
    "    #\"5383\"\n",
    "]\n",
    "\n",
    "explore_stops = tiff[tiff.shape_id.str.startswith(\"720\")].stop_id.unique().tolist()"
   ]
  },
  {
   "cell_type": "code",
   "execution_count": null,
   "id": "66867fe9-0ce8-4870-bdce-e65d8f0ff54e",
   "metadata": {},
   "outputs": [],
   "source": [
    "tiff[tiff.shape_id.str.startswith(\"720\")].plot()"
   ]
  },
  {
   "cell_type": "code",
   "execution_count": null,
   "id": "ccffc5ba-3e4d-4b61-9940-532ddfe4136a",
   "metadata": {},
   "outputs": [],
   "source": [
    "eric[eric.shape_id.str.startswith(\"720\")].plot()"
   ]
  },
  {
   "cell_type": "code",
   "execution_count": null,
   "id": "40e15d21-79a2-45e3-b23b-2b831826d60f",
   "metadata": {},
   "outputs": [],
   "source": [
    "tiff[tiff.stop_id.isin(explore_stops)].plot()"
   ]
  },
  {
   "cell_type": "code",
   "execution_count": null,
   "id": "ae13ef08-47bc-4756-8353-fb03ab2b54a0",
   "metadata": {},
   "outputs": [],
   "source": [
    "eric[eric.stop_id.isin(explore_stops)].plot()"
   ]
  },
  {
   "cell_type": "code",
   "execution_count": null,
   "id": "6ea9b98d-cf4a-4d2a-ab6a-e097d80b741a",
   "metadata": {},
   "outputs": [],
   "source": [
    "eric[eric.stop_id.isin(explore_stops)].plot(column=\"segment_sequence\")"
   ]
  },
  {
   "cell_type": "code",
   "execution_count": null,
   "id": "3c2cd3e9-9fd1-49db-8dc2-9eb2e0d29516",
   "metadata": {},
   "outputs": [],
   "source": [
    "tiff[tiff.stop_id.isin(explore_stops)]"
   ]
  },
  {
   "cell_type": "code",
   "execution_count": null,
   "id": "e807c672-ee71-4495-ba7d-fcd470ad0ea7",
   "metadata": {},
   "outputs": [],
   "source": [
    "tiff[tiff.stop_id==\"6535\"]"
   ]
  },
  {
   "cell_type": "code",
   "execution_count": null,
   "id": "6eb9769a-3106-4bf8-a88c-456f27e0ae8c",
   "metadata": {},
   "outputs": [],
   "source": [
    "tiff[tiff.stop_id.isin(explore_stops)].plot(column=\"segment_sequence\")"
   ]
  },
  {
   "cell_type": "code",
   "execution_count": null,
   "id": "be7ad482-f4c8-4335-bda8-37c5cb0ce86c",
   "metadata": {},
   "outputs": [],
   "source": [
    "m1 = pd.merge(\n",
    "    eric,\n",
    "    tiff,\n",
    "    on = [\"calitp_itp_id\", \"calitp_url_number\", \"shape_id\", \n",
    "          \"hqta_segment_id\", \"segment_sequence\", \"stop_id\"],\n",
    "    how = \"outer\",\n",
    "    #validate=\"m:m\",\n",
    "    indicator=True\n",
    ")"
   ]
  },
  {
   "cell_type": "code",
   "execution_count": null,
   "id": "a0f1f803-1cbc-489e-8aa7-d777d98e0589",
   "metadata": {},
   "outputs": [],
   "source": [
    "m1._merge.value_counts()"
   ]
  },
  {
   "cell_type": "markdown",
   "id": "98978777-dce2-491f-991c-070a3e9418ce",
   "metadata": {},
   "source": [
    "### Find trips that are just AM / PM peak"
   ]
  },
  {
   "cell_type": "code",
   "execution_count": null,
   "id": "59b0a4fa-20c5-4d5f-94cc-c7de137dbdbf",
   "metadata": {},
   "outputs": [],
   "source": [
    "# Remove trips that only run during AM/PM peak, because those don't qualify as HQTA\n",
    "def invalid_trips_only_peak_hours(df):\n",
    "    trip_cols = [\"calitp_itp_id\", \"trip_id\"]\n",
    "    \n",
    "    df = df.assign(\n",
    "        is_am_peak = df.time_of_day.map(lambda x: 1 if x==\"AM Peak\" \n",
    "                                          else 0),\n",
    "        is_pm_peak = df.time_of_day.map(lambda x: 1 if x==\"PM Peak\"\n",
    "                                          else 0),\n",
    "        is_other = df.time_of_day.map(lambda x: 1 if ((x != \"AM Peak\") and \n",
    "                                                        (x != \"PM Peak\"))\n",
    "                                        else 0),\n",
    "    )\n",
    "    \n",
    "    df2 = (df.groupby(trip_cols)\n",
    "           .agg({\"is_am_peak\": np.max, \n",
    "                 \"is_pm_peak\": np.max,\n",
    "                 \"is_other\": np.max,})\n",
    "           .reset_index()\n",
    "          )\n",
    "    \n",
    "    # Drop trips that only run AM/PM\n",
    "    only_peak = df2[(df2.is_am_peak==1) & \n",
    "              (df2.is_pm_peak==1) & \n",
    "              (df2.is_other==0)].trip_id.compute()\n",
    "        \n",
    "    # Return list of trip_ids that are invalid\n",
    "    return list(only_peak.unique())"
   ]
  },
  {
   "cell_type": "code",
   "execution_count": null,
   "id": "396496be-8a65-432f-b1da-ee199f0562f8",
   "metadata": {},
   "outputs": [],
   "source": [
    "invalid_trips = invalid_trips_only_peak_hours(trip_stops_by_hour)"
   ]
  },
  {
   "cell_type": "code",
   "execution_count": null,
   "id": "2d419219-9256-4f00-9863-96448a160ae7",
   "metadata": {},
   "outputs": [],
   "source": []
  },
  {
   "cell_type": "code",
   "execution_count": null,
   "id": "41691421-82d5-4227-8dcf-a3e15a327c1c",
   "metadata": {},
   "outputs": [],
   "source": []
  }
 ],
 "metadata": {
  "kernelspec": {
   "display_name": "Python 3 (ipykernel)",
   "language": "python",
   "name": "python3"
  },
  "language_info": {
   "codemirror_mode": {
    "name": "ipython",
    "version": 3
   },
   "file_extension": ".py",
   "mimetype": "text/x-python",
   "name": "python",
   "nbconvert_exporter": "python",
   "pygments_lexer": "ipython3",
   "version": "3.10.4"
  }
 },
 "nbformat": 4,
 "nbformat_minor": 5
}
