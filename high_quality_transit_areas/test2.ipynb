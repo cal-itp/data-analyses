{
 "cells": [
  {
   "cell_type": "markdown",
   "id": "91650562-357e-465f-9912-09e8a2e574aa",
   "metadata": {},
   "source": [
    "# Refactor bus corridors"
   ]
  },
  {
   "cell_type": "code",
   "execution_count": 1,
   "id": "2d229973-9381-4177-9a23-7e07b9d041d6",
   "metadata": {},
   "outputs": [
    {
     "name": "stderr",
     "output_type": "stream",
     "text": [
      "/opt/conda/lib/python3.10/site-packages/geopandas/_compat.py:111: UserWarning: The Shapely GEOS version (3.10.2-CAPI-1.16.0) is incompatible with the GEOS version PyGEOS was compiled with (3.10.1-CAPI-1.16.0). Conversions between both will be slow.\n",
      "  warnings.warn(\n"
     ]
    }
   ],
   "source": [
    "import datetime as dt\n",
    "import geopandas as gpd\n",
    "import numpy as np\n",
    "import pandas as pd\n",
    "\n",
    "from siuba import *\n",
    "\n",
    "import utilities\n",
    "import A1_rail_ferry_brt as rail_ferry_brt\n",
    "import B1_bus_corridors as bus_corridors\n",
    "\n",
    "from shared_utils import rt_utils\n",
    "\n",
    "GCS_FILE_PATH = utilities.GCS_FILE_PATH\n",
    "\n",
    "analysis_date = rail_ferry_brt.analysis_date\n",
    "\n",
    "import dask.dataframe as dd\n",
    "import dask_geopandas\n",
    "\n",
    "\n",
    "itp_id = 182\n",
    "date_str = analysis_date.strftime(rt_utils.FULL_DATE_FMT)"
   ]
  },
  {
   "cell_type": "code",
   "execution_count": 2,
   "id": "7f924152-711f-4967-96dd-c413a051045b",
   "metadata": {},
   "outputs": [
    {
     "data": {
      "text/plain": [
       "'\\nFILE_PATH = f\"{rt_utils.GCS_FILE_PATH}cached_views/\"\\n        \\nroutelines = dask_geopandas.read_parquet(f\"{FILE_PATH}routelines_{itp_id}_{date_str}.parquet\")\\ntrips = dd.read_parquet(f\"{FILE_PATH}trips_{itp_id}_{date_str}.parquet\")\\nstop_times = dd.read_parquet(f\"{FILE_PATH}st_{itp_id}_{date_str}.parquet\")\\nstops = dask_geopandas.read_parquet(f\"{FILE_PATH}stops_{itp_id}_{date_str}.parquet\")\\n\\ngdf = bus_corridors.single_operator_hqta(routelines, trips, stop_times, stops)\\ngdf.to_parquet(\"./data/182_bus2.parquet\")\\n'"
      ]
     },
     "execution_count": 2,
     "metadata": {},
     "output_type": "execute_result"
    }
   ],
   "source": [
    "'''\n",
    "FILE_PATH = f\"{rt_utils.GCS_FILE_PATH}cached_views/\"\n",
    "        \n",
    "routelines = dask_geopandas.read_parquet(f\"{FILE_PATH}routelines_{itp_id}_{date_str}.parquet\")\n",
    "trips = dd.read_parquet(f\"{FILE_PATH}trips_{itp_id}_{date_str}.parquet\")\n",
    "stop_times = dd.read_parquet(f\"{FILE_PATH}st_{itp_id}_{date_str}.parquet\")\n",
    "stops = dask_geopandas.read_parquet(f\"{FILE_PATH}stops_{itp_id}_{date_str}.parquet\")\n",
    "\n",
    "gdf = bus_corridors.single_operator_hqta(routelines, trips, stop_times, stops)\n",
    "gdf.to_parquet(\"./data/182_bus2.parquet\")\n",
    "'''"
   ]
  },
  {
   "cell_type": "code",
   "execution_count": 3,
   "id": "b4d65db0-c8df-4c16-9490-0f0514b12776",
   "metadata": {},
   "outputs": [],
   "source": [
    "# calitp-analytics-data/data-analyses/high_quality_transit_areas/bus_corridors/182_bus.parquet\n",
    "eric = gpd.read_parquet(f\"{GCS_FILE_PATH}bus_corridors/182_bus.parquet\")"
   ]
  },
  {
   "cell_type": "code",
   "execution_count": 4,
   "id": "a927f45f-f7c2-4e6a-9b11-f5697b4b7172",
   "metadata": {},
   "outputs": [],
   "source": [
    "tiff = gpd.read_parquet(f\"./data/182_bus2.parquet\")"
   ]
  },
  {
   "cell_type": "code",
   "execution_count": 5,
   "id": "8a29aa60-6e58-410c-8cc1-2a24cd336bdd",
   "metadata": {},
   "outputs": [],
   "source": [
    "def stats(df):\n",
    "    print(df.columns)\n",
    "    print(df.dtypes)\n",
    "    print(f\"# obs: {len(df)}\")\n",
    "    print(f\"# unique stops: {df.stop_id.nunique()}\")\n",
    "    print(f\"sum am_max stops: {df.am_max_trips.sum()}\")\n",
    "    print(f\"sum pm_max stops: {df.am_max_trips.sum()}\")\n",
    "    print(f\"# unique hqta_segment_id: {df.hqta_segment_id.nunique()}\")\n",
    "\n",
    "    \n",
    "def compare(eric, tiff):\n",
    "    print(\"***********Eric************\")\n",
    "    stats(eric)\n",
    "    print(\"***********Tiff************\")\n",
    "    stats(tiff)"
   ]
  },
  {
   "cell_type": "code",
   "execution_count": 6,
   "id": "474532e1-8e64-4519-9850-6456edaa3ccb",
   "metadata": {},
   "outputs": [
    {
     "name": "stdout",
     "output_type": "stream",
     "text": [
      "***********Eric************\n",
      "Index(['calitp_itp_id', 'calitp_url_number', 'shape_id', 'geometry',\n",
      "       'segment_sequence', 'hqta_segment_id', 'stop_id', 'am_max_trips',\n",
      "       'pm_max_trips', 'hq_transit_corr', 'departure_hour', 'n'],\n",
      "      dtype='object')\n",
      "calitp_itp_id           int64\n",
      "calitp_url_number       int64\n",
      "shape_id               object\n",
      "geometry             geometry\n",
      "segment_sequence       object\n",
      "hqta_segment_id         int64\n",
      "stop_id                object\n",
      "am_max_trips          float64\n",
      "pm_max_trips          float64\n",
      "hq_transit_corr          bool\n",
      "departure_hour        float64\n",
      "n                     float64\n",
      "dtype: object\n",
      "# obs: 2503\n",
      "# unique stops: 2233\n",
      "sum am_max stops: 15682.0\n",
      "sum pm_max stops: 15682.0\n",
      "# unique hqta_segment_id: 2503\n",
      "***********Tiff************\n",
      "Index(['calitp_itp_id', 'calitp_url_number', 'stop_id', 'hqta_segment_id',\n",
      "       'segment_sequence', 'shape_id', 'geometry', 'am_max_trips',\n",
      "       'pm_max_trips', 'hq_transit_corr'],\n",
      "      dtype='object')\n",
      "calitp_itp_id           int64\n",
      "calitp_url_number       int64\n",
      "stop_id                object\n",
      "hqta_segment_id         int64\n",
      "segment_sequence       object\n",
      "shape_id               object\n",
      "geometry             geometry\n",
      "am_max_trips            int64\n",
      "pm_max_trips            int64\n",
      "hq_transit_corr          bool\n",
      "dtype: object\n",
      "# obs: 21764\n",
      "# unique stops: 12114\n",
      "sum am_max stops: 120224\n",
      "sum pm_max stops: 120224\n",
      "# unique hqta_segment_id: 2630\n"
     ]
    }
   ],
   "source": [
    "compare(eric, tiff)"
   ]
  },
  {
   "cell_type": "code",
   "execution_count": 7,
   "id": "dcd342d6-cac4-4635-bcb0-8206fe60600b",
   "metadata": {},
   "outputs": [],
   "source": [
    "explore_shapes = [\n",
    "    \"700292_FEB22\",\n",
    "    #\"400916_FEB22\",\n",
    "]\n",
    "\n",
    "explore_stops = [\n",
    "    \"6535\",\n",
    "    \"5383\"\n",
    "]"
   ]
  },
  {
   "cell_type": "code",
   "execution_count": null,
   "id": "93193dae-4863-4b78-b5ff-9fadb572638a",
   "metadata": {},
   "outputs": [],
   "source": [
    "explore_stops = tiff[tiff.shape_id.str.startswith(\"720\")].stop_id.unique().tolist()"
   ]
  },
  {
   "cell_type": "code",
   "execution_count": null,
   "id": "66867fe9-0ce8-4870-bdce-e65d8f0ff54e",
   "metadata": {},
   "outputs": [],
   "source": [
    "tiff[tiff.shape_id.str.startswith(\"720\")].plot()"
   ]
  },
  {
   "cell_type": "code",
   "execution_count": null,
   "id": "ccffc5ba-3e4d-4b61-9940-532ddfe4136a",
   "metadata": {},
   "outputs": [],
   "source": [
    "eric[eric.shape_id.str.startswith(\"720\")].plot()"
   ]
  },
  {
   "cell_type": "code",
   "execution_count": null,
   "id": "40e15d21-79a2-45e3-b23b-2b831826d60f",
   "metadata": {},
   "outputs": [],
   "source": [
    "tiff[tiff.stop_id.isin(explore_stops)].plot()"
   ]
  },
  {
   "cell_type": "code",
   "execution_count": null,
   "id": "ae13ef08-47bc-4756-8353-fb03ab2b54a0",
   "metadata": {},
   "outputs": [],
   "source": [
    "eric[eric.stop_id.isin(explore_stops)].plot()"
   ]
  },
  {
   "cell_type": "code",
   "execution_count": null,
   "id": "6ea9b98d-cf4a-4d2a-ab6a-e097d80b741a",
   "metadata": {},
   "outputs": [],
   "source": [
    "eric[eric.stop_id.isin(explore_stops)].plot(column=\"segment_sequence\")"
   ]
  },
  {
   "cell_type": "code",
   "execution_count": null,
   "id": "3c2cd3e9-9fd1-49db-8dc2-9eb2e0d29516",
   "metadata": {},
   "outputs": [],
   "source": [
    "tiff[tiff.stop_id.isin(explore_stops)]"
   ]
  },
  {
   "cell_type": "code",
   "execution_count": null,
   "id": "e807c672-ee71-4495-ba7d-fcd470ad0ea7",
   "metadata": {},
   "outputs": [],
   "source": [
    "tiff[tiff.stop_id==\"6535\"]"
   ]
  },
  {
   "cell_type": "code",
   "execution_count": null,
   "id": "6eb9769a-3106-4bf8-a88c-456f27e0ae8c",
   "metadata": {},
   "outputs": [],
   "source": [
    "tiff[tiff.stop_id.isin(explore_stops)].plot(column=\"segment_sequence\")"
   ]
  },
  {
   "cell_type": "code",
   "execution_count": null,
   "id": "be7ad482-f4c8-4335-bda8-37c5cb0ce86c",
   "metadata": {},
   "outputs": [],
   "source": [
    "m1 = pd.merge(\n",
    "    eric,\n",
    "    tiff,\n",
    "    on = [\"calitp_itp_id\", \"calitp_url_number\", \"shape_id\", \n",
    "          \"hqta_segment_id\", \"segment_sequence\", \"stop_id\"],\n",
    "    how = \"outer\",\n",
    "    #validate=\"m:m\",\n",
    "    indicator=True\n",
    ")"
   ]
  },
  {
   "cell_type": "markdown",
   "id": "98978777-dce2-491f-991c-070a3e9418ce",
   "metadata": {},
   "source": [
    "### Find trips that are just AM / PM peak"
   ]
  },
  {
   "cell_type": "code",
   "execution_count": null,
   "id": "9b8bacaf-11d9-4b8a-a9ef-7b197aa5515e",
   "metadata": {},
   "outputs": [],
   "source": [
    "import dask_utils\n",
    "\n",
    "FILE_PATH = f\"{rt_utils.GCS_FILE_PATH}cached_views/\"\n",
    "\n",
    "trips = dd.read_parquet(f\"{FILE_PATH}trips_{itp_id}_{date_str}.parquet\")\n",
    "stop_times = dd.read_parquet(f\"{FILE_PATH}st_{itp_id}_{date_str}.parquet\")"
   ]
  },
  {
   "cell_type": "code",
   "execution_count": null,
   "id": "cfd19653-c4c2-4858-a972-20d8fd1e1aa9",
   "metadata": {},
   "outputs": [],
   "source": [
    "stop_times2 = dask_utils.fix_departure_time(stop_times)"
   ]
  },
  {
   "cell_type": "code",
   "execution_count": null,
   "id": "7603d563-4328-44d0-9db3-2310428f17ef",
   "metadata": {},
   "outputs": [],
   "source": [
    "stop_cols = [\"calitp_itp_id\", \"stop_id\"]\n",
    "\n",
    "trip_stops_by_hour = (stop_times2.groupby([\"trip_id\"] + stop_cols + [\"departure_hour\"])\n",
    "    .agg({\"trip_key\": \"count\"})\n",
    " .reset_index()\n",
    " .rename(columns = {\"trip_key\": \"n_trips\"})\n",
    ")"
   ]
  },
  {
   "cell_type": "code",
   "execution_count": null,
   "id": "8c8b73d1-4e03-4c9a-b64c-809a853acd1b",
   "metadata": {},
   "outputs": [],
   "source": [
    "trip_stops_by_hour[\"time_of_day\"] = trip_stops_by_hour.apply(lambda x:\n",
    "        rt_utils.categorize_time_of_day(x.departure_hour), axis=1, \n",
    "                                           meta = (\"time_of_day\", \"str\")\n",
    "                                          )"
   ]
  },
  {
   "cell_type": "code",
   "execution_count": null,
   "id": "32929469-0c48-4b0f-9803-454d84f937d8",
   "metadata": {},
   "outputs": [],
   "source": [
    "trip_stops_by_hour.time_of_day.compute().value_counts()"
   ]
  },
  {
   "cell_type": "code",
   "execution_count": null,
   "id": "59b0a4fa-20c5-4d5f-94cc-c7de137dbdbf",
   "metadata": {},
   "outputs": [],
   "source": [
    "# Remove trips that only run during AM/PM peak, because those don't qualify as HQTA\n",
    "def invalid_trips_only_peak_hours(df):\n",
    "    trip_cols = [\"calitp_itp_id\", \"trip_id\"]\n",
    "    \n",
    "    df = df.assign(\n",
    "        is_am_peak = df.time_of_day.map(lambda x: 1 if x==\"AM Peak\" \n",
    "                                          else 0),\n",
    "        is_pm_peak = df.time_of_day.map(lambda x: 1 if x==\"PM Peak\"\n",
    "                                          else 0),\n",
    "        is_other = df.time_of_day.map(lambda x: 1 if ((x != \"AM Peak\") and \n",
    "                                                        (x != \"PM Peak\"))\n",
    "                                        else 0),\n",
    "    )\n",
    "    \n",
    "    df2 = (df.groupby(trip_cols)\n",
    "           .agg({\"is_am_peak\": np.max, \n",
    "                 \"is_pm_peak\": np.max,\n",
    "                 \"is_other\": np.max,})\n",
    "           .reset_index()\n",
    "          )\n",
    "    \n",
    "    # Drop trips that only run AM/PM\n",
    "    only_peak = df2[(df2.is_am_peak==1) & \n",
    "              (df2.is_pm_peak==1) & \n",
    "              (df2.is_other==0)].trip_id.compute()\n",
    "        \n",
    "    # Return list of trip_ids that are invalid\n",
    "    return list(only_peak.unique())"
   ]
  },
  {
   "cell_type": "code",
   "execution_count": null,
   "id": "396496be-8a65-432f-b1da-ee199f0562f8",
   "metadata": {},
   "outputs": [],
   "source": [
    "invalid_trips = invalid_trips_only_peak_hours(trip_stops_by_hour)"
   ]
  },
  {
   "cell_type": "code",
   "execution_count": null,
   "id": "c0531d76-45d4-4e8d-ba74-af37c7b22922",
   "metadata": {},
   "outputs": [],
   "source": [
    "# Aggregate how many trips are made at that stop by departure hour\n",
    "trips_per_hour = (stop_times2.groupby(stop_cols + [\"departure_hour\"])\n",
    "                  .agg({'trip_id': 'count'})\n",
    "                  .reset_index()\n",
    "                  .rename(columns = {\"trip_id\": \"n_trips\"})\n",
    "                 )        "
   ]
  },
  {
   "cell_type": "code",
   "execution_count": null,
   "id": "2d419219-9256-4f00-9863-96448a160ae7",
   "metadata": {},
   "outputs": [],
   "source": []
  },
  {
   "cell_type": "code",
   "execution_count": null,
   "id": "6bb1cc07-533f-4fcc-83dc-c5bfe9143921",
   "metadata": {},
   "outputs": [],
   "source": [
    "trips_per_hour.compute()"
   ]
  },
  {
   "cell_type": "code",
   "execution_count": null,
   "id": "41691421-82d5-4227-8dcf-a3e15a327c1c",
   "metadata": {},
   "outputs": [],
   "source": []
  }
 ],
 "metadata": {
  "kernelspec": {
   "display_name": "Python 3 (ipykernel)",
   "language": "python",
   "name": "python3"
  },
  "language_info": {
   "codemirror_mode": {
    "name": "ipython",
    "version": 3
   },
   "file_extension": ".py",
   "mimetype": "text/x-python",
   "name": "python",
   "nbconvert_exporter": "python",
   "pygments_lexer": "ipython3",
   "version": "3.10.4"
  }
 },
 "nbformat": 4,
 "nbformat_minor": 5
}
