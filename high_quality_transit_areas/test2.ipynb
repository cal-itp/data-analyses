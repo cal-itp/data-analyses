{
 "cells": [
  {
   "cell_type": "markdown",
   "id": "91650562-357e-465f-9912-09e8a2e574aa",
   "metadata": {},
   "source": [
    "# Refactor bus corridors"
   ]
  },
  {
   "cell_type": "code",
   "execution_count": 1,
   "id": "2d229973-9381-4177-9a23-7e07b9d041d6",
   "metadata": {},
   "outputs": [
    {
     "name": "stderr",
     "output_type": "stream",
     "text": [
      "/opt/conda/lib/python3.10/site-packages/geopandas/_compat.py:111: UserWarning: The Shapely GEOS version (3.10.2-CAPI-1.16.0) is incompatible with the GEOS version PyGEOS was compiled with (3.10.1-CAPI-1.16.0). Conversions between both will be slow.\n",
      "  warnings.warn(\n"
     ]
    }
   ],
   "source": [
    "import datetime as dt\n",
    "import geopandas as gpd\n",
    "import pandas as pd\n",
    "\n",
    "from siuba import *\n",
    "\n",
    "import utilities\n",
    "import A1_rail_ferry_brt as rail_ferry_brt\n",
    "\n",
    "from shared_utils import rt_utils\n",
    "\n",
    "GCS_FILE_PATH = utilities.GCS_FILE_PATH\n",
    "\n",
    "analysis_date = rail_ferry_brt.analysis_date\n",
    "analysis_date\n",
    "\n",
    "import dask.dataframe as dd\n",
    "import dask_geopandas\n",
    "\n",
    "import numpy as np\n",
    "\n",
    "import dask_utils\n",
    "\n",
    "itp_id = 182\n",
    "date_str = analysis_date.strftime(rt_utils.FULL_DATE_FMT)"
   ]
  },
  {
   "cell_type": "code",
   "execution_count": null,
   "id": "b4d65db0-c8df-4c16-9490-0f0514b12776",
   "metadata": {},
   "outputs": [],
   "source": [
    "# calitp-analytics-data/data-analyses/high_quality_transit_areas/bus_corridors/182_bus.parquet\n",
    "bus_corridor = gpd.read_parquet(f\"{GCS_FILE_PATH}bus_corridors/182_bus.parquet\")"
   ]
  },
  {
   "cell_type": "code",
   "execution_count": null,
   "id": "6527720a-d514-474a-9127-e6c3c7192e92",
   "metadata": {},
   "outputs": [],
   "source": [
    "#bus_corridor2 = gpd.read_parquet(\"./data/182_bus2.parquet\")"
   ]
  },
  {
   "cell_type": "code",
   "execution_count": null,
   "id": "7f924152-711f-4967-96dd-c413a051045b",
   "metadata": {},
   "outputs": [],
   "source": [
    "routelines = gpd.read_parquet(f\"./data/routelines_{itp_id}_{date_str}.parquet\")\n",
    "#trips = pd.read_parquet(f\"./data/trips_{itp_id}_{date_str}.parquet\")\n",
    "#stop_times = pd.read_parquet(f\"./data/st_{itp_id}_{date_str}.parquet\")\n",
    "#stops = gpd.read_parquet(f\"./data/stops_{itp_id}_{date_str}.parquet\")"
   ]
  },
  {
   "cell_type": "code",
   "execution_count": 2,
   "id": "b8aa99f2-3cf7-4850-a4a1-08b5984e25a5",
   "metadata": {},
   "outputs": [],
   "source": [
    "route_shapes = dask_utils.merge_routes_to_trips(itp_id, analysis_date)"
   ]
  },
  {
   "cell_type": "code",
   "execution_count": 3,
   "id": "13f31897-79c1-4c63-af63-def49b1c21c1",
   "metadata": {},
   "outputs": [
    {
     "name": "stdout",
     "output_type": "stream",
     "text": [
      "Execution time: 0:00:21.153301\n"
     ]
    }
   ],
   "source": [
    "start_time = dt.datetime.now()\n",
    "\n",
    "all_routes = gpd.GeoDataFrame()\n",
    "for i in route_shapes.index:\n",
    "    one_route = route_shapes[route_shapes.index==i]\n",
    "    gdf = dask_utils.segment_route(one_route)\n",
    "    \n",
    "    all_routes = pd.concat([all_routes, gdf])\n",
    "    \n",
    "end_time = dt.datetime.now()\n",
    "print(f\"Execution time: {end_time - start_time}\")"
   ]
  },
  {
   "cell_type": "code",
   "execution_count": 4,
   "id": "c8c1214a-f6f7-4e6a-9212-78cdf80ea41e",
   "metadata": {},
   "outputs": [
    {
     "name": "stdout",
     "output_type": "stream",
     "text": [
      "Execution time: 0:00:00.559691\n"
     ]
    }
   ],
   "source": [
    "start_time = dt.datetime.now()\n",
    "\n",
    "all_routes2 = dask_utils.add_segment_id(all_routes)\n",
    "\n",
    "##generous buffer for street/sidewalk width? \n",
    "# Required to spatially find stops within each segment\n",
    "all_routes3 = dask_utils.add_buffer(all_routes2, buffer_size=50)\n",
    "\n",
    "end_time = dt.datetime.now()\n",
    "print(f\"Execution time: {end_time - start_time}\")"
   ]
  },
  {
   "cell_type": "markdown",
   "id": "2ef6bfaf-768e-48e1-a9bc-21c59a66654a",
   "metadata": {},
   "source": [
    "## All shapes for operator\n",
    "* Dissolve by length, and generate segments at once\n",
    "* Join stops once"
   ]
  },
  {
   "cell_type": "code",
   "execution_count": 5,
   "id": "8d0f034f-f240-4018-a6a4-f95c750a6dc4",
   "metadata": {},
   "outputs": [],
   "source": [
    "hqta_segments = dask_geopandas.from_geopandas(all_routes3, npartitions=1)\n",
    "stops = dask_geopandas.read_parquet(f\"{rt_utils.GCS_FILE_PATH}\"\n",
    "                                    f\"cached_views/stops_{itp_id}_{analysis_date}.parquet\")\n",
    "\n",
    "segment_to_stop = dask_utils.hqta_segment_to_stop(hqta_segments, stops)"
   ]
  },
  {
   "cell_type": "code",
   "execution_count": 7,
   "id": "1d3fd19a-27d6-4405-8dbb-7314f0f16319",
   "metadata": {},
   "outputs": [
    {
     "data": {
      "text/plain": [
       "geopandas.geodataframe.GeoDataFrame"
      ]
     },
     "execution_count": 7,
     "metadata": {},
     "output_type": "execute_result"
    }
   ],
   "source": [
    "type(segment_to_stop)"
   ]
  },
  {
   "cell_type": "code",
   "execution_count": 10,
   "id": "01d679f0-42f9-4510-bd85-7cdbcccc25b0",
   "metadata": {},
   "outputs": [
    {
     "data": {
      "text/plain": [
       "(21764, 5)"
      ]
     },
     "execution_count": 10,
     "metadata": {},
     "output_type": "execute_result"
    }
   ],
   "source": [
    "segment_to_stop.shape"
   ]
  },
  {
   "cell_type": "code",
   "execution_count": 12,
   "id": "7f8cfdeb-5d0b-424c-9028-2dbc3776c701",
   "metadata": {},
   "outputs": [
    {
     "data": {
      "text/html": [
       "<div>\n",
       "<style scoped>\n",
       "    .dataframe tbody tr th:only-of-type {\n",
       "        vertical-align: middle;\n",
       "    }\n",
       "\n",
       "    .dataframe tbody tr th {\n",
       "        vertical-align: top;\n",
       "    }\n",
       "\n",
       "    .dataframe thead th {\n",
       "        text-align: right;\n",
       "    }\n",
       "</style>\n",
       "<table border=\"1\" class=\"dataframe\">\n",
       "  <thead>\n",
       "    <tr style=\"text-align: right;\">\n",
       "      <th></th>\n",
       "      <th>hqta_segment_id</th>\n",
       "      <th>geometry</th>\n",
       "      <th>calitp_itp_id</th>\n",
       "      <th>stop_id</th>\n",
       "      <th>stop_name</th>\n",
       "    </tr>\n",
       "  </thead>\n",
       "  <tbody>\n",
       "    <tr>\n",
       "      <th>0</th>\n",
       "      <td>307378023</td>\n",
       "      <td>POLYGON ((149207.274 -435741.895, 149207.560 -...</td>\n",
       "      <td>182</td>\n",
       "      <td>16949</td>\n",
       "      <td>San Vicente / Melrose</td>\n",
       "    </tr>\n",
       "    <tr>\n",
       "      <th>1</th>\n",
       "      <td>307378023</td>\n",
       "      <td>POLYGON ((149207.274 -435741.895, 149207.560 -...</td>\n",
       "      <td>182</td>\n",
       "      <td>16532</td>\n",
       "      <td>Division 7 Layover</td>\n",
       "    </tr>\n",
       "  </tbody>\n",
       "</table>\n",
       "</div>"
      ],
      "text/plain": [
       "   hqta_segment_id                                           geometry  \\\n",
       "0        307378023  POLYGON ((149207.274 -435741.895, 149207.560 -...   \n",
       "1        307378023  POLYGON ((149207.274 -435741.895, 149207.560 -...   \n",
       "\n",
       "   calitp_itp_id stop_id              stop_name  \n",
       "0            182   16949  San Vicente / Melrose  \n",
       "1            182   16532     Division 7 Layover  "
      ]
     },
     "execution_count": 12,
     "metadata": {},
     "output_type": "execute_result"
    }
   ],
   "source": [
    "segment_to_stop.head(2)"
   ]
  },
  {
   "cell_type": "code",
   "execution_count": null,
   "id": "c1a2be84-00fd-47a7-9e07-29d893003383",
   "metadata": {},
   "outputs": [],
   "source": []
  }
 ],
 "metadata": {
  "kernelspec": {
   "display_name": "Python 3 (ipykernel)",
   "language": "python",
   "name": "python3"
  },
  "language_info": {
   "codemirror_mode": {
    "name": "ipython",
    "version": 3
   },
   "file_extension": ".py",
   "mimetype": "text/x-python",
   "name": "python",
   "nbconvert_exporter": "python",
   "pygments_lexer": "ipython3",
   "version": "3.10.4"
  }
 },
 "nbformat": 4,
 "nbformat_minor": 5
}
