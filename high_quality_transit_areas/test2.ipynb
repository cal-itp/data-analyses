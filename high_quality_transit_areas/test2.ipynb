{
 "cells": [
  {
   "cell_type": "markdown",
   "id": "91650562-357e-465f-9912-09e8a2e574aa",
   "metadata": {},
   "source": [
    "# Refactor bus corridors"
   ]
  },
  {
   "cell_type": "code",
   "execution_count": null,
   "id": "2d229973-9381-4177-9a23-7e07b9d041d6",
   "metadata": {},
   "outputs": [],
   "source": [
    "import datetime as dt\n",
    "import geopandas as gpd\n",
    "import numpy as np\n",
    "import pandas as pd\n",
    "\n",
    "from siuba import *\n",
    "\n",
    "import B1_bus_corridors as bus_corridors\n",
    "from A1_rail_ferry_brt import analysis_date\n",
    "from utilities import GCS_FILE_PATH\n",
    "from shared_utils import rt_utils\n",
    "\n",
    "import dask.dataframe as dd\n",
    "import dask_geopandas\n",
    "\n",
    "\n",
    "itp_id = 182\n",
    "date_str = analysis_date.strftime(rt_utils.FULL_DATE_FMT)"
   ]
  },
  {
   "cell_type": "code",
   "execution_count": null,
   "id": "7f924152-711f-4967-96dd-c413a051045b",
   "metadata": {},
   "outputs": [],
   "source": [
    "\n",
    "FILE_PATH = f\"{rt_utils.GCS_FILE_PATH}cached_views/\"\n",
    "        \n",
    "routelines = dask_geopandas.read_parquet(f\"{FILE_PATH}routelines_{itp_id}_{date_str}.parquet\")\n",
    "trips = dd.read_parquet(f\"{FILE_PATH}trips_{itp_id}_{date_str}.parquet\")\n",
    "stop_times = dd.read_parquet(f\"{FILE_PATH}st_{itp_id}_{date_str}.parquet\")\n",
    "stops = dask_geopandas.read_parquet(f\"{FILE_PATH}stops_{itp_id}_{date_str}.parquet\")\n",
    "'''\n",
    "gdf = bus_corridors.single_operator_hqta(routelines, trips, stop_times, stops)\n",
    "gdf.to_parquet(\"./data/182_bus2.parquet\")\n",
    "'''"
   ]
  },
  {
   "cell_type": "code",
   "execution_count": null,
   "id": "103338a0-5360-447a-a94e-fea4dad0c5fc",
   "metadata": {},
   "outputs": [],
   "source": [
    "import dask_utils "
   ]
  },
  {
   "cell_type": "code",
   "execution_count": null,
   "id": "0bbe9099-0d18-4a5d-9675-06990d81159d",
   "metadata": {},
   "outputs": [],
   "source": [
    "route_shapes = dask_utils.select_needed_shapes_for_route_network(routelines, trips)\n",
    "\n",
    "all_routes = gpd.GeoDataFrame()\n",
    "for i in route_shapes.index:\n",
    "    one_route = route_shapes[route_shapes.index==i]\n",
    "    gdf = dask_utils.segment_route(one_route)\n",
    "\n",
    "    all_routes = pd.concat([all_routes, gdf])\n",
    "\n",
    "# Add HQTA segment ID\n",
    "all_routes2 = dask_utils.add_segment_id(all_routes)\n",
    "\n",
    "##generous buffer for street/sidewalk width? \n",
    "# Required to spatially find stops within each segment\n",
    "all_routes3 = dask_utils.add_buffer(all_routes2, buffer_size=50)"
   ]
  },
  {
   "cell_type": "code",
   "execution_count": null,
   "id": "af2a9f10-a75e-4b34-a8da-a5463ac56bb6",
   "metadata": {},
   "outputs": [],
   "source": [
    "# Convert to dask gdf\n",
    "hqta_segments = dask_geopandas.from_geopandas(all_routes3, npartitions=1)\n",
    "# Join hqta segment to stops\n",
    "segment_to_stop = bus_corridors.hqta_segment_to_stop(hqta_segments, stops)\n",
    "\n",
    "# Within hqta segment, if there are multiple stops, keep stop with highest trip count\n",
    "segment_to_stop_unique = bus_corridors.hqta_segment_keep_one_stop(segment_to_stop, stop_times)\n",
    "    \n",
    "# Get aggregated stops by departure_hour and stop_id\n",
    "trips_by_stop_hour = dask_utils.stop_times_aggregation_by_hour(stop_times)\n",
    "    \n",
    "# By hqta segment, find the max trips for AM/PM peak\n",
    "segment_with_max_stops = bus_corridors.add_hqta_segment_peak_trips(\n",
    "    segment_to_stop_unique, trips_by_stop_hour)\n",
    "    \n",
    "# Tag whether that row is a HQ transit corr\n",
    "hq_transit_segments = bus_corridors.identify_hq_transit_corr(segment_with_max_stops)"
   ]
  },
  {
   "cell_type": "code",
   "execution_count": null,
   "id": "d44fa60a-38b3-4847-8f2d-38294d618d36",
   "metadata": {},
   "outputs": [],
   "source": [
    "keep_cols = [\"stop_id\", \"am_max_trips\", \"pm_max_trips\"]\n",
    "eric2 = eric[keep_cols].drop_duplicates()\n",
    "tiff2 = hq_transit_segments[keep_cols].drop_duplicates()"
   ]
  },
  {
   "cell_type": "code",
   "execution_count": null,
   "id": "f581a87a-59be-4168-bdb0-a93f8b59830a",
   "metadata": {},
   "outputs": [],
   "source": [
    "m1 = pd.merge(eric2, tiff2,\n",
    "         on = \"stop_id\",\n",
    "         how = \"outer\",\n",
    "         validate = \"1:1\",\n",
    "         indicator=True\n",
    ")\n",
    "\n",
    "m1._merge.value_counts()"
   ]
  },
  {
   "cell_type": "code",
   "execution_count": null,
   "id": "d2b7fba2-e0c0-4684-88e1-8ad1de95b7fd",
   "metadata": {},
   "outputs": [],
   "source": [
    "# For the ones that are in both, generated the same number of trips\n",
    "m1[m1._merge==\"both\"][m1.am_max_trips_x != m1.am_max_trips_y]"
   ]
  },
  {
   "cell_type": "code",
   "execution_count": null,
   "id": "9e17aec8-457a-43ed-8627-d17ac3ab8082",
   "metadata": {},
   "outputs": [],
   "source": [
    "m1[m1._merge==\"both\"][m1.pm_max_trips_x != m1.pm_max_trips_y]"
   ]
  },
  {
   "cell_type": "code",
   "execution_count": null,
   "id": "ad9c5bec-f2bc-49db-9057-2929d6169ef6",
   "metadata": {},
   "outputs": [],
   "source": [
    "eric_stops = m1[m1._merge==\"left_only\"].stop_id.unique().tolist()"
   ]
  },
  {
   "cell_type": "code",
   "execution_count": null,
   "id": "6e976cf6-0ab1-43af-8a80-6d22a4a7dd98",
   "metadata": {},
   "outputs": [],
   "source": [
    "tiff_stops = m1[m1._merge==\"right_only\"].stop_id.unique().tolist()"
   ]
  },
  {
   "cell_type": "code",
   "execution_count": null,
   "id": "20566a23-4d0e-46a8-ab0d-ee117c604287",
   "metadata": {},
   "outputs": [],
   "source": [
    "eric[eric.stop_id.isin(eric_stops)].plot()"
   ]
  },
  {
   "cell_type": "code",
   "execution_count": null,
   "id": "c10530d6-c8fb-4e8b-9784-808a8721024e",
   "metadata": {},
   "outputs": [],
   "source": [
    "hq_transit_segments[hq_transit_segments.stop_id.isin(eric_stops)].plot()"
   ]
  },
  {
   "cell_type": "code",
   "execution_count": null,
   "id": "b4d65db0-c8df-4c16-9490-0f0514b12776",
   "metadata": {},
   "outputs": [],
   "source": [
    "# calitp-analytics-data/data-analyses/high_quality_transit_areas/bus_corridors/182_bus.parquet\n",
    "eric = gpd.read_parquet(f\"{GCS_FILE_PATH}bus_corridors/182_bus.parquet\")"
   ]
  },
  {
   "cell_type": "code",
   "execution_count": null,
   "id": "a927f45f-f7c2-4e6a-9b11-f5697b4b7172",
   "metadata": {},
   "outputs": [],
   "source": [
    "tiff = gpd.read_parquet(f\"./data/182_bus2.parquet\")"
   ]
  },
  {
   "cell_type": "code",
   "execution_count": null,
   "id": "8a29aa60-6e58-410c-8cc1-2a24cd336bdd",
   "metadata": {},
   "outputs": [],
   "source": [
    "def stats(df):\n",
    "    print(df.columns)\n",
    "    print(df.dtypes)\n",
    "    print(f\"# obs: {len(df)}\")\n",
    "    print(f\"# unique stops: {df.stop_id.nunique()}\")\n",
    "    print(f\"sum am_max stops: {df.am_max_trips.sum()}\")\n",
    "    print(f\"sum pm_max stops: {df.am_max_trips.sum()}\")\n",
    "    print(f\"# unique hqta_segment_id: {df.hqta_segment_id.nunique()}\")\n",
    "\n",
    "    \n",
    "def compare(eric, tiff):\n",
    "    print(\"***********Eric************\")\n",
    "    stats(eric)\n",
    "    print(\"***********Tiff************\")\n",
    "    stats(tiff)"
   ]
  },
  {
   "cell_type": "code",
   "execution_count": null,
   "id": "474532e1-8e64-4519-9850-6456edaa3ccb",
   "metadata": {},
   "outputs": [],
   "source": [
    "compare(eric, hq_transit_segments)"
   ]
  },
  {
   "cell_type": "code",
   "execution_count": null,
   "id": "dcd342d6-cac4-4635-bcb0-8206fe60600b",
   "metadata": {},
   "outputs": [],
   "source": [
    "explore_shapes = [\n",
    "    \"700292_FEB22\",\n",
    "    #\"400916_FEB22\",\n",
    "]\n",
    "\n",
    "explore_stops = [\n",
    "    #\"6535\",\n",
    "    #\"5383\"\n",
    "]\n",
    "\n",
    "explore_stops = tiff[tiff.shape_id.str.startswith(\"720\")].stop_id.unique().tolist()"
   ]
  },
  {
   "cell_type": "code",
   "execution_count": null,
   "id": "66867fe9-0ce8-4870-bdce-e65d8f0ff54e",
   "metadata": {},
   "outputs": [],
   "source": [
    "tiff[tiff.shape_id.str.startswith(\"720\")].plot()"
   ]
  },
  {
   "cell_type": "code",
   "execution_count": null,
   "id": "ccffc5ba-3e4d-4b61-9940-532ddfe4136a",
   "metadata": {},
   "outputs": [],
   "source": [
    "eric[eric.shape_id.str.startswith(\"720\")].plot()"
   ]
  },
  {
   "cell_type": "code",
   "execution_count": null,
   "id": "40e15d21-79a2-45e3-b23b-2b831826d60f",
   "metadata": {},
   "outputs": [],
   "source": [
    "tiff[tiff.stop_id.isin(explore_stops)].plot()"
   ]
  },
  {
   "cell_type": "code",
   "execution_count": null,
   "id": "ae13ef08-47bc-4756-8353-fb03ab2b54a0",
   "metadata": {},
   "outputs": [],
   "source": [
    "eric[eric.stop_id.isin(explore_stops)].plot()"
   ]
  },
  {
   "cell_type": "code",
   "execution_count": null,
   "id": "6ea9b98d-cf4a-4d2a-ab6a-e097d80b741a",
   "metadata": {},
   "outputs": [],
   "source": [
    "eric[eric.stop_id.isin(explore_stops)].plot(column=\"segment_sequence\")"
   ]
  },
  {
   "cell_type": "code",
   "execution_count": null,
   "id": "3c2cd3e9-9fd1-49db-8dc2-9eb2e0d29516",
   "metadata": {},
   "outputs": [],
   "source": [
    "tiff[tiff.stop_id.isin(explore_stops)]"
   ]
  },
  {
   "cell_type": "code",
   "execution_count": null,
   "id": "e807c672-ee71-4495-ba7d-fcd470ad0ea7",
   "metadata": {},
   "outputs": [],
   "source": [
    "tiff[tiff.stop_id==\"6535\"]"
   ]
  },
  {
   "cell_type": "code",
   "execution_count": null,
   "id": "6eb9769a-3106-4bf8-a88c-456f27e0ae8c",
   "metadata": {},
   "outputs": [],
   "source": [
    "tiff[tiff.stop_id.isin(explore_stops)].plot(column=\"segment_sequence\")"
   ]
  },
  {
   "cell_type": "code",
   "execution_count": null,
   "id": "be7ad482-f4c8-4335-bda8-37c5cb0ce86c",
   "metadata": {},
   "outputs": [],
   "source": [
    "m1 = pd.merge(\n",
    "    eric,\n",
    "    tiff,\n",
    "    on = [\"calitp_itp_id\", \"calitp_url_number\", \"shape_id\", \n",
    "          \"hqta_segment_id\", \"segment_sequence\", \"stop_id\"],\n",
    "    how = \"outer\",\n",
    "    #validate=\"m:m\",\n",
    "    indicator=True\n",
    ")"
   ]
  },
  {
   "cell_type": "code",
   "execution_count": null,
   "id": "a0f1f803-1cbc-489e-8aa7-d777d98e0589",
   "metadata": {},
   "outputs": [],
   "source": [
    "m1._merge.value_counts()"
   ]
  },
  {
   "cell_type": "markdown",
   "id": "98978777-dce2-491f-991c-070a3e9418ce",
   "metadata": {},
   "source": [
    "### Find trips that are just AM / PM peak"
   ]
  },
  {
   "cell_type": "code",
   "execution_count": null,
   "id": "59b0a4fa-20c5-4d5f-94cc-c7de137dbdbf",
   "metadata": {},
   "outputs": [],
   "source": [
    "# Remove trips that only run during AM/PM peak, because those don't qualify as HQTA\n",
    "def invalid_trips_only_peak_hours(df):\n",
    "    trip_cols = [\"calitp_itp_id\", \"trip_id\"]\n",
    "    \n",
    "    df = df.assign(\n",
    "        is_am_peak = df.time_of_day.map(lambda x: 1 if x==\"AM Peak\" \n",
    "                                          else 0),\n",
    "        is_pm_peak = df.time_of_day.map(lambda x: 1 if x==\"PM Peak\"\n",
    "                                          else 0),\n",
    "        is_other = df.time_of_day.map(lambda x: 1 if ((x != \"AM Peak\") and \n",
    "                                                        (x != \"PM Peak\"))\n",
    "                                        else 0),\n",
    "    )\n",
    "    \n",
    "    df2 = (df.groupby(trip_cols)\n",
    "           .agg({\"is_am_peak\": np.max, \n",
    "                 \"is_pm_peak\": np.max,\n",
    "                 \"is_other\": np.max,})\n",
    "           .reset_index()\n",
    "          )\n",
    "    \n",
    "    # Drop trips that only run AM/PM\n",
    "    only_peak = df2[(df2.is_am_peak==1) & \n",
    "              (df2.is_pm_peak==1) & \n",
    "              (df2.is_other==0)].trip_id.compute()\n",
    "        \n",
    "    # Return list of trip_ids that are invalid\n",
    "    return list(only_peak.unique())"
   ]
  },
  {
   "cell_type": "code",
   "execution_count": null,
   "id": "396496be-8a65-432f-b1da-ee199f0562f8",
   "metadata": {},
   "outputs": [],
   "source": [
    "invalid_trips = invalid_trips_only_peak_hours(trip_stops_by_hour)"
   ]
  },
  {
   "cell_type": "code",
   "execution_count": null,
   "id": "2d419219-9256-4f00-9863-96448a160ae7",
   "metadata": {},
   "outputs": [],
   "source": []
  },
  {
   "cell_type": "code",
   "execution_count": null,
   "id": "41691421-82d5-4227-8dcf-a3e15a327c1c",
   "metadata": {},
   "outputs": [],
   "source": []
  }
 ],
 "metadata": {
  "kernelspec": {
   "display_name": "Python 3 (ipykernel)",
   "language": "python",
   "name": "python3"
  },
  "language_info": {
   "codemirror_mode": {
    "name": "ipython",
    "version": 3
   },
   "file_extension": ".py",
   "mimetype": "text/x-python",
   "name": "python",
   "nbconvert_exporter": "python",
   "pygments_lexer": "ipython3",
   "version": "3.10.4"
  }
 },
 "nbformat": 4,
 "nbformat_minor": 5
}
