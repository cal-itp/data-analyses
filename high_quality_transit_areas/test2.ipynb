{
 "cells": [
  {
   "cell_type": "markdown",
   "id": "91650562-357e-465f-9912-09e8a2e574aa",
   "metadata": {},
   "source": [
    "# Refactor bus corridors"
   ]
  },
  {
   "cell_type": "code",
   "execution_count": 1,
   "id": "2d229973-9381-4177-9a23-7e07b9d041d6",
   "metadata": {},
   "outputs": [
    {
     "name": "stderr",
     "output_type": "stream",
     "text": [
      "/opt/conda/lib/python3.10/site-packages/geopandas/_compat.py:111: UserWarning: The Shapely GEOS version (3.10.2-CAPI-1.16.0) is incompatible with the GEOS version PyGEOS was compiled with (3.10.1-CAPI-1.16.0). Conversions between both will be slow.\n",
      "  warnings.warn(\n"
     ]
    }
   ],
   "source": [
    "import os\n",
    "os.environ[\"CALITP_BQ_MAX_BYTES\"] = str(900_000_000_000) ## 800GB?\n",
    "\n",
    "import datetime as dt\n",
    "import geopandas as gpd\n",
    "import pandas as pd\n",
    "import zlib\n",
    "\n",
    "from siuba import *\n",
    "\n",
    "import utilities\n",
    "import A1_rail_ferry_brt as rail_ferry_brt\n",
    "\n",
    "from shared_utils import rt_utils\n",
    "\n",
    "GCS_FILE_PATH = utilities.GCS_FILE_PATH\n",
    "\n",
    "analysis_date = rail_ferry_brt.analysis_date\n",
    "analysis_date\n",
    "\n",
    "import dask.dataframe as dd\n",
    "import numpy as np"
   ]
  },
  {
   "cell_type": "code",
   "execution_count": null,
   "id": "b4d65db0-c8df-4c16-9490-0f0514b12776",
   "metadata": {},
   "outputs": [],
   "source": [
    "# calitp-analytics-data/data-analyses/high_quality_transit_areas/bus_corridors/182_bus.parquet\n",
    "bus_corridor = gpd.read_parquet(f\"{GCS_FILE_PATH}bus_corridors/182_bus.parquet\")"
   ]
  },
  {
   "cell_type": "code",
   "execution_count": null,
   "id": "6527720a-d514-474a-9127-e6c3c7192e92",
   "metadata": {},
   "outputs": [],
   "source": [
    "#bus_corridor2 = gpd.read_parquet(\"./data/182_bus2.parquet\")"
   ]
  },
  {
   "cell_type": "code",
   "execution_count": 2,
   "id": "5aba8372-d0d1-43d0-bcc2-b5dbdd9b34de",
   "metadata": {},
   "outputs": [],
   "source": [
    "itp_id = 182\n",
    "date_str = analysis_date.strftime(rt_utils.FULL_DATE_FMT)\n",
    "\n",
    "# Skip writing geoparquet again for now \n",
    "# TODO: tweak rt_utils to overwrite export? \n",
    "# Overwriting while testing this is not ideal, don't want to mess it up\n",
    "\n",
    "#routelines = rt_utils.get_routelines(itp_id, analysis_date)\n",
    "#routelines = gpd.read_parquet(f\"{rt_utils.GCS_FILE_PATH}\"\n",
    "#                             f\"cached_views/routelines_{itp_id}_{date_str}.parquet\" \n",
    "#                            )\n",
    "\n",
    "#routelines.to_parquet(f\"./data/routelines_{itp_id}_{date_str}.parquet\")\n",
    "\n",
    "## force clear to ensure route type data present\n",
    "#trips = rt_utils.get_trips(itp_id, analysis_date, force_clear=True, route_types = ['3'])\n",
    "#trips.to_parquet(f\"./data/trips_{itp_id}_{date_str}.parquet\")\n",
    "\n",
    "#stop_times = rt_utils.get_stop_times(itp_id, analysis_date)\n",
    "#stop_times.to_parquet(f\"./data/st_{itp_id}_{date_str}.parquet\")\n",
    "\n",
    "#stops = rt_utils.get_stops(itp_id, analysis_date)\n",
    "#stops.to_parquet(f\"./data/stops_{itp_id}_{date_str}.parquet\")"
   ]
  },
  {
   "cell_type": "code",
   "execution_count": 3,
   "id": "7f924152-711f-4967-96dd-c413a051045b",
   "metadata": {},
   "outputs": [],
   "source": [
    "routelines = gpd.read_parquet(f\"./data/routelines_{itp_id}_{date_str}.parquet\")\n",
    "#trips = pd.read_parquet(f\"./data/trips_{itp_id}_{date_str}.parquet\")\n",
    "#stop_times = pd.read_parquet(f\"./data/st_{itp_id}_{date_str}.parquet\")\n",
    "#stops = gpd.read_parquet(f\"./data/stops_{itp_id}_{date_str}.parquet\")"
   ]
  },
  {
   "cell_type": "code",
   "execution_count": null,
   "id": "f7126eec-c23b-4314-892d-fa3f854498ca",
   "metadata": {},
   "outputs": [],
   "source": [
    "#import dask_utils\n",
    "\n",
    "#peak_trips_by_stop = dask_utils.stop_times_aggregation(itp_id, analysis_date)"
   ]
  },
  {
   "cell_type": "code",
   "execution_count": 4,
   "id": "d400decc-62d2-4a20-98d3-b7312f44ddf6",
   "metadata": {},
   "outputs": [],
   "source": [
    "import dask_geopandas"
   ]
  },
  {
   "cell_type": "code",
   "execution_count": 5,
   "id": "b8aa99f2-3cf7-4850-a4a1-08b5984e25a5",
   "metadata": {},
   "outputs": [],
   "source": [
    "gddf = dask_geopandas.from_geopandas(routelines, npartitions=4)"
   ]
  },
  {
   "cell_type": "code",
   "execution_count": 12,
   "id": "969fe2c1-0979-4bd1-8c05-b36fc9353616",
   "metadata": {},
   "outputs": [],
   "source": [
    "gddf = gddf.assign(\n",
    "    **{\"shape_id_length\": gddf.geometry.length,\n",
    "        \"geometry\": gddf.geometry.buffer(50),\n",
    "      }\n",
    ").sort_values(\"shape_id_length\", ascending=False)"
   ]
  },
  {
   "cell_type": "code",
   "execution_count": 20,
   "id": "a97ec47a-af23-4f5c-a208-0963b6441dee",
   "metadata": {},
   "outputs": [
    {
     "data": {
      "text/plain": [
       "4068548.9483745582"
      ]
     },
     "execution_count": 20,
     "metadata": {},
     "output_type": "execute_result"
    }
   ],
   "source": [
    "gddf.head(100).shape_id_length.sum()"
   ]
  },
  {
   "cell_type": "code",
   "execution_count": 21,
   "id": "40034609-c136-4096-8aa8-d3a0d8086d82",
   "metadata": {},
   "outputs": [
    {
     "data": {
      "text/plain": [
       "16790974.473367132"
      ]
     },
     "execution_count": 21,
     "metadata": {},
     "output_type": "execute_result"
    }
   ],
   "source": [
    "gddf.shape_id_length.sum().compute()"
   ]
  },
  {
   "cell_type": "code",
   "execution_count": 22,
   "id": "0becdea1-9522-4e1e-b094-f37433ea1c6a",
   "metadata": {},
   "outputs": [
    {
     "data": {
      "text/plain": [
       "0.24230565778971488"
      ]
     },
     "execution_count": 22,
     "metadata": {},
     "output_type": "execute_result"
    }
   ],
   "source": [
    "4068548/16790974"
   ]
  },
  {
   "cell_type": "code",
   "execution_count": null,
   "id": "aea22ee7-df22-4eed-9fce-d42839fd7f6e",
   "metadata": {},
   "outputs": [],
   "source": [
    "dissolved = routelines.dissolve()[[\"calitp_itp_id\", \"calitp_url_number\", \"geometry\"]]\n"
   ]
  },
  {
   "cell_type": "code",
   "execution_count": null,
   "id": "4758285f-d88c-4587-93fe-9dac9da021f1",
   "metadata": {},
   "outputs": [],
   "source": [
    "dissolved.crs"
   ]
  },
  {
   "cell_type": "code",
   "execution_count": null,
   "id": "cd2aa8aa-31b9-4d9a-a4f5-b604969369d7",
   "metadata": {},
   "outputs": [],
   "source": [
    "len(routelines)"
   ]
  },
  {
   "cell_type": "code",
   "execution_count": null,
   "id": "96536047-d0db-4ac5-9fcd-94f30b6f30a3",
   "metadata": {},
   "outputs": [],
   "source": [
    "#dissolved_segmented = utilities.create_segments(dissolved[\"geometry\"])\n",
    "\n",
    "# Turn 1 row of geometry into hqta_segments, every 1,250 m\n",
    "segmented = gpd.GeoDataFrame() ##changed to gdf?\n",
    "\n",
    "for segment in utilities.create_segments(dissolved.geometry):\n",
    "    to_append = dissolved.drop(columns=[\"geometry\"])\n",
    "    to_append[\"geometry\"] = segment\n",
    "    segmented = pd.concat((segmented, to_append))"
   ]
  },
  {
   "cell_type": "code",
   "execution_count": null,
   "id": "fa30003a-f3e2-4b48-9cc3-09c5c7e78aa0",
   "metadata": {},
   "outputs": [],
   "source": [
    "segmented[\"segment_sequence\"] = segmented.reset_index(drop=True).index"
   ]
  },
  {
   "cell_type": "code",
   "execution_count": null,
   "id": "6410e826-e017-4457-819a-e8acd97b124a",
   "metadata": {},
   "outputs": [],
   "source": [
    "dissolved.plot()"
   ]
  },
  {
   "cell_type": "code",
   "execution_count": null,
   "id": "1aa2d93d-c204-4cfb-adc5-834d340c13c5",
   "metadata": {},
   "outputs": [],
   "source": [
    "gddf2 = gddf.head(10)\n",
    "gddf2.shape_id_length.sum().compute()"
   ]
  },
  {
   "cell_type": "markdown",
   "id": "2ef6bfaf-768e-48e1-a9bc-21c59a66654a",
   "metadata": {},
   "source": [
    "## All shapes for operator\n",
    "* Dissolve by length, and generate segments at once\n",
    "* Join stops once"
   ]
  },
  {
   "cell_type": "code",
   "execution_count": null,
   "id": "715b1539-1d51-409b-b6e9-f43983f7a319",
   "metadata": {},
   "outputs": [],
   "source": []
  }
 ],
 "metadata": {
  "kernelspec": {
   "display_name": "Python 3 (ipykernel)",
   "language": "python",
   "name": "python3"
  },
  "language_info": {
   "codemirror_mode": {
    "name": "ipython",
    "version": 3
   },
   "file_extension": ".py",
   "mimetype": "text/x-python",
   "name": "python",
   "nbconvert_exporter": "python",
   "pygments_lexer": "ipython3",
   "version": "3.10.4"
  }
 },
 "nbformat": 4,
 "nbformat_minor": 5
}
