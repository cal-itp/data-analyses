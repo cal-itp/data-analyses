{
 "cells": [
  {
   "cell_type": "code",
   "execution_count": 1,
   "id": "ae8d5b04-03be-4ca0-a1c9-57da3bc6309b",
   "metadata": {},
   "outputs": [],
   "source": [
    "import geopandas\n",
    "from census import Census\n",
    "import requests, csv"
   ]
  },
  {
   "cell_type": "code",
   "execution_count": 6,
   "id": "b39eaf56-baf0-42d5-8c53-abf774fb9f6c",
   "metadata": {},
   "outputs": [
    {
     "name": "stdout",
     "output_type": "stream",
     "text": [
      "\n",
      "<html>\n",
      "    <head>\n",
      "        <title>Invalid Key</title>\n",
      "    </head>\n",
      "    <body>\n",
      "        <p>\n",
      "            A valid <em>key</em> must be included with each data API request.\n",
      "            You included a key with this request, however, it is not valid.\n",
      "            Please check your key and try again.\n",
      "        </p>\n",
      "        <p>\n",
      "            If you do not have a key you my sign up for one <a href=\"key_signup.html\">here</a>.\n",
      "        </p>\n",
      "    </body>\n",
      "</html>\n",
      "\n"
     ]
    }
   ],
   "source": [
    "year = '2019'\n",
    "dsource='pep'\n",
    "dname='population'\n",
    "cols='NAME,POP,DATE_DESC'\n",
    "state='44'\n",
    "county='*'\n",
    "dcode='2,12'\n",
    "keyfile='census_key.txt'\n",
    "outfile='pop2019_ri_counties.txt'\n",
    "\n",
    "base_url = f'https://api.census.gov/data/{year}/{dsource}/{dname}'\n",
    "\n",
    "with open(keyfile) as key:\n",
    "    api_key=key.read().strip()\n",
    "\n",
    "data_url= f'{base_url}?get={cols}&DATE_CODE={dcode}&for=county:{county}\\&in=state:{state}&key={api_key}'\n",
    "response=requests.get(data_url)\n",
    "print(response.text)\n"
   ]
  },
  {
   "cell_type": "code",
   "execution_count": null,
   "id": "40936274-ff51-444c-a002-3536fe992c84",
   "metadata": {},
   "outputs": [],
   "source": []
  }
 ],
 "metadata": {
  "kernelspec": {
   "display_name": "Python 3 (ipykernel)",
   "language": "python",
   "name": "python3"
  },
  "language_info": {
   "codemirror_mode": {
    "name": "ipython",
    "version": 3
   },
   "file_extension": ".py",
   "mimetype": "text/x-python",
   "name": "python",
   "nbconvert_exporter": "python",
   "pygments_lexer": "ipython3",
   "version": "3.9.6"
  }
 },
 "nbformat": 4,
 "nbformat_minor": 5
}
