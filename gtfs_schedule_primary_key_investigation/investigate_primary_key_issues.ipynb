{
 "cells": [
  {
   "cell_type": "markdown",
   "id": "09df0c9c-0445-434b-86e4-c8d7e2c3abc9",
   "metadata": {},
   "source": [
    "# Investigate primary key issues in GTFS schedule data\n",
    "\n",
    "October 26, 2022 / Laurie \n",
    "\n",
    "See [this Google Doc](https://docs.google.com/document/d/12OtxayJRUMWO9HrJS11c6iiuw4OHPCgJv01YtnioZxY/edit#) for more info."
   ]
  },
  {
   "cell_type": "code",
   "execution_count": 63,
   "id": "1fcf4f94-0b42-421d-8f5a-479a34b3ed3a",
   "metadata": {},
   "outputs": [],
   "source": [
    "import pandas as pd\n",
    "import pandas_gbq\n",
    "import base64\n",
    "import datetime"
   ]
  },
  {
   "cell_type": "markdown",
   "id": "7a971b34-c923-4a8f-8252-83fcabb69420",
   "metadata": {},
   "source": [
    "# trips\n",
    "\n",
    "First, ran `poetry run dbt run -s +dim_trips` to refresh data in my namespace. "
   ]
  },
  {
   "cell_type": "markdown",
   "id": "d0b564b3-7932-4462-a65c-a332b6f9a4f6",
   "metadata": {},
   "source": [
    "TLDR:\n",
    "\n",
    "* Victor Valley GMV and Merced GMV are the only current feeds in the v2 pipeline that have duplicate `trip_id` values within individual feeds.\n",
    "* For Merced GMV:\n",
    "   * They are all cases where the key is duplicated but the data is actually different (i.e., worst case scenario).\n",
    "   * 2/412 (.4%) trips in their feed are affected. Same `trip_id`, different `route_` and `shape_` ids. \n",
    "* For Victor Valley GMV: \n",
    "   * At the start of v2 data availability (9/15/22), there was a mixture of cases where the key was duplicated with identical and different data (i.e., there are trip IDs that appear at least 3 times: 2 identical duplicates + another row with the same key but different data.) At that time, 46/1307 (3.5%) trips were duplicates of some kind, with most being full duplicates where the entire row was replicated exactly.\n",
    "   * In the most recent feed (10/25/22), there are **only** full duplicates where the entire row is identical (this is the best case scenario, because these are safe to deduplicate). Incidence has decreased to 26/1838 (1.4%). "
   ]
  },
  {
   "cell_type": "code",
   "execution_count": 26,
   "id": "4b10792d-1852-4743-8633-09e114c1fcb0",
   "metadata": {},
   "outputs": [],
   "source": [
    "# this is the query from the failing dbt test\n",
    "# combined with left joining back on to the full table to get the full trip details for the dup rows\n",
    "raw_dup_trips  = pd.read_gbq(\n",
    "    \"\"\"\n",
    "    with validation_errors as (\n",
    "\n",
    "        select\n",
    "            base64_url, ts, trip_id\n",
    "        from `cal-itp-data-infra-staging`.`laurie_staging`.`stg_gtfs_schedule__trips`\n",
    "        group by base64_url, ts, trip_id\n",
    "        having count(*) > 1\n",
    "\n",
    "    ),\n",
    "    \n",
    "    erroring_trips as (\n",
    "    \n",
    "        SELECT \n",
    "          t2.*\n",
    "        FROM validation_errors t1 \n",
    "        LEFT JOIN `cal-itp-data-infra-staging`.`laurie_staging`.`stg_gtfs_schedule__trips` t2\n",
    "        USING(trip_id, base64_url, ts)\n",
    "    \n",
    "    )\n",
    "\n",
    "    select *\n",
    "    from erroring_trips\n",
    "    \"\"\", project_id = 'cal-itp-data-infra-staging')"
   ]
  },
  {
   "cell_type": "code",
   "execution_count": 114,
   "id": "214b029b-3ed2-4dba-b660-46023ed10fe8",
   "metadata": {},
   "outputs": [],
   "source": [
    "dup_trips = raw_dup_trips.copy()"
   ]
  },
  {
   "cell_type": "code",
   "execution_count": 115,
   "id": "cd552ae1-8ba6-4774-a4cd-0d97524d2253",
   "metadata": {},
   "outputs": [
    {
     "data": {
      "text/plain": [
       "1852"
      ]
     },
     "execution_count": 115,
     "metadata": {},
     "output_type": "execute_result"
    }
   ],
   "source": [
    "len(dup_trips)"
   ]
  },
  {
   "cell_type": "code",
   "execution_count": 116,
   "id": "b3cc7b49-a6b4-4849-8251-8bde2f7a6332",
   "metadata": {},
   "outputs": [],
   "source": [
    "# drop totally empty columns because they mess up joins later\n",
    "dup_trips.dropna(axis = 1, how = \"all\", inplace = True)"
   ]
  },
  {
   "cell_type": "code",
   "execution_count": 141,
   "id": "24ce5fff-be35-45e3-80da-0db6961eeafc",
   "metadata": {},
   "outputs": [
    {
     "data": {
      "text/plain": [
       "array(['aHR0cHM6Ly9vbnRpbWUudnZ0YS5vcmcvZ3Rmcw==',\n",
       "       'aHR0cHM6Ly90aGVidXNsaXZlLmNvbS9ndGZz'], dtype=object)"
      ]
     },
     "execution_count": 141,
     "metadata": {},
     "output_type": "execute_result"
    }
   ],
   "source": [
    "# how many feeds affected?\n",
    "dup_trips.base64_url.unique()"
   ]
  },
  {
   "cell_type": "code",
   "execution_count": 118,
   "id": "b21203ad-7c30-4d37-ba03-653f90cd1035",
   "metadata": {},
   "outputs": [],
   "source": [
    "# convert base64_url to string \n",
    "dup_trips['url'] = dup_trips['base64_url'].apply(lambda x: str(base64.urlsafe_b64decode(x), encoding = 'utf-8'))"
   ]
  },
  {
   "cell_type": "code",
   "execution_count": 119,
   "id": "389ee227-3f10-4caf-9f27-95c904a19fac",
   "metadata": {},
   "outputs": [
    {
     "data": {
      "text/plain": [
       "array(['https://ontime.vvta.org/gtfs', 'https://thebuslive.com/gtfs'],\n",
       "      dtype=object)"
      ]
     },
     "execution_count": 119,
     "metadata": {},
     "output_type": "execute_result"
    }
   ],
   "source": [
    "# which urls (human readable) are affected?\n",
    "dup_trips.url.unique()"
   ]
  },
  {
   "cell_type": "code",
   "execution_count": 120,
   "id": "1558fc0f-a3d1-4766-8934-7f383039c638",
   "metadata": {},
   "outputs": [],
   "source": [
    "# how many are cases where ALL values are identical?\n",
    "orig_trip_cols = list(dup_trips.columns)"
   ]
  },
  {
   "cell_type": "code",
   "execution_count": 121,
   "id": "43a5b5de-ceac-48e0-860c-6d4f92923319",
   "metadata": {},
   "outputs": [],
   "source": [
    "dup_trips['dummy'] = 1\n",
    "# notebooks are annoying just in case we run out of order\n",
    "if 'dummy' in orig_trip_cols:\n",
    "    orig_trip_cols.remove('dummy')\n",
    "summarize_full_trip_dups = dup_trips.groupby(by = orig_trip_cols, dropna = False)['dummy'].sum().reset_index().rename(columns = {'dummy': 'ct'})"
   ]
  },
  {
   "cell_type": "code",
   "execution_count": 122,
   "id": "e7e70629-6b1f-4775-949d-d96ea4451501",
   "metadata": {},
   "outputs": [],
   "source": [
    "# cases where whole row is identical\n",
    "entire_trip_dups = summarize_full_trip_dups.loc[summarize_full_trip_dups.ct > 1, :].copy()\n",
    "entire_trip_dups['full_dup'] = True"
   ]
  },
  {
   "cell_type": "code",
   "execution_count": 126,
   "id": "2b41eb67-35a0-463a-9168-563625c8d3ad",
   "metadata": {},
   "outputs": [],
   "source": [
    "# how many cases are covered by entire dups?\n",
    "check_trip_entire_dups = dup_trips.merge(entire_trip_dups, how = 'left', on = orig_trip_cols, suffixes = ['', '_ent_dup'])"
   ]
  },
  {
   "cell_type": "code",
   "execution_count": 128,
   "id": "0c936f78-1cc1-449b-af17-9cc7fc6145b9",
   "metadata": {},
   "outputs": [],
   "source": [
    "# check for issue type by URL\n",
    "check_trip_entire_dups['full_dup'] = check_trip_entire_dups['full_dup'].fillna(False)"
   ]
  },
  {
   "cell_type": "code",
   "execution_count": 129,
   "id": "05ab4e56-fa39-4a74-acd7-de319c4e3c47",
   "metadata": {},
   "outputs": [
    {
     "data": {
      "text/plain": [
       "array(['https://ontime.vvta.org/gtfs', 'https://thebuslive.com/gtfs'],\n",
       "      dtype=object)"
      ]
     },
     "execution_count": 129,
     "metadata": {},
     "output_type": "execute_result"
    }
   ],
   "source": [
    "# check for cases where it's not a full dup\n",
    "check_trip_entire_dups[~check_trip_entire_dups.full_dup].url.unique()"
   ]
  },
  {
   "cell_type": "code",
   "execution_count": 130,
   "id": "59ab1712-4b55-4e96-a6dd-9411bb5e9323",
   "metadata": {},
   "outputs": [
    {
     "data": {
      "text/plain": [
       "array(['https://ontime.vvta.org/gtfs'], dtype=object)"
      ]
     },
     "execution_count": 130,
     "metadata": {},
     "output_type": "execute_result"
    }
   ],
   "source": [
    "# check for cases where it is a full dup\n",
    "check_trip_entire_dups[check_trip_entire_dups.full_dup].url.unique()"
   ]
  },
  {
   "cell_type": "code",
   "execution_count": 132,
   "id": "fc51b329-f968-4fe4-96b6-4c9d17e18dff",
   "metadata": {},
   "outputs": [],
   "source": [
    "# check at trip id level for whether all instances of trip id are full dup\n",
    "trip_id_entire_dups = check_trip_entire_dups.groupby(['url', 'trip_id', 'ts', 'full_dup']).size().reset_index()"
   ]
  },
  {
   "cell_type": "code",
   "execution_count": 136,
   "id": "52e3954f-fd98-4884-b040-180e60761743",
   "metadata": {},
   "outputs": [],
   "source": [
    "# check for mixed cases within a trip id \n",
    "trip_id_entire_dups = trip_id_entire_dups.groupby(['url', 'trip_id', 'ts']).agg({'full_dup': ['any', 'all']}).reset_index()\n",
    "trip_id_entire_dups.columns = ['url', 'trip_id', 'ts', 'any_full_dups', 'all_full_dups']"
   ]
  },
  {
   "cell_type": "code",
   "execution_count": 137,
   "id": "de225711-3bb4-421e-8c6b-16da690e5d3a",
   "metadata": {},
   "outputs": [],
   "source": [
    "# flag cases where there are mix of fully same and not \n",
    "trip_id_entire_dups['mixed_cases'] = trip_id_entire_dups.any_full_dups != trip_id_entire_dups.all_full_dups"
   ]
  },
  {
   "cell_type": "code",
   "execution_count": 138,
   "id": "fd53c894-95d2-416c-bd16-2d0aca7f19be",
   "metadata": {},
   "outputs": [
    {
     "data": {
      "text/plain": [
       "array(['https://ontime.vvta.org/gtfs'], dtype=object)"
      ]
     },
     "execution_count": 138,
     "metadata": {},
     "output_type": "execute_result"
    }
   ],
   "source": [
    "trip_id_entire_dups[trip_id_entire_dups.mixed_cases].url.unique()"
   ]
  },
  {
   "cell_type": "code",
   "execution_count": 176,
   "id": "e0360469-3e88-4d0f-b7e0-0c1b1925bdb4",
   "metadata": {},
   "outputs": [],
   "source": [
    "# add the dup type flags to each individual row\n",
    "check_trip_entire_dups = check_trip_entire_dups.merge(trip_id_entire_dups, how = 'left', on = ['url', 'trip_id', 'ts'])"
   ]
  },
  {
   "cell_type": "code",
   "execution_count": 178,
   "id": "6e19445e-55ed-4d5f-b226-6c95b452831c",
   "metadata": {},
   "outputs": [],
   "source": [
    "# summarize typology of dups\n",
    "entire_dup_trips_pivot = check_trip_entire_dups.groupby(['url', 'ts', 'mixed_cases', 'any_full_dups', 'all_full_dups'])['trip_id'].count().reset_index()"
   ]
  },
  {
   "cell_type": "code",
   "execution_count": 144,
   "id": "511a2b2a-d9c3-412a-8120-2e754544dc73",
   "metadata": {},
   "outputs": [],
   "source": [
    "# read in all trips for affected feeds\n",
    "all_vv_merced_trips_raw = pd.read_gbq(\n",
    "    \"\"\"\n",
    "    select *\n",
    "    from `cal-itp-data-infra-staging`.`laurie_staging`.`stg_gtfs_schedule__trips`\n",
    "    where base64_url = 'aHR0cHM6Ly9vbnRpbWUudnZ0YS5vcmcvZ3Rmcw==' or base64_url = 'aHR0cHM6Ly90aGVidXNsaXZlLmNvbS9ndGZz'\n",
    "    \"\"\", project_id = 'cal-itp-data-infra-staging')"
   ]
  },
  {
   "cell_type": "code",
   "execution_count": 145,
   "id": "289b28ea-b54e-4893-b687-e3a84cbc1c72",
   "metadata": {},
   "outputs": [],
   "source": [
    "all_vv_merced_trips = all_vv_merced_trips_raw.copy()"
   ]
  },
  {
   "cell_type": "code",
   "execution_count": 146,
   "id": "5cc827b9-d06a-4917-8bf2-d18c3cf137f0",
   "metadata": {},
   "outputs": [],
   "source": [
    "# convert base64_url to string \n",
    "all_vv_merced_trips['url'] = all_vv_merced_trips['base64_url'].apply(lambda x: str(base64.urlsafe_b64decode(x), encoding = 'utf-8'))"
   ]
  },
  {
   "cell_type": "code",
   "execution_count": 149,
   "id": "399d3aae-fbea-4ffe-b7e9-20ca862d390c",
   "metadata": {},
   "outputs": [],
   "source": [
    "# summarize trip count per feed\n",
    "num_trips = all_vv_merced_trips.groupby(['url', 'ts'])['trip_id'].count().reset_index().rename(columns = {'trip_id': 'num_trips'})"
   ]
  },
  {
   "cell_type": "code",
   "execution_count": 179,
   "id": "7b13fb8b-6f98-4519-b153-9be7a086112e",
   "metadata": {},
   "outputs": [],
   "source": [
    "entire_dup_trips_pivot = entire_dup_trips_pivot.pivot(index = ['url', 'ts'], columns = ['mixed_cases', 'any_full_dups', 'all_full_dups'], values = 'trip_id').reset_index()"
   ]
  },
  {
   "cell_type": "code",
   "execution_count": 182,
   "id": "d25959a7-6be5-4ab8-b7b9-7f41054e9af2",
   "metadata": {},
   "outputs": [],
   "source": [
    "entire_dup_trips_pivot.columns = ['url', 'ts', 'ct_no_full_dups', 'ct_all_full_dups', 'ct_mix_full_and_partial_dups']"
   ]
  },
  {
   "cell_type": "code",
   "execution_count": 183,
   "id": "d549868d-e258-4d23-8cc0-5b069a711e58",
   "metadata": {},
   "outputs": [],
   "source": [
    "entire_dup_trips_pivot['tot_dups'] = entire_dup_trips_pivot.ct_no_full_dups.fillna(0) + entire_dup_trips_pivot.ct_all_full_dups.fillna(0) + entire_dup_trips_pivot.ct_mix_full_and_partial_dups.fillna(0)"
   ]
  },
  {
   "cell_type": "code",
   "execution_count": 184,
   "id": "1b55aef5-ed37-448b-a2b7-c74ffbf4616e",
   "metadata": {},
   "outputs": [],
   "source": [
    "dup_trips_summary = entire_dup_trips_pivot.merge(num_trips, how = 'outer', on = ['url', 'ts'])"
   ]
  },
  {
   "cell_type": "code",
   "execution_count": 185,
   "id": "4f765f03-946b-4aef-88b5-186f1a0caabe",
   "metadata": {},
   "outputs": [],
   "source": [
    "dup_trips_summary['dup_prop'] = round((dup_trips_summary.tot_dups / dup_trips_summary.num_trips),4)"
   ]
  },
  {
   "cell_type": "code",
   "execution_count": 190,
   "id": "0626aac8-162f-4ded-979a-6b3cc7fffc8b",
   "metadata": {},
   "outputs": [
    {
     "data": {
      "text/plain": [
       "url                                          object\n",
       "ts                              datetime64[ns, UTC]\n",
       "ct_no_full_dups                             float64\n",
       "ct_all_full_dups                            float64\n",
       "ct_mix_full_and_partial_dups                float64\n",
       "tot_dups                                    float64\n",
       "num_trips                                     int64\n",
       "dup_prop                                    float64\n",
       "dtype: object"
      ]
     },
     "execution_count": 190,
     "metadata": {},
     "output_type": "execute_result"
    }
   ],
   "source": [
    "dup_trips_summary.dtypes"
   ]
  },
  {
   "cell_type": "code",
   "execution_count": 197,
   "id": "42b081c7-4d10-4589-8408-b88112e45444",
   "metadata": {},
   "outputs": [
    {
     "data": {
      "text/html": [
       "<div>\n",
       "<style scoped>\n",
       "    .dataframe tbody tr th:only-of-type {\n",
       "        vertical-align: middle;\n",
       "    }\n",
       "\n",
       "    .dataframe tbody tr th {\n",
       "        vertical-align: top;\n",
       "    }\n",
       "\n",
       "    .dataframe thead th {\n",
       "        text-align: right;\n",
       "    }\n",
       "</style>\n",
       "<table border=\"1\" class=\"dataframe\">\n",
       "  <thead>\n",
       "    <tr style=\"text-align: right;\">\n",
       "      <th></th>\n",
       "      <th>url</th>\n",
       "      <th>ts</th>\n",
       "      <th>ct_no_full_dups</th>\n",
       "      <th>ct_all_full_dups</th>\n",
       "      <th>ct_mix_full_and_partial_dups</th>\n",
       "      <th>tot_dups</th>\n",
       "      <th>num_trips</th>\n",
       "      <th>dup_prop</th>\n",
       "    </tr>\n",
       "  </thead>\n",
       "  <tbody>\n",
       "    <tr>\n",
       "      <th>0</th>\n",
       "      <td>https://ontime.vvta.org/gtfs</td>\n",
       "      <td>2022-09-15 14:59:54.274779+00:00</td>\n",
       "      <td>4.0</td>\n",
       "      <td>36.0</td>\n",
       "      <td>6.0</td>\n",
       "      <td>46.0</td>\n",
       "      <td>1307</td>\n",
       "      <td>0.0352</td>\n",
       "    </tr>\n",
       "    <tr>\n",
       "      <th>47</th>\n",
       "      <td>https://ontime.vvta.org/gtfs</td>\n",
       "      <td>2022-10-25 03:00:15.900936+00:00</td>\n",
       "      <td>NaN</td>\n",
       "      <td>26.0</td>\n",
       "      <td>NaN</td>\n",
       "      <td>26.0</td>\n",
       "      <td>1838</td>\n",
       "      <td>0.0141</td>\n",
       "    </tr>\n",
       "    <tr>\n",
       "      <th>48</th>\n",
       "      <td>https://thebuslive.com/gtfs</td>\n",
       "      <td>2022-09-15 14:59:54.274779+00:00</td>\n",
       "      <td>2.0</td>\n",
       "      <td>NaN</td>\n",
       "      <td>NaN</td>\n",
       "      <td>2.0</td>\n",
       "      <td>412</td>\n",
       "      <td>0.0049</td>\n",
       "    </tr>\n",
       "    <tr>\n",
       "      <th>95</th>\n",
       "      <td>https://thebuslive.com/gtfs</td>\n",
       "      <td>2022-10-25 03:00:15.900936+00:00</td>\n",
       "      <td>2.0</td>\n",
       "      <td>NaN</td>\n",
       "      <td>NaN</td>\n",
       "      <td>2.0</td>\n",
       "      <td>412</td>\n",
       "      <td>0.0049</td>\n",
       "    </tr>\n",
       "  </tbody>\n",
       "</table>\n",
       "</div>"
      ],
      "text/plain": [
       "                             url                               ts  \\\n",
       "0   https://ontime.vvta.org/gtfs 2022-09-15 14:59:54.274779+00:00   \n",
       "47  https://ontime.vvta.org/gtfs 2022-10-25 03:00:15.900936+00:00   \n",
       "48   https://thebuslive.com/gtfs 2022-09-15 14:59:54.274779+00:00   \n",
       "95   https://thebuslive.com/gtfs 2022-10-25 03:00:15.900936+00:00   \n",
       "\n",
       "    ct_no_full_dups  ct_all_full_dups  ct_mix_full_and_partial_dups  tot_dups  \\\n",
       "0               4.0              36.0                           6.0      46.0   \n",
       "47              NaN              26.0                           NaN      26.0   \n",
       "48              2.0               NaN                           NaN       2.0   \n",
       "95              2.0               NaN                           NaN       2.0   \n",
       "\n",
       "    num_trips  dup_prop  \n",
       "0        1307    0.0352  \n",
       "47       1838    0.0141  \n",
       "48        412    0.0049  \n",
       "95        412    0.0049  "
      ]
     },
     "execution_count": 197,
     "metadata": {},
     "output_type": "execute_result"
    }
   ],
   "source": [
    "dup_trips_summary[(dup_trips_summary.ts.dt.date == datetime.date(2022, 10, 25)) | (dup_trips_summary.ts.dt.date == datetime.date(2022, 9, 15))]"
   ]
  },
  {
   "cell_type": "code",
   "execution_count": 199,
   "id": "c529b8f5-20a7-4bb7-809c-baee5ba9e43d",
   "metadata": {},
   "outputs": [
    {
     "data": {
      "text/html": [
       "<div>\n",
       "<style scoped>\n",
       "    .dataframe tbody tr th:only-of-type {\n",
       "        vertical-align: middle;\n",
       "    }\n",
       "\n",
       "    .dataframe tbody tr th {\n",
       "        vertical-align: top;\n",
       "    }\n",
       "\n",
       "    .dataframe thead th {\n",
       "        text-align: right;\n",
       "    }\n",
       "</style>\n",
       "<table border=\"1\" class=\"dataframe\">\n",
       "  <thead>\n",
       "    <tr style=\"text-align: right;\">\n",
       "      <th></th>\n",
       "      <th>base64_url</th>\n",
       "      <th>ts</th>\n",
       "      <th>route_id</th>\n",
       "      <th>service_id</th>\n",
       "      <th>trip_id</th>\n",
       "      <th>shape_id</th>\n",
       "      <th>trip_headsign</th>\n",
       "      <th>direction_id</th>\n",
       "      <th>block_id</th>\n",
       "      <th>url</th>\n",
       "      <th>dummy</th>\n",
       "    </tr>\n",
       "  </thead>\n",
       "  <tbody>\n",
       "    <tr>\n",
       "      <th>1009</th>\n",
       "      <td>aHR0cHM6Ly90aGVidXNsaXZlLmNvbS9ndGZz</td>\n",
       "      <td>2022-10-25 03:00:15.900936+00:00</td>\n",
       "      <td>953</td>\n",
       "      <td>2</td>\n",
       "      <td>388</td>\n",
       "      <td>4388</td>\n",
       "      <td>Loop</td>\n",
       "      <td>0</td>\n",
       "      <td>316189</td>\n",
       "      <td>https://thebuslive.com/gtfs</td>\n",
       "      <td>1</td>\n",
       "    </tr>\n",
       "    <tr>\n",
       "      <th>1010</th>\n",
       "      <td>aHR0cHM6Ly90aGVidXNsaXZlLmNvbS9ndGZz</td>\n",
       "      <td>2022-10-25 03:00:15.900936+00:00</td>\n",
       "      <td>957</td>\n",
       "      <td>2</td>\n",
       "      <td>388</td>\n",
       "      <td>6249</td>\n",
       "      <td>Loop</td>\n",
       "      <td>0</td>\n",
       "      <td>316188</td>\n",
       "      <td>https://thebuslive.com/gtfs</td>\n",
       "      <td>1</td>\n",
       "    </tr>\n",
       "  </tbody>\n",
       "</table>\n",
       "</div>"
      ],
      "text/plain": [
       "                                base64_url                               ts  \\\n",
       "1009  aHR0cHM6Ly90aGVidXNsaXZlLmNvbS9ndGZz 2022-10-25 03:00:15.900936+00:00   \n",
       "1010  aHR0cHM6Ly90aGVidXNsaXZlLmNvbS9ndGZz 2022-10-25 03:00:15.900936+00:00   \n",
       "\n",
       "     route_id service_id trip_id shape_id trip_headsign  direction_id  \\\n",
       "1009      953          2     388     4388          Loop             0   \n",
       "1010      957          2     388     6249          Loop             0   \n",
       "\n",
       "     block_id                          url  dummy  \n",
       "1009   316189  https://thebuslive.com/gtfs      1  \n",
       "1010   316188  https://thebuslive.com/gtfs      1  "
      ]
     },
     "execution_count": 199,
     "metadata": {},
     "output_type": "execute_result"
    }
   ],
   "source": [
    "dup_trips[(dup_trips.url == 'https://thebuslive.com/gtfs') & (dup_trips.ts.dt.date == datetime.date(2022, 10, 25))]"
   ]
  },
  {
   "cell_type": "code",
   "execution_count": null,
   "id": "aff89e65-d2b7-4068-a0cc-5b2a41588256",
   "metadata": {},
   "outputs": [],
   "source": []
  }
 ],
 "metadata": {
  "kernelspec": {
   "display_name": "Python 3 (ipykernel)",
   "language": "python",
   "name": "python3"
  },
  "language_info": {
   "codemirror_mode": {
    "name": "ipython",
    "version": 3
   },
   "file_extension": ".py",
   "mimetype": "text/x-python",
   "name": "python",
   "nbconvert_exporter": "python",
   "pygments_lexer": "ipython3",
   "version": "3.10.6"
  }
 },
 "nbformat": 4,
 "nbformat_minor": 5
}
