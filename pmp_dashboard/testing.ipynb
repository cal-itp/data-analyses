{
 "cells": [
  {
   "cell_type": "code",
   "execution_count": 1,
   "id": "7a4e72e6-7a29-4ad6-b683-2162ebf48e42",
   "metadata": {},
   "outputs": [
    {
     "name": "stderr",
     "output_type": "stream",
     "text": [
      "/opt/conda/lib/python3.10/site-packages/geopandas/_compat.py:111: UserWarning: The Shapely GEOS version (3.10.2-CAPI-1.16.0) is incompatible with the GEOS version PyGEOS was compiled with (3.10.1-CAPI-1.16.0). Conversions between both will be slow.\n",
      "  warnings.warn(\n"
     ]
    }
   ],
   "source": [
    "import pandas as pd\n",
    "from calitp import *\n",
    "from shared_utils import rt_utils\n",
    "\n",
    "# Formatting the nb\n",
    "pd.options.display.max_columns = 100\n",
    "pd.set_option(\"display.max_rows\", None)\n",
    "pd.set_option(\"display.max_colwidth\", None)\n",
    "\n",
    "# Specific to this project\n",
    "import A1_utilities as utils"
   ]
  },
  {
   "cell_type": "code",
   "execution_count": 2,
   "id": "88ad3fd8-e203-4377-beda-48373a14a6c1",
   "metadata": {},
   "outputs": [],
   "source": [
    "GCS_FILE_PATH = \"gs://calitp-analytics-data/data-analyses/pmp_dashboard/\""
   ]
  },
  {
   "cell_type": "code",
   "execution_count": 3,
   "id": "9fa04da2-6aec-468e-aea7-915aa673527a",
   "metadata": {},
   "outputs": [],
   "source": [
    "appropriations_unwanted = []"
   ]
  },
  {
   "cell_type": "code",
   "execution_count": 4,
   "id": "c0bc5290-7cf7-49b7-97fe-b8e5f6f7ab46",
   "metadata": {},
   "outputs": [],
   "source": [
    "ap1 = utils.import_and_clean(\n",
    "    \"exp_bud_actual_prog_622608.xls\",\n",
    "    \"Download\",\n",
    "    appropriations_unwanted,\n",
    "    1,\n",
    ")"
   ]
  },
  {
   "cell_type": "code",
   "execution_count": 5,
   "id": "2d385ccc-cc3f-4ef0-bf71-d58c7a9b534c",
   "metadata": {},
   "outputs": [],
   "source": [
    "# opening up csv\n",
    "# ap1.to_csv(\"./test.csv\", index=False)"
   ]
  },
  {
   "cell_type": "code",
   "execution_count": 6,
   "id": "d58f82e6-3a01-4ec0-a188-3ac6ea64f96c",
   "metadata": {},
   "outputs": [],
   "source": [
    "def clean_up_columns(df):\n",
    "    df.columns = df.columns.str.replace(\"_\", \" \").str.title().str.strip()\n",
    "    return df"
   ]
  },
  {
   "cell_type": "code",
   "execution_count": 7,
   "id": "0f6bb62a-55ae-43e2-b92d-ec3bfe3ad4f5",
   "metadata": {},
   "outputs": [],
   "source": [
    "\"\"\"\n",
    "Timeline Sheet\n",
    "\"\"\"\n",
    "timeline_right_order = [\n",
    "    \"appr_catg\",\n",
    "    \"fund\",\n",
    "    \"fund_description\",\n",
    "    \"appropriation\",\n",
    "    \"pec_class\",\n",
    "    \"pec_class_description\",\n",
    "    \"ps_allocation\",\n",
    "    \"ps_expenditure\",\n",
    "    \"ps_balance\",\n",
    "    \"ps_%_expended\",\n",
    "    \"ps_projection\",\n",
    "    \"py_pos_alloc\",\n",
    "    \"act__hours\",\n",
    "    \"oe_allocation\",\n",
    "    \"oe_encumbrance\",\n",
    "    \"oe_expenditure\",\n",
    "    \"oe_balance\",\n",
    "    \"oe_enc_+_oe_exp_projection\",\n",
    "    \"oe_%_expended\",\n",
    "    \"total_allocation\",\n",
    "    \"total_expenditure\",\n",
    "    \"division\",\n",
    "    \"total_balance\",\n",
    "    \"total_projection\",\n",
    "    \"total_%_expended\",\n",
    "    \"ap\",\n",
    "]\n",
    "\n",
    "\n",
    "def create_timeline(df):\n",
    "    # Open up the sheet with all the accounting periods\n",
    "    timeline_all_aps = pd.read_excel(\n",
    "        f\"{GCS_FILE_PATH}running_list.xlsx\", sheet_name=\"timeline\"\n",
    "    )\n",
    "\n",
    "    # Drop irrelevant col(s)\n",
    "    df = df.drop(columns=\"year_expended_pace\")\n",
    "\n",
    "    # Rearrange to the right order\n",
    "    df = df[timeline_right_order]\n",
    "\n",
    "    # Clean up col names\n",
    "    df = clean_up_columns(df)\n",
    "\n",
    "    # Stack my df with the ones from previous month\n",
    "    c1 = pd.concat([df, timeline_all_aps], sort=False)\n",
    "\n",
    "    # Reset index\n",
    "    c1 = c1.reset_index(drop=True)\n",
    "\n",
    "    return c1"
   ]
  },
  {
   "cell_type": "code",
   "execution_count": 8,
   "id": "fb3337b0-762a-4885-b938-9ac524379767",
   "metadata": {},
   "outputs": [],
   "source": [
    "def create_psoe_timeline(df, ps_list: list, oe_list: list):\n",
    "\n",
    "    # Rename this column so I can concat both sheets properly\n",
    "    df = df.rename(columns={\"oe_enc_+_oe_exp_projection\": \"oe_projection\"})\n",
    "\n",
    "    # Create 2 dataframes that subsets out OE and PS\n",
    "    psoe_oe = utils.cleaning_psoe_tpsoe(df[oe_list], \"oe\")\n",
    "    psoe_ps = utils.cleaning_psoe_tpsoe(df[ps_list], \"ps\")\n",
    "\n",
    "    # Stack both dataframes on top of each other\n",
    "    c1 = pd.concat([psoe_ps, psoe_oe], sort=False)\n",
    "\n",
    "    # Rename column\n",
    "    c1 = c1.rename(columns={\"expenditure\": \"expense\"})\n",
    "\n",
    "    # Rearrange the dataframe in the right order\n",
    "    c1 = c1[utils.psoe_right_col_order]\n",
    "\n",
    "    # Fill in na\n",
    "    c1 = c1.fillna(0)\n",
    "\n",
    "    # Open up sheet with all accounting periods\n",
    "    psoe_all_aps = pd.read_excel(f\"{GCS_FILE_PATH}running_list.xlsx\", sheet_name=\"psoe\")\n",
    "\n",
    "    # Concat\n",
    "    c2 = pd.concat([c1, psoe_all_aps], sort=False).reset_index(drop=True)\n",
    "\n",
    "    # Clean up col names\n",
    "    c2 = clean_up_columns(c2)\n",
    "\n",
    "    return c2"
   ]
  },
  {
   "cell_type": "code",
   "execution_count": 12,
   "id": "0eb27e02-fd5f-420f-9580-6d4f4fd83c3a",
   "metadata": {},
   "outputs": [],
   "source": [
    "def pmp_dashboard_sheets(\n",
    "    file_name: str,\n",
    "    name_of_sheet: str,\n",
    "    appropriations_to_filter: list,\n",
    "    accounting_period: int,\n",
    "    year: str,\n",
    "):\n",
    "\n",
    "    \"\"\"Takes a cleaned data frame and returns\n",
    "    the entire Excel workbook for publishing the PMP dashboard.\n",
    "\n",
    "    Args:\n",
    "        df: cleaned dataframe fter using import_raw_data\n",
    "        unwanted_timeline_appropriations: additional filter option for timeline data\n",
    "        title: the name for your file, accounting_period_year\n",
    "\n",
    "    \"\"\"\n",
    "    # Running scripts for each sheet\n",
    "    df = utils.import_and_clean(\n",
    "        file_name, name_of_sheet, appropriations_to_filter, accounting_period\n",
    "    )\n",
    "    fund_by_div = clean_up_columns(utils.create_fund_by_division(df))\n",
    "    tspoe = clean_up_columns(\n",
    "        utils.create_tpsoe(df, utils.tpsoe_ps_list, utils.tpsoe_oe_list)\n",
    "    )\n",
    "    timeline = create_timeline(df)\n",
    "    psoe = create_psoe_timeline(df, utils.psoe_ps_cols, utils.psoe_oe_cols)\n",
    "\n",
    "    \"\"\"\n",
    "    # Filter out stuff for timeline\n",
    "    unwanted = timeline[\n",
    "        (timeline[\"appropriation\"] == unwanted_timeline_appropriations)\n",
    "        & (timeline[\"ps_allocation\"] == 0)\n",
    "        & (timeline[\"oe_allocation\"] == 0)\n",
    "    ]\n",
    "    timeline = timeline.drop(index=unwanted.index)\n",
    "    timeline = timeline.reset_index(drop=True)\n",
    "    \"\"\"\n",
    "\n",
    "    # Save to file with every single accounting period\n",
    "    with pd.ExcelWriter(f\"{GCS_FILE_PATH}all_accounting_periods.xlsx\") as writer:\n",
    "        timeline.to_excel(writer, sheet_name=\"timeline\", index=False)\n",
    "        psoe.to_excel(writer, sheet_name=\"psoe\", index=False)\n",
    "\n",
    "    # Save this month's output\n",
    "    with pd.ExcelWriter(f\"{GCS_FILE_PATH}AP_{accounting_period}_{year}.xlsx\") as writer:\n",
    "        fund_by_div.to_excel(writer, sheet_name=\"fund_by_div\", index=False)\n",
    "        tspoe.to_excel(writer, sheet_name=\"tspoe\", index=False)\n",
    "        timeline.to_excel(writer, sheet_name=\"timeline\", index=False)\n",
    "        psoe.to_excel(writer, sheet_name=\"psoe\", index=False)"
   ]
  },
  {
   "cell_type": "code",
   "execution_count": 13,
   "id": "9b31e4d7-be46-4adb-83e3-8c9088761c47",
   "metadata": {},
   "outputs": [
    {
     "name": "stderr",
     "output_type": "stream",
     "text": [
      "/home/jovyan/data-analyses/pmp_dashboard/A1_utilities.py:33: SettingWithCopyWarning: \n",
      "A value is trying to be set on a copy of a slice from a DataFrame.\n",
      "Try using .loc[row_indexer,col_indexer] = value instead\n",
      "\n",
      "See the caveats in the documentation: https://pandas.pydata.org/pandas-docs/stable/user_guide/indexing.html#returning-a-view-versus-a-copy\n",
      "/home/jovyan/data-analyses/pmp_dashboard/A1_utilities.py:33: SettingWithCopyWarning: \n",
      "A value is trying to be set on a copy of a slice from a DataFrame.\n",
      "Try using .loc[row_indexer,col_indexer] = value instead\n",
      "\n",
      "See the caveats in the documentation: https://pandas.pydata.org/pandas-docs/stable/user_guide/indexing.html#returning-a-view-versus-a-copy\n",
      "/home/jovyan/data-analyses/pmp_dashboard/A1_utilities.py:33: SettingWithCopyWarning: \n",
      "A value is trying to be set on a copy of a slice from a DataFrame.\n",
      "Try using .loc[row_indexer,col_indexer] = value instead\n",
      "\n",
      "See the caveats in the documentation: https://pandas.pydata.org/pandas-docs/stable/user_guide/indexing.html#returning-a-view-versus-a-copy\n",
      "/home/jovyan/data-analyses/pmp_dashboard/A1_utilities.py:33: SettingWithCopyWarning: \n",
      "A value is trying to be set on a copy of a slice from a DataFrame.\n",
      "Try using .loc[row_indexer,col_indexer] = value instead\n",
      "\n",
      "See the caveats in the documentation: https://pandas.pydata.org/pandas-docs/stable/user_guide/indexing.html#returning-a-view-versus-a-copy\n"
     ]
    }
   ],
   "source": [
    "pmp_dashboard_sheets(\"AP2 August.xls\", \"Download\", appropriations_unwanted, 2, \"21_22\")"
   ]
  },
  {
   "cell_type": "code",
   "execution_count": 14,
   "id": "50e2b3ce-2abb-4b7e-b3ba-a0320281b1c6",
   "metadata": {},
   "outputs": [
    {
     "ename": "NameError",
     "evalue": "name 'df1' is not defined",
     "output_type": "error",
     "traceback": [
      "\u001b[0;31m---------------------------------------------------------------------------\u001b[0m",
      "\u001b[0;31mNameError\u001b[0m                                 Traceback (most recent call last)",
      "Input \u001b[0;32mIn [14]\u001b[0m, in \u001b[0;36m<cell line: 1>\u001b[0;34m()\u001b[0m\n\u001b[0;32m----> 1\u001b[0m \u001b[38;5;28mlen\u001b[39m(\u001b[43mdf1\u001b[49m)\n",
      "\u001b[0;31mNameError\u001b[0m: name 'df1' is not defined"
     ]
    }
   ],
   "source": [
    "len(df1)"
   ]
  },
  {
   "cell_type": "code",
   "execution_count": null,
   "id": "6dc2e360-b3a8-481c-ab9e-c21971772f19",
   "metadata": {},
   "outputs": [],
   "source": [
    "df1.shape"
   ]
  },
  {
   "cell_type": "code",
   "execution_count": null,
   "id": "71da06ca-a3f6-4ab0-b47d-ff7ed0db1bde",
   "metadata": {},
   "outputs": [],
   "source": [
    "df1[\"Appropriation\"].unique()"
   ]
  },
  {
   "cell_type": "code",
   "execution_count": null,
   "id": "557854e9-d4e1-43b5-93fc-5c9e223a7518",
   "metadata": {
    "tags": []
   },
   "outputs": [],
   "source": [
    "df1.head(2)"
   ]
  },
  {
   "cell_type": "code",
   "execution_count": null,
   "id": "c9202d12-5ad2-4602-846a-70c6c2b64c4a",
   "metadata": {},
   "outputs": [],
   "source": [
    "df1_cols = [\n",
    "    \"ps_allocation\",\n",
    "    \"ps_expenditure\",\n",
    "    \"ps_balance\",\n",
    "    \"ps_projection\",\n",
    "    \"year_expended_pace\",\n",
    "    \"ps_%_expended\",\n",
    "    \"oe_allocation\",\n",
    "    \"oe_encumbrance\",\n",
    "    \"oe_expenditure\",\n",
    "    \"oe_balance\",\n",
    "    \"oe_enc_+_oe_exp_projection\",\n",
    "    \"oe_%_expended\",\n",
    "    \"total_allocation\",\n",
    "    \"total_expenditure\",\n",
    "    \"total_balance\",\n",
    "    \"total_projection\",\n",
    "    \"total_%_expended\",\n",
    "]"
   ]
  },
  {
   "cell_type": "code",
   "execution_count": null,
   "id": "11952e35-1a46-4993-a8cd-8cfbf3b28853",
   "metadata": {
    "tags": []
   },
   "outputs": [],
   "source": [
    "for i in df1_cols:\n",
    "    print(\"\\n\" + i)\n",
    "    print(ap12[i].sum())\n",
    "    print(ap_12_test[i].sum())"
   ]
  },
  {
   "cell_type": "code",
   "execution_count": null,
   "id": "09f5cf67-1f4a-48e2-993c-cb2cda3ecbd5",
   "metadata": {},
   "outputs": [],
   "source": [
    "ap_12_test.shape"
   ]
  },
  {
   "cell_type": "code",
   "execution_count": null,
   "id": "0d22bef7-c279-482f-90d5-59be4946b54f",
   "metadata": {},
   "outputs": [],
   "source": [
    "ap12.shape"
   ]
  },
  {
   "cell_type": "code",
   "execution_count": null,
   "id": "20a24602-cee3-472f-ab01-36222ce94070",
   "metadata": {
    "tags": []
   },
   "outputs": [],
   "source": [
    "df2.head()"
   ]
  },
  {
   "cell_type": "code",
   "execution_count": null,
   "id": "8e820635-9294-4555-be9f-3cee49edbddd",
   "metadata": {},
   "outputs": [],
   "source": [
    "df2_cols = [\n",
    "    \"allocation\",\n",
    "    \"expenditure\",\n",
    "    \"balance\",\n",
    "    \"encumbrance\",\n",
    "    \"projection\",\n",
    "]"
   ]
  },
  {
   "cell_type": "code",
   "execution_count": null,
   "id": "d4935ac4-7173-48db-99c4-b1452c3542d1",
   "metadata": {},
   "outputs": [],
   "source": [
    "for i in df2_cols:\n",
    "    print(\"\\n\" + i)\n",
    "    print(df2[i].sum())"
   ]
  },
  {
   "cell_type": "code",
   "execution_count": null,
   "id": "9e044721-8e4b-4df9-84df-8cfe3a699035",
   "metadata": {
    "tags": []
   },
   "outputs": [],
   "source": [
    "len(df3)"
   ]
  },
  {
   "cell_type": "code",
   "execution_count": null,
   "id": "b90b91cb-8627-468f-aa8a-4cdc3fe26691",
   "metadata": {},
   "outputs": [],
   "source": [
    "df3[\"appropriation\"].unique()"
   ]
  },
  {
   "cell_type": "code",
   "execution_count": null,
   "id": "5a7d7bd7-7e2b-4405-b548-d9b4a89dfffb",
   "metadata": {},
   "outputs": [],
   "source": [
    "df3.columns"
   ]
  },
  {
   "cell_type": "code",
   "execution_count": null,
   "id": "a716834a-8330-4600-bf7b-1d96fddb7009",
   "metadata": {},
   "outputs": [],
   "source": [
    "df3_cols = [\n",
    "    \"ps_allocation\",\n",
    "    \"ps_expenditure\",\n",
    "    \"ps_balance\",\n",
    "    \"oe_allocation\",\n",
    "    \"ps_projection\",\n",
    "    \"oe_expenditure\",\n",
    "    \"oe_balance\",\n",
    "    \"total_allocation\",\n",
    "    \"total_expenditure\",\n",
    "    \"total_balance\",\n",
    "    \"total_projection\",\n",
    "    \"oe_enc_+_oe_exp_projection\",\n",
    "    \"total_%_expended\",\n",
    "]"
   ]
  },
  {
   "cell_type": "code",
   "execution_count": null,
   "id": "7f880592-fcc2-4574-babb-c4ba8d921405",
   "metadata": {
    "tags": []
   },
   "outputs": [],
   "source": [
    "df3[\"ap\"].value_counts()"
   ]
  },
  {
   "cell_type": "code",
   "execution_count": null,
   "id": "eeef66df-d611-4d2d-af24-02ea6eda637e",
   "metadata": {},
   "outputs": [],
   "source": [
    "df4.shape"
   ]
  },
  {
   "cell_type": "code",
   "execution_count": null,
   "id": "b114be21-edc1-457d-ae8d-2e82aec661ac",
   "metadata": {
    "tags": []
   },
   "outputs": [],
   "source": [
    "df4[\"ap\"].value_counts()"
   ]
  },
  {
   "cell_type": "code",
   "execution_count": null,
   "id": "a6b86fce-1d09-4742-a46c-44569ba85c89",
   "metadata": {},
   "outputs": [],
   "source": [
    "df4_cols = [\"allocation\", \"expense\", \"balance\", \"projection\", \"encumbrance\"]"
   ]
  },
  {
   "cell_type": "code",
   "execution_count": null,
   "id": "92c0b826-629b-4ec0-a9fa-9c8516b9a988",
   "metadata": {},
   "outputs": [],
   "source": []
  }
 ],
 "metadata": {
  "kernelspec": {
   "display_name": "Python 3 (ipykernel)",
   "language": "python",
   "name": "python3"
  },
  "language_info": {
   "codemirror_mode": {
    "name": "ipython",
    "version": 3
   },
   "file_extension": ".py",
   "mimetype": "text/x-python",
   "name": "python",
   "nbconvert_exporter": "python",
   "pygments_lexer": "ipython3",
   "version": "3.10.4"
  }
 },
 "nbformat": 4,
 "nbformat_minor": 5
}
