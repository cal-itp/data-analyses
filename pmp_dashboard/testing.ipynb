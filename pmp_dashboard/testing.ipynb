{
 "cells": [
  {
   "cell_type": "code",
   "execution_count": null,
   "id": "7a4e72e6-7a29-4ad6-b683-2162ebf48e42",
   "metadata": {},
   "outputs": [],
   "source": [
    "import geopandas as gpd\n",
    "import numpy as np\n",
    "import pandas as pd\n",
    "from calitp import *\n",
    "from shared_utils import utils\n",
    "\n",
    "# Formatting the nb\n",
    "pd.options.display.max_columns = 100\n",
    "pd.set_option(\"display.max_rows\", None)\n",
    "pd.set_option(\"display.max_colwidth\", None)\n",
    "\n",
    "# Specific to this project\n",
    "import A1_utilities as utils"
   ]
  },
  {
   "cell_type": "code",
   "execution_count": null,
   "id": "88ad3fd8-e203-4377-beda-48373a14a6c1",
   "metadata": {},
   "outputs": [],
   "source": [
    "GCS_FILE_PATH = \"gs://calitp-analytics-data/data-analyses/pmp_dashboard/\""
   ]
  },
  {
   "cell_type": "code",
   "execution_count": null,
   "id": "23d7c5b3-ca92-4846-96b8-69b293ab567e",
   "metadata": {},
   "outputs": [],
   "source": [
    "# DF that William manipulated\n",
    "FILE_NAME_1 = \"PMP Summary Report Data.xlsx\"\n",
    "\n",
    "# Sheets in William's notebook that I want\n",
    "sheets_list = [\"Fund by Division Data\", \"TPSOE Data\", \"Timeline Data\", \"PSOE Timeline\"]\n",
    "\n",
    "dict_df1 = pd.read_excel(f\"{GCS_FILE_PATH}{FILE_NAME_1}\", sheet_name=sheets_list)\n",
    "\n",
    "division_df = to_snakecase(dict_df1.get(\"Fund by Division Data\"))\n",
    "tpsoe_df = to_snakecase(dict_df1.get(\"TPSOE Data\"))\n",
    "timeline_df = to_snakecase(dict_df1.get(\"Timeline Data\"))\n",
    "psoe_df = to_snakecase(dict_df1.get(\"PSOE Timeline\"))"
   ]
  },
  {
   "cell_type": "code",
   "execution_count": null,
   "id": "9bb8054c-8473-4232-807e-22b84e18f97e",
   "metadata": {},
   "outputs": [],
   "source": [
    "GCS_FILE_PATH = \"gs://calitp-analytics-data/data-analyses/pmp_dashboard/\""
   ]
  },
  {
   "cell_type": "code",
   "execution_count": null,
   "id": "9fa04da2-6aec-468e-aea7-915aa673527a",
   "metadata": {},
   "outputs": [],
   "source": [
    "appropriations_unwanted = [\"22105\"]"
   ]
  },
  {
   "cell_type": "code",
   "execution_count": null,
   "id": "f02f46e8-3fc5-49f0-8639-bbe0a1d179b9",
   "metadata": {},
   "outputs": [],
   "source": [
    "def pmp_dashboard_sheets(\n",
    "    file_name: str,\n",
    "    name_of_sheet: str,\n",
    "    appropriations_to_filter: list,\n",
    "    accounting_period: int,\n",
    "    unwanted_timeline_appropriations: str,\n",
    "):\n",
    "\n",
    "    # The original sheet\n",
    "    df = utils.import_raw_data(\n",
    "        file_name, name_of_sheet, appropriations_to_filter, accounting_period\n",
    "    )\n",
    "\n",
    "    # Running scripts for each sheet\n",
    "    fund_by_div = utils.create_fund_by_division(df)\n",
    "    tspoe = utils.create_tpsoe(df, utils.tpsoe_ps_list, utils.tpsoe_oe_list)\n",
    "    timeline = utils.create_timeline(utils.my_clean_dataframes)\n",
    "    psoe = utils.create_psoe_timeline(timeline, utils.psoe_ps_cols, utils.psoe_oe_cols)\n",
    "\n",
    "    # Filter out stuff for timeline\n",
    "    unwanted = timeline[\n",
    "        (timeline[\"appropriation\"] == unwanted_timeline_appropriations)\n",
    "        & (timeline[\"ps_allocation\"] == 0)\n",
    "        & (timeline[\"oe_allocation\"] == 0)\n",
    "    ]\n",
    "    timeline = timeline.drop(index=unwanted.index)\n",
    "    timeline = timeline.reset_index(drop=True)\n",
    "\n",
    "    # Save\n",
    "    with pd.ExcelWriter(\n",
    "        f\"{GCS_FILE_PATH}AP_{accounting_period}_cleaned_data.xlsx\"\n",
    "    ) as writer:\n",
    "        fund_by_div.to_excel(writer, sheet_name=\"fund_by_div\", index=False)\n",
    "        tspoe.to_excel(writer, sheet_name=\"tspoe\", index=False)\n",
    "        timeline.to_excel(writer, sheet_name=\"timeline\", index=False)\n",
    "        psoe.to_excel(writer, sheet_name=\"psoe\", index=False)\n",
    "\n",
    "    return fund_by_div, tspoe, timeline, psoe"
   ]
  },
  {
   "cell_type": "code",
   "execution_count": null,
   "id": "3a7a5528-0697-4ef7-813e-0c87f43a7ea6",
   "metadata": {},
   "outputs": [],
   "source": [
    "df1, df2, df3, df4 = pmp_dashboard_sheets(\n",
    "    \"AP12 June.xls\", \"Download\", appropriations_unwanted, 12, \"22030\"\n",
    ")"
   ]
  },
  {
   "cell_type": "code",
   "execution_count": null,
   "id": "8c110d37-741e-4b47-b834-e916318d58dd",
   "metadata": {},
   "outputs": [],
   "source": [
    "# df1, df2, df3, df4 = pmp_dashboard_sheets(ap11, \"accountingperiod11\", \"22030\")"
   ]
  },
  {
   "cell_type": "markdown",
   "id": "88729f0c-3dc9-48d9-816d-70b77eac7416",
   "metadata": {},
   "source": [
    "# Fund by Div"
   ]
  },
  {
   "cell_type": "code",
   "execution_count": null,
   "id": "50e2b3ce-2abb-4b7e-b3ba-a0320281b1c6",
   "metadata": {},
   "outputs": [],
   "source": [
    "len(df1)"
   ]
  },
  {
   "cell_type": "code",
   "execution_count": null,
   "id": "6dc2e360-b3a8-481c-ab9e-c21971772f19",
   "metadata": {},
   "outputs": [],
   "source": [
    "df1.shape"
   ]
  },
  {
   "cell_type": "code",
   "execution_count": null,
   "id": "fbc9c457-8c81-4ed3-954b-cab4a06e92d3",
   "metadata": {},
   "outputs": [],
   "source": [
    "division_df.shape"
   ]
  },
  {
   "cell_type": "code",
   "execution_count": null,
   "id": "71da06ca-a3f6-4ab0-b47d-ff7ed0db1bde",
   "metadata": {},
   "outputs": [],
   "source": [
    "df1[\"appropriation\"].unique()"
   ]
  },
  {
   "cell_type": "code",
   "execution_count": null,
   "id": "cdb84d69-c264-4fc8-805e-2484da540529",
   "metadata": {},
   "outputs": [],
   "source": [
    "set(df1.columns).difference(set(division_df.columns))"
   ]
  },
  {
   "cell_type": "code",
   "execution_count": null,
   "id": "aaada782-07cc-4115-b379-176a1a58cbf0",
   "metadata": {},
   "outputs": [],
   "source": [
    "set(division_df.columns).difference(set(df1.columns))"
   ]
  },
  {
   "cell_type": "code",
   "execution_count": null,
   "id": "557854e9-d4e1-43b5-93fc-5c9e223a7518",
   "metadata": {},
   "outputs": [],
   "source": [
    "df1.head()"
   ]
  },
  {
   "cell_type": "code",
   "execution_count": null,
   "id": "b097672f-d58d-4c58-90b0-9738525d1e1c",
   "metadata": {},
   "outputs": [],
   "source": [
    "df1_cols = [\n",
    "    \"ps_allocation\",\n",
    "    \"ps_expenditure\",\n",
    "    \"ps_balance\",\n",
    "    \"ps_projection\",\n",
    "    \"oe_allocation\",\n",
    "    \"oe_encumbrance\",\n",
    "    \"oe_expenditure\",\n",
    "    \"oe_balance\",\n",
    "    \"total_allocation\",\n",
    "    \"total_expenditure\",\n",
    "    \"total_balance\",\n",
    "]"
   ]
  },
  {
   "cell_type": "code",
   "execution_count": null,
   "id": "8116824c-991a-4d4b-b547-bc23df6ba711",
   "metadata": {
    "tags": []
   },
   "outputs": [],
   "source": [
    "for i in df1_cols:\n",
    "    print(\"\\n\" + i)\n",
    "    print(df1[i].sum())"
   ]
  },
  {
   "cell_type": "markdown",
   "id": "074080ed-8c1b-4bc6-bb17-bc16ff04ec69",
   "metadata": {},
   "source": [
    "# TPSOE Data"
   ]
  },
  {
   "cell_type": "code",
   "execution_count": null,
   "id": "20a24602-cee3-472f-ab01-36222ce94070",
   "metadata": {
    "tags": []
   },
   "outputs": [],
   "source": [
    "df2.head()"
   ]
  },
  {
   "cell_type": "code",
   "execution_count": null,
   "id": "cbc5c2a9-134e-4892-b277-af47aeffc722",
   "metadata": {},
   "outputs": [],
   "source": [
    "tpsoe_df.head()"
   ]
  },
  {
   "cell_type": "code",
   "execution_count": null,
   "id": "8e820635-9294-4555-be9f-3cee49edbddd",
   "metadata": {},
   "outputs": [],
   "source": [
    "df2_cols = [\n",
    "    \"allocation\",\n",
    "    \"expenditure\",\n",
    "    \"balance\",\n",
    "    \"encumbrance\",\n",
    "    \"projection\",\n",
    "]"
   ]
  },
  {
   "cell_type": "code",
   "execution_count": null,
   "id": "d4935ac4-7173-48db-99c4-b1452c3542d1",
   "metadata": {},
   "outputs": [],
   "source": [
    "for i in df2_cols:\n",
    "    print(\"\\n\" + i)\n",
    "    print(df2[i].sum())"
   ]
  },
  {
   "cell_type": "markdown",
   "id": "d1255e1f-5e48-47b1-b108-d4cf321a1ede",
   "metadata": {},
   "source": [
    "# Timeline Data"
   ]
  },
  {
   "cell_type": "code",
   "execution_count": null,
   "id": "9e044721-8e4b-4df9-84df-8cfe3a699035",
   "metadata": {
    "tags": []
   },
   "outputs": [],
   "source": [
    "len(df3)"
   ]
  },
  {
   "cell_type": "code",
   "execution_count": null,
   "id": "27edc0f4-83b7-47bf-a3dc-f2dee61458a9",
   "metadata": {},
   "outputs": [],
   "source": [
    "timeline_df.head()"
   ]
  },
  {
   "cell_type": "code",
   "execution_count": null,
   "id": "b90b91cb-8627-468f-aa8a-4cdc3fe26691",
   "metadata": {},
   "outputs": [],
   "source": [
    "df3[\"appropriation\"].unique()"
   ]
  },
  {
   "cell_type": "code",
   "execution_count": null,
   "id": "bd57489b-20ba-46ee-a0b5-6ed01325f89b",
   "metadata": {},
   "outputs": [],
   "source": [
    "set(df3.columns).difference(set(timeline_df.columns))"
   ]
  },
  {
   "cell_type": "code",
   "execution_count": null,
   "id": "ebd9c897-d1aa-4902-83fe-64544dd0d253",
   "metadata": {},
   "outputs": [],
   "source": [
    "set(timeline_df.columns).difference(set(df3.columns))"
   ]
  },
  {
   "cell_type": "code",
   "execution_count": null,
   "id": "7f880592-fcc2-4574-babb-c4ba8d921405",
   "metadata": {
    "tags": []
   },
   "outputs": [],
   "source": [
    "df3[\"ap\"].value_counts()"
   ]
  },
  {
   "cell_type": "code",
   "execution_count": null,
   "id": "a2e011fa-a0b1-475c-b41a-dc56d07c3ec0",
   "metadata": {},
   "outputs": [],
   "source": [
    "for i in df3_cols:\n",
    "    print(\"\\n\" + i)\n",
    "    print(df3[i].sum())"
   ]
  },
  {
   "cell_type": "code",
   "execution_count": null,
   "id": "5fd24788-9b6c-40ee-89d0-2dd71b15b310",
   "metadata": {},
   "outputs": [],
   "source": [
    "for i in df3_cols:\n",
    "    print(\"\\n\" + i)\n",
    "    print(ap10[i].sum() + ap11[i].sum() + ap12[i].sum())"
   ]
  },
  {
   "cell_type": "code",
   "execution_count": null,
   "id": "ca4c5d2a-2d16-4f34-8a6b-e1740c82c692",
   "metadata": {},
   "outputs": [],
   "source": [
    "for i in df3_cols:\n",
    "    print(\"\\n\" + i)\n",
    "    print(ap10[i].sum())"
   ]
  },
  {
   "cell_type": "code",
   "execution_count": null,
   "id": "ea35f943-03da-4a5d-b7cd-be54e768b59a",
   "metadata": {},
   "outputs": [],
   "source": [
    "for i in df3_cols:\n",
    "    print(\"\\n\" + i)\n",
    "    print(ap11[i].sum())"
   ]
  },
  {
   "cell_type": "markdown",
   "id": "53ff3419-6b19-46df-9c8f-989986df6c5b",
   "metadata": {},
   "source": [
    "# PSOE Timeline"
   ]
  },
  {
   "cell_type": "code",
   "execution_count": null,
   "id": "eeef66df-d611-4d2d-af24-02ea6eda637e",
   "metadata": {},
   "outputs": [],
   "source": [
    "df4.shape"
   ]
  },
  {
   "cell_type": "code",
   "execution_count": null,
   "id": "b114be21-edc1-457d-ae8d-2e82aec661ac",
   "metadata": {
    "tags": []
   },
   "outputs": [],
   "source": [
    "df4.head()"
   ]
  },
  {
   "cell_type": "code",
   "execution_count": null,
   "id": "22cbc49a-891e-47c5-a1d6-72831d4f5c50",
   "metadata": {},
   "outputs": [],
   "source": [
    "psoe_df.head()"
   ]
  },
  {
   "cell_type": "code",
   "execution_count": null,
   "id": "a6b86fce-1d09-4742-a46c-44569ba85c89",
   "metadata": {},
   "outputs": [],
   "source": [
    "df4_cols = [\"allocation\", \"expense\", \"balance\", \"projection\", \"encumbrance\"]"
   ]
  },
  {
   "cell_type": "code",
   "execution_count": null,
   "id": "92c0b826-629b-4ec0-a9fa-9c8516b9a988",
   "metadata": {},
   "outputs": [],
   "source": []
  }
 ],
 "metadata": {
  "kernelspec": {
   "display_name": "Python 3 (ipykernel)",
   "language": "python",
   "name": "python3"
  },
  "language_info": {
   "codemirror_mode": {
    "name": "ipython",
    "version": 3
   },
   "file_extension": ".py",
   "mimetype": "text/x-python",
   "name": "python",
   "nbconvert_exporter": "python",
   "pygments_lexer": "ipython3",
   "version": "3.10.4"
  }
 },
 "nbformat": 4,
 "nbformat_minor": 5
}
