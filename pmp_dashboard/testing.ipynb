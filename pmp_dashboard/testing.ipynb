{
 "cells": [
  {
   "cell_type": "code",
   "execution_count": 1,
   "id": "7a4e72e6-7a29-4ad6-b683-2162ebf48e42",
   "metadata": {},
   "outputs": [
    {
     "name": "stderr",
     "output_type": "stream",
     "text": [
      "/opt/conda/lib/python3.10/site-packages/geopandas/_compat.py:111: UserWarning: The Shapely GEOS version (3.10.2-CAPI-1.16.0) is incompatible with the GEOS version PyGEOS was compiled with (3.10.1-CAPI-1.16.0). Conversions between both will be slow.\n",
      "  warnings.warn(\n"
     ]
    }
   ],
   "source": [
    "import geopandas as gpd\n",
    "import numpy as np\n",
    "import pandas as pd\n",
    "from calitp import *\n",
    "from shared_utils import utils\n",
    "\n",
    "# Formatting the nb\n",
    "pd.options.display.max_columns = 100\n",
    "pd.set_option(\"display.max_rows\", None)\n",
    "pd.set_option(\"display.max_colwidth\", None)\n",
    "\n",
    "# Specific to this project\n",
    "import A1_utilities as utils"
   ]
  },
  {
   "cell_type": "code",
   "execution_count": 2,
   "id": "9bb8054c-8473-4232-807e-22b84e18f97e",
   "metadata": {},
   "outputs": [],
   "source": [
    "GCS_FILE_PATH = \"gs://calitp-analytics-data/data-analyses/pmp_dashboard/\""
   ]
  },
  {
   "cell_type": "code",
   "execution_count": 3,
   "id": "0980f2b8-426e-43ad-88c8-cff64f3202f8",
   "metadata": {},
   "outputs": [],
   "source": [
    "unwanted_appropriations = []"
   ]
  },
  {
   "cell_type": "code",
   "execution_count": 4,
   "id": "ba01e5ca-f5cb-4382-9eec-ccdffb7d7b64",
   "metadata": {},
   "outputs": [],
   "source": [
    "ap11 = utils.import_raw_data(\n",
    "    \"FY 2122 AP11_Closed_PMP Summary Report.022822_Updated.xlsx\",\n",
    "    \"Raw Data AP11 Closed\",\n",
    "    unwanted_appropriations,\n",
    ")"
   ]
  },
  {
   "cell_type": "code",
   "execution_count": 5,
   "id": "67fceda4-2c29-4c71-a858-2ba8a6e53bd2",
   "metadata": {},
   "outputs": [],
   "source": [
    "ap10 = utils.import_raw_data(\n",
    "    \"FY 2122 AP10_Closed_PMP Summary Report.022822_Andrew Updated.xlsx\",\n",
    "    \"Raw Data AP10 Closed\",\n",
    "    unwanted_appropriations,\n",
    ")"
   ]
  },
  {
   "cell_type": "code",
   "execution_count": 12,
   "id": "42b4d39b-aff7-453c-af27-60e011af1ff7",
   "metadata": {},
   "outputs": [],
   "source": [
    "ap12 = utils.import_raw_data(\n",
    "    \"FY 2122 AP12_Closed_PMP Summary Report.022822_Updated.xlsx\",\n",
    "    \"Raw Data AP12 Closed\",\n",
    "    unwanted_appropriations,\n",
    ")"
   ]
  },
  {
   "cell_type": "code",
   "execution_count": 6,
   "id": "b9cf4656-cb57-4af7-97c3-3d81fa38dd3b",
   "metadata": {},
   "outputs": [],
   "source": [
    "def pmp_dashboard_sheets(df):\n",
    "    \n",
    "    fund_by_div = utils.create_fund_by_division(df)\n",
    "    tspoe = utils.create_tpsoe(df, utils.tpsoe_ps_list, utils.tpsoe_oe_list)\n",
    "    timeline = utils.create_timeline(utils.my_clean_dataframes)\n",
    "    psoe = utils.create_psoe_timeline(timeline, utils.psoe_ps_cols, utils.psoe_oe_cols)\n",
    "\n",
    "    # How to save this to sharepoint\n",
    "    return fund_by_div, tspoe, timeline, psoe"
   ]
  },
  {
   "cell_type": "code",
   "execution_count": 7,
   "id": "8c110d37-741e-4b47-b834-e916318d58dd",
   "metadata": {},
   "outputs": [
    {
     "name": "stderr",
     "output_type": "stream",
     "text": [
      "/home/jovyan/data-analyses/pmp_dashboard/A1_utilities.py:34: SettingWithCopyWarning: \n",
      "A value is trying to be set on a copy of a slice from a DataFrame.\n",
      "Try using .loc[row_indexer,col_indexer] = value instead\n",
      "\n",
      "See the caveats in the documentation: https://pandas.pydata.org/pandas-docs/stable/user_guide/indexing.html#returning-a-view-versus-a-copy\n",
      "/home/jovyan/data-analyses/pmp_dashboard/A1_utilities.py:34: SettingWithCopyWarning: \n",
      "A value is trying to be set on a copy of a slice from a DataFrame.\n",
      "Try using .loc[row_indexer,col_indexer] = value instead\n",
      "\n",
      "See the caveats in the documentation: https://pandas.pydata.org/pandas-docs/stable/user_guide/indexing.html#returning-a-view-versus-a-copy\n",
      "/home/jovyan/data-analyses/pmp_dashboard/A1_utilities.py:34: SettingWithCopyWarning: \n",
      "A value is trying to be set on a copy of a slice from a DataFrame.\n",
      "Try using .loc[row_indexer,col_indexer] = value instead\n",
      "\n",
      "See the caveats in the documentation: https://pandas.pydata.org/pandas-docs/stable/user_guide/indexing.html#returning-a-view-versus-a-copy\n",
      "/home/jovyan/data-analyses/pmp_dashboard/A1_utilities.py:34: SettingWithCopyWarning: \n",
      "A value is trying to be set on a copy of a slice from a DataFrame.\n",
      "Try using .loc[row_indexer,col_indexer] = value instead\n",
      "\n",
      "See the caveats in the documentation: https://pandas.pydata.org/pandas-docs/stable/user_guide/indexing.html#returning-a-view-versus-a-copy\n"
     ]
    }
   ],
   "source": [
    "df1, df2, df3, df4 = pmp_dashboard_sheets(utils.import_raw_data(\n",
    "    \"FY 2122 AP12_Closed_PMP Summary Report.022822_Updated.xlsx\",\n",
    "    \"Raw Data AP12 Closed\",\n",
    "    unwanted_appropriations,\n",
    "))"
   ]
  },
  {
   "cell_type": "code",
   "execution_count": 11,
   "id": "50e2b3ce-2abb-4b7e-b3ba-a0320281b1c6",
   "metadata": {},
   "outputs": [
    {
     "data": {
      "text/plain": [
       "55"
      ]
     },
     "execution_count": 11,
     "metadata": {},
     "output_type": "execute_result"
    }
   ],
   "source": [
    "len(df1)"
   ]
  },
  {
   "cell_type": "code",
   "execution_count": 9,
   "id": "b097672f-d58d-4c58-90b0-9738525d1e1c",
   "metadata": {},
   "outputs": [],
   "source": [
    "df1_cols = ['ps_allocation', 'ps_expenditure',\n",
    "       'ps_balance', 'ps_projection', \n",
    "        'oe_allocation', 'oe_encumbrance', 'oe_expenditure',\n",
    "       'oe_balance', 'oe_projection', 'total_allocation',\n",
    "       'total_expenditure', 'total_balance', 'total_projection',]"
   ]
  },
  {
   "cell_type": "code",
   "execution_count": 10,
   "id": "8116824c-991a-4d4b-b547-bc23df6ba711",
   "metadata": {
    "tags": []
   },
   "outputs": [
    {
     "name": "stdout",
     "output_type": "stream",
     "text": [
      "\n",
      "ps_allocation\n",
      "244928000\n",
      "\n",
      "ps_expenditure\n",
      "211313061.69999996\n",
      "\n",
      "ps_balance\n",
      "33614938.3\n",
      "\n",
      "ps_projection\n",
      "211313061.69999996\n",
      "\n",
      "oe_allocation\n",
      "233766000\n",
      "\n",
      "oe_encumbrance\n",
      "249639535.57000005\n",
      "\n",
      "oe_expenditure\n",
      "97354512.35999998\n",
      "\n",
      "oe_balance\n",
      "-113228047.92999998\n",
      "\n",
      "oe_projection\n",
      "346949724.18801653\n",
      "\n",
      "total_allocation\n",
      "478694000\n",
      "\n",
      "total_expenditure\n",
      "558307109.6300001\n",
      "\n",
      "total_balance\n",
      "-79613109.63000003\n",
      "\n",
      "total_projection\n",
      "558262785.8880167\n"
     ]
    }
   ],
   "source": [
    "for i in df1_cols:\n",
    "    print(\"\\n\" + i)\n",
    "    print(df1[i].sum())"
   ]
  },
  {
   "cell_type": "code",
   "execution_count": 21,
   "id": "6d4da259-5aa6-47be-b0b7-c5b8276d60b5",
   "metadata": {},
   "outputs": [],
   "source": [
    "df2_cols = ['allocation', 'expenditure', 'balance', 'encumbrance',\n",
    "       'projection']"
   ]
  },
  {
   "cell_type": "code",
   "execution_count": 22,
   "id": "d4935ac4-7173-48db-99c4-b1452c3542d1",
   "metadata": {},
   "outputs": [
    {
     "name": "stdout",
     "output_type": "stream",
     "text": [
      "\n",
      "allocation\n",
      "478694000.0\n",
      "\n",
      "expenditure\n",
      "308667574.06\n",
      "\n",
      "balance\n",
      "-79613109.63\n",
      "\n",
      "encumbrance\n",
      "249639535.57\n",
      "\n",
      "projection\n",
      "558262785.8880165\n"
     ]
    }
   ],
   "source": [
    "for i in df2_cols:\n",
    "    print(\"\\n\" + i)\n",
    "    print(df2[i].sum())"
   ]
  },
  {
   "cell_type": "code",
   "execution_count": 24,
   "id": "9e044721-8e4b-4df9-84df-8cfe3a699035",
   "metadata": {
    "tags": []
   },
   "outputs": [
    {
     "data": {
      "text/plain": [
       "172"
      ]
     },
     "execution_count": 24,
     "metadata": {},
     "output_type": "execute_result"
    }
   ],
   "source": [
    "len(df3)"
   ]
  },
  {
   "cell_type": "code",
   "execution_count": 30,
   "id": "6fe4ed42-8dc8-4db1-9a05-19a3dcfe5adc",
   "metadata": {},
   "outputs": [],
   "source": [
    "df3_cols = ['ps_allocation', 'ps_expenditure',\n",
    "       'ps_balance', 'ps_projection', 'oe_allocation',\n",
    "       'oe_encumbrance', 'oe_expenditure', 'oe_balance', 'oe_projection']"
   ]
  }
 ],
 "metadata": {
  "kernelspec": {
   "display_name": "Python 3 (ipykernel)",
   "language": "python",
   "name": "python3"
  },
  "language_info": {
   "codemirror_mode": {
    "name": "ipython",
    "version": 3
   },
   "file_extension": ".py",
   "mimetype": "text/x-python",
   "name": "python",
   "nbconvert_exporter": "python",
   "pygments_lexer": "ipython3",
   "version": "3.10.4"
  }
 },
 "nbformat": 4,
 "nbformat_minor": 5
}
