{
 "cells": [
  {
   "cell_type": "code",
   "execution_count": null,
   "id": "7a4e72e6-7a29-4ad6-b683-2162ebf48e42",
   "metadata": {},
   "outputs": [],
   "source": [
    "import geopandas as gpd\n",
    "import numpy as np\n",
    "import pandas as pd\n",
    "from calitp import *\n",
    "from shared_utils import utils\n",
    "\n",
    "# Formatting the nb\n",
    "pd.options.display.max_columns = 100\n",
    "pd.set_option(\"display.max_rows\", None)\n",
    "pd.set_option(\"display.max_colwidth\", None)\n",
    "\n",
    "# Specific to this project\n",
    "import A1_utilities as utils"
   ]
  },
  {
   "cell_type": "code",
   "execution_count": null,
   "id": "88ad3fd8-e203-4377-beda-48373a14a6c1",
   "metadata": {},
   "outputs": [],
   "source": [
    "GCS_FILE_PATH = \"gs://calitp-analytics-data/data-analyses/pmp_dashboard/\""
   ]
  },
  {
   "cell_type": "code",
   "execution_count": null,
   "id": "9fa04da2-6aec-468e-aea7-915aa673527a",
   "metadata": {},
   "outputs": [],
   "source": [
    "appropriations_unwanted = []"
   ]
  },
  {
   "cell_type": "code",
   "execution_count": null,
   "id": "5fc887b6-d52c-4440-b07b-c3b34b03bfe5",
   "metadata": {},
   "outputs": [],
   "source": [
    "ap10 = utils.import_and_clean(\n",
    "    \"AP10 April .xls\", \"Download\", appropriations_unwanted, 10\n",
    ")"
   ]
  },
  {
   "cell_type": "code",
   "execution_count": null,
   "id": "8c110d37-741e-4b47-b834-e916318d58dd",
   "metadata": {},
   "outputs": [],
   "source": [
    "ap11 = utils.import_and_clean(\"AP11 May.xls\", \"Download\", appropriations_unwanted, 11)"
   ]
  },
  {
   "cell_type": "code",
   "execution_count": null,
   "id": "c0bc5290-7cf7-49b7-97fe-b8e5f6f7ab46",
   "metadata": {},
   "outputs": [],
   "source": [
    "ap12 = utils.import_and_clean(\n",
    "    \"AP12 June.xls\",\n",
    "    \"Download\",\n",
    "    appropriations_unwanted,\n",
    "    12,\n",
    ")"
   ]
  },
  {
   "cell_type": "code",
   "execution_count": null,
   "id": "3a7a5528-0697-4ef7-813e-0c87f43a7ea6",
   "metadata": {},
   "outputs": [],
   "source": [
    "df1, df2, df3, df4 = utils.pmp_dashboard_sheets(ap12, \"22030\", \"12_2022\")"
   ]
  },
  {
   "cell_type": "code",
   "execution_count": null,
   "id": "9465a6c6-84ac-4302-832f-751553e0e99d",
   "metadata": {},
   "outputs": [],
   "source": [
    "df4.head()"
   ]
  },
  {
   "cell_type": "code",
   "execution_count": null,
   "id": "bb961b42-aad4-4d10-8b0f-87c03c05f065",
   "metadata": {},
   "outputs": [],
   "source": [
    "int_cols = [\n",
    "    \"ps_alloc\",\n",
    "    \"ps_exp\",\n",
    "    \"ps_bal\",\n",
    "    \"py_pos_alloc\",\n",
    "    \"act__hours\",\n",
    "    \"oe_alloc\",\n",
    "    \"oe_enc\",\n",
    "    \"oe_exp\",\n",
    "    \"oe_bal_excl_pre_enc\",\n",
    "]"
   ]
  },
  {
   "cell_type": "code",
   "execution_count": null,
   "id": "fe1c1a4d-2cac-4bc2-9b35-71cb2ae1f896",
   "metadata": {},
   "outputs": [],
   "source": [
    "my_clean_dataframes = []"
   ]
  },
  {
   "cell_type": "code",
   "execution_count": null,
   "id": "b4c94c32-6d20-437c-9aa5-b97b0fb12ab2",
   "metadata": {},
   "outputs": [],
   "source": [
    "div_crosswalks = {\n",
    "    \"State & Fed Mass Trans\": \"DRMT\",\n",
    "    \"Statewide Planning\": \"DOTP\",\n",
    "    \"Research\": \"DRISI\",\n",
    "    \"PSR/PSSR Development\": \"DOTP\",\n",
    "    \"Rail\": \"DRMT\",\n",
    "    \"Planning Administration\": \"DOTP\",\n",
    "    \"Regional Planning\": \"DOTP\",\n",
    "}"
   ]
  },
  {
   "cell_type": "code",
   "execution_count": null,
   "id": "a946eabe-4cb6-4060-abda-e87971820a5f",
   "metadata": {
    "scrolled": true,
    "tags": []
   },
   "outputs": [],
   "source": [
    "ap_12_test = import_clean_data(\"AP12 June.xls\", \"Download\", appropriations_unwanted, 12)"
   ]
  },
  {
   "cell_type": "markdown",
   "id": "88729f0c-3dc9-48d9-816d-70b77eac7416",
   "metadata": {},
   "source": [
    "# Fund by Div"
   ]
  },
  {
   "cell_type": "code",
   "execution_count": null,
   "id": "50e2b3ce-2abb-4b7e-b3ba-a0320281b1c6",
   "metadata": {},
   "outputs": [],
   "source": [
    "len(df1)"
   ]
  },
  {
   "cell_type": "code",
   "execution_count": null,
   "id": "6dc2e360-b3a8-481c-ab9e-c21971772f19",
   "metadata": {},
   "outputs": [],
   "source": [
    "df1.shape"
   ]
  },
  {
   "cell_type": "code",
   "execution_count": null,
   "id": "71da06ca-a3f6-4ab0-b47d-ff7ed0db1bde",
   "metadata": {},
   "outputs": [],
   "source": [
    "df1[\"Appropriation\"].unique()"
   ]
  },
  {
   "cell_type": "code",
   "execution_count": null,
   "id": "557854e9-d4e1-43b5-93fc-5c9e223a7518",
   "metadata": {
    "tags": []
   },
   "outputs": [],
   "source": [
    "df1.head(2)"
   ]
  },
  {
   "cell_type": "code",
   "execution_count": null,
   "id": "c9202d12-5ad2-4602-846a-70c6c2b64c4a",
   "metadata": {},
   "outputs": [],
   "source": [
    "df1_cols = [\n",
    "    \"ps_allocation\",\n",
    "    \"ps_expenditure\",\n",
    "    \"ps_balance\",\n",
    "    \"ps_projection\",\n",
    "    \"year_expended_pace\",\n",
    "    \"ps_%_expended\",\n",
    "    \"oe_allocation\",\n",
    "    \"oe_encumbrance\",\n",
    "    \"oe_expenditure\",\n",
    "    \"oe_balance\",\n",
    "    \"oe_enc_+_oe_exp_projection\",\n",
    "    \"oe_%_expended\",\n",
    "    \"total_allocation\",\n",
    "    \"total_expenditure\",\n",
    "    \"total_balance\",\n",
    "    \"total_projection\",\n",
    "    \"total_%_expended\",\n",
    "]"
   ]
  },
  {
   "cell_type": "code",
   "execution_count": null,
   "id": "11952e35-1a46-4993-a8cd-8cfbf3b28853",
   "metadata": {
    "tags": []
   },
   "outputs": [],
   "source": [
    "for i in df1_cols:\n",
    "    print(\"\\n\" + i)\n",
    "    print(ap12[i].sum())\n",
    "    print(ap_12_test[i].sum())"
   ]
  },
  {
   "cell_type": "code",
   "execution_count": null,
   "id": "09f5cf67-1f4a-48e2-993c-cb2cda3ecbd5",
   "metadata": {},
   "outputs": [],
   "source": [
    "ap_12_test.shape"
   ]
  },
  {
   "cell_type": "code",
   "execution_count": null,
   "id": "0d22bef7-c279-482f-90d5-59be4946b54f",
   "metadata": {},
   "outputs": [],
   "source": [
    "ap12.shape"
   ]
  },
  {
   "cell_type": "markdown",
   "id": "074080ed-8c1b-4bc6-bb17-bc16ff04ec69",
   "metadata": {},
   "source": [
    "# TPSOE Data"
   ]
  },
  {
   "cell_type": "code",
   "execution_count": null,
   "id": "20a24602-cee3-472f-ab01-36222ce94070",
   "metadata": {
    "tags": []
   },
   "outputs": [],
   "source": [
    "df2.head()"
   ]
  },
  {
   "cell_type": "code",
   "execution_count": null,
   "id": "8e820635-9294-4555-be9f-3cee49edbddd",
   "metadata": {},
   "outputs": [],
   "source": [
    "df2_cols = [\n",
    "    \"allocation\",\n",
    "    \"expenditure\",\n",
    "    \"balance\",\n",
    "    \"encumbrance\",\n",
    "    \"projection\",\n",
    "]"
   ]
  },
  {
   "cell_type": "code",
   "execution_count": null,
   "id": "d4935ac4-7173-48db-99c4-b1452c3542d1",
   "metadata": {},
   "outputs": [],
   "source": [
    "for i in df2_cols:\n",
    "    print(\"\\n\" + i)\n",
    "    print(df2[i].sum())"
   ]
  },
  {
   "cell_type": "markdown",
   "id": "d1255e1f-5e48-47b1-b108-d4cf321a1ede",
   "metadata": {},
   "source": [
    "# Timeline Data"
   ]
  },
  {
   "cell_type": "code",
   "execution_count": null,
   "id": "9e044721-8e4b-4df9-84df-8cfe3a699035",
   "metadata": {
    "tags": []
   },
   "outputs": [],
   "source": [
    "len(df3)"
   ]
  },
  {
   "cell_type": "code",
   "execution_count": null,
   "id": "b90b91cb-8627-468f-aa8a-4cdc3fe26691",
   "metadata": {},
   "outputs": [],
   "source": [
    "df3[\"appropriation\"].unique()"
   ]
  },
  {
   "cell_type": "code",
   "execution_count": null,
   "id": "152a08c7-d0df-46d9-bce9-e998a4449cd2",
   "metadata": {},
   "outputs": [],
   "source": [
    "timeline_right_order = [\n",
    "    \"appr_catg\",\n",
    "    \"fund\",\n",
    "    \"fund_description\",\n",
    "    \"appropriation\",\n",
    "    \"pec_class\",\n",
    "    \"pec_class_description\",\n",
    "    \"ps_allocation\",\n",
    "    \"ps_expenditure\",\n",
    "    \"ps_balance\",\n",
    "    \"ps_%_expended\",\n",
    "    \"ps_projection\",\n",
    "    \"py_pos_alloc\",\n",
    "    \"act__hours\",\n",
    "    \"oe_allocation\",\n",
    "    \"oe_encumbrance\",\n",
    "    \"oe_expenditure\",\n",
    "    \"oe_balance\",\n",
    "    \"oe_enc_+_oe_exp_projection\",\n",
    "    \"oe_%_expended\",\n",
    "    \"total_allocation\",\n",
    "    \"total_expenditure\",\n",
    "    \"division\",\n",
    "    \"total_balance\",\n",
    "    \"total_projection\",\n",
    "    \"total_%_expended\",\n",
    "    \"ap\",\n",
    "]"
   ]
  },
  {
   "cell_type": "code",
   "execution_count": null,
   "id": "5a7d7bd7-7e2b-4405-b548-d9b4a89dfffb",
   "metadata": {},
   "outputs": [],
   "source": [
    "df3.columns"
   ]
  },
  {
   "cell_type": "code",
   "execution_count": null,
   "id": "a716834a-8330-4600-bf7b-1d96fddb7009",
   "metadata": {},
   "outputs": [],
   "source": [
    "df3_cols = [\n",
    "    \"ps_allocation\",\n",
    "    \"ps_expenditure\",\n",
    "    \"ps_balance\",\n",
    "    \"oe_allocation\",\n",
    "    \"ps_projection\",\n",
    "    \"oe_expenditure\",\n",
    "    \"oe_balance\",\n",
    "    \"total_allocation\",\n",
    "    \"total_expenditure\",\n",
    "    \"total_balance\",\n",
    "    \"total_projection\",\n",
    "    \"oe_enc_+_oe_exp_projection\",\n",
    "    \"total_%_expended\",\n",
    "]"
   ]
  },
  {
   "cell_type": "code",
   "execution_count": null,
   "id": "7f880592-fcc2-4574-babb-c4ba8d921405",
   "metadata": {
    "tags": []
   },
   "outputs": [],
   "source": [
    "df3[\"ap\"].value_counts()"
   ]
  },
  {
   "cell_type": "code",
   "execution_count": null,
   "id": "a2e011fa-a0b1-475c-b41a-dc56d07c3ec0",
   "metadata": {
    "scrolled": true,
    "tags": []
   },
   "outputs": [],
   "source": [
    "for i in df3_cols:\n",
    "    print(\"\\n\" + i)\n",
    "    print(df3[i].sum())"
   ]
  },
  {
   "cell_type": "code",
   "execution_count": null,
   "id": "5fd24788-9b6c-40ee-89d0-2dd71b15b310",
   "metadata": {
    "scrolled": true,
    "tags": []
   },
   "outputs": [],
   "source": [
    "for i in df3_cols:\n",
    "    print(\"\\n\" + i)\n",
    "    print(ap10[i].sum() + ap11[i].sum() + ap12[i].sum())"
   ]
  },
  {
   "cell_type": "code",
   "execution_count": null,
   "id": "ca4c5d2a-2d16-4f34-8a6b-e1740c82c692",
   "metadata": {
    "scrolled": true,
    "tags": []
   },
   "outputs": [],
   "source": [
    "for i in df3_cols:\n",
    "    print(\"\\n\" + i)\n",
    "    print(ap10[i].sum())"
   ]
  },
  {
   "cell_type": "code",
   "execution_count": null,
   "id": "ea35f943-03da-4a5d-b7cd-be54e768b59a",
   "metadata": {
    "scrolled": true,
    "tags": []
   },
   "outputs": [],
   "source": [
    "for i in df3_cols:\n",
    "    print(\"\\n\" + i)\n",
    "    print(ap11[i].sum())"
   ]
  },
  {
   "cell_type": "markdown",
   "id": "53ff3419-6b19-46df-9c8f-989986df6c5b",
   "metadata": {},
   "source": [
    "# PSOE Timeline"
   ]
  },
  {
   "cell_type": "code",
   "execution_count": null,
   "id": "eeef66df-d611-4d2d-af24-02ea6eda637e",
   "metadata": {},
   "outputs": [],
   "source": [
    "df4.shape"
   ]
  },
  {
   "cell_type": "code",
   "execution_count": null,
   "id": "b114be21-edc1-457d-ae8d-2e82aec661ac",
   "metadata": {
    "tags": []
   },
   "outputs": [],
   "source": [
    "df4[\"ap\"].value_counts()"
   ]
  },
  {
   "cell_type": "code",
   "execution_count": null,
   "id": "a6b86fce-1d09-4742-a46c-44569ba85c89",
   "metadata": {},
   "outputs": [],
   "source": [
    "df4_cols = [\"allocation\", \"expense\", \"balance\", \"projection\", \"encumbrance\"]"
   ]
  },
  {
   "cell_type": "code",
   "execution_count": null,
   "id": "92c0b826-629b-4ec0-a9fa-9c8516b9a988",
   "metadata": {},
   "outputs": [],
   "source": []
  }
 ],
 "metadata": {
  "kernelspec": {
   "display_name": "Python 3 (ipykernel)",
   "language": "python",
   "name": "python3"
  },
  "language_info": {
   "codemirror_mode": {
    "name": "ipython",
    "version": 3
   },
   "file_extension": ".py",
   "mimetype": "text/x-python",
   "name": "python",
   "nbconvert_exporter": "python",
   "pygments_lexer": "ipython3",
   "version": "3.10.4"
  }
 },
 "nbformat": 4,
 "nbformat_minor": 5
}
