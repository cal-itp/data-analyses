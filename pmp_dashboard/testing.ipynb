{
 "cells": [
  {
   "cell_type": "code",
   "execution_count": 1,
   "id": "7a4e72e6-7a29-4ad6-b683-2162ebf48e42",
   "metadata": {},
   "outputs": [
    {
     "name": "stderr",
     "output_type": "stream",
     "text": [
      "/opt/conda/lib/python3.10/site-packages/geopandas/_compat.py:111: UserWarning: The Shapely GEOS version (3.10.2-CAPI-1.16.0) is incompatible with the GEOS version PyGEOS was compiled with (3.10.1-CAPI-1.16.0). Conversions between both will be slow.\n",
      "  warnings.warn(\n"
     ]
    }
   ],
   "source": [
    "import pandas as pd\n",
    "from calitp import *\n",
    "from shared_utils import rt_utils\n",
    "\n",
    "# Formatting the nb\n",
    "pd.options.display.max_columns = 100\n",
    "pd.set_option(\"display.max_rows\", None)\n",
    "pd.set_option(\"display.max_colwidth\", None)\n",
    "\n",
    "# Specific to this project\n",
    "import A1_utilities as utils"
   ]
  },
  {
   "cell_type": "code",
   "execution_count": 2,
   "id": "88ad3fd8-e203-4377-beda-48373a14a6c1",
   "metadata": {},
   "outputs": [],
   "source": [
    "GCS_FILE_PATH = \"gs://calitp-analytics-data/data-analyses/pmp_dashboard/\""
   ]
  },
  {
   "cell_type": "code",
   "execution_count": 3,
   "id": "9fa04da2-6aec-468e-aea7-915aa673527a",
   "metadata": {},
   "outputs": [],
   "source": [
    "appropriations_unwanted = []"
   ]
  },
  {
   "cell_type": "code",
   "execution_count": 4,
   "id": "d58f82e6-3a01-4ec0-a188-3ac6ea64f96c",
   "metadata": {},
   "outputs": [],
   "source": [
    "def clean_up_columns(df):\n",
    "    df.columns = df.columns.str.replace(\"_\", \" \").str.title().str.strip()\n",
    "    return df"
   ]
  },
  {
   "cell_type": "code",
   "execution_count": 5,
   "id": "0f6bb62a-55ae-43e2-b92d-ec3bfe3ad4f5",
   "metadata": {},
   "outputs": [],
   "source": [
    "\"\"\"\n",
    "Timeline Sheet\n",
    "\"\"\"\n",
    "timeline_right_order = [\n",
    "    \"appr_catg\",\n",
    "    \"fund\",\n",
    "    \"fund_description\",\n",
    "    \"appropriation\",\n",
    "    \"pec_class\",\n",
    "    \"pec_class_description\",\n",
    "    \"ps_allocation\",\n",
    "    \"ps_expenditure\",\n",
    "    \"ps_balance\",\n",
    "    \"ps_%_expended\",\n",
    "    \"ps_projection\",\n",
    "    \"py_pos_alloc\",\n",
    "    \"act__hours\",\n",
    "    \"oe_allocation\",\n",
    "    \"oe_encumbrance\",\n",
    "    \"oe_expenditure\",\n",
    "    \"oe_balance\",\n",
    "    \"oe_enc_+_oe_exp_projection\",\n",
    "    \"oe_%_expended\",\n",
    "    \"total_allocation\",\n",
    "    \"total_expenditure\",\n",
    "    \"division\",\n",
    "    \"total_balance\",\n",
    "    \"total_projection\",\n",
    "    \"total_%_expended\",\n",
    "    \"ap\",\n",
    "]\n",
    "\n",
    "\n",
    "def create_timeline(df):\n",
    "    # Open up the sheet with all the accounting periods\n",
    "    timeline_all_aps = pd.read_excel(\n",
    "        f\"{GCS_FILE_PATH}All_Accounting_Periods.xlsx\", sheet_name=\"timeline\"\n",
    "    )\n",
    "\n",
    "    # Drop irrelevant col(s)\n",
    "    df = df.drop(columns=\"year_expended_pace\")\n",
    "\n",
    "    # Rearrange to the right order\n",
    "    df = df[timeline_right_order]\n",
    "\n",
    "    # Clean up col names\n",
    "    df = clean_up_columns(df)\n",
    "\n",
    "    # Stack my df with the ones from previous month\n",
    "    c1 = pd.concat([df, timeline_all_aps], sort=False)\n",
    "\n",
    "    # Reset index\n",
    "    c1 = c1.reset_index(drop=True)\n",
    "\n",
    "    return c1"
   ]
  },
  {
   "cell_type": "code",
   "execution_count": 9,
   "id": "fb3337b0-762a-4885-b938-9ac524379767",
   "metadata": {},
   "outputs": [],
   "source": [
    "def create_psoe_timeline(df, ps_list: list, oe_list: list):\n",
    "\n",
    "    # Rename this column so I can concat both sheets properly\n",
    "    df = df.rename(columns={\"oe_enc_+_oe_exp_projection\": \"oe_projection\"})\n",
    "\n",
    "    # Create 2 dataframes that subsets out OE and PS\n",
    "    psoe_oe = utils.cleaning_psoe_tpsoe(df[oe_list], \"oe\")\n",
    "    psoe_ps = utils.cleaning_psoe_tpsoe(df[ps_list], \"ps\")\n",
    "\n",
    "    # Stack both dataframes on top of each other\n",
    "    c1 = pd.concat([psoe_ps, psoe_oe], sort=False)\n",
    "\n",
    "    # Rename column\n",
    "    c1 = c1.rename(columns={\"expenditure\": \"expense\"})\n",
    "\n",
    "    # Rearrange the dataframe in the right order\n",
    "    c1 = c1[utils.psoe_right_col_order]\n",
    "\n",
    "    # Fill in na\n",
    "    c1 = c1.fillna(0)\n",
    "\n",
    "    # Open up sheet with all accounting periods\n",
    "    psoe_all_aps = pd.read_excel(f\"{GCS_FILE_PATH}All_Accounting_Periods.xlsx\", sheet_name=\"psoe\")\n",
    "    \n",
    "    # Clean up col names\n",
    "    c1 = clean_up_columns(c1)\n",
    "\n",
    "    # Concat\n",
    "    c2 = pd.concat([c1, psoe_all_aps], sort=False).reset_index(drop=True)\n",
    "\n",
    "    return c2"
   ]
  },
  {
   "cell_type": "code",
   "execution_count": 10,
   "id": "0eb27e02-fd5f-420f-9580-6d4f4fd83c3a",
   "metadata": {},
   "outputs": [],
   "source": [
    "def pmp_dashboard_sheets(\n",
    "    file_name: str,\n",
    "    name_of_sheet: str,\n",
    "    appropriations_to_filter: list,\n",
    "    accounting_period: int,\n",
    "    year: str,\n",
    "):\n",
    "\n",
    "    \"\"\"Takes a cleaned data frame and returns\n",
    "    the entire Excel workbook for publishing the PMP dashboard.\n",
    "\n",
    "    Args:\n",
    "        df: cleaned dataframe fter using import_raw_data\n",
    "        unwanted_timeline_appropriations: additional filter option for timeline data\n",
    "        title: the name for your file, accounting_period_year\n",
    "\n",
    "    \"\"\"\n",
    "    # Running scripts for each sheet\n",
    "    df = utils.import_and_clean(\n",
    "        file_name, name_of_sheet, appropriations_to_filter, accounting_period\n",
    "    )\n",
    "    fund_by_div = utils.create_fund_by_division(df)\n",
    "    tspoe = utils.create_tpsoe(df, utils.tpsoe_ps_list, utils.tpsoe_oe_list)\n",
    "    timeline = create_timeline(df)\n",
    "    psoe = create_psoe_timeline(df, utils.psoe_ps_cols, utils.psoe_oe_cols)\n",
    "\n",
    "    \"\"\"\n",
    "    # Filter out stuff for timeline\n",
    "    unwanted = timeline[\n",
    "        (timeline[\"appropriation\"] == unwanted_timeline_appropriations)\n",
    "        & (timeline[\"ps_allocation\"] == 0)\n",
    "        & (timeline[\"oe_allocation\"] == 0)\n",
    "    ]\n",
    "    timeline = timeline.drop(index=unwanted.index)\n",
    "    timeline = timeline.reset_index(drop=True)\n",
    "    \"\"\"\n",
    "\n",
    "    # Save to file with every single accounting period\n",
    "    with pd.ExcelWriter(f\"{GCS_FILE_PATH}All_Accounting_Periods.xlsx\") as writer:\n",
    "        timeline.to_excel(writer, sheet_name=\"timeline\", index=False)\n",
    "        psoe.to_excel(writer, sheet_name=\"psoe\", index=False)\n",
    " \n",
    "    # Save this month's output\n",
    "    with pd.ExcelWriter(f\"{GCS_FILE_PATH}AP_{accounting_period}_{year}.xlsx\") as writer:\n",
    "        fund_by_div.to_excel(writer, sheet_name=\"fund_by_div\", index=False)\n",
    "        tspoe.to_excel(writer, sheet_name=\"tspoe\", index=False)\n",
    "        timeline.to_excel(writer, sheet_name=\"timeline\", index=False)\n",
    "        psoe.to_excel(writer, sheet_name=\"psoe\", index=False)"
   ]
  },
  {
   "cell_type": "code",
   "execution_count": 11,
   "id": "9b31e4d7-be46-4adb-83e3-8c9088761c47",
   "metadata": {},
   "outputs": [
    {
     "name": "stderr",
     "output_type": "stream",
     "text": [
      "/home/jovyan/data-analyses/pmp_dashboard/A1_utilities.py:34: SettingWithCopyWarning: \n",
      "A value is trying to be set on a copy of a slice from a DataFrame.\n",
      "Try using .loc[row_indexer,col_indexer] = value instead\n",
      "\n",
      "See the caveats in the documentation: https://pandas.pydata.org/pandas-docs/stable/user_guide/indexing.html#returning-a-view-versus-a-copy\n",
      "/home/jovyan/data-analyses/pmp_dashboard/A1_utilities.py:34: SettingWithCopyWarning: \n",
      "A value is trying to be set on a copy of a slice from a DataFrame.\n",
      "Try using .loc[row_indexer,col_indexer] = value instead\n",
      "\n",
      "See the caveats in the documentation: https://pandas.pydata.org/pandas-docs/stable/user_guide/indexing.html#returning-a-view-versus-a-copy\n",
      "/home/jovyan/data-analyses/pmp_dashboard/A1_utilities.py:34: SettingWithCopyWarning: \n",
      "A value is trying to be set on a copy of a slice from a DataFrame.\n",
      "Try using .loc[row_indexer,col_indexer] = value instead\n",
      "\n",
      "See the caveats in the documentation: https://pandas.pydata.org/pandas-docs/stable/user_guide/indexing.html#returning-a-view-versus-a-copy\n",
      "/home/jovyan/data-analyses/pmp_dashboard/A1_utilities.py:34: SettingWithCopyWarning: \n",
      "A value is trying to be set on a copy of a slice from a DataFrame.\n",
      "Try using .loc[row_indexer,col_indexer] = value instead\n",
      "\n",
      "See the caveats in the documentation: https://pandas.pydata.org/pandas-docs/stable/user_guide/indexing.html#returning-a-view-versus-a-copy\n"
     ]
    }
   ],
   "source": [
    "pmp_dashboard_sheets(\"AP3 September.xls\",\n",
    "    \"Download\",\n",
    "    appropriations_unwanted,\n",
    "    3, \"TESTING\")"
   ]
  },
  {
   "cell_type": "code",
   "execution_count": null,
   "id": "92c0b826-629b-4ec0-a9fa-9c8516b9a988",
   "metadata": {},
   "outputs": [],
   "source": []
  }
 ],
 "metadata": {
  "kernelspec": {
   "display_name": "Python 3 (ipykernel)",
   "language": "python",
   "name": "python3"
  },
  "language_info": {
   "codemirror_mode": {
    "name": "ipython",
    "version": 3
   },
   "file_extension": ".py",
   "mimetype": "text/x-python",
   "name": "python",
   "nbconvert_exporter": "python",
   "pygments_lexer": "ipython3",
   "version": "3.10.4"
  }
 },
 "nbformat": 4,
 "nbformat_minor": 5
}
