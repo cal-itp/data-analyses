{
 "cells": [
  {
   "cell_type": "code",
   "execution_count": 1,
   "id": "7a4e72e6-7a29-4ad6-b683-2162ebf48e42",
   "metadata": {},
   "outputs": [
    {
     "name": "stderr",
     "output_type": "stream",
     "text": [
      "/opt/conda/lib/python3.10/site-packages/geopandas/_compat.py:111: UserWarning: The Shapely GEOS version (3.10.2-CAPI-1.16.0) is incompatible with the GEOS version PyGEOS was compiled with (3.10.1-CAPI-1.16.0). Conversions between both will be slow.\n",
      "  warnings.warn(\n"
     ]
    }
   ],
   "source": [
    "import geopandas as gpd\n",
    "import numpy as np\n",
    "import pandas as pd\n",
    "from calitp import *\n",
    "from shared_utils import utils\n",
    "\n",
    "# Formatting the nb\n",
    "pd.options.display.max_columns = 100\n",
    "pd.set_option(\"display.max_rows\", None)\n",
    "pd.set_option(\"display.max_colwidth\", None)\n",
    "\n",
    "# Specific to this project\n",
    "import A1_utilities as utils"
   ]
  },
  {
   "cell_type": "code",
   "execution_count": 2,
   "id": "88ad3fd8-e203-4377-beda-48373a14a6c1",
   "metadata": {},
   "outputs": [],
   "source": [
    "GCS_FILE_PATH = \"gs://calitp-analytics-data/data-analyses/pmp_dashboard/\""
   ]
  },
  {
   "cell_type": "code",
   "execution_count": 3,
   "id": "23d7c5b3-ca92-4846-96b8-69b293ab567e",
   "metadata": {},
   "outputs": [],
   "source": [
    "# DF that William manipulated\n",
    "FILE_NAME_1 = \"PMP Summary Report Data.xlsx\"\n",
    "\n",
    "# Sheets in William's notebook that I want\n",
    "sheets_list = [\"Fund by Division Data\", \"TPSOE Data\", \"Timeline Data\", \"PSOE Timeline\"]\n",
    "\n",
    "dict_df1 = pd.read_excel(f\"{GCS_FILE_PATH}{FILE_NAME_1}\", sheet_name=sheets_list)\n",
    "\n",
    "division_df = to_snakecase(dict_df1.get(\"Fund by Division Data\"))\n",
    "tpsoe_df = to_snakecase(dict_df1.get(\"TPSOE Data\"))\n",
    "timeline_df = to_snakecase(dict_df1.get(\"Timeline Data\"))\n",
    "psoe_df = to_snakecase(dict_df1.get(\"PSOE Timeline\"))"
   ]
  },
  {
   "cell_type": "code",
   "execution_count": 4,
   "id": "9bb8054c-8473-4232-807e-22b84e18f97e",
   "metadata": {},
   "outputs": [],
   "source": [
    "GCS_FILE_PATH = \"gs://calitp-analytics-data/data-analyses/pmp_dashboard/\""
   ]
  },
  {
   "cell_type": "code",
   "execution_count": 5,
   "id": "9fa04da2-6aec-468e-aea7-915aa673527a",
   "metadata": {},
   "outputs": [],
   "source": [
    "appropriations_unwanted = [\"22105\"]"
   ]
  },
  {
   "cell_type": "code",
   "execution_count": 6,
   "id": "ba01e5ca-f5cb-4382-9eec-ccdffb7d7b64",
   "metadata": {},
   "outputs": [],
   "source": [
    "ap11 = utils.import_raw_data(\n",
    "    \"FY 2122 AP11_Closed_PMP Summary Report.022822_Updated.xlsx\",\n",
    "    \"Raw Data AP11 Closed\",\n",
    "    appropriations_unwanted,\n",
    ")"
   ]
  },
  {
   "cell_type": "code",
   "execution_count": 7,
   "id": "67fceda4-2c29-4c71-a858-2ba8a6e53bd2",
   "metadata": {},
   "outputs": [],
   "source": [
    "ap10 = utils.import_raw_data(\n",
    "    \"FY 2122 AP10_Closed_PMP Summary Report.022822_Andrew Updated.xlsx\",\n",
    "    \"Raw Data AP10 Closed\",\n",
    "    appropriations_unwanted,\n",
    ")"
   ]
  },
  {
   "cell_type": "code",
   "execution_count": 8,
   "id": "42b4d39b-aff7-453c-af27-60e011af1ff7",
   "metadata": {},
   "outputs": [
    {
     "data": {
      "text/plain": [
       "'\\nap12 = utils.import_raw_data(\\n    \"FY 2122 AP12_Closed_PMP Summary Report.022822_Updated.xlsx\",\\n    \"Raw Data AP12 Closed\",\\n    appropriations_unwanted,\\n)\\n'"
      ]
     },
     "execution_count": 8,
     "metadata": {},
     "output_type": "execute_result"
    }
   ],
   "source": [
    "'''\n",
    "ap12 = utils.import_raw_data(\n",
    "    \"FY 2122 AP12_Closed_PMP Summary Report.022822_Updated.xlsx\",\n",
    "    \"Raw Data AP12 Closed\",\n",
    "    appropriations_unwanted,\n",
    ")\n",
    "'''"
   ]
  },
  {
   "cell_type": "code",
   "execution_count": 9,
   "id": "b9cf4656-cb57-4af7-97c3-3d81fa38dd3b",
   "metadata": {},
   "outputs": [],
   "source": [
    "def pmp_dashboard_sheets(\n",
    "    df, accounting_period: str, unwanted_timeline_appropriations: str\n",
    "):\n",
    "\n",
    "    # Running scripts for each sheet\n",
    "    fund_by_div = utils.create_fund_by_division(df)\n",
    "    tspoe = utils.create_tpsoe(df, utils.tpsoe_ps_list, utils.tpsoe_oe_list)\n",
    "    timeline = utils.create_timeline(utils.my_clean_dataframes)\n",
    "    psoe = utils.create_psoe_timeline(timeline, utils.psoe_ps_cols, utils.psoe_oe_cols)\n",
    "\n",
    "    # Filter out timeline\n",
    "    unwanted = timeline[\n",
    "        (timeline[\"appropriation\"] == unwanted_timeline_appropriations)\n",
    "        & (timeline[\"ps_allocation\"] == 0)\n",
    "        & (timeline[\"oe_allocation\"] == 0)\n",
    "    ]\n",
    "    timeline = timeline.drop(index=unwanted.index)\n",
    "    timeline = timeline.reset_index(drop=True)\n",
    "\n",
    "    # How to save this to sharepoint?\n",
    "    with pd.ExcelWriter(\n",
    "        f\"{GCS_FILE_PATH}{accounting_period}_cleaned_data.xlsx\"\n",
    "    ) as writer:\n",
    "        fund_by_div.to_excel(writer, sheet_name=\"fund_by_div\", index=False)\n",
    "        tspoe.to_excel(writer, sheet_name=\"tspoe\", index=False)\n",
    "        timeline.to_excel(writer, sheet_name=\"timeline\", index=False)\n",
    "        psoe.to_excel(writer, sheet_name=\"psoe\", index=False)\n",
    "\n",
    "    return fund_by_div, tspoe, timeline, psoe"
   ]
  },
  {
   "cell_type": "code",
   "execution_count": 10,
   "id": "f02f46e8-3fc5-49f0-8639-bbe0a1d179b9",
   "metadata": {},
   "outputs": [],
   "source": [
    "def pmp_dashboard_sheets2(file_name: str, name_of_sheet: str, appropriations_to_filter: list, \n",
    "                          accounting_period: str, unwanted_timeline_appropriations: str):\n",
    "    \n",
    "    # The original sheet\n",
    "    df = utils.import_raw_data(file_name,name_of_sheet,appropriations_to_filter)\n",
    "    \n",
    "    # Running scripts for each sheet\n",
    "    fund_by_div = utils.create_fund_by_division(df)\n",
    "    tspoe = utils.create_tpsoe(df, utils.tpsoe_ps_list, utils.tpsoe_oe_list)\n",
    "    timeline = utils.create_timeline(utils.my_clean_dataframes)\n",
    "    psoe = utils.create_psoe_timeline(timeline, utils.psoe_ps_cols, utils.psoe_oe_cols)\n",
    "\n",
    "    # Filter out stuff for timeline\n",
    "    unwanted = timeline[\n",
    "        (timeline[\"appropriation\"] == unwanted_timeline_appropriations)\n",
    "        & (timeline[\"ps_allocation\"] == 0)\n",
    "        & (timeline[\"oe_allocation\"] == 0)\n",
    "    ]\n",
    "    timeline = timeline.drop(index=unwanted.index)\n",
    "    timeline = timeline.reset_index(drop=True)\n",
    "\n",
    "    # How to save this to sharepoint?\n",
    "    with pd.ExcelWriter(\n",
    "        f\"{GCS_FILE_PATH}{accounting_period}_cleaned_data.xlsx\"\n",
    "    ) as writer:\n",
    "        fund_by_div.to_excel(writer, sheet_name=\"fund_by_div\", index=False)\n",
    "        tspoe.to_excel(writer, sheet_name=\"tspoe\", index=False)\n",
    "        timeline.to_excel(writer, sheet_name=\"timeline\", index=False)\n",
    "        psoe.to_excel(writer, sheet_name=\"psoe\", index=False)\n",
    "\n",
    "    return fund_by_div, tspoe, timeline, psoe"
   ]
  },
  {
   "cell_type": "code",
   "execution_count": 11,
   "id": "3a7a5528-0697-4ef7-813e-0c87f43a7ea6",
   "metadata": {},
   "outputs": [
    {
     "name": "stderr",
     "output_type": "stream",
     "text": [
      "/home/jovyan/data-analyses/pmp_dashboard/A1_utilities.py:34: SettingWithCopyWarning: \n",
      "A value is trying to be set on a copy of a slice from a DataFrame.\n",
      "Try using .loc[row_indexer,col_indexer] = value instead\n",
      "\n",
      "See the caveats in the documentation: https://pandas.pydata.org/pandas-docs/stable/user_guide/indexing.html#returning-a-view-versus-a-copy\n",
      "/home/jovyan/data-analyses/pmp_dashboard/A1_utilities.py:34: SettingWithCopyWarning: \n",
      "A value is trying to be set on a copy of a slice from a DataFrame.\n",
      "Try using .loc[row_indexer,col_indexer] = value instead\n",
      "\n",
      "See the caveats in the documentation: https://pandas.pydata.org/pandas-docs/stable/user_guide/indexing.html#returning-a-view-versus-a-copy\n",
      "/home/jovyan/data-analyses/pmp_dashboard/A1_utilities.py:34: SettingWithCopyWarning: \n",
      "A value is trying to be set on a copy of a slice from a DataFrame.\n",
      "Try using .loc[row_indexer,col_indexer] = value instead\n",
      "\n",
      "See the caveats in the documentation: https://pandas.pydata.org/pandas-docs/stable/user_guide/indexing.html#returning-a-view-versus-a-copy\n",
      "/home/jovyan/data-analyses/pmp_dashboard/A1_utilities.py:34: SettingWithCopyWarning: \n",
      "A value is trying to be set on a copy of a slice from a DataFrame.\n",
      "Try using .loc[row_indexer,col_indexer] = value instead\n",
      "\n",
      "See the caveats in the documentation: https://pandas.pydata.org/pandas-docs/stable/user_guide/indexing.html#returning-a-view-versus-a-copy\n"
     ]
    }
   ],
   "source": [
    "df1, df2, df3, df4 = pmp_dashboard_sheets2(\"FY 2122 AP12_Closed_PMP Summary Report.022822_Updated.xlsx\",\n",
    "    \"Raw Data AP12 Closed\",\n",
    "    appropriations_unwanted, \"accountingperiod12\", \"22030\")"
   ]
  },
  {
   "cell_type": "code",
   "execution_count": 12,
   "id": "8c110d37-741e-4b47-b834-e916318d58dd",
   "metadata": {},
   "outputs": [],
   "source": [
    "#df1, df2, df3, df4 = pmp_dashboard_sheets(ap11, \"accountingperiod11\", \"22030\")"
   ]
  },
  {
   "cell_type": "markdown",
   "id": "88729f0c-3dc9-48d9-816d-70b77eac7416",
   "metadata": {},
   "source": [
    "# Fund by Div"
   ]
  },
  {
   "cell_type": "code",
   "execution_count": 13,
   "id": "50e2b3ce-2abb-4b7e-b3ba-a0320281b1c6",
   "metadata": {},
   "outputs": [
    {
     "data": {
      "text/plain": [
       "54"
      ]
     },
     "execution_count": 13,
     "metadata": {},
     "output_type": "execute_result"
    }
   ],
   "source": [
    "len(df1)"
   ]
  },
  {
   "cell_type": "code",
   "execution_count": 14,
   "id": "71da06ca-a3f6-4ab0-b47d-ff7ed0db1bde",
   "metadata": {},
   "outputs": [
    {
     "data": {
      "text/plain": [
       "array(['22002', '22030', '22001R', '22001', '22102', '22008', '22001F',\n",
       "       '1850522', '22004'], dtype=object)"
      ]
     },
     "execution_count": 14,
     "metadata": {},
     "output_type": "execute_result"
    }
   ],
   "source": [
    "df1[\"appropriation\"].unique()"
   ]
  },
  {
   "cell_type": "code",
   "execution_count": 15,
   "id": "cdb84d69-c264-4fc8-805e-2484da540529",
   "metadata": {},
   "outputs": [
    {
     "data": {
      "text/plain": [
       "{'oe_projection', 'year_expended_pace'}"
      ]
     },
     "execution_count": 15,
     "metadata": {},
     "output_type": "execute_result"
    }
   ],
   "source": [
    "set(df1.columns).difference(set(division_df.columns))"
   ]
  },
  {
   "cell_type": "code",
   "execution_count": 16,
   "id": "557854e9-d4e1-43b5-93fc-5c9e223a7518",
   "metadata": {},
   "outputs": [
    {
     "data": {
      "text/html": [
       "<div>\n",
       "<style scoped>\n",
       "    .dataframe tbody tr th:only-of-type {\n",
       "        vertical-align: middle;\n",
       "    }\n",
       "\n",
       "    .dataframe tbody tr th {\n",
       "        vertical-align: top;\n",
       "    }\n",
       "\n",
       "    .dataframe thead th {\n",
       "        text-align: right;\n",
       "    }\n",
       "</style>\n",
       "<table border=\"1\" class=\"dataframe\">\n",
       "  <thead>\n",
       "    <tr style=\"text-align: right;\">\n",
       "      <th></th>\n",
       "      <th>fund</th>\n",
       "      <th>fund_description</th>\n",
       "      <th>appropriation</th>\n",
       "      <th>pec_class</th>\n",
       "      <th>ps_allocation</th>\n",
       "      <th>ps_expenditure</th>\n",
       "      <th>ps_balance</th>\n",
       "      <th>ps_projection</th>\n",
       "      <th>ps_%_expended</th>\n",
       "      <th>oe_allocation</th>\n",
       "      <th>oe_encumbrance</th>\n",
       "      <th>oe_expenditure</th>\n",
       "      <th>oe_balance</th>\n",
       "      <th>oe_%_expended</th>\n",
       "      <th>total_allocation</th>\n",
       "      <th>total_expenditure</th>\n",
       "      <th>total_balance</th>\n",
       "      <th>total_projection</th>\n",
       "      <th>total_%_expended</th>\n",
       "      <th>year_expended_pace</th>\n",
       "      <th>oe_projection</th>\n",
       "      <th>division</th>\n",
       "      <th>notes</th>\n",
       "    </tr>\n",
       "  </thead>\n",
       "  <tbody>\n",
       "    <tr>\n",
       "      <th>0</th>\n",
       "      <td>0001</td>\n",
       "      <td>General Fund</td>\n",
       "      <td>22002</td>\n",
       "      <td>2030</td>\n",
       "      <td>1500000</td>\n",
       "      <td>0</td>\n",
       "      <td>1500000</td>\n",
       "      <td>0</td>\n",
       "      <td>0</td>\n",
       "      <td>0</td>\n",
       "      <td>0</td>\n",
       "      <td>0</td>\n",
       "      <td>0</td>\n",
       "      <td>0%</td>\n",
       "      <td>1500000</td>\n",
       "      <td>0</td>\n",
       "      <td>1500000</td>\n",
       "      <td>0</td>\n",
       "      <td>0</td>\n",
       "      <td>0.000000</td>\n",
       "      <td>0</td>\n",
       "      <td>Local Assistance</td>\n",
       "      <td>NaN</td>\n",
       "    </tr>\n",
       "    <tr>\n",
       "      <th>1</th>\n",
       "      <td>0001</td>\n",
       "      <td>General Fund</td>\n",
       "      <td>22030</td>\n",
       "      <td>2030</td>\n",
       "      <td>2625000</td>\n",
       "      <td>1405981</td>\n",
       "      <td>1219018</td>\n",
       "      <td>1405981</td>\n",
       "      <td>0.535612</td>\n",
       "      <td>27000</td>\n",
       "      <td>1593</td>\n",
       "      <td>10119</td>\n",
       "      <td>15286</td>\n",
       "      <td>0.43382</td>\n",
       "      <td>2652000</td>\n",
       "      <td>1417694</td>\n",
       "      <td>1234305</td>\n",
       "      <td>1417694</td>\n",
       "      <td>0.534576</td>\n",
       "      <td>0.535612</td>\n",
       "      <td>11712</td>\n",
       "      <td>Local Assistance</td>\n",
       "      <td>NaN</td>\n",
       "    </tr>\n",
       "    <tr>\n",
       "      <th>2</th>\n",
       "      <td>0001</td>\n",
       "      <td>General Fund</td>\n",
       "      <td>22030</td>\n",
       "      <td>3010</td>\n",
       "      <td>150000</td>\n",
       "      <td>149442</td>\n",
       "      <td>557</td>\n",
       "      <td>149442</td>\n",
       "      <td>0.996283</td>\n",
       "      <td>2000</td>\n",
       "      <td>0</td>\n",
       "      <td>0</td>\n",
       "      <td>2000</td>\n",
       "      <td>0</td>\n",
       "      <td>152000</td>\n",
       "      <td>149442</td>\n",
       "      <td>2557</td>\n",
       "      <td>149442</td>\n",
       "      <td>0.983174</td>\n",
       "      <td>0.996280</td>\n",
       "      <td>0</td>\n",
       "      <td>DRMT</td>\n",
       "      <td>NaN</td>\n",
       "    </tr>\n",
       "    <tr>\n",
       "      <th>3</th>\n",
       "      <td>0001</td>\n",
       "      <td>General Fund</td>\n",
       "      <td>22030</td>\n",
       "      <td>4010</td>\n",
       "      <td>150000</td>\n",
       "      <td>153219</td>\n",
       "      <td>-3219</td>\n",
       "      <td>153219</td>\n",
       "      <td>1.02146</td>\n",
       "      <td>2000</td>\n",
       "      <td>0</td>\n",
       "      <td>0</td>\n",
       "      <td>2000</td>\n",
       "      <td>0</td>\n",
       "      <td>152000</td>\n",
       "      <td>153219</td>\n",
       "      <td>-1219</td>\n",
       "      <td>153219</td>\n",
       "      <td>1.00802</td>\n",
       "      <td>1.021460</td>\n",
       "      <td>0</td>\n",
       "      <td>DOTP</td>\n",
       "      <td>NaN</td>\n",
       "    </tr>\n",
       "    <tr>\n",
       "      <th>4</th>\n",
       "      <td>0041</td>\n",
       "      <td>Aeronautics Account STF</td>\n",
       "      <td>22001R</td>\n",
       "      <td>1000</td>\n",
       "      <td>59000</td>\n",
       "      <td>30208</td>\n",
       "      <td>28791</td>\n",
       "      <td>30208</td>\n",
       "      <td>0.512012</td>\n",
       "      <td>0</td>\n",
       "      <td>0</td>\n",
       "      <td>17273</td>\n",
       "      <td>-17273</td>\n",
       "      <td>0%</td>\n",
       "      <td>59000</td>\n",
       "      <td>47482</td>\n",
       "      <td>11517</td>\n",
       "      <td>47482</td>\n",
       "      <td>0.804781</td>\n",
       "      <td>0.512000</td>\n",
       "      <td>17273</td>\n",
       "      <td>Aeronautics</td>\n",
       "      <td>NaN</td>\n",
       "    </tr>\n",
       "  </tbody>\n",
       "</table>\n",
       "</div>"
      ],
      "text/plain": [
       "0  fund         fund_description appropriation pec_class  ps_allocation  \\\n",
       "0  0001             General Fund         22002      2030        1500000   \n",
       "1  0001             General Fund         22030      2030        2625000   \n",
       "2  0001             General Fund         22030      3010         150000   \n",
       "3  0001             General Fund         22030      4010         150000   \n",
       "4  0041  Aeronautics Account STF        22001R      1000          59000   \n",
       "\n",
       "0  ps_expenditure  ps_balance  ps_projection ps_%_expended  oe_allocation  \\\n",
       "0               0     1500000              0             0              0   \n",
       "1         1405981     1219018        1405981      0.535612          27000   \n",
       "2          149442         557         149442      0.996283           2000   \n",
       "3          153219       -3219         153219       1.02146           2000   \n",
       "4           30208       28791          30208      0.512012              0   \n",
       "\n",
       "0  oe_encumbrance  oe_expenditure  oe_balance oe_%_expended  total_allocation  \\\n",
       "0               0               0           0            0%           1500000   \n",
       "1            1593           10119       15286       0.43382           2652000   \n",
       "2               0               0        2000             0            152000   \n",
       "3               0               0        2000             0            152000   \n",
       "4               0           17273      -17273            0%             59000   \n",
       "\n",
       "0  total_expenditure  total_balance  total_projection total_%_expended  \\\n",
       "0                  0        1500000                 0                0   \n",
       "1            1417694        1234305           1417694         0.534576   \n",
       "2             149442           2557            149442         0.983174   \n",
       "3             153219          -1219            153219          1.00802   \n",
       "4              47482          11517             47482         0.804781   \n",
       "\n",
       "0  year_expended_pace  oe_projection          division  notes  \n",
       "0            0.000000              0  Local Assistance    NaN  \n",
       "1            0.535612          11712  Local Assistance    NaN  \n",
       "2            0.996280              0              DRMT    NaN  \n",
       "3            1.021460              0              DOTP    NaN  \n",
       "4            0.512000          17273       Aeronautics    NaN  "
      ]
     },
     "execution_count": 16,
     "metadata": {},
     "output_type": "execute_result"
    }
   ],
   "source": [
    "df1.head()"
   ]
  },
  {
   "cell_type": "code",
   "execution_count": 17,
   "id": "b86c6633-b335-41cd-865f-0e5cd3020cfa",
   "metadata": {},
   "outputs": [
    {
     "data": {
      "text/html": [
       "<div>\n",
       "<style scoped>\n",
       "    .dataframe tbody tr th:only-of-type {\n",
       "        vertical-align: middle;\n",
       "    }\n",
       "\n",
       "    .dataframe tbody tr th {\n",
       "        vertical-align: top;\n",
       "    }\n",
       "\n",
       "    .dataframe thead th {\n",
       "        text-align: right;\n",
       "    }\n",
       "</style>\n",
       "<table border=\"1\" class=\"dataframe\">\n",
       "  <thead>\n",
       "    <tr style=\"text-align: right;\">\n",
       "      <th></th>\n",
       "      <th>pec_class</th>\n",
       "      <th>division</th>\n",
       "      <th>fund</th>\n",
       "      <th>fund_description</th>\n",
       "      <th>appropriation</th>\n",
       "      <th>ps_allocation</th>\n",
       "      <th>ps_expenditure</th>\n",
       "      <th>ps_balance</th>\n",
       "      <th>ps_projection</th>\n",
       "      <th>year_end_expendded_pace</th>\n",
       "      <th>ps_%_expended</th>\n",
       "      <th>oe_allocation</th>\n",
       "      <th>oe_encumbrance</th>\n",
       "      <th>oe_expenditure</th>\n",
       "      <th>oe_balance</th>\n",
       "      <th>oe_enc_+_oe_exp_projection</th>\n",
       "      <th>oe_%_expended</th>\n",
       "      <th>total_allocation</th>\n",
       "      <th>total_expenditure</th>\n",
       "      <th>total_balance</th>\n",
       "      <th>total_projection</th>\n",
       "      <th>total_%_expended</th>\n",
       "      <th>notes</th>\n",
       "    </tr>\n",
       "  </thead>\n",
       "  <tbody>\n",
       "    <tr>\n",
       "      <th>0</th>\n",
       "      <td>1000</td>\n",
       "      <td>Aeronautics</td>\n",
       "      <td>41</td>\n",
       "      <td>Aeronautics Account STF</td>\n",
       "      <td>22001</td>\n",
       "      <td>3742000</td>\n",
       "      <td>2668503.64</td>\n",
       "      <td>1073496.36</td>\n",
       "      <td>2.911095e+06</td>\n",
       "      <td>0.777952</td>\n",
       "      <td>0.713122</td>\n",
       "      <td>487000</td>\n",
       "      <td>110463.37</td>\n",
       "      <td>119766.31</td>\n",
       "      <td>256770.32</td>\n",
       "      <td>241117.526364</td>\n",
       "      <td>0.495108</td>\n",
       "      <td>4229000</td>\n",
       "      <td>2898733.32</td>\n",
       "      <td>1330266.68</td>\n",
       "      <td>3.152212e+06</td>\n",
       "      <td>0.685442</td>\n",
       "      <td>NaN</td>\n",
       "    </tr>\n",
       "    <tr>\n",
       "      <th>1</th>\n",
       "      <td>1000</td>\n",
       "      <td>Aeronautics</td>\n",
       "      <td>41</td>\n",
       "      <td>Aeronautics Account STF</td>\n",
       "      <td>22001R</td>\n",
       "      <td>59000</td>\n",
       "      <td>26017.94</td>\n",
       "      <td>32982.06</td>\n",
       "      <td>2.838321e+04</td>\n",
       "      <td>0.481071</td>\n",
       "      <td>0.440982</td>\n",
       "      <td>0</td>\n",
       "      <td>0.00</td>\n",
       "      <td>13866.74</td>\n",
       "      <td>-13866.74</td>\n",
       "      <td>15127.352727</td>\n",
       "      <td>0.000000</td>\n",
       "      <td>59000</td>\n",
       "      <td>39884.68</td>\n",
       "      <td>19115.32</td>\n",
       "      <td>4.351056e+04</td>\n",
       "      <td>0.676012</td>\n",
       "      <td>NaN</td>\n",
       "    </tr>\n",
       "    <tr>\n",
       "      <th>2</th>\n",
       "      <td>1000</td>\n",
       "      <td>Aeronautics</td>\n",
       "      <td>890</td>\n",
       "      <td>Federal Trust Fund</td>\n",
       "      <td>22001F</td>\n",
       "      <td>89000</td>\n",
       "      <td>0.00</td>\n",
       "      <td>89000.00</td>\n",
       "      <td>0.000000e+00</td>\n",
       "      <td>0.000000</td>\n",
       "      <td>0.000000</td>\n",
       "      <td>370000</td>\n",
       "      <td>0.00</td>\n",
       "      <td>3000.00</td>\n",
       "      <td>367000.00</td>\n",
       "      <td>3272.727273</td>\n",
       "      <td>0.008845</td>\n",
       "      <td>459000</td>\n",
       "      <td>3000.00</td>\n",
       "      <td>456000.00</td>\n",
       "      <td>3.272727e+03</td>\n",
       "      <td>0.006536</td>\n",
       "      <td>NaN</td>\n",
       "    </tr>\n",
       "    <tr>\n",
       "      <th>3</th>\n",
       "      <td>2030</td>\n",
       "      <td>Local Assistance</td>\n",
       "      <td>1</td>\n",
       "      <td>General Fund</td>\n",
       "      <td>22030</td>\n",
       "      <td>2625000</td>\n",
       "      <td>1265708.14</td>\n",
       "      <td>1359291.86</td>\n",
       "      <td>1.380773e+06</td>\n",
       "      <td>0.526009</td>\n",
       "      <td>0.482175</td>\n",
       "      <td>27000</td>\n",
       "      <td>1593.74</td>\n",
       "      <td>10119.40</td>\n",
       "      <td>15286.86</td>\n",
       "      <td>12633.085455</td>\n",
       "      <td>0.467892</td>\n",
       "      <td>2652000</td>\n",
       "      <td>1277421.28</td>\n",
       "      <td>1374578.72</td>\n",
       "      <td>1.393406e+06</td>\n",
       "      <td>0.481682</td>\n",
       "      <td>NaN</td>\n",
       "    </tr>\n",
       "    <tr>\n",
       "      <th>4</th>\n",
       "      <td>2030</td>\n",
       "      <td>Local Assistance</td>\n",
       "      <td>1</td>\n",
       "      <td>General Fund</td>\n",
       "      <td>22002</td>\n",
       "      <td>1500000</td>\n",
       "      <td>0.00</td>\n",
       "      <td>1500000.00</td>\n",
       "      <td>0.000000e+00</td>\n",
       "      <td>0.000000</td>\n",
       "      <td>0.000000</td>\n",
       "      <td>0</td>\n",
       "      <td>0.00</td>\n",
       "      <td>0.00</td>\n",
       "      <td>0.00</td>\n",
       "      <td>0.000000</td>\n",
       "      <td>0.000000</td>\n",
       "      <td>1500000</td>\n",
       "      <td>0.00</td>\n",
       "      <td>1500000.00</td>\n",
       "      <td>0.000000e+00</td>\n",
       "      <td>0.000000</td>\n",
       "      <td>NaN</td>\n",
       "    </tr>\n",
       "  </tbody>\n",
       "</table>\n",
       "</div>"
      ],
      "text/plain": [
       "   pec_class          division  fund         fund_description appropriation  \\\n",
       "0       1000       Aeronautics    41  Aeronautics Account STF         22001   \n",
       "1       1000       Aeronautics    41  Aeronautics Account STF        22001R   \n",
       "2       1000       Aeronautics   890       Federal Trust Fund        22001F   \n",
       "3       2030  Local Assistance     1             General Fund         22030   \n",
       "4       2030  Local Assistance     1             General Fund         22002   \n",
       "\n",
       "   ps_allocation  ps_expenditure  ps_balance  ps_projection  \\\n",
       "0        3742000      2668503.64  1073496.36   2.911095e+06   \n",
       "1          59000        26017.94    32982.06   2.838321e+04   \n",
       "2          89000            0.00    89000.00   0.000000e+00   \n",
       "3        2625000      1265708.14  1359291.86   1.380773e+06   \n",
       "4        1500000            0.00  1500000.00   0.000000e+00   \n",
       "\n",
       "   year_end_expendded_pace  ps_%_expended  oe_allocation  oe_encumbrance  \\\n",
       "0                 0.777952       0.713122         487000       110463.37   \n",
       "1                 0.481071       0.440982              0            0.00   \n",
       "2                 0.000000       0.000000         370000            0.00   \n",
       "3                 0.526009       0.482175          27000         1593.74   \n",
       "4                 0.000000       0.000000              0            0.00   \n",
       "\n",
       "   oe_expenditure  oe_balance  oe_enc_+_oe_exp_projection  oe_%_expended  \\\n",
       "0       119766.31   256770.32               241117.526364       0.495108   \n",
       "1        13866.74   -13866.74                15127.352727       0.000000   \n",
       "2         3000.00   367000.00                 3272.727273       0.008845   \n",
       "3        10119.40    15286.86                12633.085455       0.467892   \n",
       "4            0.00        0.00                    0.000000       0.000000   \n",
       "\n",
       "   total_allocation  total_expenditure  total_balance  total_projection  \\\n",
       "0           4229000         2898733.32     1330266.68      3.152212e+06   \n",
       "1             59000           39884.68       19115.32      4.351056e+04   \n",
       "2            459000            3000.00      456000.00      3.272727e+03   \n",
       "3           2652000         1277421.28     1374578.72      1.393406e+06   \n",
       "4           1500000               0.00     1500000.00      0.000000e+00   \n",
       "\n",
       "   total_%_expended  notes  \n",
       "0          0.685442    NaN  \n",
       "1          0.676012    NaN  \n",
       "2          0.006536    NaN  \n",
       "3          0.481682    NaN  \n",
       "4          0.000000    NaN  "
      ]
     },
     "execution_count": 17,
     "metadata": {},
     "output_type": "execute_result"
    }
   ],
   "source": [
    "division_df.head()"
   ]
  },
  {
   "cell_type": "code",
   "execution_count": 18,
   "id": "b097672f-d58d-4c58-90b0-9738525d1e1c",
   "metadata": {},
   "outputs": [],
   "source": [
    "df1_cols = [\n",
    "    \"ps_allocation\",\n",
    "    \"ps_expenditure\",\n",
    "    \"ps_balance\",\n",
    "    \"ps_projection\",\n",
    "    \"oe_allocation\",\n",
    "    \"oe_encumbrance\",\n",
    "    \"oe_expenditure\",\n",
    "    \"oe_balance\",\n",
    "    \"total_allocation\",\n",
    "    \"total_expenditure\",\n",
    "    \"total_balance\",\n",
    "]"
   ]
  },
  {
   "cell_type": "code",
   "execution_count": 19,
   "id": "8116824c-991a-4d4b-b547-bc23df6ba711",
   "metadata": {
    "tags": []
   },
   "outputs": [
    {
     "name": "stdout",
     "output_type": "stream",
     "text": [
      "\n",
      "ps_allocation\n",
      "244928000\n",
      "\n",
      "ps_expenditure\n",
      "211313041\n",
      "\n",
      "ps_balance\n",
      "33614927\n",
      "\n",
      "ps_projection\n",
      "211313041\n",
      "\n",
      "oe_allocation\n",
      "233766000\n",
      "\n",
      "oe_encumbrance\n",
      "249639526\n",
      "\n",
      "oe_expenditure\n",
      "93943496\n",
      "\n",
      "oe_balance\n",
      "-109817058\n",
      "\n",
      "total_allocation\n",
      "478694000\n",
      "\n",
      "total_expenditure\n",
      "554896086\n",
      "\n",
      "total_balance\n",
      "-76202122\n"
     ]
    }
   ],
   "source": [
    "for i in df1_cols:\n",
    "    print(\"\\n\" + i)\n",
    "    print(df1[i].sum())"
   ]
  },
  {
   "cell_type": "markdown",
   "id": "074080ed-8c1b-4bc6-bb17-bc16ff04ec69",
   "metadata": {},
   "source": [
    "# TPSOE Data"
   ]
  },
  {
   "cell_type": "code",
   "execution_count": 20,
   "id": "20a24602-cee3-472f-ab01-36222ce94070",
   "metadata": {
    "tags": []
   },
   "outputs": [
    {
     "data": {
      "text/html": [
       "<div>\n",
       "<style scoped>\n",
       "    .dataframe tbody tr th:only-of-type {\n",
       "        vertical-align: middle;\n",
       "    }\n",
       "\n",
       "    .dataframe tbody tr th {\n",
       "        vertical-align: top;\n",
       "    }\n",
       "\n",
       "    .dataframe thead th {\n",
       "        text-align: right;\n",
       "    }\n",
       "</style>\n",
       "<table border=\"1\" class=\"dataframe\">\n",
       "  <thead>\n",
       "    <tr style=\"text-align: right;\">\n",
       "      <th></th>\n",
       "      <th>pec_class</th>\n",
       "      <th>division</th>\n",
       "      <th>fund</th>\n",
       "      <th>fund_description</th>\n",
       "      <th>appropriation</th>\n",
       "      <th>type</th>\n",
       "      <th>allocation</th>\n",
       "      <th>expenditure</th>\n",
       "      <th>balance</th>\n",
       "      <th>encumbrance</th>\n",
       "      <th>projection</th>\n",
       "      <th>year_expended_pace</th>\n",
       "      <th>%_expended</th>\n",
       "      <th>notes</th>\n",
       "    </tr>\n",
       "  </thead>\n",
       "  <tbody>\n",
       "    <tr>\n",
       "      <th>0</th>\n",
       "      <td>2030</td>\n",
       "      <td>Local Assistance</td>\n",
       "      <td>0001</td>\n",
       "      <td>General Fund</td>\n",
       "      <td>22002</td>\n",
       "      <td>ps</td>\n",
       "      <td>1500000.0</td>\n",
       "      <td>0.0</td>\n",
       "      <td>1500000.0</td>\n",
       "      <td>NaN</td>\n",
       "      <td>0.0</td>\n",
       "      <td>0.000000</td>\n",
       "      <td>0</td>\n",
       "      <td>NaN</td>\n",
       "    </tr>\n",
       "    <tr>\n",
       "      <th>1</th>\n",
       "      <td>2030</td>\n",
       "      <td>Local Assistance</td>\n",
       "      <td>0001</td>\n",
       "      <td>General Fund</td>\n",
       "      <td>22030</td>\n",
       "      <td>ps</td>\n",
       "      <td>2625000.0</td>\n",
       "      <td>1405981.0</td>\n",
       "      <td>1219018.0</td>\n",
       "      <td>NaN</td>\n",
       "      <td>1405981.0</td>\n",
       "      <td>0.535612</td>\n",
       "      <td>0.535612</td>\n",
       "      <td>NaN</td>\n",
       "    </tr>\n",
       "    <tr>\n",
       "      <th>2</th>\n",
       "      <td>3010</td>\n",
       "      <td>DRMT</td>\n",
       "      <td>0001</td>\n",
       "      <td>General Fund</td>\n",
       "      <td>22030</td>\n",
       "      <td>ps</td>\n",
       "      <td>150000.0</td>\n",
       "      <td>149442.0</td>\n",
       "      <td>557.0</td>\n",
       "      <td>NaN</td>\n",
       "      <td>149442.0</td>\n",
       "      <td>0.996280</td>\n",
       "      <td>0.996283</td>\n",
       "      <td>NaN</td>\n",
       "    </tr>\n",
       "    <tr>\n",
       "      <th>3</th>\n",
       "      <td>4010</td>\n",
       "      <td>DOTP</td>\n",
       "      <td>0001</td>\n",
       "      <td>General Fund</td>\n",
       "      <td>22030</td>\n",
       "      <td>ps</td>\n",
       "      <td>150000.0</td>\n",
       "      <td>153219.0</td>\n",
       "      <td>-3219.0</td>\n",
       "      <td>NaN</td>\n",
       "      <td>153219.0</td>\n",
       "      <td>1.021460</td>\n",
       "      <td>1.02146</td>\n",
       "      <td>NaN</td>\n",
       "    </tr>\n",
       "    <tr>\n",
       "      <th>4</th>\n",
       "      <td>1000</td>\n",
       "      <td>Aeronautics</td>\n",
       "      <td>0041</td>\n",
       "      <td>Aeronautics Account STF</td>\n",
       "      <td>22001R</td>\n",
       "      <td>ps</td>\n",
       "      <td>59000.0</td>\n",
       "      <td>30208.0</td>\n",
       "      <td>28791.0</td>\n",
       "      <td>NaN</td>\n",
       "      <td>30208.0</td>\n",
       "      <td>0.512000</td>\n",
       "      <td>0.512012</td>\n",
       "      <td>NaN</td>\n",
       "    </tr>\n",
       "  </tbody>\n",
       "</table>\n",
       "</div>"
      ],
      "text/plain": [
       "0 pec_class          division  fund         fund_description appropriation  \\\n",
       "0      2030  Local Assistance  0001             General Fund         22002   \n",
       "1      2030  Local Assistance  0001             General Fund         22030   \n",
       "2      3010              DRMT  0001             General Fund         22030   \n",
       "3      4010              DOTP  0001             General Fund         22030   \n",
       "4      1000       Aeronautics  0041  Aeronautics Account STF        22001R   \n",
       "\n",
       "0 type  allocation  expenditure    balance  encumbrance  projection  \\\n",
       "0   ps   1500000.0          0.0  1500000.0          NaN         0.0   \n",
       "1   ps   2625000.0    1405981.0  1219018.0          NaN   1405981.0   \n",
       "2   ps    150000.0     149442.0      557.0          NaN    149442.0   \n",
       "3   ps    150000.0     153219.0    -3219.0          NaN    153219.0   \n",
       "4   ps     59000.0      30208.0    28791.0          NaN     30208.0   \n",
       "\n",
       "0  year_expended_pace %_expended  notes  \n",
       "0            0.000000          0    NaN  \n",
       "1            0.535612   0.535612    NaN  \n",
       "2            0.996280   0.996283    NaN  \n",
       "3            1.021460    1.02146    NaN  \n",
       "4            0.512000   0.512012    NaN  "
      ]
     },
     "execution_count": 20,
     "metadata": {},
     "output_type": "execute_result"
    }
   ],
   "source": [
    "df2.head()"
   ]
  },
  {
   "cell_type": "code",
   "execution_count": 21,
   "id": "cbc5c2a9-134e-4892-b277-af47aeffc722",
   "metadata": {},
   "outputs": [
    {
     "data": {
      "text/html": [
       "<div>\n",
       "<style scoped>\n",
       "    .dataframe tbody tr th:only-of-type {\n",
       "        vertical-align: middle;\n",
       "    }\n",
       "\n",
       "    .dataframe tbody tr th {\n",
       "        vertical-align: top;\n",
       "    }\n",
       "\n",
       "    .dataframe thead th {\n",
       "        text-align: right;\n",
       "    }\n",
       "</style>\n",
       "<table border=\"1\" class=\"dataframe\">\n",
       "  <thead>\n",
       "    <tr style=\"text-align: right;\">\n",
       "      <th></th>\n",
       "      <th>pec_class</th>\n",
       "      <th>division</th>\n",
       "      <th>fund</th>\n",
       "      <th>fund_description</th>\n",
       "      <th>appropriation</th>\n",
       "      <th>type</th>\n",
       "      <th>allocation</th>\n",
       "      <th>expenditure</th>\n",
       "      <th>balance</th>\n",
       "      <th>encumbrance</th>\n",
       "      <th>projection</th>\n",
       "      <th>year_end_expendded_pace</th>\n",
       "      <th>%_expended</th>\n",
       "      <th>notes</th>\n",
       "    </tr>\n",
       "  </thead>\n",
       "  <tbody>\n",
       "    <tr>\n",
       "      <th>0</th>\n",
       "      <td>1000</td>\n",
       "      <td>Aeronautics</td>\n",
       "      <td>41</td>\n",
       "      <td>Aeronautics Account STF</td>\n",
       "      <td>22001</td>\n",
       "      <td>PS</td>\n",
       "      <td>3742000</td>\n",
       "      <td>2668503.64</td>\n",
       "      <td>1073496.36</td>\n",
       "      <td>NaN</td>\n",
       "      <td>2.911095e+06</td>\n",
       "      <td>0.777952</td>\n",
       "      <td>0.713122</td>\n",
       "      <td>NaN</td>\n",
       "    </tr>\n",
       "    <tr>\n",
       "      <th>1</th>\n",
       "      <td>1000</td>\n",
       "      <td>Aeronautics</td>\n",
       "      <td>41</td>\n",
       "      <td>Aeronautics Account STF</td>\n",
       "      <td>22001R</td>\n",
       "      <td>PS</td>\n",
       "      <td>59000</td>\n",
       "      <td>26017.94</td>\n",
       "      <td>32982.06</td>\n",
       "      <td>NaN</td>\n",
       "      <td>2.838321e+04</td>\n",
       "      <td>0.481071</td>\n",
       "      <td>0.440982</td>\n",
       "      <td>NaN</td>\n",
       "    </tr>\n",
       "    <tr>\n",
       "      <th>2</th>\n",
       "      <td>1000</td>\n",
       "      <td>Aeronautics</td>\n",
       "      <td>890</td>\n",
       "      <td>Federal Trust Fund</td>\n",
       "      <td>22001F</td>\n",
       "      <td>PS</td>\n",
       "      <td>89000</td>\n",
       "      <td>0.00</td>\n",
       "      <td>89000.00</td>\n",
       "      <td>NaN</td>\n",
       "      <td>0.000000e+00</td>\n",
       "      <td>0.000000</td>\n",
       "      <td>0.000000</td>\n",
       "      <td>NaN</td>\n",
       "    </tr>\n",
       "    <tr>\n",
       "      <th>3</th>\n",
       "      <td>2030</td>\n",
       "      <td>Local Assistance</td>\n",
       "      <td>1</td>\n",
       "      <td>General Fund</td>\n",
       "      <td>22030</td>\n",
       "      <td>PS</td>\n",
       "      <td>2625000</td>\n",
       "      <td>1265708.14</td>\n",
       "      <td>1359291.86</td>\n",
       "      <td>NaN</td>\n",
       "      <td>1.380773e+06</td>\n",
       "      <td>0.526009</td>\n",
       "      <td>0.482175</td>\n",
       "      <td>NaN</td>\n",
       "    </tr>\n",
       "    <tr>\n",
       "      <th>4</th>\n",
       "      <td>2030</td>\n",
       "      <td>Local Assistance</td>\n",
       "      <td>1</td>\n",
       "      <td>General Fund</td>\n",
       "      <td>22002</td>\n",
       "      <td>PS</td>\n",
       "      <td>1500000</td>\n",
       "      <td>0.00</td>\n",
       "      <td>1500000.00</td>\n",
       "      <td>NaN</td>\n",
       "      <td>0.000000e+00</td>\n",
       "      <td>0.000000</td>\n",
       "      <td>0.000000</td>\n",
       "      <td>NaN</td>\n",
       "    </tr>\n",
       "  </tbody>\n",
       "</table>\n",
       "</div>"
      ],
      "text/plain": [
       "   pec_class          division  fund         fund_description appropriation  \\\n",
       "0       1000       Aeronautics    41  Aeronautics Account STF         22001   \n",
       "1       1000       Aeronautics    41  Aeronautics Account STF        22001R   \n",
       "2       1000       Aeronautics   890       Federal Trust Fund        22001F   \n",
       "3       2030  Local Assistance     1             General Fund         22030   \n",
       "4       2030  Local Assistance     1             General Fund         22002   \n",
       "\n",
       "  type  allocation  expenditure     balance  encumbrance    projection  \\\n",
       "0   PS     3742000   2668503.64  1073496.36          NaN  2.911095e+06   \n",
       "1   PS       59000     26017.94    32982.06          NaN  2.838321e+04   \n",
       "2   PS       89000         0.00    89000.00          NaN  0.000000e+00   \n",
       "3   PS     2625000   1265708.14  1359291.86          NaN  1.380773e+06   \n",
       "4   PS     1500000         0.00  1500000.00          NaN  0.000000e+00   \n",
       "\n",
       "   year_end_expendded_pace  %_expended  notes  \n",
       "0                 0.777952    0.713122    NaN  \n",
       "1                 0.481071    0.440982    NaN  \n",
       "2                 0.000000    0.000000    NaN  \n",
       "3                 0.526009    0.482175    NaN  \n",
       "4                 0.000000    0.000000    NaN  "
      ]
     },
     "execution_count": 21,
     "metadata": {},
     "output_type": "execute_result"
    }
   ],
   "source": [
    "tpsoe_df.head()"
   ]
  },
  {
   "cell_type": "code",
   "execution_count": 22,
   "id": "8e820635-9294-4555-be9f-3cee49edbddd",
   "metadata": {},
   "outputs": [],
   "source": [
    "df2_cols = [\n",
    "    \"allocation\",\n",
    "    \"expenditure\",\n",
    "    \"balance\",\n",
    "    \"encumbrance\",\n",
    "    \"projection\",\n",
    "]"
   ]
  },
  {
   "cell_type": "code",
   "execution_count": 23,
   "id": "d4935ac4-7173-48db-99c4-b1452c3542d1",
   "metadata": {},
   "outputs": [
    {
     "name": "stdout",
     "output_type": "stream",
     "text": [
      "\n",
      "allocation\n",
      "478694000.0\n",
      "\n",
      "expenditure\n",
      "305256537.0\n",
      "\n",
      "balance\n",
      "-76202131.0\n",
      "\n",
      "encumbrance\n",
      "249639526.0\n",
      "\n",
      "projection\n",
      "554896063.0\n"
     ]
    }
   ],
   "source": [
    "for i in df2_cols:\n",
    "    print(\"\\n\" + i)\n",
    "    print(df2[i].sum())"
   ]
  },
  {
   "cell_type": "markdown",
   "id": "d1255e1f-5e48-47b1-b108-d4cf321a1ede",
   "metadata": {},
   "source": [
    "# Timeline Data"
   ]
  },
  {
   "cell_type": "code",
   "execution_count": 24,
   "id": "9e044721-8e4b-4df9-84df-8cfe3a699035",
   "metadata": {
    "tags": []
   },
   "outputs": [
    {
     "data": {
      "text/plain": [
       "169"
      ]
     },
     "execution_count": 24,
     "metadata": {},
     "output_type": "execute_result"
    }
   ],
   "source": [
    "len(df3)"
   ]
  },
  {
   "cell_type": "code",
   "execution_count": 25,
   "id": "b90b91cb-8627-468f-aa8a-4cdc3fe26691",
   "metadata": {},
   "outputs": [
    {
     "data": {
      "text/plain": [
       "array(['22002', '22030', '22001R', '22001', '22102', '22008', '22001F',\n",
       "       '1850522', '22004', '22102F'], dtype=object)"
      ]
     },
     "execution_count": 25,
     "metadata": {},
     "output_type": "execute_result"
    }
   ],
   "source": [
    "df3[\"appropriation\"].unique()"
   ]
  },
  {
   "cell_type": "code",
   "execution_count": 26,
   "id": "bd57489b-20ba-46ee-a0b5-6ed01325f89b",
   "metadata": {},
   "outputs": [
    {
     "data": {
      "text/plain": [
       "{'appropriation',\n",
       " 'oe_allocation',\n",
       " 'oe_balance',\n",
       " 'oe_encumbrance',\n",
       " 'oe_expenditure',\n",
       " 'ps_allocation',\n",
       " 'ps_balance',\n",
       " 'ps_expenditure',\n",
       " 'total_%_expended',\n",
       " 'total_expenditure',\n",
       " 'year_expended_pace'}"
      ]
     },
     "execution_count": 26,
     "metadata": {},
     "output_type": "execute_result"
    }
   ],
   "source": [
    "set(df3.columns).difference(set(timeline_df.columns))"
   ]
  },
  {
   "cell_type": "code",
   "execution_count": 27,
   "id": "ebd9c897-d1aa-4902-83fe-64544dd0d253",
   "metadata": {},
   "outputs": [
    {
     "data": {
      "text/plain": [
       "{'appr',\n",
       " 'oe_alloc',\n",
       " 'oe_bal_excl_pre_enc',\n",
       " 'oe_enc',\n",
       " 'oe_exp',\n",
       " 'ps_alloc',\n",
       " 'ps_bal',\n",
       " 'ps_exp',\n",
       " 'total_expended___encumbrance',\n",
       " 'total_projected_%'}"
      ]
     },
     "execution_count": 27,
     "metadata": {},
     "output_type": "execute_result"
    }
   ],
   "source": [
    "set(timeline_df.columns).difference(set(df3.columns))"
   ]
  },
  {
   "cell_type": "code",
   "execution_count": 28,
   "id": "7f880592-fcc2-4574-babb-c4ba8d921405",
   "metadata": {
    "tags": []
   },
   "outputs": [
    {
     "data": {
      "text/plain": [
       "10    60\n",
       "11    55\n",
       "12    54\n",
       "Name: ap, dtype: int64"
      ]
     },
     "execution_count": 28,
     "metadata": {},
     "output_type": "execute_result"
    }
   ],
   "source": [
    "df3[\"ap\"].value_counts()"
   ]
  },
  {
   "cell_type": "code",
   "execution_count": 29,
   "id": "a2e011fa-a0b1-475c-b41a-dc56d07c3ec0",
   "metadata": {},
   "outputs": [
    {
     "ename": "NameError",
     "evalue": "name 'df3_cols' is not defined",
     "output_type": "error",
     "traceback": [
      "\u001b[0;31m---------------------------------------------------------------------------\u001b[0m",
      "\u001b[0;31mNameError\u001b[0m                                 Traceback (most recent call last)",
      "Input \u001b[0;32mIn [29]\u001b[0m, in \u001b[0;36m<cell line: 1>\u001b[0;34m()\u001b[0m\n\u001b[0;32m----> 1\u001b[0m \u001b[38;5;28;01mfor\u001b[39;00m i \u001b[38;5;129;01min\u001b[39;00m \u001b[43mdf3_cols\u001b[49m:\n\u001b[1;32m      2\u001b[0m     \u001b[38;5;28mprint\u001b[39m(\u001b[38;5;124m\"\u001b[39m\u001b[38;5;130;01m\\n\u001b[39;00m\u001b[38;5;124m\"\u001b[39m \u001b[38;5;241m+\u001b[39m i)\n\u001b[1;32m      3\u001b[0m     \u001b[38;5;28mprint\u001b[39m(df3[i]\u001b[38;5;241m.\u001b[39msum())\n",
      "\u001b[0;31mNameError\u001b[0m: name 'df3_cols' is not defined"
     ]
    }
   ],
   "source": [
    "for i in df3_cols:\n",
    "    print(\"\\n\" + i)\n",
    "    print(df3[i].sum())"
   ]
  },
  {
   "cell_type": "code",
   "execution_count": null,
   "id": "5fd24788-9b6c-40ee-89d0-2dd71b15b310",
   "metadata": {},
   "outputs": [],
   "source": [
    "for i in df3_cols:\n",
    "    print(\"\\n\" + i)\n",
    "    print(ap10[i].sum() + ap11[i].sum() + ap12[i].sum())"
   ]
  },
  {
   "cell_type": "code",
   "execution_count": null,
   "id": "ca4c5d2a-2d16-4f34-8a6b-e1740c82c692",
   "metadata": {},
   "outputs": [],
   "source": [
    "for i in df3_cols:\n",
    "    print(\"\\n\" + i)\n",
    "    print(ap10[i].sum())"
   ]
  },
  {
   "cell_type": "code",
   "execution_count": null,
   "id": "ea35f943-03da-4a5d-b7cd-be54e768b59a",
   "metadata": {},
   "outputs": [],
   "source": [
    "for i in df3_cols:\n",
    "    print(\"\\n\" + i)\n",
    "    print(ap11[i].sum())"
   ]
  },
  {
   "cell_type": "markdown",
   "id": "53ff3419-6b19-46df-9c8f-989986df6c5b",
   "metadata": {},
   "source": [
    "# PSOE Timeline"
   ]
  },
  {
   "cell_type": "code",
   "execution_count": null,
   "id": "eeef66df-d611-4d2d-af24-02ea6eda637e",
   "metadata": {},
   "outputs": [],
   "source": [
    "df4.shape"
   ]
  },
  {
   "cell_type": "code",
   "execution_count": null,
   "id": "b114be21-edc1-457d-ae8d-2e82aec661ac",
   "metadata": {
    "tags": []
   },
   "outputs": [],
   "source": [
    "df4.head()"
   ]
  },
  {
   "cell_type": "code",
   "execution_count": null,
   "id": "22cbc49a-891e-47c5-a1d6-72831d4f5c50",
   "metadata": {},
   "outputs": [],
   "source": [
    "psoe_df.head()"
   ]
  },
  {
   "cell_type": "code",
   "execution_count": null,
   "id": "a6b86fce-1d09-4742-a46c-44569ba85c89",
   "metadata": {},
   "outputs": [],
   "source": [
    "df4_cols = [\"allocation\", \"expense\", \"balance\", \"projection\", \"encumbrance\"]"
   ]
  },
  {
   "cell_type": "code",
   "execution_count": null,
   "id": "92c0b826-629b-4ec0-a9fa-9c8516b9a988",
   "metadata": {},
   "outputs": [],
   "source": []
  }
 ],
 "metadata": {
  "kernelspec": {
   "display_name": "Python 3 (ipykernel)",
   "language": "python",
   "name": "python3"
  },
  "language_info": {
   "codemirror_mode": {
    "name": "ipython",
    "version": 3
   },
   "file_extension": ".py",
   "mimetype": "text/x-python",
   "name": "python",
   "nbconvert_exporter": "python",
   "pygments_lexer": "ipython3",
   "version": "3.10.4"
  }
 },
 "nbformat": 4,
 "nbformat_minor": 5
}
