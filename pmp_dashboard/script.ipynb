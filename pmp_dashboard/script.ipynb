{
 "cells": [
  {
   "cell_type": "markdown",
   "id": "e009586a-a399-4b77-b649-0a2935b8df31",
   "metadata": {},
   "source": [
    "# Automate the Excel workbook linked to PMP Dashboard"
   ]
  },
  {
   "cell_type": "code",
   "execution_count": 1,
   "id": "fcb68152-f948-42ec-8f41-defb0755c9e2",
   "metadata": {},
   "outputs": [
    {
     "name": "stderr",
     "output_type": "stream",
     "text": [
      "/opt/conda/lib/python3.10/site-packages/geopandas/_compat.py:111: UserWarning: The Shapely GEOS version (3.10.2-CAPI-1.16.0) is incompatible with the GEOS version PyGEOS was compiled with (3.10.1-CAPI-1.16.0). Conversions between both will be slow.\n",
      "  warnings.warn(\n"
     ]
    }
   ],
   "source": [
    "import geopandas as gpd\n",
    "import numpy as np\n",
    "import pandas as pd\n",
    "from calitp import *\n",
    "from shared_utils import utils\n",
    "\n",
    "# Formatting the nb\n",
    "pd.options.display.max_columns = 100\n",
    "pd.set_option(\"display.max_rows\", None)\n",
    "pd.set_option(\"display.max_colwidth\", None)"
   ]
  },
  {
   "cell_type": "code",
   "execution_count": 2,
   "id": "687473de-a2ef-4ffd-89ad-dc0e2f502084",
   "metadata": {},
   "outputs": [],
   "source": [
    "GCS_FILE_PATH = \"gs://calitp-analytics-data/data-analyses/pmp_dashboard/\""
   ]
  },
  {
   "cell_type": "markdown",
   "id": "fb7b7136-cef9-446d-b1b0-0d3f7ec35207",
   "metadata": {},
   "source": [
    "## Load in data\n",
    "### Load manually cleaned df so I can reference "
   ]
  },
  {
   "cell_type": "code",
   "execution_count": null,
   "id": "c6a9c0b7-95b6-472d-ab6a-7811c43b4308",
   "metadata": {},
   "outputs": [],
   "source": [
    "# DF that William manipulated\n",
    "FILE_NAME_1 = \"PMP Summary Report Data.xlsx\"\n",
    "\n",
    "# Sheets in William's notebook that I want\n",
    "sheets_list = [\"Fund by Division Data\", \"TPSOE Data\", \"Timeline Data\", \"PSOE Timeline\"]\n",
    "\n",
    "dict_df1 = pd.read_excel(f\"{GCS_FILE_PATH}{FILE_NAME_1}\", sheet_name=sheets_list)\n",
    "\n",
    "division_df = to_snakecase(dict_df1.get(\"Fund by Division Data\"))\n",
    "tpsoe_df = to_snakecase(dict_df1.get(\"TPSOE Data\"))\n",
    "timeline_df = to_snakecase(dict_df1.get(\"Timeline Data\"))\n",
    "psoe_df = to_snakecase(dict_df1.get(\"PSOE Timeline\"))"
   ]
  },
  {
   "cell_type": "markdown",
   "id": "a9a0f20a-2008-4430-bfb4-a89412740ca1",
   "metadata": {},
   "source": [
    "### Load in & clean data for each accounting period"
   ]
  },
  {
   "cell_type": "code",
   "execution_count": null,
   "id": "c0b316fe-703d-4107-a420-bd4eedb6a26e",
   "metadata": {},
   "outputs": [],
   "source": [
    "div_crosswalks = {\n",
    "    \"State & Fed Mass Trans\": \"DRMT\",\n",
    "    \"Statewide Planning\": \"DOTP\",\n",
    "    \"Research\": \"DRISI\",\n",
    "    \"PSR/PSSR Development\": \"DOTP\",\n",
    "    \"Rail\": \"DRMT\",\n",
    "    \"Planning Administration\": \"DOTP\",\n",
    "    \"Regional Planning\": \"DOTP\",\n",
    "}"
   ]
  },
  {
   "cell_type": "code",
   "execution_count": null,
   "id": "5c64f252-1396-403e-b47c-40a9b15b6c23",
   "metadata": {},
   "outputs": [],
   "source": [
    "int_cols = [\n",
    "    \"ps_allocation\",\n",
    "    \"ps_expenditure\",\n",
    "    \"ps_balance\",\n",
    "    \"py_pos_alloc\",\n",
    "    \"act__hours\",\n",
    "    \"oe_allocation\",\n",
    "    \"oe_encumbrance\",\n",
    "    \"oe_expenditure\",\n",
    "    \"oe_balance\",\n",
    "]\n",
    "\n",
    "#percent_cols = [\"ps_%_expended\", \"oe_%_expended\", \"total_%_expended\"]"
   ]
  },
  {
   "cell_type": "code",
   "execution_count": null,
   "id": "d0bfe101-70ca-4944-b6ed-1ed1c46a541e",
   "metadata": {},
   "outputs": [],
   "source": [
    "\"\"\"\n",
    "Each time I receive new data for each accounting period and \n",
    "load data into function import_raw_data, the dataframe will be \n",
    "appended onto this list\n",
    "\"\"\"\n",
    "my_clean_dataframes = []"
   ]
  },
  {
   "cell_type": "code",
   "execution_count": null,
   "id": "3c9bcbb2-2ab1-4627-b947-d6bd0d6a5660",
   "metadata": {},
   "outputs": [],
   "source": [
    "unwanted_appropriations = [\"1850522\", \"22102\", \"22105\"]"
   ]
  },
  {
   "cell_type": "code",
   "execution_count": null,
   "id": "bf5eb160-0165-4a84-b606-07db2728fae9",
   "metadata": {},
   "outputs": [],
   "source": [
    "def import_raw_data(\n",
    "    file_name: str,\n",
    "    name_of_sheet: str,\n",
    "    appropriations_to_filter: list,\n",
    "    accounting_period: int,\n",
    "):\n",
    "\n",
    "    \"\"\"Load the raw data and clean it up.\n",
    "\n",
    "    Args:\n",
    "        file_name: the Excel workbook\n",
    "        name_of_sheet: the name of the sheet\n",
    "        appropriations_to_filter: list of all the appropriations to be filtered out\n",
    "        ap: enter the accounting period this is\n",
    "\n",
    "    Returns:\n",
    "        The cleaned df. Input the results into a list.\n",
    "\n",
    "    \"\"\"\n",
    "    df = pd.read_excel(f\"{GCS_FILE_PATH}{file_name}\", sheet_name=name_of_sheet)\n",
    "\n",
    "    # Get rid of the unnecessary header info\n",
    "    # Stuff like \"Enterprise Datalink Production download as of 05/23/2022\"\n",
    "    df = df.iloc[13:].reset_index(drop=True)\n",
    "\n",
    "    # The first row contains column names - update it to the column\n",
    "    df.columns = df.iloc[0]\n",
    "\n",
    "    # Drop the first row as they are now column names\n",
    "    df = df.drop(df.index[0]).reset_index(drop=True)\n",
    "\n",
    "    # Drop rows with NA in PEC Class\n",
    "    # Since those are probably the grand totals tagged at the end of the Excel sheet\n",
    "    df = df.dropna(subset=[\"PEC Class\"])\n",
    "\n",
    "    # Snakecase\n",
    "    df = to_snakecase(df)\n",
    "\n",
    "    # Rename columns to mimc dashboard\n",
    "    df = df.rename(\n",
    "        columns={\n",
    "            \"ps_alloc\": \"ps_allocation\",\n",
    "            \"ps_exp\": \"ps_expenditure\",\n",
    "            \"ps_bal\": \"ps_balance\",\n",
    "            \"total_projected_%\": \"total_%_expended\",\n",
    "            \"oe_alloc\": \"oe_allocation\",\n",
    "            \"oe_enc\": \"oe_encumbrance\",\n",
    "            \"oe_exp\": \"oe_expenditure\",\n",
    "            \"appr\": \"appropriation\",\n",
    "            \"oe_bal_excl_pre_enc\": \"oe_balance\",\n",
    "        }\n",
    "    )\n",
    "\n",
    "    # Certain appropriation(s) are filtered out:\n",
    "    df = df[~df.appropriation.isin(appropriations_to_filter)]\n",
    "    \n",
    "    # Change to the right data type\n",
    "    df[int_cols] = df[int_cols].astype(\"int64\").fillna(0)\n",
    "    \"\"\"\n",
    "    Create Columns\n",
    "    Change to assign later\n",
    "    \"\"\"\n",
    "    # Fill in a column with the accounting period\n",
    "    df[\"ap\"] = accounting_period\n",
    "\n",
    "    # Create a variable that just captures one instance of the ap,\n",
    "    # this is used in certain calculations for columns\n",
    "    ap_variable = df.iloc[0][\"ap\"]\n",
    "    \n",
    "    # Add column of PS Projection\n",
    "    df[\"ps_projection\"] = (df[\"ps_expenditure\"] / ap_variable) * 12\n",
    "    # PS % Expended\n",
    "    df[\"ps_%_expended\"] = (df[\"ps_expenditure\"] / df[\"ps_allocation\"]).fillna(0)\n",
    "    # Add the column of 'Year End Expended Pace'\n",
    "    df[\"year_expended_pace\"] = (df[\"ps_projection\"] / df[\"ps_allocation\"]).fillna(0)\n",
    "    # Create oe__enc_+_oe_exp_projection\n",
    "    df[\"oe_projection\"] = df[\"oe_encumbrance\"] + df[\"oe_expenditure\"] / (\n",
    "        ap_variable * 12\n",
    "    ).astype(\"int64\")\n",
    "    # Create OE expended\n",
    "    df[\"oe_%_expended\"] = (df[\"oe_projection\"] / df[\"oe_allocation\"]).fillna(0)\n",
    "\n",
    "    # Narrow down division names into a new column\n",
    "    df[\"division\"] = df[\"pec_class_description\"].replace(div_crosswalks)\n",
    "\n",
    "    # Add in totals\n",
    "    df[\"total_allocation\"] = df[\"oe_allocation\"] + df[\"ps_allocation\"]\n",
    "    # Originally called total expended & encumbrance\n",
    "    df[\"total_expenditure\"] = (\n",
    "        df[\"oe_encumbrance\"] + df[\"oe_expenditure\"] + df[\"ps_expenditure\"]\n",
    "    )\n",
    "    df[\"total_balance\"] = df[\"ps_balance\"] + df[\"oe_balance\"]\n",
    "    df[\"total_projection\"] = df[\"ps_projection\"] + df[\"oe_projection\"]\n",
    "    df[\"total_projected_%\"] = (df[\"total_expenditure\"] / df[\"total_allocation\"]).fillna(\n",
    "        0\n",
    "    )\n",
    "\n",
    "    # Adding dataframe to an empty list called my_clean_dataframes\n",
    "    my_clean_dataframes.append(df)\n",
    "\n",
    "    return df"
   ]
  },
  {
   "cell_type": "code",
   "execution_count": null,
   "id": "b4e26117-e0bb-48ef-8aef-cff64524910b",
   "metadata": {},
   "outputs": [],
   "source": [
    "ap4 = import_raw_data(\"AP4 October.xls\", \"Download\", unwanted_appropriations, 4)"
   ]
  },
  {
   "cell_type": "code",
   "execution_count": null,
   "id": "58e2d758-b067-493c-8edf-ba97cb62384d",
   "metadata": {},
   "outputs": [],
   "source": [
    "ap4.head()"
   ]
  },
  {
   "cell_type": "code",
   "execution_count": null,
   "id": "3a3a18da-5c34-444a-9008-36f973eee3ac",
   "metadata": {},
   "outputs": [],
   "source": [
    "ap11 = import_raw_data(\n",
    "    \"FY 2122 AP11_Closed_PMP Summary Report.022822_Updated.xlsx\",\n",
    "    \"Raw Data AP11 Closed\",\n",
    "    unwanted_appropriations,\n",
    ")"
   ]
  },
  {
   "cell_type": "code",
   "execution_count": null,
   "id": "f71196c5-4785-408e-a652-5997501a5a27",
   "metadata": {},
   "outputs": [],
   "source": [
    "ap11.head()"
   ]
  },
  {
   "cell_type": "code",
   "execution_count": null,
   "id": "c39a55e0-9d6a-43d1-babe-c36eaf0f35c3",
   "metadata": {},
   "outputs": [],
   "source": [
    "ap4.dtypes"
   ]
  },
  {
   "cell_type": "code",
   "execution_count": null,
   "id": "a35fb414-bc6f-45cc-ba41-3d682b1e7240",
   "metadata": {},
   "outputs": [],
   "source": [
    "ap11.info()"
   ]
  },
  {
   "cell_type": "code",
   "execution_count": null,
   "id": "dac46493-fdfd-4b54-a540-b649f5ea3335",
   "metadata": {},
   "outputs": [],
   "source": [
    "ap11.columns"
   ]
  },
  {
   "cell_type": "code",
   "execution_count": null,
   "id": "95f3e4d2-2833-4a2c-8104-4dd1bca1fcbf",
   "metadata": {},
   "outputs": [],
   "source": [
    "int_cols = [\n",
    "    \"ps_allocation\",\n",
    "    \"ps_expenditure\",\n",
    "    \"ps_balance\",\n",
    "    \"ps_projection\",\n",
    "    \"py_pos_alloc\",\n",
    "    \"act__hours\",\n",
    "    \"oe_allocation\",\n",
    "    \"oe_encumbrance\",\n",
    "    \"oe_expenditure\",\n",
    "    \"oe_balance\",\n",
    "    \"oe_projection\",\n",
    "    \"total_allocation\",\n",
    "    \"total_expenditure\",\n",
    "    \"total_balance\",\n",
    "    \"total_projection\",\n",
    "]"
   ]
  },
  {
   "cell_type": "code",
   "execution_count": null,
   "id": "90f12fb4-ef23-4c0d-8ae4-159794d89551",
   "metadata": {},
   "outputs": [],
   "source": [
    "percent_cols = [\"ps_%_expended\", \"oe_%_expended\", \"total_%_expended\"]"
   ]
  },
  {
   "cell_type": "code",
   "execution_count": null,
   "id": "5f781327-5237-4165-b7db-f33a7b7ba742",
   "metadata": {},
   "outputs": [],
   "source": [
    "ap11[int_cols] = ap11[int_cols].astype(\"int64\")"
   ]
  },
  {
   "cell_type": "code",
   "execution_count": null,
   "id": "bae540bf-0669-446f-9b16-d939b344b0e5",
   "metadata": {},
   "outputs": [],
   "source": [
    "ap11[percent_cols] = ap11[percent_cols].replace(\"%\", \"\", regex=True).astype(\"float\")"
   ]
  },
  {
   "cell_type": "code",
   "execution_count": null,
   "id": "b028cd55-dd9e-447b-aeda-d5353c7dd3db",
   "metadata": {},
   "outputs": [],
   "source": [
    "ap11[\"year_expended_pace\"] = (ap11[\"ps_projection\"] / ap11[\"ps_allocation\"]).fillna(0)"
   ]
  },
  {
   "cell_type": "code",
   "execution_count": null,
   "id": "3daff055-57ac-4cf6-87c4-e2a2b820adcb",
   "metadata": {},
   "outputs": [],
   "source": [
    "ap11.head()"
   ]
  },
  {
   "cell_type": "code",
   "execution_count": null,
   "id": "ce6e1e1d-fd5f-4f79-98d5-5081888b32cf",
   "metadata": {},
   "outputs": [],
   "source": [
    "# ap11.to_csv('./testing.csv')"
   ]
  },
  {
   "cell_type": "code",
   "execution_count": null,
   "id": "3e4c55db-8042-486b-8951-d0a43cbd0804",
   "metadata": {},
   "outputs": [],
   "source": [
    "set(ap4.columns).difference(set(ap11.columns))"
   ]
  },
  {
   "cell_type": "code",
   "execution_count": null,
   "id": "decc5fc2-53a0-4641-ae52-3cdb94f46897",
   "metadata": {},
   "outputs": [],
   "source": [
    "# ap7[\"total_balance\"].sum()"
   ]
  },
  {
   "cell_type": "code",
   "execution_count": null,
   "id": "3f3782df-2f31-43e0-8049-2dba00293297",
   "metadata": {},
   "outputs": [],
   "source": [
    "# ap4[\"total_balance\"].sum()"
   ]
  },
  {
   "cell_type": "code",
   "execution_count": null,
   "id": "b10fa41d-4daf-48e0-a883-a3121c54386a",
   "metadata": {
    "scrolled": true,
    "tags": []
   },
   "outputs": [],
   "source": [
    "# ap12[['fund','appropriation','pec_class','ps_allocation']].sort_values(['ps_allocation',])"
   ]
  },
  {
   "cell_type": "code",
   "execution_count": null,
   "id": "f69c1a82-2824-43ed-914e-874f4ceeb4f9",
   "metadata": {},
   "outputs": [],
   "source": [
    "len(my_clean_dataframes)"
   ]
  },
  {
   "cell_type": "markdown",
   "id": "b891fd53-12d1-4271-a804-8e35e1789577",
   "metadata": {},
   "source": [
    "## Fund by Division Data\n",
    "* Attempt to mimic William's processed sheet called \"division df\"\n",
    "* This dataframe is AP 11 with some stuff filtered"
   ]
  },
  {
   "cell_type": "code",
   "execution_count": null,
   "id": "765b63de-c309-45f2-a228-57b339c07e4d",
   "metadata": {},
   "outputs": [],
   "source": [
    "def create_fund_by_division(df):\n",
    "    # Drop excluded cols\n",
    "    excluded_cols = [\"appr_catg\", \"act__hours\", \"py_pos_alloc\"]\n",
    "    df = ap11.drop(columns=excluded_cols)\n",
    "\n",
    "    # Add a blank column for notes\n",
    "    df[\"notes\"] = np.nan\n",
    "\n",
    "    return df"
   ]
  },
  {
   "cell_type": "code",
   "execution_count": null,
   "id": "67e45b78-54c9-445b-895f-bcc57684b8f9",
   "metadata": {},
   "outputs": [],
   "source": [
    "division_test = create_fund_by_division(ap11)"
   ]
  },
  {
   "cell_type": "markdown",
   "id": "3a293508-feb9-40e8-8a3f-c989bab9ba6f",
   "metadata": {},
   "source": [
    "### Double checking: William's vs mine"
   ]
  },
  {
   "cell_type": "code",
   "execution_count": null,
   "id": "0c7b20fb-7f32-412b-9931-2c5ef28029e3",
   "metadata": {},
   "outputs": [],
   "source": [
    "test = set(division_test.appropriation.unique().tolist())\n",
    "actual = set(division_df.appropriation.unique().tolist())"
   ]
  },
  {
   "cell_type": "code",
   "execution_count": null,
   "id": "4cf6dc76-b9d6-4f40-b1c9-0e2d36787e95",
   "metadata": {},
   "outputs": [],
   "source": [
    "actual - test"
   ]
  },
  {
   "cell_type": "code",
   "execution_count": null,
   "id": "d243147b-d7fd-483f-82fc-18d32692f043",
   "metadata": {},
   "outputs": [],
   "source": [
    "test - actual"
   ]
  },
  {
   "cell_type": "code",
   "execution_count": null,
   "id": "c296c184-ca83-44c3-89ee-19732b18c9a4",
   "metadata": {
    "scrolled": true,
    "tags": []
   },
   "outputs": [],
   "source": [
    "# division_test[['appropriation','ps_allocation']].sort_values(['appropriation', 'ps_allocation'])"
   ]
  },
  {
   "cell_type": "code",
   "execution_count": null,
   "id": "d00b2cc5-f552-414c-8220-d13ba2a3ad6d",
   "metadata": {
    "scrolled": true,
    "tags": []
   },
   "outputs": [],
   "source": [
    "# division_df[['appropriation','ps_allocation']].sort_values(['appropriation', 'ps_allocation'])"
   ]
  },
  {
   "cell_type": "code",
   "execution_count": null,
   "id": "e0fe317b-82af-47df-85b1-8a67fec79f41",
   "metadata": {},
   "outputs": [],
   "source": [
    "# division_test.loc[division_test[\"appropriation\"] == \"22030\"]"
   ]
  },
  {
   "cell_type": "code",
   "execution_count": null,
   "id": "4b2bf078-1b8e-4875-b28c-8f0bb616a6d2",
   "metadata": {},
   "outputs": [],
   "source": [
    "# division_df.loc[division_df[\"appropriation\"] == \"22030\"]"
   ]
  },
  {
   "cell_type": "code",
   "execution_count": null,
   "id": "372a4a12-20b9-4164-9489-ada961d87f36",
   "metadata": {},
   "outputs": [],
   "source": [
    "testing_cols = [\n",
    "    \"ps_allocation\",\n",
    "    \"ps_expenditure\",\n",
    "    \"ps_balance\",\n",
    "    \"ps_projection\",\n",
    "    \"oe_allocation\",\n",
    "    \"oe_encumbrance\",\n",
    "    \"oe_expenditure\",\n",
    "    \"total_allocation\",\n",
    "    \"total_expenditure\",\n",
    "    \"total_balance\",\n",
    "]"
   ]
  },
  {
   "cell_type": "code",
   "execution_count": null,
   "id": "8693ca0e-e776-4985-8401-b75fd3b5488d",
   "metadata": {},
   "outputs": [],
   "source": [
    "for i in testing_cols:\n",
    "    print(\"\\n\" + i)\n",
    "    print(division_df[i].sum())\n",
    "    print(division_test[i].sum())"
   ]
  },
  {
   "cell_type": "markdown",
   "id": "f844cd1c-51a3-4eee-b1c7-7089480c59dd",
   "metadata": {},
   "source": [
    "## TPSOE Data"
   ]
  },
  {
   "cell_type": "code",
   "execution_count": null,
   "id": "8180abc5-9384-446a-9aea-dbd4a325c2a5",
   "metadata": {
    "tags": []
   },
   "outputs": [],
   "source": [
    "# Reference point\n",
    "# tpsoe_df.loc[tpsoe_df[\"division\"] == \"Aeronautics\"]"
   ]
  },
  {
   "cell_type": "code",
   "execution_count": null,
   "id": "2f4c21be-01f3-4502-a029-74235880b8c7",
   "metadata": {},
   "outputs": [],
   "source": [
    "# ap11.loc[ap11[\"division\"] == \"Aeronautics\"]"
   ]
  },
  {
   "cell_type": "markdown",
   "id": "816589f7-ab62-48c8-a90b-25786aac6f7e",
   "metadata": {},
   "source": [
    "### Function to clean"
   ]
  },
  {
   "cell_type": "code",
   "execution_count": null,
   "id": "2e52aa0c-a7b0-42e8-8d57-72bada1f41d5",
   "metadata": {},
   "outputs": [],
   "source": [
    "def cleaning_psoe_tpsoe(df, ps_or_oe: str):\n",
    "    \"\"\"\n",
    "    Fill in the column type for either ps: personal services\n",
    "    or oe: operating expense.\n",
    "    \"\"\"\n",
    "    df[\"type\"] = ps_or_oe\n",
    "\n",
    "    \"\"\"\n",
    "    Strip away the prefixes from column names\n",
    "    https://stackoverflow.com/questions/54097284/removing-suffix-from-dataframe-column-names-python\n",
    "    Create suffix\n",
    "    \"\"\"\n",
    "    suffix = f\"{ps_or_oe}_\"\n",
    "    df.columns = df.columns.str.replace(suffix, \"\", regex=True)\n",
    "\n",
    "    return df"
   ]
  },
  {
   "cell_type": "markdown",
   "id": "d835b09c-b6ff-471d-b1d0-fdad2673de3d",
   "metadata": {},
   "source": [
    "### Function to create sheet"
   ]
  },
  {
   "cell_type": "code",
   "execution_count": null,
   "id": "3598ddc0-04b0-4b27-bf43-556298d1dbe5",
   "metadata": {},
   "outputs": [],
   "source": [
    "# Cols: for PS\n",
    "tpsoe_ps_list = [\n",
    "    \"fund\",\n",
    "    \"fund_description\",\n",
    "    \"appropriation\",\n",
    "    \"pec_class\",\n",
    "    \"division\",\n",
    "    \"ps_allocation\",\n",
    "    \"ps_expenditure\",\n",
    "    \"ps_balance\",\n",
    "    \"ps_projection\",\n",
    "    \"year_end_expended_pace\",\n",
    "    \"ps_%_expended\",\n",
    "]\n",
    "\n",
    "# Cols for OE\n",
    "tpsoe_oe_list = [\n",
    "    \"fund\",\n",
    "    \"fund_description\",\n",
    "    \"appropriation\",\n",
    "    \"pec_class\",\n",
    "    \"division\",\n",
    "    \"oe_allocation\",\n",
    "    \"oe_encumbrance\",\n",
    "    \"oe_expenditure\",\n",
    "    \"oe_balance\",\n",
    "    \"oe_projection\",\n",
    "]\n",
    "\n",
    "monetary_cols = [\n",
    "    \"allocation\",\n",
    "    \"expenditure\",\n",
    "    \"balance\",\n",
    "    \"encumbrance\",\n",
    "    \"projection\",\n",
    "]\n",
    "\n",
    "order_of_cols = [\n",
    "    \"pec_class\",\n",
    "    \"division\",\n",
    "    \"fund\",\n",
    "    \"fund_description\",\n",
    "    \"appropriation\",\n",
    "    \"type\",\n",
    "    \"allocation\",\n",
    "    \"expenditure\",\n",
    "    \"balance\",\n",
    "    \"encumbrance\",\n",
    "    \"projection\",\n",
    "    \"year_expended_pace\",\n",
    "    \"%_expended\",\n",
    "]"
   ]
  },
  {
   "cell_type": "code",
   "execution_count": null,
   "id": "cdf5de76-054f-443d-ae2f-31e9a45f1124",
   "metadata": {},
   "outputs": [],
   "source": [
    "# chocolate"
   ]
  },
  {
   "cell_type": "code",
   "execution_count": null,
   "id": "e9948907-0874-44ac-bf37-6ed0d0870057",
   "metadata": {},
   "outputs": [],
   "source": [
    "def create_tpsoe(df, ps_list: list, oe_list: list):\n",
    "    \"\"\"\n",
    "    ps_list: a list of all the ps related columns.\n",
    "    oe_list: a list of all the oe related columns.\n",
    "    Use this to subset out the whole dataframe,\n",
    "    one for personal services, one for operating expenses.\n",
    "    \"\"\"\n",
    "\n",
    "    # Clean up and subset out the dataframe\n",
    "    tpsoe_oe = cleaning_psoe_tpsoe(df[oe_list], \"oe\")\n",
    "    tpsoe_ps = cleaning_psoe_tpsoe(df[ps_list], \"ps\")\n",
    "\n",
    "    # Concat the two dataframes together\n",
    "    c1 = pd.concat([tpsoe_ps, tpsoe_oe], sort=False)\n",
    "\n",
    "    # Rearrange the columns to the right order\n",
    "    c1 = c1[order_of_cols]\n",
    "\n",
    "    # Add a notes column\n",
    "    c1[\"notes\"] = np.nan\n",
    "\n",
    "    # Correct data types of monetary columns from objects to float\n",
    "    c1[monetary_cols] = c1[monetary_cols].astype(\"float64\")\n",
    "\n",
    "    return c1"
   ]
  },
  {
   "cell_type": "code",
   "execution_count": null,
   "id": "c4d22ed8-112a-4707-8b1b-6af94ef659e6",
   "metadata": {},
   "outputs": [],
   "source": [
    "c1 = create_tpsoe(ap11, tpsoe_ps_list, tpsoe_oe_list)"
   ]
  },
  {
   "cell_type": "markdown",
   "id": "8f937963-24bf-4588-b2bd-341501b96753",
   "metadata": {},
   "source": [
    "### Double checking"
   ]
  },
  {
   "cell_type": "code",
   "execution_count": null,
   "id": "be181f04-f123-44a6-84b1-3dfedeb0c150",
   "metadata": {},
   "outputs": [],
   "source": [
    "c1.shape"
   ]
  },
  {
   "cell_type": "code",
   "execution_count": null,
   "id": "b0ec9ba1-9194-4618-9a9e-68895c47c088",
   "metadata": {},
   "outputs": [],
   "source": [
    "tpsoe_df.shape"
   ]
  },
  {
   "cell_type": "code",
   "execution_count": null,
   "id": "280c3354-f8a7-4a6f-a686-1d53f9040671",
   "metadata": {
    "scrolled": true,
    "tags": []
   },
   "outputs": [],
   "source": [
    "# c1[['division', 'type','pec_class', 'allocation']].sort_values(['pec_class', 'allocation'])"
   ]
  },
  {
   "cell_type": "code",
   "execution_count": null,
   "id": "777df182-080a-4dd2-b47d-37ab9454f04b",
   "metadata": {
    "scrolled": true,
    "tags": []
   },
   "outputs": [],
   "source": [
    "# tpsoe_df[['division','type','pec_class', 'allocation']].sort_values(['pec_class', 'allocation'])"
   ]
  },
  {
   "cell_type": "code",
   "execution_count": null,
   "id": "a0e24757-ea0e-44b8-99cf-0a54f6093732",
   "metadata": {},
   "outputs": [],
   "source": [
    "for i in monetary_cols:\n",
    "    print(\"\\n\" + i)\n",
    "    print(c1[i].sum())\n",
    "    print(tpsoe_df[i].sum())"
   ]
  },
  {
   "cell_type": "code",
   "execution_count": null,
   "id": "475ede95-98a6-43e2-a115-a5b4b60ff382",
   "metadata": {},
   "outputs": [],
   "source": [
    "test = set(c1.appropriation.unique().tolist())\n",
    "actual = set(tpsoe_df.appropriation.unique().tolist())"
   ]
  },
  {
   "cell_type": "code",
   "execution_count": null,
   "id": "de969d02-8054-4126-a4b1-75c9fe3fd606",
   "metadata": {},
   "outputs": [],
   "source": [
    "actual - test"
   ]
  },
  {
   "cell_type": "code",
   "execution_count": null,
   "id": "fb446f34-4fd1-42dc-85d7-94da61558d87",
   "metadata": {},
   "outputs": [],
   "source": [
    "test - actual"
   ]
  },
  {
   "cell_type": "code",
   "execution_count": null,
   "id": "e76556ac-d818-4ff9-a156-c86664776cd7",
   "metadata": {},
   "outputs": [],
   "source": [
    "test = set(c1.pec_class.unique().tolist())\n",
    "actual = set(tpsoe_df.pec_class.unique().tolist())"
   ]
  },
  {
   "cell_type": "code",
   "execution_count": null,
   "id": "29a1ce8d-db48-4b5c-bab8-b8e16b9158df",
   "metadata": {},
   "outputs": [],
   "source": [
    "actual - test"
   ]
  },
  {
   "cell_type": "code",
   "execution_count": null,
   "id": "1c2d4e77-a0c1-40f8-8898-c14d0d1bedd2",
   "metadata": {},
   "outputs": [],
   "source": [
    "test - actual"
   ]
  },
  {
   "cell_type": "markdown",
   "id": "de298bb5-15bd-44c1-8f65-84d8acc3d980",
   "metadata": {},
   "source": [
    "## Timeline "
   ]
  },
  {
   "cell_type": "code",
   "execution_count": null,
   "id": "4c2458a3-dca2-4652-aa92-812f359a203f",
   "metadata": {},
   "outputs": [],
   "source": [
    "def create_timeline():\n",
    "    \"\"\"\n",
    "    Loop through all the cleaned dfs in the list\n",
    "    my_clean_dataframes. Tag each dataframe as 1,\n",
    "    2,3,etc to fill in the column \"ap\" (aka accounting\n",
    "    period) that differentiates which accounting period each df comes from.\n",
    "    \"\"\"\n",
    "    keys_list = []\n",
    "\n",
    "    for i, item in enumerate(my_clean_dataframes):\n",
    "        keys_list.append(i + 1)\n",
    "\n",
    "    \"\"\"\n",
    "    Stack all the dfs in my_clean_dataframes, starting \n",
    "    https://stackoverflow.com/questions/59267129/how-to-concatenate-multiple-dataframes-from-multiple-sources-in-pandas\n",
    "    \"\"\"\n",
    "    c1 = (\n",
    "        pd.concat(my_clean_dataframes, keys=keys_list)\n",
    "        .rename_axis((\"source\", \"tmp\"))\n",
    "        .reset_index(level=0)\n",
    "        .reset_index(drop=True)\n",
    "    )\n",
    "\n",
    "    # Drop original accounting period column & replace the new source col\n",
    "    c1 = c1.drop(\n",
    "        columns=[\n",
    "            \"ap\",\n",
    "        ]\n",
    "    ).rename(columns={\"source\": \"ap\"})\n",
    "    return c1"
   ]
  },
  {
   "cell_type": "code",
   "execution_count": null,
   "id": "e7f00a81-d0b9-484a-b831-0f4c034828df",
   "metadata": {},
   "outputs": [],
   "source": [
    "keys_list = []"
   ]
  },
  {
   "cell_type": "code",
   "execution_count": null,
   "id": "54a82a27-873d-4564-8732-a2a25deb4d3f",
   "metadata": {},
   "outputs": [],
   "source": [
    "for i, item in enumerate(my_clean_dataframes):\n",
    "    keys_list.append(i + 1)"
   ]
  },
  {
   "cell_type": "code",
   "execution_count": null,
   "id": "2b258068-b353-42f5-955d-45d1432b6783",
   "metadata": {},
   "outputs": [],
   "source": [
    "keys_list"
   ]
  },
  {
   "cell_type": "code",
   "execution_count": null,
   "id": "440a612b-71fa-4025-8d22-a2e446f18a0b",
   "metadata": {},
   "outputs": [],
   "source": [
    "# https://stackoverflow.com/questions/59267129/how-to-concatenate-multiple-dataframes-from-multiple-sources-in-pandas\n",
    "time_test = (\n",
    "    pd.concat(my_clean_dataframes, keys=keys_list)\n",
    "    .rename_axis((\"source\", \"tmp\"))\n",
    "    .reset_index(level=0)\n",
    "    .reset_index(drop=True)\n",
    ")"
   ]
  },
  {
   "cell_type": "code",
   "execution_count": null,
   "id": "6fd91ad7-5af3-4a33-b5a8-d443f6106bbe",
   "metadata": {
    "tags": []
   },
   "outputs": [],
   "source": [
    "time_test = time_test.drop(\n",
    "    columns=[\n",
    "        \"ap\",\n",
    "    ]\n",
    ").rename(columns={\"source\": \"ap\"})"
   ]
  },
  {
   "cell_type": "code",
   "execution_count": null,
   "id": "c8a68094-413b-49da-bfcf-9c048e57158e",
   "metadata": {},
   "outputs": [],
   "source": [
    "# Certain appropriation(s) are filtered out:\n",
    "# time_test = time_test[~time_test.appropriation.isin(unwanted_appropriations)]"
   ]
  },
  {
   "cell_type": "code",
   "execution_count": null,
   "id": "83754afa-b243-40e1-be0e-8e3d3ebd51dc",
   "metadata": {
    "scrolled": true,
    "tags": []
   },
   "outputs": [],
   "source": [
    "# time_test.loc[time_test['appropriation'] == '22030']"
   ]
  },
  {
   "cell_type": "code",
   "execution_count": null,
   "id": "09fd6595-4b42-494b-b26d-44455f4a5e70",
   "metadata": {},
   "outputs": [],
   "source": [
    "timeline_df = timeline_df[timeline_df[\"ap\"].isin([4, 7, 11])]"
   ]
  },
  {
   "cell_type": "code",
   "execution_count": null,
   "id": "06541a82-f242-49b2-b516-8acdb20f11c1",
   "metadata": {},
   "outputs": [],
   "source": [
    "timeline_df[\"ap\"].value_counts()"
   ]
  },
  {
   "cell_type": "code",
   "execution_count": null,
   "id": "57530af5-f989-4ff5-9bb6-92b153e8ff66",
   "metadata": {},
   "outputs": [],
   "source": [
    "timeline_df_cols = [\n",
    "    \"ps_alloc\",\n",
    "    \"ps_exp\",\n",
    "    \"ps_bal\",\n",
    "    \"ps_projection\",\n",
    "    \"oe_alloc\",\n",
    "    \"oe_enc\",\n",
    "    \"oe_exp\",\n",
    "    \"oe_projection\",\n",
    "]"
   ]
  },
  {
   "cell_type": "code",
   "execution_count": null,
   "id": "687e66b2-7869-46d7-ba1b-b8125ec59016",
   "metadata": {},
   "outputs": [],
   "source": [
    "for i in timeline_df_cols:\n",
    "    print(\"\\n\" + i)\n",
    "    print(timeline_df[i].sum())"
   ]
  },
  {
   "cell_type": "code",
   "execution_count": null,
   "id": "30ef2406-44c5-4fc7-9693-f3240e09ba4b",
   "metadata": {},
   "outputs": [],
   "source": [
    "timeline_test_cols = [\n",
    "    \"ps_allocation\",\n",
    "    \"ps_expenditure\",\n",
    "    \"ps_balance\",\n",
    "    \"ps_projection\",\n",
    "    \"oe_allocation\",\n",
    "    \"oe_encumbrance\",\n",
    "    \"oe_expenditure\",\n",
    "    \"oe_projection\",\n",
    "]"
   ]
  },
  {
   "cell_type": "code",
   "execution_count": null,
   "id": "27bbe0aa-ddc6-4d45-9929-424a8aaacf0c",
   "metadata": {},
   "outputs": [],
   "source": [
    "for i in timeline_test_cols:\n",
    "    print(\"\\n\" + i)\n",
    "    print(time_test[i].sum())"
   ]
  },
  {
   "cell_type": "markdown",
   "id": "eff2afc2-550c-4033-9052-7fe77f910f18",
   "metadata": {},
   "source": [
    "## PSOE Timeline"
   ]
  },
  {
   "cell_type": "code",
   "execution_count": null,
   "id": "fbd92749-cb94-4186-ba4f-e0fe6e1b3800",
   "metadata": {},
   "outputs": [],
   "source": [
    "psoe_ps_cols = [\n",
    "    \"appr_catg\",\n",
    "    \"fund\",\n",
    "    \"fund_description\",\n",
    "    \"appropriation\",\n",
    "    \"pec_class\",\n",
    "    \"division\",\n",
    "    \"ps_allocation\",\n",
    "    \"ps_expenditure\",\n",
    "    \"ps_balance\",\n",
    "    \"ps_projection\",\n",
    "    \"ps_%_expended\",\n",
    "    \"ap\",\n",
    "    \"pec_class_description\",\n",
    "]\n",
    "\n",
    "psoe_oe_cols = [\n",
    "    \"appr_catg\",\n",
    "    \"fund\",\n",
    "    \"fund_description\",\n",
    "    \"appropriation\",\n",
    "    \"pec_class\",\n",
    "    \"division\",\n",
    "    \"oe_allocation\",\n",
    "    \"oe_encumbrance\",\n",
    "    \"oe_expenditure\",\n",
    "    \"oe_balance\",\n",
    "    \"oe_projection\",\n",
    "    \"oe_%_expended\",\n",
    "    \"ap\",\n",
    "    \"pec_class_description\",\n",
    "]\n",
    "\n",
    "psoe_right_col_order = [\n",
    "    \"appr_catg\",\n",
    "    \"fund\",\n",
    "    \"fund_description\",\n",
    "    \"appropriation\",\n",
    "    \"division\",\n",
    "    \"pec_class\",\n",
    "    \"pec_class_description\",\n",
    "    \"allocation\",\n",
    "    \"expense\",\n",
    "    \"balance\",\n",
    "    \"projection\",\n",
    "    \"%_expended\",\n",
    "    \"ap\",\n",
    "    \"type\",\n",
    "    \"encumbrance\",\n",
    "]"
   ]
  },
  {
   "cell_type": "code",
   "execution_count": null,
   "id": "4379b241-2d7a-4fa5-aa08-531c70cf0665",
   "metadata": {},
   "outputs": [],
   "source": [
    "def create_psoe_timeline(df, ps_list: list, oe_list: list):\n",
    "\n",
    "    # Create 2 dataframes that subsets out OE and PS\n",
    "    psoe_oe = cleaning_psoe_tpsoe(df[oe_list], \"oe\")\n",
    "    psoe_ps = cleaning_psoe_tpsoe(df[ps_list], \"ps\")\n",
    "\n",
    "    # Stack both dataframes on top of each other\n",
    "    c1 = pd.concat([psoe_ps, psoe_oe], sort=False)\n",
    "\n",
    "    # Rename column to mimic William's\n",
    "    c1 = c1.rename(columns={\"expenditure\": \"expense\"})\n",
    "\n",
    "    # Rearrange the dataframe in the right order\n",
    "    c1 = c1[psoe_right_col_order]\n",
    "\n",
    "    return c1"
   ]
  },
  {
   "cell_type": "code",
   "execution_count": null,
   "id": "fa240e4f-132b-4d23-8032-6ac2966129d8",
   "metadata": {},
   "outputs": [],
   "source": [
    "pose_test = create_psoe_timeline(time_test, psoe_ps_cols, psoe_oe_cols)"
   ]
  },
  {
   "cell_type": "code",
   "execution_count": null,
   "id": "5229ce7a-8589-4929-95e5-ce04aafbde3c",
   "metadata": {},
   "outputs": [],
   "source": [
    "pose_test = pose_test.loc[pose_test[\"appropriation\"] != \"22102F\"]"
   ]
  },
  {
   "cell_type": "code",
   "execution_count": null,
   "id": "59c7b3b9-adbf-45ab-b4ad-8ed40732cb28",
   "metadata": {},
   "outputs": [],
   "source": [
    "pose_test.shape"
   ]
  },
  {
   "cell_type": "code",
   "execution_count": null,
   "id": "847d1fe1-8194-4f5e-afdc-1a3772e05b91",
   "metadata": {},
   "outputs": [],
   "source": [
    "pose_test.head(2)"
   ]
  },
  {
   "cell_type": "code",
   "execution_count": null,
   "id": "e42c887a-52f4-4b99-9db0-9c7cda7ce2b2",
   "metadata": {
    "tags": []
   },
   "outputs": [],
   "source": [
    "# time_test[['ap','appr_catg','appropriation','pec_class_description','oe_allocation','oe_projection','ap']].loc[time_test[\"pec_class_description\"] == \"Aeronautics\"]"
   ]
  },
  {
   "cell_type": "code",
   "execution_count": null,
   "id": "8baea8df-f69f-4231-9687-9aef2fabe09a",
   "metadata": {
    "scrolled": true,
    "tags": []
   },
   "outputs": [],
   "source": [
    "# test_ps.loc[test_ps[\"pec_class_description\"] == \"Aeronautics\"]"
   ]
  },
  {
   "cell_type": "markdown",
   "id": "e066fd5e-c497-4787-b3c1-90a70fc5f842",
   "metadata": {},
   "source": [
    "### Double checking"
   ]
  },
  {
   "cell_type": "code",
   "execution_count": null,
   "id": "918c3551-3bad-4dc0-b1ab-013b39754b54",
   "metadata": {},
   "outputs": [],
   "source": [
    "psoe_df = psoe_df[psoe_df[\"ap\"].isin([4, 7, 11])]"
   ]
  },
  {
   "cell_type": "code",
   "execution_count": null,
   "id": "99d28341-4610-4703-9645-4301b84eb2ba",
   "metadata": {
    "scrolled": true,
    "tags": []
   },
   "outputs": [],
   "source": [
    "aero_og = psoe_df.loc[psoe_df[\"division\"] == \"Aeronautics\"]"
   ]
  },
  {
   "cell_type": "code",
   "execution_count": null,
   "id": "f61a0277-0f53-45d0-9add-169dc65cf055",
   "metadata": {
    "scrolled": true,
    "tags": []
   },
   "outputs": [],
   "source": [
    "aero_og"
   ]
  },
  {
   "cell_type": "code",
   "execution_count": null,
   "id": "f4954615-7abd-45eb-9451-d3ed269e8d46",
   "metadata": {
    "scrolled": true,
    "tags": []
   },
   "outputs": [],
   "source": [
    "aero_test = pose_test.loc[pose_test[\"division\"] == \"Aeronautics\"]"
   ]
  },
  {
   "cell_type": "code",
   "execution_count": null,
   "id": "efc9b569-ebb9-4fb4-837d-05dfe66f8545",
   "metadata": {
    "scrolled": true,
    "tags": []
   },
   "outputs": [],
   "source": [
    "aero_test"
   ]
  },
  {
   "cell_type": "code",
   "execution_count": null,
   "id": "2770bd93-851c-4e66-b930-403c424186ac",
   "metadata": {},
   "outputs": [],
   "source": [
    "# aero_test"
   ]
  },
  {
   "cell_type": "code",
   "execution_count": null,
   "id": "7429e14d-74ea-40ce-9f43-3ca9863e7916",
   "metadata": {},
   "outputs": [],
   "source": [
    "test = set(pose_test.appropriation.unique().tolist())\n",
    "actual = set(psoe_df.appr.unique().tolist())"
   ]
  },
  {
   "cell_type": "code",
   "execution_count": null,
   "id": "14df8914-6dd9-4731-aedf-c7def45543d2",
   "metadata": {},
   "outputs": [],
   "source": [
    "test - actual"
   ]
  },
  {
   "cell_type": "code",
   "execution_count": null,
   "id": "cf3f1df1-7ef1-4c14-8c5c-118ef1486940",
   "metadata": {},
   "outputs": [],
   "source": [
    "actual - test"
   ]
  },
  {
   "cell_type": "code",
   "execution_count": null,
   "id": "182495fc-c809-4a40-a0c4-4c20602e16b3",
   "metadata": {},
   "outputs": [],
   "source": [
    "cols_to_check = [\"expense\", \"balance\", \"projection\", \"encumbrance\"]"
   ]
  },
  {
   "cell_type": "code",
   "execution_count": null,
   "id": "febbe859-e140-40c5-8a3e-6584e48dd35b",
   "metadata": {},
   "outputs": [],
   "source": [
    "for i in cols_to_check:\n",
    "    print(\"\\n\" + i)\n",
    "    print(aero_test[i].sum())\n",
    "    print(aero_og[i].sum())"
   ]
  }
 ],
 "metadata": {
  "kernelspec": {
   "display_name": "Python 3 (ipykernel)",
   "language": "python",
   "name": "python3"
  },
  "language_info": {
   "codemirror_mode": {
    "name": "ipython",
    "version": 3
   },
   "file_extension": ".py",
   "mimetype": "text/x-python",
   "name": "python",
   "nbconvert_exporter": "python",
   "pygments_lexer": "ipython3",
   "version": "3.10.4"
  }
 },
 "nbformat": 4,
 "nbformat_minor": 5
}
