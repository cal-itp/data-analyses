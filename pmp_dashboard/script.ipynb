{
 "cells": [
  {
   "cell_type": "markdown",
   "id": "e009586a-a399-4b77-b649-0a2935b8df31",
   "metadata": {},
   "source": [
    "# Automate the Excel workbook linked to PMP Dashboard"
   ]
  },
  {
   "cell_type": "code",
   "execution_count": 1,
   "id": "fcb68152-f948-42ec-8f41-defb0755c9e2",
   "metadata": {},
   "outputs": [
    {
     "name": "stderr",
     "output_type": "stream",
     "text": [
      "/opt/conda/lib/python3.10/site-packages/geopandas/_compat.py:111: UserWarning: The Shapely GEOS version (3.10.2-CAPI-1.16.0) is incompatible with the GEOS version PyGEOS was compiled with (3.10.1-CAPI-1.16.0). Conversions between both will be slow.\n",
      "  warnings.warn(\n"
     ]
    }
   ],
   "source": [
    "import geopandas as gpd\n",
    "import numpy as np\n",
    "import pandas as pd\n",
    "from calitp import *\n",
    "from shared_utils import utils\n",
    "\n",
    "# Formatting the nb\n",
    "pd.options.display.max_columns = 100\n",
    "pd.set_option(\"display.max_rows\", None)\n",
    "pd.set_option(\"display.max_colwidth\", None)"
   ]
  },
  {
   "cell_type": "code",
   "execution_count": 2,
   "id": "687473de-a2ef-4ffd-89ad-dc0e2f502084",
   "metadata": {},
   "outputs": [],
   "source": [
    "GCS_FILE_PATH = \"gs://calitp-analytics-data/data-analyses/pmp_dashboard/\""
   ]
  },
  {
   "cell_type": "markdown",
   "id": "fb7b7136-cef9-446d-b1b0-0d3f7ec35207",
   "metadata": {},
   "source": [
    "## Load in data\n",
    "### Load manually cleaned df so I can reference "
   ]
  },
  {
   "cell_type": "code",
   "execution_count": 3,
   "id": "b1b3f223-16e9-4a86-922f-15e0c5ad69c9",
   "metadata": {},
   "outputs": [],
   "source": [
    "# DF that William manipulated\n",
    "FILE_NAME_1 = \"PMP Summary Report Data.xlsx\""
   ]
  },
  {
   "cell_type": "code",
   "execution_count": 4,
   "id": "c6a9c0b7-95b6-472d-ab6a-7811c43b4308",
   "metadata": {},
   "outputs": [],
   "source": [
    "# Sheets in William's notebook that I want\n",
    "sheets_list = [\"Fund by Division Data\", \"TPSOE Data\", \"Timeline Data\", \"PSOE Timeline\"]"
   ]
  },
  {
   "cell_type": "code",
   "execution_count": 5,
   "id": "ef13c9af-1d04-4dd6-b0b8-07370f75bb00",
   "metadata": {},
   "outputs": [],
   "source": [
    "dict_df1 = pd.read_excel(f\"{GCS_FILE_PATH}{FILE_NAME_1}\", sheet_name=sheets_list)"
   ]
  },
  {
   "cell_type": "code",
   "execution_count": 6,
   "id": "8a4154f7-cfc0-4a01-866d-adbcbc193879",
   "metadata": {},
   "outputs": [],
   "source": [
    "division_df = to_snakecase(dict_df1.get(\"Fund by Division Data\"))\n",
    "tpsoe_df = to_snakecase(dict_df1.get(\"TPSOE Data\"))\n",
    "timeline_df = to_snakecase(dict_df1.get(\"Timeline Data\"))\n",
    "psoe_df = to_snakecase(dict_df1.get(\"PSOE Timeline\"))"
   ]
  },
  {
   "cell_type": "markdown",
   "id": "a9a0f20a-2008-4430-bfb4-a89412740ca1",
   "metadata": {},
   "source": [
    "### Load in & clean data for each accounting period"
   ]
  },
  {
   "cell_type": "code",
   "execution_count": 7,
   "id": "c0b316fe-703d-4107-a420-bd4eedb6a26e",
   "metadata": {},
   "outputs": [],
   "source": [
    "div_crosswalks = {\n",
    "    \"State & Fed Mass Trans\": \"DRMT\",\n",
    "    \"Statewide Planning\": \"DOTP\",\n",
    "    \"Research\": \"DRISI\",\n",
    "    \"PSR/PSSR Development\": \"DOTP\",\n",
    "    \"Rail\": \"DRMT\",\n",
    "    \"Planning Administration\": \"DOTP\",\n",
    "    \"Regional Planning\": \"DOTP\",\n",
    "}"
   ]
  },
  {
   "cell_type": "code",
   "execution_count": 8,
   "id": "d0bfe101-70ca-4944-b6ed-1ed1c46a541e",
   "metadata": {},
   "outputs": [],
   "source": [
    "\"\"\"\n",
    "Each time I receive new data for each accounting period and \n",
    "load data into function import_raw_data, the dataframe will be \n",
    "appended onto this list\n",
    "\"\"\"\n",
    "my_clean_dataframes = []"
   ]
  },
  {
   "cell_type": "code",
   "execution_count": 9,
   "id": "3c9bcbb2-2ab1-4627-b947-d6bd0d6a5660",
   "metadata": {},
   "outputs": [],
   "source": [
    "unwanted_appropriations = [\"1850522\", \"22102\", \"22105\"]"
   ]
  },
  {
   "cell_type": "code",
   "execution_count": 10,
   "id": "0ee7dcdd-3957-45bc-8209-0119b3dd0520",
   "metadata": {},
   "outputs": [],
   "source": [
    "def import_raw_data(file_name: str, name_of_sheet: str, appropriations_to_filter: list):\n",
    "\n",
    "    \"\"\"Load the raw data and clean it up.\n",
    "\n",
    "    Args:\n",
    "        file_name: the Excel workbook\n",
    "        name_of_sheet: the name of the sheet\n",
    "        appropriations_to_filter: list of all the appropriations to be filtered out\n",
    "\n",
    "    Returns:\n",
    "        The cleaned df. Input the results into a list.\n",
    "\n",
    "    \"\"\"\n",
    "    df = pd.read_excel(f\"{GCS_FILE_PATH}{file_name}\", sheet_name=name_of_sheet)\n",
    "\n",
    "    # Get rid of the unnecessary header info\n",
    "    # Stuff like \"Enterprise Datalink Production download as of 05/23/2022\"\n",
    "    df = df.iloc[13:].reset_index(drop=True)\n",
    "\n",
    "    # The first row contains column names - update it to the column\n",
    "    df.columns = df.iloc[0]\n",
    "\n",
    "    # Drop the first row as they are now column names\n",
    "    df = df.drop(df.index[0]).reset_index(drop=True)\n",
    "\n",
    "    # Drop rows with NA in PEC Class\n",
    "    # Since those are probably the grand totals tagged at the end of the Excel sheet\n",
    "    df = df.dropna(subset=[\"PEC Class\"])\n",
    "\n",
    "    # Snakecase\n",
    "    df = to_snakecase(df)\n",
    "\n",
    "    # Rename columns to mimc dashboard\n",
    "    df = df.rename(\n",
    "        columns={\n",
    "            \"ps_alloc\": \"ps_allocation\",\n",
    "            \"ps_exp\": \"ps_expenditure\",\n",
    "            \"ps_bal\": \"ps_balance\",\n",
    "            \"total_projected_%\": \"total_%_expended\",\n",
    "            \"oe_alloc\": \"oe_allocation\",\n",
    "            \"oe_enc\": \"oe_encumbrance\",\n",
    "            \"oe_exp\": \"oe_expenditure\",\n",
    "            \"appr\": \"appropriation\",\n",
    "            \"total_expended___encumbrance\": \"total_expenditure\",\n",
    "            \"oe_bal_excl_pre_enc\": \"oe_balance\",\n",
    "            \"oe__enc_+_oe_exp_projection\": \"oe_projection\",\n",
    "        }\n",
    "    )\n",
    "\n",
    "    # Certain appropriation(s) are filtered out:\n",
    "    df = df[~df.appropriation.isin(appropriations_to_filter)]\n",
    "\n",
    "    # Narrow down division names inot a new column\n",
    "    df[\"division\"] = df[\"pec_class_description\"].replace(div_crosswalks)\n",
    "\n",
    "    # Adding dataframe to an empty list called my_clean_dataframes\n",
    "    my_clean_dataframes.append(df)\n",
    "\n",
    "    \"\"\"\n",
    "    Drop AP\n",
    "    \"\"\"\n",
    "    try:\n",
    "        df = df.drop(columns=\"ap\")\n",
    "    except:\n",
    "        pass\n",
    "    return df"
   ]
  },
  {
   "cell_type": "code",
   "execution_count": 11,
   "id": "b4e26117-e0bb-48ef-8aef-cff64524910b",
   "metadata": {},
   "outputs": [],
   "source": [
    "ap4 = import_raw_data(\"AP4.xls\", \"Download\", unwanted_appropriations)"
   ]
  },
  {
   "cell_type": "code",
   "execution_count": 12,
   "id": "0941189b-a97e-4539-8d90-99a44e88ea8c",
   "metadata": {},
   "outputs": [],
   "source": [
    "ap7 = import_raw_data(\"AP7.xls\", \"Download\", unwanted_appropriations)"
   ]
  },
  {
   "cell_type": "code",
   "execution_count": 14,
   "id": "3a3a18da-5c34-444a-9008-36f973eee3ac",
   "metadata": {},
   "outputs": [],
   "source": [
    "ap11 = import_raw_data(\n",
    "    \"FY 2122 AP11_Closed_PMP Summary Report.022822_Updated.xlsx\",\n",
    "    \"Raw Data AP11 Closed\",\n",
    "    unwanted_appropriations,\n",
    ")"
   ]
  },
  {
   "cell_type": "code",
   "execution_count": 13,
   "id": "c39a55e0-9d6a-43d1-babe-c36eaf0f35c3",
   "metadata": {},
   "outputs": [
    {
     "data": {
      "text/html": [
       "<div>\n",
       "<style scoped>\n",
       "    .dataframe tbody tr th:only-of-type {\n",
       "        vertical-align: middle;\n",
       "    }\n",
       "\n",
       "    .dataframe tbody tr th {\n",
       "        vertical-align: top;\n",
       "    }\n",
       "\n",
       "    .dataframe thead th {\n",
       "        text-align: right;\n",
       "    }\n",
       "</style>\n",
       "<table border=\"1\" class=\"dataframe\">\n",
       "  <thead>\n",
       "    <tr style=\"text-align: right;\">\n",
       "      <th></th>\n",
       "      <th>appr_catg</th>\n",
       "      <th>fund</th>\n",
       "      <th>fund_description</th>\n",
       "      <th>appropriation</th>\n",
       "      <th>pec_class</th>\n",
       "      <th>pec_class_description</th>\n",
       "      <th>ps_allocation</th>\n",
       "      <th>ps_expenditure</th>\n",
       "      <th>ps_balance</th>\n",
       "      <th>ps_projection</th>\n",
       "      <th>ps_%_expended</th>\n",
       "      <th>py_pos_alloc</th>\n",
       "      <th>act__hours</th>\n",
       "      <th>oe_allocation</th>\n",
       "      <th>oe_encumbrance</th>\n",
       "      <th>oe_expenditure</th>\n",
       "      <th>oe_balance</th>\n",
       "      <th>oe_projection</th>\n",
       "      <th>oe_%_expended</th>\n",
       "      <th>total_allocation</th>\n",
       "      <th>total_expenditure</th>\n",
       "      <th>total_balance</th>\n",
       "      <th>total_projection</th>\n",
       "      <th>total_%_expended</th>\n",
       "      <th>division</th>\n",
       "    </tr>\n",
       "  </thead>\n",
       "  <tbody>\n",
       "    <tr>\n",
       "      <th>0</th>\n",
       "      <td>2122</td>\n",
       "      <td>0001</td>\n",
       "      <td>General Fund</td>\n",
       "      <td>22002</td>\n",
       "      <td>2030</td>\n",
       "      <td>Local Assistance</td>\n",
       "      <td>1500000</td>\n",
       "      <td>0</td>\n",
       "      <td>1500000</td>\n",
       "      <td>0</td>\n",
       "      <td>0</td>\n",
       "      <td>0</td>\n",
       "      <td>0</td>\n",
       "      <td>0</td>\n",
       "      <td>0</td>\n",
       "      <td>0</td>\n",
       "      <td>0</td>\n",
       "      <td>0</td>\n",
       "      <td>0%</td>\n",
       "      <td>1500000</td>\n",
       "      <td>0</td>\n",
       "      <td>1500000</td>\n",
       "      <td>0</td>\n",
       "      <td>0</td>\n",
       "      <td>Local Assistance</td>\n",
       "    </tr>\n",
       "    <tr>\n",
       "      <th>1</th>\n",
       "      <td>2122</td>\n",
       "      <td>0001</td>\n",
       "      <td>General Fund</td>\n",
       "      <td>22030</td>\n",
       "      <td>2030</td>\n",
       "      <td>Local Assistance</td>\n",
       "      <td>4001000</td>\n",
       "      <td>135511.93</td>\n",
       "      <td>3865488.07</td>\n",
       "      <td>406535.79</td>\n",
       "      <td>0.03387</td>\n",
       "      <td>0</td>\n",
       "      <td>1334.5</td>\n",
       "      <td>237000</td>\n",
       "      <td>9857.31</td>\n",
       "      <td>0</td>\n",
       "      <td>227142.69</td>\n",
       "      <td>0</td>\n",
       "      <td>0</td>\n",
       "      <td>4238000</td>\n",
       "      <td>145369.24</td>\n",
       "      <td>4092630.76</td>\n",
       "      <td>406535.79</td>\n",
       "      <td>0.034301</td>\n",
       "      <td>Local Assistance</td>\n",
       "    </tr>\n",
       "    <tr>\n",
       "      <th>2</th>\n",
       "      <td>2122</td>\n",
       "      <td>0001</td>\n",
       "      <td>General Fund</td>\n",
       "      <td>22030</td>\n",
       "      <td>2041</td>\n",
       "      <td>Research</td>\n",
       "      <td>210000</td>\n",
       "      <td>0</td>\n",
       "      <td>210000</td>\n",
       "      <td>0</td>\n",
       "      <td>0</td>\n",
       "      <td>0</td>\n",
       "      <td>0</td>\n",
       "      <td>9000</td>\n",
       "      <td>0</td>\n",
       "      <td>0</td>\n",
       "      <td>9000</td>\n",
       "      <td>0</td>\n",
       "      <td>0</td>\n",
       "      <td>219000</td>\n",
       "      <td>0</td>\n",
       "      <td>219000</td>\n",
       "      <td>0</td>\n",
       "      <td>0</td>\n",
       "      <td>DRISI</td>\n",
       "    </tr>\n",
       "    <tr>\n",
       "      <th>3</th>\n",
       "      <td>2122</td>\n",
       "      <td>0001</td>\n",
       "      <td>General Fund</td>\n",
       "      <td>22030</td>\n",
       "      <td>3010</td>\n",
       "      <td>State &amp; Fed Mass Trans</td>\n",
       "      <td>718000</td>\n",
       "      <td>16389.15</td>\n",
       "      <td>701610.85</td>\n",
       "      <td>49167.45</td>\n",
       "      <td>0.022826</td>\n",
       "      <td>0</td>\n",
       "      <td>168</td>\n",
       "      <td>55000</td>\n",
       "      <td>0</td>\n",
       "      <td>0</td>\n",
       "      <td>55000</td>\n",
       "      <td>0</td>\n",
       "      <td>0</td>\n",
       "      <td>773000</td>\n",
       "      <td>16389.15</td>\n",
       "      <td>756610.85</td>\n",
       "      <td>49167.45</td>\n",
       "      <td>0.021202</td>\n",
       "      <td>DRMT</td>\n",
       "    </tr>\n",
       "    <tr>\n",
       "      <th>4</th>\n",
       "      <td>2122</td>\n",
       "      <td>0001</td>\n",
       "      <td>General Fund</td>\n",
       "      <td>22030</td>\n",
       "      <td>3020</td>\n",
       "      <td>Rail</td>\n",
       "      <td>1000</td>\n",
       "      <td>0</td>\n",
       "      <td>1000</td>\n",
       "      <td>0</td>\n",
       "      <td>0</td>\n",
       "      <td>0</td>\n",
       "      <td>0</td>\n",
       "      <td>0</td>\n",
       "      <td>0</td>\n",
       "      <td>0</td>\n",
       "      <td>0</td>\n",
       "      <td>0</td>\n",
       "      <td>0%</td>\n",
       "      <td>1000</td>\n",
       "      <td>0</td>\n",
       "      <td>1000</td>\n",
       "      <td>0</td>\n",
       "      <td>0</td>\n",
       "      <td>DRMT</td>\n",
       "    </tr>\n",
       "  </tbody>\n",
       "</table>\n",
       "</div>"
      ],
      "text/plain": [
       "0 appr_catg  fund fund_description appropriation pec_class  \\\n",
       "0      2122  0001     General Fund         22002      2030   \n",
       "1      2122  0001     General Fund         22030      2030   \n",
       "2      2122  0001     General Fund         22030      2041   \n",
       "3      2122  0001     General Fund         22030      3010   \n",
       "4      2122  0001     General Fund         22030      3020   \n",
       "\n",
       "0   pec_class_description ps_allocation ps_expenditure  ps_balance  \\\n",
       "0        Local Assistance       1500000              0     1500000   \n",
       "1        Local Assistance       4001000      135511.93  3865488.07   \n",
       "2                Research        210000              0      210000   \n",
       "3  State & Fed Mass Trans        718000       16389.15   701610.85   \n",
       "4                    Rail          1000              0        1000   \n",
       "\n",
       "0 ps_projection ps_%_expended py_pos_alloc act__hours oe_allocation  \\\n",
       "0             0             0            0          0             0   \n",
       "1     406535.79       0.03387            0     1334.5        237000   \n",
       "2             0             0            0          0          9000   \n",
       "3      49167.45      0.022826            0        168         55000   \n",
       "4             0             0            0          0             0   \n",
       "\n",
       "0 oe_encumbrance oe_expenditure oe_balance oe_projection oe_%_expended  \\\n",
       "0              0              0          0             0            0%   \n",
       "1        9857.31              0  227142.69             0             0   \n",
       "2              0              0       9000             0             0   \n",
       "3              0              0      55000             0             0   \n",
       "4              0              0          0             0            0%   \n",
       "\n",
       "0 total_allocation total_expenditure total_balance total_projection  \\\n",
       "0          1500000                 0       1500000                0   \n",
       "1          4238000         145369.24    4092630.76        406535.79   \n",
       "2           219000                 0        219000                0   \n",
       "3           773000          16389.15     756610.85         49167.45   \n",
       "4             1000                 0          1000                0   \n",
       "\n",
       "0 total_%_expended          division  \n",
       "0                0  Local Assistance  \n",
       "1         0.034301  Local Assistance  \n",
       "2                0             DRISI  \n",
       "3         0.021202              DRMT  \n",
       "4                0              DRMT  "
      ]
     },
     "execution_count": 13,
     "metadata": {},
     "output_type": "execute_result"
    }
   ],
   "source": [
    "ap4.head()"
   ]
  },
  {
   "cell_type": "code",
   "execution_count": 82,
   "id": "a35fb414-bc6f-45cc-ba41-3d682b1e7240",
   "metadata": {},
   "outputs": [
    {
     "data": {
      "text/html": [
       "<div>\n",
       "<style scoped>\n",
       "    .dataframe tbody tr th:only-of-type {\n",
       "        vertical-align: middle;\n",
       "    }\n",
       "\n",
       "    .dataframe tbody tr th {\n",
       "        vertical-align: top;\n",
       "    }\n",
       "\n",
       "    .dataframe thead th {\n",
       "        text-align: right;\n",
       "    }\n",
       "</style>\n",
       "<table border=\"1\" class=\"dataframe\">\n",
       "  <thead>\n",
       "    <tr style=\"text-align: right;\">\n",
       "      <th></th>\n",
       "      <th>appr_catg</th>\n",
       "      <th>fund</th>\n",
       "      <th>fund_description</th>\n",
       "      <th>appropriation</th>\n",
       "      <th>pec_class</th>\n",
       "      <th>pec_class_description</th>\n",
       "      <th>ps_allocation</th>\n",
       "      <th>ps_expenditure</th>\n",
       "      <th>ps_balance</th>\n",
       "      <th>ps_projection</th>\n",
       "      <th>year_end_expendded_pace</th>\n",
       "      <th>ps_%_expended</th>\n",
       "      <th>py_pos_alloc</th>\n",
       "      <th>act__hours</th>\n",
       "      <th>oe_allocation</th>\n",
       "      <th>oe_encumbrance</th>\n",
       "      <th>oe_expenditure</th>\n",
       "      <th>oe_balance</th>\n",
       "      <th>oe_projection</th>\n",
       "      <th>oe_%_expended</th>\n",
       "      <th>total_allocation</th>\n",
       "      <th>total_expenditure</th>\n",
       "      <th>total_balance</th>\n",
       "      <th>total_projection</th>\n",
       "      <th>total_%_expended</th>\n",
       "      <th>division</th>\n",
       "    </tr>\n",
       "  </thead>\n",
       "  <tbody>\n",
       "    <tr>\n",
       "      <th>0</th>\n",
       "      <td>2122</td>\n",
       "      <td>0001</td>\n",
       "      <td>General Fund</td>\n",
       "      <td>22002</td>\n",
       "      <td>2030</td>\n",
       "      <td>Local Assistance</td>\n",
       "      <td>1500000</td>\n",
       "      <td>0</td>\n",
       "      <td>1500000</td>\n",
       "      <td>0</td>\n",
       "      <td>0</td>\n",
       "      <td>0</td>\n",
       "      <td>0</td>\n",
       "      <td>0</td>\n",
       "      <td>0</td>\n",
       "      <td>0</td>\n",
       "      <td>0</td>\n",
       "      <td>0</td>\n",
       "      <td>0</td>\n",
       "      <td>0%</td>\n",
       "      <td>1500000</td>\n",
       "      <td>0</td>\n",
       "      <td>1500000</td>\n",
       "      <td>0</td>\n",
       "      <td>0</td>\n",
       "      <td>Local Assistance</td>\n",
       "    </tr>\n",
       "    <tr>\n",
       "      <th>1</th>\n",
       "      <td>2122</td>\n",
       "      <td>0001</td>\n",
       "      <td>General Fund</td>\n",
       "      <td>22030</td>\n",
       "      <td>2030</td>\n",
       "      <td>Local Assistance</td>\n",
       "      <td>2625000</td>\n",
       "      <td>1265708.14</td>\n",
       "      <td>1359291.86</td>\n",
       "      <td>1380772.516364</td>\n",
       "      <td>0.526009</td>\n",
       "      <td>0.482175</td>\n",
       "      <td>0</td>\n",
       "      <td>13875.9</td>\n",
       "      <td>27000</td>\n",
       "      <td>1593.74</td>\n",
       "      <td>10119.4</td>\n",
       "      <td>15286.86</td>\n",
       "      <td>12633.085455</td>\n",
       "      <td>0.467892</td>\n",
       "      <td>2652000</td>\n",
       "      <td>1277421.28</td>\n",
       "      <td>1374578.72</td>\n",
       "      <td>1393405.601818</td>\n",
       "      <td>0.481682</td>\n",
       "      <td>Local Assistance</td>\n",
       "    </tr>\n",
       "    <tr>\n",
       "      <th>2</th>\n",
       "      <td>2122</td>\n",
       "      <td>0001</td>\n",
       "      <td>General Fund</td>\n",
       "      <td>22030</td>\n",
       "      <td>3010</td>\n",
       "      <td>State &amp; Fed Mass Trans</td>\n",
       "      <td>150000</td>\n",
       "      <td>145312.79</td>\n",
       "      <td>4687.21</td>\n",
       "      <td>158523.043636</td>\n",
       "      <td>1.05682</td>\n",
       "      <td>0.968752</td>\n",
       "      <td>0</td>\n",
       "      <td>1747</td>\n",
       "      <td>2000</td>\n",
       "      <td>0</td>\n",
       "      <td>0</td>\n",
       "      <td>2000</td>\n",
       "      <td>0</td>\n",
       "      <td>0</td>\n",
       "      <td>152000</td>\n",
       "      <td>145312.79</td>\n",
       "      <td>6687.21</td>\n",
       "      <td>158523.043636</td>\n",
       "      <td>0.956005</td>\n",
       "      <td>DRMT</td>\n",
       "    </tr>\n",
       "    <tr>\n",
       "      <th>3</th>\n",
       "      <td>2122</td>\n",
       "      <td>0001</td>\n",
       "      <td>General Fund</td>\n",
       "      <td>22030</td>\n",
       "      <td>4010</td>\n",
       "      <td>Statewide Planning</td>\n",
       "      <td>150000</td>\n",
       "      <td>166142.55</td>\n",
       "      <td>-16142.55</td>\n",
       "      <td>181246.418182</td>\n",
       "      <td>1.208309</td>\n",
       "      <td>1.107617</td>\n",
       "      <td>0</td>\n",
       "      <td>2006.5</td>\n",
       "      <td>2000</td>\n",
       "      <td>0</td>\n",
       "      <td>0</td>\n",
       "      <td>2000</td>\n",
       "      <td>0</td>\n",
       "      <td>0</td>\n",
       "      <td>152000</td>\n",
       "      <td>166142.55</td>\n",
       "      <td>-14142.55</td>\n",
       "      <td>181246.418182</td>\n",
       "      <td>1.093043</td>\n",
       "      <td>DOTP</td>\n",
       "    </tr>\n",
       "    <tr>\n",
       "      <th>4</th>\n",
       "      <td>2122</td>\n",
       "      <td>0041</td>\n",
       "      <td>Aeronautics Account STF</td>\n",
       "      <td>22001R</td>\n",
       "      <td>1000</td>\n",
       "      <td>Aeronautics</td>\n",
       "      <td>59000</td>\n",
       "      <td>26017.94</td>\n",
       "      <td>32982.06</td>\n",
       "      <td>28383.207273</td>\n",
       "      <td>0.481071</td>\n",
       "      <td>0.440982</td>\n",
       "      <td>0</td>\n",
       "      <td>299</td>\n",
       "      <td>0</td>\n",
       "      <td>0</td>\n",
       "      <td>13866.74</td>\n",
       "      <td>-13866.74</td>\n",
       "      <td>15127.352727</td>\n",
       "      <td>0%</td>\n",
       "      <td>59000</td>\n",
       "      <td>39884.68</td>\n",
       "      <td>19115.32</td>\n",
       "      <td>43510.56</td>\n",
       "      <td>0.676012</td>\n",
       "      <td>Aeronautics</td>\n",
       "    </tr>\n",
       "  </tbody>\n",
       "</table>\n",
       "</div>"
      ],
      "text/plain": [
       "0 appr_catg  fund         fund_description appropriation pec_class  \\\n",
       "0      2122  0001             General Fund         22002      2030   \n",
       "1      2122  0001             General Fund         22030      2030   \n",
       "2      2122  0001             General Fund         22030      3010   \n",
       "3      2122  0001             General Fund         22030      4010   \n",
       "4      2122  0041  Aeronautics Account STF        22001R      1000   \n",
       "\n",
       "0   pec_class_description ps_allocation ps_expenditure  ps_balance  \\\n",
       "0        Local Assistance       1500000              0     1500000   \n",
       "1        Local Assistance       2625000     1265708.14  1359291.86   \n",
       "2  State & Fed Mass Trans        150000      145312.79     4687.21   \n",
       "3      Statewide Planning        150000      166142.55   -16142.55   \n",
       "4             Aeronautics         59000       26017.94    32982.06   \n",
       "\n",
       "0   ps_projection year_end_expendded_pace ps_%_expended py_pos_alloc  \\\n",
       "0               0                       0             0            0   \n",
       "1  1380772.516364                0.526009      0.482175            0   \n",
       "2   158523.043636                 1.05682      0.968752            0   \n",
       "3   181246.418182                1.208309      1.107617            0   \n",
       "4    28383.207273                0.481071      0.440982            0   \n",
       "\n",
       "0 act__hours oe_allocation oe_encumbrance oe_expenditure oe_balance  \\\n",
       "0          0             0              0              0          0   \n",
       "1    13875.9         27000        1593.74        10119.4   15286.86   \n",
       "2       1747          2000              0              0       2000   \n",
       "3     2006.5          2000              0              0       2000   \n",
       "4        299             0              0       13866.74  -13866.74   \n",
       "\n",
       "0 oe_projection oe_%_expended total_allocation total_expenditure  \\\n",
       "0             0            0%          1500000                 0   \n",
       "1  12633.085455      0.467892          2652000        1277421.28   \n",
       "2             0             0           152000         145312.79   \n",
       "3             0             0           152000         166142.55   \n",
       "4  15127.352727            0%            59000          39884.68   \n",
       "\n",
       "0 total_balance total_projection total_%_expended          division  \n",
       "0       1500000                0                0  Local Assistance  \n",
       "1    1374578.72   1393405.601818         0.481682  Local Assistance  \n",
       "2       6687.21    158523.043636         0.956005              DRMT  \n",
       "3     -14142.55    181246.418182         1.093043              DOTP  \n",
       "4      19115.32         43510.56         0.676012       Aeronautics  "
      ]
     },
     "execution_count": 82,
     "metadata": {},
     "output_type": "execute_result"
    }
   ],
   "source": [
    "ap11.head()"
   ]
  },
  {
   "cell_type": "code",
   "execution_count": 84,
   "id": "ce6e1e1d-fd5f-4f79-98d5-5081888b32cf",
   "metadata": {},
   "outputs": [],
   "source": [
    "#ap11.to_csv('./testing.csv')"
   ]
  },
  {
   "cell_type": "code",
   "execution_count": 15,
   "id": "3e4c55db-8042-486b-8951-d0a43cbd0804",
   "metadata": {},
   "outputs": [
    {
     "data": {
      "text/plain": [
       "set()"
      ]
     },
     "execution_count": 15,
     "metadata": {},
     "output_type": "execute_result"
    }
   ],
   "source": [
    "set(ap4.columns).difference(set(ap11.columns))"
   ]
  },
  {
   "cell_type": "code",
   "execution_count": 16,
   "id": "decc5fc2-53a0-4641-ae52-3cdb94f46897",
   "metadata": {},
   "outputs": [],
   "source": [
    "# ap7[\"total_balance\"].sum()"
   ]
  },
  {
   "cell_type": "code",
   "execution_count": 17,
   "id": "3f3782df-2f31-43e0-8049-2dba00293297",
   "metadata": {},
   "outputs": [],
   "source": [
    "# ap4[\"total_balance\"].sum()"
   ]
  },
  {
   "cell_type": "code",
   "execution_count": 18,
   "id": "b10fa41d-4daf-48e0-a883-a3121c54386a",
   "metadata": {
    "scrolled": true,
    "tags": []
   },
   "outputs": [],
   "source": [
    "# ap12[['fund','appropriation','pec_class','ps_allocation']].sort_values(['ps_allocation',])"
   ]
  },
  {
   "cell_type": "code",
   "execution_count": 19,
   "id": "f69c1a82-2824-43ed-914e-874f4ceeb4f9",
   "metadata": {},
   "outputs": [
    {
     "data": {
      "text/plain": [
       "3"
      ]
     },
     "execution_count": 19,
     "metadata": {},
     "output_type": "execute_result"
    }
   ],
   "source": [
    "len(my_clean_dataframes)"
   ]
  },
  {
   "cell_type": "markdown",
   "id": "b891fd53-12d1-4271-a804-8e35e1789577",
   "metadata": {},
   "source": [
    "## Fund by Division Data\n",
    "* Attempt to mimic William's processed sheet called \"division df\"\n",
    "* This dataframe is AP 11 with some stuff filtered"
   ]
  },
  {
   "cell_type": "code",
   "execution_count": 20,
   "id": "765b63de-c309-45f2-a228-57b339c07e4d",
   "metadata": {},
   "outputs": [],
   "source": [
    "def create_fund_by_division(df):\n",
    "    # Drop excluded cols\n",
    "    excluded_cols = [\"appr_catg\", \"act__hours\", \"py_pos_alloc\"]\n",
    "    df = ap11.drop(columns=excluded_cols)\n",
    "\n",
    "    # Add a blank column for notes\n",
    "    df[\"notes\"] = np.nan\n",
    "\n",
    "    return df"
   ]
  },
  {
   "cell_type": "code",
   "execution_count": 21,
   "id": "67e45b78-54c9-445b-895f-bcc57684b8f9",
   "metadata": {},
   "outputs": [],
   "source": [
    "division_test = create_fund_by_division(ap11)"
   ]
  },
  {
   "cell_type": "markdown",
   "id": "3a293508-feb9-40e8-8a3f-c989bab9ba6f",
   "metadata": {},
   "source": [
    "### Double checking: William's vs mine"
   ]
  },
  {
   "cell_type": "code",
   "execution_count": 22,
   "id": "0c7b20fb-7f32-412b-9931-2c5ef28029e3",
   "metadata": {},
   "outputs": [],
   "source": [
    "test = set(division_test.appropriation.unique().tolist())\n",
    "actual = set(division_df.appropriation.unique().tolist())"
   ]
  },
  {
   "cell_type": "code",
   "execution_count": 23,
   "id": "4cf6dc76-b9d6-4f40-b1c9-0e2d36787e95",
   "metadata": {},
   "outputs": [
    {
     "data": {
      "text/plain": [
       "set()"
      ]
     },
     "execution_count": 23,
     "metadata": {},
     "output_type": "execute_result"
    }
   ],
   "source": [
    "actual - test"
   ]
  },
  {
   "cell_type": "code",
   "execution_count": 24,
   "id": "d243147b-d7fd-483f-82fc-18d32692f043",
   "metadata": {},
   "outputs": [
    {
     "data": {
      "text/plain": [
       "set()"
      ]
     },
     "execution_count": 24,
     "metadata": {},
     "output_type": "execute_result"
    }
   ],
   "source": [
    "test - actual"
   ]
  },
  {
   "cell_type": "code",
   "execution_count": 25,
   "id": "c296c184-ca83-44c3-89ee-19732b18c9a4",
   "metadata": {
    "scrolled": true,
    "tags": []
   },
   "outputs": [],
   "source": [
    "# division_test[['appropriation','ps_allocation']].sort_values(['appropriation', 'ps_allocation'])"
   ]
  },
  {
   "cell_type": "code",
   "execution_count": 26,
   "id": "d00b2cc5-f552-414c-8220-d13ba2a3ad6d",
   "metadata": {
    "scrolled": true,
    "tags": []
   },
   "outputs": [],
   "source": [
    "# division_df[['appropriation','ps_allocation']].sort_values(['appropriation', 'ps_allocation'])"
   ]
  },
  {
   "cell_type": "code",
   "execution_count": 27,
   "id": "e0fe317b-82af-47df-85b1-8a67fec79f41",
   "metadata": {},
   "outputs": [],
   "source": [
    "# division_test.loc[division_test[\"appropriation\"] == \"22030\"]"
   ]
  },
  {
   "cell_type": "code",
   "execution_count": 28,
   "id": "4b2bf078-1b8e-4875-b28c-8f0bb616a6d2",
   "metadata": {},
   "outputs": [],
   "source": [
    "# division_df.loc[division_df[\"appropriation\"] == \"22030\"]"
   ]
  },
  {
   "cell_type": "code",
   "execution_count": 29,
   "id": "372a4a12-20b9-4164-9489-ada961d87f36",
   "metadata": {},
   "outputs": [],
   "source": [
    "testing_cols = [\n",
    "    \"ps_allocation\",\n",
    "    \"ps_expenditure\",\n",
    "    \"ps_balance\",\n",
    "    \"ps_projection\",\n",
    "    \"oe_allocation\",\n",
    "    \"oe_encumbrance\",\n",
    "    \"oe_expenditure\",\n",
    "    \"total_allocation\",\n",
    "    \"total_expenditure\",\n",
    "    \"total_balance\",\n",
    "]"
   ]
  },
  {
   "cell_type": "code",
   "execution_count": 30,
   "id": "8693ca0e-e776-4985-8401-b75fd3b5488d",
   "metadata": {},
   "outputs": [
    {
     "name": "stdout",
     "output_type": "stream",
     "text": [
      "\n",
      "ps_allocation\n",
      "230928000\n",
      "230928000\n",
      "\n",
      "ps_expenditure\n",
      "183147623.15\n",
      "183147623.15000004\n",
      "\n",
      "ps_balance\n",
      "47780376.85\n",
      "47780376.85\n",
      "\n",
      "ps_projection\n",
      "199797407.0727273\n",
      "199797407.07272723\n",
      "\n",
      "oe_allocation\n",
      "232735000\n",
      "232735000\n",
      "\n",
      "oe_encumbrance\n",
      "104147405.69\n",
      "104147405.69000001\n",
      "\n",
      "oe_expenditure\n",
      "33504730.379999995\n",
      "33504730.38\n",
      "\n",
      "total_allocation\n",
      "463663000\n",
      "463663000\n",
      "\n",
      "total_expenditure\n",
      "320799759.2200001\n",
      "320799759.22\n",
      "\n",
      "total_balance\n",
      "142863240.78\n",
      "142863240.77999997\n"
     ]
    }
   ],
   "source": [
    "for i in testing_cols:\n",
    "    print(\"\\n\" + i)\n",
    "    print(division_df[i].sum())\n",
    "    print(division_test[i].sum())"
   ]
  },
  {
   "cell_type": "markdown",
   "id": "f844cd1c-51a3-4eee-b1c7-7089480c59dd",
   "metadata": {},
   "source": [
    "## TPSOE Data"
   ]
  },
  {
   "cell_type": "code",
   "execution_count": 31,
   "id": "8180abc5-9384-446a-9aea-dbd4a325c2a5",
   "metadata": {
    "tags": []
   },
   "outputs": [],
   "source": [
    "# Reference point\n",
    "# tpsoe_df.loc[tpsoe_df[\"division\"] == \"Aeronautics\"]"
   ]
  },
  {
   "cell_type": "code",
   "execution_count": 32,
   "id": "2f4c21be-01f3-4502-a029-74235880b8c7",
   "metadata": {},
   "outputs": [],
   "source": [
    "# ap11.loc[ap11[\"division\"] == \"Aeronautics\"]"
   ]
  },
  {
   "cell_type": "markdown",
   "id": "816589f7-ab62-48c8-a90b-25786aac6f7e",
   "metadata": {},
   "source": [
    "### Function to clean"
   ]
  },
  {
   "cell_type": "code",
   "execution_count": 33,
   "id": "2e52aa0c-a7b0-42e8-8d57-72bada1f41d5",
   "metadata": {},
   "outputs": [],
   "source": [
    "def cleaning_psoe_tpsoe(df, ps_or_oe: str):\n",
    "    \"\"\"\n",
    "    Fill in the column type for either ps: personal services\n",
    "    or oe: operating expense.\n",
    "    \"\"\"\n",
    "    df[\"type\"] = ps_or_oe\n",
    "\n",
    "    \"\"\"\n",
    "    Strip away the prefixes from column names\n",
    "    https://stackoverflow.com/questions/54097284/removing-suffix-from-dataframe-column-names-python\n",
    "    Create suffix\n",
    "    \"\"\"\n",
    "    suffix = f\"{ps_or_oe}_\"\n",
    "    df.columns = df.columns.str.replace(suffix, \"\", regex=True)\n",
    "\n",
    "    return df"
   ]
  },
  {
   "cell_type": "markdown",
   "id": "d835b09c-b6ff-471d-b1d0-fdad2673de3d",
   "metadata": {},
   "source": [
    "### Function to create sheet"
   ]
  },
  {
   "cell_type": "code",
   "execution_count": 34,
   "id": "3598ddc0-04b0-4b27-bf43-556298d1dbe5",
   "metadata": {},
   "outputs": [],
   "source": [
    "# Cols: for PS\n",
    "tpsoe_ps_list = [\n",
    "    \"fund\",\n",
    "    \"fund_description\",\n",
    "    \"appropriation\",\n",
    "    \"pec_class\",\n",
    "    \"division\",\n",
    "    \"ps_allocation\",\n",
    "    \"ps_expenditure\",\n",
    "    \"ps_balance\",\n",
    "    \"ps_projection\",\n",
    "    \"year_end_expendded_pace\",\n",
    "    \"ps_%_expended\",\n",
    "]\n",
    "\n",
    "# Cols for OE\n",
    "tpsoe_oe_list = [\n",
    "    \"fund\",\n",
    "    \"fund_description\",\n",
    "    \"appropriation\",\n",
    "    \"pec_class\",\n",
    "    \"division\",\n",
    "    \"oe_allocation\",\n",
    "    \"oe_encumbrance\",\n",
    "    \"oe_expenditure\",\n",
    "    \"oe_balance\",\n",
    "    \"oe_projection\",\n",
    "]\n",
    "\n",
    "monetary_cols = [\n",
    "    \"allocation\",\n",
    "    \"expenditure\",\n",
    "    \"balance\",\n",
    "    \"encumbrance\",\n",
    "    \"projection\",\n",
    "]\n",
    "\n",
    "order_of_cols = [\n",
    "    \"pec_class\",\n",
    "    \"division\",\n",
    "    \"fund\",\n",
    "    \"fund_description\",\n",
    "    \"appropriation\",\n",
    "    \"type\",\n",
    "    \"allocation\",\n",
    "    \"expenditure\",\n",
    "    \"balance\",\n",
    "    \"encumbrance\",\n",
    "    \"projection\",\n",
    "    \"year_end_expendded_pace\",\n",
    "    \"%_expended\",\n",
    "]"
   ]
  },
  {
   "cell_type": "code",
   "execution_count": 35,
   "id": "cdf5de76-054f-443d-ae2f-31e9a45f1124",
   "metadata": {},
   "outputs": [],
   "source": [
    "# chocolate"
   ]
  },
  {
   "cell_type": "code",
   "execution_count": 36,
   "id": "e9948907-0874-44ac-bf37-6ed0d0870057",
   "metadata": {},
   "outputs": [],
   "source": [
    "def create_tpsoe(df, ps_list: list, oe_list: list):\n",
    "    \"\"\"\n",
    "    ps_list: a list of all the ps related columns.\n",
    "    oe_list: a list of all the oe related columns.\n",
    "    Use this to subset out the whole dataframe,\n",
    "    one for personal services, one for operating expenses.\n",
    "    \"\"\"\n",
    "\n",
    "    # Clean up and subset out the dataframe\n",
    "    tpsoe_oe = cleaning_psoe_tpsoe(df[oe_list], \"oe\")\n",
    "    tpsoe_ps = cleaning_psoe_tpsoe(df[ps_list], \"ps\")\n",
    "\n",
    "    # Concat the two dataframes together\n",
    "    c1 = pd.concat([tpsoe_ps, tpsoe_oe], sort=False)\n",
    "\n",
    "    # Rearrange the columns to the right order\n",
    "    c1 = c1[order_of_cols]\n",
    "\n",
    "    # Add a notes column\n",
    "    c1[\"notes\"] = np.nan\n",
    "\n",
    "    # Correct data types of monetary columns from objects to float\n",
    "    c1[monetary_cols] = c1[monetary_cols].astype(\"float64\")\n",
    "\n",
    "    return c1"
   ]
  },
  {
   "cell_type": "code",
   "execution_count": 37,
   "id": "c4d22ed8-112a-4707-8b1b-6af94ef659e6",
   "metadata": {},
   "outputs": [
    {
     "name": "stderr",
     "output_type": "stream",
     "text": [
      "/tmp/ipykernel_1900/2285141947.py:6: SettingWithCopyWarning: \n",
      "A value is trying to be set on a copy of a slice from a DataFrame.\n",
      "Try using .loc[row_indexer,col_indexer] = value instead\n",
      "\n",
      "See the caveats in the documentation: https://pandas.pydata.org/pandas-docs/stable/user_guide/indexing.html#returning-a-view-versus-a-copy\n",
      "/tmp/ipykernel_1900/2285141947.py:6: SettingWithCopyWarning: \n",
      "A value is trying to be set on a copy of a slice from a DataFrame.\n",
      "Try using .loc[row_indexer,col_indexer] = value instead\n",
      "\n",
      "See the caveats in the documentation: https://pandas.pydata.org/pandas-docs/stable/user_guide/indexing.html#returning-a-view-versus-a-copy\n"
     ]
    }
   ],
   "source": [
    "c1 = create_tpsoe(ap11, tpsoe_ps_list, tpsoe_oe_list)"
   ]
  },
  {
   "cell_type": "markdown",
   "id": "8f937963-24bf-4588-b2bd-341501b96753",
   "metadata": {},
   "source": [
    "### Double checking"
   ]
  },
  {
   "cell_type": "code",
   "execution_count": 38,
   "id": "be181f04-f123-44a6-84b1-3dfedeb0c150",
   "metadata": {},
   "outputs": [
    {
     "data": {
      "text/plain": [
       "(96, 14)"
      ]
     },
     "execution_count": 38,
     "metadata": {},
     "output_type": "execute_result"
    }
   ],
   "source": [
    "c1.shape"
   ]
  },
  {
   "cell_type": "code",
   "execution_count": 39,
   "id": "b0ec9ba1-9194-4618-9a9e-68895c47c088",
   "metadata": {},
   "outputs": [
    {
     "data": {
      "text/plain": [
       "(100, 14)"
      ]
     },
     "execution_count": 39,
     "metadata": {},
     "output_type": "execute_result"
    }
   ],
   "source": [
    "tpsoe_df.shape"
   ]
  },
  {
   "cell_type": "code",
   "execution_count": 40,
   "id": "280c3354-f8a7-4a6f-a686-1d53f9040671",
   "metadata": {
    "scrolled": true,
    "tags": []
   },
   "outputs": [],
   "source": [
    "# c1[['division', 'type','pec_class', 'allocation']].sort_values(['pec_class', 'allocation'])"
   ]
  },
  {
   "cell_type": "code",
   "execution_count": 41,
   "id": "777df182-080a-4dd2-b47d-37ab9454f04b",
   "metadata": {
    "scrolled": true,
    "tags": []
   },
   "outputs": [],
   "source": [
    "# tpsoe_df[['division','type','pec_class', 'allocation']].sort_values(['pec_class', 'allocation'])"
   ]
  },
  {
   "cell_type": "code",
   "execution_count": 42,
   "id": "a0e24757-ea0e-44b8-99cf-0a54f6093732",
   "metadata": {},
   "outputs": [
    {
     "name": "stdout",
     "output_type": "stream",
     "text": [
      "\n",
      "allocation\n",
      "463663000.0\n",
      "463663000\n",
      "\n",
      "expenditure\n",
      "216652353.53000003\n",
      "216652353.52999997\n",
      "\n",
      "balance\n",
      "142863240.78\n",
      "142863240.78\n",
      "\n",
      "encumbrance\n",
      "104147405.69\n",
      "104147405.69\n",
      "\n",
      "projection\n",
      "340495427.72272724\n",
      "340495427.72272724\n"
     ]
    }
   ],
   "source": [
    "for i in monetary_cols:\n",
    "    print(\"\\n\" + i)\n",
    "    print(c1[i].sum())\n",
    "    print(tpsoe_df[i].sum())"
   ]
  },
  {
   "cell_type": "code",
   "execution_count": 43,
   "id": "475ede95-98a6-43e2-a115-a5b4b60ff382",
   "metadata": {},
   "outputs": [],
   "source": [
    "test = set(c1.appropriation.unique().tolist())\n",
    "actual = set(tpsoe_df.appropriation.unique().tolist())"
   ]
  },
  {
   "cell_type": "code",
   "execution_count": 44,
   "id": "de969d02-8054-4126-a4b1-75c9fe3fd606",
   "metadata": {},
   "outputs": [
    {
     "data": {
      "text/plain": [
       "set()"
      ]
     },
     "execution_count": 44,
     "metadata": {},
     "output_type": "execute_result"
    }
   ],
   "source": [
    "actual - test"
   ]
  },
  {
   "cell_type": "code",
   "execution_count": 45,
   "id": "fb446f34-4fd1-42dc-85d7-94da61558d87",
   "metadata": {},
   "outputs": [
    {
     "data": {
      "text/plain": [
       "set()"
      ]
     },
     "execution_count": 45,
     "metadata": {},
     "output_type": "execute_result"
    }
   ],
   "source": [
    "test - actual"
   ]
  },
  {
   "cell_type": "code",
   "execution_count": 46,
   "id": "e76556ac-d818-4ff9-a156-c86664776cd7",
   "metadata": {},
   "outputs": [],
   "source": [
    "test = set(c1.pec_class.unique().tolist())\n",
    "actual = set(tpsoe_df.pec_class.unique().tolist())"
   ]
  },
  {
   "cell_type": "code",
   "execution_count": 47,
   "id": "29a1ce8d-db48-4b5c-bab8-b8e16b9158df",
   "metadata": {},
   "outputs": [
    {
     "data": {
      "text/plain": [
       "{1000, 2030, 2041, 3010, 3020, 4010, 4020, 4030, 4050}"
      ]
     },
     "execution_count": 47,
     "metadata": {},
     "output_type": "execute_result"
    }
   ],
   "source": [
    "actual - test"
   ]
  },
  {
   "cell_type": "code",
   "execution_count": 48,
   "id": "1c2d4e77-a0c1-40f8-8898-c14d0d1bedd2",
   "metadata": {},
   "outputs": [
    {
     "data": {
      "text/plain": [
       "{'1000', '2030', '2041', '3010', '3020', '4010', '4020', '4030', '4050'}"
      ]
     },
     "execution_count": 48,
     "metadata": {},
     "output_type": "execute_result"
    }
   ],
   "source": [
    "test - actual"
   ]
  },
  {
   "cell_type": "markdown",
   "id": "de298bb5-15bd-44c1-8f65-84d8acc3d980",
   "metadata": {},
   "source": [
    "## Timeline "
   ]
  },
  {
   "cell_type": "code",
   "execution_count": 49,
   "id": "4c2458a3-dca2-4652-aa92-812f359a203f",
   "metadata": {},
   "outputs": [],
   "source": [
    "def create_timeline():\n",
    "    \"\"\"\n",
    "    Loop through all the cleaned dfs in the list\n",
    "    my_clean_dataframes. Tag each dataframe as 1,\n",
    "    2,3,etc to fill in the column \"ap\" (aka accounting\n",
    "    period) that differentiates which accounting period each df comes from.\n",
    "    \"\"\"\n",
    "    keys_list = []\n",
    "\n",
    "    for i, item in enumerate(my_clean_dataframes):\n",
    "        keys_list.append(i + 1)\n",
    "\n",
    "    \"\"\"\n",
    "    Stack all the dfs in my_clean_dataframes, starting \n",
    "    https://stackoverflow.com/questions/59267129/how-to-concatenate-multiple-dataframes-from-multiple-sources-in-pandas\n",
    "    \"\"\"\n",
    "    c1 = (\n",
    "        pd.concat(my_clean_dataframes, keys=keys_list)\n",
    "        .rename_axis((\"source\", \"tmp\"))\n",
    "        .reset_index(level=0)\n",
    "        .reset_index(drop=True)\n",
    "    )\n",
    "\n",
    "    # Drop original accounting period column & replace the new source col\n",
    "    c1 = c1.drop(\n",
    "        columns=[\n",
    "            \"ap\",\n",
    "        ]\n",
    "    ).rename(columns={\"source\": \"ap\"})\n",
    "    return c1"
   ]
  },
  {
   "cell_type": "code",
   "execution_count": 50,
   "id": "e7f00a81-d0b9-484a-b831-0f4c034828df",
   "metadata": {},
   "outputs": [],
   "source": [
    "keys_list = []"
   ]
  },
  {
   "cell_type": "code",
   "execution_count": 51,
   "id": "54a82a27-873d-4564-8732-a2a25deb4d3f",
   "metadata": {},
   "outputs": [],
   "source": [
    "for i, item in enumerate(my_clean_dataframes):\n",
    "    keys_list.append(i + 1)"
   ]
  },
  {
   "cell_type": "code",
   "execution_count": 52,
   "id": "2b258068-b353-42f5-955d-45d1432b6783",
   "metadata": {},
   "outputs": [
    {
     "data": {
      "text/plain": [
       "[1, 2, 3]"
      ]
     },
     "execution_count": 52,
     "metadata": {},
     "output_type": "execute_result"
    }
   ],
   "source": [
    "keys_list"
   ]
  },
  {
   "cell_type": "code",
   "execution_count": 53,
   "id": "440a612b-71fa-4025-8d22-a2e446f18a0b",
   "metadata": {},
   "outputs": [],
   "source": [
    "# https://stackoverflow.com/questions/59267129/how-to-concatenate-multiple-dataframes-from-multiple-sources-in-pandas\n",
    "time_test = (\n",
    "    pd.concat(my_clean_dataframes, keys=keys_list)\n",
    "    .rename_axis((\"source\", \"tmp\"))\n",
    "    .reset_index(level=0)\n",
    "    .reset_index(drop=True)\n",
    ")"
   ]
  },
  {
   "cell_type": "code",
   "execution_count": 54,
   "id": "6fd91ad7-5af3-4a33-b5a8-d443f6106bbe",
   "metadata": {
    "tags": []
   },
   "outputs": [],
   "source": [
    "time_test = time_test.drop(\n",
    "    columns=[\n",
    "        \"ap\",\n",
    "    ]\n",
    ").rename(columns={\"source\": \"ap\"})"
   ]
  },
  {
   "cell_type": "code",
   "execution_count": 55,
   "id": "c8a68094-413b-49da-bfcf-9c048e57158e",
   "metadata": {},
   "outputs": [],
   "source": [
    "# Certain appropriation(s) are filtered out:\n",
    "# time_test = time_test[~time_test.appropriation.isin(unwanted_appropriations)]"
   ]
  },
  {
   "cell_type": "code",
   "execution_count": 56,
   "id": "83754afa-b243-40e1-be0e-8e3d3ebd51dc",
   "metadata": {
    "scrolled": true,
    "tags": []
   },
   "outputs": [],
   "source": [
    "# time_test.loc[time_test['appropriation'] == '22030']"
   ]
  },
  {
   "cell_type": "code",
   "execution_count": 57,
   "id": "09fd6595-4b42-494b-b26d-44455f4a5e70",
   "metadata": {},
   "outputs": [],
   "source": [
    "timeline_df = timeline_df[timeline_df[\"ap\"].isin([4, 7, 11])]"
   ]
  },
  {
   "cell_type": "code",
   "execution_count": 58,
   "id": "06541a82-f242-49b2-b516-8acdb20f11c1",
   "metadata": {},
   "outputs": [
    {
     "data": {
      "text/plain": [
       "4     50\n",
       "7     50\n",
       "11    48\n",
       "Name: ap, dtype: int64"
      ]
     },
     "execution_count": 58,
     "metadata": {},
     "output_type": "execute_result"
    }
   ],
   "source": [
    "timeline_df[\"ap\"].value_counts()"
   ]
  },
  {
   "cell_type": "code",
   "execution_count": 59,
   "id": "57530af5-f989-4ff5-9bb6-92b153e8ff66",
   "metadata": {},
   "outputs": [],
   "source": [
    "timeline_df_cols = [\n",
    "    \"ps_alloc\",\n",
    "    \"ps_exp\",\n",
    "    \"ps_bal\",\n",
    "    \"ps_projection\",\n",
    "    \"oe_alloc\",\n",
    "    \"oe_enc\",\n",
    "    \"oe_exp\",\n",
    "    \"oe_projection\",\n",
    "]"
   ]
  },
  {
   "cell_type": "code",
   "execution_count": 60,
   "id": "687e66b2-7869-46d7-ba1b-b8125ec59016",
   "metadata": {},
   "outputs": [
    {
     "name": "stdout",
     "output_type": "stream",
     "text": [
      "\n",
      "ps_alloc\n",
      "694532000\n",
      "\n",
      "ps_exp\n",
      "362067639.31\n",
      "\n",
      "ps_bal\n",
      "332464360.69\n",
      "\n",
      "ps_projection\n",
      "590649886.2798702\n",
      "\n",
      "oe_alloc\n",
      "701335000\n",
      "\n",
      "oe_enc\n",
      "340648152.73999995\n",
      "\n",
      "oe_exp\n",
      "64541248.23\n",
      "\n",
      "oe_projection\n",
      "211249725.08\n"
     ]
    }
   ],
   "source": [
    "for i in timeline_df_cols:\n",
    "    print(\"\\n\" + i)\n",
    "    print(timeline_df[i].sum())"
   ]
  },
  {
   "cell_type": "code",
   "execution_count": 61,
   "id": "30ef2406-44c5-4fc7-9693-f3240e09ba4b",
   "metadata": {},
   "outputs": [],
   "source": [
    "timeline_test_cols = [\n",
    "    \"ps_allocation\",\n",
    "    \"ps_expenditure\",\n",
    "    \"ps_balance\",\n",
    "    \"ps_projection\",\n",
    "    \"oe_allocation\",\n",
    "    \"oe_encumbrance\",\n",
    "    \"oe_expenditure\",\n",
    "    \"oe_projection\",\n",
    "]"
   ]
  },
  {
   "cell_type": "code",
   "execution_count": 62,
   "id": "27bbe0aa-ddc6-4d45-9929-424a8aaacf0c",
   "metadata": {},
   "outputs": [
    {
     "name": "stdout",
     "output_type": "stream",
     "text": [
      "\n",
      "ps_allocation\n",
      "694532000\n",
      "\n",
      "ps_expenditure\n",
      "362067639.3099998\n",
      "\n",
      "ps_balance\n",
      "332464360.69000024\n",
      "\n",
      "ps_projection\n",
      "590649886.27987\n",
      "\n",
      "oe_allocation\n",
      "701335000\n",
      "\n",
      "oe_encumbrance\n",
      "561198815.5199999\n",
      "\n",
      "oe_expenditure\n",
      "89307659.13\n",
      "\n",
      "oe_projection\n",
      "254044580.5271429\n"
     ]
    }
   ],
   "source": [
    "for i in timeline_test_cols:\n",
    "    print(\"\\n\" + i)\n",
    "    print(time_test[i].sum())"
   ]
  },
  {
   "cell_type": "markdown",
   "id": "eff2afc2-550c-4033-9052-7fe77f910f18",
   "metadata": {},
   "source": [
    "## PSOE Timeline"
   ]
  },
  {
   "cell_type": "code",
   "execution_count": 63,
   "id": "fbd92749-cb94-4186-ba4f-e0fe6e1b3800",
   "metadata": {},
   "outputs": [],
   "source": [
    "psoe_ps_cols = [\n",
    "    \"appr_catg\",\n",
    "    \"fund\",\n",
    "    \"fund_description\",\n",
    "    \"appropriation\",\n",
    "    \"pec_class\",\n",
    "    \"division\",\n",
    "    \"ps_allocation\",\n",
    "    \"ps_expenditure\",\n",
    "    \"ps_balance\",\n",
    "    \"ps_projection\",\n",
    "    \"ps_%_expended\",\n",
    "    \"ap\",\n",
    "    \"pec_class_description\",\n",
    "]\n",
    "\n",
    "psoe_oe_cols = [\n",
    "    \"appr_catg\",\n",
    "    \"fund\",\n",
    "    \"fund_description\",\n",
    "    \"appropriation\",\n",
    "    \"pec_class\",\n",
    "    \"division\",\n",
    "    \"oe_allocation\",\n",
    "    \"oe_encumbrance\",\n",
    "    \"oe_expenditure\",\n",
    "    \"oe_balance\",\n",
    "    \"oe_projection\",\n",
    "    \"oe_%_expended\",\n",
    "    \"ap\",\n",
    "    \"pec_class_description\",\n",
    "]\n",
    "\n",
    "psoe_right_col_order = [\n",
    "    \"appr_catg\",\n",
    "    \"fund\",\n",
    "    \"fund_description\",\n",
    "    \"appropriation\",\n",
    "    \"division\",\n",
    "    \"pec_class\",\n",
    "    \"pec_class_description\",\n",
    "    \"allocation\",\n",
    "    \"expense\",\n",
    "    \"balance\",\n",
    "    \"projection\",\n",
    "    \"%_expended\",\n",
    "    \"ap\",\n",
    "    \"type\",\n",
    "    \"encumbrance\",\n",
    "]"
   ]
  },
  {
   "cell_type": "code",
   "execution_count": 64,
   "id": "4379b241-2d7a-4fa5-aa08-531c70cf0665",
   "metadata": {},
   "outputs": [],
   "source": [
    "def create_psoe_timeline(df, ps_list: list, oe_list: list):\n",
    "\n",
    "    # Create 2 dataframes that subsets out OE and PS\n",
    "    psoe_oe = cleaning_psoe_tpsoe(df[oe_list], \"oe\")\n",
    "    psoe_ps = cleaning_psoe_tpsoe(df[ps_list], \"ps\")\n",
    "\n",
    "    # Stack both dataframes on top of each other\n",
    "    c1 = pd.concat([psoe_ps, psoe_oe], sort=False)\n",
    "\n",
    "    # Rename column to mimic William's\n",
    "    c1 = c1.rename(columns={\"expenditure\": \"expense\"})\n",
    "\n",
    "    # Rearrange the dataframe in the right order\n",
    "    c1 = c1[psoe_right_col_order]\n",
    "\n",
    "    return c1"
   ]
  },
  {
   "cell_type": "code",
   "execution_count": 65,
   "id": "fa240e4f-132b-4d23-8032-6ac2966129d8",
   "metadata": {},
   "outputs": [
    {
     "name": "stderr",
     "output_type": "stream",
     "text": [
      "/tmp/ipykernel_1900/2285141947.py:6: SettingWithCopyWarning: \n",
      "A value is trying to be set on a copy of a slice from a DataFrame.\n",
      "Try using .loc[row_indexer,col_indexer] = value instead\n",
      "\n",
      "See the caveats in the documentation: https://pandas.pydata.org/pandas-docs/stable/user_guide/indexing.html#returning-a-view-versus-a-copy\n",
      "/tmp/ipykernel_1900/2285141947.py:6: SettingWithCopyWarning: \n",
      "A value is trying to be set on a copy of a slice from a DataFrame.\n",
      "Try using .loc[row_indexer,col_indexer] = value instead\n",
      "\n",
      "See the caveats in the documentation: https://pandas.pydata.org/pandas-docs/stable/user_guide/indexing.html#returning-a-view-versus-a-copy\n"
     ]
    }
   ],
   "source": [
    "pose_test = create_psoe_timeline(time_test, psoe_ps_cols, psoe_oe_cols)"
   ]
  },
  {
   "cell_type": "code",
   "execution_count": 66,
   "id": "5229ce7a-8589-4929-95e5-ce04aafbde3c",
   "metadata": {},
   "outputs": [],
   "source": [
    "pose_test = pose_test.loc[pose_test[\"appropriation\"] != \"22102F\"]"
   ]
  },
  {
   "cell_type": "code",
   "execution_count": 67,
   "id": "59c7b3b9-adbf-45ab-b4ad-8ed40732cb28",
   "metadata": {},
   "outputs": [
    {
     "data": {
      "text/plain": [
       "(296, 15)"
      ]
     },
     "execution_count": 67,
     "metadata": {},
     "output_type": "execute_result"
    }
   ],
   "source": [
    "pose_test.shape"
   ]
  },
  {
   "cell_type": "code",
   "execution_count": 68,
   "id": "847d1fe1-8194-4f5e-afdc-1a3772e05b91",
   "metadata": {},
   "outputs": [
    {
     "data": {
      "text/html": [
       "<div>\n",
       "<style scoped>\n",
       "    .dataframe tbody tr th:only-of-type {\n",
       "        vertical-align: middle;\n",
       "    }\n",
       "\n",
       "    .dataframe tbody tr th {\n",
       "        vertical-align: top;\n",
       "    }\n",
       "\n",
       "    .dataframe thead th {\n",
       "        text-align: right;\n",
       "    }\n",
       "</style>\n",
       "<table border=\"1\" class=\"dataframe\">\n",
       "  <thead>\n",
       "    <tr style=\"text-align: right;\">\n",
       "      <th></th>\n",
       "      <th>appr_catg</th>\n",
       "      <th>fund</th>\n",
       "      <th>fund_description</th>\n",
       "      <th>appropriation</th>\n",
       "      <th>division</th>\n",
       "      <th>pec_class</th>\n",
       "      <th>pec_class_description</th>\n",
       "      <th>allocation</th>\n",
       "      <th>expense</th>\n",
       "      <th>balance</th>\n",
       "      <th>projection</th>\n",
       "      <th>%_expended</th>\n",
       "      <th>ap</th>\n",
       "      <th>type</th>\n",
       "      <th>encumbrance</th>\n",
       "    </tr>\n",
       "  </thead>\n",
       "  <tbody>\n",
       "    <tr>\n",
       "      <th>0</th>\n",
       "      <td>2122</td>\n",
       "      <td>0001</td>\n",
       "      <td>General Fund</td>\n",
       "      <td>22002</td>\n",
       "      <td>Local Assistance</td>\n",
       "      <td>2030</td>\n",
       "      <td>Local Assistance</td>\n",
       "      <td>1500000</td>\n",
       "      <td>0</td>\n",
       "      <td>1500000</td>\n",
       "      <td>0</td>\n",
       "      <td>0</td>\n",
       "      <td>1</td>\n",
       "      <td>ps</td>\n",
       "      <td>NaN</td>\n",
       "    </tr>\n",
       "    <tr>\n",
       "      <th>1</th>\n",
       "      <td>2122</td>\n",
       "      <td>0001</td>\n",
       "      <td>General Fund</td>\n",
       "      <td>22030</td>\n",
       "      <td>Local Assistance</td>\n",
       "      <td>2030</td>\n",
       "      <td>Local Assistance</td>\n",
       "      <td>4001000</td>\n",
       "      <td>135511.93</td>\n",
       "      <td>3865488.07</td>\n",
       "      <td>406535.79</td>\n",
       "      <td>0.03387</td>\n",
       "      <td>1</td>\n",
       "      <td>ps</td>\n",
       "      <td>NaN</td>\n",
       "    </tr>\n",
       "  </tbody>\n",
       "</table>\n",
       "</div>"
      ],
      "text/plain": [
       "0 appr_catg  fund fund_description appropriation          division pec_class  \\\n",
       "0      2122  0001     General Fund         22002  Local Assistance      2030   \n",
       "1      2122  0001     General Fund         22030  Local Assistance      2030   \n",
       "\n",
       "0 pec_class_description allocation    expense     balance projection  \\\n",
       "0      Local Assistance    1500000          0     1500000          0   \n",
       "1      Local Assistance    4001000  135511.93  3865488.07  406535.79   \n",
       "\n",
       "0 %_expended  ap type encumbrance  \n",
       "0          0   1   ps         NaN  \n",
       "1    0.03387   1   ps         NaN  "
      ]
     },
     "execution_count": 68,
     "metadata": {},
     "output_type": "execute_result"
    }
   ],
   "source": [
    "pose_test.head(2)"
   ]
  },
  {
   "cell_type": "code",
   "execution_count": 69,
   "id": "e42c887a-52f4-4b99-9db0-9c7cda7ce2b2",
   "metadata": {
    "tags": []
   },
   "outputs": [],
   "source": [
    "# time_test[['ap','appr_catg','appropriation','pec_class_description','oe_allocation','oe_projection','ap']].loc[time_test[\"pec_class_description\"] == \"Aeronautics\"]"
   ]
  },
  {
   "cell_type": "code",
   "execution_count": 70,
   "id": "8baea8df-f69f-4231-9687-9aef2fabe09a",
   "metadata": {
    "scrolled": true,
    "tags": []
   },
   "outputs": [],
   "source": [
    "# test_ps.loc[test_ps[\"pec_class_description\"] == \"Aeronautics\"]"
   ]
  },
  {
   "cell_type": "markdown",
   "id": "e066fd5e-c497-4787-b3c1-90a70fc5f842",
   "metadata": {},
   "source": [
    "### Double checking"
   ]
  },
  {
   "cell_type": "code",
   "execution_count": 71,
   "id": "918c3551-3bad-4dc0-b1ab-013b39754b54",
   "metadata": {},
   "outputs": [],
   "source": [
    "psoe_df = psoe_df[psoe_df[\"ap\"].isin([4, 7, 11])]"
   ]
  },
  {
   "cell_type": "code",
   "execution_count": 72,
   "id": "99d28341-4610-4703-9645-4301b84eb2ba",
   "metadata": {
    "scrolled": true,
    "tags": []
   },
   "outputs": [],
   "source": [
    "aero_og = psoe_df.loc[psoe_df[\"division\"] == \"Aeronautics\"]"
   ]
  },
  {
   "cell_type": "code",
   "execution_count": 73,
   "id": "f61a0277-0f53-45d0-9add-169dc65cf055",
   "metadata": {
    "scrolled": true,
    "tags": []
   },
   "outputs": [
    {
     "data": {
      "text/html": [
       "<div>\n",
       "<style scoped>\n",
       "    .dataframe tbody tr th:only-of-type {\n",
       "        vertical-align: middle;\n",
       "    }\n",
       "\n",
       "    .dataframe tbody tr th {\n",
       "        vertical-align: top;\n",
       "    }\n",
       "\n",
       "    .dataframe thead th {\n",
       "        text-align: right;\n",
       "    }\n",
       "</style>\n",
       "<table border=\"1\" class=\"dataframe\">\n",
       "  <thead>\n",
       "    <tr style=\"text-align: right;\">\n",
       "      <th></th>\n",
       "      <th>appr_catg</th>\n",
       "      <th>fund</th>\n",
       "      <th>fund_description</th>\n",
       "      <th>appr</th>\n",
       "      <th>division</th>\n",
       "      <th>pec_class</th>\n",
       "      <th>pec_class_description</th>\n",
       "      <th>allocation</th>\n",
       "      <th>expense</th>\n",
       "      <th>balance</th>\n",
       "      <th>projection</th>\n",
       "      <th>%_expended</th>\n",
       "      <th>ap</th>\n",
       "      <th>type</th>\n",
       "      <th>encumbrance</th>\n",
       "    </tr>\n",
       "  </thead>\n",
       "  <tbody>\n",
       "    <tr>\n",
       "      <th>133</th>\n",
       "      <td>2122</td>\n",
       "      <td>41</td>\n",
       "      <td>Aeronautics Account STF</td>\n",
       "      <td>22001R</td>\n",
       "      <td>Aeronautics</td>\n",
       "      <td>1000</td>\n",
       "      <td>Aeronautics</td>\n",
       "      <td>58000</td>\n",
       "      <td>0.00</td>\n",
       "      <td>58000.00</td>\n",
       "      <td>0.000000e+00</td>\n",
       "      <td>0</td>\n",
       "      <td>4</td>\n",
       "      <td>PS</td>\n",
       "      <td>NaN</td>\n",
       "    </tr>\n",
       "    <tr>\n",
       "      <th>134</th>\n",
       "      <td>2122</td>\n",
       "      <td>41</td>\n",
       "      <td>Aeronautics Account STF</td>\n",
       "      <td>22001</td>\n",
       "      <td>Aeronautics</td>\n",
       "      <td>1000</td>\n",
       "      <td>Aeronautics</td>\n",
       "      <td>3620000</td>\n",
       "      <td>1024426.60</td>\n",
       "      <td>2595573.40</td>\n",
       "      <td>3.073280e+06</td>\n",
       "      <td>0.282991</td>\n",
       "      <td>4</td>\n",
       "      <td>PS</td>\n",
       "      <td>NaN</td>\n",
       "    </tr>\n",
       "    <tr>\n",
       "      <th>157</th>\n",
       "      <td>2122</td>\n",
       "      <td>890</td>\n",
       "      <td>Federal Trust Fund</td>\n",
       "      <td>22001F</td>\n",
       "      <td>Aeronautics</td>\n",
       "      <td>1000</td>\n",
       "      <td>Aeronautics</td>\n",
       "      <td>86000</td>\n",
       "      <td>0.00</td>\n",
       "      <td>86000.00</td>\n",
       "      <td>0.000000e+00</td>\n",
       "      <td>0</td>\n",
       "      <td>4</td>\n",
       "      <td>PS</td>\n",
       "      <td>NaN</td>\n",
       "    </tr>\n",
       "    <tr>\n",
       "      <th>283</th>\n",
       "      <td>2122</td>\n",
       "      <td>41</td>\n",
       "      <td>Aeronautics Account STF</td>\n",
       "      <td>22001R</td>\n",
       "      <td>Aeronautics</td>\n",
       "      <td>1000</td>\n",
       "      <td>Aeronautics</td>\n",
       "      <td>59000</td>\n",
       "      <td>11037.67</td>\n",
       "      <td>47962.33</td>\n",
       "      <td>1.892172e+04</td>\n",
       "      <td>0.187079</td>\n",
       "      <td>7</td>\n",
       "      <td>PS</td>\n",
       "      <td>NaN</td>\n",
       "    </tr>\n",
       "    <tr>\n",
       "      <th>284</th>\n",
       "      <td>2122</td>\n",
       "      <td>41</td>\n",
       "      <td>Aeronautics Account STF</td>\n",
       "      <td>22001</td>\n",
       "      <td>Aeronautics</td>\n",
       "      <td>1000</td>\n",
       "      <td>Aeronautics</td>\n",
       "      <td>3742000</td>\n",
       "      <td>1696346.27</td>\n",
       "      <td>2045653.73</td>\n",
       "      <td>2.908022e+06</td>\n",
       "      <td>0.453326</td>\n",
       "      <td>7</td>\n",
       "      <td>PS</td>\n",
       "      <td>NaN</td>\n",
       "    </tr>\n",
       "    <tr>\n",
       "      <th>307</th>\n",
       "      <td>2122</td>\n",
       "      <td>890</td>\n",
       "      <td>Federal Trust Fund</td>\n",
       "      <td>22001F</td>\n",
       "      <td>Aeronautics</td>\n",
       "      <td>1000</td>\n",
       "      <td>Aeronautics</td>\n",
       "      <td>89000</td>\n",
       "      <td>0.00</td>\n",
       "      <td>89000.00</td>\n",
       "      <td>0.000000e+00</td>\n",
       "      <td>0</td>\n",
       "      <td>7</td>\n",
       "      <td>PS</td>\n",
       "      <td>NaN</td>\n",
       "    </tr>\n",
       "    <tr>\n",
       "      <th>481</th>\n",
       "      <td>2122</td>\n",
       "      <td>41</td>\n",
       "      <td>Aeronautics Account STF</td>\n",
       "      <td>22001R</td>\n",
       "      <td>Aeronautics</td>\n",
       "      <td>1000</td>\n",
       "      <td>Aeronautics</td>\n",
       "      <td>59000</td>\n",
       "      <td>26017.94</td>\n",
       "      <td>32982.06</td>\n",
       "      <td>2.838321e+04</td>\n",
       "      <td>0.440982</td>\n",
       "      <td>11</td>\n",
       "      <td>PS</td>\n",
       "      <td>NaN</td>\n",
       "    </tr>\n",
       "    <tr>\n",
       "      <th>482</th>\n",
       "      <td>2122</td>\n",
       "      <td>41</td>\n",
       "      <td>Aeronautics Account STF</td>\n",
       "      <td>22001</td>\n",
       "      <td>Aeronautics</td>\n",
       "      <td>1000</td>\n",
       "      <td>Aeronautics</td>\n",
       "      <td>3742000</td>\n",
       "      <td>2668503.64</td>\n",
       "      <td>1073496.36</td>\n",
       "      <td>2.911095e+06</td>\n",
       "      <td>0.713122</td>\n",
       "      <td>11</td>\n",
       "      <td>PS</td>\n",
       "      <td>NaN</td>\n",
       "    </tr>\n",
       "    <tr>\n",
       "      <th>505</th>\n",
       "      <td>2122</td>\n",
       "      <td>890</td>\n",
       "      <td>Federal Trust Fund</td>\n",
       "      <td>22001F</td>\n",
       "      <td>Aeronautics</td>\n",
       "      <td>1000</td>\n",
       "      <td>Aeronautics</td>\n",
       "      <td>89000</td>\n",
       "      <td>0.00</td>\n",
       "      <td>89000.00</td>\n",
       "      <td>0.000000e+00</td>\n",
       "      <td>0</td>\n",
       "      <td>11</td>\n",
       "      <td>PS</td>\n",
       "      <td>NaN</td>\n",
       "    </tr>\n",
       "    <tr>\n",
       "      <th>658</th>\n",
       "      <td>2122</td>\n",
       "      <td>41</td>\n",
       "      <td>Aeronautics Account STF</td>\n",
       "      <td>22001R</td>\n",
       "      <td>Aeronautics</td>\n",
       "      <td>1000</td>\n",
       "      <td>Aeronautics</td>\n",
       "      <td>0</td>\n",
       "      <td>0.00</td>\n",
       "      <td>0.00</td>\n",
       "      <td>0.000000e+00</td>\n",
       "      <td>0%</td>\n",
       "      <td>4</td>\n",
       "      <td>OE</td>\n",
       "      <td>0.00</td>\n",
       "    </tr>\n",
       "    <tr>\n",
       "      <th>659</th>\n",
       "      <td>2122</td>\n",
       "      <td>41</td>\n",
       "      <td>Aeronautics Account STF</td>\n",
       "      <td>22001</td>\n",
       "      <td>Aeronautics</td>\n",
       "      <td>1000</td>\n",
       "      <td>Aeronautics</td>\n",
       "      <td>487000</td>\n",
       "      <td>23166.71</td>\n",
       "      <td>338411.39</td>\n",
       "      <td>6.950013e+04</td>\n",
       "      <td>0.04757</td>\n",
       "      <td>4</td>\n",
       "      <td>OE</td>\n",
       "      <td>125421.90</td>\n",
       "    </tr>\n",
       "    <tr>\n",
       "      <th>682</th>\n",
       "      <td>2122</td>\n",
       "      <td>890</td>\n",
       "      <td>Federal Trust Fund</td>\n",
       "      <td>22001F</td>\n",
       "      <td>Aeronautics</td>\n",
       "      <td>1000</td>\n",
       "      <td>Aeronautics</td>\n",
       "      <td>370000</td>\n",
       "      <td>0.00</td>\n",
       "      <td>370000.00</td>\n",
       "      <td>0.000000e+00</td>\n",
       "      <td>0</td>\n",
       "      <td>4</td>\n",
       "      <td>OE</td>\n",
       "      <td>0.00</td>\n",
       "    </tr>\n",
       "    <tr>\n",
       "      <th>808</th>\n",
       "      <td>2122</td>\n",
       "      <td>41</td>\n",
       "      <td>Aeronautics Account STF</td>\n",
       "      <td>22001R</td>\n",
       "      <td>Aeronautics</td>\n",
       "      <td>1000</td>\n",
       "      <td>Aeronautics</td>\n",
       "      <td>0</td>\n",
       "      <td>4982.67</td>\n",
       "      <td>-4982.67</td>\n",
       "      <td>8.541720e+03</td>\n",
       "      <td>0%</td>\n",
       "      <td>7</td>\n",
       "      <td>OE</td>\n",
       "      <td>0.00</td>\n",
       "    </tr>\n",
       "    <tr>\n",
       "      <th>809</th>\n",
       "      <td>2122</td>\n",
       "      <td>41</td>\n",
       "      <td>Aeronautics Account STF</td>\n",
       "      <td>22001</td>\n",
       "      <td>Aeronautics</td>\n",
       "      <td>1000</td>\n",
       "      <td>Aeronautics</td>\n",
       "      <td>487000</td>\n",
       "      <td>81555.88</td>\n",
       "      <td>295318.06</td>\n",
       "      <td>1.398101e+05</td>\n",
       "      <td>0.167466</td>\n",
       "      <td>7</td>\n",
       "      <td>OE</td>\n",
       "      <td>110126.06</td>\n",
       "    </tr>\n",
       "    <tr>\n",
       "      <th>832</th>\n",
       "      <td>2122</td>\n",
       "      <td>890</td>\n",
       "      <td>Federal Trust Fund</td>\n",
       "      <td>22001F</td>\n",
       "      <td>Aeronautics</td>\n",
       "      <td>1000</td>\n",
       "      <td>Aeronautics</td>\n",
       "      <td>370000</td>\n",
       "      <td>3000.00</td>\n",
       "      <td>367000.00</td>\n",
       "      <td>5.142857e+03</td>\n",
       "      <td>0.008108</td>\n",
       "      <td>7</td>\n",
       "      <td>OE</td>\n",
       "      <td>0.00</td>\n",
       "    </tr>\n",
       "    <tr>\n",
       "      <th>1006</th>\n",
       "      <td>2122</td>\n",
       "      <td>41</td>\n",
       "      <td>Aeronautics Account STF</td>\n",
       "      <td>22001R</td>\n",
       "      <td>Aeronautics</td>\n",
       "      <td>1000</td>\n",
       "      <td>Aeronautics</td>\n",
       "      <td>0</td>\n",
       "      <td>13866.74</td>\n",
       "      <td>-13866.74</td>\n",
       "      <td>1.512735e+04</td>\n",
       "      <td>0%</td>\n",
       "      <td>11</td>\n",
       "      <td>OE</td>\n",
       "      <td>0.00</td>\n",
       "    </tr>\n",
       "    <tr>\n",
       "      <th>1007</th>\n",
       "      <td>2122</td>\n",
       "      <td>41</td>\n",
       "      <td>Aeronautics Account STF</td>\n",
       "      <td>22001</td>\n",
       "      <td>Aeronautics</td>\n",
       "      <td>1000</td>\n",
       "      <td>Aeronautics</td>\n",
       "      <td>487000</td>\n",
       "      <td>119766.31</td>\n",
       "      <td>256770.32</td>\n",
       "      <td>2.411175e+05</td>\n",
       "      <td>0.495108</td>\n",
       "      <td>11</td>\n",
       "      <td>OE</td>\n",
       "      <td>110463.37</td>\n",
       "    </tr>\n",
       "    <tr>\n",
       "      <th>1030</th>\n",
       "      <td>2122</td>\n",
       "      <td>890</td>\n",
       "      <td>Federal Trust Fund</td>\n",
       "      <td>22001F</td>\n",
       "      <td>Aeronautics</td>\n",
       "      <td>1000</td>\n",
       "      <td>Aeronautics</td>\n",
       "      <td>370000</td>\n",
       "      <td>3000.00</td>\n",
       "      <td>367000.00</td>\n",
       "      <td>3.272727e+03</td>\n",
       "      <td>0.008845</td>\n",
       "      <td>11</td>\n",
       "      <td>OE</td>\n",
       "      <td>0.00</td>\n",
       "    </tr>\n",
       "  </tbody>\n",
       "</table>\n",
       "</div>"
      ],
      "text/plain": [
       "      appr_catg  fund         fund_description    appr     division  \\\n",
       "133        2122    41  Aeronautics Account STF  22001R  Aeronautics   \n",
       "134        2122    41  Aeronautics Account STF   22001  Aeronautics   \n",
       "157        2122   890       Federal Trust Fund  22001F  Aeronautics   \n",
       "283        2122    41  Aeronautics Account STF  22001R  Aeronautics   \n",
       "284        2122    41  Aeronautics Account STF   22001  Aeronautics   \n",
       "307        2122   890       Federal Trust Fund  22001F  Aeronautics   \n",
       "481        2122    41  Aeronautics Account STF  22001R  Aeronautics   \n",
       "482        2122    41  Aeronautics Account STF   22001  Aeronautics   \n",
       "505        2122   890       Federal Trust Fund  22001F  Aeronautics   \n",
       "658        2122    41  Aeronautics Account STF  22001R  Aeronautics   \n",
       "659        2122    41  Aeronautics Account STF   22001  Aeronautics   \n",
       "682        2122   890       Federal Trust Fund  22001F  Aeronautics   \n",
       "808        2122    41  Aeronautics Account STF  22001R  Aeronautics   \n",
       "809        2122    41  Aeronautics Account STF   22001  Aeronautics   \n",
       "832        2122   890       Federal Trust Fund  22001F  Aeronautics   \n",
       "1006       2122    41  Aeronautics Account STF  22001R  Aeronautics   \n",
       "1007       2122    41  Aeronautics Account STF   22001  Aeronautics   \n",
       "1030       2122   890       Federal Trust Fund  22001F  Aeronautics   \n",
       "\n",
       "      pec_class pec_class_description  allocation     expense     balance  \\\n",
       "133        1000           Aeronautics       58000        0.00    58000.00   \n",
       "134        1000           Aeronautics     3620000  1024426.60  2595573.40   \n",
       "157        1000           Aeronautics       86000        0.00    86000.00   \n",
       "283        1000           Aeronautics       59000    11037.67    47962.33   \n",
       "284        1000           Aeronautics     3742000  1696346.27  2045653.73   \n",
       "307        1000           Aeronautics       89000        0.00    89000.00   \n",
       "481        1000           Aeronautics       59000    26017.94    32982.06   \n",
       "482        1000           Aeronautics     3742000  2668503.64  1073496.36   \n",
       "505        1000           Aeronautics       89000        0.00    89000.00   \n",
       "658        1000           Aeronautics           0        0.00        0.00   \n",
       "659        1000           Aeronautics      487000    23166.71   338411.39   \n",
       "682        1000           Aeronautics      370000        0.00   370000.00   \n",
       "808        1000           Aeronautics           0     4982.67    -4982.67   \n",
       "809        1000           Aeronautics      487000    81555.88   295318.06   \n",
       "832        1000           Aeronautics      370000     3000.00   367000.00   \n",
       "1006       1000           Aeronautics           0    13866.74   -13866.74   \n",
       "1007       1000           Aeronautics      487000   119766.31   256770.32   \n",
       "1030       1000           Aeronautics      370000     3000.00   367000.00   \n",
       "\n",
       "        projection %_expended  ap type  encumbrance  \n",
       "133   0.000000e+00          0   4   PS          NaN  \n",
       "134   3.073280e+06   0.282991   4   PS          NaN  \n",
       "157   0.000000e+00          0   4   PS          NaN  \n",
       "283   1.892172e+04   0.187079   7   PS          NaN  \n",
       "284   2.908022e+06   0.453326   7   PS          NaN  \n",
       "307   0.000000e+00          0   7   PS          NaN  \n",
       "481   2.838321e+04   0.440982  11   PS          NaN  \n",
       "482   2.911095e+06   0.713122  11   PS          NaN  \n",
       "505   0.000000e+00          0  11   PS          NaN  \n",
       "658   0.000000e+00         0%   4   OE         0.00  \n",
       "659   6.950013e+04    0.04757   4   OE    125421.90  \n",
       "682   0.000000e+00          0   4   OE         0.00  \n",
       "808   8.541720e+03         0%   7   OE         0.00  \n",
       "809   1.398101e+05   0.167466   7   OE    110126.06  \n",
       "832   5.142857e+03   0.008108   7   OE         0.00  \n",
       "1006  1.512735e+04         0%  11   OE         0.00  \n",
       "1007  2.411175e+05   0.495108  11   OE    110463.37  \n",
       "1030  3.272727e+03   0.008845  11   OE         0.00  "
      ]
     },
     "execution_count": 73,
     "metadata": {},
     "output_type": "execute_result"
    }
   ],
   "source": [
    "aero_og"
   ]
  },
  {
   "cell_type": "code",
   "execution_count": 74,
   "id": "f4954615-7abd-45eb-9451-d3ed269e8d46",
   "metadata": {
    "scrolled": true,
    "tags": []
   },
   "outputs": [],
   "source": [
    "aero_test = pose_test.loc[pose_test[\"division\"] == \"Aeronautics\"]"
   ]
  },
  {
   "cell_type": "code",
   "execution_count": 75,
   "id": "efc9b569-ebb9-4fb4-837d-05dfe66f8545",
   "metadata": {
    "scrolled": true,
    "tags": []
   },
   "outputs": [
    {
     "data": {
      "text/html": [
       "<div>\n",
       "<style scoped>\n",
       "    .dataframe tbody tr th:only-of-type {\n",
       "        vertical-align: middle;\n",
       "    }\n",
       "\n",
       "    .dataframe tbody tr th {\n",
       "        vertical-align: top;\n",
       "    }\n",
       "\n",
       "    .dataframe thead th {\n",
       "        text-align: right;\n",
       "    }\n",
       "</style>\n",
       "<table border=\"1\" class=\"dataframe\">\n",
       "  <thead>\n",
       "    <tr style=\"text-align: right;\">\n",
       "      <th></th>\n",
       "      <th>appr_catg</th>\n",
       "      <th>fund</th>\n",
       "      <th>fund_description</th>\n",
       "      <th>appropriation</th>\n",
       "      <th>division</th>\n",
       "      <th>pec_class</th>\n",
       "      <th>pec_class_description</th>\n",
       "      <th>allocation</th>\n",
       "      <th>expense</th>\n",
       "      <th>balance</th>\n",
       "      <th>projection</th>\n",
       "      <th>%_expended</th>\n",
       "      <th>ap</th>\n",
       "      <th>type</th>\n",
       "      <th>encumbrance</th>\n",
       "    </tr>\n",
       "  </thead>\n",
       "  <tbody>\n",
       "    <tr>\n",
       "      <th>6</th>\n",
       "      <td>2122</td>\n",
       "      <td>0041</td>\n",
       "      <td>Aeronautics Account STF</td>\n",
       "      <td>22001R</td>\n",
       "      <td>Aeronautics</td>\n",
       "      <td>1000</td>\n",
       "      <td>Aeronautics</td>\n",
       "      <td>58000</td>\n",
       "      <td>0</td>\n",
       "      <td>58000</td>\n",
       "      <td>0</td>\n",
       "      <td>0</td>\n",
       "      <td>1</td>\n",
       "      <td>ps</td>\n",
       "      <td>NaN</td>\n",
       "    </tr>\n",
       "    <tr>\n",
       "      <th>7</th>\n",
       "      <td>2122</td>\n",
       "      <td>0041</td>\n",
       "      <td>Aeronautics Account STF</td>\n",
       "      <td>22001</td>\n",
       "      <td>Aeronautics</td>\n",
       "      <td>1000</td>\n",
       "      <td>Aeronautics</td>\n",
       "      <td>3620000</td>\n",
       "      <td>1024426.6</td>\n",
       "      <td>2595573.4</td>\n",
       "      <td>3073279.8</td>\n",
       "      <td>0.282991</td>\n",
       "      <td>1</td>\n",
       "      <td>ps</td>\n",
       "      <td>NaN</td>\n",
       "    </tr>\n",
       "    <tr>\n",
       "      <th>31</th>\n",
       "      <td>2122</td>\n",
       "      <td>0890</td>\n",
       "      <td>Federal Trust Fund</td>\n",
       "      <td>22001F</td>\n",
       "      <td>Aeronautics</td>\n",
       "      <td>1000</td>\n",
       "      <td>Aeronautics</td>\n",
       "      <td>86000</td>\n",
       "      <td>0</td>\n",
       "      <td>86000</td>\n",
       "      <td>0</td>\n",
       "      <td>0</td>\n",
       "      <td>1</td>\n",
       "      <td>ps</td>\n",
       "      <td>NaN</td>\n",
       "    </tr>\n",
       "    <tr>\n",
       "      <th>57</th>\n",
       "      <td>2122</td>\n",
       "      <td>0041</td>\n",
       "      <td>Aeronautics Account STF</td>\n",
       "      <td>22001R</td>\n",
       "      <td>Aeronautics</td>\n",
       "      <td>1000</td>\n",
       "      <td>Aeronautics</td>\n",
       "      <td>59000</td>\n",
       "      <td>11037.67</td>\n",
       "      <td>47962.33</td>\n",
       "      <td>18921.72</td>\n",
       "      <td>0.187079</td>\n",
       "      <td>2</td>\n",
       "      <td>ps</td>\n",
       "      <td>NaN</td>\n",
       "    </tr>\n",
       "    <tr>\n",
       "      <th>58</th>\n",
       "      <td>2122</td>\n",
       "      <td>0041</td>\n",
       "      <td>Aeronautics Account STF</td>\n",
       "      <td>22001</td>\n",
       "      <td>Aeronautics</td>\n",
       "      <td>1000</td>\n",
       "      <td>Aeronautics</td>\n",
       "      <td>3742000</td>\n",
       "      <td>1696346.27</td>\n",
       "      <td>2045653.73</td>\n",
       "      <td>2908022.177143</td>\n",
       "      <td>0.453326</td>\n",
       "      <td>2</td>\n",
       "      <td>ps</td>\n",
       "      <td>NaN</td>\n",
       "    </tr>\n",
       "    <tr>\n",
       "      <th>83</th>\n",
       "      <td>2122</td>\n",
       "      <td>0890</td>\n",
       "      <td>Federal Trust Fund</td>\n",
       "      <td>22001F</td>\n",
       "      <td>Aeronautics</td>\n",
       "      <td>1000</td>\n",
       "      <td>Aeronautics</td>\n",
       "      <td>89000</td>\n",
       "      <td>0</td>\n",
       "      <td>89000</td>\n",
       "      <td>0</td>\n",
       "      <td>0</td>\n",
       "      <td>2</td>\n",
       "      <td>ps</td>\n",
       "      <td>NaN</td>\n",
       "    </tr>\n",
       "    <tr>\n",
       "      <th>107</th>\n",
       "      <td>2122</td>\n",
       "      <td>0041</td>\n",
       "      <td>Aeronautics Account STF</td>\n",
       "      <td>22001R</td>\n",
       "      <td>Aeronautics</td>\n",
       "      <td>1000</td>\n",
       "      <td>Aeronautics</td>\n",
       "      <td>59000</td>\n",
       "      <td>26017.94</td>\n",
       "      <td>32982.06</td>\n",
       "      <td>28383.207273</td>\n",
       "      <td>0.440982</td>\n",
       "      <td>3</td>\n",
       "      <td>ps</td>\n",
       "      <td>NaN</td>\n",
       "    </tr>\n",
       "    <tr>\n",
       "      <th>108</th>\n",
       "      <td>2122</td>\n",
       "      <td>0041</td>\n",
       "      <td>Aeronautics Account STF</td>\n",
       "      <td>22001</td>\n",
       "      <td>Aeronautics</td>\n",
       "      <td>1000</td>\n",
       "      <td>Aeronautics</td>\n",
       "      <td>3742000</td>\n",
       "      <td>2668503.64</td>\n",
       "      <td>1073496.36</td>\n",
       "      <td>2911094.88</td>\n",
       "      <td>0.713122</td>\n",
       "      <td>3</td>\n",
       "      <td>ps</td>\n",
       "      <td>NaN</td>\n",
       "    </tr>\n",
       "    <tr>\n",
       "      <th>131</th>\n",
       "      <td>2122</td>\n",
       "      <td>0890</td>\n",
       "      <td>Federal Trust Fund</td>\n",
       "      <td>22001F</td>\n",
       "      <td>Aeronautics</td>\n",
       "      <td>1000</td>\n",
       "      <td>Aeronautics</td>\n",
       "      <td>89000</td>\n",
       "      <td>0</td>\n",
       "      <td>89000</td>\n",
       "      <td>0</td>\n",
       "      <td>0</td>\n",
       "      <td>3</td>\n",
       "      <td>ps</td>\n",
       "      <td>NaN</td>\n",
       "    </tr>\n",
       "    <tr>\n",
       "      <th>6</th>\n",
       "      <td>2122</td>\n",
       "      <td>0041</td>\n",
       "      <td>Aeronautics Account STF</td>\n",
       "      <td>22001R</td>\n",
       "      <td>Aeronautics</td>\n",
       "      <td>1000</td>\n",
       "      <td>Aeronautics</td>\n",
       "      <td>0</td>\n",
       "      <td>0</td>\n",
       "      <td>0</td>\n",
       "      <td>0</td>\n",
       "      <td>0%</td>\n",
       "      <td>1</td>\n",
       "      <td>oe</td>\n",
       "      <td>0</td>\n",
       "    </tr>\n",
       "    <tr>\n",
       "      <th>7</th>\n",
       "      <td>2122</td>\n",
       "      <td>0041</td>\n",
       "      <td>Aeronautics Account STF</td>\n",
       "      <td>22001</td>\n",
       "      <td>Aeronautics</td>\n",
       "      <td>1000</td>\n",
       "      <td>Aeronautics</td>\n",
       "      <td>487000</td>\n",
       "      <td>23166.71</td>\n",
       "      <td>338411.39</td>\n",
       "      <td>69500.13</td>\n",
       "      <td>0.04757</td>\n",
       "      <td>1</td>\n",
       "      <td>oe</td>\n",
       "      <td>125421.9</td>\n",
       "    </tr>\n",
       "    <tr>\n",
       "      <th>31</th>\n",
       "      <td>2122</td>\n",
       "      <td>0890</td>\n",
       "      <td>Federal Trust Fund</td>\n",
       "      <td>22001F</td>\n",
       "      <td>Aeronautics</td>\n",
       "      <td>1000</td>\n",
       "      <td>Aeronautics</td>\n",
       "      <td>370000</td>\n",
       "      <td>0</td>\n",
       "      <td>370000</td>\n",
       "      <td>0</td>\n",
       "      <td>0</td>\n",
       "      <td>1</td>\n",
       "      <td>oe</td>\n",
       "      <td>0</td>\n",
       "    </tr>\n",
       "    <tr>\n",
       "      <th>57</th>\n",
       "      <td>2122</td>\n",
       "      <td>0041</td>\n",
       "      <td>Aeronautics Account STF</td>\n",
       "      <td>22001R</td>\n",
       "      <td>Aeronautics</td>\n",
       "      <td>1000</td>\n",
       "      <td>Aeronautics</td>\n",
       "      <td>0</td>\n",
       "      <td>4982.67</td>\n",
       "      <td>-4982.67</td>\n",
       "      <td>8541.72</td>\n",
       "      <td>0%</td>\n",
       "      <td>2</td>\n",
       "      <td>oe</td>\n",
       "      <td>0</td>\n",
       "    </tr>\n",
       "    <tr>\n",
       "      <th>58</th>\n",
       "      <td>2122</td>\n",
       "      <td>0041</td>\n",
       "      <td>Aeronautics Account STF</td>\n",
       "      <td>22001</td>\n",
       "      <td>Aeronautics</td>\n",
       "      <td>1000</td>\n",
       "      <td>Aeronautics</td>\n",
       "      <td>487000</td>\n",
       "      <td>81555.88</td>\n",
       "      <td>295318.06</td>\n",
       "      <td>139810.08</td>\n",
       "      <td>0.167466</td>\n",
       "      <td>2</td>\n",
       "      <td>oe</td>\n",
       "      <td>110126.06</td>\n",
       "    </tr>\n",
       "    <tr>\n",
       "      <th>83</th>\n",
       "      <td>2122</td>\n",
       "      <td>0890</td>\n",
       "      <td>Federal Trust Fund</td>\n",
       "      <td>22001F</td>\n",
       "      <td>Aeronautics</td>\n",
       "      <td>1000</td>\n",
       "      <td>Aeronautics</td>\n",
       "      <td>370000</td>\n",
       "      <td>3000</td>\n",
       "      <td>367000</td>\n",
       "      <td>5142.857143</td>\n",
       "      <td>0.008108</td>\n",
       "      <td>2</td>\n",
       "      <td>oe</td>\n",
       "      <td>0</td>\n",
       "    </tr>\n",
       "    <tr>\n",
       "      <th>107</th>\n",
       "      <td>2122</td>\n",
       "      <td>0041</td>\n",
       "      <td>Aeronautics Account STF</td>\n",
       "      <td>22001R</td>\n",
       "      <td>Aeronautics</td>\n",
       "      <td>1000</td>\n",
       "      <td>Aeronautics</td>\n",
       "      <td>0</td>\n",
       "      <td>13866.74</td>\n",
       "      <td>-13866.74</td>\n",
       "      <td>15127.352727</td>\n",
       "      <td>0%</td>\n",
       "      <td>3</td>\n",
       "      <td>oe</td>\n",
       "      <td>0</td>\n",
       "    </tr>\n",
       "    <tr>\n",
       "      <th>108</th>\n",
       "      <td>2122</td>\n",
       "      <td>0041</td>\n",
       "      <td>Aeronautics Account STF</td>\n",
       "      <td>22001</td>\n",
       "      <td>Aeronautics</td>\n",
       "      <td>1000</td>\n",
       "      <td>Aeronautics</td>\n",
       "      <td>487000</td>\n",
       "      <td>119766.31</td>\n",
       "      <td>256770.32</td>\n",
       "      <td>241117.526364</td>\n",
       "      <td>0.495108</td>\n",
       "      <td>3</td>\n",
       "      <td>oe</td>\n",
       "      <td>110463.37</td>\n",
       "    </tr>\n",
       "    <tr>\n",
       "      <th>131</th>\n",
       "      <td>2122</td>\n",
       "      <td>0890</td>\n",
       "      <td>Federal Trust Fund</td>\n",
       "      <td>22001F</td>\n",
       "      <td>Aeronautics</td>\n",
       "      <td>1000</td>\n",
       "      <td>Aeronautics</td>\n",
       "      <td>370000</td>\n",
       "      <td>3000</td>\n",
       "      <td>367000</td>\n",
       "      <td>3272.727273</td>\n",
       "      <td>0.008845</td>\n",
       "      <td>3</td>\n",
       "      <td>oe</td>\n",
       "      <td>0</td>\n",
       "    </tr>\n",
       "  </tbody>\n",
       "</table>\n",
       "</div>"
      ],
      "text/plain": [
       "0   appr_catg  fund         fund_description appropriation     division  \\\n",
       "6        2122  0041  Aeronautics Account STF        22001R  Aeronautics   \n",
       "7        2122  0041  Aeronautics Account STF         22001  Aeronautics   \n",
       "31       2122  0890       Federal Trust Fund        22001F  Aeronautics   \n",
       "57       2122  0041  Aeronautics Account STF        22001R  Aeronautics   \n",
       "58       2122  0041  Aeronautics Account STF         22001  Aeronautics   \n",
       "83       2122  0890       Federal Trust Fund        22001F  Aeronautics   \n",
       "107      2122  0041  Aeronautics Account STF        22001R  Aeronautics   \n",
       "108      2122  0041  Aeronautics Account STF         22001  Aeronautics   \n",
       "131      2122  0890       Federal Trust Fund        22001F  Aeronautics   \n",
       "6        2122  0041  Aeronautics Account STF        22001R  Aeronautics   \n",
       "7        2122  0041  Aeronautics Account STF         22001  Aeronautics   \n",
       "31       2122  0890       Federal Trust Fund        22001F  Aeronautics   \n",
       "57       2122  0041  Aeronautics Account STF        22001R  Aeronautics   \n",
       "58       2122  0041  Aeronautics Account STF         22001  Aeronautics   \n",
       "83       2122  0890       Federal Trust Fund        22001F  Aeronautics   \n",
       "107      2122  0041  Aeronautics Account STF        22001R  Aeronautics   \n",
       "108      2122  0041  Aeronautics Account STF         22001  Aeronautics   \n",
       "131      2122  0890       Federal Trust Fund        22001F  Aeronautics   \n",
       "\n",
       "0   pec_class pec_class_description allocation     expense     balance  \\\n",
       "6        1000           Aeronautics      58000           0       58000   \n",
       "7        1000           Aeronautics    3620000   1024426.6   2595573.4   \n",
       "31       1000           Aeronautics      86000           0       86000   \n",
       "57       1000           Aeronautics      59000    11037.67    47962.33   \n",
       "58       1000           Aeronautics    3742000  1696346.27  2045653.73   \n",
       "83       1000           Aeronautics      89000           0       89000   \n",
       "107      1000           Aeronautics      59000    26017.94    32982.06   \n",
       "108      1000           Aeronautics    3742000  2668503.64  1073496.36   \n",
       "131      1000           Aeronautics      89000           0       89000   \n",
       "6        1000           Aeronautics          0           0           0   \n",
       "7        1000           Aeronautics     487000    23166.71   338411.39   \n",
       "31       1000           Aeronautics     370000           0      370000   \n",
       "57       1000           Aeronautics          0     4982.67    -4982.67   \n",
       "58       1000           Aeronautics     487000    81555.88   295318.06   \n",
       "83       1000           Aeronautics     370000        3000      367000   \n",
       "107      1000           Aeronautics          0    13866.74   -13866.74   \n",
       "108      1000           Aeronautics     487000   119766.31   256770.32   \n",
       "131      1000           Aeronautics     370000        3000      367000   \n",
       "\n",
       "0        projection %_expended  ap type encumbrance  \n",
       "6                 0          0   1   ps         NaN  \n",
       "7         3073279.8   0.282991   1   ps         NaN  \n",
       "31                0          0   1   ps         NaN  \n",
       "57         18921.72   0.187079   2   ps         NaN  \n",
       "58   2908022.177143   0.453326   2   ps         NaN  \n",
       "83                0          0   2   ps         NaN  \n",
       "107    28383.207273   0.440982   3   ps         NaN  \n",
       "108      2911094.88   0.713122   3   ps         NaN  \n",
       "131               0          0   3   ps         NaN  \n",
       "6                 0         0%   1   oe           0  \n",
       "7          69500.13    0.04757   1   oe    125421.9  \n",
       "31                0          0   1   oe           0  \n",
       "57          8541.72         0%   2   oe           0  \n",
       "58        139810.08   0.167466   2   oe   110126.06  \n",
       "83      5142.857143   0.008108   2   oe           0  \n",
       "107    15127.352727         0%   3   oe           0  \n",
       "108   241117.526364   0.495108   3   oe   110463.37  \n",
       "131     3272.727273   0.008845   3   oe           0  "
      ]
     },
     "execution_count": 75,
     "metadata": {},
     "output_type": "execute_result"
    }
   ],
   "source": [
    "aero_test"
   ]
  },
  {
   "cell_type": "code",
   "execution_count": 76,
   "id": "2770bd93-851c-4e66-b930-403c424186ac",
   "metadata": {},
   "outputs": [],
   "source": [
    "# aero_test"
   ]
  },
  {
   "cell_type": "code",
   "execution_count": 77,
   "id": "7429e14d-74ea-40ce-9f43-3ca9863e7916",
   "metadata": {},
   "outputs": [],
   "source": [
    "test = set(pose_test.appropriation.unique().tolist())\n",
    "actual = set(psoe_df.appr.unique().tolist())"
   ]
  },
  {
   "cell_type": "code",
   "execution_count": 78,
   "id": "14df8914-6dd9-4731-aedf-c7def45543d2",
   "metadata": {},
   "outputs": [
    {
     "data": {
      "text/plain": [
       "set()"
      ]
     },
     "execution_count": 78,
     "metadata": {},
     "output_type": "execute_result"
    }
   ],
   "source": [
    "test - actual"
   ]
  },
  {
   "cell_type": "code",
   "execution_count": 79,
   "id": "cf3f1df1-7ef1-4c14-8c5c-118ef1486940",
   "metadata": {},
   "outputs": [
    {
     "data": {
      "text/plain": [
       "set()"
      ]
     },
     "execution_count": 79,
     "metadata": {},
     "output_type": "execute_result"
    }
   ],
   "source": [
    "actual - test"
   ]
  },
  {
   "cell_type": "code",
   "execution_count": 80,
   "id": "182495fc-c809-4a40-a0c4-4c20602e16b3",
   "metadata": {},
   "outputs": [],
   "source": [
    "cols_to_check = [\"expense\", \"balance\", \"projection\", \"encumbrance\"]"
   ]
  },
  {
   "cell_type": "code",
   "execution_count": 81,
   "id": "febbe859-e140-40c5-8a3e-6584e48dd35b",
   "metadata": {},
   "outputs": [
    {
     "name": "stdout",
     "output_type": "stream",
     "text": [
      "\n",
      "expense\n",
      "5675670.43\n",
      "5675670.430000002\n",
      "\n",
      "balance\n",
      "8093318.239999999\n",
      "8093318.24\n",
      "\n",
      "projection\n",
      "9422214.17792208\n",
      "9422214.177922077\n",
      "\n",
      "encumbrance\n",
      "346011.32999999996\n",
      "346011.32999999996\n"
     ]
    }
   ],
   "source": [
    "for i in cols_to_check:\n",
    "    print(\"\\n\" + i)\n",
    "    print(aero_test[i].sum())\n",
    "    print(aero_og[i].sum())"
   ]
  }
 ],
 "metadata": {
  "kernelspec": {
   "display_name": "Python 3 (ipykernel)",
   "language": "python",
   "name": "python3"
  },
  "language_info": {
   "codemirror_mode": {
    "name": "ipython",
    "version": 3
   },
   "file_extension": ".py",
   "mimetype": "text/x-python",
   "name": "python",
   "nbconvert_exporter": "python",
   "pygments_lexer": "ipython3",
   "version": "3.10.4"
  }
 },
 "nbformat": 4,
 "nbformat_minor": 5
}
