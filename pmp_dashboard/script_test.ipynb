{
 "cells": [
  {
   "cell_type": "markdown",
   "id": "e009586a-a399-4b77-b649-0a2935b8df31",
   "metadata": {},
   "source": [
    "# Automate the Excel workbook linked to PMP Dashboard"
   ]
  },
  {
   "cell_type": "code",
   "execution_count": 1,
   "id": "fcb68152-f948-42ec-8f41-defb0755c9e2",
   "metadata": {},
   "outputs": [
    {
     "name": "stderr",
     "output_type": "stream",
     "text": [
      "/opt/conda/lib/python3.10/site-packages/geopandas/_compat.py:111: UserWarning: The Shapely GEOS version (3.10.2-CAPI-1.16.0) is incompatible with the GEOS version PyGEOS was compiled with (3.10.1-CAPI-1.16.0). Conversions between both will be slow.\n",
      "  warnings.warn(\n"
     ]
    }
   ],
   "source": [
    "import geopandas as gpd\n",
    "import numpy as np\n",
    "import pandas as pd\n",
    "from calitp import *\n",
    "from shared_utils import utils\n",
    "\n",
    "# Formatting the nb\n",
    "pd.options.display.max_columns = 100\n",
    "pd.set_option(\"display.max_rows\", None)\n",
    "pd.set_option(\"display.max_colwidth\", None)"
   ]
  },
  {
   "cell_type": "code",
   "execution_count": 2,
   "id": "687473de-a2ef-4ffd-89ad-dc0e2f502084",
   "metadata": {},
   "outputs": [],
   "source": [
    "GCS_FILE_PATH = \"gs://calitp-analytics-data/data-analyses/pmp_dashboard/\""
   ]
  },
  {
   "cell_type": "markdown",
   "id": "fb7b7136-cef9-446d-b1b0-0d3f7ec35207",
   "metadata": {},
   "source": [
    "## Load in data\n",
    "### Load manually cleaned df so I can reference "
   ]
  },
  {
   "cell_type": "code",
   "execution_count": 3,
   "id": "b1b3f223-16e9-4a86-922f-15e0c5ad69c9",
   "metadata": {},
   "outputs": [],
   "source": [
    "# DF that William manipulated\n",
    "FILE_NAME_1 = \"PMP Summary Report Data.xlsx\""
   ]
  },
  {
   "cell_type": "code",
   "execution_count": 4,
   "id": "c6a9c0b7-95b6-472d-ab6a-7811c43b4308",
   "metadata": {},
   "outputs": [],
   "source": [
    "# Sheets in William's notebook that I want\n",
    "sheets_list = [\"Fund by Division Data\", \"TPSOE Data\", \"Timeline Data\", \"PSOE Timeline\"]"
   ]
  },
  {
   "cell_type": "code",
   "execution_count": 5,
   "id": "ef13c9af-1d04-4dd6-b0b8-07370f75bb00",
   "metadata": {},
   "outputs": [],
   "source": [
    "dict_df1 = pd.read_excel(f\"{GCS_FILE_PATH}{FILE_NAME_1}\", sheet_name=sheets_list)"
   ]
  },
  {
   "cell_type": "code",
   "execution_count": 6,
   "id": "8a4154f7-cfc0-4a01-866d-adbcbc193879",
   "metadata": {},
   "outputs": [],
   "source": [
    "division_df = to_snakecase(dict_df1.get(\"Fund by Division Data\"))\n",
    "tpsoe_df = to_snakecase(dict_df1.get(\"TPSOE Data\"))\n",
    "timeline_df = to_snakecase(dict_df1.get(\"Timeline Data\"))\n",
    "psoe_df = to_snakecase(dict_df1.get(\"PSOE Timeline\"))"
   ]
  },
  {
   "cell_type": "markdown",
   "id": "a9a0f20a-2008-4430-bfb4-a89412740ca1",
   "metadata": {},
   "source": [
    "### Load in & clean data for each accounting period"
   ]
  },
  {
   "cell_type": "code",
   "execution_count": 7,
   "id": "c0b316fe-703d-4107-a420-bd4eedb6a26e",
   "metadata": {},
   "outputs": [],
   "source": [
    "div_crosswalks = {\n",
    "    \"State & Fed Mass Trans\": \"DRMT\",\n",
    "    \"Statewide Planning\": \"DOTP\",\n",
    "    \"Research\": \"DRISI\",\n",
    "    \"PSR/PSSR Development\": \"DOTP\",\n",
    "    \"Rail\": \"DRMT\",\n",
    "    \"Planning Administration\": \"DOTP\",\n",
    "    \"Regional Planning\": \"DOTP\",\n",
    "}"
   ]
  },
  {
   "cell_type": "code",
   "execution_count": 8,
   "id": "d0bfe101-70ca-4944-b6ed-1ed1c46a541e",
   "metadata": {},
   "outputs": [],
   "source": [
    "\"\"\"\n",
    "Each time I receive new data for each accounting period and \n",
    "load data into function import_raw_data, the dataframe will be \n",
    "appended onto this list\n",
    "\"\"\"\n",
    "my_clean_dataframes = []"
   ]
  },
  {
   "cell_type": "code",
   "execution_count": 9,
   "id": "3c9bcbb2-2ab1-4627-b947-d6bd0d6a5660",
   "metadata": {},
   "outputs": [],
   "source": [
    "unwanted_appropriations = [\"1850522\", \"22102\", \"22105\"]"
   ]
  },
  {
   "cell_type": "code",
   "execution_count": 10,
   "id": "0ee7dcdd-3957-45bc-8209-0119b3dd0520",
   "metadata": {},
   "outputs": [],
   "source": [
    "def import_raw_data(file_name: str, name_of_sheet: str, appropriations_to_filter: list):\n",
    "\n",
    "    \"\"\"\n",
    "    Name_of_sheet: name of Excel tab that contains data\n",
    "    Appropriations_to_filter: certain appropriations are filtered out\n",
    "    but this is subject to change. A list of what to filter allows for\n",
    "    flexibility.\n",
    "    \"\"\"\n",
    "    df = pd.read_excel(f\"{GCS_FILE_PATH}{file_name}\", sheet_name=name_of_sheet)\n",
    "\n",
    "    # Get rid of the unnecessary header info\n",
    "    # Stuff like \"Enterprise Datalink Production download as of 05/23/2022\"\n",
    "    df = df.iloc[13:].reset_index(drop=True)\n",
    "\n",
    "    # The first row contains column names\n",
    "    df.columns = df.iloc[0]\n",
    "\n",
    "    # Drop the first row as they are now column names\n",
    "    df = df.drop(df.index[0]).reset_index(drop=True)\n",
    "\n",
    "    # Drop rows with NA in the certain cols,\n",
    "    # Since those are probably the grand totals tagged at the end of the Excel sheet\n",
    "    df = df.dropna(subset=[\"PEC Class\"])\n",
    "\n",
    "    # Snakecase\n",
    "    df = to_snakecase(df)\n",
    "\n",
    "    # Rename columns to mimc dashboard\n",
    "    df = df.rename(\n",
    "        columns={\n",
    "            \"ps_alloc\": \"ps_allocation\",\n",
    "            \"ps_exp\": \"ps_expenditure\",\n",
    "            \"ps_bal\": \"ps_balance\",\n",
    "            \"total_projected_%\": \"total_%_expended\",\n",
    "            \"oe_alloc\": \"oe_allocation\",\n",
    "            \"oe_enc\": \"oe_encumbrance\",\n",
    "            \"oe_exp\": \"oe_expenditure\",\n",
    "            \"appr\": \"appropriation\",\n",
    "            \"total_expended___encumbrance\": \"total_expenditure\",\n",
    "            \"oe_bal_excl_pre_enc\": \"oe_balance\",\n",
    "            \"oe__enc_+_oe_exp_projection\": \"oe_enc_+_oe_exp_projection\",\n",
    "        }\n",
    "    )\n",
    "\n",
    "    # Certain appropriation(s) are filtered out:\n",
    "    df = df[~df.appropriation.isin(appropriations_to_filter)]\n",
    "\n",
    "    # Narrow down division names\n",
    "    df[\"division\"] = df[\"pec_class_description\"].replace(div_crosswalks)\n",
    "\n",
    "    # Adding dataframe to an empty list\n",
    "    my_clean_dataframes.append(df)\n",
    "\n",
    "    return df"
   ]
  },
  {
   "cell_type": "code",
   "execution_count": 11,
   "id": "b4e26117-e0bb-48ef-8aef-cff64524910b",
   "metadata": {},
   "outputs": [],
   "source": [
    "ap4 = import_raw_data(\"AP4.xls\", \"Download\", unwanted_appropriations)"
   ]
  },
  {
   "cell_type": "code",
   "execution_count": 12,
   "id": "0941189b-a97e-4539-8d90-99a44e88ea8c",
   "metadata": {},
   "outputs": [],
   "source": [
    "ap7 = import_raw_data(\"AP7.xls\", \"Download\", unwanted_appropriations)"
   ]
  },
  {
   "cell_type": "code",
   "execution_count": 13,
   "id": "3a3a18da-5c34-444a-9008-36f973eee3ac",
   "metadata": {},
   "outputs": [],
   "source": [
    "ap11 = import_raw_data(\n",
    "    \"FY 2122 AP11_Closed_PMP Summary Report.022822_Updated.xlsx\",\n",
    "    \"Raw Data AP11 Closed\",\n",
    "    unwanted_appropriations,\n",
    ")"
   ]
  },
  {
   "cell_type": "code",
   "execution_count": 14,
   "id": "e84dfbcf-38e6-47f9-b3f4-b3143b1e3901",
   "metadata": {},
   "outputs": [
    {
     "data": {
      "text/html": [
       "<div>\n",
       "<style scoped>\n",
       "    .dataframe tbody tr th:only-of-type {\n",
       "        vertical-align: middle;\n",
       "    }\n",
       "\n",
       "    .dataframe tbody tr th {\n",
       "        vertical-align: top;\n",
       "    }\n",
       "\n",
       "    .dataframe thead th {\n",
       "        text-align: right;\n",
       "    }\n",
       "</style>\n",
       "<table border=\"1\" class=\"dataframe\">\n",
       "  <thead>\n",
       "    <tr style=\"text-align: right;\">\n",
       "      <th></th>\n",
       "      <th>appr_catg</th>\n",
       "      <th>fund</th>\n",
       "      <th>fund_description</th>\n",
       "      <th>appropriation</th>\n",
       "      <th>pec_class</th>\n",
       "      <th>pec_class_description</th>\n",
       "      <th>ps_allocation</th>\n",
       "      <th>ps_expenditure</th>\n",
       "      <th>ps_balance</th>\n",
       "      <th>ps_projection</th>\n",
       "      <th>ps_%_expended</th>\n",
       "      <th>py_pos_alloc</th>\n",
       "      <th>act__hours</th>\n",
       "      <th>oe_allocation</th>\n",
       "      <th>oe_encumbrance</th>\n",
       "      <th>oe_expenditure</th>\n",
       "      <th>oe_balance</th>\n",
       "      <th>oe_projection</th>\n",
       "      <th>oe_%_expended</th>\n",
       "      <th>total_allocation</th>\n",
       "      <th>total_expenditure</th>\n",
       "      <th>total_balance</th>\n",
       "      <th>total_projection</th>\n",
       "      <th>total_%_expended</th>\n",
       "      <th>ap</th>\n",
       "      <th>division</th>\n",
       "    </tr>\n",
       "  </thead>\n",
       "  <tbody>\n",
       "    <tr>\n",
       "      <th>0</th>\n",
       "      <td>2122</td>\n",
       "      <td>0001</td>\n",
       "      <td>General Fund</td>\n",
       "      <td>22002</td>\n",
       "      <td>2030</td>\n",
       "      <td>Local Assistance</td>\n",
       "      <td>1500000</td>\n",
       "      <td>0</td>\n",
       "      <td>1500000</td>\n",
       "      <td>0</td>\n",
       "      <td>0</td>\n",
       "      <td>0</td>\n",
       "      <td>0</td>\n",
       "      <td>0</td>\n",
       "      <td>0</td>\n",
       "      <td>0</td>\n",
       "      <td>0</td>\n",
       "      <td>0</td>\n",
       "      <td>0%</td>\n",
       "      <td>1500000</td>\n",
       "      <td>0</td>\n",
       "      <td>1500000</td>\n",
       "      <td>0</td>\n",
       "      <td>0</td>\n",
       "      <td>7</td>\n",
       "      <td>Local Assistance</td>\n",
       "    </tr>\n",
       "    <tr>\n",
       "      <th>1</th>\n",
       "      <td>2122</td>\n",
       "      <td>0001</td>\n",
       "      <td>General Fund</td>\n",
       "      <td>22030</td>\n",
       "      <td>2030</td>\n",
       "      <td>Local Assistance</td>\n",
       "      <td>4001000</td>\n",
       "      <td>448244.24</td>\n",
       "      <td>3552755.76</td>\n",
       "      <td>768418.697143</td>\n",
       "      <td>0.112033</td>\n",
       "      <td>0</td>\n",
       "      <td>4746</td>\n",
       "      <td>237000</td>\n",
       "      <td>9857.31</td>\n",
       "      <td>152.84</td>\n",
       "      <td>226989.85</td>\n",
       "      <td>262.011429</td>\n",
       "      <td>0.000645</td>\n",
       "      <td>4238000</td>\n",
       "      <td>458254.39</td>\n",
       "      <td>3779745.61</td>\n",
       "      <td>768680.708571</td>\n",
       "      <td>0.10813</td>\n",
       "      <td>7</td>\n",
       "      <td>Local Assistance</td>\n",
       "    </tr>\n",
       "  </tbody>\n",
       "</table>\n",
       "</div>"
      ],
      "text/plain": [
       "0 appr_catg  fund fund_description appropriation pec_class  \\\n",
       "0      2122  0001     General Fund         22002      2030   \n",
       "1      2122  0001     General Fund         22030      2030   \n",
       "\n",
       "0 pec_class_description ps_allocation ps_expenditure  ps_balance  \\\n",
       "0      Local Assistance       1500000              0     1500000   \n",
       "1      Local Assistance       4001000      448244.24  3552755.76   \n",
       "\n",
       "0  ps_projection ps_%_expended py_pos_alloc act__hours oe_allocation  \\\n",
       "0              0             0            0          0             0   \n",
       "1  768418.697143      0.112033            0       4746        237000   \n",
       "\n",
       "0 oe_encumbrance oe_expenditure oe_balance oe_projection oe_%_expended  \\\n",
       "0              0              0          0             0            0%   \n",
       "1        9857.31         152.84  226989.85    262.011429      0.000645   \n",
       "\n",
       "0 total_allocation total_expenditure total_balance total_projection  \\\n",
       "0          1500000                 0       1500000                0   \n",
       "1          4238000         458254.39    3779745.61    768680.708571   \n",
       "\n",
       "0 total_%_expended ap          division  \n",
       "0                0  7  Local Assistance  \n",
       "1          0.10813  7  Local Assistance  "
      ]
     },
     "execution_count": 14,
     "metadata": {},
     "output_type": "execute_result"
    }
   ],
   "source": [
    "ap7.head(2)"
   ]
  },
  {
   "cell_type": "code",
   "execution_count": 15,
   "id": "decc5fc2-53a0-4641-ae52-3cdb94f46897",
   "metadata": {},
   "outputs": [
    {
     "data": {
      "text/plain": [
       "43522270.84000003"
      ]
     },
     "execution_count": 15,
     "metadata": {},
     "output_type": "execute_result"
    }
   ],
   "source": [
    "ap7[\"total_balance\"].sum()"
   ]
  },
  {
   "cell_type": "code",
   "execution_count": 16,
   "id": "3f3782df-2f31-43e0-8049-2dba00293297",
   "metadata": {},
   "outputs": [
    {
     "data": {
      "text/plain": [
       "196907374.42000002"
      ]
     },
     "execution_count": 16,
     "metadata": {},
     "output_type": "execute_result"
    }
   ],
   "source": [
    "ap4[\"total_balance\"].sum()"
   ]
  },
  {
   "cell_type": "code",
   "execution_count": 17,
   "id": "860c63a6-06a4-4c00-b7c7-a0a89492fe04",
   "metadata": {},
   "outputs": [
    {
     "data": {
      "text/plain": [
       "array(['22002', '22030', '22001R', '22001', '22008', '22102F', '22001F',\n",
       "       '22004'], dtype=object)"
      ]
     },
     "execution_count": 17,
     "metadata": {},
     "output_type": "execute_result"
    }
   ],
   "source": [
    "ap4[\"appropriation\"].unique()"
   ]
  },
  {
   "cell_type": "code",
   "execution_count": 18,
   "id": "64115714-f0d8-4e7b-b6dc-652d12aeab57",
   "metadata": {},
   "outputs": [
    {
     "data": {
      "text/plain": [
       "array(['22002', '22030', '22001R', '22001', '22008', '22102F', '22001F',\n",
       "       '22004'], dtype=object)"
      ]
     },
     "execution_count": 18,
     "metadata": {},
     "output_type": "execute_result"
    }
   ],
   "source": [
    "ap7[\"appropriation\"].unique()"
   ]
  },
  {
   "cell_type": "code",
   "execution_count": 19,
   "id": "b10fa41d-4daf-48e0-a883-a3121c54386a",
   "metadata": {
    "scrolled": true,
    "tags": []
   },
   "outputs": [],
   "source": [
    "# ap12[['fund','appropriation','pec_class','ps_allocation']].sort_values(['ps_allocation',])"
   ]
  },
  {
   "cell_type": "code",
   "execution_count": 20,
   "id": "f69c1a82-2824-43ed-914e-874f4ceeb4f9",
   "metadata": {},
   "outputs": [
    {
     "data": {
      "text/plain": [
       "3"
      ]
     },
     "execution_count": 20,
     "metadata": {},
     "output_type": "execute_result"
    }
   ],
   "source": [
    "len(my_clean_dataframes)"
   ]
  },
  {
   "cell_type": "markdown",
   "id": "b891fd53-12d1-4271-a804-8e35e1789577",
   "metadata": {},
   "source": [
    "## Fund by Division Data\n",
    "* Attempt to mimic William's processed sheet called \"division df\"\n",
    "* This dataframe is AP 11 with some stuff filtered"
   ]
  },
  {
   "cell_type": "code",
   "execution_count": 21,
   "id": "765b63de-c309-45f2-a228-57b339c07e4d",
   "metadata": {},
   "outputs": [],
   "source": [
    "def create_fund_by_division(df):\n",
    "    # Drop excluded cols\n",
    "    excluded_cols = [\"appr_catg\", \"act__hours\", \"py_pos_alloc\"]\n",
    "    df = ap11.drop(columns=excluded_cols)\n",
    "\n",
    "    # Add a blank column for notes\n",
    "    df[\"notes\"] = np.nan\n",
    "\n",
    "    return df"
   ]
  },
  {
   "cell_type": "code",
   "execution_count": 22,
   "id": "bd956c1a-fc26-4c52-b491-ef3138223748",
   "metadata": {},
   "outputs": [],
   "source": [
    "# Start of script\n",
    "# Drop excluded cols\n",
    "excluded_cols = [\"appr_catg\", \"act__hours\", \"py_pos_alloc\"]\n",
    "division_test = ap11.drop(columns=excluded_cols)"
   ]
  },
  {
   "cell_type": "code",
   "execution_count": 23,
   "id": "6ba5993a-297c-43b6-94a0-dbc9296af901",
   "metadata": {},
   "outputs": [],
   "source": [
    "# Add a blank column for notes\n",
    "division_test[\"notes\"] = np.nan"
   ]
  },
  {
   "cell_type": "code",
   "execution_count": null,
   "id": "3ec89d17-9ccb-4808-bc91-d6670ba7713b",
   "metadata": {},
   "outputs": [],
   "source": []
  },
  {
   "cell_type": "markdown",
   "id": "3a293508-feb9-40e8-8a3f-c989bab9ba6f",
   "metadata": {},
   "source": [
    "### Double checking: William's vs mine"
   ]
  },
  {
   "cell_type": "code",
   "execution_count": 24,
   "id": "0c7b20fb-7f32-412b-9931-2c5ef28029e3",
   "metadata": {},
   "outputs": [],
   "source": [
    "test = set(division_test.appropriation.unique().tolist())\n",
    "actual = set(division_df.appropriation.unique().tolist())"
   ]
  },
  {
   "cell_type": "code",
   "execution_count": 25,
   "id": "4cf6dc76-b9d6-4f40-b1c9-0e2d36787e95",
   "metadata": {},
   "outputs": [
    {
     "data": {
      "text/plain": [
       "set()"
      ]
     },
     "execution_count": 25,
     "metadata": {},
     "output_type": "execute_result"
    }
   ],
   "source": [
    "actual - test"
   ]
  },
  {
   "cell_type": "code",
   "execution_count": 26,
   "id": "d243147b-d7fd-483f-82fc-18d32692f043",
   "metadata": {},
   "outputs": [
    {
     "data": {
      "text/plain": [
       "set()"
      ]
     },
     "execution_count": 26,
     "metadata": {},
     "output_type": "execute_result"
    }
   ],
   "source": [
    "test - actual"
   ]
  },
  {
   "cell_type": "code",
   "execution_count": 27,
   "id": "c296c184-ca83-44c3-89ee-19732b18c9a4",
   "metadata": {
    "scrolled": true,
    "tags": []
   },
   "outputs": [],
   "source": [
    "# division_test[['appropriation','ps_allocation']].sort_values(['appropriation', 'ps_allocation'])"
   ]
  },
  {
   "cell_type": "code",
   "execution_count": 28,
   "id": "d00b2cc5-f552-414c-8220-d13ba2a3ad6d",
   "metadata": {
    "scrolled": true,
    "tags": []
   },
   "outputs": [],
   "source": [
    "# division_df[['appropriation','ps_allocation']].sort_values(['appropriation', 'ps_allocation'])"
   ]
  },
  {
   "cell_type": "code",
   "execution_count": 29,
   "id": "7e54f52f-f60a-401b-9185-da1705b71478",
   "metadata": {},
   "outputs": [
    {
     "data": {
      "text/html": [
       "<div>\n",
       "<style scoped>\n",
       "    .dataframe tbody tr th:only-of-type {\n",
       "        vertical-align: middle;\n",
       "    }\n",
       "\n",
       "    .dataframe tbody tr th {\n",
       "        vertical-align: top;\n",
       "    }\n",
       "\n",
       "    .dataframe thead th {\n",
       "        text-align: right;\n",
       "    }\n",
       "</style>\n",
       "<table border=\"1\" class=\"dataframe\">\n",
       "  <thead>\n",
       "    <tr style=\"text-align: right;\">\n",
       "      <th></th>\n",
       "      <th>pec_class</th>\n",
       "      <th>division</th>\n",
       "      <th>fund</th>\n",
       "      <th>fund_description</th>\n",
       "      <th>appropriation</th>\n",
       "      <th>ps_allocation</th>\n",
       "      <th>ps_expenditure</th>\n",
       "      <th>ps_balance</th>\n",
       "      <th>ps_projection</th>\n",
       "      <th>year_end_expendded_pace</th>\n",
       "      <th>ps_%_expended</th>\n",
       "      <th>oe_allocation</th>\n",
       "      <th>oe_encumbrance</th>\n",
       "      <th>oe_expenditure</th>\n",
       "      <th>oe_balance</th>\n",
       "      <th>oe_enc_+_oe_exp_projection</th>\n",
       "      <th>oe_%_expended</th>\n",
       "      <th>total_allocation</th>\n",
       "      <th>total_expenditure</th>\n",
       "      <th>total_balance</th>\n",
       "      <th>total_projection</th>\n",
       "      <th>total_%_expended</th>\n",
       "      <th>notes</th>\n",
       "    </tr>\n",
       "  </thead>\n",
       "  <tbody>\n",
       "    <tr>\n",
       "      <th>3</th>\n",
       "      <td>2030</td>\n",
       "      <td>Local Assistance</td>\n",
       "      <td>1</td>\n",
       "      <td>General Fund</td>\n",
       "      <td>22030</td>\n",
       "      <td>2625000</td>\n",
       "      <td>1265708.14</td>\n",
       "      <td>1359291.86</td>\n",
       "      <td>1.380773e+06</td>\n",
       "      <td>0.526009</td>\n",
       "      <td>0.482175</td>\n",
       "      <td>27000</td>\n",
       "      <td>1593.74</td>\n",
       "      <td>10119.4</td>\n",
       "      <td>15286.86</td>\n",
       "      <td>12633.085455</td>\n",
       "      <td>0.467892</td>\n",
       "      <td>2652000</td>\n",
       "      <td>1277421.28</td>\n",
       "      <td>1374578.72</td>\n",
       "      <td>1.393406e+06</td>\n",
       "      <td>0.481682</td>\n",
       "      <td>NaN</td>\n",
       "    </tr>\n",
       "    <tr>\n",
       "      <th>14</th>\n",
       "      <td>2041</td>\n",
       "      <td>DRISI</td>\n",
       "      <td>1</td>\n",
       "      <td>General Fund</td>\n",
       "      <td>22030</td>\n",
       "      <td>0</td>\n",
       "      <td>0.00</td>\n",
       "      <td>0.00</td>\n",
       "      <td>0.000000e+00</td>\n",
       "      <td>0.000000</td>\n",
       "      <td>0.000000</td>\n",
       "      <td>0</td>\n",
       "      <td>0.00</td>\n",
       "      <td>0.0</td>\n",
       "      <td>0.00</td>\n",
       "      <td>0.000000</td>\n",
       "      <td>0.000000</td>\n",
       "      <td>0</td>\n",
       "      <td>0.00</td>\n",
       "      <td>0.00</td>\n",
       "      <td>0.000000e+00</td>\n",
       "      <td>0.000000</td>\n",
       "      <td>NaN</td>\n",
       "    </tr>\n",
       "    <tr>\n",
       "      <th>19</th>\n",
       "      <td>3010</td>\n",
       "      <td>DRMT</td>\n",
       "      <td>1</td>\n",
       "      <td>General Fund</td>\n",
       "      <td>22030</td>\n",
       "      <td>150000</td>\n",
       "      <td>145312.79</td>\n",
       "      <td>4687.21</td>\n",
       "      <td>1.585230e+05</td>\n",
       "      <td>1.056820</td>\n",
       "      <td>0.968752</td>\n",
       "      <td>2000</td>\n",
       "      <td>0.00</td>\n",
       "      <td>0.0</td>\n",
       "      <td>2000.00</td>\n",
       "      <td>0.000000</td>\n",
       "      <td>0.000000</td>\n",
       "      <td>152000</td>\n",
       "      <td>145312.79</td>\n",
       "      <td>6687.21</td>\n",
       "      <td>1.585230e+05</td>\n",
       "      <td>0.956005</td>\n",
       "      <td>NaN</td>\n",
       "    </tr>\n",
       "    <tr>\n",
       "      <th>28</th>\n",
       "      <td>3020</td>\n",
       "      <td>DRMT</td>\n",
       "      <td>1</td>\n",
       "      <td>General Fund</td>\n",
       "      <td>22030</td>\n",
       "      <td>0</td>\n",
       "      <td>0.00</td>\n",
       "      <td>0.00</td>\n",
       "      <td>0.000000e+00</td>\n",
       "      <td>0.000000</td>\n",
       "      <td>0.000000</td>\n",
       "      <td>0</td>\n",
       "      <td>0.00</td>\n",
       "      <td>0.0</td>\n",
       "      <td>0.00</td>\n",
       "      <td>0.000000</td>\n",
       "      <td>0.000000</td>\n",
       "      <td>0</td>\n",
       "      <td>0.00</td>\n",
       "      <td>0.00</td>\n",
       "      <td>0.000000e+00</td>\n",
       "      <td>0.000000</td>\n",
       "      <td>NaN</td>\n",
       "    </tr>\n",
       "    <tr>\n",
       "      <th>36</th>\n",
       "      <td>4010</td>\n",
       "      <td>DOTP</td>\n",
       "      <td>1</td>\n",
       "      <td>General Fund</td>\n",
       "      <td>22030</td>\n",
       "      <td>150000</td>\n",
       "      <td>166142.55</td>\n",
       "      <td>-16142.55</td>\n",
       "      <td>1.812464e+05</td>\n",
       "      <td>1.208309</td>\n",
       "      <td>1.107617</td>\n",
       "      <td>2000</td>\n",
       "      <td>0.00</td>\n",
       "      <td>0.0</td>\n",
       "      <td>2000.00</td>\n",
       "      <td>0.000000</td>\n",
       "      <td>0.000000</td>\n",
       "      <td>152000</td>\n",
       "      <td>166142.55</td>\n",
       "      <td>-14142.55</td>\n",
       "      <td>1.812464e+05</td>\n",
       "      <td>1.093043</td>\n",
       "      <td>NaN</td>\n",
       "    </tr>\n",
       "  </tbody>\n",
       "</table>\n",
       "</div>"
      ],
      "text/plain": [
       "    pec_class          division  fund fund_description appropriation  \\\n",
       "3        2030  Local Assistance     1     General Fund         22030   \n",
       "14       2041             DRISI     1     General Fund         22030   \n",
       "19       3010              DRMT     1     General Fund         22030   \n",
       "28       3020              DRMT     1     General Fund         22030   \n",
       "36       4010              DOTP     1     General Fund         22030   \n",
       "\n",
       "    ps_allocation  ps_expenditure  ps_balance  ps_projection  \\\n",
       "3         2625000      1265708.14  1359291.86   1.380773e+06   \n",
       "14              0            0.00        0.00   0.000000e+00   \n",
       "19         150000       145312.79     4687.21   1.585230e+05   \n",
       "28              0            0.00        0.00   0.000000e+00   \n",
       "36         150000       166142.55   -16142.55   1.812464e+05   \n",
       "\n",
       "    year_end_expendded_pace  ps_%_expended  oe_allocation  oe_encumbrance  \\\n",
       "3                  0.526009       0.482175          27000         1593.74   \n",
       "14                 0.000000       0.000000              0            0.00   \n",
       "19                 1.056820       0.968752           2000            0.00   \n",
       "28                 0.000000       0.000000              0            0.00   \n",
       "36                 1.208309       1.107617           2000            0.00   \n",
       "\n",
       "    oe_expenditure  oe_balance  oe_enc_+_oe_exp_projection  oe_%_expended  \\\n",
       "3          10119.4    15286.86                12633.085455       0.467892   \n",
       "14             0.0        0.00                    0.000000       0.000000   \n",
       "19             0.0     2000.00                    0.000000       0.000000   \n",
       "28             0.0        0.00                    0.000000       0.000000   \n",
       "36             0.0     2000.00                    0.000000       0.000000   \n",
       "\n",
       "    total_allocation  total_expenditure  total_balance  total_projection  \\\n",
       "3            2652000         1277421.28     1374578.72      1.393406e+06   \n",
       "14                 0               0.00           0.00      0.000000e+00   \n",
       "19            152000          145312.79        6687.21      1.585230e+05   \n",
       "28                 0               0.00           0.00      0.000000e+00   \n",
       "36            152000          166142.55      -14142.55      1.812464e+05   \n",
       "\n",
       "    total_%_expended  notes  \n",
       "3           0.481682    NaN  \n",
       "14          0.000000    NaN  \n",
       "19          0.956005    NaN  \n",
       "28          0.000000    NaN  \n",
       "36          1.093043    NaN  "
      ]
     },
     "execution_count": 29,
     "metadata": {},
     "output_type": "execute_result"
    }
   ],
   "source": [
    "division_df.loc[division_df[\"appropriation\"] == \"22030\"]"
   ]
  },
  {
   "cell_type": "code",
   "execution_count": 30,
   "id": "e0fe317b-82af-47df-85b1-8a67fec79f41",
   "metadata": {},
   "outputs": [
    {
     "data": {
      "text/html": [
       "<div>\n",
       "<style scoped>\n",
       "    .dataframe tbody tr th:only-of-type {\n",
       "        vertical-align: middle;\n",
       "    }\n",
       "\n",
       "    .dataframe tbody tr th {\n",
       "        vertical-align: top;\n",
       "    }\n",
       "\n",
       "    .dataframe thead th {\n",
       "        text-align: right;\n",
       "    }\n",
       "</style>\n",
       "<table border=\"1\" class=\"dataframe\">\n",
       "  <thead>\n",
       "    <tr style=\"text-align: right;\">\n",
       "      <th></th>\n",
       "      <th>fund</th>\n",
       "      <th>fund_description</th>\n",
       "      <th>appropriation</th>\n",
       "      <th>pec_class</th>\n",
       "      <th>pec_class_description</th>\n",
       "      <th>ps_allocation</th>\n",
       "      <th>ps_expenditure</th>\n",
       "      <th>ps_balance</th>\n",
       "      <th>ps_projection</th>\n",
       "      <th>year_end_expendded_pace</th>\n",
       "      <th>ps_%_expended</th>\n",
       "      <th>oe_allocation</th>\n",
       "      <th>oe_encumbrance</th>\n",
       "      <th>oe_expenditure</th>\n",
       "      <th>oe_balance</th>\n",
       "      <th>oe_enc_+_oe_exp_projection</th>\n",
       "      <th>oe_%_expended</th>\n",
       "      <th>total_allocation</th>\n",
       "      <th>total_expenditure</th>\n",
       "      <th>total_balance</th>\n",
       "      <th>total_projection</th>\n",
       "      <th>total_%_expended</th>\n",
       "      <th>division</th>\n",
       "      <th>notes</th>\n",
       "    </tr>\n",
       "  </thead>\n",
       "  <tbody>\n",
       "    <tr>\n",
       "      <th>1</th>\n",
       "      <td>0001</td>\n",
       "      <td>General Fund</td>\n",
       "      <td>22030</td>\n",
       "      <td>2030</td>\n",
       "      <td>Local Assistance</td>\n",
       "      <td>2625000</td>\n",
       "      <td>1265708.14</td>\n",
       "      <td>1359291.86</td>\n",
       "      <td>1380772.516364</td>\n",
       "      <td>0.526009</td>\n",
       "      <td>0.482175</td>\n",
       "      <td>27000</td>\n",
       "      <td>1593.74</td>\n",
       "      <td>10119.4</td>\n",
       "      <td>15286.86</td>\n",
       "      <td>12633.085455</td>\n",
       "      <td>0.467892</td>\n",
       "      <td>2652000</td>\n",
       "      <td>1277421.28</td>\n",
       "      <td>1374578.72</td>\n",
       "      <td>1393405.601818</td>\n",
       "      <td>0.481682</td>\n",
       "      <td>Local Assistance</td>\n",
       "      <td>NaN</td>\n",
       "    </tr>\n",
       "    <tr>\n",
       "      <th>2</th>\n",
       "      <td>0001</td>\n",
       "      <td>General Fund</td>\n",
       "      <td>22030</td>\n",
       "      <td>3010</td>\n",
       "      <td>State &amp; Fed Mass Trans</td>\n",
       "      <td>150000</td>\n",
       "      <td>145312.79</td>\n",
       "      <td>4687.21</td>\n",
       "      <td>158523.043636</td>\n",
       "      <td>1.05682</td>\n",
       "      <td>0.968752</td>\n",
       "      <td>2000</td>\n",
       "      <td>0</td>\n",
       "      <td>0</td>\n",
       "      <td>2000</td>\n",
       "      <td>0</td>\n",
       "      <td>0</td>\n",
       "      <td>152000</td>\n",
       "      <td>145312.79</td>\n",
       "      <td>6687.21</td>\n",
       "      <td>158523.043636</td>\n",
       "      <td>0.956005</td>\n",
       "      <td>DRMT</td>\n",
       "      <td>NaN</td>\n",
       "    </tr>\n",
       "    <tr>\n",
       "      <th>3</th>\n",
       "      <td>0001</td>\n",
       "      <td>General Fund</td>\n",
       "      <td>22030</td>\n",
       "      <td>4010</td>\n",
       "      <td>Statewide Planning</td>\n",
       "      <td>150000</td>\n",
       "      <td>166142.55</td>\n",
       "      <td>-16142.55</td>\n",
       "      <td>181246.418182</td>\n",
       "      <td>1.208309</td>\n",
       "      <td>1.107617</td>\n",
       "      <td>2000</td>\n",
       "      <td>0</td>\n",
       "      <td>0</td>\n",
       "      <td>2000</td>\n",
       "      <td>0</td>\n",
       "      <td>0</td>\n",
       "      <td>152000</td>\n",
       "      <td>166142.55</td>\n",
       "      <td>-14142.55</td>\n",
       "      <td>181246.418182</td>\n",
       "      <td>1.093043</td>\n",
       "      <td>DOTP</td>\n",
       "      <td>NaN</td>\n",
       "    </tr>\n",
       "  </tbody>\n",
       "</table>\n",
       "</div>"
      ],
      "text/plain": [
       "0  fund fund_description appropriation pec_class   pec_class_description  \\\n",
       "1  0001     General Fund         22030      2030        Local Assistance   \n",
       "2  0001     General Fund         22030      3010  State & Fed Mass Trans   \n",
       "3  0001     General Fund         22030      4010      Statewide Planning   \n",
       "\n",
       "0 ps_allocation ps_expenditure  ps_balance   ps_projection  \\\n",
       "1       2625000     1265708.14  1359291.86  1380772.516364   \n",
       "2        150000      145312.79     4687.21   158523.043636   \n",
       "3        150000      166142.55   -16142.55   181246.418182   \n",
       "\n",
       "0 year_end_expendded_pace ps_%_expended oe_allocation oe_encumbrance  \\\n",
       "1                0.526009      0.482175         27000        1593.74   \n",
       "2                 1.05682      0.968752          2000              0   \n",
       "3                1.208309      1.107617          2000              0   \n",
       "\n",
       "0 oe_expenditure oe_balance oe_enc_+_oe_exp_projection oe_%_expended  \\\n",
       "1        10119.4   15286.86               12633.085455      0.467892   \n",
       "2              0       2000                          0             0   \n",
       "3              0       2000                          0             0   \n",
       "\n",
       "0 total_allocation total_expenditure total_balance total_projection  \\\n",
       "1          2652000        1277421.28    1374578.72   1393405.601818   \n",
       "2           152000         145312.79       6687.21    158523.043636   \n",
       "3           152000         166142.55     -14142.55    181246.418182   \n",
       "\n",
       "0 total_%_expended          division  notes  \n",
       "1         0.481682  Local Assistance    NaN  \n",
       "2         0.956005              DRMT    NaN  \n",
       "3         1.093043              DOTP    NaN  "
      ]
     },
     "execution_count": 30,
     "metadata": {},
     "output_type": "execute_result"
    }
   ],
   "source": [
    "division_test.loc[division_test[\"appropriation\"] == \"22030\"]"
   ]
  },
  {
   "cell_type": "code",
   "execution_count": 31,
   "id": "372a4a12-20b9-4164-9489-ada961d87f36",
   "metadata": {},
   "outputs": [],
   "source": [
    "testing_cols = [\n",
    "    \"ps_allocation\",\n",
    "    \"ps_expenditure\",\n",
    "    \"ps_balance\",\n",
    "    \"ps_projection\",\n",
    "    \"oe_allocation\",\n",
    "    \"oe_encumbrance\",\n",
    "    \"oe_expenditure\",\n",
    "    \"total_allocation\",\n",
    "    \"total_expenditure\",\n",
    "    \"total_balance\",\n",
    "]"
   ]
  },
  {
   "cell_type": "code",
   "execution_count": 32,
   "id": "8693ca0e-e776-4985-8401-b75fd3b5488d",
   "metadata": {},
   "outputs": [
    {
     "name": "stdout",
     "output_type": "stream",
     "text": [
      "\n",
      "ps_allocation\n",
      "230928000\n",
      "230928000\n",
      "\n",
      "ps_expenditure\n",
      "183147623.15\n",
      "183147623.15000004\n",
      "\n",
      "ps_balance\n",
      "47780376.85\n",
      "47780376.85\n",
      "\n",
      "ps_projection\n",
      "199797407.0727273\n",
      "199797407.07272723\n",
      "\n",
      "oe_allocation\n",
      "232735000\n",
      "232735000\n",
      "\n",
      "oe_encumbrance\n",
      "104147405.69\n",
      "104147405.69000001\n",
      "\n",
      "oe_expenditure\n",
      "33504730.379999995\n",
      "33504730.38\n",
      "\n",
      "total_allocation\n",
      "463663000\n",
      "463663000\n",
      "\n",
      "total_expenditure\n",
      "320799759.2200001\n",
      "320799759.22\n",
      "\n",
      "total_balance\n",
      "142863240.78\n",
      "142863240.77999997\n"
     ]
    }
   ],
   "source": [
    "for i in testing_cols:\n",
    "    print(\"\\n\" + i)\n",
    "    print(division_df[i].sum())\n",
    "    print(division_test[i].sum())"
   ]
  },
  {
   "cell_type": "code",
   "execution_count": 33,
   "id": "d348e991-d1ac-42a1-b0c6-88de0f3b394b",
   "metadata": {
    "scrolled": true,
    "tags": []
   },
   "outputs": [
    {
     "name": "stdout",
     "output_type": "stream",
     "text": [
      "<class 'pandas.core.frame.DataFrame'>\n",
      "RangeIndex: 50 entries, 0 to 49\n",
      "Data columns (total 23 columns):\n",
      " #   Column                      Non-Null Count  Dtype  \n",
      "---  ------                      --------------  -----  \n",
      " 0   pec_class                   50 non-null     int64  \n",
      " 1   division                    50 non-null     object \n",
      " 2   fund                        50 non-null     int64  \n",
      " 3   fund_description            50 non-null     object \n",
      " 4   appropriation               50 non-null     object \n",
      " 5   ps_allocation               50 non-null     int64  \n",
      " 6   ps_expenditure              50 non-null     float64\n",
      " 7   ps_balance                  50 non-null     float64\n",
      " 8   ps_projection               50 non-null     float64\n",
      " 9   year_end_expendded_pace     50 non-null     float64\n",
      " 10  ps_%_expended               50 non-null     float64\n",
      " 11  oe_allocation               50 non-null     int64  \n",
      " 12  oe_encumbrance              50 non-null     float64\n",
      " 13  oe_expenditure              50 non-null     float64\n",
      " 14  oe_balance                  50 non-null     float64\n",
      " 15  oe_enc_+_oe_exp_projection  50 non-null     float64\n",
      " 16  oe_%_expended               50 non-null     float64\n",
      " 17  total_allocation            50 non-null     int64  \n",
      " 18  total_expenditure           50 non-null     float64\n",
      " 19  total_balance               50 non-null     float64\n",
      " 20  total_projection            50 non-null     float64\n",
      " 21  total_%_expended            50 non-null     float64\n",
      " 22  notes                       0 non-null      float64\n",
      "dtypes: float64(15), int64(5), object(3)\n",
      "memory usage: 9.1+ KB\n",
      "<class 'pandas.core.frame.DataFrame'>\n",
      "Int64Index: 48 entries, 0 to 55\n",
      "Data columns (total 24 columns):\n",
      " #   Column                      Non-Null Count  Dtype  \n",
      "---  ------                      --------------  -----  \n",
      " 0   fund                        48 non-null     object \n",
      " 1   fund_description            48 non-null     object \n",
      " 2   appropriation               48 non-null     object \n",
      " 3   pec_class                   48 non-null     object \n",
      " 4   pec_class_description       48 non-null     object \n",
      " 5   ps_allocation               48 non-null     object \n",
      " 6   ps_expenditure              48 non-null     object \n",
      " 7   ps_balance                  48 non-null     object \n",
      " 8   ps_projection               48 non-null     object \n",
      " 9   year_end_expendded_pace     48 non-null     object \n",
      " 10  ps_%_expended               48 non-null     object \n",
      " 11  oe_allocation               48 non-null     object \n",
      " 12  oe_encumbrance              48 non-null     object \n",
      " 13  oe_expenditure              48 non-null     object \n",
      " 14  oe_balance                  48 non-null     object \n",
      " 15  oe_enc_+_oe_exp_projection  48 non-null     object \n",
      " 16  oe_%_expended               48 non-null     object \n",
      " 17  total_allocation            48 non-null     object \n",
      " 18  total_expenditure           48 non-null     object \n",
      " 19  total_balance               48 non-null     object \n",
      " 20  total_projection            48 non-null     object \n",
      " 21  total_%_expended            48 non-null     object \n",
      " 22  division                    48 non-null     object \n",
      " 23  notes                       0 non-null      float64\n",
      "dtypes: float64(1), object(23)\n",
      "memory usage: 9.4+ KB\n"
     ]
    },
    {
     "data": {
      "text/plain": [
       "(None, None)"
      ]
     },
     "execution_count": 33,
     "metadata": {},
     "output_type": "execute_result"
    }
   ],
   "source": [
    "division_df.info(), division_test.info()"
   ]
  },
  {
   "cell_type": "markdown",
   "id": "f844cd1c-51a3-4eee-b1c7-7089480c59dd",
   "metadata": {},
   "source": [
    "## TPSOE Data"
   ]
  },
  {
   "cell_type": "code",
   "execution_count": 34,
   "id": "8180abc5-9384-446a-9aea-dbd4a325c2a5",
   "metadata": {
    "tags": []
   },
   "outputs": [],
   "source": [
    "# Reference point\n",
    "# tpsoe_df.loc[tpsoe_df[\"division\"] == \"Aeronautics\"]"
   ]
  },
  {
   "cell_type": "code",
   "execution_count": 35,
   "id": "2f4c21be-01f3-4502-a029-74235880b8c7",
   "metadata": {},
   "outputs": [],
   "source": [
    "# ap11.loc[ap11[\"division\"] == \"Aeronautics\"]"
   ]
  },
  {
   "cell_type": "code",
   "execution_count": 36,
   "id": "11227268-4a49-4411-a0ba-bebe465c9287",
   "metadata": {},
   "outputs": [],
   "source": [
    "# Cols: for PS\n",
    "tpsoe_ps_list = [\n",
    "    \"fund\",\n",
    "    \"fund_description\",\n",
    "    \"appropriation\",\n",
    "    \"pec_class\",\n",
    "    \"division\",\n",
    "    \"ps_allocation\",\n",
    "    \"ps_expenditure\",\n",
    "    \"ps_balance\",\n",
    "    \"ps_projection\",\n",
    "    \"year_end_expendded_pace\",\n",
    "    \"ps_%_expended\",\n",
    "]"
   ]
  },
  {
   "cell_type": "code",
   "execution_count": 37,
   "id": "2ea5772c-9585-4cff-a6bc-e1c9bd2ddda0",
   "metadata": {},
   "outputs": [],
   "source": [
    "# Cols for OE\n",
    "tpsoe_oe_list = [\n",
    "    \"fund\",\n",
    "    \"fund_description\",\n",
    "    \"appropriation\",\n",
    "    \"pec_class\",\n",
    "    \"division\",\n",
    "    \"oe_allocation\",\n",
    "    \"oe_encumbrance\",\n",
    "    \"oe_expenditure\",\n",
    "    \"oe_balance\",\n",
    "    \"oe_enc_+_oe_exp_projection\",\n",
    "]"
   ]
  },
  {
   "cell_type": "markdown",
   "id": "816589f7-ab62-48c8-a90b-25786aac6f7e",
   "metadata": {},
   "source": [
    "### Function to clean"
   ]
  },
  {
   "cell_type": "code",
   "execution_count": 38,
   "id": "2e52aa0c-a7b0-42e8-8d57-72bada1f41d5",
   "metadata": {},
   "outputs": [],
   "source": [
    "def cleaning_psoe_tpsoe(df, ps_or_oe: str):\n",
    "    # Fill in the column type for either PS: personal services\n",
    "    # or OE: operating expense\n",
    "    df[\"type\"] = ps_or_oe\n",
    "\n",
    "    # Strip away the prefixes from column names\n",
    "    # https://stackoverflow.com/questions/54097284/removing-suffix-from-dataframe-column-names-python\n",
    "\n",
    "    # Create suffix\n",
    "    suffix = f\"{ps_or_oe}_\"\n",
    "    df.columns = df.columns.str.replace(suffix, \"\", regex=True)\n",
    "\n",
    "    # There is a enc_+_exp_projection for OE: try and except to rename to projection\n",
    "    # To match PS\n",
    "    try:\n",
    "        df = df.rename(columns={\"enc_+_exp_projection\": \"projection\"})\n",
    "    except:\n",
    "        pass\n",
    "\n",
    "    return df"
   ]
  },
  {
   "cell_type": "markdown",
   "id": "d835b09c-b6ff-471d-b1d0-fdad2673de3d",
   "metadata": {},
   "source": [
    "### Function to create sheet"
   ]
  },
  {
   "cell_type": "code",
   "execution_count": 42,
   "id": "e9948907-0874-44ac-bf37-6ed0d0870057",
   "metadata": {},
   "outputs": [],
   "source": [
    "def create_tpsoe(df, ps_list: list, oe_list: list):\n",
    "    tpsoe_oe = cleaning_psoe_tpsoe(df[oe_list], \"oe\")\n",
    "    tpsoe_ps = cleaning_psoe_tpsoe(df[ps_list], \"ps\")\n",
    "    c1 = pd.concat([tpsoe_ps, tpsoe_oe], sort=False)\n",
    "    order_of_cols = [\n",
    "        \"pec_class\",\n",
    "        \"division\",\n",
    "        \"fund\",\n",
    "        \"fund_description\",\n",
    "        \"appropriation\",\n",
    "        \"type\",\n",
    "        \"allocation\",\n",
    "        \"expenditure\",\n",
    "        \"balance\",\n",
    "        \"encumbrance\",\n",
    "        \"projection\",\n",
    "        \"year_end_expendded_pace\",\n",
    "        \"%_expended\",\n",
    "    ]\n",
    "    c1 = c1[order_of_cols]\n",
    "\n",
    "    # Add a notes column\n",
    "    c1[\"notes\"] = np.nan\n",
    "\n",
    "    # Monetary cols to coerce into floats\n",
    "    monetary_cols = [\n",
    "        \"allocation\",\n",
    "        \"expenditure\",\n",
    "        \"balance\",\n",
    "        \"encumbrance\",\n",
    "        \"projection\",\n",
    "        \"year_end_expendded_pace\",\n",
    "        \"%_expended\",\n",
    "    ]\n",
    "\n",
    "    c1[monetary_cols] = c1[monetary_cols].astype(\"float64\")\n",
    "\n",
    "    return c1"
   ]
  },
  {
   "cell_type": "code",
   "execution_count": 43,
   "id": "c4d22ed8-112a-4707-8b1b-6af94ef659e6",
   "metadata": {},
   "outputs": [
    {
     "name": "stderr",
     "output_type": "stream",
     "text": [
      "/tmp/ipykernel_1803/672688915.py:4: SettingWithCopyWarning: \n",
      "A value is trying to be set on a copy of a slice from a DataFrame.\n",
      "Try using .loc[row_indexer,col_indexer] = value instead\n",
      "\n",
      "See the caveats in the documentation: https://pandas.pydata.org/pandas-docs/stable/user_guide/indexing.html#returning-a-view-versus-a-copy\n",
      "/tmp/ipykernel_1803/672688915.py:4: SettingWithCopyWarning: \n",
      "A value is trying to be set on a copy of a slice from a DataFrame.\n",
      "Try using .loc[row_indexer,col_indexer] = value instead\n",
      "\n",
      "See the caveats in the documentation: https://pandas.pydata.org/pandas-docs/stable/user_guide/indexing.html#returning-a-view-versus-a-copy\n"
     ]
    }
   ],
   "source": [
    "c1 = create_tpsoe(ap11, tpsoe_ps_list, tpsoe_oe_list)"
   ]
  },
  {
   "cell_type": "code",
   "execution_count": 49,
   "id": "3598ddc0-04b0-4b27-bf43-556298d1dbe5",
   "metadata": {},
   "outputs": [],
   "source": [
    "monetary_cols = [\n",
    "    \"allocation\",\n",
    "    \"expenditure\",\n",
    "    \"balance\",\n",
    "    \"encumbrance\",\n",
    "    \"projection\",\n",
    "    \"year_end_expendded_pace\",\n",
    "    \"%_expended\",\n",
    "]"
   ]
  },
  {
   "cell_type": "markdown",
   "id": "8f937963-24bf-4588-b2bd-341501b96753",
   "metadata": {},
   "source": [
    "### Double checking"
   ]
  },
  {
   "cell_type": "code",
   "execution_count": 50,
   "id": "be181f04-f123-44a6-84b1-3dfedeb0c150",
   "metadata": {},
   "outputs": [
    {
     "data": {
      "text/plain": [
       "(96, 14)"
      ]
     },
     "execution_count": 50,
     "metadata": {},
     "output_type": "execute_result"
    }
   ],
   "source": [
    "c1.shape"
   ]
  },
  {
   "cell_type": "code",
   "execution_count": 51,
   "id": "b0ec9ba1-9194-4618-9a9e-68895c47c088",
   "metadata": {},
   "outputs": [
    {
     "data": {
      "text/plain": [
       "(100, 14)"
      ]
     },
     "execution_count": 51,
     "metadata": {},
     "output_type": "execute_result"
    }
   ],
   "source": [
    "tpsoe_df.shape"
   ]
  },
  {
   "cell_type": "code",
   "execution_count": 52,
   "id": "280c3354-f8a7-4a6f-a686-1d53f9040671",
   "metadata": {
    "scrolled": true,
    "tags": []
   },
   "outputs": [],
   "source": [
    "# c1[['division', 'type','pec_class', 'allocation']].sort_values(['pec_class', 'allocation'])"
   ]
  },
  {
   "cell_type": "code",
   "execution_count": 53,
   "id": "777df182-080a-4dd2-b47d-37ab9454f04b",
   "metadata": {
    "scrolled": true,
    "tags": []
   },
   "outputs": [],
   "source": [
    "# tpsoe_df[['division','type','pec_class', 'allocation']].sort_values(['pec_class', 'allocation'])"
   ]
  },
  {
   "cell_type": "code",
   "execution_count": 54,
   "id": "a0e24757-ea0e-44b8-99cf-0a54f6093732",
   "metadata": {},
   "outputs": [
    {
     "name": "stdout",
     "output_type": "stream",
     "text": [
      "\n",
      "allocation\n",
      "463663000.0\n",
      "463663000\n",
      "\n",
      "expenditure\n",
      "216652353.53000003\n",
      "216652353.52999997\n",
      "\n",
      "balance\n",
      "142863240.78\n",
      "142863240.78\n",
      "\n",
      "encumbrance\n",
      "104147405.69\n",
      "104147405.69\n",
      "\n",
      "projection\n",
      "340495427.72272724\n",
      "340495427.72272724\n",
      "\n",
      "year_end_expendded_pace\n",
      "26.708515918639606\n",
      "26.708515918639606\n",
      "\n",
      "%_expended\n",
      "24.482806258752973\n",
      "37.17215507087656\n"
     ]
    }
   ],
   "source": [
    "for i in monetary_cols:\n",
    "    print(\"\\n\" + i)\n",
    "    print(c1[i].sum())\n",
    "    print(tpsoe_df[i].sum())"
   ]
  },
  {
   "cell_type": "code",
   "execution_count": 55,
   "id": "475ede95-98a6-43e2-a115-a5b4b60ff382",
   "metadata": {},
   "outputs": [],
   "source": [
    "test = set(c1.appropriation.unique().tolist())\n",
    "actual = set(tpsoe_df.appropriation.unique().tolist())"
   ]
  },
  {
   "cell_type": "code",
   "execution_count": 56,
   "id": "de969d02-8054-4126-a4b1-75c9fe3fd606",
   "metadata": {},
   "outputs": [
    {
     "data": {
      "text/plain": [
       "set()"
      ]
     },
     "execution_count": 56,
     "metadata": {},
     "output_type": "execute_result"
    }
   ],
   "source": [
    "actual - test"
   ]
  },
  {
   "cell_type": "code",
   "execution_count": 57,
   "id": "fb446f34-4fd1-42dc-85d7-94da61558d87",
   "metadata": {},
   "outputs": [
    {
     "data": {
      "text/plain": [
       "set()"
      ]
     },
     "execution_count": 57,
     "metadata": {},
     "output_type": "execute_result"
    }
   ],
   "source": [
    "test - actual"
   ]
  },
  {
   "cell_type": "markdown",
   "id": "de298bb5-15bd-44c1-8f65-84d8acc3d980",
   "metadata": {},
   "source": [
    "## Timeline "
   ]
  },
  {
   "cell_type": "code",
   "execution_count": 58,
   "id": "9136be59-d733-4c9b-afbc-f06e6c39c705",
   "metadata": {},
   "outputs": [],
   "source": [
    "test_tuple = (4, 7, 11)"
   ]
  },
  {
   "cell_type": "code",
   "execution_count": 59,
   "id": "440a612b-71fa-4025-8d22-a2e446f18a0b",
   "metadata": {},
   "outputs": [],
   "source": [
    "# How to assign keys automatically??\n",
    "# https://stackoverflow.com/questions/59267129/how-to-concatenate-multiple-dataframes-from-multiple-sources-in-pandas\n",
    "time_test = (\n",
    "    pd.concat(my_clean_dataframes, keys=test_tuple)\n",
    "    .rename_axis((\"source\", \"tmp\"))\n",
    "    .reset_index(level=0)\n",
    "    .reset_index(drop=True)\n",
    ")"
   ]
  },
  {
   "cell_type": "code",
   "execution_count": 60,
   "id": "6fd91ad7-5af3-4a33-b5a8-d443f6106bbe",
   "metadata": {
    "tags": []
   },
   "outputs": [],
   "source": [
    "time_test = time_test.drop(\n",
    "    columns=[\n",
    "        \"ap\",\n",
    "    ]\n",
    ").rename(columns={\"source\": \"ap\"})"
   ]
  },
  {
   "cell_type": "code",
   "execution_count": 61,
   "id": "c8a68094-413b-49da-bfcf-9c048e57158e",
   "metadata": {},
   "outputs": [],
   "source": [
    "# Certain appropriation(s) are filtered out:\n",
    "# time_test = time_test[~time_test.appropriation.isin(unwanted_appropriations)]"
   ]
  },
  {
   "cell_type": "code",
   "execution_count": 62,
   "id": "83754afa-b243-40e1-be0e-8e3d3ebd51dc",
   "metadata": {
    "scrolled": true,
    "tags": []
   },
   "outputs": [],
   "source": [
    "# time_test.loc[time_test['appropriation'] == '22030']"
   ]
  },
  {
   "cell_type": "code",
   "execution_count": 63,
   "id": "69486659-480a-4a02-8870-b533ef7e05ce",
   "metadata": {},
   "outputs": [
    {
     "data": {
      "text/plain": [
       "7     52\n",
       "4     51\n",
       "11    48\n",
       "Name: ap, dtype: int64"
      ]
     },
     "execution_count": 63,
     "metadata": {},
     "output_type": "execute_result"
    }
   ],
   "source": [
    "time_test[\"ap\"].value_counts()"
   ]
  },
  {
   "cell_type": "code",
   "execution_count": 64,
   "id": "09fd6595-4b42-494b-b26d-44455f4a5e70",
   "metadata": {},
   "outputs": [],
   "source": [
    "timeline_df = timeline_df[timeline_df[\"ap\"].isin([4, 7, 11])]"
   ]
  },
  {
   "cell_type": "code",
   "execution_count": 65,
   "id": "06541a82-f242-49b2-b516-8acdb20f11c1",
   "metadata": {},
   "outputs": [
    {
     "data": {
      "text/plain": [
       "4     50\n",
       "7     50\n",
       "11    48\n",
       "Name: ap, dtype: int64"
      ]
     },
     "execution_count": 65,
     "metadata": {},
     "output_type": "execute_result"
    }
   ],
   "source": [
    "timeline_df[\"ap\"].value_counts()"
   ]
  },
  {
   "cell_type": "code",
   "execution_count": 66,
   "id": "57530af5-f989-4ff5-9bb6-92b153e8ff66",
   "metadata": {},
   "outputs": [
    {
     "data": {
      "text/plain": [
       "(148, 26)"
      ]
     },
     "execution_count": 66,
     "metadata": {},
     "output_type": "execute_result"
    }
   ],
   "source": [
    "timeline_df.shape"
   ]
  },
  {
   "cell_type": "code",
   "execution_count": 67,
   "id": "30ef2406-44c5-4fc7-9693-f3240e09ba4b",
   "metadata": {},
   "outputs": [
    {
     "data": {
      "text/plain": [
       "694532000"
      ]
     },
     "execution_count": 67,
     "metadata": {},
     "output_type": "execute_result"
    }
   ],
   "source": [
    "time_test[\"ps_allocation\"].sum()"
   ]
  },
  {
   "cell_type": "code",
   "execution_count": 68,
   "id": "a9fe1e9f-8e45-4c79-ae02-9ce443cd2ea5",
   "metadata": {},
   "outputs": [
    {
     "data": {
      "text/plain": [
       "383292886.0400002"
      ]
     },
     "execution_count": 68,
     "metadata": {},
     "output_type": "execute_result"
    }
   ],
   "source": [
    "time_test[\"total_balance\"].sum()"
   ]
  },
  {
   "cell_type": "code",
   "execution_count": 69,
   "id": "5757c904-9a03-474b-a1dc-27aa6594d09b",
   "metadata": {},
   "outputs": [
    {
     "data": {
      "text/plain": [
       "694532000"
      ]
     },
     "execution_count": 69,
     "metadata": {},
     "output_type": "execute_result"
    }
   ],
   "source": [
    "timeline_df[\"ps_alloc\"].sum()"
   ]
  },
  {
   "cell_type": "code",
   "execution_count": 70,
   "id": "f6c4c2d9-f8e2-44d0-a171-8744f85b19af",
   "metadata": {},
   "outputs": [
    {
     "data": {
      "text/plain": [
       "628609959.72"
      ]
     },
     "execution_count": 70,
     "metadata": {},
     "output_type": "execute_result"
    }
   ],
   "source": [
    "timeline_df[\"total_balance\"].sum()"
   ]
  },
  {
   "cell_type": "code",
   "execution_count": 71,
   "id": "dae60896-10f4-4bc0-92eb-d0ae10adf62f",
   "metadata": {},
   "outputs": [
    {
     "data": {
      "text/plain": [
       "Index(['ap', 'appr_catg', 'fund', 'fund_description', 'appropriation',\n",
       "       'pec_class', 'pec_class_description', 'ps_allocation', 'ps_expenditure',\n",
       "       'ps_balance', 'ps_projection', 'ps_%_expended', 'py_pos_alloc',\n",
       "       'act__hours', 'oe_allocation', 'oe_encumbrance', 'oe_expenditure',\n",
       "       'oe_balance', 'oe_projection', 'oe_%_expended', 'total_allocation',\n",
       "       'total_expenditure', 'total_balance', 'total_projection',\n",
       "       'total_%_expended', 'division', 'year_end_expendded_pace',\n",
       "       'oe_enc_+_oe_exp_projection'],\n",
       "      dtype='object', name=0)"
      ]
     },
     "execution_count": 71,
     "metadata": {},
     "output_type": "execute_result"
    }
   ],
   "source": [
    "time_test.columns"
   ]
  },
  {
   "cell_type": "markdown",
   "id": "eff2afc2-550c-4033-9052-7fe77f910f18",
   "metadata": {},
   "source": [
    "## PSOE Timeline"
   ]
  },
  {
   "cell_type": "code",
   "execution_count": 72,
   "id": "13512a6f-5c74-4026-b84f-81c1bdf47db7",
   "metadata": {},
   "outputs": [],
   "source": [
    "psoe_ps_cols = [\n",
    "    \"appr_catg\",\n",
    "    \"fund\",\n",
    "    \"fund_description\",\n",
    "    \"appropriation\",\n",
    "    \"pec_class\",\n",
    "    \"division\",\n",
    "    \"ps_allocation\",\n",
    "    \"ps_expenditure\",\n",
    "    \"ps_balance\",\n",
    "    \"ps_projection\",\n",
    "    \"ps_%_expended\",\n",
    "    \"ap\",\n",
    "    \"pec_class_description\",\n",
    "]"
   ]
  },
  {
   "cell_type": "code",
   "execution_count": 73,
   "id": "fbd92749-cb94-4186-ba4f-e0fe6e1b3800",
   "metadata": {},
   "outputs": [],
   "source": [
    "psoe_os_cols = [\n",
    "    \"appr_catg\",\n",
    "    \"fund\",\n",
    "    \"fund_description\",\n",
    "    \"appropriation\",\n",
    "    \"pec_class\",\n",
    "    \"division\",\n",
    "    \"oe_allocation\",\n",
    "    \"oe_encumbrance\",\n",
    "    \"oe_expenditure\",\n",
    "    \"oe_balance\",\n",
    "    \"oe_enc_+_oe_exp_projection\",\n",
    "    \"oe_%_expended\",\n",
    "    \"ap\",\n",
    "    \"pec_class_description\",\n",
    "]"
   ]
  },
  {
   "cell_type": "code",
   "execution_count": 77,
   "id": "4379b241-2d7a-4fa5-aa08-531c70cf0665",
   "metadata": {},
   "outputs": [],
   "source": [
    "def create_psoe_timeline(df, ps_list: list, oe_list: list):\n",
    "    psoe_oe = cleaning_psoe_tpsoe(df[oe_list], \"oe\")\n",
    "    psoe_ps = cleaning_psoe_tpsoe(df[ps_list], \"ps\")\n",
    "\n",
    "    c1 = pd.concat([psoe_ps, psoe_oe], sort=False)\n",
    "\n",
    "    c1 = c1.rename(columns={\"expenditure\": \"expense\"})\n",
    "    psoe_right_col_order = [\n",
    "        \"appr_catg\",\n",
    "        \"fund\",\n",
    "        \"fund_description\",\n",
    "        \"appropriation\",\n",
    "        \"division\",\n",
    "        \"pec_class\",\n",
    "        \"pec_class_description\",\n",
    "        \"allocation\",\n",
    "        \"expense\",\n",
    "        \"balance\",\n",
    "        \"projection\",\n",
    "        \"%_expended\",\n",
    "        \"ap\",\n",
    "        \"type\",\n",
    "        \"encumbrance\",\n",
    "    ]\n",
    "    c1 = c1[psoe_right_col_order]\n",
    "\n",
    "    # Add a notes column\n",
    "    c1[\"notes\"] = np.nan\n",
    "\n",
    "    return c1"
   ]
  },
  {
   "cell_type": "code",
   "execution_count": 81,
   "id": "fa240e4f-132b-4d23-8032-6ac2966129d8",
   "metadata": {},
   "outputs": [
    {
     "name": "stderr",
     "output_type": "stream",
     "text": [
      "/tmp/ipykernel_1803/672688915.py:4: SettingWithCopyWarning: \n",
      "A value is trying to be set on a copy of a slice from a DataFrame.\n",
      "Try using .loc[row_indexer,col_indexer] = value instead\n",
      "\n",
      "See the caveats in the documentation: https://pandas.pydata.org/pandas-docs/stable/user_guide/indexing.html#returning-a-view-versus-a-copy\n",
      "/tmp/ipykernel_1803/672688915.py:4: SettingWithCopyWarning: \n",
      "A value is trying to be set on a copy of a slice from a DataFrame.\n",
      "Try using .loc[row_indexer,col_indexer] = value instead\n",
      "\n",
      "See the caveats in the documentation: https://pandas.pydata.org/pandas-docs/stable/user_guide/indexing.html#returning-a-view-versus-a-copy\n"
     ]
    }
   ],
   "source": [
    "pose_test = create_psoe_timeline(time_test, psoe_ps_cols, psoe_os_cols)"
   ]
  },
  {
   "cell_type": "code",
   "execution_count": 82,
   "id": "5229ce7a-8589-4929-95e5-ce04aafbde3c",
   "metadata": {},
   "outputs": [],
   "source": [
    "pose_test = pose_test.loc[pose_test[\"appropriation\"] != \"22102F\"]"
   ]
  },
  {
   "cell_type": "code",
   "execution_count": 83,
   "id": "59c7b3b9-adbf-45ab-b4ad-8ed40732cb28",
   "metadata": {},
   "outputs": [
    {
     "data": {
      "text/plain": [
       "(296, 16)"
      ]
     },
     "execution_count": 83,
     "metadata": {},
     "output_type": "execute_result"
    }
   ],
   "source": [
    "pose_test.shape"
   ]
  },
  {
   "cell_type": "markdown",
   "id": "e066fd5e-c497-4787-b3c1-90a70fc5f842",
   "metadata": {},
   "source": [
    "### Double checking"
   ]
  },
  {
   "cell_type": "code",
   "execution_count": 84,
   "id": "918c3551-3bad-4dc0-b1ab-013b39754b54",
   "metadata": {},
   "outputs": [],
   "source": [
    "psoe_df = psoe_df[psoe_df[\"ap\"].isin([4, 7, 11])]"
   ]
  },
  {
   "cell_type": "code",
   "execution_count": 85,
   "id": "a4ba0da2-0f41-48b8-8989-324445dae400",
   "metadata": {},
   "outputs": [
    {
     "data": {
      "text/plain": [
       "(296, 15)"
      ]
     },
     "execution_count": 85,
     "metadata": {},
     "output_type": "execute_result"
    }
   ],
   "source": [
    "psoe_df.shape"
   ]
  },
  {
   "cell_type": "code",
   "execution_count": 86,
   "id": "4bebafa4-8f14-411d-8549-d5f9853c680e",
   "metadata": {},
   "outputs": [
    {
     "data": {
      "text/plain": [
       "Index(['appr_catg', 'fund', 'fund_description', 'appr', 'division',\n",
       "       'pec_class', 'pec_class_description', 'allocation', 'expense',\n",
       "       'balance', 'projection', '%_expended', 'ap', 'type', 'encumbrance'],\n",
       "      dtype='object')"
      ]
     },
     "execution_count": 86,
     "metadata": {},
     "output_type": "execute_result"
    }
   ],
   "source": [
    "psoe_df.columns"
   ]
  },
  {
   "cell_type": "code",
   "execution_count": 87,
   "id": "b94824e4-d07e-49fe-ba64-377bf86fc7f5",
   "metadata": {},
   "outputs": [
    {
     "data": {
      "text/html": [
       "<div>\n",
       "<style scoped>\n",
       "    .dataframe tbody tr th:only-of-type {\n",
       "        vertical-align: middle;\n",
       "    }\n",
       "\n",
       "    .dataframe tbody tr th {\n",
       "        vertical-align: top;\n",
       "    }\n",
       "\n",
       "    .dataframe thead th {\n",
       "        text-align: right;\n",
       "    }\n",
       "</style>\n",
       "<table border=\"1\" class=\"dataframe\">\n",
       "  <thead>\n",
       "    <tr style=\"text-align: right;\">\n",
       "      <th></th>\n",
       "      <th>appr_catg</th>\n",
       "      <th>fund</th>\n",
       "      <th>fund_description</th>\n",
       "      <th>appr</th>\n",
       "      <th>division</th>\n",
       "      <th>pec_class</th>\n",
       "      <th>pec_class_description</th>\n",
       "      <th>allocation</th>\n",
       "      <th>expense</th>\n",
       "      <th>balance</th>\n",
       "      <th>projection</th>\n",
       "      <th>%_expended</th>\n",
       "      <th>ap</th>\n",
       "      <th>type</th>\n",
       "      <th>encumbrance</th>\n",
       "    </tr>\n",
       "  </thead>\n",
       "  <tbody>\n",
       "    <tr>\n",
       "      <th>127</th>\n",
       "      <td>2122</td>\n",
       "      <td>1</td>\n",
       "      <td>General Fund</td>\n",
       "      <td>22002</td>\n",
       "      <td>Local Assistance</td>\n",
       "      <td>2030</td>\n",
       "      <td>Local Assistance</td>\n",
       "      <td>1500000</td>\n",
       "      <td>0.00</td>\n",
       "      <td>1500000.00</td>\n",
       "      <td>0.00</td>\n",
       "      <td>0</td>\n",
       "      <td>4</td>\n",
       "      <td>PS</td>\n",
       "      <td>NaN</td>\n",
       "    </tr>\n",
       "    <tr>\n",
       "      <th>128</th>\n",
       "      <td>2122</td>\n",
       "      <td>1</td>\n",
       "      <td>General Fund</td>\n",
       "      <td>22030</td>\n",
       "      <td>Local Assistance</td>\n",
       "      <td>2030</td>\n",
       "      <td>Local Assistance</td>\n",
       "      <td>4001000</td>\n",
       "      <td>135511.93</td>\n",
       "      <td>3865488.07</td>\n",
       "      <td>406535.79</td>\n",
       "      <td>0.03387</td>\n",
       "      <td>4</td>\n",
       "      <td>PS</td>\n",
       "      <td>NaN</td>\n",
       "    </tr>\n",
       "    <tr>\n",
       "      <th>129</th>\n",
       "      <td>2122</td>\n",
       "      <td>1</td>\n",
       "      <td>General Fund</td>\n",
       "      <td>22030</td>\n",
       "      <td>DRISI</td>\n",
       "      <td>2041</td>\n",
       "      <td>Research</td>\n",
       "      <td>210000</td>\n",
       "      <td>0.00</td>\n",
       "      <td>210000.00</td>\n",
       "      <td>0.00</td>\n",
       "      <td>0</td>\n",
       "      <td>4</td>\n",
       "      <td>PS</td>\n",
       "      <td>NaN</td>\n",
       "    </tr>\n",
       "  </tbody>\n",
       "</table>\n",
       "</div>"
      ],
      "text/plain": [
       "     appr_catg  fund fund_description   appr          division  pec_class  \\\n",
       "127       2122     1     General Fund  22002  Local Assistance       2030   \n",
       "128       2122     1     General Fund  22030  Local Assistance       2030   \n",
       "129       2122     1     General Fund  22030             DRISI       2041   \n",
       "\n",
       "    pec_class_description  allocation    expense     balance  projection  \\\n",
       "127      Local Assistance     1500000       0.00  1500000.00        0.00   \n",
       "128      Local Assistance     4001000  135511.93  3865488.07   406535.79   \n",
       "129              Research      210000       0.00   210000.00        0.00   \n",
       "\n",
       "    %_expended  ap type  encumbrance  \n",
       "127          0   4   PS          NaN  \n",
       "128    0.03387   4   PS          NaN  \n",
       "129          0   4   PS          NaN  "
      ]
     },
     "execution_count": 87,
     "metadata": {},
     "output_type": "execute_result"
    }
   ],
   "source": [
    "psoe_df.head(3)"
   ]
  },
  {
   "cell_type": "code",
   "execution_count": 88,
   "id": "99d28341-4610-4703-9645-4301b84eb2ba",
   "metadata": {
    "scrolled": true,
    "tags": []
   },
   "outputs": [],
   "source": [
    "aero_og = psoe_df.loc[psoe_df[\"division\"] == \"Aeronautics\"]"
   ]
  },
  {
   "cell_type": "code",
   "execution_count": 89,
   "id": "9aec6ba6-8e4a-4b5c-ad23-51d1837c3682",
   "metadata": {},
   "outputs": [
    {
     "data": {
      "text/plain": [
       "(18, 15)"
      ]
     },
     "execution_count": 89,
     "metadata": {},
     "output_type": "execute_result"
    }
   ],
   "source": [
    "aero_og.shape"
   ]
  },
  {
   "cell_type": "code",
   "execution_count": 90,
   "id": "f4954615-7abd-45eb-9451-d3ed269e8d46",
   "metadata": {
    "scrolled": true,
    "tags": []
   },
   "outputs": [],
   "source": [
    "aero_test = pose_test.loc[pose_test[\"division\"] == \"Aeronautics\"]"
   ]
  },
  {
   "cell_type": "code",
   "execution_count": 91,
   "id": "2770bd93-851c-4e66-b930-403c424186ac",
   "metadata": {},
   "outputs": [
    {
     "data": {
      "text/plain": [
       "(18, 16)"
      ]
     },
     "execution_count": 91,
     "metadata": {},
     "output_type": "execute_result"
    }
   ],
   "source": [
    "aero_test.shape"
   ]
  },
  {
   "cell_type": "code",
   "execution_count": 92,
   "id": "7429e14d-74ea-40ce-9f43-3ca9863e7916",
   "metadata": {},
   "outputs": [],
   "source": [
    "test = set(pose_test.appropriation.unique().tolist())\n",
    "actual = set(psoe_df.appr.unique().tolist())"
   ]
  },
  {
   "cell_type": "code",
   "execution_count": 93,
   "id": "14df8914-6dd9-4731-aedf-c7def45543d2",
   "metadata": {},
   "outputs": [
    {
     "data": {
      "text/plain": [
       "set()"
      ]
     },
     "execution_count": 93,
     "metadata": {},
     "output_type": "execute_result"
    }
   ],
   "source": [
    "test - actual"
   ]
  },
  {
   "cell_type": "code",
   "execution_count": 94,
   "id": "cf3f1df1-7ef1-4c14-8c5c-118ef1486940",
   "metadata": {},
   "outputs": [
    {
     "data": {
      "text/plain": [
       "set()"
      ]
     },
     "execution_count": 94,
     "metadata": {},
     "output_type": "execute_result"
    }
   ],
   "source": [
    "actual - test"
   ]
  },
  {
   "cell_type": "code",
   "execution_count": 95,
   "id": "182495fc-c809-4a40-a0c4-4c20602e16b3",
   "metadata": {},
   "outputs": [],
   "source": [
    "cols_to_check = [\"expense\", \"balance\", \"projection\", \"encumbrance\"]"
   ]
  },
  {
   "cell_type": "code",
   "execution_count": 96,
   "id": "febbe859-e140-40c5-8a3e-6584e48dd35b",
   "metadata": {},
   "outputs": [
    {
     "name": "stdout",
     "output_type": "stream",
     "text": [
      "\n",
      "expense\n",
      "426608887.54\n",
      "426608887.5399998\n",
      "\n",
      "balance\n",
      "628609959.72\n",
      "628609959.72\n",
      "\n",
      "projection\n",
      "801899611.3598702\n",
      "731347906.9298706\n",
      "\n",
      "encumbrance\n",
      "340648152.74\n",
      "340648152.74000007\n"
     ]
    }
   ],
   "source": [
    "for i in cols_to_check:\n",
    "    print(\"\\n\" + i)\n",
    "    print(psoe_df[i].sum())\n",
    "    print(pose_test[i].sum())"
   ]
  }
 ],
 "metadata": {
  "kernelspec": {
   "display_name": "Python 3 (ipykernel)",
   "language": "python",
   "name": "python3"
  },
  "language_info": {
   "codemirror_mode": {
    "name": "ipython",
    "version": 3
   },
   "file_extension": ".py",
   "mimetype": "text/x-python",
   "name": "python",
   "nbconvert_exporter": "python",
   "pygments_lexer": "ipython3",
   "version": "3.10.4"
  }
 },
 "nbformat": 4,
 "nbformat_minor": 5
}
