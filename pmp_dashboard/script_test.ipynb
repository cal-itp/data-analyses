{
 "cells": [
  {
   "cell_type": "markdown",
   "id": "e009586a-a399-4b77-b649-0a2935b8df31",
   "metadata": {},
   "source": [
    "# Automate the Excel workbook linked to PMP Dashboard"
   ]
  },
  {
   "cell_type": "code",
   "execution_count": 1,
   "id": "fcb68152-f948-42ec-8f41-defb0755c9e2",
   "metadata": {},
   "outputs": [
    {
     "name": "stderr",
     "output_type": "stream",
     "text": [
      "/opt/conda/lib/python3.10/site-packages/geopandas/_compat.py:111: UserWarning: The Shapely GEOS version (3.10.2-CAPI-1.16.0) is incompatible with the GEOS version PyGEOS was compiled with (3.10.1-CAPI-1.16.0). Conversions between both will be slow.\n",
      "  warnings.warn(\n"
     ]
    }
   ],
   "source": [
    "import geopandas as gpd\n",
    "import numpy as np\n",
    "import pandas as pd\n",
    "from calitp import *\n",
    "from shared_utils import utils\n",
    "\n",
    "# Formatting the nb\n",
    "pd.options.display.max_columns = 100\n",
    "pd.set_option(\"display.max_rows\", None)\n",
    "pd.set_option(\"display.max_colwidth\", None)"
   ]
  },
  {
   "cell_type": "code",
   "execution_count": 2,
   "id": "687473de-a2ef-4ffd-89ad-dc0e2f502084",
   "metadata": {},
   "outputs": [],
   "source": [
    "GCS_FILE_PATH = \"gs://calitp-analytics-data/data-analyses/pmp_dashboard/\""
   ]
  },
  {
   "cell_type": "markdown",
   "id": "fb7b7136-cef9-446d-b1b0-0d3f7ec35207",
   "metadata": {},
   "source": [
    "## Load in data\n",
    "### Load manually cleaned df so I can reference "
   ]
  },
  {
   "cell_type": "code",
   "execution_count": 3,
   "id": "b1b3f223-16e9-4a86-922f-15e0c5ad69c9",
   "metadata": {},
   "outputs": [],
   "source": [
    "# DF that William manipulated\n",
    "FILE_NAME_1 = \"PMP Summary Report Data.xlsx\""
   ]
  },
  {
   "cell_type": "code",
   "execution_count": 4,
   "id": "c6a9c0b7-95b6-472d-ab6a-7811c43b4308",
   "metadata": {},
   "outputs": [],
   "source": [
    "# Sheets in William's notebook that I want\n",
    "sheets_list = [\"Fund by Division Data\", \"TPSOE Data\", \"Timeline Data\", \"PSOE Timeline\"]"
   ]
  },
  {
   "cell_type": "code",
   "execution_count": 5,
   "id": "ef13c9af-1d04-4dd6-b0b8-07370f75bb00",
   "metadata": {},
   "outputs": [],
   "source": [
    "dict_df1 = pd.read_excel(f\"{GCS_FILE_PATH}{FILE_NAME_1}\", sheet_name=sheets_list)"
   ]
  },
  {
   "cell_type": "code",
   "execution_count": 6,
   "id": "8a4154f7-cfc0-4a01-866d-adbcbc193879",
   "metadata": {},
   "outputs": [],
   "source": [
    "division_df = to_snakecase(dict_df1.get(\"Fund by Division Data\"))\n",
    "tpsoe_df = to_snakecase(dict_df1.get(\"TPSOE Data\"))\n",
    "timeline_df = to_snakecase(dict_df1.get(\"Timeline Data\"))\n",
    "psoe_df = to_snakecase(dict_df1.get(\"PSOE Timeline\"))"
   ]
  },
  {
   "cell_type": "markdown",
   "id": "a9a0f20a-2008-4430-bfb4-a89412740ca1",
   "metadata": {},
   "source": [
    "### Load in & clean data for each accounting period"
   ]
  },
  {
   "cell_type": "code",
   "execution_count": 7,
   "id": "c0b316fe-703d-4107-a420-bd4eedb6a26e",
   "metadata": {},
   "outputs": [],
   "source": [
    "div_crosswalks= {\n",
    "            \"State & Fed Mass Trans\": \"DRMT\",\n",
    "            \"Statewide Planning\": \"DOTP\",\n",
    "            \"Research\": \"DRISI\",\n",
    "            \"PSR/PSSR Development\": \"DOTP\",\n",
    "            \"Rail\": \"DRMT\",\n",
    "            \"Planning Administration\": \"DOTP\",\n",
    "            \"Regional Planning\": \"DOTP\",\n",
    "        }"
   ]
  },
  {
   "cell_type": "code",
   "execution_count": 8,
   "id": "d0bfe101-70ca-4944-b6ed-1ed1c46a541e",
   "metadata": {},
   "outputs": [],
   "source": [
    "'''\n",
    "Each time I receive a new data for each accounting period and \n",
    "#load data into function import_raw_data, the dataframe will be \n",
    "#appended onto this list\n",
    "'''\n",
    "my_clean_dataframes = []"
   ]
  },
  {
   "cell_type": "code",
   "execution_count": 9,
   "id": "3c9bcbb2-2ab1-4627-b947-d6bd0d6a5660",
   "metadata": {},
   "outputs": [],
   "source": [
    "unwanted_appropriations = [\"22105\"]\n",
    "    "
   ]
  },
  {
   "cell_type": "code",
   "execution_count": 10,
   "id": "0ee7dcdd-3957-45bc-8209-0119b3dd0520",
   "metadata": {},
   "outputs": [],
   "source": [
    "def import_raw_data(file_name: str, name_of_sheet: str, appropriations_to_filter: list):\n",
    "    \n",
    "    '''\n",
    "    Name_of_sheet: name of Excel tab that contains data\n",
    "    Appropriations_to_filter: certain appropriations are filtered out\n",
    "    but this is subject to change. A list of what to filter allows for \n",
    "    flexibility.\n",
    "    '''\n",
    "    \n",
    "    # Read in file\n",
    "    df = pd.read_excel(f\"{GCS_FILE_PATH}{file_name}\", sheet_name=name_of_sheet)\n",
    "\n",
    "    # Get rid of the unnecessary header info\n",
    "    # Stuff like \"Enterprise Datalink Production download as of 05/23/2022\"\n",
    "    df = df.iloc[13:].reset_index(drop=True)\n",
    "\n",
    "    # The first row contains column names\n",
    "    df.columns = df.iloc[0]\n",
    "\n",
    "    # Drop the first row as they are now column names\n",
    "    df = df.drop(df.index[0]).reset_index(drop=True)\n",
    "\n",
    "    # Drop rows with NA in the certain cols,\n",
    "    # Since those are probably the grand totals tagged at the end of the Excel sheet\n",
    "    df = df.dropna(subset=[\"Appr Catg\", \"Appr\", \"PEC Class\", \"PEC Class Description\"])\n",
    "    \n",
    "    # Snakecase\n",
    "    df = to_snakecase(df)\n",
    "    \n",
    "    # Rename columns to mimc dashboard\n",
    "    df = df.rename(\n",
    "        columns={\n",
    "            \"pec_class_description\": \"division\",\n",
    "            \"ps_alloc\": \"ps_allocation\",\n",
    "            \"ps_exp\": \"ps_expenditure\",\n",
    "            \"ps_bal\": \"ps_balance\",\n",
    "            \"total_projected_%\": \"total_%_expended\",\n",
    "            \"oe_alloc\": \"oe_allocation\",\n",
    "            \"oe_enc\": \"oe_encumbrance\",\n",
    "            \"oe_exp\": \"oe_expenditure\",\n",
    "            \"appr\": \"appropriation\",\n",
    "            \"total_expended___encumbrance\": \"total_expenditure\",\n",
    "            \"oe_bal_excl_pre_enc\": \"oe_balance\",\n",
    "            \"oe__enc_+_oe_exp_projection\": \"oe_enc_+_oe_exp_projection\",\n",
    "        }\n",
    "    )\n",
    "    \n",
    "    # Certain appropriation(s) are filtered out:\n",
    "    df = df[\n",
    "    ~df.appropriation.isin(appropriations_to_filter)]\n",
    "    \n",
    "    # Narrow down division names\n",
    "    df[\"division\"] = df[\"division\"].replace(div_crosswalks)\n",
    "    \n",
    "    #Adding dataframe to an empty list\n",
    "    my_clean_dataframes.append(df)\n",
    "    \n",
    "    return df"
   ]
  },
  {
   "cell_type": "code",
   "execution_count": 11,
   "id": "b4e26117-e0bb-48ef-8aef-cff64524910b",
   "metadata": {},
   "outputs": [],
   "source": [
    "ap4 = import_raw_data(\"AP4.xls\", \"Download\", unwanted_appropriations)"
   ]
  },
  {
   "cell_type": "code",
   "execution_count": 12,
   "id": "0941189b-a97e-4539-8d90-99a44e88ea8c",
   "metadata": {},
   "outputs": [],
   "source": [
    "ap7 = import_raw_data(\"AP7.xls\", \"Download\", unwanted_appropriations)"
   ]
  },
  {
   "cell_type": "code",
   "execution_count": 13,
   "id": "3a3a18da-5c34-444a-9008-36f973eee3ac",
   "metadata": {},
   "outputs": [],
   "source": [
    "ap11 = import_raw_data( \"FY 2122 AP12_Closed_PMP Summary Report.022822_Updated.xlsx\", \"Raw Data AP12 Closed\", unwanted_appropriations)"
   ]
  },
  {
   "cell_type": "code",
   "execution_count": 14,
   "id": "f69c1a82-2824-43ed-914e-874f4ceeb4f9",
   "metadata": {},
   "outputs": [
    {
     "data": {
      "text/plain": [
       "3"
      ]
     },
     "execution_count": 14,
     "metadata": {},
     "output_type": "execute_result"
    }
   ],
   "source": [
    "len(my_clean_dataframes)"
   ]
  },
  {
   "cell_type": "markdown",
   "id": "b891fd53-12d1-4271-a804-8e35e1789577",
   "metadata": {},
   "source": [
    "## Fund by Division Data\n",
    "* Attempt to mimic William's processed sheet called \"division df\"\n",
    "* This dataframe is AP 11 with some stuff filtered"
   ]
  },
  {
   "cell_type": "code",
   "execution_count": 16,
   "id": "765b63de-c309-45f2-a228-57b339c07e4d",
   "metadata": {},
   "outputs": [],
   "source": [
    "def fund_by_division_data(df):\n",
    "    # Drop excluded cols\n",
    "    excluded_cols = [\"appr_catg\", \"act__hours\", \"py_pos_alloc\"]\n",
    "    df = ap11.drop(columns=excluded_cols)\n",
    "    \n",
    "    # Add a blank column for notes\n",
    "    df[\"notes\"] = np.nan\n",
    "    \n",
    "    return df"
   ]
  },
  {
   "cell_type": "code",
   "execution_count": 17,
   "id": "bd956c1a-fc26-4c52-b491-ef3138223748",
   "metadata": {},
   "outputs": [],
   "source": [
    "# Start of script\n",
    "# Drop excluded cols\n",
    "excluded_cols = [\"appr_catg\", \"act__hours\", \"py_pos_alloc\"]\n",
    "division_test = ap11.drop(columns=excluded_cols)"
   ]
  },
  {
   "cell_type": "code",
   "execution_count": 18,
   "id": "6ba5993a-297c-43b6-94a0-dbc9296af901",
   "metadata": {},
   "outputs": [],
   "source": [
    "# Add a blank column for notes\n",
    "division_test[\"notes\"] = np.nan"
   ]
  },
  {
   "cell_type": "code",
   "execution_count": 19,
   "id": "3ec89d17-9ccb-4808-bc91-d6670ba7713b",
   "metadata": {},
   "outputs": [],
   "source": [
    "# Filter out for the appropriations\n",
    "unwanted_appropriations = [\"1850522\", \"22102\", \"22105\"]"
   ]
  },
  {
   "cell_type": "code",
   "execution_count": 20,
   "id": "f40741d2-6817-4f3d-96d4-404310f62f9b",
   "metadata": {},
   "outputs": [],
   "source": [
    "# filter them all out at once.\n",
    "division_test = division_test[\n",
    "    ~division_test.appropriation.isin(unwanted_appropriations)\n",
    "]"
   ]
  },
  {
   "cell_type": "markdown",
   "id": "3a293508-feb9-40e8-8a3f-c989bab9ba6f",
   "metadata": {},
   "source": [
    "### Double checking: William's vs mine"
   ]
  },
  {
   "cell_type": "code",
   "execution_count": 21,
   "id": "0c7b20fb-7f32-412b-9931-2c5ef28029e3",
   "metadata": {},
   "outputs": [],
   "source": [
    "test = set(division_test.appropriation.unique().tolist())\n",
    "actual = set(division_df.appropriation.unique().tolist())"
   ]
  },
  {
   "cell_type": "code",
   "execution_count": 22,
   "id": "b7c61586-fbb2-48d7-9366-2d8ef4912c7e",
   "metadata": {},
   "outputs": [
    {
     "data": {
      "text/plain": [
       "['Local Assistance', 'DRMT', 'DOTP', 'Aeronautics', 'DRISI']"
      ]
     },
     "execution_count": 22,
     "metadata": {},
     "output_type": "execute_result"
    }
   ],
   "source": [
    "division_test.division.unique().tolist()"
   ]
  },
  {
   "cell_type": "code",
   "execution_count": 23,
   "id": "cf68bcc1-9ff5-49fd-9a55-218dfe635090",
   "metadata": {},
   "outputs": [
    {
     "data": {
      "text/plain": [
       "['Aeronautics', 'Local Assistance', 'DRISI', 'DRMT', 'DOTP']"
      ]
     },
     "execution_count": 23,
     "metadata": {},
     "output_type": "execute_result"
    }
   ],
   "source": [
    "division_df.division.unique().tolist()"
   ]
  },
  {
   "cell_type": "code",
   "execution_count": 24,
   "id": "4cf6dc76-b9d6-4f40-b1c9-0e2d36787e95",
   "metadata": {},
   "outputs": [
    {
     "data": {
      "text/plain": [
       "set()"
      ]
     },
     "execution_count": 24,
     "metadata": {},
     "output_type": "execute_result"
    }
   ],
   "source": [
    "actual - test"
   ]
  },
  {
   "cell_type": "code",
   "execution_count": 25,
   "id": "d243147b-d7fd-483f-82fc-18d32692f043",
   "metadata": {},
   "outputs": [
    {
     "data": {
      "text/plain": [
       "set()"
      ]
     },
     "execution_count": 25,
     "metadata": {},
     "output_type": "execute_result"
    }
   ],
   "source": [
    "test - actual"
   ]
  },
  {
   "cell_type": "code",
   "execution_count": 26,
   "id": "c296c184-ca83-44c3-89ee-19732b18c9a4",
   "metadata": {
    "scrolled": true,
    "tags": []
   },
   "outputs": [],
   "source": [
    "#division_test[['appropriation','ps_allocation']].sort_values(['appropriation', 'ps_allocation'])"
   ]
  },
  {
   "cell_type": "code",
   "execution_count": 27,
   "id": "d00b2cc5-f552-414c-8220-d13ba2a3ad6d",
   "metadata": {
    "scrolled": true,
    "tags": []
   },
   "outputs": [],
   "source": [
    "#division_df[['appropriation','ps_allocation']].sort_values(['appropriation', 'ps_allocation'])"
   ]
  },
  {
   "cell_type": "code",
   "execution_count": 28,
   "id": "7e54f52f-f60a-401b-9185-da1705b71478",
   "metadata": {},
   "outputs": [
    {
     "data": {
      "text/html": [
       "<div>\n",
       "<style scoped>\n",
       "    .dataframe tbody tr th:only-of-type {\n",
       "        vertical-align: middle;\n",
       "    }\n",
       "\n",
       "    .dataframe tbody tr th {\n",
       "        vertical-align: top;\n",
       "    }\n",
       "\n",
       "    .dataframe thead th {\n",
       "        text-align: right;\n",
       "    }\n",
       "</style>\n",
       "<table border=\"1\" class=\"dataframe\">\n",
       "  <thead>\n",
       "    <tr style=\"text-align: right;\">\n",
       "      <th></th>\n",
       "      <th>pec_class</th>\n",
       "      <th>division</th>\n",
       "      <th>fund</th>\n",
       "      <th>fund_description</th>\n",
       "      <th>appropriation</th>\n",
       "      <th>ps_allocation</th>\n",
       "      <th>ps_expenditure</th>\n",
       "      <th>ps_balance</th>\n",
       "      <th>ps_projection</th>\n",
       "      <th>year_end_expendded_pace</th>\n",
       "      <th>ps_%_expended</th>\n",
       "      <th>oe_allocation</th>\n",
       "      <th>oe_encumbrance</th>\n",
       "      <th>oe_expenditure</th>\n",
       "      <th>oe_balance</th>\n",
       "      <th>oe_enc_+_oe_exp_projection</th>\n",
       "      <th>oe_%_expended</th>\n",
       "      <th>total_allocation</th>\n",
       "      <th>total_expenditure</th>\n",
       "      <th>total_balance</th>\n",
       "      <th>total_projection</th>\n",
       "      <th>total_%_expended</th>\n",
       "      <th>notes</th>\n",
       "    </tr>\n",
       "  </thead>\n",
       "  <tbody>\n",
       "    <tr>\n",
       "      <th>3</th>\n",
       "      <td>2030</td>\n",
       "      <td>Local Assistance</td>\n",
       "      <td>1</td>\n",
       "      <td>General Fund</td>\n",
       "      <td>22030</td>\n",
       "      <td>2625000</td>\n",
       "      <td>1265708.14</td>\n",
       "      <td>1359291.86</td>\n",
       "      <td>1.380773e+06</td>\n",
       "      <td>0.526009</td>\n",
       "      <td>0.482175</td>\n",
       "      <td>27000</td>\n",
       "      <td>1593.74</td>\n",
       "      <td>10119.4</td>\n",
       "      <td>15286.86</td>\n",
       "      <td>12633.085455</td>\n",
       "      <td>0.467892</td>\n",
       "      <td>2652000</td>\n",
       "      <td>1277421.28</td>\n",
       "      <td>1374578.72</td>\n",
       "      <td>1.393406e+06</td>\n",
       "      <td>0.481682</td>\n",
       "      <td>NaN</td>\n",
       "    </tr>\n",
       "    <tr>\n",
       "      <th>14</th>\n",
       "      <td>2041</td>\n",
       "      <td>DRISI</td>\n",
       "      <td>1</td>\n",
       "      <td>General Fund</td>\n",
       "      <td>22030</td>\n",
       "      <td>0</td>\n",
       "      <td>0.00</td>\n",
       "      <td>0.00</td>\n",
       "      <td>0.000000e+00</td>\n",
       "      <td>0.000000</td>\n",
       "      <td>0.000000</td>\n",
       "      <td>0</td>\n",
       "      <td>0.00</td>\n",
       "      <td>0.0</td>\n",
       "      <td>0.00</td>\n",
       "      <td>0.000000</td>\n",
       "      <td>0.000000</td>\n",
       "      <td>0</td>\n",
       "      <td>0.00</td>\n",
       "      <td>0.00</td>\n",
       "      <td>0.000000e+00</td>\n",
       "      <td>0.000000</td>\n",
       "      <td>NaN</td>\n",
       "    </tr>\n",
       "    <tr>\n",
       "      <th>19</th>\n",
       "      <td>3010</td>\n",
       "      <td>DRMT</td>\n",
       "      <td>1</td>\n",
       "      <td>General Fund</td>\n",
       "      <td>22030</td>\n",
       "      <td>150000</td>\n",
       "      <td>145312.79</td>\n",
       "      <td>4687.21</td>\n",
       "      <td>1.585230e+05</td>\n",
       "      <td>1.056820</td>\n",
       "      <td>0.968752</td>\n",
       "      <td>2000</td>\n",
       "      <td>0.00</td>\n",
       "      <td>0.0</td>\n",
       "      <td>2000.00</td>\n",
       "      <td>0.000000</td>\n",
       "      <td>0.000000</td>\n",
       "      <td>152000</td>\n",
       "      <td>145312.79</td>\n",
       "      <td>6687.21</td>\n",
       "      <td>1.585230e+05</td>\n",
       "      <td>0.956005</td>\n",
       "      <td>NaN</td>\n",
       "    </tr>\n",
       "    <tr>\n",
       "      <th>28</th>\n",
       "      <td>3020</td>\n",
       "      <td>DRMT</td>\n",
       "      <td>1</td>\n",
       "      <td>General Fund</td>\n",
       "      <td>22030</td>\n",
       "      <td>0</td>\n",
       "      <td>0.00</td>\n",
       "      <td>0.00</td>\n",
       "      <td>0.000000e+00</td>\n",
       "      <td>0.000000</td>\n",
       "      <td>0.000000</td>\n",
       "      <td>0</td>\n",
       "      <td>0.00</td>\n",
       "      <td>0.0</td>\n",
       "      <td>0.00</td>\n",
       "      <td>0.000000</td>\n",
       "      <td>0.000000</td>\n",
       "      <td>0</td>\n",
       "      <td>0.00</td>\n",
       "      <td>0.00</td>\n",
       "      <td>0.000000e+00</td>\n",
       "      <td>0.000000</td>\n",
       "      <td>NaN</td>\n",
       "    </tr>\n",
       "    <tr>\n",
       "      <th>36</th>\n",
       "      <td>4010</td>\n",
       "      <td>DOTP</td>\n",
       "      <td>1</td>\n",
       "      <td>General Fund</td>\n",
       "      <td>22030</td>\n",
       "      <td>150000</td>\n",
       "      <td>166142.55</td>\n",
       "      <td>-16142.55</td>\n",
       "      <td>1.812464e+05</td>\n",
       "      <td>1.208309</td>\n",
       "      <td>1.107617</td>\n",
       "      <td>2000</td>\n",
       "      <td>0.00</td>\n",
       "      <td>0.0</td>\n",
       "      <td>2000.00</td>\n",
       "      <td>0.000000</td>\n",
       "      <td>0.000000</td>\n",
       "      <td>152000</td>\n",
       "      <td>166142.55</td>\n",
       "      <td>-14142.55</td>\n",
       "      <td>1.812464e+05</td>\n",
       "      <td>1.093043</td>\n",
       "      <td>NaN</td>\n",
       "    </tr>\n",
       "  </tbody>\n",
       "</table>\n",
       "</div>"
      ],
      "text/plain": [
       "    pec_class          division  fund fund_description appropriation  \\\n",
       "3        2030  Local Assistance     1     General Fund         22030   \n",
       "14       2041             DRISI     1     General Fund         22030   \n",
       "19       3010              DRMT     1     General Fund         22030   \n",
       "28       3020              DRMT     1     General Fund         22030   \n",
       "36       4010              DOTP     1     General Fund         22030   \n",
       "\n",
       "    ps_allocation  ps_expenditure  ps_balance  ps_projection  \\\n",
       "3         2625000      1265708.14  1359291.86   1.380773e+06   \n",
       "14              0            0.00        0.00   0.000000e+00   \n",
       "19         150000       145312.79     4687.21   1.585230e+05   \n",
       "28              0            0.00        0.00   0.000000e+00   \n",
       "36         150000       166142.55   -16142.55   1.812464e+05   \n",
       "\n",
       "    year_end_expendded_pace  ps_%_expended  oe_allocation  oe_encumbrance  \\\n",
       "3                  0.526009       0.482175          27000         1593.74   \n",
       "14                 0.000000       0.000000              0            0.00   \n",
       "19                 1.056820       0.968752           2000            0.00   \n",
       "28                 0.000000       0.000000              0            0.00   \n",
       "36                 1.208309       1.107617           2000            0.00   \n",
       "\n",
       "    oe_expenditure  oe_balance  oe_enc_+_oe_exp_projection  oe_%_expended  \\\n",
       "3          10119.4    15286.86                12633.085455       0.467892   \n",
       "14             0.0        0.00                    0.000000       0.000000   \n",
       "19             0.0     2000.00                    0.000000       0.000000   \n",
       "28             0.0        0.00                    0.000000       0.000000   \n",
       "36             0.0     2000.00                    0.000000       0.000000   \n",
       "\n",
       "    total_allocation  total_expenditure  total_balance  total_projection  \\\n",
       "3            2652000         1277421.28     1374578.72      1.393406e+06   \n",
       "14                 0               0.00           0.00      0.000000e+00   \n",
       "19            152000          145312.79        6687.21      1.585230e+05   \n",
       "28                 0               0.00           0.00      0.000000e+00   \n",
       "36            152000          166142.55      -14142.55      1.812464e+05   \n",
       "\n",
       "    total_%_expended  notes  \n",
       "3           0.481682    NaN  \n",
       "14          0.000000    NaN  \n",
       "19          0.956005    NaN  \n",
       "28          0.000000    NaN  \n",
       "36          1.093043    NaN  "
      ]
     },
     "execution_count": 28,
     "metadata": {},
     "output_type": "execute_result"
    }
   ],
   "source": [
    "division_df.loc[division_df[\"appropriation\"] == \"22030\"]"
   ]
  },
  {
   "cell_type": "code",
   "execution_count": 29,
   "id": "e0fe317b-82af-47df-85b1-8a67fec79f41",
   "metadata": {},
   "outputs": [
    {
     "data": {
      "text/html": [
       "<div>\n",
       "<style scoped>\n",
       "    .dataframe tbody tr th:only-of-type {\n",
       "        vertical-align: middle;\n",
       "    }\n",
       "\n",
       "    .dataframe tbody tr th {\n",
       "        vertical-align: top;\n",
       "    }\n",
       "\n",
       "    .dataframe thead th {\n",
       "        text-align: right;\n",
       "    }\n",
       "</style>\n",
       "<table border=\"1\" class=\"dataframe\">\n",
       "  <thead>\n",
       "    <tr style=\"text-align: right;\">\n",
       "      <th></th>\n",
       "      <th>fund</th>\n",
       "      <th>fund_description</th>\n",
       "      <th>appropriation</th>\n",
       "      <th>pec_class</th>\n",
       "      <th>division</th>\n",
       "      <th>ps_allocation</th>\n",
       "      <th>ps_expenditure</th>\n",
       "      <th>ps_balance</th>\n",
       "      <th>ps_projection</th>\n",
       "      <th>year_end_expendded_pace</th>\n",
       "      <th>ps_%_expended</th>\n",
       "      <th>oe_allocation</th>\n",
       "      <th>oe_encumbrance</th>\n",
       "      <th>oe_expenditure</th>\n",
       "      <th>oe_balance</th>\n",
       "      <th>oe_enc_+_oe_exp_projection</th>\n",
       "      <th>oe_%_expended</th>\n",
       "      <th>total_allocation</th>\n",
       "      <th>total_expenditure</th>\n",
       "      <th>total_balance</th>\n",
       "      <th>total_projection</th>\n",
       "      <th>total_%_expended</th>\n",
       "      <th>notes</th>\n",
       "    </tr>\n",
       "  </thead>\n",
       "  <tbody>\n",
       "    <tr>\n",
       "      <th>1</th>\n",
       "      <td>0001</td>\n",
       "      <td>General Fund</td>\n",
       "      <td>22030</td>\n",
       "      <td>2030</td>\n",
       "      <td>Local Assistance</td>\n",
       "      <td>2625000</td>\n",
       "      <td>1405981.81</td>\n",
       "      <td>1219018.19</td>\n",
       "      <td>1405981.81</td>\n",
       "      <td>0.535612</td>\n",
       "      <td>0.535612</td>\n",
       "      <td>27000</td>\n",
       "      <td>1593.74</td>\n",
       "      <td>10119.4</td>\n",
       "      <td>15286.86</td>\n",
       "      <td>11713.14</td>\n",
       "      <td>0.43382</td>\n",
       "      <td>2652000</td>\n",
       "      <td>1417694.95</td>\n",
       "      <td>1234305.05</td>\n",
       "      <td>1417694.95</td>\n",
       "      <td>0.534576</td>\n",
       "      <td>NaN</td>\n",
       "    </tr>\n",
       "    <tr>\n",
       "      <th>2</th>\n",
       "      <td>0001</td>\n",
       "      <td>General Fund</td>\n",
       "      <td>22030</td>\n",
       "      <td>3010</td>\n",
       "      <td>DRMT</td>\n",
       "      <td>150000</td>\n",
       "      <td>149442.4</td>\n",
       "      <td>557.6</td>\n",
       "      <td>149442.4</td>\n",
       "      <td>0.996283</td>\n",
       "      <td>0.996283</td>\n",
       "      <td>2000</td>\n",
       "      <td>0</td>\n",
       "      <td>0</td>\n",
       "      <td>2000</td>\n",
       "      <td>0</td>\n",
       "      <td>0</td>\n",
       "      <td>152000</td>\n",
       "      <td>149442.4</td>\n",
       "      <td>2557.6</td>\n",
       "      <td>149442.4</td>\n",
       "      <td>0.983174</td>\n",
       "      <td>NaN</td>\n",
       "    </tr>\n",
       "    <tr>\n",
       "      <th>3</th>\n",
       "      <td>0001</td>\n",
       "      <td>General Fund</td>\n",
       "      <td>22030</td>\n",
       "      <td>4010</td>\n",
       "      <td>DOTP</td>\n",
       "      <td>150000</td>\n",
       "      <td>153219.06</td>\n",
       "      <td>-3219.06</td>\n",
       "      <td>153219.06</td>\n",
       "      <td>1.02146</td>\n",
       "      <td>1.02146</td>\n",
       "      <td>2000</td>\n",
       "      <td>0</td>\n",
       "      <td>0</td>\n",
       "      <td>2000</td>\n",
       "      <td>0</td>\n",
       "      <td>0</td>\n",
       "      <td>152000</td>\n",
       "      <td>153219.06</td>\n",
       "      <td>-1219.06</td>\n",
       "      <td>153219.06</td>\n",
       "      <td>1.00802</td>\n",
       "      <td>NaN</td>\n",
       "    </tr>\n",
       "  </tbody>\n",
       "</table>\n",
       "</div>"
      ],
      "text/plain": [
       "0  fund fund_description appropriation pec_class          division  \\\n",
       "1  0001     General Fund         22030      2030  Local Assistance   \n",
       "2  0001     General Fund         22030      3010              DRMT   \n",
       "3  0001     General Fund         22030      4010              DOTP   \n",
       "\n",
       "0 ps_allocation ps_expenditure  ps_balance ps_projection  \\\n",
       "1       2625000     1405981.81  1219018.19    1405981.81   \n",
       "2        150000       149442.4       557.6      149442.4   \n",
       "3        150000      153219.06    -3219.06     153219.06   \n",
       "\n",
       "0 year_end_expendded_pace ps_%_expended oe_allocation oe_encumbrance  \\\n",
       "1                0.535612      0.535612         27000        1593.74   \n",
       "2                0.996283      0.996283          2000              0   \n",
       "3                 1.02146       1.02146          2000              0   \n",
       "\n",
       "0 oe_expenditure oe_balance oe_enc_+_oe_exp_projection oe_%_expended  \\\n",
       "1        10119.4   15286.86                   11713.14       0.43382   \n",
       "2              0       2000                          0             0   \n",
       "3              0       2000                          0             0   \n",
       "\n",
       "0 total_allocation total_expenditure total_balance total_projection  \\\n",
       "1          2652000        1417694.95    1234305.05       1417694.95   \n",
       "2           152000          149442.4        2557.6         149442.4   \n",
       "3           152000         153219.06      -1219.06        153219.06   \n",
       "\n",
       "0 total_%_expended  notes  \n",
       "1         0.534576    NaN  \n",
       "2         0.983174    NaN  \n",
       "3          1.00802    NaN  "
      ]
     },
     "execution_count": 29,
     "metadata": {},
     "output_type": "execute_result"
    }
   ],
   "source": [
    "division_test.loc[division_test[\"appropriation\"] == \"22030\"]"
   ]
  },
  {
   "cell_type": "code",
   "execution_count": 30,
   "id": "372a4a12-20b9-4164-9489-ada961d87f36",
   "metadata": {},
   "outputs": [],
   "source": [
    "testing_cols = [\n",
    "    \"ps_allocation\",\n",
    "    \"ps_expenditure\",\n",
    "    \"ps_balance\",\n",
    "    \"ps_projection\",\n",
    "    \"oe_allocation\",\n",
    "    \"oe_encumbrance\",\n",
    "    \"oe_expenditure\",\n",
    "    \"total_allocation\",\n",
    "    \"total_expenditure\",\n",
    "    \"total_balance\",\n",
    "]"
   ]
  },
  {
   "cell_type": "code",
   "execution_count": 31,
   "id": "8693ca0e-e776-4985-8401-b75fd3b5488d",
   "metadata": {},
   "outputs": [
    {
     "name": "stdout",
     "output_type": "stream",
     "text": [
      "\n",
      "ps_allocation\n",
      "230928000\n",
      "230928000\n",
      "\n",
      "ps_expenditure\n",
      "183147623.15\n",
      "201928225.22999996\n",
      "\n",
      "ps_balance\n",
      "47780376.85\n",
      "28999774.77\n",
      "\n",
      "ps_projection\n",
      "199797407.0727273\n",
      "201928225.22999996\n",
      "\n",
      "oe_allocation\n",
      "232735000\n",
      "232735000\n",
      "\n",
      "oe_encumbrance\n",
      "104147405.69\n",
      "170029484.92000005\n",
      "\n",
      "oe_expenditure\n",
      "33504730.379999995\n",
      "38693682.68\n",
      "\n",
      "total_allocation\n",
      "463663000\n",
      "463663000\n",
      "\n",
      "total_expenditure\n",
      "320799759.2200001\n",
      "410651392.8300001\n",
      "\n",
      "total_balance\n",
      "142863240.78\n",
      "53011607.16999999\n"
     ]
    }
   ],
   "source": [
    "for i in testing_cols:\n",
    "    print(\"\\n\" + i)\n",
    "    print(division_df[i].sum())\n",
    "    print(division_test[i].sum())"
   ]
  },
  {
   "cell_type": "code",
   "execution_count": 32,
   "id": "d348e991-d1ac-42a1-b0c6-88de0f3b394b",
   "metadata": {
    "scrolled": true,
    "tags": []
   },
   "outputs": [
    {
     "name": "stdout",
     "output_type": "stream",
     "text": [
      "<class 'pandas.core.frame.DataFrame'>\n",
      "RangeIndex: 50 entries, 0 to 49\n",
      "Data columns (total 23 columns):\n",
      " #   Column                      Non-Null Count  Dtype  \n",
      "---  ------                      --------------  -----  \n",
      " 0   pec_class                   50 non-null     int64  \n",
      " 1   division                    50 non-null     object \n",
      " 2   fund                        50 non-null     int64  \n",
      " 3   fund_description            50 non-null     object \n",
      " 4   appropriation               50 non-null     object \n",
      " 5   ps_allocation               50 non-null     int64  \n",
      " 6   ps_expenditure              50 non-null     float64\n",
      " 7   ps_balance                  50 non-null     float64\n",
      " 8   ps_projection               50 non-null     float64\n",
      " 9   year_end_expendded_pace     50 non-null     float64\n",
      " 10  ps_%_expended               50 non-null     float64\n",
      " 11  oe_allocation               50 non-null     int64  \n",
      " 12  oe_encumbrance              50 non-null     float64\n",
      " 13  oe_expenditure              50 non-null     float64\n",
      " 14  oe_balance                  50 non-null     float64\n",
      " 15  oe_enc_+_oe_exp_projection  50 non-null     float64\n",
      " 16  oe_%_expended               50 non-null     float64\n",
      " 17  total_allocation            50 non-null     int64  \n",
      " 18  total_expenditure           50 non-null     float64\n",
      " 19  total_balance               50 non-null     float64\n",
      " 20  total_projection            50 non-null     float64\n",
      " 21  total_%_expended            50 non-null     float64\n",
      " 22  notes                       0 non-null      float64\n",
      "dtypes: float64(15), int64(5), object(3)\n",
      "memory usage: 9.1+ KB\n",
      "<class 'pandas.core.frame.DataFrame'>\n",
      "Int64Index: 48 entries, 0 to 54\n",
      "Data columns (total 23 columns):\n",
      " #   Column                      Non-Null Count  Dtype  \n",
      "---  ------                      --------------  -----  \n",
      " 0   fund                        48 non-null     object \n",
      " 1   fund_description            48 non-null     object \n",
      " 2   appropriation               48 non-null     object \n",
      " 3   pec_class                   48 non-null     object \n",
      " 4   division                    48 non-null     object \n",
      " 5   ps_allocation               48 non-null     object \n",
      " 6   ps_expenditure              48 non-null     object \n",
      " 7   ps_balance                  48 non-null     object \n",
      " 8   ps_projection               48 non-null     object \n",
      " 9   year_end_expendded_pace     48 non-null     object \n",
      " 10  ps_%_expended               48 non-null     object \n",
      " 11  oe_allocation               48 non-null     object \n",
      " 12  oe_encumbrance              48 non-null     object \n",
      " 13  oe_expenditure              48 non-null     object \n",
      " 14  oe_balance                  48 non-null     object \n",
      " 15  oe_enc_+_oe_exp_projection  48 non-null     object \n",
      " 16  oe_%_expended               48 non-null     object \n",
      " 17  total_allocation            48 non-null     object \n",
      " 18  total_expenditure           48 non-null     object \n",
      " 19  total_balance               48 non-null     object \n",
      " 20  total_projection            48 non-null     object \n",
      " 21  total_%_expended            48 non-null     object \n",
      " 22  notes                       0 non-null      float64\n",
      "dtypes: float64(1), object(22)\n",
      "memory usage: 9.0+ KB\n"
     ]
    },
    {
     "data": {
      "text/plain": [
       "(None, None)"
      ]
     },
     "execution_count": 32,
     "metadata": {},
     "output_type": "execute_result"
    }
   ],
   "source": [
    "division_df.info(), division_test.info()"
   ]
  },
  {
   "cell_type": "markdown",
   "id": "f844cd1c-51a3-4eee-b1c7-7089480c59dd",
   "metadata": {},
   "source": [
    "## TPSOE Data"
   ]
  },
  {
   "cell_type": "code",
   "execution_count": 33,
   "id": "8180abc5-9384-446a-9aea-dbd4a325c2a5",
   "metadata": {
    "tags": []
   },
   "outputs": [
    {
     "data": {
      "text/html": [
       "<div>\n",
       "<style scoped>\n",
       "    .dataframe tbody tr th:only-of-type {\n",
       "        vertical-align: middle;\n",
       "    }\n",
       "\n",
       "    .dataframe tbody tr th {\n",
       "        vertical-align: top;\n",
       "    }\n",
       "\n",
       "    .dataframe thead th {\n",
       "        text-align: right;\n",
       "    }\n",
       "</style>\n",
       "<table border=\"1\" class=\"dataframe\">\n",
       "  <thead>\n",
       "    <tr style=\"text-align: right;\">\n",
       "      <th></th>\n",
       "      <th>pec_class</th>\n",
       "      <th>division</th>\n",
       "      <th>fund</th>\n",
       "      <th>fund_description</th>\n",
       "      <th>appropriation</th>\n",
       "      <th>type</th>\n",
       "      <th>allocation</th>\n",
       "      <th>expenditure</th>\n",
       "      <th>balance</th>\n",
       "      <th>encumbrance</th>\n",
       "      <th>projection</th>\n",
       "      <th>year_end_expendded_pace</th>\n",
       "      <th>%_expended</th>\n",
       "      <th>notes</th>\n",
       "    </tr>\n",
       "  </thead>\n",
       "  <tbody>\n",
       "    <tr>\n",
       "      <th>0</th>\n",
       "      <td>1000</td>\n",
       "      <td>Aeronautics</td>\n",
       "      <td>41</td>\n",
       "      <td>Aeronautics Account STF</td>\n",
       "      <td>22001</td>\n",
       "      <td>PS</td>\n",
       "      <td>3742000</td>\n",
       "      <td>2668503.64</td>\n",
       "      <td>1073496.36</td>\n",
       "      <td>NaN</td>\n",
       "      <td>2.911095e+06</td>\n",
       "      <td>0.777952</td>\n",
       "      <td>0.713122</td>\n",
       "      <td>NaN</td>\n",
       "    </tr>\n",
       "    <tr>\n",
       "      <th>1</th>\n",
       "      <td>1000</td>\n",
       "      <td>Aeronautics</td>\n",
       "      <td>41</td>\n",
       "      <td>Aeronautics Account STF</td>\n",
       "      <td>22001R</td>\n",
       "      <td>PS</td>\n",
       "      <td>59000</td>\n",
       "      <td>26017.94</td>\n",
       "      <td>32982.06</td>\n",
       "      <td>NaN</td>\n",
       "      <td>2.838321e+04</td>\n",
       "      <td>0.481071</td>\n",
       "      <td>0.440982</td>\n",
       "      <td>NaN</td>\n",
       "    </tr>\n",
       "    <tr>\n",
       "      <th>2</th>\n",
       "      <td>1000</td>\n",
       "      <td>Aeronautics</td>\n",
       "      <td>890</td>\n",
       "      <td>Federal Trust Fund</td>\n",
       "      <td>22001F</td>\n",
       "      <td>PS</td>\n",
       "      <td>89000</td>\n",
       "      <td>0.00</td>\n",
       "      <td>89000.00</td>\n",
       "      <td>NaN</td>\n",
       "      <td>0.000000e+00</td>\n",
       "      <td>0.000000</td>\n",
       "      <td>0.000000</td>\n",
       "      <td>NaN</td>\n",
       "    </tr>\n",
       "    <tr>\n",
       "      <th>50</th>\n",
       "      <td>1000</td>\n",
       "      <td>Aeronautics</td>\n",
       "      <td>41</td>\n",
       "      <td>Aeronautics Account STF</td>\n",
       "      <td>22001</td>\n",
       "      <td>OE</td>\n",
       "      <td>487000</td>\n",
       "      <td>119766.31</td>\n",
       "      <td>256770.32</td>\n",
       "      <td>110463.37</td>\n",
       "      <td>2.411175e+05</td>\n",
       "      <td>NaN</td>\n",
       "      <td>0.495108</td>\n",
       "      <td>NaN</td>\n",
       "    </tr>\n",
       "    <tr>\n",
       "      <th>51</th>\n",
       "      <td>1000</td>\n",
       "      <td>Aeronautics</td>\n",
       "      <td>41</td>\n",
       "      <td>Aeronautics Account STF</td>\n",
       "      <td>22001R</td>\n",
       "      <td>OE</td>\n",
       "      <td>0</td>\n",
       "      <td>13866.74</td>\n",
       "      <td>-13866.74</td>\n",
       "      <td>0.00</td>\n",
       "      <td>1.512735e+04</td>\n",
       "      <td>NaN</td>\n",
       "      <td>0.000000</td>\n",
       "      <td>NaN</td>\n",
       "    </tr>\n",
       "    <tr>\n",
       "      <th>52</th>\n",
       "      <td>1000</td>\n",
       "      <td>Aeronautics</td>\n",
       "      <td>890</td>\n",
       "      <td>Federal Trust Fund</td>\n",
       "      <td>22001F</td>\n",
       "      <td>OE</td>\n",
       "      <td>370000</td>\n",
       "      <td>3000.00</td>\n",
       "      <td>367000.00</td>\n",
       "      <td>0.00</td>\n",
       "      <td>3.272727e+03</td>\n",
       "      <td>NaN</td>\n",
       "      <td>0.008845</td>\n",
       "      <td>NaN</td>\n",
       "    </tr>\n",
       "  </tbody>\n",
       "</table>\n",
       "</div>"
      ],
      "text/plain": [
       "    pec_class     division  fund         fund_description appropriation type  \\\n",
       "0        1000  Aeronautics    41  Aeronautics Account STF         22001   PS   \n",
       "1        1000  Aeronautics    41  Aeronautics Account STF        22001R   PS   \n",
       "2        1000  Aeronautics   890       Federal Trust Fund        22001F   PS   \n",
       "50       1000  Aeronautics    41  Aeronautics Account STF         22001   OE   \n",
       "51       1000  Aeronautics    41  Aeronautics Account STF        22001R   OE   \n",
       "52       1000  Aeronautics   890       Federal Trust Fund        22001F   OE   \n",
       "\n",
       "    allocation  expenditure     balance  encumbrance    projection  \\\n",
       "0      3742000   2668503.64  1073496.36          NaN  2.911095e+06   \n",
       "1        59000     26017.94    32982.06          NaN  2.838321e+04   \n",
       "2        89000         0.00    89000.00          NaN  0.000000e+00   \n",
       "50      487000    119766.31   256770.32    110463.37  2.411175e+05   \n",
       "51           0     13866.74   -13866.74         0.00  1.512735e+04   \n",
       "52      370000      3000.00   367000.00         0.00  3.272727e+03   \n",
       "\n",
       "    year_end_expendded_pace  %_expended  notes  \n",
       "0                  0.777952    0.713122    NaN  \n",
       "1                  0.481071    0.440982    NaN  \n",
       "2                  0.000000    0.000000    NaN  \n",
       "50                      NaN    0.495108    NaN  \n",
       "51                      NaN    0.000000    NaN  \n",
       "52                      NaN    0.008845    NaN  "
      ]
     },
     "execution_count": 33,
     "metadata": {},
     "output_type": "execute_result"
    }
   ],
   "source": [
    "# Reference point\n",
    "tpsoe_df.loc[tpsoe_df[\"division\"] == \"Aeronautics\"]"
   ]
  },
  {
   "cell_type": "code",
   "execution_count": 34,
   "id": "2f4c21be-01f3-4502-a029-74235880b8c7",
   "metadata": {},
   "outputs": [
    {
     "data": {
      "text/html": [
       "<div>\n",
       "<style scoped>\n",
       "    .dataframe tbody tr th:only-of-type {\n",
       "        vertical-align: middle;\n",
       "    }\n",
       "\n",
       "    .dataframe tbody tr th {\n",
       "        vertical-align: top;\n",
       "    }\n",
       "\n",
       "    .dataframe thead th {\n",
       "        text-align: right;\n",
       "    }\n",
       "</style>\n",
       "<table border=\"1\" class=\"dataframe\">\n",
       "  <thead>\n",
       "    <tr style=\"text-align: right;\">\n",
       "      <th></th>\n",
       "      <th>appr_catg</th>\n",
       "      <th>fund</th>\n",
       "      <th>fund_description</th>\n",
       "      <th>appropriation</th>\n",
       "      <th>pec_class</th>\n",
       "      <th>division</th>\n",
       "      <th>ps_allocation</th>\n",
       "      <th>ps_expenditure</th>\n",
       "      <th>ps_balance</th>\n",
       "      <th>ps_projection</th>\n",
       "      <th>year_end_expendded_pace</th>\n",
       "      <th>ps_%_expended</th>\n",
       "      <th>py_pos_alloc</th>\n",
       "      <th>act__hours</th>\n",
       "      <th>oe_allocation</th>\n",
       "      <th>oe_encumbrance</th>\n",
       "      <th>oe_expenditure</th>\n",
       "      <th>oe_balance</th>\n",
       "      <th>oe_enc_+_oe_exp_projection</th>\n",
       "      <th>oe_%_expended</th>\n",
       "      <th>total_allocation</th>\n",
       "      <th>total_expenditure</th>\n",
       "      <th>total_balance</th>\n",
       "      <th>total_projection</th>\n",
       "      <th>total_%_expended</th>\n",
       "    </tr>\n",
       "  </thead>\n",
       "  <tbody>\n",
       "    <tr>\n",
       "      <th>4</th>\n",
       "      <td>2122</td>\n",
       "      <td>0041</td>\n",
       "      <td>Aeronautics Account STF</td>\n",
       "      <td>22001R</td>\n",
       "      <td>1000</td>\n",
       "      <td>Aeronautics</td>\n",
       "      <td>59000</td>\n",
       "      <td>30208.7</td>\n",
       "      <td>28791.3</td>\n",
       "      <td>30208.7</td>\n",
       "      <td>0.512012</td>\n",
       "      <td>0.512012</td>\n",
       "      <td>0</td>\n",
       "      <td>346.25</td>\n",
       "      <td>0</td>\n",
       "      <td>0</td>\n",
       "      <td>17273.38</td>\n",
       "      <td>-17273.38</td>\n",
       "      <td>17273.38</td>\n",
       "      <td>0%</td>\n",
       "      <td>59000</td>\n",
       "      <td>47482.08</td>\n",
       "      <td>11517.92</td>\n",
       "      <td>47482.08</td>\n",
       "      <td>0.804781</td>\n",
       "    </tr>\n",
       "    <tr>\n",
       "      <th>5</th>\n",
       "      <td>2122</td>\n",
       "      <td>0041</td>\n",
       "      <td>Aeronautics Account STF</td>\n",
       "      <td>22001</td>\n",
       "      <td>1000</td>\n",
       "      <td>Aeronautics</td>\n",
       "      <td>3742000</td>\n",
       "      <td>2929497.33</td>\n",
       "      <td>812502.67</td>\n",
       "      <td>2929497.33</td>\n",
       "      <td>0.782869</td>\n",
       "      <td>0.782869</td>\n",
       "      <td>0</td>\n",
       "      <td>32931.25</td>\n",
       "      <td>487000</td>\n",
       "      <td>110522.21</td>\n",
       "      <td>136086.94</td>\n",
       "      <td>240390.85</td>\n",
       "      <td>246609.15</td>\n",
       "      <td>0.506384</td>\n",
       "      <td>4229000</td>\n",
       "      <td>3176106.48</td>\n",
       "      <td>1052893.52</td>\n",
       "      <td>3176106.48</td>\n",
       "      <td>0.75103</td>\n",
       "    </tr>\n",
       "    <tr>\n",
       "      <th>31</th>\n",
       "      <td>2122</td>\n",
       "      <td>0890</td>\n",
       "      <td>Federal Trust Fund</td>\n",
       "      <td>22001F</td>\n",
       "      <td>1000</td>\n",
       "      <td>Aeronautics</td>\n",
       "      <td>89000</td>\n",
       "      <td>0</td>\n",
       "      <td>89000</td>\n",
       "      <td>0</td>\n",
       "      <td>0</td>\n",
       "      <td>0</td>\n",
       "      <td>0</td>\n",
       "      <td>0</td>\n",
       "      <td>370000</td>\n",
       "      <td>0</td>\n",
       "      <td>3000</td>\n",
       "      <td>367000</td>\n",
       "      <td>3000</td>\n",
       "      <td>0.008108</td>\n",
       "      <td>459000</td>\n",
       "      <td>3000</td>\n",
       "      <td>456000</td>\n",
       "      <td>3000</td>\n",
       "      <td>0.006536</td>\n",
       "    </tr>\n",
       "  </tbody>\n",
       "</table>\n",
       "</div>"
      ],
      "text/plain": [
       "0  appr_catg  fund         fund_description appropriation pec_class  \\\n",
       "4       2122  0041  Aeronautics Account STF        22001R      1000   \n",
       "5       2122  0041  Aeronautics Account STF         22001      1000   \n",
       "31      2122  0890       Federal Trust Fund        22001F      1000   \n",
       "\n",
       "0      division ps_allocation ps_expenditure ps_balance ps_projection  \\\n",
       "4   Aeronautics         59000        30208.7    28791.3       30208.7   \n",
       "5   Aeronautics       3742000     2929497.33  812502.67    2929497.33   \n",
       "31  Aeronautics         89000              0      89000             0   \n",
       "\n",
       "0  year_end_expendded_pace ps_%_expended py_pos_alloc act__hours  \\\n",
       "4                 0.512012      0.512012            0     346.25   \n",
       "5                 0.782869      0.782869            0   32931.25   \n",
       "31                       0             0            0          0   \n",
       "\n",
       "0  oe_allocation oe_encumbrance oe_expenditure oe_balance  \\\n",
       "4              0              0       17273.38  -17273.38   \n",
       "5         487000      110522.21      136086.94  240390.85   \n",
       "31        370000              0           3000     367000   \n",
       "\n",
       "0  oe_enc_+_oe_exp_projection oe_%_expended total_allocation  \\\n",
       "4                    17273.38            0%            59000   \n",
       "5                   246609.15      0.506384          4229000   \n",
       "31                       3000      0.008108           459000   \n",
       "\n",
       "0  total_expenditure total_balance total_projection total_%_expended  \n",
       "4           47482.08      11517.92         47482.08         0.804781  \n",
       "5         3176106.48    1052893.52       3176106.48          0.75103  \n",
       "31              3000        456000             3000         0.006536  "
      ]
     },
     "execution_count": 34,
     "metadata": {},
     "output_type": "execute_result"
    }
   ],
   "source": [
    "ap11.loc[ap11[\"division\"] == \"Aeronautics\"]"
   ]
  },
  {
   "cell_type": "code",
   "execution_count": 35,
   "id": "11227268-4a49-4411-a0ba-bebe465c9287",
   "metadata": {},
   "outputs": [],
   "source": [
    "# Cols: for PS\n",
    "tpsoe_ps_list = [\n",
    "    \"fund\",\n",
    "    \"fund_description\",\n",
    "    \"appropriation\",\n",
    "    \"pec_class\",\n",
    "    \"division\",\n",
    "    \"ps_allocation\",\n",
    "    \"ps_expenditure\",\n",
    "    \"ps_balance\",\n",
    "    \"ps_projection\",\n",
    "    \"year_end_expendded_pace\",\n",
    "    \"ps_%_expended\",\n",
    "]"
   ]
  },
  {
   "cell_type": "code",
   "execution_count": 36,
   "id": "2ea5772c-9585-4cff-a6bc-e1c9bd2ddda0",
   "metadata": {},
   "outputs": [],
   "source": [
    "# Cols for oE\n",
    "tpsoe_oe_list = [\n",
    "    \"fund\",\n",
    "    \"fund_description\",\n",
    "    \"appropriation\",\n",
    "    \"pec_class\",\n",
    "    \"division\",\n",
    "    \"oe_allocation\",\n",
    "    \"oe_encumbrance\",\n",
    "    \"oe_expenditure\",\n",
    "    \"oe_balance\",\n",
    "    \"oe_enc_+_oe_exp_projection\",\n",
    "]"
   ]
  },
  {
   "cell_type": "code",
   "execution_count": 37,
   "id": "c44ea60e-69d3-42f3-ad98-8a82eb5f48d3",
   "metadata": {},
   "outputs": [],
   "source": [
    "# Subset df with PS only vars\n",
    "tpsoe_ps = ap11[tpsoe_ps_list]"
   ]
  },
  {
   "cell_type": "code",
   "execution_count": 38,
   "id": "96ec516b-543a-4a72-91ea-52e9e9c8cbe9",
   "metadata": {},
   "outputs": [],
   "source": [
    "# Subset df with PS only vars\n",
    "tpsoe_oe = ap11[tpsoe_oe_list]"
   ]
  },
  {
   "cell_type": "code",
   "execution_count": 39,
   "id": "2e52aa0c-a7b0-42e8-8d57-72bada1f41d5",
   "metadata": {},
   "outputs": [],
   "source": [
    "def cleaning_tpsoe(df, ps_or_oe: str):\n",
    "    # Fill in the column type for either PS: personal services\n",
    "    # or OE: operating expense\n",
    "    df[\"type\"] = ps_or_oe\n",
    "\n",
    "    # Strip away the prefixes from column names\n",
    "    # https://stackoverflow.com/questions/54097284/removing-suffix-from-dataframe-column-names-python\n",
    "\n",
    "    # Create suffix\n",
    "    suffix = f\"{ps_or_oe}_\"\n",
    "    df.columns = df.columns.str.replace(suffix, \"\", regex=True)\n",
    "\n",
    "    # There is a enc_+_exp_projection for OE: try and except to rename to projection\n",
    "    # To match PS\n",
    "    try:\n",
    "        df = df.rename(columns={\"enc_+_exp_projection\": \"projection\"})\n",
    "    except:\n",
    "        pass\n",
    "    \n",
    "    #Filter out the unwanted appropriations\n",
    "    df = df[\n",
    "    ~df.appropriation.isin(unwanted_appropriations)]\n",
    "    return df"
   ]
  },
  {
   "cell_type": "code",
   "execution_count": 40,
   "id": "639fd82b-e662-4df2-abca-cde6c1469954",
   "metadata": {
    "tags": []
   },
   "outputs": [
    {
     "name": "stderr",
     "output_type": "stream",
     "text": [
      "/tmp/ipykernel_1261/2309672791.py:4: SettingWithCopyWarning: \n",
      "A value is trying to be set on a copy of a slice from a DataFrame.\n",
      "Try using .loc[row_indexer,col_indexer] = value instead\n",
      "\n",
      "See the caveats in the documentation: https://pandas.pydata.org/pandas-docs/stable/user_guide/indexing.html#returning-a-view-versus-a-copy\n"
     ]
    }
   ],
   "source": [
    "#Apply functions to subsets of OE and PS\n",
    "tpsoe_oe = cleaning_tpsoe(tpsoe_oe, \"oe\")"
   ]
  },
  {
   "cell_type": "code",
   "execution_count": 41,
   "id": "e6f47791-cc29-4196-ab5f-f57ca32244c1",
   "metadata": {},
   "outputs": [
    {
     "name": "stderr",
     "output_type": "stream",
     "text": [
      "/tmp/ipykernel_1261/2309672791.py:4: SettingWithCopyWarning: \n",
      "A value is trying to be set on a copy of a slice from a DataFrame.\n",
      "Try using .loc[row_indexer,col_indexer] = value instead\n",
      "\n",
      "See the caveats in the documentation: https://pandas.pydata.org/pandas-docs/stable/user_guide/indexing.html#returning-a-view-versus-a-copy\n"
     ]
    }
   ],
   "source": [
    "tpsoe_ps = cleaning_tpsoe(tpsoe_ps, \"ps\")"
   ]
  },
  {
   "cell_type": "markdown",
   "id": "d835b09c-b6ff-471d-b1d0-fdad2673de3d",
   "metadata": {},
   "source": [
    "### Start of the 2nd function"
   ]
  },
  {
   "cell_type": "code",
   "execution_count": 42,
   "id": "f7b7a12d-863f-47dc-a4b0-6439d1899b3a",
   "metadata": {
    "scrolled": true,
    "tags": []
   },
   "outputs": [],
   "source": [
    "#Concat the dataframe\n",
    "c1 = pd.concat([tpsoe_ps, tpsoe_oe], sort=False)"
   ]
  },
  {
   "cell_type": "code",
   "execution_count": 43,
   "id": "ad095302-83e9-47a2-a7e7-249df6a86ca9",
   "metadata": {},
   "outputs": [],
   "source": [
    "order_of_cols = [\n",
    "    \"pec_class\",\n",
    "    \"division\",\n",
    "    \"fund\",\n",
    "    \"fund_description\",\n",
    "    \"appropriation\",\n",
    "    \"type\",\n",
    "    \"allocation\",\n",
    "    \"expenditure\",\n",
    "    \"balance\",\n",
    "    \"encumbrance\",\n",
    "    \"projection\",\n",
    "    \"year_end_expendded_pace\",\n",
    "    \"%_expended\",\n",
    "]"
   ]
  },
  {
   "cell_type": "code",
   "execution_count": 44,
   "id": "c9130de2-d0f1-4a25-af8d-3d3fce02c5bf",
   "metadata": {},
   "outputs": [],
   "source": [
    "#Reorder df to the right order\n",
    "c1 = c1[order_of_cols]"
   ]
  },
  {
   "cell_type": "code",
   "execution_count": 45,
   "id": "f19f1bdb-5d5c-45e0-813e-f88cdc4406aa",
   "metadata": {},
   "outputs": [],
   "source": [
    "#Add a notes column\n",
    "c1[\"notes\"] = np.nan"
   ]
  },
  {
   "cell_type": "code",
   "execution_count": 46,
   "id": "4446156f-b50f-48c4-8c38-c6e3a8d1b714",
   "metadata": {},
   "outputs": [],
   "source": [
    "#Monetary cols to coerce into floats\n",
    "monetary_cols = [\n",
    "    \"allocation\",\n",
    "    \"expenditure\",\n",
    "    \"balance\",\n",
    "    \"encumbrance\",\n",
    "    \"projection\",\n",
    "    \"year_end_expendded_pace\",\n",
    "    \"%_expended\",\n",
    "]"
   ]
  },
  {
   "cell_type": "code",
   "execution_count": 47,
   "id": "c4d22ed8-112a-4707-8b1b-6af94ef659e6",
   "metadata": {},
   "outputs": [],
   "source": [
    "c1[monetary_cols] = c1[monetary_cols].astype(\"float64\")"
   ]
  },
  {
   "cell_type": "markdown",
   "id": "8f937963-24bf-4588-b2bd-341501b96753",
   "metadata": {},
   "source": [
    "### Double checking"
   ]
  },
  {
   "cell_type": "code",
   "execution_count": 48,
   "id": "be181f04-f123-44a6-84b1-3dfedeb0c150",
   "metadata": {},
   "outputs": [
    {
     "data": {
      "text/plain": [
       "(96, 14)"
      ]
     },
     "execution_count": 48,
     "metadata": {},
     "output_type": "execute_result"
    }
   ],
   "source": [
    "c1.shape"
   ]
  },
  {
   "cell_type": "code",
   "execution_count": 49,
   "id": "b0ec9ba1-9194-4618-9a9e-68895c47c088",
   "metadata": {},
   "outputs": [
    {
     "data": {
      "text/plain": [
       "(100, 14)"
      ]
     },
     "execution_count": 49,
     "metadata": {},
     "output_type": "execute_result"
    }
   ],
   "source": [
    "tpsoe_df.shape"
   ]
  },
  {
   "cell_type": "code",
   "execution_count": 50,
   "id": "280c3354-f8a7-4a6f-a686-1d53f9040671",
   "metadata": {
    "scrolled": true,
    "tags": []
   },
   "outputs": [],
   "source": [
    "#c1[['division', 'type','pec_class', 'allocation']].sort_values(['pec_class', 'allocation'])"
   ]
  },
  {
   "cell_type": "code",
   "execution_count": 51,
   "id": "777df182-080a-4dd2-b47d-37ab9454f04b",
   "metadata": {
    "scrolled": true,
    "tags": []
   },
   "outputs": [],
   "source": [
    "# tpsoe_df[['division','type','pec_class', 'allocation']].sort_values(['pec_class', 'allocation'])"
   ]
  },
  {
   "cell_type": "code",
   "execution_count": 52,
   "id": "a0e24757-ea0e-44b8-99cf-0a54f6093732",
   "metadata": {},
   "outputs": [
    {
     "name": "stdout",
     "output_type": "stream",
     "text": [
      "\n",
      "allocation\n",
      "463663000.0\n",
      "463663000\n",
      "\n",
      "expenditure\n",
      "240621907.91\n",
      "216652353.52999997\n",
      "\n",
      "balance\n",
      "53011607.16999998\n",
      "142863240.78\n",
      "\n",
      "encumbrance\n",
      "170029484.92000002\n",
      "104147405.69\n",
      "\n",
      "projection\n",
      "410607069.0880165\n",
      "340495427.72272724\n",
      "\n",
      "year_end_expendded_pace\n",
      "26.69852036355792\n",
      "26.708515918639606\n",
      "\n",
      "%_expended\n",
      "26.69852036355792\n",
      "37.17215507087656\n"
     ]
    }
   ],
   "source": [
    "for i in monetary_cols:\n",
    "    print(\"\\n\" + i)\n",
    "    print(c1[i].sum())\n",
    "    print(tpsoe_df[i].sum())"
   ]
  },
  {
   "cell_type": "code",
   "execution_count": 53,
   "id": "475ede95-98a6-43e2-a115-a5b4b60ff382",
   "metadata": {},
   "outputs": [],
   "source": [
    "test = set(c1.appropriation.unique().tolist())\n",
    "actual = set(tpsoe_df.appropriation.unique().tolist())"
   ]
  },
  {
   "cell_type": "code",
   "execution_count": 54,
   "id": "de969d02-8054-4126-a4b1-75c9fe3fd606",
   "metadata": {},
   "outputs": [
    {
     "data": {
      "text/plain": [
       "set()"
      ]
     },
     "execution_count": 54,
     "metadata": {},
     "output_type": "execute_result"
    }
   ],
   "source": [
    "actual - test"
   ]
  },
  {
   "cell_type": "code",
   "execution_count": 55,
   "id": "fb446f34-4fd1-42dc-85d7-94da61558d87",
   "metadata": {},
   "outputs": [
    {
     "data": {
      "text/plain": [
       "set()"
      ]
     },
     "execution_count": 55,
     "metadata": {},
     "output_type": "execute_result"
    }
   ],
   "source": [
    "test - actual"
   ]
  },
  {
   "cell_type": "markdown",
   "id": "de298bb5-15bd-44c1-8f65-84d8acc3d980",
   "metadata": {},
   "source": [
    "## Timeline "
   ]
  },
  {
   "cell_type": "code",
   "execution_count": 66,
   "id": "440a612b-71fa-4025-8d22-a2e446f18a0b",
   "metadata": {},
   "outputs": [],
   "source": [
    "#How to assign keys automatically??\n",
    "#https://stackoverflow.com/questions/59267129/how-to-concatenate-multiple-dataframes-from-multiple-sources-in-pandas\n",
    "time_test = df = (pd.concat(my_clean_dataframes, keys=(4, 7, 11))\n",
    "        .rename_axis(('source', 'tmp'))\n",
    "        .reset_index(level=0)\n",
    "        .reset_index(drop=True))"
   ]
  },
  {
   "cell_type": "code",
   "execution_count": 67,
   "id": "69486659-480a-4a02-8870-b533ef7e05ce",
   "metadata": {},
   "outputs": [
    {
     "data": {
      "text/plain": [
       "7     59\n",
       "4     58\n",
       "11    54\n",
       "Name: source, dtype: int64"
      ]
     },
     "execution_count": 67,
     "metadata": {},
     "output_type": "execute_result"
    }
   ],
   "source": [
    "time_test['source'].value_counts()"
   ]
  },
  {
   "cell_type": "code",
   "execution_count": 72,
   "id": "6fd91ad7-5af3-4a33-b5a8-d443f6106bbe",
   "metadata": {
    "collapsed": true,
    "jupyter": {
     "outputs_hidden": true
    },
    "tags": []
   },
   "outputs": [
    {
     "ename": "KeyError",
     "evalue": "\"['ap'] not found in axis\"",
     "output_type": "error",
     "traceback": [
      "\u001b[0;31m---------------------------------------------------------------------------\u001b[0m",
      "\u001b[0;31mKeyError\u001b[0m                                  Traceback (most recent call last)",
      "Input \u001b[0;32mIn [72]\u001b[0m, in \u001b[0;36m<cell line: 1>\u001b[0;34m()\u001b[0m\n\u001b[0;32m----> 1\u001b[0m time_test \u001b[38;5;241m=\u001b[39m (\u001b[43mtime_test\u001b[49m\n\u001b[1;32m      2\u001b[0m \u001b[43m             \u001b[49m\u001b[38;5;241;43m.\u001b[39;49m\u001b[43mdrop\u001b[49m\u001b[43m(\u001b[49m\u001b[43mcolumns\u001b[49m\u001b[43m \u001b[49m\u001b[38;5;241;43m=\u001b[39;49m\u001b[43m \u001b[49m\u001b[43m[\u001b[49m\u001b[38;5;124;43m'\u001b[39;49m\u001b[38;5;124;43map\u001b[39;49m\u001b[38;5;124;43m'\u001b[39;49m\u001b[43m]\u001b[49m\u001b[43m)\u001b[49m\n\u001b[1;32m      3\u001b[0m              \u001b[38;5;241m.\u001b[39mrename(columns \u001b[38;5;241m=\u001b[39m {\u001b[38;5;124m'\u001b[39m\u001b[38;5;124msource\u001b[39m\u001b[38;5;124m'\u001b[39m:\u001b[38;5;124m'\u001b[39m\u001b[38;5;124map\u001b[39m\u001b[38;5;124m'\u001b[39m})\n\u001b[1;32m      4\u001b[0m             )\n",
      "File \u001b[0;32m/opt/conda/lib/python3.10/site-packages/pandas/util/_decorators.py:311\u001b[0m, in \u001b[0;36mdeprecate_nonkeyword_arguments.<locals>.decorate.<locals>.wrapper\u001b[0;34m(*args, **kwargs)\u001b[0m\n\u001b[1;32m    305\u001b[0m \u001b[38;5;28;01mif\u001b[39;00m \u001b[38;5;28mlen\u001b[39m(args) \u001b[38;5;241m>\u001b[39m num_allow_args:\n\u001b[1;32m    306\u001b[0m     warnings\u001b[38;5;241m.\u001b[39mwarn(\n\u001b[1;32m    307\u001b[0m         msg\u001b[38;5;241m.\u001b[39mformat(arguments\u001b[38;5;241m=\u001b[39marguments),\n\u001b[1;32m    308\u001b[0m         \u001b[38;5;167;01mFutureWarning\u001b[39;00m,\n\u001b[1;32m    309\u001b[0m         stacklevel\u001b[38;5;241m=\u001b[39mstacklevel,\n\u001b[1;32m    310\u001b[0m     )\n\u001b[0;32m--> 311\u001b[0m \u001b[38;5;28;01mreturn\u001b[39;00m \u001b[43mfunc\u001b[49m\u001b[43m(\u001b[49m\u001b[38;5;241;43m*\u001b[39;49m\u001b[43margs\u001b[49m\u001b[43m,\u001b[49m\u001b[43m \u001b[49m\u001b[38;5;241;43m*\u001b[39;49m\u001b[38;5;241;43m*\u001b[39;49m\u001b[43mkwargs\u001b[49m\u001b[43m)\u001b[49m\n",
      "File \u001b[0;32m/opt/conda/lib/python3.10/site-packages/pandas/core/frame.py:4954\u001b[0m, in \u001b[0;36mDataFrame.drop\u001b[0;34m(self, labels, axis, index, columns, level, inplace, errors)\u001b[0m\n\u001b[1;32m   4806\u001b[0m \u001b[38;5;129m@deprecate_nonkeyword_arguments\u001b[39m(version\u001b[38;5;241m=\u001b[39m\u001b[38;5;28;01mNone\u001b[39;00m, allowed_args\u001b[38;5;241m=\u001b[39m[\u001b[38;5;124m\"\u001b[39m\u001b[38;5;124mself\u001b[39m\u001b[38;5;124m\"\u001b[39m, \u001b[38;5;124m\"\u001b[39m\u001b[38;5;124mlabels\u001b[39m\u001b[38;5;124m\"\u001b[39m])\n\u001b[1;32m   4807\u001b[0m \u001b[38;5;28;01mdef\u001b[39;00m \u001b[38;5;21mdrop\u001b[39m(\n\u001b[1;32m   4808\u001b[0m     \u001b[38;5;28mself\u001b[39m,\n\u001b[0;32m   (...)\u001b[0m\n\u001b[1;32m   4815\u001b[0m     errors: \u001b[38;5;28mstr\u001b[39m \u001b[38;5;241m=\u001b[39m \u001b[38;5;124m\"\u001b[39m\u001b[38;5;124mraise\u001b[39m\u001b[38;5;124m\"\u001b[39m,\n\u001b[1;32m   4816\u001b[0m ):\n\u001b[1;32m   4817\u001b[0m     \u001b[38;5;124;03m\"\"\"\u001b[39;00m\n\u001b[1;32m   4818\u001b[0m \u001b[38;5;124;03m    Drop specified labels from rows or columns.\u001b[39;00m\n\u001b[1;32m   4819\u001b[0m \n\u001b[0;32m   (...)\u001b[0m\n\u001b[1;32m   4952\u001b[0m \u001b[38;5;124;03m            weight  1.0     0.8\u001b[39;00m\n\u001b[1;32m   4953\u001b[0m \u001b[38;5;124;03m    \"\"\"\u001b[39;00m\n\u001b[0;32m-> 4954\u001b[0m     \u001b[38;5;28;01mreturn\u001b[39;00m \u001b[38;5;28;43msuper\u001b[39;49m\u001b[43m(\u001b[49m\u001b[43m)\u001b[49m\u001b[38;5;241;43m.\u001b[39;49m\u001b[43mdrop\u001b[49m\u001b[43m(\u001b[49m\n\u001b[1;32m   4955\u001b[0m \u001b[43m        \u001b[49m\u001b[43mlabels\u001b[49m\u001b[38;5;241;43m=\u001b[39;49m\u001b[43mlabels\u001b[49m\u001b[43m,\u001b[49m\n\u001b[1;32m   4956\u001b[0m \u001b[43m        \u001b[49m\u001b[43maxis\u001b[49m\u001b[38;5;241;43m=\u001b[39;49m\u001b[43maxis\u001b[49m\u001b[43m,\u001b[49m\n\u001b[1;32m   4957\u001b[0m \u001b[43m        \u001b[49m\u001b[43mindex\u001b[49m\u001b[38;5;241;43m=\u001b[39;49m\u001b[43mindex\u001b[49m\u001b[43m,\u001b[49m\n\u001b[1;32m   4958\u001b[0m \u001b[43m        \u001b[49m\u001b[43mcolumns\u001b[49m\u001b[38;5;241;43m=\u001b[39;49m\u001b[43mcolumns\u001b[49m\u001b[43m,\u001b[49m\n\u001b[1;32m   4959\u001b[0m \u001b[43m        \u001b[49m\u001b[43mlevel\u001b[49m\u001b[38;5;241;43m=\u001b[39;49m\u001b[43mlevel\u001b[49m\u001b[43m,\u001b[49m\n\u001b[1;32m   4960\u001b[0m \u001b[43m        \u001b[49m\u001b[43minplace\u001b[49m\u001b[38;5;241;43m=\u001b[39;49m\u001b[43minplace\u001b[49m\u001b[43m,\u001b[49m\n\u001b[1;32m   4961\u001b[0m \u001b[43m        \u001b[49m\u001b[43merrors\u001b[49m\u001b[38;5;241;43m=\u001b[39;49m\u001b[43merrors\u001b[49m\u001b[43m,\u001b[49m\n\u001b[1;32m   4962\u001b[0m \u001b[43m    \u001b[49m\u001b[43m)\u001b[49m\n",
      "File \u001b[0;32m/opt/conda/lib/python3.10/site-packages/pandas/core/generic.py:4267\u001b[0m, in \u001b[0;36mNDFrame.drop\u001b[0;34m(self, labels, axis, index, columns, level, inplace, errors)\u001b[0m\n\u001b[1;32m   4265\u001b[0m \u001b[38;5;28;01mfor\u001b[39;00m axis, labels \u001b[38;5;129;01min\u001b[39;00m axes\u001b[38;5;241m.\u001b[39mitems():\n\u001b[1;32m   4266\u001b[0m     \u001b[38;5;28;01mif\u001b[39;00m labels \u001b[38;5;129;01mis\u001b[39;00m \u001b[38;5;129;01mnot\u001b[39;00m \u001b[38;5;28;01mNone\u001b[39;00m:\n\u001b[0;32m-> 4267\u001b[0m         obj \u001b[38;5;241m=\u001b[39m \u001b[43mobj\u001b[49m\u001b[38;5;241;43m.\u001b[39;49m\u001b[43m_drop_axis\u001b[49m\u001b[43m(\u001b[49m\u001b[43mlabels\u001b[49m\u001b[43m,\u001b[49m\u001b[43m \u001b[49m\u001b[43maxis\u001b[49m\u001b[43m,\u001b[49m\u001b[43m \u001b[49m\u001b[43mlevel\u001b[49m\u001b[38;5;241;43m=\u001b[39;49m\u001b[43mlevel\u001b[49m\u001b[43m,\u001b[49m\u001b[43m \u001b[49m\u001b[43merrors\u001b[49m\u001b[38;5;241;43m=\u001b[39;49m\u001b[43merrors\u001b[49m\u001b[43m)\u001b[49m\n\u001b[1;32m   4269\u001b[0m \u001b[38;5;28;01mif\u001b[39;00m inplace:\n\u001b[1;32m   4270\u001b[0m     \u001b[38;5;28mself\u001b[39m\u001b[38;5;241m.\u001b[39m_update_inplace(obj)\n",
      "File \u001b[0;32m/opt/conda/lib/python3.10/site-packages/pandas/core/generic.py:4311\u001b[0m, in \u001b[0;36mNDFrame._drop_axis\u001b[0;34m(self, labels, axis, level, errors, consolidate, only_slice)\u001b[0m\n\u001b[1;32m   4309\u001b[0m         new_axis \u001b[38;5;241m=\u001b[39m axis\u001b[38;5;241m.\u001b[39mdrop(labels, level\u001b[38;5;241m=\u001b[39mlevel, errors\u001b[38;5;241m=\u001b[39merrors)\n\u001b[1;32m   4310\u001b[0m     \u001b[38;5;28;01melse\u001b[39;00m:\n\u001b[0;32m-> 4311\u001b[0m         new_axis \u001b[38;5;241m=\u001b[39m \u001b[43maxis\u001b[49m\u001b[38;5;241;43m.\u001b[39;49m\u001b[43mdrop\u001b[49m\u001b[43m(\u001b[49m\u001b[43mlabels\u001b[49m\u001b[43m,\u001b[49m\u001b[43m \u001b[49m\u001b[43merrors\u001b[49m\u001b[38;5;241;43m=\u001b[39;49m\u001b[43merrors\u001b[49m\u001b[43m)\u001b[49m\n\u001b[1;32m   4312\u001b[0m     indexer \u001b[38;5;241m=\u001b[39m axis\u001b[38;5;241m.\u001b[39mget_indexer(new_axis)\n\u001b[1;32m   4314\u001b[0m \u001b[38;5;66;03m# Case for non-unique axis\u001b[39;00m\n\u001b[1;32m   4315\u001b[0m \u001b[38;5;28;01melse\u001b[39;00m:\n",
      "File \u001b[0;32m/opt/conda/lib/python3.10/site-packages/pandas/core/indexes/base.py:6644\u001b[0m, in \u001b[0;36mIndex.drop\u001b[0;34m(self, labels, errors)\u001b[0m\n\u001b[1;32m   6642\u001b[0m \u001b[38;5;28;01mif\u001b[39;00m mask\u001b[38;5;241m.\u001b[39many():\n\u001b[1;32m   6643\u001b[0m     \u001b[38;5;28;01mif\u001b[39;00m errors \u001b[38;5;241m!=\u001b[39m \u001b[38;5;124m\"\u001b[39m\u001b[38;5;124mignore\u001b[39m\u001b[38;5;124m\"\u001b[39m:\n\u001b[0;32m-> 6644\u001b[0m         \u001b[38;5;28;01mraise\u001b[39;00m \u001b[38;5;167;01mKeyError\u001b[39;00m(\u001b[38;5;124mf\u001b[39m\u001b[38;5;124m\"\u001b[39m\u001b[38;5;132;01m{\u001b[39;00m\u001b[38;5;28mlist\u001b[39m(labels[mask])\u001b[38;5;132;01m}\u001b[39;00m\u001b[38;5;124m not found in axis\u001b[39m\u001b[38;5;124m\"\u001b[39m)\n\u001b[1;32m   6645\u001b[0m     indexer \u001b[38;5;241m=\u001b[39m indexer[\u001b[38;5;241m~\u001b[39mmask]\n\u001b[1;32m   6646\u001b[0m \u001b[38;5;28;01mreturn\u001b[39;00m \u001b[38;5;28mself\u001b[39m\u001b[38;5;241m.\u001b[39mdelete(indexer)\n",
      "\u001b[0;31mKeyError\u001b[0m: \"['ap'] not found in axis\""
     ]
    }
   ],
   "source": [
    "time_test = (time_test\n",
    "             .drop(columns = ['ap'])\n",
    "             .rename(columns = {'source':'ap'})\n",
    "            )\n",
    "                "
   ]
  },
  {
   "cell_type": "code",
   "execution_count": 81,
   "id": "3dfbf36a-22ad-4631-be8d-530dc5207177",
   "metadata": {},
   "outputs": [
    {
     "data": {
      "text/plain": [
       "(171, 27)"
      ]
     },
     "execution_count": 81,
     "metadata": {},
     "output_type": "execute_result"
    }
   ],
   "source": [
    "time_test.shape"
   ]
  },
  {
   "cell_type": "code",
   "execution_count": 85,
   "id": "09fd6595-4b42-494b-b26d-44455f4a5e70",
   "metadata": {},
   "outputs": [],
   "source": [
    "timeline_df = timeline_df[timeline_df[\"ap\"].isin([4,7,11])]"
   ]
  },
  {
   "cell_type": "code",
   "execution_count": 86,
   "id": "06541a82-f242-49b2-b516-8acdb20f11c1",
   "metadata": {},
   "outputs": [
    {
     "data": {
      "text/plain": [
       "4     50\n",
       "7     50\n",
       "11    48\n",
       "Name: ap, dtype: int64"
      ]
     },
     "execution_count": 86,
     "metadata": {},
     "output_type": "execute_result"
    }
   ],
   "source": [
    "timeline_df['ap'].value_counts()"
   ]
  },
  {
   "cell_type": "markdown",
   "id": "eff2afc2-550c-4033-9052-7fe77f910f18",
   "metadata": {},
   "source": [
    "## PSOE Timeline"
   ]
  },
  {
   "cell_type": "code",
   "execution_count": 80,
   "id": "34f88c76-e9f8-4309-a221-53ccbcde8745",
   "metadata": {},
   "outputs": [
    {
     "data": {
      "text/html": [
       "<div>\n",
       "<style scoped>\n",
       "    .dataframe tbody tr th:only-of-type {\n",
       "        vertical-align: middle;\n",
       "    }\n",
       "\n",
       "    .dataframe tbody tr th {\n",
       "        vertical-align: top;\n",
       "    }\n",
       "\n",
       "    .dataframe thead th {\n",
       "        text-align: right;\n",
       "    }\n",
       "</style>\n",
       "<table border=\"1\" class=\"dataframe\">\n",
       "  <thead>\n",
       "    <tr style=\"text-align: right;\">\n",
       "      <th></th>\n",
       "      <th>appr_catg</th>\n",
       "      <th>fund</th>\n",
       "      <th>fund_description</th>\n",
       "      <th>appr</th>\n",
       "      <th>division</th>\n",
       "      <th>pec_class</th>\n",
       "      <th>pec_class_description</th>\n",
       "      <th>allocation</th>\n",
       "      <th>expense</th>\n",
       "      <th>balance</th>\n",
       "      <th>projection</th>\n",
       "      <th>%_expended</th>\n",
       "      <th>ap</th>\n",
       "      <th>type</th>\n",
       "      <th>encumbrance</th>\n",
       "    </tr>\n",
       "  </thead>\n",
       "  <tbody>\n",
       "    <tr>\n",
       "      <th>0</th>\n",
       "      <td>2122</td>\n",
       "      <td>41</td>\n",
       "      <td>Aeronautics Account STF</td>\n",
       "      <td>22001</td>\n",
       "      <td>Aeronautics</td>\n",
       "      <td>1000</td>\n",
       "      <td>Aeronautics</td>\n",
       "      <td>0</td>\n",
       "      <td>259497.99</td>\n",
       "      <td>-259497.99</td>\n",
       "      <td>3113975.88</td>\n",
       "      <td>0</td>\n",
       "      <td>1</td>\n",
       "      <td>PS</td>\n",
       "      <td>NaN</td>\n",
       "    </tr>\n",
       "    <tr>\n",
       "      <th>1</th>\n",
       "      <td>2122</td>\n",
       "      <td>42</td>\n",
       "      <td>Highway Account, State, STF</td>\n",
       "      <td>22001R</td>\n",
       "      <td>DOTP</td>\n",
       "      <td>4050</td>\n",
       "      <td>PSR/PSSR Development</td>\n",
       "      <td>0</td>\n",
       "      <td>242438.21</td>\n",
       "      <td>-242438.21</td>\n",
       "      <td>2909258.52</td>\n",
       "      <td>0</td>\n",
       "      <td>1</td>\n",
       "      <td>PS</td>\n",
       "      <td>NaN</td>\n",
       "    </tr>\n",
       "    <tr>\n",
       "      <th>2</th>\n",
       "      <td>2122</td>\n",
       "      <td>42</td>\n",
       "      <td>Highway Account, State, STF</td>\n",
       "      <td>22001</td>\n",
       "      <td>Local Assistance</td>\n",
       "      <td>2030</td>\n",
       "      <td>Local Assistance</td>\n",
       "      <td>0</td>\n",
       "      <td>3496261.20</td>\n",
       "      <td>-3496261.20</td>\n",
       "      <td>41955134.40</td>\n",
       "      <td>0</td>\n",
       "      <td>1</td>\n",
       "      <td>PS</td>\n",
       "      <td>NaN</td>\n",
       "    </tr>\n",
       "  </tbody>\n",
       "</table>\n",
       "</div>"
      ],
      "text/plain": [
       "   appr_catg  fund             fund_description    appr          division  \\\n",
       "0       2122    41      Aeronautics Account STF   22001       Aeronautics   \n",
       "1       2122    42  Highway Account, State, STF  22001R              DOTP   \n",
       "2       2122    42  Highway Account, State, STF   22001  Local Assistance   \n",
       "\n",
       "   pec_class pec_class_description  allocation     expense     balance  \\\n",
       "0       1000           Aeronautics           0   259497.99  -259497.99   \n",
       "1       4050  PSR/PSSR Development           0   242438.21  -242438.21   \n",
       "2       2030      Local Assistance           0  3496261.20 -3496261.20   \n",
       "\n",
       "    projection %_expended  ap type  encumbrance  \n",
       "0   3113975.88          0   1   PS          NaN  \n",
       "1   2909258.52          0   1   PS          NaN  \n",
       "2  41955134.40          0   1   PS          NaN  "
      ]
     },
     "execution_count": 80,
     "metadata": {},
     "output_type": "execute_result"
    }
   ],
   "source": [
    "psoe_df.head(3)"
   ]
  },
  {
   "cell_type": "code",
   "execution_count": null,
   "id": "13512a6f-5c74-4026-b84f-81c1bdf47db7",
   "metadata": {},
   "outputs": [],
   "source": [
    "psoe_ps_cols = ['appr_catg', 'fund', 'fund_description', 'appropriation',\n",
    "                "
   ]
  },
  {
   "cell_type": "code",
   "execution_count": 89,
   "id": "d1d83bce-04e4-401e-883d-34cdd945a199",
   "metadata": {},
   "outputs": [
    {
     "data": {
      "text/plain": [
       "Index(['appr_catg', 'fund', 'fund_description', 'appropriation', 'pec_class',\n",
       "       'division', 'ps_allocation', 'ps_expenditure', 'ps_balance',\n",
       "       'ps_projection', 'year_end_expendded_pace', 'ps_%_expended',\n",
       "       'py_pos_alloc', 'act__hours', 'oe_allocation', 'oe_encumbrance',\n",
       "       'oe_expenditure', 'oe_balance', 'oe_enc_+_oe_exp_projection',\n",
       "       'oe_%_expended', 'total_allocation', 'total_expenditure',\n",
       "       'total_balance', 'total_projection', 'total_%_expended'],\n",
       "      dtype='object', name=0)"
      ]
     },
     "execution_count": 89,
     "metadata": {},
     "output_type": "execute_result"
    }
   ],
   "source": [
    "ap11.columns"
   ]
  }
 ],
 "metadata": {
  "kernelspec": {
   "display_name": "Python 3 (ipykernel)",
   "language": "python",
   "name": "python3"
  },
  "language_info": {
   "codemirror_mode": {
    "name": "ipython",
    "version": 3
   },
   "file_extension": ".py",
   "mimetype": "text/x-python",
   "name": "python",
   "nbconvert_exporter": "python",
   "pygments_lexer": "ipython3",
   "version": "3.10.4"
  }
 },
 "nbformat": 4,
 "nbformat_minor": 5
}
