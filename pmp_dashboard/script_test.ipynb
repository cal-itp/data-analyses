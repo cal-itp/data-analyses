{
 "cells": [
  {
   "cell_type": "markdown",
   "id": "e009586a-a399-4b77-b649-0a2935b8df31",
   "metadata": {},
   "source": [
    "# Automate the Excel workbook linked to PMP Dashboard"
   ]
  },
  {
   "cell_type": "code",
   "execution_count": null,
   "id": "fcb68152-f948-42ec-8f41-defb0755c9e2",
   "metadata": {},
   "outputs": [],
   "source": [
    "import geopandas as gpd\n",
    "import numpy as np\n",
    "import pandas as pd\n",
    "from calitp import *\n",
    "from shared_utils import utils\n",
    "\n",
    "# Formatting the nb\n",
    "pd.options.display.max_columns = 100\n",
    "pd.set_option(\"display.max_rows\", None)\n",
    "pd.set_option(\"display.max_colwidth\", None)"
   ]
  },
  {
   "cell_type": "code",
   "execution_count": null,
   "id": "687473de-a2ef-4ffd-89ad-dc0e2f502084",
   "metadata": {},
   "outputs": [],
   "source": [
    "GCS_FILE_PATH = \"gs://calitp-analytics-data/data-analyses/pmp_dashboard/\""
   ]
  },
  {
   "cell_type": "markdown",
   "id": "fb7b7136-cef9-446d-b1b0-0d3f7ec35207",
   "metadata": {},
   "source": [
    "## Load in data\n",
    "### Load manually cleaned df so I can reference "
   ]
  },
  {
   "cell_type": "code",
   "execution_count": null,
   "id": "b1b3f223-16e9-4a86-922f-15e0c5ad69c9",
   "metadata": {},
   "outputs": [],
   "source": [
    "# DF that William manipulated\n",
    "FILE_NAME_1 = \"PMP Summary Report Data.xlsx\""
   ]
  },
  {
   "cell_type": "code",
   "execution_count": null,
   "id": "c6a9c0b7-95b6-472d-ab6a-7811c43b4308",
   "metadata": {},
   "outputs": [],
   "source": [
    "# Sheets in William's notebook that I want\n",
    "sheets_list = [\"Fund by Division Data\", \"TPSOE Data\", \"Timeline Data\", \"PSOE Timeline\"]"
   ]
  },
  {
   "cell_type": "code",
   "execution_count": null,
   "id": "ef13c9af-1d04-4dd6-b0b8-07370f75bb00",
   "metadata": {},
   "outputs": [],
   "source": [
    "dict_df1 = pd.read_excel(f\"{GCS_FILE_PATH}{FILE_NAME_1}\", sheet_name=sheets_list)"
   ]
  },
  {
   "cell_type": "code",
   "execution_count": null,
   "id": "8a4154f7-cfc0-4a01-866d-adbcbc193879",
   "metadata": {},
   "outputs": [],
   "source": [
    "division_df = to_snakecase(dict_df1.get(\"Fund by Division Data\"))\n",
    "tpsoe_df = to_snakecase(dict_df1.get(\"TPSOE Data\"))\n",
    "timeline_df = to_snakecase(dict_df1.get(\"Timeline Data\"))\n",
    "psoe_df = to_snakecase(dict_df1.get(\"PSOE Timeline\"))"
   ]
  },
  {
   "cell_type": "markdown",
   "id": "a9a0f20a-2008-4430-bfb4-a89412740ca1",
   "metadata": {},
   "source": [
    "### Load in raw data for each accounting period"
   ]
  },
  {
   "cell_type": "code",
   "execution_count": null,
   "id": "0ee7dcdd-3957-45bc-8209-0119b3dd0520",
   "metadata": {},
   "outputs": [],
   "source": [
    "def import_raw_data(file_name: str, name_of_sheet: str):\n",
    "    # Read in file\n",
    "    df = pd.read_excel(f\"{GCS_FILE_PATH}{file_name}\", sheet_name=name_of_sheet)\n",
    "\n",
    "    # Get rid of the unnecessary headers\n",
    "    # Stuff like \"Enterprise Datalink Production download as of 05/23/2022\"\n",
    "    df = df.iloc[13:].reset_index(drop=True)\n",
    "\n",
    "    # Set column names to the first row\n",
    "    df.columns = df.iloc[0]\n",
    "\n",
    "    # Drop the first row\n",
    "    df = df.drop(df.index[0]).reset_index(drop=True)\n",
    "\n",
    "    # Drop rows with NA in the certain cols,\n",
    "    # Since those are probably the grand totals\n",
    "    df = df.dropna(subset=[\"Appr Catg\", \"Appr\", \"PEC Class\", \"PEC Class Description\"])\n",
    "    # Snakecase\n",
    "    df = to_snakecase(df)\n",
    "\n",
    "    # Rename columns to what William named them as\n",
    "    df = df.rename(\n",
    "        columns={\n",
    "            \"pec_class_description\": \"division\",\n",
    "            \"ps_alloc\": \"ps_allocation\",\n",
    "            \"ps_exp\": \"ps_expenditure\",\n",
    "            \"ps_bal\": \"ps_balance\",\n",
    "            \"total_projected_%\": \"total_%_expended\",\n",
    "            \"oe_alloc\": \"oe_allocation\",\n",
    "            \"oe_enc\": \"oe_encumbrance\",\n",
    "            \"oe_exp\": \"oe_expenditure\",\n",
    "            \"appr\": \"appropriation\",\n",
    "            \"total_expended___encumbrance\": \"total_expenditure\",\n",
    "            \"oe_bal_excl_pre_enc\": \"oe_balance\",\n",
    "            \"oe__enc_+_oe_exp_projection\": \"oe_enc_+_oe_exp_projection\",\n",
    "        }\n",
    "    )\n",
    "    return df"
   ]
  },
  {
   "cell_type": "code",
   "execution_count": null,
   "id": "0388c44b-24e8-441d-9619-82c37eba4d95",
   "metadata": {
    "tags": []
   },
   "outputs": [],
   "source": [
    "# How to do this more efficiently...\n",
    "ap1 = import_raw_data(\"AP1.xls\", \"Download\")\n",
    "ap2 = import_raw_data(\"AP2.xls\", \"Download\")\n",
    "ap3 = import_raw_data(\"AP3.xls\", \"Download\")\n",
    "ap4 = import_raw_data(\"AP4.xls\", \"Download\")\n",
    "ap5 = import_raw_data(\"AP5.xls\", \"Download\")\n",
    "ap6 = import_raw_data(\"AP6.xls\", \"Download\")\n",
    "ap7 = import_raw_data(\"AP7.xls\", \"Download\")\n",
    "ap8 = import_raw_data(\"AP8.xls\", \"Download\")\n",
    "ap9 = import_raw_data(\"AP9.xls\", \"Download\")"
   ]
  },
  {
   "cell_type": "code",
   "execution_count": null,
   "id": "261893f0-9990-4bd0-b81a-771f8a819b2a",
   "metadata": {
    "scrolled": true,
    "tags": []
   },
   "outputs": [],
   "source": [
    "ap10 = import_raw_data(\n",
    "    \"FY 2122 AP10_Closed_PMP Summary Report.022822_Andrew Updated.xlsx\",\n",
    "    \"Raw Data AP10 Closed\",\n",
    ")\n",
    "ap11 = import_raw_data(\n",
    "    \"FY 2122 AP11_Closed_PMP Summary Report.022822_Updated.xlsx\", \"Raw Data AP11 Closed\"\n",
    ")\n",
    "ap12 = import_raw_data(\n",
    "    \"FY 2122 AP12_Closed_PMP Summary Report.022822_Updated.xlsx\", \"Raw Data AP12 Closed\"\n",
    ")"
   ]
  },
  {
   "cell_type": "markdown",
   "id": "b891fd53-12d1-4271-a804-8e35e1789577",
   "metadata": {},
   "source": [
    "## Division DF \n",
    "* Attempt to mimic William's processed sheet called \"division df\"\n",
    "* This dataframe is just the most AP 11 (I think) with some stuff filtered"
   ]
  },
  {
   "cell_type": "code",
   "execution_count": null,
   "id": "bd956c1a-fc26-4c52-b491-ef3138223748",
   "metadata": {},
   "outputs": [],
   "source": [
    "# Drop excluded cols\n",
    "excluded_cols = [\"appr_catg\", \"act__hours\", \"py_pos_alloc\"]\n",
    "division_test = ap11.drop(columns=excluded_cols)"
   ]
  },
  {
   "cell_type": "code",
   "execution_count": null,
   "id": "6ba5993a-297c-43b6-94a0-dbc9296af901",
   "metadata": {},
   "outputs": [],
   "source": [
    "# Add a blank column for notes\n",
    "division_test[\"notes\"] = np.nan"
   ]
  },
  {
   "cell_type": "code",
   "execution_count": null,
   "id": "3ec89d17-9ccb-4808-bc91-d6670ba7713b",
   "metadata": {},
   "outputs": [],
   "source": [
    "# Filter out for the appropriations\n",
    "unwanted_appropriations = [\"1850522\", \"22102\", \"22105\"]"
   ]
  },
  {
   "cell_type": "code",
   "execution_count": null,
   "id": "f40741d2-6817-4f3d-96d4-404310f62f9b",
   "metadata": {},
   "outputs": [],
   "source": [
    "# filter them all out at once.\n",
    "division_test = division_test[\n",
    "    ~division_test.appropriation.isin(unwanted_appropriations)\n",
    "]"
   ]
  },
  {
   "cell_type": "code",
   "execution_count": null,
   "id": "0c7b20fb-7f32-412b-9931-2c5ef28029e3",
   "metadata": {},
   "outputs": [],
   "source": [
    "test = set(division_test.appropriation.unique().tolist())\n",
    "actual = set(division_df.appropriation.unique().tolist())"
   ]
  },
  {
   "cell_type": "code",
   "execution_count": null,
   "id": "4cf6dc76-b9d6-4f40-b1c9-0e2d36787e95",
   "metadata": {},
   "outputs": [],
   "source": [
    "actual - test"
   ]
  },
  {
   "cell_type": "code",
   "execution_count": null,
   "id": "d243147b-d7fd-483f-82fc-18d32692f043",
   "metadata": {},
   "outputs": [],
   "source": [
    "test - actual"
   ]
  },
  {
   "cell_type": "code",
   "execution_count": null,
   "id": "c296c184-ca83-44c3-89ee-19732b18c9a4",
   "metadata": {},
   "outputs": [],
   "source": [
    "division_test.shape"
   ]
  },
  {
   "cell_type": "code",
   "execution_count": null,
   "id": "d00b2cc5-f552-414c-8220-d13ba2a3ad6d",
   "metadata": {},
   "outputs": [],
   "source": [
    "assert set(division_df.column) == set(division_test.columns)"
   ]
  },
  {
   "cell_type": "code",
   "execution_count": null,
   "id": "7359b25a-bf97-4150-a7cd-24b13055cdf0",
   "metadata": {},
   "outputs": [],
   "source": [
    "testing_cols = [\n",
    "    \"ps_allocation\",\n",
    "    \"ps_expenditure\",\n",
    "    \"ps_balance\",\n",
    "    \"ps_projection\",\n",
    "    \"oe_allocation\",\n",
    "    \"oe_encumbrance\",\n",
    "    \"oe_expenditure\",\n",
    "    \"total_allocation\",\n",
    "    \"total_expenditure\",\n",
    "    \"total_balance\",\n",
    "]"
   ]
  },
  {
   "cell_type": "code",
   "execution_count": null,
   "id": "83ea47e5-b80f-486c-b7c1-21ce491772da",
   "metadata": {},
   "outputs": [],
   "source": [
    "for i in testing_cols:\n",
    "    print(division_df[i].sum())"
   ]
  },
  {
   "cell_type": "code",
   "execution_count": null,
   "id": "54108397-52fb-4da9-a749-ece3da0a005f",
   "metadata": {},
   "outputs": [],
   "source": [
    "for i in testing_cols:\n",
    "    print(division_test[i].sum())"
   ]
  }
 ],
 "metadata": {
  "kernelspec": {
   "display_name": "Python 3 (ipykernel)",
   "language": "python",
   "name": "python3"
  },
  "language_info": {
   "codemirror_mode": {
    "name": "ipython",
    "version": 3
   },
   "file_extension": ".py",
   "mimetype": "text/x-python",
   "name": "python",
   "nbconvert_exporter": "python",
   "pygments_lexer": "ipython3",
   "version": "3.10.4"
  }
 },
 "nbformat": 4,
 "nbformat_minor": 5
}
