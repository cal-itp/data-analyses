{
 "cells": [
  {
   "cell_type": "markdown",
   "id": "408301ee-f7aa-4102-83c9-56e7126f0366",
   "metadata": {},
   "source": [
    "# Mapping warehouse v2 GTFS data to Airtable (services, organizations)\n",
    "\n",
    "Laurie / November 2022\n",
    "\n",
    "Investigate:\n",
    "* How many datasets map to multiple services?\n",
    "* How many services map to multiple datasets?\n",
    "* How many datasets map to multiple organizations? \n",
    "* How best to assign ITP IDs to GTFS datasets in the v2 pipeline?\n",
    "\n",
    "## Schedule only"
   ]
  },
  {
   "cell_type": "code",
   "execution_count": null,
   "id": "e899bd0b-9652-4660-92eb-ea32755a0daf",
   "metadata": {},
   "outputs": [],
   "source": [
    "import pandas as pd\n",
    "import pandas_gbq\n",
    "import base64\n",
    "import datetime\n"
   ]
  },
  {
   "cell_type": "code",
   "execution_count": null,
   "id": "517d3244-2027-4abb-a65c-b2c27f0ca910",
   "metadata": {},
   "outputs": [],
   "source": [
    "feeds_raw  = pd.read_gbq(\n",
    "    \"\"\"\n",
    "    select \n",
    "        key AS dt_feed_key,\n",
    "        feed_key AS schedule_feed_key,\n",
    "        gtfs_dataset_key,\n",
    "        null AS schedule_to_use_for_rt_validation_gtfs_dataset_key\n",
    "    from `cal-itp-data-infra-staging`.`laurie_mart_gtfs`.`fct_daily_schedule_feeds`\n",
    "    where date = '2022-10-31'\n",
    "    UNION ALL\n",
    "    select \n",
    "        key AS dt_feed_key,\n",
    "        schedule_feed_key,\n",
    "        gtfs_dataset_key,\n",
    "        schedule_to_use_for_rt_validation_gtfs_dataset_key\n",
    "    from `cal-itp-data-infra-staging`.`laurie_mart_gtfs`.`fct_daily_rt_feed_files`\n",
    "    where date = '2022-10-31'\n",
    "    \"\"\", project_id = 'cal-itp-data-infra-staging')"
   ]
  },
  {
   "cell_type": "code",
   "execution_count": null,
   "id": "e82e5bfe-82b8-40bb-a75f-48cf2e288514",
   "metadata": {},
   "outputs": [],
   "source": [
    "gtfs_datasets_raw  = pd.read_gbq(\n",
    "    \"\"\"\n",
    "    select *\n",
    "    from `cal-itp-data-infra`.`mart_transit_database`.`dim_gtfs_datasets`\n",
    "    \"\"\", project_id = 'cal-itp-data-infra')"
   ]
  },
  {
   "cell_type": "code",
   "execution_count": null,
   "id": "58ae47df-d68c-4049-8421-63c10bc37f0d",
   "metadata": {},
   "outputs": [],
   "source": [
    "gtfs_service_data_raw  = pd.read_gbq(\n",
    "    \"\"\"\n",
    "    select *\n",
    "    from `cal-itp-data-infra`.`mart_transit_database`.`dim_gtfs_service_data`\n",
    "    \"\"\", project_id = 'cal-itp-data-infra')"
   ]
  },
  {
   "cell_type": "code",
   "execution_count": null,
   "id": "117245ab-1d83-4c41-9843-fc7f61f82d18",
   "metadata": {},
   "outputs": [],
   "source": [
    "services_raw  = pd.read_gbq(\n",
    "    \"\"\"\n",
    "    select *\n",
    "    from `cal-itp-data-infra`.`mart_transit_database`.`dim_services`\n",
    "    \"\"\", project_id = 'cal-itp-data-infra')"
   ]
  },
  {
   "cell_type": "code",
   "execution_count": null,
   "id": "d3bc4f82-8ef0-44c0-b67c-73ac0d2f3517",
   "metadata": {},
   "outputs": [],
   "source": [
    "organizations_raw  = pd.read_gbq(\n",
    "    \"\"\"\n",
    "    select *\n",
    "    from `cal-itp-data-infra`.`mart_transit_database`.`dim_organizations`\n",
    "    \"\"\", project_id = 'cal-itp-data-infra')"
   ]
  },
  {
   "cell_type": "code",
   "execution_count": null,
   "id": "c357cbeb-ad14-4a4b-ba7a-933c57793585",
   "metadata": {},
   "outputs": [],
   "source": [
    "service_organization_bridge_raw  = pd.read_gbq(\n",
    "    \"\"\"\n",
    "    select *\n",
    "    from `cal-itp-data-infra`.`mart_transit_database`.`bridge_organizations_x_services_managed`\n",
    "    \"\"\", project_id = 'cal-itp-data-infra')"
   ]
  },
  {
   "cell_type": "code",
   "execution_count": null,
   "id": "7ee1b467-e23d-40b1-a767-e88c305fb8d3",
   "metadata": {},
   "outputs": [],
   "source": [
    "# copy for manipulation\n",
    "schedule_feeds = feeds_raw.copy()\n",
    "gtfs_datasets = gtfs_datasets_raw.copy()\n",
    "gtfs_service_data = gtfs_service_data_raw.copy()\n",
    "services = services_raw.copy()\n",
    "organizations = organizations_raw.copy()\n",
    "service_organization_bridge = service_organization_bridge_raw.copy()"
   ]
  },
  {
   "cell_type": "code",
   "execution_count": null,
   "id": "6acba0f2-fdbd-4168-be2a-6021056dab27",
   "metadata": {},
   "outputs": [],
   "source": [
    "# map feeds to airtable datasets\n",
    "feeds_to_datasets = schedule_feeds.merge(gtfs_datasets[['name', 'key', 'base64_url', 'data']], how = 'left', right_on = 'key', left_on = 'gtfs_dataset_key', suffixes = ['_feed', '_dataset'])"
   ]
  },
  {
   "cell_type": "code",
   "execution_count": null,
   "id": "601cc91e-0c3c-44d1-aabb-240ce92ef940",
   "metadata": {},
   "outputs": [],
   "source": [
    "# do the naive thing: dataset --> service --> organization\n",
    "feeds_to_services = feeds_to_datasets.merge(\n",
    "    gtfs_service_data[['service_key', 'gtfs_dataset_key', 'category', 'reference_static_gtfs_service_data_key']],\n",
    "    how = 'left', on = 'gtfs_dataset_key')"
   ]
  },
  {
   "cell_type": "code",
   "execution_count": null,
   "id": "4d245f2b-c8f1-4267-91ca-3a1f2cb9ef8a",
   "metadata": {},
   "outputs": [],
   "source": [
    "feeds_to_organizations = feeds_to_services.merge(service_organization_bridge, how = 'left', on = 'service_key').merge(organizations[['key', 'itp_id']], how = 'left', left_on = 'organization_key', right_on = 'key')"
   ]
  },
  {
   "cell_type": "code",
   "execution_count": null,
   "id": "de0768c9-8214-4995-b70a-0d3f14baa93c",
   "metadata": {},
   "outputs": [],
   "source": [
    "# look for one feed with multiple itp ids\n",
    "itp_ids_per_feed = feeds_to_organizations[feeds_to_organizations.category == \"primary\"].groupby(by = ['dt_feed_key', 'name'])['itp_id'].nunique().reset_index()"
   ]
  },
  {
   "cell_type": "code",
   "execution_count": null,
   "id": "01310ef8-ce36-436c-af7b-83a07d553a01",
   "metadata": {},
   "outputs": [],
   "source": [
    "multiple_itp_ids_per_feed = itp_ids_per_feed[itp_ids_per_feed.itp_id > 1].copy()\n",
    "multiple_itp_ids_per_feed['feed_with_multiple_itp_ids'] = True"
   ]
  },
  {
   "cell_type": "code",
   "execution_count": null,
   "id": "fa65deea-3523-4980-a8fd-a593ace1ea2c",
   "metadata": {},
   "outputs": [],
   "source": [
    "# now the other direction: ITP IDs that end up with multiple datasets\n",
    "feeds_per_itp_id = feeds_to_organizations[feeds_to_organizations.category == \"primary\"].groupby(by = ['itp_id', 'data'])[['dt_feed_key']].nunique().reset_index()"
   ]
  },
  {
   "cell_type": "code",
   "execution_count": null,
   "id": "978e4508-2b8b-4b5a-8064-c00c1cb881ee",
   "metadata": {},
   "outputs": [],
   "source": [
    "multiple_feeds_per_itp_id = feeds_per_itp_id[feeds_per_itp_id.dt_feed_key > 1].copy()\n",
    "multiple_feeds_per_itp_id['itp_id_with_multiple_feeds'] = True"
   ]
  },
  {
   "cell_type": "code",
   "execution_count": null,
   "id": "74d09b3f-1ac8-4542-b576-a6d590030066",
   "metadata": {},
   "outputs": [],
   "source": [
    "# add flags to the core table\n",
    "feeds_to_organizations = feeds_to_organizations.merge(multiple_itp_ids_per_feed[['dt_feed_key','feed_with_multiple_itp_ids']], how = 'left', on = 'dt_feed_key')\n",
    "feeds_to_organizations['feed_with_multiple_itp_ids'].fillna(False, inplace=True)\n",
    "\n",
    "feeds_to_organizations = feeds_to_organizations.merge(multiple_feeds_per_itp_id[['itp_id', 'data','itp_id_with_multiple_feeds']], how = 'left', on = ['itp_id', 'data'])\n",
    "feeds_to_organizations['itp_id_with_multiple_feeds'].fillna(False, inplace=True)"
   ]
  },
  {
   "cell_type": "code",
   "execution_count": null,
   "id": "630429e6-645c-43ee-9cd2-db76bd8c3e5d",
   "metadata": {},
   "outputs": [],
   "source": [
    "old_itp_mapping_raw  = pd.read_gbq(\n",
    "    \"\"\"\n",
    "    select t1.*,\n",
    "    t2.calitp_itp_id,\n",
    "    t2.calitp_url_number,\n",
    "    t2.calitp_feed_name\n",
    "    from `cal-itp-data-infra-staging.views.gtfs_schedule_fact_daily_feeds` t1\n",
    "    left join `cal-itp-data-infra-staging.views.gtfs_schedule_dim_feeds` t2\n",
    "        using(feed_key)\n",
    "    where date = '2022-10-31'\n",
    "    \"\"\", project_id = 'cal-itp-data-infra')"
   ]
  },
  {
   "cell_type": "code",
   "execution_count": null,
   "id": "34a4a8e1-9ef3-4a39-8d2d-d6a6c67a1233",
   "metadata": {},
   "outputs": [],
   "source": [
    "old_itp_mapping = old_itp_mapping_raw.melt(id_vars = ['calitp_itp_id', 'calitp_url_number', 'calitp_feed_name'], value_vars = ['raw_gtfs_schedule_url', 'raw_gtfs_rt_vehicle_positions_url', 'raw_gtfs_rt_service_alerts_url',\n",
    "       'raw_gtfs_rt_trip_updates_url'], var_name = 'type', value_name = 'url')"
   ]
  },
  {
   "cell_type": "code",
   "execution_count": null,
   "id": "d5a3a8d9-2894-46f0-87aa-1937ff29ebe0",
   "metadata": {},
   "outputs": [],
   "source": [
    "old_itp_mapping = old_itp_mapping[old_itp_mapping.url.notnull()].copy()"
   ]
  },
  {
   "cell_type": "code",
   "execution_count": null,
   "id": "a4bb3254-7f8f-4515-abf0-771c4a2479a2",
   "metadata": {},
   "outputs": [],
   "source": [
    "# have to replace templating \n",
    "old_itp_mapping['url_to_encode'] = old_itp_mapping.url.copy()\n",
    "old_itp_mapping['url_to_encode'] = old_itp_mapping['url_to_encode'].str.replace('api_key={{ MTC_511_API_KEY}}','',regex=False)\n",
    "old_itp_mapping['url_to_encode'] = old_itp_mapping['url_to_encode'].str.replace('https://api.511.org/transit/servicealerts?','https://api.511.org/transit/servicealerts',regex=False)\n",
    "old_itp_mapping['url_to_encode'] = old_itp_mapping['url_to_encode'].str.replace('?&','?',regex=False)\n",
    "old_itp_mapping['url_to_encode'] = old_itp_mapping['url_to_encode'].str.replace('?token={{ AC_TRANSIT_API_KEY }}','',regex=False)\n",
    "old_itp_mapping['url_to_encode'] = old_itp_mapping['url_to_encode'].str.replace('?apiKey={{ TORRANCE_TRANSIT_API_KEY }}','',regex=False)\n",
    "old_itp_mapping['url_to_encode'] = old_itp_mapping['url_to_encode'].str.replace('?key={{ SD_MTS_VP_TU_API_KEY}}','',regex=False)\n",
    "old_itp_mapping['url_to_encode'] = old_itp_mapping['url_to_encode'].str.replace('?apiKey={{ SD_MTS_SA_API_KEY}}','',regex=False)\n",
    "old_itp_mapping['url_to_encode'] = old_itp_mapping['url_to_encode'].str.replace('?apiKey={{ CULVER_CITY_API_KEY }}','',regex=False)"
   ]
  },
  {
   "cell_type": "code",
   "execution_count": null,
   "id": "2fb2d42e-aa76-46e6-9474-3b2c7a6bec1a",
   "metadata": {},
   "outputs": [],
   "source": [
    "old_itp_mapping.calitp_itp_id = old_itp_mapping.calitp_itp_id.astype(float)"
   ]
  },
  {
   "cell_type": "code",
   "execution_count": null,
   "id": "7de89191-8bcd-43c2-ac62-d5c40407cbac",
   "metadata": {},
   "outputs": [],
   "source": [
    "v2_map = feeds_to_organizations[['dt_feed_key','name', 'base64_url', 'organization_name', 'itp_id', 'feed_with_multiple_itp_ids', 'itp_id_with_multiple_feeds']].drop_duplicates()"
   ]
  },
  {
   "cell_type": "code",
   "execution_count": null,
   "id": "542d55ea-218c-448a-9586-1211e2b47710",
   "metadata": {},
   "outputs": [],
   "source": [
    "v2_map['decoded_url'] = v2_map.base64_url.apply(lambda x: base64.urlsafe_b64decode(x).decode())"
   ]
  },
  {
   "cell_type": "code",
   "execution_count": null,
   "id": "ca527742-9623-470c-9bc8-4beec9541811",
   "metadata": {},
   "outputs": [],
   "source": [
    "compare = v2_map.merge(old_itp_mapping, how = 'outer', left_on = ['decoded_url', 'itp_id'], right_on = ['url_to_encode', 'calitp_itp_id'])"
   ]
  },
  {
   "cell_type": "code",
   "execution_count": null,
   "id": "30cbcfb5-2f36-4f2f-bda3-8caf24f607b7",
   "metadata": {},
   "outputs": [],
   "source": [
    "compare[compare.calitp_itp_id.isna() | compare.dt_feed_key.isna()]"
   ]
  },
  {
   "cell_type": "code",
   "execution_count": null,
   "id": "6dce4c67-424b-44f2-a6a0-ad40e021241f",
   "metadata": {},
   "outputs": [],
   "source": []
  }
 ],
 "metadata": {
  "kernelspec": {
   "display_name": "Python 3 (ipykernel)",
   "language": "python",
   "name": "python3"
  },
  "language_info": {
   "codemirror_mode": {
    "name": "ipython",
    "version": 3
   },
   "file_extension": ".py",
   "mimetype": "text/x-python",
   "name": "python",
   "nbconvert_exporter": "python",
   "pygments_lexer": "ipython3",
   "version": "3.10.6"
  }
 },
 "nbformat": 4,
 "nbformat_minor": 5
}
