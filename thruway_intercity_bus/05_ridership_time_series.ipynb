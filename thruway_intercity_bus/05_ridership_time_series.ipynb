{
 "cells": [
  {
   "cell_type": "code",
   "execution_count": null,
   "id": "92fba554-4b92-47e3-9b02-7fbb7b43e6e4",
   "metadata": {
    "tags": []
   },
   "outputs": [],
   "source": [
    "import pandas as pd\n",
    "import update_vars\n",
    "import utils\n",
    "\n",
    "import altair as alt\n",
    "import datetime as dt\n",
    "\n",
    "from calitp_data_analysis.gcs_geopandas import GCSGeoPandas\n",
    "gcsgp = GCSGeoPandas()"
   ]
  },
  {
   "cell_type": "code",
   "execution_count": null,
   "id": "a26b0a5a-795a-4065-ad5b-6d968e7c5da3",
   "metadata": {
    "tags": []
   },
   "outputs": [],
   "source": [
    "ridership = utils.read_format_ridership()"
   ]
  },
  {
   "cell_type": "markdown",
   "id": "cecfb3b7-f78f-4d46-b99e-383444867d4d",
   "metadata": {},
   "source": [
    "# Time Series Ridership Info\n",
    "\n",
    "* Ridership data sourced from Amtrak-provided Origin-Destination Ridership and Revenue\n",
    "    * Amtrak Route 56 is combined into Route 6 (Central Valley - San Jose)"
   ]
  },
  {
   "cell_type": "code",
   "execution_count": null,
   "id": "70b70823-e7bb-4c7f-9684-941565fee948",
   "metadata": {
    "tags": []
   },
   "outputs": [],
   "source": [
    "# monthly = ridership.groupby(['ca_bus_route', 'trip_month', 'trip_year'])[['ridership', 'revenue']].sum().reset_index()\n",
    "monthly = ridership.groupby(['route_short_name', 'trip_month', 'trip_year'])[['ridership', 'revenue']].sum().reset_index()"
   ]
  },
  {
   "cell_type": "code",
   "execution_count": null,
   "id": "2dc55dfb-1f3a-45b6-be6c-aad802ceac4d",
   "metadata": {},
   "outputs": [],
   "source": [
    "date_from_row = lambda row: dt.date(year=row.trip_year, month=row.trip_month, day=1)"
   ]
  },
  {
   "cell_type": "code",
   "execution_count": null,
   "id": "beecba6d-ea9a-4e71-b230-5a3799583824",
   "metadata": {
    "tags": []
   },
   "outputs": [],
   "source": [
    "monthly = monthly.assign(date = monthly.apply(date_from_row, axis=1).astype('datetime64'))"
   ]
  },
  {
   "cell_type": "code",
   "execution_count": null,
   "id": "eae8f2c6-86fd-4ba9-a06f-2c0a5ba28a5c",
   "metadata": {
    "tags": []
   },
   "outputs": [],
   "source": [
    "shape_df = gcsgp.read_parquet(f'{update_vars.GCS_PATH}intermediate/sanj_shapes_trip_info_{update_vars.ANALYSIS_DATE}.parquet')"
   ]
  },
  {
   "cell_type": "code",
   "execution_count": null,
   "id": "4decb715-b801-4a40-801e-1eb5c609c5a5",
   "metadata": {
    "tags": []
   },
   "outputs": [],
   "source": [
    "shape_df = shape_df[['route_short_name', 'route_long_name']].drop_duplicates()"
   ]
  },
  {
   "cell_type": "code",
   "execution_count": null,
   "id": "6f336ea7-5fd9-4559-8a3d-a60705bb5551",
   "metadata": {
    "tags": []
   },
   "outputs": [],
   "source": [
    "monthly = monthly.merge(shape_df, on='route_short_name', how='left')"
   ]
  },
  {
   "cell_type": "markdown",
   "id": "d33d01b2-1582-45db-89ce-1caaef50bbe3",
   "metadata": {},
   "source": [
    "## Trend by route\n",
    "\n",
    "* can mouse over points for additional info, scroll, and zoom chart\n",
    "* shift-click routes in the legend to select or deselect for highlight\n",
    "* updated with LOSSAN route"
   ]
  },
  {
   "cell_type": "code",
   "execution_count": null,
   "id": "27fc4bcd-cd86-44b1-9f7e-89cdb698a64b",
   "metadata": {
    "tags": []
   },
   "outputs": [],
   "source": [
    "selection = alt.selection_point(fields=['route_short_name'], bind='legend')\n",
    "\n",
    "(alt.Chart(monthly)\n",
    " .mark_line(point=True)\n",
    " .encode(\n",
    "    x=alt.X('date:T', axis=alt.Axis(format=\"%Y %b\")),\n",
    "    y='ridership:Q',\n",
    "    color='route_short_name:N',\n",
    "    tooltip=['route_short_name', alt.Tooltip('ridership:Q', format=','), alt.Tooltip('revenue:Q', format=','), 'date',\n",
    "            'route_long_name'],\n",
    "    opacity=alt.when(selection).then(alt.value(1)).otherwise(alt.value(0.2))\n",
    "    )\n",
    " .properties(width=800, height=400)\n",
    " .interactive()\n",
    ").add_params(\n",
    "    selection\n",
    ")"
   ]
  },
  {
   "cell_type": "code",
   "execution_count": null,
   "id": "410c1746-04c4-4cdd-8798-fff849e48bf0",
   "metadata": {
    "tags": []
   },
   "outputs": [],
   "source": [
    "pct_change_rider_revenue = lambda df: df.set_index(['date']).sort_index()[['ridership', 'revenue']].pct_change(periods=12)"
   ]
  },
  {
   "cell_type": "code",
   "execution_count": null,
   "id": "2a13a093-b34a-4cef-b0cb-9a51665c3a7f",
   "metadata": {
    "tags": []
   },
   "outputs": [],
   "source": [
    "df = monthly.groupby(['route_short_name']).apply(pct_change_rider_revenue)"
   ]
  },
  {
   "cell_type": "code",
   "execution_count": null,
   "id": "1e764597-fd1d-404e-831b-1667f92ef949",
   "metadata": {
    "tags": []
   },
   "outputs": [],
   "source": [
    "yoy = df.reset_index().dropna().round(2)"
   ]
  },
  {
   "cell_type": "code",
   "execution_count": null,
   "id": "447eaff7-707c-4216-ab67-7a40d467382b",
   "metadata": {
    "tags": []
   },
   "outputs": [],
   "source": [
    "yoy = yoy.rename(columns={'ridership':'ridership_yoy_change', 'revenue':'revenue_yoy_change'})"
   ]
  },
  {
   "cell_type": "code",
   "execution_count": null,
   "id": "5234fcda-bbbb-4d7b-aa93-939f42909745",
   "metadata": {
    "tags": []
   },
   "outputs": [],
   "source": [
    "yoy = yoy.merge(monthly, on = ['route_short_name', 'date'])"
   ]
  },
  {
   "cell_type": "markdown",
   "id": "843b23e6-72f6-4991-b236-acbbe034d8c0",
   "metadata": {},
   "source": [
    "## Year-over-year change\n",
    "\n",
    "* bubbles above dashed zero line show a positive year over year change\n",
    "* size of the bubble indicates absolute ridership\n",
    "* can mouse over points for additional info, scroll, and zoom chart\n",
    "* shift-click routes in the legend to select or deselect for highlight"
   ]
  },
  {
   "cell_type": "code",
   "execution_count": null,
   "id": "7f07cfaa-ec2e-4c2d-be1a-1b101fb1c58f",
   "metadata": {
    "tags": []
   },
   "outputs": [],
   "source": [
    "chart = alt.Chart(yoy)\n",
    "\n",
    "points = (chart\n",
    " .mark_point()\n",
    " .encode(\n",
    "    x=alt.X('date:T', axis=alt.Axis(format=\"%Y %b\")),\n",
    "    y='ridership_yoy_change:Q',\n",
    "    color='route_short_name:N',\n",
    "    size='ridership:Q',\n",
    "    tooltip=['route_short_name', alt.Tooltip('ridership_yoy_change:Q', format='.0%'), alt.Tooltip('revenue_yoy_change:Q', format='.0%'), 'date',\n",
    "            alt.Tooltip('ridership:Q', format=','), alt.Tooltip('revenue:Q', format=','), 'route_long_name'],\n",
    "    opacity=alt.when(selection).then(alt.value(1)).otherwise(alt.value(0.2))\n",
    "    )\n",
    " .properties(width=800, height=400)\n",
    " .interactive()\n",
    ").add_params(\n",
    "    selection\n",
    ")\n",
    "\n",
    "rule = chart.mark_rule(strokeDash=[2, 2]).encode(\n",
    "    y=alt.datum(0)\n",
    ")\n",
    "\n",
    "points + rule"
   ]
  }
 ],
 "metadata": {
  "kernelspec": {
   "display_name": "Python 3 (ipykernel)",
   "language": "python",
   "name": "python3"
  },
  "language_info": {
   "codemirror_mode": {
    "name": "ipython",
    "version": 3
   },
   "file_extension": ".py",
   "mimetype": "text/x-python",
   "name": "python",
   "nbconvert_exporter": "python",
   "pygments_lexer": "ipython3",
   "version": "3.11.10"
  },
  "widgets": {
   "application/vnd.jupyter.widget-state+json": {
    "state": {},
    "version_major": 2,
    "version_minor": 0
   }
  }
 },
 "nbformat": 4,
 "nbformat_minor": 5
}
