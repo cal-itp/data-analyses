{
 "cells": [
  {
   "cell_type": "code",
   "execution_count": null,
   "id": "a31d74df-cbb5-4066-ae86-1d105ee39a53",
   "metadata": {
    "tags": []
   },
   "outputs": [],
   "source": [
    "import pandas as pd\n",
    "import geopandas as gpd\n",
    "from calitp_data_analysis.sql import query_sql\n",
    "from calitp_data_analysis.gcs_geopandas import GCSGeoPandas\n",
    "from calitp_data_analysis.geography_utils import CA_NAD83Albers_m, WGS84\n",
    "gcsgp = GCSGeoPandas()\n",
    "from shared_utils import gtfs_utils_v2\n",
    "from shared_utils.rt_utils import show_full_df\n",
    "\n",
    "import utils\n",
    "from update_vars import ANALYSIS_DATE, shape_cols, trip_cols, stop_cols, stop_time_cols\n",
    "analysis_date = ANALYSIS_DATE"
   ]
  },
  {
   "cell_type": "markdown",
   "id": "475883c3-a956-46bb-993a-d31860ec1689",
   "metadata": {
    "tags": []
   },
   "source": [
    "# Explore Thruway Bus (and state-suppoted rail) data availability"
   ]
  },
  {
   "cell_type": "code",
   "execution_count": null,
   "id": "8cae391e-e1e9-4023-a835-e84ef87143e8",
   "metadata": {
    "tags": []
   },
   "outputs": [],
   "source": [
    "ca = gcsgp.read_parquet('gs://calitp-analytics-data/data-analyses/high_quality_transit_areas/ca_boundary.parquet')"
   ]
  },
  {
   "cell_type": "code",
   "execution_count": null,
   "id": "c1d41f30-ad34-43d0-a927-184c03b7c9f9",
   "metadata": {
    "tags": []
   },
   "outputs": [],
   "source": [
    "feeds = gtfs_utils_v2.schedule_daily_feed_to_gtfs_dataset_name(analysis_date)"
   ]
  },
  {
   "cell_type": "markdown",
   "id": "6530f2a4-43eb-4a45-ba9b-72cb1a10fbba",
   "metadata": {
    "jp-MarkdownHeadingCollapsed": true,
    "tags": []
   },
   "source": [
    "## New SJJPA San Joaquins feed"
   ]
  },
  {
   "cell_type": "code",
   "execution_count": null,
   "id": "49d90614-5f0a-44cb-b7e0-ebdb7ef5bbdb",
   "metadata": {
    "tags": []
   },
   "outputs": [],
   "source": [
    "query = '''\n",
    "SELECT * from cal-itp-data-infra.mart_transit_database.dim_gtfs_service_data\n",
    "WHERE _is_current\n",
    "LIMIT 1000\n",
    "'''"
   ]
  },
  {
   "cell_type": "code",
   "execution_count": null,
   "id": "5d4f6cd5-97ca-4ee7-b3d1-a53a20fdd487",
   "metadata": {
    "tags": []
   },
   "outputs": [],
   "source": [
    "df = query_sql(query)"
   ]
  },
  {
   "cell_type": "code",
   "execution_count": null,
   "id": "9d3a3636-8cd8-4a0a-a5f1-e94288f857e0",
   "metadata": {
    "tags": []
   },
   "outputs": [],
   "source": [
    "sanj = df.query('name.str.contains(\"Amtrak San J\")')"
   ]
  },
  {
   "cell_type": "code",
   "execution_count": null,
   "id": "50f1e501-c7f4-45b2-816b-abe78b256b39",
   "metadata": {
    "tags": []
   },
   "outputs": [],
   "source": [
    "sanj"
   ]
  },
  {
   "cell_type": "code",
   "execution_count": null,
   "id": "e59dadf9-f116-46f8-bddb-cdbccfd7c8c9",
   "metadata": {
    "tags": []
   },
   "outputs": [],
   "source": [
    "sanj = feeds.query('name.str.contains(\"Amtrak San Joaquins\")')\n",
    "sanj"
   ]
  },
  {
   "cell_type": "code",
   "execution_count": null,
   "id": "2c504345-9365-491e-8cf6-2f60a356b92d",
   "metadata": {
    "tags": []
   },
   "outputs": [],
   "source": [
    "sanj_shapes = gtfs_utils_v2.get_shapes(analysis_date, operator_feeds=sanj.feed_key, shape_cols=utils.shape_cols)"
   ]
  },
  {
   "cell_type": "code",
   "execution_count": null,
   "id": "4fc4f01f-fa1d-4858-969d-e001ba0f41dc",
   "metadata": {},
   "outputs": [],
   "source": [
    "sanj_shapes = sanj_shapes"
   ]
  },
  {
   "cell_type": "code",
   "execution_count": null,
   "id": "edf45791-df31-4b14-a87c-0d8ffcc53ef5",
   "metadata": {
    "tags": []
   },
   "outputs": [],
   "source": [
    "sanj_shapes"
   ]
  },
  {
   "cell_type": "code",
   "execution_count": null,
   "id": "2a3f9ffd-9c12-4964-a6fa-3a4a09b1bf33",
   "metadata": {
    "tags": []
   },
   "outputs": [],
   "source": [
    "sanj_trips = gtfs_utils_v2.get_trips(analysis_date, operator_feeds=sanj.feed_key, trip_cols=utils.trip_cols)"
   ]
  },
  {
   "cell_type": "code",
   "execution_count": null,
   "id": "0d21e56c-6cb1-4388-bec6-9ee9e6abe14a",
   "metadata": {
    "tags": []
   },
   "outputs": [],
   "source": [
    "# sanj_trips.query('route_type == \"2\"')"
   ]
  },
  {
   "cell_type": "code",
   "execution_count": null,
   "id": "5c4fce32-eed1-489f-8c3e-0332e096c94b",
   "metadata": {
    "tags": []
   },
   "outputs": [],
   "source": [
    "sanj_trips[['route_short_name', 'route_long_name', 'trip_instance_key']].groupby(['route_short_name', 'route_long_name']).count()"
   ]
  },
  {
   "cell_type": "code",
   "execution_count": null,
   "id": "961206c2-548e-49b1-b1db-7bb2e9eaa3df",
   "metadata": {
    "tags": []
   },
   "outputs": [],
   "source": [
    "sanj_shapes_trip_info = sanj_shapes.merge(sanj_trips.drop_duplicates(subset=['shape_array_key']), on = ['shape_array_key', 'feed_key'])"
   ]
  },
  {
   "cell_type": "code",
   "execution_count": null,
   "id": "86a3ec1c-68b0-493d-878e-38446c072993",
   "metadata": {
    "tags": []
   },
   "outputs": [],
   "source": [
    "# sanj_shapes_trip_info.drop(columns=['service_date']).explore(column='route_long_name')"
   ]
  },
  {
   "cell_type": "code",
   "execution_count": null,
   "id": "c7d9673f-6d69-4481-88d5-5e91c81206af",
   "metadata": {
    "tags": []
   },
   "outputs": [],
   "source": [
    "sanj_trips.query('route_short_name == \"Route 99\"')"
   ]
  },
  {
   "cell_type": "markdown",
   "id": "8fe2cd14-e17a-42f1-b378-06a703631104",
   "metadata": {
    "jp-MarkdownHeadingCollapsed": true,
    "tags": []
   },
   "source": [
    "## Capitol Corridor"
   ]
  },
  {
   "cell_type": "code",
   "execution_count": null,
   "id": "5d79d26a-41f7-46ca-844d-2d27454c5213",
   "metadata": {
    "tags": []
   },
   "outputs": [],
   "source": [
    "cc_feed = feeds.query('name.str.contains(\"Capitol\")')"
   ]
  },
  {
   "cell_type": "code",
   "execution_count": null,
   "id": "756213f0-60ef-4292-aa25-de76caef9d34",
   "metadata": {
    "tags": []
   },
   "outputs": [],
   "source": [
    "cc_shapes = gtfs_utils_v2.get_shapes(analysis_date, operator_feeds=cc_feed.feed_key, shape_cols=utils.shape_cols)"
   ]
  },
  {
   "cell_type": "code",
   "execution_count": null,
   "id": "a7581d28-3715-4634-bd8c-35a01fa06715",
   "metadata": {
    "tags": []
   },
   "outputs": [],
   "source": [
    "cc_trips = gtfs_utils_v2.get_trips(analysis_date, operator_feeds=cc_feed.feed_key, trip_cols=utils.trip_cols)"
   ]
  },
  {
   "cell_type": "code",
   "execution_count": null,
   "id": "436eb6ae-6e78-4bcf-9dfb-c45aa83340d2",
   "metadata": {
    "tags": []
   },
   "outputs": [],
   "source": [
    "cc_trips[['route_short_name', 'route_long_name', 'trip_instance_key']].groupby(['route_short_name', 'route_long_name']).count()"
   ]
  },
  {
   "cell_type": "code",
   "execution_count": null,
   "id": "2396a05b-6cb2-4bd7-adb8-478d9e7a865b",
   "metadata": {
    "tags": []
   },
   "outputs": [],
   "source": [
    "cc_shapes_trip_info = cc_shapes.merge(cc_trips.drop_duplicates(subset=['shape_array_key']), on = ['shape_array_key', 'feed_key'])"
   ]
  },
  {
   "cell_type": "code",
   "execution_count": null,
   "id": "ebdf28f6-e9e6-40de-ace1-91157016d012",
   "metadata": {
    "tags": []
   },
   "outputs": [],
   "source": [
    "# cc_shapes_trip_info.drop(columns=['service_date']).explore(column='route_long_name')"
   ]
  },
  {
   "cell_type": "markdown",
   "id": "cac675ae-c1a7-4c26-be01-2ef28d4134ac",
   "metadata": {},
   "source": [
    "## Pacific Surfliner (via Amtrak National feed)"
   ]
  },
  {
   "cell_type": "code",
   "execution_count": null,
   "id": "e30f5906-1ade-4bf3-a6f1-119bff58df02",
   "metadata": {
    "tags": []
   },
   "outputs": [],
   "source": [
    "surf_feed = feeds.query('name.str.contains(\"Amtrak Schedule\")')"
   ]
  },
  {
   "cell_type": "code",
   "execution_count": null,
   "id": "f3de2f4d-fba5-4e91-85e2-8f787550488b",
   "metadata": {
    "tags": []
   },
   "outputs": [],
   "source": [
    "surf_feed"
   ]
  },
  {
   "cell_type": "code",
   "execution_count": null,
   "id": "84c42b70-5d85-4745-addc-645ac27897a0",
   "metadata": {
    "tags": []
   },
   "outputs": [],
   "source": [
    "surf_shapes = gtfs_utils_v2.get_shapes(analysis_date, operator_feeds=surf_feed.feed_key, shape_cols=shape_cols)"
   ]
  },
  {
   "cell_type": "code",
   "execution_count": null,
   "id": "164fa5ae-cd76-494c-b777-e9f169c26563",
   "metadata": {
    "tags": []
   },
   "outputs": [],
   "source": [
    "surf_stops = gtfs_utils_v2.get_stops(analysis_date, operator_feeds=surf_feed.feed_key, stop_cols=stop_cols)"
   ]
  },
  {
   "cell_type": "code",
   "execution_count": null,
   "id": "a5b51a80-f97d-4a62-ac60-117010e6084e",
   "metadata": {
    "tags": []
   },
   "outputs": [],
   "source": [
    "surf_stops = surf_stops.to_crs(CA_NAD83Albers_m)\n",
    "ca = ca.to_crs(CA_NAD83Albers_m)\n",
    "\n",
    "surf_stops = surf_stops.clip(ca)"
   ]
  },
  {
   "cell_type": "code",
   "execution_count": null,
   "id": "76e64edf-8d9c-40c0-bb4f-8b665d72bd34",
   "metadata": {
    "tags": []
   },
   "outputs": [],
   "source": [
    "surf_trips = gtfs_utils_v2.get_trips(analysis_date, operator_feeds=surf_feed.feed_key, trip_cols=trip_cols)"
   ]
  },
  {
   "cell_type": "code",
   "execution_count": null,
   "id": "29e35fa5-8d77-47c2-87d3-da74895192bf",
   "metadata": {
    "tags": []
   },
   "outputs": [],
   "source": [
    "stop_time_cols = ['feed_key', 'trip_id', 'stop_id',\n",
    "                 'stop_sequence', 'arrival_time', 'departure_time',\n",
    "                 'arrival_sec', 'departure_sec']"
   ]
  },
  {
   "cell_type": "code",
   "execution_count": null,
   "id": "f689e49a-7788-4149-ad15-47a89997f83a",
   "metadata": {
    "tags": []
   },
   "outputs": [],
   "source": [
    "surf_st = gtfs_utils_v2.get_stop_times(analysis_date, operator_feeds=surf_feed.feed_key, get_df=True,\n",
    "                                      trip_df = surf_trips, stop_time_cols=stop_time_cols)"
   ]
  },
  {
   "cell_type": "code",
   "execution_count": null,
   "id": "3c634a3c-389a-4c85-abfa-0d86def0608e",
   "metadata": {
    "tags": []
   },
   "outputs": [],
   "source": [
    "surf_trips = surf_trips.query('route_long_name == \"Amtrak Thruway Connecting Service\"')"
   ]
  },
  {
   "cell_type": "code",
   "execution_count": null,
   "id": "805d9b4f-cb44-4f2c-ab60-4880f60c1c11",
   "metadata": {
    "tags": []
   },
   "outputs": [],
   "source": [
    "surf_merged = surf_trips.merge(surf_st, on = ['feed_key', 'trip_id']).merge(surf_stops, on = ['feed_key', 'stop_id'])"
   ]
  },
  {
   "cell_type": "markdown",
   "id": "a02dc44f-10a8-451d-be35-d9ecf7bef3a8",
   "metadata": {},
   "source": [
    "### CA Thruway in Amtrak National Feed:\n",
    "\n",
    "#### `route_id` 41080\n",
    "\n",
    "* ['Chico Amtrak', 'Red Bluff Amtrak Bus Stop',\n",
    "       'Redding Amtrak Bus Stop']\n",
    "\n",
    "#### 42896\n",
    "\n",
    "* ['Bakersfield', 'Uc Santa Barbara Amtrak Bus Stop', 'Santa Barbara',\n",
    "       'Las Vegas', 'Las Vegas Amtrak Bus Stop',\n",
    "       'Barstow Amtrak Bus Stop', 'Barstow', 'Mojave Amtrak Bus Stop',\n",
    "       'Tehachapi Amtrak Bus Stop', 'Fillmore Amtrak Bus Stop',\n",
    "       'Santa Paula Amtrak Bus Stop', 'Oxnard', 'Ventura Amtrak',\n",
    "       'Carpinteria Amtrak']\n",
    "\n",
    "#### 42954\n",
    "\n",
    "* strange one, nationwide stops including CA points\n",
    "\n",
    "#### `route_id` not that useful, look for trip patterns...\n",
    "\n"
   ]
  },
  {
   "cell_type": "code",
   "execution_count": null,
   "id": "a357839d-9592-4caa-9dc6-bec26b098351",
   "metadata": {
    "tags": []
   },
   "outputs": [],
   "source": [
    "trip_id_stops = surf_merged[['trip_id', 'stop_name']].groupby('trip_id')['stop_name'].unique().map(lambda x: frozenset(x))"
   ]
  },
  {
   "cell_type": "code",
   "execution_count": null,
   "id": "d3732928-1584-4b12-aea6-945040b12b05",
   "metadata": {
    "tags": []
   },
   "outputs": [],
   "source": [
    "trip_id_stops"
   ]
  },
  {
   "cell_type": "code",
   "execution_count": null,
   "id": "eb5d5061-435c-47b0-9cda-1c9c6cc2079d",
   "metadata": {
    "tags": []
   },
   "outputs": [],
   "source": [
    "trip_patterns = trip_id_stops.value_counts() # count unique trip patterns..."
   ]
  },
  {
   "cell_type": "code",
   "execution_count": null,
   "id": "e73acb87-81e2-4bcd-a1d5-419eb773587b",
   "metadata": {
    "tags": []
   },
   "outputs": [],
   "source": [
    "trip_patterns"
   ]
  },
  {
   "cell_type": "markdown",
   "id": "9b2480aa-1c3d-4861-8497-85122f0967fd",
   "metadata": {},
   "source": [
    "### Surfliner-associated Trip Patterns"
   ]
  },
  {
   "cell_type": "markdown",
   "id": "8872d58b-4494-4414-93d4-33a24ea02573",
   "metadata": {},
   "source": [
    "https://www.pacificsurfliner.com/plan-your-trip/connections/bus-connections/"
   ]
  },
  {
   "cell_type": "code",
   "execution_count": null,
   "id": "b72abc2f-77f8-4057-a6ed-89cb85ee2f28",
   "metadata": {
    "tags": []
   },
   "outputs": [],
   "source": [
    "sb_oakland = trip_patterns.index[2]\n",
    "sb_oakland"
   ]
  },
  {
   "cell_type": "code",
   "execution_count": null,
   "id": "a048125a-4eb1-4111-b20f-71cbc3fb1fe7",
   "metadata": {
    "tags": []
   },
   "outputs": [],
   "source": [
    "fullerton_indio = trip_patterns.index[21]"
   ]
  },
  {
   "cell_type": "code",
   "execution_count": null,
   "id": "c190cc5c-22ab-48c9-8ca3-e4e519f66137",
   "metadata": {
    "tags": []
   },
   "outputs": [],
   "source": [
    "fullerton_indio"
   ]
  },
  {
   "cell_type": "code",
   "execution_count": null,
   "id": "27f00e86-c15a-4147-abb7-d59552d5079d",
   "metadata": {
    "tags": []
   },
   "outputs": [],
   "source": [
    "fullerton_palm_springs = trip_patterns.index[24]"
   ]
  },
  {
   "cell_type": "code",
   "execution_count": null,
   "id": "36cf8e2e-33ce-44ea-9d92-492a92236e71",
   "metadata": {
    "tags": []
   },
   "outputs": [],
   "source": [
    "fullerton_palm_springs"
   ]
  },
  {
   "cell_type": "code",
   "execution_count": null,
   "id": "a9c30731-0318-4a2b-9d34-6a81e6ef695c",
   "metadata": {
    "tags": []
   },
   "outputs": [],
   "source": [
    "surfliner_routes_from_trip_patterns = {fullerton_palm_springs: 'Fullerton - Palm Springs', fullerton_indio: 'Fullerton - Indio', sb_oakland: 'Santa Barbara - Oakland'}"
   ]
  },
  {
   "cell_type": "code",
   "execution_count": null,
   "id": "85e94986-909e-4792-b96d-29ee31fae40e",
   "metadata": {
    "tags": []
   },
   "outputs": [],
   "source": [
    "trips_with_pattern = trip_id_stops.reset_index().rename(columns={'stop_name':'trip_pattern'})\n",
    "trips_with_pattern = trips_with_pattern.assign(manual_route_name = trips_with_pattern.trip_pattern.map(\n",
    "    lambda x: surfliner_routes_from_trip_patterns[x] if x in surfliner_routes_from_trip_patterns.keys() else None)\n",
    "                                              )"
   ]
  },
  {
   "cell_type": "code",
   "execution_count": null,
   "id": "10eff2d0-ed44-444f-939c-8148ad92ed0e",
   "metadata": {
    "tags": []
   },
   "outputs": [],
   "source": [
    "trips_with_pattern = trips_with_pattern.dropna() #  trip_id for Surfliner-associated routes...\n",
    "trips_with_pattern"
   ]
  },
  {
   "cell_type": "code",
   "execution_count": null,
   "id": "db1599ec-8856-45a7-8acc-761cba6bd6e6",
   "metadata": {
    "tags": []
   },
   "outputs": [],
   "source": [
    "trips_with_pattern = trips_with_pattern.merge(surf_trips, on='trip_id')"
   ]
  },
  {
   "cell_type": "code",
   "execution_count": null,
   "id": "ef0f1d1c-2aed-4aa2-aa19-cf61c64c0b5e",
   "metadata": {
    "tags": []
   },
   "outputs": [],
   "source": [
    "trips_with_pattern"
   ]
  },
  {
   "cell_type": "code",
   "execution_count": null,
   "id": "98494c2a-9b45-40d7-a7e6-1c2cbebfdde7",
   "metadata": {
    "tags": []
   },
   "outputs": [],
   "source": [
    "#  unhelpful that these all have the same route_id!\n",
    "trips_with_pattern[['route_id', 'route_long_name', 'trip_instance_key']].groupby(['route_long_name', 'route_id']).count()"
   ]
  },
  {
   "cell_type": "code",
   "execution_count": null,
   "id": "b106897c-8803-43c4-a40e-1cd13b39c597",
   "metadata": {
    "tags": []
   },
   "outputs": [],
   "source": [
    "surf_st_merged = surf_stops.merge(surf_st, on = ['feed_key', 'stop_id']).merge(trips_with_pattern, on = ['feed_key', 'trip_id'])"
   ]
  },
  {
   "cell_type": "markdown",
   "id": "ad46c50c-9df1-4949-a86d-18b11380d62f",
   "metadata": {},
   "source": [
    "## A derived timetable of Pacific Surfliner-associated thruways in the Amtrak Nationwide feed\n",
    "\n",
    "Daily Trips:\n",
    "\n",
    "* 1 Indio - Fullerton\n",
    "* 1 Fullerton - Indio\n",
    "* 1 Fullerton - Palm Springs Airport\n",
    "* 1 Palm Springs Airport - Fullerton\n",
    "* 4 Oakland - Santa Barbara\n",
    "* 4 Santa Barbara - Oakland"
   ]
  },
  {
   "cell_type": "code",
   "execution_count": null,
   "id": "ddb2b26a-b741-484e-9ff2-f231a8fd9bb4",
   "metadata": {
    "tags": []
   },
   "outputs": [],
   "source": [
    "# show_full_df(utils.format_stop_times(surf_st_merged))"
   ]
  },
  {
   "cell_type": "markdown",
   "id": "c2c3cc5c-b0bf-43e9-9c73-118b576d4a40",
   "metadata": {},
   "source": [
    "## Visualizations"
   ]
  },
  {
   "cell_type": "code",
   "execution_count": null,
   "id": "7e1f664d-7399-4a6e-a4bc-358ea801aa9c",
   "metadata": {
    "tags": []
   },
   "outputs": [],
   "source": [
    "import chart_utils"
   ]
  },
  {
   "cell_type": "code",
   "execution_count": null,
   "id": "93422b3b-0f0f-4a84-98fa-db2520e8dd14",
   "metadata": {
    "tags": []
   },
   "outputs": [],
   "source": [
    "remix = gpd.read_file('Amtrak_Thruway_Bus-2025-10-15-18-37-57-route_geometry.zip').to_crs(CA_NAD83Albers_m)"
   ]
  },
  {
   "cell_type": "code",
   "execution_count": null,
   "id": "d98de296-a9b4-463c-9663-c33db1d7996d",
   "metadata": {
    "tags": []
   },
   "outputs": [],
   "source": [
    "remix.head(1)"
   ]
  },
  {
   "cell_type": "code",
   "execution_count": null,
   "id": "72c5210b-1d43-4574-9659-2e66e9ef943d",
   "metadata": {
    "tags": []
   },
   "outputs": [],
   "source": [
    "line_17 = remix.query('line_name == \"17 EMY-SBA Thruway\"') #  inbound is northbound\n",
    "line_17 = line_17.assign(trip_id = ['205369', '205375'])\n",
    "line_17"
   ]
  },
  {
   "cell_type": "code",
   "execution_count": null,
   "id": "2d662015-4404-487f-8d52-494d452ada90",
   "metadata": {
    "tags": []
   },
   "outputs": [],
   "source": [
    "surf_st_merged.manual_route_name.unique()"
   ]
  },
  {
   "cell_type": "code",
   "execution_count": null,
   "id": "660f2e47-e178-4bc3-bb06-6a87baabe6ad",
   "metadata": {
    "tags": []
   },
   "outputs": [],
   "source": [
    "line_17_st = surf_st_merged.query('manual_route_name == \"Santa Barbara - Oakland\"')\n",
    "line_17_st = line_17_st.assign(amtrak_stop = line_17_st.stop_id)"
   ]
  },
  {
   "cell_type": "code",
   "execution_count": null,
   "id": "d41770fb-2449-47c3-8737-2125dfe4e15a",
   "metadata": {
    "tags": []
   },
   "outputs": [],
   "source": [
    "#  charts only show one month for now\n",
    "source_ridership = utils.read_format_ridership().query('trip_year == 2025 & trip_month == 4')"
   ]
  },
  {
   "cell_type": "code",
   "execution_count": null,
   "id": "02452542-15b6-4d0e-910f-eb966636c73c",
   "metadata": {
    "tags": []
   },
   "outputs": [],
   "source": [
    "chart_utils.flow_chart_from_shape_trip_row(line_17.iloc[0], stop_times=line_17_st, ridership=source_ridership,\n",
    "                              ridership_data_route='Rt 17')"
   ]
  },
  {
   "cell_type": "code",
   "execution_count": null,
   "id": "4bd27516-6fad-4b4d-84b0-29a63d7de633",
   "metadata": {
    "tags": []
   },
   "outputs": [],
   "source": [
    "import importlib\n",
    "importlib.reload(chart_utils)"
   ]
  },
  {
   "cell_type": "code",
   "execution_count": null,
   "id": "004577c5-6ba3-4ffe-bd31-62d1c8583974",
   "metadata": {
    "tags": []
   },
   "outputs": [],
   "source": [
    "chart_utils.flow_chart_from_shape_trip_row(line_17.iloc[1], stop_times=line_17_st, ridership=source_ridership,\n",
    "                              ridership_data_route='Rt 17')"
   ]
  }
 ],
 "metadata": {
  "kernelspec": {
   "display_name": "Python 3 (ipykernel)",
   "language": "python",
   "name": "python3"
  },
  "language_info": {
   "codemirror_mode": {
    "name": "ipython",
    "version": 3
   },
   "file_extension": ".py",
   "mimetype": "text/x-python",
   "name": "python",
   "nbconvert_exporter": "python",
   "pygments_lexer": "ipython3",
   "version": "3.11.10"
  },
  "widgets": {
   "application/vnd.jupyter.widget-state+json": {
    "state": {},
    "version_major": 2,
    "version_minor": 0
   }
  }
 },
 "nbformat": 4,
 "nbformat_minor": 5
}
