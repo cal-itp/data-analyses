{
 "cells": [
  {
   "cell_type": "code",
   "execution_count": 1,
   "id": "a31d74df-cbb5-4066-ae86-1d105ee39a53",
   "metadata": {
    "tags": []
   },
   "outputs": [],
   "source": [
    "import pandas as pd\n",
    "import geopandas as gpd\n",
    "from calitp_data_analysis.sql import query_sql\n",
    "from calitp_data_analysis.gcs_geopandas import GCSGeoPandas\n",
    "from calitp_data_analysis.geography_utils import CA_NAD83Albers_m, WGS84\n",
    "gcsgp = GCSGeoPandas()\n",
    "from shared_utils import gtfs_utils_v2\n",
    "from shared_utils.rt_utils import show_full_df\n",
    "\n",
    "import utils\n",
    "from update_vars import ANALYSIS_DATE, shape_cols, trip_cols, stop_cols, stop_time_cols, GCS_PATH\n",
    "analysis_date = ANALYSIS_DATE"
   ]
  },
  {
   "cell_type": "markdown",
   "id": "475883c3-a956-46bb-993a-d31860ec1689",
   "metadata": {
    "tags": []
   },
   "source": [
    "# Explore Thruway Bus (and state-suppoted rail) data availability"
   ]
  },
  {
   "cell_type": "code",
   "execution_count": 2,
   "id": "8cae391e-e1e9-4023-a835-e84ef87143e8",
   "metadata": {
    "tags": []
   },
   "outputs": [],
   "source": [
    "ca = gcsgp.read_parquet('gs://calitp-analytics-data/data-analyses/high_quality_transit_areas/ca_boundary.parquet')"
   ]
  },
  {
   "cell_type": "code",
   "execution_count": 3,
   "id": "c1d41f30-ad34-43d0-a927-184c03b7c9f9",
   "metadata": {
    "tags": []
   },
   "outputs": [],
   "source": [
    "feeds = gtfs_utils_v2.schedule_daily_feed_to_gtfs_dataset_name(analysis_date)"
   ]
  },
  {
   "cell_type": "markdown",
   "id": "6530f2a4-43eb-4a45-ba9b-72cb1a10fbba",
   "metadata": {
    "jp-MarkdownHeadingCollapsed": true,
    "tags": []
   },
   "source": [
    "## New SJJPA San Joaquins feed"
   ]
  },
  {
   "cell_type": "code",
   "execution_count": 4,
   "id": "49d90614-5f0a-44cb-b7e0-ebdb7ef5bbdb",
   "metadata": {
    "tags": []
   },
   "outputs": [],
   "source": [
    "query = '''\n",
    "SELECT * from cal-itp-data-infra.mart_transit_database.dim_gtfs_service_data\n",
    "WHERE _is_current\n",
    "LIMIT 1000\n",
    "'''"
   ]
  },
  {
   "cell_type": "code",
   "execution_count": 5,
   "id": "5d4f6cd5-97ca-4ee7-b3d1-a53a20fdd487",
   "metadata": {
    "tags": []
   },
   "outputs": [],
   "source": [
    "df = query_sql(query)"
   ]
  },
  {
   "cell_type": "code",
   "execution_count": 6,
   "id": "9d3a3636-8cd8-4a0a-a5f1-e94288f857e0",
   "metadata": {
    "tags": []
   },
   "outputs": [],
   "source": [
    "sanj = df.query('name.str.contains(\"Amtrak San J\")')"
   ]
  },
  {
   "cell_type": "code",
   "execution_count": 7,
   "id": "50f1e501-c7f4-45b2-816b-abe78b256b39",
   "metadata": {
    "tags": []
   },
   "outputs": [
    {
     "data": {
      "text/html": [
       "<div>\n",
       "<style scoped>\n",
       "    .dataframe tbody tr th:only-of-type {\n",
       "        vertical-align: middle;\n",
       "    }\n",
       "\n",
       "    .dataframe tbody tr th {\n",
       "        vertical-align: top;\n",
       "    }\n",
       "\n",
       "    .dataframe thead th {\n",
       "        text-align: right;\n",
       "    }\n",
       "</style>\n",
       "<table border=\"1\" class=\"dataframe\">\n",
       "  <thead>\n",
       "    <tr style=\"text-align: right;\">\n",
       "      <th></th>\n",
       "      <th>key</th>\n",
       "      <th>name</th>\n",
       "      <th>source_record_id</th>\n",
       "      <th>service_key</th>\n",
       "      <th>gtfs_dataset_key</th>\n",
       "      <th>customer_facing</th>\n",
       "      <th>category</th>\n",
       "      <th>fares_v2_status</th>\n",
       "      <th>manual_check__fixed_route_completeness</th>\n",
       "      <th>manual_check__demand_response_completeness</th>\n",
       "      <th>_is_current</th>\n",
       "      <th>_valid_from</th>\n",
       "      <th>_valid_to</th>\n",
       "    </tr>\n",
       "  </thead>\n",
       "  <tbody>\n",
       "    <tr>\n",
       "      <th>728</th>\n",
       "      <td>c9364f7e1d226a2a1b57de51ec4375ad</td>\n",
       "      <td>Amtrak San Joaquins – Amtrak San Joaquins Sche...</td>\n",
       "      <td>recBvVy7cJzjXBjeD</td>\n",
       "      <td>b3a26733da02debeb0e23e30c8d8e928</td>\n",
       "      <td>524ea6209600e9a2de34a02cf9068729</td>\n",
       "      <td>True</td>\n",
       "      <td>primary</td>\n",
       "      <td>[Unknown]</td>\n",
       "      <td>Unknown</td>\n",
       "      <td>Unknown</td>\n",
       "      <td>True</td>\n",
       "      <td>2025-08-14 00:00:00+00:00</td>\n",
       "      <td>2098-12-31 23:59:59.999999+00:00</td>\n",
       "    </tr>\n",
       "  </tbody>\n",
       "</table>\n",
       "</div>"
      ],
      "text/plain": [
       "                                  key  \\\n",
       "728  c9364f7e1d226a2a1b57de51ec4375ad   \n",
       "\n",
       "                                                  name   source_record_id  \\\n",
       "728  Amtrak San Joaquins – Amtrak San Joaquins Sche...  recBvVy7cJzjXBjeD   \n",
       "\n",
       "                          service_key                  gtfs_dataset_key  \\\n",
       "728  b3a26733da02debeb0e23e30c8d8e928  524ea6209600e9a2de34a02cf9068729   \n",
       "\n",
       "     customer_facing category fares_v2_status  \\\n",
       "728             True  primary       [Unknown]   \n",
       "\n",
       "    manual_check__fixed_route_completeness  \\\n",
       "728                                Unknown   \n",
       "\n",
       "    manual_check__demand_response_completeness  _is_current  \\\n",
       "728                                    Unknown         True   \n",
       "\n",
       "                  _valid_from                        _valid_to  \n",
       "728 2025-08-14 00:00:00+00:00 2098-12-31 23:59:59.999999+00:00  "
      ]
     },
     "execution_count": 7,
     "metadata": {},
     "output_type": "execute_result"
    }
   ],
   "source": [
    "sanj"
   ]
  },
  {
   "cell_type": "code",
   "execution_count": 8,
   "id": "e59dadf9-f116-46f8-bddb-cdbccfd7c8c9",
   "metadata": {
    "tags": []
   },
   "outputs": [
    {
     "data": {
      "text/html": [
       "<div>\n",
       "<style scoped>\n",
       "    .dataframe tbody tr th:only-of-type {\n",
       "        vertical-align: middle;\n",
       "    }\n",
       "\n",
       "    .dataframe tbody tr th {\n",
       "        vertical-align: top;\n",
       "    }\n",
       "\n",
       "    .dataframe thead th {\n",
       "        text-align: right;\n",
       "    }\n",
       "</style>\n",
       "<table border=\"1\" class=\"dataframe\">\n",
       "  <thead>\n",
       "    <tr style=\"text-align: right;\">\n",
       "      <th></th>\n",
       "      <th>key</th>\n",
       "      <th>date</th>\n",
       "      <th>feed_key</th>\n",
       "      <th>feed_timezone</th>\n",
       "      <th>base64_url</th>\n",
       "      <th>gtfs_dataset_key</th>\n",
       "      <th>name</th>\n",
       "      <th>regional_feed_type</th>\n",
       "      <th>type</th>\n",
       "    </tr>\n",
       "  </thead>\n",
       "  <tbody>\n",
       "    <tr>\n",
       "      <th>77</th>\n",
       "      <td>2b538004ce62dd20b1c326745da7834f</td>\n",
       "      <td>2025-09-10</td>\n",
       "      <td>d9e1e77d0754b712fc608741ae3836f5</td>\n",
       "      <td>America/Los_Angeles</td>\n",
       "      <td>aHR0cHM6Ly9kMzR0aXc2NG41ejRvaC5jbG91ZGZyb250Lm...</td>\n",
       "      <td>524ea6209600e9a2de34a02cf9068729</td>\n",
       "      <td>Amtrak San Joaquins Schedule</td>\n",
       "      <td>None</td>\n",
       "      <td>schedule</td>\n",
       "    </tr>\n",
       "  </tbody>\n",
       "</table>\n",
       "</div>"
      ],
      "text/plain": [
       "                                 key       date  \\\n",
       "77  2b538004ce62dd20b1c326745da7834f 2025-09-10   \n",
       "\n",
       "                            feed_key        feed_timezone  \\\n",
       "77  d9e1e77d0754b712fc608741ae3836f5  America/Los_Angeles   \n",
       "\n",
       "                                           base64_url  \\\n",
       "77  aHR0cHM6Ly9kMzR0aXc2NG41ejRvaC5jbG91ZGZyb250Lm...   \n",
       "\n",
       "                    gtfs_dataset_key                          name  \\\n",
       "77  524ea6209600e9a2de34a02cf9068729  Amtrak San Joaquins Schedule   \n",
       "\n",
       "   regional_feed_type      type  \n",
       "77               None  schedule  "
      ]
     },
     "execution_count": 8,
     "metadata": {},
     "output_type": "execute_result"
    }
   ],
   "source": [
    "sanj = feeds.query('name.str.contains(\"Amtrak San Joaquins\")')\n",
    "sanj"
   ]
  },
  {
   "cell_type": "code",
   "execution_count": 9,
   "id": "2c504345-9365-491e-8cf6-2f60a356b92d",
   "metadata": {
    "tags": []
   },
   "outputs": [
    {
     "ename": "AttributeError",
     "evalue": "module 'utils' has no attribute 'shape_cols'",
     "output_type": "error",
     "traceback": [
      "\u001b[0;31m---------------------------------------------------------------------------\u001b[0m",
      "\u001b[0;31mAttributeError\u001b[0m                            Traceback (most recent call last)",
      "Cell \u001b[0;32mIn[9], line 1\u001b[0m\n\u001b[0;32m----> 1\u001b[0m sanj_shapes \u001b[38;5;241m=\u001b[39m gtfs_utils_v2\u001b[38;5;241m.\u001b[39mget_shapes(analysis_date, operator_feeds\u001b[38;5;241m=\u001b[39msanj\u001b[38;5;241m.\u001b[39mfeed_key, shape_cols\u001b[38;5;241m=\u001b[39m\u001b[43mutils\u001b[49m\u001b[38;5;241;43m.\u001b[39;49m\u001b[43mshape_cols\u001b[49m)\n",
      "\u001b[0;31mAttributeError\u001b[0m: module 'utils' has no attribute 'shape_cols'"
     ]
    }
   ],
   "source": [
    "sanj_shapes = gtfs_utils_v2.get_shapes(analysis_date, operator_feeds=sanj.feed_key, shape_cols=shape_cols)"
   ]
  },
  {
   "cell_type": "code",
   "execution_count": null,
   "id": "4fc4f01f-fa1d-4858-969d-e001ba0f41dc",
   "metadata": {},
   "outputs": [],
   "source": [
    "sanj_shapes = sanj_shapes"
   ]
  },
  {
   "cell_type": "code",
   "execution_count": null,
   "id": "edf45791-df31-4b14-a87c-0d8ffcc53ef5",
   "metadata": {
    "tags": []
   },
   "outputs": [],
   "source": [
    "sanj_shapes"
   ]
  },
  {
   "cell_type": "code",
   "execution_count": null,
   "id": "2a3f9ffd-9c12-4964-a6fa-3a4a09b1bf33",
   "metadata": {
    "tags": []
   },
   "outputs": [],
   "source": [
    "sanj_trips = gtfs_utils_v2.get_trips(analysis_date, operator_feeds=sanj.feed_key, trip_cols=trip_cols)"
   ]
  },
  {
   "cell_type": "code",
   "execution_count": null,
   "id": "0d21e56c-6cb1-4388-bec6-9ee9e6abe14a",
   "metadata": {
    "tags": []
   },
   "outputs": [],
   "source": [
    "# sanj_trips.query('route_type == \"2\"')"
   ]
  },
  {
   "cell_type": "code",
   "execution_count": null,
   "id": "5c4fce32-eed1-489f-8c3e-0332e096c94b",
   "metadata": {
    "tags": []
   },
   "outputs": [],
   "source": [
    "sanj_trips[['route_short_name', 'route_long_name', 'trip_instance_key']].groupby(['route_short_name', 'route_long_name']).count()"
   ]
  },
  {
   "cell_type": "code",
   "execution_count": null,
   "id": "961206c2-548e-49b1-b1db-7bb2e9eaa3df",
   "metadata": {
    "tags": []
   },
   "outputs": [],
   "source": [
    "sanj_shapes_trip_info = sanj_shapes.merge(sanj_trips.drop_duplicates(subset=['shape_array_key']), on = ['shape_array_key', 'feed_key'])"
   ]
  },
  {
   "cell_type": "code",
   "execution_count": null,
   "id": "86a3ec1c-68b0-493d-878e-38446c072993",
   "metadata": {
    "tags": []
   },
   "outputs": [],
   "source": [
    "# sanj_shapes_trip_info.drop(columns=['service_date']).explore(column='route_long_name')"
   ]
  },
  {
   "cell_type": "code",
   "execution_count": null,
   "id": "c7d9673f-6d69-4481-88d5-5e91c81206af",
   "metadata": {
    "tags": []
   },
   "outputs": [],
   "source": [
    "sanj_trips.query('route_short_name == \"Route 99\"')"
   ]
  },
  {
   "cell_type": "markdown",
   "id": "8fe2cd14-e17a-42f1-b378-06a703631104",
   "metadata": {
    "jp-MarkdownHeadingCollapsed": true,
    "tags": []
   },
   "source": [
    "## Capitol Corridor"
   ]
  },
  {
   "cell_type": "code",
   "execution_count": null,
   "id": "5d79d26a-41f7-46ca-844d-2d27454c5213",
   "metadata": {
    "tags": []
   },
   "outputs": [],
   "source": [
    "cc_feed = feeds.query('name.str.contains(\"Capitol\")')"
   ]
  },
  {
   "cell_type": "code",
   "execution_count": null,
   "id": "756213f0-60ef-4292-aa25-de76caef9d34",
   "metadata": {
    "tags": []
   },
   "outputs": [],
   "source": [
    "cc_shapes = gtfs_utils_v2.get_shapes(analysis_date, operator_feeds=cc_feed.feed_key, shape_cols=utils.shape_cols)"
   ]
  },
  {
   "cell_type": "code",
   "execution_count": null,
   "id": "a7581d28-3715-4634-bd8c-35a01fa06715",
   "metadata": {
    "tags": []
   },
   "outputs": [],
   "source": [
    "cc_trips = gtfs_utils_v2.get_trips(analysis_date, operator_feeds=cc_feed.feed_key, trip_cols=utils.trip_cols)"
   ]
  },
  {
   "cell_type": "code",
   "execution_count": null,
   "id": "436eb6ae-6e78-4bcf-9dfb-c45aa83340d2",
   "metadata": {
    "tags": []
   },
   "outputs": [],
   "source": [
    "cc_trips[['route_short_name', 'route_long_name', 'trip_instance_key']].groupby(['route_short_name', 'route_long_name']).count()"
   ]
  },
  {
   "cell_type": "code",
   "execution_count": null,
   "id": "2396a05b-6cb2-4bd7-adb8-478d9e7a865b",
   "metadata": {
    "tags": []
   },
   "outputs": [],
   "source": [
    "cc_shapes_trip_info = cc_shapes.merge(cc_trips.drop_duplicates(subset=['shape_array_key']), on = ['shape_array_key', 'feed_key'])"
   ]
  },
  {
   "cell_type": "code",
   "execution_count": null,
   "id": "ebdf28f6-e9e6-40de-ace1-91157016d012",
   "metadata": {
    "tags": []
   },
   "outputs": [],
   "source": [
    "# cc_shapes_trip_info.drop(columns=['service_date']).explore(column='route_long_name')"
   ]
  },
  {
   "cell_type": "markdown",
   "id": "cac675ae-c1a7-4c26-be01-2ef28d4134ac",
   "metadata": {},
   "source": [
    "## Pacific Surfliner (via Amtrak National feed)"
   ]
  },
  {
   "cell_type": "code",
   "execution_count": 10,
   "id": "e30f5906-1ade-4bf3-a6f1-119bff58df02",
   "metadata": {
    "tags": []
   },
   "outputs": [],
   "source": [
    "surf_feed = feeds.query('name.str.contains(\"Amtrak Schedule\")')"
   ]
  },
  {
   "cell_type": "code",
   "execution_count": 11,
   "id": "f3de2f4d-fba5-4e91-85e2-8f787550488b",
   "metadata": {
    "tags": []
   },
   "outputs": [
    {
     "data": {
      "text/html": [
       "<div>\n",
       "<style scoped>\n",
       "    .dataframe tbody tr th:only-of-type {\n",
       "        vertical-align: middle;\n",
       "    }\n",
       "\n",
       "    .dataframe tbody tr th {\n",
       "        vertical-align: top;\n",
       "    }\n",
       "\n",
       "    .dataframe thead th {\n",
       "        text-align: right;\n",
       "    }\n",
       "</style>\n",
       "<table border=\"1\" class=\"dataframe\">\n",
       "  <thead>\n",
       "    <tr style=\"text-align: right;\">\n",
       "      <th></th>\n",
       "      <th>key</th>\n",
       "      <th>date</th>\n",
       "      <th>feed_key</th>\n",
       "      <th>feed_timezone</th>\n",
       "      <th>base64_url</th>\n",
       "      <th>gtfs_dataset_key</th>\n",
       "      <th>name</th>\n",
       "      <th>regional_feed_type</th>\n",
       "      <th>type</th>\n",
       "    </tr>\n",
       "  </thead>\n",
       "  <tbody>\n",
       "    <tr>\n",
       "      <th>18</th>\n",
       "      <td>541a64be0d1f8379b710b36071428bd5</td>\n",
       "      <td>2025-09-10</td>\n",
       "      <td>c8afbdabdbbf7a511e299824601f4a7c</td>\n",
       "      <td>America/New_York</td>\n",
       "      <td>aHR0cHM6Ly9jb250ZW50LmFtdHJhay5jb20vY29udGVudC...</td>\n",
       "      <td>1165b1474df778cb0fc3ba9246e32035</td>\n",
       "      <td>Amtrak Schedule</td>\n",
       "      <td>None</td>\n",
       "      <td>schedule</td>\n",
       "    </tr>\n",
       "  </tbody>\n",
       "</table>\n",
       "</div>"
      ],
      "text/plain": [
       "                                 key       date  \\\n",
       "18  541a64be0d1f8379b710b36071428bd5 2025-09-10   \n",
       "\n",
       "                            feed_key     feed_timezone  \\\n",
       "18  c8afbdabdbbf7a511e299824601f4a7c  America/New_York   \n",
       "\n",
       "                                           base64_url  \\\n",
       "18  aHR0cHM6Ly9jb250ZW50LmFtdHJhay5jb20vY29udGVudC...   \n",
       "\n",
       "                    gtfs_dataset_key             name regional_feed_type  \\\n",
       "18  1165b1474df778cb0fc3ba9246e32035  Amtrak Schedule               None   \n",
       "\n",
       "        type  \n",
       "18  schedule  "
      ]
     },
     "execution_count": 11,
     "metadata": {},
     "output_type": "execute_result"
    }
   ],
   "source": [
    "surf_feed"
   ]
  },
  {
   "cell_type": "code",
   "execution_count": 12,
   "id": "84c42b70-5d85-4745-addc-645ac27897a0",
   "metadata": {
    "tags": []
   },
   "outputs": [
    {
     "name": "stderr",
     "output_type": "stream",
     "text": [
      "/opt/conda/lib/python3.11/site-packages/sqlalchemy_bigquery/_types.py:101: SAWarning: Did not recognize type 'GEOGRAPHY' of column 'pt_array'\n",
      "  sqlalchemy.util.warn(\n"
     ]
    }
   ],
   "source": [
    "surf_shapes = gtfs_utils_v2.get_shapes(analysis_date, operator_feeds=surf_feed.feed_key, shape_cols=shape_cols)"
   ]
  },
  {
   "cell_type": "code",
   "execution_count": 13,
   "id": "164fa5ae-cd76-494c-b777-e9f169c26563",
   "metadata": {
    "tags": []
   },
   "outputs": [
    {
     "name": "stderr",
     "output_type": "stream",
     "text": [
      "/opt/conda/lib/python3.11/site-packages/sqlalchemy_bigquery/_types.py:101: SAWarning: Did not recognize type 'GEOGRAPHY' of column 'pt_geom'\n",
      "  sqlalchemy.util.warn(\n"
     ]
    }
   ],
   "source": [
    "surf_stops = gtfs_utils_v2.get_stops(analysis_date, operator_feeds=surf_feed.feed_key, stop_cols=stop_cols)"
   ]
  },
  {
   "cell_type": "code",
   "execution_count": 14,
   "id": "a5b51a80-f97d-4a62-ac60-117010e6084e",
   "metadata": {
    "tags": []
   },
   "outputs": [],
   "source": [
    "surf_stops = surf_stops.to_crs(CA_NAD83Albers_m)\n",
    "ca = ca.to_crs(CA_NAD83Albers_m)\n",
    "\n",
    "surf_stops = surf_stops.clip(ca)"
   ]
  },
  {
   "cell_type": "code",
   "execution_count": 15,
   "id": "76e64edf-8d9c-40c0-bb4f-8b665d72bd34",
   "metadata": {
    "tags": []
   },
   "outputs": [],
   "source": [
    "surf_trips = gtfs_utils_v2.get_trips(analysis_date, operator_feeds=surf_feed.feed_key, trip_cols=trip_cols)"
   ]
  },
  {
   "cell_type": "code",
   "execution_count": 16,
   "id": "29e35fa5-8d77-47c2-87d3-da74895192bf",
   "metadata": {
    "tags": []
   },
   "outputs": [],
   "source": [
    "stop_time_cols = ['feed_key', 'trip_id', 'stop_id',\n",
    "                 'stop_sequence', 'arrival_time', 'departure_time',\n",
    "                 'arrival_sec', 'departure_sec']"
   ]
  },
  {
   "cell_type": "code",
   "execution_count": 17,
   "id": "f689e49a-7788-4149-ad15-47a89997f83a",
   "metadata": {
    "tags": []
   },
   "outputs": [
    {
     "name": "stderr",
     "output_type": "stream",
     "text": [
      "/opt/conda/lib/python3.11/site-packages/sqlalchemy_bigquery/_types.py:101: SAWarning: Did not recognize type 'INTERVAL' of column 'arrival_time_interval'\n",
      "  sqlalchemy.util.warn(\n",
      "/opt/conda/lib/python3.11/site-packages/sqlalchemy_bigquery/_types.py:101: SAWarning: Did not recognize type 'INTERVAL' of column 'departure_time_interval'\n",
      "  sqlalchemy.util.warn(\n",
      "/opt/conda/lib/python3.11/site-packages/sqlalchemy_bigquery/_types.py:101: SAWarning: Did not recognize type 'INTERVAL' of column 'start_pickup_drop_off_window_interval'\n",
      "  sqlalchemy.util.warn(\n",
      "/opt/conda/lib/python3.11/site-packages/sqlalchemy_bigquery/_types.py:101: SAWarning: Did not recognize type 'INTERVAL' of column 'end_pickup_drop_off_window_interval'\n",
      "  sqlalchemy.util.warn(\n"
     ]
    }
   ],
   "source": [
    "surf_st = gtfs_utils_v2.get_stop_times(analysis_date, operator_feeds=surf_feed.feed_key, get_df=True,\n",
    "                                      trip_df = surf_trips, stop_time_cols=stop_time_cols)"
   ]
  },
  {
   "cell_type": "code",
   "execution_count": 18,
   "id": "3c634a3c-389a-4c85-abfa-0d86def0608e",
   "metadata": {
    "tags": []
   },
   "outputs": [],
   "source": [
    "surf_trips = surf_trips.query('route_long_name == \"Amtrak Thruway Connecting Service\"')"
   ]
  },
  {
   "cell_type": "code",
   "execution_count": 19,
   "id": "805d9b4f-cb44-4f2c-ab60-4880f60c1c11",
   "metadata": {
    "tags": []
   },
   "outputs": [],
   "source": [
    "surf_merged = surf_trips.merge(surf_st, on = ['feed_key', 'trip_id']).merge(surf_stops, on = ['feed_key', 'stop_id'])"
   ]
  },
  {
   "cell_type": "markdown",
   "id": "a02dc44f-10a8-451d-be35-d9ecf7bef3a8",
   "metadata": {},
   "source": [
    "### CA Thruway in Amtrak National Feed:\n",
    "\n",
    "#### `route_id` 41080\n",
    "\n",
    "* ['Chico Amtrak', 'Red Bluff Amtrak Bus Stop',\n",
    "       'Redding Amtrak Bus Stop']\n",
    "\n",
    "#### 42896\n",
    "\n",
    "* ['Bakersfield', 'Uc Santa Barbara Amtrak Bus Stop', 'Santa Barbara',\n",
    "       'Las Vegas', 'Las Vegas Amtrak Bus Stop',\n",
    "       'Barstow Amtrak Bus Stop', 'Barstow', 'Mojave Amtrak Bus Stop',\n",
    "       'Tehachapi Amtrak Bus Stop', 'Fillmore Amtrak Bus Stop',\n",
    "       'Santa Paula Amtrak Bus Stop', 'Oxnard', 'Ventura Amtrak',\n",
    "       'Carpinteria Amtrak']\n",
    "\n",
    "#### 42954\n",
    "\n",
    "* strange one, nationwide stops including CA points\n",
    "\n",
    "#### `route_id` not that useful, look for trip patterns...\n",
    "\n"
   ]
  },
  {
   "cell_type": "code",
   "execution_count": 20,
   "id": "a357839d-9592-4caa-9dc6-bec26b098351",
   "metadata": {
    "tags": []
   },
   "outputs": [],
   "source": [
    "trip_id_stops = surf_merged[['trip_id', 'stop_name']].groupby('trip_id')['stop_name'].unique().map(lambda x: frozenset(x))"
   ]
  },
  {
   "cell_type": "code",
   "execution_count": 21,
   "id": "d3732928-1584-4b12-aea6-945040b12b05",
   "metadata": {
    "tags": []
   },
   "outputs": [
    {
     "data": {
      "text/plain": [
       "trip_id\n",
       "183836    (Auburn Amtrak, Truckee Amtrak Station, Rosevi...\n",
       "183852    (Auburn Amtrak, Truckee Amtrak Station, Rosevi...\n",
       "183877                       (Roseville Amtrak, Sacramento)\n",
       "183910    (Elk Grove Amtrak Bus Stop, Stockton, Sacramento)\n",
       "183911    (Oroville Amtrak Bus Stop, Marysville Amtrak S...\n",
       "                                ...                        \n",
       "205408          (Bakersfield, Los Angeles, Glendale Amtrak)\n",
       "205411                           (Bakersfield, Los Angeles)\n",
       "205414    (Westwood Ucla Amtrak Bus Stop, Van Nuys, Burb...\n",
       "205417    (Vallejo, Santa Rosa Amtrak Bus Stop, Petaluma...\n",
       "205420                          (San Francisco, Emeryville)\n",
       "Name: stop_name, Length: 128, dtype: object"
      ]
     },
     "execution_count": 21,
     "metadata": {},
     "output_type": "execute_result"
    }
   ],
   "source": [
    "trip_id_stops"
   ]
  },
  {
   "cell_type": "code",
   "execution_count": 22,
   "id": "eb5d5061-435c-47b0-9cda-1c9c6cc2079d",
   "metadata": {
    "tags": []
   },
   "outputs": [],
   "source": [
    "trip_patterns = trip_id_stops.value_counts() # count unique trip patterns..."
   ]
  },
  {
   "cell_type": "code",
   "execution_count": 23,
   "id": "e73acb87-81e2-4bcd-a1d5-419eb773587b",
   "metadata": {
    "tags": []
   },
   "outputs": [
    {
     "data": {
      "text/plain": [
       "(San Francisco, Emeryville)                                                                                                                                                                                                                                                                                               38\n",
       "(Bakersfield, Los Angeles, Glendale Amtrak)                                                                                                                                                                                                                                                                                9\n",
       "(San Jose, Oakland, Paso Robles Amtrak Station, Santa Barbara, Grover Beach Amtrak, Solvang Amtrak Bus Stop, King City Amtrak Bus Stop, Salinas, San Luis Obispo, San Francisco, Santa Maria Amtrak Bus Stop, Buellton Amtrak Bus Stop, Uc Santa Barbara Amtrak Bus Stop, San Luis Obispo Amtrak Bus Stop, Emeryville)     6\n",
       "(Lodi Amtrak Station, Davis, Stockton, Sacramento)                                                                                                                                                                                                                                                                         6\n",
       "(Bakersfield, Los Angeles)                                                                                                                                                                                                                                                                                                 5\n",
       "(Chico Amtrak, Redding Amtrak Bus Stop, Red Bluff Amtrak Bus Stop)                                                                                                                                                                                                                                                         4\n",
       "(Westwood Ucla Amtrak Bus Stop, Van Nuys, Burbank Amtrak, Santa Monica Pier, Santa Clarita-Newhall Amtrak Station, Bakersfield)                                                                                                                                                                                            4\n",
       "(Carmel Amtrak Bus Stop, Salinas, Seaside-Marina, Monterey Amtrak Bus Stop)                                                                                                                                                                                                                                                4\n",
       "(San Jose, Livermore Amtrak Bus Stop, Tracy Bus Stop Amtrak Bus Stop, Stockton, Fremont Amtrak Bus Stop, Dublin-Pleasanton Amtrak Station)                                                                                                                                                                                 4\n",
       "(San Bernardino, Ontario Amtrak, Riverside, Pasadena Amtrak Bus Stop, Claremont Amtrak Station, La Crescenta Amtrak Bus Stop, Bakersfield)                                                                                                                                                                                 4\n",
       "(Oroville Amtrak Bus Stop, Marysville Amtrak Station, Chico Amtrak, Stockton, Sacramento, Elk Grove Amtrak Bus Stop)                                                                                                                                                                                                       3\n",
       "(Roseville Amtrak, Rocklin Amtrak Station, Sacramento, Auburn Amtrak)                                                                                                                                                                                                                                                      3\n",
       "(Barstow Amtrak Bus Stop, Fillmore Amtrak Bus Stop, Oxnard, Santa Paula Amtrak Bus Stop, Ventura Amtrak, Carpinteria Amtrak, Mojave Amtrak Bus Stop, Santa Barbara, Barstow, Uc Santa Barbara Amtrak Bus Stop, Bakersfield, Tehachapi Amtrak Bus Stop)                                                                     2\n",
       "(Auburn Amtrak, Colfax Amtrak Station, Truckee Amtrak Station, Roseville Amtrak, Sacramento, Rocklin Amtrak Station)                                                                                                                                                                                                       2\n",
       "(Vallejo, Santa Rosa Amtrak Bus Stop, Petaluma, Napa Amtrak Bus Stop, Martinez, Rohnert Park Amtrak Bus Stop)                                                                                                                                                                                                              2\n",
       "(Vallejo, Willits Calif Western Railroad Depot Amtrak, Laytonville Amtrak Bus Stop, Arcata, Santa Rosa Amtrak Bus Stop, Petaluma, Garberville Amtrak Bus Stop, Ukiah Amtrak Bus Stop, Eureka Amtrak Bus Stop, Cloverdale Amtrak Bus Stop, Fortuna Amtrak Bus Stop, Martinez, Leggett Amtrak Bus Stop)                      2\n",
       "(Vallejo, Santa Rosa Amtrak Bus Stop, Petaluma, Martinez, Rohnert Park Amtrak Bus Stop)                                                                                                                                                                                                                                    2\n",
       "(Riverside, Palm Desert Amtrak Bus Stop, Palm Springs Amtrak Bus Stop, Indio Amtrak Bus Stop, Fullerton Amtrak Station, La Quinta Amtrak Bus Stop, Cabazon Amtrak Bus Stop, Palm Springs Airport Amtrak Bus Stop)                                                                                                          2\n",
       "(Auburn Amtrak, Truckee Amtrak Station, Roseville Amtrak, Sacramento, Rocklin Amtrak Station)                                                                                                                                                                                                                              2\n",
       "(Fresno, Bakersfield, Hanford, Los Angeles)                                                                                                                                                                                                                                                                                2\n",
       "(Roseville Amtrak, Sacramento)                                                                                                                                                                                                                                                                                             2\n",
       "(Riverside, Palm Springs Amtrak Bus Stop, Fullerton Amtrak Station, Cabazon Amtrak Bus Stop, Palm Springs Airport Amtrak Bus Stop)                                                                                                                                                                                         2\n",
       "(Oroville Amtrak Bus Stop, Marysville Amtrak Station, Sacramento Amtrak Bus Stop, Chico Amtrak, Stockton, Sacramento, Elk Grove Amtrak Bus Stop)                                                                                                                                                                           2\n",
       "(San Jose, Oakland, Paso Robles Amtrak Station, King City Amtrak Bus Stop, Salinas, San Luis Obispo, San Francisco, San Luis Obispo Amtrak Bus Stop, Emeryville)                                                                                                                                                           2\n",
       "(Stockton)                                                                                                                                                                                                                                                                                                                 2\n",
       "(Willits Calif Western Railroad Depot Amtrak, Arcata, Santa Rosa Amtrak Bus Stop, Ukiah Amtrak Bus Stop, Eureka Amtrak Bus Stop, Napa Amtrak Bus Stop, Fortuna Amtrak Bus Stop, Healdsburg Amtrak Bus Stop, Martinez, Rohnert Park Amtrak Bus Stop)                                                                        1\n",
       "(Sacramento Amtrak Bus Stop, Davis, Stockton, Sacramento, Elk Grove Amtrak Bus Stop)                                                                                                                                                                                                                                       1\n",
       "(Burbank Amtrak, Bakersfield, Los Angeles, Glendale Amtrak)                                                                                                                                                                                                                                                                1\n",
       "(Santa Clarita-Newhall Amtrak Station, Bakersfield, Los Angeles)                                                                                                                                                                                                                                                           1\n",
       "(Davis, Stockton, Sacramento)                                                                                                                                                                                                                                                                                              1\n",
       "(Davis, Sacramento)                                                                                                                                                                                                                                                                                                        1\n",
       "(Vallejo, Willits Calif Western Railroad Depot Amtrak, Arcata, Santa Rosa Amtrak Bus Stop, Petaluma, Ukiah Amtrak Bus Stop, Eureka Amtrak Bus Stop, Napa Amtrak Bus Stop, Fortuna Amtrak Bus Stop, Healdsburg Amtrak Bus Stop, Martinez, Rohnert Park Amtrak Bus Stop)                                                     1\n",
       "(Solana Beach Amtrak Station, Oceanside, Los Angeles, Irvine, Glendale Amtrak, Burbank Amtrak, Anaheim, San Juan Capistrano Amtrak Station, Santa Clarita-Newhall Amtrak Station, Fullerton Amtrak Station, San Diego, Santa Ana, Bakersfield)                                                                             1\n",
       "(Solana Beach Amtrak Station, Oceanside, Los Angeles, Irvine, Glendale Amtrak, Burbank Amtrak, Anaheim, Santa Clarita-Newhall Amtrak Station, Fullerton Amtrak Station, San Diego, Santa Ana, Bakersfield)                                                                                                                 1\n",
       "(Oroville Amtrak Bus Stop, Marysville Amtrak Station, Sacramento Amtrak Bus Stop, Chico Amtrak, Stockton, Sacramento)                                                                                                                                                                                                      1\n",
       "(Elk Grove Amtrak Bus Stop, Stockton, Sacramento)                                                                                                                                                                                                                                                                          1\n",
       "(Davis, Elk Grove Amtrak Bus Stop, Stockton, Sacramento)                                                                                                                                                                                                                                                                   1\n",
       "Name: stop_name, dtype: int64"
      ]
     },
     "execution_count": 23,
     "metadata": {},
     "output_type": "execute_result"
    }
   ],
   "source": [
    "trip_patterns"
   ]
  },
  {
   "cell_type": "markdown",
   "id": "9b2480aa-1c3d-4861-8497-85122f0967fd",
   "metadata": {},
   "source": [
    "### Surfliner-associated Trip Patterns"
   ]
  },
  {
   "cell_type": "markdown",
   "id": "8872d58b-4494-4414-93d4-33a24ea02573",
   "metadata": {},
   "source": [
    "https://www.pacificsurfliner.com/plan-your-trip/connections/bus-connections/"
   ]
  },
  {
   "cell_type": "code",
   "execution_count": null,
   "id": "b72abc2f-77f8-4057-a6ed-89cb85ee2f28",
   "metadata": {
    "tags": []
   },
   "outputs": [],
   "source": [
    "sb_oakland = trip_patterns.index[2]\n",
    "sb_oakland"
   ]
  },
  {
   "cell_type": "code",
   "execution_count": null,
   "id": "a048125a-4eb1-4111-b20f-71cbc3fb1fe7",
   "metadata": {
    "tags": []
   },
   "outputs": [],
   "source": [
    "fullerton_indio = trip_patterns.index[17]"
   ]
  },
  {
   "cell_type": "code",
   "execution_count": null,
   "id": "c190cc5c-22ab-48c9-8ca3-e4e519f66137",
   "metadata": {
    "tags": []
   },
   "outputs": [],
   "source": [
    "fullerton_indio"
   ]
  },
  {
   "cell_type": "code",
   "execution_count": null,
   "id": "27f00e86-c15a-4147-abb7-d59552d5079d",
   "metadata": {
    "tags": []
   },
   "outputs": [],
   "source": [
    "fullerton_palm_springs = trip_patterns.index[21]"
   ]
  },
  {
   "cell_type": "code",
   "execution_count": null,
   "id": "36cf8e2e-33ce-44ea-9d92-492a92236e71",
   "metadata": {
    "tags": []
   },
   "outputs": [],
   "source": [
    "fullerton_palm_springs"
   ]
  },
  {
   "cell_type": "code",
   "execution_count": null,
   "id": "a9c30731-0318-4a2b-9d34-6a81e6ef695c",
   "metadata": {
    "tags": []
   },
   "outputs": [],
   "source": [
    "surfliner_routes_from_trip_patterns = {fullerton_palm_springs: 'Fullerton - Palm Springs', fullerton_indio: 'Fullerton - Indio', sb_oakland: 'Santa Barbara - Oakland'}"
   ]
  },
  {
   "cell_type": "code",
   "execution_count": null,
   "id": "85e94986-909e-4792-b96d-29ee31fae40e",
   "metadata": {
    "tags": []
   },
   "outputs": [],
   "source": [
    "trips_with_pattern = trip_id_stops.reset_index().rename(columns={'stop_name':'trip_pattern'})\n",
    "trips_with_pattern = trips_with_pattern.assign(manual_route_name = trips_with_pattern.trip_pattern.map(\n",
    "    lambda x: surfliner_routes_from_trip_patterns[x] if x in surfliner_routes_from_trip_patterns.keys() else None)\n",
    "                                              )"
   ]
  },
  {
   "cell_type": "code",
   "execution_count": null,
   "id": "10eff2d0-ed44-444f-939c-8148ad92ed0e",
   "metadata": {
    "tags": []
   },
   "outputs": [],
   "source": [
    "trips_with_pattern = trips_with_pattern.dropna() #  trip_id for Surfliner-associated routes...\n",
    "trips_with_pattern"
   ]
  },
  {
   "cell_type": "code",
   "execution_count": null,
   "id": "db1599ec-8856-45a7-8acc-761cba6bd6e6",
   "metadata": {
    "tags": []
   },
   "outputs": [],
   "source": [
    "trips_with_pattern = trips_with_pattern.merge(surf_trips, on='trip_id')"
   ]
  },
  {
   "cell_type": "code",
   "execution_count": null,
   "id": "ef0f1d1c-2aed-4aa2-aa19-cf61c64c0b5e",
   "metadata": {
    "tags": []
   },
   "outputs": [],
   "source": [
    "trips_with_pattern"
   ]
  },
  {
   "cell_type": "code",
   "execution_count": null,
   "id": "98494c2a-9b45-40d7-a7e6-1c2cbebfdde7",
   "metadata": {
    "tags": []
   },
   "outputs": [],
   "source": [
    "#  unhelpful that these all have the same route_id!\n",
    "trips_with_pattern[['route_id', 'route_long_name', 'trip_instance_key']].groupby(['route_long_name', 'route_id']).count()"
   ]
  },
  {
   "cell_type": "code",
   "execution_count": null,
   "id": "b106897c-8803-43c4-a40e-1cd13b39c597",
   "metadata": {
    "tags": []
   },
   "outputs": [],
   "source": [
    "surf_st_merged = surf_stops.merge(surf_st, on = ['feed_key', 'stop_id']).merge(trips_with_pattern, on = ['feed_key', 'trip_id'])"
   ]
  },
  {
   "cell_type": "code",
   "execution_count": null,
   "id": "5f31de3e-589d-4404-b078-b48df27ad679",
   "metadata": {
    "tags": []
   },
   "outputs": [],
   "source": [
    "gcsgp.geo_data_frame_to_parquet?"
   ]
  },
  {
   "cell_type": "code",
   "execution_count": null,
   "id": "11671174-b80a-409f-86f1-1fe2fe37700d",
   "metadata": {
    "tags": []
   },
   "outputs": [],
   "source": [
    "gcsgp.geo_data_frame_to_parquet(surf_st_merged.drop(columns='trip_pattern'), f'{GCS_PATH}intermediate/surfliner_national_st.parquet')"
   ]
  },
  {
   "cell_type": "markdown",
   "id": "ad46c50c-9df1-4949-a86d-18b11380d62f",
   "metadata": {},
   "source": [
    "## A derived timetable of Pacific Surfliner-associated thruways in the Amtrak Nationwide feed\n",
    "\n",
    "Daily Trips:\n",
    "\n",
    "* 1 Indio - Fullerton\n",
    "* 1 Fullerton - Indio\n",
    "* 1 Fullerton - Palm Springs Airport\n",
    "* 1 Palm Springs Airport - Fullerton\n",
    "* 4 Oakland - Santa Barbara\n",
    "* 4 Santa Barbara - Oakland"
   ]
  },
  {
   "cell_type": "code",
   "execution_count": null,
   "id": "ddb2b26a-b741-484e-9ff2-f231a8fd9bb4",
   "metadata": {
    "tags": []
   },
   "outputs": [],
   "source": [
    "# show_full_df(utils.format_stop_times(surf_st_merged))"
   ]
  },
  {
   "cell_type": "markdown",
   "id": "c2c3cc5c-b0bf-43e9-9c73-118b576d4a40",
   "metadata": {},
   "source": [
    "## Visualizations"
   ]
  },
  {
   "cell_type": "code",
   "execution_count": null,
   "id": "7e1f664d-7399-4a6e-a4bc-358ea801aa9c",
   "metadata": {
    "tags": []
   },
   "outputs": [],
   "source": [
    "import chart_utils"
   ]
  },
  {
   "cell_type": "code",
   "execution_count": null,
   "id": "93422b3b-0f0f-4a84-98fa-db2520e8dd14",
   "metadata": {
    "tags": []
   },
   "outputs": [],
   "source": [
    "remix = gpd.read_file('Amtrak_Thruway_Bus-2025-10-15-18-37-57-route_geometry.zip').to_crs(CA_NAD83Albers_m)"
   ]
  },
  {
   "cell_type": "code",
   "execution_count": null,
   "id": "39862feb-d06a-4800-836c-123e28c76d48",
   "metadata": {
    "tags": []
   },
   "outputs": [],
   "source": [
    "gcsgp.geo_data_frame_to_parquet(remix, f'{GCS_PATH}source_data/remix.parquet')"
   ]
  },
  {
   "cell_type": "code",
   "execution_count": null,
   "id": "d98de296-a9b4-463c-9663-c33db1d7996d",
   "metadata": {
    "tags": []
   },
   "outputs": [],
   "source": [
    "remix.head(1)"
   ]
  },
  {
   "cell_type": "code",
   "execution_count": null,
   "id": "72c5210b-1d43-4574-9659-2e66e9ef943d",
   "metadata": {
    "tags": []
   },
   "outputs": [],
   "source": [
    "line_17 = remix.query('line_name == \"17 EMY-SBA Thruway\"') #  inbound is northbound\n",
    "line_17 = line_17.assign(trip_id = ['205369', '205375'])\n",
    "line_17"
   ]
  },
  {
   "cell_type": "code",
   "execution_count": null,
   "id": "2d662015-4404-487f-8d52-494d452ada90",
   "metadata": {
    "tags": []
   },
   "outputs": [],
   "source": [
    "surf_st_merged.manual_route_name.unique()"
   ]
  },
  {
   "cell_type": "code",
   "execution_count": null,
   "id": "660f2e47-e178-4bc3-bb06-6a87baabe6ad",
   "metadata": {
    "tags": []
   },
   "outputs": [],
   "source": [
    "line_17_st = surf_st_merged.query('manual_route_name == \"Santa Barbara - Oakland\"')\n",
    "line_17_st = line_17_st.assign(amtrak_stop = line_17_st.stop_id)"
   ]
  },
  {
   "cell_type": "code",
   "execution_count": null,
   "id": "d41770fb-2449-47c3-8737-2125dfe4e15a",
   "metadata": {
    "tags": []
   },
   "outputs": [],
   "source": [
    "#  charts only show one month for now\n",
    "source_ridership = utils.read_format_ridership().query('trip_year == 2025 & trip_month == 4')"
   ]
  },
  {
   "cell_type": "code",
   "execution_count": null,
   "id": "02452542-15b6-4d0e-910f-eb966636c73c",
   "metadata": {
    "tags": []
   },
   "outputs": [],
   "source": [
    "chart_utils.flow_chart_from_shape_trip_row(line_17.iloc[0], stop_times=line_17_st, ridership=source_ridership,\n",
    "                              ridership_data_route='Rt 17')"
   ]
  },
  {
   "cell_type": "code",
   "execution_count": null,
   "id": "4bd27516-6fad-4b4d-84b0-29a63d7de633",
   "metadata": {
    "tags": []
   },
   "outputs": [],
   "source": [
    "import importlib\n",
    "importlib.reload(chart_utils)"
   ]
  },
  {
   "cell_type": "code",
   "execution_count": null,
   "id": "004577c5-6ba3-4ffe-bd31-62d1c8583974",
   "metadata": {
    "tags": []
   },
   "outputs": [],
   "source": [
    "chart_utils.flow_chart_from_shape_trip_row(line_17.iloc[1], stop_times=line_17_st, ridership=source_ridership,\n",
    "                              ridership_data_route='Rt 17')"
   ]
  },
  {
   "cell_type": "markdown",
   "id": "37cd01a9-b27c-43ea-9e97-6a4011b8ae2f",
   "metadata": {},
   "source": [
    "### Line "
   ]
  },
  {
   "cell_type": "code",
   "execution_count": null,
   "id": "34b1af46-5ec2-453d-99c0-cdfebd18ac60",
   "metadata": {
    "tags": []
   },
   "outputs": [],
   "source": [
    "remix.line_name.unique()"
   ]
  },
  {
   "cell_type": "code",
   "execution_count": null,
   "id": "80554b64-d327-431d-84df-7940e7ed56c4",
   "metadata": {
    "tags": []
   },
   "outputs": [],
   "source": [
    "line_39 = remix.query('line_name == \"Route 39 - Fullerton - Palm Springs - Indio\" & pattern == \"Long (IND)\"') #  iloc 0 is WB, iloc 1 is EB\n",
    "line_39 = line_39.assign(trip_id = ['201578', '201581'])\n",
    "line_39"
   ]
  },
  {
   "cell_type": "code",
   "execution_count": null,
   "id": "0b88c337-5b97-4bcc-8ec5-b3c7786b92f7",
   "metadata": {
    "tags": []
   },
   "outputs": [],
   "source": [
    "line_39_st = surf_st_merged.query('manual_route_name == \"Fullerton - Indio\"')\n",
    "line_39_st = line_39_st.assign(amtrak_stop = line_39_st.stop_id)"
   ]
  },
  {
   "cell_type": "code",
   "execution_count": null,
   "id": "e7d45a2f-3f44-4805-b345-0868507fda07",
   "metadata": {
    "tags": []
   },
   "outputs": [],
   "source": [
    "chart_utils.flow_chart_from_shape_trip_row(line_39.iloc[0], stop_times=line_39_st, ridership=source_ridership,\n",
    "                              ridership_data_route='Rt 39')"
   ]
  },
  {
   "cell_type": "code",
   "execution_count": null,
   "id": "fdec3a49-d342-4dc1-a12f-b13adbd1df1b",
   "metadata": {
    "tags": []
   },
   "outputs": [],
   "source": [
    "chart_utils.flow_chart_from_shape_trip_row(line_39.iloc[1], stop_times=line_39_st, ridership=source_ridership,\n",
    "                              ridership_data_route='Rt 39')"
   ]
  },
  {
   "cell_type": "code",
   "execution_count": null,
   "id": "59e41d05-5b99-48c8-ab2f-a0c95637e41d",
   "metadata": {},
   "outputs": [],
   "source": []
  }
 ],
 "metadata": {
  "kernelspec": {
   "display_name": "Python 3 (ipykernel)",
   "language": "python",
   "name": "python3"
  },
  "language_info": {
   "codemirror_mode": {
    "name": "ipython",
    "version": 3
   },
   "file_extension": ".py",
   "mimetype": "text/x-python",
   "name": "python",
   "nbconvert_exporter": "python",
   "pygments_lexer": "ipython3",
   "version": "3.11.10"
  },
  "widgets": {
   "application/vnd.jupyter.widget-state+json": {
    "state": {},
    "version_major": 2,
    "version_minor": 0
   }
  }
 },
 "nbformat": 4,
 "nbformat_minor": 5
}
