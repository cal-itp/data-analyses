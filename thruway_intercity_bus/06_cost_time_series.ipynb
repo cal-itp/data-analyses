{
 "cells": [
  {
   "cell_type": "code",
   "execution_count": null,
   "id": "92fba554-4b92-47e3-9b02-7fbb7b43e6e4",
   "metadata": {
    "tags": []
   },
   "outputs": [],
   "source": [
    "import pandas as pd\n",
    "import update_vars\n",
    "import utils\n",
    "\n",
    "import altair as alt\n",
    "import datetime as dt\n",
    "\n",
    "from calitp_data_analysis.gcs_geopandas import GCSGeoPandas\n",
    "gcsgp = GCSGeoPandas()"
   ]
  },
  {
   "cell_type": "code",
   "execution_count": null,
   "id": "a26b0a5a-795a-4065-ad5b-6d968e7c5da3",
   "metadata": {
    "tags": []
   },
   "outputs": [],
   "source": [
    "ridership = utils.read_format_ridership()"
   ]
  },
  {
   "cell_type": "markdown",
   "id": "cecfb3b7-f78f-4d46-b99e-383444867d4d",
   "metadata": {},
   "source": [
    "# Time Series Cost Info\n",
    "\n",
    "* Revenue data sourced from Amtrak-provided Origin-Destination Ridership and Revenue\n",
    "    * Amtrak Route 56 is combined into Route 6 (Central Valley - San Jose)\n",
    "* Cost data by route provided by CCJPA and SJJPA, costs for Route 99 reflect a sum of both JPA portions\n",
    "    * Route 18 (Central Valley - Santa Maria) excluded, many gaps in data which may not reflect full cost.\n",
    "    * Route 15 (YARTS) is included, but ridership may be an undercount since Amtrak source does not reflect YARTS only riders."
   ]
  },
  {
   "cell_type": "code",
   "execution_count": null,
   "id": "94766e3c-ac75-49d7-8d60-c986863a4e16",
   "metadata": {
    "tags": []
   },
   "outputs": [],
   "source": [
    "combined_costs = pd.read_excel(f\"{update_vars.GCS_PATH}source_data/combined_costs.xlsx\")"
   ]
  },
  {
   "cell_type": "code",
   "execution_count": null,
   "id": "719be9f3-cfe1-44fb-beed-58819ecfff9d",
   "metadata": {
    "tags": []
   },
   "outputs": [],
   "source": [
    "cost_route_to_route_short_name = {'1A': 'Route 1', '1B': 'Route 1', '1C': 'Route 1c', 99: 'Route 99',\n",
    "                                 3: 'Route 3', 7: 'Route 7', 6: 'Route 6', '15A/15B': 'Route 15',\n",
    "                                 }"
   ]
  },
  {
   "cell_type": "code",
   "execution_count": null,
   "id": "31bb1d9a-7bd8-4ad7-b848-d36dc24fcd42",
   "metadata": {
    "tags": []
   },
   "outputs": [],
   "source": [
    "combined_costs.columns = combined_costs.columns.map(lambda x: x.lower())\n",
    "combined_costs = combined_costs.rename(columns={'month': 'trip_month', 'year': 'trip_year'})"
   ]
  },
  {
   "cell_type": "code",
   "execution_count": null,
   "id": "12f5becd-2c19-42c3-80f3-791a4b8cad6c",
   "metadata": {
    "tags": []
   },
   "outputs": [],
   "source": [
    "combined_costs = combined_costs.assign(route_short_name = combined_costs.route.map(cost_route_to_route_short_name))"
   ]
  },
  {
   "cell_type": "code",
   "execution_count": null,
   "id": "b462cef9-09d9-4fd0-a5e2-a2448a81a6df",
   "metadata": {
    "tags": []
   },
   "outputs": [],
   "source": [
    "combined_costs = combined_costs.query('route != 99 | trip_month != 6') #  exclude 6/2025 since we only have ccjpa data"
   ]
  },
  {
   "cell_type": "code",
   "execution_count": null,
   "id": "51e45171-97a4-4df6-8de3-9532ef866d60",
   "metadata": {
    "tags": []
   },
   "outputs": [],
   "source": [
    "group_cols = ['route_short_name', 'trip_month', 'trip_year']"
   ]
  },
  {
   "cell_type": "code",
   "execution_count": null,
   "id": "b10488fa-989c-434b-8ef1-7ae9c53381af",
   "metadata": {
    "tags": []
   },
   "outputs": [],
   "source": [
    "monthly_costs = combined_costs.groupby(group_cols)[['cost']].sum().reset_index()"
   ]
  },
  {
   "cell_type": "code",
   "execution_count": null,
   "id": "70b70823-e7bb-4c7f-9684-941565fee948",
   "metadata": {
    "tags": []
   },
   "outputs": [],
   "source": [
    "# monthly = ridership.groupby(['ca_bus_route', 'trip_month', 'trip_year'])[['ridership', 'revenue']].sum().reset_index()\n",
    "monthly = ridership.groupby(group_cols)[['ridership', 'revenue']].sum().reset_index()"
   ]
  },
  {
   "cell_type": "code",
   "execution_count": null,
   "id": "8c72e1b4-cd6c-405b-88d1-43007b7d7c42",
   "metadata": {
    "tags": []
   },
   "outputs": [],
   "source": [
    "monthly = monthly.merge(monthly_costs, on = group_cols)"
   ]
  },
  {
   "cell_type": "code",
   "execution_count": null,
   "id": "2dc55dfb-1f3a-45b6-be6c-aad802ceac4d",
   "metadata": {},
   "outputs": [],
   "source": [
    "date_from_row = lambda row: dt.date(year=row.trip_year, month=row.trip_month, day=1)"
   ]
  },
  {
   "cell_type": "code",
   "execution_count": null,
   "id": "beecba6d-ea9a-4e71-b230-5a3799583824",
   "metadata": {
    "tags": []
   },
   "outputs": [],
   "source": [
    "monthly = monthly.assign(date = monthly.apply(date_from_row, axis=1).astype('datetime64'))"
   ]
  },
  {
   "cell_type": "code",
   "execution_count": null,
   "id": "eae8f2c6-86fd-4ba9-a06f-2c0a5ba28a5c",
   "metadata": {
    "tags": []
   },
   "outputs": [],
   "source": [
    "shape_df = gcsgp.read_parquet(f'{update_vars.GCS_PATH}intermediate/sanj_shapes_trip_info_{update_vars.ANALYSIS_DATE}.parquet')"
   ]
  },
  {
   "cell_type": "code",
   "execution_count": null,
   "id": "4decb715-b801-4a40-801e-1eb5c609c5a5",
   "metadata": {
    "tags": []
   },
   "outputs": [],
   "source": [
    "shape_df = shape_df[['route_short_name', 'route_long_name']].drop_duplicates()"
   ]
  },
  {
   "cell_type": "code",
   "execution_count": null,
   "id": "6f336ea7-5fd9-4559-8a3d-a60705bb5551",
   "metadata": {
    "tags": []
   },
   "outputs": [],
   "source": [
    "monthly = monthly.merge(shape_df, on='route_short_name', how='left')"
   ]
  },
  {
   "cell_type": "code",
   "execution_count": null,
   "id": "80562b0e-ec53-4150-95d5-122bb537affe",
   "metadata": {
    "tags": []
   },
   "outputs": [],
   "source": [
    "monthly = monthly.assign(net_cost = monthly.cost - monthly.revenue)"
   ]
  },
  {
   "cell_type": "code",
   "execution_count": null,
   "id": "27fc4bcd-cd86-44b1-9f7e-89cdb698a64b",
   "metadata": {
    "tags": []
   },
   "outputs": [],
   "source": [
    "def trend_chart(df, col):\n",
    "    \n",
    "    title = col.replace('_', ' ').title()\n",
    "    selection = alt.selection_point(fields=['route_short_name'], bind='legend')\n",
    "    chart = (alt.Chart(monthly)\n",
    "     .mark_line(point=True)\n",
    "     .encode(\n",
    "        x=alt.X('date:T', axis=alt.Axis(format=\"%Y %b\")).title('Date'),\n",
    "        y=alt.Y(f'{col}:Q').title(title),\n",
    "        color=alt.Color('route_short_name:N', legend=alt.Legend(symbolLimit=0, labelFontSize=12, titleFontSize=14)),\n",
    "        tooltip=['route_short_name', alt.Tooltip(f'{col}:Q', format=','), alt.Tooltip(f'{col}:Q', format=','), 'date',\n",
    "                'route_long_name'],\n",
    "        opacity=alt.when(selection).then(alt.value(1)).otherwise(alt.value(0.2))\n",
    "        )\n",
    "     .properties(width=800, height=400)\n",
    "     .interactive()\n",
    "    ).add_params(\n",
    "        selection\n",
    "    )\n",
    "    chart = chart.configure_axis(labelFontSize=14, titleFontSize=16)\n",
    "    return chart"
   ]
  },
  {
   "cell_type": "markdown",
   "id": "d33d01b2-1582-45db-89ce-1caaef50bbe3",
   "metadata": {},
   "source": [
    "## Net Cost Trend by route\n",
    "\n",
    "* can mouse over points for additional info, scroll, and zoom chart\n",
    "* shift-click routes in the legend to select or deselect for highlight"
   ]
  },
  {
   "cell_type": "code",
   "execution_count": null,
   "id": "acb6fee6-6bca-45c2-8bdd-751e932ff236",
   "metadata": {
    "tags": []
   },
   "outputs": [],
   "source": [
    "trend_chart(monthly, 'net_cost')"
   ]
  },
  {
   "cell_type": "markdown",
   "id": "226c56e8-51c7-4dee-b176-c8ff260e196d",
   "metadata": {
    "tags": []
   },
   "source": [
    "## Cost Trend by Route"
   ]
  },
  {
   "cell_type": "code",
   "execution_count": null,
   "id": "c5cff06c-0f83-47e9-8741-2e18250c2bd3",
   "metadata": {
    "tags": []
   },
   "outputs": [],
   "source": [
    "trend_chart(monthly, 'cost')"
   ]
  },
  {
   "cell_type": "markdown",
   "id": "c32ee306-0ba2-4f18-b438-849f2f535f3c",
   "metadata": {},
   "source": [
    "## Revenue Trend by Route"
   ]
  },
  {
   "cell_type": "code",
   "execution_count": null,
   "id": "d8f1a0b1-897c-4b76-bb75-93b20d8d5a27",
   "metadata": {
    "tags": []
   },
   "outputs": [],
   "source": [
    "trend_chart(monthly, 'revenue')"
   ]
  },
  {
   "cell_type": "markdown",
   "id": "40f0440c-db24-4af3-be3e-0ff771ebac28",
   "metadata": {},
   "source": [
    "## Net Cost Per Rider Trend by Route"
   ]
  },
  {
   "cell_type": "code",
   "execution_count": null,
   "id": "24104322-00d4-46a0-be97-02061ccf6f8c",
   "metadata": {
    "tags": []
   },
   "outputs": [],
   "source": [
    "monthly = monthly.assign(net_cost_per_rider = monthly.net_cost / monthly.ridership)"
   ]
  },
  {
   "cell_type": "code",
   "execution_count": null,
   "id": "e75243f3-9271-4670-8e0a-227c7dd2dac1",
   "metadata": {
    "tags": []
   },
   "outputs": [],
   "source": [
    "trend_chart(monthly, 'net_cost_per_rider')"
   ]
  }
 ],
 "metadata": {
  "kernelspec": {
   "display_name": "Python 3 (ipykernel)",
   "language": "python",
   "name": "python3"
  },
  "language_info": {
   "codemirror_mode": {
    "name": "ipython",
    "version": 3
   },
   "file_extension": ".py",
   "mimetype": "text/x-python",
   "name": "python",
   "nbconvert_exporter": "python",
   "pygments_lexer": "ipython3",
   "version": "3.11.10"
  },
  "widgets": {
   "application/vnd.jupyter.widget-state+json": {
    "state": {},
    "version_major": 2,
    "version_minor": 0
   }
  }
 },
 "nbformat": 4,
 "nbformat_minor": 5
}
