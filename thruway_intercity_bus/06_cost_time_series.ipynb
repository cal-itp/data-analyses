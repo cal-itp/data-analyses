{
 "cells": [
  {
   "cell_type": "code",
   "execution_count": 1,
   "id": "92fba554-4b92-47e3-9b02-7fbb7b43e6e4",
   "metadata": {
    "tags": []
   },
   "outputs": [],
   "source": [
    "import pandas as pd\n",
    "import update_vars\n",
    "import utils\n",
    "\n",
    "import altair as alt\n",
    "import datetime as dt\n",
    "\n",
    "from calitp_data_analysis.gcs_geopandas import GCSGeoPandas\n",
    "gcsgp = GCSGeoPandas()"
   ]
  },
  {
   "cell_type": "code",
   "execution_count": 2,
   "id": "a26b0a5a-795a-4065-ad5b-6d968e7c5da3",
   "metadata": {
    "tags": []
   },
   "outputs": [],
   "source": [
    "ridership = utils.read_format_ridership()"
   ]
  },
  {
   "cell_type": "markdown",
   "id": "cecfb3b7-f78f-4d46-b99e-383444867d4d",
   "metadata": {},
   "source": [
    "# Time Series Cost Info\n",
    "\n",
    "* Revenue data sourced from Amtrak-provided Origin-Destination Ridership and Revenue\n",
    "* Cost data by route provided by CCJPA and SJJPA, costs for Route 99 reflect a sum of both JPA's portions"
   ]
  },
  {
   "cell_type": "code",
   "execution_count": 3,
   "id": "94766e3c-ac75-49d7-8d60-c986863a4e16",
   "metadata": {
    "tags": []
   },
   "outputs": [],
   "source": [
    "combined_costs = pd.read_excel(f\"{update_vars.GCS_PATH}source_data/combined_costs.xlsx\")"
   ]
  },
  {
   "cell_type": "code",
   "execution_count": 4,
   "id": "719be9f3-cfe1-44fb-beed-58819ecfff9d",
   "metadata": {
    "tags": []
   },
   "outputs": [],
   "source": [
    "cost_route_to_route_short_name = {'1A': 'Route 1', '1B': 'Route 1', '1C': 'Route 1c', 99: 'Route 99',\n",
    "                                 3: 'Route 3', 7: 'Route 7'}"
   ]
  },
  {
   "cell_type": "code",
   "execution_count": 5,
   "id": "31bb1d9a-7bd8-4ad7-b848-d36dc24fcd42",
   "metadata": {
    "tags": []
   },
   "outputs": [],
   "source": [
    "combined_costs.columns = combined_costs.columns.map(lambda x: x.lower())\n",
    "combined_costs = combined_costs.rename(columns={'month': 'trip_month', 'year': 'trip_year'})"
   ]
  },
  {
   "cell_type": "code",
   "execution_count": 6,
   "id": "12f5becd-2c19-42c3-80f3-791a4b8cad6c",
   "metadata": {
    "tags": []
   },
   "outputs": [],
   "source": [
    "combined_costs = combined_costs.assign(route_short_name = combined_costs.route.map(cost_route_to_route_short_name))"
   ]
  },
  {
   "cell_type": "code",
   "execution_count": 7,
   "id": "b462cef9-09d9-4fd0-a5e2-a2448a81a6df",
   "metadata": {
    "tags": []
   },
   "outputs": [],
   "source": [
    "combined_costs = combined_costs.query('route != 99 | trip_month != 6') #  exclude 6/2025 since we only have ccjpa data"
   ]
  },
  {
   "cell_type": "code",
   "execution_count": 8,
   "id": "51e45171-97a4-4df6-8de3-9532ef866d60",
   "metadata": {
    "tags": []
   },
   "outputs": [],
   "source": [
    "group_cols = ['route_short_name', 'trip_month', 'trip_year']"
   ]
  },
  {
   "cell_type": "code",
   "execution_count": 9,
   "id": "b10488fa-989c-434b-8ef1-7ae9c53381af",
   "metadata": {
    "tags": []
   },
   "outputs": [],
   "source": [
    "monthly_costs = combined_costs.groupby(group_cols)[['cost']].sum().reset_index()"
   ]
  },
  {
   "cell_type": "code",
   "execution_count": 10,
   "id": "70b70823-e7bb-4c7f-9684-941565fee948",
   "metadata": {
    "tags": []
   },
   "outputs": [],
   "source": [
    "# monthly = ridership.groupby(['ca_bus_route', 'trip_month', 'trip_year'])[['ridership', 'revenue']].sum().reset_index()\n",
    "monthly = ridership.groupby(group_cols)[['ridership', 'revenue']].sum().reset_index()"
   ]
  },
  {
   "cell_type": "code",
   "execution_count": 11,
   "id": "8c72e1b4-cd6c-405b-88d1-43007b7d7c42",
   "metadata": {
    "tags": []
   },
   "outputs": [],
   "source": [
    "monthly = monthly.merge(monthly_costs, on = group_cols)"
   ]
  },
  {
   "cell_type": "code",
   "execution_count": 12,
   "id": "2dc55dfb-1f3a-45b6-be6c-aad802ceac4d",
   "metadata": {},
   "outputs": [],
   "source": [
    "date_from_row = lambda row: dt.date(year=row.trip_year, month=row.trip_month, day=1)"
   ]
  },
  {
   "cell_type": "code",
   "execution_count": 13,
   "id": "beecba6d-ea9a-4e71-b230-5a3799583824",
   "metadata": {
    "tags": []
   },
   "outputs": [],
   "source": [
    "monthly = monthly.assign(date = monthly.apply(date_from_row, axis=1).astype('datetime64'))"
   ]
  },
  {
   "cell_type": "code",
   "execution_count": 14,
   "id": "eae8f2c6-86fd-4ba9-a06f-2c0a5ba28a5c",
   "metadata": {
    "tags": []
   },
   "outputs": [],
   "source": [
    "shape_df = gcsgp.read_parquet(f'{update_vars.GCS_PATH}intermediate/sanj_shapes_trip_info_{update_vars.ANALYSIS_DATE}.parquet')"
   ]
  },
  {
   "cell_type": "code",
   "execution_count": 15,
   "id": "4decb715-b801-4a40-801e-1eb5c609c5a5",
   "metadata": {
    "tags": []
   },
   "outputs": [],
   "source": [
    "shape_df = shape_df[['route_short_name', 'route_long_name']].drop_duplicates()"
   ]
  },
  {
   "cell_type": "code",
   "execution_count": 16,
   "id": "6f336ea7-5fd9-4559-8a3d-a60705bb5551",
   "metadata": {
    "tags": []
   },
   "outputs": [],
   "source": [
    "monthly = monthly.merge(shape_df, on='route_short_name', how='left')"
   ]
  },
  {
   "cell_type": "code",
   "execution_count": 17,
   "id": "80562b0e-ec53-4150-95d5-122bb537affe",
   "metadata": {
    "tags": []
   },
   "outputs": [],
   "source": [
    "monthly = monthly.assign(net_cost = monthly.cost - monthly.revenue)"
   ]
  },
  {
   "cell_type": "code",
   "execution_count": 18,
   "id": "27fc4bcd-cd86-44b1-9f7e-89cdb698a64b",
   "metadata": {
    "tags": []
   },
   "outputs": [],
   "source": [
    "def trend_chart(df, col):\n",
    "    \n",
    "    title = col.replace('_', ' ').title()\n",
    "    selection = alt.selection_point(fields=['route_short_name'], bind='legend')\n",
    "    chart = (alt.Chart(monthly)\n",
    "     .mark_line(point=True)\n",
    "     .encode(\n",
    "        x=alt.X('date:T', axis=alt.Axis(format=\"%Y %b\")).title('Date'),\n",
    "        y=alt.Y(f'{col}:Q').title(title),\n",
    "        color=alt.Color('route_short_name:N', legend=alt.Legend(symbolLimit=0, labelFontSize=12, titleFontSize=14)),\n",
    "        tooltip=['route_short_name', alt.Tooltip(f'{col}:Q', format=','), alt.Tooltip(f'{col}:Q', format=','), 'date',\n",
    "                'route_long_name'],\n",
    "        opacity=alt.when(selection).then(alt.value(1)).otherwise(alt.value(0.2))\n",
    "        )\n",
    "     .properties(width=800, height=400)\n",
    "     .interactive()\n",
    "    ).add_params(\n",
    "        selection\n",
    "    )\n",
    "    chart = chart.configure_axis(labelFontSize=14, titleFontSize=16)\n",
    "    return chart"
   ]
  },
  {
   "cell_type": "markdown",
   "id": "d33d01b2-1582-45db-89ce-1caaef50bbe3",
   "metadata": {},
   "source": [
    "## Net Cost Trend by route\n",
    "\n",
    "* can mouse over points for additional info, scroll, and zoom chart\n",
    "* shift-click routes in the legend to select or deselect for highlight"
   ]
  },
  {
   "cell_type": "code",
   "execution_count": 19,
   "id": "acb6fee6-6bca-45c2-8bdd-751e932ff236",
   "metadata": {
    "tags": []
   },
   "outputs": [
    {
     "data": {
      "text/html": [
       "\n",
       "<style>\n",
       "  #altair-viz-64f36c8573fd468fa5f7cfdb09a3069b.vega-embed {\n",
       "    width: 100%;\n",
       "    display: flex;\n",
       "  }\n",
       "\n",
       "  #altair-viz-64f36c8573fd468fa5f7cfdb09a3069b.vega-embed details,\n",
       "  #altair-viz-64f36c8573fd468fa5f7cfdb09a3069b.vega-embed details summary {\n",
       "    position: relative;\n",
       "  }\n",
       "</style>\n",
       "<div id=\"altair-viz-64f36c8573fd468fa5f7cfdb09a3069b\"></div>\n",
       "<script type=\"text/javascript\">\n",
       "  var VEGA_DEBUG = (typeof VEGA_DEBUG == \"undefined\") ? {} : VEGA_DEBUG;\n",
       "  (function(spec, embedOpt){\n",
       "    let outputDiv = document.currentScript.previousElementSibling;\n",
       "    if (outputDiv.id !== \"altair-viz-64f36c8573fd468fa5f7cfdb09a3069b\") {\n",
       "      outputDiv = document.getElementById(\"altair-viz-64f36c8573fd468fa5f7cfdb09a3069b\");\n",
       "    }\n",
       "\n",
       "    const paths = {\n",
       "      \"vega\": \"https://cdn.jsdelivr.net/npm/vega@5?noext\",\n",
       "      \"vega-lib\": \"https://cdn.jsdelivr.net/npm/vega-lib?noext\",\n",
       "      \"vega-lite\": \"https://cdn.jsdelivr.net/npm/vega-lite@5.20.1?noext\",\n",
       "      \"vega-embed\": \"https://cdn.jsdelivr.net/npm/vega-embed@6?noext\",\n",
       "    };\n",
       "\n",
       "    function maybeLoadScript(lib, version) {\n",
       "      var key = `${lib.replace(\"-\", \"\")}_version`;\n",
       "      return (VEGA_DEBUG[key] == version) ?\n",
       "        Promise.resolve(paths[lib]) :\n",
       "        new Promise(function(resolve, reject) {\n",
       "          var s = document.createElement('script');\n",
       "          document.getElementsByTagName(\"head\")[0].appendChild(s);\n",
       "          s.async = true;\n",
       "          s.onload = () => {\n",
       "            VEGA_DEBUG[key] = version;\n",
       "            return resolve(paths[lib]);\n",
       "          };\n",
       "          s.onerror = () => reject(`Error loading script: ${paths[lib]}`);\n",
       "          s.src = paths[lib];\n",
       "        });\n",
       "    }\n",
       "\n",
       "    function showError(err) {\n",
       "      outputDiv.innerHTML = `<div class=\"error\" style=\"color:red;\">${err}</div>`;\n",
       "      throw err;\n",
       "    }\n",
       "\n",
       "    function displayChart(vegaEmbed) {\n",
       "      vegaEmbed(outputDiv, spec, embedOpt)\n",
       "        .catch(err => showError(`Javascript Error: ${err.message}<br>This usually means there's a typo in your chart specification. See the javascript console for the full traceback.`));\n",
       "    }\n",
       "\n",
       "    if(typeof define === \"function\" && define.amd) {\n",
       "      requirejs.config({paths});\n",
       "      let deps = [\"vega-embed\"];\n",
       "      require(deps, displayChart, err => showError(`Error loading script: ${err.message}`));\n",
       "    } else {\n",
       "      maybeLoadScript(\"vega\", \"5\")\n",
       "        .then(() => maybeLoadScript(\"vega-lite\", \"5.20.1\"))\n",
       "        .then(() => maybeLoadScript(\"vega-embed\", \"6\"))\n",
       "        .catch(showError)\n",
       "        .then(() => displayChart(vegaEmbed));\n",
       "    }\n",
       "  })({\"config\": {\"view\": {\"continuousWidth\": 300, \"continuousHeight\": 300}, \"axis\": {\"labelFontSize\": 14, \"titleFontSize\": 16}}, \"data\": {\"name\": \"data-b44980a7ff3a00b93ef2fcd985f30b3b\"}, \"mark\": {\"type\": \"line\", \"point\": true}, \"encoding\": {\"color\": {\"field\": \"route_short_name\", \"legend\": {\"labelFontSize\": 12, \"symbolLimit\": 0, \"titleFontSize\": 14}, \"type\": \"nominal\"}, \"opacity\": {\"condition\": [{\"param\": \"param_1\", \"value\": 1}], \"value\": 0.2}, \"tooltip\": [{\"field\": \"route_short_name\", \"type\": \"nominal\"}, {\"field\": \"net_cost\", \"format\": \",\", \"type\": \"quantitative\"}, {\"field\": \"net_cost\", \"format\": \",\", \"type\": \"quantitative\"}, {\"field\": \"date\", \"type\": \"temporal\"}, {\"field\": \"route_long_name\", \"type\": \"nominal\"}], \"x\": {\"axis\": {\"format\": \"%Y %b\"}, \"field\": \"date\", \"title\": \"Date\", \"type\": \"temporal\"}, \"y\": {\"field\": \"net_cost\", \"title\": \"Net Cost\", \"type\": \"quantitative\"}}, \"height\": 400, \"params\": [{\"name\": \"param_2\", \"select\": {\"type\": \"interval\", \"encodings\": [\"x\", \"y\"]}, \"bind\": \"scales\"}, {\"name\": \"param_1\", \"select\": {\"type\": \"point\", \"fields\": [\"route_short_name\"]}, \"bind\": \"legend\"}], \"width\": 800, \"$schema\": \"https://vega.github.io/schema/vega-lite/v5.20.1.json\", \"datasets\": {\"data-b44980a7ff3a00b93ef2fcd985f30b3b\": [{\"route_short_name\": \"Route 1\", \"trip_month\": 1, \"trip_year\": 2025, \"ridership\": 16236, \"revenue\": 280468.86, \"cost\": 548922.03, \"date\": \"2025-01-01T00:00:00\", \"route_long_name\": \"Fresno/Bekersfield - Los Angeles- SantaAna - Oceanside- San Diego\", \"net_cost\": 268453.17000000004}, {\"route_short_name\": \"Route 1\", \"trip_month\": 2, \"trip_year\": 2025, \"ridership\": 14637, \"revenue\": 245383.9, \"cost\": 500004.68, \"date\": \"2025-02-01T00:00:00\", \"route_long_name\": \"Fresno/Bekersfield - Los Angeles- SantaAna - Oceanside- San Diego\", \"net_cost\": 254620.78}, {\"route_short_name\": \"Route 1\", \"trip_month\": 3, \"trip_year\": 2025, \"ridership\": 18533, \"revenue\": 301098.48, \"cost\": 557773.27, \"date\": \"2025-03-01T00:00:00\", \"route_long_name\": \"Fresno/Bekersfield - Los Angeles- SantaAna - Oceanside- San Diego\", \"net_cost\": 256674.79000000004}, {\"route_short_name\": \"Route 1\", \"trip_month\": 4, \"trip_year\": 2025, \"ridership\": 17770, \"revenue\": 290475.51, \"cost\": 524679.08, \"date\": \"2025-04-01T00:00:00\", \"route_long_name\": \"Fresno/Bekersfield - Los Angeles- SantaAna - Oceanside- San Diego\", \"net_cost\": 234203.56999999995}, {\"route_short_name\": \"Route 1\", \"trip_month\": 5, \"trip_year\": 2025, \"ridership\": 18446, \"revenue\": 318249.95, \"cost\": 552158.69, \"date\": \"2025-05-01T00:00:00\", \"route_long_name\": \"Fresno/Bekersfield - Los Angeles- SantaAna - Oceanside- San Diego\", \"net_cost\": 233908.73999999993}, {\"route_short_name\": \"Route 1\", \"trip_month\": 10, \"trip_year\": 2024, \"ridership\": 17681, \"revenue\": 287432.99, \"cost\": 541285.04, \"date\": \"2024-10-01T00:00:00\", \"route_long_name\": \"Fresno/Bekersfield - Los Angeles- SantaAna - Oceanside- San Diego\", \"net_cost\": 253852.05000000005}, {\"route_short_name\": \"Route 1\", \"trip_month\": 11, \"trip_year\": 2024, \"ridership\": 20125, \"revenue\": 355777.22000000003, \"cost\": 568363.17, \"date\": \"2024-11-01T00:00:00\", \"route_long_name\": \"Fresno/Bekersfield - Los Angeles- SantaAna - Oceanside- San Diego\", \"net_cost\": 212585.95}, {\"route_short_name\": \"Route 1\", \"trip_month\": 12, \"trip_year\": 2024, \"ridership\": 21684, \"revenue\": 394502.2, \"cost\": 577784.0700000001, \"date\": \"2024-12-01T00:00:00\", \"route_long_name\": \"Fresno/Bekersfield - Los Angeles- SantaAna - Oceanside- San Diego\", \"net_cost\": 183281.87000000005}, {\"route_short_name\": \"Route 1c\", \"trip_month\": 1, \"trip_year\": 2025, \"ridership\": 2465, \"revenue\": 32864.18, \"cost\": 96926.64, \"date\": \"2025-01-01T00:00:00\", \"route_long_name\": \"Bakersfield to Los Angeles/Santa Monica\", \"net_cost\": 64062.46}, {\"route_short_name\": \"Route 1c\", \"trip_month\": 2, \"trip_year\": 2025, \"ridership\": 2263, \"revenue\": 29807.72, \"cost\": 87745.5, \"date\": \"2025-02-01T00:00:00\", \"route_long_name\": \"Bakersfield to Los Angeles/Santa Monica\", \"net_cost\": 57937.78}, {\"route_short_name\": \"Route 1c\", \"trip_month\": 3, \"trip_year\": 2025, \"ridership\": 2868, \"revenue\": 36425.63, \"cost\": 97080.86, \"date\": \"2025-03-01T00:00:00\", \"route_long_name\": \"Bakersfield to Los Angeles/Santa Monica\", \"net_cost\": 60655.23}, {\"route_short_name\": \"Route 1c\", \"trip_month\": 4, \"trip_year\": 2025, \"ridership\": 2831, \"revenue\": 35745.06, \"cost\": 93912.21, \"date\": \"2025-04-01T00:00:00\", \"route_long_name\": \"Bakersfield to Los Angeles/Santa Monica\", \"net_cost\": 58167.15000000001}, {\"route_short_name\": \"Route 1c\", \"trip_month\": 5, \"trip_year\": 2025, \"ridership\": 2958, \"revenue\": 38203.02, \"cost\": 97050.14, \"date\": \"2025-05-01T00:00:00\", \"route_long_name\": \"Bakersfield to Los Angeles/Santa Monica\", \"net_cost\": 58847.12}, {\"route_short_name\": \"Route 1c\", \"trip_month\": 10, \"trip_year\": 2024, \"ridership\": 2607, \"revenue\": 32381.440000000002, \"cost\": 96877.74, \"date\": \"2024-10-01T00:00:00\", \"route_long_name\": \"Bakersfield to Los Angeles/Santa Monica\", \"net_cost\": 64496.3}, {\"route_short_name\": \"Route 1c\", \"trip_month\": 11, \"trip_year\": 2024, \"ridership\": 3280, \"revenue\": 45044.86, \"cost\": 93638.59, \"date\": \"2024-11-01T00:00:00\", \"route_long_name\": \"Bakersfield to Los Angeles/Santa Monica\", \"net_cost\": 48593.729999999996}, {\"route_short_name\": \"Route 1c\", \"trip_month\": 12, \"trip_year\": 2024, \"ridership\": 3333, \"revenue\": 46512.01, \"cost\": 96606.91, \"date\": \"2024-12-01T00:00:00\", \"route_long_name\": \"Bakersfield to Los Angeles/Santa Monica\", \"net_cost\": 50094.9}, {\"route_short_name\": \"Route 3\", \"trip_month\": 1, \"trip_year\": 2025, \"ridership\": 12430, \"revenue\": 101180.05, \"cost\": 269624.9, \"date\": \"2025-01-01T00:00:00\", \"route_long_name\": \"Redding Sacramento Stockton\", \"net_cost\": 168444.85000000003}, {\"route_short_name\": \"Route 3\", \"trip_month\": 2, \"trip_year\": 2025, \"ridership\": 11825, \"revenue\": 96307.93, \"cost\": 244900.53, \"date\": \"2025-02-01T00:00:00\", \"route_long_name\": \"Redding Sacramento Stockton\", \"net_cost\": 148592.6}, {\"route_short_name\": \"Route 3\", \"trip_month\": 3, \"trip_year\": 2025, \"ridership\": 14328, \"revenue\": 114084.15, \"cost\": 270759.94, \"date\": \"2025-03-01T00:00:00\", \"route_long_name\": \"Redding Sacramento Stockton\", \"net_cost\": 156675.79}, {\"route_short_name\": \"Route 3\", \"trip_month\": 4, \"trip_year\": 2025, \"ridership\": 14032, \"revenue\": 112484.39, \"cost\": 270943.7, \"date\": \"2025-04-01T00:00:00\", \"route_long_name\": \"Redding Sacramento Stockton\", \"net_cost\": 158459.31}, {\"route_short_name\": \"Route 3\", \"trip_month\": 5, \"trip_year\": 2025, \"ridership\": 14564, \"revenue\": 117015.83, \"cost\": 270565.93, \"date\": \"2025-05-01T00:00:00\", \"route_long_name\": \"Redding Sacramento Stockton\", \"net_cost\": 153550.09999999998}, {\"route_short_name\": \"Route 3\", \"trip_month\": 10, \"trip_year\": 2024, \"ridership\": 13587, \"revenue\": 108433.02, \"cost\": 268820.97, \"date\": \"2024-10-01T00:00:00\", \"route_long_name\": \"Redding Sacramento Stockton\", \"net_cost\": 160387.94999999995}, {\"route_short_name\": \"Route 3\", \"trip_month\": 11, \"trip_year\": 2024, \"ridership\": 15167, \"revenue\": 132300.81, \"cost\": 266915.43, \"date\": \"2024-11-01T00:00:00\", \"route_long_name\": \"Redding Sacramento Stockton\", \"net_cost\": 134614.62}, {\"route_short_name\": \"Route 3\", \"trip_month\": 12, \"trip_year\": 2024, \"ridership\": 14964, \"revenue\": 133343.95, \"cost\": 274644.58, \"date\": \"2024-12-01T00:00:00\", \"route_long_name\": \"Redding Sacramento Stockton\", \"net_cost\": 141300.63}, {\"route_short_name\": \"Route 7\", \"trip_month\": 1, \"trip_year\": 2025, \"ridership\": 3419, \"revenue\": 68360.07, \"cost\": 241586.72, \"date\": \"2025-01-01T00:00:00\", \"route_long_name\": \"Martinez-Napa-Santa Rosa-Arcata\", \"net_cost\": 173226.65}, {\"route_short_name\": \"Route 7\", \"trip_month\": 2, \"trip_year\": 2025, \"ridership\": 2987, \"revenue\": 55639.56, \"cost\": 218207.36, \"date\": \"2025-02-01T00:00:00\", \"route_long_name\": \"Martinez-Napa-Santa Rosa-Arcata\", \"net_cost\": 162567.8}, {\"route_short_name\": \"Route 7\", \"trip_month\": 3, \"trip_year\": 2025, \"ridership\": 3779, \"revenue\": 72883.84, \"cost\": 273567.2, \"date\": \"2025-03-01T00:00:00\", \"route_long_name\": \"Martinez-Napa-Santa Rosa-Arcata\", \"net_cost\": 200683.36000000002}, {\"route_short_name\": \"Route 7\", \"trip_month\": 4, \"trip_year\": 2025, \"ridership\": 3573, \"revenue\": 63774.48, \"cost\": 261936.0, \"date\": \"2025-04-01T00:00:00\", \"route_long_name\": \"Martinez-Napa-Santa Rosa-Arcata\", \"net_cost\": 198161.52}, {\"route_short_name\": \"Route 7\", \"trip_month\": 5, \"trip_year\": 2025, \"ridership\": 3733, \"revenue\": 71335.07, \"cost\": 270667.2, \"date\": \"2025-05-01T00:00:00\", \"route_long_name\": \"Martinez-Napa-Santa Rosa-Arcata\", \"net_cost\": 199332.13}, {\"route_short_name\": \"Route 7\", \"trip_month\": 10, \"trip_year\": 2024, \"ridership\": 3945, \"revenue\": 73904.29, \"cost\": 241271.61, \"date\": \"2024-10-01T00:00:00\", \"route_long_name\": \"Martinez-Napa-Santa Rosa-Arcata\", \"net_cost\": 167367.32}, {\"route_short_name\": \"Route 7\", \"trip_month\": 11, \"trip_year\": 2024, \"ridership\": 4388, \"revenue\": 94268.95999999999, \"cost\": 250297.41, \"date\": \"2024-11-01T00:00:00\", \"route_long_name\": \"Martinez-Napa-Santa Rosa-Arcata\", \"net_cost\": 156028.45}, {\"route_short_name\": \"Route 7\", \"trip_month\": 12, \"trip_year\": 2024, \"ridership\": 4549, \"revenue\": 102466.89, \"cost\": 247062.72, \"date\": \"2024-12-01T00:00:00\", \"route_long_name\": \"Martinez-Napa-Santa Rosa-Arcata\", \"net_cost\": 144595.83000000002}, {\"route_short_name\": \"Route 99\", \"trip_month\": 1, \"trip_year\": 2025, \"ridership\": 13204, \"revenue\": 116488.28000000001, \"cost\": 156430.11, \"date\": \"2025-01-01T00:00:00\", \"route_long_name\": \"Oakland-Emeryville-San Francisco\", \"net_cost\": 39941.82999999997}, {\"route_short_name\": \"Route 99\", \"trip_month\": 2, \"trip_year\": 2025, \"ridership\": 13617, \"revenue\": 119973.65, \"cost\": 141292.08000000002, \"date\": \"2025-02-01T00:00:00\", \"route_long_name\": \"Oakland-Emeryville-San Francisco\", \"net_cost\": 21318.430000000022}, {\"route_short_name\": \"Route 99\", \"trip_month\": 3, \"trip_year\": 2025, \"ridership\": 16128, \"revenue\": 124534.07, \"cost\": 156430.16, \"date\": \"2025-03-01T00:00:00\", \"route_long_name\": \"Oakland-Emeryville-San Francisco\", \"net_cost\": 31896.089999999997}, {\"route_short_name\": \"Route 99\", \"trip_month\": 4, \"trip_year\": 2025, \"ridership\": 16465, \"revenue\": 127304.20000000001, \"cost\": 151383.8, \"date\": \"2025-04-01T00:00:00\", \"route_long_name\": \"Oakland-Emeryville-San Francisco\", \"net_cost\": 24079.599999999977}, {\"route_short_name\": \"Route 99\", \"trip_month\": 5, \"trip_year\": 2025, \"ridership\": 17587, \"revenue\": 128438.22, \"cost\": 156430.16, \"date\": \"2025-05-01T00:00:00\", \"route_long_name\": \"Oakland-Emeryville-San Francisco\", \"net_cost\": 27991.940000000002}, {\"route_short_name\": \"Route 99\", \"trip_month\": 10, \"trip_year\": 2024, \"ridership\": 16090, \"revenue\": 132398.76, \"cost\": 156430.06, \"date\": \"2024-10-01T00:00:00\", \"route_long_name\": \"Oakland-Emeryville-San Francisco\", \"net_cost\": 24031.29999999999}, {\"route_short_name\": \"Route 99\", \"trip_month\": 11, \"trip_year\": 2024, \"ridership\": 14434, \"revenue\": 119440.97, \"cost\": 151883.7, \"date\": \"2024-11-01T00:00:00\", \"route_long_name\": \"Oakland-Emeryville-San Francisco\", \"net_cost\": 32442.73000000001}, {\"route_short_name\": \"Route 99\", \"trip_month\": 12, \"trip_year\": 2024, \"ridership\": 15951, \"revenue\": 129743.01999999999, \"cost\": 156368.49, \"date\": \"2024-12-01T00:00:00\", \"route_long_name\": \"Oakland-Emeryville-San Francisco\", \"net_cost\": 26625.47}]}}, {\"mode\": \"vega-lite\"});\n",
       "</script>"
      ],
      "text/plain": [
       "alt.Chart(...)"
      ]
     },
     "execution_count": 19,
     "metadata": {},
     "output_type": "execute_result"
    }
   ],
   "source": [
    "trend_chart(monthly, 'net_cost')"
   ]
  },
  {
   "cell_type": "markdown",
   "id": "226c56e8-51c7-4dee-b176-c8ff260e196d",
   "metadata": {
    "tags": []
   },
   "source": [
    "## Cost Trend by Route"
   ]
  },
  {
   "cell_type": "code",
   "execution_count": 20,
   "id": "c5cff06c-0f83-47e9-8741-2e18250c2bd3",
   "metadata": {
    "tags": []
   },
   "outputs": [
    {
     "data": {
      "text/html": [
       "\n",
       "<style>\n",
       "  #altair-viz-24b5d36d8c934928b759486679440149.vega-embed {\n",
       "    width: 100%;\n",
       "    display: flex;\n",
       "  }\n",
       "\n",
       "  #altair-viz-24b5d36d8c934928b759486679440149.vega-embed details,\n",
       "  #altair-viz-24b5d36d8c934928b759486679440149.vega-embed details summary {\n",
       "    position: relative;\n",
       "  }\n",
       "</style>\n",
       "<div id=\"altair-viz-24b5d36d8c934928b759486679440149\"></div>\n",
       "<script type=\"text/javascript\">\n",
       "  var VEGA_DEBUG = (typeof VEGA_DEBUG == \"undefined\") ? {} : VEGA_DEBUG;\n",
       "  (function(spec, embedOpt){\n",
       "    let outputDiv = document.currentScript.previousElementSibling;\n",
       "    if (outputDiv.id !== \"altair-viz-24b5d36d8c934928b759486679440149\") {\n",
       "      outputDiv = document.getElementById(\"altair-viz-24b5d36d8c934928b759486679440149\");\n",
       "    }\n",
       "\n",
       "    const paths = {\n",
       "      \"vega\": \"https://cdn.jsdelivr.net/npm/vega@5?noext\",\n",
       "      \"vega-lib\": \"https://cdn.jsdelivr.net/npm/vega-lib?noext\",\n",
       "      \"vega-lite\": \"https://cdn.jsdelivr.net/npm/vega-lite@5.20.1?noext\",\n",
       "      \"vega-embed\": \"https://cdn.jsdelivr.net/npm/vega-embed@6?noext\",\n",
       "    };\n",
       "\n",
       "    function maybeLoadScript(lib, version) {\n",
       "      var key = `${lib.replace(\"-\", \"\")}_version`;\n",
       "      return (VEGA_DEBUG[key] == version) ?\n",
       "        Promise.resolve(paths[lib]) :\n",
       "        new Promise(function(resolve, reject) {\n",
       "          var s = document.createElement('script');\n",
       "          document.getElementsByTagName(\"head\")[0].appendChild(s);\n",
       "          s.async = true;\n",
       "          s.onload = () => {\n",
       "            VEGA_DEBUG[key] = version;\n",
       "            return resolve(paths[lib]);\n",
       "          };\n",
       "          s.onerror = () => reject(`Error loading script: ${paths[lib]}`);\n",
       "          s.src = paths[lib];\n",
       "        });\n",
       "    }\n",
       "\n",
       "    function showError(err) {\n",
       "      outputDiv.innerHTML = `<div class=\"error\" style=\"color:red;\">${err}</div>`;\n",
       "      throw err;\n",
       "    }\n",
       "\n",
       "    function displayChart(vegaEmbed) {\n",
       "      vegaEmbed(outputDiv, spec, embedOpt)\n",
       "        .catch(err => showError(`Javascript Error: ${err.message}<br>This usually means there's a typo in your chart specification. See the javascript console for the full traceback.`));\n",
       "    }\n",
       "\n",
       "    if(typeof define === \"function\" && define.amd) {\n",
       "      requirejs.config({paths});\n",
       "      let deps = [\"vega-embed\"];\n",
       "      require(deps, displayChart, err => showError(`Error loading script: ${err.message}`));\n",
       "    } else {\n",
       "      maybeLoadScript(\"vega\", \"5\")\n",
       "        .then(() => maybeLoadScript(\"vega-lite\", \"5.20.1\"))\n",
       "        .then(() => maybeLoadScript(\"vega-embed\", \"6\"))\n",
       "        .catch(showError)\n",
       "        .then(() => displayChart(vegaEmbed));\n",
       "    }\n",
       "  })({\"config\": {\"view\": {\"continuousWidth\": 300, \"continuousHeight\": 300}, \"axis\": {\"labelFontSize\": 14, \"titleFontSize\": 16}}, \"data\": {\"name\": \"data-b44980a7ff3a00b93ef2fcd985f30b3b\"}, \"mark\": {\"type\": \"line\", \"point\": true}, \"encoding\": {\"color\": {\"field\": \"route_short_name\", \"legend\": {\"labelFontSize\": 12, \"symbolLimit\": 0, \"titleFontSize\": 14}, \"type\": \"nominal\"}, \"opacity\": {\"condition\": [{\"param\": \"param_3\", \"value\": 1}], \"value\": 0.2}, \"tooltip\": [{\"field\": \"route_short_name\", \"type\": \"nominal\"}, {\"field\": \"cost\", \"format\": \",\", \"type\": \"quantitative\"}, {\"field\": \"cost\", \"format\": \",\", \"type\": \"quantitative\"}, {\"field\": \"date\", \"type\": \"temporal\"}, {\"field\": \"route_long_name\", \"type\": \"nominal\"}], \"x\": {\"axis\": {\"format\": \"%Y %b\"}, \"field\": \"date\", \"title\": \"Date\", \"type\": \"temporal\"}, \"y\": {\"field\": \"cost\", \"title\": \"Cost\", \"type\": \"quantitative\"}}, \"height\": 400, \"params\": [{\"name\": \"param_4\", \"select\": {\"type\": \"interval\", \"encodings\": [\"x\", \"y\"]}, \"bind\": \"scales\"}, {\"name\": \"param_3\", \"select\": {\"type\": \"point\", \"fields\": [\"route_short_name\"]}, \"bind\": \"legend\"}], \"width\": 800, \"$schema\": \"https://vega.github.io/schema/vega-lite/v5.20.1.json\", \"datasets\": {\"data-b44980a7ff3a00b93ef2fcd985f30b3b\": [{\"route_short_name\": \"Route 1\", \"trip_month\": 1, \"trip_year\": 2025, \"ridership\": 16236, \"revenue\": 280468.86, \"cost\": 548922.03, \"date\": \"2025-01-01T00:00:00\", \"route_long_name\": \"Fresno/Bekersfield - Los Angeles- SantaAna - Oceanside- San Diego\", \"net_cost\": 268453.17000000004}, {\"route_short_name\": \"Route 1\", \"trip_month\": 2, \"trip_year\": 2025, \"ridership\": 14637, \"revenue\": 245383.9, \"cost\": 500004.68, \"date\": \"2025-02-01T00:00:00\", \"route_long_name\": \"Fresno/Bekersfield - Los Angeles- SantaAna - Oceanside- San Diego\", \"net_cost\": 254620.78}, {\"route_short_name\": \"Route 1\", \"trip_month\": 3, \"trip_year\": 2025, \"ridership\": 18533, \"revenue\": 301098.48, \"cost\": 557773.27, \"date\": \"2025-03-01T00:00:00\", \"route_long_name\": \"Fresno/Bekersfield - Los Angeles- SantaAna - Oceanside- San Diego\", \"net_cost\": 256674.79000000004}, {\"route_short_name\": \"Route 1\", \"trip_month\": 4, \"trip_year\": 2025, \"ridership\": 17770, \"revenue\": 290475.51, \"cost\": 524679.08, \"date\": \"2025-04-01T00:00:00\", \"route_long_name\": \"Fresno/Bekersfield - Los Angeles- SantaAna - Oceanside- San Diego\", \"net_cost\": 234203.56999999995}, {\"route_short_name\": \"Route 1\", \"trip_month\": 5, \"trip_year\": 2025, \"ridership\": 18446, \"revenue\": 318249.95, \"cost\": 552158.69, \"date\": \"2025-05-01T00:00:00\", \"route_long_name\": \"Fresno/Bekersfield - Los Angeles- SantaAna - Oceanside- San Diego\", \"net_cost\": 233908.73999999993}, {\"route_short_name\": \"Route 1\", \"trip_month\": 10, \"trip_year\": 2024, \"ridership\": 17681, \"revenue\": 287432.99, \"cost\": 541285.04, \"date\": \"2024-10-01T00:00:00\", \"route_long_name\": \"Fresno/Bekersfield - Los Angeles- SantaAna - Oceanside- San Diego\", \"net_cost\": 253852.05000000005}, {\"route_short_name\": \"Route 1\", \"trip_month\": 11, \"trip_year\": 2024, \"ridership\": 20125, \"revenue\": 355777.22000000003, \"cost\": 568363.17, \"date\": \"2024-11-01T00:00:00\", \"route_long_name\": \"Fresno/Bekersfield - Los Angeles- SantaAna - Oceanside- San Diego\", \"net_cost\": 212585.95}, {\"route_short_name\": \"Route 1\", \"trip_month\": 12, \"trip_year\": 2024, \"ridership\": 21684, \"revenue\": 394502.2, \"cost\": 577784.0700000001, \"date\": \"2024-12-01T00:00:00\", \"route_long_name\": \"Fresno/Bekersfield - Los Angeles- SantaAna - Oceanside- San Diego\", \"net_cost\": 183281.87000000005}, {\"route_short_name\": \"Route 1c\", \"trip_month\": 1, \"trip_year\": 2025, \"ridership\": 2465, \"revenue\": 32864.18, \"cost\": 96926.64, \"date\": \"2025-01-01T00:00:00\", \"route_long_name\": \"Bakersfield to Los Angeles/Santa Monica\", \"net_cost\": 64062.46}, {\"route_short_name\": \"Route 1c\", \"trip_month\": 2, \"trip_year\": 2025, \"ridership\": 2263, \"revenue\": 29807.72, \"cost\": 87745.5, \"date\": \"2025-02-01T00:00:00\", \"route_long_name\": \"Bakersfield to Los Angeles/Santa Monica\", \"net_cost\": 57937.78}, {\"route_short_name\": \"Route 1c\", \"trip_month\": 3, \"trip_year\": 2025, \"ridership\": 2868, \"revenue\": 36425.63, \"cost\": 97080.86, \"date\": \"2025-03-01T00:00:00\", \"route_long_name\": \"Bakersfield to Los Angeles/Santa Monica\", \"net_cost\": 60655.23}, {\"route_short_name\": \"Route 1c\", \"trip_month\": 4, \"trip_year\": 2025, \"ridership\": 2831, \"revenue\": 35745.06, \"cost\": 93912.21, \"date\": \"2025-04-01T00:00:00\", \"route_long_name\": \"Bakersfield to Los Angeles/Santa Monica\", \"net_cost\": 58167.15000000001}, {\"route_short_name\": \"Route 1c\", \"trip_month\": 5, \"trip_year\": 2025, \"ridership\": 2958, \"revenue\": 38203.02, \"cost\": 97050.14, \"date\": \"2025-05-01T00:00:00\", \"route_long_name\": \"Bakersfield to Los Angeles/Santa Monica\", \"net_cost\": 58847.12}, {\"route_short_name\": \"Route 1c\", \"trip_month\": 10, \"trip_year\": 2024, \"ridership\": 2607, \"revenue\": 32381.440000000002, \"cost\": 96877.74, \"date\": \"2024-10-01T00:00:00\", \"route_long_name\": \"Bakersfield to Los Angeles/Santa Monica\", \"net_cost\": 64496.3}, {\"route_short_name\": \"Route 1c\", \"trip_month\": 11, \"trip_year\": 2024, \"ridership\": 3280, \"revenue\": 45044.86, \"cost\": 93638.59, \"date\": \"2024-11-01T00:00:00\", \"route_long_name\": \"Bakersfield to Los Angeles/Santa Monica\", \"net_cost\": 48593.729999999996}, {\"route_short_name\": \"Route 1c\", \"trip_month\": 12, \"trip_year\": 2024, \"ridership\": 3333, \"revenue\": 46512.01, \"cost\": 96606.91, \"date\": \"2024-12-01T00:00:00\", \"route_long_name\": \"Bakersfield to Los Angeles/Santa Monica\", \"net_cost\": 50094.9}, {\"route_short_name\": \"Route 3\", \"trip_month\": 1, \"trip_year\": 2025, \"ridership\": 12430, \"revenue\": 101180.05, \"cost\": 269624.9, \"date\": \"2025-01-01T00:00:00\", \"route_long_name\": \"Redding Sacramento Stockton\", \"net_cost\": 168444.85000000003}, {\"route_short_name\": \"Route 3\", \"trip_month\": 2, \"trip_year\": 2025, \"ridership\": 11825, \"revenue\": 96307.93, \"cost\": 244900.53, \"date\": \"2025-02-01T00:00:00\", \"route_long_name\": \"Redding Sacramento Stockton\", \"net_cost\": 148592.6}, {\"route_short_name\": \"Route 3\", \"trip_month\": 3, \"trip_year\": 2025, \"ridership\": 14328, \"revenue\": 114084.15, \"cost\": 270759.94, \"date\": \"2025-03-01T00:00:00\", \"route_long_name\": \"Redding Sacramento Stockton\", \"net_cost\": 156675.79}, {\"route_short_name\": \"Route 3\", \"trip_month\": 4, \"trip_year\": 2025, \"ridership\": 14032, \"revenue\": 112484.39, \"cost\": 270943.7, \"date\": \"2025-04-01T00:00:00\", \"route_long_name\": \"Redding Sacramento Stockton\", \"net_cost\": 158459.31}, {\"route_short_name\": \"Route 3\", \"trip_month\": 5, \"trip_year\": 2025, \"ridership\": 14564, \"revenue\": 117015.83, \"cost\": 270565.93, \"date\": \"2025-05-01T00:00:00\", \"route_long_name\": \"Redding Sacramento Stockton\", \"net_cost\": 153550.09999999998}, {\"route_short_name\": \"Route 3\", \"trip_month\": 10, \"trip_year\": 2024, \"ridership\": 13587, \"revenue\": 108433.02, \"cost\": 268820.97, \"date\": \"2024-10-01T00:00:00\", \"route_long_name\": \"Redding Sacramento Stockton\", \"net_cost\": 160387.94999999995}, {\"route_short_name\": \"Route 3\", \"trip_month\": 11, \"trip_year\": 2024, \"ridership\": 15167, \"revenue\": 132300.81, \"cost\": 266915.43, \"date\": \"2024-11-01T00:00:00\", \"route_long_name\": \"Redding Sacramento Stockton\", \"net_cost\": 134614.62}, {\"route_short_name\": \"Route 3\", \"trip_month\": 12, \"trip_year\": 2024, \"ridership\": 14964, \"revenue\": 133343.95, \"cost\": 274644.58, \"date\": \"2024-12-01T00:00:00\", \"route_long_name\": \"Redding Sacramento Stockton\", \"net_cost\": 141300.63}, {\"route_short_name\": \"Route 7\", \"trip_month\": 1, \"trip_year\": 2025, \"ridership\": 3419, \"revenue\": 68360.07, \"cost\": 241586.72, \"date\": \"2025-01-01T00:00:00\", \"route_long_name\": \"Martinez-Napa-Santa Rosa-Arcata\", \"net_cost\": 173226.65}, {\"route_short_name\": \"Route 7\", \"trip_month\": 2, \"trip_year\": 2025, \"ridership\": 2987, \"revenue\": 55639.56, \"cost\": 218207.36, \"date\": \"2025-02-01T00:00:00\", \"route_long_name\": \"Martinez-Napa-Santa Rosa-Arcata\", \"net_cost\": 162567.8}, {\"route_short_name\": \"Route 7\", \"trip_month\": 3, \"trip_year\": 2025, \"ridership\": 3779, \"revenue\": 72883.84, \"cost\": 273567.2, \"date\": \"2025-03-01T00:00:00\", \"route_long_name\": \"Martinez-Napa-Santa Rosa-Arcata\", \"net_cost\": 200683.36000000002}, {\"route_short_name\": \"Route 7\", \"trip_month\": 4, \"trip_year\": 2025, \"ridership\": 3573, \"revenue\": 63774.48, \"cost\": 261936.0, \"date\": \"2025-04-01T00:00:00\", \"route_long_name\": \"Martinez-Napa-Santa Rosa-Arcata\", \"net_cost\": 198161.52}, {\"route_short_name\": \"Route 7\", \"trip_month\": 5, \"trip_year\": 2025, \"ridership\": 3733, \"revenue\": 71335.07, \"cost\": 270667.2, \"date\": \"2025-05-01T00:00:00\", \"route_long_name\": \"Martinez-Napa-Santa Rosa-Arcata\", \"net_cost\": 199332.13}, {\"route_short_name\": \"Route 7\", \"trip_month\": 10, \"trip_year\": 2024, \"ridership\": 3945, \"revenue\": 73904.29, \"cost\": 241271.61, \"date\": \"2024-10-01T00:00:00\", \"route_long_name\": \"Martinez-Napa-Santa Rosa-Arcata\", \"net_cost\": 167367.32}, {\"route_short_name\": \"Route 7\", \"trip_month\": 11, \"trip_year\": 2024, \"ridership\": 4388, \"revenue\": 94268.95999999999, \"cost\": 250297.41, \"date\": \"2024-11-01T00:00:00\", \"route_long_name\": \"Martinez-Napa-Santa Rosa-Arcata\", \"net_cost\": 156028.45}, {\"route_short_name\": \"Route 7\", \"trip_month\": 12, \"trip_year\": 2024, \"ridership\": 4549, \"revenue\": 102466.89, \"cost\": 247062.72, \"date\": \"2024-12-01T00:00:00\", \"route_long_name\": \"Martinez-Napa-Santa Rosa-Arcata\", \"net_cost\": 144595.83000000002}, {\"route_short_name\": \"Route 99\", \"trip_month\": 1, \"trip_year\": 2025, \"ridership\": 13204, \"revenue\": 116488.28000000001, \"cost\": 156430.11, \"date\": \"2025-01-01T00:00:00\", \"route_long_name\": \"Oakland-Emeryville-San Francisco\", \"net_cost\": 39941.82999999997}, {\"route_short_name\": \"Route 99\", \"trip_month\": 2, \"trip_year\": 2025, \"ridership\": 13617, \"revenue\": 119973.65, \"cost\": 141292.08000000002, \"date\": \"2025-02-01T00:00:00\", \"route_long_name\": \"Oakland-Emeryville-San Francisco\", \"net_cost\": 21318.430000000022}, {\"route_short_name\": \"Route 99\", \"trip_month\": 3, \"trip_year\": 2025, \"ridership\": 16128, \"revenue\": 124534.07, \"cost\": 156430.16, \"date\": \"2025-03-01T00:00:00\", \"route_long_name\": \"Oakland-Emeryville-San Francisco\", \"net_cost\": 31896.089999999997}, {\"route_short_name\": \"Route 99\", \"trip_month\": 4, \"trip_year\": 2025, \"ridership\": 16465, \"revenue\": 127304.20000000001, \"cost\": 151383.8, \"date\": \"2025-04-01T00:00:00\", \"route_long_name\": \"Oakland-Emeryville-San Francisco\", \"net_cost\": 24079.599999999977}, {\"route_short_name\": \"Route 99\", \"trip_month\": 5, \"trip_year\": 2025, \"ridership\": 17587, \"revenue\": 128438.22, \"cost\": 156430.16, \"date\": \"2025-05-01T00:00:00\", \"route_long_name\": \"Oakland-Emeryville-San Francisco\", \"net_cost\": 27991.940000000002}, {\"route_short_name\": \"Route 99\", \"trip_month\": 10, \"trip_year\": 2024, \"ridership\": 16090, \"revenue\": 132398.76, \"cost\": 156430.06, \"date\": \"2024-10-01T00:00:00\", \"route_long_name\": \"Oakland-Emeryville-San Francisco\", \"net_cost\": 24031.29999999999}, {\"route_short_name\": \"Route 99\", \"trip_month\": 11, \"trip_year\": 2024, \"ridership\": 14434, \"revenue\": 119440.97, \"cost\": 151883.7, \"date\": \"2024-11-01T00:00:00\", \"route_long_name\": \"Oakland-Emeryville-San Francisco\", \"net_cost\": 32442.73000000001}, {\"route_short_name\": \"Route 99\", \"trip_month\": 12, \"trip_year\": 2024, \"ridership\": 15951, \"revenue\": 129743.01999999999, \"cost\": 156368.49, \"date\": \"2024-12-01T00:00:00\", \"route_long_name\": \"Oakland-Emeryville-San Francisco\", \"net_cost\": 26625.47}]}}, {\"mode\": \"vega-lite\"});\n",
       "</script>"
      ],
      "text/plain": [
       "alt.Chart(...)"
      ]
     },
     "execution_count": 20,
     "metadata": {},
     "output_type": "execute_result"
    }
   ],
   "source": [
    "trend_chart(monthly, 'cost')"
   ]
  },
  {
   "cell_type": "markdown",
   "id": "c32ee306-0ba2-4f18-b438-849f2f535f3c",
   "metadata": {},
   "source": [
    "## Revenue Trend by Route"
   ]
  },
  {
   "cell_type": "code",
   "execution_count": 21,
   "id": "d8f1a0b1-897c-4b76-bb75-93b20d8d5a27",
   "metadata": {
    "tags": []
   },
   "outputs": [
    {
     "data": {
      "text/html": [
       "\n",
       "<style>\n",
       "  #altair-viz-c630662eac1a41dfb82694195f39f02f.vega-embed {\n",
       "    width: 100%;\n",
       "    display: flex;\n",
       "  }\n",
       "\n",
       "  #altair-viz-c630662eac1a41dfb82694195f39f02f.vega-embed details,\n",
       "  #altair-viz-c630662eac1a41dfb82694195f39f02f.vega-embed details summary {\n",
       "    position: relative;\n",
       "  }\n",
       "</style>\n",
       "<div id=\"altair-viz-c630662eac1a41dfb82694195f39f02f\"></div>\n",
       "<script type=\"text/javascript\">\n",
       "  var VEGA_DEBUG = (typeof VEGA_DEBUG == \"undefined\") ? {} : VEGA_DEBUG;\n",
       "  (function(spec, embedOpt){\n",
       "    let outputDiv = document.currentScript.previousElementSibling;\n",
       "    if (outputDiv.id !== \"altair-viz-c630662eac1a41dfb82694195f39f02f\") {\n",
       "      outputDiv = document.getElementById(\"altair-viz-c630662eac1a41dfb82694195f39f02f\");\n",
       "    }\n",
       "\n",
       "    const paths = {\n",
       "      \"vega\": \"https://cdn.jsdelivr.net/npm/vega@5?noext\",\n",
       "      \"vega-lib\": \"https://cdn.jsdelivr.net/npm/vega-lib?noext\",\n",
       "      \"vega-lite\": \"https://cdn.jsdelivr.net/npm/vega-lite@5.20.1?noext\",\n",
       "      \"vega-embed\": \"https://cdn.jsdelivr.net/npm/vega-embed@6?noext\",\n",
       "    };\n",
       "\n",
       "    function maybeLoadScript(lib, version) {\n",
       "      var key = `${lib.replace(\"-\", \"\")}_version`;\n",
       "      return (VEGA_DEBUG[key] == version) ?\n",
       "        Promise.resolve(paths[lib]) :\n",
       "        new Promise(function(resolve, reject) {\n",
       "          var s = document.createElement('script');\n",
       "          document.getElementsByTagName(\"head\")[0].appendChild(s);\n",
       "          s.async = true;\n",
       "          s.onload = () => {\n",
       "            VEGA_DEBUG[key] = version;\n",
       "            return resolve(paths[lib]);\n",
       "          };\n",
       "          s.onerror = () => reject(`Error loading script: ${paths[lib]}`);\n",
       "          s.src = paths[lib];\n",
       "        });\n",
       "    }\n",
       "\n",
       "    function showError(err) {\n",
       "      outputDiv.innerHTML = `<div class=\"error\" style=\"color:red;\">${err}</div>`;\n",
       "      throw err;\n",
       "    }\n",
       "\n",
       "    function displayChart(vegaEmbed) {\n",
       "      vegaEmbed(outputDiv, spec, embedOpt)\n",
       "        .catch(err => showError(`Javascript Error: ${err.message}<br>This usually means there's a typo in your chart specification. See the javascript console for the full traceback.`));\n",
       "    }\n",
       "\n",
       "    if(typeof define === \"function\" && define.amd) {\n",
       "      requirejs.config({paths});\n",
       "      let deps = [\"vega-embed\"];\n",
       "      require(deps, displayChart, err => showError(`Error loading script: ${err.message}`));\n",
       "    } else {\n",
       "      maybeLoadScript(\"vega\", \"5\")\n",
       "        .then(() => maybeLoadScript(\"vega-lite\", \"5.20.1\"))\n",
       "        .then(() => maybeLoadScript(\"vega-embed\", \"6\"))\n",
       "        .catch(showError)\n",
       "        .then(() => displayChart(vegaEmbed));\n",
       "    }\n",
       "  })({\"config\": {\"view\": {\"continuousWidth\": 300, \"continuousHeight\": 300}, \"axis\": {\"labelFontSize\": 14, \"titleFontSize\": 16}}, \"data\": {\"name\": \"data-b44980a7ff3a00b93ef2fcd985f30b3b\"}, \"mark\": {\"type\": \"line\", \"point\": true}, \"encoding\": {\"color\": {\"field\": \"route_short_name\", \"legend\": {\"labelFontSize\": 12, \"symbolLimit\": 0, \"titleFontSize\": 14}, \"type\": \"nominal\"}, \"opacity\": {\"condition\": [{\"param\": \"param_5\", \"value\": 1}], \"value\": 0.2}, \"tooltip\": [{\"field\": \"route_short_name\", \"type\": \"nominal\"}, {\"field\": \"revenue\", \"format\": \",\", \"type\": \"quantitative\"}, {\"field\": \"revenue\", \"format\": \",\", \"type\": \"quantitative\"}, {\"field\": \"date\", \"type\": \"temporal\"}, {\"field\": \"route_long_name\", \"type\": \"nominal\"}], \"x\": {\"axis\": {\"format\": \"%Y %b\"}, \"field\": \"date\", \"title\": \"Date\", \"type\": \"temporal\"}, \"y\": {\"field\": \"revenue\", \"title\": \"Revenue\", \"type\": \"quantitative\"}}, \"height\": 400, \"params\": [{\"name\": \"param_6\", \"select\": {\"type\": \"interval\", \"encodings\": [\"x\", \"y\"]}, \"bind\": \"scales\"}, {\"name\": \"param_5\", \"select\": {\"type\": \"point\", \"fields\": [\"route_short_name\"]}, \"bind\": \"legend\"}], \"width\": 800, \"$schema\": \"https://vega.github.io/schema/vega-lite/v5.20.1.json\", \"datasets\": {\"data-b44980a7ff3a00b93ef2fcd985f30b3b\": [{\"route_short_name\": \"Route 1\", \"trip_month\": 1, \"trip_year\": 2025, \"ridership\": 16236, \"revenue\": 280468.86, \"cost\": 548922.03, \"date\": \"2025-01-01T00:00:00\", \"route_long_name\": \"Fresno/Bekersfield - Los Angeles- SantaAna - Oceanside- San Diego\", \"net_cost\": 268453.17000000004}, {\"route_short_name\": \"Route 1\", \"trip_month\": 2, \"trip_year\": 2025, \"ridership\": 14637, \"revenue\": 245383.9, \"cost\": 500004.68, \"date\": \"2025-02-01T00:00:00\", \"route_long_name\": \"Fresno/Bekersfield - Los Angeles- SantaAna - Oceanside- San Diego\", \"net_cost\": 254620.78}, {\"route_short_name\": \"Route 1\", \"trip_month\": 3, \"trip_year\": 2025, \"ridership\": 18533, \"revenue\": 301098.48, \"cost\": 557773.27, \"date\": \"2025-03-01T00:00:00\", \"route_long_name\": \"Fresno/Bekersfield - Los Angeles- SantaAna - Oceanside- San Diego\", \"net_cost\": 256674.79000000004}, {\"route_short_name\": \"Route 1\", \"trip_month\": 4, \"trip_year\": 2025, \"ridership\": 17770, \"revenue\": 290475.51, \"cost\": 524679.08, \"date\": \"2025-04-01T00:00:00\", \"route_long_name\": \"Fresno/Bekersfield - Los Angeles- SantaAna - Oceanside- San Diego\", \"net_cost\": 234203.56999999995}, {\"route_short_name\": \"Route 1\", \"trip_month\": 5, \"trip_year\": 2025, \"ridership\": 18446, \"revenue\": 318249.95, \"cost\": 552158.69, \"date\": \"2025-05-01T00:00:00\", \"route_long_name\": \"Fresno/Bekersfield - Los Angeles- SantaAna - Oceanside- San Diego\", \"net_cost\": 233908.73999999993}, {\"route_short_name\": \"Route 1\", \"trip_month\": 10, \"trip_year\": 2024, \"ridership\": 17681, \"revenue\": 287432.99, \"cost\": 541285.04, \"date\": \"2024-10-01T00:00:00\", \"route_long_name\": \"Fresno/Bekersfield - Los Angeles- SantaAna - Oceanside- San Diego\", \"net_cost\": 253852.05000000005}, {\"route_short_name\": \"Route 1\", \"trip_month\": 11, \"trip_year\": 2024, \"ridership\": 20125, \"revenue\": 355777.22000000003, \"cost\": 568363.17, \"date\": \"2024-11-01T00:00:00\", \"route_long_name\": \"Fresno/Bekersfield - Los Angeles- SantaAna - Oceanside- San Diego\", \"net_cost\": 212585.95}, {\"route_short_name\": \"Route 1\", \"trip_month\": 12, \"trip_year\": 2024, \"ridership\": 21684, \"revenue\": 394502.2, \"cost\": 577784.0700000001, \"date\": \"2024-12-01T00:00:00\", \"route_long_name\": \"Fresno/Bekersfield - Los Angeles- SantaAna - Oceanside- San Diego\", \"net_cost\": 183281.87000000005}, {\"route_short_name\": \"Route 1c\", \"trip_month\": 1, \"trip_year\": 2025, \"ridership\": 2465, \"revenue\": 32864.18, \"cost\": 96926.64, \"date\": \"2025-01-01T00:00:00\", \"route_long_name\": \"Bakersfield to Los Angeles/Santa Monica\", \"net_cost\": 64062.46}, {\"route_short_name\": \"Route 1c\", \"trip_month\": 2, \"trip_year\": 2025, \"ridership\": 2263, \"revenue\": 29807.72, \"cost\": 87745.5, \"date\": \"2025-02-01T00:00:00\", \"route_long_name\": \"Bakersfield to Los Angeles/Santa Monica\", \"net_cost\": 57937.78}, {\"route_short_name\": \"Route 1c\", \"trip_month\": 3, \"trip_year\": 2025, \"ridership\": 2868, \"revenue\": 36425.63, \"cost\": 97080.86, \"date\": \"2025-03-01T00:00:00\", \"route_long_name\": \"Bakersfield to Los Angeles/Santa Monica\", \"net_cost\": 60655.23}, {\"route_short_name\": \"Route 1c\", \"trip_month\": 4, \"trip_year\": 2025, \"ridership\": 2831, \"revenue\": 35745.06, \"cost\": 93912.21, \"date\": \"2025-04-01T00:00:00\", \"route_long_name\": \"Bakersfield to Los Angeles/Santa Monica\", \"net_cost\": 58167.15000000001}, {\"route_short_name\": \"Route 1c\", \"trip_month\": 5, \"trip_year\": 2025, \"ridership\": 2958, \"revenue\": 38203.02, \"cost\": 97050.14, \"date\": \"2025-05-01T00:00:00\", \"route_long_name\": \"Bakersfield to Los Angeles/Santa Monica\", \"net_cost\": 58847.12}, {\"route_short_name\": \"Route 1c\", \"trip_month\": 10, \"trip_year\": 2024, \"ridership\": 2607, \"revenue\": 32381.440000000002, \"cost\": 96877.74, \"date\": \"2024-10-01T00:00:00\", \"route_long_name\": \"Bakersfield to Los Angeles/Santa Monica\", \"net_cost\": 64496.3}, {\"route_short_name\": \"Route 1c\", \"trip_month\": 11, \"trip_year\": 2024, \"ridership\": 3280, \"revenue\": 45044.86, \"cost\": 93638.59, \"date\": \"2024-11-01T00:00:00\", \"route_long_name\": \"Bakersfield to Los Angeles/Santa Monica\", \"net_cost\": 48593.729999999996}, {\"route_short_name\": \"Route 1c\", \"trip_month\": 12, \"trip_year\": 2024, \"ridership\": 3333, \"revenue\": 46512.01, \"cost\": 96606.91, \"date\": \"2024-12-01T00:00:00\", \"route_long_name\": \"Bakersfield to Los Angeles/Santa Monica\", \"net_cost\": 50094.9}, {\"route_short_name\": \"Route 3\", \"trip_month\": 1, \"trip_year\": 2025, \"ridership\": 12430, \"revenue\": 101180.05, \"cost\": 269624.9, \"date\": \"2025-01-01T00:00:00\", \"route_long_name\": \"Redding Sacramento Stockton\", \"net_cost\": 168444.85000000003}, {\"route_short_name\": \"Route 3\", \"trip_month\": 2, \"trip_year\": 2025, \"ridership\": 11825, \"revenue\": 96307.93, \"cost\": 244900.53, \"date\": \"2025-02-01T00:00:00\", \"route_long_name\": \"Redding Sacramento Stockton\", \"net_cost\": 148592.6}, {\"route_short_name\": \"Route 3\", \"trip_month\": 3, \"trip_year\": 2025, \"ridership\": 14328, \"revenue\": 114084.15, \"cost\": 270759.94, \"date\": \"2025-03-01T00:00:00\", \"route_long_name\": \"Redding Sacramento Stockton\", \"net_cost\": 156675.79}, {\"route_short_name\": \"Route 3\", \"trip_month\": 4, \"trip_year\": 2025, \"ridership\": 14032, \"revenue\": 112484.39, \"cost\": 270943.7, \"date\": \"2025-04-01T00:00:00\", \"route_long_name\": \"Redding Sacramento Stockton\", \"net_cost\": 158459.31}, {\"route_short_name\": \"Route 3\", \"trip_month\": 5, \"trip_year\": 2025, \"ridership\": 14564, \"revenue\": 117015.83, \"cost\": 270565.93, \"date\": \"2025-05-01T00:00:00\", \"route_long_name\": \"Redding Sacramento Stockton\", \"net_cost\": 153550.09999999998}, {\"route_short_name\": \"Route 3\", \"trip_month\": 10, \"trip_year\": 2024, \"ridership\": 13587, \"revenue\": 108433.02, \"cost\": 268820.97, \"date\": \"2024-10-01T00:00:00\", \"route_long_name\": \"Redding Sacramento Stockton\", \"net_cost\": 160387.94999999995}, {\"route_short_name\": \"Route 3\", \"trip_month\": 11, \"trip_year\": 2024, \"ridership\": 15167, \"revenue\": 132300.81, \"cost\": 266915.43, \"date\": \"2024-11-01T00:00:00\", \"route_long_name\": \"Redding Sacramento Stockton\", \"net_cost\": 134614.62}, {\"route_short_name\": \"Route 3\", \"trip_month\": 12, \"trip_year\": 2024, \"ridership\": 14964, \"revenue\": 133343.95, \"cost\": 274644.58, \"date\": \"2024-12-01T00:00:00\", \"route_long_name\": \"Redding Sacramento Stockton\", \"net_cost\": 141300.63}, {\"route_short_name\": \"Route 7\", \"trip_month\": 1, \"trip_year\": 2025, \"ridership\": 3419, \"revenue\": 68360.07, \"cost\": 241586.72, \"date\": \"2025-01-01T00:00:00\", \"route_long_name\": \"Martinez-Napa-Santa Rosa-Arcata\", \"net_cost\": 173226.65}, {\"route_short_name\": \"Route 7\", \"trip_month\": 2, \"trip_year\": 2025, \"ridership\": 2987, \"revenue\": 55639.56, \"cost\": 218207.36, \"date\": \"2025-02-01T00:00:00\", \"route_long_name\": \"Martinez-Napa-Santa Rosa-Arcata\", \"net_cost\": 162567.8}, {\"route_short_name\": \"Route 7\", \"trip_month\": 3, \"trip_year\": 2025, \"ridership\": 3779, \"revenue\": 72883.84, \"cost\": 273567.2, \"date\": \"2025-03-01T00:00:00\", \"route_long_name\": \"Martinez-Napa-Santa Rosa-Arcata\", \"net_cost\": 200683.36000000002}, {\"route_short_name\": \"Route 7\", \"trip_month\": 4, \"trip_year\": 2025, \"ridership\": 3573, \"revenue\": 63774.48, \"cost\": 261936.0, \"date\": \"2025-04-01T00:00:00\", \"route_long_name\": \"Martinez-Napa-Santa Rosa-Arcata\", \"net_cost\": 198161.52}, {\"route_short_name\": \"Route 7\", \"trip_month\": 5, \"trip_year\": 2025, \"ridership\": 3733, \"revenue\": 71335.07, \"cost\": 270667.2, \"date\": \"2025-05-01T00:00:00\", \"route_long_name\": \"Martinez-Napa-Santa Rosa-Arcata\", \"net_cost\": 199332.13}, {\"route_short_name\": \"Route 7\", \"trip_month\": 10, \"trip_year\": 2024, \"ridership\": 3945, \"revenue\": 73904.29, \"cost\": 241271.61, \"date\": \"2024-10-01T00:00:00\", \"route_long_name\": \"Martinez-Napa-Santa Rosa-Arcata\", \"net_cost\": 167367.32}, {\"route_short_name\": \"Route 7\", \"trip_month\": 11, \"trip_year\": 2024, \"ridership\": 4388, \"revenue\": 94268.95999999999, \"cost\": 250297.41, \"date\": \"2024-11-01T00:00:00\", \"route_long_name\": \"Martinez-Napa-Santa Rosa-Arcata\", \"net_cost\": 156028.45}, {\"route_short_name\": \"Route 7\", \"trip_month\": 12, \"trip_year\": 2024, \"ridership\": 4549, \"revenue\": 102466.89, \"cost\": 247062.72, \"date\": \"2024-12-01T00:00:00\", \"route_long_name\": \"Martinez-Napa-Santa Rosa-Arcata\", \"net_cost\": 144595.83000000002}, {\"route_short_name\": \"Route 99\", \"trip_month\": 1, \"trip_year\": 2025, \"ridership\": 13204, \"revenue\": 116488.28000000001, \"cost\": 156430.11, \"date\": \"2025-01-01T00:00:00\", \"route_long_name\": \"Oakland-Emeryville-San Francisco\", \"net_cost\": 39941.82999999997}, {\"route_short_name\": \"Route 99\", \"trip_month\": 2, \"trip_year\": 2025, \"ridership\": 13617, \"revenue\": 119973.65, \"cost\": 141292.08000000002, \"date\": \"2025-02-01T00:00:00\", \"route_long_name\": \"Oakland-Emeryville-San Francisco\", \"net_cost\": 21318.430000000022}, {\"route_short_name\": \"Route 99\", \"trip_month\": 3, \"trip_year\": 2025, \"ridership\": 16128, \"revenue\": 124534.07, \"cost\": 156430.16, \"date\": \"2025-03-01T00:00:00\", \"route_long_name\": \"Oakland-Emeryville-San Francisco\", \"net_cost\": 31896.089999999997}, {\"route_short_name\": \"Route 99\", \"trip_month\": 4, \"trip_year\": 2025, \"ridership\": 16465, \"revenue\": 127304.20000000001, \"cost\": 151383.8, \"date\": \"2025-04-01T00:00:00\", \"route_long_name\": \"Oakland-Emeryville-San Francisco\", \"net_cost\": 24079.599999999977}, {\"route_short_name\": \"Route 99\", \"trip_month\": 5, \"trip_year\": 2025, \"ridership\": 17587, \"revenue\": 128438.22, \"cost\": 156430.16, \"date\": \"2025-05-01T00:00:00\", \"route_long_name\": \"Oakland-Emeryville-San Francisco\", \"net_cost\": 27991.940000000002}, {\"route_short_name\": \"Route 99\", \"trip_month\": 10, \"trip_year\": 2024, \"ridership\": 16090, \"revenue\": 132398.76, \"cost\": 156430.06, \"date\": \"2024-10-01T00:00:00\", \"route_long_name\": \"Oakland-Emeryville-San Francisco\", \"net_cost\": 24031.29999999999}, {\"route_short_name\": \"Route 99\", \"trip_month\": 11, \"trip_year\": 2024, \"ridership\": 14434, \"revenue\": 119440.97, \"cost\": 151883.7, \"date\": \"2024-11-01T00:00:00\", \"route_long_name\": \"Oakland-Emeryville-San Francisco\", \"net_cost\": 32442.73000000001}, {\"route_short_name\": \"Route 99\", \"trip_month\": 12, \"trip_year\": 2024, \"ridership\": 15951, \"revenue\": 129743.01999999999, \"cost\": 156368.49, \"date\": \"2024-12-01T00:00:00\", \"route_long_name\": \"Oakland-Emeryville-San Francisco\", \"net_cost\": 26625.47}]}}, {\"mode\": \"vega-lite\"});\n",
       "</script>"
      ],
      "text/plain": [
       "alt.Chart(...)"
      ]
     },
     "execution_count": 21,
     "metadata": {},
     "output_type": "execute_result"
    }
   ],
   "source": [
    "trend_chart(monthly, 'revenue')"
   ]
  },
  {
   "cell_type": "markdown",
   "id": "40f0440c-db24-4af3-be3e-0ff771ebac28",
   "metadata": {},
   "source": [
    "## Net Cost Per Rider Trend by Route"
   ]
  },
  {
   "cell_type": "code",
   "execution_count": 23,
   "id": "24104322-00d4-46a0-be97-02061ccf6f8c",
   "metadata": {
    "tags": []
   },
   "outputs": [],
   "source": [
    "monthly = monthly.assign(net_cost_per_rider = monthly.net_cost / monthly.ridership)"
   ]
  },
  {
   "cell_type": "code",
   "execution_count": 24,
   "id": "e75243f3-9271-4670-8e0a-227c7dd2dac1",
   "metadata": {
    "tags": []
   },
   "outputs": [
    {
     "data": {
      "text/html": [
       "\n",
       "<style>\n",
       "  #altair-viz-8498632b73b24a4baae3ec119b962e06.vega-embed {\n",
       "    width: 100%;\n",
       "    display: flex;\n",
       "  }\n",
       "\n",
       "  #altair-viz-8498632b73b24a4baae3ec119b962e06.vega-embed details,\n",
       "  #altair-viz-8498632b73b24a4baae3ec119b962e06.vega-embed details summary {\n",
       "    position: relative;\n",
       "  }\n",
       "</style>\n",
       "<div id=\"altair-viz-8498632b73b24a4baae3ec119b962e06\"></div>\n",
       "<script type=\"text/javascript\">\n",
       "  var VEGA_DEBUG = (typeof VEGA_DEBUG == \"undefined\") ? {} : VEGA_DEBUG;\n",
       "  (function(spec, embedOpt){\n",
       "    let outputDiv = document.currentScript.previousElementSibling;\n",
       "    if (outputDiv.id !== \"altair-viz-8498632b73b24a4baae3ec119b962e06\") {\n",
       "      outputDiv = document.getElementById(\"altair-viz-8498632b73b24a4baae3ec119b962e06\");\n",
       "    }\n",
       "\n",
       "    const paths = {\n",
       "      \"vega\": \"https://cdn.jsdelivr.net/npm/vega@5?noext\",\n",
       "      \"vega-lib\": \"https://cdn.jsdelivr.net/npm/vega-lib?noext\",\n",
       "      \"vega-lite\": \"https://cdn.jsdelivr.net/npm/vega-lite@5.20.1?noext\",\n",
       "      \"vega-embed\": \"https://cdn.jsdelivr.net/npm/vega-embed@6?noext\",\n",
       "    };\n",
       "\n",
       "    function maybeLoadScript(lib, version) {\n",
       "      var key = `${lib.replace(\"-\", \"\")}_version`;\n",
       "      return (VEGA_DEBUG[key] == version) ?\n",
       "        Promise.resolve(paths[lib]) :\n",
       "        new Promise(function(resolve, reject) {\n",
       "          var s = document.createElement('script');\n",
       "          document.getElementsByTagName(\"head\")[0].appendChild(s);\n",
       "          s.async = true;\n",
       "          s.onload = () => {\n",
       "            VEGA_DEBUG[key] = version;\n",
       "            return resolve(paths[lib]);\n",
       "          };\n",
       "          s.onerror = () => reject(`Error loading script: ${paths[lib]}`);\n",
       "          s.src = paths[lib];\n",
       "        });\n",
       "    }\n",
       "\n",
       "    function showError(err) {\n",
       "      outputDiv.innerHTML = `<div class=\"error\" style=\"color:red;\">${err}</div>`;\n",
       "      throw err;\n",
       "    }\n",
       "\n",
       "    function displayChart(vegaEmbed) {\n",
       "      vegaEmbed(outputDiv, spec, embedOpt)\n",
       "        .catch(err => showError(`Javascript Error: ${err.message}<br>This usually means there's a typo in your chart specification. See the javascript console for the full traceback.`));\n",
       "    }\n",
       "\n",
       "    if(typeof define === \"function\" && define.amd) {\n",
       "      requirejs.config({paths});\n",
       "      let deps = [\"vega-embed\"];\n",
       "      require(deps, displayChart, err => showError(`Error loading script: ${err.message}`));\n",
       "    } else {\n",
       "      maybeLoadScript(\"vega\", \"5\")\n",
       "        .then(() => maybeLoadScript(\"vega-lite\", \"5.20.1\"))\n",
       "        .then(() => maybeLoadScript(\"vega-embed\", \"6\"))\n",
       "        .catch(showError)\n",
       "        .then(() => displayChart(vegaEmbed));\n",
       "    }\n",
       "  })({\"config\": {\"view\": {\"continuousWidth\": 300, \"continuousHeight\": 300}, \"axis\": {\"labelFontSize\": 14, \"titleFontSize\": 16}}, \"data\": {\"name\": \"data-419fc8a63a75c6d230cb5d73b5cc1c1a\"}, \"mark\": {\"type\": \"line\", \"point\": true}, \"encoding\": {\"color\": {\"field\": \"route_short_name\", \"legend\": {\"labelFontSize\": 12, \"symbolLimit\": 0, \"titleFontSize\": 14}, \"type\": \"nominal\"}, \"opacity\": {\"condition\": [{\"param\": \"param_7\", \"value\": 1}], \"value\": 0.2}, \"tooltip\": [{\"field\": \"route_short_name\", \"type\": \"nominal\"}, {\"field\": \"net_cost_per_rider\", \"format\": \",\", \"type\": \"quantitative\"}, {\"field\": \"net_cost_per_rider\", \"format\": \",\", \"type\": \"quantitative\"}, {\"field\": \"date\", \"type\": \"temporal\"}, {\"field\": \"route_long_name\", \"type\": \"nominal\"}], \"x\": {\"axis\": {\"format\": \"%Y %b\"}, \"field\": \"date\", \"title\": \"Date\", \"type\": \"temporal\"}, \"y\": {\"field\": \"net_cost_per_rider\", \"title\": \"Net Cost Per Rider\", \"type\": \"quantitative\"}}, \"height\": 400, \"params\": [{\"name\": \"param_8\", \"select\": {\"type\": \"interval\", \"encodings\": [\"x\", \"y\"]}, \"bind\": \"scales\"}, {\"name\": \"param_7\", \"select\": {\"type\": \"point\", \"fields\": [\"route_short_name\"]}, \"bind\": \"legend\"}], \"width\": 800, \"$schema\": \"https://vega.github.io/schema/vega-lite/v5.20.1.json\", \"datasets\": {\"data-419fc8a63a75c6d230cb5d73b5cc1c1a\": [{\"route_short_name\": \"Route 1\", \"trip_month\": 1, \"trip_year\": 2025, \"ridership\": 16236, \"revenue\": 280468.86, \"cost\": 548922.03, \"date\": \"2025-01-01T00:00:00\", \"route_long_name\": \"Fresno/Bekersfield - Los Angeles- SantaAna - Oceanside- San Diego\", \"net_cost\": 268453.17000000004, \"net_cost_per_rider\": 16.534440133037698}, {\"route_short_name\": \"Route 1\", \"trip_month\": 2, \"trip_year\": 2025, \"ridership\": 14637, \"revenue\": 245383.9, \"cost\": 500004.68, \"date\": \"2025-02-01T00:00:00\", \"route_long_name\": \"Fresno/Bekersfield - Los Angeles- SantaAna - Oceanside- San Diego\", \"net_cost\": 254620.78, \"net_cost_per_rider\": 17.395694472911117}, {\"route_short_name\": \"Route 1\", \"trip_month\": 3, \"trip_year\": 2025, \"ridership\": 18533, \"revenue\": 301098.48, \"cost\": 557773.27, \"date\": \"2025-03-01T00:00:00\", \"route_long_name\": \"Fresno/Bekersfield - Los Angeles- SantaAna - Oceanside- San Diego\", \"net_cost\": 256674.79000000004, \"net_cost_per_rider\": 13.849608266335727}, {\"route_short_name\": \"Route 1\", \"trip_month\": 4, \"trip_year\": 2025, \"ridership\": 17770, \"revenue\": 290475.51, \"cost\": 524679.08, \"date\": \"2025-04-01T00:00:00\", \"route_long_name\": \"Fresno/Bekersfield - Los Angeles- SantaAna - Oceanside- San Diego\", \"net_cost\": 234203.56999999995, \"net_cost_per_rider\": 13.179716938660661}, {\"route_short_name\": \"Route 1\", \"trip_month\": 5, \"trip_year\": 2025, \"ridership\": 18446, \"revenue\": 318249.95, \"cost\": 552158.69, \"date\": \"2025-05-01T00:00:00\", \"route_long_name\": \"Fresno/Bekersfield - Los Angeles- SantaAna - Oceanside- San Diego\", \"net_cost\": 233908.73999999993, \"net_cost_per_rider\": 12.680729697495389}, {\"route_short_name\": \"Route 1\", \"trip_month\": 10, \"trip_year\": 2024, \"ridership\": 17681, \"revenue\": 287432.99, \"cost\": 541285.04, \"date\": \"2024-10-01T00:00:00\", \"route_long_name\": \"Fresno/Bekersfield - Los Angeles- SantaAna - Oceanside- San Diego\", \"net_cost\": 253852.05000000005, \"net_cost_per_rider\": 14.357335557943557}, {\"route_short_name\": \"Route 1\", \"trip_month\": 11, \"trip_year\": 2024, \"ridership\": 20125, \"revenue\": 355777.22000000003, \"cost\": 568363.17, \"date\": \"2024-11-01T00:00:00\", \"route_long_name\": \"Fresno/Bekersfield - Los Angeles- SantaAna - Oceanside- San Diego\", \"net_cost\": 212585.95, \"net_cost_per_rider\": 10.56327701863354}, {\"route_short_name\": \"Route 1\", \"trip_month\": 12, \"trip_year\": 2024, \"ridership\": 21684, \"revenue\": 394502.2, \"cost\": 577784.0700000001, \"date\": \"2024-12-01T00:00:00\", \"route_long_name\": \"Fresno/Bekersfield - Los Angeles- SantaAna - Oceanside- San Diego\", \"net_cost\": 183281.87000000005, \"net_cost_per_rider\": 8.452401309721456}, {\"route_short_name\": \"Route 1c\", \"trip_month\": 1, \"trip_year\": 2025, \"ridership\": 2465, \"revenue\": 32864.18, \"cost\": 96926.64, \"date\": \"2025-01-01T00:00:00\", \"route_long_name\": \"Bakersfield to Los Angeles/Santa Monica\", \"net_cost\": 64062.46, \"net_cost_per_rider\": 25.988827586206895}, {\"route_short_name\": \"Route 1c\", \"trip_month\": 2, \"trip_year\": 2025, \"ridership\": 2263, \"revenue\": 29807.72, \"cost\": 87745.5, \"date\": \"2025-02-01T00:00:00\", \"route_long_name\": \"Bakersfield to Los Angeles/Santa Monica\", \"net_cost\": 57937.78, \"net_cost_per_rider\": 25.602200618647814}, {\"route_short_name\": \"Route 1c\", \"trip_month\": 3, \"trip_year\": 2025, \"ridership\": 2868, \"revenue\": 36425.63, \"cost\": 97080.86, \"date\": \"2025-03-01T00:00:00\", \"route_long_name\": \"Bakersfield to Los Angeles/Santa Monica\", \"net_cost\": 60655.23, \"net_cost_per_rider\": 21.148964435146446}, {\"route_short_name\": \"Route 1c\", \"trip_month\": 4, \"trip_year\": 2025, \"ridership\": 2831, \"revenue\": 35745.06, \"cost\": 93912.21, \"date\": \"2025-04-01T00:00:00\", \"route_long_name\": \"Bakersfield to Los Angeles/Santa Monica\", \"net_cost\": 58167.15000000001, \"net_cost_per_rider\": 20.546503002472626}, {\"route_short_name\": \"Route 1c\", \"trip_month\": 5, \"trip_year\": 2025, \"ridership\": 2958, \"revenue\": 38203.02, \"cost\": 97050.14, \"date\": \"2025-05-01T00:00:00\", \"route_long_name\": \"Bakersfield to Los Angeles/Santa Monica\", \"net_cost\": 58847.12, \"net_cost_per_rider\": 19.89422582826234}, {\"route_short_name\": \"Route 1c\", \"trip_month\": 10, \"trip_year\": 2024, \"ridership\": 2607, \"revenue\": 32381.440000000002, \"cost\": 96877.74, \"date\": \"2024-10-01T00:00:00\", \"route_long_name\": \"Bakersfield to Los Angeles/Santa Monica\", \"net_cost\": 64496.3, \"net_cost_per_rider\": 24.739662447257384}, {\"route_short_name\": \"Route 1c\", \"trip_month\": 11, \"trip_year\": 2024, \"ridership\": 3280, \"revenue\": 45044.86, \"cost\": 93638.59, \"date\": \"2024-11-01T00:00:00\", \"route_long_name\": \"Bakersfield to Los Angeles/Santa Monica\", \"net_cost\": 48593.729999999996, \"net_cost_per_rider\": 14.815161585365852}, {\"route_short_name\": \"Route 1c\", \"trip_month\": 12, \"trip_year\": 2024, \"ridership\": 3333, \"revenue\": 46512.01, \"cost\": 96606.91, \"date\": \"2024-12-01T00:00:00\", \"route_long_name\": \"Bakersfield to Los Angeles/Santa Monica\", \"net_cost\": 50094.9, \"net_cost_per_rider\": 15.02997299729973}, {\"route_short_name\": \"Route 3\", \"trip_month\": 1, \"trip_year\": 2025, \"ridership\": 12430, \"revenue\": 101180.05, \"cost\": 269624.9, \"date\": \"2025-01-01T00:00:00\", \"route_long_name\": \"Redding Sacramento Stockton\", \"net_cost\": 168444.85000000003, \"net_cost_per_rider\": 13.551476267095738}, {\"route_short_name\": \"Route 3\", \"trip_month\": 2, \"trip_year\": 2025, \"ridership\": 11825, \"revenue\": 96307.93, \"cost\": 244900.53, \"date\": \"2025-02-01T00:00:00\", \"route_long_name\": \"Redding Sacramento Stockton\", \"net_cost\": 148592.6, \"net_cost_per_rider\": 12.565970401691333}, {\"route_short_name\": \"Route 3\", \"trip_month\": 3, \"trip_year\": 2025, \"ridership\": 14328, \"revenue\": 114084.15, \"cost\": 270759.94, \"date\": \"2025-03-01T00:00:00\", \"route_long_name\": \"Redding Sacramento Stockton\", \"net_cost\": 156675.79, \"net_cost_per_rider\": 10.934937883863764}, {\"route_short_name\": \"Route 3\", \"trip_month\": 4, \"trip_year\": 2025, \"ridership\": 14032, \"revenue\": 112484.39, \"cost\": 270943.7, \"date\": \"2025-04-01T00:00:00\", \"route_long_name\": \"Redding Sacramento Stockton\", \"net_cost\": 158459.31, \"net_cost_per_rider\": 11.292710233751425}, {\"route_short_name\": \"Route 3\", \"trip_month\": 5, \"trip_year\": 2025, \"ridership\": 14564, \"revenue\": 117015.83, \"cost\": 270565.93, \"date\": \"2025-05-01T00:00:00\", \"route_long_name\": \"Redding Sacramento Stockton\", \"net_cost\": 153550.09999999998, \"net_cost_per_rider\": 10.543126888217522}, {\"route_short_name\": \"Route 3\", \"trip_month\": 10, \"trip_year\": 2024, \"ridership\": 13587, \"revenue\": 108433.02, \"cost\": 268820.97, \"date\": \"2024-10-01T00:00:00\", \"route_long_name\": \"Redding Sacramento Stockton\", \"net_cost\": 160387.94999999995, \"net_cost_per_rider\": 11.804515345550891}, {\"route_short_name\": \"Route 3\", \"trip_month\": 11, \"trip_year\": 2024, \"ridership\": 15167, \"revenue\": 132300.81, \"cost\": 266915.43, \"date\": \"2024-11-01T00:00:00\", \"route_long_name\": \"Redding Sacramento Stockton\", \"net_cost\": 134614.62, \"net_cost_per_rider\": 8.875494164963406}, {\"route_short_name\": \"Route 3\", \"trip_month\": 12, \"trip_year\": 2024, \"ridership\": 14964, \"revenue\": 133343.95, \"cost\": 274644.58, \"date\": \"2024-12-01T00:00:00\", \"route_long_name\": \"Redding Sacramento Stockton\", \"net_cost\": 141300.63, \"net_cost_per_rider\": 9.442704490777867}, {\"route_short_name\": \"Route 7\", \"trip_month\": 1, \"trip_year\": 2025, \"ridership\": 3419, \"revenue\": 68360.07, \"cost\": 241586.72, \"date\": \"2025-01-01T00:00:00\", \"route_long_name\": \"Martinez-Napa-Santa Rosa-Arcata\", \"net_cost\": 173226.65, \"net_cost_per_rider\": 50.665881836794384}, {\"route_short_name\": \"Route 7\", \"trip_month\": 2, \"trip_year\": 2025, \"ridership\": 2987, \"revenue\": 55639.56, \"cost\": 218207.36, \"date\": \"2025-02-01T00:00:00\", \"route_long_name\": \"Martinez-Napa-Santa Rosa-Arcata\", \"net_cost\": 162567.8, \"net_cost_per_rider\": 54.42510880482089}, {\"route_short_name\": \"Route 7\", \"trip_month\": 3, \"trip_year\": 2025, \"ridership\": 3779, \"revenue\": 72883.84, \"cost\": 273567.2, \"date\": \"2025-03-01T00:00:00\", \"route_long_name\": \"Martinez-Napa-Santa Rosa-Arcata\", \"net_cost\": 200683.36000000002, \"net_cost_per_rider\": 53.10488489018259}, {\"route_short_name\": \"Route 7\", \"trip_month\": 4, \"trip_year\": 2025, \"ridership\": 3573, \"revenue\": 63774.48, \"cost\": 261936.0, \"date\": \"2025-04-01T00:00:00\", \"route_long_name\": \"Martinez-Napa-Santa Rosa-Arcata\", \"net_cost\": 198161.52, \"net_cost_per_rider\": 55.4608228379513}, {\"route_short_name\": \"Route 7\", \"trip_month\": 5, \"trip_year\": 2025, \"ridership\": 3733, \"revenue\": 71335.07, \"cost\": 270667.2, \"date\": \"2025-05-01T00:00:00\", \"route_long_name\": \"Martinez-Napa-Santa Rosa-Arcata\", \"net_cost\": 199332.13, \"net_cost_per_rider\": 53.397302437717656}, {\"route_short_name\": \"Route 7\", \"trip_month\": 10, \"trip_year\": 2024, \"ridership\": 3945, \"revenue\": 73904.29, \"cost\": 241271.61, \"date\": \"2024-10-01T00:00:00\", \"route_long_name\": \"Martinez-Napa-Santa Rosa-Arcata\", \"net_cost\": 167367.32, \"net_cost_per_rider\": 42.425176172370094}, {\"route_short_name\": \"Route 7\", \"trip_month\": 11, \"trip_year\": 2024, \"ridership\": 4388, \"revenue\": 94268.95999999999, \"cost\": 250297.41, \"date\": \"2024-11-01T00:00:00\", \"route_long_name\": \"Martinez-Napa-Santa Rosa-Arcata\", \"net_cost\": 156028.45, \"net_cost_per_rider\": 35.557987693710125}, {\"route_short_name\": \"Route 7\", \"trip_month\": 12, \"trip_year\": 2024, \"ridership\": 4549, \"revenue\": 102466.89, \"cost\": 247062.72, \"date\": \"2024-12-01T00:00:00\", \"route_long_name\": \"Martinez-Napa-Santa Rosa-Arcata\", \"net_cost\": 144595.83000000002, \"net_cost_per_rider\": 31.78628929435041}, {\"route_short_name\": \"Route 99\", \"trip_month\": 1, \"trip_year\": 2025, \"ridership\": 13204, \"revenue\": 116488.28000000001, \"cost\": 156430.11, \"date\": \"2025-01-01T00:00:00\", \"route_long_name\": \"Oakland-Emeryville-San Francisco\", \"net_cost\": 39941.82999999997, \"net_cost_per_rider\": 3.024979551651013}, {\"route_short_name\": \"Route 99\", \"trip_month\": 2, \"trip_year\": 2025, \"ridership\": 13617, \"revenue\": 119973.65, \"cost\": 141292.08000000002, \"date\": \"2025-02-01T00:00:00\", \"route_long_name\": \"Oakland-Emeryville-San Francisco\", \"net_cost\": 21318.430000000022, \"net_cost_per_rider\": 1.5655746493353913}, {\"route_short_name\": \"Route 99\", \"trip_month\": 3, \"trip_year\": 2025, \"ridership\": 16128, \"revenue\": 124534.07, \"cost\": 156430.16, \"date\": \"2025-03-01T00:00:00\", \"route_long_name\": \"Oakland-Emeryville-San Francisco\", \"net_cost\": 31896.089999999997, \"net_cost_per_rider\": 1.977684151785714}, {\"route_short_name\": \"Route 99\", \"trip_month\": 4, \"trip_year\": 2025, \"ridership\": 16465, \"revenue\": 127304.20000000001, \"cost\": 151383.8, \"date\": \"2025-04-01T00:00:00\", \"route_long_name\": \"Oakland-Emeryville-San Francisco\", \"net_cost\": 24079.599999999977, \"net_cost_per_rider\": 1.4624719101123582}, {\"route_short_name\": \"Route 99\", \"trip_month\": 5, \"trip_year\": 2025, \"ridership\": 17587, \"revenue\": 128438.22, \"cost\": 156430.16, \"date\": \"2025-05-01T00:00:00\", \"route_long_name\": \"Oakland-Emeryville-San Francisco\", \"net_cost\": 27991.940000000002, \"net_cost_per_rider\": 1.5916267697731281}, {\"route_short_name\": \"Route 99\", \"trip_month\": 10, \"trip_year\": 2024, \"ridership\": 16090, \"revenue\": 132398.76, \"cost\": 156430.06, \"date\": \"2024-10-01T00:00:00\", \"route_long_name\": \"Oakland-Emeryville-San Francisco\", \"net_cost\": 24031.29999999999, \"net_cost_per_rider\": 1.4935550031075195}, {\"route_short_name\": \"Route 99\", \"trip_month\": 11, \"trip_year\": 2024, \"ridership\": 14434, \"revenue\": 119440.97, \"cost\": 151883.7, \"date\": \"2024-11-01T00:00:00\", \"route_long_name\": \"Oakland-Emeryville-San Francisco\", \"net_cost\": 32442.73000000001, \"net_cost_per_rider\": 2.247660385201608}, {\"route_short_name\": \"Route 99\", \"trip_month\": 12, \"trip_year\": 2024, \"ridership\": 15951, \"revenue\": 129743.01999999999, \"cost\": 156368.49, \"date\": \"2024-12-01T00:00:00\", \"route_long_name\": \"Oakland-Emeryville-San Francisco\", \"net_cost\": 26625.47, \"net_cost_per_rider\": 1.6692038116732495}]}}, {\"mode\": \"vega-lite\"});\n",
       "</script>"
      ],
      "text/plain": [
       "alt.Chart(...)"
      ]
     },
     "execution_count": 24,
     "metadata": {},
     "output_type": "execute_result"
    }
   ],
   "source": [
    "trend_chart(monthly, 'net_cost_per_rider')"
   ]
  }
 ],
 "metadata": {
  "kernelspec": {
   "display_name": "Python 3 (ipykernel)",
   "language": "python",
   "name": "python3"
  },
  "language_info": {
   "codemirror_mode": {
    "name": "ipython",
    "version": 3
   },
   "file_extension": ".py",
   "mimetype": "text/x-python",
   "name": "python",
   "nbconvert_exporter": "python",
   "pygments_lexer": "ipython3",
   "version": "3.11.10"
  },
  "widgets": {
   "application/vnd.jupyter.widget-state+json": {
    "state": {},
    "version_major": 2,
    "version_minor": 0
   }
  }
 },
 "nbformat": 4,
 "nbformat_minor": 5
}
