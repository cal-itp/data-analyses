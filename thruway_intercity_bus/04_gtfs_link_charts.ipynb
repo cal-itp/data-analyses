{
 "cells": [
  {
   "cell_type": "code",
   "execution_count": 1,
   "id": "a31d74df-cbb5-4066-ae86-1d105ee39a53",
   "metadata": {
    "tags": []
   },
   "outputs": [],
   "source": [
    "import pandas as pd\n",
    "import geopandas as gpd\n",
    "from calitp_data_analysis.sql import query_sql\n",
    "from calitp_data_analysis.gcs_geopandas import GCSGeoPandas\n",
    "from calitp_data_analysis.geography_utils import CA_NAD83Albers_m, WGS84\n",
    "gcsgp = GCSGeoPandas()\n",
    "from shared_utils import gtfs_utils_v2\n",
    "from shared_utils.rt_utils import show_full_df\n",
    "\n",
    "import utils\n",
    "import update_vars"
   ]
  },
  {
   "cell_type": "code",
   "execution_count": 17,
   "id": "e9d7a4a6-446a-4a9f-a9bc-b292882ea3db",
   "metadata": {
    "tags": []
   },
   "outputs": [
    {
     "data": {
      "text/plain": [
       "<module 'update_vars' from '/home/jovyan/data-analyses/thruway_intercity_bus/update_vars.py'>"
      ]
     },
     "execution_count": 17,
     "metadata": {},
     "output_type": "execute_result"
    }
   ],
   "source": [
    "import importlib\n",
    "importlib.reload(utils)\n",
    "importlib.reload(update_vars)"
   ]
  },
  {
   "cell_type": "code",
   "execution_count": 19,
   "id": "f6959b08-3709-4887-8f90-ae722aa873d5",
   "metadata": {
    "tags": []
   },
   "outputs": [],
   "source": [
    "ridership = pd.read_excel(update_vars.RIDERSHIP_PATH)"
   ]
  },
  {
   "cell_type": "markdown",
   "id": "475883c3-a956-46bb-993a-d31860ec1689",
   "metadata": {
    "tags": []
   },
   "source": [
    "# Create utils to get stop sequence and distance info for ridership charts\n",
    "\n",
    "* currently blocked on warehouse issues for SJJPA feed, could maybe do CC on `gtfs_funnel` cached files..."
   ]
  },
  {
   "cell_type": "code",
   "execution_count": 2,
   "id": "5fcac348-575c-4359-a9d1-66842889e40b",
   "metadata": {
    "tags": []
   },
   "outputs": [],
   "source": [
    "analysis_date = update_vars.ANALYSIS_DATE"
   ]
  },
  {
   "cell_type": "code",
   "execution_count": 3,
   "id": "8cae391e-e1e9-4023-a835-e84ef87143e8",
   "metadata": {
    "tags": []
   },
   "outputs": [],
   "source": [
    "ca = gcsgp.read_parquet('gs://calitp-analytics-data/data-analyses/high_quality_transit_areas/ca_boundary.parquet')"
   ]
  },
  {
   "cell_type": "markdown",
   "id": "6530f2a4-43eb-4a45-ba9b-72cb1a10fbba",
   "metadata": {},
   "source": [
    "## New SJJPA San Joaquins feed"
   ]
  },
  {
   "cell_type": "code",
   "execution_count": 4,
   "id": "3ff078c8-0fda-4890-8b76-c03518572564",
   "metadata": {
    "tags": []
   },
   "outputs": [],
   "source": [
    "feeds = gtfs_utils_v2.schedule_daily_feed_to_gtfs_dataset_name(analysis_date)"
   ]
  },
  {
   "cell_type": "code",
   "execution_count": 5,
   "id": "358e7cc1-5d2f-41a8-8286-244f0417af86",
   "metadata": {
    "tags": []
   },
   "outputs": [
    {
     "data": {
      "text/html": [
       "<div>\n",
       "<style scoped>\n",
       "    .dataframe tbody tr th:only-of-type {\n",
       "        vertical-align: middle;\n",
       "    }\n",
       "\n",
       "    .dataframe tbody tr th {\n",
       "        vertical-align: top;\n",
       "    }\n",
       "\n",
       "    .dataframe thead th {\n",
       "        text-align: right;\n",
       "    }\n",
       "</style>\n",
       "<table border=\"1\" class=\"dataframe\">\n",
       "  <thead>\n",
       "    <tr style=\"text-align: right;\">\n",
       "      <th></th>\n",
       "      <th>key</th>\n",
       "      <th>date</th>\n",
       "      <th>feed_key</th>\n",
       "      <th>feed_timezone</th>\n",
       "      <th>base64_url</th>\n",
       "      <th>gtfs_dataset_key</th>\n",
       "      <th>name</th>\n",
       "      <th>regional_feed_type</th>\n",
       "      <th>type</th>\n",
       "    </tr>\n",
       "  </thead>\n",
       "  <tbody>\n",
       "    <tr>\n",
       "      <th>77</th>\n",
       "      <td>2b538004ce62dd20b1c326745da7834f</td>\n",
       "      <td>2025-09-10</td>\n",
       "      <td>d9e1e77d0754b712fc608741ae3836f5</td>\n",
       "      <td>America/Los_Angeles</td>\n",
       "      <td>aHR0cHM6Ly9kMzR0aXc2NG41ejRvaC5jbG91ZGZyb250Lm...</td>\n",
       "      <td>524ea6209600e9a2de34a02cf9068729</td>\n",
       "      <td>Amtrak San Joaquins Schedule</td>\n",
       "      <td>None</td>\n",
       "      <td>schedule</td>\n",
       "    </tr>\n",
       "  </tbody>\n",
       "</table>\n",
       "</div>"
      ],
      "text/plain": [
       "                                 key       date  \\\n",
       "77  2b538004ce62dd20b1c326745da7834f 2025-09-10   \n",
       "\n",
       "                            feed_key        feed_timezone  \\\n",
       "77  d9e1e77d0754b712fc608741ae3836f5  America/Los_Angeles   \n",
       "\n",
       "                                           base64_url  \\\n",
       "77  aHR0cHM6Ly9kMzR0aXc2NG41ejRvaC5jbG91ZGZyb250Lm...   \n",
       "\n",
       "                    gtfs_dataset_key                          name  \\\n",
       "77  524ea6209600e9a2de34a02cf9068729  Amtrak San Joaquins Schedule   \n",
       "\n",
       "   regional_feed_type      type  \n",
       "77               None  schedule  "
      ]
     },
     "execution_count": 5,
     "metadata": {},
     "output_type": "execute_result"
    }
   ],
   "source": [
    "sanj = feeds.query('name.str.contains(\"Amtrak San J\")')\n",
    "sanj"
   ]
  },
  {
   "cell_type": "code",
   "execution_count": 6,
   "id": "9869f841-0975-4d06-b4b0-63ba70c87016",
   "metadata": {
    "tags": []
   },
   "outputs": [
    {
     "name": "stderr",
     "output_type": "stream",
     "text": [
      "/opt/conda/lib/python3.11/site-packages/sqlalchemy_bigquery/_types.py:101: SAWarning: Did not recognize type 'GEOGRAPHY' of column 'pt_array'\n",
      "  sqlalchemy.util.warn(\n"
     ]
    }
   ],
   "source": [
    "sanj_shapes = gtfs_utils_v2.get_shapes(analysis_date, operator_feeds=sanj.feed_key, shape_cols=update_vars.shape_cols)"
   ]
  },
  {
   "cell_type": "code",
   "execution_count": 7,
   "id": "c5152ae4-7357-4467-b227-4f64ea65c728",
   "metadata": {
    "tags": []
   },
   "outputs": [],
   "source": [
    "sanj_trips = gtfs_utils_v2.get_trips(analysis_date, operator_feeds=sanj.feed_key, trip_cols=update_vars.trip_cols)"
   ]
  },
  {
   "cell_type": "code",
   "execution_count": 9,
   "id": "2fa83c06-3b80-48e5-8312-7eb31dadf79c",
   "metadata": {
    "tags": []
   },
   "outputs": [
    {
     "name": "stderr",
     "output_type": "stream",
     "text": [
      "/opt/conda/lib/python3.11/site-packages/sqlalchemy_bigquery/_types.py:101: SAWarning: Did not recognize type 'GEOGRAPHY' of column 'pt_geom'\n",
      "  sqlalchemy.util.warn(\n"
     ]
    }
   ],
   "source": [
    "sanj_stops = gtfs_utils_v2.get_stops(analysis_date, operator_feeds=sanj.feed_key, stop_cols=update_vars.stop_cols)"
   ]
  },
  {
   "cell_type": "code",
   "execution_count": 10,
   "id": "4e23a1f5-2a27-4f96-9ce1-af646cfa7429",
   "metadata": {
    "tags": []
   },
   "outputs": [
    {
     "name": "stderr",
     "output_type": "stream",
     "text": [
      "/opt/conda/lib/python3.11/site-packages/sqlalchemy_bigquery/_types.py:101: SAWarning: Did not recognize type 'INTERVAL' of column 'arrival_time_interval'\n",
      "  sqlalchemy.util.warn(\n",
      "/opt/conda/lib/python3.11/site-packages/sqlalchemy_bigquery/_types.py:101: SAWarning: Did not recognize type 'INTERVAL' of column 'departure_time_interval'\n",
      "  sqlalchemy.util.warn(\n",
      "/opt/conda/lib/python3.11/site-packages/sqlalchemy_bigquery/_types.py:101: SAWarning: Did not recognize type 'INTERVAL' of column 'start_pickup_drop_off_window_interval'\n",
      "  sqlalchemy.util.warn(\n",
      "/opt/conda/lib/python3.11/site-packages/sqlalchemy_bigquery/_types.py:101: SAWarning: Did not recognize type 'INTERVAL' of column 'end_pickup_drop_off_window_interval'\n",
      "  sqlalchemy.util.warn(\n"
     ]
    }
   ],
   "source": [
    "sanj_st = gtfs_utils_v2.get_stop_times(analysis_date, operator_feeds=sanj.feed_key, get_df=True,\n",
    "                                      trip_df = sanj_trips, stop_time_cols=update_vars.stop_time_cols)"
   ]
  },
  {
   "cell_type": "code",
   "execution_count": 21,
   "id": "961206c2-548e-49b1-b1db-7bb2e9eaa3df",
   "metadata": {
    "tags": []
   },
   "outputs": [],
   "source": [
    "# sanj_shapes_trip_info = sanj_shapes.merge(sanj_trips.drop_duplicates(subset=['shape_array_key']), on = ['shape_array_key', 'feed_key'])"
   ]
  },
  {
   "cell_type": "code",
   "execution_count": 14,
   "id": "86a3ec1c-68b0-493d-878e-38446c072993",
   "metadata": {
    "tags": []
   },
   "outputs": [],
   "source": [
    "# sanj_shapes_trip_info.drop(columns=['service_date']).explore(column='route_long_name')"
   ]
  },
  {
   "cell_type": "code",
   "execution_count": null,
   "id": "038d8e79-2a73-49bd-ab31-48578e51363f",
   "metadata": {},
   "outputs": [],
   "source": []
  },
  {
   "cell_type": "code",
   "execution_count": 20,
   "id": "0d21e56c-6cb1-4388-bec6-9ee9e6abe14a",
   "metadata": {
    "tags": []
   },
   "outputs": [],
   "source": [
    "sanj_buses = sanj_trips.query('route_type == \"3\"')"
   ]
  },
  {
   "cell_type": "code",
   "execution_count": 24,
   "id": "aacc270a-2bd6-41ea-9aa9-45aec3a2decb",
   "metadata": {
    "tags": []
   },
   "outputs": [
    {
     "data": {
      "text/plain": [
       "Index(['trip_instance_key', 'trip_id', 'trip_short_name', 'base64_url',\n",
       "       'feed_key', 'name', 'regional_feed_type', 'gtfs_dataset_key',\n",
       "       'service_date', 'direction_id', 'block_id', 'route_key', 'route_id',\n",
       "       'route_type', 'route_short_name', 'route_long_name', 'route_desc',\n",
       "       'agency_id', 'network_id', 'shape_array_key', 'shape_id'],\n",
       "      dtype='object')"
      ]
     },
     "execution_count": 24,
     "metadata": {},
     "output_type": "execute_result"
    }
   ],
   "source": [
    "sanj_trips.columns"
   ]
  },
  {
   "cell_type": "code",
   "execution_count": 27,
   "id": "e22cb8d8-ca08-414a-a54e-4849116ff8a6",
   "metadata": {
    "tags": []
   },
   "outputs": [],
   "source": [
    "bus_st = sanj_st.merge(sanj_buses[['trip_id', 'direction_id', 'route_id', 'shape_array_key', 'shape_id']], on='trip_id')"
   ]
  },
  {
   "cell_type": "code",
   "execution_count": 40,
   "id": "7a49c362-9109-452e-a8d3-b44c3a3f56cd",
   "metadata": {
    "tags": []
   },
   "outputs": [],
   "source": [
    "bus_stops = bus_st.stop_id.unique()"
   ]
  },
  {
   "cell_type": "code",
   "execution_count": 31,
   "id": "0cca2a7c-a207-4eca-8034-bcd2cfdec497",
   "metadata": {
    "tags": []
   },
   "outputs": [],
   "source": [
    "import numpy as np"
   ]
  },
  {
   "cell_type": "code",
   "execution_count": 60,
   "id": "6e25a62a-f555-4b68-96cb-8aa74cb5e4ef",
   "metadata": {
    "tags": []
   },
   "outputs": [],
   "source": [
    "get_ridership_unique_stops = lambda df: np.union1d(df.orig, df.dest)"
   ]
  },
  {
   "cell_type": "code",
   "execution_count": 61,
   "id": "96d7d7e6-70dd-4f73-93ad-548b5d19a2a2",
   "metadata": {
    "tags": []
   },
   "outputs": [],
   "source": [
    "rider_stops = get_ridership_unique_stops(ridership)"
   ]
  },
  {
   "cell_type": "code",
   "execution_count": 62,
   "id": "9076c5b9-27b0-4f28-93fa-c15c2c2a85ba",
   "metadata": {
    "tags": []
   },
   "outputs": [
    {
     "data": {
      "text/plain": [
       "array(['ACA', 'ANA', 'ARC', 'ARN', 'ATA', 'BAR', 'BBS', 'BFD', 'BKY',\n",
       "       'BUL', 'BUR', 'CBZ', 'CIC', 'CLM', 'CLV', 'CML', 'COC', 'COX',\n",
       "       'CPC', 'CPN', 'CRM', 'DAV', 'DBP', 'EKA', 'EKG', 'ELE', 'EMY',\n",
       "       'EPL', 'FFV', 'FIL', 'FMT', 'FNO', 'FRT', 'FTA', 'FUL', 'GAC',\n",
       "       'GBV', 'GDL', 'GTA', 'GVB', 'HAY', 'HEA', 'HNF', 'HSU', 'IDO',\n",
       "       'IRV', 'KGC', 'LAX', 'LCA', 'LEG', 'LIV', 'LMC', 'LOD', 'LPS',\n",
       "       'LQT', 'LTM', 'LTV', 'LVN', 'LVS', 'LVT', 'MCD', 'MDP', 'MDR',\n",
       "       'MMK', 'MOD', 'MOJ', 'MPK', 'MRM', 'MRP', 'MRV', 'MRY', 'MTZ',\n",
       "       'MYA', 'MYH', 'MYM', 'MYT', 'MYU', 'NAP', 'NHL', 'OAC', 'OKJ',\n",
       "       'OLT', 'ONA', 'ORV', 'OSD', 'OXN', 'PAS', 'PCV', 'PDC', 'PLS',\n",
       "       'PRB', 'PSP', 'PSS', 'PTC', 'RBF', 'RDR', 'RIC', 'RIV', 'RLN',\n",
       "       'RLP', 'RNO', 'RPC', 'RSV', 'SAC', 'SAN', 'SAP', 'SAT', 'SBA',\n",
       "       'SBU', 'SCC', 'SCS', 'SCZ', 'SFC', 'SIM', 'SJC', 'SKN', 'SKT',\n",
       "       'SLH', 'SLO', 'SLP', 'SLT', 'SLV', 'SMN', 'SNA', 'SNB', 'SNC',\n",
       "       'SNS', 'SOL', 'SPX', 'SRC', 'SUI', 'SVY', 'TEH', 'TRA', 'TRC',\n",
       "       'TRK', 'TRN', 'TRU', 'UKH', 'USF', 'VAL', 'VAS', 'VEC', 'VIS',\n",
       "       'VMW', 'VNC', 'VOU', 'WAC', 'WES', 'WTS', 'YOC', 'YOF', 'YOS',\n",
       "       'YOT', 'YOV', 'YOW'], dtype=object)"
      ]
     },
     "execution_count": 62,
     "metadata": {},
     "output_type": "execute_result"
    }
   ],
   "source": [
    "rider_stops"
   ]
  },
  {
   "cell_type": "code",
   "execution_count": 41,
   "id": "81665cba-ea2b-4a32-9565-949e89364079",
   "metadata": {
    "tags": []
   },
   "outputs": [
    {
     "data": {
      "text/plain": [
       "array(['bSAC', 'bCPC', 'bPCV', 'bSLT', 'bSLH', 'bFRT', 'bSJC', 'bSKN',\n",
       "       'bSKT', 'bTRA', 'bLIV', 'bDBP', 'bMRV', 'bORV', 'bCIC', 'bSCS',\n",
       "       'bDAV', 'bLOD', 'bRSV', 'bRLN', 'bARN', 'bTRU', 'bRNO', 'bMRM',\n",
       "       'bMRP', 'bMDP', 'bELP', 'bYOC', 'bYOV', 'bYOS', 'bMCD', 'bRDD',\n",
       "       'bRBF', 'bEKG', 'bATA', 'bPRB', 'bLMC', 'bHNF', 'bVIS', 'bSAT',\n",
       "       'bGVB', 'bSLO', 'bSLP', 'bOAH', 'bFSH', 'bYOM', 'bYOH', 'bFNO',\n",
       "       'bCGD', 'bWTS', 'bUKH', 'bCLV', 'bSRC', 'bPTC', 'bVAL', 'bMTZ',\n",
       "       'bHSU', 'bARC', 'bEKA', 'bFTA', 'bGBV', 'bLEG', 'bLTV', 'bHEA',\n",
       "       'bRPC', 'bNAP', 'bSPX', 'bCOX', 'bEMY', 'bSFC', 'bYOT', 'bYOW',\n",
       "       'bYOF', 'bMMK', 'bJNL', 'bLVN', 'bLOS', 'bGLD', 'bBFD', 'bSCZ',\n",
       "       'bSVY', 'bSNB', 'bRIV', 'bONA', 'bCLM', 'bPAS', 'bLCA', 'bSBU',\n",
       "       'bSBA', 'bCPN', 'bVEC', 'bOXN', 'bSAP', 'bFIL', 'bTEH', 'bMOJ',\n",
       "       'bBAR', 'bBBS', 'bLVT', 'bLAS', 'bSMN', 'bWES', 'bVNC', 'bBUR',\n",
       "       'bNHL', 'bSAN', 'bSOL', 'bOSD', 'bIRV', 'bSNA', 'bANA', 'bFUL',\n",
       "       'bSNC'], dtype=object)"
      ]
     },
     "execution_count": 41,
     "metadata": {},
     "output_type": "execute_result"
    }
   ],
   "source": [
    "bus_stops"
   ]
  },
  {
   "cell_type": "code",
   "execution_count": 44,
   "id": "4dd4917a-0621-4d60-b2aa-f03b1c8df4ce",
   "metadata": {
    "tags": []
   },
   "outputs": [],
   "source": [
    "sanj_bus_to_rider_stops = dict(zip(bus_stops, [x[1:] for x in bus_stops]))"
   ]
  },
  {
   "cell_type": "code",
   "execution_count": 67,
   "id": "cedaf243-9038-4729-940c-05ef8a6e456c",
   "metadata": {
    "tags": []
   },
   "outputs": [
    {
     "data": {
      "text/plain": [
       "True     102\n",
       "False     11\n",
       "dtype: int64"
      ]
     },
     "execution_count": 67,
     "metadata": {},
     "output_type": "execute_result"
    }
   ],
   "source": [
    "pd.Series(sanj_bus_to_rider_stops.values()).isin(pd.Series(rider_stops)).value_counts()"
   ]
  },
  {
   "cell_type": "code",
   "execution_count": 69,
   "id": "485afad2-776d-4aaa-b64a-061b907a1c97",
   "metadata": {
    "tags": []
   },
   "outputs": [
    {
     "data": {
      "text/plain": [
       "26    ELP\n",
       "31    RDD\n",
       "43    OAH\n",
       "44    FSH\n",
       "45    YOM\n",
       "46    YOH\n",
       "48    CGD\n",
       "74    JNL\n",
       "76    LOS\n",
       "77    GLD\n",
       "99    LAS\n",
       "dtype: object"
      ]
     },
     "execution_count": 69,
     "metadata": {},
     "output_type": "execute_result"
    }
   ],
   "source": [
    "gtfs_no_rider_data = pd.Series(sanj_bus_to_rider_stops.values())[~pd.Series(sanj_bus_to_rider_stops.values()).isin(pd.Series(rider_stops))]\n",
    "gtfs_no_rider_data #  OK -- all either served by RABA/YARTS or outside CA..."
   ]
  },
  {
   "cell_type": "code",
   "execution_count": null,
   "id": "6de4251d-3d0b-46cc-a778-80fef049f39c",
   "metadata": {},
   "outputs": [],
   "source": []
  }
 ],
 "metadata": {
  "kernelspec": {
   "display_name": "Python 3 (ipykernel)",
   "language": "python",
   "name": "python3"
  },
  "language_info": {
   "codemirror_mode": {
    "name": "ipython",
    "version": 3
   },
   "file_extension": ".py",
   "mimetype": "text/x-python",
   "name": "python",
   "nbconvert_exporter": "python",
   "pygments_lexer": "ipython3",
   "version": "3.11.10"
  },
  "widgets": {
   "application/vnd.jupyter.widget-state+json": {
    "state": {},
    "version_major": 2,
    "version_minor": 0
   }
  }
 },
 "nbformat": 4,
 "nbformat_minor": 5
}
