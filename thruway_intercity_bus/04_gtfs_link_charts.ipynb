{
 "cells": [
  {
   "cell_type": "code",
   "execution_count": null,
   "id": "f9427f93-85df-475b-b5b2-e7040249c7a4",
   "metadata": {
    "tags": []
   },
   "outputs": [],
   "source": [
    "%%capture\n",
    "\n",
    "import pandas as pd\n",
    "import geopandas as gpd\n",
    "from calitp_data_analysis.sql import query_sql\n",
    "from calitp_data_analysis.gcs_geopandas import GCSGeoPandas\n",
    "from calitp_data_analysis.geography_utils import CA_NAD83Albers_m, WGS84\n",
    "import calitp_data_analysis.magics\n",
    "gcsgp = GCSGeoPandas()\n",
    "from shared_utils import gtfs_utils_v2, rt_utils\n",
    "\n",
    "import utils\n",
    "import update_vars\n",
    "import altair as alt\n",
    "import numpy as np\n",
    "import shapely\n",
    "import branca\n",
    "\n",
    "import importlib\n",
    "importlib.reload(utils)\n",
    "importlib.reload(update_vars)"
   ]
  },
  {
   "cell_type": "code",
   "execution_count": null,
   "id": "d79c7c96-4533-41e3-816b-b0f84a3f01f6",
   "metadata": {
    "tags": []
   },
   "outputs": [],
   "source": [
    "import chart_utils"
   ]
  },
  {
   "cell_type": "markdown",
   "id": "475883c3-a956-46bb-993a-d31860ec1689",
   "metadata": {
    "tags": []
   },
   "source": [
    "# Passenger Flow and Ridership Charts by Route and Origin/Destination\n",
    "\n",
    "* Hues represent origin stops (and may repeat where there are many)\n",
    "* Within each origin group, darker shades represent longer O/D pairs\n",
    "* Currently based on April 2025 figures only"
   ]
  },
  {
   "cell_type": "code",
   "execution_count": null,
   "id": "5fcac348-575c-4359-a9d1-66842889e40b",
   "metadata": {
    "tags": []
   },
   "outputs": [],
   "source": [
    "analysis_date = update_vars.ANALYSIS_DATE"
   ]
  },
  {
   "cell_type": "code",
   "execution_count": null,
   "id": "3ff078c8-0fda-4890-8b76-c03518572564",
   "metadata": {
    "tags": []
   },
   "outputs": [],
   "source": [
    "feeds = gtfs_utils_v2.schedule_daily_feed_to_gtfs_dataset_name(analysis_date)"
   ]
  },
  {
   "cell_type": "code",
   "execution_count": null,
   "id": "f33365f0-b9f8-4bcb-8ab6-05483c02760f",
   "metadata": {
    "tags": []
   },
   "outputs": [],
   "source": [
    "sanj = feeds.query('name == \"Amtrak San Joaquins Schedule\"')"
   ]
  },
  {
   "cell_type": "code",
   "execution_count": null,
   "id": "a55061eb-362b-4a44-9251-11a1305f70cb",
   "metadata": {
    "tags": []
   },
   "outputs": [],
   "source": [
    "sanj_shapes = gtfs_utils_v2.get_shapes(analysis_date, operator_feeds=sanj.feed_key, shape_cols=update_vars.shape_cols)\n",
    "sanj_shapes = sanj_shapes.to_crs(CA_NAD83Albers_m)\n",
    "sanj_shapes = sanj_shapes.assign(length_meters = sanj_shapes.geometry.length)"
   ]
  },
  {
   "cell_type": "code",
   "execution_count": null,
   "id": "c5152ae4-7357-4467-b227-4f64ea65c728",
   "metadata": {
    "tags": []
   },
   "outputs": [],
   "source": [
    "sanj_trips = gtfs_utils_v2.get_trips(analysis_date, operator_feeds=sanj.feed_key, trip_cols=update_vars.trip_cols).query('route_type == \"3\"')"
   ]
  },
  {
   "cell_type": "code",
   "execution_count": null,
   "id": "2fa83c06-3b80-48e5-8312-7eb31dadf79c",
   "metadata": {
    "tags": []
   },
   "outputs": [],
   "source": [
    "sanj_stops = gtfs_utils_v2.get_stops(analysis_date, operator_feeds=sanj.feed_key, stop_cols=update_vars.stop_cols).to_crs(CA_NAD83Albers_m)"
   ]
  },
  {
   "cell_type": "code",
   "execution_count": null,
   "id": "4e23a1f5-2a27-4f96-9ce1-af646cfa7429",
   "metadata": {
    "tags": []
   },
   "outputs": [],
   "source": [
    "sanj_st = gtfs_utils_v2.get_stop_times(analysis_date, operator_feeds=sanj.feed_key, get_df=True,\n",
    "                                      trip_df = sanj_trips, stop_time_cols=update_vars.stop_time_cols)"
   ]
  },
  {
   "cell_type": "code",
   "execution_count": null,
   "id": "e22cb8d8-ca08-414a-a54e-4849116ff8a6",
   "metadata": {
    "tags": []
   },
   "outputs": [],
   "source": [
    "bus_st = sanj_st.merge(sanj_trips[['trip_id', 'direction_id', 'route_id', 'route_short_name',\n",
    "                                   'shape_array_key', 'shape_id']], on='trip_id')"
   ]
  },
  {
   "cell_type": "code",
   "execution_count": null,
   "id": "961206c2-548e-49b1-b1db-7bb2e9eaa3df",
   "metadata": {
    "tags": []
   },
   "outputs": [],
   "source": [
    "sanj_shapes_trip_info = (sanj_shapes.merge(sanj_trips.drop_duplicates(subset=['shape_array_key']), on = ['shape_array_key', 'feed_key'])\n",
    "                            .drop(columns=['base64_url', 'regional_feed_type', 'block_id',\n",
    "                                           'route_desc', 'agency_id', 'network_id',\n",
    "                                          'route_key'])\n",
    "                        )"
   ]
  },
  {
   "cell_type": "code",
   "execution_count": null,
   "id": "0453c2eb-0572-480c-acf5-bee7a22cb3ca",
   "metadata": {},
   "outputs": [],
   "source": [
    "gcsgp.geo_data_frame_to_parquet(sanj_shapes_trip_info, f'{update_vars.GCS_PATH}intermediate/sanj_shapes_trip_info_{analysis_date}.parquet')"
   ]
  },
  {
   "cell_type": "code",
   "execution_count": null,
   "id": "baa43807-61bd-4ed0-a772-276dc6f2057a",
   "metadata": {
    "tags": []
   },
   "outputs": [],
   "source": [
    "sanj_long_shapes = utils.longest_by_route_dir(sanj_shapes_trip_info)"
   ]
  },
  {
   "cell_type": "code",
   "execution_count": null,
   "id": "a01e403f-42e3-40b5-b683-33ca28bcb99c",
   "metadata": {
    "tags": []
   },
   "outputs": [],
   "source": [
    "source_ridership = pd.read_excel(update_vars.RIDERSHIP_PATH)\n",
    "source_ridership = source_ridership.assign(od = source_ridership.orig + '->' + source_ridership.dest)\n",
    "source_ridership = source_ridership.assign(route_short_name = source_ridership.ca_bus_route.str.replace('Rt', 'Route'))\n",
    "source_ridership = source_ridership.query('trip_year == 2025 & trip_month == 4') ## TODO trends, etc\n",
    "\n",
    "rider_to_gtfs_dict = {'Route 1A': 'Route 1', 'Route 1B': 'Route 1', 'Route 1C': 'Route 1c',\n",
    "                     'Route 20 - B': 'Route 20', 'Route 3R': 'Route 3'}\n",
    "strip_zero = lambda route_str: ' '.join([x.lstrip('0') for x in route_str.split(' ')])\n",
    "rider_to_gtfs = lambda route_str: rider_to_gtfs_dict[route_str] if route_str in rider_to_gtfs_dict.keys() else route_str\n",
    "\n",
    "source_ridership = source_ridership.assign(route_short_name = source_ridership.route_short_name.map(strip_zero).map(rider_to_gtfs))"
   ]
  },
  {
   "cell_type": "code",
   "execution_count": null,
   "id": "7a49c362-9109-452e-a8d3-b44c3a3f56cd",
   "metadata": {
    "tags": []
   },
   "outputs": [],
   "source": [
    "bus_stops = sanj_st.stop_id.unique()"
   ]
  },
  {
   "cell_type": "code",
   "execution_count": null,
   "id": "6e25a62a-f555-4b68-96cb-8aa74cb5e4ef",
   "metadata": {
    "tags": []
   },
   "outputs": [],
   "source": [
    "get_ridership_unique_stops = lambda df: np.union1d(df.orig, df.dest)"
   ]
  },
  {
   "cell_type": "code",
   "execution_count": null,
   "id": "96d7d7e6-70dd-4f73-93ad-548b5d19a2a2",
   "metadata": {
    "tags": []
   },
   "outputs": [],
   "source": [
    "rider_stops = get_ridership_unique_stops(source_ridership)"
   ]
  },
  {
   "cell_type": "code",
   "execution_count": null,
   "id": "4dd4917a-0621-4d60-b2aa-f03b1c8df4ce",
   "metadata": {
    "tags": []
   },
   "outputs": [],
   "source": [
    "sanj_bus_to_rider_stops = dict(zip(bus_stops, [x[1:] for x in bus_stops]))\n",
    "sanj_bus_to_rider_stops['bLOS'] = 'LAX'"
   ]
  },
  {
   "cell_type": "code",
   "execution_count": null,
   "id": "29658dee-71dd-475d-aaec-ec8e3503dc92",
   "metadata": {
    "tags": []
   },
   "outputs": [],
   "source": [
    "bus_st = pd.merge(sanj_stops[['stop_id', 'geometry']], bus_st, on='stop_id')\n",
    "bus_st = bus_st.assign(amtrak_stop = bus_st.stop_id.map(sanj_bus_to_rider_stops)).sort_values(['trip_id', 'stop_sequence'])"
   ]
  },
  {
   "cell_type": "code",
   "execution_count": null,
   "id": "2a3a9529-934b-4d14-9f36-f8174adabb18",
   "metadata": {
    "tags": []
   },
   "outputs": [],
   "source": [
    "# pd.Series(sanj_bus_to_rider_stops.values()).isin(pd.Series(rider_stops)).value_counts()\n",
    "\n",
    "# gtfs_no_rider_data = pd.Series(sanj_bus_to_rider_stops.values())[~pd.Series(sanj_bus_to_rider_stops.values()).isin(pd.Series(rider_stops))]\n",
    "# gtfs_no_rider_data #  OK -- all either served by RABA/YARTS or outside CA..."
   ]
  },
  {
   "cell_type": "markdown",
   "id": "511e9f85-3476-4f0c-87bf-c87b75ffa60e",
   "metadata": {},
   "source": [
    "## Route 1"
   ]
  },
  {
   "cell_type": "code",
   "execution_count": null,
   "id": "2a746aa1-1efc-471b-97f8-48761a7c12ab",
   "metadata": {
    "tags": []
   },
   "outputs": [],
   "source": [
    "rt1_test = sanj_long_shapes.query('route_id == \"1\"')"
   ]
  },
  {
   "cell_type": "code",
   "execution_count": null,
   "id": "abb32c66-7ae2-4901-81cf-0c71e6ba4725",
   "metadata": {
    "tags": []
   },
   "outputs": [],
   "source": [
    "rt1_test[['name', 'route_short_name', 'route_long_name', 'shape_id']]"
   ]
  },
  {
   "cell_type": "code",
   "execution_count": null,
   "id": "bd226a48-87b9-4275-81fc-c87657ea90a5",
   "metadata": {
    "tags": []
   },
   "outputs": [],
   "source": [
    "chart = chart_utils.flow_chart_from_shape_trip_row(rt1_test.iloc[0], stop_times=bus_st, ridership=source_ridership,\n",
    "                              ridership_data_route='Rt 1A')"
   ]
  },
  {
   "cell_type": "code",
   "execution_count": null,
   "id": "87a14ecc-7039-407b-b724-2a1fdc124564",
   "metadata": {
    "tags": []
   },
   "outputs": [],
   "source": [
    "chart"
   ]
  },
  {
   "cell_type": "code",
   "execution_count": null,
   "id": "17b023ae-e46f-43a7-94be-e00a34c8bde3",
   "metadata": {
    "tags": []
   },
   "outputs": [],
   "source": [
    "chart = chart_utils.flow_chart_from_shape_trip_row(rt1_test.iloc[1], stop_times=bus_st, ridership=source_ridership,\n",
    "                              ridership_data_route='Rt 1A')"
   ]
  },
  {
   "cell_type": "code",
   "execution_count": null,
   "id": "277eded2-fe34-457c-b421-3d0b4f165f00",
   "metadata": {
    "tags": []
   },
   "outputs": [],
   "source": [
    "chart"
   ]
  },
  {
   "cell_type": "markdown",
   "id": "7b5d7c07-0a7d-417f-bb5c-f868aab9b0ab",
   "metadata": {},
   "source": [
    "## Route 1b"
   ]
  },
  {
   "cell_type": "code",
   "execution_count": null,
   "id": "edf5b647-07e1-40f8-bb70-0444f3be59d1",
   "metadata": {
    "tags": []
   },
   "outputs": [],
   "source": [
    "rt1b_test = sanj_long_shapes.query('route_id == \"1\"')"
   ]
  },
  {
   "cell_type": "code",
   "execution_count": null,
   "id": "3a6fd275-1bef-4f3f-bac3-8bdcb74b5f46",
   "metadata": {
    "tags": []
   },
   "outputs": [],
   "source": [
    "rt1b_test[['name', 'route_short_name', 'route_long_name', 'shape_id']]"
   ]
  },
  {
   "cell_type": "code",
   "execution_count": null,
   "id": "75ef3948-d864-44b9-a6a4-173a0ae387a7",
   "metadata": {
    "tags": []
   },
   "outputs": [],
   "source": [
    "chart = chart_utils.flow_chart_from_shape_trip_row(rt1b_test.iloc[0], stop_times=bus_st, ridership=source_ridership,\n",
    "                              ridership_data_route='Rt 1B')"
   ]
  },
  {
   "cell_type": "code",
   "execution_count": null,
   "id": "efde3409-d834-4bf7-8553-46b5a6db7f08",
   "metadata": {
    "tags": []
   },
   "outputs": [],
   "source": [
    "chart"
   ]
  },
  {
   "cell_type": "code",
   "execution_count": null,
   "id": "3ce2b62d-c216-4b82-9c7b-c5b53aaee7bc",
   "metadata": {
    "tags": []
   },
   "outputs": [],
   "source": [
    "chart = chart_utils.flow_chart_from_shape_trip_row(rt1b_test.iloc[1], stop_times=bus_st, ridership=source_ridership,\n",
    "                              ridership_data_route='Rt 1B')"
   ]
  },
  {
   "cell_type": "code",
   "execution_count": null,
   "id": "ad9eb2f3-8cfe-4618-95d1-5d147d7ee3b1",
   "metadata": {
    "tags": []
   },
   "outputs": [],
   "source": [
    "chart"
   ]
  },
  {
   "cell_type": "markdown",
   "id": "719543b6-94fe-4be0-accb-be241985a38c",
   "metadata": {},
   "source": [
    "## Route 1C"
   ]
  },
  {
   "cell_type": "code",
   "execution_count": null,
   "id": "6230859b-46a7-4953-87b1-e5734ba06044",
   "metadata": {
    "tags": []
   },
   "outputs": [],
   "source": [
    "rt1c_test = sanj_long_shapes.query('route_id == \"1c\"')"
   ]
  },
  {
   "cell_type": "code",
   "execution_count": null,
   "id": "bc118399-6cd0-472a-9d67-ae3160b5e9c2",
   "metadata": {
    "tags": []
   },
   "outputs": [],
   "source": [
    "rt1c_test[['name', 'route_short_name', 'route_long_name', 'shape_id']]"
   ]
  },
  {
   "cell_type": "code",
   "execution_count": null,
   "id": "74b6982d-2a15-4dc5-9f02-7f30df890d74",
   "metadata": {
    "tags": []
   },
   "outputs": [],
   "source": [
    "chart = chart_utils.flow_chart_from_shape_trip_row(rt1c_test.iloc[0], stop_times=bus_st, ridership=source_ridership,\n",
    "                              ridership_data_route='Rt 1C')"
   ]
  },
  {
   "cell_type": "code",
   "execution_count": null,
   "id": "662d1011-afb3-48ba-b11c-0b5cc363d892",
   "metadata": {
    "tags": []
   },
   "outputs": [],
   "source": [
    "chart"
   ]
  },
  {
   "cell_type": "code",
   "execution_count": null,
   "id": "b4518a40-8b7c-400f-a035-57444bca4f21",
   "metadata": {
    "tags": []
   },
   "outputs": [],
   "source": [
    "chart = chart_utils.flow_chart_from_shape_trip_row(rt1c_test.iloc[1], stop_times=bus_st, ridership=source_ridership,\n",
    "                              ridership_data_route='Rt 1C')"
   ]
  },
  {
   "cell_type": "code",
   "execution_count": null,
   "id": "e044ba89-7b40-4a8a-bd2d-b4fab01c2452",
   "metadata": {
    "tags": []
   },
   "outputs": [],
   "source": [
    "chart"
   ]
  },
  {
   "cell_type": "markdown",
   "id": "306bb579-a2c5-489b-92eb-b51a32dc5d91",
   "metadata": {},
   "source": [
    "## Route 3\n",
    "\n",
    "* Operated by RABA Chico - Redding, seems to create a data gap in that section"
   ]
  },
  {
   "cell_type": "code",
   "execution_count": null,
   "id": "96363119-895a-463b-aabe-fe69ea3d6e3b",
   "metadata": {
    "tags": []
   },
   "outputs": [],
   "source": [
    "rt3_test = sanj_long_shapes.query('route_id == \"3\"')"
   ]
  },
  {
   "cell_type": "code",
   "execution_count": null,
   "id": "6f47a525-3476-40b2-9be4-cf98c21d7a11",
   "metadata": {
    "tags": []
   },
   "outputs": [],
   "source": [
    "rt3_test[['name', 'route_short_name', 'route_long_name', 'shape_id']]"
   ]
  },
  {
   "cell_type": "code",
   "execution_count": null,
   "id": "10d3cbd6-c476-4dfb-83ac-9e22e0b4e85b",
   "metadata": {
    "tags": []
   },
   "outputs": [],
   "source": [
    "chart = chart_utils.flow_chart_from_shape_trip_row(rt3_test.iloc[0], stop_times=bus_st, ridership=source_ridership,\n",
    "                              # ridership_data_route='Rt 03'\n",
    "                                                  )"
   ]
  },
  {
   "cell_type": "code",
   "execution_count": null,
   "id": "a6d30839-1c27-426c-965c-84b6a9ee194b",
   "metadata": {
    "tags": []
   },
   "outputs": [],
   "source": [
    "chart"
   ]
  },
  {
   "cell_type": "code",
   "execution_count": null,
   "id": "cfc64f4f-107b-4ede-9e5e-86efcacc1ab3",
   "metadata": {
    "tags": []
   },
   "outputs": [],
   "source": [
    "chart = chart_utils.flow_chart_from_shape_trip_row(rt3_test.iloc[1], stop_times=bus_st, ridership=source_ridership,\n",
    "                              # ridership_data_route='Rt 03'\n",
    "                                                  )"
   ]
  },
  {
   "cell_type": "code",
   "execution_count": null,
   "id": "8f819285-494a-4b96-b44e-4781bd99be90",
   "metadata": {
    "tags": []
   },
   "outputs": [],
   "source": [
    "chart"
   ]
  },
  {
   "cell_type": "markdown",
   "id": "593e184d-13a5-42be-81c5-5f2127edbb09",
   "metadata": {},
   "source": [
    "## Route 6"
   ]
  },
  {
   "cell_type": "code",
   "execution_count": null,
   "id": "a1ffa0e3-262d-47f3-9920-6c98b059b693",
   "metadata": {
    "tags": []
   },
   "outputs": [],
   "source": [
    "rt6_test = sanj_long_shapes.query('route_id == \"6\"')"
   ]
  },
  {
   "cell_type": "code",
   "execution_count": null,
   "id": "b1ab01f1-2503-48aa-a31b-af46c3fbf50e",
   "metadata": {
    "tags": []
   },
   "outputs": [],
   "source": [
    "rt6_test[['name', 'route_short_name', 'route_long_name', 'shape_id']]"
   ]
  },
  {
   "cell_type": "code",
   "execution_count": null,
   "id": "9a39c141-b5c0-41f9-aaf1-34e97610293a",
   "metadata": {
    "tags": []
   },
   "outputs": [],
   "source": [
    "import chart_utils\n",
    "importlib.reload(chart_utils)"
   ]
  },
  {
   "cell_type": "code",
   "execution_count": null,
   "id": "daf4eae7-ef8d-45b4-b040-c1f64519f804",
   "metadata": {
    "tags": []
   },
   "outputs": [],
   "source": [
    "chart = chart_utils.flow_chart_from_shape_trip_row(rt6_test.iloc[0], stop_times=bus_st, ridership=source_ridership,\n",
    "                              ridership_data_route='Rt 06')"
   ]
  },
  {
   "cell_type": "code",
   "execution_count": null,
   "id": "475c0f1a-7864-4312-b48d-2de894961ece",
   "metadata": {
    "tags": []
   },
   "outputs": [],
   "source": [
    "chart"
   ]
  },
  {
   "cell_type": "code",
   "execution_count": null,
   "id": "d0e4d1cd-1530-4b75-b60a-d4a308511e0e",
   "metadata": {
    "tags": []
   },
   "outputs": [],
   "source": [
    "chart = chart_utils.flow_chart_from_shape_trip_row(rt6_test.iloc[1], stop_times=bus_st, ridership=source_ridership,\n",
    "                              ridership_data_route='Rt 06')"
   ]
  },
  {
   "cell_type": "code",
   "execution_count": null,
   "id": "253cc360-c689-4328-9399-168d62dcdce0",
   "metadata": {
    "tags": []
   },
   "outputs": [],
   "source": [
    "chart"
   ]
  },
  {
   "cell_type": "markdown",
   "id": "3b7381e7-6a2a-486f-92d5-175edcf5276b",
   "metadata": {
    "tags": []
   },
   "source": [
    "## Route 7"
   ]
  },
  {
   "cell_type": "code",
   "execution_count": null,
   "id": "c720f6b7-aa61-4d72-95ed-34156dc0a949",
   "metadata": {
    "tags": []
   },
   "outputs": [],
   "source": [
    "rt7_test = sanj_long_shapes.query('route_id == \"7\"')"
   ]
  },
  {
   "cell_type": "code",
   "execution_count": null,
   "id": "c035797e-bb23-456c-8dcd-9f34dc4c5536",
   "metadata": {
    "tags": []
   },
   "outputs": [],
   "source": [
    "rt7_test[['name', 'route_short_name', 'route_long_name', 'shape_id']]"
   ]
  },
  {
   "cell_type": "code",
   "execution_count": null,
   "id": "f55dd408-a6ce-4b9c-b04e-8f403d2168be",
   "metadata": {
    "tags": []
   },
   "outputs": [],
   "source": [
    "chart = chart_utils.flow_chart_from_shape_trip_row(rt7_test.iloc[0], stop_times=bus_st, ridership=source_ridership,\n",
    "                              ridership_data_route='Rt 07')"
   ]
  },
  {
   "cell_type": "code",
   "execution_count": null,
   "id": "52bc3ca3-5b61-4b1c-a258-3e17ff982503",
   "metadata": {
    "tags": []
   },
   "outputs": [],
   "source": [
    "chart"
   ]
  },
  {
   "cell_type": "code",
   "execution_count": null,
   "id": "c30dfee1-0c9f-4bc1-9667-09c2bb6ba5d3",
   "metadata": {
    "tags": []
   },
   "outputs": [],
   "source": [
    "chart = chart_utils.flow_chart_from_shape_trip_row(rt7_test.iloc[1], stop_times=bus_st, ridership=source_ridership,\n",
    "                              ridership_data_route='Rt 07'\n",
    "                                                  )"
   ]
  },
  {
   "cell_type": "code",
   "execution_count": null,
   "id": "5dc9e8c9-cef7-4797-97f3-885c448a70e0",
   "metadata": {
    "tags": []
   },
   "outputs": [],
   "source": [
    "chart"
   ]
  },
  {
   "cell_type": "markdown",
   "id": "1c406099-ebe1-49a2-bbad-7db647becac0",
   "metadata": {
    "tags": []
   },
   "source": [
    "## Route 10\n",
    "\n",
    "* Seems to function as two halves with train connection in the middle, but a few passengers can and do ride through (for example Santa Barbara - Las Vegas)"
   ]
  },
  {
   "cell_type": "code",
   "execution_count": null,
   "id": "19668ac4-70b2-414d-81a0-7fde4c1f5dcd",
   "metadata": {
    "tags": []
   },
   "outputs": [],
   "source": [
    "rt10_test = sanj_long_shapes.query('route_id == \"10\"')"
   ]
  },
  {
   "cell_type": "code",
   "execution_count": null,
   "id": "a50c5302-ae5d-45f7-80e6-81de238752b9",
   "metadata": {
    "tags": []
   },
   "outputs": [],
   "source": [
    "rt10_test[['name', 'route_short_name', 'route_long_name', 'shape_id']]"
   ]
  },
  {
   "cell_type": "code",
   "execution_count": null,
   "id": "fbf73b54-1268-471c-b07f-1c81348b3f15",
   "metadata": {
    "tags": []
   },
   "outputs": [],
   "source": [
    "chart = chart_utils.flow_chart_from_shape_trip_row(rt10_test.iloc[0], stop_times=bus_st, ridership=source_ridership,\n",
    "                              ridership_data_route='Rt 10'\n",
    "                                                  )"
   ]
  },
  {
   "cell_type": "code",
   "execution_count": null,
   "id": "3c9dd244-84f8-43e8-b898-c046da6121b5",
   "metadata": {
    "tags": []
   },
   "outputs": [],
   "source": [
    "chart"
   ]
  },
  {
   "cell_type": "code",
   "execution_count": null,
   "id": "95b4fdc4-8a41-4dc1-b072-975cb0bceb07",
   "metadata": {
    "tags": []
   },
   "outputs": [],
   "source": [
    "chart = chart_utils.flow_chart_from_shape_trip_row(rt10_test.iloc[1], stop_times=bus_st, ridership=source_ridership,\n",
    "                              ridership_data_route='Rt 10'\n",
    "                                                  )"
   ]
  },
  {
   "cell_type": "code",
   "execution_count": null,
   "id": "47170819-f0bd-4a50-9508-c3aa6497a0dd",
   "metadata": {
    "tags": []
   },
   "outputs": [],
   "source": [
    "chart"
   ]
  },
  {
   "cell_type": "markdown",
   "id": "f44d9451-fc45-44d4-81f6-073c04ef3751",
   "metadata": {
    "tags": []
   },
   "source": [
    "## Route 15a (YARTS)\n",
    "\n",
    "* some sort of bug on 15b, 15 (both also YARTS, will check later)"
   ]
  },
  {
   "cell_type": "code",
   "execution_count": null,
   "id": "29a42e9f-c867-4b40-a68e-926c95bd741b",
   "metadata": {
    "tags": []
   },
   "outputs": [],
   "source": [
    "rt15_test = sanj_long_shapes.query('route_id == \"15a\"')"
   ]
  },
  {
   "cell_type": "code",
   "execution_count": null,
   "id": "ffd61962-2c79-4407-901e-2e7647e85a32",
   "metadata": {
    "tags": []
   },
   "outputs": [],
   "source": [
    "rt15_test[['name', 'route_short_name', 'route_long_name', 'shape_id']]"
   ]
  },
  {
   "cell_type": "code",
   "execution_count": null,
   "id": "89517acf-0cc8-407b-8c0b-c26045730282",
   "metadata": {
    "tags": []
   },
   "outputs": [],
   "source": [
    "chart = chart_utils.flow_chart_from_shape_trip_row(rt15_test.iloc[0], stop_times=bus_st, ridership=source_ridership,\n",
    "                              ridership_data_route='Rt 15'\n",
    "                                                  )"
   ]
  },
  {
   "cell_type": "code",
   "execution_count": null,
   "id": "084b2679-5746-4425-9ddc-931ec7454932",
   "metadata": {
    "tags": []
   },
   "outputs": [],
   "source": [
    "chart"
   ]
  },
  {
   "cell_type": "code",
   "execution_count": null,
   "id": "ac6c8149-a6c2-403c-90d8-1bc9909d8906",
   "metadata": {
    "tags": []
   },
   "outputs": [],
   "source": [
    "chart = chart_utils.flow_chart_from_shape_trip_row(rt15_test.iloc[1], stop_times=bus_st, ridership=source_ridership,\n",
    "                              ridership_data_route='Rt 15'\n",
    "                                                  )"
   ]
  },
  {
   "cell_type": "code",
   "execution_count": null,
   "id": "cb9b0b56-87d9-4c63-a07c-98245fa3a4b2",
   "metadata": {
    "tags": []
   },
   "outputs": [],
   "source": [
    "chart"
   ]
  },
  {
   "cell_type": "markdown",
   "id": "da00dcfb-cac7-4650-b676-47a8a2d70ead",
   "metadata": {
    "tags": []
   },
   "source": [
    "## Route 18"
   ]
  },
  {
   "cell_type": "code",
   "execution_count": null,
   "id": "d135827b-3231-4046-8f21-45b71159e5c8",
   "metadata": {
    "tags": []
   },
   "outputs": [],
   "source": [
    "rt18_test = sanj_long_shapes.query('route_id == \"18\"')"
   ]
  },
  {
   "cell_type": "code",
   "execution_count": null,
   "id": "f1e06870-f35d-4cb0-a367-e539fae5f511",
   "metadata": {
    "tags": []
   },
   "outputs": [],
   "source": [
    "rt18_test[['name', 'route_short_name', 'route_long_name', 'shape_id']]"
   ]
  },
  {
   "cell_type": "code",
   "execution_count": null,
   "id": "d689dd60-910a-4ed2-94ef-4c639736c080",
   "metadata": {
    "tags": []
   },
   "outputs": [],
   "source": [
    "chart = chart_utils.flow_chart_from_shape_trip_row(rt18_test.iloc[0], stop_times=bus_st, ridership=source_ridership,\n",
    "                              ridership_data_route='Rt 18'\n",
    "                                                  )"
   ]
  },
  {
   "cell_type": "code",
   "execution_count": null,
   "id": "64c13169-4f6c-4c10-bc0f-415fe66ecd52",
   "metadata": {
    "tags": []
   },
   "outputs": [],
   "source": [
    "chart"
   ]
  },
  {
   "cell_type": "code",
   "execution_count": null,
   "id": "86d634cc-8a7b-4198-b01a-dad02dc192e7",
   "metadata": {
    "tags": []
   },
   "outputs": [],
   "source": [
    "chart = chart_utils.flow_chart_from_shape_trip_row(rt18_test.iloc[1], stop_times=bus_st, ridership=source_ridership,\n",
    "                              ridership_data_route='Rt 18'\n",
    "                                                  )"
   ]
  },
  {
   "cell_type": "code",
   "execution_count": null,
   "id": "4b8a32a9-eb78-4937-a856-3fbe5bc553f1",
   "metadata": {
    "tags": []
   },
   "outputs": [],
   "source": [
    "chart"
   ]
  },
  {
   "cell_type": "markdown",
   "id": "3c1ac5b6-a3cc-4095-9e50-d810c20756c8",
   "metadata": {},
   "source": [
    "## Route 19"
   ]
  },
  {
   "cell_type": "code",
   "execution_count": null,
   "id": "942687b0-6ec1-4c88-80ac-bad65bd39247",
   "metadata": {
    "tags": []
   },
   "outputs": [],
   "source": [
    "rt19_test = sanj_long_shapes.query('route_id == \"19\"')"
   ]
  },
  {
   "cell_type": "code",
   "execution_count": null,
   "id": "2704ede6-ecc0-4494-b4a8-85d9b89a2f4e",
   "metadata": {
    "tags": []
   },
   "outputs": [],
   "source": [
    "rt19_test[['name', 'route_short_name', 'route_long_name', 'shape_id']]"
   ]
  },
  {
   "cell_type": "code",
   "execution_count": null,
   "id": "32099ca0-5d80-4ad6-94ec-290dd8d33a46",
   "metadata": {
    "tags": []
   },
   "outputs": [],
   "source": [
    "chart = chart_utils.flow_chart_from_shape_trip_row(rt19_test.iloc[0], stop_times=bus_st, ridership=source_ridership,\n",
    "                              ridership_data_route='Rt 19')"
   ]
  },
  {
   "cell_type": "code",
   "execution_count": null,
   "id": "1be2ffbf-e619-4b62-992d-dbfa9024705b",
   "metadata": {
    "tags": []
   },
   "outputs": [],
   "source": [
    "chart"
   ]
  },
  {
   "cell_type": "code",
   "execution_count": null,
   "id": "721ca257-5a4f-4966-91d6-360ac91a339f",
   "metadata": {
    "tags": []
   },
   "outputs": [],
   "source": [
    "chart = chart_utils.flow_chart_from_shape_trip_row(rt19_test.iloc[1], stop_times=bus_st, ridership=source_ridership,\n",
    "                              ridership_data_route='Rt 19')"
   ]
  },
  {
   "cell_type": "code",
   "execution_count": null,
   "id": "8704a280-3a5b-48b7-a43b-4649f15a59e6",
   "metadata": {
    "tags": []
   },
   "outputs": [],
   "source": [
    "chart"
   ]
  },
  {
   "cell_type": "markdown",
   "id": "5eadd56c-7f9b-42cf-ae95-888ff22d3b7f",
   "metadata": {
    "tags": []
   },
   "source": [
    "## Route 20"
   ]
  },
  {
   "cell_type": "code",
   "execution_count": null,
   "id": "a892bc82-0513-4187-9b9a-79e63b019e56",
   "metadata": {
    "tags": []
   },
   "outputs": [],
   "source": [
    "rt20_test = sanj_long_shapes.query('route_id == \"20\"')"
   ]
  },
  {
   "cell_type": "code",
   "execution_count": null,
   "id": "50f51209-f20c-476c-afda-a09ba1bb423e",
   "metadata": {
    "tags": []
   },
   "outputs": [],
   "source": [
    "rt20_test[['name', 'route_short_name', 'route_long_name', 'shape_id']]"
   ]
  },
  {
   "cell_type": "code",
   "execution_count": null,
   "id": "2d3d7877-e8ab-43e7-aabf-035e998cac9b",
   "metadata": {
    "tags": []
   },
   "outputs": [],
   "source": [
    "chart = chart_utils.flow_chart_from_shape_trip_row(rt20_test.iloc[0], stop_times=bus_st, ridership=source_ridership,\n",
    "                              ridership_data_route='Rt 20')"
   ]
  },
  {
   "cell_type": "code",
   "execution_count": null,
   "id": "bfc7b6ab-cbf6-4b73-ac10-8924f7c09074",
   "metadata": {
    "tags": []
   },
   "outputs": [],
   "source": [
    "chart"
   ]
  },
  {
   "cell_type": "code",
   "execution_count": null,
   "id": "f1696b51-b826-4b53-b087-684e1a1f716c",
   "metadata": {
    "tags": []
   },
   "outputs": [],
   "source": [
    "chart = chart_utils.flow_chart_from_shape_trip_row(rt20_test.iloc[1], stop_times=bus_st, ridership=source_ridership,\n",
    "                              ridership_data_route='Rt 20')"
   ]
  },
  {
   "cell_type": "code",
   "execution_count": null,
   "id": "2a87aaab-711c-4693-82c1-30963423afe9",
   "metadata": {
    "tags": []
   },
   "outputs": [],
   "source": [
    "chart"
   ]
  },
  {
   "cell_type": "markdown",
   "id": "db8b8c9e-77f3-4367-b517-9eea959050ab",
   "metadata": {
    "tags": []
   },
   "source": [
    "## Route 20c"
   ]
  },
  {
   "cell_type": "code",
   "execution_count": null,
   "id": "01318b6c-8451-46a2-8b4c-a3dd50ec12e1",
   "metadata": {
    "tags": []
   },
   "outputs": [],
   "source": [
    "rt20c_test = sanj_long_shapes.query('route_id == \"20c\"')"
   ]
  },
  {
   "cell_type": "code",
   "execution_count": null,
   "id": "7edfeba0-db22-473d-ac64-628dc9f56478",
   "metadata": {
    "tags": []
   },
   "outputs": [],
   "source": [
    "rt20c_test[['name', 'route_short_name', 'route_long_name', 'shape_id']]"
   ]
  },
  {
   "cell_type": "code",
   "execution_count": null,
   "id": "4742d71b-f374-466e-814d-d0d9bd4baf87",
   "metadata": {
    "tags": []
   },
   "outputs": [],
   "source": [
    "chart = chart_utils.flow_chart_from_shape_trip_row(rt20c_test.iloc[0], stop_times=bus_st, ridership=source_ridership,\n",
    "                              ridership_data_route='Rt 20'\n",
    "                                                  )"
   ]
  },
  {
   "cell_type": "code",
   "execution_count": null,
   "id": "082eaa18-9173-4091-bf8b-77984cba72a9",
   "metadata": {
    "tags": []
   },
   "outputs": [],
   "source": [
    "chart"
   ]
  },
  {
   "cell_type": "code",
   "execution_count": null,
   "id": "38a77ba9-d6bd-42bb-b792-d2eb05ad5ec1",
   "metadata": {
    "tags": []
   },
   "outputs": [],
   "source": [
    "chart = chart_utils.flow_chart_from_shape_trip_row(rt20c_test.iloc[1], stop_times=bus_st, ridership=source_ridership,\n",
    "                              ridership_data_route='Rt 20'\n",
    "                                                  )"
   ]
  },
  {
   "cell_type": "code",
   "execution_count": null,
   "id": "1c3f9baa-ff91-4668-b25c-da7ccc41dd55",
   "metadata": {
    "tags": []
   },
   "outputs": [],
   "source": [
    "chart"
   ]
  },
  {
   "cell_type": "markdown",
   "id": "9ec26c6f-d2cc-49f7-8c3b-53489758d6e3",
   "metadata": {},
   "source": [
    "## Route 99"
   ]
  },
  {
   "cell_type": "code",
   "execution_count": null,
   "id": "a1010f7e-3293-4471-825e-0966f2d595f0",
   "metadata": {
    "tags": []
   },
   "outputs": [],
   "source": [
    "rt99_test = sanj_long_shapes.query('route_id == \"99\"')"
   ]
  },
  {
   "cell_type": "code",
   "execution_count": null,
   "id": "238307d7-c1cf-49a8-8fd3-7f484ba6e4b7",
   "metadata": {
    "tags": []
   },
   "outputs": [],
   "source": [
    "rt99_test[['name', 'route_short_name', 'route_long_name', 'shape_id']]"
   ]
  },
  {
   "cell_type": "code",
   "execution_count": null,
   "id": "42f9ef9c-5b72-4fec-ba9e-84030f53ab9c",
   "metadata": {
    "tags": []
   },
   "outputs": [],
   "source": [
    "chart = chart_utils.flow_chart_from_shape_trip_row(rt99_test.iloc[0], stop_times=bus_st, ridership=source_ridership,\n",
    "                              ridership_data_route='Rt 99')"
   ]
  },
  {
   "cell_type": "code",
   "execution_count": null,
   "id": "19bb39f4-9c32-4ba3-96df-4b017e5b69e8",
   "metadata": {
    "tags": []
   },
   "outputs": [],
   "source": [
    "chart"
   ]
  },
  {
   "cell_type": "code",
   "execution_count": null,
   "id": "cc7a71c1-cb77-407e-9879-03f97c57c9db",
   "metadata": {
    "tags": []
   },
   "outputs": [],
   "source": [
    "chart = chart_utils.flow_chart_from_shape_trip_row(rt99_test.iloc[1], stop_times=bus_st, ridership=source_ridership,\n",
    "                              ridership_data_route='Rt 99')"
   ]
  },
  {
   "cell_type": "code",
   "execution_count": null,
   "id": "f6b7e71e-eaa0-40fd-bc96-b56c3027ceb5",
   "metadata": {
    "tags": []
   },
   "outputs": [],
   "source": [
    "chart"
   ]
  }
 ],
 "metadata": {
  "kernelspec": {
   "display_name": "Python 3 (ipykernel)",
   "language": "python",
   "name": "python3"
  },
  "language_info": {
   "codemirror_mode": {
    "name": "ipython",
    "version": 3
   },
   "file_extension": ".py",
   "mimetype": "text/x-python",
   "name": "python",
   "nbconvert_exporter": "python",
   "pygments_lexer": "ipython3",
   "version": "3.11.10"
  },
  "widgets": {
   "application/vnd.jupyter.widget-state+json": {
    "state": {},
    "version_major": 2,
    "version_minor": 0
   }
  }
 },
 "nbformat": 4,
 "nbformat_minor": 5
}
