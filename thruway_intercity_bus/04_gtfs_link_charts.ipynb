{
 "cells": [
  {
   "cell_type": "code",
   "execution_count": 1,
   "id": "a31d74df-cbb5-4066-ae86-1d105ee39a53",
   "metadata": {
    "tags": []
   },
   "outputs": [],
   "source": [
    "import pandas as pd\n",
    "import geopandas as gpd\n",
    "from calitp_data_analysis.sql import query_sql\n",
    "from calitp_data_analysis.gcs_geopandas import GCSGeoPandas\n",
    "from calitp_data_analysis.geography_utils import CA_NAD83Albers_m, WGS84\n",
    "gcsgp = GCSGeoPandas()\n",
    "from shared_utils import gtfs_utils_v2\n",
    "from shared_utils.rt_utils import show_full_df\n",
    "\n",
    "import utils\n",
    "import update_vars"
   ]
  },
  {
   "cell_type": "markdown",
   "id": "475883c3-a956-46bb-993a-d31860ec1689",
   "metadata": {
    "tags": []
   },
   "source": [
    "# Create utils to get stop sequence and distance info for ridership charts\n",
    "\n",
    "* currently blocked o"
   ]
  },
  {
   "cell_type": "code",
   "execution_count": 2,
   "id": "5fcac348-575c-4359-a9d1-66842889e40b",
   "metadata": {
    "tags": []
   },
   "outputs": [],
   "source": [
    "analysis_date = update_vars.ANALYSIS_DATE"
   ]
  },
  {
   "cell_type": "code",
   "execution_count": 3,
   "id": "8cae391e-e1e9-4023-a835-e84ef87143e8",
   "metadata": {
    "tags": []
   },
   "outputs": [],
   "source": [
    "ca = gcsgp.read_parquet('gs://calitp-analytics-data/data-analyses/high_quality_transit_areas/ca_boundary.parquet')"
   ]
  },
  {
   "cell_type": "markdown",
   "id": "6530f2a4-43eb-4a45-ba9b-72cb1a10fbba",
   "metadata": {},
   "source": [
    "## New SJJPA San Joaquins feed"
   ]
  },
  {
   "cell_type": "code",
   "execution_count": 4,
   "id": "3ff078c8-0fda-4890-8b76-c03518572564",
   "metadata": {
    "tags": []
   },
   "outputs": [],
   "source": [
    "feeds = gtfs_utils_v2.schedule_daily_feed_to_gtfs_dataset_name(analysis_date)"
   ]
  },
  {
   "cell_type": "code",
   "execution_count": 5,
   "id": "358e7cc1-5d2f-41a8-8286-244f0417af86",
   "metadata": {
    "tags": []
   },
   "outputs": [
    {
     "data": {
      "text/html": [
       "<div>\n",
       "<style scoped>\n",
       "    .dataframe tbody tr th:only-of-type {\n",
       "        vertical-align: middle;\n",
       "    }\n",
       "\n",
       "    .dataframe tbody tr th {\n",
       "        vertical-align: top;\n",
       "    }\n",
       "\n",
       "    .dataframe thead th {\n",
       "        text-align: right;\n",
       "    }\n",
       "</style>\n",
       "<table border=\"1\" class=\"dataframe\">\n",
       "  <thead>\n",
       "    <tr style=\"text-align: right;\">\n",
       "      <th></th>\n",
       "      <th>key</th>\n",
       "      <th>date</th>\n",
       "      <th>feed_key</th>\n",
       "      <th>feed_timezone</th>\n",
       "      <th>base64_url</th>\n",
       "      <th>gtfs_dataset_key</th>\n",
       "      <th>name</th>\n",
       "      <th>type</th>\n",
       "      <th>regional_feed_type</th>\n",
       "    </tr>\n",
       "  </thead>\n",
       "  <tbody>\n",
       "    <tr>\n",
       "      <th>72</th>\n",
       "      <td>d531c079e5f22d71e999525d72e81453</td>\n",
       "      <td>2025-09-01</td>\n",
       "      <td>42ca573996762b5bf9b2930e0a0c9d8d</td>\n",
       "      <td>America/Los_Angeles</td>\n",
       "      <td>aHR0cHM6Ly9kMzR0aXc2NG41ejRvaC5jbG91ZGZyb250Lm...</td>\n",
       "      <td>524ea6209600e9a2de34a02cf9068729</td>\n",
       "      <td>Amtrak San Joaquins Schedule</td>\n",
       "      <td>schedule</td>\n",
       "      <td>None</td>\n",
       "    </tr>\n",
       "  </tbody>\n",
       "</table>\n",
       "</div>"
      ],
      "text/plain": [
       "                                 key       date  \\\n",
       "72  d531c079e5f22d71e999525d72e81453 2025-09-01   \n",
       "\n",
       "                            feed_key        feed_timezone  \\\n",
       "72  42ca573996762b5bf9b2930e0a0c9d8d  America/Los_Angeles   \n",
       "\n",
       "                                           base64_url  \\\n",
       "72  aHR0cHM6Ly9kMzR0aXc2NG41ejRvaC5jbG91ZGZyb250Lm...   \n",
       "\n",
       "                    gtfs_dataset_key                          name      type  \\\n",
       "72  524ea6209600e9a2de34a02cf9068729  Amtrak San Joaquins Schedule  schedule   \n",
       "\n",
       "   regional_feed_type  \n",
       "72               None  "
      ]
     },
     "execution_count": 5,
     "metadata": {},
     "output_type": "execute_result"
    }
   ],
   "source": [
    "sanj = feeds.query('name.str.contains(\"Amtrak San J\")')\n",
    "sanj"
   ]
  },
  {
   "cell_type": "code",
   "execution_count": 6,
   "id": "9869f841-0975-4d06-b4b0-63ba70c87016",
   "metadata": {
    "tags": []
   },
   "outputs": [
    {
     "name": "stderr",
     "output_type": "stream",
     "text": [
      "/opt/conda/lib/python3.11/site-packages/sqlalchemy_bigquery/_types.py:101: SAWarning: Did not recognize type 'GEOGRAPHY' of column 'pt_array'\n",
      "  sqlalchemy.util.warn(\n"
     ]
    }
   ],
   "source": [
    "sanj_shapes = gtfs_utils_v2.get_shapes(analysis_date, operator_feeds=sanj.feed_key, shape_cols=update_vars.shape_cols)"
   ]
  },
  {
   "cell_type": "code",
   "execution_count": 7,
   "id": "c5152ae4-7357-4467-b227-4f64ea65c728",
   "metadata": {
    "tags": []
   },
   "outputs": [],
   "source": [
    "sanj_trips = gtfs_utils_v2.get_trips(analysis_date, operator_feeds=sanj.feed_key, trip_cols=update_vars.trip_cols)"
   ]
  },
  {
   "cell_type": "code",
   "execution_count": 14,
   "id": "06dde7ba-7d72-416b-8143-6390c993c3d3",
   "metadata": {
    "tags": []
   },
   "outputs": [
    {
     "data": {
      "text/html": [
       "<div>\n",
       "<style scoped>\n",
       "    .dataframe tbody tr th:only-of-type {\n",
       "        vertical-align: middle;\n",
       "    }\n",
       "\n",
       "    .dataframe tbody tr th {\n",
       "        vertical-align: top;\n",
       "    }\n",
       "\n",
       "    .dataframe thead th {\n",
       "        text-align: right;\n",
       "    }\n",
       "</style>\n",
       "<table border=\"1\" class=\"dataframe\">\n",
       "  <thead>\n",
       "    <tr style=\"text-align: right;\">\n",
       "      <th></th>\n",
       "      <th>trip_instance_key</th>\n",
       "      <th>trip_id</th>\n",
       "      <th>trip_short_name</th>\n",
       "      <th>base64_url</th>\n",
       "      <th>feed_key</th>\n",
       "      <th>name</th>\n",
       "      <th>regional_feed_type</th>\n",
       "      <th>gtfs_dataset_key</th>\n",
       "      <th>service_date</th>\n",
       "      <th>direction_id</th>\n",
       "      <th>...</th>\n",
       "      <th>route_key</th>\n",
       "      <th>route_id</th>\n",
       "      <th>route_type</th>\n",
       "      <th>route_short_name</th>\n",
       "      <th>route_long_name</th>\n",
       "      <th>route_desc</th>\n",
       "      <th>agency_id</th>\n",
       "      <th>network_id</th>\n",
       "      <th>shape_array_key</th>\n",
       "      <th>shape_id</th>\n",
       "    </tr>\n",
       "  </thead>\n",
       "  <tbody>\n",
       "  </tbody>\n",
       "</table>\n",
       "<p>0 rows × 21 columns</p>\n",
       "</div>"
      ],
      "text/plain": [
       "Empty DataFrame\n",
       "Columns: [trip_instance_key, trip_id, trip_short_name, base64_url, feed_key, name, regional_feed_type, gtfs_dataset_key, service_date, direction_id, block_id, route_key, route_id, route_type, route_short_name, route_long_name, route_desc, agency_id, network_id, shape_array_key, shape_id]\n",
       "Index: []\n",
       "\n",
       "[0 rows x 21 columns]"
      ]
     },
     "execution_count": 14,
     "metadata": {},
     "output_type": "execute_result"
    }
   ],
   "source": [
    "sanj_trips"
   ]
  },
  {
   "cell_type": "code",
   "execution_count": 8,
   "id": "2fa83c06-3b80-48e5-8312-7eb31dadf79c",
   "metadata": {
    "tags": []
   },
   "outputs": [
    {
     "name": "stderr",
     "output_type": "stream",
     "text": [
      "/opt/conda/lib/python3.11/site-packages/sqlalchemy_bigquery/_types.py:101: SAWarning: Did not recognize type 'GEOGRAPHY' of column 'pt_geom'\n",
      "  sqlalchemy.util.warn(\n"
     ]
    }
   ],
   "source": [
    "sanj_stops = gtfs_utils_v2.get_stops(analysis_date, operator_feeds=sanj.feed_key, stop_cols=update_vars.stop_cols)"
   ]
  },
  {
   "cell_type": "code",
   "execution_count": 9,
   "id": "4e23a1f5-2a27-4f96-9ce1-af646cfa7429",
   "metadata": {
    "tags": []
   },
   "outputs": [
    {
     "name": "stderr",
     "output_type": "stream",
     "text": [
      "/opt/conda/lib/python3.11/site-packages/sqlalchemy_bigquery/_types.py:101: SAWarning: Did not recognize type 'INTERVAL' of column 'arrival_time_interval'\n",
      "  sqlalchemy.util.warn(\n",
      "/opt/conda/lib/python3.11/site-packages/sqlalchemy_bigquery/_types.py:101: SAWarning: Did not recognize type 'INTERVAL' of column 'departure_time_interval'\n",
      "  sqlalchemy.util.warn(\n",
      "/opt/conda/lib/python3.11/site-packages/sqlalchemy_bigquery/_types.py:101: SAWarning: Did not recognize type 'INTERVAL' of column 'start_pickup_drop_off_window_interval'\n",
      "  sqlalchemy.util.warn(\n",
      "/opt/conda/lib/python3.11/site-packages/sqlalchemy_bigquery/_types.py:101: SAWarning: Did not recognize type 'INTERVAL' of column 'end_pickup_drop_off_window_interval'\n",
      "  sqlalchemy.util.warn(\n"
     ]
    }
   ],
   "source": [
    "sanj_st = gtfs_utils_v2.get_stop_times(analysis_date, operator_feeds=sanj.feed_key, get_df=True,\n",
    "                                      trip_df = sanj_trips, stop_time_cols=update_vars.stop_time_cols)"
   ]
  },
  {
   "cell_type": "code",
   "execution_count": 10,
   "id": "0d21e56c-6cb1-4388-bec6-9ee9e6abe14a",
   "metadata": {
    "tags": []
   },
   "outputs": [
    {
     "data": {
      "text/html": [
       "<div>\n",
       "<style scoped>\n",
       "    .dataframe tbody tr th:only-of-type {\n",
       "        vertical-align: middle;\n",
       "    }\n",
       "\n",
       "    .dataframe tbody tr th {\n",
       "        vertical-align: top;\n",
       "    }\n",
       "\n",
       "    .dataframe thead th {\n",
       "        text-align: right;\n",
       "    }\n",
       "</style>\n",
       "<table border=\"1\" class=\"dataframe\">\n",
       "  <thead>\n",
       "    <tr style=\"text-align: right;\">\n",
       "      <th></th>\n",
       "      <th>trip_instance_key</th>\n",
       "      <th>trip_id</th>\n",
       "      <th>trip_short_name</th>\n",
       "      <th>base64_url</th>\n",
       "      <th>feed_key</th>\n",
       "      <th>name</th>\n",
       "      <th>regional_feed_type</th>\n",
       "      <th>gtfs_dataset_key</th>\n",
       "      <th>service_date</th>\n",
       "      <th>direction_id</th>\n",
       "      <th>...</th>\n",
       "      <th>route_key</th>\n",
       "      <th>route_id</th>\n",
       "      <th>route_type</th>\n",
       "      <th>route_short_name</th>\n",
       "      <th>route_long_name</th>\n",
       "      <th>route_desc</th>\n",
       "      <th>agency_id</th>\n",
       "      <th>network_id</th>\n",
       "      <th>shape_array_key</th>\n",
       "      <th>shape_id</th>\n",
       "    </tr>\n",
       "  </thead>\n",
       "  <tbody>\n",
       "  </tbody>\n",
       "</table>\n",
       "<p>0 rows × 21 columns</p>\n",
       "</div>"
      ],
      "text/plain": [
       "Empty DataFrame\n",
       "Columns: [trip_instance_key, trip_id, trip_short_name, base64_url, feed_key, name, regional_feed_type, gtfs_dataset_key, service_date, direction_id, block_id, route_key, route_id, route_type, route_short_name, route_long_name, route_desc, agency_id, network_id, shape_array_key, shape_id]\n",
       "Index: []\n",
       "\n",
       "[0 rows x 21 columns]"
      ]
     },
     "execution_count": 10,
     "metadata": {},
     "output_type": "execute_result"
    }
   ],
   "source": [
    "sanj_trips.query('route_type == \"2\"')"
   ]
  },
  {
   "cell_type": "code",
   "execution_count": 11,
   "id": "5c4fce32-eed1-489f-8c3e-0332e096c94b",
   "metadata": {
    "tags": []
   },
   "outputs": [
    {
     "data": {
      "text/html": [
       "<div>\n",
       "<style scoped>\n",
       "    .dataframe tbody tr th:only-of-type {\n",
       "        vertical-align: middle;\n",
       "    }\n",
       "\n",
       "    .dataframe tbody tr th {\n",
       "        vertical-align: top;\n",
       "    }\n",
       "\n",
       "    .dataframe thead th {\n",
       "        text-align: right;\n",
       "    }\n",
       "</style>\n",
       "<table border=\"1\" class=\"dataframe\">\n",
       "  <thead>\n",
       "    <tr style=\"text-align: right;\">\n",
       "      <th></th>\n",
       "      <th></th>\n",
       "      <th>trip_instance_key</th>\n",
       "    </tr>\n",
       "    <tr>\n",
       "      <th>route_short_name</th>\n",
       "      <th>route_long_name</th>\n",
       "      <th></th>\n",
       "    </tr>\n",
       "  </thead>\n",
       "  <tbody>\n",
       "  </tbody>\n",
       "</table>\n",
       "</div>"
      ],
      "text/plain": [
       "Empty DataFrame\n",
       "Columns: [trip_instance_key]\n",
       "Index: []"
      ]
     },
     "execution_count": 11,
     "metadata": {},
     "output_type": "execute_result"
    }
   ],
   "source": [
    "sanj_trips[['route_short_name', 'route_long_name', 'trip_instance_key']].groupby(['route_short_name', 'route_long_name']).count()"
   ]
  },
  {
   "cell_type": "code",
   "execution_count": 12,
   "id": "961206c2-548e-49b1-b1db-7bb2e9eaa3df",
   "metadata": {
    "tags": []
   },
   "outputs": [],
   "source": [
    "sanj_shapes_trip_info = sanj_shapes.merge(sanj_trips.drop_duplicates(subset=['shape_array_key']), on = ['shape_array_key', 'feed_key'])"
   ]
  },
  {
   "cell_type": "code",
   "execution_count": 13,
   "id": "86a3ec1c-68b0-493d-878e-38446c072993",
   "metadata": {
    "tags": []
   },
   "outputs": [],
   "source": [
    "# sanj_shapes_trip_info.drop(columns=['service_date']).explore(column='route_long_name')"
   ]
  },
  {
   "cell_type": "code",
   "execution_count": 41,
   "id": "c7d9673f-6d69-4481-88d5-5e91c81206af",
   "metadata": {
    "tags": []
   },
   "outputs": [
    {
     "data": {
      "text/html": [
       "<div>\n",
       "<style scoped>\n",
       "    .dataframe tbody tr th:only-of-type {\n",
       "        vertical-align: middle;\n",
       "    }\n",
       "\n",
       "    .dataframe tbody tr th {\n",
       "        vertical-align: top;\n",
       "    }\n",
       "\n",
       "    .dataframe thead th {\n",
       "        text-align: right;\n",
       "    }\n",
       "</style>\n",
       "<table border=\"1\" class=\"dataframe\">\n",
       "  <thead>\n",
       "    <tr style=\"text-align: right;\">\n",
       "      <th></th>\n",
       "      <th>trip_instance_key</th>\n",
       "      <th>trip_id</th>\n",
       "      <th>trip_short_name</th>\n",
       "      <th>base64_url</th>\n",
       "      <th>feed_key</th>\n",
       "      <th>name</th>\n",
       "      <th>regional_feed_type</th>\n",
       "      <th>gtfs_dataset_key</th>\n",
       "      <th>service_date</th>\n",
       "      <th>direction_id</th>\n",
       "      <th>...</th>\n",
       "      <th>route_key</th>\n",
       "      <th>route_id</th>\n",
       "      <th>route_type</th>\n",
       "      <th>route_short_name</th>\n",
       "      <th>route_long_name</th>\n",
       "      <th>route_desc</th>\n",
       "      <th>agency_id</th>\n",
       "      <th>network_id</th>\n",
       "      <th>shape_array_key</th>\n",
       "      <th>shape_id</th>\n",
       "    </tr>\n",
       "  </thead>\n",
       "  <tbody>\n",
       "  </tbody>\n",
       "</table>\n",
       "<p>0 rows × 21 columns</p>\n",
       "</div>"
      ],
      "text/plain": [
       "Empty DataFrame\n",
       "Columns: [trip_instance_key, trip_id, trip_short_name, base64_url, feed_key, name, regional_feed_type, gtfs_dataset_key, service_date, direction_id, block_id, route_key, route_id, route_type, route_short_name, route_long_name, route_desc, agency_id, network_id, shape_array_key, shape_id]\n",
       "Index: []\n",
       "\n",
       "[0 rows x 21 columns]"
      ]
     },
     "execution_count": 41,
     "metadata": {},
     "output_type": "execute_result"
    }
   ],
   "source": [
    "sanj_trips.query('route_short_name == \"Route 99\"')"
   ]
  },
  {
   "cell_type": "code",
   "execution_count": null,
   "id": "038d8e79-2a73-49bd-ab31-48578e51363f",
   "metadata": {},
   "outputs": [],
   "source": []
  }
 ],
 "metadata": {
  "kernelspec": {
   "display_name": "Python 3 (ipykernel)",
   "language": "python",
   "name": "python3"
  },
  "language_info": {
   "codemirror_mode": {
    "name": "ipython",
    "version": 3
   },
   "file_extension": ".py",
   "mimetype": "text/x-python",
   "name": "python",
   "nbconvert_exporter": "python",
   "pygments_lexer": "ipython3",
   "version": "3.11.10"
  },
  "widgets": {
   "application/vnd.jupyter.widget-state+json": {
    "state": {},
    "version_major": 2,
    "version_minor": 0
   }
  }
 },
 "nbformat": 4,
 "nbformat_minor": 5
}
